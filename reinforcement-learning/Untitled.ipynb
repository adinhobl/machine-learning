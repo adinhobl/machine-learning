{
 "cells": [
  {
   "cell_type": "code",
   "execution_count": 9,
   "metadata": {},
   "outputs": [
    {
     "ename": "ModuleNotFoundError",
     "evalue": "No module named 'pymdptoolbox'",
     "output_type": "error",
     "traceback": [
      "\u001b[0;31m---------------------------------------------------------------------------\u001b[0m",
      "\u001b[0;31mModuleNotFoundError\u001b[0m                       Traceback (most recent call last)",
      "\u001b[0;32m<ipython-input-9-156db3e8efb9>\u001b[0m in \u001b[0;36m<module>\u001b[0;34m\u001b[0m\n\u001b[1;32m      1\u001b[0m \u001b[0;32mimport\u001b[0m \u001b[0mmatplotlib\u001b[0m\u001b[0;34m\u001b[0m\u001b[0;34m\u001b[0m\u001b[0m\n\u001b[0;32m----> 2\u001b[0;31m \u001b[0;32mimport\u001b[0m \u001b[0mpymdptoolbox\u001b[0m\u001b[0;34m\u001b[0m\u001b[0;34m\u001b[0m\u001b[0m\n\u001b[0m",
      "\u001b[0;31mModuleNotFoundError\u001b[0m: No module named 'pymdptoolbox'"
     ]
    }
   ],
   "source": [
    "import matplotlib\n",
    "import pymdptoolbox"
   ]
  },
  {
   "cell_type": "code",
   "execution_count": 2,
   "metadata": {},
   "outputs": [
    {
     "ename": "ModuleNotFoundError",
     "evalue": "No module named 'mdptoolbox'",
     "output_type": "error",
     "traceback": [
      "\u001b[0;31m---------------------------------------------------------------------------\u001b[0m",
      "\u001b[0;31mModuleNotFoundError\u001b[0m                       Traceback (most recent call last)",
      "\u001b[0;32m<ipython-input-2-39da130dc108>\u001b[0m in \u001b[0;36m<module>\u001b[0;34m\u001b[0m\n\u001b[0;32m----> 1\u001b[0;31m \u001b[0;32mimport\u001b[0m \u001b[0mmdptoolbox\u001b[0m\u001b[0;34m.\u001b[0m\u001b[0mexample\u001b[0m\u001b[0;34m\u001b[0m\u001b[0;34m\u001b[0m\u001b[0m\n\u001b[0m\u001b[1;32m      2\u001b[0m \u001b[0mP\u001b[0m\u001b[0;34m,\u001b[0m \u001b[0mR\u001b[0m \u001b[0;34m=\u001b[0m \u001b[0mmdptoolbox\u001b[0m\u001b[0;34m.\u001b[0m\u001b[0mexample\u001b[0m\u001b[0;34m.\u001b[0m\u001b[0mforest\u001b[0m\u001b[0;34m(\u001b[0m\u001b[0;34m)\u001b[0m\u001b[0;34m\u001b[0m\u001b[0;34m\u001b[0m\u001b[0m\n\u001b[1;32m      3\u001b[0m \u001b[0mvi\u001b[0m \u001b[0;34m=\u001b[0m \u001b[0mmdptoolbox\u001b[0m\u001b[0;34m.\u001b[0m\u001b[0mmdp\u001b[0m\u001b[0;34m.\u001b[0m\u001b[0mValueIteration\u001b[0m\u001b[0;34m(\u001b[0m\u001b[0mP\u001b[0m\u001b[0;34m,\u001b[0m \u001b[0mR\u001b[0m\u001b[0;34m,\u001b[0m \u001b[0;36m0.9\u001b[0m\u001b[0;34m)\u001b[0m\u001b[0;34m\u001b[0m\u001b[0;34m\u001b[0m\u001b[0m\n\u001b[1;32m      4\u001b[0m \u001b[0mvi\u001b[0m\u001b[0;34m.\u001b[0m\u001b[0mrun\u001b[0m\u001b[0;34m(\u001b[0m\u001b[0;34m)\u001b[0m\u001b[0;34m\u001b[0m\u001b[0;34m\u001b[0m\u001b[0m\n\u001b[1;32m      5\u001b[0m \u001b[0mvi\u001b[0m\u001b[0;34m.\u001b[0m\u001b[0mpolicy\u001b[0m \u001b[0;31m# result is (0, 0, 0)\u001b[0m\u001b[0;34m\u001b[0m\u001b[0;34m\u001b[0m\u001b[0m\n",
      "\u001b[0;31mModuleNotFoundError\u001b[0m: No module named 'mdptoolbox'"
     ]
    }
   ],
   "source": [
    "import mdptoolbox.example\n",
    "P, R = mdptoolbox.example.forest()\n",
    "vi = mdptoolbox.mdp.ValueIteration(P, R, 0.9)\n",
    "vi.run()\n",
    "vi.policy # result is (0, 0, 0)"
   ]
  },
  {
   "cell_type": "code",
   "execution_count": 3,
   "metadata": {},
   "outputs": [
    {
     "name": "stdout",
     "output_type": "stream",
     "text": [
      "# packages in environment at /home/andrew/miniconda3/envs/julia:\r\n",
      "#\r\n",
      "# Name                    Version                   Build  Channel\r\n",
      "_libgcc_mutex             0.1                        main  \r\n",
      "argon2-cffi               20.1.0           py37h7b6447c_1  \r\n",
      "async_generator           1.10             py37h28b3542_0  \r\n",
      "attrs                     20.2.0                     py_0  \r\n",
      "backcall                  0.2.0                      py_0  \r\n",
      "blas                      1.0                         mkl  \r\n",
      "bleach                    3.2.1                      py_0  \r\n",
      "ca-certificates           2020.10.14                    0  \r\n",
      "certifi                   2020.6.20          pyhd3eb1b0_3  \r\n",
      "cffi                      1.14.3           py37he30daa8_0  \r\n",
      "cloudpickle               1.6.0                    pypi_0    pypi\r\n",
      "cycler                    0.10.0                   py37_0  \r\n",
      "dbus                      1.13.18              hb2f20db_0  \r\n",
      "decorator                 4.4.2                      py_0  \r\n",
      "defusedxml                0.6.0                      py_0  \r\n",
      "entrypoints               0.3                      py37_0  \r\n",
      "expat                     2.2.10               he6710b0_2  \r\n",
      "fontconfig                2.13.0               h9420a91_0  \r\n",
      "freetype                  2.10.4               h5ab3b9f_0  \r\n",
      "future                    0.18.2                   pypi_0    pypi\r\n",
      "glib                      2.66.1               h92f7085_0  \r\n",
      "gst-plugins-base          1.14.0               hbbd80ab_1  \r\n",
      "gstreamer                 1.14.0               hb31296c_0  \r\n",
      "gym                       0.17.3                   pypi_0    pypi\r\n",
      "icu                       58.2                 he6710b0_3  \r\n",
      "importlib-metadata        2.0.0                      py_1  \r\n",
      "importlib_metadata        2.0.0                         1  \r\n",
      "intel-openmp              2020.2                      254  \r\n",
      "ipykernel                 5.3.4            py37h5ca1d4c_0  \r\n",
      "ipython                   7.18.1           py37h5ca1d4c_0  \r\n",
      "ipython_genutils          0.2.0                    py37_0  \r\n",
      "ipywidgets                7.5.1                      py_1  \r\n",
      "jedi                      0.17.2                   py37_0  \r\n",
      "jinja2                    2.11.2                     py_0  \r\n",
      "joblib                    0.17.0                     py_0  \r\n",
      "jpeg                      9b                   h024ee3a_2  \r\n",
      "jsonschema                3.2.0                      py_2  \r\n",
      "jupyter                   1.0.0                    py37_7  \r\n",
      "jupyter_client            6.1.7                      py_0  \r\n",
      "jupyter_console           6.2.0                      py_0  \r\n",
      "jupyter_core              4.6.3                    py37_0  \r\n",
      "jupyterlab_pygments       0.1.2                      py_0  \r\n",
      "kiwisolver                1.3.0            py37h2531618_0  \r\n",
      "lcms2                     2.11                 h396b838_0  \r\n",
      "ld_impl_linux-64          2.33.1               h53a641e_7  \r\n",
      "libedit                   3.1.20191231         h14c3975_1  \r\n",
      "libffi                    3.3                  he6710b0_2  \r\n",
      "libgcc-ng                 9.1.0                hdf63c60_0  \r\n",
      "libgfortran-ng            7.3.0                hdf63c60_0  \r\n",
      "libpng                    1.6.37               hbc83047_0  \r\n",
      "libsodium                 1.0.18               h7b6447c_0  \r\n",
      "libstdcxx-ng              9.1.0                hdf63c60_0  \r\n",
      "libtiff                   4.1.0                h2733197_1  \r\n",
      "libuuid                   1.0.3                h1bed415_2  \r\n",
      "libxcb                    1.14                 h7b6447c_0  \r\n",
      "libxml2                   2.9.10               hb55368b_3  \r\n",
      "lz4-c                     1.9.2                heb0550a_3  \r\n",
      "markupsafe                1.1.1            py37h14c3975_1  \r\n",
      "matplotlib                3.3.2                         0  \r\n",
      "matplotlib-base           3.3.2            py37h817c723_0  \r\n",
      "mdptoolbox-hiive          4.0.3.1                  pypi_0    pypi\r\n",
      "mistune                   0.8.4           py37h14c3975_1001  \r\n",
      "mkl                       2020.2                      256  \r\n",
      "mkl-service               2.3.0            py37he904b0f_0  \r\n",
      "mkl_fft                   1.2.0            py37h23d657b_0  \r\n",
      "mkl_random                1.1.1            py37h0573a6f_0  \r\n",
      "nbclient                  0.5.1                      py_0  \r\n",
      "nbconvert                 6.0.7                    py37_0  \r\n",
      "nbformat                  5.0.8                      py_0  \r\n",
      "ncurses                   6.2                  he6710b0_1  \r\n",
      "nest-asyncio              1.4.1                      py_0  \r\n",
      "networkx                  2.5                      pypi_0    pypi\r\n",
      "notebook                  6.1.4                    py37_0  \r\n",
      "numpy                     1.19.2           py37h54aff64_0  \r\n",
      "numpy-base                1.19.2           py37hfa32c7d_0  \r\n",
      "olefile                   0.46                     py37_0  \r\n",
      "openssl                   1.1.1h               h7b6447c_0  \r\n",
      "packaging                 20.4                       py_0  \r\n",
      "pandoc                    2.11                 hb0f4dca_0  \r\n",
      "pandocfilters             1.4.2                    py37_1  \r\n",
      "parso                     0.7.0                      py_0  \r\n",
      "pcre                      8.44                 he6710b0_0  \r\n",
      "pexpect                   4.8.0                    py37_1  \r\n",
      "pickleshare               0.7.5                 py37_1001  \r\n",
      "pillow                    8.0.1            py37he98fc37_0  \r\n",
      "pip                       20.2.4                   py37_0  \r\n",
      "prometheus_client         0.8.0                      py_0  \r\n",
      "prompt-toolkit            3.0.8                      py_0  \r\n",
      "prompt_toolkit            3.0.8                         0  \r\n",
      "ptyprocess                0.6.0                    py37_0  \r\n",
      "pycparser                 2.20                       py_2  \r\n",
      "pydot                     1.4.1                    pypi_0    pypi\r\n",
      "pyglet                    1.5.0                    pypi_0    pypi\r\n",
      "pygments                  2.7.1                      py_0  \r\n",
      "pyparsing                 2.4.7                      py_0  \r\n",
      "pyqt                      5.9.2            py37h05f1152_2  \r\n",
      "pyrsistent                0.17.3           py37h7b6447c_0  \r\n",
      "python                    3.7.9                h7579374_0  \r\n",
      "python-dateutil           2.8.1                      py_0  \r\n",
      "pyzmq                     19.0.2           py37he6710b0_1  \r\n",
      "qt                        5.9.7                h5867ecd_1  \r\n",
      "qtconsole                 4.7.7                      py_0  \r\n",
      "qtpy                      1.9.0                      py_0  \r\n",
      "readline                  8.0                  h7b6447c_0  \r\n",
      "scikit-learn              0.23.2           py37h0573a6f_0  \r\n",
      "scipy                     1.5.2            py37h0b6359f_0  \r\n",
      "send2trash                1.5.0                    py37_0  \r\n",
      "setuptools                50.3.0           py37hb0f4dca_1  \r\n",
      "sip                       4.19.8           py37hf484d3e_0  \r\n",
      "six                       1.15.0                     py_0  \r\n",
      "sqlite                    3.33.0               h62c20be_0  \r\n",
      "terminado                 0.9.1                    py37_0  \r\n",
      "testpath                  0.4.4                      py_0  \r\n",
      "threadpoolctl             2.1.0              pyh5ca1d4c_0  \r\n",
      "tk                        8.6.10               hbc83047_0  \r\n",
      "tornado                   6.0.4            py37h7b6447c_1  \r\n",
      "traitlets                 5.0.5                      py_0  \r\n",
      "wcwidth                   0.2.5                      py_0  \r\n",
      "webencodings              0.5.1                    py37_1  \r\n",
      "wheel                     0.35.1                     py_0  \r\n",
      "widgetsnbextension        3.5.1                    py37_0  \r\n",
      "xz                        5.2.5                h7b6447c_0  \r\n",
      "zeromq                    4.3.3                he6710b0_3  \r\n",
      "zipp                      3.3.1                      py_0  \r\n",
      "zlib                      1.2.11               h7b6447c_3  \r\n",
      "zstd                      1.4.5                h9ceee32_0  \r\n"
     ]
    }
   ],
   "source": [
    "!conda list"
   ]
  },
  {
   "cell_type": "code",
   "execution_count": null,
   "metadata": {},
   "outputs": [],
   "source": []
  }
 ],
 "metadata": {
  "kernelspec": {
   "display_name": "Python 3",
   "language": "python",
   "name": "python3"
  },
  "language_info": {
   "codemirror_mode": {
    "name": "ipython",
    "version": 3
   },
   "file_extension": ".py",
   "mimetype": "text/x-python",
   "name": "python",
   "nbconvert_exporter": "python",
   "pygments_lexer": "ipython3",
   "version": "3.7.9"
  }
 },
 "nbformat": 4,
 "nbformat_minor": 4
}
