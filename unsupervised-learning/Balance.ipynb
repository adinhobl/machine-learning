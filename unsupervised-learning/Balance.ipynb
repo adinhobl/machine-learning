{
 "cells": [
  {
   "cell_type": "markdown",
   "metadata": {},
   "source": [
    "## Load Modules"
   ]
  },
  {
   "cell_type": "code",
   "execution_count": 1,
   "metadata": {},
   "outputs": [],
   "source": [
    "using MLJ\n",
    "using MultivariateStats\n",
    "using Plots; gr()\n",
    "using StatsPlots\n",
    "using DataFrames\n",
    "using PyCall\n",
    "\n",
    "using CSV: read\n",
    "using StatsBase: countmap, kurtosis\n",
    "using Clustering: randindex, silhouettes, varinfo, vmeasure, mutualinfo\n",
    "using LinearAlgebra: diag"
   ]
  },
  {
   "cell_type": "code",
   "execution_count": 2,
   "metadata": {},
   "outputs": [],
   "source": [
    "ENV[\"LINES\"] = 100;"
   ]
  },
  {
   "cell_type": "code",
   "execution_count": 3,
   "metadata": {},
   "outputs": [],
   "source": [
    "RNG = 133;"
   ]
  },
  {
   "cell_type": "markdown",
   "metadata": {},
   "source": [
    "## Import Data and Set Up"
   ]
  },
  {
   "cell_type": "code",
   "execution_count": 19,
   "metadata": {
    "scrolled": true
   },
   "outputs": [
    {
     "data": {
      "text/html": [
       "<table class=\"data-frame\"><thead><tr><th></th><th>variable</th><th>mean</th><th>min</th><th>median</th><th>max</th><th>nunique</th><th>nmissing</th><th>eltype</th></tr><tr><th></th><th>Symbol</th><th>Union…</th><th>Any</th><th>Union…</th><th>Any</th><th>Union…</th><th>Nothing</th><th>DataType</th></tr></thead><tbody><p>5 rows × 8 columns</p><tr><th>1</th><td>Class_Name</td><td></td><td>B</td><td></td><td>R</td><td>3</td><td></td><td>String</td></tr><tr><th>2</th><td>Left_Weight</td><td>3.0</td><td>1</td><td>3.0</td><td>5</td><td></td><td></td><td>Int64</td></tr><tr><th>3</th><td>Left_Distance</td><td>3.0</td><td>1</td><td>3.0</td><td>5</td><td></td><td></td><td>Int64</td></tr><tr><th>4</th><td>Right_Weight</td><td>3.0</td><td>1</td><td>3.0</td><td>5</td><td></td><td></td><td>Int64</td></tr><tr><th>5</th><td>Right_Distance</td><td>3.0</td><td>1</td><td>3.0</td><td>5</td><td></td><td></td><td>Int64</td></tr></tbody></table>"
      ],
      "text/latex": [
       "\\begin{tabular}{r|cccccccc}\n",
       "\t& variable & mean & min & median & max & nunique & nmissing & eltype\\\\\n",
       "\t\\hline\n",
       "\t& Symbol & Union… & Any & Union… & Any & Union… & Nothing & DataType\\\\\n",
       "\t\\hline\n",
       "\t1 & Class\\_Name &  & B &  & R & 3 &  & String \\\\\n",
       "\t2 & Left\\_Weight & 3.0 & 1 & 3.0 & 5 &  &  & Int64 \\\\\n",
       "\t3 & Left\\_Distance & 3.0 & 1 & 3.0 & 5 &  &  & Int64 \\\\\n",
       "\t4 & Right\\_Weight & 3.0 & 1 & 3.0 & 5 &  &  & Int64 \\\\\n",
       "\t5 & Right\\_Distance & 3.0 & 1 & 3.0 & 5 &  &  & Int64 \\\\\n",
       "\\end{tabular}\n"
      ],
      "text/plain": [
       "5×8 DataFrame. Omitted printing of 1 columns\n",
       "│ Row │ variable       │ mean   │ min │ median │ max │ nunique │ nmissing │\n",
       "│     │ \u001b[90mSymbol\u001b[39m         │ \u001b[90mUnion…\u001b[39m │ \u001b[90mAny\u001b[39m │ \u001b[90mUnion…\u001b[39m │ \u001b[90mAny\u001b[39m │ \u001b[90mUnion…\u001b[39m  │ \u001b[90mNothing\u001b[39m  │\n",
       "├─────┼────────────────┼────────┼─────┼────────┼─────┼─────────┼──────────┤\n",
       "│ 1   │ Class_Name     │        │ B   │        │ R   │ 3       │          │\n",
       "│ 2   │ Left_Weight    │ 3.0    │ 1   │ 3.0    │ 5   │         │          │\n",
       "│ 3   │ Left_Distance  │ 3.0    │ 1   │ 3.0    │ 5   │         │          │\n",
       "│ 4   │ Right_Weight   │ 3.0    │ 1   │ 3.0    │ 5   │         │          │\n",
       "│ 5   │ Right_Distance │ 3.0    │ 1   │ 3.0    │ 5   │         │          │"
      ]
     },
     "execution_count": 19,
     "metadata": {},
     "output_type": "execute_result"
    }
   ],
   "source": [
    "data = read(\"balance.csv\")\n",
    "describe(data)"
   ]
  },
  {
   "cell_type": "code",
   "execution_count": 20,
   "metadata": {},
   "outputs": [
    {
     "data": {
      "text/plain": [
       "3-element Array{Float64,1}:\n",
       " 0.0784\n",
       " 0.4608\n",
       " 0.4608"
      ]
     },
     "execution_count": 20,
     "metadata": {},
     "output_type": "execute_result"
    }
   ],
   "source": [
    "label_counts = countmap(data[:(Class_Name)])\n",
    "collect(label_counts[i] / size(data)[1] for i in keys(label_counts))"
   ]
  },
  {
   "cell_type": "code",
   "execution_count": 21,
   "metadata": {
    "scrolled": true
   },
   "outputs": [
    {
     "data": {
      "text/plain": [
       "┌\u001b[0m────────────────\u001b[0m┬\u001b[0m─────────────────────────────────\u001b[0m┬\u001b[0m───────────────\u001b[0m┐\u001b[0m\n",
       "│\u001b[0m\u001b[22m _.names        \u001b[0m│\u001b[0m\u001b[22m _.types                         \u001b[0m│\u001b[0m\u001b[22m _.scitypes    \u001b[0m│\u001b[0m\n",
       "├\u001b[0m────────────────\u001b[0m┼\u001b[0m─────────────────────────────────\u001b[0m┼\u001b[0m───────────────\u001b[0m┤\u001b[0m\n",
       "│\u001b[0m Class_Name     \u001b[0m│\u001b[0m CategoricalValue{String,UInt32} \u001b[0m│\u001b[0m Multiclass{3} \u001b[0m│\u001b[0m\n",
       "│\u001b[0m Left_Weight    \u001b[0m│\u001b[0m Int64                           \u001b[0m│\u001b[0m Count         \u001b[0m│\u001b[0m\n",
       "│\u001b[0m Left_Distance  \u001b[0m│\u001b[0m Int64                           \u001b[0m│\u001b[0m Count         \u001b[0m│\u001b[0m\n",
       "│\u001b[0m Right_Weight   \u001b[0m│\u001b[0m Int64                           \u001b[0m│\u001b[0m Count         \u001b[0m│\u001b[0m\n",
       "│\u001b[0m Right_Distance \u001b[0m│\u001b[0m Int64                           \u001b[0m│\u001b[0m Count         \u001b[0m│\u001b[0m\n",
       "└\u001b[0m────────────────\u001b[0m┴\u001b[0m─────────────────────────────────\u001b[0m┴\u001b[0m───────────────\u001b[0m┘\u001b[0m\n",
       "_.nrows = 625\n"
      ]
     },
     "execution_count": 21,
     "metadata": {},
     "output_type": "execute_result"
    }
   ],
   "source": [
    "coerce!(data, :Class_Name=>Multiclass)\n",
    "schema(data)"
   ]
  },
  {
   "cell_type": "code",
   "execution_count": 22,
   "metadata": {},
   "outputs": [
    {
     "data": {
      "text/plain": [
       "([342, 589, 478, 524, 282, 88, 9, 114, 564, 491  …  278, 274, 284, 467, 56, 407, 17, 109, 428, 401], [413, 566, 519, 240, 587, 61, 20, 312, 490, 334  …  356, 338, 361, 19, 567, 423, 176, 561, 371, 259])"
      ]
     },
     "execution_count": 22,
     "metadata": {},
     "output_type": "execute_result"
    }
   ],
   "source": [
    "y, X = unpack(data, ==(:Class_Name), colname->true)\n",
    "train, test = partition(eachindex(y), 0.8, shuffle=true, rng=RNG, stratify=values(data[:Class_Name])) # gives 70:30 split"
   ]
  },
  {
   "cell_type": "markdown",
   "metadata": {},
   "source": [
    "#### Confirming that data was stratified correctly"
   ]
  },
  {
   "cell_type": "code",
   "execution_count": 23,
   "metadata": {},
   "outputs": [
    {
     "data": {
      "text/plain": [
       "3-element Array{Float64,1}:\n",
       " 0.0781563126252505\n",
       " 0.46092184368737477\n",
       " 0.46092184368737477"
      ]
     },
     "execution_count": 23,
     "metadata": {},
     "output_type": "execute_result"
    }
   ],
   "source": [
    "train_counts = countmap(data[train,:Class_Name])\n",
    "collect(train_counts[i] / size(train)[1] for i in keys(train_counts))"
   ]
  },
  {
   "cell_type": "code",
   "execution_count": 24,
   "metadata": {},
   "outputs": [
    {
     "data": {
      "text/plain": [
       "3-element Array{Float64,1}:\n",
       " 0.07936507936507936\n",
       " 0.4603174603174603\n",
       " 0.4603174603174603"
      ]
     },
     "execution_count": 24,
     "metadata": {},
     "output_type": "execute_result"
    }
   ],
   "source": [
    "test_counts = countmap(data[test,:Class_Name])\n",
    "collect(test_counts[i] / size(test)[1] for i in keys(test_counts))"
   ]
  },
  {
   "cell_type": "markdown",
   "metadata": {},
   "source": [
    "#### Standardizing data pre-clustering\n",
    "* https://datascience.stackexchange.com/questions/6715/is-it-necessary-to-standardize-your-data-before-clustering"
   ]
  },
  {
   "cell_type": "code",
   "execution_count": 17,
   "metadata": {},
   "outputs": [
    {
     "name": "stderr",
     "output_type": "stream",
     "text": [
      "┌ Info: Training \u001b[34mMachine{Standardizer} @787\u001b[39m.\n",
      "└ @ MLJBase /home/andrew/.julia/packages/MLJBase/Ov46j/src/machines.jl:319\n"
     ]
    }
   ],
   "source": [
    "# standardizer = Standardizer(count=true)\n",
    "# stand = machine(standardizer, X) #only want to standardize on training distribution\n",
    "# MLJ.fit!(stand, rows=train)\n",
    "# X_stand = MLJ.transform(stand, X);"
   ]
  },
  {
   "cell_type": "code",
   "execution_count": 18,
   "metadata": {
    "scrolled": true
   },
   "outputs": [
    {
     "data": {
      "text/plain": [
       "499×4 Array{Float64,2}:\n",
       "  0.011181   0.732468    0.70537     -0.692774\n",
       "  1.40601    0.732468    0.00421536   0.706797\n",
       "  0.708597   1.45054    -1.39809      0.00701188\n",
       "  1.40601   -1.42176     1.40652      0.706797\n",
       "  0.011181  -0.703687   -0.696939    -0.692774\n",
       " -1.38365    0.732468    0.00421536   0.00701188\n",
       " -1.38365   -1.42176    -0.696939     0.706797\n",
       " -1.38365    1.45054     0.00421536   0.706797\n",
       "  1.40601    0.0143903   0.00421536   0.706797\n",
       "  0.708597   1.45054     0.70537     -1.39256\n",
       "  0.011181  -1.42176     1.40652      1.40658\n",
       "  0.011181  -0.703687    0.00421536   0.00701188\n",
       "  1.40601    0.0143903  -1.39809      0.706797\n",
       "  0.011181   0.0143903   0.00421536  -1.39256\n",
       "  1.40601   -0.703687   -0.696939    -1.39256\n",
       " -0.686235   0.732468   -1.39809      0.706797\n",
       "  1.40601   -1.42176    -0.696939     1.40658\n",
       "  0.011181   0.0143903  -0.696939    -1.39256\n",
       "  0.011181   0.732468   -0.696939    -1.39256\n",
       "  0.011181  -1.42176    -1.39809      1.40658\n",
       "  0.011181  -0.703687    0.70537     -0.692774\n",
       "  0.011181  -0.703687    0.70537     -1.39256\n",
       "  0.708597  -0.703687    0.70537     -1.39256\n",
       " -0.686235  -0.703687    0.70537      1.40658\n",
       "  1.40601    0.732468   -1.39809     -0.692774\n",
       " -0.686235  -1.42176     0.00421536   0.706797\n",
       "  0.011181   0.732468    0.70537     -1.39256\n",
       "  1.40601    1.45054    -0.696939     1.40658\n",
       " -0.686235  -0.703687    0.70537      0.706797\n",
       " -1.38365   -0.703687   -0.696939    -0.692774\n",
       "  1.40601   -1.42176    -0.696939     0.00701188\n",
       " -0.686235  -1.42176    -1.39809     -0.692774\n",
       "  0.011181   1.45054     1.40652     -0.692774\n",
       " -0.686235   0.0143903   0.00421536   1.40658\n",
       "  1.40601    1.45054     0.70537     -0.692774\n",
       "  0.708597   0.0143903   1.40652      1.40658\n",
       " -0.686235   1.45054     0.70537     -1.39256\n",
       "  1.40601    0.732468   -0.696939     1.40658\n",
       " -1.38365   -0.703687    0.70537      1.40658\n",
       "  1.40601   -0.703687    1.40652      0.00701188\n",
       "  1.40601   -0.703687   -0.696939     1.40658\n",
       " -0.686235   1.45054     0.00421536  -0.692774\n",
       "  0.708597  -0.703687    1.40652     -0.692774\n",
       "  0.708597   1.45054     0.70537     -0.692774\n",
       " -1.38365    0.732468    1.40652      0.00701188\n",
       "  1.40601    1.45054    -1.39809     -1.39256\n",
       "  0.011181  -0.703687   -0.696939     1.40658\n",
       "  1.40601    0.732468    0.00421536   0.00701188\n",
       "  ⋮                                  \n",
       "  0.011181   0.0143903   1.40652     -1.39256\n",
       "  1.40601   -0.703687    1.40652      1.40658\n",
       " -0.686235   1.45054    -0.696939     0.706797\n",
       " -1.38365    0.0143903   0.00421536   0.706797\n",
       " -1.38365   -0.703687   -0.696939    -1.39256\n",
       "  0.708597   0.0143903   0.00421536   1.40658\n",
       "  0.011181  -0.703687    1.40652      0.00701188\n",
       "  0.011181   0.0143903   0.00421536   0.00701188\n",
       " -0.686235  -0.703687   -0.696939     0.00701188\n",
       " -1.38365    0.732468    0.00421536   0.706797\n",
       "  0.011181  -1.42176     0.70537      0.00701188\n",
       " -0.686235  -1.42176     0.70537      0.706797\n",
       "  0.011181   0.732468    1.40652      0.706797\n",
       "  0.708597   0.732468    0.70537     -1.39256\n",
       "  0.708597   1.45054     0.00421536  -1.39256\n",
       "  0.708597   0.732468    1.40652      1.40658\n",
       " -1.38365    0.732468    0.70537      1.40658\n",
       "  0.011181   0.0143903   0.00421536   0.706797\n",
       " -0.686235  -1.42176    -1.39809     -1.39256\n",
       "  0.708597   0.732468    1.40652      0.00701188\n",
       "  0.708597   0.732468   -0.696939    -1.39256\n",
       "  1.40601    0.732468   -1.39809     -1.39256\n",
       " -0.686235   1.45054     0.00421536  -1.39256\n",
       "  1.40601    0.0143903  -1.39809      1.40658\n",
       "  0.011181  -1.42176     0.00421536  -0.692774\n",
       " -0.686235  -1.42176     0.00421536  -0.692774\n",
       "  1.40601    0.0143903   0.70537      1.40658\n",
       " -1.38365   -0.703687    0.00421536   0.00701188\n",
       " -0.686235   0.0143903   1.40652      0.706797\n",
       " -1.38365    0.732468    0.70537      0.706797\n",
       "  0.011181  -1.42176    -0.696939    -1.39256\n",
       " -0.686235  -0.703687   -1.39809     -0.692774\n",
       "  1.40601    1.45054    -0.696939     0.00701188\n",
       "  0.011181  -1.42176    -0.696939    -0.692774\n",
       " -1.38365   -1.42176    -0.696939    -0.692774\n",
       "  0.708597   1.45054    -0.696939    -0.692774\n",
       "  0.011181   1.45054    -0.696939     0.00701188\n",
       "  0.011181  -0.703687   -1.39809      0.00701188\n",
       "  0.011181  -1.42176     1.40652      0.706797\n",
       "  0.011181  -0.703687   -0.696939     0.706797\n",
       "  0.708597   0.732468    0.70537     -0.692774\n",
       " -1.38365    0.0143903  -0.696939    -1.39256\n",
       "  0.708597  -0.703687   -0.696939    -0.692774\n",
       " -1.38365   -1.42176     0.70537     -0.692774\n",
       " -1.38365    1.45054    -0.696939     0.706797\n",
       "  0.708597   0.0143903  -1.39809      0.00701188\n",
       "  0.708597  -0.703687   -1.39809     -1.39256"
      ]
     },
     "execution_count": 18,
     "metadata": {},
     "output_type": "execute_result"
    }
   ],
   "source": [
    "train_data = convert(Matrix,X_stand[train,:])"
   ]
  },
  {
   "cell_type": "markdown",
   "metadata": {},
   "source": [
    "## Set up model"
   ]
  },
  {
   "cell_type": "code",
   "execution_count": null,
   "metadata": {
    "scrolled": true
   },
   "outputs": [],
   "source": [
    "task(model) = !model.is_supervised\n",
    "models(task)"
   ]
  },
  {
   "cell_type": "markdown",
   "metadata": {},
   "source": [
    "# Clustering Algorithms\n",
    "Run the clustering algorithms on the datasets and describe what you see."
   ]
  },
  {
   "cell_type": "markdown",
   "metadata": {},
   "source": [
    "### KMeans\n",
    "* https://github.com/PyDataBlog/ParallelKMeans.jl/blob/master/src/hamerly.jl#L65\n",
    "* https://juliastats.org/Clustering.jl/stable/validate.html"
   ]
  },
  {
   "cell_type": "code",
   "execution_count": null,
   "metadata": {},
   "outputs": [],
   "source": [
    "@load KMeans pkg=ParallelKMeans\n",
    "# @load KMeans pkg=Clustering"
   ]
  },
  {
   "cell_type": "code",
   "execution_count": null,
   "metadata": {},
   "outputs": [],
   "source": [
    "# https://stackoverflow.com/questions/51181392/julia-vs-matlab-distance-matrix-run-time-test\n",
    "function dist_mat(X::Matrix)\n",
    "    G = X * X'\n",
    "    dG = diag(G)\n",
    "    return sqrt.(dG .+ dG' .- 2 .* G)\n",
    "end"
   ]
  },
  {
   "cell_type": "code",
   "execution_count": null,
   "metadata": {},
   "outputs": [],
   "source": [
    "upper = 8\n",
    "k_range = 2:upper\n",
    "total_costs = []\n",
    "sils = []\n",
    "ls = []\n",
    "sil_means = []\n",
    "km_assignments = []\n",
    "\n",
    "for i in k_range\n",
    "    println(\"K = $i\")\n",
    "    model = ParallelKMeans.KMeans(k=i, rng=RNG)\n",
    "    mach = machine(model, X_stand)\n",
    "    MLJ.fit!(mach, rows=train)\n",
    "    \n",
    "#     @show report(mach) \n",
    "#     @show fitted_params(mach)\n",
    "    @show mach.report.totalcost # https://github.com/PyDataBlog/ParallelKMeans.jl/blob/87ce07d10796078aacffcbea0b2e9dc0c02f25d7/src/hamerly.jl#L65\n",
    "    d = countmap(mach.report.assignments)\n",
    "    \n",
    "    k = d |> keys\n",
    "    v = d |> values\n",
    "    l = sort(collect(zip(k,v)), by=x->x[1])\n",
    "    @show l\n",
    "    \n",
    "    # https://juliastats.org/Clustering.jl/stable/validate.html\n",
    "    s = silhouettes(mach.report.assignments, dist_mat(train_data))\n",
    "    println(\"silhouette: $(mean(s))\")\n",
    "    \n",
    "    push!(km_assignments, mach.report.assignments)\n",
    "    push!(ls, l)\n",
    "    push!(total_costs, mach.report.totalcost) \n",
    "    push!(sils, s)\n",
    "    push!(sil_means, mean(s))\n",
    "    println(\"\")\n",
    "end"
   ]
  },
  {
   "cell_type": "code",
   "execution_count": null,
   "metadata": {},
   "outputs": [],
   "source": [
    "plot(k_range, total_costs, legend=:bottomleft, label=\"Total Squared Error\", color=:green, lw=2)\n",
    "xlabel!(\"Number of Clusters\")\n",
    "plot!(twinx(), k_range, sil_means, legend=:topright, label=\"Silhouette Score\", color=:blue, lw=2)"
   ]
  },
  {
   "cell_type": "code",
   "execution_count": null,
   "metadata": {},
   "outputs": [],
   "source": [
    "savefig(\"figures/bio_kmeans_metrics_$upper\")"
   ]
  },
  {
   "cell_type": "code",
   "execution_count": null,
   "metadata": {},
   "outputs": [],
   "source": [
    "function prepare_portfolio(ls)\n",
    "    N = size(ls)[1]\n",
    "    D = size(ls[end])[1]\n",
    "    mat = zeros(N, D)\n",
    "    for i in 1:N\n",
    "#         print(\"\\n\")\n",
    "#         @show i\n",
    "        for j in 1:size(ls[i])[1]\n",
    "#             @show j\n",
    "            mat[i,j] = ls[i][j][2]\n",
    "        end\n",
    "    end\n",
    "    return mat\n",
    "end"
   ]
  },
  {
   "cell_type": "code",
   "execution_count": null,
   "metadata": {},
   "outputs": [],
   "source": [
    "function cum_columns(mat; normalize=false)\n",
    "    mat2 = deepcopy(mat)\n",
    "    normalize && (mat2 ./= sum(mat2, dims = 2)) # if you want to normalize each row\n",
    "    for i in 2:size(mat2)[2]\n",
    "       mat2[:,i] = mat2[:,i-1] + mat2[:,i]\n",
    "    end\n",
    "    return mat2'\n",
    "end"
   ]
  },
  {
   "cell_type": "code",
   "execution_count": null,
   "metadata": {},
   "outputs": [],
   "source": [
    "function cum_plot(mat)\n",
    "    N = size(mat)[2]\n",
    "    p = plot(legend=:outertopright, palette=palette(:Accent_8))\n",
    "    for i in N+1:-1:1\n",
    "        plot!(1:N, mat[i,:], label=\"Cluster $(i)\", fill=0, α=1)\n",
    "    end\n",
    "    xticks!(collect(1:N),string.(collect(2:N+1)))\n",
    "    ylabel!(\"Cluster Proportion\")\n",
    "    xlabel!(\"Number of Clusters\")\n",
    "    display(p)\n",
    "end"
   ]
  },
  {
   "cell_type": "code",
   "execution_count": null,
   "metadata": {},
   "outputs": [],
   "source": [
    "# plotattr(:Series)\n",
    "plotattr(\"fillrange\")"
   ]
  },
  {
   "cell_type": "code",
   "execution_count": null,
   "metadata": {},
   "outputs": [],
   "source": [
    "mat = prepare_portfolio(ls)\n",
    "plotmat = cum_columns(mat, normalize=true)"
   ]
  },
  {
   "cell_type": "markdown",
   "metadata": {},
   "source": [
    "#### Explanation\n",
    "For the plot, the area below each line indicates the proportion of the instances that are contained in that cluster. X-axis is number of clusters in that Kmeans run. So for 2 means, there are 2 clusters. For 5 means, there is a large cluster 1, a large cluster 4, and a large cluster 5. Up to runs as large as 6 clusters, there are really only 3 prevalent clusters. Farther than that, it becomes more fragmented. 3 clusters"
   ]
  },
  {
   "cell_type": "code",
   "execution_count": null,
   "metadata": {
    "scrolled": false
   },
   "outputs": [],
   "source": [
    "cum_plot(plotmat)"
   ]
  },
  {
   "cell_type": "code",
   "execution_count": null,
   "metadata": {},
   "outputs": [],
   "source": [
    "savefig(\"figures/bio_kmeans_portfolio_$upper\")"
   ]
  },
  {
   "cell_type": "markdown",
   "metadata": {},
   "source": [
    "#### Number of Clusters"
   ]
  },
  {
   "cell_type": "markdown",
   "metadata": {},
   "source": [
    "* https://scikit-learn.org/stable/auto_examples/cluster/plot_kmeans_silhouette_analysis.html#sphx-glr-auto-examples-cluster-plot-kmeans-silhouette-analysis-py"
   ]
  },
  {
   "cell_type": "markdown",
   "metadata": {},
   "source": [
    "using methods above, determined that 3 clusters"
   ]
  },
  {
   "cell_type": "code",
   "execution_count": null,
   "metadata": {
    "scrolled": true
   },
   "outputs": [],
   "source": [
    "km_assignments[2] # is 3 clusters"
   ]
  },
  {
   "cell_type": "markdown",
   "metadata": {},
   "source": [
    "#### Verifying Clusters"
   ]
  },
  {
   "cell_type": "code",
   "execution_count": null,
   "metadata": {
    "scrolled": true
   },
   "outputs": [],
   "source": [
    "y_1h = map(x-> if (x == \"RB\") 1 else 2 end , y[train])\n",
    "collect(zip(km_assignments[2], y_1h))"
   ]
  },
  {
   "cell_type": "code",
   "execution_count": null,
   "metadata": {},
   "outputs": [],
   "source": [
    "mutualinfo(km_assignments[2], y_1h)"
   ]
  },
  {
   "cell_type": "code",
   "execution_count": null,
   "metadata": {},
   "outputs": [],
   "source": [
    "vmeasure(km_assignments[2], y_1h)"
   ]
  },
  {
   "cell_type": "code",
   "execution_count": null,
   "metadata": {},
   "outputs": [],
   "source": [
    "randindex(km_assignments[2], y_1h)"
   ]
  },
  {
   "cell_type": "code",
   "execution_count": null,
   "metadata": {},
   "outputs": [],
   "source": [
    "varinfo(km_assignments[2], y_1h)"
   ]
  },
  {
   "cell_type": "code",
   "execution_count": null,
   "metadata": {},
   "outputs": [],
   "source": [
    "function pairplot(X, y; c=[1])\n",
    "    classes = size(unique(y))[1]\n",
    "    ycol = distinguishable_colors(classes)[y]\n",
    "#     @df data corrplot(cols(c), group=y, markercolor=ycol)\n",
    "    @df data cornerplot(cols(c), group=y, markercolor=ycol, compact=true)\n",
    "end\n",
    "\n",
    "# https://github.com/JuliaPlots/StatsPlots.jl/issues/217"
   ]
  },
  {
   "cell_type": "code",
   "execution_count": null,
   "metadata": {},
   "outputs": [],
   "source": [
    "pairplot(X_stand[train,:], y_1h, c=[1,13,27,32,]) #1,13,27,32,33,35,39"
   ]
  },
  {
   "cell_type": "code",
   "execution_count": null,
   "metadata": {},
   "outputs": [],
   "source": [
    "savefig(\"figures/bio_pair_plot\")"
   ]
  },
  {
   "cell_type": "markdown",
   "metadata": {},
   "source": [
    "1 and 27, 27 and 13. central mass of majority class, in different axes there are differences for the minority class. this meshes with the metrics that use the labels"
   ]
  },
  {
   "cell_type": "markdown",
   "metadata": {},
   "source": [
    "### Expectation Maximization"
   ]
  },
  {
   "cell_type": "markdown",
   "metadata": {},
   "source": [
    "* https://scikit-learn.org/stable/modules/generated/sklearn.mixture.GaussianMixture.html#sklearn.mixture.GaussianMixture\n",
    "* https://scikit-learn.org/stable/auto_examples/mixture/plot_gmm_pdf.html#sphx-glr-auto-examples-mixture-plot-gmm-pdf-py\n",
    "* https://scikit-learn.org/stable/auto_examples/mixture/plot_gmm_covariances.html#sphx-glr-auto-examples-mixture-plot-gmm-covariances-py\n",
    "* https://scikit-learn.org/stable/auto_examples/mixture/plot_gmm_selection.html#sphx-glr-auto-examples-mixture-plot-gmm-selection-py\n",
    "* https://scikit-learn.org/stable/modules/generated/sklearn.mixture.GaussianMixture.html#sklearn.mixture.GaussianMixture\n",
    "* https://github.com/JuliaPy/PyCall.jl"
   ]
  },
  {
   "cell_type": "code",
   "execution_count": null,
   "metadata": {},
   "outputs": [],
   "source": [
    "sklearn_m = pyimport(\"sklearn.mixture\")"
   ]
  },
  {
   "cell_type": "code",
   "execution_count": null,
   "metadata": {
    "scrolled": true
   },
   "outputs": [],
   "source": [
    "upper = 8\n",
    "k_range = 2:upper\n",
    "bics = []\n",
    "sils = []\n",
    "ls = []\n",
    "sil_means = []\n",
    "em_assignments = []\n",
    "\n",
    "for i in k_range\n",
    "    println(\"Gaussians = $i\")\n",
    "    clf = sklearn_m.GaussianMixture(n_components=i, covariance_type=\"full\", random_state=RNG)\n",
    "    labels = clf.fit_predict(train_data) .+ 1; # indexing issues from python to julia functions\n",
    "    \n",
    "    d = countmap(labels)\n",
    "    k = d |> keys\n",
    "    v = d |> values\n",
    "    l = sort(collect(zip(k,v)), by=x->x[1])\n",
    "    @show l\n",
    "    \n",
    "    s = silhouettes(labels, dist_mat(train_data))\n",
    "    println(\"silhouette: $(mean(s))\")\n",
    "    \n",
    "    bayes_ic = clf.bic(train_data)\n",
    "    @show bayes_ic\n",
    "    \n",
    "    push!(ls, l)\n",
    "    push!(sils, s)\n",
    "    push!(sil_means, mean(s))\n",
    "    push!(bics, bayes_ic)\n",
    "    push!(em_assignments, labels)\n",
    "    println(\"\")\n",
    "end"
   ]
  },
  {
   "cell_type": "code",
   "execution_count": null,
   "metadata": {
    "scrolled": false
   },
   "outputs": [],
   "source": [
    "plot(k_range, bics, legend=:bottomleft, label=\"Bayesian Info Criteria\", color=:green, lw=2)\n",
    "xlabel!(\"Number of Clusters\")\n",
    "plot!(twinx(),k_range, sil_means, legend=:topright, label=\"Silhouette Score\", color=:blue, lw=2)"
   ]
  },
  {
   "cell_type": "code",
   "execution_count": null,
   "metadata": {},
   "outputs": [],
   "source": [
    "savefig(\"figures/bio_em_metrics_$upper\")"
   ]
  },
  {
   "cell_type": "code",
   "execution_count": null,
   "metadata": {},
   "outputs": [],
   "source": [
    "mat = prepare_portfolio(ls)\n",
    "plotmat = cum_columns(mat, normalize=true)\n",
    "cum_plot(plotmat)"
   ]
  },
  {
   "cell_type": "code",
   "execution_count": null,
   "metadata": {},
   "outputs": [],
   "source": [
    "savefig(\"figures/bio_em_portfolio_$upper\")"
   ]
  },
  {
   "cell_type": "markdown",
   "metadata": {},
   "source": [
    "#### Number of Clusters"
   ]
  },
  {
   "cell_type": "markdown",
   "metadata": {},
   "source": [
    "* https://scikit-learn.org/stable/auto_examples/cluster/plot_kmeans_silhouette_analysis.html#sphx-glr-auto-examples-cluster-plot-kmeans-silhouette-analysis-py"
   ]
  },
  {
   "cell_type": "markdown",
   "metadata": {},
   "source": [
    "using methods above, determined that 6 clusters"
   ]
  },
  {
   "cell_type": "markdown",
   "metadata": {},
   "source": [
    "#### Verifying Clusters"
   ]
  },
  {
   "cell_type": "code",
   "execution_count": null,
   "metadata": {
    "scrolled": true
   },
   "outputs": [],
   "source": [
    "y_1h = map(x-> if (x == \"RB\") 1 else 2 end , y[train])\n",
    "collect(zip(em_assignments[5], y_1h))"
   ]
  },
  {
   "cell_type": "code",
   "execution_count": null,
   "metadata": {},
   "outputs": [],
   "source": [
    "mutualinfo(em_assignments[5], y_1h)"
   ]
  },
  {
   "cell_type": "code",
   "execution_count": null,
   "metadata": {},
   "outputs": [],
   "source": [
    "vmeasure(em_assignments[5], y_1h)"
   ]
  },
  {
   "cell_type": "code",
   "execution_count": null,
   "metadata": {},
   "outputs": [],
   "source": [
    "randindex(em_assignments[5], y_1h)"
   ]
  },
  {
   "cell_type": "code",
   "execution_count": null,
   "metadata": {},
   "outputs": [],
   "source": [
    "varinfo(em_assignments[5], y_1h)"
   ]
  },
  {
   "cell_type": "code",
   "execution_count": null,
   "metadata": {
    "scrolled": true
   },
   "outputs": [],
   "source": [
    "em_assignments[5]"
   ]
  },
  {
   "cell_type": "markdown",
   "metadata": {},
   "source": [
    "# Dimensionality Reduction\n",
    "Apply the dimensionality reduction algorithms to the two datasets and describe what you see.\n"
   ]
  },
  {
   "cell_type": "markdown",
   "metadata": {},
   "source": [
    "### PCA"
   ]
  },
  {
   "cell_type": "code",
   "execution_count": null,
   "metadata": {
    "scrolled": true
   },
   "outputs": [],
   "source": [
    "info(\"PCA\")"
   ]
  },
  {
   "cell_type": "code",
   "execution_count": null,
   "metadata": {},
   "outputs": [],
   "source": [
    "model = @load PCA pkg=\"MultivariateStats\" \n",
    "mach = machine(model, X_stand)\n",
    "MLJ.fit!(mach, rows=train)"
   ]
  },
  {
   "cell_type": "code",
   "execution_count": null,
   "metadata": {
    "scrolled": true
   },
   "outputs": [],
   "source": [
    "report(mach)"
   ]
  },
  {
   "cell_type": "code",
   "execution_count": null,
   "metadata": {
    "scrolled": true
   },
   "outputs": [],
   "source": [
    "report(mach)[:principalvars]"
   ]
  },
  {
   "cell_type": "code",
   "execution_count": null,
   "metadata": {
    "scrolled": true
   },
   "outputs": [],
   "source": [
    "fitted_params(mach)[1]"
   ]
  },
  {
   "cell_type": "code",
   "execution_count": null,
   "metadata": {},
   "outputs": [],
   "source": [
    "d = MLJ.transform(mach, rows=train)"
   ]
  },
  {
   "cell_type": "code",
   "execution_count": null,
   "metadata": {},
   "outputs": [],
   "source": [
    "scitype(d)"
   ]
  },
  {
   "cell_type": "code",
   "execution_count": null,
   "metadata": {
    "scrolled": true
   },
   "outputs": [],
   "source": [
    "report(mach)[:mean]"
   ]
  },
  {
   "cell_type": "code",
   "execution_count": null,
   "metadata": {
    "scrolled": true
   },
   "outputs": [],
   "source": [
    "# plot explained variance\n",
    "max_dims=31\n",
    "ex_vars = []\n",
    "err_vars = []\n",
    "\n",
    "for i in 1:max_dims\n",
    "    model.maxoutdim = i\n",
    "    mach = machine(model, X_stand)\n",
    "    MLJ.fit!(mach, rows=train) \n",
    "    d = MLJ.transform(mach, rows=train)\n",
    "    \n",
    "    r = mach.report\n",
    "    push!(ex_vars, r[:tprincipalvar] / r[:tvar])   \n",
    "    \n",
    "    sqerr = (train_data - (Array(d) * fitted_params(mach)[1]' .+ r[:mean]')).^2 |> sum\n",
    "    push!(err_vars, sqerr) \n",
    "    \n",
    "end\n"
   ]
  },
  {
   "cell_type": "code",
   "execution_count": null,
   "metadata": {},
   "outputs": [],
   "source": [
    "#elbow method\n",
    "plot(1:max_dims, ex_vars, label=\"Explained Variance\", legend=false)\n",
    "ylims!(0,1)\n",
    "yticks!(0:0.1:1)\n",
    "xticks!(2:2:30)\n",
    "xlabel!(\"Principal Components\")\n",
    "ylabel!(\"Explained Variance vs. No. Components\")"
   ]
  },
  {
   "cell_type": "code",
   "execution_count": null,
   "metadata": {},
   "outputs": [],
   "source": [
    "savefig(\"figures/bio_pca_explained_variance\")"
   ]
  },
  {
   "cell_type": "markdown",
   "metadata": {},
   "source": [
    "weak elbow, that has low explained variance. probably going to opt for around 20 after which it doesn't improve quickly"
   ]
  },
  {
   "cell_type": "code",
   "execution_count": null,
   "metadata": {},
   "outputs": [],
   "source": [
    "plot(1:max_dims, err_vars, legend=false)\n",
    "xlabel!(\"Principal Dimensions\")\n",
    "ylabel!(\"Squared Projection Loss\")\n",
    "xticks!(1:max_dims)\n",
    "xticks!(2:2:30)"
   ]
  },
  {
   "cell_type": "code",
   "execution_count": null,
   "metadata": {},
   "outputs": [],
   "source": [
    "savefig(\"figures/bio_pca_sqerr\")"
   ]
  },
  {
   "cell_type": "markdown",
   "metadata": {},
   "source": [
    "visualize top 2 or 3 principal components"
   ]
  },
  {
   "cell_type": "code",
   "execution_count": null,
   "metadata": {},
   "outputs": [],
   "source": [
    "sum(mach.report[:principalvars][1:3]) / sum(mach.report[:principalvars])"
   ]
  },
  {
   "cell_type": "code",
   "execution_count": null,
   "metadata": {},
   "outputs": [],
   "source": [
    "model.maxoutdim = 3\n",
    "mach = machine(model, X_stand)\n",
    "MLJ.fit!(mach, rows=train) \n",
    "data_trans = MLJ.transform(mach, rows=train)"
   ]
  },
  {
   "cell_type": "code",
   "execution_count": null,
   "metadata": {
    "scrolled": false
   },
   "outputs": [],
   "source": [
    "plotattr(:Series)\n",
    "plotattr(\"markercolor\")\n",
    "plotattr(\"seriescolor\")\n",
    "plotattr(\"camera\")"
   ]
  },
  {
   "cell_type": "code",
   "execution_count": null,
   "metadata": {},
   "outputs": [],
   "source": [
    "scatter(data_trans[:,1],data_trans[:,2],data_trans[:,3], leg=false, c=y_1h, camera=(60,80))"
   ]
  },
  {
   "cell_type": "code",
   "execution_count": null,
   "metadata": {},
   "outputs": [],
   "source": [
    "savefig(\"figures/bio_pca_$(model.maxoutdim)_comps_3D\")"
   ]
  },
  {
   "cell_type": "code",
   "execution_count": null,
   "metadata": {},
   "outputs": [],
   "source": [
    "scatter(data_trans[:,1],data_trans[:,2],data_trans[:,3], leg=false, c=y_1h, camera=(50,30))"
   ]
  },
  {
   "cell_type": "code",
   "execution_count": null,
   "metadata": {},
   "outputs": [],
   "source": [
    "PCA_best_comps = 22;"
   ]
  },
  {
   "cell_type": "code",
   "execution_count": null,
   "metadata": {},
   "outputs": [],
   "source": [
    "model.maxoutdim = PCA_best_comps\n",
    "mach = machine(model, X_stand)\n",
    "MLJ.fit!(mach, rows=train) \n",
    "PCA_data = MLJ.transform(mach, rows=train)"
   ]
  },
  {
   "cell_type": "markdown",
   "metadata": {},
   "source": [
    "### ICA"
   ]
  },
  {
   "cell_type": "code",
   "execution_count": null,
   "metadata": {
    "scrolled": true
   },
   "outputs": [],
   "source": [
    "info(\"ICA\")"
   ]
  },
  {
   "cell_type": "code",
   "execution_count": null,
   "metadata": {},
   "outputs": [],
   "source": [
    "model = @load ICA pkg=\"MultivariateStats\" \n",
    "model.k = 2\n",
    "model.do_whiten = true\n",
    "model.maxiter= 200\n",
    "mach = machine(model, X_stand)\n",
    "MLJ.fit!(mach, rows=train)"
   ]
  },
  {
   "cell_type": "code",
   "execution_count": null,
   "metadata": {
    "scrolled": true
   },
   "outputs": [],
   "source": [
    "report(mach)"
   ]
  },
  {
   "cell_type": "code",
   "execution_count": null,
   "metadata": {
    "scrolled": true
   },
   "outputs": [],
   "source": [
    "mach.fitresult.W, mach.fitresult.mean"
   ]
  },
  {
   "cell_type": "code",
   "execution_count": null,
   "metadata": {},
   "outputs": [],
   "source": [
    "data_trans = MLJ.transform(mach, rows=train)"
   ]
  },
  {
   "cell_type": "code",
   "execution_count": null,
   "metadata": {},
   "outputs": [],
   "source": [
    "kurtosis(convert(Array, data_trans))"
   ]
  },
  {
   "cell_type": "code",
   "execution_count": null,
   "metadata": {},
   "outputs": [],
   "source": [
    "max_comps = 10\n",
    "model.maxiter= 1000\n",
    "kurts = []\n",
    "best_kurt = -Inf\n",
    "best_ica_mach = nothing\n",
    "best_i = 0\n",
    "err_vars = []\n",
    "\n",
    "for i in 1:max_comps\n",
    "    @show i\n",
    "    model.k = i\n",
    "    model.do_whiten = true\n",
    "    mach = machine(model, X_stand)\n",
    "    MLJ.fit!(mach, rows=train)\n",
    "    d = MLJ.transform(mach, rows=train)\n",
    "    r = mach.report\n",
    "    krtoes = kurtosis(convert(Array, d))\n",
    "    push!(kurts, krtoes)\n",
    "    \n",
    "    sqerr = (train_data - (Array(d) * mach.fitresult.W' .+ mach.fitresult.mean')).^2 |> sum\n",
    "    push!(err_vars, sqerr) \n",
    "    \n",
    "    if krtoes > best_kurt\n",
    "        best_ica_mach = mach\n",
    "        best_i = i\n",
    "        best_kurt = krtoes\n",
    "    end    \n",
    "end"
   ]
  },
  {
   "cell_type": "code",
   "execution_count": null,
   "metadata": {},
   "outputs": [],
   "source": [
    "kurts"
   ]
  },
  {
   "cell_type": "code",
   "execution_count": null,
   "metadata": {},
   "outputs": [],
   "source": [
    "best_i, best_kurt"
   ]
  },
  {
   "cell_type": "code",
   "execution_count": null,
   "metadata": {},
   "outputs": [],
   "source": [
    "best_ica_mach"
   ]
  },
  {
   "cell_type": "code",
   "execution_count": null,
   "metadata": {},
   "outputs": [],
   "source": [
    "plot(kurts, legend=false, xlabel=\"Components\", ylabel=\"Kurtosis\", title=\"ICA Total Kurtosis vs. No. of Components\")"
   ]
  },
  {
   "cell_type": "code",
   "execution_count": null,
   "metadata": {},
   "outputs": [],
   "source": [
    "savefig(\"figures/bio_ica_kurtosis\")"
   ]
  },
  {
   "cell_type": "code",
   "execution_count": null,
   "metadata": {},
   "outputs": [],
   "source": [
    "plot(1:max_comps, err_vars, legend=false)\n",
    "xlabel!(\"Independent Dimensions\")\n",
    "ylabel!(\"Squared Projection Loss\")\n",
    "xticks!(1:max_dims)\n",
    "# ylims!(0.5, 1)"
   ]
  },
  {
   "cell_type": "code",
   "execution_count": null,
   "metadata": {},
   "outputs": [],
   "source": [
    "savefig(\"figures/bio_ica_sqerr\")"
   ]
  },
  {
   "cell_type": "code",
   "execution_count": null,
   "metadata": {},
   "outputs": [],
   "source": [
    "ica_trans = MLJ.transform(best_ica_mach, rows=train)"
   ]
  },
  {
   "cell_type": "code",
   "execution_count": null,
   "metadata": {},
   "outputs": [],
   "source": [
    "best_component = 0\n",
    "best_k_so_far = 0\n",
    "second_best = 0\n",
    "for i in 1:size(ica_trans)[2]\n",
    "    curr_k = kurtosis(ica_trans[:,i])\n",
    "    @show i curr_k\n",
    "    if curr_k > best_k_so_far\n",
    "        second_best = best_component\n",
    "        best_component = i\n",
    "        best_k_so_far = curr_k\n",
    "    end\n",
    "    \n",
    "end"
   ]
  },
  {
   "cell_type": "code",
   "execution_count": null,
   "metadata": {
    "scrolled": true
   },
   "outputs": [],
   "source": [
    "weight_mat = best_ica_mach.fitresult.W[:,best_component]\n",
    "\n",
    "# https://stackoverflow.com/questions/3989016/how-to-find-all-positions-of-the-maximum-value-in-a-list\n",
    "m = sort!(collect(zip((abs.(weight_mat)), 1:size(weight_mat)[1])), by=x->x[1], rev=true)"
   ]
  },
  {
   "cell_type": "markdown",
   "metadata": {},
   "source": [
    "largest weighted features above deal with the number of carbon bonds and the number of halogen atoms in the molecule. these are actually largely independent, e.g. one is not a physical property that could be influenced by the other"
   ]
  },
  {
   "cell_type": "code",
   "execution_count": null,
   "metadata": {
    "scrolled": false
   },
   "outputs": [],
   "source": [
    "marginalscatter(ica_trans[:,best_component],ica_trans[:,second_best], leg=false, c=y_1h)"
   ]
  },
  {
   "cell_type": "code",
   "execution_count": null,
   "metadata": {},
   "outputs": [],
   "source": [
    "savefig(\"figures/bio_ica_pair\")"
   ]
  },
  {
   "cell_type": "markdown",
   "metadata": {},
   "source": [
    "2 components have very high kurtosis"
   ]
  },
  {
   "cell_type": "code",
   "execution_count": null,
   "metadata": {
    "scrolled": false
   },
   "outputs": [],
   "source": [
    "pairplot(data_trans, y_1h, c=1:6)"
   ]
  },
  {
   "cell_type": "code",
   "execution_count": null,
   "metadata": {},
   "outputs": [],
   "source": [
    "model = @load ICA pkg=\"MultivariateStats\" \n",
    "model.k = best_i\n",
    "model.do_whiten = true\n",
    "model.maxiter= 1000\n",
    "best_ica_mach = machine(model, X_stand)\n",
    "MLJ.fit!(best_ica_mach, rows=train)\n",
    "ICA_data = MLJ.transform(best_ica_mach, rows=train)"
   ]
  },
  {
   "cell_type": "markdown",
   "metadata": {},
   "source": [
    "### Randomized Projections\n",
    "* https://scikit-learn.org/stable/modules/generated/sklearn.random_projection.SparseRandomProjection.html#sklearn.random_projection.SparseRandomProjection"
   ]
  },
  {
   "cell_type": "code",
   "execution_count": null,
   "metadata": {},
   "outputs": [],
   "source": [
    "sklearn_rp = pyimport(\"sklearn.random_projection\") # may be necessary to run this"
   ]
  },
  {
   "cell_type": "code",
   "execution_count": null,
   "metadata": {},
   "outputs": [],
   "source": [
    "RP = sklearn_rp.SparseRandomProjection(n_components=6, random_state=RNG)"
   ]
  },
  {
   "cell_type": "code",
   "execution_count": null,
   "metadata": {
    "scrolled": true
   },
   "outputs": [],
   "source": [
    "X_RP = RP.fit_transform(train_data)"
   ]
  },
  {
   "cell_type": "code",
   "execution_count": null,
   "metadata": {},
   "outputs": [],
   "source": [
    "(train_data - convert(Array, X_RP * RP.components_)).^2 |> mean"
   ]
  },
  {
   "cell_type": "code",
   "execution_count": null,
   "metadata": {
    "scrolled": true
   },
   "outputs": [],
   "source": [
    "# plot reconstruction error\n",
    "max_dims=25\n",
    "err_vars_all = []\n",
    "\n",
    "for z in rand(1:1000, 7)\n",
    "    err_vars = []\n",
    "\n",
    "    for i in 1:max_dims\n",
    "        RP = sklearn_rp.SparseRandomProjection(n_components=i, random_state=z)\n",
    "        X_RP = RP.fit_transform(train_data)\n",
    "        sqerr = (train_data - convert(Array, X_RP * RP.components_)).^2 |> sum\n",
    "\n",
    "        push!(err_vars, sqerr)   \n",
    "    end\n",
    "    push!(err_vars_all, err_vars)\n",
    "end\n",
    "\n",
    "# https://stackoverflow.com/questions/36566844/pca-projection-and-reconstruction-in-scikit-learn"
   ]
  },
  {
   "cell_type": "code",
   "execution_count": null,
   "metadata": {},
   "outputs": [],
   "source": [
    "plot(1:max_dims, err_vars_all, legend=false)\n",
    "xlabel!(\"Random Dimensions\")\n",
    "ylabel!(\"Squared Projection Loss\")\n",
    "xticks!(1:2:max_dims)"
   ]
  },
  {
   "cell_type": "code",
   "execution_count": null,
   "metadata": {},
   "outputs": [],
   "source": [
    "savefig(\"figures/bio_rp_sqerr\")"
   ]
  },
  {
   "cell_type": "code",
   "execution_count": null,
   "metadata": {},
   "outputs": [],
   "source": [
    "RP = sklearn_rp.SparseRandomProjection(n_components=23, random_state=RNG)"
   ]
  },
  {
   "cell_type": "code",
   "execution_count": null,
   "metadata": {
    "scrolled": true
   },
   "outputs": [],
   "source": [
    "RP_data = RP.fit_transform(train_data)"
   ]
  },
  {
   "cell_type": "markdown",
   "metadata": {},
   "source": [
    "### Probabilistic PCA\n",
    "* https://multivariatestatsjl.readthedocs.io/en/stable/kpca.html"
   ]
  },
  {
   "cell_type": "code",
   "execution_count": null,
   "metadata": {},
   "outputs": [],
   "source": [
    "models(\"MultivariateStats\")"
   ]
  },
  {
   "cell_type": "code",
   "execution_count": null,
   "metadata": {
    "scrolled": true
   },
   "outputs": [],
   "source": [
    "info(\"PPCA\")"
   ]
  },
  {
   "cell_type": "code",
   "execution_count": null,
   "metadata": {},
   "outputs": [],
   "source": [
    "model = @load PPCA pkg=\"MultivariateStats\"\n",
    "model.maxoutdim = 8\n",
    "model.method = :ml"
   ]
  },
  {
   "cell_type": "code",
   "execution_count": null,
   "metadata": {},
   "outputs": [],
   "source": [
    "mach = machine(model, X_stand)\n",
    "MLJ.fit!(mach, rows=train)"
   ]
  },
  {
   "cell_type": "code",
   "execution_count": null,
   "metadata": {
    "scrolled": false
   },
   "outputs": [],
   "source": [
    "report(mach)"
   ]
  },
  {
   "cell_type": "code",
   "execution_count": null,
   "metadata": {
    "scrolled": true
   },
   "outputs": [],
   "source": [
    "fitted_params(mach)"
   ]
  },
  {
   "cell_type": "code",
   "execution_count": null,
   "metadata": {
    "scrolled": true
   },
   "outputs": [],
   "source": [
    "fitted_params(mach)[1]"
   ]
  },
  {
   "cell_type": "code",
   "execution_count": null,
   "metadata": {},
   "outputs": [],
   "source": [
    "d = MLJ.transform(mach, rows=train)"
   ]
  },
  {
   "cell_type": "code",
   "execution_count": null,
   "metadata": {},
   "outputs": [],
   "source": [
    "(train_data - (Array(d) * fitted_params(mach)[1]' .+ report(mach)[:mean]')).^2 |> sum"
   ]
  },
  {
   "cell_type": "code",
   "execution_count": null,
   "metadata": {
    "scrolled": true
   },
   "outputs": [],
   "source": [
    "# plot reconstruction error\n",
    "max_dims=15\n",
    "err_vars = []\n",
    "\n",
    "for i in 1:max_dims\n",
    "    model.maxoutdim = i\n",
    "    mach = machine(model, X_stand)\n",
    "    MLJ.fit!(mach, rows=train) \n",
    "    d = MLJ.transform(mach, rows=train)\n",
    "    r = mach.report\n",
    "    \n",
    "    sqerr = (train_data - (Array(d) * fitted_params(mach)[1]' .+ r[:mean]')).^2 |> sum\n",
    "    push!(err_vars, sqerr) \n",
    "    \n",
    "end\n"
   ]
  },
  {
   "cell_type": "code",
   "execution_count": null,
   "metadata": {},
   "outputs": [],
   "source": [
    "plot(1:max_dims, err_vars, legend=false)\n",
    "xlabel!(\"Principal Dimensions\")\n",
    "ylabel!(\"Squared Projection Loss\")\n",
    "xticks!(2:2:max_dims)"
   ]
  },
  {
   "cell_type": "code",
   "execution_count": null,
   "metadata": {},
   "outputs": [],
   "source": [
    "savefig(\"figures/bio_ppca_sqerr\")"
   ]
  },
  {
   "cell_type": "code",
   "execution_count": null,
   "metadata": {},
   "outputs": [],
   "source": [
    "PPCA_best_dim = 7\n",
    "model.maxoutdim = PPCA_best_dim\n",
    "model.method = :ml"
   ]
  },
  {
   "cell_type": "code",
   "execution_count": null,
   "metadata": {},
   "outputs": [],
   "source": [
    "mach = machine(model, X_stand)\n",
    "MLJ.fit!(mach, rows=train)\n",
    "PPCA_data = MLJ.transform(mach, rows=train)"
   ]
  },
  {
   "cell_type": "markdown",
   "metadata": {},
   "source": [
    "# Clustering Pt 2\n",
    "Reproduce your clustering experiments, but on the data after you've run dimensionality reduction on it. Yes, that’s 16 combinations of datasets, dimensionality reduction, and clustering method. You should look at all of them, but focus on the more interesting findings in your report."
   ]
  },
  {
   "cell_type": "markdown",
   "metadata": {},
   "source": [
    "### PCA - Kmeans"
   ]
  },
  {
   "cell_type": "code",
   "execution_count": null,
   "metadata": {
    "scrolled": true
   },
   "outputs": [],
   "source": [
    "PCA_data = convert(Array, PCA_data)"
   ]
  },
  {
   "cell_type": "code",
   "execution_count": null,
   "metadata": {},
   "outputs": [],
   "source": [
    "upper = 7\n",
    "k_range = 2:upper\n",
    "total_costs = []\n",
    "sils = []\n",
    "ls = []\n",
    "sil_means = []\n",
    "assignments = []\n",
    "\n",
    "for i in k_range\n",
    "    println(\"K = $i\")\n",
    "    model = ParallelKMeans.KMeans(k=i, rng=RNG)\n",
    "    mach = machine(model, PCA_data)\n",
    "    MLJ.fit!(mach)\n",
    "    \n",
    "#     @show report(mach) \n",
    "#     @show fitted_params(mach)\n",
    "    @show mach.report.totalcost # https://github.com/PyDataBlog/ParallelKMeans.jl/blob/87ce07d10796078aacffcbea0b2e9dc0c02f25d7/src/hamerly.jl#L65\n",
    "    d = countmap(mach.report.assignments)\n",
    "    \n",
    "    k = d |> keys\n",
    "    v = d |> values\n",
    "    l = sort(collect(zip(k,v)), by=x->x[1])\n",
    "    @show l\n",
    "    \n",
    "    # https://juliastats.org/Clustering.jl/stable/validate.html\n",
    "    s = silhouettes(mach.report.assignments, dist_mat(PCA_data))\n",
    "    println(\"silhouette: $(mean(s))\")\n",
    "    \n",
    "    push!(assignments, mach.report.assignments)\n",
    "    push!(ls, l)\n",
    "    push!(total_costs, mach.report.totalcost) \n",
    "    push!(sils, s)\n",
    "    push!(sil_means, mean(s))\n",
    "    println(\"\")\n",
    "end"
   ]
  },
  {
   "cell_type": "code",
   "execution_count": null,
   "metadata": {},
   "outputs": [],
   "source": [
    "plot(k_range, total_costs, legend=:bottomleft, label=\"Total Squared Error\", color=:green, lw=2)\n",
    "xlabel!(\"Number of Clusters\")\n",
    "plot!(twinx(), k_range, sil_means, legend=:topright, label=\"Silhouette Score\", color=:blue, lw=2)"
   ]
  },
  {
   "cell_type": "code",
   "execution_count": null,
   "metadata": {},
   "outputs": [],
   "source": [
    "savefig(\"figures/bio_pca_kmeans_metrics_$upper\")"
   ]
  },
  {
   "cell_type": "code",
   "execution_count": null,
   "metadata": {},
   "outputs": [],
   "source": [
    "mat = prepare_portfolio(ls)\n",
    "plotmat = cum_columns(mat, normalize=true)"
   ]
  },
  {
   "cell_type": "code",
   "execution_count": null,
   "metadata": {
    "scrolled": false
   },
   "outputs": [],
   "source": [
    "cum_plot(plotmat)"
   ]
  },
  {
   "cell_type": "code",
   "execution_count": null,
   "metadata": {},
   "outputs": [],
   "source": [
    "savefig(\"figures/bio_pca_kmeans_portfolio_$upper\")"
   ]
  },
  {
   "cell_type": "code",
   "execution_count": null,
   "metadata": {
    "scrolled": true
   },
   "outputs": [],
   "source": [
    "y_1h = map(x-> if (x == \"RB\") 1 else 2 end , y[train])\n",
    "collect(zip(assignments[2], y_1h))"
   ]
  },
  {
   "cell_type": "code",
   "execution_count": null,
   "metadata": {},
   "outputs": [],
   "source": [
    "mutualinfo(assignments[2], y_1h)"
   ]
  },
  {
   "cell_type": "code",
   "execution_count": null,
   "metadata": {},
   "outputs": [],
   "source": [
    "vmeasure(assignments[2], y_1h)"
   ]
  },
  {
   "cell_type": "code",
   "execution_count": null,
   "metadata": {},
   "outputs": [],
   "source": [
    "randindex(assignments[2], y_1h)"
   ]
  },
  {
   "cell_type": "code",
   "execution_count": null,
   "metadata": {},
   "outputs": [],
   "source": [
    "varinfo(assignments[2], y_1h)"
   ]
  },
  {
   "cell_type": "markdown",
   "metadata": {},
   "source": [
    "### PCA - EM"
   ]
  },
  {
   "cell_type": "code",
   "execution_count": null,
   "metadata": {
    "scrolled": true
   },
   "outputs": [],
   "source": [
    "upper = 8\n",
    "k_range = 2:upper\n",
    "bics = []\n",
    "sils = []\n",
    "ls = []\n",
    "sil_means = []\n",
    "assignments = []\n",
    "\n",
    "for i in k_range\n",
    "    println(\"Gaussians = $i\")\n",
    "    clf = sklearn_m.GaussianMixture(n_components=i, covariance_type=\"full\", random_state=RNG)\n",
    "    labels = clf.fit_predict(PCA_data) .+ 1; # indexing issues from python to julia functions\n",
    "    \n",
    "    d = countmap(labels)\n",
    "    k = d |> keys\n",
    "    v = d |> values\n",
    "    l = sort(collect(zip(k,v)), by=x->x[1])\n",
    "    @show l\n",
    "    \n",
    "    s = silhouettes(labels, dist_mat(PCA_data))\n",
    "    println(\"silhouette: $(mean(s))\")\n",
    "    \n",
    "    bayes_ic = clf.bic(PCA_data)\n",
    "    @show bayes_ic\n",
    "    \n",
    "    push!(ls, l)\n",
    "    push!(sils, s)\n",
    "    push!(sil_means, mean(s))\n",
    "    push!(bics, bayes_ic)\n",
    "    push!(assignments, labels)\n",
    "    println(\"\")\n",
    "end"
   ]
  },
  {
   "cell_type": "code",
   "execution_count": null,
   "metadata": {
    "scrolled": false
   },
   "outputs": [],
   "source": [
    "plot(k_range, bics, legend=:bottomleft, label=\"Bayesian Info Criteria\", color=:green, lw=2)\n",
    "xlabel!(\"Number of Clusters\")\n",
    "plot!(twinx(),k_range, sil_means, legend=:topright, label=\"Silhouette Score\", color=:blue, lw=2)"
   ]
  },
  {
   "cell_type": "code",
   "execution_count": null,
   "metadata": {},
   "outputs": [],
   "source": [
    "savefig(\"figures/bio_pca_em_metrics_$upper\")"
   ]
  },
  {
   "cell_type": "code",
   "execution_count": null,
   "metadata": {},
   "outputs": [],
   "source": [
    "mat = prepare_portfolio(ls)\n",
    "plotmat = cum_columns(mat, normalize=true)\n",
    "cum_plot(plotmat)"
   ]
  },
  {
   "cell_type": "code",
   "execution_count": null,
   "metadata": {},
   "outputs": [],
   "source": [
    "savefig(\"figures/bio_pca_em_portfolio_$upper\")"
   ]
  },
  {
   "cell_type": "code",
   "execution_count": null,
   "metadata": {
    "scrolled": true
   },
   "outputs": [],
   "source": [
    "y_1h = map(x-> if (x == \"RB\") 1 else 2 end , y[train])\n",
    "collect(zip(assignments[2], y_1h))"
   ]
  },
  {
   "cell_type": "code",
   "execution_count": null,
   "metadata": {},
   "outputs": [],
   "source": [
    "mutualinfo(assignments[2], y_1h)"
   ]
  },
  {
   "cell_type": "code",
   "execution_count": null,
   "metadata": {},
   "outputs": [],
   "source": [
    "vmeasure(assignments[2], y_1h)"
   ]
  },
  {
   "cell_type": "code",
   "execution_count": null,
   "metadata": {},
   "outputs": [],
   "source": [
    "randindex(assignments[2], y_1h)"
   ]
  },
  {
   "cell_type": "code",
   "execution_count": null,
   "metadata": {},
   "outputs": [],
   "source": [
    "varinfo(assignments[2], y_1h)"
   ]
  },
  {
   "cell_type": "markdown",
   "metadata": {},
   "source": [
    "### ICA - Kmeans"
   ]
  },
  {
   "cell_type": "code",
   "execution_count": null,
   "metadata": {
    "scrolled": true
   },
   "outputs": [],
   "source": [
    "ICA_data = convert(Array, ICA_data)"
   ]
  },
  {
   "cell_type": "code",
   "execution_count": null,
   "metadata": {},
   "outputs": [],
   "source": [
    "upper = 8\n",
    "k_range = 2:upper\n",
    "total_costs = []\n",
    "sils = []\n",
    "ls = []\n",
    "sil_means = []\n",
    "assignments = []\n",
    "\n",
    "for i in k_range\n",
    "    println(\"K = $i\")\n",
    "    model = ParallelKMeans.KMeans(k=i, rng=RNG)\n",
    "    mach = machine(model, ICA_data)\n",
    "    MLJ.fit!(mach)\n",
    "    \n",
    "#     @show report(mach) \n",
    "#     @show fitted_params(mach)\n",
    "    @show mach.report.totalcost # https://github.com/PyDataBlog/ParallelKMeans.jl/blob/87ce07d10796078aacffcbea0b2e9dc0c02f25d7/src/hamerly.jl#L65\n",
    "    d = countmap(mach.report.assignments)\n",
    "    \n",
    "    k = d |> keys\n",
    "    v = d |> values\n",
    "    l = sort(collect(zip(k,v)), by=x->x[1])\n",
    "    @show l\n",
    "    \n",
    "    # https://juliastats.org/Clustering.jl/stable/validate.html\n",
    "    s = silhouettes(mach.report.assignments, dist_mat(ICA_data))\n",
    "    println(\"silhouette: $(mean(s))\")\n",
    "    \n",
    "    push!(assignments, mach.report.assignments)\n",
    "    push!(ls, l)\n",
    "    push!(total_costs, mach.report.totalcost) \n",
    "    push!(sils, s)\n",
    "    push!(sil_means, mean(s))\n",
    "    println(\"\")\n",
    "end"
   ]
  },
  {
   "cell_type": "code",
   "execution_count": null,
   "metadata": {},
   "outputs": [],
   "source": [
    "plot(k_range, total_costs, legend=:bottomleft, label=\"Total Squared Error\", color=:green, lw=2)\n",
    "xlabel!(\"Number of Clusters\")\n",
    "plot!(twinx(), k_range, sil_means, legend=:topright, label=\"Silhouette Score\", color=:blue, lw=2)"
   ]
  },
  {
   "cell_type": "code",
   "execution_count": null,
   "metadata": {},
   "outputs": [],
   "source": [
    "savefig(\"figures/bio_ica_kmeans_metrics_$upper\")"
   ]
  },
  {
   "cell_type": "code",
   "execution_count": null,
   "metadata": {},
   "outputs": [],
   "source": [
    "mat = prepare_portfolio(ls)\n",
    "plotmat = cum_columns(mat, normalize=true)"
   ]
  },
  {
   "cell_type": "code",
   "execution_count": null,
   "metadata": {
    "scrolled": false
   },
   "outputs": [],
   "source": [
    "cum_plot(plotmat)"
   ]
  },
  {
   "cell_type": "code",
   "execution_count": null,
   "metadata": {},
   "outputs": [],
   "source": [
    "savefig(\"figures/bio_ica_kmeans_portfolio_$upper\")"
   ]
  },
  {
   "cell_type": "code",
   "execution_count": null,
   "metadata": {
    "scrolled": true
   },
   "outputs": [],
   "source": [
    "y_1h = map(x-> if (x == \"RB\") 1 else 2 end , y[train])\n",
    "collect(zip(assignments[2], y_1h))"
   ]
  },
  {
   "cell_type": "code",
   "execution_count": null,
   "metadata": {},
   "outputs": [],
   "source": [
    "mutualinfo(assignments[2], y_1h)"
   ]
  },
  {
   "cell_type": "code",
   "execution_count": null,
   "metadata": {},
   "outputs": [],
   "source": [
    "vmeasure(assignments[2], y_1h)"
   ]
  },
  {
   "cell_type": "code",
   "execution_count": null,
   "metadata": {},
   "outputs": [],
   "source": [
    "randindex(assignments[2], y_1h)"
   ]
  },
  {
   "cell_type": "code",
   "execution_count": null,
   "metadata": {},
   "outputs": [],
   "source": [
    "varinfo(assignments[2], y_1h)"
   ]
  },
  {
   "cell_type": "markdown",
   "metadata": {},
   "source": [
    "### ICA - EM "
   ]
  },
  {
   "cell_type": "code",
   "execution_count": null,
   "metadata": {
    "scrolled": true
   },
   "outputs": [],
   "source": [
    "upper = 8\n",
    "k_range = 2:upper\n",
    "bics = []\n",
    "sils = []\n",
    "ls = []\n",
    "sil_means = []\n",
    "assignments = []\n",
    "\n",
    "for i in k_range\n",
    "    println(\"Gaussians = $i\")\n",
    "    clf = sklearn_m.GaussianMixture(n_components=i, covariance_type=\"full\", random_state=RNG)\n",
    "    labels = clf.fit_predict(PCA_data) .+ 1; # indexing issues from python to julia functions\n",
    "    \n",
    "    d = countmap(labels)\n",
    "    k = d |> keys\n",
    "    v = d |> values\n",
    "    l = sort(collect(zip(k,v)), by=x->x[1])\n",
    "    @show l\n",
    "    \n",
    "    s = silhouettes(labels, dist_mat(PCA_data))\n",
    "    println(\"silhouette: $(mean(s))\")\n",
    "    \n",
    "    bayes_ic = clf.bic(PCA_data)\n",
    "    @show bayes_ic\n",
    "    \n",
    "    push!(ls, l)\n",
    "    push!(sils, s)\n",
    "    push!(sil_means, mean(s))\n",
    "    push!(bics, bayes_ic)\n",
    "    push!(assignments, labels)\n",
    "    println(\"\")\n",
    "end"
   ]
  },
  {
   "cell_type": "code",
   "execution_count": null,
   "metadata": {
    "scrolled": false
   },
   "outputs": [],
   "source": [
    "plot(k_range, bics, legend=:bottomleft, label=\"Bayesian Info Criteria\", color=:green, lw=2)\n",
    "xlabel!(\"Number of Clusters\")\n",
    "plot!(twinx(),k_range, sil_means, legend=:topright, label=\"Silhouette Score\", color=:blue, lw=2)"
   ]
  },
  {
   "cell_type": "code",
   "execution_count": null,
   "metadata": {},
   "outputs": [],
   "source": [
    "savefig(\"figures/bio_ica_em_metrics_$upper\")"
   ]
  },
  {
   "cell_type": "code",
   "execution_count": null,
   "metadata": {},
   "outputs": [],
   "source": [
    "mat = prepare_portfolio(ls)\n",
    "plotmat = cum_columns(mat, normalize=true)\n",
    "cum_plot(plotmat)"
   ]
  },
  {
   "cell_type": "code",
   "execution_count": null,
   "metadata": {},
   "outputs": [],
   "source": [
    "savefig(\"figures/bio_ica_em_portfolio_$upper\")"
   ]
  },
  {
   "cell_type": "code",
   "execution_count": null,
   "metadata": {
    "scrolled": true
   },
   "outputs": [],
   "source": [
    "y_1h = map(x-> if (x == \"RB\") 1 else 2 end , y[train])\n",
    "collect(zip(assignments[2], y_1h))"
   ]
  },
  {
   "cell_type": "code",
   "execution_count": null,
   "metadata": {},
   "outputs": [],
   "source": [
    "mutualinfo(assignments[2], y_1h)"
   ]
  },
  {
   "cell_type": "code",
   "execution_count": null,
   "metadata": {},
   "outputs": [],
   "source": [
    "vmeasure(assignments[2], y_1h)"
   ]
  },
  {
   "cell_type": "code",
   "execution_count": null,
   "metadata": {},
   "outputs": [],
   "source": [
    "randindex(assignments[2], y_1h)"
   ]
  },
  {
   "cell_type": "code",
   "execution_count": null,
   "metadata": {},
   "outputs": [],
   "source": [
    "varinfo(assignments[2], y_1h)"
   ]
  },
  {
   "cell_type": "markdown",
   "metadata": {},
   "source": [
    "### Randomized Projections - Kmeans"
   ]
  },
  {
   "cell_type": "code",
   "execution_count": null,
   "metadata": {},
   "outputs": [],
   "source": [
    "upper = 8\n",
    "k_range = 2:upper\n",
    "total_costs = []\n",
    "sils = []\n",
    "ls = []\n",
    "sil_means = []\n",
    "assignments = []\n",
    "\n",
    "for i in k_range\n",
    "    println(\"K = $i\")\n",
    "    model = ParallelKMeans.KMeans(k=i, rng=RNG)\n",
    "    mach = machine(model, RP_data)\n",
    "    MLJ.fit!(mach)\n",
    "    \n",
    "#     @show report(mach) \n",
    "#     @show fitted_params(mach)\n",
    "    @show mach.report.totalcost # https://github.com/PyDataBlog/ParallelKMeans.jl/blob/87ce07d10796078aacffcbea0b2e9dc0c02f25d7/src/hamerly.jl#L65\n",
    "    d = countmap(mach.report.assignments)\n",
    "    \n",
    "    k = d |> keys\n",
    "    v = d |> values\n",
    "    l = sort(collect(zip(k,v)), by=x->x[1])\n",
    "    @show l\n",
    "    \n",
    "    # https://juliastats.org/Clustering.jl/stable/validate.html\n",
    "    s = silhouettes(mach.report.assignments, dist_mat(RP_data))\n",
    "    println(\"silhouette: $(mean(s))\")\n",
    "    \n",
    "    push!(assignments, mach.report.assignments)\n",
    "    push!(ls, l)\n",
    "    push!(total_costs, mach.report.totalcost) \n",
    "    push!(sils, s)\n",
    "    push!(sil_means, mean(s))\n",
    "    println(\"\")\n",
    "end"
   ]
  },
  {
   "cell_type": "code",
   "execution_count": null,
   "metadata": {},
   "outputs": [],
   "source": [
    "plot(k_range, total_costs, legend=:bottomleft, label=\"Total Squared Error\", color=:green, lw=2)\n",
    "xlabel!(\"Number of Clusters\")\n",
    "plot!(twinx(), k_range, sil_means, legend=:topright, label=\"Silhouette Score\", color=:blue, lw=2)"
   ]
  },
  {
   "cell_type": "code",
   "execution_count": null,
   "metadata": {},
   "outputs": [],
   "source": [
    "savefig(\"figures/bio_rp_kmeans_metrics_$upper\")"
   ]
  },
  {
   "cell_type": "code",
   "execution_count": null,
   "metadata": {},
   "outputs": [],
   "source": [
    "mat = prepare_portfolio(ls)\n",
    "plotmat = cum_columns(mat, normalize=true)"
   ]
  },
  {
   "cell_type": "code",
   "execution_count": null,
   "metadata": {
    "scrolled": false
   },
   "outputs": [],
   "source": [
    "cum_plot(plotmat)"
   ]
  },
  {
   "cell_type": "code",
   "execution_count": null,
   "metadata": {},
   "outputs": [],
   "source": [
    "savefig(\"figures/bio_rp_kmeans_portfolio_$upper\")"
   ]
  },
  {
   "cell_type": "code",
   "execution_count": null,
   "metadata": {
    "scrolled": true
   },
   "outputs": [],
   "source": [
    "y_1h = map(x-> if (x == \"RB\") 1 else 2 end , y[train])\n",
    "collect(zip(assignments[2], y_1h))"
   ]
  },
  {
   "cell_type": "code",
   "execution_count": null,
   "metadata": {},
   "outputs": [],
   "source": [
    "mutualinfo(assignments[2], y_1h)"
   ]
  },
  {
   "cell_type": "code",
   "execution_count": null,
   "metadata": {},
   "outputs": [],
   "source": [
    "vmeasure(assignments[2], y_1h)"
   ]
  },
  {
   "cell_type": "code",
   "execution_count": null,
   "metadata": {},
   "outputs": [],
   "source": [
    "randindex(assignments[2], y_1h)"
   ]
  },
  {
   "cell_type": "code",
   "execution_count": null,
   "metadata": {},
   "outputs": [],
   "source": [
    "varinfo(assignments[2], y_1h)"
   ]
  },
  {
   "cell_type": "markdown",
   "metadata": {},
   "source": [
    "### Randomized Projections - EM"
   ]
  },
  {
   "cell_type": "code",
   "execution_count": null,
   "metadata": {
    "scrolled": true
   },
   "outputs": [],
   "source": [
    "upper = 8\n",
    "k_range = 2:upper\n",
    "bics = []\n",
    "sils = []\n",
    "ls = []\n",
    "sil_means = []\n",
    "assignments = []\n",
    "\n",
    "for i in k_range\n",
    "    println(\"Gaussians = $i\")\n",
    "    clf = sklearn_m.GaussianMixture(n_components=i, covariance_type=\"full\", random_state=RNG)\n",
    "    labels = clf.fit_predict(RP_data) .+ 1; # indexing issues from python to julia functions\n",
    "    \n",
    "    d = countmap(labels)\n",
    "    k = d |> keys\n",
    "    v = d |> values\n",
    "    l = sort(collect(zip(k,v)), by=x->x[1])\n",
    "    @show l\n",
    "    \n",
    "    s = silhouettes(labels, dist_mat(RP_data))\n",
    "    println(\"silhouette: $(mean(s))\")\n",
    "    \n",
    "    bayes_ic = clf.bic(RP_data)\n",
    "    @show bayes_ic\n",
    "    \n",
    "    push!(ls, l)\n",
    "    push!(sils, s)\n",
    "    push!(sil_means, mean(s))\n",
    "    push!(bics, bayes_ic)\n",
    "    push!(assignments, labels)\n",
    "    println(\"\")\n",
    "end"
   ]
  },
  {
   "cell_type": "code",
   "execution_count": null,
   "metadata": {
    "scrolled": false
   },
   "outputs": [],
   "source": [
    "plot(k_range, bics, legend=:bottomleft, label=\"Bayesian Info Criteria\", color=:green, lw=2)\n",
    "xlabel!(\"Number of Clusters\")\n",
    "plot!(twinx(),k_range, sil_means, legend=:topright, label=\"Silhouette Score\", color=:blue, lw=2)"
   ]
  },
  {
   "cell_type": "code",
   "execution_count": null,
   "metadata": {},
   "outputs": [],
   "source": [
    "savefig(\"figures/bio_rp_em_metrics_$upper\")"
   ]
  },
  {
   "cell_type": "code",
   "execution_count": null,
   "metadata": {},
   "outputs": [],
   "source": [
    "mat = prepare_portfolio(ls)\n",
    "plotmat = cum_columns(mat, normalize=true)\n",
    "cum_plot(plotmat)"
   ]
  },
  {
   "cell_type": "code",
   "execution_count": null,
   "metadata": {},
   "outputs": [],
   "source": [
    "savefig(\"figures/bio_rp_em_portfolio_$upper\")"
   ]
  },
  {
   "cell_type": "code",
   "execution_count": null,
   "metadata": {
    "scrolled": true
   },
   "outputs": [],
   "source": [
    "y_1h = map(x-> if (x == \"RB\") 1 else 2 end , y[train])\n",
    "collect(zip(assignments[2], y_1h))"
   ]
  },
  {
   "cell_type": "code",
   "execution_count": null,
   "metadata": {},
   "outputs": [],
   "source": [
    "mutualinfo(assignments[2], y_1h)"
   ]
  },
  {
   "cell_type": "code",
   "execution_count": null,
   "metadata": {},
   "outputs": [],
   "source": [
    "vmeasure(assignments[2], y_1h)"
   ]
  },
  {
   "cell_type": "code",
   "execution_count": null,
   "metadata": {},
   "outputs": [],
   "source": [
    "randindex(assignments[2], y_1h)"
   ]
  },
  {
   "cell_type": "code",
   "execution_count": null,
   "metadata": {},
   "outputs": [],
   "source": [
    "varinfo(assignments[2], y_1h)"
   ]
  },
  {
   "cell_type": "markdown",
   "metadata": {},
   "source": [
    "### PPCA - Kmeans"
   ]
  },
  {
   "cell_type": "code",
   "execution_count": null,
   "metadata": {
    "scrolled": true
   },
   "outputs": [],
   "source": [
    "PPCA_data = Array(PPCA_data)"
   ]
  },
  {
   "cell_type": "code",
   "execution_count": null,
   "metadata": {},
   "outputs": [],
   "source": [
    "upper = 8\n",
    "k_range = 2:upper\n",
    "total_costs = []\n",
    "sils = []\n",
    "ls = []\n",
    "sil_means = []\n",
    "assignments = []\n",
    "\n",
    "for i in k_range\n",
    "    println(\"K = $i\")\n",
    "    model = ParallelKMeans.KMeans(k=i, rng=RNG)\n",
    "    mach = machine(model, PPCA_data)\n",
    "    MLJ.fit!(mach)\n",
    "    \n",
    "#     @show report(mach) \n",
    "#     @show fitted_params(mach)\n",
    "    @show mach.report.totalcost # https://github.com/PyDataBlog/ParallelKMeans.jl/blob/87ce07d10796078aacffcbea0b2e9dc0c02f25d7/src/hamerly.jl#L65\n",
    "    d = countmap(mach.report.assignments)\n",
    "    \n",
    "    k = d |> keys\n",
    "    v = d |> values\n",
    "    l = sort(collect(zip(k,v)), by=x->x[1])\n",
    "    @show l\n",
    "    \n",
    "    # https://juliastats.org/Clustering.jl/stable/validate.html\n",
    "    s = silhouettes(mach.report.assignments, dist_mat(PPCA_data))\n",
    "    println(\"silhouette: $(mean(s))\")\n",
    "    \n",
    "    push!(assignments, mach.report.assignments)\n",
    "    push!(ls, l)\n",
    "    push!(total_costs, mach.report.totalcost) \n",
    "    push!(sils, s)\n",
    "    push!(sil_means, mean(s))\n",
    "    println(\"\")\n",
    "end"
   ]
  },
  {
   "cell_type": "markdown",
   "metadata": {},
   "source": [
    "values for loss are likely a lot smaller because there are fewer dimensions"
   ]
  },
  {
   "cell_type": "code",
   "execution_count": null,
   "metadata": {},
   "outputs": [],
   "source": [
    "plot(k_range, total_costs, legend=:bottomleft, label=\"Total Squared Error\", color=:green, lw=2)\n",
    "xlabel!(\"Number of Clusters\")\n",
    "plot!(twinx(), k_range, sil_means, legend=:topright, label=\"Silhouette Score\", color=:blue, lw=2)"
   ]
  },
  {
   "cell_type": "code",
   "execution_count": null,
   "metadata": {},
   "outputs": [],
   "source": [
    "savefig(\"figures/bio_ppca_kmeans_metrics_$upper\")"
   ]
  },
  {
   "cell_type": "code",
   "execution_count": null,
   "metadata": {},
   "outputs": [],
   "source": [
    "mat = prepare_portfolio(ls)\n",
    "plotmat = cum_columns(mat, normalize=true)"
   ]
  },
  {
   "cell_type": "code",
   "execution_count": null,
   "metadata": {
    "scrolled": false
   },
   "outputs": [],
   "source": [
    "cum_plot(plotmat)"
   ]
  },
  {
   "cell_type": "code",
   "execution_count": null,
   "metadata": {},
   "outputs": [],
   "source": [
    "savefig(\"figures/bio_ppca_kmeans_portfolio_$upper\")"
   ]
  },
  {
   "cell_type": "code",
   "execution_count": null,
   "metadata": {
    "scrolled": true
   },
   "outputs": [],
   "source": [
    "y_1h = map(x-> if (x == \"RB\") 1 else 2 end , y[train])\n",
    "collect(zip(assignments[2], y_1h))"
   ]
  },
  {
   "cell_type": "code",
   "execution_count": null,
   "metadata": {},
   "outputs": [],
   "source": [
    "mutualinfo(assignments[2], y_1h)"
   ]
  },
  {
   "cell_type": "code",
   "execution_count": null,
   "metadata": {},
   "outputs": [],
   "source": [
    "vmeasure(assignments[2], y_1h)"
   ]
  },
  {
   "cell_type": "code",
   "execution_count": null,
   "metadata": {},
   "outputs": [],
   "source": [
    "randindex(assignments[2], y_1h)"
   ]
  },
  {
   "cell_type": "code",
   "execution_count": null,
   "metadata": {},
   "outputs": [],
   "source": [
    "varinfo(assignments[2], y_1h)"
   ]
  },
  {
   "cell_type": "markdown",
   "metadata": {},
   "source": [
    "### PPCA - EM"
   ]
  },
  {
   "cell_type": "code",
   "execution_count": null,
   "metadata": {
    "scrolled": true
   },
   "outputs": [],
   "source": [
    "upper = 8\n",
    "k_range = 2:upper\n",
    "bics = []\n",
    "sils = []\n",
    "ls = []\n",
    "sil_means = []\n",
    "assignments = []\n",
    "\n",
    "for i in k_range\n",
    "    println(\"Gaussians = $i\")\n",
    "    clf = sklearn_m.GaussianMixture(n_components=i, covariance_type=\"full\", random_state=RNG)\n",
    "    labels = clf.fit_predict(PPCA_data) .+ 1; # indexing issues from python to julia functions\n",
    "    \n",
    "    d = countmap(labels)\n",
    "    k = d |> keys\n",
    "    v = d |> values\n",
    "    l = sort(collect(zip(k,v)), by=x->x[1])\n",
    "    @show l\n",
    "    \n",
    "    s = silhouettes(labels, dist_mat(PPCA_data))\n",
    "    println(\"silhouette: $(mean(s))\")\n",
    "    \n",
    "    bayes_ic = clf.bic(PPCA_data)\n",
    "    @show bayes_ic\n",
    "    \n",
    "    push!(ls, l)\n",
    "    push!(sils, s)\n",
    "    push!(sil_means, mean(s))\n",
    "    push!(bics, bayes_ic)\n",
    "    push!(assignments, labels)\n",
    "    println(\"\")\n",
    "end"
   ]
  },
  {
   "cell_type": "code",
   "execution_count": null,
   "metadata": {
    "scrolled": false
   },
   "outputs": [],
   "source": [
    "plot(k_range, bics, legend=:bottomleft, label=\"Bayesian Info Criteria\", color=:green, lw=2)\n",
    "xlabel!(\"Number of Clusters\")\n",
    "plot!(twinx(),k_range, sil_means, legend=:topright, label=\"Silhouette Score\", color=:blue, lw=2)"
   ]
  },
  {
   "cell_type": "code",
   "execution_count": null,
   "metadata": {},
   "outputs": [],
   "source": [
    "savefig(\"figures/bio_ppca_em_metrics_$upper\")"
   ]
  },
  {
   "cell_type": "code",
   "execution_count": null,
   "metadata": {},
   "outputs": [],
   "source": [
    "mat = prepare_portfolio(ls)\n",
    "plotmat = cum_columns(mat, normalize=true)\n",
    "cum_plot(plotmat)"
   ]
  },
  {
   "cell_type": "code",
   "execution_count": null,
   "metadata": {},
   "outputs": [],
   "source": [
    "savefig(\"figures/bio_ppca_em_portfolio_$upper\")"
   ]
  },
  {
   "cell_type": "code",
   "execution_count": null,
   "metadata": {
    "scrolled": true
   },
   "outputs": [],
   "source": [
    "y_1h = map(x-> if (x == \"RB\") 1 else 2 end , y[train])\n",
    "collect(zip(assignments[2], y_1h))"
   ]
  },
  {
   "cell_type": "code",
   "execution_count": null,
   "metadata": {},
   "outputs": [],
   "source": [
    "mutualinfo(assignments[2], y_1h)"
   ]
  },
  {
   "cell_type": "code",
   "execution_count": null,
   "metadata": {},
   "outputs": [],
   "source": [
    "vmeasure(assignments[2], y_1h)"
   ]
  },
  {
   "cell_type": "code",
   "execution_count": null,
   "metadata": {},
   "outputs": [],
   "source": [
    "randindex(assignments[2], y_1h)"
   ]
  },
  {
   "cell_type": "code",
   "execution_count": null,
   "metadata": {},
   "outputs": [],
   "source": [
    "varinfo(assignments[2], y_1h)"
   ]
  },
  {
   "cell_type": "markdown",
   "metadata": {},
   "source": [
    "# BELOW ONLY FOR 1 DATASET"
   ]
  },
  {
   "cell_type": "markdown",
   "metadata": {},
   "source": [
    "### Dimensionality Reduction + NN \n",
    "Apply the dimensionality reduction algorithms to one of your datasets from assignment #1. (if you've reused the datasets from assignment #1 to do experiments 1-3 above then you've already done this) and rerun your neural network learner on the newly projected data."
   ]
  },
  {
   "cell_type": "code",
   "execution_count": null,
   "metadata": {},
   "outputs": [],
   "source": [
    "using MLJFlux\n",
    "using Flux"
   ]
  },
  {
   "cell_type": "code",
   "execution_count": null,
   "metadata": {},
   "outputs": [],
   "source": [
    "acc(ŷ, y) = (mode.(ŷ) .== y) |> mean"
   ]
  },
  {
   "cell_type": "code",
   "execution_count": null,
   "metadata": {},
   "outputs": [],
   "source": [
    "# Define a custom network\n",
    "mutable struct CustomNN <:MLJFlux.Builder\n",
    "    n1 ::Int\n",
    "end"
   ]
  },
  {
   "cell_type": "code",
   "execution_count": null,
   "metadata": {},
   "outputs": [],
   "source": [
    "function MLJFlux.build(nn::CustomNN, n_in, n_out)\n",
    "    return Chain(\n",
    "        Flux.Dense(n_in, nn.n1, σ),\n",
    "        Flux.Dense(nn.n1, n_out, σ)\n",
    "    )\n",
    "end"
   ]
  },
  {
   "cell_type": "code",
   "execution_count": null,
   "metadata": {},
   "outputs": [],
   "source": [
    "@load NeuralNetworkClassifier\n",
    "# nn = NeuralNetworkClassifier(builder=CustomNN(132))"
   ]
  },
  {
   "cell_type": "code",
   "execution_count": null,
   "metadata": {},
   "outputs": [],
   "source": [
    "batch_sz = 16;\n",
    "max_epochs = 1000;"
   ]
  },
  {
   "cell_type": "markdown",
   "metadata": {},
   "source": [
    "### PCA"
   ]
  },
  {
   "cell_type": "code",
   "execution_count": null,
   "metadata": {},
   "outputs": [],
   "source": [
    "pca_pipe = @pipeline PCA2 NeuralNetworkClassifier(builder=CustomNN(132))"
   ]
  },
  {
   "cell_type": "code",
   "execution_count": null,
   "metadata": {},
   "outputs": [],
   "source": [
    "pca_pipe.pca.maxoutdim = PCA_best_comps\n",
    "pca_pipe.neural_network_classifier.batch_size = batch_sz;"
   ]
  },
  {
   "cell_type": "code",
   "execution_count": null,
   "metadata": {},
   "outputs": [],
   "source": [
    "pca_pipe.neural_network_classifier.epochs = max_epochs\n",
    "pca_pipe.neural_network_classifier.lambda = 0.01\n",
    "pca_pipe.neural_network_classifier.optimiser.eta = 0.0015;"
   ]
  },
  {
   "cell_type": "code",
   "execution_count": null,
   "metadata": {},
   "outputs": [],
   "source": [
    "pca_nn_mach = machine(pca_pipe, X_stand, y)"
   ]
  },
  {
   "cell_type": "code",
   "execution_count": null,
   "metadata": {},
   "outputs": [],
   "source": [
    "fit!(pca_nn_mach, verbosity=2)"
   ]
  },
  {
   "cell_type": "code",
   "execution_count": null,
   "metadata": {},
   "outputs": [],
   "source": [
    "param1 = :(neural_network_classifier.epochs)\n",
    "param2 = :(neural_network_classifier.optimiser.eta)\n",
    "\n",
    "r1 = range(pca_pipe, param1, lower=10, upper=max_epochs, scale=:linear)\n",
    "r2 = range(pca_pipe, param2, lower=0.001, upper=0.01, scale=:log10)"
   ]
  },
  {
   "cell_type": "code",
   "execution_count": null,
   "metadata": {},
   "outputs": [],
   "source": [
    "pca_nn_tuning = TunedModel(model=pca_pipe,\n",
    "                                    tuning=Grid(goal=144, rng=RNG),\n",
    "                                    resampling=Holdout(fraction_train=0.7), \n",
    "                                    measure=cross_entropy,\n",
    "                                    acceleration=CPUThreads(),\n",
    "                                    range=[r1, r2])"
   ]
  },
  {
   "cell_type": "code",
   "execution_count": null,
   "metadata": {},
   "outputs": [],
   "source": [
    "pca_nn_tuning_mach = machine(pca_nn_tuning, X_stand, y)"
   ]
  },
  {
   "cell_type": "code",
   "execution_count": null,
   "metadata": {},
   "outputs": [],
   "source": [
    "fit!(pca_nn_tuning_mach, rows=train)"
   ]
  },
  {
   "cell_type": "code",
   "execution_count": null,
   "metadata": {},
   "outputs": [],
   "source": [
    "plot(pca_nn_tuning_mach)"
   ]
  },
  {
   "cell_type": "code",
   "execution_count": null,
   "metadata": {},
   "outputs": [],
   "source": [
    "int1 = fitted_params(pca_nn_tuning_mach)[:best_model].neural_network_classifier"
   ]
  },
  {
   "cell_type": "code",
   "execution_count": null,
   "metadata": {},
   "outputs": [],
   "source": [
    "pca_pipe"
   ]
  },
  {
   "cell_type": "code",
   "execution_count": null,
   "metadata": {},
   "outputs": [],
   "source": [
    "pca_pipe.neural_network_classifier = int1"
   ]
  },
  {
   "cell_type": "code",
   "execution_count": null,
   "metadata": {},
   "outputs": [],
   "source": [
    "param1 = :(neural_network_classifier.epochs)\n",
    "param2 = :(neural_network_classifier.lambda)\n",
    "\n",
    "r1 = range(pca_pipe, param1, lower=10, upper=max_epochs, scale=:linear)\n",
    "r2 = range(pca_pipe, param2, lower=0.001, upper=0.5, scale=:log10)"
   ]
  },
  {
   "cell_type": "code",
   "execution_count": null,
   "metadata": {
    "scrolled": true
   },
   "outputs": [],
   "source": [
    "pca_nn_tuning = TunedModel(model=pca_pipe,\n",
    "                                    tuning=Grid(goal=144, rng=RNG),\n",
    "                                    resampling=Holdout(fraction_train=0.7), \n",
    "                                    measure=cross_entropy,\n",
    "                                    acceleration=CPUThreads(),\n",
    "                                    range=[r1, r2])"
   ]
  },
  {
   "cell_type": "code",
   "execution_count": null,
   "metadata": {},
   "outputs": [],
   "source": [
    "pca_nn_tuning_mach = machine(pca_nn_tuning, X_stand, y)"
   ]
  },
  {
   "cell_type": "code",
   "execution_count": null,
   "metadata": {},
   "outputs": [],
   "source": [
    "z = fit!(pca_nn_tuning_mach, rows=train)"
   ]
  },
  {
   "cell_type": "code",
   "execution_count": null,
   "metadata": {
    "scrolled": false
   },
   "outputs": [],
   "source": [
    "plot(pca_nn_tuning_mach)"
   ]
  },
  {
   "cell_type": "code",
   "execution_count": null,
   "metadata": {},
   "outputs": [],
   "source": [
    "int2 = fitted_params(pca_nn_tuning_mach)[:best_model].neural_network_classifier"
   ]
  },
  {
   "cell_type": "code",
   "execution_count": null,
   "metadata": {},
   "outputs": [],
   "source": [
    "pca_pipe.neural_network_classifier = int2\n",
    "pca_nn_mach = machine(pca_pipe, X_stand, y)\n",
    "pca_nn_acc = evaluate!(pca_nn_mach, resampling=CV(shuffle=true), measure=[cross_entropy, acc], verbosity=1)"
   ]
  },
  {
   "cell_type": "code",
   "execution_count": null,
   "metadata": {},
   "outputs": [],
   "source": [
    "# vals = collect(0:5:max_epochs)\n",
    "r = range(pca_pipe, :(neural_network_classifier.epochs), lower=1, upper=max_epochs, scale=:log10)"
   ]
  },
  {
   "cell_type": "code",
   "execution_count": null,
   "metadata": {},
   "outputs": [],
   "source": [
    "curve = MLJ.learning_curve(pca_nn_mach, \n",
    "                        range=r, \n",
    "#                         resampling=Holdout(fraction_train=0.7), \n",
    "                        resampling=CV(nfolds=4), \n",
    "                        measure=cross_entropy, \n",
    "                        acceleration=CPUProcesses()\n",
    ")"
   ]
  },
  {
   "cell_type": "code",
   "execution_count": null,
   "metadata": {},
   "outputs": [],
   "source": [
    "# plot(Net.report.training_losses, label=\"Training\", lw=2)\n",
    "plot(curve.parameter_values,\n",
    "     curve.measurements,\n",
    "     xlab=curve.parameter_name,\n",
    "     ylab=\"Cross Entropy\",\n",
    "     label=\"Validation\", lw=2)"
   ]
  },
  {
   "cell_type": "code",
   "execution_count": null,
   "metadata": {},
   "outputs": [],
   "source": [
    "a = round(pca_pipe.neural_network_classifier.optimiser.eta, digits=5)\n",
    "b = round(minimum(curve.measurements), digits=5)\n",
    "best_epochs = curve.parameter_values[argmin(curve.measurements)]\n",
    "a,b, best_epochs"
   ]
  },
  {
   "cell_type": "code",
   "execution_count": null,
   "metadata": {},
   "outputs": [],
   "source": [
    "pca_pipe.neural_network_classifier.epochs = best_epochs"
   ]
  },
  {
   "cell_type": "code",
   "execution_count": null,
   "metadata": {},
   "outputs": [],
   "source": [
    "Final_Net = machine(pca_pipe, X_stand, y)"
   ]
  },
  {
   "cell_type": "code",
   "execution_count": null,
   "metadata": {},
   "outputs": [],
   "source": [
    "fit!(Final_Net, rows=train, force=true, verbosity=1)"
   ]
  },
  {
   "cell_type": "code",
   "execution_count": null,
   "metadata": {},
   "outputs": [],
   "source": [
    "nn_acc = evaluate!(Final_Net, resampling=CV(shuffle=true), measure=[cross_entropy, acc], verbosity=1)"
   ]
  },
  {
   "cell_type": "code",
   "execution_count": null,
   "metadata": {},
   "outputs": [],
   "source": [
    "ŷ = MLJ.predict(Final_Net, X_stand[test,:]);"
   ]
  },
  {
   "cell_type": "code",
   "execution_count": null,
   "metadata": {},
   "outputs": [],
   "source": [
    "cross_entropy(ŷ, y[test]) |> mean"
   ]
  },
  {
   "cell_type": "code",
   "execution_count": null,
   "metadata": {},
   "outputs": [],
   "source": [
    "acc(ŷ, y[test])"
   ]
  },
  {
   "cell_type": "code",
   "execution_count": null,
   "metadata": {},
   "outputs": [],
   "source": [
    "c = confusion_matrix(mode.(ŷ), y[test])"
   ]
  },
  {
   "cell_type": "code",
   "execution_count": null,
   "metadata": {},
   "outputs": [],
   "source": [
    "precision(c),recall(c)"
   ]
  },
  {
   "cell_type": "markdown",
   "metadata": {},
   "source": [
    "### ICA"
   ]
  },
  {
   "cell_type": "code",
   "execution_count": null,
   "metadata": {},
   "outputs": [],
   "source": [
    "ica_pipe = NeuralNetworkClassifier(builder=CustomNN(132))"
   ]
  },
  {
   "cell_type": "code",
   "execution_count": null,
   "metadata": {},
   "outputs": [],
   "source": [
    "ica_pipe.batch_size = batch_sz\n",
    "ica_pipe.epochs = max_epochs\n",
    "ica_pipe.lambda = 0.01\n",
    "ica_pipe.optimiser.eta = 0.0015;"
   ]
  },
  {
   "cell_type": "code",
   "execution_count": null,
   "metadata": {},
   "outputs": [],
   "source": [
    "ica_nn_mach = machine(ica_pipe, ica_trans, y[train])"
   ]
  },
  {
   "cell_type": "code",
   "execution_count": null,
   "metadata": {},
   "outputs": [],
   "source": [
    "fit!(ica_nn_mach, verbosity=2)"
   ]
  },
  {
   "cell_type": "code",
   "execution_count": null,
   "metadata": {},
   "outputs": [],
   "source": [
    "param1 = :(epochs)\n",
    "param2 = :(optimiser.eta)\n",
    "\n",
    "r1 = range(ica_pipe, param1, lower=10, upper=max_epochs, scale=:linear)\n",
    "r2 = range(ica_pipe, param2, lower=10^-3, upper=10^-1.4, scale=:log10)"
   ]
  },
  {
   "cell_type": "code",
   "execution_count": null,
   "metadata": {
    "scrolled": true
   },
   "outputs": [],
   "source": [
    "ica_nn_tuning = TunedModel(model=ica_pipe,\n",
    "                                    tuning=Grid(goal=289, rng=RNG),\n",
    "                                    resampling=Holdout(fraction_train=0.7, rng=RNG), \n",
    "                                    measure=cross_entropy,\n",
    "                                    acceleration=CPUThreads(),\n",
    "                                    range=[r1, r2])"
   ]
  },
  {
   "cell_type": "code",
   "execution_count": null,
   "metadata": {},
   "outputs": [],
   "source": [
    "ica_nn_tuning_mach = machine(ica_nn_tuning, ica_trans, y[train])"
   ]
  },
  {
   "cell_type": "code",
   "execution_count": null,
   "metadata": {},
   "outputs": [],
   "source": [
    "fit!(ica_nn_tuning_mach)"
   ]
  },
  {
   "cell_type": "code",
   "execution_count": null,
   "metadata": {},
   "outputs": [],
   "source": [
    "plot(ica_nn_tuning_mach)"
   ]
  },
  {
   "cell_type": "code",
   "execution_count": null,
   "metadata": {},
   "outputs": [],
   "source": [
    "int1 = fitted_params(ica_nn_tuning_mach)[:best_model]"
   ]
  },
  {
   "cell_type": "code",
   "execution_count": null,
   "metadata": {},
   "outputs": [],
   "source": [
    "ica_pipe = int1"
   ]
  },
  {
   "cell_type": "code",
   "execution_count": null,
   "metadata": {},
   "outputs": [],
   "source": [
    "param1 = :(epochs)\n",
    "param2 = :(lambda)\n",
    "\n",
    "r1 = range(ica_pipe, param1, lower=10, upper=max_epochs, scale=:linear)\n",
    "r2 = range(ica_pipe, param2, lower=0.001, upper=0.3, scale=:log10)"
   ]
  },
  {
   "cell_type": "code",
   "execution_count": null,
   "metadata": {
    "scrolled": true
   },
   "outputs": [],
   "source": [
    "ica_nn_tuning = TunedModel(model=ica_pipe,\n",
    "                                    tuning=Grid(goal=144, rng=RNG),\n",
    "                                    resampling=Holdout(fraction_train=0.7), \n",
    "                                    measure=cross_entropy,\n",
    "                                    acceleration=CPUThreads(),\n",
    "                                    range=[r1, r2])"
   ]
  },
  {
   "cell_type": "code",
   "execution_count": null,
   "metadata": {},
   "outputs": [],
   "source": [
    "ica_nn_tuning_mach = machine(ica_nn_tuning, X_stand, y)"
   ]
  },
  {
   "cell_type": "code",
   "execution_count": null,
   "metadata": {},
   "outputs": [],
   "source": [
    "z = fit!(ica_nn_tuning_mach, rows=train)"
   ]
  },
  {
   "cell_type": "code",
   "execution_count": null,
   "metadata": {
    "scrolled": false
   },
   "outputs": [],
   "source": [
    "plot(ica_nn_tuning_mach)"
   ]
  },
  {
   "cell_type": "code",
   "execution_count": null,
   "metadata": {},
   "outputs": [],
   "source": [
    "int2 = fitted_params(ica_nn_tuning_mach)[:best_model]"
   ]
  },
  {
   "cell_type": "code",
   "execution_count": null,
   "metadata": {},
   "outputs": [],
   "source": [
    "ica_pipe = int2\n",
    "ica_nn_mach = machine(ica_pipe, X_stand, y)\n",
    "ica_nn_acc = evaluate!(ica_nn_mach, resampling=CV(shuffle=true), measure=[cross_entropy, acc], verbosity=1)"
   ]
  },
  {
   "cell_type": "code",
   "execution_count": null,
   "metadata": {},
   "outputs": [],
   "source": [
    "# vals = collect(0:5:max_epochs)\n",
    "r = range(ica_pipe, :(epochs), lower=1, upper=max_epochs, scale=:log10)"
   ]
  },
  {
   "cell_type": "code",
   "execution_count": null,
   "metadata": {},
   "outputs": [],
   "source": [
    "curve = MLJ.learning_curve(ica_nn_mach, \n",
    "                        range=r, \n",
    "#                         resampling=Holdout(fraction_train=0.7), \n",
    "                        resampling=CV(nfolds=4), \n",
    "                        measure=cross_entropy, \n",
    "                        acceleration=CPUProcesses()\n",
    ")"
   ]
  },
  {
   "cell_type": "code",
   "execution_count": null,
   "metadata": {},
   "outputs": [],
   "source": [
    "# plot(Net.report.training_losses, label=\"Training\", lw=2)\n",
    "plot(curve.parameter_values,\n",
    "     curve.measurements,\n",
    "     xlab=curve.parameter_name,\n",
    "     ylab=\"Cross Entropy\",\n",
    "     label=\"Validation\", lw=2)"
   ]
  },
  {
   "cell_type": "code",
   "execution_count": null,
   "metadata": {},
   "outputs": [],
   "source": [
    "a = round(ica_pipe.optimiser.eta, digits=5)\n",
    "b = round(minimum(curve.measurements), digits=5)\n",
    "best_epochs = curve.parameter_values[argmin(curve.measurements)]\n",
    "a,b, best_epochs"
   ]
  },
  {
   "cell_type": "code",
   "execution_count": null,
   "metadata": {},
   "outputs": [],
   "source": [
    "ica_pipe.epochs = best_epochs"
   ]
  },
  {
   "cell_type": "code",
   "execution_count": null,
   "metadata": {},
   "outputs": [],
   "source": [
    "Final_Net = machine(ica_pipe, ica_trans, y[train])"
   ]
  },
  {
   "cell_type": "code",
   "execution_count": null,
   "metadata": {},
   "outputs": [],
   "source": [
    "fit!(Final_Net)"
   ]
  },
  {
   "cell_type": "code",
   "execution_count": null,
   "metadata": {},
   "outputs": [],
   "source": [
    "nn_acc = evaluate!(Final_Net, resampling=CV(shuffle=true), measure=[cross_entropy, acc], verbosity=1)"
   ]
  },
  {
   "cell_type": "code",
   "execution_count": null,
   "metadata": {},
   "outputs": [],
   "source": [
    "ica_nn_test = MLJ.transform(best_ica_mach, rows=test)"
   ]
  },
  {
   "cell_type": "code",
   "execution_count": null,
   "metadata": {},
   "outputs": [],
   "source": [
    "ŷ = MLJ.predict(Final_Net, ica_nn_test);"
   ]
  },
  {
   "cell_type": "code",
   "execution_count": null,
   "metadata": {},
   "outputs": [],
   "source": [
    "cross_entropy(ŷ, y[test]) |> mean"
   ]
  },
  {
   "cell_type": "code",
   "execution_count": null,
   "metadata": {},
   "outputs": [],
   "source": [
    "acc(ŷ, y[test])"
   ]
  },
  {
   "cell_type": "code",
   "execution_count": null,
   "metadata": {},
   "outputs": [],
   "source": [
    "c = confusion_matrix(mode.(ŷ), y[test])"
   ]
  },
  {
   "cell_type": "code",
   "execution_count": null,
   "metadata": {},
   "outputs": [],
   "source": [
    "precision(c),recall(c)"
   ]
  },
  {
   "cell_type": "markdown",
   "metadata": {},
   "source": [
    "### RP"
   ]
  },
  {
   "cell_type": "code",
   "execution_count": null,
   "metadata": {
    "scrolled": true
   },
   "outputs": [],
   "source": [
    "RP_data = DataFrame(RP_data)"
   ]
  },
  {
   "cell_type": "code",
   "execution_count": null,
   "metadata": {},
   "outputs": [],
   "source": [
    "rp_pipe = NeuralNetworkClassifier(builder=CustomNN(132))"
   ]
  },
  {
   "cell_type": "code",
   "execution_count": null,
   "metadata": {},
   "outputs": [],
   "source": [
    "rp_pipe.batch_size = batch_sz\n",
    "rp_pipe.epochs = max_epochs\n",
    "rp_pipe.lambda = 0.01\n",
    "rp_pipe.optimiser.eta = 0.0015;"
   ]
  },
  {
   "cell_type": "code",
   "execution_count": null,
   "metadata": {},
   "outputs": [],
   "source": [
    "rp_nn_mach = machine(rp_pipe, RP_data, y[train])"
   ]
  },
  {
   "cell_type": "code",
   "execution_count": null,
   "metadata": {},
   "outputs": [],
   "source": [
    "fit!(rp_nn_mach, verbosity=2)"
   ]
  },
  {
   "cell_type": "code",
   "execution_count": null,
   "metadata": {},
   "outputs": [],
   "source": [
    "param1 = :(epochs)\n",
    "param2 = :(optimiser.eta)\n",
    "\n",
    "r1 = range(rp_pipe, param1, lower=10, upper=max_epochs, scale=:linear)\n",
    "r2 = range(rp_pipe, param2, lower=10^-3, upper=10^-1.4, scale=:log10)"
   ]
  },
  {
   "cell_type": "code",
   "execution_count": null,
   "metadata": {
    "scrolled": true
   },
   "outputs": [],
   "source": [
    "rp_nn_tuning = TunedModel(model=rp_pipe,\n",
    "                                    tuning=Grid(goal=289, rng=RNG),\n",
    "                                    resampling=Holdout(fraction_train=0.7, rng=RNG), \n",
    "                                    measure=cross_entropy,\n",
    "                                    acceleration=CPUThreads(),\n",
    "                                    range=[r1, r2])"
   ]
  },
  {
   "cell_type": "code",
   "execution_count": null,
   "metadata": {},
   "outputs": [],
   "source": [
    "rp_nn_tuning_mach = machine(rp_nn_tuning, RP_data, y[train])"
   ]
  },
  {
   "cell_type": "code",
   "execution_count": null,
   "metadata": {},
   "outputs": [],
   "source": [
    "fit!(rp_nn_tuning_mach)"
   ]
  },
  {
   "cell_type": "code",
   "execution_count": null,
   "metadata": {},
   "outputs": [],
   "source": [
    "plot(rp_nn_tuning_mach)"
   ]
  },
  {
   "cell_type": "code",
   "execution_count": null,
   "metadata": {},
   "outputs": [],
   "source": [
    "int1 = fitted_params(rp_nn_tuning_mach)[:best_model]"
   ]
  },
  {
   "cell_type": "code",
   "execution_count": null,
   "metadata": {},
   "outputs": [],
   "source": [
    "rp_pipe = int1"
   ]
  },
  {
   "cell_type": "code",
   "execution_count": null,
   "metadata": {},
   "outputs": [],
   "source": [
    "param1 = :(epochs)\n",
    "param2 = :(lambda)\n",
    "\n",
    "r1 = range(rp_pipe, param1, lower=10, upper=max_epochs, scale=:linear)\n",
    "r2 = range(rp_pipe, param2, lower=0.001, upper=0.3, scale=:log10)"
   ]
  },
  {
   "cell_type": "code",
   "execution_count": null,
   "metadata": {
    "scrolled": true
   },
   "outputs": [],
   "source": [
    "rp_nn_tuning = TunedModel(model=rp_pipe,\n",
    "                                    tuning=Grid(goal=144, rng=RNG),\n",
    "                                    resampling=Holdout(fraction_train=0.7), \n",
    "                                    measure=cross_entropy,\n",
    "                                    acceleration=CPUThreads(),\n",
    "                                    range=[r1, r2])"
   ]
  },
  {
   "cell_type": "code",
   "execution_count": null,
   "metadata": {},
   "outputs": [],
   "source": [
    "rp_nn_tuning_mach = machine(rp_nn_tuning, X_stand, y)"
   ]
  },
  {
   "cell_type": "code",
   "execution_count": null,
   "metadata": {},
   "outputs": [],
   "source": [
    "z = fit!(rp_nn_tuning_mach, rows=train)"
   ]
  },
  {
   "cell_type": "code",
   "execution_count": null,
   "metadata": {
    "scrolled": false
   },
   "outputs": [],
   "source": [
    "plot(rp_nn_tuning_mach)"
   ]
  },
  {
   "cell_type": "code",
   "execution_count": null,
   "metadata": {},
   "outputs": [],
   "source": [
    "int2 = fitted_params(rp_nn_tuning_mach)[:best_model]"
   ]
  },
  {
   "cell_type": "code",
   "execution_count": null,
   "metadata": {},
   "outputs": [],
   "source": [
    "rp_pipe = int2\n",
    "rp_nn_mach = machine(rp_pipe, RP_data, y[train])\n",
    "rp_nn_acc = evaluate!(rp_nn_mach, resampling=CV(shuffle=true), measure=[cross_entropy, acc], verbosity=1)"
   ]
  },
  {
   "cell_type": "code",
   "execution_count": null,
   "metadata": {},
   "outputs": [],
   "source": [
    "# vals = collect(0:5:max_epochs)\n",
    "r = range(rp_pipe, :(epochs), lower=1, upper=max_epochs, scale=:log10)"
   ]
  },
  {
   "cell_type": "code",
   "execution_count": null,
   "metadata": {},
   "outputs": [],
   "source": [
    "curve = MLJ.learning_curve(rp_nn_mach, \n",
    "                        range=r, \n",
    "#                         resampling=Holdout(fraction_train=0.7), \n",
    "                        resampling=CV(nfolds=4), \n",
    "                        measure=cross_entropy, \n",
    "                        acceleration=CPUProcesses()\n",
    ")"
   ]
  },
  {
   "cell_type": "code",
   "execution_count": null,
   "metadata": {},
   "outputs": [],
   "source": [
    "# plot(Net.report.training_losses, label=\"Training\", lw=2)\n",
    "plot(curve.parameter_values,\n",
    "     curve.measurements,\n",
    "     xlab=curve.parameter_name,\n",
    "     ylab=\"Cross Entropy\",\n",
    "     label=\"Validation\", lw=2)"
   ]
  },
  {
   "cell_type": "code",
   "execution_count": null,
   "metadata": {},
   "outputs": [],
   "source": [
    "a = round(rp_pipe.optimiser.eta, digits=5)\n",
    "b = round(minimum(curve.measurements), digits=5)\n",
    "best_epochs = curve.parameter_values[argmin(curve.measurements)]\n",
    "a,b, best_epochs"
   ]
  },
  {
   "cell_type": "code",
   "execution_count": null,
   "metadata": {},
   "outputs": [],
   "source": [
    "rp_pipe.epochs = best_epochs"
   ]
  },
  {
   "cell_type": "code",
   "execution_count": null,
   "metadata": {},
   "outputs": [],
   "source": [
    "Final_Net = machine(rp_pipe, RP_data, y[train])"
   ]
  },
  {
   "cell_type": "code",
   "execution_count": null,
   "metadata": {},
   "outputs": [],
   "source": [
    "fit!(Final_Net)"
   ]
  },
  {
   "cell_type": "code",
   "execution_count": null,
   "metadata": {},
   "outputs": [],
   "source": [
    "nn_acc = evaluate!(Final_Net, resampling=CV(shuffle=true), measure=[cross_entropy, acc], verbosity=1)"
   ]
  },
  {
   "cell_type": "code",
   "execution_count": null,
   "metadata": {
    "scrolled": true
   },
   "outputs": [],
   "source": [
    "test_data = convert(Matrix,X_stand[test,:])\n",
    "RP_test = RP.transform(test_data)"
   ]
  },
  {
   "cell_type": "code",
   "execution_count": null,
   "metadata": {},
   "outputs": [],
   "source": [
    "ŷ = MLJ.predict(Final_Net, RP_test);"
   ]
  },
  {
   "cell_type": "code",
   "execution_count": null,
   "metadata": {},
   "outputs": [],
   "source": [
    "cross_entropy(ŷ, y[test]) |> mean"
   ]
  },
  {
   "cell_type": "code",
   "execution_count": null,
   "metadata": {},
   "outputs": [],
   "source": [
    "acc(ŷ, y[test])"
   ]
  },
  {
   "cell_type": "code",
   "execution_count": null,
   "metadata": {},
   "outputs": [],
   "source": [
    "c = confusion_matrix(mode.(ŷ), y[test])"
   ]
  },
  {
   "cell_type": "code",
   "execution_count": null,
   "metadata": {},
   "outputs": [],
   "source": [
    "precision(c),recall(c)"
   ]
  },
  {
   "cell_type": "markdown",
   "metadata": {},
   "source": [
    "### PPCA"
   ]
  },
  {
   "cell_type": "code",
   "execution_count": null,
   "metadata": {},
   "outputs": [],
   "source": [
    "@load PPCA"
   ]
  },
  {
   "cell_type": "code",
   "execution_count": null,
   "metadata": {},
   "outputs": [],
   "source": [
    "ppca_pipe = @pipeline PPCA2 NeuralNetworkClassifier(builder=CustomNN(132))"
   ]
  },
  {
   "cell_type": "code",
   "execution_count": null,
   "metadata": {},
   "outputs": [],
   "source": [
    "ppca_pipe.ppca.maxoutdim = PPCA_best_dim\n",
    "ppca_pipe.neural_network_classifier.batch_size = batch_sz;"
   ]
  },
  {
   "cell_type": "code",
   "execution_count": null,
   "metadata": {},
   "outputs": [],
   "source": [
    "ppca_pipe.neural_network_classifier.epochs = max_epochs\n",
    "ppca_pipe.neural_network_classifier.lambda = 0.01\n",
    "ppca_pipe.neural_network_classifier.optimiser.eta = 0.0015;"
   ]
  },
  {
   "cell_type": "code",
   "execution_count": null,
   "metadata": {},
   "outputs": [],
   "source": [
    "ppca_nn_mach = machine(ppca_pipe, X_stand, y)"
   ]
  },
  {
   "cell_type": "code",
   "execution_count": null,
   "metadata": {},
   "outputs": [],
   "source": [
    "fit!(ppca_nn_mach, verbosity=2)"
   ]
  },
  {
   "cell_type": "code",
   "execution_count": null,
   "metadata": {},
   "outputs": [],
   "source": [
    "param1 = :(neural_network_classifier.epochs)\n",
    "param2 = :(neural_network_classifier.optimiser.eta)\n",
    "\n",
    "r1 = range(ppca_pipe, param1, lower=10, upper=max_epochs, scale=:linear)\n",
    "r2 = range(ppca_pipe, param2, lower=10^-2.5, upper=0.01, scale=:log10)"
   ]
  },
  {
   "cell_type": "code",
   "execution_count": null,
   "metadata": {},
   "outputs": [],
   "source": [
    "ppca_nn_tuning = TunedModel(model=ppca_pipe,\n",
    "                                    tuning=Grid(goal=144, rng=RNG),\n",
    "                                    resampling=Holdout(fraction_train=0.7), \n",
    "                                    measure=cross_entropy,\n",
    "                                    acceleration=CPUThreads(),\n",
    "                                    range=[r1, r2])"
   ]
  },
  {
   "cell_type": "code",
   "execution_count": null,
   "metadata": {},
   "outputs": [],
   "source": [
    "ppca_nn_tuning_mach = machine(ppca_nn_tuning, X_stand, y)"
   ]
  },
  {
   "cell_type": "code",
   "execution_count": null,
   "metadata": {},
   "outputs": [],
   "source": [
    "fit!(ppca_nn_tuning_mach, rows=train)"
   ]
  },
  {
   "cell_type": "code",
   "execution_count": null,
   "metadata": {},
   "outputs": [],
   "source": [
    "plot(ppca_nn_tuning_mach)"
   ]
  },
  {
   "cell_type": "code",
   "execution_count": null,
   "metadata": {},
   "outputs": [],
   "source": [
    "int1 = fitted_params(ppca_nn_tuning_mach)[:best_model].neural_network_classifier"
   ]
  },
  {
   "cell_type": "code",
   "execution_count": null,
   "metadata": {},
   "outputs": [],
   "source": [
    "ppca_pipe.neural_network_classifier = int1"
   ]
  },
  {
   "cell_type": "code",
   "execution_count": null,
   "metadata": {},
   "outputs": [],
   "source": [
    "param1 = :(neural_network_classifier.epochs)\n",
    "param2 = :(neural_network_classifier.lambda)\n",
    "\n",
    "r1 = range(ppca_pipe, param1, lower=10, upper=max_epochs, scale=:linear)\n",
    "r2 = range(ppca_pipe, param2, lower=0.001, upper=0.5, scale=:log10)"
   ]
  },
  {
   "cell_type": "code",
   "execution_count": null,
   "metadata": {
    "scrolled": true
   },
   "outputs": [],
   "source": [
    "ppca_nn_tuning = TunedModel(model=ppca_pipe,\n",
    "                                    tuning=Grid(goal=144, rng=RNG),\n",
    "                                    resampling=Holdout(fraction_train=0.7), \n",
    "                                    measure=cross_entropy,\n",
    "                                    acceleration=CPUThreads(),\n",
    "                                    range=[r1, r2])"
   ]
  },
  {
   "cell_type": "code",
   "execution_count": null,
   "metadata": {},
   "outputs": [],
   "source": [
    "ppca_nn_tuning_mach = machine(ppca_nn_tuning, X_stand, y)"
   ]
  },
  {
   "cell_type": "code",
   "execution_count": null,
   "metadata": {},
   "outputs": [],
   "source": [
    "z = fit!(ppca_nn_tuning_mach, rows=train)"
   ]
  },
  {
   "cell_type": "code",
   "execution_count": null,
   "metadata": {
    "scrolled": false
   },
   "outputs": [],
   "source": [
    "plot(ppca_nn_tuning_mach)"
   ]
  },
  {
   "cell_type": "code",
   "execution_count": null,
   "metadata": {},
   "outputs": [],
   "source": [
    "int2 = fitted_params(ppca_nn_tuning_mach)[:best_model].neural_network_classifier"
   ]
  },
  {
   "cell_type": "code",
   "execution_count": null,
   "metadata": {},
   "outputs": [],
   "source": [
    "ppca_pipe.neural_network_classifier = int2\n",
    "ppca_nn_mach = machine(ppca_pipe, X_stand, y)\n",
    "ppca_nn_acc = evaluate!(ppca_nn_mach, resampling=CV(shuffle=true), measure=[cross_entropy, acc], verbosity=1)"
   ]
  },
  {
   "cell_type": "code",
   "execution_count": null,
   "metadata": {},
   "outputs": [],
   "source": [
    "# vals = collect(0:5:max_epochs)\n",
    "r = range(ppca_pipe, :(neural_network_classifier.epochs), lower=1, upper=max_epochs, scale=:log10)"
   ]
  },
  {
   "cell_type": "code",
   "execution_count": null,
   "metadata": {},
   "outputs": [],
   "source": [
    "curve = MLJ.learning_curve(ppca_nn_mach, \n",
    "                        range=r, \n",
    "#                         resampling=Holdout(fraction_train=0.7), \n",
    "                        resampling=CV(nfolds=4), \n",
    "                        measure=cross_entropy, \n",
    "                        acceleration=CPUProcesses()\n",
    ")"
   ]
  },
  {
   "cell_type": "code",
   "execution_count": null,
   "metadata": {},
   "outputs": [],
   "source": [
    "# plot(Net.report.training_losses, label=\"Training\", lw=2)\n",
    "plot(curve.parameter_values,\n",
    "     curve.measurements,\n",
    "     xlab=curve.parameter_name,\n",
    "     ylab=\"Cross Entropy\",\n",
    "     label=\"Validation\", lw=2)"
   ]
  },
  {
   "cell_type": "code",
   "execution_count": null,
   "metadata": {},
   "outputs": [],
   "source": [
    "a = round(ppca_pipe.neural_network_classifier.optimiser.eta, digits=5)\n",
    "b = round(minimum(curve.measurements), digits=5)\n",
    "best_epochs = curve.parameter_values[argmin(curve.measurements)]\n",
    "a,b, best_epochs"
   ]
  },
  {
   "cell_type": "code",
   "execution_count": null,
   "metadata": {},
   "outputs": [],
   "source": [
    "ppca_pipe.neural_network_classifier.epochs = best_epochs"
   ]
  },
  {
   "cell_type": "code",
   "execution_count": null,
   "metadata": {},
   "outputs": [],
   "source": [
    "Final_Net = machine(ppca_pipe, X_stand, y)"
   ]
  },
  {
   "cell_type": "code",
   "execution_count": null,
   "metadata": {},
   "outputs": [],
   "source": [
    "fit!(Final_Net, rows=train, force=true, verbosity=1)"
   ]
  },
  {
   "cell_type": "code",
   "execution_count": null,
   "metadata": {},
   "outputs": [],
   "source": [
    "nn_acc = evaluate!(Final_Net, resampling=CV(shuffle=true), measure=[cross_entropy, acc], verbosity=1)"
   ]
  },
  {
   "cell_type": "code",
   "execution_count": null,
   "metadata": {},
   "outputs": [],
   "source": [
    "ŷ = MLJ.predict(Final_Net, X_stand[test,:]);"
   ]
  },
  {
   "cell_type": "code",
   "execution_count": null,
   "metadata": {},
   "outputs": [],
   "source": [
    "cross_entropy(ŷ, y[test]) |> mean"
   ]
  },
  {
   "cell_type": "code",
   "execution_count": null,
   "metadata": {},
   "outputs": [],
   "source": [
    "acc(ŷ, y[test])"
   ]
  },
  {
   "cell_type": "code",
   "execution_count": null,
   "metadata": {},
   "outputs": [],
   "source": [
    "c = confusion_matrix(mode.(ŷ), y[test])"
   ]
  },
  {
   "cell_type": "code",
   "execution_count": null,
   "metadata": {},
   "outputs": [],
   "source": [
    "precision(c),recall(c)"
   ]
  },
  {
   "cell_type": "code",
   "execution_count": null,
   "metadata": {},
   "outputs": [],
   "source": []
  }
 ],
 "metadata": {
  "kernelspec": {
   "display_name": "Julia 1.5.2",
   "language": "julia",
   "name": "julia-1.5"
  },
  "language_info": {
   "file_extension": ".jl",
   "mimetype": "application/julia",
   "name": "julia",
   "version": "1.5.2"
  }
 },
 "nbformat": 4,
 "nbformat_minor": 4
}
