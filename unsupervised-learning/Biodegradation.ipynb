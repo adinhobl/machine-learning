{
 "cells": [
  {
   "cell_type": "markdown",
   "metadata": {},
   "source": [
    "## Load Modules"
   ]
  },
  {
   "cell_type": "code",
   "execution_count": 1,
   "metadata": {},
   "outputs": [],
   "source": [
    "using MLJ\n",
    "using MultivariateStats\n",
    "using ScikitLearn\n",
    "using Plots; gr()\n",
    "using CSV\n",
    "using DataFrames\n",
    "using StatsBase\n",
    "using Clustering: randindex, silhouettes, varinfo, vmeasure, mutualinfo\n",
    "using LinearAlgebra: diag\n",
    "using GaussianMixtures: GMM"
   ]
  },
  {
   "cell_type": "code",
   "execution_count": 2,
   "metadata": {},
   "outputs": [],
   "source": [
    "ENV[\"LINES\"] = 100;"
   ]
  },
  {
   "cell_type": "code",
   "execution_count": 3,
   "metadata": {},
   "outputs": [],
   "source": [
    "RNG = 33;"
   ]
  },
  {
   "cell_type": "markdown",
   "metadata": {},
   "source": [
    "## Import Data and Set Up"
   ]
  },
  {
   "cell_type": "code",
   "execution_count": 4,
   "metadata": {
    "scrolled": true
   },
   "outputs": [
    {
     "data": {
      "text/html": [
       "<table class=\"data-frame\"><thead><tr><th></th><th>variable</th><th>mean</th><th>min</th><th>median</th><th>max</th><th>nunique</th><th>nmissing</th><th>eltype</th></tr><tr><th></th><th>Symbol</th><th>Union…</th><th>Any</th><th>Union…</th><th>Any</th><th>Union…</th><th>Nothing</th><th>DataType</th></tr></thead><tbody><p>42 rows × 8 columns</p><tr><th>1</th><td>1</td><td>4.78264</td><td>2.0</td><td>4.828</td><td>6.496</td><td></td><td></td><td>Float64</td></tr><tr><th>2</th><td>2</td><td>3.06951</td><td>0.8039</td><td>3.0463</td><td>9.1775</td><td></td><td></td><td>Float64</td></tr><tr><th>3</th><td>3</td><td>0.716588</td><td>0</td><td>0.0</td><td>12</td><td></td><td></td><td>Int64</td></tr><tr><th>4</th><td>4</td><td>0.042654</td><td>0</td><td>0.0</td><td>3</td><td></td><td></td><td>Int64</td></tr><tr><th>5</th><td>5</td><td>0.980095</td><td>0</td><td>0.0</td><td>36</td><td></td><td></td><td>Int64</td></tr><tr><th>6</th><td>6</td><td>0.290047</td><td>0</td><td>0.0</td><td>13</td><td></td><td></td><td>Int64</td></tr><tr><th>7</th><td>7</td><td>1.64645</td><td>0</td><td>1.0</td><td>18</td><td></td><td></td><td>Int64</td></tr><tr><th>8</th><td>8</td><td>37.0556</td><td>0.0</td><td>37.5</td><td>60.7</td><td></td><td></td><td>Float64</td></tr><tr><th>9</th><td>9</td><td>1.3763</td><td>0</td><td>1.0</td><td>24</td><td></td><td></td><td>Int64</td></tr><tr><th>10</th><td>10</td><td>1.80379</td><td>0</td><td>2.0</td><td>12</td><td></td><td></td><td>Int64</td></tr><tr><th>11</th><td>11</td><td>1.43697</td><td>0</td><td>0.0</td><td>44</td><td></td><td></td><td>Int64</td></tr><tr><th>12</th><td>12</td><td>-0.197129</td><td>-5.256</td><td>0.0</td><td>4.722</td><td></td><td></td><td>Float64</td></tr><tr><th>13</th><td>13</td><td>3.47684</td><td>1.544</td><td>3.442</td><td>5.701</td><td></td><td></td><td>Float64</td></tr><tr><th>14</th><td>14</td><td>1.35072</td><td>0.0</td><td>1.187</td><td>4.491</td><td></td><td></td><td>Float64</td></tr><tr><th>15</th><td>15</td><td>9.93738</td><td>4.174</td><td>10.039</td><td>12.609</td><td></td><td></td><td>Float64</td></tr><tr><th>16</th><td>16</td><td>3.63033</td><td>0</td><td>2.0</td><td>40</td><td></td><td></td><td>Int64</td></tr><tr><th>17</th><td>17</td><td>1.0133</td><td>0.957</td><td>1.003</td><td>1.311</td><td></td><td></td><td>Float64</td></tr><tr><th>18</th><td>18</td><td>1.13111</td><td>1.022</td><td>1.13</td><td>1.377</td><td></td><td></td><td>Float64</td></tr><tr><th>19</th><td>19</td><td>0.00853081</td><td>0</td><td>0.0</td><td>2</td><td></td><td></td><td>Int64</td></tr><tr><th>20</th><td>20</td><td>0.0739336</td><td>0</td><td>0.0</td><td>3</td><td></td><td></td><td>Int64</td></tr><tr><th>21</th><td>21</td><td>0.0293839</td><td>0</td><td>0.0</td><td>3</td><td></td><td></td><td>Int64</td></tr><tr><th>22</th><td>22</td><td>1.23873</td><td>0.863</td><td>1.243</td><td>1.641</td><td></td><td></td><td>Float64</td></tr><tr><th>23</th><td>23</td><td>1.40569</td><td>0</td><td>1.0</td><td>147</td><td></td><td></td><td>Int64</td></tr><tr><th>24</th><td>24</td><td>0.0398104</td><td>0</td><td>0.0</td><td>1</td><td></td><td></td><td>Int64</td></tr><tr><th>25</th><td>25</td><td>0.147867</td><td>0</td><td>0.0</td><td>1</td><td></td><td></td><td>Int64</td></tr><tr><th>26</th><td>26</td><td>0.0312796</td><td>0</td><td>0.0</td><td>3</td><td></td><td></td><td>Int64</td></tr><tr><th>27</th><td>27</td><td>2.21564</td><td>1.0</td><td>2.247</td><td>2.859</td><td></td><td></td><td>Float64</td></tr><tr><th>28</th><td>28</td><td>-0.00120569</td><td>-1.099</td><td>0.0</td><td>1.073</td><td></td><td></td><td>Float64</td></tr><tr><th>29</th><td>29</td><td>0.0265403</td><td>0</td><td>0.0</td><td>1</td><td></td><td></td><td>Int64</td></tr><tr><th>30</th><td>30</td><td>8.78051</td><td>0.0</td><td>0.0</td><td>71.167</td><td></td><td></td><td>Float64</td></tr><tr><th>31</th><td>31</td><td>2.66834</td><td>0.444</td><td>2.052</td><td>17.537</td><td></td><td></td><td>Float64</td></tr><tr><th>32</th><td>32</td><td>0.129858</td><td>0</td><td>0.0</td><td>8</td><td></td><td></td><td>Int64</td></tr><tr><th>33</th><td>33</td><td>0.883412</td><td>0</td><td>0.0</td><td>12</td><td></td><td></td><td>Int64</td></tr><tr><th>34</th><td>34</td><td>1.27488</td><td>0</td><td>0.0</td><td>18</td><td></td><td></td><td>Int64</td></tr><tr><th>35</th><td>35</td><td>0.961137</td><td>0</td><td>1.0</td><td>7</td><td></td><td></td><td>Int64</td></tr><tr><th>36</th><td>36</td><td>3.91824</td><td>2.267</td><td>3.726</td><td>10.695</td><td></td><td></td><td>Float64</td></tr><tr><th>37</th><td>37</td><td>2.55842</td><td>1.467</td><td>2.458</td><td>5.825</td><td></td><td></td><td>Float64</td></tr><tr><th>38</th><td>38</td><td>0.686256</td><td>0</td><td>0.0</td><td>8</td><td></td><td></td><td>Int64</td></tr><tr><th>39</th><td>39</td><td>8.62949</td><td>4.917</td><td>8.499</td><td>14.7</td><td></td><td></td><td>Float64</td></tr><tr><th>40</th><td>40</td><td>0.0511848</td><td>0</td><td>0.0</td><td>4</td><td></td><td></td><td>Int64</td></tr><tr><th>41</th><td>41</td><td>0.723223</td><td>0</td><td>0.0</td><td>27</td><td></td><td></td><td>Int64</td></tr><tr><th>42</th><td>Class</td><td></td><td>NRB</td><td></td><td>RB</td><td>2</td><td></td><td>String</td></tr></tbody></table>"
      ],
      "text/latex": [
       "\\begin{tabular}{r|cccccccc}\n",
       "\t& variable & mean & min & median & max & nunique & nmissing & eltype\\\\\n",
       "\t\\hline\n",
       "\t& Symbol & Union… & Any & Union… & Any & Union… & Nothing & DataType\\\\\n",
       "\t\\hline\n",
       "\t1 & 1 & 4.78264 & 2.0 & 4.828 & 6.496 &  &  & Float64 \\\\\n",
       "\t2 & 2 & 3.06951 & 0.8039 & 3.0463 & 9.1775 &  &  & Float64 \\\\\n",
       "\t3 & 3 & 0.716588 & 0 & 0.0 & 12 &  &  & Int64 \\\\\n",
       "\t4 & 4 & 0.042654 & 0 & 0.0 & 3 &  &  & Int64 \\\\\n",
       "\t5 & 5 & 0.980095 & 0 & 0.0 & 36 &  &  & Int64 \\\\\n",
       "\t6 & 6 & 0.290047 & 0 & 0.0 & 13 &  &  & Int64 \\\\\n",
       "\t7 & 7 & 1.64645 & 0 & 1.0 & 18 &  &  & Int64 \\\\\n",
       "\t8 & 8 & 37.0556 & 0.0 & 37.5 & 60.7 &  &  & Float64 \\\\\n",
       "\t9 & 9 & 1.3763 & 0 & 1.0 & 24 &  &  & Int64 \\\\\n",
       "\t10 & 10 & 1.80379 & 0 & 2.0 & 12 &  &  & Int64 \\\\\n",
       "\t11 & 11 & 1.43697 & 0 & 0.0 & 44 &  &  & Int64 \\\\\n",
       "\t12 & 12 & -0.197129 & -5.256 & 0.0 & 4.722 &  &  & Float64 \\\\\n",
       "\t13 & 13 & 3.47684 & 1.544 & 3.442 & 5.701 &  &  & Float64 \\\\\n",
       "\t14 & 14 & 1.35072 & 0.0 & 1.187 & 4.491 &  &  & Float64 \\\\\n",
       "\t15 & 15 & 9.93738 & 4.174 & 10.039 & 12.609 &  &  & Float64 \\\\\n",
       "\t16 & 16 & 3.63033 & 0 & 2.0 & 40 &  &  & Int64 \\\\\n",
       "\t17 & 17 & 1.0133 & 0.957 & 1.003 & 1.311 &  &  & Float64 \\\\\n",
       "\t18 & 18 & 1.13111 & 1.022 & 1.13 & 1.377 &  &  & Float64 \\\\\n",
       "\t19 & 19 & 0.00853081 & 0 & 0.0 & 2 &  &  & Int64 \\\\\n",
       "\t20 & 20 & 0.0739336 & 0 & 0.0 & 3 &  &  & Int64 \\\\\n",
       "\t21 & 21 & 0.0293839 & 0 & 0.0 & 3 &  &  & Int64 \\\\\n",
       "\t22 & 22 & 1.23873 & 0.863 & 1.243 & 1.641 &  &  & Float64 \\\\\n",
       "\t23 & 23 & 1.40569 & 0 & 1.0 & 147 &  &  & Int64 \\\\\n",
       "\t24 & 24 & 0.0398104 & 0 & 0.0 & 1 &  &  & Int64 \\\\\n",
       "\t25 & 25 & 0.147867 & 0 & 0.0 & 1 &  &  & Int64 \\\\\n",
       "\t26 & 26 & 0.0312796 & 0 & 0.0 & 3 &  &  & Int64 \\\\\n",
       "\t27 & 27 & 2.21564 & 1.0 & 2.247 & 2.859 &  &  & Float64 \\\\\n",
       "\t28 & 28 & -0.00120569 & -1.099 & 0.0 & 1.073 &  &  & Float64 \\\\\n",
       "\t29 & 29 & 0.0265403 & 0 & 0.0 & 1 &  &  & Int64 \\\\\n",
       "\t30 & 30 & 8.78051 & 0.0 & 0.0 & 71.167 &  &  & Float64 \\\\\n",
       "\t31 & 31 & 2.66834 & 0.444 & 2.052 & 17.537 &  &  & Float64 \\\\\n",
       "\t32 & 32 & 0.129858 & 0 & 0.0 & 8 &  &  & Int64 \\\\\n",
       "\t33 & 33 & 0.883412 & 0 & 0.0 & 12 &  &  & Int64 \\\\\n",
       "\t34 & 34 & 1.27488 & 0 & 0.0 & 18 &  &  & Int64 \\\\\n",
       "\t35 & 35 & 0.961137 & 0 & 1.0 & 7 &  &  & Int64 \\\\\n",
       "\t36 & 36 & 3.91824 & 2.267 & 3.726 & 10.695 &  &  & Float64 \\\\\n",
       "\t37 & 37 & 2.55842 & 1.467 & 2.458 & 5.825 &  &  & Float64 \\\\\n",
       "\t38 & 38 & 0.686256 & 0 & 0.0 & 8 &  &  & Int64 \\\\\n",
       "\t39 & 39 & 8.62949 & 4.917 & 8.499 & 14.7 &  &  & Float64 \\\\\n",
       "\t40 & 40 & 0.0511848 & 0 & 0.0 & 4 &  &  & Int64 \\\\\n",
       "\t41 & 41 & 0.723223 & 0 & 0.0 & 27 &  &  & Int64 \\\\\n",
       "\t42 & Class &  & NRB &  & RB & 2 &  & String \\\\\n",
       "\\end{tabular}\n"
      ],
      "text/plain": [
       "42×8 DataFrame. Omitted printing of 1 columns\n",
       "│ Row │ variable │ mean        │ min    │ median │ max    │ nunique │ nmissing │\n",
       "│     │ \u001b[90mSymbol\u001b[39m   │ \u001b[90mUnion…\u001b[39m      │ \u001b[90mAny\u001b[39m    │ \u001b[90mUnion…\u001b[39m │ \u001b[90mAny\u001b[39m    │ \u001b[90mUnion…\u001b[39m  │ \u001b[90mNothing\u001b[39m  │\n",
       "├─────┼──────────┼─────────────┼────────┼────────┼────────┼─────────┼──────────┤\n",
       "│ 1   │ 1        │ 4.78264     │ 2.0    │ 4.828  │ 6.496  │         │          │\n",
       "│ 2   │ 2        │ 3.06951     │ 0.8039 │ 3.0463 │ 9.1775 │         │          │\n",
       "│ 3   │ 3        │ 0.716588    │ 0      │ 0.0    │ 12     │         │          │\n",
       "│ 4   │ 4        │ 0.042654    │ 0      │ 0.0    │ 3      │         │          │\n",
       "│ 5   │ 5        │ 0.980095    │ 0      │ 0.0    │ 36     │         │          │\n",
       "│ 6   │ 6        │ 0.290047    │ 0      │ 0.0    │ 13     │         │          │\n",
       "│ 7   │ 7        │ 1.64645     │ 0      │ 1.0    │ 18     │         │          │\n",
       "│ 8   │ 8        │ 37.0556     │ 0.0    │ 37.5   │ 60.7   │         │          │\n",
       "│ 9   │ 9        │ 1.3763      │ 0      │ 1.0    │ 24     │         │          │\n",
       "│ 10  │ 10       │ 1.80379     │ 0      │ 2.0    │ 12     │         │          │\n",
       "│ 11  │ 11       │ 1.43697     │ 0      │ 0.0    │ 44     │         │          │\n",
       "│ 12  │ 12       │ -0.197129   │ -5.256 │ 0.0    │ 4.722  │         │          │\n",
       "│ 13  │ 13       │ 3.47684     │ 1.544  │ 3.442  │ 5.701  │         │          │\n",
       "│ 14  │ 14       │ 1.35072     │ 0.0    │ 1.187  │ 4.491  │         │          │\n",
       "│ 15  │ 15       │ 9.93738     │ 4.174  │ 10.039 │ 12.609 │         │          │\n",
       "│ 16  │ 16       │ 3.63033     │ 0      │ 2.0    │ 40     │         │          │\n",
       "│ 17  │ 17       │ 1.0133      │ 0.957  │ 1.003  │ 1.311  │         │          │\n",
       "│ 18  │ 18       │ 1.13111     │ 1.022  │ 1.13   │ 1.377  │         │          │\n",
       "│ 19  │ 19       │ 0.00853081  │ 0      │ 0.0    │ 2      │         │          │\n",
       "│ 20  │ 20       │ 0.0739336   │ 0      │ 0.0    │ 3      │         │          │\n",
       "│ 21  │ 21       │ 0.0293839   │ 0      │ 0.0    │ 3      │         │          │\n",
       "│ 22  │ 22       │ 1.23873     │ 0.863  │ 1.243  │ 1.641  │         │          │\n",
       "│ 23  │ 23       │ 1.40569     │ 0      │ 1.0    │ 147    │         │          │\n",
       "│ 24  │ 24       │ 0.0398104   │ 0      │ 0.0    │ 1      │         │          │\n",
       "│ 25  │ 25       │ 0.147867    │ 0      │ 0.0    │ 1      │         │          │\n",
       "│ 26  │ 26       │ 0.0312796   │ 0      │ 0.0    │ 3      │         │          │\n",
       "│ 27  │ 27       │ 2.21564     │ 1.0    │ 2.247  │ 2.859  │         │          │\n",
       "│ 28  │ 28       │ -0.00120569 │ -1.099 │ 0.0    │ 1.073  │         │          │\n",
       "│ 29  │ 29       │ 0.0265403   │ 0      │ 0.0    │ 1      │         │          │\n",
       "│ 30  │ 30       │ 8.78051     │ 0.0    │ 0.0    │ 71.167 │         │          │\n",
       "│ 31  │ 31       │ 2.66834     │ 0.444  │ 2.052  │ 17.537 │         │          │\n",
       "│ 32  │ 32       │ 0.129858    │ 0      │ 0.0    │ 8      │         │          │\n",
       "│ 33  │ 33       │ 0.883412    │ 0      │ 0.0    │ 12     │         │          │\n",
       "│ 34  │ 34       │ 1.27488     │ 0      │ 0.0    │ 18     │         │          │\n",
       "│ 35  │ 35       │ 0.961137    │ 0      │ 1.0    │ 7      │         │          │\n",
       "│ 36  │ 36       │ 3.91824     │ 2.267  │ 3.726  │ 10.695 │         │          │\n",
       "│ 37  │ 37       │ 2.55842     │ 1.467  │ 2.458  │ 5.825  │         │          │\n",
       "│ 38  │ 38       │ 0.686256    │ 0      │ 0.0    │ 8      │         │          │\n",
       "│ 39  │ 39       │ 8.62949     │ 4.917  │ 8.499  │ 14.7   │         │          │\n",
       "│ 40  │ 40       │ 0.0511848   │ 0      │ 0.0    │ 4      │         │          │\n",
       "│ 41  │ 41       │ 0.723223    │ 0      │ 0.0    │ 27     │         │          │\n",
       "│ 42  │ Class    │             │ NRB    │        │ RB     │ 2       │          │"
      ]
     },
     "execution_count": 4,
     "metadata": {},
     "output_type": "execute_result"
    }
   ],
   "source": [
    "data = CSV.read(\"biodegradation.csv\")\n",
    "describe(data)"
   ]
  },
  {
   "cell_type": "code",
   "execution_count": 5,
   "metadata": {},
   "outputs": [
    {
     "data": {
      "text/plain": [
       "2-element Array{Float64,1}:\n",
       " 0.33744075829383885\n",
       " 0.6625592417061611"
      ]
     },
     "execution_count": 5,
     "metadata": {},
     "output_type": "execute_result"
    }
   ],
   "source": [
    "label_counts = countmap(data[:(Class)])\n",
    "collect(label_counts[i] / size(data)[1] for i in keys(label_counts))"
   ]
  },
  {
   "cell_type": "code",
   "execution_count": 6,
   "metadata": {
    "scrolled": true
   },
   "outputs": [
    {
     "data": {
      "text/plain": [
       "┌\u001b[0m─────────\u001b[0m┬\u001b[0m─────────────────────────────────\u001b[0m┬\u001b[0m───────────────\u001b[0m┐\u001b[0m\n",
       "│\u001b[0m\u001b[22m _.names \u001b[0m│\u001b[0m\u001b[22m _.types                         \u001b[0m│\u001b[0m\u001b[22m _.scitypes    \u001b[0m│\u001b[0m\n",
       "├\u001b[0m─────────\u001b[0m┼\u001b[0m─────────────────────────────────\u001b[0m┼\u001b[0m───────────────\u001b[0m┤\u001b[0m\n",
       "│\u001b[0m 1       \u001b[0m│\u001b[0m Float64                         \u001b[0m│\u001b[0m Continuous    \u001b[0m│\u001b[0m\n",
       "│\u001b[0m 2       \u001b[0m│\u001b[0m Float64                         \u001b[0m│\u001b[0m Continuous    \u001b[0m│\u001b[0m\n",
       "│\u001b[0m 3       \u001b[0m│\u001b[0m Int64                           \u001b[0m│\u001b[0m Count         \u001b[0m│\u001b[0m\n",
       "│\u001b[0m 4       \u001b[0m│\u001b[0m Int64                           \u001b[0m│\u001b[0m Count         \u001b[0m│\u001b[0m\n",
       "│\u001b[0m 5       \u001b[0m│\u001b[0m Int64                           \u001b[0m│\u001b[0m Count         \u001b[0m│\u001b[0m\n",
       "│\u001b[0m 6       \u001b[0m│\u001b[0m Int64                           \u001b[0m│\u001b[0m Count         \u001b[0m│\u001b[0m\n",
       "│\u001b[0m 7       \u001b[0m│\u001b[0m Int64                           \u001b[0m│\u001b[0m Count         \u001b[0m│\u001b[0m\n",
       "│\u001b[0m 8       \u001b[0m│\u001b[0m Float64                         \u001b[0m│\u001b[0m Continuous    \u001b[0m│\u001b[0m\n",
       "│\u001b[0m 9       \u001b[0m│\u001b[0m Int64                           \u001b[0m│\u001b[0m Count         \u001b[0m│\u001b[0m\n",
       "│\u001b[0m 10      \u001b[0m│\u001b[0m Int64                           \u001b[0m│\u001b[0m Count         \u001b[0m│\u001b[0m\n",
       "│\u001b[0m 11      \u001b[0m│\u001b[0m Int64                           \u001b[0m│\u001b[0m Count         \u001b[0m│\u001b[0m\n",
       "│\u001b[0m 12      \u001b[0m│\u001b[0m Float64                         \u001b[0m│\u001b[0m Continuous    \u001b[0m│\u001b[0m\n",
       "│\u001b[0m 13      \u001b[0m│\u001b[0m Float64                         \u001b[0m│\u001b[0m Continuous    \u001b[0m│\u001b[0m\n",
       "│\u001b[0m 14      \u001b[0m│\u001b[0m Float64                         \u001b[0m│\u001b[0m Continuous    \u001b[0m│\u001b[0m\n",
       "│\u001b[0m 15      \u001b[0m│\u001b[0m Float64                         \u001b[0m│\u001b[0m Continuous    \u001b[0m│\u001b[0m\n",
       "│\u001b[0m 16      \u001b[0m│\u001b[0m Int64                           \u001b[0m│\u001b[0m Count         \u001b[0m│\u001b[0m\n",
       "│\u001b[0m 17      \u001b[0m│\u001b[0m Float64                         \u001b[0m│\u001b[0m Continuous    \u001b[0m│\u001b[0m\n",
       "│\u001b[0m 18      \u001b[0m│\u001b[0m Float64                         \u001b[0m│\u001b[0m Continuous    \u001b[0m│\u001b[0m\n",
       "│\u001b[0m 19      \u001b[0m│\u001b[0m Int64                           \u001b[0m│\u001b[0m Count         \u001b[0m│\u001b[0m\n",
       "│\u001b[0m 20      \u001b[0m│\u001b[0m Int64                           \u001b[0m│\u001b[0m Count         \u001b[0m│\u001b[0m\n",
       "│\u001b[0m 21      \u001b[0m│\u001b[0m Int64                           \u001b[0m│\u001b[0m Count         \u001b[0m│\u001b[0m\n",
       "│\u001b[0m 22      \u001b[0m│\u001b[0m Float64                         \u001b[0m│\u001b[0m Continuous    \u001b[0m│\u001b[0m\n",
       "│\u001b[0m 23      \u001b[0m│\u001b[0m Int64                           \u001b[0m│\u001b[0m Count         \u001b[0m│\u001b[0m\n",
       "│\u001b[0m 24      \u001b[0m│\u001b[0m Int64                           \u001b[0m│\u001b[0m Count         \u001b[0m│\u001b[0m\n",
       "│\u001b[0m 25      \u001b[0m│\u001b[0m Int64                           \u001b[0m│\u001b[0m Count         \u001b[0m│\u001b[0m\n",
       "│\u001b[0m 26      \u001b[0m│\u001b[0m Int64                           \u001b[0m│\u001b[0m Count         \u001b[0m│\u001b[0m\n",
       "│\u001b[0m 27      \u001b[0m│\u001b[0m Float64                         \u001b[0m│\u001b[0m Continuous    \u001b[0m│\u001b[0m\n",
       "│\u001b[0m 28      \u001b[0m│\u001b[0m Float64                         \u001b[0m│\u001b[0m Continuous    \u001b[0m│\u001b[0m\n",
       "│\u001b[0m 29      \u001b[0m│\u001b[0m Int64                           \u001b[0m│\u001b[0m Count         \u001b[0m│\u001b[0m\n",
       "│\u001b[0m 30      \u001b[0m│\u001b[0m Float64                         \u001b[0m│\u001b[0m Continuous    \u001b[0m│\u001b[0m\n",
       "│\u001b[0m 31      \u001b[0m│\u001b[0m Float64                         \u001b[0m│\u001b[0m Continuous    \u001b[0m│\u001b[0m\n",
       "│\u001b[0m 32      \u001b[0m│\u001b[0m Int64                           \u001b[0m│\u001b[0m Count         \u001b[0m│\u001b[0m\n",
       "│\u001b[0m 33      \u001b[0m│\u001b[0m Int64                           \u001b[0m│\u001b[0m Count         \u001b[0m│\u001b[0m\n",
       "│\u001b[0m 34      \u001b[0m│\u001b[0m Int64                           \u001b[0m│\u001b[0m Count         \u001b[0m│\u001b[0m\n",
       "│\u001b[0m 35      \u001b[0m│\u001b[0m Int64                           \u001b[0m│\u001b[0m Count         \u001b[0m│\u001b[0m\n",
       "│\u001b[0m 36      \u001b[0m│\u001b[0m Float64                         \u001b[0m│\u001b[0m Continuous    \u001b[0m│\u001b[0m\n",
       "│\u001b[0m 37      \u001b[0m│\u001b[0m Float64                         \u001b[0m│\u001b[0m Continuous    \u001b[0m│\u001b[0m\n",
       "│\u001b[0m 38      \u001b[0m│\u001b[0m Int64                           \u001b[0m│\u001b[0m Count         \u001b[0m│\u001b[0m\n",
       "│\u001b[0m 39      \u001b[0m│\u001b[0m Float64                         \u001b[0m│\u001b[0m Continuous    \u001b[0m│\u001b[0m\n",
       "│\u001b[0m 40      \u001b[0m│\u001b[0m Int64                           \u001b[0m│\u001b[0m Count         \u001b[0m│\u001b[0m\n",
       "│\u001b[0m 41      \u001b[0m│\u001b[0m Int64                           \u001b[0m│\u001b[0m Count         \u001b[0m│\u001b[0m\n",
       "│\u001b[0m Class   \u001b[0m│\u001b[0m CategoricalValue{String,UInt32} \u001b[0m│\u001b[0m Multiclass{2} \u001b[0m│\u001b[0m\n",
       "└\u001b[0m─────────\u001b[0m┴\u001b[0m─────────────────────────────────\u001b[0m┴\u001b[0m───────────────\u001b[0m┘\u001b[0m\n",
       "_.nrows = 1055\n"
      ]
     },
     "execution_count": 6,
     "metadata": {},
     "output_type": "execute_result"
    }
   ],
   "source": [
    "coerce!(data, :Class=>Multiclass)\n",
    "schema(data)"
   ]
  },
  {
   "cell_type": "code",
   "execution_count": 63,
   "metadata": {},
   "outputs": [
    {
     "ename": "LoadError",
     "evalue": "Empty column selection encountered at selection 2\nselection 1: [:Class]\n remaining: [Symbol(\"1\"), Symbol(\"2\"), Symbol(\"3\"), Symbol(\"4\"), Symbol(\"5\"), Symbol(\"6\"), Symbol(\"7\"), Symbol(\"8\"), Symbol(\"9\"), Symbol(\"10\"), Symbol(\"11\"), Symbol(\"12\"), Symbol(\"13\"), Symbol(\"14\"), Symbol(\"15\"), Symbol(\"16\"), Symbol(\"17\"), Symbol(\"18\"), Symbol(\"19\"), Symbol(\"20\"), Symbol(\"21\"), Symbol(\"22\"), Symbol(\"23\"), Symbol(\"24\"), Symbol(\"25\"), Symbol(\"26\"), Symbol(\"27\"), Symbol(\"28\"), Symbol(\"29\"), Symbol(\"30\"), Symbol(\"31\"), Symbol(\"32\"), Symbol(\"33\"), Symbol(\"34\"), Symbol(\"35\"), Symbol(\"36\"), Symbol(\"37\"), Symbol(\"38\"), Symbol(\"39\"), Symbol(\"40\"), Symbol(\"41\")]\nselection 2: Symbol[]\n remaining: [Symbol(\"1\"), Symbol(\"2\"), Symbol(\"3\"), Symbol(\"4\"), Symbol(\"5\"), Symbol(\"6\"), Symbol(\"7\"), Symbol(\"8\"), Symbol(\"9\"), Symbol(\"10\"), Symbol(\"11\"), Symbol(\"12\"), Symbol(\"13\"), Symbol(\"14\"), Symbol(\"15\"), Symbol(\"16\"), Symbol(\"17\"), Symbol(\"18\"), Symbol(\"19\"), Symbol(\"20\"), Symbol(\"21\"), Symbol(\"22\"), Symbol(\"23\"), Symbol(\"24\"), Symbol(\"25\"), Symbol(\"26\"), Symbol(\"27\"), Symbol(\"28\"), Symbol(\"29\"), Symbol(\"30\"), Symbol(\"31\"), Symbol(\"32\"), Symbol(\"33\"), Symbol(\"34\"), Symbol(\"35\"), Symbol(\"36\"), Symbol(\"37\"), Symbol(\"38\"), Symbol(\"39\"), Symbol(\"40\"), Symbol(\"41\")]\n",
     "output_type": "error",
     "traceback": [
      "Empty column selection encountered at selection 2\nselection 1: [:Class]\n remaining: [Symbol(\"1\"), Symbol(\"2\"), Symbol(\"3\"), Symbol(\"4\"), Symbol(\"5\"), Symbol(\"6\"), Symbol(\"7\"), Symbol(\"8\"), Symbol(\"9\"), Symbol(\"10\"), Symbol(\"11\"), Symbol(\"12\"), Symbol(\"13\"), Symbol(\"14\"), Symbol(\"15\"), Symbol(\"16\"), Symbol(\"17\"), Symbol(\"18\"), Symbol(\"19\"), Symbol(\"20\"), Symbol(\"21\"), Symbol(\"22\"), Symbol(\"23\"), Symbol(\"24\"), Symbol(\"25\"), Symbol(\"26\"), Symbol(\"27\"), Symbol(\"28\"), Symbol(\"29\"), Symbol(\"30\"), Symbol(\"31\"), Symbol(\"32\"), Symbol(\"33\"), Symbol(\"34\"), Symbol(\"35\"), Symbol(\"36\"), Symbol(\"37\"), Symbol(\"38\"), Symbol(\"39\"), Symbol(\"40\"), Symbol(\"41\")]\nselection 2: Symbol[]\n remaining: [Symbol(\"1\"), Symbol(\"2\"), Symbol(\"3\"), Symbol(\"4\"), Symbol(\"5\"), Symbol(\"6\"), Symbol(\"7\"), Symbol(\"8\"), Symbol(\"9\"), Symbol(\"10\"), Symbol(\"11\"), Symbol(\"12\"), Symbol(\"13\"), Symbol(\"14\"), Symbol(\"15\"), Symbol(\"16\"), Symbol(\"17\"), Symbol(\"18\"), Symbol(\"19\"), Symbol(\"20\"), Symbol(\"21\"), Symbol(\"22\"), Symbol(\"23\"), Symbol(\"24\"), Symbol(\"25\"), Symbol(\"26\"), Symbol(\"27\"), Symbol(\"28\"), Symbol(\"29\"), Symbol(\"30\"), Symbol(\"31\"), Symbol(\"32\"), Symbol(\"33\"), Symbol(\"34\"), Symbol(\"35\"), Symbol(\"36\"), Symbol(\"37\"), Symbol(\"38\"), Symbol(\"39\"), Symbol(\"40\"), Symbol(\"41\")]\n",
      "",
      "Stacktrace:",
      " [1] error(::String) at ./error.jl:33",
      " [2] unpack(::DataFrame, ::Function, ::Vararg{Function,N} where N; wrap_singles::Bool, shuffle::Nothing, rng::Nothing, pairs::Base.Iterators.Pairs{Union{},Union{},Tuple{},NamedTuple{(),Tuple{}}}) at /home/andrew/.julia/packages/MLJBase/8HOpr/src/data/data.jl:190",
      " [3] unpack(::DataFrame, ::Function, ::Vararg{Function,N} where N) at /home/andrew/.julia/packages/MLJBase/8HOpr/src/data/data.jl:172",
      " [4] top-level scope at In[63]:2",
      " [5] include_string(::Function, ::Module, ::String, ::String) at ./loading.jl:1091",
      " [6] execute_code(::String, ::String) at /home/andrew/.julia/packages/IJulia/rWZ9e/src/execute_request.jl:27",
      " [7] execute_request(::ZMQ.Socket, ::IJulia.Msg) at /home/andrew/.julia/packages/IJulia/rWZ9e/src/execute_request.jl:86",
      " [8] #invokelatest#1 at ./essentials.jl:710 [inlined]",
      " [9] invokelatest at ./essentials.jl:709 [inlined]",
      " [10] eventloop(::ZMQ.Socket) at /home/andrew/.julia/packages/IJulia/rWZ9e/src/eventloop.jl:8",
      " [11] (::IJulia.var\"#15#18\")() at ./task.jl:356"
     ]
    }
   ],
   "source": [
    "# y, X = unpack(data, ==(:Class), colname->true)\n",
    "y, X = unpack(data, ==(:Class), x->scitype(x)==:Continuous) \n",
    "train, test = partition(eachindex(y), 0.7, shuffle=true, rng=123, stratify=values(data[:Class])) # gives 70:30 split"
   ]
  },
  {
   "cell_type": "code",
   "execution_count": 62,
   "metadata": {},
   "outputs": [
    {
     "data": {
      "text/html": [
       "<table class=\"data-frame\"><thead><tr><th></th><th>1</th><th>2</th><th>3</th><th>4</th><th>5</th><th>6</th><th>7</th><th>8</th><th>9</th><th>10</th><th>11</th></tr><tr><th></th><th>Float64</th><th>Float64</th><th>Int64</th><th>Int64</th><th>Int64</th><th>Int64</th><th>Int64</th><th>Float64</th><th>Int64</th><th>Int64</th><th>Int64</th></tr></thead><tbody><p>1,055 rows × 41 columns (omitted printing of 30 columns)</p><tr><th>1</th><td>3.919</td><td>2.6909</td><td>0</td><td>0</td><td>0</td><td>0</td><td>0</td><td>31.4</td><td>2</td><td>0</td><td>0</td></tr><tr><th>2</th><td>4.17</td><td>2.1144</td><td>0</td><td>0</td><td>0</td><td>0</td><td>0</td><td>30.8</td><td>1</td><td>1</td><td>0</td></tr><tr><th>3</th><td>3.932</td><td>3.2512</td><td>0</td><td>0</td><td>0</td><td>0</td><td>0</td><td>26.7</td><td>2</td><td>4</td><td>0</td></tr><tr><th>4</th><td>3.0</td><td>2.7098</td><td>0</td><td>0</td><td>0</td><td>0</td><td>0</td><td>20.0</td><td>0</td><td>2</td><td>0</td></tr><tr><th>5</th><td>4.236</td><td>3.3944</td><td>0</td><td>0</td><td>0</td><td>0</td><td>0</td><td>29.4</td><td>2</td><td>4</td><td>0</td></tr><tr><th>6</th><td>4.236</td><td>3.4286</td><td>0</td><td>0</td><td>0</td><td>0</td><td>0</td><td>28.6</td><td>2</td><td>4</td><td>0</td></tr><tr><th>7</th><td>5.0</td><td>5.0476</td><td>1</td><td>0</td><td>0</td><td>0</td><td>0</td><td>11.1</td><td>0</td><td>3</td><td>0</td></tr><tr><th>8</th><td>4.525</td><td>3.8301</td><td>0</td><td>0</td><td>0</td><td>0</td><td>0</td><td>31.6</td><td>3</td><td>2</td><td>0</td></tr><tr><th>9</th><td>4.596</td><td>3.0777</td><td>0</td><td>0</td><td>0</td><td>0</td><td>2</td><td>44.4</td><td>2</td><td>0</td><td>0</td></tr><tr><th>10</th><td>5.04</td><td>3.6112</td><td>0</td><td>0</td><td>1</td><td>0</td><td>2</td><td>41.2</td><td>0</td><td>4</td><td>3</td></tr><tr><th>11</th><td>4.91</td><td>2.7414</td><td>0</td><td>0</td><td>0</td><td>0</td><td>2</td><td>52.9</td><td>0</td><td>2</td><td>0</td></tr><tr><th>12</th><td>3.618</td><td>2.1906</td><td>0</td><td>0</td><td>0</td><td>0</td><td>0</td><td>29.4</td><td>2</td><td>0</td><td>0</td></tr><tr><th>13</th><td>4.214</td><td>2.6272</td><td>0</td><td>0</td><td>0</td><td>0</td><td>0</td><td>30.0</td><td>3</td><td>0</td><td>0</td></tr><tr><th>14</th><td>3.732</td><td>2.3391</td><td>0</td><td>0</td><td>0</td><td>0</td><td>0</td><td>30.0</td><td>2</td><td>0</td><td>0</td></tr><tr><th>15</th><td>3.879</td><td>2.5951</td><td>0</td><td>0</td><td>0</td><td>0</td><td>0</td><td>31.0</td><td>2</td><td>0</td><td>0</td></tr><tr><th>16</th><td>3.942</td><td>2.7719</td><td>1</td><td>0</td><td>0</td><td>0</td><td>0</td><td>31.6</td><td>2</td><td>0</td><td>0</td></tr><tr><th>17</th><td>3.966</td><td>2.852</td><td>1</td><td>0</td><td>0</td><td>0</td><td>0</td><td>32.0</td><td>2</td><td>0</td><td>0</td></tr><tr><th>18</th><td>3.732</td><td>2.3761</td><td>0</td><td>0</td><td>1</td><td>0</td><td>0</td><td>26.3</td><td>2</td><td>0</td><td>1</td></tr><tr><th>19</th><td>4.0</td><td>2.6264</td><td>0</td><td>0</td><td>0</td><td>0</td><td>0</td><td>23.1</td><td>0</td><td>0</td><td>0</td></tr><tr><th>20</th><td>2.0</td><td>1.1521</td><td>0</td><td>0</td><td>0</td><td>0</td><td>0</td><td>16.7</td><td>1</td><td>1</td><td>0</td></tr><tr><th>21</th><td>3.732</td><td>2.4062</td><td>0</td><td>0</td><td>0</td><td>0</td><td>0</td><td>27.8</td><td>2</td><td>1</td><td>0</td></tr><tr><th>22</th><td>4.0</td><td>2.3699</td><td>0</td><td>0</td><td>0</td><td>0</td><td>0</td><td>30.0</td><td>1</td><td>1</td><td>0</td></tr><tr><th>23</th><td>3.414</td><td>2.2525</td><td>0</td><td>0</td><td>0</td><td>0</td><td>0</td><td>20.0</td><td>2</td><td>2</td><td>0</td></tr><tr><th>24</th><td>4.17</td><td>2.8042</td><td>0</td><td>0</td><td>0</td><td>0</td><td>0</td><td>23.1</td><td>2</td><td>2</td><td>0</td></tr><tr><th>25</th><td>4.303</td><td>2.9558</td><td>0</td><td>0</td><td>0</td><td>0</td><td>0</td><td>25.0</td><td>2</td><td>2</td><td>0</td></tr><tr><th>26</th><td>3.414</td><td>2.6294</td><td>0</td><td>0</td><td>0</td><td>0</td><td>0</td><td>37.5</td><td>1</td><td>1</td><td>0</td></tr><tr><th>27</th><td>4.214</td><td>3.0057</td><td>0</td><td>0</td><td>0</td><td>0</td><td>0</td><td>25.0</td><td>1</td><td>2</td><td>0</td></tr><tr><th>28</th><td>3.848</td><td>2.8521</td><td>0</td><td>0</td><td>0</td><td>0</td><td>0</td><td>27.3</td><td>2</td><td>2</td><td>0</td></tr><tr><th>29</th><td>3.414</td><td>2.3729</td><td>0</td><td>0</td><td>0</td><td>0</td><td>0</td><td>30.0</td><td>1</td><td>1</td><td>0</td></tr><tr><th>30</th><td>4.393</td><td>3.6458</td><td>0</td><td>0</td><td>0</td><td>0</td><td>0</td><td>37.0</td><td>3</td><td>1</td><td>0</td></tr><tr><th>31</th><td>4.562</td><td>3.3225</td><td>0</td><td>0</td><td>0</td><td>0</td><td>0</td><td>31.3</td><td>3</td><td>1</td><td>0</td></tr><tr><th>32</th><td>4.0</td><td>2.9193</td><td>0</td><td>0</td><td>0</td><td>0</td><td>0</td><td>30.0</td><td>2</td><td>1</td><td>0</td></tr><tr><th>33</th><td>4.694</td><td>3.646</td><td>0</td><td>0</td><td>0</td><td>0</td><td>0</td><td>30.0</td><td>2</td><td>2</td><td>0</td></tr><tr><th>34</th><td>4.236</td><td>2.9879</td><td>0</td><td>0</td><td>0</td><td>0</td><td>0</td><td>33.3</td><td>0</td><td>2</td><td>0</td></tr><tr><th>35</th><td>4.17</td><td>3.4453</td><td>0</td><td>0</td><td>0</td><td>0</td><td>0</td><td>27.3</td><td>1</td><td>2</td><td>0</td></tr><tr><th>36</th><td>4.214</td><td>3.3939</td><td>0</td><td>0</td><td>0</td><td>0</td><td>0</td><td>28.6</td><td>2</td><td>2</td><td>0</td></tr><tr><th>37</th><td>4.214</td><td>3.7074</td><td>0</td><td>0</td><td>0</td><td>0</td><td>0</td><td>33.3</td><td>1</td><td>2</td><td>0</td></tr><tr><th>38</th><td>4.233</td><td>3.4039</td><td>0</td><td>0</td><td>0</td><td>0</td><td>0</td><td>27.8</td><td>1</td><td>3</td><td>0</td></tr><tr><th>39</th><td>4.334</td><td>3.6943</td><td>0</td><td>0</td><td>0</td><td>0</td><td>0</td><td>33.3</td><td>1</td><td>2</td><td>0</td></tr><tr><th>40</th><td>4.372</td><td>3.3652</td><td>0</td><td>0</td><td>0</td><td>0</td><td>0</td><td>33.3</td><td>1</td><td>2</td><td>0</td></tr><tr><th>41</th><td>5.392</td><td>4.5881</td><td>0</td><td>0</td><td>0</td><td>1</td><td>0</td><td>30.8</td><td>6</td><td>3</td><td>0</td></tr><tr><th>42</th><td>4.446</td><td>3.6985</td><td>0</td><td>0</td><td>0</td><td>0</td><td>0</td><td>30.0</td><td>0</td><td>4</td><td>0</td></tr><tr><th>43</th><td>4.411</td><td>3.5866</td><td>0</td><td>0</td><td>0</td><td>0</td><td>0</td><td>31.8</td><td>2</td><td>4</td><td>0</td></tr><tr><th>44</th><td>4.527</td><td>3.7942</td><td>0</td><td>0</td><td>0</td><td>0</td><td>0</td><td>32.5</td><td>4</td><td>4</td><td>0</td></tr><tr><th>45</th><td>4.347</td><td>3.1269</td><td>0</td><td>0</td><td>0</td><td>0</td><td>0</td><td>33.3</td><td>1</td><td>2</td><td>0</td></tr><tr><th>46</th><td>4.562</td><td>3.8122</td><td>0</td><td>0</td><td>0</td><td>0</td><td>0</td><td>33.3</td><td>1</td><td>2</td><td>0</td></tr><tr><th>47</th><td>4.629</td><td>4.0061</td><td>0</td><td>0</td><td>0</td><td>0</td><td>0</td><td>33.3</td><td>1</td><td>2</td><td>0</td></tr><tr><th>48</th><td>4.655</td><td>2.409</td><td>0</td><td>0</td><td>0</td><td>0</td><td>0</td><td>35.0</td><td>1</td><td>3</td><td>0</td></tr><tr><th>49</th><td>4.644</td><td>3.9071</td><td>0</td><td>0</td><td>0</td><td>0</td><td>0</td><td>31.6</td><td>2</td><td>3</td><td>0</td></tr><tr><th>50</th><td>4.646</td><td>3.9619</td><td>0</td><td>0</td><td>0</td><td>0</td><td>0</td><td>34.3</td><td>2</td><td>5</td><td>0</td></tr><tr><th>51</th><td>4.468</td><td>4.1984</td><td>0</td><td>0</td><td>0</td><td>0</td><td>0</td><td>33.3</td><td>2</td><td>4</td><td>0</td></tr><tr><th>52</th><td>4.562</td><td>3.7287</td><td>2</td><td>0</td><td>0</td><td>0</td><td>0</td><td>25.0</td><td>1</td><td>2</td><td>0</td></tr><tr><th>53</th><td>5.206</td><td>3.3847</td><td>0</td><td>0</td><td>1</td><td>0</td><td>0</td><td>30.8</td><td>1</td><td>2</td><td>1</td></tr><tr><th>54</th><td>4.691</td><td>3.8787</td><td>0</td><td>0</td><td>0</td><td>0</td><td>0</td><td>25.0</td><td>0</td><td>4</td><td>1</td></tr><tr><th>55</th><td>4.17</td><td>3.6206</td><td>0</td><td>0</td><td>0</td><td>0</td><td>0</td><td>28.6</td><td>0</td><td>3</td><td>0</td></tr><tr><th>56</th><td>4.214</td><td>3.3376</td><td>0</td><td>0</td><td>0</td><td>0</td><td>0</td><td>33.3</td><td>0</td><td>2</td><td>1</td></tr><tr><th>57</th><td>5.206</td><td>3.5794</td><td>0</td><td>0</td><td>1</td><td>0</td><td>0</td><td>30.6</td><td>1</td><td>3</td><td>3</td></tr><tr><th>58</th><td>4.17</td><td>2.6629</td><td>0</td><td>0</td><td>0</td><td>0</td><td>0</td><td>26.7</td><td>3</td><td>1</td><td>0</td></tr><tr><th>59</th><td>5.175</td><td>3.9016</td><td>0</td><td>0</td><td>0</td><td>1</td><td>0</td><td>29.6</td><td>3</td><td>3</td><td>0</td></tr><tr><th>60</th><td>4.642</td><td>3.0034</td><td>0</td><td>0</td><td>0</td><td>0</td><td>2</td><td>42.1</td><td>1</td><td>1</td><td>0</td></tr><tr><th>61</th><td>4.607</td><td>2.9443</td><td>0</td><td>0</td><td>0</td><td>0</td><td>2</td><td>42.1</td><td>1</td><td>1</td><td>0</td></tr><tr><th>62</th><td>4.807</td><td>3.2486</td><td>0</td><td>0</td><td>0</td><td>0</td><td>3</td><td>42.1</td><td>2</td><td>1</td><td>0</td></tr><tr><th>63</th><td>4.828</td><td>3.3386</td><td>0</td><td>0</td><td>0</td><td>0</td><td>2</td><td>40.0</td><td>0</td><td>2</td><td>0</td></tr><tr><th>64</th><td>4.543</td><td>2.7023</td><td>0</td><td>0</td><td>0</td><td>0</td><td>1</td><td>42.9</td><td>1</td><td>2</td><td>0</td></tr><tr><th>65</th><td>4.521</td><td>2.7124</td><td>0</td><td>0</td><td>0</td><td>0</td><td>1</td><td>45.0</td><td>1</td><td>1</td><td>0</td></tr><tr><th>66</th><td>4.607</td><td>3.1116</td><td>0</td><td>0</td><td>0</td><td>0</td><td>2</td><td>46.7</td><td>0</td><td>2</td><td>0</td></tr><tr><th>67</th><td>4.863</td><td>3.3599</td><td>0</td><td>0</td><td>0</td><td>0</td><td>3</td><td>42.1</td><td>0</td><td>3</td><td>0</td></tr><tr><th>68</th><td>4.923</td><td>3.2457</td><td>0</td><td>0</td><td>0</td><td>0</td><td>2</td><td>44.4</td><td>1</td><td>2</td><td>0</td></tr><tr><th>69</th><td>5.068</td><td>3.3983</td><td>0</td><td>0</td><td>0</td><td>0</td><td>2</td><td>41.7</td><td>0</td><td>4</td><td>0</td></tr><tr><th>70</th><td>5.074</td><td>3.092</td><td>0</td><td>0</td><td>0</td><td>0</td><td>2</td><td>38.1</td><td>4</td><td>4</td><td>0</td></tr><tr><th>71</th><td>4.914</td><td>3.2253</td><td>0</td><td>0</td><td>0</td><td>0</td><td>2</td><td>41.7</td><td>0</td><td>4</td><td>0</td></tr><tr><th>72</th><td>5.047</td><td>2.7377</td><td>0</td><td>0</td><td>0</td><td>0</td><td>3</td><td>50.0</td><td>0</td><td>5</td><td>0</td></tr><tr><th>73</th><td>4.793</td><td>2.1244</td><td>0</td><td>0</td><td>0</td><td>0</td><td>2</td><td>50.0</td><td>0</td><td>2</td><td>0</td></tr><tr><th>74</th><td>4.77</td><td>3.1445</td><td>0</td><td>0</td><td>0</td><td>0</td><td>2</td><td>43.8</td><td>0</td><td>3</td><td>0</td></tr><tr><th>75</th><td>5.313</td><td>3.4571</td><td>1</td><td>0</td><td>0</td><td>0</td><td>2</td><td>35.3</td><td>0</td><td>4</td><td>0</td></tr><tr><th>76</th><td>4.77</td><td>2.5385</td><td>0</td><td>0</td><td>0</td><td>0</td><td>0</td><td>38.5</td><td>3</td><td>0</td><td>0</td></tr><tr><th>77</th><td>4.414</td><td>2.18</td><td>0</td><td>0</td><td>0</td><td>0</td><td>0</td><td>31.6</td><td>0</td><td>1</td><td>0</td></tr><tr><th>78</th><td>4.821</td><td>2.5866</td><td>0</td><td>0</td><td>0</td><td>0</td><td>0</td><td>33.3</td><td>2</td><td>2</td><td>0</td></tr><tr><th>79</th><td>5.331</td><td>2.1747</td><td>1</td><td>0</td><td>0</td><td>0</td><td>3</td><td>47.4</td><td>0</td><td>4</td><td>0</td></tr><tr><th>80</th><td>4.607</td><td>3.0422</td><td>0</td><td>0</td><td>0</td><td>0</td><td>2</td><td>47.1</td><td>1</td><td>1</td><td>0</td></tr><tr><th>81</th><td>5.814</td><td>2.4937</td><td>0</td><td>0</td><td>0</td><td>2</td><td>0</td><td>37.0</td><td>3</td><td>1</td><td>0</td></tr><tr><th>82</th><td>5.637</td><td>2.2966</td><td>0</td><td>0</td><td>0</td><td>1</td><td>0</td><td>38.5</td><td>3</td><td>0</td><td>0</td></tr><tr><th>83</th><td>5.814</td><td>2.4328</td><td>0</td><td>0</td><td>0</td><td>2</td><td>0</td><td>34.5</td><td>3</td><td>1</td><td>0</td></tr><tr><th>84</th><td>4.732</td><td>2.9426</td><td>0</td><td>0</td><td>0</td><td>0</td><td>0</td><td>40.0</td><td>0</td><td>2</td><td>0</td></tr><tr><th>85</th><td>4.923</td><td>2.7291</td><td>0</td><td>0</td><td>0</td><td>0</td><td>2</td><td>50.0</td><td>0</td><td>2</td><td>0</td></tr><tr><th>86</th><td>4.414</td><td>3.2274</td><td>0</td><td>0</td><td>0</td><td>0</td><td>0</td><td>45.5</td><td>0</td><td>2</td><td>0</td></tr><tr><th>87</th><td>4.414</td><td>2.3717</td><td>0</td><td>0</td><td>0</td><td>0</td><td>0</td><td>29.4</td><td>1</td><td>2</td><td>0</td></tr><tr><th>88</th><td>4.982</td><td>2.8025</td><td>0</td><td>0</td><td>2</td><td>0</td><td>2</td><td>50.0</td><td>0</td><td>2</td><td>2</td></tr><tr><th>89</th><td>4.651</td><td>2.7156</td><td>0</td><td>0</td><td>0</td><td>0</td><td>0</td><td>31.3</td><td>0</td><td>1</td><td>0</td></tr><tr><th>90</th><td>4.802</td><td>3.0226</td><td>0</td><td>0</td><td>1</td><td>0</td><td>2</td><td>50.0</td><td>0</td><td>0</td><td>2</td></tr><tr><th>91</th><td>5.164</td><td>3.2947</td><td>1</td><td>0</td><td>0</td><td>0</td><td>0</td><td>23.1</td><td>0</td><td>3</td><td>0</td></tr><tr><th>92</th><td>4.826</td><td>2.731</td><td>0</td><td>0</td><td>6</td><td>0</td><td>0</td><td>25.0</td><td>3</td><td>3</td><td>9</td></tr><tr><th>93</th><td>4.829</td><td>2.9046</td><td>1</td><td>0</td><td>1</td><td>0</td><td>2</td><td>39.3</td><td>2</td><td>3</td><td>2</td></tr><tr><th>94</th><td>5.439</td><td>2.3629</td><td>2</td><td>0</td><td>2</td><td>0</td><td>0</td><td>23.5</td><td>0</td><td>11</td><td>7</td></tr><tr><th>95</th><td>4.739</td><td>2.6454</td><td>0</td><td>0</td><td>2</td><td>0</td><td>1</td><td>39.1</td><td>0</td><td>2</td><td>1</td></tr><tr><th>96</th><td>4.659</td><td>3.7176</td><td>2</td><td>0</td><td>0</td><td>0</td><td>0</td><td>23.1</td><td>0</td><td>4</td><td>0</td></tr><tr><th>97</th><td>3.975</td><td>2.8897</td><td>0</td><td>0</td><td>0</td><td>0</td><td>0</td><td>32.3</td><td>2</td><td>0</td><td>0</td></tr><tr><th>98</th><td>4.17</td><td>2.607</td><td>0</td><td>0</td><td>0</td><td>0</td><td>0</td><td>25.0</td><td>3</td><td>0</td><td>2</td></tr><tr><th>99</th><td>3.0</td><td>1.8227</td><td>0</td><td>0</td><td>0</td><td>0</td><td>0</td><td>20.0</td><td>0</td><td>0</td><td>0</td></tr><tr><th>100</th><td>3.618</td><td>2.3911</td><td>0</td><td>0</td><td>0</td><td>0</td><td>0</td><td>25.0</td><td>2</td><td>0</td><td>0</td></tr><tr><th>&vellip;</th><td>&vellip;</td><td>&vellip;</td><td>&vellip;</td><td>&vellip;</td><td>&vellip;</td><td>&vellip;</td><td>&vellip;</td><td>&vellip;</td><td>&vellip;</td><td>&vellip;</td><td>&vellip;</td></tr></tbody></table>"
      ],
      "text/latex": [
       "\\begin{tabular}{r|cccccccccccc}\n",
       "\t& 1 & 2 & 3 & 4 & 5 & 6 & 7 & 8 & 9 & 10 & 11 & \\\\\n",
       "\t\\hline\n",
       "\t& Float64 & Float64 & Int64 & Int64 & Int64 & Int64 & Int64 & Float64 & Int64 & Int64 & Int64 & \\\\\n",
       "\t\\hline\n",
       "\t1 & 3.919 & 2.6909 & 0 & 0 & 0 & 0 & 0 & 31.4 & 2 & 0 & 0 & $\\dots$ \\\\\n",
       "\t2 & 4.17 & 2.1144 & 0 & 0 & 0 & 0 & 0 & 30.8 & 1 & 1 & 0 & $\\dots$ \\\\\n",
       "\t3 & 3.932 & 3.2512 & 0 & 0 & 0 & 0 & 0 & 26.7 & 2 & 4 & 0 & $\\dots$ \\\\\n",
       "\t4 & 3.0 & 2.7098 & 0 & 0 & 0 & 0 & 0 & 20.0 & 0 & 2 & 0 & $\\dots$ \\\\\n",
       "\t5 & 4.236 & 3.3944 & 0 & 0 & 0 & 0 & 0 & 29.4 & 2 & 4 & 0 & $\\dots$ \\\\\n",
       "\t6 & 4.236 & 3.4286 & 0 & 0 & 0 & 0 & 0 & 28.6 & 2 & 4 & 0 & $\\dots$ \\\\\n",
       "\t7 & 5.0 & 5.0476 & 1 & 0 & 0 & 0 & 0 & 11.1 & 0 & 3 & 0 & $\\dots$ \\\\\n",
       "\t8 & 4.525 & 3.8301 & 0 & 0 & 0 & 0 & 0 & 31.6 & 3 & 2 & 0 & $\\dots$ \\\\\n",
       "\t9 & 4.596 & 3.0777 & 0 & 0 & 0 & 0 & 2 & 44.4 & 2 & 0 & 0 & $\\dots$ \\\\\n",
       "\t10 & 5.04 & 3.6112 & 0 & 0 & 1 & 0 & 2 & 41.2 & 0 & 4 & 3 & $\\dots$ \\\\\n",
       "\t11 & 4.91 & 2.7414 & 0 & 0 & 0 & 0 & 2 & 52.9 & 0 & 2 & 0 & $\\dots$ \\\\\n",
       "\t12 & 3.618 & 2.1906 & 0 & 0 & 0 & 0 & 0 & 29.4 & 2 & 0 & 0 & $\\dots$ \\\\\n",
       "\t13 & 4.214 & 2.6272 & 0 & 0 & 0 & 0 & 0 & 30.0 & 3 & 0 & 0 & $\\dots$ \\\\\n",
       "\t14 & 3.732 & 2.3391 & 0 & 0 & 0 & 0 & 0 & 30.0 & 2 & 0 & 0 & $\\dots$ \\\\\n",
       "\t15 & 3.879 & 2.5951 & 0 & 0 & 0 & 0 & 0 & 31.0 & 2 & 0 & 0 & $\\dots$ \\\\\n",
       "\t16 & 3.942 & 2.7719 & 1 & 0 & 0 & 0 & 0 & 31.6 & 2 & 0 & 0 & $\\dots$ \\\\\n",
       "\t17 & 3.966 & 2.852 & 1 & 0 & 0 & 0 & 0 & 32.0 & 2 & 0 & 0 & $\\dots$ \\\\\n",
       "\t18 & 3.732 & 2.3761 & 0 & 0 & 1 & 0 & 0 & 26.3 & 2 & 0 & 1 & $\\dots$ \\\\\n",
       "\t19 & 4.0 & 2.6264 & 0 & 0 & 0 & 0 & 0 & 23.1 & 0 & 0 & 0 & $\\dots$ \\\\\n",
       "\t20 & 2.0 & 1.1521 & 0 & 0 & 0 & 0 & 0 & 16.7 & 1 & 1 & 0 & $\\dots$ \\\\\n",
       "\t21 & 3.732 & 2.4062 & 0 & 0 & 0 & 0 & 0 & 27.8 & 2 & 1 & 0 & $\\dots$ \\\\\n",
       "\t22 & 4.0 & 2.3699 & 0 & 0 & 0 & 0 & 0 & 30.0 & 1 & 1 & 0 & $\\dots$ \\\\\n",
       "\t23 & 3.414 & 2.2525 & 0 & 0 & 0 & 0 & 0 & 20.0 & 2 & 2 & 0 & $\\dots$ \\\\\n",
       "\t24 & 4.17 & 2.8042 & 0 & 0 & 0 & 0 & 0 & 23.1 & 2 & 2 & 0 & $\\dots$ \\\\\n",
       "\t25 & 4.303 & 2.9558 & 0 & 0 & 0 & 0 & 0 & 25.0 & 2 & 2 & 0 & $\\dots$ \\\\\n",
       "\t26 & 3.414 & 2.6294 & 0 & 0 & 0 & 0 & 0 & 37.5 & 1 & 1 & 0 & $\\dots$ \\\\\n",
       "\t27 & 4.214 & 3.0057 & 0 & 0 & 0 & 0 & 0 & 25.0 & 1 & 2 & 0 & $\\dots$ \\\\\n",
       "\t28 & 3.848 & 2.8521 & 0 & 0 & 0 & 0 & 0 & 27.3 & 2 & 2 & 0 & $\\dots$ \\\\\n",
       "\t29 & 3.414 & 2.3729 & 0 & 0 & 0 & 0 & 0 & 30.0 & 1 & 1 & 0 & $\\dots$ \\\\\n",
       "\t30 & 4.393 & 3.6458 & 0 & 0 & 0 & 0 & 0 & 37.0 & 3 & 1 & 0 & $\\dots$ \\\\\n",
       "\t31 & 4.562 & 3.3225 & 0 & 0 & 0 & 0 & 0 & 31.3 & 3 & 1 & 0 & $\\dots$ \\\\\n",
       "\t32 & 4.0 & 2.9193 & 0 & 0 & 0 & 0 & 0 & 30.0 & 2 & 1 & 0 & $\\dots$ \\\\\n",
       "\t33 & 4.694 & 3.646 & 0 & 0 & 0 & 0 & 0 & 30.0 & 2 & 2 & 0 & $\\dots$ \\\\\n",
       "\t34 & 4.236 & 2.9879 & 0 & 0 & 0 & 0 & 0 & 33.3 & 0 & 2 & 0 & $\\dots$ \\\\\n",
       "\t35 & 4.17 & 3.4453 & 0 & 0 & 0 & 0 & 0 & 27.3 & 1 & 2 & 0 & $\\dots$ \\\\\n",
       "\t36 & 4.214 & 3.3939 & 0 & 0 & 0 & 0 & 0 & 28.6 & 2 & 2 & 0 & $\\dots$ \\\\\n",
       "\t37 & 4.214 & 3.7074 & 0 & 0 & 0 & 0 & 0 & 33.3 & 1 & 2 & 0 & $\\dots$ \\\\\n",
       "\t38 & 4.233 & 3.4039 & 0 & 0 & 0 & 0 & 0 & 27.8 & 1 & 3 & 0 & $\\dots$ \\\\\n",
       "\t39 & 4.334 & 3.6943 & 0 & 0 & 0 & 0 & 0 & 33.3 & 1 & 2 & 0 & $\\dots$ \\\\\n",
       "\t40 & 4.372 & 3.3652 & 0 & 0 & 0 & 0 & 0 & 33.3 & 1 & 2 & 0 & $\\dots$ \\\\\n",
       "\t41 & 5.392 & 4.5881 & 0 & 0 & 0 & 1 & 0 & 30.8 & 6 & 3 & 0 & $\\dots$ \\\\\n",
       "\t42 & 4.446 & 3.6985 & 0 & 0 & 0 & 0 & 0 & 30.0 & 0 & 4 & 0 & $\\dots$ \\\\\n",
       "\t43 & 4.411 & 3.5866 & 0 & 0 & 0 & 0 & 0 & 31.8 & 2 & 4 & 0 & $\\dots$ \\\\\n",
       "\t44 & 4.527 & 3.7942 & 0 & 0 & 0 & 0 & 0 & 32.5 & 4 & 4 & 0 & $\\dots$ \\\\\n",
       "\t45 & 4.347 & 3.1269 & 0 & 0 & 0 & 0 & 0 & 33.3 & 1 & 2 & 0 & $\\dots$ \\\\\n",
       "\t46 & 4.562 & 3.8122 & 0 & 0 & 0 & 0 & 0 & 33.3 & 1 & 2 & 0 & $\\dots$ \\\\\n",
       "\t47 & 4.629 & 4.0061 & 0 & 0 & 0 & 0 & 0 & 33.3 & 1 & 2 & 0 & $\\dots$ \\\\\n",
       "\t48 & 4.655 & 2.409 & 0 & 0 & 0 & 0 & 0 & 35.0 & 1 & 3 & 0 & $\\dots$ \\\\\n",
       "\t49 & 4.644 & 3.9071 & 0 & 0 & 0 & 0 & 0 & 31.6 & 2 & 3 & 0 & $\\dots$ \\\\\n",
       "\t50 & 4.646 & 3.9619 & 0 & 0 & 0 & 0 & 0 & 34.3 & 2 & 5 & 0 & $\\dots$ \\\\\n",
       "\t51 & 4.468 & 4.1984 & 0 & 0 & 0 & 0 & 0 & 33.3 & 2 & 4 & 0 & $\\dots$ \\\\\n",
       "\t52 & 4.562 & 3.7287 & 2 & 0 & 0 & 0 & 0 & 25.0 & 1 & 2 & 0 & $\\dots$ \\\\\n",
       "\t53 & 5.206 & 3.3847 & 0 & 0 & 1 & 0 & 0 & 30.8 & 1 & 2 & 1 & $\\dots$ \\\\\n",
       "\t54 & 4.691 & 3.8787 & 0 & 0 & 0 & 0 & 0 & 25.0 & 0 & 4 & 1 & $\\dots$ \\\\\n",
       "\t55 & 4.17 & 3.6206 & 0 & 0 & 0 & 0 & 0 & 28.6 & 0 & 3 & 0 & $\\dots$ \\\\\n",
       "\t56 & 4.214 & 3.3376 & 0 & 0 & 0 & 0 & 0 & 33.3 & 0 & 2 & 1 & $\\dots$ \\\\\n",
       "\t57 & 5.206 & 3.5794 & 0 & 0 & 1 & 0 & 0 & 30.6 & 1 & 3 & 3 & $\\dots$ \\\\\n",
       "\t58 & 4.17 & 2.6629 & 0 & 0 & 0 & 0 & 0 & 26.7 & 3 & 1 & 0 & $\\dots$ \\\\\n",
       "\t59 & 5.175 & 3.9016 & 0 & 0 & 0 & 1 & 0 & 29.6 & 3 & 3 & 0 & $\\dots$ \\\\\n",
       "\t60 & 4.642 & 3.0034 & 0 & 0 & 0 & 0 & 2 & 42.1 & 1 & 1 & 0 & $\\dots$ \\\\\n",
       "\t61 & 4.607 & 2.9443 & 0 & 0 & 0 & 0 & 2 & 42.1 & 1 & 1 & 0 & $\\dots$ \\\\\n",
       "\t62 & 4.807 & 3.2486 & 0 & 0 & 0 & 0 & 3 & 42.1 & 2 & 1 & 0 & $\\dots$ \\\\\n",
       "\t63 & 4.828 & 3.3386 & 0 & 0 & 0 & 0 & 2 & 40.0 & 0 & 2 & 0 & $\\dots$ \\\\\n",
       "\t64 & 4.543 & 2.7023 & 0 & 0 & 0 & 0 & 1 & 42.9 & 1 & 2 & 0 & $\\dots$ \\\\\n",
       "\t65 & 4.521 & 2.7124 & 0 & 0 & 0 & 0 & 1 & 45.0 & 1 & 1 & 0 & $\\dots$ \\\\\n",
       "\t66 & 4.607 & 3.1116 & 0 & 0 & 0 & 0 & 2 & 46.7 & 0 & 2 & 0 & $\\dots$ \\\\\n",
       "\t67 & 4.863 & 3.3599 & 0 & 0 & 0 & 0 & 3 & 42.1 & 0 & 3 & 0 & $\\dots$ \\\\\n",
       "\t68 & 4.923 & 3.2457 & 0 & 0 & 0 & 0 & 2 & 44.4 & 1 & 2 & 0 & $\\dots$ \\\\\n",
       "\t69 & 5.068 & 3.3983 & 0 & 0 & 0 & 0 & 2 & 41.7 & 0 & 4 & 0 & $\\dots$ \\\\\n",
       "\t70 & 5.074 & 3.092 & 0 & 0 & 0 & 0 & 2 & 38.1 & 4 & 4 & 0 & $\\dots$ \\\\\n",
       "\t71 & 4.914 & 3.2253 & 0 & 0 & 0 & 0 & 2 & 41.7 & 0 & 4 & 0 & $\\dots$ \\\\\n",
       "\t72 & 5.047 & 2.7377 & 0 & 0 & 0 & 0 & 3 & 50.0 & 0 & 5 & 0 & $\\dots$ \\\\\n",
       "\t73 & 4.793 & 2.1244 & 0 & 0 & 0 & 0 & 2 & 50.0 & 0 & 2 & 0 & $\\dots$ \\\\\n",
       "\t74 & 4.77 & 3.1445 & 0 & 0 & 0 & 0 & 2 & 43.8 & 0 & 3 & 0 & $\\dots$ \\\\\n",
       "\t75 & 5.313 & 3.4571 & 1 & 0 & 0 & 0 & 2 & 35.3 & 0 & 4 & 0 & $\\dots$ \\\\\n",
       "\t76 & 4.77 & 2.5385 & 0 & 0 & 0 & 0 & 0 & 38.5 & 3 & 0 & 0 & $\\dots$ \\\\\n",
       "\t77 & 4.414 & 2.18 & 0 & 0 & 0 & 0 & 0 & 31.6 & 0 & 1 & 0 & $\\dots$ \\\\\n",
       "\t78 & 4.821 & 2.5866 & 0 & 0 & 0 & 0 & 0 & 33.3 & 2 & 2 & 0 & $\\dots$ \\\\\n",
       "\t79 & 5.331 & 2.1747 & 1 & 0 & 0 & 0 & 3 & 47.4 & 0 & 4 & 0 & $\\dots$ \\\\\n",
       "\t80 & 4.607 & 3.0422 & 0 & 0 & 0 & 0 & 2 & 47.1 & 1 & 1 & 0 & $\\dots$ \\\\\n",
       "\t81 & 5.814 & 2.4937 & 0 & 0 & 0 & 2 & 0 & 37.0 & 3 & 1 & 0 & $\\dots$ \\\\\n",
       "\t82 & 5.637 & 2.2966 & 0 & 0 & 0 & 1 & 0 & 38.5 & 3 & 0 & 0 & $\\dots$ \\\\\n",
       "\t83 & 5.814 & 2.4328 & 0 & 0 & 0 & 2 & 0 & 34.5 & 3 & 1 & 0 & $\\dots$ \\\\\n",
       "\t84 & 4.732 & 2.9426 & 0 & 0 & 0 & 0 & 0 & 40.0 & 0 & 2 & 0 & $\\dots$ \\\\\n",
       "\t85 & 4.923 & 2.7291 & 0 & 0 & 0 & 0 & 2 & 50.0 & 0 & 2 & 0 & $\\dots$ \\\\\n",
       "\t86 & 4.414 & 3.2274 & 0 & 0 & 0 & 0 & 0 & 45.5 & 0 & 2 & 0 & $\\dots$ \\\\\n",
       "\t87 & 4.414 & 2.3717 & 0 & 0 & 0 & 0 & 0 & 29.4 & 1 & 2 & 0 & $\\dots$ \\\\\n",
       "\t88 & 4.982 & 2.8025 & 0 & 0 & 2 & 0 & 2 & 50.0 & 0 & 2 & 2 & $\\dots$ \\\\\n",
       "\t89 & 4.651 & 2.7156 & 0 & 0 & 0 & 0 & 0 & 31.3 & 0 & 1 & 0 & $\\dots$ \\\\\n",
       "\t90 & 4.802 & 3.0226 & 0 & 0 & 1 & 0 & 2 & 50.0 & 0 & 0 & 2 & $\\dots$ \\\\\n",
       "\t91 & 5.164 & 3.2947 & 1 & 0 & 0 & 0 & 0 & 23.1 & 0 & 3 & 0 & $\\dots$ \\\\\n",
       "\t92 & 4.826 & 2.731 & 0 & 0 & 6 & 0 & 0 & 25.0 & 3 & 3 & 9 & $\\dots$ \\\\\n",
       "\t93 & 4.829 & 2.9046 & 1 & 0 & 1 & 0 & 2 & 39.3 & 2 & 3 & 2 & $\\dots$ \\\\\n",
       "\t94 & 5.439 & 2.3629 & 2 & 0 & 2 & 0 & 0 & 23.5 & 0 & 11 & 7 & $\\dots$ \\\\\n",
       "\t95 & 4.739 & 2.6454 & 0 & 0 & 2 & 0 & 1 & 39.1 & 0 & 2 & 1 & $\\dots$ \\\\\n",
       "\t96 & 4.659 & 3.7176 & 2 & 0 & 0 & 0 & 0 & 23.1 & 0 & 4 & 0 & $\\dots$ \\\\\n",
       "\t97 & 3.975 & 2.8897 & 0 & 0 & 0 & 0 & 0 & 32.3 & 2 & 0 & 0 & $\\dots$ \\\\\n",
       "\t98 & 4.17 & 2.607 & 0 & 0 & 0 & 0 & 0 & 25.0 & 3 & 0 & 2 & $\\dots$ \\\\\n",
       "\t99 & 3.0 & 1.8227 & 0 & 0 & 0 & 0 & 0 & 20.0 & 0 & 0 & 0 & $\\dots$ \\\\\n",
       "\t100 & 3.618 & 2.3911 & 0 & 0 & 0 & 0 & 0 & 25.0 & 2 & 0 & 0 & $\\dots$ \\\\\n",
       "\t$\\dots$ & $\\dots$ & $\\dots$ & $\\dots$ & $\\dots$ & $\\dots$ & $\\dots$ & $\\dots$ & $\\dots$ & $\\dots$ & $\\dots$ & $\\dots$ &  \\\\\n",
       "\\end{tabular}\n"
      ],
      "text/plain": [
       "1055×41 DataFrame. Omitted printing of 33 columns\n",
       "│ Row  │ 1       │ 2       │ 3     │ 4     │ 5     │ 6     │ 7     │ 8       │\n",
       "│      │ \u001b[90mFloat64\u001b[39m │ \u001b[90mFloat64\u001b[39m │ \u001b[90mInt64\u001b[39m │ \u001b[90mInt64\u001b[39m │ \u001b[90mInt64\u001b[39m │ \u001b[90mInt64\u001b[39m │ \u001b[90mInt64\u001b[39m │ \u001b[90mFloat64\u001b[39m │\n",
       "├──────┼─────────┼─────────┼───────┼───────┼───────┼───────┼───────┼─────────┤\n",
       "│ 1    │ 3.919   │ 2.6909  │ 0     │ 0     │ 0     │ 0     │ 0     │ 31.4    │\n",
       "│ 2    │ 4.17    │ 2.1144  │ 0     │ 0     │ 0     │ 0     │ 0     │ 30.8    │\n",
       "│ 3    │ 3.932   │ 3.2512  │ 0     │ 0     │ 0     │ 0     │ 0     │ 26.7    │\n",
       "│ 4    │ 3.0     │ 2.7098  │ 0     │ 0     │ 0     │ 0     │ 0     │ 20.0    │\n",
       "│ 5    │ 4.236   │ 3.3944  │ 0     │ 0     │ 0     │ 0     │ 0     │ 29.4    │\n",
       "│ 6    │ 4.236   │ 3.4286  │ 0     │ 0     │ 0     │ 0     │ 0     │ 28.6    │\n",
       "│ 7    │ 5.0     │ 5.0476  │ 1     │ 0     │ 0     │ 0     │ 0     │ 11.1    │\n",
       "│ 8    │ 4.525   │ 3.8301  │ 0     │ 0     │ 0     │ 0     │ 0     │ 31.6    │\n",
       "│ 9    │ 4.596   │ 3.0777  │ 0     │ 0     │ 0     │ 0     │ 2     │ 44.4    │\n",
       "│ 10   │ 5.04    │ 3.6112  │ 0     │ 0     │ 1     │ 0     │ 2     │ 41.2    │\n",
       "│ 11   │ 4.91    │ 2.7414  │ 0     │ 0     │ 0     │ 0     │ 2     │ 52.9    │\n",
       "│ 12   │ 3.618   │ 2.1906  │ 0     │ 0     │ 0     │ 0     │ 0     │ 29.4    │\n",
       "│ 13   │ 4.214   │ 2.6272  │ 0     │ 0     │ 0     │ 0     │ 0     │ 30.0    │\n",
       "│ 14   │ 3.732   │ 2.3391  │ 0     │ 0     │ 0     │ 0     │ 0     │ 30.0    │\n",
       "│ 15   │ 3.879   │ 2.5951  │ 0     │ 0     │ 0     │ 0     │ 0     │ 31.0    │\n",
       "│ 16   │ 3.942   │ 2.7719  │ 1     │ 0     │ 0     │ 0     │ 0     │ 31.6    │\n",
       "│ 17   │ 3.966   │ 2.852   │ 1     │ 0     │ 0     │ 0     │ 0     │ 32.0    │\n",
       "│ 18   │ 3.732   │ 2.3761  │ 0     │ 0     │ 1     │ 0     │ 0     │ 26.3    │\n",
       "│ 19   │ 4.0     │ 2.6264  │ 0     │ 0     │ 0     │ 0     │ 0     │ 23.1    │\n",
       "│ 20   │ 2.0     │ 1.1521  │ 0     │ 0     │ 0     │ 0     │ 0     │ 16.7    │\n",
       "│ 21   │ 3.732   │ 2.4062  │ 0     │ 0     │ 0     │ 0     │ 0     │ 27.8    │\n",
       "│ 22   │ 4.0     │ 2.3699  │ 0     │ 0     │ 0     │ 0     │ 0     │ 30.0    │\n",
       "│ 23   │ 3.414   │ 2.2525  │ 0     │ 0     │ 0     │ 0     │ 0     │ 20.0    │\n",
       "│ 24   │ 4.17    │ 2.8042  │ 0     │ 0     │ 0     │ 0     │ 0     │ 23.1    │\n",
       "│ 25   │ 4.303   │ 2.9558  │ 0     │ 0     │ 0     │ 0     │ 0     │ 25.0    │\n",
       "│ 26   │ 3.414   │ 2.6294  │ 0     │ 0     │ 0     │ 0     │ 0     │ 37.5    │\n",
       "│ 27   │ 4.214   │ 3.0057  │ 0     │ 0     │ 0     │ 0     │ 0     │ 25.0    │\n",
       "│ 28   │ 3.848   │ 2.8521  │ 0     │ 0     │ 0     │ 0     │ 0     │ 27.3    │\n",
       "│ 29   │ 3.414   │ 2.3729  │ 0     │ 0     │ 0     │ 0     │ 0     │ 30.0    │\n",
       "│ 30   │ 4.393   │ 3.6458  │ 0     │ 0     │ 0     │ 0     │ 0     │ 37.0    │\n",
       "│ 31   │ 4.562   │ 3.3225  │ 0     │ 0     │ 0     │ 0     │ 0     │ 31.3    │\n",
       "│ 32   │ 4.0     │ 2.9193  │ 0     │ 0     │ 0     │ 0     │ 0     │ 30.0    │\n",
       "│ 33   │ 4.694   │ 3.646   │ 0     │ 0     │ 0     │ 0     │ 0     │ 30.0    │\n",
       "│ 34   │ 4.236   │ 2.9879  │ 0     │ 0     │ 0     │ 0     │ 0     │ 33.3    │\n",
       "│ 35   │ 4.17    │ 3.4453  │ 0     │ 0     │ 0     │ 0     │ 0     │ 27.3    │\n",
       "│ 36   │ 4.214   │ 3.3939  │ 0     │ 0     │ 0     │ 0     │ 0     │ 28.6    │\n",
       "│ 37   │ 4.214   │ 3.7074  │ 0     │ 0     │ 0     │ 0     │ 0     │ 33.3    │\n",
       "│ 38   │ 4.233   │ 3.4039  │ 0     │ 0     │ 0     │ 0     │ 0     │ 27.8    │\n",
       "│ 39   │ 4.334   │ 3.6943  │ 0     │ 0     │ 0     │ 0     │ 0     │ 33.3    │\n",
       "│ 40   │ 4.372   │ 3.3652  │ 0     │ 0     │ 0     │ 0     │ 0     │ 33.3    │\n",
       "│ 41   │ 5.392   │ 4.5881  │ 0     │ 0     │ 0     │ 1     │ 0     │ 30.8    │\n",
       "│ 42   │ 4.446   │ 3.6985  │ 0     │ 0     │ 0     │ 0     │ 0     │ 30.0    │\n",
       "│ 43   │ 4.411   │ 3.5866  │ 0     │ 0     │ 0     │ 0     │ 0     │ 31.8    │\n",
       "│ 44   │ 4.527   │ 3.7942  │ 0     │ 0     │ 0     │ 0     │ 0     │ 32.5    │\n",
       "│ 45   │ 4.347   │ 3.1269  │ 0     │ 0     │ 0     │ 0     │ 0     │ 33.3    │\n",
       "⋮\n",
       "│ 1010 │ 5.777   │ 2.3194  │ 0     │ 0     │ 0     │ 2     │ 0     │ 33.3    │\n",
       "│ 1011 │ 5.256   │ 2.6157  │ 0     │ 0     │ 0     │ 1     │ 0     │ 34.6    │\n",
       "│ 1012 │ 4.928   │ 1.9515  │ 0     │ 0     │ 0     │ 0     │ 4     │ 56.3    │\n",
       "│ 1013 │ 5.003   │ 2.9132  │ 0     │ 0     │ 0     │ 0     │ 3     │ 52.4    │\n",
       "│ 1014 │ 4.732   │ 2.1796  │ 0     │ 0     │ 0     │ 0     │ 4     │ 48.1    │\n",
       "│ 1015 │ 5.174   │ 2.5182  │ 0     │ 0     │ 1     │ 0     │ 5     │ 42.9    │\n",
       "│ 1016 │ 4.924   │ 2.4008  │ 0     │ 0     │ 0     │ 0     │ 3     │ 45.2    │\n",
       "│ 1017 │ 5.509   │ 3.254   │ 2     │ 0     │ 2     │ 0     │ 5     │ 35.7    │\n",
       "│ 1018 │ 4.861   │ 1.9254  │ 0     │ 0     │ 0     │ 0     │ 0     │ 35.7    │\n",
       "│ 1019 │ 5.735   │ 1.9915  │ 0     │ 0     │ 0     │ 2     │ 0     │ 35.3    │\n",
       "│ 1020 │ 5.047   │ 2.5237  │ 0     │ 0     │ 0     │ 0     │ 4     │ 58.3    │\n",
       "│ 1021 │ 5.318   │ 2.361   │ 0     │ 0     │ 2     │ 0     │ 5     │ 53.8    │\n",
       "│ 1022 │ 5.408   │ 2.3533  │ 0     │ 0     │ 6     │ 0     │ 6     │ 43.5    │\n",
       "│ 1023 │ 4.802   │ 3.136   │ 0     │ 2     │ 4     │ 0     │ 2     │ 42.9    │\n",
       "│ 1024 │ 5.69    │ 2.3056  │ 0     │ 0     │ 8     │ 1     │ 2     │ 48.4    │\n",
       "│ 1025 │ 4.0     │ 2.9848  │ 1     │ 0     │ 0     │ 0     │ 0     │ 22.2    │\n",
       "│ 1026 │ 4.562   │ 3.2789  │ 4     │ 0     │ 0     │ 0     │ 0     │ 25.0    │\n",
       "│ 1027 │ 5.262   │ 4.2718  │ 2     │ 0     │ 0     │ 1     │ 0     │ 25.0    │\n",
       "│ 1028 │ 4.303   │ 3.16    │ 2     │ 0     │ 0     │ 0     │ 0     │ 33.3    │\n",
       "│ 1029 │ 6.242   │ 9.1775  │ 0     │ 0     │ 3     │ 12    │ 0     │ 30.0    │\n",
       "│ 1030 │ 3.802   │ 2.8705  │ 2     │ 0     │ 0     │ 0     │ 0     │ 26.7    │\n",
       "│ 1031 │ 4.228   │ 3.1334  │ 0     │ 0     │ 0     │ 0     │ 0     │ 26.3    │\n",
       "│ 1032 │ 5.13    │ 3.5878  │ 0     │ 0     │ 0     │ 1     │ 0     │ 32.1    │\n",
       "│ 1033 │ 5.086   │ 3.9599  │ 3     │ 0     │ 0     │ 1     │ 0     │ 28.6    │\n",
       "│ 1034 │ 4.236   │ 2.9709  │ 0     │ 0     │ 1     │ 0     │ 0     │ 31.9    │\n",
       "│ 1035 │ 4.303   │ 3.6845  │ 1     │ 0     │ 0     │ 0     │ 0     │ 15.4    │\n",
       "│ 1036 │ 5.262   │ 4.5221  │ 1     │ 0     │ 0     │ 0     │ 0     │ 28.3    │\n",
       "│ 1037 │ 6.253   │ 7.1279  │ 0     │ 0     │ 0     │ 7     │ 0     │ 30.8    │\n",
       "│ 1038 │ 4.807   │ 3.1717  │ 0     │ 0     │ 0     │ 0     │ 3     │ 42.9    │\n",
       "│ 1039 │ 5.236   │ 3.778   │ 5     │ 0     │ 0     │ 0     │ 6     │ 46.7    │\n",
       "│ 1040 │ 4.562   │ 3.1297  │ 0     │ 0     │ 2     │ 0     │ 2     │ 37.5    │\n",
       "│ 1041 │ 4.658   │ 2.9363  │ 0     │ 0     │ 2     │ 0     │ 2     │ 38.1    │\n",
       "│ 1042 │ 5.388   │ 3.3114  │ 0     │ 0     │ 0     │ 1     │ 3     │ 39.3    │\n",
       "│ 1043 │ 4.97    │ 3.3797  │ 0     │ 0     │ 0     │ 0     │ 4     │ 40.9    │\n",
       "│ 1044 │ 5.399   │ 3.4164  │ 0     │ 0     │ 0     │ 1     │ 4     │ 38.7    │\n",
       "│ 1045 │ 4.807   │ 3.3179  │ 1     │ 0     │ 0     │ 0     │ 3     │ 43.8    │\n",
       "│ 1046 │ 4.607   │ 3.0008  │ 1     │ 0     │ 0     │ 0     │ 2     │ 41.2    │\n",
       "│ 1047 │ 5.313   │ 2.7782  │ 0     │ 0     │ 0     │ 1     │ 2     │ 40.0    │\n",
       "│ 1048 │ 5.103   │ 3.9184  │ 0     │ 0     │ 4     │ 0     │ 4     │ 35.0    │\n",
       "│ 1049 │ 5.265   │ 3.3444  │ 2     │ 0     │ 6     │ 0     │ 1     │ 35.3    │\n",
       "│ 1050 │ 5.029   │ 2.5966  │ 0     │ 0     │ 0     │ 0     │ 4     │ 46.7    │\n",
       "│ 1051 │ 5.431   │ 2.8955  │ 0     │ 0     │ 0     │ 2     │ 0     │ 32.1    │\n",
       "│ 1052 │ 5.287   │ 3.3732  │ 0     │ 0     │ 9     │ 0     │ 0     │ 35.3    │\n",
       "│ 1053 │ 4.869   │ 1.767   │ 0     │ 1     │ 9     │ 0     │ 5     │ 44.4    │\n",
       "│ 1054 │ 5.158   │ 1.6914  │ 2     │ 0     │ 36    │ 0     │ 9     │ 56.1    │\n",
       "│ 1055 │ 5.076   │ 2.6588  │ 2     │ 0     │ 0     │ 0     │ 4     │ 54.5    │"
      ]
     },
     "execution_count": 62,
     "metadata": {},
     "output_type": "execute_result"
    }
   ],
   "source": [
    "X"
   ]
  },
  {
   "cell_type": "markdown",
   "metadata": {},
   "source": [
    "#### Confirming that data was stratified correctly"
   ]
  },
  {
   "cell_type": "code",
   "execution_count": 8,
   "metadata": {},
   "outputs": [
    {
     "data": {
      "text/plain": [
       "2-element Array{Float64,1}:\n",
       " 0.33739837398373984\n",
       " 0.6626016260162602"
      ]
     },
     "execution_count": 8,
     "metadata": {},
     "output_type": "execute_result"
    }
   ],
   "source": [
    "train_counts = countmap(data[train,:Class])\n",
    "collect(train_counts[i] / size(train)[1] for i in keys(train_counts))"
   ]
  },
  {
   "cell_type": "code",
   "execution_count": 9,
   "metadata": {},
   "outputs": [
    {
     "data": {
      "text/plain": [
       "2-element Array{Float64,1}:\n",
       " 0.33753943217665616\n",
       " 0.6624605678233438"
      ]
     },
     "execution_count": 9,
     "metadata": {},
     "output_type": "execute_result"
    }
   ],
   "source": [
    "test_counts = countmap(data[test,:Class])\n",
    "collect(test_counts[i] / size(test)[1] for i in keys(test_counts))"
   ]
  },
  {
   "cell_type": "markdown",
   "metadata": {},
   "source": [
    "#### Standardizing data pre-clustering"
   ]
  },
  {
   "cell_type": "code",
   "execution_count": 36,
   "metadata": {},
   "outputs": [
    {
     "name": "stderr",
     "output_type": "stream",
     "text": [
      "┌ Info: Training \u001b[34mMachine{Standardizer} @ 1…39\u001b[39m.\n",
      "└ @ MLJBase /home/andrew/.julia/packages/MLJBase/8HOpr/src/machines.jl:187\n"
     ]
    }
   ],
   "source": [
    "standardizer = Standardizer(count=true)\n",
    "stand = machine(standardizer, X[train,:]) #only want to standardize on training distribution\n",
    "MLJ.fit!(stand)\n",
    "X_stand = MLJ.transform(stand, X);"
   ]
  },
  {
   "cell_type": "markdown",
   "metadata": {},
   "source": [
    "## Set up model"
   ]
  },
  {
   "cell_type": "code",
   "execution_count": 37,
   "metadata": {
    "scrolled": true
   },
   "outputs": [
    {
     "data": {
      "text/plain": [
       "26-element Array{NamedTuple{(:name, :package_name, :is_supervised, :docstring, :hyperparameter_ranges, :hyperparameter_types, :hyperparameters, :implemented_methods, :is_pure_julia, :is_wrapper, :load_path, :package_license, :package_url, :package_uuid, :prediction_type, :supports_online, :supports_weights, :input_scitype, :target_scitype, :output_scitype),T} where T<:Tuple,1}:\n",
       " (name = AffinityPropagation, package_name = ScikitLearn, ... )\n",
       " (name = AgglomerativeClustering, package_name = ScikitLearn, ... )\n",
       " (name = Birch, package_name = ScikitLearn, ... )\n",
       " (name = ContinuousEncoder, package_name = MLJModels, ... )\n",
       " (name = DBSCAN, package_name = ScikitLearn, ... )\n",
       " (name = FeatureAgglomeration, package_name = ScikitLearn, ... )\n",
       " (name = FeatureSelector, package_name = MLJModels, ... )\n",
       " (name = FillImputer, package_name = MLJModels, ... )\n",
       " (name = ICA, package_name = MultivariateStats, ... )\n",
       " (name = KMeans, package_name = Clustering, ... )\n",
       " (name = KMeans, package_name = ParallelKMeans, ... )\n",
       " (name = KMeans, package_name = ScikitLearn, ... )\n",
       " (name = KMedoids, package_name = Clustering, ... )\n",
       " (name = KernelPCA, package_name = MultivariateStats, ... )\n",
       " (name = MeanShift, package_name = ScikitLearn, ... )\n",
       " (name = MiniBatchKMeans, package_name = ScikitLearn, ... )\n",
       " (name = OPTICS, package_name = ScikitLearn, ... )\n",
       " (name = OneClassSVM, package_name = LIBSVM, ... )\n",
       " (name = OneHotEncoder, package_name = MLJModels, ... )\n",
       " (name = PCA, package_name = MultivariateStats, ... )\n",
       " (name = SpectralClustering, package_name = ScikitLearn, ... )\n",
       " (name = Standardizer, package_name = MLJModels, ... )\n",
       " (name = StaticTransformer, package_name = MLJBase, ... )\n",
       " (name = UnivariateBoxCoxTransformer, package_name = MLJModels, ... )\n",
       " (name = UnivariateDiscretizer, package_name = MLJModels, ... )\n",
       " (name = UnivariateStandardizer, package_name = MLJModels, ... )"
      ]
     },
     "execution_count": 37,
     "metadata": {},
     "output_type": "execute_result"
    }
   ],
   "source": [
    "task(model) = !model.is_supervised\n",
    "models(task)"
   ]
  },
  {
   "cell_type": "markdown",
   "metadata": {},
   "source": [
    "# Clustering Algorithms\n",
    "Run the clustering algorithms on the datasets and describe what you see."
   ]
  },
  {
   "cell_type": "markdown",
   "metadata": {},
   "source": [
    "### KMeans"
   ]
  },
  {
   "cell_type": "code",
   "execution_count": 38,
   "metadata": {},
   "outputs": [
    {
     "name": "stderr",
     "output_type": "stream",
     "text": [
      "┌ Info: A model type \"KMeans\" is already loaded. \n",
      "│ No new code loaded. \n",
      "└ @ MLJModels /home/andrew/.julia/packages/MLJModels/hCHWW/src/loading.jl:43\n"
     ]
    },
    {
     "data": {
      "text/plain": [
       "KMeans(\n",
       "    algo = ParallelKMeans.Hamerly(),\n",
       "    k_init = \"k-means++\",\n",
       "    k = 3,\n",
       "    tol = 1.0e-6,\n",
       "    max_iters = 300,\n",
       "    copy = true,\n",
       "    threads = 4,\n",
       "    rng = Random._GLOBAL_RNG(),\n",
       "    weights = nothing,\n",
       "    init = nothing)\u001b[34m @ 5…96\u001b[39m"
      ]
     },
     "execution_count": 38,
     "metadata": {},
     "output_type": "execute_result"
    }
   ],
   "source": [
    "@load KMeans pkg=ParallelKMeans\n",
    "# @load KMeans pkg=Clustering"
   ]
  },
  {
   "cell_type": "code",
   "execution_count": 39,
   "metadata": {},
   "outputs": [
    {
     "data": {
      "text/plain": [
       "dist_mat (generic function with 1 method)"
      ]
     },
     "execution_count": 39,
     "metadata": {},
     "output_type": "execute_result"
    }
   ],
   "source": [
    "# https://stackoverflow.com/questions/51181392/julia-vs-matlab-distance-matrix-run-time-test\n",
    "function dist_mat(X::Matrix)\n",
    "    G = X * X'\n",
    "    dG = diag(G)\n",
    "    return sqrt.(dG .+ dG' .- 2 .* G)\n",
    "end"
   ]
  },
  {
   "cell_type": "code",
   "execution_count": 40,
   "metadata": {},
   "outputs": [
    {
     "name": "stdout",
     "output_type": "stream",
     "text": [
      "K = 2\n",
      "Iteration 1: Jclust = 50819.89901353828\n",
      "Iteration 2: Jclust = 28731.120948900694\n",
      "Iteration 3: Jclust = 29480.068464282896\n",
      "Iteration 4: Jclust = 28597.617922666923\n",
      "Iteration 5: Jclust = 28429.2509134836\n",
      "Iteration 6: Jclust = 28333.353263716454\n",
      "Iteration 7: Jclust = 28584.943719878374\n",
      "Iteration 8: Jclust = 28634.409028416\n",
      "Iteration 9: Jclust = 28796.645506334047\n",
      "Iteration 10: Jclust = 28511.064531933545\n",
      "Iteration 11: Jclust = 28585.666099936654\n",
      "Iteration 12: Jclust = 28571.330577571032\n",
      "Iteration 13: Jclust = 28628.362556409244\n",
      "Iteration 14: Jclust = 28696.118878103654\n",
      "Iteration 15: Jclust = 28719.40828339257\n",
      "Iteration 16: Jclust = 28719.40828339257\n",
      "Successfully terminated with convergence.\n",
      "mach.report.totalcost = 27074.573254372182\n",
      "l = "
     ]
    },
    {
     "name": "stderr",
     "output_type": "stream",
     "text": [
      "┌ Info: Training \u001b[34mMachine{KMeans} @ 5…92\u001b[39m.\n",
      "└ @ MLJBase /home/andrew/.julia/packages/MLJBase/8HOpr/src/machines.jl:187\n"
     ]
    },
    {
     "name": "stdout",
     "output_type": "stream",
     "text": [
      "[(1, 284), (2, 454)]\n",
      "silhouette: 0.17270289035420278\n",
      "\n",
      "K = 3\n",
      "Iteration 1: Jclust = 44868.20905188187\n",
      "Iteration 2: Jclust = 26748.459276365553\n",
      "Iteration 3: Jclust = 28056.265807929143\n",
      "Iteration 4: Jclust = 26212.8009386914\n",
      "Iteration 5: Jclust = 26537.77555216359\n",
      "Iteration 6: Jclust = 26471.957715721263\n",
      "Iteration 7: Jclust = 26461.190761969243\n",
      "Iteration 8: Jclust = 26554.614858762958\n",
      "Iteration 9: Jclust = 26240.893976432886\n",
      "Iteration 10: Jclust = 26005.01983224487\n",
      "Iteration 11: Jclust = 26108.574514393753\n",
      "Iteration 12: Jclust = 26203.692426199334\n",
      "Iteration 13: Jclust = 26239.09522087058\n",
      "Iteration 14: Jclust = 26327.815881624163\n",
      "Iteration 15: Jclust = 26352.72179240991\n",
      "Iteration 16: Jclust = 26366.118791781315\n",
      "Iteration 17: Jclust = 26258.15113668832\n",
      "Iteration 18: Jclust = 26310.34300004722\n",
      "Iteration 19: Jclust = 26249.53487093216\n",
      "Iteration 20: Jclust = 26176.470130708636\n",
      "Iteration 21: Jclust = 26163.54388589967\n",
      "Iteration 22: Jclust = 26209.619434925662\n",
      "Iteration 23: Jclust = 26282.010861368297\n",
      "Iteration 24: Jclust = 26282.010861368297\n",
      "Successfully terminated with convergence.\n",
      "mach.report.totalcost = 25248.79262194266\n",
      "l = [(1, 176), (2, 326), (3, 236)]\n",
      "silhouette: 0.11543695166764233\n",
      "\n",
      "K = 4\n",
      "Iteration 1: Jclust = 43741.30421128896\n",
      "Iteration 2: Jclust = 25249.275289495847\n",
      "Iteration 3: Jclust = 25090.668891779867\n",
      "Iteration 4: Jclust = 24583.05388417145\n",
      "Iteration 5: Jclust = 24872.53445717969\n",
      "Iteration 6: Jclust = 25023.742596057673\n",
      "Iteration 7: Jclust = 25207.089355482924\n",
      "Iteration 8: Jclust = 24999.47631582897\n",
      "Iteration 9: Jclust = 24523.83964505091\n",
      "Iteration 10: Jclust = 24322.376303811703\n",
      "Iteration 11: Jclust = 24442.225036264957\n",
      "Iteration 12: Jclust = 24749.03162088919\n",
      "Iteration 13: Jclust = 24650.29132813117\n",
      "Iteration 14: Jclust = 24657.156788151682\n",
      "Iteration 15: Jclust = 24656.227124157707\n",
      "Iteration 16: Jclust = 24584.178584474146\n",
      "Iteration 17: Jclust = 24637.103956827697\n",
      "Iteration 18: Jclust = 24604.21524074789\n",
      "Iteration 19: Jclust = 24681.22392482587\n",
      "Iteration 20: Jclust = 24754.851884138126\n",
      "Iteration 21: Jclust = 24784.628466335984\n",
      "Iteration 22: Jclust = 24843.76709798523\n",
      "Iteration 23: Jclust = 24823.581902880916\n",
      "Iteration 24: Jclust = 24823.581902880916\n",
      "Successfully terminated with convergence.\n",
      "mach.report.totalcost = 23716.131503572324\n",
      "l = [(1, 166), (2, 316), (3, 237), (4, 19)]\n",
      "silhouette: 0.11678255480527928\n",
      "\n",
      "K = 5\n",
      "Iteration 1: Jclust = 40796.83972436162\n",
      "Iteration 2: Jclust = 23284.344468452142\n",
      "Iteration 3: Jclust = 23320.42233206358\n",
      "Iteration 4: Jclust = 23318.054499515176\n",
      "Iteration 5: Jclust = 22849.155435877183\n",
      "Iteration 6: Jclust = 23077.379311957266\n",
      "Iteration 7: Jclust = 23024.054510807524\n",
      "Iteration 8: Jclust = 22839.697298210565\n",
      "Iteration 9: Jclust = 22549.678970036563\n",
      "Iteration 10: Jclust = 22691.616036925603\n",
      "Iteration 11: Jclust = 22784.7826631025\n",
      "Iteration 12: Jclust = 22751.636816244187\n",
      "Iteration 13: Jclust = 22885.50037874356\n",
      "Iteration 14: Jclust = 22884.34540930788\n",
      "Iteration 15: Jclust = 22664.9786424333\n",
      "Iteration 16: Jclust = 22875.92412218401\n",
      "Iteration 17: Jclust = 22973.881966234483\n",
      "Iteration 18: Jclust = 23059.649324261514\n",
      "Iteration 19: Jclust = 23054.045494260885\n",
      "Iteration 20: Jclust = 23054.045494260885\n",
      "Successfully terminated with convergence.\n",
      "mach.report.totalcost = 21935.11856469149\n",
      "l = [(1, 130), (2, 221), (3, 330), (4, 21), (5, 36)]\n"
     ]
    },
    {
     "name": "stderr",
     "output_type": "stream",
     "text": [
      "┌ Info: Training \u001b[34mMachine{KMeans} @ 8…01\u001b[39m.\n",
      "└ @ MLJBase /home/andrew/.julia/packages/MLJBase/8HOpr/src/machines.jl:187\n",
      "┌ Info: Training \u001b[34mMachine{KMeans} @ 5…60\u001b[39m.\n",
      "└ @ MLJBase /home/andrew/.julia/packages/MLJBase/8HOpr/src/machines.jl:187\n",
      "┌ Info: Training \u001b[34mMachine{KMeans} @ 1…05\u001b[39m.\n",
      "└ @ MLJBase /home/andrew/.julia/packages/MLJBase/8HOpr/src/machines.jl:187\n"
     ]
    },
    {
     "name": "stdout",
     "output_type": "stream",
     "text": [
      "silhouette: 0.11589815163818418\n",
      "\n",
      "K = 6\n",
      "Iteration 1: Jclust = 31908.81427797507\n",
      "Iteration 2: Jclust = 22224.004662130737\n",
      "Iteration 3: Jclust = 21725.364081090265\n",
      "Iteration 4: Jclust = 21930.00619475393\n",
      "Iteration 5: Jclust = 21451.294489034426\n",
      "Iteration 6: Jclust = 21731.47975117297\n",
      "Iteration 7: Jclust = 21949.928698495663\n",
      "Iteration 8: Jclust = 21833.094662408497\n",
      "Iteration 9: Jclust = 21428.380143493436\n",
      "Iteration 10: Jclust = 21476.59940905719\n",
      "Iteration 11: Jclust = 21523.14948621533\n",
      "Iteration 12: Jclust = 21572.272880639714\n",
      "Iteration 13: Jclust = 21572.272880639714\n",
      "Successfully terminated with convergence.\n",
      "mach.report.totalcost = 21032.532904211796\n",
      "l = [(1, 68), (2, 178), (3, 120), (4, 20), (5, 34), (6, 318)]\n",
      "silhouette: 0.11978384212897206\n",
      "\n",
      "K = 7\n",
      "Iteration 1: Jclust = 29675.060590332978\n",
      "Iteration 2: Jclust = 21970.99840463651\n",
      "Iteration 3: Jclust = 21559.199007739244\n",
      "Iteration 4: Jclust = 20974.180762771408\n",
      "Iteration 5: Jclust = 20757.70884111616\n",
      "Iteration 6: Jclust = 20746.778634865244\n",
      "Iteration 7: Jclust = 20781.923888394835\n",
      "Iteration 8: Jclust = 20716.863624644473\n",
      "Iteration 9: Jclust = 20951.179805563905\n",
      "Iteration 10: Jclust = 20734.41419219676\n",
      "Iteration 11: Jclust = 20651.478165934175\n",
      "Iteration 12: Jclust = 20662.15819133402\n",
      "Iteration 13: Jclust = 20595.44219362551\n",
      "Iteration 14: Jclust = 20681.892717980416\n",
      "Iteration 15: Jclust = 20837.83516064378\n",
      "Iteration 16: Jclust = 20924.625321557618\n",
      "Iteration 17: Jclust = 20924.625321557618\n",
      "Successfully terminated with convergence.\n",
      "mach.report.totalcost = 19913.083042301543\n",
      "l = [(1, 68), (2, 150), (3, 105), (4, 17), (5, 34), (6, 86), (7, 278)]\n",
      "silhouette: 0.12456935191264698\n",
      "\n",
      "K = 8\n",
      "Iteration 1: Jclust = 28604.51506152691\n",
      "Iteration 2: Jclust = 21035.104845267917\n",
      "Iteration 3: Jclust = 20495.71450758597\n",
      "Iteration 4: Jclust = 20026.132377409987\n",
      "Iteration 5: Jclust = 19690.13485940296\n",
      "Iteration 6: Jclust = 20241.0820339267\n",
      "Iteration 7: Jclust = 19797.207010460803\n",
      "Iteration 8: Jclust = 19923.920419673446\n",
      "Iteration 9: Jclust = 19539.70720460166\n",
      "Iteration 10: Jclust = 19670.647703147613\n",
      "Iteration 11: Jclust = 19655.63845360382\n",
      "Iteration 12: Jclust = 19699.021803680043\n",
      "Iteration 13: Jclust = 19531.779742785162\n",
      "Iteration 14: Jclust = 19693.54094893529\n",
      "Iteration 15: Jclust = 19725.517401073703\n",
      "Iteration 16: Jclust = 19720.75323388139\n",
      "Iteration 17: Jclust = 19720.75323388139\n",
      "Successfully terminated with convergence.\n",
      "mach.report.totalcost = 18925.207560301402\n",
      "l = [(1, 62), (2, 146), (3, 113), (4, 22), (5, 34), (6, 84), (7, 276), (8, 1)]\n",
      "silhouette: 0.12670093012483788\n",
      "\n",
      "K = 9\n",
      "Iteration 1: Jclust = 27326.824153546528\n",
      "Iteration 2: Jclust = 20049.305187847247\n",
      "Iteration 3: Jclust = 19609.414899025807\n",
      "Iteration 4: Jclust = 19407.045707646113\n",
      "Iteration 5: Jclust = 19522.073128160184\n",
      "Iteration 6: Jclust = 19270.33861227233\n",
      "Iteration 7: Jclust = 19691.48545057589\n",
      "Iteration 8: Jclust = 19612.742052502537\n",
      "Iteration 9: Jclust = 19378.280103694335\n",
      "Iteration 10: Jclust = 19562.151734119394\n",
      "Iteration 11: Jclust = 19580.047386787774\n",
      "Iteration 12: Jclust = 19155.208702987973\n",
      "Iteration 13: Jclust = 19189.385841030435\n",
      "Iteration 14: Jclust = 18574.972948458886\n",
      "Iteration 15: Jclust = 18439.613144381146\n",
      "Iteration 16: Jclust = 17799.52712961731\n",
      "Iteration 17: Jclust = 18225.67527748594\n",
      "Iteration 18: Jclust = 18348.92890536532\n",
      "Iteration 19: Jclust = 18581.083950813067\n",
      "Iteration 20: Jclust = 18805.24973875936\n",
      "Iteration 21: Jclust = 18850.577568793233\n",
      "Iteration 22: Jclust = 18876.691011765648\n",
      "Iteration 23: Jclust = 18921.102676790277\n",
      "Iteration 24: Jclust = 18942.824602309756\n",
      "Iteration 25: Jclust = 18942.824602309756\n",
      "Successfully terminated with convergence.\n",
      "mach.report.totalcost = 17661.338825451585\n",
      "l = [(1, 50), (2, 36), (3, 12), (4, 23), (5, 34), (6, 179), (7, 257), (8, 1), (9, 146)]\n",
      "silhouette: 0.12137516036828098\n",
      "\n",
      "K = 10\n",
      "Iteration 1: Jclust = 25050.12708225893\n",
      "Iteration 2: Jclust = 19624.414224879412\n",
      "Iteration 3: Jclust = 18703.9084049024\n",
      "Iteration 4: Jclust = 18239.4507106976\n",
      "Iteration 5: Jclust = 19085.486846158932\n",
      "Iteration 6: Jclust = 18316.27724853291\n",
      "Iteration 7: Jclust = 18150.778189491837\n",
      "Iteration 8: Jclust = 17491.01255766234\n",
      "Iteration 9: Jclust = 17836.05490567183\n",
      "Iteration 10: Jclust = 17693.551253534737\n",
      "Iteration 11: Jclust = 17581.593517568443\n",
      "Iteration 12: Jclust = 17846.0077815013\n",
      "Iteration 13: Jclust = 17816.53415063803\n",
      "Iteration 14: Jclust = 17699.83237442882\n",
      "Iteration 15: Jclust = 17519.83716496415\n",
      "Iteration 16: Jclust = 17542.533587060967\n",
      "Iteration 17: Jclust = 17586.692797082556\n",
      "Iteration 18: Jclust = 17586.692797082556\n",
      "Successfully terminated with convergence.\n",
      "mach.report.totalcost = 17086.9842938616\n",
      "l = [(1, 67), (2, 37), (3, 12), (4, 13), (5, 34), (6, 50), (7, 268), (8, 1), (9, 148), (10, 108)]\n",
      "silhouette: 0.13162669687115625\n",
      "\n"
     ]
    },
    {
     "name": "stderr",
     "output_type": "stream",
     "text": [
      "┌ Info: Training \u001b[34mMachine{KMeans} @ 1…21\u001b[39m.\n",
      "└ @ MLJBase /home/andrew/.julia/packages/MLJBase/8HOpr/src/machines.jl:187\n",
      "┌ Info: Training \u001b[34mMachine{KMeans} @ 2…39\u001b[39m.\n",
      "└ @ MLJBase /home/andrew/.julia/packages/MLJBase/8HOpr/src/machines.jl:187\n",
      "┌ Info: Training \u001b[34mMachine{KMeans} @ 1…84\u001b[39m.\n",
      "└ @ MLJBase /home/andrew/.julia/packages/MLJBase/8HOpr/src/machines.jl:187\n",
      "┌ Info: Training \u001b[34mMachine{KMeans} @ 1…25\u001b[39m.\n",
      "└ @ MLJBase /home/andrew/.julia/packages/MLJBase/8HOpr/src/machines.jl:187\n",
      "┌ Info: Training \u001b[34mMachine{KMeans} @ 1…95\u001b[39m.\n",
      "└ @ MLJBase /home/andrew/.julia/packages/MLJBase/8HOpr/src/machines.jl:187\n"
     ]
    }
   ],
   "source": [
    "upper = 10\n",
    "k_range = 2:upper\n",
    "total_costs = []\n",
    "sils = []\n",
    "ls = []\n",
    "\n",
    "for i in k_range\n",
    "    println(\"K = $i\")\n",
    "    model = ParallelKMeans.KMeans(k=i, rng=RNG)\n",
    "    mach = machine(model, X_stand[train,:]) |> MLJ.fit!\n",
    "    \n",
    "#     @show report(mach) \n",
    "#     @show fitted_params(mach)\n",
    "    @show mach.report.totalcost # https://github.com/PyDataBlog/ParallelKMeans.jl/blob/87ce07d10796078aacffcbea0b2e9dc0c02f25d7/src/hamerly.jl#L65\n",
    "    d = countmap(mach.report.assignments)\n",
    "    \n",
    "    k = d |> keys\n",
    "    v = d |> values\n",
    "    l = sort(collect(zip(k,v)), by=x->x[1])\n",
    "    @show l\n",
    "    \n",
    "    # https://juliastats.org/Clustering.jl/stable/validate.html\n",
    "    s = silhouettes(mach.report.assignments, dist_mat(convert(Matrix,X_stand[train,:])))\n",
    "    println(\"silhouette: $(mean(s))\")\n",
    "    \n",
    "    push!(ls, l)\n",
    "    push!(total_costs, mach.report.totalcost) \n",
    "    push!(sils, mean(s))\n",
    "    println(\"\")\n",
    "end"
   ]
  },
  {
   "cell_type": "code",
   "execution_count": 41,
   "metadata": {},
   "outputs": [
    {
     "data": {
      "image/svg+xml": [
       "<?xml version=\"1.0\" encoding=\"utf-8\"?>\n",
       "<svg xmlns=\"http://www.w3.org/2000/svg\" xmlns:xlink=\"http://www.w3.org/1999/xlink\" width=\"600\" height=\"400\" viewBox=\"0 0 2400 1600\">\n",
       "<defs>\n",
       "  <clipPath id=\"clip930\">\n",
       "    <rect x=\"0\" y=\"0\" width=\"2400\" height=\"1600\"/>\n",
       "  </clipPath>\n",
       "</defs>\n",
       "<path clip-path=\"url(#clip930)\" d=\"\n",
       "M0 1600 L2400 1600 L2400 0 L0 0  Z\n",
       "  \" fill=\"#ffffff\" fill-rule=\"evenodd\" fill-opacity=\"1\"/>\n",
       "<defs>\n",
       "  <clipPath id=\"clip931\">\n",
       "    <rect x=\"480\" y=\"0\" width=\"1681\" height=\"1600\"/>\n",
       "  </clipPath>\n",
       "</defs>\n",
       "<path clip-path=\"url(#clip930)\" d=\"\n",
       "M217.478 1423.18 L2248.5 1423.18 L2248.5 47.2441 L217.478 47.2441  Z\n",
       "  \" fill=\"#ffffff\" fill-rule=\"evenodd\" fill-opacity=\"1\"/>\n",
       "<defs>\n",
       "  <clipPath id=\"clip932\">\n",
       "    <rect x=\"217\" y=\"47\" width=\"2032\" height=\"1377\"/>\n",
       "  </clipPath>\n",
       "</defs>\n",
       "<polyline clip-path=\"url(#clip932)\" style=\"stroke:#000000; stroke-width:2; stroke-opacity:0.1; fill:none\" points=\"\n",
       "  274.959,1423.18 274.959,47.2441 \n",
       "  \"/>\n",
       "<polyline clip-path=\"url(#clip932)\" style=\"stroke:#000000; stroke-width:2; stroke-opacity:0.1; fill:none\" points=\"\n",
       "  753.975,1423.18 753.975,47.2441 \n",
       "  \"/>\n",
       "<polyline clip-path=\"url(#clip932)\" style=\"stroke:#000000; stroke-width:2; stroke-opacity:0.1; fill:none\" points=\"\n",
       "  1232.99,1423.18 1232.99,47.2441 \n",
       "  \"/>\n",
       "<polyline clip-path=\"url(#clip932)\" style=\"stroke:#000000; stroke-width:2; stroke-opacity:0.1; fill:none\" points=\"\n",
       "  1712.01,1423.18 1712.01,47.2441 \n",
       "  \"/>\n",
       "<polyline clip-path=\"url(#clip932)\" style=\"stroke:#000000; stroke-width:2; stroke-opacity:0.1; fill:none\" points=\"\n",
       "  2191.02,1423.18 2191.02,47.2441 \n",
       "  \"/>\n",
       "<polyline clip-path=\"url(#clip930)\" style=\"stroke:#000000; stroke-width:4; stroke-opacity:1; fill:none\" points=\"\n",
       "  217.478,1423.18 2248.5,1423.18 \n",
       "  \"/>\n",
       "<polyline clip-path=\"url(#clip930)\" style=\"stroke:#000000; stroke-width:4; stroke-opacity:1; fill:none\" points=\"\n",
       "  274.959,1423.18 274.959,1406.67 \n",
       "  \"/>\n",
       "<polyline clip-path=\"url(#clip930)\" style=\"stroke:#000000; stroke-width:4; stroke-opacity:1; fill:none\" points=\"\n",
       "  753.975,1423.18 753.975,1406.67 \n",
       "  \"/>\n",
       "<polyline clip-path=\"url(#clip930)\" style=\"stroke:#000000; stroke-width:4; stroke-opacity:1; fill:none\" points=\"\n",
       "  1232.99,1423.18 1232.99,1406.67 \n",
       "  \"/>\n",
       "<polyline clip-path=\"url(#clip930)\" style=\"stroke:#000000; stroke-width:4; stroke-opacity:1; fill:none\" points=\"\n",
       "  1712.01,1423.18 1712.01,1406.67 \n",
       "  \"/>\n",
       "<polyline clip-path=\"url(#clip930)\" style=\"stroke:#000000; stroke-width:4; stroke-opacity:1; fill:none\" points=\"\n",
       "  2191.02,1423.18 2191.02,1406.67 \n",
       "  \"/>\n",
       "<path clip-path=\"url(#clip930)\" d=\"M 0 0 M269.612 1479.92 L285.932 1479.92 L285.932 1483.85 L263.987 1483.85 L263.987 1479.92 Q266.649 1477.16 271.233 1472.53 Q275.839 1467.88 277.02 1466.54 Q279.265 1464.01 280.145 1462.28 Q281.047 1460.52 281.047 1458.83 Q281.047 1456.07 279.103 1454.34 Q277.182 1452.6 274.08 1452.6 Q271.881 1452.6 269.427 1453.37 Q266.996 1454.13 264.219 1455.68 L264.219 1450.96 Q267.043 1449.82 269.496 1449.25 Q271.95 1448.67 273.987 1448.67 Q279.358 1448.67 282.552 1451.35 Q285.746 1454.04 285.746 1458.53 Q285.746 1460.66 284.936 1462.58 Q284.149 1464.48 282.043 1467.07 Q281.464 1467.74 278.362 1470.96 Q275.26 1474.15 269.612 1479.92 Z\" fill=\"#000000\" fill-rule=\"evenodd\" fill-opacity=\"1\" /><path clip-path=\"url(#clip930)\" d=\"M 0 0 M756.984 1453.37 L745.179 1471.81 L756.984 1471.81 L756.984 1453.37 M755.757 1449.29 L761.637 1449.29 L761.637 1471.81 L766.568 1471.81 L766.568 1475.7 L761.637 1475.7 L761.637 1483.85 L756.984 1483.85 L756.984 1475.7 L741.383 1475.7 L741.383 1471.19 L755.757 1449.29 Z\" fill=\"#000000\" fill-rule=\"evenodd\" fill-opacity=\"1\" /><path clip-path=\"url(#clip930)\" d=\"M 0 0 M1233.4 1464.71 Q1230.25 1464.71 1228.4 1466.86 Q1226.57 1469.01 1226.57 1472.76 Q1226.57 1476.49 1228.4 1478.67 Q1230.25 1480.82 1233.4 1480.82 Q1236.54 1480.82 1238.37 1478.67 Q1240.22 1476.49 1240.22 1472.76 Q1240.22 1469.01 1238.37 1466.86 Q1236.54 1464.71 1233.4 1464.71 M1242.68 1450.06 L1242.68 1454.31 Q1240.92 1453.48 1239.11 1453.04 Q1237.33 1452.6 1235.57 1452.6 Q1230.94 1452.6 1228.49 1455.73 Q1226.06 1458.85 1225.71 1465.17 Q1227.08 1463.16 1229.14 1462.09 Q1231.2 1461 1233.67 1461 Q1238.88 1461 1241.89 1464.18 Q1244.92 1467.32 1244.92 1472.76 Q1244.92 1478.09 1241.78 1481.31 Q1238.63 1484.52 1233.4 1484.52 Q1227.4 1484.52 1224.23 1479.94 Q1221.06 1475.33 1221.06 1466.61 Q1221.06 1458.41 1224.95 1453.55 Q1228.84 1448.67 1235.39 1448.67 Q1237.15 1448.67 1238.93 1449.01 Q1240.73 1449.36 1242.68 1450.06 Z\" fill=\"#000000\" fill-rule=\"evenodd\" fill-opacity=\"1\" /><path clip-path=\"url(#clip930)\" d=\"M 0 0 M1712.01 1467.44 Q1708.67 1467.44 1706.75 1469.22 Q1704.85 1471 1704.85 1474.13 Q1704.85 1477.25 1706.75 1479.04 Q1708.67 1480.82 1712.01 1480.82 Q1715.34 1480.82 1717.26 1479.04 Q1719.18 1477.23 1719.18 1474.13 Q1719.18 1471 1717.26 1469.22 Q1715.36 1467.44 1712.01 1467.44 M1707.33 1465.45 Q1704.32 1464.71 1702.63 1462.65 Q1700.96 1460.59 1700.96 1457.63 Q1700.96 1453.48 1703.9 1451.07 Q1706.87 1448.67 1712.01 1448.67 Q1717.17 1448.67 1720.11 1451.07 Q1723.05 1453.48 1723.05 1457.63 Q1723.05 1460.59 1721.36 1462.65 Q1719.69 1464.71 1716.71 1465.45 Q1720.09 1466.24 1721.96 1468.53 Q1723.86 1470.82 1723.86 1474.13 Q1723.86 1479.15 1720.78 1481.84 Q1717.72 1484.52 1712.01 1484.52 Q1706.29 1484.52 1703.21 1481.84 Q1700.15 1479.15 1700.15 1474.13 Q1700.15 1470.82 1702.05 1468.53 Q1703.95 1466.24 1707.33 1465.45 M1705.62 1458.06 Q1705.62 1460.75 1707.28 1462.25 Q1708.97 1463.76 1712.01 1463.76 Q1715.02 1463.76 1716.71 1462.25 Q1718.42 1460.75 1718.42 1458.06 Q1718.42 1455.38 1716.71 1453.88 Q1715.02 1452.37 1712.01 1452.37 Q1708.97 1452.37 1707.28 1453.88 Q1705.62 1455.38 1705.62 1458.06 Z\" fill=\"#000000\" fill-rule=\"evenodd\" fill-opacity=\"1\" /><path clip-path=\"url(#clip930)\" d=\"M 0 0 M2167.9 1479.92 L2175.54 1479.92 L2175.54 1453.55 L2167.23 1455.22 L2167.23 1450.96 L2175.49 1449.29 L2180.17 1449.29 L2180.17 1479.92 L2187.8 1479.92 L2187.8 1483.85 L2167.9 1483.85 L2167.9 1479.92 Z\" fill=\"#000000\" fill-rule=\"evenodd\" fill-opacity=\"1\" /><path clip-path=\"url(#clip930)\" d=\"M 0 0 M2202.87 1452.37 Q2199.26 1452.37 2197.43 1455.94 Q2195.63 1459.48 2195.63 1466.61 Q2195.63 1473.71 2197.43 1477.28 Q2199.26 1480.82 2202.87 1480.82 Q2206.51 1480.82 2208.31 1477.28 Q2210.14 1473.71 2210.14 1466.61 Q2210.14 1459.48 2208.31 1455.94 Q2206.51 1452.37 2202.87 1452.37 M2202.87 1448.67 Q2208.68 1448.67 2211.74 1453.27 Q2214.82 1457.86 2214.82 1466.61 Q2214.82 1475.33 2211.74 1479.94 Q2208.68 1484.52 2202.87 1484.52 Q2197.06 1484.52 2193.99 1479.94 Q2190.93 1475.33 2190.93 1466.61 Q2190.93 1457.86 2193.99 1453.27 Q2197.06 1448.67 2202.87 1448.67 Z\" fill=\"#000000\" fill-rule=\"evenodd\" fill-opacity=\"1\" /><path clip-path=\"url(#clip930)\" d=\"M 0 0 M947.552 1508.52 L956.21 1508.52 L977.28 1548.28 L977.28 1508.52 L983.519 1508.52 L983.519 1556.04 L974.861 1556.04 L953.791 1516.29 L953.791 1556.04 L947.552 1556.04 L947.552 1508.52 Z\" fill=\"#000000\" fill-rule=\"evenodd\" fill-opacity=\"1\" /><path clip-path=\"url(#clip930)\" d=\"M 0 0 M989.057 1541.98 L989.057 1520.4 L994.913 1520.4 L994.913 1541.75 Q994.913 1546.81 996.887 1549.36 Q998.86 1551.87 1002.81 1551.87 Q1007.55 1551.87 1010.29 1548.85 Q1013.06 1545.83 1013.06 1540.61 L1013.06 1520.4 L1018.91 1520.4 L1018.91 1556.04 L1013.06 1556.04 L1013.06 1550.57 Q1010.92 1553.82 1008.09 1555.41 Q1005.29 1556.97 1001.57 1556.97 Q995.423 1556.97 992.24 1553.15 Q989.057 1549.33 989.057 1541.98 M1003.79 1519.54 L1003.79 1519.54 Z\" fill=\"#000000\" fill-rule=\"evenodd\" fill-opacity=\"1\" /><path clip-path=\"url(#clip930)\" d=\"M 0 0 M1052.81 1527.24 Q1055.01 1523.29 1058.06 1521.41 Q1061.12 1519.54 1065.25 1519.54 Q1070.82 1519.54 1073.85 1523.45 Q1076.87 1527.33 1076.87 1534.53 L1076.87 1556.04 L1070.98 1556.04 L1070.98 1534.72 Q1070.98 1529.59 1069.17 1527.11 Q1067.36 1524.63 1063.63 1524.63 Q1059.08 1524.63 1056.44 1527.65 Q1053.8 1530.68 1053.8 1535.9 L1053.8 1556.04 L1047.91 1556.04 L1047.91 1534.72 Q1047.91 1529.56 1046.09 1527.11 Q1044.28 1524.63 1040.49 1524.63 Q1036 1524.63 1033.36 1527.68 Q1030.72 1530.71 1030.72 1535.9 L1030.72 1556.04 L1024.83 1556.04 L1024.83 1520.4 L1030.72 1520.4 L1030.72 1525.93 Q1032.73 1522.66 1035.53 1521.1 Q1038.33 1519.54 1042.18 1519.54 Q1046.06 1519.54 1048.77 1521.51 Q1051.5 1523.48 1052.81 1527.24 Z\" fill=\"#000000\" fill-rule=\"evenodd\" fill-opacity=\"1\" /><path clip-path=\"url(#clip930)\" d=\"M 0 0 M1108.6 1538.25 Q1108.6 1531.79 1105.93 1528.13 Q1103.29 1524.44 1098.64 1524.44 Q1094 1524.44 1091.32 1528.13 Q1088.68 1531.79 1088.68 1538.25 Q1088.68 1544.71 1091.32 1548.4 Q1094 1552.07 1098.64 1552.07 Q1103.29 1552.07 1105.93 1548.4 Q1108.6 1544.71 1108.6 1538.25 M1088.68 1525.81 Q1090.53 1522.62 1093.33 1521.1 Q1096.16 1519.54 1100.07 1519.54 Q1106.57 1519.54 1110.61 1524.69 Q1114.68 1529.85 1114.68 1538.25 Q1114.68 1546.65 1110.61 1551.81 Q1106.57 1556.97 1100.07 1556.97 Q1096.16 1556.97 1093.33 1555.44 Q1090.53 1553.88 1088.68 1550.7 L1088.68 1556.04 L1082.79 1556.04 L1082.79 1506.52 L1088.68 1506.52 L1088.68 1525.81 Z\" fill=\"#000000\" fill-rule=\"evenodd\" fill-opacity=\"1\" /><path clip-path=\"url(#clip930)\" d=\"M 0 0 M1151.32 1536.76 L1151.32 1539.62 L1124.39 1539.62 Q1124.77 1545.67 1128.02 1548.85 Q1131.3 1552 1137.12 1552 Q1140.5 1552 1143.65 1551.17 Q1146.83 1550.35 1149.95 1548.69 L1149.95 1554.23 Q1146.8 1555.57 1143.49 1556.27 Q1140.18 1556.97 1136.77 1556.97 Q1128.24 1556.97 1123.25 1552 Q1118.28 1547.04 1118.28 1538.57 Q1118.28 1529.82 1122.99 1524.69 Q1127.73 1519.54 1135.75 1519.54 Q1142.95 1519.54 1147.12 1524.18 Q1151.32 1528.8 1151.32 1536.76 M1145.46 1535.04 Q1145.4 1530.23 1142.76 1527.37 Q1140.15 1524.5 1135.82 1524.5 Q1130.92 1524.5 1127.96 1527.27 Q1125.03 1530.04 1124.58 1535.07 L1145.46 1535.04 Z\" fill=\"#000000\" fill-rule=\"evenodd\" fill-opacity=\"1\" /><path clip-path=\"url(#clip930)\" d=\"M 0 0 M1178.12 1525.87 Q1177.13 1525.3 1175.95 1525.04 Q1174.81 1524.76 1173.41 1524.76 Q1168.44 1524.76 1165.77 1528 Q1163.13 1531.22 1163.13 1537.27 L1163.13 1556.04 L1157.24 1556.04 L1157.24 1520.4 L1163.13 1520.4 L1163.13 1525.93 Q1164.97 1522.69 1167.93 1521.13 Q1170.89 1519.54 1175.13 1519.54 Q1175.73 1519.54 1176.46 1519.63 Q1177.2 1519.7 1178.09 1519.85 L1178.12 1525.87 Z\" fill=\"#000000\" fill-rule=\"evenodd\" fill-opacity=\"1\" /><path clip-path=\"url(#clip930)\" d=\"M 0 0 M1218.8 1524.5 Q1214.08 1524.5 1211.35 1528.19 Q1208.61 1531.85 1208.61 1538.25 Q1208.61 1544.65 1211.32 1548.34 Q1214.05 1552 1218.8 1552 Q1223.47 1552 1226.21 1548.31 Q1228.95 1544.62 1228.95 1538.25 Q1228.95 1531.92 1226.21 1528.23 Q1223.47 1524.5 1218.8 1524.5 M1218.8 1519.54 Q1226.43 1519.54 1230.79 1524.5 Q1235.16 1529.47 1235.16 1538.25 Q1235.16 1547 1230.79 1552 Q1226.43 1556.97 1218.8 1556.97 Q1211.12 1556.97 1206.76 1552 Q1202.44 1547 1202.44 1538.25 Q1202.44 1529.47 1206.76 1524.5 Q1211.12 1519.54 1218.8 1519.54 Z\" fill=\"#000000\" fill-rule=\"evenodd\" fill-opacity=\"1\" /><path clip-path=\"url(#clip930)\" d=\"M 0 0 M1259.34 1506.52 L1259.34 1511.39 L1253.74 1511.39 Q1250.59 1511.39 1249.35 1512.66 Q1248.14 1513.93 1248.14 1517.24 L1248.14 1520.4 L1257.79 1520.4 L1257.79 1524.95 L1248.14 1524.95 L1248.14 1556.04 L1242.25 1556.04 L1242.25 1524.95 L1236.65 1524.95 L1236.65 1520.4 L1242.25 1520.4 L1242.25 1517.91 Q1242.25 1511.96 1245.02 1509.26 Q1247.79 1506.52 1253.81 1506.52 L1259.34 1506.52 Z\" fill=\"#000000\" fill-rule=\"evenodd\" fill-opacity=\"1\" /><path clip-path=\"url(#clip930)\" d=\"M 0 0 M1322.05 1512.18 L1322.05 1518.96 Q1318.8 1515.94 1315.11 1514.44 Q1311.45 1512.95 1307.31 1512.95 Q1299.16 1512.95 1294.83 1517.95 Q1290.5 1522.91 1290.5 1532.33 Q1290.5 1541.72 1294.83 1546.72 Q1299.16 1551.68 1307.31 1551.68 Q1311.45 1551.68 1315.11 1550.19 Q1318.8 1548.69 1322.05 1545.67 L1322.05 1552.38 Q1318.67 1554.68 1314.89 1555.82 Q1311.13 1556.97 1306.93 1556.97 Q1296.14 1556.97 1289.93 1550.38 Q1283.73 1543.76 1283.73 1532.33 Q1283.73 1520.87 1289.93 1514.28 Q1296.14 1507.66 1306.93 1507.66 Q1311.19 1507.66 1314.95 1508.81 Q1318.74 1509.92 1322.05 1512.18 Z\" fill=\"#000000\" fill-rule=\"evenodd\" fill-opacity=\"1\" /><path clip-path=\"url(#clip930)\" d=\"M 0 0 M1328.19 1506.52 L1334.05 1506.52 L1334.05 1556.04 L1328.19 1556.04 L1328.19 1506.52 Z\" fill=\"#000000\" fill-rule=\"evenodd\" fill-opacity=\"1\" /><path clip-path=\"url(#clip930)\" d=\"M 0 0 M1339.58 1541.98 L1339.58 1520.4 L1345.44 1520.4 L1345.44 1541.75 Q1345.44 1546.81 1347.41 1549.36 Q1349.39 1551.87 1353.33 1551.87 Q1358.08 1551.87 1360.81 1548.85 Q1363.58 1545.83 1363.58 1540.61 L1363.58 1520.4 L1369.44 1520.4 L1369.44 1556.04 L1363.58 1556.04 L1363.58 1550.57 Q1361.45 1553.82 1358.62 1555.41 Q1355.82 1556.97 1352.09 1556.97 Q1345.95 1556.97 1342.77 1553.15 Q1339.58 1549.33 1339.58 1541.98 M1354.32 1519.54 L1354.32 1519.54 Z\" fill=\"#000000\" fill-rule=\"evenodd\" fill-opacity=\"1\" /><path clip-path=\"url(#clip930)\" d=\"M 0 0 M1398.31 1521.45 L1398.31 1526.98 Q1395.83 1525.71 1393.15 1525.07 Q1390.48 1524.44 1387.61 1524.44 Q1383.25 1524.44 1381.06 1525.77 Q1378.89 1527.11 1378.89 1529.79 Q1378.89 1531.82 1380.45 1533 Q1382.01 1534.15 1386.72 1535.2 L1388.73 1535.64 Q1394.97 1536.98 1397.58 1539.43 Q1400.22 1541.85 1400.22 1546.21 Q1400.22 1551.17 1396.27 1554.07 Q1392.36 1556.97 1385.48 1556.97 Q1382.62 1556.97 1379.5 1556.39 Q1376.41 1555.85 1372.97 1554.74 L1372.97 1548.69 Q1376.22 1550.38 1379.37 1551.24 Q1382.52 1552.07 1385.61 1552.07 Q1389.75 1552.07 1391.97 1550.66 Q1394.2 1549.23 1394.2 1546.65 Q1394.2 1544.27 1392.58 1542.99 Q1390.99 1541.72 1385.54 1540.54 L1383.51 1540.07 Q1378.07 1538.92 1375.65 1536.56 Q1373.23 1534.18 1373.23 1530.04 Q1373.23 1525.01 1376.79 1522.27 Q1380.36 1519.54 1386.91 1519.54 Q1390.16 1519.54 1393.02 1520.01 Q1395.89 1520.49 1398.31 1521.45 Z\" fill=\"#000000\" fill-rule=\"evenodd\" fill-opacity=\"1\" /><path clip-path=\"url(#clip930)\" d=\"M 0 0 M1412.15 1510.27 L1412.15 1520.4 L1424.22 1520.4 L1424.22 1524.95 L1412.15 1524.95 L1412.15 1544.3 Q1412.15 1548.66 1413.33 1549.9 Q1414.54 1551.14 1418.2 1551.14 L1424.22 1551.14 L1424.22 1556.04 L1418.2 1556.04 Q1411.42 1556.04 1408.84 1553.53 Q1406.27 1550.98 1406.27 1544.3 L1406.27 1524.95 L1401.97 1524.95 L1401.97 1520.4 L1406.27 1520.4 L1406.27 1510.27 L1412.15 1510.27 Z\" fill=\"#000000\" fill-rule=\"evenodd\" fill-opacity=\"1\" /><path clip-path=\"url(#clip930)\" d=\"M 0 0 M1460.85 1536.76 L1460.85 1539.62 L1433.92 1539.62 Q1434.31 1545.67 1437.55 1548.85 Q1440.83 1552 1446.66 1552 Q1450.03 1552 1453.18 1551.17 Q1456.36 1550.35 1459.48 1548.69 L1459.48 1554.23 Q1456.33 1555.57 1453.02 1556.27 Q1449.71 1556.97 1446.31 1556.97 Q1437.78 1556.97 1432.78 1552 Q1427.81 1547.04 1427.81 1538.57 Q1427.81 1529.82 1432.52 1524.69 Q1437.27 1519.54 1445.29 1519.54 Q1452.48 1519.54 1456.65 1524.18 Q1460.85 1528.8 1460.85 1536.76 M1454.99 1535.04 Q1454.93 1530.23 1452.29 1527.37 Q1449.68 1524.5 1445.35 1524.5 Q1440.45 1524.5 1437.49 1527.27 Q1434.56 1530.04 1434.12 1535.07 L1454.99 1535.04 Z\" fill=\"#000000\" fill-rule=\"evenodd\" fill-opacity=\"1\" /><path clip-path=\"url(#clip930)\" d=\"M 0 0 M1487.65 1525.87 Q1486.66 1525.3 1485.49 1525.04 Q1484.34 1524.76 1482.94 1524.76 Q1477.97 1524.76 1475.3 1528 Q1472.66 1531.22 1472.66 1537.27 L1472.66 1556.04 L1466.77 1556.04 L1466.77 1520.4 L1472.66 1520.4 L1472.66 1525.93 Q1474.51 1522.69 1477.47 1521.13 Q1480.43 1519.54 1484.66 1519.54 Q1485.26 1519.54 1486 1519.63 Q1486.73 1519.7 1487.62 1519.85 L1487.65 1525.87 Z\" fill=\"#000000\" fill-rule=\"evenodd\" fill-opacity=\"1\" /><path clip-path=\"url(#clip930)\" d=\"M 0 0 M1516.52 1521.45 L1516.52 1526.98 Q1514.04 1525.71 1511.36 1525.07 Q1508.69 1524.44 1505.82 1524.44 Q1501.46 1524.44 1499.27 1525.77 Q1497.1 1527.11 1497.1 1529.79 Q1497.1 1531.82 1498.66 1533 Q1500.22 1534.15 1504.93 1535.2 L1506.94 1535.64 Q1513.18 1536.98 1515.79 1539.43 Q1518.43 1541.85 1518.43 1546.21 Q1518.43 1551.17 1514.48 1554.07 Q1510.57 1556.97 1503.69 1556.97 Q1500.83 1556.97 1497.71 1556.39 Q1494.62 1555.85 1491.18 1554.74 L1491.18 1548.69 Q1494.43 1550.38 1497.58 1551.24 Q1500.73 1552.07 1503.82 1552.07 Q1507.96 1552.07 1510.19 1550.66 Q1512.41 1549.23 1512.41 1546.65 Q1512.41 1544.27 1510.79 1542.99 Q1509.2 1541.72 1503.76 1540.54 L1501.72 1540.07 Q1496.28 1538.92 1493.86 1536.56 Q1491.44 1534.18 1491.44 1530.04 Q1491.44 1525.01 1495 1522.27 Q1498.57 1519.54 1505.12 1519.54 Q1508.37 1519.54 1511.24 1520.01 Q1514.1 1520.49 1516.52 1521.45 Z\" fill=\"#000000\" fill-rule=\"evenodd\" fill-opacity=\"1\" /><polyline clip-path=\"url(#clip932)\" style=\"stroke:#000000; stroke-width:2; stroke-opacity:0.1; fill:none\" points=\"\n",
       "  217.478,1265.58 2248.5,1265.58 \n",
       "  \"/>\n",
       "<polyline clip-path=\"url(#clip932)\" style=\"stroke:#000000; stroke-width:2; stroke-opacity:0.1; fill:none\" points=\"\n",
       "  217.478,1005.64 2248.5,1005.64 \n",
       "  \"/>\n",
       "<polyline clip-path=\"url(#clip932)\" style=\"stroke:#000000; stroke-width:2; stroke-opacity:0.1; fill:none\" points=\"\n",
       "  217.478,745.711 2248.5,745.711 \n",
       "  \"/>\n",
       "<polyline clip-path=\"url(#clip932)\" style=\"stroke:#000000; stroke-width:2; stroke-opacity:0.1; fill:none\" points=\"\n",
       "  217.478,485.777 2248.5,485.777 \n",
       "  \"/>\n",
       "<polyline clip-path=\"url(#clip932)\" style=\"stroke:#000000; stroke-width:2; stroke-opacity:0.1; fill:none\" points=\"\n",
       "  217.478,225.844 2248.5,225.844 \n",
       "  \"/>\n",
       "<polyline clip-path=\"url(#clip930)\" style=\"stroke:#000000; stroke-width:4; stroke-opacity:1; fill:none\" points=\"\n",
       "  217.478,1423.18 217.478,47.2441 \n",
       "  \"/>\n",
       "<polyline clip-path=\"url(#clip930)\" style=\"stroke:#000000; stroke-width:4; stroke-opacity:1; fill:none\" points=\"\n",
       "  217.478,1265.58 241.85,1265.58 \n",
       "  \"/>\n",
       "<polyline clip-path=\"url(#clip930)\" style=\"stroke:#000000; stroke-width:4; stroke-opacity:1; fill:none\" points=\"\n",
       "  217.478,1005.64 241.85,1005.64 \n",
       "  \"/>\n",
       "<polyline clip-path=\"url(#clip930)\" style=\"stroke:#000000; stroke-width:4; stroke-opacity:1; fill:none\" points=\"\n",
       "  217.478,745.711 241.85,745.711 \n",
       "  \"/>\n",
       "<polyline clip-path=\"url(#clip930)\" style=\"stroke:#000000; stroke-width:4; stroke-opacity:1; fill:none\" points=\"\n",
       "  217.478,485.777 241.85,485.777 \n",
       "  \"/>\n",
       "<polyline clip-path=\"url(#clip930)\" style=\"stroke:#000000; stroke-width:4; stroke-opacity:1; fill:none\" points=\"\n",
       "  217.478,225.844 241.85,225.844 \n",
       "  \"/>\n",
       "<path clip-path=\"url(#clip930)\" d=\"M 0 0 M53.6079 1278.92 L61.2467 1278.92 L61.2467 1252.56 L52.9366 1254.22 L52.9366 1249.96 L61.2004 1248.3 L65.8763 1248.3 L65.8763 1278.92 L73.5152 1278.92 L73.5152 1282.86 L53.6079 1282.86 L53.6079 1278.92 Z\" fill=\"#000000\" fill-rule=\"evenodd\" fill-opacity=\"1\" /><path clip-path=\"url(#clip930)\" d=\"M 0 0 M88.5845 1266.44 Q85.2512 1266.44 83.3299 1268.23 Q81.4318 1270.01 81.4318 1273.13 Q81.4318 1276.26 83.3299 1278.04 Q85.2512 1279.82 88.5845 1279.82 Q91.9178 1279.82 93.8391 1278.04 Q95.7604 1276.24 95.7604 1273.13 Q95.7604 1270.01 93.8391 1268.23 Q91.941 1266.44 88.5845 1266.44 M83.9086 1264.45 Q80.8994 1263.71 79.2096 1261.65 Q77.5429 1259.59 77.5429 1256.63 Q77.5429 1252.49 80.4827 1250.08 Q83.4457 1247.67 88.5845 1247.67 Q93.7465 1247.67 96.6863 1250.08 Q99.6261 1252.49 99.6261 1256.63 Q99.6261 1259.59 97.9363 1261.65 Q96.2697 1263.71 93.2836 1264.45 Q96.6632 1265.24 98.5382 1267.53 Q100.436 1269.82 100.436 1273.13 Q100.436 1278.16 97.3576 1280.84 Q94.3021 1283.53 88.5845 1283.53 Q82.867 1283.53 79.7883 1280.84 Q76.7327 1278.16 76.7327 1273.13 Q76.7327 1269.82 78.6309 1267.53 Q80.529 1265.24 83.9086 1264.45 M82.1957 1257.07 Q82.1957 1259.76 83.8623 1261.26 Q85.5521 1262.76 88.5845 1262.76 Q91.5938 1262.76 93.2836 1261.26 Q94.9965 1259.76 94.9965 1257.07 Q94.9965 1254.38 93.2836 1252.88 Q91.5938 1251.38 88.5845 1251.38 Q85.5521 1251.38 83.8623 1252.88 Q82.1957 1254.38 82.1957 1257.07 Z\" fill=\"#000000\" fill-rule=\"evenodd\" fill-opacity=\"1\" /><path clip-path=\"url(#clip930)\" d=\"M 0 0 M115.506 1251.38 Q111.895 1251.38 110.066 1254.94 Q108.26 1258.48 108.26 1265.61 Q108.26 1272.72 110.066 1276.28 Q111.895 1279.82 115.506 1279.82 Q119.14 1279.82 120.945 1276.28 Q122.774 1272.72 122.774 1265.61 Q122.774 1258.48 120.945 1254.94 Q119.14 1251.38 115.506 1251.38 M115.506 1247.67 Q121.316 1247.67 124.371 1252.28 Q127.45 1256.86 127.45 1265.61 Q127.45 1274.34 124.371 1278.94 Q121.316 1283.53 115.506 1283.53 Q109.696 1283.53 106.617 1278.94 Q103.561 1274.34 103.561 1265.61 Q103.561 1256.86 106.617 1252.28 Q109.696 1247.67 115.506 1247.67 Z\" fill=\"#000000\" fill-rule=\"evenodd\" fill-opacity=\"1\" /><path clip-path=\"url(#clip930)\" d=\"M 0 0 M142.519 1251.38 Q138.908 1251.38 137.08 1254.94 Q135.274 1258.48 135.274 1265.61 Q135.274 1272.72 137.08 1276.28 Q138.908 1279.82 142.519 1279.82 Q146.154 1279.82 147.959 1276.28 Q149.788 1272.72 149.788 1265.61 Q149.788 1258.48 147.959 1254.94 Q146.154 1251.38 142.519 1251.38 M142.519 1247.67 Q148.33 1247.67 151.385 1252.28 Q154.464 1256.86 154.464 1265.61 Q154.464 1274.34 151.385 1278.94 Q148.33 1283.53 142.519 1283.53 Q136.709 1283.53 133.631 1278.94 Q130.575 1274.34 130.575 1265.61 Q130.575 1256.86 133.631 1252.28 Q136.709 1247.67 142.519 1247.67 Z\" fill=\"#000000\" fill-rule=\"evenodd\" fill-opacity=\"1\" /><path clip-path=\"url(#clip930)\" d=\"M 0 0 M169.533 1251.38 Q165.922 1251.38 164.093 1254.94 Q162.288 1258.48 162.288 1265.61 Q162.288 1272.72 164.093 1276.28 Q165.922 1279.82 169.533 1279.82 Q173.167 1279.82 174.973 1276.28 Q176.802 1272.72 176.802 1265.61 Q176.802 1258.48 174.973 1254.94 Q173.167 1251.38 169.533 1251.38 M169.533 1247.67 Q175.343 1247.67 178.399 1252.28 Q181.478 1256.86 181.478 1265.61 Q181.478 1274.34 178.399 1278.94 Q175.343 1283.53 169.533 1283.53 Q163.723 1283.53 160.644 1278.94 Q157.589 1274.34 157.589 1265.61 Q157.589 1256.86 160.644 1252.28 Q163.723 1247.67 169.533 1247.67 Z\" fill=\"#000000\" fill-rule=\"evenodd\" fill-opacity=\"1\" /><path clip-path=\"url(#clip930)\" d=\"M 0 0 M57.1032 1018.99 L73.4226 1018.99 L73.4226 1022.92 L51.4782 1022.92 L51.4782 1018.99 Q54.1403 1016.23 58.7236 1011.6 Q63.33 1006.95 64.5106 1005.61 Q66.7559 1003.09 67.6356 1001.35 Q68.5383 999.59 68.5383 997.901 Q68.5383 995.146 66.5939 993.41 Q64.6726 991.674 61.5708 991.674 Q59.3717 991.674 56.918 992.438 Q54.4875 993.202 51.7097 994.752 L51.7097 990.03 Q54.5338 988.896 56.9875 988.317 Q59.4412 987.739 61.4782 987.739 Q66.8485 987.739 70.0429 990.424 Q73.2374 993.109 73.2374 997.6 Q73.2374 999.729 72.4272 1001.65 Q71.6402 1003.55 69.5337 1006.14 Q68.955 1006.81 65.8532 1010.03 Q62.7513 1013.22 57.1032 1018.99 Z\" fill=\"#000000\" fill-rule=\"evenodd\" fill-opacity=\"1\" /><path clip-path=\"url(#clip930)\" d=\"M 0 0 M88.4919 991.442 Q84.8808 991.442 83.0521 995.007 Q81.2466 998.549 81.2466 1005.68 Q81.2466 1012.78 83.0521 1016.35 Q84.8808 1019.89 88.4919 1019.89 Q92.1262 1019.89 93.9317 1016.35 Q95.7604 1012.78 95.7604 1005.68 Q95.7604 998.549 93.9317 995.007 Q92.1262 991.442 88.4919 991.442 M88.4919 987.739 Q94.3021 987.739 97.3576 992.345 Q100.436 996.928 100.436 1005.68 Q100.436 1014.41 97.3576 1019.01 Q94.3021 1023.59 88.4919 1023.59 Q82.6818 1023.59 79.6031 1019.01 Q76.5475 1014.41 76.5475 1005.68 Q76.5475 996.928 79.6031 992.345 Q82.6818 987.739 88.4919 987.739 Z\" fill=\"#000000\" fill-rule=\"evenodd\" fill-opacity=\"1\" /><path clip-path=\"url(#clip930)\" d=\"M 0 0 M115.506 991.442 Q111.895 991.442 110.066 995.007 Q108.26 998.549 108.26 1005.68 Q108.26 1012.78 110.066 1016.35 Q111.895 1019.89 115.506 1019.89 Q119.14 1019.89 120.945 1016.35 Q122.774 1012.78 122.774 1005.68 Q122.774 998.549 120.945 995.007 Q119.14 991.442 115.506 991.442 M115.506 987.739 Q121.316 987.739 124.371 992.345 Q127.45 996.928 127.45 1005.68 Q127.45 1014.41 124.371 1019.01 Q121.316 1023.59 115.506 1023.59 Q109.696 1023.59 106.617 1019.01 Q103.561 1014.41 103.561 1005.68 Q103.561 996.928 106.617 992.345 Q109.696 987.739 115.506 987.739 Z\" fill=\"#000000\" fill-rule=\"evenodd\" fill-opacity=\"1\" /><path clip-path=\"url(#clip930)\" d=\"M 0 0 M142.519 991.442 Q138.908 991.442 137.08 995.007 Q135.274 998.549 135.274 1005.68 Q135.274 1012.78 137.08 1016.35 Q138.908 1019.89 142.519 1019.89 Q146.154 1019.89 147.959 1016.35 Q149.788 1012.78 149.788 1005.68 Q149.788 998.549 147.959 995.007 Q146.154 991.442 142.519 991.442 M142.519 987.739 Q148.33 987.739 151.385 992.345 Q154.464 996.928 154.464 1005.68 Q154.464 1014.41 151.385 1019.01 Q148.33 1023.59 142.519 1023.59 Q136.709 1023.59 133.631 1019.01 Q130.575 1014.41 130.575 1005.68 Q130.575 996.928 133.631 992.345 Q136.709 987.739 142.519 987.739 Z\" fill=\"#000000\" fill-rule=\"evenodd\" fill-opacity=\"1\" /><path clip-path=\"url(#clip930)\" d=\"M 0 0 M169.533 991.442 Q165.922 991.442 164.093 995.007 Q162.288 998.549 162.288 1005.68 Q162.288 1012.78 164.093 1016.35 Q165.922 1019.89 169.533 1019.89 Q173.167 1019.89 174.973 1016.35 Q176.802 1012.78 176.802 1005.68 Q176.802 998.549 174.973 995.007 Q173.167 991.442 169.533 991.442 M169.533 987.739 Q175.343 987.739 178.399 992.345 Q181.478 996.928 181.478 1005.68 Q181.478 1014.41 178.399 1019.01 Q175.343 1023.59 169.533 1023.59 Q163.723 1023.59 160.644 1019.01 Q157.589 1014.41 157.589 1005.68 Q157.589 996.928 160.644 992.345 Q163.723 987.739 169.533 987.739 Z\" fill=\"#000000\" fill-rule=\"evenodd\" fill-opacity=\"1\" /><path clip-path=\"url(#clip930)\" d=\"M 0 0 M58.7004 759.055 L75.0198 759.055 L75.0198 762.991 L53.0754 762.991 L53.0754 759.055 Q55.7375 756.301 60.3208 751.671 Q64.9272 747.018 66.1078 745.676 Q68.3531 743.153 69.2328 741.417 Q70.1355 739.657 70.1355 737.967 Q70.1355 735.213 68.1911 733.477 Q66.2698 731.741 63.168 731.741 Q60.9689 731.741 58.5152 732.505 Q56.0847 733.268 53.3069 734.819 L53.3069 730.097 Q56.131 728.963 58.5847 728.384 Q61.0384 727.806 63.0754 727.806 Q68.4457 727.806 71.6402 730.491 Q74.8346 733.176 74.8346 737.667 Q74.8346 739.796 74.0244 741.717 Q73.2374 743.616 71.1309 746.208 Q70.5522 746.879 67.4504 750.097 Q64.3485 753.291 58.7004 759.055 Z\" fill=\"#000000\" fill-rule=\"evenodd\" fill-opacity=\"1\" /><path clip-path=\"url(#clip930)\" d=\"M 0 0 M84.1169 759.055 L100.436 759.055 L100.436 762.991 L78.492 762.991 L78.492 759.055 Q81.154 756.301 85.7373 751.671 Q90.3438 747.018 91.5243 745.676 Q93.7697 743.153 94.6493 741.417 Q95.5521 739.657 95.5521 737.967 Q95.5521 735.213 93.6076 733.477 Q91.6864 731.741 88.5845 731.741 Q86.3855 731.741 83.9318 732.505 Q81.5012 733.268 78.7235 734.819 L78.7235 730.097 Q81.5475 728.963 84.0012 728.384 Q86.4549 727.806 88.4919 727.806 Q93.8623 727.806 97.0567 730.491 Q100.251 733.176 100.251 737.667 Q100.251 739.796 99.4409 741.717 Q98.6539 743.616 96.5474 746.208 Q95.9687 746.879 92.8669 750.097 Q89.7651 753.291 84.1169 759.055 Z\" fill=\"#000000\" fill-rule=\"evenodd\" fill-opacity=\"1\" /><path clip-path=\"url(#clip930)\" d=\"M 0 0 M115.506 731.509 Q111.895 731.509 110.066 735.074 Q108.26 738.616 108.26 745.745 Q108.26 752.852 110.066 756.416 Q111.895 759.958 115.506 759.958 Q119.14 759.958 120.945 756.416 Q122.774 752.852 122.774 745.745 Q122.774 738.616 120.945 735.074 Q119.14 731.509 115.506 731.509 M115.506 727.806 Q121.316 727.806 124.371 732.412 Q127.45 736.995 127.45 745.745 Q127.45 754.472 124.371 759.078 Q121.316 763.662 115.506 763.662 Q109.696 763.662 106.617 759.078 Q103.561 754.472 103.561 745.745 Q103.561 736.995 106.617 732.412 Q109.696 727.806 115.506 727.806 Z\" fill=\"#000000\" fill-rule=\"evenodd\" fill-opacity=\"1\" /><path clip-path=\"url(#clip930)\" d=\"M 0 0 M142.519 731.509 Q138.908 731.509 137.08 735.074 Q135.274 738.616 135.274 745.745 Q135.274 752.852 137.08 756.416 Q138.908 759.958 142.519 759.958 Q146.154 759.958 147.959 756.416 Q149.788 752.852 149.788 745.745 Q149.788 738.616 147.959 735.074 Q146.154 731.509 142.519 731.509 M142.519 727.806 Q148.33 727.806 151.385 732.412 Q154.464 736.995 154.464 745.745 Q154.464 754.472 151.385 759.078 Q148.33 763.662 142.519 763.662 Q136.709 763.662 133.631 759.078 Q130.575 754.472 130.575 745.745 Q130.575 736.995 133.631 732.412 Q136.709 727.806 142.519 727.806 Z\" fill=\"#000000\" fill-rule=\"evenodd\" fill-opacity=\"1\" /><path clip-path=\"url(#clip930)\" d=\"M 0 0 M169.533 731.509 Q165.922 731.509 164.093 735.074 Q162.288 738.616 162.288 745.745 Q162.288 752.852 164.093 756.416 Q165.922 759.958 169.533 759.958 Q173.167 759.958 174.973 756.416 Q176.802 752.852 176.802 745.745 Q176.802 738.616 174.973 735.074 Q173.167 731.509 169.533 731.509 M169.533 727.806 Q175.343 727.806 178.399 732.412 Q181.478 736.995 181.478 745.745 Q181.478 754.472 178.399 759.078 Q175.343 763.662 169.533 763.662 Q163.723 763.662 160.644 759.078 Q157.589 754.472 157.589 745.745 Q157.589 736.995 160.644 732.412 Q163.723 727.806 169.533 727.806 Z\" fill=\"#000000\" fill-rule=\"evenodd\" fill-opacity=\"1\" /><path clip-path=\"url(#clip930)\" d=\"M 0 0 M56.6171 499.122 L72.9365 499.122 L72.9365 503.057 L50.9921 503.057 L50.9921 499.122 Q53.6541 496.368 58.2375 491.738 Q62.8439 487.085 64.0245 485.743 Q66.2698 483.22 67.1494 481.483 Q68.0522 479.724 68.0522 478.034 Q68.0522 475.28 66.1078 473.544 Q64.1865 471.808 61.0847 471.808 Q58.8856 471.808 56.4319 472.571 Q54.0014 473.335 51.2236 474.886 L51.2236 470.164 Q54.0477 469.03 56.5014 468.451 Q58.955 467.872 60.9921 467.872 Q66.3624 467.872 69.5568 470.558 Q72.7513 473.243 72.7513 477.733 Q72.7513 479.863 71.9411 481.784 Q71.1541 483.682 69.0476 486.275 Q68.4689 486.946 65.367 490.164 Q62.2652 493.358 56.6171 499.122 Z\" fill=\"#000000\" fill-rule=\"evenodd\" fill-opacity=\"1\" /><path clip-path=\"url(#clip930)\" d=\"M 0 0 M90.853 472.571 L79.0475 491.02 L90.853 491.02 L90.853 472.571 M89.6262 468.497 L95.5058 468.497 L95.5058 491.02 L100.436 491.02 L100.436 494.909 L95.5058 494.909 L95.5058 503.057 L90.853 503.057 L90.853 494.909 L75.2513 494.909 L75.2513 490.395 L89.6262 468.497 Z\" fill=\"#000000\" fill-rule=\"evenodd\" fill-opacity=\"1\" /><path clip-path=\"url(#clip930)\" d=\"M 0 0 M115.506 471.576 Q111.895 471.576 110.066 475.141 Q108.26 478.683 108.26 485.812 Q108.26 492.919 110.066 496.483 Q111.895 500.025 115.506 500.025 Q119.14 500.025 120.945 496.483 Q122.774 492.919 122.774 485.812 Q122.774 478.683 120.945 475.141 Q119.14 471.576 115.506 471.576 M115.506 467.872 Q121.316 467.872 124.371 472.479 Q127.45 477.062 127.45 485.812 Q127.45 494.539 124.371 499.145 Q121.316 503.729 115.506 503.729 Q109.696 503.729 106.617 499.145 Q103.561 494.539 103.561 485.812 Q103.561 477.062 106.617 472.479 Q109.696 467.872 115.506 467.872 Z\" fill=\"#000000\" fill-rule=\"evenodd\" fill-opacity=\"1\" /><path clip-path=\"url(#clip930)\" d=\"M 0 0 M142.519 471.576 Q138.908 471.576 137.08 475.141 Q135.274 478.683 135.274 485.812 Q135.274 492.919 137.08 496.483 Q138.908 500.025 142.519 500.025 Q146.154 500.025 147.959 496.483 Q149.788 492.919 149.788 485.812 Q149.788 478.683 147.959 475.141 Q146.154 471.576 142.519 471.576 M142.519 467.872 Q148.33 467.872 151.385 472.479 Q154.464 477.062 154.464 485.812 Q154.464 494.539 151.385 499.145 Q148.33 503.729 142.519 503.729 Q136.709 503.729 133.631 499.145 Q130.575 494.539 130.575 485.812 Q130.575 477.062 133.631 472.479 Q136.709 467.872 142.519 467.872 Z\" fill=\"#000000\" fill-rule=\"evenodd\" fill-opacity=\"1\" /><path clip-path=\"url(#clip930)\" d=\"M 0 0 M169.533 471.576 Q165.922 471.576 164.093 475.141 Q162.288 478.683 162.288 485.812 Q162.288 492.919 164.093 496.483 Q165.922 500.025 169.533 500.025 Q173.167 500.025 174.973 496.483 Q176.802 492.919 176.802 485.812 Q176.802 478.683 174.973 475.141 Q173.167 471.576 169.533 471.576 M169.533 467.872 Q175.343 467.872 178.399 472.479 Q181.478 477.062 181.478 485.812 Q181.478 494.539 178.399 499.145 Q175.343 503.729 169.533 503.729 Q163.723 503.729 160.644 499.145 Q157.589 494.539 157.589 485.812 Q157.589 477.062 160.644 472.479 Q163.723 467.872 169.533 467.872 Z\" fill=\"#000000\" fill-rule=\"evenodd\" fill-opacity=\"1\" /><path clip-path=\"url(#clip930)\" d=\"M 0 0 M56.9412 239.189 L73.2605 239.189 L73.2605 243.124 L51.3162 243.124 L51.3162 239.189 Q53.9782 236.434 58.5615 231.805 Q63.168 227.152 64.3485 225.81 Q66.5939 223.286 67.4735 221.55 Q68.3763 219.791 68.3763 218.101 Q68.3763 215.347 66.4319 213.611 Q64.5106 211.874 61.4087 211.874 Q59.2097 211.874 56.756 212.638 Q54.3254 213.402 51.5477 214.953 L51.5477 210.231 Q54.3717 209.097 56.8254 208.518 Q59.2791 207.939 61.3161 207.939 Q66.6865 207.939 69.8809 210.624 Q73.0753 213.31 73.0753 217.8 Q73.0753 219.93 72.2652 221.851 Q71.4781 223.749 69.3717 226.342 Q68.793 227.013 65.6911 230.231 Q62.5893 233.425 56.9412 239.189 Z\" fill=\"#000000\" fill-rule=\"evenodd\" fill-opacity=\"1\" /><path clip-path=\"url(#clip930)\" d=\"M 0 0 M88.9086 223.981 Q85.7605 223.981 83.9086 226.134 Q82.0799 228.286 82.0799 232.036 Q82.0799 235.763 83.9086 237.939 Q85.7605 240.092 88.9086 240.092 Q92.0567 240.092 93.8854 237.939 Q95.7373 235.763 95.7373 232.036 Q95.7373 228.286 93.8854 226.134 Q92.0567 223.981 88.9086 223.981 M98.1909 209.328 L98.1909 213.587 Q96.4317 212.754 94.6262 212.314 Q92.8438 211.874 91.0845 211.874 Q86.4549 211.874 84.0012 214.999 Q81.5707 218.124 81.2234 224.444 Q82.5892 222.43 84.6494 221.365 Q86.7095 220.277 89.1864 220.277 Q94.3947 220.277 97.4039 223.448 Q100.436 226.597 100.436 232.036 Q100.436 237.36 97.2882 240.578 Q94.14 243.796 88.9086 243.796 Q82.9133 243.796 79.742 239.212 Q76.5707 234.606 76.5707 225.879 Q76.5707 217.685 80.4596 212.823 Q84.3484 207.939 90.8993 207.939 Q92.6586 207.939 94.441 208.286 Q96.2465 208.634 98.1909 209.328 Z\" fill=\"#000000\" fill-rule=\"evenodd\" fill-opacity=\"1\" /><path clip-path=\"url(#clip930)\" d=\"M 0 0 M115.506 211.643 Q111.895 211.643 110.066 215.208 Q108.26 218.749 108.26 225.879 Q108.26 232.985 110.066 236.55 Q111.895 240.092 115.506 240.092 Q119.14 240.092 120.945 236.55 Q122.774 232.985 122.774 225.879 Q122.774 218.749 120.945 215.208 Q119.14 211.643 115.506 211.643 M115.506 207.939 Q121.316 207.939 124.371 212.546 Q127.45 217.129 127.45 225.879 Q127.45 234.606 124.371 239.212 Q121.316 243.796 115.506 243.796 Q109.696 243.796 106.617 239.212 Q103.561 234.606 103.561 225.879 Q103.561 217.129 106.617 212.546 Q109.696 207.939 115.506 207.939 Z\" fill=\"#000000\" fill-rule=\"evenodd\" fill-opacity=\"1\" /><path clip-path=\"url(#clip930)\" d=\"M 0 0 M142.519 211.643 Q138.908 211.643 137.08 215.208 Q135.274 218.749 135.274 225.879 Q135.274 232.985 137.08 236.55 Q138.908 240.092 142.519 240.092 Q146.154 240.092 147.959 236.55 Q149.788 232.985 149.788 225.879 Q149.788 218.749 147.959 215.208 Q146.154 211.643 142.519 211.643 M142.519 207.939 Q148.33 207.939 151.385 212.546 Q154.464 217.129 154.464 225.879 Q154.464 234.606 151.385 239.212 Q148.33 243.796 142.519 243.796 Q136.709 243.796 133.631 239.212 Q130.575 234.606 130.575 225.879 Q130.575 217.129 133.631 212.546 Q136.709 207.939 142.519 207.939 Z\" fill=\"#000000\" fill-rule=\"evenodd\" fill-opacity=\"1\" /><path clip-path=\"url(#clip930)\" d=\"M 0 0 M169.533 211.643 Q165.922 211.643 164.093 215.208 Q162.288 218.749 162.288 225.879 Q162.288 232.985 164.093 236.55 Q165.922 240.092 169.533 240.092 Q173.167 240.092 174.973 236.55 Q176.802 232.985 176.802 225.879 Q176.802 218.749 174.973 215.208 Q173.167 211.643 169.533 211.643 M169.533 207.939 Q175.343 207.939 178.399 212.546 Q181.478 217.129 181.478 225.879 Q181.478 234.606 178.399 239.212 Q175.343 243.796 169.533 243.796 Q163.723 243.796 160.644 239.212 Q157.589 234.606 157.589 225.879 Q157.589 217.129 160.644 212.546 Q163.723 207.939 169.533 207.939 Z\" fill=\"#000000\" fill-rule=\"evenodd\" fill-opacity=\"1\" /><polyline clip-path=\"url(#clip932)\" style=\"stroke:#008000; stroke-width:8; stroke-opacity:1; fill:none\" points=\"\n",
       "  274.959,86.1857 514.467,323.476 753.975,522.671 993.483,754.143 1232.99,871.449 1472.5,1016.94 1712.01,1145.33 1951.51,1309.59 2191.02,1384.24 \n",
       "  \"/>\n",
       "<path clip-path=\"url(#clip930)\" d=\"\n",
       "M285.178 214.069 L924.04 214.069 L924.04 93.1086 L285.178 93.1086  Z\n",
       "  \" fill=\"#ffffff\" fill-rule=\"evenodd\" fill-opacity=\"1\"/>\n",
       "<polyline clip-path=\"url(#clip930)\" style=\"stroke:#000000; stroke-width:4; stroke-opacity:1; fill:none\" points=\"\n",
       "  285.178,214.069 924.04,214.069 924.04,93.1086 285.178,93.1086 285.178,214.069 \n",
       "  \"/>\n",
       "<polyline clip-path=\"url(#clip930)\" style=\"stroke:#008000; stroke-width:4; stroke-opacity:1; fill:none\" points=\"\n",
       "  307.745,153.589 443.147,153.589 \n",
       "  \"/>\n",
       "<path clip-path=\"url(#clip930)\" d=\"M 0 0 M465.714 136.309 L494.95 136.309 L494.95 140.244 L482.682 140.244 L482.682 170.869 L477.983 170.869 L477.983 140.244 L465.714 140.244 L465.714 136.309 Z\" fill=\"#000000\" fill-rule=\"evenodd\" fill-opacity=\"1\" /><path clip-path=\"url(#clip930)\" d=\"M 0 0 M501.408 147.929 Q497.982 147.929 495.992 150.614 Q494.001 153.276 494.001 157.929 Q494.001 162.582 495.969 165.267 Q497.959 167.929 501.408 167.929 Q504.811 167.929 506.802 165.244 Q508.793 162.558 508.793 157.929 Q508.793 153.322 506.802 150.637 Q504.811 147.929 501.408 147.929 M501.408 144.318 Q506.964 144.318 510.135 147.929 Q513.306 151.54 513.306 157.929 Q513.306 164.295 510.135 167.929 Q506.964 171.54 501.408 171.54 Q495.83 171.54 492.658 167.929 Q489.51 164.295 489.51 157.929 Q489.51 151.54 492.658 147.929 Q495.83 144.318 501.408 144.318 Z\" fill=\"#000000\" fill-rule=\"evenodd\" fill-opacity=\"1\" /><path clip-path=\"url(#clip930)\" d=\"M 0 0 M521.987 137.582 L521.987 144.943 L530.76 144.943 L530.76 148.253 L521.987 148.253 L521.987 162.327 Q521.987 165.498 522.843 166.401 Q523.723 167.304 526.385 167.304 L530.76 167.304 L530.76 170.869 L526.385 170.869 Q521.455 170.869 519.58 169.04 Q517.705 167.188 517.705 162.327 L517.705 148.253 L514.58 148.253 L514.58 144.943 L517.705 144.943 L517.705 137.582 L521.987 137.582 Z\" fill=\"#000000\" fill-rule=\"evenodd\" fill-opacity=\"1\" /><path clip-path=\"url(#clip930)\" d=\"M 0 0 M547.01 157.836 Q541.848 157.836 539.857 159.017 Q537.866 160.197 537.866 163.045 Q537.866 165.313 539.348 166.656 Q540.853 167.975 543.422 167.975 Q546.964 167.975 549.093 165.475 Q551.246 162.952 551.246 158.785 L551.246 157.836 L547.01 157.836 M555.505 156.077 L555.505 170.869 L551.246 170.869 L551.246 166.933 Q549.788 169.295 547.612 170.429 Q545.436 171.54 542.288 171.54 Q538.306 171.54 535.945 169.318 Q533.607 167.072 533.607 163.322 Q533.607 158.947 536.524 156.725 Q539.464 154.503 545.274 154.503 L551.246 154.503 L551.246 154.086 Q551.246 151.147 549.302 149.549 Q547.38 147.929 543.885 147.929 Q541.663 147.929 539.556 148.461 Q537.45 148.994 535.505 150.059 L535.505 146.123 Q537.843 145.221 540.042 144.781 Q542.241 144.318 544.325 144.318 Q549.95 144.318 552.728 147.234 Q555.505 150.151 555.505 156.077 Z\" fill=\"#000000\" fill-rule=\"evenodd\" fill-opacity=\"1\" /><path clip-path=\"url(#clip930)\" d=\"M 0 0 M559.973 134.85 L564.232 134.85 L564.232 170.869 L559.973 170.869 L559.973 134.85 Z\" fill=\"#000000\" fill-rule=\"evenodd\" fill-opacity=\"1\" /><path clip-path=\"url(#clip930)\" d=\"M 0 0 M604.672 137.443 L604.672 142.003 Q602.01 140.73 599.649 140.105 Q597.287 139.48 595.088 139.48 Q591.269 139.48 589.186 140.961 Q587.125 142.443 587.125 145.174 Q587.125 147.466 588.491 148.647 Q589.88 149.804 593.723 150.522 L596.547 151.1 Q601.778 152.096 604.255 154.619 Q606.755 157.119 606.755 161.332 Q606.755 166.355 603.375 168.947 Q600.019 171.54 593.514 171.54 Q591.061 171.54 588.283 170.984 Q585.528 170.429 582.565 169.341 L582.565 164.526 Q585.413 166.123 588.144 166.933 Q590.875 167.744 593.514 167.744 Q597.519 167.744 599.695 166.17 Q601.871 164.596 601.871 161.679 Q601.871 159.133 600.297 157.697 Q598.746 156.262 595.181 155.545 L592.334 154.989 Q587.102 153.947 584.764 151.725 Q582.426 149.503 582.426 145.545 Q582.426 140.961 585.644 138.322 Q588.885 135.684 594.556 135.684 Q596.987 135.684 599.51 136.123 Q602.033 136.563 604.672 137.443 Z\" fill=\"#000000\" fill-rule=\"evenodd\" fill-opacity=\"1\" /><path clip-path=\"url(#clip930)\" d=\"M 0 0 M613.769 157.929 Q613.769 162.628 615.69 165.313 Q617.635 167.975 621.014 167.975 Q624.394 167.975 626.338 165.313 Q628.283 162.628 628.283 157.929 Q628.283 153.23 626.338 150.568 Q624.394 147.883 621.014 147.883 Q617.635 147.883 615.69 150.568 Q613.769 153.23 613.769 157.929 M628.283 166.98 Q626.94 169.295 624.88 170.429 Q622.843 171.54 619.973 171.54 Q615.273 171.54 612.311 167.79 Q609.371 164.04 609.371 157.929 Q609.371 151.818 612.311 148.068 Q615.273 144.318 619.973 144.318 Q622.843 144.318 624.88 145.452 Q626.94 146.563 628.283 148.878 L628.283 144.943 L632.542 144.943 L632.542 180.73 L628.283 180.73 L628.283 166.98 Z\" fill=\"#000000\" fill-rule=\"evenodd\" fill-opacity=\"1\" /><path clip-path=\"url(#clip930)\" d=\"M 0 0 M636.57 160.637 L636.57 144.943 L640.829 144.943 L640.829 160.475 Q640.829 164.156 642.264 166.008 Q643.699 167.836 646.57 167.836 Q650.019 167.836 652.009 165.637 Q654.023 163.438 654.023 159.642 L654.023 144.943 L658.283 144.943 L658.283 170.869 L654.023 170.869 L654.023 166.887 Q652.472 169.248 650.412 170.406 Q648.375 171.54 645.667 171.54 Q641.199 171.54 638.884 168.762 Q636.57 165.984 636.57 160.637 M647.287 144.318 L647.287 144.318 Z\" fill=\"#000000\" fill-rule=\"evenodd\" fill-opacity=\"1\" /><path clip-path=\"url(#clip930)\" d=\"M 0 0 M674.532 157.836 Q669.37 157.836 667.38 159.017 Q665.389 160.197 665.389 163.045 Q665.389 165.313 666.87 166.656 Q668.375 167.975 670.944 167.975 Q674.486 167.975 676.616 165.475 Q678.769 162.952 678.769 158.785 L678.769 157.836 L674.532 157.836 M683.028 156.077 L683.028 170.869 L678.769 170.869 L678.769 166.933 Q677.31 169.295 675.134 170.429 Q672.958 171.54 669.81 171.54 Q665.829 171.54 663.468 169.318 Q661.13 167.072 661.13 163.322 Q661.13 158.947 664.046 156.725 Q666.986 154.503 672.796 154.503 L678.769 154.503 L678.769 154.086 Q678.769 151.147 676.824 149.549 Q674.903 147.929 671.407 147.929 Q669.185 147.929 667.079 148.461 Q664.972 148.994 663.028 150.059 L663.028 146.123 Q665.366 145.221 667.565 144.781 Q669.764 144.318 671.847 144.318 Q677.472 144.318 680.25 147.234 Q683.028 150.151 683.028 156.077 Z\" fill=\"#000000\" fill-rule=\"evenodd\" fill-opacity=\"1\" /><path clip-path=\"url(#clip930)\" d=\"M 0 0 M702.518 148.924 Q701.801 148.508 700.944 148.322 Q700.111 148.114 699.092 148.114 Q695.481 148.114 693.537 150.475 Q691.616 152.813 691.616 157.211 L691.616 170.869 L687.333 170.869 L687.333 144.943 L691.616 144.943 L691.616 148.971 Q692.958 146.609 695.111 145.475 Q697.264 144.318 700.342 144.318 Q700.782 144.318 701.315 144.387 Q701.847 144.434 702.495 144.549 L702.518 148.924 Z\" fill=\"#000000\" fill-rule=\"evenodd\" fill-opacity=\"1\" /><path clip-path=\"url(#clip930)\" d=\"M 0 0 M728.12 156.841 L728.12 158.924 L708.537 158.924 Q708.815 163.322 711.176 165.637 Q713.56 167.929 717.796 167.929 Q720.25 167.929 722.541 167.327 Q724.856 166.725 727.125 165.521 L727.125 169.549 Q724.833 170.521 722.426 171.031 Q720.018 171.54 717.541 171.54 Q711.338 171.54 707.704 167.929 Q704.092 164.318 704.092 158.16 Q704.092 151.795 707.518 148.068 Q710.967 144.318 716.801 144.318 Q722.032 144.318 725.065 147.697 Q728.12 151.054 728.12 156.841 M723.861 155.591 Q723.815 152.096 721.893 150.012 Q719.995 147.929 716.847 147.929 Q713.282 147.929 711.129 149.943 Q709 151.957 708.676 155.614 L723.861 155.591 Z\" fill=\"#000000\" fill-rule=\"evenodd\" fill-opacity=\"1\" /><path clip-path=\"url(#clip930)\" d=\"M 0 0 M749.648 148.878 L749.648 134.85 L753.907 134.85 L753.907 170.869 L749.648 170.869 L749.648 166.98 Q748.305 169.295 746.245 170.429 Q744.208 171.54 741.338 171.54 Q736.639 171.54 733.676 167.79 Q730.736 164.04 730.736 157.929 Q730.736 151.818 733.676 148.068 Q736.639 144.318 741.338 144.318 Q744.208 144.318 746.245 145.452 Q748.305 146.563 749.648 148.878 M735.134 157.929 Q735.134 162.628 737.055 165.313 Q739 167.975 742.379 167.975 Q745.759 167.975 747.703 165.313 Q749.648 162.628 749.648 157.929 Q749.648 153.23 747.703 150.568 Q745.759 147.883 742.379 147.883 Q739 147.883 737.055 150.568 Q735.134 153.23 735.134 157.929 Z\" fill=\"#000000\" fill-rule=\"evenodd\" fill-opacity=\"1\" /><path clip-path=\"url(#clip930)\" d=\"M 0 0 M773.629 136.309 L795.481 136.309 L795.481 140.244 L778.305 140.244 L778.305 150.475 L794.763 150.475 L794.763 154.41 L778.305 154.41 L778.305 166.933 L795.898 166.933 L795.898 170.869 L773.629 170.869 L773.629 136.309 Z\" fill=\"#000000\" fill-rule=\"evenodd\" fill-opacity=\"1\" /><path clip-path=\"url(#clip930)\" d=\"M 0 0 M815.388 148.924 Q814.671 148.508 813.814 148.322 Q812.981 148.114 811.962 148.114 Q808.351 148.114 806.407 150.475 Q804.485 152.813 804.485 157.211 L804.485 170.869 L800.203 170.869 L800.203 144.943 L804.485 144.943 L804.485 148.971 Q805.828 146.609 807.981 145.475 Q810.134 144.318 813.212 144.318 Q813.652 144.318 814.184 144.387 Q814.717 144.434 815.365 144.549 L815.388 148.924 Z\" fill=\"#000000\" fill-rule=\"evenodd\" fill-opacity=\"1\" /><path clip-path=\"url(#clip930)\" d=\"M 0 0 M834.045 148.924 Q833.328 148.508 832.471 148.322 Q831.638 148.114 830.62 148.114 Q827.008 148.114 825.064 150.475 Q823.143 152.813 823.143 157.211 L823.143 170.869 L818.86 170.869 L818.86 144.943 L823.143 144.943 L823.143 148.971 Q824.485 146.609 826.638 145.475 Q828.791 144.318 831.87 144.318 Q832.309 144.318 832.842 144.387 Q833.374 144.434 834.022 144.549 L834.045 148.924 Z\" fill=\"#000000\" fill-rule=\"evenodd\" fill-opacity=\"1\" /><path clip-path=\"url(#clip930)\" d=\"M 0 0 M847.518 147.929 Q844.092 147.929 842.101 150.614 Q840.11 153.276 840.11 157.929 Q840.11 162.582 842.078 165.267 Q844.069 167.929 847.518 167.929 Q850.92 167.929 852.911 165.244 Q854.902 162.558 854.902 157.929 Q854.902 153.322 852.911 150.637 Q850.92 147.929 847.518 147.929 M847.518 144.318 Q853.073 144.318 856.244 147.929 Q859.416 151.54 859.416 157.929 Q859.416 164.295 856.244 167.929 Q853.073 171.54 847.518 171.54 Q841.939 171.54 838.768 167.929 Q835.62 164.295 835.62 157.929 Q835.62 151.54 838.768 147.929 Q841.939 144.318 847.518 144.318 Z\" fill=\"#000000\" fill-rule=\"evenodd\" fill-opacity=\"1\" /><path clip-path=\"url(#clip930)\" d=\"M 0 0 M878.906 148.924 Q878.189 148.508 877.332 148.322 Q876.499 148.114 875.48 148.114 Q871.869 148.114 869.925 150.475 Q868.004 152.813 868.004 157.211 L868.004 170.869 L863.721 170.869 L863.721 144.943 L868.004 144.943 L868.004 148.971 Q869.346 146.609 871.499 145.475 Q873.652 144.318 876.73 144.318 Q877.17 144.318 877.703 144.387 Q878.235 144.434 878.883 144.549 L878.906 148.924 Z\" fill=\"#000000\" fill-rule=\"evenodd\" fill-opacity=\"1\" /><path clip-path=\"url(#clip930)\" d=\"\n",
       "M217.478 1423.18 L2248.5 1423.18 L2248.5 47.2441 L217.478 47.2441  Z\n",
       "  \" fill=\"#000000\" fill-rule=\"evenodd\" fill-opacity=\"0\"/>\n",
       "<polyline clip-path=\"url(#clip932)\" style=\"stroke:#000000; stroke-width:2; stroke-opacity:0.1; fill:none\" points=\"\n",
       "  274.959,1423.18 274.959,47.2441 \n",
       "  \"/>\n",
       "<polyline clip-path=\"url(#clip932)\" style=\"stroke:#000000; stroke-width:2; stroke-opacity:0.1; fill:none\" points=\"\n",
       "  753.975,1423.18 753.975,47.2441 \n",
       "  \"/>\n",
       "<polyline clip-path=\"url(#clip932)\" style=\"stroke:#000000; stroke-width:2; stroke-opacity:0.1; fill:none\" points=\"\n",
       "  1232.99,1423.18 1232.99,47.2441 \n",
       "  \"/>\n",
       "<polyline clip-path=\"url(#clip932)\" style=\"stroke:#000000; stroke-width:2; stroke-opacity:0.1; fill:none\" points=\"\n",
       "  1712.01,1423.18 1712.01,47.2441 \n",
       "  \"/>\n",
       "<polyline clip-path=\"url(#clip932)\" style=\"stroke:#000000; stroke-width:2; stroke-opacity:0.1; fill:none\" points=\"\n",
       "  2191.02,1423.18 2191.02,47.2441 \n",
       "  \"/>\n",
       "<polyline clip-path=\"url(#clip930)\" style=\"stroke:#000000; stroke-width:4; stroke-opacity:1; fill:none\" points=\"\n",
       "  217.478,1423.18 2248.5,1423.18 \n",
       "  \"/>\n",
       "<polyline clip-path=\"url(#clip930)\" style=\"stroke:#000000; stroke-width:4; stroke-opacity:1; fill:none\" points=\"\n",
       "  274.959,1423.18 274.959,1406.67 \n",
       "  \"/>\n",
       "<polyline clip-path=\"url(#clip930)\" style=\"stroke:#000000; stroke-width:4; stroke-opacity:1; fill:none\" points=\"\n",
       "  753.975,1423.18 753.975,1406.67 \n",
       "  \"/>\n",
       "<polyline clip-path=\"url(#clip930)\" style=\"stroke:#000000; stroke-width:4; stroke-opacity:1; fill:none\" points=\"\n",
       "  1232.99,1423.18 1232.99,1406.67 \n",
       "  \"/>\n",
       "<polyline clip-path=\"url(#clip930)\" style=\"stroke:#000000; stroke-width:4; stroke-opacity:1; fill:none\" points=\"\n",
       "  1712.01,1423.18 1712.01,1406.67 \n",
       "  \"/>\n",
       "<polyline clip-path=\"url(#clip930)\" style=\"stroke:#000000; stroke-width:4; stroke-opacity:1; fill:none\" points=\"\n",
       "  2191.02,1423.18 2191.02,1406.67 \n",
       "  \"/>\n",
       "<path clip-path=\"url(#clip930)\" d=\"M 0 0 M269.612 1479.92 L285.932 1479.92 L285.932 1483.85 L263.987 1483.85 L263.987 1479.92 Q266.649 1477.16 271.233 1472.53 Q275.839 1467.88 277.02 1466.54 Q279.265 1464.01 280.145 1462.28 Q281.047 1460.52 281.047 1458.83 Q281.047 1456.07 279.103 1454.34 Q277.182 1452.6 274.08 1452.6 Q271.881 1452.6 269.427 1453.37 Q266.996 1454.13 264.219 1455.68 L264.219 1450.96 Q267.043 1449.82 269.496 1449.25 Q271.95 1448.67 273.987 1448.67 Q279.358 1448.67 282.552 1451.35 Q285.746 1454.04 285.746 1458.53 Q285.746 1460.66 284.936 1462.58 Q284.149 1464.48 282.043 1467.07 Q281.464 1467.74 278.362 1470.96 Q275.26 1474.15 269.612 1479.92 Z\" fill=\"#000000\" fill-rule=\"evenodd\" fill-opacity=\"1\" /><path clip-path=\"url(#clip930)\" d=\"M 0 0 M756.984 1453.37 L745.179 1471.81 L756.984 1471.81 L756.984 1453.37 M755.757 1449.29 L761.637 1449.29 L761.637 1471.81 L766.568 1471.81 L766.568 1475.7 L761.637 1475.7 L761.637 1483.85 L756.984 1483.85 L756.984 1475.7 L741.383 1475.7 L741.383 1471.19 L755.757 1449.29 Z\" fill=\"#000000\" fill-rule=\"evenodd\" fill-opacity=\"1\" /><path clip-path=\"url(#clip930)\" d=\"M 0 0 M1233.4 1464.71 Q1230.25 1464.71 1228.4 1466.86 Q1226.57 1469.01 1226.57 1472.76 Q1226.57 1476.49 1228.4 1478.67 Q1230.25 1480.82 1233.4 1480.82 Q1236.54 1480.82 1238.37 1478.67 Q1240.22 1476.49 1240.22 1472.76 Q1240.22 1469.01 1238.37 1466.86 Q1236.54 1464.71 1233.4 1464.71 M1242.68 1450.06 L1242.68 1454.31 Q1240.92 1453.48 1239.11 1453.04 Q1237.33 1452.6 1235.57 1452.6 Q1230.94 1452.6 1228.49 1455.73 Q1226.06 1458.85 1225.71 1465.17 Q1227.08 1463.16 1229.14 1462.09 Q1231.2 1461 1233.67 1461 Q1238.88 1461 1241.89 1464.18 Q1244.92 1467.32 1244.92 1472.76 Q1244.92 1478.09 1241.78 1481.31 Q1238.63 1484.52 1233.4 1484.52 Q1227.4 1484.52 1224.23 1479.94 Q1221.06 1475.33 1221.06 1466.61 Q1221.06 1458.41 1224.95 1453.55 Q1228.84 1448.67 1235.39 1448.67 Q1237.15 1448.67 1238.93 1449.01 Q1240.73 1449.36 1242.68 1450.06 Z\" fill=\"#000000\" fill-rule=\"evenodd\" fill-opacity=\"1\" /><path clip-path=\"url(#clip930)\" d=\"M 0 0 M1712.01 1467.44 Q1708.67 1467.44 1706.75 1469.22 Q1704.85 1471 1704.85 1474.13 Q1704.85 1477.25 1706.75 1479.04 Q1708.67 1480.82 1712.01 1480.82 Q1715.34 1480.82 1717.26 1479.04 Q1719.18 1477.23 1719.18 1474.13 Q1719.18 1471 1717.26 1469.22 Q1715.36 1467.44 1712.01 1467.44 M1707.33 1465.45 Q1704.32 1464.71 1702.63 1462.65 Q1700.96 1460.59 1700.96 1457.63 Q1700.96 1453.48 1703.9 1451.07 Q1706.87 1448.67 1712.01 1448.67 Q1717.17 1448.67 1720.11 1451.07 Q1723.05 1453.48 1723.05 1457.63 Q1723.05 1460.59 1721.36 1462.65 Q1719.69 1464.71 1716.71 1465.45 Q1720.09 1466.24 1721.96 1468.53 Q1723.86 1470.82 1723.86 1474.13 Q1723.86 1479.15 1720.78 1481.84 Q1717.72 1484.52 1712.01 1484.52 Q1706.29 1484.52 1703.21 1481.84 Q1700.15 1479.15 1700.15 1474.13 Q1700.15 1470.82 1702.05 1468.53 Q1703.95 1466.24 1707.33 1465.45 M1705.62 1458.06 Q1705.62 1460.75 1707.28 1462.25 Q1708.97 1463.76 1712.01 1463.76 Q1715.02 1463.76 1716.71 1462.25 Q1718.42 1460.75 1718.42 1458.06 Q1718.42 1455.38 1716.71 1453.88 Q1715.02 1452.37 1712.01 1452.37 Q1708.97 1452.37 1707.28 1453.88 Q1705.62 1455.38 1705.62 1458.06 Z\" fill=\"#000000\" fill-rule=\"evenodd\" fill-opacity=\"1\" /><path clip-path=\"url(#clip930)\" d=\"M 0 0 M2167.9 1479.92 L2175.54 1479.92 L2175.54 1453.55 L2167.23 1455.22 L2167.23 1450.96 L2175.49 1449.29 L2180.17 1449.29 L2180.17 1479.92 L2187.8 1479.92 L2187.8 1483.85 L2167.9 1483.85 L2167.9 1479.92 Z\" fill=\"#000000\" fill-rule=\"evenodd\" fill-opacity=\"1\" /><path clip-path=\"url(#clip930)\" d=\"M 0 0 M2202.87 1452.37 Q2199.26 1452.37 2197.43 1455.94 Q2195.63 1459.48 2195.63 1466.61 Q2195.63 1473.71 2197.43 1477.28 Q2199.26 1480.82 2202.87 1480.82 Q2206.51 1480.82 2208.31 1477.28 Q2210.14 1473.71 2210.14 1466.61 Q2210.14 1459.48 2208.31 1455.94 Q2206.51 1452.37 2202.87 1452.37 M2202.87 1448.67 Q2208.68 1448.67 2211.74 1453.27 Q2214.82 1457.86 2214.82 1466.61 Q2214.82 1475.33 2211.74 1479.94 Q2208.68 1484.52 2202.87 1484.52 Q2197.06 1484.52 2193.99 1479.94 Q2190.93 1475.33 2190.93 1466.61 Q2190.93 1457.86 2193.99 1453.27 Q2197.06 1448.67 2202.87 1448.67 Z\" fill=\"#000000\" fill-rule=\"evenodd\" fill-opacity=\"1\" /><path clip-path=\"url(#clip930)\" d=\"M 0 0 M947.552 1508.52 L956.21 1508.52 L977.28 1548.28 L977.28 1508.52 L983.519 1508.52 L983.519 1556.04 L974.861 1556.04 L953.791 1516.29 L953.791 1556.04 L947.552 1556.04 L947.552 1508.52 Z\" fill=\"#000000\" fill-rule=\"evenodd\" fill-opacity=\"1\" /><path clip-path=\"url(#clip930)\" d=\"M 0 0 M989.057 1541.98 L989.057 1520.4 L994.913 1520.4 L994.913 1541.75 Q994.913 1546.81 996.887 1549.36 Q998.86 1551.87 1002.81 1551.87 Q1007.55 1551.87 1010.29 1548.85 Q1013.06 1545.83 1013.06 1540.61 L1013.06 1520.4 L1018.91 1520.4 L1018.91 1556.04 L1013.06 1556.04 L1013.06 1550.57 Q1010.92 1553.82 1008.09 1555.41 Q1005.29 1556.97 1001.57 1556.97 Q995.423 1556.97 992.24 1553.15 Q989.057 1549.33 989.057 1541.98 M1003.79 1519.54 L1003.79 1519.54 Z\" fill=\"#000000\" fill-rule=\"evenodd\" fill-opacity=\"1\" /><path clip-path=\"url(#clip930)\" d=\"M 0 0 M1052.81 1527.24 Q1055.01 1523.29 1058.06 1521.41 Q1061.12 1519.54 1065.25 1519.54 Q1070.82 1519.54 1073.85 1523.45 Q1076.87 1527.33 1076.87 1534.53 L1076.87 1556.04 L1070.98 1556.04 L1070.98 1534.72 Q1070.98 1529.59 1069.17 1527.11 Q1067.36 1524.63 1063.63 1524.63 Q1059.08 1524.63 1056.44 1527.65 Q1053.8 1530.68 1053.8 1535.9 L1053.8 1556.04 L1047.91 1556.04 L1047.91 1534.72 Q1047.91 1529.56 1046.09 1527.11 Q1044.28 1524.63 1040.49 1524.63 Q1036 1524.63 1033.36 1527.68 Q1030.72 1530.71 1030.72 1535.9 L1030.72 1556.04 L1024.83 1556.04 L1024.83 1520.4 L1030.72 1520.4 L1030.72 1525.93 Q1032.73 1522.66 1035.53 1521.1 Q1038.33 1519.54 1042.18 1519.54 Q1046.06 1519.54 1048.77 1521.51 Q1051.5 1523.48 1052.81 1527.24 Z\" fill=\"#000000\" fill-rule=\"evenodd\" fill-opacity=\"1\" /><path clip-path=\"url(#clip930)\" d=\"M 0 0 M1108.6 1538.25 Q1108.6 1531.79 1105.93 1528.13 Q1103.29 1524.44 1098.64 1524.44 Q1094 1524.44 1091.32 1528.13 Q1088.68 1531.79 1088.68 1538.25 Q1088.68 1544.71 1091.32 1548.4 Q1094 1552.07 1098.64 1552.07 Q1103.29 1552.07 1105.93 1548.4 Q1108.6 1544.71 1108.6 1538.25 M1088.68 1525.81 Q1090.53 1522.62 1093.33 1521.1 Q1096.16 1519.54 1100.07 1519.54 Q1106.57 1519.54 1110.61 1524.69 Q1114.68 1529.85 1114.68 1538.25 Q1114.68 1546.65 1110.61 1551.81 Q1106.57 1556.97 1100.07 1556.97 Q1096.16 1556.97 1093.33 1555.44 Q1090.53 1553.88 1088.68 1550.7 L1088.68 1556.04 L1082.79 1556.04 L1082.79 1506.52 L1088.68 1506.52 L1088.68 1525.81 Z\" fill=\"#000000\" fill-rule=\"evenodd\" fill-opacity=\"1\" /><path clip-path=\"url(#clip930)\" d=\"M 0 0 M1151.32 1536.76 L1151.32 1539.62 L1124.39 1539.62 Q1124.77 1545.67 1128.02 1548.85 Q1131.3 1552 1137.12 1552 Q1140.5 1552 1143.65 1551.17 Q1146.83 1550.35 1149.95 1548.69 L1149.95 1554.23 Q1146.8 1555.57 1143.49 1556.27 Q1140.18 1556.97 1136.77 1556.97 Q1128.24 1556.97 1123.25 1552 Q1118.28 1547.04 1118.28 1538.57 Q1118.28 1529.82 1122.99 1524.69 Q1127.73 1519.54 1135.75 1519.54 Q1142.95 1519.54 1147.12 1524.18 Q1151.32 1528.8 1151.32 1536.76 M1145.46 1535.04 Q1145.4 1530.23 1142.76 1527.37 Q1140.15 1524.5 1135.82 1524.5 Q1130.92 1524.5 1127.96 1527.27 Q1125.03 1530.04 1124.58 1535.07 L1145.46 1535.04 Z\" fill=\"#000000\" fill-rule=\"evenodd\" fill-opacity=\"1\" /><path clip-path=\"url(#clip930)\" d=\"M 0 0 M1178.12 1525.87 Q1177.13 1525.3 1175.95 1525.04 Q1174.81 1524.76 1173.41 1524.76 Q1168.44 1524.76 1165.77 1528 Q1163.13 1531.22 1163.13 1537.27 L1163.13 1556.04 L1157.24 1556.04 L1157.24 1520.4 L1163.13 1520.4 L1163.13 1525.93 Q1164.97 1522.69 1167.93 1521.13 Q1170.89 1519.54 1175.13 1519.54 Q1175.73 1519.54 1176.46 1519.63 Q1177.2 1519.7 1178.09 1519.85 L1178.12 1525.87 Z\" fill=\"#000000\" fill-rule=\"evenodd\" fill-opacity=\"1\" /><path clip-path=\"url(#clip930)\" d=\"M 0 0 M1218.8 1524.5 Q1214.08 1524.5 1211.35 1528.19 Q1208.61 1531.85 1208.61 1538.25 Q1208.61 1544.65 1211.32 1548.34 Q1214.05 1552 1218.8 1552 Q1223.47 1552 1226.21 1548.31 Q1228.95 1544.62 1228.95 1538.25 Q1228.95 1531.92 1226.21 1528.23 Q1223.47 1524.5 1218.8 1524.5 M1218.8 1519.54 Q1226.43 1519.54 1230.79 1524.5 Q1235.16 1529.47 1235.16 1538.25 Q1235.16 1547 1230.79 1552 Q1226.43 1556.97 1218.8 1556.97 Q1211.12 1556.97 1206.76 1552 Q1202.44 1547 1202.44 1538.25 Q1202.44 1529.47 1206.76 1524.5 Q1211.12 1519.54 1218.8 1519.54 Z\" fill=\"#000000\" fill-rule=\"evenodd\" fill-opacity=\"1\" /><path clip-path=\"url(#clip930)\" d=\"M 0 0 M1259.34 1506.52 L1259.34 1511.39 L1253.74 1511.39 Q1250.59 1511.39 1249.35 1512.66 Q1248.14 1513.93 1248.14 1517.24 L1248.14 1520.4 L1257.79 1520.4 L1257.79 1524.95 L1248.14 1524.95 L1248.14 1556.04 L1242.25 1556.04 L1242.25 1524.95 L1236.65 1524.95 L1236.65 1520.4 L1242.25 1520.4 L1242.25 1517.91 Q1242.25 1511.96 1245.02 1509.26 Q1247.79 1506.52 1253.81 1506.52 L1259.34 1506.52 Z\" fill=\"#000000\" fill-rule=\"evenodd\" fill-opacity=\"1\" /><path clip-path=\"url(#clip930)\" d=\"M 0 0 M1322.05 1512.18 L1322.05 1518.96 Q1318.8 1515.94 1315.11 1514.44 Q1311.45 1512.95 1307.31 1512.95 Q1299.16 1512.95 1294.83 1517.95 Q1290.5 1522.91 1290.5 1532.33 Q1290.5 1541.72 1294.83 1546.72 Q1299.16 1551.68 1307.31 1551.68 Q1311.45 1551.68 1315.11 1550.19 Q1318.8 1548.69 1322.05 1545.67 L1322.05 1552.38 Q1318.67 1554.68 1314.89 1555.82 Q1311.13 1556.97 1306.93 1556.97 Q1296.14 1556.97 1289.93 1550.38 Q1283.73 1543.76 1283.73 1532.33 Q1283.73 1520.87 1289.93 1514.28 Q1296.14 1507.66 1306.93 1507.66 Q1311.19 1507.66 1314.95 1508.81 Q1318.74 1509.92 1322.05 1512.18 Z\" fill=\"#000000\" fill-rule=\"evenodd\" fill-opacity=\"1\" /><path clip-path=\"url(#clip930)\" d=\"M 0 0 M1328.19 1506.52 L1334.05 1506.52 L1334.05 1556.04 L1328.19 1556.04 L1328.19 1506.52 Z\" fill=\"#000000\" fill-rule=\"evenodd\" fill-opacity=\"1\" /><path clip-path=\"url(#clip930)\" d=\"M 0 0 M1339.58 1541.98 L1339.58 1520.4 L1345.44 1520.4 L1345.44 1541.75 Q1345.44 1546.81 1347.41 1549.36 Q1349.39 1551.87 1353.33 1551.87 Q1358.08 1551.87 1360.81 1548.85 Q1363.58 1545.83 1363.58 1540.61 L1363.58 1520.4 L1369.44 1520.4 L1369.44 1556.04 L1363.58 1556.04 L1363.58 1550.57 Q1361.45 1553.82 1358.62 1555.41 Q1355.82 1556.97 1352.09 1556.97 Q1345.95 1556.97 1342.77 1553.15 Q1339.58 1549.33 1339.58 1541.98 M1354.32 1519.54 L1354.32 1519.54 Z\" fill=\"#000000\" fill-rule=\"evenodd\" fill-opacity=\"1\" /><path clip-path=\"url(#clip930)\" d=\"M 0 0 M1398.31 1521.45 L1398.31 1526.98 Q1395.83 1525.71 1393.15 1525.07 Q1390.48 1524.44 1387.61 1524.44 Q1383.25 1524.44 1381.06 1525.77 Q1378.89 1527.11 1378.89 1529.79 Q1378.89 1531.82 1380.45 1533 Q1382.01 1534.15 1386.72 1535.2 L1388.73 1535.64 Q1394.97 1536.98 1397.58 1539.43 Q1400.22 1541.85 1400.22 1546.21 Q1400.22 1551.17 1396.27 1554.07 Q1392.36 1556.97 1385.48 1556.97 Q1382.62 1556.97 1379.5 1556.39 Q1376.41 1555.85 1372.97 1554.74 L1372.97 1548.69 Q1376.22 1550.38 1379.37 1551.24 Q1382.52 1552.07 1385.61 1552.07 Q1389.75 1552.07 1391.97 1550.66 Q1394.2 1549.23 1394.2 1546.65 Q1394.2 1544.27 1392.58 1542.99 Q1390.99 1541.72 1385.54 1540.54 L1383.51 1540.07 Q1378.07 1538.92 1375.65 1536.56 Q1373.23 1534.18 1373.23 1530.04 Q1373.23 1525.01 1376.79 1522.27 Q1380.36 1519.54 1386.91 1519.54 Q1390.16 1519.54 1393.02 1520.01 Q1395.89 1520.49 1398.31 1521.45 Z\" fill=\"#000000\" fill-rule=\"evenodd\" fill-opacity=\"1\" /><path clip-path=\"url(#clip930)\" d=\"M 0 0 M1412.15 1510.27 L1412.15 1520.4 L1424.22 1520.4 L1424.22 1524.95 L1412.15 1524.95 L1412.15 1544.3 Q1412.15 1548.66 1413.33 1549.9 Q1414.54 1551.14 1418.2 1551.14 L1424.22 1551.14 L1424.22 1556.04 L1418.2 1556.04 Q1411.42 1556.04 1408.84 1553.53 Q1406.27 1550.98 1406.27 1544.3 L1406.27 1524.95 L1401.97 1524.95 L1401.97 1520.4 L1406.27 1520.4 L1406.27 1510.27 L1412.15 1510.27 Z\" fill=\"#000000\" fill-rule=\"evenodd\" fill-opacity=\"1\" /><path clip-path=\"url(#clip930)\" d=\"M 0 0 M1460.85 1536.76 L1460.85 1539.62 L1433.92 1539.62 Q1434.31 1545.67 1437.55 1548.85 Q1440.83 1552 1446.66 1552 Q1450.03 1552 1453.18 1551.17 Q1456.36 1550.35 1459.48 1548.69 L1459.48 1554.23 Q1456.33 1555.57 1453.02 1556.27 Q1449.71 1556.97 1446.31 1556.97 Q1437.78 1556.97 1432.78 1552 Q1427.81 1547.04 1427.81 1538.57 Q1427.81 1529.82 1432.52 1524.69 Q1437.27 1519.54 1445.29 1519.54 Q1452.48 1519.54 1456.65 1524.18 Q1460.85 1528.8 1460.85 1536.76 M1454.99 1535.04 Q1454.93 1530.23 1452.29 1527.37 Q1449.68 1524.5 1445.35 1524.5 Q1440.45 1524.5 1437.49 1527.27 Q1434.56 1530.04 1434.12 1535.07 L1454.99 1535.04 Z\" fill=\"#000000\" fill-rule=\"evenodd\" fill-opacity=\"1\" /><path clip-path=\"url(#clip930)\" d=\"M 0 0 M1487.65 1525.87 Q1486.66 1525.3 1485.49 1525.04 Q1484.34 1524.76 1482.94 1524.76 Q1477.97 1524.76 1475.3 1528 Q1472.66 1531.22 1472.66 1537.27 L1472.66 1556.04 L1466.77 1556.04 L1466.77 1520.4 L1472.66 1520.4 L1472.66 1525.93 Q1474.51 1522.69 1477.47 1521.13 Q1480.43 1519.54 1484.66 1519.54 Q1485.26 1519.54 1486 1519.63 Q1486.73 1519.7 1487.62 1519.85 L1487.65 1525.87 Z\" fill=\"#000000\" fill-rule=\"evenodd\" fill-opacity=\"1\" /><path clip-path=\"url(#clip930)\" d=\"M 0 0 M1516.52 1521.45 L1516.52 1526.98 Q1514.04 1525.71 1511.36 1525.07 Q1508.69 1524.44 1505.82 1524.44 Q1501.46 1524.44 1499.27 1525.77 Q1497.1 1527.11 1497.1 1529.79 Q1497.1 1531.82 1498.66 1533 Q1500.22 1534.15 1504.93 1535.2 L1506.94 1535.64 Q1513.18 1536.98 1515.79 1539.43 Q1518.43 1541.85 1518.43 1546.21 Q1518.43 1551.17 1514.48 1554.07 Q1510.57 1556.97 1503.69 1556.97 Q1500.83 1556.97 1497.71 1556.39 Q1494.62 1555.85 1491.18 1554.74 L1491.18 1548.69 Q1494.43 1550.38 1497.58 1551.24 Q1500.73 1552.07 1503.82 1552.07 Q1507.96 1552.07 1510.19 1550.66 Q1512.41 1549.23 1512.41 1546.65 Q1512.41 1544.27 1510.79 1542.99 Q1509.2 1541.72 1503.76 1540.54 L1501.72 1540.07 Q1496.28 1538.92 1493.86 1536.56 Q1491.44 1534.18 1491.44 1530.04 Q1491.44 1525.01 1495 1522.27 Q1498.57 1519.54 1505.12 1519.54 Q1508.37 1519.54 1511.24 1520.01 Q1514.1 1520.49 1516.52 1521.45 Z\" fill=\"#000000\" fill-rule=\"evenodd\" fill-opacity=\"1\" /><polyline clip-path=\"url(#clip932)\" style=\"stroke:#000000; stroke-width:2; stroke-opacity:0.1; fill:none\" points=\"\n",
       "  217.478,1280.81 2248.5,1280.81 \n",
       "  \"/>\n",
       "<polyline clip-path=\"url(#clip932)\" style=\"stroke:#000000; stroke-width:2; stroke-opacity:0.1; fill:none\" points=\"\n",
       "  217.478,1054.14 2248.5,1054.14 \n",
       "  \"/>\n",
       "<polyline clip-path=\"url(#clip932)\" style=\"stroke:#000000; stroke-width:2; stroke-opacity:0.1; fill:none\" points=\"\n",
       "  217.478,827.465 2248.5,827.465 \n",
       "  \"/>\n",
       "<polyline clip-path=\"url(#clip932)\" style=\"stroke:#000000; stroke-width:2; stroke-opacity:0.1; fill:none\" points=\"\n",
       "  217.478,600.794 2248.5,600.794 \n",
       "  \"/>\n",
       "<polyline clip-path=\"url(#clip932)\" style=\"stroke:#000000; stroke-width:2; stroke-opacity:0.1; fill:none\" points=\"\n",
       "  217.478,374.123 2248.5,374.123 \n",
       "  \"/>\n",
       "<polyline clip-path=\"url(#clip932)\" style=\"stroke:#000000; stroke-width:2; stroke-opacity:0.1; fill:none\" points=\"\n",
       "  217.478,147.452 2248.5,147.452 \n",
       "  \"/>\n",
       "<polyline clip-path=\"url(#clip930)\" style=\"stroke:#000000; stroke-width:4; stroke-opacity:1; fill:none\" points=\"\n",
       "  2248.5,1423.18 2248.5,47.2441 \n",
       "  \"/>\n",
       "<polyline clip-path=\"url(#clip930)\" style=\"stroke:#000000; stroke-width:4; stroke-opacity:1; fill:none\" points=\"\n",
       "  2248.5,1280.81 2224.13,1280.81 \n",
       "  \"/>\n",
       "<polyline clip-path=\"url(#clip930)\" style=\"stroke:#000000; stroke-width:4; stroke-opacity:1; fill:none\" points=\"\n",
       "  2248.5,1054.14 2224.13,1054.14 \n",
       "  \"/>\n",
       "<polyline clip-path=\"url(#clip930)\" style=\"stroke:#000000; stroke-width:4; stroke-opacity:1; fill:none\" points=\"\n",
       "  2248.5,827.465 2224.13,827.465 \n",
       "  \"/>\n",
       "<polyline clip-path=\"url(#clip930)\" style=\"stroke:#000000; stroke-width:4; stroke-opacity:1; fill:none\" points=\"\n",
       "  2248.5,600.794 2224.13,600.794 \n",
       "  \"/>\n",
       "<polyline clip-path=\"url(#clip930)\" style=\"stroke:#000000; stroke-width:4; stroke-opacity:1; fill:none\" points=\"\n",
       "  2248.5,374.123 2224.13,374.123 \n",
       "  \"/>\n",
       "<polyline clip-path=\"url(#clip930)\" style=\"stroke:#000000; stroke-width:4; stroke-opacity:1; fill:none\" points=\"\n",
       "  2248.5,147.452 2224.13,147.452 \n",
       "  \"/>\n",
       "<path clip-path=\"url(#clip930)\" d=\"M 0 0 M2296.45 1266.61 Q2292.84 1266.61 2291.01 1270.17 Q2289.2 1273.71 2289.2 1280.84 Q2289.2 1287.95 2291.01 1291.51 Q2292.84 1295.05 2296.45 1295.05 Q2300.08 1295.05 2301.89 1291.51 Q2303.72 1287.95 2303.72 1280.84 Q2303.72 1273.71 2301.89 1270.17 Q2300.08 1266.61 2296.45 1266.61 M2296.45 1262.9 Q2302.26 1262.9 2305.31 1267.51 Q2308.39 1272.09 2308.39 1280.84 Q2308.39 1289.57 2305.31 1294.18 Q2302.26 1298.76 2296.45 1298.76 Q2290.64 1298.76 2287.56 1294.18 Q2284.5 1289.57 2284.5 1280.84 Q2284.5 1272.09 2287.56 1267.51 Q2290.64 1262.9 2296.45 1262.9 Z\" fill=\"#000000\" fill-rule=\"evenodd\" fill-opacity=\"1\" /><path clip-path=\"url(#clip930)\" d=\"M 0 0 M2313.46 1292.21 L2318.35 1292.21 L2318.35 1298.09 L2313.46 1298.09 L2313.46 1292.21 Z\" fill=\"#000000\" fill-rule=\"evenodd\" fill-opacity=\"1\" /><path clip-path=\"url(#clip930)\" d=\"M 0 0 M2324.23 1294.15 L2331.86 1294.15 L2331.86 1267.79 L2323.55 1269.45 L2323.55 1265.19 L2331.82 1263.53 L2336.49 1263.53 L2336.49 1294.15 L2344.13 1294.15 L2344.13 1298.09 L2324.23 1298.09 L2324.23 1294.15 Z\" fill=\"#000000\" fill-rule=\"evenodd\" fill-opacity=\"1\" /><path clip-path=\"url(#clip930)\" d=\"M 0 0 M2353.23 1294.15 L2369.55 1294.15 L2369.55 1298.09 L2347.61 1298.09 L2347.61 1294.15 Q2350.27 1291.4 2354.85 1286.77 Q2359.46 1282.12 2360.64 1280.77 Q2362.88 1278.25 2363.76 1276.51 Q2364.67 1274.75 2364.67 1273.06 Q2364.67 1270.31 2362.72 1268.57 Q2360.8 1266.84 2357.7 1266.84 Q2355.5 1266.84 2353.05 1267.6 Q2350.61 1268.37 2347.84 1269.92 L2347.84 1265.19 Q2350.66 1264.06 2353.11 1263.48 Q2355.57 1262.9 2357.61 1262.9 Q2362.98 1262.9 2366.17 1265.59 Q2369.36 1268.27 2369.36 1272.76 Q2369.36 1274.89 2368.55 1276.81 Q2367.77 1278.71 2365.66 1281.3 Q2365.08 1281.98 2361.98 1285.19 Q2358.88 1288.39 2353.23 1294.15 Z\" fill=\"#000000\" fill-rule=\"evenodd\" fill-opacity=\"1\" /><path clip-path=\"url(#clip930)\" d=\"M 0 0 M2296.45 1039.93 Q2292.84 1039.93 2291.01 1043.5 Q2289.2 1047.04 2289.2 1054.17 Q2289.2 1061.28 2291.01 1064.84 Q2292.84 1068.38 2296.45 1068.38 Q2300.08 1068.38 2301.89 1064.84 Q2303.72 1061.28 2303.72 1054.17 Q2303.72 1047.04 2301.89 1043.5 Q2300.08 1039.93 2296.45 1039.93 M2296.45 1036.23 Q2302.26 1036.23 2305.31 1040.84 Q2308.39 1045.42 2308.39 1054.17 Q2308.39 1062.9 2305.31 1067.5 Q2302.26 1072.09 2296.45 1072.09 Q2290.64 1072.09 2287.56 1067.5 Q2284.5 1062.9 2284.5 1054.17 Q2284.5 1045.42 2287.56 1040.84 Q2290.64 1036.23 2296.45 1036.23 Z\" fill=\"#000000\" fill-rule=\"evenodd\" fill-opacity=\"1\" /><path clip-path=\"url(#clip930)\" d=\"M 0 0 M2313.46 1065.54 L2318.35 1065.54 L2318.35 1071.42 L2313.46 1071.42 L2313.46 1065.54 Z\" fill=\"#000000\" fill-rule=\"evenodd\" fill-opacity=\"1\" /><path clip-path=\"url(#clip930)\" d=\"M 0 0 M2324.23 1067.48 L2331.86 1067.48 L2331.86 1041.12 L2323.55 1042.78 L2323.55 1038.52 L2331.82 1036.86 L2336.49 1036.86 L2336.49 1067.48 L2344.13 1067.48 L2344.13 1071.42 L2324.23 1071.42 L2324.23 1067.48 Z\" fill=\"#000000\" fill-rule=\"evenodd\" fill-opacity=\"1\" /><path clip-path=\"url(#clip930)\" d=\"M 0 0 M2363.37 1052.78 Q2366.73 1053.5 2368.6 1055.77 Q2370.5 1058.04 2370.5 1061.37 Q2370.5 1066.49 2366.98 1069.29 Q2363.46 1072.09 2356.98 1072.09 Q2354.8 1072.09 2352.49 1071.65 Q2350.2 1071.23 2347.74 1070.37 L2347.74 1065.86 Q2349.69 1066.99 2352 1067.57 Q2354.32 1068.15 2356.84 1068.15 Q2361.24 1068.15 2363.53 1066.42 Q2365.85 1064.68 2365.85 1061.37 Q2365.85 1058.31 2363.69 1056.6 Q2361.56 1054.87 2357.74 1054.87 L2353.72 1054.87 L2353.72 1051.02 L2357.93 1051.02 Q2361.38 1051.02 2363.21 1049.66 Q2365.04 1048.27 2365.04 1045.68 Q2365.04 1043.01 2363.14 1041.6 Q2361.26 1040.17 2357.74 1040.17 Q2355.82 1040.17 2353.62 1040.58 Q2351.42 1041 2348.79 1041.88 L2348.79 1037.71 Q2351.45 1036.97 2353.76 1036.6 Q2356.1 1036.23 2358.16 1036.23 Q2363.48 1036.23 2366.59 1038.66 Q2369.69 1041.07 2369.69 1045.19 Q2369.69 1048.06 2368.05 1050.05 Q2366.4 1052.02 2363.37 1052.78 Z\" fill=\"#000000\" fill-rule=\"evenodd\" fill-opacity=\"1\" /><path clip-path=\"url(#clip930)\" d=\"M 0 0 M2296.45 813.264 Q2292.84 813.264 2291.01 816.829 Q2289.2 820.37 2289.2 827.5 Q2289.2 834.606 2291.01 838.171 Q2292.84 841.713 2296.45 841.713 Q2300.08 841.713 2301.89 838.171 Q2303.72 834.606 2303.72 827.5 Q2303.72 820.37 2301.89 816.829 Q2300.08 813.264 2296.45 813.264 M2296.45 809.56 Q2302.26 809.56 2305.31 814.167 Q2308.39 818.75 2308.39 827.5 Q2308.39 836.227 2305.31 840.833 Q2302.26 845.417 2296.45 845.417 Q2290.64 845.417 2287.56 840.833 Q2284.5 836.227 2284.5 827.5 Q2284.5 818.75 2287.56 814.167 Q2290.64 809.56 2296.45 809.56 Z\" fill=\"#000000\" fill-rule=\"evenodd\" fill-opacity=\"1\" /><path clip-path=\"url(#clip930)\" d=\"M 0 0 M2313.46 838.866 L2318.35 838.866 L2318.35 844.745 L2313.46 844.745 L2313.46 838.866 Z\" fill=\"#000000\" fill-rule=\"evenodd\" fill-opacity=\"1\" /><path clip-path=\"url(#clip930)\" d=\"M 0 0 M2324.23 840.81 L2331.86 840.81 L2331.86 814.444 L2323.55 816.111 L2323.55 811.852 L2331.82 810.185 L2336.49 810.185 L2336.49 840.81 L2344.13 840.81 L2344.13 844.745 L2324.23 844.745 L2324.23 840.81 Z\" fill=\"#000000\" fill-rule=\"evenodd\" fill-opacity=\"1\" /><path clip-path=\"url(#clip930)\" d=\"M 0 0 M2362.05 814.259 L2350.24 832.708 L2362.05 832.708 L2362.05 814.259 M2360.82 810.185 L2366.7 810.185 L2366.7 832.708 L2371.63 832.708 L2371.63 836.597 L2366.7 836.597 L2366.7 844.745 L2362.05 844.745 L2362.05 836.597 L2346.45 836.597 L2346.45 832.083 L2360.82 810.185 Z\" fill=\"#000000\" fill-rule=\"evenodd\" fill-opacity=\"1\" /><path clip-path=\"url(#clip930)\" d=\"M 0 0 M2296.45 586.593 Q2292.84 586.593 2291.01 590.158 Q2289.2 593.699 2289.2 600.829 Q2289.2 607.935 2291.01 611.5 Q2292.84 615.042 2296.45 615.042 Q2300.08 615.042 2301.89 611.5 Q2303.72 607.935 2303.72 600.829 Q2303.72 593.699 2301.89 590.158 Q2300.08 586.593 2296.45 586.593 M2296.45 582.889 Q2302.26 582.889 2305.31 587.496 Q2308.39 592.079 2308.39 600.829 Q2308.39 609.556 2305.31 614.162 Q2302.26 618.746 2296.45 618.746 Q2290.64 618.746 2287.56 614.162 Q2284.5 609.556 2284.5 600.829 Q2284.5 592.079 2287.56 587.496 Q2290.64 582.889 2296.45 582.889 Z\" fill=\"#000000\" fill-rule=\"evenodd\" fill-opacity=\"1\" /><path clip-path=\"url(#clip930)\" d=\"M 0 0 M2313.46 612.195 L2318.35 612.195 L2318.35 618.074 L2313.46 618.074 L2313.46 612.195 Z\" fill=\"#000000\" fill-rule=\"evenodd\" fill-opacity=\"1\" /><path clip-path=\"url(#clip930)\" d=\"M 0 0 M2324.23 614.139 L2331.86 614.139 L2331.86 587.774 L2323.55 589.44 L2323.55 585.181 L2331.82 583.514 L2336.49 583.514 L2336.49 614.139 L2344.13 614.139 L2344.13 618.074 L2324.23 618.074 L2324.23 614.139 Z\" fill=\"#000000\" fill-rule=\"evenodd\" fill-opacity=\"1\" /><path clip-path=\"url(#clip930)\" d=\"M 0 0 M2349.25 583.514 L2367.61 583.514 L2367.61 587.449 L2353.53 587.449 L2353.53 595.922 Q2354.55 595.574 2355.57 595.412 Q2356.59 595.227 2357.61 595.227 Q2363.39 595.227 2366.77 598.398 Q2370.15 601.57 2370.15 606.986 Q2370.15 612.565 2366.68 615.667 Q2363.21 618.746 2356.89 618.746 Q2354.71 618.746 2352.44 618.375 Q2350.2 618.005 2347.79 617.264 L2347.79 612.565 Q2349.87 613.699 2352.1 614.255 Q2354.32 614.81 2356.8 614.81 Q2360.8 614.81 2363.14 612.704 Q2365.48 610.597 2365.48 606.986 Q2365.48 603.375 2363.14 601.269 Q2360.8 599.162 2356.8 599.162 Q2354.92 599.162 2353.05 599.579 Q2351.19 599.996 2349.25 600.875 L2349.25 583.514 Z\" fill=\"#000000\" fill-rule=\"evenodd\" fill-opacity=\"1\" /><path clip-path=\"url(#clip930)\" d=\"M 0 0 M2296.45 359.922 Q2292.84 359.922 2291.01 363.487 Q2289.2 367.028 2289.2 374.158 Q2289.2 381.264 2291.01 384.829 Q2292.84 388.371 2296.45 388.371 Q2300.08 388.371 2301.89 384.829 Q2303.72 381.264 2303.72 374.158 Q2303.72 367.028 2301.89 363.487 Q2300.08 359.922 2296.45 359.922 M2296.45 356.218 Q2302.26 356.218 2305.31 360.825 Q2308.39 365.408 2308.39 374.158 Q2308.39 382.885 2305.31 387.491 Q2302.26 392.075 2296.45 392.075 Q2290.64 392.075 2287.56 387.491 Q2284.5 382.885 2284.5 374.158 Q2284.5 365.408 2287.56 360.825 Q2290.64 356.218 2296.45 356.218 Z\" fill=\"#000000\" fill-rule=\"evenodd\" fill-opacity=\"1\" /><path clip-path=\"url(#clip930)\" d=\"M 0 0 M2313.46 385.524 L2318.35 385.524 L2318.35 391.403 L2313.46 391.403 L2313.46 385.524 Z\" fill=\"#000000\" fill-rule=\"evenodd\" fill-opacity=\"1\" /><path clip-path=\"url(#clip930)\" d=\"M 0 0 M2324.23 387.468 L2331.86 387.468 L2331.86 361.103 L2323.55 362.769 L2323.55 358.51 L2331.82 356.843 L2336.49 356.843 L2336.49 387.468 L2344.13 387.468 L2344.13 391.403 L2324.23 391.403 L2324.23 387.468 Z\" fill=\"#000000\" fill-rule=\"evenodd\" fill-opacity=\"1\" /><path clip-path=\"url(#clip930)\" d=\"M 0 0 M2359.78 372.26 Q2356.63 372.26 2354.78 374.413 Q2352.95 376.565 2352.95 380.315 Q2352.95 384.042 2354.78 386.218 Q2356.63 388.371 2359.78 388.371 Q2362.93 388.371 2364.76 386.218 Q2366.61 384.042 2366.61 380.315 Q2366.61 376.565 2364.76 374.413 Q2362.93 372.26 2359.78 372.26 M2369.06 357.607 L2369.06 361.866 Q2367.3 361.033 2365.5 360.593 Q2363.72 360.153 2361.96 360.153 Q2357.33 360.153 2354.87 363.278 Q2352.44 366.403 2352.1 372.723 Q2353.46 370.709 2355.52 369.644 Q2357.58 368.556 2360.06 368.556 Q2365.27 368.556 2368.28 371.728 Q2371.31 374.876 2371.31 380.315 Q2371.31 385.639 2368.16 388.857 Q2365.01 392.075 2359.78 392.075 Q2353.79 392.075 2350.61 387.491 Q2347.44 382.885 2347.44 374.158 Q2347.44 365.964 2351.33 361.103 Q2355.22 356.218 2361.77 356.218 Q2363.53 356.218 2365.31 356.566 Q2367.12 356.913 2369.06 357.607 Z\" fill=\"#000000\" fill-rule=\"evenodd\" fill-opacity=\"1\" /><path clip-path=\"url(#clip930)\" d=\"M 0 0 M2296.45 133.251 Q2292.84 133.251 2291.01 136.816 Q2289.2 140.357 2289.2 147.487 Q2289.2 154.594 2291.01 158.158 Q2292.84 161.7 2296.45 161.7 Q2300.08 161.7 2301.89 158.158 Q2303.72 154.594 2303.72 147.487 Q2303.72 140.357 2301.89 136.816 Q2300.08 133.251 2296.45 133.251 M2296.45 129.547 Q2302.26 129.547 2305.31 134.154 Q2308.39 138.737 2308.39 147.487 Q2308.39 156.214 2305.31 160.82 Q2302.26 165.404 2296.45 165.404 Q2290.64 165.404 2287.56 160.82 Q2284.5 156.214 2284.5 147.487 Q2284.5 138.737 2287.56 134.154 Q2290.64 129.547 2296.45 129.547 Z\" fill=\"#000000\" fill-rule=\"evenodd\" fill-opacity=\"1\" /><path clip-path=\"url(#clip930)\" d=\"M 0 0 M2313.46 158.853 L2318.35 158.853 L2318.35 164.732 L2313.46 164.732 L2313.46 158.853 Z\" fill=\"#000000\" fill-rule=\"evenodd\" fill-opacity=\"1\" /><path clip-path=\"url(#clip930)\" d=\"M 0 0 M2324.23 160.797 L2331.86 160.797 L2331.86 134.432 L2323.55 136.098 L2323.55 131.839 L2331.82 130.172 L2336.49 130.172 L2336.49 160.797 L2344.13 160.797 L2344.13 164.732 L2324.23 164.732 L2324.23 160.797 Z\" fill=\"#000000\" fill-rule=\"evenodd\" fill-opacity=\"1\" /><path clip-path=\"url(#clip930)\" d=\"M 0 0 M2348.02 130.172 L2370.24 130.172 L2370.24 132.163 L2357.7 164.732 L2352.81 164.732 L2364.62 134.108 L2348.02 134.108 L2348.02 130.172 Z\" fill=\"#000000\" fill-rule=\"evenodd\" fill-opacity=\"1\" /><polyline clip-path=\"url(#clip932)\" style=\"stroke:#0000ff; stroke-width:8; stroke-opacity:1; fill:none\" points=\"\n",
       "  274.959,86.1857 514.467,1384.24 753.975,1353.74 993.483,1373.78 1232.99,1285.71 1472.5,1177.23 1712.01,1128.92 1951.51,1249.64 2191.02,1017.26 \n",
       "  \"/>\n",
       "<path clip-path=\"url(#clip930)\" d=\"\n",
       "M1609.83 214.069 L2180.8 214.069 L2180.8 93.1086 L1609.83 93.1086  Z\n",
       "  \" fill=\"#ffffff\" fill-rule=\"evenodd\" fill-opacity=\"1\"/>\n",
       "<polyline clip-path=\"url(#clip930)\" style=\"stroke:#000000; stroke-width:4; stroke-opacity:1; fill:none\" points=\"\n",
       "  1609.83,214.069 2180.8,214.069 2180.8,93.1086 1609.83,93.1086 1609.83,214.069 \n",
       "  \"/>\n",
       "<polyline clip-path=\"url(#clip930)\" style=\"stroke:#0000ff; stroke-width:4; stroke-opacity:1; fill:none\" points=\"\n",
       "  1632.4,153.589 1767.8,153.589 \n",
       "  \"/>\n",
       "<path clip-path=\"url(#clip930)\" d=\"M 0 0 M1812.62 137.443 L1812.62 142.003 Q1809.95 140.73 1807.59 140.105 Q1805.23 139.48 1803.03 139.48 Q1799.21 139.48 1797.13 140.961 Q1795.07 142.443 1795.07 145.174 Q1795.07 147.466 1796.43 148.647 Q1797.82 149.804 1801.67 150.522 L1804.49 151.1 Q1809.72 152.096 1812.2 154.619 Q1814.7 157.119 1814.7 161.332 Q1814.7 166.355 1811.32 168.947 Q1807.96 171.54 1801.46 171.54 Q1799 171.54 1796.23 170.984 Q1793.47 170.429 1790.51 169.341 L1790.51 164.526 Q1793.36 166.123 1796.09 166.933 Q1798.82 167.744 1801.46 167.744 Q1805.46 167.744 1807.64 166.17 Q1809.81 164.596 1809.81 161.679 Q1809.81 159.133 1808.24 157.697 Q1806.69 156.262 1803.12 155.545 L1800.28 154.989 Q1795.05 153.947 1792.71 151.725 Q1790.37 149.503 1790.37 145.545 Q1790.37 140.961 1793.59 138.322 Q1796.83 135.684 1802.5 135.684 Q1804.93 135.684 1807.45 136.123 Q1809.98 136.563 1812.62 137.443 Z\" fill=\"#000000\" fill-rule=\"evenodd\" fill-opacity=\"1\" /><path clip-path=\"url(#clip930)\" d=\"M 0 0 M1819.17 144.943 L1823.43 144.943 L1823.43 170.869 L1819.17 170.869 L1819.17 144.943 M1819.17 134.85 L1823.43 134.85 L1823.43 140.244 L1819.17 140.244 L1819.17 134.85 Z\" fill=\"#000000\" fill-rule=\"evenodd\" fill-opacity=\"1\" /><path clip-path=\"url(#clip930)\" d=\"M 0 0 M1827.89 134.85 L1832.15 134.85 L1832.15 170.869 L1827.89 170.869 L1827.89 134.85 Z\" fill=\"#000000\" fill-rule=\"evenodd\" fill-opacity=\"1\" /><path clip-path=\"url(#clip930)\" d=\"M 0 0 M1858.17 155.221 L1858.17 170.869 L1853.91 170.869 L1853.91 155.359 Q1853.91 151.679 1852.48 149.85 Q1851.04 148.022 1848.17 148.022 Q1844.72 148.022 1842.73 150.221 Q1840.74 152.42 1840.74 156.216 L1840.74 170.869 L1836.46 170.869 L1836.46 134.85 L1840.74 134.85 L1840.74 148.971 Q1842.27 146.633 1844.33 145.475 Q1846.41 144.318 1849.12 144.318 Q1853.59 144.318 1855.88 147.096 Q1858.17 149.85 1858.17 155.221 Z\" fill=\"#000000\" fill-rule=\"evenodd\" fill-opacity=\"1\" /><path clip-path=\"url(#clip930)\" d=\"M 0 0 M1872.68 147.929 Q1869.26 147.929 1867.27 150.614 Q1865.28 153.276 1865.28 157.929 Q1865.28 162.582 1867.24 165.267 Q1869.24 167.929 1872.68 167.929 Q1876.09 167.929 1878.08 165.244 Q1880.07 162.558 1880.07 157.929 Q1880.07 153.322 1878.08 150.637 Q1876.09 147.929 1872.68 147.929 M1872.68 144.318 Q1878.24 144.318 1881.41 147.929 Q1884.58 151.54 1884.58 157.929 Q1884.58 164.295 1881.41 167.929 Q1878.24 171.54 1872.68 171.54 Q1867.11 171.54 1863.93 167.929 Q1860.79 164.295 1860.79 157.929 Q1860.79 151.54 1863.93 147.929 Q1867.11 144.318 1872.68 144.318 Z\" fill=\"#000000\" fill-rule=\"evenodd\" fill-opacity=\"1\" /><path clip-path=\"url(#clip930)\" d=\"M 0 0 M1888.61 160.637 L1888.61 144.943 L1892.87 144.943 L1892.87 160.475 Q1892.87 164.156 1894.3 166.008 Q1895.74 167.836 1898.61 167.836 Q1902.06 167.836 1904.05 165.637 Q1906.06 163.438 1906.06 159.642 L1906.06 144.943 L1910.32 144.943 L1910.32 170.869 L1906.06 170.869 L1906.06 166.887 Q1904.51 169.248 1902.45 170.406 Q1900.42 171.54 1897.71 171.54 Q1893.24 171.54 1890.93 168.762 Q1888.61 165.984 1888.61 160.637 M1899.33 144.318 L1899.33 144.318 Z\" fill=\"#000000\" fill-rule=\"evenodd\" fill-opacity=\"1\" /><path clip-path=\"url(#clip930)\" d=\"M 0 0 M1936.97 156.841 L1936.97 158.924 L1917.38 158.924 Q1917.66 163.322 1920.02 165.637 Q1922.41 167.929 1926.64 167.929 Q1929.1 167.929 1931.39 167.327 Q1933.7 166.725 1935.97 165.521 L1935.97 169.549 Q1933.68 170.521 1931.27 171.031 Q1928.86 171.54 1926.39 171.54 Q1920.18 171.54 1916.55 167.929 Q1912.94 164.318 1912.94 158.16 Q1912.94 151.795 1916.36 148.068 Q1919.81 144.318 1925.65 144.318 Q1930.88 144.318 1933.91 147.697 Q1936.97 151.054 1936.97 156.841 M1932.71 155.591 Q1932.66 152.096 1930.74 150.012 Q1928.84 147.929 1925.69 147.929 Q1922.13 147.929 1919.98 149.943 Q1917.85 151.957 1917.52 155.614 L1932.71 155.591 Z\" fill=\"#000000\" fill-rule=\"evenodd\" fill-opacity=\"1\" /><path clip-path=\"url(#clip930)\" d=\"M 0 0 M1945.65 137.582 L1945.65 144.943 L1954.42 144.943 L1954.42 148.253 L1945.65 148.253 L1945.65 162.327 Q1945.65 165.498 1946.5 166.401 Q1947.38 167.304 1950.05 167.304 L1954.42 167.304 L1954.42 170.869 L1950.05 170.869 Q1945.11 170.869 1943.24 169.04 Q1941.36 167.188 1941.36 162.327 L1941.36 148.253 L1938.24 148.253 L1938.24 144.943 L1941.36 144.943 L1941.36 137.582 L1945.65 137.582 Z\" fill=\"#000000\" fill-rule=\"evenodd\" fill-opacity=\"1\" /><path clip-path=\"url(#clip930)\" d=\"M 0 0 M1963.1 137.582 L1963.1 144.943 L1971.87 144.943 L1971.87 148.253 L1963.1 148.253 L1963.1 162.327 Q1963.1 165.498 1963.96 166.401 Q1964.84 167.304 1967.5 167.304 L1971.87 167.304 L1971.87 170.869 L1967.5 170.869 Q1962.57 170.869 1960.69 169.04 Q1958.82 167.188 1958.82 162.327 L1958.82 148.253 L1955.69 148.253 L1955.69 144.943 L1958.82 144.943 L1958.82 137.582 L1963.1 137.582 Z\" fill=\"#000000\" fill-rule=\"evenodd\" fill-opacity=\"1\" /><path clip-path=\"url(#clip930)\" d=\"M 0 0 M1998.52 156.841 L1998.52 158.924 L1978.93 158.924 Q1979.21 163.322 1981.57 165.637 Q1983.96 167.929 1988.19 167.929 Q1990.65 167.929 1992.94 167.327 Q1995.25 166.725 1997.52 165.521 L1997.52 169.549 Q1995.23 170.521 1992.82 171.031 Q1990.42 171.54 1987.94 171.54 Q1981.73 171.54 1978.1 167.929 Q1974.49 164.318 1974.49 158.16 Q1974.49 151.795 1977.92 148.068 Q1981.36 144.318 1987.2 144.318 Q1992.43 144.318 1995.46 147.697 Q1998.52 151.054 1998.52 156.841 M1994.26 155.591 Q1994.21 152.096 1992.29 150.012 Q1990.39 147.929 1987.24 147.929 Q1983.68 147.929 1981.53 149.943 Q1979.4 151.957 1979.07 155.614 L1994.26 155.591 Z\" fill=\"#000000\" fill-rule=\"evenodd\" fill-opacity=\"1\" /><path clip-path=\"url(#clip930)\" d=\"M 0 0 M2038.96 137.443 L2038.96 142.003 Q2036.29 140.73 2033.93 140.105 Q2031.57 139.48 2029.37 139.48 Q2025.55 139.48 2023.47 140.961 Q2021.41 142.443 2021.41 145.174 Q2021.41 147.466 2022.78 148.647 Q2024.17 149.804 2028.01 150.522 L2030.83 151.1 Q2036.06 152.096 2038.54 154.619 Q2041.04 157.119 2041.04 161.332 Q2041.04 166.355 2037.66 168.947 Q2034.3 171.54 2027.8 171.54 Q2025.35 171.54 2022.57 170.984 Q2019.81 170.429 2016.85 169.341 L2016.85 164.526 Q2019.7 166.123 2022.43 166.933 Q2025.16 167.744 2027.8 167.744 Q2031.8 167.744 2033.98 166.17 Q2036.16 164.596 2036.16 161.679 Q2036.16 159.133 2034.58 157.697 Q2033.03 156.262 2029.47 155.545 L2026.62 154.989 Q2021.39 153.947 2019.05 151.725 Q2016.71 149.503 2016.71 145.545 Q2016.71 140.961 2019.93 138.322 Q2023.17 135.684 2028.84 135.684 Q2031.27 135.684 2033.79 136.123 Q2036.32 136.563 2038.96 137.443 Z\" fill=\"#000000\" fill-rule=\"evenodd\" fill-opacity=\"1\" /><path clip-path=\"url(#clip930)\" d=\"M 0 0 M2064.16 145.938 L2064.16 149.92 Q2062.36 148.924 2060.53 148.438 Q2058.73 147.929 2056.87 147.929 Q2052.73 147.929 2050.44 150.568 Q2048.15 153.184 2048.15 157.929 Q2048.15 162.674 2050.44 165.313 Q2052.73 167.929 2056.87 167.929 Q2058.73 167.929 2060.53 167.443 Q2062.36 166.933 2064.16 165.938 L2064.16 169.873 Q2062.38 170.707 2060.46 171.123 Q2058.56 171.54 2056.41 171.54 Q2050.55 171.54 2047.1 167.859 Q2043.66 164.179 2043.66 157.929 Q2043.66 151.586 2047.13 147.952 Q2050.62 144.318 2056.69 144.318 Q2058.66 144.318 2060.53 144.735 Q2062.41 145.128 2064.16 145.938 Z\" fill=\"#000000\" fill-rule=\"evenodd\" fill-opacity=\"1\" /><path clip-path=\"url(#clip930)\" d=\"M 0 0 M2078.68 147.929 Q2075.25 147.929 2073.26 150.614 Q2071.27 153.276 2071.27 157.929 Q2071.27 162.582 2073.24 165.267 Q2075.23 167.929 2078.68 167.929 Q2082.08 167.929 2084.07 165.244 Q2086.06 162.558 2086.06 157.929 Q2086.06 153.322 2084.07 150.637 Q2082.08 147.929 2078.68 147.929 M2078.68 144.318 Q2084.23 144.318 2087.41 147.929 Q2090.58 151.54 2090.58 157.929 Q2090.58 164.295 2087.41 167.929 Q2084.23 171.54 2078.68 171.54 Q2073.1 171.54 2069.93 167.929 Q2066.78 164.295 2066.78 157.929 Q2066.78 151.54 2069.93 147.929 Q2073.1 144.318 2078.68 144.318 Z\" fill=\"#000000\" fill-rule=\"evenodd\" fill-opacity=\"1\" /><path clip-path=\"url(#clip930)\" d=\"M 0 0 M2110.07 148.924 Q2109.35 148.508 2108.49 148.322 Q2107.66 148.114 2106.64 148.114 Q2103.03 148.114 2101.09 150.475 Q2099.16 152.813 2099.16 157.211 L2099.16 170.869 L2094.88 170.869 L2094.88 144.943 L2099.16 144.943 L2099.16 148.971 Q2100.51 146.609 2102.66 145.475 Q2104.81 144.318 2107.89 144.318 Q2108.33 144.318 2108.86 144.387 Q2109.4 144.434 2110.04 144.549 L2110.07 148.924 Z\" fill=\"#000000\" fill-rule=\"evenodd\" fill-opacity=\"1\" /><path clip-path=\"url(#clip930)\" d=\"M 0 0 M2135.67 156.841 L2135.67 158.924 L2116.09 158.924 Q2116.36 163.322 2118.72 165.637 Q2121.11 167.929 2125.35 167.929 Q2127.8 167.929 2130.09 167.327 Q2132.41 166.725 2134.67 165.521 L2134.67 169.549 Q2132.38 170.521 2129.97 171.031 Q2127.57 171.54 2125.09 171.54 Q2118.89 171.54 2115.25 167.929 Q2111.64 164.318 2111.64 158.16 Q2111.64 151.795 2115.07 148.068 Q2118.52 144.318 2124.35 144.318 Q2129.58 144.318 2132.61 147.697 Q2135.67 151.054 2135.67 156.841 M2131.41 155.591 Q2131.36 152.096 2129.44 150.012 Q2127.54 147.929 2124.4 147.929 Q2120.83 147.929 2118.68 149.943 Q2116.55 151.957 2116.22 155.614 L2131.41 155.591 Z\" fill=\"#000000\" fill-rule=\"evenodd\" fill-opacity=\"1\" /></svg>\n"
      ]
     },
     "execution_count": 41,
     "metadata": {},
     "output_type": "execute_result"
    }
   ],
   "source": [
    "plot(k_range, total_costs, legend=:topleft, label=\"Total Squared Error\", color=:green, lw=2)\n",
    "plot!(twinx(),k_range, sils, legend=:topright, label=\"Silhouette Score\", color=:blue, lw=2)\n",
    "xlabel!(\"Number of Clusters\")"
   ]
  },
  {
   "cell_type": "code",
   "execution_count": 42,
   "metadata": {},
   "outputs": [],
   "source": [
    "savefig(\"figures/bio_kmeans_metrics_$upper\")"
   ]
  },
  {
   "cell_type": "code",
   "execution_count": 43,
   "metadata": {},
   "outputs": [
    {
     "data": {
      "text/plain": [
       "prepare_portfolio (generic function with 1 method)"
      ]
     },
     "execution_count": 43,
     "metadata": {},
     "output_type": "execute_result"
    }
   ],
   "source": [
    "function prepare_portfolio(ls)\n",
    "    N = size(ls)[1]\n",
    "    D = size(ls[end])[1]\n",
    "    mat = zeros(N, D)\n",
    "    for i in 1:N\n",
    "#         print(\"\\n\")\n",
    "#         @show i\n",
    "        for j in 1:size(ls[i])[1]\n",
    "#             @show j\n",
    "            mat[i,j] = ls[i][j][2]\n",
    "        end\n",
    "    end\n",
    "    return mat\n",
    "end"
   ]
  },
  {
   "cell_type": "code",
   "execution_count": 44,
   "metadata": {},
   "outputs": [
    {
     "data": {
      "text/plain": [
       "cum_columns (generic function with 1 method)"
      ]
     },
     "execution_count": 44,
     "metadata": {},
     "output_type": "execute_result"
    }
   ],
   "source": [
    "function cum_columns(mat; normalize=false)\n",
    "    mat2 = deepcopy(mat)\n",
    "    normalize && (mat2 ./= sum(mat2, dims = 2)) # if you want to normalize each row\n",
    "    for i in 2:size(mat2)[2]\n",
    "       mat2[:,i] = mat2[:,i-1] + mat2[:,i]\n",
    "    end\n",
    "    return mat2'\n",
    "end"
   ]
  },
  {
   "cell_type": "code",
   "execution_count": 45,
   "metadata": {},
   "outputs": [
    {
     "data": {
      "text/plain": [
       "cum_plot (generic function with 1 method)"
      ]
     },
     "execution_count": 45,
     "metadata": {},
     "output_type": "execute_result"
    }
   ],
   "source": [
    "function cum_plot(mat)\n",
    "    N = size(mat)[2]\n",
    "    p = plot(legend=:outertopright, palette=palette(:Accent_8))\n",
    "    for i in N+1:-1:1\n",
    "        plot!(1:N, mat[i,:], label=\"Cluster $(i)\", fill=0, α=1)\n",
    "    end\n",
    "    xticks!(collect(1:N),string.(collect(2:N+1)))\n",
    "    ylabel!(\"Cluster Proportion\")\n",
    "    xlabel!(\"Number of Clusters\")\n",
    "    display(p)\n",
    "end"
   ]
  },
  {
   "cell_type": "code",
   "execution_count": 46,
   "metadata": {},
   "outputs": [
    {
     "name": "stdout",
     "output_type": "stream",
     "text": [
      "fillrange {Number or AbstractVector}\n",
      "fill_between, fillbetween, fillranges, fillrng, fillto, frange\n",
      "\n",
      "Fills area between fillrange and y for line-types, sets the base for bar/stick types, and similar for other types.\n",
      "Series attribute,  default: nothing\n"
     ]
    }
   ],
   "source": [
    "# plotattr(:Series)\n",
    "plotattr(\"fillrange\")"
   ]
  },
  {
   "cell_type": "code",
   "execution_count": 47,
   "metadata": {},
   "outputs": [
    {
     "data": {
      "text/plain": [
       "10×9 LinearAlgebra.Adjoint{Float64,Array{Float64,2}}:\n",
       " 0.384824  0.238482  0.224932  0.176152  …  0.0840108  0.0677507  0.0907859\n",
       " 1.0       0.680217  0.653117  0.47561      0.281843   0.116531   0.140921\n",
       " 1.0       1.0       0.974255  0.922764     0.434959   0.132791   0.157182\n",
       " 1.0       1.0       1.0       0.95122      0.46477    0.163957   0.174797\n",
       " 1.0       1.0       1.0       1.0          0.51084    0.210027   0.220867\n",
       " 1.0       1.0       1.0       1.0       …  0.624661   0.452575   0.288618\n",
       " 1.0       1.0       1.0       1.0          0.998645   0.800813   0.651762\n",
       " 1.0       1.0       1.0       1.0          1.0        0.802168   0.653117\n",
       " 1.0       1.0       1.0       1.0          1.0        1.0        0.853659\n",
       " 1.0       1.0       1.0       1.0          1.0        1.0        1.0"
      ]
     },
     "execution_count": 47,
     "metadata": {},
     "output_type": "execute_result"
    }
   ],
   "source": [
    "mat = prepare_portfolio(ls)\n",
    "plotmat = cum_columns(mat, normalize=true)"
   ]
  },
  {
   "cell_type": "markdown",
   "metadata": {},
   "source": [
    "#### Explanation\n",
    "For the plot, the area below each line indicates the proportion of the instances that are contained in that cluster. X-axis is number of clusters in that Kmeans run. So for 2 means, there are 2 clusters. For 5 means, there is a large cluster 1, a large cluster 4, and a large cluster 5. Up to runs as large as 6 clusters, there are really only 3 prevalent clusters. Farther than that, it becomes more fragmented. 3 clusters"
   ]
  },
  {
   "cell_type": "code",
   "execution_count": 48,
   "metadata": {},
   "outputs": [
    {
     "data": {
      "image/svg+xml": [
       "<?xml version=\"1.0\" encoding=\"utf-8\"?>\n",
       "<svg xmlns=\"http://www.w3.org/2000/svg\" xmlns:xlink=\"http://www.w3.org/1999/xlink\" width=\"600\" height=\"400\" viewBox=\"0 0 2400 1600\">\n",
       "<defs>\n",
       "  <clipPath id=\"clip980\">\n",
       "    <rect x=\"0\" y=\"0\" width=\"2400\" height=\"1600\"/>\n",
       "  </clipPath>\n",
       "</defs>\n",
       "<path clip-path=\"url(#clip980)\" d=\"\n",
       "M0 1600 L2400 1600 L2400 0 L0 0  Z\n",
       "  \" fill=\"#ffffff\" fill-rule=\"evenodd\" fill-opacity=\"1\"/>\n",
       "<defs>\n",
       "  <clipPath id=\"clip981\">\n",
       "    <rect x=\"480\" y=\"0\" width=\"1681\" height=\"1600\"/>\n",
       "  </clipPath>\n",
       "</defs>\n",
       "<path clip-path=\"url(#clip980)\" d=\"\n",
       "M238.13 1423.18 L1831.13 1423.18 L1831.13 47.2441 L238.13 47.2441  Z\n",
       "  \" fill=\"#ffffff\" fill-rule=\"evenodd\" fill-opacity=\"1\"/>\n",
       "<defs>\n",
       "  <clipPath id=\"clip982\">\n",
       "    <rect x=\"238\" y=\"47\" width=\"1594\" height=\"1377\"/>\n",
       "  </clipPath>\n",
       "</defs>\n",
       "<polyline clip-path=\"url(#clip982)\" style=\"stroke:#000000; stroke-width:2; stroke-opacity:0.1; fill:none\" points=\"\n",
       "  283.215,1423.18 283.215,47.2441 \n",
       "  \"/>\n",
       "<polyline clip-path=\"url(#clip982)\" style=\"stroke:#000000; stroke-width:2; stroke-opacity:0.1; fill:none\" points=\"\n",
       "  471.069,1423.18 471.069,47.2441 \n",
       "  \"/>\n",
       "<polyline clip-path=\"url(#clip982)\" style=\"stroke:#000000; stroke-width:2; stroke-opacity:0.1; fill:none\" points=\"\n",
       "  658.923,1423.18 658.923,47.2441 \n",
       "  \"/>\n",
       "<polyline clip-path=\"url(#clip982)\" style=\"stroke:#000000; stroke-width:2; stroke-opacity:0.1; fill:none\" points=\"\n",
       "  846.776,1423.18 846.776,47.2441 \n",
       "  \"/>\n",
       "<polyline clip-path=\"url(#clip982)\" style=\"stroke:#000000; stroke-width:2; stroke-opacity:0.1; fill:none\" points=\"\n",
       "  1034.63,1423.18 1034.63,47.2441 \n",
       "  \"/>\n",
       "<polyline clip-path=\"url(#clip982)\" style=\"stroke:#000000; stroke-width:2; stroke-opacity:0.1; fill:none\" points=\"\n",
       "  1222.48,1423.18 1222.48,47.2441 \n",
       "  \"/>\n",
       "<polyline clip-path=\"url(#clip982)\" style=\"stroke:#000000; stroke-width:2; stroke-opacity:0.1; fill:none\" points=\"\n",
       "  1410.34,1423.18 1410.34,47.2441 \n",
       "  \"/>\n",
       "<polyline clip-path=\"url(#clip982)\" style=\"stroke:#000000; stroke-width:2; stroke-opacity:0.1; fill:none\" points=\"\n",
       "  1598.19,1423.18 1598.19,47.2441 \n",
       "  \"/>\n",
       "<polyline clip-path=\"url(#clip982)\" style=\"stroke:#000000; stroke-width:2; stroke-opacity:0.1; fill:none\" points=\"\n",
       "  1786.05,1423.18 1786.05,47.2441 \n",
       "  \"/>\n",
       "<polyline clip-path=\"url(#clip980)\" style=\"stroke:#000000; stroke-width:4; stroke-opacity:1; fill:none\" points=\"\n",
       "  238.13,1423.18 1831.13,1423.18 \n",
       "  \"/>\n",
       "<polyline clip-path=\"url(#clip980)\" style=\"stroke:#000000; stroke-width:4; stroke-opacity:1; fill:none\" points=\"\n",
       "  283.215,1423.18 283.215,1406.67 \n",
       "  \"/>\n",
       "<polyline clip-path=\"url(#clip980)\" style=\"stroke:#000000; stroke-width:4; stroke-opacity:1; fill:none\" points=\"\n",
       "  471.069,1423.18 471.069,1406.67 \n",
       "  \"/>\n",
       "<polyline clip-path=\"url(#clip980)\" style=\"stroke:#000000; stroke-width:4; stroke-opacity:1; fill:none\" points=\"\n",
       "  658.923,1423.18 658.923,1406.67 \n",
       "  \"/>\n",
       "<polyline clip-path=\"url(#clip980)\" style=\"stroke:#000000; stroke-width:4; stroke-opacity:1; fill:none\" points=\"\n",
       "  846.776,1423.18 846.776,1406.67 \n",
       "  \"/>\n",
       "<polyline clip-path=\"url(#clip980)\" style=\"stroke:#000000; stroke-width:4; stroke-opacity:1; fill:none\" points=\"\n",
       "  1034.63,1423.18 1034.63,1406.67 \n",
       "  \"/>\n",
       "<polyline clip-path=\"url(#clip980)\" style=\"stroke:#000000; stroke-width:4; stroke-opacity:1; fill:none\" points=\"\n",
       "  1222.48,1423.18 1222.48,1406.67 \n",
       "  \"/>\n",
       "<polyline clip-path=\"url(#clip980)\" style=\"stroke:#000000; stroke-width:4; stroke-opacity:1; fill:none\" points=\"\n",
       "  1410.34,1423.18 1410.34,1406.67 \n",
       "  \"/>\n",
       "<polyline clip-path=\"url(#clip980)\" style=\"stroke:#000000; stroke-width:4; stroke-opacity:1; fill:none\" points=\"\n",
       "  1598.19,1423.18 1598.19,1406.67 \n",
       "  \"/>\n",
       "<polyline clip-path=\"url(#clip980)\" style=\"stroke:#000000; stroke-width:4; stroke-opacity:1; fill:none\" points=\"\n",
       "  1786.05,1423.18 1786.05,1406.67 \n",
       "  \"/>\n",
       "<path clip-path=\"url(#clip980)\" d=\"M 0 0 M277.868 1479.92 L294.187 1479.92 L294.187 1483.85 L272.243 1483.85 L272.243 1479.92 Q274.905 1477.16 279.488 1472.53 Q284.095 1467.88 285.275 1466.54 Q287.521 1464.01 288.4 1462.28 Q289.303 1460.52 289.303 1458.83 Q289.303 1456.07 287.358 1454.34 Q285.437 1452.6 282.335 1452.6 Q280.136 1452.6 277.683 1453.37 Q275.252 1454.13 272.474 1455.68 L272.474 1450.96 Q275.298 1449.82 277.752 1449.25 Q280.206 1448.67 282.243 1448.67 Q287.613 1448.67 290.808 1451.35 Q294.002 1454.04 294.002 1458.53 Q294.002 1460.66 293.192 1462.58 Q292.405 1464.48 290.298 1467.07 Q289.72 1467.74 286.618 1470.96 Q283.516 1474.15 277.868 1479.92 Z\" fill=\"#000000\" fill-rule=\"evenodd\" fill-opacity=\"1\" /><path clip-path=\"url(#clip980)\" d=\"M 0 0 M475.316 1465.22 Q478.673 1465.94 480.548 1468.2 Q482.446 1470.47 482.446 1473.81 Q482.446 1478.92 478.928 1481.72 Q475.409 1484.52 468.928 1484.52 Q466.752 1484.52 464.437 1484.08 Q462.145 1483.67 459.692 1482.81 L459.692 1478.3 Q461.636 1479.43 463.951 1480.01 Q466.266 1480.59 468.789 1480.59 Q473.187 1480.59 475.479 1478.85 Q477.793 1477.12 477.793 1473.81 Q477.793 1470.75 475.641 1469.04 Q473.511 1467.3 469.692 1467.3 L465.664 1467.3 L465.664 1463.46 L469.877 1463.46 Q473.326 1463.46 475.154 1462.09 Q476.983 1460.7 476.983 1458.11 Q476.983 1455.45 475.085 1454.04 Q473.21 1452.6 469.692 1452.6 Q467.77 1452.6 465.571 1453.02 Q463.372 1453.44 460.733 1454.31 L460.733 1450.15 Q463.395 1449.41 465.71 1449.04 Q468.048 1448.67 470.108 1448.67 Q475.432 1448.67 478.534 1451.1 Q481.636 1453.5 481.636 1457.63 Q481.636 1460.5 479.992 1462.49 Q478.349 1464.45 475.316 1465.22 Z\" fill=\"#000000\" fill-rule=\"evenodd\" fill-opacity=\"1\" /><path clip-path=\"url(#clip980)\" d=\"M 0 0 M661.932 1453.37 L650.126 1471.81 L661.932 1471.81 L661.932 1453.37 M660.705 1449.29 L666.585 1449.29 L666.585 1471.81 L671.515 1471.81 L671.515 1475.7 L666.585 1475.7 L666.585 1483.85 L661.932 1483.85 L661.932 1475.7 L646.33 1475.7 L646.33 1471.19 L660.705 1449.29 Z\" fill=\"#000000\" fill-rule=\"evenodd\" fill-opacity=\"1\" /><path clip-path=\"url(#clip980)\" d=\"M 0 0 M837.054 1449.29 L855.411 1449.29 L855.411 1453.23 L841.337 1453.23 L841.337 1461.7 Q842.355 1461.35 843.374 1461.19 Q844.392 1461 845.411 1461 Q851.198 1461 854.577 1464.18 Q857.957 1467.35 857.957 1472.76 Q857.957 1478.34 854.485 1481.44 Q851.013 1484.52 844.693 1484.52 Q842.517 1484.52 840.249 1484.15 Q838.003 1483.78 835.596 1483.04 L835.596 1478.34 Q837.679 1479.48 839.902 1480.03 Q842.124 1480.59 844.601 1480.59 Q848.605 1480.59 850.943 1478.48 Q853.281 1476.38 853.281 1472.76 Q853.281 1469.15 850.943 1467.05 Q848.605 1464.94 844.601 1464.94 Q842.726 1464.94 840.851 1465.36 Q838.999 1465.77 837.054 1466.65 L837.054 1449.29 Z\" fill=\"#000000\" fill-rule=\"evenodd\" fill-opacity=\"1\" /><path clip-path=\"url(#clip980)\" d=\"M 0 0 M1035.04 1464.71 Q1031.89 1464.71 1030.04 1466.86 Q1028.21 1469.01 1028.21 1472.76 Q1028.21 1476.49 1030.04 1478.67 Q1031.89 1480.82 1035.04 1480.82 Q1038.18 1480.82 1040.01 1478.67 Q1041.86 1476.49 1041.86 1472.76 Q1041.86 1469.01 1040.01 1466.86 Q1038.18 1464.71 1035.04 1464.71 M1044.32 1450.06 L1044.32 1454.31 Q1042.56 1453.48 1040.75 1453.04 Q1038.97 1452.6 1037.21 1452.6 Q1032.58 1452.6 1030.13 1455.73 Q1027.7 1458.85 1027.35 1465.17 Q1028.72 1463.16 1030.78 1462.09 Q1032.84 1461 1035.31 1461 Q1040.52 1461 1043.53 1464.18 Q1046.56 1467.32 1046.56 1472.76 Q1046.56 1478.09 1043.41 1481.31 Q1040.27 1484.52 1035.04 1484.52 Q1029.04 1484.52 1025.87 1479.94 Q1022.7 1475.33 1022.7 1466.61 Q1022.7 1458.41 1026.59 1453.55 Q1030.48 1448.67 1037.03 1448.67 Q1038.79 1448.67 1040.57 1449.01 Q1042.37 1449.36 1044.32 1450.06 Z\" fill=\"#000000\" fill-rule=\"evenodd\" fill-opacity=\"1\" /><path clip-path=\"url(#clip980)\" d=\"M 0 0 M1211.37 1449.29 L1233.6 1449.29 L1233.6 1451.28 L1221.05 1483.85 L1216.16 1483.85 L1227.97 1453.23 L1211.37 1453.23 L1211.37 1449.29 Z\" fill=\"#000000\" fill-rule=\"evenodd\" fill-opacity=\"1\" /><path clip-path=\"url(#clip980)\" d=\"M 0 0 M1410.34 1467.44 Q1407 1467.44 1405.08 1469.22 Q1403.19 1471 1403.19 1474.13 Q1403.19 1477.25 1405.08 1479.04 Q1407 1480.82 1410.34 1480.82 Q1413.67 1480.82 1415.59 1479.04 Q1417.51 1477.23 1417.51 1474.13 Q1417.51 1471 1415.59 1469.22 Q1413.69 1467.44 1410.34 1467.44 M1405.66 1465.45 Q1402.65 1464.71 1400.96 1462.65 Q1399.3 1460.59 1399.3 1457.63 Q1399.3 1453.48 1402.24 1451.07 Q1405.2 1448.67 1410.34 1448.67 Q1415.5 1448.67 1418.44 1451.07 Q1421.38 1453.48 1421.38 1457.63 Q1421.38 1460.59 1419.69 1462.65 Q1418.02 1464.71 1415.04 1465.45 Q1418.42 1466.24 1420.29 1468.53 Q1422.19 1470.82 1422.19 1474.13 Q1422.19 1479.15 1419.11 1481.84 Q1416.06 1484.52 1410.34 1484.52 Q1404.62 1484.52 1401.54 1481.84 Q1398.49 1479.15 1398.49 1474.13 Q1398.49 1470.82 1400.38 1468.53 Q1402.28 1466.24 1405.66 1465.45 M1403.95 1458.06 Q1403.95 1460.75 1405.62 1462.25 Q1407.31 1463.76 1410.34 1463.76 Q1413.35 1463.76 1415.04 1462.25 Q1416.75 1460.75 1416.75 1458.06 Q1416.75 1455.38 1415.04 1453.88 Q1413.35 1452.37 1410.34 1452.37 Q1407.31 1452.37 1405.62 1453.88 Q1403.95 1455.38 1403.95 1458.06 Z\" fill=\"#000000\" fill-rule=\"evenodd\" fill-opacity=\"1\" /><path clip-path=\"url(#clip980)\" d=\"M 0 0 M1588.49 1483.13 L1588.49 1478.88 Q1590.25 1479.71 1592.06 1480.15 Q1593.86 1480.59 1595.6 1480.59 Q1600.23 1480.59 1602.66 1477.49 Q1605.11 1474.36 1605.46 1468.02 Q1604.12 1470.01 1602.06 1471.07 Q1600 1472.14 1597.5 1472.14 Q1592.31 1472.14 1589.28 1469.01 Q1586.27 1465.87 1586.27 1460.43 Q1586.27 1455.1 1589.42 1451.88 Q1592.57 1448.67 1597.8 1448.67 Q1603.79 1448.67 1606.94 1453.27 Q1610.11 1457.86 1610.11 1466.61 Q1610.11 1474.78 1606.22 1479.66 Q1602.36 1484.52 1595.81 1484.52 Q1594.05 1484.52 1592.24 1484.18 Q1590.44 1483.83 1588.49 1483.13 M1597.8 1468.48 Q1600.95 1468.48 1602.78 1466.33 Q1604.63 1464.18 1604.63 1460.43 Q1604.63 1456.7 1602.78 1454.55 Q1600.95 1452.37 1597.8 1452.37 Q1594.65 1452.37 1592.8 1454.55 Q1590.97 1456.7 1590.97 1460.43 Q1590.97 1464.18 1592.8 1466.33 Q1594.65 1468.48 1597.8 1468.48 Z\" fill=\"#000000\" fill-rule=\"evenodd\" fill-opacity=\"1\" /><path clip-path=\"url(#clip980)\" d=\"M 0 0 M1762.92 1479.92 L1770.56 1479.92 L1770.56 1453.55 L1762.25 1455.22 L1762.25 1450.96 L1770.51 1449.29 L1775.19 1449.29 L1775.19 1479.92 L1782.83 1479.92 L1782.83 1483.85 L1762.92 1483.85 L1762.92 1479.92 Z\" fill=\"#000000\" fill-rule=\"evenodd\" fill-opacity=\"1\" /><path clip-path=\"url(#clip980)\" d=\"M 0 0 M1797.9 1452.37 Q1794.29 1452.37 1792.46 1455.94 Q1790.65 1459.48 1790.65 1466.61 Q1790.65 1473.71 1792.46 1477.28 Q1794.29 1480.82 1797.9 1480.82 Q1801.53 1480.82 1803.34 1477.28 Q1805.17 1473.71 1805.17 1466.61 Q1805.17 1459.48 1803.34 1455.94 Q1801.53 1452.37 1797.9 1452.37 M1797.9 1448.67 Q1803.71 1448.67 1806.76 1453.27 Q1809.84 1457.86 1809.84 1466.61 Q1809.84 1475.33 1806.76 1479.94 Q1803.71 1484.52 1797.9 1484.52 Q1792.09 1484.52 1789.01 1479.94 Q1785.95 1475.33 1785.95 1466.61 Q1785.95 1457.86 1789.01 1453.27 Q1792.09 1448.67 1797.9 1448.67 Z\" fill=\"#000000\" fill-rule=\"evenodd\" fill-opacity=\"1\" /><path clip-path=\"url(#clip980)\" d=\"M 0 0 M749.192 1508.52 L757.849 1508.52 L778.92 1548.28 L778.92 1508.52 L785.158 1508.52 L785.158 1556.04 L776.501 1556.04 L755.43 1516.29 L755.43 1556.04 L749.192 1556.04 L749.192 1508.52 Z\" fill=\"#000000\" fill-rule=\"evenodd\" fill-opacity=\"1\" /><path clip-path=\"url(#clip980)\" d=\"M 0 0 M790.696 1541.98 L790.696 1520.4 L796.553 1520.4 L796.553 1541.75 Q796.553 1546.81 798.526 1549.36 Q800.5 1551.87 804.446 1551.87 Q809.189 1551.87 811.926 1548.85 Q814.695 1545.83 814.695 1540.61 L814.695 1520.4 L820.552 1520.4 L820.552 1556.04 L814.695 1556.04 L814.695 1550.57 Q812.563 1553.82 809.73 1555.41 Q806.929 1556.97 803.205 1556.97 Q797.062 1556.97 793.879 1553.15 Q790.696 1549.33 790.696 1541.98 M805.433 1519.54 L805.433 1519.54 Z\" fill=\"#000000\" fill-rule=\"evenodd\" fill-opacity=\"1\" /><path clip-path=\"url(#clip980)\" d=\"M 0 0 M854.449 1527.24 Q856.645 1523.29 859.701 1521.41 Q862.756 1519.54 866.894 1519.54 Q872.464 1519.54 875.488 1523.45 Q878.511 1527.33 878.511 1534.53 L878.511 1556.04 L872.623 1556.04 L872.623 1534.72 Q872.623 1529.59 870.809 1527.11 Q868.995 1524.63 865.271 1524.63 Q860.719 1524.63 858.077 1527.65 Q855.436 1530.68 855.436 1535.9 L855.436 1556.04 L849.547 1556.04 L849.547 1534.72 Q849.547 1529.56 847.733 1527.11 Q845.919 1524.63 842.131 1524.63 Q837.644 1524.63 835.002 1527.68 Q832.36 1530.71 832.36 1535.9 L832.36 1556.04 L826.472 1556.04 L826.472 1520.4 L832.36 1520.4 L832.36 1525.93 Q834.365 1522.66 837.166 1521.1 Q839.967 1519.54 843.818 1519.54 Q847.701 1519.54 850.407 1521.51 Q853.144 1523.48 854.449 1527.24 Z\" fill=\"#000000\" fill-rule=\"evenodd\" fill-opacity=\"1\" /><path clip-path=\"url(#clip980)\" d=\"M 0 0 M910.244 1538.25 Q910.244 1531.79 907.571 1528.13 Q904.929 1524.44 900.282 1524.44 Q895.635 1524.44 892.962 1528.13 Q890.32 1531.79 890.32 1538.25 Q890.32 1544.71 892.962 1548.4 Q895.635 1552.07 900.282 1552.07 Q904.929 1552.07 907.571 1548.4 Q910.244 1544.71 910.244 1538.25 M890.32 1525.81 Q892.166 1522.62 894.967 1521.1 Q897.799 1519.54 901.714 1519.54 Q908.207 1519.54 912.25 1524.69 Q916.324 1529.85 916.324 1538.25 Q916.324 1546.65 912.25 1551.81 Q908.207 1556.97 901.714 1556.97 Q897.799 1556.97 894.967 1555.44 Q892.166 1553.88 890.32 1550.7 L890.32 1556.04 L884.431 1556.04 L884.431 1506.52 L890.32 1506.52 L890.32 1525.81 Z\" fill=\"#000000\" fill-rule=\"evenodd\" fill-opacity=\"1\" /><path clip-path=\"url(#clip980)\" d=\"M 0 0 M952.958 1536.76 L952.958 1539.62 L926.031 1539.62 Q926.413 1545.67 929.66 1548.85 Q932.938 1552 938.763 1552 Q942.137 1552 945.288 1551.17 Q948.47 1550.35 951.59 1548.69 L951.59 1554.23 Q948.439 1555.57 945.128 1556.27 Q941.818 1556.97 938.413 1556.97 Q929.883 1556.97 924.886 1552 Q919.92 1547.04 919.92 1538.57 Q919.92 1529.82 924.631 1524.69 Q929.373 1519.54 937.394 1519.54 Q944.587 1519.54 948.757 1524.18 Q952.958 1528.8 952.958 1536.76 M947.102 1535.04 Q947.038 1530.23 944.396 1527.37 Q941.786 1524.5 937.458 1524.5 Q932.556 1524.5 929.596 1527.27 Q926.668 1530.04 926.222 1535.07 L947.102 1535.04 Z\" fill=\"#000000\" fill-rule=\"evenodd\" fill-opacity=\"1\" /><path clip-path=\"url(#clip980)\" d=\"M 0 0 M979.758 1525.87 Q978.771 1525.3 977.594 1525.04 Q976.448 1524.76 975.047 1524.76 Q970.082 1524.76 967.408 1528 Q964.767 1531.22 964.767 1537.27 L964.767 1556.04 L958.878 1556.04 L958.878 1520.4 L964.767 1520.4 L964.767 1525.93 Q966.613 1522.69 969.573 1521.13 Q972.533 1519.54 976.766 1519.54 Q977.371 1519.54 978.103 1519.63 Q978.835 1519.7 979.726 1519.85 L979.758 1525.87 Z\" fill=\"#000000\" fill-rule=\"evenodd\" fill-opacity=\"1\" /><path clip-path=\"url(#clip980)\" d=\"M 0 0 M1020.43 1524.5 Q1015.72 1524.5 1012.99 1528.19 Q1010.25 1531.85 1010.25 1538.25 Q1010.25 1544.65 1012.96 1548.34 Q1015.69 1552 1020.43 1552 Q1025.11 1552 1027.85 1548.31 Q1030.59 1544.62 1030.59 1538.25 Q1030.59 1531.92 1027.85 1528.23 Q1025.11 1524.5 1020.43 1524.5 M1020.43 1519.54 Q1028.07 1519.54 1032.43 1524.5 Q1036.79 1529.47 1036.79 1538.25 Q1036.79 1547 1032.43 1552 Q1028.07 1556.97 1020.43 1556.97 Q1012.76 1556.97 1008.4 1552 Q1004.07 1547 1004.07 1538.25 Q1004.07 1529.47 1008.4 1524.5 Q1012.76 1519.54 1020.43 1519.54 Z\" fill=\"#000000\" fill-rule=\"evenodd\" fill-opacity=\"1\" /><path clip-path=\"url(#clip980)\" d=\"M 0 0 M1060.98 1506.52 L1060.98 1511.39 L1055.38 1511.39 Q1052.23 1511.39 1050.99 1512.66 Q1049.78 1513.93 1049.78 1517.24 L1049.78 1520.4 L1059.42 1520.4 L1059.42 1524.95 L1049.78 1524.95 L1049.78 1556.04 L1043.89 1556.04 L1043.89 1524.95 L1038.29 1524.95 L1038.29 1520.4 L1043.89 1520.4 L1043.89 1517.91 Q1043.89 1511.96 1046.66 1509.26 Q1049.43 1506.52 1055.45 1506.52 L1060.98 1506.52 Z\" fill=\"#000000\" fill-rule=\"evenodd\" fill-opacity=\"1\" /><path clip-path=\"url(#clip980)\" d=\"M 0 0 M1123.69 1512.18 L1123.69 1518.96 Q1120.44 1515.94 1116.75 1514.44 Q1113.09 1512.95 1108.95 1512.95 Q1100.8 1512.95 1096.47 1517.95 Q1092.14 1522.91 1092.14 1532.33 Q1092.14 1541.72 1096.47 1546.72 Q1100.8 1551.68 1108.95 1551.68 Q1113.09 1551.68 1116.75 1550.19 Q1120.44 1548.69 1123.69 1545.67 L1123.69 1552.38 Q1120.31 1554.68 1116.53 1555.82 Q1112.77 1556.97 1108.57 1556.97 Q1097.78 1556.97 1091.57 1550.38 Q1085.36 1543.76 1085.36 1532.33 Q1085.36 1520.87 1091.57 1514.28 Q1097.78 1507.66 1108.57 1507.66 Q1112.83 1507.66 1116.59 1508.81 Q1120.38 1509.92 1123.69 1512.18 Z\" fill=\"#000000\" fill-rule=\"evenodd\" fill-opacity=\"1\" /><path clip-path=\"url(#clip980)\" d=\"M 0 0 M1129.83 1506.52 L1135.69 1506.52 L1135.69 1556.04 L1129.83 1556.04 L1129.83 1506.52 Z\" fill=\"#000000\" fill-rule=\"evenodd\" fill-opacity=\"1\" /><path clip-path=\"url(#clip980)\" d=\"M 0 0 M1141.22 1541.98 L1141.22 1520.4 L1147.08 1520.4 L1147.08 1541.75 Q1147.08 1546.81 1149.05 1549.36 Q1151.03 1551.87 1154.97 1551.87 Q1159.72 1551.87 1162.45 1548.85 Q1165.22 1545.83 1165.22 1540.61 L1165.22 1520.4 L1171.08 1520.4 L1171.08 1556.04 L1165.22 1556.04 L1165.22 1550.57 Q1163.09 1553.82 1160.26 1555.41 Q1157.46 1556.97 1153.73 1556.97 Q1147.59 1556.97 1144.41 1553.15 Q1141.22 1549.33 1141.22 1541.98 M1155.96 1519.54 L1155.96 1519.54 Z\" fill=\"#000000\" fill-rule=\"evenodd\" fill-opacity=\"1\" /><path clip-path=\"url(#clip980)\" d=\"M 0 0 M1199.95 1521.45 L1199.95 1526.98 Q1197.47 1525.71 1194.79 1525.07 Q1192.12 1524.44 1189.25 1524.44 Q1184.89 1524.44 1182.7 1525.77 Q1180.53 1527.11 1180.53 1529.79 Q1180.53 1531.82 1182.09 1533 Q1183.65 1534.15 1188.36 1535.2 L1190.37 1535.64 Q1196.61 1536.98 1199.22 1539.43 Q1201.86 1541.85 1201.86 1546.21 Q1201.86 1551.17 1197.91 1554.07 Q1194 1556.97 1187.12 1556.97 Q1184.26 1556.97 1181.14 1556.39 Q1178.05 1555.85 1174.61 1554.74 L1174.61 1548.69 Q1177.86 1550.38 1181.01 1551.24 Q1184.16 1552.07 1187.25 1552.07 Q1191.39 1552.07 1193.61 1550.66 Q1195.84 1549.23 1195.84 1546.65 Q1195.84 1544.27 1194.22 1542.99 Q1192.63 1541.72 1187.18 1540.54 L1185.15 1540.07 Q1179.7 1538.92 1177.29 1536.56 Q1174.87 1534.18 1174.87 1530.04 Q1174.87 1525.01 1178.43 1522.27 Q1182 1519.54 1188.55 1519.54 Q1191.8 1519.54 1194.66 1520.01 Q1197.53 1520.49 1199.95 1521.45 Z\" fill=\"#000000\" fill-rule=\"evenodd\" fill-opacity=\"1\" /><path clip-path=\"url(#clip980)\" d=\"M 0 0 M1213.79 1510.27 L1213.79 1520.4 L1225.86 1520.4 L1225.86 1524.95 L1213.79 1524.95 L1213.79 1544.3 Q1213.79 1548.66 1214.97 1549.9 Q1216.18 1551.14 1219.84 1551.14 L1225.86 1551.14 L1225.86 1556.04 L1219.84 1556.04 Q1213.06 1556.04 1210.48 1553.53 Q1207.9 1550.98 1207.9 1544.3 L1207.9 1524.95 L1203.61 1524.95 L1203.61 1520.4 L1207.9 1520.4 L1207.9 1510.27 L1213.79 1510.27 Z\" fill=\"#000000\" fill-rule=\"evenodd\" fill-opacity=\"1\" /><path clip-path=\"url(#clip980)\" d=\"M 0 0 M1262.49 1536.76 L1262.49 1539.62 L1235.56 1539.62 Q1235.95 1545.67 1239.19 1548.85 Q1242.47 1552 1248.3 1552 Q1251.67 1552 1254.82 1551.17 Q1258 1550.35 1261.12 1548.69 L1261.12 1554.23 Q1257.97 1555.57 1254.66 1556.27 Q1251.35 1556.97 1247.95 1556.97 Q1239.42 1556.97 1234.42 1552 Q1229.45 1547.04 1229.45 1538.57 Q1229.45 1529.82 1234.16 1524.69 Q1238.91 1519.54 1246.93 1519.54 Q1254.12 1519.54 1258.29 1524.18 Q1262.49 1528.8 1262.49 1536.76 M1256.63 1535.04 Q1256.57 1530.23 1253.93 1527.37 Q1251.32 1524.5 1246.99 1524.5 Q1242.09 1524.5 1239.13 1527.27 Q1236.2 1530.04 1235.75 1535.07 L1256.63 1535.04 Z\" fill=\"#000000\" fill-rule=\"evenodd\" fill-opacity=\"1\" /><path clip-path=\"url(#clip980)\" d=\"M 0 0 M1289.29 1525.87 Q1288.3 1525.3 1287.13 1525.04 Q1285.98 1524.76 1284.58 1524.76 Q1279.61 1524.76 1276.94 1528 Q1274.3 1531.22 1274.3 1537.27 L1274.3 1556.04 L1268.41 1556.04 L1268.41 1520.4 L1274.3 1520.4 L1274.3 1525.93 Q1276.15 1522.69 1279.11 1521.13 Q1282.07 1519.54 1286.3 1519.54 Q1286.9 1519.54 1287.64 1519.63 Q1288.37 1519.7 1289.26 1519.85 L1289.29 1525.87 Z\" fill=\"#000000\" fill-rule=\"evenodd\" fill-opacity=\"1\" /><path clip-path=\"url(#clip980)\" d=\"M 0 0 M1318.16 1521.45 L1318.16 1526.98 Q1315.68 1525.71 1313 1525.07 Q1310.33 1524.44 1307.46 1524.44 Q1303.1 1524.44 1300.91 1525.77 Q1298.74 1527.11 1298.74 1529.79 Q1298.74 1531.82 1300.3 1533 Q1301.86 1534.15 1306.57 1535.2 L1308.58 1535.64 Q1314.82 1536.98 1317.43 1539.43 Q1320.07 1541.85 1320.07 1546.21 Q1320.07 1551.17 1316.12 1554.07 Q1312.21 1556.97 1305.33 1556.97 Q1302.47 1556.97 1299.35 1556.39 Q1296.26 1555.85 1292.82 1554.74 L1292.82 1548.69 Q1296.07 1550.38 1299.22 1551.24 Q1302.37 1552.07 1305.46 1552.07 Q1309.6 1552.07 1311.82 1550.66 Q1314.05 1549.23 1314.05 1546.65 Q1314.05 1544.27 1312.43 1542.99 Q1310.84 1541.72 1305.4 1540.54 L1303.36 1540.07 Q1297.92 1538.92 1295.5 1536.56 Q1293.08 1534.18 1293.08 1530.04 Q1293.08 1525.01 1296.64 1522.27 Q1300.21 1519.54 1306.76 1519.54 Q1310.01 1519.54 1312.88 1520.01 Q1315.74 1520.49 1318.16 1521.45 Z\" fill=\"#000000\" fill-rule=\"evenodd\" fill-opacity=\"1\" /><polyline clip-path=\"url(#clip982)\" style=\"stroke:#000000; stroke-width:2; stroke-opacity:0.1; fill:none\" points=\"\n",
       "  238.13,1384.24 1831.13,1384.24 \n",
       "  \"/>\n",
       "<polyline clip-path=\"url(#clip982)\" style=\"stroke:#000000; stroke-width:2; stroke-opacity:0.1; fill:none\" points=\"\n",
       "  238.13,1059.73 1831.13,1059.73 \n",
       "  \"/>\n",
       "<polyline clip-path=\"url(#clip982)\" style=\"stroke:#000000; stroke-width:2; stroke-opacity:0.1; fill:none\" points=\"\n",
       "  238.13,735.212 1831.13,735.212 \n",
       "  \"/>\n",
       "<polyline clip-path=\"url(#clip982)\" style=\"stroke:#000000; stroke-width:2; stroke-opacity:0.1; fill:none\" points=\"\n",
       "  238.13,410.699 1831.13,410.699 \n",
       "  \"/>\n",
       "<polyline clip-path=\"url(#clip982)\" style=\"stroke:#000000; stroke-width:2; stroke-opacity:0.1; fill:none\" points=\"\n",
       "  238.13,86.1857 1831.13,86.1857 \n",
       "  \"/>\n",
       "<polyline clip-path=\"url(#clip980)\" style=\"stroke:#000000; stroke-width:4; stroke-opacity:1; fill:none\" points=\"\n",
       "  238.13,1423.18 238.13,47.2441 \n",
       "  \"/>\n",
       "<polyline clip-path=\"url(#clip980)\" style=\"stroke:#000000; stroke-width:4; stroke-opacity:1; fill:none\" points=\"\n",
       "  238.13,1384.24 257.246,1384.24 \n",
       "  \"/>\n",
       "<polyline clip-path=\"url(#clip980)\" style=\"stroke:#000000; stroke-width:4; stroke-opacity:1; fill:none\" points=\"\n",
       "  238.13,1059.73 257.246,1059.73 \n",
       "  \"/>\n",
       "<polyline clip-path=\"url(#clip980)\" style=\"stroke:#000000; stroke-width:4; stroke-opacity:1; fill:none\" points=\"\n",
       "  238.13,735.212 257.246,735.212 \n",
       "  \"/>\n",
       "<polyline clip-path=\"url(#clip980)\" style=\"stroke:#000000; stroke-width:4; stroke-opacity:1; fill:none\" points=\"\n",
       "  238.13,410.699 257.246,410.699 \n",
       "  \"/>\n",
       "<polyline clip-path=\"url(#clip980)\" style=\"stroke:#000000; stroke-width:4; stroke-opacity:1; fill:none\" points=\"\n",
       "  238.13,86.1857 257.246,86.1857 \n",
       "  \"/>\n",
       "<path clip-path=\"url(#clip980)\" d=\"M 0 0 M126.205 1370.04 Q122.593 1370.04 120.765 1373.6 Q118.959 1377.14 118.959 1384.27 Q118.959 1391.38 120.765 1394.94 Q122.593 1398.49 126.205 1398.49 Q129.839 1398.49 131.644 1394.94 Q133.473 1391.38 133.473 1384.27 Q133.473 1377.14 131.644 1373.6 Q129.839 1370.04 126.205 1370.04 M126.205 1366.33 Q132.015 1366.33 135.07 1370.94 Q138.149 1375.52 138.149 1384.27 Q138.149 1393 135.07 1397.61 Q132.015 1402.19 126.205 1402.19 Q120.394 1402.19 117.316 1397.61 Q114.26 1393 114.26 1384.27 Q114.26 1375.52 117.316 1370.94 Q120.394 1366.33 126.205 1366.33 Z\" fill=\"#000000\" fill-rule=\"evenodd\" fill-opacity=\"1\" /><path clip-path=\"url(#clip980)\" d=\"M 0 0 M143.218 1395.64 L148.103 1395.64 L148.103 1401.52 L143.218 1401.52 L143.218 1395.64 Z\" fill=\"#000000\" fill-rule=\"evenodd\" fill-opacity=\"1\" /><path clip-path=\"url(#clip980)\" d=\"M 0 0 M163.172 1370.04 Q159.561 1370.04 157.732 1373.6 Q155.927 1377.14 155.927 1384.27 Q155.927 1391.38 157.732 1394.94 Q159.561 1398.49 163.172 1398.49 Q166.806 1398.49 168.612 1394.94 Q170.44 1391.38 170.44 1384.27 Q170.44 1377.14 168.612 1373.6 Q166.806 1370.04 163.172 1370.04 M163.172 1366.33 Q168.982 1366.33 172.038 1370.94 Q175.116 1375.52 175.116 1384.27 Q175.116 1393 172.038 1397.61 Q168.982 1402.19 163.172 1402.19 Q157.362 1402.19 154.283 1397.61 Q151.228 1393 151.228 1384.27 Q151.228 1375.52 154.283 1370.94 Q157.362 1366.33 163.172 1366.33 Z\" fill=\"#000000\" fill-rule=\"evenodd\" fill-opacity=\"1\" /><path clip-path=\"url(#clip980)\" d=\"M 0 0 M190.186 1370.04 Q186.575 1370.04 184.746 1373.6 Q182.94 1377.14 182.94 1384.27 Q182.94 1391.38 184.746 1394.94 Q186.575 1398.49 190.186 1398.49 Q193.82 1398.49 195.625 1394.94 Q197.454 1391.38 197.454 1384.27 Q197.454 1377.14 195.625 1373.6 Q193.82 1370.04 190.186 1370.04 M190.186 1366.33 Q195.996 1366.33 199.051 1370.94 Q202.13 1375.52 202.13 1384.27 Q202.13 1393 199.051 1397.61 Q195.996 1402.19 190.186 1402.19 Q184.376 1402.19 181.297 1397.61 Q178.241 1393 178.241 1384.27 Q178.241 1375.52 181.297 1370.94 Q184.376 1366.33 190.186 1366.33 Z\" fill=\"#000000\" fill-rule=\"evenodd\" fill-opacity=\"1\" /><path clip-path=\"url(#clip980)\" d=\"M 0 0 M128.797 1045.52 Q125.186 1045.52 123.357 1049.09 Q121.552 1052.63 121.552 1059.76 Q121.552 1066.87 123.357 1070.43 Q125.186 1073.97 128.797 1073.97 Q132.431 1073.97 134.237 1070.43 Q136.066 1066.87 136.066 1059.76 Q136.066 1052.63 134.237 1049.09 Q132.431 1045.52 128.797 1045.52 M128.797 1041.82 Q134.607 1041.82 137.663 1046.43 Q140.741 1051.01 140.741 1059.76 Q140.741 1068.49 137.663 1073.09 Q134.607 1077.68 128.797 1077.68 Q122.987 1077.68 119.908 1073.09 Q116.853 1068.49 116.853 1059.76 Q116.853 1051.01 119.908 1046.43 Q122.987 1041.82 128.797 1041.82 Z\" fill=\"#000000\" fill-rule=\"evenodd\" fill-opacity=\"1\" /><path clip-path=\"url(#clip980)\" d=\"M 0 0 M145.811 1071.13 L150.695 1071.13 L150.695 1077.01 L145.811 1077.01 L145.811 1071.13 Z\" fill=\"#000000\" fill-rule=\"evenodd\" fill-opacity=\"1\" /><path clip-path=\"url(#clip980)\" d=\"M 0 0 M159.792 1073.07 L176.112 1073.07 L176.112 1077.01 L154.167 1077.01 L154.167 1073.07 Q156.829 1070.32 161.413 1065.69 Q166.019 1061.03 167.2 1059.69 Q169.445 1057.17 170.325 1055.43 Q171.227 1053.67 171.227 1051.98 Q171.227 1049.23 169.283 1047.49 Q167.362 1045.76 164.26 1045.76 Q162.061 1045.76 159.607 1046.52 Q157.177 1047.28 154.399 1048.83 L154.399 1044.11 Q157.223 1042.98 159.677 1042.4 Q162.13 1041.82 164.167 1041.82 Q169.538 1041.82 172.732 1044.51 Q175.926 1047.19 175.926 1051.68 Q175.926 1053.81 175.116 1055.73 Q174.329 1057.63 172.223 1060.22 Q171.644 1060.89 168.542 1064.11 Q165.44 1067.31 159.792 1073.07 Z\" fill=\"#000000\" fill-rule=\"evenodd\" fill-opacity=\"1\" /><path clip-path=\"url(#clip980)\" d=\"M 0 0 M181.227 1042.45 L199.584 1042.45 L199.584 1046.38 L185.51 1046.38 L185.51 1054.85 Q186.528 1054.51 187.547 1054.34 Q188.565 1054.16 189.584 1054.16 Q195.371 1054.16 198.75 1057.33 Q202.13 1060.5 202.13 1065.92 Q202.13 1071.5 198.658 1074.6 Q195.186 1077.68 188.866 1077.68 Q186.69 1077.68 184.422 1077.31 Q182.176 1076.94 179.769 1076.19 L179.769 1071.5 Q181.852 1072.63 184.075 1073.19 Q186.297 1073.74 188.774 1073.74 Q192.778 1073.74 195.116 1071.63 Q197.454 1069.53 197.454 1065.92 Q197.454 1062.31 195.116 1060.2 Q192.778 1058.09 188.774 1058.09 Q186.899 1058.09 185.024 1058.51 Q183.172 1058.93 181.227 1059.81 L181.227 1042.45 Z\" fill=\"#000000\" fill-rule=\"evenodd\" fill-opacity=\"1\" /><path clip-path=\"url(#clip980)\" d=\"M 0 0 M127.2 721.011 Q123.589 721.011 121.76 724.575 Q119.955 728.117 119.955 735.247 Q119.955 742.353 121.76 745.918 Q123.589 749.46 127.2 749.46 Q130.834 749.46 132.64 745.918 Q134.468 742.353 134.468 735.247 Q134.468 728.117 132.64 724.575 Q130.834 721.011 127.2 721.011 M127.2 717.307 Q133.01 717.307 136.066 721.913 Q139.144 726.497 139.144 735.247 Q139.144 743.973 136.066 748.58 Q133.01 753.163 127.2 753.163 Q121.39 753.163 118.311 748.58 Q115.256 743.973 115.256 735.247 Q115.256 726.497 118.311 721.913 Q121.39 717.307 127.2 717.307 Z\" fill=\"#000000\" fill-rule=\"evenodd\" fill-opacity=\"1\" /><path clip-path=\"url(#clip980)\" d=\"M 0 0 M144.214 746.612 L149.098 746.612 L149.098 752.492 L144.214 752.492 L144.214 746.612 Z\" fill=\"#000000\" fill-rule=\"evenodd\" fill-opacity=\"1\" /><path clip-path=\"url(#clip980)\" d=\"M 0 0 M154.214 717.932 L172.57 717.932 L172.57 721.867 L158.496 721.867 L158.496 730.339 Q159.515 729.992 160.533 729.83 Q161.552 729.645 162.57 729.645 Q168.357 729.645 171.737 732.816 Q175.116 735.987 175.116 741.404 Q175.116 746.983 171.644 750.085 Q168.172 753.163 161.852 753.163 Q159.677 753.163 157.408 752.793 Q155.163 752.423 152.755 751.682 L152.755 746.983 Q154.839 748.117 157.061 748.673 Q159.283 749.228 161.76 749.228 Q165.765 749.228 168.102 747.122 Q170.44 745.015 170.44 741.404 Q170.44 737.793 168.102 735.687 Q165.765 733.58 161.76 733.58 Q159.885 733.58 158.01 733.997 Q156.158 734.413 154.214 735.293 L154.214 717.932 Z\" fill=\"#000000\" fill-rule=\"evenodd\" fill-opacity=\"1\" /><path clip-path=\"url(#clip980)\" d=\"M 0 0 M190.186 721.011 Q186.575 721.011 184.746 724.575 Q182.94 728.117 182.94 735.247 Q182.94 742.353 184.746 745.918 Q186.575 749.46 190.186 749.46 Q193.82 749.46 195.625 745.918 Q197.454 742.353 197.454 735.247 Q197.454 728.117 195.625 724.575 Q193.82 721.011 190.186 721.011 M190.186 717.307 Q195.996 717.307 199.051 721.913 Q202.13 726.497 202.13 735.247 Q202.13 743.973 199.051 748.58 Q195.996 753.163 190.186 753.163 Q184.376 753.163 181.297 748.58 Q178.241 743.973 178.241 735.247 Q178.241 726.497 181.297 721.913 Q184.376 717.307 190.186 717.307 Z\" fill=\"#000000\" fill-rule=\"evenodd\" fill-opacity=\"1\" /><path clip-path=\"url(#clip980)\" d=\"M 0 0 M128.103 396.498 Q124.492 396.498 122.663 400.062 Q120.857 403.604 120.857 410.734 Q120.857 417.84 122.663 421.405 Q124.492 424.946 128.103 424.946 Q131.737 424.946 133.542 421.405 Q135.371 417.84 135.371 410.734 Q135.371 403.604 133.542 400.062 Q131.737 396.498 128.103 396.498 M128.103 392.794 Q133.913 392.794 136.968 397.4 Q140.047 401.984 140.047 410.734 Q140.047 419.46 136.968 424.067 Q133.913 428.65 128.103 428.65 Q122.293 428.65 119.214 424.067 Q116.158 419.46 116.158 410.734 Q116.158 401.984 119.214 397.4 Q122.293 392.794 128.103 392.794 Z\" fill=\"#000000\" fill-rule=\"evenodd\" fill-opacity=\"1\" /><path clip-path=\"url(#clip980)\" d=\"M 0 0 M145.116 422.099 L150.001 422.099 L150.001 427.979 L145.116 427.979 L145.116 422.099 Z\" fill=\"#000000\" fill-rule=\"evenodd\" fill-opacity=\"1\" /><path clip-path=\"url(#clip980)\" d=\"M 0 0 M153.89 393.419 L176.112 393.419 L176.112 395.41 L163.565 427.979 L158.681 427.979 L170.487 397.354 L153.89 397.354 L153.89 393.419 Z\" fill=\"#000000\" fill-rule=\"evenodd\" fill-opacity=\"1\" /><path clip-path=\"url(#clip980)\" d=\"M 0 0 M181.227 393.419 L199.584 393.419 L199.584 397.354 L185.51 397.354 L185.51 405.826 Q186.528 405.479 187.547 405.317 Q188.565 405.132 189.584 405.132 Q195.371 405.132 198.75 408.303 Q202.13 411.474 202.13 416.891 Q202.13 422.47 198.658 425.571 Q195.186 428.65 188.866 428.65 Q186.69 428.65 184.422 428.28 Q182.176 427.909 179.769 427.169 L179.769 422.47 Q181.852 423.604 184.075 424.159 Q186.297 424.715 188.774 424.715 Q192.778 424.715 195.116 422.608 Q197.454 420.502 197.454 416.891 Q197.454 413.28 195.116 411.173 Q192.778 409.067 188.774 409.067 Q186.899 409.067 185.024 409.484 Q183.172 409.9 181.227 410.78 L181.227 393.419 Z\" fill=\"#000000\" fill-rule=\"evenodd\" fill-opacity=\"1\" /><path clip-path=\"url(#clip980)\" d=\"M 0 0 M118.242 99.5305 L125.88 99.5305 L125.88 73.1649 L117.57 74.8316 L117.57 70.5723 L125.834 68.9057 L130.51 68.9057 L130.51 99.5305 L138.149 99.5305 L138.149 103.466 L118.242 103.466 L118.242 99.5305 Z\" fill=\"#000000\" fill-rule=\"evenodd\" fill-opacity=\"1\" /><path clip-path=\"url(#clip980)\" d=\"M 0 0 M143.218 97.5861 L148.103 97.5861 L148.103 103.466 L143.218 103.466 L143.218 97.5861 Z\" fill=\"#000000\" fill-rule=\"evenodd\" fill-opacity=\"1\" /><path clip-path=\"url(#clip980)\" d=\"M 0 0 M163.172 71.9844 Q159.561 71.9844 157.732 75.5492 Q155.927 79.0908 155.927 86.2204 Q155.927 93.3268 157.732 96.8916 Q159.561 100.433 163.172 100.433 Q166.806 100.433 168.612 96.8916 Q170.44 93.3268 170.44 86.2204 Q170.44 79.0908 168.612 75.5492 Q166.806 71.9844 163.172 71.9844 M163.172 68.2807 Q168.982 68.2807 172.038 72.8871 Q175.116 77.4704 175.116 86.2204 Q175.116 94.9472 172.038 99.5537 Q168.982 104.137 163.172 104.137 Q157.362 104.137 154.283 99.5537 Q151.228 94.9472 151.228 86.2204 Q151.228 77.4704 154.283 72.8871 Q157.362 68.2807 163.172 68.2807 Z\" fill=\"#000000\" fill-rule=\"evenodd\" fill-opacity=\"1\" /><path clip-path=\"url(#clip980)\" d=\"M 0 0 M190.186 71.9844 Q186.575 71.9844 184.746 75.5492 Q182.94 79.0908 182.94 86.2204 Q182.94 93.3268 184.746 96.8916 Q186.575 100.433 190.186 100.433 Q193.82 100.433 195.625 96.8916 Q197.454 93.3268 197.454 86.2204 Q197.454 79.0908 195.625 75.5492 Q193.82 71.9844 190.186 71.9844 M190.186 68.2807 Q195.996 68.2807 199.051 72.8871 Q202.13 77.4704 202.13 86.2204 Q202.13 94.9472 199.051 99.5537 Q195.996 104.137 190.186 104.137 Q184.376 104.137 181.297 99.5537 Q178.241 94.9472 178.241 86.2204 Q178.241 77.4704 181.297 72.8871 Q184.376 68.2807 190.186 68.2807 Z\" fill=\"#000000\" fill-rule=\"evenodd\" fill-opacity=\"1\" /><path clip-path=\"url(#clip980)\" d=\"M 0 0 M44.1444 962.531 L50.9239 962.531 Q47.9002 965.778 46.4043 969.47 Q44.9083 973.13 44.9083 977.268 Q44.9083 985.416 49.9054 989.745 Q54.8707 994.073 64.2919 994.073 Q73.6813 994.073 78.6784 989.745 Q83.6436 985.416 83.6436 977.268 Q83.6436 973.13 82.1477 969.47 Q80.6518 965.778 77.6281 962.531 L84.3439 962.531 Q86.6355 965.905 87.7814 969.693 Q88.9272 973.449 88.9272 977.65 Q88.9272 988.44 82.3387 994.646 Q75.7183 1000.85 64.2919 1000.85 Q52.8336 1000.85 46.2451 994.646 Q39.6248 988.44 39.6248 977.65 Q39.6248 973.385 40.7706 969.629 Q41.8846 965.842 44.1444 962.531 Z\" fill=\"#000000\" fill-rule=\"evenodd\" fill-opacity=\"1\" /><path clip-path=\"url(#clip980)\" d=\"M 0 0 M38.479 956.388 L38.479 950.532 L88.0042 950.532 L88.0042 956.388 L38.479 956.388 Z\" fill=\"#000000\" fill-rule=\"evenodd\" fill-opacity=\"1\" /><path clip-path=\"url(#clip980)\" d=\"M 0 0 M73.9359 944.994 L52.3562 944.994 L52.3562 939.137 L73.7131 939.137 Q78.7739 939.137 81.3202 937.164 Q83.8346 935.191 83.8346 931.244 Q83.8346 926.501 80.8109 923.764 Q77.7872 920.995 72.5673 920.995 L52.3562 920.995 L52.3562 915.139 L88.0042 915.139 L88.0042 920.995 L82.5296 920.995 Q85.7762 923.128 87.3676 925.96 Q88.9272 928.761 88.9272 932.485 Q88.9272 938.628 85.1078 941.811 Q81.2883 944.994 73.9359 944.994 M51.4968 930.257 L51.4968 930.257 Z\" fill=\"#000000\" fill-rule=\"evenodd\" fill-opacity=\"1\" /><path clip-path=\"url(#clip980)\" d=\"M 0 0 M53.4065 886.27 L58.9447 886.27 Q57.6716 888.753 57.035 891.426 Q56.3984 894.1 56.3984 896.965 Q56.3984 901.325 57.7352 903.521 Q59.072 905.686 61.7456 905.686 Q63.7826 905.686 64.9603 904.126 Q66.1061 902.566 67.1565 897.856 L67.6021 895.851 Q68.9389 889.612 71.3897 887.002 Q73.8086 884.36 78.1691 884.36 Q83.1344 884.36 86.0308 888.307 Q88.9272 892.222 88.9272 899.097 Q88.9272 901.962 88.3543 905.081 Q87.8132 908.168 86.6992 911.606 L80.6518 911.606 Q82.3387 908.359 83.198 905.208 Q84.0256 902.057 84.0256 898.97 Q84.0256 894.832 82.6251 892.604 Q81.1929 890.376 78.6147 890.376 Q76.2276 890.376 74.9545 891.999 Q73.6813 893.591 72.5037 899.033 L72.0262 901.07 Q70.8804 906.513 68.5251 908.932 Q66.138 911.351 62.0002 911.351 Q56.9713 911.351 54.2341 907.786 Q51.4968 904.221 51.4968 897.665 Q51.4968 894.418 51.9743 891.554 Q52.4517 888.689 53.4065 886.27 Z\" fill=\"#000000\" fill-rule=\"evenodd\" fill-opacity=\"1\" /><path clip-path=\"url(#clip980)\" d=\"M 0 0 M42.2347 872.425 L52.3562 872.425 L52.3562 860.362 L56.9077 860.362 L56.9077 872.425 L76.2594 872.425 Q80.6199 872.425 81.8613 871.247 Q83.1026 870.038 83.1026 866.377 L83.1026 860.362 L88.0042 860.362 L88.0042 866.377 Q88.0042 873.157 85.4897 875.735 Q82.9434 878.313 76.2594 878.313 L56.9077 878.313 L56.9077 882.61 L52.3562 882.61 L52.3562 878.313 L42.2347 878.313 L42.2347 872.425 Z\" fill=\"#000000\" fill-rule=\"evenodd\" fill-opacity=\"1\" /><path clip-path=\"url(#clip980)\" d=\"M 0 0 M68.7161 823.727 L71.5806 823.727 L71.5806 850.654 Q77.6281 850.272 80.8109 847.026 Q83.9619 843.747 83.9619 837.923 Q83.9619 834.549 83.1344 831.398 Q82.3069 828.215 80.6518 825.096 L86.1899 825.096 Q87.5267 828.247 88.227 831.557 Q88.9272 834.867 88.9272 838.273 Q88.9272 846.803 83.9619 851.8 Q78.9967 856.765 70.5303 856.765 Q61.7774 856.765 56.6531 852.055 Q51.4968 847.312 51.4968 839.291 Q51.4968 832.098 56.1438 827.928 Q60.7589 823.727 68.7161 823.727 M66.9973 829.584 Q62.1912 829.647 59.3266 832.289 Q56.4621 834.899 56.4621 839.228 Q56.4621 844.129 59.2312 847.089 Q62.0002 850.017 67.0292 850.463 L66.9973 829.584 Z\" fill=\"#000000\" fill-rule=\"evenodd\" fill-opacity=\"1\" /><path clip-path=\"url(#clip980)\" d=\"M 0 0 M57.8307 796.927 Q57.2578 797.914 57.0032 799.092 Q56.7167 800.238 56.7167 801.638 Q56.7167 806.603 59.9632 809.277 Q63.1779 811.919 69.2253 811.919 L88.0042 811.919 L88.0042 817.807 L52.3562 817.807 L52.3562 811.919 L57.8944 811.919 Q54.6479 810.073 53.0883 807.113 Q51.4968 804.153 51.4968 799.919 Q51.4968 799.315 51.5923 798.583 Q51.656 797.851 51.8151 796.959 L57.8307 796.927 Z\" fill=\"#000000\" fill-rule=\"evenodd\" fill-opacity=\"1\" /><path clip-path=\"url(#clip980)\" d=\"M 0 0 M45.7677 763.38 L63.6235 763.38 L63.6235 755.296 Q63.6235 750.808 61.3 748.357 Q58.9765 745.906 54.6797 745.906 Q50.4147 745.906 48.0912 748.357 Q45.7677 750.808 45.7677 755.296 L45.7677 763.38 M40.4842 769.81 L40.4842 755.296 Q40.4842 747.307 44.1126 743.233 Q47.7092 739.127 54.6797 739.127 Q61.7138 739.127 65.3104 743.233 Q68.907 747.307 68.907 755.296 L68.907 763.38 L88.0042 763.38 L88.0042 769.81 L40.4842 769.81 Z\" fill=\"#000000\" fill-rule=\"evenodd\" fill-opacity=\"1\" /><path clip-path=\"url(#clip980)\" d=\"M 0 0 M57.8307 713.473 Q57.2578 714.46 57.0032 715.637 Q56.7167 716.783 56.7167 718.184 Q56.7167 723.149 59.9632 725.823 Q63.1779 728.464 69.2253 728.464 L88.0042 728.464 L88.0042 734.353 L52.3562 734.353 L52.3562 728.464 L57.8944 728.464 Q54.6479 726.618 53.0883 723.658 Q51.4968 720.698 51.4968 716.465 Q51.4968 715.86 51.5923 715.128 Q51.656 714.396 51.8151 713.505 L57.8307 713.473 Z\" fill=\"#000000\" fill-rule=\"evenodd\" fill-opacity=\"1\" /><path clip-path=\"url(#clip980)\" d=\"M 0 0 M56.4621 694.949 Q56.4621 699.659 60.1542 702.397 Q63.8145 705.134 70.212 705.134 Q76.6095 705.134 80.3017 702.429 Q83.9619 699.691 83.9619 694.949 Q83.9619 690.27 80.2698 687.533 Q76.5777 684.796 70.212 684.796 Q63.8781 684.796 60.186 687.533 Q56.4621 690.27 56.4621 694.949 M51.4968 694.949 Q51.4968 687.31 56.4621 682.95 Q61.4273 678.589 70.212 678.589 Q78.9649 678.589 83.9619 682.95 Q88.9272 687.31 88.9272 694.949 Q88.9272 702.62 83.9619 706.98 Q78.9649 711.309 70.212 711.309 Q61.4273 711.309 56.4621 706.98 Q51.4968 702.62 51.4968 694.949 Z\" fill=\"#000000\" fill-rule=\"evenodd\" fill-opacity=\"1\" /><path clip-path=\"url(#clip980)\" d=\"M 0 0 M82.657 666.781 L101.563 666.781 L101.563 672.669 L52.3562 672.669 L52.3562 666.781 L57.7671 666.781 Q54.5842 664.935 53.0564 662.134 Q51.4968 659.301 51.4968 655.386 Q51.4968 648.893 56.6531 644.851 Q61.8093 640.777 70.212 640.777 Q78.6147 640.777 83.771 644.851 Q88.9272 648.893 88.9272 655.386 Q88.9272 659.301 87.3994 662.134 Q85.8398 664.935 82.657 666.781 M70.212 646.856 Q63.7508 646.856 60.0905 649.53 Q56.3984 652.171 56.3984 656.818 Q56.3984 661.465 60.0905 664.139 Q63.7508 666.781 70.212 666.781 Q76.6732 666.781 80.3653 664.139 Q84.0256 661.465 84.0256 656.818 Q84.0256 652.171 80.3653 649.53 Q76.6732 646.856 70.212 646.856 Z\" fill=\"#000000\" fill-rule=\"evenodd\" fill-opacity=\"1\" /><path clip-path=\"url(#clip980)\" d=\"M 0 0 M56.4621 620.82 Q56.4621 625.531 60.1542 628.268 Q63.8145 631.005 70.212 631.005 Q76.6095 631.005 80.3017 628.3 Q83.9619 625.563 83.9619 620.82 Q83.9619 616.141 80.2698 613.404 Q76.5777 610.667 70.212 610.667 Q63.8781 610.667 60.186 613.404 Q56.4621 616.141 56.4621 620.82 M51.4968 620.82 Q51.4968 613.181 56.4621 608.821 Q61.4273 604.46 70.212 604.46 Q78.9649 604.46 83.9619 608.821 Q88.9272 613.181 88.9272 620.82 Q88.9272 628.491 83.9619 632.851 Q78.9649 637.18 70.212 637.18 Q61.4273 637.18 56.4621 632.851 Q51.4968 628.491 51.4968 620.82 Z\" fill=\"#000000\" fill-rule=\"evenodd\" fill-opacity=\"1\" /><path clip-path=\"url(#clip980)\" d=\"M 0 0 M57.8307 577.661 Q57.2578 578.647 57.0032 579.825 Q56.7167 580.971 56.7167 582.371 Q56.7167 587.337 59.9632 590.01 Q63.1779 592.652 69.2253 592.652 L88.0042 592.652 L88.0042 598.54 L52.3562 598.54 L52.3562 592.652 L57.8944 592.652 Q54.6479 590.806 53.0883 587.846 Q51.4968 584.886 51.4968 580.653 Q51.4968 580.048 51.5923 579.316 Q51.656 578.584 51.8151 577.693 L57.8307 577.661 Z\" fill=\"#000000\" fill-rule=\"evenodd\" fill-opacity=\"1\" /><path clip-path=\"url(#clip980)\" d=\"M 0 0 M42.2347 565.725 L52.3562 565.725 L52.3562 553.662 L56.9077 553.662 L56.9077 565.725 L76.2594 565.725 Q80.6199 565.725 81.8613 564.547 Q83.1026 563.338 83.1026 559.678 L83.1026 553.662 L88.0042 553.662 L88.0042 559.678 Q88.0042 566.457 85.4897 569.035 Q82.9434 571.613 76.2594 571.613 L56.9077 571.613 L56.9077 575.91 L52.3562 575.91 L52.3562 571.613 L42.2347 571.613 L42.2347 565.725 Z\" fill=\"#000000\" fill-rule=\"evenodd\" fill-opacity=\"1\" /><path clip-path=\"url(#clip980)\" d=\"M 0 0 M52.3562 547.519 L52.3562 541.663 L88.0042 541.663 L88.0042 547.519 L52.3562 547.519 M38.479 547.519 L38.479 541.663 L45.895 541.663 L45.895 547.519 L38.479 547.519 Z\" fill=\"#000000\" fill-rule=\"evenodd\" fill-opacity=\"1\" /><path clip-path=\"url(#clip980)\" d=\"M 0 0 M56.4621 521.706 Q56.4621 526.417 60.1542 529.154 Q63.8145 531.891 70.212 531.891 Q76.6095 531.891 80.3017 529.186 Q83.9619 526.449 83.9619 521.706 Q83.9619 517.027 80.2698 514.29 Q76.5777 511.553 70.212 511.553 Q63.8781 511.553 60.186 514.29 Q56.4621 517.027 56.4621 521.706 M51.4968 521.706 Q51.4968 514.067 56.4621 509.707 Q61.4273 505.346 70.212 505.346 Q78.9649 505.346 83.9619 509.707 Q88.9272 514.067 88.9272 521.706 Q88.9272 529.377 83.9619 533.737 Q78.9649 538.066 70.212 538.066 Q61.4273 538.066 56.4621 533.737 Q51.4968 529.377 51.4968 521.706 Z\" fill=\"#000000\" fill-rule=\"evenodd\" fill-opacity=\"1\" /><path clip-path=\"url(#clip980)\" d=\"M 0 0 M66.4881 469.571 L88.0042 469.571 L88.0042 475.427 L66.679 475.427 Q61.6183 475.427 59.1038 477.401 Q56.5894 479.374 56.5894 483.321 Q56.5894 488.063 59.6131 490.801 Q62.6368 493.538 67.8567 493.538 L88.0042 493.538 L88.0042 499.426 L52.3562 499.426 L52.3562 493.538 L57.8944 493.538 Q54.6797 491.437 53.0883 488.604 Q51.4968 485.74 51.4968 482.016 Q51.4968 475.873 55.3163 472.722 Q59.1038 469.571 66.4881 469.571 Z\" fill=\"#000000\" fill-rule=\"evenodd\" fill-opacity=\"1\" /><path clip-path=\"url(#clip982)\" d=\"\n",
       "M283.215 86.1857 L471.069 86.1857 L658.923 86.1857 L846.776 86.1857 L1034.63 86.1857 L1222.48 86.1857 L1410.34 86.1857 L1598.19 86.1857 L1786.05 86.1857 L1786.05 1384.24 \n",
       "  L1598.19 1384.24 L1410.34 1384.24 L1222.48 1384.24 L1034.63 1384.24 L846.776 1384.24 L658.923 1384.24 L471.069 1384.24 L283.215 1384.24  Z\n",
       "  \" fill=\"#7ec87e\" fill-rule=\"evenodd\" fill-opacity=\"1\"/>\n",
       "<polyline clip-path=\"url(#clip982)\" style=\"stroke:#7ec87e; stroke-width:4; stroke-opacity:1; fill:none\" points=\"\n",
       "  283.215,86.1857 471.069,86.1857 658.923,86.1857 846.776,86.1857 1034.63,86.1857 1222.48,86.1857 1410.34,86.1857 1598.19,86.1857 1786.05,86.1857 \n",
       "  \"/>\n",
       "<path clip-path=\"url(#clip982)\" d=\"\n",
       "M283.215 86.1857 L471.069 86.1857 L658.923 86.1857 L846.776 86.1857 L1034.63 86.1857 L1222.48 86.1857 L1410.34 86.1857 L1598.19 86.1857 L1786.05 276.145 L1786.05 1384.24 \n",
       "  L1598.19 1384.24 L1410.34 1384.24 L1222.48 1384.24 L1034.63 1384.24 L846.776 1384.24 L658.923 1384.24 L471.069 1384.24 L283.215 1384.24  Z\n",
       "  \" fill=\"#bdadd3\" fill-rule=\"evenodd\" fill-opacity=\"1\"/>\n",
       "<polyline clip-path=\"url(#clip982)\" style=\"stroke:#bdadd3; stroke-width:4; stroke-opacity:1; fill:none\" points=\"\n",
       "  283.215,86.1857 471.069,86.1857 658.923,86.1857 846.776,86.1857 1034.63,86.1857 1222.48,86.1857 1410.34,86.1857 1598.19,86.1857 1786.05,276.145 \n",
       "  \"/>\n",
       "<path clip-path=\"url(#clip982)\" d=\"\n",
       "M283.215 86.1857 L471.069 86.1857 L658.923 86.1857 L846.776 86.1857 L1034.63 86.1857 L1222.48 86.1857 L1410.34 86.1857 L1598.19 342.982 L1786.05 536.459 L1786.05 1384.24 \n",
       "  L1598.19 1384.24 L1410.34 1384.24 L1222.48 1384.24 L1034.63 1384.24 L846.776 1384.24 L658.923 1384.24 L471.069 1384.24 L283.215 1384.24  Z\n",
       "  \" fill=\"#fcc085\" fill-rule=\"evenodd\" fill-opacity=\"1\"/>\n",
       "<polyline clip-path=\"url(#clip982)\" style=\"stroke:#fcc085; stroke-width:4; stroke-opacity:1; fill:none\" points=\"\n",
       "  283.215,86.1857 471.069,86.1857 658.923,86.1857 846.776,86.1857 1034.63,86.1857 1222.48,86.1857 1410.34,86.1857 1598.19,342.982 1786.05,536.459 \n",
       "  \"/>\n",
       "<path clip-path=\"url(#clip982)\" d=\"\n",
       "M283.215 86.1857 L471.069 86.1857 L658.923 86.1857 L846.776 86.1857 L1034.63 86.1857 L1222.48 86.1857 L1410.34 87.9446 L1598.19 344.741 L1786.05 538.218 L1786.05 1384.24 \n",
       "  L1598.19 1384.24 L1410.34 1384.24 L1222.48 1384.24 L1034.63 1384.24 L846.776 1384.24 L658.923 1384.24 L471.069 1384.24 L283.215 1384.24  Z\n",
       "  \" fill=\"#ffff99\" fill-rule=\"evenodd\" fill-opacity=\"1\"/>\n",
       "<polyline clip-path=\"url(#clip982)\" style=\"stroke:#ffff99; stroke-width:4; stroke-opacity:1; fill:none\" points=\"\n",
       "  283.215,86.1857 471.069,86.1857 658.923,86.1857 846.776,86.1857 1034.63,86.1857 1222.48,86.1857 1410.34,87.9446 1598.19,344.741 1786.05,538.218 \n",
       "  \"/>\n",
       "<path clip-path=\"url(#clip982)\" d=\"\n",
       "M283.215 86.1857 L471.069 86.1857 L658.923 86.1857 L846.776 86.1857 L1034.63 86.1857 L1222.48 575.154 L1410.34 573.395 L1598.19 796.773 L1786.05 1009.6 L1786.05 1384.24 \n",
       "  L1598.19 1384.24 L1410.34 1384.24 L1222.48 1384.24 L1034.63 1384.24 L846.776 1384.24 L658.923 1384.24 L471.069 1384.24 L283.215 1384.24  Z\n",
       "  \" fill=\"#386caf\" fill-rule=\"evenodd\" fill-opacity=\"1\"/>\n",
       "<polyline clip-path=\"url(#clip982)\" style=\"stroke:#386caf; stroke-width:4; stroke-opacity:1; fill:none\" points=\"\n",
       "  283.215,86.1857 471.069,86.1857 658.923,86.1857 846.776,86.1857 1034.63,86.1857 1222.48,575.154 1410.34,573.395 1598.19,796.773 1786.05,1009.6 \n",
       "  \"/>\n",
       "<path clip-path=\"url(#clip982)\" d=\"\n",
       "M283.215 86.1857 L471.069 86.1857 L658.923 86.1857 L846.776 86.1857 L1034.63 645.509 L1222.48 726.418 L1410.34 721.141 L1598.19 1111.61 L1786.05 1097.54 L1786.05 1384.24 \n",
       "  L1598.19 1384.24 L1410.34 1384.24 L1222.48 1384.24 L1034.63 1384.24 L846.776 1384.24 L658.923 1384.24 L471.069 1384.24 L283.215 1384.24  Z\n",
       "  \" fill=\"#ef027e\" fill-rule=\"evenodd\" fill-opacity=\"1\"/>\n",
       "<polyline clip-path=\"url(#clip982)\" style=\"stroke:#ef027e; stroke-width:4; stroke-opacity:1; fill:none\" points=\"\n",
       "  283.215,86.1857 471.069,86.1857 658.923,86.1857 846.776,86.1857 1034.63,645.509 1222.48,726.418 1410.34,721.141 1598.19,1111.61 1786.05,1097.54 \n",
       "  \"/>\n",
       "<path clip-path=\"url(#clip982)\" d=\"\n",
       "M283.215 86.1857 L471.069 86.1857 L658.923 86.1857 L846.776 149.505 L1034.63 705.311 L1222.48 786.219 L1410.34 780.943 L1598.19 1171.41 L1786.05 1157.34 L1786.05 1384.24 \n",
       "  L1598.19 1384.24 L1410.34 1384.24 L1222.48 1384.24 L1034.63 1384.24 L846.776 1384.24 L658.923 1384.24 L471.069 1384.24 L283.215 1384.24  Z\n",
       "  \" fill=\"#be5b16\" fill-rule=\"evenodd\" fill-opacity=\"1\"/>\n",
       "<polyline clip-path=\"url(#clip982)\" style=\"stroke:#be5b16; stroke-width:4; stroke-opacity:1; fill:none\" points=\"\n",
       "  283.215,86.1857 471.069,86.1857 658.923,86.1857 846.776,149.505 1034.63,705.311 1222.48,786.219 1410.34,780.943 1598.19,1171.41 1786.05,1157.34 \n",
       "  \"/>\n",
       "<path clip-path=\"url(#clip982)\" d=\"\n",
       "M283.215 86.1857 L471.069 86.1857 L658.923 119.604 L846.776 186.442 L1034.63 740.489 L1222.48 816.12 L1410.34 819.638 L1598.19 1211.87 L1786.05 1180.21 L1786.05 1384.24 \n",
       "  L1598.19 1384.24 L1410.34 1384.24 L1222.48 1384.24 L1034.63 1384.24 L846.776 1384.24 L658.923 1384.24 L471.069 1384.24 L283.215 1384.24  Z\n",
       "  \" fill=\"#666666\" fill-rule=\"evenodd\" fill-opacity=\"1\"/>\n",
       "<polyline clip-path=\"url(#clip982)\" style=\"stroke:#666666; stroke-width:4; stroke-opacity:1; fill:none\" points=\"\n",
       "  283.215,86.1857 471.069,86.1857 658.923,119.604 846.776,186.442 1034.63,740.489 1222.48,816.12 1410.34,819.638 1598.19,1211.87 1786.05,1180.21 \n",
       "  \"/>\n",
       "<path clip-path=\"url(#clip982)\" d=\"\n",
       "M283.215 86.1857 L471.069 501.281 L658.923 536.459 L846.776 766.872 L1034.63 951.554 L1222.48 1000.8 L1410.34 1018.39 L1598.19 1232.97 L1786.05 1201.31 L1786.05 1384.24 \n",
       "  L1598.19 1384.24 L1410.34 1384.24 L1222.48 1384.24 L1034.63 1384.24 L846.776 1384.24 L658.923 1384.24 L471.069 1384.24 L283.215 1384.24  Z\n",
       "  \" fill=\"#7ec87e\" fill-rule=\"evenodd\" fill-opacity=\"1\"/>\n",
       "<polyline clip-path=\"url(#clip982)\" style=\"stroke:#7ec87e; stroke-width:4; stroke-opacity:1; fill:none\" points=\"\n",
       "  283.215,86.1857 471.069,501.281 658.923,536.459 846.776,766.872 1034.63,951.554 1222.48,1000.8 1410.34,1018.39 1598.19,1232.97 1786.05,1201.31 \n",
       "  \"/>\n",
       "<path clip-path=\"url(#clip982)\" d=\"\n",
       "M283.215 884.717 L471.069 1074.68 L658.923 1092.26 L846.776 1155.58 L1034.63 1264.63 L1222.48 1264.63 L1410.34 1275.19 L1598.19 1296.29 L1786.05 1266.39 L1786.05 1384.24 \n",
       "  L1598.19 1384.24 L1410.34 1384.24 L1222.48 1384.24 L1034.63 1384.24 L846.776 1384.24 L658.923 1384.24 L471.069 1384.24 L283.215 1384.24  Z\n",
       "  \" fill=\"#bdadd3\" fill-rule=\"evenodd\" fill-opacity=\"1\"/>\n",
       "<polyline clip-path=\"url(#clip982)\" style=\"stroke:#bdadd3; stroke-width:4; stroke-opacity:1; fill:none\" points=\"\n",
       "  283.215,884.717 471.069,1074.68 658.923,1092.26 846.776,1155.58 1034.63,1264.63 1222.48,1264.63 1410.34,1275.19 1598.19,1296.29 1786.05,1266.39 \n",
       "  \"/>\n",
       "<path clip-path=\"url(#clip980)\" d=\"\n",
       "M1901.62 758.389 L2352.76 758.389 L2352.76 93.1086 L1901.62 93.1086  Z\n",
       "  \" fill=\"#ffffff\" fill-rule=\"evenodd\" fill-opacity=\"1\"/>\n",
       "<polyline clip-path=\"url(#clip980)\" style=\"stroke:#000000; stroke-width:4; stroke-opacity:1; fill:none\" points=\"\n",
       "  1901.62,758.389 2352.76,758.389 2352.76,93.1086 1901.62,93.1086 1901.62,758.389 \n",
       "  \"/>\n",
       "<path clip-path=\"url(#clip980)\" d=\"\n",
       "M1925.11 177.781 L2066.09 177.781 L2066.09 129.397 L1925.11 129.397 L1925.11 177.781  Z\n",
       "  \" fill=\"#7ec87e\" fill-rule=\"evenodd\" fill-opacity=\"1\"/>\n",
       "<polyline clip-path=\"url(#clip980)\" style=\"stroke:#7ec87e; stroke-width:4; stroke-opacity:1; fill:none\" points=\"\n",
       "  1925.11,129.397 2066.09,129.397 \n",
       "  \"/>\n",
       "<path clip-path=\"url(#clip980)\" d=\"M 0 0 M2117.46 138.971 L2117.46 143.901 Q2115.09 141.702 2112.41 140.614 Q2109.75 139.526 2106.74 139.526 Q2100.81 139.526 2097.66 143.16 Q2094.52 146.772 2094.52 153.623 Q2094.52 160.452 2097.66 164.086 Q2100.81 167.697 2106.74 167.697 Q2109.75 167.697 2112.41 166.609 Q2115.09 165.521 2117.46 163.322 L2117.46 168.207 Q2115 169.873 2112.25 170.707 Q2109.52 171.54 2106.46 171.54 Q2098.61 171.54 2094.1 166.748 Q2089.58 161.933 2089.58 153.623 Q2089.58 145.29 2094.1 140.498 Q2098.61 135.684 2106.46 135.684 Q2109.56 135.684 2112.29 136.517 Q2115.05 137.327 2117.46 138.971 Z\" fill=\"#000000\" fill-rule=\"evenodd\" fill-opacity=\"1\" /><path clip-path=\"url(#clip980)\" d=\"M 0 0 M2121.92 134.85 L2126.18 134.85 L2126.18 170.869 L2121.92 170.869 L2121.92 134.85 Z\" fill=\"#000000\" fill-rule=\"evenodd\" fill-opacity=\"1\" /><path clip-path=\"url(#clip980)\" d=\"M 0 0 M2130.21 160.637 L2130.21 144.943 L2134.47 144.943 L2134.47 160.475 Q2134.47 164.156 2135.9 166.008 Q2137.34 167.836 2140.21 167.836 Q2143.66 167.836 2145.65 165.637 Q2147.66 163.438 2147.66 159.642 L2147.66 144.943 L2151.92 144.943 L2151.92 170.869 L2147.66 170.869 L2147.66 166.887 Q2146.11 169.248 2144.05 170.406 Q2142.02 171.54 2139.31 171.54 Q2134.84 171.54 2132.52 168.762 Q2130.21 165.984 2130.21 160.637 M2140.93 144.318 L2140.93 144.318 Z\" fill=\"#000000\" fill-rule=\"evenodd\" fill-opacity=\"1\" /><path clip-path=\"url(#clip980)\" d=\"M 0 0 M2172.92 145.707 L2172.92 149.734 Q2171.11 148.809 2169.17 148.346 Q2167.22 147.883 2165.14 147.883 Q2161.97 147.883 2160.37 148.855 Q2158.8 149.827 2158.8 151.771 Q2158.8 153.253 2159.93 154.109 Q2161.07 154.943 2164.49 155.707 L2165.95 156.031 Q2170.49 157.003 2172.39 158.785 Q2174.31 160.545 2174.31 163.716 Q2174.31 167.327 2171.44 169.433 Q2168.59 171.54 2163.59 171.54 Q2161.51 171.54 2159.24 171.123 Q2156.99 170.73 2154.49 169.92 L2154.49 165.521 Q2156.85 166.748 2159.14 167.373 Q2161.44 167.975 2163.68 167.975 Q2166.69 167.975 2168.31 166.957 Q2169.93 165.915 2169.93 164.04 Q2169.93 162.304 2168.75 161.378 Q2167.59 160.452 2163.64 159.596 L2162.15 159.248 Q2158.2 158.415 2156.44 156.702 Q2154.68 154.966 2154.68 151.957 Q2154.68 148.299 2157.27 146.309 Q2159.86 144.318 2164.63 144.318 Q2166.99 144.318 2169.08 144.665 Q2171.16 145.012 2172.92 145.707 Z\" fill=\"#000000\" fill-rule=\"evenodd\" fill-opacity=\"1\" /><path clip-path=\"url(#clip980)\" d=\"M 0 0 M2182.99 137.582 L2182.99 144.943 L2191.76 144.943 L2191.76 148.253 L2182.99 148.253 L2182.99 162.327 Q2182.99 165.498 2183.84 166.401 Q2184.72 167.304 2187.39 167.304 L2191.76 167.304 L2191.76 170.869 L2187.39 170.869 Q2182.45 170.869 2180.58 169.04 Q2178.7 167.188 2178.7 162.327 L2178.7 148.253 L2175.58 148.253 L2175.58 144.943 L2178.7 144.943 L2178.7 137.582 L2182.99 137.582 Z\" fill=\"#000000\" fill-rule=\"evenodd\" fill-opacity=\"1\" /><path clip-path=\"url(#clip980)\" d=\"M 0 0 M2218.4 156.841 L2218.4 158.924 L2198.82 158.924 Q2199.1 163.322 2201.46 165.637 Q2203.84 167.929 2208.08 167.929 Q2210.53 167.929 2212.82 167.327 Q2215.14 166.725 2217.41 165.521 L2217.41 169.549 Q2215.12 170.521 2212.71 171.031 Q2210.3 171.54 2207.82 171.54 Q2201.62 171.54 2197.99 167.929 Q2194.38 164.318 2194.38 158.16 Q2194.38 151.795 2197.8 148.068 Q2201.25 144.318 2207.08 144.318 Q2212.32 144.318 2215.35 147.697 Q2218.4 151.054 2218.4 156.841 M2214.14 155.591 Q2214.1 152.096 2212.18 150.012 Q2210.28 147.929 2207.13 147.929 Q2203.57 147.929 2201.41 149.943 Q2199.28 151.957 2198.96 155.614 L2214.14 155.591 Z\" fill=\"#000000\" fill-rule=\"evenodd\" fill-opacity=\"1\" /><path clip-path=\"url(#clip980)\" d=\"M 0 0 M2237.89 148.924 Q2237.18 148.508 2236.32 148.322 Q2235.49 148.114 2234.47 148.114 Q2230.86 148.114 2228.91 150.475 Q2226.99 152.813 2226.99 157.211 L2226.99 170.869 L2222.71 170.869 L2222.71 144.943 L2226.99 144.943 L2226.99 148.971 Q2228.33 146.609 2230.49 145.475 Q2232.64 144.318 2235.72 144.318 Q2236.16 144.318 2236.69 144.387 Q2237.22 144.434 2237.87 144.549 L2237.89 148.924 Z\" fill=\"#000000\" fill-rule=\"evenodd\" fill-opacity=\"1\" /><path clip-path=\"url(#clip980)\" d=\"M 0 0 M2258.84 166.933 L2266.48 166.933 L2266.48 140.568 L2258.17 142.235 L2258.17 137.975 L2266.44 136.309 L2271.11 136.309 L2271.11 166.933 L2278.75 166.933 L2278.75 170.869 L2258.84 170.869 L2258.84 166.933 Z\" fill=\"#000000\" fill-rule=\"evenodd\" fill-opacity=\"1\" /><path clip-path=\"url(#clip980)\" d=\"M 0 0 M2293.82 139.387 Q2290.21 139.387 2288.38 142.952 Q2286.57 146.494 2286.57 153.623 Q2286.57 160.73 2288.38 164.295 Q2290.21 167.836 2293.82 167.836 Q2297.45 167.836 2299.26 164.295 Q2301.09 160.73 2301.09 153.623 Q2301.09 146.494 2299.26 142.952 Q2297.45 139.387 2293.82 139.387 M2293.82 135.684 Q2299.63 135.684 2302.69 140.29 Q2305.76 144.873 2305.76 153.623 Q2305.76 162.35 2302.69 166.957 Q2299.63 171.54 2293.82 171.54 Q2288.01 171.54 2284.93 166.957 Q2281.88 162.35 2281.88 153.623 Q2281.88 144.873 2284.93 140.29 Q2288.01 135.684 2293.82 135.684 Z\" fill=\"#000000\" fill-rule=\"evenodd\" fill-opacity=\"1\" /><path clip-path=\"url(#clip980)\" d=\"\n",
       "M1925.11 238.261 L2066.09 238.261 L2066.09 189.877 L1925.11 189.877 L1925.11 238.261  Z\n",
       "  \" fill=\"#bdadd3\" fill-rule=\"evenodd\" fill-opacity=\"1\"/>\n",
       "<polyline clip-path=\"url(#clip980)\" style=\"stroke:#bdadd3; stroke-width:4; stroke-opacity:1; fill:none\" points=\"\n",
       "  1925.11,189.877 2066.09,189.877 \n",
       "  \"/>\n",
       "<path clip-path=\"url(#clip980)\" d=\"M 0 0 M2117.46 199.451 L2117.46 204.381 Q2115.09 202.182 2112.41 201.094 Q2109.75 200.006 2106.74 200.006 Q2100.81 200.006 2097.66 203.64 Q2094.52 207.252 2094.52 214.103 Q2094.52 220.932 2097.66 224.566 Q2100.81 228.177 2106.74 228.177 Q2109.75 228.177 2112.41 227.089 Q2115.09 226.001 2117.46 223.802 L2117.46 228.687 Q2115 230.353 2112.25 231.187 Q2109.52 232.02 2106.46 232.02 Q2098.61 232.02 2094.1 227.228 Q2089.58 222.413 2089.58 214.103 Q2089.58 205.77 2094.1 200.978 Q2098.61 196.164 2106.46 196.164 Q2109.56 196.164 2112.29 196.997 Q2115.05 197.807 2117.46 199.451 Z\" fill=\"#000000\" fill-rule=\"evenodd\" fill-opacity=\"1\" /><path clip-path=\"url(#clip980)\" d=\"M 0 0 M2121.92 195.33 L2126.18 195.33 L2126.18 231.349 L2121.92 231.349 L2121.92 195.33 Z\" fill=\"#000000\" fill-rule=\"evenodd\" fill-opacity=\"1\" /><path clip-path=\"url(#clip980)\" d=\"M 0 0 M2130.21 221.117 L2130.21 205.423 L2134.47 205.423 L2134.47 220.955 Q2134.47 224.636 2135.9 226.488 Q2137.34 228.316 2140.21 228.316 Q2143.66 228.316 2145.65 226.117 Q2147.66 223.918 2147.66 220.122 L2147.66 205.423 L2151.92 205.423 L2151.92 231.349 L2147.66 231.349 L2147.66 227.367 Q2146.11 229.728 2144.05 230.886 Q2142.02 232.02 2139.31 232.02 Q2134.84 232.02 2132.52 229.242 Q2130.21 226.464 2130.21 221.117 M2140.93 204.798 L2140.93 204.798 Z\" fill=\"#000000\" fill-rule=\"evenodd\" fill-opacity=\"1\" /><path clip-path=\"url(#clip980)\" d=\"M 0 0 M2172.92 206.187 L2172.92 210.214 Q2171.11 209.289 2169.17 208.826 Q2167.22 208.363 2165.14 208.363 Q2161.97 208.363 2160.37 209.335 Q2158.8 210.307 2158.8 212.251 Q2158.8 213.733 2159.93 214.589 Q2161.07 215.423 2164.49 216.187 L2165.95 216.511 Q2170.49 217.483 2172.39 219.265 Q2174.31 221.025 2174.31 224.196 Q2174.31 227.807 2171.44 229.913 Q2168.59 232.02 2163.59 232.02 Q2161.51 232.02 2159.24 231.603 Q2156.99 231.21 2154.49 230.4 L2154.49 226.001 Q2156.85 227.228 2159.14 227.853 Q2161.44 228.455 2163.68 228.455 Q2166.69 228.455 2168.31 227.437 Q2169.93 226.395 2169.93 224.52 Q2169.93 222.784 2168.75 221.858 Q2167.59 220.932 2163.64 220.076 L2162.15 219.728 Q2158.2 218.895 2156.44 217.182 Q2154.68 215.446 2154.68 212.437 Q2154.68 208.779 2157.27 206.789 Q2159.86 204.798 2164.63 204.798 Q2166.99 204.798 2169.08 205.145 Q2171.16 205.492 2172.92 206.187 Z\" fill=\"#000000\" fill-rule=\"evenodd\" fill-opacity=\"1\" /><path clip-path=\"url(#clip980)\" d=\"M 0 0 M2182.99 198.062 L2182.99 205.423 L2191.76 205.423 L2191.76 208.733 L2182.99 208.733 L2182.99 222.807 Q2182.99 225.978 2183.84 226.881 Q2184.72 227.784 2187.39 227.784 L2191.76 227.784 L2191.76 231.349 L2187.39 231.349 Q2182.45 231.349 2180.58 229.52 Q2178.7 227.668 2178.7 222.807 L2178.7 208.733 L2175.58 208.733 L2175.58 205.423 L2178.7 205.423 L2178.7 198.062 L2182.99 198.062 Z\" fill=\"#000000\" fill-rule=\"evenodd\" fill-opacity=\"1\" /><path clip-path=\"url(#clip980)\" d=\"M 0 0 M2218.4 217.321 L2218.4 219.404 L2198.82 219.404 Q2199.1 223.802 2201.46 226.117 Q2203.84 228.409 2208.08 228.409 Q2210.53 228.409 2212.82 227.807 Q2215.14 227.205 2217.41 226.001 L2217.41 230.029 Q2215.12 231.001 2212.71 231.511 Q2210.3 232.02 2207.82 232.02 Q2201.62 232.02 2197.99 228.409 Q2194.38 224.798 2194.38 218.64 Q2194.38 212.275 2197.8 208.548 Q2201.25 204.798 2207.08 204.798 Q2212.32 204.798 2215.35 208.177 Q2218.4 211.534 2218.4 217.321 M2214.14 216.071 Q2214.1 212.576 2212.18 210.492 Q2210.28 208.409 2207.13 208.409 Q2203.57 208.409 2201.41 210.423 Q2199.28 212.437 2198.96 216.094 L2214.14 216.071 Z\" fill=\"#000000\" fill-rule=\"evenodd\" fill-opacity=\"1\" /><path clip-path=\"url(#clip980)\" d=\"M 0 0 M2237.89 209.404 Q2237.18 208.988 2236.32 208.802 Q2235.49 208.594 2234.47 208.594 Q2230.86 208.594 2228.91 210.955 Q2226.99 213.293 2226.99 217.691 L2226.99 231.349 L2222.71 231.349 L2222.71 205.423 L2226.99 205.423 L2226.99 209.451 Q2228.33 207.089 2230.49 205.955 Q2232.64 204.798 2235.72 204.798 Q2236.16 204.798 2236.69 204.867 Q2237.22 204.914 2237.87 205.029 L2237.89 209.404 Z\" fill=\"#000000\" fill-rule=\"evenodd\" fill-opacity=\"1\" /><path clip-path=\"url(#clip980)\" d=\"M 0 0 M2258.17 230.631 L2258.17 226.372 Q2259.93 227.205 2261.74 227.645 Q2263.54 228.085 2265.28 228.085 Q2269.91 228.085 2272.34 224.983 Q2274.79 221.858 2275.14 215.515 Q2273.8 217.506 2271.74 218.571 Q2269.68 219.636 2267.18 219.636 Q2261.99 219.636 2258.96 216.511 Q2255.95 213.363 2255.95 207.923 Q2255.95 202.599 2259.1 199.381 Q2262.25 196.164 2267.48 196.164 Q2273.47 196.164 2276.62 200.77 Q2279.79 205.353 2279.79 214.103 Q2279.79 222.275 2275.9 227.159 Q2272.04 232.02 2265.49 232.02 Q2263.73 232.02 2261.92 231.673 Q2260.12 231.325 2258.17 230.631 M2267.48 215.978 Q2270.63 215.978 2272.45 213.826 Q2274.31 211.673 2274.31 207.923 Q2274.31 204.196 2272.45 202.043 Q2270.63 199.867 2267.48 199.867 Q2264.33 199.867 2262.48 202.043 Q2260.65 204.196 2260.65 207.923 Q2260.65 211.673 2262.48 213.826 Q2264.33 215.978 2267.48 215.978 Z\" fill=\"#000000\" fill-rule=\"evenodd\" fill-opacity=\"1\" /><path clip-path=\"url(#clip980)\" d=\"\n",
       "M1925.11 298.741 L2066.09 298.741 L2066.09 250.357 L1925.11 250.357 L1925.11 298.741  Z\n",
       "  \" fill=\"#fcc085\" fill-rule=\"evenodd\" fill-opacity=\"1\"/>\n",
       "<polyline clip-path=\"url(#clip980)\" style=\"stroke:#fcc085; stroke-width:4; stroke-opacity:1; fill:none\" points=\"\n",
       "  1925.11,250.357 2066.09,250.357 \n",
       "  \"/>\n",
       "<path clip-path=\"url(#clip980)\" d=\"M 0 0 M2117.46 259.931 L2117.46 264.861 Q2115.09 262.662 2112.41 261.574 Q2109.75 260.486 2106.74 260.486 Q2100.81 260.486 2097.66 264.12 Q2094.52 267.732 2094.52 274.583 Q2094.52 281.412 2097.66 285.046 Q2100.81 288.657 2106.74 288.657 Q2109.75 288.657 2112.41 287.569 Q2115.09 286.481 2117.46 284.282 L2117.46 289.167 Q2115 290.833 2112.25 291.667 Q2109.52 292.5 2106.46 292.5 Q2098.61 292.5 2094.1 287.708 Q2089.58 282.893 2089.58 274.583 Q2089.58 266.25 2094.1 261.458 Q2098.61 256.644 2106.46 256.644 Q2109.56 256.644 2112.29 257.477 Q2115.05 258.287 2117.46 259.931 Z\" fill=\"#000000\" fill-rule=\"evenodd\" fill-opacity=\"1\" /><path clip-path=\"url(#clip980)\" d=\"M 0 0 M2121.92 255.81 L2126.18 255.81 L2126.18 291.829 L2121.92 291.829 L2121.92 255.81 Z\" fill=\"#000000\" fill-rule=\"evenodd\" fill-opacity=\"1\" /><path clip-path=\"url(#clip980)\" d=\"M 0 0 M2130.21 281.597 L2130.21 265.903 L2134.47 265.903 L2134.47 281.435 Q2134.47 285.116 2135.9 286.968 Q2137.34 288.796 2140.21 288.796 Q2143.66 288.796 2145.65 286.597 Q2147.66 284.398 2147.66 280.602 L2147.66 265.903 L2151.92 265.903 L2151.92 291.829 L2147.66 291.829 L2147.66 287.847 Q2146.11 290.208 2144.05 291.366 Q2142.02 292.5 2139.31 292.5 Q2134.84 292.5 2132.52 289.722 Q2130.21 286.944 2130.21 281.597 M2140.93 265.278 L2140.93 265.278 Z\" fill=\"#000000\" fill-rule=\"evenodd\" fill-opacity=\"1\" /><path clip-path=\"url(#clip980)\" d=\"M 0 0 M2172.92 266.667 L2172.92 270.694 Q2171.11 269.769 2169.17 269.306 Q2167.22 268.843 2165.14 268.843 Q2161.97 268.843 2160.37 269.815 Q2158.8 270.787 2158.8 272.731 Q2158.8 274.213 2159.93 275.069 Q2161.07 275.903 2164.49 276.667 L2165.95 276.991 Q2170.49 277.963 2172.39 279.745 Q2174.31 281.505 2174.31 284.676 Q2174.31 288.287 2171.44 290.393 Q2168.59 292.5 2163.59 292.5 Q2161.51 292.5 2159.24 292.083 Q2156.99 291.69 2154.49 290.88 L2154.49 286.481 Q2156.85 287.708 2159.14 288.333 Q2161.44 288.935 2163.68 288.935 Q2166.69 288.935 2168.31 287.917 Q2169.93 286.875 2169.93 285 Q2169.93 283.264 2168.75 282.338 Q2167.59 281.412 2163.64 280.556 L2162.15 280.208 Q2158.2 279.375 2156.44 277.662 Q2154.68 275.926 2154.68 272.917 Q2154.68 269.259 2157.27 267.269 Q2159.86 265.278 2164.63 265.278 Q2166.99 265.278 2169.08 265.625 Q2171.16 265.972 2172.92 266.667 Z\" fill=\"#000000\" fill-rule=\"evenodd\" fill-opacity=\"1\" /><path clip-path=\"url(#clip980)\" d=\"M 0 0 M2182.99 258.542 L2182.99 265.903 L2191.76 265.903 L2191.76 269.213 L2182.99 269.213 L2182.99 283.287 Q2182.99 286.458 2183.84 287.361 Q2184.72 288.264 2187.39 288.264 L2191.76 288.264 L2191.76 291.829 L2187.39 291.829 Q2182.45 291.829 2180.58 290 Q2178.7 288.148 2178.7 283.287 L2178.7 269.213 L2175.58 269.213 L2175.58 265.903 L2178.7 265.903 L2178.7 258.542 L2182.99 258.542 Z\" fill=\"#000000\" fill-rule=\"evenodd\" fill-opacity=\"1\" /><path clip-path=\"url(#clip980)\" d=\"M 0 0 M2218.4 277.801 L2218.4 279.884 L2198.82 279.884 Q2199.1 284.282 2201.46 286.597 Q2203.84 288.889 2208.08 288.889 Q2210.53 288.889 2212.82 288.287 Q2215.14 287.685 2217.41 286.481 L2217.41 290.509 Q2215.12 291.481 2212.71 291.991 Q2210.3 292.5 2207.82 292.5 Q2201.62 292.5 2197.99 288.889 Q2194.38 285.278 2194.38 279.12 Q2194.38 272.755 2197.8 269.028 Q2201.25 265.278 2207.08 265.278 Q2212.32 265.278 2215.35 268.657 Q2218.4 272.014 2218.4 277.801 M2214.14 276.551 Q2214.1 273.056 2212.18 270.972 Q2210.28 268.889 2207.13 268.889 Q2203.57 268.889 2201.41 270.903 Q2199.28 272.917 2198.96 276.574 L2214.14 276.551 Z\" fill=\"#000000\" fill-rule=\"evenodd\" fill-opacity=\"1\" /><path clip-path=\"url(#clip980)\" d=\"M 0 0 M2237.89 269.884 Q2237.18 269.468 2236.32 269.282 Q2235.49 269.074 2234.47 269.074 Q2230.86 269.074 2228.91 271.435 Q2226.99 273.773 2226.99 278.171 L2226.99 291.829 L2222.71 291.829 L2222.71 265.903 L2226.99 265.903 L2226.99 269.931 Q2228.33 267.569 2230.49 266.435 Q2232.64 265.278 2235.72 265.278 Q2236.16 265.278 2236.69 265.347 Q2237.22 265.394 2237.87 265.509 L2237.89 269.884 Z\" fill=\"#000000\" fill-rule=\"evenodd\" fill-opacity=\"1\" /><path clip-path=\"url(#clip980)\" d=\"M 0 0 M2268.03 275.417 Q2264.7 275.417 2262.78 277.199 Q2260.88 278.981 2260.88 282.106 Q2260.88 285.231 2262.78 287.014 Q2264.7 288.796 2268.03 288.796 Q2271.37 288.796 2273.29 287.014 Q2275.21 285.208 2275.21 282.106 Q2275.21 278.981 2273.29 277.199 Q2271.39 275.417 2268.03 275.417 M2263.36 273.426 Q2260.35 272.685 2258.66 270.625 Q2256.99 268.565 2256.99 265.602 Q2256.99 261.458 2259.93 259.051 Q2262.89 256.644 2268.03 256.644 Q2273.19 256.644 2276.13 259.051 Q2279.07 261.458 2279.07 265.602 Q2279.07 268.565 2277.38 270.625 Q2275.72 272.685 2272.73 273.426 Q2276.11 274.213 2277.99 276.505 Q2279.88 278.796 2279.88 282.106 Q2279.88 287.13 2276.81 289.815 Q2273.75 292.5 2268.03 292.5 Q2262.32 292.5 2259.24 289.815 Q2256.18 287.13 2256.18 282.106 Q2256.18 278.796 2258.08 276.505 Q2259.98 274.213 2263.36 273.426 M2261.64 266.042 Q2261.64 268.727 2263.31 270.232 Q2265 271.736 2268.03 271.736 Q2271.04 271.736 2272.73 270.232 Q2274.44 268.727 2274.44 266.042 Q2274.44 263.357 2272.73 261.852 Q2271.04 260.347 2268.03 260.347 Q2265 260.347 2263.31 261.852 Q2261.64 263.357 2261.64 266.042 Z\" fill=\"#000000\" fill-rule=\"evenodd\" fill-opacity=\"1\" /><path clip-path=\"url(#clip980)\" d=\"\n",
       "M1925.11 359.221 L2066.09 359.221 L2066.09 310.837 L1925.11 310.837 L1925.11 359.221  Z\n",
       "  \" fill=\"#ffff99\" fill-rule=\"evenodd\" fill-opacity=\"1\"/>\n",
       "<polyline clip-path=\"url(#clip980)\" style=\"stroke:#ffff99; stroke-width:4; stroke-opacity:1; fill:none\" points=\"\n",
       "  1925.11,310.837 2066.09,310.837 \n",
       "  \"/>\n",
       "<path clip-path=\"url(#clip980)\" d=\"M 0 0 M2117.46 320.411 L2117.46 325.341 Q2115.09 323.142 2112.41 322.054 Q2109.75 320.966 2106.74 320.966 Q2100.81 320.966 2097.66 324.6 Q2094.52 328.212 2094.52 335.063 Q2094.52 341.892 2097.66 345.526 Q2100.81 349.137 2106.74 349.137 Q2109.75 349.137 2112.41 348.049 Q2115.09 346.961 2117.46 344.762 L2117.46 349.647 Q2115 351.313 2112.25 352.147 Q2109.52 352.98 2106.46 352.98 Q2098.61 352.98 2094.1 348.188 Q2089.58 343.373 2089.58 335.063 Q2089.58 326.73 2094.1 321.938 Q2098.61 317.124 2106.46 317.124 Q2109.56 317.124 2112.29 317.957 Q2115.05 318.767 2117.46 320.411 Z\" fill=\"#000000\" fill-rule=\"evenodd\" fill-opacity=\"1\" /><path clip-path=\"url(#clip980)\" d=\"M 0 0 M2121.92 316.29 L2126.18 316.29 L2126.18 352.309 L2121.92 352.309 L2121.92 316.29 Z\" fill=\"#000000\" fill-rule=\"evenodd\" fill-opacity=\"1\" /><path clip-path=\"url(#clip980)\" d=\"M 0 0 M2130.21 342.077 L2130.21 326.383 L2134.47 326.383 L2134.47 341.915 Q2134.47 345.596 2135.9 347.448 Q2137.34 349.276 2140.21 349.276 Q2143.66 349.276 2145.65 347.077 Q2147.66 344.878 2147.66 341.082 L2147.66 326.383 L2151.92 326.383 L2151.92 352.309 L2147.66 352.309 L2147.66 348.327 Q2146.11 350.688 2144.05 351.846 Q2142.02 352.98 2139.31 352.98 Q2134.84 352.98 2132.52 350.202 Q2130.21 347.424 2130.21 342.077 M2140.93 325.758 L2140.93 325.758 Z\" fill=\"#000000\" fill-rule=\"evenodd\" fill-opacity=\"1\" /><path clip-path=\"url(#clip980)\" d=\"M 0 0 M2172.92 327.147 L2172.92 331.174 Q2171.11 330.249 2169.17 329.786 Q2167.22 329.323 2165.14 329.323 Q2161.97 329.323 2160.37 330.295 Q2158.8 331.267 2158.8 333.211 Q2158.8 334.693 2159.93 335.549 Q2161.07 336.383 2164.49 337.147 L2165.95 337.471 Q2170.49 338.443 2172.39 340.225 Q2174.31 341.985 2174.31 345.156 Q2174.31 348.767 2171.44 350.873 Q2168.59 352.98 2163.59 352.98 Q2161.51 352.98 2159.24 352.563 Q2156.99 352.17 2154.49 351.36 L2154.49 346.961 Q2156.85 348.188 2159.14 348.813 Q2161.44 349.415 2163.68 349.415 Q2166.69 349.415 2168.31 348.397 Q2169.93 347.355 2169.93 345.48 Q2169.93 343.744 2168.75 342.818 Q2167.59 341.892 2163.64 341.036 L2162.15 340.688 Q2158.2 339.855 2156.44 338.142 Q2154.68 336.406 2154.68 333.397 Q2154.68 329.739 2157.27 327.749 Q2159.86 325.758 2164.63 325.758 Q2166.99 325.758 2169.08 326.105 Q2171.16 326.452 2172.92 327.147 Z\" fill=\"#000000\" fill-rule=\"evenodd\" fill-opacity=\"1\" /><path clip-path=\"url(#clip980)\" d=\"M 0 0 M2182.99 319.022 L2182.99 326.383 L2191.76 326.383 L2191.76 329.693 L2182.99 329.693 L2182.99 343.767 Q2182.99 346.938 2183.84 347.841 Q2184.72 348.744 2187.39 348.744 L2191.76 348.744 L2191.76 352.309 L2187.39 352.309 Q2182.45 352.309 2180.58 350.48 Q2178.7 348.628 2178.7 343.767 L2178.7 329.693 L2175.58 329.693 L2175.58 326.383 L2178.7 326.383 L2178.7 319.022 L2182.99 319.022 Z\" fill=\"#000000\" fill-rule=\"evenodd\" fill-opacity=\"1\" /><path clip-path=\"url(#clip980)\" d=\"M 0 0 M2218.4 338.281 L2218.4 340.364 L2198.82 340.364 Q2199.1 344.762 2201.46 347.077 Q2203.84 349.369 2208.08 349.369 Q2210.53 349.369 2212.82 348.767 Q2215.14 348.165 2217.41 346.961 L2217.41 350.989 Q2215.12 351.961 2212.71 352.471 Q2210.3 352.98 2207.82 352.98 Q2201.62 352.98 2197.99 349.369 Q2194.38 345.758 2194.38 339.6 Q2194.38 333.235 2197.8 329.508 Q2201.25 325.758 2207.08 325.758 Q2212.32 325.758 2215.35 329.137 Q2218.4 332.494 2218.4 338.281 M2214.14 337.031 Q2214.1 333.536 2212.18 331.452 Q2210.28 329.369 2207.13 329.369 Q2203.57 329.369 2201.41 331.383 Q2199.28 333.397 2198.96 337.054 L2214.14 337.031 Z\" fill=\"#000000\" fill-rule=\"evenodd\" fill-opacity=\"1\" /><path clip-path=\"url(#clip980)\" d=\"M 0 0 M2237.89 330.364 Q2237.18 329.948 2236.32 329.762 Q2235.49 329.554 2234.47 329.554 Q2230.86 329.554 2228.91 331.915 Q2226.99 334.253 2226.99 338.651 L2226.99 352.309 L2222.71 352.309 L2222.71 326.383 L2226.99 326.383 L2226.99 330.411 Q2228.33 328.049 2230.49 326.915 Q2232.64 325.758 2235.72 325.758 Q2236.16 325.758 2236.69 325.827 Q2237.22 325.874 2237.87 325.989 L2237.89 330.364 Z\" fill=\"#000000\" fill-rule=\"evenodd\" fill-opacity=\"1\" /><path clip-path=\"url(#clip980)\" d=\"M 0 0 M2256.85 317.749 L2279.07 317.749 L2279.07 319.739 L2266.53 352.309 L2261.64 352.309 L2273.45 321.684 L2256.85 321.684 L2256.85 317.749 Z\" fill=\"#000000\" fill-rule=\"evenodd\" fill-opacity=\"1\" /><path clip-path=\"url(#clip980)\" d=\"\n",
       "M1925.11 419.701 L2066.09 419.701 L2066.09 371.317 L1925.11 371.317 L1925.11 419.701  Z\n",
       "  \" fill=\"#386caf\" fill-rule=\"evenodd\" fill-opacity=\"1\"/>\n",
       "<polyline clip-path=\"url(#clip980)\" style=\"stroke:#386caf; stroke-width:4; stroke-opacity:1; fill:none\" points=\"\n",
       "  1925.11,371.317 2066.09,371.317 \n",
       "  \"/>\n",
       "<path clip-path=\"url(#clip980)\" d=\"M 0 0 M2117.46 380.891 L2117.46 385.821 Q2115.09 383.622 2112.41 382.534 Q2109.75 381.446 2106.74 381.446 Q2100.81 381.446 2097.66 385.08 Q2094.52 388.692 2094.52 395.543 Q2094.52 402.372 2097.66 406.006 Q2100.81 409.617 2106.74 409.617 Q2109.75 409.617 2112.41 408.529 Q2115.09 407.441 2117.46 405.242 L2117.46 410.127 Q2115 411.793 2112.25 412.627 Q2109.52 413.46 2106.46 413.46 Q2098.61 413.46 2094.1 408.668 Q2089.58 403.853 2089.58 395.543 Q2089.58 387.21 2094.1 382.418 Q2098.61 377.604 2106.46 377.604 Q2109.56 377.604 2112.29 378.437 Q2115.05 379.247 2117.46 380.891 Z\" fill=\"#000000\" fill-rule=\"evenodd\" fill-opacity=\"1\" /><path clip-path=\"url(#clip980)\" d=\"M 0 0 M2121.92 376.77 L2126.18 376.77 L2126.18 412.789 L2121.92 412.789 L2121.92 376.77 Z\" fill=\"#000000\" fill-rule=\"evenodd\" fill-opacity=\"1\" /><path clip-path=\"url(#clip980)\" d=\"M 0 0 M2130.21 402.557 L2130.21 386.863 L2134.47 386.863 L2134.47 402.395 Q2134.47 406.076 2135.9 407.928 Q2137.34 409.756 2140.21 409.756 Q2143.66 409.756 2145.65 407.557 Q2147.66 405.358 2147.66 401.562 L2147.66 386.863 L2151.92 386.863 L2151.92 412.789 L2147.66 412.789 L2147.66 408.807 Q2146.11 411.168 2144.05 412.326 Q2142.02 413.46 2139.31 413.46 Q2134.84 413.46 2132.52 410.682 Q2130.21 407.904 2130.21 402.557 M2140.93 386.238 L2140.93 386.238 Z\" fill=\"#000000\" fill-rule=\"evenodd\" fill-opacity=\"1\" /><path clip-path=\"url(#clip980)\" d=\"M 0 0 M2172.92 387.627 L2172.92 391.654 Q2171.11 390.729 2169.17 390.266 Q2167.22 389.803 2165.14 389.803 Q2161.97 389.803 2160.37 390.775 Q2158.8 391.747 2158.8 393.691 Q2158.8 395.173 2159.93 396.029 Q2161.07 396.863 2164.49 397.627 L2165.95 397.951 Q2170.49 398.923 2172.39 400.705 Q2174.31 402.465 2174.31 405.636 Q2174.31 409.247 2171.44 411.353 Q2168.59 413.46 2163.59 413.46 Q2161.51 413.46 2159.24 413.043 Q2156.99 412.65 2154.49 411.84 L2154.49 407.441 Q2156.85 408.668 2159.14 409.293 Q2161.44 409.895 2163.68 409.895 Q2166.69 409.895 2168.31 408.877 Q2169.93 407.835 2169.93 405.96 Q2169.93 404.224 2168.75 403.298 Q2167.59 402.372 2163.64 401.516 L2162.15 401.168 Q2158.2 400.335 2156.44 398.622 Q2154.68 396.886 2154.68 393.877 Q2154.68 390.219 2157.27 388.229 Q2159.86 386.238 2164.63 386.238 Q2166.99 386.238 2169.08 386.585 Q2171.16 386.932 2172.92 387.627 Z\" fill=\"#000000\" fill-rule=\"evenodd\" fill-opacity=\"1\" /><path clip-path=\"url(#clip980)\" d=\"M 0 0 M2182.99 379.502 L2182.99 386.863 L2191.76 386.863 L2191.76 390.173 L2182.99 390.173 L2182.99 404.247 Q2182.99 407.418 2183.84 408.321 Q2184.72 409.224 2187.39 409.224 L2191.76 409.224 L2191.76 412.789 L2187.39 412.789 Q2182.45 412.789 2180.58 410.96 Q2178.7 409.108 2178.7 404.247 L2178.7 390.173 L2175.58 390.173 L2175.58 386.863 L2178.7 386.863 L2178.7 379.502 L2182.99 379.502 Z\" fill=\"#000000\" fill-rule=\"evenodd\" fill-opacity=\"1\" /><path clip-path=\"url(#clip980)\" d=\"M 0 0 M2218.4 398.761 L2218.4 400.844 L2198.82 400.844 Q2199.1 405.242 2201.46 407.557 Q2203.84 409.849 2208.08 409.849 Q2210.53 409.849 2212.82 409.247 Q2215.14 408.645 2217.41 407.441 L2217.41 411.469 Q2215.12 412.441 2212.71 412.951 Q2210.3 413.46 2207.82 413.46 Q2201.62 413.46 2197.99 409.849 Q2194.38 406.238 2194.38 400.08 Q2194.38 393.715 2197.8 389.988 Q2201.25 386.238 2207.08 386.238 Q2212.32 386.238 2215.35 389.617 Q2218.4 392.974 2218.4 398.761 M2214.14 397.511 Q2214.1 394.016 2212.18 391.932 Q2210.28 389.849 2207.13 389.849 Q2203.57 389.849 2201.41 391.863 Q2199.28 393.877 2198.96 397.534 L2214.14 397.511 Z\" fill=\"#000000\" fill-rule=\"evenodd\" fill-opacity=\"1\" /><path clip-path=\"url(#clip980)\" d=\"M 0 0 M2237.89 390.844 Q2237.18 390.428 2236.32 390.242 Q2235.49 390.034 2234.47 390.034 Q2230.86 390.034 2228.91 392.395 Q2226.99 394.733 2226.99 399.131 L2226.99 412.789 L2222.71 412.789 L2222.71 386.863 L2226.99 386.863 L2226.99 390.891 Q2228.33 388.529 2230.49 387.395 Q2232.64 386.238 2235.72 386.238 Q2236.16 386.238 2236.69 386.307 Q2237.22 386.354 2237.87 386.469 L2237.89 390.844 Z\" fill=\"#000000\" fill-rule=\"evenodd\" fill-opacity=\"1\" /><path clip-path=\"url(#clip980)\" d=\"M 0 0 M2268.61 393.645 Q2265.46 393.645 2263.61 395.798 Q2261.78 397.951 2261.78 401.701 Q2261.78 405.428 2263.61 407.603 Q2265.46 409.756 2268.61 409.756 Q2271.76 409.756 2273.59 407.603 Q2275.44 405.428 2275.44 401.701 Q2275.44 397.951 2273.59 395.798 Q2271.76 393.645 2268.61 393.645 M2277.89 378.993 L2277.89 383.252 Q2276.13 382.418 2274.33 381.979 Q2272.55 381.539 2270.79 381.539 Q2266.16 381.539 2263.7 384.664 Q2261.27 387.789 2260.93 394.108 Q2262.29 392.094 2264.35 391.029 Q2266.41 389.942 2268.89 389.942 Q2274.1 389.942 2277.11 393.113 Q2280.14 396.261 2280.14 401.701 Q2280.14 407.025 2276.99 410.242 Q2273.84 413.46 2268.61 413.46 Q2262.62 413.46 2259.45 408.877 Q2256.27 404.27 2256.27 395.543 Q2256.27 387.349 2260.16 382.488 Q2264.05 377.604 2270.6 377.604 Q2272.36 377.604 2274.14 377.951 Q2275.95 378.298 2277.89 378.993 Z\" fill=\"#000000\" fill-rule=\"evenodd\" fill-opacity=\"1\" /><path clip-path=\"url(#clip980)\" d=\"\n",
       "M1925.11 480.181 L2066.09 480.181 L2066.09 431.797 L1925.11 431.797 L1925.11 480.181  Z\n",
       "  \" fill=\"#ef027e\" fill-rule=\"evenodd\" fill-opacity=\"1\"/>\n",
       "<polyline clip-path=\"url(#clip980)\" style=\"stroke:#ef027e; stroke-width:4; stroke-opacity:1; fill:none\" points=\"\n",
       "  1925.11,431.797 2066.09,431.797 \n",
       "  \"/>\n",
       "<path clip-path=\"url(#clip980)\" d=\"M 0 0 M2117.46 441.371 L2117.46 446.301 Q2115.09 444.102 2112.41 443.014 Q2109.75 441.926 2106.74 441.926 Q2100.81 441.926 2097.66 445.56 Q2094.52 449.172 2094.52 456.023 Q2094.52 462.852 2097.66 466.486 Q2100.81 470.097 2106.74 470.097 Q2109.75 470.097 2112.41 469.009 Q2115.09 467.921 2117.46 465.722 L2117.46 470.607 Q2115 472.273 2112.25 473.107 Q2109.52 473.94 2106.46 473.94 Q2098.61 473.94 2094.1 469.148 Q2089.58 464.333 2089.58 456.023 Q2089.58 447.69 2094.1 442.898 Q2098.61 438.084 2106.46 438.084 Q2109.56 438.084 2112.29 438.917 Q2115.05 439.727 2117.46 441.371 Z\" fill=\"#000000\" fill-rule=\"evenodd\" fill-opacity=\"1\" /><path clip-path=\"url(#clip980)\" d=\"M 0 0 M2121.92 437.25 L2126.18 437.25 L2126.18 473.269 L2121.92 473.269 L2121.92 437.25 Z\" fill=\"#000000\" fill-rule=\"evenodd\" fill-opacity=\"1\" /><path clip-path=\"url(#clip980)\" d=\"M 0 0 M2130.21 463.037 L2130.21 447.343 L2134.47 447.343 L2134.47 462.875 Q2134.47 466.556 2135.9 468.408 Q2137.34 470.236 2140.21 470.236 Q2143.66 470.236 2145.65 468.037 Q2147.66 465.838 2147.66 462.042 L2147.66 447.343 L2151.92 447.343 L2151.92 473.269 L2147.66 473.269 L2147.66 469.287 Q2146.11 471.648 2144.05 472.806 Q2142.02 473.94 2139.31 473.94 Q2134.84 473.94 2132.52 471.162 Q2130.21 468.384 2130.21 463.037 M2140.93 446.718 L2140.93 446.718 Z\" fill=\"#000000\" fill-rule=\"evenodd\" fill-opacity=\"1\" /><path clip-path=\"url(#clip980)\" d=\"M 0 0 M2172.92 448.107 L2172.92 452.134 Q2171.11 451.209 2169.17 450.746 Q2167.22 450.283 2165.14 450.283 Q2161.97 450.283 2160.37 451.255 Q2158.8 452.227 2158.8 454.171 Q2158.8 455.653 2159.93 456.509 Q2161.07 457.343 2164.49 458.107 L2165.95 458.431 Q2170.49 459.403 2172.39 461.185 Q2174.31 462.945 2174.31 466.116 Q2174.31 469.727 2171.44 471.833 Q2168.59 473.94 2163.59 473.94 Q2161.51 473.94 2159.24 473.523 Q2156.99 473.13 2154.49 472.32 L2154.49 467.921 Q2156.85 469.148 2159.14 469.773 Q2161.44 470.375 2163.68 470.375 Q2166.69 470.375 2168.31 469.357 Q2169.93 468.315 2169.93 466.44 Q2169.93 464.704 2168.75 463.778 Q2167.59 462.852 2163.64 461.996 L2162.15 461.648 Q2158.2 460.815 2156.44 459.102 Q2154.68 457.366 2154.68 454.357 Q2154.68 450.699 2157.27 448.709 Q2159.86 446.718 2164.63 446.718 Q2166.99 446.718 2169.08 447.065 Q2171.16 447.412 2172.92 448.107 Z\" fill=\"#000000\" fill-rule=\"evenodd\" fill-opacity=\"1\" /><path clip-path=\"url(#clip980)\" d=\"M 0 0 M2182.99 439.982 L2182.99 447.343 L2191.76 447.343 L2191.76 450.653 L2182.99 450.653 L2182.99 464.727 Q2182.99 467.898 2183.84 468.801 Q2184.72 469.704 2187.39 469.704 L2191.76 469.704 L2191.76 473.269 L2187.39 473.269 Q2182.45 473.269 2180.58 471.44 Q2178.7 469.588 2178.7 464.727 L2178.7 450.653 L2175.58 450.653 L2175.58 447.343 L2178.7 447.343 L2178.7 439.982 L2182.99 439.982 Z\" fill=\"#000000\" fill-rule=\"evenodd\" fill-opacity=\"1\" /><path clip-path=\"url(#clip980)\" d=\"M 0 0 M2218.4 459.241 L2218.4 461.324 L2198.82 461.324 Q2199.1 465.722 2201.46 468.037 Q2203.84 470.329 2208.08 470.329 Q2210.53 470.329 2212.82 469.727 Q2215.14 469.125 2217.41 467.921 L2217.41 471.949 Q2215.12 472.921 2212.71 473.431 Q2210.3 473.94 2207.82 473.94 Q2201.62 473.94 2197.99 470.329 Q2194.38 466.718 2194.38 460.56 Q2194.38 454.195 2197.8 450.468 Q2201.25 446.718 2207.08 446.718 Q2212.32 446.718 2215.35 450.097 Q2218.4 453.454 2218.4 459.241 M2214.14 457.991 Q2214.1 454.496 2212.18 452.412 Q2210.28 450.329 2207.13 450.329 Q2203.57 450.329 2201.41 452.343 Q2199.28 454.357 2198.96 458.014 L2214.14 457.991 Z\" fill=\"#000000\" fill-rule=\"evenodd\" fill-opacity=\"1\" /><path clip-path=\"url(#clip980)\" d=\"M 0 0 M2237.89 451.324 Q2237.18 450.908 2236.32 450.722 Q2235.49 450.514 2234.47 450.514 Q2230.86 450.514 2228.91 452.875 Q2226.99 455.213 2226.99 459.611 L2226.99 473.269 L2222.71 473.269 L2222.71 447.343 L2226.99 447.343 L2226.99 451.371 Q2228.33 449.009 2230.49 447.875 Q2232.64 446.718 2235.72 446.718 Q2236.16 446.718 2236.69 446.787 Q2237.22 446.834 2237.87 446.949 L2237.89 451.324 Z\" fill=\"#000000\" fill-rule=\"evenodd\" fill-opacity=\"1\" /><path clip-path=\"url(#clip980)\" d=\"M 0 0 M2258.08 438.709 L2276.44 438.709 L2276.44 442.644 L2262.36 442.644 L2262.36 451.116 Q2263.38 450.769 2264.4 450.607 Q2265.42 450.422 2266.44 450.422 Q2272.22 450.422 2275.6 453.593 Q2278.98 456.764 2278.98 462.181 Q2278.98 467.759 2275.51 470.861 Q2272.04 473.94 2265.72 473.94 Q2263.54 473.94 2261.27 473.57 Q2259.03 473.199 2256.62 472.458 L2256.62 467.759 Q2258.7 468.894 2260.93 469.449 Q2263.15 470.005 2265.63 470.005 Q2269.63 470.005 2271.97 467.898 Q2274.31 465.792 2274.31 462.181 Q2274.31 458.57 2271.97 456.463 Q2269.63 454.357 2265.63 454.357 Q2263.75 454.357 2261.88 454.773 Q2260.02 455.19 2258.08 456.07 L2258.08 438.709 Z\" fill=\"#000000\" fill-rule=\"evenodd\" fill-opacity=\"1\" /><path clip-path=\"url(#clip980)\" d=\"\n",
       "M1925.11 540.661 L2066.09 540.661 L2066.09 492.277 L1925.11 492.277 L1925.11 540.661  Z\n",
       "  \" fill=\"#be5b16\" fill-rule=\"evenodd\" fill-opacity=\"1\"/>\n",
       "<polyline clip-path=\"url(#clip980)\" style=\"stroke:#be5b16; stroke-width:4; stroke-opacity:1; fill:none\" points=\"\n",
       "  1925.11,492.277 2066.09,492.277 \n",
       "  \"/>\n",
       "<path clip-path=\"url(#clip980)\" d=\"M 0 0 M2117.46 501.851 L2117.46 506.781 Q2115.09 504.582 2112.41 503.494 Q2109.75 502.406 2106.74 502.406 Q2100.81 502.406 2097.66 506.04 Q2094.52 509.652 2094.52 516.503 Q2094.52 523.332 2097.66 526.966 Q2100.81 530.577 2106.74 530.577 Q2109.75 530.577 2112.41 529.489 Q2115.09 528.401 2117.46 526.202 L2117.46 531.087 Q2115 532.753 2112.25 533.587 Q2109.52 534.42 2106.46 534.42 Q2098.61 534.42 2094.1 529.628 Q2089.58 524.813 2089.58 516.503 Q2089.58 508.17 2094.1 503.378 Q2098.61 498.564 2106.46 498.564 Q2109.56 498.564 2112.29 499.397 Q2115.05 500.207 2117.46 501.851 Z\" fill=\"#000000\" fill-rule=\"evenodd\" fill-opacity=\"1\" /><path clip-path=\"url(#clip980)\" d=\"M 0 0 M2121.92 497.73 L2126.18 497.73 L2126.18 533.749 L2121.92 533.749 L2121.92 497.73 Z\" fill=\"#000000\" fill-rule=\"evenodd\" fill-opacity=\"1\" /><path clip-path=\"url(#clip980)\" d=\"M 0 0 M2130.21 523.517 L2130.21 507.823 L2134.47 507.823 L2134.47 523.355 Q2134.47 527.036 2135.9 528.888 Q2137.34 530.716 2140.21 530.716 Q2143.66 530.716 2145.65 528.517 Q2147.66 526.318 2147.66 522.522 L2147.66 507.823 L2151.92 507.823 L2151.92 533.749 L2147.66 533.749 L2147.66 529.767 Q2146.11 532.128 2144.05 533.286 Q2142.02 534.42 2139.31 534.42 Q2134.84 534.42 2132.52 531.642 Q2130.21 528.864 2130.21 523.517 M2140.93 507.198 L2140.93 507.198 Z\" fill=\"#000000\" fill-rule=\"evenodd\" fill-opacity=\"1\" /><path clip-path=\"url(#clip980)\" d=\"M 0 0 M2172.92 508.587 L2172.92 512.614 Q2171.11 511.689 2169.17 511.226 Q2167.22 510.763 2165.14 510.763 Q2161.97 510.763 2160.37 511.735 Q2158.8 512.707 2158.8 514.651 Q2158.8 516.133 2159.93 516.989 Q2161.07 517.823 2164.49 518.587 L2165.95 518.911 Q2170.49 519.883 2172.39 521.665 Q2174.31 523.425 2174.31 526.596 Q2174.31 530.207 2171.44 532.313 Q2168.59 534.42 2163.59 534.42 Q2161.51 534.42 2159.24 534.003 Q2156.99 533.61 2154.49 532.8 L2154.49 528.401 Q2156.85 529.628 2159.14 530.253 Q2161.44 530.855 2163.68 530.855 Q2166.69 530.855 2168.31 529.837 Q2169.93 528.795 2169.93 526.92 Q2169.93 525.184 2168.75 524.258 Q2167.59 523.332 2163.64 522.476 L2162.15 522.128 Q2158.2 521.295 2156.44 519.582 Q2154.68 517.846 2154.68 514.837 Q2154.68 511.179 2157.27 509.189 Q2159.86 507.198 2164.63 507.198 Q2166.99 507.198 2169.08 507.545 Q2171.16 507.892 2172.92 508.587 Z\" fill=\"#000000\" fill-rule=\"evenodd\" fill-opacity=\"1\" /><path clip-path=\"url(#clip980)\" d=\"M 0 0 M2182.99 500.462 L2182.99 507.823 L2191.76 507.823 L2191.76 511.133 L2182.99 511.133 L2182.99 525.207 Q2182.99 528.378 2183.84 529.281 Q2184.72 530.184 2187.39 530.184 L2191.76 530.184 L2191.76 533.749 L2187.39 533.749 Q2182.45 533.749 2180.58 531.92 Q2178.7 530.068 2178.7 525.207 L2178.7 511.133 L2175.58 511.133 L2175.58 507.823 L2178.7 507.823 L2178.7 500.462 L2182.99 500.462 Z\" fill=\"#000000\" fill-rule=\"evenodd\" fill-opacity=\"1\" /><path clip-path=\"url(#clip980)\" d=\"M 0 0 M2218.4 519.721 L2218.4 521.804 L2198.82 521.804 Q2199.1 526.202 2201.46 528.517 Q2203.84 530.809 2208.08 530.809 Q2210.53 530.809 2212.82 530.207 Q2215.14 529.605 2217.41 528.401 L2217.41 532.429 Q2215.12 533.401 2212.71 533.911 Q2210.3 534.42 2207.82 534.42 Q2201.62 534.42 2197.99 530.809 Q2194.38 527.198 2194.38 521.04 Q2194.38 514.675 2197.8 510.948 Q2201.25 507.198 2207.08 507.198 Q2212.32 507.198 2215.35 510.577 Q2218.4 513.934 2218.4 519.721 M2214.14 518.471 Q2214.1 514.976 2212.18 512.892 Q2210.28 510.809 2207.13 510.809 Q2203.57 510.809 2201.41 512.823 Q2199.28 514.837 2198.96 518.494 L2214.14 518.471 Z\" fill=\"#000000\" fill-rule=\"evenodd\" fill-opacity=\"1\" /><path clip-path=\"url(#clip980)\" d=\"M 0 0 M2237.89 511.804 Q2237.18 511.388 2236.32 511.202 Q2235.49 510.994 2234.47 510.994 Q2230.86 510.994 2228.91 513.355 Q2226.99 515.693 2226.99 520.091 L2226.99 533.749 L2222.71 533.749 L2222.71 507.823 L2226.99 507.823 L2226.99 511.851 Q2228.33 509.489 2230.49 508.355 Q2232.64 507.198 2235.72 507.198 Q2236.16 507.198 2236.69 507.267 Q2237.22 507.314 2237.87 507.429 L2237.89 511.804 Z\" fill=\"#000000\" fill-rule=\"evenodd\" fill-opacity=\"1\" /><path clip-path=\"url(#clip980)\" d=\"M 0 0 M2270.88 503.263 L2259.07 521.712 L2270.88 521.712 L2270.88 503.263 M2269.65 499.189 L2275.53 499.189 L2275.53 521.712 L2280.46 521.712 L2280.46 525.601 L2275.53 525.601 L2275.53 533.749 L2270.88 533.749 L2270.88 525.601 L2255.28 525.601 L2255.28 521.087 L2269.65 499.189 Z\" fill=\"#000000\" fill-rule=\"evenodd\" fill-opacity=\"1\" /><path clip-path=\"url(#clip980)\" d=\"\n",
       "M1925.11 601.141 L2066.09 601.141 L2066.09 552.757 L1925.11 552.757 L1925.11 601.141  Z\n",
       "  \" fill=\"#666666\" fill-rule=\"evenodd\" fill-opacity=\"1\"/>\n",
       "<polyline clip-path=\"url(#clip980)\" style=\"stroke:#666666; stroke-width:4; stroke-opacity:1; fill:none\" points=\"\n",
       "  1925.11,552.757 2066.09,552.757 \n",
       "  \"/>\n",
       "<path clip-path=\"url(#clip980)\" d=\"M 0 0 M2117.46 562.331 L2117.46 567.261 Q2115.09 565.062 2112.41 563.974 Q2109.75 562.886 2106.74 562.886 Q2100.81 562.886 2097.66 566.52 Q2094.52 570.132 2094.52 576.983 Q2094.52 583.812 2097.66 587.446 Q2100.81 591.057 2106.74 591.057 Q2109.75 591.057 2112.41 589.969 Q2115.09 588.881 2117.46 586.682 L2117.46 591.567 Q2115 593.233 2112.25 594.067 Q2109.52 594.9 2106.46 594.9 Q2098.61 594.9 2094.1 590.108 Q2089.58 585.293 2089.58 576.983 Q2089.58 568.65 2094.1 563.858 Q2098.61 559.044 2106.46 559.044 Q2109.56 559.044 2112.29 559.877 Q2115.05 560.687 2117.46 562.331 Z\" fill=\"#000000\" fill-rule=\"evenodd\" fill-opacity=\"1\" /><path clip-path=\"url(#clip980)\" d=\"M 0 0 M2121.92 558.21 L2126.18 558.21 L2126.18 594.229 L2121.92 594.229 L2121.92 558.21 Z\" fill=\"#000000\" fill-rule=\"evenodd\" fill-opacity=\"1\" /><path clip-path=\"url(#clip980)\" d=\"M 0 0 M2130.21 583.997 L2130.21 568.303 L2134.47 568.303 L2134.47 583.835 Q2134.47 587.516 2135.9 589.368 Q2137.34 591.196 2140.21 591.196 Q2143.66 591.196 2145.65 588.997 Q2147.66 586.798 2147.66 583.002 L2147.66 568.303 L2151.92 568.303 L2151.92 594.229 L2147.66 594.229 L2147.66 590.247 Q2146.11 592.608 2144.05 593.766 Q2142.02 594.9 2139.31 594.9 Q2134.84 594.9 2132.52 592.122 Q2130.21 589.344 2130.21 583.997 M2140.93 567.678 L2140.93 567.678 Z\" fill=\"#000000\" fill-rule=\"evenodd\" fill-opacity=\"1\" /><path clip-path=\"url(#clip980)\" d=\"M 0 0 M2172.92 569.067 L2172.92 573.094 Q2171.11 572.169 2169.17 571.706 Q2167.22 571.243 2165.14 571.243 Q2161.97 571.243 2160.37 572.215 Q2158.8 573.187 2158.8 575.131 Q2158.8 576.613 2159.93 577.469 Q2161.07 578.303 2164.49 579.067 L2165.95 579.391 Q2170.49 580.363 2172.39 582.145 Q2174.31 583.905 2174.31 587.076 Q2174.31 590.687 2171.44 592.793 Q2168.59 594.9 2163.59 594.9 Q2161.51 594.9 2159.24 594.483 Q2156.99 594.09 2154.49 593.28 L2154.49 588.881 Q2156.85 590.108 2159.14 590.733 Q2161.44 591.335 2163.68 591.335 Q2166.69 591.335 2168.31 590.317 Q2169.93 589.275 2169.93 587.4 Q2169.93 585.664 2168.75 584.738 Q2167.59 583.812 2163.64 582.956 L2162.15 582.608 Q2158.2 581.775 2156.44 580.062 Q2154.68 578.326 2154.68 575.317 Q2154.68 571.659 2157.27 569.669 Q2159.86 567.678 2164.63 567.678 Q2166.99 567.678 2169.08 568.025 Q2171.16 568.372 2172.92 569.067 Z\" fill=\"#000000\" fill-rule=\"evenodd\" fill-opacity=\"1\" /><path clip-path=\"url(#clip980)\" d=\"M 0 0 M2182.99 560.942 L2182.99 568.303 L2191.76 568.303 L2191.76 571.613 L2182.99 571.613 L2182.99 585.687 Q2182.99 588.858 2183.84 589.761 Q2184.72 590.664 2187.39 590.664 L2191.76 590.664 L2191.76 594.229 L2187.39 594.229 Q2182.45 594.229 2180.58 592.4 Q2178.7 590.548 2178.7 585.687 L2178.7 571.613 L2175.58 571.613 L2175.58 568.303 L2178.7 568.303 L2178.7 560.942 L2182.99 560.942 Z\" fill=\"#000000\" fill-rule=\"evenodd\" fill-opacity=\"1\" /><path clip-path=\"url(#clip980)\" d=\"M 0 0 M2218.4 580.201 L2218.4 582.284 L2198.82 582.284 Q2199.1 586.682 2201.46 588.997 Q2203.84 591.289 2208.08 591.289 Q2210.53 591.289 2212.82 590.687 Q2215.14 590.085 2217.41 588.881 L2217.41 592.909 Q2215.12 593.881 2212.71 594.391 Q2210.3 594.9 2207.82 594.9 Q2201.62 594.9 2197.99 591.289 Q2194.38 587.678 2194.38 581.52 Q2194.38 575.155 2197.8 571.428 Q2201.25 567.678 2207.08 567.678 Q2212.32 567.678 2215.35 571.057 Q2218.4 574.414 2218.4 580.201 M2214.14 578.951 Q2214.1 575.456 2212.18 573.372 Q2210.28 571.289 2207.13 571.289 Q2203.57 571.289 2201.41 573.303 Q2199.28 575.317 2198.96 578.974 L2214.14 578.951 Z\" fill=\"#000000\" fill-rule=\"evenodd\" fill-opacity=\"1\" /><path clip-path=\"url(#clip980)\" d=\"M 0 0 M2237.89 572.284 Q2237.18 571.868 2236.32 571.682 Q2235.49 571.474 2234.47 571.474 Q2230.86 571.474 2228.91 573.835 Q2226.99 576.173 2226.99 580.571 L2226.99 594.229 L2222.71 594.229 L2222.71 568.303 L2226.99 568.303 L2226.99 572.331 Q2228.33 569.969 2230.49 568.835 Q2232.64 567.678 2235.72 567.678 Q2236.16 567.678 2236.69 567.747 Q2237.22 567.794 2237.87 567.909 L2237.89 572.284 Z\" fill=\"#000000\" fill-rule=\"evenodd\" fill-opacity=\"1\" /><path clip-path=\"url(#clip980)\" d=\"M 0 0 M2272.2 575.594 Q2275.56 576.312 2277.43 578.581 Q2279.33 580.849 2279.33 584.182 Q2279.33 589.298 2275.81 592.099 Q2272.29 594.9 2265.81 594.9 Q2263.63 594.9 2261.32 594.46 Q2259.03 594.043 2256.57 593.187 L2256.57 588.673 Q2258.52 589.807 2260.83 590.386 Q2263.15 590.965 2265.67 590.965 Q2270.07 590.965 2272.36 589.229 Q2274.68 587.493 2274.68 584.182 Q2274.68 581.127 2272.52 579.414 Q2270.39 577.678 2266.57 577.678 L2262.55 577.678 L2262.55 573.835 L2266.76 573.835 Q2270.21 573.835 2272.04 572.469 Q2273.87 571.081 2273.87 568.488 Q2273.87 565.826 2271.97 564.414 Q2270.09 562.979 2266.57 562.979 Q2264.65 562.979 2262.45 563.395 Q2260.26 563.812 2257.62 564.692 L2257.62 560.525 Q2260.28 559.784 2262.59 559.414 Q2264.93 559.044 2266.99 559.044 Q2272.32 559.044 2275.42 561.474 Q2278.52 563.882 2278.52 568.002 Q2278.52 570.872 2276.88 572.863 Q2275.23 574.831 2272.2 575.594 Z\" fill=\"#000000\" fill-rule=\"evenodd\" fill-opacity=\"1\" /><path clip-path=\"url(#clip980)\" d=\"\n",
       "M1925.11 661.621 L2066.09 661.621 L2066.09 613.237 L1925.11 613.237 L1925.11 661.621  Z\n",
       "  \" fill=\"#7ec87e\" fill-rule=\"evenodd\" fill-opacity=\"1\"/>\n",
       "<polyline clip-path=\"url(#clip980)\" style=\"stroke:#7ec87e; stroke-width:4; stroke-opacity:1; fill:none\" points=\"\n",
       "  1925.11,613.237 2066.09,613.237 \n",
       "  \"/>\n",
       "<path clip-path=\"url(#clip980)\" d=\"M 0 0 M2117.46 622.811 L2117.46 627.741 Q2115.09 625.542 2112.41 624.454 Q2109.75 623.366 2106.74 623.366 Q2100.81 623.366 2097.66 627 Q2094.52 630.612 2094.52 637.463 Q2094.52 644.292 2097.66 647.926 Q2100.81 651.537 2106.74 651.537 Q2109.75 651.537 2112.41 650.449 Q2115.09 649.361 2117.46 647.162 L2117.46 652.047 Q2115 653.713 2112.25 654.547 Q2109.52 655.38 2106.46 655.38 Q2098.61 655.38 2094.1 650.588 Q2089.58 645.773 2089.58 637.463 Q2089.58 629.13 2094.1 624.338 Q2098.61 619.524 2106.46 619.524 Q2109.56 619.524 2112.29 620.357 Q2115.05 621.167 2117.46 622.811 Z\" fill=\"#000000\" fill-rule=\"evenodd\" fill-opacity=\"1\" /><path clip-path=\"url(#clip980)\" d=\"M 0 0 M2121.92 618.69 L2126.18 618.69 L2126.18 654.709 L2121.92 654.709 L2121.92 618.69 Z\" fill=\"#000000\" fill-rule=\"evenodd\" fill-opacity=\"1\" /><path clip-path=\"url(#clip980)\" d=\"M 0 0 M2130.21 644.477 L2130.21 628.783 L2134.47 628.783 L2134.47 644.315 Q2134.47 647.996 2135.9 649.848 Q2137.34 651.676 2140.21 651.676 Q2143.66 651.676 2145.65 649.477 Q2147.66 647.278 2147.66 643.482 L2147.66 628.783 L2151.92 628.783 L2151.92 654.709 L2147.66 654.709 L2147.66 650.727 Q2146.11 653.088 2144.05 654.246 Q2142.02 655.38 2139.31 655.38 Q2134.84 655.38 2132.52 652.602 Q2130.21 649.824 2130.21 644.477 M2140.93 628.158 L2140.93 628.158 Z\" fill=\"#000000\" fill-rule=\"evenodd\" fill-opacity=\"1\" /><path clip-path=\"url(#clip980)\" d=\"M 0 0 M2172.92 629.547 L2172.92 633.574 Q2171.11 632.649 2169.17 632.186 Q2167.22 631.723 2165.14 631.723 Q2161.97 631.723 2160.37 632.695 Q2158.8 633.667 2158.8 635.611 Q2158.8 637.093 2159.93 637.949 Q2161.07 638.783 2164.49 639.547 L2165.95 639.871 Q2170.49 640.843 2172.39 642.625 Q2174.31 644.385 2174.31 647.556 Q2174.31 651.167 2171.44 653.273 Q2168.59 655.38 2163.59 655.38 Q2161.51 655.38 2159.24 654.963 Q2156.99 654.57 2154.49 653.76 L2154.49 649.361 Q2156.85 650.588 2159.14 651.213 Q2161.44 651.815 2163.68 651.815 Q2166.69 651.815 2168.31 650.797 Q2169.93 649.755 2169.93 647.88 Q2169.93 646.144 2168.75 645.218 Q2167.59 644.292 2163.64 643.436 L2162.15 643.088 Q2158.2 642.255 2156.44 640.542 Q2154.68 638.806 2154.68 635.797 Q2154.68 632.139 2157.27 630.149 Q2159.86 628.158 2164.63 628.158 Q2166.99 628.158 2169.08 628.505 Q2171.16 628.852 2172.92 629.547 Z\" fill=\"#000000\" fill-rule=\"evenodd\" fill-opacity=\"1\" /><path clip-path=\"url(#clip980)\" d=\"M 0 0 M2182.99 621.422 L2182.99 628.783 L2191.76 628.783 L2191.76 632.093 L2182.99 632.093 L2182.99 646.167 Q2182.99 649.338 2183.84 650.241 Q2184.72 651.144 2187.39 651.144 L2191.76 651.144 L2191.76 654.709 L2187.39 654.709 Q2182.45 654.709 2180.58 652.88 Q2178.7 651.028 2178.7 646.167 L2178.7 632.093 L2175.58 632.093 L2175.58 628.783 L2178.7 628.783 L2178.7 621.422 L2182.99 621.422 Z\" fill=\"#000000\" fill-rule=\"evenodd\" fill-opacity=\"1\" /><path clip-path=\"url(#clip980)\" d=\"M 0 0 M2218.4 640.681 L2218.4 642.764 L2198.82 642.764 Q2199.1 647.162 2201.46 649.477 Q2203.84 651.769 2208.08 651.769 Q2210.53 651.769 2212.82 651.167 Q2215.14 650.565 2217.41 649.361 L2217.41 653.389 Q2215.12 654.361 2212.71 654.871 Q2210.3 655.38 2207.82 655.38 Q2201.62 655.38 2197.99 651.769 Q2194.38 648.158 2194.38 642 Q2194.38 635.635 2197.8 631.908 Q2201.25 628.158 2207.08 628.158 Q2212.32 628.158 2215.35 631.537 Q2218.4 634.894 2218.4 640.681 M2214.14 639.431 Q2214.1 635.936 2212.18 633.852 Q2210.28 631.769 2207.13 631.769 Q2203.57 631.769 2201.41 633.783 Q2199.28 635.797 2198.96 639.454 L2214.14 639.431 Z\" fill=\"#000000\" fill-rule=\"evenodd\" fill-opacity=\"1\" /><path clip-path=\"url(#clip980)\" d=\"M 0 0 M2237.89 632.764 Q2237.18 632.348 2236.32 632.162 Q2235.49 631.954 2234.47 631.954 Q2230.86 631.954 2228.91 634.315 Q2226.99 636.653 2226.99 641.051 L2226.99 654.709 L2222.71 654.709 L2222.71 628.783 L2226.99 628.783 L2226.99 632.811 Q2228.33 630.449 2230.49 629.315 Q2232.64 628.158 2235.72 628.158 Q2236.16 628.158 2236.69 628.227 Q2237.22 628.274 2237.87 628.389 L2237.89 632.764 Z\" fill=\"#000000\" fill-rule=\"evenodd\" fill-opacity=\"1\" /><path clip-path=\"url(#clip980)\" d=\"M 0 0 M2262.06 650.773 L2278.38 650.773 L2278.38 654.709 L2256.44 654.709 L2256.44 650.773 Q2259.1 648.019 2263.68 643.389 Q2268.29 638.736 2269.47 637.394 Q2271.71 634.871 2272.59 633.135 Q2273.5 631.375 2273.5 629.686 Q2273.5 626.931 2271.55 625.195 Q2269.63 623.459 2266.53 623.459 Q2264.33 623.459 2261.88 624.223 Q2259.45 624.987 2256.67 626.537 L2256.67 621.815 Q2259.49 620.681 2261.95 620.102 Q2264.4 619.524 2266.44 619.524 Q2271.81 619.524 2275 622.209 Q2278.19 624.894 2278.19 629.385 Q2278.19 631.514 2277.38 633.436 Q2276.6 635.334 2274.49 637.926 Q2273.91 638.598 2270.81 641.815 Q2267.71 645.01 2262.06 650.773 Z\" fill=\"#000000\" fill-rule=\"evenodd\" fill-opacity=\"1\" /><path clip-path=\"url(#clip980)\" d=\"\n",
       "M1925.11 722.101 L2066.09 722.101 L2066.09 673.717 L1925.11 673.717 L1925.11 722.101  Z\n",
       "  \" fill=\"#bdadd3\" fill-rule=\"evenodd\" fill-opacity=\"1\"/>\n",
       "<polyline clip-path=\"url(#clip980)\" style=\"stroke:#bdadd3; stroke-width:4; stroke-opacity:1; fill:none\" points=\"\n",
       "  1925.11,673.717 2066.09,673.717 \n",
       "  \"/>\n",
       "<path clip-path=\"url(#clip980)\" d=\"M 0 0 M2117.46 683.291 L2117.46 688.221 Q2115.09 686.022 2112.41 684.934 Q2109.75 683.846 2106.74 683.846 Q2100.81 683.846 2097.66 687.48 Q2094.52 691.092 2094.52 697.943 Q2094.52 704.772 2097.66 708.406 Q2100.81 712.017 2106.74 712.017 Q2109.75 712.017 2112.41 710.929 Q2115.09 709.841 2117.46 707.642 L2117.46 712.527 Q2115 714.193 2112.25 715.027 Q2109.52 715.86 2106.46 715.86 Q2098.61 715.86 2094.1 711.068 Q2089.58 706.253 2089.58 697.943 Q2089.58 689.61 2094.1 684.818 Q2098.61 680.004 2106.46 680.004 Q2109.56 680.004 2112.29 680.837 Q2115.05 681.647 2117.46 683.291 Z\" fill=\"#000000\" fill-rule=\"evenodd\" fill-opacity=\"1\" /><path clip-path=\"url(#clip980)\" d=\"M 0 0 M2121.92 679.17 L2126.18 679.17 L2126.18 715.189 L2121.92 715.189 L2121.92 679.17 Z\" fill=\"#000000\" fill-rule=\"evenodd\" fill-opacity=\"1\" /><path clip-path=\"url(#clip980)\" d=\"M 0 0 M2130.21 704.957 L2130.21 689.263 L2134.47 689.263 L2134.47 704.795 Q2134.47 708.476 2135.9 710.328 Q2137.34 712.156 2140.21 712.156 Q2143.66 712.156 2145.65 709.957 Q2147.66 707.758 2147.66 703.962 L2147.66 689.263 L2151.92 689.263 L2151.92 715.189 L2147.66 715.189 L2147.66 711.207 Q2146.11 713.568 2144.05 714.726 Q2142.02 715.86 2139.31 715.86 Q2134.84 715.86 2132.52 713.082 Q2130.21 710.304 2130.21 704.957 M2140.93 688.638 L2140.93 688.638 Z\" fill=\"#000000\" fill-rule=\"evenodd\" fill-opacity=\"1\" /><path clip-path=\"url(#clip980)\" d=\"M 0 0 M2172.92 690.027 L2172.92 694.054 Q2171.11 693.129 2169.17 692.666 Q2167.22 692.203 2165.14 692.203 Q2161.97 692.203 2160.37 693.175 Q2158.8 694.147 2158.8 696.091 Q2158.8 697.573 2159.93 698.429 Q2161.07 699.263 2164.49 700.027 L2165.95 700.351 Q2170.49 701.323 2172.39 703.105 Q2174.31 704.865 2174.31 708.036 Q2174.31 711.647 2171.44 713.753 Q2168.59 715.86 2163.59 715.86 Q2161.51 715.86 2159.24 715.443 Q2156.99 715.05 2154.49 714.24 L2154.49 709.841 Q2156.85 711.068 2159.14 711.693 Q2161.44 712.295 2163.68 712.295 Q2166.69 712.295 2168.31 711.277 Q2169.93 710.235 2169.93 708.36 Q2169.93 706.624 2168.75 705.698 Q2167.59 704.772 2163.64 703.916 L2162.15 703.568 Q2158.2 702.735 2156.44 701.022 Q2154.68 699.286 2154.68 696.277 Q2154.68 692.619 2157.27 690.629 Q2159.86 688.638 2164.63 688.638 Q2166.99 688.638 2169.08 688.985 Q2171.16 689.332 2172.92 690.027 Z\" fill=\"#000000\" fill-rule=\"evenodd\" fill-opacity=\"1\" /><path clip-path=\"url(#clip980)\" d=\"M 0 0 M2182.99 681.902 L2182.99 689.263 L2191.76 689.263 L2191.76 692.573 L2182.99 692.573 L2182.99 706.647 Q2182.99 709.818 2183.84 710.721 Q2184.72 711.624 2187.39 711.624 L2191.76 711.624 L2191.76 715.189 L2187.39 715.189 Q2182.45 715.189 2180.58 713.36 Q2178.7 711.508 2178.7 706.647 L2178.7 692.573 L2175.58 692.573 L2175.58 689.263 L2178.7 689.263 L2178.7 681.902 L2182.99 681.902 Z\" fill=\"#000000\" fill-rule=\"evenodd\" fill-opacity=\"1\" /><path clip-path=\"url(#clip980)\" d=\"M 0 0 M2218.4 701.161 L2218.4 703.244 L2198.82 703.244 Q2199.1 707.642 2201.46 709.957 Q2203.84 712.249 2208.08 712.249 Q2210.53 712.249 2212.82 711.647 Q2215.14 711.045 2217.41 709.841 L2217.41 713.869 Q2215.12 714.841 2212.71 715.351 Q2210.3 715.86 2207.82 715.86 Q2201.62 715.86 2197.99 712.249 Q2194.38 708.638 2194.38 702.48 Q2194.38 696.115 2197.8 692.388 Q2201.25 688.638 2207.08 688.638 Q2212.32 688.638 2215.35 692.017 Q2218.4 695.374 2218.4 701.161 M2214.14 699.911 Q2214.1 696.416 2212.18 694.332 Q2210.28 692.249 2207.13 692.249 Q2203.57 692.249 2201.41 694.263 Q2199.28 696.277 2198.96 699.934 L2214.14 699.911 Z\" fill=\"#000000\" fill-rule=\"evenodd\" fill-opacity=\"1\" /><path clip-path=\"url(#clip980)\" d=\"M 0 0 M2237.89 693.244 Q2237.18 692.828 2236.32 692.642 Q2235.49 692.434 2234.47 692.434 Q2230.86 692.434 2228.91 694.795 Q2226.99 697.133 2226.99 701.531 L2226.99 715.189 L2222.71 715.189 L2222.71 689.263 L2226.99 689.263 L2226.99 693.291 Q2228.33 690.929 2230.49 689.795 Q2232.64 688.638 2235.72 688.638 Q2236.16 688.638 2236.69 688.707 Q2237.22 688.754 2237.87 688.869 L2237.89 693.244 Z\" fill=\"#000000\" fill-rule=\"evenodd\" fill-opacity=\"1\" /><path clip-path=\"url(#clip980)\" d=\"M 0 0 M2258.84 711.253 L2266.48 711.253 L2266.48 684.888 L2258.17 686.555 L2258.17 682.295 L2266.44 680.629 L2271.11 680.629 L2271.11 711.253 L2278.75 711.253 L2278.75 715.189 L2258.84 715.189 L2258.84 711.253 Z\" fill=\"#000000\" fill-rule=\"evenodd\" fill-opacity=\"1\" /></svg>\n"
      ]
     },
     "metadata": {},
     "output_type": "display_data"
    }
   ],
   "source": [
    "cum_plot(plotmat)"
   ]
  },
  {
   "cell_type": "code",
   "execution_count": 49,
   "metadata": {},
   "outputs": [],
   "source": [
    "savefig(\"figures/bio_kmeans_portfolio_$upper\")"
   ]
  },
  {
   "cell_type": "markdown",
   "metadata": {},
   "source": [
    "### Expectation Maximization"
   ]
  },
  {
   "cell_type": "code",
   "execution_count": 57,
   "metadata": {},
   "outputs": [
    {
     "data": {
      "text/html": [
       "<table class=\"data-frame\"><thead><tr><th></th><th>1</th><th>2</th><th>3</th><th>4</th><th>5</th><th>6</th><th>7</th></tr><tr><th></th><th>Float64</th><th>Float64</th><th>Float64</th><th>Float64</th><th>Float64</th><th>Float64</th><th>Float64</th></tr></thead><tbody><p>738 rows × 41 columns (omitted printing of 34 columns)</p><tr><th>1</th><td>0.29887</td><td>-0.778063</td><td>0.851534</td><td>-0.179687</td><td>-0.415591</td><td>-0.279405</td><td>1.85834</td></tr><tr><th>2</th><td>1.08032</td><td>0.77449</td><td>0.851534</td><td>-0.179687</td><td>0.401203</td><td>-0.279405</td><td>0.993341</td></tr><tr><th>3</th><td>-1.15899</td><td>-0.148551</td><td>-0.499933</td><td>-0.179687</td><td>-0.415591</td><td>-0.279405</td><td>-0.736655</td></tr><tr><th>4</th><td>1.48027</td><td>2.44602</td><td>0.175801</td><td>-0.179687</td><td>-0.415591</td><td>-0.279405</td><td>-0.736655</td></tr><tr><th>5</th><td>0.0795461</td><td>-0.125726</td><td>-0.499933</td><td>-0.179687</td><td>-0.415591</td><td>-0.279405</td><td>0.128343</td></tr><tr><th>6</th><td>1.36784</td><td>0.755805</td><td>2.203</td><td>-0.179687</td><td>1.218</td><td>0.628969</td><td>-0.304156</td></tr><tr><th>7</th><td>1.08217</td><td>1.21916</td><td>-0.499933</td><td>-0.179687</td><td>3.25999</td><td>0.628969</td><td>0.993341</td></tr><tr><th>8</th><td>-2.55234</td><td>-1.09382</td><td>0.851534</td><td>-0.179687</td><td>-0.415591</td><td>-0.279405</td><td>-0.736655</td></tr><tr><th>9</th><td>0.00582385</td><td>-0.467269</td><td>0.175801</td><td>-0.179687</td><td>0.401203</td><td>-0.279405</td><td>0.128343</td></tr><tr><th>10</th><td>0.894176</td><td>2.59195</td><td>1.52727</td><td>-0.179687</td><td>-0.415591</td><td>-0.279405</td><td>-0.736655</td></tr><tr><th>11</th><td>-0.510232</td><td>-0.821229</td><td>-0.499933</td><td>-0.179687</td><td>0.809601</td><td>-0.279405</td><td>-0.304156</td></tr><tr><th>12</th><td>-0.552622</td><td>-0.14997</td><td>-0.499933</td><td>-0.179687</td><td>-0.00719399</td><td>-0.279405</td><td>-0.304156</td></tr><tr><th>13</th><td>0.424197</td><td>-1.66078</td><td>0.851534</td><td>-0.179687</td><td>2.44319</td><td>-0.279405</td><td>0.128343</td></tr><tr><th>14</th><td>1.21671</td><td>0.0530875</td><td>0.175801</td><td>-0.179687</td><td>0.401203</td><td>-0.279405</td><td>0.993341</td></tr><tr><th>15</th><td>1.31071</td><td>-0.7647</td><td>-0.499933</td><td>-0.179687</td><td>-0.415591</td><td>0.628969</td><td>0.560842</td></tr><tr><th>16</th><td>-0.840138</td><td>0.664269</td><td>-0.499933</td><td>-0.179687</td><td>-0.415591</td><td>-0.279405</td><td>-0.736655</td></tr><tr><th>17</th><td>-1.47231</td><td>-0.125253</td><td>0.175801</td><td>-0.179687</td><td>-0.415591</td><td>-0.279405</td><td>-0.736655</td></tr><tr><th>18</th><td>2.21012</td><td>-1.43312</td><td>3.55447</td><td>-0.179687</td><td>-0.415591</td><td>2.44572</td><td>-0.736655</td></tr><tr><th>19</th><td>-0.709281</td><td>-0.957823</td><td>-0.499933</td><td>-0.179687</td><td>-0.415591</td><td>-0.279405</td><td>-0.736655</td></tr><tr><th>20</th><td>-0.276164</td><td>-0.886983</td><td>-0.499933</td><td>3.60914</td><td>2.44319</td><td>-0.279405</td><td>0.560842</td></tr><tr><th>21</th><td>-1.47231</td><td>-1.15485</td><td>-0.499933</td><td>-0.179687</td><td>-0.415591</td><td>-0.279405</td><td>-0.736655</td></tr><tr><th>22</th><td>1.01397</td><td>-1.36169</td><td>-0.499933</td><td>-0.179687</td><td>-0.415591</td><td>-0.279405</td><td>2.29084</td></tr><tr><th>23</th><td>-1.15899</td><td>0.382686</td><td>-0.499933</td><td>-0.179687</td><td>-0.415591</td><td>-0.279405</td><td>-0.736655</td></tr><tr><th>24</th><td>-1.04287</td><td>0.626307</td><td>-0.499933</td><td>-0.179687</td><td>-0.415591</td><td>-0.279405</td><td>-0.736655</td></tr><tr><th>25</th><td>0.862844</td><td>1.03491</td><td>2.203</td><td>-0.179687</td><td>1.218</td><td>-0.279405</td><td>1.85834</td></tr><tr><th>26</th><td>0.490547</td><td>0.181166</td><td>-0.499933</td><td>-0.179687</td><td>0.401203</td><td>-0.279405</td><td>0.128343</td></tr><tr><th>27</th><td>-0.471527</td><td>-0.588015</td><td>-0.499933</td><td>-0.179687</td><td>0.401203</td><td>-0.279405</td><td>-0.304156</td></tr><tr><th>28</th><td>0.551368</td><td>0.0509588</td><td>0.175801</td><td>-0.179687</td><td>-0.415591</td><td>-0.279405</td><td>-0.736655</td></tr><tr><th>29</th><td>0.590072</td><td>0.763137</td><td>2.87873</td><td>-0.179687</td><td>-0.415591</td><td>-0.279405</td><td>1.42584</td></tr><tr><th>30</th><td>1.15036</td><td>-0.144766</td><td>2.203</td><td>-0.179687</td><td>0.401203</td><td>-0.279405</td><td>2.72334</td></tr><tr><th>31</th><td>1.32177</td><td>-0.455324</td><td>0.175801</td><td>-0.179687</td><td>0.401203</td><td>-0.279405</td><td>0.993341</td></tr><tr><th>32</th><td>0.553211</td><td>-0.991528</td><td>-0.499933</td><td>-0.179687</td><td>-0.415591</td><td>0.628969</td><td>-0.736655</td></tr><tr><th>33</th><td>0.315457</td><td>0.522709</td><td>1.52727</td><td>-0.179687</td><td>-0.00719399</td><td>-0.279405</td><td>0.993341</td></tr><tr><th>34</th><td>-0.519447</td><td>-0.513273</td><td>0.175801</td><td>-0.179687</td><td>-0.415591</td><td>-0.279405</td><td>-0.304156</td></tr><tr><th>35</th><td>0.80571</td><td>-0.23299</td><td>3.55447</td><td>-0.179687</td><td>-0.415591</td><td>-0.279405</td><td>-0.736655</td></tr><tr><th>36</th><td>1.97421</td><td>-0.455088</td><td>2.87873</td><td>-0.179687</td><td>-0.415591</td><td>1.53734</td><td>0.993341</td></tr><tr><th>37</th><td>0.571642</td><td>-0.708998</td><td>2.203</td><td>-0.179687</td><td>0.401203</td><td>-0.279405</td><td>2.72334</td></tr><tr><th>38</th><td>0.0353127</td><td>-0.181546</td><td>-0.499933</td><td>-0.179687</td><td>-0.00719399</td><td>-0.279405</td><td>-0.304156</td></tr><tr><th>39</th><td>1.65536</td><td>-0.521551</td><td>-0.499933</td><td>-0.179687</td><td>2.03479</td><td>0.628969</td><td>-0.304156</td></tr><tr><th>40</th><td>0.300713</td><td>-0.86203</td><td>-0.499933</td><td>-0.179687</td><td>-0.415591</td><td>-0.279405</td><td>0.128343</td></tr><tr><th>41</th><td>0.55874</td><td>1.4694</td><td>-0.499933</td><td>-0.179687</td><td>-0.415591</td><td>0.628969</td><td>-0.736655</td></tr><tr><th>42</th><td>-0.283536</td><td>-2.70445</td><td>-0.499933</td><td>-0.179687</td><td>-0.415591</td><td>-0.279405</td><td>-0.736655</td></tr><tr><th>43</th><td>-0.552622</td><td>0.0995648</td><td>-0.499933</td><td>-0.179687</td><td>-0.00719399</td><td>-0.279405</td><td>-0.736655</td></tr><tr><th>44</th><td>0.29334</td><td>0.545534</td><td>-0.499933</td><td>-0.179687</td><td>-0.00719399</td><td>-0.279405</td><td>0.560842</td></tr><tr><th>45</th><td>0.204874</td><td>-0.250493</td><td>-0.499933</td><td>-0.179687</td><td>-0.415591</td><td>-0.279405</td><td>0.560842</td></tr><tr><th>46</th><td>0.925508</td><td>0.150418</td><td>1.52727</td><td>-0.179687</td><td>-0.415591</td><td>-0.279405</td><td>-0.304156</td></tr><tr><th>47</th><td>-0.12319</td><td>0.138473</td><td>-0.499933</td><td>-0.179687</td><td>0.809601</td><td>-0.279405</td><td>0.560842</td></tr><tr><th>48</th><td>-0.604227</td><td>0.501422</td><td>-0.499933</td><td>-0.179687</td><td>-0.415591</td><td>-0.279405</td><td>-0.736655</td></tr><tr><th>49</th><td>0.868374</td><td>2.43384</td><td>4.2302</td><td>-0.179687</td><td>-0.415591</td><td>-0.279405</td><td>-0.736655</td></tr><tr><th>50</th><td>0.381807</td><td>0.815291</td><td>0.175801</td><td>-0.179687</td><td>0.401203</td><td>-0.279405</td><td>0.560842</td></tr><tr><th>51</th><td>0.567956</td><td>-0.147723</td><td>-0.499933</td><td>-0.179687</td><td>-0.415591</td><td>0.628969</td><td>-0.304156</td></tr><tr><th>52</th><td>-0.913861</td><td>-0.512682</td><td>0.175801</td><td>-0.179687</td><td>-0.415591</td><td>-0.279405</td><td>-0.736655</td></tr><tr><th>53</th><td>-1.49811</td><td>-0.156947</td><td>-0.499933</td><td>-0.179687</td><td>-0.415591</td><td>-0.279405</td><td>-0.736655</td></tr><tr><th>54</th><td>-0.289065</td><td>0.113993</td><td>-0.499933</td><td>-0.179687</td><td>-0.00719399</td><td>-0.279405</td><td>0.128343</td></tr><tr><th>55</th><td>-1.15899</td><td>0.108198</td><td>0.851534</td><td>-0.179687</td><td>-0.415591</td><td>-0.279405</td><td>-0.736655</td></tr><tr><th>56</th><td>0.947625</td><td>0.365893</td><td>0.175801</td><td>-0.179687</td><td>-0.415591</td><td>-0.279405</td><td>0.128343</td></tr><tr><th>57</th><td>0.0482141</td><td>-0.731113</td><td>-0.499933</td><td>-0.179687</td><td>-0.415591</td><td>-0.279405</td><td>-0.736655</td></tr><tr><th>58</th><td>1.30886</td><td>2.78851</td><td>0.851534</td><td>-0.179687</td><td>-0.415591</td><td>-0.279405</td><td>-0.736655</td></tr><tr><th>59</th><td>-0.709281</td><td>-0.217853</td><td>-0.499933</td><td>-0.179687</td><td>-0.415591</td><td>-0.279405</td><td>-0.736655</td></tr><tr><th>60</th><td>0.986329</td><td>3.19214</td><td>-0.499933</td><td>-0.179687</td><td>-0.415591</td><td>0.628969</td><td>-0.736655</td></tr><tr><th>61</th><td>-0.0144498</td><td>1.70404</td><td>-0.499933</td><td>-0.179687</td><td>0.401203</td><td>-0.279405</td><td>-0.736655</td></tr><tr><th>62</th><td>-0.12319</td><td>-0.00840916</td><td>-0.499933</td><td>-0.179687</td><td>-0.415591</td><td>-0.279405</td><td>-0.304156</td></tr><tr><th>63</th><td>0.929194</td><td>1.2324</td><td>-0.499933</td><td>-0.179687</td><td>-0.415591</td><td>0.628969</td><td>-0.736655</td></tr><tr><th>64</th><td>0.984486</td><td>-1.17271</td><td>0.175801</td><td>-0.179687</td><td>-0.415591</td><td>-0.279405</td><td>1.85834</td></tr><tr><th>65</th><td>0.529251</td><td>0.713822</td><td>-0.499933</td><td>-0.179687</td><td>-0.415591</td><td>0.628969</td><td>-0.736655</td></tr><tr><th>66</th><td>0.182757</td><td>0.12641</td><td>-0.499933</td><td>-0.179687</td><td>-0.415591</td><td>-0.279405</td><td>0.560842</td></tr><tr><th>67</th><td>0.379964</td><td>-1.40864</td><td>-0.499933</td><td>-0.179687</td><td>-0.00719399</td><td>-0.279405</td><td>0.128343</td></tr><tr><th>68</th><td>1.272</td><td>0.590119</td><td>-0.499933</td><td>-0.179687</td><td>-0.415591</td><td>1.53734</td><td>0.993341</td></tr><tr><th>69</th><td>1.21671</td><td>0.718316</td><td>-0.499933</td><td>-0.179687</td><td>-0.415591</td><td>1.53734</td><td>0.993341</td></tr><tr><th>70</th><td>0.20856</td><td>0.283818</td><td>-0.499933</td><td>-0.179687</td><td>-0.415591</td><td>-0.279405</td><td>0.560842</td></tr><tr><th>71</th><td>-0.913861</td><td>-0.0921392</td><td>1.52727</td><td>-0.179687</td><td>-0.415591</td><td>-0.279405</td><td>-0.736655</td></tr><tr><th>72</th><td>0.20856</td><td>0.458137</td><td>0.851534</td><td>-0.179687</td><td>-0.415591</td><td>-0.279405</td><td>0.560842</td></tr><tr><th>73</th><td>-1.96624</td><td>-0.705095</td><td>-0.499933</td><td>-0.179687</td><td>-0.415591</td><td>-0.279405</td><td>-0.736655</td></tr><tr><th>74</th><td>1.08585</td><td>0.260993</td><td>-0.499933</td><td>-0.179687</td><td>-0.415591</td><td>0.628969</td><td>0.560842</td></tr><tr><th>75</th><td>-3.31536</td><td>-0.450475</td><td>-0.499933</td><td>-0.179687</td><td>-0.415591</td><td>-0.279405</td><td>-0.736655</td></tr><tr><th>76</th><td>1.09691</td><td>-0.307496</td><td>1.52727</td><td>3.60914</td><td>0.809601</td><td>-0.279405</td><td>0.993341</td></tr><tr><th>77</th><td>-0.0863289</td><td>1.06944</td><td>-0.499933</td><td>-0.179687</td><td>-0.415591</td><td>-0.279405</td><td>-0.736655</td></tr><tr><th>78</th><td>0.853629</td><td>2.29949</td><td>1.52727</td><td>-0.179687</td><td>-0.415591</td><td>0.628969</td><td>-0.736655</td></tr><tr><th>79</th><td>-0.436509</td><td>0.142612</td><td>-0.499933</td><td>-0.179687</td><td>-0.415591</td><td>-0.279405</td><td>0.128343</td></tr><tr><th>80</th><td>0.551368</td><td>0.367548</td><td>-0.499933</td><td>-0.179687</td><td>-0.415591</td><td>0.628969</td><td>-0.736655</td></tr><tr><th>81</th><td>0.984486</td><td>1.98444</td><td>-0.499933</td><td>-0.179687</td><td>-0.415591</td><td>1.53734</td><td>-0.736655</td></tr><tr><th>82</th><td>1.01766</td><td>1.35421</td><td>0.175801</td><td>-0.179687</td><td>-0.415591</td><td>-0.279405</td><td>-0.736655</td></tr><tr><th>83</th><td>-0.768259</td><td>0.157987</td><td>-0.499933</td><td>-0.179687</td><td>-0.415591</td><td>-0.279405</td><td>-0.736655</td></tr><tr><th>84</th><td>-0.768259</td><td>-1.04475</td><td>-0.499933</td><td>-0.179687</td><td>0.401203</td><td>-0.279405</td><td>-0.736655</td></tr><tr><th>85</th><td>-1.53497</td><td>-0.277575</td><td>-0.499933</td><td>-0.179687</td><td>-0.415591</td><td>-0.279405</td><td>-0.736655</td></tr><tr><th>86</th><td>0.645364</td><td>-1.46032</td><td>-0.499933</td><td>-0.179687</td><td>-0.415591</td><td>-0.279405</td><td>0.560842</td></tr><tr><th>87</th><td>0.0150391</td><td>0.299429</td><td>0.851534</td><td>-0.179687</td><td>-0.415591</td><td>-0.279405</td><td>0.560842</td></tr><tr><th>88</th><td>0.67301</td><td>-0.0490915</td><td>-0.499933</td><td>-0.179687</td><td>-0.00719399</td><td>-0.279405</td><td>-0.736655</td></tr><tr><th>89</th><td>-1.83723</td><td>-0.42564</td><td>-0.499933</td><td>-0.179687</td><td>-0.415591</td><td>-0.279405</td><td>-0.736655</td></tr><tr><th>90</th><td>0.0408419</td><td>-1.63925</td><td>-0.499933</td><td>-0.179687</td><td>-0.415591</td><td>-0.279405</td><td>-0.736655</td></tr><tr><th>91</th><td>0.637992</td><td>1.6617</td><td>-0.499933</td><td>-0.179687</td><td>-0.415591</td><td>0.628969</td><td>-0.736655</td></tr><tr><th>92</th><td>-0.12319</td><td>0.342476</td><td>0.851534</td><td>-0.179687</td><td>-0.415591</td><td>-0.279405</td><td>0.560842</td></tr><tr><th>93</th><td>-0.552622</td><td>0.0445726</td><td>-0.499933</td><td>-0.179687</td><td>-0.415591</td><td>-0.279405</td><td>-0.736655</td></tr><tr><th>94</th><td>-0.519447</td><td>-0.383184</td><td>-0.499933</td><td>-0.179687</td><td>0.401203</td><td>-0.279405</td><td>-0.304156</td></tr><tr><th>95</th><td>0.376278</td><td>-0.209929</td><td>-0.499933</td><td>-0.179687</td><td>-0.415591</td><td>-0.279405</td><td>0.560842</td></tr><tr><th>96</th><td>0.29334</td><td>0.601708</td><td>0.851534</td><td>-0.179687</td><td>-0.00719399</td><td>-0.279405</td><td>0.560842</td></tr><tr><th>97</th><td>-1.47231</td><td>-0.549107</td><td>-0.499933</td><td>-0.179687</td><td>-0.415591</td><td>-0.279405</td><td>-0.736655</td></tr><tr><th>98</th><td>1.14483</td><td>0.176436</td><td>-0.499933</td><td>-0.179687</td><td>-0.415591</td><td>3.35409</td><td>0.128343</td></tr><tr><th>99</th><td>0.80571</td><td>-0.175751</td><td>3.55447</td><td>-0.179687</td><td>-0.415591</td><td>-0.279405</td><td>-0.736655</td></tr><tr><th>100</th><td>1.14852</td><td>0.284291</td><td>-0.499933</td><td>-0.179687</td><td>-0.415591</td><td>1.53734</td><td>0.560842</td></tr><tr><th>&vellip;</th><td>&vellip;</td><td>&vellip;</td><td>&vellip;</td><td>&vellip;</td><td>&vellip;</td><td>&vellip;</td><td>&vellip;</td></tr></tbody></table>"
      ],
      "text/latex": [
       "\\begin{tabular}{r|cccccccc}\n",
       "\t& 1 & 2 & 3 & 4 & 5 & 6 & 7 & \\\\\n",
       "\t\\hline\n",
       "\t& Float64 & Float64 & Float64 & Float64 & Float64 & Float64 & Float64 & \\\\\n",
       "\t\\hline\n",
       "\t1 & 0.29887 & -0.778063 & 0.851534 & -0.179687 & -0.415591 & -0.279405 & 1.85834 & $\\dots$ \\\\\n",
       "\t2 & 1.08032 & 0.77449 & 0.851534 & -0.179687 & 0.401203 & -0.279405 & 0.993341 & $\\dots$ \\\\\n",
       "\t3 & -1.15899 & -0.148551 & -0.499933 & -0.179687 & -0.415591 & -0.279405 & -0.736655 & $\\dots$ \\\\\n",
       "\t4 & 1.48027 & 2.44602 & 0.175801 & -0.179687 & -0.415591 & -0.279405 & -0.736655 & $\\dots$ \\\\\n",
       "\t5 & 0.0795461 & -0.125726 & -0.499933 & -0.179687 & -0.415591 & -0.279405 & 0.128343 & $\\dots$ \\\\\n",
       "\t6 & 1.36784 & 0.755805 & 2.203 & -0.179687 & 1.218 & 0.628969 & -0.304156 & $\\dots$ \\\\\n",
       "\t7 & 1.08217 & 1.21916 & -0.499933 & -0.179687 & 3.25999 & 0.628969 & 0.993341 & $\\dots$ \\\\\n",
       "\t8 & -2.55234 & -1.09382 & 0.851534 & -0.179687 & -0.415591 & -0.279405 & -0.736655 & $\\dots$ \\\\\n",
       "\t9 & 0.00582385 & -0.467269 & 0.175801 & -0.179687 & 0.401203 & -0.279405 & 0.128343 & $\\dots$ \\\\\n",
       "\t10 & 0.894176 & 2.59195 & 1.52727 & -0.179687 & -0.415591 & -0.279405 & -0.736655 & $\\dots$ \\\\\n",
       "\t11 & -0.510232 & -0.821229 & -0.499933 & -0.179687 & 0.809601 & -0.279405 & -0.304156 & $\\dots$ \\\\\n",
       "\t12 & -0.552622 & -0.14997 & -0.499933 & -0.179687 & -0.00719399 & -0.279405 & -0.304156 & $\\dots$ \\\\\n",
       "\t13 & 0.424197 & -1.66078 & 0.851534 & -0.179687 & 2.44319 & -0.279405 & 0.128343 & $\\dots$ \\\\\n",
       "\t14 & 1.21671 & 0.0530875 & 0.175801 & -0.179687 & 0.401203 & -0.279405 & 0.993341 & $\\dots$ \\\\\n",
       "\t15 & 1.31071 & -0.7647 & -0.499933 & -0.179687 & -0.415591 & 0.628969 & 0.560842 & $\\dots$ \\\\\n",
       "\t16 & -0.840138 & 0.664269 & -0.499933 & -0.179687 & -0.415591 & -0.279405 & -0.736655 & $\\dots$ \\\\\n",
       "\t17 & -1.47231 & -0.125253 & 0.175801 & -0.179687 & -0.415591 & -0.279405 & -0.736655 & $\\dots$ \\\\\n",
       "\t18 & 2.21012 & -1.43312 & 3.55447 & -0.179687 & -0.415591 & 2.44572 & -0.736655 & $\\dots$ \\\\\n",
       "\t19 & -0.709281 & -0.957823 & -0.499933 & -0.179687 & -0.415591 & -0.279405 & -0.736655 & $\\dots$ \\\\\n",
       "\t20 & -0.276164 & -0.886983 & -0.499933 & 3.60914 & 2.44319 & -0.279405 & 0.560842 & $\\dots$ \\\\\n",
       "\t21 & -1.47231 & -1.15485 & -0.499933 & -0.179687 & -0.415591 & -0.279405 & -0.736655 & $\\dots$ \\\\\n",
       "\t22 & 1.01397 & -1.36169 & -0.499933 & -0.179687 & -0.415591 & -0.279405 & 2.29084 & $\\dots$ \\\\\n",
       "\t23 & -1.15899 & 0.382686 & -0.499933 & -0.179687 & -0.415591 & -0.279405 & -0.736655 & $\\dots$ \\\\\n",
       "\t24 & -1.04287 & 0.626307 & -0.499933 & -0.179687 & -0.415591 & -0.279405 & -0.736655 & $\\dots$ \\\\\n",
       "\t25 & 0.862844 & 1.03491 & 2.203 & -0.179687 & 1.218 & -0.279405 & 1.85834 & $\\dots$ \\\\\n",
       "\t26 & 0.490547 & 0.181166 & -0.499933 & -0.179687 & 0.401203 & -0.279405 & 0.128343 & $\\dots$ \\\\\n",
       "\t27 & -0.471527 & -0.588015 & -0.499933 & -0.179687 & 0.401203 & -0.279405 & -0.304156 & $\\dots$ \\\\\n",
       "\t28 & 0.551368 & 0.0509588 & 0.175801 & -0.179687 & -0.415591 & -0.279405 & -0.736655 & $\\dots$ \\\\\n",
       "\t29 & 0.590072 & 0.763137 & 2.87873 & -0.179687 & -0.415591 & -0.279405 & 1.42584 & $\\dots$ \\\\\n",
       "\t30 & 1.15036 & -0.144766 & 2.203 & -0.179687 & 0.401203 & -0.279405 & 2.72334 & $\\dots$ \\\\\n",
       "\t31 & 1.32177 & -0.455324 & 0.175801 & -0.179687 & 0.401203 & -0.279405 & 0.993341 & $\\dots$ \\\\\n",
       "\t32 & 0.553211 & -0.991528 & -0.499933 & -0.179687 & -0.415591 & 0.628969 & -0.736655 & $\\dots$ \\\\\n",
       "\t33 & 0.315457 & 0.522709 & 1.52727 & -0.179687 & -0.00719399 & -0.279405 & 0.993341 & $\\dots$ \\\\\n",
       "\t34 & -0.519447 & -0.513273 & 0.175801 & -0.179687 & -0.415591 & -0.279405 & -0.304156 & $\\dots$ \\\\\n",
       "\t35 & 0.80571 & -0.23299 & 3.55447 & -0.179687 & -0.415591 & -0.279405 & -0.736655 & $\\dots$ \\\\\n",
       "\t36 & 1.97421 & -0.455088 & 2.87873 & -0.179687 & -0.415591 & 1.53734 & 0.993341 & $\\dots$ \\\\\n",
       "\t37 & 0.571642 & -0.708998 & 2.203 & -0.179687 & 0.401203 & -0.279405 & 2.72334 & $\\dots$ \\\\\n",
       "\t38 & 0.0353127 & -0.181546 & -0.499933 & -0.179687 & -0.00719399 & -0.279405 & -0.304156 & $\\dots$ \\\\\n",
       "\t39 & 1.65536 & -0.521551 & -0.499933 & -0.179687 & 2.03479 & 0.628969 & -0.304156 & $\\dots$ \\\\\n",
       "\t40 & 0.300713 & -0.86203 & -0.499933 & -0.179687 & -0.415591 & -0.279405 & 0.128343 & $\\dots$ \\\\\n",
       "\t41 & 0.55874 & 1.4694 & -0.499933 & -0.179687 & -0.415591 & 0.628969 & -0.736655 & $\\dots$ \\\\\n",
       "\t42 & -0.283536 & -2.70445 & -0.499933 & -0.179687 & -0.415591 & -0.279405 & -0.736655 & $\\dots$ \\\\\n",
       "\t43 & -0.552622 & 0.0995648 & -0.499933 & -0.179687 & -0.00719399 & -0.279405 & -0.736655 & $\\dots$ \\\\\n",
       "\t44 & 0.29334 & 0.545534 & -0.499933 & -0.179687 & -0.00719399 & -0.279405 & 0.560842 & $\\dots$ \\\\\n",
       "\t45 & 0.204874 & -0.250493 & -0.499933 & -0.179687 & -0.415591 & -0.279405 & 0.560842 & $\\dots$ \\\\\n",
       "\t46 & 0.925508 & 0.150418 & 1.52727 & -0.179687 & -0.415591 & -0.279405 & -0.304156 & $\\dots$ \\\\\n",
       "\t47 & -0.12319 & 0.138473 & -0.499933 & -0.179687 & 0.809601 & -0.279405 & 0.560842 & $\\dots$ \\\\\n",
       "\t48 & -0.604227 & 0.501422 & -0.499933 & -0.179687 & -0.415591 & -0.279405 & -0.736655 & $\\dots$ \\\\\n",
       "\t49 & 0.868374 & 2.43384 & 4.2302 & -0.179687 & -0.415591 & -0.279405 & -0.736655 & $\\dots$ \\\\\n",
       "\t50 & 0.381807 & 0.815291 & 0.175801 & -0.179687 & 0.401203 & -0.279405 & 0.560842 & $\\dots$ \\\\\n",
       "\t51 & 0.567956 & -0.147723 & -0.499933 & -0.179687 & -0.415591 & 0.628969 & -0.304156 & $\\dots$ \\\\\n",
       "\t52 & -0.913861 & -0.512682 & 0.175801 & -0.179687 & -0.415591 & -0.279405 & -0.736655 & $\\dots$ \\\\\n",
       "\t53 & -1.49811 & -0.156947 & -0.499933 & -0.179687 & -0.415591 & -0.279405 & -0.736655 & $\\dots$ \\\\\n",
       "\t54 & -0.289065 & 0.113993 & -0.499933 & -0.179687 & -0.00719399 & -0.279405 & 0.128343 & $\\dots$ \\\\\n",
       "\t55 & -1.15899 & 0.108198 & 0.851534 & -0.179687 & -0.415591 & -0.279405 & -0.736655 & $\\dots$ \\\\\n",
       "\t56 & 0.947625 & 0.365893 & 0.175801 & -0.179687 & -0.415591 & -0.279405 & 0.128343 & $\\dots$ \\\\\n",
       "\t57 & 0.0482141 & -0.731113 & -0.499933 & -0.179687 & -0.415591 & -0.279405 & -0.736655 & $\\dots$ \\\\\n",
       "\t58 & 1.30886 & 2.78851 & 0.851534 & -0.179687 & -0.415591 & -0.279405 & -0.736655 & $\\dots$ \\\\\n",
       "\t59 & -0.709281 & -0.217853 & -0.499933 & -0.179687 & -0.415591 & -0.279405 & -0.736655 & $\\dots$ \\\\\n",
       "\t60 & 0.986329 & 3.19214 & -0.499933 & -0.179687 & -0.415591 & 0.628969 & -0.736655 & $\\dots$ \\\\\n",
       "\t61 & -0.0144498 & 1.70404 & -0.499933 & -0.179687 & 0.401203 & -0.279405 & -0.736655 & $\\dots$ \\\\\n",
       "\t62 & -0.12319 & -0.00840916 & -0.499933 & -0.179687 & -0.415591 & -0.279405 & -0.304156 & $\\dots$ \\\\\n",
       "\t63 & 0.929194 & 1.2324 & -0.499933 & -0.179687 & -0.415591 & 0.628969 & -0.736655 & $\\dots$ \\\\\n",
       "\t64 & 0.984486 & -1.17271 & 0.175801 & -0.179687 & -0.415591 & -0.279405 & 1.85834 & $\\dots$ \\\\\n",
       "\t65 & 0.529251 & 0.713822 & -0.499933 & -0.179687 & -0.415591 & 0.628969 & -0.736655 & $\\dots$ \\\\\n",
       "\t66 & 0.182757 & 0.12641 & -0.499933 & -0.179687 & -0.415591 & -0.279405 & 0.560842 & $\\dots$ \\\\\n",
       "\t67 & 0.379964 & -1.40864 & -0.499933 & -0.179687 & -0.00719399 & -0.279405 & 0.128343 & $\\dots$ \\\\\n",
       "\t68 & 1.272 & 0.590119 & -0.499933 & -0.179687 & -0.415591 & 1.53734 & 0.993341 & $\\dots$ \\\\\n",
       "\t69 & 1.21671 & 0.718316 & -0.499933 & -0.179687 & -0.415591 & 1.53734 & 0.993341 & $\\dots$ \\\\\n",
       "\t70 & 0.20856 & 0.283818 & -0.499933 & -0.179687 & -0.415591 & -0.279405 & 0.560842 & $\\dots$ \\\\\n",
       "\t71 & -0.913861 & -0.0921392 & 1.52727 & -0.179687 & -0.415591 & -0.279405 & -0.736655 & $\\dots$ \\\\\n",
       "\t72 & 0.20856 & 0.458137 & 0.851534 & -0.179687 & -0.415591 & -0.279405 & 0.560842 & $\\dots$ \\\\\n",
       "\t73 & -1.96624 & -0.705095 & -0.499933 & -0.179687 & -0.415591 & -0.279405 & -0.736655 & $\\dots$ \\\\\n",
       "\t74 & 1.08585 & 0.260993 & -0.499933 & -0.179687 & -0.415591 & 0.628969 & 0.560842 & $\\dots$ \\\\\n",
       "\t75 & -3.31536 & -0.450475 & -0.499933 & -0.179687 & -0.415591 & -0.279405 & -0.736655 & $\\dots$ \\\\\n",
       "\t76 & 1.09691 & -0.307496 & 1.52727 & 3.60914 & 0.809601 & -0.279405 & 0.993341 & $\\dots$ \\\\\n",
       "\t77 & -0.0863289 & 1.06944 & -0.499933 & -0.179687 & -0.415591 & -0.279405 & -0.736655 & $\\dots$ \\\\\n",
       "\t78 & 0.853629 & 2.29949 & 1.52727 & -0.179687 & -0.415591 & 0.628969 & -0.736655 & $\\dots$ \\\\\n",
       "\t79 & -0.436509 & 0.142612 & -0.499933 & -0.179687 & -0.415591 & -0.279405 & 0.128343 & $\\dots$ \\\\\n",
       "\t80 & 0.551368 & 0.367548 & -0.499933 & -0.179687 & -0.415591 & 0.628969 & -0.736655 & $\\dots$ \\\\\n",
       "\t81 & 0.984486 & 1.98444 & -0.499933 & -0.179687 & -0.415591 & 1.53734 & -0.736655 & $\\dots$ \\\\\n",
       "\t82 & 1.01766 & 1.35421 & 0.175801 & -0.179687 & -0.415591 & -0.279405 & -0.736655 & $\\dots$ \\\\\n",
       "\t83 & -0.768259 & 0.157987 & -0.499933 & -0.179687 & -0.415591 & -0.279405 & -0.736655 & $\\dots$ \\\\\n",
       "\t84 & -0.768259 & -1.04475 & -0.499933 & -0.179687 & 0.401203 & -0.279405 & -0.736655 & $\\dots$ \\\\\n",
       "\t85 & -1.53497 & -0.277575 & -0.499933 & -0.179687 & -0.415591 & -0.279405 & -0.736655 & $\\dots$ \\\\\n",
       "\t86 & 0.645364 & -1.46032 & -0.499933 & -0.179687 & -0.415591 & -0.279405 & 0.560842 & $\\dots$ \\\\\n",
       "\t87 & 0.0150391 & 0.299429 & 0.851534 & -0.179687 & -0.415591 & -0.279405 & 0.560842 & $\\dots$ \\\\\n",
       "\t88 & 0.67301 & -0.0490915 & -0.499933 & -0.179687 & -0.00719399 & -0.279405 & -0.736655 & $\\dots$ \\\\\n",
       "\t89 & -1.83723 & -0.42564 & -0.499933 & -0.179687 & -0.415591 & -0.279405 & -0.736655 & $\\dots$ \\\\\n",
       "\t90 & 0.0408419 & -1.63925 & -0.499933 & -0.179687 & -0.415591 & -0.279405 & -0.736655 & $\\dots$ \\\\\n",
       "\t91 & 0.637992 & 1.6617 & -0.499933 & -0.179687 & -0.415591 & 0.628969 & -0.736655 & $\\dots$ \\\\\n",
       "\t92 & -0.12319 & 0.342476 & 0.851534 & -0.179687 & -0.415591 & -0.279405 & 0.560842 & $\\dots$ \\\\\n",
       "\t93 & -0.552622 & 0.0445726 & -0.499933 & -0.179687 & -0.415591 & -0.279405 & -0.736655 & $\\dots$ \\\\\n",
       "\t94 & -0.519447 & -0.383184 & -0.499933 & -0.179687 & 0.401203 & -0.279405 & -0.304156 & $\\dots$ \\\\\n",
       "\t95 & 0.376278 & -0.209929 & -0.499933 & -0.179687 & -0.415591 & -0.279405 & 0.560842 & $\\dots$ \\\\\n",
       "\t96 & 0.29334 & 0.601708 & 0.851534 & -0.179687 & -0.00719399 & -0.279405 & 0.560842 & $\\dots$ \\\\\n",
       "\t97 & -1.47231 & -0.549107 & -0.499933 & -0.179687 & -0.415591 & -0.279405 & -0.736655 & $\\dots$ \\\\\n",
       "\t98 & 1.14483 & 0.176436 & -0.499933 & -0.179687 & -0.415591 & 3.35409 & 0.128343 & $\\dots$ \\\\\n",
       "\t99 & 0.80571 & -0.175751 & 3.55447 & -0.179687 & -0.415591 & -0.279405 & -0.736655 & $\\dots$ \\\\\n",
       "\t100 & 1.14852 & 0.284291 & -0.499933 & -0.179687 & -0.415591 & 1.53734 & 0.560842 & $\\dots$ \\\\\n",
       "\t$\\dots$ & $\\dots$ & $\\dots$ & $\\dots$ & $\\dots$ & $\\dots$ & $\\dots$ & $\\dots$ &  \\\\\n",
       "\\end{tabular}\n"
      ],
      "text/plain": [
       "738×41 DataFrame. Omitted printing of 36 columns\n",
       "│ Row │ 1          │ 2          │ 3         │ 4         │ 5           │\n",
       "│     │ \u001b[90mFloat64\u001b[39m    │ \u001b[90mFloat64\u001b[39m    │ \u001b[90mFloat64\u001b[39m   │ \u001b[90mFloat64\u001b[39m   │ \u001b[90mFloat64\u001b[39m     │\n",
       "├─────┼────────────┼────────────┼───────────┼───────────┼─────────────┤\n",
       "│ 1   │ 0.29887    │ -0.778063  │ 0.851534  │ -0.179687 │ -0.415591   │\n",
       "│ 2   │ 1.08032    │ 0.77449    │ 0.851534  │ -0.179687 │ 0.401203    │\n",
       "│ 3   │ -1.15899   │ -0.148551  │ -0.499933 │ -0.179687 │ -0.415591   │\n",
       "│ 4   │ 1.48027    │ 2.44602    │ 0.175801  │ -0.179687 │ -0.415591   │\n",
       "│ 5   │ 0.0795461  │ -0.125726  │ -0.499933 │ -0.179687 │ -0.415591   │\n",
       "│ 6   │ 1.36784    │ 0.755805   │ 2.203     │ -0.179687 │ 1.218       │\n",
       "│ 7   │ 1.08217    │ 1.21916    │ -0.499933 │ -0.179687 │ 3.25999     │\n",
       "│ 8   │ -2.55234   │ -1.09382   │ 0.851534  │ -0.179687 │ -0.415591   │\n",
       "│ 9   │ 0.00582385 │ -0.467269  │ 0.175801  │ -0.179687 │ 0.401203    │\n",
       "│ 10  │ 0.894176   │ 2.59195    │ 1.52727   │ -0.179687 │ -0.415591   │\n",
       "│ 11  │ -0.510232  │ -0.821229  │ -0.499933 │ -0.179687 │ 0.809601    │\n",
       "│ 12  │ -0.552622  │ -0.14997   │ -0.499933 │ -0.179687 │ -0.00719399 │\n",
       "│ 13  │ 0.424197   │ -1.66078   │ 0.851534  │ -0.179687 │ 2.44319     │\n",
       "│ 14  │ 1.21671    │ 0.0530875  │ 0.175801  │ -0.179687 │ 0.401203    │\n",
       "│ 15  │ 1.31071    │ -0.7647    │ -0.499933 │ -0.179687 │ -0.415591   │\n",
       "│ 16  │ -0.840138  │ 0.664269   │ -0.499933 │ -0.179687 │ -0.415591   │\n",
       "│ 17  │ -1.47231   │ -0.125253  │ 0.175801  │ -0.179687 │ -0.415591   │\n",
       "│ 18  │ 2.21012    │ -1.43312   │ 3.55447   │ -0.179687 │ -0.415591   │\n",
       "│ 19  │ -0.709281  │ -0.957823  │ -0.499933 │ -0.179687 │ -0.415591   │\n",
       "│ 20  │ -0.276164  │ -0.886983  │ -0.499933 │ 3.60914   │ 2.44319     │\n",
       "│ 21  │ -1.47231   │ -1.15485   │ -0.499933 │ -0.179687 │ -0.415591   │\n",
       "│ 22  │ 1.01397    │ -1.36169   │ -0.499933 │ -0.179687 │ -0.415591   │\n",
       "│ 23  │ -1.15899   │ 0.382686   │ -0.499933 │ -0.179687 │ -0.415591   │\n",
       "│ 24  │ -1.04287   │ 0.626307   │ -0.499933 │ -0.179687 │ -0.415591   │\n",
       "│ 25  │ 0.862844   │ 1.03491    │ 2.203     │ -0.179687 │ 1.218       │\n",
       "│ 26  │ 0.490547   │ 0.181166   │ -0.499933 │ -0.179687 │ 0.401203    │\n",
       "│ 27  │ -0.471527  │ -0.588015  │ -0.499933 │ -0.179687 │ 0.401203    │\n",
       "│ 28  │ 0.551368   │ 0.0509588  │ 0.175801  │ -0.179687 │ -0.415591   │\n",
       "│ 29  │ 0.590072   │ 0.763137   │ 2.87873   │ -0.179687 │ -0.415591   │\n",
       "│ 30  │ 1.15036    │ -0.144766  │ 2.203     │ -0.179687 │ 0.401203    │\n",
       "│ 31  │ 1.32177    │ -0.455324  │ 0.175801  │ -0.179687 │ 0.401203    │\n",
       "│ 32  │ 0.553211   │ -0.991528  │ -0.499933 │ -0.179687 │ -0.415591   │\n",
       "│ 33  │ 0.315457   │ 0.522709   │ 1.52727   │ -0.179687 │ -0.00719399 │\n",
       "│ 34  │ -0.519447  │ -0.513273  │ 0.175801  │ -0.179687 │ -0.415591   │\n",
       "│ 35  │ 0.80571    │ -0.23299   │ 3.55447   │ -0.179687 │ -0.415591   │\n",
       "│ 36  │ 1.97421    │ -0.455088  │ 2.87873   │ -0.179687 │ -0.415591   │\n",
       "│ 37  │ 0.571642   │ -0.708998  │ 2.203     │ -0.179687 │ 0.401203    │\n",
       "│ 38  │ 0.0353127  │ -0.181546  │ -0.499933 │ -0.179687 │ -0.00719399 │\n",
       "│ 39  │ 1.65536    │ -0.521551  │ -0.499933 │ -0.179687 │ 2.03479     │\n",
       "│ 40  │ 0.300713   │ -0.86203   │ -0.499933 │ -0.179687 │ -0.415591   │\n",
       "│ 41  │ 0.55874    │ 1.4694     │ -0.499933 │ -0.179687 │ -0.415591   │\n",
       "│ 42  │ -0.283536  │ -2.70445   │ -0.499933 │ -0.179687 │ -0.415591   │\n",
       "│ 43  │ -0.552622  │ 0.0995648  │ -0.499933 │ -0.179687 │ -0.00719399 │\n",
       "│ 44  │ 0.29334    │ 0.545534   │ -0.499933 │ -0.179687 │ -0.00719399 │\n",
       "│ 45  │ 0.204874   │ -0.250493  │ -0.499933 │ -0.179687 │ -0.415591   │\n",
       "⋮\n",
       "│ 693 │ -1.15899   │ -0.389688  │ 0.851534  │ -0.179687 │ -0.415591   │\n",
       "│ 694 │ 1.84151    │ -1.35921   │ 0.175801  │ -0.179687 │ -0.415591   │\n",
       "│ 695 │ -0.709281  │ 0.22244    │ -0.499933 │ -0.179687 │ -0.415591   │\n",
       "│ 696 │ 0.105349   │ -0.0423506 │ 0.175801  │ -0.179687 │ -0.415591   │\n",
       "│ 697 │ -1.51838   │ -0.237721  │ -0.499933 │ -0.179687 │ -0.415591   │\n",
       "│ 698 │ -1.15899   │ -0.505941  │ -0.499933 │ -0.179687 │ -0.415591   │\n",
       "│ 699 │ -1.53497   │ -0.196683  │ -0.499933 │ -0.179687 │ 0.401203    │\n",
       "│ 700 │ -0.747986  │ 0.656464   │ -0.499933 │ -0.179687 │ -0.415591   │\n",
       "│ 701 │ 0.442628   │ -0.547806  │ -0.499933 │ -0.179687 │ -0.415591   │\n",
       "│ 702 │ 1.13562    │ -0.574415  │ -0.499933 │ -0.179687 │ -0.415591   │\n",
       "│ 703 │ 1.09323    │ 1.77085    │ -0.499933 │ -0.179687 │ -0.415591   │\n",
       "│ 704 │ 1.56136    │ 1.58849    │ 1.52727   │ -0.179687 │ -0.415591   │\n",
       "│ 705 │ 2.20827    │ -1.15757   │ 3.55447   │ -0.179687 │ -0.415591   │\n",
       "│ 706 │ -0.16558   │ 1.2466     │ 2.203     │ -0.179687 │ 0.401203    │\n",
       "│ 707 │ -1.15899   │ 0.344605   │ -0.499933 │ -0.179687 │ -0.415591   │\n",
       "│ 708 │ 1.19828    │ 0.475759   │ -0.499933 │ -0.179687 │ -0.415591   │\n",
       "│ 709 │ 0.67301    │ -0.129865  │ 0.175801  │ -0.179687 │ -0.415591   │\n",
       "│ 710 │ 0.693283   │ 0.783242   │ -0.499933 │ -0.179687 │ -0.415591   │\n",
       "│ 711 │ 1.0066     │ 4.61413    │ -0.499933 │ -0.179687 │ -0.415591   │\n",
       "│ 712 │ 0.560583   │ 1.83637    │ -0.499933 │ -0.179687 │ -0.415591   │\n",
       "│ 713 │ -1.47231   │ 0.148526   │ -0.499933 │ -0.179687 │ -0.415591   │\n",
       "│ 714 │ -1.15899   │ 0.206711   │ -0.499933 │ -0.179687 │ -0.415591   │\n",
       "│ 715 │ -5.15842   │ -2.313     │ -0.499933 │ 3.60914   │ -0.415591   │\n",
       "│ 716 │ -0.736927  │ 0.343896   │ 0.175801  │ -0.179687 │ -0.415591   │\n",
       "│ 717 │ 2.2009     │ -1.68608   │ 7.60887   │ -0.179687 │ -0.415591   │\n",
       "│ 718 │ -0.0310372 │ -0.189588  │ -0.499933 │ -0.179687 │ -0.415591   │\n",
       "│ 719 │ 0.396552   │ -0.416889  │ -0.499933 │ -0.179687 │ -0.415591   │\n",
       "│ 720 │ -1.52207   │ -0.088     │ -0.499933 │ -0.179687 │ -0.415591   │\n",
       "│ 721 │ 0.733831   │ 1.0472     │ -0.499933 │ -0.179687 │ -0.415591   │\n",
       "│ 722 │ 1.03609    │ -1.41999   │ -0.499933 │ -0.179687 │ 0.401203    │\n",
       "│ 723 │ -0.290908  │ -0.181546  │ 0.175801  │ -0.179687 │ -0.415591   │\n",
       "│ 724 │ 0.897862   │ 0.383041   │ -0.499933 │ -0.179687 │ 2.03479     │\n",
       "│ 725 │ 0.0279405  │ -0.682389  │ 2.203     │ -0.179687 │ -0.415591   │\n",
       "│ 726 │ 0.273067   │ 1.58092    │ -0.499933 │ -0.179687 │ -0.415591   │\n",
       "│ 727 │ -1.52207   │ -0.250493  │ 0.175801  │ -0.179687 │ -0.415591   │\n",
       "│ 728 │ 0.993701   │ -0.952383  │ 0.175801  │ -0.179687 │ -0.415591   │\n",
       "│ 729 │ -2.17635   │ -1.0645    │ -0.499933 │ -0.179687 │ -0.415591   │\n",
       "│ 730 │ 1.22224    │ -0.760915  │ -0.499933 │ 7.39798   │ 4.07678     │\n",
       "│ 731 │ 0.510821   │ -1.35294   │ -0.499933 │ -0.179687 │ -0.415591   │\n",
       "│ 732 │ -1.07789   │ -0.54816   │ -0.499933 │ -0.179687 │ -0.415591   │\n",
       "│ 733 │ 0.0260975  │ 0.412961   │ -0.499933 │ -0.179687 │ -0.00719399 │\n",
       "│ 734 │ 0.0537433  │ 0.257564   │ -0.499933 │ -0.179687 │ 2.03479     │\n",
       "│ 735 │ -3.31536   │ -0.922107  │ -0.499933 │ -0.179687 │ -0.415591   │\n",
       "│ 736 │ -0.709281  │ -0.0818503 │ -0.499933 │ -0.179687 │ -0.415591   │\n",
       "│ 737 │ -1.03735   │ -0.186631  │ -0.499933 │ -0.179687 │ -0.00719399 │\n",
       "│ 738 │ -0.709281  │ -1.10743   │ -0.499933 │ -0.179687 │ -0.00719399 │"
      ]
     },
     "execution_count": 57,
     "metadata": {},
     "output_type": "execute_result"
    }
   ],
   "source": [
    "X_stand[train,:]"
   ]
  },
  {
   "cell_type": "code",
   "execution_count": 55,
   "metadata": {},
   "outputs": [
    {
     "name": "stdout",
     "output_type": "stream",
     "text": [
      "  Iters               objv        objv-change | affected \n",
      "-------------------------------------------------------------\n",
      "      0       5.089601e+04\n",
      "      1       2.656718e+04      -2.432883e+04 |        3\n",
      "      2       2.642243e+04      -1.447513e+02 |        2\n",
      "      3       2.635124e+04      -7.118839e+01 |        2\n",
      "      4       2.629992e+04      -5.132398e+01 |        2\n",
      "      5       2.625725e+04      -4.267430e+01 |        2\n",
      "      6       2.623018e+04      -2.706987e+01 |        2\n",
      "      7       2.620731e+04      -2.286158e+01 |        2\n",
      "      8       2.620368e+04      -3.631992e+00 |        2\n",
      "      9       2.620289e+04      -7.882972e-01 |        2\n",
      "     10       2.620263e+04      -2.587186e-01 |        0\n",
      "     11       2.620263e+04       0.000000e+00 |        0\n",
      "K-means converged with 11 iterations (objv = 26202.634717456313)\n"
     ]
    },
    {
     "name": "stderr",
     "output_type": "stream",
     "text": [
      "┌ Info: Initializing GMM, 3 Gaussians diag covariance 41 dimensions using 738 data points\n",
      "└ @ GaussianMixtures /home/andrew/.julia/packages/GaussianMixtures/bTNkf/src/train.jl:78\n",
      "┌ Info: K-means with 738 data points using 11 iterations\n",
      "│ 5.9 data points per parameter\n",
      "└ @ GaussianMixtures /home/andrew/.julia/packages/GaussianMixtures/bTNkf/src/train.jl:139\n",
      "┌ Warning: 246 pathological elements normalized\n",
      "└ @ GaussianMixtures /home/andrew/.julia/packages/GaussianMixtures/bTNkf/src/train.jl:68\n",
      "┌ Warning: 246 pathological elements normalized\n",
      "└ @ GaussianMixtures /home/andrew/.julia/packages/GaussianMixtures/bTNkf/src/train.jl:68\n",
      "┌ Warning: 246 pathological elements normalized\n",
      "└ @ GaussianMixtures /home/andrew/.julia/packages/GaussianMixtures/bTNkf/src/train.jl:68\n",
      "┌ Warning: 246 pathological elements normalized\n",
      "└ @ GaussianMixtures /home/andrew/.julia/packages/GaussianMixtures/bTNkf/src/train.jl:68\n",
      "┌ Warning: 246 pathological elements normalized\n",
      "└ @ GaussianMixtures /home/andrew/.julia/packages/GaussianMixtures/bTNkf/src/train.jl:68\n",
      "┌ Warning: 246 pathological elements normalized\n",
      "└ @ GaussianMixtures /home/andrew/.julia/packages/GaussianMixtures/bTNkf/src/train.jl:68\n",
      "┌ Warning: 246 pathological elements normalized\n",
      "└ @ GaussianMixtures /home/andrew/.julia/packages/GaussianMixtures/bTNkf/src/train.jl:68\n",
      "┌ Warning: 246 pathological elements normalized\n",
      "└ @ GaussianMixtures /home/andrew/.julia/packages/GaussianMixtures/bTNkf/src/train.jl:68\n",
      "┌ Warning: 246 pathological elements normalized\n",
      "└ @ GaussianMixtures /home/andrew/.julia/packages/GaussianMixtures/bTNkf/src/train.jl:68\n",
      "┌ Warning: 246 pathological elements normalized\n",
      "└ @ GaussianMixtures /home/andrew/.julia/packages/GaussianMixtures/bTNkf/src/train.jl:68\n"
     ]
    },
    {
     "data": {
      "text/plain": [
       "GMM{Float64} with 3 components in 41 dimensions and diag covariance\n",
       "Mix 1: weight NaN\n",
       "  mean: [0.0, 0.0, 0.0, 0.0, 0.0, 0.0, 0.0, 0.0, 0.0, 0.0  …  0.0, 0.0, 0.0, 0.0, 0.0, 0.0, 0.0, 0.0, 0.0, 0.0]\n",
       "  variance: [1.0, 1.0, 1.0, 1.0, 1.0, 1.0, 1.0, 1.0, 1.0, 1.0  …  1.0, 1.0, 1.0, 1.0, 1.0, 1.0, 1.0, 1.0, 1.0, 1.0]\n",
       "Mix 2: weight NaN\n",
       "  mean: [0.0, 0.0, 0.0, 0.0, 0.0, 0.0, 0.0, 0.0, 0.0, 0.0  …  0.0, 0.0, 0.0, 0.0, 0.0, 0.0, 0.0, 0.0, 0.0, 0.0]\n",
       "  variance: [1.0, 1.0, 1.0, 1.0, 1.0, 1.0, 1.0, 1.0, 1.0, 1.0  …  1.0, 1.0, 1.0, 1.0, 1.0, 1.0, 1.0, 1.0, 1.0, 1.0]\n",
       "Mix 3: weight NaN\n",
       "  mean: [0.0, 0.0, 0.0, 0.0, 0.0, 0.0, 0.0, 0.0, 0.0, 0.0  …  0.0, 0.0, 0.0, 0.0, 0.0, 0.0, 0.0, 0.0, 0.0, 0.0]\n",
       "  variance: [1.0, 1.0, 1.0, 1.0, 1.0, 1.0, 1.0, 1.0, 1.0, 1.0  …  1.0, 1.0, 1.0, 1.0, 1.0, 1.0, 1.0, 1.0, 1.0, 1.0]\n"
      ]
     },
     "execution_count": 55,
     "metadata": {},
     "output_type": "execute_result"
    }
   ],
   "source": [
    "gmm = ScikitLearn.fit!(GMM(n_components=3, kind=:diag), # number of components, diagonal covariance matrix (other option: :full)\n",
    "                       convert(Matrix,X_stand[train,:]))"
   ]
  },
  {
   "cell_type": "markdown",
   "metadata": {},
   "source": [
    "# Dimensionality Reduction\n",
    "Apply the dimensionality reduction algorithms to the two datasets and describe what you see.\n"
   ]
  },
  {
   "cell_type": "markdown",
   "metadata": {},
   "source": [
    "### PCA"
   ]
  },
  {
   "cell_type": "code",
   "execution_count": null,
   "metadata": {},
   "outputs": [],
   "source": []
  },
  {
   "cell_type": "markdown",
   "metadata": {},
   "source": [
    "### ICA"
   ]
  },
  {
   "cell_type": "code",
   "execution_count": null,
   "metadata": {},
   "outputs": [],
   "source": []
  },
  {
   "cell_type": "markdown",
   "metadata": {},
   "source": [
    "### Randomized Projections"
   ]
  },
  {
   "cell_type": "code",
   "execution_count": null,
   "metadata": {},
   "outputs": [],
   "source": []
  },
  {
   "cell_type": "markdown",
   "metadata": {},
   "source": [
    "### Classical Multidimensional Scaling"
   ]
  },
  {
   "cell_type": "code",
   "execution_count": null,
   "metadata": {},
   "outputs": [],
   "source": []
  },
  {
   "cell_type": "markdown",
   "metadata": {},
   "source": [
    "# Clustering Pt 2\n",
    "Reproduce your clustering experiments, but on the data after you've run dimensionality reduction on it. Yes, that’s 16 combinations of datasets, dimensionality reduction, and clustering method. You should look at all of them, but focus on the more interesting findings in your report."
   ]
  },
  {
   "cell_type": "markdown",
   "metadata": {},
   "source": [
    "### Kmeans - PCA"
   ]
  },
  {
   "cell_type": "code",
   "execution_count": null,
   "metadata": {},
   "outputs": [],
   "source": []
  },
  {
   "cell_type": "markdown",
   "metadata": {},
   "source": [
    "### EM - PCA"
   ]
  },
  {
   "cell_type": "code",
   "execution_count": null,
   "metadata": {},
   "outputs": [],
   "source": []
  },
  {
   "cell_type": "markdown",
   "metadata": {},
   "source": [
    "### Kmeans - ICA"
   ]
  },
  {
   "cell_type": "code",
   "execution_count": null,
   "metadata": {},
   "outputs": [],
   "source": []
  },
  {
   "cell_type": "markdown",
   "metadata": {},
   "source": [
    "### EM - ICA"
   ]
  },
  {
   "cell_type": "code",
   "execution_count": null,
   "metadata": {},
   "outputs": [],
   "source": []
  },
  {
   "cell_type": "markdown",
   "metadata": {},
   "source": [
    "### Kmeans - Randomized Projections"
   ]
  },
  {
   "cell_type": "code",
   "execution_count": null,
   "metadata": {},
   "outputs": [],
   "source": []
  },
  {
   "cell_type": "markdown",
   "metadata": {},
   "source": [
    "### EM - Randomized Projections"
   ]
  },
  {
   "cell_type": "code",
   "execution_count": null,
   "metadata": {},
   "outputs": [],
   "source": []
  },
  {
   "cell_type": "markdown",
   "metadata": {},
   "source": [
    "### Kmeans - Classical Multidimensional Scaling"
   ]
  },
  {
   "cell_type": "code",
   "execution_count": null,
   "metadata": {},
   "outputs": [],
   "source": []
  },
  {
   "cell_type": "markdown",
   "metadata": {},
   "source": [
    "### EM - Classical Multidimensional Scaling"
   ]
  },
  {
   "cell_type": "code",
   "execution_count": null,
   "metadata": {},
   "outputs": [],
   "source": []
  },
  {
   "cell_type": "markdown",
   "metadata": {},
   "source": [
    "# BELOW ONLY FOR 1 DATASET"
   ]
  },
  {
   "cell_type": "markdown",
   "metadata": {},
   "source": [
    "### Dimensionality Reduction + NN \n",
    "Apply the dimensionality reduction algorithms to one of your datasets from assignment #1. (if you've reused the datasets from assignment #1 to do experiments 1-3 above then you've already done this) and rerun your neural network learner on the newly projected data."
   ]
  },
  {
   "cell_type": "code",
   "execution_count": null,
   "metadata": {},
   "outputs": [],
   "source": []
  },
  {
   "cell_type": "markdown",
   "metadata": {},
   "source": [
    "### Clustering + NN\n",
    "Apply the clustering algorithms to the same dataset to which you just applied the dimensionality reduction algorithms (you've probably already done this), treating the clusters as if they were new features. In other words, treat the clustering algorithms as if they were dimensionality reduction algorithms. Again, rerun your neural network learner on the newly projected data."
   ]
  },
  {
   "cell_type": "code",
   "execution_count": null,
   "metadata": {},
   "outputs": [],
   "source": []
  },
  {
   "cell_type": "code",
   "execution_count": null,
   "metadata": {},
   "outputs": [],
   "source": [
    "###\n",
    "\n",
    "## Dimensionality Reduction + NN - Apply the dimensionality reduction algorithms to one of your datasets from assignment #1 \n",
    "#  (if you've reused the datasets from assignment #1 to do experiments 1-3 above then you've already done this) \n",
    "#  and rerun your neural network learner on the newly projected data.\n",
    "\n",
    "\n",
    "## Clustering + NN - Apply the clustering algorithms to the same dataset to which you just applied the dimensionality \n",
    "#  reduction algorithms (you've probably already done this), treating the clusters as if they were new features. \n",
    "#  In other words, treat the clustering algorithms as if they were dimensionality reduction algorithms. \n",
    "#  Again, rerun your neural network learner on the newly projected data.\n"
   ]
  }
 ],
 "metadata": {
  "kernelspec": {
   "display_name": "Julia 1.5.2",
   "language": "julia",
   "name": "julia-1.5"
  },
  "language_info": {
   "file_extension": ".jl",
   "mimetype": "application/julia",
   "name": "julia",
   "version": "1.5.2"
  }
 },
 "nbformat": 4,
 "nbformat_minor": 4
}
