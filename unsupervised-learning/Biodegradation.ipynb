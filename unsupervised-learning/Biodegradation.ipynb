{
 "cells": [
  {
   "cell_type": "markdown",
   "metadata": {},
   "source": [
    "## Load Modules"
   ]
  },
  {
   "cell_type": "code",
   "execution_count": 366,
   "metadata": {},
   "outputs": [],
   "source": [
    "using MLJ\n",
    "using MultivariateStats\n",
    "using Plots; gr()\n",
    "using CSV\n",
    "using DataFrames\n",
    "using StatsBase\n",
    "using Clustering: randindex, silhouettes, varinfo, vmeasure, mutualinfo\n",
    "using LinearAlgebra: diag\n",
    "using PyCall"
   ]
  },
  {
   "cell_type": "code",
   "execution_count": 367,
   "metadata": {},
   "outputs": [],
   "source": [
    "ENV[\"LINES\"] = 100;"
   ]
  },
  {
   "cell_type": "code",
   "execution_count": 405,
   "metadata": {},
   "outputs": [],
   "source": [
    "RNG = 133;"
   ]
  },
  {
   "cell_type": "markdown",
   "metadata": {},
   "source": [
    "## Import Data and Set Up"
   ]
  },
  {
   "cell_type": "code",
   "execution_count": 406,
   "metadata": {
    "scrolled": true
   },
   "outputs": [
    {
     "data": {
      "text/html": [
       "<table class=\"data-frame\"><thead><tr><th></th><th>variable</th><th>mean</th><th>min</th><th>median</th><th>max</th><th>nunique</th><th>nmissing</th><th>eltype</th></tr><tr><th></th><th>Symbol</th><th>Union…</th><th>Any</th><th>Union…</th><th>Any</th><th>Union…</th><th>Nothing</th><th>DataType</th></tr></thead><tbody><p>42 rows × 8 columns</p><tr><th>1</th><td>1</td><td>4.78264</td><td>2.0</td><td>4.828</td><td>6.496</td><td></td><td></td><td>Float64</td></tr><tr><th>2</th><td>2</td><td>3.06951</td><td>0.8039</td><td>3.0463</td><td>9.1775</td><td></td><td></td><td>Float64</td></tr><tr><th>3</th><td>3</td><td>0.716588</td><td>0</td><td>0.0</td><td>12</td><td></td><td></td><td>Int64</td></tr><tr><th>4</th><td>4</td><td>0.042654</td><td>0</td><td>0.0</td><td>3</td><td></td><td></td><td>Int64</td></tr><tr><th>5</th><td>5</td><td>0.980095</td><td>0</td><td>0.0</td><td>36</td><td></td><td></td><td>Int64</td></tr><tr><th>6</th><td>6</td><td>0.290047</td><td>0</td><td>0.0</td><td>13</td><td></td><td></td><td>Int64</td></tr><tr><th>7</th><td>7</td><td>1.64645</td><td>0</td><td>1.0</td><td>18</td><td></td><td></td><td>Int64</td></tr><tr><th>8</th><td>8</td><td>37.0556</td><td>0.0</td><td>37.5</td><td>60.7</td><td></td><td></td><td>Float64</td></tr><tr><th>9</th><td>9</td><td>1.3763</td><td>0</td><td>1.0</td><td>24</td><td></td><td></td><td>Int64</td></tr><tr><th>10</th><td>10</td><td>1.80379</td><td>0</td><td>2.0</td><td>12</td><td></td><td></td><td>Int64</td></tr><tr><th>11</th><td>11</td><td>1.43697</td><td>0</td><td>0.0</td><td>44</td><td></td><td></td><td>Int64</td></tr><tr><th>12</th><td>12</td><td>-0.197129</td><td>-5.256</td><td>0.0</td><td>4.722</td><td></td><td></td><td>Float64</td></tr><tr><th>13</th><td>13</td><td>3.47684</td><td>1.544</td><td>3.442</td><td>5.701</td><td></td><td></td><td>Float64</td></tr><tr><th>14</th><td>14</td><td>1.35072</td><td>0.0</td><td>1.187</td><td>4.491</td><td></td><td></td><td>Float64</td></tr><tr><th>15</th><td>15</td><td>9.93738</td><td>4.174</td><td>10.039</td><td>12.609</td><td></td><td></td><td>Float64</td></tr><tr><th>16</th><td>16</td><td>3.63033</td><td>0</td><td>2.0</td><td>40</td><td></td><td></td><td>Int64</td></tr><tr><th>17</th><td>17</td><td>1.0133</td><td>0.957</td><td>1.003</td><td>1.311</td><td></td><td></td><td>Float64</td></tr><tr><th>18</th><td>18</td><td>1.13111</td><td>1.022</td><td>1.13</td><td>1.377</td><td></td><td></td><td>Float64</td></tr><tr><th>19</th><td>19</td><td>0.00853081</td><td>0</td><td>0.0</td><td>2</td><td></td><td></td><td>Int64</td></tr><tr><th>20</th><td>20</td><td>0.0739336</td><td>0</td><td>0.0</td><td>3</td><td></td><td></td><td>Int64</td></tr><tr><th>21</th><td>21</td><td>0.0293839</td><td>0</td><td>0.0</td><td>3</td><td></td><td></td><td>Int64</td></tr><tr><th>22</th><td>22</td><td>1.23873</td><td>0.863</td><td>1.243</td><td>1.641</td><td></td><td></td><td>Float64</td></tr><tr><th>23</th><td>23</td><td>1.40569</td><td>0</td><td>1.0</td><td>147</td><td></td><td></td><td>Int64</td></tr><tr><th>24</th><td>24</td><td>0.0398104</td><td>0</td><td>0.0</td><td>1</td><td></td><td></td><td>Int64</td></tr><tr><th>25</th><td>25</td><td>0.147867</td><td>0</td><td>0.0</td><td>1</td><td></td><td></td><td>Int64</td></tr><tr><th>26</th><td>26</td><td>0.0312796</td><td>0</td><td>0.0</td><td>3</td><td></td><td></td><td>Int64</td></tr><tr><th>27</th><td>27</td><td>2.21564</td><td>1.0</td><td>2.247</td><td>2.859</td><td></td><td></td><td>Float64</td></tr><tr><th>28</th><td>28</td><td>-0.00120569</td><td>-1.099</td><td>0.0</td><td>1.073</td><td></td><td></td><td>Float64</td></tr><tr><th>29</th><td>29</td><td>0.0265403</td><td>0</td><td>0.0</td><td>1</td><td></td><td></td><td>Int64</td></tr><tr><th>30</th><td>30</td><td>8.78051</td><td>0.0</td><td>0.0</td><td>71.167</td><td></td><td></td><td>Float64</td></tr><tr><th>31</th><td>31</td><td>2.66834</td><td>0.444</td><td>2.052</td><td>17.537</td><td></td><td></td><td>Float64</td></tr><tr><th>32</th><td>32</td><td>0.129858</td><td>0</td><td>0.0</td><td>8</td><td></td><td></td><td>Int64</td></tr><tr><th>33</th><td>33</td><td>0.883412</td><td>0</td><td>0.0</td><td>12</td><td></td><td></td><td>Int64</td></tr><tr><th>34</th><td>34</td><td>1.27488</td><td>0</td><td>0.0</td><td>18</td><td></td><td></td><td>Int64</td></tr><tr><th>35</th><td>35</td><td>0.961137</td><td>0</td><td>1.0</td><td>7</td><td></td><td></td><td>Int64</td></tr><tr><th>36</th><td>36</td><td>3.91824</td><td>2.267</td><td>3.726</td><td>10.695</td><td></td><td></td><td>Float64</td></tr><tr><th>37</th><td>37</td><td>2.55842</td><td>1.467</td><td>2.458</td><td>5.825</td><td></td><td></td><td>Float64</td></tr><tr><th>38</th><td>38</td><td>0.686256</td><td>0</td><td>0.0</td><td>8</td><td></td><td></td><td>Int64</td></tr><tr><th>39</th><td>39</td><td>8.62949</td><td>4.917</td><td>8.499</td><td>14.7</td><td></td><td></td><td>Float64</td></tr><tr><th>40</th><td>40</td><td>0.0511848</td><td>0</td><td>0.0</td><td>4</td><td></td><td></td><td>Int64</td></tr><tr><th>41</th><td>41</td><td>0.723223</td><td>0</td><td>0.0</td><td>27</td><td></td><td></td><td>Int64</td></tr><tr><th>42</th><td>Class</td><td></td><td>NRB</td><td></td><td>RB</td><td>2</td><td></td><td>String</td></tr></tbody></table>"
      ],
      "text/latex": [
       "\\begin{tabular}{r|cccccccc}\n",
       "\t& variable & mean & min & median & max & nunique & nmissing & eltype\\\\\n",
       "\t\\hline\n",
       "\t& Symbol & Union… & Any & Union… & Any & Union… & Nothing & DataType\\\\\n",
       "\t\\hline\n",
       "\t1 & 1 & 4.78264 & 2.0 & 4.828 & 6.496 &  &  & Float64 \\\\\n",
       "\t2 & 2 & 3.06951 & 0.8039 & 3.0463 & 9.1775 &  &  & Float64 \\\\\n",
       "\t3 & 3 & 0.716588 & 0 & 0.0 & 12 &  &  & Int64 \\\\\n",
       "\t4 & 4 & 0.042654 & 0 & 0.0 & 3 &  &  & Int64 \\\\\n",
       "\t5 & 5 & 0.980095 & 0 & 0.0 & 36 &  &  & Int64 \\\\\n",
       "\t6 & 6 & 0.290047 & 0 & 0.0 & 13 &  &  & Int64 \\\\\n",
       "\t7 & 7 & 1.64645 & 0 & 1.0 & 18 &  &  & Int64 \\\\\n",
       "\t8 & 8 & 37.0556 & 0.0 & 37.5 & 60.7 &  &  & Float64 \\\\\n",
       "\t9 & 9 & 1.3763 & 0 & 1.0 & 24 &  &  & Int64 \\\\\n",
       "\t10 & 10 & 1.80379 & 0 & 2.0 & 12 &  &  & Int64 \\\\\n",
       "\t11 & 11 & 1.43697 & 0 & 0.0 & 44 &  &  & Int64 \\\\\n",
       "\t12 & 12 & -0.197129 & -5.256 & 0.0 & 4.722 &  &  & Float64 \\\\\n",
       "\t13 & 13 & 3.47684 & 1.544 & 3.442 & 5.701 &  &  & Float64 \\\\\n",
       "\t14 & 14 & 1.35072 & 0.0 & 1.187 & 4.491 &  &  & Float64 \\\\\n",
       "\t15 & 15 & 9.93738 & 4.174 & 10.039 & 12.609 &  &  & Float64 \\\\\n",
       "\t16 & 16 & 3.63033 & 0 & 2.0 & 40 &  &  & Int64 \\\\\n",
       "\t17 & 17 & 1.0133 & 0.957 & 1.003 & 1.311 &  &  & Float64 \\\\\n",
       "\t18 & 18 & 1.13111 & 1.022 & 1.13 & 1.377 &  &  & Float64 \\\\\n",
       "\t19 & 19 & 0.00853081 & 0 & 0.0 & 2 &  &  & Int64 \\\\\n",
       "\t20 & 20 & 0.0739336 & 0 & 0.0 & 3 &  &  & Int64 \\\\\n",
       "\t21 & 21 & 0.0293839 & 0 & 0.0 & 3 &  &  & Int64 \\\\\n",
       "\t22 & 22 & 1.23873 & 0.863 & 1.243 & 1.641 &  &  & Float64 \\\\\n",
       "\t23 & 23 & 1.40569 & 0 & 1.0 & 147 &  &  & Int64 \\\\\n",
       "\t24 & 24 & 0.0398104 & 0 & 0.0 & 1 &  &  & Int64 \\\\\n",
       "\t25 & 25 & 0.147867 & 0 & 0.0 & 1 &  &  & Int64 \\\\\n",
       "\t26 & 26 & 0.0312796 & 0 & 0.0 & 3 &  &  & Int64 \\\\\n",
       "\t27 & 27 & 2.21564 & 1.0 & 2.247 & 2.859 &  &  & Float64 \\\\\n",
       "\t28 & 28 & -0.00120569 & -1.099 & 0.0 & 1.073 &  &  & Float64 \\\\\n",
       "\t29 & 29 & 0.0265403 & 0 & 0.0 & 1 &  &  & Int64 \\\\\n",
       "\t30 & 30 & 8.78051 & 0.0 & 0.0 & 71.167 &  &  & Float64 \\\\\n",
       "\t31 & 31 & 2.66834 & 0.444 & 2.052 & 17.537 &  &  & Float64 \\\\\n",
       "\t32 & 32 & 0.129858 & 0 & 0.0 & 8 &  &  & Int64 \\\\\n",
       "\t33 & 33 & 0.883412 & 0 & 0.0 & 12 &  &  & Int64 \\\\\n",
       "\t34 & 34 & 1.27488 & 0 & 0.0 & 18 &  &  & Int64 \\\\\n",
       "\t35 & 35 & 0.961137 & 0 & 1.0 & 7 &  &  & Int64 \\\\\n",
       "\t36 & 36 & 3.91824 & 2.267 & 3.726 & 10.695 &  &  & Float64 \\\\\n",
       "\t37 & 37 & 2.55842 & 1.467 & 2.458 & 5.825 &  &  & Float64 \\\\\n",
       "\t38 & 38 & 0.686256 & 0 & 0.0 & 8 &  &  & Int64 \\\\\n",
       "\t39 & 39 & 8.62949 & 4.917 & 8.499 & 14.7 &  &  & Float64 \\\\\n",
       "\t40 & 40 & 0.0511848 & 0 & 0.0 & 4 &  &  & Int64 \\\\\n",
       "\t41 & 41 & 0.723223 & 0 & 0.0 & 27 &  &  & Int64 \\\\\n",
       "\t42 & Class &  & NRB &  & RB & 2 &  & String \\\\\n",
       "\\end{tabular}\n"
      ],
      "text/plain": [
       "42×8 DataFrame. Omitted printing of 1 columns\n",
       "│ Row │ variable │ mean        │ min    │ median │ max    │ nunique │ nmissing │\n",
       "│     │ \u001b[90mSymbol\u001b[39m   │ \u001b[90mUnion…\u001b[39m      │ \u001b[90mAny\u001b[39m    │ \u001b[90mUnion…\u001b[39m │ \u001b[90mAny\u001b[39m    │ \u001b[90mUnion…\u001b[39m  │ \u001b[90mNothing\u001b[39m  │\n",
       "├─────┼──────────┼─────────────┼────────┼────────┼────────┼─────────┼──────────┤\n",
       "│ 1   │ 1        │ 4.78264     │ 2.0    │ 4.828  │ 6.496  │         │          │\n",
       "│ 2   │ 2        │ 3.06951     │ 0.8039 │ 3.0463 │ 9.1775 │         │          │\n",
       "│ 3   │ 3        │ 0.716588    │ 0      │ 0.0    │ 12     │         │          │\n",
       "│ 4   │ 4        │ 0.042654    │ 0      │ 0.0    │ 3      │         │          │\n",
       "│ 5   │ 5        │ 0.980095    │ 0      │ 0.0    │ 36     │         │          │\n",
       "│ 6   │ 6        │ 0.290047    │ 0      │ 0.0    │ 13     │         │          │\n",
       "│ 7   │ 7        │ 1.64645     │ 0      │ 1.0    │ 18     │         │          │\n",
       "│ 8   │ 8        │ 37.0556     │ 0.0    │ 37.5   │ 60.7   │         │          │\n",
       "│ 9   │ 9        │ 1.3763      │ 0      │ 1.0    │ 24     │         │          │\n",
       "│ 10  │ 10       │ 1.80379     │ 0      │ 2.0    │ 12     │         │          │\n",
       "│ 11  │ 11       │ 1.43697     │ 0      │ 0.0    │ 44     │         │          │\n",
       "│ 12  │ 12       │ -0.197129   │ -5.256 │ 0.0    │ 4.722  │         │          │\n",
       "│ 13  │ 13       │ 3.47684     │ 1.544  │ 3.442  │ 5.701  │         │          │\n",
       "│ 14  │ 14       │ 1.35072     │ 0.0    │ 1.187  │ 4.491  │         │          │\n",
       "│ 15  │ 15       │ 9.93738     │ 4.174  │ 10.039 │ 12.609 │         │          │\n",
       "│ 16  │ 16       │ 3.63033     │ 0      │ 2.0    │ 40     │         │          │\n",
       "│ 17  │ 17       │ 1.0133      │ 0.957  │ 1.003  │ 1.311  │         │          │\n",
       "│ 18  │ 18       │ 1.13111     │ 1.022  │ 1.13   │ 1.377  │         │          │\n",
       "│ 19  │ 19       │ 0.00853081  │ 0      │ 0.0    │ 2      │         │          │\n",
       "│ 20  │ 20       │ 0.0739336   │ 0      │ 0.0    │ 3      │         │          │\n",
       "│ 21  │ 21       │ 0.0293839   │ 0      │ 0.0    │ 3      │         │          │\n",
       "│ 22  │ 22       │ 1.23873     │ 0.863  │ 1.243  │ 1.641  │         │          │\n",
       "│ 23  │ 23       │ 1.40569     │ 0      │ 1.0    │ 147    │         │          │\n",
       "│ 24  │ 24       │ 0.0398104   │ 0      │ 0.0    │ 1      │         │          │\n",
       "│ 25  │ 25       │ 0.147867    │ 0      │ 0.0    │ 1      │         │          │\n",
       "│ 26  │ 26       │ 0.0312796   │ 0      │ 0.0    │ 3      │         │          │\n",
       "│ 27  │ 27       │ 2.21564     │ 1.0    │ 2.247  │ 2.859  │         │          │\n",
       "│ 28  │ 28       │ -0.00120569 │ -1.099 │ 0.0    │ 1.073  │         │          │\n",
       "│ 29  │ 29       │ 0.0265403   │ 0      │ 0.0    │ 1      │         │          │\n",
       "│ 30  │ 30       │ 8.78051     │ 0.0    │ 0.0    │ 71.167 │         │          │\n",
       "│ 31  │ 31       │ 2.66834     │ 0.444  │ 2.052  │ 17.537 │         │          │\n",
       "│ 32  │ 32       │ 0.129858    │ 0      │ 0.0    │ 8      │         │          │\n",
       "│ 33  │ 33       │ 0.883412    │ 0      │ 0.0    │ 12     │         │          │\n",
       "│ 34  │ 34       │ 1.27488     │ 0      │ 0.0    │ 18     │         │          │\n",
       "│ 35  │ 35       │ 0.961137    │ 0      │ 1.0    │ 7      │         │          │\n",
       "│ 36  │ 36       │ 3.91824     │ 2.267  │ 3.726  │ 10.695 │         │          │\n",
       "│ 37  │ 37       │ 2.55842     │ 1.467  │ 2.458  │ 5.825  │         │          │\n",
       "│ 38  │ 38       │ 0.686256    │ 0      │ 0.0    │ 8      │         │          │\n",
       "│ 39  │ 39       │ 8.62949     │ 4.917  │ 8.499  │ 14.7   │         │          │\n",
       "│ 40  │ 40       │ 0.0511848   │ 0      │ 0.0    │ 4      │         │          │\n",
       "│ 41  │ 41       │ 0.723223    │ 0      │ 0.0    │ 27     │         │          │\n",
       "│ 42  │ Class    │             │ NRB    │        │ RB     │ 2       │          │"
      ]
     },
     "execution_count": 406,
     "metadata": {},
     "output_type": "execute_result"
    }
   ],
   "source": [
    "data = CSV.read(\"biodegradation.csv\")\n",
    "describe(data)"
   ]
  },
  {
   "cell_type": "code",
   "execution_count": 407,
   "metadata": {},
   "outputs": [
    {
     "data": {
      "text/plain": [
       "2-element Array{Float64,1}:\n",
       " 0.33744075829383885\n",
       " 0.6625592417061611"
      ]
     },
     "execution_count": 407,
     "metadata": {},
     "output_type": "execute_result"
    }
   ],
   "source": [
    "label_counts = countmap(data[:(Class)])\n",
    "collect(label_counts[i] / size(data)[1] for i in keys(label_counts))"
   ]
  },
  {
   "cell_type": "code",
   "execution_count": 408,
   "metadata": {
    "scrolled": true
   },
   "outputs": [
    {
     "data": {
      "text/plain": [
       "┌\u001b[0m─────────\u001b[0m┬\u001b[0m─────────────────────────────────\u001b[0m┬\u001b[0m───────────────\u001b[0m┐\u001b[0m\n",
       "│\u001b[0m\u001b[22m _.names \u001b[0m│\u001b[0m\u001b[22m _.types                         \u001b[0m│\u001b[0m\u001b[22m _.scitypes    \u001b[0m│\u001b[0m\n",
       "├\u001b[0m─────────\u001b[0m┼\u001b[0m─────────────────────────────────\u001b[0m┼\u001b[0m───────────────\u001b[0m┤\u001b[0m\n",
       "│\u001b[0m 1       \u001b[0m│\u001b[0m Float64                         \u001b[0m│\u001b[0m Continuous    \u001b[0m│\u001b[0m\n",
       "│\u001b[0m 2       \u001b[0m│\u001b[0m Float64                         \u001b[0m│\u001b[0m Continuous    \u001b[0m│\u001b[0m\n",
       "│\u001b[0m 3       \u001b[0m│\u001b[0m Int64                           \u001b[0m│\u001b[0m Count         \u001b[0m│\u001b[0m\n",
       "│\u001b[0m 4       \u001b[0m│\u001b[0m Int64                           \u001b[0m│\u001b[0m Count         \u001b[0m│\u001b[0m\n",
       "│\u001b[0m 5       \u001b[0m│\u001b[0m Int64                           \u001b[0m│\u001b[0m Count         \u001b[0m│\u001b[0m\n",
       "│\u001b[0m 6       \u001b[0m│\u001b[0m Int64                           \u001b[0m│\u001b[0m Count         \u001b[0m│\u001b[0m\n",
       "│\u001b[0m 7       \u001b[0m│\u001b[0m Int64                           \u001b[0m│\u001b[0m Count         \u001b[0m│\u001b[0m\n",
       "│\u001b[0m 8       \u001b[0m│\u001b[0m Float64                         \u001b[0m│\u001b[0m Continuous    \u001b[0m│\u001b[0m\n",
       "│\u001b[0m 9       \u001b[0m│\u001b[0m Int64                           \u001b[0m│\u001b[0m Count         \u001b[0m│\u001b[0m\n",
       "│\u001b[0m 10      \u001b[0m│\u001b[0m Int64                           \u001b[0m│\u001b[0m Count         \u001b[0m│\u001b[0m\n",
       "│\u001b[0m 11      \u001b[0m│\u001b[0m Int64                           \u001b[0m│\u001b[0m Count         \u001b[0m│\u001b[0m\n",
       "│\u001b[0m 12      \u001b[0m│\u001b[0m Float64                         \u001b[0m│\u001b[0m Continuous    \u001b[0m│\u001b[0m\n",
       "│\u001b[0m 13      \u001b[0m│\u001b[0m Float64                         \u001b[0m│\u001b[0m Continuous    \u001b[0m│\u001b[0m\n",
       "│\u001b[0m 14      \u001b[0m│\u001b[0m Float64                         \u001b[0m│\u001b[0m Continuous    \u001b[0m│\u001b[0m\n",
       "│\u001b[0m 15      \u001b[0m│\u001b[0m Float64                         \u001b[0m│\u001b[0m Continuous    \u001b[0m│\u001b[0m\n",
       "│\u001b[0m 16      \u001b[0m│\u001b[0m Int64                           \u001b[0m│\u001b[0m Count         \u001b[0m│\u001b[0m\n",
       "│\u001b[0m 17      \u001b[0m│\u001b[0m Float64                         \u001b[0m│\u001b[0m Continuous    \u001b[0m│\u001b[0m\n",
       "│\u001b[0m 18      \u001b[0m│\u001b[0m Float64                         \u001b[0m│\u001b[0m Continuous    \u001b[0m│\u001b[0m\n",
       "│\u001b[0m 19      \u001b[0m│\u001b[0m Int64                           \u001b[0m│\u001b[0m Count         \u001b[0m│\u001b[0m\n",
       "│\u001b[0m 20      \u001b[0m│\u001b[0m Int64                           \u001b[0m│\u001b[0m Count         \u001b[0m│\u001b[0m\n",
       "│\u001b[0m 21      \u001b[0m│\u001b[0m Int64                           \u001b[0m│\u001b[0m Count         \u001b[0m│\u001b[0m\n",
       "│\u001b[0m 22      \u001b[0m│\u001b[0m Float64                         \u001b[0m│\u001b[0m Continuous    \u001b[0m│\u001b[0m\n",
       "│\u001b[0m 23      \u001b[0m│\u001b[0m Int64                           \u001b[0m│\u001b[0m Count         \u001b[0m│\u001b[0m\n",
       "│\u001b[0m 24      \u001b[0m│\u001b[0m Int64                           \u001b[0m│\u001b[0m Count         \u001b[0m│\u001b[0m\n",
       "│\u001b[0m 25      \u001b[0m│\u001b[0m Int64                           \u001b[0m│\u001b[0m Count         \u001b[0m│\u001b[0m\n",
       "│\u001b[0m 26      \u001b[0m│\u001b[0m Int64                           \u001b[0m│\u001b[0m Count         \u001b[0m│\u001b[0m\n",
       "│\u001b[0m 27      \u001b[0m│\u001b[0m Float64                         \u001b[0m│\u001b[0m Continuous    \u001b[0m│\u001b[0m\n",
       "│\u001b[0m 28      \u001b[0m│\u001b[0m Float64                         \u001b[0m│\u001b[0m Continuous    \u001b[0m│\u001b[0m\n",
       "│\u001b[0m 29      \u001b[0m│\u001b[0m Int64                           \u001b[0m│\u001b[0m Count         \u001b[0m│\u001b[0m\n",
       "│\u001b[0m 30      \u001b[0m│\u001b[0m Float64                         \u001b[0m│\u001b[0m Continuous    \u001b[0m│\u001b[0m\n",
       "│\u001b[0m 31      \u001b[0m│\u001b[0m Float64                         \u001b[0m│\u001b[0m Continuous    \u001b[0m│\u001b[0m\n",
       "│\u001b[0m 32      \u001b[0m│\u001b[0m Int64                           \u001b[0m│\u001b[0m Count         \u001b[0m│\u001b[0m\n",
       "│\u001b[0m 33      \u001b[0m│\u001b[0m Int64                           \u001b[0m│\u001b[0m Count         \u001b[0m│\u001b[0m\n",
       "│\u001b[0m 34      \u001b[0m│\u001b[0m Int64                           \u001b[0m│\u001b[0m Count         \u001b[0m│\u001b[0m\n",
       "│\u001b[0m 35      \u001b[0m│\u001b[0m Int64                           \u001b[0m│\u001b[0m Count         \u001b[0m│\u001b[0m\n",
       "│\u001b[0m 36      \u001b[0m│\u001b[0m Float64                         \u001b[0m│\u001b[0m Continuous    \u001b[0m│\u001b[0m\n",
       "│\u001b[0m 37      \u001b[0m│\u001b[0m Float64                         \u001b[0m│\u001b[0m Continuous    \u001b[0m│\u001b[0m\n",
       "│\u001b[0m 38      \u001b[0m│\u001b[0m Int64                           \u001b[0m│\u001b[0m Count         \u001b[0m│\u001b[0m\n",
       "│\u001b[0m 39      \u001b[0m│\u001b[0m Float64                         \u001b[0m│\u001b[0m Continuous    \u001b[0m│\u001b[0m\n",
       "│\u001b[0m 40      \u001b[0m│\u001b[0m Int64                           \u001b[0m│\u001b[0m Count         \u001b[0m│\u001b[0m\n",
       "│\u001b[0m 41      \u001b[0m│\u001b[0m Int64                           \u001b[0m│\u001b[0m Count         \u001b[0m│\u001b[0m\n",
       "│\u001b[0m Class   \u001b[0m│\u001b[0m CategoricalValue{String,UInt32} \u001b[0m│\u001b[0m Multiclass{2} \u001b[0m│\u001b[0m\n",
       "└\u001b[0m─────────\u001b[0m┴\u001b[0m─────────────────────────────────\u001b[0m┴\u001b[0m───────────────\u001b[0m┘\u001b[0m\n",
       "_.nrows = 1055\n"
      ]
     },
     "execution_count": 408,
     "metadata": {},
     "output_type": "execute_result"
    }
   ],
   "source": [
    "coerce!(data, :Class=>Multiclass)\n",
    "schema(data)"
   ]
  },
  {
   "cell_type": "code",
   "execution_count": 409,
   "metadata": {},
   "outputs": [
    {
     "data": {
      "text/plain": [
       "([814, 165, 622, 67, 804, 252, 769, 264, 70, 796  …  688, 257, 358, 278, 946, 284, 815, 56, 259, 17], [22, 598, 701, 445, 36, 20, 146, 811, 710, 923  …  932, 570, 176, 561, 1031, 816, 371, 970, 989, 109])"
      ]
     },
     "execution_count": 409,
     "metadata": {},
     "output_type": "execute_result"
    }
   ],
   "source": [
    "y, X = unpack(data, ==(:Class), colname->true)\n",
    "train, test = partition(eachindex(y), 0.7, shuffle=true, rng=RNG, stratify=values(data[:Class])) # gives 70:30 split"
   ]
  },
  {
   "cell_type": "markdown",
   "metadata": {},
   "source": [
    "#### Confirming that data was stratified correctly"
   ]
  },
  {
   "cell_type": "code",
   "execution_count": 410,
   "metadata": {},
   "outputs": [
    {
     "data": {
      "text/plain": [
       "2-element Array{Float64,1}:\n",
       " 0.33739837398373984\n",
       " 0.6626016260162602"
      ]
     },
     "execution_count": 410,
     "metadata": {},
     "output_type": "execute_result"
    }
   ],
   "source": [
    "train_counts = countmap(data[train,:Class])\n",
    "collect(train_counts[i] / size(train)[1] for i in keys(train_counts))"
   ]
  },
  {
   "cell_type": "code",
   "execution_count": 411,
   "metadata": {},
   "outputs": [
    {
     "data": {
      "text/plain": [
       "2-element Array{Float64,1}:\n",
       " 0.33753943217665616\n",
       " 0.6624605678233438"
      ]
     },
     "execution_count": 411,
     "metadata": {},
     "output_type": "execute_result"
    }
   ],
   "source": [
    "test_counts = countmap(data[test,:Class])\n",
    "collect(test_counts[i] / size(test)[1] for i in keys(test_counts))"
   ]
  },
  {
   "cell_type": "markdown",
   "metadata": {},
   "source": [
    "#### Standardizing data pre-clustering\n",
    "* https://datascience.stackexchange.com/questions/6715/is-it-necessary-to-standardize-your-data-before-clustering"
   ]
  },
  {
   "cell_type": "code",
   "execution_count": 412,
   "metadata": {},
   "outputs": [
    {
     "name": "stderr",
     "output_type": "stream",
     "text": [
      "┌ Info: Training \u001b[34mMachine{Standardizer} @891\u001b[39m.\n",
      "└ @ MLJBase /home/andrew/.julia/packages/MLJBase/Ov46j/src/machines.jl:319\n"
     ]
    }
   ],
   "source": [
    "standardizer = Standardizer(count=true)\n",
    "stand = machine(standardizer, X) #only want to standardize on training distribution\n",
    "MLJ.fit!(stand, rows=train)\n",
    "X_stand = MLJ.transform(stand, X);"
   ]
  },
  {
   "cell_type": "code",
   "execution_count": 413,
   "metadata": {
    "scrolled": true
   },
   "outputs": [
    {
     "data": {
      "text/plain": [
       "738×41 Array{Float64,2}:\n",
       "  0.228487    -1.57344     -0.483706  …  -0.0304587   -0.16698  -0.315475\n",
       " -0.143536     0.0083341   -0.483706     -0.387351    -0.16698  -0.315475\n",
       "  1.33127      2.78452      0.979306      4.92863     -0.16698  -0.315475\n",
       "  0.105112     0.332672    -0.483706     -0.24996     -0.16698  -0.315475\n",
       " -1.53293     -1.26366     -0.483706     -0.974312    -0.16698  -0.315475\n",
       " -0.551623    -0.209535    -0.483706  …  -0.576772    -0.16698  -0.315475\n",
       "  0.558752     1.47519     -0.483706     -0.605226    -0.16698  -0.315475\n",
       "  0.0652522   -0.72709     -0.483706     -0.170289    -0.16698  -0.315475\n",
       "  0.505606     0.0181945   -0.483706      0.123192     5.70118  -0.315475\n",
       " -0.502273    -0.394535    -0.483706     -0.278413    -0.16698  -0.315475\n",
       "  0.0329849    0.137224     1.71081   …   0.36383     -0.16698   1.01493\n",
       " -0.876194     0.446889    -0.483706     -0.737739    -0.16698  -0.315475\n",
       " -3.43101     -1.3517      -0.483706     -2.20108     -0.16698  -0.315475\n",
       " -0.466209     0.00457774  -0.483706     -0.555635    -0.16698  -0.315475\n",
       "  2.72256      7.16173     -0.483706      0.900387    -0.16698  11.6581\n",
       "  1.03327     -0.780031     0.2478    …   0.438623    -0.16698   0.127993\n",
       "  0.851056    -0.297926    -0.483706     -0.459705    -0.16698  -0.315475\n",
       "  0.351862    -0.948715    -0.483706     -0.0133864   -0.16698  -0.315475\n",
       "  0.414498    -0.177253    -0.483706     -0.0914311   -0.16698  -0.315475\n",
       "  0.171545     0.142154    -0.483706     -0.222319    -0.16698  -0.315475\n",
       " -0.750921     0.430807    -0.483706  …   0.3557      -0.16698  -0.315475\n",
       " -0.0638171   -0.231721    -0.483706     -0.386538    -0.16698  -0.315475\n",
       "  0.129787     0.0116209   -0.483706     -0.0377754    5.70118  -0.315475\n",
       "  0.272143    -0.39477     -0.483706     -0.110129     2.7671   -0.315475\n",
       "  0.218996    -0.4078      -0.483706     -0.24996      2.7671   -0.315475\n",
       " -1.0717      -0.0426115   -0.483706  …  -0.380847    -0.16698  -0.315475\n",
       "  1.72797     -1.07573      1.71081       4.38395     -0.16698  -0.315475\n",
       " -0.874296     0.435854    -0.483706     -0.628802    -0.16698  -0.315475\n",
       "  0.813095     1.89778      0.2478        0.263835    -0.16698  -0.315475\n",
       "  1.01429      3.16954      2.44232       1.08493     -0.16698  -0.315475\n",
       " -0.585788     0.0609231   -0.483706  …  -0.545066    -0.16698  -0.315475\n",
       " -1.21026      0.358732    -0.483706     -0.872692    -0.16698  -0.315475\n",
       "  0.150666    -1.51546     -0.483706     -0.376782    -0.16698  -0.315475\n",
       "  0.330983    -0.321638    -0.483706     -0.105252    -0.16698  -0.315475\n",
       "  0.982024    -0.597496    -0.483706     -0.00281784  -0.16698  -0.315475\n",
       " -0.251727    -1.07408     -0.483706  …  -0.149965    -0.16698  -0.315475\n",
       " -0.957811    -0.117621    -0.483706     -0.871879    -0.16698  -0.315475\n",
       " -0.141638    -1.5914       0.2478        0.477645    -0.16698  -0.315475\n",
       " -0.401675     0.398643     0.979306      0.14189     -0.16698   0.57146\n",
       " -0.701571     0.387374    -0.483706     -1.19544     -0.16698  -0.315475\n",
       "  1.24016     -0.406039    -0.483706  …  -0.571081    -0.16698  -0.315475\n",
       "  0.395518    -0.960101    -0.483706     -0.283291    -0.16698  -0.315475\n",
       "  0.16585      0.522837     0.2478        0.206927    -0.16698   0.127993\n",
       " -0.310567     0.0534104   -0.483706     -0.145087    -0.16698  -0.315475\n",
       "  0.720089    -1.08711     -0.483706     -0.070294    -0.16698  -0.315475\n",
       "  0.0519657   -0.965149    -0.483706  …   0.16384     -0.16698  -0.315475\n",
       " -0.244134    -0.934277    -0.483706     -0.944233    -0.16698  -0.315475\n",
       "  1.11299     -0.288535     1.71081       1.06461     -0.16698   0.57146\n",
       "  ⋮                                   ⋱                          ⋮\n",
       " -0.297281    -0.423647    -0.483706     -0.823914    -0.16698  -0.315475\n",
       "  0.209506    -0.801982    -0.483706     -0.262967    -0.16698  -0.315475\n",
       " -0.105575     1.07819     -0.483706     -0.0158253   -0.16698  -0.315475\n",
       "  1.3009      -1.16494     -0.483706      1.08493     -0.16698  -0.315475\n",
       "  0.40311     -0.955289    -0.483706  …   0.544308    -0.16698  -0.315475\n",
       "  1.33696     -0.960688    -0.483706      0.23782     -0.16698  -0.315475\n",
       " -0.00877282  -1.96446     -0.483706      0.47358     -0.16698  -0.315475\n",
       " -0.619954     0.713825    -0.483706     -0.970247    -0.16698  -0.315475\n",
       "  0.784623    -0.38937      3.90533       1.01908     -0.16698   2.34533\n",
       "  0.60051     -1.63918     -0.483706  …   0.487401    -0.16698  -0.315475\n",
       "  0.46195      0.534693    -0.483706      0.0589676   -0.16698  -0.315475\n",
       "  0.549262    -0.0939092   -0.483706     -0.0491569   -0.16698  -0.315475\n",
       "  0.568243    -0.129947    -0.483706     -0.119072    -0.16698  -0.315475\n",
       "  0.782725    -0.534342    -0.483706      0.258144    -0.16698  -0.315475\n",
       " -0.13025     -0.506052    -0.483706  …  -0.258902    -0.16698  -0.315475\n",
       "  0.947858    -0.0392073    6.83135       4.25956     -0.16698   4.1192\n",
       "  0.450562    -1.06364     -0.483706      0.194733    -0.16698  -0.315475\n",
       "  1.37872     -0.472245     2.44232       3.52302     -0.16698   1.45839\n",
       "  0.868139     0.314477     0.979306      0.836163    -0.16698  -0.315475\n",
       "  2.22337     -0.6934      -0.483706  …   0.840228    -0.16698   2.7888\n",
       "  0.194321    -0.231955    -0.483706     -0.122324    -0.16698  -0.315475\n",
       " -1.58038     -0.194744    -0.483706     -0.399545    -0.16698  -0.315475\n",
       "  1.16804     -0.127012     2.44232       1.41987     -0.16698   0.57146\n",
       "  0.0196983   -0.163519    -0.483706     -0.467021    -0.16698  -0.315475\n",
       "  1.03137      1.36086      0.2478    …   4.36687     -0.16698  -0.315475\n",
       " -0.00118051  -0.355798     0.979306      0.0996159   -0.16698  -0.315475\n",
       "  0.627083     0.671214     1.71081       0.505286    -0.16698   1.01493\n",
       " -0.656017     0.273862    -0.483706     -0.118259    -0.16698  -0.315475\n",
       " -0.817354    -0.21963      0.2478        4.37988     -0.16698  -0.315475\n",
       "  0.553058    -0.967497    -0.483706  …  -0.309306    -0.16698  -0.315475\n",
       "  0.55116      0.899882     0.2478        0.550812    -0.16698  -0.315475\n",
       " -0.747125    -0.934629    -0.483706     -1.21902     -0.16698  -0.315475\n",
       " -2.04161     -0.729203     0.979306     -0.262154    -0.16698   0.57146\n",
       " -1.09068      0.384322    -0.483706     -0.835295    -0.16698  -0.315475\n",
       "  1.1984      -0.837668     0.979306  …   1.102       -0.16698  -0.315475\n",
       " -1.68667      0.0490671   -0.483706     -0.960492    -0.16698  -0.315475\n",
       "  2.82126      5.13376     -0.483706      0.671131    -0.16698   8.55387\n",
       "  0.162054    -0.934159    -0.483706     -0.0117605   -0.16698  -0.315475\n",
       "  0.507504    -0.183357    -0.483706      0.246763     5.70118  -0.315475\n",
       " -0.297281    -0.0426115    0.979306  …   0.146768    -0.16698   0.127993\n",
       " -1.21026     -0.130768    -0.483706     -1.06943     -0.16698  -0.315475\n",
       "  0.241773     0.536102     1.71081       0.419924    -0.16698   1.01493\n",
       "  0.321493    -1.32564     -0.483706      0.0345786   -0.16698  -0.315475\n",
       "  0.507504    -0.721103    -0.483706      0.154898    -0.16698  -0.315475\n",
       " -1.12674      0.306495    -0.483706  …  -0.724732    -0.16698  -0.315475\n",
       "  0.405008     0.53528     -0.483706     -0.0816755   -0.16698  -0.315475\n",
       " -1.59746     -0.263532     0.2478        2.39055     -0.16698   0.127993"
      ]
     },
     "execution_count": 413,
     "metadata": {},
     "output_type": "execute_result"
    }
   ],
   "source": [
    "train_data = convert(Matrix,X_stand[train,:])"
   ]
  },
  {
   "cell_type": "markdown",
   "metadata": {},
   "source": [
    "## Set up model"
   ]
  },
  {
   "cell_type": "code",
   "execution_count": 414,
   "metadata": {
    "scrolled": true
   },
   "outputs": [
    {
     "data": {
      "text/plain": [
       "32-element Array{NamedTuple{(:name, :package_name, :is_supervised, :docstring, :hyperparameter_ranges, :hyperparameter_types, :hyperparameters, :implemented_methods, :is_pure_julia, :is_wrapper, :load_path, :package_license, :package_url, :package_uuid, :prediction_type, :supports_online, :supports_weights, :input_scitype, :target_scitype, :output_scitype),T} where T<:Tuple,1}:\n",
       " (name = AffinityPropagation, package_name = ScikitLearn, ... )\n",
       " (name = AgglomerativeClustering, package_name = ScikitLearn, ... )\n",
       " (name = Birch, package_name = ScikitLearn, ... )\n",
       " (name = ContinuousEncoder, package_name = MLJModels, ... )\n",
       " (name = DBSCAN, package_name = ScikitLearn, ... )\n",
       " (name = FactorAnalysis, package_name = MultivariateStats, ... )\n",
       " (name = FeatureAgglomeration, package_name = ScikitLearn, ... )\n",
       " (name = FeatureSelector, package_name = MLJModels, ... )\n",
       " (name = FillImputer, package_name = MLJModels, ... )\n",
       " (name = ICA, package_name = MultivariateStats, ... )\n",
       " (name = KMeans, package_name = Clustering, ... )\n",
       " (name = KMeans, package_name = ParallelKMeans, ... )\n",
       " (name = KMeans, package_name = ScikitLearn, ... )\n",
       " (name = KMedoids, package_name = Clustering, ... )\n",
       " (name = KernelPCA, package_name = MultivariateStats, ... )\n",
       " (name = MeanShift, package_name = ScikitLearn, ... )\n",
       " (name = MiniBatchKMeans, package_name = ScikitLearn, ... )\n",
       " (name = OPTICS, package_name = ScikitLearn, ... )\n",
       " (name = OneClassSVM, package_name = LIBSVM, ... )\n",
       " (name = OneHotEncoder, package_name = MLJModels, ... )\n",
       " (name = PCA, package_name = MultivariateStats, ... )\n",
       " (name = PPCA, package_name = MultivariateStats, ... )\n",
       " (name = SpectralClustering, package_name = ScikitLearn, ... )\n",
       " (name = Standardizer, package_name = MLJModels, ... )\n",
       " (name = StaticSurrogate, package_name = MLJBase, ... )\n",
       " (name = UnivariateBoxCoxTransformer, package_name = MLJModels, ... )\n",
       " (name = UnivariateDiscretizer, package_name = MLJModels, ... )\n",
       " (name = UnivariateFillImputer, package_name = MLJModels, ... )\n",
       " (name = UnivariateStandardizer, package_name = MLJModels, ... )\n",
       " (name = UnivariateTimeTypeToContinuous, package_name = MLJModels, ... )\n",
       " (name = UnsupervisedSurrogate, package_name = MLJBase, ... )\n",
       " (name = WrappedFunction, package_name = MLJBase, ... )"
      ]
     },
     "execution_count": 414,
     "metadata": {},
     "output_type": "execute_result"
    }
   ],
   "source": [
    "task(model) = !model.is_supervised\n",
    "models(task)"
   ]
  },
  {
   "cell_type": "markdown",
   "metadata": {},
   "source": [
    "# Clustering Algorithms\n",
    "Run the clustering algorithms on the datasets and describe what you see."
   ]
  },
  {
   "cell_type": "markdown",
   "metadata": {},
   "source": [
    "### KMeans\n",
    "* https://github.com/PyDataBlog/ParallelKMeans.jl/blob/master/src/hamerly.jl#L65\n",
    "* https://juliastats.org/Clustering.jl/stable/validate.html"
   ]
  },
  {
   "cell_type": "code",
   "execution_count": 415,
   "metadata": {},
   "outputs": [
    {
     "data": {
      "text/plain": [
       "KMeans(\n",
       "    algo = ParallelKMeans.Hamerly(),\n",
       "    k_init = \"k-means++\",\n",
       "    k = 3,\n",
       "    tol = 1.0e-6,\n",
       "    max_iters = 300,\n",
       "    copy = true,\n",
       "    threads = 4,\n",
       "    rng = Random._GLOBAL_RNG(),\n",
       "    weights = nothing,\n",
       "    init = nothing)\u001b[34m @493\u001b[39m"
      ]
     },
     "execution_count": 415,
     "metadata": {},
     "output_type": "execute_result"
    }
   ],
   "source": [
    "@load KMeans pkg=ParallelKMeans\n",
    "# @load KMeans pkg=Clustering"
   ]
  },
  {
   "cell_type": "code",
   "execution_count": 416,
   "metadata": {},
   "outputs": [
    {
     "data": {
      "text/plain": [
       "dist_mat (generic function with 1 method)"
      ]
     },
     "execution_count": 416,
     "metadata": {},
     "output_type": "execute_result"
    }
   ],
   "source": [
    "# https://stackoverflow.com/questions/51181392/julia-vs-matlab-distance-matrix-run-time-test\n",
    "function dist_mat(X::Matrix)\n",
    "    G = X * X'\n",
    "    dG = diag(G)\n",
    "    return sqrt.(dG .+ dG' .- 2 .* G)\n",
    "end"
   ]
  },
  {
   "cell_type": "code",
   "execution_count": 417,
   "metadata": {},
   "outputs": [
    {
     "name": "stdout",
     "output_type": "stream",
     "text": [
      "K = 2\n",
      "Iteration 1: Jclust = 56302.57851561873\n",
      "Iteration 2: Jclust = 28188.785953114722\n",
      "Iteration 3: Jclust = 29099.152762146925\n",
      "Iteration 4: Jclust = 28462.951072449534\n",
      "Iteration 5: Jclust = 28691.015987457038\n",
      "Iteration 6: Jclust = 28568.87843605133\n",
      "Iteration 7: Jclust = 28516.31895023834\n",
      "Iteration 8: Jclust = 28479.442451417053\n",
      "Iteration 9: Jclust = 28452.87835225411\n",
      "Iteration 10: Jclust = 28551.664319077598\n",
      "Iteration 11: Jclust = 28439.550561300628\n",
      "Iteration 12: Jclust = 28246.821567534724\n",
      "Iteration 13: Jclust = 28314.838545552535\n",
      "Iteration 14: Jclust = 28475.655252076154\n",
      "Iteration 15: Jclust = 28475.655252076154\n",
      "Successfully terminated with convergence.\n",
      "mach.report.totalcost = 27035.69291215478\n",
      "l = [(1, 249), (2, 489)]\n"
     ]
    },
    {
     "name": "stderr",
     "output_type": "stream",
     "text": [
      "┌ Info: Training \u001b[34mMachine{KMeans} @629\u001b[39m.\n",
      "└ @ MLJBase /home/andrew/.julia/packages/MLJBase/Ov46j/src/machines.jl:319\n"
     ]
    },
    {
     "name": "stdout",
     "output_type": "stream",
     "text": [
      "silhouette: 0.2053891773097492\n",
      "\n",
      "K = 3\n",
      "Iteration 1: Jclust = 52166.70586725931\n",
      "Iteration 2: Jclust = 26653.305975588133\n",
      "Iteration 3: Jclust = 27316.62701226548\n",
      "Iteration 4: Jclust = 26387.32164921845\n",
      "Iteration 5: Jclust = 26277.0749417549\n",
      "Iteration 6: Jclust = 26564.68250054364\n",
      "Iteration 7: Jclust = 26584.468569995\n",
      "Iteration 8: Jclust = 26656.12547690521\n",
      "Iteration 9: Jclust = 26760.43998140568\n",
      "Iteration 10: Jclust = 26822.37877533264\n",
      "Iteration 11: Jclust = 26879.777947863593\n",
      "Iteration 12: Jclust = 26869.685180019133\n",
      "Iteration 13: Jclust = 26860.25857475475\n",
      "Iteration 14: Jclust = 26897.914958819332\n",
      "Iteration 15: Jclust = 26905.822836013485\n",
      "Iteration 16: Jclust = 26864.971883763013\n",
      "Iteration 17: Jclust = 26864.971883763013\n",
      "Successfully terminated with convergence.\n",
      "mach.report.totalcost = 25512.861545992324\n",
      "l = [(1, 166), (2, 397), (3, 175)]\n",
      "silhouette: 0.11064261401125847\n",
      "\n",
      "K = 4\n",
      "Iteration 1: Jclust = 49318.75807073221\n",
      "Iteration 2: Jclust = 24471.748491567694\n",
      "Iteration 3: Jclust = 25251.144466592283\n",
      "Iteration 4: Jclust = 24406.05624472806\n",
      "Iteration 5: Jclust = 24241.67825878891\n",
      "Iteration 6: Jclust = 24424.364004502197\n",
      "Iteration 7: Jclust = 24484.00771594345\n",
      "Iteration 8: Jclust = 24583.479602291536\n",
      "Iteration 9: Jclust = 24738.566280697007\n",
      "Iteration 10: Jclust = 24760.49212292769\n",
      "Iteration 11: Jclust = 24760.49212292769\n",
      "Successfully terminated with convergence.\n",
      "mach.report.totalcost = 23557.490677367336\n",
      "l = [(1, 155), (2, 399), (3, 147), (4, 37)]\n",
      "silhouette: 0.12622084197991165\n",
      "\n",
      "K = 5\n",
      "Iteration 1: Jclust = 31971.624438613322\n",
      "Iteration 2: Jclust = 23609.759234694233\n",
      "Iteration 3: Jclust = 23744.982428950865\n",
      "Iteration 4: Jclust = 23014.43361272592\n",
      "Iteration 5: Jclust = 23034.16365643697\n",
      "Iteration 6: Jclust = 22783.394947597088\n",
      "Iteration 7: Jclust = 22806.034675649968\n",
      "Iteration 8: Jclust = 22845.842816481716\n",
      "Iteration 9: Jclust = 22996.667057632076\n",
      "Iteration 10: Jclust = 23102.245296281482\n",
      "Iteration 11: Jclust = 22978.219644400007\n",
      "Iteration 12: Jclust = 22880.28905441575\n",
      "Iteration 13: Jclust = 22895.79932630214\n",
      "Iteration 14: Jclust = 22787.826278179604\n",
      "Iteration 15: Jclust = 22931.262974330333\n",
      "Iteration 16: Jclust = 22933.912708149706\n",
      "Iteration 17: Jclust = 22925.643696718253\n",
      "Iteration 18: Jclust = 22924.43374523492\n",
      "Iteration 19: Jclust = 22924.43374523492\n",
      "Successfully terminated with convergence.\n",
      "mach.report.totalcost = 21628.720476644932\n",
      "l = [(1, 100), (2, 335), (3, 61), (4, 37), (5, 205)]\n",
      "silhouette: 0.12197032209329517\n",
      "\n",
      "K = 6\n",
      "Iteration 1: Jclust = 31550.793797599566\n",
      "Iteration 2: Jclust = 23245.001640928487\n",
      "Iteration 3: Jclust = 22248.247193053052\n",
      "Iteration 4: Jclust = 23066.385574344207\n",
      "Iteration 5: Jclust = 23148.083167242577\n",
      "Iteration 6: Jclust = 22696.21487451407\n",
      "Iteration 7: Jclust = 22542.531259265834\n",
      "Iteration 8: Jclust = 21924.005366487698\n",
      "Iteration 9: Jclust = 22279.450985691004\n",
      "Iteration 10: Jclust = 21955.61519408249\n",
      "Iteration 11: Jclust = 22230.692642773756\n",
      "Iteration 12: Jclust = 22259.083990492632\n",
      "Iteration 13: Jclust = 22443.264517369003\n",
      "Iteration 14: Jclust = 22376.93050436814\n",
      "Iteration 15: Jclust = 22343.8928591363\n",
      "Iteration 16: Jclust = 22299.50649484551\n",
      "Iteration 17: Jclust = 22271.105530846122\n",
      "Iteration 18: Jclust = 22306.616826267546\n",
      "Iteration 19: Jclust = 22322.02641402869\n",
      "Iteration 20: Jclust = 22322.02641402869\n",
      "Successfully terminated with convergence.\n",
      "mach.report.totalcost = 21053.305455694706\n",
      "l = [(1, 123), (2, 345), (3, 52), (4, 37), (5, 165), (6, 16)]\n",
      "silhouette: 0.14031846192893446\n",
      "\n",
      "K = 7\n",
      "Iteration 1: Jclust = 27496.1616170584\n",
      "Iteration 2: Jclust = 21632.54731559081\n",
      "Iteration 3: Jclust = 20873.30119698174\n",
      "Iteration 4: Jclust = 21474.422583036932\n",
      "Iteration 5: Jclust = 21129.903345531922\n",
      "Iteration 6: Jclust = 20966.6311250953\n",
      "Iteration 7: Jclust = 20446.21267864471\n",
      "Iteration 8: Jclust = 20412.80220039621\n",
      "Iteration 9: Jclust = 20215.654992042848\n",
      "Iteration 10: Jclust = 20468.610257119806\n",
      "Iteration 11: Jclust = 20577.211960860128\n",
      "Iteration 12: Jclust = 20519.24109352442\n",
      "Iteration 13: Jclust = 20020.1593092931\n",
      "Iteration 14: Jclust = 20200.773751263358\n",
      "Iteration 15: Jclust = 20100.60189013033\n",
      "Iteration 16: Jclust = 19426.543142621922\n",
      "Iteration 17: Jclust = 19595.803515930467\n",
      "Iteration 18: Jclust = 19934.44312505283\n",
      "Iteration 19: Jclust = 20067.22050991859\n",
      "Iteration 20: Jclust = 20112.19772554636\n",
      "Iteration 21: Jclust = 20384.900818265356\n",
      "Iteration 22: Jclust = 20558.036831425692\n",
      "Iteration 23: Jclust = 20504.872472553267\n",
      "Iteration 24: Jclust = 20540.17587200457\n",
      "Iteration 25: Jclust = 20540.17587200457\n",
      "Successfully terminated with convergence.\n",
      "mach.report.totalcost = 18865.88099641816\n",
      "l = [(1, 128), (2, 54), (3, 11), (4, 37), (5, 170), (6, 16), (7, 322)]\n",
      "silhouette: 0.14990991668559944\n",
      "\n",
      "K = 8\n",
      "Iteration 1: Jclust = 26771.963080771293\n",
      "Iteration 2: Jclust = 20852.346084273217\n",
      "Iteration 3: Jclust = 20056.312263297114\n",
      "Iteration 4: Jclust = 20697.73149119859\n",
      "Iteration 5: Jclust = 20335.863303273938\n",
      "Iteration 6: Jclust = 19990.40449645641\n",
      "Iteration 7: Jclust = 19733.83888194039\n",
      "Iteration 8: Jclust = 19733.514844200257\n",
      "Iteration 9: Jclust = 19579.417746777\n",
      "Iteration 10: Jclust = 19870.81163720545\n",
      "Iteration 11: Jclust = 19838.917504925776\n",
      "Iteration 12: Jclust = 19725.779311580205\n",
      "Iteration 13: Jclust = 19448.90043175943\n",
      "Iteration 14: Jclust = 19311.507890594577\n",
      "Iteration 15: Jclust = 19609.690605258445\n",
      "Iteration 16: Jclust = 18731.9956919569\n",
      "Iteration 17: Jclust = 18994.004630707517\n",
      "Iteration 18: Jclust = 19245.645385562562\n",
      "Iteration 19: Jclust = 19141.708621455276\n",
      "Iteration 20: Jclust = 19430.13261863798\n",
      "Iteration 21: Jclust = 19573.475934186215\n",
      "Iteration 22: Jclust = 19649.95769115653\n",
      "Iteration 23: Jclust = 19585.751260889618\n",
      "Iteration 24: Jclust = 19585.751260889618\n",
      "Successfully terminated with convergence.\n",
      "mach.report.totalcost = 18246.64683336763\n",
      "l = [(1, 128), (2, 54), (3, 11), (4, 19), (5, 170), (6, 16), (7, 322), (8, 18)]\n",
      "silhouette: 0.15749523674070395\n",
      "\n"
     ]
    },
    {
     "name": "stderr",
     "output_type": "stream",
     "text": [
      "┌ Info: Training \u001b[34mMachine{KMeans} @081\u001b[39m.\n",
      "└ @ MLJBase /home/andrew/.julia/packages/MLJBase/Ov46j/src/machines.jl:319\n",
      "┌ Info: Training \u001b[34mMachine{KMeans} @017\u001b[39m.\n",
      "└ @ MLJBase /home/andrew/.julia/packages/MLJBase/Ov46j/src/machines.jl:319\n",
      "┌ Info: Training \u001b[34mMachine{KMeans} @850\u001b[39m.\n",
      "└ @ MLJBase /home/andrew/.julia/packages/MLJBase/Ov46j/src/machines.jl:319\n",
      "┌ Info: Training \u001b[34mMachine{KMeans} @263\u001b[39m.\n",
      "└ @ MLJBase /home/andrew/.julia/packages/MLJBase/Ov46j/src/machines.jl:319\n",
      "┌ Info: Training \u001b[34mMachine{KMeans} @168\u001b[39m.\n",
      "└ @ MLJBase /home/andrew/.julia/packages/MLJBase/Ov46j/src/machines.jl:319\n",
      "┌ Info: Training \u001b[34mMachine{KMeans} @606\u001b[39m.\n",
      "└ @ MLJBase /home/andrew/.julia/packages/MLJBase/Ov46j/src/machines.jl:319\n"
     ]
    }
   ],
   "source": [
    "upper = 8\n",
    "k_range = 2:upper\n",
    "total_costs = []\n",
    "sils = []\n",
    "ls = []\n",
    "sil_means = []\n",
    "assignments = []\n",
    "\n",
    "for i in k_range\n",
    "    println(\"K = $i\")\n",
    "    model = ParallelKMeans.KMeans(k=i, rng=RNG)\n",
    "    mach = machine(model, X_stand)\n",
    "    MLJ.fit!(mach, rows=train)\n",
    "    \n",
    "#     @show report(mach) \n",
    "#     @show fitted_params(mach)\n",
    "    @show mach.report.totalcost # https://github.com/PyDataBlog/ParallelKMeans.jl/blob/87ce07d10796078aacffcbea0b2e9dc0c02f25d7/src/hamerly.jl#L65\n",
    "    d = countmap(mach.report.assignments)\n",
    "    \n",
    "    k = d |> keys\n",
    "    v = d |> values\n",
    "    l = sort(collect(zip(k,v)), by=x->x[1])\n",
    "    @show l\n",
    "    \n",
    "    # https://juliastats.org/Clustering.jl/stable/validate.html\n",
    "    s = silhouettes(mach.report.assignments, dist_mat(train_data))\n",
    "    println(\"silhouette: $(mean(s))\")\n",
    "    \n",
    "    push!(assignments, mach.report.assignments)\n",
    "    push!(ls, l)\n",
    "    push!(total_costs, mach.report.totalcost) \n",
    "    push!(sils, s)\n",
    "    push!(sil_means, mean(s))\n",
    "    println(\"\")\n",
    "end"
   ]
  },
  {
   "cell_type": "code",
   "execution_count": 418,
   "metadata": {},
   "outputs": [
    {
     "data": {
      "image/svg+xml": [
       "<?xml version=\"1.0\" encoding=\"utf-8\"?>\n",
       "<svg xmlns=\"http://www.w3.org/2000/svg\" xmlns:xlink=\"http://www.w3.org/1999/xlink\" width=\"600\" height=\"400\" viewBox=\"0 0 2400 1600\">\n",
       "<defs>\n",
       "  <clipPath id=\"clip680\">\n",
       "    <rect x=\"0\" y=\"0\" width=\"2400\" height=\"1600\"/>\n",
       "  </clipPath>\n",
       "</defs>\n",
       "<path clip-path=\"url(#clip680)\" d=\"\n",
       "M0 1600 L2400 1600 L2400 0 L0 0  Z\n",
       "  \" fill=\"#ffffff\" fill-rule=\"evenodd\" fill-opacity=\"1\"/>\n",
       "<defs>\n",
       "  <clipPath id=\"clip681\">\n",
       "    <rect x=\"480\" y=\"0\" width=\"1681\" height=\"1600\"/>\n",
       "  </clipPath>\n",
       "</defs>\n",
       "<path clip-path=\"url(#clip680)\" d=\"\n",
       "M217.478 1423.18 L2248.5 1423.18 L2248.5 47.2441 L217.478 47.2441  Z\n",
       "  \" fill=\"#ffffff\" fill-rule=\"evenodd\" fill-opacity=\"1\"/>\n",
       "<defs>\n",
       "  <clipPath id=\"clip682\">\n",
       "    <rect x=\"217\" y=\"47\" width=\"2032\" height=\"1377\"/>\n",
       "  </clipPath>\n",
       "</defs>\n",
       "<polyline clip-path=\"url(#clip682)\" style=\"stroke:#000000; stroke-width:2; stroke-opacity:0.1; fill:none\" points=\"\n",
       "  274.959,1423.18 274.959,47.2441 \n",
       "  \"/>\n",
       "<polyline clip-path=\"url(#clip682)\" style=\"stroke:#000000; stroke-width:2; stroke-opacity:0.1; fill:none\" points=\"\n",
       "  594.303,1423.18 594.303,47.2441 \n",
       "  \"/>\n",
       "<polyline clip-path=\"url(#clip682)\" style=\"stroke:#000000; stroke-width:2; stroke-opacity:0.1; fill:none\" points=\"\n",
       "  913.647,1423.18 913.647,47.2441 \n",
       "  \"/>\n",
       "<polyline clip-path=\"url(#clip682)\" style=\"stroke:#000000; stroke-width:2; stroke-opacity:0.1; fill:none\" points=\"\n",
       "  1232.99,1423.18 1232.99,47.2441 \n",
       "  \"/>\n",
       "<polyline clip-path=\"url(#clip682)\" style=\"stroke:#000000; stroke-width:2; stroke-opacity:0.1; fill:none\" points=\"\n",
       "  1552.33,1423.18 1552.33,47.2441 \n",
       "  \"/>\n",
       "<polyline clip-path=\"url(#clip682)\" style=\"stroke:#000000; stroke-width:2; stroke-opacity:0.1; fill:none\" points=\"\n",
       "  1871.68,1423.18 1871.68,47.2441 \n",
       "  \"/>\n",
       "<polyline clip-path=\"url(#clip682)\" style=\"stroke:#000000; stroke-width:2; stroke-opacity:0.1; fill:none\" points=\"\n",
       "  2191.02,1423.18 2191.02,47.2441 \n",
       "  \"/>\n",
       "<polyline clip-path=\"url(#clip680)\" style=\"stroke:#000000; stroke-width:4; stroke-opacity:1; fill:none\" points=\"\n",
       "  217.478,1423.18 2248.5,1423.18 \n",
       "  \"/>\n",
       "<polyline clip-path=\"url(#clip680)\" style=\"stroke:#000000; stroke-width:4; stroke-opacity:1; fill:none\" points=\"\n",
       "  274.959,1423.18 274.959,1406.67 \n",
       "  \"/>\n",
       "<polyline clip-path=\"url(#clip680)\" style=\"stroke:#000000; stroke-width:4; stroke-opacity:1; fill:none\" points=\"\n",
       "  594.303,1423.18 594.303,1406.67 \n",
       "  \"/>\n",
       "<polyline clip-path=\"url(#clip680)\" style=\"stroke:#000000; stroke-width:4; stroke-opacity:1; fill:none\" points=\"\n",
       "  913.647,1423.18 913.647,1406.67 \n",
       "  \"/>\n",
       "<polyline clip-path=\"url(#clip680)\" style=\"stroke:#000000; stroke-width:4; stroke-opacity:1; fill:none\" points=\"\n",
       "  1232.99,1423.18 1232.99,1406.67 \n",
       "  \"/>\n",
       "<polyline clip-path=\"url(#clip680)\" style=\"stroke:#000000; stroke-width:4; stroke-opacity:1; fill:none\" points=\"\n",
       "  1552.33,1423.18 1552.33,1406.67 \n",
       "  \"/>\n",
       "<polyline clip-path=\"url(#clip680)\" style=\"stroke:#000000; stroke-width:4; stroke-opacity:1; fill:none\" points=\"\n",
       "  1871.68,1423.18 1871.68,1406.67 \n",
       "  \"/>\n",
       "<polyline clip-path=\"url(#clip680)\" style=\"stroke:#000000; stroke-width:4; stroke-opacity:1; fill:none\" points=\"\n",
       "  2191.02,1423.18 2191.02,1406.67 \n",
       "  \"/>\n",
       "<path clip-path=\"url(#clip680)\" d=\"M 0 0 M269.612 1479.92 L285.932 1479.92 L285.932 1483.85 L263.987 1483.85 L263.987 1479.92 Q266.649 1477.16 271.233 1472.53 Q275.839 1467.88 277.02 1466.54 Q279.265 1464.01 280.145 1462.28 Q281.047 1460.52 281.047 1458.83 Q281.047 1456.07 279.103 1454.34 Q277.182 1452.6 274.08 1452.6 Q271.881 1452.6 269.427 1453.37 Q266.996 1454.13 264.219 1455.68 L264.219 1450.96 Q267.043 1449.82 269.496 1449.25 Q271.95 1448.67 273.987 1448.67 Q279.358 1448.67 282.552 1451.35 Q285.746 1454.04 285.746 1458.53 Q285.746 1460.66 284.936 1462.58 Q284.149 1464.48 282.043 1467.07 Q281.464 1467.74 278.362 1470.96 Q275.26 1474.15 269.612 1479.92 Z\" fill=\"#000000\" fill-rule=\"evenodd\" fill-opacity=\"1\" /><path clip-path=\"url(#clip680)\" d=\"M 0 0 M598.551 1465.22 Q601.907 1465.94 603.782 1468.2 Q605.68 1470.47 605.68 1473.81 Q605.68 1478.92 602.162 1481.72 Q598.643 1484.52 592.162 1484.52 Q589.986 1484.52 587.671 1484.08 Q585.38 1483.67 582.926 1482.81 L582.926 1478.3 Q584.87 1479.43 587.185 1480.01 Q589.5 1480.59 592.023 1480.59 Q596.421 1480.59 598.713 1478.85 Q601.028 1477.12 601.028 1473.81 Q601.028 1470.75 598.875 1469.04 Q596.745 1467.3 592.926 1467.3 L588.898 1467.3 L588.898 1463.46 L593.111 1463.46 Q596.56 1463.46 598.389 1462.09 Q600.218 1460.7 600.218 1458.11 Q600.218 1455.45 598.319 1454.04 Q596.444 1452.6 592.926 1452.6 Q591.005 1452.6 588.806 1453.02 Q586.606 1453.44 583.968 1454.31 L583.968 1450.15 Q586.63 1449.41 588.944 1449.04 Q591.282 1448.67 593.343 1448.67 Q598.667 1448.67 601.768 1451.1 Q604.87 1453.5 604.87 1457.63 Q604.87 1460.5 603.227 1462.49 Q601.583 1464.45 598.551 1465.22 Z\" fill=\"#000000\" fill-rule=\"evenodd\" fill-opacity=\"1\" /><path clip-path=\"url(#clip680)\" d=\"M 0 0 M916.656 1453.37 L904.851 1471.81 L916.656 1471.81 L916.656 1453.37 M915.429 1449.29 L921.309 1449.29 L921.309 1471.81 L926.239 1471.81 L926.239 1475.7 L921.309 1475.7 L921.309 1483.85 L916.656 1483.85 L916.656 1475.7 L901.054 1475.7 L901.054 1471.19 L915.429 1449.29 Z\" fill=\"#000000\" fill-rule=\"evenodd\" fill-opacity=\"1\" /><path clip-path=\"url(#clip680)\" d=\"M 0 0 M1223.27 1449.29 L1241.62 1449.29 L1241.62 1453.23 L1227.55 1453.23 L1227.55 1461.7 Q1228.57 1461.35 1229.59 1461.19 Q1230.61 1461 1231.63 1461 Q1237.41 1461 1240.79 1464.18 Q1244.17 1467.35 1244.17 1472.76 Q1244.17 1478.34 1240.7 1481.44 Q1237.23 1484.52 1230.91 1484.52 Q1228.73 1484.52 1226.46 1484.15 Q1224.22 1483.78 1221.81 1483.04 L1221.81 1478.34 Q1223.89 1479.48 1226.12 1480.03 Q1228.34 1480.59 1230.81 1480.59 Q1234.82 1480.59 1237.16 1478.48 Q1239.5 1476.38 1239.5 1472.76 Q1239.5 1469.15 1237.16 1467.05 Q1234.82 1464.94 1230.81 1464.94 Q1228.94 1464.94 1227.06 1465.36 Q1225.21 1465.77 1223.27 1466.65 L1223.27 1449.29 Z\" fill=\"#000000\" fill-rule=\"evenodd\" fill-opacity=\"1\" /><path clip-path=\"url(#clip680)\" d=\"M 0 0 M1552.74 1464.71 Q1549.59 1464.71 1547.74 1466.86 Q1545.91 1469.01 1545.91 1472.76 Q1545.91 1476.49 1547.74 1478.67 Q1549.59 1480.82 1552.74 1480.82 Q1555.89 1480.82 1557.72 1478.67 Q1559.57 1476.49 1559.57 1472.76 Q1559.57 1469.01 1557.72 1466.86 Q1555.89 1464.71 1552.74 1464.71 M1562.02 1450.06 L1562.02 1454.31 Q1560.26 1453.48 1558.46 1453.04 Q1556.67 1452.6 1554.92 1452.6 Q1550.29 1452.6 1547.83 1455.73 Q1545.4 1458.85 1545.05 1465.17 Q1546.42 1463.16 1548.48 1462.09 Q1550.54 1461 1553.02 1461 Q1558.23 1461 1561.23 1464.18 Q1564.27 1467.32 1564.27 1472.76 Q1564.27 1478.09 1561.12 1481.31 Q1557.97 1484.52 1552.74 1484.52 Q1546.74 1484.52 1543.57 1479.94 Q1540.4 1475.33 1540.4 1466.61 Q1540.4 1458.41 1544.29 1453.55 Q1548.18 1448.67 1554.73 1448.67 Q1556.49 1448.67 1558.27 1449.01 Q1560.08 1449.36 1562.02 1450.06 Z\" fill=\"#000000\" fill-rule=\"evenodd\" fill-opacity=\"1\" /><path clip-path=\"url(#clip680)\" d=\"M 0 0 M1860.57 1449.29 L1882.79 1449.29 L1882.79 1451.28 L1870.24 1483.85 L1865.36 1483.85 L1877.16 1453.23 L1860.57 1453.23 L1860.57 1449.29 Z\" fill=\"#000000\" fill-rule=\"evenodd\" fill-opacity=\"1\" /><path clip-path=\"url(#clip680)\" d=\"M 0 0 M2191.02 1467.44 Q2187.69 1467.44 2185.77 1469.22 Q2183.87 1471 2183.87 1474.13 Q2183.87 1477.25 2185.77 1479.04 Q2187.69 1480.82 2191.02 1480.82 Q2194.36 1480.82 2196.28 1479.04 Q2198.2 1477.23 2198.2 1474.13 Q2198.2 1471 2196.28 1469.22 Q2194.38 1467.44 2191.02 1467.44 M2186.35 1465.45 Q2183.34 1464.71 2181.65 1462.65 Q2179.98 1460.59 2179.98 1457.63 Q2179.98 1453.48 2182.92 1451.07 Q2185.88 1448.67 2191.02 1448.67 Q2196.18 1448.67 2199.12 1451.07 Q2202.06 1453.48 2202.06 1457.63 Q2202.06 1460.59 2200.37 1462.65 Q2198.71 1464.71 2195.72 1465.45 Q2199.1 1466.24 2200.98 1468.53 Q2202.87 1470.82 2202.87 1474.13 Q2202.87 1479.15 2199.8 1481.84 Q2196.74 1484.52 2191.02 1484.52 Q2185.3 1484.52 2182.23 1481.84 Q2179.17 1479.15 2179.17 1474.13 Q2179.17 1470.82 2181.07 1468.53 Q2182.97 1466.24 2186.35 1465.45 M2184.63 1458.06 Q2184.63 1460.75 2186.3 1462.25 Q2187.99 1463.76 2191.02 1463.76 Q2194.03 1463.76 2195.72 1462.25 Q2197.43 1460.75 2197.43 1458.06 Q2197.43 1455.38 2195.72 1453.88 Q2194.03 1452.37 2191.02 1452.37 Q2187.99 1452.37 2186.3 1453.88 Q2184.63 1455.38 2184.63 1458.06 Z\" fill=\"#000000\" fill-rule=\"evenodd\" fill-opacity=\"1\" /><path clip-path=\"url(#clip680)\" d=\"M 0 0 M947.552 1508.52 L956.21 1508.52 L977.28 1548.28 L977.28 1508.52 L983.519 1508.52 L983.519 1556.04 L974.861 1556.04 L953.791 1516.29 L953.791 1556.04 L947.552 1556.04 L947.552 1508.52 Z\" fill=\"#000000\" fill-rule=\"evenodd\" fill-opacity=\"1\" /><path clip-path=\"url(#clip680)\" d=\"M 0 0 M989.057 1541.98 L989.057 1520.4 L994.913 1520.4 L994.913 1541.75 Q994.913 1546.81 996.887 1549.36 Q998.86 1551.87 1002.81 1551.87 Q1007.55 1551.87 1010.29 1548.85 Q1013.06 1545.83 1013.06 1540.61 L1013.06 1520.4 L1018.91 1520.4 L1018.91 1556.04 L1013.06 1556.04 L1013.06 1550.57 Q1010.92 1553.82 1008.09 1555.41 Q1005.29 1556.97 1001.57 1556.97 Q995.423 1556.97 992.24 1553.15 Q989.057 1549.33 989.057 1541.98 M1003.79 1519.54 L1003.79 1519.54 Z\" fill=\"#000000\" fill-rule=\"evenodd\" fill-opacity=\"1\" /><path clip-path=\"url(#clip680)\" d=\"M 0 0 M1052.81 1527.24 Q1055.01 1523.29 1058.06 1521.41 Q1061.12 1519.54 1065.25 1519.54 Q1070.82 1519.54 1073.85 1523.45 Q1076.87 1527.33 1076.87 1534.53 L1076.87 1556.04 L1070.98 1556.04 L1070.98 1534.72 Q1070.98 1529.59 1069.17 1527.11 Q1067.36 1524.63 1063.63 1524.63 Q1059.08 1524.63 1056.44 1527.65 Q1053.8 1530.68 1053.8 1535.9 L1053.8 1556.04 L1047.91 1556.04 L1047.91 1534.72 Q1047.91 1529.56 1046.09 1527.11 Q1044.28 1524.63 1040.49 1524.63 Q1036 1524.63 1033.36 1527.68 Q1030.72 1530.71 1030.72 1535.9 L1030.72 1556.04 L1024.83 1556.04 L1024.83 1520.4 L1030.72 1520.4 L1030.72 1525.93 Q1032.73 1522.66 1035.53 1521.1 Q1038.33 1519.54 1042.18 1519.54 Q1046.06 1519.54 1048.77 1521.51 Q1051.5 1523.48 1052.81 1527.24 Z\" fill=\"#000000\" fill-rule=\"evenodd\" fill-opacity=\"1\" /><path clip-path=\"url(#clip680)\" d=\"M 0 0 M1108.6 1538.25 Q1108.6 1531.79 1105.93 1528.13 Q1103.29 1524.44 1098.64 1524.44 Q1094 1524.44 1091.32 1528.13 Q1088.68 1531.79 1088.68 1538.25 Q1088.68 1544.71 1091.32 1548.4 Q1094 1552.07 1098.64 1552.07 Q1103.29 1552.07 1105.93 1548.4 Q1108.6 1544.71 1108.6 1538.25 M1088.68 1525.81 Q1090.53 1522.62 1093.33 1521.1 Q1096.16 1519.54 1100.07 1519.54 Q1106.57 1519.54 1110.61 1524.69 Q1114.68 1529.85 1114.68 1538.25 Q1114.68 1546.65 1110.61 1551.81 Q1106.57 1556.97 1100.07 1556.97 Q1096.16 1556.97 1093.33 1555.44 Q1090.53 1553.88 1088.68 1550.7 L1088.68 1556.04 L1082.79 1556.04 L1082.79 1506.52 L1088.68 1506.52 L1088.68 1525.81 Z\" fill=\"#000000\" fill-rule=\"evenodd\" fill-opacity=\"1\" /><path clip-path=\"url(#clip680)\" d=\"M 0 0 M1151.32 1536.76 L1151.32 1539.62 L1124.39 1539.62 Q1124.77 1545.67 1128.02 1548.85 Q1131.3 1552 1137.12 1552 Q1140.5 1552 1143.65 1551.17 Q1146.83 1550.35 1149.95 1548.69 L1149.95 1554.23 Q1146.8 1555.57 1143.49 1556.27 Q1140.18 1556.97 1136.77 1556.97 Q1128.24 1556.97 1123.25 1552 Q1118.28 1547.04 1118.28 1538.57 Q1118.28 1529.82 1122.99 1524.69 Q1127.73 1519.54 1135.75 1519.54 Q1142.95 1519.54 1147.12 1524.18 Q1151.32 1528.8 1151.32 1536.76 M1145.46 1535.04 Q1145.4 1530.23 1142.76 1527.37 Q1140.15 1524.5 1135.82 1524.5 Q1130.92 1524.5 1127.96 1527.27 Q1125.03 1530.04 1124.58 1535.07 L1145.46 1535.04 Z\" fill=\"#000000\" fill-rule=\"evenodd\" fill-opacity=\"1\" /><path clip-path=\"url(#clip680)\" d=\"M 0 0 M1178.12 1525.87 Q1177.13 1525.3 1175.95 1525.04 Q1174.81 1524.76 1173.41 1524.76 Q1168.44 1524.76 1165.77 1528 Q1163.13 1531.22 1163.13 1537.27 L1163.13 1556.04 L1157.24 1556.04 L1157.24 1520.4 L1163.13 1520.4 L1163.13 1525.93 Q1164.97 1522.69 1167.93 1521.13 Q1170.89 1519.54 1175.13 1519.54 Q1175.73 1519.54 1176.46 1519.63 Q1177.2 1519.7 1178.09 1519.85 L1178.12 1525.87 Z\" fill=\"#000000\" fill-rule=\"evenodd\" fill-opacity=\"1\" /><path clip-path=\"url(#clip680)\" d=\"M 0 0 M1218.8 1524.5 Q1214.08 1524.5 1211.35 1528.19 Q1208.61 1531.85 1208.61 1538.25 Q1208.61 1544.65 1211.32 1548.34 Q1214.05 1552 1218.8 1552 Q1223.47 1552 1226.21 1548.31 Q1228.95 1544.62 1228.95 1538.25 Q1228.95 1531.92 1226.21 1528.23 Q1223.47 1524.5 1218.8 1524.5 M1218.8 1519.54 Q1226.43 1519.54 1230.79 1524.5 Q1235.16 1529.47 1235.16 1538.25 Q1235.16 1547 1230.79 1552 Q1226.43 1556.97 1218.8 1556.97 Q1211.12 1556.97 1206.76 1552 Q1202.44 1547 1202.44 1538.25 Q1202.44 1529.47 1206.76 1524.5 Q1211.12 1519.54 1218.8 1519.54 Z\" fill=\"#000000\" fill-rule=\"evenodd\" fill-opacity=\"1\" /><path clip-path=\"url(#clip680)\" d=\"M 0 0 M1259.34 1506.52 L1259.34 1511.39 L1253.74 1511.39 Q1250.59 1511.39 1249.35 1512.66 Q1248.14 1513.93 1248.14 1517.24 L1248.14 1520.4 L1257.79 1520.4 L1257.79 1524.95 L1248.14 1524.95 L1248.14 1556.04 L1242.25 1556.04 L1242.25 1524.95 L1236.65 1524.95 L1236.65 1520.4 L1242.25 1520.4 L1242.25 1517.91 Q1242.25 1511.96 1245.02 1509.26 Q1247.79 1506.52 1253.81 1506.52 L1259.34 1506.52 Z\" fill=\"#000000\" fill-rule=\"evenodd\" fill-opacity=\"1\" /><path clip-path=\"url(#clip680)\" d=\"M 0 0 M1322.05 1512.18 L1322.05 1518.96 Q1318.8 1515.94 1315.11 1514.44 Q1311.45 1512.95 1307.31 1512.95 Q1299.16 1512.95 1294.83 1517.95 Q1290.5 1522.91 1290.5 1532.33 Q1290.5 1541.72 1294.83 1546.72 Q1299.16 1551.68 1307.31 1551.68 Q1311.45 1551.68 1315.11 1550.19 Q1318.8 1548.69 1322.05 1545.67 L1322.05 1552.38 Q1318.67 1554.68 1314.89 1555.82 Q1311.13 1556.97 1306.93 1556.97 Q1296.14 1556.97 1289.93 1550.38 Q1283.73 1543.76 1283.73 1532.33 Q1283.73 1520.87 1289.93 1514.28 Q1296.14 1507.66 1306.93 1507.66 Q1311.19 1507.66 1314.95 1508.81 Q1318.74 1509.92 1322.05 1512.18 Z\" fill=\"#000000\" fill-rule=\"evenodd\" fill-opacity=\"1\" /><path clip-path=\"url(#clip680)\" d=\"M 0 0 M1328.19 1506.52 L1334.05 1506.52 L1334.05 1556.04 L1328.19 1556.04 L1328.19 1506.52 Z\" fill=\"#000000\" fill-rule=\"evenodd\" fill-opacity=\"1\" /><path clip-path=\"url(#clip680)\" d=\"M 0 0 M1339.58 1541.98 L1339.58 1520.4 L1345.44 1520.4 L1345.44 1541.75 Q1345.44 1546.81 1347.41 1549.36 Q1349.39 1551.87 1353.33 1551.87 Q1358.08 1551.87 1360.81 1548.85 Q1363.58 1545.83 1363.58 1540.61 L1363.58 1520.4 L1369.44 1520.4 L1369.44 1556.04 L1363.58 1556.04 L1363.58 1550.57 Q1361.45 1553.82 1358.62 1555.41 Q1355.82 1556.97 1352.09 1556.97 Q1345.95 1556.97 1342.77 1553.15 Q1339.58 1549.33 1339.58 1541.98 M1354.32 1519.54 L1354.32 1519.54 Z\" fill=\"#000000\" fill-rule=\"evenodd\" fill-opacity=\"1\" /><path clip-path=\"url(#clip680)\" d=\"M 0 0 M1398.31 1521.45 L1398.31 1526.98 Q1395.83 1525.71 1393.15 1525.07 Q1390.48 1524.44 1387.61 1524.44 Q1383.25 1524.44 1381.06 1525.77 Q1378.89 1527.11 1378.89 1529.79 Q1378.89 1531.82 1380.45 1533 Q1382.01 1534.15 1386.72 1535.2 L1388.73 1535.64 Q1394.97 1536.98 1397.58 1539.43 Q1400.22 1541.85 1400.22 1546.21 Q1400.22 1551.17 1396.27 1554.07 Q1392.36 1556.97 1385.48 1556.97 Q1382.62 1556.97 1379.5 1556.39 Q1376.41 1555.85 1372.97 1554.74 L1372.97 1548.69 Q1376.22 1550.38 1379.37 1551.24 Q1382.52 1552.07 1385.61 1552.07 Q1389.75 1552.07 1391.97 1550.66 Q1394.2 1549.23 1394.2 1546.65 Q1394.2 1544.27 1392.58 1542.99 Q1390.99 1541.72 1385.54 1540.54 L1383.51 1540.07 Q1378.07 1538.92 1375.65 1536.56 Q1373.23 1534.18 1373.23 1530.04 Q1373.23 1525.01 1376.79 1522.27 Q1380.36 1519.54 1386.91 1519.54 Q1390.16 1519.54 1393.02 1520.01 Q1395.89 1520.49 1398.31 1521.45 Z\" fill=\"#000000\" fill-rule=\"evenodd\" fill-opacity=\"1\" /><path clip-path=\"url(#clip680)\" d=\"M 0 0 M1412.15 1510.27 L1412.15 1520.4 L1424.22 1520.4 L1424.22 1524.95 L1412.15 1524.95 L1412.15 1544.3 Q1412.15 1548.66 1413.33 1549.9 Q1414.54 1551.14 1418.2 1551.14 L1424.22 1551.14 L1424.22 1556.04 L1418.2 1556.04 Q1411.42 1556.04 1408.84 1553.53 Q1406.27 1550.98 1406.27 1544.3 L1406.27 1524.95 L1401.97 1524.95 L1401.97 1520.4 L1406.27 1520.4 L1406.27 1510.27 L1412.15 1510.27 Z\" fill=\"#000000\" fill-rule=\"evenodd\" fill-opacity=\"1\" /><path clip-path=\"url(#clip680)\" d=\"M 0 0 M1460.85 1536.76 L1460.85 1539.62 L1433.92 1539.62 Q1434.31 1545.67 1437.55 1548.85 Q1440.83 1552 1446.66 1552 Q1450.03 1552 1453.18 1551.17 Q1456.36 1550.35 1459.48 1548.69 L1459.48 1554.23 Q1456.33 1555.57 1453.02 1556.27 Q1449.71 1556.97 1446.31 1556.97 Q1437.78 1556.97 1432.78 1552 Q1427.81 1547.04 1427.81 1538.57 Q1427.81 1529.82 1432.52 1524.69 Q1437.27 1519.54 1445.29 1519.54 Q1452.48 1519.54 1456.65 1524.18 Q1460.85 1528.8 1460.85 1536.76 M1454.99 1535.04 Q1454.93 1530.23 1452.29 1527.37 Q1449.68 1524.5 1445.35 1524.5 Q1440.45 1524.5 1437.49 1527.27 Q1434.56 1530.04 1434.12 1535.07 L1454.99 1535.04 Z\" fill=\"#000000\" fill-rule=\"evenodd\" fill-opacity=\"1\" /><path clip-path=\"url(#clip680)\" d=\"M 0 0 M1487.65 1525.87 Q1486.66 1525.3 1485.49 1525.04 Q1484.34 1524.76 1482.94 1524.76 Q1477.97 1524.76 1475.3 1528 Q1472.66 1531.22 1472.66 1537.27 L1472.66 1556.04 L1466.77 1556.04 L1466.77 1520.4 L1472.66 1520.4 L1472.66 1525.93 Q1474.51 1522.69 1477.47 1521.13 Q1480.43 1519.54 1484.66 1519.54 Q1485.26 1519.54 1486 1519.63 Q1486.73 1519.7 1487.62 1519.85 L1487.65 1525.87 Z\" fill=\"#000000\" fill-rule=\"evenodd\" fill-opacity=\"1\" /><path clip-path=\"url(#clip680)\" d=\"M 0 0 M1516.52 1521.45 L1516.52 1526.98 Q1514.04 1525.71 1511.36 1525.07 Q1508.69 1524.44 1505.82 1524.44 Q1501.46 1524.44 1499.27 1525.77 Q1497.1 1527.11 1497.1 1529.79 Q1497.1 1531.82 1498.66 1533 Q1500.22 1534.15 1504.93 1535.2 L1506.94 1535.64 Q1513.18 1536.98 1515.79 1539.43 Q1518.43 1541.85 1518.43 1546.21 Q1518.43 1551.17 1514.48 1554.07 Q1510.57 1556.97 1503.69 1556.97 Q1500.83 1556.97 1497.71 1556.39 Q1494.62 1555.85 1491.18 1554.74 L1491.18 1548.69 Q1494.43 1550.38 1497.58 1551.24 Q1500.73 1552.07 1503.82 1552.07 Q1507.96 1552.07 1510.19 1550.66 Q1512.41 1549.23 1512.41 1546.65 Q1512.41 1544.27 1510.79 1542.99 Q1509.2 1541.72 1503.76 1540.54 L1501.72 1540.07 Q1496.28 1538.92 1493.86 1536.56 Q1491.44 1534.18 1491.44 1530.04 Q1491.44 1525.01 1495 1522.27 Q1498.57 1519.54 1505.12 1519.54 Q1508.37 1519.54 1511.24 1520.01 Q1514.1 1520.49 1516.52 1521.45 Z\" fill=\"#000000\" fill-rule=\"evenodd\" fill-opacity=\"1\" /><polyline clip-path=\"url(#clip682)\" style=\"stroke:#000000; stroke-width:2; stroke-opacity:0.1; fill:none\" points=\"\n",
       "  217.478,1420.67 2248.5,1420.67 \n",
       "  \"/>\n",
       "<polyline clip-path=\"url(#clip682)\" style=\"stroke:#000000; stroke-width:2; stroke-opacity:0.1; fill:none\" points=\"\n",
       "  217.478,1125.29 2248.5,1125.29 \n",
       "  \"/>\n",
       "<polyline clip-path=\"url(#clip682)\" style=\"stroke:#000000; stroke-width:2; stroke-opacity:0.1; fill:none\" points=\"\n",
       "  217.478,829.906 2248.5,829.906 \n",
       "  \"/>\n",
       "<polyline clip-path=\"url(#clip682)\" style=\"stroke:#000000; stroke-width:2; stroke-opacity:0.1; fill:none\" points=\"\n",
       "  217.478,534.527 2248.5,534.527 \n",
       "  \"/>\n",
       "<polyline clip-path=\"url(#clip682)\" style=\"stroke:#000000; stroke-width:2; stroke-opacity:0.1; fill:none\" points=\"\n",
       "  217.478,239.147 2248.5,239.147 \n",
       "  \"/>\n",
       "<polyline clip-path=\"url(#clip680)\" style=\"stroke:#000000; stroke-width:4; stroke-opacity:1; fill:none\" points=\"\n",
       "  217.478,1423.18 217.478,47.2441 \n",
       "  \"/>\n",
       "<polyline clip-path=\"url(#clip680)\" style=\"stroke:#000000; stroke-width:4; stroke-opacity:1; fill:none\" points=\"\n",
       "  217.478,1420.67 241.85,1420.67 \n",
       "  \"/>\n",
       "<polyline clip-path=\"url(#clip680)\" style=\"stroke:#000000; stroke-width:4; stroke-opacity:1; fill:none\" points=\"\n",
       "  217.478,1125.29 241.85,1125.29 \n",
       "  \"/>\n",
       "<polyline clip-path=\"url(#clip680)\" style=\"stroke:#000000; stroke-width:4; stroke-opacity:1; fill:none\" points=\"\n",
       "  217.478,829.906 241.85,829.906 \n",
       "  \"/>\n",
       "<polyline clip-path=\"url(#clip680)\" style=\"stroke:#000000; stroke-width:4; stroke-opacity:1; fill:none\" points=\"\n",
       "  217.478,534.527 241.85,534.527 \n",
       "  \"/>\n",
       "<polyline clip-path=\"url(#clip680)\" style=\"stroke:#000000; stroke-width:4; stroke-opacity:1; fill:none\" points=\"\n",
       "  217.478,239.147 241.85,239.147 \n",
       "  \"/>\n",
       "<path clip-path=\"url(#clip680)\" d=\"M 0 0 M53.6079 1434.01 L61.2467 1434.01 L61.2467 1407.64 L52.9366 1409.31 L52.9366 1405.05 L61.2004 1403.39 L65.8763 1403.39 L65.8763 1434.01 L73.5152 1434.01 L73.5152 1437.95 L53.6079 1437.95 L53.6079 1434.01 Z\" fill=\"#000000\" fill-rule=\"evenodd\" fill-opacity=\"1\" /><path clip-path=\"url(#clip680)\" d=\"M 0 0 M88.5845 1421.53 Q85.2512 1421.53 83.3299 1423.32 Q81.4318 1425.1 81.4318 1428.22 Q81.4318 1431.35 83.3299 1433.13 Q85.2512 1434.91 88.5845 1434.91 Q91.9178 1434.91 93.8391 1433.13 Q95.7604 1431.33 95.7604 1428.22 Q95.7604 1425.1 93.8391 1423.32 Q91.941 1421.53 88.5845 1421.53 M83.9086 1419.54 Q80.8994 1418.8 79.2096 1416.74 Q77.5429 1414.68 77.5429 1411.72 Q77.5429 1407.58 80.4827 1405.17 Q83.4457 1402.76 88.5845 1402.76 Q93.7465 1402.76 96.6863 1405.17 Q99.6261 1407.58 99.6261 1411.72 Q99.6261 1414.68 97.9363 1416.74 Q96.2697 1418.8 93.2836 1419.54 Q96.6632 1420.33 98.5382 1422.62 Q100.436 1424.91 100.436 1428.22 Q100.436 1433.25 97.3576 1435.93 Q94.3021 1438.62 88.5845 1438.62 Q82.867 1438.62 79.7883 1435.93 Q76.7327 1433.25 76.7327 1428.22 Q76.7327 1424.91 78.6309 1422.62 Q80.529 1420.33 83.9086 1419.54 M82.1957 1412.16 Q82.1957 1414.84 83.8623 1416.35 Q85.5521 1417.85 88.5845 1417.85 Q91.5938 1417.85 93.2836 1416.35 Q94.9965 1414.84 94.9965 1412.16 Q94.9965 1409.47 93.2836 1407.97 Q91.5938 1406.46 88.5845 1406.46 Q85.5521 1406.46 83.8623 1407.97 Q82.1957 1409.47 82.1957 1412.16 Z\" fill=\"#000000\" fill-rule=\"evenodd\" fill-opacity=\"1\" /><path clip-path=\"url(#clip680)\" d=\"M 0 0 M115.506 1406.46 Q111.895 1406.46 110.066 1410.03 Q108.26 1413.57 108.26 1420.7 Q108.26 1427.81 110.066 1431.37 Q111.895 1434.91 115.506 1434.91 Q119.14 1434.91 120.945 1431.37 Q122.774 1427.81 122.774 1420.7 Q122.774 1413.57 120.945 1410.03 Q119.14 1406.46 115.506 1406.46 M115.506 1402.76 Q121.316 1402.76 124.371 1407.37 Q127.45 1411.95 127.45 1420.7 Q127.45 1429.43 124.371 1434.03 Q121.316 1438.62 115.506 1438.62 Q109.696 1438.62 106.617 1434.03 Q103.561 1429.43 103.561 1420.7 Q103.561 1411.95 106.617 1407.37 Q109.696 1402.76 115.506 1402.76 Z\" fill=\"#000000\" fill-rule=\"evenodd\" fill-opacity=\"1\" /><path clip-path=\"url(#clip680)\" d=\"M 0 0 M142.519 1406.46 Q138.908 1406.46 137.08 1410.03 Q135.274 1413.57 135.274 1420.7 Q135.274 1427.81 137.08 1431.37 Q138.908 1434.91 142.519 1434.91 Q146.154 1434.91 147.959 1431.37 Q149.788 1427.81 149.788 1420.7 Q149.788 1413.57 147.959 1410.03 Q146.154 1406.46 142.519 1406.46 M142.519 1402.76 Q148.33 1402.76 151.385 1407.37 Q154.464 1411.95 154.464 1420.7 Q154.464 1429.43 151.385 1434.03 Q148.33 1438.62 142.519 1438.62 Q136.709 1438.62 133.631 1434.03 Q130.575 1429.43 130.575 1420.7 Q130.575 1411.95 133.631 1407.37 Q136.709 1402.76 142.519 1402.76 Z\" fill=\"#000000\" fill-rule=\"evenodd\" fill-opacity=\"1\" /><path clip-path=\"url(#clip680)\" d=\"M 0 0 M169.533 1406.46 Q165.922 1406.46 164.093 1410.03 Q162.288 1413.57 162.288 1420.7 Q162.288 1427.81 164.093 1431.37 Q165.922 1434.91 169.533 1434.91 Q173.167 1434.91 174.973 1431.37 Q176.802 1427.81 176.802 1420.7 Q176.802 1413.57 174.973 1410.03 Q173.167 1406.46 169.533 1406.46 M169.533 1402.76 Q175.343 1402.76 178.399 1407.37 Q181.478 1411.95 181.478 1420.7 Q181.478 1429.43 178.399 1434.03 Q175.343 1438.62 169.533 1438.62 Q163.723 1438.62 160.644 1434.03 Q157.589 1429.43 157.589 1420.7 Q157.589 1411.95 160.644 1407.37 Q163.723 1402.76 169.533 1402.76 Z\" fill=\"#000000\" fill-rule=\"evenodd\" fill-opacity=\"1\" /><path clip-path=\"url(#clip680)\" d=\"M 0 0 M57.1032 1138.63 L73.4226 1138.63 L73.4226 1142.57 L51.4782 1142.57 L51.4782 1138.63 Q54.1403 1135.88 58.7236 1131.25 Q63.33 1126.59 64.5106 1125.25 Q66.7559 1122.73 67.6356 1120.99 Q68.5383 1119.23 68.5383 1117.54 Q68.5383 1114.79 66.5939 1113.05 Q64.6726 1111.32 61.5708 1111.32 Q59.3717 1111.32 56.918 1112.08 Q54.4875 1112.84 51.7097 1114.39 L51.7097 1109.67 Q54.5338 1108.54 56.9875 1107.96 Q59.4412 1107.38 61.4782 1107.38 Q66.8485 1107.38 70.0429 1110.07 Q73.2374 1112.75 73.2374 1117.24 Q73.2374 1119.37 72.4272 1121.29 Q71.6402 1123.19 69.5337 1125.78 Q68.955 1126.45 65.8532 1129.67 Q62.7513 1132.87 57.1032 1138.63 Z\" fill=\"#000000\" fill-rule=\"evenodd\" fill-opacity=\"1\" /><path clip-path=\"url(#clip680)\" d=\"M 0 0 M88.4919 1111.08 Q84.8808 1111.08 83.0521 1114.65 Q81.2466 1118.19 81.2466 1125.32 Q81.2466 1132.43 83.0521 1135.99 Q84.8808 1139.53 88.4919 1139.53 Q92.1262 1139.53 93.9317 1135.99 Q95.7604 1132.43 95.7604 1125.32 Q95.7604 1118.19 93.9317 1114.65 Q92.1262 1111.08 88.4919 1111.08 M88.4919 1107.38 Q94.3021 1107.38 97.3576 1111.99 Q100.436 1116.57 100.436 1125.32 Q100.436 1134.05 97.3576 1138.65 Q94.3021 1143.24 88.4919 1143.24 Q82.6818 1143.24 79.6031 1138.65 Q76.5475 1134.05 76.5475 1125.32 Q76.5475 1116.57 79.6031 1111.99 Q82.6818 1107.38 88.4919 1107.38 Z\" fill=\"#000000\" fill-rule=\"evenodd\" fill-opacity=\"1\" /><path clip-path=\"url(#clip680)\" d=\"M 0 0 M115.506 1111.08 Q111.895 1111.08 110.066 1114.65 Q108.26 1118.19 108.26 1125.32 Q108.26 1132.43 110.066 1135.99 Q111.895 1139.53 115.506 1139.53 Q119.14 1139.53 120.945 1135.99 Q122.774 1132.43 122.774 1125.32 Q122.774 1118.19 120.945 1114.65 Q119.14 1111.08 115.506 1111.08 M115.506 1107.38 Q121.316 1107.38 124.371 1111.99 Q127.45 1116.57 127.45 1125.32 Q127.45 1134.05 124.371 1138.65 Q121.316 1143.24 115.506 1143.24 Q109.696 1143.24 106.617 1138.65 Q103.561 1134.05 103.561 1125.32 Q103.561 1116.57 106.617 1111.99 Q109.696 1107.38 115.506 1107.38 Z\" fill=\"#000000\" fill-rule=\"evenodd\" fill-opacity=\"1\" /><path clip-path=\"url(#clip680)\" d=\"M 0 0 M142.519 1111.08 Q138.908 1111.08 137.08 1114.65 Q135.274 1118.19 135.274 1125.32 Q135.274 1132.43 137.08 1135.99 Q138.908 1139.53 142.519 1139.53 Q146.154 1139.53 147.959 1135.99 Q149.788 1132.43 149.788 1125.32 Q149.788 1118.19 147.959 1114.65 Q146.154 1111.08 142.519 1111.08 M142.519 1107.38 Q148.33 1107.38 151.385 1111.99 Q154.464 1116.57 154.464 1125.32 Q154.464 1134.05 151.385 1138.65 Q148.33 1143.24 142.519 1143.24 Q136.709 1143.24 133.631 1138.65 Q130.575 1134.05 130.575 1125.32 Q130.575 1116.57 133.631 1111.99 Q136.709 1107.38 142.519 1107.38 Z\" fill=\"#000000\" fill-rule=\"evenodd\" fill-opacity=\"1\" /><path clip-path=\"url(#clip680)\" d=\"M 0 0 M169.533 1111.08 Q165.922 1111.08 164.093 1114.65 Q162.288 1118.19 162.288 1125.32 Q162.288 1132.43 164.093 1135.99 Q165.922 1139.53 169.533 1139.53 Q173.167 1139.53 174.973 1135.99 Q176.802 1132.43 176.802 1125.32 Q176.802 1118.19 174.973 1114.65 Q173.167 1111.08 169.533 1111.08 M169.533 1107.38 Q175.343 1107.38 178.399 1111.99 Q181.478 1116.57 181.478 1125.32 Q181.478 1134.05 178.399 1138.65 Q175.343 1143.24 169.533 1143.24 Q163.723 1143.24 160.644 1138.65 Q157.589 1134.05 157.589 1125.32 Q157.589 1116.57 160.644 1111.99 Q163.723 1107.38 169.533 1107.38 Z\" fill=\"#000000\" fill-rule=\"evenodd\" fill-opacity=\"1\" /><path clip-path=\"url(#clip680)\" d=\"M 0 0 M58.7004 843.251 L75.0198 843.251 L75.0198 847.186 L53.0754 847.186 L53.0754 843.251 Q55.7375 840.496 60.3208 835.867 Q64.9272 831.214 66.1078 829.872 Q68.3531 827.348 69.2328 825.612 Q70.1355 823.853 70.1355 822.163 Q70.1355 819.409 68.1911 817.672 Q66.2698 815.936 63.168 815.936 Q60.9689 815.936 58.5152 816.7 Q56.0847 817.464 53.3069 819.015 L53.3069 814.293 Q56.131 813.159 58.5847 812.58 Q61.0384 812.001 63.0754 812.001 Q68.4457 812.001 71.6402 814.686 Q74.8346 817.372 74.8346 821.862 Q74.8346 823.992 74.0244 825.913 Q73.2374 827.811 71.1309 830.404 Q70.5522 831.075 67.4504 834.293 Q64.3485 837.487 58.7004 843.251 Z\" fill=\"#000000\" fill-rule=\"evenodd\" fill-opacity=\"1\" /><path clip-path=\"url(#clip680)\" d=\"M 0 0 M84.1169 843.251 L100.436 843.251 L100.436 847.186 L78.492 847.186 L78.492 843.251 Q81.154 840.496 85.7373 835.867 Q90.3438 831.214 91.5243 829.872 Q93.7697 827.348 94.6493 825.612 Q95.5521 823.853 95.5521 822.163 Q95.5521 819.409 93.6076 817.672 Q91.6864 815.936 88.5845 815.936 Q86.3855 815.936 83.9318 816.7 Q81.5012 817.464 78.7235 819.015 L78.7235 814.293 Q81.5475 813.159 84.0012 812.58 Q86.4549 812.001 88.4919 812.001 Q93.8623 812.001 97.0567 814.686 Q100.251 817.372 100.251 821.862 Q100.251 823.992 99.4409 825.913 Q98.6539 827.811 96.5474 830.404 Q95.9687 831.075 92.8669 834.293 Q89.7651 837.487 84.1169 843.251 Z\" fill=\"#000000\" fill-rule=\"evenodd\" fill-opacity=\"1\" /><path clip-path=\"url(#clip680)\" d=\"M 0 0 M115.506 815.705 Q111.895 815.705 110.066 819.27 Q108.26 822.811 108.26 829.941 Q108.26 837.047 110.066 840.612 Q111.895 844.154 115.506 844.154 Q119.14 844.154 120.945 840.612 Q122.774 837.047 122.774 829.941 Q122.774 822.811 120.945 819.27 Q119.14 815.705 115.506 815.705 M115.506 812.001 Q121.316 812.001 124.371 816.608 Q127.45 821.191 127.45 829.941 Q127.45 838.668 124.371 843.274 Q121.316 847.858 115.506 847.858 Q109.696 847.858 106.617 843.274 Q103.561 838.668 103.561 829.941 Q103.561 821.191 106.617 816.608 Q109.696 812.001 115.506 812.001 Z\" fill=\"#000000\" fill-rule=\"evenodd\" fill-opacity=\"1\" /><path clip-path=\"url(#clip680)\" d=\"M 0 0 M142.519 815.705 Q138.908 815.705 137.08 819.27 Q135.274 822.811 135.274 829.941 Q135.274 837.047 137.08 840.612 Q138.908 844.154 142.519 844.154 Q146.154 844.154 147.959 840.612 Q149.788 837.047 149.788 829.941 Q149.788 822.811 147.959 819.27 Q146.154 815.705 142.519 815.705 M142.519 812.001 Q148.33 812.001 151.385 816.608 Q154.464 821.191 154.464 829.941 Q154.464 838.668 151.385 843.274 Q148.33 847.858 142.519 847.858 Q136.709 847.858 133.631 843.274 Q130.575 838.668 130.575 829.941 Q130.575 821.191 133.631 816.608 Q136.709 812.001 142.519 812.001 Z\" fill=\"#000000\" fill-rule=\"evenodd\" fill-opacity=\"1\" /><path clip-path=\"url(#clip680)\" d=\"M 0 0 M169.533 815.705 Q165.922 815.705 164.093 819.27 Q162.288 822.811 162.288 829.941 Q162.288 837.047 164.093 840.612 Q165.922 844.154 169.533 844.154 Q173.167 844.154 174.973 840.612 Q176.802 837.047 176.802 829.941 Q176.802 822.811 174.973 819.27 Q173.167 815.705 169.533 815.705 M169.533 812.001 Q175.343 812.001 178.399 816.608 Q181.478 821.191 181.478 829.941 Q181.478 838.668 178.399 843.274 Q175.343 847.858 169.533 847.858 Q163.723 847.858 160.644 843.274 Q157.589 838.668 157.589 829.941 Q157.589 821.191 160.644 816.608 Q163.723 812.001 169.533 812.001 Z\" fill=\"#000000\" fill-rule=\"evenodd\" fill-opacity=\"1\" /><path clip-path=\"url(#clip680)\" d=\"M 0 0 M56.6171 547.871 L72.9365 547.871 L72.9365 551.807 L50.9921 551.807 L50.9921 547.871 Q53.6541 545.117 58.2375 540.487 Q62.8439 535.834 64.0245 534.492 Q66.2698 531.969 67.1494 530.233 Q68.0522 528.473 68.0522 526.784 Q68.0522 524.029 66.1078 522.293 Q64.1865 520.557 61.0847 520.557 Q58.8856 520.557 56.4319 521.321 Q54.0014 522.085 51.2236 523.635 L51.2236 518.913 Q54.0477 517.779 56.5014 517.2 Q58.955 516.622 60.9921 516.622 Q66.3624 516.622 69.5568 519.307 Q72.7513 521.992 72.7513 526.483 Q72.7513 528.612 71.9411 530.534 Q71.1541 532.432 69.0476 535.024 Q68.4689 535.696 65.367 538.913 Q62.2652 542.108 56.6171 547.871 Z\" fill=\"#000000\" fill-rule=\"evenodd\" fill-opacity=\"1\" /><path clip-path=\"url(#clip680)\" d=\"M 0 0 M90.853 521.321 L79.0475 539.77 L90.853 539.77 L90.853 521.321 M89.6262 517.247 L95.5058 517.247 L95.5058 539.77 L100.436 539.77 L100.436 543.658 L95.5058 543.658 L95.5058 551.807 L90.853 551.807 L90.853 543.658 L75.2513 543.658 L75.2513 539.145 L89.6262 517.247 Z\" fill=\"#000000\" fill-rule=\"evenodd\" fill-opacity=\"1\" /><path clip-path=\"url(#clip680)\" d=\"M 0 0 M115.506 520.325 Q111.895 520.325 110.066 523.89 Q108.26 527.432 108.26 534.561 Q108.26 541.668 110.066 545.233 Q111.895 548.774 115.506 548.774 Q119.14 548.774 120.945 545.233 Q122.774 541.668 122.774 534.561 Q122.774 527.432 120.945 523.89 Q119.14 520.325 115.506 520.325 M115.506 516.622 Q121.316 516.622 124.371 521.228 Q127.45 525.811 127.45 534.561 Q127.45 543.288 124.371 547.895 Q121.316 552.478 115.506 552.478 Q109.696 552.478 106.617 547.895 Q103.561 543.288 103.561 534.561 Q103.561 525.811 106.617 521.228 Q109.696 516.622 115.506 516.622 Z\" fill=\"#000000\" fill-rule=\"evenodd\" fill-opacity=\"1\" /><path clip-path=\"url(#clip680)\" d=\"M 0 0 M142.519 520.325 Q138.908 520.325 137.08 523.89 Q135.274 527.432 135.274 534.561 Q135.274 541.668 137.08 545.233 Q138.908 548.774 142.519 548.774 Q146.154 548.774 147.959 545.233 Q149.788 541.668 149.788 534.561 Q149.788 527.432 147.959 523.89 Q146.154 520.325 142.519 520.325 M142.519 516.622 Q148.33 516.622 151.385 521.228 Q154.464 525.811 154.464 534.561 Q154.464 543.288 151.385 547.895 Q148.33 552.478 142.519 552.478 Q136.709 552.478 133.631 547.895 Q130.575 543.288 130.575 534.561 Q130.575 525.811 133.631 521.228 Q136.709 516.622 142.519 516.622 Z\" fill=\"#000000\" fill-rule=\"evenodd\" fill-opacity=\"1\" /><path clip-path=\"url(#clip680)\" d=\"M 0 0 M169.533 520.325 Q165.922 520.325 164.093 523.89 Q162.288 527.432 162.288 534.561 Q162.288 541.668 164.093 545.233 Q165.922 548.774 169.533 548.774 Q173.167 548.774 174.973 545.233 Q176.802 541.668 176.802 534.561 Q176.802 527.432 174.973 523.89 Q173.167 520.325 169.533 520.325 M169.533 516.622 Q175.343 516.622 178.399 521.228 Q181.478 525.811 181.478 534.561 Q181.478 543.288 178.399 547.895 Q175.343 552.478 169.533 552.478 Q163.723 552.478 160.644 547.895 Q157.589 543.288 157.589 534.561 Q157.589 525.811 160.644 521.228 Q163.723 516.622 169.533 516.622 Z\" fill=\"#000000\" fill-rule=\"evenodd\" fill-opacity=\"1\" /><path clip-path=\"url(#clip680)\" d=\"M 0 0 M56.9412 252.492 L73.2605 252.492 L73.2605 256.427 L51.3162 256.427 L51.3162 252.492 Q53.9782 249.737 58.5615 245.108 Q63.168 240.455 64.3485 239.112 Q66.5939 236.589 67.4735 234.853 Q68.3763 233.094 68.3763 231.404 Q68.3763 228.649 66.4319 226.913 Q64.5106 225.177 61.4087 225.177 Q59.2097 225.177 56.756 225.941 Q54.3254 226.705 51.5477 228.256 L51.5477 223.534 Q54.3717 222.399 56.8254 221.821 Q59.2791 221.242 61.3161 221.242 Q66.6865 221.242 69.8809 223.927 Q73.0753 226.612 73.0753 231.103 Q73.0753 233.233 72.2652 235.154 Q71.4781 237.052 69.3717 239.645 Q68.793 240.316 65.6911 243.534 Q62.5893 246.728 56.9412 252.492 Z\" fill=\"#000000\" fill-rule=\"evenodd\" fill-opacity=\"1\" /><path clip-path=\"url(#clip680)\" d=\"M 0 0 M88.9086 237.284 Q85.7605 237.284 83.9086 239.436 Q82.0799 241.589 82.0799 245.339 Q82.0799 249.066 83.9086 251.242 Q85.7605 253.395 88.9086 253.395 Q92.0567 253.395 93.8854 251.242 Q95.7373 249.066 95.7373 245.339 Q95.7373 241.589 93.8854 239.436 Q92.0567 237.284 88.9086 237.284 M98.1909 222.631 L98.1909 226.89 Q96.4317 226.057 94.6262 225.617 Q92.8438 225.177 91.0845 225.177 Q86.4549 225.177 84.0012 228.302 Q81.5707 231.427 81.2234 237.747 Q82.5892 235.733 84.6494 234.668 Q86.7095 233.58 89.1864 233.58 Q94.3947 233.58 97.4039 236.751 Q100.436 239.899 100.436 245.339 Q100.436 250.663 97.2882 253.881 Q94.14 257.098 88.9086 257.098 Q82.9133 257.098 79.742 252.515 Q76.5707 247.908 76.5707 239.182 Q76.5707 230.987 80.4596 226.126 Q84.3484 221.242 90.8993 221.242 Q92.6586 221.242 94.441 221.589 Q96.2465 221.936 98.1909 222.631 Z\" fill=\"#000000\" fill-rule=\"evenodd\" fill-opacity=\"1\" /><path clip-path=\"url(#clip680)\" d=\"M 0 0 M115.506 224.946 Q111.895 224.946 110.066 228.51 Q108.26 232.052 108.26 239.182 Q108.26 246.288 110.066 249.853 Q111.895 253.395 115.506 253.395 Q119.14 253.395 120.945 249.853 Q122.774 246.288 122.774 239.182 Q122.774 232.052 120.945 228.51 Q119.14 224.946 115.506 224.946 M115.506 221.242 Q121.316 221.242 124.371 225.848 Q127.45 230.432 127.45 239.182 Q127.45 247.908 124.371 252.515 Q121.316 257.098 115.506 257.098 Q109.696 257.098 106.617 252.515 Q103.561 247.908 103.561 239.182 Q103.561 230.432 106.617 225.848 Q109.696 221.242 115.506 221.242 Z\" fill=\"#000000\" fill-rule=\"evenodd\" fill-opacity=\"1\" /><path clip-path=\"url(#clip680)\" d=\"M 0 0 M142.519 224.946 Q138.908 224.946 137.08 228.51 Q135.274 232.052 135.274 239.182 Q135.274 246.288 137.08 249.853 Q138.908 253.395 142.519 253.395 Q146.154 253.395 147.959 249.853 Q149.788 246.288 149.788 239.182 Q149.788 232.052 147.959 228.51 Q146.154 224.946 142.519 224.946 M142.519 221.242 Q148.33 221.242 151.385 225.848 Q154.464 230.432 154.464 239.182 Q154.464 247.908 151.385 252.515 Q148.33 257.098 142.519 257.098 Q136.709 257.098 133.631 252.515 Q130.575 247.908 130.575 239.182 Q130.575 230.432 133.631 225.848 Q136.709 221.242 142.519 221.242 Z\" fill=\"#000000\" fill-rule=\"evenodd\" fill-opacity=\"1\" /><path clip-path=\"url(#clip680)\" d=\"M 0 0 M169.533 224.946 Q165.922 224.946 164.093 228.51 Q162.288 232.052 162.288 239.182 Q162.288 246.288 164.093 249.853 Q165.922 253.395 169.533 253.395 Q173.167 253.395 174.973 249.853 Q176.802 246.288 176.802 239.182 Q176.802 232.052 174.973 228.51 Q173.167 224.946 169.533 224.946 M169.533 221.242 Q175.343 221.242 178.399 225.848 Q181.478 230.432 181.478 239.182 Q181.478 247.908 178.399 252.515 Q175.343 257.098 169.533 257.098 Q163.723 257.098 160.644 252.515 Q157.589 247.908 157.589 239.182 Q157.589 230.432 160.644 225.848 Q163.723 221.242 169.533 221.242 Z\" fill=\"#000000\" fill-rule=\"evenodd\" fill-opacity=\"1\" /><polyline clip-path=\"url(#clip682)\" style=\"stroke:#008000; stroke-width:8; stroke-opacity:1; fill:none\" points=\"\n",
       "  274.959,86.1857 594.303,311.092 913.647,599.881 1232.99,884.74 1552.33,969.723 1871.68,1292.78 2191.02,1384.24 \n",
       "  \"/>\n",
       "<path clip-path=\"url(#clip680)\" d=\"\n",
       "M285.178 1377.32 L924.04 1377.32 L924.04 1256.36 L285.178 1256.36  Z\n",
       "  \" fill=\"#ffffff\" fill-rule=\"evenodd\" fill-opacity=\"1\"/>\n",
       "<polyline clip-path=\"url(#clip680)\" style=\"stroke:#000000; stroke-width:4; stroke-opacity:1; fill:none\" points=\"\n",
       "  285.178,1377.32 924.04,1377.32 924.04,1256.36 285.178,1256.36 285.178,1377.32 \n",
       "  \"/>\n",
       "<polyline clip-path=\"url(#clip680)\" style=\"stroke:#008000; stroke-width:4; stroke-opacity:1; fill:none\" points=\"\n",
       "  307.745,1316.84 443.147,1316.84 \n",
       "  \"/>\n",
       "<path clip-path=\"url(#clip680)\" d=\"M 0 0 M465.714 1299.56 L494.95 1299.56 L494.95 1303.49 L482.682 1303.49 L482.682 1334.12 L477.983 1334.12 L477.983 1303.49 L465.714 1303.49 L465.714 1299.56 Z\" fill=\"#000000\" fill-rule=\"evenodd\" fill-opacity=\"1\" /><path clip-path=\"url(#clip680)\" d=\"M 0 0 M501.408 1311.18 Q497.982 1311.18 495.992 1313.86 Q494.001 1316.52 494.001 1321.18 Q494.001 1325.83 495.969 1328.51 Q497.959 1331.18 501.408 1331.18 Q504.811 1331.18 506.802 1328.49 Q508.793 1325.81 508.793 1321.18 Q508.793 1316.57 506.802 1313.88 Q504.811 1311.18 501.408 1311.18 M501.408 1307.56 Q506.964 1307.56 510.135 1311.18 Q513.306 1314.79 513.306 1321.18 Q513.306 1327.54 510.135 1331.18 Q506.964 1334.79 501.408 1334.79 Q495.83 1334.79 492.658 1331.18 Q489.51 1327.54 489.51 1321.18 Q489.51 1314.79 492.658 1311.18 Q495.83 1307.56 501.408 1307.56 Z\" fill=\"#000000\" fill-rule=\"evenodd\" fill-opacity=\"1\" /><path clip-path=\"url(#clip680)\" d=\"M 0 0 M521.987 1300.83 L521.987 1308.19 L530.76 1308.19 L530.76 1311.5 L521.987 1311.5 L521.987 1325.57 Q521.987 1328.74 522.843 1329.65 Q523.723 1330.55 526.385 1330.55 L530.76 1330.55 L530.76 1334.12 L526.385 1334.12 Q521.455 1334.12 519.58 1332.29 Q517.705 1330.43 517.705 1325.57 L517.705 1311.5 L514.58 1311.5 L514.58 1308.19 L517.705 1308.19 L517.705 1300.83 L521.987 1300.83 Z\" fill=\"#000000\" fill-rule=\"evenodd\" fill-opacity=\"1\" /><path clip-path=\"url(#clip680)\" d=\"M 0 0 M547.01 1321.08 Q541.848 1321.08 539.857 1322.26 Q537.866 1323.44 537.866 1326.29 Q537.866 1328.56 539.348 1329.9 Q540.853 1331.22 543.422 1331.22 Q546.964 1331.22 549.093 1328.72 Q551.246 1326.2 551.246 1322.03 L551.246 1321.08 L547.01 1321.08 M555.505 1319.32 L555.505 1334.12 L551.246 1334.12 L551.246 1330.18 Q549.788 1332.54 547.612 1333.68 Q545.436 1334.79 542.288 1334.79 Q538.306 1334.79 535.945 1332.56 Q533.607 1330.32 533.607 1326.57 Q533.607 1322.19 536.524 1319.97 Q539.464 1317.75 545.274 1317.75 L551.246 1317.75 L551.246 1317.33 Q551.246 1314.39 549.302 1312.8 Q547.38 1311.18 543.885 1311.18 Q541.663 1311.18 539.556 1311.71 Q537.45 1312.24 535.505 1313.31 L535.505 1309.37 Q537.843 1308.47 540.042 1308.03 Q542.241 1307.56 544.325 1307.56 Q549.95 1307.56 552.728 1310.48 Q555.505 1313.4 555.505 1319.32 Z\" fill=\"#000000\" fill-rule=\"evenodd\" fill-opacity=\"1\" /><path clip-path=\"url(#clip680)\" d=\"M 0 0 M559.973 1298.1 L564.232 1298.1 L564.232 1334.12 L559.973 1334.12 L559.973 1298.1 Z\" fill=\"#000000\" fill-rule=\"evenodd\" fill-opacity=\"1\" /><path clip-path=\"url(#clip680)\" d=\"M 0 0 M604.672 1300.69 L604.672 1305.25 Q602.01 1303.98 599.649 1303.35 Q597.287 1302.73 595.088 1302.73 Q591.269 1302.73 589.186 1304.21 Q587.125 1305.69 587.125 1308.42 Q587.125 1310.71 588.491 1311.89 Q589.88 1313.05 593.723 1313.77 L596.547 1314.35 Q601.778 1315.34 604.255 1317.87 Q606.755 1320.37 606.755 1324.58 Q606.755 1329.6 603.375 1332.19 Q600.019 1334.79 593.514 1334.79 Q591.061 1334.79 588.283 1334.23 Q585.528 1333.68 582.565 1332.59 L582.565 1327.77 Q585.413 1329.37 588.144 1330.18 Q590.875 1330.99 593.514 1330.99 Q597.519 1330.99 599.695 1329.42 Q601.871 1327.84 601.871 1324.93 Q601.871 1322.38 600.297 1320.94 Q598.746 1319.51 595.181 1318.79 L592.334 1318.24 Q587.102 1317.19 584.764 1314.97 Q582.426 1312.75 582.426 1308.79 Q582.426 1304.21 585.644 1301.57 Q588.885 1298.93 594.556 1298.93 Q596.987 1298.93 599.51 1299.37 Q602.033 1299.81 604.672 1300.69 Z\" fill=\"#000000\" fill-rule=\"evenodd\" fill-opacity=\"1\" /><path clip-path=\"url(#clip680)\" d=\"M 0 0 M613.769 1321.18 Q613.769 1325.87 615.69 1328.56 Q617.635 1331.22 621.014 1331.22 Q624.394 1331.22 626.338 1328.56 Q628.283 1325.87 628.283 1321.18 Q628.283 1316.48 626.338 1313.81 Q624.394 1311.13 621.014 1311.13 Q617.635 1311.13 615.69 1313.81 Q613.769 1316.48 613.769 1321.18 M628.283 1330.23 Q626.94 1332.54 624.88 1333.68 Q622.843 1334.79 619.973 1334.79 Q615.273 1334.79 612.311 1331.04 Q609.371 1327.29 609.371 1321.18 Q609.371 1315.06 612.311 1311.31 Q615.273 1307.56 619.973 1307.56 Q622.843 1307.56 624.88 1308.7 Q626.94 1309.81 628.283 1312.12 L628.283 1308.19 L632.542 1308.19 L632.542 1343.98 L628.283 1343.98 L628.283 1330.23 Z\" fill=\"#000000\" fill-rule=\"evenodd\" fill-opacity=\"1\" /><path clip-path=\"url(#clip680)\" d=\"M 0 0 M636.57 1323.88 L636.57 1308.19 L640.829 1308.19 L640.829 1323.72 Q640.829 1327.4 642.264 1329.25 Q643.699 1331.08 646.57 1331.08 Q650.019 1331.08 652.009 1328.88 Q654.023 1326.68 654.023 1322.89 L654.023 1308.19 L658.283 1308.19 L658.283 1334.12 L654.023 1334.12 L654.023 1330.13 Q652.472 1332.49 650.412 1333.65 Q648.375 1334.79 645.667 1334.79 Q641.199 1334.79 638.884 1332.01 Q636.57 1329.23 636.57 1323.88 M647.287 1307.56 L647.287 1307.56 Z\" fill=\"#000000\" fill-rule=\"evenodd\" fill-opacity=\"1\" /><path clip-path=\"url(#clip680)\" d=\"M 0 0 M674.532 1321.08 Q669.37 1321.08 667.38 1322.26 Q665.389 1323.44 665.389 1326.29 Q665.389 1328.56 666.87 1329.9 Q668.375 1331.22 670.944 1331.22 Q674.486 1331.22 676.616 1328.72 Q678.769 1326.2 678.769 1322.03 L678.769 1321.08 L674.532 1321.08 M683.028 1319.32 L683.028 1334.12 L678.769 1334.12 L678.769 1330.18 Q677.31 1332.54 675.134 1333.68 Q672.958 1334.79 669.81 1334.79 Q665.829 1334.79 663.468 1332.56 Q661.13 1330.32 661.13 1326.57 Q661.13 1322.19 664.046 1319.97 Q666.986 1317.75 672.796 1317.75 L678.769 1317.75 L678.769 1317.33 Q678.769 1314.39 676.824 1312.8 Q674.903 1311.18 671.407 1311.18 Q669.185 1311.18 667.079 1311.71 Q664.972 1312.24 663.028 1313.31 L663.028 1309.37 Q665.366 1308.47 667.565 1308.03 Q669.764 1307.56 671.847 1307.56 Q677.472 1307.56 680.25 1310.48 Q683.028 1313.4 683.028 1319.32 Z\" fill=\"#000000\" fill-rule=\"evenodd\" fill-opacity=\"1\" /><path clip-path=\"url(#clip680)\" d=\"M 0 0 M702.518 1312.17 Q701.801 1311.75 700.944 1311.57 Q700.111 1311.36 699.092 1311.36 Q695.481 1311.36 693.537 1313.72 Q691.616 1316.06 691.616 1320.46 L691.616 1334.12 L687.333 1334.12 L687.333 1308.19 L691.616 1308.19 L691.616 1312.22 Q692.958 1309.86 695.111 1308.72 Q697.264 1307.56 700.342 1307.56 Q700.782 1307.56 701.315 1307.63 Q701.847 1307.68 702.495 1307.8 L702.518 1312.17 Z\" fill=\"#000000\" fill-rule=\"evenodd\" fill-opacity=\"1\" /><path clip-path=\"url(#clip680)\" d=\"M 0 0 M728.12 1320.09 L728.12 1322.17 L708.537 1322.17 Q708.815 1326.57 711.176 1328.88 Q713.56 1331.18 717.796 1331.18 Q720.25 1331.18 722.541 1330.57 Q724.856 1329.97 727.125 1328.77 L727.125 1332.8 Q724.833 1333.77 722.426 1334.28 Q720.018 1334.79 717.541 1334.79 Q711.338 1334.79 707.704 1331.18 Q704.092 1327.56 704.092 1321.41 Q704.092 1315.04 707.518 1311.31 Q710.967 1307.56 716.801 1307.56 Q722.032 1307.56 725.065 1310.94 Q728.12 1314.3 728.12 1320.09 M723.861 1318.84 Q723.815 1315.34 721.893 1313.26 Q719.995 1311.18 716.847 1311.18 Q713.282 1311.18 711.129 1313.19 Q709 1315.2 708.676 1318.86 L723.861 1318.84 Z\" fill=\"#000000\" fill-rule=\"evenodd\" fill-opacity=\"1\" /><path clip-path=\"url(#clip680)\" d=\"M 0 0 M749.648 1312.12 L749.648 1298.1 L753.907 1298.1 L753.907 1334.12 L749.648 1334.12 L749.648 1330.23 Q748.305 1332.54 746.245 1333.68 Q744.208 1334.79 741.338 1334.79 Q736.639 1334.79 733.676 1331.04 Q730.736 1327.29 730.736 1321.18 Q730.736 1315.06 733.676 1311.31 Q736.639 1307.56 741.338 1307.56 Q744.208 1307.56 746.245 1308.7 Q748.305 1309.81 749.648 1312.12 M735.134 1321.18 Q735.134 1325.87 737.055 1328.56 Q739 1331.22 742.379 1331.22 Q745.759 1331.22 747.703 1328.56 Q749.648 1325.87 749.648 1321.18 Q749.648 1316.48 747.703 1313.81 Q745.759 1311.13 742.379 1311.13 Q739 1311.13 737.055 1313.81 Q735.134 1316.48 735.134 1321.18 Z\" fill=\"#000000\" fill-rule=\"evenodd\" fill-opacity=\"1\" /><path clip-path=\"url(#clip680)\" d=\"M 0 0 M773.629 1299.56 L795.481 1299.56 L795.481 1303.49 L778.305 1303.49 L778.305 1313.72 L794.763 1313.72 L794.763 1317.66 L778.305 1317.66 L778.305 1330.18 L795.898 1330.18 L795.898 1334.12 L773.629 1334.12 L773.629 1299.56 Z\" fill=\"#000000\" fill-rule=\"evenodd\" fill-opacity=\"1\" /><path clip-path=\"url(#clip680)\" d=\"M 0 0 M815.388 1312.17 Q814.671 1311.75 813.814 1311.57 Q812.981 1311.36 811.962 1311.36 Q808.351 1311.36 806.407 1313.72 Q804.485 1316.06 804.485 1320.46 L804.485 1334.12 L800.203 1334.12 L800.203 1308.19 L804.485 1308.19 L804.485 1312.22 Q805.828 1309.86 807.981 1308.72 Q810.134 1307.56 813.212 1307.56 Q813.652 1307.56 814.184 1307.63 Q814.717 1307.68 815.365 1307.8 L815.388 1312.17 Z\" fill=\"#000000\" fill-rule=\"evenodd\" fill-opacity=\"1\" /><path clip-path=\"url(#clip680)\" d=\"M 0 0 M834.045 1312.17 Q833.328 1311.75 832.471 1311.57 Q831.638 1311.36 830.62 1311.36 Q827.008 1311.36 825.064 1313.72 Q823.143 1316.06 823.143 1320.46 L823.143 1334.12 L818.86 1334.12 L818.86 1308.19 L823.143 1308.19 L823.143 1312.22 Q824.485 1309.86 826.638 1308.72 Q828.791 1307.56 831.87 1307.56 Q832.309 1307.56 832.842 1307.63 Q833.374 1307.68 834.022 1307.8 L834.045 1312.17 Z\" fill=\"#000000\" fill-rule=\"evenodd\" fill-opacity=\"1\" /><path clip-path=\"url(#clip680)\" d=\"M 0 0 M847.518 1311.18 Q844.092 1311.18 842.101 1313.86 Q840.11 1316.52 840.11 1321.18 Q840.11 1325.83 842.078 1328.51 Q844.069 1331.18 847.518 1331.18 Q850.92 1331.18 852.911 1328.49 Q854.902 1325.81 854.902 1321.18 Q854.902 1316.57 852.911 1313.88 Q850.92 1311.18 847.518 1311.18 M847.518 1307.56 Q853.073 1307.56 856.244 1311.18 Q859.416 1314.79 859.416 1321.18 Q859.416 1327.54 856.244 1331.18 Q853.073 1334.79 847.518 1334.79 Q841.939 1334.79 838.768 1331.18 Q835.62 1327.54 835.62 1321.18 Q835.62 1314.79 838.768 1311.18 Q841.939 1307.56 847.518 1307.56 Z\" fill=\"#000000\" fill-rule=\"evenodd\" fill-opacity=\"1\" /><path clip-path=\"url(#clip680)\" d=\"M 0 0 M878.906 1312.17 Q878.189 1311.75 877.332 1311.57 Q876.499 1311.36 875.48 1311.36 Q871.869 1311.36 869.925 1313.72 Q868.004 1316.06 868.004 1320.46 L868.004 1334.12 L863.721 1334.12 L863.721 1308.19 L868.004 1308.19 L868.004 1312.22 Q869.346 1309.86 871.499 1308.72 Q873.652 1307.56 876.73 1307.56 Q877.17 1307.56 877.703 1307.63 Q878.235 1307.68 878.883 1307.8 L878.906 1312.17 Z\" fill=\"#000000\" fill-rule=\"evenodd\" fill-opacity=\"1\" /><path clip-path=\"url(#clip680)\" d=\"\n",
       "M217.478 1423.18 L2248.5 1423.18 L2248.5 47.2441 L217.478 47.2441  Z\n",
       "  \" fill=\"#000000\" fill-rule=\"evenodd\" fill-opacity=\"0\"/>\n",
       "<polyline clip-path=\"url(#clip682)\" style=\"stroke:#000000; stroke-width:2; stroke-opacity:0.1; fill:none\" points=\"\n",
       "  274.959,1423.18 274.959,47.2441 \n",
       "  \"/>\n",
       "<polyline clip-path=\"url(#clip682)\" style=\"stroke:#000000; stroke-width:2; stroke-opacity:0.1; fill:none\" points=\"\n",
       "  594.303,1423.18 594.303,47.2441 \n",
       "  \"/>\n",
       "<polyline clip-path=\"url(#clip682)\" style=\"stroke:#000000; stroke-width:2; stroke-opacity:0.1; fill:none\" points=\"\n",
       "  913.647,1423.18 913.647,47.2441 \n",
       "  \"/>\n",
       "<polyline clip-path=\"url(#clip682)\" style=\"stroke:#000000; stroke-width:2; stroke-opacity:0.1; fill:none\" points=\"\n",
       "  1232.99,1423.18 1232.99,47.2441 \n",
       "  \"/>\n",
       "<polyline clip-path=\"url(#clip682)\" style=\"stroke:#000000; stroke-width:2; stroke-opacity:0.1; fill:none\" points=\"\n",
       "  1552.33,1423.18 1552.33,47.2441 \n",
       "  \"/>\n",
       "<polyline clip-path=\"url(#clip682)\" style=\"stroke:#000000; stroke-width:2; stroke-opacity:0.1; fill:none\" points=\"\n",
       "  1871.68,1423.18 1871.68,47.2441 \n",
       "  \"/>\n",
       "<polyline clip-path=\"url(#clip682)\" style=\"stroke:#000000; stroke-width:2; stroke-opacity:0.1; fill:none\" points=\"\n",
       "  2191.02,1423.18 2191.02,47.2441 \n",
       "  \"/>\n",
       "<polyline clip-path=\"url(#clip680)\" style=\"stroke:#000000; stroke-width:4; stroke-opacity:1; fill:none\" points=\"\n",
       "  217.478,1423.18 2248.5,1423.18 \n",
       "  \"/>\n",
       "<polyline clip-path=\"url(#clip680)\" style=\"stroke:#000000; stroke-width:4; stroke-opacity:1; fill:none\" points=\"\n",
       "  274.959,1423.18 274.959,1406.67 \n",
       "  \"/>\n",
       "<polyline clip-path=\"url(#clip680)\" style=\"stroke:#000000; stroke-width:4; stroke-opacity:1; fill:none\" points=\"\n",
       "  594.303,1423.18 594.303,1406.67 \n",
       "  \"/>\n",
       "<polyline clip-path=\"url(#clip680)\" style=\"stroke:#000000; stroke-width:4; stroke-opacity:1; fill:none\" points=\"\n",
       "  913.647,1423.18 913.647,1406.67 \n",
       "  \"/>\n",
       "<polyline clip-path=\"url(#clip680)\" style=\"stroke:#000000; stroke-width:4; stroke-opacity:1; fill:none\" points=\"\n",
       "  1232.99,1423.18 1232.99,1406.67 \n",
       "  \"/>\n",
       "<polyline clip-path=\"url(#clip680)\" style=\"stroke:#000000; stroke-width:4; stroke-opacity:1; fill:none\" points=\"\n",
       "  1552.33,1423.18 1552.33,1406.67 \n",
       "  \"/>\n",
       "<polyline clip-path=\"url(#clip680)\" style=\"stroke:#000000; stroke-width:4; stroke-opacity:1; fill:none\" points=\"\n",
       "  1871.68,1423.18 1871.68,1406.67 \n",
       "  \"/>\n",
       "<polyline clip-path=\"url(#clip680)\" style=\"stroke:#000000; stroke-width:4; stroke-opacity:1; fill:none\" points=\"\n",
       "  2191.02,1423.18 2191.02,1406.67 \n",
       "  \"/>\n",
       "<path clip-path=\"url(#clip680)\" d=\"M 0 0 M269.612 1479.92 L285.932 1479.92 L285.932 1483.85 L263.987 1483.85 L263.987 1479.92 Q266.649 1477.16 271.233 1472.53 Q275.839 1467.88 277.02 1466.54 Q279.265 1464.01 280.145 1462.28 Q281.047 1460.52 281.047 1458.83 Q281.047 1456.07 279.103 1454.34 Q277.182 1452.6 274.08 1452.6 Q271.881 1452.6 269.427 1453.37 Q266.996 1454.13 264.219 1455.68 L264.219 1450.96 Q267.043 1449.82 269.496 1449.25 Q271.95 1448.67 273.987 1448.67 Q279.358 1448.67 282.552 1451.35 Q285.746 1454.04 285.746 1458.53 Q285.746 1460.66 284.936 1462.58 Q284.149 1464.48 282.043 1467.07 Q281.464 1467.74 278.362 1470.96 Q275.26 1474.15 269.612 1479.92 Z\" fill=\"#000000\" fill-rule=\"evenodd\" fill-opacity=\"1\" /><path clip-path=\"url(#clip680)\" d=\"M 0 0 M598.551 1465.22 Q601.907 1465.94 603.782 1468.2 Q605.68 1470.47 605.68 1473.81 Q605.68 1478.92 602.162 1481.72 Q598.643 1484.52 592.162 1484.52 Q589.986 1484.52 587.671 1484.08 Q585.38 1483.67 582.926 1482.81 L582.926 1478.3 Q584.87 1479.43 587.185 1480.01 Q589.5 1480.59 592.023 1480.59 Q596.421 1480.59 598.713 1478.85 Q601.028 1477.12 601.028 1473.81 Q601.028 1470.75 598.875 1469.04 Q596.745 1467.3 592.926 1467.3 L588.898 1467.3 L588.898 1463.46 L593.111 1463.46 Q596.56 1463.46 598.389 1462.09 Q600.218 1460.7 600.218 1458.11 Q600.218 1455.45 598.319 1454.04 Q596.444 1452.6 592.926 1452.6 Q591.005 1452.6 588.806 1453.02 Q586.606 1453.44 583.968 1454.31 L583.968 1450.15 Q586.63 1449.41 588.944 1449.04 Q591.282 1448.67 593.343 1448.67 Q598.667 1448.67 601.768 1451.1 Q604.87 1453.5 604.87 1457.63 Q604.87 1460.5 603.227 1462.49 Q601.583 1464.45 598.551 1465.22 Z\" fill=\"#000000\" fill-rule=\"evenodd\" fill-opacity=\"1\" /><path clip-path=\"url(#clip680)\" d=\"M 0 0 M916.656 1453.37 L904.851 1471.81 L916.656 1471.81 L916.656 1453.37 M915.429 1449.29 L921.309 1449.29 L921.309 1471.81 L926.239 1471.81 L926.239 1475.7 L921.309 1475.7 L921.309 1483.85 L916.656 1483.85 L916.656 1475.7 L901.054 1475.7 L901.054 1471.19 L915.429 1449.29 Z\" fill=\"#000000\" fill-rule=\"evenodd\" fill-opacity=\"1\" /><path clip-path=\"url(#clip680)\" d=\"M 0 0 M1223.27 1449.29 L1241.62 1449.29 L1241.62 1453.23 L1227.55 1453.23 L1227.55 1461.7 Q1228.57 1461.35 1229.59 1461.19 Q1230.61 1461 1231.63 1461 Q1237.41 1461 1240.79 1464.18 Q1244.17 1467.35 1244.17 1472.76 Q1244.17 1478.34 1240.7 1481.44 Q1237.23 1484.52 1230.91 1484.52 Q1228.73 1484.52 1226.46 1484.15 Q1224.22 1483.78 1221.81 1483.04 L1221.81 1478.34 Q1223.89 1479.48 1226.12 1480.03 Q1228.34 1480.59 1230.81 1480.59 Q1234.82 1480.59 1237.16 1478.48 Q1239.5 1476.38 1239.5 1472.76 Q1239.5 1469.15 1237.16 1467.05 Q1234.82 1464.94 1230.81 1464.94 Q1228.94 1464.94 1227.06 1465.36 Q1225.21 1465.77 1223.27 1466.65 L1223.27 1449.29 Z\" fill=\"#000000\" fill-rule=\"evenodd\" fill-opacity=\"1\" /><path clip-path=\"url(#clip680)\" d=\"M 0 0 M1552.74 1464.71 Q1549.59 1464.71 1547.74 1466.86 Q1545.91 1469.01 1545.91 1472.76 Q1545.91 1476.49 1547.74 1478.67 Q1549.59 1480.82 1552.74 1480.82 Q1555.89 1480.82 1557.72 1478.67 Q1559.57 1476.49 1559.57 1472.76 Q1559.57 1469.01 1557.72 1466.86 Q1555.89 1464.71 1552.74 1464.71 M1562.02 1450.06 L1562.02 1454.31 Q1560.26 1453.48 1558.46 1453.04 Q1556.67 1452.6 1554.92 1452.6 Q1550.29 1452.6 1547.83 1455.73 Q1545.4 1458.85 1545.05 1465.17 Q1546.42 1463.16 1548.48 1462.09 Q1550.54 1461 1553.02 1461 Q1558.23 1461 1561.23 1464.18 Q1564.27 1467.32 1564.27 1472.76 Q1564.27 1478.09 1561.12 1481.31 Q1557.97 1484.52 1552.74 1484.52 Q1546.74 1484.52 1543.57 1479.94 Q1540.4 1475.33 1540.4 1466.61 Q1540.4 1458.41 1544.29 1453.55 Q1548.18 1448.67 1554.73 1448.67 Q1556.49 1448.67 1558.27 1449.01 Q1560.08 1449.36 1562.02 1450.06 Z\" fill=\"#000000\" fill-rule=\"evenodd\" fill-opacity=\"1\" /><path clip-path=\"url(#clip680)\" d=\"M 0 0 M1860.57 1449.29 L1882.79 1449.29 L1882.79 1451.28 L1870.24 1483.85 L1865.36 1483.85 L1877.16 1453.23 L1860.57 1453.23 L1860.57 1449.29 Z\" fill=\"#000000\" fill-rule=\"evenodd\" fill-opacity=\"1\" /><path clip-path=\"url(#clip680)\" d=\"M 0 0 M2191.02 1467.44 Q2187.69 1467.44 2185.77 1469.22 Q2183.87 1471 2183.87 1474.13 Q2183.87 1477.25 2185.77 1479.04 Q2187.69 1480.82 2191.02 1480.82 Q2194.36 1480.82 2196.28 1479.04 Q2198.2 1477.23 2198.2 1474.13 Q2198.2 1471 2196.28 1469.22 Q2194.38 1467.44 2191.02 1467.44 M2186.35 1465.45 Q2183.34 1464.71 2181.65 1462.65 Q2179.98 1460.59 2179.98 1457.63 Q2179.98 1453.48 2182.92 1451.07 Q2185.88 1448.67 2191.02 1448.67 Q2196.18 1448.67 2199.12 1451.07 Q2202.06 1453.48 2202.06 1457.63 Q2202.06 1460.59 2200.37 1462.65 Q2198.71 1464.71 2195.72 1465.45 Q2199.1 1466.24 2200.98 1468.53 Q2202.87 1470.82 2202.87 1474.13 Q2202.87 1479.15 2199.8 1481.84 Q2196.74 1484.52 2191.02 1484.52 Q2185.3 1484.52 2182.23 1481.84 Q2179.17 1479.15 2179.17 1474.13 Q2179.17 1470.82 2181.07 1468.53 Q2182.97 1466.24 2186.35 1465.45 M2184.63 1458.06 Q2184.63 1460.75 2186.3 1462.25 Q2187.99 1463.76 2191.02 1463.76 Q2194.03 1463.76 2195.72 1462.25 Q2197.43 1460.75 2197.43 1458.06 Q2197.43 1455.38 2195.72 1453.88 Q2194.03 1452.37 2191.02 1452.37 Q2187.99 1452.37 2186.3 1453.88 Q2184.63 1455.38 2184.63 1458.06 Z\" fill=\"#000000\" fill-rule=\"evenodd\" fill-opacity=\"1\" /><polyline clip-path=\"url(#clip682)\" style=\"stroke:#000000; stroke-width:2; stroke-opacity:0.1; fill:none\" points=\"\n",
       "  217.478,1256.04 2248.5,1256.04 \n",
       "  \"/>\n",
       "<polyline clip-path=\"url(#clip682)\" style=\"stroke:#000000; stroke-width:2; stroke-opacity:0.1; fill:none\" points=\"\n",
       "  217.478,982.034 2248.5,982.034 \n",
       "  \"/>\n",
       "<polyline clip-path=\"url(#clip682)\" style=\"stroke:#000000; stroke-width:2; stroke-opacity:0.1; fill:none\" points=\"\n",
       "  217.478,708.029 2248.5,708.029 \n",
       "  \"/>\n",
       "<polyline clip-path=\"url(#clip682)\" style=\"stroke:#000000; stroke-width:2; stroke-opacity:0.1; fill:none\" points=\"\n",
       "  217.478,434.024 2248.5,434.024 \n",
       "  \"/>\n",
       "<polyline clip-path=\"url(#clip682)\" style=\"stroke:#000000; stroke-width:2; stroke-opacity:0.1; fill:none\" points=\"\n",
       "  217.478,160.019 2248.5,160.019 \n",
       "  \"/>\n",
       "<polyline clip-path=\"url(#clip680)\" style=\"stroke:#000000; stroke-width:4; stroke-opacity:1; fill:none\" points=\"\n",
       "  2248.5,1423.18 2248.5,47.2441 \n",
       "  \"/>\n",
       "<polyline clip-path=\"url(#clip680)\" style=\"stroke:#000000; stroke-width:4; stroke-opacity:1; fill:none\" points=\"\n",
       "  2248.5,1256.04 2224.13,1256.04 \n",
       "  \"/>\n",
       "<polyline clip-path=\"url(#clip680)\" style=\"stroke:#000000; stroke-width:4; stroke-opacity:1; fill:none\" points=\"\n",
       "  2248.5,982.034 2224.13,982.034 \n",
       "  \"/>\n",
       "<polyline clip-path=\"url(#clip680)\" style=\"stroke:#000000; stroke-width:4; stroke-opacity:1; fill:none\" points=\"\n",
       "  2248.5,708.029 2224.13,708.029 \n",
       "  \"/>\n",
       "<polyline clip-path=\"url(#clip680)\" style=\"stroke:#000000; stroke-width:4; stroke-opacity:1; fill:none\" points=\"\n",
       "  2248.5,434.024 2224.13,434.024 \n",
       "  \"/>\n",
       "<polyline clip-path=\"url(#clip680)\" style=\"stroke:#000000; stroke-width:4; stroke-opacity:1; fill:none\" points=\"\n",
       "  2248.5,160.019 2224.13,160.019 \n",
       "  \"/>\n",
       "<path clip-path=\"url(#clip680)\" d=\"M 0 0 M2296.45 1241.84 Q2292.84 1241.84 2291.01 1245.4 Q2289.2 1248.94 2289.2 1256.07 Q2289.2 1263.18 2291.01 1266.75 Q2292.84 1270.29 2296.45 1270.29 Q2300.08 1270.29 2301.89 1266.75 Q2303.72 1263.18 2303.72 1256.07 Q2303.72 1248.94 2301.89 1245.4 Q2300.08 1241.84 2296.45 1241.84 M2296.45 1238.13 Q2302.26 1238.13 2305.31 1242.74 Q2308.39 1247.32 2308.39 1256.07 Q2308.39 1264.8 2305.31 1269.41 Q2302.26 1273.99 2296.45 1273.99 Q2290.64 1273.99 2287.56 1269.41 Q2284.5 1264.8 2284.5 1256.07 Q2284.5 1247.32 2287.56 1242.74 Q2290.64 1238.13 2296.45 1238.13 Z\" fill=\"#000000\" fill-rule=\"evenodd\" fill-opacity=\"1\" /><path clip-path=\"url(#clip680)\" d=\"M 0 0 M2313.46 1267.44 L2318.35 1267.44 L2318.35 1273.32 L2313.46 1273.32 L2313.46 1267.44 Z\" fill=\"#000000\" fill-rule=\"evenodd\" fill-opacity=\"1\" /><path clip-path=\"url(#clip680)\" d=\"M 0 0 M2324.23 1269.38 L2331.86 1269.38 L2331.86 1243.02 L2323.55 1244.69 L2323.55 1240.43 L2331.82 1238.76 L2336.49 1238.76 L2336.49 1269.38 L2344.13 1269.38 L2344.13 1273.32 L2324.23 1273.32 L2324.23 1269.38 Z\" fill=\"#000000\" fill-rule=\"evenodd\" fill-opacity=\"1\" /><path clip-path=\"url(#clip680)\" d=\"M 0 0 M2353.23 1269.38 L2369.55 1269.38 L2369.55 1273.32 L2347.61 1273.32 L2347.61 1269.38 Q2350.27 1266.63 2354.85 1262 Q2359.46 1257.35 2360.64 1256 Q2362.88 1253.48 2363.76 1251.75 Q2364.67 1249.99 2364.67 1248.3 Q2364.67 1245.54 2362.72 1243.81 Q2360.8 1242.07 2357.7 1242.07 Q2355.5 1242.07 2353.05 1242.83 Q2350.61 1243.6 2347.84 1245.15 L2347.84 1240.43 Q2350.66 1239.29 2353.11 1238.71 Q2355.57 1238.13 2357.61 1238.13 Q2362.98 1238.13 2366.17 1240.82 Q2369.36 1243.5 2369.36 1248 Q2369.36 1250.13 2368.55 1252.05 Q2367.77 1253.94 2365.66 1256.54 Q2365.08 1257.21 2361.98 1260.43 Q2358.88 1263.62 2353.23 1269.38 Z\" fill=\"#000000\" fill-rule=\"evenodd\" fill-opacity=\"1\" /><path clip-path=\"url(#clip680)\" d=\"M 0 0 M2296.45 967.833 Q2292.84 967.833 2291.01 971.398 Q2289.2 974.94 2289.2 982.069 Q2289.2 989.176 2291.01 992.74 Q2292.84 996.282 2296.45 996.282 Q2300.08 996.282 2301.89 992.74 Q2303.72 989.176 2303.72 982.069 Q2303.72 974.94 2301.89 971.398 Q2300.08 967.833 2296.45 967.833 M2296.45 964.129 Q2302.26 964.129 2305.31 968.736 Q2308.39 973.319 2308.39 982.069 Q2308.39 990.796 2305.31 995.402 Q2302.26 999.986 2296.45 999.986 Q2290.64 999.986 2287.56 995.402 Q2284.5 990.796 2284.5 982.069 Q2284.5 973.319 2287.56 968.736 Q2290.64 964.129 2296.45 964.129 Z\" fill=\"#000000\" fill-rule=\"evenodd\" fill-opacity=\"1\" /><path clip-path=\"url(#clip680)\" d=\"M 0 0 M2313.46 993.435 L2318.35 993.435 L2318.35 999.314 L2313.46 999.314 L2313.46 993.435 Z\" fill=\"#000000\" fill-rule=\"evenodd\" fill-opacity=\"1\" /><path clip-path=\"url(#clip680)\" d=\"M 0 0 M2324.23 995.379 L2331.86 995.379 L2331.86 969.014 L2323.55 970.68 L2323.55 966.421 L2331.82 964.754 L2336.49 964.754 L2336.49 995.379 L2344.13 995.379 L2344.13 999.314 L2324.23 999.314 L2324.23 995.379 Z\" fill=\"#000000\" fill-rule=\"evenodd\" fill-opacity=\"1\" /><path clip-path=\"url(#clip680)\" d=\"M 0 0 M2362.05 968.828 L2350.24 987.277 L2362.05 987.277 L2362.05 968.828 M2360.82 964.754 L2366.7 964.754 L2366.7 987.277 L2371.63 987.277 L2371.63 991.166 L2366.7 991.166 L2366.7 999.314 L2362.05 999.314 L2362.05 991.166 L2346.45 991.166 L2346.45 986.652 L2360.82 964.754 Z\" fill=\"#000000\" fill-rule=\"evenodd\" fill-opacity=\"1\" /><path clip-path=\"url(#clip680)\" d=\"M 0 0 M2296.45 693.828 Q2292.84 693.828 2291.01 697.393 Q2289.2 700.934 2289.2 708.064 Q2289.2 715.17 2291.01 718.735 Q2292.84 722.277 2296.45 722.277 Q2300.08 722.277 2301.89 718.735 Q2303.72 715.17 2303.72 708.064 Q2303.72 700.934 2301.89 697.393 Q2300.08 693.828 2296.45 693.828 M2296.45 690.124 Q2302.26 690.124 2305.31 694.731 Q2308.39 699.314 2308.39 708.064 Q2308.39 716.791 2305.31 721.397 Q2302.26 725.981 2296.45 725.981 Q2290.64 725.981 2287.56 721.397 Q2284.5 716.791 2284.5 708.064 Q2284.5 699.314 2287.56 694.731 Q2290.64 690.124 2296.45 690.124 Z\" fill=\"#000000\" fill-rule=\"evenodd\" fill-opacity=\"1\" /><path clip-path=\"url(#clip680)\" d=\"M 0 0 M2313.46 719.43 L2318.35 719.43 L2318.35 725.309 L2313.46 725.309 L2313.46 719.43 Z\" fill=\"#000000\" fill-rule=\"evenodd\" fill-opacity=\"1\" /><path clip-path=\"url(#clip680)\" d=\"M 0 0 M2324.23 721.374 L2331.86 721.374 L2331.86 695.008 L2323.55 696.675 L2323.55 692.416 L2331.82 690.749 L2336.49 690.749 L2336.49 721.374 L2344.13 721.374 L2344.13 725.309 L2324.23 725.309 L2324.23 721.374 Z\" fill=\"#000000\" fill-rule=\"evenodd\" fill-opacity=\"1\" /><path clip-path=\"url(#clip680)\" d=\"M 0 0 M2359.78 706.166 Q2356.63 706.166 2354.78 708.319 Q2352.95 710.471 2352.95 714.221 Q2352.95 717.948 2354.78 720.124 Q2356.63 722.277 2359.78 722.277 Q2362.93 722.277 2364.76 720.124 Q2366.61 717.948 2366.61 714.221 Q2366.61 710.471 2364.76 708.319 Q2362.93 706.166 2359.78 706.166 M2369.06 691.513 L2369.06 695.772 Q2367.3 694.939 2365.5 694.499 Q2363.72 694.059 2361.96 694.059 Q2357.33 694.059 2354.87 697.184 Q2352.44 700.309 2352.1 706.629 Q2353.46 704.615 2355.52 703.55 Q2357.58 702.462 2360.06 702.462 Q2365.27 702.462 2368.28 705.633 Q2371.31 708.782 2371.31 714.221 Q2371.31 719.545 2368.16 722.763 Q2365.01 725.981 2359.78 725.981 Q2353.79 725.981 2350.61 721.397 Q2347.44 716.791 2347.44 708.064 Q2347.44 699.87 2351.33 695.008 Q2355.22 690.124 2361.77 690.124 Q2363.53 690.124 2365.31 690.471 Q2367.12 690.819 2369.06 691.513 Z\" fill=\"#000000\" fill-rule=\"evenodd\" fill-opacity=\"1\" /><path clip-path=\"url(#clip680)\" d=\"M 0 0 M2296.45 419.823 Q2292.84 419.823 2291.01 423.387 Q2289.2 426.929 2289.2 434.059 Q2289.2 441.165 2291.01 444.73 Q2292.84 448.272 2296.45 448.272 Q2300.08 448.272 2301.89 444.73 Q2303.72 441.165 2303.72 434.059 Q2303.72 426.929 2301.89 423.387 Q2300.08 419.823 2296.45 419.823 M2296.45 416.119 Q2302.26 416.119 2305.31 420.725 Q2308.39 425.309 2308.39 434.059 Q2308.39 442.786 2305.31 447.392 Q2302.26 451.975 2296.45 451.975 Q2290.64 451.975 2287.56 447.392 Q2284.5 442.786 2284.5 434.059 Q2284.5 425.309 2287.56 420.725 Q2290.64 416.119 2296.45 416.119 Z\" fill=\"#000000\" fill-rule=\"evenodd\" fill-opacity=\"1\" /><path clip-path=\"url(#clip680)\" d=\"M 0 0 M2313.46 445.424 L2318.35 445.424 L2318.35 451.304 L2313.46 451.304 L2313.46 445.424 Z\" fill=\"#000000\" fill-rule=\"evenodd\" fill-opacity=\"1\" /><path clip-path=\"url(#clip680)\" d=\"M 0 0 M2324.23 447.369 L2331.86 447.369 L2331.86 421.003 L2323.55 422.67 L2323.55 418.411 L2331.82 416.744 L2336.49 416.744 L2336.49 447.369 L2344.13 447.369 L2344.13 451.304 L2324.23 451.304 L2324.23 447.369 Z\" fill=\"#000000\" fill-rule=\"evenodd\" fill-opacity=\"1\" /><path clip-path=\"url(#clip680)\" d=\"M 0 0 M2359.2 434.892 Q2355.87 434.892 2353.95 436.674 Q2352.05 438.457 2352.05 441.582 Q2352.05 444.707 2353.95 446.489 Q2355.87 448.272 2359.2 448.272 Q2362.54 448.272 2364.46 446.489 Q2366.38 444.684 2366.38 441.582 Q2366.38 438.457 2364.46 436.674 Q2362.56 434.892 2359.2 434.892 M2354.53 432.901 Q2351.52 432.161 2349.83 430.1 Q2348.16 428.04 2348.16 425.077 Q2348.16 420.934 2351.1 418.526 Q2354.06 416.119 2359.2 416.119 Q2364.36 416.119 2367.3 418.526 Q2370.24 420.934 2370.24 425.077 Q2370.24 428.04 2368.55 430.1 Q2366.89 432.161 2363.9 432.901 Q2367.28 433.688 2369.16 435.98 Q2371.05 438.272 2371.05 441.582 Q2371.05 446.605 2367.98 449.29 Q2364.92 451.975 2359.2 451.975 Q2353.49 451.975 2350.41 449.29 Q2347.35 446.605 2347.35 441.582 Q2347.35 438.272 2349.25 435.98 Q2351.15 433.688 2354.53 432.901 M2352.81 425.517 Q2352.81 428.202 2354.48 429.707 Q2356.17 431.212 2359.2 431.212 Q2362.21 431.212 2363.9 429.707 Q2365.61 428.202 2365.61 425.517 Q2365.61 422.832 2363.9 421.327 Q2362.21 419.823 2359.2 419.823 Q2356.17 419.823 2354.48 421.327 Q2352.81 422.832 2352.81 425.517 Z\" fill=\"#000000\" fill-rule=\"evenodd\" fill-opacity=\"1\" /><path clip-path=\"url(#clip680)\" d=\"M 0 0 M2296.45 145.817 Q2292.84 145.817 2291.01 149.382 Q2289.2 152.924 2289.2 160.054 Q2289.2 167.16 2291.01 170.725 Q2292.84 174.266 2296.45 174.266 Q2300.08 174.266 2301.89 170.725 Q2303.72 167.16 2303.72 160.054 Q2303.72 152.924 2301.89 149.382 Q2300.08 145.817 2296.45 145.817 M2296.45 142.114 Q2302.26 142.114 2305.31 146.72 Q2308.39 151.304 2308.39 160.054 Q2308.39 168.78 2305.31 173.387 Q2302.26 177.97 2296.45 177.97 Q2290.64 177.97 2287.56 173.387 Q2284.5 168.78 2284.5 160.054 Q2284.5 151.304 2287.56 146.72 Q2290.64 142.114 2296.45 142.114 Z\" fill=\"#000000\" fill-rule=\"evenodd\" fill-opacity=\"1\" /><path clip-path=\"url(#clip680)\" d=\"M 0 0 M2313.46 171.419 L2318.35 171.419 L2318.35 177.299 L2313.46 177.299 L2313.46 171.419 Z\" fill=\"#000000\" fill-rule=\"evenodd\" fill-opacity=\"1\" /><path clip-path=\"url(#clip680)\" d=\"M 0 0 M2327.44 173.364 L2343.76 173.364 L2343.76 177.299 L2321.82 177.299 L2321.82 173.364 Q2324.48 170.609 2329.06 165.979 Q2333.67 161.327 2334.85 159.984 Q2337.1 157.461 2337.98 155.725 Q2338.88 153.966 2338.88 152.276 Q2338.88 149.521 2336.93 147.785 Q2335.01 146.049 2331.91 146.049 Q2329.71 146.049 2327.26 146.813 Q2324.83 147.577 2322.05 149.128 L2322.05 144.405 Q2324.87 143.271 2327.33 142.693 Q2329.78 142.114 2331.82 142.114 Q2337.19 142.114 2340.38 144.799 Q2343.58 147.484 2343.58 151.975 Q2343.58 154.104 2342.77 156.026 Q2341.98 157.924 2339.87 160.516 Q2339.3 161.188 2336.19 164.405 Q2333.09 167.6 2327.44 173.364 Z\" fill=\"#000000\" fill-rule=\"evenodd\" fill-opacity=\"1\" /><path clip-path=\"url(#clip680)\" d=\"M 0 0 M2358.83 145.817 Q2355.22 145.817 2353.39 149.382 Q2351.59 152.924 2351.59 160.054 Q2351.59 167.16 2353.39 170.725 Q2355.22 174.266 2358.83 174.266 Q2362.47 174.266 2364.27 170.725 Q2366.1 167.16 2366.1 160.054 Q2366.1 152.924 2364.27 149.382 Q2362.47 145.817 2358.83 145.817 M2358.83 142.114 Q2364.64 142.114 2367.7 146.72 Q2370.78 151.304 2370.78 160.054 Q2370.78 168.78 2367.7 173.387 Q2364.64 177.97 2358.83 177.97 Q2353.02 177.97 2349.94 173.387 Q2346.89 168.78 2346.89 160.054 Q2346.89 151.304 2349.94 146.72 Q2353.02 142.114 2358.83 142.114 Z\" fill=\"#000000\" fill-rule=\"evenodd\" fill-opacity=\"1\" /><polyline clip-path=\"url(#clip682)\" style=\"stroke:#0000ff; stroke-width:8; stroke-opacity:1; fill:none\" points=\"\n",
       "  274.959,86.1857 594.303,1384.24 913.647,1170.81 1232.99,1229.05 1552.33,977.671 1871.68,846.266 2191.02,742.345 \n",
       "  \"/>\n",
       "<path clip-path=\"url(#clip680)\" d=\"\n",
       "M1609.83 214.069 L2180.8 214.069 L2180.8 93.1086 L1609.83 93.1086  Z\n",
       "  \" fill=\"#ffffff\" fill-rule=\"evenodd\" fill-opacity=\"1\"/>\n",
       "<polyline clip-path=\"url(#clip680)\" style=\"stroke:#000000; stroke-width:4; stroke-opacity:1; fill:none\" points=\"\n",
       "  1609.83,214.069 2180.8,214.069 2180.8,93.1086 1609.83,93.1086 1609.83,214.069 \n",
       "  \"/>\n",
       "<polyline clip-path=\"url(#clip680)\" style=\"stroke:#0000ff; stroke-width:4; stroke-opacity:1; fill:none\" points=\"\n",
       "  1632.4,153.589 1767.8,153.589 \n",
       "  \"/>\n",
       "<path clip-path=\"url(#clip680)\" d=\"M 0 0 M1812.62 137.443 L1812.62 142.003 Q1809.95 140.73 1807.59 140.105 Q1805.23 139.48 1803.03 139.48 Q1799.21 139.48 1797.13 140.961 Q1795.07 142.443 1795.07 145.174 Q1795.07 147.466 1796.43 148.647 Q1797.82 149.804 1801.67 150.522 L1804.49 151.1 Q1809.72 152.096 1812.2 154.619 Q1814.7 157.119 1814.7 161.332 Q1814.7 166.355 1811.32 168.947 Q1807.96 171.54 1801.46 171.54 Q1799 171.54 1796.23 170.984 Q1793.47 170.429 1790.51 169.341 L1790.51 164.526 Q1793.36 166.123 1796.09 166.933 Q1798.82 167.744 1801.46 167.744 Q1805.46 167.744 1807.64 166.17 Q1809.81 164.596 1809.81 161.679 Q1809.81 159.133 1808.24 157.697 Q1806.69 156.262 1803.12 155.545 L1800.28 154.989 Q1795.05 153.947 1792.71 151.725 Q1790.37 149.503 1790.37 145.545 Q1790.37 140.961 1793.59 138.322 Q1796.83 135.684 1802.5 135.684 Q1804.93 135.684 1807.45 136.123 Q1809.98 136.563 1812.62 137.443 Z\" fill=\"#000000\" fill-rule=\"evenodd\" fill-opacity=\"1\" /><path clip-path=\"url(#clip680)\" d=\"M 0 0 M1819.17 144.943 L1823.43 144.943 L1823.43 170.869 L1819.17 170.869 L1819.17 144.943 M1819.17 134.85 L1823.43 134.85 L1823.43 140.244 L1819.17 140.244 L1819.17 134.85 Z\" fill=\"#000000\" fill-rule=\"evenodd\" fill-opacity=\"1\" /><path clip-path=\"url(#clip680)\" d=\"M 0 0 M1827.89 134.85 L1832.15 134.85 L1832.15 170.869 L1827.89 170.869 L1827.89 134.85 Z\" fill=\"#000000\" fill-rule=\"evenodd\" fill-opacity=\"1\" /><path clip-path=\"url(#clip680)\" d=\"M 0 0 M1858.17 155.221 L1858.17 170.869 L1853.91 170.869 L1853.91 155.359 Q1853.91 151.679 1852.48 149.85 Q1851.04 148.022 1848.17 148.022 Q1844.72 148.022 1842.73 150.221 Q1840.74 152.42 1840.74 156.216 L1840.74 170.869 L1836.46 170.869 L1836.46 134.85 L1840.74 134.85 L1840.74 148.971 Q1842.27 146.633 1844.33 145.475 Q1846.41 144.318 1849.12 144.318 Q1853.59 144.318 1855.88 147.096 Q1858.17 149.85 1858.17 155.221 Z\" fill=\"#000000\" fill-rule=\"evenodd\" fill-opacity=\"1\" /><path clip-path=\"url(#clip680)\" d=\"M 0 0 M1872.68 147.929 Q1869.26 147.929 1867.27 150.614 Q1865.28 153.276 1865.28 157.929 Q1865.28 162.582 1867.24 165.267 Q1869.24 167.929 1872.68 167.929 Q1876.09 167.929 1878.08 165.244 Q1880.07 162.558 1880.07 157.929 Q1880.07 153.322 1878.08 150.637 Q1876.09 147.929 1872.68 147.929 M1872.68 144.318 Q1878.24 144.318 1881.41 147.929 Q1884.58 151.54 1884.58 157.929 Q1884.58 164.295 1881.41 167.929 Q1878.24 171.54 1872.68 171.54 Q1867.11 171.54 1863.93 167.929 Q1860.79 164.295 1860.79 157.929 Q1860.79 151.54 1863.93 147.929 Q1867.11 144.318 1872.68 144.318 Z\" fill=\"#000000\" fill-rule=\"evenodd\" fill-opacity=\"1\" /><path clip-path=\"url(#clip680)\" d=\"M 0 0 M1888.61 160.637 L1888.61 144.943 L1892.87 144.943 L1892.87 160.475 Q1892.87 164.156 1894.3 166.008 Q1895.74 167.836 1898.61 167.836 Q1902.06 167.836 1904.05 165.637 Q1906.06 163.438 1906.06 159.642 L1906.06 144.943 L1910.32 144.943 L1910.32 170.869 L1906.06 170.869 L1906.06 166.887 Q1904.51 169.248 1902.45 170.406 Q1900.42 171.54 1897.71 171.54 Q1893.24 171.54 1890.93 168.762 Q1888.61 165.984 1888.61 160.637 M1899.33 144.318 L1899.33 144.318 Z\" fill=\"#000000\" fill-rule=\"evenodd\" fill-opacity=\"1\" /><path clip-path=\"url(#clip680)\" d=\"M 0 0 M1936.97 156.841 L1936.97 158.924 L1917.38 158.924 Q1917.66 163.322 1920.02 165.637 Q1922.41 167.929 1926.64 167.929 Q1929.1 167.929 1931.39 167.327 Q1933.7 166.725 1935.97 165.521 L1935.97 169.549 Q1933.68 170.521 1931.27 171.031 Q1928.86 171.54 1926.39 171.54 Q1920.18 171.54 1916.55 167.929 Q1912.94 164.318 1912.94 158.16 Q1912.94 151.795 1916.36 148.068 Q1919.81 144.318 1925.65 144.318 Q1930.88 144.318 1933.91 147.697 Q1936.97 151.054 1936.97 156.841 M1932.71 155.591 Q1932.66 152.096 1930.74 150.012 Q1928.84 147.929 1925.69 147.929 Q1922.13 147.929 1919.98 149.943 Q1917.85 151.957 1917.52 155.614 L1932.71 155.591 Z\" fill=\"#000000\" fill-rule=\"evenodd\" fill-opacity=\"1\" /><path clip-path=\"url(#clip680)\" d=\"M 0 0 M1945.65 137.582 L1945.65 144.943 L1954.42 144.943 L1954.42 148.253 L1945.65 148.253 L1945.65 162.327 Q1945.65 165.498 1946.5 166.401 Q1947.38 167.304 1950.05 167.304 L1954.42 167.304 L1954.42 170.869 L1950.05 170.869 Q1945.11 170.869 1943.24 169.04 Q1941.36 167.188 1941.36 162.327 L1941.36 148.253 L1938.24 148.253 L1938.24 144.943 L1941.36 144.943 L1941.36 137.582 L1945.65 137.582 Z\" fill=\"#000000\" fill-rule=\"evenodd\" fill-opacity=\"1\" /><path clip-path=\"url(#clip680)\" d=\"M 0 0 M1963.1 137.582 L1963.1 144.943 L1971.87 144.943 L1971.87 148.253 L1963.1 148.253 L1963.1 162.327 Q1963.1 165.498 1963.96 166.401 Q1964.84 167.304 1967.5 167.304 L1971.87 167.304 L1971.87 170.869 L1967.5 170.869 Q1962.57 170.869 1960.69 169.04 Q1958.82 167.188 1958.82 162.327 L1958.82 148.253 L1955.69 148.253 L1955.69 144.943 L1958.82 144.943 L1958.82 137.582 L1963.1 137.582 Z\" fill=\"#000000\" fill-rule=\"evenodd\" fill-opacity=\"1\" /><path clip-path=\"url(#clip680)\" d=\"M 0 0 M1998.52 156.841 L1998.52 158.924 L1978.93 158.924 Q1979.21 163.322 1981.57 165.637 Q1983.96 167.929 1988.19 167.929 Q1990.65 167.929 1992.94 167.327 Q1995.25 166.725 1997.52 165.521 L1997.52 169.549 Q1995.23 170.521 1992.82 171.031 Q1990.42 171.54 1987.94 171.54 Q1981.73 171.54 1978.1 167.929 Q1974.49 164.318 1974.49 158.16 Q1974.49 151.795 1977.92 148.068 Q1981.36 144.318 1987.2 144.318 Q1992.43 144.318 1995.46 147.697 Q1998.52 151.054 1998.52 156.841 M1994.26 155.591 Q1994.21 152.096 1992.29 150.012 Q1990.39 147.929 1987.24 147.929 Q1983.68 147.929 1981.53 149.943 Q1979.4 151.957 1979.07 155.614 L1994.26 155.591 Z\" fill=\"#000000\" fill-rule=\"evenodd\" fill-opacity=\"1\" /><path clip-path=\"url(#clip680)\" d=\"M 0 0 M2038.96 137.443 L2038.96 142.003 Q2036.29 140.73 2033.93 140.105 Q2031.57 139.48 2029.37 139.48 Q2025.55 139.48 2023.47 140.961 Q2021.41 142.443 2021.41 145.174 Q2021.41 147.466 2022.78 148.647 Q2024.17 149.804 2028.01 150.522 L2030.83 151.1 Q2036.06 152.096 2038.54 154.619 Q2041.04 157.119 2041.04 161.332 Q2041.04 166.355 2037.66 168.947 Q2034.3 171.54 2027.8 171.54 Q2025.35 171.54 2022.57 170.984 Q2019.81 170.429 2016.85 169.341 L2016.85 164.526 Q2019.7 166.123 2022.43 166.933 Q2025.16 167.744 2027.8 167.744 Q2031.8 167.744 2033.98 166.17 Q2036.16 164.596 2036.16 161.679 Q2036.16 159.133 2034.58 157.697 Q2033.03 156.262 2029.47 155.545 L2026.62 154.989 Q2021.39 153.947 2019.05 151.725 Q2016.71 149.503 2016.71 145.545 Q2016.71 140.961 2019.93 138.322 Q2023.17 135.684 2028.84 135.684 Q2031.27 135.684 2033.79 136.123 Q2036.32 136.563 2038.96 137.443 Z\" fill=\"#000000\" fill-rule=\"evenodd\" fill-opacity=\"1\" /><path clip-path=\"url(#clip680)\" d=\"M 0 0 M2064.16 145.938 L2064.16 149.92 Q2062.36 148.924 2060.53 148.438 Q2058.73 147.929 2056.87 147.929 Q2052.73 147.929 2050.44 150.568 Q2048.15 153.184 2048.15 157.929 Q2048.15 162.674 2050.44 165.313 Q2052.73 167.929 2056.87 167.929 Q2058.73 167.929 2060.53 167.443 Q2062.36 166.933 2064.16 165.938 L2064.16 169.873 Q2062.38 170.707 2060.46 171.123 Q2058.56 171.54 2056.41 171.54 Q2050.55 171.54 2047.1 167.859 Q2043.66 164.179 2043.66 157.929 Q2043.66 151.586 2047.13 147.952 Q2050.62 144.318 2056.69 144.318 Q2058.66 144.318 2060.53 144.735 Q2062.41 145.128 2064.16 145.938 Z\" fill=\"#000000\" fill-rule=\"evenodd\" fill-opacity=\"1\" /><path clip-path=\"url(#clip680)\" d=\"M 0 0 M2078.68 147.929 Q2075.25 147.929 2073.26 150.614 Q2071.27 153.276 2071.27 157.929 Q2071.27 162.582 2073.24 165.267 Q2075.23 167.929 2078.68 167.929 Q2082.08 167.929 2084.07 165.244 Q2086.06 162.558 2086.06 157.929 Q2086.06 153.322 2084.07 150.637 Q2082.08 147.929 2078.68 147.929 M2078.68 144.318 Q2084.23 144.318 2087.41 147.929 Q2090.58 151.54 2090.58 157.929 Q2090.58 164.295 2087.41 167.929 Q2084.23 171.54 2078.68 171.54 Q2073.1 171.54 2069.93 167.929 Q2066.78 164.295 2066.78 157.929 Q2066.78 151.54 2069.93 147.929 Q2073.1 144.318 2078.68 144.318 Z\" fill=\"#000000\" fill-rule=\"evenodd\" fill-opacity=\"1\" /><path clip-path=\"url(#clip680)\" d=\"M 0 0 M2110.07 148.924 Q2109.35 148.508 2108.49 148.322 Q2107.66 148.114 2106.64 148.114 Q2103.03 148.114 2101.09 150.475 Q2099.16 152.813 2099.16 157.211 L2099.16 170.869 L2094.88 170.869 L2094.88 144.943 L2099.16 144.943 L2099.16 148.971 Q2100.51 146.609 2102.66 145.475 Q2104.81 144.318 2107.89 144.318 Q2108.33 144.318 2108.86 144.387 Q2109.4 144.434 2110.04 144.549 L2110.07 148.924 Z\" fill=\"#000000\" fill-rule=\"evenodd\" fill-opacity=\"1\" /><path clip-path=\"url(#clip680)\" d=\"M 0 0 M2135.67 156.841 L2135.67 158.924 L2116.09 158.924 Q2116.36 163.322 2118.72 165.637 Q2121.11 167.929 2125.35 167.929 Q2127.8 167.929 2130.09 167.327 Q2132.41 166.725 2134.67 165.521 L2134.67 169.549 Q2132.38 170.521 2129.97 171.031 Q2127.57 171.54 2125.09 171.54 Q2118.89 171.54 2115.25 167.929 Q2111.64 164.318 2111.64 158.16 Q2111.64 151.795 2115.07 148.068 Q2118.52 144.318 2124.35 144.318 Q2129.58 144.318 2132.61 147.697 Q2135.67 151.054 2135.67 156.841 M2131.41 155.591 Q2131.36 152.096 2129.44 150.012 Q2127.54 147.929 2124.4 147.929 Q2120.83 147.929 2118.68 149.943 Q2116.55 151.957 2116.22 155.614 L2131.41 155.591 Z\" fill=\"#000000\" fill-rule=\"evenodd\" fill-opacity=\"1\" /></svg>\n"
      ]
     },
     "execution_count": 418,
     "metadata": {},
     "output_type": "execute_result"
    }
   ],
   "source": [
    "plot(k_range, total_costs, legend=:bottomleft, label=\"Total Squared Error\", color=:green, lw=2)\n",
    "xlabel!(\"Number of Clusters\")\n",
    "plot!(twinx(),k_range, sil_means, legend=:topright, label=\"Silhouette Score\", color=:blue, lw=2)"
   ]
  },
  {
   "cell_type": "code",
   "execution_count": 419,
   "metadata": {},
   "outputs": [],
   "source": [
    "savefig(\"figures/bio_kmeans_metrics_$upper\")"
   ]
  },
  {
   "cell_type": "code",
   "execution_count": 420,
   "metadata": {},
   "outputs": [
    {
     "data": {
      "text/plain": [
       "prepare_portfolio (generic function with 1 method)"
      ]
     },
     "execution_count": 420,
     "metadata": {},
     "output_type": "execute_result"
    }
   ],
   "source": [
    "function prepare_portfolio(ls)\n",
    "    N = size(ls)[1]\n",
    "    D = size(ls[end])[1]\n",
    "    mat = zeros(N, D)\n",
    "    for i in 1:N\n",
    "#         print(\"\\n\")\n",
    "#         @show i\n",
    "        for j in 1:size(ls[i])[1]\n",
    "#             @show j\n",
    "            mat[i,j] = ls[i][j][2]\n",
    "        end\n",
    "    end\n",
    "    return mat\n",
    "end"
   ]
  },
  {
   "cell_type": "code",
   "execution_count": 421,
   "metadata": {},
   "outputs": [
    {
     "data": {
      "text/plain": [
       "cum_columns (generic function with 1 method)"
      ]
     },
     "execution_count": 421,
     "metadata": {},
     "output_type": "execute_result"
    }
   ],
   "source": [
    "function cum_columns(mat; normalize=false)\n",
    "    mat2 = deepcopy(mat)\n",
    "    normalize && (mat2 ./= sum(mat2, dims = 2)) # if you want to normalize each row\n",
    "    for i in 2:size(mat2)[2]\n",
    "       mat2[:,i] = mat2[:,i-1] + mat2[:,i]\n",
    "    end\n",
    "    return mat2'\n",
    "end"
   ]
  },
  {
   "cell_type": "code",
   "execution_count": 422,
   "metadata": {},
   "outputs": [
    {
     "data": {
      "text/plain": [
       "cum_plot (generic function with 1 method)"
      ]
     },
     "execution_count": 422,
     "metadata": {},
     "output_type": "execute_result"
    }
   ],
   "source": [
    "function cum_plot(mat)\n",
    "    N = size(mat)[2]\n",
    "    p = plot(legend=:outertopright, palette=palette(:Accent_8))\n",
    "    for i in N+1:-1:1\n",
    "        plot!(1:N, mat[i,:], label=\"Cluster $(i)\", fill=0, α=1)\n",
    "    end\n",
    "    xticks!(collect(1:N),string.(collect(2:N+1)))\n",
    "    ylabel!(\"Cluster Proportion\")\n",
    "    xlabel!(\"Number of Clusters\")\n",
    "    display(p)\n",
    "end"
   ]
  },
  {
   "cell_type": "code",
   "execution_count": 423,
   "metadata": {},
   "outputs": [
    {
     "name": "stdout",
     "output_type": "stream",
     "text": [
      "fillrange {Number or AbstractVector}\n",
      "fill_between, fillbetween, fillranges, fillrng, fillto, frange\n",
      "\n",
      "Fills area between fillrange and y for line-types, sets the base for bar/stick types, and similar for other types.\n",
      "Series attribute,  default: nothing\n"
     ]
    }
   ],
   "source": [
    "# plotattr(:Series)\n",
    "plotattr(\"fillrange\")"
   ]
  },
  {
   "cell_type": "code",
   "execution_count": 424,
   "metadata": {},
   "outputs": [
    {
     "data": {
      "text/plain": [
       "8×7 LinearAlgebra.Adjoint{Float64,Array{Float64,2}}:\n",
       " 0.337398  0.224932  0.210027  0.135501  0.166667  0.173442  0.173442\n",
       " 1.0       0.762873  0.750678  0.589431  0.634146  0.246612  0.246612\n",
       " 1.0       1.0       0.949864  0.672087  0.704607  0.261518  0.261518\n",
       " 1.0       1.0       1.0       0.722222  0.754743  0.311653  0.287263\n",
       " 1.0       1.0       1.0       1.0       0.97832   0.542005  0.517615\n",
       " 1.0       1.0       1.0       1.0       1.0       0.563686  0.539295\n",
       " 1.0       1.0       1.0       1.0       1.0       1.0       0.97561\n",
       " 1.0       1.0       1.0       1.0       1.0       1.0       1.0"
      ]
     },
     "execution_count": 424,
     "metadata": {},
     "output_type": "execute_result"
    }
   ],
   "source": [
    "mat = prepare_portfolio(ls)\n",
    "plotmat = cum_columns(mat, normalize=true)"
   ]
  },
  {
   "cell_type": "markdown",
   "metadata": {},
   "source": [
    "#### Explanation\n",
    "For the plot, the area below each line indicates the proportion of the instances that are contained in that cluster. X-axis is number of clusters in that Kmeans run. So for 2 means, there are 2 clusters. For 5 means, there is a large cluster 1, a large cluster 4, and a large cluster 5. Up to runs as large as 6 clusters, there are really only 3 prevalent clusters. Farther than that, it becomes more fragmented. 3 clusters"
   ]
  },
  {
   "cell_type": "code",
   "execution_count": 425,
   "metadata": {
    "scrolled": false
   },
   "outputs": [
    {
     "data": {
      "image/svg+xml": [
       "<?xml version=\"1.0\" encoding=\"utf-8\"?>\n",
       "<svg xmlns=\"http://www.w3.org/2000/svg\" xmlns:xlink=\"http://www.w3.org/1999/xlink\" width=\"600\" height=\"400\" viewBox=\"0 0 2400 1600\">\n",
       "<defs>\n",
       "  <clipPath id=\"clip710\">\n",
       "    <rect x=\"0\" y=\"0\" width=\"2400\" height=\"1600\"/>\n",
       "  </clipPath>\n",
       "</defs>\n",
       "<path clip-path=\"url(#clip710)\" d=\"\n",
       "M0 1600 L2400 1600 L2400 0 L0 0  Z\n",
       "  \" fill=\"#ffffff\" fill-rule=\"evenodd\" fill-opacity=\"1\"/>\n",
       "<defs>\n",
       "  <clipPath id=\"clip711\">\n",
       "    <rect x=\"480\" y=\"0\" width=\"1681\" height=\"1600\"/>\n",
       "  </clipPath>\n",
       "</defs>\n",
       "<path clip-path=\"url(#clip710)\" d=\"\n",
       "M238.13 1423.18 L1856.43 1423.18 L1856.43 47.2441 L238.13 47.2441  Z\n",
       "  \" fill=\"#ffffff\" fill-rule=\"evenodd\" fill-opacity=\"1\"/>\n",
       "<defs>\n",
       "  <clipPath id=\"clip712\">\n",
       "    <rect x=\"238\" y=\"47\" width=\"1619\" height=\"1377\"/>\n",
       "  </clipPath>\n",
       "</defs>\n",
       "<polyline clip-path=\"url(#clip712)\" style=\"stroke:#000000; stroke-width:2; stroke-opacity:0.1; fill:none\" points=\"\n",
       "  283.931,1423.18 283.931,47.2441 \n",
       "  \"/>\n",
       "<polyline clip-path=\"url(#clip712)\" style=\"stroke:#000000; stroke-width:2; stroke-opacity:0.1; fill:none\" points=\"\n",
       "  538.381,1423.18 538.381,47.2441 \n",
       "  \"/>\n",
       "<polyline clip-path=\"url(#clip712)\" style=\"stroke:#000000; stroke-width:2; stroke-opacity:0.1; fill:none\" points=\"\n",
       "  792.831,1423.18 792.831,47.2441 \n",
       "  \"/>\n",
       "<polyline clip-path=\"url(#clip712)\" style=\"stroke:#000000; stroke-width:2; stroke-opacity:0.1; fill:none\" points=\"\n",
       "  1047.28,1423.18 1047.28,47.2441 \n",
       "  \"/>\n",
       "<polyline clip-path=\"url(#clip712)\" style=\"stroke:#000000; stroke-width:2; stroke-opacity:0.1; fill:none\" points=\"\n",
       "  1301.73,1423.18 1301.73,47.2441 \n",
       "  \"/>\n",
       "<polyline clip-path=\"url(#clip712)\" style=\"stroke:#000000; stroke-width:2; stroke-opacity:0.1; fill:none\" points=\"\n",
       "  1556.18,1423.18 1556.18,47.2441 \n",
       "  \"/>\n",
       "<polyline clip-path=\"url(#clip712)\" style=\"stroke:#000000; stroke-width:2; stroke-opacity:0.1; fill:none\" points=\"\n",
       "  1810.63,1423.18 1810.63,47.2441 \n",
       "  \"/>\n",
       "<polyline clip-path=\"url(#clip710)\" style=\"stroke:#000000; stroke-width:4; stroke-opacity:1; fill:none\" points=\"\n",
       "  238.13,1423.18 1856.43,1423.18 \n",
       "  \"/>\n",
       "<polyline clip-path=\"url(#clip710)\" style=\"stroke:#000000; stroke-width:4; stroke-opacity:1; fill:none\" points=\"\n",
       "  283.931,1423.18 283.931,1406.67 \n",
       "  \"/>\n",
       "<polyline clip-path=\"url(#clip710)\" style=\"stroke:#000000; stroke-width:4; stroke-opacity:1; fill:none\" points=\"\n",
       "  538.381,1423.18 538.381,1406.67 \n",
       "  \"/>\n",
       "<polyline clip-path=\"url(#clip710)\" style=\"stroke:#000000; stroke-width:4; stroke-opacity:1; fill:none\" points=\"\n",
       "  792.831,1423.18 792.831,1406.67 \n",
       "  \"/>\n",
       "<polyline clip-path=\"url(#clip710)\" style=\"stroke:#000000; stroke-width:4; stroke-opacity:1; fill:none\" points=\"\n",
       "  1047.28,1423.18 1047.28,1406.67 \n",
       "  \"/>\n",
       "<polyline clip-path=\"url(#clip710)\" style=\"stroke:#000000; stroke-width:4; stroke-opacity:1; fill:none\" points=\"\n",
       "  1301.73,1423.18 1301.73,1406.67 \n",
       "  \"/>\n",
       "<polyline clip-path=\"url(#clip710)\" style=\"stroke:#000000; stroke-width:4; stroke-opacity:1; fill:none\" points=\"\n",
       "  1556.18,1423.18 1556.18,1406.67 \n",
       "  \"/>\n",
       "<polyline clip-path=\"url(#clip710)\" style=\"stroke:#000000; stroke-width:4; stroke-opacity:1; fill:none\" points=\"\n",
       "  1810.63,1423.18 1810.63,1406.67 \n",
       "  \"/>\n",
       "<path clip-path=\"url(#clip710)\" d=\"M 0 0 M278.584 1479.92 L294.903 1479.92 L294.903 1483.85 L272.959 1483.85 L272.959 1479.92 Q275.621 1477.16 280.204 1472.53 Q284.811 1467.88 285.991 1466.54 Q288.237 1464.01 289.116 1462.28 Q290.019 1460.52 290.019 1458.83 Q290.019 1456.07 288.075 1454.34 Q286.153 1452.6 283.051 1452.6 Q280.852 1452.6 278.399 1453.37 Q275.968 1454.13 273.19 1455.68 L273.19 1450.96 Q276.014 1449.82 278.468 1449.25 Q280.922 1448.67 282.959 1448.67 Q288.329 1448.67 291.524 1451.35 Q294.718 1454.04 294.718 1458.53 Q294.718 1460.66 293.908 1462.58 Q293.121 1464.48 291.014 1467.07 Q290.436 1467.74 287.334 1470.96 Q284.232 1474.15 278.584 1479.92 Z\" fill=\"#000000\" fill-rule=\"evenodd\" fill-opacity=\"1\" /><path clip-path=\"url(#clip710)\" d=\"M 0 0 M542.629 1465.22 Q545.985 1465.94 547.86 1468.2 Q549.758 1470.47 549.758 1473.81 Q549.758 1478.92 546.24 1481.72 Q542.721 1484.52 536.24 1484.52 Q534.064 1484.52 531.749 1484.08 Q529.457 1483.67 527.004 1482.81 L527.004 1478.3 Q528.948 1479.43 531.263 1480.01 Q533.578 1480.59 536.101 1480.59 Q540.499 1480.59 542.791 1478.85 Q545.105 1477.12 545.105 1473.81 Q545.105 1470.75 542.953 1469.04 Q540.823 1467.3 537.004 1467.3 L532.976 1467.3 L532.976 1463.46 L537.189 1463.46 Q540.638 1463.46 542.467 1462.09 Q544.295 1460.7 544.295 1458.11 Q544.295 1455.45 542.397 1454.04 Q540.522 1452.6 537.004 1452.6 Q535.082 1452.6 532.883 1453.02 Q530.684 1453.44 528.045 1454.31 L528.045 1450.15 Q530.707 1449.41 533.022 1449.04 Q535.36 1448.67 537.42 1448.67 Q542.744 1448.67 545.846 1451.1 Q548.948 1453.5 548.948 1457.63 Q548.948 1460.5 547.304 1462.49 Q545.661 1464.45 542.629 1465.22 Z\" fill=\"#000000\" fill-rule=\"evenodd\" fill-opacity=\"1\" /><path clip-path=\"url(#clip710)\" d=\"M 0 0 M795.84 1453.37 L784.035 1471.81 L795.84 1471.81 L795.84 1453.37 M794.613 1449.29 L800.493 1449.29 L800.493 1471.81 L805.423 1471.81 L805.423 1475.7 L800.493 1475.7 L800.493 1483.85 L795.84 1483.85 L795.84 1475.7 L780.238 1475.7 L780.238 1471.19 L794.613 1449.29 Z\" fill=\"#000000\" fill-rule=\"evenodd\" fill-opacity=\"1\" /><path clip-path=\"url(#clip710)\" d=\"M 0 0 M1037.56 1449.29 L1055.91 1449.29 L1055.91 1453.23 L1041.84 1453.23 L1041.84 1461.7 Q1042.86 1461.35 1043.88 1461.19 Q1044.9 1461 1045.91 1461 Q1051.7 1461 1055.08 1464.18 Q1058.46 1467.35 1058.46 1472.76 Q1058.46 1478.34 1054.99 1481.44 Q1051.52 1484.52 1045.2 1484.52 Q1043.02 1484.52 1040.75 1484.15 Q1038.51 1483.78 1036.1 1483.04 L1036.1 1478.34 Q1038.18 1479.48 1040.41 1480.03 Q1042.63 1480.59 1045.1 1480.59 Q1049.11 1480.59 1051.45 1478.48 Q1053.79 1476.38 1053.79 1472.76 Q1053.79 1469.15 1051.45 1467.05 Q1049.11 1464.94 1045.1 1464.94 Q1043.23 1464.94 1041.35 1465.36 Q1039.5 1465.77 1037.56 1466.65 L1037.56 1449.29 Z\" fill=\"#000000\" fill-rule=\"evenodd\" fill-opacity=\"1\" /><path clip-path=\"url(#clip710)\" d=\"M 0 0 M1302.14 1464.71 Q1298.99 1464.71 1297.14 1466.86 Q1295.31 1469.01 1295.31 1472.76 Q1295.31 1476.49 1297.14 1478.67 Q1298.99 1480.82 1302.14 1480.82 Q1305.28 1480.82 1307.11 1478.67 Q1308.96 1476.49 1308.96 1472.76 Q1308.96 1469.01 1307.11 1466.86 Q1305.28 1464.71 1302.14 1464.71 M1311.42 1450.06 L1311.42 1454.31 Q1309.66 1453.48 1307.85 1453.04 Q1306.07 1452.6 1304.31 1452.6 Q1299.68 1452.6 1297.23 1455.73 Q1294.8 1458.85 1294.45 1465.17 Q1295.82 1463.16 1297.88 1462.09 Q1299.94 1461 1302.41 1461 Q1307.62 1461 1310.63 1464.18 Q1313.66 1467.32 1313.66 1472.76 Q1313.66 1478.09 1310.52 1481.31 Q1307.37 1484.52 1302.14 1484.52 Q1296.14 1484.52 1292.97 1479.94 Q1289.8 1475.33 1289.8 1466.61 Q1289.8 1458.41 1293.69 1453.55 Q1297.58 1448.67 1304.13 1448.67 Q1305.89 1448.67 1307.67 1449.01 Q1309.47 1449.36 1311.42 1450.06 Z\" fill=\"#000000\" fill-rule=\"evenodd\" fill-opacity=\"1\" /><path clip-path=\"url(#clip710)\" d=\"M 0 0 M1545.07 1449.29 L1567.29 1449.29 L1567.29 1451.28 L1554.75 1483.85 L1549.86 1483.85 L1561.67 1453.23 L1545.07 1453.23 L1545.07 1449.29 Z\" fill=\"#000000\" fill-rule=\"evenodd\" fill-opacity=\"1\" /><path clip-path=\"url(#clip710)\" d=\"M 0 0 M1810.63 1467.44 Q1807.3 1467.44 1805.38 1469.22 Q1803.48 1471 1803.48 1474.13 Q1803.48 1477.25 1805.38 1479.04 Q1807.3 1480.82 1810.63 1480.82 Q1813.96 1480.82 1815.88 1479.04 Q1817.81 1477.23 1817.81 1474.13 Q1817.81 1471 1815.88 1469.22 Q1813.99 1467.44 1810.63 1467.44 M1805.95 1465.45 Q1802.95 1464.71 1801.26 1462.65 Q1799.59 1460.59 1799.59 1457.63 Q1799.59 1453.48 1802.53 1451.07 Q1805.49 1448.67 1810.63 1448.67 Q1815.79 1448.67 1818.73 1451.07 Q1821.67 1453.48 1821.67 1457.63 Q1821.67 1460.59 1819.98 1462.65 Q1818.32 1464.71 1815.33 1465.45 Q1818.71 1466.24 1820.58 1468.53 Q1822.48 1470.82 1822.48 1474.13 Q1822.48 1479.15 1819.4 1481.84 Q1816.35 1484.52 1810.63 1484.52 Q1804.91 1484.52 1801.83 1481.84 Q1798.78 1479.15 1798.78 1474.13 Q1798.78 1470.82 1800.68 1468.53 Q1802.57 1466.24 1805.95 1465.45 M1804.24 1458.06 Q1804.24 1460.75 1805.91 1462.25 Q1807.6 1463.76 1810.63 1463.76 Q1813.64 1463.76 1815.33 1462.25 Q1817.04 1460.75 1817.04 1458.06 Q1817.04 1455.38 1815.33 1453.88 Q1813.64 1452.37 1810.63 1452.37 Q1807.6 1452.37 1805.91 1453.88 Q1804.24 1455.38 1804.24 1458.06 Z\" fill=\"#000000\" fill-rule=\"evenodd\" fill-opacity=\"1\" /><path clip-path=\"url(#clip710)\" d=\"M 0 0 M761.842 1508.52 L770.5 1508.52 L791.57 1548.28 L791.57 1508.52 L797.809 1508.52 L797.809 1556.04 L789.151 1556.04 L768.081 1516.29 L768.081 1556.04 L761.842 1556.04 L761.842 1508.52 Z\" fill=\"#000000\" fill-rule=\"evenodd\" fill-opacity=\"1\" /><path clip-path=\"url(#clip710)\" d=\"M 0 0 M803.347 1541.98 L803.347 1520.4 L809.203 1520.4 L809.203 1541.75 Q809.203 1546.81 811.177 1549.36 Q813.15 1551.87 817.097 1551.87 Q821.839 1551.87 824.576 1548.85 Q827.346 1545.83 827.346 1540.61 L827.346 1520.4 L833.202 1520.4 L833.202 1556.04 L827.346 1556.04 L827.346 1550.57 Q825.213 1553.82 822.38 1555.41 Q819.579 1556.97 815.855 1556.97 Q809.713 1556.97 806.53 1553.15 Q803.347 1549.33 803.347 1541.98 M818.083 1519.54 L818.083 1519.54 Z\" fill=\"#000000\" fill-rule=\"evenodd\" fill-opacity=\"1\" /><path clip-path=\"url(#clip710)\" d=\"M 0 0 M867.099 1527.24 Q869.296 1523.29 872.351 1521.41 Q875.407 1519.54 879.544 1519.54 Q885.114 1519.54 888.138 1523.45 Q891.162 1527.33 891.162 1534.53 L891.162 1556.04 L885.273 1556.04 L885.273 1534.72 Q885.273 1529.59 883.459 1527.11 Q881.645 1524.63 877.921 1524.63 Q873.37 1524.63 870.728 1527.65 Q868.086 1530.68 868.086 1535.9 L868.086 1556.04 L862.198 1556.04 L862.198 1534.72 Q862.198 1529.56 860.384 1527.11 Q858.569 1524.63 854.782 1524.63 Q850.294 1524.63 847.652 1527.68 Q845.01 1530.71 845.01 1535.9 L845.01 1556.04 L839.122 1556.04 L839.122 1520.4 L845.01 1520.4 L845.01 1525.93 Q847.016 1522.66 849.816 1521.1 Q852.617 1519.54 856.469 1519.54 Q860.352 1519.54 863.057 1521.51 Q865.794 1523.48 867.099 1527.24 Z\" fill=\"#000000\" fill-rule=\"evenodd\" fill-opacity=\"1\" /><path clip-path=\"url(#clip710)\" d=\"M 0 0 M922.895 1538.25 Q922.895 1531.79 920.221 1528.13 Q917.579 1524.44 912.932 1524.44 Q908.285 1524.44 905.612 1528.13 Q902.97 1531.79 902.97 1538.25 Q902.97 1544.71 905.612 1548.4 Q908.285 1552.07 912.932 1552.07 Q917.579 1552.07 920.221 1548.4 Q922.895 1544.71 922.895 1538.25 M902.97 1525.81 Q904.816 1522.62 907.617 1521.1 Q910.45 1519.54 914.365 1519.54 Q920.858 1519.54 924.9 1524.69 Q928.974 1529.85 928.974 1538.25 Q928.974 1546.65 924.9 1551.81 Q920.858 1556.97 914.365 1556.97 Q910.45 1556.97 907.617 1555.44 Q904.816 1553.88 902.97 1550.7 L902.97 1556.04 L897.082 1556.04 L897.082 1506.52 L902.97 1506.52 L902.97 1525.81 Z\" fill=\"#000000\" fill-rule=\"evenodd\" fill-opacity=\"1\" /><path clip-path=\"url(#clip710)\" d=\"M 0 0 M965.609 1536.76 L965.609 1539.62 L938.682 1539.62 Q939.064 1545.67 942.31 1548.85 Q945.589 1552 951.413 1552 Q954.787 1552 957.938 1551.17 Q961.121 1550.35 964.24 1548.69 L964.24 1554.23 Q961.089 1555.57 957.779 1556.27 Q954.469 1556.97 951.063 1556.97 Q942.533 1556.97 937.536 1552 Q932.571 1547.04 932.571 1538.57 Q932.571 1529.82 937.281 1524.69 Q942.024 1519.54 950.045 1519.54 Q957.238 1519.54 961.407 1524.18 Q965.609 1528.8 965.609 1536.76 M959.752 1535.04 Q959.689 1530.23 957.047 1527.37 Q954.437 1524.5 950.108 1524.5 Q945.207 1524.5 942.247 1527.27 Q939.318 1530.04 938.873 1535.07 L959.752 1535.04 Z\" fill=\"#000000\" fill-rule=\"evenodd\" fill-opacity=\"1\" /><path clip-path=\"url(#clip710)\" d=\"M 0 0 M992.408 1525.87 Q991.422 1525.3 990.244 1525.04 Q989.098 1524.76 987.698 1524.76 Q982.732 1524.76 980.059 1528 Q977.417 1531.22 977.417 1537.27 L977.417 1556.04 L971.529 1556.04 L971.529 1520.4 L977.417 1520.4 L977.417 1525.93 Q979.263 1522.69 982.223 1521.13 Q985.183 1519.54 989.416 1519.54 Q990.021 1519.54 990.753 1519.63 Q991.485 1519.7 992.376 1519.85 L992.408 1525.87 Z\" fill=\"#000000\" fill-rule=\"evenodd\" fill-opacity=\"1\" /><path clip-path=\"url(#clip710)\" d=\"M 0 0 M1033.09 1524.5 Q1028.37 1524.5 1025.64 1528.19 Q1022.9 1531.85 1022.9 1538.25 Q1022.9 1544.65 1025.61 1548.34 Q1028.34 1552 1033.09 1552 Q1037.76 1552 1040.5 1548.31 Q1043.24 1544.62 1043.24 1538.25 Q1043.24 1531.92 1040.5 1528.23 Q1037.76 1524.5 1033.09 1524.5 M1033.09 1519.54 Q1040.72 1519.54 1045.08 1524.5 Q1049.45 1529.47 1049.45 1538.25 Q1049.45 1547 1045.08 1552 Q1040.72 1556.97 1033.09 1556.97 Q1025.41 1556.97 1021.05 1552 Q1016.73 1547 1016.73 1538.25 Q1016.73 1529.47 1021.05 1524.5 Q1025.41 1519.54 1033.09 1519.54 Z\" fill=\"#000000\" fill-rule=\"evenodd\" fill-opacity=\"1\" /><path clip-path=\"url(#clip710)\" d=\"M 0 0 M1073.63 1506.52 L1073.63 1511.39 L1068.03 1511.39 Q1064.88 1511.39 1063.64 1512.66 Q1062.43 1513.93 1062.43 1517.24 L1062.43 1520.4 L1072.08 1520.4 L1072.08 1524.95 L1062.43 1524.95 L1062.43 1556.04 L1056.54 1556.04 L1056.54 1524.95 L1050.94 1524.95 L1050.94 1520.4 L1056.54 1520.4 L1056.54 1517.91 Q1056.54 1511.96 1059.31 1509.26 Q1062.08 1506.52 1068.1 1506.52 L1073.63 1506.52 Z\" fill=\"#000000\" fill-rule=\"evenodd\" fill-opacity=\"1\" /><path clip-path=\"url(#clip710)\" d=\"M 0 0 M1136.34 1512.18 L1136.34 1518.96 Q1133.09 1515.94 1129.4 1514.44 Q1125.74 1512.95 1121.6 1512.95 Q1113.45 1512.95 1109.12 1517.95 Q1104.79 1522.91 1104.79 1532.33 Q1104.79 1541.72 1109.12 1546.72 Q1113.45 1551.68 1121.6 1551.68 Q1125.74 1551.68 1129.4 1550.19 Q1133.09 1548.69 1136.34 1545.67 L1136.34 1552.38 Q1132.96 1554.68 1129.18 1555.82 Q1125.42 1556.97 1121.22 1556.97 Q1110.43 1556.97 1104.22 1550.38 Q1098.02 1543.76 1098.02 1532.33 Q1098.02 1520.87 1104.22 1514.28 Q1110.43 1507.66 1121.22 1507.66 Q1125.48 1507.66 1129.24 1508.81 Q1133.03 1509.92 1136.34 1512.18 Z\" fill=\"#000000\" fill-rule=\"evenodd\" fill-opacity=\"1\" /><path clip-path=\"url(#clip710)\" d=\"M 0 0 M1142.48 1506.52 L1148.34 1506.52 L1148.34 1556.04 L1142.48 1556.04 L1142.48 1506.52 Z\" fill=\"#000000\" fill-rule=\"evenodd\" fill-opacity=\"1\" /><path clip-path=\"url(#clip710)\" d=\"M 0 0 M1153.87 1541.98 L1153.87 1520.4 L1159.73 1520.4 L1159.73 1541.75 Q1159.73 1546.81 1161.7 1549.36 Q1163.68 1551.87 1167.62 1551.87 Q1172.37 1551.87 1175.1 1548.85 Q1177.87 1545.83 1177.87 1540.61 L1177.87 1520.4 L1183.73 1520.4 L1183.73 1556.04 L1177.87 1556.04 L1177.87 1550.57 Q1175.74 1553.82 1172.91 1555.41 Q1170.11 1556.97 1166.38 1556.97 Q1160.24 1556.97 1157.06 1553.15 Q1153.87 1549.33 1153.87 1541.98 M1168.61 1519.54 L1168.61 1519.54 Z\" fill=\"#000000\" fill-rule=\"evenodd\" fill-opacity=\"1\" /><path clip-path=\"url(#clip710)\" d=\"M 0 0 M1212.6 1521.45 L1212.6 1526.98 Q1210.12 1525.71 1207.44 1525.07 Q1204.77 1524.44 1201.9 1524.44 Q1197.54 1524.44 1195.35 1525.77 Q1193.18 1527.11 1193.18 1529.79 Q1193.18 1531.82 1194.74 1533 Q1196.3 1534.15 1201.01 1535.2 L1203.02 1535.64 Q1209.26 1536.98 1211.87 1539.43 Q1214.51 1541.85 1214.51 1546.21 Q1214.51 1551.17 1210.56 1554.07 Q1206.65 1556.97 1199.77 1556.97 Q1196.91 1556.97 1193.79 1556.39 Q1190.7 1555.85 1187.26 1554.74 L1187.26 1548.69 Q1190.51 1550.38 1193.66 1551.24 Q1196.81 1552.07 1199.9 1552.07 Q1204.04 1552.07 1206.26 1550.66 Q1208.49 1549.23 1208.49 1546.65 Q1208.49 1544.27 1206.87 1542.99 Q1205.28 1541.72 1199.83 1540.54 L1197.8 1540.07 Q1192.36 1538.92 1189.94 1536.56 Q1187.52 1534.18 1187.52 1530.04 Q1187.52 1525.01 1191.08 1522.27 Q1194.65 1519.54 1201.2 1519.54 Q1204.45 1519.54 1207.31 1520.01 Q1210.18 1520.49 1212.6 1521.45 Z\" fill=\"#000000\" fill-rule=\"evenodd\" fill-opacity=\"1\" /><path clip-path=\"url(#clip710)\" d=\"M 0 0 M1226.44 1510.27 L1226.44 1520.4 L1238.51 1520.4 L1238.51 1524.95 L1226.44 1524.95 L1226.44 1544.3 Q1226.44 1548.66 1227.62 1549.9 Q1228.83 1551.14 1232.49 1551.14 L1238.51 1551.14 L1238.51 1556.04 L1232.49 1556.04 Q1225.71 1556.04 1223.13 1553.53 Q1220.56 1550.98 1220.56 1544.3 L1220.56 1524.95 L1216.26 1524.95 L1216.26 1520.4 L1220.56 1520.4 L1220.56 1510.27 L1226.44 1510.27 Z\" fill=\"#000000\" fill-rule=\"evenodd\" fill-opacity=\"1\" /><path clip-path=\"url(#clip710)\" d=\"M 0 0 M1275.14 1536.76 L1275.14 1539.62 L1248.21 1539.62 Q1248.6 1545.67 1251.84 1548.85 Q1255.12 1552 1260.95 1552 Q1264.32 1552 1267.47 1551.17 Q1270.65 1550.35 1273.77 1548.69 L1273.77 1554.23 Q1270.62 1555.57 1267.31 1556.27 Q1264 1556.97 1260.6 1556.97 Q1252.07 1556.97 1247.07 1552 Q1242.1 1547.04 1242.1 1538.57 Q1242.1 1529.82 1246.81 1524.69 Q1251.56 1519.54 1259.58 1519.54 Q1266.77 1519.54 1270.94 1524.18 Q1275.14 1528.8 1275.14 1536.76 M1269.28 1535.04 Q1269.22 1530.23 1266.58 1527.37 Q1263.97 1524.5 1259.64 1524.5 Q1254.74 1524.5 1251.78 1527.27 Q1248.85 1530.04 1248.41 1535.07 L1269.28 1535.04 Z\" fill=\"#000000\" fill-rule=\"evenodd\" fill-opacity=\"1\" /><path clip-path=\"url(#clip710)\" d=\"M 0 0 M1301.94 1525.87 Q1300.95 1525.3 1299.78 1525.04 Q1298.63 1524.76 1297.23 1524.76 Q1292.26 1524.76 1289.59 1528 Q1286.95 1531.22 1286.95 1537.27 L1286.95 1556.04 L1281.06 1556.04 L1281.06 1520.4 L1286.95 1520.4 L1286.95 1525.93 Q1288.8 1522.69 1291.76 1521.13 Q1294.72 1519.54 1298.95 1519.54 Q1299.55 1519.54 1300.29 1519.63 Q1301.02 1519.7 1301.91 1519.85 L1301.94 1525.87 Z\" fill=\"#000000\" fill-rule=\"evenodd\" fill-opacity=\"1\" /><path clip-path=\"url(#clip710)\" d=\"M 0 0 M1330.81 1521.45 L1330.81 1526.98 Q1328.33 1525.71 1325.65 1525.07 Q1322.98 1524.44 1320.11 1524.44 Q1315.75 1524.44 1313.56 1525.77 Q1311.39 1527.11 1311.39 1529.79 Q1311.39 1531.82 1312.95 1533 Q1314.51 1534.15 1319.22 1535.2 L1321.23 1535.64 Q1327.47 1536.98 1330.08 1539.43 Q1332.72 1541.85 1332.72 1546.21 Q1332.72 1551.17 1328.77 1554.07 Q1324.86 1556.97 1317.98 1556.97 Q1315.12 1556.97 1312 1556.39 Q1308.91 1555.85 1305.47 1554.74 L1305.47 1548.69 Q1308.72 1550.38 1311.87 1551.24 Q1315.02 1552.07 1318.11 1552.07 Q1322.25 1552.07 1324.48 1550.66 Q1326.7 1549.23 1326.7 1546.65 Q1326.7 1544.27 1325.08 1542.99 Q1323.49 1541.72 1318.05 1540.54 L1316.01 1540.07 Q1310.57 1538.92 1308.15 1536.56 Q1305.73 1534.18 1305.73 1530.04 Q1305.73 1525.01 1309.29 1522.27 Q1312.86 1519.54 1319.41 1519.54 Q1322.66 1519.54 1325.53 1520.01 Q1328.39 1520.49 1330.81 1521.45 Z\" fill=\"#000000\" fill-rule=\"evenodd\" fill-opacity=\"1\" /><polyline clip-path=\"url(#clip712)\" style=\"stroke:#000000; stroke-width:2; stroke-opacity:0.1; fill:none\" points=\"\n",
       "  238.13,1384.24 1856.43,1384.24 \n",
       "  \"/>\n",
       "<polyline clip-path=\"url(#clip712)\" style=\"stroke:#000000; stroke-width:2; stroke-opacity:0.1; fill:none\" points=\"\n",
       "  238.13,1059.73 1856.43,1059.73 \n",
       "  \"/>\n",
       "<polyline clip-path=\"url(#clip712)\" style=\"stroke:#000000; stroke-width:2; stroke-opacity:0.1; fill:none\" points=\"\n",
       "  238.13,735.212 1856.43,735.212 \n",
       "  \"/>\n",
       "<polyline clip-path=\"url(#clip712)\" style=\"stroke:#000000; stroke-width:2; stroke-opacity:0.1; fill:none\" points=\"\n",
       "  238.13,410.699 1856.43,410.699 \n",
       "  \"/>\n",
       "<polyline clip-path=\"url(#clip712)\" style=\"stroke:#000000; stroke-width:2; stroke-opacity:0.1; fill:none\" points=\"\n",
       "  238.13,86.1857 1856.43,86.1857 \n",
       "  \"/>\n",
       "<polyline clip-path=\"url(#clip710)\" style=\"stroke:#000000; stroke-width:4; stroke-opacity:1; fill:none\" points=\"\n",
       "  238.13,1423.18 238.13,47.2441 \n",
       "  \"/>\n",
       "<polyline clip-path=\"url(#clip710)\" style=\"stroke:#000000; stroke-width:4; stroke-opacity:1; fill:none\" points=\"\n",
       "  238.13,1384.24 257.55,1384.24 \n",
       "  \"/>\n",
       "<polyline clip-path=\"url(#clip710)\" style=\"stroke:#000000; stroke-width:4; stroke-opacity:1; fill:none\" points=\"\n",
       "  238.13,1059.73 257.55,1059.73 \n",
       "  \"/>\n",
       "<polyline clip-path=\"url(#clip710)\" style=\"stroke:#000000; stroke-width:4; stroke-opacity:1; fill:none\" points=\"\n",
       "  238.13,735.212 257.55,735.212 \n",
       "  \"/>\n",
       "<polyline clip-path=\"url(#clip710)\" style=\"stroke:#000000; stroke-width:4; stroke-opacity:1; fill:none\" points=\"\n",
       "  238.13,410.699 257.55,410.699 \n",
       "  \"/>\n",
       "<polyline clip-path=\"url(#clip710)\" style=\"stroke:#000000; stroke-width:4; stroke-opacity:1; fill:none\" points=\"\n",
       "  238.13,86.1857 257.55,86.1857 \n",
       "  \"/>\n",
       "<path clip-path=\"url(#clip710)\" d=\"M 0 0 M126.205 1370.04 Q122.593 1370.04 120.765 1373.6 Q118.959 1377.14 118.959 1384.27 Q118.959 1391.38 120.765 1394.94 Q122.593 1398.49 126.205 1398.49 Q129.839 1398.49 131.644 1394.94 Q133.473 1391.38 133.473 1384.27 Q133.473 1377.14 131.644 1373.6 Q129.839 1370.04 126.205 1370.04 M126.205 1366.33 Q132.015 1366.33 135.07 1370.94 Q138.149 1375.52 138.149 1384.27 Q138.149 1393 135.07 1397.61 Q132.015 1402.19 126.205 1402.19 Q120.394 1402.19 117.316 1397.61 Q114.26 1393 114.26 1384.27 Q114.26 1375.52 117.316 1370.94 Q120.394 1366.33 126.205 1366.33 Z\" fill=\"#000000\" fill-rule=\"evenodd\" fill-opacity=\"1\" /><path clip-path=\"url(#clip710)\" d=\"M 0 0 M143.218 1395.64 L148.103 1395.64 L148.103 1401.52 L143.218 1401.52 L143.218 1395.64 Z\" fill=\"#000000\" fill-rule=\"evenodd\" fill-opacity=\"1\" /><path clip-path=\"url(#clip710)\" d=\"M 0 0 M163.172 1370.04 Q159.561 1370.04 157.732 1373.6 Q155.927 1377.14 155.927 1384.27 Q155.927 1391.38 157.732 1394.94 Q159.561 1398.49 163.172 1398.49 Q166.806 1398.49 168.612 1394.94 Q170.44 1391.38 170.44 1384.27 Q170.44 1377.14 168.612 1373.6 Q166.806 1370.04 163.172 1370.04 M163.172 1366.33 Q168.982 1366.33 172.038 1370.94 Q175.116 1375.52 175.116 1384.27 Q175.116 1393 172.038 1397.61 Q168.982 1402.19 163.172 1402.19 Q157.362 1402.19 154.283 1397.61 Q151.228 1393 151.228 1384.27 Q151.228 1375.52 154.283 1370.94 Q157.362 1366.33 163.172 1366.33 Z\" fill=\"#000000\" fill-rule=\"evenodd\" fill-opacity=\"1\" /><path clip-path=\"url(#clip710)\" d=\"M 0 0 M190.186 1370.04 Q186.575 1370.04 184.746 1373.6 Q182.94 1377.14 182.94 1384.27 Q182.94 1391.38 184.746 1394.94 Q186.575 1398.49 190.186 1398.49 Q193.82 1398.49 195.625 1394.94 Q197.454 1391.38 197.454 1384.27 Q197.454 1377.14 195.625 1373.6 Q193.82 1370.04 190.186 1370.04 M190.186 1366.33 Q195.996 1366.33 199.051 1370.94 Q202.13 1375.52 202.13 1384.27 Q202.13 1393 199.051 1397.61 Q195.996 1402.19 190.186 1402.19 Q184.376 1402.19 181.297 1397.61 Q178.241 1393 178.241 1384.27 Q178.241 1375.52 181.297 1370.94 Q184.376 1366.33 190.186 1366.33 Z\" fill=\"#000000\" fill-rule=\"evenodd\" fill-opacity=\"1\" /><path clip-path=\"url(#clip710)\" d=\"M 0 0 M128.797 1045.52 Q125.186 1045.52 123.357 1049.09 Q121.552 1052.63 121.552 1059.76 Q121.552 1066.87 123.357 1070.43 Q125.186 1073.97 128.797 1073.97 Q132.431 1073.97 134.237 1070.43 Q136.066 1066.87 136.066 1059.76 Q136.066 1052.63 134.237 1049.09 Q132.431 1045.52 128.797 1045.52 M128.797 1041.82 Q134.607 1041.82 137.663 1046.43 Q140.741 1051.01 140.741 1059.76 Q140.741 1068.49 137.663 1073.09 Q134.607 1077.68 128.797 1077.68 Q122.987 1077.68 119.908 1073.09 Q116.853 1068.49 116.853 1059.76 Q116.853 1051.01 119.908 1046.43 Q122.987 1041.82 128.797 1041.82 Z\" fill=\"#000000\" fill-rule=\"evenodd\" fill-opacity=\"1\" /><path clip-path=\"url(#clip710)\" d=\"M 0 0 M145.811 1071.13 L150.695 1071.13 L150.695 1077.01 L145.811 1077.01 L145.811 1071.13 Z\" fill=\"#000000\" fill-rule=\"evenodd\" fill-opacity=\"1\" /><path clip-path=\"url(#clip710)\" d=\"M 0 0 M159.792 1073.07 L176.112 1073.07 L176.112 1077.01 L154.167 1077.01 L154.167 1073.07 Q156.829 1070.32 161.413 1065.69 Q166.019 1061.03 167.2 1059.69 Q169.445 1057.17 170.325 1055.43 Q171.227 1053.67 171.227 1051.98 Q171.227 1049.23 169.283 1047.49 Q167.362 1045.76 164.26 1045.76 Q162.061 1045.76 159.607 1046.52 Q157.177 1047.28 154.399 1048.83 L154.399 1044.11 Q157.223 1042.98 159.677 1042.4 Q162.13 1041.82 164.167 1041.82 Q169.538 1041.82 172.732 1044.51 Q175.926 1047.19 175.926 1051.68 Q175.926 1053.81 175.116 1055.73 Q174.329 1057.63 172.223 1060.22 Q171.644 1060.89 168.542 1064.11 Q165.44 1067.31 159.792 1073.07 Z\" fill=\"#000000\" fill-rule=\"evenodd\" fill-opacity=\"1\" /><path clip-path=\"url(#clip710)\" d=\"M 0 0 M181.227 1042.45 L199.584 1042.45 L199.584 1046.38 L185.51 1046.38 L185.51 1054.85 Q186.528 1054.51 187.547 1054.34 Q188.565 1054.16 189.584 1054.16 Q195.371 1054.16 198.75 1057.33 Q202.13 1060.5 202.13 1065.92 Q202.13 1071.5 198.658 1074.6 Q195.186 1077.68 188.866 1077.68 Q186.69 1077.68 184.422 1077.31 Q182.176 1076.94 179.769 1076.19 L179.769 1071.5 Q181.852 1072.63 184.075 1073.19 Q186.297 1073.74 188.774 1073.74 Q192.778 1073.74 195.116 1071.63 Q197.454 1069.53 197.454 1065.92 Q197.454 1062.31 195.116 1060.2 Q192.778 1058.09 188.774 1058.09 Q186.899 1058.09 185.024 1058.51 Q183.172 1058.93 181.227 1059.81 L181.227 1042.45 Z\" fill=\"#000000\" fill-rule=\"evenodd\" fill-opacity=\"1\" /><path clip-path=\"url(#clip710)\" d=\"M 0 0 M127.2 721.011 Q123.589 721.011 121.76 724.575 Q119.955 728.117 119.955 735.247 Q119.955 742.353 121.76 745.918 Q123.589 749.46 127.2 749.46 Q130.834 749.46 132.64 745.918 Q134.468 742.353 134.468 735.247 Q134.468 728.117 132.64 724.575 Q130.834 721.011 127.2 721.011 M127.2 717.307 Q133.01 717.307 136.066 721.913 Q139.144 726.497 139.144 735.247 Q139.144 743.973 136.066 748.58 Q133.01 753.163 127.2 753.163 Q121.39 753.163 118.311 748.58 Q115.256 743.973 115.256 735.247 Q115.256 726.497 118.311 721.913 Q121.39 717.307 127.2 717.307 Z\" fill=\"#000000\" fill-rule=\"evenodd\" fill-opacity=\"1\" /><path clip-path=\"url(#clip710)\" d=\"M 0 0 M144.214 746.612 L149.098 746.612 L149.098 752.492 L144.214 752.492 L144.214 746.612 Z\" fill=\"#000000\" fill-rule=\"evenodd\" fill-opacity=\"1\" /><path clip-path=\"url(#clip710)\" d=\"M 0 0 M154.214 717.932 L172.57 717.932 L172.57 721.867 L158.496 721.867 L158.496 730.339 Q159.515 729.992 160.533 729.83 Q161.552 729.645 162.57 729.645 Q168.357 729.645 171.737 732.816 Q175.116 735.987 175.116 741.404 Q175.116 746.983 171.644 750.085 Q168.172 753.163 161.852 753.163 Q159.677 753.163 157.408 752.793 Q155.163 752.423 152.755 751.682 L152.755 746.983 Q154.839 748.117 157.061 748.673 Q159.283 749.228 161.76 749.228 Q165.765 749.228 168.102 747.122 Q170.44 745.015 170.44 741.404 Q170.44 737.793 168.102 735.687 Q165.765 733.58 161.76 733.58 Q159.885 733.58 158.01 733.997 Q156.158 734.413 154.214 735.293 L154.214 717.932 Z\" fill=\"#000000\" fill-rule=\"evenodd\" fill-opacity=\"1\" /><path clip-path=\"url(#clip710)\" d=\"M 0 0 M190.186 721.011 Q186.575 721.011 184.746 724.575 Q182.94 728.117 182.94 735.247 Q182.94 742.353 184.746 745.918 Q186.575 749.46 190.186 749.46 Q193.82 749.46 195.625 745.918 Q197.454 742.353 197.454 735.247 Q197.454 728.117 195.625 724.575 Q193.82 721.011 190.186 721.011 M190.186 717.307 Q195.996 717.307 199.051 721.913 Q202.13 726.497 202.13 735.247 Q202.13 743.973 199.051 748.58 Q195.996 753.163 190.186 753.163 Q184.376 753.163 181.297 748.58 Q178.241 743.973 178.241 735.247 Q178.241 726.497 181.297 721.913 Q184.376 717.307 190.186 717.307 Z\" fill=\"#000000\" fill-rule=\"evenodd\" fill-opacity=\"1\" /><path clip-path=\"url(#clip710)\" d=\"M 0 0 M128.103 396.498 Q124.492 396.498 122.663 400.062 Q120.857 403.604 120.857 410.734 Q120.857 417.84 122.663 421.405 Q124.492 424.946 128.103 424.946 Q131.737 424.946 133.542 421.405 Q135.371 417.84 135.371 410.734 Q135.371 403.604 133.542 400.062 Q131.737 396.498 128.103 396.498 M128.103 392.794 Q133.913 392.794 136.968 397.4 Q140.047 401.984 140.047 410.734 Q140.047 419.46 136.968 424.067 Q133.913 428.65 128.103 428.65 Q122.293 428.65 119.214 424.067 Q116.158 419.46 116.158 410.734 Q116.158 401.984 119.214 397.4 Q122.293 392.794 128.103 392.794 Z\" fill=\"#000000\" fill-rule=\"evenodd\" fill-opacity=\"1\" /><path clip-path=\"url(#clip710)\" d=\"M 0 0 M145.116 422.099 L150.001 422.099 L150.001 427.979 L145.116 427.979 L145.116 422.099 Z\" fill=\"#000000\" fill-rule=\"evenodd\" fill-opacity=\"1\" /><path clip-path=\"url(#clip710)\" d=\"M 0 0 M153.89 393.419 L176.112 393.419 L176.112 395.41 L163.565 427.979 L158.681 427.979 L170.487 397.354 L153.89 397.354 L153.89 393.419 Z\" fill=\"#000000\" fill-rule=\"evenodd\" fill-opacity=\"1\" /><path clip-path=\"url(#clip710)\" d=\"M 0 0 M181.227 393.419 L199.584 393.419 L199.584 397.354 L185.51 397.354 L185.51 405.826 Q186.528 405.479 187.547 405.317 Q188.565 405.132 189.584 405.132 Q195.371 405.132 198.75 408.303 Q202.13 411.474 202.13 416.891 Q202.13 422.47 198.658 425.571 Q195.186 428.65 188.866 428.65 Q186.69 428.65 184.422 428.28 Q182.176 427.909 179.769 427.169 L179.769 422.47 Q181.852 423.604 184.075 424.159 Q186.297 424.715 188.774 424.715 Q192.778 424.715 195.116 422.608 Q197.454 420.502 197.454 416.891 Q197.454 413.28 195.116 411.173 Q192.778 409.067 188.774 409.067 Q186.899 409.067 185.024 409.484 Q183.172 409.9 181.227 410.78 L181.227 393.419 Z\" fill=\"#000000\" fill-rule=\"evenodd\" fill-opacity=\"1\" /><path clip-path=\"url(#clip710)\" d=\"M 0 0 M118.242 99.5305 L125.88 99.5305 L125.88 73.1649 L117.57 74.8316 L117.57 70.5723 L125.834 68.9057 L130.51 68.9057 L130.51 99.5305 L138.149 99.5305 L138.149 103.466 L118.242 103.466 L118.242 99.5305 Z\" fill=\"#000000\" fill-rule=\"evenodd\" fill-opacity=\"1\" /><path clip-path=\"url(#clip710)\" d=\"M 0 0 M143.218 97.5861 L148.103 97.5861 L148.103 103.466 L143.218 103.466 L143.218 97.5861 Z\" fill=\"#000000\" fill-rule=\"evenodd\" fill-opacity=\"1\" /><path clip-path=\"url(#clip710)\" d=\"M 0 0 M163.172 71.9844 Q159.561 71.9844 157.732 75.5492 Q155.927 79.0908 155.927 86.2204 Q155.927 93.3268 157.732 96.8916 Q159.561 100.433 163.172 100.433 Q166.806 100.433 168.612 96.8916 Q170.44 93.3268 170.44 86.2204 Q170.44 79.0908 168.612 75.5492 Q166.806 71.9844 163.172 71.9844 M163.172 68.2807 Q168.982 68.2807 172.038 72.8871 Q175.116 77.4704 175.116 86.2204 Q175.116 94.9472 172.038 99.5537 Q168.982 104.137 163.172 104.137 Q157.362 104.137 154.283 99.5537 Q151.228 94.9472 151.228 86.2204 Q151.228 77.4704 154.283 72.8871 Q157.362 68.2807 163.172 68.2807 Z\" fill=\"#000000\" fill-rule=\"evenodd\" fill-opacity=\"1\" /><path clip-path=\"url(#clip710)\" d=\"M 0 0 M190.186 71.9844 Q186.575 71.9844 184.746 75.5492 Q182.94 79.0908 182.94 86.2204 Q182.94 93.3268 184.746 96.8916 Q186.575 100.433 190.186 100.433 Q193.82 100.433 195.625 96.8916 Q197.454 93.3268 197.454 86.2204 Q197.454 79.0908 195.625 75.5492 Q193.82 71.9844 190.186 71.9844 M190.186 68.2807 Q195.996 68.2807 199.051 72.8871 Q202.13 77.4704 202.13 86.2204 Q202.13 94.9472 199.051 99.5537 Q195.996 104.137 190.186 104.137 Q184.376 104.137 181.297 99.5537 Q178.241 94.9472 178.241 86.2204 Q178.241 77.4704 181.297 72.8871 Q184.376 68.2807 190.186 68.2807 Z\" fill=\"#000000\" fill-rule=\"evenodd\" fill-opacity=\"1\" /><path clip-path=\"url(#clip710)\" d=\"M 0 0 M44.1444 962.531 L50.9239 962.531 Q47.9002 965.778 46.4043 969.47 Q44.9083 973.13 44.9083 977.268 Q44.9083 985.416 49.9054 989.745 Q54.8707 994.073 64.2919 994.073 Q73.6813 994.073 78.6784 989.745 Q83.6436 985.416 83.6436 977.268 Q83.6436 973.13 82.1477 969.47 Q80.6518 965.778 77.6281 962.531 L84.3439 962.531 Q86.6355 965.905 87.7814 969.693 Q88.9272 973.449 88.9272 977.65 Q88.9272 988.44 82.3387 994.646 Q75.7183 1000.85 64.2919 1000.85 Q52.8336 1000.85 46.2451 994.646 Q39.6248 988.44 39.6248 977.65 Q39.6248 973.385 40.7706 969.629 Q41.8846 965.842 44.1444 962.531 Z\" fill=\"#000000\" fill-rule=\"evenodd\" fill-opacity=\"1\" /><path clip-path=\"url(#clip710)\" d=\"M 0 0 M38.479 956.388 L38.479 950.532 L88.0042 950.532 L88.0042 956.388 L38.479 956.388 Z\" fill=\"#000000\" fill-rule=\"evenodd\" fill-opacity=\"1\" /><path clip-path=\"url(#clip710)\" d=\"M 0 0 M73.9359 944.994 L52.3562 944.994 L52.3562 939.137 L73.7131 939.137 Q78.7739 939.137 81.3202 937.164 Q83.8346 935.191 83.8346 931.244 Q83.8346 926.501 80.8109 923.764 Q77.7872 920.995 72.5673 920.995 L52.3562 920.995 L52.3562 915.139 L88.0042 915.139 L88.0042 920.995 L82.5296 920.995 Q85.7762 923.128 87.3676 925.96 Q88.9272 928.761 88.9272 932.485 Q88.9272 938.628 85.1078 941.811 Q81.2883 944.994 73.9359 944.994 M51.4968 930.257 L51.4968 930.257 Z\" fill=\"#000000\" fill-rule=\"evenodd\" fill-opacity=\"1\" /><path clip-path=\"url(#clip710)\" d=\"M 0 0 M53.4065 886.27 L58.9447 886.27 Q57.6716 888.753 57.035 891.426 Q56.3984 894.1 56.3984 896.965 Q56.3984 901.325 57.7352 903.521 Q59.072 905.686 61.7456 905.686 Q63.7826 905.686 64.9603 904.126 Q66.1061 902.566 67.1565 897.856 L67.6021 895.851 Q68.9389 889.612 71.3897 887.002 Q73.8086 884.36 78.1691 884.36 Q83.1344 884.36 86.0308 888.307 Q88.9272 892.222 88.9272 899.097 Q88.9272 901.962 88.3543 905.081 Q87.8132 908.168 86.6992 911.606 L80.6518 911.606 Q82.3387 908.359 83.198 905.208 Q84.0256 902.057 84.0256 898.97 Q84.0256 894.832 82.6251 892.604 Q81.1929 890.376 78.6147 890.376 Q76.2276 890.376 74.9545 891.999 Q73.6813 893.591 72.5037 899.033 L72.0262 901.07 Q70.8804 906.513 68.5251 908.932 Q66.138 911.351 62.0002 911.351 Q56.9713 911.351 54.2341 907.786 Q51.4968 904.221 51.4968 897.665 Q51.4968 894.418 51.9743 891.554 Q52.4517 888.689 53.4065 886.27 Z\" fill=\"#000000\" fill-rule=\"evenodd\" fill-opacity=\"1\" /><path clip-path=\"url(#clip710)\" d=\"M 0 0 M42.2347 872.425 L52.3562 872.425 L52.3562 860.362 L56.9077 860.362 L56.9077 872.425 L76.2594 872.425 Q80.6199 872.425 81.8613 871.247 Q83.1026 870.038 83.1026 866.377 L83.1026 860.362 L88.0042 860.362 L88.0042 866.377 Q88.0042 873.157 85.4897 875.735 Q82.9434 878.313 76.2594 878.313 L56.9077 878.313 L56.9077 882.61 L52.3562 882.61 L52.3562 878.313 L42.2347 878.313 L42.2347 872.425 Z\" fill=\"#000000\" fill-rule=\"evenodd\" fill-opacity=\"1\" /><path clip-path=\"url(#clip710)\" d=\"M 0 0 M68.7161 823.727 L71.5806 823.727 L71.5806 850.654 Q77.6281 850.272 80.8109 847.026 Q83.9619 843.747 83.9619 837.923 Q83.9619 834.549 83.1344 831.398 Q82.3069 828.215 80.6518 825.096 L86.1899 825.096 Q87.5267 828.247 88.227 831.557 Q88.9272 834.867 88.9272 838.273 Q88.9272 846.803 83.9619 851.8 Q78.9967 856.765 70.5303 856.765 Q61.7774 856.765 56.6531 852.055 Q51.4968 847.312 51.4968 839.291 Q51.4968 832.098 56.1438 827.928 Q60.7589 823.727 68.7161 823.727 M66.9973 829.584 Q62.1912 829.647 59.3266 832.289 Q56.4621 834.899 56.4621 839.228 Q56.4621 844.129 59.2312 847.089 Q62.0002 850.017 67.0292 850.463 L66.9973 829.584 Z\" fill=\"#000000\" fill-rule=\"evenodd\" fill-opacity=\"1\" /><path clip-path=\"url(#clip710)\" d=\"M 0 0 M57.8307 796.927 Q57.2578 797.914 57.0032 799.092 Q56.7167 800.238 56.7167 801.638 Q56.7167 806.603 59.9632 809.277 Q63.1779 811.919 69.2253 811.919 L88.0042 811.919 L88.0042 817.807 L52.3562 817.807 L52.3562 811.919 L57.8944 811.919 Q54.6479 810.073 53.0883 807.113 Q51.4968 804.153 51.4968 799.919 Q51.4968 799.315 51.5923 798.583 Q51.656 797.851 51.8151 796.959 L57.8307 796.927 Z\" fill=\"#000000\" fill-rule=\"evenodd\" fill-opacity=\"1\" /><path clip-path=\"url(#clip710)\" d=\"M 0 0 M45.7677 763.38 L63.6235 763.38 L63.6235 755.296 Q63.6235 750.808 61.3 748.357 Q58.9765 745.906 54.6797 745.906 Q50.4147 745.906 48.0912 748.357 Q45.7677 750.808 45.7677 755.296 L45.7677 763.38 M40.4842 769.81 L40.4842 755.296 Q40.4842 747.307 44.1126 743.233 Q47.7092 739.127 54.6797 739.127 Q61.7138 739.127 65.3104 743.233 Q68.907 747.307 68.907 755.296 L68.907 763.38 L88.0042 763.38 L88.0042 769.81 L40.4842 769.81 Z\" fill=\"#000000\" fill-rule=\"evenodd\" fill-opacity=\"1\" /><path clip-path=\"url(#clip710)\" d=\"M 0 0 M57.8307 713.473 Q57.2578 714.46 57.0032 715.637 Q56.7167 716.783 56.7167 718.184 Q56.7167 723.149 59.9632 725.823 Q63.1779 728.464 69.2253 728.464 L88.0042 728.464 L88.0042 734.353 L52.3562 734.353 L52.3562 728.464 L57.8944 728.464 Q54.6479 726.618 53.0883 723.658 Q51.4968 720.698 51.4968 716.465 Q51.4968 715.86 51.5923 715.128 Q51.656 714.396 51.8151 713.505 L57.8307 713.473 Z\" fill=\"#000000\" fill-rule=\"evenodd\" fill-opacity=\"1\" /><path clip-path=\"url(#clip710)\" d=\"M 0 0 M56.4621 694.949 Q56.4621 699.659 60.1542 702.397 Q63.8145 705.134 70.212 705.134 Q76.6095 705.134 80.3017 702.429 Q83.9619 699.691 83.9619 694.949 Q83.9619 690.27 80.2698 687.533 Q76.5777 684.796 70.212 684.796 Q63.8781 684.796 60.186 687.533 Q56.4621 690.27 56.4621 694.949 M51.4968 694.949 Q51.4968 687.31 56.4621 682.95 Q61.4273 678.589 70.212 678.589 Q78.9649 678.589 83.9619 682.95 Q88.9272 687.31 88.9272 694.949 Q88.9272 702.62 83.9619 706.98 Q78.9649 711.309 70.212 711.309 Q61.4273 711.309 56.4621 706.98 Q51.4968 702.62 51.4968 694.949 Z\" fill=\"#000000\" fill-rule=\"evenodd\" fill-opacity=\"1\" /><path clip-path=\"url(#clip710)\" d=\"M 0 0 M82.657 666.781 L101.563 666.781 L101.563 672.669 L52.3562 672.669 L52.3562 666.781 L57.7671 666.781 Q54.5842 664.935 53.0564 662.134 Q51.4968 659.301 51.4968 655.386 Q51.4968 648.893 56.6531 644.851 Q61.8093 640.777 70.212 640.777 Q78.6147 640.777 83.771 644.851 Q88.9272 648.893 88.9272 655.386 Q88.9272 659.301 87.3994 662.134 Q85.8398 664.935 82.657 666.781 M70.212 646.856 Q63.7508 646.856 60.0905 649.53 Q56.3984 652.171 56.3984 656.818 Q56.3984 661.465 60.0905 664.139 Q63.7508 666.781 70.212 666.781 Q76.6732 666.781 80.3653 664.139 Q84.0256 661.465 84.0256 656.818 Q84.0256 652.171 80.3653 649.53 Q76.6732 646.856 70.212 646.856 Z\" fill=\"#000000\" fill-rule=\"evenodd\" fill-opacity=\"1\" /><path clip-path=\"url(#clip710)\" d=\"M 0 0 M56.4621 620.82 Q56.4621 625.531 60.1542 628.268 Q63.8145 631.005 70.212 631.005 Q76.6095 631.005 80.3017 628.3 Q83.9619 625.563 83.9619 620.82 Q83.9619 616.141 80.2698 613.404 Q76.5777 610.667 70.212 610.667 Q63.8781 610.667 60.186 613.404 Q56.4621 616.141 56.4621 620.82 M51.4968 620.82 Q51.4968 613.181 56.4621 608.821 Q61.4273 604.46 70.212 604.46 Q78.9649 604.46 83.9619 608.821 Q88.9272 613.181 88.9272 620.82 Q88.9272 628.491 83.9619 632.851 Q78.9649 637.18 70.212 637.18 Q61.4273 637.18 56.4621 632.851 Q51.4968 628.491 51.4968 620.82 Z\" fill=\"#000000\" fill-rule=\"evenodd\" fill-opacity=\"1\" /><path clip-path=\"url(#clip710)\" d=\"M 0 0 M57.8307 577.661 Q57.2578 578.647 57.0032 579.825 Q56.7167 580.971 56.7167 582.371 Q56.7167 587.337 59.9632 590.01 Q63.1779 592.652 69.2253 592.652 L88.0042 592.652 L88.0042 598.54 L52.3562 598.54 L52.3562 592.652 L57.8944 592.652 Q54.6479 590.806 53.0883 587.846 Q51.4968 584.886 51.4968 580.653 Q51.4968 580.048 51.5923 579.316 Q51.656 578.584 51.8151 577.693 L57.8307 577.661 Z\" fill=\"#000000\" fill-rule=\"evenodd\" fill-opacity=\"1\" /><path clip-path=\"url(#clip710)\" d=\"M 0 0 M42.2347 565.725 L52.3562 565.725 L52.3562 553.662 L56.9077 553.662 L56.9077 565.725 L76.2594 565.725 Q80.6199 565.725 81.8613 564.547 Q83.1026 563.338 83.1026 559.678 L83.1026 553.662 L88.0042 553.662 L88.0042 559.678 Q88.0042 566.457 85.4897 569.035 Q82.9434 571.613 76.2594 571.613 L56.9077 571.613 L56.9077 575.91 L52.3562 575.91 L52.3562 571.613 L42.2347 571.613 L42.2347 565.725 Z\" fill=\"#000000\" fill-rule=\"evenodd\" fill-opacity=\"1\" /><path clip-path=\"url(#clip710)\" d=\"M 0 0 M52.3562 547.519 L52.3562 541.663 L88.0042 541.663 L88.0042 547.519 L52.3562 547.519 M38.479 547.519 L38.479 541.663 L45.895 541.663 L45.895 547.519 L38.479 547.519 Z\" fill=\"#000000\" fill-rule=\"evenodd\" fill-opacity=\"1\" /><path clip-path=\"url(#clip710)\" d=\"M 0 0 M56.4621 521.706 Q56.4621 526.417 60.1542 529.154 Q63.8145 531.891 70.212 531.891 Q76.6095 531.891 80.3017 529.186 Q83.9619 526.449 83.9619 521.706 Q83.9619 517.027 80.2698 514.29 Q76.5777 511.553 70.212 511.553 Q63.8781 511.553 60.186 514.29 Q56.4621 517.027 56.4621 521.706 M51.4968 521.706 Q51.4968 514.067 56.4621 509.707 Q61.4273 505.346 70.212 505.346 Q78.9649 505.346 83.9619 509.707 Q88.9272 514.067 88.9272 521.706 Q88.9272 529.377 83.9619 533.737 Q78.9649 538.066 70.212 538.066 Q61.4273 538.066 56.4621 533.737 Q51.4968 529.377 51.4968 521.706 Z\" fill=\"#000000\" fill-rule=\"evenodd\" fill-opacity=\"1\" /><path clip-path=\"url(#clip710)\" d=\"M 0 0 M66.4881 469.571 L88.0042 469.571 L88.0042 475.427 L66.679 475.427 Q61.6183 475.427 59.1038 477.401 Q56.5894 479.374 56.5894 483.321 Q56.5894 488.063 59.6131 490.801 Q62.6368 493.538 67.8567 493.538 L88.0042 493.538 L88.0042 499.426 L52.3562 499.426 L52.3562 493.538 L57.8944 493.538 Q54.6797 491.437 53.0883 488.604 Q51.4968 485.74 51.4968 482.016 Q51.4968 475.873 55.3163 472.722 Q59.1038 469.571 66.4881 469.571 Z\" fill=\"#000000\" fill-rule=\"evenodd\" fill-opacity=\"1\" /><path clip-path=\"url(#clip712)\" d=\"\n",
       "M283.931 86.1857 L538.381 86.1857 L792.831 86.1857 L1047.28 86.1857 L1301.73 86.1857 L1556.18 86.1857 L1810.63 86.1857 L1810.63 1384.24 L1556.18 1384.24 L1301.73 1384.24 \n",
       "  L1047.28 1384.24 L792.831 1384.24 L538.381 1384.24 L283.931 1384.24  Z\n",
       "  \" fill=\"#7ec87e\" fill-rule=\"evenodd\" fill-opacity=\"1\"/>\n",
       "<polyline clip-path=\"url(#clip712)\" style=\"stroke:#7ec87e; stroke-width:4; stroke-opacity:1; fill:none\" points=\"\n",
       "  283.931,86.1857 538.381,86.1857 792.831,86.1857 1047.28,86.1857 1301.73,86.1857 1556.18,86.1857 1810.63,86.1857 \n",
       "  \"/>\n",
       "<path clip-path=\"url(#clip712)\" d=\"\n",
       "M283.931 86.1857 L538.381 86.1857 L792.831 86.1857 L1047.28 86.1857 L1301.73 86.1857 L1556.18 86.1857 L1810.63 117.845 L1810.63 1384.24 L1556.18 1384.24 L1301.73 1384.24 \n",
       "  L1047.28 1384.24 L792.831 1384.24 L538.381 1384.24 L283.931 1384.24  Z\n",
       "  \" fill=\"#bdadd3\" fill-rule=\"evenodd\" fill-opacity=\"1\"/>\n",
       "<polyline clip-path=\"url(#clip712)\" style=\"stroke:#bdadd3; stroke-width:4; stroke-opacity:1; fill:none\" points=\"\n",
       "  283.931,86.1857 538.381,86.1857 792.831,86.1857 1047.28,86.1857 1301.73,86.1857 1556.18,86.1857 1810.63,117.845 \n",
       "  \"/>\n",
       "<path clip-path=\"url(#clip712)\" d=\"\n",
       "M283.931 86.1857 L538.381 86.1857 L792.831 86.1857 L1047.28 86.1857 L1301.73 86.1857 L1556.18 652.545 L1810.63 684.204 L1810.63 1384.24 L1556.18 1384.24 L1301.73 1384.24 \n",
       "  L1047.28 1384.24 L792.831 1384.24 L538.381 1384.24 L283.931 1384.24  Z\n",
       "  \" fill=\"#fcc085\" fill-rule=\"evenodd\" fill-opacity=\"1\"/>\n",
       "<polyline clip-path=\"url(#clip712)\" style=\"stroke:#fcc085; stroke-width:4; stroke-opacity:1; fill:none\" points=\"\n",
       "  283.931,86.1857 538.381,86.1857 792.831,86.1857 1047.28,86.1857 1301.73,86.1857 1556.18,652.545 1810.63,684.204 \n",
       "  \"/>\n",
       "<path clip-path=\"url(#clip712)\" d=\"\n",
       "M283.931 86.1857 L538.381 86.1857 L792.831 86.1857 L1047.28 86.1857 L1301.73 114.328 L1556.18 680.687 L1810.63 712.347 L1810.63 1384.24 L1556.18 1384.24 L1301.73 1384.24 \n",
       "  L1047.28 1384.24 L792.831 1384.24 L538.381 1384.24 L283.931 1384.24  Z\n",
       "  \" fill=\"#ffff99\" fill-rule=\"evenodd\" fill-opacity=\"1\"/>\n",
       "<polyline clip-path=\"url(#clip712)\" style=\"stroke:#ffff99; stroke-width:4; stroke-opacity:1; fill:none\" points=\"\n",
       "  283.931,86.1857 538.381,86.1857 792.831,86.1857 1047.28,86.1857 1301.73,114.328 1556.18,680.687 1810.63,712.347 \n",
       "  \"/>\n",
       "<path clip-path=\"url(#clip712)\" d=\"\n",
       "M283.931 86.1857 L538.381 86.1857 L792.831 86.1857 L1047.28 446.756 L1301.73 404.543 L1556.18 979.696 L1810.63 1011.36 L1810.63 1384.24 L1556.18 1384.24 L1301.73 1384.24 \n",
       "  L1047.28 1384.24 L792.831 1384.24 L538.381 1384.24 L283.931 1384.24  Z\n",
       "  \" fill=\"#386caf\" fill-rule=\"evenodd\" fill-opacity=\"1\"/>\n",
       "<polyline clip-path=\"url(#clip712)\" style=\"stroke:#386caf; stroke-width:4; stroke-opacity:1; fill:none\" points=\"\n",
       "  283.931,86.1857 538.381,86.1857 792.831,86.1857 1047.28,446.756 1301.73,404.543 1556.18,979.696 1810.63,1011.36 \n",
       "  \"/>\n",
       "<path clip-path=\"url(#clip712)\" d=\"\n",
       "M283.931 86.1857 L538.381 86.1857 L792.831 151.264 L1047.28 511.834 L1301.73 469.621 L1556.18 1044.77 L1810.63 1044.77 L1810.63 1384.24 L1556.18 1384.24 L1301.73 1384.24 \n",
       "  L1047.28 1384.24 L792.831 1384.24 L538.381 1384.24 L283.931 1384.24  Z\n",
       "  \" fill=\"#ef027e\" fill-rule=\"evenodd\" fill-opacity=\"1\"/>\n",
       "<polyline clip-path=\"url(#clip712)\" style=\"stroke:#ef027e; stroke-width:4; stroke-opacity:1; fill:none\" points=\"\n",
       "  283.931,86.1857 538.381,86.1857 792.831,151.264 1047.28,511.834 1301.73,469.621 1556.18,1044.77 1810.63,1044.77 \n",
       "  \"/>\n",
       "<path clip-path=\"url(#clip712)\" d=\"\n",
       "M283.931 86.1857 L538.381 393.989 L792.831 409.819 L1047.28 619.126 L1301.73 561.083 L1556.18 1064.12 L1810.63 1064.12 L1810.63 1384.24 L1556.18 1384.24 L1301.73 1384.24 \n",
       "  L1047.28 1384.24 L792.831 1384.24 L538.381 1384.24 L283.931 1384.24  Z\n",
       "  \" fill=\"#be5b16\" fill-rule=\"evenodd\" fill-opacity=\"1\"/>\n",
       "<polyline clip-path=\"url(#clip712)\" style=\"stroke:#be5b16; stroke-width:4; stroke-opacity:1; fill:none\" points=\"\n",
       "  283.931,86.1857 538.381,393.989 792.831,409.819 1047.28,619.126 1301.73,561.083 1556.18,1064.12 1810.63,1064.12 \n",
       "  \"/>\n",
       "<path clip-path=\"url(#clip712)\" d=\"\n",
       "M283.931 946.277 L538.381 1092.26 L792.831 1111.61 L1047.28 1208.35 L1301.73 1167.9 L1556.18 1159.1 L1810.63 1159.1 L1810.63 1384.24 L1556.18 1384.24 L1301.73 1384.24 \n",
       "  L1047.28 1384.24 L792.831 1384.24 L538.381 1384.24 L283.931 1384.24  Z\n",
       "  \" fill=\"#666666\" fill-rule=\"evenodd\" fill-opacity=\"1\"/>\n",
       "<polyline clip-path=\"url(#clip712)\" style=\"stroke:#666666; stroke-width:4; stroke-opacity:1; fill:none\" points=\"\n",
       "  283.931,946.277 538.381,1092.26 792.831,1111.61 1047.28,1208.35 1301.73,1167.9 1556.18,1159.1 1810.63,1159.1 \n",
       "  \"/>\n",
       "<path clip-path=\"url(#clip710)\" d=\"\n",
       "M1926.92 637.429 L2352.76 637.429 L2352.76 93.1086 L1926.92 93.1086  Z\n",
       "  \" fill=\"#ffffff\" fill-rule=\"evenodd\" fill-opacity=\"1\"/>\n",
       "<polyline clip-path=\"url(#clip710)\" style=\"stroke:#000000; stroke-width:4; stroke-opacity:1; fill:none\" points=\"\n",
       "  1926.92,637.429 2352.76,637.429 2352.76,93.1086 1926.92,93.1086 1926.92,637.429 \n",
       "  \"/>\n",
       "<path clip-path=\"url(#clip710)\" d=\"\n",
       "M1950.41 177.781 L2091.39 177.781 L2091.39 129.397 L1950.41 129.397 L1950.41 177.781  Z\n",
       "  \" fill=\"#7ec87e\" fill-rule=\"evenodd\" fill-opacity=\"1\"/>\n",
       "<polyline clip-path=\"url(#clip710)\" style=\"stroke:#7ec87e; stroke-width:4; stroke-opacity:1; fill:none\" points=\"\n",
       "  1950.41,129.397 2091.39,129.397 \n",
       "  \"/>\n",
       "<path clip-path=\"url(#clip710)\" d=\"M 0 0 M2142.76 138.971 L2142.76 143.901 Q2140.39 141.702 2137.71 140.614 Q2135.05 139.526 2132.04 139.526 Q2126.11 139.526 2122.96 143.16 Q2119.82 146.772 2119.82 153.623 Q2119.82 160.452 2122.96 164.086 Q2126.11 167.697 2132.04 167.697 Q2135.05 167.697 2137.71 166.609 Q2140.39 165.521 2142.76 163.322 L2142.76 168.207 Q2140.3 169.873 2137.55 170.707 Q2134.82 171.54 2131.76 171.54 Q2123.91 171.54 2119.4 166.748 Q2114.89 161.933 2114.89 153.623 Q2114.89 145.29 2119.4 140.498 Q2123.91 135.684 2131.76 135.684 Q2134.86 135.684 2137.59 136.517 Q2140.35 137.327 2142.76 138.971 Z\" fill=\"#000000\" fill-rule=\"evenodd\" fill-opacity=\"1\" /><path clip-path=\"url(#clip710)\" d=\"M 0 0 M2147.22 134.85 L2151.48 134.85 L2151.48 170.869 L2147.22 170.869 L2147.22 134.85 Z\" fill=\"#000000\" fill-rule=\"evenodd\" fill-opacity=\"1\" /><path clip-path=\"url(#clip710)\" d=\"M 0 0 M2155.51 160.637 L2155.51 144.943 L2159.77 144.943 L2159.77 160.475 Q2159.77 164.156 2161.2 166.008 Q2162.64 167.836 2165.51 167.836 Q2168.96 167.836 2170.95 165.637 Q2172.96 163.438 2172.96 159.642 L2172.96 144.943 L2177.22 144.943 L2177.22 170.869 L2172.96 170.869 L2172.96 166.887 Q2171.41 169.248 2169.35 170.406 Q2167.32 171.54 2164.61 171.54 Q2160.14 171.54 2157.83 168.762 Q2155.51 165.984 2155.51 160.637 M2166.23 144.318 L2166.23 144.318 Z\" fill=\"#000000\" fill-rule=\"evenodd\" fill-opacity=\"1\" /><path clip-path=\"url(#clip710)\" d=\"M 0 0 M2198.22 145.707 L2198.22 149.734 Q2196.41 148.809 2194.47 148.346 Q2192.52 147.883 2190.44 147.883 Q2187.27 147.883 2185.67 148.855 Q2184.1 149.827 2184.1 151.771 Q2184.1 153.253 2185.23 154.109 Q2186.37 154.943 2189.79 155.707 L2191.25 156.031 Q2195.79 157.003 2197.69 158.785 Q2199.61 160.545 2199.61 163.716 Q2199.61 167.327 2196.74 169.433 Q2193.89 171.54 2188.89 171.54 Q2186.81 171.54 2184.54 171.123 Q2182.29 170.73 2179.79 169.92 L2179.79 165.521 Q2182.15 166.748 2184.45 167.373 Q2186.74 167.975 2188.98 167.975 Q2191.99 167.975 2193.61 166.957 Q2195.23 165.915 2195.23 164.04 Q2195.23 162.304 2194.05 161.378 Q2192.89 160.452 2188.94 159.596 L2187.45 159.248 Q2183.5 158.415 2181.74 156.702 Q2179.98 154.966 2179.98 151.957 Q2179.98 148.299 2182.57 146.309 Q2185.16 144.318 2189.93 144.318 Q2192.29 144.318 2194.38 144.665 Q2196.46 145.012 2198.22 145.707 Z\" fill=\"#000000\" fill-rule=\"evenodd\" fill-opacity=\"1\" /><path clip-path=\"url(#clip710)\" d=\"M 0 0 M2208.29 137.582 L2208.29 144.943 L2217.06 144.943 L2217.06 148.253 L2208.29 148.253 L2208.29 162.327 Q2208.29 165.498 2209.14 166.401 Q2210.02 167.304 2212.69 167.304 L2217.06 167.304 L2217.06 170.869 L2212.69 170.869 Q2207.76 170.869 2205.88 169.04 Q2204.01 167.188 2204.01 162.327 L2204.01 148.253 L2200.88 148.253 L2200.88 144.943 L2204.01 144.943 L2204.01 137.582 L2208.29 137.582 Z\" fill=\"#000000\" fill-rule=\"evenodd\" fill-opacity=\"1\" /><path clip-path=\"url(#clip710)\" d=\"M 0 0 M2243.7 156.841 L2243.7 158.924 L2224.12 158.924 Q2224.4 163.322 2226.76 165.637 Q2229.14 167.929 2233.38 167.929 Q2235.83 167.929 2238.13 167.327 Q2240.44 166.725 2242.71 165.521 L2242.71 169.549 Q2240.42 170.521 2238.01 171.031 Q2235.6 171.54 2233.13 171.54 Q2226.92 171.54 2223.29 167.929 Q2219.68 164.318 2219.68 158.16 Q2219.68 151.795 2223.1 148.068 Q2226.55 144.318 2232.38 144.318 Q2237.62 144.318 2240.65 147.697 Q2243.7 151.054 2243.7 156.841 M2239.45 155.591 Q2239.4 152.096 2237.48 150.012 Q2235.58 147.929 2232.43 147.929 Q2228.87 147.929 2226.71 149.943 Q2224.58 151.957 2224.26 155.614 L2239.45 155.591 Z\" fill=\"#000000\" fill-rule=\"evenodd\" fill-opacity=\"1\" /><path clip-path=\"url(#clip710)\" d=\"M 0 0 M2263.2 148.924 Q2262.48 148.508 2261.62 148.322 Q2260.79 148.114 2259.77 148.114 Q2256.16 148.114 2254.21 150.475 Q2252.29 152.813 2252.29 157.211 L2252.29 170.869 L2248.01 170.869 L2248.01 144.943 L2252.29 144.943 L2252.29 148.971 Q2253.63 146.609 2255.79 145.475 Q2257.94 144.318 2261.02 144.318 Q2261.46 144.318 2261.99 144.387 Q2262.52 144.434 2263.17 144.549 L2263.2 148.924 Z\" fill=\"#000000\" fill-rule=\"evenodd\" fill-opacity=\"1\" /><path clip-path=\"url(#clip710)\" d=\"M 0 0 M2293.33 154.457 Q2290 154.457 2288.08 156.239 Q2286.18 158.021 2286.18 161.146 Q2286.18 164.271 2288.08 166.054 Q2290 167.836 2293.33 167.836 Q2296.67 167.836 2298.59 166.054 Q2300.51 164.248 2300.51 161.146 Q2300.51 158.021 2298.59 156.239 Q2296.69 154.457 2293.33 154.457 M2288.66 152.466 Q2285.65 151.725 2283.96 149.665 Q2282.29 147.605 2282.29 144.642 Q2282.29 140.498 2285.23 138.091 Q2288.19 135.684 2293.33 135.684 Q2298.5 135.684 2301.44 138.091 Q2304.38 140.498 2304.38 144.642 Q2304.38 147.605 2302.69 149.665 Q2301.02 151.725 2298.03 152.466 Q2301.41 153.253 2303.29 155.545 Q2305.19 157.836 2305.19 161.146 Q2305.19 166.17 2302.11 168.855 Q2299.05 171.54 2293.33 171.54 Q2287.62 171.54 2284.54 168.855 Q2281.48 166.17 2281.48 161.146 Q2281.48 157.836 2283.38 155.545 Q2285.28 153.253 2288.66 152.466 M2286.94 145.082 Q2286.94 147.767 2288.61 149.272 Q2290.3 150.776 2293.33 150.776 Q2296.34 150.776 2298.03 149.272 Q2299.75 147.767 2299.75 145.082 Q2299.75 142.397 2298.03 140.892 Q2296.34 139.387 2293.33 139.387 Q2290.3 139.387 2288.61 140.892 Q2286.94 142.397 2286.94 145.082 Z\" fill=\"#000000\" fill-rule=\"evenodd\" fill-opacity=\"1\" /><path clip-path=\"url(#clip710)\" d=\"\n",
       "M1950.41 238.261 L2091.39 238.261 L2091.39 189.877 L1950.41 189.877 L1950.41 238.261  Z\n",
       "  \" fill=\"#bdadd3\" fill-rule=\"evenodd\" fill-opacity=\"1\"/>\n",
       "<polyline clip-path=\"url(#clip710)\" style=\"stroke:#bdadd3; stroke-width:4; stroke-opacity:1; fill:none\" points=\"\n",
       "  1950.41,189.877 2091.39,189.877 \n",
       "  \"/>\n",
       "<path clip-path=\"url(#clip710)\" d=\"M 0 0 M2142.76 199.451 L2142.76 204.381 Q2140.39 202.182 2137.71 201.094 Q2135.05 200.006 2132.04 200.006 Q2126.11 200.006 2122.96 203.64 Q2119.82 207.252 2119.82 214.103 Q2119.82 220.932 2122.96 224.566 Q2126.11 228.177 2132.04 228.177 Q2135.05 228.177 2137.71 227.089 Q2140.39 226.001 2142.76 223.802 L2142.76 228.687 Q2140.3 230.353 2137.55 231.187 Q2134.82 232.02 2131.76 232.02 Q2123.91 232.02 2119.4 227.228 Q2114.89 222.413 2114.89 214.103 Q2114.89 205.77 2119.4 200.978 Q2123.91 196.164 2131.76 196.164 Q2134.86 196.164 2137.59 196.997 Q2140.35 197.807 2142.76 199.451 Z\" fill=\"#000000\" fill-rule=\"evenodd\" fill-opacity=\"1\" /><path clip-path=\"url(#clip710)\" d=\"M 0 0 M2147.22 195.33 L2151.48 195.33 L2151.48 231.349 L2147.22 231.349 L2147.22 195.33 Z\" fill=\"#000000\" fill-rule=\"evenodd\" fill-opacity=\"1\" /><path clip-path=\"url(#clip710)\" d=\"M 0 0 M2155.51 221.117 L2155.51 205.423 L2159.77 205.423 L2159.77 220.955 Q2159.77 224.636 2161.2 226.488 Q2162.64 228.316 2165.51 228.316 Q2168.96 228.316 2170.95 226.117 Q2172.96 223.918 2172.96 220.122 L2172.96 205.423 L2177.22 205.423 L2177.22 231.349 L2172.96 231.349 L2172.96 227.367 Q2171.41 229.728 2169.35 230.886 Q2167.32 232.02 2164.61 232.02 Q2160.14 232.02 2157.83 229.242 Q2155.51 226.464 2155.51 221.117 M2166.23 204.798 L2166.23 204.798 Z\" fill=\"#000000\" fill-rule=\"evenodd\" fill-opacity=\"1\" /><path clip-path=\"url(#clip710)\" d=\"M 0 0 M2198.22 206.187 L2198.22 210.214 Q2196.41 209.289 2194.47 208.826 Q2192.52 208.363 2190.44 208.363 Q2187.27 208.363 2185.67 209.335 Q2184.1 210.307 2184.1 212.251 Q2184.1 213.733 2185.23 214.589 Q2186.37 215.423 2189.79 216.187 L2191.25 216.511 Q2195.79 217.483 2197.69 219.265 Q2199.61 221.025 2199.61 224.196 Q2199.61 227.807 2196.74 229.913 Q2193.89 232.02 2188.89 232.02 Q2186.81 232.02 2184.54 231.603 Q2182.29 231.21 2179.79 230.4 L2179.79 226.001 Q2182.15 227.228 2184.45 227.853 Q2186.74 228.455 2188.98 228.455 Q2191.99 228.455 2193.61 227.437 Q2195.23 226.395 2195.23 224.52 Q2195.23 222.784 2194.05 221.858 Q2192.89 220.932 2188.94 220.076 L2187.45 219.728 Q2183.5 218.895 2181.74 217.182 Q2179.98 215.446 2179.98 212.437 Q2179.98 208.779 2182.57 206.789 Q2185.16 204.798 2189.93 204.798 Q2192.29 204.798 2194.38 205.145 Q2196.46 205.492 2198.22 206.187 Z\" fill=\"#000000\" fill-rule=\"evenodd\" fill-opacity=\"1\" /><path clip-path=\"url(#clip710)\" d=\"M 0 0 M2208.29 198.062 L2208.29 205.423 L2217.06 205.423 L2217.06 208.733 L2208.29 208.733 L2208.29 222.807 Q2208.29 225.978 2209.14 226.881 Q2210.02 227.784 2212.69 227.784 L2217.06 227.784 L2217.06 231.349 L2212.69 231.349 Q2207.76 231.349 2205.88 229.52 Q2204.01 227.668 2204.01 222.807 L2204.01 208.733 L2200.88 208.733 L2200.88 205.423 L2204.01 205.423 L2204.01 198.062 L2208.29 198.062 Z\" fill=\"#000000\" fill-rule=\"evenodd\" fill-opacity=\"1\" /><path clip-path=\"url(#clip710)\" d=\"M 0 0 M2243.7 217.321 L2243.7 219.404 L2224.12 219.404 Q2224.4 223.802 2226.76 226.117 Q2229.14 228.409 2233.38 228.409 Q2235.83 228.409 2238.13 227.807 Q2240.44 227.205 2242.71 226.001 L2242.71 230.029 Q2240.42 231.001 2238.01 231.511 Q2235.6 232.02 2233.13 232.02 Q2226.92 232.02 2223.29 228.409 Q2219.68 224.798 2219.68 218.64 Q2219.68 212.275 2223.1 208.548 Q2226.55 204.798 2232.38 204.798 Q2237.62 204.798 2240.65 208.177 Q2243.7 211.534 2243.7 217.321 M2239.45 216.071 Q2239.4 212.576 2237.48 210.492 Q2235.58 208.409 2232.43 208.409 Q2228.87 208.409 2226.71 210.423 Q2224.58 212.437 2224.26 216.094 L2239.45 216.071 Z\" fill=\"#000000\" fill-rule=\"evenodd\" fill-opacity=\"1\" /><path clip-path=\"url(#clip710)\" d=\"M 0 0 M2263.2 209.404 Q2262.48 208.988 2261.62 208.802 Q2260.79 208.594 2259.77 208.594 Q2256.16 208.594 2254.21 210.955 Q2252.29 213.293 2252.29 217.691 L2252.29 231.349 L2248.01 231.349 L2248.01 205.423 L2252.29 205.423 L2252.29 209.451 Q2253.63 207.089 2255.79 205.955 Q2257.94 204.798 2261.02 204.798 Q2261.46 204.798 2261.99 204.867 Q2262.52 204.914 2263.17 205.029 L2263.2 209.404 Z\" fill=\"#000000\" fill-rule=\"evenodd\" fill-opacity=\"1\" /><path clip-path=\"url(#clip710)\" d=\"M 0 0 M2282.15 196.789 L2304.38 196.789 L2304.38 198.779 L2291.83 231.349 L2286.94 231.349 L2298.75 200.724 L2282.15 200.724 L2282.15 196.789 Z\" fill=\"#000000\" fill-rule=\"evenodd\" fill-opacity=\"1\" /><path clip-path=\"url(#clip710)\" d=\"\n",
       "M1950.41 298.741 L2091.39 298.741 L2091.39 250.357 L1950.41 250.357 L1950.41 298.741  Z\n",
       "  \" fill=\"#fcc085\" fill-rule=\"evenodd\" fill-opacity=\"1\"/>\n",
       "<polyline clip-path=\"url(#clip710)\" style=\"stroke:#fcc085; stroke-width:4; stroke-opacity:1; fill:none\" points=\"\n",
       "  1950.41,250.357 2091.39,250.357 \n",
       "  \"/>\n",
       "<path clip-path=\"url(#clip710)\" d=\"M 0 0 M2142.76 259.931 L2142.76 264.861 Q2140.39 262.662 2137.71 261.574 Q2135.05 260.486 2132.04 260.486 Q2126.11 260.486 2122.96 264.12 Q2119.82 267.732 2119.82 274.583 Q2119.82 281.412 2122.96 285.046 Q2126.11 288.657 2132.04 288.657 Q2135.05 288.657 2137.71 287.569 Q2140.39 286.481 2142.76 284.282 L2142.76 289.167 Q2140.3 290.833 2137.55 291.667 Q2134.82 292.5 2131.76 292.5 Q2123.91 292.5 2119.4 287.708 Q2114.89 282.893 2114.89 274.583 Q2114.89 266.25 2119.4 261.458 Q2123.91 256.644 2131.76 256.644 Q2134.86 256.644 2137.59 257.477 Q2140.35 258.287 2142.76 259.931 Z\" fill=\"#000000\" fill-rule=\"evenodd\" fill-opacity=\"1\" /><path clip-path=\"url(#clip710)\" d=\"M 0 0 M2147.22 255.81 L2151.48 255.81 L2151.48 291.829 L2147.22 291.829 L2147.22 255.81 Z\" fill=\"#000000\" fill-rule=\"evenodd\" fill-opacity=\"1\" /><path clip-path=\"url(#clip710)\" d=\"M 0 0 M2155.51 281.597 L2155.51 265.903 L2159.77 265.903 L2159.77 281.435 Q2159.77 285.116 2161.2 286.968 Q2162.64 288.796 2165.51 288.796 Q2168.96 288.796 2170.95 286.597 Q2172.96 284.398 2172.96 280.602 L2172.96 265.903 L2177.22 265.903 L2177.22 291.829 L2172.96 291.829 L2172.96 287.847 Q2171.41 290.208 2169.35 291.366 Q2167.32 292.5 2164.61 292.5 Q2160.14 292.5 2157.83 289.722 Q2155.51 286.944 2155.51 281.597 M2166.23 265.278 L2166.23 265.278 Z\" fill=\"#000000\" fill-rule=\"evenodd\" fill-opacity=\"1\" /><path clip-path=\"url(#clip710)\" d=\"M 0 0 M2198.22 266.667 L2198.22 270.694 Q2196.41 269.769 2194.47 269.306 Q2192.52 268.843 2190.44 268.843 Q2187.27 268.843 2185.67 269.815 Q2184.1 270.787 2184.1 272.731 Q2184.1 274.213 2185.23 275.069 Q2186.37 275.903 2189.79 276.667 L2191.25 276.991 Q2195.79 277.963 2197.69 279.745 Q2199.61 281.505 2199.61 284.676 Q2199.61 288.287 2196.74 290.393 Q2193.89 292.5 2188.89 292.5 Q2186.81 292.5 2184.54 292.083 Q2182.29 291.69 2179.79 290.88 L2179.79 286.481 Q2182.15 287.708 2184.45 288.333 Q2186.74 288.935 2188.98 288.935 Q2191.99 288.935 2193.61 287.917 Q2195.23 286.875 2195.23 285 Q2195.23 283.264 2194.05 282.338 Q2192.89 281.412 2188.94 280.556 L2187.45 280.208 Q2183.5 279.375 2181.74 277.662 Q2179.98 275.926 2179.98 272.917 Q2179.98 269.259 2182.57 267.269 Q2185.16 265.278 2189.93 265.278 Q2192.29 265.278 2194.38 265.625 Q2196.46 265.972 2198.22 266.667 Z\" fill=\"#000000\" fill-rule=\"evenodd\" fill-opacity=\"1\" /><path clip-path=\"url(#clip710)\" d=\"M 0 0 M2208.29 258.542 L2208.29 265.903 L2217.06 265.903 L2217.06 269.213 L2208.29 269.213 L2208.29 283.287 Q2208.29 286.458 2209.14 287.361 Q2210.02 288.264 2212.69 288.264 L2217.06 288.264 L2217.06 291.829 L2212.69 291.829 Q2207.76 291.829 2205.88 290 Q2204.01 288.148 2204.01 283.287 L2204.01 269.213 L2200.88 269.213 L2200.88 265.903 L2204.01 265.903 L2204.01 258.542 L2208.29 258.542 Z\" fill=\"#000000\" fill-rule=\"evenodd\" fill-opacity=\"1\" /><path clip-path=\"url(#clip710)\" d=\"M 0 0 M2243.7 277.801 L2243.7 279.884 L2224.12 279.884 Q2224.4 284.282 2226.76 286.597 Q2229.14 288.889 2233.38 288.889 Q2235.83 288.889 2238.13 288.287 Q2240.44 287.685 2242.71 286.481 L2242.71 290.509 Q2240.42 291.481 2238.01 291.991 Q2235.6 292.5 2233.13 292.5 Q2226.92 292.5 2223.29 288.889 Q2219.68 285.278 2219.68 279.12 Q2219.68 272.755 2223.1 269.028 Q2226.55 265.278 2232.38 265.278 Q2237.62 265.278 2240.65 268.657 Q2243.7 272.014 2243.7 277.801 M2239.45 276.551 Q2239.4 273.056 2237.48 270.972 Q2235.58 268.889 2232.43 268.889 Q2228.87 268.889 2226.71 270.903 Q2224.58 272.917 2224.26 276.574 L2239.45 276.551 Z\" fill=\"#000000\" fill-rule=\"evenodd\" fill-opacity=\"1\" /><path clip-path=\"url(#clip710)\" d=\"M 0 0 M2263.2 269.884 Q2262.48 269.468 2261.62 269.282 Q2260.79 269.074 2259.77 269.074 Q2256.16 269.074 2254.21 271.435 Q2252.29 273.773 2252.29 278.171 L2252.29 291.829 L2248.01 291.829 L2248.01 265.903 L2252.29 265.903 L2252.29 269.931 Q2253.63 267.569 2255.79 266.435 Q2257.94 265.278 2261.02 265.278 Q2261.46 265.278 2261.99 265.347 Q2262.52 265.394 2263.17 265.509 L2263.2 269.884 Z\" fill=\"#000000\" fill-rule=\"evenodd\" fill-opacity=\"1\" /><path clip-path=\"url(#clip710)\" d=\"M 0 0 M2293.91 272.685 Q2290.76 272.685 2288.91 274.838 Q2287.08 276.991 2287.08 280.741 Q2287.08 284.468 2288.91 286.643 Q2290.76 288.796 2293.91 288.796 Q2297.06 288.796 2298.89 286.643 Q2300.74 284.468 2300.74 280.741 Q2300.74 276.991 2298.89 274.838 Q2297.06 272.685 2293.91 272.685 M2303.19 258.033 L2303.19 262.292 Q2301.44 261.458 2299.63 261.019 Q2297.85 260.579 2296.09 260.579 Q2291.46 260.579 2289.01 263.704 Q2286.57 266.829 2286.23 273.148 Q2287.59 271.134 2289.65 270.069 Q2291.71 268.982 2294.19 268.982 Q2299.4 268.982 2302.41 272.153 Q2305.44 275.301 2305.44 280.741 Q2305.44 286.065 2302.29 289.282 Q2299.14 292.5 2293.91 292.5 Q2287.92 292.5 2284.75 287.917 Q2281.57 283.31 2281.57 274.583 Q2281.57 266.389 2285.46 261.528 Q2289.35 256.644 2295.9 256.644 Q2297.66 256.644 2299.44 256.991 Q2301.25 257.338 2303.19 258.033 Z\" fill=\"#000000\" fill-rule=\"evenodd\" fill-opacity=\"1\" /><path clip-path=\"url(#clip710)\" d=\"\n",
       "M1950.41 359.221 L2091.39 359.221 L2091.39 310.837 L1950.41 310.837 L1950.41 359.221  Z\n",
       "  \" fill=\"#ffff99\" fill-rule=\"evenodd\" fill-opacity=\"1\"/>\n",
       "<polyline clip-path=\"url(#clip710)\" style=\"stroke:#ffff99; stroke-width:4; stroke-opacity:1; fill:none\" points=\"\n",
       "  1950.41,310.837 2091.39,310.837 \n",
       "  \"/>\n",
       "<path clip-path=\"url(#clip710)\" d=\"M 0 0 M2142.76 320.411 L2142.76 325.341 Q2140.39 323.142 2137.71 322.054 Q2135.05 320.966 2132.04 320.966 Q2126.11 320.966 2122.96 324.6 Q2119.82 328.212 2119.82 335.063 Q2119.82 341.892 2122.96 345.526 Q2126.11 349.137 2132.04 349.137 Q2135.05 349.137 2137.71 348.049 Q2140.39 346.961 2142.76 344.762 L2142.76 349.647 Q2140.3 351.313 2137.55 352.147 Q2134.82 352.98 2131.76 352.98 Q2123.91 352.98 2119.4 348.188 Q2114.89 343.373 2114.89 335.063 Q2114.89 326.73 2119.4 321.938 Q2123.91 317.124 2131.76 317.124 Q2134.86 317.124 2137.59 317.957 Q2140.35 318.767 2142.76 320.411 Z\" fill=\"#000000\" fill-rule=\"evenodd\" fill-opacity=\"1\" /><path clip-path=\"url(#clip710)\" d=\"M 0 0 M2147.22 316.29 L2151.48 316.29 L2151.48 352.309 L2147.22 352.309 L2147.22 316.29 Z\" fill=\"#000000\" fill-rule=\"evenodd\" fill-opacity=\"1\" /><path clip-path=\"url(#clip710)\" d=\"M 0 0 M2155.51 342.077 L2155.51 326.383 L2159.77 326.383 L2159.77 341.915 Q2159.77 345.596 2161.2 347.448 Q2162.64 349.276 2165.51 349.276 Q2168.96 349.276 2170.95 347.077 Q2172.96 344.878 2172.96 341.082 L2172.96 326.383 L2177.22 326.383 L2177.22 352.309 L2172.96 352.309 L2172.96 348.327 Q2171.41 350.688 2169.35 351.846 Q2167.32 352.98 2164.61 352.98 Q2160.14 352.98 2157.83 350.202 Q2155.51 347.424 2155.51 342.077 M2166.23 325.758 L2166.23 325.758 Z\" fill=\"#000000\" fill-rule=\"evenodd\" fill-opacity=\"1\" /><path clip-path=\"url(#clip710)\" d=\"M 0 0 M2198.22 327.147 L2198.22 331.174 Q2196.41 330.249 2194.47 329.786 Q2192.52 329.323 2190.44 329.323 Q2187.27 329.323 2185.67 330.295 Q2184.1 331.267 2184.1 333.211 Q2184.1 334.693 2185.23 335.549 Q2186.37 336.383 2189.79 337.147 L2191.25 337.471 Q2195.79 338.443 2197.69 340.225 Q2199.61 341.985 2199.61 345.156 Q2199.61 348.767 2196.74 350.873 Q2193.89 352.98 2188.89 352.98 Q2186.81 352.98 2184.54 352.563 Q2182.29 352.17 2179.79 351.36 L2179.79 346.961 Q2182.15 348.188 2184.45 348.813 Q2186.74 349.415 2188.98 349.415 Q2191.99 349.415 2193.61 348.397 Q2195.23 347.355 2195.23 345.48 Q2195.23 343.744 2194.05 342.818 Q2192.89 341.892 2188.94 341.036 L2187.45 340.688 Q2183.5 339.855 2181.74 338.142 Q2179.98 336.406 2179.98 333.397 Q2179.98 329.739 2182.57 327.749 Q2185.16 325.758 2189.93 325.758 Q2192.29 325.758 2194.38 326.105 Q2196.46 326.452 2198.22 327.147 Z\" fill=\"#000000\" fill-rule=\"evenodd\" fill-opacity=\"1\" /><path clip-path=\"url(#clip710)\" d=\"M 0 0 M2208.29 319.022 L2208.29 326.383 L2217.06 326.383 L2217.06 329.693 L2208.29 329.693 L2208.29 343.767 Q2208.29 346.938 2209.14 347.841 Q2210.02 348.744 2212.69 348.744 L2217.06 348.744 L2217.06 352.309 L2212.69 352.309 Q2207.76 352.309 2205.88 350.48 Q2204.01 348.628 2204.01 343.767 L2204.01 329.693 L2200.88 329.693 L2200.88 326.383 L2204.01 326.383 L2204.01 319.022 L2208.29 319.022 Z\" fill=\"#000000\" fill-rule=\"evenodd\" fill-opacity=\"1\" /><path clip-path=\"url(#clip710)\" d=\"M 0 0 M2243.7 338.281 L2243.7 340.364 L2224.12 340.364 Q2224.4 344.762 2226.76 347.077 Q2229.14 349.369 2233.38 349.369 Q2235.83 349.369 2238.13 348.767 Q2240.44 348.165 2242.71 346.961 L2242.71 350.989 Q2240.42 351.961 2238.01 352.471 Q2235.6 352.98 2233.13 352.98 Q2226.92 352.98 2223.29 349.369 Q2219.68 345.758 2219.68 339.6 Q2219.68 333.235 2223.1 329.508 Q2226.55 325.758 2232.38 325.758 Q2237.62 325.758 2240.65 329.137 Q2243.7 332.494 2243.7 338.281 M2239.45 337.031 Q2239.4 333.536 2237.48 331.452 Q2235.58 329.369 2232.43 329.369 Q2228.87 329.369 2226.71 331.383 Q2224.58 333.397 2224.26 337.054 L2239.45 337.031 Z\" fill=\"#000000\" fill-rule=\"evenodd\" fill-opacity=\"1\" /><path clip-path=\"url(#clip710)\" d=\"M 0 0 M2263.2 330.364 Q2262.48 329.948 2261.62 329.762 Q2260.79 329.554 2259.77 329.554 Q2256.16 329.554 2254.21 331.915 Q2252.29 334.253 2252.29 338.651 L2252.29 352.309 L2248.01 352.309 L2248.01 326.383 L2252.29 326.383 L2252.29 330.411 Q2253.63 328.049 2255.79 326.915 Q2257.94 325.758 2261.02 325.758 Q2261.46 325.758 2261.99 325.827 Q2262.52 325.874 2263.17 325.989 L2263.2 330.364 Z\" fill=\"#000000\" fill-rule=\"evenodd\" fill-opacity=\"1\" /><path clip-path=\"url(#clip710)\" d=\"M 0 0 M2283.38 317.749 L2301.74 317.749 L2301.74 321.684 L2287.66 321.684 L2287.66 330.156 Q2288.68 329.809 2289.7 329.647 Q2290.72 329.462 2291.74 329.462 Q2297.52 329.462 2300.9 332.633 Q2304.28 335.804 2304.28 341.221 Q2304.28 346.799 2300.81 349.901 Q2297.34 352.98 2291.02 352.98 Q2288.84 352.98 2286.57 352.61 Q2284.33 352.239 2281.92 351.498 L2281.92 346.799 Q2284.01 347.934 2286.23 348.489 Q2288.45 349.045 2290.93 349.045 Q2294.93 349.045 2297.27 346.938 Q2299.61 344.832 2299.61 341.221 Q2299.61 337.61 2297.27 335.503 Q2294.93 333.397 2290.93 333.397 Q2289.05 333.397 2287.18 333.813 Q2285.32 334.23 2283.38 335.11 L2283.38 317.749 Z\" fill=\"#000000\" fill-rule=\"evenodd\" fill-opacity=\"1\" /><path clip-path=\"url(#clip710)\" d=\"\n",
       "M1950.41 419.701 L2091.39 419.701 L2091.39 371.317 L1950.41 371.317 L1950.41 419.701  Z\n",
       "  \" fill=\"#386caf\" fill-rule=\"evenodd\" fill-opacity=\"1\"/>\n",
       "<polyline clip-path=\"url(#clip710)\" style=\"stroke:#386caf; stroke-width:4; stroke-opacity:1; fill:none\" points=\"\n",
       "  1950.41,371.317 2091.39,371.317 \n",
       "  \"/>\n",
       "<path clip-path=\"url(#clip710)\" d=\"M 0 0 M2142.76 380.891 L2142.76 385.821 Q2140.39 383.622 2137.71 382.534 Q2135.05 381.446 2132.04 381.446 Q2126.11 381.446 2122.96 385.08 Q2119.82 388.692 2119.82 395.543 Q2119.82 402.372 2122.96 406.006 Q2126.11 409.617 2132.04 409.617 Q2135.05 409.617 2137.71 408.529 Q2140.39 407.441 2142.76 405.242 L2142.76 410.127 Q2140.3 411.793 2137.55 412.627 Q2134.82 413.46 2131.76 413.46 Q2123.91 413.46 2119.4 408.668 Q2114.89 403.853 2114.89 395.543 Q2114.89 387.21 2119.4 382.418 Q2123.91 377.604 2131.76 377.604 Q2134.86 377.604 2137.59 378.437 Q2140.35 379.247 2142.76 380.891 Z\" fill=\"#000000\" fill-rule=\"evenodd\" fill-opacity=\"1\" /><path clip-path=\"url(#clip710)\" d=\"M 0 0 M2147.22 376.77 L2151.48 376.77 L2151.48 412.789 L2147.22 412.789 L2147.22 376.77 Z\" fill=\"#000000\" fill-rule=\"evenodd\" fill-opacity=\"1\" /><path clip-path=\"url(#clip710)\" d=\"M 0 0 M2155.51 402.557 L2155.51 386.863 L2159.77 386.863 L2159.77 402.395 Q2159.77 406.076 2161.2 407.928 Q2162.64 409.756 2165.51 409.756 Q2168.96 409.756 2170.95 407.557 Q2172.96 405.358 2172.96 401.562 L2172.96 386.863 L2177.22 386.863 L2177.22 412.789 L2172.96 412.789 L2172.96 408.807 Q2171.41 411.168 2169.35 412.326 Q2167.32 413.46 2164.61 413.46 Q2160.14 413.46 2157.83 410.682 Q2155.51 407.904 2155.51 402.557 M2166.23 386.238 L2166.23 386.238 Z\" fill=\"#000000\" fill-rule=\"evenodd\" fill-opacity=\"1\" /><path clip-path=\"url(#clip710)\" d=\"M 0 0 M2198.22 387.627 L2198.22 391.654 Q2196.41 390.729 2194.47 390.266 Q2192.52 389.803 2190.44 389.803 Q2187.27 389.803 2185.67 390.775 Q2184.1 391.747 2184.1 393.691 Q2184.1 395.173 2185.23 396.029 Q2186.37 396.863 2189.79 397.627 L2191.25 397.951 Q2195.79 398.923 2197.69 400.705 Q2199.61 402.465 2199.61 405.636 Q2199.61 409.247 2196.74 411.353 Q2193.89 413.46 2188.89 413.46 Q2186.81 413.46 2184.54 413.043 Q2182.29 412.65 2179.79 411.84 L2179.79 407.441 Q2182.15 408.668 2184.45 409.293 Q2186.74 409.895 2188.98 409.895 Q2191.99 409.895 2193.61 408.877 Q2195.23 407.835 2195.23 405.96 Q2195.23 404.224 2194.05 403.298 Q2192.89 402.372 2188.94 401.516 L2187.45 401.168 Q2183.5 400.335 2181.74 398.622 Q2179.98 396.886 2179.98 393.877 Q2179.98 390.219 2182.57 388.229 Q2185.16 386.238 2189.93 386.238 Q2192.29 386.238 2194.38 386.585 Q2196.46 386.932 2198.22 387.627 Z\" fill=\"#000000\" fill-rule=\"evenodd\" fill-opacity=\"1\" /><path clip-path=\"url(#clip710)\" d=\"M 0 0 M2208.29 379.502 L2208.29 386.863 L2217.06 386.863 L2217.06 390.173 L2208.29 390.173 L2208.29 404.247 Q2208.29 407.418 2209.14 408.321 Q2210.02 409.224 2212.69 409.224 L2217.06 409.224 L2217.06 412.789 L2212.69 412.789 Q2207.76 412.789 2205.88 410.96 Q2204.01 409.108 2204.01 404.247 L2204.01 390.173 L2200.88 390.173 L2200.88 386.863 L2204.01 386.863 L2204.01 379.502 L2208.29 379.502 Z\" fill=\"#000000\" fill-rule=\"evenodd\" fill-opacity=\"1\" /><path clip-path=\"url(#clip710)\" d=\"M 0 0 M2243.7 398.761 L2243.7 400.844 L2224.12 400.844 Q2224.4 405.242 2226.76 407.557 Q2229.14 409.849 2233.38 409.849 Q2235.83 409.849 2238.13 409.247 Q2240.44 408.645 2242.71 407.441 L2242.71 411.469 Q2240.42 412.441 2238.01 412.951 Q2235.6 413.46 2233.13 413.46 Q2226.92 413.46 2223.29 409.849 Q2219.68 406.238 2219.68 400.08 Q2219.68 393.715 2223.1 389.988 Q2226.55 386.238 2232.38 386.238 Q2237.62 386.238 2240.65 389.617 Q2243.7 392.974 2243.7 398.761 M2239.45 397.511 Q2239.4 394.016 2237.48 391.932 Q2235.58 389.849 2232.43 389.849 Q2228.87 389.849 2226.71 391.863 Q2224.58 393.877 2224.26 397.534 L2239.45 397.511 Z\" fill=\"#000000\" fill-rule=\"evenodd\" fill-opacity=\"1\" /><path clip-path=\"url(#clip710)\" d=\"M 0 0 M2263.2 390.844 Q2262.48 390.428 2261.62 390.242 Q2260.79 390.034 2259.77 390.034 Q2256.16 390.034 2254.21 392.395 Q2252.29 394.733 2252.29 399.131 L2252.29 412.789 L2248.01 412.789 L2248.01 386.863 L2252.29 386.863 L2252.29 390.891 Q2253.63 388.529 2255.79 387.395 Q2257.94 386.238 2261.02 386.238 Q2261.46 386.238 2261.99 386.307 Q2262.52 386.354 2263.17 386.469 L2263.2 390.844 Z\" fill=\"#000000\" fill-rule=\"evenodd\" fill-opacity=\"1\" /><path clip-path=\"url(#clip710)\" d=\"M 0 0 M2296.18 382.303 L2284.38 400.752 L2296.18 400.752 L2296.18 382.303 M2294.95 378.229 L2300.83 378.229 L2300.83 400.752 L2305.76 400.752 L2305.76 404.641 L2300.83 404.641 L2300.83 412.789 L2296.18 412.789 L2296.18 404.641 L2280.58 404.641 L2280.58 400.127 L2294.95 378.229 Z\" fill=\"#000000\" fill-rule=\"evenodd\" fill-opacity=\"1\" /><path clip-path=\"url(#clip710)\" d=\"\n",
       "M1950.41 480.181 L2091.39 480.181 L2091.39 431.797 L1950.41 431.797 L1950.41 480.181  Z\n",
       "  \" fill=\"#ef027e\" fill-rule=\"evenodd\" fill-opacity=\"1\"/>\n",
       "<polyline clip-path=\"url(#clip710)\" style=\"stroke:#ef027e; stroke-width:4; stroke-opacity:1; fill:none\" points=\"\n",
       "  1950.41,431.797 2091.39,431.797 \n",
       "  \"/>\n",
       "<path clip-path=\"url(#clip710)\" d=\"M 0 0 M2142.76 441.371 L2142.76 446.301 Q2140.39 444.102 2137.71 443.014 Q2135.05 441.926 2132.04 441.926 Q2126.11 441.926 2122.96 445.56 Q2119.82 449.172 2119.82 456.023 Q2119.82 462.852 2122.96 466.486 Q2126.11 470.097 2132.04 470.097 Q2135.05 470.097 2137.71 469.009 Q2140.39 467.921 2142.76 465.722 L2142.76 470.607 Q2140.3 472.273 2137.55 473.107 Q2134.82 473.94 2131.76 473.94 Q2123.91 473.94 2119.4 469.148 Q2114.89 464.333 2114.89 456.023 Q2114.89 447.69 2119.4 442.898 Q2123.91 438.084 2131.76 438.084 Q2134.86 438.084 2137.59 438.917 Q2140.35 439.727 2142.76 441.371 Z\" fill=\"#000000\" fill-rule=\"evenodd\" fill-opacity=\"1\" /><path clip-path=\"url(#clip710)\" d=\"M 0 0 M2147.22 437.25 L2151.48 437.25 L2151.48 473.269 L2147.22 473.269 L2147.22 437.25 Z\" fill=\"#000000\" fill-rule=\"evenodd\" fill-opacity=\"1\" /><path clip-path=\"url(#clip710)\" d=\"M 0 0 M2155.51 463.037 L2155.51 447.343 L2159.77 447.343 L2159.77 462.875 Q2159.77 466.556 2161.2 468.408 Q2162.64 470.236 2165.51 470.236 Q2168.96 470.236 2170.95 468.037 Q2172.96 465.838 2172.96 462.042 L2172.96 447.343 L2177.22 447.343 L2177.22 473.269 L2172.96 473.269 L2172.96 469.287 Q2171.41 471.648 2169.35 472.806 Q2167.32 473.94 2164.61 473.94 Q2160.14 473.94 2157.83 471.162 Q2155.51 468.384 2155.51 463.037 M2166.23 446.718 L2166.23 446.718 Z\" fill=\"#000000\" fill-rule=\"evenodd\" fill-opacity=\"1\" /><path clip-path=\"url(#clip710)\" d=\"M 0 0 M2198.22 448.107 L2198.22 452.134 Q2196.41 451.209 2194.47 450.746 Q2192.52 450.283 2190.44 450.283 Q2187.27 450.283 2185.67 451.255 Q2184.1 452.227 2184.1 454.171 Q2184.1 455.653 2185.23 456.509 Q2186.37 457.343 2189.79 458.107 L2191.25 458.431 Q2195.79 459.403 2197.69 461.185 Q2199.61 462.945 2199.61 466.116 Q2199.61 469.727 2196.74 471.833 Q2193.89 473.94 2188.89 473.94 Q2186.81 473.94 2184.54 473.523 Q2182.29 473.13 2179.79 472.32 L2179.79 467.921 Q2182.15 469.148 2184.45 469.773 Q2186.74 470.375 2188.98 470.375 Q2191.99 470.375 2193.61 469.357 Q2195.23 468.315 2195.23 466.44 Q2195.23 464.704 2194.05 463.778 Q2192.89 462.852 2188.94 461.996 L2187.45 461.648 Q2183.5 460.815 2181.74 459.102 Q2179.98 457.366 2179.98 454.357 Q2179.98 450.699 2182.57 448.709 Q2185.16 446.718 2189.93 446.718 Q2192.29 446.718 2194.38 447.065 Q2196.46 447.412 2198.22 448.107 Z\" fill=\"#000000\" fill-rule=\"evenodd\" fill-opacity=\"1\" /><path clip-path=\"url(#clip710)\" d=\"M 0 0 M2208.29 439.982 L2208.29 447.343 L2217.06 447.343 L2217.06 450.653 L2208.29 450.653 L2208.29 464.727 Q2208.29 467.898 2209.14 468.801 Q2210.02 469.704 2212.69 469.704 L2217.06 469.704 L2217.06 473.269 L2212.69 473.269 Q2207.76 473.269 2205.88 471.44 Q2204.01 469.588 2204.01 464.727 L2204.01 450.653 L2200.88 450.653 L2200.88 447.343 L2204.01 447.343 L2204.01 439.982 L2208.29 439.982 Z\" fill=\"#000000\" fill-rule=\"evenodd\" fill-opacity=\"1\" /><path clip-path=\"url(#clip710)\" d=\"M 0 0 M2243.7 459.241 L2243.7 461.324 L2224.12 461.324 Q2224.4 465.722 2226.76 468.037 Q2229.14 470.329 2233.38 470.329 Q2235.83 470.329 2238.13 469.727 Q2240.44 469.125 2242.71 467.921 L2242.71 471.949 Q2240.42 472.921 2238.01 473.431 Q2235.6 473.94 2233.13 473.94 Q2226.92 473.94 2223.29 470.329 Q2219.68 466.718 2219.68 460.56 Q2219.68 454.195 2223.1 450.468 Q2226.55 446.718 2232.38 446.718 Q2237.62 446.718 2240.65 450.097 Q2243.7 453.454 2243.7 459.241 M2239.45 457.991 Q2239.4 454.496 2237.48 452.412 Q2235.58 450.329 2232.43 450.329 Q2228.87 450.329 2226.71 452.343 Q2224.58 454.357 2224.26 458.014 L2239.45 457.991 Z\" fill=\"#000000\" fill-rule=\"evenodd\" fill-opacity=\"1\" /><path clip-path=\"url(#clip710)\" d=\"M 0 0 M2263.2 451.324 Q2262.48 450.908 2261.62 450.722 Q2260.79 450.514 2259.77 450.514 Q2256.16 450.514 2254.21 452.875 Q2252.29 455.213 2252.29 459.611 L2252.29 473.269 L2248.01 473.269 L2248.01 447.343 L2252.29 447.343 L2252.29 451.371 Q2253.63 449.009 2255.79 447.875 Q2257.94 446.718 2261.02 446.718 Q2261.46 446.718 2261.99 446.787 Q2262.52 446.834 2263.17 446.949 L2263.2 451.324 Z\" fill=\"#000000\" fill-rule=\"evenodd\" fill-opacity=\"1\" /><path clip-path=\"url(#clip710)\" d=\"M 0 0 M2297.5 454.634 Q2300.86 455.352 2302.73 457.621 Q2304.63 459.889 2304.63 463.222 Q2304.63 468.338 2301.11 471.139 Q2297.59 473.94 2291.11 473.94 Q2288.94 473.94 2286.62 473.5 Q2284.33 473.083 2281.88 472.227 L2281.88 467.713 Q2283.82 468.847 2286.13 469.426 Q2288.45 470.005 2290.97 470.005 Q2295.37 470.005 2297.66 468.269 Q2299.98 466.533 2299.98 463.222 Q2299.98 460.167 2297.82 458.454 Q2295.69 456.718 2291.88 456.718 L2287.85 456.718 L2287.85 452.875 L2292.06 452.875 Q2295.51 452.875 2297.34 451.509 Q2299.17 450.121 2299.17 447.528 Q2299.17 444.866 2297.27 443.454 Q2295.39 442.019 2291.88 442.019 Q2289.95 442.019 2287.76 442.435 Q2285.56 442.852 2282.92 443.732 L2282.92 439.565 Q2285.58 438.824 2287.89 438.454 Q2290.23 438.084 2292.29 438.084 Q2297.62 438.084 2300.72 440.514 Q2303.82 442.922 2303.82 447.042 Q2303.82 449.912 2302.18 451.903 Q2300.53 453.871 2297.5 454.634 Z\" fill=\"#000000\" fill-rule=\"evenodd\" fill-opacity=\"1\" /><path clip-path=\"url(#clip710)\" d=\"\n",
       "M1950.41 540.661 L2091.39 540.661 L2091.39 492.277 L1950.41 492.277 L1950.41 540.661  Z\n",
       "  \" fill=\"#be5b16\" fill-rule=\"evenodd\" fill-opacity=\"1\"/>\n",
       "<polyline clip-path=\"url(#clip710)\" style=\"stroke:#be5b16; stroke-width:4; stroke-opacity:1; fill:none\" points=\"\n",
       "  1950.41,492.277 2091.39,492.277 \n",
       "  \"/>\n",
       "<path clip-path=\"url(#clip710)\" d=\"M 0 0 M2142.76 501.851 L2142.76 506.781 Q2140.39 504.582 2137.71 503.494 Q2135.05 502.406 2132.04 502.406 Q2126.11 502.406 2122.96 506.04 Q2119.82 509.652 2119.82 516.503 Q2119.82 523.332 2122.96 526.966 Q2126.11 530.577 2132.04 530.577 Q2135.05 530.577 2137.71 529.489 Q2140.39 528.401 2142.76 526.202 L2142.76 531.087 Q2140.3 532.753 2137.55 533.587 Q2134.82 534.42 2131.76 534.42 Q2123.91 534.42 2119.4 529.628 Q2114.89 524.813 2114.89 516.503 Q2114.89 508.17 2119.4 503.378 Q2123.91 498.564 2131.76 498.564 Q2134.86 498.564 2137.59 499.397 Q2140.35 500.207 2142.76 501.851 Z\" fill=\"#000000\" fill-rule=\"evenodd\" fill-opacity=\"1\" /><path clip-path=\"url(#clip710)\" d=\"M 0 0 M2147.22 497.73 L2151.48 497.73 L2151.48 533.749 L2147.22 533.749 L2147.22 497.73 Z\" fill=\"#000000\" fill-rule=\"evenodd\" fill-opacity=\"1\" /><path clip-path=\"url(#clip710)\" d=\"M 0 0 M2155.51 523.517 L2155.51 507.823 L2159.77 507.823 L2159.77 523.355 Q2159.77 527.036 2161.2 528.888 Q2162.64 530.716 2165.51 530.716 Q2168.96 530.716 2170.95 528.517 Q2172.96 526.318 2172.96 522.522 L2172.96 507.823 L2177.22 507.823 L2177.22 533.749 L2172.96 533.749 L2172.96 529.767 Q2171.41 532.128 2169.35 533.286 Q2167.32 534.42 2164.61 534.42 Q2160.14 534.42 2157.83 531.642 Q2155.51 528.864 2155.51 523.517 M2166.23 507.198 L2166.23 507.198 Z\" fill=\"#000000\" fill-rule=\"evenodd\" fill-opacity=\"1\" /><path clip-path=\"url(#clip710)\" d=\"M 0 0 M2198.22 508.587 L2198.22 512.614 Q2196.41 511.689 2194.47 511.226 Q2192.52 510.763 2190.44 510.763 Q2187.27 510.763 2185.67 511.735 Q2184.1 512.707 2184.1 514.651 Q2184.1 516.133 2185.23 516.989 Q2186.37 517.823 2189.79 518.587 L2191.25 518.911 Q2195.79 519.883 2197.69 521.665 Q2199.61 523.425 2199.61 526.596 Q2199.61 530.207 2196.74 532.313 Q2193.89 534.42 2188.89 534.42 Q2186.81 534.42 2184.54 534.003 Q2182.29 533.61 2179.79 532.8 L2179.79 528.401 Q2182.15 529.628 2184.45 530.253 Q2186.74 530.855 2188.98 530.855 Q2191.99 530.855 2193.61 529.837 Q2195.23 528.795 2195.23 526.92 Q2195.23 525.184 2194.05 524.258 Q2192.89 523.332 2188.94 522.476 L2187.45 522.128 Q2183.5 521.295 2181.74 519.582 Q2179.98 517.846 2179.98 514.837 Q2179.98 511.179 2182.57 509.189 Q2185.16 507.198 2189.93 507.198 Q2192.29 507.198 2194.38 507.545 Q2196.46 507.892 2198.22 508.587 Z\" fill=\"#000000\" fill-rule=\"evenodd\" fill-opacity=\"1\" /><path clip-path=\"url(#clip710)\" d=\"M 0 0 M2208.29 500.462 L2208.29 507.823 L2217.06 507.823 L2217.06 511.133 L2208.29 511.133 L2208.29 525.207 Q2208.29 528.378 2209.14 529.281 Q2210.02 530.184 2212.69 530.184 L2217.06 530.184 L2217.06 533.749 L2212.69 533.749 Q2207.76 533.749 2205.88 531.92 Q2204.01 530.068 2204.01 525.207 L2204.01 511.133 L2200.88 511.133 L2200.88 507.823 L2204.01 507.823 L2204.01 500.462 L2208.29 500.462 Z\" fill=\"#000000\" fill-rule=\"evenodd\" fill-opacity=\"1\" /><path clip-path=\"url(#clip710)\" d=\"M 0 0 M2243.7 519.721 L2243.7 521.804 L2224.12 521.804 Q2224.4 526.202 2226.76 528.517 Q2229.14 530.809 2233.38 530.809 Q2235.83 530.809 2238.13 530.207 Q2240.44 529.605 2242.71 528.401 L2242.71 532.429 Q2240.42 533.401 2238.01 533.911 Q2235.6 534.42 2233.13 534.42 Q2226.92 534.42 2223.29 530.809 Q2219.68 527.198 2219.68 521.04 Q2219.68 514.675 2223.1 510.948 Q2226.55 507.198 2232.38 507.198 Q2237.62 507.198 2240.65 510.577 Q2243.7 513.934 2243.7 519.721 M2239.45 518.471 Q2239.4 514.976 2237.48 512.892 Q2235.58 510.809 2232.43 510.809 Q2228.87 510.809 2226.71 512.823 Q2224.58 514.837 2224.26 518.494 L2239.45 518.471 Z\" fill=\"#000000\" fill-rule=\"evenodd\" fill-opacity=\"1\" /><path clip-path=\"url(#clip710)\" d=\"M 0 0 M2263.2 511.804 Q2262.48 511.388 2261.62 511.202 Q2260.79 510.994 2259.77 510.994 Q2256.16 510.994 2254.21 513.355 Q2252.29 515.693 2252.29 520.091 L2252.29 533.749 L2248.01 533.749 L2248.01 507.823 L2252.29 507.823 L2252.29 511.851 Q2253.63 509.489 2255.79 508.355 Q2257.94 507.198 2261.02 507.198 Q2261.46 507.198 2261.99 507.267 Q2262.52 507.314 2263.17 507.429 L2263.2 511.804 Z\" fill=\"#000000\" fill-rule=\"evenodd\" fill-opacity=\"1\" /><path clip-path=\"url(#clip710)\" d=\"M 0 0 M2287.36 529.813 L2303.68 529.813 L2303.68 533.749 L2281.74 533.749 L2281.74 529.813 Q2284.4 527.059 2288.98 522.429 Q2293.59 517.776 2294.77 516.434 Q2297.01 513.911 2297.89 512.175 Q2298.8 510.415 2298.8 508.726 Q2298.8 505.971 2296.85 504.235 Q2294.93 502.499 2291.83 502.499 Q2289.63 502.499 2287.18 503.263 Q2284.75 504.027 2281.97 505.577 L2281.97 500.855 Q2284.79 499.721 2287.25 499.142 Q2289.7 498.564 2291.74 498.564 Q2297.11 498.564 2300.3 501.249 Q2303.5 503.934 2303.5 508.425 Q2303.5 510.554 2302.69 512.476 Q2301.9 514.374 2299.79 516.966 Q2299.21 517.638 2296.11 520.855 Q2293.01 524.05 2287.36 529.813 Z\" fill=\"#000000\" fill-rule=\"evenodd\" fill-opacity=\"1\" /><path clip-path=\"url(#clip710)\" d=\"\n",
       "M1950.41 601.141 L2091.39 601.141 L2091.39 552.757 L1950.41 552.757 L1950.41 601.141  Z\n",
       "  \" fill=\"#666666\" fill-rule=\"evenodd\" fill-opacity=\"1\"/>\n",
       "<polyline clip-path=\"url(#clip710)\" style=\"stroke:#666666; stroke-width:4; stroke-opacity:1; fill:none\" points=\"\n",
       "  1950.41,552.757 2091.39,552.757 \n",
       "  \"/>\n",
       "<path clip-path=\"url(#clip710)\" d=\"M 0 0 M2142.76 562.331 L2142.76 567.261 Q2140.39 565.062 2137.71 563.974 Q2135.05 562.886 2132.04 562.886 Q2126.11 562.886 2122.96 566.52 Q2119.82 570.132 2119.82 576.983 Q2119.82 583.812 2122.96 587.446 Q2126.11 591.057 2132.04 591.057 Q2135.05 591.057 2137.71 589.969 Q2140.39 588.881 2142.76 586.682 L2142.76 591.567 Q2140.3 593.233 2137.55 594.067 Q2134.82 594.9 2131.76 594.9 Q2123.91 594.9 2119.4 590.108 Q2114.89 585.293 2114.89 576.983 Q2114.89 568.65 2119.4 563.858 Q2123.91 559.044 2131.76 559.044 Q2134.86 559.044 2137.59 559.877 Q2140.35 560.687 2142.76 562.331 Z\" fill=\"#000000\" fill-rule=\"evenodd\" fill-opacity=\"1\" /><path clip-path=\"url(#clip710)\" d=\"M 0 0 M2147.22 558.21 L2151.48 558.21 L2151.48 594.229 L2147.22 594.229 L2147.22 558.21 Z\" fill=\"#000000\" fill-rule=\"evenodd\" fill-opacity=\"1\" /><path clip-path=\"url(#clip710)\" d=\"M 0 0 M2155.51 583.997 L2155.51 568.303 L2159.77 568.303 L2159.77 583.835 Q2159.77 587.516 2161.2 589.368 Q2162.64 591.196 2165.51 591.196 Q2168.96 591.196 2170.95 588.997 Q2172.96 586.798 2172.96 583.002 L2172.96 568.303 L2177.22 568.303 L2177.22 594.229 L2172.96 594.229 L2172.96 590.247 Q2171.41 592.608 2169.35 593.766 Q2167.32 594.9 2164.61 594.9 Q2160.14 594.9 2157.83 592.122 Q2155.51 589.344 2155.51 583.997 M2166.23 567.678 L2166.23 567.678 Z\" fill=\"#000000\" fill-rule=\"evenodd\" fill-opacity=\"1\" /><path clip-path=\"url(#clip710)\" d=\"M 0 0 M2198.22 569.067 L2198.22 573.094 Q2196.41 572.169 2194.47 571.706 Q2192.52 571.243 2190.44 571.243 Q2187.27 571.243 2185.67 572.215 Q2184.1 573.187 2184.1 575.131 Q2184.1 576.613 2185.23 577.469 Q2186.37 578.303 2189.79 579.067 L2191.25 579.391 Q2195.79 580.363 2197.69 582.145 Q2199.61 583.905 2199.61 587.076 Q2199.61 590.687 2196.74 592.793 Q2193.89 594.9 2188.89 594.9 Q2186.81 594.9 2184.54 594.483 Q2182.29 594.09 2179.79 593.28 L2179.79 588.881 Q2182.15 590.108 2184.45 590.733 Q2186.74 591.335 2188.98 591.335 Q2191.99 591.335 2193.61 590.317 Q2195.23 589.275 2195.23 587.4 Q2195.23 585.664 2194.05 584.738 Q2192.89 583.812 2188.94 582.956 L2187.45 582.608 Q2183.5 581.775 2181.74 580.062 Q2179.98 578.326 2179.98 575.317 Q2179.98 571.659 2182.57 569.669 Q2185.16 567.678 2189.93 567.678 Q2192.29 567.678 2194.38 568.025 Q2196.46 568.372 2198.22 569.067 Z\" fill=\"#000000\" fill-rule=\"evenodd\" fill-opacity=\"1\" /><path clip-path=\"url(#clip710)\" d=\"M 0 0 M2208.29 560.942 L2208.29 568.303 L2217.06 568.303 L2217.06 571.613 L2208.29 571.613 L2208.29 585.687 Q2208.29 588.858 2209.14 589.761 Q2210.02 590.664 2212.69 590.664 L2217.06 590.664 L2217.06 594.229 L2212.69 594.229 Q2207.76 594.229 2205.88 592.4 Q2204.01 590.548 2204.01 585.687 L2204.01 571.613 L2200.88 571.613 L2200.88 568.303 L2204.01 568.303 L2204.01 560.942 L2208.29 560.942 Z\" fill=\"#000000\" fill-rule=\"evenodd\" fill-opacity=\"1\" /><path clip-path=\"url(#clip710)\" d=\"M 0 0 M2243.7 580.201 L2243.7 582.284 L2224.12 582.284 Q2224.4 586.682 2226.76 588.997 Q2229.14 591.289 2233.38 591.289 Q2235.83 591.289 2238.13 590.687 Q2240.44 590.085 2242.71 588.881 L2242.71 592.909 Q2240.42 593.881 2238.01 594.391 Q2235.6 594.9 2233.13 594.9 Q2226.92 594.9 2223.29 591.289 Q2219.68 587.678 2219.68 581.52 Q2219.68 575.155 2223.1 571.428 Q2226.55 567.678 2232.38 567.678 Q2237.62 567.678 2240.65 571.057 Q2243.7 574.414 2243.7 580.201 M2239.45 578.951 Q2239.4 575.456 2237.48 573.372 Q2235.58 571.289 2232.43 571.289 Q2228.87 571.289 2226.71 573.303 Q2224.58 575.317 2224.26 578.974 L2239.45 578.951 Z\" fill=\"#000000\" fill-rule=\"evenodd\" fill-opacity=\"1\" /><path clip-path=\"url(#clip710)\" d=\"M 0 0 M2263.2 572.284 Q2262.48 571.868 2261.62 571.682 Q2260.79 571.474 2259.77 571.474 Q2256.16 571.474 2254.21 573.835 Q2252.29 576.173 2252.29 580.571 L2252.29 594.229 L2248.01 594.229 L2248.01 568.303 L2252.29 568.303 L2252.29 572.331 Q2253.63 569.969 2255.79 568.835 Q2257.94 567.678 2261.02 567.678 Q2261.46 567.678 2261.99 567.747 Q2262.52 567.794 2263.17 567.909 L2263.2 572.284 Z\" fill=\"#000000\" fill-rule=\"evenodd\" fill-opacity=\"1\" /><path clip-path=\"url(#clip710)\" d=\"M 0 0 M2284.14 590.293 L2291.78 590.293 L2291.78 563.928 L2283.47 565.595 L2283.47 561.335 L2291.74 559.669 L2296.41 559.669 L2296.41 590.293 L2304.05 590.293 L2304.05 594.229 L2284.14 594.229 L2284.14 590.293 Z\" fill=\"#000000\" fill-rule=\"evenodd\" fill-opacity=\"1\" /></svg>\n"
      ]
     },
     "metadata": {},
     "output_type": "display_data"
    }
   ],
   "source": [
    "cum_plot(plotmat)"
   ]
  },
  {
   "cell_type": "code",
   "execution_count": 426,
   "metadata": {},
   "outputs": [],
   "source": [
    "savefig(\"figures/bio_kmeans_portfolio_$upper\")"
   ]
  },
  {
   "cell_type": "markdown",
   "metadata": {},
   "source": [
    "#### Number of Clusters"
   ]
  },
  {
   "cell_type": "markdown",
   "metadata": {},
   "source": [
    "* https://scikit-learn.org/stable/auto_examples/cluster/plot_kmeans_silhouette_analysis.html#sphx-glr-auto-examples-cluster-plot-kmeans-silhouette-analysis-py"
   ]
  },
  {
   "cell_type": "markdown",
   "metadata": {},
   "source": [
    "using methods above, determined that 3 clusters"
   ]
  },
  {
   "cell_type": "markdown",
   "metadata": {},
   "source": [
    "#### Verifying Clusters"
   ]
  },
  {
   "cell_type": "code",
   "execution_count": 427,
   "metadata": {
    "scrolled": true
   },
   "outputs": [
    {
     "data": {
      "text/plain": [
       "738-element Array{Tuple{Int64,Int64},1}:\n",
       " (2, 2)\n",
       " (2, 1)\n",
       " (1, 2)\n",
       " (2, 1)\n",
       " (2, 2)\n",
       " (2, 1)\n",
       " (1, 2)\n",
       " (2, 1)\n",
       " (1, 1)\n",
       " (2, 2)\n",
       " (2, 2)\n",
       " (2, 1)\n",
       " (2, 2)\n",
       " (2, 2)\n",
       " (3, 2)\n",
       " (3, 2)\n",
       " (2, 2)\n",
       " (1, 2)\n",
       " (2, 2)\n",
       " (2, 1)\n",
       " (1, 1)\n",
       " (2, 1)\n",
       " (1, 1)\n",
       " (1, 1)\n",
       " (2, 1)\n",
       " (1, 1)\n",
       " (3, 2)\n",
       " (2, 1)\n",
       " (1, 2)\n",
       " (1, 2)\n",
       " (2, 2)\n",
       " (2, 1)\n",
       " (2, 2)\n",
       " (2, 1)\n",
       " (2, 2)\n",
       " (2, 2)\n",
       " (2, 1)\n",
       " (1, 2)\n",
       " (2, 2)\n",
       " (2, 2)\n",
       " (2, 2)\n",
       " (2, 2)\n",
       " (3, 2)\n",
       " (1, 1)\n",
       " (2, 2)\n",
       " (3, 2)\n",
       " (2, 2)\n",
       " (3, 2)\n",
       " ⋮\n",
       " (2, 1)\n",
       " (3, 1)\n",
       " (1, 1)\n",
       " (3, 2)\n",
       " (3, 2)\n",
       " (1, 2)\n",
       " (3, 2)\n",
       " (2, 2)\n",
       " (3, 2)\n",
       " (1, 2)\n",
       " (1, 2)\n",
       " (3, 2)\n",
       " (1, 2)\n",
       " (3, 2)\n",
       " (2, 1)\n",
       " (3, 2)\n",
       " (3, 2)\n",
       " (3, 2)\n",
       " (1, 2)\n",
       " (3, 2)\n",
       " (2, 1)\n",
       " (2, 1)\n",
       " (3, 2)\n",
       " (2, 2)\n",
       " (1, 2)\n",
       " (2, 2)\n",
       " (3, 2)\n",
       " (1, 1)\n",
       " (1, 2)\n",
       " (2, 1)\n",
       " (1, 1)\n",
       " (2, 2)\n",
       " (2, 2)\n",
       " (2, 1)\n",
       " (1, 1)\n",
       " (2, 1)\n",
       " (3, 2)\n",
       " (2, 2)\n",
       " (1, 1)\n",
       " (2, 2)\n",
       " (2, 1)\n",
       " (3, 2)\n",
       " (1, 1)\n",
       " (1, 2)\n",
       " (2, 1)\n",
       " (1, 1)\n",
       " (1, 1)"
      ]
     },
     "execution_count": 427,
     "metadata": {},
     "output_type": "execute_result"
    }
   ],
   "source": [
    "y_1h = map(x-> if (x == \"RB\") 1 else 2 end , y[train])\n",
    "collect(zip(assignments[2], y_1h))"
   ]
  },
  {
   "cell_type": "code",
   "execution_count": 428,
   "metadata": {},
   "outputs": [
    {
     "data": {
      "text/plain": [
       "0.11438395582140504"
      ]
     },
     "execution_count": 428,
     "metadata": {},
     "output_type": "execute_result"
    }
   ],
   "source": [
    "mutualinfo(assignments[2], y_1h)"
   ]
  },
  {
   "cell_type": "code",
   "execution_count": 429,
   "metadata": {},
   "outputs": [
    {
     "data": {
      "text/plain": [
       "0.11438395582140479"
      ]
     },
     "execution_count": 429,
     "metadata": {},
     "output_type": "execute_result"
    }
   ],
   "source": [
    "vmeasure(assignments[2], y_1h)"
   ]
  },
  {
   "cell_type": "code",
   "execution_count": 430,
   "metadata": {},
   "outputs": [
    {
     "data": {
      "text/plain": [
       "(0.0370550044426732, 0.5079958669328891, 0.4920041330671109, 0.015991733865778276)"
      ]
     },
     "execution_count": 430,
     "metadata": {},
     "output_type": "execute_result"
    }
   ],
   "source": [
    "randindex(assignments[2], y_1h)"
   ]
  },
  {
   "cell_type": "code",
   "execution_count": 431,
   "metadata": {},
   "outputs": [
    {
     "data": {
      "text/plain": [
       "1.4609782694343798"
      ]
     },
     "execution_count": 431,
     "metadata": {},
     "output_type": "execute_result"
    }
   ],
   "source": [
    "varinfo(assignments[2], y_1h)"
   ]
  },
  {
   "cell_type": "markdown",
   "metadata": {},
   "source": [
    "### Expectation Maximization"
   ]
  },
  {
   "cell_type": "markdown",
   "metadata": {},
   "source": [
    "* https://scikit-learn.org/stable/modules/generated/sklearn.mixture.GaussianMixture.html#sklearn.mixture.GaussianMixture\n",
    "* https://scikit-learn.org/stable/auto_examples/mixture/plot_gmm_pdf.html#sphx-glr-auto-examples-mixture-plot-gmm-pdf-py\n",
    "* https://scikit-learn.org/stable/auto_examples/mixture/plot_gmm_covariances.html#sphx-glr-auto-examples-mixture-plot-gmm-covariances-py\n",
    "* https://scikit-learn.org/stable/auto_examples/mixture/plot_gmm_selection.html#sphx-glr-auto-examples-mixture-plot-gmm-selection-py\n",
    "* https://scikit-learn.org/stable/modules/generated/sklearn.mixture.GaussianMixture.html#sklearn.mixture.GaussianMixture\n",
    "* https://github.com/JuliaPy/PyCall.jl"
   ]
  },
  {
   "cell_type": "code",
   "execution_count": 432,
   "metadata": {},
   "outputs": [
    {
     "data": {
      "text/plain": [
       "PyObject <module 'sklearn.mixture' from '/home/andrew/miniconda3/envs/julia/lib/python3.7/site-packages/sklearn/mixture/__init__.py'>"
      ]
     },
     "execution_count": 432,
     "metadata": {},
     "output_type": "execute_result"
    }
   ],
   "source": [
    "sklearn_m = pyimport(\"sklearn.mixture\")"
   ]
  },
  {
   "cell_type": "code",
   "execution_count": 433,
   "metadata": {
    "scrolled": true
   },
   "outputs": [
    {
     "name": "stdout",
     "output_type": "stream",
     "text": [
      "Gaussians = 2\n",
      "l = [(1, 38), (2, 700)]\n",
      "silhouette: 0.38685536183333646\n",
      "bayes_ic = 30737.84863304066\n",
      "\n",
      "Gaussians = 3\n",
      "l = [(1, 37), (2, 457), (3, 244)]\n",
      "silhouette: 0.15622091860472928\n",
      "bayes_ic = 9297.011329167355\n",
      "\n",
      "Gaussians = 4\n",
      "l = [(1, 37), (2, 454), (3, 237), (4, 10)]\n",
      "silhouette: 0.17489165749760327\n",
      "bayes_ic = 7423.094062810716\n",
      "\n",
      "Gaussians = 5\n",
      "l = [(1, 37), (2, 511), (3, 173), (4, 7), (5, 10)]\n",
      "silhouette: 0.2306487012640807\n",
      "bayes_ic = 4111.060290181347\n",
      "\n",
      "Gaussians = 6\n",
      "l = [(1, 37), (2, 180), (3, 112), (4, 7), (5, 9), (6, 393)]\n",
      "silhouette: 0.08819695453883962\n",
      "bayes_ic = -5239.590676239146\n",
      "\n",
      "Gaussians = 7\n",
      "l = [(1, 37), (2, 201), (3, 145), (4, 7), (5, 9), (6, 301), (7, 38)]\n",
      "silhouette: 0.10319971764093588\n",
      "bayes_ic = -13056.833765663047\n",
      "\n",
      "Gaussians = 8\n",
      "l = [(1, 37), (2, 141), (3, 48), (4, 60), (5, 17), (6, 10), (7, 90), (8, 335)]\n",
      "silhouette: 0.11090178265679469\n",
      "bayes_ic = -17729.73171806419\n",
      "\n"
     ]
    }
   ],
   "source": [
    "upper = 8\n",
    "k_range = 2:upper\n",
    "bics = []\n",
    "sils = []\n",
    "ls = []\n",
    "sil_means = []\n",
    "assignments = []\n",
    "\n",
    "for i in k_range\n",
    "    println(\"Gaussians = $i\")\n",
    "    clf = sklearn_m.GaussianMixture(n_components=i, covariance_type=\"full\", random_state=RNG)\n",
    "    labels = clf.fit_predict(train_data) .+ 1; # indexing issues from python to julia functions\n",
    "    \n",
    "    d = countmap(labels)\n",
    "    k = d |> keys\n",
    "    v = d |> values\n",
    "    l = sort(collect(zip(k,v)), by=x->x[1])\n",
    "    @show l\n",
    "    \n",
    "    s = silhouettes(labels, dist_mat(train_data))\n",
    "    println(\"silhouette: $(mean(s))\")\n",
    "    \n",
    "    bayes_ic = clf.bic(train_data)\n",
    "    @show bayes_ic\n",
    "    \n",
    "    push!(ls, l)\n",
    "    push!(sils, s)\n",
    "    push!(sil_means, mean(s))\n",
    "    push!(bics, bayes_ic)\n",
    "    push!(assignments, labels)\n",
    "    println(\"\")\n",
    "end"
   ]
  },
  {
   "cell_type": "code",
   "execution_count": 434,
   "metadata": {
    "scrolled": false
   },
   "outputs": [
    {
     "data": {
      "image/svg+xml": [
       "<?xml version=\"1.0\" encoding=\"utf-8\"?>\n",
       "<svg xmlns=\"http://www.w3.org/2000/svg\" xmlns:xlink=\"http://www.w3.org/1999/xlink\" width=\"600\" height=\"400\" viewBox=\"0 0 2400 1600\">\n",
       "<defs>\n",
       "  <clipPath id=\"clip740\">\n",
       "    <rect x=\"0\" y=\"0\" width=\"2400\" height=\"1600\"/>\n",
       "  </clipPath>\n",
       "</defs>\n",
       "<path clip-path=\"url(#clip740)\" d=\"\n",
       "M0 1600 L2400 1600 L2400 0 L0 0  Z\n",
       "  \" fill=\"#ffffff\" fill-rule=\"evenodd\" fill-opacity=\"1\"/>\n",
       "<defs>\n",
       "  <clipPath id=\"clip741\">\n",
       "    <rect x=\"480\" y=\"0\" width=\"1681\" height=\"1600\"/>\n",
       "  </clipPath>\n",
       "</defs>\n",
       "<path clip-path=\"url(#clip740)\" d=\"\n",
       "M248.959 1423.18 L2248.5 1423.18 L2248.5 47.2441 L248.959 47.2441  Z\n",
       "  \" fill=\"#ffffff\" fill-rule=\"evenodd\" fill-opacity=\"1\"/>\n",
       "<defs>\n",
       "  <clipPath id=\"clip742\">\n",
       "    <rect x=\"248\" y=\"47\" width=\"2001\" height=\"1377\"/>\n",
       "  </clipPath>\n",
       "</defs>\n",
       "<polyline clip-path=\"url(#clip742)\" style=\"stroke:#000000; stroke-width:2; stroke-opacity:0.1; fill:none\" points=\"\n",
       "  305.55,1423.18 305.55,47.2441 \n",
       "  \"/>\n",
       "<polyline clip-path=\"url(#clip742)\" style=\"stroke:#000000; stroke-width:2; stroke-opacity:0.1; fill:none\" points=\"\n",
       "  619.944,1423.18 619.944,47.2441 \n",
       "  \"/>\n",
       "<polyline clip-path=\"url(#clip742)\" style=\"stroke:#000000; stroke-width:2; stroke-opacity:0.1; fill:none\" points=\"\n",
       "  934.338,1423.18 934.338,47.2441 \n",
       "  \"/>\n",
       "<polyline clip-path=\"url(#clip742)\" style=\"stroke:#000000; stroke-width:2; stroke-opacity:0.1; fill:none\" points=\"\n",
       "  1248.73,1423.18 1248.73,47.2441 \n",
       "  \"/>\n",
       "<polyline clip-path=\"url(#clip742)\" style=\"stroke:#000000; stroke-width:2; stroke-opacity:0.1; fill:none\" points=\"\n",
       "  1563.13,1423.18 1563.13,47.2441 \n",
       "  \"/>\n",
       "<polyline clip-path=\"url(#clip742)\" style=\"stroke:#000000; stroke-width:2; stroke-opacity:0.1; fill:none\" points=\"\n",
       "  1877.52,1423.18 1877.52,47.2441 \n",
       "  \"/>\n",
       "<polyline clip-path=\"url(#clip742)\" style=\"stroke:#000000; stroke-width:2; stroke-opacity:0.1; fill:none\" points=\"\n",
       "  2191.91,1423.18 2191.91,47.2441 \n",
       "  \"/>\n",
       "<polyline clip-path=\"url(#clip740)\" style=\"stroke:#000000; stroke-width:4; stroke-opacity:1; fill:none\" points=\"\n",
       "  248.959,1423.18 2248.5,1423.18 \n",
       "  \"/>\n",
       "<polyline clip-path=\"url(#clip740)\" style=\"stroke:#000000; stroke-width:4; stroke-opacity:1; fill:none\" points=\"\n",
       "  305.55,1423.18 305.55,1406.67 \n",
       "  \"/>\n",
       "<polyline clip-path=\"url(#clip740)\" style=\"stroke:#000000; stroke-width:4; stroke-opacity:1; fill:none\" points=\"\n",
       "  619.944,1423.18 619.944,1406.67 \n",
       "  \"/>\n",
       "<polyline clip-path=\"url(#clip740)\" style=\"stroke:#000000; stroke-width:4; stroke-opacity:1; fill:none\" points=\"\n",
       "  934.338,1423.18 934.338,1406.67 \n",
       "  \"/>\n",
       "<polyline clip-path=\"url(#clip740)\" style=\"stroke:#000000; stroke-width:4; stroke-opacity:1; fill:none\" points=\"\n",
       "  1248.73,1423.18 1248.73,1406.67 \n",
       "  \"/>\n",
       "<polyline clip-path=\"url(#clip740)\" style=\"stroke:#000000; stroke-width:4; stroke-opacity:1; fill:none\" points=\"\n",
       "  1563.13,1423.18 1563.13,1406.67 \n",
       "  \"/>\n",
       "<polyline clip-path=\"url(#clip740)\" style=\"stroke:#000000; stroke-width:4; stroke-opacity:1; fill:none\" points=\"\n",
       "  1877.52,1423.18 1877.52,1406.67 \n",
       "  \"/>\n",
       "<polyline clip-path=\"url(#clip740)\" style=\"stroke:#000000; stroke-width:4; stroke-opacity:1; fill:none\" points=\"\n",
       "  2191.91,1423.18 2191.91,1406.67 \n",
       "  \"/>\n",
       "<path clip-path=\"url(#clip740)\" d=\"M 0 0 M300.203 1479.92 L316.522 1479.92 L316.522 1483.85 L294.578 1483.85 L294.578 1479.92 Q297.24 1477.16 301.823 1472.53 Q306.429 1467.88 307.61 1466.54 Q309.855 1464.01 310.735 1462.28 Q311.638 1460.52 311.638 1458.83 Q311.638 1456.07 309.693 1454.34 Q307.772 1452.6 304.67 1452.6 Q302.471 1452.6 300.017 1453.37 Q297.587 1454.13 294.809 1455.68 L294.809 1450.96 Q297.633 1449.82 300.087 1449.25 Q302.541 1448.67 304.578 1448.67 Q309.948 1448.67 313.142 1451.35 Q316.337 1454.04 316.337 1458.53 Q316.337 1460.66 315.527 1462.58 Q314.74 1464.48 312.633 1467.07 Q312.054 1467.74 308.953 1470.96 Q305.851 1474.15 300.203 1479.92 Z\" fill=\"#000000\" fill-rule=\"evenodd\" fill-opacity=\"1\" /><path clip-path=\"url(#clip740)\" d=\"M 0 0 M624.191 1465.22 Q627.548 1465.94 629.423 1468.2 Q631.321 1470.47 631.321 1473.81 Q631.321 1478.92 627.802 1481.72 Q624.284 1484.52 617.802 1484.52 Q615.627 1484.52 613.312 1484.08 Q611.02 1483.67 608.566 1482.81 L608.566 1478.3 Q610.511 1479.43 612.826 1480.01 Q615.14 1480.59 617.664 1480.59 Q622.062 1480.59 624.353 1478.85 Q626.668 1477.12 626.668 1473.81 Q626.668 1470.75 624.515 1469.04 Q622.386 1467.3 618.566 1467.3 L614.539 1467.3 L614.539 1463.46 L618.752 1463.46 Q622.201 1463.46 624.029 1462.09 Q625.858 1460.7 625.858 1458.11 Q625.858 1455.45 623.96 1454.04 Q622.085 1452.6 618.566 1452.6 Q616.645 1452.6 614.446 1453.02 Q612.247 1453.44 609.608 1454.31 L609.608 1450.15 Q612.27 1449.41 614.585 1449.04 Q616.923 1448.67 618.983 1448.67 Q624.307 1448.67 627.409 1451.1 Q630.511 1453.5 630.511 1457.63 Q630.511 1460.5 628.867 1462.49 Q627.224 1464.45 624.191 1465.22 Z\" fill=\"#000000\" fill-rule=\"evenodd\" fill-opacity=\"1\" /><path clip-path=\"url(#clip740)\" d=\"M 0 0 M937.347 1453.37 L925.541 1471.81 L937.347 1471.81 L937.347 1453.37 M936.12 1449.29 L942 1449.29 L942 1471.81 L946.93 1471.81 L946.93 1475.7 L942 1475.7 L942 1483.85 L937.347 1483.85 L937.347 1475.7 L921.745 1475.7 L921.745 1471.19 L936.12 1449.29 Z\" fill=\"#000000\" fill-rule=\"evenodd\" fill-opacity=\"1\" /><path clip-path=\"url(#clip740)\" d=\"M 0 0 M1239.01 1449.29 L1257.37 1449.29 L1257.37 1453.23 L1243.29 1453.23 L1243.29 1461.7 Q1244.31 1461.35 1245.33 1461.19 Q1246.35 1461 1247.37 1461 Q1253.15 1461 1256.53 1464.18 Q1259.91 1467.35 1259.91 1472.76 Q1259.91 1478.34 1256.44 1481.44 Q1252.97 1484.52 1246.65 1484.52 Q1244.47 1484.52 1242.2 1484.15 Q1239.96 1483.78 1237.55 1483.04 L1237.55 1478.34 Q1239.63 1479.48 1241.86 1480.03 Q1244.08 1480.59 1246.56 1480.59 Q1250.56 1480.59 1252.9 1478.48 Q1255.24 1476.38 1255.24 1472.76 Q1255.24 1469.15 1252.9 1467.05 Q1250.56 1464.94 1246.56 1464.94 Q1244.68 1464.94 1242.81 1465.36 Q1240.95 1465.77 1239.01 1466.65 L1239.01 1449.29 Z\" fill=\"#000000\" fill-rule=\"evenodd\" fill-opacity=\"1\" /><path clip-path=\"url(#clip740)\" d=\"M 0 0 M1563.53 1464.71 Q1560.38 1464.71 1558.53 1466.86 Q1556.7 1469.01 1556.7 1472.76 Q1556.7 1476.49 1558.53 1478.67 Q1560.38 1480.82 1563.53 1480.82 Q1566.68 1480.82 1568.51 1478.67 Q1570.36 1476.49 1570.36 1472.76 Q1570.36 1469.01 1568.51 1466.86 Q1566.68 1464.71 1563.53 1464.71 M1572.81 1450.06 L1572.81 1454.31 Q1571.05 1453.48 1569.25 1453.04 Q1567.47 1452.6 1565.71 1452.6 Q1561.08 1452.6 1558.62 1455.73 Q1556.19 1458.85 1555.85 1465.17 Q1557.21 1463.16 1559.27 1462.09 Q1561.33 1461 1563.81 1461 Q1569.02 1461 1572.03 1464.18 Q1575.06 1467.32 1575.06 1472.76 Q1575.06 1478.09 1571.91 1481.31 Q1568.76 1484.52 1563.53 1484.52 Q1557.54 1484.52 1554.36 1479.94 Q1551.19 1475.33 1551.19 1466.61 Q1551.19 1458.41 1555.08 1453.55 Q1558.97 1448.67 1565.52 1448.67 Q1567.28 1448.67 1569.06 1449.01 Q1570.87 1449.36 1572.81 1450.06 Z\" fill=\"#000000\" fill-rule=\"evenodd\" fill-opacity=\"1\" /><path clip-path=\"url(#clip740)\" d=\"M 0 0 M1866.41 1449.29 L1888.63 1449.29 L1888.63 1451.28 L1876.08 1483.85 L1871.2 1483.85 L1883.01 1453.23 L1866.41 1453.23 L1866.41 1449.29 Z\" fill=\"#000000\" fill-rule=\"evenodd\" fill-opacity=\"1\" /><path clip-path=\"url(#clip740)\" d=\"M 0 0 M2191.91 1467.44 Q2188.58 1467.44 2186.66 1469.22 Q2184.76 1471 2184.76 1474.13 Q2184.76 1477.25 2186.66 1479.04 Q2188.58 1480.82 2191.91 1480.82 Q2195.25 1480.82 2197.17 1479.04 Q2199.09 1477.23 2199.09 1474.13 Q2199.09 1471 2197.17 1469.22 Q2195.27 1467.44 2191.91 1467.44 M2187.24 1465.45 Q2184.23 1464.71 2182.54 1462.65 Q2180.87 1460.59 2180.87 1457.63 Q2180.87 1453.48 2183.81 1451.07 Q2186.77 1448.67 2191.91 1448.67 Q2197.08 1448.67 2200.01 1451.07 Q2202.95 1453.48 2202.95 1457.63 Q2202.95 1460.59 2201.26 1462.65 Q2199.6 1464.71 2196.61 1465.45 Q2199.99 1466.24 2201.87 1468.53 Q2203.76 1470.82 2203.76 1474.13 Q2203.76 1479.15 2200.69 1481.84 Q2197.63 1484.52 2191.91 1484.52 Q2186.2 1484.52 2183.12 1481.84 Q2180.06 1479.15 2180.06 1474.13 Q2180.06 1470.82 2181.96 1468.53 Q2183.86 1466.24 2187.24 1465.45 M2185.52 1458.06 Q2185.52 1460.75 2187.19 1462.25 Q2188.88 1463.76 2191.91 1463.76 Q2194.92 1463.76 2196.61 1462.25 Q2198.33 1460.75 2198.33 1458.06 Q2198.33 1455.38 2196.61 1453.88 Q2194.92 1452.37 2191.91 1452.37 Q2188.88 1452.37 2187.19 1453.88 Q2185.52 1455.38 2185.52 1458.06 Z\" fill=\"#000000\" fill-rule=\"evenodd\" fill-opacity=\"1\" /><path clip-path=\"url(#clip740)\" d=\"M 0 0 M963.293 1508.52 L971.95 1508.52 L993.021 1548.28 L993.021 1508.52 L999.259 1508.52 L999.259 1556.04 L990.602 1556.04 L969.532 1516.29 L969.532 1556.04 L963.293 1556.04 L963.293 1508.52 Z\" fill=\"#000000\" fill-rule=\"evenodd\" fill-opacity=\"1\" /><path clip-path=\"url(#clip740)\" d=\"M 0 0 M1004.8 1541.98 L1004.8 1520.4 L1010.65 1520.4 L1010.65 1541.75 Q1010.65 1546.81 1012.63 1549.36 Q1014.6 1551.87 1018.55 1551.87 Q1023.29 1551.87 1026.03 1548.85 Q1028.8 1545.83 1028.8 1540.61 L1028.8 1520.4 L1034.65 1520.4 L1034.65 1556.04 L1028.8 1556.04 L1028.8 1550.57 Q1026.66 1553.82 1023.83 1555.41 Q1021.03 1556.97 1017.31 1556.97 Q1011.16 1556.97 1007.98 1553.15 Q1004.8 1549.33 1004.8 1541.98 M1019.53 1519.54 L1019.53 1519.54 Z\" fill=\"#000000\" fill-rule=\"evenodd\" fill-opacity=\"1\" /><path clip-path=\"url(#clip740)\" d=\"M 0 0 M1068.55 1527.24 Q1070.75 1523.29 1073.8 1521.41 Q1076.86 1519.54 1081 1519.54 Q1086.57 1519.54 1089.59 1523.45 Q1092.61 1527.33 1092.61 1534.53 L1092.61 1556.04 L1086.72 1556.04 L1086.72 1534.72 Q1086.72 1529.59 1084.91 1527.11 Q1083.1 1524.63 1079.37 1524.63 Q1074.82 1524.63 1072.18 1527.65 Q1069.54 1530.68 1069.54 1535.9 L1069.54 1556.04 L1063.65 1556.04 L1063.65 1534.72 Q1063.65 1529.56 1061.83 1527.11 Q1060.02 1524.63 1056.23 1524.63 Q1051.74 1524.63 1049.1 1527.68 Q1046.46 1530.71 1046.46 1535.9 L1046.46 1556.04 L1040.57 1556.04 L1040.57 1520.4 L1046.46 1520.4 L1046.46 1525.93 Q1048.47 1522.66 1051.27 1521.1 Q1054.07 1519.54 1057.92 1519.54 Q1061.8 1519.54 1064.51 1521.51 Q1067.25 1523.48 1068.55 1527.24 Z\" fill=\"#000000\" fill-rule=\"evenodd\" fill-opacity=\"1\" /><path clip-path=\"url(#clip740)\" d=\"M 0 0 M1124.35 1538.25 Q1124.35 1531.79 1121.67 1528.13 Q1119.03 1524.44 1114.38 1524.44 Q1109.74 1524.44 1107.06 1528.13 Q1104.42 1531.79 1104.42 1538.25 Q1104.42 1544.71 1107.06 1548.4 Q1109.74 1552.07 1114.38 1552.07 Q1119.03 1552.07 1121.67 1548.4 Q1124.35 1544.71 1124.35 1538.25 M1104.42 1525.81 Q1106.27 1522.62 1109.07 1521.1 Q1111.9 1519.54 1115.82 1519.54 Q1122.31 1519.54 1126.35 1524.69 Q1130.42 1529.85 1130.42 1538.25 Q1130.42 1546.65 1126.35 1551.81 Q1122.31 1556.97 1115.82 1556.97 Q1111.9 1556.97 1109.07 1555.44 Q1106.27 1553.88 1104.42 1550.7 L1104.42 1556.04 L1098.53 1556.04 L1098.53 1506.52 L1104.42 1506.52 L1104.42 1525.81 Z\" fill=\"#000000\" fill-rule=\"evenodd\" fill-opacity=\"1\" /><path clip-path=\"url(#clip740)\" d=\"M 0 0 M1167.06 1536.76 L1167.06 1539.62 L1140.13 1539.62 Q1140.51 1545.67 1143.76 1548.85 Q1147.04 1552 1152.86 1552 Q1156.24 1552 1159.39 1551.17 Q1162.57 1550.35 1165.69 1548.69 L1165.69 1554.23 Q1162.54 1555.57 1159.23 1556.27 Q1155.92 1556.97 1152.51 1556.97 Q1143.98 1556.97 1138.99 1552 Q1134.02 1547.04 1134.02 1538.57 Q1134.02 1529.82 1138.73 1524.69 Q1143.47 1519.54 1151.5 1519.54 Q1158.69 1519.54 1162.86 1524.18 Q1167.06 1528.8 1167.06 1536.76 M1161.2 1535.04 Q1161.14 1530.23 1158.5 1527.37 Q1155.89 1524.5 1151.56 1524.5 Q1146.66 1524.5 1143.7 1527.27 Q1140.77 1530.04 1140.32 1535.07 L1161.2 1535.04 Z\" fill=\"#000000\" fill-rule=\"evenodd\" fill-opacity=\"1\" /><path clip-path=\"url(#clip740)\" d=\"M 0 0 M1193.86 1525.87 Q1192.87 1525.3 1191.69 1525.04 Q1190.55 1524.76 1189.15 1524.76 Q1184.18 1524.76 1181.51 1528 Q1178.87 1531.22 1178.87 1537.27 L1178.87 1556.04 L1172.98 1556.04 L1172.98 1520.4 L1178.87 1520.4 L1178.87 1525.93 Q1180.71 1522.69 1183.67 1521.13 Q1186.63 1519.54 1190.87 1519.54 Q1191.47 1519.54 1192.2 1519.63 Q1192.94 1519.7 1193.83 1519.85 L1193.86 1525.87 Z\" fill=\"#000000\" fill-rule=\"evenodd\" fill-opacity=\"1\" /><path clip-path=\"url(#clip740)\" d=\"M 0 0 M1234.54 1524.5 Q1229.83 1524.5 1227.09 1528.19 Q1224.35 1531.85 1224.35 1538.25 Q1224.35 1544.65 1227.06 1548.34 Q1229.79 1552 1234.54 1552 Q1239.21 1552 1241.95 1548.31 Q1244.69 1544.62 1244.69 1538.25 Q1244.69 1531.92 1241.95 1528.23 Q1239.21 1524.5 1234.54 1524.5 M1234.54 1519.54 Q1242.17 1519.54 1246.54 1524.5 Q1250.9 1529.47 1250.9 1538.25 Q1250.9 1547 1246.54 1552 Q1242.17 1556.97 1234.54 1556.97 Q1226.87 1556.97 1222.5 1552 Q1218.18 1547 1218.18 1538.25 Q1218.18 1529.47 1222.5 1524.5 Q1226.87 1519.54 1234.54 1519.54 Z\" fill=\"#000000\" fill-rule=\"evenodd\" fill-opacity=\"1\" /><path clip-path=\"url(#clip740)\" d=\"M 0 0 M1275.09 1506.52 L1275.09 1511.39 L1269.48 1511.39 Q1266.33 1511.39 1265.09 1512.66 Q1263.88 1513.93 1263.88 1517.24 L1263.88 1520.4 L1273.53 1520.4 L1273.53 1524.95 L1263.88 1524.95 L1263.88 1556.04 L1257.99 1556.04 L1257.99 1524.95 L1252.39 1524.95 L1252.39 1520.4 L1257.99 1520.4 L1257.99 1517.91 Q1257.99 1511.96 1260.76 1509.26 Q1263.53 1506.52 1269.55 1506.52 L1275.09 1506.52 Z\" fill=\"#000000\" fill-rule=\"evenodd\" fill-opacity=\"1\" /><path clip-path=\"url(#clip740)\" d=\"M 0 0 M1337.79 1512.18 L1337.79 1518.96 Q1334.54 1515.94 1330.85 1514.44 Q1327.19 1512.95 1323.05 1512.95 Q1314.9 1512.95 1310.57 1517.95 Q1306.25 1522.91 1306.25 1532.33 Q1306.25 1541.72 1310.57 1546.72 Q1314.9 1551.68 1323.05 1551.68 Q1327.19 1551.68 1330.85 1550.19 Q1334.54 1548.69 1337.79 1545.67 L1337.79 1552.38 Q1334.41 1554.68 1330.63 1555.82 Q1326.87 1556.97 1322.67 1556.97 Q1311.88 1556.97 1305.67 1550.38 Q1299.47 1543.76 1299.47 1532.33 Q1299.47 1520.87 1305.67 1514.28 Q1311.88 1507.66 1322.67 1507.66 Q1326.93 1507.66 1330.69 1508.81 Q1334.48 1509.92 1337.79 1512.18 Z\" fill=\"#000000\" fill-rule=\"evenodd\" fill-opacity=\"1\" /><path clip-path=\"url(#clip740)\" d=\"M 0 0 M1343.93 1506.52 L1349.79 1506.52 L1349.79 1556.04 L1343.93 1556.04 L1343.93 1506.52 Z\" fill=\"#000000\" fill-rule=\"evenodd\" fill-opacity=\"1\" /><path clip-path=\"url(#clip740)\" d=\"M 0 0 M1355.33 1541.98 L1355.33 1520.4 L1361.18 1520.4 L1361.18 1541.75 Q1361.18 1546.81 1363.15 1549.36 Q1365.13 1551.87 1369.08 1551.87 Q1373.82 1551.87 1376.55 1548.85 Q1379.32 1545.83 1379.32 1540.61 L1379.32 1520.4 L1385.18 1520.4 L1385.18 1556.04 L1379.32 1556.04 L1379.32 1550.57 Q1377.19 1553.82 1374.36 1555.41 Q1371.56 1556.97 1367.83 1556.97 Q1361.69 1556.97 1358.51 1553.15 Q1355.33 1549.33 1355.33 1541.98 M1370.06 1519.54 L1370.06 1519.54 Z\" fill=\"#000000\" fill-rule=\"evenodd\" fill-opacity=\"1\" /><path clip-path=\"url(#clip740)\" d=\"M 0 0 M1414.05 1521.45 L1414.05 1526.98 Q1411.57 1525.71 1408.89 1525.07 Q1406.22 1524.44 1403.35 1524.44 Q1398.99 1524.44 1396.8 1525.77 Q1394.63 1527.11 1394.63 1529.79 Q1394.63 1531.82 1396.19 1533 Q1397.75 1534.15 1402.46 1535.2 L1404.47 1535.64 Q1410.71 1536.98 1413.32 1539.43 Q1415.96 1541.85 1415.96 1546.21 Q1415.96 1551.17 1412.01 1554.07 Q1408.1 1556.97 1401.22 1556.97 Q1398.36 1556.97 1395.24 1556.39 Q1392.15 1555.85 1388.71 1554.74 L1388.71 1548.69 Q1391.96 1550.38 1395.11 1551.24 Q1398.26 1552.07 1401.35 1552.07 Q1405.49 1552.07 1407.71 1550.66 Q1409.94 1549.23 1409.94 1546.65 Q1409.94 1544.27 1408.32 1542.99 Q1406.73 1541.72 1401.29 1540.54 L1399.25 1540.07 Q1393.81 1538.92 1391.39 1536.56 Q1388.97 1534.18 1388.97 1530.04 Q1388.97 1525.01 1392.53 1522.27 Q1396.1 1519.54 1402.65 1519.54 Q1405.9 1519.54 1408.77 1520.01 Q1411.63 1520.49 1414.05 1521.45 Z\" fill=\"#000000\" fill-rule=\"evenodd\" fill-opacity=\"1\" /><path clip-path=\"url(#clip740)\" d=\"M 0 0 M1427.89 1510.27 L1427.89 1520.4 L1439.96 1520.4 L1439.96 1524.95 L1427.89 1524.95 L1427.89 1544.3 Q1427.89 1548.66 1429.07 1549.9 Q1430.28 1551.14 1433.94 1551.14 L1439.96 1551.14 L1439.96 1556.04 L1433.94 1556.04 Q1427.16 1556.04 1424.58 1553.53 Q1422.01 1550.98 1422.01 1544.3 L1422.01 1524.95 L1417.71 1524.95 L1417.71 1520.4 L1422.01 1520.4 L1422.01 1510.27 L1427.89 1510.27 Z\" fill=\"#000000\" fill-rule=\"evenodd\" fill-opacity=\"1\" /><path clip-path=\"url(#clip740)\" d=\"M 0 0 M1476.59 1536.76 L1476.59 1539.62 L1449.66 1539.62 Q1450.05 1545.67 1453.29 1548.85 Q1456.57 1552 1462.4 1552 Q1465.77 1552 1468.92 1551.17 Q1472.1 1550.35 1475.22 1548.69 L1475.22 1554.23 Q1472.07 1555.57 1468.76 1556.27 Q1465.45 1556.97 1462.05 1556.97 Q1453.52 1556.97 1448.52 1552 Q1443.55 1547.04 1443.55 1538.57 Q1443.55 1529.82 1448.26 1524.69 Q1453.01 1519.54 1461.03 1519.54 Q1468.22 1519.54 1472.39 1524.18 Q1476.59 1528.8 1476.59 1536.76 M1470.74 1535.04 Q1470.67 1530.23 1468.03 1527.37 Q1465.42 1524.5 1461.09 1524.5 Q1456.19 1524.5 1453.23 1527.27 Q1450.3 1530.04 1449.86 1535.07 L1470.74 1535.04 Z\" fill=\"#000000\" fill-rule=\"evenodd\" fill-opacity=\"1\" /><path clip-path=\"url(#clip740)\" d=\"M 0 0 M1503.39 1525.87 Q1502.4 1525.3 1501.23 1525.04 Q1500.08 1524.76 1498.68 1524.76 Q1493.72 1524.76 1491.04 1528 Q1488.4 1531.22 1488.4 1537.27 L1488.4 1556.04 L1482.51 1556.04 L1482.51 1520.4 L1488.4 1520.4 L1488.4 1525.93 Q1490.25 1522.69 1493.21 1521.13 Q1496.17 1519.54 1500.4 1519.54 Q1501 1519.54 1501.74 1519.63 Q1502.47 1519.7 1503.36 1519.85 L1503.39 1525.87 Z\" fill=\"#000000\" fill-rule=\"evenodd\" fill-opacity=\"1\" /><path clip-path=\"url(#clip740)\" d=\"M 0 0 M1532.26 1521.45 L1532.26 1526.98 Q1529.78 1525.71 1527.1 1525.07 Q1524.43 1524.44 1521.57 1524.44 Q1517.21 1524.44 1515.01 1525.77 Q1512.84 1527.11 1512.84 1529.79 Q1512.84 1531.82 1514.4 1533 Q1515.96 1534.15 1520.67 1535.2 L1522.68 1535.64 Q1528.92 1536.98 1531.53 1539.43 Q1534.17 1541.85 1534.17 1546.21 Q1534.17 1551.17 1530.22 1554.07 Q1526.31 1556.97 1519.43 1556.97 Q1516.57 1556.97 1513.45 1556.39 Q1510.36 1555.85 1506.92 1554.74 L1506.92 1548.69 Q1510.17 1550.38 1513.32 1551.24 Q1516.47 1552.07 1519.56 1552.07 Q1523.7 1552.07 1525.93 1550.66 Q1528.15 1549.23 1528.15 1546.65 Q1528.15 1544.27 1526.53 1542.99 Q1524.94 1541.72 1519.5 1540.54 L1517.46 1540.07 Q1512.02 1538.92 1509.6 1536.56 Q1507.18 1534.18 1507.18 1530.04 Q1507.18 1525.01 1510.74 1522.27 Q1514.31 1519.54 1520.87 1519.54 Q1524.11 1519.54 1526.98 1520.01 Q1529.84 1520.49 1532.26 1521.45 Z\" fill=\"#000000\" fill-rule=\"evenodd\" fill-opacity=\"1\" /><polyline clip-path=\"url(#clip742)\" style=\"stroke:#000000; stroke-width:2; stroke-opacity:0.1; fill:none\" points=\"\n",
       "  248.959,1177.22 2248.5,1177.22 \n",
       "  \"/>\n",
       "<polyline clip-path=\"url(#clip742)\" style=\"stroke:#000000; stroke-width:2; stroke-opacity:0.1; fill:none\" points=\"\n",
       "  248.959,909.403 2248.5,909.403 \n",
       "  \"/>\n",
       "<polyline clip-path=\"url(#clip742)\" style=\"stroke:#000000; stroke-width:2; stroke-opacity:0.1; fill:none\" points=\"\n",
       "  248.959,641.584 2248.5,641.584 \n",
       "  \"/>\n",
       "<polyline clip-path=\"url(#clip742)\" style=\"stroke:#000000; stroke-width:2; stroke-opacity:0.1; fill:none\" points=\"\n",
       "  248.959,373.765 2248.5,373.765 \n",
       "  \"/>\n",
       "<polyline clip-path=\"url(#clip742)\" style=\"stroke:#000000; stroke-width:2; stroke-opacity:0.1; fill:none\" points=\"\n",
       "  248.959,105.947 2248.5,105.947 \n",
       "  \"/>\n",
       "<polyline clip-path=\"url(#clip740)\" style=\"stroke:#000000; stroke-width:4; stroke-opacity:1; fill:none\" points=\"\n",
       "  248.959,1423.18 248.959,47.2441 \n",
       "  \"/>\n",
       "<polyline clip-path=\"url(#clip740)\" style=\"stroke:#000000; stroke-width:4; stroke-opacity:1; fill:none\" points=\"\n",
       "  248.959,1177.22 272.953,1177.22 \n",
       "  \"/>\n",
       "<polyline clip-path=\"url(#clip740)\" style=\"stroke:#000000; stroke-width:4; stroke-opacity:1; fill:none\" points=\"\n",
       "  248.959,909.403 272.953,909.403 \n",
       "  \"/>\n",
       "<polyline clip-path=\"url(#clip740)\" style=\"stroke:#000000; stroke-width:4; stroke-opacity:1; fill:none\" points=\"\n",
       "  248.959,641.584 272.953,641.584 \n",
       "  \"/>\n",
       "<polyline clip-path=\"url(#clip740)\" style=\"stroke:#000000; stroke-width:4; stroke-opacity:1; fill:none\" points=\"\n",
       "  248.959,373.765 272.953,373.765 \n",
       "  \"/>\n",
       "<polyline clip-path=\"url(#clip740)\" style=\"stroke:#000000; stroke-width:4; stroke-opacity:1; fill:none\" points=\"\n",
       "  248.959,105.947 272.953,105.947 \n",
       "  \"/>\n",
       "<path clip-path=\"url(#clip740)\" d=\"M 0 0 M50.9921 1184.12 L80.6679 1184.12 L80.6679 1188.06 L50.9921 1188.06 L50.9921 1184.12 Z\" fill=\"#000000\" fill-rule=\"evenodd\" fill-opacity=\"1\" /><path clip-path=\"url(#clip740)\" d=\"M 0 0 M86.5475 1197.01 L94.1863 1197.01 L94.1863 1170.65 L85.8762 1172.32 L85.8762 1168.06 L94.14 1166.39 L98.8159 1166.39 L98.8159 1197.01 L106.455 1197.01 L106.455 1200.95 L86.5475 1200.95 L86.5475 1197.01 Z\" fill=\"#000000\" fill-rule=\"evenodd\" fill-opacity=\"1\" /><path clip-path=\"url(#clip740)\" d=\"M 0 0 M139.695 1175.49 L129.117 1186.11 L139.695 1196.69 L136.941 1199.49 L126.316 1188.87 L115.691 1199.49 L112.959 1196.69 L123.515 1186.11 L112.959 1175.49 L115.691 1172.69 L126.316 1183.31 L136.941 1172.69 L139.695 1175.49 Z\" fill=\"#000000\" fill-rule=\"evenodd\" fill-opacity=\"1\" /><path clip-path=\"url(#clip740)\" d=\"M 0 0 M145.575 1197.01 L153.214 1197.01 L153.214 1170.65 L144.904 1172.32 L144.904 1168.06 L153.168 1166.39 L157.843 1166.39 L157.843 1197.01 L165.482 1197.01 L165.482 1200.95 L145.575 1200.95 L145.575 1197.01 Z\" fill=\"#000000\" fill-rule=\"evenodd\" fill-opacity=\"1\" /><path clip-path=\"url(#clip740)\" d=\"M 0 0 M180.552 1169.47 Q176.941 1169.47 175.112 1173.03 Q173.306 1176.57 173.306 1183.7 Q173.306 1190.81 175.112 1194.38 Q176.941 1197.92 180.552 1197.92 Q184.186 1197.92 185.991 1194.38 Q187.82 1190.81 187.82 1183.7 Q187.82 1176.57 185.991 1173.03 Q184.186 1169.47 180.552 1169.47 M180.552 1165.76 Q186.362 1165.76 189.417 1170.37 Q192.496 1174.95 192.496 1183.7 Q192.496 1192.43 189.417 1197.04 Q186.362 1201.62 180.552 1201.62 Q174.741 1201.62 171.663 1197.04 Q168.607 1192.43 168.607 1183.7 Q168.607 1174.95 171.663 1170.37 Q174.741 1165.76 180.552 1165.76 Z\" fill=\"#000000\" fill-rule=\"evenodd\" fill-opacity=\"1\" /><path clip-path=\"url(#clip740)\" d=\"M 0 0 M205.172 1148.77 L195.58 1163.76 L205.172 1163.76 L205.172 1148.77 M204.176 1145.46 L208.953 1145.46 L208.953 1163.76 L212.959 1163.76 L212.959 1166.92 L208.953 1166.92 L208.953 1173.54 L205.172 1173.54 L205.172 1166.92 L192.496 1166.92 L192.496 1163.25 L204.176 1145.46 Z\" fill=\"#000000\" fill-rule=\"evenodd\" fill-opacity=\"1\" /><path clip-path=\"url(#clip740)\" d=\"M 0 0 M201.014 895.202 Q197.403 895.202 195.575 898.766 Q193.769 902.308 193.769 909.438 Q193.769 916.544 195.575 920.109 Q197.403 923.65 201.014 923.65 Q204.649 923.65 206.454 920.109 Q208.283 916.544 208.283 909.438 Q208.283 902.308 206.454 898.766 Q204.649 895.202 201.014 895.202 M201.014 891.498 Q206.825 891.498 209.88 896.104 Q212.959 900.688 212.959 909.438 Q212.959 918.164 209.88 922.771 Q206.825 927.354 201.014 927.354 Q195.204 927.354 192.126 922.771 Q189.07 918.164 189.07 909.438 Q189.07 900.688 192.126 896.104 Q195.204 891.498 201.014 891.498 Z\" fill=\"#000000\" fill-rule=\"evenodd\" fill-opacity=\"1\" /><path clip-path=\"url(#clip740)\" d=\"M 0 0 M86.5475 661.377 L94.1863 661.377 L94.1863 635.011 L85.8762 636.678 L85.8762 632.418 L94.14 630.752 L98.8159 630.752 L98.8159 661.377 L106.455 661.377 L106.455 665.312 L86.5475 665.312 L86.5475 661.377 Z\" fill=\"#000000\" fill-rule=\"evenodd\" fill-opacity=\"1\" /><path clip-path=\"url(#clip740)\" d=\"M 0 0 M139.695 639.849 L129.117 650.474 L139.695 661.052 L136.941 663.853 L126.316 653.228 L115.691 663.853 L112.959 661.052 L123.515 650.474 L112.959 639.849 L115.691 637.048 L126.316 647.673 L136.941 637.048 L139.695 639.849 Z\" fill=\"#000000\" fill-rule=\"evenodd\" fill-opacity=\"1\" /><path clip-path=\"url(#clip740)\" d=\"M 0 0 M145.575 661.377 L153.214 661.377 L153.214 635.011 L144.904 636.678 L144.904 632.418 L153.168 630.752 L157.843 630.752 L157.843 661.377 L165.482 661.377 L165.482 665.312 L145.575 665.312 L145.575 661.377 Z\" fill=\"#000000\" fill-rule=\"evenodd\" fill-opacity=\"1\" /><path clip-path=\"url(#clip740)\" d=\"M 0 0 M180.552 633.83 Q176.941 633.83 175.112 637.395 Q173.306 640.937 173.306 648.066 Q173.306 655.173 175.112 658.738 Q176.941 662.279 180.552 662.279 Q184.186 662.279 185.991 658.738 Q187.82 655.173 187.82 648.066 Q187.82 640.937 185.991 637.395 Q184.186 633.83 180.552 633.83 M180.552 630.127 Q186.362 630.127 189.417 634.733 Q192.496 639.316 192.496 648.066 Q192.496 656.793 189.417 661.4 Q186.362 665.983 180.552 665.983 Q174.741 665.983 171.663 661.4 Q168.607 656.793 168.607 648.066 Q168.607 639.316 171.663 634.733 Q174.741 630.127 180.552 630.127 Z\" fill=\"#000000\" fill-rule=\"evenodd\" fill-opacity=\"1\" /><path clip-path=\"url(#clip740)\" d=\"M 0 0 M205.172 613.131 L195.58 628.121 L205.172 628.121 L205.172 613.131 M204.176 609.821 L208.953 609.821 L208.953 628.121 L212.959 628.121 L212.959 631.281 L208.953 631.281 L208.953 637.901 L205.172 637.901 L205.172 631.281 L192.496 631.281 L192.496 627.613 L204.176 609.821 Z\" fill=\"#000000\" fill-rule=\"evenodd\" fill-opacity=\"1\" /><path clip-path=\"url(#clip740)\" d=\"M 0 0 M90.1354 393.558 L106.455 393.558 L106.455 397.493 L84.5105 397.493 L84.5105 393.558 Q87.1725 390.803 91.7558 386.174 Q96.3623 381.521 97.5428 380.178 Q99.7882 377.655 100.668 375.919 Q101.571 374.16 101.571 372.47 Q101.571 369.715 99.6261 367.979 Q97.7048 366.243 94.603 366.243 Q92.4039 366.243 89.9503 367.007 Q87.5197 367.771 84.7419 369.322 L84.7419 364.6 Q87.566 363.465 90.0197 362.887 Q92.4734 362.308 94.5104 362.308 Q99.8808 362.308 103.075 364.993 Q106.27 367.678 106.27 372.169 Q106.27 374.299 105.459 376.22 Q104.672 378.118 102.566 380.711 Q101.987 381.382 98.8854 384.6 Q95.7836 387.794 90.1354 393.558 Z\" fill=\"#000000\" fill-rule=\"evenodd\" fill-opacity=\"1\" /><path clip-path=\"url(#clip740)\" d=\"M 0 0 M139.695 372.03 L129.117 382.655 L139.695 393.234 L136.941 396.035 L126.316 385.41 L115.691 396.035 L112.959 393.234 L123.515 382.655 L112.959 372.03 L115.691 369.229 L126.316 379.854 L136.941 369.229 L139.695 372.03 Z\" fill=\"#000000\" fill-rule=\"evenodd\" fill-opacity=\"1\" /><path clip-path=\"url(#clip740)\" d=\"M 0 0 M145.575 393.558 L153.214 393.558 L153.214 367.192 L144.904 368.859 L144.904 364.6 L153.168 362.933 L157.843 362.933 L157.843 393.558 L165.482 393.558 L165.482 397.493 L145.575 397.493 L145.575 393.558 Z\" fill=\"#000000\" fill-rule=\"evenodd\" fill-opacity=\"1\" /><path clip-path=\"url(#clip740)\" d=\"M 0 0 M180.552 366.012 Q176.941 366.012 175.112 369.576 Q173.306 373.118 173.306 380.248 Q173.306 387.354 175.112 390.919 Q176.941 394.461 180.552 394.461 Q184.186 394.461 185.991 390.919 Q187.82 387.354 187.82 380.248 Q187.82 373.118 185.991 369.576 Q184.186 366.012 180.552 366.012 M180.552 362.308 Q186.362 362.308 189.417 366.914 Q192.496 371.498 192.496 380.248 Q192.496 388.975 189.417 393.581 Q186.362 398.164 180.552 398.164 Q174.741 398.164 171.663 393.581 Q168.607 388.975 168.607 380.248 Q168.607 371.498 171.663 366.914 Q174.741 362.308 180.552 362.308 Z\" fill=\"#000000\" fill-rule=\"evenodd\" fill-opacity=\"1\" /><path clip-path=\"url(#clip740)\" d=\"M 0 0 M205.172 345.313 L195.58 360.303 L205.172 360.303 L205.172 345.313 M204.176 342.003 L208.953 342.003 L208.953 360.303 L212.959 360.303 L212.959 363.462 L208.953 363.462 L208.953 370.083 L205.172 370.083 L205.172 363.462 L192.496 363.462 L192.496 359.795 L204.176 342.003 Z\" fill=\"#000000\" fill-rule=\"evenodd\" fill-opacity=\"1\" /><path clip-path=\"url(#clip740)\" d=\"M 0 0 M99.3252 111.04 Q102.682 111.758 104.557 114.026 Q106.455 116.295 106.455 119.628 Q106.455 124.744 102.936 127.545 Q99.4178 130.346 92.9363 130.346 Q90.7604 130.346 88.4456 129.906 Q86.154 129.489 83.7003 128.633 L83.7003 124.119 Q85.6447 125.253 87.9595 125.832 Q90.2743 126.41 92.7975 126.41 Q97.1956 126.41 99.4872 124.674 Q101.802 122.938 101.802 119.628 Q101.802 116.572 99.6493 114.86 Q97.5197 113.123 93.7002 113.123 L89.6725 113.123 L89.6725 109.281 L93.8854 109.281 Q97.3345 109.281 99.1632 107.915 Q100.992 106.526 100.992 103.934 Q100.992 101.272 99.0937 99.8596 Q97.2187 98.4244 93.7002 98.4244 Q91.7789 98.4244 89.5799 98.8411 Q87.3808 99.2577 84.7419 100.137 L84.7419 95.9707 Q87.404 95.23 89.7188 94.8596 Q92.0567 94.4892 94.1169 94.4892 Q99.4409 94.4892 102.543 96.9198 Q105.645 99.3272 105.645 103.448 Q105.645 106.318 104.001 108.309 Q102.358 110.276 99.3252 111.04 Z\" fill=\"#000000\" fill-rule=\"evenodd\" fill-opacity=\"1\" /><path clip-path=\"url(#clip740)\" d=\"M 0 0 M139.695 104.211 L129.117 114.836 L139.695 125.415 L136.941 128.216 L126.316 117.591 L115.691 128.216 L112.959 125.415 L123.515 114.836 L112.959 104.211 L115.691 101.411 L126.316 112.035 L136.941 101.411 L139.695 104.211 Z\" fill=\"#000000\" fill-rule=\"evenodd\" fill-opacity=\"1\" /><path clip-path=\"url(#clip740)\" d=\"M 0 0 M145.575 125.739 L153.214 125.739 L153.214 99.3735 L144.904 101.04 L144.904 96.7809 L153.168 95.1142 L157.843 95.1142 L157.843 125.739 L165.482 125.739 L165.482 129.674 L145.575 129.674 L145.575 125.739 Z\" fill=\"#000000\" fill-rule=\"evenodd\" fill-opacity=\"1\" /><path clip-path=\"url(#clip740)\" d=\"M 0 0 M180.552 98.1929 Q176.941 98.1929 175.112 101.758 Q173.306 105.299 173.306 112.429 Q173.306 119.535 175.112 123.1 Q176.941 126.642 180.552 126.642 Q184.186 126.642 185.991 123.1 Q187.82 119.535 187.82 112.429 Q187.82 105.299 185.991 101.758 Q184.186 98.1929 180.552 98.1929 M180.552 94.4892 Q186.362 94.4892 189.417 99.0957 Q192.496 103.679 192.496 112.429 Q192.496 121.156 189.417 125.762 Q186.362 130.346 180.552 130.346 Q174.741 130.346 171.663 125.762 Q168.607 121.156 168.607 112.429 Q168.607 103.679 171.663 99.0957 Q174.741 94.4892 180.552 94.4892 Z\" fill=\"#000000\" fill-rule=\"evenodd\" fill-opacity=\"1\" /><path clip-path=\"url(#clip740)\" d=\"M 0 0 M205.172 77.494 L195.58 92.4838 L205.172 92.4838 L205.172 77.494 M204.176 74.1838 L208.953 74.1838 L208.953 92.4838 L212.959 92.4838 L212.959 95.6435 L208.953 95.6435 L208.953 102.264 L205.172 102.264 L205.172 95.6435 L192.496 95.6435 L192.496 91.976 L204.176 74.1838 Z\" fill=\"#000000\" fill-rule=\"evenodd\" fill-opacity=\"1\" /><polyline clip-path=\"url(#clip742)\" style=\"stroke:#008000; stroke-width:8; stroke-opacity:1; fill:none\" points=\"\n",
       "  305.55,86.1857 619.944,660.411 934.338,710.598 1248.73,799.301 1563.13,1049.73 1877.52,1259.09 2191.91,1384.24 \n",
       "  \"/>\n",
       "<path clip-path=\"url(#clip740)\" d=\"\n",
       "M315.61 1377.32 L987.502 1377.32 L987.502 1256.36 L315.61 1256.36  Z\n",
       "  \" fill=\"#ffffff\" fill-rule=\"evenodd\" fill-opacity=\"1\"/>\n",
       "<polyline clip-path=\"url(#clip740)\" style=\"stroke:#000000; stroke-width:4; stroke-opacity:1; fill:none\" points=\"\n",
       "  315.61,1377.32 987.502,1377.32 987.502,1256.36 315.61,1256.36 315.61,1377.32 \n",
       "  \"/>\n",
       "<polyline clip-path=\"url(#clip740)\" style=\"stroke:#008000; stroke-width:4; stroke-opacity:1; fill:none\" points=\"\n",
       "  337.828,1316.84 471.131,1316.84 \n",
       "  \"/>\n",
       "<path clip-path=\"url(#clip740)\" d=\"M 0 0 M498.024 1317.61 L498.024 1330.27 L505.524 1330.27 Q509.297 1330.27 511.102 1328.72 Q512.931 1327.15 512.931 1323.93 Q512.931 1320.69 511.102 1319.16 Q509.297 1317.61 505.524 1317.61 L498.024 1317.61 M498.024 1303.4 L498.024 1313.81 L504.945 1313.81 Q508.371 1313.81 510.037 1312.54 Q511.727 1311.25 511.727 1308.61 Q511.727 1305.99 510.037 1304.69 Q508.371 1303.4 504.945 1303.4 L498.024 1303.4 M493.348 1299.56 L505.292 1299.56 Q510.639 1299.56 513.533 1301.78 Q516.426 1304 516.426 1308.1 Q516.426 1311.27 514.945 1313.14 Q513.463 1315.02 510.593 1315.48 Q514.042 1316.22 515.94 1318.58 Q517.861 1320.92 517.861 1324.44 Q517.861 1329.07 514.713 1331.59 Q511.565 1334.12 505.755 1334.12 L493.348 1334.12 L493.348 1299.56 Z\" fill=\"#000000\" fill-rule=\"evenodd\" fill-opacity=\"1\" /><path clip-path=\"url(#clip740)\" d=\"M 0 0 M534.111 1321.08 Q528.949 1321.08 526.959 1322.26 Q524.968 1323.44 524.968 1326.29 Q524.968 1328.56 526.449 1329.9 Q527.954 1331.22 530.523 1331.22 Q534.065 1331.22 536.195 1328.72 Q538.347 1326.2 538.347 1322.03 L538.347 1321.08 L534.111 1321.08 M542.607 1319.32 L542.607 1334.12 L538.347 1334.12 L538.347 1330.18 Q536.889 1332.54 534.713 1333.68 Q532.537 1334.79 529.389 1334.79 Q525.408 1334.79 523.047 1332.56 Q520.709 1330.32 520.709 1326.57 Q520.709 1322.19 523.625 1319.97 Q526.565 1317.75 532.375 1317.75 L538.347 1317.75 L538.347 1317.33 Q538.347 1314.39 536.403 1312.8 Q534.482 1311.18 530.986 1311.18 Q528.764 1311.18 526.658 1311.71 Q524.551 1312.24 522.607 1313.31 L522.607 1309.37 Q524.945 1308.47 527.144 1308.03 Q529.343 1307.56 531.426 1307.56 Q537.051 1307.56 539.829 1310.48 Q542.607 1313.4 542.607 1319.32 Z\" fill=\"#000000\" fill-rule=\"evenodd\" fill-opacity=\"1\" /><path clip-path=\"url(#clip740)\" d=\"M 0 0 M557.861 1336.52 Q556.056 1341.15 554.343 1342.56 Q552.63 1343.98 549.759 1343.98 L546.357 1343.98 L546.357 1340.41 L548.857 1340.41 Q550.616 1340.41 551.588 1339.58 Q552.56 1338.74 553.741 1335.64 L554.505 1333.7 L544.019 1308.19 L548.533 1308.19 L556.634 1328.47 L564.736 1308.19 L569.25 1308.19 L557.861 1336.52 Z\" fill=\"#000000\" fill-rule=\"evenodd\" fill-opacity=\"1\" /><path clip-path=\"url(#clip740)\" d=\"M 0 0 M595.893 1320.09 L595.893 1322.17 L576.31 1322.17 Q576.588 1326.57 578.949 1328.88 Q581.333 1331.18 585.569 1331.18 Q588.023 1331.18 590.315 1330.57 Q592.63 1329.97 594.898 1328.77 L594.898 1332.8 Q592.606 1333.77 590.199 1334.28 Q587.792 1334.79 585.315 1334.79 Q579.111 1334.79 575.477 1331.18 Q571.866 1327.56 571.866 1321.41 Q571.866 1315.04 575.292 1311.31 Q578.741 1307.56 584.574 1307.56 Q589.806 1307.56 592.838 1310.94 Q595.893 1314.3 595.893 1320.09 M591.634 1318.84 Q591.588 1315.34 589.667 1313.26 Q587.768 1311.18 584.62 1311.18 Q581.056 1311.18 578.903 1313.19 Q576.773 1315.2 576.449 1318.86 L591.634 1318.84 Z\" fill=\"#000000\" fill-rule=\"evenodd\" fill-opacity=\"1\" /><path clip-path=\"url(#clip740)\" d=\"M 0 0 M616.889 1308.95 L616.889 1312.98 Q615.083 1312.06 613.139 1311.59 Q611.194 1311.13 609.111 1311.13 Q605.94 1311.13 604.342 1312.1 Q602.768 1313.07 602.768 1315.02 Q602.768 1316.5 603.903 1317.36 Q605.037 1318.19 608.463 1318.95 L609.921 1319.28 Q614.458 1320.25 616.356 1322.03 Q618.278 1323.79 618.278 1326.96 Q618.278 1330.57 615.407 1332.68 Q612.56 1334.79 607.56 1334.79 Q605.477 1334.79 603.208 1334.37 Q600.963 1333.98 598.463 1333.17 L598.463 1328.77 Q600.824 1329.99 603.116 1330.62 Q605.407 1331.22 607.653 1331.22 Q610.662 1331.22 612.282 1330.2 Q613.903 1329.16 613.903 1327.29 Q613.903 1325.55 612.722 1324.62 Q611.565 1323.7 607.606 1322.84 L606.125 1322.5 Q602.167 1321.66 600.407 1319.95 Q598.648 1318.21 598.648 1315.2 Q598.648 1311.55 601.241 1309.56 Q603.833 1307.56 608.602 1307.56 Q610.963 1307.56 613.046 1307.91 Q615.129 1308.26 616.889 1308.95 Z\" fill=\"#000000\" fill-rule=\"evenodd\" fill-opacity=\"1\" /><path clip-path=\"url(#clip740)\" d=\"M 0 0 M622.745 1308.19 L627.004 1308.19 L627.004 1334.12 L622.745 1334.12 L622.745 1308.19 M622.745 1298.1 L627.004 1298.1 L627.004 1303.49 L622.745 1303.49 L622.745 1298.1 Z\" fill=\"#000000\" fill-rule=\"evenodd\" fill-opacity=\"1\" /><path clip-path=\"url(#clip740)\" d=\"M 0 0 M643.254 1321.08 Q638.092 1321.08 636.102 1322.26 Q634.111 1323.44 634.111 1326.29 Q634.111 1328.56 635.592 1329.9 Q637.097 1331.22 639.666 1331.22 Q643.208 1331.22 645.338 1328.72 Q647.49 1326.2 647.49 1322.03 L647.49 1321.08 L643.254 1321.08 M651.75 1319.32 L651.75 1334.12 L647.49 1334.12 L647.49 1330.18 Q646.032 1332.54 643.856 1333.68 Q641.68 1334.79 638.532 1334.79 Q634.551 1334.79 632.19 1332.56 Q629.852 1330.32 629.852 1326.57 Q629.852 1322.19 632.768 1319.97 Q635.708 1317.75 641.518 1317.75 L647.49 1317.75 L647.49 1317.33 Q647.49 1314.39 645.546 1312.8 Q643.625 1311.18 640.129 1311.18 Q637.907 1311.18 635.801 1311.71 Q633.694 1312.24 631.75 1313.31 L631.75 1309.37 Q634.088 1308.47 636.287 1308.03 Q638.486 1307.56 640.569 1307.56 Q646.194 1307.56 648.972 1310.48 Q651.75 1313.4 651.75 1319.32 Z\" fill=\"#000000\" fill-rule=\"evenodd\" fill-opacity=\"1\" /><path clip-path=\"url(#clip740)\" d=\"M 0 0 M677.768 1318.47 L677.768 1334.12 L673.509 1334.12 L673.509 1318.61 Q673.509 1314.93 672.074 1313.1 Q670.638 1311.27 667.768 1311.27 Q664.319 1311.27 662.328 1313.47 Q660.338 1315.67 660.338 1319.46 L660.338 1334.12 L656.055 1334.12 L656.055 1308.19 L660.338 1308.19 L660.338 1312.22 Q661.865 1309.88 663.925 1308.72 Q666.009 1307.56 668.717 1307.56 Q673.185 1307.56 675.476 1310.34 Q677.768 1313.1 677.768 1318.47 Z\" fill=\"#000000\" fill-rule=\"evenodd\" fill-opacity=\"1\" /><path clip-path=\"url(#clip740)\" d=\"M 0 0 M697.49 1299.56 L702.166 1299.56 L702.166 1334.12 L697.49 1334.12 L697.49 1299.56 Z\" fill=\"#000000\" fill-rule=\"evenodd\" fill-opacity=\"1\" /><path clip-path=\"url(#clip740)\" d=\"M 0 0 M728.184 1318.47 L728.184 1334.12 L723.925 1334.12 L723.925 1318.61 Q723.925 1314.93 722.49 1313.1 Q721.055 1311.27 718.184 1311.27 Q714.735 1311.27 712.745 1313.47 Q710.754 1315.67 710.754 1319.46 L710.754 1334.12 L706.472 1334.12 L706.472 1308.19 L710.754 1308.19 L710.754 1312.22 Q712.282 1309.88 714.342 1308.72 Q716.425 1307.56 719.134 1307.56 Q723.601 1307.56 725.893 1310.34 Q728.184 1313.1 728.184 1318.47 Z\" fill=\"#000000\" fill-rule=\"evenodd\" fill-opacity=\"1\" /><path clip-path=\"url(#clip740)\" d=\"M 0 0 M745.777 1298.1 L745.777 1301.64 L741.703 1301.64 Q739.411 1301.64 738.508 1302.56 Q737.629 1303.49 737.629 1305.9 L737.629 1308.19 L744.643 1308.19 L744.643 1311.5 L737.629 1311.5 L737.629 1334.12 L733.346 1334.12 L733.346 1311.5 L729.272 1311.5 L729.272 1308.19 L733.346 1308.19 L733.346 1306.38 Q733.346 1302.06 735.36 1300.09 Q737.374 1298.1 741.749 1298.1 L745.777 1298.1 Z\" fill=\"#000000\" fill-rule=\"evenodd\" fill-opacity=\"1\" /><path clip-path=\"url(#clip740)\" d=\"M 0 0 M760.291 1311.18 Q756.865 1311.18 754.874 1313.86 Q752.883 1316.52 752.883 1321.18 Q752.883 1325.83 754.851 1328.51 Q756.842 1331.18 760.291 1331.18 Q763.693 1331.18 765.684 1328.49 Q767.675 1325.81 767.675 1321.18 Q767.675 1316.57 765.684 1313.88 Q763.693 1311.18 760.291 1311.18 M760.291 1307.56 Q765.846 1307.56 769.018 1311.18 Q772.189 1314.79 772.189 1321.18 Q772.189 1327.54 769.018 1331.18 Q765.846 1334.79 760.291 1334.79 Q754.712 1334.79 751.541 1331.18 Q748.393 1327.54 748.393 1321.18 Q748.393 1314.79 751.541 1311.18 Q754.712 1307.56 760.291 1307.56 Z\" fill=\"#000000\" fill-rule=\"evenodd\" fill-opacity=\"1\" /><path clip-path=\"url(#clip740)\" d=\"M 0 0 M817.79 1302.22 L817.79 1307.15 Q815.429 1304.95 812.744 1303.86 Q810.082 1302.77 807.073 1302.77 Q801.147 1302.77 797.999 1306.41 Q794.851 1310.02 794.851 1316.87 Q794.851 1323.7 797.999 1327.33 Q801.147 1330.94 807.073 1330.94 Q810.082 1330.94 812.744 1329.86 Q815.429 1328.77 817.79 1326.57 L817.79 1331.45 Q815.337 1333.12 812.582 1333.95 Q809.851 1334.79 806.795 1334.79 Q798.948 1334.79 794.434 1329.99 Q789.92 1325.18 789.92 1316.87 Q789.92 1308.54 794.434 1303.75 Q798.948 1298.93 806.795 1298.93 Q809.897 1298.93 812.628 1299.76 Q815.383 1300.57 817.79 1302.22 Z\" fill=\"#000000\" fill-rule=\"evenodd\" fill-opacity=\"1\" /><path clip-path=\"url(#clip740)\" d=\"M 0 0 M837.281 1312.17 Q836.563 1311.75 835.707 1311.57 Q834.874 1311.36 833.855 1311.36 Q830.244 1311.36 828.3 1313.72 Q826.378 1316.06 826.378 1320.46 L826.378 1334.12 L822.096 1334.12 L822.096 1308.19 L826.378 1308.19 L826.378 1312.22 Q827.721 1309.86 829.874 1308.72 Q832.026 1307.56 835.105 1307.56 Q835.545 1307.56 836.077 1307.63 Q836.61 1307.68 837.258 1307.8 L837.281 1312.17 Z\" fill=\"#000000\" fill-rule=\"evenodd\" fill-opacity=\"1\" /><path clip-path=\"url(#clip740)\" d=\"M 0 0 M841.749 1308.19 L846.008 1308.19 L846.008 1334.12 L841.749 1334.12 L841.749 1308.19 M841.749 1298.1 L846.008 1298.1 L846.008 1303.49 L841.749 1303.49 L841.749 1298.1 Z\" fill=\"#000000\" fill-rule=\"evenodd\" fill-opacity=\"1\" /><path clip-path=\"url(#clip740)\" d=\"M 0 0 M854.688 1300.83 L854.688 1308.19 L863.461 1308.19 L863.461 1311.5 L854.688 1311.5 L854.688 1325.57 Q854.688 1328.74 855.545 1329.65 Q856.424 1330.55 859.086 1330.55 L863.461 1330.55 L863.461 1334.12 L859.086 1334.12 Q854.156 1334.12 852.281 1332.29 Q850.406 1330.43 850.406 1325.57 L850.406 1311.5 L847.281 1311.5 L847.281 1308.19 L850.406 1308.19 L850.406 1300.83 L854.688 1300.83 Z\" fill=\"#000000\" fill-rule=\"evenodd\" fill-opacity=\"1\" /><path clip-path=\"url(#clip740)\" d=\"M 0 0 M890.105 1320.09 L890.105 1322.17 L870.522 1322.17 Q870.799 1326.57 873.16 1328.88 Q875.545 1331.18 879.781 1331.18 Q882.234 1331.18 884.526 1330.57 Q886.841 1329.97 889.109 1328.77 L889.109 1332.8 Q886.818 1333.77 884.41 1334.28 Q882.003 1334.79 879.526 1334.79 Q873.323 1334.79 869.688 1331.18 Q866.077 1327.56 866.077 1321.41 Q866.077 1315.04 869.503 1311.31 Q872.952 1307.56 878.785 1307.56 Q884.017 1307.56 887.049 1310.94 Q890.105 1314.3 890.105 1320.09 M885.846 1318.84 Q885.799 1315.34 883.878 1313.26 Q881.98 1311.18 878.832 1311.18 Q875.267 1311.18 873.114 1313.19 Q870.985 1315.2 870.66 1318.86 L885.846 1318.84 Z\" fill=\"#000000\" fill-rule=\"evenodd\" fill-opacity=\"1\" /><path clip-path=\"url(#clip740)\" d=\"M 0 0 M909.595 1312.17 Q908.878 1311.75 908.021 1311.57 Q907.188 1311.36 906.17 1311.36 Q902.558 1311.36 900.614 1313.72 Q898.693 1316.06 898.693 1320.46 L898.693 1334.12 L894.41 1334.12 L894.41 1308.19 L898.693 1308.19 L898.693 1312.22 Q900.035 1309.86 902.188 1308.72 Q904.341 1307.56 907.42 1307.56 Q907.859 1307.56 908.392 1307.63 Q908.924 1307.68 909.572 1307.8 L909.595 1312.17 Z\" fill=\"#000000\" fill-rule=\"evenodd\" fill-opacity=\"1\" /><path clip-path=\"url(#clip740)\" d=\"M 0 0 M914.063 1308.19 L918.322 1308.19 L918.322 1334.12 L914.063 1334.12 L914.063 1308.19 M914.063 1298.1 L918.322 1298.1 L918.322 1303.49 L914.063 1303.49 L914.063 1298.1 Z\" fill=\"#000000\" fill-rule=\"evenodd\" fill-opacity=\"1\" /><path clip-path=\"url(#clip740)\" d=\"M 0 0 M934.572 1321.08 Q929.41 1321.08 927.419 1322.26 Q925.429 1323.44 925.429 1326.29 Q925.429 1328.56 926.91 1329.9 Q928.415 1331.22 930.984 1331.22 Q934.526 1331.22 936.656 1328.72 Q938.808 1326.2 938.808 1322.03 L938.808 1321.08 L934.572 1321.08 M943.068 1319.32 L943.068 1334.12 L938.808 1334.12 L938.808 1330.18 Q937.35 1332.54 935.174 1333.68 Q932.998 1334.79 929.85 1334.79 Q925.869 1334.79 923.507 1332.56 Q921.169 1330.32 921.169 1326.57 Q921.169 1322.19 924.086 1319.97 Q927.026 1317.75 932.836 1317.75 L938.808 1317.75 L938.808 1317.33 Q938.808 1314.39 936.864 1312.8 Q934.943 1311.18 931.447 1311.18 Q929.225 1311.18 927.119 1311.71 Q925.012 1312.24 923.068 1313.31 L923.068 1309.37 Q925.406 1308.47 927.605 1308.03 Q929.804 1307.56 931.887 1307.56 Q937.512 1307.56 940.29 1310.48 Q943.068 1313.4 943.068 1319.32 Z\" fill=\"#000000\" fill-rule=\"evenodd\" fill-opacity=\"1\" /><path clip-path=\"url(#clip740)\" d=\"\n",
       "M248.959 1423.18 L2248.5 1423.18 L2248.5 47.2441 L248.959 47.2441  Z\n",
       "  \" fill=\"#000000\" fill-rule=\"evenodd\" fill-opacity=\"0\"/>\n",
       "<polyline clip-path=\"url(#clip742)\" style=\"stroke:#000000; stroke-width:2; stroke-opacity:0.1; fill:none\" points=\"\n",
       "  305.55,1423.18 305.55,47.2441 \n",
       "  \"/>\n",
       "<polyline clip-path=\"url(#clip742)\" style=\"stroke:#000000; stroke-width:2; stroke-opacity:0.1; fill:none\" points=\"\n",
       "  619.944,1423.18 619.944,47.2441 \n",
       "  \"/>\n",
       "<polyline clip-path=\"url(#clip742)\" style=\"stroke:#000000; stroke-width:2; stroke-opacity:0.1; fill:none\" points=\"\n",
       "  934.338,1423.18 934.338,47.2441 \n",
       "  \"/>\n",
       "<polyline clip-path=\"url(#clip742)\" style=\"stroke:#000000; stroke-width:2; stroke-opacity:0.1; fill:none\" points=\"\n",
       "  1248.73,1423.18 1248.73,47.2441 \n",
       "  \"/>\n",
       "<polyline clip-path=\"url(#clip742)\" style=\"stroke:#000000; stroke-width:2; stroke-opacity:0.1; fill:none\" points=\"\n",
       "  1563.13,1423.18 1563.13,47.2441 \n",
       "  \"/>\n",
       "<polyline clip-path=\"url(#clip742)\" style=\"stroke:#000000; stroke-width:2; stroke-opacity:0.1; fill:none\" points=\"\n",
       "  1877.52,1423.18 1877.52,47.2441 \n",
       "  \"/>\n",
       "<polyline clip-path=\"url(#clip742)\" style=\"stroke:#000000; stroke-width:2; stroke-opacity:0.1; fill:none\" points=\"\n",
       "  2191.91,1423.18 2191.91,47.2441 \n",
       "  \"/>\n",
       "<polyline clip-path=\"url(#clip740)\" style=\"stroke:#000000; stroke-width:4; stroke-opacity:1; fill:none\" points=\"\n",
       "  248.959,1423.18 2248.5,1423.18 \n",
       "  \"/>\n",
       "<polyline clip-path=\"url(#clip740)\" style=\"stroke:#000000; stroke-width:4; stroke-opacity:1; fill:none\" points=\"\n",
       "  305.55,1423.18 305.55,1406.67 \n",
       "  \"/>\n",
       "<polyline clip-path=\"url(#clip740)\" style=\"stroke:#000000; stroke-width:4; stroke-opacity:1; fill:none\" points=\"\n",
       "  619.944,1423.18 619.944,1406.67 \n",
       "  \"/>\n",
       "<polyline clip-path=\"url(#clip740)\" style=\"stroke:#000000; stroke-width:4; stroke-opacity:1; fill:none\" points=\"\n",
       "  934.338,1423.18 934.338,1406.67 \n",
       "  \"/>\n",
       "<polyline clip-path=\"url(#clip740)\" style=\"stroke:#000000; stroke-width:4; stroke-opacity:1; fill:none\" points=\"\n",
       "  1248.73,1423.18 1248.73,1406.67 \n",
       "  \"/>\n",
       "<polyline clip-path=\"url(#clip740)\" style=\"stroke:#000000; stroke-width:4; stroke-opacity:1; fill:none\" points=\"\n",
       "  1563.13,1423.18 1563.13,1406.67 \n",
       "  \"/>\n",
       "<polyline clip-path=\"url(#clip740)\" style=\"stroke:#000000; stroke-width:4; stroke-opacity:1; fill:none\" points=\"\n",
       "  1877.52,1423.18 1877.52,1406.67 \n",
       "  \"/>\n",
       "<polyline clip-path=\"url(#clip740)\" style=\"stroke:#000000; stroke-width:4; stroke-opacity:1; fill:none\" points=\"\n",
       "  2191.91,1423.18 2191.91,1406.67 \n",
       "  \"/>\n",
       "<path clip-path=\"url(#clip740)\" d=\"M 0 0 M300.203 1479.92 L316.522 1479.92 L316.522 1483.85 L294.578 1483.85 L294.578 1479.92 Q297.24 1477.16 301.823 1472.53 Q306.429 1467.88 307.61 1466.54 Q309.855 1464.01 310.735 1462.28 Q311.638 1460.52 311.638 1458.83 Q311.638 1456.07 309.693 1454.34 Q307.772 1452.6 304.67 1452.6 Q302.471 1452.6 300.017 1453.37 Q297.587 1454.13 294.809 1455.68 L294.809 1450.96 Q297.633 1449.82 300.087 1449.25 Q302.541 1448.67 304.578 1448.67 Q309.948 1448.67 313.142 1451.35 Q316.337 1454.04 316.337 1458.53 Q316.337 1460.66 315.527 1462.58 Q314.74 1464.48 312.633 1467.07 Q312.054 1467.74 308.953 1470.96 Q305.851 1474.15 300.203 1479.92 Z\" fill=\"#000000\" fill-rule=\"evenodd\" fill-opacity=\"1\" /><path clip-path=\"url(#clip740)\" d=\"M 0 0 M624.191 1465.22 Q627.548 1465.94 629.423 1468.2 Q631.321 1470.47 631.321 1473.81 Q631.321 1478.92 627.802 1481.72 Q624.284 1484.52 617.802 1484.52 Q615.627 1484.52 613.312 1484.08 Q611.02 1483.67 608.566 1482.81 L608.566 1478.3 Q610.511 1479.43 612.826 1480.01 Q615.14 1480.59 617.664 1480.59 Q622.062 1480.59 624.353 1478.85 Q626.668 1477.12 626.668 1473.81 Q626.668 1470.75 624.515 1469.04 Q622.386 1467.3 618.566 1467.3 L614.539 1467.3 L614.539 1463.46 L618.752 1463.46 Q622.201 1463.46 624.029 1462.09 Q625.858 1460.7 625.858 1458.11 Q625.858 1455.45 623.96 1454.04 Q622.085 1452.6 618.566 1452.6 Q616.645 1452.6 614.446 1453.02 Q612.247 1453.44 609.608 1454.31 L609.608 1450.15 Q612.27 1449.41 614.585 1449.04 Q616.923 1448.67 618.983 1448.67 Q624.307 1448.67 627.409 1451.1 Q630.511 1453.5 630.511 1457.63 Q630.511 1460.5 628.867 1462.49 Q627.224 1464.45 624.191 1465.22 Z\" fill=\"#000000\" fill-rule=\"evenodd\" fill-opacity=\"1\" /><path clip-path=\"url(#clip740)\" d=\"M 0 0 M937.347 1453.37 L925.541 1471.81 L937.347 1471.81 L937.347 1453.37 M936.12 1449.29 L942 1449.29 L942 1471.81 L946.93 1471.81 L946.93 1475.7 L942 1475.7 L942 1483.85 L937.347 1483.85 L937.347 1475.7 L921.745 1475.7 L921.745 1471.19 L936.12 1449.29 Z\" fill=\"#000000\" fill-rule=\"evenodd\" fill-opacity=\"1\" /><path clip-path=\"url(#clip740)\" d=\"M 0 0 M1239.01 1449.29 L1257.37 1449.29 L1257.37 1453.23 L1243.29 1453.23 L1243.29 1461.7 Q1244.31 1461.35 1245.33 1461.19 Q1246.35 1461 1247.37 1461 Q1253.15 1461 1256.53 1464.18 Q1259.91 1467.35 1259.91 1472.76 Q1259.91 1478.34 1256.44 1481.44 Q1252.97 1484.52 1246.65 1484.52 Q1244.47 1484.52 1242.2 1484.15 Q1239.96 1483.78 1237.55 1483.04 L1237.55 1478.34 Q1239.63 1479.48 1241.86 1480.03 Q1244.08 1480.59 1246.56 1480.59 Q1250.56 1480.59 1252.9 1478.48 Q1255.24 1476.38 1255.24 1472.76 Q1255.24 1469.15 1252.9 1467.05 Q1250.56 1464.94 1246.56 1464.94 Q1244.68 1464.94 1242.81 1465.36 Q1240.95 1465.77 1239.01 1466.65 L1239.01 1449.29 Z\" fill=\"#000000\" fill-rule=\"evenodd\" fill-opacity=\"1\" /><path clip-path=\"url(#clip740)\" d=\"M 0 0 M1563.53 1464.71 Q1560.38 1464.71 1558.53 1466.86 Q1556.7 1469.01 1556.7 1472.76 Q1556.7 1476.49 1558.53 1478.67 Q1560.38 1480.82 1563.53 1480.82 Q1566.68 1480.82 1568.51 1478.67 Q1570.36 1476.49 1570.36 1472.76 Q1570.36 1469.01 1568.51 1466.86 Q1566.68 1464.71 1563.53 1464.71 M1572.81 1450.06 L1572.81 1454.31 Q1571.05 1453.48 1569.25 1453.04 Q1567.47 1452.6 1565.71 1452.6 Q1561.08 1452.6 1558.62 1455.73 Q1556.19 1458.85 1555.85 1465.17 Q1557.21 1463.16 1559.27 1462.09 Q1561.33 1461 1563.81 1461 Q1569.02 1461 1572.03 1464.18 Q1575.06 1467.32 1575.06 1472.76 Q1575.06 1478.09 1571.91 1481.31 Q1568.76 1484.52 1563.53 1484.52 Q1557.54 1484.52 1554.36 1479.94 Q1551.19 1475.33 1551.19 1466.61 Q1551.19 1458.41 1555.08 1453.55 Q1558.97 1448.67 1565.52 1448.67 Q1567.28 1448.67 1569.06 1449.01 Q1570.87 1449.36 1572.81 1450.06 Z\" fill=\"#000000\" fill-rule=\"evenodd\" fill-opacity=\"1\" /><path clip-path=\"url(#clip740)\" d=\"M 0 0 M1866.41 1449.29 L1888.63 1449.29 L1888.63 1451.28 L1876.08 1483.85 L1871.2 1483.85 L1883.01 1453.23 L1866.41 1453.23 L1866.41 1449.29 Z\" fill=\"#000000\" fill-rule=\"evenodd\" fill-opacity=\"1\" /><path clip-path=\"url(#clip740)\" d=\"M 0 0 M2191.91 1467.44 Q2188.58 1467.44 2186.66 1469.22 Q2184.76 1471 2184.76 1474.13 Q2184.76 1477.25 2186.66 1479.04 Q2188.58 1480.82 2191.91 1480.82 Q2195.25 1480.82 2197.17 1479.04 Q2199.09 1477.23 2199.09 1474.13 Q2199.09 1471 2197.17 1469.22 Q2195.27 1467.44 2191.91 1467.44 M2187.24 1465.45 Q2184.23 1464.71 2182.54 1462.65 Q2180.87 1460.59 2180.87 1457.63 Q2180.87 1453.48 2183.81 1451.07 Q2186.77 1448.67 2191.91 1448.67 Q2197.08 1448.67 2200.01 1451.07 Q2202.95 1453.48 2202.95 1457.63 Q2202.95 1460.59 2201.26 1462.65 Q2199.6 1464.71 2196.61 1465.45 Q2199.99 1466.24 2201.87 1468.53 Q2203.76 1470.82 2203.76 1474.13 Q2203.76 1479.15 2200.69 1481.84 Q2197.63 1484.52 2191.91 1484.52 Q2186.2 1484.52 2183.12 1481.84 Q2180.06 1479.15 2180.06 1474.13 Q2180.06 1470.82 2181.96 1468.53 Q2183.86 1466.24 2187.24 1465.45 M2185.52 1458.06 Q2185.52 1460.75 2187.19 1462.25 Q2188.88 1463.76 2191.91 1463.76 Q2194.92 1463.76 2196.61 1462.25 Q2198.33 1460.75 2198.33 1458.06 Q2198.33 1455.38 2196.61 1453.88 Q2194.92 1452.37 2191.91 1452.37 Q2188.88 1452.37 2187.19 1453.88 Q2185.52 1455.38 2185.52 1458.06 Z\" fill=\"#000000\" fill-rule=\"evenodd\" fill-opacity=\"1\" /><polyline clip-path=\"url(#clip742)\" style=\"stroke:#000000; stroke-width:2; stroke-opacity:0.1; fill:none\" points=\"\n",
       "  248.959,1332.94 2248.5,1332.94 \n",
       "  \"/>\n",
       "<polyline clip-path=\"url(#clip742)\" style=\"stroke:#000000; stroke-width:2; stroke-opacity:0.1; fill:none\" points=\"\n",
       "  248.959,1115.63 2248.5,1115.63 \n",
       "  \"/>\n",
       "<polyline clip-path=\"url(#clip742)\" style=\"stroke:#000000; stroke-width:2; stroke-opacity:0.1; fill:none\" points=\"\n",
       "  248.959,898.311 2248.5,898.311 \n",
       "  \"/>\n",
       "<polyline clip-path=\"url(#clip742)\" style=\"stroke:#000000; stroke-width:2; stroke-opacity:0.1; fill:none\" points=\"\n",
       "  248.959,680.997 2248.5,680.997 \n",
       "  \"/>\n",
       "<polyline clip-path=\"url(#clip742)\" style=\"stroke:#000000; stroke-width:2; stroke-opacity:0.1; fill:none\" points=\"\n",
       "  248.959,463.683 2248.5,463.683 \n",
       "  \"/>\n",
       "<polyline clip-path=\"url(#clip742)\" style=\"stroke:#000000; stroke-width:2; stroke-opacity:0.1; fill:none\" points=\"\n",
       "  248.959,246.369 2248.5,246.369 \n",
       "  \"/>\n",
       "<polyline clip-path=\"url(#clip740)\" style=\"stroke:#000000; stroke-width:4; stroke-opacity:1; fill:none\" points=\"\n",
       "  2248.5,1423.18 2248.5,47.2441 \n",
       "  \"/>\n",
       "<polyline clip-path=\"url(#clip740)\" style=\"stroke:#000000; stroke-width:4; stroke-opacity:1; fill:none\" points=\"\n",
       "  2248.5,1332.94 2224.51,1332.94 \n",
       "  \"/>\n",
       "<polyline clip-path=\"url(#clip740)\" style=\"stroke:#000000; stroke-width:4; stroke-opacity:1; fill:none\" points=\"\n",
       "  2248.5,1115.63 2224.51,1115.63 \n",
       "  \"/>\n",
       "<polyline clip-path=\"url(#clip740)\" style=\"stroke:#000000; stroke-width:4; stroke-opacity:1; fill:none\" points=\"\n",
       "  2248.5,898.311 2224.51,898.311 \n",
       "  \"/>\n",
       "<polyline clip-path=\"url(#clip740)\" style=\"stroke:#000000; stroke-width:4; stroke-opacity:1; fill:none\" points=\"\n",
       "  2248.5,680.997 2224.51,680.997 \n",
       "  \"/>\n",
       "<polyline clip-path=\"url(#clip740)\" style=\"stroke:#000000; stroke-width:4; stroke-opacity:1; fill:none\" points=\"\n",
       "  2248.5,463.683 2224.51,463.683 \n",
       "  \"/>\n",
       "<polyline clip-path=\"url(#clip740)\" style=\"stroke:#000000; stroke-width:4; stroke-opacity:1; fill:none\" points=\"\n",
       "  2248.5,246.369 2224.51,246.369 \n",
       "  \"/>\n",
       "<path clip-path=\"url(#clip740)\" d=\"M 0 0 M2296.45 1318.74 Q2292.84 1318.74 2291.01 1322.3 Q2289.2 1325.84 2289.2 1332.97 Q2289.2 1340.08 2291.01 1343.64 Q2292.84 1347.19 2296.45 1347.19 Q2300.08 1347.19 2301.89 1343.64 Q2303.72 1340.08 2303.72 1332.97 Q2303.72 1325.84 2301.89 1322.3 Q2300.08 1318.74 2296.45 1318.74 M2296.45 1315.03 Q2302.26 1315.03 2305.31 1319.64 Q2308.39 1324.22 2308.39 1332.97 Q2308.39 1341.7 2305.31 1346.31 Q2302.26 1350.89 2296.45 1350.89 Q2290.64 1350.89 2287.56 1346.31 Q2284.5 1341.7 2284.5 1332.97 Q2284.5 1324.22 2287.56 1319.64 Q2290.64 1315.03 2296.45 1315.03 Z\" fill=\"#000000\" fill-rule=\"evenodd\" fill-opacity=\"1\" /><path clip-path=\"url(#clip740)\" d=\"M 0 0 M2313.46 1344.34 L2318.35 1344.34 L2318.35 1350.22 L2313.46 1350.22 L2313.46 1344.34 Z\" fill=\"#000000\" fill-rule=\"evenodd\" fill-opacity=\"1\" /><path clip-path=\"url(#clip740)\" d=\"M 0 0 M2324.23 1346.28 L2331.86 1346.28 L2331.86 1319.92 L2323.55 1321.58 L2323.55 1317.33 L2331.82 1315.66 L2336.49 1315.66 L2336.49 1346.28 L2344.13 1346.28 L2344.13 1350.22 L2324.23 1350.22 L2324.23 1346.28 Z\" fill=\"#000000\" fill-rule=\"evenodd\" fill-opacity=\"1\" /><path clip-path=\"url(#clip740)\" d=\"M 0 0 M2359.2 1318.74 Q2355.59 1318.74 2353.76 1322.3 Q2351.96 1325.84 2351.96 1332.97 Q2351.96 1340.08 2353.76 1343.64 Q2355.59 1347.19 2359.2 1347.19 Q2362.84 1347.19 2364.64 1343.64 Q2366.47 1340.08 2366.47 1332.97 Q2366.47 1325.84 2364.64 1322.3 Q2362.84 1318.74 2359.2 1318.74 M2359.2 1315.03 Q2365.01 1315.03 2368.07 1319.64 Q2371.15 1324.22 2371.15 1332.97 Q2371.15 1341.7 2368.07 1346.31 Q2365.01 1350.89 2359.2 1350.89 Q2353.39 1350.89 2350.31 1346.31 Q2347.26 1341.7 2347.26 1332.97 Q2347.26 1324.22 2350.31 1319.64 Q2353.39 1315.03 2359.2 1315.03 Z\" fill=\"#000000\" fill-rule=\"evenodd\" fill-opacity=\"1\" /><path clip-path=\"url(#clip740)\" d=\"M 0 0 M2296.45 1101.42 Q2292.84 1101.42 2291.01 1104.99 Q2289.2 1108.53 2289.2 1115.66 Q2289.2 1122.77 2291.01 1126.33 Q2292.84 1129.87 2296.45 1129.87 Q2300.08 1129.87 2301.89 1126.33 Q2303.72 1122.77 2303.72 1115.66 Q2303.72 1108.53 2301.89 1104.99 Q2300.08 1101.42 2296.45 1101.42 M2296.45 1097.72 Q2302.26 1097.72 2305.31 1102.33 Q2308.39 1106.91 2308.39 1115.66 Q2308.39 1124.39 2305.31 1128.99 Q2302.26 1133.58 2296.45 1133.58 Q2290.64 1133.58 2287.56 1128.99 Q2284.5 1124.39 2284.5 1115.66 Q2284.5 1106.91 2287.56 1102.33 Q2290.64 1097.72 2296.45 1097.72 Z\" fill=\"#000000\" fill-rule=\"evenodd\" fill-opacity=\"1\" /><path clip-path=\"url(#clip740)\" d=\"M 0 0 M2313.46 1127.03 L2318.35 1127.03 L2318.35 1132.91 L2313.46 1132.91 L2313.46 1127.03 Z\" fill=\"#000000\" fill-rule=\"evenodd\" fill-opacity=\"1\" /><path clip-path=\"url(#clip740)\" d=\"M 0 0 M2324.23 1128.97 L2331.86 1128.97 L2331.86 1102.6 L2323.55 1104.27 L2323.55 1100.01 L2331.82 1098.35 L2336.49 1098.35 L2336.49 1128.97 L2344.13 1128.97 L2344.13 1132.91 L2324.23 1132.91 L2324.23 1128.97 Z\" fill=\"#000000\" fill-rule=\"evenodd\" fill-opacity=\"1\" /><path clip-path=\"url(#clip740)\" d=\"M 0 0 M2349.25 1098.35 L2367.61 1098.35 L2367.61 1102.28 L2353.53 1102.28 L2353.53 1110.75 Q2354.55 1110.41 2355.57 1110.24 Q2356.59 1110.06 2357.61 1110.06 Q2363.39 1110.06 2366.77 1113.23 Q2370.15 1116.4 2370.15 1121.82 Q2370.15 1127.4 2366.68 1130.5 Q2363.21 1133.58 2356.89 1133.58 Q2354.71 1133.58 2352.44 1133.21 Q2350.2 1132.84 2347.79 1132.09 L2347.79 1127.4 Q2349.87 1128.53 2352.1 1129.09 Q2354.32 1129.64 2356.8 1129.64 Q2360.8 1129.64 2363.14 1127.53 Q2365.48 1125.43 2365.48 1121.82 Q2365.48 1118.21 2363.14 1116.1 Q2360.8 1113.99 2356.8 1113.99 Q2354.92 1113.99 2353.05 1114.41 Q2351.19 1114.83 2349.25 1115.71 L2349.25 1098.35 Z\" fill=\"#000000\" fill-rule=\"evenodd\" fill-opacity=\"1\" /><path clip-path=\"url(#clip740)\" d=\"M 0 0 M2296.45 884.11 Q2292.84 884.11 2291.01 887.675 Q2289.2 891.216 2289.2 898.346 Q2289.2 905.452 2291.01 909.017 Q2292.84 912.559 2296.45 912.559 Q2300.08 912.559 2301.89 909.017 Q2303.72 905.452 2303.72 898.346 Q2303.72 891.216 2301.89 887.675 Q2300.08 884.11 2296.45 884.11 M2296.45 880.406 Q2302.26 880.406 2305.31 885.013 Q2308.39 889.596 2308.39 898.346 Q2308.39 907.073 2305.31 911.679 Q2302.26 916.262 2296.45 916.262 Q2290.64 916.262 2287.56 911.679 Q2284.5 907.073 2284.5 898.346 Q2284.5 889.596 2287.56 885.013 Q2290.64 880.406 2296.45 880.406 Z\" fill=\"#000000\" fill-rule=\"evenodd\" fill-opacity=\"1\" /><path clip-path=\"url(#clip740)\" d=\"M 0 0 M2313.46 909.712 L2318.35 909.712 L2318.35 915.591 L2313.46 915.591 L2313.46 909.712 Z\" fill=\"#000000\" fill-rule=\"evenodd\" fill-opacity=\"1\" /><path clip-path=\"url(#clip740)\" d=\"M 0 0 M2327.44 911.656 L2343.76 911.656 L2343.76 915.591 L2321.82 915.591 L2321.82 911.656 Q2324.48 908.901 2329.06 904.272 Q2333.67 899.619 2334.85 898.276 Q2337.1 895.753 2337.98 894.017 Q2338.88 892.258 2338.88 890.568 Q2338.88 887.813 2336.93 886.077 Q2335.01 884.341 2331.91 884.341 Q2329.71 884.341 2327.26 885.105 Q2324.83 885.869 2322.05 887.42 L2322.05 882.698 Q2324.87 881.564 2327.33 880.985 Q2329.78 880.406 2331.82 880.406 Q2337.19 880.406 2340.38 883.091 Q2343.58 885.776 2343.58 890.267 Q2343.58 892.397 2342.77 894.318 Q2341.98 896.216 2339.87 898.809 Q2339.3 899.48 2336.19 902.698 Q2333.09 905.892 2327.44 911.656 Z\" fill=\"#000000\" fill-rule=\"evenodd\" fill-opacity=\"1\" /><path clip-path=\"url(#clip740)\" d=\"M 0 0 M2358.83 884.11 Q2355.22 884.11 2353.39 887.675 Q2351.59 891.216 2351.59 898.346 Q2351.59 905.452 2353.39 909.017 Q2355.22 912.559 2358.83 912.559 Q2362.47 912.559 2364.27 909.017 Q2366.1 905.452 2366.1 898.346 Q2366.1 891.216 2364.27 887.675 Q2362.47 884.11 2358.83 884.11 M2358.83 880.406 Q2364.64 880.406 2367.7 885.013 Q2370.78 889.596 2370.78 898.346 Q2370.78 907.073 2367.7 911.679 Q2364.64 916.262 2358.83 916.262 Q2353.02 916.262 2349.94 911.679 Q2346.89 907.073 2346.89 898.346 Q2346.89 889.596 2349.94 885.013 Q2353.02 880.406 2358.83 880.406 Z\" fill=\"#000000\" fill-rule=\"evenodd\" fill-opacity=\"1\" /><path clip-path=\"url(#clip740)\" d=\"M 0 0 M2296.45 666.796 Q2292.84 666.796 2291.01 670.361 Q2289.2 673.902 2289.2 681.032 Q2289.2 688.138 2291.01 691.703 Q2292.84 695.245 2296.45 695.245 Q2300.08 695.245 2301.89 691.703 Q2303.72 688.138 2303.72 681.032 Q2303.72 673.902 2301.89 670.361 Q2300.08 666.796 2296.45 666.796 M2296.45 663.092 Q2302.26 663.092 2305.31 667.699 Q2308.39 672.282 2308.39 681.032 Q2308.39 689.759 2305.31 694.365 Q2302.26 698.948 2296.45 698.948 Q2290.64 698.948 2287.56 694.365 Q2284.5 689.759 2284.5 681.032 Q2284.5 672.282 2287.56 667.699 Q2290.64 663.092 2296.45 663.092 Z\" fill=\"#000000\" fill-rule=\"evenodd\" fill-opacity=\"1\" /><path clip-path=\"url(#clip740)\" d=\"M 0 0 M2313.46 692.398 L2318.35 692.398 L2318.35 698.277 L2313.46 698.277 L2313.46 692.398 Z\" fill=\"#000000\" fill-rule=\"evenodd\" fill-opacity=\"1\" /><path clip-path=\"url(#clip740)\" d=\"M 0 0 M2327.44 694.342 L2343.76 694.342 L2343.76 698.277 L2321.82 698.277 L2321.82 694.342 Q2324.48 691.587 2329.06 686.958 Q2333.67 682.305 2334.85 680.962 Q2337.1 678.439 2337.98 676.703 Q2338.88 674.944 2338.88 673.254 Q2338.88 670.5 2336.93 668.763 Q2335.01 667.027 2331.91 667.027 Q2329.71 667.027 2327.26 667.791 Q2324.83 668.555 2322.05 670.106 L2322.05 665.384 Q2324.87 664.25 2327.33 663.671 Q2329.78 663.092 2331.82 663.092 Q2337.19 663.092 2340.38 665.777 Q2343.58 668.463 2343.58 672.953 Q2343.58 675.083 2342.77 677.004 Q2341.98 678.902 2339.87 681.495 Q2339.3 682.166 2336.19 685.384 Q2333.09 688.578 2327.44 694.342 Z\" fill=\"#000000\" fill-rule=\"evenodd\" fill-opacity=\"1\" /><path clip-path=\"url(#clip740)\" d=\"M 0 0 M2348.88 663.717 L2367.23 663.717 L2367.23 667.652 L2353.16 667.652 L2353.16 676.125 Q2354.18 675.777 2355.2 675.615 Q2356.22 675.43 2357.24 675.43 Q2363.02 675.43 2366.4 678.601 Q2369.78 681.773 2369.78 687.189 Q2369.78 692.768 2366.31 695.87 Q2362.84 698.948 2356.52 698.948 Q2354.34 698.948 2352.07 698.578 Q2349.83 698.208 2347.42 697.467 L2347.42 692.768 Q2349.5 693.902 2351.73 694.458 Q2353.95 695.013 2356.42 695.013 Q2360.43 695.013 2362.77 692.907 Q2365.11 690.8 2365.11 687.189 Q2365.11 683.578 2362.77 681.472 Q2360.43 679.365 2356.42 679.365 Q2354.55 679.365 2352.67 679.782 Q2350.82 680.199 2348.88 681.078 L2348.88 663.717 Z\" fill=\"#000000\" fill-rule=\"evenodd\" fill-opacity=\"1\" /><path clip-path=\"url(#clip740)\" d=\"M 0 0 M2296.45 449.482 Q2292.84 449.482 2291.01 453.047 Q2289.2 456.588 2289.2 463.718 Q2289.2 470.824 2291.01 474.389 Q2292.84 477.931 2296.45 477.931 Q2300.08 477.931 2301.89 474.389 Q2303.72 470.824 2303.72 463.718 Q2303.72 456.588 2301.89 453.047 Q2300.08 449.482 2296.45 449.482 M2296.45 445.778 Q2302.26 445.778 2305.31 450.385 Q2308.39 454.968 2308.39 463.718 Q2308.39 472.445 2305.31 477.051 Q2302.26 481.635 2296.45 481.635 Q2290.64 481.635 2287.56 477.051 Q2284.5 472.445 2284.5 463.718 Q2284.5 454.968 2287.56 450.385 Q2290.64 445.778 2296.45 445.778 Z\" fill=\"#000000\" fill-rule=\"evenodd\" fill-opacity=\"1\" /><path clip-path=\"url(#clip740)\" d=\"M 0 0 M2313.46 475.084 L2318.35 475.084 L2318.35 480.963 L2313.46 480.963 L2313.46 475.084 Z\" fill=\"#000000\" fill-rule=\"evenodd\" fill-opacity=\"1\" /><path clip-path=\"url(#clip740)\" d=\"M 0 0 M2337.58 462.329 Q2340.94 463.047 2342.81 465.315 Q2344.71 467.584 2344.71 470.917 Q2344.71 476.033 2341.19 478.834 Q2337.67 481.635 2331.19 481.635 Q2329.02 481.635 2326.7 481.195 Q2324.41 480.778 2321.96 479.922 L2321.96 475.408 Q2323.9 476.542 2326.22 477.121 Q2328.53 477.699 2331.05 477.699 Q2335.45 477.699 2337.74 475.963 Q2340.06 474.227 2340.06 470.917 Q2340.06 467.861 2337.91 466.149 Q2335.78 464.412 2331.96 464.412 L2327.93 464.412 L2327.93 460.57 L2332.14 460.57 Q2335.59 460.57 2337.42 459.204 Q2339.25 457.815 2339.25 455.223 Q2339.25 452.561 2337.35 451.149 Q2335.48 449.713 2331.96 449.713 Q2330.04 449.713 2327.84 450.13 Q2325.64 450.547 2323 451.426 L2323 447.26 Q2325.66 446.519 2327.98 446.149 Q2330.31 445.778 2332.37 445.778 Q2337.7 445.778 2340.8 448.209 Q2343.9 450.616 2343.9 454.737 Q2343.9 457.607 2342.26 459.598 Q2340.61 461.565 2337.58 462.329 Z\" fill=\"#000000\" fill-rule=\"evenodd\" fill-opacity=\"1\" /><path clip-path=\"url(#clip740)\" d=\"M 0 0 M2359.78 449.482 Q2356.17 449.482 2354.34 453.047 Q2352.54 456.588 2352.54 463.718 Q2352.54 470.824 2354.34 474.389 Q2356.17 477.931 2359.78 477.931 Q2363.42 477.931 2365.22 474.389 Q2367.05 470.824 2367.05 463.718 Q2367.05 456.588 2365.22 453.047 Q2363.42 449.482 2359.78 449.482 M2359.78 445.778 Q2365.59 445.778 2368.65 450.385 Q2371.73 454.968 2371.73 463.718 Q2371.73 472.445 2368.65 477.051 Q2365.59 481.635 2359.78 481.635 Q2353.97 481.635 2350.89 477.051 Q2347.84 472.445 2347.84 463.718 Q2347.84 454.968 2350.89 450.385 Q2353.97 445.778 2359.78 445.778 Z\" fill=\"#000000\" fill-rule=\"evenodd\" fill-opacity=\"1\" /><path clip-path=\"url(#clip740)\" d=\"M 0 0 M2296.45 232.168 Q2292.84 232.168 2291.01 235.733 Q2289.2 239.274 2289.2 246.404 Q2289.2 253.511 2291.01 257.075 Q2292.84 260.617 2296.45 260.617 Q2300.08 260.617 2301.89 257.075 Q2303.72 253.511 2303.72 246.404 Q2303.72 239.274 2301.89 235.733 Q2300.08 232.168 2296.45 232.168 M2296.45 228.464 Q2302.26 228.464 2305.31 233.071 Q2308.39 237.654 2308.39 246.404 Q2308.39 255.131 2305.31 259.737 Q2302.26 264.321 2296.45 264.321 Q2290.64 264.321 2287.56 259.737 Q2284.5 255.131 2284.5 246.404 Q2284.5 237.654 2287.56 233.071 Q2290.64 228.464 2296.45 228.464 Z\" fill=\"#000000\" fill-rule=\"evenodd\" fill-opacity=\"1\" /><path clip-path=\"url(#clip740)\" d=\"M 0 0 M2313.46 257.77 L2318.35 257.77 L2318.35 263.649 L2313.46 263.649 L2313.46 257.77 Z\" fill=\"#000000\" fill-rule=\"evenodd\" fill-opacity=\"1\" /><path clip-path=\"url(#clip740)\" d=\"M 0 0 M2337.58 245.015 Q2340.94 245.733 2342.81 248.001 Q2344.71 250.27 2344.71 253.603 Q2344.71 258.719 2341.19 261.52 Q2337.67 264.321 2331.19 264.321 Q2329.02 264.321 2326.7 263.881 Q2324.41 263.464 2321.96 262.608 L2321.96 258.094 Q2323.9 259.228 2326.22 259.807 Q2328.53 260.385 2331.05 260.385 Q2335.45 260.385 2337.74 258.649 Q2340.06 256.913 2340.06 253.603 Q2340.06 250.548 2337.91 248.835 Q2335.78 247.098 2331.96 247.098 L2327.93 247.098 L2327.93 243.256 L2332.14 243.256 Q2335.59 243.256 2337.42 241.89 Q2339.25 240.501 2339.25 237.909 Q2339.25 235.247 2337.35 233.835 Q2335.48 232.4 2331.96 232.4 Q2330.04 232.4 2327.84 232.816 Q2325.64 233.233 2323 234.112 L2323 229.946 Q2325.66 229.205 2327.98 228.835 Q2330.31 228.464 2332.37 228.464 Q2337.7 228.464 2340.8 230.895 Q2343.9 233.302 2343.9 237.423 Q2343.9 240.293 2342.26 242.284 Q2340.61 244.251 2337.58 245.015 Z\" fill=\"#000000\" fill-rule=\"evenodd\" fill-opacity=\"1\" /><path clip-path=\"url(#clip740)\" d=\"M 0 0 M2349.83 229.089 L2368.18 229.089 L2368.18 233.025 L2354.11 233.025 L2354.11 241.497 Q2355.13 241.149 2356.15 240.987 Q2357.17 240.802 2358.18 240.802 Q2363.97 240.802 2367.35 243.974 Q2370.73 247.145 2370.73 252.561 Q2370.73 258.14 2367.26 261.242 Q2363.79 264.321 2357.47 264.321 Q2355.29 264.321 2353.02 263.95 Q2350.78 263.58 2348.37 262.839 L2348.37 258.14 Q2350.45 259.274 2352.67 259.83 Q2354.9 260.385 2357.37 260.385 Q2361.38 260.385 2363.72 258.279 Q2366.05 256.173 2366.05 252.561 Q2366.05 248.95 2363.72 246.844 Q2361.38 244.737 2357.37 244.737 Q2355.5 244.737 2353.62 245.154 Q2351.77 245.571 2349.83 246.45 L2349.83 229.089 Z\" fill=\"#000000\" fill-rule=\"evenodd\" fill-opacity=\"1\" /><polyline clip-path=\"url(#clip742)\" style=\"stroke:#0000ff; stroke-width:8; stroke-opacity:1; fill:none\" points=\"\n",
       "  305.55,86.1857 619.944,1088.59 934.338,1007.44 1248.73,765.103 1563.13,1384.24 1877.52,1319.03 2191.91,1285.56 \n",
       "  \"/>\n",
       "<path clip-path=\"url(#clip740)\" d=\"\n",
       "M1614.38 214.069 L2181.85 214.069 L2181.85 93.1086 L1614.38 93.1086  Z\n",
       "  \" fill=\"#ffffff\" fill-rule=\"evenodd\" fill-opacity=\"1\"/>\n",
       "<polyline clip-path=\"url(#clip740)\" style=\"stroke:#000000; stroke-width:4; stroke-opacity:1; fill:none\" points=\"\n",
       "  1614.38,214.069 2181.85,214.069 2181.85,93.1086 1614.38,93.1086 1614.38,214.069 \n",
       "  \"/>\n",
       "<polyline clip-path=\"url(#clip740)\" style=\"stroke:#0000ff; stroke-width:4; stroke-opacity:1; fill:none\" points=\"\n",
       "  1636.6,153.589 1769.9,153.589 \n",
       "  \"/>\n",
       "<path clip-path=\"url(#clip740)\" d=\"M 0 0 M1814.36 137.443 L1814.36 142.003 Q1811.7 140.73 1809.34 140.105 Q1806.98 139.48 1804.78 139.48 Q1800.96 139.48 1798.88 140.961 Q1796.82 142.443 1796.82 145.174 Q1796.82 147.466 1798.18 148.647 Q1799.57 149.804 1803.42 150.522 L1806.24 151.1 Q1811.47 152.096 1813.95 154.619 Q1816.45 157.119 1816.45 161.332 Q1816.45 166.355 1813.07 168.947 Q1809.71 171.54 1803.21 171.54 Q1800.75 171.54 1797.98 170.984 Q1795.22 170.429 1792.26 169.341 L1792.26 164.526 Q1795.11 166.123 1797.84 166.933 Q1800.57 167.744 1803.21 167.744 Q1807.21 167.744 1809.39 166.17 Q1811.56 164.596 1811.56 161.679 Q1811.56 159.133 1809.99 157.697 Q1808.44 156.262 1804.87 155.545 L1802.03 154.989 Q1796.79 153.947 1794.46 151.725 Q1792.12 149.503 1792.12 145.545 Q1792.12 140.961 1795.34 138.322 Q1798.58 135.684 1804.25 135.684 Q1806.68 135.684 1809.2 136.123 Q1811.73 136.563 1814.36 137.443 Z\" fill=\"#000000\" fill-rule=\"evenodd\" fill-opacity=\"1\" /><path clip-path=\"url(#clip740)\" d=\"M 0 0 M1820.92 144.943 L1825.17 144.943 L1825.17 170.869 L1820.92 170.869 L1820.92 144.943 M1820.92 134.85 L1825.17 134.85 L1825.17 140.244 L1820.92 140.244 L1820.92 134.85 Z\" fill=\"#000000\" fill-rule=\"evenodd\" fill-opacity=\"1\" /><path clip-path=\"url(#clip740)\" d=\"M 0 0 M1829.64 134.85 L1833.9 134.85 L1833.9 170.869 L1829.64 170.869 L1829.64 134.85 Z\" fill=\"#000000\" fill-rule=\"evenodd\" fill-opacity=\"1\" /><path clip-path=\"url(#clip740)\" d=\"M 0 0 M1859.92 155.221 L1859.92 170.869 L1855.66 170.869 L1855.66 155.359 Q1855.66 151.679 1854.23 149.85 Q1852.79 148.022 1849.92 148.022 Q1846.47 148.022 1844.48 150.221 Q1842.49 152.42 1842.49 156.216 L1842.49 170.869 L1838.21 170.869 L1838.21 134.85 L1842.49 134.85 L1842.49 148.971 Q1844.02 146.633 1846.08 145.475 Q1848.16 144.318 1850.87 144.318 Q1855.34 144.318 1857.63 147.096 Q1859.92 149.85 1859.92 155.221 Z\" fill=\"#000000\" fill-rule=\"evenodd\" fill-opacity=\"1\" /><path clip-path=\"url(#clip740)\" d=\"M 0 0 M1874.43 147.929 Q1871.01 147.929 1869.02 150.614 Q1867.03 153.276 1867.03 157.929 Q1867.03 162.582 1868.99 165.267 Q1870.98 167.929 1874.43 167.929 Q1877.84 167.929 1879.83 165.244 Q1881.82 162.558 1881.82 157.929 Q1881.82 153.322 1879.83 150.637 Q1877.84 147.929 1874.43 147.929 M1874.43 144.318 Q1879.99 144.318 1883.16 147.929 Q1886.33 151.54 1886.33 157.929 Q1886.33 164.295 1883.16 167.929 Q1879.99 171.54 1874.43 171.54 Q1868.85 171.54 1865.68 167.929 Q1862.54 164.295 1862.54 157.929 Q1862.54 151.54 1865.68 147.929 Q1868.85 144.318 1874.43 144.318 Z\" fill=\"#000000\" fill-rule=\"evenodd\" fill-opacity=\"1\" /><path clip-path=\"url(#clip740)\" d=\"M 0 0 M1890.36 160.637 L1890.36 144.943 L1894.62 144.943 L1894.62 160.475 Q1894.62 164.156 1896.05 166.008 Q1897.49 167.836 1900.36 167.836 Q1903.81 167.836 1905.8 165.637 Q1907.81 163.438 1907.81 159.642 L1907.81 144.943 L1912.07 144.943 L1912.07 170.869 L1907.81 170.869 L1907.81 166.887 Q1906.26 169.248 1904.2 170.406 Q1902.16 171.54 1899.46 171.54 Q1894.99 171.54 1892.67 168.762 Q1890.36 165.984 1890.36 160.637 M1901.08 144.318 L1901.08 144.318 Z\" fill=\"#000000\" fill-rule=\"evenodd\" fill-opacity=\"1\" /><path clip-path=\"url(#clip740)\" d=\"M 0 0 M1938.72 156.841 L1938.72 158.924 L1919.13 158.924 Q1919.41 163.322 1921.77 165.637 Q1924.16 167.929 1928.39 167.929 Q1930.85 167.929 1933.14 167.327 Q1935.45 166.725 1937.72 165.521 L1937.72 169.549 Q1935.43 170.521 1933.02 171.031 Q1930.61 171.54 1928.14 171.54 Q1921.93 171.54 1918.3 167.929 Q1914.69 164.318 1914.69 158.16 Q1914.69 151.795 1918.11 148.068 Q1921.56 144.318 1927.4 144.318 Q1932.63 144.318 1935.66 147.697 Q1938.72 151.054 1938.72 156.841 M1934.46 155.591 Q1934.41 152.096 1932.49 150.012 Q1930.59 147.929 1927.44 147.929 Q1923.88 147.929 1921.72 149.943 Q1919.6 151.957 1919.27 155.614 L1934.46 155.591 Z\" fill=\"#000000\" fill-rule=\"evenodd\" fill-opacity=\"1\" /><path clip-path=\"url(#clip740)\" d=\"M 0 0 M1947.4 137.582 L1947.4 144.943 L1956.17 144.943 L1956.17 148.253 L1947.4 148.253 L1947.4 162.327 Q1947.4 165.498 1948.25 166.401 Q1949.13 167.304 1951.79 167.304 L1956.17 167.304 L1956.17 170.869 L1951.79 170.869 Q1946.86 170.869 1944.99 169.04 Q1943.11 167.188 1943.11 162.327 L1943.11 148.253 L1939.99 148.253 L1939.99 144.943 L1943.11 144.943 L1943.11 137.582 L1947.4 137.582 Z\" fill=\"#000000\" fill-rule=\"evenodd\" fill-opacity=\"1\" /><path clip-path=\"url(#clip740)\" d=\"M 0 0 M1964.85 137.582 L1964.85 144.943 L1973.62 144.943 L1973.62 148.253 L1964.85 148.253 L1964.85 162.327 Q1964.85 165.498 1965.71 166.401 Q1966.59 167.304 1969.25 167.304 L1973.62 167.304 L1973.62 170.869 L1969.25 170.869 Q1964.32 170.869 1962.44 169.04 Q1960.57 167.188 1960.57 162.327 L1960.57 148.253 L1957.44 148.253 L1957.44 144.943 L1960.57 144.943 L1960.57 137.582 L1964.85 137.582 Z\" fill=\"#000000\" fill-rule=\"evenodd\" fill-opacity=\"1\" /><path clip-path=\"url(#clip740)\" d=\"M 0 0 M2000.27 156.841 L2000.27 158.924 L1980.68 158.924 Q1980.96 163.322 1983.32 165.637 Q1985.71 167.929 1989.94 167.929 Q1992.4 167.929 1994.69 167.327 Q1997 166.725 1999.27 165.521 L1999.27 169.549 Q1996.98 170.521 1994.57 171.031 Q1992.16 171.54 1989.69 171.54 Q1983.48 171.54 1979.85 167.929 Q1976.24 164.318 1976.24 158.16 Q1976.24 151.795 1979.66 148.068 Q1983.11 144.318 1988.95 144.318 Q1994.18 144.318 1997.21 147.697 Q2000.27 151.054 2000.27 156.841 M1996.01 155.591 Q1995.96 152.096 1994.04 150.012 Q1992.14 147.929 1988.99 147.929 Q1985.43 147.929 1983.28 149.943 Q1981.15 151.957 1980.82 155.614 L1996.01 155.591 Z\" fill=\"#000000\" fill-rule=\"evenodd\" fill-opacity=\"1\" /><path clip-path=\"url(#clip740)\" d=\"M 0 0 M2040.71 137.443 L2040.71 142.003 Q2038.04 140.73 2035.68 140.105 Q2033.32 139.48 2031.12 139.48 Q2027.3 139.48 2025.22 140.961 Q2023.16 142.443 2023.16 145.174 Q2023.16 147.466 2024.53 148.647 Q2025.91 149.804 2029.76 150.522 L2032.58 151.1 Q2037.81 152.096 2040.29 154.619 Q2042.79 157.119 2042.79 161.332 Q2042.79 166.355 2039.41 168.947 Q2036.05 171.54 2029.55 171.54 Q2027.09 171.54 2024.32 170.984 Q2021.56 170.429 2018.6 169.341 L2018.6 164.526 Q2021.45 166.123 2024.18 166.933 Q2026.91 167.744 2029.55 167.744 Q2033.55 167.744 2035.73 166.17 Q2037.9 164.596 2037.9 161.679 Q2037.9 159.133 2036.33 157.697 Q2034.78 156.262 2031.21 155.545 L2028.37 154.989 Q2023.14 153.947 2020.8 151.725 Q2018.46 149.503 2018.46 145.545 Q2018.46 140.961 2021.68 138.322 Q2024.92 135.684 2030.59 135.684 Q2033.02 135.684 2035.54 136.123 Q2038.07 136.563 2040.71 137.443 Z\" fill=\"#000000\" fill-rule=\"evenodd\" fill-opacity=\"1\" /><path clip-path=\"url(#clip740)\" d=\"M 0 0 M2065.91 145.938 L2065.91 149.92 Q2064.11 148.924 2062.28 148.438 Q2060.47 147.929 2058.62 147.929 Q2054.48 147.929 2052.19 150.568 Q2049.9 153.184 2049.9 157.929 Q2049.9 162.674 2052.19 165.313 Q2054.48 167.929 2058.62 167.929 Q2060.47 167.929 2062.28 167.443 Q2064.11 166.933 2065.91 165.938 L2065.91 169.873 Q2064.13 170.707 2062.21 171.123 Q2060.31 171.54 2058.16 171.54 Q2052.3 171.54 2048.85 167.859 Q2045.4 164.179 2045.4 157.929 Q2045.4 151.586 2048.88 147.952 Q2052.37 144.318 2058.44 144.318 Q2060.4 144.318 2062.28 144.735 Q2064.15 145.128 2065.91 145.938 Z\" fill=\"#000000\" fill-rule=\"evenodd\" fill-opacity=\"1\" /><path clip-path=\"url(#clip740)\" d=\"M 0 0 M2080.43 147.929 Q2077 147.929 2075.01 150.614 Q2073.02 153.276 2073.02 157.929 Q2073.02 162.582 2074.99 165.267 Q2076.98 167.929 2080.43 167.929 Q2083.83 167.929 2085.82 165.244 Q2087.81 162.558 2087.81 157.929 Q2087.81 153.322 2085.82 150.637 Q2083.83 147.929 2080.43 147.929 M2080.43 144.318 Q2085.98 144.318 2089.15 147.929 Q2092.33 151.54 2092.33 157.929 Q2092.33 164.295 2089.15 167.929 Q2085.98 171.54 2080.43 171.54 Q2074.85 171.54 2071.68 167.929 Q2068.53 164.295 2068.53 157.929 Q2068.53 151.54 2071.68 147.929 Q2074.85 144.318 2080.43 144.318 Z\" fill=\"#000000\" fill-rule=\"evenodd\" fill-opacity=\"1\" /><path clip-path=\"url(#clip740)\" d=\"M 0 0 M2111.82 148.924 Q2111.1 148.508 2110.24 148.322 Q2109.41 148.114 2108.39 148.114 Q2104.78 148.114 2102.83 150.475 Q2100.91 152.813 2100.91 157.211 L2100.91 170.869 L2096.63 170.869 L2096.63 144.943 L2100.91 144.943 L2100.91 148.971 Q2102.26 146.609 2104.41 145.475 Q2106.56 144.318 2109.64 144.318 Q2110.08 144.318 2110.61 144.387 Q2111.15 144.434 2111.79 144.549 L2111.82 148.924 Z\" fill=\"#000000\" fill-rule=\"evenodd\" fill-opacity=\"1\" /><path clip-path=\"url(#clip740)\" d=\"M 0 0 M2137.42 156.841 L2137.42 158.924 L2117.83 158.924 Q2118.11 163.322 2120.47 165.637 Q2122.86 167.929 2127.09 167.929 Q2129.55 167.929 2131.84 167.327 Q2134.15 166.725 2136.42 165.521 L2136.42 169.549 Q2134.13 170.521 2131.72 171.031 Q2129.32 171.54 2126.84 171.54 Q2120.64 171.54 2117 167.929 Q2113.39 164.318 2113.39 158.16 Q2113.39 151.795 2116.82 148.068 Q2120.27 144.318 2126.1 144.318 Q2131.33 144.318 2134.36 147.697 Q2137.42 151.054 2137.42 156.841 M2133.16 155.591 Q2133.11 152.096 2131.19 150.012 Q2129.29 147.929 2126.15 147.929 Q2122.58 147.929 2120.43 149.943 Q2118.3 151.957 2117.97 155.614 L2133.16 155.591 Z\" fill=\"#000000\" fill-rule=\"evenodd\" fill-opacity=\"1\" /></svg>\n"
      ]
     },
     "execution_count": 434,
     "metadata": {},
     "output_type": "execute_result"
    }
   ],
   "source": [
    "plot(k_range, bics, legend=:bottomleft, label=\"Bayesian Info Criteria\", color=:green, lw=2)\n",
    "xlabel!(\"Number of Clusters\")\n",
    "plot!(twinx(),k_range, sil_means, legend=:topright, label=\"Silhouette Score\", color=:blue, lw=2)"
   ]
  },
  {
   "cell_type": "code",
   "execution_count": 435,
   "metadata": {},
   "outputs": [],
   "source": [
    "savefig(\"figures/bio_em_metrics_$upper\")"
   ]
  },
  {
   "cell_type": "code",
   "execution_count": 436,
   "metadata": {},
   "outputs": [
    {
     "data": {
      "image/svg+xml": [
       "<?xml version=\"1.0\" encoding=\"utf-8\"?>\n",
       "<svg xmlns=\"http://www.w3.org/2000/svg\" xmlns:xlink=\"http://www.w3.org/1999/xlink\" width=\"600\" height=\"400\" viewBox=\"0 0 2400 1600\">\n",
       "<defs>\n",
       "  <clipPath id=\"clip770\">\n",
       "    <rect x=\"0\" y=\"0\" width=\"2400\" height=\"1600\"/>\n",
       "  </clipPath>\n",
       "</defs>\n",
       "<path clip-path=\"url(#clip770)\" d=\"\n",
       "M0 1600 L2400 1600 L2400 0 L0 0  Z\n",
       "  \" fill=\"#ffffff\" fill-rule=\"evenodd\" fill-opacity=\"1\"/>\n",
       "<defs>\n",
       "  <clipPath id=\"clip771\">\n",
       "    <rect x=\"480\" y=\"0\" width=\"1681\" height=\"1600\"/>\n",
       "  </clipPath>\n",
       "</defs>\n",
       "<path clip-path=\"url(#clip770)\" d=\"\n",
       "M238.13 1423.18 L1856.43 1423.18 L1856.43 47.2441 L238.13 47.2441  Z\n",
       "  \" fill=\"#ffffff\" fill-rule=\"evenodd\" fill-opacity=\"1\"/>\n",
       "<defs>\n",
       "  <clipPath id=\"clip772\">\n",
       "    <rect x=\"238\" y=\"47\" width=\"1619\" height=\"1377\"/>\n",
       "  </clipPath>\n",
       "</defs>\n",
       "<polyline clip-path=\"url(#clip772)\" style=\"stroke:#000000; stroke-width:2; stroke-opacity:0.1; fill:none\" points=\"\n",
       "  283.931,1423.18 283.931,47.2441 \n",
       "  \"/>\n",
       "<polyline clip-path=\"url(#clip772)\" style=\"stroke:#000000; stroke-width:2; stroke-opacity:0.1; fill:none\" points=\"\n",
       "  538.381,1423.18 538.381,47.2441 \n",
       "  \"/>\n",
       "<polyline clip-path=\"url(#clip772)\" style=\"stroke:#000000; stroke-width:2; stroke-opacity:0.1; fill:none\" points=\"\n",
       "  792.831,1423.18 792.831,47.2441 \n",
       "  \"/>\n",
       "<polyline clip-path=\"url(#clip772)\" style=\"stroke:#000000; stroke-width:2; stroke-opacity:0.1; fill:none\" points=\"\n",
       "  1047.28,1423.18 1047.28,47.2441 \n",
       "  \"/>\n",
       "<polyline clip-path=\"url(#clip772)\" style=\"stroke:#000000; stroke-width:2; stroke-opacity:0.1; fill:none\" points=\"\n",
       "  1301.73,1423.18 1301.73,47.2441 \n",
       "  \"/>\n",
       "<polyline clip-path=\"url(#clip772)\" style=\"stroke:#000000; stroke-width:2; stroke-opacity:0.1; fill:none\" points=\"\n",
       "  1556.18,1423.18 1556.18,47.2441 \n",
       "  \"/>\n",
       "<polyline clip-path=\"url(#clip772)\" style=\"stroke:#000000; stroke-width:2; stroke-opacity:0.1; fill:none\" points=\"\n",
       "  1810.63,1423.18 1810.63,47.2441 \n",
       "  \"/>\n",
       "<polyline clip-path=\"url(#clip770)\" style=\"stroke:#000000; stroke-width:4; stroke-opacity:1; fill:none\" points=\"\n",
       "  238.13,1423.18 1856.43,1423.18 \n",
       "  \"/>\n",
       "<polyline clip-path=\"url(#clip770)\" style=\"stroke:#000000; stroke-width:4; stroke-opacity:1; fill:none\" points=\"\n",
       "  283.931,1423.18 283.931,1406.67 \n",
       "  \"/>\n",
       "<polyline clip-path=\"url(#clip770)\" style=\"stroke:#000000; stroke-width:4; stroke-opacity:1; fill:none\" points=\"\n",
       "  538.381,1423.18 538.381,1406.67 \n",
       "  \"/>\n",
       "<polyline clip-path=\"url(#clip770)\" style=\"stroke:#000000; stroke-width:4; stroke-opacity:1; fill:none\" points=\"\n",
       "  792.831,1423.18 792.831,1406.67 \n",
       "  \"/>\n",
       "<polyline clip-path=\"url(#clip770)\" style=\"stroke:#000000; stroke-width:4; stroke-opacity:1; fill:none\" points=\"\n",
       "  1047.28,1423.18 1047.28,1406.67 \n",
       "  \"/>\n",
       "<polyline clip-path=\"url(#clip770)\" style=\"stroke:#000000; stroke-width:4; stroke-opacity:1; fill:none\" points=\"\n",
       "  1301.73,1423.18 1301.73,1406.67 \n",
       "  \"/>\n",
       "<polyline clip-path=\"url(#clip770)\" style=\"stroke:#000000; stroke-width:4; stroke-opacity:1; fill:none\" points=\"\n",
       "  1556.18,1423.18 1556.18,1406.67 \n",
       "  \"/>\n",
       "<polyline clip-path=\"url(#clip770)\" style=\"stroke:#000000; stroke-width:4; stroke-opacity:1; fill:none\" points=\"\n",
       "  1810.63,1423.18 1810.63,1406.67 \n",
       "  \"/>\n",
       "<path clip-path=\"url(#clip770)\" d=\"M 0 0 M278.584 1479.92 L294.903 1479.92 L294.903 1483.85 L272.959 1483.85 L272.959 1479.92 Q275.621 1477.16 280.204 1472.53 Q284.811 1467.88 285.991 1466.54 Q288.237 1464.01 289.116 1462.28 Q290.019 1460.52 290.019 1458.83 Q290.019 1456.07 288.075 1454.34 Q286.153 1452.6 283.051 1452.6 Q280.852 1452.6 278.399 1453.37 Q275.968 1454.13 273.19 1455.68 L273.19 1450.96 Q276.014 1449.82 278.468 1449.25 Q280.922 1448.67 282.959 1448.67 Q288.329 1448.67 291.524 1451.35 Q294.718 1454.04 294.718 1458.53 Q294.718 1460.66 293.908 1462.58 Q293.121 1464.48 291.014 1467.07 Q290.436 1467.74 287.334 1470.96 Q284.232 1474.15 278.584 1479.92 Z\" fill=\"#000000\" fill-rule=\"evenodd\" fill-opacity=\"1\" /><path clip-path=\"url(#clip770)\" d=\"M 0 0 M542.629 1465.22 Q545.985 1465.94 547.86 1468.2 Q549.758 1470.47 549.758 1473.81 Q549.758 1478.92 546.24 1481.72 Q542.721 1484.52 536.24 1484.52 Q534.064 1484.52 531.749 1484.08 Q529.457 1483.67 527.004 1482.81 L527.004 1478.3 Q528.948 1479.43 531.263 1480.01 Q533.578 1480.59 536.101 1480.59 Q540.499 1480.59 542.791 1478.85 Q545.105 1477.12 545.105 1473.81 Q545.105 1470.75 542.953 1469.04 Q540.823 1467.3 537.004 1467.3 L532.976 1467.3 L532.976 1463.46 L537.189 1463.46 Q540.638 1463.46 542.467 1462.09 Q544.295 1460.7 544.295 1458.11 Q544.295 1455.45 542.397 1454.04 Q540.522 1452.6 537.004 1452.6 Q535.082 1452.6 532.883 1453.02 Q530.684 1453.44 528.045 1454.31 L528.045 1450.15 Q530.707 1449.41 533.022 1449.04 Q535.36 1448.67 537.42 1448.67 Q542.744 1448.67 545.846 1451.1 Q548.948 1453.5 548.948 1457.63 Q548.948 1460.5 547.304 1462.49 Q545.661 1464.45 542.629 1465.22 Z\" fill=\"#000000\" fill-rule=\"evenodd\" fill-opacity=\"1\" /><path clip-path=\"url(#clip770)\" d=\"M 0 0 M795.84 1453.37 L784.035 1471.81 L795.84 1471.81 L795.84 1453.37 M794.613 1449.29 L800.493 1449.29 L800.493 1471.81 L805.423 1471.81 L805.423 1475.7 L800.493 1475.7 L800.493 1483.85 L795.84 1483.85 L795.84 1475.7 L780.238 1475.7 L780.238 1471.19 L794.613 1449.29 Z\" fill=\"#000000\" fill-rule=\"evenodd\" fill-opacity=\"1\" /><path clip-path=\"url(#clip770)\" d=\"M 0 0 M1037.56 1449.29 L1055.91 1449.29 L1055.91 1453.23 L1041.84 1453.23 L1041.84 1461.7 Q1042.86 1461.35 1043.88 1461.19 Q1044.9 1461 1045.91 1461 Q1051.7 1461 1055.08 1464.18 Q1058.46 1467.35 1058.46 1472.76 Q1058.46 1478.34 1054.99 1481.44 Q1051.52 1484.52 1045.2 1484.52 Q1043.02 1484.52 1040.75 1484.15 Q1038.51 1483.78 1036.1 1483.04 L1036.1 1478.34 Q1038.18 1479.48 1040.41 1480.03 Q1042.63 1480.59 1045.1 1480.59 Q1049.11 1480.59 1051.45 1478.48 Q1053.79 1476.38 1053.79 1472.76 Q1053.79 1469.15 1051.45 1467.05 Q1049.11 1464.94 1045.1 1464.94 Q1043.23 1464.94 1041.35 1465.36 Q1039.5 1465.77 1037.56 1466.65 L1037.56 1449.29 Z\" fill=\"#000000\" fill-rule=\"evenodd\" fill-opacity=\"1\" /><path clip-path=\"url(#clip770)\" d=\"M 0 0 M1302.14 1464.71 Q1298.99 1464.71 1297.14 1466.86 Q1295.31 1469.01 1295.31 1472.76 Q1295.31 1476.49 1297.14 1478.67 Q1298.99 1480.82 1302.14 1480.82 Q1305.28 1480.82 1307.11 1478.67 Q1308.96 1476.49 1308.96 1472.76 Q1308.96 1469.01 1307.11 1466.86 Q1305.28 1464.71 1302.14 1464.71 M1311.42 1450.06 L1311.42 1454.31 Q1309.66 1453.48 1307.85 1453.04 Q1306.07 1452.6 1304.31 1452.6 Q1299.68 1452.6 1297.23 1455.73 Q1294.8 1458.85 1294.45 1465.17 Q1295.82 1463.16 1297.88 1462.09 Q1299.94 1461 1302.41 1461 Q1307.62 1461 1310.63 1464.18 Q1313.66 1467.32 1313.66 1472.76 Q1313.66 1478.09 1310.52 1481.31 Q1307.37 1484.52 1302.14 1484.52 Q1296.14 1484.52 1292.97 1479.94 Q1289.8 1475.33 1289.8 1466.61 Q1289.8 1458.41 1293.69 1453.55 Q1297.58 1448.67 1304.13 1448.67 Q1305.89 1448.67 1307.67 1449.01 Q1309.47 1449.36 1311.42 1450.06 Z\" fill=\"#000000\" fill-rule=\"evenodd\" fill-opacity=\"1\" /><path clip-path=\"url(#clip770)\" d=\"M 0 0 M1545.07 1449.29 L1567.29 1449.29 L1567.29 1451.28 L1554.75 1483.85 L1549.86 1483.85 L1561.67 1453.23 L1545.07 1453.23 L1545.07 1449.29 Z\" fill=\"#000000\" fill-rule=\"evenodd\" fill-opacity=\"1\" /><path clip-path=\"url(#clip770)\" d=\"M 0 0 M1810.63 1467.44 Q1807.3 1467.44 1805.38 1469.22 Q1803.48 1471 1803.48 1474.13 Q1803.48 1477.25 1805.38 1479.04 Q1807.3 1480.82 1810.63 1480.82 Q1813.96 1480.82 1815.88 1479.04 Q1817.81 1477.23 1817.81 1474.13 Q1817.81 1471 1815.88 1469.22 Q1813.99 1467.44 1810.63 1467.44 M1805.95 1465.45 Q1802.95 1464.71 1801.26 1462.65 Q1799.59 1460.59 1799.59 1457.63 Q1799.59 1453.48 1802.53 1451.07 Q1805.49 1448.67 1810.63 1448.67 Q1815.79 1448.67 1818.73 1451.07 Q1821.67 1453.48 1821.67 1457.63 Q1821.67 1460.59 1819.98 1462.65 Q1818.32 1464.71 1815.33 1465.45 Q1818.71 1466.24 1820.58 1468.53 Q1822.48 1470.82 1822.48 1474.13 Q1822.48 1479.15 1819.4 1481.84 Q1816.35 1484.52 1810.63 1484.52 Q1804.91 1484.52 1801.83 1481.84 Q1798.78 1479.15 1798.78 1474.13 Q1798.78 1470.82 1800.68 1468.53 Q1802.57 1466.24 1805.95 1465.45 M1804.24 1458.06 Q1804.24 1460.75 1805.91 1462.25 Q1807.6 1463.76 1810.63 1463.76 Q1813.64 1463.76 1815.33 1462.25 Q1817.04 1460.75 1817.04 1458.06 Q1817.04 1455.38 1815.33 1453.88 Q1813.64 1452.37 1810.63 1452.37 Q1807.6 1452.37 1805.91 1453.88 Q1804.24 1455.38 1804.24 1458.06 Z\" fill=\"#000000\" fill-rule=\"evenodd\" fill-opacity=\"1\" /><path clip-path=\"url(#clip770)\" d=\"M 0 0 M761.842 1508.52 L770.5 1508.52 L791.57 1548.28 L791.57 1508.52 L797.809 1508.52 L797.809 1556.04 L789.151 1556.04 L768.081 1516.29 L768.081 1556.04 L761.842 1556.04 L761.842 1508.52 Z\" fill=\"#000000\" fill-rule=\"evenodd\" fill-opacity=\"1\" /><path clip-path=\"url(#clip770)\" d=\"M 0 0 M803.347 1541.98 L803.347 1520.4 L809.203 1520.4 L809.203 1541.75 Q809.203 1546.81 811.177 1549.36 Q813.15 1551.87 817.097 1551.87 Q821.839 1551.87 824.576 1548.85 Q827.346 1545.83 827.346 1540.61 L827.346 1520.4 L833.202 1520.4 L833.202 1556.04 L827.346 1556.04 L827.346 1550.57 Q825.213 1553.82 822.38 1555.41 Q819.579 1556.97 815.855 1556.97 Q809.713 1556.97 806.53 1553.15 Q803.347 1549.33 803.347 1541.98 M818.083 1519.54 L818.083 1519.54 Z\" fill=\"#000000\" fill-rule=\"evenodd\" fill-opacity=\"1\" /><path clip-path=\"url(#clip770)\" d=\"M 0 0 M867.099 1527.24 Q869.296 1523.29 872.351 1521.41 Q875.407 1519.54 879.544 1519.54 Q885.114 1519.54 888.138 1523.45 Q891.162 1527.33 891.162 1534.53 L891.162 1556.04 L885.273 1556.04 L885.273 1534.72 Q885.273 1529.59 883.459 1527.11 Q881.645 1524.63 877.921 1524.63 Q873.37 1524.63 870.728 1527.65 Q868.086 1530.68 868.086 1535.9 L868.086 1556.04 L862.198 1556.04 L862.198 1534.72 Q862.198 1529.56 860.384 1527.11 Q858.569 1524.63 854.782 1524.63 Q850.294 1524.63 847.652 1527.68 Q845.01 1530.71 845.01 1535.9 L845.01 1556.04 L839.122 1556.04 L839.122 1520.4 L845.01 1520.4 L845.01 1525.93 Q847.016 1522.66 849.816 1521.1 Q852.617 1519.54 856.469 1519.54 Q860.352 1519.54 863.057 1521.51 Q865.794 1523.48 867.099 1527.24 Z\" fill=\"#000000\" fill-rule=\"evenodd\" fill-opacity=\"1\" /><path clip-path=\"url(#clip770)\" d=\"M 0 0 M922.895 1538.25 Q922.895 1531.79 920.221 1528.13 Q917.579 1524.44 912.932 1524.44 Q908.285 1524.44 905.612 1528.13 Q902.97 1531.79 902.97 1538.25 Q902.97 1544.71 905.612 1548.4 Q908.285 1552.07 912.932 1552.07 Q917.579 1552.07 920.221 1548.4 Q922.895 1544.71 922.895 1538.25 M902.97 1525.81 Q904.816 1522.62 907.617 1521.1 Q910.45 1519.54 914.365 1519.54 Q920.858 1519.54 924.9 1524.69 Q928.974 1529.85 928.974 1538.25 Q928.974 1546.65 924.9 1551.81 Q920.858 1556.97 914.365 1556.97 Q910.45 1556.97 907.617 1555.44 Q904.816 1553.88 902.97 1550.7 L902.97 1556.04 L897.082 1556.04 L897.082 1506.52 L902.97 1506.52 L902.97 1525.81 Z\" fill=\"#000000\" fill-rule=\"evenodd\" fill-opacity=\"1\" /><path clip-path=\"url(#clip770)\" d=\"M 0 0 M965.609 1536.76 L965.609 1539.62 L938.682 1539.62 Q939.064 1545.67 942.31 1548.85 Q945.589 1552 951.413 1552 Q954.787 1552 957.938 1551.17 Q961.121 1550.35 964.24 1548.69 L964.24 1554.23 Q961.089 1555.57 957.779 1556.27 Q954.469 1556.97 951.063 1556.97 Q942.533 1556.97 937.536 1552 Q932.571 1547.04 932.571 1538.57 Q932.571 1529.82 937.281 1524.69 Q942.024 1519.54 950.045 1519.54 Q957.238 1519.54 961.407 1524.18 Q965.609 1528.8 965.609 1536.76 M959.752 1535.04 Q959.689 1530.23 957.047 1527.37 Q954.437 1524.5 950.108 1524.5 Q945.207 1524.5 942.247 1527.27 Q939.318 1530.04 938.873 1535.07 L959.752 1535.04 Z\" fill=\"#000000\" fill-rule=\"evenodd\" fill-opacity=\"1\" /><path clip-path=\"url(#clip770)\" d=\"M 0 0 M992.408 1525.87 Q991.422 1525.3 990.244 1525.04 Q989.098 1524.76 987.698 1524.76 Q982.732 1524.76 980.059 1528 Q977.417 1531.22 977.417 1537.27 L977.417 1556.04 L971.529 1556.04 L971.529 1520.4 L977.417 1520.4 L977.417 1525.93 Q979.263 1522.69 982.223 1521.13 Q985.183 1519.54 989.416 1519.54 Q990.021 1519.54 990.753 1519.63 Q991.485 1519.7 992.376 1519.85 L992.408 1525.87 Z\" fill=\"#000000\" fill-rule=\"evenodd\" fill-opacity=\"1\" /><path clip-path=\"url(#clip770)\" d=\"M 0 0 M1033.09 1524.5 Q1028.37 1524.5 1025.64 1528.19 Q1022.9 1531.85 1022.9 1538.25 Q1022.9 1544.65 1025.61 1548.34 Q1028.34 1552 1033.09 1552 Q1037.76 1552 1040.5 1548.31 Q1043.24 1544.62 1043.24 1538.25 Q1043.24 1531.92 1040.5 1528.23 Q1037.76 1524.5 1033.09 1524.5 M1033.09 1519.54 Q1040.72 1519.54 1045.08 1524.5 Q1049.45 1529.47 1049.45 1538.25 Q1049.45 1547 1045.08 1552 Q1040.72 1556.97 1033.09 1556.97 Q1025.41 1556.97 1021.05 1552 Q1016.73 1547 1016.73 1538.25 Q1016.73 1529.47 1021.05 1524.5 Q1025.41 1519.54 1033.09 1519.54 Z\" fill=\"#000000\" fill-rule=\"evenodd\" fill-opacity=\"1\" /><path clip-path=\"url(#clip770)\" d=\"M 0 0 M1073.63 1506.52 L1073.63 1511.39 L1068.03 1511.39 Q1064.88 1511.39 1063.64 1512.66 Q1062.43 1513.93 1062.43 1517.24 L1062.43 1520.4 L1072.08 1520.4 L1072.08 1524.95 L1062.43 1524.95 L1062.43 1556.04 L1056.54 1556.04 L1056.54 1524.95 L1050.94 1524.95 L1050.94 1520.4 L1056.54 1520.4 L1056.54 1517.91 Q1056.54 1511.96 1059.31 1509.26 Q1062.08 1506.52 1068.1 1506.52 L1073.63 1506.52 Z\" fill=\"#000000\" fill-rule=\"evenodd\" fill-opacity=\"1\" /><path clip-path=\"url(#clip770)\" d=\"M 0 0 M1136.34 1512.18 L1136.34 1518.96 Q1133.09 1515.94 1129.4 1514.44 Q1125.74 1512.95 1121.6 1512.95 Q1113.45 1512.95 1109.12 1517.95 Q1104.79 1522.91 1104.79 1532.33 Q1104.79 1541.72 1109.12 1546.72 Q1113.45 1551.68 1121.6 1551.68 Q1125.74 1551.68 1129.4 1550.19 Q1133.09 1548.69 1136.34 1545.67 L1136.34 1552.38 Q1132.96 1554.68 1129.18 1555.82 Q1125.42 1556.97 1121.22 1556.97 Q1110.43 1556.97 1104.22 1550.38 Q1098.02 1543.76 1098.02 1532.33 Q1098.02 1520.87 1104.22 1514.28 Q1110.43 1507.66 1121.22 1507.66 Q1125.48 1507.66 1129.24 1508.81 Q1133.03 1509.92 1136.34 1512.18 Z\" fill=\"#000000\" fill-rule=\"evenodd\" fill-opacity=\"1\" /><path clip-path=\"url(#clip770)\" d=\"M 0 0 M1142.48 1506.52 L1148.34 1506.52 L1148.34 1556.04 L1142.48 1556.04 L1142.48 1506.52 Z\" fill=\"#000000\" fill-rule=\"evenodd\" fill-opacity=\"1\" /><path clip-path=\"url(#clip770)\" d=\"M 0 0 M1153.87 1541.98 L1153.87 1520.4 L1159.73 1520.4 L1159.73 1541.75 Q1159.73 1546.81 1161.7 1549.36 Q1163.68 1551.87 1167.62 1551.87 Q1172.37 1551.87 1175.1 1548.85 Q1177.87 1545.83 1177.87 1540.61 L1177.87 1520.4 L1183.73 1520.4 L1183.73 1556.04 L1177.87 1556.04 L1177.87 1550.57 Q1175.74 1553.82 1172.91 1555.41 Q1170.11 1556.97 1166.38 1556.97 Q1160.24 1556.97 1157.06 1553.15 Q1153.87 1549.33 1153.87 1541.98 M1168.61 1519.54 L1168.61 1519.54 Z\" fill=\"#000000\" fill-rule=\"evenodd\" fill-opacity=\"1\" /><path clip-path=\"url(#clip770)\" d=\"M 0 0 M1212.6 1521.45 L1212.6 1526.98 Q1210.12 1525.71 1207.44 1525.07 Q1204.77 1524.44 1201.9 1524.44 Q1197.54 1524.44 1195.35 1525.77 Q1193.18 1527.11 1193.18 1529.79 Q1193.18 1531.82 1194.74 1533 Q1196.3 1534.15 1201.01 1535.2 L1203.02 1535.64 Q1209.26 1536.98 1211.87 1539.43 Q1214.51 1541.85 1214.51 1546.21 Q1214.51 1551.17 1210.56 1554.07 Q1206.65 1556.97 1199.77 1556.97 Q1196.91 1556.97 1193.79 1556.39 Q1190.7 1555.85 1187.26 1554.74 L1187.26 1548.69 Q1190.51 1550.38 1193.66 1551.24 Q1196.81 1552.07 1199.9 1552.07 Q1204.04 1552.07 1206.26 1550.66 Q1208.49 1549.23 1208.49 1546.65 Q1208.49 1544.27 1206.87 1542.99 Q1205.28 1541.72 1199.83 1540.54 L1197.8 1540.07 Q1192.36 1538.92 1189.94 1536.56 Q1187.52 1534.18 1187.52 1530.04 Q1187.52 1525.01 1191.08 1522.27 Q1194.65 1519.54 1201.2 1519.54 Q1204.45 1519.54 1207.31 1520.01 Q1210.18 1520.49 1212.6 1521.45 Z\" fill=\"#000000\" fill-rule=\"evenodd\" fill-opacity=\"1\" /><path clip-path=\"url(#clip770)\" d=\"M 0 0 M1226.44 1510.27 L1226.44 1520.4 L1238.51 1520.4 L1238.51 1524.95 L1226.44 1524.95 L1226.44 1544.3 Q1226.44 1548.66 1227.62 1549.9 Q1228.83 1551.14 1232.49 1551.14 L1238.51 1551.14 L1238.51 1556.04 L1232.49 1556.04 Q1225.71 1556.04 1223.13 1553.53 Q1220.56 1550.98 1220.56 1544.3 L1220.56 1524.95 L1216.26 1524.95 L1216.26 1520.4 L1220.56 1520.4 L1220.56 1510.27 L1226.44 1510.27 Z\" fill=\"#000000\" fill-rule=\"evenodd\" fill-opacity=\"1\" /><path clip-path=\"url(#clip770)\" d=\"M 0 0 M1275.14 1536.76 L1275.14 1539.62 L1248.21 1539.62 Q1248.6 1545.67 1251.84 1548.85 Q1255.12 1552 1260.95 1552 Q1264.32 1552 1267.47 1551.17 Q1270.65 1550.35 1273.77 1548.69 L1273.77 1554.23 Q1270.62 1555.57 1267.31 1556.27 Q1264 1556.97 1260.6 1556.97 Q1252.07 1556.97 1247.07 1552 Q1242.1 1547.04 1242.1 1538.57 Q1242.1 1529.82 1246.81 1524.69 Q1251.56 1519.54 1259.58 1519.54 Q1266.77 1519.54 1270.94 1524.18 Q1275.14 1528.8 1275.14 1536.76 M1269.28 1535.04 Q1269.22 1530.23 1266.58 1527.37 Q1263.97 1524.5 1259.64 1524.5 Q1254.74 1524.5 1251.78 1527.27 Q1248.85 1530.04 1248.41 1535.07 L1269.28 1535.04 Z\" fill=\"#000000\" fill-rule=\"evenodd\" fill-opacity=\"1\" /><path clip-path=\"url(#clip770)\" d=\"M 0 0 M1301.94 1525.87 Q1300.95 1525.3 1299.78 1525.04 Q1298.63 1524.76 1297.23 1524.76 Q1292.26 1524.76 1289.59 1528 Q1286.95 1531.22 1286.95 1537.27 L1286.95 1556.04 L1281.06 1556.04 L1281.06 1520.4 L1286.95 1520.4 L1286.95 1525.93 Q1288.8 1522.69 1291.76 1521.13 Q1294.72 1519.54 1298.95 1519.54 Q1299.55 1519.54 1300.29 1519.63 Q1301.02 1519.7 1301.91 1519.85 L1301.94 1525.87 Z\" fill=\"#000000\" fill-rule=\"evenodd\" fill-opacity=\"1\" /><path clip-path=\"url(#clip770)\" d=\"M 0 0 M1330.81 1521.45 L1330.81 1526.98 Q1328.33 1525.71 1325.65 1525.07 Q1322.98 1524.44 1320.11 1524.44 Q1315.75 1524.44 1313.56 1525.77 Q1311.39 1527.11 1311.39 1529.79 Q1311.39 1531.82 1312.95 1533 Q1314.51 1534.15 1319.22 1535.2 L1321.23 1535.64 Q1327.47 1536.98 1330.08 1539.43 Q1332.72 1541.85 1332.72 1546.21 Q1332.72 1551.17 1328.77 1554.07 Q1324.86 1556.97 1317.98 1556.97 Q1315.12 1556.97 1312 1556.39 Q1308.91 1555.85 1305.47 1554.74 L1305.47 1548.69 Q1308.72 1550.38 1311.87 1551.24 Q1315.02 1552.07 1318.11 1552.07 Q1322.25 1552.07 1324.48 1550.66 Q1326.7 1549.23 1326.7 1546.65 Q1326.7 1544.27 1325.08 1542.99 Q1323.49 1541.72 1318.05 1540.54 L1316.01 1540.07 Q1310.57 1538.92 1308.15 1536.56 Q1305.73 1534.18 1305.73 1530.04 Q1305.73 1525.01 1309.29 1522.27 Q1312.86 1519.54 1319.41 1519.54 Q1322.66 1519.54 1325.53 1520.01 Q1328.39 1520.49 1330.81 1521.45 Z\" fill=\"#000000\" fill-rule=\"evenodd\" fill-opacity=\"1\" /><polyline clip-path=\"url(#clip772)\" style=\"stroke:#000000; stroke-width:2; stroke-opacity:0.1; fill:none\" points=\"\n",
       "  238.13,1384.24 1856.43,1384.24 \n",
       "  \"/>\n",
       "<polyline clip-path=\"url(#clip772)\" style=\"stroke:#000000; stroke-width:2; stroke-opacity:0.1; fill:none\" points=\"\n",
       "  238.13,1059.73 1856.43,1059.73 \n",
       "  \"/>\n",
       "<polyline clip-path=\"url(#clip772)\" style=\"stroke:#000000; stroke-width:2; stroke-opacity:0.1; fill:none\" points=\"\n",
       "  238.13,735.212 1856.43,735.212 \n",
       "  \"/>\n",
       "<polyline clip-path=\"url(#clip772)\" style=\"stroke:#000000; stroke-width:2; stroke-opacity:0.1; fill:none\" points=\"\n",
       "  238.13,410.699 1856.43,410.699 \n",
       "  \"/>\n",
       "<polyline clip-path=\"url(#clip772)\" style=\"stroke:#000000; stroke-width:2; stroke-opacity:0.1; fill:none\" points=\"\n",
       "  238.13,86.1857 1856.43,86.1857 \n",
       "  \"/>\n",
       "<polyline clip-path=\"url(#clip770)\" style=\"stroke:#000000; stroke-width:4; stroke-opacity:1; fill:none\" points=\"\n",
       "  238.13,1423.18 238.13,47.2441 \n",
       "  \"/>\n",
       "<polyline clip-path=\"url(#clip770)\" style=\"stroke:#000000; stroke-width:4; stroke-opacity:1; fill:none\" points=\"\n",
       "  238.13,1384.24 257.55,1384.24 \n",
       "  \"/>\n",
       "<polyline clip-path=\"url(#clip770)\" style=\"stroke:#000000; stroke-width:4; stroke-opacity:1; fill:none\" points=\"\n",
       "  238.13,1059.73 257.55,1059.73 \n",
       "  \"/>\n",
       "<polyline clip-path=\"url(#clip770)\" style=\"stroke:#000000; stroke-width:4; stroke-opacity:1; fill:none\" points=\"\n",
       "  238.13,735.212 257.55,735.212 \n",
       "  \"/>\n",
       "<polyline clip-path=\"url(#clip770)\" style=\"stroke:#000000; stroke-width:4; stroke-opacity:1; fill:none\" points=\"\n",
       "  238.13,410.699 257.55,410.699 \n",
       "  \"/>\n",
       "<polyline clip-path=\"url(#clip770)\" style=\"stroke:#000000; stroke-width:4; stroke-opacity:1; fill:none\" points=\"\n",
       "  238.13,86.1857 257.55,86.1857 \n",
       "  \"/>\n",
       "<path clip-path=\"url(#clip770)\" d=\"M 0 0 M126.205 1370.04 Q122.593 1370.04 120.765 1373.6 Q118.959 1377.14 118.959 1384.27 Q118.959 1391.38 120.765 1394.94 Q122.593 1398.49 126.205 1398.49 Q129.839 1398.49 131.644 1394.94 Q133.473 1391.38 133.473 1384.27 Q133.473 1377.14 131.644 1373.6 Q129.839 1370.04 126.205 1370.04 M126.205 1366.33 Q132.015 1366.33 135.07 1370.94 Q138.149 1375.52 138.149 1384.27 Q138.149 1393 135.07 1397.61 Q132.015 1402.19 126.205 1402.19 Q120.394 1402.19 117.316 1397.61 Q114.26 1393 114.26 1384.27 Q114.26 1375.52 117.316 1370.94 Q120.394 1366.33 126.205 1366.33 Z\" fill=\"#000000\" fill-rule=\"evenodd\" fill-opacity=\"1\" /><path clip-path=\"url(#clip770)\" d=\"M 0 0 M143.218 1395.64 L148.103 1395.64 L148.103 1401.52 L143.218 1401.52 L143.218 1395.64 Z\" fill=\"#000000\" fill-rule=\"evenodd\" fill-opacity=\"1\" /><path clip-path=\"url(#clip770)\" d=\"M 0 0 M163.172 1370.04 Q159.561 1370.04 157.732 1373.6 Q155.927 1377.14 155.927 1384.27 Q155.927 1391.38 157.732 1394.94 Q159.561 1398.49 163.172 1398.49 Q166.806 1398.49 168.612 1394.94 Q170.44 1391.38 170.44 1384.27 Q170.44 1377.14 168.612 1373.6 Q166.806 1370.04 163.172 1370.04 M163.172 1366.33 Q168.982 1366.33 172.038 1370.94 Q175.116 1375.52 175.116 1384.27 Q175.116 1393 172.038 1397.61 Q168.982 1402.19 163.172 1402.19 Q157.362 1402.19 154.283 1397.61 Q151.228 1393 151.228 1384.27 Q151.228 1375.52 154.283 1370.94 Q157.362 1366.33 163.172 1366.33 Z\" fill=\"#000000\" fill-rule=\"evenodd\" fill-opacity=\"1\" /><path clip-path=\"url(#clip770)\" d=\"M 0 0 M190.186 1370.04 Q186.575 1370.04 184.746 1373.6 Q182.94 1377.14 182.94 1384.27 Q182.94 1391.38 184.746 1394.94 Q186.575 1398.49 190.186 1398.49 Q193.82 1398.49 195.625 1394.94 Q197.454 1391.38 197.454 1384.27 Q197.454 1377.14 195.625 1373.6 Q193.82 1370.04 190.186 1370.04 M190.186 1366.33 Q195.996 1366.33 199.051 1370.94 Q202.13 1375.52 202.13 1384.27 Q202.13 1393 199.051 1397.61 Q195.996 1402.19 190.186 1402.19 Q184.376 1402.19 181.297 1397.61 Q178.241 1393 178.241 1384.27 Q178.241 1375.52 181.297 1370.94 Q184.376 1366.33 190.186 1366.33 Z\" fill=\"#000000\" fill-rule=\"evenodd\" fill-opacity=\"1\" /><path clip-path=\"url(#clip770)\" d=\"M 0 0 M128.797 1045.52 Q125.186 1045.52 123.357 1049.09 Q121.552 1052.63 121.552 1059.76 Q121.552 1066.87 123.357 1070.43 Q125.186 1073.97 128.797 1073.97 Q132.431 1073.97 134.237 1070.43 Q136.066 1066.87 136.066 1059.76 Q136.066 1052.63 134.237 1049.09 Q132.431 1045.52 128.797 1045.52 M128.797 1041.82 Q134.607 1041.82 137.663 1046.43 Q140.741 1051.01 140.741 1059.76 Q140.741 1068.49 137.663 1073.09 Q134.607 1077.68 128.797 1077.68 Q122.987 1077.68 119.908 1073.09 Q116.853 1068.49 116.853 1059.76 Q116.853 1051.01 119.908 1046.43 Q122.987 1041.82 128.797 1041.82 Z\" fill=\"#000000\" fill-rule=\"evenodd\" fill-opacity=\"1\" /><path clip-path=\"url(#clip770)\" d=\"M 0 0 M145.811 1071.13 L150.695 1071.13 L150.695 1077.01 L145.811 1077.01 L145.811 1071.13 Z\" fill=\"#000000\" fill-rule=\"evenodd\" fill-opacity=\"1\" /><path clip-path=\"url(#clip770)\" d=\"M 0 0 M159.792 1073.07 L176.112 1073.07 L176.112 1077.01 L154.167 1077.01 L154.167 1073.07 Q156.829 1070.32 161.413 1065.69 Q166.019 1061.03 167.2 1059.69 Q169.445 1057.17 170.325 1055.43 Q171.227 1053.67 171.227 1051.98 Q171.227 1049.23 169.283 1047.49 Q167.362 1045.76 164.26 1045.76 Q162.061 1045.76 159.607 1046.52 Q157.177 1047.28 154.399 1048.83 L154.399 1044.11 Q157.223 1042.98 159.677 1042.4 Q162.13 1041.82 164.167 1041.82 Q169.538 1041.82 172.732 1044.51 Q175.926 1047.19 175.926 1051.68 Q175.926 1053.81 175.116 1055.73 Q174.329 1057.63 172.223 1060.22 Q171.644 1060.89 168.542 1064.11 Q165.44 1067.31 159.792 1073.07 Z\" fill=\"#000000\" fill-rule=\"evenodd\" fill-opacity=\"1\" /><path clip-path=\"url(#clip770)\" d=\"M 0 0 M181.227 1042.45 L199.584 1042.45 L199.584 1046.38 L185.51 1046.38 L185.51 1054.85 Q186.528 1054.51 187.547 1054.34 Q188.565 1054.16 189.584 1054.16 Q195.371 1054.16 198.75 1057.33 Q202.13 1060.5 202.13 1065.92 Q202.13 1071.5 198.658 1074.6 Q195.186 1077.68 188.866 1077.68 Q186.69 1077.68 184.422 1077.31 Q182.176 1076.94 179.769 1076.19 L179.769 1071.5 Q181.852 1072.63 184.075 1073.19 Q186.297 1073.74 188.774 1073.74 Q192.778 1073.74 195.116 1071.63 Q197.454 1069.53 197.454 1065.92 Q197.454 1062.31 195.116 1060.2 Q192.778 1058.09 188.774 1058.09 Q186.899 1058.09 185.024 1058.51 Q183.172 1058.93 181.227 1059.81 L181.227 1042.45 Z\" fill=\"#000000\" fill-rule=\"evenodd\" fill-opacity=\"1\" /><path clip-path=\"url(#clip770)\" d=\"M 0 0 M127.2 721.011 Q123.589 721.011 121.76 724.575 Q119.955 728.117 119.955 735.247 Q119.955 742.353 121.76 745.918 Q123.589 749.46 127.2 749.46 Q130.834 749.46 132.64 745.918 Q134.468 742.353 134.468 735.247 Q134.468 728.117 132.64 724.575 Q130.834 721.011 127.2 721.011 M127.2 717.307 Q133.01 717.307 136.066 721.913 Q139.144 726.497 139.144 735.247 Q139.144 743.973 136.066 748.58 Q133.01 753.163 127.2 753.163 Q121.39 753.163 118.311 748.58 Q115.256 743.973 115.256 735.247 Q115.256 726.497 118.311 721.913 Q121.39 717.307 127.2 717.307 Z\" fill=\"#000000\" fill-rule=\"evenodd\" fill-opacity=\"1\" /><path clip-path=\"url(#clip770)\" d=\"M 0 0 M144.214 746.612 L149.098 746.612 L149.098 752.492 L144.214 752.492 L144.214 746.612 Z\" fill=\"#000000\" fill-rule=\"evenodd\" fill-opacity=\"1\" /><path clip-path=\"url(#clip770)\" d=\"M 0 0 M154.214 717.932 L172.57 717.932 L172.57 721.867 L158.496 721.867 L158.496 730.339 Q159.515 729.992 160.533 729.83 Q161.552 729.645 162.57 729.645 Q168.357 729.645 171.737 732.816 Q175.116 735.987 175.116 741.404 Q175.116 746.983 171.644 750.085 Q168.172 753.163 161.852 753.163 Q159.677 753.163 157.408 752.793 Q155.163 752.423 152.755 751.682 L152.755 746.983 Q154.839 748.117 157.061 748.673 Q159.283 749.228 161.76 749.228 Q165.765 749.228 168.102 747.122 Q170.44 745.015 170.44 741.404 Q170.44 737.793 168.102 735.687 Q165.765 733.58 161.76 733.58 Q159.885 733.58 158.01 733.997 Q156.158 734.413 154.214 735.293 L154.214 717.932 Z\" fill=\"#000000\" fill-rule=\"evenodd\" fill-opacity=\"1\" /><path clip-path=\"url(#clip770)\" d=\"M 0 0 M190.186 721.011 Q186.575 721.011 184.746 724.575 Q182.94 728.117 182.94 735.247 Q182.94 742.353 184.746 745.918 Q186.575 749.46 190.186 749.46 Q193.82 749.46 195.625 745.918 Q197.454 742.353 197.454 735.247 Q197.454 728.117 195.625 724.575 Q193.82 721.011 190.186 721.011 M190.186 717.307 Q195.996 717.307 199.051 721.913 Q202.13 726.497 202.13 735.247 Q202.13 743.973 199.051 748.58 Q195.996 753.163 190.186 753.163 Q184.376 753.163 181.297 748.58 Q178.241 743.973 178.241 735.247 Q178.241 726.497 181.297 721.913 Q184.376 717.307 190.186 717.307 Z\" fill=\"#000000\" fill-rule=\"evenodd\" fill-opacity=\"1\" /><path clip-path=\"url(#clip770)\" d=\"M 0 0 M128.103 396.498 Q124.492 396.498 122.663 400.062 Q120.857 403.604 120.857 410.734 Q120.857 417.84 122.663 421.405 Q124.492 424.946 128.103 424.946 Q131.737 424.946 133.542 421.405 Q135.371 417.84 135.371 410.734 Q135.371 403.604 133.542 400.062 Q131.737 396.498 128.103 396.498 M128.103 392.794 Q133.913 392.794 136.968 397.4 Q140.047 401.984 140.047 410.734 Q140.047 419.46 136.968 424.067 Q133.913 428.65 128.103 428.65 Q122.293 428.65 119.214 424.067 Q116.158 419.46 116.158 410.734 Q116.158 401.984 119.214 397.4 Q122.293 392.794 128.103 392.794 Z\" fill=\"#000000\" fill-rule=\"evenodd\" fill-opacity=\"1\" /><path clip-path=\"url(#clip770)\" d=\"M 0 0 M145.116 422.099 L150.001 422.099 L150.001 427.979 L145.116 427.979 L145.116 422.099 Z\" fill=\"#000000\" fill-rule=\"evenodd\" fill-opacity=\"1\" /><path clip-path=\"url(#clip770)\" d=\"M 0 0 M153.89 393.419 L176.112 393.419 L176.112 395.41 L163.565 427.979 L158.681 427.979 L170.487 397.354 L153.89 397.354 L153.89 393.419 Z\" fill=\"#000000\" fill-rule=\"evenodd\" fill-opacity=\"1\" /><path clip-path=\"url(#clip770)\" d=\"M 0 0 M181.227 393.419 L199.584 393.419 L199.584 397.354 L185.51 397.354 L185.51 405.826 Q186.528 405.479 187.547 405.317 Q188.565 405.132 189.584 405.132 Q195.371 405.132 198.75 408.303 Q202.13 411.474 202.13 416.891 Q202.13 422.47 198.658 425.571 Q195.186 428.65 188.866 428.65 Q186.69 428.65 184.422 428.28 Q182.176 427.909 179.769 427.169 L179.769 422.47 Q181.852 423.604 184.075 424.159 Q186.297 424.715 188.774 424.715 Q192.778 424.715 195.116 422.608 Q197.454 420.502 197.454 416.891 Q197.454 413.28 195.116 411.173 Q192.778 409.067 188.774 409.067 Q186.899 409.067 185.024 409.484 Q183.172 409.9 181.227 410.78 L181.227 393.419 Z\" fill=\"#000000\" fill-rule=\"evenodd\" fill-opacity=\"1\" /><path clip-path=\"url(#clip770)\" d=\"M 0 0 M118.242 99.5305 L125.88 99.5305 L125.88 73.1649 L117.57 74.8316 L117.57 70.5723 L125.834 68.9057 L130.51 68.9057 L130.51 99.5305 L138.149 99.5305 L138.149 103.466 L118.242 103.466 L118.242 99.5305 Z\" fill=\"#000000\" fill-rule=\"evenodd\" fill-opacity=\"1\" /><path clip-path=\"url(#clip770)\" d=\"M 0 0 M143.218 97.5861 L148.103 97.5861 L148.103 103.466 L143.218 103.466 L143.218 97.5861 Z\" fill=\"#000000\" fill-rule=\"evenodd\" fill-opacity=\"1\" /><path clip-path=\"url(#clip770)\" d=\"M 0 0 M163.172 71.9844 Q159.561 71.9844 157.732 75.5492 Q155.927 79.0908 155.927 86.2204 Q155.927 93.3268 157.732 96.8916 Q159.561 100.433 163.172 100.433 Q166.806 100.433 168.612 96.8916 Q170.44 93.3268 170.44 86.2204 Q170.44 79.0908 168.612 75.5492 Q166.806 71.9844 163.172 71.9844 M163.172 68.2807 Q168.982 68.2807 172.038 72.8871 Q175.116 77.4704 175.116 86.2204 Q175.116 94.9472 172.038 99.5537 Q168.982 104.137 163.172 104.137 Q157.362 104.137 154.283 99.5537 Q151.228 94.9472 151.228 86.2204 Q151.228 77.4704 154.283 72.8871 Q157.362 68.2807 163.172 68.2807 Z\" fill=\"#000000\" fill-rule=\"evenodd\" fill-opacity=\"1\" /><path clip-path=\"url(#clip770)\" d=\"M 0 0 M190.186 71.9844 Q186.575 71.9844 184.746 75.5492 Q182.94 79.0908 182.94 86.2204 Q182.94 93.3268 184.746 96.8916 Q186.575 100.433 190.186 100.433 Q193.82 100.433 195.625 96.8916 Q197.454 93.3268 197.454 86.2204 Q197.454 79.0908 195.625 75.5492 Q193.82 71.9844 190.186 71.9844 M190.186 68.2807 Q195.996 68.2807 199.051 72.8871 Q202.13 77.4704 202.13 86.2204 Q202.13 94.9472 199.051 99.5537 Q195.996 104.137 190.186 104.137 Q184.376 104.137 181.297 99.5537 Q178.241 94.9472 178.241 86.2204 Q178.241 77.4704 181.297 72.8871 Q184.376 68.2807 190.186 68.2807 Z\" fill=\"#000000\" fill-rule=\"evenodd\" fill-opacity=\"1\" /><path clip-path=\"url(#clip770)\" d=\"M 0 0 M44.1444 962.531 L50.9239 962.531 Q47.9002 965.778 46.4043 969.47 Q44.9083 973.13 44.9083 977.268 Q44.9083 985.416 49.9054 989.745 Q54.8707 994.073 64.2919 994.073 Q73.6813 994.073 78.6784 989.745 Q83.6436 985.416 83.6436 977.268 Q83.6436 973.13 82.1477 969.47 Q80.6518 965.778 77.6281 962.531 L84.3439 962.531 Q86.6355 965.905 87.7814 969.693 Q88.9272 973.449 88.9272 977.65 Q88.9272 988.44 82.3387 994.646 Q75.7183 1000.85 64.2919 1000.85 Q52.8336 1000.85 46.2451 994.646 Q39.6248 988.44 39.6248 977.65 Q39.6248 973.385 40.7706 969.629 Q41.8846 965.842 44.1444 962.531 Z\" fill=\"#000000\" fill-rule=\"evenodd\" fill-opacity=\"1\" /><path clip-path=\"url(#clip770)\" d=\"M 0 0 M38.479 956.388 L38.479 950.532 L88.0042 950.532 L88.0042 956.388 L38.479 956.388 Z\" fill=\"#000000\" fill-rule=\"evenodd\" fill-opacity=\"1\" /><path clip-path=\"url(#clip770)\" d=\"M 0 0 M73.9359 944.994 L52.3562 944.994 L52.3562 939.137 L73.7131 939.137 Q78.7739 939.137 81.3202 937.164 Q83.8346 935.191 83.8346 931.244 Q83.8346 926.501 80.8109 923.764 Q77.7872 920.995 72.5673 920.995 L52.3562 920.995 L52.3562 915.139 L88.0042 915.139 L88.0042 920.995 L82.5296 920.995 Q85.7762 923.128 87.3676 925.96 Q88.9272 928.761 88.9272 932.485 Q88.9272 938.628 85.1078 941.811 Q81.2883 944.994 73.9359 944.994 M51.4968 930.257 L51.4968 930.257 Z\" fill=\"#000000\" fill-rule=\"evenodd\" fill-opacity=\"1\" /><path clip-path=\"url(#clip770)\" d=\"M 0 0 M53.4065 886.27 L58.9447 886.27 Q57.6716 888.753 57.035 891.426 Q56.3984 894.1 56.3984 896.965 Q56.3984 901.325 57.7352 903.521 Q59.072 905.686 61.7456 905.686 Q63.7826 905.686 64.9603 904.126 Q66.1061 902.566 67.1565 897.856 L67.6021 895.851 Q68.9389 889.612 71.3897 887.002 Q73.8086 884.36 78.1691 884.36 Q83.1344 884.36 86.0308 888.307 Q88.9272 892.222 88.9272 899.097 Q88.9272 901.962 88.3543 905.081 Q87.8132 908.168 86.6992 911.606 L80.6518 911.606 Q82.3387 908.359 83.198 905.208 Q84.0256 902.057 84.0256 898.97 Q84.0256 894.832 82.6251 892.604 Q81.1929 890.376 78.6147 890.376 Q76.2276 890.376 74.9545 891.999 Q73.6813 893.591 72.5037 899.033 L72.0262 901.07 Q70.8804 906.513 68.5251 908.932 Q66.138 911.351 62.0002 911.351 Q56.9713 911.351 54.2341 907.786 Q51.4968 904.221 51.4968 897.665 Q51.4968 894.418 51.9743 891.554 Q52.4517 888.689 53.4065 886.27 Z\" fill=\"#000000\" fill-rule=\"evenodd\" fill-opacity=\"1\" /><path clip-path=\"url(#clip770)\" d=\"M 0 0 M42.2347 872.425 L52.3562 872.425 L52.3562 860.362 L56.9077 860.362 L56.9077 872.425 L76.2594 872.425 Q80.6199 872.425 81.8613 871.247 Q83.1026 870.038 83.1026 866.377 L83.1026 860.362 L88.0042 860.362 L88.0042 866.377 Q88.0042 873.157 85.4897 875.735 Q82.9434 878.313 76.2594 878.313 L56.9077 878.313 L56.9077 882.61 L52.3562 882.61 L52.3562 878.313 L42.2347 878.313 L42.2347 872.425 Z\" fill=\"#000000\" fill-rule=\"evenodd\" fill-opacity=\"1\" /><path clip-path=\"url(#clip770)\" d=\"M 0 0 M68.7161 823.727 L71.5806 823.727 L71.5806 850.654 Q77.6281 850.272 80.8109 847.026 Q83.9619 843.747 83.9619 837.923 Q83.9619 834.549 83.1344 831.398 Q82.3069 828.215 80.6518 825.096 L86.1899 825.096 Q87.5267 828.247 88.227 831.557 Q88.9272 834.867 88.9272 838.273 Q88.9272 846.803 83.9619 851.8 Q78.9967 856.765 70.5303 856.765 Q61.7774 856.765 56.6531 852.055 Q51.4968 847.312 51.4968 839.291 Q51.4968 832.098 56.1438 827.928 Q60.7589 823.727 68.7161 823.727 M66.9973 829.584 Q62.1912 829.647 59.3266 832.289 Q56.4621 834.899 56.4621 839.228 Q56.4621 844.129 59.2312 847.089 Q62.0002 850.017 67.0292 850.463 L66.9973 829.584 Z\" fill=\"#000000\" fill-rule=\"evenodd\" fill-opacity=\"1\" /><path clip-path=\"url(#clip770)\" d=\"M 0 0 M57.8307 796.927 Q57.2578 797.914 57.0032 799.092 Q56.7167 800.238 56.7167 801.638 Q56.7167 806.603 59.9632 809.277 Q63.1779 811.919 69.2253 811.919 L88.0042 811.919 L88.0042 817.807 L52.3562 817.807 L52.3562 811.919 L57.8944 811.919 Q54.6479 810.073 53.0883 807.113 Q51.4968 804.153 51.4968 799.919 Q51.4968 799.315 51.5923 798.583 Q51.656 797.851 51.8151 796.959 L57.8307 796.927 Z\" fill=\"#000000\" fill-rule=\"evenodd\" fill-opacity=\"1\" /><path clip-path=\"url(#clip770)\" d=\"M 0 0 M45.7677 763.38 L63.6235 763.38 L63.6235 755.296 Q63.6235 750.808 61.3 748.357 Q58.9765 745.906 54.6797 745.906 Q50.4147 745.906 48.0912 748.357 Q45.7677 750.808 45.7677 755.296 L45.7677 763.38 M40.4842 769.81 L40.4842 755.296 Q40.4842 747.307 44.1126 743.233 Q47.7092 739.127 54.6797 739.127 Q61.7138 739.127 65.3104 743.233 Q68.907 747.307 68.907 755.296 L68.907 763.38 L88.0042 763.38 L88.0042 769.81 L40.4842 769.81 Z\" fill=\"#000000\" fill-rule=\"evenodd\" fill-opacity=\"1\" /><path clip-path=\"url(#clip770)\" d=\"M 0 0 M57.8307 713.473 Q57.2578 714.46 57.0032 715.637 Q56.7167 716.783 56.7167 718.184 Q56.7167 723.149 59.9632 725.823 Q63.1779 728.464 69.2253 728.464 L88.0042 728.464 L88.0042 734.353 L52.3562 734.353 L52.3562 728.464 L57.8944 728.464 Q54.6479 726.618 53.0883 723.658 Q51.4968 720.698 51.4968 716.465 Q51.4968 715.86 51.5923 715.128 Q51.656 714.396 51.8151 713.505 L57.8307 713.473 Z\" fill=\"#000000\" fill-rule=\"evenodd\" fill-opacity=\"1\" /><path clip-path=\"url(#clip770)\" d=\"M 0 0 M56.4621 694.949 Q56.4621 699.659 60.1542 702.397 Q63.8145 705.134 70.212 705.134 Q76.6095 705.134 80.3017 702.429 Q83.9619 699.691 83.9619 694.949 Q83.9619 690.27 80.2698 687.533 Q76.5777 684.796 70.212 684.796 Q63.8781 684.796 60.186 687.533 Q56.4621 690.27 56.4621 694.949 M51.4968 694.949 Q51.4968 687.31 56.4621 682.95 Q61.4273 678.589 70.212 678.589 Q78.9649 678.589 83.9619 682.95 Q88.9272 687.31 88.9272 694.949 Q88.9272 702.62 83.9619 706.98 Q78.9649 711.309 70.212 711.309 Q61.4273 711.309 56.4621 706.98 Q51.4968 702.62 51.4968 694.949 Z\" fill=\"#000000\" fill-rule=\"evenodd\" fill-opacity=\"1\" /><path clip-path=\"url(#clip770)\" d=\"M 0 0 M82.657 666.781 L101.563 666.781 L101.563 672.669 L52.3562 672.669 L52.3562 666.781 L57.7671 666.781 Q54.5842 664.935 53.0564 662.134 Q51.4968 659.301 51.4968 655.386 Q51.4968 648.893 56.6531 644.851 Q61.8093 640.777 70.212 640.777 Q78.6147 640.777 83.771 644.851 Q88.9272 648.893 88.9272 655.386 Q88.9272 659.301 87.3994 662.134 Q85.8398 664.935 82.657 666.781 M70.212 646.856 Q63.7508 646.856 60.0905 649.53 Q56.3984 652.171 56.3984 656.818 Q56.3984 661.465 60.0905 664.139 Q63.7508 666.781 70.212 666.781 Q76.6732 666.781 80.3653 664.139 Q84.0256 661.465 84.0256 656.818 Q84.0256 652.171 80.3653 649.53 Q76.6732 646.856 70.212 646.856 Z\" fill=\"#000000\" fill-rule=\"evenodd\" fill-opacity=\"1\" /><path clip-path=\"url(#clip770)\" d=\"M 0 0 M56.4621 620.82 Q56.4621 625.531 60.1542 628.268 Q63.8145 631.005 70.212 631.005 Q76.6095 631.005 80.3017 628.3 Q83.9619 625.563 83.9619 620.82 Q83.9619 616.141 80.2698 613.404 Q76.5777 610.667 70.212 610.667 Q63.8781 610.667 60.186 613.404 Q56.4621 616.141 56.4621 620.82 M51.4968 620.82 Q51.4968 613.181 56.4621 608.821 Q61.4273 604.46 70.212 604.46 Q78.9649 604.46 83.9619 608.821 Q88.9272 613.181 88.9272 620.82 Q88.9272 628.491 83.9619 632.851 Q78.9649 637.18 70.212 637.18 Q61.4273 637.18 56.4621 632.851 Q51.4968 628.491 51.4968 620.82 Z\" fill=\"#000000\" fill-rule=\"evenodd\" fill-opacity=\"1\" /><path clip-path=\"url(#clip770)\" d=\"M 0 0 M57.8307 577.661 Q57.2578 578.647 57.0032 579.825 Q56.7167 580.971 56.7167 582.371 Q56.7167 587.337 59.9632 590.01 Q63.1779 592.652 69.2253 592.652 L88.0042 592.652 L88.0042 598.54 L52.3562 598.54 L52.3562 592.652 L57.8944 592.652 Q54.6479 590.806 53.0883 587.846 Q51.4968 584.886 51.4968 580.653 Q51.4968 580.048 51.5923 579.316 Q51.656 578.584 51.8151 577.693 L57.8307 577.661 Z\" fill=\"#000000\" fill-rule=\"evenodd\" fill-opacity=\"1\" /><path clip-path=\"url(#clip770)\" d=\"M 0 0 M42.2347 565.725 L52.3562 565.725 L52.3562 553.662 L56.9077 553.662 L56.9077 565.725 L76.2594 565.725 Q80.6199 565.725 81.8613 564.547 Q83.1026 563.338 83.1026 559.678 L83.1026 553.662 L88.0042 553.662 L88.0042 559.678 Q88.0042 566.457 85.4897 569.035 Q82.9434 571.613 76.2594 571.613 L56.9077 571.613 L56.9077 575.91 L52.3562 575.91 L52.3562 571.613 L42.2347 571.613 L42.2347 565.725 Z\" fill=\"#000000\" fill-rule=\"evenodd\" fill-opacity=\"1\" /><path clip-path=\"url(#clip770)\" d=\"M 0 0 M52.3562 547.519 L52.3562 541.663 L88.0042 541.663 L88.0042 547.519 L52.3562 547.519 M38.479 547.519 L38.479 541.663 L45.895 541.663 L45.895 547.519 L38.479 547.519 Z\" fill=\"#000000\" fill-rule=\"evenodd\" fill-opacity=\"1\" /><path clip-path=\"url(#clip770)\" d=\"M 0 0 M56.4621 521.706 Q56.4621 526.417 60.1542 529.154 Q63.8145 531.891 70.212 531.891 Q76.6095 531.891 80.3017 529.186 Q83.9619 526.449 83.9619 521.706 Q83.9619 517.027 80.2698 514.29 Q76.5777 511.553 70.212 511.553 Q63.8781 511.553 60.186 514.29 Q56.4621 517.027 56.4621 521.706 M51.4968 521.706 Q51.4968 514.067 56.4621 509.707 Q61.4273 505.346 70.212 505.346 Q78.9649 505.346 83.9619 509.707 Q88.9272 514.067 88.9272 521.706 Q88.9272 529.377 83.9619 533.737 Q78.9649 538.066 70.212 538.066 Q61.4273 538.066 56.4621 533.737 Q51.4968 529.377 51.4968 521.706 Z\" fill=\"#000000\" fill-rule=\"evenodd\" fill-opacity=\"1\" /><path clip-path=\"url(#clip770)\" d=\"M 0 0 M66.4881 469.571 L88.0042 469.571 L88.0042 475.427 L66.679 475.427 Q61.6183 475.427 59.1038 477.401 Q56.5894 479.374 56.5894 483.321 Q56.5894 488.063 59.6131 490.801 Q62.6368 493.538 67.8567 493.538 L88.0042 493.538 L88.0042 499.426 L52.3562 499.426 L52.3562 493.538 L57.8944 493.538 Q54.6797 491.437 53.0883 488.604 Q51.4968 485.74 51.4968 482.016 Q51.4968 475.873 55.3163 472.722 Q59.1038 469.571 66.4881 469.571 Z\" fill=\"#000000\" fill-rule=\"evenodd\" fill-opacity=\"1\" /><path clip-path=\"url(#clip772)\" d=\"\n",
       "M283.931 86.1857 L538.381 86.1857 L792.831 86.1857 L1047.28 86.1857 L1301.73 86.1857 L1556.18 86.1857 L1810.63 86.1857 L1810.63 1384.24 L1556.18 1384.24 L1301.73 1384.24 \n",
       "  L1047.28 1384.24 L792.831 1384.24 L538.381 1384.24 L283.931 1384.24  Z\n",
       "  \" fill=\"#7ec87e\" fill-rule=\"evenodd\" fill-opacity=\"1\"/>\n",
       "<polyline clip-path=\"url(#clip772)\" style=\"stroke:#7ec87e; stroke-width:4; stroke-opacity:1; fill:none\" points=\"\n",
       "  283.931,86.1857 538.381,86.1857 792.831,86.1857 1047.28,86.1857 1301.73,86.1857 1556.18,86.1857 1810.63,86.1857 \n",
       "  \"/>\n",
       "<path clip-path=\"url(#clip772)\" d=\"\n",
       "M283.931 86.1857 L538.381 86.1857 L792.831 86.1857 L1047.28 86.1857 L1301.73 86.1857 L1556.18 86.1857 L1810.63 675.41 L1810.63 1384.24 L1556.18 1384.24 L1301.73 1384.24 \n",
       "  L1047.28 1384.24 L792.831 1384.24 L538.381 1384.24 L283.931 1384.24  Z\n",
       "  \" fill=\"#bdadd3\" fill-rule=\"evenodd\" fill-opacity=\"1\"/>\n",
       "<polyline clip-path=\"url(#clip772)\" style=\"stroke:#bdadd3; stroke-width:4; stroke-opacity:1; fill:none\" points=\"\n",
       "  283.931,86.1857 538.381,86.1857 792.831,86.1857 1047.28,86.1857 1301.73,86.1857 1556.18,86.1857 1810.63,675.41 \n",
       "  \"/>\n",
       "<path clip-path=\"url(#clip772)\" d=\"\n",
       "M283.931 86.1857 L538.381 86.1857 L792.831 86.1857 L1047.28 86.1857 L1301.73 86.1857 L1556.18 153.023 L1810.63 833.709 L1810.63 1384.24 L1556.18 1384.24 L1301.73 1384.24 \n",
       "  L1047.28 1384.24 L792.831 1384.24 L538.381 1384.24 L283.931 1384.24  Z\n",
       "  \" fill=\"#fcc085\" fill-rule=\"evenodd\" fill-opacity=\"1\"/>\n",
       "<polyline clip-path=\"url(#clip772)\" style=\"stroke:#fcc085; stroke-width:4; stroke-opacity:1; fill:none\" points=\"\n",
       "  283.931,86.1857 538.381,86.1857 792.831,86.1857 1047.28,86.1857 1301.73,86.1857 1556.18,153.023 1810.63,833.709 \n",
       "  \"/>\n",
       "<path clip-path=\"url(#clip772)\" d=\"\n",
       "M283.931 86.1857 L538.381 86.1857 L792.831 86.1857 L1047.28 86.1857 L1301.73 777.425 L1556.18 682.446 L1810.63 851.298 L1810.63 1384.24 L1556.18 1384.24 L1301.73 1384.24 \n",
       "  L1047.28 1384.24 L792.831 1384.24 L538.381 1384.24 L283.931 1384.24  Z\n",
       "  \" fill=\"#ffff99\" fill-rule=\"evenodd\" fill-opacity=\"1\"/>\n",
       "<polyline clip-path=\"url(#clip772)\" style=\"stroke:#ffff99; stroke-width:4; stroke-opacity:1; fill:none\" points=\"\n",
       "  283.931,86.1857 538.381,86.1857 792.831,86.1857 1047.28,86.1857 1301.73,777.425 1556.18,682.446 1810.63,851.298 \n",
       "  \"/>\n",
       "<path clip-path=\"url(#clip772)\" d=\"\n",
       "M283.931 86.1857 L538.381 86.1857 L792.831 86.1857 L1047.28 103.774 L1301.73 793.255 L1556.18 698.276 L1810.63 881.199 L1810.63 1384.24 L1556.18 1384.24 L1301.73 1384.24 \n",
       "  L1047.28 1384.24 L792.831 1384.24 L538.381 1384.24 L283.931 1384.24  Z\n",
       "  \" fill=\"#386caf\" fill-rule=\"evenodd\" fill-opacity=\"1\"/>\n",
       "<polyline clip-path=\"url(#clip772)\" style=\"stroke:#386caf; stroke-width:4; stroke-opacity:1; fill:none\" points=\"\n",
       "  283.931,86.1857 538.381,86.1857 792.831,86.1857 1047.28,103.774 1301.73,793.255 1556.18,698.276 1810.63,881.199 \n",
       "  \"/>\n",
       "<path clip-path=\"url(#clip772)\" d=\"\n",
       "M283.931 86.1857 L538.381 86.1857 L792.831 103.774 L1047.28 116.087 L1301.73 805.567 L1556.18 710.588 L1810.63 986.732 L1810.63 1384.24 L1556.18 1384.24 L1301.73 1384.24 \n",
       "  L1047.28 1384.24 L792.831 1384.24 L538.381 1384.24 L283.931 1384.24  Z\n",
       "  \" fill=\"#ef027e\" fill-rule=\"evenodd\" fill-opacity=\"1\"/>\n",
       "<polyline clip-path=\"url(#clip772)\" style=\"stroke:#ef027e; stroke-width:4; stroke-opacity:1; fill:none\" points=\"\n",
       "  283.931,86.1857 538.381,86.1857 792.831,103.774 1047.28,116.087 1301.73,805.567 1556.18,710.588 1810.63,986.732 \n",
       "  \"/>\n",
       "<path clip-path=\"url(#clip772)\" d=\"\n",
       "M283.931 86.1857 L538.381 515.352 L792.831 520.629 L1047.28 420.373 L1301.73 1002.56 L1556.18 965.625 L1810.63 1071.16 L1810.63 1384.24 L1556.18 1384.24 L1301.73 1384.24 \n",
       "  L1047.28 1384.24 L792.831 1384.24 L538.381 1384.24 L283.931 1384.24  Z\n",
       "  \" fill=\"#be5b16\" fill-rule=\"evenodd\" fill-opacity=\"1\"/>\n",
       "<polyline clip-path=\"url(#clip772)\" style=\"stroke:#be5b16; stroke-width:4; stroke-opacity:1; fill:none\" points=\"\n",
       "  283.931,86.1857 538.381,515.352 792.831,520.629 1047.28,420.373 1301.73,1002.56 1556.18,965.625 1810.63,1071.16 \n",
       "  \"/>\n",
       "<path clip-path=\"url(#clip772)\" d=\"\n",
       "M283.931 1317.4 L538.381 1319.16 L792.831 1319.16 L1047.28 1319.16 L1301.73 1319.16 L1556.18 1319.16 L1810.63 1319.16 L1810.63 1384.24 L1556.18 1384.24 L1301.73 1384.24 \n",
       "  L1047.28 1384.24 L792.831 1384.24 L538.381 1384.24 L283.931 1384.24  Z\n",
       "  \" fill=\"#666666\" fill-rule=\"evenodd\" fill-opacity=\"1\"/>\n",
       "<polyline clip-path=\"url(#clip772)\" style=\"stroke:#666666; stroke-width:4; stroke-opacity:1; fill:none\" points=\"\n",
       "  283.931,1317.4 538.381,1319.16 792.831,1319.16 1047.28,1319.16 1301.73,1319.16 1556.18,1319.16 1810.63,1319.16 \n",
       "  \"/>\n",
       "<path clip-path=\"url(#clip770)\" d=\"\n",
       "M1926.92 637.429 L2352.76 637.429 L2352.76 93.1086 L1926.92 93.1086  Z\n",
       "  \" fill=\"#ffffff\" fill-rule=\"evenodd\" fill-opacity=\"1\"/>\n",
       "<polyline clip-path=\"url(#clip770)\" style=\"stroke:#000000; stroke-width:4; stroke-opacity:1; fill:none\" points=\"\n",
       "  1926.92,637.429 2352.76,637.429 2352.76,93.1086 1926.92,93.1086 1926.92,637.429 \n",
       "  \"/>\n",
       "<path clip-path=\"url(#clip770)\" d=\"\n",
       "M1950.41 177.781 L2091.39 177.781 L2091.39 129.397 L1950.41 129.397 L1950.41 177.781  Z\n",
       "  \" fill=\"#7ec87e\" fill-rule=\"evenodd\" fill-opacity=\"1\"/>\n",
       "<polyline clip-path=\"url(#clip770)\" style=\"stroke:#7ec87e; stroke-width:4; stroke-opacity:1; fill:none\" points=\"\n",
       "  1950.41,129.397 2091.39,129.397 \n",
       "  \"/>\n",
       "<path clip-path=\"url(#clip770)\" d=\"M 0 0 M2142.76 138.971 L2142.76 143.901 Q2140.39 141.702 2137.71 140.614 Q2135.05 139.526 2132.04 139.526 Q2126.11 139.526 2122.96 143.16 Q2119.82 146.772 2119.82 153.623 Q2119.82 160.452 2122.96 164.086 Q2126.11 167.697 2132.04 167.697 Q2135.05 167.697 2137.71 166.609 Q2140.39 165.521 2142.76 163.322 L2142.76 168.207 Q2140.3 169.873 2137.55 170.707 Q2134.82 171.54 2131.76 171.54 Q2123.91 171.54 2119.4 166.748 Q2114.89 161.933 2114.89 153.623 Q2114.89 145.29 2119.4 140.498 Q2123.91 135.684 2131.76 135.684 Q2134.86 135.684 2137.59 136.517 Q2140.35 137.327 2142.76 138.971 Z\" fill=\"#000000\" fill-rule=\"evenodd\" fill-opacity=\"1\" /><path clip-path=\"url(#clip770)\" d=\"M 0 0 M2147.22 134.85 L2151.48 134.85 L2151.48 170.869 L2147.22 170.869 L2147.22 134.85 Z\" fill=\"#000000\" fill-rule=\"evenodd\" fill-opacity=\"1\" /><path clip-path=\"url(#clip770)\" d=\"M 0 0 M2155.51 160.637 L2155.51 144.943 L2159.77 144.943 L2159.77 160.475 Q2159.77 164.156 2161.2 166.008 Q2162.64 167.836 2165.51 167.836 Q2168.96 167.836 2170.95 165.637 Q2172.96 163.438 2172.96 159.642 L2172.96 144.943 L2177.22 144.943 L2177.22 170.869 L2172.96 170.869 L2172.96 166.887 Q2171.41 169.248 2169.35 170.406 Q2167.32 171.54 2164.61 171.54 Q2160.14 171.54 2157.83 168.762 Q2155.51 165.984 2155.51 160.637 M2166.23 144.318 L2166.23 144.318 Z\" fill=\"#000000\" fill-rule=\"evenodd\" fill-opacity=\"1\" /><path clip-path=\"url(#clip770)\" d=\"M 0 0 M2198.22 145.707 L2198.22 149.734 Q2196.41 148.809 2194.47 148.346 Q2192.52 147.883 2190.44 147.883 Q2187.27 147.883 2185.67 148.855 Q2184.1 149.827 2184.1 151.771 Q2184.1 153.253 2185.23 154.109 Q2186.37 154.943 2189.79 155.707 L2191.25 156.031 Q2195.79 157.003 2197.69 158.785 Q2199.61 160.545 2199.61 163.716 Q2199.61 167.327 2196.74 169.433 Q2193.89 171.54 2188.89 171.54 Q2186.81 171.54 2184.54 171.123 Q2182.29 170.73 2179.79 169.92 L2179.79 165.521 Q2182.15 166.748 2184.45 167.373 Q2186.74 167.975 2188.98 167.975 Q2191.99 167.975 2193.61 166.957 Q2195.23 165.915 2195.23 164.04 Q2195.23 162.304 2194.05 161.378 Q2192.89 160.452 2188.94 159.596 L2187.45 159.248 Q2183.5 158.415 2181.74 156.702 Q2179.98 154.966 2179.98 151.957 Q2179.98 148.299 2182.57 146.309 Q2185.16 144.318 2189.93 144.318 Q2192.29 144.318 2194.38 144.665 Q2196.46 145.012 2198.22 145.707 Z\" fill=\"#000000\" fill-rule=\"evenodd\" fill-opacity=\"1\" /><path clip-path=\"url(#clip770)\" d=\"M 0 0 M2208.29 137.582 L2208.29 144.943 L2217.06 144.943 L2217.06 148.253 L2208.29 148.253 L2208.29 162.327 Q2208.29 165.498 2209.14 166.401 Q2210.02 167.304 2212.69 167.304 L2217.06 167.304 L2217.06 170.869 L2212.69 170.869 Q2207.76 170.869 2205.88 169.04 Q2204.01 167.188 2204.01 162.327 L2204.01 148.253 L2200.88 148.253 L2200.88 144.943 L2204.01 144.943 L2204.01 137.582 L2208.29 137.582 Z\" fill=\"#000000\" fill-rule=\"evenodd\" fill-opacity=\"1\" /><path clip-path=\"url(#clip770)\" d=\"M 0 0 M2243.7 156.841 L2243.7 158.924 L2224.12 158.924 Q2224.4 163.322 2226.76 165.637 Q2229.14 167.929 2233.38 167.929 Q2235.83 167.929 2238.13 167.327 Q2240.44 166.725 2242.71 165.521 L2242.71 169.549 Q2240.42 170.521 2238.01 171.031 Q2235.6 171.54 2233.13 171.54 Q2226.92 171.54 2223.29 167.929 Q2219.68 164.318 2219.68 158.16 Q2219.68 151.795 2223.1 148.068 Q2226.55 144.318 2232.38 144.318 Q2237.62 144.318 2240.65 147.697 Q2243.7 151.054 2243.7 156.841 M2239.45 155.591 Q2239.4 152.096 2237.48 150.012 Q2235.58 147.929 2232.43 147.929 Q2228.87 147.929 2226.71 149.943 Q2224.58 151.957 2224.26 155.614 L2239.45 155.591 Z\" fill=\"#000000\" fill-rule=\"evenodd\" fill-opacity=\"1\" /><path clip-path=\"url(#clip770)\" d=\"M 0 0 M2263.2 148.924 Q2262.48 148.508 2261.62 148.322 Q2260.79 148.114 2259.77 148.114 Q2256.16 148.114 2254.21 150.475 Q2252.29 152.813 2252.29 157.211 L2252.29 170.869 L2248.01 170.869 L2248.01 144.943 L2252.29 144.943 L2252.29 148.971 Q2253.63 146.609 2255.79 145.475 Q2257.94 144.318 2261.02 144.318 Q2261.46 144.318 2261.99 144.387 Q2262.52 144.434 2263.17 144.549 L2263.2 148.924 Z\" fill=\"#000000\" fill-rule=\"evenodd\" fill-opacity=\"1\" /><path clip-path=\"url(#clip770)\" d=\"M 0 0 M2293.33 154.457 Q2290 154.457 2288.08 156.239 Q2286.18 158.021 2286.18 161.146 Q2286.18 164.271 2288.08 166.054 Q2290 167.836 2293.33 167.836 Q2296.67 167.836 2298.59 166.054 Q2300.51 164.248 2300.51 161.146 Q2300.51 158.021 2298.59 156.239 Q2296.69 154.457 2293.33 154.457 M2288.66 152.466 Q2285.65 151.725 2283.96 149.665 Q2282.29 147.605 2282.29 144.642 Q2282.29 140.498 2285.23 138.091 Q2288.19 135.684 2293.33 135.684 Q2298.5 135.684 2301.44 138.091 Q2304.38 140.498 2304.38 144.642 Q2304.38 147.605 2302.69 149.665 Q2301.02 151.725 2298.03 152.466 Q2301.41 153.253 2303.29 155.545 Q2305.19 157.836 2305.19 161.146 Q2305.19 166.17 2302.11 168.855 Q2299.05 171.54 2293.33 171.54 Q2287.62 171.54 2284.54 168.855 Q2281.48 166.17 2281.48 161.146 Q2281.48 157.836 2283.38 155.545 Q2285.28 153.253 2288.66 152.466 M2286.94 145.082 Q2286.94 147.767 2288.61 149.272 Q2290.3 150.776 2293.33 150.776 Q2296.34 150.776 2298.03 149.272 Q2299.75 147.767 2299.75 145.082 Q2299.75 142.397 2298.03 140.892 Q2296.34 139.387 2293.33 139.387 Q2290.3 139.387 2288.61 140.892 Q2286.94 142.397 2286.94 145.082 Z\" fill=\"#000000\" fill-rule=\"evenodd\" fill-opacity=\"1\" /><path clip-path=\"url(#clip770)\" d=\"\n",
       "M1950.41 238.261 L2091.39 238.261 L2091.39 189.877 L1950.41 189.877 L1950.41 238.261  Z\n",
       "  \" fill=\"#bdadd3\" fill-rule=\"evenodd\" fill-opacity=\"1\"/>\n",
       "<polyline clip-path=\"url(#clip770)\" style=\"stroke:#bdadd3; stroke-width:4; stroke-opacity:1; fill:none\" points=\"\n",
       "  1950.41,189.877 2091.39,189.877 \n",
       "  \"/>\n",
       "<path clip-path=\"url(#clip770)\" d=\"M 0 0 M2142.76 199.451 L2142.76 204.381 Q2140.39 202.182 2137.71 201.094 Q2135.05 200.006 2132.04 200.006 Q2126.11 200.006 2122.96 203.64 Q2119.82 207.252 2119.82 214.103 Q2119.82 220.932 2122.96 224.566 Q2126.11 228.177 2132.04 228.177 Q2135.05 228.177 2137.71 227.089 Q2140.39 226.001 2142.76 223.802 L2142.76 228.687 Q2140.3 230.353 2137.55 231.187 Q2134.82 232.02 2131.76 232.02 Q2123.91 232.02 2119.4 227.228 Q2114.89 222.413 2114.89 214.103 Q2114.89 205.77 2119.4 200.978 Q2123.91 196.164 2131.76 196.164 Q2134.86 196.164 2137.59 196.997 Q2140.35 197.807 2142.76 199.451 Z\" fill=\"#000000\" fill-rule=\"evenodd\" fill-opacity=\"1\" /><path clip-path=\"url(#clip770)\" d=\"M 0 0 M2147.22 195.33 L2151.48 195.33 L2151.48 231.349 L2147.22 231.349 L2147.22 195.33 Z\" fill=\"#000000\" fill-rule=\"evenodd\" fill-opacity=\"1\" /><path clip-path=\"url(#clip770)\" d=\"M 0 0 M2155.51 221.117 L2155.51 205.423 L2159.77 205.423 L2159.77 220.955 Q2159.77 224.636 2161.2 226.488 Q2162.64 228.316 2165.51 228.316 Q2168.96 228.316 2170.95 226.117 Q2172.96 223.918 2172.96 220.122 L2172.96 205.423 L2177.22 205.423 L2177.22 231.349 L2172.96 231.349 L2172.96 227.367 Q2171.41 229.728 2169.35 230.886 Q2167.32 232.02 2164.61 232.02 Q2160.14 232.02 2157.83 229.242 Q2155.51 226.464 2155.51 221.117 M2166.23 204.798 L2166.23 204.798 Z\" fill=\"#000000\" fill-rule=\"evenodd\" fill-opacity=\"1\" /><path clip-path=\"url(#clip770)\" d=\"M 0 0 M2198.22 206.187 L2198.22 210.214 Q2196.41 209.289 2194.47 208.826 Q2192.52 208.363 2190.44 208.363 Q2187.27 208.363 2185.67 209.335 Q2184.1 210.307 2184.1 212.251 Q2184.1 213.733 2185.23 214.589 Q2186.37 215.423 2189.79 216.187 L2191.25 216.511 Q2195.79 217.483 2197.69 219.265 Q2199.61 221.025 2199.61 224.196 Q2199.61 227.807 2196.74 229.913 Q2193.89 232.02 2188.89 232.02 Q2186.81 232.02 2184.54 231.603 Q2182.29 231.21 2179.79 230.4 L2179.79 226.001 Q2182.15 227.228 2184.45 227.853 Q2186.74 228.455 2188.98 228.455 Q2191.99 228.455 2193.61 227.437 Q2195.23 226.395 2195.23 224.52 Q2195.23 222.784 2194.05 221.858 Q2192.89 220.932 2188.94 220.076 L2187.45 219.728 Q2183.5 218.895 2181.74 217.182 Q2179.98 215.446 2179.98 212.437 Q2179.98 208.779 2182.57 206.789 Q2185.16 204.798 2189.93 204.798 Q2192.29 204.798 2194.38 205.145 Q2196.46 205.492 2198.22 206.187 Z\" fill=\"#000000\" fill-rule=\"evenodd\" fill-opacity=\"1\" /><path clip-path=\"url(#clip770)\" d=\"M 0 0 M2208.29 198.062 L2208.29 205.423 L2217.06 205.423 L2217.06 208.733 L2208.29 208.733 L2208.29 222.807 Q2208.29 225.978 2209.14 226.881 Q2210.02 227.784 2212.69 227.784 L2217.06 227.784 L2217.06 231.349 L2212.69 231.349 Q2207.76 231.349 2205.88 229.52 Q2204.01 227.668 2204.01 222.807 L2204.01 208.733 L2200.88 208.733 L2200.88 205.423 L2204.01 205.423 L2204.01 198.062 L2208.29 198.062 Z\" fill=\"#000000\" fill-rule=\"evenodd\" fill-opacity=\"1\" /><path clip-path=\"url(#clip770)\" d=\"M 0 0 M2243.7 217.321 L2243.7 219.404 L2224.12 219.404 Q2224.4 223.802 2226.76 226.117 Q2229.14 228.409 2233.38 228.409 Q2235.83 228.409 2238.13 227.807 Q2240.44 227.205 2242.71 226.001 L2242.71 230.029 Q2240.42 231.001 2238.01 231.511 Q2235.6 232.02 2233.13 232.02 Q2226.92 232.02 2223.29 228.409 Q2219.68 224.798 2219.68 218.64 Q2219.68 212.275 2223.1 208.548 Q2226.55 204.798 2232.38 204.798 Q2237.62 204.798 2240.65 208.177 Q2243.7 211.534 2243.7 217.321 M2239.45 216.071 Q2239.4 212.576 2237.48 210.492 Q2235.58 208.409 2232.43 208.409 Q2228.87 208.409 2226.71 210.423 Q2224.58 212.437 2224.26 216.094 L2239.45 216.071 Z\" fill=\"#000000\" fill-rule=\"evenodd\" fill-opacity=\"1\" /><path clip-path=\"url(#clip770)\" d=\"M 0 0 M2263.2 209.404 Q2262.48 208.988 2261.62 208.802 Q2260.79 208.594 2259.77 208.594 Q2256.16 208.594 2254.21 210.955 Q2252.29 213.293 2252.29 217.691 L2252.29 231.349 L2248.01 231.349 L2248.01 205.423 L2252.29 205.423 L2252.29 209.451 Q2253.63 207.089 2255.79 205.955 Q2257.94 204.798 2261.02 204.798 Q2261.46 204.798 2261.99 204.867 Q2262.52 204.914 2263.17 205.029 L2263.2 209.404 Z\" fill=\"#000000\" fill-rule=\"evenodd\" fill-opacity=\"1\" /><path clip-path=\"url(#clip770)\" d=\"M 0 0 M2282.15 196.789 L2304.38 196.789 L2304.38 198.779 L2291.83 231.349 L2286.94 231.349 L2298.75 200.724 L2282.15 200.724 L2282.15 196.789 Z\" fill=\"#000000\" fill-rule=\"evenodd\" fill-opacity=\"1\" /><path clip-path=\"url(#clip770)\" d=\"\n",
       "M1950.41 298.741 L2091.39 298.741 L2091.39 250.357 L1950.41 250.357 L1950.41 298.741  Z\n",
       "  \" fill=\"#fcc085\" fill-rule=\"evenodd\" fill-opacity=\"1\"/>\n",
       "<polyline clip-path=\"url(#clip770)\" style=\"stroke:#fcc085; stroke-width:4; stroke-opacity:1; fill:none\" points=\"\n",
       "  1950.41,250.357 2091.39,250.357 \n",
       "  \"/>\n",
       "<path clip-path=\"url(#clip770)\" d=\"M 0 0 M2142.76 259.931 L2142.76 264.861 Q2140.39 262.662 2137.71 261.574 Q2135.05 260.486 2132.04 260.486 Q2126.11 260.486 2122.96 264.12 Q2119.82 267.732 2119.82 274.583 Q2119.82 281.412 2122.96 285.046 Q2126.11 288.657 2132.04 288.657 Q2135.05 288.657 2137.71 287.569 Q2140.39 286.481 2142.76 284.282 L2142.76 289.167 Q2140.3 290.833 2137.55 291.667 Q2134.82 292.5 2131.76 292.5 Q2123.91 292.5 2119.4 287.708 Q2114.89 282.893 2114.89 274.583 Q2114.89 266.25 2119.4 261.458 Q2123.91 256.644 2131.76 256.644 Q2134.86 256.644 2137.59 257.477 Q2140.35 258.287 2142.76 259.931 Z\" fill=\"#000000\" fill-rule=\"evenodd\" fill-opacity=\"1\" /><path clip-path=\"url(#clip770)\" d=\"M 0 0 M2147.22 255.81 L2151.48 255.81 L2151.48 291.829 L2147.22 291.829 L2147.22 255.81 Z\" fill=\"#000000\" fill-rule=\"evenodd\" fill-opacity=\"1\" /><path clip-path=\"url(#clip770)\" d=\"M 0 0 M2155.51 281.597 L2155.51 265.903 L2159.77 265.903 L2159.77 281.435 Q2159.77 285.116 2161.2 286.968 Q2162.64 288.796 2165.51 288.796 Q2168.96 288.796 2170.95 286.597 Q2172.96 284.398 2172.96 280.602 L2172.96 265.903 L2177.22 265.903 L2177.22 291.829 L2172.96 291.829 L2172.96 287.847 Q2171.41 290.208 2169.35 291.366 Q2167.32 292.5 2164.61 292.5 Q2160.14 292.5 2157.83 289.722 Q2155.51 286.944 2155.51 281.597 M2166.23 265.278 L2166.23 265.278 Z\" fill=\"#000000\" fill-rule=\"evenodd\" fill-opacity=\"1\" /><path clip-path=\"url(#clip770)\" d=\"M 0 0 M2198.22 266.667 L2198.22 270.694 Q2196.41 269.769 2194.47 269.306 Q2192.52 268.843 2190.44 268.843 Q2187.27 268.843 2185.67 269.815 Q2184.1 270.787 2184.1 272.731 Q2184.1 274.213 2185.23 275.069 Q2186.37 275.903 2189.79 276.667 L2191.25 276.991 Q2195.79 277.963 2197.69 279.745 Q2199.61 281.505 2199.61 284.676 Q2199.61 288.287 2196.74 290.393 Q2193.89 292.5 2188.89 292.5 Q2186.81 292.5 2184.54 292.083 Q2182.29 291.69 2179.79 290.88 L2179.79 286.481 Q2182.15 287.708 2184.45 288.333 Q2186.74 288.935 2188.98 288.935 Q2191.99 288.935 2193.61 287.917 Q2195.23 286.875 2195.23 285 Q2195.23 283.264 2194.05 282.338 Q2192.89 281.412 2188.94 280.556 L2187.45 280.208 Q2183.5 279.375 2181.74 277.662 Q2179.98 275.926 2179.98 272.917 Q2179.98 269.259 2182.57 267.269 Q2185.16 265.278 2189.93 265.278 Q2192.29 265.278 2194.38 265.625 Q2196.46 265.972 2198.22 266.667 Z\" fill=\"#000000\" fill-rule=\"evenodd\" fill-opacity=\"1\" /><path clip-path=\"url(#clip770)\" d=\"M 0 0 M2208.29 258.542 L2208.29 265.903 L2217.06 265.903 L2217.06 269.213 L2208.29 269.213 L2208.29 283.287 Q2208.29 286.458 2209.14 287.361 Q2210.02 288.264 2212.69 288.264 L2217.06 288.264 L2217.06 291.829 L2212.69 291.829 Q2207.76 291.829 2205.88 290 Q2204.01 288.148 2204.01 283.287 L2204.01 269.213 L2200.88 269.213 L2200.88 265.903 L2204.01 265.903 L2204.01 258.542 L2208.29 258.542 Z\" fill=\"#000000\" fill-rule=\"evenodd\" fill-opacity=\"1\" /><path clip-path=\"url(#clip770)\" d=\"M 0 0 M2243.7 277.801 L2243.7 279.884 L2224.12 279.884 Q2224.4 284.282 2226.76 286.597 Q2229.14 288.889 2233.38 288.889 Q2235.83 288.889 2238.13 288.287 Q2240.44 287.685 2242.71 286.481 L2242.71 290.509 Q2240.42 291.481 2238.01 291.991 Q2235.6 292.5 2233.13 292.5 Q2226.92 292.5 2223.29 288.889 Q2219.68 285.278 2219.68 279.12 Q2219.68 272.755 2223.1 269.028 Q2226.55 265.278 2232.38 265.278 Q2237.62 265.278 2240.65 268.657 Q2243.7 272.014 2243.7 277.801 M2239.45 276.551 Q2239.4 273.056 2237.48 270.972 Q2235.58 268.889 2232.43 268.889 Q2228.87 268.889 2226.71 270.903 Q2224.58 272.917 2224.26 276.574 L2239.45 276.551 Z\" fill=\"#000000\" fill-rule=\"evenodd\" fill-opacity=\"1\" /><path clip-path=\"url(#clip770)\" d=\"M 0 0 M2263.2 269.884 Q2262.48 269.468 2261.62 269.282 Q2260.79 269.074 2259.77 269.074 Q2256.16 269.074 2254.21 271.435 Q2252.29 273.773 2252.29 278.171 L2252.29 291.829 L2248.01 291.829 L2248.01 265.903 L2252.29 265.903 L2252.29 269.931 Q2253.63 267.569 2255.79 266.435 Q2257.94 265.278 2261.02 265.278 Q2261.46 265.278 2261.99 265.347 Q2262.52 265.394 2263.17 265.509 L2263.2 269.884 Z\" fill=\"#000000\" fill-rule=\"evenodd\" fill-opacity=\"1\" /><path clip-path=\"url(#clip770)\" d=\"M 0 0 M2293.91 272.685 Q2290.76 272.685 2288.91 274.838 Q2287.08 276.991 2287.08 280.741 Q2287.08 284.468 2288.91 286.643 Q2290.76 288.796 2293.91 288.796 Q2297.06 288.796 2298.89 286.643 Q2300.74 284.468 2300.74 280.741 Q2300.74 276.991 2298.89 274.838 Q2297.06 272.685 2293.91 272.685 M2303.19 258.033 L2303.19 262.292 Q2301.44 261.458 2299.63 261.019 Q2297.85 260.579 2296.09 260.579 Q2291.46 260.579 2289.01 263.704 Q2286.57 266.829 2286.23 273.148 Q2287.59 271.134 2289.65 270.069 Q2291.71 268.982 2294.19 268.982 Q2299.4 268.982 2302.41 272.153 Q2305.44 275.301 2305.44 280.741 Q2305.44 286.065 2302.29 289.282 Q2299.14 292.5 2293.91 292.5 Q2287.92 292.5 2284.75 287.917 Q2281.57 283.31 2281.57 274.583 Q2281.57 266.389 2285.46 261.528 Q2289.35 256.644 2295.9 256.644 Q2297.66 256.644 2299.44 256.991 Q2301.25 257.338 2303.19 258.033 Z\" fill=\"#000000\" fill-rule=\"evenodd\" fill-opacity=\"1\" /><path clip-path=\"url(#clip770)\" d=\"\n",
       "M1950.41 359.221 L2091.39 359.221 L2091.39 310.837 L1950.41 310.837 L1950.41 359.221  Z\n",
       "  \" fill=\"#ffff99\" fill-rule=\"evenodd\" fill-opacity=\"1\"/>\n",
       "<polyline clip-path=\"url(#clip770)\" style=\"stroke:#ffff99; stroke-width:4; stroke-opacity:1; fill:none\" points=\"\n",
       "  1950.41,310.837 2091.39,310.837 \n",
       "  \"/>\n",
       "<path clip-path=\"url(#clip770)\" d=\"M 0 0 M2142.76 320.411 L2142.76 325.341 Q2140.39 323.142 2137.71 322.054 Q2135.05 320.966 2132.04 320.966 Q2126.11 320.966 2122.96 324.6 Q2119.82 328.212 2119.82 335.063 Q2119.82 341.892 2122.96 345.526 Q2126.11 349.137 2132.04 349.137 Q2135.05 349.137 2137.71 348.049 Q2140.39 346.961 2142.76 344.762 L2142.76 349.647 Q2140.3 351.313 2137.55 352.147 Q2134.82 352.98 2131.76 352.98 Q2123.91 352.98 2119.4 348.188 Q2114.89 343.373 2114.89 335.063 Q2114.89 326.73 2119.4 321.938 Q2123.91 317.124 2131.76 317.124 Q2134.86 317.124 2137.59 317.957 Q2140.35 318.767 2142.76 320.411 Z\" fill=\"#000000\" fill-rule=\"evenodd\" fill-opacity=\"1\" /><path clip-path=\"url(#clip770)\" d=\"M 0 0 M2147.22 316.29 L2151.48 316.29 L2151.48 352.309 L2147.22 352.309 L2147.22 316.29 Z\" fill=\"#000000\" fill-rule=\"evenodd\" fill-opacity=\"1\" /><path clip-path=\"url(#clip770)\" d=\"M 0 0 M2155.51 342.077 L2155.51 326.383 L2159.77 326.383 L2159.77 341.915 Q2159.77 345.596 2161.2 347.448 Q2162.64 349.276 2165.51 349.276 Q2168.96 349.276 2170.95 347.077 Q2172.96 344.878 2172.96 341.082 L2172.96 326.383 L2177.22 326.383 L2177.22 352.309 L2172.96 352.309 L2172.96 348.327 Q2171.41 350.688 2169.35 351.846 Q2167.32 352.98 2164.61 352.98 Q2160.14 352.98 2157.83 350.202 Q2155.51 347.424 2155.51 342.077 M2166.23 325.758 L2166.23 325.758 Z\" fill=\"#000000\" fill-rule=\"evenodd\" fill-opacity=\"1\" /><path clip-path=\"url(#clip770)\" d=\"M 0 0 M2198.22 327.147 L2198.22 331.174 Q2196.41 330.249 2194.47 329.786 Q2192.52 329.323 2190.44 329.323 Q2187.27 329.323 2185.67 330.295 Q2184.1 331.267 2184.1 333.211 Q2184.1 334.693 2185.23 335.549 Q2186.37 336.383 2189.79 337.147 L2191.25 337.471 Q2195.79 338.443 2197.69 340.225 Q2199.61 341.985 2199.61 345.156 Q2199.61 348.767 2196.74 350.873 Q2193.89 352.98 2188.89 352.98 Q2186.81 352.98 2184.54 352.563 Q2182.29 352.17 2179.79 351.36 L2179.79 346.961 Q2182.15 348.188 2184.45 348.813 Q2186.74 349.415 2188.98 349.415 Q2191.99 349.415 2193.61 348.397 Q2195.23 347.355 2195.23 345.48 Q2195.23 343.744 2194.05 342.818 Q2192.89 341.892 2188.94 341.036 L2187.45 340.688 Q2183.5 339.855 2181.74 338.142 Q2179.98 336.406 2179.98 333.397 Q2179.98 329.739 2182.57 327.749 Q2185.16 325.758 2189.93 325.758 Q2192.29 325.758 2194.38 326.105 Q2196.46 326.452 2198.22 327.147 Z\" fill=\"#000000\" fill-rule=\"evenodd\" fill-opacity=\"1\" /><path clip-path=\"url(#clip770)\" d=\"M 0 0 M2208.29 319.022 L2208.29 326.383 L2217.06 326.383 L2217.06 329.693 L2208.29 329.693 L2208.29 343.767 Q2208.29 346.938 2209.14 347.841 Q2210.02 348.744 2212.69 348.744 L2217.06 348.744 L2217.06 352.309 L2212.69 352.309 Q2207.76 352.309 2205.88 350.48 Q2204.01 348.628 2204.01 343.767 L2204.01 329.693 L2200.88 329.693 L2200.88 326.383 L2204.01 326.383 L2204.01 319.022 L2208.29 319.022 Z\" fill=\"#000000\" fill-rule=\"evenodd\" fill-opacity=\"1\" /><path clip-path=\"url(#clip770)\" d=\"M 0 0 M2243.7 338.281 L2243.7 340.364 L2224.12 340.364 Q2224.4 344.762 2226.76 347.077 Q2229.14 349.369 2233.38 349.369 Q2235.83 349.369 2238.13 348.767 Q2240.44 348.165 2242.71 346.961 L2242.71 350.989 Q2240.42 351.961 2238.01 352.471 Q2235.6 352.98 2233.13 352.98 Q2226.92 352.98 2223.29 349.369 Q2219.68 345.758 2219.68 339.6 Q2219.68 333.235 2223.1 329.508 Q2226.55 325.758 2232.38 325.758 Q2237.62 325.758 2240.65 329.137 Q2243.7 332.494 2243.7 338.281 M2239.45 337.031 Q2239.4 333.536 2237.48 331.452 Q2235.58 329.369 2232.43 329.369 Q2228.87 329.369 2226.71 331.383 Q2224.58 333.397 2224.26 337.054 L2239.45 337.031 Z\" fill=\"#000000\" fill-rule=\"evenodd\" fill-opacity=\"1\" /><path clip-path=\"url(#clip770)\" d=\"M 0 0 M2263.2 330.364 Q2262.48 329.948 2261.62 329.762 Q2260.79 329.554 2259.77 329.554 Q2256.16 329.554 2254.21 331.915 Q2252.29 334.253 2252.29 338.651 L2252.29 352.309 L2248.01 352.309 L2248.01 326.383 L2252.29 326.383 L2252.29 330.411 Q2253.63 328.049 2255.79 326.915 Q2257.94 325.758 2261.02 325.758 Q2261.46 325.758 2261.99 325.827 Q2262.52 325.874 2263.17 325.989 L2263.2 330.364 Z\" fill=\"#000000\" fill-rule=\"evenodd\" fill-opacity=\"1\" /><path clip-path=\"url(#clip770)\" d=\"M 0 0 M2283.38 317.749 L2301.74 317.749 L2301.74 321.684 L2287.66 321.684 L2287.66 330.156 Q2288.68 329.809 2289.7 329.647 Q2290.72 329.462 2291.74 329.462 Q2297.52 329.462 2300.9 332.633 Q2304.28 335.804 2304.28 341.221 Q2304.28 346.799 2300.81 349.901 Q2297.34 352.98 2291.02 352.98 Q2288.84 352.98 2286.57 352.61 Q2284.33 352.239 2281.92 351.498 L2281.92 346.799 Q2284.01 347.934 2286.23 348.489 Q2288.45 349.045 2290.93 349.045 Q2294.93 349.045 2297.27 346.938 Q2299.61 344.832 2299.61 341.221 Q2299.61 337.61 2297.27 335.503 Q2294.93 333.397 2290.93 333.397 Q2289.05 333.397 2287.18 333.813 Q2285.32 334.23 2283.38 335.11 L2283.38 317.749 Z\" fill=\"#000000\" fill-rule=\"evenodd\" fill-opacity=\"1\" /><path clip-path=\"url(#clip770)\" d=\"\n",
       "M1950.41 419.701 L2091.39 419.701 L2091.39 371.317 L1950.41 371.317 L1950.41 419.701  Z\n",
       "  \" fill=\"#386caf\" fill-rule=\"evenodd\" fill-opacity=\"1\"/>\n",
       "<polyline clip-path=\"url(#clip770)\" style=\"stroke:#386caf; stroke-width:4; stroke-opacity:1; fill:none\" points=\"\n",
       "  1950.41,371.317 2091.39,371.317 \n",
       "  \"/>\n",
       "<path clip-path=\"url(#clip770)\" d=\"M 0 0 M2142.76 380.891 L2142.76 385.821 Q2140.39 383.622 2137.71 382.534 Q2135.05 381.446 2132.04 381.446 Q2126.11 381.446 2122.96 385.08 Q2119.82 388.692 2119.82 395.543 Q2119.82 402.372 2122.96 406.006 Q2126.11 409.617 2132.04 409.617 Q2135.05 409.617 2137.71 408.529 Q2140.39 407.441 2142.76 405.242 L2142.76 410.127 Q2140.3 411.793 2137.55 412.627 Q2134.82 413.46 2131.76 413.46 Q2123.91 413.46 2119.4 408.668 Q2114.89 403.853 2114.89 395.543 Q2114.89 387.21 2119.4 382.418 Q2123.91 377.604 2131.76 377.604 Q2134.86 377.604 2137.59 378.437 Q2140.35 379.247 2142.76 380.891 Z\" fill=\"#000000\" fill-rule=\"evenodd\" fill-opacity=\"1\" /><path clip-path=\"url(#clip770)\" d=\"M 0 0 M2147.22 376.77 L2151.48 376.77 L2151.48 412.789 L2147.22 412.789 L2147.22 376.77 Z\" fill=\"#000000\" fill-rule=\"evenodd\" fill-opacity=\"1\" /><path clip-path=\"url(#clip770)\" d=\"M 0 0 M2155.51 402.557 L2155.51 386.863 L2159.77 386.863 L2159.77 402.395 Q2159.77 406.076 2161.2 407.928 Q2162.64 409.756 2165.51 409.756 Q2168.96 409.756 2170.95 407.557 Q2172.96 405.358 2172.96 401.562 L2172.96 386.863 L2177.22 386.863 L2177.22 412.789 L2172.96 412.789 L2172.96 408.807 Q2171.41 411.168 2169.35 412.326 Q2167.32 413.46 2164.61 413.46 Q2160.14 413.46 2157.83 410.682 Q2155.51 407.904 2155.51 402.557 M2166.23 386.238 L2166.23 386.238 Z\" fill=\"#000000\" fill-rule=\"evenodd\" fill-opacity=\"1\" /><path clip-path=\"url(#clip770)\" d=\"M 0 0 M2198.22 387.627 L2198.22 391.654 Q2196.41 390.729 2194.47 390.266 Q2192.52 389.803 2190.44 389.803 Q2187.27 389.803 2185.67 390.775 Q2184.1 391.747 2184.1 393.691 Q2184.1 395.173 2185.23 396.029 Q2186.37 396.863 2189.79 397.627 L2191.25 397.951 Q2195.79 398.923 2197.69 400.705 Q2199.61 402.465 2199.61 405.636 Q2199.61 409.247 2196.74 411.353 Q2193.89 413.46 2188.89 413.46 Q2186.81 413.46 2184.54 413.043 Q2182.29 412.65 2179.79 411.84 L2179.79 407.441 Q2182.15 408.668 2184.45 409.293 Q2186.74 409.895 2188.98 409.895 Q2191.99 409.895 2193.61 408.877 Q2195.23 407.835 2195.23 405.96 Q2195.23 404.224 2194.05 403.298 Q2192.89 402.372 2188.94 401.516 L2187.45 401.168 Q2183.5 400.335 2181.74 398.622 Q2179.98 396.886 2179.98 393.877 Q2179.98 390.219 2182.57 388.229 Q2185.16 386.238 2189.93 386.238 Q2192.29 386.238 2194.38 386.585 Q2196.46 386.932 2198.22 387.627 Z\" fill=\"#000000\" fill-rule=\"evenodd\" fill-opacity=\"1\" /><path clip-path=\"url(#clip770)\" d=\"M 0 0 M2208.29 379.502 L2208.29 386.863 L2217.06 386.863 L2217.06 390.173 L2208.29 390.173 L2208.29 404.247 Q2208.29 407.418 2209.14 408.321 Q2210.02 409.224 2212.69 409.224 L2217.06 409.224 L2217.06 412.789 L2212.69 412.789 Q2207.76 412.789 2205.88 410.96 Q2204.01 409.108 2204.01 404.247 L2204.01 390.173 L2200.88 390.173 L2200.88 386.863 L2204.01 386.863 L2204.01 379.502 L2208.29 379.502 Z\" fill=\"#000000\" fill-rule=\"evenodd\" fill-opacity=\"1\" /><path clip-path=\"url(#clip770)\" d=\"M 0 0 M2243.7 398.761 L2243.7 400.844 L2224.12 400.844 Q2224.4 405.242 2226.76 407.557 Q2229.14 409.849 2233.38 409.849 Q2235.83 409.849 2238.13 409.247 Q2240.44 408.645 2242.71 407.441 L2242.71 411.469 Q2240.42 412.441 2238.01 412.951 Q2235.6 413.46 2233.13 413.46 Q2226.92 413.46 2223.29 409.849 Q2219.68 406.238 2219.68 400.08 Q2219.68 393.715 2223.1 389.988 Q2226.55 386.238 2232.38 386.238 Q2237.62 386.238 2240.65 389.617 Q2243.7 392.974 2243.7 398.761 M2239.45 397.511 Q2239.4 394.016 2237.48 391.932 Q2235.58 389.849 2232.43 389.849 Q2228.87 389.849 2226.71 391.863 Q2224.58 393.877 2224.26 397.534 L2239.45 397.511 Z\" fill=\"#000000\" fill-rule=\"evenodd\" fill-opacity=\"1\" /><path clip-path=\"url(#clip770)\" d=\"M 0 0 M2263.2 390.844 Q2262.48 390.428 2261.62 390.242 Q2260.79 390.034 2259.77 390.034 Q2256.16 390.034 2254.21 392.395 Q2252.29 394.733 2252.29 399.131 L2252.29 412.789 L2248.01 412.789 L2248.01 386.863 L2252.29 386.863 L2252.29 390.891 Q2253.63 388.529 2255.79 387.395 Q2257.94 386.238 2261.02 386.238 Q2261.46 386.238 2261.99 386.307 Q2262.52 386.354 2263.17 386.469 L2263.2 390.844 Z\" fill=\"#000000\" fill-rule=\"evenodd\" fill-opacity=\"1\" /><path clip-path=\"url(#clip770)\" d=\"M 0 0 M2296.18 382.303 L2284.38 400.752 L2296.18 400.752 L2296.18 382.303 M2294.95 378.229 L2300.83 378.229 L2300.83 400.752 L2305.76 400.752 L2305.76 404.641 L2300.83 404.641 L2300.83 412.789 L2296.18 412.789 L2296.18 404.641 L2280.58 404.641 L2280.58 400.127 L2294.95 378.229 Z\" fill=\"#000000\" fill-rule=\"evenodd\" fill-opacity=\"1\" /><path clip-path=\"url(#clip770)\" d=\"\n",
       "M1950.41 480.181 L2091.39 480.181 L2091.39 431.797 L1950.41 431.797 L1950.41 480.181  Z\n",
       "  \" fill=\"#ef027e\" fill-rule=\"evenodd\" fill-opacity=\"1\"/>\n",
       "<polyline clip-path=\"url(#clip770)\" style=\"stroke:#ef027e; stroke-width:4; stroke-opacity:1; fill:none\" points=\"\n",
       "  1950.41,431.797 2091.39,431.797 \n",
       "  \"/>\n",
       "<path clip-path=\"url(#clip770)\" d=\"M 0 0 M2142.76 441.371 L2142.76 446.301 Q2140.39 444.102 2137.71 443.014 Q2135.05 441.926 2132.04 441.926 Q2126.11 441.926 2122.96 445.56 Q2119.82 449.172 2119.82 456.023 Q2119.82 462.852 2122.96 466.486 Q2126.11 470.097 2132.04 470.097 Q2135.05 470.097 2137.71 469.009 Q2140.39 467.921 2142.76 465.722 L2142.76 470.607 Q2140.3 472.273 2137.55 473.107 Q2134.82 473.94 2131.76 473.94 Q2123.91 473.94 2119.4 469.148 Q2114.89 464.333 2114.89 456.023 Q2114.89 447.69 2119.4 442.898 Q2123.91 438.084 2131.76 438.084 Q2134.86 438.084 2137.59 438.917 Q2140.35 439.727 2142.76 441.371 Z\" fill=\"#000000\" fill-rule=\"evenodd\" fill-opacity=\"1\" /><path clip-path=\"url(#clip770)\" d=\"M 0 0 M2147.22 437.25 L2151.48 437.25 L2151.48 473.269 L2147.22 473.269 L2147.22 437.25 Z\" fill=\"#000000\" fill-rule=\"evenodd\" fill-opacity=\"1\" /><path clip-path=\"url(#clip770)\" d=\"M 0 0 M2155.51 463.037 L2155.51 447.343 L2159.77 447.343 L2159.77 462.875 Q2159.77 466.556 2161.2 468.408 Q2162.64 470.236 2165.51 470.236 Q2168.96 470.236 2170.95 468.037 Q2172.96 465.838 2172.96 462.042 L2172.96 447.343 L2177.22 447.343 L2177.22 473.269 L2172.96 473.269 L2172.96 469.287 Q2171.41 471.648 2169.35 472.806 Q2167.32 473.94 2164.61 473.94 Q2160.14 473.94 2157.83 471.162 Q2155.51 468.384 2155.51 463.037 M2166.23 446.718 L2166.23 446.718 Z\" fill=\"#000000\" fill-rule=\"evenodd\" fill-opacity=\"1\" /><path clip-path=\"url(#clip770)\" d=\"M 0 0 M2198.22 448.107 L2198.22 452.134 Q2196.41 451.209 2194.47 450.746 Q2192.52 450.283 2190.44 450.283 Q2187.27 450.283 2185.67 451.255 Q2184.1 452.227 2184.1 454.171 Q2184.1 455.653 2185.23 456.509 Q2186.37 457.343 2189.79 458.107 L2191.25 458.431 Q2195.79 459.403 2197.69 461.185 Q2199.61 462.945 2199.61 466.116 Q2199.61 469.727 2196.74 471.833 Q2193.89 473.94 2188.89 473.94 Q2186.81 473.94 2184.54 473.523 Q2182.29 473.13 2179.79 472.32 L2179.79 467.921 Q2182.15 469.148 2184.45 469.773 Q2186.74 470.375 2188.98 470.375 Q2191.99 470.375 2193.61 469.357 Q2195.23 468.315 2195.23 466.44 Q2195.23 464.704 2194.05 463.778 Q2192.89 462.852 2188.94 461.996 L2187.45 461.648 Q2183.5 460.815 2181.74 459.102 Q2179.98 457.366 2179.98 454.357 Q2179.98 450.699 2182.57 448.709 Q2185.16 446.718 2189.93 446.718 Q2192.29 446.718 2194.38 447.065 Q2196.46 447.412 2198.22 448.107 Z\" fill=\"#000000\" fill-rule=\"evenodd\" fill-opacity=\"1\" /><path clip-path=\"url(#clip770)\" d=\"M 0 0 M2208.29 439.982 L2208.29 447.343 L2217.06 447.343 L2217.06 450.653 L2208.29 450.653 L2208.29 464.727 Q2208.29 467.898 2209.14 468.801 Q2210.02 469.704 2212.69 469.704 L2217.06 469.704 L2217.06 473.269 L2212.69 473.269 Q2207.76 473.269 2205.88 471.44 Q2204.01 469.588 2204.01 464.727 L2204.01 450.653 L2200.88 450.653 L2200.88 447.343 L2204.01 447.343 L2204.01 439.982 L2208.29 439.982 Z\" fill=\"#000000\" fill-rule=\"evenodd\" fill-opacity=\"1\" /><path clip-path=\"url(#clip770)\" d=\"M 0 0 M2243.7 459.241 L2243.7 461.324 L2224.12 461.324 Q2224.4 465.722 2226.76 468.037 Q2229.14 470.329 2233.38 470.329 Q2235.83 470.329 2238.13 469.727 Q2240.44 469.125 2242.71 467.921 L2242.71 471.949 Q2240.42 472.921 2238.01 473.431 Q2235.6 473.94 2233.13 473.94 Q2226.92 473.94 2223.29 470.329 Q2219.68 466.718 2219.68 460.56 Q2219.68 454.195 2223.1 450.468 Q2226.55 446.718 2232.38 446.718 Q2237.62 446.718 2240.65 450.097 Q2243.7 453.454 2243.7 459.241 M2239.45 457.991 Q2239.4 454.496 2237.48 452.412 Q2235.58 450.329 2232.43 450.329 Q2228.87 450.329 2226.71 452.343 Q2224.58 454.357 2224.26 458.014 L2239.45 457.991 Z\" fill=\"#000000\" fill-rule=\"evenodd\" fill-opacity=\"1\" /><path clip-path=\"url(#clip770)\" d=\"M 0 0 M2263.2 451.324 Q2262.48 450.908 2261.62 450.722 Q2260.79 450.514 2259.77 450.514 Q2256.16 450.514 2254.21 452.875 Q2252.29 455.213 2252.29 459.611 L2252.29 473.269 L2248.01 473.269 L2248.01 447.343 L2252.29 447.343 L2252.29 451.371 Q2253.63 449.009 2255.79 447.875 Q2257.94 446.718 2261.02 446.718 Q2261.46 446.718 2261.99 446.787 Q2262.52 446.834 2263.17 446.949 L2263.2 451.324 Z\" fill=\"#000000\" fill-rule=\"evenodd\" fill-opacity=\"1\" /><path clip-path=\"url(#clip770)\" d=\"M 0 0 M2297.5 454.634 Q2300.86 455.352 2302.73 457.621 Q2304.63 459.889 2304.63 463.222 Q2304.63 468.338 2301.11 471.139 Q2297.59 473.94 2291.11 473.94 Q2288.94 473.94 2286.62 473.5 Q2284.33 473.083 2281.88 472.227 L2281.88 467.713 Q2283.82 468.847 2286.13 469.426 Q2288.45 470.005 2290.97 470.005 Q2295.37 470.005 2297.66 468.269 Q2299.98 466.533 2299.98 463.222 Q2299.98 460.167 2297.82 458.454 Q2295.69 456.718 2291.88 456.718 L2287.85 456.718 L2287.85 452.875 L2292.06 452.875 Q2295.51 452.875 2297.34 451.509 Q2299.17 450.121 2299.17 447.528 Q2299.17 444.866 2297.27 443.454 Q2295.39 442.019 2291.88 442.019 Q2289.95 442.019 2287.76 442.435 Q2285.56 442.852 2282.92 443.732 L2282.92 439.565 Q2285.58 438.824 2287.89 438.454 Q2290.23 438.084 2292.29 438.084 Q2297.62 438.084 2300.72 440.514 Q2303.82 442.922 2303.82 447.042 Q2303.82 449.912 2302.18 451.903 Q2300.53 453.871 2297.5 454.634 Z\" fill=\"#000000\" fill-rule=\"evenodd\" fill-opacity=\"1\" /><path clip-path=\"url(#clip770)\" d=\"\n",
       "M1950.41 540.661 L2091.39 540.661 L2091.39 492.277 L1950.41 492.277 L1950.41 540.661  Z\n",
       "  \" fill=\"#be5b16\" fill-rule=\"evenodd\" fill-opacity=\"1\"/>\n",
       "<polyline clip-path=\"url(#clip770)\" style=\"stroke:#be5b16; stroke-width:4; stroke-opacity:1; fill:none\" points=\"\n",
       "  1950.41,492.277 2091.39,492.277 \n",
       "  \"/>\n",
       "<path clip-path=\"url(#clip770)\" d=\"M 0 0 M2142.76 501.851 L2142.76 506.781 Q2140.39 504.582 2137.71 503.494 Q2135.05 502.406 2132.04 502.406 Q2126.11 502.406 2122.96 506.04 Q2119.82 509.652 2119.82 516.503 Q2119.82 523.332 2122.96 526.966 Q2126.11 530.577 2132.04 530.577 Q2135.05 530.577 2137.71 529.489 Q2140.39 528.401 2142.76 526.202 L2142.76 531.087 Q2140.3 532.753 2137.55 533.587 Q2134.82 534.42 2131.76 534.42 Q2123.91 534.42 2119.4 529.628 Q2114.89 524.813 2114.89 516.503 Q2114.89 508.17 2119.4 503.378 Q2123.91 498.564 2131.76 498.564 Q2134.86 498.564 2137.59 499.397 Q2140.35 500.207 2142.76 501.851 Z\" fill=\"#000000\" fill-rule=\"evenodd\" fill-opacity=\"1\" /><path clip-path=\"url(#clip770)\" d=\"M 0 0 M2147.22 497.73 L2151.48 497.73 L2151.48 533.749 L2147.22 533.749 L2147.22 497.73 Z\" fill=\"#000000\" fill-rule=\"evenodd\" fill-opacity=\"1\" /><path clip-path=\"url(#clip770)\" d=\"M 0 0 M2155.51 523.517 L2155.51 507.823 L2159.77 507.823 L2159.77 523.355 Q2159.77 527.036 2161.2 528.888 Q2162.64 530.716 2165.51 530.716 Q2168.96 530.716 2170.95 528.517 Q2172.96 526.318 2172.96 522.522 L2172.96 507.823 L2177.22 507.823 L2177.22 533.749 L2172.96 533.749 L2172.96 529.767 Q2171.41 532.128 2169.35 533.286 Q2167.32 534.42 2164.61 534.42 Q2160.14 534.42 2157.83 531.642 Q2155.51 528.864 2155.51 523.517 M2166.23 507.198 L2166.23 507.198 Z\" fill=\"#000000\" fill-rule=\"evenodd\" fill-opacity=\"1\" /><path clip-path=\"url(#clip770)\" d=\"M 0 0 M2198.22 508.587 L2198.22 512.614 Q2196.41 511.689 2194.47 511.226 Q2192.52 510.763 2190.44 510.763 Q2187.27 510.763 2185.67 511.735 Q2184.1 512.707 2184.1 514.651 Q2184.1 516.133 2185.23 516.989 Q2186.37 517.823 2189.79 518.587 L2191.25 518.911 Q2195.79 519.883 2197.69 521.665 Q2199.61 523.425 2199.61 526.596 Q2199.61 530.207 2196.74 532.313 Q2193.89 534.42 2188.89 534.42 Q2186.81 534.42 2184.54 534.003 Q2182.29 533.61 2179.79 532.8 L2179.79 528.401 Q2182.15 529.628 2184.45 530.253 Q2186.74 530.855 2188.98 530.855 Q2191.99 530.855 2193.61 529.837 Q2195.23 528.795 2195.23 526.92 Q2195.23 525.184 2194.05 524.258 Q2192.89 523.332 2188.94 522.476 L2187.45 522.128 Q2183.5 521.295 2181.74 519.582 Q2179.98 517.846 2179.98 514.837 Q2179.98 511.179 2182.57 509.189 Q2185.16 507.198 2189.93 507.198 Q2192.29 507.198 2194.38 507.545 Q2196.46 507.892 2198.22 508.587 Z\" fill=\"#000000\" fill-rule=\"evenodd\" fill-opacity=\"1\" /><path clip-path=\"url(#clip770)\" d=\"M 0 0 M2208.29 500.462 L2208.29 507.823 L2217.06 507.823 L2217.06 511.133 L2208.29 511.133 L2208.29 525.207 Q2208.29 528.378 2209.14 529.281 Q2210.02 530.184 2212.69 530.184 L2217.06 530.184 L2217.06 533.749 L2212.69 533.749 Q2207.76 533.749 2205.88 531.92 Q2204.01 530.068 2204.01 525.207 L2204.01 511.133 L2200.88 511.133 L2200.88 507.823 L2204.01 507.823 L2204.01 500.462 L2208.29 500.462 Z\" fill=\"#000000\" fill-rule=\"evenodd\" fill-opacity=\"1\" /><path clip-path=\"url(#clip770)\" d=\"M 0 0 M2243.7 519.721 L2243.7 521.804 L2224.12 521.804 Q2224.4 526.202 2226.76 528.517 Q2229.14 530.809 2233.38 530.809 Q2235.83 530.809 2238.13 530.207 Q2240.44 529.605 2242.71 528.401 L2242.71 532.429 Q2240.42 533.401 2238.01 533.911 Q2235.6 534.42 2233.13 534.42 Q2226.92 534.42 2223.29 530.809 Q2219.68 527.198 2219.68 521.04 Q2219.68 514.675 2223.1 510.948 Q2226.55 507.198 2232.38 507.198 Q2237.62 507.198 2240.65 510.577 Q2243.7 513.934 2243.7 519.721 M2239.45 518.471 Q2239.4 514.976 2237.48 512.892 Q2235.58 510.809 2232.43 510.809 Q2228.87 510.809 2226.71 512.823 Q2224.58 514.837 2224.26 518.494 L2239.45 518.471 Z\" fill=\"#000000\" fill-rule=\"evenodd\" fill-opacity=\"1\" /><path clip-path=\"url(#clip770)\" d=\"M 0 0 M2263.2 511.804 Q2262.48 511.388 2261.62 511.202 Q2260.79 510.994 2259.77 510.994 Q2256.16 510.994 2254.21 513.355 Q2252.29 515.693 2252.29 520.091 L2252.29 533.749 L2248.01 533.749 L2248.01 507.823 L2252.29 507.823 L2252.29 511.851 Q2253.63 509.489 2255.79 508.355 Q2257.94 507.198 2261.02 507.198 Q2261.46 507.198 2261.99 507.267 Q2262.52 507.314 2263.17 507.429 L2263.2 511.804 Z\" fill=\"#000000\" fill-rule=\"evenodd\" fill-opacity=\"1\" /><path clip-path=\"url(#clip770)\" d=\"M 0 0 M2287.36 529.813 L2303.68 529.813 L2303.68 533.749 L2281.74 533.749 L2281.74 529.813 Q2284.4 527.059 2288.98 522.429 Q2293.59 517.776 2294.77 516.434 Q2297.01 513.911 2297.89 512.175 Q2298.8 510.415 2298.8 508.726 Q2298.8 505.971 2296.85 504.235 Q2294.93 502.499 2291.83 502.499 Q2289.63 502.499 2287.18 503.263 Q2284.75 504.027 2281.97 505.577 L2281.97 500.855 Q2284.79 499.721 2287.25 499.142 Q2289.7 498.564 2291.74 498.564 Q2297.11 498.564 2300.3 501.249 Q2303.5 503.934 2303.5 508.425 Q2303.5 510.554 2302.69 512.476 Q2301.9 514.374 2299.79 516.966 Q2299.21 517.638 2296.11 520.855 Q2293.01 524.05 2287.36 529.813 Z\" fill=\"#000000\" fill-rule=\"evenodd\" fill-opacity=\"1\" /><path clip-path=\"url(#clip770)\" d=\"\n",
       "M1950.41 601.141 L2091.39 601.141 L2091.39 552.757 L1950.41 552.757 L1950.41 601.141  Z\n",
       "  \" fill=\"#666666\" fill-rule=\"evenodd\" fill-opacity=\"1\"/>\n",
       "<polyline clip-path=\"url(#clip770)\" style=\"stroke:#666666; stroke-width:4; stroke-opacity:1; fill:none\" points=\"\n",
       "  1950.41,552.757 2091.39,552.757 \n",
       "  \"/>\n",
       "<path clip-path=\"url(#clip770)\" d=\"M 0 0 M2142.76 562.331 L2142.76 567.261 Q2140.39 565.062 2137.71 563.974 Q2135.05 562.886 2132.04 562.886 Q2126.11 562.886 2122.96 566.52 Q2119.82 570.132 2119.82 576.983 Q2119.82 583.812 2122.96 587.446 Q2126.11 591.057 2132.04 591.057 Q2135.05 591.057 2137.71 589.969 Q2140.39 588.881 2142.76 586.682 L2142.76 591.567 Q2140.3 593.233 2137.55 594.067 Q2134.82 594.9 2131.76 594.9 Q2123.91 594.9 2119.4 590.108 Q2114.89 585.293 2114.89 576.983 Q2114.89 568.65 2119.4 563.858 Q2123.91 559.044 2131.76 559.044 Q2134.86 559.044 2137.59 559.877 Q2140.35 560.687 2142.76 562.331 Z\" fill=\"#000000\" fill-rule=\"evenodd\" fill-opacity=\"1\" /><path clip-path=\"url(#clip770)\" d=\"M 0 0 M2147.22 558.21 L2151.48 558.21 L2151.48 594.229 L2147.22 594.229 L2147.22 558.21 Z\" fill=\"#000000\" fill-rule=\"evenodd\" fill-opacity=\"1\" /><path clip-path=\"url(#clip770)\" d=\"M 0 0 M2155.51 583.997 L2155.51 568.303 L2159.77 568.303 L2159.77 583.835 Q2159.77 587.516 2161.2 589.368 Q2162.64 591.196 2165.51 591.196 Q2168.96 591.196 2170.95 588.997 Q2172.96 586.798 2172.96 583.002 L2172.96 568.303 L2177.22 568.303 L2177.22 594.229 L2172.96 594.229 L2172.96 590.247 Q2171.41 592.608 2169.35 593.766 Q2167.32 594.9 2164.61 594.9 Q2160.14 594.9 2157.83 592.122 Q2155.51 589.344 2155.51 583.997 M2166.23 567.678 L2166.23 567.678 Z\" fill=\"#000000\" fill-rule=\"evenodd\" fill-opacity=\"1\" /><path clip-path=\"url(#clip770)\" d=\"M 0 0 M2198.22 569.067 L2198.22 573.094 Q2196.41 572.169 2194.47 571.706 Q2192.52 571.243 2190.44 571.243 Q2187.27 571.243 2185.67 572.215 Q2184.1 573.187 2184.1 575.131 Q2184.1 576.613 2185.23 577.469 Q2186.37 578.303 2189.79 579.067 L2191.25 579.391 Q2195.79 580.363 2197.69 582.145 Q2199.61 583.905 2199.61 587.076 Q2199.61 590.687 2196.74 592.793 Q2193.89 594.9 2188.89 594.9 Q2186.81 594.9 2184.54 594.483 Q2182.29 594.09 2179.79 593.28 L2179.79 588.881 Q2182.15 590.108 2184.45 590.733 Q2186.74 591.335 2188.98 591.335 Q2191.99 591.335 2193.61 590.317 Q2195.23 589.275 2195.23 587.4 Q2195.23 585.664 2194.05 584.738 Q2192.89 583.812 2188.94 582.956 L2187.45 582.608 Q2183.5 581.775 2181.74 580.062 Q2179.98 578.326 2179.98 575.317 Q2179.98 571.659 2182.57 569.669 Q2185.16 567.678 2189.93 567.678 Q2192.29 567.678 2194.38 568.025 Q2196.46 568.372 2198.22 569.067 Z\" fill=\"#000000\" fill-rule=\"evenodd\" fill-opacity=\"1\" /><path clip-path=\"url(#clip770)\" d=\"M 0 0 M2208.29 560.942 L2208.29 568.303 L2217.06 568.303 L2217.06 571.613 L2208.29 571.613 L2208.29 585.687 Q2208.29 588.858 2209.14 589.761 Q2210.02 590.664 2212.69 590.664 L2217.06 590.664 L2217.06 594.229 L2212.69 594.229 Q2207.76 594.229 2205.88 592.4 Q2204.01 590.548 2204.01 585.687 L2204.01 571.613 L2200.88 571.613 L2200.88 568.303 L2204.01 568.303 L2204.01 560.942 L2208.29 560.942 Z\" fill=\"#000000\" fill-rule=\"evenodd\" fill-opacity=\"1\" /><path clip-path=\"url(#clip770)\" d=\"M 0 0 M2243.7 580.201 L2243.7 582.284 L2224.12 582.284 Q2224.4 586.682 2226.76 588.997 Q2229.14 591.289 2233.38 591.289 Q2235.83 591.289 2238.13 590.687 Q2240.44 590.085 2242.71 588.881 L2242.71 592.909 Q2240.42 593.881 2238.01 594.391 Q2235.6 594.9 2233.13 594.9 Q2226.92 594.9 2223.29 591.289 Q2219.68 587.678 2219.68 581.52 Q2219.68 575.155 2223.1 571.428 Q2226.55 567.678 2232.38 567.678 Q2237.62 567.678 2240.65 571.057 Q2243.7 574.414 2243.7 580.201 M2239.45 578.951 Q2239.4 575.456 2237.48 573.372 Q2235.58 571.289 2232.43 571.289 Q2228.87 571.289 2226.71 573.303 Q2224.58 575.317 2224.26 578.974 L2239.45 578.951 Z\" fill=\"#000000\" fill-rule=\"evenodd\" fill-opacity=\"1\" /><path clip-path=\"url(#clip770)\" d=\"M 0 0 M2263.2 572.284 Q2262.48 571.868 2261.62 571.682 Q2260.79 571.474 2259.77 571.474 Q2256.16 571.474 2254.21 573.835 Q2252.29 576.173 2252.29 580.571 L2252.29 594.229 L2248.01 594.229 L2248.01 568.303 L2252.29 568.303 L2252.29 572.331 Q2253.63 569.969 2255.79 568.835 Q2257.94 567.678 2261.02 567.678 Q2261.46 567.678 2261.99 567.747 Q2262.52 567.794 2263.17 567.909 L2263.2 572.284 Z\" fill=\"#000000\" fill-rule=\"evenodd\" fill-opacity=\"1\" /><path clip-path=\"url(#clip770)\" d=\"M 0 0 M2284.14 590.293 L2291.78 590.293 L2291.78 563.928 L2283.47 565.595 L2283.47 561.335 L2291.74 559.669 L2296.41 559.669 L2296.41 590.293 L2304.05 590.293 L2304.05 594.229 L2284.14 594.229 L2284.14 590.293 Z\" fill=\"#000000\" fill-rule=\"evenodd\" fill-opacity=\"1\" /></svg>\n"
      ]
     },
     "metadata": {},
     "output_type": "display_data"
    }
   ],
   "source": [
    "mat = prepare_portfolio(ls)\n",
    "plotmat = cum_columns(mat, normalize=true)\n",
    "cum_plot(plotmat)"
   ]
  },
  {
   "cell_type": "code",
   "execution_count": 437,
   "metadata": {},
   "outputs": [],
   "source": [
    "savefig(\"figures/bio_em_portfolio_$upper\")"
   ]
  },
  {
   "cell_type": "markdown",
   "metadata": {},
   "source": [
    "#### Number of Clusters"
   ]
  },
  {
   "cell_type": "markdown",
   "metadata": {},
   "source": [
    "* https://scikit-learn.org/stable/auto_examples/cluster/plot_kmeans_silhouette_analysis.html#sphx-glr-auto-examples-cluster-plot-kmeans-silhouette-analysis-py"
   ]
  },
  {
   "cell_type": "markdown",
   "metadata": {},
   "source": [
    "using methods above, determined that 3 clusters"
   ]
  },
  {
   "cell_type": "markdown",
   "metadata": {},
   "source": [
    "#### Verifying Clusters"
   ]
  },
  {
   "cell_type": "code",
   "execution_count": 401,
   "metadata": {
    "scrolled": true
   },
   "outputs": [
    {
     "data": {
      "text/plain": [
       "738-element Array{Tuple{Int64,Int64},1}:\n",
       " (3, 3)\n",
       " (2, 1)\n",
       " (2, 3)\n",
       " (2, 1)\n",
       " (2, 1)\n",
       " (2, 1)\n",
       " (2, 3)\n",
       " (2, 3)\n",
       " (1, 3)\n",
       " (1, 3)\n",
       " (1, 3)\n",
       " (2, 3)\n",
       " (1, 3)\n",
       " (1, 3)\n",
       " (1, 3)\n",
       " (2, 3)\n",
       " (2, 3)\n",
       " (1, 3)\n",
       " (1, 3)\n",
       " (1, 1)\n",
       " (2, 1)\n",
       " (2, 3)\n",
       " (2, 3)\n",
       " (2, 3)\n",
       " (2, 1)\n",
       " (2, 1)\n",
       " (2, 3)\n",
       " (1, 3)\n",
       " (2, 1)\n",
       " (2, 1)\n",
       " (2, 3)\n",
       " (2, 3)\n",
       " (1, 3)\n",
       " (2, 3)\n",
       " (2, 3)\n",
       " (1, 3)\n",
       " (2, 3)\n",
       " (1, 3)\n",
       " (2, 3)\n",
       " (1, 3)\n",
       " (2, 3)\n",
       " (2, 3)\n",
       " (2, 1)\n",
       " (2, 1)\n",
       " (1, 3)\n",
       " (2, 3)\n",
       " (2, 3)\n",
       " (2, 3)\n",
       " ⋮\n",
       " (1, 3)\n",
       " (2, 3)\n",
       " (2, 1)\n",
       " (1, 3)\n",
       " (2, 3)\n",
       " (2, 3)\n",
       " (2, 1)\n",
       " (2, 3)\n",
       " (2, 3)\n",
       " (2, 3)\n",
       " (2, 3)\n",
       " (3, 3)\n",
       " (2, 1)\n",
       " (3, 3)\n",
       " (2, 3)\n",
       " (1, 3)\n",
       " (1, 3)\n",
       " (2, 3)\n",
       " (2, 1)\n",
       " (1, 1)\n",
       " (2, 3)\n",
       " (2, 3)\n",
       " (2, 3)\n",
       " (1, 3)\n",
       " (1, 3)\n",
       " (2, 1)\n",
       " (2, 1)\n",
       " (1, 3)\n",
       " (2, 1)\n",
       " (2, 1)\n",
       " (2, 3)\n",
       " (2, 3)\n",
       " (1, 3)\n",
       " (2, 3)\n",
       " (2, 3)\n",
       " (1, 1)\n",
       " (2, 3)\n",
       " (2, 1)\n",
       " (2, 3)\n",
       " (1, 3)\n",
       " (2, 3)\n",
       " (1, 3)\n",
       " (1, 3)\n",
       " (1, 3)\n",
       " (1, 3)\n",
       " (1, 3)\n",
       " (1, 3)"
      ]
     },
     "execution_count": 401,
     "metadata": {},
     "output_type": "execute_result"
    }
   ],
   "source": [
    "y_1h = map(x-> if (x == \"RB\") 1 else 3 end , y[train])\n",
    "collect(zip(assignments[2], y_1h))"
   ]
  },
  {
   "cell_type": "code",
   "execution_count": 402,
   "metadata": {},
   "outputs": [
    {
     "data": {
      "text/plain": [
       "0.08212566874325919"
      ]
     },
     "execution_count": 402,
     "metadata": {},
     "output_type": "execute_result"
    }
   ],
   "source": [
    "mutualinfo(assignments[2], y_1h)"
   ]
  },
  {
   "cell_type": "code",
   "execution_count": 403,
   "metadata": {},
   "outputs": [
    {
     "data": {
      "text/plain": [
       "0.08212566874325888"
      ]
     },
     "execution_count": 403,
     "metadata": {},
     "output_type": "execute_result"
    }
   ],
   "source": [
    "vmeasure(assignments[2], y_1h)"
   ]
  },
  {
   "cell_type": "code",
   "execution_count": 404,
   "metadata": {},
   "outputs": [
    {
     "data": {
      "text/plain": [
       "(-0.01455863310929451, 0.4997665037708722, 0.5002334962291278, -0.00046699245825565446)"
      ]
     },
     "execution_count": 404,
     "metadata": {},
     "output_type": "execute_result"
    }
   ],
   "source": [
    "randindex(assignments[2], y_1h)"
   ]
  },
  {
   "cell_type": "code",
   "execution_count": 332,
   "metadata": {},
   "outputs": [
    {
     "data": {
      "text/plain": [
       "1.2204090626662252"
      ]
     },
     "execution_count": 332,
     "metadata": {},
     "output_type": "execute_result"
    }
   ],
   "source": [
    "varinfo(assignments[2], y_1h)"
   ]
  },
  {
   "cell_type": "markdown",
   "metadata": {},
   "source": [
    "# Dimensionality Reduction\n",
    "Apply the dimensionality reduction algorithms to the two datasets and describe what you see.\n"
   ]
  },
  {
   "cell_type": "markdown",
   "metadata": {},
   "source": [
    "### PCA"
   ]
  },
  {
   "cell_type": "code",
   "execution_count": 438,
   "metadata": {
    "scrolled": true
   },
   "outputs": [
    {
     "data": {
      "text/plain": [
       "\u001b[35mPrincipal component analysis. Learns a linear transformation to\u001b[39m\n",
       "\u001b[35mproject the data  on a lower dimensional space while preserving most of the initial\u001b[39m\n",
       "\u001b[35mvariance.\u001b[39m\n",
       "\n",
       "\u001b[35m→ based on [MultivariateStats](https://github.com/JuliaStats/MultivariateStats.jl).\u001b[39m\n",
       "\u001b[35m→ do `@load PCA pkg=\"MultivariateStats\"` to use the model.\u001b[39m\n",
       "\u001b[35m→ do `?PCA` for documentation.\u001b[39m\n",
       "(name = \"PCA\",\n",
       " package_name = \"MultivariateStats\",\n",
       " is_supervised = false,\n",
       " docstring = \"Principal component analysis. Learns a linear transformation to\\nproject the data  on a lower dimensional space while preserving most of the initial\\nvariance.\\n\\n→ based on [MultivariateStats](https://github.com/JuliaStats/MultivariateStats.jl).\\n→ do `@load PCA pkg=\\\"MultivariateStats\\\"` to use the model.\\n→ do `?PCA` for documentation.\",\n",
       " hyperparameter_ranges = (nothing, nothing, nothing, nothing),\n",
       " hyperparameter_types = (\"Int64\", \"Symbol\", \"Float64\", \"Union{Nothing, Array{Float64,1}, Real}\"),\n",
       " hyperparameters = (:maxoutdim, :method, :pratio, :mean),\n",
       " implemented_methods = [:clean!, :fit, :fitted_params, :transform],\n",
       " is_pure_julia = true,\n",
       " is_wrapper = false,\n",
       " load_path = \"MLJMultivariateStatsInterface.PCA\",\n",
       " package_license = \"MIT\",\n",
       " package_url = \"https://github.com/JuliaStats/MultivariateStats.jl\",\n",
       " package_uuid = \"6f286f6a-111f-5878-ab1e-185364afe411\",\n",
       " prediction_type = :unknown,\n",
       " supports_online = false,\n",
       " supports_weights = false,\n",
       " input_scitype = Table{_s24} where _s24<:(AbstractArray{_s23,1} where _s23<:Continuous),\n",
       " target_scitype = Unknown,\n",
       " output_scitype = Table{_s24} where _s24<:(AbstractArray{_s23,1} where _s23<:Continuous),)"
      ]
     },
     "execution_count": 438,
     "metadata": {},
     "output_type": "execute_result"
    }
   ],
   "source": [
    "info(\"PCA\")"
   ]
  },
  {
   "cell_type": "code",
   "execution_count": 439,
   "metadata": {},
   "outputs": [
    {
     "name": "stderr",
     "output_type": "stream",
     "text": [
      "┌ Warning: New model type being bound to `PCA2` to avoid conflict with an existing name. \n",
      "└ @ MLJModels /home/andrew/.julia/packages/MLJModels/JR7LJ/src/loading.jl:78\n",
      "┌ Info: Training \u001b[34mMachine{PCA} @091\u001b[39m.\n",
      "└ @ MLJBase /home/andrew/.julia/packages/MLJBase/Ov46j/src/machines.jl:319\n"
     ]
    },
    {
     "data": {
      "text/plain": [
       "\u001b[34mMachine{PCA} @091\u001b[39m trained 1 time.\n",
       "  args: \n",
       "    1:\t\u001b[34mSource @968\u001b[39m ⏎ `Table{AbstractArray{Continuous,1}}`\n"
      ]
     },
     "execution_count": 439,
     "metadata": {},
     "output_type": "execute_result"
    }
   ],
   "source": [
    "model = @load PCA pkg=\"MultivariateStats\" \n",
    "mach = machine(model, X_stand)\n",
    "MLJ.fit!(mach, rows=train)"
   ]
  },
  {
   "cell_type": "code",
   "execution_count": 440,
   "metadata": {
    "scrolled": true
   },
   "outputs": [
    {
     "data": {
      "text/plain": [
       "(indim = 41,\n",
       " outdim = 31,\n",
       " tprincipalvar = 40.640745912578105,\n",
       " tresidualvar = 0.35925408742186704,\n",
       " tvar = 40.99999999999997,\n",
       " mean = [1.5013585075554284e-15, 2.496497438164563e-16, 4.441644282121646e-17, -3.26748564970981e-16, 1.0951793522047615e-16, 1.1087186573831171e-16, -1.4065833713069396e-16, 9.026203452237045e-18, -3.8963111568823247e-17, -1.3178257040266086e-16  …  1.8714328490971474e-16, 3.809057856844033e-16, 7.612098244719907e-17, 1.2937558281539763e-16, 1.7631184076703028e-16, 3.938433439659431e-16, 3.249433242805336e-17, 6.920089313381734e-17, -6.882480132330746e-17, -3.2535702527209446e-16],\n",
       " principalvars = [7.365169278970669, 5.276197258688738, 4.447795939959116, 3.46182804472242, 2.5752129469438554, 2.3507246508157364, 1.53008356261788, 1.3810299002614992, 1.3488981672125044, 1.2477764791908332  …  0.2834910784547285, 0.27220311313547957, 0.24357542929851844, 0.20118635510936028, 0.16105446559250355, 0.14939622617800993, 0.13851026959106083, 0.12705380716001205, 0.10604869992619334, 0.0967431529543019],)"
      ]
     },
     "execution_count": 440,
     "metadata": {},
     "output_type": "execute_result"
    }
   ],
   "source": [
    "report(mach)"
   ]
  },
  {
   "cell_type": "code",
   "execution_count": 446,
   "metadata": {
    "scrolled": true
   },
   "outputs": [
    {
     "data": {
      "text/plain": [
       "31-element Array{Float64,1}:\n",
       " 7.365169278970669\n",
       " 5.276197258688738\n",
       " 4.447795939959116\n",
       " 3.46182804472242\n",
       " 2.5752129469438554\n",
       " 2.3507246508157364\n",
       " 1.53008356261788\n",
       " 1.3810299002614992\n",
       " 1.3488981672125044\n",
       " 1.2477764791908332\n",
       " 1.1390790603797376\n",
       " 0.9682358320449782\n",
       " 0.9562858973658651\n",
       " 0.8964541591885512\n",
       " 0.7711392706182953\n",
       " 0.683389074356612\n",
       " 0.6559329318408003\n",
       " 0.5575077652131084\n",
       " 0.48066097324616114\n",
       " 0.4061393261928559\n",
       " 0.3619427953477185\n",
       " 0.2834910784547285\n",
       " 0.27220311313547957\n",
       " 0.24357542929851844\n",
       " 0.20118635510936028\n",
       " 0.16105446559250355\n",
       " 0.14939622617800993\n",
       " 0.13851026959106083\n",
       " 0.12705380716001205\n",
       " 0.10604869992619334\n",
       " 0.0967431529543019"
      ]
     },
     "execution_count": 446,
     "metadata": {},
     "output_type": "execute_result"
    }
   ],
   "source": [
    "report(mach)[:principalvars]"
   ]
  },
  {
   "cell_type": "code",
   "execution_count": 443,
   "metadata": {
    "scrolled": true
   },
   "outputs": [
    {
     "data": {
      "text/plain": [
       "41×31 Array{Float64,2}:\n",
       " -0.268614    -0.105434      0.106583    …  -0.0529787   -0.3295\n",
       "  0.00731336  -0.273362      0.146162        0.323619     0.0168663\n",
       " -0.171281     0.0881482     0.212152       -0.0669725    0.0972041\n",
       " -0.0892719   -0.00972932   -0.207002       -0.00925766   0.0276623\n",
       " -0.20291      0.00997635   -0.313449        0.235663     0.0136088\n",
       " -0.0950707   -0.246135      0.141048    …  -0.254201    -0.410481\n",
       " -0.271972     0.107273     -0.0529177       0.00644952   0.218579\n",
       " -0.180673     0.22291       0.0527646      -0.0829224    0.261041\n",
       " -0.0260051   -0.117448      0.00285581      0.0522201    0.221153\n",
       " -0.11213     -0.248188     -0.0572392      -0.0292987    0.0419845\n",
       " -0.20286      0.00716187   -0.33353     …   0.145538    -0.101558\n",
       "  0.0796845    0.197379      0.0179564       0.0519477    0.0346639\n",
       " -0.31198     -0.0225799     0.11883         0.144164     0.248654\n",
       "  0.0615548   -0.172326      0.00851041     -0.572836     0.0751431\n",
       " -0.300594    -0.0975345     0.0467477       0.155739    -0.0514005\n",
       " -0.160476    -0.183095     -0.0199038   …  -0.187713    -0.0344518\n",
       " -0.116898    -0.255047      0.134957       -0.0756058    0.112213\n",
       "  0.107581    -0.341279     -0.0242792       0.0722909    0.138489\n",
       "  0.0144913   -0.0159013    -0.0786672      -0.0118854   -0.00757478\n",
       " -0.0948462   -0.0736798    -0.101442        0.00767028   0.0426615\n",
       " -0.0465315   -0.200549      0.137641    …  -0.00505608  -0.0503414\n",
       " -0.156077     0.335395      0.109765       -0.0546084   -0.231057\n",
       " -0.138332     0.0841384    -0.146507       -0.105046    -0.043328\n",
       " -0.0684715    0.123669      0.20015         0.0151006   -0.0401398\n",
       " -0.124038     0.0797545     0.0540838       0.064812    -0.0595492\n",
       " -0.0960532    0.0745877    -0.182552    …  -0.0232755    0.00539468\n",
       " -0.291166    -0.0333362     0.058803       -0.130064     0.181297\n",
       "  0.0173558    0.013829     -0.00766738      0.0175378    0.00773921\n",
       " -0.0846197    0.124039      0.185738       -0.00157837  -0.0466218\n",
       " -0.161661    -0.189663     -0.112284        0.136306     0.0160949\n",
       " -0.0382674   -0.106014     -0.0472382   …   0.351755    -0.244413\n",
       " -0.04293     -0.000594651   0.0620899       0.103788     0.018853\n",
       " -0.24631      0.0765318    -0.0312596      -0.0224936   -0.349943\n",
       " -0.179212    -0.00210126   -0.333578       -0.25755      0.127996\n",
       " -0.0162575   -0.113762     -0.163166        0.0813042    0.0896488\n",
       " -0.164436     0.109088      0.210046    …  -0.0711635   -0.022007\n",
       " -0.0298436   -0.304912      0.051285       -0.0451601   -0.157031\n",
       " -0.132668    -0.0285122    -0.342371       -0.188361    -0.0424445\n",
       " -0.257996     0.0766543     0.207434        0.0462457    0.0311194\n",
       " -0.0478201   -0.0369485     0.0110577       0.0787528   -0.0636025\n",
       " -0.131024    -0.164114      0.239401    …   0.0101319    0.303175"
      ]
     },
     "execution_count": 443,
     "metadata": {},
     "output_type": "execute_result"
    }
   ],
   "source": [
    "fitted_params(mach)[1]"
   ]
  },
  {
   "cell_type": "code",
   "execution_count": 448,
   "metadata": {},
   "outputs": [
    {
     "data": {
      "text/plain": [
       "PCA(\n",
       "    maxoutdim = 0,\n",
       "    method = :auto,\n",
       "    pratio = 0.99,\n",
       "    mean = nothing)\u001b[34m @046\u001b[39m"
      ]
     },
     "execution_count": 448,
     "metadata": {},
     "output_type": "execute_result"
    }
   ],
   "source": [
    "model"
   ]
  },
  {
   "cell_type": "code",
   "execution_count": null,
   "metadata": {},
   "outputs": [],
   "source": [
    "# plot explained variance\n",
    "max_dims=31\n",
    "ex_vars = []\n",
    "\n",
    "for i in 1:max_dims\n",
    "    model.maxoutdim = i\n",
    "    mach = machine(model, X_stand)\n",
    "    MLJ.fit!(mach, rows=train) \n",
    "    \n",
    "    r = report(mach)\n",
    "    r[:]\n",
    "    \n",
    "    \n",
    "end\n"
   ]
  },
  {
   "cell_type": "markdown",
   "metadata": {},
   "source": [
    "In A3, we are ask to plot the distribution of eigenvalues of PCA. Do we need to plot the distribution of the eigenvalues or just the eigenvalues in a decreasing order? I find eigenvalues in a decreasing orders makes more sense given that we would like to consider the sum of these eigenvalues. Can anyone please clarify?"
   ]
  },
  {
   "cell_type": "code",
   "execution_count": null,
   "metadata": {},
   "outputs": [],
   "source": [
    "#elbow method"
   ]
  },
  {
   "cell_type": "markdown",
   "metadata": {},
   "source": [
    "### ICA"
   ]
  },
  {
   "cell_type": "code",
   "execution_count": null,
   "metadata": {},
   "outputs": [],
   "source": [
    "kurtosis"
   ]
  },
  {
   "cell_type": "markdown",
   "metadata": {},
   "source": [
    "### Randomized Projections"
   ]
  },
  {
   "cell_type": "code",
   "execution_count": null,
   "metadata": {},
   "outputs": [],
   "source": []
  },
  {
   "cell_type": "markdown",
   "metadata": {},
   "source": [
    "### Classical Multidimensional Scaling\n",
    "* https://multivariatestatsjl.readthedocs.io/en/stable/cmds.html"
   ]
  },
  {
   "cell_type": "code",
   "execution_count": null,
   "metadata": {},
   "outputs": [],
   "source": []
  },
  {
   "cell_type": "markdown",
   "metadata": {},
   "source": [
    "# Clustering Pt 2\n",
    "Reproduce your clustering experiments, but on the data after you've run dimensionality reduction on it. Yes, that’s 16 combinations of datasets, dimensionality reduction, and clustering method. You should look at all of them, but focus on the more interesting findings in your report."
   ]
  },
  {
   "cell_type": "markdown",
   "metadata": {},
   "source": [
    "### Kmeans - PCA"
   ]
  },
  {
   "cell_type": "code",
   "execution_count": null,
   "metadata": {},
   "outputs": [],
   "source": []
  },
  {
   "cell_type": "markdown",
   "metadata": {},
   "source": [
    "### EM - PCA"
   ]
  },
  {
   "cell_type": "code",
   "execution_count": null,
   "metadata": {},
   "outputs": [],
   "source": []
  },
  {
   "cell_type": "markdown",
   "metadata": {},
   "source": [
    "### Kmeans - ICA"
   ]
  },
  {
   "cell_type": "code",
   "execution_count": null,
   "metadata": {},
   "outputs": [],
   "source": []
  },
  {
   "cell_type": "markdown",
   "metadata": {},
   "source": [
    "### EM - ICA"
   ]
  },
  {
   "cell_type": "code",
   "execution_count": null,
   "metadata": {},
   "outputs": [],
   "source": []
  },
  {
   "cell_type": "markdown",
   "metadata": {},
   "source": [
    "### Kmeans - Randomized Projections"
   ]
  },
  {
   "cell_type": "code",
   "execution_count": null,
   "metadata": {},
   "outputs": [],
   "source": []
  },
  {
   "cell_type": "markdown",
   "metadata": {},
   "source": [
    "### EM - Randomized Projections"
   ]
  },
  {
   "cell_type": "code",
   "execution_count": null,
   "metadata": {},
   "outputs": [],
   "source": []
  },
  {
   "cell_type": "markdown",
   "metadata": {},
   "source": [
    "### Kmeans - Classical Multidimensional Scaling"
   ]
  },
  {
   "cell_type": "code",
   "execution_count": null,
   "metadata": {},
   "outputs": [],
   "source": []
  },
  {
   "cell_type": "markdown",
   "metadata": {},
   "source": [
    "### EM - Classical Multidimensional Scaling"
   ]
  },
  {
   "cell_type": "code",
   "execution_count": null,
   "metadata": {},
   "outputs": [],
   "source": []
  },
  {
   "cell_type": "markdown",
   "metadata": {},
   "source": [
    "# BELOW ONLY FOR 1 DATASET"
   ]
  },
  {
   "cell_type": "markdown",
   "metadata": {},
   "source": [
    "### Dimensionality Reduction + NN \n",
    "Apply the dimensionality reduction algorithms to one of your datasets from assignment #1. (if you've reused the datasets from assignment #1 to do experiments 1-3 above then you've already done this) and rerun your neural network learner on the newly projected data."
   ]
  },
  {
   "cell_type": "code",
   "execution_count": null,
   "metadata": {},
   "outputs": [],
   "source": []
  },
  {
   "cell_type": "markdown",
   "metadata": {},
   "source": [
    "### Clustering + NN\n",
    "Apply the clustering algorithms to the same dataset to which you just applied the dimensionality reduction algorithms (you've probably already done this), treating the clusters as if they were new features. In other words, treat the clustering algorithms as if they were dimensionality reduction algorithms. Again, rerun your neural network learner on the newly projected data."
   ]
  },
  {
   "cell_type": "code",
   "execution_count": null,
   "metadata": {},
   "outputs": [],
   "source": [
    "# do one hot encoding or proabilisitc encoding. Features will be the one hot encodings"
   ]
  }
 ],
 "metadata": {
  "kernelspec": {
   "display_name": "Julia 1.5.2",
   "language": "julia",
   "name": "julia-1.5"
  },
  "language_info": {
   "file_extension": ".jl",
   "mimetype": "application/julia",
   "name": "julia",
   "version": "1.5.2"
  }
 },
 "nbformat": 4,
 "nbformat_minor": 4
}
