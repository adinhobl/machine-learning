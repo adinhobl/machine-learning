{
 "cells": [
  {
   "cell_type": "markdown",
   "metadata": {},
   "source": [
    "## Load Modules"
   ]
  },
  {
   "cell_type": "code",
   "execution_count": 63,
   "metadata": {},
   "outputs": [],
   "source": [
    "using MLJ\n",
    "using MultivariateStats\n",
    "using ScikitLearn\n",
    "using Plots\n",
    "using CSV\n",
    "using DataFrames\n",
    "using StatsBase\n",
    "using Clustering: randindex, silhouettes, varinfo, vmeasure, mutualinfo\n",
    "using LinearAlgebra: diag"
   ]
  },
  {
   "cell_type": "code",
   "execution_count": 2,
   "metadata": {},
   "outputs": [],
   "source": [
    "ENV[\"LINES\"] = 100;"
   ]
  },
  {
   "cell_type": "code",
   "execution_count": 53,
   "metadata": {},
   "outputs": [],
   "source": [
    "RNG = 1254;"
   ]
  },
  {
   "cell_type": "markdown",
   "metadata": {},
   "source": [
    "## Import Data and Set Up"
   ]
  },
  {
   "cell_type": "code",
   "execution_count": 4,
   "metadata": {
    "scrolled": true
   },
   "outputs": [
    {
     "data": {
      "text/html": [
       "<table class=\"data-frame\"><thead><tr><th></th><th>variable</th><th>mean</th><th>min</th><th>median</th><th>max</th><th>nunique</th><th>nmissing</th><th>eltype</th></tr><tr><th></th><th>Symbol</th><th>Union…</th><th>Any</th><th>Union…</th><th>Any</th><th>Union…</th><th>Nothing</th><th>DataType</th></tr></thead><tbody><p>42 rows × 8 columns</p><tr><th>1</th><td>1</td><td>4.78264</td><td>2.0</td><td>4.828</td><td>6.496</td><td></td><td></td><td>Float64</td></tr><tr><th>2</th><td>2</td><td>3.06951</td><td>0.8039</td><td>3.0463</td><td>9.1775</td><td></td><td></td><td>Float64</td></tr><tr><th>3</th><td>3</td><td>0.716588</td><td>0</td><td>0.0</td><td>12</td><td></td><td></td><td>Int64</td></tr><tr><th>4</th><td>4</td><td>0.042654</td><td>0</td><td>0.0</td><td>3</td><td></td><td></td><td>Int64</td></tr><tr><th>5</th><td>5</td><td>0.980095</td><td>0</td><td>0.0</td><td>36</td><td></td><td></td><td>Int64</td></tr><tr><th>6</th><td>6</td><td>0.290047</td><td>0</td><td>0.0</td><td>13</td><td></td><td></td><td>Int64</td></tr><tr><th>7</th><td>7</td><td>1.64645</td><td>0</td><td>1.0</td><td>18</td><td></td><td></td><td>Int64</td></tr><tr><th>8</th><td>8</td><td>37.0556</td><td>0.0</td><td>37.5</td><td>60.7</td><td></td><td></td><td>Float64</td></tr><tr><th>9</th><td>9</td><td>1.3763</td><td>0</td><td>1.0</td><td>24</td><td></td><td></td><td>Int64</td></tr><tr><th>10</th><td>10</td><td>1.80379</td><td>0</td><td>2.0</td><td>12</td><td></td><td></td><td>Int64</td></tr><tr><th>11</th><td>11</td><td>1.43697</td><td>0</td><td>0.0</td><td>44</td><td></td><td></td><td>Int64</td></tr><tr><th>12</th><td>12</td><td>-0.197129</td><td>-5.256</td><td>0.0</td><td>4.722</td><td></td><td></td><td>Float64</td></tr><tr><th>13</th><td>13</td><td>3.47684</td><td>1.544</td><td>3.442</td><td>5.701</td><td></td><td></td><td>Float64</td></tr><tr><th>14</th><td>14</td><td>1.35072</td><td>0.0</td><td>1.187</td><td>4.491</td><td></td><td></td><td>Float64</td></tr><tr><th>15</th><td>15</td><td>9.93738</td><td>4.174</td><td>10.039</td><td>12.609</td><td></td><td></td><td>Float64</td></tr><tr><th>16</th><td>16</td><td>3.63033</td><td>0</td><td>2.0</td><td>40</td><td></td><td></td><td>Int64</td></tr><tr><th>17</th><td>17</td><td>1.0133</td><td>0.957</td><td>1.003</td><td>1.311</td><td></td><td></td><td>Float64</td></tr><tr><th>18</th><td>18</td><td>1.13111</td><td>1.022</td><td>1.13</td><td>1.377</td><td></td><td></td><td>Float64</td></tr><tr><th>19</th><td>19</td><td>0.00853081</td><td>0</td><td>0.0</td><td>2</td><td></td><td></td><td>Int64</td></tr><tr><th>20</th><td>20</td><td>0.0739336</td><td>0</td><td>0.0</td><td>3</td><td></td><td></td><td>Int64</td></tr><tr><th>21</th><td>21</td><td>0.0293839</td><td>0</td><td>0.0</td><td>3</td><td></td><td></td><td>Int64</td></tr><tr><th>22</th><td>22</td><td>1.23873</td><td>0.863</td><td>1.243</td><td>1.641</td><td></td><td></td><td>Float64</td></tr><tr><th>23</th><td>23</td><td>1.40569</td><td>0</td><td>1.0</td><td>147</td><td></td><td></td><td>Int64</td></tr><tr><th>24</th><td>24</td><td>0.0398104</td><td>0</td><td>0.0</td><td>1</td><td></td><td></td><td>Int64</td></tr><tr><th>25</th><td>25</td><td>0.147867</td><td>0</td><td>0.0</td><td>1</td><td></td><td></td><td>Int64</td></tr><tr><th>26</th><td>26</td><td>0.0312796</td><td>0</td><td>0.0</td><td>3</td><td></td><td></td><td>Int64</td></tr><tr><th>27</th><td>27</td><td>2.21564</td><td>1.0</td><td>2.247</td><td>2.859</td><td></td><td></td><td>Float64</td></tr><tr><th>28</th><td>28</td><td>-0.00120569</td><td>-1.099</td><td>0.0</td><td>1.073</td><td></td><td></td><td>Float64</td></tr><tr><th>29</th><td>29</td><td>0.0265403</td><td>0</td><td>0.0</td><td>1</td><td></td><td></td><td>Int64</td></tr><tr><th>30</th><td>30</td><td>8.78051</td><td>0.0</td><td>0.0</td><td>71.167</td><td></td><td></td><td>Float64</td></tr><tr><th>31</th><td>31</td><td>2.66834</td><td>0.444</td><td>2.052</td><td>17.537</td><td></td><td></td><td>Float64</td></tr><tr><th>32</th><td>32</td><td>0.129858</td><td>0</td><td>0.0</td><td>8</td><td></td><td></td><td>Int64</td></tr><tr><th>33</th><td>33</td><td>0.883412</td><td>0</td><td>0.0</td><td>12</td><td></td><td></td><td>Int64</td></tr><tr><th>34</th><td>34</td><td>1.27488</td><td>0</td><td>0.0</td><td>18</td><td></td><td></td><td>Int64</td></tr><tr><th>35</th><td>35</td><td>0.961137</td><td>0</td><td>1.0</td><td>7</td><td></td><td></td><td>Int64</td></tr><tr><th>36</th><td>36</td><td>3.91824</td><td>2.267</td><td>3.726</td><td>10.695</td><td></td><td></td><td>Float64</td></tr><tr><th>37</th><td>37</td><td>2.55842</td><td>1.467</td><td>2.458</td><td>5.825</td><td></td><td></td><td>Float64</td></tr><tr><th>38</th><td>38</td><td>0.686256</td><td>0</td><td>0.0</td><td>8</td><td></td><td></td><td>Int64</td></tr><tr><th>39</th><td>39</td><td>8.62949</td><td>4.917</td><td>8.499</td><td>14.7</td><td></td><td></td><td>Float64</td></tr><tr><th>40</th><td>40</td><td>0.0511848</td><td>0</td><td>0.0</td><td>4</td><td></td><td></td><td>Int64</td></tr><tr><th>41</th><td>41</td><td>0.723223</td><td>0</td><td>0.0</td><td>27</td><td></td><td></td><td>Int64</td></tr><tr><th>42</th><td>Class</td><td></td><td>NRB</td><td></td><td>RB</td><td>2</td><td></td><td>String</td></tr></tbody></table>"
      ],
      "text/latex": [
       "\\begin{tabular}{r|cccccccc}\n",
       "\t& variable & mean & min & median & max & nunique & nmissing & eltype\\\\\n",
       "\t\\hline\n",
       "\t& Symbol & Union… & Any & Union… & Any & Union… & Nothing & DataType\\\\\n",
       "\t\\hline\n",
       "\t1 & 1 & 4.78264 & 2.0 & 4.828 & 6.496 &  &  & Float64 \\\\\n",
       "\t2 & 2 & 3.06951 & 0.8039 & 3.0463 & 9.1775 &  &  & Float64 \\\\\n",
       "\t3 & 3 & 0.716588 & 0 & 0.0 & 12 &  &  & Int64 \\\\\n",
       "\t4 & 4 & 0.042654 & 0 & 0.0 & 3 &  &  & Int64 \\\\\n",
       "\t5 & 5 & 0.980095 & 0 & 0.0 & 36 &  &  & Int64 \\\\\n",
       "\t6 & 6 & 0.290047 & 0 & 0.0 & 13 &  &  & Int64 \\\\\n",
       "\t7 & 7 & 1.64645 & 0 & 1.0 & 18 &  &  & Int64 \\\\\n",
       "\t8 & 8 & 37.0556 & 0.0 & 37.5 & 60.7 &  &  & Float64 \\\\\n",
       "\t9 & 9 & 1.3763 & 0 & 1.0 & 24 &  &  & Int64 \\\\\n",
       "\t10 & 10 & 1.80379 & 0 & 2.0 & 12 &  &  & Int64 \\\\\n",
       "\t11 & 11 & 1.43697 & 0 & 0.0 & 44 &  &  & Int64 \\\\\n",
       "\t12 & 12 & -0.197129 & -5.256 & 0.0 & 4.722 &  &  & Float64 \\\\\n",
       "\t13 & 13 & 3.47684 & 1.544 & 3.442 & 5.701 &  &  & Float64 \\\\\n",
       "\t14 & 14 & 1.35072 & 0.0 & 1.187 & 4.491 &  &  & Float64 \\\\\n",
       "\t15 & 15 & 9.93738 & 4.174 & 10.039 & 12.609 &  &  & Float64 \\\\\n",
       "\t16 & 16 & 3.63033 & 0 & 2.0 & 40 &  &  & Int64 \\\\\n",
       "\t17 & 17 & 1.0133 & 0.957 & 1.003 & 1.311 &  &  & Float64 \\\\\n",
       "\t18 & 18 & 1.13111 & 1.022 & 1.13 & 1.377 &  &  & Float64 \\\\\n",
       "\t19 & 19 & 0.00853081 & 0 & 0.0 & 2 &  &  & Int64 \\\\\n",
       "\t20 & 20 & 0.0739336 & 0 & 0.0 & 3 &  &  & Int64 \\\\\n",
       "\t21 & 21 & 0.0293839 & 0 & 0.0 & 3 &  &  & Int64 \\\\\n",
       "\t22 & 22 & 1.23873 & 0.863 & 1.243 & 1.641 &  &  & Float64 \\\\\n",
       "\t23 & 23 & 1.40569 & 0 & 1.0 & 147 &  &  & Int64 \\\\\n",
       "\t24 & 24 & 0.0398104 & 0 & 0.0 & 1 &  &  & Int64 \\\\\n",
       "\t25 & 25 & 0.147867 & 0 & 0.0 & 1 &  &  & Int64 \\\\\n",
       "\t26 & 26 & 0.0312796 & 0 & 0.0 & 3 &  &  & Int64 \\\\\n",
       "\t27 & 27 & 2.21564 & 1.0 & 2.247 & 2.859 &  &  & Float64 \\\\\n",
       "\t28 & 28 & -0.00120569 & -1.099 & 0.0 & 1.073 &  &  & Float64 \\\\\n",
       "\t29 & 29 & 0.0265403 & 0 & 0.0 & 1 &  &  & Int64 \\\\\n",
       "\t30 & 30 & 8.78051 & 0.0 & 0.0 & 71.167 &  &  & Float64 \\\\\n",
       "\t31 & 31 & 2.66834 & 0.444 & 2.052 & 17.537 &  &  & Float64 \\\\\n",
       "\t32 & 32 & 0.129858 & 0 & 0.0 & 8 &  &  & Int64 \\\\\n",
       "\t33 & 33 & 0.883412 & 0 & 0.0 & 12 &  &  & Int64 \\\\\n",
       "\t34 & 34 & 1.27488 & 0 & 0.0 & 18 &  &  & Int64 \\\\\n",
       "\t35 & 35 & 0.961137 & 0 & 1.0 & 7 &  &  & Int64 \\\\\n",
       "\t36 & 36 & 3.91824 & 2.267 & 3.726 & 10.695 &  &  & Float64 \\\\\n",
       "\t37 & 37 & 2.55842 & 1.467 & 2.458 & 5.825 &  &  & Float64 \\\\\n",
       "\t38 & 38 & 0.686256 & 0 & 0.0 & 8 &  &  & Int64 \\\\\n",
       "\t39 & 39 & 8.62949 & 4.917 & 8.499 & 14.7 &  &  & Float64 \\\\\n",
       "\t40 & 40 & 0.0511848 & 0 & 0.0 & 4 &  &  & Int64 \\\\\n",
       "\t41 & 41 & 0.723223 & 0 & 0.0 & 27 &  &  & Int64 \\\\\n",
       "\t42 & Class &  & NRB &  & RB & 2 &  & String \\\\\n",
       "\\end{tabular}\n"
      ],
      "text/plain": [
       "42×8 DataFrame. Omitted printing of 1 columns\n",
       "│ Row │ variable │ mean        │ min    │ median │ max    │ nunique │ nmissing │\n",
       "│     │ \u001b[90mSymbol\u001b[39m   │ \u001b[90mUnion…\u001b[39m      │ \u001b[90mAny\u001b[39m    │ \u001b[90mUnion…\u001b[39m │ \u001b[90mAny\u001b[39m    │ \u001b[90mUnion…\u001b[39m  │ \u001b[90mNothing\u001b[39m  │\n",
       "├─────┼──────────┼─────────────┼────────┼────────┼────────┼─────────┼──────────┤\n",
       "│ 1   │ 1        │ 4.78264     │ 2.0    │ 4.828  │ 6.496  │         │          │\n",
       "│ 2   │ 2        │ 3.06951     │ 0.8039 │ 3.0463 │ 9.1775 │         │          │\n",
       "│ 3   │ 3        │ 0.716588    │ 0      │ 0.0    │ 12     │         │          │\n",
       "│ 4   │ 4        │ 0.042654    │ 0      │ 0.0    │ 3      │         │          │\n",
       "│ 5   │ 5        │ 0.980095    │ 0      │ 0.0    │ 36     │         │          │\n",
       "│ 6   │ 6        │ 0.290047    │ 0      │ 0.0    │ 13     │         │          │\n",
       "│ 7   │ 7        │ 1.64645     │ 0      │ 1.0    │ 18     │         │          │\n",
       "│ 8   │ 8        │ 37.0556     │ 0.0    │ 37.5   │ 60.7   │         │          │\n",
       "│ 9   │ 9        │ 1.3763      │ 0      │ 1.0    │ 24     │         │          │\n",
       "│ 10  │ 10       │ 1.80379     │ 0      │ 2.0    │ 12     │         │          │\n",
       "│ 11  │ 11       │ 1.43697     │ 0      │ 0.0    │ 44     │         │          │\n",
       "│ 12  │ 12       │ -0.197129   │ -5.256 │ 0.0    │ 4.722  │         │          │\n",
       "│ 13  │ 13       │ 3.47684     │ 1.544  │ 3.442  │ 5.701  │         │          │\n",
       "│ 14  │ 14       │ 1.35072     │ 0.0    │ 1.187  │ 4.491  │         │          │\n",
       "│ 15  │ 15       │ 9.93738     │ 4.174  │ 10.039 │ 12.609 │         │          │\n",
       "│ 16  │ 16       │ 3.63033     │ 0      │ 2.0    │ 40     │         │          │\n",
       "│ 17  │ 17       │ 1.0133      │ 0.957  │ 1.003  │ 1.311  │         │          │\n",
       "│ 18  │ 18       │ 1.13111     │ 1.022  │ 1.13   │ 1.377  │         │          │\n",
       "│ 19  │ 19       │ 0.00853081  │ 0      │ 0.0    │ 2      │         │          │\n",
       "│ 20  │ 20       │ 0.0739336   │ 0      │ 0.0    │ 3      │         │          │\n",
       "│ 21  │ 21       │ 0.0293839   │ 0      │ 0.0    │ 3      │         │          │\n",
       "│ 22  │ 22       │ 1.23873     │ 0.863  │ 1.243  │ 1.641  │         │          │\n",
       "│ 23  │ 23       │ 1.40569     │ 0      │ 1.0    │ 147    │         │          │\n",
       "│ 24  │ 24       │ 0.0398104   │ 0      │ 0.0    │ 1      │         │          │\n",
       "│ 25  │ 25       │ 0.147867    │ 0      │ 0.0    │ 1      │         │          │\n",
       "│ 26  │ 26       │ 0.0312796   │ 0      │ 0.0    │ 3      │         │          │\n",
       "│ 27  │ 27       │ 2.21564     │ 1.0    │ 2.247  │ 2.859  │         │          │\n",
       "│ 28  │ 28       │ -0.00120569 │ -1.099 │ 0.0    │ 1.073  │         │          │\n",
       "│ 29  │ 29       │ 0.0265403   │ 0      │ 0.0    │ 1      │         │          │\n",
       "│ 30  │ 30       │ 8.78051     │ 0.0    │ 0.0    │ 71.167 │         │          │\n",
       "│ 31  │ 31       │ 2.66834     │ 0.444  │ 2.052  │ 17.537 │         │          │\n",
       "│ 32  │ 32       │ 0.129858    │ 0      │ 0.0    │ 8      │         │          │\n",
       "│ 33  │ 33       │ 0.883412    │ 0      │ 0.0    │ 12     │         │          │\n",
       "│ 34  │ 34       │ 1.27488     │ 0      │ 0.0    │ 18     │         │          │\n",
       "│ 35  │ 35       │ 0.961137    │ 0      │ 1.0    │ 7      │         │          │\n",
       "│ 36  │ 36       │ 3.91824     │ 2.267  │ 3.726  │ 10.695 │         │          │\n",
       "│ 37  │ 37       │ 2.55842     │ 1.467  │ 2.458  │ 5.825  │         │          │\n",
       "│ 38  │ 38       │ 0.686256    │ 0      │ 0.0    │ 8      │         │          │\n",
       "│ 39  │ 39       │ 8.62949     │ 4.917  │ 8.499  │ 14.7   │         │          │\n",
       "│ 40  │ 40       │ 0.0511848   │ 0      │ 0.0    │ 4      │         │          │\n",
       "│ 41  │ 41       │ 0.723223    │ 0      │ 0.0    │ 27     │         │          │\n",
       "│ 42  │ Class    │             │ NRB    │        │ RB     │ 2       │          │"
      ]
     },
     "execution_count": 4,
     "metadata": {},
     "output_type": "execute_result"
    }
   ],
   "source": [
    "data = CSV.read(\"biodegradation.csv\")\n",
    "describe(data)"
   ]
  },
  {
   "cell_type": "code",
   "execution_count": 5,
   "metadata": {},
   "outputs": [
    {
     "data": {
      "text/plain": [
       "2-element Array{Float64,1}:\n",
       " 0.33744075829383885\n",
       " 0.6625592417061611"
      ]
     },
     "execution_count": 5,
     "metadata": {},
     "output_type": "execute_result"
    }
   ],
   "source": [
    "label_counts = countmap(data[:(Class)])\n",
    "collect(label_counts[i] / size(data)[1] for i in keys(label_counts))"
   ]
  },
  {
   "cell_type": "code",
   "execution_count": 6,
   "metadata": {
    "scrolled": true
   },
   "outputs": [
    {
     "data": {
      "text/plain": [
       "┌\u001b[0m─────────\u001b[0m┬\u001b[0m─────────────────────────────────\u001b[0m┬\u001b[0m───────────────\u001b[0m┐\u001b[0m\n",
       "│\u001b[0m\u001b[22m _.names \u001b[0m│\u001b[0m\u001b[22m _.types                         \u001b[0m│\u001b[0m\u001b[22m _.scitypes    \u001b[0m│\u001b[0m\n",
       "├\u001b[0m─────────\u001b[0m┼\u001b[0m─────────────────────────────────\u001b[0m┼\u001b[0m───────────────\u001b[0m┤\u001b[0m\n",
       "│\u001b[0m 1       \u001b[0m│\u001b[0m Float64                         \u001b[0m│\u001b[0m Continuous    \u001b[0m│\u001b[0m\n",
       "│\u001b[0m 2       \u001b[0m│\u001b[0m Float64                         \u001b[0m│\u001b[0m Continuous    \u001b[0m│\u001b[0m\n",
       "│\u001b[0m 3       \u001b[0m│\u001b[0m Int64                           \u001b[0m│\u001b[0m Count         \u001b[0m│\u001b[0m\n",
       "│\u001b[0m 4       \u001b[0m│\u001b[0m Int64                           \u001b[0m│\u001b[0m Count         \u001b[0m│\u001b[0m\n",
       "│\u001b[0m 5       \u001b[0m│\u001b[0m Int64                           \u001b[0m│\u001b[0m Count         \u001b[0m│\u001b[0m\n",
       "│\u001b[0m 6       \u001b[0m│\u001b[0m Int64                           \u001b[0m│\u001b[0m Count         \u001b[0m│\u001b[0m\n",
       "│\u001b[0m 7       \u001b[0m│\u001b[0m Int64                           \u001b[0m│\u001b[0m Count         \u001b[0m│\u001b[0m\n",
       "│\u001b[0m 8       \u001b[0m│\u001b[0m Float64                         \u001b[0m│\u001b[0m Continuous    \u001b[0m│\u001b[0m\n",
       "│\u001b[0m 9       \u001b[0m│\u001b[0m Int64                           \u001b[0m│\u001b[0m Count         \u001b[0m│\u001b[0m\n",
       "│\u001b[0m 10      \u001b[0m│\u001b[0m Int64                           \u001b[0m│\u001b[0m Count         \u001b[0m│\u001b[0m\n",
       "│\u001b[0m 11      \u001b[0m│\u001b[0m Int64                           \u001b[0m│\u001b[0m Count         \u001b[0m│\u001b[0m\n",
       "│\u001b[0m 12      \u001b[0m│\u001b[0m Float64                         \u001b[0m│\u001b[0m Continuous    \u001b[0m│\u001b[0m\n",
       "│\u001b[0m 13      \u001b[0m│\u001b[0m Float64                         \u001b[0m│\u001b[0m Continuous    \u001b[0m│\u001b[0m\n",
       "│\u001b[0m 14      \u001b[0m│\u001b[0m Float64                         \u001b[0m│\u001b[0m Continuous    \u001b[0m│\u001b[0m\n",
       "│\u001b[0m 15      \u001b[0m│\u001b[0m Float64                         \u001b[0m│\u001b[0m Continuous    \u001b[0m│\u001b[0m\n",
       "│\u001b[0m 16      \u001b[0m│\u001b[0m Int64                           \u001b[0m│\u001b[0m Count         \u001b[0m│\u001b[0m\n",
       "│\u001b[0m 17      \u001b[0m│\u001b[0m Float64                         \u001b[0m│\u001b[0m Continuous    \u001b[0m│\u001b[0m\n",
       "│\u001b[0m 18      \u001b[0m│\u001b[0m Float64                         \u001b[0m│\u001b[0m Continuous    \u001b[0m│\u001b[0m\n",
       "│\u001b[0m 19      \u001b[0m│\u001b[0m Int64                           \u001b[0m│\u001b[0m Count         \u001b[0m│\u001b[0m\n",
       "│\u001b[0m 20      \u001b[0m│\u001b[0m Int64                           \u001b[0m│\u001b[0m Count         \u001b[0m│\u001b[0m\n",
       "│\u001b[0m 21      \u001b[0m│\u001b[0m Int64                           \u001b[0m│\u001b[0m Count         \u001b[0m│\u001b[0m\n",
       "│\u001b[0m 22      \u001b[0m│\u001b[0m Float64                         \u001b[0m│\u001b[0m Continuous    \u001b[0m│\u001b[0m\n",
       "│\u001b[0m 23      \u001b[0m│\u001b[0m Int64                           \u001b[0m│\u001b[0m Count         \u001b[0m│\u001b[0m\n",
       "│\u001b[0m 24      \u001b[0m│\u001b[0m Int64                           \u001b[0m│\u001b[0m Count         \u001b[0m│\u001b[0m\n",
       "│\u001b[0m 25      \u001b[0m│\u001b[0m Int64                           \u001b[0m│\u001b[0m Count         \u001b[0m│\u001b[0m\n",
       "│\u001b[0m 26      \u001b[0m│\u001b[0m Int64                           \u001b[0m│\u001b[0m Count         \u001b[0m│\u001b[0m\n",
       "│\u001b[0m 27      \u001b[0m│\u001b[0m Float64                         \u001b[0m│\u001b[0m Continuous    \u001b[0m│\u001b[0m\n",
       "│\u001b[0m 28      \u001b[0m│\u001b[0m Float64                         \u001b[0m│\u001b[0m Continuous    \u001b[0m│\u001b[0m\n",
       "│\u001b[0m 29      \u001b[0m│\u001b[0m Int64                           \u001b[0m│\u001b[0m Count         \u001b[0m│\u001b[0m\n",
       "│\u001b[0m 30      \u001b[0m│\u001b[0m Float64                         \u001b[0m│\u001b[0m Continuous    \u001b[0m│\u001b[0m\n",
       "│\u001b[0m 31      \u001b[0m│\u001b[0m Float64                         \u001b[0m│\u001b[0m Continuous    \u001b[0m│\u001b[0m\n",
       "│\u001b[0m 32      \u001b[0m│\u001b[0m Int64                           \u001b[0m│\u001b[0m Count         \u001b[0m│\u001b[0m\n",
       "│\u001b[0m 33      \u001b[0m│\u001b[0m Int64                           \u001b[0m│\u001b[0m Count         \u001b[0m│\u001b[0m\n",
       "│\u001b[0m 34      \u001b[0m│\u001b[0m Int64                           \u001b[0m│\u001b[0m Count         \u001b[0m│\u001b[0m\n",
       "│\u001b[0m 35      \u001b[0m│\u001b[0m Int64                           \u001b[0m│\u001b[0m Count         \u001b[0m│\u001b[0m\n",
       "│\u001b[0m 36      \u001b[0m│\u001b[0m Float64                         \u001b[0m│\u001b[0m Continuous    \u001b[0m│\u001b[0m\n",
       "│\u001b[0m 37      \u001b[0m│\u001b[0m Float64                         \u001b[0m│\u001b[0m Continuous    \u001b[0m│\u001b[0m\n",
       "│\u001b[0m 38      \u001b[0m│\u001b[0m Int64                           \u001b[0m│\u001b[0m Count         \u001b[0m│\u001b[0m\n",
       "│\u001b[0m 39      \u001b[0m│\u001b[0m Float64                         \u001b[0m│\u001b[0m Continuous    \u001b[0m│\u001b[0m\n",
       "│\u001b[0m 40      \u001b[0m│\u001b[0m Int64                           \u001b[0m│\u001b[0m Count         \u001b[0m│\u001b[0m\n",
       "│\u001b[0m 41      \u001b[0m│\u001b[0m Int64                           \u001b[0m│\u001b[0m Count         \u001b[0m│\u001b[0m\n",
       "│\u001b[0m Class   \u001b[0m│\u001b[0m CategoricalValue{String,UInt32} \u001b[0m│\u001b[0m Multiclass{2} \u001b[0m│\u001b[0m\n",
       "└\u001b[0m─────────\u001b[0m┴\u001b[0m─────────────────────────────────\u001b[0m┴\u001b[0m───────────────\u001b[0m┘\u001b[0m\n",
       "_.nrows = 1055\n"
      ]
     },
     "execution_count": 6,
     "metadata": {},
     "output_type": "execute_result"
    }
   ],
   "source": [
    "coerce!(data, :Class=>Multiclass)\n",
    "schema(data)"
   ]
  },
  {
   "cell_type": "code",
   "execution_count": 7,
   "metadata": {},
   "outputs": [
    {
     "data": {
      "text/plain": [
       "([465, 562, 278, 619, 161, 972, 782, 321, 537, 760  …  12, 913, 471, 13, 1006, 802, 112, 840, 744, 261], [196, 586, 245, 77, 1028, 432, 215, 987, 137, 411  …  975, 610, 886, 848, 731, 1024, 805, 500, 659, 415])"
      ]
     },
     "execution_count": 7,
     "metadata": {},
     "output_type": "execute_result"
    }
   ],
   "source": [
    "y, X = unpack(data, ==(:Class), colname->true)\n",
    "train, test = partition(eachindex(y), 0.7, shuffle=true, rng=123, stratify=values(data[:Class])) # gives 70:30 split"
   ]
  },
  {
   "cell_type": "markdown",
   "metadata": {},
   "source": [
    "#### Confirming that data was stratified correctly"
   ]
  },
  {
   "cell_type": "code",
   "execution_count": 8,
   "metadata": {},
   "outputs": [
    {
     "data": {
      "text/plain": [
       "2-element Array{Float64,1}:\n",
       " 0.33739837398373984\n",
       " 0.6626016260162602"
      ]
     },
     "execution_count": 8,
     "metadata": {},
     "output_type": "execute_result"
    }
   ],
   "source": [
    "train_counts = countmap(data[train,:Class])\n",
    "collect(train_counts[i] / size(train)[1] for i in keys(train_counts))"
   ]
  },
  {
   "cell_type": "code",
   "execution_count": 9,
   "metadata": {},
   "outputs": [
    {
     "data": {
      "text/plain": [
       "2-element Array{Float64,1}:\n",
       " 0.33753943217665616\n",
       " 0.6624605678233438"
      ]
     },
     "execution_count": 9,
     "metadata": {},
     "output_type": "execute_result"
    }
   ],
   "source": [
    "test_counts = countmap(data[test,:Class])\n",
    "collect(test_counts[i] / size(test)[1] for i in keys(test_counts))"
   ]
  },
  {
   "cell_type": "markdown",
   "metadata": {},
   "source": [
    "#### Standardizing data pre-clustering"
   ]
  },
  {
   "cell_type": "code",
   "execution_count": 10,
   "metadata": {},
   "outputs": [
    {
     "name": "stderr",
     "output_type": "stream",
     "text": [
      "┌ Info: Training \u001b[34mMachine{Standardizer} @517\u001b[39m.\n",
      "└ @ MLJBase /home/andrew/.julia/packages/MLJBase/Ov46j/src/machines.jl:319\n"
     ]
    }
   ],
   "source": [
    "standardizer = Standardizer()\n",
    "stand = machine(standardizer, X[train,:]) #only want to standardize on training distribution\n",
    "MLJ.fit!(stand)\n",
    "X_stand = MLJ.transform(stand, X);"
   ]
  },
  {
   "cell_type": "markdown",
   "metadata": {},
   "source": [
    "## Set up model"
   ]
  },
  {
   "cell_type": "code",
   "execution_count": 11,
   "metadata": {
    "scrolled": true
   },
   "outputs": [
    {
     "data": {
      "text/plain": [
       "32-element Array{NamedTuple{(:name, :package_name, :is_supervised, :docstring, :hyperparameter_ranges, :hyperparameter_types, :hyperparameters, :implemented_methods, :is_pure_julia, :is_wrapper, :load_path, :package_license, :package_url, :package_uuid, :prediction_type, :supports_online, :supports_weights, :input_scitype, :target_scitype, :output_scitype),T} where T<:Tuple,1}:\n",
       " (name = AffinityPropagation, package_name = ScikitLearn, ... )\n",
       " (name = AgglomerativeClustering, package_name = ScikitLearn, ... )\n",
       " (name = Birch, package_name = ScikitLearn, ... )\n",
       " (name = ContinuousEncoder, package_name = MLJModels, ... )\n",
       " (name = DBSCAN, package_name = ScikitLearn, ... )\n",
       " (name = FactorAnalysis, package_name = MultivariateStats, ... )\n",
       " (name = FeatureAgglomeration, package_name = ScikitLearn, ... )\n",
       " (name = FeatureSelector, package_name = MLJModels, ... )\n",
       " (name = FillImputer, package_name = MLJModels, ... )\n",
       " (name = ICA, package_name = MultivariateStats, ... )\n",
       " (name = KMeans, package_name = Clustering, ... )\n",
       " (name = KMeans, package_name = ParallelKMeans, ... )\n",
       " (name = KMeans, package_name = ScikitLearn, ... )\n",
       " (name = KMedoids, package_name = Clustering, ... )\n",
       " (name = KernelPCA, package_name = MultivariateStats, ... )\n",
       " (name = MeanShift, package_name = ScikitLearn, ... )\n",
       " (name = MiniBatchKMeans, package_name = ScikitLearn, ... )\n",
       " (name = OPTICS, package_name = ScikitLearn, ... )\n",
       " (name = OneClassSVM, package_name = LIBSVM, ... )\n",
       " (name = OneHotEncoder, package_name = MLJModels, ... )\n",
       " (name = PCA, package_name = MultivariateStats, ... )\n",
       " (name = PPCA, package_name = MultivariateStats, ... )\n",
       " (name = SpectralClustering, package_name = ScikitLearn, ... )\n",
       " (name = Standardizer, package_name = MLJModels, ... )\n",
       " (name = StaticSurrogate, package_name = MLJBase, ... )\n",
       " (name = UnivariateBoxCoxTransformer, package_name = MLJModels, ... )\n",
       " (name = UnivariateDiscretizer, package_name = MLJModels, ... )\n",
       " (name = UnivariateFillImputer, package_name = MLJModels, ... )\n",
       " (name = UnivariateStandardizer, package_name = MLJModels, ... )\n",
       " (name = UnivariateTimeTypeToContinuous, package_name = MLJModels, ... )\n",
       " (name = UnsupervisedSurrogate, package_name = MLJBase, ... )\n",
       " (name = WrappedFunction, package_name = MLJBase, ... )"
      ]
     },
     "execution_count": 11,
     "metadata": {},
     "output_type": "execute_result"
    }
   ],
   "source": [
    "task(model) = !model.is_supervised\n",
    "models(task)"
   ]
  },
  {
   "cell_type": "markdown",
   "metadata": {},
   "source": [
    "# Clustering Algorithms\n",
    "Run the clustering algorithms on the datasets and describe what you see."
   ]
  },
  {
   "cell_type": "markdown",
   "metadata": {},
   "source": [
    "### KMeans"
   ]
  },
  {
   "cell_type": "code",
   "execution_count": 48,
   "metadata": {},
   "outputs": [
    {
     "data": {
      "text/plain": [
       "KMeans(\n",
       "    algo = ParallelKMeans.Hamerly(),\n",
       "    k_init = \"k-means++\",\n",
       "    k = 3,\n",
       "    tol = 1.0e-6,\n",
       "    max_iters = 300,\n",
       "    copy = true,\n",
       "    threads = 4,\n",
       "    rng = Random._GLOBAL_RNG(),\n",
       "    weights = nothing,\n",
       "    init = nothing)\u001b[34m @376\u001b[39m"
      ]
     },
     "execution_count": 48,
     "metadata": {},
     "output_type": "execute_result"
    }
   ],
   "source": [
    "@load KMeans pkg=ParallelKMeans\n",
    "# @load KMeans pkg=Clustering"
   ]
  },
  {
   "cell_type": "code",
   "execution_count": 64,
   "metadata": {},
   "outputs": [
    {
     "data": {
      "text/plain": [
       "dist_mat (generic function with 2 methods)"
      ]
     },
     "execution_count": 64,
     "metadata": {},
     "output_type": "execute_result"
    }
   ],
   "source": [
    "function dist_mat(X::Matrix)\n",
    "    G = X * X'\n",
    "    dG = diag(G)\n",
    "    return sqrt.(dG .+ dG' .- 2 .* G)\n",
    "end\n"
   ]
  },
  {
   "cell_type": "code",
   "execution_count": 76,
   "metadata": {},
   "outputs": [
    {
     "name": "stdout",
     "output_type": "stream",
     "text": [
      "K = 2\n",
      "Iteration 1: Jclust = 92748.47164378107\n",
      "Iteration 2: Jclust = 137408.19675856002\n",
      "Iteration 3: Jclust = 137408.19675856002\n",
      "Successfully terminated with convergence.\n",
      "mach.report.totalcost = 85155.820929728\n",
      "countmap(mach.report.assignments) = Dict(2 => 6,1 => 732)\n",
      "mean(s) = 0.5576929246829723\n",
      "\n",
      "K = 3\n",
      "Iteration 1: Jclust = 67760.63418224893\n"
     ]
    },
    {
     "name": "stderr",
     "output_type": "stream",
     "text": [
      "┌ Warning: The scitype of `X`, in `machine(model, X)` is incompatible with `model=\u001b[34mKMeans @328\u001b[39m`:\n",
      "│ scitype(X) = Table{Union{AbstractArray{Continuous,1}, AbstractArray{Count,1}}}\n",
      "│ input_scitype(model) = Table{var\"#s45\"} where var\"#s45\"<:(AbstractArray{var\"#s13\",1} where var\"#s13\"<:Continuous).\n",
      "└ @ MLJBase /home/andrew/.julia/packages/MLJBase/Ov46j/src/machines.jl:116\n",
      "┌ Info: Training \u001b[34mMachine{KMeans} @269\u001b[39m.\n",
      "└ @ MLJBase /home/andrew/.julia/packages/MLJBase/Ov46j/src/machines.jl:319\n",
      "┌ Warning: The scitype of `X`, in `machine(model, X)` is incompatible with `model=\u001b[34mKMeans @525\u001b[39m`:\n",
      "│ scitype(X) = Table{Union{AbstractArray{Continuous,1}, AbstractArray{Count,1}}}\n",
      "│ input_scitype(model) = Table{var\"#s45\"} where var\"#s45\"<:(AbstractArray{var\"#s13\",1} where var\"#s13\"<:Continuous).\n",
      "└ @ MLJBase /home/andrew/.julia/packages/MLJBase/Ov46j/src/machines.jl:116\n",
      "┌ Info: Training \u001b[34mMachine{KMeans} @040\u001b[39m.\n",
      "└ @ MLJBase /home/andrew/.julia/packages/MLJBase/Ov46j/src/machines.jl:319\n"
     ]
    },
    {
     "name": "stdout",
     "output_type": "stream",
     "text": [
      "Iteration 2: Jclust = 111571.00890938425\n",
      "Iteration 3: Jclust = 111571.00890938425\n",
      "Successfully terminated with convergence.\n",
      "mach.report.totalcost = 60530.081144863965\n",
      "countmap(mach.report.assignments) = Dict(2 => 6,3 => 1,1 => 731)\n",
      "mean(s) = 0.56527581509701\n",
      "\n",
      "K = 4\n",
      "Iteration 1: Jclust = 59593.59536523831\n",
      "Iteration 2: Jclust = 80216.10976826624\n",
      "Iteration 3: Jclust = 74184.43120229282\n",
      "Iteration 4: Jclust = 66311.02258210859\n",
      "Iteration 5: Jclust = 56177.95984568506\n",
      "Iteration 6: Jclust = 53803.23842492724\n",
      "Iteration 7: Jclust = 53266.43227964181\n",
      "Iteration 8: Jclust = 52794.50688336391\n",
      "Iteration 9: Jclust = 54493.66136561509\n",
      "Iteration 10: Jclust = 52822.3763657402\n",
      "Iteration 11: Jclust = 53651.013492818274\n",
      "Iteration 12: Jclust = 53847.247114172664\n",
      "Iteration 13: Jclust = 54177.430557969754\n",
      "Iteration 14: Jclust = 54177.430557969754\n",
      "Successfully terminated with convergence.\n",
      "mach.report.totalcost = 47336.7263057391\n",
      "countmap(mach.report.assignments) = Dict(4 => 178,2 => 6,3 => 1,1 => 553)\n",
      "mean(s) = 0.3131428446234603\n",
      "\n",
      "K = 5\n",
      "Iteration 1: Jclust = 56742.6364464104\n",
      "Iteration 2: Jclust = 47333.18335918052\n",
      "Iteration 3: Jclust = 45757.13968088624\n",
      "Iteration 4: Jclust = 45932.604990611406\n",
      "Iteration 5: Jclust = 45254.38878953537\n",
      "Iteration 6: Jclust = 45716.26669880958\n",
      "Iteration 7: Jclust = 45878.02520598757\n",
      "Iteration 8: Jclust = 45899.858989585366\n",
      "Iteration 9: Jclust = 45886.30327911277\n",
      "Iteration 10: Jclust = 45863.67784028696\n",
      "Iteration 11: Jclust = 45973.61186334927\n",
      "Iteration 12: Jclust = 46079.70299648733\n",
      "Iteration 13: Jclust = 46185.33506912498\n",
      "Iteration 14: Jclust = 46292.02518356076\n",
      "Iteration 15: Jclust = 46381.430508684396\n",
      "Iteration 16: Jclust = 46375.41269448439\n",
      "Iteration 17: Jclust = 46315.21582369572\n",
      "Iteration 18: Jclust = 46493.345784509176\n",
      "Iteration 19: Jclust = 46666.348290651615\n",
      "Iteration 20: Jclust = 46779.34743870318\n",
      "Iteration 21: Jclust = 46864.45155788323\n",
      "Iteration 22: Jclust = 46864.45155788323\n",
      "Successfully terminated with convergence.\n",
      "mach.report.totalcost = 40937.13823640927\n",
      "countmap(mach.report.assignments) = Dict(4 => 49,2 => 6,3 => 1,5 => 192,1 => 490)\n",
      "mean(s) = 0.27242205049021656\n",
      "\n",
      "K = 6\n",
      "Iteration 1: Jclust = 52415.74414410049\n",
      "Iteration 2: Jclust = 45794.997531870016\n",
      "Iteration 3: Jclust = 41438.39519467366\n",
      "Iteration 4: Jclust = 41774.312244899615\n",
      "Iteration 5: Jclust = 41717.80352976658\n",
      "Iteration 6: Jclust = 41137.49489775403\n",
      "Iteration 7: Jclust = 38654.06015183755\n",
      "Iteration 8: Jclust = 38993.82323360017\n",
      "Iteration 9: Jclust = 38985.28024816476\n",
      "Iteration 10: Jclust = 39094.07821783442\n",
      "Iteration 11: Jclust = 39151.55756790831\n",
      "Iteration 12: Jclust = 39146.498158553586\n",
      "Iteration 13: Jclust = 39281.88352435935\n",
      "Iteration 14: Jclust = 39281.88352435935\n",
      "Successfully terminated with convergence.\n",
      "mach.report.totalcost = 37423.81818463419\n",
      "countmap(mach.report.assignments) = Dict(4 => 52,2 => 6,3 => 1,5 => 25,6 => 195,1 => 459)\n",
      "mean(s) = 0.2219719600510713\n",
      "\n",
      "K = 7\n",
      "Iteration 1: Jclust = 47671.07569484251\n",
      "Iteration 2: Jclust = 42013.2515243667\n",
      "Iteration 3: Jclust = 38296.007297445874\n",
      "Iteration 4: Jclust = 38499.56078254001\n",
      "Iteration 5: Jclust = 39068.09545000123\n",
      "Iteration 6: Jclust = 37888.03616007039\n",
      "Iteration 7: Jclust = 37963.59721400154\n",
      "Iteration 8: Jclust = 37944.76978694093\n",
      "Iteration 9: Jclust = 38018.39247182488\n",
      "Iteration 10: Jclust = 37654.416112603925\n",
      "Iteration 11: Jclust = 37148.65646030657\n",
      "Iteration 12: Jclust = 36949.72816001344\n",
      "Iteration 13: Jclust = 37285.55117183151\n",
      "Iteration 14: Jclust = 37138.15110018985\n",
      "Iteration 15: Jclust = 36764.50847358085\n",
      "Iteration 16: Jclust = 36813.0963869173\n",
      "Iteration 17: Jclust = 36937.98144586338\n",
      "Iteration 18: Jclust = 36529.789721015724\n",
      "Iteration 19: Jclust = 36557.519170984306\n",
      "Iteration 20: Jclust = 36557.519170984306\n",
      "Successfully terminated with convergence.\n",
      "mach.report.totalcost = 34831.725466955366\n",
      "countmap(mach.report.assignments) = Dict(7 => 122,4 => 25,2 => 6,3 => 1,5 => 75,6 => 128,1 => 381)\n",
      "mean(s) = 0.20733154489445563\n",
      "\n",
      "K = 8\n",
      "Iteration 1: Jclust = 45055.9150494746\n",
      "Iteration 2: Jclust = 37676.49950331509\n",
      "Iteration 3: Jclust = 35816.028263133216\n",
      "Iteration 4: Jclust = 35831.56832486478\n",
      "Iteration 5: Jclust = 35382.93439697882\n",
      "Iteration 6: Jclust = 35034.814240580425\n",
      "Iteration 7: Jclust = 34347.28231550903\n",
      "Iteration 8: Jclust = 34678.252108661094\n",
      "Iteration 9: Jclust = 34800.521476660564\n",
      "Iteration 10: Jclust = 34883.394302239256\n",
      "Iteration 11: Jclust = 35083.741591310856\n",
      "Iteration 12: Jclust = 35142.22740768446\n",
      "Iteration 13: Jclust = 35205.83277692936\n",
      "Iteration 14: Jclust = 35120.99689973355\n",
      "Iteration 15: Jclust = 35120.99689973355\n",
      "Successfully terminated with convergence.\n",
      "mach.report.totalcost = 33200.01824414816\n",
      "countmap(mach.report.assignments) = Dict(7 => 103,4 => 16,2 => 6,3 => 1,5 => 79,8 => 96,6 => 61,1 => 376)\n",
      "mean(s) = 0.19809367695958904\n",
      "\n",
      "K = 9\n",
      "Iteration 1: Jclust = 42828.06357788393\n",
      "Iteration 2: Jclust = 34879.65531191996\n",
      "Iteration 3: Jclust = 35839.09348465453\n",
      "Iteration 4: Jclust = 33169.123263077796\n",
      "Iteration 5: Jclust = 34117.822004704474\n",
      "Iteration 6: Jclust = 34467.53895486191\n",
      "Iteration 7: Jclust = 33993.22586550741\n",
      "Iteration 8: Jclust = 34157.56082149126\n",
      "Iteration 9: Jclust = 33689.457315959415\n",
      "Iteration 10: Jclust = 33265.4112572009\n",
      "Iteration 11: Jclust = 32983.69585055959\n",
      "Iteration 12: Jclust = 32419.767429053903\n",
      "Iteration 13: Jclust = 32332.873186652017\n",
      "Iteration 14: Jclust = 32457.193409768268\n",
      "Iteration 15: Jclust = 32765.420974611527\n",
      "Iteration 16: Jclust = 32111.79478542311\n",
      "Iteration 17: Jclust = 32118.447297378174\n",
      "Iteration 18: Jclust = 31979.75021030833\n",
      "Iteration 19: Jclust = 31459.65192535536\n",
      "Iteration 20: Jclust = 31475.121118653908\n",
      "Iteration 21: Jclust = 31639.027966014954\n",
      "Iteration 22: Jclust = 31779.928143202036\n",
      "Iteration 23: Jclust = 31755.79100347276\n",
      "Iteration 24: Jclust = 31274.26893282932\n",
      "Iteration 25: Jclust = 31362.016357168737\n",
      "Iteration 26: Jclust = 31362.016357168737\n",
      "Successfully terminated with convergence.\n",
      "mach.report.totalcost = 30241.09731327132\n",
      "countmap(mach.report.assignments) = Dict(7 => 26,4 => 16,9 => 79,2 => 6,3 => 1,5 => 206,8 => 80,6 => 43,1 => 281)\n"
     ]
    },
    {
     "name": "stderr",
     "output_type": "stream",
     "text": [
      "┌ Warning: The scitype of `X`, in `machine(model, X)` is incompatible with `model=\u001b[34mKMeans @212\u001b[39m`:\n",
      "│ scitype(X) = Table{Union{AbstractArray{Continuous,1}, AbstractArray{Count,1}}}\n",
      "│ input_scitype(model) = Table{var\"#s45\"} where var\"#s45\"<:(AbstractArray{var\"#s13\",1} where var\"#s13\"<:Continuous).\n",
      "└ @ MLJBase /home/andrew/.julia/packages/MLJBase/Ov46j/src/machines.jl:116\n",
      "┌ Info: Training \u001b[34mMachine{KMeans} @903\u001b[39m.\n",
      "└ @ MLJBase /home/andrew/.julia/packages/MLJBase/Ov46j/src/machines.jl:319\n",
      "┌ Warning: The scitype of `X`, in `machine(model, X)` is incompatible with `model=\u001b[34mKMeans @122\u001b[39m`:\n",
      "│ scitype(X) = Table{Union{AbstractArray{Continuous,1}, AbstractArray{Count,1}}}\n",
      "│ input_scitype(model) = Table{var\"#s45\"} where var\"#s45\"<:(AbstractArray{var\"#s13\",1} where var\"#s13\"<:Continuous).\n",
      "└ @ MLJBase /home/andrew/.julia/packages/MLJBase/Ov46j/src/machines.jl:116\n",
      "┌ Info: Training \u001b[34mMachine{KMeans} @419\u001b[39m.\n",
      "└ @ MLJBase /home/andrew/.julia/packages/MLJBase/Ov46j/src/machines.jl:319\n",
      "┌ Warning: The scitype of `X`, in `machine(model, X)` is incompatible with `model=\u001b[34mKMeans @350\u001b[39m`:\n",
      "│ scitype(X) = Table{Union{AbstractArray{Continuous,1}, AbstractArray{Count,1}}}\n",
      "│ input_scitype(model) = Table{var\"#s45\"} where var\"#s45\"<:(AbstractArray{var\"#s13\",1} where var\"#s13\"<:Continuous).\n",
      "└ @ MLJBase /home/andrew/.julia/packages/MLJBase/Ov46j/src/machines.jl:116\n",
      "┌ Info: Training \u001b[34mMachine{KMeans} @085\u001b[39m.\n",
      "└ @ MLJBase /home/andrew/.julia/packages/MLJBase/Ov46j/src/machines.jl:319\n",
      "┌ Warning: The scitype of `X`, in `machine(model, X)` is incompatible with `model=\u001b[34mKMeans @919\u001b[39m`:\n",
      "│ scitype(X) = Table{Union{AbstractArray{Continuous,1}, AbstractArray{Count,1}}}\n",
      "│ input_scitype(model) = Table{var\"#s45\"} where var\"#s45\"<:(AbstractArray{var\"#s13\",1} where var\"#s13\"<:Continuous).\n",
      "└ @ MLJBase /home/andrew/.julia/packages/MLJBase/Ov46j/src/machines.jl:116\n",
      "┌ Info: Training \u001b[34mMachine{KMeans} @156\u001b[39m.\n",
      "└ @ MLJBase /home/andrew/.julia/packages/MLJBase/Ov46j/src/machines.jl:319\n",
      "┌ Warning: The scitype of `X`, in `machine(model, X)` is incompatible with `model=\u001b[34mKMeans @424\u001b[39m`:\n",
      "│ scitype(X) = Table{Union{AbstractArray{Continuous,1}, AbstractArray{Count,1}}}\n",
      "│ input_scitype(model) = Table{var\"#s45\"} where var\"#s45\"<:(AbstractArray{var\"#s13\",1} where var\"#s13\"<:Continuous).\n",
      "└ @ MLJBase /home/andrew/.julia/packages/MLJBase/Ov46j/src/machines.jl:116\n",
      "┌ Info: Training \u001b[34mMachine{KMeans} @653\u001b[39m.\n",
      "└ @ MLJBase /home/andrew/.julia/packages/MLJBase/Ov46j/src/machines.jl:319\n",
      "┌ Warning: The scitype of `X`, in `machine(model, X)` is incompatible with `model=\u001b[34mKMeans @992\u001b[39m`:\n",
      "│ scitype(X) = Table{Union{AbstractArray{Continuous,1}, AbstractArray{Count,1}}}\n",
      "│ input_scitype(model) = Table{var\"#s45\"} where var\"#s45\"<:(AbstractArray{var\"#s13\",1} where var\"#s13\"<:Continuous).\n",
      "└ @ MLJBase /home/andrew/.julia/packages/MLJBase/Ov46j/src/machines.jl:116\n",
      "┌ Info: Training \u001b[34mMachine{KMeans} @356\u001b[39m.\n",
      "└ @ MLJBase /home/andrew/.julia/packages/MLJBase/Ov46j/src/machines.jl:319\n"
     ]
    },
    {
     "name": "stdout",
     "output_type": "stream",
     "text": [
      "mean(s) = 0.1890810793273911\n",
      "\n",
      "K = 10\n",
      "Iteration 1: Jclust = 42549.55079055577\n",
      "Iteration 2: Jclust = 34277.69038033911\n",
      "Iteration 3: Jclust = 34865.98375247782\n",
      "Iteration 4: Jclust = 32697.97155529706\n",
      "Iteration 5: Jclust = 32970.54920102257\n",
      "Iteration 6: Jclust = 33282.01026240479\n",
      "Iteration 7: Jclust = 33054.053282795896\n",
      "Iteration 8: Jclust = 32404.57090319886\n",
      "Iteration 9: Jclust = 32432.925684978276\n",
      "Iteration 10: Jclust = 32147.91505217785\n",
      "Iteration 11: Jclust = 32024.444213896815\n",
      "Iteration 12: Jclust = 31368.12566266452\n",
      "Iteration 13: Jclust = 30936.153311308808\n",
      "Iteration 14: Jclust = 30987.95611136076\n",
      "Iteration 15: Jclust = 31194.26876034567\n",
      "Iteration 16: Jclust = 30390.7254333498\n",
      "Iteration 17: Jclust = 29859.258869644225\n",
      "Iteration 18: Jclust = 30451.820919494996\n",
      "Iteration 19: Jclust = 29783.119156427012\n",
      "Iteration 20: Jclust = 30125.48348574591\n",
      "Iteration 21: Jclust = 30269.728330501886\n",
      "Iteration 22: Jclust = 30269.728330501886\n",
      "Successfully terminated with convergence.\n",
      "mach.report.totalcost = 28686.217504150638\n",
      "countmap(mach.report.assignments) = Dict(7 => 23,4 => 16,9 => 58,10 => 184,2 => 6,3 => 1,5 => 147,8 => 69,6 => 44,1 => 190)\n",
      "mean(s) = 0.14225212409552193\n",
      "\n",
      "K = 11\n",
      "Iteration 1: Jclust = 40697.17827799159\n",
      "Iteration 2: Jclust = 31118.671769307497\n",
      "Iteration 3: Jclust = 31651.856997120994\n",
      "Iteration 4: Jclust = 29888.62672868425\n",
      "Iteration 5: Jclust = 30441.95886955559\n",
      "Iteration 6: Jclust = 30194.067285213267\n",
      "Iteration 7: Jclust = 30221.1537809494\n",
      "Iteration 8: Jclust = 29923.975292752046\n",
      "Iteration 9: Jclust = 29829.787471304197\n",
      "Iteration 10: Jclust = 29560.620157960184\n",
      "Iteration 11: Jclust = 28859.700722655143\n",
      "Iteration 12: Jclust = 29033.27748667174\n",
      "Iteration 13: Jclust = 29257.395403049974\n",
      "Iteration 14: Jclust = 29229.586368732285\n",
      "Iteration 15: Jclust = 29190.359100110065\n",
      "Iteration 16: Jclust = 29150.286819033063\n",
      "Iteration 17: Jclust = 29150.286819033063\n",
      "Successfully terminated with convergence.\n",
      "mach.report.totalcost = 27768.817974382804\n",
      "countmap(mach.report.assignments) = Dict(2 => 6,11 => 151,7 => 21,9 => 46,10 => 178,8 => 70,6 => 44,4 => 16,3 => 1,5 => 16,1 => 189)\n",
      "mean(s) = 0.1485722759497798\n",
      "\n",
      "K = 12\n",
      "Iteration 1: Jclust = 39178.889380485816\n",
      "Iteration 2: Jclust = 29105.65359875179\n",
      "Iteration 3: Jclust = 31081.568335917218\n",
      "Iteration 4: Jclust = 29137.486710508798\n",
      "Iteration 5: Jclust = 28855.94385246208\n",
      "Iteration 6: Jclust = 28391.833152601677\n",
      "Iteration 7: Jclust = 27902.23240906261\n",
      "Iteration 8: Jclust = 29000.897991195092\n",
      "Iteration 9: Jclust = 28705.09864044666\n",
      "Iteration 10: Jclust = 28698.436556254266\n",
      "Iteration 11: Jclust = 27932.64901393948\n",
      "Iteration 12: Jclust = 27735.609793581916\n",
      "Iteration 13: Jclust = 27764.289525823646\n",
      "Iteration 14: Jclust = 27835.90318102236\n",
      "Iteration 15: Jclust = 27771.379124762294\n",
      "Iteration 16: Jclust = 27771.379124762294\n",
      "Successfully terminated with convergence.\n",
      "mach.report.totalcost = 26374.88817426358\n",
      "countmap(mach.report.assignments) = Dict(2 => 6,11 => 150,7 => 20,9 => 47,10 => 178,8 => 70,6 => 44,4 => 15,3 => 1,5 => 16,12 => 2,1 => 189)\n",
      "mean(s) = 0.15164169953503565\n",
      "\n",
      "K = 13\n",
      "Iteration 1: Jclust = 38709.61791932193\n",
      "Iteration 2: Jclust = 27901.09609294822\n",
      "Iteration 3: Jclust = 29393.112680102065\n",
      "Iteration 4: Jclust = 28005.646916562036\n",
      "Iteration 5: Jclust = 27648.336015367964\n",
      "Iteration 6: Jclust = 27296.46224483495\n",
      "Iteration 7: Jclust = 27203.2933358779\n",
      "Iteration 8: Jclust = 27370.024413008872\n",
      "Iteration 9: Jclust = 27311.61769085454\n",
      "Iteration 10: Jclust = 27482.493525023678\n",
      "Iteration 11: Jclust = 27260.09960645597\n",
      "Iteration 12: Jclust = 26670.498262739384\n",
      "Iteration 13: Jclust = 26411.834113130095\n",
      "Iteration 14: Jclust = 26199.388571685973\n",
      "Iteration 15: Jclust = 25866.755660157134\n",
      "Iteration 16: Jclust = 26255.335210863996\n",
      "Iteration 17: Jclust = 26527.384333874354\n",
      "Iteration 18: Jclust = 26645.125316340265\n",
      "Iteration 19: Jclust = 26702.14977387633\n",
      "Iteration 20: Jclust = 26682.71986888782\n",
      "Iteration 21: Jclust = 26686.128152843834\n",
      "Iteration 22: Jclust = 26720.274215242065\n",
      "Iteration 23: Jclust = 26720.274215242065\n",
      "Successfully terminated with convergence.\n",
      "mach.report.totalcost = 25261.271605841514\n",
      "countmap(mach.report.assignments) = Dict(2 => 6,11 => 78,7 => 19,9 => 40,10 => 152,8 => 64,6 => 43,4 => 15,3 => 1,5 => 12,13 => 134,12 => 2,1 => 172)\n",
      "mean(s) = 0.14032807406552722\n",
      "\n",
      "K = 14\n",
      "Iteration 1: Jclust = 38396.76641398822\n",
      "Iteration 2: Jclust = 27491.39465185688\n",
      "Iteration 3: Jclust = 28889.40201032849\n",
      "Iteration 4: Jclust = 26818.07938870922\n",
      "Iteration 5: Jclust = 27183.46465070587\n",
      "Iteration 6: Jclust = 26977.088737745864\n",
      "Iteration 7: Jclust = 27296.973214073616\n",
      "Iteration 8: Jclust = 26828.47725471662\n",
      "Iteration 9: Jclust = 26129.688652259512\n",
      "Iteration 10: Jclust = 26494.295159970585\n",
      "Iteration 11: Jclust = 26091.380036152477\n",
      "Iteration 12: Jclust = 25734.300118037303\n",
      "Iteration 13: Jclust = 25455.39681419243\n",
      "Iteration 14: Jclust = 26008.2814198857\n",
      "Iteration 15: Jclust = 25697.578164407092\n",
      "Iteration 16: Jclust = 25503.760208220003\n",
      "Iteration 17: Jclust = 25330.14368955767\n",
      "Iteration 18: Jclust = 24983.602318273093\n",
      "Iteration 19: Jclust = 24711.494859846738\n",
      "Iteration 20: Jclust = 24823.05183558287\n",
      "Iteration 21: Jclust = 24879.48411438867\n",
      "Iteration 22: Jclust = 24879.48411438867\n",
      "Successfully terminated with convergence.\n",
      "mach.report.totalcost = 24364.65288210916\n",
      "countmap(mach.report.assignments) = Dict(2 => 6,11 => 77,7 => 20,9 => 31,10 => 144,8 => 64,6 => 43,4 => 15,3 => 1,5 => 12,13 => 133,14 => 36,12 => 2,1 => 154)\n"
     ]
    },
    {
     "name": "stderr",
     "output_type": "stream",
     "text": [
      "┌ Warning: The scitype of `X`, in `machine(model, X)` is incompatible with `model=\u001b[34mKMeans @979\u001b[39m`:\n",
      "│ scitype(X) = Table{Union{AbstractArray{Continuous,1}, AbstractArray{Count,1}}}\n",
      "│ input_scitype(model) = Table{var\"#s45\"} where var\"#s45\"<:(AbstractArray{var\"#s13\",1} where var\"#s13\"<:Continuous).\n",
      "└ @ MLJBase /home/andrew/.julia/packages/MLJBase/Ov46j/src/machines.jl:116\n",
      "┌ Info: Training \u001b[34mMachine{KMeans} @658\u001b[39m.\n",
      "└ @ MLJBase /home/andrew/.julia/packages/MLJBase/Ov46j/src/machines.jl:319\n",
      "┌ Warning: The scitype of `X`, in `machine(model, X)` is incompatible with `model=\u001b[34mKMeans @130\u001b[39m`:\n",
      "│ scitype(X) = Table{Union{AbstractArray{Continuous,1}, AbstractArray{Count,1}}}\n",
      "│ input_scitype(model) = Table{var\"#s45\"} where var\"#s45\"<:(AbstractArray{var\"#s13\",1} where var\"#s13\"<:Continuous).\n",
      "└ @ MLJBase /home/andrew/.julia/packages/MLJBase/Ov46j/src/machines.jl:116\n",
      "┌ Info: Training \u001b[34mMachine{KMeans} @543\u001b[39m.\n",
      "└ @ MLJBase /home/andrew/.julia/packages/MLJBase/Ov46j/src/machines.jl:319\n",
      "┌ Warning: The scitype of `X`, in `machine(model, X)` is incompatible with `model=\u001b[34mKMeans @440\u001b[39m`:\n",
      "│ scitype(X) = Table{Union{AbstractArray{Continuous,1}, AbstractArray{Count,1}}}\n",
      "│ input_scitype(model) = Table{var\"#s45\"} where var\"#s45\"<:(AbstractArray{var\"#s13\",1} where var\"#s13\"<:Continuous).\n",
      "└ @ MLJBase /home/andrew/.julia/packages/MLJBase/Ov46j/src/machines.jl:116\n",
      "┌ Info: Training \u001b[34mMachine{KMeans} @259\u001b[39m.\n",
      "└ @ MLJBase /home/andrew/.julia/packages/MLJBase/Ov46j/src/machines.jl:319\n",
      "┌ Warning: The scitype of `X`, in `machine(model, X)` is incompatible with `model=\u001b[34mKMeans @497\u001b[39m`:\n",
      "│ scitype(X) = Table{Union{AbstractArray{Continuous,1}, AbstractArray{Count,1}}}\n",
      "│ input_scitype(model) = Table{var\"#s45\"} where var\"#s45\"<:(AbstractArray{var\"#s13\",1} where var\"#s13\"<:Continuous).\n",
      "└ @ MLJBase /home/andrew/.julia/packages/MLJBase/Ov46j/src/machines.jl:116\n",
      "┌ Info: Training \u001b[34mMachine{KMeans} @059\u001b[39m.\n",
      "└ @ MLJBase /home/andrew/.julia/packages/MLJBase/Ov46j/src/machines.jl:319\n",
      "┌ Warning: The scitype of `X`, in `machine(model, X)` is incompatible with `model=\u001b[34mKMeans @328\u001b[39m`:\n",
      "│ scitype(X) = Table{Union{AbstractArray{Continuous,1}, AbstractArray{Count,1}}}\n",
      "│ input_scitype(model) = Table{var\"#s45\"} where var\"#s45\"<:(AbstractArray{var\"#s13\",1} where var\"#s13\"<:Continuous).\n",
      "└ @ MLJBase /home/andrew/.julia/packages/MLJBase/Ov46j/src/machines.jl:116\n",
      "┌ Info: Training \u001b[34mMachine{KMeans} @465\u001b[39m.\n",
      "└ @ MLJBase /home/andrew/.julia/packages/MLJBase/Ov46j/src/machines.jl:319\n"
     ]
    },
    {
     "name": "stdout",
     "output_type": "stream",
     "text": [
      "mean(s) = 0.14476616766102005\n",
      "\n",
      "K = 15\n",
      "Iteration 1: Jclust = 37294.84810550567\n",
      "Iteration 2: Jclust = 26616.74656666285\n",
      "Iteration 3: Jclust = 26873.35832461617\n",
      "Iteration 4: Jclust = 25921.67940245383\n",
      "Iteration 5: Jclust = 26343.72508910541\n",
      "Iteration 6: Jclust = 26483.637605373187\n",
      "Iteration 7: Jclust = 25947.880494363628\n",
      "Iteration 8: Jclust = 25620.855617508867\n",
      "Iteration 9: Jclust = 25493.891665740382\n",
      "Iteration 10: Jclust = 25655.954129011283\n",
      "Iteration 11: Jclust = 25704.627857599313\n",
      "Iteration 12: Jclust = 25836.166248650465\n",
      "Iteration 13: Jclust = 25362.84817156288\n",
      "Iteration 14: Jclust = 25331.360744741538\n",
      "Iteration 15: Jclust = 24988.04157101894\n",
      "Iteration 16: Jclust = 25418.0251973197\n",
      "Iteration 17: Jclust = 25572.94467956421\n",
      "Iteration 18: Jclust = 24931.731181908537\n",
      "Iteration 19: Jclust = 24608.436965611043\n",
      "Iteration 20: Jclust = 24924.060255510543\n",
      "Iteration 21: Jclust = 24549.144100464655\n",
      "Iteration 22: Jclust = 24049.298771960683\n",
      "Iteration 23: Jclust = 24558.21978096791\n",
      "Iteration 24: Jclust = 24302.686893084414\n",
      "Iteration 25: Jclust = 24266.21527377698\n",
      "Iteration 26: Jclust = 24148.903225965158\n",
      "Iteration 27: Jclust = 24148.903225965158\n",
      "Successfully terminated with convergence.\n",
      "mach.report.totalcost = 23609.540797477064\n",
      "countmap(mach.report.assignments) = Dict(2 => 6,11 => 76,7 => 19,9 => 32,10 => 85,8 => 31,6 => 43,4 => 15,3 => 1,5 => 12,13 => 123,14 => 36,15 => 148,12 => 2,1 => 109)\n",
      "mean(s) = 0.1431850987302669\n",
      "\n"
     ]
    },
    {
     "name": "stderr",
     "output_type": "stream",
     "text": [
      "┌ Warning: The scitype of `X`, in `machine(model, X)` is incompatible with `model=\u001b[34mKMeans @018\u001b[39m`:\n",
      "│ scitype(X) = Table{Union{AbstractArray{Continuous,1}, AbstractArray{Count,1}}}\n",
      "│ input_scitype(model) = Table{var\"#s45\"} where var\"#s45\"<:(AbstractArray{var\"#s13\",1} where var\"#s13\"<:Continuous).\n",
      "└ @ MLJBase /home/andrew/.julia/packages/MLJBase/Ov46j/src/machines.jl:116\n",
      "┌ Info: Training \u001b[34mMachine{KMeans} @017\u001b[39m.\n",
      "└ @ MLJBase /home/andrew/.julia/packages/MLJBase/Ov46j/src/machines.jl:319\n"
     ]
    }
   ],
   "source": [
    "k_range = 2:15\n",
    "total_costs = []\n",
    "sils = []\n",
    "\n",
    "for i in k_range\n",
    "    println(\"K = $i\")\n",
    "    model = ParallelKMeans.KMeans(k=i, rng=RNG)\n",
    "    mach = machine(model, X_stand[train,:]) |> MLJ.fit!\n",
    "#     @show report(mach) \n",
    "#     @show fitted_params(mach)\n",
    "    @show mach.report.totalcost # https://github.com/PyDataBlog/ParallelKMeans.jl/blob/87ce07d10796078aacffcbea0b2e9dc0c02f25d7/src/hamerly.jl#L65\n",
    "    @show countmap(mach.report.assignments)\n",
    "    s = silhouettes(mach.report.assignments, dist_mat(convert(Matrix,X_stand[train,:])))\n",
    "    @show mean(s)\n",
    "    push!(total_costs, mach.report.totalcost) \n",
    "    push!(sils, mean(s))\n",
    "    println(\"\")\n",
    "end"
   ]
  },
  {
   "cell_type": "code",
   "execution_count": 86,
   "metadata": {},
   "outputs": [
    {
     "data": {
      "image/svg+xml": [
       "<?xml version=\"1.0\" encoding=\"utf-8\"?>\n",
       "<svg xmlns=\"http://www.w3.org/2000/svg\" xmlns:xlink=\"http://www.w3.org/1999/xlink\" width=\"600\" height=\"400\" viewBox=\"0 0 2400 1600\">\n",
       "<defs>\n",
       "  <clipPath id=\"clip400\">\n",
       "    <rect x=\"0\" y=\"0\" width=\"2400\" height=\"1600\"/>\n",
       "  </clipPath>\n",
       "</defs>\n",
       "<path clip-path=\"url(#clip400)\" d=\"\n",
       "M0 1600 L2400 1600 L2400 0 L0 0  Z\n",
       "  \" fill=\"#ffffff\" fill-rule=\"evenodd\" fill-opacity=\"1\"/>\n",
       "<defs>\n",
       "  <clipPath id=\"clip401\">\n",
       "    <rect x=\"480\" y=\"0\" width=\"1681\" height=\"1600\"/>\n",
       "  </clipPath>\n",
       "</defs>\n",
       "<path clip-path=\"url(#clip400)\" d=\"\n",
       "M218.681 1486.45 L2352.76 1486.45 L2352.76 47.2441 L218.681 47.2441  Z\n",
       "  \" fill=\"#ffffff\" fill-rule=\"evenodd\" fill-opacity=\"1\"/>\n",
       "<defs>\n",
       "  <clipPath id=\"clip402\">\n",
       "    <rect x=\"218\" y=\"47\" width=\"2135\" height=\"1440\"/>\n",
       "  </clipPath>\n",
       "</defs>\n",
       "<polyline clip-path=\"url(#clip402)\" style=\"stroke:#000000; stroke-width:2; stroke-opacity:0.1; fill:none\" points=\"\n",
       "  279.08,1486.45 279.08,47.2441 \n",
       "  \"/>\n",
       "<polyline clip-path=\"url(#clip402)\" style=\"stroke:#000000; stroke-width:2; stroke-opacity:0.1; fill:none\" points=\"\n",
       "  588.815,1486.45 588.815,47.2441 \n",
       "  \"/>\n",
       "<polyline clip-path=\"url(#clip402)\" style=\"stroke:#000000; stroke-width:2; stroke-opacity:0.1; fill:none\" points=\"\n",
       "  898.55,1486.45 898.55,47.2441 \n",
       "  \"/>\n",
       "<polyline clip-path=\"url(#clip402)\" style=\"stroke:#000000; stroke-width:2; stroke-opacity:0.1; fill:none\" points=\"\n",
       "  1208.28,1486.45 1208.28,47.2441 \n",
       "  \"/>\n",
       "<polyline clip-path=\"url(#clip402)\" style=\"stroke:#000000; stroke-width:2; stroke-opacity:0.1; fill:none\" points=\"\n",
       "  1518.02,1486.45 1518.02,47.2441 \n",
       "  \"/>\n",
       "<polyline clip-path=\"url(#clip402)\" style=\"stroke:#000000; stroke-width:2; stroke-opacity:0.1; fill:none\" points=\"\n",
       "  1827.75,1486.45 1827.75,47.2441 \n",
       "  \"/>\n",
       "<polyline clip-path=\"url(#clip402)\" style=\"stroke:#000000; stroke-width:2; stroke-opacity:0.1; fill:none\" points=\"\n",
       "  2137.49,1486.45 2137.49,47.2441 \n",
       "  \"/>\n",
       "<polyline clip-path=\"url(#clip400)\" style=\"stroke:#000000; stroke-width:4; stroke-opacity:1; fill:none\" points=\"\n",
       "  218.681,1486.45 2352.76,1486.45 \n",
       "  \"/>\n",
       "<polyline clip-path=\"url(#clip400)\" style=\"stroke:#000000; stroke-width:4; stroke-opacity:1; fill:none\" points=\"\n",
       "  279.08,1486.45 279.08,1469.18 \n",
       "  \"/>\n",
       "<polyline clip-path=\"url(#clip400)\" style=\"stroke:#000000; stroke-width:4; stroke-opacity:1; fill:none\" points=\"\n",
       "  588.815,1486.45 588.815,1469.18 \n",
       "  \"/>\n",
       "<polyline clip-path=\"url(#clip400)\" style=\"stroke:#000000; stroke-width:4; stroke-opacity:1; fill:none\" points=\"\n",
       "  898.55,1486.45 898.55,1469.18 \n",
       "  \"/>\n",
       "<polyline clip-path=\"url(#clip400)\" style=\"stroke:#000000; stroke-width:4; stroke-opacity:1; fill:none\" points=\"\n",
       "  1208.28,1486.45 1208.28,1469.18 \n",
       "  \"/>\n",
       "<polyline clip-path=\"url(#clip400)\" style=\"stroke:#000000; stroke-width:4; stroke-opacity:1; fill:none\" points=\"\n",
       "  1518.02,1486.45 1518.02,1469.18 \n",
       "  \"/>\n",
       "<polyline clip-path=\"url(#clip400)\" style=\"stroke:#000000; stroke-width:4; stroke-opacity:1; fill:none\" points=\"\n",
       "  1827.75,1486.45 1827.75,1469.18 \n",
       "  \"/>\n",
       "<polyline clip-path=\"url(#clip400)\" style=\"stroke:#000000; stroke-width:4; stroke-opacity:1; fill:none\" points=\"\n",
       "  2137.49,1486.45 2137.49,1469.18 \n",
       "  \"/>\n",
       "<path clip-path=\"url(#clip400)\" d=\"M 0 0 M273.732 1543.18 L290.052 1543.18 L290.052 1547.12 L268.107 1547.12 L268.107 1543.18 Q270.769 1540.43 275.353 1535.8 Q279.959 1531.15 281.14 1529.81 Q283.385 1527.28 284.265 1525.55 Q285.168 1523.79 285.168 1522.1 Q285.168 1519.34 283.223 1517.61 Q281.302 1515.87 278.2 1515.87 Q276.001 1515.87 273.547 1516.63 Q271.117 1517.4 268.339 1518.95 L268.339 1514.23 Q271.163 1513.09 273.617 1512.51 Q276.07 1511.93 278.107 1511.93 Q283.478 1511.93 286.672 1514.62 Q289.867 1517.31 289.867 1521.8 Q289.867 1523.93 289.056 1525.85 Q288.269 1527.74 286.163 1530.34 Q285.584 1531.01 282.482 1534.23 Q279.38 1537.42 273.732 1543.18 Z\" fill=\"#000000\" fill-rule=\"evenodd\" fill-opacity=\"1\" /><path clip-path=\"url(#clip400)\" d=\"M 0 0 M591.824 1516.63 L580.018 1535.08 L591.824 1535.08 L591.824 1516.63 M590.597 1512.56 L596.477 1512.56 L596.477 1535.08 L601.407 1535.08 L601.407 1538.97 L596.477 1538.97 L596.477 1547.12 L591.824 1547.12 L591.824 1538.97 L576.222 1538.97 L576.222 1534.46 L590.597 1512.56 Z\" fill=\"#000000\" fill-rule=\"evenodd\" fill-opacity=\"1\" /><path clip-path=\"url(#clip400)\" d=\"M 0 0 M898.955 1527.98 Q895.807 1527.98 893.955 1530.13 Q892.126 1532.28 892.126 1536.03 Q892.126 1539.76 893.955 1541.93 Q895.807 1544.09 898.955 1544.09 Q902.103 1544.09 903.932 1541.93 Q905.783 1539.76 905.783 1536.03 Q905.783 1532.28 903.932 1530.13 Q902.103 1527.98 898.955 1527.98 M908.237 1513.32 L908.237 1517.58 Q906.478 1516.75 904.672 1516.31 Q902.89 1515.87 901.131 1515.87 Q896.501 1515.87 894.047 1519 Q891.617 1522.12 891.27 1528.44 Q892.635 1526.43 894.696 1525.36 Q896.756 1524.27 899.233 1524.27 Q904.441 1524.27 907.45 1527.44 Q910.483 1530.59 910.483 1536.03 Q910.483 1541.36 907.334 1544.57 Q904.186 1547.79 898.955 1547.79 Q892.959 1547.79 889.788 1543.21 Q886.617 1538.6 886.617 1529.87 Q886.617 1521.68 890.506 1516.82 Q894.395 1511.93 900.946 1511.93 Q902.705 1511.93 904.487 1512.28 Q906.293 1512.63 908.237 1513.32 Z\" fill=\"#000000\" fill-rule=\"evenodd\" fill-opacity=\"1\" /><path clip-path=\"url(#clip400)\" d=\"M 0 0 M1208.28 1530.71 Q1204.95 1530.71 1203.03 1532.49 Q1201.13 1534.27 1201.13 1537.4 Q1201.13 1540.52 1203.03 1542.31 Q1204.95 1544.09 1208.28 1544.09 Q1211.62 1544.09 1213.54 1542.31 Q1215.46 1540.5 1215.46 1537.4 Q1215.46 1534.27 1213.54 1532.49 Q1211.64 1530.71 1208.28 1530.71 M1203.61 1528.72 Q1200.6 1527.98 1198.91 1525.92 Q1197.24 1523.86 1197.24 1520.89 Q1197.24 1516.75 1200.18 1514.34 Q1203.15 1511.93 1208.28 1511.93 Q1213.45 1511.93 1216.39 1514.34 Q1219.33 1516.75 1219.33 1520.89 Q1219.33 1523.86 1217.64 1525.92 Q1215.97 1527.98 1212.98 1528.72 Q1216.36 1529.5 1218.24 1531.8 Q1220.14 1534.09 1220.14 1537.4 Q1220.14 1542.42 1217.06 1545.11 Q1214 1547.79 1208.28 1547.79 Q1202.57 1547.79 1199.49 1545.11 Q1196.43 1542.42 1196.43 1537.4 Q1196.43 1534.09 1198.33 1531.8 Q1200.23 1529.5 1203.61 1528.72 M1201.9 1521.33 Q1201.9 1524.02 1203.56 1525.52 Q1205.25 1527.03 1208.28 1527.03 Q1211.29 1527.03 1212.98 1525.52 Q1214.7 1524.02 1214.7 1521.33 Q1214.7 1518.65 1212.98 1517.14 Q1211.29 1515.64 1208.28 1515.64 Q1205.25 1515.64 1203.56 1517.14 Q1201.9 1518.65 1201.9 1521.33 Z\" fill=\"#000000\" fill-rule=\"evenodd\" fill-opacity=\"1\" /><path clip-path=\"url(#clip400)\" d=\"M 0 0 M1494.9 1543.18 L1502.53 1543.18 L1502.53 1516.82 L1494.22 1518.49 L1494.22 1514.23 L1502.49 1512.56 L1507.16 1512.56 L1507.16 1543.18 L1514.8 1543.18 L1514.8 1547.12 L1494.9 1547.12 L1494.9 1543.18 Z\" fill=\"#000000\" fill-rule=\"evenodd\" fill-opacity=\"1\" /><path clip-path=\"url(#clip400)\" d=\"M 0 0 M1529.87 1515.64 Q1526.26 1515.64 1524.43 1519.2 Q1522.63 1522.75 1522.63 1529.87 Q1522.63 1536.98 1524.43 1540.55 Q1526.26 1544.09 1529.87 1544.09 Q1533.51 1544.09 1535.31 1540.55 Q1537.14 1536.98 1537.14 1529.87 Q1537.14 1522.75 1535.31 1519.2 Q1533.51 1515.64 1529.87 1515.64 M1529.87 1511.93 Q1535.68 1511.93 1538.74 1516.54 Q1541.82 1521.12 1541.82 1529.87 Q1541.82 1538.6 1538.74 1543.21 Q1535.68 1547.79 1529.87 1547.79 Q1524.06 1547.79 1520.98 1543.21 Q1517.93 1538.6 1517.93 1529.87 Q1517.93 1521.12 1520.98 1516.54 Q1524.06 1511.93 1529.87 1511.93 Z\" fill=\"#000000\" fill-rule=\"evenodd\" fill-opacity=\"1\" /><path clip-path=\"url(#clip400)\" d=\"M 0 0 M1805.43 1543.18 L1813.07 1543.18 L1813.07 1516.82 L1804.76 1518.49 L1804.76 1514.23 L1813.02 1512.56 L1817.7 1512.56 L1817.7 1543.18 L1825.34 1543.18 L1825.34 1547.12 L1805.43 1547.12 L1805.43 1543.18 Z\" fill=\"#000000\" fill-rule=\"evenodd\" fill-opacity=\"1\" /><path clip-path=\"url(#clip400)\" d=\"M 0 0 M1834.43 1543.18 L1850.75 1543.18 L1850.75 1547.12 L1828.81 1547.12 L1828.81 1543.18 Q1831.47 1540.43 1836.05 1535.8 Q1840.66 1531.15 1841.84 1529.81 Q1844.09 1527.28 1844.97 1525.55 Q1845.87 1523.79 1845.87 1522.1 Q1845.87 1519.34 1843.92 1517.61 Q1842 1515.87 1838.9 1515.87 Q1836.7 1515.87 1834.25 1516.63 Q1831.82 1517.4 1829.04 1518.95 L1829.04 1514.23 Q1831.86 1513.09 1834.32 1512.51 Q1836.77 1511.93 1838.81 1511.93 Q1844.18 1511.93 1847.37 1514.62 Q1850.57 1517.31 1850.57 1521.8 Q1850.57 1523.93 1849.76 1525.85 Q1848.97 1527.74 1846.86 1530.34 Q1846.28 1531.01 1843.18 1534.23 Q1840.08 1537.42 1834.43 1543.18 Z\" fill=\"#000000\" fill-rule=\"evenodd\" fill-opacity=\"1\" /><path clip-path=\"url(#clip400)\" d=\"M 0 0 M2114.12 1543.18 L2121.76 1543.18 L2121.76 1516.82 L2113.45 1518.49 L2113.45 1514.23 L2121.71 1512.56 L2126.39 1512.56 L2126.39 1543.18 L2134.03 1543.18 L2134.03 1547.12 L2114.12 1547.12 L2114.12 1543.18 Z\" fill=\"#000000\" fill-rule=\"evenodd\" fill-opacity=\"1\" /><path clip-path=\"url(#clip400)\" d=\"M 0 0 M2151.95 1516.63 L2140.14 1535.08 L2151.95 1535.08 L2151.95 1516.63 M2150.72 1512.56 L2156.6 1512.56 L2156.6 1535.08 L2161.53 1535.08 L2161.53 1538.97 L2156.6 1538.97 L2156.6 1547.12 L2151.95 1547.12 L2151.95 1538.97 L2136.34 1538.97 L2136.34 1534.46 L2150.72 1512.56 Z\" fill=\"#000000\" fill-rule=\"evenodd\" fill-opacity=\"1\" /><polyline clip-path=\"url(#clip402)\" style=\"stroke:#000000; stroke-width:2; stroke-opacity:0.1; fill:none\" points=\"\n",
       "  218.681,1304.74 2352.76,1304.74 \n",
       "  \"/>\n",
       "<polyline clip-path=\"url(#clip402)\" style=\"stroke:#000000; stroke-width:2; stroke-opacity:0.1; fill:none\" points=\"\n",
       "  218.681,1084.13 2352.76,1084.13 \n",
       "  \"/>\n",
       "<polyline clip-path=\"url(#clip402)\" style=\"stroke:#000000; stroke-width:2; stroke-opacity:0.1; fill:none\" points=\"\n",
       "  218.681,863.53 2352.76,863.53 \n",
       "  \"/>\n",
       "<polyline clip-path=\"url(#clip402)\" style=\"stroke:#000000; stroke-width:2; stroke-opacity:0.1; fill:none\" points=\"\n",
       "  218.681,642.925 2352.76,642.925 \n",
       "  \"/>\n",
       "<polyline clip-path=\"url(#clip402)\" style=\"stroke:#000000; stroke-width:2; stroke-opacity:0.1; fill:none\" points=\"\n",
       "  218.681,422.321 2352.76,422.321 \n",
       "  \"/>\n",
       "<polyline clip-path=\"url(#clip402)\" style=\"stroke:#000000; stroke-width:2; stroke-opacity:0.1; fill:none\" points=\"\n",
       "  218.681,201.716 2352.76,201.716 \n",
       "  \"/>\n",
       "<polyline clip-path=\"url(#clip400)\" style=\"stroke:#000000; stroke-width:4; stroke-opacity:1; fill:none\" points=\"\n",
       "  218.681,1486.45 218.681,47.2441 \n",
       "  \"/>\n",
       "<polyline clip-path=\"url(#clip400)\" style=\"stroke:#000000; stroke-width:4; stroke-opacity:1; fill:none\" points=\"\n",
       "  218.681,1304.74 244.29,1304.74 \n",
       "  \"/>\n",
       "<polyline clip-path=\"url(#clip400)\" style=\"stroke:#000000; stroke-width:4; stroke-opacity:1; fill:none\" points=\"\n",
       "  218.681,1084.13 244.29,1084.13 \n",
       "  \"/>\n",
       "<polyline clip-path=\"url(#clip400)\" style=\"stroke:#000000; stroke-width:4; stroke-opacity:1; fill:none\" points=\"\n",
       "  218.681,863.53 244.29,863.53 \n",
       "  \"/>\n",
       "<polyline clip-path=\"url(#clip400)\" style=\"stroke:#000000; stroke-width:4; stroke-opacity:1; fill:none\" points=\"\n",
       "  218.681,642.925 244.29,642.925 \n",
       "  \"/>\n",
       "<polyline clip-path=\"url(#clip400)\" style=\"stroke:#000000; stroke-width:4; stroke-opacity:1; fill:none\" points=\"\n",
       "  218.681,422.321 244.29,422.321 \n",
       "  \"/>\n",
       "<polyline clip-path=\"url(#clip400)\" style=\"stroke:#000000; stroke-width:4; stroke-opacity:1; fill:none\" points=\"\n",
       "  218.681,201.716 244.29,201.716 \n",
       "  \"/>\n",
       "<path clip-path=\"url(#clip400)\" d=\"M 0 0 M69.0476 1309.83 Q72.404 1310.55 74.279 1312.82 Q76.1772 1315.09 76.1772 1318.42 Q76.1772 1323.54 72.6587 1326.34 Q69.1402 1329.14 62.6587 1329.14 Q60.4828 1329.14 58.168 1328.7 Q55.8764 1328.28 53.4227 1327.43 L53.4227 1322.91 Q55.3671 1324.05 57.6819 1324.62 Q59.9967 1325.2 62.5198 1325.2 Q66.918 1325.2 69.2096 1323.47 Q71.5244 1321.73 71.5244 1318.42 Q71.5244 1315.37 69.3717 1313.65 Q67.242 1311.92 63.4226 1311.92 L59.3949 1311.92 L59.3949 1308.07 L63.6078 1308.07 Q67.0569 1308.07 68.8855 1306.71 Q70.7142 1305.32 70.7142 1302.73 Q70.7142 1300.06 68.8161 1298.65 Q66.9411 1297.22 63.4226 1297.22 Q61.5013 1297.22 59.3023 1297.63 Q57.1032 1298.05 54.4643 1298.93 L54.4643 1294.76 Q57.1264 1294.02 59.4412 1293.65 Q61.7791 1293.28 63.8393 1293.28 Q69.1633 1293.28 72.2652 1295.71 Q75.367 1298.12 75.367 1302.24 Q75.367 1305.11 73.7235 1307.1 Q72.08 1309.07 69.0476 1309.83 Z\" fill=\"#000000\" fill-rule=\"evenodd\" fill-opacity=\"1\" /><path clip-path=\"url(#clip400)\" d=\"M 0 0 M109.418 1303 L98.8391 1313.63 L109.418 1324.21 L106.663 1327.01 L96.0382 1316.38 L85.4132 1327.01 L82.6818 1324.21 L93.2373 1313.63 L82.6818 1303 L85.4132 1300.2 L96.0382 1310.83 L106.663 1300.2 L109.418 1303 Z\" fill=\"#000000\" fill-rule=\"evenodd\" fill-opacity=\"1\" /><path clip-path=\"url(#clip400)\" d=\"M 0 0 M115.297 1324.53 L122.936 1324.53 L122.936 1298.17 L114.626 1299.83 L114.626 1295.57 L122.89 1293.91 L127.566 1293.91 L127.566 1324.53 L135.205 1324.53 L135.205 1328.47 L115.297 1328.47 L115.297 1324.53 Z\" fill=\"#000000\" fill-rule=\"evenodd\" fill-opacity=\"1\" /><path clip-path=\"url(#clip400)\" d=\"M 0 0 M150.274 1296.99 Q146.663 1296.99 144.834 1300.55 Q143.029 1304.09 143.029 1311.22 Q143.029 1318.33 144.834 1321.89 Q146.663 1325.43 150.274 1325.43 Q153.908 1325.43 155.714 1321.89 Q157.542 1318.33 157.542 1311.22 Q157.542 1304.09 155.714 1300.55 Q153.908 1296.99 150.274 1296.99 M150.274 1293.28 Q156.084 1293.28 159.14 1297.89 Q162.218 1302.47 162.218 1311.22 Q162.218 1319.95 159.14 1324.55 Q156.084 1329.14 150.274 1329.14 Q144.464 1329.14 141.385 1324.55 Q138.33 1319.95 138.33 1311.22 Q138.33 1302.47 141.385 1297.89 Q144.464 1293.28 150.274 1293.28 Z\" fill=\"#000000\" fill-rule=\"evenodd\" fill-opacity=\"1\" /><path clip-path=\"url(#clip400)\" d=\"M 0 0 M174.895 1276.29 L165.303 1291.28 L174.895 1291.28 L174.895 1276.29 M173.898 1272.98 L178.675 1272.98 L178.675 1291.28 L182.681 1291.28 L182.681 1294.44 L178.675 1294.44 L178.675 1301.06 L174.895 1301.06 L174.895 1294.44 L162.218 1294.44 L162.218 1290.77 L173.898 1272.98 Z\" fill=\"#000000\" fill-rule=\"evenodd\" fill-opacity=\"1\" /><path clip-path=\"url(#clip400)\" d=\"M 0 0 M66.5939 1077.38 L54.7884 1095.83 L66.5939 1095.83 L66.5939 1077.38 M65.367 1073.3 L71.2466 1073.3 L71.2466 1095.83 L76.1772 1095.83 L76.1772 1099.71 L71.2466 1099.71 L71.2466 1107.86 L66.5939 1107.86 L66.5939 1099.71 L50.9921 1099.71 L50.9921 1095.2 L65.367 1073.3 Z\" fill=\"#000000\" fill-rule=\"evenodd\" fill-opacity=\"1\" /><path clip-path=\"url(#clip400)\" d=\"M 0 0 M109.418 1082.4 L98.8391 1093.02 L109.418 1103.6 L106.663 1106.4 L96.0382 1095.78 L85.4132 1106.4 L82.6818 1103.6 L93.2373 1093.02 L82.6818 1082.4 L85.4132 1079.6 L96.0382 1090.22 L106.663 1079.6 L109.418 1082.4 Z\" fill=\"#000000\" fill-rule=\"evenodd\" fill-opacity=\"1\" /><path clip-path=\"url(#clip400)\" d=\"M 0 0 M115.297 1103.93 L122.936 1103.93 L122.936 1077.56 L114.626 1079.23 L114.626 1074.97 L122.89 1073.3 L127.566 1073.3 L127.566 1103.93 L135.205 1103.93 L135.205 1107.86 L115.297 1107.86 L115.297 1103.93 Z\" fill=\"#000000\" fill-rule=\"evenodd\" fill-opacity=\"1\" /><path clip-path=\"url(#clip400)\" d=\"M 0 0 M150.274 1076.38 Q146.663 1076.38 144.834 1079.95 Q143.029 1083.49 143.029 1090.62 Q143.029 1097.72 144.834 1101.29 Q146.663 1104.83 150.274 1104.83 Q153.908 1104.83 155.714 1101.29 Q157.542 1097.72 157.542 1090.62 Q157.542 1083.49 155.714 1079.95 Q153.908 1076.38 150.274 1076.38 M150.274 1072.68 Q156.084 1072.68 159.14 1077.28 Q162.218 1081.87 162.218 1090.62 Q162.218 1099.34 159.14 1103.95 Q156.084 1108.53 150.274 1108.53 Q144.464 1108.53 141.385 1103.95 Q138.33 1099.34 138.33 1090.62 Q138.33 1081.87 141.385 1077.28 Q144.464 1072.68 150.274 1072.68 Z\" fill=\"#000000\" fill-rule=\"evenodd\" fill-opacity=\"1\" /><path clip-path=\"url(#clip400)\" d=\"M 0 0 M174.895 1055.68 L165.303 1070.67 L174.895 1070.67 L174.895 1055.68 M173.898 1052.37 L178.675 1052.37 L178.675 1070.67 L182.681 1070.67 L182.681 1073.83 L178.675 1073.83 L178.675 1080.45 L174.895 1080.45 L174.895 1073.83 L162.218 1073.83 L162.218 1070.16 L173.898 1052.37 Z\" fill=\"#000000\" fill-rule=\"evenodd\" fill-opacity=\"1\" /><path clip-path=\"url(#clip400)\" d=\"M 0 0 M55.2745 852.698 L73.6309 852.698 L73.6309 856.633 L59.5569 856.633 L59.5569 865.105 Q60.5754 864.758 61.5939 864.596 Q62.6124 864.41 63.6309 864.41 Q69.418 864.41 72.7976 867.582 Q76.1772 870.753 76.1772 876.17 Q76.1772 881.748 72.705 884.85 Q69.2328 887.929 62.9134 887.929 Q60.7374 887.929 58.4689 887.558 Q56.2236 887.188 53.8162 886.447 L53.8162 881.748 Q55.8995 882.883 58.1217 883.438 Q60.3439 883.994 62.8208 883.994 Q66.8254 883.994 69.1633 881.887 Q71.5013 879.781 71.5013 876.17 Q71.5013 872.559 69.1633 870.452 Q66.8254 868.346 62.8208 868.346 Q60.9458 868.346 59.0708 868.762 Q57.2189 869.179 55.2745 870.059 L55.2745 852.698 Z\" fill=\"#000000\" fill-rule=\"evenodd\" fill-opacity=\"1\" /><path clip-path=\"url(#clip400)\" d=\"M 0 0 M109.418 861.795 L98.8391 872.42 L109.418 882.998 L106.663 885.799 L96.0382 875.174 L85.4132 885.799 L82.6818 882.998 L93.2373 872.42 L82.6818 861.795 L85.4132 858.994 L96.0382 869.619 L106.663 858.994 L109.418 861.795 Z\" fill=\"#000000\" fill-rule=\"evenodd\" fill-opacity=\"1\" /><path clip-path=\"url(#clip400)\" d=\"M 0 0 M115.297 883.322 L122.936 883.322 L122.936 856.957 L114.626 858.623 L114.626 854.364 L122.89 852.698 L127.566 852.698 L127.566 883.322 L135.205 883.322 L135.205 887.258 L115.297 887.258 L115.297 883.322 Z\" fill=\"#000000\" fill-rule=\"evenodd\" fill-opacity=\"1\" /><path clip-path=\"url(#clip400)\" d=\"M 0 0 M150.274 855.776 Q146.663 855.776 144.834 859.341 Q143.029 862.883 143.029 870.012 Q143.029 877.119 144.834 880.684 Q146.663 884.225 150.274 884.225 Q153.908 884.225 155.714 880.684 Q157.542 877.119 157.542 870.012 Q157.542 862.883 155.714 859.341 Q153.908 855.776 150.274 855.776 M150.274 852.073 Q156.084 852.073 159.14 856.679 Q162.218 861.262 162.218 870.012 Q162.218 878.739 159.14 883.346 Q156.084 887.929 150.274 887.929 Q144.464 887.929 141.385 883.346 Q138.33 878.739 138.33 870.012 Q138.33 861.262 141.385 856.679 Q144.464 852.073 150.274 852.073 Z\" fill=\"#000000\" fill-rule=\"evenodd\" fill-opacity=\"1\" /><path clip-path=\"url(#clip400)\" d=\"M 0 0 M174.895 835.077 L165.303 850.067 L174.895 850.067 L174.895 835.077 M173.898 831.767 L178.675 831.767 L178.675 850.067 L182.681 850.067 L182.681 853.227 L178.675 853.227 L178.675 859.847 L174.895 859.847 L174.895 853.227 L162.218 853.227 L162.218 849.559 L173.898 831.767 Z\" fill=\"#000000\" fill-rule=\"evenodd\" fill-opacity=\"1\" /><path clip-path=\"url(#clip400)\" d=\"M 0 0 M64.6495 647.51 Q61.5013 647.51 59.6495 649.662 Q57.8208 651.815 57.8208 655.565 Q57.8208 659.292 59.6495 661.468 Q61.5013 663.621 64.6495 663.621 Q67.7976 663.621 69.6263 661.468 Q71.4781 659.292 71.4781 655.565 Q71.4781 651.815 69.6263 649.662 Q67.7976 647.51 64.6495 647.51 M73.9318 632.857 L73.9318 637.116 Q72.1726 636.283 70.367 635.843 Q68.5846 635.403 66.8254 635.403 Q62.1958 635.403 59.7421 638.528 Q57.3115 641.653 56.9643 647.972 Q58.33 645.959 60.3902 644.894 Q62.4504 643.806 64.9272 643.806 Q70.1355 643.806 73.1448 646.977 Q76.1772 650.125 76.1772 655.565 Q76.1772 660.889 73.029 664.107 Q69.8809 667.324 64.6495 667.324 Q58.6541 667.324 55.4828 662.741 Q52.3116 658.134 52.3116 649.408 Q52.3116 641.213 56.2004 636.352 Q60.0893 631.468 66.6402 631.468 Q68.3994 631.468 70.1818 631.815 Q71.9874 632.162 73.9318 632.857 Z\" fill=\"#000000\" fill-rule=\"evenodd\" fill-opacity=\"1\" /><path clip-path=\"url(#clip400)\" d=\"M 0 0 M109.418 641.19 L98.8391 651.815 L109.418 662.394 L106.663 665.195 L96.0382 654.57 L85.4132 665.195 L82.6818 662.394 L93.2373 651.815 L82.6818 641.19 L85.4132 638.389 L96.0382 649.014 L106.663 638.389 L109.418 641.19 Z\" fill=\"#000000\" fill-rule=\"evenodd\" fill-opacity=\"1\" /><path clip-path=\"url(#clip400)\" d=\"M 0 0 M115.297 662.718 L122.936 662.718 L122.936 636.352 L114.626 638.019 L114.626 633.76 L122.89 632.093 L127.566 632.093 L127.566 662.718 L135.205 662.718 L135.205 666.653 L115.297 666.653 L115.297 662.718 Z\" fill=\"#000000\" fill-rule=\"evenodd\" fill-opacity=\"1\" /><path clip-path=\"url(#clip400)\" d=\"M 0 0 M150.274 635.172 Q146.663 635.172 144.834 638.736 Q143.029 642.278 143.029 649.408 Q143.029 656.514 144.834 660.079 Q146.663 663.621 150.274 663.621 Q153.908 663.621 155.714 660.079 Q157.542 656.514 157.542 649.408 Q157.542 642.278 155.714 638.736 Q153.908 635.172 150.274 635.172 M150.274 631.468 Q156.084 631.468 159.14 636.074 Q162.218 640.658 162.218 649.408 Q162.218 658.134 159.14 662.741 Q156.084 667.324 150.274 667.324 Q144.464 667.324 141.385 662.741 Q138.33 658.134 138.33 649.408 Q138.33 640.658 141.385 636.074 Q144.464 631.468 150.274 631.468 Z\" fill=\"#000000\" fill-rule=\"evenodd\" fill-opacity=\"1\" /><path clip-path=\"url(#clip400)\" d=\"M 0 0 M174.895 614.473 L165.303 629.462 L174.895 629.462 L174.895 614.473 M173.898 611.163 L178.675 611.163 L178.675 629.462 L182.681 629.462 L182.681 632.622 L178.675 632.622 L178.675 639.243 L174.895 639.243 L174.895 632.622 L162.218 632.622 L162.218 628.955 L173.898 611.163 Z\" fill=\"#000000\" fill-rule=\"evenodd\" fill-opacity=\"1\" /><path clip-path=\"url(#clip400)\" d=\"M 0 0 M53.9551 411.488 L76.1772 411.488 L76.1772 413.479 L63.6309 446.048 L58.7467 446.048 L70.5522 415.423 L53.9551 415.423 L53.9551 411.488 Z\" fill=\"#000000\" fill-rule=\"evenodd\" fill-opacity=\"1\" /><path clip-path=\"url(#clip400)\" d=\"M 0 0 M109.418 420.585 L98.8391 431.21 L109.418 441.789 L106.663 444.59 L96.0382 433.965 L85.4132 444.59 L82.6818 441.789 L93.2373 431.21 L82.6818 420.585 L85.4132 417.785 L96.0382 428.41 L106.663 417.785 L109.418 420.585 Z\" fill=\"#000000\" fill-rule=\"evenodd\" fill-opacity=\"1\" /><path clip-path=\"url(#clip400)\" d=\"M 0 0 M115.297 442.113 L122.936 442.113 L122.936 415.748 L114.626 417.414 L114.626 413.155 L122.89 411.488 L127.566 411.488 L127.566 442.113 L135.205 442.113 L135.205 446.048 L115.297 446.048 L115.297 442.113 Z\" fill=\"#000000\" fill-rule=\"evenodd\" fill-opacity=\"1\" /><path clip-path=\"url(#clip400)\" d=\"M 0 0 M150.274 414.567 Q146.663 414.567 144.834 418.132 Q143.029 421.673 143.029 428.803 Q143.029 435.909 144.834 439.474 Q146.663 443.016 150.274 443.016 Q153.908 443.016 155.714 439.474 Q157.542 435.909 157.542 428.803 Q157.542 421.673 155.714 418.132 Q153.908 414.567 150.274 414.567 M150.274 410.863 Q156.084 410.863 159.14 415.47 Q162.218 420.053 162.218 428.803 Q162.218 437.53 159.14 442.136 Q156.084 446.72 150.274 446.72 Q144.464 446.72 141.385 442.136 Q138.33 437.53 138.33 428.803 Q138.33 420.053 141.385 415.47 Q144.464 410.863 150.274 410.863 Z\" fill=\"#000000\" fill-rule=\"evenodd\" fill-opacity=\"1\" /><path clip-path=\"url(#clip400)\" d=\"M 0 0 M174.895 393.868 L165.303 408.858 L174.895 408.858 L174.895 393.868 M173.898 390.558 L178.675 390.558 L178.675 408.858 L182.681 408.858 L182.681 412.018 L178.675 412.018 L178.675 418.638 L174.895 418.638 L174.895 412.018 L162.218 412.018 L162.218 408.35 L173.898 390.558 Z\" fill=\"#000000\" fill-rule=\"evenodd\" fill-opacity=\"1\" /><path clip-path=\"url(#clip400)\" d=\"M 0 0 M64.3254 209.032 Q60.9921 209.032 59.0708 210.814 Q57.1726 212.597 57.1726 215.722 Q57.1726 218.846 59.0708 220.629 Q60.9921 222.411 64.3254 222.411 Q67.6587 222.411 69.58 220.629 Q71.5013 218.823 71.5013 215.722 Q71.5013 212.597 69.58 210.814 Q67.6819 209.032 64.3254 209.032 M59.6495 207.041 Q56.6402 206.3 54.9504 204.24 Q53.2838 202.18 53.2838 199.217 Q53.2838 195.073 56.2236 192.666 Q59.1865 190.259 64.3254 190.259 Q69.4874 190.259 72.4272 192.666 Q75.367 195.073 75.367 199.217 Q75.367 202.18 73.6772 204.24 Q72.0105 206.3 69.0244 207.041 Q72.404 207.828 74.279 210.12 Q76.1772 212.411 76.1772 215.722 Q76.1772 220.745 73.0985 223.43 Q70.0429 226.115 64.3254 226.115 Q58.6078 226.115 55.5291 223.43 Q52.4736 220.745 52.4736 215.722 Q52.4736 212.411 54.3717 210.12 Q56.2699 207.828 59.6495 207.041 M57.9365 199.657 Q57.9365 202.342 59.6032 203.847 Q61.293 205.351 64.3254 205.351 Q67.3346 205.351 69.0244 203.847 Q70.7374 202.342 70.7374 199.657 Q70.7374 196.972 69.0244 195.467 Q67.3346 193.962 64.3254 193.962 Q61.293 193.962 59.6032 195.467 Q57.9365 196.972 57.9365 199.657 Z\" fill=\"#000000\" fill-rule=\"evenodd\" fill-opacity=\"1\" /><path clip-path=\"url(#clip400)\" d=\"M 0 0 M109.418 199.981 L98.8391 210.606 L109.418 221.184 L106.663 223.985 L96.0382 213.36 L85.4132 223.985 L82.6818 221.184 L93.2373 210.606 L82.6818 199.981 L85.4132 197.18 L96.0382 207.805 L106.663 197.18 L109.418 199.981 Z\" fill=\"#000000\" fill-rule=\"evenodd\" fill-opacity=\"1\" /><path clip-path=\"url(#clip400)\" d=\"M 0 0 M115.297 221.509 L122.936 221.509 L122.936 195.143 L114.626 196.81 L114.626 192.55 L122.89 190.884 L127.566 190.884 L127.566 221.509 L135.205 221.509 L135.205 225.444 L115.297 225.444 L115.297 221.509 Z\" fill=\"#000000\" fill-rule=\"evenodd\" fill-opacity=\"1\" /><path clip-path=\"url(#clip400)\" d=\"M 0 0 M150.274 193.962 Q146.663 193.962 144.834 197.527 Q143.029 201.069 143.029 208.198 Q143.029 215.305 144.834 218.87 Q146.663 222.411 150.274 222.411 Q153.908 222.411 155.714 218.87 Q157.542 215.305 157.542 208.198 Q157.542 201.069 155.714 197.527 Q153.908 193.962 150.274 193.962 M150.274 190.259 Q156.084 190.259 159.14 194.865 Q162.218 199.448 162.218 208.198 Q162.218 216.925 159.14 221.532 Q156.084 226.115 150.274 226.115 Q144.464 226.115 141.385 221.532 Q138.33 216.925 138.33 208.198 Q138.33 199.448 141.385 194.865 Q144.464 190.259 150.274 190.259 Z\" fill=\"#000000\" fill-rule=\"evenodd\" fill-opacity=\"1\" /><path clip-path=\"url(#clip400)\" d=\"M 0 0 M174.895 173.263 L165.303 188.253 L174.895 188.253 L174.895 173.263 M173.898 169.953 L178.675 169.953 L178.675 188.253 L182.681 188.253 L182.681 191.413 L178.675 191.413 L178.675 198.033 L174.895 198.033 L174.895 191.413 L162.218 191.413 L162.218 187.745 L173.898 169.953 Z\" fill=\"#000000\" fill-rule=\"evenodd\" fill-opacity=\"1\" /><polyline clip-path=\"url(#clip402)\" style=\"stroke:#009af9; stroke-width:4; stroke-opacity:1; fill:none\" points=\"\n",
       "  279.08,87.9763 433.947,631.231 588.815,922.283 743.682,1063.46 898.55,1140.97 1053.42,1198.15 1208.28,1234.15 1363.15,1299.42 1518.02,1333.72 1672.89,1353.96 \n",
       "  1827.75,1384.71 1982.62,1409.28 2137.49,1429.06 2292.36,1445.72 \n",
       "  \"/>\n",
       "<path clip-path=\"url(#clip400)\" d=\"\n",
       "M1993.48 216.178 L2281.62 216.178 L2281.62 95.2176 L1993.48 95.2176  Z\n",
       "  \" fill=\"#ffffff\" fill-rule=\"evenodd\" fill-opacity=\"1\"/>\n",
       "<polyline clip-path=\"url(#clip400)\" style=\"stroke:#000000; stroke-width:4; stroke-opacity:1; fill:none\" points=\"\n",
       "  1993.48,216.178 2281.62,216.178 2281.62,95.2176 1993.48,95.2176 1993.48,216.178 \n",
       "  \"/>\n",
       "<polyline clip-path=\"url(#clip400)\" style=\"stroke:#009af9; stroke-width:4; stroke-opacity:1; fill:none\" points=\"\n",
       "  2017.19,155.698 2159.47,155.698 \n",
       "  \"/>\n",
       "<path clip-path=\"url(#clip400)\" d=\"M 0 0 M2197.02 175.385 Q2195.21 180.015 2193.5 181.427 Q2191.79 182.839 2188.92 182.839 L2185.52 182.839 L2185.52 179.274 L2188.02 179.274 Q2189.78 179.274 2190.75 178.44 Q2191.72 177.607 2192.9 174.505 L2193.66 172.561 L2183.18 147.052 L2187.69 147.052 L2195.79 167.329 L2203.9 147.052 L2208.41 147.052 L2197.02 175.385 Z\" fill=\"#000000\" fill-rule=\"evenodd\" fill-opacity=\"1\" /><path clip-path=\"url(#clip400)\" d=\"M 0 0 M2214.29 169.042 L2221.93 169.042 L2221.93 142.677 L2213.62 144.343 L2213.62 140.084 L2221.88 138.418 L2226.56 138.418 L2226.56 169.042 L2234.2 169.042 L2234.2 172.978 L2214.29 172.978 L2214.29 169.042 Z\" fill=\"#000000\" fill-rule=\"evenodd\" fill-opacity=\"1\" /></svg>\n"
      ]
     },
     "execution_count": 86,
     "metadata": {},
     "output_type": "execute_result"
    }
   ],
   "source": [
    "plot(k_range, total_costs)"
   ]
  },
  {
   "cell_type": "code",
   "execution_count": 87,
   "metadata": {},
   "outputs": [
    {
     "data": {
      "image/svg+xml": [
       "<?xml version=\"1.0\" encoding=\"utf-8\"?>\n",
       "<svg xmlns=\"http://www.w3.org/2000/svg\" xmlns:xlink=\"http://www.w3.org/1999/xlink\" width=\"600\" height=\"400\" viewBox=\"0 0 2400 1600\">\n",
       "<defs>\n",
       "  <clipPath id=\"clip440\">\n",
       "    <rect x=\"0\" y=\"0\" width=\"2400\" height=\"1600\"/>\n",
       "  </clipPath>\n",
       "</defs>\n",
       "<path clip-path=\"url(#clip440)\" d=\"\n",
       "M0 1600 L2400 1600 L2400 0 L0 0  Z\n",
       "  \" fill=\"#ffffff\" fill-rule=\"evenodd\" fill-opacity=\"1\"/>\n",
       "<defs>\n",
       "  <clipPath id=\"clip441\">\n",
       "    <rect x=\"480\" y=\"0\" width=\"1681\" height=\"1600\"/>\n",
       "  </clipPath>\n",
       "</defs>\n",
       "<path clip-path=\"url(#clip440)\" d=\"\n",
       "M218.681 1486.45 L2352.76 1486.45 L2352.76 47.2441 L218.681 47.2441  Z\n",
       "  \" fill=\"#ffffff\" fill-rule=\"evenodd\" fill-opacity=\"1\"/>\n",
       "<defs>\n",
       "  <clipPath id=\"clip442\">\n",
       "    <rect x=\"218\" y=\"47\" width=\"2135\" height=\"1440\"/>\n",
       "  </clipPath>\n",
       "</defs>\n",
       "<polyline clip-path=\"url(#clip442)\" style=\"stroke:#000000; stroke-width:2; stroke-opacity:0.1; fill:none\" points=\"\n",
       "  279.08,1486.45 279.08,47.2441 \n",
       "  \"/>\n",
       "<polyline clip-path=\"url(#clip442)\" style=\"stroke:#000000; stroke-width:2; stroke-opacity:0.1; fill:none\" points=\"\n",
       "  588.815,1486.45 588.815,47.2441 \n",
       "  \"/>\n",
       "<polyline clip-path=\"url(#clip442)\" style=\"stroke:#000000; stroke-width:2; stroke-opacity:0.1; fill:none\" points=\"\n",
       "  898.55,1486.45 898.55,47.2441 \n",
       "  \"/>\n",
       "<polyline clip-path=\"url(#clip442)\" style=\"stroke:#000000; stroke-width:2; stroke-opacity:0.1; fill:none\" points=\"\n",
       "  1208.28,1486.45 1208.28,47.2441 \n",
       "  \"/>\n",
       "<polyline clip-path=\"url(#clip442)\" style=\"stroke:#000000; stroke-width:2; stroke-opacity:0.1; fill:none\" points=\"\n",
       "  1518.02,1486.45 1518.02,47.2441 \n",
       "  \"/>\n",
       "<polyline clip-path=\"url(#clip442)\" style=\"stroke:#000000; stroke-width:2; stroke-opacity:0.1; fill:none\" points=\"\n",
       "  1827.75,1486.45 1827.75,47.2441 \n",
       "  \"/>\n",
       "<polyline clip-path=\"url(#clip442)\" style=\"stroke:#000000; stroke-width:2; stroke-opacity:0.1; fill:none\" points=\"\n",
       "  2137.49,1486.45 2137.49,47.2441 \n",
       "  \"/>\n",
       "<polyline clip-path=\"url(#clip440)\" style=\"stroke:#000000; stroke-width:4; stroke-opacity:1; fill:none\" points=\"\n",
       "  218.681,1486.45 2352.76,1486.45 \n",
       "  \"/>\n",
       "<polyline clip-path=\"url(#clip440)\" style=\"stroke:#000000; stroke-width:4; stroke-opacity:1; fill:none\" points=\"\n",
       "  279.08,1486.45 279.08,1469.18 \n",
       "  \"/>\n",
       "<polyline clip-path=\"url(#clip440)\" style=\"stroke:#000000; stroke-width:4; stroke-opacity:1; fill:none\" points=\"\n",
       "  588.815,1486.45 588.815,1469.18 \n",
       "  \"/>\n",
       "<polyline clip-path=\"url(#clip440)\" style=\"stroke:#000000; stroke-width:4; stroke-opacity:1; fill:none\" points=\"\n",
       "  898.55,1486.45 898.55,1469.18 \n",
       "  \"/>\n",
       "<polyline clip-path=\"url(#clip440)\" style=\"stroke:#000000; stroke-width:4; stroke-opacity:1; fill:none\" points=\"\n",
       "  1208.28,1486.45 1208.28,1469.18 \n",
       "  \"/>\n",
       "<polyline clip-path=\"url(#clip440)\" style=\"stroke:#000000; stroke-width:4; stroke-opacity:1; fill:none\" points=\"\n",
       "  1518.02,1486.45 1518.02,1469.18 \n",
       "  \"/>\n",
       "<polyline clip-path=\"url(#clip440)\" style=\"stroke:#000000; stroke-width:4; stroke-opacity:1; fill:none\" points=\"\n",
       "  1827.75,1486.45 1827.75,1469.18 \n",
       "  \"/>\n",
       "<polyline clip-path=\"url(#clip440)\" style=\"stroke:#000000; stroke-width:4; stroke-opacity:1; fill:none\" points=\"\n",
       "  2137.49,1486.45 2137.49,1469.18 \n",
       "  \"/>\n",
       "<path clip-path=\"url(#clip440)\" d=\"M 0 0 M273.732 1543.18 L290.052 1543.18 L290.052 1547.12 L268.107 1547.12 L268.107 1543.18 Q270.769 1540.43 275.353 1535.8 Q279.959 1531.15 281.14 1529.81 Q283.385 1527.28 284.265 1525.55 Q285.168 1523.79 285.168 1522.1 Q285.168 1519.34 283.223 1517.61 Q281.302 1515.87 278.2 1515.87 Q276.001 1515.87 273.547 1516.63 Q271.117 1517.4 268.339 1518.95 L268.339 1514.23 Q271.163 1513.09 273.617 1512.51 Q276.07 1511.93 278.107 1511.93 Q283.478 1511.93 286.672 1514.62 Q289.867 1517.31 289.867 1521.8 Q289.867 1523.93 289.056 1525.85 Q288.269 1527.74 286.163 1530.34 Q285.584 1531.01 282.482 1534.23 Q279.38 1537.42 273.732 1543.18 Z\" fill=\"#000000\" fill-rule=\"evenodd\" fill-opacity=\"1\" /><path clip-path=\"url(#clip440)\" d=\"M 0 0 M591.824 1516.63 L580.018 1535.08 L591.824 1535.08 L591.824 1516.63 M590.597 1512.56 L596.477 1512.56 L596.477 1535.08 L601.407 1535.08 L601.407 1538.97 L596.477 1538.97 L596.477 1547.12 L591.824 1547.12 L591.824 1538.97 L576.222 1538.97 L576.222 1534.46 L590.597 1512.56 Z\" fill=\"#000000\" fill-rule=\"evenodd\" fill-opacity=\"1\" /><path clip-path=\"url(#clip440)\" d=\"M 0 0 M898.955 1527.98 Q895.807 1527.98 893.955 1530.13 Q892.126 1532.28 892.126 1536.03 Q892.126 1539.76 893.955 1541.93 Q895.807 1544.09 898.955 1544.09 Q902.103 1544.09 903.932 1541.93 Q905.783 1539.76 905.783 1536.03 Q905.783 1532.28 903.932 1530.13 Q902.103 1527.98 898.955 1527.98 M908.237 1513.32 L908.237 1517.58 Q906.478 1516.75 904.672 1516.31 Q902.89 1515.87 901.131 1515.87 Q896.501 1515.87 894.047 1519 Q891.617 1522.12 891.27 1528.44 Q892.635 1526.43 894.696 1525.36 Q896.756 1524.27 899.233 1524.27 Q904.441 1524.27 907.45 1527.44 Q910.483 1530.59 910.483 1536.03 Q910.483 1541.36 907.334 1544.57 Q904.186 1547.79 898.955 1547.79 Q892.959 1547.79 889.788 1543.21 Q886.617 1538.6 886.617 1529.87 Q886.617 1521.68 890.506 1516.82 Q894.395 1511.93 900.946 1511.93 Q902.705 1511.93 904.487 1512.28 Q906.293 1512.63 908.237 1513.32 Z\" fill=\"#000000\" fill-rule=\"evenodd\" fill-opacity=\"1\" /><path clip-path=\"url(#clip440)\" d=\"M 0 0 M1208.28 1530.71 Q1204.95 1530.71 1203.03 1532.49 Q1201.13 1534.27 1201.13 1537.4 Q1201.13 1540.52 1203.03 1542.31 Q1204.95 1544.09 1208.28 1544.09 Q1211.62 1544.09 1213.54 1542.31 Q1215.46 1540.5 1215.46 1537.4 Q1215.46 1534.27 1213.54 1532.49 Q1211.64 1530.71 1208.28 1530.71 M1203.61 1528.72 Q1200.6 1527.98 1198.91 1525.92 Q1197.24 1523.86 1197.24 1520.89 Q1197.24 1516.75 1200.18 1514.34 Q1203.15 1511.93 1208.28 1511.93 Q1213.45 1511.93 1216.39 1514.34 Q1219.33 1516.75 1219.33 1520.89 Q1219.33 1523.86 1217.64 1525.92 Q1215.97 1527.98 1212.98 1528.72 Q1216.36 1529.5 1218.24 1531.8 Q1220.14 1534.09 1220.14 1537.4 Q1220.14 1542.42 1217.06 1545.11 Q1214 1547.79 1208.28 1547.79 Q1202.57 1547.79 1199.49 1545.11 Q1196.43 1542.42 1196.43 1537.4 Q1196.43 1534.09 1198.33 1531.8 Q1200.23 1529.5 1203.61 1528.72 M1201.9 1521.33 Q1201.9 1524.02 1203.56 1525.52 Q1205.25 1527.03 1208.28 1527.03 Q1211.29 1527.03 1212.98 1525.52 Q1214.7 1524.02 1214.7 1521.33 Q1214.7 1518.65 1212.98 1517.14 Q1211.29 1515.64 1208.28 1515.64 Q1205.25 1515.64 1203.56 1517.14 Q1201.9 1518.65 1201.9 1521.33 Z\" fill=\"#000000\" fill-rule=\"evenodd\" fill-opacity=\"1\" /><path clip-path=\"url(#clip440)\" d=\"M 0 0 M1494.9 1543.18 L1502.53 1543.18 L1502.53 1516.82 L1494.22 1518.49 L1494.22 1514.23 L1502.49 1512.56 L1507.16 1512.56 L1507.16 1543.18 L1514.8 1543.18 L1514.8 1547.12 L1494.9 1547.12 L1494.9 1543.18 Z\" fill=\"#000000\" fill-rule=\"evenodd\" fill-opacity=\"1\" /><path clip-path=\"url(#clip440)\" d=\"M 0 0 M1529.87 1515.64 Q1526.26 1515.64 1524.43 1519.2 Q1522.63 1522.75 1522.63 1529.87 Q1522.63 1536.98 1524.43 1540.55 Q1526.26 1544.09 1529.87 1544.09 Q1533.51 1544.09 1535.31 1540.55 Q1537.14 1536.98 1537.14 1529.87 Q1537.14 1522.75 1535.31 1519.2 Q1533.51 1515.64 1529.87 1515.64 M1529.87 1511.93 Q1535.68 1511.93 1538.74 1516.54 Q1541.82 1521.12 1541.82 1529.87 Q1541.82 1538.6 1538.74 1543.21 Q1535.68 1547.79 1529.87 1547.79 Q1524.06 1547.79 1520.98 1543.21 Q1517.93 1538.6 1517.93 1529.87 Q1517.93 1521.12 1520.98 1516.54 Q1524.06 1511.93 1529.87 1511.93 Z\" fill=\"#000000\" fill-rule=\"evenodd\" fill-opacity=\"1\" /><path clip-path=\"url(#clip440)\" d=\"M 0 0 M1805.43 1543.18 L1813.07 1543.18 L1813.07 1516.82 L1804.76 1518.49 L1804.76 1514.23 L1813.02 1512.56 L1817.7 1512.56 L1817.7 1543.18 L1825.34 1543.18 L1825.34 1547.12 L1805.43 1547.12 L1805.43 1543.18 Z\" fill=\"#000000\" fill-rule=\"evenodd\" fill-opacity=\"1\" /><path clip-path=\"url(#clip440)\" d=\"M 0 0 M1834.43 1543.18 L1850.75 1543.18 L1850.75 1547.12 L1828.81 1547.12 L1828.81 1543.18 Q1831.47 1540.43 1836.05 1535.8 Q1840.66 1531.15 1841.84 1529.81 Q1844.09 1527.28 1844.97 1525.55 Q1845.87 1523.79 1845.87 1522.1 Q1845.87 1519.34 1843.92 1517.61 Q1842 1515.87 1838.9 1515.87 Q1836.7 1515.87 1834.25 1516.63 Q1831.82 1517.4 1829.04 1518.95 L1829.04 1514.23 Q1831.86 1513.09 1834.32 1512.51 Q1836.77 1511.93 1838.81 1511.93 Q1844.18 1511.93 1847.37 1514.62 Q1850.57 1517.31 1850.57 1521.8 Q1850.57 1523.93 1849.76 1525.85 Q1848.97 1527.74 1846.86 1530.34 Q1846.28 1531.01 1843.18 1534.23 Q1840.08 1537.42 1834.43 1543.18 Z\" fill=\"#000000\" fill-rule=\"evenodd\" fill-opacity=\"1\" /><path clip-path=\"url(#clip440)\" d=\"M 0 0 M2114.12 1543.18 L2121.76 1543.18 L2121.76 1516.82 L2113.45 1518.49 L2113.45 1514.23 L2121.71 1512.56 L2126.39 1512.56 L2126.39 1543.18 L2134.03 1543.18 L2134.03 1547.12 L2114.12 1547.12 L2114.12 1543.18 Z\" fill=\"#000000\" fill-rule=\"evenodd\" fill-opacity=\"1\" /><path clip-path=\"url(#clip440)\" d=\"M 0 0 M2151.95 1516.63 L2140.14 1535.08 L2151.95 1535.08 L2151.95 1516.63 M2150.72 1512.56 L2156.6 1512.56 L2156.6 1535.08 L2161.53 1535.08 L2161.53 1538.97 L2156.6 1538.97 L2156.6 1547.12 L2151.95 1547.12 L2151.95 1538.97 L2136.34 1538.97 L2136.34 1534.46 L2150.72 1512.56 Z\" fill=\"#000000\" fill-rule=\"evenodd\" fill-opacity=\"1\" /><polyline clip-path=\"url(#clip442)\" style=\"stroke:#000000; stroke-width:2; stroke-opacity:0.1; fill:none\" points=\"\n",
       "  218.681,1445.72 2352.76,1445.72 \n",
       "  \"/>\n",
       "<polyline clip-path=\"url(#clip442)\" style=\"stroke:#000000; stroke-width:2; stroke-opacity:0.1; fill:none\" points=\"\n",
       "  218.681,1126.83 2352.76,1126.83 \n",
       "  \"/>\n",
       "<polyline clip-path=\"url(#clip442)\" style=\"stroke:#000000; stroke-width:2; stroke-opacity:0.1; fill:none\" points=\"\n",
       "  218.681,807.95 2352.76,807.95 \n",
       "  \"/>\n",
       "<polyline clip-path=\"url(#clip442)\" style=\"stroke:#000000; stroke-width:2; stroke-opacity:0.1; fill:none\" points=\"\n",
       "  218.681,489.066 2352.76,489.066 \n",
       "  \"/>\n",
       "<polyline clip-path=\"url(#clip442)\" style=\"stroke:#000000; stroke-width:2; stroke-opacity:0.1; fill:none\" points=\"\n",
       "  218.681,170.182 2352.76,170.182 \n",
       "  \"/>\n",
       "<polyline clip-path=\"url(#clip440)\" style=\"stroke:#000000; stroke-width:4; stroke-opacity:1; fill:none\" points=\"\n",
       "  218.681,1486.45 218.681,47.2441 \n",
       "  \"/>\n",
       "<polyline clip-path=\"url(#clip440)\" style=\"stroke:#000000; stroke-width:4; stroke-opacity:1; fill:none\" points=\"\n",
       "  218.681,1445.72 244.29,1445.72 \n",
       "  \"/>\n",
       "<polyline clip-path=\"url(#clip440)\" style=\"stroke:#000000; stroke-width:4; stroke-opacity:1; fill:none\" points=\"\n",
       "  218.681,1126.83 244.29,1126.83 \n",
       "  \"/>\n",
       "<polyline clip-path=\"url(#clip440)\" style=\"stroke:#000000; stroke-width:4; stroke-opacity:1; fill:none\" points=\"\n",
       "  218.681,807.95 244.29,807.95 \n",
       "  \"/>\n",
       "<polyline clip-path=\"url(#clip440)\" style=\"stroke:#000000; stroke-width:4; stroke-opacity:1; fill:none\" points=\"\n",
       "  218.681,489.066 244.29,489.066 \n",
       "  \"/>\n",
       "<polyline clip-path=\"url(#clip440)\" style=\"stroke:#000000; stroke-width:4; stroke-opacity:1; fill:none\" points=\"\n",
       "  218.681,170.182 244.29,170.182 \n",
       "  \"/>\n",
       "<path clip-path=\"url(#clip440)\" d=\"M 0 0 M170.737 1431.52 Q167.126 1431.52 165.297 1435.08 Q163.492 1438.62 163.492 1445.75 Q163.492 1452.86 165.297 1456.42 Q167.126 1459.97 170.737 1459.97 Q174.371 1459.97 176.177 1456.42 Q178.005 1452.86 178.005 1445.75 Q178.005 1438.62 176.177 1435.08 Q174.371 1431.52 170.737 1431.52 M170.737 1427.81 Q176.547 1427.81 179.603 1432.42 Q182.681 1437 182.681 1445.75 Q182.681 1454.48 179.603 1459.09 Q176.547 1463.67 170.737 1463.67 Q164.927 1463.67 161.848 1459.09 Q158.792 1454.48 158.792 1445.75 Q158.792 1437 161.848 1432.42 Q164.927 1427.81 170.737 1427.81 Z\" fill=\"#000000\" fill-rule=\"evenodd\" fill-opacity=\"1\" /><path clip-path=\"url(#clip440)\" d=\"M 0 0 M59.8578 1146.63 L76.1772 1146.63 L76.1772 1150.56 L54.2328 1150.56 L54.2328 1146.63 Q56.8949 1143.87 61.4782 1139.24 Q66.0846 1134.59 67.2652 1133.25 Q69.5105 1130.72 70.3902 1128.99 Q71.2929 1127.23 71.2929 1125.54 Q71.2929 1122.78 69.3485 1121.05 Q67.4272 1119.31 64.3254 1119.31 Q62.1263 1119.31 59.6726 1120.08 Q57.2421 1120.84 54.4643 1122.39 L54.4643 1117.67 Q57.2884 1116.53 59.7421 1115.96 Q62.1958 1115.38 64.2328 1115.38 Q69.6031 1115.38 72.7976 1118.06 Q75.992 1120.75 75.992 1125.24 Q75.992 1127.37 75.1818 1129.29 Q74.3948 1131.19 72.2883 1133.78 Q71.7096 1134.45 68.6078 1137.67 Q65.5059 1140.86 59.8578 1146.63 Z\" fill=\"#000000\" fill-rule=\"evenodd\" fill-opacity=\"1\" /><path clip-path=\"url(#clip440)\" d=\"M 0 0 M109.418 1125.1 L98.8391 1135.72 L109.418 1146.3 L106.663 1149.1 L96.0382 1138.48 L85.4132 1149.1 L82.6818 1146.3 L93.2373 1135.72 L82.6818 1125.1 L85.4132 1122.3 L96.0382 1132.92 L106.663 1122.3 L109.418 1125.1 Z\" fill=\"#000000\" fill-rule=\"evenodd\" fill-opacity=\"1\" /><path clip-path=\"url(#clip440)\" d=\"M 0 0 M115.297 1146.63 L122.936 1146.63 L122.936 1120.26 L114.626 1121.93 L114.626 1117.67 L122.89 1116 L127.566 1116 L127.566 1146.63 L135.205 1146.63 L135.205 1150.56 L115.297 1150.56 L115.297 1146.63 Z\" fill=\"#000000\" fill-rule=\"evenodd\" fill-opacity=\"1\" /><path clip-path=\"url(#clip440)\" d=\"M 0 0 M150.274 1119.08 Q146.663 1119.08 144.834 1122.64 Q143.029 1126.19 143.029 1133.32 Q143.029 1140.42 144.834 1143.99 Q146.663 1147.53 150.274 1147.53 Q153.908 1147.53 155.714 1143.99 Q157.542 1140.42 157.542 1133.32 Q157.542 1126.19 155.714 1122.64 Q153.908 1119.08 150.274 1119.08 M150.274 1115.38 Q156.084 1115.38 159.14 1119.98 Q162.218 1124.57 162.218 1133.32 Q162.218 1142.04 159.14 1146.65 Q156.084 1151.23 150.274 1151.23 Q144.464 1151.23 141.385 1146.65 Q138.33 1142.04 138.33 1133.32 Q138.33 1124.57 141.385 1119.98 Q144.464 1115.38 150.274 1115.38 Z\" fill=\"#000000\" fill-rule=\"evenodd\" fill-opacity=\"1\" /><path clip-path=\"url(#clip440)\" d=\"M 0 0 M174.895 1098.38 L165.303 1113.37 L174.895 1113.37 L174.895 1098.38 M173.898 1095.07 L178.675 1095.07 L178.675 1113.37 L182.681 1113.37 L182.681 1116.53 L178.675 1116.53 L178.675 1123.15 L174.895 1123.15 L174.895 1116.53 L162.218 1116.53 L162.218 1112.86 L173.898 1095.07 Z\" fill=\"#000000\" fill-rule=\"evenodd\" fill-opacity=\"1\" /><path clip-path=\"url(#clip440)\" d=\"M 0 0 M66.5939 801.191 L54.7884 819.64 L66.5939 819.64 L66.5939 801.191 M65.367 797.117 L71.2466 797.117 L71.2466 819.64 L76.1772 819.64 L76.1772 823.529 L71.2466 823.529 L71.2466 831.677 L66.5939 831.677 L66.5939 823.529 L50.9921 823.529 L50.9921 819.015 L65.367 797.117 Z\" fill=\"#000000\" fill-rule=\"evenodd\" fill-opacity=\"1\" /><path clip-path=\"url(#clip440)\" d=\"M 0 0 M109.418 806.215 L98.8391 816.84 L109.418 827.418 L106.663 830.219 L96.0382 819.594 L85.4132 830.219 L82.6818 827.418 L93.2373 816.84 L82.6818 806.215 L85.4132 803.414 L96.0382 814.039 L106.663 803.414 L109.418 806.215 Z\" fill=\"#000000\" fill-rule=\"evenodd\" fill-opacity=\"1\" /><path clip-path=\"url(#clip440)\" d=\"M 0 0 M115.297 827.742 L122.936 827.742 L122.936 801.377 L114.626 803.043 L114.626 798.784 L122.89 797.117 L127.566 797.117 L127.566 827.742 L135.205 827.742 L135.205 831.677 L115.297 831.677 L115.297 827.742 Z\" fill=\"#000000\" fill-rule=\"evenodd\" fill-opacity=\"1\" /><path clip-path=\"url(#clip440)\" d=\"M 0 0 M150.274 800.196 Q146.663 800.196 144.834 803.761 Q143.029 807.303 143.029 814.432 Q143.029 821.539 144.834 825.103 Q146.663 828.645 150.274 828.645 Q153.908 828.645 155.714 825.103 Q157.542 821.539 157.542 814.432 Q157.542 807.303 155.714 803.761 Q153.908 800.196 150.274 800.196 M150.274 796.492 Q156.084 796.492 159.14 801.099 Q162.218 805.682 162.218 814.432 Q162.218 823.159 159.14 827.765 Q156.084 832.349 150.274 832.349 Q144.464 832.349 141.385 827.765 Q138.33 823.159 138.33 814.432 Q138.33 805.682 141.385 801.099 Q144.464 796.492 150.274 796.492 Z\" fill=\"#000000\" fill-rule=\"evenodd\" fill-opacity=\"1\" /><path clip-path=\"url(#clip440)\" d=\"M 0 0 M174.895 779.497 L165.303 794.487 L174.895 794.487 L174.895 779.497 M173.898 776.187 L178.675 776.187 L178.675 794.487 L182.681 794.487 L182.681 797.647 L178.675 797.647 L178.675 804.267 L174.895 804.267 L174.895 797.647 L162.218 797.647 L162.218 793.979 L173.898 776.187 Z\" fill=\"#000000\" fill-rule=\"evenodd\" fill-opacity=\"1\" /><path clip-path=\"url(#clip440)\" d=\"M 0 0 M64.6495 493.65 Q61.5013 493.65 59.6495 495.803 Q57.8208 497.955 57.8208 501.705 Q57.8208 505.432 59.6495 507.608 Q61.5013 509.761 64.6495 509.761 Q67.7976 509.761 69.6263 507.608 Q71.4781 505.432 71.4781 501.705 Q71.4781 497.955 69.6263 495.803 Q67.7976 493.65 64.6495 493.65 M73.9318 478.997 L73.9318 483.257 Q72.1726 482.423 70.367 481.983 Q68.5846 481.544 66.8254 481.544 Q62.1958 481.544 59.7421 484.669 Q57.3115 487.794 56.9643 494.113 Q58.33 492.099 60.3902 491.034 Q62.4504 489.946 64.9272 489.946 Q70.1355 489.946 73.1448 493.118 Q76.1772 496.266 76.1772 501.705 Q76.1772 507.03 73.029 510.247 Q69.8809 513.465 64.6495 513.465 Q58.6541 513.465 55.4828 508.881 Q52.3116 504.275 52.3116 495.548 Q52.3116 487.354 56.2004 482.493 Q60.0893 477.608 66.6402 477.608 Q68.3994 477.608 70.1818 477.956 Q71.9874 478.303 73.9318 478.997 Z\" fill=\"#000000\" fill-rule=\"evenodd\" fill-opacity=\"1\" /><path clip-path=\"url(#clip440)\" d=\"M 0 0 M109.418 487.331 L98.8391 497.955 L109.418 508.534 L106.663 511.335 L96.0382 500.71 L85.4132 511.335 L82.6818 508.534 L93.2373 497.955 L82.6818 487.331 L85.4132 484.53 L96.0382 495.155 L106.663 484.53 L109.418 487.331 Z\" fill=\"#000000\" fill-rule=\"evenodd\" fill-opacity=\"1\" /><path clip-path=\"url(#clip440)\" d=\"M 0 0 M115.297 508.858 L122.936 508.858 L122.936 482.493 L114.626 484.159 L114.626 479.9 L122.89 478.233 L127.566 478.233 L127.566 508.858 L135.205 508.858 L135.205 512.793 L115.297 512.793 L115.297 508.858 Z\" fill=\"#000000\" fill-rule=\"evenodd\" fill-opacity=\"1\" /><path clip-path=\"url(#clip440)\" d=\"M 0 0 M150.274 481.312 Q146.663 481.312 144.834 484.877 Q143.029 488.419 143.029 495.548 Q143.029 502.655 144.834 506.219 Q146.663 509.761 150.274 509.761 Q153.908 509.761 155.714 506.219 Q157.542 502.655 157.542 495.548 Q157.542 488.419 155.714 484.877 Q153.908 481.312 150.274 481.312 M150.274 477.608 Q156.084 477.608 159.14 482.215 Q162.218 486.798 162.218 495.548 Q162.218 504.275 159.14 508.881 Q156.084 513.465 150.274 513.465 Q144.464 513.465 141.385 508.881 Q138.33 504.275 138.33 495.548 Q138.33 486.798 141.385 482.215 Q144.464 477.608 150.274 477.608 Z\" fill=\"#000000\" fill-rule=\"evenodd\" fill-opacity=\"1\" /><path clip-path=\"url(#clip440)\" d=\"M 0 0 M174.895 460.613 L165.303 475.603 L174.895 475.603 L174.895 460.613 M173.898 457.303 L178.675 457.303 L178.675 475.603 L182.681 475.603 L182.681 478.763 L178.675 478.763 L178.675 485.383 L174.895 485.383 L174.895 478.763 L162.218 478.763 L162.218 475.095 L173.898 457.303 Z\" fill=\"#000000\" fill-rule=\"evenodd\" fill-opacity=\"1\" /><path clip-path=\"url(#clip440)\" d=\"M 0 0 M64.3254 177.497 Q60.9921 177.497 59.0708 179.28 Q57.1726 181.062 57.1726 184.187 Q57.1726 187.312 59.0708 189.095 Q60.9921 190.877 64.3254 190.877 Q67.6587 190.877 69.58 189.095 Q71.5013 187.289 71.5013 184.187 Q71.5013 181.062 69.58 179.28 Q67.6819 177.497 64.3254 177.497 M59.6495 175.507 Q56.6402 174.766 54.9504 172.706 Q53.2838 170.646 53.2838 167.683 Q53.2838 163.539 56.2236 161.132 Q59.1865 158.724 64.3254 158.724 Q69.4874 158.724 72.4272 161.132 Q75.367 163.539 75.367 167.683 Q75.367 170.646 73.6772 172.706 Q72.0105 174.766 69.0244 175.507 Q72.404 176.294 74.279 178.585 Q76.1772 180.877 76.1772 184.187 Q76.1772 189.21 73.0985 191.895 Q70.0429 194.581 64.3254 194.581 Q58.6078 194.581 55.5291 191.895 Q52.4736 189.21 52.4736 184.187 Q52.4736 180.877 54.3717 178.585 Q56.2699 176.294 59.6495 175.507 M57.9365 168.122 Q57.9365 170.808 59.6032 172.312 Q61.293 173.817 64.3254 173.817 Q67.3346 173.817 69.0244 172.312 Q70.7374 170.808 70.7374 168.122 Q70.7374 165.437 69.0244 163.933 Q67.3346 162.428 64.3254 162.428 Q61.293 162.428 59.6032 163.933 Q57.9365 165.437 57.9365 168.122 Z\" fill=\"#000000\" fill-rule=\"evenodd\" fill-opacity=\"1\" /><path clip-path=\"url(#clip440)\" d=\"M 0 0 M109.418 168.447 L98.8391 179.071 L109.418 189.65 L106.663 192.451 L96.0382 181.826 L85.4132 192.451 L82.6818 189.65 L93.2373 179.071 L82.6818 168.447 L85.4132 165.646 L96.0382 176.271 L106.663 165.646 L109.418 168.447 Z\" fill=\"#000000\" fill-rule=\"evenodd\" fill-opacity=\"1\" /><path clip-path=\"url(#clip440)\" d=\"M 0 0 M115.297 189.974 L122.936 189.974 L122.936 163.609 L114.626 165.275 L114.626 161.016 L122.89 159.349 L127.566 159.349 L127.566 189.974 L135.205 189.974 L135.205 193.909 L115.297 193.909 L115.297 189.974 Z\" fill=\"#000000\" fill-rule=\"evenodd\" fill-opacity=\"1\" /><path clip-path=\"url(#clip440)\" d=\"M 0 0 M150.274 162.428 Q146.663 162.428 144.834 165.993 Q143.029 169.534 143.029 176.664 Q143.029 183.77 144.834 187.335 Q146.663 190.877 150.274 190.877 Q153.908 190.877 155.714 187.335 Q157.542 183.77 157.542 176.664 Q157.542 169.534 155.714 165.993 Q153.908 162.428 150.274 162.428 M150.274 158.724 Q156.084 158.724 159.14 163.331 Q162.218 167.914 162.218 176.664 Q162.218 185.391 159.14 189.997 Q156.084 194.581 150.274 194.581 Q144.464 194.581 141.385 189.997 Q138.33 185.391 138.33 176.664 Q138.33 167.914 141.385 163.331 Q144.464 158.724 150.274 158.724 Z\" fill=\"#000000\" fill-rule=\"evenodd\" fill-opacity=\"1\" /><path clip-path=\"url(#clip440)\" d=\"M 0 0 M174.895 141.729 L165.303 156.719 L174.895 156.719 L174.895 141.729 M173.898 138.419 L178.675 138.419 L178.675 156.719 L182.681 156.719 L182.681 159.879 L178.675 159.879 L178.675 166.499 L174.895 166.499 L174.895 159.879 L162.218 159.879 L162.218 156.211 L173.898 138.419 Z\" fill=\"#000000\" fill-rule=\"evenodd\" fill-opacity=\"1\" /><polyline clip-path=\"url(#clip442)\" style=\"stroke:#009af9; stroke-width:4; stroke-opacity:1; fill:none\" points=\"\n",
       "  279.08,87.9763 433.947,480.614 588.815,690.972 743.682,793.008 898.55,849.025 1053.42,890.354 1208.28,916.37 1363.15,963.548 1518.02,988.339 1672.89,1002.97 \n",
       "  1827.75,1025.19 1982.62,1042.95 2137.49,1057.24 2292.36,1069.28 \n",
       "  \"/>\n",
       "<polyline clip-path=\"url(#clip442)\" style=\"stroke:#e26f46; stroke-width:4; stroke-opacity:1; fill:none\" points=\"\n",
       "  279.08,1445.71 433.947,1445.71 588.815,1445.71 743.682,1445.71 898.55,1445.71 1053.42,1445.71 1208.28,1445.71 1363.15,1445.71 1518.02,1445.72 1672.89,1445.72 \n",
       "  1827.75,1445.72 1982.62,1445.72 2137.49,1445.72 2292.36,1445.72 \n",
       "  \"/>\n",
       "<path clip-path=\"url(#clip440)\" d=\"\n",
       "M1993.48 276.658 L2281.62 276.658 L2281.62 95.2176 L1993.48 95.2176  Z\n",
       "  \" fill=\"#ffffff\" fill-rule=\"evenodd\" fill-opacity=\"1\"/>\n",
       "<polyline clip-path=\"url(#clip440)\" style=\"stroke:#000000; stroke-width:4; stroke-opacity:1; fill:none\" points=\"\n",
       "  1993.48,276.658 2281.62,276.658 2281.62,95.2176 1993.48,95.2176 1993.48,276.658 \n",
       "  \"/>\n",
       "<polyline clip-path=\"url(#clip440)\" style=\"stroke:#009af9; stroke-width:4; stroke-opacity:1; fill:none\" points=\"\n",
       "  2017.19,155.698 2159.47,155.698 \n",
       "  \"/>\n",
       "<path clip-path=\"url(#clip440)\" d=\"M 0 0 M2197.02 175.385 Q2195.21 180.015 2193.5 181.427 Q2191.79 182.839 2188.92 182.839 L2185.52 182.839 L2185.52 179.274 L2188.02 179.274 Q2189.78 179.274 2190.75 178.44 Q2191.72 177.607 2192.9 174.505 L2193.66 172.561 L2183.18 147.052 L2187.69 147.052 L2195.79 167.329 L2203.9 147.052 L2208.41 147.052 L2197.02 175.385 Z\" fill=\"#000000\" fill-rule=\"evenodd\" fill-opacity=\"1\" /><path clip-path=\"url(#clip440)\" d=\"M 0 0 M2214.29 169.042 L2221.93 169.042 L2221.93 142.677 L2213.62 144.343 L2213.62 140.084 L2221.88 138.418 L2226.56 138.418 L2226.56 169.042 L2234.2 169.042 L2234.2 172.978 L2214.29 172.978 L2214.29 169.042 Z\" fill=\"#000000\" fill-rule=\"evenodd\" fill-opacity=\"1\" /><polyline clip-path=\"url(#clip440)\" style=\"stroke:#e26f46; stroke-width:4; stroke-opacity:1; fill:none\" points=\"\n",
       "  2017.19,216.178 2159.47,216.178 \n",
       "  \"/>\n",
       "<path clip-path=\"url(#clip440)\" d=\"M 0 0 M2197.02 235.865 Q2195.21 240.495 2193.5 241.907 Q2191.79 243.319 2188.92 243.319 L2185.52 243.319 L2185.52 239.754 L2188.02 239.754 Q2189.78 239.754 2190.75 238.92 Q2191.72 238.087 2192.9 234.985 L2193.66 233.041 L2183.18 207.532 L2187.69 207.532 L2195.79 227.809 L2203.9 207.532 L2208.41 207.532 L2197.02 235.865 Z\" fill=\"#000000\" fill-rule=\"evenodd\" fill-opacity=\"1\" /><path clip-path=\"url(#clip440)\" d=\"M 0 0 M2217.51 229.522 L2233.83 229.522 L2233.83 233.458 L2211.88 233.458 L2211.88 229.522 Q2214.54 226.768 2219.13 222.138 Q2223.73 217.485 2224.91 216.143 Q2227.16 213.62 2228.04 211.884 Q2228.94 210.124 2228.94 208.435 Q2228.94 205.68 2227 203.944 Q2225.08 202.208 2221.97 202.208 Q2219.77 202.208 2217.32 202.972 Q2214.89 203.735 2212.11 205.286 L2212.11 200.564 Q2214.94 199.43 2217.39 198.851 Q2219.84 198.273 2221.88 198.273 Q2227.25 198.273 2230.45 200.958 Q2233.64 203.643 2233.64 208.134 Q2233.64 210.263 2232.83 212.185 Q2232.04 214.083 2229.94 216.675 Q2229.36 217.347 2226.26 220.564 Q2223.15 223.759 2217.51 229.522 Z\" fill=\"#000000\" fill-rule=\"evenodd\" fill-opacity=\"1\" /></svg>\n"
      ]
     },
     "execution_count": 87,
     "metadata": {},
     "output_type": "execute_result"
    }
   ],
   "source": [
    "plot!(k_range, sils, side=\"right\")"
   ]
  },
  {
   "cell_type": "markdown",
   "metadata": {},
   "source": [
    "### Expectation Maximization"
   ]
  },
  {
   "cell_type": "code",
   "execution_count": null,
   "metadata": {},
   "outputs": [],
   "source": [
    "@load KMeans pkg=ParallelKMeans"
   ]
  },
  {
   "cell_type": "code",
   "execution_count": null,
   "metadata": {},
   "outputs": [],
   "source": []
  },
  {
   "cell_type": "markdown",
   "metadata": {},
   "source": [
    "# Dimensionality Reduction\n",
    "Apply the dimensionality reduction algorithms to the two datasets and describe what you see.\n"
   ]
  },
  {
   "cell_type": "markdown",
   "metadata": {},
   "source": [
    "### PCA"
   ]
  },
  {
   "cell_type": "code",
   "execution_count": null,
   "metadata": {},
   "outputs": [],
   "source": []
  },
  {
   "cell_type": "markdown",
   "metadata": {},
   "source": [
    "### ICA"
   ]
  },
  {
   "cell_type": "code",
   "execution_count": null,
   "metadata": {},
   "outputs": [],
   "source": []
  },
  {
   "cell_type": "markdown",
   "metadata": {},
   "source": [
    "### Randomized Projections"
   ]
  },
  {
   "cell_type": "code",
   "execution_count": null,
   "metadata": {},
   "outputs": [],
   "source": []
  },
  {
   "cell_type": "markdown",
   "metadata": {},
   "source": [
    "### Classical Multidimensional Scaling"
   ]
  },
  {
   "cell_type": "code",
   "execution_count": null,
   "metadata": {},
   "outputs": [],
   "source": []
  },
  {
   "cell_type": "markdown",
   "metadata": {},
   "source": [
    "# Clustering Pt 2\n",
    "Reproduce your clustering experiments, but on the data after you've run dimensionality reduction on it. Yes, that’s 16 combinations of datasets, dimensionality reduction, and clustering method. You should look at all of them, but focus on the more interesting findings in your report."
   ]
  },
  {
   "cell_type": "markdown",
   "metadata": {},
   "source": [
    "### Kmeans - PCA"
   ]
  },
  {
   "cell_type": "code",
   "execution_count": null,
   "metadata": {},
   "outputs": [],
   "source": []
  },
  {
   "cell_type": "markdown",
   "metadata": {},
   "source": [
    "### EM - PCA"
   ]
  },
  {
   "cell_type": "code",
   "execution_count": null,
   "metadata": {},
   "outputs": [],
   "source": []
  },
  {
   "cell_type": "markdown",
   "metadata": {},
   "source": [
    "### Kmeans - ICA"
   ]
  },
  {
   "cell_type": "code",
   "execution_count": null,
   "metadata": {},
   "outputs": [],
   "source": []
  },
  {
   "cell_type": "markdown",
   "metadata": {},
   "source": [
    "### EM - ICA"
   ]
  },
  {
   "cell_type": "code",
   "execution_count": null,
   "metadata": {},
   "outputs": [],
   "source": []
  },
  {
   "cell_type": "markdown",
   "metadata": {},
   "source": [
    "### Kmeans - Randomized Projections"
   ]
  },
  {
   "cell_type": "code",
   "execution_count": null,
   "metadata": {},
   "outputs": [],
   "source": []
  },
  {
   "cell_type": "markdown",
   "metadata": {},
   "source": [
    "### EM - Randomized Projections"
   ]
  },
  {
   "cell_type": "code",
   "execution_count": null,
   "metadata": {},
   "outputs": [],
   "source": []
  },
  {
   "cell_type": "markdown",
   "metadata": {},
   "source": [
    "### Kmeans - Classical Multidimensional Scaling"
   ]
  },
  {
   "cell_type": "code",
   "execution_count": null,
   "metadata": {},
   "outputs": [],
   "source": []
  },
  {
   "cell_type": "markdown",
   "metadata": {},
   "source": [
    "### EM - Classical Multidimensional Scaling"
   ]
  },
  {
   "cell_type": "code",
   "execution_count": null,
   "metadata": {},
   "outputs": [],
   "source": []
  },
  {
   "cell_type": "markdown",
   "metadata": {},
   "source": [
    "# BELOW ONLY FOR 1 DATASET"
   ]
  },
  {
   "cell_type": "markdown",
   "metadata": {},
   "source": [
    "### Dimensionality Reduction + NN \n",
    "Apply the dimensionality reduction algorithms to one of your datasets from assignment #1. (if you've reused the datasets from assignment #1 to do experiments 1-3 above then you've already done this) and rerun your neural network learner on the newly projected data."
   ]
  },
  {
   "cell_type": "code",
   "execution_count": null,
   "metadata": {},
   "outputs": [],
   "source": []
  },
  {
   "cell_type": "markdown",
   "metadata": {},
   "source": [
    "### Clustering + NN\n",
    "Apply the clustering algorithms to the same dataset to which you just applied the dimensionality reduction algorithms (you've probably already done this), treating the clusters as if they were new features. In other words, treat the clustering algorithms as if they were dimensionality reduction algorithms. Again, rerun your neural network learner on the newly projected data."
   ]
  },
  {
   "cell_type": "code",
   "execution_count": null,
   "metadata": {},
   "outputs": [],
   "source": []
  },
  {
   "cell_type": "code",
   "execution_count": null,
   "metadata": {},
   "outputs": [],
   "source": [
    "###\n",
    "\n",
    "## Dimensionality Reduction + NN - Apply the dimensionality reduction algorithms to one of your datasets from assignment #1 \n",
    "#  (if you've reused the datasets from assignment #1 to do experiments 1-3 above then you've already done this) \n",
    "#  and rerun your neural network learner on the newly projected data.\n",
    "\n",
    "\n",
    "## Clustering + NN - Apply the clustering algorithms to the same dataset to which you just applied the dimensionality \n",
    "#  reduction algorithms (you've probably already done this), treating the clusters as if they were new features. \n",
    "#  In other words, treat the clustering algorithms as if they were dimensionality reduction algorithms. \n",
    "#  Again, rerun your neural network learner on the newly projected data.\n"
   ]
  }
 ],
 "metadata": {
  "kernelspec": {
   "display_name": "Julia 1.5.2",
   "language": "julia",
   "name": "julia-1.5"
  },
  "language_info": {
   "file_extension": ".jl",
   "mimetype": "application/julia",
   "name": "julia",
   "version": "1.5.2"
  }
 },
 "nbformat": 4,
 "nbformat_minor": 4
}
