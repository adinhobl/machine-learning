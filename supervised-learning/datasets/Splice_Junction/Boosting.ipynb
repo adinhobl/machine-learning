{
 "cells": [
  {
   "cell_type": "markdown",
   "metadata": {},
   "source": [
    "# Imports"
   ]
  },
  {
   "cell_type": "code",
   "execution_count": 1,
   "metadata": {},
   "outputs": [],
   "source": [
    "using DataFrames\n",
    "using CSV\n",
    "using MLJ\n",
    "using Plots\n",
    "using StatsBase\n",
    "\n",
    "include(\"../../lib.jl\")\n",
    "\n",
    "ENV[\"LINES\"]=30;"
   ]
  },
  {
   "cell_type": "markdown",
   "metadata": {},
   "source": [
    "# Dataset"
   ]
  },
  {
   "cell_type": "code",
   "execution_count": 2,
   "metadata": {
    "scrolled": true
   },
   "outputs": [
    {
     "data": {
      "text/html": [
       "<table class=\"data-frame\"><thead><tr><th></th><th>Class</th><th> Instance</th><th>                       Nucleotide_Sequence</th></tr><tr><th></th><th>String</th><th>String</th><th>String</th></tr></thead><tbody><p>3,190 rows × 3 columns</p><tr><th>1</th><td>EI</td><td>    ATRINS-DONOR-521</td><td>               CCAGCTGCATCACAGGAGGCCAGCGAGCAGGTCTGTTCCAAGGGCCTTCGAGCCAGTCTG</td></tr><tr><th>2</th><td>EI</td><td>    ATRINS-DONOR-905</td><td>               AGACCCGCCGGGAGGCGGAGGACCTGCAGGGTGAGCCCCACCGCCCCTCCGTGCCCCCGC</td></tr><tr><th>3</th><td>EI</td><td>    BABAPOE-DONOR-30</td><td>               GAGGTGAAGGACGTCCTTCCCCAGGAGCCGGTGAGAAGCGCAGTCGGGGGCACGGGGATG</td></tr><tr><th>4</th><td>EI</td><td>    BABAPOE-DONOR-867</td><td>              GGGCTGCGTTGCTGGTCACATTCCTGGCAGGTATGGGGCGGGGCTTGCTCGGTTTTCCCC</td></tr><tr><th>5</th><td>EI</td><td>    BABAPOE-DONOR-2817</td><td>             GCTCAGCCCCCAGGTCACCCAGGAACTGACGTGAGTGTCCCCATCCCGGCCCTTGACCCT</td></tr><tr><th>6</th><td>EI</td><td>    CHPIGECA-DONOR-378</td><td>             CAGACTGGGTGGACAACAAAACCTTCAGCGGTAAGAGAGGGCCAAGCTCAGAGACCACAG</td></tr><tr><th>7</th><td>EI</td><td>    CHPIGECA-DONOR-903</td><td>             CCTTTGAGGACAGCACCAAGAAGTGTGCAGGTACGTTCCCACCTGCCCTGGTGGCCGCCA</td></tr><tr><th>8</th><td>EI</td><td>    CHPIGECA-DONOR-1313</td><td>            CCCTCGTGCGGTCCACGACCAAGACCAGCGGTGAGCCACGGGCAGGCCGGGGTCGTGGGG</td></tr><tr><th>9</th><td>EI</td><td>    GCRHBBA1-DONOR-1260</td><td>            TGGCGACTACGGCGCGGAGGCCCTGGAGAGGTGAGGACCCTCCTGTCCCTGCTCCAGTCC</td></tr><tr><th>10</th><td>EI</td><td>    GCRHBBA1-DONOR-1590</td><td>            AAGCTGACAGTGGACCCGGTCAACTTCAAGGTGAGCCAGGAGTCGGGTGGGAGGGTGAGA</td></tr><tr><th>11</th><td>EI</td><td>    GCRHBBA6-DONOR-461</td><td>             TGGCGACTACGGCGCGGAGGCCCTGGAGAGGTGAGGACCCTGGTATCCCTGCTGCCAGTC</td></tr><tr><th>12</th><td>EI</td><td>    GCRHBBA6-DONOR-795</td><td>             AAGCTGAGAGTGGACCCTGTCAACTTCAAGGTGAGCCACCAGTCGGGTGGGGAGGGTGAG</td></tr><tr><th>13</th><td>EI</td><td>    GIBHBGGL-DONOR-2278</td><td>            GGAAGATGCTGGAGGAGAAACCCTGGGAAGGTAGGCTCTGGTGACCAGGACAAGGGAGGG</td></tr><tr><th>14</th><td>EI</td><td>    GIBHBGGL-DONOR-2624</td><td>            AAGCTGCATGTGGATCCTGAGAACTTCAGGGTGAGTACAGGAGATGTTTCAGCCCTGTTG</td></tr><tr><th>15</th><td>EI</td><td>    GIBHBGGL-DONOR-7198</td><td>            GGAAGATGTTGGAGGAGAAACCCTGGGAAGGTAGGCTCTGGTGACCAGGACAAGGGAGGG</td></tr><tr><th>16</th><td>EI</td><td>    GIBHBGGL-DONOR-7544</td><td>            AAGCTGCATGTGGATCCTGAGAACTTCAGGGTGAGTACAGGAGATGTTTCAGCCCTGTTG</td></tr><tr><th>17</th><td>EI</td><td>    HUMA1ATP-DONOR-1972</td><td>            GGCACCACCACTGACCTGGGACAGTGAATCGTAAGTATGCCTTTCACTGCGAGGGGTTCT</td></tr><tr><th>18</th><td>EI</td><td>    HUMA1ATP-DONOR-7932</td><td>            TTGCTCTGGTGAATTACATCTTCTTTAAAGGTAAGGTTGCTCAACCAGCCTGAGCTGTTT</td></tr><tr><th>19</th><td>EI</td><td>    HUMA1ATP-DONOR-9653</td><td>            CACCAAGTTCCTGGAAAATGAAGACAGAAGGTGATTCCCCAACCTGAGGGTGACCAAGAA</td></tr><tr><th>20</th><td>EI</td><td>    HUMA1ATP-DONOR-11057</td><td>           ACAGAGGAGGCACCCCTGAAGCTCTCCAAGGTGAGATCACCCTGACGACCTTGTTGCACC</td></tr><tr><th>21</th><td>EI</td><td>    HUMA1GLY2-DONOR-1693</td><td>           GTGCCCATCACCAACGCCACCCTGGACCGGGTGAGTGCCTGGGCTAGCCCTGTCCTGAGC</td></tr><tr><th>22</th><td>EI</td><td>    HUMA1GLY2-DONOR-2251</td><td>           CACGATCTTTCTCAGAGAGTACCAGACCCGGTGAGAGCCCCCATTCCAATGCACCCCCGA</td></tr><tr><th>23</th><td>EI</td><td>    HUMA1GLY2-DONOR-2540</td><td>           AGCGGGAGAATGGGACCGTCTCCAGATACGGTGAGGGCCAGCCCTCAGGCAGGAGGGTTC</td></tr><tr><th>24</th><td>EI</td><td>    HUMA1GLY2-DONOR-3352</td><td>           ATGAGAAGAACTGGGGGCTGTCTTTCTATGGTAGGCATGCTTAGCAGCCCCAAACTCATG</td></tr><tr><th>25</th><td>EI</td><td>    HUMA1GLY2-DONOR-3606</td><td>           TCAGATGTCATGTACACCGACTGGAAAAAGGTAAACGCAAGGGATTGGACATTGCCCACC</td></tr><tr><th>26</th><td>EI</td><td>    HUMACCYBA-DONOR-289</td><td>            GATCCGCCGCCCGTCCACACCCGCCGCCAGGTAAGCCCGGCCAGCCGACCGGGGCATGCG</td></tr><tr><th>27</th><td>EI</td><td>    HUMACCYBA-DONOR-1250</td><td>           CCCTCCATCGTGGGGCGCCCCAGGCACCAGGTAGGGGAGCTGGCTGGGTGGGGCAGCCCC</td></tr><tr><th>28</th><td>EI</td><td>    HUMACCYBA-DONOR-1624</td><td>           CCCAAGGCCAACCGCGAGAAGATGACCCAGGTGAGTGGCCCGCTACCTCTTCTGGTGGCC</td></tr><tr><th>29</th><td>EI</td><td>    HUMACCYBA-DONOR-2504</td><td>           CTGAGGCACTCTTCCAGCCTTCCTTCCTGGGTGAGTGGAGACTGTCTCCCGGCTCTGCCT</td></tr><tr><th>30</th><td>EI</td><td>    HUMACCYBA-DONOR-2781</td><td>           GCCCTGGCACCCAGCACAATGAAGATCAAGGTGGGTGTCTTTCCTGCCTGAGCTGACCTG</td></tr><tr><th>&vellip;</th><td>&vellip;</td><td>&vellip;</td><td>&vellip;</td></tr></tbody></table>"
      ],
      "text/latex": [
       "\\begin{tabular}{r|ccc}\n",
       "\t& Class &  Instance &                        Nucleotide\\_Sequence\\\\\n",
       "\t\\hline\n",
       "\t& String & String & String\\\\\n",
       "\t\\hline\n",
       "\t1 & EI &     ATRINS-DONOR-521 &                CCAGCTGCATCACAGGAGGCCAGCGAGCAGGTCTGTTCCAAGGGCCTTCGAGCCAGTCTG \\\\\n",
       "\t2 & EI &     ATRINS-DONOR-905 &                AGACCCGCCGGGAGGCGGAGGACCTGCAGGGTGAGCCCCACCGCCCCTCCGTGCCCCCGC \\\\\n",
       "\t3 & EI &     BABAPOE-DONOR-30 &                GAGGTGAAGGACGTCCTTCCCCAGGAGCCGGTGAGAAGCGCAGTCGGGGGCACGGGGATG \\\\\n",
       "\t4 & EI &     BABAPOE-DONOR-867 &               GGGCTGCGTTGCTGGTCACATTCCTGGCAGGTATGGGGCGGGGCTTGCTCGGTTTTCCCC \\\\\n",
       "\t5 & EI &     BABAPOE-DONOR-2817 &              GCTCAGCCCCCAGGTCACCCAGGAACTGACGTGAGTGTCCCCATCCCGGCCCTTGACCCT \\\\\n",
       "\t6 & EI &     CHPIGECA-DONOR-378 &              CAGACTGGGTGGACAACAAAACCTTCAGCGGTAAGAGAGGGCCAAGCTCAGAGACCACAG \\\\\n",
       "\t7 & EI &     CHPIGECA-DONOR-903 &              CCTTTGAGGACAGCACCAAGAAGTGTGCAGGTACGTTCCCACCTGCCCTGGTGGCCGCCA \\\\\n",
       "\t8 & EI &     CHPIGECA-DONOR-1313 &             CCCTCGTGCGGTCCACGACCAAGACCAGCGGTGAGCCACGGGCAGGCCGGGGTCGTGGGG \\\\\n",
       "\t9 & EI &     GCRHBBA1-DONOR-1260 &             TGGCGACTACGGCGCGGAGGCCCTGGAGAGGTGAGGACCCTCCTGTCCCTGCTCCAGTCC \\\\\n",
       "\t10 & EI &     GCRHBBA1-DONOR-1590 &             AAGCTGACAGTGGACCCGGTCAACTTCAAGGTGAGCCAGGAGTCGGGTGGGAGGGTGAGA \\\\\n",
       "\t11 & EI &     GCRHBBA6-DONOR-461 &              TGGCGACTACGGCGCGGAGGCCCTGGAGAGGTGAGGACCCTGGTATCCCTGCTGCCAGTC \\\\\n",
       "\t12 & EI &     GCRHBBA6-DONOR-795 &              AAGCTGAGAGTGGACCCTGTCAACTTCAAGGTGAGCCACCAGTCGGGTGGGGAGGGTGAG \\\\\n",
       "\t13 & EI &     GIBHBGGL-DONOR-2278 &             GGAAGATGCTGGAGGAGAAACCCTGGGAAGGTAGGCTCTGGTGACCAGGACAAGGGAGGG \\\\\n",
       "\t14 & EI &     GIBHBGGL-DONOR-2624 &             AAGCTGCATGTGGATCCTGAGAACTTCAGGGTGAGTACAGGAGATGTTTCAGCCCTGTTG \\\\\n",
       "\t15 & EI &     GIBHBGGL-DONOR-7198 &             GGAAGATGTTGGAGGAGAAACCCTGGGAAGGTAGGCTCTGGTGACCAGGACAAGGGAGGG \\\\\n",
       "\t16 & EI &     GIBHBGGL-DONOR-7544 &             AAGCTGCATGTGGATCCTGAGAACTTCAGGGTGAGTACAGGAGATGTTTCAGCCCTGTTG \\\\\n",
       "\t17 & EI &     HUMA1ATP-DONOR-1972 &             GGCACCACCACTGACCTGGGACAGTGAATCGTAAGTATGCCTTTCACTGCGAGGGGTTCT \\\\\n",
       "\t18 & EI &     HUMA1ATP-DONOR-7932 &             TTGCTCTGGTGAATTACATCTTCTTTAAAGGTAAGGTTGCTCAACCAGCCTGAGCTGTTT \\\\\n",
       "\t19 & EI &     HUMA1ATP-DONOR-9653 &             CACCAAGTTCCTGGAAAATGAAGACAGAAGGTGATTCCCCAACCTGAGGGTGACCAAGAA \\\\\n",
       "\t20 & EI &     HUMA1ATP-DONOR-11057 &            ACAGAGGAGGCACCCCTGAAGCTCTCCAAGGTGAGATCACCCTGACGACCTTGTTGCACC \\\\\n",
       "\t21 & EI &     HUMA1GLY2-DONOR-1693 &            GTGCCCATCACCAACGCCACCCTGGACCGGGTGAGTGCCTGGGCTAGCCCTGTCCTGAGC \\\\\n",
       "\t22 & EI &     HUMA1GLY2-DONOR-2251 &            CACGATCTTTCTCAGAGAGTACCAGACCCGGTGAGAGCCCCCATTCCAATGCACCCCCGA \\\\\n",
       "\t23 & EI &     HUMA1GLY2-DONOR-2540 &            AGCGGGAGAATGGGACCGTCTCCAGATACGGTGAGGGCCAGCCCTCAGGCAGGAGGGTTC \\\\\n",
       "\t24 & EI &     HUMA1GLY2-DONOR-3352 &            ATGAGAAGAACTGGGGGCTGTCTTTCTATGGTAGGCATGCTTAGCAGCCCCAAACTCATG \\\\\n",
       "\t25 & EI &     HUMA1GLY2-DONOR-3606 &            TCAGATGTCATGTACACCGACTGGAAAAAGGTAAACGCAAGGGATTGGACATTGCCCACC \\\\\n",
       "\t26 & EI &     HUMACCYBA-DONOR-289 &             GATCCGCCGCCCGTCCACACCCGCCGCCAGGTAAGCCCGGCCAGCCGACCGGGGCATGCG \\\\\n",
       "\t27 & EI &     HUMACCYBA-DONOR-1250 &            CCCTCCATCGTGGGGCGCCCCAGGCACCAGGTAGGGGAGCTGGCTGGGTGGGGCAGCCCC \\\\\n",
       "\t28 & EI &     HUMACCYBA-DONOR-1624 &            CCCAAGGCCAACCGCGAGAAGATGACCCAGGTGAGTGGCCCGCTACCTCTTCTGGTGGCC \\\\\n",
       "\t29 & EI &     HUMACCYBA-DONOR-2504 &            CTGAGGCACTCTTCCAGCCTTCCTTCCTGGGTGAGTGGAGACTGTCTCCCGGCTCTGCCT \\\\\n",
       "\t30 & EI &     HUMACCYBA-DONOR-2781 &            GCCCTGGCACCCAGCACAATGAAGATCAAGGTGGGTGTCTTTCCTGCCTGAGCTGACCTG \\\\\n",
       "\t$\\dots$ & $\\dots$ & $\\dots$ & $\\dots$ \\\\\n",
       "\\end{tabular}\n"
      ],
      "text/plain": [
       "3190×3 DataFrame. Omitted printing of 1 columns\n",
       "│ Row  │ Class  │  Instance               │\n",
       "│      │ \u001b[90mString\u001b[39m │ \u001b[90mString\u001b[39m                  │\n",
       "├──────┼────────┼─────────────────────────┤\n",
       "│ 1    │ EI     │     ATRINS-DONOR-521    │\n",
       "│ 2    │ EI     │     ATRINS-DONOR-905    │\n",
       "│ 3    │ EI     │     BABAPOE-DONOR-30    │\n",
       "│ 4    │ EI     │     BABAPOE-DONOR-867   │\n",
       "│ 5    │ EI     │     BABAPOE-DONOR-2817  │\n",
       "│ 6    │ EI     │     CHPIGECA-DONOR-378  │\n",
       "│ 7    │ EI     │     CHPIGECA-DONOR-903  │\n",
       "│ 8    │ EI     │     CHPIGECA-DONOR-1313 │\n",
       "│ 9    │ EI     │     GCRHBBA1-DONOR-1260 │\n",
       "│ 10   │ EI     │     GCRHBBA1-DONOR-1590 │\n",
       "⋮\n",
       "│ 3180 │ N      │      MNKHBPSBD-NEG-961  │\n",
       "│ 3181 │ N      │      ORAHBA01-NEG-121   │\n",
       "│ 3182 │ N      │      ORAHBBE-NEG-2581   │\n",
       "│ 3183 │ N      │      ORAHBBPSE-NEG-2101 │\n",
       "│ 3184 │ N      │      ORAHBBPSE-NEG-6661 │\n",
       "│ 3185 │ N      │      ORAHBG2F-NEG-181   │\n",
       "│ 3186 │ N      │      ORAHBPSBD-NEG-2881 │\n",
       "│ 3187 │ N      │      ORAINVOL-NEG-2161  │\n",
       "│ 3188 │ N      │      ORARGIT-NEG-241    │\n",
       "│ 3189 │ N      │      TARHBB-NEG-541     │\n",
       "│ 3190 │ N      │      TARHBD-NEG-1981    │"
      ]
     },
     "execution_count": 2,
     "metadata": {},
     "output_type": "execute_result"
    }
   ],
   "source": [
    "df = CSV.read(\"data.csv\")"
   ]
  },
  {
   "cell_type": "code",
   "execution_count": 3,
   "metadata": {},
   "outputs": [
    {
     "data": {
      "text/html": [
       "<table class=\"data-frame\"><thead><tr><th></th><th>x1</th><th>x2</th><th>x3</th><th>x4</th><th>x5</th><th>x6</th><th>x7</th><th>x8</th><th>x9</th></tr><tr><th></th><th>Float64</th><th>Float64</th><th>Float64</th><th>Float64</th><th>Float64</th><th>Float64</th><th>Float64</th><th>Float64</th><th>Float64</th></tr></thead><tbody><p>3,190 rows × 60 columns (omitted printing of 51 columns)</p><tr><th>1</th><td>67.0</td><td>67.0</td><td>65.0</td><td>71.0</td><td>67.0</td><td>84.0</td><td>71.0</td><td>67.0</td><td>65.0</td></tr><tr><th>2</th><td>65.0</td><td>71.0</td><td>65.0</td><td>67.0</td><td>67.0</td><td>67.0</td><td>71.0</td><td>67.0</td><td>67.0</td></tr><tr><th>3</th><td>71.0</td><td>65.0</td><td>71.0</td><td>71.0</td><td>84.0</td><td>71.0</td><td>65.0</td><td>65.0</td><td>71.0</td></tr><tr><th>4</th><td>71.0</td><td>71.0</td><td>71.0</td><td>67.0</td><td>84.0</td><td>71.0</td><td>67.0</td><td>71.0</td><td>84.0</td></tr><tr><th>5</th><td>71.0</td><td>67.0</td><td>84.0</td><td>67.0</td><td>65.0</td><td>71.0</td><td>67.0</td><td>67.0</td><td>67.0</td></tr><tr><th>6</th><td>67.0</td><td>65.0</td><td>71.0</td><td>65.0</td><td>67.0</td><td>84.0</td><td>71.0</td><td>71.0</td><td>71.0</td></tr><tr><th>7</th><td>67.0</td><td>67.0</td><td>84.0</td><td>84.0</td><td>84.0</td><td>71.0</td><td>65.0</td><td>71.0</td><td>71.0</td></tr><tr><th>8</th><td>67.0</td><td>67.0</td><td>67.0</td><td>84.0</td><td>67.0</td><td>71.0</td><td>84.0</td><td>71.0</td><td>67.0</td></tr><tr><th>9</th><td>84.0</td><td>71.0</td><td>71.0</td><td>67.0</td><td>71.0</td><td>65.0</td><td>67.0</td><td>84.0</td><td>65.0</td></tr><tr><th>10</th><td>65.0</td><td>65.0</td><td>71.0</td><td>67.0</td><td>84.0</td><td>71.0</td><td>65.0</td><td>67.0</td><td>65.0</td></tr><tr><th>11</th><td>84.0</td><td>71.0</td><td>71.0</td><td>67.0</td><td>71.0</td><td>65.0</td><td>67.0</td><td>84.0</td><td>65.0</td></tr><tr><th>12</th><td>65.0</td><td>65.0</td><td>71.0</td><td>67.0</td><td>84.0</td><td>71.0</td><td>65.0</td><td>71.0</td><td>65.0</td></tr><tr><th>13</th><td>71.0</td><td>71.0</td><td>65.0</td><td>65.0</td><td>71.0</td><td>65.0</td><td>84.0</td><td>71.0</td><td>67.0</td></tr><tr><th>14</th><td>65.0</td><td>65.0</td><td>71.0</td><td>67.0</td><td>84.0</td><td>71.0</td><td>67.0</td><td>65.0</td><td>84.0</td></tr><tr><th>15</th><td>71.0</td><td>71.0</td><td>65.0</td><td>65.0</td><td>71.0</td><td>65.0</td><td>84.0</td><td>71.0</td><td>84.0</td></tr><tr><th>16</th><td>65.0</td><td>65.0</td><td>71.0</td><td>67.0</td><td>84.0</td><td>71.0</td><td>67.0</td><td>65.0</td><td>84.0</td></tr><tr><th>17</th><td>71.0</td><td>71.0</td><td>67.0</td><td>65.0</td><td>67.0</td><td>67.0</td><td>65.0</td><td>67.0</td><td>67.0</td></tr><tr><th>18</th><td>84.0</td><td>84.0</td><td>71.0</td><td>67.0</td><td>84.0</td><td>67.0</td><td>84.0</td><td>71.0</td><td>71.0</td></tr><tr><th>19</th><td>67.0</td><td>65.0</td><td>67.0</td><td>67.0</td><td>65.0</td><td>65.0</td><td>71.0</td><td>84.0</td><td>84.0</td></tr><tr><th>20</th><td>65.0</td><td>67.0</td><td>65.0</td><td>71.0</td><td>65.0</td><td>71.0</td><td>71.0</td><td>65.0</td><td>71.0</td></tr><tr><th>21</th><td>71.0</td><td>84.0</td><td>71.0</td><td>67.0</td><td>67.0</td><td>67.0</td><td>65.0</td><td>84.0</td><td>67.0</td></tr><tr><th>22</th><td>67.0</td><td>65.0</td><td>67.0</td><td>71.0</td><td>65.0</td><td>84.0</td><td>67.0</td><td>84.0</td><td>84.0</td></tr><tr><th>23</th><td>65.0</td><td>71.0</td><td>67.0</td><td>71.0</td><td>71.0</td><td>71.0</td><td>65.0</td><td>71.0</td><td>65.0</td></tr><tr><th>24</th><td>65.0</td><td>84.0</td><td>71.0</td><td>65.0</td><td>71.0</td><td>65.0</td><td>65.0</td><td>71.0</td><td>65.0</td></tr><tr><th>25</th><td>84.0</td><td>67.0</td><td>65.0</td><td>71.0</td><td>65.0</td><td>84.0</td><td>71.0</td><td>84.0</td><td>67.0</td></tr><tr><th>26</th><td>71.0</td><td>65.0</td><td>84.0</td><td>67.0</td><td>67.0</td><td>71.0</td><td>67.0</td><td>67.0</td><td>71.0</td></tr><tr><th>27</th><td>67.0</td><td>67.0</td><td>67.0</td><td>84.0</td><td>67.0</td><td>67.0</td><td>65.0</td><td>84.0</td><td>67.0</td></tr><tr><th>28</th><td>67.0</td><td>67.0</td><td>67.0</td><td>65.0</td><td>65.0</td><td>71.0</td><td>71.0</td><td>67.0</td><td>67.0</td></tr><tr><th>29</th><td>67.0</td><td>84.0</td><td>71.0</td><td>65.0</td><td>71.0</td><td>71.0</td><td>67.0</td><td>65.0</td><td>67.0</td></tr><tr><th>30</th><td>71.0</td><td>67.0</td><td>67.0</td><td>67.0</td><td>84.0</td><td>71.0</td><td>71.0</td><td>67.0</td><td>65.0</td></tr><tr><th>&vellip;</th><td>&vellip;</td><td>&vellip;</td><td>&vellip;</td><td>&vellip;</td><td>&vellip;</td><td>&vellip;</td><td>&vellip;</td><td>&vellip;</td><td>&vellip;</td></tr></tbody></table>"
      ],
      "text/latex": [
       "\\begin{tabular}{r|cccccccccc}\n",
       "\t& x1 & x2 & x3 & x4 & x5 & x6 & x7 & x8 & x9 & \\\\\n",
       "\t\\hline\n",
       "\t& Float64 & Float64 & Float64 & Float64 & Float64 & Float64 & Float64 & Float64 & Float64 & \\\\\n",
       "\t\\hline\n",
       "\t1 & 67.0 & 67.0 & 65.0 & 71.0 & 67.0 & 84.0 & 71.0 & 67.0 & 65.0 & $\\dots$ \\\\\n",
       "\t2 & 65.0 & 71.0 & 65.0 & 67.0 & 67.0 & 67.0 & 71.0 & 67.0 & 67.0 & $\\dots$ \\\\\n",
       "\t3 & 71.0 & 65.0 & 71.0 & 71.0 & 84.0 & 71.0 & 65.0 & 65.0 & 71.0 & $\\dots$ \\\\\n",
       "\t4 & 71.0 & 71.0 & 71.0 & 67.0 & 84.0 & 71.0 & 67.0 & 71.0 & 84.0 & $\\dots$ \\\\\n",
       "\t5 & 71.0 & 67.0 & 84.0 & 67.0 & 65.0 & 71.0 & 67.0 & 67.0 & 67.0 & $\\dots$ \\\\\n",
       "\t6 & 67.0 & 65.0 & 71.0 & 65.0 & 67.0 & 84.0 & 71.0 & 71.0 & 71.0 & $\\dots$ \\\\\n",
       "\t7 & 67.0 & 67.0 & 84.0 & 84.0 & 84.0 & 71.0 & 65.0 & 71.0 & 71.0 & $\\dots$ \\\\\n",
       "\t8 & 67.0 & 67.0 & 67.0 & 84.0 & 67.0 & 71.0 & 84.0 & 71.0 & 67.0 & $\\dots$ \\\\\n",
       "\t9 & 84.0 & 71.0 & 71.0 & 67.0 & 71.0 & 65.0 & 67.0 & 84.0 & 65.0 & $\\dots$ \\\\\n",
       "\t10 & 65.0 & 65.0 & 71.0 & 67.0 & 84.0 & 71.0 & 65.0 & 67.0 & 65.0 & $\\dots$ \\\\\n",
       "\t11 & 84.0 & 71.0 & 71.0 & 67.0 & 71.0 & 65.0 & 67.0 & 84.0 & 65.0 & $\\dots$ \\\\\n",
       "\t12 & 65.0 & 65.0 & 71.0 & 67.0 & 84.0 & 71.0 & 65.0 & 71.0 & 65.0 & $\\dots$ \\\\\n",
       "\t13 & 71.0 & 71.0 & 65.0 & 65.0 & 71.0 & 65.0 & 84.0 & 71.0 & 67.0 & $\\dots$ \\\\\n",
       "\t14 & 65.0 & 65.0 & 71.0 & 67.0 & 84.0 & 71.0 & 67.0 & 65.0 & 84.0 & $\\dots$ \\\\\n",
       "\t15 & 71.0 & 71.0 & 65.0 & 65.0 & 71.0 & 65.0 & 84.0 & 71.0 & 84.0 & $\\dots$ \\\\\n",
       "\t16 & 65.0 & 65.0 & 71.0 & 67.0 & 84.0 & 71.0 & 67.0 & 65.0 & 84.0 & $\\dots$ \\\\\n",
       "\t17 & 71.0 & 71.0 & 67.0 & 65.0 & 67.0 & 67.0 & 65.0 & 67.0 & 67.0 & $\\dots$ \\\\\n",
       "\t18 & 84.0 & 84.0 & 71.0 & 67.0 & 84.0 & 67.0 & 84.0 & 71.0 & 71.0 & $\\dots$ \\\\\n",
       "\t19 & 67.0 & 65.0 & 67.0 & 67.0 & 65.0 & 65.0 & 71.0 & 84.0 & 84.0 & $\\dots$ \\\\\n",
       "\t20 & 65.0 & 67.0 & 65.0 & 71.0 & 65.0 & 71.0 & 71.0 & 65.0 & 71.0 & $\\dots$ \\\\\n",
       "\t21 & 71.0 & 84.0 & 71.0 & 67.0 & 67.0 & 67.0 & 65.0 & 84.0 & 67.0 & $\\dots$ \\\\\n",
       "\t22 & 67.0 & 65.0 & 67.0 & 71.0 & 65.0 & 84.0 & 67.0 & 84.0 & 84.0 & $\\dots$ \\\\\n",
       "\t23 & 65.0 & 71.0 & 67.0 & 71.0 & 71.0 & 71.0 & 65.0 & 71.0 & 65.0 & $\\dots$ \\\\\n",
       "\t24 & 65.0 & 84.0 & 71.0 & 65.0 & 71.0 & 65.0 & 65.0 & 71.0 & 65.0 & $\\dots$ \\\\\n",
       "\t25 & 84.0 & 67.0 & 65.0 & 71.0 & 65.0 & 84.0 & 71.0 & 84.0 & 67.0 & $\\dots$ \\\\\n",
       "\t26 & 71.0 & 65.0 & 84.0 & 67.0 & 67.0 & 71.0 & 67.0 & 67.0 & 71.0 & $\\dots$ \\\\\n",
       "\t27 & 67.0 & 67.0 & 67.0 & 84.0 & 67.0 & 67.0 & 65.0 & 84.0 & 67.0 & $\\dots$ \\\\\n",
       "\t28 & 67.0 & 67.0 & 67.0 & 65.0 & 65.0 & 71.0 & 71.0 & 67.0 & 67.0 & $\\dots$ \\\\\n",
       "\t29 & 67.0 & 84.0 & 71.0 & 65.0 & 71.0 & 71.0 & 67.0 & 65.0 & 67.0 & $\\dots$ \\\\\n",
       "\t30 & 71.0 & 67.0 & 67.0 & 67.0 & 84.0 & 71.0 & 71.0 & 67.0 & 65.0 & $\\dots$ \\\\\n",
       "\t$\\dots$ & $\\dots$ & $\\dots$ & $\\dots$ & $\\dots$ & $\\dots$ & $\\dots$ & $\\dots$ & $\\dots$ & $\\dots$ &  \\\\\n",
       "\\end{tabular}\n"
      ],
      "text/plain": [
       "3190×60 DataFrame. Omitted printing of 53 columns\n",
       "│ Row  │ x1      │ x2      │ x3      │ x4      │ x5      │ x6      │ x7      │\n",
       "│      │ \u001b[90mFloat64\u001b[39m │ \u001b[90mFloat64\u001b[39m │ \u001b[90mFloat64\u001b[39m │ \u001b[90mFloat64\u001b[39m │ \u001b[90mFloat64\u001b[39m │ \u001b[90mFloat64\u001b[39m │ \u001b[90mFloat64\u001b[39m │\n",
       "├──────┼─────────┼─────────┼─────────┼─────────┼─────────┼─────────┼─────────┤\n",
       "│ 1    │ 67.0    │ 67.0    │ 65.0    │ 71.0    │ 67.0    │ 84.0    │ 71.0    │\n",
       "│ 2    │ 65.0    │ 71.0    │ 65.0    │ 67.0    │ 67.0    │ 67.0    │ 71.0    │\n",
       "│ 3    │ 71.0    │ 65.0    │ 71.0    │ 71.0    │ 84.0    │ 71.0    │ 65.0    │\n",
       "│ 4    │ 71.0    │ 71.0    │ 71.0    │ 67.0    │ 84.0    │ 71.0    │ 67.0    │\n",
       "│ 5    │ 71.0    │ 67.0    │ 84.0    │ 67.0    │ 65.0    │ 71.0    │ 67.0    │\n",
       "│ 6    │ 67.0    │ 65.0    │ 71.0    │ 65.0    │ 67.0    │ 84.0    │ 71.0    │\n",
       "│ 7    │ 67.0    │ 67.0    │ 84.0    │ 84.0    │ 84.0    │ 71.0    │ 65.0    │\n",
       "│ 8    │ 67.0    │ 67.0    │ 67.0    │ 84.0    │ 67.0    │ 71.0    │ 84.0    │\n",
       "│ 9    │ 84.0    │ 71.0    │ 71.0    │ 67.0    │ 71.0    │ 65.0    │ 67.0    │\n",
       "│ 10   │ 65.0    │ 65.0    │ 71.0    │ 67.0    │ 84.0    │ 71.0    │ 65.0    │\n",
       "⋮\n",
       "│ 3180 │ 67.0    │ 67.0    │ 84.0    │ 67.0    │ 65.0    │ 71.0    │ 84.0    │\n",
       "│ 3181 │ 67.0    │ 67.0    │ 84.0    │ 71.0    │ 67.0    │ 67.0    │ 71.0    │\n",
       "│ 3182 │ 67.0    │ 84.0    │ 71.0    │ 71.0    │ 65.0    │ 65.0    │ 71.0    │\n",
       "│ 3183 │ 84.0    │ 71.0    │ 84.0    │ 84.0    │ 84.0    │ 67.0    │ 84.0    │\n",
       "│ 3184 │ 84.0    │ 65.0    │ 65.0    │ 65.0    │ 65.0    │ 65.0    │ 65.0    │\n",
       "│ 3185 │ 65.0    │ 84.0    │ 67.0    │ 65.0    │ 65.0    │ 84.0    │ 65.0    │\n",
       "│ 3186 │ 84.0    │ 67.0    │ 84.0    │ 67.0    │ 84.0    │ 84.0    │ 67.0    │\n",
       "│ 3187 │ 71.0    │ 65.0    │ 71.0    │ 67.0    │ 84.0    │ 67.0    │ 67.0    │\n",
       "│ 3188 │ 84.0    │ 67.0    │ 84.0    │ 67.0    │ 71.0    │ 71.0    │ 71.0    │\n",
       "│ 3189 │ 65.0    │ 84.0    │ 84.0    │ 67.0    │ 84.0    │ 65.0    │ 67.0    │\n",
       "│ 3190 │ 65.0    │ 71.0    │ 71.0    │ 67.0    │ 84.0    │ 71.0    │ 67.0    │"
      ]
     },
     "execution_count": 3,
     "metadata": {},
     "output_type": "execute_result"
    }
   ],
   "source": [
    "data = separate_bases(df)"
   ]
  },
  {
   "cell_type": "code",
   "execution_count": 4,
   "metadata": {},
   "outputs": [
    {
     "data": {
      "text/html": [
       "<table class=\"data-frame\"><thead><tr><th></th><th>Class</th><th> Instance</th><th>                       Nucleotide_Sequence</th></tr><tr><th></th><th>String</th><th>String</th><th>String</th></tr></thead><tbody><p>3,190 rows × 63 columns (omitted printing of 60 columns)</p><tr><th>1</th><td>EI</td><td>    ATRINS-DONOR-521</td><td>               CCAGCTGCATCACAGGAGGCCAGCGAGCAGGTCTGTTCCAAGGGCCTTCGAGCCAGTCTG</td></tr><tr><th>2</th><td>EI</td><td>    ATRINS-DONOR-905</td><td>               AGACCCGCCGGGAGGCGGAGGACCTGCAGGGTGAGCCCCACCGCCCCTCCGTGCCCCCGC</td></tr><tr><th>3</th><td>EI</td><td>    BABAPOE-DONOR-30</td><td>               GAGGTGAAGGACGTCCTTCCCCAGGAGCCGGTGAGAAGCGCAGTCGGGGGCACGGGGATG</td></tr><tr><th>4</th><td>EI</td><td>    BABAPOE-DONOR-867</td><td>              GGGCTGCGTTGCTGGTCACATTCCTGGCAGGTATGGGGCGGGGCTTGCTCGGTTTTCCCC</td></tr><tr><th>5</th><td>EI</td><td>    BABAPOE-DONOR-2817</td><td>             GCTCAGCCCCCAGGTCACCCAGGAACTGACGTGAGTGTCCCCATCCCGGCCCTTGACCCT</td></tr><tr><th>6</th><td>EI</td><td>    CHPIGECA-DONOR-378</td><td>             CAGACTGGGTGGACAACAAAACCTTCAGCGGTAAGAGAGGGCCAAGCTCAGAGACCACAG</td></tr><tr><th>7</th><td>EI</td><td>    CHPIGECA-DONOR-903</td><td>             CCTTTGAGGACAGCACCAAGAAGTGTGCAGGTACGTTCCCACCTGCCCTGGTGGCCGCCA</td></tr><tr><th>8</th><td>EI</td><td>    CHPIGECA-DONOR-1313</td><td>            CCCTCGTGCGGTCCACGACCAAGACCAGCGGTGAGCCACGGGCAGGCCGGGGTCGTGGGG</td></tr><tr><th>9</th><td>EI</td><td>    GCRHBBA1-DONOR-1260</td><td>            TGGCGACTACGGCGCGGAGGCCCTGGAGAGGTGAGGACCCTCCTGTCCCTGCTCCAGTCC</td></tr><tr><th>10</th><td>EI</td><td>    GCRHBBA1-DONOR-1590</td><td>            AAGCTGACAGTGGACCCGGTCAACTTCAAGGTGAGCCAGGAGTCGGGTGGGAGGGTGAGA</td></tr><tr><th>11</th><td>EI</td><td>    GCRHBBA6-DONOR-461</td><td>             TGGCGACTACGGCGCGGAGGCCCTGGAGAGGTGAGGACCCTGGTATCCCTGCTGCCAGTC</td></tr><tr><th>12</th><td>EI</td><td>    GCRHBBA6-DONOR-795</td><td>             AAGCTGAGAGTGGACCCTGTCAACTTCAAGGTGAGCCACCAGTCGGGTGGGGAGGGTGAG</td></tr><tr><th>13</th><td>EI</td><td>    GIBHBGGL-DONOR-2278</td><td>            GGAAGATGCTGGAGGAGAAACCCTGGGAAGGTAGGCTCTGGTGACCAGGACAAGGGAGGG</td></tr><tr><th>14</th><td>EI</td><td>    GIBHBGGL-DONOR-2624</td><td>            AAGCTGCATGTGGATCCTGAGAACTTCAGGGTGAGTACAGGAGATGTTTCAGCCCTGTTG</td></tr><tr><th>15</th><td>EI</td><td>    GIBHBGGL-DONOR-7198</td><td>            GGAAGATGTTGGAGGAGAAACCCTGGGAAGGTAGGCTCTGGTGACCAGGACAAGGGAGGG</td></tr><tr><th>16</th><td>EI</td><td>    GIBHBGGL-DONOR-7544</td><td>            AAGCTGCATGTGGATCCTGAGAACTTCAGGGTGAGTACAGGAGATGTTTCAGCCCTGTTG</td></tr><tr><th>17</th><td>EI</td><td>    HUMA1ATP-DONOR-1972</td><td>            GGCACCACCACTGACCTGGGACAGTGAATCGTAAGTATGCCTTTCACTGCGAGGGGTTCT</td></tr><tr><th>18</th><td>EI</td><td>    HUMA1ATP-DONOR-7932</td><td>            TTGCTCTGGTGAATTACATCTTCTTTAAAGGTAAGGTTGCTCAACCAGCCTGAGCTGTTT</td></tr><tr><th>19</th><td>EI</td><td>    HUMA1ATP-DONOR-9653</td><td>            CACCAAGTTCCTGGAAAATGAAGACAGAAGGTGATTCCCCAACCTGAGGGTGACCAAGAA</td></tr><tr><th>20</th><td>EI</td><td>    HUMA1ATP-DONOR-11057</td><td>           ACAGAGGAGGCACCCCTGAAGCTCTCCAAGGTGAGATCACCCTGACGACCTTGTTGCACC</td></tr><tr><th>21</th><td>EI</td><td>    HUMA1GLY2-DONOR-1693</td><td>           GTGCCCATCACCAACGCCACCCTGGACCGGGTGAGTGCCTGGGCTAGCCCTGTCCTGAGC</td></tr><tr><th>22</th><td>EI</td><td>    HUMA1GLY2-DONOR-2251</td><td>           CACGATCTTTCTCAGAGAGTACCAGACCCGGTGAGAGCCCCCATTCCAATGCACCCCCGA</td></tr><tr><th>23</th><td>EI</td><td>    HUMA1GLY2-DONOR-2540</td><td>           AGCGGGAGAATGGGACCGTCTCCAGATACGGTGAGGGCCAGCCCTCAGGCAGGAGGGTTC</td></tr><tr><th>24</th><td>EI</td><td>    HUMA1GLY2-DONOR-3352</td><td>           ATGAGAAGAACTGGGGGCTGTCTTTCTATGGTAGGCATGCTTAGCAGCCCCAAACTCATG</td></tr><tr><th>25</th><td>EI</td><td>    HUMA1GLY2-DONOR-3606</td><td>           TCAGATGTCATGTACACCGACTGGAAAAAGGTAAACGCAAGGGATTGGACATTGCCCACC</td></tr><tr><th>26</th><td>EI</td><td>    HUMACCYBA-DONOR-289</td><td>            GATCCGCCGCCCGTCCACACCCGCCGCCAGGTAAGCCCGGCCAGCCGACCGGGGCATGCG</td></tr><tr><th>27</th><td>EI</td><td>    HUMACCYBA-DONOR-1250</td><td>           CCCTCCATCGTGGGGCGCCCCAGGCACCAGGTAGGGGAGCTGGCTGGGTGGGGCAGCCCC</td></tr><tr><th>28</th><td>EI</td><td>    HUMACCYBA-DONOR-1624</td><td>           CCCAAGGCCAACCGCGAGAAGATGACCCAGGTGAGTGGCCCGCTACCTCTTCTGGTGGCC</td></tr><tr><th>29</th><td>EI</td><td>    HUMACCYBA-DONOR-2504</td><td>           CTGAGGCACTCTTCCAGCCTTCCTTCCTGGGTGAGTGGAGACTGTCTCCCGGCTCTGCCT</td></tr><tr><th>30</th><td>EI</td><td>    HUMACCYBA-DONOR-2781</td><td>           GCCCTGGCACCCAGCACAATGAAGATCAAGGTGGGTGTCTTTCCTGCCTGAGCTGACCTG</td></tr><tr><th>&vellip;</th><td>&vellip;</td><td>&vellip;</td><td>&vellip;</td></tr></tbody></table>"
      ],
      "text/latex": [
       "\\begin{tabular}{r|cccc}\n",
       "\t& Class &  Instance &                        Nucleotide\\_Sequence & \\\\\n",
       "\t\\hline\n",
       "\t& String & String & String & \\\\\n",
       "\t\\hline\n",
       "\t1 & EI &     ATRINS-DONOR-521 &                CCAGCTGCATCACAGGAGGCCAGCGAGCAGGTCTGTTCCAAGGGCCTTCGAGCCAGTCTG & $\\dots$ \\\\\n",
       "\t2 & EI &     ATRINS-DONOR-905 &                AGACCCGCCGGGAGGCGGAGGACCTGCAGGGTGAGCCCCACCGCCCCTCCGTGCCCCCGC & $\\dots$ \\\\\n",
       "\t3 & EI &     BABAPOE-DONOR-30 &                GAGGTGAAGGACGTCCTTCCCCAGGAGCCGGTGAGAAGCGCAGTCGGGGGCACGGGGATG & $\\dots$ \\\\\n",
       "\t4 & EI &     BABAPOE-DONOR-867 &               GGGCTGCGTTGCTGGTCACATTCCTGGCAGGTATGGGGCGGGGCTTGCTCGGTTTTCCCC & $\\dots$ \\\\\n",
       "\t5 & EI &     BABAPOE-DONOR-2817 &              GCTCAGCCCCCAGGTCACCCAGGAACTGACGTGAGTGTCCCCATCCCGGCCCTTGACCCT & $\\dots$ \\\\\n",
       "\t6 & EI &     CHPIGECA-DONOR-378 &              CAGACTGGGTGGACAACAAAACCTTCAGCGGTAAGAGAGGGCCAAGCTCAGAGACCACAG & $\\dots$ \\\\\n",
       "\t7 & EI &     CHPIGECA-DONOR-903 &              CCTTTGAGGACAGCACCAAGAAGTGTGCAGGTACGTTCCCACCTGCCCTGGTGGCCGCCA & $\\dots$ \\\\\n",
       "\t8 & EI &     CHPIGECA-DONOR-1313 &             CCCTCGTGCGGTCCACGACCAAGACCAGCGGTGAGCCACGGGCAGGCCGGGGTCGTGGGG & $\\dots$ \\\\\n",
       "\t9 & EI &     GCRHBBA1-DONOR-1260 &             TGGCGACTACGGCGCGGAGGCCCTGGAGAGGTGAGGACCCTCCTGTCCCTGCTCCAGTCC & $\\dots$ \\\\\n",
       "\t10 & EI &     GCRHBBA1-DONOR-1590 &             AAGCTGACAGTGGACCCGGTCAACTTCAAGGTGAGCCAGGAGTCGGGTGGGAGGGTGAGA & $\\dots$ \\\\\n",
       "\t11 & EI &     GCRHBBA6-DONOR-461 &              TGGCGACTACGGCGCGGAGGCCCTGGAGAGGTGAGGACCCTGGTATCCCTGCTGCCAGTC & $\\dots$ \\\\\n",
       "\t12 & EI &     GCRHBBA6-DONOR-795 &              AAGCTGAGAGTGGACCCTGTCAACTTCAAGGTGAGCCACCAGTCGGGTGGGGAGGGTGAG & $\\dots$ \\\\\n",
       "\t13 & EI &     GIBHBGGL-DONOR-2278 &             GGAAGATGCTGGAGGAGAAACCCTGGGAAGGTAGGCTCTGGTGACCAGGACAAGGGAGGG & $\\dots$ \\\\\n",
       "\t14 & EI &     GIBHBGGL-DONOR-2624 &             AAGCTGCATGTGGATCCTGAGAACTTCAGGGTGAGTACAGGAGATGTTTCAGCCCTGTTG & $\\dots$ \\\\\n",
       "\t15 & EI &     GIBHBGGL-DONOR-7198 &             GGAAGATGTTGGAGGAGAAACCCTGGGAAGGTAGGCTCTGGTGACCAGGACAAGGGAGGG & $\\dots$ \\\\\n",
       "\t16 & EI &     GIBHBGGL-DONOR-7544 &             AAGCTGCATGTGGATCCTGAGAACTTCAGGGTGAGTACAGGAGATGTTTCAGCCCTGTTG & $\\dots$ \\\\\n",
       "\t17 & EI &     HUMA1ATP-DONOR-1972 &             GGCACCACCACTGACCTGGGACAGTGAATCGTAAGTATGCCTTTCACTGCGAGGGGTTCT & $\\dots$ \\\\\n",
       "\t18 & EI &     HUMA1ATP-DONOR-7932 &             TTGCTCTGGTGAATTACATCTTCTTTAAAGGTAAGGTTGCTCAACCAGCCTGAGCTGTTT & $\\dots$ \\\\\n",
       "\t19 & EI &     HUMA1ATP-DONOR-9653 &             CACCAAGTTCCTGGAAAATGAAGACAGAAGGTGATTCCCCAACCTGAGGGTGACCAAGAA & $\\dots$ \\\\\n",
       "\t20 & EI &     HUMA1ATP-DONOR-11057 &            ACAGAGGAGGCACCCCTGAAGCTCTCCAAGGTGAGATCACCCTGACGACCTTGTTGCACC & $\\dots$ \\\\\n",
       "\t21 & EI &     HUMA1GLY2-DONOR-1693 &            GTGCCCATCACCAACGCCACCCTGGACCGGGTGAGTGCCTGGGCTAGCCCTGTCCTGAGC & $\\dots$ \\\\\n",
       "\t22 & EI &     HUMA1GLY2-DONOR-2251 &            CACGATCTTTCTCAGAGAGTACCAGACCCGGTGAGAGCCCCCATTCCAATGCACCCCCGA & $\\dots$ \\\\\n",
       "\t23 & EI &     HUMA1GLY2-DONOR-2540 &            AGCGGGAGAATGGGACCGTCTCCAGATACGGTGAGGGCCAGCCCTCAGGCAGGAGGGTTC & $\\dots$ \\\\\n",
       "\t24 & EI &     HUMA1GLY2-DONOR-3352 &            ATGAGAAGAACTGGGGGCTGTCTTTCTATGGTAGGCATGCTTAGCAGCCCCAAACTCATG & $\\dots$ \\\\\n",
       "\t25 & EI &     HUMA1GLY2-DONOR-3606 &            TCAGATGTCATGTACACCGACTGGAAAAAGGTAAACGCAAGGGATTGGACATTGCCCACC & $\\dots$ \\\\\n",
       "\t26 & EI &     HUMACCYBA-DONOR-289 &             GATCCGCCGCCCGTCCACACCCGCCGCCAGGTAAGCCCGGCCAGCCGACCGGGGCATGCG & $\\dots$ \\\\\n",
       "\t27 & EI &     HUMACCYBA-DONOR-1250 &            CCCTCCATCGTGGGGCGCCCCAGGCACCAGGTAGGGGAGCTGGCTGGGTGGGGCAGCCCC & $\\dots$ \\\\\n",
       "\t28 & EI &     HUMACCYBA-DONOR-1624 &            CCCAAGGCCAACCGCGAGAAGATGACCCAGGTGAGTGGCCCGCTACCTCTTCTGGTGGCC & $\\dots$ \\\\\n",
       "\t29 & EI &     HUMACCYBA-DONOR-2504 &            CTGAGGCACTCTTCCAGCCTTCCTTCCTGGGTGAGTGGAGACTGTCTCCCGGCTCTGCCT & $\\dots$ \\\\\n",
       "\t30 & EI &     HUMACCYBA-DONOR-2781 &            GCCCTGGCACCCAGCACAATGAAGATCAAGGTGGGTGTCTTTCCTGCCTGAGCTGACCTG & $\\dots$ \\\\\n",
       "\t$\\dots$ & $\\dots$ & $\\dots$ & $\\dots$ &  \\\\\n",
       "\\end{tabular}\n"
      ],
      "text/plain": [
       "3190×63 DataFrame. Omitted printing of 61 columns\n",
       "│ Row  │ Class  │  Instance               │\n",
       "│      │ \u001b[90mString\u001b[39m │ \u001b[90mString\u001b[39m                  │\n",
       "├──────┼────────┼─────────────────────────┤\n",
       "│ 1    │ EI     │     ATRINS-DONOR-521    │\n",
       "│ 2    │ EI     │     ATRINS-DONOR-905    │\n",
       "│ 3    │ EI     │     BABAPOE-DONOR-30    │\n",
       "│ 4    │ EI     │     BABAPOE-DONOR-867   │\n",
       "│ 5    │ EI     │     BABAPOE-DONOR-2817  │\n",
       "│ 6    │ EI     │     CHPIGECA-DONOR-378  │\n",
       "│ 7    │ EI     │     CHPIGECA-DONOR-903  │\n",
       "│ 8    │ EI     │     CHPIGECA-DONOR-1313 │\n",
       "│ 9    │ EI     │     GCRHBBA1-DONOR-1260 │\n",
       "│ 10   │ EI     │     GCRHBBA1-DONOR-1590 │\n",
       "⋮\n",
       "│ 3180 │ N      │      MNKHBPSBD-NEG-961  │\n",
       "│ 3181 │ N      │      ORAHBA01-NEG-121   │\n",
       "│ 3182 │ N      │      ORAHBBE-NEG-2581   │\n",
       "│ 3183 │ N      │      ORAHBBPSE-NEG-2101 │\n",
       "│ 3184 │ N      │      ORAHBBPSE-NEG-6661 │\n",
       "│ 3185 │ N      │      ORAHBG2F-NEG-181   │\n",
       "│ 3186 │ N      │      ORAHBPSBD-NEG-2881 │\n",
       "│ 3187 │ N      │      ORAINVOL-NEG-2161  │\n",
       "│ 3188 │ N      │      ORARGIT-NEG-241    │\n",
       "│ 3189 │ N      │      TARHBB-NEG-541     │\n",
       "│ 3190 │ N      │      TARHBD-NEG-1981    │"
      ]
     },
     "execution_count": 4,
     "metadata": {},
     "output_type": "execute_result"
    }
   ],
   "source": [
    "data = hcat(df,data)"
   ]
  },
  {
   "cell_type": "code",
   "execution_count": 5,
   "metadata": {},
   "outputs": [],
   "source": [
    "# data[:,3:5]"
   ]
  },
  {
   "cell_type": "code",
   "execution_count": 6,
   "metadata": {},
   "outputs": [
    {
     "data": {
      "text/html": [
       "<table class=\"data-frame\"><thead><tr><th></th><th>Class</th><th>x1</th><th>x2</th><th>x3</th><th>x4</th><th>x5</th><th>x6</th><th>x7</th><th>x8</th></tr><tr><th></th><th>String</th><th>Float64</th><th>Float64</th><th>Float64</th><th>Float64</th><th>Float64</th><th>Float64</th><th>Float64</th><th>Float64</th></tr></thead><tbody><p>3,190 rows × 61 columns (omitted printing of 52 columns)</p><tr><th>1</th><td>EI</td><td>67.0</td><td>67.0</td><td>65.0</td><td>71.0</td><td>67.0</td><td>84.0</td><td>71.0</td><td>67.0</td></tr><tr><th>2</th><td>EI</td><td>65.0</td><td>71.0</td><td>65.0</td><td>67.0</td><td>67.0</td><td>67.0</td><td>71.0</td><td>67.0</td></tr><tr><th>3</th><td>EI</td><td>71.0</td><td>65.0</td><td>71.0</td><td>71.0</td><td>84.0</td><td>71.0</td><td>65.0</td><td>65.0</td></tr><tr><th>4</th><td>EI</td><td>71.0</td><td>71.0</td><td>71.0</td><td>67.0</td><td>84.0</td><td>71.0</td><td>67.0</td><td>71.0</td></tr><tr><th>5</th><td>EI</td><td>71.0</td><td>67.0</td><td>84.0</td><td>67.0</td><td>65.0</td><td>71.0</td><td>67.0</td><td>67.0</td></tr><tr><th>6</th><td>EI</td><td>67.0</td><td>65.0</td><td>71.0</td><td>65.0</td><td>67.0</td><td>84.0</td><td>71.0</td><td>71.0</td></tr><tr><th>7</th><td>EI</td><td>67.0</td><td>67.0</td><td>84.0</td><td>84.0</td><td>84.0</td><td>71.0</td><td>65.0</td><td>71.0</td></tr><tr><th>8</th><td>EI</td><td>67.0</td><td>67.0</td><td>67.0</td><td>84.0</td><td>67.0</td><td>71.0</td><td>84.0</td><td>71.0</td></tr><tr><th>9</th><td>EI</td><td>84.0</td><td>71.0</td><td>71.0</td><td>67.0</td><td>71.0</td><td>65.0</td><td>67.0</td><td>84.0</td></tr><tr><th>10</th><td>EI</td><td>65.0</td><td>65.0</td><td>71.0</td><td>67.0</td><td>84.0</td><td>71.0</td><td>65.0</td><td>67.0</td></tr><tr><th>11</th><td>EI</td><td>84.0</td><td>71.0</td><td>71.0</td><td>67.0</td><td>71.0</td><td>65.0</td><td>67.0</td><td>84.0</td></tr><tr><th>12</th><td>EI</td><td>65.0</td><td>65.0</td><td>71.0</td><td>67.0</td><td>84.0</td><td>71.0</td><td>65.0</td><td>71.0</td></tr><tr><th>13</th><td>EI</td><td>71.0</td><td>71.0</td><td>65.0</td><td>65.0</td><td>71.0</td><td>65.0</td><td>84.0</td><td>71.0</td></tr><tr><th>14</th><td>EI</td><td>65.0</td><td>65.0</td><td>71.0</td><td>67.0</td><td>84.0</td><td>71.0</td><td>67.0</td><td>65.0</td></tr><tr><th>15</th><td>EI</td><td>71.0</td><td>71.0</td><td>65.0</td><td>65.0</td><td>71.0</td><td>65.0</td><td>84.0</td><td>71.0</td></tr><tr><th>16</th><td>EI</td><td>65.0</td><td>65.0</td><td>71.0</td><td>67.0</td><td>84.0</td><td>71.0</td><td>67.0</td><td>65.0</td></tr><tr><th>17</th><td>EI</td><td>71.0</td><td>71.0</td><td>67.0</td><td>65.0</td><td>67.0</td><td>67.0</td><td>65.0</td><td>67.0</td></tr><tr><th>18</th><td>EI</td><td>84.0</td><td>84.0</td><td>71.0</td><td>67.0</td><td>84.0</td><td>67.0</td><td>84.0</td><td>71.0</td></tr><tr><th>19</th><td>EI</td><td>67.0</td><td>65.0</td><td>67.0</td><td>67.0</td><td>65.0</td><td>65.0</td><td>71.0</td><td>84.0</td></tr><tr><th>20</th><td>EI</td><td>65.0</td><td>67.0</td><td>65.0</td><td>71.0</td><td>65.0</td><td>71.0</td><td>71.0</td><td>65.0</td></tr><tr><th>21</th><td>EI</td><td>71.0</td><td>84.0</td><td>71.0</td><td>67.0</td><td>67.0</td><td>67.0</td><td>65.0</td><td>84.0</td></tr><tr><th>22</th><td>EI</td><td>67.0</td><td>65.0</td><td>67.0</td><td>71.0</td><td>65.0</td><td>84.0</td><td>67.0</td><td>84.0</td></tr><tr><th>23</th><td>EI</td><td>65.0</td><td>71.0</td><td>67.0</td><td>71.0</td><td>71.0</td><td>71.0</td><td>65.0</td><td>71.0</td></tr><tr><th>24</th><td>EI</td><td>65.0</td><td>84.0</td><td>71.0</td><td>65.0</td><td>71.0</td><td>65.0</td><td>65.0</td><td>71.0</td></tr><tr><th>25</th><td>EI</td><td>84.0</td><td>67.0</td><td>65.0</td><td>71.0</td><td>65.0</td><td>84.0</td><td>71.0</td><td>84.0</td></tr><tr><th>26</th><td>EI</td><td>71.0</td><td>65.0</td><td>84.0</td><td>67.0</td><td>67.0</td><td>71.0</td><td>67.0</td><td>67.0</td></tr><tr><th>27</th><td>EI</td><td>67.0</td><td>67.0</td><td>67.0</td><td>84.0</td><td>67.0</td><td>67.0</td><td>65.0</td><td>84.0</td></tr><tr><th>28</th><td>EI</td><td>67.0</td><td>67.0</td><td>67.0</td><td>65.0</td><td>65.0</td><td>71.0</td><td>71.0</td><td>67.0</td></tr><tr><th>29</th><td>EI</td><td>67.0</td><td>84.0</td><td>71.0</td><td>65.0</td><td>71.0</td><td>71.0</td><td>67.0</td><td>65.0</td></tr><tr><th>30</th><td>EI</td><td>71.0</td><td>67.0</td><td>67.0</td><td>67.0</td><td>84.0</td><td>71.0</td><td>71.0</td><td>67.0</td></tr><tr><th>&vellip;</th><td>&vellip;</td><td>&vellip;</td><td>&vellip;</td><td>&vellip;</td><td>&vellip;</td><td>&vellip;</td><td>&vellip;</td><td>&vellip;</td><td>&vellip;</td></tr></tbody></table>"
      ],
      "text/latex": [
       "\\begin{tabular}{r|cccccccccc}\n",
       "\t& Class & x1 & x2 & x3 & x4 & x5 & x6 & x7 & x8 & \\\\\n",
       "\t\\hline\n",
       "\t& String & Float64 & Float64 & Float64 & Float64 & Float64 & Float64 & Float64 & Float64 & \\\\\n",
       "\t\\hline\n",
       "\t1 & EI & 67.0 & 67.0 & 65.0 & 71.0 & 67.0 & 84.0 & 71.0 & 67.0 & $\\dots$ \\\\\n",
       "\t2 & EI & 65.0 & 71.0 & 65.0 & 67.0 & 67.0 & 67.0 & 71.0 & 67.0 & $\\dots$ \\\\\n",
       "\t3 & EI & 71.0 & 65.0 & 71.0 & 71.0 & 84.0 & 71.0 & 65.0 & 65.0 & $\\dots$ \\\\\n",
       "\t4 & EI & 71.0 & 71.0 & 71.0 & 67.0 & 84.0 & 71.0 & 67.0 & 71.0 & $\\dots$ \\\\\n",
       "\t5 & EI & 71.0 & 67.0 & 84.0 & 67.0 & 65.0 & 71.0 & 67.0 & 67.0 & $\\dots$ \\\\\n",
       "\t6 & EI & 67.0 & 65.0 & 71.0 & 65.0 & 67.0 & 84.0 & 71.0 & 71.0 & $\\dots$ \\\\\n",
       "\t7 & EI & 67.0 & 67.0 & 84.0 & 84.0 & 84.0 & 71.0 & 65.0 & 71.0 & $\\dots$ \\\\\n",
       "\t8 & EI & 67.0 & 67.0 & 67.0 & 84.0 & 67.0 & 71.0 & 84.0 & 71.0 & $\\dots$ \\\\\n",
       "\t9 & EI & 84.0 & 71.0 & 71.0 & 67.0 & 71.0 & 65.0 & 67.0 & 84.0 & $\\dots$ \\\\\n",
       "\t10 & EI & 65.0 & 65.0 & 71.0 & 67.0 & 84.0 & 71.0 & 65.0 & 67.0 & $\\dots$ \\\\\n",
       "\t11 & EI & 84.0 & 71.0 & 71.0 & 67.0 & 71.0 & 65.0 & 67.0 & 84.0 & $\\dots$ \\\\\n",
       "\t12 & EI & 65.0 & 65.0 & 71.0 & 67.0 & 84.0 & 71.0 & 65.0 & 71.0 & $\\dots$ \\\\\n",
       "\t13 & EI & 71.0 & 71.0 & 65.0 & 65.0 & 71.0 & 65.0 & 84.0 & 71.0 & $\\dots$ \\\\\n",
       "\t14 & EI & 65.0 & 65.0 & 71.0 & 67.0 & 84.0 & 71.0 & 67.0 & 65.0 & $\\dots$ \\\\\n",
       "\t15 & EI & 71.0 & 71.0 & 65.0 & 65.0 & 71.0 & 65.0 & 84.0 & 71.0 & $\\dots$ \\\\\n",
       "\t16 & EI & 65.0 & 65.0 & 71.0 & 67.0 & 84.0 & 71.0 & 67.0 & 65.0 & $\\dots$ \\\\\n",
       "\t17 & EI & 71.0 & 71.0 & 67.0 & 65.0 & 67.0 & 67.0 & 65.0 & 67.0 & $\\dots$ \\\\\n",
       "\t18 & EI & 84.0 & 84.0 & 71.0 & 67.0 & 84.0 & 67.0 & 84.0 & 71.0 & $\\dots$ \\\\\n",
       "\t19 & EI & 67.0 & 65.0 & 67.0 & 67.0 & 65.0 & 65.0 & 71.0 & 84.0 & $\\dots$ \\\\\n",
       "\t20 & EI & 65.0 & 67.0 & 65.0 & 71.0 & 65.0 & 71.0 & 71.0 & 65.0 & $\\dots$ \\\\\n",
       "\t21 & EI & 71.0 & 84.0 & 71.0 & 67.0 & 67.0 & 67.0 & 65.0 & 84.0 & $\\dots$ \\\\\n",
       "\t22 & EI & 67.0 & 65.0 & 67.0 & 71.0 & 65.0 & 84.0 & 67.0 & 84.0 & $\\dots$ \\\\\n",
       "\t23 & EI & 65.0 & 71.0 & 67.0 & 71.0 & 71.0 & 71.0 & 65.0 & 71.0 & $\\dots$ \\\\\n",
       "\t24 & EI & 65.0 & 84.0 & 71.0 & 65.0 & 71.0 & 65.0 & 65.0 & 71.0 & $\\dots$ \\\\\n",
       "\t25 & EI & 84.0 & 67.0 & 65.0 & 71.0 & 65.0 & 84.0 & 71.0 & 84.0 & $\\dots$ \\\\\n",
       "\t26 & EI & 71.0 & 65.0 & 84.0 & 67.0 & 67.0 & 71.0 & 67.0 & 67.0 & $\\dots$ \\\\\n",
       "\t27 & EI & 67.0 & 67.0 & 67.0 & 84.0 & 67.0 & 67.0 & 65.0 & 84.0 & $\\dots$ \\\\\n",
       "\t28 & EI & 67.0 & 67.0 & 67.0 & 65.0 & 65.0 & 71.0 & 71.0 & 67.0 & $\\dots$ \\\\\n",
       "\t29 & EI & 67.0 & 84.0 & 71.0 & 65.0 & 71.0 & 71.0 & 67.0 & 65.0 & $\\dots$ \\\\\n",
       "\t30 & EI & 71.0 & 67.0 & 67.0 & 67.0 & 84.0 & 71.0 & 71.0 & 67.0 & $\\dots$ \\\\\n",
       "\t$\\dots$ & $\\dots$ & $\\dots$ & $\\dots$ & $\\dots$ & $\\dots$ & $\\dots$ & $\\dots$ & $\\dots$ & $\\dots$ &  \\\\\n",
       "\\end{tabular}\n"
      ],
      "text/plain": [
       "3190×61 DataFrame. Omitted printing of 54 columns\n",
       "│ Row  │ Class  │ x1      │ x2      │ x3      │ x4      │ x5      │ x6      │\n",
       "│      │ \u001b[90mString\u001b[39m │ \u001b[90mFloat64\u001b[39m │ \u001b[90mFloat64\u001b[39m │ \u001b[90mFloat64\u001b[39m │ \u001b[90mFloat64\u001b[39m │ \u001b[90mFloat64\u001b[39m │ \u001b[90mFloat64\u001b[39m │\n",
       "├──────┼────────┼─────────┼─────────┼─────────┼─────────┼─────────┼─────────┤\n",
       "│ 1    │ EI     │ 67.0    │ 67.0    │ 65.0    │ 71.0    │ 67.0    │ 84.0    │\n",
       "│ 2    │ EI     │ 65.0    │ 71.0    │ 65.0    │ 67.0    │ 67.0    │ 67.0    │\n",
       "│ 3    │ EI     │ 71.0    │ 65.0    │ 71.0    │ 71.0    │ 84.0    │ 71.0    │\n",
       "│ 4    │ EI     │ 71.0    │ 71.0    │ 71.0    │ 67.0    │ 84.0    │ 71.0    │\n",
       "│ 5    │ EI     │ 71.0    │ 67.0    │ 84.0    │ 67.0    │ 65.0    │ 71.0    │\n",
       "│ 6    │ EI     │ 67.0    │ 65.0    │ 71.0    │ 65.0    │ 67.0    │ 84.0    │\n",
       "│ 7    │ EI     │ 67.0    │ 67.0    │ 84.0    │ 84.0    │ 84.0    │ 71.0    │\n",
       "│ 8    │ EI     │ 67.0    │ 67.0    │ 67.0    │ 84.0    │ 67.0    │ 71.0    │\n",
       "│ 9    │ EI     │ 84.0    │ 71.0    │ 71.0    │ 67.0    │ 71.0    │ 65.0    │\n",
       "│ 10   │ EI     │ 65.0    │ 65.0    │ 71.0    │ 67.0    │ 84.0    │ 71.0    │\n",
       "⋮\n",
       "│ 3180 │ N      │ 67.0    │ 67.0    │ 84.0    │ 67.0    │ 65.0    │ 71.0    │\n",
       "│ 3181 │ N      │ 67.0    │ 67.0    │ 84.0    │ 71.0    │ 67.0    │ 67.0    │\n",
       "│ 3182 │ N      │ 67.0    │ 84.0    │ 71.0    │ 71.0    │ 65.0    │ 65.0    │\n",
       "│ 3183 │ N      │ 84.0    │ 71.0    │ 84.0    │ 84.0    │ 84.0    │ 67.0    │\n",
       "│ 3184 │ N      │ 84.0    │ 65.0    │ 65.0    │ 65.0    │ 65.0    │ 65.0    │\n",
       "│ 3185 │ N      │ 65.0    │ 84.0    │ 67.0    │ 65.0    │ 65.0    │ 84.0    │\n",
       "│ 3186 │ N      │ 84.0    │ 67.0    │ 84.0    │ 67.0    │ 84.0    │ 84.0    │\n",
       "│ 3187 │ N      │ 71.0    │ 65.0    │ 71.0    │ 67.0    │ 84.0    │ 67.0    │\n",
       "│ 3188 │ N      │ 84.0    │ 67.0    │ 84.0    │ 67.0    │ 71.0    │ 71.0    │\n",
       "│ 3189 │ N      │ 65.0    │ 84.0    │ 84.0    │ 67.0    │ 84.0    │ 65.0    │\n",
       "│ 3190 │ N      │ 65.0    │ 71.0    │ 71.0    │ 67.0    │ 84.0    │ 71.0    │"
      ]
     },
     "execution_count": 6,
     "metadata": {},
     "output_type": "execute_result"
    }
   ],
   "source": [
    "data = data[:, Not(2:3)]"
   ]
  },
  {
   "cell_type": "markdown",
   "metadata": {},
   "source": [
    "Look at class labels to see if dataset is imbalanced"
   ]
  },
  {
   "cell_type": "code",
   "execution_count": 7,
   "metadata": {},
   "outputs": [
    {
     "data": {
      "text/plain": [
       "Dict{String,Int64} with 3 entries:\n",
       "  \"IE\" => 768\n",
       "  \"EI\" => 767\n",
       "  \"N\"  => 1655"
      ]
     },
     "execution_count": 7,
     "metadata": {},
     "output_type": "execute_result"
    }
   ],
   "source": [
    "label_counts = countmap(data[:(Class)])"
   ]
  },
  {
   "cell_type": "code",
   "execution_count": 8,
   "metadata": {},
   "outputs": [
    {
     "data": {
      "text/plain": [
       "3-element Array{Float64,1}:\n",
       " 0.24075235109717869\n",
       " 0.24043887147335424\n",
       " 0.5188087774294671"
      ]
     },
     "execution_count": 8,
     "metadata": {},
     "output_type": "execute_result"
    }
   ],
   "source": [
    "collect(label_counts[i] / size(data)[1] for i in keys(label_counts))"
   ]
  },
  {
   "cell_type": "markdown",
   "metadata": {},
   "source": [
    "Get data ready for training"
   ]
  },
  {
   "cell_type": "code",
   "execution_count": 9,
   "metadata": {},
   "outputs": [
    {
     "data": {
      "text/plain": [
       "┌\u001b[0m─────────\u001b[0m┬\u001b[0m─────────────────────────────────\u001b[0m┬\u001b[0m───────────────\u001b[0m┐\u001b[0m\n",
       "│\u001b[0m\u001b[22m _.names \u001b[0m│\u001b[0m\u001b[22m _.types                         \u001b[0m│\u001b[0m\u001b[22m _.scitypes    \u001b[0m│\u001b[0m\n",
       "├\u001b[0m─────────\u001b[0m┼\u001b[0m─────────────────────────────────\u001b[0m┼\u001b[0m───────────────\u001b[0m┤\u001b[0m\n",
       "│\u001b[0m Class   \u001b[0m│\u001b[0m CategoricalValue{String,UInt32} \u001b[0m│\u001b[0m Multiclass{3} \u001b[0m│\u001b[0m\n",
       "│\u001b[0m x1      \u001b[0m│\u001b[0m Float64                         \u001b[0m│\u001b[0m Continuous    \u001b[0m│\u001b[0m\n",
       "│\u001b[0m x2      \u001b[0m│\u001b[0m Float64                         \u001b[0m│\u001b[0m Continuous    \u001b[0m│\u001b[0m\n",
       "│\u001b[0m x3      \u001b[0m│\u001b[0m Float64                         \u001b[0m│\u001b[0m Continuous    \u001b[0m│\u001b[0m\n",
       "│\u001b[0m x4      \u001b[0m│\u001b[0m Float64                         \u001b[0m│\u001b[0m Continuous    \u001b[0m│\u001b[0m\n",
       "│\u001b[0m x5      \u001b[0m│\u001b[0m Float64                         \u001b[0m│\u001b[0m Continuous    \u001b[0m│\u001b[0m\n",
       "│\u001b[0m x6      \u001b[0m│\u001b[0m Float64                         \u001b[0m│\u001b[0m Continuous    \u001b[0m│\u001b[0m\n",
       "│\u001b[0m x7      \u001b[0m│\u001b[0m Float64                         \u001b[0m│\u001b[0m Continuous    \u001b[0m│\u001b[0m\n",
       "│\u001b[0m x8      \u001b[0m│\u001b[0m Float64                         \u001b[0m│\u001b[0m Continuous    \u001b[0m│\u001b[0m\n",
       "│\u001b[0m x9      \u001b[0m│\u001b[0m Float64                         \u001b[0m│\u001b[0m Continuous    \u001b[0m│\u001b[0m\n",
       "│\u001b[0m x10     \u001b[0m│\u001b[0m Float64                         \u001b[0m│\u001b[0m Continuous    \u001b[0m│\u001b[0m\n",
       "│\u001b[0m x11     \u001b[0m│\u001b[0m Float64                         \u001b[0m│\u001b[0m Continuous    \u001b[0m│\u001b[0m\n",
       "│\u001b[0m x12     \u001b[0m│\u001b[0m Float64                         \u001b[0m│\u001b[0m Continuous    \u001b[0m│\u001b[0m\n",
       "│\u001b[0m x13     \u001b[0m│\u001b[0m Float64                         \u001b[0m│\u001b[0m Continuous    \u001b[0m│\u001b[0m\n",
       "│\u001b[0m x14     \u001b[0m│\u001b[0m Float64                         \u001b[0m│\u001b[0m Continuous    \u001b[0m│\u001b[0m\n",
       "│\u001b[0m x15     \u001b[0m│\u001b[0m Float64                         \u001b[0m│\u001b[0m Continuous    \u001b[0m│\u001b[0m\n",
       "│\u001b[0m x16     \u001b[0m│\u001b[0m Float64                         \u001b[0m│\u001b[0m Continuous    \u001b[0m│\u001b[0m\n",
       "│\u001b[0m x17     \u001b[0m│\u001b[0m Float64                         \u001b[0m│\u001b[0m Continuous    \u001b[0m│\u001b[0m\n",
       "│\u001b[0m x18     \u001b[0m│\u001b[0m Float64                         \u001b[0m│\u001b[0m Continuous    \u001b[0m│\u001b[0m\n",
       "│\u001b[0m x19     \u001b[0m│\u001b[0m Float64                         \u001b[0m│\u001b[0m Continuous    \u001b[0m│\u001b[0m\n",
       "│\u001b[0m x20     \u001b[0m│\u001b[0m Float64                         \u001b[0m│\u001b[0m Continuous    \u001b[0m│\u001b[0m\n",
       "│\u001b[0m x21     \u001b[0m│\u001b[0m Float64                         \u001b[0m│\u001b[0m Continuous    \u001b[0m│\u001b[0m\n",
       "│\u001b[0m x22     \u001b[0m│\u001b[0m Float64                         \u001b[0m│\u001b[0m Continuous    \u001b[0m│\u001b[0m\n",
       "│\u001b[0m x23     \u001b[0m│\u001b[0m Float64                         \u001b[0m│\u001b[0m Continuous    \u001b[0m│\u001b[0m\n",
       "│\u001b[0m x24     \u001b[0m│\u001b[0m Float64                         \u001b[0m│\u001b[0m Continuous    \u001b[0m│\u001b[0m\n",
       "│\u001b[0m x25     \u001b[0m│\u001b[0m Float64                         \u001b[0m│\u001b[0m Continuous    \u001b[0m│\u001b[0m\n",
       "│\u001b[0m x26     \u001b[0m│\u001b[0m Float64                         \u001b[0m│\u001b[0m Continuous    \u001b[0m│\u001b[0m\n",
       "│\u001b[0m x27     \u001b[0m│\u001b[0m Float64                         \u001b[0m│\u001b[0m Continuous    \u001b[0m│\u001b[0m\n",
       "│\u001b[0m x28     \u001b[0m│\u001b[0m Float64                         \u001b[0m│\u001b[0m Continuous    \u001b[0m│\u001b[0m\n",
       "│\u001b[0m x29     \u001b[0m│\u001b[0m Float64                         \u001b[0m│\u001b[0m Continuous    \u001b[0m│\u001b[0m\n",
       "│\u001b[0m x30     \u001b[0m│\u001b[0m Float64                         \u001b[0m│\u001b[0m Continuous    \u001b[0m│\u001b[0m\n",
       "│\u001b[0m x31     \u001b[0m│\u001b[0m Float64                         \u001b[0m│\u001b[0m Continuous    \u001b[0m│\u001b[0m\n",
       "│\u001b[0m x32     \u001b[0m│\u001b[0m Float64                         \u001b[0m│\u001b[0m Continuous    \u001b[0m│\u001b[0m\n",
       "│\u001b[0m x33     \u001b[0m│\u001b[0m Float64                         \u001b[0m│\u001b[0m Continuous    \u001b[0m│\u001b[0m\n",
       "│\u001b[0m x34     \u001b[0m│\u001b[0m Float64                         \u001b[0m│\u001b[0m Continuous    \u001b[0m│\u001b[0m\n",
       "│\u001b[0m x35     \u001b[0m│\u001b[0m Float64                         \u001b[0m│\u001b[0m Continuous    \u001b[0m│\u001b[0m\n",
       "│\u001b[0m x36     \u001b[0m│\u001b[0m Float64                         \u001b[0m│\u001b[0m Continuous    \u001b[0m│\u001b[0m\n",
       "│\u001b[0m x37     \u001b[0m│\u001b[0m Float64                         \u001b[0m│\u001b[0m Continuous    \u001b[0m│\u001b[0m\n",
       "│\u001b[0m x38     \u001b[0m│\u001b[0m Float64                         \u001b[0m│\u001b[0m Continuous    \u001b[0m│\u001b[0m\n",
       "│\u001b[0m x39     \u001b[0m│\u001b[0m Float64                         \u001b[0m│\u001b[0m Continuous    \u001b[0m│\u001b[0m\n",
       "│\u001b[0m x40     \u001b[0m│\u001b[0m Float64                         \u001b[0m│\u001b[0m Continuous    \u001b[0m│\u001b[0m\n",
       "│\u001b[0m x41     \u001b[0m│\u001b[0m Float64                         \u001b[0m│\u001b[0m Continuous    \u001b[0m│\u001b[0m\n",
       "│\u001b[0m x42     \u001b[0m│\u001b[0m Float64                         \u001b[0m│\u001b[0m Continuous    \u001b[0m│\u001b[0m\n",
       "│\u001b[0m x43     \u001b[0m│\u001b[0m Float64                         \u001b[0m│\u001b[0m Continuous    \u001b[0m│\u001b[0m\n",
       "│\u001b[0m x44     \u001b[0m│\u001b[0m Float64                         \u001b[0m│\u001b[0m Continuous    \u001b[0m│\u001b[0m\n",
       "│\u001b[0m x45     \u001b[0m│\u001b[0m Float64                         \u001b[0m│\u001b[0m Continuous    \u001b[0m│\u001b[0m\n",
       "│\u001b[0m x46     \u001b[0m│\u001b[0m Float64                         \u001b[0m│\u001b[0m Continuous    \u001b[0m│\u001b[0m\n",
       "│\u001b[0m x47     \u001b[0m│\u001b[0m Float64                         \u001b[0m│\u001b[0m Continuous    \u001b[0m│\u001b[0m\n",
       "│\u001b[0m x48     \u001b[0m│\u001b[0m Float64                         \u001b[0m│\u001b[0m Continuous    \u001b[0m│\u001b[0m\n",
       "│\u001b[0m x49     \u001b[0m│\u001b[0m Float64                         \u001b[0m│\u001b[0m Continuous    \u001b[0m│\u001b[0m\n",
       "│\u001b[0m x50     \u001b[0m│\u001b[0m Float64                         \u001b[0m│\u001b[0m Continuous    \u001b[0m│\u001b[0m\n",
       "│\u001b[0m x51     \u001b[0m│\u001b[0m Float64                         \u001b[0m│\u001b[0m Continuous    \u001b[0m│\u001b[0m\n",
       "│\u001b[0m x52     \u001b[0m│\u001b[0m Float64                         \u001b[0m│\u001b[0m Continuous    \u001b[0m│\u001b[0m\n",
       "│\u001b[0m x53     \u001b[0m│\u001b[0m Float64                         \u001b[0m│\u001b[0m Continuous    \u001b[0m│\u001b[0m\n",
       "│\u001b[0m x54     \u001b[0m│\u001b[0m Float64                         \u001b[0m│\u001b[0m Continuous    \u001b[0m│\u001b[0m\n",
       "│\u001b[0m x55     \u001b[0m│\u001b[0m Float64                         \u001b[0m│\u001b[0m Continuous    \u001b[0m│\u001b[0m\n",
       "│\u001b[0m x56     \u001b[0m│\u001b[0m Float64                         \u001b[0m│\u001b[0m Continuous    \u001b[0m│\u001b[0m\n",
       "│\u001b[0m x57     \u001b[0m│\u001b[0m Float64                         \u001b[0m│\u001b[0m Continuous    \u001b[0m│\u001b[0m\n",
       "│\u001b[0m x58     \u001b[0m│\u001b[0m Float64                         \u001b[0m│\u001b[0m Continuous    \u001b[0m│\u001b[0m\n",
       "│\u001b[0m x59     \u001b[0m│\u001b[0m Float64                         \u001b[0m│\u001b[0m Continuous    \u001b[0m│\u001b[0m\n",
       "│\u001b[0m x60     \u001b[0m│\u001b[0m Float64                         \u001b[0m│\u001b[0m Continuous    \u001b[0m│\u001b[0m\n",
       "└\u001b[0m─────────\u001b[0m┴\u001b[0m─────────────────────────────────\u001b[0m┴\u001b[0m───────────────\u001b[0m┘\u001b[0m\n",
       "_.nrows = 3190\n"
      ]
     },
     "execution_count": 9,
     "metadata": {},
     "output_type": "execute_result"
    }
   ],
   "source": [
    "coerce!(data, :Class=>Multiclass)\n",
    "schema(data)"
   ]
  },
  {
   "cell_type": "code",
   "execution_count": 10,
   "metadata": {
    "scrolled": false
   },
   "outputs": [
    {
     "data": {
      "text/plain": [
       "(CategoricalValue{String,UInt32}[\"EI\", \"EI\", \"EI\", \"EI\", \"EI\", \"EI\", \"EI\", \"EI\", \"EI\", \"EI\"  …  \"N\", \"N\", \"N\", \"N\", \"N\", \"N\", \"N\", \"N\", \"N\", \"N\"], 3190×60 DataFrame. Omitted printing of 53 columns\n",
       "│ Row  │ x1      │ x2      │ x3      │ x4      │ x5      │ x6      │ x7      │\n",
       "│      │ \u001b[90mFloat64\u001b[39m │ \u001b[90mFloat64\u001b[39m │ \u001b[90mFloat64\u001b[39m │ \u001b[90mFloat64\u001b[39m │ \u001b[90mFloat64\u001b[39m │ \u001b[90mFloat64\u001b[39m │ \u001b[90mFloat64\u001b[39m │\n",
       "├──────┼─────────┼─────────┼─────────┼─────────┼─────────┼─────────┼─────────┤\n",
       "│ 1    │ 67.0    │ 67.0    │ 65.0    │ 71.0    │ 67.0    │ 84.0    │ 71.0    │\n",
       "│ 2    │ 65.0    │ 71.0    │ 65.0    │ 67.0    │ 67.0    │ 67.0    │ 71.0    │\n",
       "│ 3    │ 71.0    │ 65.0    │ 71.0    │ 71.0    │ 84.0    │ 71.0    │ 65.0    │\n",
       "│ 4    │ 71.0    │ 71.0    │ 71.0    │ 67.0    │ 84.0    │ 71.0    │ 67.0    │\n",
       "│ 5    │ 71.0    │ 67.0    │ 84.0    │ 67.0    │ 65.0    │ 71.0    │ 67.0    │\n",
       "│ 6    │ 67.0    │ 65.0    │ 71.0    │ 65.0    │ 67.0    │ 84.0    │ 71.0    │\n",
       "│ 7    │ 67.0    │ 67.0    │ 84.0    │ 84.0    │ 84.0    │ 71.0    │ 65.0    │\n",
       "│ 8    │ 67.0    │ 67.0    │ 67.0    │ 84.0    │ 67.0    │ 71.0    │ 84.0    │\n",
       "│ 9    │ 84.0    │ 71.0    │ 71.0    │ 67.0    │ 71.0    │ 65.0    │ 67.0    │\n",
       "│ 10   │ 65.0    │ 65.0    │ 71.0    │ 67.0    │ 84.0    │ 71.0    │ 65.0    │\n",
       "⋮\n",
       "│ 3180 │ 67.0    │ 67.0    │ 84.0    │ 67.0    │ 65.0    │ 71.0    │ 84.0    │\n",
       "│ 3181 │ 67.0    │ 67.0    │ 84.0    │ 71.0    │ 67.0    │ 67.0    │ 71.0    │\n",
       "│ 3182 │ 67.0    │ 84.0    │ 71.0    │ 71.0    │ 65.0    │ 65.0    │ 71.0    │\n",
       "│ 3183 │ 84.0    │ 71.0    │ 84.0    │ 84.0    │ 84.0    │ 67.0    │ 84.0    │\n",
       "│ 3184 │ 84.0    │ 65.0    │ 65.0    │ 65.0    │ 65.0    │ 65.0    │ 65.0    │\n",
       "│ 3185 │ 65.0    │ 84.0    │ 67.0    │ 65.0    │ 65.0    │ 84.0    │ 65.0    │\n",
       "│ 3186 │ 84.0    │ 67.0    │ 84.0    │ 67.0    │ 84.0    │ 84.0    │ 67.0    │\n",
       "│ 3187 │ 71.0    │ 65.0    │ 71.0    │ 67.0    │ 84.0    │ 67.0    │ 67.0    │\n",
       "│ 3188 │ 84.0    │ 67.0    │ 84.0    │ 67.0    │ 71.0    │ 71.0    │ 71.0    │\n",
       "│ 3189 │ 65.0    │ 84.0    │ 84.0    │ 67.0    │ 84.0    │ 65.0    │ 67.0    │\n",
       "│ 3190 │ 65.0    │ 71.0    │ 71.0    │ 67.0    │ 84.0    │ 71.0    │ 67.0    │)"
      ]
     },
     "execution_count": 10,
     "metadata": {},
     "output_type": "execute_result"
    }
   ],
   "source": [
    "y, X = unpack(data, ==(:Class), colname->true)"
   ]
  },
  {
   "cell_type": "markdown",
   "metadata": {},
   "source": [
    "Partition train and test data accoring to class labels"
   ]
  },
  {
   "cell_type": "code",
   "execution_count": 11,
   "metadata": {},
   "outputs": [
    {
     "data": {
      "text/plain": [
       "([1538, 582, 137, 1511, 1964, 2204, 2888, 2375, 2864, 1387  …  656, 625, 283, 1076, 2074, 743, 3177, 530, 592, 2916], [898, 2807, 2307, 2787, 1648, 1390, 3044, 2312, 586, 1612  …  2993, 729, 3006, 958, 2551, 1687, 2792, 2185, 1273, 1616])"
      ]
     },
     "execution_count": 11,
     "metadata": {},
     "output_type": "execute_result"
    }
   ],
   "source": [
    "# data to use when trying to fit a single validation set\n",
    "train, test = partition(eachindex(y), 0.8, shuffle=true, rng=113, stratify=values(data[:Class])) # gives 70:30 split"
   ]
  },
  {
   "cell_type": "code",
   "execution_count": 12,
   "metadata": {},
   "outputs": [
    {
     "data": {
      "text/plain": [
       "3-element Array{Float64,1}:\n",
       " 0.24059561128526646\n",
       " 0.5188087774294671\n",
       " 0.24059561128526646"
      ]
     },
     "execution_count": 12,
     "metadata": {},
     "output_type": "execute_result"
    }
   ],
   "source": [
    "train_counts = countmap(data[train,:Class])\n",
    "collect(train_counts[i] / size(train)[1] for i in keys(train_counts))"
   ]
  },
  {
   "cell_type": "code",
   "execution_count": 13,
   "metadata": {},
   "outputs": [
    {
     "data": {
      "text/plain": [
       "3-element Array{Float64,1}:\n",
       " 0.2413793103448276\n",
       " 0.5188087774294671\n",
       " 0.23981191222570533"
      ]
     },
     "execution_count": 13,
     "metadata": {},
     "output_type": "execute_result"
    }
   ],
   "source": [
    "test_counts = countmap(data[test,:Class])\n",
    "collect(test_counts[i] / size(test)[1] for i in keys(test_counts))"
   ]
  },
  {
   "cell_type": "markdown",
   "metadata": {},
   "source": [
    "# Five Learning Algorithms\n",
    "\n",
    "* Decision trees with some form of pruning\n",
    "* Neural networks\n",
    "* Boosting\n",
    "* Support Vector Machines\n",
    "* k-nearest neighbors\n",
    "\n",
    "\n",
    "##### Testing\n",
    "* Implement the algorithms\n",
    "* Design two *interesting* classification problems. For the purposes of this assignment, a classification problem is just a set of training examples and a set of test examples."
   ]
  },
  {
   "cell_type": "code",
   "execution_count": 14,
   "metadata": {
    "scrolled": true
   },
   "outputs": [
    {
     "data": {
      "text/plain": [
       "42-element Array{NamedTuple{(:name, :package_name, :is_supervised, :docstring, :hyperparameter_ranges, :hyperparameter_types, :hyperparameters, :implemented_methods, :is_pure_julia, :is_wrapper, :load_path, :package_license, :package_url, :package_uuid, :prediction_type, :supports_online, :supports_weights, :input_scitype, :target_scitype, :output_scitype),T} where T<:Tuple,1}:\n",
       " (name = AdaBoostClassifier, package_name = ScikitLearn, ... )\n",
       " (name = AdaBoostStumpClassifier, package_name = DecisionTree, ... )\n",
       " (name = BaggingClassifier, package_name = ScikitLearn, ... )\n",
       " (name = BayesianLDA, package_name = MultivariateStats, ... )\n",
       " (name = BayesianLDA, package_name = ScikitLearn, ... )\n",
       " (name = BayesianQDA, package_name = ScikitLearn, ... )\n",
       " (name = BayesianSubspaceLDA, package_name = MultivariateStats, ... )\n",
       " (name = ConstantClassifier, package_name = MLJModels, ... )\n",
       " (name = DecisionTreeClassifier, package_name = DecisionTree, ... )\n",
       " (name = DeterministicConstantClassifier, package_name = MLJModels, ... )\n",
       " (name = DummyClassifier, package_name = ScikitLearn, ... )\n",
       " (name = EvoTreeClassifier, package_name = EvoTrees, ... )\n",
       " (name = ExtraTreesClassifier, package_name = ScikitLearn, ... )\n",
       " ⋮\n",
       " (name = ProbabilisticSGDClassifier, package_name = ScikitLearn, ... )\n",
       " (name = RandomForestClassifier, package_name = DecisionTree, ... )\n",
       " (name = RandomForestClassifier, package_name = ScikitLearn, ... )\n",
       " (name = RidgeCVClassifier, package_name = ScikitLearn, ... )\n",
       " (name = RidgeClassifier, package_name = ScikitLearn, ... )\n",
       " (name = SGDClassifier, package_name = ScikitLearn, ... )\n",
       " (name = SVC, package_name = LIBSVM, ... )\n",
       " (name = SVMClassifier, package_name = ScikitLearn, ... )\n",
       " (name = SVMLinearClassifier, package_name = ScikitLearn, ... )\n",
       " (name = SVMNuClassifier, package_name = ScikitLearn, ... )\n",
       " (name = SubspaceLDA, package_name = MultivariateStats, ... )\n",
       " (name = XGBoostClassifier, package_name = XGBoost, ... )"
      ]
     },
     "execution_count": 14,
     "metadata": {},
     "output_type": "execute_result"
    }
   ],
   "source": [
    "models(matching(X,y))"
   ]
  },
  {
   "cell_type": "code",
   "execution_count": 15,
   "metadata": {},
   "outputs": [
    {
     "name": "stdout",
     "output_type": "stream",
     "text": [
      "import MLJScikitLearnInterface "
     ]
    },
    {
     "name": "stderr",
     "output_type": "stream",
     "text": [
      "┌ Info: Loading into module \"Main\": \n",
      "└ @ MLJModels /home/andrew/.julia/packages/MLJModels/mUBFt/src/loading.jl:70\n",
      "┌ Info: Precompiling MLJScikitLearnInterface [5ae90465-5518-4432-b9d2-8a1def2f0cab]\n",
      "└ @ Base loading.jl:1278\n"
     ]
    },
    {
     "name": "stdout",
     "output_type": "stream",
     "text": [
      "✔\n",
      "import MLJScikitLearnInterface ✔\n"
     ]
    },
    {
     "data": {
      "text/plain": [
       "AdaBoostClassifier(\n",
       "    base_estimator = nothing,\n",
       "    n_estimators = 50,\n",
       "    learning_rate = 1.0,\n",
       "    algorithm = \"SAMME.R\",\n",
       "    random_state = nothing)\u001b[34m @701\u001b[39m"
      ]
     },
     "execution_count": 15,
     "metadata": {},
     "output_type": "execute_result"
    }
   ],
   "source": [
    "@load AdaBoostClassifier verbosity=2"
   ]
  },
  {
   "cell_type": "markdown",
   "metadata": {},
   "source": [
    "### Boosting\n",
    "* Implement or steal a boosted version of your decision trees. \n",
    "* As before, you will want to use some form of pruning, but presumably because you're using boosting you can afford to be much more aggressive about your pruning.\n",
    "\n",
    "**Chooses the hardest examples** talk about in write-up"
   ]
  },
  {
   "cell_type": "code",
   "execution_count": 16,
   "metadata": {},
   "outputs": [
    {
     "data": {
      "text/plain": [
       "AdaBoostClassifier(\n",
       "    base_estimator = nothing,\n",
       "    n_estimators = 50,\n",
       "    learning_rate = 1.0,\n",
       "    algorithm = \"SAMME.R\",\n",
       "    random_state = nothing)\u001b[34m @465\u001b[39m"
      ]
     },
     "execution_count": 16,
     "metadata": {},
     "output_type": "execute_result"
    }
   ],
   "source": [
    "boost_model = AdaBoostClassifier()"
   ]
  },
  {
   "cell_type": "code",
   "execution_count": 17,
   "metadata": {},
   "outputs": [
    {
     "data": {
      "text/plain": [
       "\u001b[34mMachine{AdaBoostClassifier} @966\u001b[39m trained 0 times.\n",
       "  args: \n",
       "    1:\t\u001b[34mSource @555\u001b[39m ⏎ `Table{AbstractArray{Continuous,1}}`\n",
       "    2:\t\u001b[34mSource @268\u001b[39m ⏎ `AbstractArray{Multiclass{3},1}`\n"
      ]
     },
     "execution_count": 17,
     "metadata": {},
     "output_type": "execute_result"
    }
   ],
   "source": [
    "boost_mach = machine(boost_model, X, y)"
   ]
  },
  {
   "cell_type": "code",
   "execution_count": 18,
   "metadata": {},
   "outputs": [
    {
     "name": "stderr",
     "output_type": "stream",
     "text": [
      "┌ Info: Training \u001b[34mMachine{AdaBoostClassifier} @966\u001b[39m.\n",
      "└ @ MLJBase /home/andrew/.julia/packages/MLJBase/uKzAz/src/machines.jl:319\n"
     ]
    },
    {
     "data": {
      "text/plain": [
       "\u001b[34mMachine{AdaBoostClassifier} @966\u001b[39m trained 1 time.\n",
       "  args: \n",
       "    1:\t\u001b[34mSource @555\u001b[39m ⏎ `Table{AbstractArray{Continuous,1}}`\n",
       "    2:\t\u001b[34mSource @268\u001b[39m ⏎ `AbstractArray{Multiclass{3},1}`\n"
      ]
     },
     "execution_count": 18,
     "metadata": {},
     "output_type": "execute_result"
    }
   ],
   "source": [
    "fit!(boost_mach, rows=train, verbosity=2)"
   ]
  },
  {
   "cell_type": "code",
   "execution_count": 19,
   "metadata": {
    "scrolled": true
   },
   "outputs": [
    {
     "name": "stderr",
     "output_type": "stream",
     "text": [
      "\u001b[33mEvaluating over 6 folds: 100%[=========================] Time: 0:00:05\u001b[39m\n"
     ]
    },
    {
     "data": {
      "text/plain": [
       "┌\u001b[0m───────────────\u001b[0m┬\u001b[0m───────────────\u001b[0m┬\u001b[0m───────────────────────────────────────────\u001b[0m┐\u001b[0m\n",
       "│\u001b[0m\u001b[22m _.measure     \u001b[0m│\u001b[0m\u001b[22m _.measurement \u001b[0m│\u001b[0m\u001b[22m _.per_fold                                \u001b[0m│\u001b[0m\n",
       "├\u001b[0m───────────────\u001b[0m┼\u001b[0m───────────────\u001b[0m┼\u001b[0m───────────────────────────────────────────\u001b[0m┤\u001b[0m\n",
       "│\u001b[0m cross_entropy \u001b[0m│\u001b[0m 0.883         \u001b[0m│\u001b[0m [0.816, 0.86, 0.905, 0.903, 0.911, 0.899] \u001b[0m│\u001b[0m\n",
       "│\u001b[0m acc           \u001b[0m│\u001b[0m 0.937         \u001b[0m│\u001b[0m [0.934, 0.93, 0.942, 0.936, 0.938, 0.944] \u001b[0m│\u001b[0m\n",
       "└\u001b[0m───────────────\u001b[0m┴\u001b[0m───────────────\u001b[0m┴\u001b[0m───────────────────────────────────────────\u001b[0m┘\u001b[0m\n",
       "_.per_observation = [[[0.681, 0.876, ..., 0.643], [0.721, 0.768, ..., 0.76], [0.886, 0.867, ..., 0.995], [0.983, 1.03, ..., 0.94], [1.06, 0.992, ..., 0.959], [0.996, 0.931, ..., 1.12]], missing]\n",
       "_.fitted_params_per_fold = [ … ]\n",
       "_.report_per_fold = [ … ]\n"
      ]
     },
     "execution_count": 19,
     "metadata": {},
     "output_type": "execute_result"
    }
   ],
   "source": [
    "boost_acc = evaluate!(boost_mach, resampling=CV(shuffle=true), measure=[cross_entropy, acc], \n",
    "                      verbosity=1, check_measure=false)"
   ]
  },
  {
   "cell_type": "code",
   "execution_count": 20,
   "metadata": {},
   "outputs": [],
   "source": [
    "# evaluate!(boost_mach, resampling=CV(shuffle=true), measure=[tnr,tpr,fnr,fpr], verbosity=1, operation=predict_mode)"
   ]
  },
  {
   "cell_type": "code",
   "execution_count": 21,
   "metadata": {},
   "outputs": [],
   "source": [
    "fitted_params(boost_mach);"
   ]
  },
  {
   "cell_type": "markdown",
   "metadata": {},
   "source": [
    "### GridSearch \n",
    "number of estimators vs learning rate"
   ]
  },
  {
   "cell_type": "code",
   "execution_count": 22,
   "metadata": {},
   "outputs": [
    {
     "data": {
      "text/plain": [
       "MLJBase.NumericRange(Int64, :n_estimators, ... )"
      ]
     },
     "execution_count": 22,
     "metadata": {},
     "output_type": "execute_result"
    }
   ],
   "source": [
    "param1 = :learning_rate\n",
    "param2 = :n_estimators\n",
    "\n",
    "r1 = range(boost_model, param1, lower=0.001, upper=10, scale=:log10)\n",
    "r2 = range(boost_model, param2, lower=1, upper=1000, scale=:log10)"
   ]
  },
  {
   "cell_type": "code",
   "execution_count": 23,
   "metadata": {},
   "outputs": [
    {
     "data": {
      "text/plain": [
       "ProbabilisticTunedModel(\n",
       "    model = AdaBoostClassifier(\n",
       "            base_estimator = nothing,\n",
       "            n_estimators = 50,\n",
       "            learning_rate = 1.0,\n",
       "            algorithm = \"SAMME.R\",\n",
       "            random_state = nothing),\n",
       "    tuning = Grid(\n",
       "            goal = nothing,\n",
       "            resolution = 10,\n",
       "            shuffle = true,\n",
       "            rng = Random._GLOBAL_RNG()),\n",
       "    resampling = CV(\n",
       "            nfolds = 6,\n",
       "            shuffle = false,\n",
       "            rng = Random._GLOBAL_RNG()),\n",
       "    measure = cross_entropy(\n",
       "            eps = 2.220446049250313e-16),\n",
       "    weights = nothing,\n",
       "    operation = MLJModelInterface.predict,\n",
       "    range = MLJBase.NumericRange{T,MLJBase.Bounded,Symbol} where T[\u001b[34mNumericRange{Float64,…} @987\u001b[39m, \u001b[34mNumericRange{Int64,…} @308\u001b[39m],\n",
       "    train_best = true,\n",
       "    repeats = 1,\n",
       "    n = nothing,\n",
       "    acceleration = CPUThreads{Int64}(1),\n",
       "    acceleration_resampling = CPU1{Nothing}(nothing),\n",
       "    check_measure = true)\u001b[34m @015\u001b[39m"
      ]
     },
     "execution_count": 23,
     "metadata": {},
     "output_type": "execute_result"
    }
   ],
   "source": [
    "self_tuning_boost_model = TunedModel(model=boost_model,\n",
    "                                    tuning=Grid(),\n",
    "                                    resampling=CV(), \n",
    "                                    measure=cross_entropy,\n",
    "                                    acceleration=CPUThreads(),\n",
    "                                    range=[r1, r2])"
   ]
  },
  {
   "cell_type": "code",
   "execution_count": 24,
   "metadata": {},
   "outputs": [
    {
     "data": {
      "text/plain": [
       "\u001b[34mMachine{ProbabilisticTunedModel{Grid,…}} @471\u001b[39m trained 0 times.\n",
       "  args: \n",
       "    1:\t\u001b[34mSource @806\u001b[39m ⏎ `Table{AbstractArray{Continuous,1}}`\n",
       "    2:\t\u001b[34mSource @918\u001b[39m ⏎ `AbstractArray{Multiclass{3},1}`\n"
      ]
     },
     "execution_count": 24,
     "metadata": {},
     "output_type": "execute_result"
    }
   ],
   "source": [
    "self_tuning_boost = machine(self_tuning_boost_model, X, y)"
   ]
  },
  {
   "cell_type": "code",
   "execution_count": 25,
   "metadata": {},
   "outputs": [
    {
     "name": "stderr",
     "output_type": "stream",
     "text": [
      "┌ Info: Training \u001b[34mMachine{ProbabilisticTunedModel{Grid,…}} @471\u001b[39m.\n",
      "└ @ MLJBase /home/andrew/.julia/packages/MLJBase/uKzAz/src/machines.jl:319\n",
      "┌ Info: Attempting to evaluate 100 models.\n",
      "└ @ MLJTuning /home/andrew/.julia/packages/MLJTuning/Bbgvk/src/tuned_models.jl:494\n",
      "\u001b[33mEvaluating over 100 metamodels: 100%[=========================] Time: 0:05:52\u001b[39m\n"
     ]
    },
    {
     "data": {
      "text/plain": [
       "\u001b[34mMachine{ProbabilisticTunedModel{Grid,…}} @471\u001b[39m trained 1 time.\n",
       "  args: \n",
       "    1:\t\u001b[34mSource @806\u001b[39m ⏎ `Table{AbstractArray{Continuous,1}}`\n",
       "    2:\t\u001b[34mSource @918\u001b[39m ⏎ `AbstractArray{Multiclass{3},1}`\n"
      ]
     },
     "execution_count": 25,
     "metadata": {},
     "output_type": "execute_result"
    }
   ],
   "source": [
    "z = fit!(self_tuning_boost, rows=train)"
   ]
  },
  {
   "cell_type": "code",
   "execution_count": 26,
   "metadata": {},
   "outputs": [
    {
     "data": {
      "image/svg+xml": [
       "<?xml version=\"1.0\" encoding=\"utf-8\"?>\n",
       "<svg xmlns=\"http://www.w3.org/2000/svg\" xmlns:xlink=\"http://www.w3.org/1999/xlink\" width=\"600\" height=\"400\" viewBox=\"0 0 2400 1600\">\n",
       "<defs>\n",
       "  <clipPath id=\"clip170\">\n",
       "    <rect x=\"0\" y=\"0\" width=\"2400\" height=\"1600\"/>\n",
       "  </clipPath>\n",
       "</defs>\n",
       "<path clip-path=\"url(#clip170)\" d=\"\n",
       "M0 1600 L2400 1600 L2400 0 L0 0  Z\n",
       "  \" fill=\"#ffffff\" fill-rule=\"evenodd\" fill-opacity=\"1\"/>\n",
       "<defs>\n",
       "  <clipPath id=\"clip171\">\n",
       "    <rect x=\"480\" y=\"0\" width=\"1681\" height=\"1600\"/>\n",
       "  </clipPath>\n",
       "</defs>\n",
       "<path clip-path=\"url(#clip170)\" d=\"\n",
       "M217.262 1410.9 L2112.76 1410.9 L2112.76 47.2441 L217.262 47.2441  Z\n",
       "  \" fill=\"#ffffff\" fill-rule=\"evenodd\" fill-opacity=\"1\"/>\n",
       "<defs>\n",
       "  <clipPath id=\"clip172\">\n",
       "    <rect x=\"217\" y=\"47\" width=\"1896\" height=\"1365\"/>\n",
       "  </clipPath>\n",
       "</defs>\n",
       "<polyline clip-path=\"url(#clip172)\" style=\"stroke:#000000; stroke-width:2; stroke-opacity:0.1; fill:none\" points=\"\n",
       "  270.908,1410.9 270.908,47.2441 \n",
       "  \"/>\n",
       "<polyline clip-path=\"url(#clip172)\" style=\"stroke:#000000; stroke-width:2; stroke-opacity:0.1; fill:none\" points=\"\n",
       "  717.959,1410.9 717.959,47.2441 \n",
       "  \"/>\n",
       "<polyline clip-path=\"url(#clip172)\" style=\"stroke:#000000; stroke-width:2; stroke-opacity:0.1; fill:none\" points=\"\n",
       "  1165.01,1410.9 1165.01,47.2441 \n",
       "  \"/>\n",
       "<polyline clip-path=\"url(#clip172)\" style=\"stroke:#000000; stroke-width:2; stroke-opacity:0.1; fill:none\" points=\"\n",
       "  1612.06,1410.9 1612.06,47.2441 \n",
       "  \"/>\n",
       "<polyline clip-path=\"url(#clip172)\" style=\"stroke:#000000; stroke-width:2; stroke-opacity:0.1; fill:none\" points=\"\n",
       "  2059.11,1410.9 2059.11,47.2441 \n",
       "  \"/>\n",
       "<polyline clip-path=\"url(#clip172)\" style=\"stroke:#000000; stroke-width:2; stroke-opacity:0.1; fill:none\" points=\"\n",
       "  217.262,1372.3 2112.76,1372.3 \n",
       "  \"/>\n",
       "<polyline clip-path=\"url(#clip172)\" style=\"stroke:#000000; stroke-width:2; stroke-opacity:0.1; fill:none\" points=\"\n",
       "  217.262,943.481 2112.76,943.481 \n",
       "  \"/>\n",
       "<polyline clip-path=\"url(#clip172)\" style=\"stroke:#000000; stroke-width:2; stroke-opacity:0.1; fill:none\" points=\"\n",
       "  217.262,514.66 2112.76,514.66 \n",
       "  \"/>\n",
       "<polyline clip-path=\"url(#clip172)\" style=\"stroke:#000000; stroke-width:2; stroke-opacity:0.1; fill:none\" points=\"\n",
       "  217.262,85.838 2112.76,85.838 \n",
       "  \"/>\n",
       "<polyline clip-path=\"url(#clip170)\" style=\"stroke:#000000; stroke-width:4; stroke-opacity:1; fill:none\" points=\"\n",
       "  217.262,1410.9 2112.76,1410.9 \n",
       "  \"/>\n",
       "<polyline clip-path=\"url(#clip170)\" style=\"stroke:#000000; stroke-width:4; stroke-opacity:1; fill:none\" points=\"\n",
       "  217.262,1410.9 217.262,47.2441 \n",
       "  \"/>\n",
       "<polyline clip-path=\"url(#clip170)\" style=\"stroke:#000000; stroke-width:4; stroke-opacity:1; fill:none\" points=\"\n",
       "  270.908,1410.9 270.908,1394.53 \n",
       "  \"/>\n",
       "<polyline clip-path=\"url(#clip170)\" style=\"stroke:#000000; stroke-width:4; stroke-opacity:1; fill:none\" points=\"\n",
       "  717.959,1410.9 717.959,1394.53 \n",
       "  \"/>\n",
       "<polyline clip-path=\"url(#clip170)\" style=\"stroke:#000000; stroke-width:4; stroke-opacity:1; fill:none\" points=\"\n",
       "  1165.01,1410.9 1165.01,1394.53 \n",
       "  \"/>\n",
       "<polyline clip-path=\"url(#clip170)\" style=\"stroke:#000000; stroke-width:4; stroke-opacity:1; fill:none\" points=\"\n",
       "  1612.06,1410.9 1612.06,1394.53 \n",
       "  \"/>\n",
       "<polyline clip-path=\"url(#clip170)\" style=\"stroke:#000000; stroke-width:4; stroke-opacity:1; fill:none\" points=\"\n",
       "  2059.11,1410.9 2059.11,1394.53 \n",
       "  \"/>\n",
       "<polyline clip-path=\"url(#clip170)\" style=\"stroke:#000000; stroke-width:4; stroke-opacity:1; fill:none\" points=\"\n",
       "  217.262,1372.3 240.008,1372.3 \n",
       "  \"/>\n",
       "<polyline clip-path=\"url(#clip170)\" style=\"stroke:#000000; stroke-width:4; stroke-opacity:1; fill:none\" points=\"\n",
       "  217.262,943.481 240.008,943.481 \n",
       "  \"/>\n",
       "<polyline clip-path=\"url(#clip170)\" style=\"stroke:#000000; stroke-width:4; stroke-opacity:1; fill:none\" points=\"\n",
       "  217.262,514.66 240.008,514.66 \n",
       "  \"/>\n",
       "<polyline clip-path=\"url(#clip170)\" style=\"stroke:#000000; stroke-width:4; stroke-opacity:1; fill:none\" points=\"\n",
       "  217.262,85.838 240.008,85.838 \n",
       "  \"/>\n",
       "<path clip-path=\"url(#clip170)\" d=\"M 0 0 M225.016 1481.97 L232.655 1481.97 L232.655 1455.6 L224.345 1457.27 L224.345 1453.01 L232.609 1451.34 L237.285 1451.34 L237.285 1481.97 L244.924 1481.97 L244.924 1485.9 L225.016 1485.9 L225.016 1481.97 Z\" fill=\"#000000\" fill-rule=\"evenodd\" fill-opacity=\"1\" /><path clip-path=\"url(#clip170)\" d=\"M 0 0 M259.993 1454.42 Q256.382 1454.42 254.553 1457.99 Q252.748 1461.53 252.748 1468.66 Q252.748 1475.77 254.553 1479.33 Q256.382 1482.87 259.993 1482.87 Q263.627 1482.87 265.433 1479.33 Q267.262 1475.77 267.262 1468.66 Q267.262 1461.53 265.433 1457.99 Q263.627 1454.42 259.993 1454.42 M259.993 1450.72 Q265.803 1450.72 268.859 1455.33 Q271.938 1459.91 271.938 1468.66 Q271.938 1477.39 268.859 1481.99 Q265.803 1486.58 259.993 1486.58 Q254.183 1486.58 251.104 1481.99 Q248.049 1477.39 248.049 1468.66 Q248.049 1459.91 251.104 1455.33 Q254.183 1450.72 259.993 1450.72 Z\" fill=\"#000000\" fill-rule=\"evenodd\" fill-opacity=\"1\" /><path clip-path=\"url(#clip170)\" d=\"M 0 0 M271.938 1444.82 L296.049 1444.82 L296.049 1448.02 L271.938 1448.02 L271.938 1444.82 Z\" fill=\"#000000\" fill-rule=\"evenodd\" fill-opacity=\"1\" /><path clip-path=\"url(#clip170)\" d=\"M 0 0 M311.678 1443.35 Q314.405 1443.94 315.929 1445.78 Q317.471 1447.62 317.471 1450.33 Q317.471 1454.49 314.612 1456.76 Q311.754 1459.04 306.487 1459.04 Q304.719 1459.04 302.839 1458.68 Q300.977 1458.34 298.983 1457.65 L298.983 1453.98 Q300.563 1454.9 302.444 1455.37 Q304.325 1455.84 306.375 1455.84 Q309.948 1455.84 311.81 1454.43 Q313.691 1453.02 313.691 1450.33 Q313.691 1447.85 311.942 1446.46 Q310.211 1445.05 307.108 1445.05 L303.836 1445.05 L303.836 1441.92 L307.259 1441.92 Q310.061 1441.92 311.547 1440.81 Q313.033 1439.69 313.033 1437.58 Q313.033 1435.42 311.49 1434.27 Q309.967 1433.1 307.108 1433.1 Q305.547 1433.1 303.76 1433.44 Q301.974 1433.78 299.829 1434.49 L299.829 1431.11 Q301.992 1430.51 303.873 1430.21 Q305.773 1429.91 307.447 1429.91 Q311.772 1429.91 314.293 1431.88 Q316.813 1433.84 316.813 1437.18 Q316.813 1439.52 315.478 1441.13 Q314.142 1442.73 311.678 1443.35 Z\" fill=\"#000000\" fill-rule=\"evenodd\" fill-opacity=\"1\" /><path clip-path=\"url(#clip170)\" d=\"M 0 0 M672.452 1481.97 L680.091 1481.97 L680.091 1455.6 L671.781 1457.27 L671.781 1453.01 L680.045 1451.34 L684.721 1451.34 L684.721 1481.97 L692.36 1481.97 L692.36 1485.9 L672.452 1485.9 L672.452 1481.97 Z\" fill=\"#000000\" fill-rule=\"evenodd\" fill-opacity=\"1\" /><path clip-path=\"url(#clip170)\" d=\"M 0 0 M707.429 1454.42 Q703.818 1454.42 701.989 1457.99 Q700.184 1461.53 700.184 1468.66 Q700.184 1475.77 701.989 1479.33 Q703.818 1482.87 707.429 1482.87 Q711.063 1482.87 712.869 1479.33 Q714.698 1475.77 714.698 1468.66 Q714.698 1461.53 712.869 1457.99 Q711.063 1454.42 707.429 1454.42 M707.429 1450.72 Q713.239 1450.72 716.295 1455.33 Q719.374 1459.91 719.374 1468.66 Q719.374 1477.39 716.295 1481.99 Q713.239 1486.58 707.429 1486.58 Q701.619 1486.58 698.54 1481.99 Q695.485 1477.39 695.485 1468.66 Q695.485 1459.91 698.54 1455.33 Q701.619 1450.72 707.429 1450.72 Z\" fill=\"#000000\" fill-rule=\"evenodd\" fill-opacity=\"1\" /><path clip-path=\"url(#clip170)\" d=\"M 0 0 M719.374 1444.82 L743.485 1444.82 L743.485 1448.02 L719.374 1448.02 L719.374 1444.82 Z\" fill=\"#000000\" fill-rule=\"evenodd\" fill-opacity=\"1\" /><path clip-path=\"url(#clip170)\" d=\"M 0 0 M750.877 1455.3 L764.136 1455.3 L764.136 1458.49 L746.306 1458.49 L746.306 1455.3 Q748.469 1453.06 752.193 1449.3 Q755.936 1445.52 756.895 1444.43 Q758.719 1442.38 759.434 1440.96 Q760.168 1439.54 760.168 1438.16 Q760.168 1435.92 758.588 1434.51 Q757.027 1433.1 754.506 1433.1 Q752.72 1433.1 750.726 1433.72 Q748.751 1434.34 746.494 1435.6 L746.494 1431.77 Q748.789 1430.85 750.782 1430.38 Q752.776 1429.91 754.431 1429.91 Q758.795 1429.91 761.39 1432.09 Q763.986 1434.27 763.986 1437.92 Q763.986 1439.65 763.327 1441.21 Q762.688 1442.75 760.976 1444.86 Q760.506 1445.4 757.986 1448.02 Q755.466 1450.61 750.877 1455.3 Z\" fill=\"#000000\" fill-rule=\"evenodd\" fill-opacity=\"1\" /><path clip-path=\"url(#clip170)\" d=\"M 0 0 M1119.35 1481.97 L1126.99 1481.97 L1126.99 1455.6 L1118.68 1457.27 L1118.68 1453.01 L1126.94 1451.34 L1131.62 1451.34 L1131.62 1481.97 L1139.26 1481.97 L1139.26 1485.9 L1119.35 1485.9 L1119.35 1481.97 Z\" fill=\"#000000\" fill-rule=\"evenodd\" fill-opacity=\"1\" /><path clip-path=\"url(#clip170)\" d=\"M 0 0 M1154.33 1454.42 Q1150.72 1454.42 1148.89 1457.99 Q1147.08 1461.53 1147.08 1468.66 Q1147.08 1475.77 1148.89 1479.33 Q1150.72 1482.87 1154.33 1482.87 Q1157.96 1482.87 1159.77 1479.33 Q1161.6 1475.77 1161.6 1468.66 Q1161.6 1461.53 1159.77 1457.99 Q1157.96 1454.42 1154.33 1454.42 M1154.33 1450.72 Q1160.14 1450.72 1163.19 1455.33 Q1166.27 1459.91 1166.27 1468.66 Q1166.27 1477.39 1163.19 1481.99 Q1160.14 1486.58 1154.33 1486.58 Q1148.52 1486.58 1145.44 1481.99 Q1142.38 1477.39 1142.38 1468.66 Q1142.38 1459.91 1145.44 1455.33 Q1148.52 1450.72 1154.33 1450.72 Z\" fill=\"#000000\" fill-rule=\"evenodd\" fill-opacity=\"1\" /><path clip-path=\"url(#clip170)\" d=\"M 0 0 M1166.27 1444.82 L1190.39 1444.82 L1190.39 1448.02 L1166.27 1448.02 L1166.27 1444.82 Z\" fill=\"#000000\" fill-rule=\"evenodd\" fill-opacity=\"1\" /><path clip-path=\"url(#clip170)\" d=\"M 0 0 M1195.16 1455.3 L1201.37 1455.3 L1201.37 1433.87 L1194.62 1435.23 L1194.62 1431.77 L1201.33 1430.41 L1205.13 1430.41 L1205.13 1455.3 L1211.34 1455.3 L1211.34 1458.49 L1195.16 1458.49 L1195.16 1455.3 Z\" fill=\"#000000\" fill-rule=\"evenodd\" fill-opacity=\"1\" /><path clip-path=\"url(#clip170)\" d=\"M 0 0 M1579.23 1481.97 L1586.87 1481.97 L1586.87 1455.6 L1578.56 1457.27 L1578.56 1453.01 L1586.82 1451.34 L1591.5 1451.34 L1591.5 1481.97 L1599.14 1481.97 L1599.14 1485.9 L1579.23 1485.9 L1579.23 1481.97 Z\" fill=\"#000000\" fill-rule=\"evenodd\" fill-opacity=\"1\" /><path clip-path=\"url(#clip170)\" d=\"M 0 0 M1614.21 1454.42 Q1610.6 1454.42 1608.77 1457.99 Q1606.96 1461.53 1606.96 1468.66 Q1606.96 1475.77 1608.77 1479.33 Q1610.6 1482.87 1614.21 1482.87 Q1617.84 1482.87 1619.65 1479.33 Q1621.47 1475.77 1621.47 1468.66 Q1621.47 1461.53 1619.65 1457.99 Q1617.84 1454.42 1614.21 1454.42 M1614.21 1450.72 Q1620.02 1450.72 1623.07 1455.33 Q1626.15 1459.91 1626.15 1468.66 Q1626.15 1477.39 1623.07 1481.99 Q1620.02 1486.58 1614.21 1486.58 Q1608.4 1486.58 1605.32 1481.99 Q1602.26 1477.39 1602.26 1468.66 Q1602.26 1459.91 1605.32 1455.33 Q1608.4 1450.72 1614.21 1450.72 Z\" fill=\"#000000\" fill-rule=\"evenodd\" fill-opacity=\"1\" /><path clip-path=\"url(#clip170)\" d=\"M 0 0 M1635.86 1432.91 Q1632.92 1432.91 1631.44 1435.81 Q1629.97 1438.69 1629.97 1444.48 Q1629.97 1450.26 1631.44 1453.15 Q1632.92 1456.03 1635.86 1456.03 Q1638.81 1456.03 1640.28 1453.15 Q1641.76 1450.26 1641.76 1444.48 Q1641.76 1438.69 1640.28 1435.81 Q1638.81 1432.91 1635.86 1432.91 M1635.86 1429.91 Q1640.58 1429.91 1643.06 1433.65 Q1645.56 1437.37 1645.56 1444.48 Q1645.56 1451.57 1643.06 1455.31 Q1640.58 1459.04 1635.86 1459.04 Q1631.13 1459.04 1628.63 1455.31 Q1626.15 1451.57 1626.15 1444.48 Q1626.15 1437.37 1628.63 1433.65 Q1631.13 1429.91 1635.86 1429.91 Z\" fill=\"#000000\" fill-rule=\"evenodd\" fill-opacity=\"1\" /><path clip-path=\"url(#clip170)\" d=\"M 0 0 M2027.62 1481.97 L2035.26 1481.97 L2035.26 1455.6 L2026.95 1457.27 L2026.95 1453.01 L2035.22 1451.34 L2039.89 1451.34 L2039.89 1481.97 L2047.53 1481.97 L2047.53 1485.9 L2027.62 1485.9 L2027.62 1481.97 Z\" fill=\"#000000\" fill-rule=\"evenodd\" fill-opacity=\"1\" /><path clip-path=\"url(#clip170)\" d=\"M 0 0 M2062.6 1454.42 Q2058.99 1454.42 2057.16 1457.99 Q2055.36 1461.53 2055.36 1468.66 Q2055.36 1475.77 2057.16 1479.33 Q2058.99 1482.87 2062.6 1482.87 Q2066.24 1482.87 2068.04 1479.33 Q2069.87 1475.77 2069.87 1468.66 Q2069.87 1461.53 2068.04 1457.99 Q2066.24 1454.42 2062.6 1454.42 M2062.6 1450.72 Q2068.41 1450.72 2071.47 1455.33 Q2074.55 1459.91 2074.55 1468.66 Q2074.55 1477.39 2071.47 1481.99 Q2068.41 1486.58 2062.6 1486.58 Q2056.79 1486.58 2053.71 1481.99 Q2050.66 1477.39 2050.66 1468.66 Q2050.66 1459.91 2053.71 1455.33 Q2056.79 1450.72 2062.6 1450.72 Z\" fill=\"#000000\" fill-rule=\"evenodd\" fill-opacity=\"1\" /><path clip-path=\"url(#clip170)\" d=\"M 0 0 M2075.09 1455.3 L2081.3 1455.3 L2081.3 1433.87 L2074.55 1435.23 L2074.55 1431.77 L2081.26 1430.41 L2085.06 1430.41 L2085.06 1455.3 L2091.27 1455.3 L2091.27 1458.49 L2075.09 1458.49 L2075.09 1455.3 Z\" fill=\"#000000\" fill-rule=\"evenodd\" fill-opacity=\"1\" /><path clip-path=\"url(#clip170)\" d=\"M 0 0 M126.931 1392.1 L134.57 1392.1 L134.57 1365.73 L126.26 1367.4 L126.26 1363.14 L134.524 1361.47 L139.2 1361.47 L139.2 1392.1 L146.839 1392.1 L146.839 1396.03 L126.931 1396.03 L126.931 1392.1 Z\" fill=\"#000000\" fill-rule=\"evenodd\" fill-opacity=\"1\" /><path clip-path=\"url(#clip170)\" d=\"M 0 0 M161.908 1364.55 Q158.297 1364.55 156.468 1368.11 Q154.663 1371.66 154.663 1378.79 Q154.663 1385.89 156.468 1389.46 Q158.297 1393 161.908 1393 Q165.542 1393 167.348 1389.46 Q169.177 1385.89 169.177 1378.79 Q169.177 1371.66 167.348 1368.11 Q165.542 1364.55 161.908 1364.55 M161.908 1360.85 Q167.718 1360.85 170.774 1365.45 Q173.852 1370.04 173.852 1378.79 Q173.852 1387.51 170.774 1392.12 Q167.718 1396.7 161.908 1396.7 Q156.098 1396.7 153.019 1392.12 Q149.964 1387.51 149.964 1378.79 Q149.964 1370.04 153.019 1365.45 Q156.098 1360.85 161.908 1360.85 Z\" fill=\"#000000\" fill-rule=\"evenodd\" fill-opacity=\"1\" /><path clip-path=\"url(#clip170)\" d=\"M 0 0 M183.557 1343.04 Q180.623 1343.04 179.137 1345.94 Q177.67 1348.82 177.67 1354.61 Q177.67 1360.38 179.137 1363.28 Q180.623 1366.16 183.557 1366.16 Q186.51 1366.16 187.977 1363.28 Q189.463 1360.38 189.463 1354.61 Q189.463 1348.82 187.977 1345.94 Q186.51 1343.04 183.557 1343.04 M183.557 1340.03 Q188.278 1340.03 190.761 1343.77 Q193.262 1347.5 193.262 1354.61 Q193.262 1361.7 190.761 1365.44 Q188.278 1369.17 183.557 1369.17 Q178.837 1369.17 176.335 1365.44 Q173.852 1361.7 173.852 1354.61 Q173.852 1347.5 176.335 1343.77 Q178.837 1340.03 183.557 1340.03 Z\" fill=\"#000000\" fill-rule=\"evenodd\" fill-opacity=\"1\" /><path clip-path=\"url(#clip170)\" d=\"M 0 0 M129.621 963.274 L137.26 963.274 L137.26 936.908 L128.95 938.575 L128.95 934.315 L137.214 932.649 L141.889 932.649 L141.889 963.274 L149.528 963.274 L149.528 967.209 L129.621 967.209 L129.621 963.274 Z\" fill=\"#000000\" fill-rule=\"evenodd\" fill-opacity=\"1\" /><path clip-path=\"url(#clip170)\" d=\"M 0 0 M164.598 935.727 Q160.987 935.727 159.158 939.292 Q157.352 942.834 157.352 949.963 Q157.352 957.07 159.158 960.635 Q160.987 964.176 164.598 964.176 Q168.232 964.176 170.037 960.635 Q171.866 957.07 171.866 949.963 Q171.866 942.834 170.037 939.292 Q168.232 935.727 164.598 935.727 M164.598 932.024 Q170.408 932.024 173.463 936.63 Q176.542 941.214 176.542 949.963 Q176.542 958.69 173.463 963.297 Q170.408 967.88 164.598 967.88 Q158.787 967.88 155.709 963.297 Q152.653 958.69 152.653 949.963 Q152.653 941.214 155.709 936.63 Q158.787 932.024 164.598 932.024 Z\" fill=\"#000000\" fill-rule=\"evenodd\" fill-opacity=\"1\" /><path clip-path=\"url(#clip170)\" d=\"M 0 0 M177.087 936.601 L183.294 936.601 L183.294 915.179 L176.542 916.533 L176.542 913.073 L183.256 911.718 L187.056 911.718 L187.056 936.601 L193.262 936.601 L193.262 939.798 L177.087 939.798 L177.087 936.601 Z\" fill=\"#000000\" fill-rule=\"evenodd\" fill-opacity=\"1\" /><path clip-path=\"url(#clip170)\" d=\"M 0 0 M128.511 534.452 L136.15 534.452 L136.15 508.086 L127.84 509.753 L127.84 505.494 L136.104 503.827 L140.78 503.827 L140.78 534.452 L148.419 534.452 L148.419 538.387 L128.511 538.387 L128.511 534.452 Z\" fill=\"#000000\" fill-rule=\"evenodd\" fill-opacity=\"1\" /><path clip-path=\"url(#clip170)\" d=\"M 0 0 M163.488 506.906 Q159.877 506.906 158.048 510.471 Q156.243 514.012 156.243 521.142 Q156.243 528.248 158.048 531.813 Q159.877 535.355 163.488 535.355 Q167.122 535.355 168.928 531.813 Q170.756 528.248 170.756 521.142 Q170.756 514.012 168.928 510.471 Q167.122 506.906 163.488 506.906 M163.488 503.202 Q169.298 503.202 172.354 507.809 Q175.432 512.392 175.432 521.142 Q175.432 529.869 172.354 534.475 Q169.298 539.058 163.488 539.058 Q157.678 539.058 154.599 534.475 Q151.544 529.869 151.544 521.142 Q151.544 512.392 154.599 507.809 Q157.678 503.202 163.488 503.202 Z\" fill=\"#000000\" fill-rule=\"evenodd\" fill-opacity=\"1\" /><path clip-path=\"url(#clip170)\" d=\"M 0 0 M180.003 507.779 L193.262 507.779 L193.262 510.977 L175.432 510.977 L175.432 507.779 Q177.595 505.541 181.319 501.78 Q185.062 497.999 186.021 496.909 Q187.845 494.859 188.56 493.448 Q189.294 492.019 189.294 490.646 Q189.294 488.407 187.714 486.997 Q186.153 485.586 183.633 485.586 Q181.846 485.586 179.852 486.207 Q177.877 486.828 175.62 488.088 L175.62 484.251 Q177.915 483.329 179.909 482.859 Q181.902 482.389 183.557 482.389 Q187.921 482.389 190.516 484.571 Q193.112 486.752 193.112 490.401 Q193.112 492.131 192.453 493.692 Q191.814 495.235 190.102 497.341 Q189.632 497.887 187.112 500.501 Q184.592 503.096 180.003 507.779 Z\" fill=\"#000000\" fill-rule=\"evenodd\" fill-opacity=\"1\" /><path clip-path=\"url(#clip170)\" d=\"M 0 0 M127.853 105.63 L135.492 105.63 L135.492 79.2649 L127.182 80.9315 L127.182 76.6723 L135.446 75.0056 L140.121 75.0056 L140.121 105.63 L147.76 105.63 L147.76 109.566 L127.853 109.566 L127.853 105.63 Z\" fill=\"#000000\" fill-rule=\"evenodd\" fill-opacity=\"1\" /><path clip-path=\"url(#clip170)\" d=\"M 0 0 M162.83 78.0843 Q159.219 78.0843 157.39 81.6491 Q155.584 85.1908 155.584 92.3204 Q155.584 99.4268 157.39 102.992 Q159.219 106.533 162.83 106.533 Q166.464 106.533 168.269 102.992 Q170.098 99.4268 170.098 92.3204 Q170.098 85.1908 168.269 81.6491 Q166.464 78.0843 162.83 78.0843 M162.83 74.3806 Q168.64 74.3806 171.695 78.9871 Q174.774 83.5704 174.774 92.3204 Q174.774 101.047 171.695 105.654 Q168.64 110.237 162.83 110.237 Q157.02 110.237 153.941 105.654 Q150.885 101.047 150.885 92.3204 Q150.885 83.5704 153.941 78.9871 Q157.02 74.3806 162.83 74.3806 Z\" fill=\"#000000\" fill-rule=\"evenodd\" fill-opacity=\"1\" /><path clip-path=\"url(#clip170)\" d=\"M 0 0 M187.469 67.015 Q190.196 67.598 191.72 69.4412 Q193.262 71.2843 193.262 73.9927 Q193.262 78.1492 190.403 80.4249 Q187.545 82.7007 182.278 82.7007 Q180.51 82.7007 178.63 82.3433 Q176.768 82.0048 174.774 81.3089 L174.774 77.6414 Q176.354 78.563 178.235 79.0331 Q180.115 79.5033 182.166 79.5033 Q185.739 79.5033 187.601 78.0928 Q189.482 76.6822 189.482 73.9927 Q189.482 71.51 187.733 70.1183 Q186.002 68.7077 182.899 68.7077 L179.626 68.7077 L179.626 65.5856 L183.049 65.5856 Q185.852 65.5856 187.338 64.4759 Q188.823 63.3475 188.823 61.241 Q188.823 59.0781 187.281 57.9308 Q185.758 56.7647 182.899 56.7647 Q181.338 56.7647 179.551 57.1033 Q177.765 57.4418 175.62 58.1565 L175.62 54.7711 Q177.783 54.1693 179.664 53.8683 Q181.564 53.5674 183.238 53.5674 Q187.563 53.5674 190.084 55.5422 Q192.604 57.4982 192.604 60.846 Q192.604 63.1782 191.268 64.7957 Q189.933 66.3943 187.469 67.015 Z\" fill=\"#000000\" fill-rule=\"evenodd\" fill-opacity=\"1\" /><path clip-path=\"url(#clip170)\" d=\"M 0 0 M977.077 1512.66 L982.934 1512.66 L982.934 1562.19 L977.077 1562.19 L977.077 1512.66 Z\" fill=\"#000000\" fill-rule=\"evenodd\" fill-opacity=\"1\" /><path clip-path=\"url(#clip170)\" d=\"M 0 0 M1019.57 1542.9 L1019.57 1545.76 L992.642 1545.76 Q993.024 1551.81 996.27 1554.99 Q999.548 1558.14 1005.37 1558.14 Q1008.75 1558.14 1011.9 1557.32 Q1015.08 1556.49 1018.2 1554.83 L1018.2 1560.37 Q1015.05 1561.71 1011.74 1562.41 Q1008.43 1563.11 1005.02 1563.11 Q996.493 1563.11 991.496 1558.14 Q986.531 1553.18 986.531 1544.71 Q986.531 1535.96 991.241 1530.83 Q995.984 1525.68 1004 1525.68 Q1011.2 1525.68 1015.37 1530.33 Q1019.57 1534.94 1019.57 1542.9 M1013.71 1541.18 Q1013.65 1536.37 1011.01 1533.51 Q1008.4 1530.64 1004.07 1530.64 Q999.166 1530.64 996.206 1533.41 Q993.278 1536.18 992.833 1541.21 L1013.71 1541.18 Z\" fill=\"#000000\" fill-rule=\"evenodd\" fill-opacity=\"1\" /><path clip-path=\"url(#clip170)\" d=\"M 0 0 M1041.91 1544.27 Q1034.81 1544.27 1032.08 1545.89 Q1029.34 1547.51 1029.34 1551.43 Q1029.34 1554.55 1031.38 1556.39 Q1033.45 1558.21 1036.98 1558.21 Q1041.85 1558.21 1044.78 1554.77 Q1047.74 1551.3 1047.74 1545.57 L1047.74 1544.27 L1041.91 1544.27 M1053.59 1541.85 L1053.59 1562.19 L1047.74 1562.19 L1047.74 1556.77 Q1045.73 1560.02 1042.74 1561.58 Q1039.75 1563.11 1035.42 1563.11 Q1029.94 1563.11 1026.7 1560.05 Q1023.48 1556.97 1023.48 1551.81 Q1023.48 1545.79 1027.49 1542.74 Q1031.54 1539.68 1039.53 1539.68 L1047.74 1539.68 L1047.74 1539.11 Q1047.74 1535.07 1045.06 1532.87 Q1042.42 1530.64 1037.62 1530.64 Q1034.56 1530.64 1031.66 1531.38 Q1028.77 1532.11 1026.09 1533.57 L1026.09 1528.16 Q1029.31 1526.92 1032.33 1526.31 Q1035.36 1525.68 1038.22 1525.68 Q1045.95 1525.68 1049.77 1529.69 Q1053.59 1533.7 1053.59 1541.85 Z\" fill=\"#000000\" fill-rule=\"evenodd\" fill-opacity=\"1\" /><path clip-path=\"url(#clip170)\" d=\"M 0 0 M1080.39 1532.01 Q1079.41 1531.44 1078.23 1531.18 Q1077.08 1530.9 1075.68 1530.9 Q1070.72 1530.9 1068.04 1534.14 Q1065.4 1537.36 1065.4 1543.41 L1065.4 1562.19 L1059.51 1562.19 L1059.51 1526.54 L1065.4 1526.54 L1065.4 1532.08 Q1067.25 1528.83 1070.21 1527.27 Q1073.17 1525.68 1077.4 1525.68 Q1078.01 1525.68 1078.74 1525.77 Q1079.47 1525.84 1080.36 1526 L1080.39 1532.01 Z\" fill=\"#000000\" fill-rule=\"evenodd\" fill-opacity=\"1\" /><path clip-path=\"url(#clip170)\" d=\"M 0 0 M1115.02 1540.67 L1115.02 1562.19 L1109.17 1562.19 L1109.17 1540.86 Q1109.17 1535.8 1107.19 1533.29 Q1105.22 1530.77 1101.27 1530.77 Q1096.53 1530.77 1093.79 1533.79 Q1091.06 1536.82 1091.06 1542.04 L1091.06 1562.19 L1085.17 1562.19 L1085.17 1526.54 L1091.06 1526.54 L1091.06 1532.08 Q1093.16 1528.86 1095.99 1527.27 Q1098.85 1525.68 1102.58 1525.68 Q1108.72 1525.68 1111.87 1529.5 Q1115.02 1533.29 1115.02 1540.67 Z\" fill=\"#000000\" fill-rule=\"evenodd\" fill-opacity=\"1\" /><path clip-path=\"url(#clip170)\" d=\"M 0 0 M1121.17 1526.54 L1127.02 1526.54 L1127.02 1562.19 L1121.17 1562.19 L1121.17 1526.54 M1121.17 1512.66 L1127.02 1512.66 L1127.02 1520.08 L1121.17 1520.08 L1121.17 1512.66 Z\" fill=\"#000000\" fill-rule=\"evenodd\" fill-opacity=\"1\" /><path clip-path=\"url(#clip170)\" d=\"M 0 0 M1162.8 1540.67 L1162.8 1562.19 L1156.94 1562.19 L1156.94 1540.86 Q1156.94 1535.8 1154.97 1533.29 Q1152.99 1530.77 1149.05 1530.77 Q1144.3 1530.77 1141.57 1533.79 Q1138.83 1536.82 1138.83 1542.04 L1138.83 1562.19 L1132.94 1562.19 L1132.94 1526.54 L1138.83 1526.54 L1138.83 1532.08 Q1140.93 1528.86 1143.76 1527.27 Q1146.63 1525.68 1150.35 1525.68 Q1156.49 1525.68 1159.65 1529.5 Q1162.8 1533.29 1162.8 1540.67 Z\" fill=\"#000000\" fill-rule=\"evenodd\" fill-opacity=\"1\" /><path clip-path=\"url(#clip170)\" d=\"M 0 0 M1192.4 1543.95 Q1192.4 1537.58 1189.76 1534.08 Q1187.15 1530.58 1182.4 1530.58 Q1177.69 1530.58 1175.05 1534.08 Q1172.44 1537.58 1172.44 1543.95 Q1172.44 1550.28 1175.05 1553.78 Q1177.69 1557.28 1182.4 1557.28 Q1187.15 1557.28 1189.76 1553.78 Q1192.4 1550.28 1192.4 1543.95 M1198.25 1557.76 Q1198.25 1566.86 1194.21 1571.29 Q1190.17 1575.74 1181.83 1575.74 Q1178.74 1575.74 1176.01 1575.27 Q1173.27 1574.82 1170.69 1573.87 L1170.69 1568.17 Q1173.27 1569.57 1175.78 1570.24 Q1178.3 1570.91 1180.91 1570.91 Q1186.67 1570.91 1189.53 1567.88 Q1192.4 1564.89 1192.4 1558.81 L1192.4 1555.92 Q1190.58 1559.07 1187.75 1560.63 Q1184.92 1562.19 1180.97 1562.19 Q1174.41 1562.19 1170.4 1557.19 Q1166.39 1552.19 1166.39 1543.95 Q1166.39 1535.67 1170.4 1530.68 Q1174.41 1525.68 1180.97 1525.68 Q1184.92 1525.68 1187.75 1527.24 Q1190.58 1528.8 1192.4 1531.95 L1192.4 1526.54 L1198.25 1526.54 L1198.25 1557.76 Z\" fill=\"#000000\" fill-rule=\"evenodd\" fill-opacity=\"1\" /><path clip-path=\"url(#clip170)\" d=\"M 0 0 M1231.48 1573.01 L1231.48 1577.56 L1197.62 1577.56 L1197.62 1573.01 L1231.48 1573.01 Z\" fill=\"#000000\" fill-rule=\"evenodd\" fill-opacity=\"1\" /><path clip-path=\"url(#clip170)\" d=\"M 0 0 M1258.28 1532.01 Q1257.3 1531.44 1256.12 1531.18 Q1254.97 1530.9 1253.57 1530.9 Q1248.61 1530.9 1245.93 1534.14 Q1243.29 1537.36 1243.29 1543.41 L1243.29 1562.19 L1237.4 1562.19 L1237.4 1526.54 L1243.29 1526.54 L1243.29 1532.08 Q1245.14 1528.83 1248.1 1527.27 Q1251.06 1525.68 1255.29 1525.68 Q1255.9 1525.68 1256.63 1525.77 Q1257.36 1525.84 1258.25 1526 L1258.28 1532.01 Z\" fill=\"#000000\" fill-rule=\"evenodd\" fill-opacity=\"1\" /><path clip-path=\"url(#clip170)\" d=\"M 0 0 M1280.63 1544.27 Q1273.53 1544.27 1270.79 1545.89 Q1268.05 1547.51 1268.05 1551.43 Q1268.05 1554.55 1270.09 1556.39 Q1272.16 1558.21 1275.69 1558.21 Q1280.56 1558.21 1283.49 1554.77 Q1286.45 1551.3 1286.45 1545.57 L1286.45 1544.27 L1280.63 1544.27 M1292.31 1541.85 L1292.31 1562.19 L1286.45 1562.19 L1286.45 1556.77 Q1284.45 1560.02 1281.45 1561.58 Q1278.46 1563.11 1274.13 1563.11 Q1268.66 1563.11 1265.41 1560.05 Q1262.2 1556.97 1262.2 1551.81 Q1262.2 1545.79 1266.21 1542.74 Q1270.25 1539.68 1278.24 1539.68 L1286.45 1539.68 L1286.45 1539.11 Q1286.45 1535.07 1283.78 1532.87 Q1281.14 1530.64 1276.33 1530.64 Q1273.27 1530.64 1270.38 1531.38 Q1267.48 1532.11 1264.81 1533.57 L1264.81 1528.16 Q1268.02 1526.92 1271.05 1526.31 Q1274.07 1525.68 1276.93 1525.68 Q1284.67 1525.68 1288.49 1529.69 Q1292.31 1533.7 1292.31 1541.85 Z\" fill=\"#000000\" fill-rule=\"evenodd\" fill-opacity=\"1\" /><path clip-path=\"url(#clip170)\" d=\"M 0 0 M1304.24 1516.42 L1304.24 1526.54 L1316.31 1526.54 L1316.31 1531.09 L1304.24 1531.09 L1304.24 1550.44 Q1304.24 1554.8 1305.42 1556.04 Q1306.63 1557.28 1310.29 1557.28 L1316.31 1557.28 L1316.31 1562.19 L1310.29 1562.19 Q1303.51 1562.19 1300.93 1559.67 Q1298.35 1557.12 1298.35 1550.44 L1298.35 1531.09 L1294.06 1531.09 L1294.06 1526.54 L1298.35 1526.54 L1298.35 1516.42 L1304.24 1516.42 Z\" fill=\"#000000\" fill-rule=\"evenodd\" fill-opacity=\"1\" /><path clip-path=\"url(#clip170)\" d=\"M 0 0 M1352.94 1542.9 L1352.94 1545.76 L1326.01 1545.76 Q1326.4 1551.81 1329.64 1554.99 Q1332.92 1558.14 1338.75 1558.14 Q1342.12 1558.14 1345.27 1557.32 Q1348.45 1556.49 1351.57 1554.83 L1351.57 1560.37 Q1348.42 1561.71 1345.11 1562.41 Q1341.8 1563.11 1338.39 1563.11 Q1329.86 1563.11 1324.87 1558.14 Q1319.9 1553.18 1319.9 1544.71 Q1319.9 1535.96 1324.61 1530.83 Q1329.36 1525.68 1337.38 1525.68 Q1344.57 1525.68 1348.74 1530.33 Q1352.94 1534.94 1352.94 1542.9 M1347.08 1541.18 Q1347.02 1536.37 1344.38 1533.51 Q1341.77 1530.64 1337.44 1530.64 Q1332.54 1530.64 1329.58 1533.41 Q1326.65 1536.18 1326.2 1541.21 L1347.08 1541.18 Z\" fill=\"#000000\" fill-rule=\"evenodd\" fill-opacity=\"1\" /><path clip-path=\"url(#clip170)\" d=\"M 0 0 M66.4881 887.401 L88.0042 887.401 L88.0042 893.258 L66.679 893.258 Q61.6183 893.258 59.1038 895.231 Q56.5894 897.205 56.5894 901.151 Q56.5894 905.894 59.6131 908.631 Q62.6368 911.368 67.8567 911.368 L88.0042 911.368 L88.0042 917.257 L52.3562 917.257 L52.3562 911.368 L57.8944 911.368 Q54.6797 909.268 53.0883 906.435 Q51.4968 903.57 51.4968 899.846 Q51.4968 893.703 55.3163 890.552 Q59.1038 887.401 66.4881 887.401 Z\" fill=\"#000000\" fill-rule=\"evenodd\" fill-opacity=\"1\" /><path clip-path=\"url(#clip170)\" d=\"M 0 0 M98.8259 854.172 L103.377 854.172 L103.377 888.038 L98.8259 888.038 L98.8259 854.172 Z\" fill=\"#000000\" fill-rule=\"evenodd\" fill-opacity=\"1\" /><path clip-path=\"url(#clip170)\" d=\"M 0 0 M68.7161 817.538 L71.5806 817.538 L71.5806 844.465 Q77.6281 844.083 80.8109 840.836 Q83.9619 837.558 83.9619 831.733 Q83.9619 828.359 83.1344 825.208 Q82.3069 822.026 80.6518 818.906 L86.1899 818.906 Q87.5267 822.057 88.227 825.368 Q88.9272 828.678 88.9272 832.083 Q88.9272 840.613 83.9619 845.611 Q78.9967 850.576 70.5303 850.576 Q61.7774 850.576 56.6531 845.865 Q51.4968 841.123 51.4968 833.102 Q51.4968 825.909 56.1438 821.739 Q60.7589 817.538 68.7161 817.538 M66.9973 823.394 Q62.1912 823.458 59.3266 826.1 Q56.4621 828.71 56.4621 833.038 Q56.4621 837.94 59.2312 840.9 Q62.0002 843.828 67.0292 844.274 L66.9973 823.394 Z\" fill=\"#000000\" fill-rule=\"evenodd\" fill-opacity=\"1\" /><path clip-path=\"url(#clip170)\" d=\"M 0 0 M53.4065 788.669 L58.9447 788.669 Q57.6716 791.152 57.035 793.826 Q56.3984 796.499 56.3984 799.364 Q56.3984 803.724 57.7352 805.92 Q59.072 808.085 61.7456 808.085 Q63.7826 808.085 64.9603 806.525 Q66.1061 804.966 67.1565 800.255 L67.6021 798.25 Q68.9389 792.011 71.3897 789.401 Q73.8086 786.76 78.1691 786.76 Q83.1344 786.76 86.0308 790.706 Q88.9272 794.621 88.9272 801.496 Q88.9272 804.361 88.3543 807.48 Q87.8132 810.567 86.6992 814.005 L80.6518 814.005 Q82.3387 810.758 83.198 807.607 Q84.0256 804.456 84.0256 801.369 Q84.0256 797.231 82.6251 795.003 Q81.1929 792.775 78.6147 792.775 Q76.2276 792.775 74.9545 794.398 Q73.6813 795.99 72.5037 801.433 L72.0262 803.47 Q70.8804 808.912 68.5251 811.331 Q66.138 813.75 62.0002 813.75 Q56.9713 813.75 54.2341 810.185 Q51.4968 806.621 51.4968 800.064 Q51.4968 796.817 51.9743 793.953 Q52.4517 791.088 53.4065 788.669 Z\" fill=\"#000000\" fill-rule=\"evenodd\" fill-opacity=\"1\" /><path clip-path=\"url(#clip170)\" d=\"M 0 0 M42.2347 774.824 L52.3562 774.824 L52.3562 762.761 L56.9077 762.761 L56.9077 774.824 L76.2594 774.824 Q80.6199 774.824 81.8613 773.646 Q83.1026 772.437 83.1026 768.776 L83.1026 762.761 L88.0042 762.761 L88.0042 768.776 Q88.0042 775.556 85.4897 778.134 Q82.9434 780.712 76.2594 780.712 L56.9077 780.712 L56.9077 785.009 L52.3562 785.009 L52.3562 780.712 L42.2347 780.712 L42.2347 774.824 Z\" fill=\"#000000\" fill-rule=\"evenodd\" fill-opacity=\"1\" /><path clip-path=\"url(#clip170)\" d=\"M 0 0 M52.3562 756.618 L52.3562 750.762 L88.0042 750.762 L88.0042 756.618 L52.3562 756.618 M38.479 756.618 L38.479 750.762 L45.895 750.762 L45.895 756.618 L38.479 756.618 Z\" fill=\"#000000\" fill-rule=\"evenodd\" fill-opacity=\"1\" /><path clip-path=\"url(#clip170)\" d=\"M 0 0 M59.1993 716.864 Q55.2526 714.668 53.3747 711.612 Q51.4968 708.557 51.4968 704.419 Q51.4968 698.849 55.4117 695.825 Q59.2948 692.802 66.4881 692.802 L88.0042 692.802 L88.0042 698.69 L66.679 698.69 Q61.5546 698.69 59.072 700.504 Q56.5894 702.318 56.5894 706.042 Q56.5894 710.594 59.6131 713.236 Q62.6368 715.877 67.8567 715.877 L88.0042 715.877 L88.0042 721.766 L66.679 721.766 Q61.5228 721.766 59.072 723.58 Q56.5894 725.394 56.5894 729.182 Q56.5894 733.67 59.6449 736.311 Q62.6686 738.953 67.8567 738.953 L88.0042 738.953 L88.0042 744.841 L52.3562 744.841 L52.3562 738.953 L57.8944 738.953 Q54.616 736.948 53.0564 734.147 Q51.4968 731.346 51.4968 727.495 Q51.4968 723.612 53.4702 720.906 Q55.4436 718.169 59.1993 716.864 Z\" fill=\"#000000\" fill-rule=\"evenodd\" fill-opacity=\"1\" /><path clip-path=\"url(#clip170)\" d=\"M 0 0 M70.0847 670.458 Q70.0847 677.556 71.7079 680.293 Q73.3312 683.03 77.2461 683.03 Q80.3653 683.03 82.2114 680.993 Q84.0256 678.925 84.0256 675.392 Q84.0256 670.522 80.5881 667.594 Q77.1188 664.634 71.3897 664.634 L70.0847 664.634 L70.0847 670.458 M67.6657 658.777 L88.0042 658.777 L88.0042 664.634 L82.5933 664.634 Q85.8398 666.639 87.3994 669.631 Q88.9272 672.622 88.9272 676.951 Q88.9272 682.426 85.8716 685.672 Q82.7843 688.887 77.6281 688.887 Q71.6125 688.887 68.5569 684.876 Q65.5014 680.834 65.5014 672.845 L65.5014 664.634 L64.9285 664.634 Q60.8862 664.634 58.6901 667.307 Q56.4621 669.949 56.4621 674.755 Q56.4621 677.811 57.1941 680.707 Q57.9262 683.603 59.3903 686.277 L53.9795 686.277 Q52.7381 683.062 52.1334 680.039 Q51.4968 677.015 51.4968 674.15 Q51.4968 666.416 55.5072 662.596 Q59.5176 658.777 67.6657 658.777 Z\" fill=\"#000000\" fill-rule=\"evenodd\" fill-opacity=\"1\" /><path clip-path=\"url(#clip170)\" d=\"M 0 0 M42.2347 646.841 L52.3562 646.841 L52.3562 634.778 L56.9077 634.778 L56.9077 646.841 L76.2594 646.841 Q80.6199 646.841 81.8613 645.664 Q83.1026 644.454 83.1026 640.794 L83.1026 634.778 L88.0042 634.778 L88.0042 640.794 Q88.0042 647.573 85.4897 650.152 Q82.9434 652.73 76.2594 652.73 L56.9077 652.73 L56.9077 657.026 L52.3562 657.026 L52.3562 652.73 L42.2347 652.73 L42.2347 646.841 Z\" fill=\"#000000\" fill-rule=\"evenodd\" fill-opacity=\"1\" /><path clip-path=\"url(#clip170)\" d=\"M 0 0 M56.4621 614.822 Q56.4621 619.532 60.1542 622.27 Q63.8145 625.007 70.212 625.007 Q76.6095 625.007 80.3017 622.302 Q83.9619 619.564 83.9619 614.822 Q83.9619 610.143 80.2698 607.406 Q76.5777 604.669 70.212 604.669 Q63.8781 604.669 60.186 607.406 Q56.4621 610.143 56.4621 614.822 M51.4968 614.822 Q51.4968 607.183 56.4621 602.822 Q61.4273 598.462 70.212 598.462 Q78.9649 598.462 83.9619 602.822 Q88.9272 607.183 88.9272 614.822 Q88.9272 622.493 83.9619 626.853 Q78.9649 631.182 70.212 631.182 Q61.4273 631.182 56.4621 626.853 Q51.4968 622.493 51.4968 614.822 Z\" fill=\"#000000\" fill-rule=\"evenodd\" fill-opacity=\"1\" /><path clip-path=\"url(#clip170)\" d=\"M 0 0 M57.8307 571.662 Q57.2578 572.649 57.0032 573.827 Q56.7167 574.973 56.7167 576.373 Q56.7167 581.338 59.9632 584.012 Q63.1779 586.654 69.2253 586.654 L88.0042 586.654 L88.0042 592.542 L52.3562 592.542 L52.3562 586.654 L57.8944 586.654 Q54.6479 584.808 53.0883 581.847 Q51.4968 578.887 51.4968 574.654 Q51.4968 574.049 51.5923 573.317 Q51.656 572.585 51.8151 571.694 L57.8307 571.662 Z\" fill=\"#000000\" fill-rule=\"evenodd\" fill-opacity=\"1\" /><path clip-path=\"url(#clip170)\" d=\"M 0 0 M53.4065 542.794 L58.9447 542.794 Q57.6716 545.277 57.035 547.95 Q56.3984 550.624 56.3984 553.488 Q56.3984 557.849 57.7352 560.045 Q59.072 562.209 61.7456 562.209 Q63.7826 562.209 64.9603 560.65 Q66.1061 559.09 67.1565 554.379 L67.6021 552.374 Q68.9389 546.136 71.3897 543.526 Q73.8086 540.884 78.1691 540.884 Q83.1344 540.884 86.0308 544.831 Q88.9272 548.746 88.9272 555.621 Q88.9272 558.485 88.3543 561.605 Q87.8132 564.692 86.6992 568.129 L80.6518 568.129 Q82.3387 564.883 83.198 561.732 Q84.0256 558.581 84.0256 555.493 Q84.0256 551.356 82.6251 549.128 Q81.1929 546.9 78.6147 546.9 Q76.2276 546.9 74.9545 548.523 Q73.6813 550.114 72.5037 555.557 L72.0262 557.594 Q70.8804 563.037 68.5251 565.456 Q66.138 567.875 62.0002 567.875 Q56.9713 567.875 54.2341 564.31 Q51.4968 560.745 51.4968 554.188 Q51.4968 550.942 51.9743 548.077 Q52.4517 545.213 53.4065 542.794 Z\" fill=\"#000000\" fill-rule=\"evenodd\" fill-opacity=\"1\" /><circle clip-path=\"url(#clip172)\" cx=\"1661.73\" cy=\"372.103\" r=\"8\" fill=\"#050317\" fill-rule=\"evenodd\" fill-opacity=\"1\" stroke=\"#000000\" stroke-opacity=\"1\" stroke-width=\"3.2\"/>\n",
       "<circle clip-path=\"url(#clip172)\" cx=\"1065.66\" cy=\"1372.3\" r=\"6\" fill=\"#02020e\" fill-rule=\"evenodd\" fill-opacity=\"1\" stroke=\"#000000\" stroke-opacity=\"1\" stroke-width=\"3.2\"/>\n",
       "<circle clip-path=\"url(#clip172)\" cx=\"270.908\" cy=\"943.481\" r=\"6\" fill=\"#02020e\" fill-rule=\"evenodd\" fill-opacity=\"1\" stroke=\"#000000\" stroke-opacity=\"1\" stroke-width=\"3.2\"/>\n",
       "<circle clip-path=\"url(#clip172)\" cx=\"1860.42\" cy=\"1372.3\" r=\"6\" fill=\"#02020e\" fill-rule=\"evenodd\" fill-opacity=\"1\" stroke=\"#000000\" stroke-opacity=\"1\" stroke-width=\"3.2\"/>\n",
       "<circle clip-path=\"url(#clip172)\" cx=\"866.975\" cy=\"514.66\" r=\"4\" fill=\"#000005\" fill-rule=\"evenodd\" fill-opacity=\"1\" stroke=\"#000000\" stroke-opacity=\"1\" stroke-width=\"3.2\"/>\n",
       "<circle clip-path=\"url(#clip172)\" cx=\"668.286\" cy=\"1072.57\" r=\"6\" fill=\"#02020e\" fill-rule=\"evenodd\" fill-opacity=\"1\" stroke=\"#000000\" stroke-opacity=\"1\" stroke-width=\"3.2\"/>\n",
       "<circle clip-path=\"url(#clip172)\" cx=\"866.975\" cy=\"372.103\" r=\"5\" fill=\"#010109\" fill-rule=\"evenodd\" fill-opacity=\"1\" stroke=\"#000000\" stroke-opacity=\"1\" stroke-width=\"3.2\"/>\n",
       "<circle clip-path=\"url(#clip172)\" cx=\"1661.73\" cy=\"659.276\" r=\"7\" fill=\"#030211\" fill-rule=\"evenodd\" fill-opacity=\"1\" stroke=\"#000000\" stroke-opacity=\"1\" stroke-width=\"3.2\"/>\n",
       "<circle clip-path=\"url(#clip172)\" cx=\"1264.35\" cy=\"514.66\" r=\"7\" fill=\"#030212\" fill-rule=\"evenodd\" fill-opacity=\"1\" stroke=\"#000000\" stroke-opacity=\"1\" stroke-width=\"3.2\"/>\n",
       "<circle clip-path=\"url(#clip172)\" cx=\"866.975\" cy=\"228.842\" r=\"7\" fill=\"#030210\" fill-rule=\"evenodd\" fill-opacity=\"1\" stroke=\"#000000\" stroke-opacity=\"1\" stroke-width=\"3.2\"/>\n",
       "<circle clip-path=\"url(#clip172)\" cx=\"668.286\" cy=\"228.842\" r=\"5\" fill=\"#010008\" fill-rule=\"evenodd\" fill-opacity=\"1\" stroke=\"#000000\" stroke-opacity=\"1\" stroke-width=\"3.2\"/>\n",
       "<circle clip-path=\"url(#clip172)\" cx=\"1264.35\" cy=\"228.842\" r=\"9\" fill=\"#06041b\" fill-rule=\"evenodd\" fill-opacity=\"1\" stroke=\"#000000\" stroke-opacity=\"1\" stroke-width=\"3.2\"/>\n",
       "<circle clip-path=\"url(#clip172)\" cx=\"1264.35\" cy=\"659.276\" r=\"6\" fill=\"#01010b\" fill-rule=\"evenodd\" fill-opacity=\"1\" stroke=\"#000000\" stroke-opacity=\"1\" stroke-width=\"3.2\"/>\n",
       "<circle clip-path=\"url(#clip172)\" cx=\"1463.04\" cy=\"514.66\" r=\"8\" fill=\"#050317\" fill-rule=\"evenodd\" fill-opacity=\"1\" stroke=\"#000000\" stroke-opacity=\"1\" stroke-width=\"3.2\"/>\n",
       "<circle clip-path=\"url(#clip172)\" cx=\"1860.42\" cy=\"1072.57\" r=\"5\" fill=\"#01010a\" fill-rule=\"evenodd\" fill-opacity=\"1\" stroke=\"#000000\" stroke-opacity=\"1\" stroke-width=\"3.2\"/>\n",
       "<circle clip-path=\"url(#clip172)\" cx=\"1661.73\" cy=\"1243.21\" r=\"3\" fill=\"#000003\" fill-rule=\"evenodd\" fill-opacity=\"1\" stroke=\"#000000\" stroke-opacity=\"1\" stroke-width=\"3.2\"/>\n",
       "<circle clip-path=\"url(#clip172)\" cx=\"1065.66\" cy=\"943.481\" r=\"4\" fill=\"#000004\" fill-rule=\"evenodd\" fill-opacity=\"1\" stroke=\"#000000\" stroke-opacity=\"1\" stroke-width=\"3.2\"/>\n",
       "<circle clip-path=\"url(#clip172)\" cx=\"1264.35\" cy=\"1243.21\" r=\"3\" fill=\"#000004\" fill-rule=\"evenodd\" fill-opacity=\"1\" stroke=\"#000000\" stroke-opacity=\"1\" stroke-width=\"3.2\"/>\n",
       "<circle clip-path=\"url(#clip172)\" cx=\"1661.73\" cy=\"85.838\" r=\"9\" fill=\"#060419\" fill-rule=\"evenodd\" fill-opacity=\"1\" stroke=\"#000000\" stroke-opacity=\"1\" stroke-width=\"3.2\"/>\n",
       "<circle clip-path=\"url(#clip172)\" cx=\"668.286\" cy=\"659.276\" r=\"4\" fill=\"#000004\" fill-rule=\"evenodd\" fill-opacity=\"1\" stroke=\"#000000\" stroke-opacity=\"1\" stroke-width=\"3.2\"/>\n",
       "<circle clip-path=\"url(#clip172)\" cx=\"1661.73\" cy=\"943.481\" r=\"5\" fill=\"#010109\" fill-rule=\"evenodd\" fill-opacity=\"1\" stroke=\"#000000\" stroke-opacity=\"1\" stroke-width=\"3.2\"/>\n",
       "<circle clip-path=\"url(#clip172)\" cx=\"469.597\" cy=\"228.842\" r=\"4\" fill=\"#000005\" fill-rule=\"evenodd\" fill-opacity=\"1\" stroke=\"#000000\" stroke-opacity=\"1\" stroke-width=\"3.2\"/>\n",
       "<circle clip-path=\"url(#clip172)\" cx=\"1661.73\" cy=\"1372.3\" r=\"6\" fill=\"#02020e\" fill-rule=\"evenodd\" fill-opacity=\"1\" stroke=\"#000000\" stroke-opacity=\"1\" stroke-width=\"3.2\"/>\n",
       "<circle clip-path=\"url(#clip172)\" cx=\"2059.11\" cy=\"228.842\" r=\"11\" fill=\"#0b0724\" fill-rule=\"evenodd\" fill-opacity=\"1\" stroke=\"#000000\" stroke-opacity=\"1\" stroke-width=\"3.2\"/>\n",
       "<circle clip-path=\"url(#clip172)\" cx=\"270.908\" cy=\"1372.3\" r=\"6\" fill=\"#02020e\" fill-rule=\"evenodd\" fill-opacity=\"1\" stroke=\"#000000\" stroke-opacity=\"1\" stroke-width=\"3.2\"/>\n",
       "<circle clip-path=\"url(#clip172)\" cx=\"1463.04\" cy=\"228.842\" r=\"9\" fill=\"#06051b\" fill-rule=\"evenodd\" fill-opacity=\"1\" stroke=\"#000000\" stroke-opacity=\"1\" stroke-width=\"3.2\"/>\n",
       "<circle clip-path=\"url(#clip172)\" cx=\"1065.66\" cy=\"85.838\" r=\"9\" fill=\"#06041b\" fill-rule=\"evenodd\" fill-opacity=\"1\" stroke=\"#000000\" stroke-opacity=\"1\" stroke-width=\"3.2\"/>\n",
       "<circle clip-path=\"url(#clip172)\" cx=\"1065.66\" cy=\"796.643\" r=\"4\" fill=\"#000004\" fill-rule=\"evenodd\" fill-opacity=\"1\" stroke=\"#000000\" stroke-opacity=\"1\" stroke-width=\"3.2\"/>\n",
       "<circle clip-path=\"url(#clip172)\" cx=\"1860.42\" cy=\"228.842\" r=\"10\" fill=\"#0a0623\" fill-rule=\"evenodd\" fill-opacity=\"1\" stroke=\"#000000\" stroke-opacity=\"1\" stroke-width=\"3.2\"/>\n",
       "<circle clip-path=\"url(#clip172)\" cx=\"1065.66\" cy=\"514.66\" r=\"6\" fill=\"#01010b\" fill-rule=\"evenodd\" fill-opacity=\"1\" stroke=\"#000000\" stroke-opacity=\"1\" stroke-width=\"3.2\"/>\n",
       "<circle clip-path=\"url(#clip172)\" cx=\"1860.42\" cy=\"1243.21\" r=\"28\" fill=\"#66156e\" fill-rule=\"evenodd\" fill-opacity=\"1\" stroke=\"#000000\" stroke-opacity=\"1\" stroke-width=\"3.2\"/>\n",
       "<circle clip-path=\"url(#clip172)\" cx=\"270.908\" cy=\"514.66\" r=\"6\" fill=\"#02010d\" fill-rule=\"evenodd\" fill-opacity=\"1\" stroke=\"#000000\" stroke-opacity=\"1\" stroke-width=\"3.2\"/>\n",
       "<circle clip-path=\"url(#clip172)\" cx=\"1860.42\" cy=\"514.66\" r=\"10\" fill=\"#0a0623\" fill-rule=\"evenodd\" fill-opacity=\"1\" stroke=\"#000000\" stroke-opacity=\"1\" stroke-width=\"3.2\"/>\n",
       "<circle clip-path=\"url(#clip172)\" cx=\"2059.11\" cy=\"1072.57\" r=\"30\" fill=\"#751b6d\" fill-rule=\"evenodd\" fill-opacity=\"1\" stroke=\"#000000\" stroke-opacity=\"1\" stroke-width=\"3.2\"/>\n",
       "<circle clip-path=\"url(#clip172)\" cx=\"469.597\" cy=\"1372.3\" r=\"6\" fill=\"#02020e\" fill-rule=\"evenodd\" fill-opacity=\"1\" stroke=\"#000000\" stroke-opacity=\"1\" stroke-width=\"3.2\"/>\n",
       "<circle clip-path=\"url(#clip172)\" cx=\"469.597\" cy=\"85.838\" r=\"4\" fill=\"#000006\" fill-rule=\"evenodd\" fill-opacity=\"1\" stroke=\"#000000\" stroke-opacity=\"1\" stroke-width=\"3.2\"/>\n",
       "<circle clip-path=\"url(#clip172)\" cx=\"1264.35\" cy=\"85.838\" r=\"9\" fill=\"#07051d\" fill-rule=\"evenodd\" fill-opacity=\"1\" stroke=\"#000000\" stroke-opacity=\"1\" stroke-width=\"3.2\"/>\n",
       "<circle clip-path=\"url(#clip172)\" cx=\"2059.11\" cy=\"659.276\" r=\"12\" fill=\"#110930\" fill-rule=\"evenodd\" fill-opacity=\"1\" stroke=\"#000000\" stroke-opacity=\"1\" stroke-width=\"3.2\"/>\n",
       "<circle clip-path=\"url(#clip172)\" cx=\"1264.35\" cy=\"1072.57\" r=\"3\" fill=\"#000003\" fill-rule=\"evenodd\" fill-opacity=\"1\" stroke=\"#000000\" stroke-opacity=\"1\" stroke-width=\"3.2\"/>\n",
       "<circle clip-path=\"url(#clip172)\" cx=\"1661.73\" cy=\"514.66\" r=\"8\" fill=\"#040315\" fill-rule=\"evenodd\" fill-opacity=\"1\" stroke=\"#000000\" stroke-opacity=\"1\" stroke-width=\"3.2\"/>\n",
       "<circle clip-path=\"url(#clip172)\" cx=\"866.975\" cy=\"85.838\" r=\"8\" fill=\"#040316\" fill-rule=\"evenodd\" fill-opacity=\"1\" stroke=\"#000000\" stroke-opacity=\"1\" stroke-width=\"3.2\"/>\n",
       "<circle clip-path=\"url(#clip172)\" cx=\"1860.42\" cy=\"85.838\" r=\"11\" fill=\"#0b0724\" fill-rule=\"evenodd\" fill-opacity=\"1\" stroke=\"#000000\" stroke-opacity=\"1\" stroke-width=\"3.2\"/>\n",
       "<circle clip-path=\"url(#clip172)\" cx=\"668.286\" cy=\"943.481\" r=\"6\" fill=\"#02020e\" fill-rule=\"evenodd\" fill-opacity=\"1\" stroke=\"#000000\" stroke-opacity=\"1\" stroke-width=\"3.2\"/>\n",
       "<circle clip-path=\"url(#clip172)\" cx=\"469.597\" cy=\"514.66\" r=\"4\" fill=\"#000004\" fill-rule=\"evenodd\" fill-opacity=\"1\" stroke=\"#000000\" stroke-opacity=\"1\" stroke-width=\"3.2\"/>\n",
       "<circle clip-path=\"url(#clip172)\" cx=\"270.908\" cy=\"372.103\" r=\"4\" fill=\"#000005\" fill-rule=\"evenodd\" fill-opacity=\"1\" stroke=\"#000000\" stroke-opacity=\"1\" stroke-width=\"3.2\"/>\n",
       "<circle clip-path=\"url(#clip172)\" cx=\"866.975\" cy=\"659.276\" r=\"4\" fill=\"#000004\" fill-rule=\"evenodd\" fill-opacity=\"1\" stroke=\"#000000\" stroke-opacity=\"1\" stroke-width=\"3.2\"/>\n",
       "<circle clip-path=\"url(#clip172)\" cx=\"1661.73\" cy=\"796.643\" r=\"6\" fill=\"#01010b\" fill-rule=\"evenodd\" fill-opacity=\"1\" stroke=\"#000000\" stroke-opacity=\"1\" stroke-width=\"3.2\"/>\n",
       "<circle clip-path=\"url(#clip172)\" cx=\"1860.42\" cy=\"943.481\" r=\"14\" fill=\"#160b39\" fill-rule=\"evenodd\" fill-opacity=\"1\" stroke=\"#000000\" stroke-opacity=\"1\" stroke-width=\"3.2\"/>\n",
       "<circle clip-path=\"url(#clip172)\" cx=\"270.908\" cy=\"1072.57\" r=\"6\" fill=\"#02020e\" fill-rule=\"evenodd\" fill-opacity=\"1\" stroke=\"#000000\" stroke-opacity=\"1\" stroke-width=\"3.2\"/>\n",
       "<circle clip-path=\"url(#clip172)\" cx=\"1264.35\" cy=\"796.643\" r=\"4\" fill=\"#000006\" fill-rule=\"evenodd\" fill-opacity=\"1\" stroke=\"#000000\" stroke-opacity=\"1\" stroke-width=\"3.2\"/>\n",
       "<circle clip-path=\"url(#clip172)\" cx=\"668.286\" cy=\"1372.3\" r=\"6\" fill=\"#02020e\" fill-rule=\"evenodd\" fill-opacity=\"1\" stroke=\"#000000\" stroke-opacity=\"1\" stroke-width=\"3.2\"/>\n",
       "<circle clip-path=\"url(#clip172)\" cx=\"668.286\" cy=\"514.66\" r=\"4\" fill=\"#000004\" fill-rule=\"evenodd\" fill-opacity=\"1\" stroke=\"#000000\" stroke-opacity=\"1\" stroke-width=\"3.2\"/>\n",
       "<circle clip-path=\"url(#clip172)\" cx=\"866.975\" cy=\"1243.21\" r=\"6\" fill=\"#02020e\" fill-rule=\"evenodd\" fill-opacity=\"1\" stroke=\"#000000\" stroke-opacity=\"1\" stroke-width=\"3.2\"/>\n",
       "<circle clip-path=\"url(#clip172)\" cx=\"1860.42\" cy=\"372.103\" r=\"10\" fill=\"#090621\" fill-rule=\"evenodd\" fill-opacity=\"1\" stroke=\"#000000\" stroke-opacity=\"1\" stroke-width=\"3.2\"/>\n",
       "<circle clip-path=\"url(#clip172)\" cx=\"1860.42\" cy=\"659.276\" r=\"10\" fill=\"#090622\" fill-rule=\"evenodd\" fill-opacity=\"1\" stroke=\"#000000\" stroke-opacity=\"1\" stroke-width=\"3.2\"/>\n",
       "<circle clip-path=\"url(#clip172)\" cx=\"1264.35\" cy=\"1372.3\" r=\"6\" fill=\"#02020e\" fill-rule=\"evenodd\" fill-opacity=\"1\" stroke=\"#000000\" stroke-opacity=\"1\" stroke-width=\"3.2\"/>\n",
       "<circle clip-path=\"url(#clip172)\" cx=\"1463.04\" cy=\"943.481\" r=\"4\" fill=\"#010007\" fill-rule=\"evenodd\" fill-opacity=\"1\" stroke=\"#000000\" stroke-opacity=\"1\" stroke-width=\"3.2\"/>\n",
       "<circle clip-path=\"url(#clip172)\" cx=\"469.597\" cy=\"1243.21\" r=\"6\" fill=\"#02020e\" fill-rule=\"evenodd\" fill-opacity=\"1\" stroke=\"#000000\" stroke-opacity=\"1\" stroke-width=\"3.2\"/>\n",
       "<circle clip-path=\"url(#clip172)\" cx=\"1463.04\" cy=\"1243.21\" r=\"3\" fill=\"#000003\" fill-rule=\"evenodd\" fill-opacity=\"1\" stroke=\"#000000\" stroke-opacity=\"1\" stroke-width=\"3.2\"/>\n",
       "<circle clip-path=\"url(#clip172)\" cx=\"1065.66\" cy=\"228.842\" r=\"8\" fill=\"#050417\" fill-rule=\"evenodd\" fill-opacity=\"1\" stroke=\"#000000\" stroke-opacity=\"1\" stroke-width=\"3.2\"/>\n",
       "<circle clip-path=\"url(#clip172)\" cx=\"1065.66\" cy=\"372.103\" r=\"7\" fill=\"#030212\" fill-rule=\"evenodd\" fill-opacity=\"1\" stroke=\"#000000\" stroke-opacity=\"1\" stroke-width=\"3.2\"/>\n",
       "<circle clip-path=\"url(#clip172)\" cx=\"2059.11\" cy=\"796.643\" r=\"15\" fill=\"#1c0c43\" fill-rule=\"evenodd\" fill-opacity=\"1\" stroke=\"#000000\" stroke-opacity=\"1\" stroke-width=\"3.2\"/>\n",
       "<circle clip-path=\"url(#clip172)\" cx=\"2059.11\" cy=\"514.66\" r=\"11\" fill=\"#0d0828\" fill-rule=\"evenodd\" fill-opacity=\"1\" stroke=\"#000000\" stroke-opacity=\"1\" stroke-width=\"3.2\"/>\n",
       "<circle clip-path=\"url(#clip172)\" cx=\"270.908\" cy=\"228.842\" r=\"4\" fill=\"#000004\" fill-rule=\"evenodd\" fill-opacity=\"1\" stroke=\"#000000\" stroke-opacity=\"1\" stroke-width=\"3.2\"/>\n",
       "<circle clip-path=\"url(#clip172)\" cx=\"866.975\" cy=\"796.643\" r=\"4\" fill=\"#000004\" fill-rule=\"evenodd\" fill-opacity=\"1\" stroke=\"#000000\" stroke-opacity=\"1\" stroke-width=\"3.2\"/>\n",
       "<circle clip-path=\"url(#clip172)\" cx=\"1463.04\" cy=\"372.103\" r=\"9\" fill=\"#060419\" fill-rule=\"evenodd\" fill-opacity=\"1\" stroke=\"#000000\" stroke-opacity=\"1\" stroke-width=\"3.2\"/>\n",
       "<circle clip-path=\"url(#clip172)\" cx=\"668.286\" cy=\"1243.21\" r=\"6\" fill=\"#02020e\" fill-rule=\"evenodd\" fill-opacity=\"1\" stroke=\"#000000\" stroke-opacity=\"1\" stroke-width=\"3.2\"/>\n",
       "<circle clip-path=\"url(#clip172)\" cx=\"668.286\" cy=\"85.838\" r=\"6\" fill=\"#02020e\" fill-rule=\"evenodd\" fill-opacity=\"1\" stroke=\"#000000\" stroke-opacity=\"1\" stroke-width=\"3.2\"/>\n",
       "<circle clip-path=\"url(#clip172)\" cx=\"270.908\" cy=\"1243.21\" r=\"6\" fill=\"#02020e\" fill-rule=\"evenodd\" fill-opacity=\"1\" stroke=\"#000000\" stroke-opacity=\"1\" stroke-width=\"3.2\"/>\n",
       "<circle clip-path=\"url(#clip172)\" cx=\"270.908\" cy=\"659.276\" r=\"6\" fill=\"#02020e\" fill-rule=\"evenodd\" fill-opacity=\"1\" stroke=\"#000000\" stroke-opacity=\"1\" stroke-width=\"3.2\"/>\n",
       "<circle clip-path=\"url(#clip172)\" cx=\"2059.11\" cy=\"85.838\" r=\"11\" fill=\"#0b0725\" fill-rule=\"evenodd\" fill-opacity=\"1\" stroke=\"#000000\" stroke-opacity=\"1\" stroke-width=\"3.2\"/>\n",
       "<circle clip-path=\"url(#clip172)\" cx=\"668.286\" cy=\"372.103\" r=\"4\" fill=\"#000005\" fill-rule=\"evenodd\" fill-opacity=\"1\" stroke=\"#000000\" stroke-opacity=\"1\" stroke-width=\"3.2\"/>\n",
       "<circle clip-path=\"url(#clip172)\" cx=\"1065.66\" cy=\"659.276\" r=\"4\" fill=\"#000006\" fill-rule=\"evenodd\" fill-opacity=\"1\" stroke=\"#000000\" stroke-opacity=\"1\" stroke-width=\"3.2\"/>\n",
       "<circle clip-path=\"url(#clip172)\" cx=\"1463.04\" cy=\"85.838\" r=\"9\" fill=\"#07051c\" fill-rule=\"evenodd\" fill-opacity=\"1\" stroke=\"#000000\" stroke-opacity=\"1\" stroke-width=\"3.2\"/>\n",
       "<circle clip-path=\"url(#clip172)\" cx=\"2059.11\" cy=\"943.481\" r=\"24\" fill=\"#500d6c\" fill-rule=\"evenodd\" fill-opacity=\"1\" stroke=\"#000000\" stroke-opacity=\"1\" stroke-width=\"3.2\"/>\n",
       "<circle clip-path=\"url(#clip172)\" cx=\"1264.35\" cy=\"943.481\" r=\"4\" fill=\"#000004\" fill-rule=\"evenodd\" fill-opacity=\"1\" stroke=\"#000000\" stroke-opacity=\"1\" stroke-width=\"3.2\"/>\n",
       "<circle clip-path=\"url(#clip172)\" cx=\"469.597\" cy=\"659.276\" r=\"5\" fill=\"#010008\" fill-rule=\"evenodd\" fill-opacity=\"1\" stroke=\"#000000\" stroke-opacity=\"1\" stroke-width=\"3.2\"/>\n",
       "<circle clip-path=\"url(#clip172)\" cx=\"469.597\" cy=\"796.643\" r=\"6\" fill=\"#02020e\" fill-rule=\"evenodd\" fill-opacity=\"1\" stroke=\"#000000\" stroke-opacity=\"1\" stroke-width=\"3.2\"/>\n",
       "<circle clip-path=\"url(#clip172)\" cx=\"1463.04\" cy=\"1072.57\" r=\"4\" fill=\"#000005\" fill-rule=\"evenodd\" fill-opacity=\"1\" stroke=\"#000000\" stroke-opacity=\"1\" stroke-width=\"3.2\"/>\n",
       "<circle clip-path=\"url(#clip172)\" cx=\"866.975\" cy=\"1372.3\" r=\"6\" fill=\"#02020e\" fill-rule=\"evenodd\" fill-opacity=\"1\" stroke=\"#000000\" stroke-opacity=\"1\" stroke-width=\"3.2\"/>\n",
       "<circle clip-path=\"url(#clip172)\" cx=\"469.597\" cy=\"943.481\" r=\"6\" fill=\"#02020e\" fill-rule=\"evenodd\" fill-opacity=\"1\" stroke=\"#000000\" stroke-opacity=\"1\" stroke-width=\"3.2\"/>\n",
       "<circle clip-path=\"url(#clip172)\" cx=\"270.908\" cy=\"85.838\" r=\"4\" fill=\"#000004\" fill-rule=\"evenodd\" fill-opacity=\"1\" stroke=\"#000000\" stroke-opacity=\"1\" stroke-width=\"3.2\"/>\n",
       "<circle clip-path=\"url(#clip172)\" cx=\"1463.04\" cy=\"1372.3\" r=\"6\" fill=\"#02020e\" fill-rule=\"evenodd\" fill-opacity=\"1\" stroke=\"#000000\" stroke-opacity=\"1\" stroke-width=\"3.2\"/>\n",
       "<circle clip-path=\"url(#clip172)\" cx=\"1065.66\" cy=\"1243.21\" r=\"6\" fill=\"#02020e\" fill-rule=\"evenodd\" fill-opacity=\"1\" stroke=\"#000000\" stroke-opacity=\"1\" stroke-width=\"3.2\"/>\n",
       "<circle clip-path=\"url(#clip172)\" cx=\"2059.11\" cy=\"372.103\" r=\"11\" fill=\"#0b0724\" fill-rule=\"evenodd\" fill-opacity=\"1\" stroke=\"#000000\" stroke-opacity=\"1\" stroke-width=\"3.2\"/>\n",
       "<circle clip-path=\"url(#clip172)\" cx=\"668.286\" cy=\"796.643\" r=\"4\" fill=\"#000005\" fill-rule=\"evenodd\" fill-opacity=\"1\" stroke=\"#000000\" stroke-opacity=\"1\" stroke-width=\"3.2\"/>\n",
       "<circle clip-path=\"url(#clip172)\" cx=\"469.597\" cy=\"372.103\" r=\"4\" fill=\"#000004\" fill-rule=\"evenodd\" fill-opacity=\"1\" stroke=\"#000000\" stroke-opacity=\"1\" stroke-width=\"3.2\"/>\n",
       "<circle clip-path=\"url(#clip172)\" cx=\"866.975\" cy=\"1072.57\" r=\"6\" fill=\"#02010d\" fill-rule=\"evenodd\" fill-opacity=\"1\" stroke=\"#000000\" stroke-opacity=\"1\" stroke-width=\"3.2\"/>\n",
       "<circle clip-path=\"url(#clip172)\" cx=\"1264.35\" cy=\"372.103\" r=\"8\" fill=\"#050418\" fill-rule=\"evenodd\" fill-opacity=\"1\" stroke=\"#000000\" stroke-opacity=\"1\" stroke-width=\"3.2\"/>\n",
       "<circle clip-path=\"url(#clip172)\" cx=\"2059.11\" cy=\"1372.3\" r=\"6\" fill=\"#02020e\" fill-rule=\"evenodd\" fill-opacity=\"1\" stroke=\"#000000\" stroke-opacity=\"1\" stroke-width=\"3.2\"/>\n",
       "<circle clip-path=\"url(#clip172)\" cx=\"2059.11\" cy=\"1243.21\" r=\"61\" fill=\"#fcfea4\" fill-rule=\"evenodd\" fill-opacity=\"1\" stroke=\"#000000\" stroke-opacity=\"1\" stroke-width=\"3.2\"/>\n",
       "<circle clip-path=\"url(#clip172)\" cx=\"469.597\" cy=\"1072.57\" r=\"6\" fill=\"#02020e\" fill-rule=\"evenodd\" fill-opacity=\"1\" stroke=\"#000000\" stroke-opacity=\"1\" stroke-width=\"3.2\"/>\n",
       "<circle clip-path=\"url(#clip172)\" cx=\"1065.66\" cy=\"1072.57\" r=\"4\" fill=\"#000004\" fill-rule=\"evenodd\" fill-opacity=\"1\" stroke=\"#000000\" stroke-opacity=\"1\" stroke-width=\"3.2\"/>\n",
       "<circle clip-path=\"url(#clip172)\" cx=\"866.975\" cy=\"943.481\" r=\"4\" fill=\"#000004\" fill-rule=\"evenodd\" fill-opacity=\"1\" stroke=\"#000000\" stroke-opacity=\"1\" stroke-width=\"3.2\"/>\n",
       "<circle clip-path=\"url(#clip172)\" cx=\"270.908\" cy=\"796.643\" r=\"6\" fill=\"#02020e\" fill-rule=\"evenodd\" fill-opacity=\"1\" stroke=\"#000000\" stroke-opacity=\"1\" stroke-width=\"3.2\"/>\n",
       "<circle clip-path=\"url(#clip172)\" cx=\"1661.73\" cy=\"228.842\" r=\"8\" fill=\"#050419\" fill-rule=\"evenodd\" fill-opacity=\"1\" stroke=\"#000000\" stroke-opacity=\"1\" stroke-width=\"3.2\"/>\n",
       "<circle clip-path=\"url(#clip172)\" cx=\"1661.73\" cy=\"1072.57\" r=\"5\" fill=\"#010007\" fill-rule=\"evenodd\" fill-opacity=\"1\" stroke=\"#000000\" stroke-opacity=\"1\" stroke-width=\"3.2\"/>\n",
       "<circle clip-path=\"url(#clip172)\" cx=\"1463.04\" cy=\"659.276\" r=\"7\" fill=\"#030211\" fill-rule=\"evenodd\" fill-opacity=\"1\" stroke=\"#000000\" stroke-opacity=\"1\" stroke-width=\"3.2\"/>\n",
       "<circle clip-path=\"url(#clip172)\" cx=\"1463.04\" cy=\"796.643\" r=\"5\" fill=\"#01010b\" fill-rule=\"evenodd\" fill-opacity=\"1\" stroke=\"#000000\" stroke-opacity=\"1\" stroke-width=\"3.2\"/>\n",
       "<circle clip-path=\"url(#clip172)\" cx=\"1860.42\" cy=\"796.643\" r=\"11\" fill=\"#0b0725\" fill-rule=\"evenodd\" fill-opacity=\"1\" stroke=\"#000000\" stroke-opacity=\"1\" stroke-width=\"3.2\"/>\n",
       "<defs>\n",
       "  <clipPath id=\"clip173\">\n",
       "    <rect x=\"2160\" y=\"47\" width=\"73\" height=\"1365\"/>\n",
       "  </clipPath>\n",
       "</defs>\n",
       "<g clip-path=\"url(#clip173)\">\n",
       "<image width=\"72\" height=\"1364\" xlink:href=\"data:image/png;base64,\n",
       "iVBORw0KGgoAAAANSUhEUgAAAEgAAAVUCAYAAABzwV4AAAAL0klEQVR4nO3dwY3sRhAFQY5Q/lsh\n",
       "L6XfLQtUeSQPERYsEg+zZJM7+/v3/H0f/tdfb/8AXydQECgIFAQKc+6/b/8Mn2ZBQaAgUBAozL1/\n",
       "3v4ZPs2CgkBBoCBQcCUdLCgIFAQKAgWBwly/xVYWFAQKAgWBwtzjQ3pjQUGgIFAQKLiSDhYUBAoC\n",
       "BYGCQMFvsWBBQaAgUBAoOA8KFhQECgIFgcI8rqRXFhQECgIFgYJAwXlQsKAgUBAoCBTmcR60sqAg\n",
       "UBAoCBTmOf+8/TN8mgUFgYJAQaAgUPBUI1hQECgIFAQKzoOCBQWBgkBBoOBDOlhQECgIFAQKAgXn\n",
       "QcGCgkBBoCBQmJ9bjZUFBYGCQEGgMM/xpf8bCwoCBYGCQEGg4FYjWFAQKAgUBApuNYIFBYGCQEGg\n",
       "4P2gYEFBoCBQECgIFObnVmNlQUGgIFAQKHiJM1hQECgIFAQKrqSDBQWBgkBBoCBQ8Og5WFAQKAgU\n",
       "BApuNYIFBYGCQEGg4Eo6WFAQKAgUBAoCBbcawYKCQEGgIFCY55y3f4ZPs6AgUBAoCBRcSQcLCgIF\n",
       "gYJAQaDgqUawoCBQECgIFHxIBwsKAgWBgkBhfg7tVxYUBAoCBYGCQMGtRrCgIFAQKAgUvB8ULCgI\n",
       "FAQKAgXnQcGCgkBBoCBQECg4DwoWFAQKAgWBgvOgYEFBoCBQECj4kA4WFAQKAgWBgkDBXz0HCwoC\n",
       "BYGCQMGtRrCgIFAQKAgUfEgHCwoCBYGCQEGg4LdYsKAgUBAoCBR8SAcLCgIFgYJAYZ7rQ3pjQUGg\n",
       "IFAQKAgU3GoECwoCBYGCQMGHdLCgIFAQKAgUfEgHCwoCBYGCQEGgMM+5b/8Mn2ZBQaAgUBAouNUI\n",
       "FhQECgIFgYIr6WBBQaAgUBAoCBTcagQLCgIFgYJAwa1GsKAgUBAoCBTmcSG9sqAgUBAoCBQECvNc\n",
       "txobCwoCBYGCQMGtRrCgIFAQKAgUfEgHCwoCBYGCQEGgML4Eb2dBQaAgUBAouNUIFhQECgIFgYIP\n",
       "6WBBQaAgUBAoCBTmOb+3f4ZPs6AgUBAoCBTmXh/SGwsKAgWBgkDBeVCwoCBQECgIFBx3BAsKAgWB\n",
       "gkBBoDD3aLRRJwgUBAoCBbcawYKCQEGgIFCYx5PVlQUFgYJAQaAgUJjrVmNlQUGgIFAQKMzj0H6l\n",
       "ThAoCBQECq6kgwUFgYJAQaAgUPBUI1hQECgIFAQKXuIM6gSBgkBBoOAlzmBBQaAgUBAoCBQ81QgW\n",
       "FAQKAgWBwtyr0UadIFAQKAgUnAcFCwoCBYGCQEGg4DwoWFAQKAgUBArzOA9aqRMECgIFgYIr6WBB\n",
       "QaAgUBAoCBT8FgsWFAQKAgWBgj/qDRYUBAoCBYGCP+oN6gSBgkBBoCBQ8P/mgwUFgYJAQaDg0D5Y\n",
       "UBAoCBQECr70P6gTBAoCBYGCQMF5ULCgIFAQKAgUnAcFCwoCBYGCQMGVdLCgIFAQKAgUBArecg3q\n",
       "BIGCQEGg4FYjWFAQKAgUBAoO7YMFBYGCQEGgIFBwqxEsKAgUBAoCBf+6JlhQECgIFAQK/glkUCcI\n",
       "FAQKAgWBgvOgYEFBoCBQECh49BwsKAgUBAoCBVfSwYKCQEGgIFAQKMzxW2xlQUGgIFAQKPij3qBO\n",
       "ECgIFAQKzoOCBQWBgkBBoCBQ8FssWFAQKAgUBAreDwoWFAQKAgWBgivpYEFBoCBQECgIFPwWCxYU\n",
       "BAoCBYGCr6YI6gSBgkBBoDDHof3KgoJAQaAgUBAoOA8KFhQECgIFgYIP6WBBQaAgUBAo+JAOFhQE\n",
       "CgIFgYJAwfcHBQsKAgWBgkDBrUawoCBQECgIFHxIBwsKAgWBgkBBoOBPEYI6QaAgUBAo+FOEYEFB\n",
       "oCBQECg4DwoWFAQKAgWBgkDBb7FgQUGgIFAQKHiJM1hQECgIFAQKrqSDBQWBgkBBoCBQmPv4Lbax\n",
       "oCBQECgIFJwHBQsKAgWBgkDBeVCwoCBQECgIFAQKbjWCBQWBgkBBoOBWI1hQECgIFAQKrqSDBQWB\n",
       "gkBBoCBQcKsRLCgIFAQKAgUf0sGCgkBBoCBQmONN+5UFBYGCQEGg4Eo6WFAQKAgUBAoCBY+egwUF\n",
       "gYJAQaAw9779I3ybBQWBgkBBoOBKOlhQECgIFAQKAgVf8hYsKAgUBAoCBbcawYKCQEGgIFDwflCw\n",
       "oCBQECgIFAQK/hQhWFAQKAgUBAreDwoWFAQKAgWBgkP7YEFBoCBQECgIFDzVCBYUBAoCBYGCQ/tg\n",
       "QUGgIFAQKDgPChYUBAoCBYGCQMGj52BBQaAgUBAoOA8KFhQECgIFgYInq8GCgkBBoCBQECjMefsn\n",
       "+DgLCgIFgYJAwa1GsKAgUBAoCBS8HxQsKAgUBAoCBYGC86BgQUGgIFAQKDgPChYUBAoCBYGCK+lg\n",
       "QUGgIFAQKAgU3GoECwoCBYGCQMGj52BBQaAgUBAojC9e2FlQECgIFAQKAgW3GsGCgkBBoCBQ8Og5\n",
       "WFAQKAgUBAqerAYLCgIFgYJAQaDgViNYUBAoCBQECm41ggUFgYJAQaAwxwtCKwsKAgWBgkBBoOA8\n",
       "KFhQECgIFAQKzoOCBQWBgkBBoOBKOlhQECgIFAQKAgX/bz5YUBAoCBQECv7ffLCgIFAQKAgUvB8U\n",
       "LCgIFAQKAgWBgm/BCxYUBAoCBYGCL3kLFhQECgIFgYInq8GCgkBBoCBQECh4yzVYUBAoCBQECv5e\n",
       "LFhQECgIFAQKrqSDBQWBgkBBoCBQ8JZrsKAgUBAoCBS8xBksKAgUBAoCBVfSwYKCQEGgIFAQKHjL\n",
       "NVhQECgIFAQKvj8oWFAQKAgUBArOg4IFBYGCQEGgIFDw6DlYUBAoCBQECm41ggUFgYJAQaDgSjpY\n",
       "UBAoCBQECgIFtxrBgoJAQaAgUPAhHSwoCBQECgIF50HBgoJAQaAgUBAouNUIFhQECgIFgYJbjWBB\n",
       "QaAgUBAouJIOFhQECgIFgYJAwfcHBQsKAgWBgkDBv64JFhQECgIFgYLzoGBBQaAgUBAoCBTmPn6N\n",
       "bSwoCBQECgIFtxrBgoJAQaAgUPBkNVhQECgIFAQKnqwGCwoCBYGCQEGg4DwoWFAQKAgUBAqerAYL\n",
       "CgIFgYJAwZV0sKAgUBAoCBQECr4/KFhQECgIFAQKc7wgtLKgIFAQKAgUvB8ULCgIFAQKAgWBwly3\n",
       "GisLCgIFgYJAwa1GsKAgUBAoCBQc2gcLCgIFgYJAQaDg/aBgQUGgIFAQKMzx92IrCwoCBYGCQMF5\n",
       "ULCgIFAQKAgUBAq+miJYUBAoCBQECt4PChYUBAoCBYGCQ/tgQUGgIFAQKAgUnAcFCwoCBYGCQGHO\n",
       "40RoY0FBoCBQECg4DwoWFAQKAgWBgkDBb7FgQUGgIFAQKDi0DxYUBAoCBYGCQ/tgQUGgIFAQKAgU\n",
       "5vzcamwsKAgUBAoCBbcawYKCQEGgIFCY60N6ZUFBoCBQECgIFNxqBAsKAgWBgkBhzs+H9MaCgkBB\n",
       "oCBQcCUdLCgIFAQKAgWBgqcawYKCQEGgIFBwqxEsKAgUBAoCBR/SwYKCQEGgIFAQKHj0HCwoCBQE\n",
       "CgKFuc+ft3+GT7OgIFAQKAgUnAcFCwoCBYGCQEGg4P2gYEFBoCBQECjMuc6DNhYUBAoCBYGCK+lg\n",
       "QUGgIFAQKAgU5nj0vLKgIFAQKAgU3GoECwoCBYGCQMGVdLCgIFAQKAgUBApzr1uNjQUFgYJAQaDg\n",
       "PChYUBAoCBQECl7iDBYUBAoCBYGCQMGtRrCgIFAQKAgU5rrVWFlQECgIFAQKrqSDBQWBgkBBoCBQ\n",
       "mOP9oJUFBYGCQEGg4PukgwUFgYJAQaDgTftgQUGgIFAQKAgUPNUIFhQECgIFgYJbjWBBQaAgUBAo\n",
       "+JAOFhQECgIFgYJAwaPnYEFBoCBQECi41QgWFAQKAgWBwjyerK4sKAgUBAoCBYGCW41gQUGgIFAQ\n",
       "KHiJM1hQECgIFAQK87iSXllQECgIFAQKAgXvBwULCgIFgYJAwaPnYEFBoCBQECg4DwoWFAQKAgWB\n",
       "gkBh7nPf/hk+zYKCQEGgIFBwHhQsKAgUBAoChXlcSa8sKAgUBAoChf8AJ8ztt7m0cDkAAAAASUVO\n",
       "RK5CYII=\n",
       "\" transform=\"translate(2161, 47)\"/>\n",
       "</g>\n",
       "<path clip-path=\"url(#clip170)\" d=\"M 0 0 M2269.43 1349.34 L2277.07 1349.34 L2277.07 1322.98 L2268.76 1324.64 L2268.76 1320.38 L2277.02 1318.72 L2281.7 1318.72 L2281.7 1349.34 L2289.33 1349.34 L2289.33 1353.28 L2269.43 1353.28 L2269.43 1349.34 Z\" fill=\"#000000\" fill-rule=\"evenodd\" fill-opacity=\"1\" /><path clip-path=\"url(#clip170)\" d=\"M 0 0 M2274.38 1175.24 L2290.7 1175.24 L2290.7 1179.17 L2268.76 1179.17 L2268.76 1175.24 Q2271.42 1172.48 2276 1167.85 Q2280.61 1163.2 2281.79 1161.86 Q2284.03 1159.33 2284.91 1157.6 Q2285.82 1155.84 2285.82 1154.15 Q2285.82 1151.39 2283.87 1149.66 Q2281.95 1147.92 2278.85 1147.92 Q2276.65 1147.92 2274.2 1148.69 Q2271.77 1149.45 2268.99 1151 L2268.99 1146.28 Q2271.81 1145.14 2274.27 1144.57 Q2276.72 1143.99 2278.76 1143.99 Q2284.13 1143.99 2287.32 1146.67 Q2290.52 1149.36 2290.52 1153.85 Q2290.52 1155.98 2289.7 1157.9 Q2288.92 1159.8 2286.81 1162.39 Q2286.23 1163.06 2283.13 1166.28 Q2280.03 1169.47 2274.38 1175.24 Z\" fill=\"#000000\" fill-rule=\"evenodd\" fill-opacity=\"1\" /><path clip-path=\"url(#clip170)\" d=\"M 0 0 M2284.38 986.433 Q2287.74 987.151 2289.61 989.419 Q2291.51 991.688 2291.51 995.021 Q2291.51 1000.14 2287.99 1002.94 Q2284.47 1005.74 2277.99 1005.74 Q2275.82 1005.74 2273.5 1005.3 Q2271.21 1004.88 2268.76 1004.03 L2268.76 999.512 Q2270.7 1000.65 2273.02 1001.22 Q2275.33 1001.8 2277.85 1001.8 Q2282.25 1001.8 2284.54 1000.07 Q2286.86 998.331 2286.86 995.021 Q2286.86 991.966 2284.7 990.253 Q2282.58 988.517 2278.76 988.517 L2274.73 988.517 L2274.73 984.674 L2278.94 984.674 Q2282.39 984.674 2284.22 983.308 Q2286.05 981.919 2286.05 979.327 Q2286.05 976.665 2284.15 975.253 Q2282.27 973.818 2278.76 973.818 Q2276.83 973.818 2274.64 974.234 Q2272.44 974.651 2269.8 975.53 L2269.8 971.364 Q2272.46 970.623 2274.77 970.253 Q2277.11 969.882 2279.17 969.882 Q2284.5 969.882 2287.6 972.313 Q2290.7 974.72 2290.7 978.841 Q2290.7 981.711 2289.06 983.702 Q2287.41 985.669 2284.38 986.433 Z\" fill=\"#000000\" fill-rule=\"evenodd\" fill-opacity=\"1\" /><path clip-path=\"url(#clip170)\" d=\"M 0 0 M2284.36 800.477 L2272.55 818.926 L2284.36 818.926 L2284.36 800.477 M2283.13 796.403 L2289.01 796.403 L2289.01 818.926 L2293.94 818.926 L2293.94 822.814 L2289.01 822.814 L2289.01 830.963 L2284.36 830.963 L2284.36 822.814 L2268.76 822.814 L2268.76 818.301 L2283.13 796.403 Z\" fill=\"#000000\" fill-rule=\"evenodd\" fill-opacity=\"1\" /><path clip-path=\"url(#clip170)\" d=\"M 0 0 M2270.21 622.298 L2288.57 622.298 L2288.57 626.233 L2274.5 626.233 L2274.5 634.705 Q2275.52 634.358 2276.53 634.196 Q2277.55 634.011 2278.57 634.011 Q2284.36 634.011 2287.74 637.182 Q2291.12 640.353 2291.12 645.77 Q2291.12 651.348 2287.64 654.45 Q2284.17 657.529 2277.85 657.529 Q2275.68 657.529 2273.41 657.159 Q2271.16 656.788 2268.76 656.047 L2268.76 651.348 Q2270.84 652.483 2273.06 653.038 Q2275.28 653.594 2277.76 653.594 Q2281.77 653.594 2284.1 651.487 Q2286.44 649.381 2286.44 645.77 Q2286.44 642.159 2284.1 640.052 Q2281.77 637.946 2277.76 637.946 Q2275.89 637.946 2274.01 638.362 Q2272.16 638.779 2270.21 639.659 L2270.21 622.298 Z\" fill=\"#000000\" fill-rule=\"evenodd\" fill-opacity=\"1\" /><path clip-path=\"url(#clip170)\" d=\"M 0 0 M2281.09 463.609 Q2277.95 463.609 2276.09 465.762 Q2274.27 467.915 2274.27 471.665 Q2274.27 475.392 2276.09 477.568 Q2277.95 479.72 2281.09 479.72 Q2284.24 479.72 2286.07 477.568 Q2287.92 475.392 2287.92 471.665 Q2287.92 467.915 2286.07 465.762 Q2284.24 463.609 2281.09 463.609 M2290.38 448.957 L2290.38 453.216 Q2288.62 452.383 2286.81 451.943 Q2285.03 451.503 2283.27 451.503 Q2278.64 451.503 2276.19 454.628 Q2273.76 457.753 2273.41 464.072 Q2274.77 462.058 2276.83 460.994 Q2278.89 459.906 2281.37 459.906 Q2286.58 459.906 2289.59 463.077 Q2292.62 466.225 2292.62 471.665 Q2292.62 476.989 2289.47 480.206 Q2286.33 483.424 2281.09 483.424 Q2275.1 483.424 2271.93 478.841 Q2268.76 474.234 2268.76 465.507 Q2268.76 457.313 2272.64 452.452 Q2276.53 447.568 2283.08 447.568 Q2284.84 447.568 2286.63 447.915 Q2288.43 448.262 2290.38 448.957 Z\" fill=\"#000000\" fill-rule=\"evenodd\" fill-opacity=\"1\" /><path clip-path=\"url(#clip170)\" d=\"M 0 0 M2268.76 274.088 L2290.98 274.088 L2290.98 276.079 L2278.43 308.648 L2273.55 308.648 L2285.35 278.023 L2268.76 278.023 L2268.76 274.088 Z\" fill=\"#000000\" fill-rule=\"evenodd\" fill-opacity=\"1\" /><path clip-path=\"url(#clip170)\" d=\"M 0 0 M2280.61 118.131 Q2277.27 118.131 2275.35 119.913 Q2273.45 121.696 2273.45 124.821 Q2273.45 127.946 2275.35 129.728 Q2277.27 131.511 2280.61 131.511 Q2283.94 131.511 2285.86 129.728 Q2287.78 127.923 2287.78 124.821 Q2287.78 121.696 2285.86 119.913 Q2283.96 118.131 2280.61 118.131 M2275.93 116.14 Q2272.92 115.4 2271.23 113.339 Q2269.57 111.279 2269.57 108.316 Q2269.57 104.173 2272.51 101.765 Q2275.47 99.358 2280.61 99.358 Q2285.77 99.358 2288.71 101.765 Q2291.65 104.173 2291.65 108.316 Q2291.65 111.279 2289.96 113.339 Q2288.29 115.4 2285.31 116.14 Q2288.69 116.927 2290.56 119.219 Q2292.46 121.511 2292.46 124.821 Q2292.46 129.844 2289.38 132.529 Q2286.33 135.214 2280.61 135.214 Q2274.89 135.214 2271.81 132.529 Q2268.76 129.844 2268.76 124.821 Q2268.76 121.511 2270.65 119.219 Q2272.55 116.927 2275.93 116.14 M2274.22 108.756 Q2274.22 111.441 2275.89 112.946 Q2277.58 114.451 2280.61 114.451 Q2283.62 114.451 2285.31 112.946 Q2287.02 111.441 2287.02 108.756 Q2287.02 106.071 2285.31 104.566 Q2283.62 103.062 2280.61 103.062 Q2277.58 103.062 2275.89 104.566 Q2274.22 106.071 2274.22 108.756 Z\" fill=\"#000000\" fill-rule=\"evenodd\" fill-opacity=\"1\" /><polyline clip-path=\"url(#clip170)\" style=\"stroke:#000000; stroke-width:4; stroke-opacity:1; fill:none\" points=\"\n",
       "  2232.76,1410.9 2232.76,1339.63 2256.76,1339.63 2232.76,1339.63 2232.76,1165.52 2256.76,1165.52 2232.76,1165.52 2232.76,991.416 2256.76,991.416 2232.76,991.416 \n",
       "  2232.76,817.311 2256.76,817.311 2232.76,817.311 2232.76,643.206 2256.76,643.206 2232.76,643.206 2232.76,469.102 2256.76,469.102 2232.76,469.102 2232.76,294.997 \n",
       "  2256.76,294.997 2232.76,294.997 2232.76,120.892 2256.76,120.892 2232.76,120.892 2232.76,47.2441 \n",
       "  \"/>\n",
       "</svg>\n"
      ]
     },
     "execution_count": 26,
     "metadata": {},
     "output_type": "execute_result"
    }
   ],
   "source": [
    "plot(self_tuning_boost)"
   ]
  },
  {
   "cell_type": "code",
   "execution_count": 27,
   "metadata": {},
   "outputs": [
    {
     "data": {
      "text/plain": [
       "AdaBoostClassifier(\n",
       "    base_estimator = nothing,\n",
       "    n_estimators = 2,\n",
       "    learning_rate = 1.2915496650148839,\n",
       "    algorithm = \"SAMME.R\",\n",
       "    random_state = nothing)\u001b[34m @400\u001b[39m"
      ]
     },
     "execution_count": 27,
     "metadata": {},
     "output_type": "execute_result"
    }
   ],
   "source": [
    "best = fitted_params(self_tuning_boost)\n",
    "best.best_model"
   ]
  },
  {
   "cell_type": "code",
   "execution_count": 28,
   "metadata": {},
   "outputs": [
    {
     "data": {
      "text/plain": [
       "0.59064"
      ]
     },
     "execution_count": 28,
     "metadata": {},
     "output_type": "execute_result"
    }
   ],
   "source": [
    "best_loss = round(z.report.best_result.measurement[1],digits=5)"
   ]
  },
  {
   "cell_type": "code",
   "execution_count": 29,
   "metadata": {},
   "outputs": [
    {
     "data": {
      "text/plain": [
       "1.2915496650148839"
      ]
     },
     "execution_count": 29,
     "metadata": {},
     "output_type": "execute_result"
    }
   ],
   "source": [
    "best_n = best.best_model.n_estimators\n",
    "best_lr = best.best_model.learning_rate"
   ]
  },
  {
   "cell_type": "code",
   "execution_count": 30,
   "metadata": {},
   "outputs": [],
   "source": [
    "fn = \"Figures/LearningCurve_Boost_nestimators:$(best_n)_lr:$(best_lr)_loss:$(best_loss)\"\n",
    "png(replace(fn,'.' => ','))"
   ]
  },
  {
   "cell_type": "markdown",
   "metadata": {},
   "source": [
    "### Learning Curves"
   ]
  },
  {
   "cell_type": "code",
   "execution_count": 31,
   "metadata": {
    "scrolled": true
   },
   "outputs": [
    {
     "name": "stdout",
     "output_type": "stream",
     "text": [
      "(d, train_metric, valid_metric) = (10, 1.0, 0.46078431372549017)\n",
      "(d, train_metric, valid_metric) = (15, 0.8, 0.37254901960784315)\n",
      "(d, train_metric, valid_metric) = (20, 0.8, 0.4823529411764706)\n",
      "(d, train_metric, valid_metric) = (25, 0.72, 0.403921568627451)\n",
      "(d, train_metric, valid_metric) = (30, 0.8, 0.5980392156862745)\n",
      "(d, train_metric, valid_metric) = (35, 0.7428571428571429, 0.5078431372549019)\n",
      "(d, train_metric, valid_metric) = (40, 0.55, 0.4294117647058823)\n",
      "(d, train_metric, valid_metric) = (45, 0.5555555555555556, 0.4294117647058823)\n",
      "(d, train_metric, valid_metric) = (50, 0.48, 0.396078431372549)\n",
      "(d, train_metric, valid_metric) = (55, 0.6181818181818182, 0.4392156862745098)\n",
      "(d, train_metric, valid_metric) = (60, 0.6166666666666667, 0.4392156862745098)\n",
      "(d, train_metric, valid_metric) = (65, 0.676923076923077, 0.6862745098039216)\n",
      "(d, train_metric, valid_metric) = (70, 0.7428571428571429, 0.6725490196078432)\n",
      "(d, train_metric, valid_metric) = (75, 0.7066666666666667, 0.6862745098039216)\n",
      "(d, train_metric, valid_metric) = (80, 0.7, 0.6666666666666666)\n",
      "(d, train_metric, valid_metric) = (85, 0.7294117647058823, 0.6862745098039216)\n",
      "(d, train_metric, valid_metric) = (90, 0.6888888888888889, 0.6666666666666666)\n",
      "(d, train_metric, valid_metric) = (95, 0.6947368421052632, 0.6666666666666666)\n",
      "(d, train_metric, valid_metric) = (100, 0.47, 0.47058823529411764)\n",
      "(d, train_metric, valid_metric) = (105, 0.6476190476190476, 0.6)\n",
      "(d, train_metric, valid_metric) = (110, 0.6454545454545455, 0.6)\n",
      "(d, train_metric, valid_metric) = (115, 0.6521739130434783, 0.6313725490196078)\n",
      "(d, train_metric, valid_metric) = (120, 0.65, 0.6666666666666666)\n",
      "(d, train_metric, valid_metric) = (125, 0.656, 0.6666666666666666)\n",
      "(d, train_metric, valid_metric) = (130, 0.6846153846153846, 0.6862745098039216)\n",
      "(d, train_metric, valid_metric) = (135, 0.6962962962962963, 0.6862745098039216)\n",
      "(d, train_metric, valid_metric) = (140, 0.6571428571428571, 0.6666666666666666)\n",
      "(d, train_metric, valid_metric) = (145, 0.6827586206896552, 0.6862745098039216)\n",
      "(d, train_metric, valid_metric) = (150, 0.6866666666666666, 0.6862745098039216)\n",
      "(d, train_metric, valid_metric) = (155, 0.6903225806451613, 0.6862745098039216)\n",
      "(d, train_metric, valid_metric) = (160, 0.68125, 0.6862745098039216)\n",
      "(d, train_metric, valid_metric) = (165, 0.6848484848484848, 0.6862745098039216)\n",
      "(d, train_metric, valid_metric) = (170, 0.6823529411764706, 0.6862745098039216)\n",
      "(d, train_metric, valid_metric) = (175, 0.6857142857142857, 0.6862745098039216)\n",
      "(d, train_metric, valid_metric) = (180, 0.6944444444444444, 0.6862745098039216)\n",
      "(d, train_metric, valid_metric) = (185, 0.7027027027027027, 0.6862745098039216)\n",
      "(d, train_metric, valid_metric) = (190, 0.7, 0.6862745098039216)\n",
      "(d, train_metric, valid_metric) = (195, 0.6717948717948717, 0.6666666666666666)\n",
      "(d, train_metric, valid_metric) = (200, 0.68, 0.6666666666666666)\n",
      "(d, train_metric, valid_metric) = (205, 0.6780487804878049, 0.6666666666666666)\n",
      "(d, train_metric, valid_metric) = (210, 0.6857142857142857, 0.6666666666666666)\n",
      "(d, train_metric, valid_metric) = (215, 0.6837209302325581, 0.6666666666666666)\n",
      "(d, train_metric, valid_metric) = (220, 0.6863636363636364, 0.6666666666666666)\n",
      "(d, train_metric, valid_metric) = (225, 0.6888888888888889, 0.6666666666666666)\n",
      "(d, train_metric, valid_metric) = (230, 0.7086956521739131, 0.6862745098039216)\n",
      "(d, train_metric, valid_metric) = (235, 0.7021276595744681, 0.6862745098039216)\n",
      "(d, train_metric, valid_metric) = (240, 0.7041666666666667, 0.6862745098039216)\n",
      "(d, train_metric, valid_metric) = (245, 0.710204081632653, 0.6862745098039216)\n",
      "(d, train_metric, valid_metric) = (250, 0.716, 0.6862745098039216)\n",
      "(d, train_metric, valid_metric) = (255, 0.7215686274509804, 0.6862745098039216)\n",
      "(d, train_metric, valid_metric) = (260, 0.7230769230769231, 0.6862745098039216)\n",
      "(d, train_metric, valid_metric) = (265, 0.7245283018867924, 0.6862745098039216)\n",
      "(d, train_metric, valid_metric) = (270, 0.725925925925926, 0.6862745098039216)\n",
      "(d, train_metric, valid_metric) = (275, 0.72, 0.6862745098039216)\n",
      "(d, train_metric, valid_metric) = (280, 0.7142857142857143, 0.6862745098039216)\n",
      "(d, train_metric, valid_metric) = (285, 0.7157894736842105, 0.6862745098039216)\n",
      "(d, train_metric, valid_metric) = (290, 0.7137931034482758, 0.6862745098039216)\n",
      "(d, train_metric, valid_metric) = (295, 0.7084745762711865, 0.6862745098039216)\n",
      "(d, train_metric, valid_metric) = (300, 0.71, 0.6862745098039216)\n",
      "(d, train_metric, valid_metric) = (305, 0.7147540983606557, 0.6862745098039216)\n",
      "(d, train_metric, valid_metric) = (310, 0.7129032258064516, 0.6862745098039216)\n",
      "(d, train_metric, valid_metric) = (315, 0.7174603174603175, 0.6862745098039216)\n",
      "(d, train_metric, valid_metric) = (320, 0.715625, 0.6862745098039216)\n",
      "(d, train_metric, valid_metric) = (325, 0.7169230769230769, 0.6862745098039216)\n",
      "(d, train_metric, valid_metric) = (330, 0.7151515151515152, 0.6862745098039216)\n",
      "(d, train_metric, valid_metric) = (335, 0.7164179104477612, 0.6862745098039216)\n",
      "(d, train_metric, valid_metric) = (340, 0.7147058823529412, 0.6862745098039216)\n",
      "(d, train_metric, valid_metric) = (345, 0.7159420289855073, 0.6862745098039216)\n",
      "(d, train_metric, valid_metric) = (350, 0.72, 0.6862745098039216)\n",
      "(d, train_metric, valid_metric) = (355, 0.7154929577464789, 0.6862745098039216)\n",
      "(d, train_metric, valid_metric) = (360, 0.7166666666666667, 0.6862745098039216)\n",
      "(d, train_metric, valid_metric) = (365, 0.7150684931506849, 0.6862745098039216)\n",
      "(d, train_metric, valid_metric) = (370, 0.7162162162162162, 0.6862745098039216)\n",
      "(d, train_metric, valid_metric) = (375, 0.7146666666666667, 0.6862745098039216)\n",
      "(d, train_metric, valid_metric) = (380, 0.7131578947368421, 0.6862745098039216)\n",
      "(d, train_metric, valid_metric) = (385, 0.7142857142857143, 0.6862745098039216)\n",
      "(d, train_metric, valid_metric) = (390, 0.7153846153846154, 0.6862745098039216)\n",
      "(d, train_metric, valid_metric) = (395, 0.7139240506329114, 0.6862745098039216)\n",
      "(d, train_metric, valid_metric) = (400, 0.7125, 0.6862745098039216)\n",
      "(d, train_metric, valid_metric) = (405, 0.7086419753086419, 0.6862745098039216)\n",
      "(d, train_metric, valid_metric) = (410, 0.7121951219512195, 0.6862745098039216)\n",
      "(d, train_metric, valid_metric) = (415, 0.7156626506024096, 0.6862745098039216)\n",
      "(d, train_metric, valid_metric) = (420, 0.7142857142857143, 0.6862745098039216)\n",
      "(d, train_metric, valid_metric) = (425, 0.7129411764705882, 0.6862745098039216)\n",
      "(d, train_metric, valid_metric) = (430, 0.713953488372093, 0.6862745098039216)\n",
      "(d, train_metric, valid_metric) = (435, 0.7149425287356321, 0.6862745098039216)\n",
      "(d, train_metric, valid_metric) = (440, 0.7136363636363636, 0.6862745098039216)\n",
      "(d, train_metric, valid_metric) = (445, 0.7168539325842697, 0.6862745098039216)\n",
      "(d, train_metric, valid_metric) = (450, 0.7177777777777777, 0.6862745098039216)\n",
      "(d, train_metric, valid_metric) = (455, 0.7164835164835165, 0.6862745098039216)\n",
      "(d, train_metric, valid_metric) = (460, 0.717391304347826, 0.6862745098039216)\n",
      "(d, train_metric, valid_metric) = (465, 0.7139784946236559, 0.6862745098039216)\n",
      "(d, train_metric, valid_metric) = (470, 0.7148936170212766, 0.6862745098039216)\n",
      "(d, train_metric, valid_metric) = (475, 0.7157894736842105, 0.6862745098039216)\n",
      "(d, train_metric, valid_metric) = (480, 0.7166666666666667, 0.6862745098039216)\n",
      "(d, train_metric, valid_metric) = (485, 0.7175257731958763, 0.6862745098039216)\n",
      "(d, train_metric, valid_metric) = (490, 0.7204081632653061, 0.6862745098039216)\n",
      "(d, train_metric, valid_metric) = (495, 0.7171717171717171, 0.6862745098039216)\n",
      "(d, train_metric, valid_metric) = (500, 0.716, 0.6862745098039216)\n",
      "(d, train_metric, valid_metric) = (505, 0.7188118811881188, 0.6862745098039216)\n",
      "(d, train_metric, valid_metric) = (510, 0.7196078431372549, 0.6862745098039216)\n",
      "(d, train_metric, valid_metric) = (515, 0.7203883495145631, 0.6862745098039216)\n",
      "(d, train_metric, valid_metric) = (520, 0.7211538461538461, 0.6862745098039216)\n",
      "(d, train_metric, valid_metric) = (525, 0.7238095238095238, 0.6862745098039216)\n",
      "(d, train_metric, valid_metric) = (530, 0.7245283018867924, 0.6862745098039216)\n",
      "(d, train_metric, valid_metric) = (535, 0.7271028037383177, 0.6862745098039216)\n",
      "(d, train_metric, valid_metric) = (540, 0.7277777777777777, 0.6862745098039216)\n",
      "(d, train_metric, valid_metric) = (545, 0.726605504587156, 0.6862745098039216)\n",
      "(d, train_metric, valid_metric) = (550, 0.7290909090909091, 0.6862745098039216)\n",
      "(d, train_metric, valid_metric) = (555, 0.7279279279279279, 0.6862745098039216)\n",
      "(d, train_metric, valid_metric) = (560, 0.7267857142857143, 0.6862745098039216)\n",
      "(d, train_metric, valid_metric) = (565, 0.7256637168141593, 0.6862745098039216)\n",
      "(d, train_metric, valid_metric) = (570, 0.7263157894736842, 0.6862745098039216)\n"
     ]
    },
    {
     "name": "stdout",
     "output_type": "stream",
     "text": [
      "(d, train_metric, valid_metric) = (575, 0.7252173913043478, 0.6862745098039216)\n",
      "(d, train_metric, valid_metric) = (580, 0.7241379310344828, 0.6862745098039216)\n",
      "(d, train_metric, valid_metric) = (585, 0.7230769230769231, 0.6862745098039216)\n",
      "(d, train_metric, valid_metric) = (590, 0.7237288135593221, 0.6862745098039216)\n",
      "(d, train_metric, valid_metric) = (595, 0.7243697478991596, 0.6862745098039216)\n",
      "(d, train_metric, valid_metric) = (600, 0.72, 0.6862745098039216)\n",
      "(d, train_metric, valid_metric) = (605, 0.71900826446281, 0.6862745098039216)\n",
      "(d, train_metric, valid_metric) = (610, 0.7180327868852459, 0.6862745098039216)\n",
      "(d, train_metric, valid_metric) = (615, 0.7170731707317073, 0.6862745098039216)\n",
      "(d, train_metric, valid_metric) = (620, 0.717741935483871, 0.6862745098039216)\n",
      "(d, train_metric, valid_metric) = (625, 0.72, 0.6862745098039216)\n",
      "(d, train_metric, valid_metric) = (630, 0.7206349206349206, 0.6862745098039216)\n",
      "(d, train_metric, valid_metric) = (635, 0.721259842519685, 0.6862745098039216)\n",
      "(d, train_metric, valid_metric) = (640, 0.721875, 0.6862745098039216)\n",
      "(d, train_metric, valid_metric) = (645, 0.7209302325581395, 0.6862745098039216)\n",
      "(d, train_metric, valid_metric) = (650, 0.72, 0.6862745098039216)\n",
      "(d, train_metric, valid_metric) = (655, 0.7221374045801526, 0.6862745098039216)\n",
      "(d, train_metric, valid_metric) = (660, 0.7227272727272728, 0.6862745098039216)\n",
      "(d, train_metric, valid_metric) = (665, 0.7203007518796992, 0.6862745098039216)\n",
      "(d, train_metric, valid_metric) = (670, 0.7223880597014926, 0.6862745098039216)\n",
      "(d, train_metric, valid_metric) = (675, 0.7244444444444444, 0.6862745098039216)\n",
      "(d, train_metric, valid_metric) = (680, 0.725, 0.6862745098039216)\n",
      "(d, train_metric, valid_metric) = (685, 0.7226277372262774, 0.6862745098039216)\n",
      "(d, train_metric, valid_metric) = (690, 0.7217391304347827, 0.6862745098039216)\n",
      "(d, train_metric, valid_metric) = (695, 0.720863309352518, 0.6862745098039216)\n",
      "(d, train_metric, valid_metric) = (700, 0.7214285714285714, 0.6862745098039216)\n",
      "(d, train_metric, valid_metric) = (705, 0.7205673758865249, 0.6862745098039216)\n",
      "(d, train_metric, valid_metric) = (710, 0.719718309859155, 0.6862745098039216)\n",
      "(d, train_metric, valid_metric) = (715, 0.7188811188811188, 0.6862745098039216)\n",
      "(d, train_metric, valid_metric) = (720, 0.7194444444444444, 0.6862745098039216)\n",
      "(d, train_metric, valid_metric) = (725, 0.7213793103448276, 0.6862745098039216)\n",
      "(d, train_metric, valid_metric) = (730, 0.7191780821917808, 0.6862745098039216)\n",
      "(d, train_metric, valid_metric) = (735, 0.7183673469387755, 0.6862745098039216)\n",
      "(d, train_metric, valid_metric) = (740, 0.7175675675675676, 0.6862745098039216)\n",
      "(d, train_metric, valid_metric) = (745, 0.7181208053691275, 0.6862745098039216)\n",
      "(d, train_metric, valid_metric) = (750, 0.716, 0.6862745098039216)\n",
      "(d, train_metric, valid_metric) = (755, 0.7165562913907285, 0.6862745098039216)\n",
      "(d, train_metric, valid_metric) = (760, 0.7157894736842105, 0.6862745098039216)\n",
      "(d, train_metric, valid_metric) = (765, 0.7176470588235294, 0.6862745098039216)\n",
      "(d, train_metric, valid_metric) = (770, 0.7168831168831169, 0.6862745098039216)\n",
      "(d, train_metric, valid_metric) = (775, 0.7161290322580646, 0.6862745098039216)\n",
      "(d, train_metric, valid_metric) = (780, 0.717948717948718, 0.6862745098039216)\n",
      "(d, train_metric, valid_metric) = (785, 0.7171974522292993, 0.6862745098039216)\n",
      "(d, train_metric, valid_metric) = (790, 0.7177215189873418, 0.6862745098039216)\n",
      "(d, train_metric, valid_metric) = (795, 0.7157232704402515, 0.6862745098039216)\n",
      "(d, train_metric, valid_metric) = (800, 0.71375, 0.6862745098039216)\n",
      "(d, train_metric, valid_metric) = (805, 0.7130434782608696, 0.6862745098039216)\n",
      "(d, train_metric, valid_metric) = (810, 0.7123456790123457, 0.6862745098039216)\n",
      "(d, train_metric, valid_metric) = (815, 0.7128834355828221, 0.6862745098039216)\n",
      "(d, train_metric, valid_metric) = (820, 0.7121951219512195, 0.6862745098039216)\n",
      "(d, train_metric, valid_metric) = (825, 0.7127272727272728, 0.6862745098039216)\n",
      "(d, train_metric, valid_metric) = (830, 0.7132530120481928, 0.6862745098039216)\n",
      "(d, train_metric, valid_metric) = (835, 0.7101796407185629, 0.6862745098039216)\n",
      "(d, train_metric, valid_metric) = (840, 0.7107142857142857, 0.6862745098039216)\n",
      "(d, train_metric, valid_metric) = (845, 0.7124260355029586, 0.6862745098039216)\n",
      "(d, train_metric, valid_metric) = (850, 0.7141176470588235, 0.6862745098039216)\n",
      "(d, train_metric, valid_metric) = (855, 0.7146198830409357, 0.6862745098039216)\n",
      "(d, train_metric, valid_metric) = (860, 0.7162790697674418, 0.6862745098039216)\n",
      "(d, train_metric, valid_metric) = (865, 0.715606936416185, 0.6862745098039216)\n",
      "(d, train_metric, valid_metric) = (870, 0.7172413793103448, 0.6862745098039216)\n",
      "(d, train_metric, valid_metric) = (875, 0.7177142857142857, 0.6862745098039216)\n",
      "(d, train_metric, valid_metric) = (880, 0.7170454545454545, 0.6862745098039216)\n",
      "(d, train_metric, valid_metric) = (885, 0.7152542372881356, 0.6862745098039216)\n",
      "(d, train_metric, valid_metric) = (890, 0.7168539325842697, 0.6862745098039216)\n",
      "(d, train_metric, valid_metric) = (895, 0.7150837988826816, 0.6862745098039216)\n",
      "(d, train_metric, valid_metric) = (900, 0.7133333333333334, 0.6862745098039216)\n",
      "(d, train_metric, valid_metric) = (905, 0.7138121546961326, 0.6862745098039216)\n",
      "(d, train_metric, valid_metric) = (910, 0.7131868131868132, 0.6862745098039216)\n",
      "(d, train_metric, valid_metric) = (915, 0.7125683060109289, 0.6862745098039216)\n",
      "(d, train_metric, valid_metric) = (920, 0.7141304347826087, 0.6862745098039216)\n",
      "(d, train_metric, valid_metric) = (925, 0.7135135135135136, 0.6862745098039216)\n",
      "(d, train_metric, valid_metric) = (930, 0.7150537634408602, 0.6862745098039216)\n",
      "(d, train_metric, valid_metric) = (935, 0.7165775401069518, 0.6862745098039216)\n",
      "(d, train_metric, valid_metric) = (940, 0.7159574468085106, 0.6862745098039216)\n",
      "(d, train_metric, valid_metric) = (945, 0.7153439153439154, 0.6862745098039216)\n",
      "(d, train_metric, valid_metric) = (950, 0.7147368421052631, 0.6862745098039216)\n",
      "(d, train_metric, valid_metric) = (955, 0.7151832460732984, 0.6862745098039216)\n",
      "(d, train_metric, valid_metric) = (960, 0.7135416666666666, 0.6862745098039216)\n",
      "(d, train_metric, valid_metric) = (965, 0.7129533678756477, 0.6862745098039216)\n",
      "(d, train_metric, valid_metric) = (970, 0.7123711340206186, 0.6862745098039216)\n",
      "(d, train_metric, valid_metric) = (975, 0.7117948717948718, 0.6862745098039216)\n",
      "(d, train_metric, valid_metric) = (980, 0.7091836734693877, 0.6862745098039216)\n",
      "(d, train_metric, valid_metric) = (985, 0.7096446700507614, 0.6862745098039216)\n",
      "(d, train_metric, valid_metric) = (990, 0.7101010101010101, 0.6862745098039216)\n",
      "(d, train_metric, valid_metric) = (995, 0.7105527638190955, 0.6862745098039216)\n",
      "(d, train_metric, valid_metric) = (1000, 0.712, 0.6862745098039216)\n",
      "(d, train_metric, valid_metric) = (1005, 0.7124378109452736, 0.6862745098039216)\n",
      "(d, train_metric, valid_metric) = (1010, 0.7128712871287128, 0.6862745098039216)\n",
      "(d, train_metric, valid_metric) = (1015, 0.7133004926108374, 0.6862745098039216)\n",
      "(d, train_metric, valid_metric) = (1020, 0.7127450980392157, 0.6862745098039216)\n",
      "(d, train_metric, valid_metric) = (1025, 0.7121951219512195, 0.6862745098039216)\n",
      "(d, train_metric, valid_metric) = (1030, 0.7116504854368932, 0.6862745098039216)\n",
      "(d, train_metric, valid_metric) = (1035, 0.7101449275362319, 0.6862745098039216)\n",
      "(d, train_metric, valid_metric) = (1040, 0.7105769230769231, 0.6862745098039216)\n",
      "(d, train_metric, valid_metric) = (1045, 0.7100478468899522, 0.6862745098039216)\n",
      "(d, train_metric, valid_metric) = (1050, 0.7095238095238096, 0.6862745098039216)\n",
      "(d, train_metric, valid_metric) = (1055, 0.7099526066350711, 0.6862745098039216)\n",
      "(d, train_metric, valid_metric) = (1060, 0.7094339622641509, 0.6862745098039216)\n",
      "(d, train_metric, valid_metric) = (1065, 0.7098591549295775, 0.6862745098039216)\n",
      "(d, train_metric, valid_metric) = (1070, 0.7102803738317757, 0.6862745098039216)\n",
      "(d, train_metric, valid_metric) = (1075, 0.7106976744186047, 0.6862745098039216)\n",
      "(d, train_metric, valid_metric) = (1080, 0.7101851851851851, 0.6862745098039216)\n",
      "(d, train_metric, valid_metric) = (1085, 0.7105990783410139, 0.6862745098039216)\n",
      "(d, train_metric, valid_metric) = (1090, 0.710091743119266, 0.6862745098039216)\n",
      "(d, train_metric, valid_metric) = (1095, 0.7077625570776256, 0.6862745098039216)\n",
      "(d, train_metric, valid_metric) = (1100, 0.7072727272727273, 0.6862745098039216)\n",
      "(d, train_metric, valid_metric) = (1105, 0.7067873303167421, 0.6862745098039216)\n",
      "(d, train_metric, valid_metric) = (1110, 0.7063063063063063, 0.6862745098039216)\n",
      "(d, train_metric, valid_metric) = (1115, 0.7067264573991031, 0.6862745098039216)\n",
      "(d, train_metric, valid_metric) = (1120, 0.7071428571428572, 0.6862745098039216)\n",
      "(d, train_metric, valid_metric) = (1125, 0.7075555555555556, 0.6862745098039216)\n",
      "(d, train_metric, valid_metric) = (1130, 0.7079646017699115, 0.6862745098039216)\n"
     ]
    },
    {
     "name": "stdout",
     "output_type": "stream",
     "text": [
      "(d, train_metric, valid_metric) = (1135, 0.707488986784141, 0.6862745098039216)\n",
      "(d, train_metric, valid_metric) = (1140, 0.7070175438596491, 0.6862745098039216)\n",
      "(d, train_metric, valid_metric) = (1145, 0.7065502183406114, 0.6862745098039216)\n",
      "(d, train_metric, valid_metric) = (1150, 0.7043478260869566, 0.6862745098039216)\n",
      "(d, train_metric, valid_metric) = (1155, 0.7047619047619048, 0.6862745098039216)\n",
      "(d, train_metric, valid_metric) = (1160, 0.7051724137931035, 0.6862745098039216)\n",
      "(d, train_metric, valid_metric) = (1165, 0.7055793991416309, 0.6862745098039216)\n",
      "(d, train_metric, valid_metric) = (1170, 0.705982905982906, 0.6862745098039216)\n",
      "(d, train_metric, valid_metric) = (1175, 0.7072340425531914, 0.6862745098039216)\n",
      "(d, train_metric, valid_metric) = (1180, 0.7067796610169491, 0.6862745098039216)\n",
      "(d, train_metric, valid_metric) = (1185, 0.7080168776371308, 0.6862745098039216)\n",
      "(d, train_metric, valid_metric) = (1190, 0.7084033613445379, 0.6862745098039216)\n",
      "(d, train_metric, valid_metric) = (1195, 0.7079497907949791, 0.6862745098039216)\n",
      "(d, train_metric, valid_metric) = (1200, 0.7075, 0.6862745098039216)\n",
      "(d, train_metric, valid_metric) = (1205, 0.7062240663900415, 0.6862745098039216)\n",
      "(d, train_metric, valid_metric) = (1210, 0.7049586776859504, 0.6862745098039216)\n",
      "(d, train_metric, valid_metric) = (1215, 0.7053497942386832, 0.6862745098039216)\n",
      "(d, train_metric, valid_metric) = (1220, 0.7057377049180328, 0.6862745098039216)\n",
      "(d, train_metric, valid_metric) = (1225, 0.7053061224489796, 0.6862745098039216)\n",
      "(d, train_metric, valid_metric) = (1230, 0.7065040650406504, 0.6862745098039216)\n",
      "(d, train_metric, valid_metric) = (1235, 0.7044534412955465, 0.6862745098039216)\n",
      "(d, train_metric, valid_metric) = (1240, 0.7056451612903226, 0.6862745098039216)\n",
      "(d, train_metric, valid_metric) = (1245, 0.704417670682731, 0.6862745098039216)\n",
      "(d, train_metric, valid_metric) = (1250, 0.7056, 0.6862745098039216)\n",
      "(d, train_metric, valid_metric) = (1255, 0.7043824701195219, 0.6862745098039216)\n",
      "(d, train_metric, valid_metric) = (1260, 0.703968253968254, 0.6862745098039216)\n",
      "(d, train_metric, valid_metric) = (1265, 0.7035573122529645, 0.6862745098039216)\n",
      "(d, train_metric, valid_metric) = (1270, 0.7023622047244095, 0.6862745098039216)\n",
      "(d, train_metric, valid_metric) = (1275, 0.7027450980392157, 0.6862745098039216)\n",
      "(d, train_metric, valid_metric) = (1280, 0.703125, 0.6862745098039216)\n",
      "(d, train_metric, valid_metric) = (1285, 0.7035019455252919, 0.6862745098039216)\n",
      "(d, train_metric, valid_metric) = (1290, 0.703875968992248, 0.6862745098039216)\n",
      "(d, train_metric, valid_metric) = (1295, 0.705019305019305, 0.6862745098039216)\n",
      "(d, train_metric, valid_metric) = (1300, 0.7053846153846154, 0.6862745098039216)\n",
      "(d, train_metric, valid_metric) = (1305, 0.7057471264367816, 0.6862745098039216)\n",
      "(d, train_metric, valid_metric) = (1310, 0.7053435114503817, 0.6862745098039216)\n",
      "(d, train_metric, valid_metric) = (1315, 0.7049429657794677, 0.6862745098039216)\n",
      "(d, train_metric, valid_metric) = (1320, 0.7037878787878787, 0.6862745098039216)\n",
      "(d, train_metric, valid_metric) = (1325, 0.7033962264150944, 0.6862745098039216)\n",
      "(d, train_metric, valid_metric) = (1330, 0.7030075187969925, 0.6862745098039216)\n",
      "(d, train_metric, valid_metric) = (1335, 0.7033707865168539, 0.6862745098039216)\n",
      "(d, train_metric, valid_metric) = (1340, 0.7037313432835821, 0.6862745098039216)\n",
      "(d, train_metric, valid_metric) = (1345, 0.704089219330855, 0.6862745098039216)\n",
      "(d, train_metric, valid_metric) = (1350, 0.7044444444444444, 0.6862745098039216)\n",
      "(d, train_metric, valid_metric) = (1355, 0.7040590405904059, 0.6862745098039216)\n",
      "(d, train_metric, valid_metric) = (1360, 0.7036764705882353, 0.6862745098039216)\n",
      "(d, train_metric, valid_metric) = (1365, 0.7032967032967034, 0.6862745098039216)\n",
      "(d, train_metric, valid_metric) = (1370, 0.7036496350364964, 0.6862745098039216)\n",
      "(d, train_metric, valid_metric) = (1375, 0.704, 0.6862745098039216)\n",
      "(d, train_metric, valid_metric) = (1380, 0.7036231884057971, 0.6862745098039216)\n",
      "(d, train_metric, valid_metric) = (1385, 0.7025270758122744, 0.6862745098039216)\n",
      "(d, train_metric, valid_metric) = (1390, 0.7035971223021583, 0.6862745098039216)\n",
      "(d, train_metric, valid_metric) = (1395, 0.7046594982078853, 0.6862745098039216)\n",
      "(d, train_metric, valid_metric) = (1400, 0.705, 0.6862745098039216)\n",
      "(d, train_metric, valid_metric) = (1405, 0.7053380782918149, 0.6862745098039216)\n",
      "(d, train_metric, valid_metric) = (1410, 0.7063829787234043, 0.6862745098039216)\n",
      "(d, train_metric, valid_metric) = (1415, 0.7067137809187279, 0.6862745098039216)\n",
      "(d, train_metric, valid_metric) = (1420, 0.7070422535211267, 0.6862745098039216)\n",
      "(d, train_metric, valid_metric) = (1425, 0.7066666666666667, 0.6862745098039216)\n",
      "(d, train_metric, valid_metric) = (1430, 0.706993006993007, 0.6862745098039216)\n",
      "(d, train_metric, valid_metric) = (1435, 0.7080139372822299, 0.6862745098039216)\n",
      "(d, train_metric, valid_metric) = (1440, 0.7076388888888889, 0.6862745098039216)\n",
      "(d, train_metric, valid_metric) = (1445, 0.7072664359861591, 0.6862745098039216)\n",
      "(d, train_metric, valid_metric) = (1450, 0.7075862068965517, 0.6862745098039216)\n",
      "(d, train_metric, valid_metric) = (1455, 0.7085910652920963, 0.6862745098039216)\n",
      "(d, train_metric, valid_metric) = (1460, 0.708904109589041, 0.6862745098039216)\n",
      "(d, train_metric, valid_metric) = (1465, 0.7085324232081911, 0.6862745098039216)\n",
      "(d, train_metric, valid_metric) = (1470, 0.7081632653061225, 0.6862745098039216)\n",
      "(d, train_metric, valid_metric) = (1475, 0.7077966101694916, 0.6862745098039216)\n",
      "(d, train_metric, valid_metric) = (1480, 0.7074324324324325, 0.6862745098039216)\n",
      "(d, train_metric, valid_metric) = (1485, 0.7063973063973064, 0.6862745098039216)\n",
      "(d, train_metric, valid_metric) = (1490, 0.7067114093959731, 0.6862745098039216)\n",
      "(d, train_metric, valid_metric) = (1495, 0.7070234113712375, 0.6862745098039216)\n",
      "(d, train_metric, valid_metric) = (1500, 0.7066666666666667, 0.6862745098039216)\n",
      "(d, train_metric, valid_metric) = (1505, 0.7069767441860465, 0.6862745098039216)\n",
      "(d, train_metric, valid_metric) = (1510, 0.7079470198675497, 0.6862745098039216)\n",
      "(d, train_metric, valid_metric) = (1515, 0.7082508250825083, 0.6862745098039216)\n",
      "(d, train_metric, valid_metric) = (1520, 0.7092105263157895, 0.6862745098039216)\n",
      "(d, train_metric, valid_metric) = (1525, 0.7095081967213115, 0.6862745098039216)\n",
      "(d, train_metric, valid_metric) = (1530, 0.7098039215686275, 0.6862745098039216)\n",
      "(d, train_metric, valid_metric) = (1535, 0.7107491856677525, 0.6862745098039216)\n",
      "(d, train_metric, valid_metric) = (1540, 0.711038961038961, 0.6862745098039216)\n",
      "(d, train_metric, valid_metric) = (1545, 0.7113268608414239, 0.6862745098039216)\n",
      "(d, train_metric, valid_metric) = (1550, 0.7109677419354838, 0.6862745098039216)\n",
      "(d, train_metric, valid_metric) = (1555, 0.7093247588424437, 0.6862745098039216)\n",
      "(d, train_metric, valid_metric) = (1560, 0.7083333333333334, 0.6862745098039216)\n",
      "(d, train_metric, valid_metric) = (1565, 0.7092651757188498, 0.6862745098039216)\n",
      "(d, train_metric, valid_metric) = (1570, 0.7101910828025477, 0.6862745098039216)\n",
      "(d, train_metric, valid_metric) = (1575, 0.7104761904761905, 0.6862745098039216)\n",
      "(d, train_metric, valid_metric) = (1580, 0.7107594936708861, 0.6862745098039216)\n",
      "(d, train_metric, valid_metric) = (1585, 0.7116719242902209, 0.6862745098039216)\n",
      "(d, train_metric, valid_metric) = (1590, 0.7119496855345911, 0.6862745098039216)\n",
      "(d, train_metric, valid_metric) = (1595, 0.7109717868338558, 0.6862745098039216)\n",
      "(d, train_metric, valid_metric) = (1600, 0.711875, 0.6862745098039216)\n",
      "(d, train_metric, valid_metric) = (1605, 0.7115264797507788, 0.6862745098039216)\n",
      "(d, train_metric, valid_metric) = (1610, 0.7111801242236024, 0.6862745098039216)\n",
      "(d, train_metric, valid_metric) = (1615, 0.7108359133126935, 0.6862745098039216)\n",
      "(d, train_metric, valid_metric) = (1620, 0.7098765432098766, 0.6862745098039216)\n",
      "(d, train_metric, valid_metric) = (1625, 0.7095384615384616, 0.6862745098039216)\n",
      "(d, train_metric, valid_metric) = (1630, 0.7098159509202454, 0.6862745098039216)\n",
      "(d, train_metric, valid_metric) = (1635, 0.709480122324159, 0.6862745098039216)\n",
      "(d, train_metric, valid_metric) = (1640, 0.7097560975609756, 0.6862745098039216)\n",
      "(d, train_metric, valid_metric) = (1645, 0.7094224924012158, 0.6862745098039216)\n",
      "(d, train_metric, valid_metric) = (1650, 0.7084848484848485, 0.6862745098039216)\n",
      "(d, train_metric, valid_metric) = (1655, 0.7087613293051359, 0.6862745098039216)\n",
      "(d, train_metric, valid_metric) = (1660, 0.708433734939759, 0.6862745098039216)\n"
     ]
    },
    {
     "name": "stdout",
     "output_type": "stream",
     "text": [
      "(d, train_metric, valid_metric) = (1665, 0.7081081081081081, 0.6862745098039216)\n",
      "(d, train_metric, valid_metric) = (1670, 0.707185628742515, 0.6862745098039216)\n",
      "(d, train_metric, valid_metric) = (1675, 0.706865671641791, 0.6862745098039216)\n",
      "(d, train_metric, valid_metric) = (1680, 0.7071428571428572, 0.6862745098039216)\n",
      "(d, train_metric, valid_metric) = (1685, 0.7074183976261128, 0.6862745098039216)\n",
      "(d, train_metric, valid_metric) = (1690, 0.7076923076923077, 0.6862745098039216)\n",
      "(d, train_metric, valid_metric) = (1695, 0.7085545722713864, 0.6862745098039216)\n",
      "(d, train_metric, valid_metric) = (1700, 0.7094117647058824, 0.6862745098039216)\n",
      "(d, train_metric, valid_metric) = (1705, 0.7090909090909091, 0.6862745098039216)\n",
      "(d, train_metric, valid_metric) = (1710, 0.7099415204678362, 0.6862745098039216)\n",
      "(d, train_metric, valid_metric) = (1715, 0.7107871720116619, 0.6862745098039216)\n",
      "(d, train_metric, valid_metric) = (1720, 0.7116279069767442, 0.6862745098039216)\n",
      "(d, train_metric, valid_metric) = (1725, 0.7107246376811595, 0.6862745098039216)\n",
      "(d, train_metric, valid_metric) = (1730, 0.7109826589595376, 0.6862745098039216)\n",
      "(d, train_metric, valid_metric) = (1735, 0.7112391930835735, 0.6862745098039216)\n",
      "(d, train_metric, valid_metric) = (1740, 0.7091954022988506, 0.6862745098039216)\n",
      "(d, train_metric, valid_metric) = (1745, 0.7088825214899713, 0.6862745098039216)\n",
      "(d, train_metric, valid_metric) = (1750, 0.7091428571428572, 0.6862745098039216)\n",
      "(d, train_metric, valid_metric) = (1755, 0.7094017094017094, 0.6862745098039216)\n",
      "(d, train_metric, valid_metric) = (1760, 0.7090909090909091, 0.6862745098039216)\n",
      "(d, train_metric, valid_metric) = (1765, 0.7099150141643059, 0.6862745098039216)\n",
      "(d, train_metric, valid_metric) = (1770, 0.7096045197740113, 0.6862745098039216)\n",
      "(d, train_metric, valid_metric) = (1775, 0.7098591549295775, 0.6862745098039216)\n",
      "(d, train_metric, valid_metric) = (1780, 0.7101123595505618, 0.6862745098039216)\n",
      "(d, train_metric, valid_metric) = (1785, 0.7103641456582633, 0.6862745098039216)\n",
      "(d, train_metric, valid_metric) = (1790, 0.7100558659217877, 0.6862745098039216)\n",
      "(d, train_metric, valid_metric) = (1795, 0.7103064066852368, 0.6862745098039216)\n",
      "(d, train_metric, valid_metric) = (1800, 0.71, 0.6862745098039216)\n",
      "(d, train_metric, valid_metric) = (1805, 0.7091412742382271, 0.6862745098039216)\n",
      "(d, train_metric, valid_metric) = (1810, 0.7099447513812155, 0.6862745098039216)\n",
      "(d, train_metric, valid_metric) = (1815, 0.7085399449035813, 0.6862745098039216)\n",
      "(d, train_metric, valid_metric) = (1820, 0.7087912087912088, 0.6862745098039216)\n",
      "(d, train_metric, valid_metric) = (1825, 0.7084931506849315, 0.6862745098039216)\n",
      "(d, train_metric, valid_metric) = (1830, 0.7081967213114754, 0.6862745098039216)\n",
      "(d, train_metric, valid_metric) = (1835, 0.708991825613079, 0.6862745098039216)\n",
      "(d, train_metric, valid_metric) = (1840, 0.7086956521739131, 0.6862745098039216)\n",
      "(d, train_metric, valid_metric) = (1845, 0.7094850948509485, 0.6862745098039216)\n",
      "(d, train_metric, valid_metric) = (1850, 0.7102702702702702, 0.6862745098039216)\n",
      "(d, train_metric, valid_metric) = (1855, 0.7094339622641509, 0.6862745098039216)\n",
      "(d, train_metric, valid_metric) = (1860, 0.7102150537634409, 0.6862745098039216)\n",
      "(d, train_metric, valid_metric) = (1865, 0.710455764075067, 0.6862745098039216)\n",
      "(d, train_metric, valid_metric) = (1870, 0.7090909090909091, 0.6862745098039216)\n",
      "(d, train_metric, valid_metric) = (1875, 0.7088, 0.6862745098039216)\n",
      "(d, train_metric, valid_metric) = (1880, 0.7085106382978723, 0.6862745098039216)\n",
      "(d, train_metric, valid_metric) = (1885, 0.7082228116710876, 0.6862745098039216)\n",
      "(d, train_metric, valid_metric) = (1890, 0.7084656084656085, 0.6862745098039216)\n",
      "(d, train_metric, valid_metric) = (1895, 0.7081794195250659, 0.6862745098039216)\n",
      "(d, train_metric, valid_metric) = (1900, 0.708421052631579, 0.6862745098039216)\n",
      "(d, train_metric, valid_metric) = (1905, 0.7086614173228346, 0.6862745098039216)\n",
      "(d, train_metric, valid_metric) = (1910, 0.7094240837696335, 0.6862745098039216)\n",
      "(d, train_metric, valid_metric) = (1915, 0.7091383812010443, 0.6862745098039216)\n",
      "(d, train_metric, valid_metric) = (1920, 0.7088541666666667, 0.6862745098039216)\n",
      "(d, train_metric, valid_metric) = (1925, 0.7096103896103896, 0.6862745098039216)\n",
      "(d, train_metric, valid_metric) = (1930, 0.7093264248704664, 0.6862745098039216)\n",
      "(d, train_metric, valid_metric) = (1935, 0.7085271317829457, 0.6862745098039216)\n",
      "(d, train_metric, valid_metric) = (1940, 0.7087628865979382, 0.6862745098039216)\n",
      "(d, train_metric, valid_metric) = (1945, 0.7089974293059126, 0.6862745098039216)\n",
      "(d, train_metric, valid_metric) = (1950, 0.7082051282051282, 0.6862745098039216)\n",
      "(d, train_metric, valid_metric) = (1955, 0.7074168797953965, 0.6862745098039216)\n",
      "(d, train_metric, valid_metric) = (1960, 0.7076530612244898, 0.6862745098039216)\n",
      "(d, train_metric, valid_metric) = (1965, 0.7078880407124682, 0.6862745098039216)\n",
      "(d, train_metric, valid_metric) = (1970, 0.7076142131979696, 0.6862745098039216)\n",
      "(d, train_metric, valid_metric) = (1975, 0.7083544303797469, 0.6862745098039216)\n",
      "(d, train_metric, valid_metric) = (1980, 0.7075757575757575, 0.6862745098039216)\n",
      "(d, train_metric, valid_metric) = (1985, 0.707808564231738, 0.6862745098039216)\n",
      "(d, train_metric, valid_metric) = (1990, 0.7080402010050251, 0.6862745098039216)\n",
      "(d, train_metric, valid_metric) = (1995, 0.7082706766917293, 0.6862745098039216)\n",
      "(d, train_metric, valid_metric) = (2000, 0.7085, 0.6862745098039216)\n",
      "(d, train_metric, valid_metric) = (2005, 0.7092269326683291, 0.6862745098039216)\n",
      "(d, train_metric, valid_metric) = (2010, 0.709452736318408, 0.6862745098039216)\n",
      "(d, train_metric, valid_metric) = (2015, 0.7086848635235732, 0.6862745098039216)\n",
      "(d, train_metric, valid_metric) = (2020, 0.7079207920792079, 0.6862745098039216)\n",
      "(d, train_metric, valid_metric) = (2025, 0.7081481481481482, 0.6862745098039216)\n",
      "(d, train_metric, valid_metric) = (2030, 0.7073891625615764, 0.6862745098039216)\n",
      "(d, train_metric, valid_metric) = (2035, 0.7071253071253071, 0.6862745098039216)\n",
      "(d, train_metric, valid_metric) = (2040, 0.7073529411764706, 0.6862745098039216)\n"
     ]
    },
    {
     "data": {
      "text/plain": [
       "(10:5:2040, Any[1.0, 0.8, 0.8, 0.72, 0.8, 0.7428571428571429, 0.55, 0.5555555555555556, 0.48, 0.6181818181818182  …  0.7082706766917293, 0.7085, 0.7092269326683291, 0.709452736318408, 0.7086848635235732, 0.7079207920792079, 0.7081481481481482, 0.7073891625615764, 0.7071253071253071, 0.7073529411764706], Any[0.46078431372549017, 0.37254901960784315, 0.4823529411764706, 0.403921568627451, 0.5980392156862745, 0.5078431372549019, 0.4294117647058823, 0.4294117647058823, 0.396078431372549, 0.4392156862745098  …  0.6862745098039216, 0.6862745098039216, 0.6862745098039216, 0.6862745098039216, 0.6862745098039216, 0.6862745098039216, 0.6862745098039216, 0.6862745098039216, 0.6862745098039216, 0.6862745098039216])"
      ]
     },
     "execution_count": 31,
     "metadata": {},
     "output_type": "execute_result"
    }
   ],
   "source": [
    "data_schedule, training_losses, valid_losses = learn_curve(best.best_model, X[train,:], y[train], acc)"
   ]
  },
  {
   "cell_type": "code",
   "execution_count": 32,
   "metadata": {},
   "outputs": [
    {
     "data": {
      "image/svg+xml": [
       "<?xml version=\"1.0\" encoding=\"utf-8\"?>\n",
       "<svg xmlns=\"http://www.w3.org/2000/svg\" xmlns:xlink=\"http://www.w3.org/1999/xlink\" width=\"600\" height=\"400\" viewBox=\"0 0 2400 1600\">\n",
       "<defs>\n",
       "  <clipPath id=\"clip220\">\n",
       "    <rect x=\"0\" y=\"0\" width=\"2400\" height=\"1600\"/>\n",
       "  </clipPath>\n",
       "</defs>\n",
       "<path clip-path=\"url(#clip220)\" d=\"\n",
       "M0 1600 L2400 1600 L2400 0 L0 0  Z\n",
       "  \" fill=\"#ffffff\" fill-rule=\"evenodd\" fill-opacity=\"1\"/>\n",
       "<defs>\n",
       "  <clipPath id=\"clip221\">\n",
       "    <rect x=\"480\" y=\"0\" width=\"1681\" height=\"1600\"/>\n",
       "  </clipPath>\n",
       "</defs>\n",
       "<path clip-path=\"url(#clip220)\" d=\"\n",
       "M148.334 1486.45 L2352.76 1486.45 L2352.76 47.2441 L148.334 47.2441  Z\n",
       "  \" fill=\"#ffffff\" fill-rule=\"evenodd\" fill-opacity=\"1\"/>\n",
       "<defs>\n",
       "  <clipPath id=\"clip222\">\n",
       "    <rect x=\"148\" y=\"47\" width=\"2205\" height=\"1440\"/>\n",
       "  </clipPath>\n",
       "</defs>\n",
       "<polyline clip-path=\"url(#clip222)\" style=\"stroke:#000000; stroke-width:2; stroke-opacity:0.1; fill:none\" points=\"\n",
       "  200.479,1486.45 200.479,47.2441 \n",
       "  \"/>\n",
       "<polyline clip-path=\"url(#clip222)\" style=\"stroke:#000000; stroke-width:2; stroke-opacity:0.1; fill:none\" points=\"\n",
       "  712.706,1486.45 712.706,47.2441 \n",
       "  \"/>\n",
       "<polyline clip-path=\"url(#clip222)\" style=\"stroke:#000000; stroke-width:2; stroke-opacity:0.1; fill:none\" points=\"\n",
       "  1224.93,1486.45 1224.93,47.2441 \n",
       "  \"/>\n",
       "<polyline clip-path=\"url(#clip222)\" style=\"stroke:#000000; stroke-width:2; stroke-opacity:0.1; fill:none\" points=\"\n",
       "  1737.16,1486.45 1737.16,47.2441 \n",
       "  \"/>\n",
       "<polyline clip-path=\"url(#clip222)\" style=\"stroke:#000000; stroke-width:2; stroke-opacity:0.1; fill:none\" points=\"\n",
       "  2249.39,1486.45 2249.39,47.2441 \n",
       "  \"/>\n",
       "<polyline clip-path=\"url(#clip222)\" style=\"stroke:#000000; stroke-width:2; stroke-opacity:0.1; fill:none\" points=\"\n",
       "  148.334,1386.31 2352.76,1386.31 \n",
       "  \"/>\n",
       "<polyline clip-path=\"url(#clip222)\" style=\"stroke:#000000; stroke-width:2; stroke-opacity:0.1; fill:none\" points=\"\n",
       "  148.334,1169.92 2352.76,1169.92 \n",
       "  \"/>\n",
       "<polyline clip-path=\"url(#clip222)\" style=\"stroke:#000000; stroke-width:2; stroke-opacity:0.1; fill:none\" points=\"\n",
       "  148.334,953.535 2352.76,953.535 \n",
       "  \"/>\n",
       "<polyline clip-path=\"url(#clip222)\" style=\"stroke:#000000; stroke-width:2; stroke-opacity:0.1; fill:none\" points=\"\n",
       "  148.334,737.145 2352.76,737.145 \n",
       "  \"/>\n",
       "<polyline clip-path=\"url(#clip222)\" style=\"stroke:#000000; stroke-width:2; stroke-opacity:0.1; fill:none\" points=\"\n",
       "  148.334,520.756 2352.76,520.756 \n",
       "  \"/>\n",
       "<polyline clip-path=\"url(#clip222)\" style=\"stroke:#000000; stroke-width:2; stroke-opacity:0.1; fill:none\" points=\"\n",
       "  148.334,304.366 2352.76,304.366 \n",
       "  \"/>\n",
       "<polyline clip-path=\"url(#clip222)\" style=\"stroke:#000000; stroke-width:2; stroke-opacity:0.1; fill:none\" points=\"\n",
       "  148.334,87.9763 2352.76,87.9763 \n",
       "  \"/>\n",
       "<polyline clip-path=\"url(#clip220)\" style=\"stroke:#000000; stroke-width:4; stroke-opacity:1; fill:none\" points=\"\n",
       "  148.334,1486.45 2352.76,1486.45 \n",
       "  \"/>\n",
       "<polyline clip-path=\"url(#clip220)\" style=\"stroke:#000000; stroke-width:4; stroke-opacity:1; fill:none\" points=\"\n",
       "  148.334,1486.45 148.334,47.2441 \n",
       "  \"/>\n",
       "<polyline clip-path=\"url(#clip220)\" style=\"stroke:#000000; stroke-width:4; stroke-opacity:1; fill:none\" points=\"\n",
       "  200.479,1486.45 200.479,1469.18 \n",
       "  \"/>\n",
       "<polyline clip-path=\"url(#clip220)\" style=\"stroke:#000000; stroke-width:4; stroke-opacity:1; fill:none\" points=\"\n",
       "  712.706,1486.45 712.706,1469.18 \n",
       "  \"/>\n",
       "<polyline clip-path=\"url(#clip220)\" style=\"stroke:#000000; stroke-width:4; stroke-opacity:1; fill:none\" points=\"\n",
       "  1224.93,1486.45 1224.93,1469.18 \n",
       "  \"/>\n",
       "<polyline clip-path=\"url(#clip220)\" style=\"stroke:#000000; stroke-width:4; stroke-opacity:1; fill:none\" points=\"\n",
       "  1737.16,1486.45 1737.16,1469.18 \n",
       "  \"/>\n",
       "<polyline clip-path=\"url(#clip220)\" style=\"stroke:#000000; stroke-width:4; stroke-opacity:1; fill:none\" points=\"\n",
       "  2249.39,1486.45 2249.39,1469.18 \n",
       "  \"/>\n",
       "<polyline clip-path=\"url(#clip220)\" style=\"stroke:#000000; stroke-width:4; stroke-opacity:1; fill:none\" points=\"\n",
       "  148.334,1386.31 174.787,1386.31 \n",
       "  \"/>\n",
       "<polyline clip-path=\"url(#clip220)\" style=\"stroke:#000000; stroke-width:4; stroke-opacity:1; fill:none\" points=\"\n",
       "  148.334,1169.92 174.787,1169.92 \n",
       "  \"/>\n",
       "<polyline clip-path=\"url(#clip220)\" style=\"stroke:#000000; stroke-width:4; stroke-opacity:1; fill:none\" points=\"\n",
       "  148.334,953.535 174.787,953.535 \n",
       "  \"/>\n",
       "<polyline clip-path=\"url(#clip220)\" style=\"stroke:#000000; stroke-width:4; stroke-opacity:1; fill:none\" points=\"\n",
       "  148.334,737.145 174.787,737.145 \n",
       "  \"/>\n",
       "<polyline clip-path=\"url(#clip220)\" style=\"stroke:#000000; stroke-width:4; stroke-opacity:1; fill:none\" points=\"\n",
       "  148.334,520.756 174.787,520.756 \n",
       "  \"/>\n",
       "<polyline clip-path=\"url(#clip220)\" style=\"stroke:#000000; stroke-width:4; stroke-opacity:1; fill:none\" points=\"\n",
       "  148.334,304.366 174.787,304.366 \n",
       "  \"/>\n",
       "<polyline clip-path=\"url(#clip220)\" style=\"stroke:#000000; stroke-width:4; stroke-opacity:1; fill:none\" points=\"\n",
       "  148.334,87.9763 174.787,87.9763 \n",
       "  \"/>\n",
       "<path clip-path=\"url(#clip220)\" d=\"M 0 0 M200.479 1508.44 Q196.868 1508.44 195.039 1512 Q193.234 1515.55 193.234 1522.67 Q193.234 1529.78 195.039 1533.35 Q196.868 1536.89 200.479 1536.89 Q204.113 1536.89 205.919 1533.35 Q207.748 1529.78 207.748 1522.67 Q207.748 1515.55 205.919 1512 Q204.113 1508.44 200.479 1508.44 M200.479 1504.73 Q206.289 1504.73 209.345 1509.34 Q212.424 1513.92 212.424 1522.67 Q212.424 1531.4 209.345 1536.01 Q206.289 1540.59 200.479 1540.59 Q194.669 1540.59 191.59 1536.01 Q188.535 1531.4 188.535 1522.67 Q188.535 1513.92 191.59 1509.34 Q194.669 1504.73 200.479 1504.73 Z\" fill=\"#000000\" fill-rule=\"evenodd\" fill-opacity=\"1\" /><path clip-path=\"url(#clip220)\" d=\"M 0 0 M675.971 1505.36 L694.327 1505.36 L694.327 1509.3 L680.253 1509.3 L680.253 1517.77 Q681.271 1517.42 682.29 1517.26 Q683.308 1517.07 684.327 1517.07 Q690.114 1517.07 693.494 1520.24 Q696.873 1523.42 696.873 1528.83 Q696.873 1534.41 693.401 1537.51 Q689.929 1540.59 683.609 1540.59 Q681.433 1540.59 679.165 1540.22 Q676.92 1539.85 674.512 1539.11 L674.512 1534.41 Q676.596 1535.54 678.818 1536.1 Q681.04 1536.66 683.517 1536.66 Q687.521 1536.66 689.859 1534.55 Q692.197 1532.44 692.197 1528.83 Q692.197 1525.22 689.859 1523.11 Q687.521 1521.01 683.517 1521.01 Q681.642 1521.01 679.767 1521.42 Q677.915 1521.84 675.971 1522.72 L675.971 1505.36 Z\" fill=\"#000000\" fill-rule=\"evenodd\" fill-opacity=\"1\" /><path clip-path=\"url(#clip220)\" d=\"M 0 0 M711.943 1508.44 Q708.331 1508.44 706.503 1512 Q704.697 1515.55 704.697 1522.67 Q704.697 1529.78 706.503 1533.35 Q708.331 1536.89 711.943 1536.89 Q715.577 1536.89 717.382 1533.35 Q719.211 1529.78 719.211 1522.67 Q719.211 1515.55 717.382 1512 Q715.577 1508.44 711.943 1508.44 M711.943 1504.73 Q717.753 1504.73 720.808 1509.34 Q723.887 1513.92 723.887 1522.67 Q723.887 1531.4 720.808 1536.01 Q717.753 1540.59 711.943 1540.59 Q706.132 1540.59 703.054 1536.01 Q699.998 1531.4 699.998 1522.67 Q699.998 1513.92 703.054 1509.34 Q706.132 1504.73 711.943 1504.73 Z\" fill=\"#000000\" fill-rule=\"evenodd\" fill-opacity=\"1\" /><path clip-path=\"url(#clip220)\" d=\"M 0 0 M738.956 1508.44 Q735.345 1508.44 733.517 1512 Q731.711 1515.55 731.711 1522.67 Q731.711 1529.78 733.517 1533.35 Q735.345 1536.89 738.956 1536.89 Q742.591 1536.89 744.396 1533.35 Q746.225 1529.78 746.225 1522.67 Q746.225 1515.55 744.396 1512 Q742.591 1508.44 738.956 1508.44 M738.956 1504.73 Q744.766 1504.73 747.822 1509.34 Q750.901 1513.92 750.901 1522.67 Q750.901 1531.4 747.822 1536.01 Q744.766 1540.59 738.956 1540.59 Q733.146 1540.59 730.067 1536.01 Q727.012 1531.4 727.012 1522.67 Q727.012 1513.92 730.067 1509.34 Q733.146 1504.73 738.956 1504.73 Z\" fill=\"#000000\" fill-rule=\"evenodd\" fill-opacity=\"1\" /><path clip-path=\"url(#clip220)\" d=\"M 0 0 M1174.8 1535.98 L1182.43 1535.98 L1182.43 1509.62 L1174.12 1511.29 L1174.12 1507.03 L1182.39 1505.36 L1187.06 1505.36 L1187.06 1535.98 L1194.7 1535.98 L1194.7 1539.92 L1174.8 1539.92 L1174.8 1535.98 Z\" fill=\"#000000\" fill-rule=\"evenodd\" fill-opacity=\"1\" /><path clip-path=\"url(#clip220)\" d=\"M 0 0 M1209.77 1508.44 Q1206.16 1508.44 1204.33 1512 Q1202.53 1515.55 1202.53 1522.67 Q1202.53 1529.78 1204.33 1533.35 Q1206.16 1536.89 1209.77 1536.89 Q1213.41 1536.89 1215.21 1533.35 Q1217.04 1529.78 1217.04 1522.67 Q1217.04 1515.55 1215.21 1512 Q1213.41 1508.44 1209.77 1508.44 M1209.77 1504.73 Q1215.58 1504.73 1218.64 1509.34 Q1221.72 1513.92 1221.72 1522.67 Q1221.72 1531.4 1218.64 1536.01 Q1215.58 1540.59 1209.77 1540.59 Q1203.96 1540.59 1200.88 1536.01 Q1197.83 1531.4 1197.83 1522.67 Q1197.83 1513.92 1200.88 1509.34 Q1203.96 1504.73 1209.77 1504.73 Z\" fill=\"#000000\" fill-rule=\"evenodd\" fill-opacity=\"1\" /><path clip-path=\"url(#clip220)\" d=\"M 0 0 M1236.79 1508.44 Q1233.17 1508.44 1231.35 1512 Q1229.54 1515.55 1229.54 1522.67 Q1229.54 1529.78 1231.35 1533.35 Q1233.17 1536.89 1236.79 1536.89 Q1240.42 1536.89 1242.23 1533.35 Q1244.05 1529.78 1244.05 1522.67 Q1244.05 1515.55 1242.23 1512 Q1240.42 1508.44 1236.79 1508.44 M1236.79 1504.73 Q1242.6 1504.73 1245.65 1509.34 Q1248.73 1513.92 1248.73 1522.67 Q1248.73 1531.4 1245.65 1536.01 Q1242.6 1540.59 1236.79 1540.59 Q1230.98 1540.59 1227.9 1536.01 Q1224.84 1531.4 1224.84 1522.67 Q1224.84 1513.92 1227.9 1509.34 Q1230.98 1504.73 1236.79 1504.73 Z\" fill=\"#000000\" fill-rule=\"evenodd\" fill-opacity=\"1\" /><path clip-path=\"url(#clip220)\" d=\"M 0 0 M1263.8 1508.44 Q1260.19 1508.44 1258.36 1512 Q1256.55 1515.55 1256.55 1522.67 Q1256.55 1529.78 1258.36 1533.35 Q1260.19 1536.89 1263.8 1536.89 Q1267.43 1536.89 1269.24 1533.35 Q1271.07 1529.78 1271.07 1522.67 Q1271.07 1515.55 1269.24 1512 Q1267.43 1508.44 1263.8 1508.44 M1263.8 1504.73 Q1269.61 1504.73 1272.67 1509.34 Q1275.74 1513.92 1275.74 1522.67 Q1275.74 1531.4 1272.67 1536.01 Q1269.61 1540.59 1263.8 1540.59 Q1257.99 1540.59 1254.91 1536.01 Q1251.85 1531.4 1251.85 1522.67 Q1251.85 1513.92 1254.91 1509.34 Q1257.99 1504.73 1263.8 1504.73 Z\" fill=\"#000000\" fill-rule=\"evenodd\" fill-opacity=\"1\" /><path clip-path=\"url(#clip220)\" d=\"M 0 0 M1687.52 1535.98 L1695.16 1535.98 L1695.16 1509.62 L1686.85 1511.29 L1686.85 1507.03 L1695.11 1505.36 L1699.79 1505.36 L1699.79 1535.98 L1707.43 1535.98 L1707.43 1539.92 L1687.52 1539.92 L1687.52 1535.98 Z\" fill=\"#000000\" fill-rule=\"evenodd\" fill-opacity=\"1\" /><path clip-path=\"url(#clip220)\" d=\"M 0 0 M1712.54 1505.36 L1730.9 1505.36 L1730.9 1509.3 L1716.83 1509.3 L1716.83 1517.77 Q1717.84 1517.42 1718.86 1517.26 Q1719.88 1517.07 1720.9 1517.07 Q1726.69 1517.07 1730.07 1520.24 Q1733.45 1523.42 1733.45 1528.83 Q1733.45 1534.41 1729.97 1537.51 Q1726.5 1540.59 1720.18 1540.59 Q1718.01 1540.59 1715.74 1540.22 Q1713.49 1539.85 1711.08 1539.11 L1711.08 1534.41 Q1713.17 1535.54 1715.39 1536.1 Q1717.61 1536.66 1720.09 1536.66 Q1724.09 1536.66 1726.43 1534.55 Q1728.77 1532.44 1728.77 1528.83 Q1728.77 1525.22 1726.43 1523.11 Q1724.09 1521.01 1720.09 1521.01 Q1718.21 1521.01 1716.34 1521.42 Q1714.49 1521.84 1712.54 1522.72 L1712.54 1505.36 Z\" fill=\"#000000\" fill-rule=\"evenodd\" fill-opacity=\"1\" /><path clip-path=\"url(#clip220)\" d=\"M 0 0 M1748.52 1508.44 Q1744.9 1508.44 1743.08 1512 Q1741.27 1515.55 1741.27 1522.67 Q1741.27 1529.78 1743.08 1533.35 Q1744.9 1536.89 1748.52 1536.89 Q1752.15 1536.89 1753.95 1533.35 Q1755.78 1529.78 1755.78 1522.67 Q1755.78 1515.55 1753.95 1512 Q1752.15 1508.44 1748.52 1508.44 M1748.52 1504.73 Q1754.33 1504.73 1757.38 1509.34 Q1760.46 1513.92 1760.46 1522.67 Q1760.46 1531.4 1757.38 1536.01 Q1754.33 1540.59 1748.52 1540.59 Q1742.71 1540.59 1739.63 1536.01 Q1736.57 1531.4 1736.57 1522.67 Q1736.57 1513.92 1739.63 1509.34 Q1742.71 1504.73 1748.52 1504.73 Z\" fill=\"#000000\" fill-rule=\"evenodd\" fill-opacity=\"1\" /><path clip-path=\"url(#clip220)\" d=\"M 0 0 M1775.53 1508.44 Q1771.92 1508.44 1770.09 1512 Q1768.28 1515.55 1768.28 1522.67 Q1768.28 1529.78 1770.09 1533.35 Q1771.92 1536.89 1775.53 1536.89 Q1779.16 1536.89 1780.97 1533.35 Q1782.8 1529.78 1782.8 1522.67 Q1782.8 1515.55 1780.97 1512 Q1779.16 1508.44 1775.53 1508.44 M1775.53 1504.73 Q1781.34 1504.73 1784.39 1509.34 Q1787.47 1513.92 1787.47 1522.67 Q1787.47 1531.4 1784.39 1536.01 Q1781.34 1540.59 1775.53 1540.59 Q1769.72 1540.59 1766.64 1536.01 Q1763.58 1531.4 1763.58 1522.67 Q1763.58 1513.92 1766.64 1509.34 Q1769.72 1504.73 1775.53 1504.73 Z\" fill=\"#000000\" fill-rule=\"evenodd\" fill-opacity=\"1\" /><path clip-path=\"url(#clip220)\" d=\"M 0 0 M2203.52 1535.98 L2219.84 1535.98 L2219.84 1539.92 L2197.9 1539.92 L2197.9 1535.98 Q2200.56 1533.23 2205.14 1528.6 Q2209.75 1523.95 2210.93 1522.61 Q2213.17 1520.08 2214.05 1518.35 Q2214.96 1516.59 2214.96 1514.9 Q2214.96 1512.14 2213.01 1510.41 Q2211.09 1508.67 2207.99 1508.67 Q2205.79 1508.67 2203.34 1509.43 Q2200.9 1510.2 2198.13 1511.75 L2198.13 1507.03 Q2200.95 1505.89 2203.4 1505.31 Q2205.86 1504.73 2207.9 1504.73 Q2213.27 1504.73 2216.46 1507.42 Q2219.65 1510.11 2219.65 1514.6 Q2219.65 1516.73 2218.84 1518.65 Q2218.06 1520.54 2215.95 1523.14 Q2215.37 1523.81 2212.27 1527.03 Q2209.17 1530.22 2203.52 1535.98 Z\" fill=\"#000000\" fill-rule=\"evenodd\" fill-opacity=\"1\" /><path clip-path=\"url(#clip220)\" d=\"M 0 0 M2234.91 1508.44 Q2231.3 1508.44 2229.47 1512 Q2227.66 1515.55 2227.66 1522.67 Q2227.66 1529.78 2229.47 1533.35 Q2231.3 1536.89 2234.91 1536.89 Q2238.54 1536.89 2240.35 1533.35 Q2242.18 1529.78 2242.18 1522.67 Q2242.18 1515.55 2240.35 1512 Q2238.54 1508.44 2234.91 1508.44 M2234.91 1504.73 Q2240.72 1504.73 2243.78 1509.34 Q2246.85 1513.92 2246.85 1522.67 Q2246.85 1531.4 2243.78 1536.01 Q2240.72 1540.59 2234.91 1540.59 Q2229.1 1540.59 2226.02 1536.01 Q2222.96 1531.4 2222.96 1522.67 Q2222.96 1513.92 2226.02 1509.34 Q2229.1 1504.73 2234.91 1504.73 Z\" fill=\"#000000\" fill-rule=\"evenodd\" fill-opacity=\"1\" /><path clip-path=\"url(#clip220)\" d=\"M 0 0 M2261.92 1508.44 Q2258.31 1508.44 2256.48 1512 Q2254.68 1515.55 2254.68 1522.67 Q2254.68 1529.78 2256.48 1533.35 Q2258.31 1536.89 2261.92 1536.89 Q2265.56 1536.89 2267.36 1533.35 Q2269.19 1529.78 2269.19 1522.67 Q2269.19 1515.55 2267.36 1512 Q2265.56 1508.44 2261.92 1508.44 M2261.92 1504.73 Q2267.73 1504.73 2270.79 1509.34 Q2273.87 1513.92 2273.87 1522.67 Q2273.87 1531.4 2270.79 1536.01 Q2267.73 1540.59 2261.92 1540.59 Q2256.11 1540.59 2253.03 1536.01 Q2249.98 1531.4 2249.98 1522.67 Q2249.98 1513.92 2253.03 1509.34 Q2256.11 1504.73 2261.92 1504.73 Z\" fill=\"#000000\" fill-rule=\"evenodd\" fill-opacity=\"1\" /><path clip-path=\"url(#clip220)\" d=\"M 0 0 M2288.94 1508.44 Q2285.33 1508.44 2283.5 1512 Q2281.69 1515.55 2281.69 1522.67 Q2281.69 1529.78 2283.5 1533.35 Q2285.33 1536.89 2288.94 1536.89 Q2292.57 1536.89 2294.38 1533.35 Q2296.21 1529.78 2296.21 1522.67 Q2296.21 1515.55 2294.38 1512 Q2292.57 1508.44 2288.94 1508.44 M2288.94 1504.73 Q2294.75 1504.73 2297.8 1509.34 Q2300.88 1513.92 2300.88 1522.67 Q2300.88 1531.4 2297.8 1536.01 Q2294.75 1540.59 2288.94 1540.59 Q2283.13 1540.59 2280.05 1536.01 Q2276.99 1531.4 2276.99 1522.67 Q2276.99 1513.92 2280.05 1509.34 Q2283.13 1504.73 2288.94 1504.73 Z\" fill=\"#000000\" fill-rule=\"evenodd\" fill-opacity=\"1\" /><path clip-path=\"url(#clip220)\" d=\"M 0 0 M74.9365 1372.11 Q71.3254 1372.11 69.4967 1375.68 Q67.6912 1379.22 67.6912 1386.35 Q67.6912 1393.46 69.4967 1397.02 Q71.3254 1400.56 74.9365 1400.56 Q78.5707 1400.56 80.3763 1397.02 Q82.205 1393.46 82.205 1386.35 Q82.205 1379.22 80.3763 1375.68 Q78.5707 1372.11 74.9365 1372.11 M74.9365 1368.41 Q80.7467 1368.41 83.8022 1373.02 Q86.8809 1377.6 86.8809 1386.35 Q86.8809 1395.08 83.8022 1399.68 Q80.7467 1404.27 74.9365 1404.27 Q69.1264 1404.27 66.0477 1399.68 Q62.9921 1395.08 62.9921 1386.35 Q62.9921 1377.6 66.0477 1373.02 Q69.1264 1368.41 74.9365 1368.41 Z\" fill=\"#000000\" fill-rule=\"evenodd\" fill-opacity=\"1\" /><path clip-path=\"url(#clip220)\" d=\"M 0 0 M91.9503 1397.71 L96.8345 1397.71 L96.8345 1403.59 L91.9503 1403.59 L91.9503 1397.71 Z\" fill=\"#000000\" fill-rule=\"evenodd\" fill-opacity=\"1\" /><path clip-path=\"url(#clip220)\" d=\"M 0 0 M114.751 1373.11 L102.946 1391.56 L114.751 1391.56 L114.751 1373.11 M113.524 1369.03 L119.404 1369.03 L119.404 1391.56 L124.334 1391.56 L124.334 1395.45 L119.404 1395.45 L119.404 1403.59 L114.751 1403.59 L114.751 1395.45 L99.1493 1395.45 L99.1493 1390.93 L113.524 1369.03 Z\" fill=\"#000000\" fill-rule=\"evenodd\" fill-opacity=\"1\" /><path clip-path=\"url(#clip220)\" d=\"M 0 0 M76.418 1155.72 Q72.8069 1155.72 70.9782 1159.29 Q69.1726 1162.83 69.1726 1169.96 Q69.1726 1177.07 70.9782 1180.63 Q72.8069 1184.17 76.418 1184.17 Q80.0522 1184.17 81.8578 1180.63 Q83.6865 1177.07 83.6865 1169.96 Q83.6865 1162.83 81.8578 1159.29 Q80.0522 1155.72 76.418 1155.72 M76.418 1152.02 Q82.2281 1152.02 85.2837 1156.63 Q88.3624 1161.21 88.3624 1169.96 Q88.3624 1178.69 85.2837 1183.29 Q82.2281 1187.88 76.418 1187.88 Q70.6078 1187.88 67.5291 1183.29 Q64.4736 1178.69 64.4736 1169.96 Q64.4736 1161.21 67.5291 1156.63 Q70.6078 1152.02 76.418 1152.02 Z\" fill=\"#000000\" fill-rule=\"evenodd\" fill-opacity=\"1\" /><path clip-path=\"url(#clip220)\" d=\"M 0 0 M93.4318 1181.33 L98.316 1181.33 L98.316 1187.2 L93.4318 1187.2 L93.4318 1181.33 Z\" fill=\"#000000\" fill-rule=\"evenodd\" fill-opacity=\"1\" /><path clip-path=\"url(#clip220)\" d=\"M 0 0 M103.432 1152.64 L121.788 1152.64 L121.788 1156.58 L107.714 1156.58 L107.714 1165.05 Q108.733 1164.7 109.751 1164.54 Q110.77 1164.36 111.788 1164.36 Q117.575 1164.36 120.955 1167.53 Q124.334 1170.7 124.334 1176.12 Q124.334 1181.7 120.862 1184.8 Q117.39 1187.88 111.071 1187.88 Q108.895 1187.88 106.626 1187.51 Q104.381 1187.14 101.973 1186.39 L101.973 1181.7 Q104.057 1182.83 106.279 1183.39 Q108.501 1183.94 110.978 1183.94 Q114.983 1183.94 117.321 1181.83 Q119.658 1179.73 119.658 1176.12 Q119.658 1172.51 117.321 1170.4 Q114.983 1168.29 110.978 1168.29 Q109.103 1168.29 107.228 1168.71 Q105.376 1169.13 103.432 1170.01 L103.432 1152.64 Z\" fill=\"#000000\" fill-rule=\"evenodd\" fill-opacity=\"1\" /><path clip-path=\"url(#clip220)\" d=\"M 0 0 M75.2606 939.334 Q71.6495 939.334 69.8208 942.899 Q68.0152 946.44 68.0152 953.57 Q68.0152 960.676 69.8208 964.241 Q71.6495 967.783 75.2606 967.783 Q78.8948 967.783 80.7004 964.241 Q82.5291 960.676 82.5291 953.57 Q82.5291 946.44 80.7004 942.899 Q78.8948 939.334 75.2606 939.334 M75.2606 935.63 Q81.0707 935.63 84.1263 940.237 Q87.205 944.82 87.205 953.57 Q87.205 962.297 84.1263 966.903 Q81.0707 971.486 75.2606 971.486 Q69.4504 971.486 66.3717 966.903 Q63.3162 962.297 63.3162 953.57 Q63.3162 944.82 66.3717 940.237 Q69.4504 935.63 75.2606 935.63 Z\" fill=\"#000000\" fill-rule=\"evenodd\" fill-opacity=\"1\" /><path clip-path=\"url(#clip220)\" d=\"M 0 0 M92.2744 964.936 L97.1586 964.936 L97.1586 970.815 L92.2744 970.815 L92.2744 964.936 Z\" fill=\"#000000\" fill-rule=\"evenodd\" fill-opacity=\"1\" /><path clip-path=\"url(#clip220)\" d=\"M 0 0 M112.807 951.672 Q109.659 951.672 107.807 953.825 Q105.978 955.977 105.978 959.727 Q105.978 963.454 107.807 965.63 Q109.659 967.783 112.807 967.783 Q115.955 967.783 117.783 965.63 Q119.635 963.454 119.635 959.727 Q119.635 955.977 117.783 953.825 Q115.955 951.672 112.807 951.672 M122.089 937.019 L122.089 941.278 Q120.33 940.445 118.524 940.005 Q116.742 939.565 114.983 939.565 Q110.353 939.565 107.899 942.69 Q105.469 945.815 105.122 952.135 Q106.487 950.121 108.547 949.056 Q110.608 947.968 113.084 947.968 Q118.293 947.968 121.302 951.139 Q124.334 954.287 124.334 959.727 Q124.334 965.051 121.186 968.269 Q118.038 971.486 112.807 971.486 Q106.811 971.486 103.64 966.903 Q100.469 962.297 100.469 953.57 Q100.469 945.375 104.358 940.514 Q108.247 935.63 114.797 935.63 Q116.557 935.63 118.339 935.977 Q120.145 936.325 122.089 937.019 Z\" fill=\"#000000\" fill-rule=\"evenodd\" fill-opacity=\"1\" /><path clip-path=\"url(#clip220)\" d=\"M 0 0 M76.3254 722.944 Q72.7143 722.944 70.8856 726.509 Q69.0801 730.051 69.0801 737.18 Q69.0801 744.287 70.8856 747.851 Q72.7143 751.393 76.3254 751.393 Q79.9596 751.393 81.7652 747.851 Q83.5939 744.287 83.5939 737.18 Q83.5939 730.051 81.7652 726.509 Q79.9596 722.944 76.3254 722.944 M76.3254 719.24 Q82.1355 719.24 85.1911 723.847 Q88.2698 728.43 88.2698 737.18 Q88.2698 745.907 85.1911 750.513 Q82.1355 755.097 76.3254 755.097 Q70.5152 755.097 67.4365 750.513 Q64.381 745.907 64.381 737.18 Q64.381 728.43 67.4365 723.847 Q70.5152 719.24 76.3254 719.24 Z\" fill=\"#000000\" fill-rule=\"evenodd\" fill-opacity=\"1\" /><path clip-path=\"url(#clip220)\" d=\"M 0 0 M93.3392 748.546 L98.2234 748.546 L98.2234 754.425 L93.3392 754.425 L93.3392 748.546 Z\" fill=\"#000000\" fill-rule=\"evenodd\" fill-opacity=\"1\" /><path clip-path=\"url(#clip220)\" d=\"M 0 0 M102.112 719.865 L124.334 719.865 L124.334 721.856 L111.788 754.425 L106.904 754.425 L118.709 723.801 L102.112 723.801 L102.112 719.865 Z\" fill=\"#000000\" fill-rule=\"evenodd\" fill-opacity=\"1\" /><path clip-path=\"url(#clip220)\" d=\"M 0 0 M75.5152 506.554 Q71.9041 506.554 70.0754 510.119 Q68.2699 513.661 68.2699 520.79 Q68.2699 527.897 70.0754 531.462 Q71.9041 535.003 75.5152 535.003 Q79.1494 535.003 80.955 531.462 Q82.7837 527.897 82.7837 520.79 Q82.7837 513.661 80.955 510.119 Q79.1494 506.554 75.5152 506.554 M75.5152 502.851 Q81.3254 502.851 84.3809 507.457 Q87.4596 512.04 87.4596 520.79 Q87.4596 529.517 84.3809 534.124 Q81.3254 538.707 75.5152 538.707 Q69.7051 538.707 66.6264 534.124 Q63.5708 529.517 63.5708 520.79 Q63.5708 512.04 66.6264 507.457 Q69.7051 502.851 75.5152 502.851 Z\" fill=\"#000000\" fill-rule=\"evenodd\" fill-opacity=\"1\" /><path clip-path=\"url(#clip220)\" d=\"M 0 0 M92.529 532.156 L97.4132 532.156 L97.4132 538.036 L92.529 538.036 L92.529 532.156 Z\" fill=\"#000000\" fill-rule=\"evenodd\" fill-opacity=\"1\" /><path clip-path=\"url(#clip220)\" d=\"M 0 0 M112.483 521.624 Q109.149 521.624 107.228 523.406 Q105.33 525.189 105.33 528.314 Q105.33 531.439 107.228 533.221 Q109.149 535.003 112.483 535.003 Q115.816 535.003 117.737 533.221 Q119.658 531.415 119.658 528.314 Q119.658 525.189 117.737 523.406 Q115.839 521.624 112.483 521.624 M107.807 519.633 Q104.797 518.892 103.108 516.832 Q101.441 514.772 101.441 511.809 Q101.441 507.666 104.381 505.258 Q107.344 502.851 112.483 502.851 Q117.645 502.851 120.584 505.258 Q123.524 507.666 123.524 511.809 Q123.524 514.772 121.834 516.832 Q120.168 518.892 117.182 519.633 Q120.561 520.42 122.436 522.712 Q124.334 525.003 124.334 528.314 Q124.334 533.337 121.256 536.022 Q118.2 538.707 112.483 538.707 Q106.765 538.707 103.686 536.022 Q100.631 533.337 100.631 528.314 Q100.631 525.003 102.529 522.712 Q104.427 520.42 107.807 519.633 M106.094 512.249 Q106.094 514.934 107.76 516.439 Q109.45 517.943 112.483 517.943 Q115.492 517.943 117.182 516.439 Q118.895 514.934 118.895 512.249 Q118.895 509.564 117.182 508.059 Q115.492 506.554 112.483 506.554 Q109.45 506.554 107.76 508.059 Q106.094 509.564 106.094 512.249 Z\" fill=\"#000000\" fill-rule=\"evenodd\" fill-opacity=\"1\" /><path clip-path=\"url(#clip220)\" d=\"M 0 0 M75.6078 290.165 Q71.9967 290.165 70.168 293.729 Q68.3625 297.271 68.3625 304.401 Q68.3625 311.507 70.168 315.072 Q71.9967 318.614 75.6078 318.614 Q79.242 318.614 81.0476 315.072 Q82.8763 311.507 82.8763 304.401 Q82.8763 297.271 81.0476 293.729 Q79.242 290.165 75.6078 290.165 M75.6078 286.461 Q81.418 286.461 84.4735 291.067 Q87.5522 295.651 87.5522 304.401 Q87.5522 313.128 84.4735 317.734 Q81.418 322.317 75.6078 322.317 Q69.7976 322.317 66.719 317.734 Q63.6634 313.128 63.6634 304.401 Q63.6634 295.651 66.719 291.067 Q69.7976 286.461 75.6078 286.461 Z\" fill=\"#000000\" fill-rule=\"evenodd\" fill-opacity=\"1\" /><path clip-path=\"url(#clip220)\" d=\"M 0 0 M92.6216 315.766 L97.5058 315.766 L97.5058 321.646 L92.6216 321.646 L92.6216 315.766 Z\" fill=\"#000000\" fill-rule=\"evenodd\" fill-opacity=\"1\" /><path clip-path=\"url(#clip220)\" d=\"M 0 0 M102.714 320.928 L102.714 316.669 Q104.473 317.502 106.279 317.942 Q108.084 318.382 109.821 318.382 Q114.45 318.382 116.881 315.28 Q119.334 312.155 119.682 305.813 Q118.339 307.803 116.279 308.868 Q114.219 309.933 111.719 309.933 Q106.534 309.933 103.501 306.808 Q100.492 303.66 100.492 298.22 Q100.492 292.896 103.64 289.679 Q106.788 286.461 112.02 286.461 Q118.015 286.461 121.163 291.067 Q124.334 295.651 124.334 304.401 Q124.334 312.572 120.446 317.456 Q116.58 322.317 110.029 322.317 Q108.27 322.317 106.464 321.97 Q104.659 321.623 102.714 320.928 M112.02 306.276 Q115.168 306.276 116.996 304.123 Q118.848 301.97 118.848 298.22 Q118.848 294.493 116.996 292.341 Q115.168 290.165 112.02 290.165 Q108.872 290.165 107.02 292.341 Q105.191 294.493 105.191 298.22 Q105.191 301.97 107.02 304.123 Q108.872 306.276 112.02 306.276 Z\" fill=\"#000000\" fill-rule=\"evenodd\" fill-opacity=\"1\" /><path clip-path=\"url(#clip220)\" d=\"M 0 0 M67.4597 101.321 L75.0985 101.321 L75.0985 74.9555 L66.7884 76.6222 L66.7884 72.3629 L75.0522 70.6963 L79.7281 70.6963 L79.7281 101.321 L87.367 101.321 L87.367 105.256 L67.4597 105.256 L67.4597 101.321 Z\" fill=\"#000000\" fill-rule=\"evenodd\" fill-opacity=\"1\" /><path clip-path=\"url(#clip220)\" d=\"M 0 0 M92.4364 99.3767 L97.3206 99.3767 L97.3206 105.256 L92.4364 105.256 L92.4364 99.3767 Z\" fill=\"#000000\" fill-rule=\"evenodd\" fill-opacity=\"1\" /><path clip-path=\"url(#clip220)\" d=\"M 0 0 M112.39 73.775 Q108.779 73.775 106.95 77.3398 Q105.145 80.8814 105.145 88.011 Q105.145 95.1174 106.95 98.6822 Q108.779 102.224 112.39 102.224 Q116.024 102.224 117.83 98.6822 Q119.658 95.1174 119.658 88.011 Q119.658 80.8814 117.83 77.3398 Q116.024 73.775 112.39 73.775 M112.39 70.0713 Q118.2 70.0713 121.256 74.6777 Q124.334 79.261 124.334 88.011 Q124.334 96.7378 121.256 101.344 Q118.2 105.928 112.39 105.928 Q106.58 105.928 103.501 101.344 Q100.446 96.7378 100.446 88.011 Q100.446 79.261 103.501 74.6777 Q106.58 70.0713 112.39 70.0713 Z\" fill=\"#000000\" fill-rule=\"evenodd\" fill-opacity=\"1\" /><polyline clip-path=\"url(#clip222)\" style=\"stroke:#009af9; stroke-width:4; stroke-opacity:1; fill:none\" points=\"\n",
       "  210.724,87.9763 215.846,520.756 220.968,520.756 226.09,693.867 231.213,520.756 236.335,644.407 241.457,1061.73 246.58,1049.71 251.702,1213.2 256.824,914.192 \n",
       "  261.946,917.47 267.069,787.082 272.191,644.407 277.313,722.719 282.436,737.145 287.558,673.501 292.68,761.189 297.802,748.534 302.925,1234.84 308.047,850.492 \n",
       "  313.169,855.176 318.291,840.636 323.414,845.34 328.536,832.357 333.658,770.436 338.781,745.16 343.903,829.884 349.025,774.454 354.147,765.997 359.27,758.086 \n",
       "  364.392,777.719 369.514,769.932 374.636,775.332 379.759,768.058 384.881,749.167 390.003,731.297 395.126,737.145 400.248,798.178 405.37,780.423 410.492,784.646 \n",
       "  415.615,768.058 420.737,772.372 425.859,766.653 430.981,761.189 436.104,718.329 441.226,732.541 446.348,728.129 451.471,715.065 456.593,702.523 461.715,690.473 \n",
       "  466.837,687.209 471.96,684.069 477.082,681.044 482.204,693.867 487.326,706.233 492.449,702.979 497.571,707.299 502.693,718.807 507.816,715.506 512.938,705.219 \n",
       "  518.06,709.224 523.182,699.363 528.305,703.335 533.427,700.526 538.549,704.359 543.671,701.619 548.794,705.323 553.916,702.649 559.038,693.867 564.161,703.62 \n",
       "  569.283,701.08 574.405,704.539 579.527,702.055 584.65,705.408 589.772,708.673 594.894,706.233 600.016,703.855 605.139,707.015 610.261,710.097 615.383,718.445 \n",
       "  620.506,710.756 625.628,703.253 630.75,706.233 635.872,709.142 640.995,706.952 646.117,704.811 651.239,707.638 656.361,700.675 661.484,698.676 666.606,701.477 \n",
       "  671.728,699.512 676.851,706.897 681.973,704.917 687.095,702.979 692.217,701.08 697.34,699.221 702.462,692.984 707.584,699.988 712.706,702.523 717.829,696.438 \n",
       "  722.951,694.716 728.073,693.027 733.196,691.371 738.318,685.624 743.44,684.069 748.562,678.498 753.685,677.037 758.807,679.574 763.929,674.196 769.051,676.712 \n",
       "  774.174,679.184 779.296,681.612 784.418,680.201 789.541,682.578 794.663,684.913 799.785,687.209 804.907,685.799 810.03,684.412 815.152,693.867 820.274,696.014 \n",
       "  825.396,698.124 830.519,700.201 835.641,698.754 840.763,693.867 845.886,692.494 851.008,691.141 856.13,689.81 861.252,691.855 866.375,693.867 871.497,689.242 \n",
       "  876.619,687.966 881.741,693.217 886.864,688.7 891.986,684.25 897.108,683.048 902.231,688.181 907.353,690.104 912.475,691.999 917.597,690.776 922.72,692.64 \n",
       "  927.842,694.477 932.964,696.289 938.086,695.07 943.209,690.883 948.331,695.646 953.453,697.4 958.576,699.131 963.698,697.934 968.82,702.523 973.942,701.319 \n",
       "  979.065,702.979 984.187,698.959 989.309,700.612 994.431,702.244 999.554,698.306 1004.68,699.932 1009.8,698.798 1014.92,703.122 1020.04,707.392 1025.17,708.921 \n",
       "  1030.29,710.431 1035.41,709.267 1040.53,710.756 1045.65,709.605 1050.78,708.467 1055.9,715.118 1061.02,713.961 1066.14,710.257 1071.27,706.596 1076.39,705.51 \n",
       "  1081.51,701.919 1086.63,703.374 1091.75,699.837 1096.88,698.814 1102,700.261 1107.12,704.137 1112.24,700.675 1117.37,704.506 1122.49,708.293 1127.61,707.257 \n",
       "  1132.73,708.611 1137.86,709.949 1142.98,706.569 1148.1,707.904 1153.22,704.571 1158.34,701.273 1163.47,702.615 1168.59,703.943 1173.71,705.256 1178.83,704.29 \n",
       "  1183.96,707.843 1189.08,709.116 1194.2,710.376 1199.32,711.623 1204.44,717.273 1209.57,716.275 1214.69,715.288 1219.81,714.31 1224.93,711.179 1230.06,710.231 \n",
       "  1235.18,709.293 1240.3,708.365 1245.42,709.566 1250.55,710.756 1255.67,711.935 1260.79,715.193 1265.91,714.258 1271.03,715.403 1276.16,716.537 1281.28,715.609 \n",
       "  1286.4,716.731 1291.52,715.811 1296.65,714.9 1301.77,713.997 1306.89,715.106 1312.01,714.21 1317.13,715.308 1322.26,720.348 1327.38,721.408 1332.5,722.458 \n",
       "  1337.62,723.499 1342.75,722.59 1347.87,721.689 1352.99,720.796 1358.11,719.911 1363.24,720.94 1368.36,721.96 1373.48,722.971 1378.6,727.737 1383.72,726.841 \n",
       "  1388.85,725.953 1393.97,725.072 1399.09,724.199 1404.21,721.492 1409.34,722.475 1414.46,719.798 1419.58,718.961 1424.7,719.943 1429.82,720.916 1434.95,723.677 \n",
       "  1440.07,726.415 1445.19,725.569 1450.31,724.73 1455.44,725.664 1460.56,723.071 1465.68,727.509 1470.8,724.93 1475.93,727.586 1481.05,725.028 1486.17,727.662 \n",
       "  1491.29,728.559 1496.41,729.448 1501.54,732.034 1506.66,731.205 1511.78,730.383 1516.9,729.568 1522.03,728.758 1527.15,726.284 1532.27,725.494 1537.39,724.709 \n",
       "  1542.51,725.583 1547.64,726.449 1552.76,728.949 1557.88,729.796 1563,730.637 1568.13,729.851 1573.25,729.071 1578.37,728.297 1583.49,727.528 1588.62,728.362 \n",
       "  1593.74,729.19 1598.86,730.012 1603.98,729.248 1609.1,728.49 1614.23,729.305 1619.35,731.677 1624.47,729.362 1629.59,727.063 1634.72,726.326 1639.84,725.594 \n",
       "  1644.96,723.333 1650.08,722.618 1655.2,721.907 1660.33,722.719 1665.45,722.013 1670.57,719.804 1675.69,720.616 1680.82,721.422 1685.94,720.73 1691.06,718.555 \n",
       "  1696.18,717.878 1701.31,718.682 1706.43,719.481 1711.55,720.274 1716.67,721.062 1721.79,723.302 1726.92,722.623 1732.04,721.947 1737.16,722.719 1742.28,722.048 \n",
       "  1747.41,719.949 1752.53,719.291 1757.65,717.215 1762.77,716.571 1767.89,715.931 1773.02,713.885 1778.14,713.258 1783.26,712.635 1788.38,713.412 1793.51,716.968 \n",
       "  1798.63,719.113 1803.75,717.097 1808.87,715.093 1814,714.476 1819.12,713.863 1824.24,711.889 1829.36,711.288 1834.48,713.404 1839.61,711.449 1844.73,712.203 \n",
       "  1849.85,712.953 1854.97,713.698 1860.1,715.774 1865.22,716.505 1870.34,715.905 1875.46,716.631 1880.58,716.034 1885.71,716.756 1890.83,718.785 1895.95,718.187 \n",
       "  1901.07,718.896 1906.2,719.6 1911.32,721.596 1916.44,722.289 1921.56,721.689 1926.69,721.093 1931.81,720.5 1936.93,718.634 1942.05,716.779 1947.17,717.474 \n",
       "  1952.3,715.633 1957.42,713.803 1962.54,711.984 1967.66,713.938 1972.79,713.38 1977.91,712.825 1983.03,717.248 1988.15,717.925 1993.27,717.361 1998.4,716.801 \n",
       "  2003.52,717.474 2008.64,715.69 2013.76,716.362 2018.89,715.811 2024.01,715.263 2029.13,714.718 2034.25,715.386 2039.38,714.843 2044.5,715.506 2049.62,717.365 \n",
       "  2054.74,715.626 2059.86,718.666 2064.99,718.122 2070.11,718.767 2075.23,719.409 2080.35,717.688 2085.48,718.329 2090.6,716.621 2095.72,714.922 2100.84,716.731 \n",
       "  2105.96,715.041 2111.09,714.52 2116.21,717.474 2121.33,718.103 2126.45,718.729 2131.58,719.352 2136.7,718.827 2141.82,719.446 2146.94,718.923 2152.07,718.403 \n",
       "  2157.19,716.753 2162.31,717.371 2167.43,717.986 2172.55,716.35 2177.68,716.964 2182.8,718.694 2187.92,718.183 2193.04,717.676 2198.17,719.39 2203.29,721.096 \n",
       "  2208.41,720.585 2213.53,720.077 2218.65,720.669 2223.78,719.067 2228.9,720.752 2234.02,720.249 2239.14,719.747 2244.27,719.249 2249.39,718.752 2254.51,717.179 \n",
       "  2259.63,716.691 2264.76,718.352 2269.88,720.006 2275,719.514 2280.12,721.156 2285.24,721.727 2290.37,721.234 \n",
       "  \"/>\n",
       "<polyline clip-path=\"url(#clip222)\" style=\"stroke:#e26f46; stroke-width:4; stroke-opacity:1; fill:none\" points=\"\n",
       "  210.724,1254.78 215.846,1445.72 220.968,1208.11 226.09,1377.83 231.213,957.778 236.335,1152.95 241.457,1322.67 246.58,1322.67 251.702,1394.8 256.824,1301.46 \n",
       "  261.946,1301.46 267.069,766.846 272.191,796.547 277.313,766.846 282.436,809.275 287.558,766.846 292.68,809.275 297.802,809.275 302.925,1233.57 308.047,953.535 \n",
       "  313.169,953.535 318.291,885.648 323.414,809.275 328.536,809.275 333.658,766.846 338.781,766.846 343.903,809.275 349.025,766.846 354.147,766.846 359.27,766.846 \n",
       "  364.392,766.846 369.514,766.846 374.636,766.846 379.759,766.846 384.881,766.846 390.003,766.846 395.126,766.846 400.248,809.275 405.37,809.275 410.492,809.275 \n",
       "  415.615,809.275 420.737,809.275 425.859,809.275 430.981,809.275 436.104,766.846 441.226,766.846 446.348,766.846 451.471,766.846 456.593,766.846 461.715,766.846 \n",
       "  466.837,766.846 471.96,766.846 477.082,766.846 482.204,766.846 487.326,766.846 492.449,766.846 497.571,766.846 502.693,766.846 507.816,766.846 512.938,766.846 \n",
       "  518.06,766.846 523.182,766.846 528.305,766.846 533.427,766.846 538.549,766.846 543.671,766.846 548.794,766.846 553.916,766.846 559.038,766.846 564.161,766.846 \n",
       "  569.283,766.846 574.405,766.846 579.527,766.846 584.65,766.846 589.772,766.846 594.894,766.846 600.016,766.846 605.139,766.846 610.261,766.846 615.383,766.846 \n",
       "  620.506,766.846 625.628,766.846 630.75,766.846 635.872,766.846 640.995,766.846 646.117,766.846 651.239,766.846 656.361,766.846 661.484,766.846 666.606,766.846 \n",
       "  671.728,766.846 676.851,766.846 681.973,766.846 687.095,766.846 692.217,766.846 697.34,766.846 702.462,766.846 707.584,766.846 712.706,766.846 717.829,766.846 \n",
       "  722.951,766.846 728.073,766.846 733.196,766.846 738.318,766.846 743.44,766.846 748.562,766.846 753.685,766.846 758.807,766.846 763.929,766.846 769.051,766.846 \n",
       "  774.174,766.846 779.296,766.846 784.418,766.846 789.541,766.846 794.663,766.846 799.785,766.846 804.907,766.846 810.03,766.846 815.152,766.846 820.274,766.846 \n",
       "  825.396,766.846 830.519,766.846 835.641,766.846 840.763,766.846 845.886,766.846 851.008,766.846 856.13,766.846 861.252,766.846 866.375,766.846 871.497,766.846 \n",
       "  876.619,766.846 881.741,766.846 886.864,766.846 891.986,766.846 897.108,766.846 902.231,766.846 907.353,766.846 912.475,766.846 917.597,766.846 922.72,766.846 \n",
       "  927.842,766.846 932.964,766.846 938.086,766.846 943.209,766.846 948.331,766.846 953.453,766.846 958.576,766.846 963.698,766.846 968.82,766.846 973.942,766.846 \n",
       "  979.065,766.846 984.187,766.846 989.309,766.846 994.431,766.846 999.554,766.846 1004.68,766.846 1009.8,766.846 1014.92,766.846 1020.04,766.846 1025.17,766.846 \n",
       "  1030.29,766.846 1035.41,766.846 1040.53,766.846 1045.65,766.846 1050.78,766.846 1055.9,766.846 1061.02,766.846 1066.14,766.846 1071.27,766.846 1076.39,766.846 \n",
       "  1081.51,766.846 1086.63,766.846 1091.75,766.846 1096.88,766.846 1102,766.846 1107.12,766.846 1112.24,766.846 1117.37,766.846 1122.49,766.846 1127.61,766.846 \n",
       "  1132.73,766.846 1137.86,766.846 1142.98,766.846 1148.1,766.846 1153.22,766.846 1158.34,766.846 1163.47,766.846 1168.59,766.846 1173.71,766.846 1178.83,766.846 \n",
       "  1183.96,766.846 1189.08,766.846 1194.2,766.846 1199.32,766.846 1204.44,766.846 1209.57,766.846 1214.69,766.846 1219.81,766.846 1224.93,766.846 1230.06,766.846 \n",
       "  1235.18,766.846 1240.3,766.846 1245.42,766.846 1250.55,766.846 1255.67,766.846 1260.79,766.846 1265.91,766.846 1271.03,766.846 1276.16,766.846 1281.28,766.846 \n",
       "  1286.4,766.846 1291.52,766.846 1296.65,766.846 1301.77,766.846 1306.89,766.846 1312.01,766.846 1317.13,766.846 1322.26,766.846 1327.38,766.846 1332.5,766.846 \n",
       "  1337.62,766.846 1342.75,766.846 1347.87,766.846 1352.99,766.846 1358.11,766.846 1363.24,766.846 1368.36,766.846 1373.48,766.846 1378.6,766.846 1383.72,766.846 \n",
       "  1388.85,766.846 1393.97,766.846 1399.09,766.846 1404.21,766.846 1409.34,766.846 1414.46,766.846 1419.58,766.846 1424.7,766.846 1429.82,766.846 1434.95,766.846 \n",
       "  1440.07,766.846 1445.19,766.846 1450.31,766.846 1455.44,766.846 1460.56,766.846 1465.68,766.846 1470.8,766.846 1475.93,766.846 1481.05,766.846 1486.17,766.846 \n",
       "  1491.29,766.846 1496.41,766.846 1501.54,766.846 1506.66,766.846 1511.78,766.846 1516.9,766.846 1522.03,766.846 1527.15,766.846 1532.27,766.846 1537.39,766.846 \n",
       "  1542.51,766.846 1547.64,766.846 1552.76,766.846 1557.88,766.846 1563,766.846 1568.13,766.846 1573.25,766.846 1578.37,766.846 1583.49,766.846 1588.62,766.846 \n",
       "  1593.74,766.846 1598.86,766.846 1603.98,766.846 1609.1,766.846 1614.23,766.846 1619.35,766.846 1624.47,766.846 1629.59,766.846 1634.72,766.846 1639.84,766.846 \n",
       "  1644.96,766.846 1650.08,766.846 1655.2,766.846 1660.33,766.846 1665.45,766.846 1670.57,766.846 1675.69,766.846 1680.82,766.846 1685.94,766.846 1691.06,766.846 \n",
       "  1696.18,766.846 1701.31,766.846 1706.43,766.846 1711.55,766.846 1716.67,766.846 1721.79,766.846 1726.92,766.846 1732.04,766.846 1737.16,766.846 1742.28,766.846 \n",
       "  1747.41,766.846 1752.53,766.846 1757.65,766.846 1762.77,766.846 1767.89,766.846 1773.02,766.846 1778.14,766.846 1783.26,766.846 1788.38,766.846 1793.51,766.846 \n",
       "  1798.63,766.846 1803.75,766.846 1808.87,766.846 1814,766.846 1819.12,766.846 1824.24,766.846 1829.36,766.846 1834.48,766.846 1839.61,766.846 1844.73,766.846 \n",
       "  1849.85,766.846 1854.97,766.846 1860.1,766.846 1865.22,766.846 1870.34,766.846 1875.46,766.846 1880.58,766.846 1885.71,766.846 1890.83,766.846 1895.95,766.846 \n",
       "  1901.07,766.846 1906.2,766.846 1911.32,766.846 1916.44,766.846 1921.56,766.846 1926.69,766.846 1931.81,766.846 1936.93,766.846 1942.05,766.846 1947.17,766.846 \n",
       "  1952.3,766.846 1957.42,766.846 1962.54,766.846 1967.66,766.846 1972.79,766.846 1977.91,766.846 1983.03,766.846 1988.15,766.846 1993.27,766.846 1998.4,766.846 \n",
       "  2003.52,766.846 2008.64,766.846 2013.76,766.846 2018.89,766.846 2024.01,766.846 2029.13,766.846 2034.25,766.846 2039.38,766.846 2044.5,766.846 2049.62,766.846 \n",
       "  2054.74,766.846 2059.86,766.846 2064.99,766.846 2070.11,766.846 2075.23,766.846 2080.35,766.846 2085.48,766.846 2090.6,766.846 2095.72,766.846 2100.84,766.846 \n",
       "  2105.96,766.846 2111.09,766.846 2116.21,766.846 2121.33,766.846 2126.45,766.846 2131.58,766.846 2136.7,766.846 2141.82,766.846 2146.94,766.846 2152.07,766.846 \n",
       "  2157.19,766.846 2162.31,766.846 2167.43,766.846 2172.55,766.846 2177.68,766.846 2182.8,766.846 2187.92,766.846 2193.04,766.846 2198.17,766.846 2203.29,766.846 \n",
       "  2208.41,766.846 2213.53,766.846 2218.65,766.846 2223.78,766.846 2228.9,766.846 2234.02,766.846 2239.14,766.846 2244.27,766.846 2249.39,766.846 2254.51,766.846 \n",
       "  2259.63,766.846 2264.76,766.846 2269.88,766.846 2275,766.846 2280.12,766.846 2285.24,766.846 2290.37,766.846 \n",
       "  \"/>\n",
       "<path clip-path=\"url(#clip220)\" d=\"\n",
       "M1835.01 276.658 L2279.28 276.658 L2279.28 95.2176 L1835.01 95.2176  Z\n",
       "  \" fill=\"#ffffff\" fill-rule=\"evenodd\" fill-opacity=\"1\"/>\n",
       "<polyline clip-path=\"url(#clip220)\" style=\"stroke:#000000; stroke-width:4; stroke-opacity:1; fill:none\" points=\"\n",
       "  1835.01,276.658 2279.28,276.658 2279.28,95.2176 1835.01,95.2176 1835.01,276.658 \n",
       "  \"/>\n",
       "<polyline clip-path=\"url(#clip220)\" style=\"stroke:#009af9; stroke-width:4; stroke-opacity:1; fill:none\" points=\"\n",
       "  1859.51,155.698 2006.47,155.698 \n",
       "  \"/>\n",
       "<path clip-path=\"url(#clip220)\" d=\"M 0 0 M2030.96 138.418 L2060.2 138.418 L2060.2 142.353 L2047.93 142.353 L2047.93 172.978 L2043.23 172.978 L2043.23 142.353 L2030.96 142.353 L2030.96 138.418 Z\" fill=\"#000000\" fill-rule=\"evenodd\" fill-opacity=\"1\" /><path clip-path=\"url(#clip220)\" d=\"M 0 0 M2072.72 151.033 Q2072 150.617 2071.15 150.431 Q2070.31 150.223 2069.29 150.223 Q2065.68 150.223 2063.74 152.584 Q2061.82 154.922 2061.82 159.32 L2061.82 172.978 L2057.53 172.978 L2057.53 147.052 L2061.82 147.052 L2061.82 151.08 Q2063.16 148.718 2065.31 147.584 Q2067.46 146.427 2070.54 146.427 Q2070.98 146.427 2071.52 146.496 Q2072.05 146.543 2072.7 146.658 L2072.72 151.033 Z\" fill=\"#000000\" fill-rule=\"evenodd\" fill-opacity=\"1\" /><path clip-path=\"url(#clip220)\" d=\"M 0 0 M2088.97 159.945 Q2083.81 159.945 2081.82 161.126 Q2079.83 162.306 2079.83 165.154 Q2079.83 167.422 2081.31 168.765 Q2082.81 170.084 2085.38 170.084 Q2088.92 170.084 2091.05 167.584 Q2093.21 165.061 2093.21 160.894 L2093.21 159.945 L2088.97 159.945 M2097.46 158.186 L2097.46 172.978 L2093.21 172.978 L2093.21 169.042 Q2091.75 171.403 2089.57 172.538 Q2087.4 173.649 2084.25 173.649 Q2080.27 173.649 2077.9 171.427 Q2075.57 169.181 2075.57 165.431 Q2075.57 161.056 2078.48 158.834 Q2081.42 156.612 2087.23 156.612 L2093.21 156.612 L2093.21 156.195 Q2093.21 153.255 2091.26 151.658 Q2089.34 150.038 2085.84 150.038 Q2083.62 150.038 2081.52 150.57 Q2079.41 151.103 2077.46 152.167 L2077.46 148.232 Q2079.8 147.33 2082 146.89 Q2084.2 146.427 2086.28 146.427 Q2091.91 146.427 2094.69 149.343 Q2097.46 152.26 2097.46 158.186 Z\" fill=\"#000000\" fill-rule=\"evenodd\" fill-opacity=\"1\" /><path clip-path=\"url(#clip220)\" d=\"M 0 0 M2101.93 147.052 L2106.19 147.052 L2106.19 172.978 L2101.93 172.978 L2101.93 147.052 M2101.93 136.959 L2106.19 136.959 L2106.19 142.353 L2101.93 142.353 L2101.93 136.959 Z\" fill=\"#000000\" fill-rule=\"evenodd\" fill-opacity=\"1\" /><path clip-path=\"url(#clip220)\" d=\"M 0 0 M2132.21 157.329 L2132.21 172.978 L2127.95 172.978 L2127.95 157.468 Q2127.95 153.788 2126.52 151.959 Q2125.08 150.13 2122.21 150.13 Q2118.76 150.13 2116.77 152.33 Q2114.78 154.529 2114.78 158.325 L2114.78 172.978 L2110.5 172.978 L2110.5 147.052 L2114.78 147.052 L2114.78 151.08 Q2116.31 148.742 2118.37 147.584 Q2120.45 146.427 2123.16 146.427 Q2127.63 146.427 2129.92 149.205 Q2132.21 151.959 2132.21 157.329 Z\" fill=\"#000000\" fill-rule=\"evenodd\" fill-opacity=\"1\" /><path clip-path=\"url(#clip220)\" d=\"M 0 0 M2136.68 147.052 L2140.94 147.052 L2140.94 172.978 L2136.68 172.978 L2136.68 147.052 M2136.68 136.959 L2140.94 136.959 L2140.94 142.353 L2136.68 142.353 L2136.68 136.959 Z\" fill=\"#000000\" fill-rule=\"evenodd\" fill-opacity=\"1\" /><path clip-path=\"url(#clip220)\" d=\"M 0 0 M2166.96 157.329 L2166.96 172.978 L2162.7 172.978 L2162.7 157.468 Q2162.7 153.788 2161.26 151.959 Q2159.83 150.13 2156.96 150.13 Q2153.51 150.13 2151.52 152.33 Q2149.52 154.529 2149.52 158.325 L2149.52 172.978 L2145.24 172.978 L2145.24 147.052 L2149.52 147.052 L2149.52 151.08 Q2151.05 148.742 2153.11 147.584 Q2155.2 146.427 2157.9 146.427 Q2162.37 146.427 2164.66 149.205 Q2166.96 151.959 2166.96 157.329 Z\" fill=\"#000000\" fill-rule=\"evenodd\" fill-opacity=\"1\" /><path clip-path=\"url(#clip220)\" d=\"M 0 0 M2188.48 159.714 Q2188.48 155.084 2186.56 152.538 Q2184.66 149.992 2181.21 149.992 Q2177.79 149.992 2175.87 152.538 Q2173.97 155.084 2173.97 159.714 Q2173.97 164.32 2175.87 166.866 Q2177.79 169.413 2181.21 169.413 Q2184.66 169.413 2186.56 166.866 Q2188.48 164.32 2188.48 159.714 M2192.74 169.76 Q2192.74 176.38 2189.8 179.598 Q2186.86 182.839 2180.8 182.839 Q2178.55 182.839 2176.56 182.491 Q2174.57 182.167 2172.7 181.473 L2172.7 177.329 Q2174.57 178.348 2176.4 178.834 Q2178.23 179.32 2180.13 179.32 Q2184.32 179.32 2186.4 177.121 Q2188.48 174.945 2188.48 170.524 L2188.48 168.417 Q2187.16 170.709 2185.1 171.843 Q2183.04 172.978 2180.17 172.978 Q2175.4 172.978 2172.49 169.343 Q2169.57 165.709 2169.57 159.714 Q2169.57 153.695 2172.49 150.061 Q2175.4 146.427 2180.17 146.427 Q2183.04 146.427 2185.1 147.561 Q2187.16 148.695 2188.48 150.987 L2188.48 147.052 L2192.74 147.052 L2192.74 169.76 Z\" fill=\"#000000\" fill-rule=\"evenodd\" fill-opacity=\"1\" /><polyline clip-path=\"url(#clip220)\" style=\"stroke:#e26f46; stroke-width:4; stroke-opacity:1; fill:none\" points=\"\n",
       "  1859.51,216.178 2006.47,216.178 \n",
       "  \"/>\n",
       "<path clip-path=\"url(#clip220)\" d=\"M 0 0 M2044.15 233.458 L2030.96 198.898 L2035.84 198.898 L2046.79 227.995 L2057.77 198.898 L2062.63 198.898 L2049.46 233.458 L2044.15 233.458 Z\" fill=\"#000000\" fill-rule=\"evenodd\" fill-opacity=\"1\" /><path clip-path=\"url(#clip220)\" d=\"M 0 0 M2075.2 220.425 Q2070.03 220.425 2068.04 221.606 Q2066.05 222.786 2066.05 225.634 Q2066.05 227.902 2067.53 229.245 Q2069.04 230.564 2071.61 230.564 Q2075.15 230.564 2077.28 228.064 Q2079.43 225.541 2079.43 221.374 L2079.43 220.425 L2075.2 220.425 M2083.69 218.666 L2083.69 233.458 L2079.43 233.458 L2079.43 229.522 Q2077.97 231.883 2075.8 233.018 Q2073.62 234.129 2070.47 234.129 Q2066.49 234.129 2064.13 231.907 Q2061.79 229.661 2061.79 225.911 Q2061.79 221.536 2064.71 219.314 Q2067.65 217.092 2073.46 217.092 L2079.43 217.092 L2079.43 216.675 Q2079.43 213.735 2077.49 212.138 Q2075.57 210.518 2072.07 210.518 Q2069.85 210.518 2067.74 211.05 Q2065.64 211.583 2063.69 212.647 L2063.69 208.712 Q2066.03 207.81 2068.23 207.37 Q2070.43 206.907 2072.51 206.907 Q2078.14 206.907 2080.91 209.823 Q2083.69 212.74 2083.69 218.666 Z\" fill=\"#000000\" fill-rule=\"evenodd\" fill-opacity=\"1\" /><path clip-path=\"url(#clip220)\" d=\"M 0 0 M2088.16 197.439 L2092.42 197.439 L2092.42 233.458 L2088.16 233.458 L2088.16 197.439 Z\" fill=\"#000000\" fill-rule=\"evenodd\" fill-opacity=\"1\" /><path clip-path=\"url(#clip220)\" d=\"M 0 0 M2096.89 207.532 L2101.15 207.532 L2101.15 233.458 L2096.89 233.458 L2096.89 207.532 M2096.89 197.439 L2101.15 197.439 L2101.15 202.833 L2096.89 202.833 L2096.89 197.439 Z\" fill=\"#000000\" fill-rule=\"evenodd\" fill-opacity=\"1\" /><path clip-path=\"url(#clip220)\" d=\"M 0 0 M2122.67 211.467 L2122.67 197.439 L2126.93 197.439 L2126.93 233.458 L2122.67 233.458 L2122.67 229.569 Q2121.33 231.883 2119.27 233.018 Q2117.23 234.129 2114.36 234.129 Q2109.66 234.129 2106.7 230.379 Q2103.76 226.629 2103.76 220.518 Q2103.76 214.407 2106.7 210.657 Q2109.66 206.907 2114.36 206.907 Q2117.23 206.907 2119.27 208.041 Q2121.33 209.152 2122.67 211.467 M2108.16 220.518 Q2108.16 225.217 2110.08 227.902 Q2112.02 230.564 2115.4 230.564 Q2118.78 230.564 2120.73 227.902 Q2122.67 225.217 2122.67 220.518 Q2122.67 215.819 2120.73 213.157 Q2118.78 210.472 2115.4 210.472 Q2112.02 210.472 2110.08 213.157 Q2108.16 215.819 2108.16 220.518 Z\" fill=\"#000000\" fill-rule=\"evenodd\" fill-opacity=\"1\" /><path clip-path=\"url(#clip220)\" d=\"M 0 0 M2143.18 220.425 Q2138.02 220.425 2136.03 221.606 Q2134.04 222.786 2134.04 225.634 Q2134.04 227.902 2135.52 229.245 Q2137.02 230.564 2139.59 230.564 Q2143.14 230.564 2145.27 228.064 Q2147.42 225.541 2147.42 221.374 L2147.42 220.425 L2143.18 220.425 M2151.68 218.666 L2151.68 233.458 L2147.42 233.458 L2147.42 229.522 Q2145.96 231.883 2143.78 233.018 Q2141.61 234.129 2138.46 234.129 Q2134.48 234.129 2132.12 231.907 Q2129.78 229.661 2129.78 225.911 Q2129.78 221.536 2132.7 219.314 Q2135.64 217.092 2141.45 217.092 L2147.42 217.092 L2147.42 216.675 Q2147.42 213.735 2145.47 212.138 Q2143.55 210.518 2140.06 210.518 Q2137.83 210.518 2135.73 211.05 Q2133.62 211.583 2131.68 212.647 L2131.68 208.712 Q2134.02 207.81 2136.21 207.37 Q2138.41 206.907 2140.5 206.907 Q2146.12 206.907 2148.9 209.823 Q2151.68 212.74 2151.68 218.666 Z\" fill=\"#000000\" fill-rule=\"evenodd\" fill-opacity=\"1\" /><path clip-path=\"url(#clip220)\" d=\"M 0 0 M2160.36 200.171 L2160.36 207.532 L2169.13 207.532 L2169.13 210.842 L2160.36 210.842 L2160.36 224.916 Q2160.36 228.087 2161.21 228.99 Q2162.09 229.893 2164.76 229.893 L2169.13 229.893 L2169.13 233.458 L2164.76 233.458 Q2159.83 233.458 2157.95 231.629 Q2156.08 229.777 2156.08 224.916 L2156.08 210.842 L2152.95 210.842 L2152.95 207.532 L2156.08 207.532 L2156.08 200.171 L2160.36 200.171 Z\" fill=\"#000000\" fill-rule=\"evenodd\" fill-opacity=\"1\" /><path clip-path=\"url(#clip220)\" d=\"M 0 0 M2173.6 207.532 L2177.86 207.532 L2177.86 233.458 L2173.6 233.458 L2173.6 207.532 M2173.6 197.439 L2177.86 197.439 L2177.86 202.833 L2173.6 202.833 L2173.6 197.439 Z\" fill=\"#000000\" fill-rule=\"evenodd\" fill-opacity=\"1\" /><path clip-path=\"url(#clip220)\" d=\"M 0 0 M2192.37 210.518 Q2188.95 210.518 2186.95 213.203 Q2184.96 215.865 2184.96 220.518 Q2184.96 225.171 2186.93 227.856 Q2188.92 230.518 2192.37 230.518 Q2195.77 230.518 2197.77 227.833 Q2199.76 225.147 2199.76 220.518 Q2199.76 215.911 2197.77 213.226 Q2195.77 210.518 2192.37 210.518 M2192.37 206.907 Q2197.93 206.907 2201.1 210.518 Q2204.27 214.129 2204.27 220.518 Q2204.27 226.884 2201.1 230.518 Q2197.93 234.129 2192.37 234.129 Q2186.79 234.129 2183.62 230.518 Q2180.47 226.884 2180.47 220.518 Q2180.47 214.129 2183.62 210.518 Q2186.79 206.907 2192.37 206.907 Z\" fill=\"#000000\" fill-rule=\"evenodd\" fill-opacity=\"1\" /><path clip-path=\"url(#clip220)\" d=\"M 0 0 M2230.29 217.809 L2230.29 233.458 L2226.03 233.458 L2226.03 217.948 Q2226.03 214.268 2224.59 212.439 Q2223.16 210.61 2220.29 210.61 Q2216.84 210.61 2214.85 212.81 Q2212.86 215.009 2212.86 218.805 L2212.86 233.458 L2208.58 233.458 L2208.58 207.532 L2212.86 207.532 L2212.86 211.56 Q2214.39 209.222 2216.45 208.064 Q2218.53 206.907 2221.24 206.907 Q2225.7 206.907 2228 209.685 Q2230.29 212.439 2230.29 217.809 Z\" fill=\"#000000\" fill-rule=\"evenodd\" fill-opacity=\"1\" /></svg>\n"
      ]
     },
     "execution_count": 32,
     "metadata": {},
     "output_type": "execute_result"
    }
   ],
   "source": [
    "plot(data_schedule, training_losses, label=\"Training\")\n",
    "plot!(data_schedule, valid_losses, label=\"Validation\")"
   ]
  },
  {
   "cell_type": "markdown",
   "metadata": {},
   "source": [
    "# Final Results"
   ]
  },
  {
   "cell_type": "code",
   "execution_count": 33,
   "metadata": {},
   "outputs": [
    {
     "data": {
      "text/plain": [
       "AdaBoostClassifier(\n",
       "    base_estimator = nothing,\n",
       "    n_estimators = 2,\n",
       "    learning_rate = 1.2915496650148839,\n",
       "    algorithm = \"SAMME.R\",\n",
       "    random_state = nothing)\u001b[34m @400\u001b[39m"
      ]
     },
     "execution_count": 33,
     "metadata": {},
     "output_type": "execute_result"
    }
   ],
   "source": [
    "final_boost_model = best.best_model"
   ]
  },
  {
   "cell_type": "code",
   "execution_count": 34,
   "metadata": {},
   "outputs": [
    {
     "data": {
      "text/plain": [
       "\u001b[34mMachine{AdaBoostClassifier} @749\u001b[39m trained 0 times.\n",
       "  args: \n",
       "    1:\t\u001b[34mSource @130\u001b[39m ⏎ `Table{AbstractArray{Continuous,1}}`\n",
       "    2:\t\u001b[34mSource @320\u001b[39m ⏎ `AbstractArray{Multiclass{3},1}`\n"
      ]
     },
     "execution_count": 34,
     "metadata": {},
     "output_type": "execute_result"
    }
   ],
   "source": [
    "Final_Boost = machine(final_boost_model, X, y)"
   ]
  },
  {
   "cell_type": "code",
   "execution_count": 35,
   "metadata": {},
   "outputs": [
    {
     "name": "stderr",
     "output_type": "stream",
     "text": [
      "┌ Info: Training \u001b[34mMachine{AdaBoostClassifier} @749\u001b[39m.\n",
      "└ @ MLJBase /home/andrew/.julia/packages/MLJBase/uKzAz/src/machines.jl:319\n"
     ]
    },
    {
     "data": {
      "text/plain": [
       "\u001b[34mMachine{AdaBoostClassifier} @749\u001b[39m trained 1 time.\n",
       "  args: \n",
       "    1:\t\u001b[34mSource @130\u001b[39m ⏎ `Table{AbstractArray{Continuous,1}}`\n",
       "    2:\t\u001b[34mSource @320\u001b[39m ⏎ `AbstractArray{Multiclass{3},1}`\n"
      ]
     },
     "execution_count": 35,
     "metadata": {},
     "output_type": "execute_result"
    }
   ],
   "source": [
    "fit!(Final_Boost, rows=train, verbosity=2)"
   ]
  },
  {
   "cell_type": "code",
   "execution_count": 36,
   "metadata": {},
   "outputs": [],
   "source": [
    "ŷ2 = MLJ.predict(Final_Boost, X[test,:]);"
   ]
  },
  {
   "cell_type": "code",
   "execution_count": 37,
   "metadata": {},
   "outputs": [
    {
     "data": {
      "text/plain": [
       "0.6265335859463003"
      ]
     },
     "execution_count": 37,
     "metadata": {},
     "output_type": "execute_result"
    }
   ],
   "source": [
    "cross_entropy(ŷ2, y[test]) |> mean"
   ]
  },
  {
   "cell_type": "code",
   "execution_count": 38,
   "metadata": {},
   "outputs": [
    {
     "data": {
      "text/plain": [
       "0.6614420062695925"
      ]
     },
     "execution_count": 38,
     "metadata": {},
     "output_type": "execute_result"
    }
   ],
   "source": [
    "acc(ŷ2, y[test])"
   ]
  },
  {
   "cell_type": "code",
   "execution_count": 39,
   "metadata": {},
   "outputs": [
    {
     "name": "stderr",
     "output_type": "stream",
     "text": [
      "┌ Warning: The classes are un-ordered,\n",
      "│ using order: [\"EI\", \"IE\", \"N\"].\n",
      "│ To suppress this warning, consider coercing to OrderedFactor.\n",
      "└ @ MLJBase /home/andrew/.julia/packages/MLJBase/uKzAz/src/measures/confusion_matrix.jl:87\n"
     ]
    },
    {
     "data": {
      "text/plain": [
       "              ┌─────────────────────────────────────────┐\n",
       "              │              Ground Truth               │\n",
       "┌─────────────┼─────────────┬─────────────┬─────────────┤\n",
       "│  Predicted  │     EI      │     IE      │      N      │\n",
       "├─────────────┼─────────────┼─────────────┼─────────────┤\n",
       "│     EI      │     81      │     52      │     26      │\n",
       "├─────────────┼─────────────┼─────────────┼─────────────┤\n",
       "│     IE      │      2      │     101     │     65      │\n",
       "├─────────────┼─────────────┼─────────────┼─────────────┤\n",
       "│      N      │     70      │      1      │     240     │\n",
       "└─────────────┴─────────────┴─────────────┴─────────────┘\n"
      ]
     },
     "execution_count": 39,
     "metadata": {},
     "output_type": "execute_result"
    }
   ],
   "source": [
    "confusion_matrix(mode.(ŷ2), y[test])"
   ]
  },
  {
   "cell_type": "code",
   "execution_count": null,
   "metadata": {},
   "outputs": [],
   "source": []
  }
 ],
 "metadata": {
  "kernelspec": {
   "display_name": "Julia 1.5.0",
   "language": "julia",
   "name": "julia-1.5"
  },
  "language_info": {
   "file_extension": ".jl",
   "mimetype": "application/julia",
   "name": "julia",
   "version": "1.5.0"
  }
 },
 "nbformat": 4,
 "nbformat_minor": 4
}
