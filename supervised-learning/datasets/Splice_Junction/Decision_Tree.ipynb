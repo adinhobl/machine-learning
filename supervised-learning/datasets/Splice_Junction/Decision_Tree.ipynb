{
 "cells": [
  {
   "cell_type": "markdown",
   "metadata": {},
   "source": [
    "# Imports"
   ]
  },
  {
   "cell_type": "code",
   "execution_count": 104,
   "metadata": {},
   "outputs": [],
   "source": [
    "using DataFrames\n",
    "using CSV\n",
    "using MLJ\n",
    "using DecisionTree: print_tree\n",
    "using Plots\n",
    "using StatsBase\n",
    "\n",
    "include(\"../../lib.jl\")\n",
    "\n",
    "ENV[\"LINES\"]=30;"
   ]
  },
  {
   "cell_type": "code",
   "execution_count": 143,
   "metadata": {},
   "outputs": [
    {
     "data": {
      "text/plain": [
       "\"Figures/\""
      ]
     },
     "execution_count": 143,
     "metadata": {},
     "output_type": "execute_result"
    }
   ],
   "source": [
    "mkdir(\"Figures/\")"
   ]
  },
  {
   "cell_type": "markdown",
   "metadata": {},
   "source": [
    "# Data"
   ]
  },
  {
   "cell_type": "code",
   "execution_count": 105,
   "metadata": {
    "scrolled": true
   },
   "outputs": [
    {
     "data": {
      "text/html": [
       "<table class=\"data-frame\"><thead><tr><th></th><th>Class</th><th> Instance</th><th>                       Nucleotide_Sequence</th></tr><tr><th></th><th>String</th><th>String</th><th>String</th></tr></thead><tbody><p>3,190 rows × 3 columns</p><tr><th>1</th><td>EI</td><td>    ATRINS-DONOR-521</td><td>               CCAGCTGCATCACAGGAGGCCAGCGAGCAGGTCTGTTCCAAGGGCCTTCGAGCCAGTCTG</td></tr><tr><th>2</th><td>EI</td><td>    ATRINS-DONOR-905</td><td>               AGACCCGCCGGGAGGCGGAGGACCTGCAGGGTGAGCCCCACCGCCCCTCCGTGCCCCCGC</td></tr><tr><th>3</th><td>EI</td><td>    BABAPOE-DONOR-30</td><td>               GAGGTGAAGGACGTCCTTCCCCAGGAGCCGGTGAGAAGCGCAGTCGGGGGCACGGGGATG</td></tr><tr><th>4</th><td>EI</td><td>    BABAPOE-DONOR-867</td><td>              GGGCTGCGTTGCTGGTCACATTCCTGGCAGGTATGGGGCGGGGCTTGCTCGGTTTTCCCC</td></tr><tr><th>5</th><td>EI</td><td>    BABAPOE-DONOR-2817</td><td>             GCTCAGCCCCCAGGTCACCCAGGAACTGACGTGAGTGTCCCCATCCCGGCCCTTGACCCT</td></tr><tr><th>6</th><td>EI</td><td>    CHPIGECA-DONOR-378</td><td>             CAGACTGGGTGGACAACAAAACCTTCAGCGGTAAGAGAGGGCCAAGCTCAGAGACCACAG</td></tr><tr><th>7</th><td>EI</td><td>    CHPIGECA-DONOR-903</td><td>             CCTTTGAGGACAGCACCAAGAAGTGTGCAGGTACGTTCCCACCTGCCCTGGTGGCCGCCA</td></tr><tr><th>8</th><td>EI</td><td>    CHPIGECA-DONOR-1313</td><td>            CCCTCGTGCGGTCCACGACCAAGACCAGCGGTGAGCCACGGGCAGGCCGGGGTCGTGGGG</td></tr><tr><th>9</th><td>EI</td><td>    GCRHBBA1-DONOR-1260</td><td>            TGGCGACTACGGCGCGGAGGCCCTGGAGAGGTGAGGACCCTCCTGTCCCTGCTCCAGTCC</td></tr><tr><th>10</th><td>EI</td><td>    GCRHBBA1-DONOR-1590</td><td>            AAGCTGACAGTGGACCCGGTCAACTTCAAGGTGAGCCAGGAGTCGGGTGGGAGGGTGAGA</td></tr><tr><th>11</th><td>EI</td><td>    GCRHBBA6-DONOR-461</td><td>             TGGCGACTACGGCGCGGAGGCCCTGGAGAGGTGAGGACCCTGGTATCCCTGCTGCCAGTC</td></tr><tr><th>12</th><td>EI</td><td>    GCRHBBA6-DONOR-795</td><td>             AAGCTGAGAGTGGACCCTGTCAACTTCAAGGTGAGCCACCAGTCGGGTGGGGAGGGTGAG</td></tr><tr><th>13</th><td>EI</td><td>    GIBHBGGL-DONOR-2278</td><td>            GGAAGATGCTGGAGGAGAAACCCTGGGAAGGTAGGCTCTGGTGACCAGGACAAGGGAGGG</td></tr><tr><th>14</th><td>EI</td><td>    GIBHBGGL-DONOR-2624</td><td>            AAGCTGCATGTGGATCCTGAGAACTTCAGGGTGAGTACAGGAGATGTTTCAGCCCTGTTG</td></tr><tr><th>15</th><td>EI</td><td>    GIBHBGGL-DONOR-7198</td><td>            GGAAGATGTTGGAGGAGAAACCCTGGGAAGGTAGGCTCTGGTGACCAGGACAAGGGAGGG</td></tr><tr><th>16</th><td>EI</td><td>    GIBHBGGL-DONOR-7544</td><td>            AAGCTGCATGTGGATCCTGAGAACTTCAGGGTGAGTACAGGAGATGTTTCAGCCCTGTTG</td></tr><tr><th>17</th><td>EI</td><td>    HUMA1ATP-DONOR-1972</td><td>            GGCACCACCACTGACCTGGGACAGTGAATCGTAAGTATGCCTTTCACTGCGAGGGGTTCT</td></tr><tr><th>18</th><td>EI</td><td>    HUMA1ATP-DONOR-7932</td><td>            TTGCTCTGGTGAATTACATCTTCTTTAAAGGTAAGGTTGCTCAACCAGCCTGAGCTGTTT</td></tr><tr><th>19</th><td>EI</td><td>    HUMA1ATP-DONOR-9653</td><td>            CACCAAGTTCCTGGAAAATGAAGACAGAAGGTGATTCCCCAACCTGAGGGTGACCAAGAA</td></tr><tr><th>20</th><td>EI</td><td>    HUMA1ATP-DONOR-11057</td><td>           ACAGAGGAGGCACCCCTGAAGCTCTCCAAGGTGAGATCACCCTGACGACCTTGTTGCACC</td></tr><tr><th>21</th><td>EI</td><td>    HUMA1GLY2-DONOR-1693</td><td>           GTGCCCATCACCAACGCCACCCTGGACCGGGTGAGTGCCTGGGCTAGCCCTGTCCTGAGC</td></tr><tr><th>22</th><td>EI</td><td>    HUMA1GLY2-DONOR-2251</td><td>           CACGATCTTTCTCAGAGAGTACCAGACCCGGTGAGAGCCCCCATTCCAATGCACCCCCGA</td></tr><tr><th>23</th><td>EI</td><td>    HUMA1GLY2-DONOR-2540</td><td>           AGCGGGAGAATGGGACCGTCTCCAGATACGGTGAGGGCCAGCCCTCAGGCAGGAGGGTTC</td></tr><tr><th>24</th><td>EI</td><td>    HUMA1GLY2-DONOR-3352</td><td>           ATGAGAAGAACTGGGGGCTGTCTTTCTATGGTAGGCATGCTTAGCAGCCCCAAACTCATG</td></tr><tr><th>25</th><td>EI</td><td>    HUMA1GLY2-DONOR-3606</td><td>           TCAGATGTCATGTACACCGACTGGAAAAAGGTAAACGCAAGGGATTGGACATTGCCCACC</td></tr><tr><th>26</th><td>EI</td><td>    HUMACCYBA-DONOR-289</td><td>            GATCCGCCGCCCGTCCACACCCGCCGCCAGGTAAGCCCGGCCAGCCGACCGGGGCATGCG</td></tr><tr><th>27</th><td>EI</td><td>    HUMACCYBA-DONOR-1250</td><td>           CCCTCCATCGTGGGGCGCCCCAGGCACCAGGTAGGGGAGCTGGCTGGGTGGGGCAGCCCC</td></tr><tr><th>28</th><td>EI</td><td>    HUMACCYBA-DONOR-1624</td><td>           CCCAAGGCCAACCGCGAGAAGATGACCCAGGTGAGTGGCCCGCTACCTCTTCTGGTGGCC</td></tr><tr><th>29</th><td>EI</td><td>    HUMACCYBA-DONOR-2504</td><td>           CTGAGGCACTCTTCCAGCCTTCCTTCCTGGGTGAGTGGAGACTGTCTCCCGGCTCTGCCT</td></tr><tr><th>30</th><td>EI</td><td>    HUMACCYBA-DONOR-2781</td><td>           GCCCTGGCACCCAGCACAATGAAGATCAAGGTGGGTGTCTTTCCTGCCTGAGCTGACCTG</td></tr><tr><th>&vellip;</th><td>&vellip;</td><td>&vellip;</td><td>&vellip;</td></tr></tbody></table>"
      ],
      "text/latex": [
       "\\begin{tabular}{r|ccc}\n",
       "\t& Class &  Instance &                        Nucleotide\\_Sequence\\\\\n",
       "\t\\hline\n",
       "\t& String & String & String\\\\\n",
       "\t\\hline\n",
       "\t1 & EI &     ATRINS-DONOR-521 &                CCAGCTGCATCACAGGAGGCCAGCGAGCAGGTCTGTTCCAAGGGCCTTCGAGCCAGTCTG \\\\\n",
       "\t2 & EI &     ATRINS-DONOR-905 &                AGACCCGCCGGGAGGCGGAGGACCTGCAGGGTGAGCCCCACCGCCCCTCCGTGCCCCCGC \\\\\n",
       "\t3 & EI &     BABAPOE-DONOR-30 &                GAGGTGAAGGACGTCCTTCCCCAGGAGCCGGTGAGAAGCGCAGTCGGGGGCACGGGGATG \\\\\n",
       "\t4 & EI &     BABAPOE-DONOR-867 &               GGGCTGCGTTGCTGGTCACATTCCTGGCAGGTATGGGGCGGGGCTTGCTCGGTTTTCCCC \\\\\n",
       "\t5 & EI &     BABAPOE-DONOR-2817 &              GCTCAGCCCCCAGGTCACCCAGGAACTGACGTGAGTGTCCCCATCCCGGCCCTTGACCCT \\\\\n",
       "\t6 & EI &     CHPIGECA-DONOR-378 &              CAGACTGGGTGGACAACAAAACCTTCAGCGGTAAGAGAGGGCCAAGCTCAGAGACCACAG \\\\\n",
       "\t7 & EI &     CHPIGECA-DONOR-903 &              CCTTTGAGGACAGCACCAAGAAGTGTGCAGGTACGTTCCCACCTGCCCTGGTGGCCGCCA \\\\\n",
       "\t8 & EI &     CHPIGECA-DONOR-1313 &             CCCTCGTGCGGTCCACGACCAAGACCAGCGGTGAGCCACGGGCAGGCCGGGGTCGTGGGG \\\\\n",
       "\t9 & EI &     GCRHBBA1-DONOR-1260 &             TGGCGACTACGGCGCGGAGGCCCTGGAGAGGTGAGGACCCTCCTGTCCCTGCTCCAGTCC \\\\\n",
       "\t10 & EI &     GCRHBBA1-DONOR-1590 &             AAGCTGACAGTGGACCCGGTCAACTTCAAGGTGAGCCAGGAGTCGGGTGGGAGGGTGAGA \\\\\n",
       "\t11 & EI &     GCRHBBA6-DONOR-461 &              TGGCGACTACGGCGCGGAGGCCCTGGAGAGGTGAGGACCCTGGTATCCCTGCTGCCAGTC \\\\\n",
       "\t12 & EI &     GCRHBBA6-DONOR-795 &              AAGCTGAGAGTGGACCCTGTCAACTTCAAGGTGAGCCACCAGTCGGGTGGGGAGGGTGAG \\\\\n",
       "\t13 & EI &     GIBHBGGL-DONOR-2278 &             GGAAGATGCTGGAGGAGAAACCCTGGGAAGGTAGGCTCTGGTGACCAGGACAAGGGAGGG \\\\\n",
       "\t14 & EI &     GIBHBGGL-DONOR-2624 &             AAGCTGCATGTGGATCCTGAGAACTTCAGGGTGAGTACAGGAGATGTTTCAGCCCTGTTG \\\\\n",
       "\t15 & EI &     GIBHBGGL-DONOR-7198 &             GGAAGATGTTGGAGGAGAAACCCTGGGAAGGTAGGCTCTGGTGACCAGGACAAGGGAGGG \\\\\n",
       "\t16 & EI &     GIBHBGGL-DONOR-7544 &             AAGCTGCATGTGGATCCTGAGAACTTCAGGGTGAGTACAGGAGATGTTTCAGCCCTGTTG \\\\\n",
       "\t17 & EI &     HUMA1ATP-DONOR-1972 &             GGCACCACCACTGACCTGGGACAGTGAATCGTAAGTATGCCTTTCACTGCGAGGGGTTCT \\\\\n",
       "\t18 & EI &     HUMA1ATP-DONOR-7932 &             TTGCTCTGGTGAATTACATCTTCTTTAAAGGTAAGGTTGCTCAACCAGCCTGAGCTGTTT \\\\\n",
       "\t19 & EI &     HUMA1ATP-DONOR-9653 &             CACCAAGTTCCTGGAAAATGAAGACAGAAGGTGATTCCCCAACCTGAGGGTGACCAAGAA \\\\\n",
       "\t20 & EI &     HUMA1ATP-DONOR-11057 &            ACAGAGGAGGCACCCCTGAAGCTCTCCAAGGTGAGATCACCCTGACGACCTTGTTGCACC \\\\\n",
       "\t21 & EI &     HUMA1GLY2-DONOR-1693 &            GTGCCCATCACCAACGCCACCCTGGACCGGGTGAGTGCCTGGGCTAGCCCTGTCCTGAGC \\\\\n",
       "\t22 & EI &     HUMA1GLY2-DONOR-2251 &            CACGATCTTTCTCAGAGAGTACCAGACCCGGTGAGAGCCCCCATTCCAATGCACCCCCGA \\\\\n",
       "\t23 & EI &     HUMA1GLY2-DONOR-2540 &            AGCGGGAGAATGGGACCGTCTCCAGATACGGTGAGGGCCAGCCCTCAGGCAGGAGGGTTC \\\\\n",
       "\t24 & EI &     HUMA1GLY2-DONOR-3352 &            ATGAGAAGAACTGGGGGCTGTCTTTCTATGGTAGGCATGCTTAGCAGCCCCAAACTCATG \\\\\n",
       "\t25 & EI &     HUMA1GLY2-DONOR-3606 &            TCAGATGTCATGTACACCGACTGGAAAAAGGTAAACGCAAGGGATTGGACATTGCCCACC \\\\\n",
       "\t26 & EI &     HUMACCYBA-DONOR-289 &             GATCCGCCGCCCGTCCACACCCGCCGCCAGGTAAGCCCGGCCAGCCGACCGGGGCATGCG \\\\\n",
       "\t27 & EI &     HUMACCYBA-DONOR-1250 &            CCCTCCATCGTGGGGCGCCCCAGGCACCAGGTAGGGGAGCTGGCTGGGTGGGGCAGCCCC \\\\\n",
       "\t28 & EI &     HUMACCYBA-DONOR-1624 &            CCCAAGGCCAACCGCGAGAAGATGACCCAGGTGAGTGGCCCGCTACCTCTTCTGGTGGCC \\\\\n",
       "\t29 & EI &     HUMACCYBA-DONOR-2504 &            CTGAGGCACTCTTCCAGCCTTCCTTCCTGGGTGAGTGGAGACTGTCTCCCGGCTCTGCCT \\\\\n",
       "\t30 & EI &     HUMACCYBA-DONOR-2781 &            GCCCTGGCACCCAGCACAATGAAGATCAAGGTGGGTGTCTTTCCTGCCTGAGCTGACCTG \\\\\n",
       "\t$\\dots$ & $\\dots$ & $\\dots$ & $\\dots$ \\\\\n",
       "\\end{tabular}\n"
      ],
      "text/plain": [
       "3190×3 DataFrame. Omitted printing of 1 columns\n",
       "│ Row  │ Class  │  Instance               │\n",
       "│      │ \u001b[90mString\u001b[39m │ \u001b[90mString\u001b[39m                  │\n",
       "├──────┼────────┼─────────────────────────┤\n",
       "│ 1    │ EI     │     ATRINS-DONOR-521    │\n",
       "│ 2    │ EI     │     ATRINS-DONOR-905    │\n",
       "│ 3    │ EI     │     BABAPOE-DONOR-30    │\n",
       "│ 4    │ EI     │     BABAPOE-DONOR-867   │\n",
       "│ 5    │ EI     │     BABAPOE-DONOR-2817  │\n",
       "│ 6    │ EI     │     CHPIGECA-DONOR-378  │\n",
       "│ 7    │ EI     │     CHPIGECA-DONOR-903  │\n",
       "│ 8    │ EI     │     CHPIGECA-DONOR-1313 │\n",
       "│ 9    │ EI     │     GCRHBBA1-DONOR-1260 │\n",
       "│ 10   │ EI     │     GCRHBBA1-DONOR-1590 │\n",
       "⋮\n",
       "│ 3180 │ N      │      MNKHBPSBD-NEG-961  │\n",
       "│ 3181 │ N      │      ORAHBA01-NEG-121   │\n",
       "│ 3182 │ N      │      ORAHBBE-NEG-2581   │\n",
       "│ 3183 │ N      │      ORAHBBPSE-NEG-2101 │\n",
       "│ 3184 │ N      │      ORAHBBPSE-NEG-6661 │\n",
       "│ 3185 │ N      │      ORAHBG2F-NEG-181   │\n",
       "│ 3186 │ N      │      ORAHBPSBD-NEG-2881 │\n",
       "│ 3187 │ N      │      ORAINVOL-NEG-2161  │\n",
       "│ 3188 │ N      │      ORARGIT-NEG-241    │\n",
       "│ 3189 │ N      │      TARHBB-NEG-541     │\n",
       "│ 3190 │ N      │      TARHBD-NEG-1981    │"
      ]
     },
     "execution_count": 105,
     "metadata": {},
     "output_type": "execute_result"
    }
   ],
   "source": [
    "df = CSV.read(\"data.csv\")"
   ]
  },
  {
   "cell_type": "code",
   "execution_count": 106,
   "metadata": {},
   "outputs": [
    {
     "data": {
      "text/html": [
       "<table class=\"data-frame\"><thead><tr><th></th><th>x1</th><th>x2</th><th>x3</th><th>x4</th><th>x5</th><th>x6</th><th>x7</th><th>x8</th><th>x9</th></tr><tr><th></th><th>Float64</th><th>Float64</th><th>Float64</th><th>Float64</th><th>Float64</th><th>Float64</th><th>Float64</th><th>Float64</th><th>Float64</th></tr></thead><tbody><p>3,190 rows × 60 columns (omitted printing of 51 columns)</p><tr><th>1</th><td>67.0</td><td>67.0</td><td>65.0</td><td>71.0</td><td>67.0</td><td>84.0</td><td>71.0</td><td>67.0</td><td>65.0</td></tr><tr><th>2</th><td>65.0</td><td>71.0</td><td>65.0</td><td>67.0</td><td>67.0</td><td>67.0</td><td>71.0</td><td>67.0</td><td>67.0</td></tr><tr><th>3</th><td>71.0</td><td>65.0</td><td>71.0</td><td>71.0</td><td>84.0</td><td>71.0</td><td>65.0</td><td>65.0</td><td>71.0</td></tr><tr><th>4</th><td>71.0</td><td>71.0</td><td>71.0</td><td>67.0</td><td>84.0</td><td>71.0</td><td>67.0</td><td>71.0</td><td>84.0</td></tr><tr><th>5</th><td>71.0</td><td>67.0</td><td>84.0</td><td>67.0</td><td>65.0</td><td>71.0</td><td>67.0</td><td>67.0</td><td>67.0</td></tr><tr><th>6</th><td>67.0</td><td>65.0</td><td>71.0</td><td>65.0</td><td>67.0</td><td>84.0</td><td>71.0</td><td>71.0</td><td>71.0</td></tr><tr><th>7</th><td>67.0</td><td>67.0</td><td>84.0</td><td>84.0</td><td>84.0</td><td>71.0</td><td>65.0</td><td>71.0</td><td>71.0</td></tr><tr><th>8</th><td>67.0</td><td>67.0</td><td>67.0</td><td>84.0</td><td>67.0</td><td>71.0</td><td>84.0</td><td>71.0</td><td>67.0</td></tr><tr><th>9</th><td>84.0</td><td>71.0</td><td>71.0</td><td>67.0</td><td>71.0</td><td>65.0</td><td>67.0</td><td>84.0</td><td>65.0</td></tr><tr><th>10</th><td>65.0</td><td>65.0</td><td>71.0</td><td>67.0</td><td>84.0</td><td>71.0</td><td>65.0</td><td>67.0</td><td>65.0</td></tr><tr><th>11</th><td>84.0</td><td>71.0</td><td>71.0</td><td>67.0</td><td>71.0</td><td>65.0</td><td>67.0</td><td>84.0</td><td>65.0</td></tr><tr><th>12</th><td>65.0</td><td>65.0</td><td>71.0</td><td>67.0</td><td>84.0</td><td>71.0</td><td>65.0</td><td>71.0</td><td>65.0</td></tr><tr><th>13</th><td>71.0</td><td>71.0</td><td>65.0</td><td>65.0</td><td>71.0</td><td>65.0</td><td>84.0</td><td>71.0</td><td>67.0</td></tr><tr><th>14</th><td>65.0</td><td>65.0</td><td>71.0</td><td>67.0</td><td>84.0</td><td>71.0</td><td>67.0</td><td>65.0</td><td>84.0</td></tr><tr><th>15</th><td>71.0</td><td>71.0</td><td>65.0</td><td>65.0</td><td>71.0</td><td>65.0</td><td>84.0</td><td>71.0</td><td>84.0</td></tr><tr><th>16</th><td>65.0</td><td>65.0</td><td>71.0</td><td>67.0</td><td>84.0</td><td>71.0</td><td>67.0</td><td>65.0</td><td>84.0</td></tr><tr><th>17</th><td>71.0</td><td>71.0</td><td>67.0</td><td>65.0</td><td>67.0</td><td>67.0</td><td>65.0</td><td>67.0</td><td>67.0</td></tr><tr><th>18</th><td>84.0</td><td>84.0</td><td>71.0</td><td>67.0</td><td>84.0</td><td>67.0</td><td>84.0</td><td>71.0</td><td>71.0</td></tr><tr><th>19</th><td>67.0</td><td>65.0</td><td>67.0</td><td>67.0</td><td>65.0</td><td>65.0</td><td>71.0</td><td>84.0</td><td>84.0</td></tr><tr><th>20</th><td>65.0</td><td>67.0</td><td>65.0</td><td>71.0</td><td>65.0</td><td>71.0</td><td>71.0</td><td>65.0</td><td>71.0</td></tr><tr><th>21</th><td>71.0</td><td>84.0</td><td>71.0</td><td>67.0</td><td>67.0</td><td>67.0</td><td>65.0</td><td>84.0</td><td>67.0</td></tr><tr><th>22</th><td>67.0</td><td>65.0</td><td>67.0</td><td>71.0</td><td>65.0</td><td>84.0</td><td>67.0</td><td>84.0</td><td>84.0</td></tr><tr><th>23</th><td>65.0</td><td>71.0</td><td>67.0</td><td>71.0</td><td>71.0</td><td>71.0</td><td>65.0</td><td>71.0</td><td>65.0</td></tr><tr><th>24</th><td>65.0</td><td>84.0</td><td>71.0</td><td>65.0</td><td>71.0</td><td>65.0</td><td>65.0</td><td>71.0</td><td>65.0</td></tr><tr><th>25</th><td>84.0</td><td>67.0</td><td>65.0</td><td>71.0</td><td>65.0</td><td>84.0</td><td>71.0</td><td>84.0</td><td>67.0</td></tr><tr><th>26</th><td>71.0</td><td>65.0</td><td>84.0</td><td>67.0</td><td>67.0</td><td>71.0</td><td>67.0</td><td>67.0</td><td>71.0</td></tr><tr><th>27</th><td>67.0</td><td>67.0</td><td>67.0</td><td>84.0</td><td>67.0</td><td>67.0</td><td>65.0</td><td>84.0</td><td>67.0</td></tr><tr><th>28</th><td>67.0</td><td>67.0</td><td>67.0</td><td>65.0</td><td>65.0</td><td>71.0</td><td>71.0</td><td>67.0</td><td>67.0</td></tr><tr><th>29</th><td>67.0</td><td>84.0</td><td>71.0</td><td>65.0</td><td>71.0</td><td>71.0</td><td>67.0</td><td>65.0</td><td>67.0</td></tr><tr><th>30</th><td>71.0</td><td>67.0</td><td>67.0</td><td>67.0</td><td>84.0</td><td>71.0</td><td>71.0</td><td>67.0</td><td>65.0</td></tr><tr><th>&vellip;</th><td>&vellip;</td><td>&vellip;</td><td>&vellip;</td><td>&vellip;</td><td>&vellip;</td><td>&vellip;</td><td>&vellip;</td><td>&vellip;</td><td>&vellip;</td></tr></tbody></table>"
      ],
      "text/latex": [
       "\\begin{tabular}{r|cccccccccc}\n",
       "\t& x1 & x2 & x3 & x4 & x5 & x6 & x7 & x8 & x9 & \\\\\n",
       "\t\\hline\n",
       "\t& Float64 & Float64 & Float64 & Float64 & Float64 & Float64 & Float64 & Float64 & Float64 & \\\\\n",
       "\t\\hline\n",
       "\t1 & 67.0 & 67.0 & 65.0 & 71.0 & 67.0 & 84.0 & 71.0 & 67.0 & 65.0 & $\\dots$ \\\\\n",
       "\t2 & 65.0 & 71.0 & 65.0 & 67.0 & 67.0 & 67.0 & 71.0 & 67.0 & 67.0 & $\\dots$ \\\\\n",
       "\t3 & 71.0 & 65.0 & 71.0 & 71.0 & 84.0 & 71.0 & 65.0 & 65.0 & 71.0 & $\\dots$ \\\\\n",
       "\t4 & 71.0 & 71.0 & 71.0 & 67.0 & 84.0 & 71.0 & 67.0 & 71.0 & 84.0 & $\\dots$ \\\\\n",
       "\t5 & 71.0 & 67.0 & 84.0 & 67.0 & 65.0 & 71.0 & 67.0 & 67.0 & 67.0 & $\\dots$ \\\\\n",
       "\t6 & 67.0 & 65.0 & 71.0 & 65.0 & 67.0 & 84.0 & 71.0 & 71.0 & 71.0 & $\\dots$ \\\\\n",
       "\t7 & 67.0 & 67.0 & 84.0 & 84.0 & 84.0 & 71.0 & 65.0 & 71.0 & 71.0 & $\\dots$ \\\\\n",
       "\t8 & 67.0 & 67.0 & 67.0 & 84.0 & 67.0 & 71.0 & 84.0 & 71.0 & 67.0 & $\\dots$ \\\\\n",
       "\t9 & 84.0 & 71.0 & 71.0 & 67.0 & 71.0 & 65.0 & 67.0 & 84.0 & 65.0 & $\\dots$ \\\\\n",
       "\t10 & 65.0 & 65.0 & 71.0 & 67.0 & 84.0 & 71.0 & 65.0 & 67.0 & 65.0 & $\\dots$ \\\\\n",
       "\t11 & 84.0 & 71.0 & 71.0 & 67.0 & 71.0 & 65.0 & 67.0 & 84.0 & 65.0 & $\\dots$ \\\\\n",
       "\t12 & 65.0 & 65.0 & 71.0 & 67.0 & 84.0 & 71.0 & 65.0 & 71.0 & 65.0 & $\\dots$ \\\\\n",
       "\t13 & 71.0 & 71.0 & 65.0 & 65.0 & 71.0 & 65.0 & 84.0 & 71.0 & 67.0 & $\\dots$ \\\\\n",
       "\t14 & 65.0 & 65.0 & 71.0 & 67.0 & 84.0 & 71.0 & 67.0 & 65.0 & 84.0 & $\\dots$ \\\\\n",
       "\t15 & 71.0 & 71.0 & 65.0 & 65.0 & 71.0 & 65.0 & 84.0 & 71.0 & 84.0 & $\\dots$ \\\\\n",
       "\t16 & 65.0 & 65.0 & 71.0 & 67.0 & 84.0 & 71.0 & 67.0 & 65.0 & 84.0 & $\\dots$ \\\\\n",
       "\t17 & 71.0 & 71.0 & 67.0 & 65.0 & 67.0 & 67.0 & 65.0 & 67.0 & 67.0 & $\\dots$ \\\\\n",
       "\t18 & 84.0 & 84.0 & 71.0 & 67.0 & 84.0 & 67.0 & 84.0 & 71.0 & 71.0 & $\\dots$ \\\\\n",
       "\t19 & 67.0 & 65.0 & 67.0 & 67.0 & 65.0 & 65.0 & 71.0 & 84.0 & 84.0 & $\\dots$ \\\\\n",
       "\t20 & 65.0 & 67.0 & 65.0 & 71.0 & 65.0 & 71.0 & 71.0 & 65.0 & 71.0 & $\\dots$ \\\\\n",
       "\t21 & 71.0 & 84.0 & 71.0 & 67.0 & 67.0 & 67.0 & 65.0 & 84.0 & 67.0 & $\\dots$ \\\\\n",
       "\t22 & 67.0 & 65.0 & 67.0 & 71.0 & 65.0 & 84.0 & 67.0 & 84.0 & 84.0 & $\\dots$ \\\\\n",
       "\t23 & 65.0 & 71.0 & 67.0 & 71.0 & 71.0 & 71.0 & 65.0 & 71.0 & 65.0 & $\\dots$ \\\\\n",
       "\t24 & 65.0 & 84.0 & 71.0 & 65.0 & 71.0 & 65.0 & 65.0 & 71.0 & 65.0 & $\\dots$ \\\\\n",
       "\t25 & 84.0 & 67.0 & 65.0 & 71.0 & 65.0 & 84.0 & 71.0 & 84.0 & 67.0 & $\\dots$ \\\\\n",
       "\t26 & 71.0 & 65.0 & 84.0 & 67.0 & 67.0 & 71.0 & 67.0 & 67.0 & 71.0 & $\\dots$ \\\\\n",
       "\t27 & 67.0 & 67.0 & 67.0 & 84.0 & 67.0 & 67.0 & 65.0 & 84.0 & 67.0 & $\\dots$ \\\\\n",
       "\t28 & 67.0 & 67.0 & 67.0 & 65.0 & 65.0 & 71.0 & 71.0 & 67.0 & 67.0 & $\\dots$ \\\\\n",
       "\t29 & 67.0 & 84.0 & 71.0 & 65.0 & 71.0 & 71.0 & 67.0 & 65.0 & 67.0 & $\\dots$ \\\\\n",
       "\t30 & 71.0 & 67.0 & 67.0 & 67.0 & 84.0 & 71.0 & 71.0 & 67.0 & 65.0 & $\\dots$ \\\\\n",
       "\t$\\dots$ & $\\dots$ & $\\dots$ & $\\dots$ & $\\dots$ & $\\dots$ & $\\dots$ & $\\dots$ & $\\dots$ & $\\dots$ &  \\\\\n",
       "\\end{tabular}\n"
      ],
      "text/plain": [
       "3190×60 DataFrame. Omitted printing of 53 columns\n",
       "│ Row  │ x1      │ x2      │ x3      │ x4      │ x5      │ x6      │ x7      │\n",
       "│      │ \u001b[90mFloat64\u001b[39m │ \u001b[90mFloat64\u001b[39m │ \u001b[90mFloat64\u001b[39m │ \u001b[90mFloat64\u001b[39m │ \u001b[90mFloat64\u001b[39m │ \u001b[90mFloat64\u001b[39m │ \u001b[90mFloat64\u001b[39m │\n",
       "├──────┼─────────┼─────────┼─────────┼─────────┼─────────┼─────────┼─────────┤\n",
       "│ 1    │ 67.0    │ 67.0    │ 65.0    │ 71.0    │ 67.0    │ 84.0    │ 71.0    │\n",
       "│ 2    │ 65.0    │ 71.0    │ 65.0    │ 67.0    │ 67.0    │ 67.0    │ 71.0    │\n",
       "│ 3    │ 71.0    │ 65.0    │ 71.0    │ 71.0    │ 84.0    │ 71.0    │ 65.0    │\n",
       "│ 4    │ 71.0    │ 71.0    │ 71.0    │ 67.0    │ 84.0    │ 71.0    │ 67.0    │\n",
       "│ 5    │ 71.0    │ 67.0    │ 84.0    │ 67.0    │ 65.0    │ 71.0    │ 67.0    │\n",
       "│ 6    │ 67.0    │ 65.0    │ 71.0    │ 65.0    │ 67.0    │ 84.0    │ 71.0    │\n",
       "│ 7    │ 67.0    │ 67.0    │ 84.0    │ 84.0    │ 84.0    │ 71.0    │ 65.0    │\n",
       "│ 8    │ 67.0    │ 67.0    │ 67.0    │ 84.0    │ 67.0    │ 71.0    │ 84.0    │\n",
       "│ 9    │ 84.0    │ 71.0    │ 71.0    │ 67.0    │ 71.0    │ 65.0    │ 67.0    │\n",
       "│ 10   │ 65.0    │ 65.0    │ 71.0    │ 67.0    │ 84.0    │ 71.0    │ 65.0    │\n",
       "⋮\n",
       "│ 3180 │ 67.0    │ 67.0    │ 84.0    │ 67.0    │ 65.0    │ 71.0    │ 84.0    │\n",
       "│ 3181 │ 67.0    │ 67.0    │ 84.0    │ 71.0    │ 67.0    │ 67.0    │ 71.0    │\n",
       "│ 3182 │ 67.0    │ 84.0    │ 71.0    │ 71.0    │ 65.0    │ 65.0    │ 71.0    │\n",
       "│ 3183 │ 84.0    │ 71.0    │ 84.0    │ 84.0    │ 84.0    │ 67.0    │ 84.0    │\n",
       "│ 3184 │ 84.0    │ 65.0    │ 65.0    │ 65.0    │ 65.0    │ 65.0    │ 65.0    │\n",
       "│ 3185 │ 65.0    │ 84.0    │ 67.0    │ 65.0    │ 65.0    │ 84.0    │ 65.0    │\n",
       "│ 3186 │ 84.0    │ 67.0    │ 84.0    │ 67.0    │ 84.0    │ 84.0    │ 67.0    │\n",
       "│ 3187 │ 71.0    │ 65.0    │ 71.0    │ 67.0    │ 84.0    │ 67.0    │ 67.0    │\n",
       "│ 3188 │ 84.0    │ 67.0    │ 84.0    │ 67.0    │ 71.0    │ 71.0    │ 71.0    │\n",
       "│ 3189 │ 65.0    │ 84.0    │ 84.0    │ 67.0    │ 84.0    │ 65.0    │ 67.0    │\n",
       "│ 3190 │ 65.0    │ 71.0    │ 71.0    │ 67.0    │ 84.0    │ 71.0    │ 67.0    │"
      ]
     },
     "execution_count": 106,
     "metadata": {},
     "output_type": "execute_result"
    }
   ],
   "source": [
    "data = separate_bases(df)"
   ]
  },
  {
   "cell_type": "code",
   "execution_count": 107,
   "metadata": {},
   "outputs": [
    {
     "data": {
      "text/html": [
       "<table class=\"data-frame\"><thead><tr><th></th><th>Class</th><th> Instance</th><th>                       Nucleotide_Sequence</th></tr><tr><th></th><th>String</th><th>String</th><th>String</th></tr></thead><tbody><p>3,190 rows × 63 columns (omitted printing of 60 columns)</p><tr><th>1</th><td>EI</td><td>    ATRINS-DONOR-521</td><td>               CCAGCTGCATCACAGGAGGCCAGCGAGCAGGTCTGTTCCAAGGGCCTTCGAGCCAGTCTG</td></tr><tr><th>2</th><td>EI</td><td>    ATRINS-DONOR-905</td><td>               AGACCCGCCGGGAGGCGGAGGACCTGCAGGGTGAGCCCCACCGCCCCTCCGTGCCCCCGC</td></tr><tr><th>3</th><td>EI</td><td>    BABAPOE-DONOR-30</td><td>               GAGGTGAAGGACGTCCTTCCCCAGGAGCCGGTGAGAAGCGCAGTCGGGGGCACGGGGATG</td></tr><tr><th>4</th><td>EI</td><td>    BABAPOE-DONOR-867</td><td>              GGGCTGCGTTGCTGGTCACATTCCTGGCAGGTATGGGGCGGGGCTTGCTCGGTTTTCCCC</td></tr><tr><th>5</th><td>EI</td><td>    BABAPOE-DONOR-2817</td><td>             GCTCAGCCCCCAGGTCACCCAGGAACTGACGTGAGTGTCCCCATCCCGGCCCTTGACCCT</td></tr><tr><th>6</th><td>EI</td><td>    CHPIGECA-DONOR-378</td><td>             CAGACTGGGTGGACAACAAAACCTTCAGCGGTAAGAGAGGGCCAAGCTCAGAGACCACAG</td></tr><tr><th>7</th><td>EI</td><td>    CHPIGECA-DONOR-903</td><td>             CCTTTGAGGACAGCACCAAGAAGTGTGCAGGTACGTTCCCACCTGCCCTGGTGGCCGCCA</td></tr><tr><th>8</th><td>EI</td><td>    CHPIGECA-DONOR-1313</td><td>            CCCTCGTGCGGTCCACGACCAAGACCAGCGGTGAGCCACGGGCAGGCCGGGGTCGTGGGG</td></tr><tr><th>9</th><td>EI</td><td>    GCRHBBA1-DONOR-1260</td><td>            TGGCGACTACGGCGCGGAGGCCCTGGAGAGGTGAGGACCCTCCTGTCCCTGCTCCAGTCC</td></tr><tr><th>10</th><td>EI</td><td>    GCRHBBA1-DONOR-1590</td><td>            AAGCTGACAGTGGACCCGGTCAACTTCAAGGTGAGCCAGGAGTCGGGTGGGAGGGTGAGA</td></tr><tr><th>11</th><td>EI</td><td>    GCRHBBA6-DONOR-461</td><td>             TGGCGACTACGGCGCGGAGGCCCTGGAGAGGTGAGGACCCTGGTATCCCTGCTGCCAGTC</td></tr><tr><th>12</th><td>EI</td><td>    GCRHBBA6-DONOR-795</td><td>             AAGCTGAGAGTGGACCCTGTCAACTTCAAGGTGAGCCACCAGTCGGGTGGGGAGGGTGAG</td></tr><tr><th>13</th><td>EI</td><td>    GIBHBGGL-DONOR-2278</td><td>            GGAAGATGCTGGAGGAGAAACCCTGGGAAGGTAGGCTCTGGTGACCAGGACAAGGGAGGG</td></tr><tr><th>14</th><td>EI</td><td>    GIBHBGGL-DONOR-2624</td><td>            AAGCTGCATGTGGATCCTGAGAACTTCAGGGTGAGTACAGGAGATGTTTCAGCCCTGTTG</td></tr><tr><th>15</th><td>EI</td><td>    GIBHBGGL-DONOR-7198</td><td>            GGAAGATGTTGGAGGAGAAACCCTGGGAAGGTAGGCTCTGGTGACCAGGACAAGGGAGGG</td></tr><tr><th>16</th><td>EI</td><td>    GIBHBGGL-DONOR-7544</td><td>            AAGCTGCATGTGGATCCTGAGAACTTCAGGGTGAGTACAGGAGATGTTTCAGCCCTGTTG</td></tr><tr><th>17</th><td>EI</td><td>    HUMA1ATP-DONOR-1972</td><td>            GGCACCACCACTGACCTGGGACAGTGAATCGTAAGTATGCCTTTCACTGCGAGGGGTTCT</td></tr><tr><th>18</th><td>EI</td><td>    HUMA1ATP-DONOR-7932</td><td>            TTGCTCTGGTGAATTACATCTTCTTTAAAGGTAAGGTTGCTCAACCAGCCTGAGCTGTTT</td></tr><tr><th>19</th><td>EI</td><td>    HUMA1ATP-DONOR-9653</td><td>            CACCAAGTTCCTGGAAAATGAAGACAGAAGGTGATTCCCCAACCTGAGGGTGACCAAGAA</td></tr><tr><th>20</th><td>EI</td><td>    HUMA1ATP-DONOR-11057</td><td>           ACAGAGGAGGCACCCCTGAAGCTCTCCAAGGTGAGATCACCCTGACGACCTTGTTGCACC</td></tr><tr><th>21</th><td>EI</td><td>    HUMA1GLY2-DONOR-1693</td><td>           GTGCCCATCACCAACGCCACCCTGGACCGGGTGAGTGCCTGGGCTAGCCCTGTCCTGAGC</td></tr><tr><th>22</th><td>EI</td><td>    HUMA1GLY2-DONOR-2251</td><td>           CACGATCTTTCTCAGAGAGTACCAGACCCGGTGAGAGCCCCCATTCCAATGCACCCCCGA</td></tr><tr><th>23</th><td>EI</td><td>    HUMA1GLY2-DONOR-2540</td><td>           AGCGGGAGAATGGGACCGTCTCCAGATACGGTGAGGGCCAGCCCTCAGGCAGGAGGGTTC</td></tr><tr><th>24</th><td>EI</td><td>    HUMA1GLY2-DONOR-3352</td><td>           ATGAGAAGAACTGGGGGCTGTCTTTCTATGGTAGGCATGCTTAGCAGCCCCAAACTCATG</td></tr><tr><th>25</th><td>EI</td><td>    HUMA1GLY2-DONOR-3606</td><td>           TCAGATGTCATGTACACCGACTGGAAAAAGGTAAACGCAAGGGATTGGACATTGCCCACC</td></tr><tr><th>26</th><td>EI</td><td>    HUMACCYBA-DONOR-289</td><td>            GATCCGCCGCCCGTCCACACCCGCCGCCAGGTAAGCCCGGCCAGCCGACCGGGGCATGCG</td></tr><tr><th>27</th><td>EI</td><td>    HUMACCYBA-DONOR-1250</td><td>           CCCTCCATCGTGGGGCGCCCCAGGCACCAGGTAGGGGAGCTGGCTGGGTGGGGCAGCCCC</td></tr><tr><th>28</th><td>EI</td><td>    HUMACCYBA-DONOR-1624</td><td>           CCCAAGGCCAACCGCGAGAAGATGACCCAGGTGAGTGGCCCGCTACCTCTTCTGGTGGCC</td></tr><tr><th>29</th><td>EI</td><td>    HUMACCYBA-DONOR-2504</td><td>           CTGAGGCACTCTTCCAGCCTTCCTTCCTGGGTGAGTGGAGACTGTCTCCCGGCTCTGCCT</td></tr><tr><th>30</th><td>EI</td><td>    HUMACCYBA-DONOR-2781</td><td>           GCCCTGGCACCCAGCACAATGAAGATCAAGGTGGGTGTCTTTCCTGCCTGAGCTGACCTG</td></tr><tr><th>&vellip;</th><td>&vellip;</td><td>&vellip;</td><td>&vellip;</td></tr></tbody></table>"
      ],
      "text/latex": [
       "\\begin{tabular}{r|cccc}\n",
       "\t& Class &  Instance &                        Nucleotide\\_Sequence & \\\\\n",
       "\t\\hline\n",
       "\t& String & String & String & \\\\\n",
       "\t\\hline\n",
       "\t1 & EI &     ATRINS-DONOR-521 &                CCAGCTGCATCACAGGAGGCCAGCGAGCAGGTCTGTTCCAAGGGCCTTCGAGCCAGTCTG & $\\dots$ \\\\\n",
       "\t2 & EI &     ATRINS-DONOR-905 &                AGACCCGCCGGGAGGCGGAGGACCTGCAGGGTGAGCCCCACCGCCCCTCCGTGCCCCCGC & $\\dots$ \\\\\n",
       "\t3 & EI &     BABAPOE-DONOR-30 &                GAGGTGAAGGACGTCCTTCCCCAGGAGCCGGTGAGAAGCGCAGTCGGGGGCACGGGGATG & $\\dots$ \\\\\n",
       "\t4 & EI &     BABAPOE-DONOR-867 &               GGGCTGCGTTGCTGGTCACATTCCTGGCAGGTATGGGGCGGGGCTTGCTCGGTTTTCCCC & $\\dots$ \\\\\n",
       "\t5 & EI &     BABAPOE-DONOR-2817 &              GCTCAGCCCCCAGGTCACCCAGGAACTGACGTGAGTGTCCCCATCCCGGCCCTTGACCCT & $\\dots$ \\\\\n",
       "\t6 & EI &     CHPIGECA-DONOR-378 &              CAGACTGGGTGGACAACAAAACCTTCAGCGGTAAGAGAGGGCCAAGCTCAGAGACCACAG & $\\dots$ \\\\\n",
       "\t7 & EI &     CHPIGECA-DONOR-903 &              CCTTTGAGGACAGCACCAAGAAGTGTGCAGGTACGTTCCCACCTGCCCTGGTGGCCGCCA & $\\dots$ \\\\\n",
       "\t8 & EI &     CHPIGECA-DONOR-1313 &             CCCTCGTGCGGTCCACGACCAAGACCAGCGGTGAGCCACGGGCAGGCCGGGGTCGTGGGG & $\\dots$ \\\\\n",
       "\t9 & EI &     GCRHBBA1-DONOR-1260 &             TGGCGACTACGGCGCGGAGGCCCTGGAGAGGTGAGGACCCTCCTGTCCCTGCTCCAGTCC & $\\dots$ \\\\\n",
       "\t10 & EI &     GCRHBBA1-DONOR-1590 &             AAGCTGACAGTGGACCCGGTCAACTTCAAGGTGAGCCAGGAGTCGGGTGGGAGGGTGAGA & $\\dots$ \\\\\n",
       "\t11 & EI &     GCRHBBA6-DONOR-461 &              TGGCGACTACGGCGCGGAGGCCCTGGAGAGGTGAGGACCCTGGTATCCCTGCTGCCAGTC & $\\dots$ \\\\\n",
       "\t12 & EI &     GCRHBBA6-DONOR-795 &              AAGCTGAGAGTGGACCCTGTCAACTTCAAGGTGAGCCACCAGTCGGGTGGGGAGGGTGAG & $\\dots$ \\\\\n",
       "\t13 & EI &     GIBHBGGL-DONOR-2278 &             GGAAGATGCTGGAGGAGAAACCCTGGGAAGGTAGGCTCTGGTGACCAGGACAAGGGAGGG & $\\dots$ \\\\\n",
       "\t14 & EI &     GIBHBGGL-DONOR-2624 &             AAGCTGCATGTGGATCCTGAGAACTTCAGGGTGAGTACAGGAGATGTTTCAGCCCTGTTG & $\\dots$ \\\\\n",
       "\t15 & EI &     GIBHBGGL-DONOR-7198 &             GGAAGATGTTGGAGGAGAAACCCTGGGAAGGTAGGCTCTGGTGACCAGGACAAGGGAGGG & $\\dots$ \\\\\n",
       "\t16 & EI &     GIBHBGGL-DONOR-7544 &             AAGCTGCATGTGGATCCTGAGAACTTCAGGGTGAGTACAGGAGATGTTTCAGCCCTGTTG & $\\dots$ \\\\\n",
       "\t17 & EI &     HUMA1ATP-DONOR-1972 &             GGCACCACCACTGACCTGGGACAGTGAATCGTAAGTATGCCTTTCACTGCGAGGGGTTCT & $\\dots$ \\\\\n",
       "\t18 & EI &     HUMA1ATP-DONOR-7932 &             TTGCTCTGGTGAATTACATCTTCTTTAAAGGTAAGGTTGCTCAACCAGCCTGAGCTGTTT & $\\dots$ \\\\\n",
       "\t19 & EI &     HUMA1ATP-DONOR-9653 &             CACCAAGTTCCTGGAAAATGAAGACAGAAGGTGATTCCCCAACCTGAGGGTGACCAAGAA & $\\dots$ \\\\\n",
       "\t20 & EI &     HUMA1ATP-DONOR-11057 &            ACAGAGGAGGCACCCCTGAAGCTCTCCAAGGTGAGATCACCCTGACGACCTTGTTGCACC & $\\dots$ \\\\\n",
       "\t21 & EI &     HUMA1GLY2-DONOR-1693 &            GTGCCCATCACCAACGCCACCCTGGACCGGGTGAGTGCCTGGGCTAGCCCTGTCCTGAGC & $\\dots$ \\\\\n",
       "\t22 & EI &     HUMA1GLY2-DONOR-2251 &            CACGATCTTTCTCAGAGAGTACCAGACCCGGTGAGAGCCCCCATTCCAATGCACCCCCGA & $\\dots$ \\\\\n",
       "\t23 & EI &     HUMA1GLY2-DONOR-2540 &            AGCGGGAGAATGGGACCGTCTCCAGATACGGTGAGGGCCAGCCCTCAGGCAGGAGGGTTC & $\\dots$ \\\\\n",
       "\t24 & EI &     HUMA1GLY2-DONOR-3352 &            ATGAGAAGAACTGGGGGCTGTCTTTCTATGGTAGGCATGCTTAGCAGCCCCAAACTCATG & $\\dots$ \\\\\n",
       "\t25 & EI &     HUMA1GLY2-DONOR-3606 &            TCAGATGTCATGTACACCGACTGGAAAAAGGTAAACGCAAGGGATTGGACATTGCCCACC & $\\dots$ \\\\\n",
       "\t26 & EI &     HUMACCYBA-DONOR-289 &             GATCCGCCGCCCGTCCACACCCGCCGCCAGGTAAGCCCGGCCAGCCGACCGGGGCATGCG & $\\dots$ \\\\\n",
       "\t27 & EI &     HUMACCYBA-DONOR-1250 &            CCCTCCATCGTGGGGCGCCCCAGGCACCAGGTAGGGGAGCTGGCTGGGTGGGGCAGCCCC & $\\dots$ \\\\\n",
       "\t28 & EI &     HUMACCYBA-DONOR-1624 &            CCCAAGGCCAACCGCGAGAAGATGACCCAGGTGAGTGGCCCGCTACCTCTTCTGGTGGCC & $\\dots$ \\\\\n",
       "\t29 & EI &     HUMACCYBA-DONOR-2504 &            CTGAGGCACTCTTCCAGCCTTCCTTCCTGGGTGAGTGGAGACTGTCTCCCGGCTCTGCCT & $\\dots$ \\\\\n",
       "\t30 & EI &     HUMACCYBA-DONOR-2781 &            GCCCTGGCACCCAGCACAATGAAGATCAAGGTGGGTGTCTTTCCTGCCTGAGCTGACCTG & $\\dots$ \\\\\n",
       "\t$\\dots$ & $\\dots$ & $\\dots$ & $\\dots$ &  \\\\\n",
       "\\end{tabular}\n"
      ],
      "text/plain": [
       "3190×63 DataFrame. Omitted printing of 61 columns\n",
       "│ Row  │ Class  │  Instance               │\n",
       "│      │ \u001b[90mString\u001b[39m │ \u001b[90mString\u001b[39m                  │\n",
       "├──────┼────────┼─────────────────────────┤\n",
       "│ 1    │ EI     │     ATRINS-DONOR-521    │\n",
       "│ 2    │ EI     │     ATRINS-DONOR-905    │\n",
       "│ 3    │ EI     │     BABAPOE-DONOR-30    │\n",
       "│ 4    │ EI     │     BABAPOE-DONOR-867   │\n",
       "│ 5    │ EI     │     BABAPOE-DONOR-2817  │\n",
       "│ 6    │ EI     │     CHPIGECA-DONOR-378  │\n",
       "│ 7    │ EI     │     CHPIGECA-DONOR-903  │\n",
       "│ 8    │ EI     │     CHPIGECA-DONOR-1313 │\n",
       "│ 9    │ EI     │     GCRHBBA1-DONOR-1260 │\n",
       "│ 10   │ EI     │     GCRHBBA1-DONOR-1590 │\n",
       "⋮\n",
       "│ 3180 │ N      │      MNKHBPSBD-NEG-961  │\n",
       "│ 3181 │ N      │      ORAHBA01-NEG-121   │\n",
       "│ 3182 │ N      │      ORAHBBE-NEG-2581   │\n",
       "│ 3183 │ N      │      ORAHBBPSE-NEG-2101 │\n",
       "│ 3184 │ N      │      ORAHBBPSE-NEG-6661 │\n",
       "│ 3185 │ N      │      ORAHBG2F-NEG-181   │\n",
       "│ 3186 │ N      │      ORAHBPSBD-NEG-2881 │\n",
       "│ 3187 │ N      │      ORAINVOL-NEG-2161  │\n",
       "│ 3188 │ N      │      ORARGIT-NEG-241    │\n",
       "│ 3189 │ N      │      TARHBB-NEG-541     │\n",
       "│ 3190 │ N      │      TARHBD-NEG-1981    │"
      ]
     },
     "execution_count": 107,
     "metadata": {},
     "output_type": "execute_result"
    }
   ],
   "source": [
    "data = hcat(df,data)"
   ]
  },
  {
   "cell_type": "markdown",
   "metadata": {},
   "source": [
    "Look at class labels to see if dataset is imbalanced"
   ]
  },
  {
   "cell_type": "code",
   "execution_count": 108,
   "metadata": {},
   "outputs": [],
   "source": [
    "# data[:,3:5]"
   ]
  },
  {
   "cell_type": "code",
   "execution_count": 109,
   "metadata": {},
   "outputs": [
    {
     "data": {
      "text/html": [
       "<table class=\"data-frame\"><thead><tr><th></th><th>Class</th><th>x1</th><th>x2</th><th>x3</th><th>x4</th><th>x5</th><th>x6</th><th>x7</th><th>x8</th></tr><tr><th></th><th>String</th><th>Float64</th><th>Float64</th><th>Float64</th><th>Float64</th><th>Float64</th><th>Float64</th><th>Float64</th><th>Float64</th></tr></thead><tbody><p>3,190 rows × 61 columns (omitted printing of 52 columns)</p><tr><th>1</th><td>EI</td><td>67.0</td><td>67.0</td><td>65.0</td><td>71.0</td><td>67.0</td><td>84.0</td><td>71.0</td><td>67.0</td></tr><tr><th>2</th><td>EI</td><td>65.0</td><td>71.0</td><td>65.0</td><td>67.0</td><td>67.0</td><td>67.0</td><td>71.0</td><td>67.0</td></tr><tr><th>3</th><td>EI</td><td>71.0</td><td>65.0</td><td>71.0</td><td>71.0</td><td>84.0</td><td>71.0</td><td>65.0</td><td>65.0</td></tr><tr><th>4</th><td>EI</td><td>71.0</td><td>71.0</td><td>71.0</td><td>67.0</td><td>84.0</td><td>71.0</td><td>67.0</td><td>71.0</td></tr><tr><th>5</th><td>EI</td><td>71.0</td><td>67.0</td><td>84.0</td><td>67.0</td><td>65.0</td><td>71.0</td><td>67.0</td><td>67.0</td></tr><tr><th>6</th><td>EI</td><td>67.0</td><td>65.0</td><td>71.0</td><td>65.0</td><td>67.0</td><td>84.0</td><td>71.0</td><td>71.0</td></tr><tr><th>7</th><td>EI</td><td>67.0</td><td>67.0</td><td>84.0</td><td>84.0</td><td>84.0</td><td>71.0</td><td>65.0</td><td>71.0</td></tr><tr><th>8</th><td>EI</td><td>67.0</td><td>67.0</td><td>67.0</td><td>84.0</td><td>67.0</td><td>71.0</td><td>84.0</td><td>71.0</td></tr><tr><th>9</th><td>EI</td><td>84.0</td><td>71.0</td><td>71.0</td><td>67.0</td><td>71.0</td><td>65.0</td><td>67.0</td><td>84.0</td></tr><tr><th>10</th><td>EI</td><td>65.0</td><td>65.0</td><td>71.0</td><td>67.0</td><td>84.0</td><td>71.0</td><td>65.0</td><td>67.0</td></tr><tr><th>11</th><td>EI</td><td>84.0</td><td>71.0</td><td>71.0</td><td>67.0</td><td>71.0</td><td>65.0</td><td>67.0</td><td>84.0</td></tr><tr><th>12</th><td>EI</td><td>65.0</td><td>65.0</td><td>71.0</td><td>67.0</td><td>84.0</td><td>71.0</td><td>65.0</td><td>71.0</td></tr><tr><th>13</th><td>EI</td><td>71.0</td><td>71.0</td><td>65.0</td><td>65.0</td><td>71.0</td><td>65.0</td><td>84.0</td><td>71.0</td></tr><tr><th>14</th><td>EI</td><td>65.0</td><td>65.0</td><td>71.0</td><td>67.0</td><td>84.0</td><td>71.0</td><td>67.0</td><td>65.0</td></tr><tr><th>15</th><td>EI</td><td>71.0</td><td>71.0</td><td>65.0</td><td>65.0</td><td>71.0</td><td>65.0</td><td>84.0</td><td>71.0</td></tr><tr><th>16</th><td>EI</td><td>65.0</td><td>65.0</td><td>71.0</td><td>67.0</td><td>84.0</td><td>71.0</td><td>67.0</td><td>65.0</td></tr><tr><th>17</th><td>EI</td><td>71.0</td><td>71.0</td><td>67.0</td><td>65.0</td><td>67.0</td><td>67.0</td><td>65.0</td><td>67.0</td></tr><tr><th>18</th><td>EI</td><td>84.0</td><td>84.0</td><td>71.0</td><td>67.0</td><td>84.0</td><td>67.0</td><td>84.0</td><td>71.0</td></tr><tr><th>19</th><td>EI</td><td>67.0</td><td>65.0</td><td>67.0</td><td>67.0</td><td>65.0</td><td>65.0</td><td>71.0</td><td>84.0</td></tr><tr><th>20</th><td>EI</td><td>65.0</td><td>67.0</td><td>65.0</td><td>71.0</td><td>65.0</td><td>71.0</td><td>71.0</td><td>65.0</td></tr><tr><th>21</th><td>EI</td><td>71.0</td><td>84.0</td><td>71.0</td><td>67.0</td><td>67.0</td><td>67.0</td><td>65.0</td><td>84.0</td></tr><tr><th>22</th><td>EI</td><td>67.0</td><td>65.0</td><td>67.0</td><td>71.0</td><td>65.0</td><td>84.0</td><td>67.0</td><td>84.0</td></tr><tr><th>23</th><td>EI</td><td>65.0</td><td>71.0</td><td>67.0</td><td>71.0</td><td>71.0</td><td>71.0</td><td>65.0</td><td>71.0</td></tr><tr><th>24</th><td>EI</td><td>65.0</td><td>84.0</td><td>71.0</td><td>65.0</td><td>71.0</td><td>65.0</td><td>65.0</td><td>71.0</td></tr><tr><th>25</th><td>EI</td><td>84.0</td><td>67.0</td><td>65.0</td><td>71.0</td><td>65.0</td><td>84.0</td><td>71.0</td><td>84.0</td></tr><tr><th>26</th><td>EI</td><td>71.0</td><td>65.0</td><td>84.0</td><td>67.0</td><td>67.0</td><td>71.0</td><td>67.0</td><td>67.0</td></tr><tr><th>27</th><td>EI</td><td>67.0</td><td>67.0</td><td>67.0</td><td>84.0</td><td>67.0</td><td>67.0</td><td>65.0</td><td>84.0</td></tr><tr><th>28</th><td>EI</td><td>67.0</td><td>67.0</td><td>67.0</td><td>65.0</td><td>65.0</td><td>71.0</td><td>71.0</td><td>67.0</td></tr><tr><th>29</th><td>EI</td><td>67.0</td><td>84.0</td><td>71.0</td><td>65.0</td><td>71.0</td><td>71.0</td><td>67.0</td><td>65.0</td></tr><tr><th>30</th><td>EI</td><td>71.0</td><td>67.0</td><td>67.0</td><td>67.0</td><td>84.0</td><td>71.0</td><td>71.0</td><td>67.0</td></tr><tr><th>&vellip;</th><td>&vellip;</td><td>&vellip;</td><td>&vellip;</td><td>&vellip;</td><td>&vellip;</td><td>&vellip;</td><td>&vellip;</td><td>&vellip;</td><td>&vellip;</td></tr></tbody></table>"
      ],
      "text/latex": [
       "\\begin{tabular}{r|cccccccccc}\n",
       "\t& Class & x1 & x2 & x3 & x4 & x5 & x6 & x7 & x8 & \\\\\n",
       "\t\\hline\n",
       "\t& String & Float64 & Float64 & Float64 & Float64 & Float64 & Float64 & Float64 & Float64 & \\\\\n",
       "\t\\hline\n",
       "\t1 & EI & 67.0 & 67.0 & 65.0 & 71.0 & 67.0 & 84.0 & 71.0 & 67.0 & $\\dots$ \\\\\n",
       "\t2 & EI & 65.0 & 71.0 & 65.0 & 67.0 & 67.0 & 67.0 & 71.0 & 67.0 & $\\dots$ \\\\\n",
       "\t3 & EI & 71.0 & 65.0 & 71.0 & 71.0 & 84.0 & 71.0 & 65.0 & 65.0 & $\\dots$ \\\\\n",
       "\t4 & EI & 71.0 & 71.0 & 71.0 & 67.0 & 84.0 & 71.0 & 67.0 & 71.0 & $\\dots$ \\\\\n",
       "\t5 & EI & 71.0 & 67.0 & 84.0 & 67.0 & 65.0 & 71.0 & 67.0 & 67.0 & $\\dots$ \\\\\n",
       "\t6 & EI & 67.0 & 65.0 & 71.0 & 65.0 & 67.0 & 84.0 & 71.0 & 71.0 & $\\dots$ \\\\\n",
       "\t7 & EI & 67.0 & 67.0 & 84.0 & 84.0 & 84.0 & 71.0 & 65.0 & 71.0 & $\\dots$ \\\\\n",
       "\t8 & EI & 67.0 & 67.0 & 67.0 & 84.0 & 67.0 & 71.0 & 84.0 & 71.0 & $\\dots$ \\\\\n",
       "\t9 & EI & 84.0 & 71.0 & 71.0 & 67.0 & 71.0 & 65.0 & 67.0 & 84.0 & $\\dots$ \\\\\n",
       "\t10 & EI & 65.0 & 65.0 & 71.0 & 67.0 & 84.0 & 71.0 & 65.0 & 67.0 & $\\dots$ \\\\\n",
       "\t11 & EI & 84.0 & 71.0 & 71.0 & 67.0 & 71.0 & 65.0 & 67.0 & 84.0 & $\\dots$ \\\\\n",
       "\t12 & EI & 65.0 & 65.0 & 71.0 & 67.0 & 84.0 & 71.0 & 65.0 & 71.0 & $\\dots$ \\\\\n",
       "\t13 & EI & 71.0 & 71.0 & 65.0 & 65.0 & 71.0 & 65.0 & 84.0 & 71.0 & $\\dots$ \\\\\n",
       "\t14 & EI & 65.0 & 65.0 & 71.0 & 67.0 & 84.0 & 71.0 & 67.0 & 65.0 & $\\dots$ \\\\\n",
       "\t15 & EI & 71.0 & 71.0 & 65.0 & 65.0 & 71.0 & 65.0 & 84.0 & 71.0 & $\\dots$ \\\\\n",
       "\t16 & EI & 65.0 & 65.0 & 71.0 & 67.0 & 84.0 & 71.0 & 67.0 & 65.0 & $\\dots$ \\\\\n",
       "\t17 & EI & 71.0 & 71.0 & 67.0 & 65.0 & 67.0 & 67.0 & 65.0 & 67.0 & $\\dots$ \\\\\n",
       "\t18 & EI & 84.0 & 84.0 & 71.0 & 67.0 & 84.0 & 67.0 & 84.0 & 71.0 & $\\dots$ \\\\\n",
       "\t19 & EI & 67.0 & 65.0 & 67.0 & 67.0 & 65.0 & 65.0 & 71.0 & 84.0 & $\\dots$ \\\\\n",
       "\t20 & EI & 65.0 & 67.0 & 65.0 & 71.0 & 65.0 & 71.0 & 71.0 & 65.0 & $\\dots$ \\\\\n",
       "\t21 & EI & 71.0 & 84.0 & 71.0 & 67.0 & 67.0 & 67.0 & 65.0 & 84.0 & $\\dots$ \\\\\n",
       "\t22 & EI & 67.0 & 65.0 & 67.0 & 71.0 & 65.0 & 84.0 & 67.0 & 84.0 & $\\dots$ \\\\\n",
       "\t23 & EI & 65.0 & 71.0 & 67.0 & 71.0 & 71.0 & 71.0 & 65.0 & 71.0 & $\\dots$ \\\\\n",
       "\t24 & EI & 65.0 & 84.0 & 71.0 & 65.0 & 71.0 & 65.0 & 65.0 & 71.0 & $\\dots$ \\\\\n",
       "\t25 & EI & 84.0 & 67.0 & 65.0 & 71.0 & 65.0 & 84.0 & 71.0 & 84.0 & $\\dots$ \\\\\n",
       "\t26 & EI & 71.0 & 65.0 & 84.0 & 67.0 & 67.0 & 71.0 & 67.0 & 67.0 & $\\dots$ \\\\\n",
       "\t27 & EI & 67.0 & 67.0 & 67.0 & 84.0 & 67.0 & 67.0 & 65.0 & 84.0 & $\\dots$ \\\\\n",
       "\t28 & EI & 67.0 & 67.0 & 67.0 & 65.0 & 65.0 & 71.0 & 71.0 & 67.0 & $\\dots$ \\\\\n",
       "\t29 & EI & 67.0 & 84.0 & 71.0 & 65.0 & 71.0 & 71.0 & 67.0 & 65.0 & $\\dots$ \\\\\n",
       "\t30 & EI & 71.0 & 67.0 & 67.0 & 67.0 & 84.0 & 71.0 & 71.0 & 67.0 & $\\dots$ \\\\\n",
       "\t$\\dots$ & $\\dots$ & $\\dots$ & $\\dots$ & $\\dots$ & $\\dots$ & $\\dots$ & $\\dots$ & $\\dots$ & $\\dots$ &  \\\\\n",
       "\\end{tabular}\n"
      ],
      "text/plain": [
       "3190×61 DataFrame. Omitted printing of 54 columns\n",
       "│ Row  │ Class  │ x1      │ x2      │ x3      │ x4      │ x5      │ x6      │\n",
       "│      │ \u001b[90mString\u001b[39m │ \u001b[90mFloat64\u001b[39m │ \u001b[90mFloat64\u001b[39m │ \u001b[90mFloat64\u001b[39m │ \u001b[90mFloat64\u001b[39m │ \u001b[90mFloat64\u001b[39m │ \u001b[90mFloat64\u001b[39m │\n",
       "├──────┼────────┼─────────┼─────────┼─────────┼─────────┼─────────┼─────────┤\n",
       "│ 1    │ EI     │ 67.0    │ 67.0    │ 65.0    │ 71.0    │ 67.0    │ 84.0    │\n",
       "│ 2    │ EI     │ 65.0    │ 71.0    │ 65.0    │ 67.0    │ 67.0    │ 67.0    │\n",
       "│ 3    │ EI     │ 71.0    │ 65.0    │ 71.0    │ 71.0    │ 84.0    │ 71.0    │\n",
       "│ 4    │ EI     │ 71.0    │ 71.0    │ 71.0    │ 67.0    │ 84.0    │ 71.0    │\n",
       "│ 5    │ EI     │ 71.0    │ 67.0    │ 84.0    │ 67.0    │ 65.0    │ 71.0    │\n",
       "│ 6    │ EI     │ 67.0    │ 65.0    │ 71.0    │ 65.0    │ 67.0    │ 84.0    │\n",
       "│ 7    │ EI     │ 67.0    │ 67.0    │ 84.0    │ 84.0    │ 84.0    │ 71.0    │\n",
       "│ 8    │ EI     │ 67.0    │ 67.0    │ 67.0    │ 84.0    │ 67.0    │ 71.0    │\n",
       "│ 9    │ EI     │ 84.0    │ 71.0    │ 71.0    │ 67.0    │ 71.0    │ 65.0    │\n",
       "│ 10   │ EI     │ 65.0    │ 65.0    │ 71.0    │ 67.0    │ 84.0    │ 71.0    │\n",
       "⋮\n",
       "│ 3180 │ N      │ 67.0    │ 67.0    │ 84.0    │ 67.0    │ 65.0    │ 71.0    │\n",
       "│ 3181 │ N      │ 67.0    │ 67.0    │ 84.0    │ 71.0    │ 67.0    │ 67.0    │\n",
       "│ 3182 │ N      │ 67.0    │ 84.0    │ 71.0    │ 71.0    │ 65.0    │ 65.0    │\n",
       "│ 3183 │ N      │ 84.0    │ 71.0    │ 84.0    │ 84.0    │ 84.0    │ 67.0    │\n",
       "│ 3184 │ N      │ 84.0    │ 65.0    │ 65.0    │ 65.0    │ 65.0    │ 65.0    │\n",
       "│ 3185 │ N      │ 65.0    │ 84.0    │ 67.0    │ 65.0    │ 65.0    │ 84.0    │\n",
       "│ 3186 │ N      │ 84.0    │ 67.0    │ 84.0    │ 67.0    │ 84.0    │ 84.0    │\n",
       "│ 3187 │ N      │ 71.0    │ 65.0    │ 71.0    │ 67.0    │ 84.0    │ 67.0    │\n",
       "│ 3188 │ N      │ 84.0    │ 67.0    │ 84.0    │ 67.0    │ 71.0    │ 71.0    │\n",
       "│ 3189 │ N      │ 65.0    │ 84.0    │ 84.0    │ 67.0    │ 84.0    │ 65.0    │\n",
       "│ 3190 │ N      │ 65.0    │ 71.0    │ 71.0    │ 67.0    │ 84.0    │ 71.0    │"
      ]
     },
     "execution_count": 109,
     "metadata": {},
     "output_type": "execute_result"
    }
   ],
   "source": [
    "data = data[:, Not(2:3)]"
   ]
  },
  {
   "cell_type": "code",
   "execution_count": 110,
   "metadata": {
    "scrolled": true
   },
   "outputs": [
    {
     "data": {
      "text/plain": [
       "Dict{String,Int64} with 3 entries:\n",
       "  \"IE\" => 768\n",
       "  \"EI\" => 767\n",
       "  \"N\"  => 1655"
      ]
     },
     "execution_count": 110,
     "metadata": {},
     "output_type": "execute_result"
    }
   ],
   "source": [
    "label_counts = countmap(data[:(Class)])"
   ]
  },
  {
   "cell_type": "code",
   "execution_count": 111,
   "metadata": {},
   "outputs": [
    {
     "data": {
      "text/plain": [
       "3-element Array{Float64,1}:\n",
       " 0.24075235109717869\n",
       " 0.24043887147335424\n",
       " 0.5188087774294671"
      ]
     },
     "execution_count": 111,
     "metadata": {},
     "output_type": "execute_result"
    }
   ],
   "source": [
    "collect(label_counts[i] / size(data)[1] for i in keys(label_counts))"
   ]
  },
  {
   "cell_type": "markdown",
   "metadata": {},
   "source": [
    "Get data ready for training"
   ]
  },
  {
   "cell_type": "code",
   "execution_count": 112,
   "metadata": {
    "scrolled": true
   },
   "outputs": [
    {
     "data": {
      "text/plain": [
       "┌\u001b[0m─────────\u001b[0m┬\u001b[0m─────────\u001b[0m┬\u001b[0m────────────\u001b[0m┐\u001b[0m\n",
       "│\u001b[0m\u001b[22m _.names \u001b[0m│\u001b[0m\u001b[22m _.types \u001b[0m│\u001b[0m\u001b[22m _.scitypes \u001b[0m│\u001b[0m\n",
       "├\u001b[0m─────────\u001b[0m┼\u001b[0m─────────\u001b[0m┼\u001b[0m────────────\u001b[0m┤\u001b[0m\n",
       "│\u001b[0m Class   \u001b[0m│\u001b[0m String  \u001b[0m│\u001b[0m Textual    \u001b[0m│\u001b[0m\n",
       "│\u001b[0m x1      \u001b[0m│\u001b[0m Float64 \u001b[0m│\u001b[0m Continuous \u001b[0m│\u001b[0m\n",
       "│\u001b[0m x2      \u001b[0m│\u001b[0m Float64 \u001b[0m│\u001b[0m Continuous \u001b[0m│\u001b[0m\n",
       "│\u001b[0m x3      \u001b[0m│\u001b[0m Float64 \u001b[0m│\u001b[0m Continuous \u001b[0m│\u001b[0m\n",
       "│\u001b[0m x4      \u001b[0m│\u001b[0m Float64 \u001b[0m│\u001b[0m Continuous \u001b[0m│\u001b[0m\n",
       "│\u001b[0m x5      \u001b[0m│\u001b[0m Float64 \u001b[0m│\u001b[0m Continuous \u001b[0m│\u001b[0m\n",
       "│\u001b[0m x6      \u001b[0m│\u001b[0m Float64 \u001b[0m│\u001b[0m Continuous \u001b[0m│\u001b[0m\n",
       "│\u001b[0m x7      \u001b[0m│\u001b[0m Float64 \u001b[0m│\u001b[0m Continuous \u001b[0m│\u001b[0m\n",
       "│\u001b[0m x8      \u001b[0m│\u001b[0m Float64 \u001b[0m│\u001b[0m Continuous \u001b[0m│\u001b[0m\n",
       "│\u001b[0m x9      \u001b[0m│\u001b[0m Float64 \u001b[0m│\u001b[0m Continuous \u001b[0m│\u001b[0m\n",
       "│\u001b[0m x10     \u001b[0m│\u001b[0m Float64 \u001b[0m│\u001b[0m Continuous \u001b[0m│\u001b[0m\n",
       "│\u001b[0m x11     \u001b[0m│\u001b[0m Float64 \u001b[0m│\u001b[0m Continuous \u001b[0m│\u001b[0m\n",
       "│\u001b[0m x12     \u001b[0m│\u001b[0m Float64 \u001b[0m│\u001b[0m Continuous \u001b[0m│\u001b[0m\n",
       "│\u001b[0m x13     \u001b[0m│\u001b[0m Float64 \u001b[0m│\u001b[0m Continuous \u001b[0m│\u001b[0m\n",
       "│\u001b[0m x14     \u001b[0m│\u001b[0m Float64 \u001b[0m│\u001b[0m Continuous \u001b[0m│\u001b[0m\n",
       "│\u001b[0m x15     \u001b[0m│\u001b[0m Float64 \u001b[0m│\u001b[0m Continuous \u001b[0m│\u001b[0m\n",
       "│\u001b[0m x16     \u001b[0m│\u001b[0m Float64 \u001b[0m│\u001b[0m Continuous \u001b[0m│\u001b[0m\n",
       "│\u001b[0m x17     \u001b[0m│\u001b[0m Float64 \u001b[0m│\u001b[0m Continuous \u001b[0m│\u001b[0m\n",
       "│\u001b[0m x18     \u001b[0m│\u001b[0m Float64 \u001b[0m│\u001b[0m Continuous \u001b[0m│\u001b[0m\n",
       "│\u001b[0m x19     \u001b[0m│\u001b[0m Float64 \u001b[0m│\u001b[0m Continuous \u001b[0m│\u001b[0m\n",
       "│\u001b[0m x20     \u001b[0m│\u001b[0m Float64 \u001b[0m│\u001b[0m Continuous \u001b[0m│\u001b[0m\n",
       "│\u001b[0m x21     \u001b[0m│\u001b[0m Float64 \u001b[0m│\u001b[0m Continuous \u001b[0m│\u001b[0m\n",
       "│\u001b[0m x22     \u001b[0m│\u001b[0m Float64 \u001b[0m│\u001b[0m Continuous \u001b[0m│\u001b[0m\n",
       "│\u001b[0m x23     \u001b[0m│\u001b[0m Float64 \u001b[0m│\u001b[0m Continuous \u001b[0m│\u001b[0m\n",
       "│\u001b[0m x24     \u001b[0m│\u001b[0m Float64 \u001b[0m│\u001b[0m Continuous \u001b[0m│\u001b[0m\n",
       "│\u001b[0m x25     \u001b[0m│\u001b[0m Float64 \u001b[0m│\u001b[0m Continuous \u001b[0m│\u001b[0m\n",
       "│\u001b[0m x26     \u001b[0m│\u001b[0m Float64 \u001b[0m│\u001b[0m Continuous \u001b[0m│\u001b[0m\n",
       "│\u001b[0m x27     \u001b[0m│\u001b[0m Float64 \u001b[0m│\u001b[0m Continuous \u001b[0m│\u001b[0m\n",
       "│\u001b[0m x28     \u001b[0m│\u001b[0m Float64 \u001b[0m│\u001b[0m Continuous \u001b[0m│\u001b[0m\n",
       "│\u001b[0m x29     \u001b[0m│\u001b[0m Float64 \u001b[0m│\u001b[0m Continuous \u001b[0m│\u001b[0m\n",
       "│\u001b[0m x30     \u001b[0m│\u001b[0m Float64 \u001b[0m│\u001b[0m Continuous \u001b[0m│\u001b[0m\n",
       "│\u001b[0m x31     \u001b[0m│\u001b[0m Float64 \u001b[0m│\u001b[0m Continuous \u001b[0m│\u001b[0m\n",
       "│\u001b[0m x32     \u001b[0m│\u001b[0m Float64 \u001b[0m│\u001b[0m Continuous \u001b[0m│\u001b[0m\n",
       "│\u001b[0m x33     \u001b[0m│\u001b[0m Float64 \u001b[0m│\u001b[0m Continuous \u001b[0m│\u001b[0m\n",
       "│\u001b[0m x34     \u001b[0m│\u001b[0m Float64 \u001b[0m│\u001b[0m Continuous \u001b[0m│\u001b[0m\n",
       "│\u001b[0m x35     \u001b[0m│\u001b[0m Float64 \u001b[0m│\u001b[0m Continuous \u001b[0m│\u001b[0m\n",
       "│\u001b[0m x36     \u001b[0m│\u001b[0m Float64 \u001b[0m│\u001b[0m Continuous \u001b[0m│\u001b[0m\n",
       "│\u001b[0m x37     \u001b[0m│\u001b[0m Float64 \u001b[0m│\u001b[0m Continuous \u001b[0m│\u001b[0m\n",
       "│\u001b[0m x38     \u001b[0m│\u001b[0m Float64 \u001b[0m│\u001b[0m Continuous \u001b[0m│\u001b[0m\n",
       "│\u001b[0m x39     \u001b[0m│\u001b[0m Float64 \u001b[0m│\u001b[0m Continuous \u001b[0m│\u001b[0m\n",
       "│\u001b[0m x40     \u001b[0m│\u001b[0m Float64 \u001b[0m│\u001b[0m Continuous \u001b[0m│\u001b[0m\n",
       "│\u001b[0m x41     \u001b[0m│\u001b[0m Float64 \u001b[0m│\u001b[0m Continuous \u001b[0m│\u001b[0m\n",
       "│\u001b[0m x42     \u001b[0m│\u001b[0m Float64 \u001b[0m│\u001b[0m Continuous \u001b[0m│\u001b[0m\n",
       "│\u001b[0m x43     \u001b[0m│\u001b[0m Float64 \u001b[0m│\u001b[0m Continuous \u001b[0m│\u001b[0m\n",
       "│\u001b[0m x44     \u001b[0m│\u001b[0m Float64 \u001b[0m│\u001b[0m Continuous \u001b[0m│\u001b[0m\n",
       "│\u001b[0m x45     \u001b[0m│\u001b[0m Float64 \u001b[0m│\u001b[0m Continuous \u001b[0m│\u001b[0m\n",
       "│\u001b[0m x46     \u001b[0m│\u001b[0m Float64 \u001b[0m│\u001b[0m Continuous \u001b[0m│\u001b[0m\n",
       "│\u001b[0m x47     \u001b[0m│\u001b[0m Float64 \u001b[0m│\u001b[0m Continuous \u001b[0m│\u001b[0m\n",
       "│\u001b[0m x48     \u001b[0m│\u001b[0m Float64 \u001b[0m│\u001b[0m Continuous \u001b[0m│\u001b[0m\n",
       "│\u001b[0m x49     \u001b[0m│\u001b[0m Float64 \u001b[0m│\u001b[0m Continuous \u001b[0m│\u001b[0m\n",
       "│\u001b[0m x50     \u001b[0m│\u001b[0m Float64 \u001b[0m│\u001b[0m Continuous \u001b[0m│\u001b[0m\n",
       "│\u001b[0m x51     \u001b[0m│\u001b[0m Float64 \u001b[0m│\u001b[0m Continuous \u001b[0m│\u001b[0m\n",
       "│\u001b[0m x52     \u001b[0m│\u001b[0m Float64 \u001b[0m│\u001b[0m Continuous \u001b[0m│\u001b[0m\n",
       "│\u001b[0m x53     \u001b[0m│\u001b[0m Float64 \u001b[0m│\u001b[0m Continuous \u001b[0m│\u001b[0m\n",
       "│\u001b[0m x54     \u001b[0m│\u001b[0m Float64 \u001b[0m│\u001b[0m Continuous \u001b[0m│\u001b[0m\n",
       "│\u001b[0m x55     \u001b[0m│\u001b[0m Float64 \u001b[0m│\u001b[0m Continuous \u001b[0m│\u001b[0m\n",
       "│\u001b[0m x56     \u001b[0m│\u001b[0m Float64 \u001b[0m│\u001b[0m Continuous \u001b[0m│\u001b[0m\n",
       "│\u001b[0m x57     \u001b[0m│\u001b[0m Float64 \u001b[0m│\u001b[0m Continuous \u001b[0m│\u001b[0m\n",
       "│\u001b[0m x58     \u001b[0m│\u001b[0m Float64 \u001b[0m│\u001b[0m Continuous \u001b[0m│\u001b[0m\n",
       "│\u001b[0m x59     \u001b[0m│\u001b[0m Float64 \u001b[0m│\u001b[0m Continuous \u001b[0m│\u001b[0m\n",
       "│\u001b[0m x60     \u001b[0m│\u001b[0m Float64 \u001b[0m│\u001b[0m Continuous \u001b[0m│\u001b[0m\n",
       "└\u001b[0m─────────\u001b[0m┴\u001b[0m─────────\u001b[0m┴\u001b[0m────────────\u001b[0m┘\u001b[0m\n",
       "_.nrows = 3190\n"
      ]
     },
     "execution_count": 112,
     "metadata": {},
     "output_type": "execute_result"
    }
   ],
   "source": [
    "schema(data)"
   ]
  },
  {
   "cell_type": "code",
   "execution_count": 113,
   "metadata": {
    "scrolled": true
   },
   "outputs": [
    {
     "data": {
      "text/plain": [
       "┌\u001b[0m─────────\u001b[0m┬\u001b[0m─────────────────────────────────\u001b[0m┬\u001b[0m───────────────\u001b[0m┐\u001b[0m\n",
       "│\u001b[0m\u001b[22m _.names \u001b[0m│\u001b[0m\u001b[22m _.types                         \u001b[0m│\u001b[0m\u001b[22m _.scitypes    \u001b[0m│\u001b[0m\n",
       "├\u001b[0m─────────\u001b[0m┼\u001b[0m─────────────────────────────────\u001b[0m┼\u001b[0m───────────────\u001b[0m┤\u001b[0m\n",
       "│\u001b[0m Class   \u001b[0m│\u001b[0m CategoricalValue{String,UInt32} \u001b[0m│\u001b[0m Multiclass{3} \u001b[0m│\u001b[0m\n",
       "│\u001b[0m x1      \u001b[0m│\u001b[0m Float64                         \u001b[0m│\u001b[0m Continuous    \u001b[0m│\u001b[0m\n",
       "│\u001b[0m x2      \u001b[0m│\u001b[0m Float64                         \u001b[0m│\u001b[0m Continuous    \u001b[0m│\u001b[0m\n",
       "│\u001b[0m x3      \u001b[0m│\u001b[0m Float64                         \u001b[0m│\u001b[0m Continuous    \u001b[0m│\u001b[0m\n",
       "│\u001b[0m x4      \u001b[0m│\u001b[0m Float64                         \u001b[0m│\u001b[0m Continuous    \u001b[0m│\u001b[0m\n",
       "│\u001b[0m x5      \u001b[0m│\u001b[0m Float64                         \u001b[0m│\u001b[0m Continuous    \u001b[0m│\u001b[0m\n",
       "│\u001b[0m x6      \u001b[0m│\u001b[0m Float64                         \u001b[0m│\u001b[0m Continuous    \u001b[0m│\u001b[0m\n",
       "│\u001b[0m x7      \u001b[0m│\u001b[0m Float64                         \u001b[0m│\u001b[0m Continuous    \u001b[0m│\u001b[0m\n",
       "│\u001b[0m x8      \u001b[0m│\u001b[0m Float64                         \u001b[0m│\u001b[0m Continuous    \u001b[0m│\u001b[0m\n",
       "│\u001b[0m x9      \u001b[0m│\u001b[0m Float64                         \u001b[0m│\u001b[0m Continuous    \u001b[0m│\u001b[0m\n",
       "│\u001b[0m x10     \u001b[0m│\u001b[0m Float64                         \u001b[0m│\u001b[0m Continuous    \u001b[0m│\u001b[0m\n",
       "│\u001b[0m x11     \u001b[0m│\u001b[0m Float64                         \u001b[0m│\u001b[0m Continuous    \u001b[0m│\u001b[0m\n",
       "│\u001b[0m x12     \u001b[0m│\u001b[0m Float64                         \u001b[0m│\u001b[0m Continuous    \u001b[0m│\u001b[0m\n",
       "│\u001b[0m x13     \u001b[0m│\u001b[0m Float64                         \u001b[0m│\u001b[0m Continuous    \u001b[0m│\u001b[0m\n",
       "│\u001b[0m x14     \u001b[0m│\u001b[0m Float64                         \u001b[0m│\u001b[0m Continuous    \u001b[0m│\u001b[0m\n",
       "│\u001b[0m x15     \u001b[0m│\u001b[0m Float64                         \u001b[0m│\u001b[0m Continuous    \u001b[0m│\u001b[0m\n",
       "│\u001b[0m x16     \u001b[0m│\u001b[0m Float64                         \u001b[0m│\u001b[0m Continuous    \u001b[0m│\u001b[0m\n",
       "│\u001b[0m x17     \u001b[0m│\u001b[0m Float64                         \u001b[0m│\u001b[0m Continuous    \u001b[0m│\u001b[0m\n",
       "│\u001b[0m x18     \u001b[0m│\u001b[0m Float64                         \u001b[0m│\u001b[0m Continuous    \u001b[0m│\u001b[0m\n",
       "│\u001b[0m x19     \u001b[0m│\u001b[0m Float64                         \u001b[0m│\u001b[0m Continuous    \u001b[0m│\u001b[0m\n",
       "│\u001b[0m x20     \u001b[0m│\u001b[0m Float64                         \u001b[0m│\u001b[0m Continuous    \u001b[0m│\u001b[0m\n",
       "│\u001b[0m x21     \u001b[0m│\u001b[0m Float64                         \u001b[0m│\u001b[0m Continuous    \u001b[0m│\u001b[0m\n",
       "│\u001b[0m x22     \u001b[0m│\u001b[0m Float64                         \u001b[0m│\u001b[0m Continuous    \u001b[0m│\u001b[0m\n",
       "│\u001b[0m x23     \u001b[0m│\u001b[0m Float64                         \u001b[0m│\u001b[0m Continuous    \u001b[0m│\u001b[0m\n",
       "│\u001b[0m x24     \u001b[0m│\u001b[0m Float64                         \u001b[0m│\u001b[0m Continuous    \u001b[0m│\u001b[0m\n",
       "│\u001b[0m x25     \u001b[0m│\u001b[0m Float64                         \u001b[0m│\u001b[0m Continuous    \u001b[0m│\u001b[0m\n",
       "│\u001b[0m x26     \u001b[0m│\u001b[0m Float64                         \u001b[0m│\u001b[0m Continuous    \u001b[0m│\u001b[0m\n",
       "│\u001b[0m x27     \u001b[0m│\u001b[0m Float64                         \u001b[0m│\u001b[0m Continuous    \u001b[0m│\u001b[0m\n",
       "│\u001b[0m x28     \u001b[0m│\u001b[0m Float64                         \u001b[0m│\u001b[0m Continuous    \u001b[0m│\u001b[0m\n",
       "│\u001b[0m x29     \u001b[0m│\u001b[0m Float64                         \u001b[0m│\u001b[0m Continuous    \u001b[0m│\u001b[0m\n",
       "│\u001b[0m x30     \u001b[0m│\u001b[0m Float64                         \u001b[0m│\u001b[0m Continuous    \u001b[0m│\u001b[0m\n",
       "│\u001b[0m x31     \u001b[0m│\u001b[0m Float64                         \u001b[0m│\u001b[0m Continuous    \u001b[0m│\u001b[0m\n",
       "│\u001b[0m x32     \u001b[0m│\u001b[0m Float64                         \u001b[0m│\u001b[0m Continuous    \u001b[0m│\u001b[0m\n",
       "│\u001b[0m x33     \u001b[0m│\u001b[0m Float64                         \u001b[0m│\u001b[0m Continuous    \u001b[0m│\u001b[0m\n",
       "│\u001b[0m x34     \u001b[0m│\u001b[0m Float64                         \u001b[0m│\u001b[0m Continuous    \u001b[0m│\u001b[0m\n",
       "│\u001b[0m x35     \u001b[0m│\u001b[0m Float64                         \u001b[0m│\u001b[0m Continuous    \u001b[0m│\u001b[0m\n",
       "│\u001b[0m x36     \u001b[0m│\u001b[0m Float64                         \u001b[0m│\u001b[0m Continuous    \u001b[0m│\u001b[0m\n",
       "│\u001b[0m x37     \u001b[0m│\u001b[0m Float64                         \u001b[0m│\u001b[0m Continuous    \u001b[0m│\u001b[0m\n",
       "│\u001b[0m x38     \u001b[0m│\u001b[0m Float64                         \u001b[0m│\u001b[0m Continuous    \u001b[0m│\u001b[0m\n",
       "│\u001b[0m x39     \u001b[0m│\u001b[0m Float64                         \u001b[0m│\u001b[0m Continuous    \u001b[0m│\u001b[0m\n",
       "│\u001b[0m x40     \u001b[0m│\u001b[0m Float64                         \u001b[0m│\u001b[0m Continuous    \u001b[0m│\u001b[0m\n",
       "│\u001b[0m x41     \u001b[0m│\u001b[0m Float64                         \u001b[0m│\u001b[0m Continuous    \u001b[0m│\u001b[0m\n",
       "│\u001b[0m x42     \u001b[0m│\u001b[0m Float64                         \u001b[0m│\u001b[0m Continuous    \u001b[0m│\u001b[0m\n",
       "│\u001b[0m x43     \u001b[0m│\u001b[0m Float64                         \u001b[0m│\u001b[0m Continuous    \u001b[0m│\u001b[0m\n",
       "│\u001b[0m x44     \u001b[0m│\u001b[0m Float64                         \u001b[0m│\u001b[0m Continuous    \u001b[0m│\u001b[0m\n",
       "│\u001b[0m x45     \u001b[0m│\u001b[0m Float64                         \u001b[0m│\u001b[0m Continuous    \u001b[0m│\u001b[0m\n",
       "│\u001b[0m x46     \u001b[0m│\u001b[0m Float64                         \u001b[0m│\u001b[0m Continuous    \u001b[0m│\u001b[0m\n",
       "│\u001b[0m x47     \u001b[0m│\u001b[0m Float64                         \u001b[0m│\u001b[0m Continuous    \u001b[0m│\u001b[0m\n",
       "│\u001b[0m x48     \u001b[0m│\u001b[0m Float64                         \u001b[0m│\u001b[0m Continuous    \u001b[0m│\u001b[0m\n",
       "│\u001b[0m x49     \u001b[0m│\u001b[0m Float64                         \u001b[0m│\u001b[0m Continuous    \u001b[0m│\u001b[0m\n",
       "│\u001b[0m x50     \u001b[0m│\u001b[0m Float64                         \u001b[0m│\u001b[0m Continuous    \u001b[0m│\u001b[0m\n",
       "│\u001b[0m x51     \u001b[0m│\u001b[0m Float64                         \u001b[0m│\u001b[0m Continuous    \u001b[0m│\u001b[0m\n",
       "│\u001b[0m x52     \u001b[0m│\u001b[0m Float64                         \u001b[0m│\u001b[0m Continuous    \u001b[0m│\u001b[0m\n",
       "│\u001b[0m x53     \u001b[0m│\u001b[0m Float64                         \u001b[0m│\u001b[0m Continuous    \u001b[0m│\u001b[0m\n",
       "│\u001b[0m x54     \u001b[0m│\u001b[0m Float64                         \u001b[0m│\u001b[0m Continuous    \u001b[0m│\u001b[0m\n",
       "│\u001b[0m x55     \u001b[0m│\u001b[0m Float64                         \u001b[0m│\u001b[0m Continuous    \u001b[0m│\u001b[0m\n",
       "│\u001b[0m x56     \u001b[0m│\u001b[0m Float64                         \u001b[0m│\u001b[0m Continuous    \u001b[0m│\u001b[0m\n",
       "│\u001b[0m x57     \u001b[0m│\u001b[0m Float64                         \u001b[0m│\u001b[0m Continuous    \u001b[0m│\u001b[0m\n",
       "│\u001b[0m x58     \u001b[0m│\u001b[0m Float64                         \u001b[0m│\u001b[0m Continuous    \u001b[0m│\u001b[0m\n",
       "│\u001b[0m x59     \u001b[0m│\u001b[0m Float64                         \u001b[0m│\u001b[0m Continuous    \u001b[0m│\u001b[0m\n",
       "│\u001b[0m x60     \u001b[0m│\u001b[0m Float64                         \u001b[0m│\u001b[0m Continuous    \u001b[0m│\u001b[0m\n",
       "└\u001b[0m─────────\u001b[0m┴\u001b[0m─────────────────────────────────\u001b[0m┴\u001b[0m───────────────\u001b[0m┘\u001b[0m\n",
       "_.nrows = 3190\n"
      ]
     },
     "execution_count": 113,
     "metadata": {},
     "output_type": "execute_result"
    }
   ],
   "source": [
    "coerce!(data, :Class=>Multiclass)\n",
    "schema(data)"
   ]
  },
  {
   "cell_type": "code",
   "execution_count": 114,
   "metadata": {
    "scrolled": false
   },
   "outputs": [
    {
     "data": {
      "text/plain": [
       "(CategoricalValue{String,UInt32}[\"EI\", \"EI\", \"EI\", \"EI\", \"EI\", \"EI\", \"EI\", \"EI\", \"EI\", \"EI\"  …  \"N\", \"N\", \"N\", \"N\", \"N\", \"N\", \"N\", \"N\", \"N\", \"N\"], 3190×60 DataFrame. Omitted printing of 53 columns\n",
       "│ Row  │ x1      │ x2      │ x3      │ x4      │ x5      │ x6      │ x7      │\n",
       "│      │ \u001b[90mFloat64\u001b[39m │ \u001b[90mFloat64\u001b[39m │ \u001b[90mFloat64\u001b[39m │ \u001b[90mFloat64\u001b[39m │ \u001b[90mFloat64\u001b[39m │ \u001b[90mFloat64\u001b[39m │ \u001b[90mFloat64\u001b[39m │\n",
       "├──────┼─────────┼─────────┼─────────┼─────────┼─────────┼─────────┼─────────┤\n",
       "│ 1    │ 67.0    │ 67.0    │ 65.0    │ 71.0    │ 67.0    │ 84.0    │ 71.0    │\n",
       "│ 2    │ 65.0    │ 71.0    │ 65.0    │ 67.0    │ 67.0    │ 67.0    │ 71.0    │\n",
       "│ 3    │ 71.0    │ 65.0    │ 71.0    │ 71.0    │ 84.0    │ 71.0    │ 65.0    │\n",
       "│ 4    │ 71.0    │ 71.0    │ 71.0    │ 67.0    │ 84.0    │ 71.0    │ 67.0    │\n",
       "│ 5    │ 71.0    │ 67.0    │ 84.0    │ 67.0    │ 65.0    │ 71.0    │ 67.0    │\n",
       "│ 6    │ 67.0    │ 65.0    │ 71.0    │ 65.0    │ 67.0    │ 84.0    │ 71.0    │\n",
       "│ 7    │ 67.0    │ 67.0    │ 84.0    │ 84.0    │ 84.0    │ 71.0    │ 65.0    │\n",
       "│ 8    │ 67.0    │ 67.0    │ 67.0    │ 84.0    │ 67.0    │ 71.0    │ 84.0    │\n",
       "│ 9    │ 84.0    │ 71.0    │ 71.0    │ 67.0    │ 71.0    │ 65.0    │ 67.0    │\n",
       "│ 10   │ 65.0    │ 65.0    │ 71.0    │ 67.0    │ 84.0    │ 71.0    │ 65.0    │\n",
       "⋮\n",
       "│ 3180 │ 67.0    │ 67.0    │ 84.0    │ 67.0    │ 65.0    │ 71.0    │ 84.0    │\n",
       "│ 3181 │ 67.0    │ 67.0    │ 84.0    │ 71.0    │ 67.0    │ 67.0    │ 71.0    │\n",
       "│ 3182 │ 67.0    │ 84.0    │ 71.0    │ 71.0    │ 65.0    │ 65.0    │ 71.0    │\n",
       "│ 3183 │ 84.0    │ 71.0    │ 84.0    │ 84.0    │ 84.0    │ 67.0    │ 84.0    │\n",
       "│ 3184 │ 84.0    │ 65.0    │ 65.0    │ 65.0    │ 65.0    │ 65.0    │ 65.0    │\n",
       "│ 3185 │ 65.0    │ 84.0    │ 67.0    │ 65.0    │ 65.0    │ 84.0    │ 65.0    │\n",
       "│ 3186 │ 84.0    │ 67.0    │ 84.0    │ 67.0    │ 84.0    │ 84.0    │ 67.0    │\n",
       "│ 3187 │ 71.0    │ 65.0    │ 71.0    │ 67.0    │ 84.0    │ 67.0    │ 67.0    │\n",
       "│ 3188 │ 84.0    │ 67.0    │ 84.0    │ 67.0    │ 71.0    │ 71.0    │ 71.0    │\n",
       "│ 3189 │ 65.0    │ 84.0    │ 84.0    │ 67.0    │ 84.0    │ 65.0    │ 67.0    │\n",
       "│ 3190 │ 65.0    │ 71.0    │ 71.0    │ 67.0    │ 84.0    │ 71.0    │ 67.0    │)"
      ]
     },
     "execution_count": 114,
     "metadata": {},
     "output_type": "execute_result"
    }
   ],
   "source": [
    "y, X = unpack(data, ==(:Class), colname->true)"
   ]
  },
  {
   "cell_type": "markdown",
   "metadata": {},
   "source": [
    "Partition train and test data accoring to class labels"
   ]
  },
  {
   "cell_type": "code",
   "execution_count": 299,
   "metadata": {},
   "outputs": [
    {
     "data": {
      "text/plain": [
       "([1538, 582, 137, 1511, 1964, 2204, 2888, 2375, 2864, 1387  …  656, 625, 283, 1076, 2074, 743, 3177, 530, 592, 2916], [898, 2807, 2307, 2787, 1648, 1390, 3044, 2312, 586, 1612  …  2993, 729, 3006, 958, 2551, 1687, 2792, 2185, 1273, 1616])"
      ]
     },
     "execution_count": 299,
     "metadata": {},
     "output_type": "execute_result"
    }
   ],
   "source": [
    "# data to use when trying to fit a single validation set\n",
    "train, test = partition(eachindex(y), 0.8, shuffle=true, rng=113, stratify=values(data[:Class])) # gives 70:30 split"
   ]
  },
  {
   "cell_type": "code",
   "execution_count": 300,
   "metadata": {},
   "outputs": [
    {
     "data": {
      "text/plain": [
       "3-element Array{Float64,1}:\n",
       " 0.24059561128526646\n",
       " 0.5188087774294671\n",
       " 0.24059561128526646"
      ]
     },
     "execution_count": 300,
     "metadata": {},
     "output_type": "execute_result"
    }
   ],
   "source": [
    "train_counts = countmap(data[train,:Class])\n",
    "collect(train_counts[i] / size(train)[1] for i in keys(train_counts))"
   ]
  },
  {
   "cell_type": "code",
   "execution_count": 301,
   "metadata": {},
   "outputs": [
    {
     "data": {
      "text/plain": [
       "3-element Array{Float64,1}:\n",
       " 0.2413793103448276\n",
       " 0.5188087774294671\n",
       " 0.23981191222570533"
      ]
     },
     "execution_count": 301,
     "metadata": {},
     "output_type": "execute_result"
    }
   ],
   "source": [
    "test_counts = countmap(data[test,:Class])\n",
    "collect(test_counts[i] / size(test)[1] for i in keys(test_counts))"
   ]
  },
  {
   "cell_type": "markdown",
   "metadata": {},
   "source": [
    "# Five Learning Algorithms\n",
    "\n",
    "* Decision trees with some form of pruning\n",
    "* Neural networks\n",
    "* Boosting\n",
    "* Support Vector Machines\n",
    "* k-nearest neighbors\n",
    "\n",
    "\n",
    "##### Testing\n",
    "* Implement the algorithms\n",
    "* Design two *interesting* classification problems. For the purposes of this assignment, a classification problem is just a set of training examples and a set of test examples."
   ]
  },
  {
   "cell_type": "code",
   "execution_count": 302,
   "metadata": {
    "scrolled": true
   },
   "outputs": [
    {
     "data": {
      "text/plain": [
       "42-element Array{NamedTuple{(:name, :package_name, :is_supervised, :docstring, :hyperparameter_ranges, :hyperparameter_types, :hyperparameters, :implemented_methods, :is_pure_julia, :is_wrapper, :load_path, :package_license, :package_url, :package_uuid, :prediction_type, :supports_online, :supports_weights, :input_scitype, :target_scitype, :output_scitype),T} where T<:Tuple,1}:\n",
       " (name = AdaBoostClassifier, package_name = ScikitLearn, ... )\n",
       " (name = AdaBoostStumpClassifier, package_name = DecisionTree, ... )\n",
       " (name = BaggingClassifier, package_name = ScikitLearn, ... )\n",
       " (name = BayesianLDA, package_name = MultivariateStats, ... )\n",
       " (name = BayesianLDA, package_name = ScikitLearn, ... )\n",
       " (name = BayesianQDA, package_name = ScikitLearn, ... )\n",
       " (name = BayesianSubspaceLDA, package_name = MultivariateStats, ... )\n",
       " (name = ConstantClassifier, package_name = MLJModels, ... )\n",
       " (name = DecisionTreeClassifier, package_name = DecisionTree, ... )\n",
       " (name = DeterministicConstantClassifier, package_name = MLJModels, ... )\n",
       " (name = DummyClassifier, package_name = ScikitLearn, ... )\n",
       " (name = EvoTreeClassifier, package_name = EvoTrees, ... )\n",
       " (name = ExtraTreesClassifier, package_name = ScikitLearn, ... )\n",
       " ⋮\n",
       " (name = ProbabilisticSGDClassifier, package_name = ScikitLearn, ... )\n",
       " (name = RandomForestClassifier, package_name = DecisionTree, ... )\n",
       " (name = RandomForestClassifier, package_name = ScikitLearn, ... )\n",
       " (name = RidgeCVClassifier, package_name = ScikitLearn, ... )\n",
       " (name = RidgeClassifier, package_name = ScikitLearn, ... )\n",
       " (name = SGDClassifier, package_name = ScikitLearn, ... )\n",
       " (name = SVC, package_name = LIBSVM, ... )\n",
       " (name = SVMClassifier, package_name = ScikitLearn, ... )\n",
       " (name = SVMLinearClassifier, package_name = ScikitLearn, ... )\n",
       " (name = SVMNuClassifier, package_name = ScikitLearn, ... )\n",
       " (name = SubspaceLDA, package_name = MultivariateStats, ... )\n",
       " (name = XGBoostClassifier, package_name = XGBoost, ... )"
      ]
     },
     "execution_count": 302,
     "metadata": {},
     "output_type": "execute_result"
    }
   ],
   "source": [
    "models(matching(X,y))"
   ]
  },
  {
   "cell_type": "code",
   "execution_count": 303,
   "metadata": {
    "scrolled": true
   },
   "outputs": [
    {
     "name": "stderr",
     "output_type": "stream",
     "text": [
      "┌ Info: Model code for DecisionTreeClassifier already loaded\n",
      "└ @ MLJModels /home/andrew/.julia/packages/MLJModels/mUBFt/src/loading.jl:54\n"
     ]
    },
    {
     "data": {
      "text/plain": [
       "DecisionTreeClassifier(\n",
       "    max_depth = -1,\n",
       "    min_samples_leaf = 1,\n",
       "    min_samples_split = 2,\n",
       "    min_purity_increase = 0.0,\n",
       "    n_subfeatures = 0,\n",
       "    post_prune = false,\n",
       "    merge_purity_threshold = 1.0,\n",
       "    pdf_smoothing = 0.0,\n",
       "    display_depth = 5)\u001b[34m @882\u001b[39m"
      ]
     },
     "execution_count": 303,
     "metadata": {},
     "output_type": "execute_result"
    }
   ],
   "source": [
    "@load DecisionTreeClassifier verbosity=2"
   ]
  },
  {
   "cell_type": "markdown",
   "metadata": {},
   "source": [
    "## Decision trees\n",
    "* Be sure to use some form of pruning. \n",
    "* You are not required to use information gain (for example, there is something called the GINI index that is sometimes used) to split attributes, but you should describe whatever it is that you do use.\n",
    "\n",
    "1. https://alan-turing-institute.github.io/MLJ.jl/dev/transformers/#MLJModels.UnivariateDiscretizer\n",
    "1. https://alan-turing-institute.github.io/MLJ.jl/dev/getting_started/#Getting-Started-1"
   ]
  },
  {
   "cell_type": "markdown",
   "metadata": {},
   "source": [
    "### No post-pruning"
   ]
  },
  {
   "cell_type": "code",
   "execution_count": 304,
   "metadata": {},
   "outputs": [
    {
     "data": {
      "text/plain": [
       "DecisionTreeClassifier(\n",
       "    max_depth = -1,\n",
       "    min_samples_leaf = 1,\n",
       "    min_samples_split = 2,\n",
       "    min_purity_increase = 0.0,\n",
       "    n_subfeatures = 0,\n",
       "    post_prune = false,\n",
       "    merge_purity_threshold = 1.0,\n",
       "    pdf_smoothing = 0.0,\n",
       "    display_depth = 8)\u001b[34m @548\u001b[39m"
      ]
     },
     "execution_count": 304,
     "metadata": {},
     "output_type": "execute_result"
    }
   ],
   "source": [
    "dt = DecisionTreeClassifier(post_prune=false, display_depth=8)"
   ]
  },
  {
   "cell_type": "code",
   "execution_count": 305,
   "metadata": {},
   "outputs": [
    {
     "data": {
      "text/plain": [
       "\u001b[34mMachine{DecisionTreeClassifier} @992\u001b[39m trained 0 times.\n",
       "  args: \n",
       "    1:\t\u001b[34mSource @309\u001b[39m ⏎ `Table{AbstractArray{Continuous,1}}`\n",
       "    2:\t\u001b[34mSource @987\u001b[39m ⏎ `AbstractArray{Multiclass{3},1}`\n"
      ]
     },
     "execution_count": 305,
     "metadata": {},
     "output_type": "execute_result"
    }
   ],
   "source": [
    "Tree = machine(dt, X, y)"
   ]
  },
  {
   "cell_type": "code",
   "execution_count": 306,
   "metadata": {},
   "outputs": [
    {
     "name": "stdout",
     "output_type": "stream",
     "text": [
      "Feature 29, Threshold 66.0\n",
      "L-> Feature 32, Threshold 77.5\n",
      "    L-> Feature 30, Threshold 69.0\n",
      "        L-> Feature 28, Threshold 77.5\n",
      "            L-> 3 : 92/92\n",
      "            R-> Feature 54, Threshold 66.0\n",
      "                L-> Feature 10, Threshold 69.0\n",
      "                    L-> 2 : 1/1\n",
      "                    R-> 3 : 1/1\n",
      "                R-> 3 : 12/12\n",
      "        R-> Feature 30, Threshold 77.5\n",
      "            L-> Feature 28, Threshold 66.0\n",
      "                L-> Feature 21, Threshold 77.5\n",
      "                    L-> Feature 19, Threshold 77.5\n",
      "                        L-> 3 : 16/16\n",
      "                        R-> Feature 47, Threshold 66.0\n",
      "                            L-> 3 : 4/4\n",
      "                            R-> \n",
      "                    R-> Feature 22, Threshold 77.5\n",
      "                        L-> 3 : 3/3\n",
      "                        R-> 2 : 9/9\n",
      "                R-> Feature 28, Threshold 69.0\n",
      "                    L-> Feature 24, Threshold 66.0\n",
      "                        L-> Feature 18, Threshold 66.0\n",
      "                            L-> 3 : 3/3\n",
      "                            R-> \n",
      "                        R-> Feature 25, Threshold 66.0\n",
      "                            L-> \n",
      "                            R-> \n",
      "                    R-> Feature 28, Threshold 77.5\n",
      "                        L-> Feature 31, Threshold 77.5\n",
      "                            L-> 3 : 24/24\n",
      "                            R-> \n",
      "                        R-> Feature 40, Threshold 69.0\n",
      "                            L-> \n",
      "                            R-> 2 : 45/45\n",
      "            R-> 3 : 41/41\n",
      "    R-> Feature 31, Threshold 69.0\n",
      "        L-> Feature 30, Threshold 69.0\n",
      "            L-> 3 : 27/27\n",
      "            R-> Feature 30, Threshold 77.5\n",
      "                L-> Feature 19, Threshold 66.0\n",
      "                    L-> Feature 21, Threshold 69.0\n",
      "                        L-> Feature 35, Threshold 75.5\n",
      "                            L-> 2 : 6/6\n",
      "                            R-> 3 : 1/1\n",
      "                        R-> 3 : 4/4\n",
      "                    R-> Feature 18, Threshold 66.0\n",
      "                        L-> Feature 15, Threshold 69.0\n",
      "                            L-> \n",
      "                            R-> 2 : 9/9\n",
      "                        R-> 2 : 73/73\n",
      "                R-> 3 : 6/6\n",
      "        R-> Feature 31, Threshold 77.5\n",
      "            L-> Feature 35, Threshold 69.0\n",
      "                L-> Feature 33, Threshold 66.0\n",
      "                    L-> Feature 5, Threshold 69.0\n",
      "                        L-> 1 : 18/18\n",
      "                        R-> Feature 12, Threshold 77.5\n",
      "                            L-> \n",
      "                            R-> 2 : 2/2\n",
      "                    R-> Feature 25, Threshold 77.5\n",
      "                        L-> Feature 50, Threshold 69.0\n",
      "                            L-> \n",
      "                            R-> \n",
      "                        R-> Feature 56, Threshold 69.0\n",
      "                            L-> 2 : 16/16\n",
      "                            R-> \n",
      "                R-> Feature 35, Threshold 77.5\n",
      "                    L-> Feature 34, Threshold 77.5\n",
      "                        L-> Feature 18, Threshold 77.5\n",
      "                            L-> \n",
      "                            R-> \n",
      "                        R-> Feature 38, Threshold 66.0\n",
      "                            L-> \n",
      "                            R-> \n",
      "                    R-> Feature 33, Threshold 66.0\n",
      "                        L-> Feature 4, Threshold 66.0\n",
      "                            L-> \n",
      "                            R-> \n",
      "                        R-> Feature 22, Threshold 66.0\n",
      "                            L-> 1 : 3/3\n",
      "                            R-> \n",
      "            R-> Feature 30, Threshold 69.0\n",
      "                L-> 3 : 11/11\n",
      "                R-> Feature 30, Threshold 77.5\n",
      "                    L-> Feature 18, Threshold 66.0\n",
      "                        L-> 3 : 2/2\n",
      "                        R-> Feature 28, Threshold 66.0\n",
      "                            L-> 3 : 2/2\n",
      "                            R-> 2 : 19/19\n",
      "                    R-> 3 : 6/6\n",
      "R-> Feature 32, Threshold 74.5\n",
      "    L-> Feature 21, Threshold 81.0\n",
      "        L-> Feature 22, Threshold 77.5\n",
      "            L-> 3 : 459/459\n",
      "            R-> Feature 56, Threshold 77.5\n",
      "                L-> 3 : 89/89\n",
      "                R-> Feature 7, Threshold 66.0\n",
      "                    L-> Feature 50, Threshold 69.0\n",
      "                        L-> 2 : 1/1\n",
      "                        R-> 3 : 3/3\n",
      "                    R-> 3 : 17/17\n",
      "        R-> Feature 16, Threshold 66.0\n",
      "            L-> Feature 8, Threshold 69.0\n",
      "                L-> Feature 56, Threshold 69.0\n",
      "                    L-> 3 : 11/11\n",
      "                    R-> Feature 25, Threshold 69.0\n",
      "                        L-> 3 : 5/5\n",
      "                        R-> Feature 41, Threshold 69.0\n",
      "                            L-> 3 : 2/2\n",
      "                            R-> 1 : 3/3\n",
      "                R-> Feature 1, Threshold 77.5\n",
      "                    L-> 3 : 24/24\n",
      "                    R-> Feature 19, Threshold 77.5\n",
      "                        L-> 3 : 5/5\n",
      "                        R-> 2 : 1/1\n",
      "            R-> 3 : 148/148\n",
      "    R-> Feature 31, Threshold 69.0\n",
      "        L-> 3 : 124/124\n",
      "        R-> Feature 31, Threshold 81.0\n",
      "            L-> Feature 34, Threshold 66.0\n",
      "                L-> Feature 35, Threshold 69.0\n",
      "                    L-> Feature 36, Threshold 69.0\n",
      "                        L-> Feature 27, Threshold 66.0\n",
      "                            L-> 1 : 1/1\n",
      "                            R-> 3 : 7/7\n",
      "                        R-> 1 : 5/5\n",
      "                    R-> Feature 35, Threshold 77.5\n",
      "                        L-> Feature 40, Threshold 66.0\n",
      "                            L-> \n",
      "                            R-> 1 : 174/174\n",
      "                        R-> Feature 24, Threshold 69.0\n",
      "                            L-> \n",
      "                            R-> 3 : 4/4\n",
      "                R-> Feature 33, Threshold 66.0\n",
      "                    L-> Feature 35, Threshold 66.0\n",
      "                        L-> 3 : 3/3\n",
      "                        R-> Feature 17, Threshold 66.0\n",
      "                            L-> \n",
      "                            R-> 1 : 29/29\n",
      "                    R-> Feature 30, Threshold 81.0\n",
      "                        L-> Feature 30, Threshold 69.0\n",
      "                            L-> 3 : 12/12\n",
      "                            R-> \n",
      "                        R-> 3 : 19/19\n",
      "            R-> 3 : 67/67\n"
     ]
    },
    {
     "name": "stderr",
     "output_type": "stream",
     "text": [
      "┌ Info: Training \u001b[34mMachine{DecisionTreeClassifier} @992\u001b[39m.\n",
      "└ @ MLJBase /home/andrew/.julia/packages/MLJBase/uKzAz/src/machines.jl:319\n"
     ]
    },
    {
     "data": {
      "text/plain": [
       "\u001b[34mMachine{DecisionTreeClassifier} @992\u001b[39m trained 1 time.\n",
       "  args: \n",
       "    1:\t\u001b[34mSource @309\u001b[39m ⏎ `Table{AbstractArray{Continuous,1}}`\n",
       "    2:\t\u001b[34mSource @987\u001b[39m ⏎ `AbstractArray{Multiclass{3},1}`\n"
      ]
     },
     "execution_count": 306,
     "metadata": {},
     "output_type": "execute_result"
    }
   ],
   "source": [
    "fit!(Tree, rows=train, verbosity=2)"
   ]
  },
  {
   "cell_type": "code",
   "execution_count": 307,
   "metadata": {},
   "outputs": [
    {
     "name": "stderr",
     "output_type": "stream",
     "text": [
      "\u001b[33mEvaluating over 6 folds: 100%[=========================] Time: 0:00:00\u001b[39m\n"
     ]
    },
    {
     "data": {
      "text/plain": [
       "┌\u001b[0m───────────────\u001b[0m┬\u001b[0m───────────────\u001b[0m┬\u001b[0m────────────────────────────────────────\u001b[0m┐\u001b[0m\n",
       "│\u001b[0m\u001b[22m _.measure     \u001b[0m│\u001b[0m\u001b[22m _.measurement \u001b[0m│\u001b[0m\u001b[22m _.per_fold                             \u001b[0m│\u001b[0m\n",
       "├\u001b[0m───────────────\u001b[0m┼\u001b[0m───────────────\u001b[0m┼\u001b[0m────────────────────────────────────────\u001b[0m┤\u001b[0m\n",
       "│\u001b[0m cross_entropy \u001b[0m│\u001b[0m 3.25          \u001b[0m│\u001b[0m [2.91, 3.39, 3.73, 2.3, 3.6, 3.6]      \u001b[0m│\u001b[0m\n",
       "│\u001b[0m acc           \u001b[0m│\u001b[0m 0.91          \u001b[0m│\u001b[0m [0.919, 0.906, 0.897, 0.936, 0.9, 0.9] \u001b[0m│\u001b[0m\n",
       "└\u001b[0m───────────────\u001b[0m┴\u001b[0m───────────────\u001b[0m┴\u001b[0m────────────────────────────────────────\u001b[0m┘\u001b[0m\n",
       "_.per_observation = [[[2.22e-16, 2.22e-16, ..., 2.22e-16], [2.22e-16, 2.22e-16, ..., 2.22e-16], [2.22e-16, 2.22e-16, ..., 2.22e-16], [2.22e-16, 2.22e-16, ..., 2.22e-16], [2.22e-16, 2.22e-16, ..., 2.22e-16], [2.22e-16, 2.22e-16, ..., 2.22e-16]], missing]\n",
       "_.fitted_params_per_fold = [ … ]\n",
       "_.report_per_fold = [ … ]\n"
      ]
     },
     "execution_count": 307,
     "metadata": {},
     "output_type": "execute_result"
    }
   ],
   "source": [
    "dt_acc = evaluate!(Tree, resampling=CV(shuffle=true), measure=[cross_entropy, acc], verbosity=1)"
   ]
  },
  {
   "cell_type": "code",
   "execution_count": 308,
   "metadata": {},
   "outputs": [
    {
     "data": {
      "text/plain": [
       "(tree = Decision Tree\n",
       "Leaves: 152\n",
       "Depth:  13,\n",
       " encoding = Dict{CategoricalValue{String,UInt32},UInt32}(\"IE\" => 0x00000002,\"EI\" => 0x00000001,\"N\" => 0x00000003),)"
      ]
     },
     "execution_count": 308,
     "metadata": {},
     "output_type": "execute_result"
    }
   ],
   "source": [
    "fitted_params(Tree) \n",
    "# print_tree(Tree.fitresult[1])"
   ]
  },
  {
   "cell_type": "code",
   "execution_count": 309,
   "metadata": {
    "scrolled": false
   },
   "outputs": [
    {
     "data": {
      "text/plain": [
       "(classes_seen = CategoricalValue{String,UInt32}[\"EI\", \"IE\", \"N\"],\n",
       " print_tree = TreePrinter object (call with display depth),)"
      ]
     },
     "execution_count": 309,
     "metadata": {},
     "output_type": "execute_result"
    }
   ],
   "source": [
    "report(Tree)"
   ]
  },
  {
   "cell_type": "markdown",
   "metadata": {},
   "source": [
    "### Using Post-pruning"
   ]
  },
  {
   "cell_type": "code",
   "execution_count": 310,
   "metadata": {},
   "outputs": [
    {
     "data": {
      "text/plain": [
       "DecisionTreeClassifier(\n",
       "    max_depth = -1,\n",
       "    min_samples_leaf = 1,\n",
       "    min_samples_split = 2,\n",
       "    min_purity_increase = 0.0,\n",
       "    n_subfeatures = 0,\n",
       "    post_prune = true,\n",
       "    merge_purity_threshold = 1.0,\n",
       "    pdf_smoothing = 0.0,\n",
       "    display_depth = 5)\u001b[34m @779\u001b[39m"
      ]
     },
     "execution_count": 310,
     "metadata": {},
     "output_type": "execute_result"
    }
   ],
   "source": [
    "dt2 = DecisionTreeClassifier(post_prune=true)"
   ]
  },
  {
   "cell_type": "code",
   "execution_count": 311,
   "metadata": {},
   "outputs": [
    {
     "data": {
      "text/plain": [
       "\u001b[34mMachine{DecisionTreeClassifier} @857\u001b[39m trained 0 times.\n",
       "  args: \n",
       "    1:\t\u001b[34mSource @042\u001b[39m ⏎ `Table{AbstractArray{Continuous,1}}`\n",
       "    2:\t\u001b[34mSource @256\u001b[39m ⏎ `AbstractArray{Multiclass{3},1}`\n"
      ]
     },
     "execution_count": 311,
     "metadata": {},
     "output_type": "execute_result"
    }
   ],
   "source": [
    "Tree2 = machine(dt2, X, y)"
   ]
  },
  {
   "cell_type": "code",
   "execution_count": 312,
   "metadata": {
    "scrolled": true
   },
   "outputs": [
    {
     "name": "stderr",
     "output_type": "stream",
     "text": [
      "┌ Info: Training \u001b[34mMachine{DecisionTreeClassifier} @857\u001b[39m.\n",
      "└ @ MLJBase /home/andrew/.julia/packages/MLJBase/uKzAz/src/machines.jl:319\n"
     ]
    },
    {
     "name": "stdout",
     "output_type": "stream",
     "text": [
      "Feature 29, Threshold 66.0\n",
      "L-> Feature 32, Threshold 77.5\n",
      "    L-> Feature 30, Threshold 69.0\n",
      "        L-> Feature 28, Threshold 77.5\n",
      "            L-> 3 : 92/92\n",
      "            R-> Feature 23, Threshold 77.5\n",
      "                L-> 3 : 12/12\n",
      "                R-> \n",
      "        R-> Feature 30, Threshold 77.5\n",
      "            L-> Feature 28, Threshold 66.0\n",
      "                L-> \n",
      "                R-> \n",
      "            R-> 3 : 41/41\n",
      "    R-> Feature 31, Threshold 69.0\n",
      "        L-> Feature 30, Threshold 69.0\n",
      "            L-> 3 : 27/27\n",
      "            R-> Feature 30, Threshold 77.5\n",
      "                L-> \n",
      "                R-> 3 : 6/6\n",
      "        R-> Feature 31, Threshold 77.5\n",
      "            L-> Feature 35, Threshold 69.0\n",
      "                L-> \n",
      "                R-> \n",
      "            R-> Feature 30, Threshold 69.0\n",
      "                L-> 3 : 11/11\n",
      "                R-> \n",
      "R-> Feature 32, Threshold 74.5\n",
      "    L-> Feature 21, Threshold 81.0\n",
      "        L-> Feature 22, Threshold 77.5\n",
      "            L-> 3 : 459/459\n",
      "            R-> Feature 56, Threshold 77.5\n",
      "                L-> 3 : 89/89\n",
      "                R-> \n",
      "        R-> Feature 16, Threshold 66.0\n",
      "            L-> Feature 8, Threshold 69.0\n",
      "                L-> \n",
      "                R-> \n",
      "            R-> 3 : 148/148\n",
      "    R-> Feature 31, Threshold 69.0\n",
      "        L-> 3 : 124/124\n",
      "        R-> Feature 31, Threshold 81.0\n",
      "            L-> Feature 34, Threshold 66.0\n",
      "                L-> \n",
      "                R-> \n",
      "            R-> 3 : 67/67\n"
     ]
    },
    {
     "data": {
      "text/plain": [
       "\u001b[34mMachine{DecisionTreeClassifier} @857\u001b[39m trained 1 time.\n",
       "  args: \n",
       "    1:\t\u001b[34mSource @042\u001b[39m ⏎ `Table{AbstractArray{Continuous,1}}`\n",
       "    2:\t\u001b[34mSource @256\u001b[39m ⏎ `AbstractArray{Multiclass{3},1}`\n"
      ]
     },
     "execution_count": 312,
     "metadata": {},
     "output_type": "execute_result"
    }
   ],
   "source": [
    "fit!(Tree2, rows=train, verbosity=2, force=true)"
   ]
  },
  {
   "cell_type": "code",
   "execution_count": 313,
   "metadata": {},
   "outputs": [
    {
     "name": "stderr",
     "output_type": "stream",
     "text": [
      "\u001b[33mEvaluating over 6 folds: 100%[=========================] Time: 0:00:00\u001b[39m\n"
     ]
    },
    {
     "data": {
      "text/plain": [
       "┌\u001b[0m───────────────\u001b[0m┬\u001b[0m───────────────\u001b[0m┬\u001b[0m────────────────────────────────────────────\u001b[0m┐\u001b[0m\n",
       "│\u001b[0m\u001b[22m _.measure     \u001b[0m│\u001b[0m\u001b[22m _.measurement \u001b[0m│\u001b[0m\u001b[22m _.per_fold                                 \u001b[0m│\u001b[0m\n",
       "├\u001b[0m───────────────\u001b[0m┼\u001b[0m───────────────\u001b[0m┼\u001b[0m────────────────────────────────────────────\u001b[0m┤\u001b[0m\n",
       "│\u001b[0m cross_entropy \u001b[0m│\u001b[0m 3.01          \u001b[0m│\u001b[0m [3.66, 2.37, 3.18, 2.78, 3.05, 2.99]       \u001b[0m│\u001b[0m\n",
       "│\u001b[0m acc           \u001b[0m│\u001b[0m 0.917         \u001b[0m│\u001b[0m [0.898, 0.934, 0.912, 0.923, 0.915, 0.917] \u001b[0m│\u001b[0m\n",
       "└\u001b[0m───────────────\u001b[0m┴\u001b[0m───────────────\u001b[0m┴\u001b[0m────────────────────────────────────────────\u001b[0m┘\u001b[0m\n",
       "_.per_observation = [[[2.22e-16, 2.22e-16, ..., 2.22e-16], [2.22e-16, 2.22e-16, ..., 2.22e-16], [2.22e-16, 2.22e-16, ..., 2.22e-16], [2.22e-16, 2.22e-16, ..., 2.22e-16], [36.0, 2.22e-16, ..., 2.22e-16], [2.22e-16, 2.22e-16, ..., 2.22e-16]], missing]\n",
       "_.fitted_params_per_fold = [ … ]\n",
       "_.report_per_fold = [ … ]\n"
      ]
     },
     "execution_count": 313,
     "metadata": {},
     "output_type": "execute_result"
    }
   ],
   "source": [
    "dt_acc = evaluate!(Tree2, resampling=CV(shuffle=true), measure=[cross_entropy, acc], verbosity=1)"
   ]
  },
  {
   "cell_type": "code",
   "execution_count": 314,
   "metadata": {},
   "outputs": [],
   "source": [
    "# evaluate!(Tree2, resampling=CV(shuffle=true), measure=[tnr,tpr,fnr,fpr], verbosity=1, operation=predict_mode)"
   ]
  },
  {
   "cell_type": "code",
   "execution_count": 315,
   "metadata": {},
   "outputs": [
    {
     "data": {
      "text/plain": [
       "(tree = Decision Tree\n",
       "Leaves: 156\n",
       "Depth:  18,\n",
       " encoding = Dict{CategoricalValue{String,UInt32},UInt32}(\"IE\" => 0x00000002,\"EI\" => 0x00000001,\"N\" => 0x00000003),)"
      ]
     },
     "execution_count": 315,
     "metadata": {},
     "output_type": "execute_result"
    }
   ],
   "source": [
    "fitted_params(Tree2) \n",
    "# print_tree(Tree.fitresult[1])"
   ]
  },
  {
   "cell_type": "code",
   "execution_count": 316,
   "metadata": {
    "scrolled": false
   },
   "outputs": [
    {
     "data": {
      "text/plain": [
       "(classes_seen = CategoricalValue{String,UInt32}[\"EI\", \"IE\", \"N\"],\n",
       " print_tree = TreePrinter object (call with display depth),)"
      ]
     },
     "execution_count": 316,
     "metadata": {},
     "output_type": "execute_result"
    }
   ],
   "source": [
    "report(Tree2)"
   ]
  },
  {
   "cell_type": "markdown",
   "metadata": {},
   "source": [
    "### GridSearch / RandomSearch"
   ]
  },
  {
   "cell_type": "code",
   "execution_count": 317,
   "metadata": {},
   "outputs": [
    {
     "name": "stderr",
     "output_type": "stream",
     "text": [
      "┌ Info: Training \u001b[34mMachine{ProbabilisticTunedModel{Grid,…}} @030\u001b[39m.\n",
      "└ @ MLJBase /home/andrew/.julia/packages/MLJBase/uKzAz/src/machines.jl:319\n",
      "┌ Info: Attempting to evaluate 101 models.\n",
      "└ @ MLJTuning /home/andrew/.julia/packages/MLJTuning/Bbgvk/src/tuned_models.jl:494\n",
      "\u001b[33mEvaluating over 101 metamodels: 100%[=========================] Time: 0:00:19\u001b[39m\n"
     ]
    },
    {
     "data": {
      "text/plain": [
       "(parameter_name = \"merge_purity_threshold\",\n",
       " parameter_scale = :none,\n",
       " parameter_values = [0.0, 0.01, 0.02, 0.03, 0.04, 0.05, 0.06, 0.07, 0.08, 0.09  …  0.91, 0.92, 0.93, 0.94, 0.95, 0.96, 0.97, 0.98, 0.99, 1.0],\n",
       " measurements = [1.4475060485254119, 1.4475060485254119, 1.4475060485254119, 1.4475060485254119, 1.4475060485254119, 1.4475060485254119, 1.4475060485254119, 1.4475060485254119, 1.4475060485254119, 1.4475060485254119  …  5.130713650700985, 4.743104094779833, 5.212418686748813, 5.356310610316722, 5.390402564048269, 5.378743813251407, 5.365472210941975, 5.4897891224018736, 5.128019434484666, 5.433287235000411],)"
      ]
     },
     "execution_count": 317,
     "metadata": {},
     "output_type": "execute_result"
    }
   ],
   "source": [
    "vals = collect(0:.01:1)\n",
    "r = range(dt2, :merge_purity_threshold, values=vals)\n",
    "# r = range(nn2, :epochs, lower=0, upper=max_epochs)\n",
    "curve = learning_curve(Tree2, \n",
    "                        range=r, \n",
    "#                         resampling=Holdout(fraction_train=0.7), \n",
    "                        resampling=CV(), \n",
    "                        measure=cross_entropy, \n",
    "                        acceleration=CPUThreads())"
   ]
  },
  {
   "cell_type": "code",
   "execution_count": 318,
   "metadata": {},
   "outputs": [
    {
     "data": {
      "image/svg+xml": [
       "<?xml version=\"1.0\" encoding=\"utf-8\"?>\n",
       "<svg xmlns=\"http://www.w3.org/2000/svg\" xmlns:xlink=\"http://www.w3.org/1999/xlink\" width=\"600\" height=\"400\" viewBox=\"0 0 2400 1600\">\n",
       "<defs>\n",
       "  <clipPath id=\"clip430\">\n",
       "    <rect x=\"0\" y=\"0\" width=\"2400\" height=\"1600\"/>\n",
       "  </clipPath>\n",
       "</defs>\n",
       "<path clip-path=\"url(#clip430)\" d=\"\n",
       "M0 1600 L2400 1600 L2400 0 L0 0  Z\n",
       "  \" fill=\"#ffffff\" fill-rule=\"evenodd\" fill-opacity=\"1\"/>\n",
       "<defs>\n",
       "  <clipPath id=\"clip431\">\n",
       "    <rect x=\"480\" y=\"0\" width=\"1681\" height=\"1600\"/>\n",
       "  </clipPath>\n",
       "</defs>\n",
       "<path clip-path=\"url(#clip430)\" d=\"\n",
       "M175.445 1423.18 L2352.76 1423.18 L2352.76 47.2441 L175.445 47.2441  Z\n",
       "  \" fill=\"#ffffff\" fill-rule=\"evenodd\" fill-opacity=\"1\"/>\n",
       "<defs>\n",
       "  <clipPath id=\"clip432\">\n",
       "    <rect x=\"175\" y=\"47\" width=\"2178\" height=\"1377\"/>\n",
       "  </clipPath>\n",
       "</defs>\n",
       "<polyline clip-path=\"url(#clip432)\" style=\"stroke:#000000; stroke-width:2; stroke-opacity:0.1; fill:none\" points=\"\n",
       "  237.067,1423.18 237.067,47.2441 \n",
       "  \"/>\n",
       "<polyline clip-path=\"url(#clip432)\" style=\"stroke:#000000; stroke-width:2; stroke-opacity:0.1; fill:none\" points=\"\n",
       "  750.584,1423.18 750.584,47.2441 \n",
       "  \"/>\n",
       "<polyline clip-path=\"url(#clip432)\" style=\"stroke:#000000; stroke-width:2; stroke-opacity:0.1; fill:none\" points=\"\n",
       "  1264.1,1423.18 1264.1,47.2441 \n",
       "  \"/>\n",
       "<polyline clip-path=\"url(#clip432)\" style=\"stroke:#000000; stroke-width:2; stroke-opacity:0.1; fill:none\" points=\"\n",
       "  1777.62,1423.18 1777.62,47.2441 \n",
       "  \"/>\n",
       "<polyline clip-path=\"url(#clip432)\" style=\"stroke:#000000; stroke-width:2; stroke-opacity:0.1; fill:none\" points=\"\n",
       "  2291.13,1423.18 2291.13,47.2441 \n",
       "  \"/>\n",
       "<polyline clip-path=\"url(#clip432)\" style=\"stroke:#000000; stroke-width:2; stroke-opacity:0.1; fill:none\" points=\"\n",
       "  175.445,1194.02 2352.76,1194.02 \n",
       "  \"/>\n",
       "<polyline clip-path=\"url(#clip432)\" style=\"stroke:#000000; stroke-width:2; stroke-opacity:0.1; fill:none\" points=\"\n",
       "  175.445,876.567 2352.76,876.567 \n",
       "  \"/>\n",
       "<polyline clip-path=\"url(#clip432)\" style=\"stroke:#000000; stroke-width:2; stroke-opacity:0.1; fill:none\" points=\"\n",
       "  175.445,559.118 2352.76,559.118 \n",
       "  \"/>\n",
       "<polyline clip-path=\"url(#clip432)\" style=\"stroke:#000000; stroke-width:2; stroke-opacity:0.1; fill:none\" points=\"\n",
       "  175.445,241.669 2352.76,241.669 \n",
       "  \"/>\n",
       "<polyline clip-path=\"url(#clip430)\" style=\"stroke:#000000; stroke-width:4; stroke-opacity:1; fill:none\" points=\"\n",
       "  175.445,1423.18 2352.76,1423.18 \n",
       "  \"/>\n",
       "<polyline clip-path=\"url(#clip430)\" style=\"stroke:#000000; stroke-width:4; stroke-opacity:1; fill:none\" points=\"\n",
       "  175.445,1423.18 175.445,47.2441 \n",
       "  \"/>\n",
       "<polyline clip-path=\"url(#clip430)\" style=\"stroke:#000000; stroke-width:4; stroke-opacity:1; fill:none\" points=\"\n",
       "  237.067,1423.18 237.067,1406.67 \n",
       "  \"/>\n",
       "<polyline clip-path=\"url(#clip430)\" style=\"stroke:#000000; stroke-width:4; stroke-opacity:1; fill:none\" points=\"\n",
       "  750.584,1423.18 750.584,1406.67 \n",
       "  \"/>\n",
       "<polyline clip-path=\"url(#clip430)\" style=\"stroke:#000000; stroke-width:4; stroke-opacity:1; fill:none\" points=\"\n",
       "  1264.1,1423.18 1264.1,1406.67 \n",
       "  \"/>\n",
       "<polyline clip-path=\"url(#clip430)\" style=\"stroke:#000000; stroke-width:4; stroke-opacity:1; fill:none\" points=\"\n",
       "  1777.62,1423.18 1777.62,1406.67 \n",
       "  \"/>\n",
       "<polyline clip-path=\"url(#clip430)\" style=\"stroke:#000000; stroke-width:4; stroke-opacity:1; fill:none\" points=\"\n",
       "  2291.13,1423.18 2291.13,1406.67 \n",
       "  \"/>\n",
       "<polyline clip-path=\"url(#clip430)\" style=\"stroke:#000000; stroke-width:4; stroke-opacity:1; fill:none\" points=\"\n",
       "  175.445,1194.02 201.573,1194.02 \n",
       "  \"/>\n",
       "<polyline clip-path=\"url(#clip430)\" style=\"stroke:#000000; stroke-width:4; stroke-opacity:1; fill:none\" points=\"\n",
       "  175.445,876.567 201.573,876.567 \n",
       "  \"/>\n",
       "<polyline clip-path=\"url(#clip430)\" style=\"stroke:#000000; stroke-width:4; stroke-opacity:1; fill:none\" points=\"\n",
       "  175.445,559.118 201.573,559.118 \n",
       "  \"/>\n",
       "<polyline clip-path=\"url(#clip430)\" style=\"stroke:#000000; stroke-width:4; stroke-opacity:1; fill:none\" points=\"\n",
       "  175.445,241.669 201.573,241.669 \n",
       "  \"/>\n",
       "<path clip-path=\"url(#clip430)\" d=\"M 0 0 M205.077 1445.17 Q201.466 1445.17 199.637 1448.74 Q197.831 1452.28 197.831 1459.41 Q197.831 1466.51 199.637 1470.08 Q201.466 1473.62 205.077 1473.62 Q208.711 1473.62 210.516 1470.08 Q212.345 1466.51 212.345 1459.41 Q212.345 1452.28 210.516 1448.74 Q208.711 1445.17 205.077 1445.17 M205.077 1441.47 Q210.887 1441.47 213.942 1446.07 Q217.021 1450.66 217.021 1459.41 Q217.021 1468.13 213.942 1472.74 Q210.887 1477.32 205.077 1477.32 Q199.266 1477.32 196.188 1472.74 Q193.132 1468.13 193.132 1459.41 Q193.132 1450.66 196.188 1446.07 Q199.266 1441.47 205.077 1441.47 Z\" fill=\"#000000\" fill-rule=\"evenodd\" fill-opacity=\"1\" /><path clip-path=\"url(#clip430)\" d=\"M 0 0 M222.09 1470.77 L226.975 1470.77 L226.975 1476.65 L222.09 1476.65 L222.09 1470.77 Z\" fill=\"#000000\" fill-rule=\"evenodd\" fill-opacity=\"1\" /><path clip-path=\"url(#clip430)\" d=\"M 0 0 M242.044 1445.17 Q238.433 1445.17 236.604 1448.74 Q234.799 1452.28 234.799 1459.41 Q234.799 1466.51 236.604 1470.08 Q238.433 1473.62 242.044 1473.62 Q245.678 1473.62 247.484 1470.08 Q249.313 1466.51 249.313 1459.41 Q249.313 1452.28 247.484 1448.74 Q245.678 1445.17 242.044 1445.17 M242.044 1441.47 Q247.854 1441.47 250.91 1446.07 Q253.988 1450.66 253.988 1459.41 Q253.988 1468.13 250.91 1472.74 Q247.854 1477.32 242.044 1477.32 Q236.234 1477.32 233.155 1472.74 Q230.1 1468.13 230.1 1459.41 Q230.1 1450.66 233.155 1446.07 Q236.234 1441.47 242.044 1441.47 Z\" fill=\"#000000\" fill-rule=\"evenodd\" fill-opacity=\"1\" /><path clip-path=\"url(#clip430)\" d=\"M 0 0 M269.058 1445.17 Q265.447 1445.17 263.618 1448.74 Q261.812 1452.28 261.812 1459.41 Q261.812 1466.51 263.618 1470.08 Q265.447 1473.62 269.058 1473.62 Q272.692 1473.62 274.498 1470.08 Q276.326 1466.51 276.326 1459.41 Q276.326 1452.28 274.498 1448.74 Q272.692 1445.17 269.058 1445.17 M269.058 1441.47 Q274.868 1441.47 277.923 1446.07 Q281.002 1450.66 281.002 1459.41 Q281.002 1468.13 277.923 1472.74 Q274.868 1477.32 269.058 1477.32 Q263.248 1477.32 260.169 1472.74 Q257.113 1468.13 257.113 1459.41 Q257.113 1450.66 260.169 1446.07 Q263.248 1441.47 269.058 1441.47 Z\" fill=\"#000000\" fill-rule=\"evenodd\" fill-opacity=\"1\" /><path clip-path=\"url(#clip430)\" d=\"M 0 0 M719.89 1445.17 Q716.279 1445.17 714.45 1448.74 Q712.644 1452.28 712.644 1459.41 Q712.644 1466.51 714.45 1470.08 Q716.279 1473.62 719.89 1473.62 Q723.524 1473.62 725.329 1470.08 Q727.158 1466.51 727.158 1459.41 Q727.158 1452.28 725.329 1448.74 Q723.524 1445.17 719.89 1445.17 M719.89 1441.47 Q725.7 1441.47 728.755 1446.07 Q731.834 1450.66 731.834 1459.41 Q731.834 1468.13 728.755 1472.74 Q725.7 1477.32 719.89 1477.32 Q714.079 1477.32 711.001 1472.74 Q707.945 1468.13 707.945 1459.41 Q707.945 1450.66 711.001 1446.07 Q714.079 1441.47 719.89 1441.47 Z\" fill=\"#000000\" fill-rule=\"evenodd\" fill-opacity=\"1\" /><path clip-path=\"url(#clip430)\" d=\"M 0 0 M736.903 1470.77 L741.788 1470.77 L741.788 1476.65 L736.903 1476.65 L736.903 1470.77 Z\" fill=\"#000000\" fill-rule=\"evenodd\" fill-opacity=\"1\" /><path clip-path=\"url(#clip430)\" d=\"M 0 0 M750.885 1472.72 L767.204 1472.72 L767.204 1476.65 L745.26 1476.65 L745.26 1472.72 Q747.922 1469.96 752.505 1465.33 Q757.112 1460.68 758.292 1459.34 Q760.538 1456.81 761.417 1455.08 Q762.32 1453.32 762.32 1451.63 Q762.32 1448.87 760.375 1447.14 Q758.454 1445.4 755.352 1445.4 Q753.153 1445.4 750.7 1446.17 Q748.269 1446.93 745.491 1448.48 L745.491 1443.76 Q748.315 1442.62 750.769 1442.05 Q753.223 1441.47 755.26 1441.47 Q760.63 1441.47 763.825 1444.15 Q767.019 1446.84 767.019 1451.33 Q767.019 1453.46 766.209 1455.38 Q765.422 1457.28 763.315 1459.87 Q762.737 1460.54 759.635 1463.76 Q756.533 1466.95 750.885 1472.72 Z\" fill=\"#000000\" fill-rule=\"evenodd\" fill-opacity=\"1\" /><path clip-path=\"url(#clip430)\" d=\"M 0 0 M772.32 1442.09 L790.676 1442.09 L790.676 1446.03 L776.602 1446.03 L776.602 1454.5 Q777.621 1454.15 778.639 1453.99 Q779.658 1453.8 780.676 1453.8 Q786.463 1453.8 789.843 1456.98 Q793.223 1460.15 793.223 1465.56 Q793.223 1471.14 789.75 1474.24 Q786.278 1477.32 779.959 1477.32 Q777.783 1477.32 775.514 1476.95 Q773.269 1476.58 770.862 1475.84 L770.862 1471.14 Q772.945 1472.28 775.167 1472.83 Q777.389 1473.39 779.866 1473.39 Q783.871 1473.39 786.209 1471.28 Q788.547 1469.18 788.547 1465.56 Q788.547 1461.95 786.209 1459.85 Q783.871 1457.74 779.866 1457.74 Q777.991 1457.74 776.116 1458.16 Q774.264 1458.57 772.32 1459.45 L772.32 1442.09 Z\" fill=\"#000000\" fill-rule=\"evenodd\" fill-opacity=\"1\" /><path clip-path=\"url(#clip430)\" d=\"M 0 0 M1232.61 1445.17 Q1229 1445.17 1227.17 1448.74 Q1225.36 1452.28 1225.36 1459.41 Q1225.36 1466.51 1227.17 1470.08 Q1229 1473.62 1232.61 1473.62 Q1236.24 1473.62 1238.05 1470.08 Q1239.88 1466.51 1239.88 1459.41 Q1239.88 1452.28 1238.05 1448.74 Q1236.24 1445.17 1232.61 1445.17 M1232.61 1441.47 Q1238.42 1441.47 1241.47 1446.07 Q1244.55 1450.66 1244.55 1459.41 Q1244.55 1468.13 1241.47 1472.74 Q1238.42 1477.32 1232.61 1477.32 Q1226.8 1477.32 1223.72 1472.74 Q1220.66 1468.13 1220.66 1459.41 Q1220.66 1450.66 1223.72 1446.07 Q1226.8 1441.47 1232.61 1441.47 Z\" fill=\"#000000\" fill-rule=\"evenodd\" fill-opacity=\"1\" /><path clip-path=\"url(#clip430)\" d=\"M 0 0 M1249.62 1470.77 L1254.51 1470.77 L1254.51 1476.65 L1249.62 1476.65 L1249.62 1470.77 Z\" fill=\"#000000\" fill-rule=\"evenodd\" fill-opacity=\"1\" /><path clip-path=\"url(#clip430)\" d=\"M 0 0 M1259.62 1442.09 L1277.98 1442.09 L1277.98 1446.03 L1263.9 1446.03 L1263.9 1454.5 Q1264.92 1454.15 1265.94 1453.99 Q1266.96 1453.8 1267.98 1453.8 Q1273.76 1453.8 1277.14 1456.98 Q1280.52 1460.15 1280.52 1465.56 Q1280.52 1471.14 1277.05 1474.24 Q1273.58 1477.32 1267.26 1477.32 Q1265.08 1477.32 1262.82 1476.95 Q1260.57 1476.58 1258.16 1475.84 L1258.16 1471.14 Q1260.25 1472.28 1262.47 1472.83 Q1264.69 1473.39 1267.17 1473.39 Q1271.17 1473.39 1273.51 1471.28 Q1275.85 1469.18 1275.85 1465.56 Q1275.85 1461.95 1273.51 1459.85 Q1271.17 1457.74 1267.17 1457.74 Q1265.29 1457.74 1263.42 1458.16 Q1261.57 1458.57 1259.62 1459.45 L1259.62 1442.09 Z\" fill=\"#000000\" fill-rule=\"evenodd\" fill-opacity=\"1\" /><path clip-path=\"url(#clip430)\" d=\"M 0 0 M1295.59 1445.17 Q1291.98 1445.17 1290.15 1448.74 Q1288.35 1452.28 1288.35 1459.41 Q1288.35 1466.51 1290.15 1470.08 Q1291.98 1473.62 1295.59 1473.62 Q1299.23 1473.62 1301.03 1470.08 Q1302.86 1466.51 1302.86 1459.41 Q1302.86 1452.28 1301.03 1448.74 Q1299.23 1445.17 1295.59 1445.17 M1295.59 1441.47 Q1301.4 1441.47 1304.46 1446.07 Q1307.54 1450.66 1307.54 1459.41 Q1307.54 1468.13 1304.46 1472.74 Q1301.4 1477.32 1295.59 1477.32 Q1289.78 1477.32 1286.7 1472.74 Q1283.65 1468.13 1283.65 1459.41 Q1283.65 1450.66 1286.7 1446.07 Q1289.78 1441.47 1295.59 1441.47 Z\" fill=\"#000000\" fill-rule=\"evenodd\" fill-opacity=\"1\" /><path clip-path=\"url(#clip430)\" d=\"M 0 0 M1746.58 1445.17 Q1742.96 1445.17 1741.14 1448.74 Q1739.33 1452.28 1739.33 1459.41 Q1739.33 1466.51 1741.14 1470.08 Q1742.96 1473.62 1746.58 1473.62 Q1750.21 1473.62 1752.02 1470.08 Q1753.84 1466.51 1753.84 1459.41 Q1753.84 1452.28 1752.02 1448.74 Q1750.21 1445.17 1746.58 1445.17 M1746.58 1441.47 Q1752.39 1441.47 1755.44 1446.07 Q1758.52 1450.66 1758.52 1459.41 Q1758.52 1468.13 1755.44 1472.74 Q1752.39 1477.32 1746.58 1477.32 Q1740.77 1477.32 1737.69 1472.74 Q1734.63 1468.13 1734.63 1459.41 Q1734.63 1450.66 1737.69 1446.07 Q1740.77 1441.47 1746.58 1441.47 Z\" fill=\"#000000\" fill-rule=\"evenodd\" fill-opacity=\"1\" /><path clip-path=\"url(#clip430)\" d=\"M 0 0 M1763.59 1470.77 L1768.47 1470.77 L1768.47 1476.65 L1763.59 1476.65 L1763.59 1470.77 Z\" fill=\"#000000\" fill-rule=\"evenodd\" fill-opacity=\"1\" /><path clip-path=\"url(#clip430)\" d=\"M 0 0 M1772.36 1442.09 L1794.58 1442.09 L1794.58 1444.08 L1782.04 1476.65 L1777.15 1476.65 L1788.96 1446.03 L1772.36 1446.03 L1772.36 1442.09 Z\" fill=\"#000000\" fill-rule=\"evenodd\" fill-opacity=\"1\" /><path clip-path=\"url(#clip430)\" d=\"M 0 0 M1799.7 1442.09 L1818.06 1442.09 L1818.06 1446.03 L1803.98 1446.03 L1803.98 1454.5 Q1805 1454.15 1806.02 1453.99 Q1807.04 1453.8 1808.06 1453.8 Q1813.84 1453.8 1817.22 1456.98 Q1820.6 1460.15 1820.6 1465.56 Q1820.6 1471.14 1817.13 1474.24 Q1813.66 1477.32 1807.34 1477.32 Q1805.16 1477.32 1802.89 1476.95 Q1800.65 1476.58 1798.24 1475.84 L1798.24 1471.14 Q1800.33 1472.28 1802.55 1472.83 Q1804.77 1473.39 1807.25 1473.39 Q1811.25 1473.39 1813.59 1471.28 Q1815.93 1469.18 1815.93 1465.56 Q1815.93 1461.95 1813.59 1459.85 Q1811.25 1457.74 1807.25 1457.74 Q1805.37 1457.74 1803.5 1458.16 Q1801.64 1458.57 1799.7 1459.45 L1799.7 1442.09 Z\" fill=\"#000000\" fill-rule=\"evenodd\" fill-opacity=\"1\" /><path clip-path=\"url(#clip430)\" d=\"M 0 0 M2249.53 1472.72 L2257.16 1472.72 L2257.16 1446.35 L2248.85 1448.02 L2248.85 1443.76 L2257.12 1442.09 L2261.79 1442.09 L2261.79 1472.72 L2269.43 1472.72 L2269.43 1476.65 L2249.53 1476.65 L2249.53 1472.72 Z\" fill=\"#000000\" fill-rule=\"evenodd\" fill-opacity=\"1\" /><path clip-path=\"url(#clip430)\" d=\"M 0 0 M2274.5 1470.77 L2279.39 1470.77 L2279.39 1476.65 L2274.5 1476.65 L2274.5 1470.77 Z\" fill=\"#000000\" fill-rule=\"evenodd\" fill-opacity=\"1\" /><path clip-path=\"url(#clip430)\" d=\"M 0 0 M2294.46 1445.17 Q2290.84 1445.17 2289.02 1448.74 Q2287.21 1452.28 2287.21 1459.41 Q2287.21 1466.51 2289.02 1470.08 Q2290.84 1473.62 2294.46 1473.62 Q2298.09 1473.62 2299.9 1470.08 Q2301.72 1466.51 2301.72 1459.41 Q2301.72 1452.28 2299.9 1448.74 Q2298.09 1445.17 2294.46 1445.17 M2294.46 1441.47 Q2300.27 1441.47 2303.32 1446.07 Q2306.4 1450.66 2306.4 1459.41 Q2306.4 1468.13 2303.32 1472.74 Q2300.27 1477.32 2294.46 1477.32 Q2288.65 1477.32 2285.57 1472.74 Q2282.51 1468.13 2282.51 1459.41 Q2282.51 1450.66 2285.57 1446.07 Q2288.65 1441.47 2294.46 1441.47 Z\" fill=\"#000000\" fill-rule=\"evenodd\" fill-opacity=\"1\" /><path clip-path=\"url(#clip430)\" d=\"M 0 0 M2321.47 1445.17 Q2317.86 1445.17 2316.03 1448.74 Q2314.22 1452.28 2314.22 1459.41 Q2314.22 1466.51 2316.03 1470.08 Q2317.86 1473.62 2321.47 1473.62 Q2325.1 1473.62 2326.91 1470.08 Q2328.74 1466.51 2328.74 1459.41 Q2328.74 1452.28 2326.91 1448.74 Q2325.1 1445.17 2321.47 1445.17 M2321.47 1441.47 Q2327.28 1441.47 2330.34 1446.07 Q2333.41 1450.66 2333.41 1459.41 Q2333.41 1468.13 2330.34 1472.74 Q2327.28 1477.32 2321.47 1477.32 Q2315.66 1477.32 2312.58 1472.74 Q2309.53 1468.13 2309.53 1459.41 Q2309.53 1450.66 2312.58 1446.07 Q2315.66 1441.47 2321.47 1441.47 Z\" fill=\"#000000\" fill-rule=\"evenodd\" fill-opacity=\"1\" /><path clip-path=\"url(#clip430)\" d=\"M 0 0 M135.126 1207.36 L151.445 1207.36 L151.445 1211.3 L129.501 1211.3 L129.501 1207.36 Q132.163 1204.61 136.746 1199.98 Q141.353 1195.32 142.533 1193.98 Q144.779 1191.46 145.658 1189.72 Q146.561 1187.96 146.561 1186.27 Q146.561 1183.52 144.617 1181.78 Q142.695 1180.05 139.593 1180.05 Q137.394 1180.05 134.941 1180.81 Q132.51 1181.57 129.732 1183.12 L129.732 1178.4 Q132.556 1177.27 135.01 1176.69 Q137.464 1176.11 139.501 1176.11 Q144.871 1176.11 148.066 1178.8 Q151.26 1181.48 151.26 1185.97 Q151.26 1188.1 150.45 1190.02 Q149.663 1191.92 147.556 1194.51 Q146.978 1195.19 143.876 1198.4 Q140.774 1201.6 135.126 1207.36 Z\" fill=\"#000000\" fill-rule=\"evenodd\" fill-opacity=\"1\" /><path clip-path=\"url(#clip430)\" d=\"M 0 0 M144.316 875.213 Q147.672 875.93 149.547 878.199 Q151.445 880.467 151.445 883.801 Q151.445 888.916 147.927 891.717 Q144.408 894.518 137.927 894.518 Q135.751 894.518 133.436 894.078 Q131.144 893.662 128.691 892.805 L128.691 888.291 Q130.635 889.426 132.95 890.004 Q135.265 890.583 137.788 890.583 Q142.186 890.583 144.478 888.847 Q146.792 887.111 146.792 883.801 Q146.792 880.745 144.64 879.032 Q142.51 877.296 138.691 877.296 L134.663 877.296 L134.663 873.454 L138.876 873.454 Q142.325 873.454 144.154 872.088 Q145.982 870.699 145.982 868.106 Q145.982 865.444 144.084 864.032 Q142.209 862.597 138.691 862.597 Q136.769 862.597 134.57 863.014 Q132.371 863.431 129.732 864.31 L129.732 860.143 Q132.394 859.403 134.709 859.032 Q137.047 858.662 139.107 858.662 Q144.431 858.662 147.533 861.093 Q150.635 863.5 150.635 867.62 Q150.635 870.491 148.992 872.481 Q147.348 874.449 144.316 875.213 Z\" fill=\"#000000\" fill-rule=\"evenodd\" fill-opacity=\"1\" /><path clip-path=\"url(#clip430)\" d=\"M 0 0 M141.862 545.912 L130.056 564.361 L141.862 564.361 L141.862 545.912 M140.635 541.838 L146.515 541.838 L146.515 564.361 L151.445 564.361 L151.445 568.25 L146.515 568.25 L146.515 576.398 L141.862 576.398 L141.862 568.25 L126.26 568.25 L126.26 563.736 L140.635 541.838 Z\" fill=\"#000000\" fill-rule=\"evenodd\" fill-opacity=\"1\" /><path clip-path=\"url(#clip430)\" d=\"M 0 0 M130.543 224.389 L148.899 224.389 L148.899 228.324 L134.825 228.324 L134.825 236.796 Q135.843 236.449 136.862 236.287 Q137.88 236.102 138.899 236.102 Q144.686 236.102 148.066 239.273 Q151.445 242.444 151.445 247.861 Q151.445 253.44 147.973 256.541 Q144.501 259.62 138.181 259.62 Q136.005 259.62 133.737 259.25 Q131.492 258.879 129.084 258.139 L129.084 253.44 Q131.168 254.574 133.39 255.129 Q135.612 255.685 138.089 255.685 Q142.093 255.685 144.431 253.578 Q146.769 251.472 146.769 247.861 Q146.769 244.25 144.431 242.143 Q142.093 240.037 138.089 240.037 Q136.214 240.037 134.339 240.454 Q132.487 240.87 130.543 241.75 L130.543 224.389 Z\" fill=\"#000000\" fill-rule=\"evenodd\" fill-opacity=\"1\" /><path clip-path=\"url(#clip430)\" d=\"M 0 0 M943.269 1527.24 Q945.465 1523.29 948.521 1521.41 Q951.576 1519.54 955.714 1519.54 Q961.284 1519.54 964.308 1523.45 Q967.331 1527.33 967.331 1534.53 L967.331 1556.04 L961.443 1556.04 L961.443 1534.72 Q961.443 1529.59 959.629 1527.11 Q957.815 1524.63 954.091 1524.63 Q949.539 1524.63 946.897 1527.65 Q944.256 1530.68 944.256 1535.9 L944.256 1556.04 L938.367 1556.04 L938.367 1534.72 Q938.367 1529.56 936.553 1527.11 Q934.739 1524.63 930.951 1524.63 Q926.463 1524.63 923.822 1527.68 Q921.18 1530.71 921.18 1535.9 L921.18 1556.04 L915.292 1556.04 L915.292 1520.4 L921.18 1520.4 L921.18 1525.93 Q923.185 1522.66 925.986 1521.1 Q928.787 1519.54 932.638 1519.54 Q936.521 1519.54 939.227 1521.51 Q941.964 1523.48 943.269 1527.24 Z\" fill=\"#000000\" fill-rule=\"evenodd\" fill-opacity=\"1\" /><path clip-path=\"url(#clip430)\" d=\"M 0 0 M1003.97 1536.76 L1003.97 1539.62 L977.039 1539.62 Q977.421 1545.67 980.667 1548.85 Q983.946 1552 989.77 1552 Q993.144 1552 996.295 1551.17 Q999.478 1550.35 1002.6 1548.69 L1002.6 1554.23 Q999.446 1555.57 996.136 1556.27 Q992.826 1556.97 989.42 1556.97 Q980.89 1556.97 975.893 1552 Q970.928 1547.04 970.928 1538.57 Q970.928 1529.82 975.639 1524.69 Q980.381 1519.54 988.402 1519.54 Q995.595 1519.54 999.765 1524.18 Q1003.97 1528.8 1003.97 1536.76 M998.11 1535.04 Q998.046 1530.23 995.404 1527.37 Q992.794 1524.5 988.465 1524.5 Q983.564 1524.5 980.604 1527.27 Q977.676 1530.04 977.23 1535.07 L998.11 1535.04 Z\" fill=\"#000000\" fill-rule=\"evenodd\" fill-opacity=\"1\" /><path clip-path=\"url(#clip430)\" d=\"M 0 0 M1030.77 1525.87 Q1029.78 1525.3 1028.6 1525.04 Q1027.46 1524.76 1026.05 1524.76 Q1021.09 1524.76 1018.42 1528 Q1015.77 1531.22 1015.77 1537.27 L1015.77 1556.04 L1009.89 1556.04 L1009.89 1520.4 L1015.77 1520.4 L1015.77 1525.93 Q1017.62 1522.69 1020.58 1521.13 Q1023.54 1519.54 1027.77 1519.54 Q1028.38 1519.54 1029.11 1519.63 Q1029.84 1519.7 1030.73 1519.85 L1030.77 1525.87 Z\" fill=\"#000000\" fill-rule=\"evenodd\" fill-opacity=\"1\" /><path clip-path=\"url(#clip430)\" d=\"M 0 0 M1059.22 1537.81 Q1059.22 1531.44 1056.58 1527.94 Q1053.97 1524.44 1049.23 1524.44 Q1044.52 1524.44 1041.87 1527.94 Q1039.26 1531.44 1039.26 1537.81 Q1039.26 1544.14 1041.87 1547.64 Q1044.52 1551.14 1049.23 1551.14 Q1053.97 1551.14 1056.58 1547.64 Q1059.22 1544.14 1059.22 1537.81 M1065.08 1551.62 Q1065.08 1560.72 1061.03 1565.15 Q1056.99 1569.6 1048.65 1569.6 Q1045.57 1569.6 1042.83 1569.13 Q1040.09 1568.68 1037.51 1567.72 L1037.51 1562.03 Q1040.09 1563.43 1042.61 1564.1 Q1045.12 1564.76 1047.73 1564.76 Q1053.49 1564.76 1056.36 1561.74 Q1059.22 1558.75 1059.22 1552.67 L1059.22 1549.77 Q1057.41 1552.92 1054.57 1554.48 Q1051.74 1556.04 1047.79 1556.04 Q1041.24 1556.04 1037.23 1551.05 Q1033.22 1546.05 1033.22 1537.81 Q1033.22 1529.53 1037.23 1524.53 Q1041.24 1519.54 1047.79 1519.54 Q1051.74 1519.54 1054.57 1521.1 Q1057.41 1522.66 1059.22 1525.81 L1059.22 1520.4 L1065.08 1520.4 L1065.08 1551.62 Z\" fill=\"#000000\" fill-rule=\"evenodd\" fill-opacity=\"1\" /><path clip-path=\"url(#clip430)\" d=\"M 0 0 M1101.71 1536.76 L1101.71 1539.62 L1074.78 1539.62 Q1075.17 1545.67 1078.41 1548.85 Q1081.69 1552 1087.52 1552 Q1090.89 1552 1094.04 1551.17 Q1097.22 1550.35 1100.34 1548.69 L1100.34 1554.23 Q1097.19 1555.57 1093.88 1556.27 Q1090.57 1556.97 1087.17 1556.97 Q1078.64 1556.97 1073.64 1552 Q1068.67 1547.04 1068.67 1538.57 Q1068.67 1529.82 1073.38 1524.69 Q1078.13 1519.54 1086.15 1519.54 Q1093.34 1519.54 1097.51 1524.18 Q1101.71 1528.8 1101.71 1536.76 M1095.85 1535.04 Q1095.79 1530.23 1093.15 1527.37 Q1090.54 1524.5 1086.21 1524.5 Q1081.31 1524.5 1078.35 1527.27 Q1075.42 1530.04 1074.98 1535.07 L1095.85 1535.04 Z\" fill=\"#000000\" fill-rule=\"evenodd\" fill-opacity=\"1\" /><path clip-path=\"url(#clip430)\" d=\"M 0 0 M1134.94 1566.87 L1134.94 1571.42 L1101.07 1571.42 L1101.07 1566.87 L1134.94 1566.87 Z\" fill=\"#000000\" fill-rule=\"evenodd\" fill-opacity=\"1\" /><path clip-path=\"url(#clip430)\" d=\"M 0 0 M1146.75 1550.7 L1146.75 1569.6 L1140.86 1569.6 L1140.86 1520.4 L1146.75 1520.4 L1146.75 1525.81 Q1148.59 1522.62 1151.4 1521.1 Q1154.23 1519.54 1158.14 1519.54 Q1164.64 1519.54 1168.68 1524.69 Q1172.75 1529.85 1172.75 1538.25 Q1172.75 1546.65 1168.68 1551.81 Q1164.64 1556.97 1158.14 1556.97 Q1154.23 1556.97 1151.4 1555.44 Q1148.59 1553.88 1146.75 1550.7 M1166.67 1538.25 Q1166.67 1531.79 1164 1528.13 Q1161.36 1524.44 1156.71 1524.44 Q1152.06 1524.44 1149.39 1528.13 Q1146.75 1531.79 1146.75 1538.25 Q1146.75 1544.71 1149.39 1548.4 Q1152.06 1552.07 1156.71 1552.07 Q1161.36 1552.07 1164 1548.4 Q1166.67 1544.71 1166.67 1538.25 Z\" fill=\"#000000\" fill-rule=\"evenodd\" fill-opacity=\"1\" /><path clip-path=\"url(#clip430)\" d=\"M 0 0 M1178.29 1541.98 L1178.29 1520.4 L1184.15 1520.4 L1184.15 1541.75 Q1184.15 1546.81 1186.12 1549.36 Q1188.09 1551.87 1192.04 1551.87 Q1196.78 1551.87 1199.52 1548.85 Q1202.29 1545.83 1202.29 1540.61 L1202.29 1520.4 L1208.15 1520.4 L1208.15 1556.04 L1202.29 1556.04 L1202.29 1550.57 Q1200.16 1553.82 1197.32 1555.41 Q1194.52 1556.97 1190.8 1556.97 Q1184.66 1556.97 1181.47 1553.15 Q1178.29 1549.33 1178.29 1541.98 M1193.03 1519.54 L1193.03 1519.54 Z\" fill=\"#000000\" fill-rule=\"evenodd\" fill-opacity=\"1\" /><path clip-path=\"url(#clip430)\" d=\"M 0 0 M1234.95 1525.87 Q1233.96 1525.3 1232.78 1525.04 Q1231.64 1524.76 1230.23 1524.76 Q1225.27 1524.76 1222.6 1528 Q1219.95 1531.22 1219.95 1537.27 L1219.95 1556.04 L1214.07 1556.04 L1214.07 1520.4 L1219.95 1520.4 L1219.95 1525.93 Q1221.8 1522.69 1224.76 1521.13 Q1227.72 1519.54 1231.95 1519.54 Q1232.56 1519.54 1233.29 1519.63 Q1234.02 1519.7 1234.91 1519.85 L1234.95 1525.87 Z\" fill=\"#000000\" fill-rule=\"evenodd\" fill-opacity=\"1\" /><path clip-path=\"url(#clip430)\" d=\"M 0 0 M1241.09 1520.4 L1246.94 1520.4 L1246.94 1556.04 L1241.09 1556.04 L1241.09 1520.4 M1241.09 1506.52 L1246.94 1506.52 L1246.94 1513.93 L1241.09 1513.93 L1241.09 1506.52 Z\" fill=\"#000000\" fill-rule=\"evenodd\" fill-opacity=\"1\" /><path clip-path=\"url(#clip430)\" d=\"M 0 0 M1258.88 1510.27 L1258.88 1520.4 L1270.94 1520.4 L1270.94 1524.95 L1258.88 1524.95 L1258.88 1544.3 Q1258.88 1548.66 1260.06 1549.9 Q1261.27 1551.14 1264.93 1551.14 L1270.94 1551.14 L1270.94 1556.04 L1264.93 1556.04 Q1258.15 1556.04 1255.57 1553.53 Q1252.99 1550.98 1252.99 1544.3 L1252.99 1524.95 L1248.7 1524.95 L1248.7 1520.4 L1252.99 1520.4 L1252.99 1510.27 L1258.88 1510.27 Z\" fill=\"#000000\" fill-rule=\"evenodd\" fill-opacity=\"1\" /><path clip-path=\"url(#clip430)\" d=\"M 0 0 M1291.92 1559.35 Q1289.44 1565.72 1287.08 1567.66 Q1284.73 1569.6 1280.78 1569.6 L1276.1 1569.6 L1276.1 1564.7 L1279.54 1564.7 Q1281.96 1564.7 1283.29 1563.56 Q1284.63 1562.41 1286.25 1558.14 L1287.3 1555.47 L1272.89 1520.4 L1279.09 1520.4 L1290.23 1548.28 L1301.37 1520.4 L1307.58 1520.4 L1291.92 1559.35 Z\" fill=\"#000000\" fill-rule=\"evenodd\" fill-opacity=\"1\" /><path clip-path=\"url(#clip430)\" d=\"M 0 0 M1340.81 1566.87 L1340.81 1571.42 L1306.94 1571.42 L1306.94 1566.87 L1340.81 1566.87 Z\" fill=\"#000000\" fill-rule=\"evenodd\" fill-opacity=\"1\" /><path clip-path=\"url(#clip430)\" d=\"M 0 0 M1352.74 1510.27 L1352.74 1520.4 L1364.81 1520.4 L1364.81 1524.95 L1352.74 1524.95 L1352.74 1544.3 Q1352.74 1548.66 1353.92 1549.9 Q1355.13 1551.14 1358.79 1551.14 L1364.81 1551.14 L1364.81 1556.04 L1358.79 1556.04 Q1352.01 1556.04 1349.43 1553.53 Q1346.85 1550.98 1346.85 1544.3 L1346.85 1524.95 L1342.56 1524.95 L1342.56 1520.4 L1346.85 1520.4 L1346.85 1510.27 L1352.74 1510.27 Z\" fill=\"#000000\" fill-rule=\"evenodd\" fill-opacity=\"1\" /><path clip-path=\"url(#clip430)\" d=\"M 0 0 M1400.58 1534.53 L1400.58 1556.04 L1394.72 1556.04 L1394.72 1534.72 Q1394.72 1529.66 1392.75 1527.14 Q1390.78 1524.63 1386.83 1524.63 Q1382.09 1524.63 1379.35 1527.65 Q1376.61 1530.68 1376.61 1535.9 L1376.61 1556.04 L1370.73 1556.04 L1370.73 1506.52 L1376.61 1506.52 L1376.61 1525.93 Q1378.72 1522.72 1381.55 1521.13 Q1384.41 1519.54 1388.14 1519.54 Q1394.28 1519.54 1397.43 1523.36 Q1400.58 1527.14 1400.58 1534.53 Z\" fill=\"#000000\" fill-rule=\"evenodd\" fill-opacity=\"1\" /><path clip-path=\"url(#clip430)\" d=\"M 0 0 M1427.38 1525.87 Q1426.39 1525.3 1425.22 1525.04 Q1424.07 1524.76 1422.67 1524.76 Q1417.71 1524.76 1415.03 1528 Q1412.39 1531.22 1412.39 1537.27 L1412.39 1556.04 L1406.5 1556.04 L1406.5 1520.4 L1412.39 1520.4 L1412.39 1525.93 Q1414.24 1522.69 1417.2 1521.13 Q1420.16 1519.54 1424.39 1519.54 Q1424.99 1519.54 1425.73 1519.63 Q1426.46 1519.7 1427.35 1519.85 L1427.38 1525.87 Z\" fill=\"#000000\" fill-rule=\"evenodd\" fill-opacity=\"1\" /><path clip-path=\"url(#clip430)\" d=\"M 0 0 M1462.58 1536.76 L1462.58 1539.62 L1435.66 1539.62 Q1436.04 1545.67 1439.28 1548.85 Q1442.56 1552 1448.39 1552 Q1451.76 1552 1454.91 1551.17 Q1458.1 1550.35 1461.21 1548.69 L1461.21 1554.23 Q1458.06 1555.57 1454.75 1556.27 Q1451.44 1556.97 1448.04 1556.97 Q1439.51 1556.97 1434.51 1552 Q1429.55 1547.04 1429.55 1538.57 Q1429.55 1529.82 1434.26 1524.69 Q1439 1519.54 1447.02 1519.54 Q1454.21 1519.54 1458.38 1524.18 Q1462.58 1528.8 1462.58 1536.76 M1456.73 1535.04 Q1456.66 1530.23 1454.02 1527.37 Q1451.41 1524.5 1447.08 1524.5 Q1442.18 1524.5 1439.22 1527.27 Q1436.29 1530.04 1435.85 1535.07 L1456.73 1535.04 Z\" fill=\"#000000\" fill-rule=\"evenodd\" fill-opacity=\"1\" /><path clip-path=\"url(#clip430)\" d=\"M 0 0 M1491.45 1521.45 L1491.45 1526.98 Q1488.97 1525.71 1486.3 1525.07 Q1483.62 1524.44 1480.76 1524.44 Q1476.4 1524.44 1474.2 1525.77 Q1472.04 1527.11 1472.04 1529.79 Q1472.04 1531.82 1473.6 1533 Q1475.16 1534.15 1479.87 1535.2 L1481.87 1535.64 Q1488.11 1536.98 1490.72 1539.43 Q1493.36 1541.85 1493.36 1546.21 Q1493.36 1551.17 1489.41 1554.07 Q1485.5 1556.97 1478.62 1556.97 Q1475.76 1556.97 1472.64 1556.39 Q1469.55 1555.85 1466.12 1554.74 L1466.12 1548.69 Q1469.36 1550.38 1472.51 1551.24 Q1475.66 1552.07 1478.75 1552.07 Q1482.89 1552.07 1485.12 1550.66 Q1487.35 1549.23 1487.35 1546.65 Q1487.35 1544.27 1485.72 1542.99 Q1484.13 1541.72 1478.69 1540.54 L1476.65 1540.07 Q1471.21 1538.92 1468.79 1536.56 Q1466.37 1534.18 1466.37 1530.04 Q1466.37 1525.01 1469.94 1522.27 Q1473.5 1519.54 1480.06 1519.54 Q1483.3 1519.54 1486.17 1520.01 Q1489.03 1520.49 1491.45 1521.45 Z\" fill=\"#000000\" fill-rule=\"evenodd\" fill-opacity=\"1\" /><path clip-path=\"url(#clip430)\" d=\"M 0 0 M1529.14 1534.53 L1529.14 1556.04 L1523.28 1556.04 L1523.28 1534.72 Q1523.28 1529.66 1521.31 1527.14 Q1519.33 1524.63 1515.39 1524.63 Q1510.64 1524.63 1507.91 1527.65 Q1505.17 1530.68 1505.17 1535.9 L1505.17 1556.04 L1499.28 1556.04 L1499.28 1506.52 L1505.17 1506.52 L1505.17 1525.93 Q1507.27 1522.72 1510.1 1521.13 Q1512.97 1519.54 1516.69 1519.54 Q1522.83 1519.54 1525.99 1523.36 Q1529.14 1527.14 1529.14 1534.53 Z\" fill=\"#000000\" fill-rule=\"evenodd\" fill-opacity=\"1\" /><path clip-path=\"url(#clip430)\" d=\"M 0 0 M1549.09 1524.5 Q1544.38 1524.5 1541.65 1528.19 Q1538.91 1531.85 1538.91 1538.25 Q1538.91 1544.65 1541.61 1548.34 Q1544.35 1552 1549.09 1552 Q1553.77 1552 1556.51 1548.31 Q1559.25 1544.62 1559.25 1538.25 Q1559.25 1531.92 1556.51 1528.23 Q1553.77 1524.5 1549.09 1524.5 M1549.09 1519.54 Q1556.73 1519.54 1561.09 1524.5 Q1565.45 1529.47 1565.45 1538.25 Q1565.45 1547 1561.09 1552 Q1556.73 1556.97 1549.09 1556.97 Q1541.42 1556.97 1537.06 1552 Q1532.73 1547 1532.73 1538.25 Q1532.73 1529.47 1537.06 1524.5 Q1541.42 1519.54 1549.09 1519.54 Z\" fill=\"#000000\" fill-rule=\"evenodd\" fill-opacity=\"1\" /><path clip-path=\"url(#clip430)\" d=\"M 0 0 M1571.6 1506.52 L1577.45 1506.52 L1577.45 1556.04 L1571.6 1556.04 L1571.6 1506.52 Z\" fill=\"#000000\" fill-rule=\"evenodd\" fill-opacity=\"1\" /><path clip-path=\"url(#clip430)\" d=\"M 0 0 M1607.05 1525.81 L1607.05 1506.52 L1612.91 1506.52 L1612.91 1556.04 L1607.05 1556.04 L1607.05 1550.7 Q1605.21 1553.88 1602.37 1555.44 Q1599.57 1556.97 1595.63 1556.97 Q1589.17 1556.97 1585.09 1551.81 Q1581.05 1546.65 1581.05 1538.25 Q1581.05 1529.85 1585.09 1524.69 Q1589.17 1519.54 1595.63 1519.54 Q1599.57 1519.54 1602.37 1521.1 Q1605.21 1522.62 1607.05 1525.81 M1587.1 1538.25 Q1587.1 1544.71 1589.74 1548.4 Q1592.41 1552.07 1597.06 1552.07 Q1601.71 1552.07 1604.38 1548.4 Q1607.05 1544.71 1607.05 1538.25 Q1607.05 1531.79 1604.38 1528.13 Q1601.71 1524.44 1597.06 1524.44 Q1592.41 1524.44 1589.74 1528.13 Q1587.1 1531.79 1587.1 1538.25 Z\" fill=\"#000000\" fill-rule=\"evenodd\" fill-opacity=\"1\" /><path clip-path=\"url(#clip430)\" d=\"M 0 0 M44.1444 904.492 L50.9239 904.492 Q47.9002 907.739 46.4043 911.431 Q44.9083 915.091 44.9083 919.229 Q44.9083 927.377 49.9054 931.705 Q54.8707 936.034 64.2919 936.034 Q73.6813 936.034 78.6784 931.705 Q83.6436 927.377 83.6436 919.229 Q83.6436 915.091 82.1477 911.431 Q80.6518 907.739 77.6281 904.492 L84.3439 904.492 Q86.6355 907.866 87.7814 911.653 Q88.9272 915.409 88.9272 919.611 Q88.9272 930.4 82.3387 936.607 Q75.7183 942.814 64.2919 942.814 Q52.8336 942.814 46.2451 936.607 Q39.6248 930.4 39.6248 919.611 Q39.6248 915.346 40.7706 911.59 Q41.8846 907.802 44.1444 904.492 Z\" fill=\"#000000\" fill-rule=\"evenodd\" fill-opacity=\"1\" /><path clip-path=\"url(#clip430)\" d=\"M 0 0 M57.8307 877.692 Q57.2578 878.679 57.0032 879.857 Q56.7167 881.003 56.7167 882.403 Q56.7167 887.368 59.9632 890.042 Q63.1779 892.684 69.2253 892.684 L88.0042 892.684 L88.0042 898.572 L52.3562 898.572 L52.3562 892.684 L57.8944 892.684 Q54.6479 890.838 53.0883 887.878 Q51.4968 884.917 51.4968 880.684 Q51.4968 880.08 51.5923 879.347 Q51.656 878.615 51.8151 877.724 L57.8307 877.692 Z\" fill=\"#000000\" fill-rule=\"evenodd\" fill-opacity=\"1\" /><path clip-path=\"url(#clip430)\" d=\"M 0 0 M56.4621 859.168 Q56.4621 863.879 60.1542 866.616 Q63.8145 869.353 70.212 869.353 Q76.6095 869.353 80.3017 866.648 Q83.9619 863.911 83.9619 859.168 Q83.9619 854.489 80.2698 851.752 Q76.5777 849.015 70.212 849.015 Q63.8781 849.015 60.186 851.752 Q56.4621 854.489 56.4621 859.168 M51.4968 859.168 Q51.4968 851.529 56.4621 847.169 Q61.4273 842.808 70.212 842.808 Q78.9649 842.808 83.9619 847.169 Q88.9272 851.529 88.9272 859.168 Q88.9272 866.839 83.9619 871.199 Q78.9649 875.528 70.212 875.528 Q61.4273 875.528 56.4621 871.199 Q51.4968 866.839 51.4968 859.168 Z\" fill=\"#000000\" fill-rule=\"evenodd\" fill-opacity=\"1\" /><path clip-path=\"url(#clip430)\" d=\"M 0 0 M53.4065 813.94 L58.9447 813.94 Q57.6716 816.422 57.035 819.096 Q56.3984 821.77 56.3984 824.634 Q56.3984 828.995 57.7352 831.191 Q59.072 833.355 61.7456 833.355 Q63.7826 833.355 64.9603 831.796 Q66.1061 830.236 67.1565 825.525 L67.6021 823.52 Q68.9389 817.282 71.3897 814.672 Q73.8086 812.03 78.1691 812.03 Q83.1344 812.03 86.0308 815.977 Q88.9272 819.892 88.9272 826.767 Q88.9272 829.631 88.3543 832.751 Q87.8132 835.838 86.6992 839.275 L80.6518 839.275 Q82.3387 836.029 83.198 832.878 Q84.0256 829.727 84.0256 826.639 Q84.0256 822.502 82.6251 820.274 Q81.1929 818.046 78.6147 818.046 Q76.2276 818.046 74.9545 819.669 Q73.6813 821.26 72.5037 826.703 L72.0262 828.74 Q70.8804 834.183 68.5251 836.602 Q66.138 839.021 62.0002 839.021 Q56.9713 839.021 54.2341 835.456 Q51.4968 831.891 51.4968 825.334 Q51.4968 822.088 51.9743 819.223 Q52.4517 816.359 53.4065 813.94 Z\" fill=\"#000000\" fill-rule=\"evenodd\" fill-opacity=\"1\" /><path clip-path=\"url(#clip430)\" d=\"M 0 0 M53.4065 783.162 L58.9447 783.162 Q57.6716 785.644 57.035 788.318 Q56.3984 790.991 56.3984 793.856 Q56.3984 798.217 57.7352 800.413 Q59.072 802.577 61.7456 802.577 Q63.7826 802.577 64.9603 801.017 Q66.1061 799.458 67.1565 794.747 L67.6021 792.742 Q68.9389 786.504 71.3897 783.894 Q73.8086 781.252 78.1691 781.252 Q83.1344 781.252 86.0308 785.199 Q88.9272 789.114 88.9272 795.989 Q88.9272 798.853 88.3543 801.972 Q87.8132 805.06 86.6992 808.497 L80.6518 808.497 Q82.3387 805.251 83.198 802.1 Q84.0256 798.949 84.0256 795.861 Q84.0256 791.724 82.6251 789.496 Q81.1929 787.268 78.6147 787.268 Q76.2276 787.268 74.9545 788.891 Q73.6813 790.482 72.5037 795.925 L72.0262 797.962 Q70.8804 803.405 68.5251 805.824 Q66.138 808.243 62.0002 808.243 Q56.9713 808.243 54.2341 804.678 Q51.4968 801.113 51.4968 794.556 Q51.4968 791.31 51.9743 788.445 Q52.4517 785.581 53.4065 783.162 Z\" fill=\"#000000\" fill-rule=\"evenodd\" fill-opacity=\"1\" /><path clip-path=\"url(#clip430)\" d=\"M 0 0 M40.4842 754.134 L40.4842 724.088 L45.895 724.088 L45.895 747.705 L59.9632 747.705 L59.9632 725.075 L65.3741 725.075 L65.3741 747.705 L82.5933 747.705 L82.5933 723.515 L88.0042 723.515 L88.0042 754.134 L40.4842 754.134 Z\" fill=\"#000000\" fill-rule=\"evenodd\" fill-opacity=\"1\" /><path clip-path=\"url(#clip430)\" d=\"M 0 0 M66.4881 687.74 L88.0042 687.74 L88.0042 693.596 L66.679 693.596 Q61.6183 693.596 59.1038 695.57 Q56.5894 697.543 56.5894 701.49 Q56.5894 706.232 59.6131 708.969 Q62.6368 711.707 67.8567 711.707 L88.0042 711.707 L88.0042 717.595 L52.3562 717.595 L52.3562 711.707 L57.8944 711.707 Q54.6797 709.606 53.0883 706.773 Q51.4968 703.909 51.4968 700.185 Q51.4968 694.042 55.3163 690.891 Q59.1038 687.74 66.4881 687.74 Z\" fill=\"#000000\" fill-rule=\"evenodd\" fill-opacity=\"1\" /><path clip-path=\"url(#clip430)\" d=\"M 0 0 M42.2347 675.804 L52.3562 675.804 L52.3562 663.741 L56.9077 663.741 L56.9077 675.804 L76.2594 675.804 Q80.6199 675.804 81.8613 674.626 Q83.1026 673.417 83.1026 669.757 L83.1026 663.741 L88.0042 663.741 L88.0042 669.757 Q88.0042 676.536 85.4897 679.114 Q82.9434 681.692 76.2594 681.692 L56.9077 681.692 L56.9077 685.989 L52.3562 685.989 L52.3562 681.692 L42.2347 681.692 L42.2347 675.804 Z\" fill=\"#000000\" fill-rule=\"evenodd\" fill-opacity=\"1\" /><path clip-path=\"url(#clip430)\" d=\"M 0 0 M57.8307 636.941 Q57.2578 637.928 57.0032 639.106 Q56.7167 640.252 56.7167 641.652 Q56.7167 646.617 59.9632 649.291 Q63.1779 651.933 69.2253 651.933 L88.0042 651.933 L88.0042 657.821 L52.3562 657.821 L52.3562 651.933 L57.8944 651.933 Q54.6479 650.087 53.0883 647.127 Q51.4968 644.166 51.4968 639.933 Q51.4968 639.329 51.5923 638.596 Q51.656 637.864 51.8151 636.973 L57.8307 636.941 Z\" fill=\"#000000\" fill-rule=\"evenodd\" fill-opacity=\"1\" /><path clip-path=\"url(#clip430)\" d=\"M 0 0 M56.4621 618.417 Q56.4621 623.128 60.1542 625.865 Q63.8145 628.602 70.212 628.602 Q76.6095 628.602 80.3017 625.897 Q83.9619 623.16 83.9619 618.417 Q83.9619 613.738 80.2698 611.001 Q76.5777 608.264 70.212 608.264 Q63.8781 608.264 60.186 611.001 Q56.4621 613.738 56.4621 618.417 M51.4968 618.417 Q51.4968 610.778 56.4621 606.418 Q61.4273 602.057 70.212 602.057 Q78.9649 602.057 83.9619 606.418 Q88.9272 610.778 88.9272 618.417 Q88.9272 626.088 83.9619 630.448 Q78.9649 634.777 70.212 634.777 Q61.4273 634.777 56.4621 630.448 Q51.4968 626.088 51.4968 618.417 Z\" fill=\"#000000\" fill-rule=\"evenodd\" fill-opacity=\"1\" /><path clip-path=\"url(#clip430)\" d=\"M 0 0 M82.657 590.249 L101.563 590.249 L101.563 596.137 L52.3562 596.137 L52.3562 590.249 L57.7671 590.249 Q54.5842 588.403 53.0564 585.602 Q51.4968 582.769 51.4968 578.854 Q51.4968 572.361 56.6531 568.319 Q61.8093 564.245 70.212 564.245 Q78.6147 564.245 83.771 568.319 Q88.9272 572.361 88.9272 578.854 Q88.9272 582.769 87.3994 585.602 Q85.8398 588.403 82.657 590.249 M70.212 570.324 Q63.7508 570.324 60.0905 572.998 Q56.3984 575.64 56.3984 580.287 Q56.3984 584.934 60.0905 587.607 Q63.7508 590.249 70.212 590.249 Q76.6732 590.249 80.3653 587.607 Q84.0256 584.934 84.0256 580.287 Q84.0256 575.64 80.3653 572.998 Q76.6732 570.324 70.212 570.324 Z\" fill=\"#000000\" fill-rule=\"evenodd\" fill-opacity=\"1\" /><path clip-path=\"url(#clip430)\" d=\"M 0 0 M91.3143 543.27 Q97.68 545.753 99.6216 548.108 Q101.563 550.463 101.563 554.41 L101.563 559.089 L96.6615 559.089 L96.6615 555.651 Q96.6615 553.232 95.5157 551.896 Q94.3699 550.559 90.1048 548.935 L87.4312 547.885 L52.3562 562.303 L52.3562 556.097 L80.238 544.957 L52.3562 533.817 L52.3562 527.61 L91.3143 543.27 Z\" fill=\"#000000\" fill-rule=\"evenodd\" fill-opacity=\"1\" /><polyline clip-path=\"url(#clip432)\" style=\"stroke:#009af9; stroke-width:8; stroke-opacity:1; fill:none\" points=\"\n",
       "  237.067,1369.4 257.608,1369.4 278.149,1369.4 298.689,1369.4 319.23,1369.4 339.771,1369.4 360.311,1369.4 380.852,1369.4 401.393,1369.4 421.933,1369.4 \n",
       "  442.474,1369.4 463.015,1369.4 483.555,1369.4 504.096,1369.4 524.637,1369.4 545.177,1369.4 565.718,1369.4 586.259,1369.4 606.799,1369.4 627.34,1369.4 \n",
       "  647.881,1369.4 668.421,1369.4 688.962,1369.4 709.503,1369.4 730.043,1369.4 750.584,1369.4 771.125,1369.4 791.665,1369.4 812.206,1369.4 832.747,1369.4 \n",
       "  853.287,1369.4 873.828,1369.4 894.369,1369.4 914.909,1369.4 935.45,1296.92 955.991,1318.7 976.531,1311.53 997.072,1363.91 1017.61,1341.57 1038.15,1338.74 \n",
       "  1058.69,1316.96 1079.23,1341 1099.78,1327 1120.32,1348.61 1140.86,1384.19 1161.4,1375.7 1181.94,1357.43 1202.48,1355.04 1223.02,1376.69 1243.56,1384.24 \n",
       "  1264.1,1383.55 1284.64,1136.36 1305.18,1129.51 1325.72,1091.1 1346.26,1162.91 1366.8,1147.4 1387.34,1121.41 1407.89,1072.94 1428.43,1176.74 1448.97,1130.96 \n",
       "  1469.51,1056.91 1490.05,1008.12 1510.59,1024.6 1531.13,907.379 1551.67,911.491 1572.21,874.857 1592.75,985.291 1613.29,718.033 1633.83,634.776 1654.37,629.772 \n",
       "  1674.91,638.288 1695.45,642.142 1716,637.377 1736.54,667.223 1757.08,652.055 1777.62,579.488 1798.16,447.941 1818.7,605.189 1839.24,544.385 1859.78,537.66 \n",
       "  1880.32,502.168 1900.86,398.363 1921.4,429.055 1941.94,276.514 1962.48,340.537 1983.02,325.348 2003.56,408.998 2024.11,252.758 2044.65,233.766 2065.19,310.775 \n",
       "  2085.73,238.235 2106.27,200.174 2126.81,323.22 2147.35,174.237 2167.89,128.558 2188.43,117.736 2208.97,121.437 2229.51,125.65 2250.05,86.1857 2270.59,201.029 \n",
       "  2291.13,104.122 \n",
       "  \"/>\n",
       "<path clip-path=\"url(#clip430)\" d=\"\n",
       "M1838.93 214.069 L2280.18 214.069 L2280.18 93.1086 L1838.93 93.1086  Z\n",
       "  \" fill=\"#ffffff\" fill-rule=\"evenodd\" fill-opacity=\"1\"/>\n",
       "<polyline clip-path=\"url(#clip430)\" style=\"stroke:#000000; stroke-width:4; stroke-opacity:1; fill:none\" points=\"\n",
       "  1838.93,214.069 2280.18,214.069 2280.18,93.1086 1838.93,93.1086 1838.93,214.069 \n",
       "  \"/>\n",
       "<polyline clip-path=\"url(#clip430)\" style=\"stroke:#009af9; stroke-width:4; stroke-opacity:1; fill:none\" points=\"\n",
       "  1863.12,153.589 2008.27,153.589 \n",
       "  \"/>\n",
       "<path clip-path=\"url(#clip430)\" d=\"M 0 0 M2045.66 170.869 L2032.47 136.309 L2037.35 136.309 L2048.3 165.406 L2059.27 136.309 L2064.13 136.309 L2050.96 170.869 L2045.66 170.869 Z\" fill=\"#000000\" fill-rule=\"evenodd\" fill-opacity=\"1\" /><path clip-path=\"url(#clip430)\" d=\"M 0 0 M2076.7 157.836 Q2071.54 157.836 2069.55 159.017 Q2067.56 160.197 2067.56 163.045 Q2067.56 165.313 2069.04 166.656 Q2070.55 167.975 2073.11 167.975 Q2076.66 167.975 2078.79 165.475 Q2080.94 162.952 2080.94 158.785 L2080.94 157.836 L2076.7 157.836 M2085.2 156.077 L2085.2 170.869 L2080.94 170.869 L2080.94 166.933 Q2079.48 169.295 2077.3 170.429 Q2075.13 171.54 2071.98 171.54 Q2068 171.54 2065.64 169.318 Q2063.3 167.072 2063.3 163.322 Q2063.3 158.947 2066.22 156.725 Q2069.16 154.503 2074.97 154.503 L2080.94 154.503 L2080.94 154.086 Q2080.94 151.147 2078.99 149.549 Q2077.07 147.929 2073.58 147.929 Q2071.36 147.929 2069.25 148.461 Q2067.14 148.994 2065.2 150.059 L2065.2 146.123 Q2067.54 145.221 2069.73 144.781 Q2071.93 144.318 2074.02 144.318 Q2079.64 144.318 2082.42 147.234 Q2085.2 150.151 2085.2 156.077 Z\" fill=\"#000000\" fill-rule=\"evenodd\" fill-opacity=\"1\" /><path clip-path=\"url(#clip430)\" d=\"M 0 0 M2089.67 134.85 L2093.92 134.85 L2093.92 170.869 L2089.67 170.869 L2089.67 134.85 Z\" fill=\"#000000\" fill-rule=\"evenodd\" fill-opacity=\"1\" /><path clip-path=\"url(#clip430)\" d=\"M 0 0 M2098.39 144.943 L2102.65 144.943 L2102.65 170.869 L2098.39 170.869 L2098.39 144.943 M2098.39 134.85 L2102.65 134.85 L2102.65 140.244 L2098.39 140.244 L2098.39 134.85 Z\" fill=\"#000000\" fill-rule=\"evenodd\" fill-opacity=\"1\" /><path clip-path=\"url(#clip430)\" d=\"M 0 0 M2124.18 148.878 L2124.18 134.85 L2128.44 134.85 L2128.44 170.869 L2124.18 170.869 L2124.18 166.98 Q2122.84 169.295 2120.78 170.429 Q2118.74 171.54 2115.87 171.54 Q2111.17 171.54 2108.21 167.79 Q2105.27 164.04 2105.27 157.929 Q2105.27 151.818 2108.21 148.068 Q2111.17 144.318 2115.87 144.318 Q2118.74 144.318 2120.78 145.452 Q2122.84 146.563 2124.18 148.878 M2109.67 157.929 Q2109.67 162.628 2111.59 165.313 Q2113.53 167.975 2116.91 167.975 Q2120.29 167.975 2122.23 165.313 Q2124.18 162.628 2124.18 157.929 Q2124.18 153.23 2122.23 150.568 Q2120.29 147.883 2116.91 147.883 Q2113.53 147.883 2111.59 150.568 Q2109.67 153.23 2109.67 157.929 Z\" fill=\"#000000\" fill-rule=\"evenodd\" fill-opacity=\"1\" /><path clip-path=\"url(#clip430)\" d=\"M 0 0 M2144.69 157.836 Q2139.53 157.836 2137.54 159.017 Q2135.54 160.197 2135.54 163.045 Q2135.54 165.313 2137.03 166.656 Q2138.53 167.975 2141.1 167.975 Q2144.64 167.975 2146.77 165.475 Q2148.92 162.952 2148.92 158.785 L2148.92 157.836 L2144.69 157.836 M2153.18 156.077 L2153.18 170.869 L2148.92 170.869 L2148.92 166.933 Q2147.47 169.295 2145.29 170.429 Q2143.11 171.54 2139.97 171.54 Q2135.98 171.54 2133.62 169.318 Q2131.29 167.072 2131.29 163.322 Q2131.29 158.947 2134.2 156.725 Q2137.14 154.503 2142.95 154.503 L2148.92 154.503 L2148.92 154.086 Q2148.92 151.147 2146.98 149.549 Q2145.06 147.929 2141.56 147.929 Q2139.34 147.929 2137.23 148.461 Q2135.13 148.994 2133.18 150.059 L2133.18 146.123 Q2135.52 145.221 2137.72 144.781 Q2139.92 144.318 2142 144.318 Q2147.63 144.318 2150.41 147.234 Q2153.18 150.151 2153.18 156.077 Z\" fill=\"#000000\" fill-rule=\"evenodd\" fill-opacity=\"1\" /><path clip-path=\"url(#clip430)\" d=\"M 0 0 M2161.86 137.582 L2161.86 144.943 L2170.64 144.943 L2170.64 148.253 L2161.86 148.253 L2161.86 162.327 Q2161.86 165.498 2162.72 166.401 Q2163.6 167.304 2166.26 167.304 L2170.64 167.304 L2170.64 170.869 L2166.26 170.869 Q2161.33 170.869 2159.46 169.04 Q2157.58 167.188 2157.58 162.327 L2157.58 148.253 L2154.46 148.253 L2154.46 144.943 L2157.58 144.943 L2157.58 137.582 L2161.86 137.582 Z\" fill=\"#000000\" fill-rule=\"evenodd\" fill-opacity=\"1\" /><path clip-path=\"url(#clip430)\" d=\"M 0 0 M2175.1 144.943 L2179.36 144.943 L2179.36 170.869 L2175.1 170.869 L2175.1 144.943 M2175.1 134.85 L2179.36 134.85 L2179.36 140.244 L2175.1 140.244 L2175.1 134.85 Z\" fill=\"#000000\" fill-rule=\"evenodd\" fill-opacity=\"1\" /><path clip-path=\"url(#clip430)\" d=\"M 0 0 M2193.88 147.929 Q2190.45 147.929 2188.46 150.614 Q2186.47 153.276 2186.47 157.929 Q2186.47 162.582 2188.44 165.267 Q2190.43 167.929 2193.88 167.929 Q2197.28 167.929 2199.27 165.244 Q2201.26 162.558 2201.26 157.929 Q2201.26 153.322 2199.27 150.637 Q2197.28 147.929 2193.88 147.929 M2193.88 144.318 Q2199.43 144.318 2202.6 147.929 Q2205.78 151.54 2205.78 157.929 Q2205.78 164.295 2202.6 167.929 Q2199.43 171.54 2193.88 171.54 Q2188.3 171.54 2185.13 167.929 Q2181.98 164.295 2181.98 157.929 Q2181.98 151.54 2185.13 147.929 Q2188.3 144.318 2193.88 144.318 Z\" fill=\"#000000\" fill-rule=\"evenodd\" fill-opacity=\"1\" /><path clip-path=\"url(#clip430)\" d=\"M 0 0 M2231.79 155.221 L2231.79 170.869 L2227.53 170.869 L2227.53 155.359 Q2227.53 151.679 2226.1 149.85 Q2224.66 148.022 2221.79 148.022 Q2218.35 148.022 2216.35 150.221 Q2214.36 152.42 2214.36 156.216 L2214.36 170.869 L2210.08 170.869 L2210.08 144.943 L2214.36 144.943 L2214.36 148.971 Q2215.89 146.633 2217.95 145.475 Q2220.04 144.318 2222.74 144.318 Q2227.21 144.318 2229.5 147.096 Q2231.79 149.85 2231.79 155.221 Z\" fill=\"#000000\" fill-rule=\"evenodd\" fill-opacity=\"1\" /></svg>\n"
      ]
     },
     "execution_count": 318,
     "metadata": {},
     "output_type": "execute_result"
    }
   ],
   "source": [
    "plot(curve.parameter_values,\n",
    "     curve.measurements,\n",
    "     xlab=curve.parameter_name,\n",
    "     ylab=\"Cross Entropy\",\n",
    "     label=\"Validation\", lw=2)\n",
    "# plot!(Net2.report.training_losses, label=\"Training\", lw=2)"
   ]
  },
  {
   "cell_type": "code",
   "execution_count": 319,
   "metadata": {},
   "outputs": [
    {
     "data": {
      "text/plain": [
       "1.40078"
      ]
     },
     "execution_count": 319,
     "metadata": {},
     "output_type": "execute_result"
    }
   ],
   "source": [
    "a = round(minimum(curve.measurements), digits=5)"
   ]
  },
  {
   "cell_type": "code",
   "execution_count": 320,
   "metadata": {},
   "outputs": [
    {
     "data": {
      "text/plain": [
       "MLJBase.NumericRange(Float64, :merge_purity_threshold, ... )"
      ]
     },
     "execution_count": 320,
     "metadata": {},
     "output_type": "execute_result"
    }
   ],
   "source": [
    "param1 = :merge_purity_threshold\n",
    "\n",
    "r1 = range(dt2, param1, lower=0, upper=1, scale=:linear)"
   ]
  },
  {
   "cell_type": "code",
   "execution_count": 321,
   "metadata": {},
   "outputs": [
    {
     "data": {
      "text/plain": [
       "ProbabilisticTunedModel(\n",
       "    model = DecisionTreeClassifier(\n",
       "            max_depth = -1,\n",
       "            min_samples_leaf = 1,\n",
       "            min_samples_split = 2,\n",
       "            min_purity_increase = 0.0,\n",
       "            n_subfeatures = 0,\n",
       "            post_prune = true,\n",
       "            merge_purity_threshold = 1.0,\n",
       "            pdf_smoothing = 0.0,\n",
       "            display_depth = 5),\n",
       "    tuning = Grid(\n",
       "            goal = 100,\n",
       "            resolution = 10,\n",
       "            shuffle = true,\n",
       "            rng = Random._GLOBAL_RNG()),\n",
       "    resampling = CV(\n",
       "            nfolds = 6,\n",
       "            shuffle = false,\n",
       "            rng = Random._GLOBAL_RNG()),\n",
       "    measure = cross_entropy(\n",
       "            eps = 2.220446049250313e-16),\n",
       "    weights = nothing,\n",
       "    operation = MLJModelInterface.predict,\n",
       "    range = MLJBase.NumericRange{Float64,MLJBase.Bounded,Symbol}[\u001b[34mNumericRange{Float64,…} @458\u001b[39m],\n",
       "    train_best = true,\n",
       "    repeats = 1,\n",
       "    n = nothing,\n",
       "    acceleration = CPUThreads{Int64}(1),\n",
       "    acceleration_resampling = CPU1{Nothing}(nothing),\n",
       "    check_measure = true)\u001b[34m @375\u001b[39m"
      ]
     },
     "execution_count": 321,
     "metadata": {},
     "output_type": "execute_result"
    }
   ],
   "source": [
    "self_tuning_dt_model = TunedModel(model=dt2,\n",
    "                                    tuning=Grid(goal=100),\n",
    "                                    resampling=CV(), \n",
    "                                    measure=cross_entropy,\n",
    "                                    acceleration=CPUThreads(),\n",
    "                                    range=[r1])"
   ]
  },
  {
   "cell_type": "code",
   "execution_count": 322,
   "metadata": {},
   "outputs": [
    {
     "data": {
      "text/plain": [
       "\u001b[34mMachine{ProbabilisticTunedModel{Grid,…}} @498\u001b[39m trained 0 times.\n",
       "  args: \n",
       "    1:\t\u001b[34mSource @689\u001b[39m ⏎ `Table{AbstractArray{Continuous,1}}`\n",
       "    2:\t\u001b[34mSource @556\u001b[39m ⏎ `AbstractArray{Multiclass{3},1}`\n"
      ]
     },
     "execution_count": 322,
     "metadata": {},
     "output_type": "execute_result"
    }
   ],
   "source": [
    "self_tuning_dt = machine(self_tuning_dt_model, X, y)"
   ]
  },
  {
   "cell_type": "code",
   "execution_count": 323,
   "metadata": {},
   "outputs": [
    {
     "name": "stderr",
     "output_type": "stream",
     "text": [
      "┌ Info: Training \u001b[34mMachine{ProbabilisticTunedModel{Grid,…}} @498\u001b[39m.\n",
      "└ @ MLJBase /home/andrew/.julia/packages/MLJBase/uKzAz/src/machines.jl:319\n",
      "┌ Info: Attempting to evaluate 100 models.\n",
      "└ @ MLJTuning /home/andrew/.julia/packages/MLJTuning/Bbgvk/src/tuned_models.jl:494\n",
      "\u001b[33mEvaluating over 100 metamodels: 100%[=========================] Time: 0:00:15\u001b[39m\n"
     ]
    },
    {
     "data": {
      "text/plain": [
       "\u001b[34mMachine{ProbabilisticTunedModel{Grid,…}} @498\u001b[39m trained 1 time.\n",
       "  args: \n",
       "    1:\t\u001b[34mSource @689\u001b[39m ⏎ `Table{AbstractArray{Continuous,1}}`\n",
       "    2:\t\u001b[34mSource @556\u001b[39m ⏎ `AbstractArray{Multiclass{3},1}`\n"
      ]
     },
     "execution_count": 323,
     "metadata": {},
     "output_type": "execute_result"
    }
   ],
   "source": [
    "z = fit!(self_tuning_dt, rows=train)"
   ]
  },
  {
   "cell_type": "code",
   "execution_count": 324,
   "metadata": {},
   "outputs": [
    {
     "data": {
      "text/plain": [
       "(best_model = \u001b[34mDecisionTreeClassifier @193\u001b[39m,\n",
       " best_fitted_params = (tree = Decision Tree\n",
       "Leaves: 12\n",
       "Depth:  9,\n",
       "                       encoding = Dict{CategoricalValue{String,UInt32},UInt32}(\"IE\" => 0x00000002,\"EI\" => 0x00000001,\"N\" => 0x00000003),),)"
      ]
     },
     "execution_count": 324,
     "metadata": {},
     "output_type": "execute_result"
    }
   ],
   "source": [
    "best = fitted_params(self_tuning_dt)\n",
    "best"
   ]
  },
  {
   "cell_type": "code",
   "execution_count": 325,
   "metadata": {},
   "outputs": [
    {
     "data": {
      "text/plain": [
       "DecisionTreeClassifier(\n",
       "    max_depth = -1,\n",
       "    min_samples_leaf = 1,\n",
       "    min_samples_split = 2,\n",
       "    min_purity_increase = 0.0,\n",
       "    n_subfeatures = 0,\n",
       "    post_prune = true,\n",
       "    merge_purity_threshold = 0.494949494949495,\n",
       "    pdf_smoothing = 0.0,\n",
       "    display_depth = 5)\u001b[34m @193\u001b[39m"
      ]
     },
     "execution_count": 325,
     "metadata": {},
     "output_type": "execute_result"
    }
   ],
   "source": [
    "best.best_model"
   ]
  },
  {
   "cell_type": "code",
   "execution_count": 326,
   "metadata": {},
   "outputs": [
    {
     "data": {
      "text/plain": [
       "0.49495"
      ]
     },
     "execution_count": 326,
     "metadata": {},
     "output_type": "execute_result"
    }
   ],
   "source": [
    "best_loss = round(z.report.best_result.measurement[1],digits=5)\n",
    "best_mpt = round(best.best_model.merge_purity_threshold,digits=5)"
   ]
  },
  {
   "cell_type": "code",
   "execution_count": 327,
   "metadata": {},
   "outputs": [],
   "source": [
    "fn = \"Figures/LearningCurve_DT_merge_purity_thresh:$(best_mpt)_loss:$(best_loss)\"\n",
    "png(replace(fn,'.' => ','))"
   ]
  },
  {
   "cell_type": "markdown",
   "metadata": {},
   "source": [
    "### Learning Curve"
   ]
  },
  {
   "cell_type": "code",
   "execution_count": 328,
   "metadata": {},
   "outputs": [
    {
     "name": "stdout",
     "output_type": "stream",
     "text": [
      "(d, train_metric, valid_metric) = (10, 0.6, 0.5509803921568628)\n",
      "(d, train_metric, valid_metric) = (20, 0.7, 0.5509803921568628)\n",
      "(d, train_metric, valid_metric) = (30, 0.6666666666666666, 0.5509803921568628)\n",
      "(d, train_metric, valid_metric) = (40, 0.825, 0.6509803921568628)\n",
      "(d, train_metric, valid_metric) = (50, 0.6, 0.5509803921568628)\n",
      "(d, train_metric, valid_metric) = (60, 0.5833333333333334, 0.5509803921568628)\n",
      "(d, train_metric, valid_metric) = (70, 0.5857142857142857, 0.5509803921568628)\n",
      "(d, train_metric, valid_metric) = (80, 0.5625, 0.5509803921568628)\n",
      "(d, train_metric, valid_metric) = (90, 0.5666666666666667, 0.5509803921568628)\n",
      "(d, train_metric, valid_metric) = (100, 0.57, 0.5509803921568628)\n",
      "(d, train_metric, valid_metric) = (110, 0.5636363636363636, 0.5509803921568628)\n",
      "(d, train_metric, valid_metric) = (120, 0.55, 0.5509803921568628)\n",
      "(d, train_metric, valid_metric) = (130, 0.8153846153846154, 0.692156862745098)\n",
      "(d, train_metric, valid_metric) = (140, 0.6642857142857143, 0.6372549019607843)\n",
      "(d, train_metric, valid_metric) = (150, 0.6866666666666666, 0.6862745098039216)\n",
      "(d, train_metric, valid_metric) = (160, 0.66875, 0.6705882352941176)\n",
      "(d, train_metric, valid_metric) = (170, 0.6823529411764706, 0.6862745098039216)\n",
      "(d, train_metric, valid_metric) = (180, 0.6944444444444444, 0.6862745098039216)\n",
      "(d, train_metric, valid_metric) = (190, 0.7, 0.6862745098039216)\n",
      "(d, train_metric, valid_metric) = (200, 0.53, 0.5509803921568628)\n",
      "(d, train_metric, valid_metric) = (210, 0.5285714285714286, 0.5509803921568628)\n",
      "(d, train_metric, valid_metric) = (220, 0.5181818181818182, 0.5509803921568628)\n",
      "(d, train_metric, valid_metric) = (230, 0.5173913043478261, 0.5509803921568628)\n",
      "(d, train_metric, valid_metric) = (240, 0.7791666666666667, 0.692156862745098)\n",
      "(d, train_metric, valid_metric) = (250, 0.532, 0.5509803921568628)\n",
      "(d, train_metric, valid_metric) = (260, 0.5346153846153846, 0.5509803921568628)\n",
      "(d, train_metric, valid_metric) = (270, 0.5370370370370371, 0.5509803921568628)\n",
      "(d, train_metric, valid_metric) = (280, 0.7821428571428571, 0.692156862745098)\n",
      "(d, train_metric, valid_metric) = (290, 0.5413793103448276, 0.5509803921568628)\n",
      "(d, train_metric, valid_metric) = (300, 0.5433333333333333, 0.5509803921568628)\n",
      "(d, train_metric, valid_metric) = (310, 0.7709677419354839, 0.6941176470588235)\n",
      "(d, train_metric, valid_metric) = (320, 0.771875, 0.6980392156862745)\n",
      "(d, train_metric, valid_metric) = (330, 0.7696969696969697, 0.7)\n",
      "(d, train_metric, valid_metric) = (340, 0.7676470588235295, 0.6941176470588235)\n",
      "(d, train_metric, valid_metric) = (350, 0.7714285714285715, 0.696078431372549)\n",
      "(d, train_metric, valid_metric) = (360, 0.7166666666666667, 0.6862745098039216)\n",
      "(d, train_metric, valid_metric) = (370, 0.5324324324324324, 0.5509803921568628)\n",
      "(d, train_metric, valid_metric) = (380, 0.5368421052631579, 0.5509803921568628)\n",
      "(d, train_metric, valid_metric) = (390, 0.5435897435897435, 0.5509803921568628)\n",
      "(d, train_metric, valid_metric) = (400, 0.535, 0.5509803921568628)\n",
      "(d, train_metric, valid_metric) = (410, 0.7121951219512195, 0.6862745098039216)\n",
      "(d, train_metric, valid_metric) = (420, 0.7142857142857143, 0.6862745098039216)\n",
      "(d, train_metric, valid_metric) = (430, 0.713953488372093, 0.6862745098039216)\n",
      "(d, train_metric, valid_metric) = (440, 0.7136363636363636, 0.6862745098039216)\n",
      "(d, train_metric, valid_metric) = (450, 0.7177777777777777, 0.6862745098039216)\n",
      "(d, train_metric, valid_metric) = (460, 0.717391304347826, 0.6862745098039216)\n",
      "(d, train_metric, valid_metric) = (470, 0.7531914893617021, 0.7392156862745098)\n",
      "(d, train_metric, valid_metric) = (480, 0.7520833333333333, 0.7470588235294118)\n",
      "(d, train_metric, valid_metric) = (490, 0.7591836734693878, 0.7549019607843137)\n",
      "(d, train_metric, valid_metric) = (500, 0.762, 0.7549019607843137)\n",
      "(d, train_metric, valid_metric) = (510, 0.7705882352941177, 0.7529411764705882)\n",
      "(d, train_metric, valid_metric) = (520, 0.7653846153846153, 0.7529411764705882)\n",
      "(d, train_metric, valid_metric) = (530, 0.7490566037735849, 0.7490196078431373)\n",
      "(d, train_metric, valid_metric) = (540, 0.7481481481481481, 0.7450980392156863)\n",
      "(d, train_metric, valid_metric) = (550, 0.7818181818181819, 0.7294117647058823)\n",
      "(d, train_metric, valid_metric) = (560, 0.7785714285714286, 0.7294117647058823)\n",
      "(d, train_metric, valid_metric) = (570, 0.5140350877192983, 0.5509803921568628)\n",
      "(d, train_metric, valid_metric) = (580, 0.5137931034482759, 0.5509803921568628)\n",
      "(d, train_metric, valid_metric) = (590, 0.7779661016949152, 0.7294117647058823)\n",
      "(d, train_metric, valid_metric) = (600, 0.5083333333333333, 0.5509803921568628)\n",
      "(d, train_metric, valid_metric) = (610, 0.7754098360655738, 0.7294117647058823)\n",
      "(d, train_metric, valid_metric) = (620, 0.7806451612903226, 0.7333333333333333)\n",
      "(d, train_metric, valid_metric) = (630, 0.7793650793650794, 0.7372549019607844)\n",
      "(d, train_metric, valid_metric) = (640, 0.7796875, 0.7254901960784313)\n",
      "(d, train_metric, valid_metric) = (650, 0.7323076923076923, 0.7490196078431373)\n",
      "(d, train_metric, valid_metric) = (660, 0.7757575757575758, 0.7215686274509804)\n",
      "(d, train_metric, valid_metric) = (670, 0.7820895522388059, 0.7352941176470589)\n",
      "(d, train_metric, valid_metric) = (680, 0.7838235294117647, 0.7352941176470589)\n",
      "(d, train_metric, valid_metric) = (690, 0.7782608695652173, 0.7254901960784313)\n",
      "(d, train_metric, valid_metric) = (700, 0.7771428571428571, 0.7254901960784313)\n",
      "(d, train_metric, valid_metric) = (710, 0.776056338028169, 0.7254901960784313)\n",
      "(d, train_metric, valid_metric) = (720, 0.775, 0.7254901960784313)\n",
      "(d, train_metric, valid_metric) = (730, 0.773972602739726, 0.7254901960784313)\n",
      "(d, train_metric, valid_metric) = (740, 0.7743243243243243, 0.7372549019607844)\n",
      "(d, train_metric, valid_metric) = (750, 0.7733333333333333, 0.7372549019607844)\n",
      "(d, train_metric, valid_metric) = (760, 0.7723684210526316, 0.7372549019607844)\n",
      "(d, train_metric, valid_metric) = (770, 0.7727272727272727, 0.7352941176470589)\n",
      "(d, train_metric, valid_metric) = (780, 0.7730769230769231, 0.7352941176470589)\n",
      "(d, train_metric, valid_metric) = (790, 0.7721518987341772, 0.7352941176470589)\n",
      "(d, train_metric, valid_metric) = (800, 0.77, 0.7352941176470589)\n",
      "(d, train_metric, valid_metric) = (810, 0.7765432098765432, 0.7431372549019608)\n",
      "(d, train_metric, valid_metric) = (820, 0.775609756097561, 0.7431372549019608)\n",
      "(d, train_metric, valid_metric) = (830, 0.7759036144578313, 0.7431372549019608)\n",
      "(d, train_metric, valid_metric) = (840, 0.7738095238095238, 0.7431372549019608)\n",
      "(d, train_metric, valid_metric) = (850, 0.7776470588235294, 0.7450980392156863)\n",
      "(d, train_metric, valid_metric) = (860, 0.7779069767441861, 0.7431372549019608)\n",
      "(d, train_metric, valid_metric) = (870, 0.7781609195402299, 0.7431372549019608)\n",
      "(d, train_metric, valid_metric) = (880, 0.7693181818181818, 0.7352941176470589)\n",
      "(d, train_metric, valid_metric) = (890, 0.7685393258426966, 0.7352941176470589)\n",
      "(d, train_metric, valid_metric) = (900, 0.7633333333333333, 0.7235294117647059)\n",
      "(d, train_metric, valid_metric) = (910, 0.7648351648351648, 0.7235294117647059)\n",
      "(d, train_metric, valid_metric) = (920, 0.7663043478260869, 0.7235294117647059)\n",
      "(d, train_metric, valid_metric) = (930, 0.7666666666666667, 0.7235294117647059)\n",
      "(d, train_metric, valid_metric) = (940, 0.7680851063829788, 0.7235294117647059)\n",
      "(d, train_metric, valid_metric) = (950, 0.7663157894736842, 0.7235294117647059)\n",
      "(d, train_metric, valid_metric) = (960, 0.7645833333333333, 0.7235294117647059)\n",
      "(d, train_metric, valid_metric) = (970, 0.7536082474226804, 0.7450980392156863)\n",
      "(d, train_metric, valid_metric) = (980, 0.753061224489796, 0.7450980392156863)\n",
      "(d, train_metric, valid_metric) = (990, 0.7525252525252525, 0.7509803921568627)\n",
      "(d, train_metric, valid_metric) = (1000, 0.757, 0.7647058823529411)\n",
      "(d, train_metric, valid_metric) = (1010, 0.7574257425742574, 0.7666666666666667)\n",
      "(d, train_metric, valid_metric) = (1020, 0.7735294117647059, 0.7333333333333333)\n",
      "(d, train_metric, valid_metric) = (1030, 0.7718446601941747, 0.7333333333333333)\n",
      "(d, train_metric, valid_metric) = (1040, 0.775, 0.7352941176470589)\n",
      "(d, train_metric, valid_metric) = (1050, 0.7619047619047619, 0.7725490196078432)\n",
      "(d, train_metric, valid_metric) = (1060, 0.7632075471698113, 0.7725490196078432)\n",
      "(d, train_metric, valid_metric) = (1070, 0.7504672897196262, 0.7549019607843137)\n",
      "(d, train_metric, valid_metric) = (1080, 0.7527777777777778, 0.7549019607843137)\n",
      "(d, train_metric, valid_metric) = (1090, 0.7522935779816514, 0.7549019607843137)\n",
      "(d, train_metric, valid_metric) = (1100, 0.7518181818181818, 0.7549019607843137)\n"
     ]
    },
    {
     "name": "stdout",
     "output_type": "stream",
     "text": [
      "(d, train_metric, valid_metric) = (1110, 0.7513513513513513, 0.7549019607843137)\n",
      "(d, train_metric, valid_metric) = (1120, 0.7642857142857142, 0.7725490196078432)\n",
      "(d, train_metric, valid_metric) = (1130, 0.7654867256637168, 0.7725490196078432)\n",
      "(d, train_metric, valid_metric) = (1140, 0.7640350877192983, 0.7666666666666667)\n",
      "(d, train_metric, valid_metric) = (1150, 0.7643478260869565, 0.7666666666666667)\n",
      "(d, train_metric, valid_metric) = (1160, 0.7655172413793103, 0.7764705882352941)\n",
      "(d, train_metric, valid_metric) = (1170, 0.852991452991453, 0.8058823529411765)\n",
      "(d, train_metric, valid_metric) = (1180, 0.8466101694915255, 0.8)\n",
      "(d, train_metric, valid_metric) = (1190, 0.8470588235294118, 0.8)\n",
      "(d, train_metric, valid_metric) = (1200, 0.8458333333333333, 0.792156862745098)\n",
      "(d, train_metric, valid_metric) = (1210, 0.8471074380165289, 0.7862745098039216)\n",
      "(d, train_metric, valid_metric) = (1220, 0.8475409836065574, 0.7901960784313725)\n",
      "(d, train_metric, valid_metric) = (1230, 0.848780487804878, 0.796078431372549)\n",
      "(d, train_metric, valid_metric) = (1240, 0.8491935483870968, 0.788235294117647)\n",
      "(d, train_metric, valid_metric) = (1250, 0.8488, 0.7901960784313725)\n",
      "(d, train_metric, valid_metric) = (1260, 0.8476190476190476, 0.7901960784313725)\n",
      "(d, train_metric, valid_metric) = (1270, 0.8519685039370078, 0.7980392156862746)\n",
      "(d, train_metric, valid_metric) = (1280, 0.85859375, 0.8)\n",
      "(d, train_metric, valid_metric) = (1290, 0.8596899224806202, 0.803921568627451)\n",
      "(d, train_metric, valid_metric) = (1300, 0.8607692307692307, 0.803921568627451)\n",
      "(d, train_metric, valid_metric) = (1310, 0.8603053435114504, 0.807843137254902)\n",
      "(d, train_metric, valid_metric) = (1320, 0.8598484848484849, 0.8058823529411765)\n",
      "(d, train_metric, valid_metric) = (1330, 0.8541353383458646, 0.8)\n",
      "(d, train_metric, valid_metric) = (1340, 0.7194029850746269, 0.6607843137254902)\n",
      "(d, train_metric, valid_metric) = (1350, 0.7792592592592592, 0.7137254901960784)\n",
      "(d, train_metric, valid_metric) = (1360, 0.7786764705882353, 0.711764705882353)\n",
      "(d, train_metric, valid_metric) = (1370, 0.7781021897810219, 0.711764705882353)\n",
      "(d, train_metric, valid_metric) = (1380, 0.755072463768116, 0.7666666666666667)\n",
      "(d, train_metric, valid_metric) = (1390, 0.762589928057554, 0.7372549019607844)\n",
      "(d, train_metric, valid_metric) = (1400, 0.765, 0.7450980392156863)\n",
      "(d, train_metric, valid_metric) = (1410, 0.775177304964539, 0.7529411764705882)\n",
      "(d, train_metric, valid_metric) = (1420, 0.7753521126760563, 0.7529411764705882)\n",
      "(d, train_metric, valid_metric) = (1430, 0.7748251748251749, 0.7529411764705882)\n",
      "(d, train_metric, valid_metric) = (1440, 0.7694444444444445, 0.7450980392156863)\n",
      "(d, train_metric, valid_metric) = (1450, 0.7696551724137931, 0.7450980392156863)\n",
      "(d, train_metric, valid_metric) = (1460, 0.8287671232876712, 0.8254901960784313)\n",
      "(d, train_metric, valid_metric) = (1470, 0.8272108843537415, 0.8235294117647058)\n",
      "(d, train_metric, valid_metric) = (1480, 0.8986486486486487, 0.8686274509803922)\n",
      "(d, train_metric, valid_metric) = (1490, 0.9, 0.8666666666666667)\n",
      "(d, train_metric, valid_metric) = (1500, 0.752, 0.7529411764705882)\n",
      "(d, train_metric, valid_metric) = (1510, 0.7516556291390728, 0.7529411764705882)\n",
      "(d, train_metric, valid_metric) = (1520, 0.7513157894736842, 0.7529411764705882)\n",
      "(d, train_metric, valid_metric) = (1530, 0.7509803921568627, 0.7529411764705882)\n",
      "(d, train_metric, valid_metric) = (1540, 0.7512987012987012, 0.7529411764705882)\n",
      "(d, train_metric, valid_metric) = (1550, 0.7503225806451613, 0.7529411764705882)\n",
      "(d, train_metric, valid_metric) = (1560, 0.7506410256410256, 0.7529411764705882)\n",
      "(d, train_metric, valid_metric) = (1570, 0.7509554140127389, 0.7529411764705882)\n",
      "(d, train_metric, valid_metric) = (1580, 0.7506329113924051, 0.7529411764705882)\n",
      "(d, train_metric, valid_metric) = (1590, 0.7716981132075472, 0.7450980392156863)\n",
      "(d, train_metric, valid_metric) = (1600, 0.7725, 0.7450980392156863)\n",
      "(d, train_metric, valid_metric) = (1610, 0.7279503105590062, 0.7411764705882353)\n",
      "(d, train_metric, valid_metric) = (1620, 0.7641975308641975, 0.7784313725490196)\n",
      "(d, train_metric, valid_metric) = (1630, 0.7650306748466258, 0.7784313725490196)\n",
      "(d, train_metric, valid_metric) = (1640, 0.7640243902439025, 0.7784313725490196)\n",
      "(d, train_metric, valid_metric) = (1650, 0.7642424242424243, 0.7784313725490196)\n",
      "(d, train_metric, valid_metric) = (1660, 0.7518072289156627, 0.7529411764705882)\n",
      "(d, train_metric, valid_metric) = (1670, 0.7520958083832335, 0.7529411764705882)\n",
      "(d, train_metric, valid_metric) = (1680, 0.7458333333333333, 0.7450980392156863)\n",
      "(d, train_metric, valid_metric) = (1690, 0.7455621301775148, 0.7450980392156863)\n",
      "(d, train_metric, valid_metric) = (1700, 0.7447058823529412, 0.7450980392156863)\n",
      "(d, train_metric, valid_metric) = (1710, 0.9017543859649123, 0.884313725490196)\n",
      "(d, train_metric, valid_metric) = (1720, 0.7569767441860465, 0.7666666666666667)\n",
      "(d, train_metric, valid_metric) = (1730, 0.7560693641618497, 0.7686274509803922)\n",
      "(d, train_metric, valid_metric) = (1740, 0.7551724137931034, 0.7666666666666667)\n",
      "(d, train_metric, valid_metric) = (1750, 0.756, 0.7666666666666667)\n",
      "(d, train_metric, valid_metric) = (1760, 0.75625, 0.7666666666666667)\n",
      "(d, train_metric, valid_metric) = (1770, 0.7576271186440678, 0.7666666666666667)\n",
      "(d, train_metric, valid_metric) = (1780, 0.7584269662921348, 0.7666666666666667)\n",
      "(d, train_metric, valid_metric) = (1790, 0.7581005586592179, 0.7666666666666667)\n",
      "(d, train_metric, valid_metric) = (1800, 0.77, 0.7392156862745098)\n",
      "(d, train_metric, valid_metric) = (1810, 0.7707182320441989, 0.7392156862745098)\n",
      "(d, train_metric, valid_metric) = (1820, 0.7708791208791209, 0.7392156862745098)\n",
      "(d, train_metric, valid_metric) = (1830, 0.7704918032786885, 0.7392156862745098)\n",
      "(d, train_metric, valid_metric) = (1840, 0.7668478260869566, 0.7352941176470589)\n",
      "(d, train_metric, valid_metric) = (1850, 0.7675675675675676, 0.7352941176470589)\n",
      "(d, train_metric, valid_metric) = (1860, 0.7677419354838709, 0.7352941176470589)\n",
      "(d, train_metric, valid_metric) = (1870, 0.7668449197860963, 0.7352941176470589)\n",
      "(d, train_metric, valid_metric) = (1880, 0.7632978723404256, 0.7372549019607844)\n",
      "(d, train_metric, valid_metric) = (1890, 0.7634920634920634, 0.7372549019607844)\n",
      "(d, train_metric, valid_metric) = (1900, 0.7636842105263157, 0.7372549019607844)\n",
      "(d, train_metric, valid_metric) = (1910, 0.7643979057591623, 0.7372549019607844)\n",
      "(d, train_metric, valid_metric) = (1920, 0.7708333333333334, 0.7372549019607844)\n",
      "(d, train_metric, valid_metric) = (1930, 0.7709844559585493, 0.7372549019607844)\n",
      "(d, train_metric, valid_metric) = (1940, 0.7639175257731958, 0.7372549019607844)\n",
      "(d, train_metric, valid_metric) = (1950, 0.7635897435897436, 0.7372549019607844)\n",
      "(d, train_metric, valid_metric) = (1960, 0.763265306122449, 0.7372549019607844)\n",
      "(d, train_metric, valid_metric) = (1970, 0.7624365482233503, 0.7372549019607844)\n",
      "(d, train_metric, valid_metric) = (1980, 0.7626262626262627, 0.7372549019607844)\n",
      "(d, train_metric, valid_metric) = (1990, 0.7633165829145728, 0.7372549019607844)\n",
      "(d, train_metric, valid_metric) = (2000, 0.7635, 0.7372549019607844)\n",
      "(d, train_metric, valid_metric) = (2010, 0.764179104477612, 0.7372549019607844)\n",
      "(d, train_metric, valid_metric) = (2020, 0.7628712871287129, 0.7372549019607844)\n",
      "(d, train_metric, valid_metric) = (2030, 0.7620689655172413, 0.7372549019607844)\n",
      "(d, train_metric, valid_metric) = (2040, 0.7627450980392156, 0.7372549019607844)\n"
     ]
    },
    {
     "data": {
      "text/plain": [
       "(10:10:2040, Any[0.6, 0.7, 0.6666666666666666, 0.825, 0.6, 0.5833333333333334, 0.5857142857142857, 0.5625, 0.5666666666666667, 0.57  …  0.7635897435897436, 0.763265306122449, 0.7624365482233503, 0.7626262626262627, 0.7633165829145728, 0.7635, 0.764179104477612, 0.7628712871287129, 0.7620689655172413, 0.7627450980392156], Any[0.5509803921568628, 0.5509803921568628, 0.5509803921568628, 0.6509803921568628, 0.5509803921568628, 0.5509803921568628, 0.5509803921568628, 0.5509803921568628, 0.5509803921568628, 0.5509803921568628  …  0.7372549019607844, 0.7372549019607844, 0.7372549019607844, 0.7372549019607844, 0.7372549019607844, 0.7372549019607844, 0.7372549019607844, 0.7372549019607844, 0.7372549019607844, 0.7372549019607844])"
      ]
     },
     "execution_count": 328,
     "metadata": {},
     "output_type": "execute_result"
    }
   ],
   "source": [
    "data_schedule, training_losses, valid_losses = learn_curve(best.best_model, X[train,:], y[train], acc, step=10)"
   ]
  },
  {
   "cell_type": "code",
   "execution_count": 329,
   "metadata": {},
   "outputs": [
    {
     "data": {
      "image/svg+xml": [
       "<?xml version=\"1.0\" encoding=\"utf-8\"?>\n",
       "<svg xmlns=\"http://www.w3.org/2000/svg\" xmlns:xlink=\"http://www.w3.org/1999/xlink\" width=\"600\" height=\"400\" viewBox=\"0 0 2400 1600\">\n",
       "<defs>\n",
       "  <clipPath id=\"clip480\">\n",
       "    <rect x=\"0\" y=\"0\" width=\"2400\" height=\"1600\"/>\n",
       "  </clipPath>\n",
       "</defs>\n",
       "<path clip-path=\"url(#clip480)\" d=\"\n",
       "M0 1600 L2400 1600 L2400 0 L0 0  Z\n",
       "  \" fill=\"#ffffff\" fill-rule=\"evenodd\" fill-opacity=\"1\"/>\n",
       "<defs>\n",
       "  <clipPath id=\"clip481\">\n",
       "    <rect x=\"480\" y=\"0\" width=\"1681\" height=\"1600\"/>\n",
       "  </clipPath>\n",
       "</defs>\n",
       "<path clip-path=\"url(#clip480)\" d=\"\n",
       "M148.01 1486.45 L2352.76 1486.45 L2352.76 47.2441 L148.01 47.2441  Z\n",
       "  \" fill=\"#ffffff\" fill-rule=\"evenodd\" fill-opacity=\"1\"/>\n",
       "<defs>\n",
       "  <clipPath id=\"clip482\">\n",
       "    <rect x=\"148\" y=\"47\" width=\"2206\" height=\"1440\"/>\n",
       "  </clipPath>\n",
       "</defs>\n",
       "<polyline clip-path=\"url(#clip482)\" style=\"stroke:#000000; stroke-width:2; stroke-opacity:0.1; fill:none\" points=\"\n",
       "  200.163,1486.45 200.163,47.2441 \n",
       "  \"/>\n",
       "<polyline clip-path=\"url(#clip482)\" style=\"stroke:#000000; stroke-width:2; stroke-opacity:0.1; fill:none\" points=\"\n",
       "  712.465,1486.45 712.465,47.2441 \n",
       "  \"/>\n",
       "<polyline clip-path=\"url(#clip482)\" style=\"stroke:#000000; stroke-width:2; stroke-opacity:0.1; fill:none\" points=\"\n",
       "  1224.77,1486.45 1224.77,47.2441 \n",
       "  \"/>\n",
       "<polyline clip-path=\"url(#clip482)\" style=\"stroke:#000000; stroke-width:2; stroke-opacity:0.1; fill:none\" points=\"\n",
       "  1737.07,1486.45 1737.07,47.2441 \n",
       "  \"/>\n",
       "<polyline clip-path=\"url(#clip482)\" style=\"stroke:#000000; stroke-width:2; stroke-opacity:0.1; fill:none\" points=\"\n",
       "  2249.37,1486.45 2249.37,47.2441 \n",
       "  \"/>\n",
       "<polyline clip-path=\"url(#clip482)\" style=\"stroke:#000000; stroke-width:2; stroke-opacity:0.1; fill:none\" points=\"\n",
       "  148.01,1474.47 2352.76,1474.47 \n",
       "  \"/>\n",
       "<polyline clip-path=\"url(#clip482)\" style=\"stroke:#000000; stroke-width:2; stroke-opacity:0.1; fill:none\" points=\"\n",
       "  148.01,1129.36 2352.76,1129.36 \n",
       "  \"/>\n",
       "<polyline clip-path=\"url(#clip482)\" style=\"stroke:#000000; stroke-width:2; stroke-opacity:0.1; fill:none\" points=\"\n",
       "  148.01,784.253 2352.76,784.253 \n",
       "  \"/>\n",
       "<polyline clip-path=\"url(#clip482)\" style=\"stroke:#000000; stroke-width:2; stroke-opacity:0.1; fill:none\" points=\"\n",
       "  148.01,439.142 2352.76,439.142 \n",
       "  \"/>\n",
       "<polyline clip-path=\"url(#clip482)\" style=\"stroke:#000000; stroke-width:2; stroke-opacity:0.1; fill:none\" points=\"\n",
       "  148.01,94.0309 2352.76,94.0309 \n",
       "  \"/>\n",
       "<polyline clip-path=\"url(#clip480)\" style=\"stroke:#000000; stroke-width:4; stroke-opacity:1; fill:none\" points=\"\n",
       "  148.01,1486.45 2352.76,1486.45 \n",
       "  \"/>\n",
       "<polyline clip-path=\"url(#clip480)\" style=\"stroke:#000000; stroke-width:4; stroke-opacity:1; fill:none\" points=\"\n",
       "  148.01,1486.45 148.01,47.2441 \n",
       "  \"/>\n",
       "<polyline clip-path=\"url(#clip480)\" style=\"stroke:#000000; stroke-width:4; stroke-opacity:1; fill:none\" points=\"\n",
       "  200.163,1486.45 200.163,1469.18 \n",
       "  \"/>\n",
       "<polyline clip-path=\"url(#clip480)\" style=\"stroke:#000000; stroke-width:4; stroke-opacity:1; fill:none\" points=\"\n",
       "  712.465,1486.45 712.465,1469.18 \n",
       "  \"/>\n",
       "<polyline clip-path=\"url(#clip480)\" style=\"stroke:#000000; stroke-width:4; stroke-opacity:1; fill:none\" points=\"\n",
       "  1224.77,1486.45 1224.77,1469.18 \n",
       "  \"/>\n",
       "<polyline clip-path=\"url(#clip480)\" style=\"stroke:#000000; stroke-width:4; stroke-opacity:1; fill:none\" points=\"\n",
       "  1737.07,1486.45 1737.07,1469.18 \n",
       "  \"/>\n",
       "<polyline clip-path=\"url(#clip480)\" style=\"stroke:#000000; stroke-width:4; stroke-opacity:1; fill:none\" points=\"\n",
       "  2249.37,1486.45 2249.37,1469.18 \n",
       "  \"/>\n",
       "<polyline clip-path=\"url(#clip480)\" style=\"stroke:#000000; stroke-width:4; stroke-opacity:1; fill:none\" points=\"\n",
       "  148.01,1474.47 174.467,1474.47 \n",
       "  \"/>\n",
       "<polyline clip-path=\"url(#clip480)\" style=\"stroke:#000000; stroke-width:4; stroke-opacity:1; fill:none\" points=\"\n",
       "  148.01,1129.36 174.467,1129.36 \n",
       "  \"/>\n",
       "<polyline clip-path=\"url(#clip480)\" style=\"stroke:#000000; stroke-width:4; stroke-opacity:1; fill:none\" points=\"\n",
       "  148.01,784.253 174.467,784.253 \n",
       "  \"/>\n",
       "<polyline clip-path=\"url(#clip480)\" style=\"stroke:#000000; stroke-width:4; stroke-opacity:1; fill:none\" points=\"\n",
       "  148.01,439.142 174.467,439.142 \n",
       "  \"/>\n",
       "<polyline clip-path=\"url(#clip480)\" style=\"stroke:#000000; stroke-width:4; stroke-opacity:1; fill:none\" points=\"\n",
       "  148.01,94.0309 174.467,94.0309 \n",
       "  \"/>\n",
       "<path clip-path=\"url(#clip480)\" d=\"M 0 0 M200.163 1508.44 Q196.552 1508.44 194.723 1512 Q192.917 1515.55 192.917 1522.67 Q192.917 1529.78 194.723 1533.35 Q196.552 1536.89 200.163 1536.89 Q203.797 1536.89 205.603 1533.35 Q207.431 1529.78 207.431 1522.67 Q207.431 1515.55 205.603 1512 Q203.797 1508.44 200.163 1508.44 M200.163 1504.73 Q205.973 1504.73 209.028 1509.34 Q212.107 1513.92 212.107 1522.67 Q212.107 1531.4 209.028 1536.01 Q205.973 1540.59 200.163 1540.59 Q194.353 1540.59 191.274 1536.01 Q188.218 1531.4 188.218 1522.67 Q188.218 1513.92 191.274 1509.34 Q194.353 1504.73 200.163 1504.73 Z\" fill=\"#000000\" fill-rule=\"evenodd\" fill-opacity=\"1\" /><path clip-path=\"url(#clip480)\" d=\"M 0 0 M675.729 1505.36 L694.086 1505.36 L694.086 1509.3 L680.012 1509.3 L680.012 1517.77 Q681.03 1517.42 682.049 1517.26 Q683.067 1517.07 684.086 1517.07 Q689.873 1517.07 693.252 1520.24 Q696.632 1523.42 696.632 1528.83 Q696.632 1534.41 693.16 1537.51 Q689.688 1540.59 683.368 1540.59 Q681.192 1540.59 678.924 1540.22 Q676.679 1539.85 674.271 1539.11 L674.271 1534.41 Q676.354 1535.54 678.577 1536.1 Q680.799 1536.66 683.276 1536.66 Q687.28 1536.66 689.618 1534.55 Q691.956 1532.44 691.956 1528.83 Q691.956 1525.22 689.618 1523.11 Q687.28 1521.01 683.276 1521.01 Q681.401 1521.01 679.526 1521.42 Q677.674 1521.84 675.729 1522.72 L675.729 1505.36 Z\" fill=\"#000000\" fill-rule=\"evenodd\" fill-opacity=\"1\" /><path clip-path=\"url(#clip480)\" d=\"M 0 0 M711.701 1508.44 Q708.09 1508.44 706.262 1512 Q704.456 1515.55 704.456 1522.67 Q704.456 1529.78 706.262 1533.35 Q708.09 1536.89 711.701 1536.89 Q715.336 1536.89 717.141 1533.35 Q718.97 1529.78 718.97 1522.67 Q718.97 1515.55 717.141 1512 Q715.336 1508.44 711.701 1508.44 M711.701 1504.73 Q717.512 1504.73 720.567 1509.34 Q723.646 1513.92 723.646 1522.67 Q723.646 1531.4 720.567 1536.01 Q717.512 1540.59 711.701 1540.59 Q705.891 1540.59 702.813 1536.01 Q699.757 1531.4 699.757 1522.67 Q699.757 1513.92 702.813 1509.34 Q705.891 1504.73 711.701 1504.73 Z\" fill=\"#000000\" fill-rule=\"evenodd\" fill-opacity=\"1\" /><path clip-path=\"url(#clip480)\" d=\"M 0 0 M738.715 1508.44 Q735.104 1508.44 733.275 1512 Q731.47 1515.55 731.47 1522.67 Q731.47 1529.78 733.275 1533.35 Q735.104 1536.89 738.715 1536.89 Q742.349 1536.89 744.155 1533.35 Q745.984 1529.78 745.984 1522.67 Q745.984 1515.55 744.155 1512 Q742.349 1508.44 738.715 1508.44 M738.715 1504.73 Q744.525 1504.73 747.581 1509.34 Q750.66 1513.92 750.66 1522.67 Q750.66 1531.4 747.581 1536.01 Q744.525 1540.59 738.715 1540.59 Q732.905 1540.59 729.826 1536.01 Q726.771 1531.4 726.771 1522.67 Q726.771 1513.92 729.826 1509.34 Q732.905 1504.73 738.715 1504.73 Z\" fill=\"#000000\" fill-rule=\"evenodd\" fill-opacity=\"1\" /><path clip-path=\"url(#clip480)\" d=\"M 0 0 M1174.63 1535.98 L1182.27 1535.98 L1182.27 1509.62 L1173.96 1511.29 L1173.96 1507.03 L1182.22 1505.36 L1186.9 1505.36 L1186.9 1535.98 L1194.54 1535.98 L1194.54 1539.92 L1174.63 1539.92 L1174.63 1535.98 Z\" fill=\"#000000\" fill-rule=\"evenodd\" fill-opacity=\"1\" /><path clip-path=\"url(#clip480)\" d=\"M 0 0 M1209.61 1508.44 Q1205.99 1508.44 1204.17 1512 Q1202.36 1515.55 1202.36 1522.67 Q1202.36 1529.78 1204.17 1533.35 Q1205.99 1536.89 1209.61 1536.89 Q1213.24 1536.89 1215.05 1533.35 Q1216.87 1529.78 1216.87 1522.67 Q1216.87 1515.55 1215.05 1512 Q1213.24 1508.44 1209.61 1508.44 M1209.61 1504.73 Q1215.42 1504.73 1218.47 1509.34 Q1221.55 1513.92 1221.55 1522.67 Q1221.55 1531.4 1218.47 1536.01 Q1215.42 1540.59 1209.61 1540.59 Q1203.8 1540.59 1200.72 1536.01 Q1197.66 1531.4 1197.66 1522.67 Q1197.66 1513.92 1200.72 1509.34 Q1203.8 1504.73 1209.61 1504.73 Z\" fill=\"#000000\" fill-rule=\"evenodd\" fill-opacity=\"1\" /><path clip-path=\"url(#clip480)\" d=\"M 0 0 M1236.62 1508.44 Q1233.01 1508.44 1231.18 1512 Q1229.37 1515.55 1229.37 1522.67 Q1229.37 1529.78 1231.18 1533.35 Q1233.01 1536.89 1236.62 1536.89 Q1240.25 1536.89 1242.06 1533.35 Q1243.89 1529.78 1243.89 1522.67 Q1243.89 1515.55 1242.06 1512 Q1240.25 1508.44 1236.62 1508.44 M1236.62 1504.73 Q1242.43 1504.73 1245.49 1509.34 Q1248.56 1513.92 1248.56 1522.67 Q1248.56 1531.4 1245.49 1536.01 Q1242.43 1540.59 1236.62 1540.59 Q1230.81 1540.59 1227.73 1536.01 Q1224.68 1531.4 1224.68 1522.67 Q1224.68 1513.92 1227.73 1509.34 Q1230.81 1504.73 1236.62 1504.73 Z\" fill=\"#000000\" fill-rule=\"evenodd\" fill-opacity=\"1\" /><path clip-path=\"url(#clip480)\" d=\"M 0 0 M1263.63 1508.44 Q1260.02 1508.44 1258.19 1512 Q1256.39 1515.55 1256.39 1522.67 Q1256.39 1529.78 1258.19 1533.35 Q1260.02 1536.89 1263.63 1536.89 Q1267.27 1536.89 1269.07 1533.35 Q1270.9 1529.78 1270.9 1522.67 Q1270.9 1515.55 1269.07 1512 Q1267.27 1508.44 1263.63 1508.44 M1263.63 1504.73 Q1269.44 1504.73 1272.5 1509.34 Q1275.58 1513.92 1275.58 1522.67 Q1275.58 1531.4 1272.5 1536.01 Q1269.44 1540.59 1263.63 1540.59 Q1257.82 1540.59 1254.74 1536.01 Q1251.69 1531.4 1251.69 1522.67 Q1251.69 1513.92 1254.74 1509.34 Q1257.82 1504.73 1263.63 1504.73 Z\" fill=\"#000000\" fill-rule=\"evenodd\" fill-opacity=\"1\" /><path clip-path=\"url(#clip480)\" d=\"M 0 0 M1687.43 1535.98 L1695.07 1535.98 L1695.07 1509.62 L1686.76 1511.29 L1686.76 1507.03 L1695.02 1505.36 L1699.7 1505.36 L1699.7 1535.98 L1707.34 1535.98 L1707.34 1539.92 L1687.43 1539.92 L1687.43 1535.98 Z\" fill=\"#000000\" fill-rule=\"evenodd\" fill-opacity=\"1\" /><path clip-path=\"url(#clip480)\" d=\"M 0 0 M1712.45 1505.36 L1730.81 1505.36 L1730.81 1509.3 L1716.74 1509.3 L1716.74 1517.77 Q1717.75 1517.42 1718.77 1517.26 Q1719.79 1517.07 1720.81 1517.07 Q1726.6 1517.07 1729.98 1520.24 Q1733.36 1523.42 1733.36 1528.83 Q1733.36 1534.41 1729.88 1537.51 Q1726.41 1540.59 1720.09 1540.59 Q1717.92 1540.59 1715.65 1540.22 Q1713.4 1539.85 1710.99 1539.11 L1710.99 1534.41 Q1713.08 1535.54 1715.3 1536.1 Q1717.52 1536.66 1720 1536.66 Q1724 1536.66 1726.34 1534.55 Q1728.68 1532.44 1728.68 1528.83 Q1728.68 1525.22 1726.34 1523.11 Q1724 1521.01 1720 1521.01 Q1718.12 1521.01 1716.25 1521.42 Q1714.4 1521.84 1712.45 1522.72 L1712.45 1505.36 Z\" fill=\"#000000\" fill-rule=\"evenodd\" fill-opacity=\"1\" /><path clip-path=\"url(#clip480)\" d=\"M 0 0 M1748.42 1508.44 Q1744.81 1508.44 1742.98 1512 Q1741.18 1515.55 1741.18 1522.67 Q1741.18 1529.78 1742.98 1533.35 Q1744.81 1536.89 1748.42 1536.89 Q1752.06 1536.89 1753.86 1533.35 Q1755.69 1529.78 1755.69 1522.67 Q1755.69 1515.55 1753.86 1512 Q1752.06 1508.44 1748.42 1508.44 M1748.42 1504.73 Q1754.23 1504.73 1757.29 1509.34 Q1760.37 1513.92 1760.37 1522.67 Q1760.37 1531.4 1757.29 1536.01 Q1754.23 1540.59 1748.42 1540.59 Q1742.61 1540.59 1739.54 1536.01 Q1736.48 1531.4 1736.48 1522.67 Q1736.48 1513.92 1739.54 1509.34 Q1742.61 1504.73 1748.42 1504.73 Z\" fill=\"#000000\" fill-rule=\"evenodd\" fill-opacity=\"1\" /><path clip-path=\"url(#clip480)\" d=\"M 0 0 M1775.44 1508.44 Q1771.83 1508.44 1770 1512 Q1768.19 1515.55 1768.19 1522.67 Q1768.19 1529.78 1770 1533.35 Q1771.83 1536.89 1775.44 1536.89 Q1779.07 1536.89 1780.88 1533.35 Q1782.71 1529.78 1782.71 1522.67 Q1782.71 1515.55 1780.88 1512 Q1779.07 1508.44 1775.44 1508.44 M1775.44 1504.73 Q1781.25 1504.73 1784.3 1509.34 Q1787.38 1513.92 1787.38 1522.67 Q1787.38 1531.4 1784.3 1536.01 Q1781.25 1540.59 1775.44 1540.59 Q1769.63 1540.59 1766.55 1536.01 Q1763.49 1531.4 1763.49 1522.67 Q1763.49 1513.92 1766.55 1509.34 Q1769.63 1504.73 1775.44 1504.73 Z\" fill=\"#000000\" fill-rule=\"evenodd\" fill-opacity=\"1\" /><path clip-path=\"url(#clip480)\" d=\"M 0 0 M2203.51 1535.98 L2219.82 1535.98 L2219.82 1539.92 L2197.88 1539.92 L2197.88 1535.98 Q2200.54 1533.23 2205.13 1528.6 Q2209.73 1523.95 2210.91 1522.61 Q2213.16 1520.08 2214.04 1518.35 Q2214.94 1516.59 2214.94 1514.9 Q2214.94 1512.14 2213 1510.41 Q2211.07 1508.67 2207.97 1508.67 Q2205.77 1508.67 2203.32 1509.43 Q2200.89 1510.2 2198.11 1511.75 L2198.11 1507.03 Q2200.94 1505.89 2203.39 1505.31 Q2205.84 1504.73 2207.88 1504.73 Q2213.25 1504.73 2216.45 1507.42 Q2219.64 1510.11 2219.64 1514.6 Q2219.64 1516.73 2218.83 1518.65 Q2218.04 1520.54 2215.94 1523.14 Q2215.36 1523.81 2212.26 1527.03 Q2209.15 1530.22 2203.51 1535.98 Z\" fill=\"#000000\" fill-rule=\"evenodd\" fill-opacity=\"1\" /><path clip-path=\"url(#clip480)\" d=\"M 0 0 M2234.89 1508.44 Q2231.28 1508.44 2229.45 1512 Q2227.65 1515.55 2227.65 1522.67 Q2227.65 1529.78 2229.45 1533.35 Q2231.28 1536.89 2234.89 1536.89 Q2238.53 1536.89 2240.33 1533.35 Q2242.16 1529.78 2242.16 1522.67 Q2242.16 1515.55 2240.33 1512 Q2238.53 1508.44 2234.89 1508.44 M2234.89 1504.73 Q2240.7 1504.73 2243.76 1509.34 Q2246.84 1513.92 2246.84 1522.67 Q2246.84 1531.4 2243.76 1536.01 Q2240.7 1540.59 2234.89 1540.59 Q2229.08 1540.59 2226.01 1536.01 Q2222.95 1531.4 2222.95 1522.67 Q2222.95 1513.92 2226.01 1509.34 Q2229.08 1504.73 2234.89 1504.73 Z\" fill=\"#000000\" fill-rule=\"evenodd\" fill-opacity=\"1\" /><path clip-path=\"url(#clip480)\" d=\"M 0 0 M2261.91 1508.44 Q2258.3 1508.44 2256.47 1512 Q2254.66 1515.55 2254.66 1522.67 Q2254.66 1529.78 2256.47 1533.35 Q2258.3 1536.89 2261.91 1536.89 Q2265.54 1536.89 2267.35 1533.35 Q2269.18 1529.78 2269.18 1522.67 Q2269.18 1515.55 2267.35 1512 Q2265.54 1508.44 2261.91 1508.44 M2261.91 1504.73 Q2267.72 1504.73 2270.77 1509.34 Q2273.85 1513.92 2273.85 1522.67 Q2273.85 1531.4 2270.77 1536.01 Q2267.72 1540.59 2261.91 1540.59 Q2256.1 1540.59 2253.02 1536.01 Q2249.96 1531.4 2249.96 1522.67 Q2249.96 1513.92 2253.02 1509.34 Q2256.1 1504.73 2261.91 1504.73 Z\" fill=\"#000000\" fill-rule=\"evenodd\" fill-opacity=\"1\" /><path clip-path=\"url(#clip480)\" d=\"M 0 0 M2288.92 1508.44 Q2285.31 1508.44 2283.48 1512 Q2281.68 1515.55 2281.68 1522.67 Q2281.68 1529.78 2283.48 1533.35 Q2285.31 1536.89 2288.92 1536.89 Q2292.56 1536.89 2294.36 1533.35 Q2296.19 1529.78 2296.19 1522.67 Q2296.19 1515.55 2294.36 1512 Q2292.56 1508.44 2288.92 1508.44 M2288.92 1504.73 Q2294.73 1504.73 2297.79 1509.34 Q2300.87 1513.92 2300.87 1522.67 Q2300.87 1531.4 2297.79 1536.01 Q2294.73 1540.59 2288.92 1540.59 Q2283.11 1540.59 2280.03 1536.01 Q2276.98 1531.4 2276.98 1522.67 Q2276.98 1513.92 2280.03 1509.34 Q2283.11 1504.73 2288.92 1504.73 Z\" fill=\"#000000\" fill-rule=\"evenodd\" fill-opacity=\"1\" /><path clip-path=\"url(#clip480)\" d=\"M 0 0 M76.0939 1460.27 Q72.4828 1460.27 70.6541 1463.84 Q68.8486 1467.38 68.8486 1474.51 Q68.8486 1481.62 70.6541 1485.18 Q72.4828 1488.72 76.0939 1488.72 Q79.7281 1488.72 81.5337 1485.18 Q83.3624 1481.62 83.3624 1474.51 Q83.3624 1467.38 81.5337 1463.84 Q79.7281 1460.27 76.0939 1460.27 M76.0939 1456.57 Q81.9041 1456.57 84.9596 1461.18 Q88.0383 1465.76 88.0383 1474.51 Q88.0383 1483.24 84.9596 1487.84 Q81.9041 1492.43 76.0939 1492.43 Q70.2838 1492.43 67.2051 1487.84 Q64.1495 1483.24 64.1495 1474.51 Q64.1495 1465.76 67.2051 1461.18 Q70.2838 1456.57 76.0939 1456.57 Z\" fill=\"#000000\" fill-rule=\"evenodd\" fill-opacity=\"1\" /><path clip-path=\"url(#clip480)\" d=\"M 0 0 M93.1077 1485.88 L97.9919 1485.88 L97.9919 1491.75 L93.1077 1491.75 L93.1077 1485.88 Z\" fill=\"#000000\" fill-rule=\"evenodd\" fill-opacity=\"1\" /><path clip-path=\"url(#clip480)\" d=\"M 0 0 M103.108 1457.19 L121.464 1457.19 L121.464 1461.13 L107.39 1461.13 L107.39 1469.6 Q108.409 1469.26 109.427 1469.09 Q110.446 1468.91 111.464 1468.91 Q117.251 1468.91 120.631 1472.08 Q124.01 1475.25 124.01 1480.67 Q124.01 1486.25 120.538 1489.35 Q117.066 1492.43 110.746 1492.43 Q108.571 1492.43 106.302 1492.06 Q104.057 1491.69 101.649 1490.94 L101.649 1486.25 Q103.733 1487.38 105.955 1487.94 Q108.177 1488.49 110.654 1488.49 Q114.659 1488.49 116.996 1486.38 Q119.334 1484.28 119.334 1480.67 Q119.334 1477.06 116.996 1474.95 Q114.659 1472.84 110.654 1472.84 Q108.779 1472.84 106.904 1473.26 Q105.052 1473.68 103.108 1474.56 L103.108 1457.19 Z\" fill=\"#000000\" fill-rule=\"evenodd\" fill-opacity=\"1\" /><path clip-path=\"url(#clip480)\" d=\"M 0 0 M74.9365 1115.16 Q71.3254 1115.16 69.4967 1118.73 Q67.6912 1122.27 67.6912 1129.4 Q67.6912 1136.51 69.4967 1140.07 Q71.3254 1143.61 74.9365 1143.61 Q78.5707 1143.61 80.3763 1140.07 Q82.205 1136.51 82.205 1129.4 Q82.205 1122.27 80.3763 1118.73 Q78.5707 1115.16 74.9365 1115.16 M74.9365 1111.46 Q80.7467 1111.46 83.8022 1116.07 Q86.8809 1120.65 86.8809 1129.4 Q86.8809 1138.13 83.8022 1142.73 Q80.7467 1147.32 74.9365 1147.32 Q69.1264 1147.32 66.0477 1142.73 Q62.9921 1138.13 62.9921 1129.4 Q62.9921 1120.65 66.0477 1116.07 Q69.1264 1111.46 74.9365 1111.46 Z\" fill=\"#000000\" fill-rule=\"evenodd\" fill-opacity=\"1\" /><path clip-path=\"url(#clip480)\" d=\"M 0 0 M91.9503 1140.76 L96.8345 1140.76 L96.8345 1146.64 L91.9503 1146.64 L91.9503 1140.76 Z\" fill=\"#000000\" fill-rule=\"evenodd\" fill-opacity=\"1\" /><path clip-path=\"url(#clip480)\" d=\"M 0 0 M112.483 1127.5 Q109.334 1127.5 107.483 1129.65 Q105.654 1131.81 105.654 1135.56 Q105.654 1139.28 107.483 1141.46 Q109.334 1143.61 112.483 1143.61 Q115.631 1143.61 117.459 1141.46 Q119.311 1139.28 119.311 1135.56 Q119.311 1131.81 117.459 1129.65 Q115.631 1127.5 112.483 1127.5 M121.765 1112.85 L121.765 1117.11 Q120.006 1116.27 118.2 1115.83 Q116.418 1115.39 114.659 1115.39 Q110.029 1115.39 107.575 1118.52 Q105.145 1121.64 104.797 1127.96 Q106.163 1125.95 108.223 1124.88 Q110.284 1123.8 112.76 1123.8 Q117.969 1123.8 120.978 1126.97 Q124.01 1130.12 124.01 1135.56 Q124.01 1140.88 120.862 1144.1 Q117.714 1147.32 112.483 1147.32 Q106.487 1147.32 103.316 1142.73 Q100.145 1138.13 100.145 1129.4 Q100.145 1121.2 104.034 1116.34 Q107.922 1111.46 114.473 1111.46 Q116.233 1111.46 118.015 1111.81 Q119.821 1112.15 121.765 1112.85 Z\" fill=\"#000000\" fill-rule=\"evenodd\" fill-opacity=\"1\" /><path clip-path=\"url(#clip480)\" d=\"M 0 0 M76.0013 770.052 Q72.3902 770.052 70.5615 773.616 Q68.756 777.158 68.756 784.288 Q68.756 791.394 70.5615 794.959 Q72.3902 798.501 76.0013 798.501 Q79.6356 798.501 81.4411 794.959 Q83.2698 791.394 83.2698 784.288 Q83.2698 777.158 81.4411 773.616 Q79.6356 770.052 76.0013 770.052 M76.0013 766.348 Q81.8115 766.348 84.867 770.954 Q87.9457 775.538 87.9457 784.288 Q87.9457 793.014 84.867 797.621 Q81.8115 802.204 76.0013 802.204 Q70.1912 802.204 67.1125 797.621 Q64.0569 793.014 64.0569 784.288 Q64.0569 775.538 67.1125 770.954 Q70.1912 766.348 76.0013 766.348 Z\" fill=\"#000000\" fill-rule=\"evenodd\" fill-opacity=\"1\" /><path clip-path=\"url(#clip480)\" d=\"M 0 0 M93.0151 795.653 L97.8993 795.653 L97.8993 801.533 L93.0151 801.533 L93.0151 795.653 Z\" fill=\"#000000\" fill-rule=\"evenodd\" fill-opacity=\"1\" /><path clip-path=\"url(#clip480)\" d=\"M 0 0 M101.788 766.973 L124.01 766.973 L124.01 768.964 L111.464 801.533 L106.58 801.533 L118.385 770.908 L101.788 770.908 L101.788 766.973 Z\" fill=\"#000000\" fill-rule=\"evenodd\" fill-opacity=\"1\" /><path clip-path=\"url(#clip480)\" d=\"M 0 0 M75.1911 424.941 Q71.58 424.941 69.7513 428.505 Q67.9458 432.047 67.9458 439.177 Q67.9458 446.283 69.7513 449.848 Q71.58 453.389 75.1911 453.389 Q78.8254 453.389 80.6309 449.848 Q82.4596 446.283 82.4596 439.177 Q82.4596 432.047 80.6309 428.505 Q78.8254 424.941 75.1911 424.941 M75.1911 421.237 Q81.0013 421.237 84.0568 425.843 Q87.1355 430.427 87.1355 439.177 Q87.1355 447.903 84.0568 452.51 Q81.0013 457.093 75.1911 457.093 Q69.381 457.093 66.3023 452.51 Q63.2468 447.903 63.2468 439.177 Q63.2468 430.427 66.3023 425.843 Q69.381 421.237 75.1911 421.237 Z\" fill=\"#000000\" fill-rule=\"evenodd\" fill-opacity=\"1\" /><path clip-path=\"url(#clip480)\" d=\"M 0 0 M92.2049 450.542 L97.0892 450.542 L97.0892 456.422 L92.2049 456.422 L92.2049 450.542 Z\" fill=\"#000000\" fill-rule=\"evenodd\" fill-opacity=\"1\" /><path clip-path=\"url(#clip480)\" d=\"M 0 0 M112.159 440.01 Q108.825 440.01 106.904 441.792 Q105.006 443.575 105.006 446.7 Q105.006 449.825 106.904 451.607 Q108.825 453.389 112.159 453.389 Q115.492 453.389 117.413 451.607 Q119.334 449.802 119.334 446.7 Q119.334 443.575 117.413 441.792 Q115.515 440.01 112.159 440.01 M107.483 438.019 Q104.473 437.278 102.784 435.218 Q101.117 433.158 101.117 430.195 Q101.117 426.052 104.057 423.644 Q107.02 421.237 112.159 421.237 Q117.321 421.237 120.26 423.644 Q123.2 426.052 123.2 430.195 Q123.2 433.158 121.51 435.218 Q119.844 437.278 116.858 438.019 Q120.237 438.806 122.112 441.098 Q124.01 443.39 124.01 446.7 Q124.01 451.723 120.932 454.408 Q117.876 457.093 112.159 457.093 Q106.441 457.093 103.362 454.408 Q100.307 451.723 100.307 446.7 Q100.307 443.39 102.205 441.098 Q104.103 438.806 107.483 438.019 M105.77 430.635 Q105.77 433.32 107.436 434.825 Q109.126 436.329 112.159 436.329 Q115.168 436.329 116.858 434.825 Q118.571 433.32 118.571 430.635 Q118.571 427.95 116.858 426.445 Q115.168 424.941 112.159 424.941 Q109.126 424.941 107.436 426.445 Q105.77 427.95 105.77 430.635 Z\" fill=\"#000000\" fill-rule=\"evenodd\" fill-opacity=\"1\" /><path clip-path=\"url(#clip480)\" d=\"M 0 0 M75.2837 79.8295 Q71.6726 79.8295 69.8439 83.3943 Q68.0384 86.936 68.0384 94.0656 Q68.0384 101.172 69.8439 104.737 Q71.6726 108.278 75.2837 108.278 Q78.918 108.278 80.7235 104.737 Q82.5522 101.172 82.5522 94.0656 Q82.5522 86.936 80.7235 83.3943 Q78.918 79.8295 75.2837 79.8295 M75.2837 76.1259 Q81.0939 76.1259 84.1494 80.7323 Q87.2281 85.3156 87.2281 94.0656 Q87.2281 102.792 84.1494 107.399 Q81.0939 111.982 75.2837 111.982 Q69.4736 111.982 66.3949 107.399 Q63.3393 102.792 63.3393 94.0656 Q63.3393 85.3156 66.3949 80.7323 Q69.4736 76.1259 75.2837 76.1259 Z\" fill=\"#000000\" fill-rule=\"evenodd\" fill-opacity=\"1\" /><path clip-path=\"url(#clip480)\" d=\"M 0 0 M92.2975 105.431 L97.1818 105.431 L97.1818 111.311 L92.2975 111.311 L92.2975 105.431 Z\" fill=\"#000000\" fill-rule=\"evenodd\" fill-opacity=\"1\" /><path clip-path=\"url(#clip480)\" d=\"M 0 0 M102.39 110.593 L102.39 106.334 Q104.149 107.167 105.955 107.607 Q107.76 108.047 109.497 108.047 Q114.126 108.047 116.557 104.945 Q119.01 101.82 119.358 95.4776 Q118.015 97.4683 115.955 98.5331 Q113.895 99.598 111.395 99.598 Q106.209 99.598 103.177 96.473 Q100.168 93.3248 100.168 87.8851 Q100.168 82.561 103.316 79.3434 Q106.464 76.1259 111.696 76.1259 Q117.691 76.1259 120.839 80.7323 Q124.01 85.3156 124.01 94.0656 Q124.01 102.237 120.121 107.121 Q116.256 111.982 109.705 111.982 Q107.946 111.982 106.14 111.635 Q104.334 111.288 102.39 110.593 M111.696 95.9406 Q114.844 95.9406 116.672 93.7878 Q118.524 91.635 118.524 87.8851 Q118.524 84.1582 116.672 82.0055 Q114.844 79.8295 111.696 79.8295 Q108.547 79.8295 106.696 82.0055 Q104.867 84.1582 104.867 87.8851 Q104.867 91.635 106.696 93.7878 Q108.547 95.9406 111.696 95.9406 Z\" fill=\"#000000\" fill-rule=\"evenodd\" fill-opacity=\"1\" /><polyline clip-path=\"url(#clip482)\" style=\"stroke:#009af9; stroke-width:4; stroke-opacity:1; fill:none\" points=\"\n",
       "  210.409,1129.36 220.655,784.253 230.901,899.29 241.147,352.864 251.393,1129.36 261.639,1186.88 271.885,1178.67 282.131,1258.78 292.377,1244.4 302.623,1232.9 \n",
       "  312.869,1254.86 323.115,1301.92 333.361,386.048 343.607,907.507 353.854,830.268 364.1,892.1 374.346,845.155 384.592,803.426 394.838,784.253 405.084,1370.94 \n",
       "  415.33,1375.87 425.576,1411.73 435.822,1414.46 446.068,511.04 456.314,1364.04 466.56,1355.01 476.806,1346.66 487.052,500.769 497.298,1331.67 507.544,1324.93 \n",
       "  517.79,539.335 528.036,536.204 538.282,543.721 548.529,550.795 558.775,537.745 569.021,726.734 579.267,1362.55 589.513,1347.33 599.759,1324.04 610.005,1353.69 \n",
       "  620.251,742.166 630.497,734.951 640.743,736.098 650.989,737.192 661.235,722.9 671.481,724.234 681.727,600.683 691.973,604.508 702.219,580.004 712.465,570.284 \n",
       "  722.711,540.645 732.957,558.603 743.204,614.953 753.45,618.088 763.696,501.889 773.942,513.094 784.188,1426.04 794.434,1426.87 804.68,515.183 814.926,1445.72 \n",
       "  825.172,524.005 835.418,505.938 845.664,510.355 855.91,509.243 866.156,672.755 876.402,522.805 886.648,500.953 896.894,494.969 907.14,514.166 917.386,518.024 \n",
       "  927.632,521.774 937.879,525.42 948.125,528.965 958.371,527.751 968.617,531.171 978.863,534.502 989.109,533.263 999.355,532.056 1009.6,535.249 1019.85,542.675 \n",
       "  1030.09,520.094 1040.34,523.315 1050.59,522.301 1060.83,529.528 1071.08,516.284 1081.32,515.387 1091.57,514.511 1101.82,545.028 1112.06,547.716 1122.31,565.683 \n",
       "  1132.55,560.5 1142.8,555.429 1153.05,554.179 1163.29,549.284 1173.54,555.39 1183.78,561.369 1194.03,599.245 1204.28,601.133 1214.52,602.982 1224.77,587.54 \n",
       "  1235.01,586.07 1245.26,530.495 1255.51,536.309 1265.75,525.42 1276,570.613 1286.24,566.117 1296.49,610.085 1306.74,602.111 1316.98,603.782 1327.23,605.423 \n",
       "  1337.47,607.034 1347.72,562.396 1357.97,558.251 1368.21,563.261 1378.46,562.181 1388.7,558.146 1398.95,256.263 1409.2,278.285 1419.44,276.737 1429.69,280.966 \n",
       "  1439.94,276.569 1450.18,275.073 1460.43,270.795 1470.67,269.37 1480.92,270.728 1491.17,274.803 1501.41,259.793 1511.66,236.928 1521.9,233.145 1532.15,229.421 \n",
       "  1542.4,231.021 1552.64,232.598 1562.89,252.315 1573.13,717.291 1583.38,510.72 1593.63,512.732 1603.87,514.714 1614.12,594.192 1624.36,568.248 1634.61,559.931 \n",
       "  1644.86,524.808 1655.1,524.204 1665.35,526.023 1675.59,544.592 1685.84,543.865 1696.09,339.863 1706.33,345.234 1716.58,98.6945 1726.82,94.0309 1737.07,604.795 \n",
       "  1747.32,605.984 1757.56,607.156 1767.81,608.314 1778.05,607.215 1788.3,610.584 1798.55,609.485 1808.79,608.4 1819.04,609.513 1829.29,536.815 1839.53,534.047 \n",
       "  1849.78,687.793 1860.02,562.7 1870.27,559.825 1880.52,563.298 1890.76,562.545 1901.01,605.46 1911.25,604.465 1921.5,626.077 1931.75,627.013 1941.99,629.968 \n",
       "  1952.24,87.9763 1962.48,587.62 1972.73,590.751 1982.98,593.847 1993.22,590.991 2003.47,590.128 2013.71,585.375 2023.96,582.615 2034.21,583.741 2044.45,542.675 \n",
       "  2054.7,540.196 2064.94,539.641 2075.19,540.978 2085.44,553.554 2095.68,551.07 2105.93,550.468 2116.17,553.564 2126.42,565.805 2136.67,565.135 2146.91,564.472 \n",
       "  2157.16,562.009 2167.4,539.799 2177.65,539.278 2187.9,563.666 2198.14,564.798 2208.39,565.917 2218.64,568.777 2228.88,568.123 2239.13,565.74 2249.37,565.107 \n",
       "  2259.62,562.764 2269.87,567.277 2280.11,570.046 2290.36,567.713 \n",
       "  \"/>\n",
       "<polyline clip-path=\"url(#clip482)\" style=\"stroke:#e26f46; stroke-width:4; stroke-opacity:1; fill:none\" points=\"\n",
       "  210.409,1298.54 220.655,1298.54 230.901,1298.54 241.147,953.425 251.393,1298.54 261.639,1298.54 271.885,1298.54 282.131,1298.54 292.377,1298.54 302.623,1298.54 \n",
       "  312.869,1298.54 323.115,1298.54 333.361,811.32 343.607,1000.79 353.854,831.621 364.1,885.756 374.346,831.621 384.592,831.621 394.838,831.621 405.084,1298.54 \n",
       "  415.33,1298.54 425.576,1298.54 435.822,1298.54 446.068,811.32 456.314,1298.54 466.56,1298.54 476.806,1298.54 487.052,811.32 497.298,1298.54 507.544,1298.54 \n",
       "  517.79,804.554 528.036,791.02 538.282,784.253 548.529,804.554 558.775,797.787 569.021,831.621 579.267,1298.54 589.513,1298.54 599.759,1298.54 610.005,1298.54 \n",
       "  620.251,831.621 630.497,831.621 640.743,831.621 650.989,831.621 661.235,831.621 671.481,831.621 681.727,648.915 691.973,621.848 702.219,594.78 712.465,594.78 \n",
       "  722.711,601.547 732.957,601.547 743.204,615.081 753.45,628.615 763.696,682.75 773.942,682.75 784.188,1298.54 794.434,1298.54 804.68,682.75 814.926,1298.54 \n",
       "  825.172,682.75 835.418,669.216 845.664,655.682 855.91,696.283 866.156,615.081 876.402,709.817 886.648,662.449 896.894,662.449 907.14,696.283 917.386,696.283 \n",
       "  927.632,696.283 937.879,696.283 948.125,696.283 958.371,655.682 968.617,655.682 978.863,655.682 989.109,662.449 999.355,662.449 1009.6,662.449 1019.85,662.449 \n",
       "  1030.09,635.381 1040.34,635.381 1050.59,635.381 1060.83,635.381 1071.08,628.615 1081.32,635.381 1091.57,635.381 1101.82,662.449 1112.06,662.449 1122.31,703.05 \n",
       "  1132.55,703.05 1142.8,703.05 1153.05,703.05 1163.29,703.05 1173.54,703.05 1183.78,703.05 1194.03,628.615 1204.28,628.615 1214.52,608.314 1224.77,560.946 \n",
       "  1235.01,554.179 1245.26,669.216 1255.51,669.216 1265.75,662.449 1276,533.878 1286.24,533.878 1296.49,594.78 1306.74,594.78 1316.98,594.78 1327.23,594.78 \n",
       "  1337.47,594.78 1347.72,533.878 1357.97,533.878 1368.21,554.179 1378.46,554.179 1388.7,520.344 1398.95,418.841 1409.2,439.142 1419.44,439.142 1429.69,466.209 \n",
       "  1439.94,486.51 1450.18,472.976 1460.43,452.676 1470.67,479.743 1480.92,472.976 1491.17,472.976 1501.41,445.909 1511.66,439.142 1521.9,425.608 1532.15,425.608 \n",
       "  1542.4,412.074 1552.64,418.841 1562.89,439.142 1573.13,919.591 1583.38,736.885 1593.63,743.652 1603.87,743.652 1614.12,554.179 1624.36,655.682 1634.61,628.615 \n",
       "  1644.86,601.547 1655.1,601.547 1665.35,601.547 1675.59,628.615 1685.84,628.615 1696.09,351.172 1706.33,357.939 1716.58,202.301 1726.82,209.068 1737.07,601.547 \n",
       "  1747.32,601.547 1757.56,601.547 1767.81,601.547 1778.05,601.547 1788.3,601.547 1798.55,601.547 1808.79,601.547 1819.04,601.547 1829.29,628.615 1839.53,628.615 \n",
       "  1849.78,642.148 1860.02,513.578 1870.27,513.578 1880.52,513.578 1890.76,513.578 1901.01,601.547 1911.25,601.547 1921.5,628.615 1931.75,628.615 1941.99,628.615 \n",
       "  1952.24,148.166 1962.48,554.179 1972.73,547.412 1982.98,554.179 1993.22,554.179 2003.47,554.179 2013.71,554.179 2023.96,554.179 2034.21,554.179 2044.45,648.915 \n",
       "  2054.7,648.915 2064.94,648.915 2075.19,648.915 2085.44,662.449 2095.68,662.449 2105.93,662.449 2116.17,662.449 2126.42,655.682 2136.67,655.682 2146.91,655.682 \n",
       "  2157.16,655.682 2167.4,655.682 2177.65,655.682 2187.9,655.682 2198.14,655.682 2208.39,655.682 2218.64,655.682 2228.88,655.682 2239.13,655.682 2249.37,655.682 \n",
       "  2259.62,655.682 2269.87,655.682 2280.11,655.682 2290.36,655.682 \n",
       "  \"/>\n",
       "<path clip-path=\"url(#clip480)\" d=\"\n",
       "M1834.97 276.658 L2279.26 276.658 L2279.26 95.2176 L1834.97 95.2176  Z\n",
       "  \" fill=\"#ffffff\" fill-rule=\"evenodd\" fill-opacity=\"1\"/>\n",
       "<polyline clip-path=\"url(#clip480)\" style=\"stroke:#000000; stroke-width:4; stroke-opacity:1; fill:none\" points=\"\n",
       "  1834.97,276.658 2279.26,276.658 2279.26,95.2176 1834.97,95.2176 1834.97,276.658 \n",
       "  \"/>\n",
       "<polyline clip-path=\"url(#clip480)\" style=\"stroke:#009af9; stroke-width:4; stroke-opacity:1; fill:none\" points=\"\n",
       "  1859.46,155.698 2006.45,155.698 \n",
       "  \"/>\n",
       "<path clip-path=\"url(#clip480)\" d=\"M 0 0 M2030.94 138.418 L2060.18 138.418 L2060.18 142.353 L2047.91 142.353 L2047.91 172.978 L2043.21 172.978 L2043.21 142.353 L2030.94 142.353 L2030.94 138.418 Z\" fill=\"#000000\" fill-rule=\"evenodd\" fill-opacity=\"1\" /><path clip-path=\"url(#clip480)\" d=\"M 0 0 M2072.7 151.033 Q2071.98 150.617 2071.13 150.431 Q2070.29 150.223 2069.28 150.223 Q2065.66 150.223 2063.72 152.584 Q2061.8 154.922 2061.8 159.32 L2061.8 172.978 L2057.52 172.978 L2057.52 147.052 L2061.8 147.052 L2061.8 151.08 Q2063.14 148.718 2065.29 147.584 Q2067.45 146.427 2070.53 146.427 Q2070.97 146.427 2071.5 146.496 Q2072.03 146.543 2072.68 146.658 L2072.7 151.033 Z\" fill=\"#000000\" fill-rule=\"evenodd\" fill-opacity=\"1\" /><path clip-path=\"url(#clip480)\" d=\"M 0 0 M2088.95 159.945 Q2083.79 159.945 2081.8 161.126 Q2079.81 162.306 2079.81 165.154 Q2079.81 167.422 2081.29 168.765 Q2082.79 170.084 2085.36 170.084 Q2088.91 170.084 2091.03 167.584 Q2093.19 165.061 2093.19 160.894 L2093.19 159.945 L2088.95 159.945 M2097.45 158.186 L2097.45 172.978 L2093.19 172.978 L2093.19 169.042 Q2091.73 171.403 2089.55 172.538 Q2087.38 173.649 2084.23 173.649 Q2080.25 173.649 2077.89 171.427 Q2075.55 169.181 2075.55 165.431 Q2075.55 161.056 2078.47 158.834 Q2081.41 156.612 2087.22 156.612 L2093.19 156.612 L2093.19 156.195 Q2093.19 153.255 2091.24 151.658 Q2089.32 150.038 2085.83 150.038 Q2083.6 150.038 2081.5 150.57 Q2079.39 151.103 2077.45 152.167 L2077.45 148.232 Q2079.78 147.33 2081.98 146.89 Q2084.18 146.427 2086.27 146.427 Q2091.89 146.427 2094.67 149.343 Q2097.45 152.26 2097.45 158.186 Z\" fill=\"#000000\" fill-rule=\"evenodd\" fill-opacity=\"1\" /><path clip-path=\"url(#clip480)\" d=\"M 0 0 M2101.91 147.052 L2106.17 147.052 L2106.17 172.978 L2101.91 172.978 L2101.91 147.052 M2101.91 136.959 L2106.17 136.959 L2106.17 142.353 L2101.91 142.353 L2101.91 136.959 Z\" fill=\"#000000\" fill-rule=\"evenodd\" fill-opacity=\"1\" /><path clip-path=\"url(#clip480)\" d=\"M 0 0 M2132.19 157.329 L2132.19 172.978 L2127.93 172.978 L2127.93 157.468 Q2127.93 153.788 2126.5 151.959 Q2125.06 150.13 2122.19 150.13 Q2118.74 150.13 2116.75 152.33 Q2114.76 154.529 2114.76 158.325 L2114.76 172.978 L2110.48 172.978 L2110.48 147.052 L2114.76 147.052 L2114.76 151.08 Q2116.29 148.742 2118.35 147.584 Q2120.43 146.427 2123.14 146.427 Q2127.61 146.427 2129.9 149.205 Q2132.19 151.959 2132.19 157.329 Z\" fill=\"#000000\" fill-rule=\"evenodd\" fill-opacity=\"1\" /><path clip-path=\"url(#clip480)\" d=\"M 0 0 M2136.66 147.052 L2140.92 147.052 L2140.92 172.978 L2136.66 172.978 L2136.66 147.052 M2136.66 136.959 L2140.92 136.959 L2140.92 142.353 L2136.66 142.353 L2136.66 136.959 Z\" fill=\"#000000\" fill-rule=\"evenodd\" fill-opacity=\"1\" /><path clip-path=\"url(#clip480)\" d=\"M 0 0 M2166.94 157.329 L2166.94 172.978 L2162.68 172.978 L2162.68 157.468 Q2162.68 153.788 2161.24 151.959 Q2159.81 150.13 2156.94 150.13 Q2153.49 150.13 2151.5 152.33 Q2149.51 154.529 2149.51 158.325 L2149.51 172.978 L2145.22 172.978 L2145.22 147.052 L2149.51 147.052 L2149.51 151.08 Q2151.03 148.742 2153.09 147.584 Q2155.18 146.427 2157.89 146.427 Q2162.35 146.427 2164.65 149.205 Q2166.94 151.959 2166.94 157.329 Z\" fill=\"#000000\" fill-rule=\"evenodd\" fill-opacity=\"1\" /><path clip-path=\"url(#clip480)\" d=\"M 0 0 M2188.46 159.714 Q2188.46 155.084 2186.54 152.538 Q2184.65 149.992 2181.2 149.992 Q2177.77 149.992 2175.85 152.538 Q2173.95 155.084 2173.95 159.714 Q2173.95 164.32 2175.85 166.866 Q2177.77 169.413 2181.2 169.413 Q2184.65 169.413 2186.54 166.866 Q2188.46 164.32 2188.46 159.714 M2192.72 169.76 Q2192.72 176.38 2189.78 179.598 Q2186.84 182.839 2180.78 182.839 Q2178.53 182.839 2176.54 182.491 Q2174.55 182.167 2172.68 181.473 L2172.68 177.329 Q2174.55 178.348 2176.38 178.834 Q2178.21 179.32 2180.11 179.32 Q2184.3 179.32 2186.38 177.121 Q2188.46 174.945 2188.46 170.524 L2188.46 168.417 Q2187.15 170.709 2185.09 171.843 Q2183.02 172.978 2180.15 172.978 Q2175.39 172.978 2172.47 169.343 Q2169.55 165.709 2169.55 159.714 Q2169.55 153.695 2172.47 150.061 Q2175.39 146.427 2180.15 146.427 Q2183.02 146.427 2185.09 147.561 Q2187.15 148.695 2188.46 150.987 L2188.46 147.052 L2192.72 147.052 L2192.72 169.76 Z\" fill=\"#000000\" fill-rule=\"evenodd\" fill-opacity=\"1\" /><polyline clip-path=\"url(#clip480)\" style=\"stroke:#e26f46; stroke-width:4; stroke-opacity:1; fill:none\" points=\"\n",
       "  1859.46,216.178 2006.45,216.178 \n",
       "  \"/>\n",
       "<path clip-path=\"url(#clip480)\" d=\"M 0 0 M2044.14 233.458 L2030.94 198.898 L2035.83 198.898 L2046.78 227.995 L2057.75 198.898 L2062.61 198.898 L2049.44 233.458 L2044.14 233.458 Z\" fill=\"#000000\" fill-rule=\"evenodd\" fill-opacity=\"1\" /><path clip-path=\"url(#clip480)\" d=\"M 0 0 M2075.18 220.425 Q2070.02 220.425 2068.03 221.606 Q2066.03 222.786 2066.03 225.634 Q2066.03 227.902 2067.52 229.245 Q2069.02 230.564 2071.59 230.564 Q2075.13 230.564 2077.26 228.064 Q2079.41 225.541 2079.41 221.374 L2079.41 220.425 L2075.18 220.425 M2083.67 218.666 L2083.67 233.458 L2079.41 233.458 L2079.41 229.522 Q2077.96 231.883 2075.78 233.018 Q2073.6 234.129 2070.46 234.129 Q2066.47 234.129 2064.11 231.907 Q2061.78 229.661 2061.78 225.911 Q2061.78 221.536 2064.69 219.314 Q2067.63 217.092 2073.44 217.092 L2079.41 217.092 L2079.41 216.675 Q2079.41 213.735 2077.47 212.138 Q2075.55 210.518 2072.05 210.518 Q2069.83 210.518 2067.72 211.05 Q2065.62 211.583 2063.67 212.647 L2063.67 208.712 Q2066.01 207.81 2068.21 207.37 Q2070.41 206.907 2072.49 206.907 Q2078.12 206.907 2080.9 209.823 Q2083.67 212.74 2083.67 218.666 Z\" fill=\"#000000\" fill-rule=\"evenodd\" fill-opacity=\"1\" /><path clip-path=\"url(#clip480)\" d=\"M 0 0 M2088.14 197.439 L2092.4 197.439 L2092.4 233.458 L2088.14 233.458 L2088.14 197.439 Z\" fill=\"#000000\" fill-rule=\"evenodd\" fill-opacity=\"1\" /><path clip-path=\"url(#clip480)\" d=\"M 0 0 M2096.87 207.532 L2101.13 207.532 L2101.13 233.458 L2096.87 233.458 L2096.87 207.532 M2096.87 197.439 L2101.13 197.439 L2101.13 202.833 L2096.87 202.833 L2096.87 197.439 Z\" fill=\"#000000\" fill-rule=\"evenodd\" fill-opacity=\"1\" /><path clip-path=\"url(#clip480)\" d=\"M 0 0 M2122.65 211.467 L2122.65 197.439 L2126.91 197.439 L2126.91 233.458 L2122.65 233.458 L2122.65 229.569 Q2121.31 231.883 2119.25 233.018 Q2117.22 234.129 2114.34 234.129 Q2109.65 234.129 2106.68 230.379 Q2103.74 226.629 2103.74 220.518 Q2103.74 214.407 2106.68 210.657 Q2109.65 206.907 2114.34 206.907 Q2117.22 206.907 2119.25 208.041 Q2121.31 209.152 2122.65 211.467 M2108.14 220.518 Q2108.14 225.217 2110.06 227.902 Q2112.01 230.564 2115.39 230.564 Q2118.77 230.564 2120.71 227.902 Q2122.65 225.217 2122.65 220.518 Q2122.65 215.819 2120.71 213.157 Q2118.77 210.472 2115.39 210.472 Q2112.01 210.472 2110.06 213.157 Q2108.14 215.819 2108.14 220.518 Z\" fill=\"#000000\" fill-rule=\"evenodd\" fill-opacity=\"1\" /><path clip-path=\"url(#clip480)\" d=\"M 0 0 M2143.16 220.425 Q2138 220.425 2136.01 221.606 Q2134.02 222.786 2134.02 225.634 Q2134.02 227.902 2135.5 229.245 Q2137.01 230.564 2139.58 230.564 Q2143.12 230.564 2145.25 228.064 Q2147.4 225.541 2147.4 221.374 L2147.4 220.425 L2143.16 220.425 M2151.66 218.666 L2151.66 233.458 L2147.4 233.458 L2147.4 229.522 Q2145.94 231.883 2143.77 233.018 Q2141.59 234.129 2138.44 234.129 Q2134.46 234.129 2132.1 231.907 Q2129.76 229.661 2129.76 225.911 Q2129.76 221.536 2132.68 219.314 Q2135.62 217.092 2141.43 217.092 L2147.4 217.092 L2147.4 216.675 Q2147.4 213.735 2145.46 212.138 Q2143.53 210.518 2140.04 210.518 Q2137.82 210.518 2135.71 211.05 Q2133.6 211.583 2131.66 212.647 L2131.66 208.712 Q2134 207.81 2136.2 207.37 Q2138.4 206.907 2140.48 206.907 Q2146.1 206.907 2148.88 209.823 Q2151.66 212.74 2151.66 218.666 Z\" fill=\"#000000\" fill-rule=\"evenodd\" fill-opacity=\"1\" /><path clip-path=\"url(#clip480)\" d=\"M 0 0 M2160.34 200.171 L2160.34 207.532 L2169.11 207.532 L2169.11 210.842 L2160.34 210.842 L2160.34 224.916 Q2160.34 228.087 2161.2 228.99 Q2162.08 229.893 2164.74 229.893 L2169.11 229.893 L2169.11 233.458 L2164.74 233.458 Q2159.81 233.458 2157.93 231.629 Q2156.06 229.777 2156.06 224.916 L2156.06 210.842 L2152.93 210.842 L2152.93 207.532 L2156.06 207.532 L2156.06 200.171 L2160.34 200.171 Z\" fill=\"#000000\" fill-rule=\"evenodd\" fill-opacity=\"1\" /><path clip-path=\"url(#clip480)\" d=\"M 0 0 M2173.58 207.532 L2177.84 207.532 L2177.84 233.458 L2173.58 233.458 L2173.58 207.532 M2173.58 197.439 L2177.84 197.439 L2177.84 202.833 L2173.58 202.833 L2173.58 197.439 Z\" fill=\"#000000\" fill-rule=\"evenodd\" fill-opacity=\"1\" /><path clip-path=\"url(#clip480)\" d=\"M 0 0 M2192.35 210.518 Q2188.93 210.518 2186.94 213.203 Q2184.95 215.865 2184.95 220.518 Q2184.95 225.171 2186.91 227.856 Q2188.9 230.518 2192.35 230.518 Q2195.76 230.518 2197.75 227.833 Q2199.74 225.147 2199.74 220.518 Q2199.74 215.911 2197.75 213.226 Q2195.76 210.518 2192.35 210.518 M2192.35 206.907 Q2197.91 206.907 2201.08 210.518 Q2204.25 214.129 2204.25 220.518 Q2204.25 226.884 2201.08 230.518 Q2197.91 234.129 2192.35 234.129 Q2186.77 234.129 2183.6 230.518 Q2180.46 226.884 2180.46 220.518 Q2180.46 214.129 2183.6 210.518 Q2186.77 206.907 2192.35 206.907 Z\" fill=\"#000000\" fill-rule=\"evenodd\" fill-opacity=\"1\" /><path clip-path=\"url(#clip480)\" d=\"M 0 0 M2230.27 217.809 L2230.27 233.458 L2226.01 233.458 L2226.01 217.948 Q2226.01 214.268 2224.58 212.439 Q2223.14 210.61 2220.27 210.61 Q2216.82 210.61 2214.83 212.81 Q2212.84 215.009 2212.84 218.805 L2212.84 233.458 L2208.56 233.458 L2208.56 207.532 L2212.84 207.532 L2212.84 211.56 Q2214.37 209.222 2216.43 208.064 Q2218.51 206.907 2221.22 206.907 Q2225.69 206.907 2227.98 209.685 Q2230.27 212.439 2230.27 217.809 Z\" fill=\"#000000\" fill-rule=\"evenodd\" fill-opacity=\"1\" /></svg>\n"
      ]
     },
     "execution_count": 329,
     "metadata": {},
     "output_type": "execute_result"
    }
   ],
   "source": [
    "plot(data_schedule, training_losses, label=\"Training\")\n",
    "plot!(data_schedule, valid_losses, label=\"Validation\")"
   ]
  },
  {
   "cell_type": "code",
   "execution_count": 330,
   "metadata": {},
   "outputs": [],
   "source": [
    "fn = \"Figures/LearningCurve_DT\"\n",
    "png(replace(fn,'.' => ','))"
   ]
  },
  {
   "cell_type": "markdown",
   "metadata": {},
   "source": [
    "# Final Results"
   ]
  },
  {
   "cell_type": "code",
   "execution_count": 331,
   "metadata": {},
   "outputs": [
    {
     "data": {
      "text/plain": [
       "DecisionTreeClassifier(\n",
       "    max_depth = -1,\n",
       "    min_samples_leaf = 1,\n",
       "    min_samples_split = 2,\n",
       "    min_purity_increase = 0.0,\n",
       "    n_subfeatures = 0,\n",
       "    post_prune = true,\n",
       "    merge_purity_threshold = 0.494949494949495,\n",
       "    pdf_smoothing = 0.0,\n",
       "    display_depth = 5)\u001b[34m @193\u001b[39m"
      ]
     },
     "execution_count": 331,
     "metadata": {},
     "output_type": "execute_result"
    }
   ],
   "source": [
    "final_dt = best.best_model"
   ]
  },
  {
   "cell_type": "code",
   "execution_count": 332,
   "metadata": {},
   "outputs": [
    {
     "data": {
      "text/plain": [
       "\u001b[34mMachine{DecisionTreeClassifier} @004\u001b[39m trained 0 times.\n",
       "  args: \n",
       "    1:\t\u001b[34mSource @405\u001b[39m ⏎ `Table{AbstractArray{Continuous,1}}`\n",
       "    2:\t\u001b[34mSource @160\u001b[39m ⏎ `AbstractArray{Multiclass{3},1}`\n"
      ]
     },
     "execution_count": 332,
     "metadata": {},
     "output_type": "execute_result"
    }
   ],
   "source": [
    "Final_Tree = machine(final_dt, X, y)"
   ]
  },
  {
   "cell_type": "code",
   "execution_count": 333,
   "metadata": {},
   "outputs": [
    {
     "name": "stdout",
     "output_type": "stream",
     "text": [
      "Feature 29, Threshold 66.0\n",
      "L-> Feature 32, Threshold 77.5\n",
      "    L-> 2 : 415/645\n",
      "    R-> Feature 31, Threshold 69.0\n",
      "        L-> 2 : 91/132\n",
      "        R-> Feature 31, Threshold 77.5\n",
      "            L-> Feature 35, Threshold 69.0\n",
      "                L-> \n",
      "                R-> \n",
      "            R-> 3 : 21/40\n",
      "R-> 3 : 1015/1266\n"
     ]
    },
    {
     "name": "stderr",
     "output_type": "stream",
     "text": [
      "┌ Info: Training \u001b[34mMachine{DecisionTreeClassifier} @004\u001b[39m.\n",
      "└ @ MLJBase /home/andrew/.julia/packages/MLJBase/uKzAz/src/machines.jl:319\n"
     ]
    },
    {
     "data": {
      "text/plain": [
       "\u001b[34mMachine{DecisionTreeClassifier} @004\u001b[39m trained 1 time.\n",
       "  args: \n",
       "    1:\t\u001b[34mSource @405\u001b[39m ⏎ `Table{AbstractArray{Continuous,1}}`\n",
       "    2:\t\u001b[34mSource @160\u001b[39m ⏎ `AbstractArray{Multiclass{3},1}`\n"
      ]
     },
     "execution_count": 333,
     "metadata": {},
     "output_type": "execute_result"
    }
   ],
   "source": [
    "fit!(Final_Tree, rows=train, verbosity=2)"
   ]
  },
  {
   "cell_type": "code",
   "execution_count": 334,
   "metadata": {},
   "outputs": [],
   "source": [
    "ŷ2 = MLJ.predict(Final_Tree, X[test,:]);"
   ]
  },
  {
   "cell_type": "code",
   "execution_count": 335,
   "metadata": {},
   "outputs": [
    {
     "data": {
      "text/plain": [
       "0.7205700953864274"
      ]
     },
     "execution_count": 335,
     "metadata": {},
     "output_type": "execute_result"
    }
   ],
   "source": [
    "cross_entropy(ŷ2, y[test]) |> mean"
   ]
  },
  {
   "cell_type": "code",
   "execution_count": 336,
   "metadata": {},
   "outputs": [
    {
     "data": {
      "text/plain": [
       "0.719435736677116"
      ]
     },
     "execution_count": 336,
     "metadata": {},
     "output_type": "execute_result"
    }
   ],
   "source": [
    "acc(ŷ2, y[test])"
   ]
  },
  {
   "cell_type": "code",
   "execution_count": 337,
   "metadata": {},
   "outputs": [
    {
     "name": "stderr",
     "output_type": "stream",
     "text": [
      "┌ Warning: The classes are un-ordered,\n",
      "│ using order: [\"EI\", \"IE\", \"N\"].\n",
      "│ To suppress this warning, consider coercing to OrderedFactor.\n",
      "└ @ MLJBase /home/andrew/.julia/packages/MLJBase/uKzAz/src/measures/confusion_matrix.jl:87\n"
     ]
    },
    {
     "data": {
      "text/plain": [
       "              ┌─────────────────────────────────────────┐\n",
       "              │              Ground Truth               │\n",
       "┌─────────────┼─────────────┬─────────────┬─────────────┤\n",
       "│  Predicted  │     EI      │     IE      │      N      │\n",
       "├─────────────┼─────────────┼─────────────┼─────────────┤\n",
       "│     EI      │     77      │      9      │      2      │\n",
       "├─────────────┼─────────────┼─────────────┼─────────────┤\n",
       "│     IE      │      5      │     135     │     82      │\n",
       "├─────────────┼─────────────┼─────────────┼─────────────┤\n",
       "│      N      │     71      │     10      │     247     │\n",
       "└─────────────┴─────────────┴─────────────┴─────────────┘\n"
      ]
     },
     "execution_count": 337,
     "metadata": {},
     "output_type": "execute_result"
    }
   ],
   "source": [
    "confusion_matrix(mode.(ŷ2), y[test])"
   ]
  },
  {
   "cell_type": "code",
   "execution_count": null,
   "metadata": {},
   "outputs": [],
   "source": []
  }
 ],
 "metadata": {
  "kernelspec": {
   "display_name": "Julia 1.5.0",
   "language": "julia",
   "name": "julia-1.5"
  },
  "language_info": {
   "file_extension": ".jl",
   "mimetype": "application/julia",
   "name": "julia",
   "version": "1.5.0"
  }
 },
 "nbformat": 4,
 "nbformat_minor": 4
}
