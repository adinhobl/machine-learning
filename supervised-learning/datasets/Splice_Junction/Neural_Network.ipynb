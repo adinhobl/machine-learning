{
 "cells": [
  {
   "cell_type": "markdown",
   "metadata": {},
   "source": [
    "# Imports"
   ]
  },
  {
   "cell_type": "code",
   "execution_count": 1,
   "metadata": {},
   "outputs": [],
   "source": [
    "using DataFrames\n",
    "using CSV\n",
    "using MLJ\n",
    "using Flux\n",
    "using Plots\n",
    "using StatsBase\n",
    "using MLJ: confusion_matrix\n",
    "\n",
    "include(\"../../lib.jl\")\n",
    "\n",
    "ENV[\"LINES\"]=30;"
   ]
  },
  {
   "cell_type": "code",
   "execution_count": 2,
   "metadata": {},
   "outputs": [
    {
     "ename": "LoadError",
     "evalue": "IOError: mkdir: file already exists (EEXIST)",
     "output_type": "error",
     "traceback": [
      "IOError: mkdir: file already exists (EEXIST)",
      "",
      "Stacktrace:",
      " [1] uv_error at ./libuv.jl:97 [inlined]",
      " [2] mkdir(::String; mode::UInt16) at ./file.jl:177",
      " [3] mkdir(::String) at ./file.jl:170",
      " [4] top-level scope at In[2]:1",
      " [5] include_string(::Function, ::Module, ::String, ::String) at ./loading.jl:1091"
     ]
    }
   ],
   "source": [
    "mkdir(\"./Figures\")"
   ]
  },
  {
   "cell_type": "markdown",
   "metadata": {},
   "source": [
    "# Datasets"
   ]
  },
  {
   "cell_type": "code",
   "execution_count": 3,
   "metadata": {},
   "outputs": [
    {
     "data": {
      "text/html": [
       "<table class=\"data-frame\"><thead><tr><th></th><th>Class</th><th> Instance</th><th>                       Nucleotide_Sequence</th></tr><tr><th></th><th>String</th><th>String</th><th>String</th></tr></thead><tbody><p>3,190 rows × 3 columns</p><tr><th>1</th><td>EI</td><td>    ATRINS-DONOR-521</td><td>               CCAGCTGCATCACAGGAGGCCAGCGAGCAGGTCTGTTCCAAGGGCCTTCGAGCCAGTCTG</td></tr><tr><th>2</th><td>EI</td><td>    ATRINS-DONOR-905</td><td>               AGACCCGCCGGGAGGCGGAGGACCTGCAGGGTGAGCCCCACCGCCCCTCCGTGCCCCCGC</td></tr><tr><th>3</th><td>EI</td><td>    BABAPOE-DONOR-30</td><td>               GAGGTGAAGGACGTCCTTCCCCAGGAGCCGGTGAGAAGCGCAGTCGGGGGCACGGGGATG</td></tr><tr><th>4</th><td>EI</td><td>    BABAPOE-DONOR-867</td><td>              GGGCTGCGTTGCTGGTCACATTCCTGGCAGGTATGGGGCGGGGCTTGCTCGGTTTTCCCC</td></tr><tr><th>5</th><td>EI</td><td>    BABAPOE-DONOR-2817</td><td>             GCTCAGCCCCCAGGTCACCCAGGAACTGACGTGAGTGTCCCCATCCCGGCCCTTGACCCT</td></tr><tr><th>6</th><td>EI</td><td>    CHPIGECA-DONOR-378</td><td>             CAGACTGGGTGGACAACAAAACCTTCAGCGGTAAGAGAGGGCCAAGCTCAGAGACCACAG</td></tr><tr><th>7</th><td>EI</td><td>    CHPIGECA-DONOR-903</td><td>             CCTTTGAGGACAGCACCAAGAAGTGTGCAGGTACGTTCCCACCTGCCCTGGTGGCCGCCA</td></tr><tr><th>8</th><td>EI</td><td>    CHPIGECA-DONOR-1313</td><td>            CCCTCGTGCGGTCCACGACCAAGACCAGCGGTGAGCCACGGGCAGGCCGGGGTCGTGGGG</td></tr><tr><th>9</th><td>EI</td><td>    GCRHBBA1-DONOR-1260</td><td>            TGGCGACTACGGCGCGGAGGCCCTGGAGAGGTGAGGACCCTCCTGTCCCTGCTCCAGTCC</td></tr><tr><th>10</th><td>EI</td><td>    GCRHBBA1-DONOR-1590</td><td>            AAGCTGACAGTGGACCCGGTCAACTTCAAGGTGAGCCAGGAGTCGGGTGGGAGGGTGAGA</td></tr><tr><th>11</th><td>EI</td><td>    GCRHBBA6-DONOR-461</td><td>             TGGCGACTACGGCGCGGAGGCCCTGGAGAGGTGAGGACCCTGGTATCCCTGCTGCCAGTC</td></tr><tr><th>12</th><td>EI</td><td>    GCRHBBA6-DONOR-795</td><td>             AAGCTGAGAGTGGACCCTGTCAACTTCAAGGTGAGCCACCAGTCGGGTGGGGAGGGTGAG</td></tr><tr><th>13</th><td>EI</td><td>    GIBHBGGL-DONOR-2278</td><td>            GGAAGATGCTGGAGGAGAAACCCTGGGAAGGTAGGCTCTGGTGACCAGGACAAGGGAGGG</td></tr><tr><th>14</th><td>EI</td><td>    GIBHBGGL-DONOR-2624</td><td>            AAGCTGCATGTGGATCCTGAGAACTTCAGGGTGAGTACAGGAGATGTTTCAGCCCTGTTG</td></tr><tr><th>15</th><td>EI</td><td>    GIBHBGGL-DONOR-7198</td><td>            GGAAGATGTTGGAGGAGAAACCCTGGGAAGGTAGGCTCTGGTGACCAGGACAAGGGAGGG</td></tr><tr><th>16</th><td>EI</td><td>    GIBHBGGL-DONOR-7544</td><td>            AAGCTGCATGTGGATCCTGAGAACTTCAGGGTGAGTACAGGAGATGTTTCAGCCCTGTTG</td></tr><tr><th>17</th><td>EI</td><td>    HUMA1ATP-DONOR-1972</td><td>            GGCACCACCACTGACCTGGGACAGTGAATCGTAAGTATGCCTTTCACTGCGAGGGGTTCT</td></tr><tr><th>18</th><td>EI</td><td>    HUMA1ATP-DONOR-7932</td><td>            TTGCTCTGGTGAATTACATCTTCTTTAAAGGTAAGGTTGCTCAACCAGCCTGAGCTGTTT</td></tr><tr><th>19</th><td>EI</td><td>    HUMA1ATP-DONOR-9653</td><td>            CACCAAGTTCCTGGAAAATGAAGACAGAAGGTGATTCCCCAACCTGAGGGTGACCAAGAA</td></tr><tr><th>20</th><td>EI</td><td>    HUMA1ATP-DONOR-11057</td><td>           ACAGAGGAGGCACCCCTGAAGCTCTCCAAGGTGAGATCACCCTGACGACCTTGTTGCACC</td></tr><tr><th>21</th><td>EI</td><td>    HUMA1GLY2-DONOR-1693</td><td>           GTGCCCATCACCAACGCCACCCTGGACCGGGTGAGTGCCTGGGCTAGCCCTGTCCTGAGC</td></tr><tr><th>22</th><td>EI</td><td>    HUMA1GLY2-DONOR-2251</td><td>           CACGATCTTTCTCAGAGAGTACCAGACCCGGTGAGAGCCCCCATTCCAATGCACCCCCGA</td></tr><tr><th>23</th><td>EI</td><td>    HUMA1GLY2-DONOR-2540</td><td>           AGCGGGAGAATGGGACCGTCTCCAGATACGGTGAGGGCCAGCCCTCAGGCAGGAGGGTTC</td></tr><tr><th>24</th><td>EI</td><td>    HUMA1GLY2-DONOR-3352</td><td>           ATGAGAAGAACTGGGGGCTGTCTTTCTATGGTAGGCATGCTTAGCAGCCCCAAACTCATG</td></tr><tr><th>25</th><td>EI</td><td>    HUMA1GLY2-DONOR-3606</td><td>           TCAGATGTCATGTACACCGACTGGAAAAAGGTAAACGCAAGGGATTGGACATTGCCCACC</td></tr><tr><th>26</th><td>EI</td><td>    HUMACCYBA-DONOR-289</td><td>            GATCCGCCGCCCGTCCACACCCGCCGCCAGGTAAGCCCGGCCAGCCGACCGGGGCATGCG</td></tr><tr><th>27</th><td>EI</td><td>    HUMACCYBA-DONOR-1250</td><td>           CCCTCCATCGTGGGGCGCCCCAGGCACCAGGTAGGGGAGCTGGCTGGGTGGGGCAGCCCC</td></tr><tr><th>28</th><td>EI</td><td>    HUMACCYBA-DONOR-1624</td><td>           CCCAAGGCCAACCGCGAGAAGATGACCCAGGTGAGTGGCCCGCTACCTCTTCTGGTGGCC</td></tr><tr><th>29</th><td>EI</td><td>    HUMACCYBA-DONOR-2504</td><td>           CTGAGGCACTCTTCCAGCCTTCCTTCCTGGGTGAGTGGAGACTGTCTCCCGGCTCTGCCT</td></tr><tr><th>30</th><td>EI</td><td>    HUMACCYBA-DONOR-2781</td><td>           GCCCTGGCACCCAGCACAATGAAGATCAAGGTGGGTGTCTTTCCTGCCTGAGCTGACCTG</td></tr><tr><th>&vellip;</th><td>&vellip;</td><td>&vellip;</td><td>&vellip;</td></tr></tbody></table>"
      ],
      "text/latex": [
       "\\begin{tabular}{r|ccc}\n",
       "\t& Class &  Instance &                        Nucleotide\\_Sequence\\\\\n",
       "\t\\hline\n",
       "\t& String & String & String\\\\\n",
       "\t\\hline\n",
       "\t1 & EI &     ATRINS-DONOR-521 &                CCAGCTGCATCACAGGAGGCCAGCGAGCAGGTCTGTTCCAAGGGCCTTCGAGCCAGTCTG \\\\\n",
       "\t2 & EI &     ATRINS-DONOR-905 &                AGACCCGCCGGGAGGCGGAGGACCTGCAGGGTGAGCCCCACCGCCCCTCCGTGCCCCCGC \\\\\n",
       "\t3 & EI &     BABAPOE-DONOR-30 &                GAGGTGAAGGACGTCCTTCCCCAGGAGCCGGTGAGAAGCGCAGTCGGGGGCACGGGGATG \\\\\n",
       "\t4 & EI &     BABAPOE-DONOR-867 &               GGGCTGCGTTGCTGGTCACATTCCTGGCAGGTATGGGGCGGGGCTTGCTCGGTTTTCCCC \\\\\n",
       "\t5 & EI &     BABAPOE-DONOR-2817 &              GCTCAGCCCCCAGGTCACCCAGGAACTGACGTGAGTGTCCCCATCCCGGCCCTTGACCCT \\\\\n",
       "\t6 & EI &     CHPIGECA-DONOR-378 &              CAGACTGGGTGGACAACAAAACCTTCAGCGGTAAGAGAGGGCCAAGCTCAGAGACCACAG \\\\\n",
       "\t7 & EI &     CHPIGECA-DONOR-903 &              CCTTTGAGGACAGCACCAAGAAGTGTGCAGGTACGTTCCCACCTGCCCTGGTGGCCGCCA \\\\\n",
       "\t8 & EI &     CHPIGECA-DONOR-1313 &             CCCTCGTGCGGTCCACGACCAAGACCAGCGGTGAGCCACGGGCAGGCCGGGGTCGTGGGG \\\\\n",
       "\t9 & EI &     GCRHBBA1-DONOR-1260 &             TGGCGACTACGGCGCGGAGGCCCTGGAGAGGTGAGGACCCTCCTGTCCCTGCTCCAGTCC \\\\\n",
       "\t10 & EI &     GCRHBBA1-DONOR-1590 &             AAGCTGACAGTGGACCCGGTCAACTTCAAGGTGAGCCAGGAGTCGGGTGGGAGGGTGAGA \\\\\n",
       "\t11 & EI &     GCRHBBA6-DONOR-461 &              TGGCGACTACGGCGCGGAGGCCCTGGAGAGGTGAGGACCCTGGTATCCCTGCTGCCAGTC \\\\\n",
       "\t12 & EI &     GCRHBBA6-DONOR-795 &              AAGCTGAGAGTGGACCCTGTCAACTTCAAGGTGAGCCACCAGTCGGGTGGGGAGGGTGAG \\\\\n",
       "\t13 & EI &     GIBHBGGL-DONOR-2278 &             GGAAGATGCTGGAGGAGAAACCCTGGGAAGGTAGGCTCTGGTGACCAGGACAAGGGAGGG \\\\\n",
       "\t14 & EI &     GIBHBGGL-DONOR-2624 &             AAGCTGCATGTGGATCCTGAGAACTTCAGGGTGAGTACAGGAGATGTTTCAGCCCTGTTG \\\\\n",
       "\t15 & EI &     GIBHBGGL-DONOR-7198 &             GGAAGATGTTGGAGGAGAAACCCTGGGAAGGTAGGCTCTGGTGACCAGGACAAGGGAGGG \\\\\n",
       "\t16 & EI &     GIBHBGGL-DONOR-7544 &             AAGCTGCATGTGGATCCTGAGAACTTCAGGGTGAGTACAGGAGATGTTTCAGCCCTGTTG \\\\\n",
       "\t17 & EI &     HUMA1ATP-DONOR-1972 &             GGCACCACCACTGACCTGGGACAGTGAATCGTAAGTATGCCTTTCACTGCGAGGGGTTCT \\\\\n",
       "\t18 & EI &     HUMA1ATP-DONOR-7932 &             TTGCTCTGGTGAATTACATCTTCTTTAAAGGTAAGGTTGCTCAACCAGCCTGAGCTGTTT \\\\\n",
       "\t19 & EI &     HUMA1ATP-DONOR-9653 &             CACCAAGTTCCTGGAAAATGAAGACAGAAGGTGATTCCCCAACCTGAGGGTGACCAAGAA \\\\\n",
       "\t20 & EI &     HUMA1ATP-DONOR-11057 &            ACAGAGGAGGCACCCCTGAAGCTCTCCAAGGTGAGATCACCCTGACGACCTTGTTGCACC \\\\\n",
       "\t21 & EI &     HUMA1GLY2-DONOR-1693 &            GTGCCCATCACCAACGCCACCCTGGACCGGGTGAGTGCCTGGGCTAGCCCTGTCCTGAGC \\\\\n",
       "\t22 & EI &     HUMA1GLY2-DONOR-2251 &            CACGATCTTTCTCAGAGAGTACCAGACCCGGTGAGAGCCCCCATTCCAATGCACCCCCGA \\\\\n",
       "\t23 & EI &     HUMA1GLY2-DONOR-2540 &            AGCGGGAGAATGGGACCGTCTCCAGATACGGTGAGGGCCAGCCCTCAGGCAGGAGGGTTC \\\\\n",
       "\t24 & EI &     HUMA1GLY2-DONOR-3352 &            ATGAGAAGAACTGGGGGCTGTCTTTCTATGGTAGGCATGCTTAGCAGCCCCAAACTCATG \\\\\n",
       "\t25 & EI &     HUMA1GLY2-DONOR-3606 &            TCAGATGTCATGTACACCGACTGGAAAAAGGTAAACGCAAGGGATTGGACATTGCCCACC \\\\\n",
       "\t26 & EI &     HUMACCYBA-DONOR-289 &             GATCCGCCGCCCGTCCACACCCGCCGCCAGGTAAGCCCGGCCAGCCGACCGGGGCATGCG \\\\\n",
       "\t27 & EI &     HUMACCYBA-DONOR-1250 &            CCCTCCATCGTGGGGCGCCCCAGGCACCAGGTAGGGGAGCTGGCTGGGTGGGGCAGCCCC \\\\\n",
       "\t28 & EI &     HUMACCYBA-DONOR-1624 &            CCCAAGGCCAACCGCGAGAAGATGACCCAGGTGAGTGGCCCGCTACCTCTTCTGGTGGCC \\\\\n",
       "\t29 & EI &     HUMACCYBA-DONOR-2504 &            CTGAGGCACTCTTCCAGCCTTCCTTCCTGGGTGAGTGGAGACTGTCTCCCGGCTCTGCCT \\\\\n",
       "\t30 & EI &     HUMACCYBA-DONOR-2781 &            GCCCTGGCACCCAGCACAATGAAGATCAAGGTGGGTGTCTTTCCTGCCTGAGCTGACCTG \\\\\n",
       "\t$\\dots$ & $\\dots$ & $\\dots$ & $\\dots$ \\\\\n",
       "\\end{tabular}\n"
      ],
      "text/plain": [
       "3190×3 DataFrame. Omitted printing of 1 columns\n",
       "│ Row  │ Class  │  Instance               │\n",
       "│      │ \u001b[90mString\u001b[39m │ \u001b[90mString\u001b[39m                  │\n",
       "├──────┼────────┼─────────────────────────┤\n",
       "│ 1    │ EI     │     ATRINS-DONOR-521    │\n",
       "│ 2    │ EI     │     ATRINS-DONOR-905    │\n",
       "│ 3    │ EI     │     BABAPOE-DONOR-30    │\n",
       "│ 4    │ EI     │     BABAPOE-DONOR-867   │\n",
       "│ 5    │ EI     │     BABAPOE-DONOR-2817  │\n",
       "│ 6    │ EI     │     CHPIGECA-DONOR-378  │\n",
       "│ 7    │ EI     │     CHPIGECA-DONOR-903  │\n",
       "│ 8    │ EI     │     CHPIGECA-DONOR-1313 │\n",
       "│ 9    │ EI     │     GCRHBBA1-DONOR-1260 │\n",
       "│ 10   │ EI     │     GCRHBBA1-DONOR-1590 │\n",
       "⋮\n",
       "│ 3180 │ N      │      MNKHBPSBD-NEG-961  │\n",
       "│ 3181 │ N      │      ORAHBA01-NEG-121   │\n",
       "│ 3182 │ N      │      ORAHBBE-NEG-2581   │\n",
       "│ 3183 │ N      │      ORAHBBPSE-NEG-2101 │\n",
       "│ 3184 │ N      │      ORAHBBPSE-NEG-6661 │\n",
       "│ 3185 │ N      │      ORAHBG2F-NEG-181   │\n",
       "│ 3186 │ N      │      ORAHBPSBD-NEG-2881 │\n",
       "│ 3187 │ N      │      ORAINVOL-NEG-2161  │\n",
       "│ 3188 │ N      │      ORARGIT-NEG-241    │\n",
       "│ 3189 │ N      │      TARHBB-NEG-541     │\n",
       "│ 3190 │ N      │      TARHBD-NEG-1981    │"
      ]
     },
     "execution_count": 3,
     "metadata": {},
     "output_type": "execute_result"
    }
   ],
   "source": [
    "df = CSV.read(\"data.csv\")"
   ]
  },
  {
   "cell_type": "code",
   "execution_count": 4,
   "metadata": {},
   "outputs": [
    {
     "data": {
      "text/html": [
       "<table class=\"data-frame\"><thead><tr><th></th><th>x1</th><th>x2</th><th>x3</th><th>x4</th><th>x5</th><th>x6</th><th>x7</th><th>x8</th><th>x9</th></tr><tr><th></th><th>Float64</th><th>Float64</th><th>Float64</th><th>Float64</th><th>Float64</th><th>Float64</th><th>Float64</th><th>Float64</th><th>Float64</th></tr></thead><tbody><p>3,190 rows × 60 columns (omitted printing of 51 columns)</p><tr><th>1</th><td>67.0</td><td>67.0</td><td>65.0</td><td>71.0</td><td>67.0</td><td>84.0</td><td>71.0</td><td>67.0</td><td>65.0</td></tr><tr><th>2</th><td>65.0</td><td>71.0</td><td>65.0</td><td>67.0</td><td>67.0</td><td>67.0</td><td>71.0</td><td>67.0</td><td>67.0</td></tr><tr><th>3</th><td>71.0</td><td>65.0</td><td>71.0</td><td>71.0</td><td>84.0</td><td>71.0</td><td>65.0</td><td>65.0</td><td>71.0</td></tr><tr><th>4</th><td>71.0</td><td>71.0</td><td>71.0</td><td>67.0</td><td>84.0</td><td>71.0</td><td>67.0</td><td>71.0</td><td>84.0</td></tr><tr><th>5</th><td>71.0</td><td>67.0</td><td>84.0</td><td>67.0</td><td>65.0</td><td>71.0</td><td>67.0</td><td>67.0</td><td>67.0</td></tr><tr><th>6</th><td>67.0</td><td>65.0</td><td>71.0</td><td>65.0</td><td>67.0</td><td>84.0</td><td>71.0</td><td>71.0</td><td>71.0</td></tr><tr><th>7</th><td>67.0</td><td>67.0</td><td>84.0</td><td>84.0</td><td>84.0</td><td>71.0</td><td>65.0</td><td>71.0</td><td>71.0</td></tr><tr><th>8</th><td>67.0</td><td>67.0</td><td>67.0</td><td>84.0</td><td>67.0</td><td>71.0</td><td>84.0</td><td>71.0</td><td>67.0</td></tr><tr><th>9</th><td>84.0</td><td>71.0</td><td>71.0</td><td>67.0</td><td>71.0</td><td>65.0</td><td>67.0</td><td>84.0</td><td>65.0</td></tr><tr><th>10</th><td>65.0</td><td>65.0</td><td>71.0</td><td>67.0</td><td>84.0</td><td>71.0</td><td>65.0</td><td>67.0</td><td>65.0</td></tr><tr><th>11</th><td>84.0</td><td>71.0</td><td>71.0</td><td>67.0</td><td>71.0</td><td>65.0</td><td>67.0</td><td>84.0</td><td>65.0</td></tr><tr><th>12</th><td>65.0</td><td>65.0</td><td>71.0</td><td>67.0</td><td>84.0</td><td>71.0</td><td>65.0</td><td>71.0</td><td>65.0</td></tr><tr><th>13</th><td>71.0</td><td>71.0</td><td>65.0</td><td>65.0</td><td>71.0</td><td>65.0</td><td>84.0</td><td>71.0</td><td>67.0</td></tr><tr><th>14</th><td>65.0</td><td>65.0</td><td>71.0</td><td>67.0</td><td>84.0</td><td>71.0</td><td>67.0</td><td>65.0</td><td>84.0</td></tr><tr><th>15</th><td>71.0</td><td>71.0</td><td>65.0</td><td>65.0</td><td>71.0</td><td>65.0</td><td>84.0</td><td>71.0</td><td>84.0</td></tr><tr><th>16</th><td>65.0</td><td>65.0</td><td>71.0</td><td>67.0</td><td>84.0</td><td>71.0</td><td>67.0</td><td>65.0</td><td>84.0</td></tr><tr><th>17</th><td>71.0</td><td>71.0</td><td>67.0</td><td>65.0</td><td>67.0</td><td>67.0</td><td>65.0</td><td>67.0</td><td>67.0</td></tr><tr><th>18</th><td>84.0</td><td>84.0</td><td>71.0</td><td>67.0</td><td>84.0</td><td>67.0</td><td>84.0</td><td>71.0</td><td>71.0</td></tr><tr><th>19</th><td>67.0</td><td>65.0</td><td>67.0</td><td>67.0</td><td>65.0</td><td>65.0</td><td>71.0</td><td>84.0</td><td>84.0</td></tr><tr><th>20</th><td>65.0</td><td>67.0</td><td>65.0</td><td>71.0</td><td>65.0</td><td>71.0</td><td>71.0</td><td>65.0</td><td>71.0</td></tr><tr><th>21</th><td>71.0</td><td>84.0</td><td>71.0</td><td>67.0</td><td>67.0</td><td>67.0</td><td>65.0</td><td>84.0</td><td>67.0</td></tr><tr><th>22</th><td>67.0</td><td>65.0</td><td>67.0</td><td>71.0</td><td>65.0</td><td>84.0</td><td>67.0</td><td>84.0</td><td>84.0</td></tr><tr><th>23</th><td>65.0</td><td>71.0</td><td>67.0</td><td>71.0</td><td>71.0</td><td>71.0</td><td>65.0</td><td>71.0</td><td>65.0</td></tr><tr><th>24</th><td>65.0</td><td>84.0</td><td>71.0</td><td>65.0</td><td>71.0</td><td>65.0</td><td>65.0</td><td>71.0</td><td>65.0</td></tr><tr><th>25</th><td>84.0</td><td>67.0</td><td>65.0</td><td>71.0</td><td>65.0</td><td>84.0</td><td>71.0</td><td>84.0</td><td>67.0</td></tr><tr><th>26</th><td>71.0</td><td>65.0</td><td>84.0</td><td>67.0</td><td>67.0</td><td>71.0</td><td>67.0</td><td>67.0</td><td>71.0</td></tr><tr><th>27</th><td>67.0</td><td>67.0</td><td>67.0</td><td>84.0</td><td>67.0</td><td>67.0</td><td>65.0</td><td>84.0</td><td>67.0</td></tr><tr><th>28</th><td>67.0</td><td>67.0</td><td>67.0</td><td>65.0</td><td>65.0</td><td>71.0</td><td>71.0</td><td>67.0</td><td>67.0</td></tr><tr><th>29</th><td>67.0</td><td>84.0</td><td>71.0</td><td>65.0</td><td>71.0</td><td>71.0</td><td>67.0</td><td>65.0</td><td>67.0</td></tr><tr><th>30</th><td>71.0</td><td>67.0</td><td>67.0</td><td>67.0</td><td>84.0</td><td>71.0</td><td>71.0</td><td>67.0</td><td>65.0</td></tr><tr><th>&vellip;</th><td>&vellip;</td><td>&vellip;</td><td>&vellip;</td><td>&vellip;</td><td>&vellip;</td><td>&vellip;</td><td>&vellip;</td><td>&vellip;</td><td>&vellip;</td></tr></tbody></table>"
      ],
      "text/latex": [
       "\\begin{tabular}{r|cccccccccc}\n",
       "\t& x1 & x2 & x3 & x4 & x5 & x6 & x7 & x8 & x9 & \\\\\n",
       "\t\\hline\n",
       "\t& Float64 & Float64 & Float64 & Float64 & Float64 & Float64 & Float64 & Float64 & Float64 & \\\\\n",
       "\t\\hline\n",
       "\t1 & 67.0 & 67.0 & 65.0 & 71.0 & 67.0 & 84.0 & 71.0 & 67.0 & 65.0 & $\\dots$ \\\\\n",
       "\t2 & 65.0 & 71.0 & 65.0 & 67.0 & 67.0 & 67.0 & 71.0 & 67.0 & 67.0 & $\\dots$ \\\\\n",
       "\t3 & 71.0 & 65.0 & 71.0 & 71.0 & 84.0 & 71.0 & 65.0 & 65.0 & 71.0 & $\\dots$ \\\\\n",
       "\t4 & 71.0 & 71.0 & 71.0 & 67.0 & 84.0 & 71.0 & 67.0 & 71.0 & 84.0 & $\\dots$ \\\\\n",
       "\t5 & 71.0 & 67.0 & 84.0 & 67.0 & 65.0 & 71.0 & 67.0 & 67.0 & 67.0 & $\\dots$ \\\\\n",
       "\t6 & 67.0 & 65.0 & 71.0 & 65.0 & 67.0 & 84.0 & 71.0 & 71.0 & 71.0 & $\\dots$ \\\\\n",
       "\t7 & 67.0 & 67.0 & 84.0 & 84.0 & 84.0 & 71.0 & 65.0 & 71.0 & 71.0 & $\\dots$ \\\\\n",
       "\t8 & 67.0 & 67.0 & 67.0 & 84.0 & 67.0 & 71.0 & 84.0 & 71.0 & 67.0 & $\\dots$ \\\\\n",
       "\t9 & 84.0 & 71.0 & 71.0 & 67.0 & 71.0 & 65.0 & 67.0 & 84.0 & 65.0 & $\\dots$ \\\\\n",
       "\t10 & 65.0 & 65.0 & 71.0 & 67.0 & 84.0 & 71.0 & 65.0 & 67.0 & 65.0 & $\\dots$ \\\\\n",
       "\t11 & 84.0 & 71.0 & 71.0 & 67.0 & 71.0 & 65.0 & 67.0 & 84.0 & 65.0 & $\\dots$ \\\\\n",
       "\t12 & 65.0 & 65.0 & 71.0 & 67.0 & 84.0 & 71.0 & 65.0 & 71.0 & 65.0 & $\\dots$ \\\\\n",
       "\t13 & 71.0 & 71.0 & 65.0 & 65.0 & 71.0 & 65.0 & 84.0 & 71.0 & 67.0 & $\\dots$ \\\\\n",
       "\t14 & 65.0 & 65.0 & 71.0 & 67.0 & 84.0 & 71.0 & 67.0 & 65.0 & 84.0 & $\\dots$ \\\\\n",
       "\t15 & 71.0 & 71.0 & 65.0 & 65.0 & 71.0 & 65.0 & 84.0 & 71.0 & 84.0 & $\\dots$ \\\\\n",
       "\t16 & 65.0 & 65.0 & 71.0 & 67.0 & 84.0 & 71.0 & 67.0 & 65.0 & 84.0 & $\\dots$ \\\\\n",
       "\t17 & 71.0 & 71.0 & 67.0 & 65.0 & 67.0 & 67.0 & 65.0 & 67.0 & 67.0 & $\\dots$ \\\\\n",
       "\t18 & 84.0 & 84.0 & 71.0 & 67.0 & 84.0 & 67.0 & 84.0 & 71.0 & 71.0 & $\\dots$ \\\\\n",
       "\t19 & 67.0 & 65.0 & 67.0 & 67.0 & 65.0 & 65.0 & 71.0 & 84.0 & 84.0 & $\\dots$ \\\\\n",
       "\t20 & 65.0 & 67.0 & 65.0 & 71.0 & 65.0 & 71.0 & 71.0 & 65.0 & 71.0 & $\\dots$ \\\\\n",
       "\t21 & 71.0 & 84.0 & 71.0 & 67.0 & 67.0 & 67.0 & 65.0 & 84.0 & 67.0 & $\\dots$ \\\\\n",
       "\t22 & 67.0 & 65.0 & 67.0 & 71.0 & 65.0 & 84.0 & 67.0 & 84.0 & 84.0 & $\\dots$ \\\\\n",
       "\t23 & 65.0 & 71.0 & 67.0 & 71.0 & 71.0 & 71.0 & 65.0 & 71.0 & 65.0 & $\\dots$ \\\\\n",
       "\t24 & 65.0 & 84.0 & 71.0 & 65.0 & 71.0 & 65.0 & 65.0 & 71.0 & 65.0 & $\\dots$ \\\\\n",
       "\t25 & 84.0 & 67.0 & 65.0 & 71.0 & 65.0 & 84.0 & 71.0 & 84.0 & 67.0 & $\\dots$ \\\\\n",
       "\t26 & 71.0 & 65.0 & 84.0 & 67.0 & 67.0 & 71.0 & 67.0 & 67.0 & 71.0 & $\\dots$ \\\\\n",
       "\t27 & 67.0 & 67.0 & 67.0 & 84.0 & 67.0 & 67.0 & 65.0 & 84.0 & 67.0 & $\\dots$ \\\\\n",
       "\t28 & 67.0 & 67.0 & 67.0 & 65.0 & 65.0 & 71.0 & 71.0 & 67.0 & 67.0 & $\\dots$ \\\\\n",
       "\t29 & 67.0 & 84.0 & 71.0 & 65.0 & 71.0 & 71.0 & 67.0 & 65.0 & 67.0 & $\\dots$ \\\\\n",
       "\t30 & 71.0 & 67.0 & 67.0 & 67.0 & 84.0 & 71.0 & 71.0 & 67.0 & 65.0 & $\\dots$ \\\\\n",
       "\t$\\dots$ & $\\dots$ & $\\dots$ & $\\dots$ & $\\dots$ & $\\dots$ & $\\dots$ & $\\dots$ & $\\dots$ & $\\dots$ &  \\\\\n",
       "\\end{tabular}\n"
      ],
      "text/plain": [
       "3190×60 DataFrame. Omitted printing of 53 columns\n",
       "│ Row  │ x1      │ x2      │ x3      │ x4      │ x5      │ x6      │ x7      │\n",
       "│      │ \u001b[90mFloat64\u001b[39m │ \u001b[90mFloat64\u001b[39m │ \u001b[90mFloat64\u001b[39m │ \u001b[90mFloat64\u001b[39m │ \u001b[90mFloat64\u001b[39m │ \u001b[90mFloat64\u001b[39m │ \u001b[90mFloat64\u001b[39m │\n",
       "├──────┼─────────┼─────────┼─────────┼─────────┼─────────┼─────────┼─────────┤\n",
       "│ 1    │ 67.0    │ 67.0    │ 65.0    │ 71.0    │ 67.0    │ 84.0    │ 71.0    │\n",
       "│ 2    │ 65.0    │ 71.0    │ 65.0    │ 67.0    │ 67.0    │ 67.0    │ 71.0    │\n",
       "│ 3    │ 71.0    │ 65.0    │ 71.0    │ 71.0    │ 84.0    │ 71.0    │ 65.0    │\n",
       "│ 4    │ 71.0    │ 71.0    │ 71.0    │ 67.0    │ 84.0    │ 71.0    │ 67.0    │\n",
       "│ 5    │ 71.0    │ 67.0    │ 84.0    │ 67.0    │ 65.0    │ 71.0    │ 67.0    │\n",
       "│ 6    │ 67.0    │ 65.0    │ 71.0    │ 65.0    │ 67.0    │ 84.0    │ 71.0    │\n",
       "│ 7    │ 67.0    │ 67.0    │ 84.0    │ 84.0    │ 84.0    │ 71.0    │ 65.0    │\n",
       "│ 8    │ 67.0    │ 67.0    │ 67.0    │ 84.0    │ 67.0    │ 71.0    │ 84.0    │\n",
       "│ 9    │ 84.0    │ 71.0    │ 71.0    │ 67.0    │ 71.0    │ 65.0    │ 67.0    │\n",
       "│ 10   │ 65.0    │ 65.0    │ 71.0    │ 67.0    │ 84.0    │ 71.0    │ 65.0    │\n",
       "⋮\n",
       "│ 3180 │ 67.0    │ 67.0    │ 84.0    │ 67.0    │ 65.0    │ 71.0    │ 84.0    │\n",
       "│ 3181 │ 67.0    │ 67.0    │ 84.0    │ 71.0    │ 67.0    │ 67.0    │ 71.0    │\n",
       "│ 3182 │ 67.0    │ 84.0    │ 71.0    │ 71.0    │ 65.0    │ 65.0    │ 71.0    │\n",
       "│ 3183 │ 84.0    │ 71.0    │ 84.0    │ 84.0    │ 84.0    │ 67.0    │ 84.0    │\n",
       "│ 3184 │ 84.0    │ 65.0    │ 65.0    │ 65.0    │ 65.0    │ 65.0    │ 65.0    │\n",
       "│ 3185 │ 65.0    │ 84.0    │ 67.0    │ 65.0    │ 65.0    │ 84.0    │ 65.0    │\n",
       "│ 3186 │ 84.0    │ 67.0    │ 84.0    │ 67.0    │ 84.0    │ 84.0    │ 67.0    │\n",
       "│ 3187 │ 71.0    │ 65.0    │ 71.0    │ 67.0    │ 84.0    │ 67.0    │ 67.0    │\n",
       "│ 3188 │ 84.0    │ 67.0    │ 84.0    │ 67.0    │ 71.0    │ 71.0    │ 71.0    │\n",
       "│ 3189 │ 65.0    │ 84.0    │ 84.0    │ 67.0    │ 84.0    │ 65.0    │ 67.0    │\n",
       "│ 3190 │ 65.0    │ 71.0    │ 71.0    │ 67.0    │ 84.0    │ 71.0    │ 67.0    │"
      ]
     },
     "execution_count": 4,
     "metadata": {},
     "output_type": "execute_result"
    }
   ],
   "source": [
    "data = separate_bases(df)"
   ]
  },
  {
   "cell_type": "code",
   "execution_count": 5,
   "metadata": {},
   "outputs": [
    {
     "data": {
      "text/html": [
       "<table class=\"data-frame\"><thead><tr><th></th><th>Class</th><th> Instance</th><th>                       Nucleotide_Sequence</th></tr><tr><th></th><th>String</th><th>String</th><th>String</th></tr></thead><tbody><p>3,190 rows × 63 columns (omitted printing of 60 columns)</p><tr><th>1</th><td>EI</td><td>    ATRINS-DONOR-521</td><td>               CCAGCTGCATCACAGGAGGCCAGCGAGCAGGTCTGTTCCAAGGGCCTTCGAGCCAGTCTG</td></tr><tr><th>2</th><td>EI</td><td>    ATRINS-DONOR-905</td><td>               AGACCCGCCGGGAGGCGGAGGACCTGCAGGGTGAGCCCCACCGCCCCTCCGTGCCCCCGC</td></tr><tr><th>3</th><td>EI</td><td>    BABAPOE-DONOR-30</td><td>               GAGGTGAAGGACGTCCTTCCCCAGGAGCCGGTGAGAAGCGCAGTCGGGGGCACGGGGATG</td></tr><tr><th>4</th><td>EI</td><td>    BABAPOE-DONOR-867</td><td>              GGGCTGCGTTGCTGGTCACATTCCTGGCAGGTATGGGGCGGGGCTTGCTCGGTTTTCCCC</td></tr><tr><th>5</th><td>EI</td><td>    BABAPOE-DONOR-2817</td><td>             GCTCAGCCCCCAGGTCACCCAGGAACTGACGTGAGTGTCCCCATCCCGGCCCTTGACCCT</td></tr><tr><th>6</th><td>EI</td><td>    CHPIGECA-DONOR-378</td><td>             CAGACTGGGTGGACAACAAAACCTTCAGCGGTAAGAGAGGGCCAAGCTCAGAGACCACAG</td></tr><tr><th>7</th><td>EI</td><td>    CHPIGECA-DONOR-903</td><td>             CCTTTGAGGACAGCACCAAGAAGTGTGCAGGTACGTTCCCACCTGCCCTGGTGGCCGCCA</td></tr><tr><th>8</th><td>EI</td><td>    CHPIGECA-DONOR-1313</td><td>            CCCTCGTGCGGTCCACGACCAAGACCAGCGGTGAGCCACGGGCAGGCCGGGGTCGTGGGG</td></tr><tr><th>9</th><td>EI</td><td>    GCRHBBA1-DONOR-1260</td><td>            TGGCGACTACGGCGCGGAGGCCCTGGAGAGGTGAGGACCCTCCTGTCCCTGCTCCAGTCC</td></tr><tr><th>10</th><td>EI</td><td>    GCRHBBA1-DONOR-1590</td><td>            AAGCTGACAGTGGACCCGGTCAACTTCAAGGTGAGCCAGGAGTCGGGTGGGAGGGTGAGA</td></tr><tr><th>11</th><td>EI</td><td>    GCRHBBA6-DONOR-461</td><td>             TGGCGACTACGGCGCGGAGGCCCTGGAGAGGTGAGGACCCTGGTATCCCTGCTGCCAGTC</td></tr><tr><th>12</th><td>EI</td><td>    GCRHBBA6-DONOR-795</td><td>             AAGCTGAGAGTGGACCCTGTCAACTTCAAGGTGAGCCACCAGTCGGGTGGGGAGGGTGAG</td></tr><tr><th>13</th><td>EI</td><td>    GIBHBGGL-DONOR-2278</td><td>            GGAAGATGCTGGAGGAGAAACCCTGGGAAGGTAGGCTCTGGTGACCAGGACAAGGGAGGG</td></tr><tr><th>14</th><td>EI</td><td>    GIBHBGGL-DONOR-2624</td><td>            AAGCTGCATGTGGATCCTGAGAACTTCAGGGTGAGTACAGGAGATGTTTCAGCCCTGTTG</td></tr><tr><th>15</th><td>EI</td><td>    GIBHBGGL-DONOR-7198</td><td>            GGAAGATGTTGGAGGAGAAACCCTGGGAAGGTAGGCTCTGGTGACCAGGACAAGGGAGGG</td></tr><tr><th>16</th><td>EI</td><td>    GIBHBGGL-DONOR-7544</td><td>            AAGCTGCATGTGGATCCTGAGAACTTCAGGGTGAGTACAGGAGATGTTTCAGCCCTGTTG</td></tr><tr><th>17</th><td>EI</td><td>    HUMA1ATP-DONOR-1972</td><td>            GGCACCACCACTGACCTGGGACAGTGAATCGTAAGTATGCCTTTCACTGCGAGGGGTTCT</td></tr><tr><th>18</th><td>EI</td><td>    HUMA1ATP-DONOR-7932</td><td>            TTGCTCTGGTGAATTACATCTTCTTTAAAGGTAAGGTTGCTCAACCAGCCTGAGCTGTTT</td></tr><tr><th>19</th><td>EI</td><td>    HUMA1ATP-DONOR-9653</td><td>            CACCAAGTTCCTGGAAAATGAAGACAGAAGGTGATTCCCCAACCTGAGGGTGACCAAGAA</td></tr><tr><th>20</th><td>EI</td><td>    HUMA1ATP-DONOR-11057</td><td>           ACAGAGGAGGCACCCCTGAAGCTCTCCAAGGTGAGATCACCCTGACGACCTTGTTGCACC</td></tr><tr><th>21</th><td>EI</td><td>    HUMA1GLY2-DONOR-1693</td><td>           GTGCCCATCACCAACGCCACCCTGGACCGGGTGAGTGCCTGGGCTAGCCCTGTCCTGAGC</td></tr><tr><th>22</th><td>EI</td><td>    HUMA1GLY2-DONOR-2251</td><td>           CACGATCTTTCTCAGAGAGTACCAGACCCGGTGAGAGCCCCCATTCCAATGCACCCCCGA</td></tr><tr><th>23</th><td>EI</td><td>    HUMA1GLY2-DONOR-2540</td><td>           AGCGGGAGAATGGGACCGTCTCCAGATACGGTGAGGGCCAGCCCTCAGGCAGGAGGGTTC</td></tr><tr><th>24</th><td>EI</td><td>    HUMA1GLY2-DONOR-3352</td><td>           ATGAGAAGAACTGGGGGCTGTCTTTCTATGGTAGGCATGCTTAGCAGCCCCAAACTCATG</td></tr><tr><th>25</th><td>EI</td><td>    HUMA1GLY2-DONOR-3606</td><td>           TCAGATGTCATGTACACCGACTGGAAAAAGGTAAACGCAAGGGATTGGACATTGCCCACC</td></tr><tr><th>26</th><td>EI</td><td>    HUMACCYBA-DONOR-289</td><td>            GATCCGCCGCCCGTCCACACCCGCCGCCAGGTAAGCCCGGCCAGCCGACCGGGGCATGCG</td></tr><tr><th>27</th><td>EI</td><td>    HUMACCYBA-DONOR-1250</td><td>           CCCTCCATCGTGGGGCGCCCCAGGCACCAGGTAGGGGAGCTGGCTGGGTGGGGCAGCCCC</td></tr><tr><th>28</th><td>EI</td><td>    HUMACCYBA-DONOR-1624</td><td>           CCCAAGGCCAACCGCGAGAAGATGACCCAGGTGAGTGGCCCGCTACCTCTTCTGGTGGCC</td></tr><tr><th>29</th><td>EI</td><td>    HUMACCYBA-DONOR-2504</td><td>           CTGAGGCACTCTTCCAGCCTTCCTTCCTGGGTGAGTGGAGACTGTCTCCCGGCTCTGCCT</td></tr><tr><th>30</th><td>EI</td><td>    HUMACCYBA-DONOR-2781</td><td>           GCCCTGGCACCCAGCACAATGAAGATCAAGGTGGGTGTCTTTCCTGCCTGAGCTGACCTG</td></tr><tr><th>&vellip;</th><td>&vellip;</td><td>&vellip;</td><td>&vellip;</td></tr></tbody></table>"
      ],
      "text/latex": [
       "\\begin{tabular}{r|cccc}\n",
       "\t& Class &  Instance &                        Nucleotide\\_Sequence & \\\\\n",
       "\t\\hline\n",
       "\t& String & String & String & \\\\\n",
       "\t\\hline\n",
       "\t1 & EI &     ATRINS-DONOR-521 &                CCAGCTGCATCACAGGAGGCCAGCGAGCAGGTCTGTTCCAAGGGCCTTCGAGCCAGTCTG & $\\dots$ \\\\\n",
       "\t2 & EI &     ATRINS-DONOR-905 &                AGACCCGCCGGGAGGCGGAGGACCTGCAGGGTGAGCCCCACCGCCCCTCCGTGCCCCCGC & $\\dots$ \\\\\n",
       "\t3 & EI &     BABAPOE-DONOR-30 &                GAGGTGAAGGACGTCCTTCCCCAGGAGCCGGTGAGAAGCGCAGTCGGGGGCACGGGGATG & $\\dots$ \\\\\n",
       "\t4 & EI &     BABAPOE-DONOR-867 &               GGGCTGCGTTGCTGGTCACATTCCTGGCAGGTATGGGGCGGGGCTTGCTCGGTTTTCCCC & $\\dots$ \\\\\n",
       "\t5 & EI &     BABAPOE-DONOR-2817 &              GCTCAGCCCCCAGGTCACCCAGGAACTGACGTGAGTGTCCCCATCCCGGCCCTTGACCCT & $\\dots$ \\\\\n",
       "\t6 & EI &     CHPIGECA-DONOR-378 &              CAGACTGGGTGGACAACAAAACCTTCAGCGGTAAGAGAGGGCCAAGCTCAGAGACCACAG & $\\dots$ \\\\\n",
       "\t7 & EI &     CHPIGECA-DONOR-903 &              CCTTTGAGGACAGCACCAAGAAGTGTGCAGGTACGTTCCCACCTGCCCTGGTGGCCGCCA & $\\dots$ \\\\\n",
       "\t8 & EI &     CHPIGECA-DONOR-1313 &             CCCTCGTGCGGTCCACGACCAAGACCAGCGGTGAGCCACGGGCAGGCCGGGGTCGTGGGG & $\\dots$ \\\\\n",
       "\t9 & EI &     GCRHBBA1-DONOR-1260 &             TGGCGACTACGGCGCGGAGGCCCTGGAGAGGTGAGGACCCTCCTGTCCCTGCTCCAGTCC & $\\dots$ \\\\\n",
       "\t10 & EI &     GCRHBBA1-DONOR-1590 &             AAGCTGACAGTGGACCCGGTCAACTTCAAGGTGAGCCAGGAGTCGGGTGGGAGGGTGAGA & $\\dots$ \\\\\n",
       "\t11 & EI &     GCRHBBA6-DONOR-461 &              TGGCGACTACGGCGCGGAGGCCCTGGAGAGGTGAGGACCCTGGTATCCCTGCTGCCAGTC & $\\dots$ \\\\\n",
       "\t12 & EI &     GCRHBBA6-DONOR-795 &              AAGCTGAGAGTGGACCCTGTCAACTTCAAGGTGAGCCACCAGTCGGGTGGGGAGGGTGAG & $\\dots$ \\\\\n",
       "\t13 & EI &     GIBHBGGL-DONOR-2278 &             GGAAGATGCTGGAGGAGAAACCCTGGGAAGGTAGGCTCTGGTGACCAGGACAAGGGAGGG & $\\dots$ \\\\\n",
       "\t14 & EI &     GIBHBGGL-DONOR-2624 &             AAGCTGCATGTGGATCCTGAGAACTTCAGGGTGAGTACAGGAGATGTTTCAGCCCTGTTG & $\\dots$ \\\\\n",
       "\t15 & EI &     GIBHBGGL-DONOR-7198 &             GGAAGATGTTGGAGGAGAAACCCTGGGAAGGTAGGCTCTGGTGACCAGGACAAGGGAGGG & $\\dots$ \\\\\n",
       "\t16 & EI &     GIBHBGGL-DONOR-7544 &             AAGCTGCATGTGGATCCTGAGAACTTCAGGGTGAGTACAGGAGATGTTTCAGCCCTGTTG & $\\dots$ \\\\\n",
       "\t17 & EI &     HUMA1ATP-DONOR-1972 &             GGCACCACCACTGACCTGGGACAGTGAATCGTAAGTATGCCTTTCACTGCGAGGGGTTCT & $\\dots$ \\\\\n",
       "\t18 & EI &     HUMA1ATP-DONOR-7932 &             TTGCTCTGGTGAATTACATCTTCTTTAAAGGTAAGGTTGCTCAACCAGCCTGAGCTGTTT & $\\dots$ \\\\\n",
       "\t19 & EI &     HUMA1ATP-DONOR-9653 &             CACCAAGTTCCTGGAAAATGAAGACAGAAGGTGATTCCCCAACCTGAGGGTGACCAAGAA & $\\dots$ \\\\\n",
       "\t20 & EI &     HUMA1ATP-DONOR-11057 &            ACAGAGGAGGCACCCCTGAAGCTCTCCAAGGTGAGATCACCCTGACGACCTTGTTGCACC & $\\dots$ \\\\\n",
       "\t21 & EI &     HUMA1GLY2-DONOR-1693 &            GTGCCCATCACCAACGCCACCCTGGACCGGGTGAGTGCCTGGGCTAGCCCTGTCCTGAGC & $\\dots$ \\\\\n",
       "\t22 & EI &     HUMA1GLY2-DONOR-2251 &            CACGATCTTTCTCAGAGAGTACCAGACCCGGTGAGAGCCCCCATTCCAATGCACCCCCGA & $\\dots$ \\\\\n",
       "\t23 & EI &     HUMA1GLY2-DONOR-2540 &            AGCGGGAGAATGGGACCGTCTCCAGATACGGTGAGGGCCAGCCCTCAGGCAGGAGGGTTC & $\\dots$ \\\\\n",
       "\t24 & EI &     HUMA1GLY2-DONOR-3352 &            ATGAGAAGAACTGGGGGCTGTCTTTCTATGGTAGGCATGCTTAGCAGCCCCAAACTCATG & $\\dots$ \\\\\n",
       "\t25 & EI &     HUMA1GLY2-DONOR-3606 &            TCAGATGTCATGTACACCGACTGGAAAAAGGTAAACGCAAGGGATTGGACATTGCCCACC & $\\dots$ \\\\\n",
       "\t26 & EI &     HUMACCYBA-DONOR-289 &             GATCCGCCGCCCGTCCACACCCGCCGCCAGGTAAGCCCGGCCAGCCGACCGGGGCATGCG & $\\dots$ \\\\\n",
       "\t27 & EI &     HUMACCYBA-DONOR-1250 &            CCCTCCATCGTGGGGCGCCCCAGGCACCAGGTAGGGGAGCTGGCTGGGTGGGGCAGCCCC & $\\dots$ \\\\\n",
       "\t28 & EI &     HUMACCYBA-DONOR-1624 &            CCCAAGGCCAACCGCGAGAAGATGACCCAGGTGAGTGGCCCGCTACCTCTTCTGGTGGCC & $\\dots$ \\\\\n",
       "\t29 & EI &     HUMACCYBA-DONOR-2504 &            CTGAGGCACTCTTCCAGCCTTCCTTCCTGGGTGAGTGGAGACTGTCTCCCGGCTCTGCCT & $\\dots$ \\\\\n",
       "\t30 & EI &     HUMACCYBA-DONOR-2781 &            GCCCTGGCACCCAGCACAATGAAGATCAAGGTGGGTGTCTTTCCTGCCTGAGCTGACCTG & $\\dots$ \\\\\n",
       "\t$\\dots$ & $\\dots$ & $\\dots$ & $\\dots$ &  \\\\\n",
       "\\end{tabular}\n"
      ],
      "text/plain": [
       "3190×63 DataFrame. Omitted printing of 61 columns\n",
       "│ Row  │ Class  │  Instance               │\n",
       "│      │ \u001b[90mString\u001b[39m │ \u001b[90mString\u001b[39m                  │\n",
       "├──────┼────────┼─────────────────────────┤\n",
       "│ 1    │ EI     │     ATRINS-DONOR-521    │\n",
       "│ 2    │ EI     │     ATRINS-DONOR-905    │\n",
       "│ 3    │ EI     │     BABAPOE-DONOR-30    │\n",
       "│ 4    │ EI     │     BABAPOE-DONOR-867   │\n",
       "│ 5    │ EI     │     BABAPOE-DONOR-2817  │\n",
       "│ 6    │ EI     │     CHPIGECA-DONOR-378  │\n",
       "│ 7    │ EI     │     CHPIGECA-DONOR-903  │\n",
       "│ 8    │ EI     │     CHPIGECA-DONOR-1313 │\n",
       "│ 9    │ EI     │     GCRHBBA1-DONOR-1260 │\n",
       "│ 10   │ EI     │     GCRHBBA1-DONOR-1590 │\n",
       "⋮\n",
       "│ 3180 │ N      │      MNKHBPSBD-NEG-961  │\n",
       "│ 3181 │ N      │      ORAHBA01-NEG-121   │\n",
       "│ 3182 │ N      │      ORAHBBE-NEG-2581   │\n",
       "│ 3183 │ N      │      ORAHBBPSE-NEG-2101 │\n",
       "│ 3184 │ N      │      ORAHBBPSE-NEG-6661 │\n",
       "│ 3185 │ N      │      ORAHBG2F-NEG-181   │\n",
       "│ 3186 │ N      │      ORAHBPSBD-NEG-2881 │\n",
       "│ 3187 │ N      │      ORAINVOL-NEG-2161  │\n",
       "│ 3188 │ N      │      ORARGIT-NEG-241    │\n",
       "│ 3189 │ N      │      TARHBB-NEG-541     │\n",
       "│ 3190 │ N      │      TARHBD-NEG-1981    │"
      ]
     },
     "execution_count": 5,
     "metadata": {},
     "output_type": "execute_result"
    }
   ],
   "source": [
    "data = hcat(df,data)"
   ]
  },
  {
   "cell_type": "code",
   "execution_count": 6,
   "metadata": {},
   "outputs": [
    {
     "data": {
      "text/html": [
       "<table class=\"data-frame\"><thead><tr><th></th><th>Class</th><th>x1</th><th>x2</th><th>x3</th><th>x4</th><th>x5</th><th>x6</th><th>x7</th><th>x8</th></tr><tr><th></th><th>String</th><th>Float64</th><th>Float64</th><th>Float64</th><th>Float64</th><th>Float64</th><th>Float64</th><th>Float64</th><th>Float64</th></tr></thead><tbody><p>3,190 rows × 61 columns (omitted printing of 52 columns)</p><tr><th>1</th><td>EI</td><td>67.0</td><td>67.0</td><td>65.0</td><td>71.0</td><td>67.0</td><td>84.0</td><td>71.0</td><td>67.0</td></tr><tr><th>2</th><td>EI</td><td>65.0</td><td>71.0</td><td>65.0</td><td>67.0</td><td>67.0</td><td>67.0</td><td>71.0</td><td>67.0</td></tr><tr><th>3</th><td>EI</td><td>71.0</td><td>65.0</td><td>71.0</td><td>71.0</td><td>84.0</td><td>71.0</td><td>65.0</td><td>65.0</td></tr><tr><th>4</th><td>EI</td><td>71.0</td><td>71.0</td><td>71.0</td><td>67.0</td><td>84.0</td><td>71.0</td><td>67.0</td><td>71.0</td></tr><tr><th>5</th><td>EI</td><td>71.0</td><td>67.0</td><td>84.0</td><td>67.0</td><td>65.0</td><td>71.0</td><td>67.0</td><td>67.0</td></tr><tr><th>6</th><td>EI</td><td>67.0</td><td>65.0</td><td>71.0</td><td>65.0</td><td>67.0</td><td>84.0</td><td>71.0</td><td>71.0</td></tr><tr><th>7</th><td>EI</td><td>67.0</td><td>67.0</td><td>84.0</td><td>84.0</td><td>84.0</td><td>71.0</td><td>65.0</td><td>71.0</td></tr><tr><th>8</th><td>EI</td><td>67.0</td><td>67.0</td><td>67.0</td><td>84.0</td><td>67.0</td><td>71.0</td><td>84.0</td><td>71.0</td></tr><tr><th>9</th><td>EI</td><td>84.0</td><td>71.0</td><td>71.0</td><td>67.0</td><td>71.0</td><td>65.0</td><td>67.0</td><td>84.0</td></tr><tr><th>10</th><td>EI</td><td>65.0</td><td>65.0</td><td>71.0</td><td>67.0</td><td>84.0</td><td>71.0</td><td>65.0</td><td>67.0</td></tr><tr><th>11</th><td>EI</td><td>84.0</td><td>71.0</td><td>71.0</td><td>67.0</td><td>71.0</td><td>65.0</td><td>67.0</td><td>84.0</td></tr><tr><th>12</th><td>EI</td><td>65.0</td><td>65.0</td><td>71.0</td><td>67.0</td><td>84.0</td><td>71.0</td><td>65.0</td><td>71.0</td></tr><tr><th>13</th><td>EI</td><td>71.0</td><td>71.0</td><td>65.0</td><td>65.0</td><td>71.0</td><td>65.0</td><td>84.0</td><td>71.0</td></tr><tr><th>14</th><td>EI</td><td>65.0</td><td>65.0</td><td>71.0</td><td>67.0</td><td>84.0</td><td>71.0</td><td>67.0</td><td>65.0</td></tr><tr><th>15</th><td>EI</td><td>71.0</td><td>71.0</td><td>65.0</td><td>65.0</td><td>71.0</td><td>65.0</td><td>84.0</td><td>71.0</td></tr><tr><th>16</th><td>EI</td><td>65.0</td><td>65.0</td><td>71.0</td><td>67.0</td><td>84.0</td><td>71.0</td><td>67.0</td><td>65.0</td></tr><tr><th>17</th><td>EI</td><td>71.0</td><td>71.0</td><td>67.0</td><td>65.0</td><td>67.0</td><td>67.0</td><td>65.0</td><td>67.0</td></tr><tr><th>18</th><td>EI</td><td>84.0</td><td>84.0</td><td>71.0</td><td>67.0</td><td>84.0</td><td>67.0</td><td>84.0</td><td>71.0</td></tr><tr><th>19</th><td>EI</td><td>67.0</td><td>65.0</td><td>67.0</td><td>67.0</td><td>65.0</td><td>65.0</td><td>71.0</td><td>84.0</td></tr><tr><th>20</th><td>EI</td><td>65.0</td><td>67.0</td><td>65.0</td><td>71.0</td><td>65.0</td><td>71.0</td><td>71.0</td><td>65.0</td></tr><tr><th>21</th><td>EI</td><td>71.0</td><td>84.0</td><td>71.0</td><td>67.0</td><td>67.0</td><td>67.0</td><td>65.0</td><td>84.0</td></tr><tr><th>22</th><td>EI</td><td>67.0</td><td>65.0</td><td>67.0</td><td>71.0</td><td>65.0</td><td>84.0</td><td>67.0</td><td>84.0</td></tr><tr><th>23</th><td>EI</td><td>65.0</td><td>71.0</td><td>67.0</td><td>71.0</td><td>71.0</td><td>71.0</td><td>65.0</td><td>71.0</td></tr><tr><th>24</th><td>EI</td><td>65.0</td><td>84.0</td><td>71.0</td><td>65.0</td><td>71.0</td><td>65.0</td><td>65.0</td><td>71.0</td></tr><tr><th>25</th><td>EI</td><td>84.0</td><td>67.0</td><td>65.0</td><td>71.0</td><td>65.0</td><td>84.0</td><td>71.0</td><td>84.0</td></tr><tr><th>26</th><td>EI</td><td>71.0</td><td>65.0</td><td>84.0</td><td>67.0</td><td>67.0</td><td>71.0</td><td>67.0</td><td>67.0</td></tr><tr><th>27</th><td>EI</td><td>67.0</td><td>67.0</td><td>67.0</td><td>84.0</td><td>67.0</td><td>67.0</td><td>65.0</td><td>84.0</td></tr><tr><th>28</th><td>EI</td><td>67.0</td><td>67.0</td><td>67.0</td><td>65.0</td><td>65.0</td><td>71.0</td><td>71.0</td><td>67.0</td></tr><tr><th>29</th><td>EI</td><td>67.0</td><td>84.0</td><td>71.0</td><td>65.0</td><td>71.0</td><td>71.0</td><td>67.0</td><td>65.0</td></tr><tr><th>30</th><td>EI</td><td>71.0</td><td>67.0</td><td>67.0</td><td>67.0</td><td>84.0</td><td>71.0</td><td>71.0</td><td>67.0</td></tr><tr><th>&vellip;</th><td>&vellip;</td><td>&vellip;</td><td>&vellip;</td><td>&vellip;</td><td>&vellip;</td><td>&vellip;</td><td>&vellip;</td><td>&vellip;</td><td>&vellip;</td></tr></tbody></table>"
      ],
      "text/latex": [
       "\\begin{tabular}{r|cccccccccc}\n",
       "\t& Class & x1 & x2 & x3 & x4 & x5 & x6 & x7 & x8 & \\\\\n",
       "\t\\hline\n",
       "\t& String & Float64 & Float64 & Float64 & Float64 & Float64 & Float64 & Float64 & Float64 & \\\\\n",
       "\t\\hline\n",
       "\t1 & EI & 67.0 & 67.0 & 65.0 & 71.0 & 67.0 & 84.0 & 71.0 & 67.0 & $\\dots$ \\\\\n",
       "\t2 & EI & 65.0 & 71.0 & 65.0 & 67.0 & 67.0 & 67.0 & 71.0 & 67.0 & $\\dots$ \\\\\n",
       "\t3 & EI & 71.0 & 65.0 & 71.0 & 71.0 & 84.0 & 71.0 & 65.0 & 65.0 & $\\dots$ \\\\\n",
       "\t4 & EI & 71.0 & 71.0 & 71.0 & 67.0 & 84.0 & 71.0 & 67.0 & 71.0 & $\\dots$ \\\\\n",
       "\t5 & EI & 71.0 & 67.0 & 84.0 & 67.0 & 65.0 & 71.0 & 67.0 & 67.0 & $\\dots$ \\\\\n",
       "\t6 & EI & 67.0 & 65.0 & 71.0 & 65.0 & 67.0 & 84.0 & 71.0 & 71.0 & $\\dots$ \\\\\n",
       "\t7 & EI & 67.0 & 67.0 & 84.0 & 84.0 & 84.0 & 71.0 & 65.0 & 71.0 & $\\dots$ \\\\\n",
       "\t8 & EI & 67.0 & 67.0 & 67.0 & 84.0 & 67.0 & 71.0 & 84.0 & 71.0 & $\\dots$ \\\\\n",
       "\t9 & EI & 84.0 & 71.0 & 71.0 & 67.0 & 71.0 & 65.0 & 67.0 & 84.0 & $\\dots$ \\\\\n",
       "\t10 & EI & 65.0 & 65.0 & 71.0 & 67.0 & 84.0 & 71.0 & 65.0 & 67.0 & $\\dots$ \\\\\n",
       "\t11 & EI & 84.0 & 71.0 & 71.0 & 67.0 & 71.0 & 65.0 & 67.0 & 84.0 & $\\dots$ \\\\\n",
       "\t12 & EI & 65.0 & 65.0 & 71.0 & 67.0 & 84.0 & 71.0 & 65.0 & 71.0 & $\\dots$ \\\\\n",
       "\t13 & EI & 71.0 & 71.0 & 65.0 & 65.0 & 71.0 & 65.0 & 84.0 & 71.0 & $\\dots$ \\\\\n",
       "\t14 & EI & 65.0 & 65.0 & 71.0 & 67.0 & 84.0 & 71.0 & 67.0 & 65.0 & $\\dots$ \\\\\n",
       "\t15 & EI & 71.0 & 71.0 & 65.0 & 65.0 & 71.0 & 65.0 & 84.0 & 71.0 & $\\dots$ \\\\\n",
       "\t16 & EI & 65.0 & 65.0 & 71.0 & 67.0 & 84.0 & 71.0 & 67.0 & 65.0 & $\\dots$ \\\\\n",
       "\t17 & EI & 71.0 & 71.0 & 67.0 & 65.0 & 67.0 & 67.0 & 65.0 & 67.0 & $\\dots$ \\\\\n",
       "\t18 & EI & 84.0 & 84.0 & 71.0 & 67.0 & 84.0 & 67.0 & 84.0 & 71.0 & $\\dots$ \\\\\n",
       "\t19 & EI & 67.0 & 65.0 & 67.0 & 67.0 & 65.0 & 65.0 & 71.0 & 84.0 & $\\dots$ \\\\\n",
       "\t20 & EI & 65.0 & 67.0 & 65.0 & 71.0 & 65.0 & 71.0 & 71.0 & 65.0 & $\\dots$ \\\\\n",
       "\t21 & EI & 71.0 & 84.0 & 71.0 & 67.0 & 67.0 & 67.0 & 65.0 & 84.0 & $\\dots$ \\\\\n",
       "\t22 & EI & 67.0 & 65.0 & 67.0 & 71.0 & 65.0 & 84.0 & 67.0 & 84.0 & $\\dots$ \\\\\n",
       "\t23 & EI & 65.0 & 71.0 & 67.0 & 71.0 & 71.0 & 71.0 & 65.0 & 71.0 & $\\dots$ \\\\\n",
       "\t24 & EI & 65.0 & 84.0 & 71.0 & 65.0 & 71.0 & 65.0 & 65.0 & 71.0 & $\\dots$ \\\\\n",
       "\t25 & EI & 84.0 & 67.0 & 65.0 & 71.0 & 65.0 & 84.0 & 71.0 & 84.0 & $\\dots$ \\\\\n",
       "\t26 & EI & 71.0 & 65.0 & 84.0 & 67.0 & 67.0 & 71.0 & 67.0 & 67.0 & $\\dots$ \\\\\n",
       "\t27 & EI & 67.0 & 67.0 & 67.0 & 84.0 & 67.0 & 67.0 & 65.0 & 84.0 & $\\dots$ \\\\\n",
       "\t28 & EI & 67.0 & 67.0 & 67.0 & 65.0 & 65.0 & 71.0 & 71.0 & 67.0 & $\\dots$ \\\\\n",
       "\t29 & EI & 67.0 & 84.0 & 71.0 & 65.0 & 71.0 & 71.0 & 67.0 & 65.0 & $\\dots$ \\\\\n",
       "\t30 & EI & 71.0 & 67.0 & 67.0 & 67.0 & 84.0 & 71.0 & 71.0 & 67.0 & $\\dots$ \\\\\n",
       "\t$\\dots$ & $\\dots$ & $\\dots$ & $\\dots$ & $\\dots$ & $\\dots$ & $\\dots$ & $\\dots$ & $\\dots$ & $\\dots$ &  \\\\\n",
       "\\end{tabular}\n"
      ],
      "text/plain": [
       "3190×61 DataFrame. Omitted printing of 54 columns\n",
       "│ Row  │ Class  │ x1      │ x2      │ x3      │ x4      │ x5      │ x6      │\n",
       "│      │ \u001b[90mString\u001b[39m │ \u001b[90mFloat64\u001b[39m │ \u001b[90mFloat64\u001b[39m │ \u001b[90mFloat64\u001b[39m │ \u001b[90mFloat64\u001b[39m │ \u001b[90mFloat64\u001b[39m │ \u001b[90mFloat64\u001b[39m │\n",
       "├──────┼────────┼─────────┼─────────┼─────────┼─────────┼─────────┼─────────┤\n",
       "│ 1    │ EI     │ 67.0    │ 67.0    │ 65.0    │ 71.0    │ 67.0    │ 84.0    │\n",
       "│ 2    │ EI     │ 65.0    │ 71.0    │ 65.0    │ 67.0    │ 67.0    │ 67.0    │\n",
       "│ 3    │ EI     │ 71.0    │ 65.0    │ 71.0    │ 71.0    │ 84.0    │ 71.0    │\n",
       "│ 4    │ EI     │ 71.0    │ 71.0    │ 71.0    │ 67.0    │ 84.0    │ 71.0    │\n",
       "│ 5    │ EI     │ 71.0    │ 67.0    │ 84.0    │ 67.0    │ 65.0    │ 71.0    │\n",
       "│ 6    │ EI     │ 67.0    │ 65.0    │ 71.0    │ 65.0    │ 67.0    │ 84.0    │\n",
       "│ 7    │ EI     │ 67.0    │ 67.0    │ 84.0    │ 84.0    │ 84.0    │ 71.0    │\n",
       "│ 8    │ EI     │ 67.0    │ 67.0    │ 67.0    │ 84.0    │ 67.0    │ 71.0    │\n",
       "│ 9    │ EI     │ 84.0    │ 71.0    │ 71.0    │ 67.0    │ 71.0    │ 65.0    │\n",
       "│ 10   │ EI     │ 65.0    │ 65.0    │ 71.0    │ 67.0    │ 84.0    │ 71.0    │\n",
       "⋮\n",
       "│ 3180 │ N      │ 67.0    │ 67.0    │ 84.0    │ 67.0    │ 65.0    │ 71.0    │\n",
       "│ 3181 │ N      │ 67.0    │ 67.0    │ 84.0    │ 71.0    │ 67.0    │ 67.0    │\n",
       "│ 3182 │ N      │ 67.0    │ 84.0    │ 71.0    │ 71.0    │ 65.0    │ 65.0    │\n",
       "│ 3183 │ N      │ 84.0    │ 71.0    │ 84.0    │ 84.0    │ 84.0    │ 67.0    │\n",
       "│ 3184 │ N      │ 84.0    │ 65.0    │ 65.0    │ 65.0    │ 65.0    │ 65.0    │\n",
       "│ 3185 │ N      │ 65.0    │ 84.0    │ 67.0    │ 65.0    │ 65.0    │ 84.0    │\n",
       "│ 3186 │ N      │ 84.0    │ 67.0    │ 84.0    │ 67.0    │ 84.0    │ 84.0    │\n",
       "│ 3187 │ N      │ 71.0    │ 65.0    │ 71.0    │ 67.0    │ 84.0    │ 67.0    │\n",
       "│ 3188 │ N      │ 84.0    │ 67.0    │ 84.0    │ 67.0    │ 71.0    │ 71.0    │\n",
       "│ 3189 │ N      │ 65.0    │ 84.0    │ 84.0    │ 67.0    │ 84.0    │ 65.0    │\n",
       "│ 3190 │ N      │ 65.0    │ 71.0    │ 71.0    │ 67.0    │ 84.0    │ 71.0    │"
      ]
     },
     "execution_count": 6,
     "metadata": {},
     "output_type": "execute_result"
    }
   ],
   "source": [
    "data = data[:, Not(2:3)]"
   ]
  },
  {
   "cell_type": "markdown",
   "metadata": {},
   "source": [
    "Look at class labels to see if dataset is imbalanced"
   ]
  },
  {
   "cell_type": "code",
   "execution_count": 7,
   "metadata": {},
   "outputs": [
    {
     "data": {
      "text/plain": [
       "Dict{String,Int64} with 3 entries:\n",
       "  \"IE\" => 768\n",
       "  \"EI\" => 767\n",
       "  \"N\"  => 1655"
      ]
     },
     "execution_count": 7,
     "metadata": {},
     "output_type": "execute_result"
    }
   ],
   "source": [
    "label_counts = countmap(data[:Class])"
   ]
  },
  {
   "cell_type": "code",
   "execution_count": 8,
   "metadata": {},
   "outputs": [
    {
     "data": {
      "text/plain": [
       "3-element Array{Float64,1}:\n",
       " 0.24075235109717869\n",
       " 0.24043887147335424\n",
       " 0.5188087774294671"
      ]
     },
     "execution_count": 8,
     "metadata": {},
     "output_type": "execute_result"
    }
   ],
   "source": [
    "collect(label_counts[i] / size(data)[1] for i in keys(label_counts))"
   ]
  },
  {
   "cell_type": "markdown",
   "metadata": {},
   "source": [
    "Get data ready for training"
   ]
  },
  {
   "cell_type": "code",
   "execution_count": 9,
   "metadata": {
    "scrolled": true
   },
   "outputs": [
    {
     "data": {
      "text/plain": [
       "┌\u001b[0m─────────\u001b[0m┬\u001b[0m─────────────────────────────────\u001b[0m┬\u001b[0m───────────────\u001b[0m┐\u001b[0m\n",
       "│\u001b[0m\u001b[22m _.names \u001b[0m│\u001b[0m\u001b[22m _.types                         \u001b[0m│\u001b[0m\u001b[22m _.scitypes    \u001b[0m│\u001b[0m\n",
       "├\u001b[0m─────────\u001b[0m┼\u001b[0m─────────────────────────────────\u001b[0m┼\u001b[0m───────────────\u001b[0m┤\u001b[0m\n",
       "│\u001b[0m Class   \u001b[0m│\u001b[0m CategoricalValue{String,UInt32} \u001b[0m│\u001b[0m Multiclass{3} \u001b[0m│\u001b[0m\n",
       "│\u001b[0m x1      \u001b[0m│\u001b[0m Float64                         \u001b[0m│\u001b[0m Continuous    \u001b[0m│\u001b[0m\n",
       "│\u001b[0m x2      \u001b[0m│\u001b[0m Float64                         \u001b[0m│\u001b[0m Continuous    \u001b[0m│\u001b[0m\n",
       "│\u001b[0m x3      \u001b[0m│\u001b[0m Float64                         \u001b[0m│\u001b[0m Continuous    \u001b[0m│\u001b[0m\n",
       "│\u001b[0m x4      \u001b[0m│\u001b[0m Float64                         \u001b[0m│\u001b[0m Continuous    \u001b[0m│\u001b[0m\n",
       "│\u001b[0m x5      \u001b[0m│\u001b[0m Float64                         \u001b[0m│\u001b[0m Continuous    \u001b[0m│\u001b[0m\n",
       "│\u001b[0m x6      \u001b[0m│\u001b[0m Float64                         \u001b[0m│\u001b[0m Continuous    \u001b[0m│\u001b[0m\n",
       "│\u001b[0m x7      \u001b[0m│\u001b[0m Float64                         \u001b[0m│\u001b[0m Continuous    \u001b[0m│\u001b[0m\n",
       "│\u001b[0m x8      \u001b[0m│\u001b[0m Float64                         \u001b[0m│\u001b[0m Continuous    \u001b[0m│\u001b[0m\n",
       "│\u001b[0m x9      \u001b[0m│\u001b[0m Float64                         \u001b[0m│\u001b[0m Continuous    \u001b[0m│\u001b[0m\n",
       "│\u001b[0m x10     \u001b[0m│\u001b[0m Float64                         \u001b[0m│\u001b[0m Continuous    \u001b[0m│\u001b[0m\n",
       "│\u001b[0m x11     \u001b[0m│\u001b[0m Float64                         \u001b[0m│\u001b[0m Continuous    \u001b[0m│\u001b[0m\n",
       "│\u001b[0m x12     \u001b[0m│\u001b[0m Float64                         \u001b[0m│\u001b[0m Continuous    \u001b[0m│\u001b[0m\n",
       "│\u001b[0m x13     \u001b[0m│\u001b[0m Float64                         \u001b[0m│\u001b[0m Continuous    \u001b[0m│\u001b[0m\n",
       "│\u001b[0m x14     \u001b[0m│\u001b[0m Float64                         \u001b[0m│\u001b[0m Continuous    \u001b[0m│\u001b[0m\n",
       "│\u001b[0m x15     \u001b[0m│\u001b[0m Float64                         \u001b[0m│\u001b[0m Continuous    \u001b[0m│\u001b[0m\n",
       "│\u001b[0m x16     \u001b[0m│\u001b[0m Float64                         \u001b[0m│\u001b[0m Continuous    \u001b[0m│\u001b[0m\n",
       "│\u001b[0m x17     \u001b[0m│\u001b[0m Float64                         \u001b[0m│\u001b[0m Continuous    \u001b[0m│\u001b[0m\n",
       "│\u001b[0m x18     \u001b[0m│\u001b[0m Float64                         \u001b[0m│\u001b[0m Continuous    \u001b[0m│\u001b[0m\n",
       "│\u001b[0m x19     \u001b[0m│\u001b[0m Float64                         \u001b[0m│\u001b[0m Continuous    \u001b[0m│\u001b[0m\n",
       "│\u001b[0m x20     \u001b[0m│\u001b[0m Float64                         \u001b[0m│\u001b[0m Continuous    \u001b[0m│\u001b[0m\n",
       "│\u001b[0m x21     \u001b[0m│\u001b[0m Float64                         \u001b[0m│\u001b[0m Continuous    \u001b[0m│\u001b[0m\n",
       "│\u001b[0m x22     \u001b[0m│\u001b[0m Float64                         \u001b[0m│\u001b[0m Continuous    \u001b[0m│\u001b[0m\n",
       "│\u001b[0m x23     \u001b[0m│\u001b[0m Float64                         \u001b[0m│\u001b[0m Continuous    \u001b[0m│\u001b[0m\n",
       "│\u001b[0m x24     \u001b[0m│\u001b[0m Float64                         \u001b[0m│\u001b[0m Continuous    \u001b[0m│\u001b[0m\n",
       "│\u001b[0m x25     \u001b[0m│\u001b[0m Float64                         \u001b[0m│\u001b[0m Continuous    \u001b[0m│\u001b[0m\n",
       "│\u001b[0m x26     \u001b[0m│\u001b[0m Float64                         \u001b[0m│\u001b[0m Continuous    \u001b[0m│\u001b[0m\n",
       "│\u001b[0m x27     \u001b[0m│\u001b[0m Float64                         \u001b[0m│\u001b[0m Continuous    \u001b[0m│\u001b[0m\n",
       "│\u001b[0m x28     \u001b[0m│\u001b[0m Float64                         \u001b[0m│\u001b[0m Continuous    \u001b[0m│\u001b[0m\n",
       "│\u001b[0m x29     \u001b[0m│\u001b[0m Float64                         \u001b[0m│\u001b[0m Continuous    \u001b[0m│\u001b[0m\n",
       "│\u001b[0m x30     \u001b[0m│\u001b[0m Float64                         \u001b[0m│\u001b[0m Continuous    \u001b[0m│\u001b[0m\n",
       "│\u001b[0m x31     \u001b[0m│\u001b[0m Float64                         \u001b[0m│\u001b[0m Continuous    \u001b[0m│\u001b[0m\n",
       "│\u001b[0m x32     \u001b[0m│\u001b[0m Float64                         \u001b[0m│\u001b[0m Continuous    \u001b[0m│\u001b[0m\n",
       "│\u001b[0m x33     \u001b[0m│\u001b[0m Float64                         \u001b[0m│\u001b[0m Continuous    \u001b[0m│\u001b[0m\n",
       "│\u001b[0m x34     \u001b[0m│\u001b[0m Float64                         \u001b[0m│\u001b[0m Continuous    \u001b[0m│\u001b[0m\n",
       "│\u001b[0m x35     \u001b[0m│\u001b[0m Float64                         \u001b[0m│\u001b[0m Continuous    \u001b[0m│\u001b[0m\n",
       "│\u001b[0m x36     \u001b[0m│\u001b[0m Float64                         \u001b[0m│\u001b[0m Continuous    \u001b[0m│\u001b[0m\n",
       "│\u001b[0m x37     \u001b[0m│\u001b[0m Float64                         \u001b[0m│\u001b[0m Continuous    \u001b[0m│\u001b[0m\n",
       "│\u001b[0m x38     \u001b[0m│\u001b[0m Float64                         \u001b[0m│\u001b[0m Continuous    \u001b[0m│\u001b[0m\n",
       "│\u001b[0m x39     \u001b[0m│\u001b[0m Float64                         \u001b[0m│\u001b[0m Continuous    \u001b[0m│\u001b[0m\n",
       "│\u001b[0m x40     \u001b[0m│\u001b[0m Float64                         \u001b[0m│\u001b[0m Continuous    \u001b[0m│\u001b[0m\n",
       "│\u001b[0m x41     \u001b[0m│\u001b[0m Float64                         \u001b[0m│\u001b[0m Continuous    \u001b[0m│\u001b[0m\n",
       "│\u001b[0m x42     \u001b[0m│\u001b[0m Float64                         \u001b[0m│\u001b[0m Continuous    \u001b[0m│\u001b[0m\n",
       "│\u001b[0m x43     \u001b[0m│\u001b[0m Float64                         \u001b[0m│\u001b[0m Continuous    \u001b[0m│\u001b[0m\n",
       "│\u001b[0m x44     \u001b[0m│\u001b[0m Float64                         \u001b[0m│\u001b[0m Continuous    \u001b[0m│\u001b[0m\n",
       "│\u001b[0m x45     \u001b[0m│\u001b[0m Float64                         \u001b[0m│\u001b[0m Continuous    \u001b[0m│\u001b[0m\n",
       "│\u001b[0m x46     \u001b[0m│\u001b[0m Float64                         \u001b[0m│\u001b[0m Continuous    \u001b[0m│\u001b[0m\n",
       "│\u001b[0m x47     \u001b[0m│\u001b[0m Float64                         \u001b[0m│\u001b[0m Continuous    \u001b[0m│\u001b[0m\n",
       "│\u001b[0m x48     \u001b[0m│\u001b[0m Float64                         \u001b[0m│\u001b[0m Continuous    \u001b[0m│\u001b[0m\n",
       "│\u001b[0m x49     \u001b[0m│\u001b[0m Float64                         \u001b[0m│\u001b[0m Continuous    \u001b[0m│\u001b[0m\n",
       "│\u001b[0m x50     \u001b[0m│\u001b[0m Float64                         \u001b[0m│\u001b[0m Continuous    \u001b[0m│\u001b[0m\n",
       "│\u001b[0m x51     \u001b[0m│\u001b[0m Float64                         \u001b[0m│\u001b[0m Continuous    \u001b[0m│\u001b[0m\n",
       "│\u001b[0m x52     \u001b[0m│\u001b[0m Float64                         \u001b[0m│\u001b[0m Continuous    \u001b[0m│\u001b[0m\n",
       "│\u001b[0m x53     \u001b[0m│\u001b[0m Float64                         \u001b[0m│\u001b[0m Continuous    \u001b[0m│\u001b[0m\n",
       "│\u001b[0m x54     \u001b[0m│\u001b[0m Float64                         \u001b[0m│\u001b[0m Continuous    \u001b[0m│\u001b[0m\n",
       "│\u001b[0m x55     \u001b[0m│\u001b[0m Float64                         \u001b[0m│\u001b[0m Continuous    \u001b[0m│\u001b[0m\n",
       "│\u001b[0m x56     \u001b[0m│\u001b[0m Float64                         \u001b[0m│\u001b[0m Continuous    \u001b[0m│\u001b[0m\n",
       "│\u001b[0m x57     \u001b[0m│\u001b[0m Float64                         \u001b[0m│\u001b[0m Continuous    \u001b[0m│\u001b[0m\n",
       "│\u001b[0m x58     \u001b[0m│\u001b[0m Float64                         \u001b[0m│\u001b[0m Continuous    \u001b[0m│\u001b[0m\n",
       "│\u001b[0m x59     \u001b[0m│\u001b[0m Float64                         \u001b[0m│\u001b[0m Continuous    \u001b[0m│\u001b[0m\n",
       "│\u001b[0m x60     \u001b[0m│\u001b[0m Float64                         \u001b[0m│\u001b[0m Continuous    \u001b[0m│\u001b[0m\n",
       "└\u001b[0m─────────\u001b[0m┴\u001b[0m─────────────────────────────────\u001b[0m┴\u001b[0m───────────────\u001b[0m┘\u001b[0m\n",
       "_.nrows = 3190\n"
      ]
     },
     "execution_count": 9,
     "metadata": {},
     "output_type": "execute_result"
    }
   ],
   "source": [
    "coerce!(data, :Class=>Multiclass,\n",
    "              :Left_Weight=>Continuous,\n",
    "              :Right_Weight=>Continuous,\n",
    "              :Left_Distance=>Continuous,\n",
    "              :Right_Distance=>Continuous)\n",
    "schema(data)"
   ]
  },
  {
   "cell_type": "code",
   "execution_count": 10,
   "metadata": {
    "scrolled": false
   },
   "outputs": [
    {
     "data": {
      "text/plain": [
       "(CategoricalValue{String,UInt32}[\"EI\", \"EI\", \"EI\", \"EI\", \"EI\", \"EI\", \"EI\", \"EI\", \"EI\", \"EI\"  …  \"N\", \"N\", \"N\", \"N\", \"N\", \"N\", \"N\", \"N\", \"N\", \"N\"], 3190×60 DataFrame. Omitted printing of 53 columns\n",
       "│ Row  │ x1      │ x2      │ x3      │ x4      │ x5      │ x6      │ x7      │\n",
       "│      │ \u001b[90mFloat64\u001b[39m │ \u001b[90mFloat64\u001b[39m │ \u001b[90mFloat64\u001b[39m │ \u001b[90mFloat64\u001b[39m │ \u001b[90mFloat64\u001b[39m │ \u001b[90mFloat64\u001b[39m │ \u001b[90mFloat64\u001b[39m │\n",
       "├──────┼─────────┼─────────┼─────────┼─────────┼─────────┼─────────┼─────────┤\n",
       "│ 1    │ 67.0    │ 67.0    │ 65.0    │ 71.0    │ 67.0    │ 84.0    │ 71.0    │\n",
       "│ 2    │ 65.0    │ 71.0    │ 65.0    │ 67.0    │ 67.0    │ 67.0    │ 71.0    │\n",
       "│ 3    │ 71.0    │ 65.0    │ 71.0    │ 71.0    │ 84.0    │ 71.0    │ 65.0    │\n",
       "│ 4    │ 71.0    │ 71.0    │ 71.0    │ 67.0    │ 84.0    │ 71.0    │ 67.0    │\n",
       "│ 5    │ 71.0    │ 67.0    │ 84.0    │ 67.0    │ 65.0    │ 71.0    │ 67.0    │\n",
       "│ 6    │ 67.0    │ 65.0    │ 71.0    │ 65.0    │ 67.0    │ 84.0    │ 71.0    │\n",
       "│ 7    │ 67.0    │ 67.0    │ 84.0    │ 84.0    │ 84.0    │ 71.0    │ 65.0    │\n",
       "│ 8    │ 67.0    │ 67.0    │ 67.0    │ 84.0    │ 67.0    │ 71.0    │ 84.0    │\n",
       "│ 9    │ 84.0    │ 71.0    │ 71.0    │ 67.0    │ 71.0    │ 65.0    │ 67.0    │\n",
       "│ 10   │ 65.0    │ 65.0    │ 71.0    │ 67.0    │ 84.0    │ 71.0    │ 65.0    │\n",
       "⋮\n",
       "│ 3180 │ 67.0    │ 67.0    │ 84.0    │ 67.0    │ 65.0    │ 71.0    │ 84.0    │\n",
       "│ 3181 │ 67.0    │ 67.0    │ 84.0    │ 71.0    │ 67.0    │ 67.0    │ 71.0    │\n",
       "│ 3182 │ 67.0    │ 84.0    │ 71.0    │ 71.0    │ 65.0    │ 65.0    │ 71.0    │\n",
       "│ 3183 │ 84.0    │ 71.0    │ 84.0    │ 84.0    │ 84.0    │ 67.0    │ 84.0    │\n",
       "│ 3184 │ 84.0    │ 65.0    │ 65.0    │ 65.0    │ 65.0    │ 65.0    │ 65.0    │\n",
       "│ 3185 │ 65.0    │ 84.0    │ 67.0    │ 65.0    │ 65.0    │ 84.0    │ 65.0    │\n",
       "│ 3186 │ 84.0    │ 67.0    │ 84.0    │ 67.0    │ 84.0    │ 84.0    │ 67.0    │\n",
       "│ 3187 │ 71.0    │ 65.0    │ 71.0    │ 67.0    │ 84.0    │ 67.0    │ 67.0    │\n",
       "│ 3188 │ 84.0    │ 67.0    │ 84.0    │ 67.0    │ 71.0    │ 71.0    │ 71.0    │\n",
       "│ 3189 │ 65.0    │ 84.0    │ 84.0    │ 67.0    │ 84.0    │ 65.0    │ 67.0    │\n",
       "│ 3190 │ 65.0    │ 71.0    │ 71.0    │ 67.0    │ 84.0    │ 71.0    │ 67.0    │)"
      ]
     },
     "execution_count": 10,
     "metadata": {},
     "output_type": "execute_result"
    }
   ],
   "source": [
    "y, X = unpack(data, ==(:Class), colname->true)"
   ]
  },
  {
   "cell_type": "markdown",
   "metadata": {},
   "source": [
    "Partition train and test data accoring to class labels"
   ]
  },
  {
   "cell_type": "code",
   "execution_count": 11,
   "metadata": {},
   "outputs": [
    {
     "data": {
      "text/plain": [
       "([1400, 2606, 502, 1046, 1411, 2710, 1131, 2546, 2422, 33  …  3151, 112, 1864, 1420, 840, 2792, 1321, 3178, 1327, 261], [2095, 1056, 93, 1565, 1177, 3036, 1315, 511, 1410, 2319  …  805, 1158, 1750, 2548, 1704, 2850, 1646, 1595, 2707, 415])"
      ]
     },
     "execution_count": 11,
     "metadata": {},
     "output_type": "execute_result"
    }
   ],
   "source": [
    "# data to use when trying to fit a single validation set\n",
    "train, test = partition(eachindex(y), 0.7, shuffle=true, rng=123, stratify=values(data[:Class])) # gives 70:30 split"
   ]
  },
  {
   "cell_type": "code",
   "execution_count": 12,
   "metadata": {
    "scrolled": false
   },
   "outputs": [
    {
     "data": {
      "text/plain": [
       "3-element Array{Float64,1}:\n",
       " 0.24093148231079264\n",
       " 0.5185848634124496\n",
       " 0.24048365427675772"
      ]
     },
     "execution_count": 12,
     "metadata": {},
     "output_type": "execute_result"
    }
   ],
   "source": [
    "train_counts = countmap(data[train,:Class])\n",
    "collect(train_counts[i] / size(train)[1] for i in keys(train_counts))"
   ]
  },
  {
   "cell_type": "code",
   "execution_count": 13,
   "metadata": {
    "scrolled": false
   },
   "outputs": [
    {
     "data": {
      "text/plain": [
       "3-element Array{Float64,1}:\n",
       " 0.24033437826541273\n",
       " 0.5193312434691745\n",
       " 0.24033437826541273"
      ]
     },
     "execution_count": 13,
     "metadata": {},
     "output_type": "execute_result"
    }
   ],
   "source": [
    "test_counts = countmap(data[test,:Class])\n",
    "collect(test_counts[i] / size(test)[1] for i in keys(test_counts))"
   ]
  },
  {
   "cell_type": "markdown",
   "metadata": {},
   "source": [
    "# Five Learning Algorithms\n",
    "\n",
    "* Decision trees with some form of pruning\n",
    "* Neural networks\n",
    "* Boosting\n",
    "* Support Vector Machines\n",
    "* k-nearest neighbors\n",
    "\n",
    "\n",
    "##### Testing\n",
    "* Implement the algorithms\n",
    "* Design two *interesting* classification problems. For the purposes of this assignment, a classification problem is just a set of training examples and a set of test examples."
   ]
  },
  {
   "cell_type": "code",
   "execution_count": 14,
   "metadata": {
    "scrolled": true
   },
   "outputs": [
    {
     "data": {
      "text/plain": [
       "42-element Array{NamedTuple{(:name, :package_name, :is_supervised, :docstring, :hyperparameter_ranges, :hyperparameter_types, :hyperparameters, :implemented_methods, :is_pure_julia, :is_wrapper, :load_path, :package_license, :package_url, :package_uuid, :prediction_type, :supports_online, :supports_weights, :input_scitype, :target_scitype, :output_scitype),T} where T<:Tuple,1}:\n",
       " (name = AdaBoostClassifier, package_name = ScikitLearn, ... )\n",
       " (name = AdaBoostStumpClassifier, package_name = DecisionTree, ... )\n",
       " (name = BaggingClassifier, package_name = ScikitLearn, ... )\n",
       " (name = BayesianLDA, package_name = MultivariateStats, ... )\n",
       " (name = BayesianLDA, package_name = ScikitLearn, ... )\n",
       " (name = BayesianQDA, package_name = ScikitLearn, ... )\n",
       " (name = BayesianSubspaceLDA, package_name = MultivariateStats, ... )\n",
       " (name = ConstantClassifier, package_name = MLJModels, ... )\n",
       " (name = DecisionTreeClassifier, package_name = DecisionTree, ... )\n",
       " (name = DeterministicConstantClassifier, package_name = MLJModels, ... )\n",
       " (name = DummyClassifier, package_name = ScikitLearn, ... )\n",
       " (name = EvoTreeClassifier, package_name = EvoTrees, ... )\n",
       " (name = ExtraTreesClassifier, package_name = ScikitLearn, ... )\n",
       " ⋮\n",
       " (name = ProbabilisticSGDClassifier, package_name = ScikitLearn, ... )\n",
       " (name = RandomForestClassifier, package_name = DecisionTree, ... )\n",
       " (name = RandomForestClassifier, package_name = ScikitLearn, ... )\n",
       " (name = RidgeCVClassifier, package_name = ScikitLearn, ... )\n",
       " (name = RidgeClassifier, package_name = ScikitLearn, ... )\n",
       " (name = SGDClassifier, package_name = ScikitLearn, ... )\n",
       " (name = SVC, package_name = LIBSVM, ... )\n",
       " (name = SVMClassifier, package_name = ScikitLearn, ... )\n",
       " (name = SVMLinearClassifier, package_name = ScikitLearn, ... )\n",
       " (name = SVMNuClassifier, package_name = ScikitLearn, ... )\n",
       " (name = SubspaceLDA, package_name = MultivariateStats, ... )\n",
       " (name = XGBoostClassifier, package_name = XGBoost, ... )"
      ]
     },
     "execution_count": 14,
     "metadata": {},
     "output_type": "execute_result"
    }
   ],
   "source": [
    "models(matching(X,y))"
   ]
  },
  {
   "cell_type": "code",
   "execution_count": 15,
   "metadata": {},
   "outputs": [
    {
     "name": "stdout",
     "output_type": "stream",
     "text": [
      "import MLJFlux "
     ]
    },
    {
     "name": "stderr",
     "output_type": "stream",
     "text": [
      "┌ Info: Loading into module \"Main\": \n",
      "└ @ MLJModels /home/andrew/.julia/packages/MLJModels/mUBFt/src/loading.jl:70\n"
     ]
    },
    {
     "name": "stdout",
     "output_type": "stream",
     "text": [
      "✔\n",
      "import MLJFlux ✔\n"
     ]
    },
    {
     "data": {
      "text/plain": [
       "NeuralNetworkClassifier(\n",
       "    builder = Short(\n",
       "            n_hidden = 0,\n",
       "            dropout = 0.5,\n",
       "            σ = NNlib.σ),\n",
       "    finaliser = NNlib.softmax,\n",
       "    optimiser = ADAM(0.001, (0.9, 0.999), IdDict{Any,Any}()),\n",
       "    loss = Flux.crossentropy,\n",
       "    epochs = 10,\n",
       "    batch_size = 1,\n",
       "    lambda = 0.0,\n",
       "    alpha = 0.0,\n",
       "    optimiser_changes_trigger_retraining = false)\u001b[34m @197\u001b[39m"
      ]
     },
     "execution_count": 15,
     "metadata": {},
     "output_type": "execute_result"
    }
   ],
   "source": [
    "@load NeuralNetworkClassifier verbosity=2"
   ]
  },
  {
   "cell_type": "markdown",
   "metadata": {},
   "source": [
    "## Neural networks\n",
    "* Use favorite kind of network and training algorithm. \n",
    "* You may use networks of nodes with as many layers as you like and any activation function you see fit.\n",
    "\n",
    "1. https://github.com/alan-turing-institute/MLJFlux.jl/blob/master/examples/boston.ipynb\n",
    "1. https://github.com/alan-turing-institute/MLJFlux.jl\n",
    "1. https://alan-turing-institute.github.io/MLJ.jl/dev/transformers/"
   ]
  },
  {
   "cell_type": "code",
   "execution_count": 16,
   "metadata": {},
   "outputs": [],
   "source": [
    "# Define a custom network\n",
    "mutable struct CustomNN <:MLJFlux.Builder\n",
    "    n1 ::Int\n",
    "end"
   ]
  },
  {
   "cell_type": "code",
   "execution_count": 17,
   "metadata": {},
   "outputs": [],
   "source": [
    "function MLJFlux.build(nn::CustomNN, n_in, n_out)\n",
    "    return Chain(\n",
    "        Flux.Dense(n_in, nn.n1, σ),\n",
    "#         Flux.Dense(nn.n1, nn.n2, σ),\n",
    "        Flux.Dense(nn.n1, n_out, σ),\n",
    "    )\n",
    "end"
   ]
  },
  {
   "cell_type": "code",
   "execution_count": 18,
   "metadata": {},
   "outputs": [
    {
     "data": {
      "text/plain": [
       "80"
      ]
     },
     "execution_count": 18,
     "metadata": {},
     "output_type": "execute_result"
    }
   ],
   "source": [
    "layer1 = 80"
   ]
  },
  {
   "cell_type": "code",
   "execution_count": 19,
   "metadata": {},
   "outputs": [],
   "source": [
    "batch_sz = 16;"
   ]
  },
  {
   "cell_type": "code",
   "execution_count": 20,
   "metadata": {},
   "outputs": [],
   "source": [
    "max_epochs = 2000;"
   ]
  },
  {
   "cell_type": "markdown",
   "metadata": {},
   "source": [
    "### No-preprocessing"
   ]
  },
  {
   "cell_type": "code",
   "execution_count": 21,
   "metadata": {},
   "outputs": [
    {
     "data": {
      "text/plain": [
       "NeuralNetworkClassifier(\n",
       "    builder = CustomNN(\n",
       "            n1 = 80),\n",
       "    finaliser = NNlib.softmax,\n",
       "    optimiser = ADAM(0.001, (0.9, 0.999), IdDict{Any,Any}()),\n",
       "    loss = Flux.crossentropy,\n",
       "    epochs = 10,\n",
       "    batch_size = 1,\n",
       "    lambda = 0.0,\n",
       "    alpha = 0.0,\n",
       "    optimiser_changes_trigger_retraining = false)\u001b[34m @484\u001b[39m"
      ]
     },
     "execution_count": 21,
     "metadata": {},
     "output_type": "execute_result"
    }
   ],
   "source": [
    "nn = NeuralNetworkClassifier(builder=CustomNN(layer1))"
   ]
  },
  {
   "cell_type": "code",
   "execution_count": 22,
   "metadata": {},
   "outputs": [
    {
     "data": {
      "text/plain": [
       "\u001b[34mMachine{NeuralNetworkClassifier{CustomNN,…}} @371\u001b[39m trained 0 times.\n",
       "  args: \n",
       "    1:\t\u001b[34mSource @779\u001b[39m ⏎ `Table{AbstractArray{Continuous,1}}`\n",
       "    2:\t\u001b[34mSource @957\u001b[39m ⏎ `AbstractArray{Multiclass{3},1}`\n"
      ]
     },
     "execution_count": 22,
     "metadata": {},
     "output_type": "execute_result"
    }
   ],
   "source": [
    "Net = machine(nn, X, y)"
   ]
  },
  {
   "cell_type": "code",
   "execution_count": 23,
   "metadata": {},
   "outputs": [
    {
     "data": {
      "text/plain": [
       "0.01"
      ]
     },
     "execution_count": 23,
     "metadata": {},
     "output_type": "execute_result"
    }
   ],
   "source": [
    "nn.optimiser.eta = 0.001\n",
    "nn.epochs = 60\n",
    "nn.batch_size = batch_sz\n",
    "nn.lambda = 0.01"
   ]
  },
  {
   "cell_type": "code",
   "execution_count": 24,
   "metadata": {
    "scrolled": true
   },
   "outputs": [
    {
     "name": "stderr",
     "output_type": "stream",
     "text": [
      "┌ Info: Training \u001b[34mMachine{NeuralNetworkClassifier{CustomNN,…}} @371\u001b[39m.\n",
      "└ @ MLJBase /home/andrew/.julia/packages/MLJBase/uKzAz/src/machines.jl:319\n",
      "┌ Info: Loss is 1.026\n",
      "└ @ MLJFlux /home/andrew/.julia/packages/MLJFlux/rYILg/src/core.jl:95\n",
      "┌ Info: Loss is 1.027\n",
      "└ @ MLJFlux /home/andrew/.julia/packages/MLJFlux/rYILg/src/core.jl:95\n",
      "┌ Info: Loss is 1.027\n",
      "└ @ MLJFlux /home/andrew/.julia/packages/MLJFlux/rYILg/src/core.jl:95\n",
      "┌ Info: Loss is 1.027\n",
      "└ @ MLJFlux /home/andrew/.julia/packages/MLJFlux/rYILg/src/core.jl:95\n",
      "┌ Info: Loss is 1.027\n",
      "└ @ MLJFlux /home/andrew/.julia/packages/MLJFlux/rYILg/src/core.jl:95\n",
      "┌ Info: Loss is 1.027\n",
      "└ @ MLJFlux /home/andrew/.julia/packages/MLJFlux/rYILg/src/core.jl:95\n",
      "┌ Info: Loss is 1.027\n",
      "└ @ MLJFlux /home/andrew/.julia/packages/MLJFlux/rYILg/src/core.jl:95\n",
      "┌ Info: Loss is 1.027\n",
      "└ @ MLJFlux /home/andrew/.julia/packages/MLJFlux/rYILg/src/core.jl:95\n",
      "┌ Info: Loss is 1.027\n",
      "└ @ MLJFlux /home/andrew/.julia/packages/MLJFlux/rYILg/src/core.jl:95\n",
      "┌ Info: Loss is 1.027\n",
      "└ @ MLJFlux /home/andrew/.julia/packages/MLJFlux/rYILg/src/core.jl:95\n",
      "┌ Info: Loss is 1.027\n",
      "└ @ MLJFlux /home/andrew/.julia/packages/MLJFlux/rYILg/src/core.jl:95\n",
      "┌ Info: Loss is 1.027\n",
      "└ @ MLJFlux /home/andrew/.julia/packages/MLJFlux/rYILg/src/core.jl:95\n",
      "┌ Info: Loss is 1.027\n",
      "└ @ MLJFlux /home/andrew/.julia/packages/MLJFlux/rYILg/src/core.jl:95\n",
      "┌ Info: Loss is 1.027\n",
      "└ @ MLJFlux /home/andrew/.julia/packages/MLJFlux/rYILg/src/core.jl:95\n",
      "┌ Info: Loss is 1.027\n",
      "└ @ MLJFlux /home/andrew/.julia/packages/MLJFlux/rYILg/src/core.jl:95\n",
      "┌ Info: Loss is 1.027\n",
      "└ @ MLJFlux /home/andrew/.julia/packages/MLJFlux/rYILg/src/core.jl:95\n",
      "┌ Info: Loss is 1.027\n",
      "└ @ MLJFlux /home/andrew/.julia/packages/MLJFlux/rYILg/src/core.jl:95\n",
      "┌ Info: Loss is 1.027\n",
      "└ @ MLJFlux /home/andrew/.julia/packages/MLJFlux/rYILg/src/core.jl:95\n",
      "┌ Info: Loss is 1.027\n",
      "└ @ MLJFlux /home/andrew/.julia/packages/MLJFlux/rYILg/src/core.jl:95\n",
      "┌ Info: Loss is 1.027\n",
      "└ @ MLJFlux /home/andrew/.julia/packages/MLJFlux/rYILg/src/core.jl:95\n",
      "┌ Info: Loss is 1.027\n",
      "└ @ MLJFlux /home/andrew/.julia/packages/MLJFlux/rYILg/src/core.jl:95\n",
      "┌ Info: Loss is 1.027\n",
      "└ @ MLJFlux /home/andrew/.julia/packages/MLJFlux/rYILg/src/core.jl:95\n",
      "┌ Info: Loss is 1.027\n",
      "└ @ MLJFlux /home/andrew/.julia/packages/MLJFlux/rYILg/src/core.jl:95\n",
      "┌ Info: Loss is 1.027\n",
      "└ @ MLJFlux /home/andrew/.julia/packages/MLJFlux/rYILg/src/core.jl:95\n",
      "┌ Info: Loss is 1.027\n",
      "└ @ MLJFlux /home/andrew/.julia/packages/MLJFlux/rYILg/src/core.jl:95\n",
      "┌ Info: Loss is 1.027\n",
      "└ @ MLJFlux /home/andrew/.julia/packages/MLJFlux/rYILg/src/core.jl:95\n",
      "┌ Info: Loss is 1.027\n",
      "└ @ MLJFlux /home/andrew/.julia/packages/MLJFlux/rYILg/src/core.jl:95\n",
      "┌ Info: Loss is 1.027\n",
      "└ @ MLJFlux /home/andrew/.julia/packages/MLJFlux/rYILg/src/core.jl:95\n",
      "┌ Info: Loss is 1.027\n",
      "└ @ MLJFlux /home/andrew/.julia/packages/MLJFlux/rYILg/src/core.jl:95\n",
      "┌ Info: Loss is 1.027\n",
      "└ @ MLJFlux /home/andrew/.julia/packages/MLJFlux/rYILg/src/core.jl:95\n",
      "┌ Info: Loss is 1.027\n",
      "└ @ MLJFlux /home/andrew/.julia/packages/MLJFlux/rYILg/src/core.jl:95\n",
      "┌ Info: Loss is 1.027\n",
      "└ @ MLJFlux /home/andrew/.julia/packages/MLJFlux/rYILg/src/core.jl:95\n",
      "┌ Info: Loss is 1.027\n",
      "└ @ MLJFlux /home/andrew/.julia/packages/MLJFlux/rYILg/src/core.jl:95\n",
      "┌ Info: Loss is 1.027\n",
      "└ @ MLJFlux /home/andrew/.julia/packages/MLJFlux/rYILg/src/core.jl:95\n",
      "┌ Info: Loss is 1.027\n",
      "└ @ MLJFlux /home/andrew/.julia/packages/MLJFlux/rYILg/src/core.jl:95\n",
      "┌ Info: Loss is 1.027\n",
      "└ @ MLJFlux /home/andrew/.julia/packages/MLJFlux/rYILg/src/core.jl:95\n",
      "┌ Info: Loss is 1.027\n",
      "└ @ MLJFlux /home/andrew/.julia/packages/MLJFlux/rYILg/src/core.jl:95\n",
      "┌ Info: Loss is 1.027\n",
      "└ @ MLJFlux /home/andrew/.julia/packages/MLJFlux/rYILg/src/core.jl:95\n",
      "┌ Info: Loss is 1.027\n",
      "└ @ MLJFlux /home/andrew/.julia/packages/MLJFlux/rYILg/src/core.jl:95\n",
      "┌ Info: Loss is 1.027\n",
      "└ @ MLJFlux /home/andrew/.julia/packages/MLJFlux/rYILg/src/core.jl:95\n",
      "┌ Info: Loss is 1.027\n",
      "└ @ MLJFlux /home/andrew/.julia/packages/MLJFlux/rYILg/src/core.jl:95\n",
      "┌ Info: Loss is 1.027\n",
      "└ @ MLJFlux /home/andrew/.julia/packages/MLJFlux/rYILg/src/core.jl:95\n",
      "┌ Info: Loss is 1.027\n",
      "└ @ MLJFlux /home/andrew/.julia/packages/MLJFlux/rYILg/src/core.jl:95\n",
      "┌ Info: Loss is 1.027\n",
      "└ @ MLJFlux /home/andrew/.julia/packages/MLJFlux/rYILg/src/core.jl:95\n",
      "┌ Info: Loss is 1.027\n",
      "└ @ MLJFlux /home/andrew/.julia/packages/MLJFlux/rYILg/src/core.jl:95\n",
      "┌ Info: Loss is 1.027\n",
      "└ @ MLJFlux /home/andrew/.julia/packages/MLJFlux/rYILg/src/core.jl:95\n",
      "┌ Info: Loss is 1.027\n",
      "└ @ MLJFlux /home/andrew/.julia/packages/MLJFlux/rYILg/src/core.jl:95\n",
      "┌ Info: Loss is 1.027\n",
      "└ @ MLJFlux /home/andrew/.julia/packages/MLJFlux/rYILg/src/core.jl:95\n",
      "┌ Info: Loss is 1.027\n",
      "└ @ MLJFlux /home/andrew/.julia/packages/MLJFlux/rYILg/src/core.jl:95\n",
      "┌ Info: Loss is 1.027\n",
      "└ @ MLJFlux /home/andrew/.julia/packages/MLJFlux/rYILg/src/core.jl:95\n",
      "┌ Info: Loss is 1.027\n",
      "└ @ MLJFlux /home/andrew/.julia/packages/MLJFlux/rYILg/src/core.jl:95\n",
      "┌ Info: Loss is 1.027\n",
      "└ @ MLJFlux /home/andrew/.julia/packages/MLJFlux/rYILg/src/core.jl:95\n",
      "┌ Info: Loss is 1.027\n",
      "└ @ MLJFlux /home/andrew/.julia/packages/MLJFlux/rYILg/src/core.jl:95\n",
      "┌ Info: Loss is 1.027\n",
      "└ @ MLJFlux /home/andrew/.julia/packages/MLJFlux/rYILg/src/core.jl:95\n",
      "┌ Info: Loss is 1.027\n",
      "└ @ MLJFlux /home/andrew/.julia/packages/MLJFlux/rYILg/src/core.jl:95\n",
      "┌ Info: Loss is 1.027\n",
      "└ @ MLJFlux /home/andrew/.julia/packages/MLJFlux/rYILg/src/core.jl:95\n",
      "┌ Info: Loss is 1.027\n",
      "└ @ MLJFlux /home/andrew/.julia/packages/MLJFlux/rYILg/src/core.jl:95\n",
      "┌ Info: Loss is 1.027\n",
      "└ @ MLJFlux /home/andrew/.julia/packages/MLJFlux/rYILg/src/core.jl:95\n",
      "┌ Info: Loss is 1.027\n",
      "└ @ MLJFlux /home/andrew/.julia/packages/MLJFlux/rYILg/src/core.jl:95\n",
      "┌ Info: Loss is 1.027\n",
      "└ @ MLJFlux /home/andrew/.julia/packages/MLJFlux/rYILg/src/core.jl:95\n"
     ]
    },
    {
     "data": {
      "text/plain": [
       "\u001b[34mMachine{NeuralNetworkClassifier{CustomNN,…}} @371\u001b[39m trained 1 time.\n",
       "  args: \n",
       "    1:\t\u001b[34mSource @779\u001b[39m ⏎ `Table{AbstractArray{Continuous,1}}`\n",
       "    2:\t\u001b[34mSource @957\u001b[39m ⏎ `AbstractArray{Multiclass{3},1}`\n"
      ]
     },
     "execution_count": 24,
     "metadata": {},
     "output_type": "execute_result"
    }
   ],
   "source": [
    "fit!(Net, rows=train, verbosity=2)"
   ]
  },
  {
   "cell_type": "code",
   "execution_count": 25,
   "metadata": {},
   "outputs": [
    {
     "data": {
      "text/plain": [
       "100"
      ]
     },
     "execution_count": 25,
     "metadata": {},
     "output_type": "execute_result"
    }
   ],
   "source": [
    "nn.optimiser.eta = nn.optimiser.eta / 3\n",
    "nn.epochs = nn.epochs + 40"
   ]
  },
  {
   "cell_type": "code",
   "execution_count": 26,
   "metadata": {
    "scrolled": true
   },
   "outputs": [
    {
     "name": "stderr",
     "output_type": "stream",
     "text": [
      "┌ Info: Updating \u001b[34mMachine{NeuralNetworkClassifier{CustomNN,…}} @371\u001b[39m.\n",
      "└ @ MLJBase /home/andrew/.julia/packages/MLJBase/uKzAz/src/machines.jl:320\n",
      "┌ Info: Loss is 1.026\n",
      "└ @ MLJFlux /home/andrew/.julia/packages/MLJFlux/rYILg/src/core.jl:95\n",
      "┌ Info: Loss is 1.025\n",
      "└ @ MLJFlux /home/andrew/.julia/packages/MLJFlux/rYILg/src/core.jl:95\n",
      "┌ Info: Loss is 1.025\n",
      "└ @ MLJFlux /home/andrew/.julia/packages/MLJFlux/rYILg/src/core.jl:95\n",
      "┌ Info: Loss is 1.024\n",
      "└ @ MLJFlux /home/andrew/.julia/packages/MLJFlux/rYILg/src/core.jl:95\n",
      "┌ Info: Loss is 1.024\n",
      "└ @ MLJFlux /home/andrew/.julia/packages/MLJFlux/rYILg/src/core.jl:95\n",
      "┌ Info: Loss is 1.023\n",
      "└ @ MLJFlux /home/andrew/.julia/packages/MLJFlux/rYILg/src/core.jl:95\n",
      "┌ Info: Loss is 1.022\n",
      "└ @ MLJFlux /home/andrew/.julia/packages/MLJFlux/rYILg/src/core.jl:95\n",
      "┌ Info: Loss is 1.021\n",
      "└ @ MLJFlux /home/andrew/.julia/packages/MLJFlux/rYILg/src/core.jl:95\n",
      "┌ Info: Loss is 1.02\n",
      "└ @ MLJFlux /home/andrew/.julia/packages/MLJFlux/rYILg/src/core.jl:95\n",
      "┌ Info: Loss is 1.019\n",
      "└ @ MLJFlux /home/andrew/.julia/packages/MLJFlux/rYILg/src/core.jl:95\n",
      "┌ Info: Loss is 1.018\n",
      "└ @ MLJFlux /home/andrew/.julia/packages/MLJFlux/rYILg/src/core.jl:95\n",
      "┌ Info: Loss is 1.017\n",
      "└ @ MLJFlux /home/andrew/.julia/packages/MLJFlux/rYILg/src/core.jl:95\n",
      "┌ Info: Loss is 1.016\n",
      "└ @ MLJFlux /home/andrew/.julia/packages/MLJFlux/rYILg/src/core.jl:95\n",
      "┌ Info: Loss is 1.015\n",
      "└ @ MLJFlux /home/andrew/.julia/packages/MLJFlux/rYILg/src/core.jl:95\n",
      "┌ Info: Loss is 1.014\n",
      "└ @ MLJFlux /home/andrew/.julia/packages/MLJFlux/rYILg/src/core.jl:95\n",
      "┌ Info: Loss is 1.013\n",
      "└ @ MLJFlux /home/andrew/.julia/packages/MLJFlux/rYILg/src/core.jl:95\n",
      "┌ Info: Loss is 1.012\n",
      "└ @ MLJFlux /home/andrew/.julia/packages/MLJFlux/rYILg/src/core.jl:95\n",
      "┌ Info: Loss is 1.011\n",
      "└ @ MLJFlux /home/andrew/.julia/packages/MLJFlux/rYILg/src/core.jl:95\n",
      "┌ Info: Loss is 1.01\n",
      "└ @ MLJFlux /home/andrew/.julia/packages/MLJFlux/rYILg/src/core.jl:95\n",
      "┌ Info: Loss is 1.009\n",
      "└ @ MLJFlux /home/andrew/.julia/packages/MLJFlux/rYILg/src/core.jl:95\n",
      "┌ Info: Loss is 1.008\n",
      "└ @ MLJFlux /home/andrew/.julia/packages/MLJFlux/rYILg/src/core.jl:95\n",
      "┌ Info: Loss is 1.007\n",
      "└ @ MLJFlux /home/andrew/.julia/packages/MLJFlux/rYILg/src/core.jl:95\n",
      "┌ Info: Loss is 1.006\n",
      "└ @ MLJFlux /home/andrew/.julia/packages/MLJFlux/rYILg/src/core.jl:95\n",
      "┌ Info: Loss is 1.005\n",
      "└ @ MLJFlux /home/andrew/.julia/packages/MLJFlux/rYILg/src/core.jl:95\n",
      "┌ Info: Loss is 1.004\n",
      "└ @ MLJFlux /home/andrew/.julia/packages/MLJFlux/rYILg/src/core.jl:95\n",
      "┌ Info: Loss is 1.003\n",
      "└ @ MLJFlux /home/andrew/.julia/packages/MLJFlux/rYILg/src/core.jl:95\n",
      "┌ Info: Loss is 1.002\n",
      "└ @ MLJFlux /home/andrew/.julia/packages/MLJFlux/rYILg/src/core.jl:95\n",
      "┌ Info: Loss is 1.001\n",
      "└ @ MLJFlux /home/andrew/.julia/packages/MLJFlux/rYILg/src/core.jl:95\n",
      "┌ Info: Loss is 1.0\n",
      "└ @ MLJFlux /home/andrew/.julia/packages/MLJFlux/rYILg/src/core.jl:95\n",
      "┌ Info: Loss is 0.999\n",
      "└ @ MLJFlux /home/andrew/.julia/packages/MLJFlux/rYILg/src/core.jl:95\n",
      "┌ Info: Loss is 0.998\n",
      "└ @ MLJFlux /home/andrew/.julia/packages/MLJFlux/rYILg/src/core.jl:95\n",
      "┌ Info: Loss is 0.997\n",
      "└ @ MLJFlux /home/andrew/.julia/packages/MLJFlux/rYILg/src/core.jl:95\n",
      "┌ Info: Loss is 0.996\n",
      "└ @ MLJFlux /home/andrew/.julia/packages/MLJFlux/rYILg/src/core.jl:95\n",
      "┌ Info: Loss is 0.995\n",
      "└ @ MLJFlux /home/andrew/.julia/packages/MLJFlux/rYILg/src/core.jl:95\n",
      "┌ Info: Loss is 0.994\n",
      "└ @ MLJFlux /home/andrew/.julia/packages/MLJFlux/rYILg/src/core.jl:95\n",
      "┌ Info: Loss is 0.9929\n",
      "└ @ MLJFlux /home/andrew/.julia/packages/MLJFlux/rYILg/src/core.jl:95\n",
      "┌ Info: Loss is 0.9919\n",
      "└ @ MLJFlux /home/andrew/.julia/packages/MLJFlux/rYILg/src/core.jl:95\n",
      "┌ Info: Loss is 0.9908\n",
      "└ @ MLJFlux /home/andrew/.julia/packages/MLJFlux/rYILg/src/core.jl:95\n",
      "┌ Info: Loss is 0.9898\n",
      "└ @ MLJFlux /home/andrew/.julia/packages/MLJFlux/rYILg/src/core.jl:95\n",
      "┌ Info: Loss is 0.9888\n",
      "└ @ MLJFlux /home/andrew/.julia/packages/MLJFlux/rYILg/src/core.jl:95\n"
     ]
    },
    {
     "data": {
      "text/plain": [
       "\u001b[34mMachine{NeuralNetworkClassifier{CustomNN,…}} @371\u001b[39m trained 2 times.\n",
       "  args: \n",
       "    1:\t\u001b[34mSource @779\u001b[39m ⏎ `Table{AbstractArray{Continuous,1}}`\n",
       "    2:\t\u001b[34mSource @957\u001b[39m ⏎ `AbstractArray{Multiclass{3},1}`\n"
      ]
     },
     "execution_count": 26,
     "metadata": {},
     "output_type": "execute_result"
    }
   ],
   "source": [
    "fit!(Net, rows=train, verbosity=2)"
   ]
  },
  {
   "cell_type": "code",
   "execution_count": 27,
   "metadata": {},
   "outputs": [
    {
     "name": "stderr",
     "output_type": "stream",
     "text": [
      "\u001b[33mEvaluating over 6 folds: 100%[=========================] Time: 0:00:44\u001b[39m\n"
     ]
    },
    {
     "data": {
      "text/plain": [
       "┌\u001b[0m───────────────\u001b[0m┬\u001b[0m───────────────\u001b[0m┬\u001b[0m──────────────────────────────────────────────────\u001b[0m┐\u001b[0m\n",
       "│\u001b[0m\u001b[22m _.measure     \u001b[0m│\u001b[0m\u001b[22m _.measurement \u001b[0m│\u001b[0m\u001b[22m _.per_fold                                       \u001b[0m│\u001b[0m\n",
       "├\u001b[0m───────────────\u001b[0m┼\u001b[0m───────────────\u001b[0m┼\u001b[0m──────────────────────────────────────────────────\u001b[0m┤\u001b[0m\n",
       "│\u001b[0m cross_entropy \u001b[0m│\u001b[0m 0.859         \u001b[0m│\u001b[0m Float32[0.81, 0.833, 0.961, 0.832, 0.819, 0.899] \u001b[0m│\u001b[0m\n",
       "│\u001b[0m acc           \u001b[0m│\u001b[0m 0.674         \u001b[0m│\u001b[0m [0.733, 0.705, 0.515, 0.72, 0.74, 0.629]         \u001b[0m│\u001b[0m\n",
       "└\u001b[0m───────────────\u001b[0m┴\u001b[0m───────────────\u001b[0m┴\u001b[0m──────────────────────────────────────────────────\u001b[0m┘\u001b[0m\n",
       "_.per_observation = [[[0.611, 1.4, ..., 1.3], [0.753, 0.662, ..., 0.834], [1.06, 1.13, ..., 0.779], [0.908, 0.892, ..., 0.687], [0.81, 0.904, ..., 0.594], [0.655, 0.731, ..., 0.65]], missing]\n",
       "_.fitted_params_per_fold = [ … ]\n",
       "_.report_per_fold = [ … ]\n"
      ]
     },
     "execution_count": 27,
     "metadata": {},
     "output_type": "execute_result"
    }
   ],
   "source": [
    "nn_acc = evaluate!(Net, resampling=CV(shuffle=true), measure=[cross_entropy, acc], verbosity=1)"
   ]
  },
  {
   "cell_type": "code",
   "execution_count": 28,
   "metadata": {},
   "outputs": [
    {
     "data": {
      "text/plain": [
       "(chain = Chain(Chain(Dense(60, 80, σ), Dense(80, 3, σ)), softmax),)"
      ]
     },
     "execution_count": 28,
     "metadata": {},
     "output_type": "execute_result"
    }
   ],
   "source": [
    "fitted_params(Net)"
   ]
  },
  {
   "cell_type": "code",
   "execution_count": 29,
   "metadata": {
    "scrolled": true
   },
   "outputs": [
    {
     "data": {
      "text/plain": [
       "(training_losses = Any[1.025665f0, 1.0245535f0, 1.022656f0, 1.0209365f0, 1.0205262f0, 1.0194746f0, 1.0183444f0, 1.0171202f0, 1.016011f0, 1.0144023f0  …  0.89424336f0, 0.8933239f0, 0.8917813f0, 0.89098024f0, 0.89021176f0, 0.88940656f0, 0.88859487f0, 0.88778657f0, 0.8870058f0, 0.8862951f0],)"
      ]
     },
     "execution_count": 29,
     "metadata": {},
     "output_type": "execute_result"
    }
   ],
   "source": [
    "report(Net)"
   ]
  },
  {
   "cell_type": "markdown",
   "metadata": {},
   "source": [
    "### With Preprocessing"
   ]
  },
  {
   "cell_type": "markdown",
   "metadata": {},
   "source": [
    "Standardizing Inputs makes a huge difference.\n",
    "Before, I could only barely break below 0.4 training loss, but by standardizing inputs, I can easily get near 0.3."
   ]
  },
  {
   "cell_type": "code",
   "execution_count": 30,
   "metadata": {},
   "outputs": [
    {
     "name": "stderr",
     "output_type": "stream",
     "text": [
      "┌ Info: Training \u001b[34mMachine{Standardizer} @802\u001b[39m.\n",
      "└ @ MLJBase /home/andrew/.julia/packages/MLJBase/uKzAz/src/machines.jl:319\n"
     ]
    }
   ],
   "source": [
    "standardizer = Standardizer()\n",
    "stand = machine(standardizer, X[train,:]) #only want to standardize on training distribution\n",
    "fit!(stand)\n",
    "X_stand = MLJ.transform(stand, X);"
   ]
  },
  {
   "cell_type": "code",
   "execution_count": 31,
   "metadata": {},
   "outputs": [
    {
     "data": {
      "text/plain": [
       "\u001b[34mMachine{NeuralNetworkClassifier{CustomNN,…}} @482\u001b[39m trained 0 times.\n",
       "  args: \n",
       "    1:\t\u001b[34mSource @497\u001b[39m ⏎ `Table{AbstractArray{Continuous,1}}`\n",
       "    2:\t\u001b[34mSource @181\u001b[39m ⏎ `AbstractArray{Multiclass{3},1}`\n"
      ]
     },
     "execution_count": 31,
     "metadata": {},
     "output_type": "execute_result"
    }
   ],
   "source": [
    "Net = machine(nn, X_stand, y)"
   ]
  },
  {
   "cell_type": "markdown",
   "metadata": {},
   "source": [
    "### Learning Curve"
   ]
  },
  {
   "cell_type": "code",
   "execution_count": 32,
   "metadata": {},
   "outputs": [
    {
     "name": "stderr",
     "output_type": "stream",
     "text": [
      "┌ Info: Training \u001b[34mMachine{NeuralNetworkClassifier{CustomNN,…}} @482\u001b[39m.\n",
      "└ @ MLJBase /home/andrew/.julia/packages/MLJBase/uKzAz/src/machines.jl:319\n",
      "\u001b[33mOptimising neural net:100%[=========================] Time: 0:03:38\u001b[39m\n"
     ]
    },
    {
     "data": {
      "text/plain": [
       "\u001b[34mMachine{NeuralNetworkClassifier{CustomNN,…}} @482\u001b[39m trained 1 time.\n",
       "  args: \n",
       "    1:\t\u001b[34mSource @497\u001b[39m ⏎ `Table{AbstractArray{Continuous,1}}`\n",
       "    2:\t\u001b[34mSource @181\u001b[39m ⏎ `AbstractArray{Multiclass{3},1}`\n"
      ]
     },
     "execution_count": 32,
     "metadata": {},
     "output_type": "execute_result"
    }
   ],
   "source": [
    "Net.model.epochs = max_epochs\n",
    "fit!(Net, rows=train, verbosity=1, force=true)"
   ]
  },
  {
   "cell_type": "code",
   "execution_count": 33,
   "metadata": {},
   "outputs": [
    {
     "name": "stderr",
     "output_type": "stream",
     "text": [
      "\u001b[33mEvaluating over 6 folds: 100%[=========================] Time: 0:25:13\u001b[39m\n"
     ]
    },
    {
     "data": {
      "text/plain": [
       "┌\u001b[0m───────────────\u001b[0m┬\u001b[0m───────────────\u001b[0m┬\u001b[0m─────────────────────────────────────────────────\u001b[0m┐\u001b[0m\n",
       "│\u001b[0m\u001b[22m _.measure     \u001b[0m│\u001b[0m\u001b[22m _.measurement \u001b[0m│\u001b[0m\u001b[22m _.per_fold                                      \u001b[0m│\u001b[0m\n",
       "├\u001b[0m───────────────\u001b[0m┼\u001b[0m───────────────\u001b[0m┼\u001b[0m─────────────────────────────────────────────────\u001b[0m┤\u001b[0m\n",
       "│\u001b[0m cross_entropy \u001b[0m│\u001b[0m 0.652         \u001b[0m│\u001b[0m Float32[0.656, 0.669, 0.67, 0.63, 0.648, 0.637] \u001b[0m│\u001b[0m\n",
       "│\u001b[0m acc           \u001b[0m│\u001b[0m 0.903         \u001b[0m│\u001b[0m [0.9, 0.889, 0.878, 0.925, 0.91, 0.915]         \u001b[0m│\u001b[0m\n",
       "└\u001b[0m───────────────\u001b[0m┴\u001b[0m───────────────\u001b[0m┴\u001b[0m─────────────────────────────────────────────────\u001b[0m┘\u001b[0m\n",
       "_.per_observation = [[[1.55, 0.551, ..., 0.551], [0.551, 0.551, ..., 0.718], [0.551, 0.604, ..., 0.862], [0.551, 0.551, ..., 0.763], [0.551, 0.551, ..., 1.55], [0.551, 0.551, ..., 0.551]], missing]\n",
       "_.fitted_params_per_fold = [ … ]\n",
       "_.report_per_fold = [ … ]\n"
      ]
     },
     "execution_count": 33,
     "metadata": {},
     "output_type": "execute_result"
    }
   ],
   "source": [
    "nn_acc = evaluate!(Net, resampling=Holdout(), measure=[cross_entropy, acc], verbosity=1)"
   ]
  },
  {
   "cell_type": "code",
   "execution_count": 34,
   "metadata": {
    "scrolled": true
   },
   "outputs": [
    {
     "data": {
      "text/plain": [
       "MLJBase.NumericRange(Int64, :epochs, ... )"
      ]
     },
     "execution_count": 34,
     "metadata": {},
     "output_type": "execute_result"
    }
   ],
   "source": [
    "vals = collect(0:5:max_epochs)\n",
    "r = range(nn, :epochs, lower=1, upper=max_epochs, scale=:log10)"
   ]
  },
  {
   "cell_type": "code",
   "execution_count": 35,
   "metadata": {},
   "outputs": [
    {
     "name": "stderr",
     "output_type": "stream",
     "text": [
      "┌ Info: Training \u001b[34mMachine{ProbabilisticTunedModel{Grid,…}} @040\u001b[39m.\n",
      "└ @ MLJBase /home/andrew/.julia/packages/MLJBase/uKzAz/src/machines.jl:319\n",
      "┌ Info: Attempting to evaluate 28 models.\n",
      "└ @ MLJTuning /home/andrew/.julia/packages/MLJTuning/Bbgvk/src/tuned_models.jl:494\n",
      "\u001b[33mEvaluating over 28 metamodels: 100%[=========================] Time: 0:03:30\u001b[39m\n"
     ]
    },
    {
     "data": {
      "text/plain": [
       "(parameter_name = \"epochs\",\n",
       " parameter_scale = :log10,\n",
       " parameter_values = [1, 2, 3, 4, 6, 7, 10, 13, 17, 23  …  305, 406, 540, 719, 957, 1274, 1696, 2258, 3005, 4000],\n",
       " measurements = [1.1457148790359497, 1.174164056777954, 1.1891300678253174, 1.1972969770431519, 1.1465098857879639, 1.1590325832366943, 1.0570790767669678, 0.9956395030021667, 0.944101095199585, 0.9049282670021057  …  0.7744516134262085, 0.744830846786499, 0.7132919430732727, 0.7045815587043762, 0.7079898118972778, 0.7160536050796509, 0.7273118495941162, 0.7277708053588867, 0.7319011688232422, 0.7342081665992737],)"
      ]
     },
     "execution_count": 35,
     "metadata": {},
     "output_type": "execute_result"
    }
   ],
   "source": [
    "curve = MLJ.learning_curve(Net, \n",
    "                        range=r, \n",
    "                        resampling=Holdout(fraction_train=0.7), \n",
    "#                         resampling=CV(nfolds=4), \n",
    "                        measure=cross_entropy, \n",
    "                        acceleration=CPUProcesses()\n",
    ")"
   ]
  },
  {
   "cell_type": "code",
   "execution_count": 36,
   "metadata": {},
   "outputs": [
    {
     "data": {
      "image/svg+xml": [
       "<?xml version=\"1.0\" encoding=\"utf-8\"?>\n",
       "<svg xmlns=\"http://www.w3.org/2000/svg\" xmlns:xlink=\"http://www.w3.org/1999/xlink\" width=\"600\" height=\"400\" viewBox=\"0 0 2400 1600\">\n",
       "<defs>\n",
       "  <clipPath id=\"clip710\">\n",
       "    <rect x=\"0\" y=\"0\" width=\"2400\" height=\"1600\"/>\n",
       "  </clipPath>\n",
       "</defs>\n",
       "<path clip-path=\"url(#clip710)\" d=\"\n",
       "M0 1600 L2400 1600 L2400 0 L0 0  Z\n",
       "  \" fill=\"#ffffff\" fill-rule=\"evenodd\" fill-opacity=\"1\"/>\n",
       "<defs>\n",
       "  <clipPath id=\"clip711\">\n",
       "    <rect x=\"480\" y=\"0\" width=\"1681\" height=\"1600\"/>\n",
       "  </clipPath>\n",
       "</defs>\n",
       "<path clip-path=\"url(#clip710)\" d=\"\n",
       "M211.278 1423.18 L2352.76 1423.18 L2352.76 47.2441 L211.278 47.2441  Z\n",
       "  \" fill=\"#ffffff\" fill-rule=\"evenodd\" fill-opacity=\"1\"/>\n",
       "<defs>\n",
       "  <clipPath id=\"clip712\">\n",
       "    <rect x=\"211\" y=\"47\" width=\"2142\" height=\"1377\"/>\n",
       "  </clipPath>\n",
       "</defs>\n",
       "<polyline clip-path=\"url(#clip712)\" style=\"stroke:#000000; stroke-width:2; stroke-opacity:0.1; fill:none\" points=\"\n",
       "  271.381,1423.18 271.381,47.2441 \n",
       "  \"/>\n",
       "<polyline clip-path=\"url(#clip712)\" style=\"stroke:#000000; stroke-width:2; stroke-opacity:0.1; fill:none\" points=\"\n",
       "  776.573,1423.18 776.573,47.2441 \n",
       "  \"/>\n",
       "<polyline clip-path=\"url(#clip712)\" style=\"stroke:#000000; stroke-width:2; stroke-opacity:0.1; fill:none\" points=\"\n",
       "  1281.76,1423.18 1281.76,47.2441 \n",
       "  \"/>\n",
       "<polyline clip-path=\"url(#clip712)\" style=\"stroke:#000000; stroke-width:2; stroke-opacity:0.1; fill:none\" points=\"\n",
       "  1786.96,1423.18 1786.96,47.2441 \n",
       "  \"/>\n",
       "<polyline clip-path=\"url(#clip712)\" style=\"stroke:#000000; stroke-width:2; stroke-opacity:0.1; fill:none\" points=\"\n",
       "  2292.15,1423.18 2292.15,47.2441 \n",
       "  \"/>\n",
       "<polyline clip-path=\"url(#clip712)\" style=\"stroke:#000000; stroke-width:2; stroke-opacity:0.1; fill:none\" points=\"\n",
       "  211.278,1291.57 2352.76,1291.57 \n",
       "  \"/>\n",
       "<polyline clip-path=\"url(#clip712)\" style=\"stroke:#000000; stroke-width:2; stroke-opacity:0.1; fill:none\" points=\"\n",
       "  211.278,1089.77 2352.76,1089.77 \n",
       "  \"/>\n",
       "<polyline clip-path=\"url(#clip712)\" style=\"stroke:#000000; stroke-width:2; stroke-opacity:0.1; fill:none\" points=\"\n",
       "  211.278,887.959 2352.76,887.959 \n",
       "  \"/>\n",
       "<polyline clip-path=\"url(#clip712)\" style=\"stroke:#000000; stroke-width:2; stroke-opacity:0.1; fill:none\" points=\"\n",
       "  211.278,686.152 2352.76,686.152 \n",
       "  \"/>\n",
       "<polyline clip-path=\"url(#clip712)\" style=\"stroke:#000000; stroke-width:2; stroke-opacity:0.1; fill:none\" points=\"\n",
       "  211.278,484.345 2352.76,484.345 \n",
       "  \"/>\n",
       "<polyline clip-path=\"url(#clip712)\" style=\"stroke:#000000; stroke-width:2; stroke-opacity:0.1; fill:none\" points=\"\n",
       "  211.278,282.538 2352.76,282.538 \n",
       "  \"/>\n",
       "<polyline clip-path=\"url(#clip712)\" style=\"stroke:#000000; stroke-width:2; stroke-opacity:0.1; fill:none\" points=\"\n",
       "  211.278,80.7308 2352.76,80.7308 \n",
       "  \"/>\n",
       "<polyline clip-path=\"url(#clip710)\" style=\"stroke:#000000; stroke-width:4; stroke-opacity:1; fill:none\" points=\"\n",
       "  211.278,1423.18 2352.76,1423.18 \n",
       "  \"/>\n",
       "<polyline clip-path=\"url(#clip710)\" style=\"stroke:#000000; stroke-width:4; stroke-opacity:1; fill:none\" points=\"\n",
       "  211.278,1423.18 211.278,47.2441 \n",
       "  \"/>\n",
       "<polyline clip-path=\"url(#clip710)\" style=\"stroke:#000000; stroke-width:4; stroke-opacity:1; fill:none\" points=\"\n",
       "  271.381,1423.18 271.381,1406.67 \n",
       "  \"/>\n",
       "<polyline clip-path=\"url(#clip710)\" style=\"stroke:#000000; stroke-width:4; stroke-opacity:1; fill:none\" points=\"\n",
       "  776.573,1423.18 776.573,1406.67 \n",
       "  \"/>\n",
       "<polyline clip-path=\"url(#clip710)\" style=\"stroke:#000000; stroke-width:4; stroke-opacity:1; fill:none\" points=\"\n",
       "  1281.76,1423.18 1281.76,1406.67 \n",
       "  \"/>\n",
       "<polyline clip-path=\"url(#clip710)\" style=\"stroke:#000000; stroke-width:4; stroke-opacity:1; fill:none\" points=\"\n",
       "  1786.96,1423.18 1786.96,1406.67 \n",
       "  \"/>\n",
       "<polyline clip-path=\"url(#clip710)\" style=\"stroke:#000000; stroke-width:4; stroke-opacity:1; fill:none\" points=\"\n",
       "  2292.15,1423.18 2292.15,1406.67 \n",
       "  \"/>\n",
       "<polyline clip-path=\"url(#clip710)\" style=\"stroke:#000000; stroke-width:4; stroke-opacity:1; fill:none\" points=\"\n",
       "  211.278,1291.57 236.976,1291.57 \n",
       "  \"/>\n",
       "<polyline clip-path=\"url(#clip710)\" style=\"stroke:#000000; stroke-width:4; stroke-opacity:1; fill:none\" points=\"\n",
       "  211.278,1089.77 236.976,1089.77 \n",
       "  \"/>\n",
       "<polyline clip-path=\"url(#clip710)\" style=\"stroke:#000000; stroke-width:4; stroke-opacity:1; fill:none\" points=\"\n",
       "  211.278,887.959 236.976,887.959 \n",
       "  \"/>\n",
       "<polyline clip-path=\"url(#clip710)\" style=\"stroke:#000000; stroke-width:4; stroke-opacity:1; fill:none\" points=\"\n",
       "  211.278,686.152 236.976,686.152 \n",
       "  \"/>\n",
       "<polyline clip-path=\"url(#clip710)\" style=\"stroke:#000000; stroke-width:4; stroke-opacity:1; fill:none\" points=\"\n",
       "  211.278,484.345 236.976,484.345 \n",
       "  \"/>\n",
       "<polyline clip-path=\"url(#clip710)\" style=\"stroke:#000000; stroke-width:4; stroke-opacity:1; fill:none\" points=\"\n",
       "  211.278,282.538 236.976,282.538 \n",
       "  \"/>\n",
       "<polyline clip-path=\"url(#clip710)\" style=\"stroke:#000000; stroke-width:4; stroke-opacity:1; fill:none\" points=\"\n",
       "  211.278,80.7308 236.976,80.7308 \n",
       "  \"/>\n",
       "<path clip-path=\"url(#clip710)\" d=\"M 0 0 M271.381 1445.17 Q267.77 1445.17 265.941 1448.74 Q264.136 1452.28 264.136 1459.41 Q264.136 1466.51 265.941 1470.08 Q267.77 1473.62 271.381 1473.62 Q275.015 1473.62 276.821 1470.08 Q278.649 1466.51 278.649 1459.41 Q278.649 1452.28 276.821 1448.74 Q275.015 1445.17 271.381 1445.17 M271.381 1441.47 Q277.191 1441.47 280.247 1446.07 Q283.325 1450.66 283.325 1459.41 Q283.325 1468.13 280.247 1472.74 Q277.191 1477.32 271.381 1477.32 Q265.571 1477.32 262.492 1472.74 Q259.437 1468.13 259.437 1459.41 Q259.437 1450.66 262.492 1446.07 Q265.571 1441.47 271.381 1441.47 Z\" fill=\"#000000\" fill-rule=\"evenodd\" fill-opacity=\"1\" /><path clip-path=\"url(#clip710)\" d=\"M 0 0 M726.434 1472.72 L734.073 1472.72 L734.073 1446.35 L725.763 1448.02 L725.763 1443.76 L734.027 1442.09 L738.703 1442.09 L738.703 1472.72 L746.341 1472.72 L746.341 1476.65 L726.434 1476.65 L726.434 1472.72 Z\" fill=\"#000000\" fill-rule=\"evenodd\" fill-opacity=\"1\" /><path clip-path=\"url(#clip710)\" d=\"M 0 0 M761.411 1445.17 Q757.8 1445.17 755.971 1448.74 Q754.165 1452.28 754.165 1459.41 Q754.165 1466.51 755.971 1470.08 Q757.8 1473.62 761.411 1473.62 Q765.045 1473.62 766.851 1470.08 Q768.679 1466.51 768.679 1459.41 Q768.679 1452.28 766.851 1448.74 Q765.045 1445.17 761.411 1445.17 M761.411 1441.47 Q767.221 1441.47 770.277 1446.07 Q773.355 1450.66 773.355 1459.41 Q773.355 1468.13 770.277 1472.74 Q767.221 1477.32 761.411 1477.32 Q755.601 1477.32 752.522 1472.74 Q749.466 1468.13 749.466 1459.41 Q749.466 1450.66 752.522 1446.07 Q755.601 1441.47 761.411 1441.47 Z\" fill=\"#000000\" fill-rule=\"evenodd\" fill-opacity=\"1\" /><path clip-path=\"url(#clip710)\" d=\"M 0 0 M788.425 1445.17 Q784.813 1445.17 782.985 1448.74 Q781.179 1452.28 781.179 1459.41 Q781.179 1466.51 782.985 1470.08 Q784.813 1473.62 788.425 1473.62 Q792.059 1473.62 793.864 1470.08 Q795.693 1466.51 795.693 1459.41 Q795.693 1452.28 793.864 1448.74 Q792.059 1445.17 788.425 1445.17 M788.425 1441.47 Q794.235 1441.47 797.29 1446.07 Q800.369 1450.66 800.369 1459.41 Q800.369 1468.13 797.29 1472.74 Q794.235 1477.32 788.425 1477.32 Q782.614 1477.32 779.536 1472.74 Q776.48 1468.13 776.48 1459.41 Q776.48 1450.66 779.536 1446.07 Q782.614 1441.47 788.425 1441.47 Z\" fill=\"#000000\" fill-rule=\"evenodd\" fill-opacity=\"1\" /><path clip-path=\"url(#clip710)\" d=\"M 0 0 M815.438 1445.17 Q811.827 1445.17 809.999 1448.74 Q808.193 1452.28 808.193 1459.41 Q808.193 1466.51 809.999 1470.08 Q811.827 1473.62 815.438 1473.62 Q819.073 1473.62 820.878 1470.08 Q822.707 1466.51 822.707 1459.41 Q822.707 1452.28 820.878 1448.74 Q819.073 1445.17 815.438 1445.17 M815.438 1441.47 Q821.248 1441.47 824.304 1446.07 Q827.383 1450.66 827.383 1459.41 Q827.383 1468.13 824.304 1472.74 Q821.248 1477.32 815.438 1477.32 Q809.628 1477.32 806.549 1472.74 Q803.494 1468.13 803.494 1459.41 Q803.494 1450.66 806.549 1446.07 Q809.628 1441.47 815.438 1441.47 Z\" fill=\"#000000\" fill-rule=\"evenodd\" fill-opacity=\"1\" /><path clip-path=\"url(#clip710)\" d=\"M 0 0 M1235.9 1472.72 L1252.22 1472.72 L1252.22 1476.65 L1230.27 1476.65 L1230.27 1472.72 Q1232.93 1469.96 1237.52 1465.33 Q1242.12 1460.68 1243.3 1459.34 Q1245.55 1456.81 1246.43 1455.08 Q1247.33 1453.32 1247.33 1451.63 Q1247.33 1448.87 1245.39 1447.14 Q1243.47 1445.4 1240.36 1445.4 Q1238.17 1445.4 1235.71 1446.17 Q1233.28 1446.93 1230.5 1448.48 L1230.5 1443.76 Q1233.33 1442.62 1235.78 1442.05 Q1238.23 1441.47 1240.27 1441.47 Q1245.64 1441.47 1248.84 1444.15 Q1252.03 1446.84 1252.03 1451.33 Q1252.03 1453.46 1251.22 1455.38 Q1250.43 1457.28 1248.33 1459.87 Q1247.75 1460.54 1244.65 1463.76 Q1241.54 1466.95 1235.9 1472.72 Z\" fill=\"#000000\" fill-rule=\"evenodd\" fill-opacity=\"1\" /><path clip-path=\"url(#clip710)\" d=\"M 0 0 M1267.29 1445.17 Q1263.67 1445.17 1261.85 1448.74 Q1260.04 1452.28 1260.04 1459.41 Q1260.04 1466.51 1261.85 1470.08 Q1263.67 1473.62 1267.29 1473.62 Q1270.92 1473.62 1272.73 1470.08 Q1274.55 1466.51 1274.55 1459.41 Q1274.55 1452.28 1272.73 1448.74 Q1270.92 1445.17 1267.29 1445.17 M1267.29 1441.47 Q1273.1 1441.47 1276.15 1446.07 Q1279.23 1450.66 1279.23 1459.41 Q1279.23 1468.13 1276.15 1472.74 Q1273.1 1477.32 1267.29 1477.32 Q1261.48 1477.32 1258.4 1472.74 Q1255.34 1468.13 1255.34 1459.41 Q1255.34 1450.66 1258.4 1446.07 Q1261.48 1441.47 1267.29 1441.47 Z\" fill=\"#000000\" fill-rule=\"evenodd\" fill-opacity=\"1\" /><path clip-path=\"url(#clip710)\" d=\"M 0 0 M1294.3 1445.17 Q1290.69 1445.17 1288.86 1448.74 Q1287.05 1452.28 1287.05 1459.41 Q1287.05 1466.51 1288.86 1470.08 Q1290.69 1473.62 1294.3 1473.62 Q1297.93 1473.62 1299.74 1470.08 Q1301.57 1466.51 1301.57 1459.41 Q1301.57 1452.28 1299.74 1448.74 Q1297.93 1445.17 1294.3 1445.17 M1294.3 1441.47 Q1300.11 1441.47 1303.16 1446.07 Q1306.24 1450.66 1306.24 1459.41 Q1306.24 1468.13 1303.16 1472.74 Q1300.11 1477.32 1294.3 1477.32 Q1288.49 1477.32 1285.41 1472.74 Q1282.35 1468.13 1282.35 1459.41 Q1282.35 1450.66 1285.41 1446.07 Q1288.49 1441.47 1294.3 1441.47 Z\" fill=\"#000000\" fill-rule=\"evenodd\" fill-opacity=\"1\" /><path clip-path=\"url(#clip710)\" d=\"M 0 0 M1321.31 1445.17 Q1317.7 1445.17 1315.87 1448.74 Q1314.07 1452.28 1314.07 1459.41 Q1314.07 1466.51 1315.87 1470.08 Q1317.7 1473.62 1321.31 1473.62 Q1324.95 1473.62 1326.75 1470.08 Q1328.58 1466.51 1328.58 1459.41 Q1328.58 1452.28 1326.75 1448.74 Q1324.95 1445.17 1321.31 1445.17 M1321.31 1441.47 Q1327.12 1441.47 1330.18 1446.07 Q1333.26 1450.66 1333.26 1459.41 Q1333.26 1468.13 1330.18 1472.74 Q1327.12 1477.32 1321.31 1477.32 Q1315.5 1477.32 1312.42 1472.74 Q1309.37 1468.13 1309.37 1459.41 Q1309.37 1450.66 1312.42 1446.07 Q1315.5 1441.47 1321.31 1441.47 Z\" fill=\"#000000\" fill-rule=\"evenodd\" fill-opacity=\"1\" /><path clip-path=\"url(#clip710)\" d=\"M 0 0 M1750.68 1458.02 Q1754.04 1458.74 1755.91 1461 Q1757.81 1463.27 1757.81 1466.61 Q1757.81 1471.72 1754.29 1474.52 Q1750.78 1477.32 1744.29 1477.32 Q1742.12 1477.32 1739.8 1476.88 Q1737.51 1476.47 1735.06 1475.61 L1735.06 1471.1 Q1737 1472.23 1739.32 1472.81 Q1741.63 1473.39 1744.16 1473.39 Q1748.55 1473.39 1750.85 1471.65 Q1753.16 1469.92 1753.16 1466.61 Q1753.16 1463.55 1751.01 1461.84 Q1748.88 1460.1 1745.06 1460.1 L1741.03 1460.1 L1741.03 1456.26 L1745.24 1456.26 Q1748.69 1456.26 1750.52 1454.89 Q1752.35 1453.5 1752.35 1450.91 Q1752.35 1448.25 1750.45 1446.84 Q1748.58 1445.4 1745.06 1445.4 Q1743.14 1445.4 1740.94 1445.82 Q1738.74 1446.24 1736.1 1447.11 L1736.1 1442.95 Q1738.76 1442.21 1741.08 1441.84 Q1743.41 1441.47 1745.48 1441.47 Q1750.8 1441.47 1753.9 1443.9 Q1757 1446.3 1757 1450.43 Q1757 1453.3 1755.36 1455.29 Q1753.72 1457.25 1750.68 1458.02 Z\" fill=\"#000000\" fill-rule=\"evenodd\" fill-opacity=\"1\" /><path clip-path=\"url(#clip710)\" d=\"M 0 0 M1772.88 1445.17 Q1769.27 1445.17 1767.44 1448.74 Q1765.64 1452.28 1765.64 1459.41 Q1765.64 1466.51 1767.44 1470.08 Q1769.27 1473.62 1772.88 1473.62 Q1776.52 1473.62 1778.32 1470.08 Q1780.15 1466.51 1780.15 1459.41 Q1780.15 1452.28 1778.32 1448.74 Q1776.52 1445.17 1772.88 1445.17 M1772.88 1441.47 Q1778.69 1441.47 1781.75 1446.07 Q1784.83 1450.66 1784.83 1459.41 Q1784.83 1468.13 1781.75 1472.74 Q1778.69 1477.32 1772.88 1477.32 Q1767.07 1477.32 1763.99 1472.74 Q1760.94 1468.13 1760.94 1459.41 Q1760.94 1450.66 1763.99 1446.07 Q1767.07 1441.47 1772.88 1441.47 Z\" fill=\"#000000\" fill-rule=\"evenodd\" fill-opacity=\"1\" /><path clip-path=\"url(#clip710)\" d=\"M 0 0 M1799.9 1445.17 Q1796.28 1445.17 1794.46 1448.74 Q1792.65 1452.28 1792.65 1459.41 Q1792.65 1466.51 1794.46 1470.08 Q1796.28 1473.62 1799.9 1473.62 Q1803.53 1473.62 1805.34 1470.08 Q1807.16 1466.51 1807.16 1459.41 Q1807.16 1452.28 1805.34 1448.74 Q1803.53 1445.17 1799.9 1445.17 M1799.9 1441.47 Q1805.71 1441.47 1808.76 1446.07 Q1811.84 1450.66 1811.84 1459.41 Q1811.84 1468.13 1808.76 1472.74 Q1805.71 1477.32 1799.9 1477.32 Q1794.09 1477.32 1791.01 1472.74 Q1787.95 1468.13 1787.95 1459.41 Q1787.95 1450.66 1791.01 1446.07 Q1794.09 1441.47 1799.9 1441.47 Z\" fill=\"#000000\" fill-rule=\"evenodd\" fill-opacity=\"1\" /><path clip-path=\"url(#clip710)\" d=\"M 0 0 M1826.91 1445.17 Q1823.3 1445.17 1821.47 1448.74 Q1819.66 1452.28 1819.66 1459.41 Q1819.66 1466.51 1821.47 1470.08 Q1823.3 1473.62 1826.91 1473.62 Q1830.54 1473.62 1832.35 1470.08 Q1834.18 1466.51 1834.18 1459.41 Q1834.18 1452.28 1832.35 1448.74 Q1830.54 1445.17 1826.91 1445.17 M1826.91 1441.47 Q1832.72 1441.47 1835.78 1446.07 Q1838.85 1450.66 1838.85 1459.41 Q1838.85 1468.13 1835.78 1472.74 Q1832.72 1477.32 1826.91 1477.32 Q1821.1 1477.32 1818.02 1472.74 Q1814.97 1468.13 1814.97 1459.41 Q1814.97 1450.66 1818.02 1446.07 Q1821.1 1441.47 1826.91 1441.47 Z\" fill=\"#000000\" fill-rule=\"evenodd\" fill-opacity=\"1\" /><path clip-path=\"url(#clip710)\" d=\"M 0 0 M2254.64 1446.17 L2242.83 1464.61 L2254.64 1464.61 L2254.64 1446.17 M2253.41 1442.09 L2259.29 1442.09 L2259.29 1464.61 L2264.22 1464.61 L2264.22 1468.5 L2259.29 1468.5 L2259.29 1476.65 L2254.64 1476.65 L2254.64 1468.5 L2239.03 1468.5 L2239.03 1463.99 L2253.41 1442.09 Z\" fill=\"#000000\" fill-rule=\"evenodd\" fill-opacity=\"1\" /><path clip-path=\"url(#clip710)\" d=\"M 0 0 M2279.29 1445.17 Q2275.68 1445.17 2273.85 1448.74 Q2272.04 1452.28 2272.04 1459.41 Q2272.04 1466.51 2273.85 1470.08 Q2275.68 1473.62 2279.29 1473.62 Q2282.92 1473.62 2284.73 1470.08 Q2286.56 1466.51 2286.56 1459.41 Q2286.56 1452.28 2284.73 1448.74 Q2282.92 1445.17 2279.29 1445.17 M2279.29 1441.47 Q2285.1 1441.47 2288.16 1446.07 Q2291.23 1450.66 2291.23 1459.41 Q2291.23 1468.13 2288.16 1472.74 Q2285.1 1477.32 2279.29 1477.32 Q2273.48 1477.32 2270.4 1472.74 Q2267.34 1468.13 2267.34 1459.41 Q2267.34 1450.66 2270.4 1446.07 Q2273.48 1441.47 2279.29 1441.47 Z\" fill=\"#000000\" fill-rule=\"evenodd\" fill-opacity=\"1\" /><path clip-path=\"url(#clip710)\" d=\"M 0 0 M2306.3 1445.17 Q2302.69 1445.17 2300.86 1448.74 Q2299.06 1452.28 2299.06 1459.41 Q2299.06 1466.51 2300.86 1470.08 Q2302.69 1473.62 2306.3 1473.62 Q2309.94 1473.62 2311.74 1470.08 Q2313.57 1466.51 2313.57 1459.41 Q2313.57 1452.28 2311.74 1448.74 Q2309.94 1445.17 2306.3 1445.17 M2306.3 1441.47 Q2312.11 1441.47 2315.17 1446.07 Q2318.25 1450.66 2318.25 1459.41 Q2318.25 1468.13 2315.17 1472.74 Q2312.11 1477.32 2306.3 1477.32 Q2300.49 1477.32 2297.41 1472.74 Q2294.36 1468.13 2294.36 1459.41 Q2294.36 1450.66 2297.41 1446.07 Q2300.49 1441.47 2306.3 1441.47 Z\" fill=\"#000000\" fill-rule=\"evenodd\" fill-opacity=\"1\" /><path clip-path=\"url(#clip710)\" d=\"M 0 0 M2333.32 1445.17 Q2329.71 1445.17 2327.88 1448.74 Q2326.07 1452.28 2326.07 1459.41 Q2326.07 1466.51 2327.88 1470.08 Q2329.71 1473.62 2333.32 1473.62 Q2336.95 1473.62 2338.76 1470.08 Q2340.59 1466.51 2340.59 1459.41 Q2340.59 1452.28 2338.76 1448.74 Q2336.95 1445.17 2333.32 1445.17 M2333.32 1441.47 Q2339.13 1441.47 2342.18 1446.07 Q2345.26 1450.66 2345.26 1459.41 Q2345.26 1468.13 2342.18 1472.74 Q2339.13 1477.32 2333.32 1477.32 Q2327.51 1477.32 2324.43 1472.74 Q2321.37 1468.13 2321.37 1459.41 Q2321.37 1450.66 2324.43 1446.07 Q2327.51 1441.47 2333.32 1441.47 Z\" fill=\"#000000\" fill-rule=\"evenodd\" fill-opacity=\"1\" /><path clip-path=\"url(#clip710)\" d=\"M 0 0 M138.205 1277.37 Q134.593 1277.37 132.765 1280.94 Q130.959 1284.48 130.959 1291.61 Q130.959 1298.71 132.765 1302.28 Q134.593 1305.82 138.205 1305.82 Q141.839 1305.82 143.644 1302.28 Q145.473 1298.71 145.473 1291.61 Q145.473 1284.48 143.644 1280.94 Q141.839 1277.37 138.205 1277.37 M138.205 1273.67 Q144.015 1273.67 147.07 1278.27 Q150.149 1282.86 150.149 1291.61 Q150.149 1300.33 147.07 1304.94 Q144.015 1309.52 138.205 1309.52 Q132.394 1309.52 129.316 1304.94 Q126.26 1300.33 126.26 1291.61 Q126.26 1282.86 129.316 1278.27 Q132.394 1273.67 138.205 1273.67 Z\" fill=\"#000000\" fill-rule=\"evenodd\" fill-opacity=\"1\" /><path clip-path=\"url(#clip710)\" d=\"M 0 0 M155.218 1302.97 L160.103 1302.97 L160.103 1308.85 L155.218 1308.85 L155.218 1302.97 Z\" fill=\"#000000\" fill-rule=\"evenodd\" fill-opacity=\"1\" /><path clip-path=\"url(#clip710)\" d=\"M 0 0 M175.751 1289.71 Q172.603 1289.71 170.751 1291.86 Q168.922 1294.01 168.922 1297.76 Q168.922 1301.49 170.751 1303.67 Q172.603 1305.82 175.751 1305.82 Q178.899 1305.82 180.727 1303.67 Q182.579 1301.49 182.579 1297.76 Q182.579 1294.01 180.727 1291.86 Q178.899 1289.71 175.751 1289.71 M185.033 1275.06 L185.033 1279.32 Q183.274 1278.48 181.468 1278.04 Q179.686 1277.6 177.927 1277.6 Q173.297 1277.6 170.843 1280.73 Q168.413 1283.85 168.065 1290.17 Q169.431 1288.16 171.491 1287.09 Q173.552 1286.01 176.028 1286.01 Q181.237 1286.01 184.246 1289.18 Q187.278 1292.33 187.278 1297.76 Q187.278 1303.09 184.13 1306.31 Q180.982 1309.52 175.751 1309.52 Q169.755 1309.52 166.584 1304.94 Q163.413 1300.33 163.413 1291.61 Q163.413 1283.41 167.302 1278.55 Q171.19 1273.67 177.741 1273.67 Q179.501 1273.67 181.283 1274.01 Q183.089 1274.36 185.033 1275.06 Z\" fill=\"#000000\" fill-rule=\"evenodd\" fill-opacity=\"1\" /><path clip-path=\"url(#clip710)\" d=\"M 0 0 M139.269 1075.56 Q135.658 1075.56 133.83 1079.13 Q132.024 1082.67 132.024 1089.8 Q132.024 1096.91 133.83 1100.47 Q135.658 1104.01 139.269 1104.01 Q142.904 1104.01 144.709 1100.47 Q146.538 1096.91 146.538 1089.8 Q146.538 1082.67 144.709 1079.13 Q142.904 1075.56 139.269 1075.56 M139.269 1071.86 Q145.08 1071.86 148.135 1076.47 Q151.214 1081.05 151.214 1089.8 Q151.214 1098.53 148.135 1103.13 Q145.08 1107.72 139.269 1107.72 Q133.459 1107.72 130.381 1103.13 Q127.325 1098.53 127.325 1089.8 Q127.325 1081.05 130.381 1076.47 Q133.459 1071.86 139.269 1071.86 Z\" fill=\"#000000\" fill-rule=\"evenodd\" fill-opacity=\"1\" /><path clip-path=\"url(#clip710)\" d=\"M 0 0 M156.283 1101.17 L161.167 1101.17 L161.167 1107.05 L156.283 1107.05 L156.283 1101.17 Z\" fill=\"#000000\" fill-rule=\"evenodd\" fill-opacity=\"1\" /><path clip-path=\"url(#clip710)\" d=\"M 0 0 M165.056 1072.49 L187.278 1072.49 L187.278 1074.48 L174.732 1107.05 L169.848 1107.05 L181.653 1076.42 L165.056 1076.42 L165.056 1072.49 Z\" fill=\"#000000\" fill-rule=\"evenodd\" fill-opacity=\"1\" /><path clip-path=\"url(#clip710)\" d=\"M 0 0 M138.459 873.757 Q134.848 873.757 133.019 877.322 Q131.214 880.864 131.214 887.993 Q131.214 895.1 133.019 898.665 Q134.848 902.206 138.459 902.206 Q142.093 902.206 143.899 898.665 Q145.728 895.1 145.728 887.993 Q145.728 880.864 143.899 877.322 Q142.093 873.757 138.459 873.757 M138.459 870.054 Q144.269 870.054 147.325 874.66 Q150.404 879.244 150.404 887.993 Q150.404 896.72 147.325 901.327 Q144.269 905.91 138.459 905.91 Q132.649 905.91 129.57 901.327 Q126.515 896.72 126.515 887.993 Q126.515 879.244 129.57 874.66 Q132.649 870.054 138.459 870.054 Z\" fill=\"#000000\" fill-rule=\"evenodd\" fill-opacity=\"1\" /><path clip-path=\"url(#clip710)\" d=\"M 0 0 M155.473 899.359 L160.357 899.359 L160.357 905.239 L155.473 905.239 L155.473 899.359 Z\" fill=\"#000000\" fill-rule=\"evenodd\" fill-opacity=\"1\" /><path clip-path=\"url(#clip710)\" d=\"M 0 0 M175.427 888.827 Q172.093 888.827 170.172 890.609 Q168.274 892.392 168.274 895.517 Q168.274 898.642 170.172 900.424 Q172.093 902.206 175.427 902.206 Q178.76 902.206 180.681 900.424 Q182.602 898.618 182.602 895.517 Q182.602 892.392 180.681 890.609 Q178.783 888.827 175.427 888.827 M170.751 886.836 Q167.741 886.095 166.052 884.035 Q164.385 881.975 164.385 879.012 Q164.385 874.869 167.325 872.461 Q170.288 870.054 175.427 870.054 Q180.589 870.054 183.528 872.461 Q186.468 874.869 186.468 879.012 Q186.468 881.975 184.778 884.035 Q183.112 886.095 180.126 886.836 Q183.505 887.623 185.38 889.915 Q187.278 892.206 187.278 895.517 Q187.278 900.54 184.2 903.225 Q181.144 905.91 175.427 905.91 Q169.709 905.91 166.63 903.225 Q163.575 900.54 163.575 895.517 Q163.575 892.206 165.473 889.915 Q167.371 887.623 170.751 886.836 M169.038 879.452 Q169.038 882.137 170.704 883.642 Q172.394 885.146 175.427 885.146 Q178.436 885.146 180.126 883.642 Q181.839 882.137 181.839 879.452 Q181.839 876.767 180.126 875.262 Q178.436 873.757 175.427 873.757 Q172.394 873.757 170.704 875.262 Q169.038 876.767 169.038 879.452 Z\" fill=\"#000000\" fill-rule=\"evenodd\" fill-opacity=\"1\" /><path clip-path=\"url(#clip710)\" d=\"M 0 0 M138.552 671.95 Q134.941 671.95 133.112 675.515 Q131.306 679.057 131.306 686.186 Q131.306 693.293 133.112 696.858 Q134.941 700.399 138.552 700.399 Q142.186 700.399 143.992 696.858 Q145.82 693.293 145.82 686.186 Q145.82 679.057 143.992 675.515 Q142.186 671.95 138.552 671.95 M138.552 668.247 Q144.362 668.247 147.417 672.853 Q150.496 677.437 150.496 686.186 Q150.496 694.913 147.417 699.52 Q144.362 704.103 138.552 704.103 Q132.742 704.103 129.663 699.52 Q126.607 694.913 126.607 686.186 Q126.607 677.437 129.663 672.853 Q132.742 668.247 138.552 668.247 Z\" fill=\"#000000\" fill-rule=\"evenodd\" fill-opacity=\"1\" /><path clip-path=\"url(#clip710)\" d=\"M 0 0 M155.566 697.552 L160.45 697.552 L160.45 703.432 L155.566 703.432 L155.566 697.552 Z\" fill=\"#000000\" fill-rule=\"evenodd\" fill-opacity=\"1\" /><path clip-path=\"url(#clip710)\" d=\"M 0 0 M165.658 702.714 L165.658 698.455 Q167.417 699.288 169.223 699.728 Q171.028 700.168 172.765 700.168 Q177.394 700.168 179.825 697.066 Q182.278 693.941 182.626 687.599 Q181.283 689.589 179.223 690.654 Q177.163 691.719 174.663 691.719 Q169.478 691.719 166.445 688.594 Q163.436 685.446 163.436 680.006 Q163.436 674.682 166.584 671.464 Q169.732 668.247 174.964 668.247 Q180.959 668.247 184.107 672.853 Q187.278 677.437 187.278 686.186 Q187.278 694.358 183.389 699.242 Q179.524 704.103 172.973 704.103 Q171.214 704.103 169.408 703.756 Q167.603 703.409 165.658 702.714 M174.964 688.061 Q178.112 688.061 179.94 685.909 Q181.792 683.756 181.792 680.006 Q181.792 676.279 179.94 674.126 Q178.112 671.95 174.964 671.95 Q171.815 671.95 169.964 674.126 Q168.135 676.279 168.135 680.006 Q168.135 683.756 169.964 685.909 Q171.815 688.061 174.964 688.061 Z\" fill=\"#000000\" fill-rule=\"evenodd\" fill-opacity=\"1\" /><path clip-path=\"url(#clip710)\" d=\"M 0 0 M130.404 497.69 L138.043 497.69 L138.043 471.324 L129.732 472.991 L129.732 468.731 L137.996 467.065 L142.672 467.065 L142.672 497.69 L150.311 497.69 L150.311 501.625 L130.404 501.625 L130.404 497.69 Z\" fill=\"#000000\" fill-rule=\"evenodd\" fill-opacity=\"1\" /><path clip-path=\"url(#clip710)\" d=\"M 0 0 M155.38 495.745 L160.265 495.745 L160.265 501.625 L155.38 501.625 L155.38 495.745 Z\" fill=\"#000000\" fill-rule=\"evenodd\" fill-opacity=\"1\" /><path clip-path=\"url(#clip710)\" d=\"M 0 0 M175.334 470.143 Q171.723 470.143 169.894 473.708 Q168.089 477.25 168.089 484.379 Q168.089 491.486 169.894 495.051 Q171.723 498.592 175.334 498.592 Q178.968 498.592 180.774 495.051 Q182.602 491.486 182.602 484.379 Q182.602 477.25 180.774 473.708 Q178.968 470.143 175.334 470.143 M175.334 466.44 Q181.144 466.44 184.2 471.046 Q187.278 475.63 187.278 484.379 Q187.278 493.106 184.2 497.713 Q181.144 502.296 175.334 502.296 Q169.524 502.296 166.445 497.713 Q163.39 493.106 163.39 484.379 Q163.39 475.63 166.445 471.046 Q169.524 466.44 175.334 466.44 Z\" fill=\"#000000\" fill-rule=\"evenodd\" fill-opacity=\"1\" /><path clip-path=\"url(#clip710)\" d=\"M 0 0 M131.63 295.883 L139.269 295.883 L139.269 269.517 L130.959 271.184 L130.959 266.924 L139.223 265.258 L143.899 265.258 L143.899 295.883 L151.538 295.883 L151.538 299.818 L131.63 299.818 L131.63 295.883 Z\" fill=\"#000000\" fill-rule=\"evenodd\" fill-opacity=\"1\" /><path clip-path=\"url(#clip710)\" d=\"M 0 0 M156.607 293.938 L161.491 293.938 L161.491 299.818 L156.607 299.818 L156.607 293.938 Z\" fill=\"#000000\" fill-rule=\"evenodd\" fill-opacity=\"1\" /><path clip-path=\"url(#clip710)\" d=\"M 0 0 M167.371 295.883 L175.01 295.883 L175.01 269.517 L166.7 271.184 L166.7 266.924 L174.964 265.258 L179.64 265.258 L179.64 295.883 L187.278 295.883 L187.278 299.818 L167.371 299.818 L167.371 295.883 Z\" fill=\"#000000\" fill-rule=\"evenodd\" fill-opacity=\"1\" /><path clip-path=\"url(#clip710)\" d=\"M 0 0 M132.001 94.0756 L139.64 94.0756 L139.64 67.71 L131.33 69.3767 L131.33 65.1174 L139.593 63.4508 L144.269 63.4508 L144.269 94.0756 L151.908 94.0756 L151.908 98.0108 L132.001 98.0108 L132.001 94.0756 Z\" fill=\"#000000\" fill-rule=\"evenodd\" fill-opacity=\"1\" /><path clip-path=\"url(#clip710)\" d=\"M 0 0 M156.978 92.1312 L161.862 92.1312 L161.862 98.0108 L156.978 98.0108 L156.978 92.1312 Z\" fill=\"#000000\" fill-rule=\"evenodd\" fill-opacity=\"1\" /><path clip-path=\"url(#clip710)\" d=\"M 0 0 M170.959 94.0756 L187.278 94.0756 L187.278 98.0108 L165.334 98.0108 L165.334 94.0756 Q167.996 91.321 172.579 86.6914 Q177.186 82.0386 178.366 80.6961 Q180.612 78.1729 181.491 76.4368 Q182.394 74.6776 182.394 72.9878 Q182.394 70.2332 180.45 68.4971 Q178.528 66.761 175.427 66.761 Q173.227 66.761 170.774 67.5248 Q168.343 68.2887 165.566 69.8396 L165.566 65.1174 Q168.39 63.9832 170.843 63.4045 Q173.297 62.8258 175.334 62.8258 Q180.704 62.8258 183.899 65.511 Q187.093 68.1961 187.093 72.6868 Q187.093 74.8165 186.283 76.7377 Q185.496 78.6359 183.389 81.2285 Q182.811 81.8998 179.709 85.1173 Q176.607 88.3118 170.959 94.0756 Z\" fill=\"#000000\" fill-rule=\"evenodd\" fill-opacity=\"1\" /><path clip-path=\"url(#clip710)\" d=\"M 0 0 M1212.3 1536.76 L1212.3 1539.62 L1185.37 1539.62 Q1185.75 1545.67 1189 1548.85 Q1192.28 1552 1198.1 1552 Q1201.48 1552 1204.63 1551.17 Q1207.81 1550.35 1210.93 1548.69 L1210.93 1554.23 Q1207.78 1555.57 1204.47 1556.27 Q1201.16 1556.97 1197.75 1556.97 Q1189.22 1556.97 1184.22 1552 Q1179.26 1547.04 1179.26 1538.57 Q1179.26 1529.82 1183.97 1524.69 Q1188.71 1519.54 1196.73 1519.54 Q1203.93 1519.54 1208.1 1524.18 Q1212.3 1528.8 1212.3 1536.76 M1206.44 1535.04 Q1206.38 1530.23 1203.73 1527.37 Q1201.12 1524.5 1196.8 1524.5 Q1191.89 1524.5 1188.93 1527.27 Q1186.01 1530.04 1185.56 1535.07 L1206.44 1535.04 Z\" fill=\"#000000\" fill-rule=\"evenodd\" fill-opacity=\"1\" /><path clip-path=\"url(#clip710)\" d=\"M 0 0 M1224.11 1550.7 L1224.11 1569.6 L1218.22 1569.6 L1218.22 1520.4 L1224.11 1520.4 L1224.11 1525.81 Q1225.95 1522.62 1228.75 1521.1 Q1231.58 1519.54 1235.5 1519.54 Q1241.99 1519.54 1246.03 1524.69 Q1250.11 1529.85 1250.11 1538.25 Q1250.11 1546.65 1246.03 1551.81 Q1241.99 1556.97 1235.5 1556.97 Q1231.58 1556.97 1228.75 1555.44 Q1225.95 1553.88 1224.11 1550.7 M1244.03 1538.25 Q1244.03 1531.79 1241.36 1528.13 Q1238.71 1524.44 1234.07 1524.44 Q1229.42 1524.44 1226.75 1528.13 Q1224.11 1531.79 1224.11 1538.25 Q1224.11 1544.71 1226.75 1548.4 Q1229.42 1552.07 1234.07 1552.07 Q1238.71 1552.07 1241.36 1548.4 Q1244.03 1544.71 1244.03 1538.25 Z\" fill=\"#000000\" fill-rule=\"evenodd\" fill-opacity=\"1\" /><path clip-path=\"url(#clip710)\" d=\"M 0 0 M1270.07 1524.5 Q1265.35 1524.5 1262.62 1528.19 Q1259.88 1531.85 1259.88 1538.25 Q1259.88 1544.65 1262.59 1548.34 Q1265.32 1552 1270.07 1552 Q1274.74 1552 1277.48 1548.31 Q1280.22 1544.62 1280.22 1538.25 Q1280.22 1531.92 1277.48 1528.23 Q1274.74 1524.5 1270.07 1524.5 M1270.07 1519.54 Q1277.7 1519.54 1282.06 1524.5 Q1286.43 1529.47 1286.43 1538.25 Q1286.43 1547 1282.06 1552 Q1277.7 1556.97 1270.07 1556.97 Q1262.39 1556.97 1258.03 1552 Q1253.71 1547 1253.71 1538.25 Q1253.71 1529.47 1258.03 1524.5 Q1262.39 1519.54 1270.07 1519.54 Z\" fill=\"#000000\" fill-rule=\"evenodd\" fill-opacity=\"1\" /><path clip-path=\"url(#clip710)\" d=\"M 0 0 M1318.22 1521.76 L1318.22 1527.24 Q1315.74 1525.87 1313.23 1525.2 Q1310.74 1524.5 1308.2 1524.5 Q1302.5 1524.5 1299.35 1528.13 Q1296.2 1531.73 1296.2 1538.25 Q1296.2 1544.78 1299.35 1548.4 Q1302.5 1552 1308.2 1552 Q1310.74 1552 1313.23 1551.33 Q1315.74 1550.63 1318.22 1549.26 L1318.22 1554.68 Q1315.77 1555.82 1313.13 1556.39 Q1310.52 1556.97 1307.56 1556.97 Q1299.51 1556.97 1294.76 1551.91 Q1290.02 1546.85 1290.02 1538.25 Q1290.02 1529.53 1294.8 1524.53 Q1299.6 1519.54 1307.94 1519.54 Q1310.65 1519.54 1313.23 1520.11 Q1315.8 1520.65 1318.22 1521.76 Z\" fill=\"#000000\" fill-rule=\"evenodd\" fill-opacity=\"1\" /><path clip-path=\"url(#clip710)\" d=\"M 0 0 M1354 1534.53 L1354 1556.04 L1348.14 1556.04 L1348.14 1534.72 Q1348.14 1529.66 1346.17 1527.14 Q1344.19 1524.63 1340.25 1524.63 Q1335.5 1524.63 1332.77 1527.65 Q1330.03 1530.68 1330.03 1535.9 L1330.03 1556.04 L1324.14 1556.04 L1324.14 1506.52 L1330.03 1506.52 L1330.03 1525.93 Q1332.13 1522.72 1334.96 1521.13 Q1337.83 1519.54 1341.55 1519.54 Q1347.7 1519.54 1350.85 1523.36 Q1354 1527.14 1354 1534.53 Z\" fill=\"#000000\" fill-rule=\"evenodd\" fill-opacity=\"1\" /><path clip-path=\"url(#clip710)\" d=\"M 0 0 M1382.87 1521.45 L1382.87 1526.98 Q1380.38 1525.71 1377.71 1525.07 Q1375.04 1524.44 1372.17 1524.44 Q1367.81 1524.44 1365.61 1525.77 Q1363.45 1527.11 1363.45 1529.79 Q1363.45 1531.82 1365.01 1533 Q1366.57 1534.15 1371.28 1535.2 L1373.29 1535.64 Q1379.52 1536.98 1382.13 1539.43 Q1384.78 1541.85 1384.78 1546.21 Q1384.78 1551.17 1380.83 1554.07 Q1376.91 1556.97 1370.04 1556.97 Q1367.17 1556.97 1364.06 1556.39 Q1360.97 1555.85 1357.53 1554.74 L1357.53 1548.69 Q1360.78 1550.38 1363.93 1551.24 Q1367.08 1552.07 1370.17 1552.07 Q1374.3 1552.07 1376.53 1550.66 Q1378.76 1549.23 1378.76 1546.65 Q1378.76 1544.27 1377.14 1542.99 Q1375.55 1541.72 1370.1 1540.54 L1368.07 1540.07 Q1362.62 1538.92 1360.2 1536.56 Q1357.78 1534.18 1357.78 1530.04 Q1357.78 1525.01 1361.35 1522.27 Q1364.91 1519.54 1371.47 1519.54 Q1374.72 1519.54 1377.58 1520.01 Q1380.45 1520.49 1382.87 1521.45 Z\" fill=\"#000000\" fill-rule=\"evenodd\" fill-opacity=\"1\" /><path clip-path=\"url(#clip710)\" d=\"M 0 0 M44.1444 904.492 L50.9239 904.492 Q47.9002 907.739 46.4043 911.431 Q44.9083 915.091 44.9083 919.229 Q44.9083 927.377 49.9054 931.705 Q54.8707 936.034 64.2919 936.034 Q73.6813 936.034 78.6784 931.705 Q83.6436 927.377 83.6436 919.229 Q83.6436 915.091 82.1477 911.431 Q80.6518 907.739 77.6281 904.492 L84.3439 904.492 Q86.6355 907.866 87.7814 911.653 Q88.9272 915.409 88.9272 919.611 Q88.9272 930.4 82.3387 936.607 Q75.7183 942.814 64.2919 942.814 Q52.8336 942.814 46.2451 936.607 Q39.6248 930.4 39.6248 919.611 Q39.6248 915.346 40.7706 911.59 Q41.8846 907.802 44.1444 904.492 Z\" fill=\"#000000\" fill-rule=\"evenodd\" fill-opacity=\"1\" /><path clip-path=\"url(#clip710)\" d=\"M 0 0 M57.8307 877.692 Q57.2578 878.679 57.0032 879.857 Q56.7167 881.003 56.7167 882.403 Q56.7167 887.368 59.9632 890.042 Q63.1779 892.684 69.2253 892.684 L88.0042 892.684 L88.0042 898.572 L52.3562 898.572 L52.3562 892.684 L57.8944 892.684 Q54.6479 890.838 53.0883 887.878 Q51.4968 884.917 51.4968 880.684 Q51.4968 880.08 51.5923 879.347 Q51.656 878.615 51.8151 877.724 L57.8307 877.692 Z\" fill=\"#000000\" fill-rule=\"evenodd\" fill-opacity=\"1\" /><path clip-path=\"url(#clip710)\" d=\"M 0 0 M56.4621 859.168 Q56.4621 863.879 60.1542 866.616 Q63.8145 869.353 70.212 869.353 Q76.6095 869.353 80.3017 866.648 Q83.9619 863.911 83.9619 859.168 Q83.9619 854.489 80.2698 851.752 Q76.5777 849.015 70.212 849.015 Q63.8781 849.015 60.186 851.752 Q56.4621 854.489 56.4621 859.168 M51.4968 859.168 Q51.4968 851.529 56.4621 847.169 Q61.4273 842.808 70.212 842.808 Q78.9649 842.808 83.9619 847.169 Q88.9272 851.529 88.9272 859.168 Q88.9272 866.839 83.9619 871.199 Q78.9649 875.528 70.212 875.528 Q61.4273 875.528 56.4621 871.199 Q51.4968 866.839 51.4968 859.168 Z\" fill=\"#000000\" fill-rule=\"evenodd\" fill-opacity=\"1\" /><path clip-path=\"url(#clip710)\" d=\"M 0 0 M53.4065 813.94 L58.9447 813.94 Q57.6716 816.422 57.035 819.096 Q56.3984 821.77 56.3984 824.634 Q56.3984 828.995 57.7352 831.191 Q59.072 833.355 61.7456 833.355 Q63.7826 833.355 64.9603 831.796 Q66.1061 830.236 67.1565 825.525 L67.6021 823.52 Q68.9389 817.282 71.3897 814.672 Q73.8086 812.03 78.1691 812.03 Q83.1344 812.03 86.0308 815.977 Q88.9272 819.892 88.9272 826.767 Q88.9272 829.631 88.3543 832.751 Q87.8132 835.838 86.6992 839.275 L80.6518 839.275 Q82.3387 836.029 83.198 832.878 Q84.0256 829.727 84.0256 826.639 Q84.0256 822.502 82.6251 820.274 Q81.1929 818.046 78.6147 818.046 Q76.2276 818.046 74.9545 819.669 Q73.6813 821.26 72.5037 826.703 L72.0262 828.74 Q70.8804 834.183 68.5251 836.602 Q66.138 839.021 62.0002 839.021 Q56.9713 839.021 54.2341 835.456 Q51.4968 831.891 51.4968 825.334 Q51.4968 822.088 51.9743 819.223 Q52.4517 816.359 53.4065 813.94 Z\" fill=\"#000000\" fill-rule=\"evenodd\" fill-opacity=\"1\" /><path clip-path=\"url(#clip710)\" d=\"M 0 0 M53.4065 783.162 L58.9447 783.162 Q57.6716 785.644 57.035 788.318 Q56.3984 790.991 56.3984 793.856 Q56.3984 798.217 57.7352 800.413 Q59.072 802.577 61.7456 802.577 Q63.7826 802.577 64.9603 801.017 Q66.1061 799.458 67.1565 794.747 L67.6021 792.742 Q68.9389 786.504 71.3897 783.894 Q73.8086 781.252 78.1691 781.252 Q83.1344 781.252 86.0308 785.199 Q88.9272 789.114 88.9272 795.989 Q88.9272 798.853 88.3543 801.972 Q87.8132 805.06 86.6992 808.497 L80.6518 808.497 Q82.3387 805.251 83.198 802.1 Q84.0256 798.949 84.0256 795.861 Q84.0256 791.724 82.6251 789.496 Q81.1929 787.268 78.6147 787.268 Q76.2276 787.268 74.9545 788.891 Q73.6813 790.482 72.5037 795.925 L72.0262 797.962 Q70.8804 803.405 68.5251 805.824 Q66.138 808.243 62.0002 808.243 Q56.9713 808.243 54.2341 804.678 Q51.4968 801.113 51.4968 794.556 Q51.4968 791.31 51.9743 788.445 Q52.4517 785.581 53.4065 783.162 Z\" fill=\"#000000\" fill-rule=\"evenodd\" fill-opacity=\"1\" /><path clip-path=\"url(#clip710)\" d=\"M 0 0 M40.4842 754.134 L40.4842 724.088 L45.895 724.088 L45.895 747.705 L59.9632 747.705 L59.9632 725.075 L65.3741 725.075 L65.3741 747.705 L82.5933 747.705 L82.5933 723.515 L88.0042 723.515 L88.0042 754.134 L40.4842 754.134 Z\" fill=\"#000000\" fill-rule=\"evenodd\" fill-opacity=\"1\" /><path clip-path=\"url(#clip710)\" d=\"M 0 0 M66.4881 687.74 L88.0042 687.74 L88.0042 693.596 L66.679 693.596 Q61.6183 693.596 59.1038 695.57 Q56.5894 697.543 56.5894 701.49 Q56.5894 706.232 59.6131 708.969 Q62.6368 711.707 67.8567 711.707 L88.0042 711.707 L88.0042 717.595 L52.3562 717.595 L52.3562 711.707 L57.8944 711.707 Q54.6797 709.606 53.0883 706.773 Q51.4968 703.909 51.4968 700.185 Q51.4968 694.042 55.3163 690.891 Q59.1038 687.74 66.4881 687.74 Z\" fill=\"#000000\" fill-rule=\"evenodd\" fill-opacity=\"1\" /><path clip-path=\"url(#clip710)\" d=\"M 0 0 M42.2347 675.804 L52.3562 675.804 L52.3562 663.741 L56.9077 663.741 L56.9077 675.804 L76.2594 675.804 Q80.6199 675.804 81.8613 674.626 Q83.1026 673.417 83.1026 669.757 L83.1026 663.741 L88.0042 663.741 L88.0042 669.757 Q88.0042 676.536 85.4897 679.114 Q82.9434 681.692 76.2594 681.692 L56.9077 681.692 L56.9077 685.989 L52.3562 685.989 L52.3562 681.692 L42.2347 681.692 L42.2347 675.804 Z\" fill=\"#000000\" fill-rule=\"evenodd\" fill-opacity=\"1\" /><path clip-path=\"url(#clip710)\" d=\"M 0 0 M57.8307 636.941 Q57.2578 637.928 57.0032 639.106 Q56.7167 640.252 56.7167 641.652 Q56.7167 646.617 59.9632 649.291 Q63.1779 651.933 69.2253 651.933 L88.0042 651.933 L88.0042 657.821 L52.3562 657.821 L52.3562 651.933 L57.8944 651.933 Q54.6479 650.087 53.0883 647.127 Q51.4968 644.166 51.4968 639.933 Q51.4968 639.329 51.5923 638.596 Q51.656 637.864 51.8151 636.973 L57.8307 636.941 Z\" fill=\"#000000\" fill-rule=\"evenodd\" fill-opacity=\"1\" /><path clip-path=\"url(#clip710)\" d=\"M 0 0 M56.4621 618.417 Q56.4621 623.128 60.1542 625.865 Q63.8145 628.602 70.212 628.602 Q76.6095 628.602 80.3017 625.897 Q83.9619 623.16 83.9619 618.417 Q83.9619 613.738 80.2698 611.001 Q76.5777 608.264 70.212 608.264 Q63.8781 608.264 60.186 611.001 Q56.4621 613.738 56.4621 618.417 M51.4968 618.417 Q51.4968 610.778 56.4621 606.418 Q61.4273 602.057 70.212 602.057 Q78.9649 602.057 83.9619 606.418 Q88.9272 610.778 88.9272 618.417 Q88.9272 626.088 83.9619 630.448 Q78.9649 634.777 70.212 634.777 Q61.4273 634.777 56.4621 630.448 Q51.4968 626.088 51.4968 618.417 Z\" fill=\"#000000\" fill-rule=\"evenodd\" fill-opacity=\"1\" /><path clip-path=\"url(#clip710)\" d=\"M 0 0 M82.657 590.249 L101.563 590.249 L101.563 596.137 L52.3562 596.137 L52.3562 590.249 L57.7671 590.249 Q54.5842 588.403 53.0564 585.602 Q51.4968 582.769 51.4968 578.854 Q51.4968 572.361 56.6531 568.319 Q61.8093 564.245 70.212 564.245 Q78.6147 564.245 83.771 568.319 Q88.9272 572.361 88.9272 578.854 Q88.9272 582.769 87.3994 585.602 Q85.8398 588.403 82.657 590.249 M70.212 570.324 Q63.7508 570.324 60.0905 572.998 Q56.3984 575.64 56.3984 580.287 Q56.3984 584.934 60.0905 587.607 Q63.7508 590.249 70.212 590.249 Q76.6732 590.249 80.3653 587.607 Q84.0256 584.934 84.0256 580.287 Q84.0256 575.64 80.3653 572.998 Q76.6732 570.324 70.212 570.324 Z\" fill=\"#000000\" fill-rule=\"evenodd\" fill-opacity=\"1\" /><path clip-path=\"url(#clip710)\" d=\"M 0 0 M91.3143 543.27 Q97.68 545.753 99.6216 548.108 Q101.563 550.463 101.563 554.41 L101.563 559.089 L96.6615 559.089 L96.6615 555.651 Q96.6615 553.232 95.5157 551.896 Q94.3699 550.559 90.1048 548.935 L87.4312 547.885 L52.3562 562.303 L52.3562 556.097 L80.238 544.957 L52.3562 533.817 L52.3562 527.61 L91.3143 543.27 Z\" fill=\"#000000\" fill-rule=\"evenodd\" fill-opacity=\"1\" /><polyline clip-path=\"url(#clip712)\" style=\"stroke:#009af9; stroke-width:8; stroke-opacity:1; fill:none\" points=\"\n",
       "  271.886,190.282 272.391,132.87 272.897,102.667 273.402,86.1857 274.412,188.678 274.917,163.406 276.433,369.155 277.949,493.145 279.969,597.153 283,676.206 \n",
       "  287.042,723.828 292.094,749.567 299.167,763.516 308.26,771.655 320.385,783.174 336.551,803.351 358.274,841.58 387.07,887.537 425.464,939.517 476.489,999.294 \n",
       "  544.185,1062.94 634.614,1080.52 754.85,1073.64 914.995,1057.37 1128.19,1034.65 1412.1,1033.72 1789.48,1025.39 2292.15,1020.73 \n",
       "  \"/>\n",
       "<polyline clip-path=\"url(#clip712)\" style=\"stroke:#e26f46; stroke-width:8; stroke-opacity:1; fill:none\" points=\"\n",
       "  271.886,482.163 272.391,545.132 272.897,607.998 273.402,661.842 273.907,707.929 274.412,748.411 274.917,783.603 275.423,813.575 275.928,838.751 276.433,859.773 \n",
       "  276.938,877.332 277.443,892.065 277.949,904.52 278.454,915.146 278.959,924.3 279.464,932.269 279.969,939.277 280.474,945.503 280.98,951.087 281.485,956.139 \n",
       "  281.99,960.749 282.495,964.987 283,968.911 283.506,972.566 284.011,975.992 284.516,979.218 285.021,982.272 285.526,985.174 286.032,987.943 286.537,990.593 \n",
       "  287.042,993.138 287.547,995.589 288.052,997.954 288.558,1000.24 289.063,1002.46 289.568,1004.62 290.073,1006.72 290.578,1008.76 291.083,1010.76 291.589,1012.72 \n",
       "  292.094,1014.65 292.599,1016.54 293.104,1018.4 293.609,1020.23 294.115,1022.04 294.62,1023.83 295.125,1025.61 295.63,1027.37 296.135,1029.11 296.641,1030.85 \n",
       "  297.146,1032.57 297.651,1034.29 298.156,1035.99 298.661,1037.7 299.167,1039.39 299.672,1041.08 300.177,1042.76 300.682,1044.44 301.187,1046.12 301.693,1047.79 \n",
       "  302.198,1049.46 302.703,1051.13 303.208,1052.8 303.713,1054.47 304.218,1056.15 304.724,1057.83 305.229,1059.51 305.734,1061.2 306.239,1062.9 306.744,1064.6 \n",
       "  307.25,1066.32 307.755,1068.04 308.26,1069.77 308.765,1071.51 309.27,1073.26 309.776,1075.03 310.281,1076.8 310.786,1078.59 311.291,1080.39 311.796,1082.2 \n",
       "  312.302,1084.02 312.807,1085.86 313.312,1087.7 313.817,1089.56 314.322,1091.44 314.828,1093.32 315.333,1095.22 315.838,1097.14 316.343,1099.06 316.848,1100.99 \n",
       "  317.353,1102.94 317.859,1104.9 318.364,1106.87 318.869,1108.84 319.374,1110.83 319.879,1112.83 320.385,1114.84 320.89,1116.86 321.395,1118.88 321.9,1120.91 \n",
       "  322.405,1122.95 322.911,1125 323.416,1127.05 323.921,1129.1 324.426,1131.16 324.931,1133.22 325.437,1135.28 325.942,1137.35 326.447,1139.41 326.952,1141.47 \n",
       "  327.457,1143.53 327.962,1145.59 328.468,1147.64 328.973,1149.69 329.478,1151.73 329.983,1153.76 330.488,1155.79 330.994,1157.81 331.499,1159.83 332.004,1161.84 \n",
       "  332.509,1163.84 333.014,1165.83 333.52,1167.82 334.025,1169.8 334.53,1171.77 335.035,1173.74 335.54,1175.71 336.046,1177.66 336.551,1179.61 337.056,1181.56 \n",
       "  337.561,1183.49 338.066,1185.42 338.572,1187.35 339.077,1189.26 339.582,1191.17 340.087,1193.07 340.592,1194.97 341.097,1196.86 341.603,1198.73 342.108,1200.6 \n",
       "  342.613,1202.46 343.118,1204.31 343.623,1206.14 344.129,1207.95 344.634,1209.75 345.139,1211.52 345.644,1213.28 346.149,1215.01 346.655,1216.72 347.16,1218.4 \n",
       "  347.665,1220.06 348.17,1221.7 348.675,1223.32 349.181,1224.92 349.686,1226.51 350.191,1228.08 350.696,1229.64 351.201,1231.19 351.707,1232.72 352.212,1234.24 \n",
       "  352.717,1235.75 353.222,1237.25 353.727,1238.73 354.232,1240.2 354.738,1241.66 355.243,1243.1 355.748,1244.53 356.253,1245.95 356.758,1247.35 357.264,1248.73 \n",
       "  357.769,1250.1 358.274,1251.45 358.779,1252.78 359.284,1254.1 359.79,1255.4 360.295,1256.68 360.8,1257.95 361.305,1259.2 361.81,1260.44 362.316,1261.66 \n",
       "  362.821,1262.88 363.326,1264.09 363.831,1265.28 364.336,1266.48 364.841,1267.66 365.347,1268.84 365.852,1270.01 366.357,1271.17 366.862,1272.32 367.367,1273.46 \n",
       "  367.873,1274.59 368.378,1275.72 368.883,1276.83 369.388,1277.93 369.893,1279.03 370.399,1280.11 370.904,1281.18 371.409,1282.24 371.914,1283.29 372.419,1284.32 \n",
       "  372.925,1285.33 373.43,1286.33 373.935,1287.32 374.44,1288.29 374.945,1289.24 375.451,1290.18 375.956,1291.11 376.461,1292.03 376.966,1292.94 377.471,1293.83 \n",
       "  377.976,1294.72 378.482,1295.59 378.987,1296.45 379.492,1297.3 379.997,1298.14 380.502,1298.97 381.008,1299.79 381.513,1300.6 382.018,1301.4 382.523,1302.19 \n",
       "  383.028,1302.97 383.534,1303.74 384.039,1304.51 384.544,1305.27 385.049,1306.02 385.554,1306.77 386.06,1307.52 386.565,1308.26 387.07,1309.01 387.575,1309.74 \n",
       "  388.08,1310.48 388.586,1311.21 389.091,1311.93 389.596,1312.64 390.101,1313.34 390.606,1314.03 391.111,1314.72 391.617,1315.4 392.122,1316.08 392.627,1316.77 \n",
       "  393.132,1317.48 393.637,1318.19 394.143,1318.89 394.648,1319.57 395.153,1320.23 395.658,1320.87 396.163,1321.5 396.669,1322.13 397.174,1322.74 397.679,1323.33 \n",
       "  398.184,1323.92 398.689,1324.49 399.195,1325.06 399.7,1325.62 400.205,1326.18 400.71,1326.73 401.215,1327.28 401.72,1327.84 402.226,1328.39 402.731,1328.94 \n",
       "  403.236,1329.49 403.741,1330.02 404.246,1330.54 404.752,1331.04 405.257,1331.54 405.762,1332.03 406.267,1332.52 406.772,1332.99 407.278,1333.45 407.783,1333.91 \n",
       "  408.288,1334.35 408.793,1334.79 409.298,1335.23 409.804,1335.65 410.309,1336.08 410.814,1336.5 411.319,1336.91 411.824,1337.33 412.33,1337.74 412.835,1338.14 \n",
       "  413.34,1338.55 413.845,1338.95 414.35,1339.34 414.855,1339.72 415.361,1340.1 415.866,1340.46 416.371,1340.83 416.876,1341.19 417.381,1341.56 417.887,1341.95 \n",
       "  418.392,1342.34 418.897,1342.71 419.402,1343.07 419.907,1343.41 420.413,1343.74 420.918,1344.04 421.423,1344.34 421.928,1344.63 422.433,1344.91 422.939,1345.18 \n",
       "  423.444,1345.46 423.949,1345.73 424.454,1346 424.959,1346.27 425.464,1346.55 425.97,1346.82 426.475,1347.1 426.98,1347.38 427.485,1347.67 427.99,1347.97 \n",
       "  428.496,1348.27 429.001,1348.58 429.506,1348.89 430.011,1349.2 430.516,1349.52 431.022,1349.86 431.527,1350.21 432.032,1350.54 432.537,1350.83 433.042,1351.1 \n",
       "  433.548,1351.36 434.053,1351.63 434.558,1351.9 435.063,1352.15 435.568,1352.37 436.074,1352.6 436.579,1352.85 437.084,1353.12 437.589,1353.36 438.094,1353.54 \n",
       "  438.599,1353.71 439.105,1353.87 439.61,1354.04 440.115,1354.22 440.62,1354.44 441.125,1354.63 441.631,1354.77 442.136,1354.91 442.641,1355.04 443.146,1355.18 \n",
       "  443.651,1355.31 444.157,1355.45 444.662,1355.61 445.167,1355.8 445.672,1356.02 446.177,1356.21 446.683,1356.35 447.188,1356.47 447.693,1356.58 448.198,1356.69 \n",
       "  448.703,1356.79 449.209,1356.88 449.714,1356.97 450.219,1357.06 450.724,1357.15 451.229,1357.23 451.734,1357.32 452.24,1357.4 452.745,1357.49 453.25,1357.6 \n",
       "  453.755,1357.74 454.26,1357.86 454.766,1357.94 455.271,1358.02 455.776,1358.1 456.281,1358.19 456.786,1358.37 457.292,1358.65 457.797,1358.75 458.302,1358.86 \n",
       "  458.807,1358.95 459.312,1359.05 459.818,1359.13 460.323,1359.19 460.828,1359.25 461.333,1359.31 461.838,1359.37 462.343,1359.42 462.849,1359.47 463.354,1359.53 \n",
       "  463.859,1359.6 464.364,1359.7 464.869,1359.88 465.375,1360.01 465.88,1360.09 466.385,1360.19 466.89,1360.32 467.395,1360.44 467.901,1360.51 468.406,1360.56 \n",
       "  468.911,1360.61 469.416,1360.65 469.921,1360.7 470.427,1360.74 470.932,1360.79 471.437,1360.87 471.942,1361.02 472.447,1361.25 472.953,1361.4 473.458,1361.48 \n",
       "  473.963,1361.54 474.468,1361.62 474.973,1361.8 475.478,1361.97 475.984,1362.02 476.489,1362.06 476.994,1362.11 477.499,1362.18 478.004,1362.28 478.51,1362.35 \n",
       "  479.015,1362.42 479.52,1362.56 480.025,1362.69 480.53,1362.74 481.036,1362.77 481.541,1362.81 482.046,1362.83 482.551,1362.86 483.056,1362.89 483.562,1362.91 \n",
       "  484.067,1362.94 484.572,1362.96 485.077,1362.98 485.582,1363 486.088,1363.03 486.593,1363.07 487.098,1363.19 487.603,1363.41 488.108,1363.46 488.613,1363.48 \n",
       "  489.119,1363.51 489.624,1363.53 490.129,1363.55 490.634,1363.56 491.139,1363.58 491.645,1363.59 492.15,1363.61 492.655,1363.62 493.16,1363.64 493.665,1363.65 \n",
       "  494.171,1363.67 494.676,1363.68 495.181,1363.69 495.686,1363.71 496.191,1363.72 496.697,1363.73 497.202,1363.74 497.707,1363.76 498.212,1363.77 498.717,1363.78 \n",
       "  499.222,1363.79 499.728,1363.8 500.233,1363.81 500.738,1363.82 501.243,1363.83 501.748,1363.84 502.254,1363.85 502.759,1363.87 503.264,1363.98 503.769,1364.3 \n",
       "  504.274,1364.42 504.78,1364.58 505.285,1364.79 505.79,1364.82 506.295,1364.83 506.8,1364.84 507.306,1364.85 507.811,1364.86 508.316,1364.87 508.821,1364.87 \n",
       "  509.326,1364.88 509.832,1364.89 510.337,1364.89 510.842,1364.9 511.347,1364.91 511.852,1364.91 512.357,1364.92 512.863,1364.92 513.368,1364.93 513.873,1364.94 \n",
       "  514.378,1364.94 514.883,1364.95 515.389,1364.95 515.894,1364.96 516.399,1364.96 516.904,1364.97 517.409,1364.97 517.915,1364.98 518.42,1364.98 518.925,1364.99 \n",
       "  519.43,1364.99 519.935,1364.99 520.441,1365 520.946,1365 521.451,1365.01 521.956,1365.02 522.461,1365.06 522.967,1365.37 523.472,1365.39 523.977,1365.42 \n",
       "  524.482,1365.43 524.987,1365.43 525.492,1365.44 525.998,1365.44 526.503,1365.44 527.008,1365.45 527.513,1365.45 528.018,1365.45 528.524,1365.45 529.029,1365.46 \n",
       "  529.534,1365.46 530.039,1365.46 530.544,1365.47 531.05,1365.47 531.555,1365.47 532.06,1365.47 532.565,1365.48 533.07,1365.48 533.576,1365.57 534.081,1365.89 \n",
       "  534.586,1366.04 535.091,1366.11 535.596,1366.11 536.101,1366.12 536.607,1366.12 537.112,1366.12 537.617,1366.13 538.122,1366.13 538.627,1366.13 539.133,1366.13 \n",
       "  539.638,1366.13 540.143,1366.14 540.648,1366.14 541.153,1366.14 541.659,1366.14 542.164,1366.14 542.669,1366.14 543.174,1366.14 543.679,1366.15 544.185,1366.15 \n",
       "  544.69,1366.15 545.195,1366.15 545.7,1366.15 546.205,1366.15 546.711,1366.15 547.216,1366.15 547.721,1366.16 548.226,1366.16 548.731,1366.16 549.236,1366.16 \n",
       "  549.742,1366.16 550.247,1366.16 550.752,1366.16 551.257,1366.16 551.762,1366.16 552.268,1366.17 552.773,1366.17 553.278,1366.17 553.783,1366.17 554.288,1366.17 \n",
       "  554.794,1366.18 555.299,1366.35 555.804,1366.4 556.309,1366.4 556.814,1366.41 557.32,1366.41 557.825,1366.41 558.33,1366.41 558.835,1366.41 559.34,1366.41 \n",
       "  559.846,1366.41 560.351,1366.41 560.856,1366.41 561.361,1366.41 561.866,1366.41 562.371,1366.64 562.877,1366.87 563.382,1366.88 563.887,1366.88 564.392,1366.88 \n",
       "  564.897,1366.88 565.403,1366.88 565.908,1366.88 566.413,1366.88 566.918,1366.88 567.423,1366.88 567.929,1366.88 568.434,1366.88 568.939,1366.88 569.444,1366.89 \n",
       "  569.949,1366.89 570.455,1366.89 570.96,1366.89 571.465,1366.89 571.97,1366.89 572.475,1366.89 572.98,1366.89 573.486,1366.89 573.991,1366.89 574.496,1366.89 \n",
       "  575.001,1366.89 575.506,1366.89 576.012,1366.89 576.517,1366.89 577.022,1366.89 577.527,1366.89 578.032,1366.89 578.538,1366.89 579.043,1366.89 579.548,1366.89 \n",
       "  580.053,1366.89 580.558,1366.89 581.064,1366.89 581.569,1366.9 582.074,1366.9 582.579,1366.99 583.084,1367.12 583.59,1367.13 584.095,1367.13 584.6,1367.13 \n",
       "  585.105,1367.13 585.61,1367.13 586.115,1367.13 586.621,1367.13 587.126,1367.13 587.631,1367.13 588.136,1367.13 588.641,1367.13 589.147,1367.13 589.652,1367.13 \n",
       "  590.157,1367.13 590.662,1367.13 591.167,1367.13 591.673,1367.13 592.178,1367.15 592.683,1367.36 593.188,1367.36 593.693,1367.37 594.199,1367.37 594.704,1367.37 \n",
       "  595.209,1367.37 595.714,1367.37 596.219,1367.37 596.725,1367.37 597.23,1367.37 597.735,1367.37 598.24,1367.37 598.745,1367.37 599.25,1367.37 599.756,1367.37 \n",
       "  600.261,1367.37 600.766,1367.37 601.271,1367.37 601.776,1367.37 602.282,1367.37 602.787,1367.37 603.292,1367.37 603.797,1367.37 604.302,1367.38 604.808,1367.6 \n",
       "  605.313,1367.6 605.818,1367.6 606.323,1367.6 606.828,1367.6 607.334,1367.61 607.839,1367.61 608.344,1367.61 608.849,1367.62 609.354,1367.81 609.859,1367.84 \n",
       "  610.365,1367.84 610.87,1367.84 611.375,1367.84 611.88,1367.84 612.385,1367.84 612.891,1367.84 613.396,1367.84 613.901,1367.84 614.406,1367.84 614.911,1367.84 \n",
       "  615.417,1367.84 615.922,1367.84 616.427,1367.84 616.932,1367.84 617.437,1367.87 617.943,1368.08 618.448,1368.29 618.953,1368.3 619.458,1368.31 619.963,1368.34 \n",
       "  620.469,1368.71 620.974,1368.97 621.479,1369.03 621.984,1369.2 622.489,1369.24 622.994,1369.29 623.5,1369.51 624.005,1369.67 624.51,1369.7 625.015,1369.79 \n",
       "  625.52,1370.98 626.026,1371.73 626.531,1372.03 627.036,1372.34 627.541,1372.94 628.046,1373.77 628.552,1374.55 629.057,1374.99 629.562,1375.41 630.067,1375.59 \n",
       "  630.572,1375.64 631.078,1375.74 631.583,1375.98 632.088,1376.01 632.593,1376.03 633.098,1376.05 633.604,1376.08 634.109,1376.23 634.614,1376.34 635.119,1376.47 \n",
       "  635.624,1376.6 636.129,1376.75 636.635,1376.78 637.14,1376.81 637.645,1376.89 638.15,1377.11 638.655,1378.8 639.161,1379.16 639.666,1379.26 640.171,1379.29 \n",
       "  640.676,1379.31 641.181,1379.33 641.687,1379.35 642.192,1379.38 642.697,1379.46 643.202,1379.73 643.707,1380.02 644.213,1380.82 644.718,1380.97 645.223,1381.1 \n",
       "  645.728,1381.17 646.233,1381.22 646.738,1381.34 647.244,1381.46 647.749,1381.62 648.254,1381.68 648.759,1381.71 649.264,1381.83 649.77,1381.99 650.275,1382.15 \n",
       "  650.78,1382.23 651.285,1382.38 651.79,1382.39 652.296,1382.4 652.801,1382.41 653.306,1382.42 653.811,1382.42 654.316,1382.43 654.822,1382.43 655.327,1382.46 \n",
       "  655.832,1382.64 656.337,1382.66 656.842,1382.67 657.348,1382.67 657.853,1382.67 658.358,1382.68 658.863,1382.68 659.368,1382.68 659.873,1382.68 660.379,1382.68 \n",
       "  660.884,1382.69 661.389,1382.69 661.894,1382.69 662.399,1382.69 662.905,1382.69 663.41,1382.69 663.915,1382.7 664.42,1382.7 664.925,1382.7 665.431,1382.7 \n",
       "  665.936,1382.7 666.441,1382.7 666.946,1382.7 667.451,1382.7 667.957,1382.7 668.462,1382.71 668.967,1382.71 669.472,1382.71 669.977,1382.71 670.483,1382.71 \n",
       "  670.988,1382.71 671.493,1382.71 671.998,1382.71 672.503,1382.71 673.008,1382.71 673.514,1382.71 674.019,1382.71 674.524,1382.71 675.029,1382.71 675.534,1382.72 \n",
       "  676.04,1382.72 676.545,1382.72 677.05,1382.72 677.555,1382.72 678.06,1382.72 678.566,1382.72 679.071,1382.72 679.576,1382.72 680.081,1382.72 680.586,1382.72 \n",
       "  681.092,1382.72 681.597,1382.72 682.102,1382.72 682.607,1382.72 683.112,1382.72 683.617,1382.72 684.123,1382.72 684.628,1382.72 685.133,1382.72 685.638,1382.72 \n",
       "  686.143,1382.72 686.649,1382.72 687.154,1382.72 687.659,1382.72 688.164,1382.72 688.669,1382.72 689.175,1382.72 689.68,1382.72 690.185,1382.73 690.69,1382.73 \n",
       "  691.195,1382.73 691.701,1382.73 692.206,1382.73 692.711,1382.73 693.216,1382.73 693.721,1382.73 694.227,1382.73 694.732,1382.73 695.237,1382.73 695.742,1382.73 \n",
       "  696.247,1382.73 696.752,1382.73 697.258,1382.73 697.763,1382.73 698.268,1382.73 698.773,1382.73 699.278,1382.73 699.784,1382.73 700.289,1382.73 700.794,1382.73 \n",
       "  701.299,1382.74 701.804,1383.33 702.31,1383.42 702.815,1383.58 703.32,1383.82 703.825,1383.82 704.33,1383.82 704.836,1383.82 705.341,1383.82 705.846,1383.82 \n",
       "  706.351,1383.82 706.856,1383.82 707.362,1383.82 707.867,1383.82 708.372,1383.82 708.877,1383.82 709.382,1383.82 709.887,1383.82 710.393,1383.82 710.898,1383.82 \n",
       "  711.403,1383.82 711.908,1383.82 712.413,1383.82 712.919,1383.82 713.424,1383.82 713.929,1383.82 714.434,1383.83 714.939,1383.87 715.445,1384.23 715.95,1384.23 \n",
       "  716.455,1384.24 716.96,1384.24 717.465,1384.24 717.971,1384.24 718.476,1384.24 718.981,1384.24 719.486,1384.24 719.991,1384.24 720.496,1384.24 721.002,1384.24 \n",
       "  721.507,1384.24 722.012,1384.24 722.517,1384.24 723.022,1384.24 723.528,1384.24 724.033,1384.24 724.538,1384.24 725.043,1384.24 725.548,1384.24 726.054,1384.24 \n",
       "  726.559,1384.24 727.064,1384.24 727.569,1384.24 728.074,1384.24 728.58,1384.24 729.085,1384.24 729.59,1384.24 730.095,1384.24 730.6,1384.24 731.106,1384.24 \n",
       "  731.611,1384.24 732.116,1384.24 732.621,1384.24 733.126,1384.24 733.631,1384.24 734.137,1384.24 734.642,1384.24 735.147,1384.24 735.652,1384.24 736.157,1384.24 \n",
       "  736.663,1384.24 737.168,1384.24 737.673,1384.24 738.178,1384.24 738.683,1384.24 739.189,1384.24 739.694,1384.24 740.199,1384.24 740.704,1384.24 741.209,1384.24 \n",
       "  741.715,1384.24 742.22,1384.24 742.725,1384.24 743.23,1384.24 743.735,1384.24 744.24,1384.24 744.746,1384.24 745.251,1384.24 745.756,1384.24 746.261,1384.24 \n",
       "  746.766,1384.24 747.272,1384.24 747.777,1384.24 748.282,1384.24 748.787,1384.24 749.292,1384.24 749.798,1384.24 750.303,1384.24 750.808,1384.24 751.313,1384.24 \n",
       "  751.818,1384.24 752.324,1384.24 752.829,1384.24 753.334,1384.24 753.839,1384.24 754.344,1384.24 754.85,1384.24 755.355,1384.24 755.86,1384.24 756.365,1384.24 \n",
       "  756.87,1384.24 757.375,1384.24 757.881,1384.24 758.386,1384.24 758.891,1384.24 759.396,1384.24 759.901,1384.24 760.407,1384.24 760.912,1384.24 761.417,1384.24 \n",
       "  761.922,1384.24 762.427,1384.24 762.933,1384.24 763.438,1384.24 763.943,1384.24 764.448,1384.24 764.953,1384.24 765.459,1384.24 765.964,1384.24 766.469,1384.24 \n",
       "  766.974,1384.24 767.479,1384.24 767.985,1384.24 768.49,1384.24 768.995,1384.24 769.5,1384.24 770.005,1384.24 770.51,1384.24 771.016,1384.24 771.521,1384.24 \n",
       "  772.026,1384.24 772.531,1384.24 773.036,1384.24 773.542,1384.24 774.047,1384.24 774.552,1384.24 775.057,1384.24 775.562,1384.24 776.068,1384.24 776.573,1384.24 \n",
       "  777.078,1384.24 777.583,1384.24 778.088,1384.24 778.594,1384.24 779.099,1384.24 779.604,1384.24 780.109,1384.24 780.614,1384.24 781.119,1384.24 781.625,1384.24 \n",
       "  782.13,1384.24 782.635,1384.24 783.14,1384.24 783.645,1384.24 784.151,1384.24 784.656,1384.24 785.161,1384.24 785.666,1384.24 786.171,1384.24 786.677,1384.24 \n",
       "  787.182,1384.24 787.687,1384.24 788.192,1384.24 788.697,1384.24 789.203,1384.24 789.708,1384.24 790.213,1384.24 790.718,1384.24 791.223,1384.24 791.729,1384.24 \n",
       "  792.234,1384.24 792.739,1384.24 793.244,1384.24 793.749,1384.24 794.254,1384.24 794.76,1384.24 795.265,1384.24 795.77,1384.24 796.275,1384.24 796.78,1384.24 \n",
       "  797.286,1384.24 797.791,1384.24 798.296,1384.24 798.801,1384.24 799.306,1384.24 799.812,1384.24 800.317,1384.24 800.822,1384.24 801.327,1384.24 801.832,1384.24 \n",
       "  802.338,1384.24 802.843,1384.24 803.348,1384.24 803.853,1384.24 804.358,1384.24 804.864,1384.24 805.369,1384.24 805.874,1384.24 806.379,1384.24 806.884,1384.24 \n",
       "  807.389,1384.24 807.895,1384.24 808.4,1384.24 808.905,1384.24 809.41,1384.24 809.915,1384.24 810.421,1384.24 810.926,1384.24 811.431,1384.24 811.936,1384.24 \n",
       "  812.441,1384.24 812.947,1384.24 813.452,1384.24 813.957,1384.24 814.462,1384.24 814.967,1384.24 815.473,1384.24 815.978,1384.24 816.483,1384.24 816.988,1384.24 \n",
       "  817.493,1384.24 817.998,1384.24 818.504,1384.24 819.009,1384.24 819.514,1384.24 820.019,1384.24 820.524,1384.24 821.03,1384.24 821.535,1384.24 822.04,1384.24 \n",
       "  822.545,1384.24 823.05,1384.24 823.556,1384.24 824.061,1384.24 824.566,1384.24 825.071,1384.24 825.576,1384.24 826.082,1384.24 826.587,1384.24 827.092,1384.24 \n",
       "  827.597,1384.24 828.102,1384.24 828.608,1384.24 829.113,1384.24 829.618,1384.24 830.123,1384.24 830.628,1384.24 831.133,1384.24 831.639,1384.24 832.144,1384.24 \n",
       "  832.649,1384.24 833.154,1384.24 833.659,1384.24 834.165,1384.24 834.67,1384.24 835.175,1384.24 835.68,1384.24 836.185,1384.24 836.691,1384.24 837.196,1384.24 \n",
       "  837.701,1384.24 838.206,1384.24 838.711,1384.24 839.217,1384.24 839.722,1384.24 840.227,1384.24 840.732,1384.24 841.237,1384.24 841.743,1384.24 842.248,1384.24 \n",
       "  842.753,1384.24 843.258,1384.24 843.763,1384.24 844.268,1384.24 844.774,1384.24 845.279,1384.24 845.784,1384.24 846.289,1384.24 846.794,1384.24 847.3,1384.24 \n",
       "  847.805,1384.24 848.31,1384.24 848.815,1384.24 849.32,1384.24 849.826,1384.24 850.331,1384.24 850.836,1384.24 851.341,1384.24 851.846,1384.24 852.352,1384.24 \n",
       "  852.857,1384.24 853.362,1384.24 853.867,1384.24 854.372,1384.24 854.877,1384.24 855.383,1384.24 855.888,1384.24 856.393,1384.24 856.898,1384.24 857.403,1384.24 \n",
       "  857.909,1384.24 858.414,1384.24 858.919,1384.24 859.424,1384.24 859.929,1384.24 860.435,1384.24 860.94,1384.24 861.445,1384.24 861.95,1384.24 862.455,1384.24 \n",
       "  862.961,1384.24 863.466,1384.24 863.971,1384.24 864.476,1384.24 864.981,1384.24 865.487,1384.24 865.992,1384.24 866.497,1384.24 867.002,1384.24 867.507,1384.24 \n",
       "  868.012,1384.24 868.518,1384.24 869.023,1384.24 869.528,1384.24 870.033,1384.24 870.538,1384.24 871.044,1384.24 871.549,1384.24 872.054,1384.24 872.559,1384.24 \n",
       "  873.064,1384.24 873.57,1384.24 874.075,1384.24 874.58,1384.24 875.085,1384.24 875.59,1384.24 876.096,1384.24 876.601,1384.24 877.106,1384.24 877.611,1384.24 \n",
       "  878.116,1384.24 878.622,1384.24 879.127,1384.24 879.632,1384.24 880.137,1384.24 880.642,1384.24 881.147,1384.24 881.653,1384.24 882.158,1384.24 882.663,1384.24 \n",
       "  883.168,1384.24 883.673,1384.24 884.179,1384.24 884.684,1384.24 885.189,1384.24 885.694,1384.24 886.199,1384.24 886.705,1384.24 887.21,1384.24 887.715,1384.24 \n",
       "  888.22,1384.24 888.725,1384.24 889.231,1384.24 889.736,1384.24 890.241,1384.24 890.746,1384.24 891.251,1384.24 891.756,1384.24 892.262,1384.24 892.767,1384.24 \n",
       "  893.272,1384.24 893.777,1384.24 894.282,1384.24 894.788,1384.24 895.293,1384.24 895.798,1384.24 896.303,1384.24 896.808,1384.24 897.314,1384.24 897.819,1384.24 \n",
       "  898.324,1384.24 898.829,1384.24 899.334,1384.24 899.84,1384.24 900.345,1384.24 900.85,1384.24 901.355,1384.24 901.86,1384.24 902.366,1384.24 902.871,1384.24 \n",
       "  903.376,1384.24 903.881,1384.24 904.386,1384.24 904.891,1384.24 905.397,1384.24 905.902,1384.24 906.407,1384.24 906.912,1384.24 907.417,1384.24 907.923,1384.24 \n",
       "  908.428,1384.24 908.933,1384.24 909.438,1384.24 909.943,1384.24 910.449,1384.24 910.954,1384.24 911.459,1384.24 911.964,1384.24 912.469,1384.24 912.975,1384.24 \n",
       "  913.48,1384.24 913.985,1384.24 914.49,1384.24 914.995,1384.24 915.501,1384.24 916.006,1384.24 916.511,1384.24 917.016,1384.24 917.521,1384.24 918.026,1384.24 \n",
       "  918.532,1384.24 919.037,1384.24 919.542,1384.24 920.047,1384.24 920.552,1384.24 921.058,1384.24 921.563,1384.24 922.068,1384.24 922.573,1384.24 923.078,1384.24 \n",
       "  923.584,1384.24 924.089,1384.24 924.594,1384.24 925.099,1384.24 925.604,1384.24 926.11,1384.24 926.615,1384.24 927.12,1384.24 927.625,1384.24 928.13,1384.24 \n",
       "  928.635,1384.24 929.141,1384.24 929.646,1384.24 930.151,1384.24 930.656,1384.24 931.161,1384.24 931.667,1384.24 932.172,1384.24 932.677,1384.24 933.182,1384.24 \n",
       "  933.687,1384.24 934.193,1384.24 934.698,1384.24 935.203,1384.24 935.708,1384.24 936.213,1384.24 936.719,1384.24 937.224,1384.24 937.729,1384.24 938.234,1384.24 \n",
       "  938.739,1384.24 939.245,1384.24 939.75,1384.24 940.255,1384.24 940.76,1384.24 941.265,1384.24 941.77,1384.24 942.276,1384.24 942.781,1384.24 943.286,1384.24 \n",
       "  943.791,1384.24 944.296,1384.24 944.802,1384.24 945.307,1384.24 945.812,1384.24 946.317,1384.24 946.822,1384.24 947.328,1384.24 947.833,1384.24 948.338,1384.24 \n",
       "  948.843,1384.24 949.348,1384.24 949.854,1384.24 950.359,1384.24 950.864,1384.24 951.369,1384.24 951.874,1384.24 952.38,1384.24 952.885,1384.24 953.39,1384.24 \n",
       "  953.895,1384.24 954.4,1384.24 954.905,1384.24 955.411,1384.24 955.916,1384.24 956.421,1384.24 956.926,1384.24 957.431,1384.24 957.937,1384.24 958.442,1384.24 \n",
       "  958.947,1384.24 959.452,1384.24 959.957,1384.24 960.463,1384.24 960.968,1384.24 961.473,1384.24 961.978,1384.24 962.483,1384.24 962.989,1384.24 963.494,1384.24 \n",
       "  963.999,1384.24 964.504,1384.24 965.009,1384.24 965.514,1384.24 966.02,1384.24 966.525,1384.24 967.03,1384.24 967.535,1384.24 968.04,1384.24 968.546,1384.24 \n",
       "  969.051,1384.24 969.556,1384.24 970.061,1384.24 970.566,1384.24 971.072,1384.24 971.577,1384.24 972.082,1384.24 972.587,1384.24 973.092,1384.24 973.598,1384.24 \n",
       "  974.103,1384.24 974.608,1384.24 975.113,1384.24 975.618,1384.24 976.124,1384.24 976.629,1384.24 977.134,1384.24 977.639,1384.24 978.144,1384.24 978.649,1384.24 \n",
       "  979.155,1384.24 979.66,1384.24 980.165,1384.24 980.67,1384.24 981.175,1384.24 981.681,1384.24 982.186,1384.24 982.691,1384.24 983.196,1384.24 983.701,1384.24 \n",
       "  984.207,1384.24 984.712,1384.24 985.217,1384.24 985.722,1384.24 986.227,1384.24 986.733,1384.24 987.238,1384.24 987.743,1384.24 988.248,1384.24 988.753,1384.24 \n",
       "  989.259,1384.24 989.764,1384.24 990.269,1384.24 990.774,1384.24 991.279,1384.24 991.784,1384.24 992.29,1384.24 992.795,1384.24 993.3,1384.24 993.805,1384.24 \n",
       "  994.31,1384.24 994.816,1384.24 995.321,1384.24 995.826,1384.24 996.331,1384.24 996.836,1384.24 997.342,1384.24 997.847,1384.24 998.352,1384.24 998.857,1384.24 \n",
       "  999.362,1384.24 999.868,1384.24 1000.37,1384.24 1000.88,1384.24 1001.38,1384.24 1001.89,1384.24 1002.39,1384.24 1002.9,1384.24 1003.4,1384.24 1003.91,1384.24 \n",
       "  1004.41,1384.24 1004.92,1384.24 1005.42,1384.24 1005.93,1384.24 1006.44,1384.24 1006.94,1384.24 1007.45,1384.24 1007.95,1384.24 1008.46,1384.24 1008.96,1384.24 \n",
       "  1009.47,1384.24 1009.97,1384.24 1010.48,1384.24 1010.98,1384.24 1011.49,1384.24 1011.99,1384.24 1012.5,1384.24 1013,1384.24 1013.51,1384.24 1014.01,1384.24 \n",
       "  1014.52,1384.24 1015.02,1384.24 1015.53,1384.24 1016.03,1384.24 1016.54,1384.24 1017.04,1384.24 1017.55,1384.24 1018.05,1384.24 1018.56,1384.24 1019.06,1384.24 \n",
       "  1019.57,1384.24 1020.08,1384.24 1020.58,1384.24 1021.09,1384.24 1021.59,1384.24 1022.1,1384.24 1022.6,1384.24 1023.11,1384.24 1023.61,1384.24 1024.12,1384.24 \n",
       "  1024.62,1384.24 1025.13,1384.24 1025.63,1384.24 1026.14,1384.24 1026.64,1384.24 1027.15,1384.24 1027.65,1384.24 1028.16,1384.24 1028.66,1384.24 1029.17,1384.24 \n",
       "  1029.67,1384.24 1030.18,1384.24 1030.68,1384.24 1031.19,1384.24 1031.69,1384.24 1032.2,1384.24 1032.7,1384.24 1033.21,1384.24 1033.72,1384.24 1034.22,1384.24 \n",
       "  1034.73,1384.24 1035.23,1384.24 1035.74,1384.24 1036.24,1384.24 1036.75,1384.24 1037.25,1384.24 1037.76,1384.24 1038.26,1384.24 1038.77,1384.24 1039.27,1384.24 \n",
       "  1039.78,1384.24 1040.28,1384.24 1040.79,1384.24 1041.29,1384.24 1041.8,1384.24 1042.3,1384.24 1042.81,1384.24 1043.31,1384.24 1043.82,1384.24 1044.32,1384.24 \n",
       "  1044.83,1384.24 1045.33,1384.24 1045.84,1384.24 1046.35,1384.24 1046.85,1384.24 1047.36,1384.24 1047.86,1384.24 1048.37,1384.24 1048.87,1384.24 1049.38,1384.24 \n",
       "  1049.88,1384.24 1050.39,1384.24 1050.89,1384.24 1051.4,1384.24 1051.9,1384.24 1052.41,1384.24 1052.91,1384.24 1053.42,1384.24 1053.92,1384.24 1054.43,1384.24 \n",
       "  1054.93,1384.24 1055.44,1384.24 1055.94,1384.24 1056.45,1384.24 1056.95,1384.24 1057.46,1384.24 1057.96,1384.24 1058.47,1384.24 1058.97,1384.24 1059.48,1384.24 \n",
       "  1059.99,1384.24 1060.49,1384.24 1061,1384.24 1061.5,1384.24 1062.01,1384.24 1062.51,1384.24 1063.02,1384.24 1063.52,1384.24 1064.03,1384.24 1064.53,1384.24 \n",
       "  1065.04,1384.24 1065.54,1384.24 1066.05,1384.24 1066.55,1384.24 1067.06,1384.24 1067.56,1384.24 1068.07,1384.24 1068.57,1384.24 1069.08,1384.24 1069.58,1384.24 \n",
       "  1070.09,1384.24 1070.59,1384.24 1071.1,1384.24 1071.6,1384.24 1072.11,1384.24 1072.62,1384.24 1073.12,1384.24 1073.63,1384.24 1074.13,1384.24 1074.64,1384.24 \n",
       "  1075.14,1384.24 1075.65,1384.24 1076.15,1384.24 1076.66,1384.24 1077.16,1384.24 1077.67,1384.24 1078.17,1384.24 1078.68,1384.24 1079.18,1384.24 1079.69,1384.24 \n",
       "  1080.19,1384.24 1080.7,1384.24 1081.2,1384.24 1081.71,1384.24 1082.21,1384.24 1082.72,1384.24 1083.22,1384.24 1083.73,1384.24 1084.23,1384.24 1084.74,1384.24 \n",
       "  1085.24,1384.24 1085.75,1384.24 1086.26,1384.24 1086.76,1384.24 1087.27,1384.24 1087.77,1384.24 1088.28,1384.24 1088.78,1384.24 1089.29,1384.24 1089.79,1384.24 \n",
       "  1090.3,1384.24 1090.8,1384.24 1091.31,1384.24 1091.81,1384.24 1092.32,1384.24 1092.82,1384.24 1093.33,1384.24 1093.83,1384.24 1094.34,1384.24 1094.84,1384.24 \n",
       "  1095.35,1384.24 1095.85,1384.24 1096.36,1384.24 1096.86,1384.24 1097.37,1384.24 1097.87,1384.24 1098.38,1384.24 1098.89,1384.24 1099.39,1384.24 1099.9,1384.24 \n",
       "  1100.4,1384.24 1100.91,1384.24 1101.41,1384.24 1101.92,1384.24 1102.42,1384.24 1102.93,1384.24 1103.43,1384.24 1103.94,1384.24 1104.44,1384.24 1104.95,1384.24 \n",
       "  1105.45,1384.24 1105.96,1384.24 1106.46,1384.24 1106.97,1384.24 1107.47,1384.24 1107.98,1384.24 1108.48,1384.24 1108.99,1384.24 1109.49,1384.24 1110,1384.24 \n",
       "  1110.5,1384.24 1111.01,1384.24 1111.51,1384.24 1112.02,1384.24 1112.53,1384.24 1113.03,1384.24 1113.54,1384.24 1114.04,1384.24 1114.55,1384.24 1115.05,1384.24 \n",
       "  1115.56,1384.24 1116.06,1384.24 1116.57,1384.24 1117.07,1384.24 1117.58,1384.24 1118.08,1384.24 1118.59,1384.24 1119.09,1384.24 1119.6,1384.24 1120.1,1384.24 \n",
       "  1120.61,1384.24 1121.11,1384.24 1121.62,1384.24 1122.12,1384.24 1122.63,1384.24 1123.13,1384.24 1123.64,1384.24 1124.14,1384.24 1124.65,1384.24 1125.16,1384.24 \n",
       "  1125.66,1384.24 1126.17,1384.24 1126.67,1384.24 1127.18,1384.24 1127.68,1384.24 1128.19,1384.24 1128.69,1384.24 1129.2,1384.24 1129.7,1384.24 1130.21,1384.24 \n",
       "  1130.71,1384.24 1131.22,1384.24 1131.72,1384.24 1132.23,1384.24 1132.73,1384.24 1133.24,1384.24 1133.74,1384.24 1134.25,1384.24 1134.75,1384.24 1135.26,1384.24 \n",
       "  1135.76,1384.24 1136.27,1384.24 1136.77,1384.24 1137.28,1384.24 1137.78,1384.24 1138.29,1384.24 1138.8,1384.24 1139.3,1384.24 1139.81,1384.24 1140.31,1384.24 \n",
       "  1140.82,1384.24 1141.32,1384.24 1141.83,1384.24 1142.33,1384.24 1142.84,1384.24 1143.34,1384.24 1143.85,1384.24 1144.35,1384.24 1144.86,1384.24 1145.36,1384.24 \n",
       "  1145.87,1384.24 1146.37,1384.24 1146.88,1384.24 1147.38,1384.24 1147.89,1384.24 1148.39,1384.24 1148.9,1384.24 1149.4,1384.24 1149.91,1384.24 1150.41,1384.24 \n",
       "  1150.92,1384.24 1151.43,1384.24 1151.93,1384.24 1152.44,1384.24 1152.94,1384.24 1153.45,1384.24 1153.95,1384.24 1154.46,1384.24 1154.96,1384.24 1155.47,1384.24 \n",
       "  1155.97,1384.24 1156.48,1384.24 1156.98,1384.24 1157.49,1384.24 1157.99,1384.24 1158.5,1384.24 1159,1384.24 1159.51,1384.24 1160.01,1384.24 1160.52,1384.24 \n",
       "  1161.02,1384.24 1161.53,1384.24 1162.03,1384.24 1162.54,1384.24 1163.04,1384.24 1163.55,1384.24 1164.05,1384.24 1164.56,1384.24 1165.07,1384.24 1165.57,1384.24 \n",
       "  1166.08,1384.24 1166.58,1384.24 1167.09,1384.24 1167.59,1384.24 1168.1,1384.24 1168.6,1384.24 1169.11,1384.24 1169.61,1384.24 1170.12,1384.24 1170.62,1384.24 \n",
       "  1171.13,1384.24 1171.63,1384.24 1172.14,1384.24 1172.64,1384.24 1173.15,1384.24 1173.65,1384.24 1174.16,1384.24 1174.66,1384.24 1175.17,1384.24 1175.67,1384.24 \n",
       "  1176.18,1384.24 1176.68,1384.24 1177.19,1384.24 1177.7,1384.24 1178.2,1384.24 1178.71,1384.24 1179.21,1384.24 1179.72,1384.24 1180.22,1384.24 1180.73,1384.24 \n",
       "  1181.23,1384.24 1181.74,1384.24 1182.24,1384.24 1182.75,1384.24 1183.25,1384.24 1183.76,1384.24 1184.26,1384.24 1184.77,1384.24 1185.27,1384.24 1185.78,1384.24 \n",
       "  1186.28,1384.24 1186.79,1384.24 1187.29,1384.24 1187.8,1384.24 1188.3,1384.24 1188.81,1384.24 1189.31,1384.24 1189.82,1384.24 1190.32,1384.24 1190.83,1384.24 \n",
       "  1191.34,1384.24 1191.84,1384.24 1192.35,1384.24 1192.85,1384.24 1193.36,1384.24 1193.86,1384.24 1194.37,1384.24 1194.87,1384.24 1195.38,1384.24 1195.88,1384.24 \n",
       "  1196.39,1384.24 1196.89,1384.24 1197.4,1384.24 1197.9,1384.24 1198.41,1384.24 1198.91,1384.24 1199.42,1384.24 1199.92,1384.24 1200.43,1384.24 1200.93,1384.24 \n",
       "  1201.44,1384.24 1201.94,1384.24 1202.45,1384.24 1202.95,1384.24 1203.46,1384.24 1203.97,1384.24 1204.47,1384.24 1204.98,1384.24 1205.48,1384.24 1205.99,1384.24 \n",
       "  1206.49,1384.24 1207,1384.24 1207.5,1384.24 1208.01,1384.24 1208.51,1384.24 1209.02,1384.24 1209.52,1384.24 1210.03,1384.24 1210.53,1384.24 1211.04,1384.24 \n",
       "  1211.54,1384.24 1212.05,1384.24 1212.55,1384.24 1213.06,1384.24 1213.56,1384.24 1214.07,1384.24 1214.57,1384.24 1215.08,1384.24 1215.58,1384.24 1216.09,1384.24 \n",
       "  1216.59,1384.24 1217.1,1384.24 1217.61,1384.24 1218.11,1384.24 1218.62,1384.24 1219.12,1384.24 1219.63,1384.24 1220.13,1384.24 1220.64,1384.24 1221.14,1384.24 \n",
       "  1221.65,1384.24 1222.15,1384.24 1222.66,1384.24 1223.16,1384.24 1223.67,1384.24 1224.17,1384.24 1224.68,1384.24 1225.18,1384.24 1225.69,1384.24 1226.19,1384.24 \n",
       "  1226.7,1384.24 1227.2,1384.24 1227.71,1384.24 1228.21,1384.24 1228.72,1384.24 1229.22,1384.24 1229.73,1384.24 1230.23,1384.24 1230.74,1384.24 1231.25,1384.24 \n",
       "  1231.75,1384.24 1232.26,1384.24 1232.76,1384.24 1233.27,1384.24 1233.77,1384.24 1234.28,1384.24 1234.78,1384.24 1235.29,1384.24 1235.79,1384.24 1236.3,1384.24 \n",
       "  1236.8,1384.24 1237.31,1384.24 1237.81,1384.24 1238.32,1384.24 1238.82,1384.24 1239.33,1384.24 1239.83,1384.24 1240.34,1384.24 1240.84,1384.24 1241.35,1384.24 \n",
       "  1241.85,1384.24 1242.36,1384.24 1242.86,1384.24 1243.37,1384.24 1243.88,1384.24 1244.38,1384.24 1244.89,1384.24 1245.39,1384.24 1245.9,1384.24 1246.4,1384.24 \n",
       "  1246.91,1384.24 1247.41,1384.24 1247.92,1384.24 1248.42,1384.24 1248.93,1384.24 1249.43,1384.24 1249.94,1384.24 1250.44,1384.24 1250.95,1384.24 1251.45,1384.24 \n",
       "  1251.96,1384.24 1252.46,1384.24 1252.97,1384.24 1253.47,1384.24 1253.98,1384.24 1254.48,1384.24 1254.99,1384.24 1255.49,1384.24 1256,1384.24 1256.5,1384.24 \n",
       "  1257.01,1384.24 1257.52,1384.24 1258.02,1384.24 1258.53,1384.24 1259.03,1384.24 1259.54,1384.24 1260.04,1384.24 1260.55,1384.24 1261.05,1384.24 1261.56,1384.24 \n",
       "  1262.06,1384.24 1262.57,1384.24 1263.07,1384.24 1263.58,1384.24 1264.08,1384.24 1264.59,1384.24 1265.09,1384.24 1265.6,1384.24 1266.1,1384.24 1266.61,1384.24 \n",
       "  1267.11,1384.24 1267.62,1384.24 1268.12,1384.24 1268.63,1384.24 1269.13,1384.24 1269.64,1384.24 1270.15,1384.24 1270.65,1384.24 1271.16,1384.24 1271.66,1384.24 \n",
       "  1272.17,1384.24 1272.67,1384.24 1273.18,1384.24 1273.68,1384.24 1274.19,1384.24 1274.69,1384.24 1275.2,1384.24 1275.7,1384.24 1276.21,1384.24 1276.71,1384.24 \n",
       "  1277.22,1384.24 1277.72,1384.24 1278.23,1384.24 1278.73,1384.24 1279.24,1384.24 1279.74,1384.24 1280.25,1384.24 1280.75,1384.24 1281.26,1384.24 1281.76,1384.24 \n",
       "  1282.27,1384.24 1282.77,1384.24 1283.28,1384.24 1283.79,1384.24 1284.29,1384.24 1284.8,1384.24 1285.3,1384.24 1285.81,1384.24 1286.31,1384.24 1286.82,1384.24 \n",
       "  1287.32,1384.24 1287.83,1384.24 1288.33,1384.24 1288.84,1384.24 1289.34,1384.24 1289.85,1384.24 1290.35,1384.24 1290.86,1384.24 1291.36,1384.24 1291.87,1384.24 \n",
       "  1292.37,1384.24 1292.88,1384.24 1293.38,1384.24 1293.89,1384.24 1294.39,1384.24 1294.9,1384.24 1295.4,1384.24 1295.91,1384.24 1296.42,1384.24 1296.92,1384.24 \n",
       "  1297.43,1384.24 1297.93,1384.24 1298.44,1384.24 1298.94,1384.24 1299.45,1384.24 1299.95,1384.24 1300.46,1384.24 1300.96,1384.24 1301.47,1384.24 1301.97,1384.24 \n",
       "  1302.48,1384.24 1302.98,1384.24 1303.49,1384.24 1303.99,1384.24 1304.5,1384.24 1305,1384.24 1305.51,1384.24 1306.01,1384.24 1306.52,1384.24 1307.02,1384.24 \n",
       "  1307.53,1384.24 1308.03,1384.24 1308.54,1384.24 1309.04,1384.24 1309.55,1384.24 1310.06,1384.24 1310.56,1384.24 1311.07,1384.24 1311.57,1384.24 1312.08,1384.24 \n",
       "  1312.58,1384.24 1313.09,1384.24 1313.59,1384.24 1314.1,1384.24 1314.6,1384.24 1315.11,1384.24 1315.61,1384.24 1316.12,1384.24 1316.62,1384.24 1317.13,1384.24 \n",
       "  1317.63,1384.24 1318.14,1384.24 1318.64,1384.24 1319.15,1384.24 1319.65,1384.24 1320.16,1384.24 1320.66,1384.24 1321.17,1384.24 1321.67,1384.24 1322.18,1384.24 \n",
       "  1322.69,1384.24 1323.19,1384.24 1323.7,1384.24 1324.2,1384.24 1324.71,1384.24 1325.21,1384.24 1325.72,1384.24 1326.22,1384.24 1326.73,1384.24 1327.23,1384.24 \n",
       "  1327.74,1384.24 1328.24,1384.24 1328.75,1384.24 1329.25,1384.24 1329.76,1384.24 1330.26,1384.24 1330.77,1384.24 1331.27,1384.24 1331.78,1384.24 1332.28,1384.24 \n",
       "  1332.79,1384.24 1333.29,1384.24 1333.8,1384.24 1334.3,1384.24 1334.81,1384.24 1335.31,1384.24 1335.82,1384.24 1336.33,1384.24 1336.83,1384.24 1337.34,1384.24 \n",
       "  1337.84,1384.24 1338.35,1384.24 1338.85,1384.24 1339.36,1384.24 1339.86,1384.24 1340.37,1384.24 1340.87,1384.24 1341.38,1384.24 1341.88,1384.24 1342.39,1384.24 \n",
       "  1342.89,1384.24 1343.4,1384.24 1343.9,1384.24 1344.41,1384.24 1344.91,1384.24 1345.42,1384.24 1345.92,1384.24 1346.43,1384.24 1346.93,1384.24 1347.44,1384.24 \n",
       "  1347.94,1384.24 1348.45,1384.24 1348.96,1384.24 1349.46,1384.24 1349.97,1384.24 1350.47,1384.24 1350.98,1384.24 1351.48,1384.24 1351.99,1384.24 1352.49,1384.24 \n",
       "  1353,1384.24 1353.5,1384.24 1354.01,1384.24 1354.51,1384.24 1355.02,1384.24 1355.52,1384.24 1356.03,1384.24 1356.53,1384.24 1357.04,1384.24 1357.54,1384.24 \n",
       "  1358.05,1384.24 1358.55,1384.24 1359.06,1384.24 1359.56,1384.24 1360.07,1384.24 1360.57,1384.24 1361.08,1384.24 1361.58,1384.24 1362.09,1384.24 1362.6,1384.24 \n",
       "  1363.1,1384.24 1363.61,1384.24 1364.11,1384.24 1364.62,1384.24 1365.12,1384.24 1365.63,1384.24 1366.13,1384.24 1366.64,1384.24 1367.14,1384.24 1367.65,1384.24 \n",
       "  1368.15,1384.24 1368.66,1384.24 1369.16,1384.24 1369.67,1384.24 1370.17,1384.24 1370.68,1384.24 1371.18,1384.24 1371.69,1384.24 1372.19,1384.24 1372.7,1384.24 \n",
       "  1373.2,1384.24 1373.71,1384.24 1374.21,1384.24 1374.72,1384.24 1375.23,1384.24 1375.73,1384.24 1376.24,1384.24 1376.74,1384.24 1377.25,1384.24 1377.75,1384.24 \n",
       "  1378.26,1384.24 1378.76,1384.24 1379.27,1384.24 1379.77,1384.24 1380.28,1384.24 1380.78,1384.24 1381.29,1384.24 1381.79,1384.24 1382.3,1384.24 1382.8,1384.24 \n",
       "  1383.31,1384.24 1383.81,1384.24 1384.32,1384.24 1384.82,1384.24 1385.33,1384.24 1385.83,1384.24 1386.34,1384.24 1386.84,1384.24 1387.35,1384.24 1387.85,1384.24 \n",
       "  1388.36,1384.24 1388.87,1384.24 1389.37,1384.24 1389.88,1384.24 1390.38,1384.24 1390.89,1384.24 1391.39,1384.24 1391.9,1384.24 1392.4,1384.24 1392.91,1384.24 \n",
       "  1393.41,1384.24 1393.92,1384.24 1394.42,1384.24 1394.93,1384.24 1395.43,1384.24 1395.94,1384.24 1396.44,1384.24 1396.95,1384.24 1397.45,1384.24 1397.96,1384.24 \n",
       "  1398.46,1384.24 1398.97,1384.24 1399.47,1384.24 1399.98,1384.24 1400.48,1384.24 1400.99,1384.24 1401.49,1384.24 1402,1384.24 1402.51,1384.24 1403.01,1384.24 \n",
       "  1403.52,1384.24 1404.02,1384.24 1404.53,1384.24 1405.03,1384.24 1405.54,1384.24 1406.04,1384.24 1406.55,1384.24 1407.05,1384.24 1407.56,1384.24 1408.06,1384.24 \n",
       "  1408.57,1384.24 1409.07,1384.24 1409.58,1384.24 1410.08,1384.24 1410.59,1384.24 1411.09,1384.24 1411.6,1384.24 1412.1,1384.24 1412.61,1384.24 1413.11,1384.24 \n",
       "  1413.62,1384.24 1414.12,1384.24 1414.63,1384.24 1415.14,1384.24 1415.64,1384.24 1416.15,1384.24 1416.65,1384.24 1417.16,1384.24 1417.66,1384.24 1418.17,1384.24 \n",
       "  1418.67,1384.24 1419.18,1384.24 1419.68,1384.24 1420.19,1384.24 1420.69,1384.24 1421.2,1384.24 1421.7,1384.24 1422.21,1384.24 1422.71,1384.24 1423.22,1384.24 \n",
       "  1423.72,1384.24 1424.23,1384.24 1424.73,1384.24 1425.24,1384.24 1425.74,1384.24 1426.25,1384.24 1426.75,1384.24 1427.26,1384.24 1427.76,1384.24 1428.27,1384.24 \n",
       "  1428.78,1384.24 1429.28,1384.24 1429.79,1384.24 1430.29,1384.24 1430.8,1384.24 1431.3,1384.24 1431.81,1384.24 1432.31,1384.24 1432.82,1384.24 1433.32,1384.24 \n",
       "  1433.83,1384.24 1434.33,1384.24 1434.84,1384.24 1435.34,1384.24 1435.85,1384.24 1436.35,1384.24 1436.86,1384.24 1437.36,1384.24 1437.87,1384.24 1438.37,1384.24 \n",
       "  1438.88,1384.24 1439.38,1384.24 1439.89,1384.24 1440.39,1384.24 1440.9,1384.24 1441.41,1384.24 1441.91,1384.24 1442.42,1384.24 1442.92,1384.24 1443.43,1384.24 \n",
       "  1443.93,1384.24 1444.44,1384.24 1444.94,1384.24 1445.45,1384.24 1445.95,1384.24 1446.46,1384.24 1446.96,1384.24 1447.47,1384.24 1447.97,1384.24 1448.48,1384.24 \n",
       "  1448.98,1384.24 1449.49,1384.24 1449.99,1384.24 1450.5,1384.24 1451,1384.24 1451.51,1384.24 1452.01,1384.24 1452.52,1384.24 1453.02,1384.24 1453.53,1384.24 \n",
       "  1454.03,1384.24 1454.54,1384.24 1455.05,1384.24 1455.55,1384.24 1456.06,1384.24 1456.56,1384.24 1457.07,1384.24 1457.57,1384.24 1458.08,1384.24 1458.58,1384.24 \n",
       "  1459.09,1384.24 1459.59,1384.24 1460.1,1384.24 1460.6,1384.24 1461.11,1384.24 1461.61,1384.24 1462.12,1384.24 1462.62,1384.24 1463.13,1384.24 1463.63,1384.24 \n",
       "  1464.14,1384.24 1464.64,1384.24 1465.15,1384.24 1465.65,1384.24 1466.16,1384.24 1466.66,1384.24 1467.17,1384.24 1467.68,1384.24 1468.18,1384.24 1468.69,1384.24 \n",
       "  1469.19,1384.24 1469.7,1384.24 1470.2,1384.24 1470.71,1384.24 1471.21,1384.24 1471.72,1384.24 1472.22,1384.24 1472.73,1384.24 1473.23,1384.24 1473.74,1384.24 \n",
       "  1474.24,1384.24 1474.75,1384.24 1475.25,1384.24 1475.76,1384.24 1476.26,1384.24 1476.77,1384.24 1477.27,1384.24 1477.78,1384.24 1478.28,1384.24 1478.79,1384.24 \n",
       "  1479.29,1384.24 1479.8,1384.24 1480.3,1384.24 1480.81,1384.24 1481.32,1384.24 1481.82,1384.24 1482.33,1384.24 1482.83,1384.24 1483.34,1384.24 1483.84,1384.24 \n",
       "  1484.35,1384.24 1484.85,1384.24 1485.36,1384.24 1485.86,1384.24 1486.37,1384.24 1486.87,1384.24 1487.38,1384.24 1487.88,1384.24 1488.39,1384.24 1488.89,1384.24 \n",
       "  1489.4,1384.24 1489.9,1384.24 1490.41,1384.24 1490.91,1384.24 1491.42,1384.24 1491.92,1384.24 1492.43,1384.24 1492.93,1384.24 1493.44,1384.24 1493.95,1384.24 \n",
       "  1494.45,1384.24 1494.96,1384.24 1495.46,1384.24 1495.97,1384.24 1496.47,1384.24 1496.98,1384.24 1497.48,1384.24 1497.99,1384.24 1498.49,1384.24 1499,1384.24 \n",
       "  1499.5,1384.24 1500.01,1384.24 1500.51,1384.24 1501.02,1384.24 1501.52,1384.24 1502.03,1384.24 1502.53,1384.24 1503.04,1384.24 1503.54,1384.24 1504.05,1384.24 \n",
       "  1504.55,1384.24 1505.06,1384.24 1505.56,1384.24 1506.07,1384.24 1506.57,1384.24 1507.08,1384.24 1507.59,1384.24 1508.09,1384.24 1508.6,1384.24 1509.1,1384.24 \n",
       "  1509.61,1384.24 1510.11,1384.24 1510.62,1384.24 1511.12,1384.24 1511.63,1384.24 1512.13,1384.24 1512.64,1384.24 1513.14,1384.24 1513.65,1384.24 1514.15,1384.24 \n",
       "  1514.66,1384.24 1515.16,1384.24 1515.67,1384.24 1516.17,1384.24 1516.68,1384.24 1517.18,1384.24 1517.69,1384.24 1518.19,1384.24 1518.7,1384.24 1519.2,1384.24 \n",
       "  1519.71,1384.24 1520.22,1384.24 1520.72,1384.24 1521.23,1384.24 1521.73,1384.24 1522.24,1384.24 1522.74,1384.24 1523.25,1384.24 1523.75,1384.24 1524.26,1384.24 \n",
       "  1524.76,1384.24 1525.27,1384.24 1525.77,1384.24 1526.28,1384.24 1526.78,1384.24 1527.29,1384.24 1527.79,1384.24 1528.3,1384.24 1528.8,1384.24 1529.31,1384.24 \n",
       "  1529.81,1384.24 1530.32,1384.24 1530.82,1384.24 1531.33,1384.24 1531.83,1384.24 1532.34,1384.24 1532.84,1384.24 1533.35,1384.24 1533.86,1384.24 1534.36,1384.24 \n",
       "  1534.87,1384.24 1535.37,1384.24 1535.88,1384.24 1536.38,1384.24 1536.89,1384.24 1537.39,1384.24 1537.9,1384.24 1538.4,1384.24 1538.91,1384.24 1539.41,1384.24 \n",
       "  1539.92,1384.24 1540.42,1384.24 1540.93,1384.24 1541.43,1384.24 1541.94,1384.24 1542.44,1384.24 1542.95,1384.24 1543.45,1384.24 1543.96,1384.24 1544.46,1384.24 \n",
       "  1544.97,1384.24 1545.47,1384.24 1545.98,1384.24 1546.49,1384.24 1546.99,1384.24 1547.5,1384.24 1548,1384.24 1548.51,1384.24 1549.01,1384.24 1549.52,1384.24 \n",
       "  1550.02,1384.24 1550.53,1384.24 1551.03,1384.24 1551.54,1384.24 1552.04,1384.24 1552.55,1384.24 1553.05,1384.24 1553.56,1384.24 1554.06,1384.24 1554.57,1384.24 \n",
       "  1555.07,1384.24 1555.58,1384.24 1556.08,1384.24 1556.59,1384.24 1557.09,1384.24 1557.6,1384.24 1558.1,1384.24 1558.61,1384.24 1559.11,1384.24 1559.62,1384.24 \n",
       "  1560.13,1384.24 1560.63,1384.24 1561.14,1384.24 1561.64,1384.24 1562.15,1384.24 1562.65,1384.24 1563.16,1384.24 1563.66,1384.24 1564.17,1384.24 1564.67,1384.24 \n",
       "  1565.18,1384.24 1565.68,1384.24 1566.19,1384.24 1566.69,1384.24 1567.2,1384.24 1567.7,1384.24 1568.21,1384.24 1568.71,1384.24 1569.22,1384.24 1569.72,1384.24 \n",
       "  1570.23,1384.24 1570.73,1384.24 1571.24,1384.24 1571.74,1384.24 1572.25,1384.24 1572.75,1384.24 1573.26,1384.24 1573.77,1384.24 1574.27,1384.24 1574.78,1384.24 \n",
       "  1575.28,1384.24 1575.79,1384.24 1576.29,1384.24 1576.8,1384.24 1577.3,1384.24 1577.81,1384.24 1578.31,1384.24 1578.82,1384.24 1579.32,1384.24 1579.83,1384.24 \n",
       "  1580.33,1384.24 1580.84,1384.24 1581.34,1384.24 1581.85,1384.24 1582.35,1384.24 1582.86,1384.24 1583.36,1384.24 1583.87,1384.24 1584.37,1384.24 1584.88,1384.24 \n",
       "  1585.38,1384.24 1585.89,1384.24 1586.4,1384.24 1586.9,1384.24 1587.41,1384.24 1587.91,1384.24 1588.42,1384.24 1588.92,1384.24 1589.43,1384.24 1589.93,1384.24 \n",
       "  1590.44,1384.24 1590.94,1384.24 1591.45,1384.24 1591.95,1384.24 1592.46,1384.24 1592.96,1384.24 1593.47,1384.24 1593.97,1384.24 1594.48,1384.24 1594.98,1384.24 \n",
       "  1595.49,1384.24 1595.99,1384.24 1596.5,1384.24 1597,1384.24 1597.51,1384.24 1598.01,1384.24 1598.52,1384.24 1599.02,1384.24 1599.53,1384.24 1600.04,1384.24 \n",
       "  1600.54,1384.24 1601.05,1384.24 1601.55,1384.24 1602.06,1384.24 1602.56,1384.24 1603.07,1384.24 1603.57,1384.24 1604.08,1384.24 1604.58,1384.24 1605.09,1384.24 \n",
       "  1605.59,1384.24 1606.1,1384.24 1606.6,1384.24 1607.11,1384.24 1607.61,1384.24 1608.12,1384.24 1608.62,1384.24 1609.13,1384.24 1609.63,1384.24 1610.14,1384.24 \n",
       "  1610.64,1384.24 1611.15,1384.24 1611.65,1384.24 1612.16,1384.24 1612.67,1384.24 1613.17,1384.24 1613.68,1384.24 1614.18,1384.24 1614.69,1384.24 1615.19,1384.24 \n",
       "  1615.7,1384.24 1616.2,1384.24 1616.71,1384.24 1617.21,1384.24 1617.72,1384.24 1618.22,1384.24 1618.73,1384.24 1619.23,1384.24 1619.74,1384.24 1620.24,1384.24 \n",
       "  1620.75,1384.24 1621.25,1384.24 1621.76,1384.24 1622.26,1384.24 1622.77,1384.24 1623.27,1384.24 1623.78,1384.24 1624.28,1384.24 1624.79,1384.24 1625.29,1384.24 \n",
       "  1625.8,1384.24 1626.31,1384.24 1626.81,1384.24 1627.32,1384.24 1627.82,1384.24 1628.33,1384.24 1628.83,1384.24 1629.34,1384.24 1629.84,1384.24 1630.35,1384.24 \n",
       "  1630.85,1384.24 1631.36,1384.24 1631.86,1384.24 1632.37,1384.24 1632.87,1384.24 1633.38,1384.24 1633.88,1384.24 1634.39,1384.24 1634.89,1384.24 1635.4,1384.24 \n",
       "  1635.9,1384.24 1636.41,1384.24 1636.91,1384.24 1637.42,1384.24 1637.92,1384.24 1638.43,1384.24 1638.94,1384.24 1639.44,1384.24 1639.95,1384.24 1640.45,1384.24 \n",
       "  1640.96,1384.24 1641.46,1384.24 1641.97,1384.24 1642.47,1384.24 1642.98,1384.24 1643.48,1384.24 1643.99,1384.24 1644.49,1384.24 1645,1384.24 1645.5,1384.24 \n",
       "  1646.01,1384.24 1646.51,1384.24 1647.02,1384.24 1647.52,1384.24 1648.03,1384.24 1648.53,1384.24 1649.04,1384.24 1649.54,1384.24 1650.05,1384.24 1650.55,1384.24 \n",
       "  1651.06,1384.24 1651.56,1384.24 1652.07,1384.24 1652.58,1384.24 1653.08,1384.24 1653.59,1384.24 1654.09,1384.24 1654.6,1384.24 1655.1,1384.24 1655.61,1384.24 \n",
       "  1656.11,1384.24 1656.62,1384.24 1657.12,1384.24 1657.63,1384.24 1658.13,1384.24 1658.64,1384.24 1659.14,1384.24 1659.65,1384.24 1660.15,1384.24 1660.66,1384.24 \n",
       "  1661.16,1384.24 1661.67,1384.24 1662.17,1384.24 1662.68,1384.24 1663.18,1384.24 1663.69,1384.24 1664.19,1384.24 1664.7,1384.24 1665.21,1384.24 1665.71,1384.24 \n",
       "  1666.22,1384.24 1666.72,1384.24 1667.23,1384.24 1667.73,1384.24 1668.24,1384.24 1668.74,1384.24 1669.25,1384.24 1669.75,1384.24 1670.26,1384.24 1670.76,1384.24 \n",
       "  1671.27,1384.24 1671.77,1384.24 1672.28,1384.24 1672.78,1384.24 1673.29,1384.24 1673.79,1384.24 1674.3,1384.24 1674.8,1384.24 1675.31,1384.24 1675.81,1384.24 \n",
       "  1676.32,1384.24 1676.82,1384.24 1677.33,1384.24 1677.83,1384.24 1678.34,1384.24 1678.85,1384.24 1679.35,1384.24 1679.86,1384.24 1680.36,1384.24 1680.87,1384.24 \n",
       "  1681.37,1384.24 1681.88,1384.24 1682.38,1384.24 1682.89,1384.24 1683.39,1384.24 1683.9,1384.24 1684.4,1384.24 1684.91,1384.24 1685.41,1384.24 1685.92,1384.24 \n",
       "  1686.42,1384.24 1686.93,1384.24 1687.43,1384.24 1687.94,1384.24 1688.44,1384.24 1688.95,1384.24 1689.45,1384.24 1689.96,1384.24 1690.46,1384.24 1690.97,1384.24 \n",
       "  1691.48,1384.24 1691.98,1384.24 1692.49,1384.24 1692.99,1384.24 1693.5,1384.24 1694,1384.24 1694.51,1384.24 1695.01,1384.24 1695.52,1384.24 1696.02,1384.24 \n",
       "  1696.53,1384.24 1697.03,1384.24 1697.54,1384.24 1698.04,1384.24 1698.55,1384.24 1699.05,1384.24 1699.56,1384.24 1700.06,1384.24 1700.57,1384.24 1701.07,1384.24 \n",
       "  1701.58,1384.24 1702.08,1384.24 1702.59,1384.24 1703.09,1384.24 1703.6,1384.24 1704.1,1384.24 1704.61,1384.24 1705.12,1384.24 1705.62,1384.24 1706.13,1384.24 \n",
       "  1706.63,1384.24 1707.14,1384.24 1707.64,1384.24 1708.15,1384.24 1708.65,1384.24 1709.16,1384.24 1709.66,1384.24 1710.17,1384.24 1710.67,1384.24 1711.18,1384.24 \n",
       "  1711.68,1384.24 1712.19,1384.24 1712.69,1384.24 1713.2,1384.24 1713.7,1384.24 1714.21,1384.24 1714.71,1384.24 1715.22,1384.24 1715.72,1384.24 1716.23,1384.24 \n",
       "  1716.73,1384.24 1717.24,1384.24 1717.75,1384.24 1718.25,1384.24 1718.76,1384.24 1719.26,1384.24 1719.77,1384.24 1720.27,1384.24 1720.78,1384.24 1721.28,1384.24 \n",
       "  1721.79,1384.24 1722.29,1384.24 1722.8,1384.24 1723.3,1384.24 1723.81,1384.24 1724.31,1384.24 1724.82,1384.24 1725.32,1384.24 1725.83,1384.24 1726.33,1384.24 \n",
       "  1726.84,1384.24 1727.34,1384.24 1727.85,1384.24 1728.35,1384.24 1728.86,1384.24 1729.36,1384.24 1729.87,1384.24 1730.37,1384.24 1730.88,1384.24 1731.39,1384.24 \n",
       "  1731.89,1384.24 1732.4,1384.24 1732.9,1384.24 1733.41,1384.24 1733.91,1384.24 1734.42,1384.24 1734.92,1384.24 1735.43,1384.24 1735.93,1384.24 1736.44,1384.24 \n",
       "  1736.94,1384.24 1737.45,1384.24 1737.95,1384.24 1738.46,1384.24 1738.96,1384.24 1739.47,1384.24 1739.97,1384.24 1740.48,1384.24 1740.98,1384.24 1741.49,1384.24 \n",
       "  1741.99,1384.24 1742.5,1384.24 1743,1384.24 1743.51,1384.24 1744.01,1384.24 1744.52,1384.24 1745.03,1384.24 1745.53,1384.24 1746.04,1384.24 1746.54,1384.24 \n",
       "  1747.05,1384.24 1747.55,1384.24 1748.06,1384.24 1748.56,1384.24 1749.07,1384.24 1749.57,1384.24 1750.08,1384.24 1750.58,1384.24 1751.09,1384.24 1751.59,1384.24 \n",
       "  1752.1,1384.24 1752.6,1384.24 1753.11,1384.24 1753.61,1384.24 1754.12,1384.24 1754.62,1384.24 1755.13,1384.24 1755.63,1384.24 1756.14,1384.24 1756.64,1384.24 \n",
       "  1757.15,1384.24 1757.66,1384.24 1758.16,1384.24 1758.67,1384.24 1759.17,1384.24 1759.68,1384.24 1760.18,1384.24 1760.69,1384.24 1761.19,1384.24 1761.7,1384.24 \n",
       "  1762.2,1384.24 1762.71,1384.24 1763.21,1384.24 1763.72,1384.24 1764.22,1384.24 1764.73,1384.24 1765.23,1384.24 1765.74,1384.24 1766.24,1384.24 1766.75,1384.24 \n",
       "  1767.25,1384.24 1767.76,1384.24 1768.26,1384.24 1768.77,1384.24 1769.27,1384.24 1769.78,1384.24 1770.28,1384.24 1770.79,1384.24 1771.3,1384.24 1771.8,1384.24 \n",
       "  1772.31,1384.24 1772.81,1384.24 1773.32,1384.24 1773.82,1384.24 1774.33,1384.24 1774.83,1384.24 1775.34,1384.24 1775.84,1384.24 1776.35,1384.24 1776.85,1384.24 \n",
       "  1777.36,1384.24 1777.86,1384.24 1778.37,1384.24 1778.87,1384.24 1779.38,1384.24 1779.88,1384.24 1780.39,1384.24 1780.89,1384.24 1781.4,1384.24 1781.9,1384.24 \n",
       "  1782.41,1384.24 1782.91,1384.24 1783.42,1384.24 1783.93,1384.24 1784.43,1384.24 1784.94,1384.24 1785.44,1384.24 1785.95,1384.24 1786.45,1384.24 1786.96,1384.24 \n",
       "  1787.46,1384.24 1787.97,1384.24 1788.47,1384.24 1788.98,1384.24 1789.48,1384.24 1789.99,1384.24 1790.49,1384.24 1791,1384.24 1791.5,1384.24 1792.01,1384.24 \n",
       "  1792.51,1384.24 1793.02,1384.24 1793.52,1384.24 1794.03,1384.24 1794.53,1384.24 1795.04,1384.24 1795.54,1384.24 1796.05,1384.24 1796.55,1384.24 1797.06,1384.24 \n",
       "  1797.57,1384.24 1798.07,1384.24 1798.58,1384.24 1799.08,1384.24 1799.59,1384.24 1800.09,1384.24 1800.6,1384.24 1801.1,1384.24 1801.61,1384.24 1802.11,1384.24 \n",
       "  1802.62,1384.24 1803.12,1384.24 1803.63,1384.24 1804.13,1384.24 1804.64,1384.24 1805.14,1384.24 1805.65,1384.24 1806.15,1384.24 1806.66,1384.24 1807.16,1384.24 \n",
       "  1807.67,1384.24 1808.17,1384.24 1808.68,1384.24 1809.18,1384.24 1809.69,1384.24 1810.2,1384.24 1810.7,1384.24 1811.21,1384.24 1811.71,1384.24 1812.22,1384.24 \n",
       "  1812.72,1384.24 1813.23,1384.24 1813.73,1384.24 1814.24,1384.24 1814.74,1384.24 1815.25,1384.24 1815.75,1384.24 1816.26,1384.24 1816.76,1384.24 1817.27,1384.24 \n",
       "  1817.77,1384.24 1818.28,1384.24 1818.78,1384.24 1819.29,1384.24 1819.79,1384.24 1820.3,1384.24 1820.8,1384.24 1821.31,1384.24 1821.81,1384.24 1822.32,1384.24 \n",
       "  1822.82,1384.24 1823.33,1384.24 1823.84,1384.24 1824.34,1384.24 1824.85,1384.24 1825.35,1384.24 1825.86,1384.24 1826.36,1384.24 1826.87,1384.24 1827.37,1384.24 \n",
       "  1827.88,1384.24 1828.38,1384.24 1828.89,1384.24 1829.39,1384.24 1829.9,1384.24 1830.4,1384.24 1830.91,1384.24 1831.41,1384.24 1831.92,1384.24 1832.42,1384.24 \n",
       "  1832.93,1384.24 1833.43,1384.24 1833.94,1384.24 1834.44,1384.24 1834.95,1384.24 1835.45,1384.24 1835.96,1384.24 1836.47,1384.24 1836.97,1384.24 1837.48,1384.24 \n",
       "  1837.98,1384.24 1838.49,1384.24 1838.99,1384.24 1839.5,1384.24 1840,1384.24 1840.51,1384.24 1841.01,1384.24 1841.52,1384.24 1842.02,1384.24 1842.53,1384.24 \n",
       "  1843.03,1384.24 1843.54,1384.24 1844.04,1384.24 1844.55,1384.24 1845.05,1384.24 1845.56,1384.24 1846.06,1384.24 1846.57,1384.24 1847.07,1384.24 1847.58,1384.24 \n",
       "  1848.08,1384.24 1848.59,1384.24 1849.09,1384.24 1849.6,1384.24 1850.11,1384.24 1850.61,1384.24 1851.12,1384.24 1851.62,1384.24 1852.13,1384.24 1852.63,1384.24 \n",
       "  1853.14,1384.24 1853.64,1384.24 1854.15,1384.24 1854.65,1384.24 1855.16,1384.24 1855.66,1384.24 1856.17,1384.24 1856.67,1384.24 1857.18,1384.24 1857.68,1384.24 \n",
       "  1858.19,1384.24 1858.69,1384.24 1859.2,1384.24 1859.7,1384.24 1860.21,1384.24 1860.71,1384.24 1861.22,1384.24 1861.72,1384.24 1862.23,1384.24 1862.74,1384.24 \n",
       "  1863.24,1384.24 1863.75,1384.24 1864.25,1384.24 1864.76,1384.24 1865.26,1384.24 1865.77,1384.24 1866.27,1384.24 1866.78,1384.24 1867.28,1384.24 1867.79,1384.24 \n",
       "  1868.29,1384.24 1868.8,1384.24 1869.3,1384.24 1869.81,1384.24 1870.31,1384.24 1870.82,1384.24 1871.32,1384.24 1871.83,1384.24 1872.33,1384.24 1872.84,1384.24 \n",
       "  1873.34,1384.24 1873.85,1384.24 1874.35,1384.24 1874.86,1384.24 1875.36,1384.24 1875.87,1384.24 1876.38,1384.24 1876.88,1384.24 1877.39,1384.24 1877.89,1384.24 \n",
       "  1878.4,1384.24 1878.9,1384.24 1879.41,1384.24 1879.91,1384.24 1880.42,1384.24 1880.92,1384.24 1881.43,1384.24 1881.93,1384.24 1882.44,1384.24 1882.94,1384.24 \n",
       "  1883.45,1384.24 1883.95,1384.24 1884.46,1384.24 1884.96,1384.24 1885.47,1384.24 1885.97,1384.24 1886.48,1384.24 1886.98,1384.24 1887.49,1384.24 1887.99,1384.24 \n",
       "  1888.5,1384.24 1889.01,1384.24 1889.51,1384.24 1890.02,1384.24 1890.52,1384.24 1891.03,1384.24 1891.53,1384.24 1892.04,1384.24 1892.54,1384.24 1893.05,1384.24 \n",
       "  1893.55,1384.24 1894.06,1384.24 1894.56,1384.24 1895.07,1384.24 1895.57,1384.24 1896.08,1384.24 1896.58,1384.24 1897.09,1384.24 1897.59,1384.24 1898.1,1384.24 \n",
       "  1898.6,1384.24 1899.11,1384.24 1899.61,1384.24 1900.12,1384.24 1900.62,1384.24 1901.13,1384.24 1901.63,1384.24 1902.14,1384.24 1902.65,1384.24 1903.15,1384.24 \n",
       "  1903.66,1384.24 1904.16,1384.24 1904.67,1384.24 1905.17,1384.24 1905.68,1384.24 1906.18,1384.24 1906.69,1384.24 1907.19,1384.24 1907.7,1384.24 1908.2,1384.24 \n",
       "  1908.71,1384.24 1909.21,1384.24 1909.72,1384.24 1910.22,1384.24 1910.73,1384.24 1911.23,1384.24 1911.74,1384.24 1912.24,1384.24 1912.75,1384.24 1913.25,1384.24 \n",
       "  1913.76,1384.24 1914.26,1384.24 1914.77,1384.24 1915.27,1384.24 1915.78,1384.24 1916.29,1384.24 1916.79,1384.24 1917.3,1384.24 1917.8,1384.24 1918.31,1384.24 \n",
       "  1918.81,1384.24 1919.32,1384.24 1919.82,1384.24 1920.33,1384.24 1920.83,1384.24 1921.34,1384.24 1921.84,1384.24 1922.35,1384.24 1922.85,1384.24 1923.36,1384.24 \n",
       "  1923.86,1384.24 1924.37,1384.24 1924.87,1384.24 1925.38,1384.24 1925.88,1384.24 1926.39,1384.24 1926.89,1384.24 1927.4,1384.24 1927.9,1384.24 1928.41,1384.24 \n",
       "  1928.92,1384.24 1929.42,1384.24 1929.93,1384.24 1930.43,1384.24 1930.94,1384.24 1931.44,1384.24 1931.95,1384.24 1932.45,1384.24 1932.96,1384.24 1933.46,1384.24 \n",
       "  1933.97,1384.24 1934.47,1384.24 1934.98,1384.24 1935.48,1384.24 1935.99,1384.24 1936.49,1384.24 1937,1384.24 1937.5,1384.24 1938.01,1384.24 1938.51,1384.24 \n",
       "  1939.02,1384.24 1939.52,1384.24 1940.03,1384.24 1940.53,1384.24 1941.04,1384.24 1941.54,1384.24 1942.05,1384.24 1942.56,1384.24 1943.06,1384.24 1943.57,1384.24 \n",
       "  1944.07,1384.24 1944.58,1384.24 1945.08,1384.24 1945.59,1384.24 1946.09,1384.24 1946.6,1384.24 1947.1,1384.24 1947.61,1384.24 1948.11,1384.24 1948.62,1384.24 \n",
       "  1949.12,1384.24 1949.63,1384.24 1950.13,1384.24 1950.64,1384.24 1951.14,1384.24 1951.65,1384.24 1952.15,1384.24 1952.66,1384.24 1953.16,1384.24 1953.67,1384.24 \n",
       "  1954.17,1384.24 1954.68,1384.24 1955.19,1384.24 1955.69,1384.24 1956.2,1384.24 1956.7,1384.24 1957.21,1384.24 1957.71,1384.24 1958.22,1384.24 1958.72,1384.24 \n",
       "  1959.23,1384.24 1959.73,1384.24 1960.24,1384.24 1960.74,1384.24 1961.25,1384.24 1961.75,1384.24 1962.26,1384.24 1962.76,1384.24 1963.27,1384.24 1963.77,1384.24 \n",
       "  1964.28,1384.24 1964.78,1384.24 1965.29,1384.24 1965.79,1384.24 1966.3,1384.24 1966.8,1384.24 1967.31,1384.24 1967.81,1384.24 1968.32,1384.24 1968.83,1384.24 \n",
       "  1969.33,1384.24 1969.84,1384.24 1970.34,1384.24 1970.85,1384.24 1971.35,1384.24 1971.86,1384.24 1972.36,1384.24 1972.87,1384.24 1973.37,1384.24 1973.88,1384.24 \n",
       "  1974.38,1384.24 1974.89,1384.24 1975.39,1384.24 1975.9,1384.24 1976.4,1384.24 1976.91,1384.24 1977.41,1384.24 1977.92,1384.24 1978.42,1384.24 1978.93,1384.24 \n",
       "  1979.43,1384.24 1979.94,1384.24 1980.44,1384.24 1980.95,1384.24 1981.46,1384.24 1981.96,1384.24 1982.47,1384.24 1982.97,1384.24 1983.48,1384.24 1983.98,1384.24 \n",
       "  1984.49,1384.24 1984.99,1384.24 1985.5,1384.24 1986,1384.24 1986.51,1384.24 1987.01,1384.24 1987.52,1384.24 1988.02,1384.24 1988.53,1384.24 1989.03,1384.24 \n",
       "  1989.54,1384.24 1990.04,1384.24 1990.55,1384.24 1991.05,1384.24 1991.56,1384.24 1992.06,1384.24 1992.57,1384.24 1993.07,1384.24 1993.58,1384.24 1994.08,1384.24 \n",
       "  1994.59,1384.24 1995.1,1384.24 1995.6,1384.24 1996.11,1384.24 1996.61,1384.24 1997.12,1384.24 1997.62,1384.24 1998.13,1384.24 1998.63,1384.24 1999.14,1384.24 \n",
       "  1999.64,1384.24 2000.15,1384.24 2000.65,1384.24 2001.16,1384.24 2001.66,1384.24 2002.17,1384.24 2002.67,1384.24 2003.18,1384.24 2003.68,1384.24 2004.19,1384.24 \n",
       "  2004.69,1384.24 2005.2,1384.24 2005.7,1384.24 2006.21,1384.24 2006.71,1384.24 2007.22,1384.24 2007.73,1384.24 2008.23,1384.24 2008.74,1384.24 2009.24,1384.24 \n",
       "  2009.75,1384.24 2010.25,1384.24 2010.76,1384.24 2011.26,1384.24 2011.77,1384.24 2012.27,1384.24 2012.78,1384.24 2013.28,1384.24 2013.79,1384.24 2014.29,1384.24 \n",
       "  2014.8,1384.24 2015.3,1384.24 2015.81,1384.24 2016.31,1384.24 2016.82,1384.24 2017.32,1384.24 2017.83,1384.24 2018.33,1384.24 2018.84,1384.24 2019.34,1384.24 \n",
       "  2019.85,1384.24 2020.35,1384.24 2020.86,1384.24 2021.37,1384.24 2021.87,1384.24 2022.38,1384.24 2022.88,1384.24 2023.39,1384.24 2023.89,1384.24 2024.4,1384.24 \n",
       "  2024.9,1384.24 2025.41,1384.24 2025.91,1384.24 2026.42,1384.24 2026.92,1384.24 2027.43,1384.24 2027.93,1384.24 2028.44,1384.24 2028.94,1384.24 2029.45,1384.24 \n",
       "  2029.95,1384.24 2030.46,1384.24 2030.96,1384.24 2031.47,1384.24 2031.97,1384.24 2032.48,1384.24 2032.98,1384.24 2033.49,1384.24 2034,1384.24 2034.5,1384.24 \n",
       "  2035.01,1384.24 2035.51,1384.24 2036.02,1384.24 2036.52,1384.24 2037.03,1384.24 2037.53,1384.24 2038.04,1384.24 2038.54,1384.24 2039.05,1384.24 2039.55,1384.24 \n",
       "  2040.06,1384.24 2040.56,1384.24 2041.07,1384.24 2041.57,1384.24 2042.08,1384.24 2042.58,1384.24 2043.09,1384.24 2043.59,1384.24 2044.1,1384.24 2044.6,1384.24 \n",
       "  2045.11,1384.24 2045.61,1384.24 2046.12,1384.24 2046.62,1384.24 2047.13,1384.24 2047.64,1384.24 2048.14,1384.24 2048.65,1384.24 2049.15,1384.24 2049.66,1384.24 \n",
       "  2050.16,1384.24 2050.67,1384.24 2051.17,1384.24 2051.68,1384.24 2052.18,1384.24 2052.69,1384.24 2053.19,1384.24 2053.7,1384.24 2054.2,1384.24 2054.71,1384.24 \n",
       "  2055.21,1384.24 2055.72,1384.24 2056.22,1384.24 2056.73,1384.24 2057.23,1384.24 2057.74,1384.24 2058.24,1384.24 2058.75,1384.24 2059.25,1384.24 2059.76,1384.24 \n",
       "  2060.27,1384.24 2060.77,1384.24 2061.28,1384.24 2061.78,1384.24 2062.29,1384.24 2062.79,1384.24 2063.3,1384.24 2063.8,1384.24 2064.31,1384.24 2064.81,1384.24 \n",
       "  2065.32,1384.24 2065.82,1384.24 2066.33,1384.24 2066.83,1384.24 2067.34,1384.24 2067.84,1384.24 2068.35,1384.24 2068.85,1384.24 2069.36,1384.24 2069.86,1384.24 \n",
       "  2070.37,1384.24 2070.87,1384.24 2071.38,1384.24 2071.88,1384.24 2072.39,1384.24 2072.89,1384.24 2073.4,1384.24 2073.91,1384.24 2074.41,1384.24 2074.92,1384.24 \n",
       "  2075.42,1384.24 2075.93,1384.24 2076.43,1384.24 2076.94,1384.24 2077.44,1384.24 2077.95,1384.24 2078.45,1384.24 2078.96,1384.24 2079.46,1384.24 2079.97,1384.24 \n",
       "  2080.47,1384.24 2080.98,1384.24 2081.48,1384.24 2081.99,1384.24 2082.49,1384.24 2083,1384.24 2083.5,1384.24 2084.01,1384.24 2084.51,1384.24 2085.02,1384.24 \n",
       "  2085.52,1384.24 2086.03,1384.24 2086.54,1384.24 2087.04,1384.24 2087.55,1384.24 2088.05,1384.24 2088.56,1384.24 2089.06,1384.24 2089.57,1384.24 2090.07,1384.24 \n",
       "  2090.58,1384.24 2091.08,1384.24 2091.59,1384.24 2092.09,1384.24 2092.6,1384.24 2093.1,1384.24 2093.61,1384.24 2094.11,1384.24 2094.62,1384.24 2095.12,1384.24 \n",
       "  2095.63,1384.24 2096.13,1384.24 2096.64,1384.24 2097.14,1384.24 2097.65,1384.24 2098.15,1384.24 2098.66,1384.24 2099.16,1384.24 2099.67,1384.24 2100.18,1384.24 \n",
       "  2100.68,1384.24 2101.19,1384.24 2101.69,1384.24 2102.2,1384.24 2102.7,1384.24 2103.21,1384.24 2103.71,1384.24 2104.22,1384.24 2104.72,1384.24 2105.23,1384.24 \n",
       "  2105.73,1384.24 2106.24,1384.24 2106.74,1384.24 2107.25,1384.24 2107.75,1384.24 2108.26,1384.24 2108.76,1384.24 2109.27,1384.24 2109.77,1384.24 2110.28,1384.24 \n",
       "  2110.78,1384.24 2111.29,1384.24 2111.79,1384.24 2112.3,1384.24 2112.8,1384.24 2113.31,1384.24 2113.82,1384.24 2114.32,1384.24 2114.83,1384.24 2115.33,1384.24 \n",
       "  2115.84,1384.24 2116.34,1384.24 2116.85,1384.24 2117.35,1384.24 2117.86,1384.24 2118.36,1384.24 2118.87,1384.24 2119.37,1384.24 2119.88,1384.24 2120.38,1384.24 \n",
       "  2120.89,1384.24 2121.39,1384.24 2121.9,1384.24 2122.4,1384.24 2122.91,1384.24 2123.41,1384.24 2123.92,1384.24 2124.42,1384.24 2124.93,1384.24 2125.43,1384.24 \n",
       "  2125.94,1384.24 2126.45,1384.24 2126.95,1384.24 2127.46,1384.24 2127.96,1384.24 2128.47,1384.24 2128.97,1384.24 2129.48,1384.24 2129.98,1384.24 2130.49,1384.24 \n",
       "  2130.99,1384.24 2131.5,1384.24 2132,1384.24 2132.51,1384.24 2133.01,1384.24 2133.52,1384.24 2134.02,1384.24 2134.53,1384.24 2135.03,1384.24 2135.54,1384.24 \n",
       "  2136.04,1384.24 2136.55,1384.24 2137.05,1384.24 2137.56,1384.24 2138.06,1384.24 2138.57,1384.24 2139.07,1384.24 2139.58,1384.24 2140.09,1384.24 2140.59,1384.24 \n",
       "  2141.1,1384.24 2141.6,1384.24 2142.11,1384.24 2142.61,1384.24 2143.12,1384.24 2143.62,1384.24 2144.13,1384.24 2144.63,1384.24 2145.14,1384.24 2145.64,1384.24 \n",
       "  2146.15,1384.24 2146.65,1384.24 2147.16,1384.24 2147.66,1384.24 2148.17,1384.24 2148.67,1384.24 2149.18,1384.24 2149.68,1384.24 2150.19,1384.24 2150.69,1384.24 \n",
       "  2151.2,1384.24 2151.7,1384.24 2152.21,1384.24 2152.72,1384.24 2153.22,1384.24 2153.73,1384.24 2154.23,1384.24 2154.74,1384.24 2155.24,1384.24 2155.75,1384.24 \n",
       "  2156.25,1384.24 2156.76,1384.24 2157.26,1384.24 2157.77,1384.24 2158.27,1384.24 2158.78,1384.24 2159.28,1384.24 2159.79,1384.24 2160.29,1384.24 2160.8,1384.24 \n",
       "  2161.3,1384.24 2161.81,1384.24 2162.31,1384.24 2162.82,1384.24 2163.32,1384.24 2163.83,1384.24 2164.33,1384.24 2164.84,1384.24 2165.34,1384.24 2165.85,1384.24 \n",
       "  2166.36,1384.24 2166.86,1384.24 2167.37,1384.24 2167.87,1384.24 2168.38,1384.24 2168.88,1384.24 2169.39,1384.24 2169.89,1384.24 2170.4,1384.24 2170.9,1384.24 \n",
       "  2171.41,1384.24 2171.91,1384.24 2172.42,1384.24 2172.92,1384.24 2173.43,1384.24 2173.93,1384.24 2174.44,1384.24 2174.94,1384.24 2175.45,1384.24 2175.95,1384.24 \n",
       "  2176.46,1384.24 2176.96,1384.24 2177.47,1384.24 2177.97,1384.24 2178.48,1384.24 2178.99,1384.24 2179.49,1384.24 2180,1384.24 2180.5,1384.24 2181.01,1384.24 \n",
       "  2181.51,1384.24 2182.02,1384.24 2182.52,1384.24 2183.03,1384.24 2183.53,1384.24 2184.04,1384.24 2184.54,1384.24 2185.05,1384.24 2185.55,1384.24 2186.06,1384.24 \n",
       "  2186.56,1384.24 2187.07,1384.24 2187.57,1384.24 2188.08,1384.24 2188.58,1384.24 2189.09,1384.24 2189.59,1384.24 2190.1,1384.24 2190.6,1384.24 2191.11,1384.24 \n",
       "  2191.61,1384.24 2192.12,1384.24 2192.63,1384.24 2193.13,1384.24 2193.64,1384.24 2194.14,1384.24 2194.65,1384.24 2195.15,1384.24 2195.66,1384.24 2196.16,1384.24 \n",
       "  2196.67,1384.24 2197.17,1384.24 2197.68,1384.24 2198.18,1384.24 2198.69,1384.24 2199.19,1384.24 2199.7,1384.24 2200.2,1384.24 2200.71,1384.24 2201.21,1384.24 \n",
       "  2201.72,1384.24 2202.22,1384.24 2202.73,1384.24 2203.23,1384.24 2203.74,1384.24 2204.24,1384.24 2204.75,1384.24 2205.26,1384.24 2205.76,1384.24 2206.27,1384.24 \n",
       "  2206.77,1384.24 2207.28,1384.24 2207.78,1384.24 2208.29,1384.24 2208.79,1384.24 2209.3,1384.24 2209.8,1384.24 2210.31,1384.24 2210.81,1384.24 2211.32,1384.24 \n",
       "  2211.82,1384.24 2212.33,1384.24 2212.83,1384.24 2213.34,1384.24 2213.84,1384.24 2214.35,1384.24 2214.85,1384.24 2215.36,1384.24 2215.86,1384.24 2216.37,1384.24 \n",
       "  2216.87,1384.24 2217.38,1384.24 2217.88,1384.24 2218.39,1384.24 2218.9,1384.24 2219.4,1384.24 2219.91,1384.24 2220.41,1384.24 2220.92,1384.24 2221.42,1384.24 \n",
       "  2221.93,1384.24 2222.43,1384.24 2222.94,1384.24 2223.44,1384.24 2223.95,1384.24 2224.45,1384.24 2224.96,1384.24 2225.46,1384.24 2225.97,1384.24 2226.47,1384.24 \n",
       "  2226.98,1384.24 2227.48,1384.24 2227.99,1384.24 2228.49,1384.24 2229,1384.24 2229.5,1384.24 2230.01,1384.24 2230.51,1384.24 2231.02,1384.24 2231.53,1384.24 \n",
       "  2232.03,1384.24 2232.54,1384.24 2233.04,1384.24 2233.55,1384.24 2234.05,1384.24 2234.56,1384.24 2235.06,1384.24 2235.57,1384.24 2236.07,1384.24 2236.58,1384.24 \n",
       "  2237.08,1384.24 2237.59,1384.24 2238.09,1384.24 2238.6,1384.24 2239.1,1384.24 2239.61,1384.24 2240.11,1384.24 2240.62,1384.24 2241.12,1384.24 2241.63,1384.24 \n",
       "  2242.13,1384.24 2242.64,1384.24 2243.14,1384.24 2243.65,1384.24 2244.15,1384.24 2244.66,1384.24 2245.17,1384.24 2245.67,1384.24 2246.18,1384.24 2246.68,1384.24 \n",
       "  2247.19,1384.24 2247.69,1384.24 2248.2,1384.24 2248.7,1384.24 2249.21,1384.24 2249.71,1384.24 2250.22,1384.24 2250.72,1384.24 2251.23,1384.24 2251.73,1384.24 \n",
       "  2252.24,1384.24 2252.74,1384.24 2253.25,1384.24 2253.75,1384.24 2254.26,1384.24 2254.76,1384.24 2255.27,1384.24 2255.77,1384.24 2256.28,1384.24 2256.78,1384.24 \n",
       "  2257.29,1384.24 2257.8,1384.24 2258.3,1384.24 2258.81,1384.24 2259.31,1384.24 2259.82,1384.24 2260.32,1384.24 2260.83,1384.24 2261.33,1384.24 2261.84,1384.24 \n",
       "  2262.34,1384.24 2262.85,1384.24 2263.35,1384.24 2263.86,1384.24 2264.36,1384.24 2264.87,1384.24 2265.37,1384.24 2265.88,1384.24 2266.38,1384.24 2266.89,1384.24 \n",
       "  2267.39,1384.24 2267.9,1384.24 2268.4,1384.24 2268.91,1384.24 2269.41,1384.24 2269.92,1384.24 2270.42,1384.24 2270.93,1384.24 2271.44,1384.24 2271.94,1384.24 \n",
       "  2272.45,1384.24 2272.95,1384.24 2273.46,1384.24 2273.96,1384.24 2274.47,1384.24 2274.97,1384.24 2275.48,1384.24 2275.98,1384.24 2276.49,1384.24 2276.99,1384.24 \n",
       "  2277.5,1384.24 2278,1384.24 2278.51,1384.24 2279.01,1384.24 2279.52,1384.24 2280.02,1384.24 2280.53,1384.24 2281.03,1384.24 2281.54,1384.24 2282.04,1384.24 \n",
       "  2282.55,1384.24 2283.05,1384.24 2283.56,1384.24 2284.06,1384.24 2284.57,1384.24 2285.08,1384.24 2285.58,1384.24 2286.09,1384.24 2286.59,1384.24 2287.1,1384.24 \n",
       "  2287.6,1384.24 2288.11,1384.24 2288.61,1384.24 2289.12,1384.24 2289.62,1384.24 2290.13,1384.24 2290.63,1384.24 2291.14,1384.24 2291.64,1384.24 2292.15,1384.24 \n",
       "  \n",
       "  \"/>\n",
       "<path clip-path=\"url(#clip710)\" d=\"\n",
       "M1844.1 274.549 L2281.37 274.549 L2281.37 93.1086 L1844.1 93.1086  Z\n",
       "  \" fill=\"#ffffff\" fill-rule=\"evenodd\" fill-opacity=\"1\"/>\n",
       "<polyline clip-path=\"url(#clip710)\" style=\"stroke:#000000; stroke-width:4; stroke-opacity:1; fill:none\" points=\"\n",
       "  1844.1,274.549 2281.37,274.549 2281.37,93.1086 1844.1,93.1086 1844.1,274.549 \n",
       "  \"/>\n",
       "<polyline clip-path=\"url(#clip710)\" style=\"stroke:#009af9; stroke-width:4; stroke-opacity:1; fill:none\" points=\"\n",
       "  1867.9,153.589 2010.66,153.589 \n",
       "  \"/>\n",
       "<path clip-path=\"url(#clip710)\" d=\"M 0 0 M2047.65 170.869 L2034.46 136.309 L2039.34 136.309 L2050.29 165.406 L2061.26 136.309 L2066.12 136.309 L2052.95 170.869 L2047.65 170.869 Z\" fill=\"#000000\" fill-rule=\"evenodd\" fill-opacity=\"1\" /><path clip-path=\"url(#clip710)\" d=\"M 0 0 M2078.69 157.836 Q2073.53 157.836 2071.54 159.017 Q2069.55 160.197 2069.55 163.045 Q2069.55 165.313 2071.03 166.656 Q2072.54 167.975 2075.11 167.975 Q2078.65 167.975 2080.78 165.475 Q2082.93 162.952 2082.93 158.785 L2082.93 157.836 L2078.69 157.836 M2087.19 156.077 L2087.19 170.869 L2082.93 170.869 L2082.93 166.933 Q2081.47 169.295 2079.3 170.429 Q2077.12 171.54 2073.97 171.54 Q2069.99 171.54 2067.63 169.318 Q2065.29 167.072 2065.29 163.322 Q2065.29 158.947 2068.21 156.725 Q2071.15 154.503 2076.96 154.503 L2082.93 154.503 L2082.93 154.086 Q2082.93 151.147 2080.98 149.549 Q2079.06 147.929 2075.57 147.929 Q2073.35 147.929 2071.24 148.461 Q2069.13 148.994 2067.19 150.059 L2067.19 146.123 Q2069.53 145.221 2071.73 144.781 Q2073.92 144.318 2076.01 144.318 Q2081.63 144.318 2084.41 147.234 Q2087.19 150.151 2087.19 156.077 Z\" fill=\"#000000\" fill-rule=\"evenodd\" fill-opacity=\"1\" /><path clip-path=\"url(#clip710)\" d=\"M 0 0 M2091.66 134.85 L2095.92 134.85 L2095.92 170.869 L2091.66 170.869 L2091.66 134.85 Z\" fill=\"#000000\" fill-rule=\"evenodd\" fill-opacity=\"1\" /><path clip-path=\"url(#clip710)\" d=\"M 0 0 M2100.38 144.943 L2104.64 144.943 L2104.64 170.869 L2100.38 170.869 L2100.38 144.943 M2100.38 134.85 L2104.64 134.85 L2104.64 140.244 L2100.38 140.244 L2100.38 134.85 Z\" fill=\"#000000\" fill-rule=\"evenodd\" fill-opacity=\"1\" /><path clip-path=\"url(#clip710)\" d=\"M 0 0 M2126.17 148.878 L2126.17 134.85 L2130.43 134.85 L2130.43 170.869 L2126.17 170.869 L2126.17 166.98 Q2124.83 169.295 2122.77 170.429 Q2120.73 171.54 2117.86 171.54 Q2113.16 171.54 2110.2 167.79 Q2107.26 164.04 2107.26 157.929 Q2107.26 151.818 2110.2 148.068 Q2113.16 144.318 2117.86 144.318 Q2120.73 144.318 2122.77 145.452 Q2124.83 146.563 2126.17 148.878 M2111.66 157.929 Q2111.66 162.628 2113.58 165.313 Q2115.52 167.975 2118.9 167.975 Q2122.28 167.975 2124.23 165.313 Q2126.17 162.628 2126.17 157.929 Q2126.17 153.23 2124.23 150.568 Q2122.28 147.883 2118.9 147.883 Q2115.52 147.883 2113.58 150.568 Q2111.66 153.23 2111.66 157.929 Z\" fill=\"#000000\" fill-rule=\"evenodd\" fill-opacity=\"1\" /><path clip-path=\"url(#clip710)\" d=\"M 0 0 M2146.68 157.836 Q2141.52 157.836 2139.53 159.017 Q2137.54 160.197 2137.54 163.045 Q2137.54 165.313 2139.02 166.656 Q2140.52 167.975 2143.09 167.975 Q2146.63 167.975 2148.76 165.475 Q2150.92 162.952 2150.92 158.785 L2150.92 157.836 L2146.68 157.836 M2155.17 156.077 L2155.17 170.869 L2150.92 170.869 L2150.92 166.933 Q2149.46 169.295 2147.28 170.429 Q2145.1 171.54 2141.96 171.54 Q2137.98 171.54 2135.61 169.318 Q2133.28 167.072 2133.28 163.322 Q2133.28 158.947 2136.19 156.725 Q2139.13 154.503 2144.94 154.503 L2150.92 154.503 L2150.92 154.086 Q2150.92 151.147 2148.97 149.549 Q2147.05 147.929 2143.55 147.929 Q2141.33 147.929 2139.23 148.461 Q2137.12 148.994 2135.17 150.059 L2135.17 146.123 Q2137.51 145.221 2139.71 144.781 Q2141.91 144.318 2143.99 144.318 Q2149.62 144.318 2152.4 147.234 Q2155.17 150.151 2155.17 156.077 Z\" fill=\"#000000\" fill-rule=\"evenodd\" fill-opacity=\"1\" /><path clip-path=\"url(#clip710)\" d=\"M 0 0 M2163.85 137.582 L2163.85 144.943 L2172.63 144.943 L2172.63 148.253 L2163.85 148.253 L2163.85 162.327 Q2163.85 165.498 2164.71 166.401 Q2165.59 167.304 2168.25 167.304 L2172.63 167.304 L2172.63 170.869 L2168.25 170.869 Q2163.32 170.869 2161.45 169.04 Q2159.57 167.188 2159.57 162.327 L2159.57 148.253 L2156.45 148.253 L2156.45 144.943 L2159.57 144.943 L2159.57 137.582 L2163.85 137.582 Z\" fill=\"#000000\" fill-rule=\"evenodd\" fill-opacity=\"1\" /><path clip-path=\"url(#clip710)\" d=\"M 0 0 M2177.1 144.943 L2181.35 144.943 L2181.35 170.869 L2177.1 170.869 L2177.1 144.943 M2177.1 134.85 L2181.35 134.85 L2181.35 140.244 L2177.1 140.244 L2177.1 134.85 Z\" fill=\"#000000\" fill-rule=\"evenodd\" fill-opacity=\"1\" /><path clip-path=\"url(#clip710)\" d=\"M 0 0 M2195.87 147.929 Q2192.44 147.929 2190.45 150.614 Q2188.46 153.276 2188.46 157.929 Q2188.46 162.582 2190.43 165.267 Q2192.42 167.929 2195.87 167.929 Q2199.27 167.929 2201.26 165.244 Q2203.25 162.558 2203.25 157.929 Q2203.25 153.322 2201.26 150.637 Q2199.27 147.929 2195.87 147.929 M2195.87 144.318 Q2201.42 144.318 2204.6 147.929 Q2207.77 151.54 2207.77 157.929 Q2207.77 164.295 2204.6 167.929 Q2201.42 171.54 2195.87 171.54 Q2190.29 171.54 2187.12 167.929 Q2183.97 164.295 2183.97 157.929 Q2183.97 151.54 2187.12 147.929 Q2190.29 144.318 2195.87 144.318 Z\" fill=\"#000000\" fill-rule=\"evenodd\" fill-opacity=\"1\" /><path clip-path=\"url(#clip710)\" d=\"M 0 0 M2233.78 155.221 L2233.78 170.869 L2229.53 170.869 L2229.53 155.359 Q2229.53 151.679 2228.09 149.85 Q2226.66 148.022 2223.78 148.022 Q2220.34 148.022 2218.35 150.221 Q2216.35 152.42 2216.35 156.216 L2216.35 170.869 L2212.07 170.869 L2212.07 144.943 L2216.35 144.943 L2216.35 148.971 Q2217.88 146.633 2219.94 145.475 Q2222.03 144.318 2224.73 144.318 Q2229.2 144.318 2231.49 147.096 Q2233.78 149.85 2233.78 155.221 Z\" fill=\"#000000\" fill-rule=\"evenodd\" fill-opacity=\"1\" /><polyline clip-path=\"url(#clip710)\" style=\"stroke:#e26f46; stroke-width:4; stroke-opacity:1; fill:none\" points=\"\n",
       "  1867.9,214.069 2010.66,214.069 \n",
       "  \"/>\n",
       "<path clip-path=\"url(#clip710)\" d=\"M 0 0 M2034.46 196.789 L2063.69 196.789 L2063.69 200.724 L2051.42 200.724 L2051.42 231.349 L2046.73 231.349 L2046.73 200.724 L2034.46 200.724 L2034.46 196.789 Z\" fill=\"#000000\" fill-rule=\"evenodd\" fill-opacity=\"1\" /><path clip-path=\"url(#clip710)\" d=\"M 0 0 M2076.22 209.404 Q2075.5 208.988 2074.64 208.802 Q2073.81 208.594 2072.79 208.594 Q2069.18 208.594 2067.23 210.955 Q2065.31 213.293 2065.31 217.691 L2065.31 231.349 L2061.03 231.349 L2061.03 205.423 L2065.31 205.423 L2065.31 209.451 Q2066.66 207.089 2068.81 205.955 Q2070.96 204.798 2074.04 204.798 Q2074.48 204.798 2075.01 204.867 Q2075.55 204.914 2076.19 205.029 L2076.22 209.404 Z\" fill=\"#000000\" fill-rule=\"evenodd\" fill-opacity=\"1\" /><path clip-path=\"url(#clip710)\" d=\"M 0 0 M2092.47 218.316 Q2087.3 218.316 2085.31 219.497 Q2083.32 220.677 2083.32 223.525 Q2083.32 225.793 2084.8 227.136 Q2086.31 228.455 2088.88 228.455 Q2092.42 228.455 2094.55 225.955 Q2096.7 223.432 2096.7 219.265 L2096.7 218.316 L2092.47 218.316 M2100.96 216.557 L2100.96 231.349 L2096.7 231.349 L2096.7 227.413 Q2095.24 229.775 2093.07 230.909 Q2090.89 232.02 2087.74 232.02 Q2083.76 232.02 2081.4 229.798 Q2079.06 227.552 2079.06 223.802 Q2079.06 219.427 2081.98 217.205 Q2084.92 214.983 2090.73 214.983 L2096.7 214.983 L2096.7 214.566 Q2096.7 211.627 2094.76 210.029 Q2092.84 208.409 2089.34 208.409 Q2087.12 208.409 2085.01 208.941 Q2082.91 209.474 2080.96 210.539 L2080.96 206.603 Q2083.3 205.701 2085.5 205.261 Q2087.7 204.798 2089.78 204.798 Q2095.41 204.798 2098.18 207.714 Q2100.96 210.631 2100.96 216.557 Z\" fill=\"#000000\" fill-rule=\"evenodd\" fill-opacity=\"1\" /><path clip-path=\"url(#clip710)\" d=\"M 0 0 M2105.43 205.423 L2109.69 205.423 L2109.69 231.349 L2105.43 231.349 L2105.43 205.423 M2105.43 195.33 L2109.69 195.33 L2109.69 200.724 L2105.43 200.724 L2105.43 195.33 Z\" fill=\"#000000\" fill-rule=\"evenodd\" fill-opacity=\"1\" /><path clip-path=\"url(#clip710)\" d=\"M 0 0 M2135.71 215.701 L2135.71 231.349 L2131.45 231.349 L2131.45 215.839 Q2131.45 212.159 2130.01 210.33 Q2128.58 208.502 2125.71 208.502 Q2122.26 208.502 2120.27 210.701 Q2118.28 212.9 2118.28 216.696 L2118.28 231.349 L2113.99 231.349 L2113.99 205.423 L2118.28 205.423 L2118.28 209.451 Q2119.8 207.113 2121.86 205.955 Q2123.95 204.798 2126.66 204.798 Q2131.12 204.798 2133.42 207.576 Q2135.71 210.33 2135.71 215.701 Z\" fill=\"#000000\" fill-rule=\"evenodd\" fill-opacity=\"1\" /><path clip-path=\"url(#clip710)\" d=\"M 0 0 M2140.17 205.423 L2144.43 205.423 L2144.43 231.349 L2140.17 231.349 L2140.17 205.423 M2140.17 195.33 L2144.43 195.33 L2144.43 200.724 L2140.17 200.724 L2140.17 195.33 Z\" fill=\"#000000\" fill-rule=\"evenodd\" fill-opacity=\"1\" /><path clip-path=\"url(#clip710)\" d=\"M 0 0 M2170.45 215.701 L2170.45 231.349 L2166.19 231.349 L2166.19 215.839 Q2166.19 212.159 2164.76 210.33 Q2163.32 208.502 2160.45 208.502 Q2157 208.502 2155.01 210.701 Q2153.02 212.9 2153.02 216.696 L2153.02 231.349 L2148.74 231.349 L2148.74 205.423 L2153.02 205.423 L2153.02 209.451 Q2154.55 207.113 2156.61 205.955 Q2158.69 204.798 2161.4 204.798 Q2165.87 204.798 2168.16 207.576 Q2170.45 210.33 2170.45 215.701 Z\" fill=\"#000000\" fill-rule=\"evenodd\" fill-opacity=\"1\" /><path clip-path=\"url(#clip710)\" d=\"M 0 0 M2191.98 218.085 Q2191.98 213.455 2190.06 210.909 Q2188.16 208.363 2184.71 208.363 Q2181.29 208.363 2179.36 210.909 Q2177.47 213.455 2177.47 218.085 Q2177.47 222.691 2179.36 225.238 Q2181.29 227.784 2184.71 227.784 Q2188.16 227.784 2190.06 225.238 Q2191.98 222.691 2191.98 218.085 M2196.24 228.131 Q2196.24 234.751 2193.3 237.969 Q2190.36 241.21 2184.29 241.21 Q2182.05 241.21 2180.06 240.862 Q2178.07 240.538 2176.19 239.844 L2176.19 235.7 Q2178.07 236.719 2179.9 237.205 Q2181.73 237.691 2183.62 237.691 Q2187.81 237.691 2189.9 235.492 Q2191.98 233.316 2191.98 228.895 L2191.98 226.788 Q2190.66 229.08 2188.6 230.214 Q2186.54 231.349 2183.67 231.349 Q2178.9 231.349 2175.98 227.714 Q2173.07 224.08 2173.07 218.085 Q2173.07 212.066 2175.98 208.432 Q2178.9 204.798 2183.67 204.798 Q2186.54 204.798 2188.6 205.932 Q2190.66 207.066 2191.98 209.358 L2191.98 205.423 L2196.24 205.423 L2196.24 228.131 Z\" fill=\"#000000\" fill-rule=\"evenodd\" fill-opacity=\"1\" /></svg>\n"
      ]
     },
     "execution_count": 36,
     "metadata": {},
     "output_type": "execute_result"
    }
   ],
   "source": [
    "plot(curve.parameter_values,\n",
    "     curve.measurements,\n",
    "     xlab=curve.parameter_name,\n",
    "     ylab=\"Cross Entropy\",\n",
    "     label=\"Validation\", lw=2)\n",
    "plot!(Net.report.training_losses, label=\"Training\", lw=2)"
   ]
  },
  {
   "cell_type": "code",
   "execution_count": 37,
   "metadata": {},
   "outputs": [
    {
     "data": {
      "text/plain": [
       "(0.00033, 0.70458, 719)"
      ]
     },
     "execution_count": 37,
     "metadata": {},
     "output_type": "execute_result"
    }
   ],
   "source": [
    "a = round(nn.optimiser.eta, digits=5)\n",
    "b = round(minimum(curve.measurements), digits=5)\n",
    "best_epochs = curve.parameter_values[argmin(curve.measurements)]\n",
    "a,b, best_epochs"
   ]
  },
  {
   "cell_type": "code",
   "execution_count": 39,
   "metadata": {},
   "outputs": [],
   "source": [
    "fn = \"Figures/LearningCurve_NN_hidden:$(layer1)_epochs:$(nn.epochs)_lr:$(a)_loss:$(b)_labmda:$(nn.lambda)\"\n",
    "png(replace(fn,'.' => ','))"
   ]
  },
  {
   "cell_type": "markdown",
   "metadata": {},
   "source": [
    "### GridSearch for Hidden Layer Size 1"
   ]
  },
  {
   "cell_type": "code",
   "execution_count": 40,
   "metadata": {},
   "outputs": [
    {
     "data": {
      "text/plain": [
       "\u001b[34mMachine{NeuralNetworkClassifier{CustomNN,…}} @401\u001b[39m trained 0 times.\n",
       "  args: \n",
       "    1:\t\u001b[34mSource @906\u001b[39m ⏎ `Table{AbstractArray{Continuous,1}}`\n",
       "    2:\t\u001b[34mSource @509\u001b[39m ⏎ `AbstractArray{Multiclass{3},1}`\n"
      ]
     },
     "execution_count": 40,
     "metadata": {},
     "output_type": "execute_result"
    }
   ],
   "source": [
    "Net = machine(nn, X_stand, y)"
   ]
  },
  {
   "cell_type": "code",
   "execution_count": 41,
   "metadata": {},
   "outputs": [
    {
     "data": {
      "text/plain": [
       "MLJBase.NumericRange(Int64, :(builder.n1), ... )"
      ]
     },
     "execution_count": 41,
     "metadata": {},
     "output_type": "execute_result"
    }
   ],
   "source": [
    "param1 = :epochs\n",
    "param2 = :(builder.n1)\n",
    "\n",
    "r1 = range(nn, param1, lower=10, upper=4000, scale=:log10)\n",
    "# r1 = range(nn, param1, lower=1, upper=100, scale=:linear)\n",
    "r2 = range(nn, param2, lower=10, upper=100, scale=:linear)"
   ]
  },
  {
   "cell_type": "code",
   "execution_count": 42,
   "metadata": {
    "scrolled": true
   },
   "outputs": [
    {
     "data": {
      "text/plain": [
       "ProbabilisticTunedModel(\n",
       "    model = NeuralNetworkClassifier(\n",
       "            builder = \u001b[34mCustomNN @784\u001b[39m,\n",
       "            finaliser = NNlib.softmax,\n",
       "            optimiser = ADAM(0.0003333333333333333, (0.9, 0.999), IdDict{Any,Any}()),\n",
       "            loss = Flux.crossentropy,\n",
       "            epochs = 4000,\n",
       "            batch_size = 16,\n",
       "            lambda = 0.01,\n",
       "            alpha = 0.0,\n",
       "            optimiser_changes_trigger_retraining = false),\n",
       "    tuning = Grid(\n",
       "            goal = 64,\n",
       "            resolution = 10,\n",
       "            shuffle = true,\n",
       "            rng = Random._GLOBAL_RNG()),\n",
       "    resampling = Holdout(\n",
       "            fraction_train = 0.7,\n",
       "            shuffle = false,\n",
       "            rng = Random._GLOBAL_RNG()),\n",
       "    measure = cross_entropy(\n",
       "            eps = 2.220446049250313e-16),\n",
       "    weights = nothing,\n",
       "    operation = MLJModelInterface.predict,\n",
       "    range = MLJBase.NumericRange{Int64,MLJBase.Bounded,Symbol}[\u001b[34mNumericRange{Int64,…} @460\u001b[39m, \u001b[34mNumericRange{Int64,…} @331\u001b[39m],\n",
       "    train_best = true,\n",
       "    repeats = 1,\n",
       "    n = nothing,\n",
       "    acceleration = CPUThreads{Int64}(1),\n",
       "    acceleration_resampling = CPU1{Nothing}(nothing),\n",
       "    check_measure = true)\u001b[34m @978\u001b[39m"
      ]
     },
     "execution_count": 42,
     "metadata": {},
     "output_type": "execute_result"
    }
   ],
   "source": [
    "self_tuning_nn_model = TunedModel(model=nn,\n",
    "                                    tuning=Grid(goal=64),\n",
    "                                    resampling=Holdout(fraction_train=0.7), \n",
    "                                    measure=cross_entropy,\n",
    "                                    acceleration=CPUThreads(),\n",
    "                                    range=[r1, r2])"
   ]
  },
  {
   "cell_type": "code",
   "execution_count": 43,
   "metadata": {},
   "outputs": [
    {
     "data": {
      "text/plain": [
       "\u001b[34mMachine{ProbabilisticTunedModel{Grid,…}} @643\u001b[39m trained 0 times.\n",
       "  args: \n",
       "    1:\t\u001b[34mSource @853\u001b[39m ⏎ `Table{AbstractArray{Continuous,1}}`\n",
       "    2:\t\u001b[34mSource @997\u001b[39m ⏎ `AbstractArray{Multiclass{3},1}`\n"
      ]
     },
     "execution_count": 43,
     "metadata": {},
     "output_type": "execute_result"
    }
   ],
   "source": [
    "self_tuning_nn = machine(self_tuning_nn_model, X_stand, y)"
   ]
  },
  {
   "cell_type": "code",
   "execution_count": 44,
   "metadata": {},
   "outputs": [
    {
     "name": "stderr",
     "output_type": "stream",
     "text": [
      "┌ Info: Training \u001b[34mMachine{ProbabilisticTunedModel{Grid,…}} @643\u001b[39m.\n",
      "└ @ MLJBase /home/andrew/.julia/packages/MLJBase/uKzAz/src/machines.jl:319\n",
      "┌ Info: Attempting to evaluate 64 models.\n",
      "└ @ MLJTuning /home/andrew/.julia/packages/MLJTuning/Bbgvk/src/tuned_models.jl:494\n",
      "\u001b[33mEvaluating over 64 metamodels: 100%[=========================] Time: 0:29:33\u001b[39m\n"
     ]
    },
    {
     "data": {
      "text/plain": [
       "\u001b[34mMachine{ProbabilisticTunedModel{Grid,…}} @643\u001b[39m trained 1 time.\n",
       "  args: \n",
       "    1:\t\u001b[34mSource @853\u001b[39m ⏎ `Table{AbstractArray{Continuous,1}}`\n",
       "    2:\t\u001b[34mSource @997\u001b[39m ⏎ `AbstractArray{Multiclass{3},1}`\n"
      ]
     },
     "execution_count": 44,
     "metadata": {},
     "output_type": "execute_result"
    }
   ],
   "source": [
    "z = fit!(self_tuning_nn, rows=train)"
   ]
  },
  {
   "cell_type": "code",
   "execution_count": 45,
   "metadata": {
    "scrolled": false
   },
   "outputs": [
    {
     "data": {
      "image/svg+xml": [
       "<?xml version=\"1.0\" encoding=\"utf-8\"?>\n",
       "<svg xmlns=\"http://www.w3.org/2000/svg\" xmlns:xlink=\"http://www.w3.org/1999/xlink\" width=\"600\" height=\"400\" viewBox=\"0 0 2400 1600\">\n",
       "<defs>\n",
       "  <clipPath id=\"clip760\">\n",
       "    <rect x=\"0\" y=\"0\" width=\"2400\" height=\"1600\"/>\n",
       "  </clipPath>\n",
       "</defs>\n",
       "<path clip-path=\"url(#clip760)\" d=\"\n",
       "M0 1600 L2400 1600 L2400 0 L0 0  Z\n",
       "  \" fill=\"#ffffff\" fill-rule=\"evenodd\" fill-opacity=\"1\"/>\n",
       "<defs>\n",
       "  <clipPath id=\"clip761\">\n",
       "    <rect x=\"480\" y=\"0\" width=\"1681\" height=\"1600\"/>\n",
       "  </clipPath>\n",
       "</defs>\n",
       "<path clip-path=\"url(#clip760)\" d=\"\n",
       "M224.866 1410.9 L2112.76 1410.9 L2112.76 47.2441 L224.866 47.2441  Z\n",
       "  \" fill=\"#ffffff\" fill-rule=\"evenodd\" fill-opacity=\"1\"/>\n",
       "<defs>\n",
       "  <clipPath id=\"clip762\">\n",
       "    <rect x=\"224\" y=\"47\" width=\"1889\" height=\"1365\"/>\n",
       "  </clipPath>\n",
       "</defs>\n",
       "<polyline clip-path=\"url(#clip762)\" style=\"stroke:#000000; stroke-width:2; stroke-opacity:0.1; fill:none\" points=\"\n",
       "  278.297,1410.9 278.297,47.2441 \n",
       "  \"/>\n",
       "<polyline clip-path=\"url(#clip762)\" style=\"stroke:#000000; stroke-width:2; stroke-opacity:0.1; fill:none\" points=\"\n",
       "  620.531,1410.9 620.531,47.2441 \n",
       "  \"/>\n",
       "<polyline clip-path=\"url(#clip762)\" style=\"stroke:#000000; stroke-width:2; stroke-opacity:0.1; fill:none\" points=\"\n",
       "  962.766,1410.9 962.766,47.2441 \n",
       "  \"/>\n",
       "<polyline clip-path=\"url(#clip762)\" style=\"stroke:#000000; stroke-width:2; stroke-opacity:0.1; fill:none\" points=\"\n",
       "  1305,1410.9 1305,47.2441 \n",
       "  \"/>\n",
       "<polyline clip-path=\"url(#clip762)\" style=\"stroke:#000000; stroke-width:2; stroke-opacity:0.1; fill:none\" points=\"\n",
       "  1647.23,1410.9 1647.23,47.2441 \n",
       "  \"/>\n",
       "<polyline clip-path=\"url(#clip762)\" style=\"stroke:#000000; stroke-width:2; stroke-opacity:0.1; fill:none\" points=\"\n",
       "  1989.47,1410.9 1989.47,47.2441 \n",
       "  \"/>\n",
       "<polyline clip-path=\"url(#clip762)\" style=\"stroke:#000000; stroke-width:2; stroke-opacity:0.1; fill:none\" points=\"\n",
       "  224.866,1229.36 2112.76,1229.36 \n",
       "  \"/>\n",
       "<polyline clip-path=\"url(#clip762)\" style=\"stroke:#000000; stroke-width:2; stroke-opacity:0.1; fill:none\" points=\"\n",
       "  224.866,943.481 2112.76,943.481 \n",
       "  \"/>\n",
       "<polyline clip-path=\"url(#clip762)\" style=\"stroke:#000000; stroke-width:2; stroke-opacity:0.1; fill:none\" points=\"\n",
       "  224.866,657.6 2112.76,657.6 \n",
       "  \"/>\n",
       "<polyline clip-path=\"url(#clip762)\" style=\"stroke:#000000; stroke-width:2; stroke-opacity:0.1; fill:none\" points=\"\n",
       "  224.866,371.719 2112.76,371.719 \n",
       "  \"/>\n",
       "<polyline clip-path=\"url(#clip762)\" style=\"stroke:#000000; stroke-width:2; stroke-opacity:0.1; fill:none\" points=\"\n",
       "  224.866,85.838 2112.76,85.838 \n",
       "  \"/>\n",
       "<polyline clip-path=\"url(#clip760)\" style=\"stroke:#000000; stroke-width:4; stroke-opacity:1; fill:none\" points=\"\n",
       "  224.866,1410.9 2112.76,1410.9 \n",
       "  \"/>\n",
       "<polyline clip-path=\"url(#clip760)\" style=\"stroke:#000000; stroke-width:4; stroke-opacity:1; fill:none\" points=\"\n",
       "  224.866,1410.9 224.866,47.2441 \n",
       "  \"/>\n",
       "<polyline clip-path=\"url(#clip760)\" style=\"stroke:#000000; stroke-width:4; stroke-opacity:1; fill:none\" points=\"\n",
       "  278.297,1410.9 278.297,1394.53 \n",
       "  \"/>\n",
       "<polyline clip-path=\"url(#clip760)\" style=\"stroke:#000000; stroke-width:4; stroke-opacity:1; fill:none\" points=\"\n",
       "  620.531,1410.9 620.531,1394.53 \n",
       "  \"/>\n",
       "<polyline clip-path=\"url(#clip760)\" style=\"stroke:#000000; stroke-width:4; stroke-opacity:1; fill:none\" points=\"\n",
       "  962.766,1410.9 962.766,1394.53 \n",
       "  \"/>\n",
       "<polyline clip-path=\"url(#clip760)\" style=\"stroke:#000000; stroke-width:4; stroke-opacity:1; fill:none\" points=\"\n",
       "  1305,1410.9 1305,1394.53 \n",
       "  \"/>\n",
       "<polyline clip-path=\"url(#clip760)\" style=\"stroke:#000000; stroke-width:4; stroke-opacity:1; fill:none\" points=\"\n",
       "  1647.23,1410.9 1647.23,1394.53 \n",
       "  \"/>\n",
       "<polyline clip-path=\"url(#clip760)\" style=\"stroke:#000000; stroke-width:4; stroke-opacity:1; fill:none\" points=\"\n",
       "  1989.47,1410.9 1989.47,1394.53 \n",
       "  \"/>\n",
       "<polyline clip-path=\"url(#clip760)\" style=\"stroke:#000000; stroke-width:4; stroke-opacity:1; fill:none\" points=\"\n",
       "  224.866,1229.36 247.521,1229.36 \n",
       "  \"/>\n",
       "<polyline clip-path=\"url(#clip760)\" style=\"stroke:#000000; stroke-width:4; stroke-opacity:1; fill:none\" points=\"\n",
       "  224.866,943.481 247.521,943.481 \n",
       "  \"/>\n",
       "<polyline clip-path=\"url(#clip760)\" style=\"stroke:#000000; stroke-width:4; stroke-opacity:1; fill:none\" points=\"\n",
       "  224.866,657.6 247.521,657.6 \n",
       "  \"/>\n",
       "<polyline clip-path=\"url(#clip760)\" style=\"stroke:#000000; stroke-width:4; stroke-opacity:1; fill:none\" points=\"\n",
       "  224.866,371.719 247.521,371.719 \n",
       "  \"/>\n",
       "<polyline clip-path=\"url(#clip760)\" style=\"stroke:#000000; stroke-width:4; stroke-opacity:1; fill:none\" points=\"\n",
       "  224.866,85.838 247.521,85.838 \n",
       "  \"/>\n",
       "<path clip-path=\"url(#clip760)\" d=\"M 0 0 M231.794 1481.97 L239.433 1481.97 L239.433 1455.6 L231.123 1457.27 L231.123 1453.01 L239.387 1451.34 L244.063 1451.34 L244.063 1481.97 L251.701 1481.97 L251.701 1485.9 L231.794 1485.9 L231.794 1481.97 Z\" fill=\"#000000\" fill-rule=\"evenodd\" fill-opacity=\"1\" /><path clip-path=\"url(#clip760)\" d=\"M 0 0 M266.771 1454.42 Q263.16 1454.42 261.331 1457.99 Q259.525 1461.53 259.525 1468.66 Q259.525 1475.77 261.331 1479.33 Q263.16 1482.87 266.771 1482.87 Q270.405 1482.87 272.211 1479.33 Q274.039 1475.77 274.039 1468.66 Q274.039 1461.53 272.211 1457.99 Q270.405 1454.42 266.771 1454.42 M266.771 1450.72 Q272.581 1450.72 275.637 1455.33 Q278.715 1459.91 278.715 1468.66 Q278.715 1477.39 275.637 1481.99 Q272.581 1486.58 266.771 1486.58 Q260.961 1486.58 257.882 1481.99 Q254.826 1477.39 254.826 1468.66 Q254.826 1459.91 257.882 1455.33 Q260.961 1450.72 266.771 1450.72 Z\" fill=\"#000000\" fill-rule=\"evenodd\" fill-opacity=\"1\" /><path clip-path=\"url(#clip760)\" d=\"M 0 0 M279.261 1455.3 L285.467 1455.3 L285.467 1433.87 L278.715 1435.23 L278.715 1431.77 L285.43 1430.41 L289.229 1430.41 L289.229 1455.3 L295.435 1455.3 L295.435 1458.49 L279.261 1458.49 L279.261 1455.3 Z\" fill=\"#000000\" fill-rule=\"evenodd\" fill-opacity=\"1\" /><path clip-path=\"url(#clip760)\" d=\"M 0 0 M299.554 1453.72 L303.523 1453.72 L303.523 1458.49 L299.554 1458.49 L299.554 1453.72 Z\" fill=\"#000000\" fill-rule=\"evenodd\" fill-opacity=\"1\" /><path clip-path=\"url(#clip760)\" d=\"M 0 0 M315.766 1432.91 Q312.832 1432.91 311.347 1435.81 Q309.88 1438.69 309.88 1444.48 Q309.88 1450.26 311.347 1453.15 Q312.832 1456.03 315.766 1456.03 Q318.719 1456.03 320.186 1453.15 Q321.672 1450.26 321.672 1444.48 Q321.672 1438.69 320.186 1435.81 Q318.719 1432.91 315.766 1432.91 M315.766 1429.91 Q320.487 1429.91 322.97 1433.65 Q325.471 1437.37 325.471 1444.48 Q325.471 1451.57 322.97 1455.31 Q320.487 1459.04 315.766 1459.04 Q311.046 1459.04 308.544 1455.31 Q306.062 1451.57 306.062 1444.48 Q306.062 1437.37 308.544 1433.65 Q311.046 1429.91 315.766 1429.91 Z\" fill=\"#000000\" fill-rule=\"evenodd\" fill-opacity=\"1\" /><path clip-path=\"url(#clip760)\" d=\"M 0 0 M574.433 1481.97 L582.072 1481.97 L582.072 1455.6 L573.761 1457.27 L573.761 1453.01 L582.025 1451.34 L586.701 1451.34 L586.701 1481.97 L594.34 1481.97 L594.34 1485.9 L574.433 1485.9 L574.433 1481.97 Z\" fill=\"#000000\" fill-rule=\"evenodd\" fill-opacity=\"1\" /><path clip-path=\"url(#clip760)\" d=\"M 0 0 M609.409 1454.42 Q605.798 1454.42 603.97 1457.99 Q602.164 1461.53 602.164 1468.66 Q602.164 1475.77 603.97 1479.33 Q605.798 1482.87 609.409 1482.87 Q613.044 1482.87 614.849 1479.33 Q616.678 1475.77 616.678 1468.66 Q616.678 1461.53 614.849 1457.99 Q613.044 1454.42 609.409 1454.42 M609.409 1450.72 Q615.22 1450.72 618.275 1455.33 Q621.354 1459.91 621.354 1468.66 Q621.354 1477.39 618.275 1481.99 Q615.22 1486.58 609.409 1486.58 Q603.599 1486.58 600.521 1481.99 Q597.465 1477.39 597.465 1468.66 Q597.465 1459.91 600.521 1455.33 Q603.599 1450.72 609.409 1450.72 Z\" fill=\"#000000\" fill-rule=\"evenodd\" fill-opacity=\"1\" /><path clip-path=\"url(#clip760)\" d=\"M 0 0 M621.899 1455.3 L628.106 1455.3 L628.106 1433.87 L621.354 1435.23 L621.354 1431.77 L628.068 1430.41 L631.867 1430.41 L631.867 1455.3 L638.074 1455.3 L638.074 1458.49 L621.899 1458.49 L621.899 1455.3 Z\" fill=\"#000000\" fill-rule=\"evenodd\" fill-opacity=\"1\" /><path clip-path=\"url(#clip760)\" d=\"M 0 0 M642.193 1453.72 L646.161 1453.72 L646.161 1458.49 L642.193 1458.49 L642.193 1453.72 Z\" fill=\"#000000\" fill-rule=\"evenodd\" fill-opacity=\"1\" /><path clip-path=\"url(#clip760)\" d=\"M 0 0 M650.318 1430.41 L665.232 1430.41 L665.232 1433.61 L653.797 1433.61 L653.797 1440.49 Q654.625 1440.21 655.452 1440.08 Q656.28 1439.93 657.107 1439.93 Q661.809 1439.93 664.555 1442.51 Q667.301 1445.08 667.301 1449.48 Q667.301 1454.02 664.48 1456.54 Q661.659 1459.04 656.524 1459.04 Q654.756 1459.04 652.913 1458.74 Q651.089 1458.44 649.133 1457.84 L649.133 1454.02 Q650.826 1454.94 652.631 1455.39 Q654.437 1455.84 656.449 1455.84 Q659.703 1455.84 661.602 1454.13 Q663.502 1452.42 663.502 1449.48 Q663.502 1446.55 661.602 1444.84 Q659.703 1443.13 656.449 1443.13 Q654.926 1443.13 653.402 1443.47 Q651.898 1443.8 650.318 1444.52 L650.318 1430.41 Z\" fill=\"#000000\" fill-rule=\"evenodd\" fill-opacity=\"1\" /><path clip-path=\"url(#clip760)\" d=\"M 0 0 M915.708 1481.97 L923.347 1481.97 L923.347 1455.6 L915.036 1457.27 L915.036 1453.01 L923.3 1451.34 L927.976 1451.34 L927.976 1481.97 L935.615 1481.97 L935.615 1485.9 L915.708 1485.9 L915.708 1481.97 Z\" fill=\"#000000\" fill-rule=\"evenodd\" fill-opacity=\"1\" /><path clip-path=\"url(#clip760)\" d=\"M 0 0 M950.684 1454.42 Q947.073 1454.42 945.245 1457.99 Q943.439 1461.53 943.439 1468.66 Q943.439 1475.77 945.245 1479.33 Q947.073 1482.87 950.684 1482.87 Q954.319 1482.87 956.124 1479.33 Q957.953 1475.77 957.953 1468.66 Q957.953 1461.53 956.124 1457.99 Q954.319 1454.42 950.684 1454.42 M950.684 1450.72 Q956.495 1450.72 959.55 1455.33 Q962.629 1459.91 962.629 1468.66 Q962.629 1477.39 959.55 1481.99 Q956.495 1486.58 950.684 1486.58 Q944.874 1486.58 941.796 1481.99 Q938.74 1477.39 938.74 1468.66 Q938.74 1459.91 941.796 1455.33 Q944.874 1450.72 950.684 1450.72 Z\" fill=\"#000000\" fill-rule=\"evenodd\" fill-opacity=\"1\" /><path clip-path=\"url(#clip760)\" d=\"M 0 0 M967.199 1455.3 L980.459 1455.3 L980.459 1458.49 L962.629 1458.49 L962.629 1455.3 Q964.792 1453.06 968.516 1449.3 Q972.258 1445.52 973.218 1444.43 Q975.042 1442.38 975.757 1440.96 Q976.49 1439.54 976.49 1438.16 Q976.49 1435.92 974.91 1434.51 Q973.349 1433.1 970.829 1433.1 Q969.042 1433.1 967.049 1433.72 Q965.074 1434.34 962.817 1435.6 L962.817 1431.77 Q965.111 1430.85 967.105 1430.38 Q969.099 1429.91 970.754 1429.91 Q975.117 1429.91 977.713 1432.09 Q980.308 1434.27 980.308 1437.92 Q980.308 1439.65 979.65 1441.21 Q979.01 1442.75 977.299 1444.86 Q976.829 1445.4 974.308 1448.02 Q971.788 1450.61 967.199 1455.3 Z\" fill=\"#000000\" fill-rule=\"evenodd\" fill-opacity=\"1\" /><path clip-path=\"url(#clip760)\" d=\"M 0 0 M984.577 1453.72 L988.546 1453.72 L988.546 1458.49 L984.577 1458.49 L984.577 1453.72 Z\" fill=\"#000000\" fill-rule=\"evenodd\" fill-opacity=\"1\" /><path clip-path=\"url(#clip760)\" d=\"M 0 0 M1000.79 1432.91 Q997.856 1432.91 996.37 1435.81 Q994.903 1438.69 994.903 1444.48 Q994.903 1450.26 996.37 1453.15 Q997.856 1456.03 1000.79 1456.03 Q1003.74 1456.03 1005.21 1453.15 Q1006.7 1450.26 1006.7 1444.48 Q1006.7 1438.69 1005.21 1435.81 Q1003.74 1432.91 1000.79 1432.91 M1000.79 1429.91 Q1005.51 1429.91 1007.99 1433.65 Q1010.49 1437.37 1010.49 1444.48 Q1010.49 1451.57 1007.99 1455.31 Q1005.51 1459.04 1000.79 1459.04 Q996.069 1459.04 993.568 1455.31 Q991.085 1451.57 991.085 1444.48 Q991.085 1437.37 993.568 1433.65 Q996.069 1429.91 1000.79 1429.91 Z\" fill=\"#000000\" fill-rule=\"evenodd\" fill-opacity=\"1\" /><path clip-path=\"url(#clip760)\" d=\"M 0 0 M1258.35 1481.97 L1265.99 1481.97 L1265.99 1455.6 L1257.68 1457.27 L1257.68 1453.01 L1265.94 1451.34 L1270.61 1451.34 L1270.61 1481.97 L1278.25 1481.97 L1278.25 1485.9 L1258.35 1485.9 L1258.35 1481.97 Z\" fill=\"#000000\" fill-rule=\"evenodd\" fill-opacity=\"1\" /><path clip-path=\"url(#clip760)\" d=\"M 0 0 M1293.32 1454.42 Q1289.71 1454.42 1287.88 1457.99 Q1286.08 1461.53 1286.08 1468.66 Q1286.08 1475.77 1287.88 1479.33 Q1289.71 1482.87 1293.32 1482.87 Q1296.96 1482.87 1298.76 1479.33 Q1300.59 1475.77 1300.59 1468.66 Q1300.59 1461.53 1298.76 1457.99 Q1296.96 1454.42 1293.32 1454.42 M1293.32 1450.72 Q1299.13 1450.72 1302.19 1455.33 Q1305.27 1459.91 1305.27 1468.66 Q1305.27 1477.39 1302.19 1481.99 Q1299.13 1486.58 1293.32 1486.58 Q1287.51 1486.58 1284.43 1481.99 Q1281.38 1477.39 1281.38 1468.66 Q1281.38 1459.91 1284.43 1455.33 Q1287.51 1450.72 1293.32 1450.72 Z\" fill=\"#000000\" fill-rule=\"evenodd\" fill-opacity=\"1\" /><path clip-path=\"url(#clip760)\" d=\"M 0 0 M1309.84 1455.3 L1323.1 1455.3 L1323.1 1458.49 L1305.27 1458.49 L1305.27 1455.3 Q1307.43 1453.06 1311.15 1449.3 Q1314.9 1445.52 1315.86 1444.43 Q1317.68 1442.38 1318.4 1440.96 Q1319.13 1439.54 1319.13 1438.16 Q1319.13 1435.92 1317.55 1434.51 Q1315.99 1433.1 1313.47 1433.1 Q1311.68 1433.1 1309.69 1433.72 Q1307.71 1434.34 1305.46 1435.6 L1305.46 1431.77 Q1307.75 1430.85 1309.74 1430.38 Q1311.74 1429.91 1313.39 1429.91 Q1317.76 1429.91 1320.35 1432.09 Q1322.95 1434.27 1322.95 1437.92 Q1322.95 1439.65 1322.29 1441.21 Q1321.65 1442.75 1319.94 1444.86 Q1319.47 1445.4 1316.95 1448.02 Q1314.43 1450.61 1309.84 1455.3 Z\" fill=\"#000000\" fill-rule=\"evenodd\" fill-opacity=\"1\" /><path clip-path=\"url(#clip760)\" d=\"M 0 0 M1327.22 1453.72 L1331.18 1453.72 L1331.18 1458.49 L1327.22 1458.49 L1327.22 1453.72 Z\" fill=\"#000000\" fill-rule=\"evenodd\" fill-opacity=\"1\" /><path clip-path=\"url(#clip760)\" d=\"M 0 0 M1335.34 1430.41 L1350.26 1430.41 L1350.26 1433.61 L1338.82 1433.61 L1338.82 1440.49 Q1339.65 1440.21 1340.48 1440.08 Q1341.3 1439.93 1342.13 1439.93 Q1346.83 1439.93 1349.58 1442.51 Q1352.32 1445.08 1352.32 1449.48 Q1352.32 1454.02 1349.5 1456.54 Q1346.68 1459.04 1341.55 1459.04 Q1339.78 1459.04 1337.94 1458.74 Q1336.11 1458.44 1334.16 1457.84 L1334.16 1454.02 Q1335.85 1454.94 1337.65 1455.39 Q1339.46 1455.84 1341.47 1455.84 Q1344.73 1455.84 1346.63 1454.13 Q1348.53 1452.42 1348.53 1449.48 Q1348.53 1446.55 1346.63 1444.84 Q1344.73 1443.13 1341.47 1443.13 Q1339.95 1443.13 1338.43 1443.47 Q1336.92 1443.8 1335.34 1444.52 L1335.34 1430.41 Z\" fill=\"#000000\" fill-rule=\"evenodd\" fill-opacity=\"1\" /><path clip-path=\"url(#clip760)\" d=\"M 0 0 M1599.85 1481.97 L1607.49 1481.97 L1607.49 1455.6 L1599.18 1457.27 L1599.18 1453.01 L1607.44 1451.34 L1612.12 1451.34 L1612.12 1481.97 L1619.75 1481.97 L1619.75 1485.9 L1599.85 1485.9 L1599.85 1481.97 Z\" fill=\"#000000\" fill-rule=\"evenodd\" fill-opacity=\"1\" /><path clip-path=\"url(#clip760)\" d=\"M 0 0 M1634.82 1454.42 Q1631.21 1454.42 1629.38 1457.99 Q1627.58 1461.53 1627.58 1468.66 Q1627.58 1475.77 1629.38 1479.33 Q1631.21 1482.87 1634.82 1482.87 Q1638.46 1482.87 1640.26 1479.33 Q1642.09 1475.77 1642.09 1468.66 Q1642.09 1461.53 1640.26 1457.99 Q1638.46 1454.42 1634.82 1454.42 M1634.82 1450.72 Q1640.63 1450.72 1643.69 1455.33 Q1646.77 1459.91 1646.77 1468.66 Q1646.77 1477.39 1643.69 1481.99 Q1640.63 1486.58 1634.82 1486.58 Q1629.01 1486.58 1625.93 1481.99 Q1622.88 1477.39 1622.88 1468.66 Q1622.88 1459.91 1625.93 1455.33 Q1629.01 1450.72 1634.82 1450.72 Z\" fill=\"#000000\" fill-rule=\"evenodd\" fill-opacity=\"1\" /><path clip-path=\"url(#clip760)\" d=\"M 0 0 M1659.46 1443.35 Q1662.19 1443.94 1663.71 1445.78 Q1665.26 1447.62 1665.26 1450.33 Q1665.26 1454.49 1662.4 1456.76 Q1659.54 1459.04 1654.27 1459.04 Q1652.5 1459.04 1650.62 1458.68 Q1648.76 1458.34 1646.77 1457.65 L1646.77 1453.98 Q1648.35 1454.9 1650.23 1455.37 Q1652.11 1455.84 1654.16 1455.84 Q1657.73 1455.84 1659.6 1454.43 Q1661.48 1453.02 1661.48 1450.33 Q1661.48 1447.85 1659.73 1446.46 Q1658 1445.05 1654.89 1445.05 L1651.62 1445.05 L1651.62 1441.92 L1655.04 1441.92 Q1657.85 1441.92 1659.33 1440.81 Q1660.82 1439.69 1660.82 1437.58 Q1660.82 1435.42 1659.28 1434.27 Q1657.75 1433.1 1654.89 1433.1 Q1653.33 1433.1 1651.55 1433.44 Q1649.76 1433.78 1647.61 1434.49 L1647.61 1431.11 Q1649.78 1430.51 1651.66 1430.21 Q1653.56 1429.91 1655.23 1429.91 Q1659.56 1429.91 1662.08 1431.88 Q1664.6 1433.84 1664.6 1437.18 Q1664.6 1439.52 1663.26 1441.13 Q1661.93 1442.73 1659.46 1443.35 Z\" fill=\"#000000\" fill-rule=\"evenodd\" fill-opacity=\"1\" /><path clip-path=\"url(#clip760)\" d=\"M 0 0 M1669.38 1453.72 L1673.34 1453.72 L1673.34 1458.49 L1669.38 1458.49 L1669.38 1453.72 Z\" fill=\"#000000\" fill-rule=\"evenodd\" fill-opacity=\"1\" /><path clip-path=\"url(#clip760)\" d=\"M 0 0 M1685.59 1432.91 Q1682.65 1432.91 1681.17 1435.81 Q1679.7 1438.69 1679.7 1444.48 Q1679.7 1450.26 1681.17 1453.15 Q1682.65 1456.03 1685.59 1456.03 Q1688.54 1456.03 1690.01 1453.15 Q1691.49 1450.26 1691.49 1444.48 Q1691.49 1438.69 1690.01 1435.81 Q1688.54 1432.91 1685.59 1432.91 M1685.59 1429.91 Q1690.31 1429.91 1692.79 1433.65 Q1695.29 1437.37 1695.29 1444.48 Q1695.29 1451.57 1692.79 1455.31 Q1690.31 1459.04 1685.59 1459.04 Q1680.87 1459.04 1678.37 1455.31 Q1675.88 1451.57 1675.88 1444.48 Q1675.88 1437.37 1678.37 1433.65 Q1680.87 1429.91 1685.59 1429.91 Z\" fill=\"#000000\" fill-rule=\"evenodd\" fill-opacity=\"1\" /><path clip-path=\"url(#clip760)\" d=\"M 0 0 M1942.49 1481.97 L1950.12 1481.97 L1950.12 1455.6 L1941.81 1457.27 L1941.81 1453.01 L1950.08 1451.34 L1954.75 1451.34 L1954.75 1481.97 L1962.39 1481.97 L1962.39 1485.9 L1942.49 1485.9 L1942.49 1481.97 Z\" fill=\"#000000\" fill-rule=\"evenodd\" fill-opacity=\"1\" /><path clip-path=\"url(#clip760)\" d=\"M 0 0 M1977.46 1454.42 Q1973.85 1454.42 1972.02 1457.99 Q1970.22 1461.53 1970.22 1468.66 Q1970.22 1475.77 1972.02 1479.33 Q1973.85 1482.87 1977.46 1482.87 Q1981.1 1482.87 1982.9 1479.33 Q1984.73 1475.77 1984.73 1468.66 Q1984.73 1461.53 1982.9 1457.99 Q1981.1 1454.42 1977.46 1454.42 M1977.46 1450.72 Q1983.27 1450.72 1986.33 1455.33 Q1989.41 1459.91 1989.41 1468.66 Q1989.41 1477.39 1986.33 1481.99 Q1983.27 1486.58 1977.46 1486.58 Q1971.65 1486.58 1968.57 1481.99 Q1965.52 1477.39 1965.52 1468.66 Q1965.52 1459.91 1968.57 1455.33 Q1971.65 1450.72 1977.46 1450.72 Z\" fill=\"#000000\" fill-rule=\"evenodd\" fill-opacity=\"1\" /><path clip-path=\"url(#clip760)\" d=\"M 0 0 M2002.1 1443.35 Q2004.83 1443.94 2006.35 1445.78 Q2007.89 1447.62 2007.89 1450.33 Q2007.89 1454.49 2005.04 1456.76 Q2002.18 1459.04 1996.91 1459.04 Q1995.14 1459.04 1993.26 1458.68 Q1991.4 1458.34 1989.41 1457.65 L1989.41 1453.98 Q1990.99 1454.9 1992.87 1455.37 Q1994.75 1455.84 1996.8 1455.84 Q2000.37 1455.84 2002.23 1454.43 Q2004.11 1453.02 2004.11 1450.33 Q2004.11 1447.85 2002.37 1446.46 Q2000.63 1445.05 1997.53 1445.05 L1994.26 1445.05 L1994.26 1441.92 L1997.68 1441.92 Q2000.48 1441.92 2001.97 1440.81 Q2003.46 1439.69 2003.46 1437.58 Q2003.46 1435.42 2001.91 1434.27 Q2000.39 1433.1 1997.53 1433.1 Q1995.97 1433.1 1994.18 1433.44 Q1992.4 1433.78 1990.25 1434.49 L1990.25 1431.11 Q1992.42 1430.51 1994.3 1430.21 Q1996.2 1429.91 1997.87 1429.91 Q2002.2 1429.91 2004.72 1431.88 Q2007.24 1433.84 2007.24 1437.18 Q2007.24 1439.52 2005.9 1441.13 Q2004.57 1442.73 2002.1 1443.35 Z\" fill=\"#000000\" fill-rule=\"evenodd\" fill-opacity=\"1\" /><path clip-path=\"url(#clip760)\" d=\"M 0 0 M2012.01 1453.72 L2015.98 1453.72 L2015.98 1458.49 L2012.01 1458.49 L2012.01 1453.72 Z\" fill=\"#000000\" fill-rule=\"evenodd\" fill-opacity=\"1\" /><path clip-path=\"url(#clip760)\" d=\"M 0 0 M2020.14 1430.41 L2035.05 1430.41 L2035.05 1433.61 L2023.62 1433.61 L2023.62 1440.49 Q2024.45 1440.21 2025.27 1440.08 Q2026.1 1439.93 2026.93 1439.93 Q2031.63 1439.93 2034.38 1442.51 Q2037.12 1445.08 2037.12 1449.48 Q2037.12 1454.02 2034.3 1456.54 Q2031.48 1459.04 2026.35 1459.04 Q2024.58 1459.04 2022.73 1458.74 Q2020.91 1458.44 2018.95 1457.84 L2018.95 1454.02 Q2020.65 1454.94 2022.45 1455.39 Q2024.26 1455.84 2026.27 1455.84 Q2029.52 1455.84 2031.42 1454.13 Q2033.32 1452.42 2033.32 1449.48 Q2033.32 1446.55 2031.42 1444.84 Q2029.52 1443.13 2026.27 1443.13 Q2024.75 1443.13 2023.22 1443.47 Q2021.72 1443.8 2020.14 1444.52 L2020.14 1430.41 Z\" fill=\"#000000\" fill-rule=\"evenodd\" fill-opacity=\"1\" /><path clip-path=\"url(#clip760)\" d=\"M 0 0 M157.533 1242.71 L173.852 1242.71 L173.852 1246.64 L151.908 1246.64 L151.908 1242.71 Q154.57 1239.95 159.153 1235.32 Q163.76 1230.67 164.941 1229.33 Q167.186 1226.8 168.065 1225.07 Q168.968 1223.31 168.968 1221.62 Q168.968 1218.86 167.024 1217.13 Q165.103 1215.39 162.001 1215.39 Q159.802 1215.39 157.348 1216.16 Q154.917 1216.92 152.14 1218.47 L152.14 1213.75 Q154.964 1212.61 157.417 1212.04 Q159.871 1211.46 161.908 1211.46 Q167.278 1211.46 170.473 1214.14 Q173.667 1216.83 173.667 1221.32 Q173.667 1223.45 172.857 1225.37 Q172.07 1227.27 169.964 1229.86 Q169.385 1230.53 166.283 1233.75 Q163.181 1236.94 157.533 1242.71 Z\" fill=\"#000000\" fill-rule=\"evenodd\" fill-opacity=\"1\" /><path clip-path=\"url(#clip760)\" d=\"M 0 0 M188.922 1215.16 Q185.311 1215.16 183.482 1218.73 Q181.677 1222.27 181.677 1229.4 Q181.677 1236.5 183.482 1240.07 Q185.311 1243.61 188.922 1243.61 Q192.556 1243.61 194.362 1240.07 Q196.19 1236.5 196.19 1229.4 Q196.19 1222.27 194.362 1218.73 Q192.556 1215.16 188.922 1215.16 M188.922 1211.46 Q194.732 1211.46 197.788 1216.06 Q200.866 1220.65 200.866 1229.4 Q200.866 1238.12 197.788 1242.73 Q194.732 1247.31 188.922 1247.31 Q183.112 1247.31 180.033 1242.73 Q176.977 1238.12 176.977 1229.4 Q176.977 1220.65 180.033 1216.06 Q183.112 1211.46 188.922 1211.46 Z\" fill=\"#000000\" fill-rule=\"evenodd\" fill-opacity=\"1\" /><path clip-path=\"url(#clip760)\" d=\"M 0 0 M164.269 930.275 L152.464 948.724 L164.269 948.724 L164.269 930.275 M163.042 926.201 L168.922 926.201 L168.922 948.724 L173.852 948.724 L173.852 952.613 L168.922 952.613 L168.922 960.761 L164.269 960.761 L164.269 952.613 L148.667 952.613 L148.667 948.099 L163.042 926.201 Z\" fill=\"#000000\" fill-rule=\"evenodd\" fill-opacity=\"1\" /><path clip-path=\"url(#clip760)\" d=\"M 0 0 M188.922 929.28 Q185.311 929.28 183.482 932.845 Q181.677 936.386 181.677 943.516 Q181.677 950.622 183.482 954.187 Q185.311 957.729 188.922 957.729 Q192.556 957.729 194.362 954.187 Q196.19 950.622 196.19 943.516 Q196.19 936.386 194.362 932.845 Q192.556 929.28 188.922 929.28 M188.922 925.576 Q194.732 925.576 197.788 930.183 Q200.866 934.766 200.866 943.516 Q200.866 952.243 197.788 956.849 Q194.732 961.432 188.922 961.432 Q183.112 961.432 180.033 956.849 Q176.977 952.243 176.977 943.516 Q176.977 934.766 180.033 930.183 Q183.112 925.576 188.922 925.576 Z\" fill=\"#000000\" fill-rule=\"evenodd\" fill-opacity=\"1\" /><path clip-path=\"url(#clip760)\" d=\"M 0 0 M162.325 655.737 Q159.177 655.737 157.325 657.889 Q155.496 660.042 155.496 663.792 Q155.496 667.519 157.325 669.695 Q159.177 671.848 162.325 671.848 Q165.473 671.848 167.302 669.695 Q169.153 667.519 169.153 663.792 Q169.153 660.042 167.302 657.889 Q165.473 655.737 162.325 655.737 M171.607 641.084 L171.607 645.343 Q169.848 644.51 168.042 644.07 Q166.26 643.63 164.501 643.63 Q159.871 643.63 157.417 646.755 Q154.987 649.88 154.64 656.2 Q156.005 654.186 158.066 653.121 Q160.126 652.033 162.603 652.033 Q167.811 652.033 170.82 655.204 Q173.852 658.352 173.852 663.792 Q173.852 669.116 170.704 672.334 Q167.556 675.551 162.325 675.551 Q156.329 675.551 153.158 670.968 Q149.987 666.362 149.987 657.635 Q149.987 649.44 153.876 644.579 Q157.765 639.695 164.316 639.695 Q166.075 639.695 167.857 640.042 Q169.663 640.39 171.607 641.084 Z\" fill=\"#000000\" fill-rule=\"evenodd\" fill-opacity=\"1\" /><path clip-path=\"url(#clip760)\" d=\"M 0 0 M188.922 643.399 Q185.311 643.399 183.482 646.964 Q181.677 650.505 181.677 657.635 Q181.677 664.741 183.482 668.306 Q185.311 671.848 188.922 671.848 Q192.556 671.848 194.362 668.306 Q196.19 664.741 196.19 657.635 Q196.19 650.505 194.362 646.964 Q192.556 643.399 188.922 643.399 M188.922 639.695 Q194.732 639.695 197.788 644.302 Q200.866 648.885 200.866 657.635 Q200.866 666.362 197.788 670.968 Q194.732 675.551 188.922 675.551 Q183.112 675.551 180.033 670.968 Q176.977 666.362 176.977 657.635 Q176.977 648.885 180.033 644.302 Q183.112 639.695 188.922 639.695 Z\" fill=\"#000000\" fill-rule=\"evenodd\" fill-opacity=\"1\" /><path clip-path=\"url(#clip760)\" d=\"M 0 0 M162.001 372.587 Q158.667 372.587 156.746 374.37 Q154.848 376.152 154.848 379.277 Q154.848 382.402 156.746 384.184 Q158.667 385.967 162.001 385.967 Q165.334 385.967 167.255 384.184 Q169.177 382.379 169.177 379.277 Q169.177 376.152 167.255 374.37 Q165.357 372.587 162.001 372.587 M157.325 370.596 Q154.316 369.856 152.626 367.795 Q150.959 365.735 150.959 362.772 Q150.959 358.629 153.899 356.221 Q156.862 353.814 162.001 353.814 Q167.163 353.814 170.103 356.221 Q173.042 358.629 173.042 362.772 Q173.042 365.735 171.353 367.795 Q169.686 369.856 166.7 370.596 Q170.079 371.383 171.954 373.675 Q173.852 375.967 173.852 379.277 Q173.852 384.3 170.774 386.985 Q167.718 389.67 162.001 389.67 Q156.283 389.67 153.204 386.985 Q150.149 384.3 150.149 379.277 Q150.149 375.967 152.047 373.675 Q153.945 371.383 157.325 370.596 M155.612 363.212 Q155.612 365.897 157.279 367.402 Q158.968 368.907 162.001 368.907 Q165.01 368.907 166.7 367.402 Q168.413 365.897 168.413 363.212 Q168.413 360.527 166.7 359.022 Q165.01 357.518 162.001 357.518 Q158.968 357.518 157.279 359.022 Q155.612 360.527 155.612 363.212 Z\" fill=\"#000000\" fill-rule=\"evenodd\" fill-opacity=\"1\" /><path clip-path=\"url(#clip760)\" d=\"M 0 0 M188.922 357.518 Q185.311 357.518 183.482 361.083 Q181.677 364.624 181.677 371.754 Q181.677 378.86 183.482 382.425 Q185.311 385.967 188.922 385.967 Q192.556 385.967 194.362 382.425 Q196.19 378.86 196.19 371.754 Q196.19 364.624 194.362 361.083 Q192.556 357.518 188.922 357.518 M188.922 353.814 Q194.732 353.814 197.788 358.421 Q200.866 363.004 200.866 371.754 Q200.866 380.481 197.788 385.087 Q194.732 389.67 188.922 389.67 Q183.112 389.67 180.033 385.087 Q176.977 380.481 176.977 371.754 Q176.977 363.004 180.033 358.421 Q183.112 353.814 188.922 353.814 Z\" fill=\"#000000\" fill-rule=\"evenodd\" fill-opacity=\"1\" /><path clip-path=\"url(#clip760)\" d=\"M 0 0 M126.931 99.1829 L134.57 99.1829 L134.57 72.8173 L126.26 74.4839 L126.26 70.2247 L134.524 68.558 L139.2 68.558 L139.2 99.1829 L146.839 99.1829 L146.839 103.118 L126.931 103.118 L126.931 99.1829 Z\" fill=\"#000000\" fill-rule=\"evenodd\" fill-opacity=\"1\" /><path clip-path=\"url(#clip760)\" d=\"M 0 0 M161.908 71.6367 Q158.297 71.6367 156.468 75.2015 Q154.663 78.7432 154.663 85.8728 Q154.663 92.9792 156.468 96.544 Q158.297 100.086 161.908 100.086 Q165.542 100.086 167.348 96.544 Q169.177 92.9792 169.177 85.8728 Q169.177 78.7432 167.348 75.2015 Q165.542 71.6367 161.908 71.6367 M161.908 67.933 Q167.718 67.933 170.774 72.5395 Q173.852 77.1228 173.852 85.8728 Q173.852 94.5996 170.774 99.206 Q167.718 103.789 161.908 103.789 Q156.098 103.789 153.019 99.206 Q149.964 94.5996 149.964 85.8728 Q149.964 77.1228 153.019 72.5395 Q156.098 67.933 161.908 67.933 Z\" fill=\"#000000\" fill-rule=\"evenodd\" fill-opacity=\"1\" /><path clip-path=\"url(#clip760)\" d=\"M 0 0 M188.922 71.6367 Q185.311 71.6367 183.482 75.2015 Q181.677 78.7432 181.677 85.8728 Q181.677 92.9792 183.482 96.544 Q185.311 100.086 188.922 100.086 Q192.556 100.086 194.362 96.544 Q196.19 92.9792 196.19 85.8728 Q196.19 78.7432 194.362 75.2015 Q192.556 71.6367 188.922 71.6367 M188.922 67.933 Q194.732 67.933 197.788 72.5395 Q200.866 77.1228 200.866 85.8728 Q200.866 94.5996 197.788 99.206 Q194.732 103.789 188.922 103.789 Q183.112 103.789 180.033 99.206 Q176.977 94.5996 176.977 85.8728 Q176.977 77.1228 180.033 72.5395 Q183.112 67.933 188.922 67.933 Z\" fill=\"#000000\" fill-rule=\"evenodd\" fill-opacity=\"1\" /><path clip-path=\"url(#clip760)\" d=\"M 0 0 M1099.09 1542.9 L1099.09 1545.76 L1072.16 1545.76 Q1072.55 1551.81 1075.79 1554.99 Q1079.07 1558.14 1084.9 1558.14 Q1088.27 1558.14 1091.42 1557.32 Q1094.6 1556.49 1097.72 1554.83 L1097.72 1560.37 Q1094.57 1561.71 1091.26 1562.41 Q1087.95 1563.11 1084.55 1563.11 Q1076.01 1563.11 1071.02 1558.14 Q1066.05 1553.18 1066.05 1544.71 Q1066.05 1535.96 1070.76 1530.83 Q1075.51 1525.68 1083.53 1525.68 Q1090.72 1525.68 1094.89 1530.33 Q1099.09 1534.94 1099.09 1542.9 M1093.23 1541.18 Q1093.17 1536.37 1090.53 1533.51 Q1087.92 1530.64 1083.59 1530.64 Q1078.69 1530.64 1075.73 1533.41 Q1072.8 1536.18 1072.35 1541.21 L1093.23 1541.18 Z\" fill=\"#000000\" fill-rule=\"evenodd\" fill-opacity=\"1\" /><path clip-path=\"url(#clip760)\" d=\"M 0 0 M1110.9 1556.84 L1110.9 1575.74 L1105.01 1575.74 L1105.01 1526.54 L1110.9 1526.54 L1110.9 1531.95 Q1112.75 1528.77 1115.55 1527.24 Q1118.38 1525.68 1122.29 1525.68 Q1128.79 1525.68 1132.83 1530.83 Q1136.9 1535.99 1136.9 1544.39 Q1136.9 1552.8 1132.83 1557.95 Q1128.79 1563.11 1122.29 1563.11 Q1118.38 1563.11 1115.55 1561.58 Q1112.75 1560.02 1110.9 1556.84 M1130.82 1544.39 Q1130.82 1537.93 1128.15 1534.27 Q1125.51 1530.58 1120.86 1530.58 Q1116.21 1530.58 1113.54 1534.27 Q1110.9 1537.93 1110.9 1544.39 Q1110.9 1550.85 1113.54 1554.55 Q1116.21 1558.21 1120.86 1558.21 Q1125.51 1558.21 1128.15 1554.55 Q1130.82 1550.85 1130.82 1544.39 Z\" fill=\"#000000\" fill-rule=\"evenodd\" fill-opacity=\"1\" /><path clip-path=\"url(#clip760)\" d=\"M 0 0 M1156.86 1530.64 Q1152.15 1530.64 1149.41 1534.34 Q1146.67 1538 1146.67 1544.39 Q1146.67 1550.79 1149.38 1554.48 Q1152.12 1558.14 1156.86 1558.14 Q1161.54 1558.14 1164.28 1554.45 Q1167.01 1550.76 1167.01 1544.39 Q1167.01 1538.06 1164.28 1534.37 Q1161.54 1530.64 1156.86 1530.64 M1156.86 1525.68 Q1164.5 1525.68 1168.86 1530.64 Q1173.22 1535.61 1173.22 1544.39 Q1173.22 1553.15 1168.86 1558.14 Q1164.5 1563.11 1156.86 1563.11 Q1149.19 1563.11 1144.83 1558.14 Q1140.5 1553.15 1140.5 1544.39 Q1140.5 1535.61 1144.83 1530.64 Q1149.19 1525.68 1156.86 1525.68 Z\" fill=\"#000000\" fill-rule=\"evenodd\" fill-opacity=\"1\" /><path clip-path=\"url(#clip760)\" d=\"M 0 0 M1205.02 1527.91 L1205.02 1533.38 Q1202.53 1532.01 1200.02 1531.34 Q1197.54 1530.64 1194.99 1530.64 Q1189.29 1530.64 1186.14 1534.27 Q1182.99 1537.87 1182.99 1544.39 Q1182.99 1550.92 1186.14 1554.55 Q1189.29 1558.14 1194.99 1558.14 Q1197.54 1558.14 1200.02 1557.47 Q1202.53 1556.77 1205.02 1555.41 L1205.02 1560.82 Q1202.57 1561.96 1199.92 1562.54 Q1197.31 1563.11 1194.35 1563.11 Q1186.3 1563.11 1181.56 1558.05 Q1176.82 1552.99 1176.82 1544.39 Q1176.82 1535.67 1181.59 1530.68 Q1186.4 1525.68 1194.74 1525.68 Q1197.44 1525.68 1200.02 1526.25 Q1202.6 1526.79 1205.02 1527.91 Z\" fill=\"#000000\" fill-rule=\"evenodd\" fill-opacity=\"1\" /><path clip-path=\"url(#clip760)\" d=\"M 0 0 M1240.79 1540.67 L1240.79 1562.19 L1234.93 1562.19 L1234.93 1540.86 Q1234.93 1535.8 1232.96 1533.29 Q1230.99 1530.77 1227.04 1530.77 Q1222.3 1530.77 1219.56 1533.79 Q1216.82 1536.82 1216.82 1542.04 L1216.82 1562.19 L1210.94 1562.19 L1210.94 1512.66 L1216.82 1512.66 L1216.82 1532.08 Q1218.93 1528.86 1221.76 1527.27 Q1224.62 1525.68 1228.35 1525.68 Q1234.49 1525.68 1237.64 1529.5 Q1240.79 1533.29 1240.79 1540.67 Z\" fill=\"#000000\" fill-rule=\"evenodd\" fill-opacity=\"1\" /><path clip-path=\"url(#clip760)\" d=\"M 0 0 M1269.66 1527.59 L1269.66 1533.13 Q1267.18 1531.85 1264.5 1531.22 Q1261.83 1530.58 1258.97 1530.58 Q1254.6 1530.58 1252.41 1531.92 Q1250.24 1533.25 1250.24 1535.93 Q1250.24 1537.96 1251.8 1539.14 Q1253.36 1540.29 1258.07 1541.34 L1260.08 1541.78 Q1266.32 1543.12 1268.93 1545.57 Q1271.57 1547.99 1271.57 1552.35 Q1271.57 1557.32 1267.62 1560.21 Q1263.71 1563.11 1256.83 1563.11 Q1253.97 1563.11 1250.85 1562.54 Q1247.76 1561.99 1244.32 1560.88 L1244.32 1554.83 Q1247.57 1556.52 1250.72 1557.38 Q1253.87 1558.21 1256.96 1558.21 Q1261.1 1558.21 1263.33 1556.81 Q1265.55 1555.37 1265.55 1552.8 Q1265.55 1550.41 1263.93 1549.14 Q1262.34 1547.86 1256.9 1546.68 L1254.86 1546.21 Q1249.42 1545.06 1247 1542.71 Q1244.58 1540.32 1244.58 1536.18 Q1244.58 1531.15 1248.14 1528.42 Q1251.71 1525.68 1258.27 1525.68 Q1261.51 1525.68 1264.38 1526.16 Q1267.24 1526.63 1269.66 1527.59 Z\" fill=\"#000000\" fill-rule=\"evenodd\" fill-opacity=\"1\" /><path clip-path=\"url(#clip760)\" d=\"M 0 0 M70.212 837.813 Q63.7508 837.813 60.0905 840.486 Q56.3984 843.128 56.3984 847.775 Q56.3984 852.422 60.0905 855.095 Q63.7508 857.737 70.212 857.737 Q76.6732 857.737 80.3653 855.095 Q84.0256 852.422 84.0256 847.775 Q84.0256 843.128 80.3653 840.486 Q76.6732 837.813 70.212 837.813 M57.7671 857.737 Q54.5842 855.891 53.0564 853.09 Q51.4968 850.258 51.4968 846.343 Q51.4968 839.85 56.6531 835.807 Q61.8093 831.733 70.212 831.733 Q78.6147 831.733 83.771 835.807 Q88.9272 839.85 88.9272 846.343 Q88.9272 850.258 87.3994 853.09 Q85.8398 855.891 82.657 857.737 L88.0042 857.737 L88.0042 863.625 L38.479 863.625 L38.479 857.737 L57.7671 857.737 Z\" fill=\"#000000\" fill-rule=\"evenodd\" fill-opacity=\"1\" /><path clip-path=\"url(#clip760)\" d=\"M 0 0 M73.9359 826.195 L52.3562 826.195 L52.3562 820.339 L73.7131 820.339 Q78.7739 820.339 81.3202 818.365 Q83.8346 816.392 83.8346 812.445 Q83.8346 807.703 80.8109 804.966 Q77.7872 802.196 72.5673 802.196 L52.3562 802.196 L52.3562 796.34 L88.0042 796.34 L88.0042 802.196 L82.5296 802.196 Q85.7762 804.329 87.3676 807.162 Q88.9272 809.963 88.9272 813.687 Q88.9272 819.829 85.1078 823.012 Q81.2883 826.195 73.9359 826.195 M51.4968 811.459 L51.4968 811.459 Z\" fill=\"#000000\" fill-rule=\"evenodd\" fill-opacity=\"1\" /><path clip-path=\"url(#clip760)\" d=\"M 0 0 M52.3562 790.197 L52.3562 784.341 L88.0042 784.341 L88.0042 790.197 L52.3562 790.197 M38.479 790.197 L38.479 784.341 L45.895 784.341 L45.895 790.197 L38.479 790.197 Z\" fill=\"#000000\" fill-rule=\"evenodd\" fill-opacity=\"1\" /><path clip-path=\"url(#clip760)\" d=\"M 0 0 M38.479 778.198 L38.479 772.341 L88.0042 772.341 L88.0042 778.198 L38.479 778.198 Z\" fill=\"#000000\" fill-rule=\"evenodd\" fill-opacity=\"1\" /><path clip-path=\"url(#clip760)\" d=\"M 0 0 M57.7671 742.741 L38.479 742.741 L38.479 736.884 L88.0042 736.884 L88.0042 742.741 L82.657 742.741 Q85.8398 744.587 87.3994 747.42 Q88.9272 750.22 88.9272 754.167 Q88.9272 760.628 83.771 764.702 Q78.6147 768.745 70.212 768.745 Q61.8093 768.745 56.6531 764.702 Q51.4968 760.628 51.4968 754.167 Q51.4968 750.22 53.0564 747.42 Q54.5842 744.587 57.7671 742.741 M70.212 762.697 Q76.6732 762.697 80.3653 760.055 Q84.0256 757.382 84.0256 752.735 Q84.0256 748.088 80.3653 745.414 Q76.6732 742.741 70.212 742.741 Q63.7508 742.741 60.0905 745.414 Q56.3984 748.088 56.3984 752.735 Q56.3984 757.382 60.0905 760.055 Q63.7508 762.697 70.212 762.697 Z\" fill=\"#000000\" fill-rule=\"evenodd\" fill-opacity=\"1\" /><path clip-path=\"url(#clip760)\" d=\"M 0 0 M68.7161 700.25 L71.5806 700.25 L71.5806 727.177 Q77.6281 726.795 80.8109 723.548 Q83.9619 720.27 83.9619 714.445 Q83.9619 711.071 83.1344 707.92 Q82.3069 704.737 80.6518 701.618 L86.1899 701.618 Q87.5267 704.769 88.227 708.079 Q88.9272 711.39 88.9272 714.795 Q88.9272 723.325 83.9619 728.322 Q78.9967 733.288 70.5303 733.288 Q61.7774 733.288 56.6531 728.577 Q51.4968 723.835 51.4968 715.814 Q51.4968 708.621 56.1438 704.451 Q60.7589 700.25 68.7161 700.25 M66.9973 706.106 Q62.1912 706.17 59.3266 708.812 Q56.4621 711.421 56.4621 715.75 Q56.4621 720.652 59.2312 723.612 Q62.0002 726.54 67.0292 726.986 L66.9973 706.106 Z\" fill=\"#000000\" fill-rule=\"evenodd\" fill-opacity=\"1\" /><path clip-path=\"url(#clip760)\" d=\"M 0 0 M57.8307 673.45 Q57.2578 674.437 57.0032 675.614 Q56.7167 676.76 56.7167 678.161 Q56.7167 683.126 59.9632 685.799 Q63.1779 688.441 69.2253 688.441 L88.0042 688.441 L88.0042 694.33 L52.3562 694.33 L52.3562 688.441 L57.8944 688.441 Q54.6479 686.595 53.0883 683.635 Q51.4968 680.675 51.4968 676.442 Q51.4968 675.837 51.5923 675.105 Q51.656 674.373 51.8151 673.482 L57.8307 673.45 Z\" fill=\"#000000\" fill-rule=\"evenodd\" fill-opacity=\"1\" /><path clip-path=\"url(#clip760)\" d=\"M 0 0 M79.9197 672.463 L79.9197 665.748 L88.0042 665.748 L88.0042 672.463 L79.9197 672.463 Z\" fill=\"#000000\" fill-rule=\"evenodd\" fill-opacity=\"1\" /><path clip-path=\"url(#clip760)\" d=\"M 0 0 M66.4881 629.972 L88.0042 629.972 L88.0042 635.829 L66.679 635.829 Q61.6183 635.829 59.1038 637.802 Q56.5894 639.775 56.5894 643.722 Q56.5894 648.465 59.6131 651.202 Q62.6368 653.939 67.8567 653.939 L88.0042 653.939 L88.0042 659.827 L52.3562 659.827 L52.3562 653.939 L57.8944 653.939 Q54.6797 651.838 53.0883 649.006 Q51.4968 646.141 51.4968 642.417 Q51.4968 636.274 55.3163 633.123 Q59.1038 629.972 66.4881 629.972 Z\" fill=\"#000000\" fill-rule=\"evenodd\" fill-opacity=\"1\" /><path clip-path=\"url(#clip760)\" d=\"M 0 0 M82.5933 621.888 L82.5933 611.384 L46.3406 611.384 L48.6323 622.811 L42.7758 622.811 L40.4842 611.448 L40.4842 605.019 L82.5933 605.019 L82.5933 594.515 L88.0042 594.515 L88.0042 621.888 L82.5933 621.888 Z\" fill=\"#000000\" fill-rule=\"evenodd\" fill-opacity=\"1\" /><circle clip-path=\"url(#clip762)\" cx=\"785.052\" cy=\"457.483\" r=\"23\" fill=\"#741a6d\" fill-rule=\"evenodd\" fill-opacity=\"1\" stroke=\"#000000\" stroke-opacity=\"1\" stroke-width=\"3.2\"/>\n",
       "<circle clip-path=\"url(#clip762)\" cx=\"1804.97\" cy=\"271.661\" r=\"6\" fill=\"#07051c\" fill-rule=\"evenodd\" fill-opacity=\"1\" stroke=\"#000000\" stroke-opacity=\"1\" stroke-width=\"3.2\"/>\n",
       "<circle clip-path=\"url(#clip762)\" cx=\"278.297\" cy=\"1186.48\" r=\"52\" fill=\"#fbb81c\" fill-rule=\"evenodd\" fill-opacity=\"1\" stroke=\"#000000\" stroke-opacity=\"1\" stroke-width=\"3.2\"/>\n",
       "<circle clip-path=\"url(#clip762)\" cx=\"1296.2\" cy=\"814.835\" r=\"10\" fill=\"#1d0c44\" fill-rule=\"evenodd\" fill-opacity=\"1\" stroke=\"#000000\" stroke-opacity=\"1\" stroke-width=\"3.2\"/>\n",
       "<circle clip-path=\"url(#clip762)\" cx=\"538.54\" cy=\"1000.66\" r=\"33\" fill=\"#ba3654\" fill-rule=\"evenodd\" fill-opacity=\"1\" stroke=\"#000000\" stroke-opacity=\"1\" stroke-width=\"3.2\"/>\n",
       "<circle clip-path=\"url(#clip762)\" cx=\"538.54\" cy=\"85.838\" r=\"27\" fill=\"#8f2468\" fill-rule=\"evenodd\" fill-opacity=\"1\" stroke=\"#000000\" stroke-opacity=\"1\" stroke-width=\"3.2\"/>\n",
       "<circle clip-path=\"url(#clip762)\" cx=\"1550.41\" cy=\"85.838\" r=\"5\" fill=\"#040315\" fill-rule=\"evenodd\" fill-opacity=\"1\" stroke=\"#000000\" stroke-opacity=\"1\" stroke-width=\"3.2\"/>\n",
       "<circle clip-path=\"url(#clip762)\" cx=\"278.297\" cy=\"1372.3\" r=\"61\" fill=\"#fcfea4\" fill-rule=\"evenodd\" fill-opacity=\"1\" stroke=\"#000000\" stroke-opacity=\"1\" stroke-width=\"3.2\"/>\n",
       "<circle clip-path=\"url(#clip762)\" cx=\"2059.33\" cy=\"1372.3\" r=\"10\" fill=\"#1c0c43\" fill-rule=\"evenodd\" fill-opacity=\"1\" stroke=\"#000000\" stroke-opacity=\"1\" stroke-width=\"3.2\"/>\n",
       "<circle clip-path=\"url(#clip762)\" cx=\"1804.97\" cy=\"643.306\" r=\"7\" fill=\"#0a0723\" fill-rule=\"evenodd\" fill-opacity=\"1\" stroke=\"#000000\" stroke-opacity=\"1\" stroke-width=\"3.2\"/>\n",
       "<circle clip-path=\"url(#clip762)\" cx=\"785.052\" cy=\"814.835\" r=\"24\" fill=\"#771b6d\" fill-rule=\"evenodd\" fill-opacity=\"1\" stroke=\"#000000\" stroke-opacity=\"1\" stroke-width=\"3.2\"/>\n",
       "<circle clip-path=\"url(#clip762)\" cx=\"1040.76\" cy=\"1000.66\" r=\"21\" fill=\"#63146e\" fill-rule=\"evenodd\" fill-opacity=\"1\" stroke=\"#000000\" stroke-opacity=\"1\" stroke-width=\"3.2\"/>\n",
       "<circle clip-path=\"url(#clip762)\" cx=\"538.54\" cy=\"457.483\" r=\"28\" fill=\"#972765\" fill-rule=\"evenodd\" fill-opacity=\"1\" stroke=\"#000000\" stroke-opacity=\"1\" stroke-width=\"3.2\"/>\n",
       "<circle clip-path=\"url(#clip762)\" cx=\"538.54\" cy=\"814.835\" r=\"30\" fill=\"#a42c60\" fill-rule=\"evenodd\" fill-opacity=\"1\" stroke=\"#000000\" stroke-opacity=\"1\" stroke-width=\"3.2\"/>\n",
       "<circle clip-path=\"url(#clip762)\" cx=\"1550.41\" cy=\"643.306\" r=\"6\" fill=\"#050417\" fill-rule=\"evenodd\" fill-opacity=\"1\" stroke=\"#000000\" stroke-opacity=\"1\" stroke-width=\"3.2\"/>\n",
       "<circle clip-path=\"url(#clip762)\" cx=\"1040.76\" cy=\"457.483\" r=\"19\" fill=\"#59106d\" fill-rule=\"evenodd\" fill-opacity=\"1\" stroke=\"#000000\" stroke-opacity=\"1\" stroke-width=\"3.2\"/>\n",
       "<circle clip-path=\"url(#clip762)\" cx=\"1040.76\" cy=\"1186.48\" r=\"21\" fill=\"#67166e\" fill-rule=\"evenodd\" fill-opacity=\"1\" stroke=\"#000000\" stroke-opacity=\"1\" stroke-width=\"3.2\"/>\n",
       "<circle clip-path=\"url(#clip762)\" cx=\"2059.33\" cy=\"271.661\" r=\"5\" fill=\"#040314\" fill-rule=\"evenodd\" fill-opacity=\"1\" stroke=\"#000000\" stroke-opacity=\"1\" stroke-width=\"3.2\"/>\n",
       "<circle clip-path=\"url(#clip762)\" cx=\"1296.2\" cy=\"1372.3\" r=\"18\" fill=\"#500d6c\" fill-rule=\"evenodd\" fill-opacity=\"1\" stroke=\"#000000\" stroke-opacity=\"1\" stroke-width=\"3.2\"/>\n",
       "<circle clip-path=\"url(#clip762)\" cx=\"1550.41\" cy=\"1000.66\" r=\"5\" fill=\"#02020e\" fill-rule=\"evenodd\" fill-opacity=\"1\" stroke=\"#000000\" stroke-opacity=\"1\" stroke-width=\"3.2\"/>\n",
       "<circle clip-path=\"url(#clip762)\" cx=\"538.54\" cy=\"643.306\" r=\"29\" fill=\"#9f2a62\" fill-rule=\"evenodd\" fill-opacity=\"1\" stroke=\"#000000\" stroke-opacity=\"1\" stroke-width=\"3.2\"/>\n",
       "<circle clip-path=\"url(#clip762)\" cx=\"1550.41\" cy=\"457.483\" r=\"6\" fill=\"#050316\" fill-rule=\"evenodd\" fill-opacity=\"1\" stroke=\"#000000\" stroke-opacity=\"1\" stroke-width=\"3.2\"/>\n",
       "<circle clip-path=\"url(#clip762)\" cx=\"1040.76\" cy=\"271.661\" r=\"20\" fill=\"#5c116e\" fill-rule=\"evenodd\" fill-opacity=\"1\" stroke=\"#000000\" stroke-opacity=\"1\" stroke-width=\"3.2\"/>\n",
       "<circle clip-path=\"url(#clip762)\" cx=\"1804.97\" cy=\"85.838\" r=\"5\" fill=\"#02020e\" fill-rule=\"evenodd\" fill-opacity=\"1\" stroke=\"#000000\" stroke-opacity=\"1\" stroke-width=\"3.2\"/>\n",
       "<circle clip-path=\"url(#clip762)\" cx=\"2059.33\" cy=\"457.483\" r=\"6\" fill=\"#050418\" fill-rule=\"evenodd\" fill-opacity=\"1\" stroke=\"#000000\" stroke-opacity=\"1\" stroke-width=\"3.2\"/>\n",
       "<circle clip-path=\"url(#clip762)\" cx=\"2059.33\" cy=\"814.835\" r=\"5\" fill=\"#040314\" fill-rule=\"evenodd\" fill-opacity=\"1\" stroke=\"#000000\" stroke-opacity=\"1\" stroke-width=\"3.2\"/>\n",
       "<circle clip-path=\"url(#clip762)\" cx=\"1040.76\" cy=\"85.838\" r=\"20\" fill=\"#5c116e\" fill-rule=\"evenodd\" fill-opacity=\"1\" stroke=\"#000000\" stroke-opacity=\"1\" stroke-width=\"3.2\"/>\n",
       "<circle clip-path=\"url(#clip762)\" cx=\"278.297\" cy=\"1000.66\" r=\"50\" fill=\"#fba007\" fill-rule=\"evenodd\" fill-opacity=\"1\" stroke=\"#000000\" stroke-opacity=\"1\" stroke-width=\"3.2\"/>\n",
       "<circle clip-path=\"url(#clip762)\" cx=\"1550.41\" cy=\"814.835\" r=\"8\" fill=\"#0f092c\" fill-rule=\"evenodd\" fill-opacity=\"1\" stroke=\"#000000\" stroke-opacity=\"1\" stroke-width=\"3.2\"/>\n",
       "<circle clip-path=\"url(#clip762)\" cx=\"278.297\" cy=\"271.661\" r=\"40\" fill=\"#e35832\" fill-rule=\"evenodd\" fill-opacity=\"1\" stroke=\"#000000\" stroke-opacity=\"1\" stroke-width=\"3.2\"/>\n",
       "<circle clip-path=\"url(#clip762)\" cx=\"785.052\" cy=\"1372.3\" r=\"31\" fill=\"#aa2e5d\" fill-rule=\"evenodd\" fill-opacity=\"1\" stroke=\"#000000\" stroke-opacity=\"1\" stroke-width=\"3.2\"/>\n",
       "<circle clip-path=\"url(#clip762)\" cx=\"278.297\" cy=\"85.838\" r=\"40\" fill=\"#e05435\" fill-rule=\"evenodd\" fill-opacity=\"1\" stroke=\"#000000\" stroke-opacity=\"1\" stroke-width=\"3.2\"/>\n",
       "<circle clip-path=\"url(#clip762)\" cx=\"785.052\" cy=\"271.661\" r=\"23\" fill=\"#731a6d\" fill-rule=\"evenodd\" fill-opacity=\"1\" stroke=\"#000000\" stroke-opacity=\"1\" stroke-width=\"3.2\"/>\n",
       "<circle clip-path=\"url(#clip762)\" cx=\"2059.33\" cy=\"85.838\" r=\"8\" fill=\"#0d0828\" fill-rule=\"evenodd\" fill-opacity=\"1\" stroke=\"#000000\" stroke-opacity=\"1\" stroke-width=\"3.2\"/>\n",
       "<circle clip-path=\"url(#clip762)\" cx=\"1296.2\" cy=\"271.661\" r=\"10\" fill=\"#1d0c44\" fill-rule=\"evenodd\" fill-opacity=\"1\" stroke=\"#000000\" stroke-opacity=\"1\" stroke-width=\"3.2\"/>\n",
       "<circle clip-path=\"url(#clip762)\" cx=\"1804.97\" cy=\"457.483\" r=\"4\" fill=\"#000005\" fill-rule=\"evenodd\" fill-opacity=\"1\" stroke=\"#000000\" stroke-opacity=\"1\" stroke-width=\"3.2\"/>\n",
       "<circle clip-path=\"url(#clip762)\" cx=\"1804.97\" cy=\"1000.66\" r=\"7\" fill=\"#0b0726\" fill-rule=\"evenodd\" fill-opacity=\"1\" stroke=\"#000000\" stroke-opacity=\"1\" stroke-width=\"3.2\"/>\n",
       "<circle clip-path=\"url(#clip762)\" cx=\"1296.2\" cy=\"85.838\" r=\"10\" fill=\"#1c0c43\" fill-rule=\"evenodd\" fill-opacity=\"1\" stroke=\"#000000\" stroke-opacity=\"1\" stroke-width=\"3.2\"/>\n",
       "<circle clip-path=\"url(#clip762)\" cx=\"1804.97\" cy=\"1186.48\" r=\"3\" fill=\"#000003\" fill-rule=\"evenodd\" fill-opacity=\"1\" stroke=\"#000000\" stroke-opacity=\"1\" stroke-width=\"3.2\"/>\n",
       "<circle clip-path=\"url(#clip762)\" cx=\"785.052\" cy=\"1000.66\" r=\"25\" fill=\"#7f1e6c\" fill-rule=\"evenodd\" fill-opacity=\"1\" stroke=\"#000000\" stroke-opacity=\"1\" stroke-width=\"3.2\"/>\n",
       "<circle clip-path=\"url(#clip762)\" cx=\"2059.33\" cy=\"1000.66\" r=\"7\" fill=\"#0b0725\" fill-rule=\"evenodd\" fill-opacity=\"1\" stroke=\"#000000\" stroke-opacity=\"1\" stroke-width=\"3.2\"/>\n",
       "<circle clip-path=\"url(#clip762)\" cx=\"1296.2\" cy=\"1000.66\" r=\"13\" fill=\"#2f0a5b\" fill-rule=\"evenodd\" fill-opacity=\"1\" stroke=\"#000000\" stroke-opacity=\"1\" stroke-width=\"3.2\"/>\n",
       "<circle clip-path=\"url(#clip762)\" cx=\"538.54\" cy=\"271.661\" r=\"28\" fill=\"#932567\" fill-rule=\"evenodd\" fill-opacity=\"1\" stroke=\"#000000\" stroke-opacity=\"1\" stroke-width=\"3.2\"/>\n",
       "<circle clip-path=\"url(#clip762)\" cx=\"1040.76\" cy=\"814.835\" r=\"21\" fill=\"#63146e\" fill-rule=\"evenodd\" fill-opacity=\"1\" stroke=\"#000000\" stroke-opacity=\"1\" stroke-width=\"3.2\"/>\n",
       "<circle clip-path=\"url(#clip762)\" cx=\"1804.97\" cy=\"814.835\" r=\"6\" fill=\"#06041a\" fill-rule=\"evenodd\" fill-opacity=\"1\" stroke=\"#000000\" stroke-opacity=\"1\" stroke-width=\"3.2\"/>\n",
       "<circle clip-path=\"url(#clip762)\" cx=\"1296.2\" cy=\"643.306\" r=\"10\" fill=\"#1d0c44\" fill-rule=\"evenodd\" fill-opacity=\"1\" stroke=\"#000000\" stroke-opacity=\"1\" stroke-width=\"3.2\"/>\n",
       "<circle clip-path=\"url(#clip762)\" cx=\"1040.76\" cy=\"643.306\" r=\"20\" fill=\"#5e126e\" fill-rule=\"evenodd\" fill-opacity=\"1\" stroke=\"#000000\" stroke-opacity=\"1\" stroke-width=\"3.2\"/>\n",
       "<circle clip-path=\"url(#clip762)\" cx=\"278.297\" cy=\"457.483\" r=\"41\" fill=\"#e65d2e\" fill-rule=\"evenodd\" fill-opacity=\"1\" stroke=\"#000000\" stroke-opacity=\"1\" stroke-width=\"3.2\"/>\n",
       "<circle clip-path=\"url(#clip762)\" cx=\"538.54\" cy=\"1186.48\" r=\"38\" fill=\"#d74b3e\" fill-rule=\"evenodd\" fill-opacity=\"1\" stroke=\"#000000\" stroke-opacity=\"1\" stroke-width=\"3.2\"/>\n",
       "<circle clip-path=\"url(#clip762)\" cx=\"785.052\" cy=\"85.838\" r=\"23\" fill=\"#71196d\" fill-rule=\"evenodd\" fill-opacity=\"1\" stroke=\"#000000\" stroke-opacity=\"1\" stroke-width=\"3.2\"/>\n",
       "<circle clip-path=\"url(#clip762)\" cx=\"1296.2\" cy=\"1186.48\" r=\"15\" fill=\"#3d0965\" fill-rule=\"evenodd\" fill-opacity=\"1\" stroke=\"#000000\" stroke-opacity=\"1\" stroke-width=\"3.2\"/>\n",
       "<circle clip-path=\"url(#clip762)\" cx=\"1550.41\" cy=\"1186.48\" r=\"8\" fill=\"#0f092c\" fill-rule=\"evenodd\" fill-opacity=\"1\" stroke=\"#000000\" stroke-opacity=\"1\" stroke-width=\"3.2\"/>\n",
       "<circle clip-path=\"url(#clip762)\" cx=\"1550.41\" cy=\"1372.3\" r=\"9\" fill=\"#130a35\" fill-rule=\"evenodd\" fill-opacity=\"1\" stroke=\"#000000\" stroke-opacity=\"1\" stroke-width=\"3.2\"/>\n",
       "<circle clip-path=\"url(#clip762)\" cx=\"785.052\" cy=\"643.306\" r=\"24\" fill=\"#791c6d\" fill-rule=\"evenodd\" fill-opacity=\"1\" stroke=\"#000000\" stroke-opacity=\"1\" stroke-width=\"3.2\"/>\n",
       "<circle clip-path=\"url(#clip762)\" cx=\"1296.2\" cy=\"457.483\" r=\"11\" fill=\"#1f0c47\" fill-rule=\"evenodd\" fill-opacity=\"1\" stroke=\"#000000\" stroke-opacity=\"1\" stroke-width=\"3.2\"/>\n",
       "<circle clip-path=\"url(#clip762)\" cx=\"1550.41\" cy=\"271.661\" r=\"5\" fill=\"#030211\" fill-rule=\"evenodd\" fill-opacity=\"1\" stroke=\"#000000\" stroke-opacity=\"1\" stroke-width=\"3.2\"/>\n",
       "<circle clip-path=\"url(#clip762)\" cx=\"2059.33\" cy=\"1186.48\" r=\"9\" fill=\"#160b3a\" fill-rule=\"evenodd\" fill-opacity=\"1\" stroke=\"#000000\" stroke-opacity=\"1\" stroke-width=\"3.2\"/>\n",
       "<circle clip-path=\"url(#clip762)\" cx=\"278.297\" cy=\"643.306\" r=\"43\" fill=\"#ed6924\" fill-rule=\"evenodd\" fill-opacity=\"1\" stroke=\"#000000\" stroke-opacity=\"1\" stroke-width=\"3.2\"/>\n",
       "<circle clip-path=\"url(#clip762)\" cx=\"2059.33\" cy=\"643.306\" r=\"6\" fill=\"#06051b\" fill-rule=\"evenodd\" fill-opacity=\"1\" stroke=\"#000000\" stroke-opacity=\"1\" stroke-width=\"3.2\"/>\n",
       "<circle clip-path=\"url(#clip762)\" cx=\"1040.76\" cy=\"1372.3\" r=\"24\" fill=\"#7d1d6c\" fill-rule=\"evenodd\" fill-opacity=\"1\" stroke=\"#000000\" stroke-opacity=\"1\" stroke-width=\"3.2\"/>\n",
       "<circle clip-path=\"url(#clip762)\" cx=\"538.54\" cy=\"1372.3\" r=\"45\" fill=\"#f2761a\" fill-rule=\"evenodd\" fill-opacity=\"1\" stroke=\"#000000\" stroke-opacity=\"1\" stroke-width=\"3.2\"/>\n",
       "<circle clip-path=\"url(#clip762)\" cx=\"1804.97\" cy=\"1372.3\" r=\"10\" fill=\"#1c0c44\" fill-rule=\"evenodd\" fill-opacity=\"1\" stroke=\"#000000\" stroke-opacity=\"1\" stroke-width=\"3.2\"/>\n",
       "<circle clip-path=\"url(#clip762)\" cx=\"278.297\" cy=\"814.835\" r=\"47\" fill=\"#f8890b\" fill-rule=\"evenodd\" fill-opacity=\"1\" stroke=\"#000000\" stroke-opacity=\"1\" stroke-width=\"3.2\"/>\n",
       "<circle clip-path=\"url(#clip762)\" cx=\"785.052\" cy=\"1186.48\" r=\"26\" fill=\"#8a2269\" fill-rule=\"evenodd\" fill-opacity=\"1\" stroke=\"#000000\" stroke-opacity=\"1\" stroke-width=\"3.2\"/>\n",
       "<defs>\n",
       "  <clipPath id=\"clip763\">\n",
       "    <rect x=\"2160\" y=\"47\" width=\"73\" height=\"1365\"/>\n",
       "  </clipPath>\n",
       "</defs>\n",
       "<g clip-path=\"url(#clip763)\">\n",
       "<image width=\"72\" height=\"1364\" xlink:href=\"data:image/png;base64,\n",
       "iVBORw0KGgoAAAANSUhEUgAAAEgAAAVUCAYAAABzwV4AAAAL0klEQVR4nO3dwY3sRhAFQY5Q/lsh\n",
       "L6XfLQtUeSQPERYsEg+zZJM7+/v3/H0f/tdfb/8AXydQECgIFAQKc+6/b/8Mn2ZBQaAgUBAozL1/\n",
       "3v4ZPs2CgkBBoCBQcCUdLCgIFAQKAgWBwly/xVYWFAQKAgWBwtzjQ3pjQUGgIFAQKLiSDhYUBAoC\n",
       "BYGCQMFvsWBBQaAgUBAoOA8KFhQECgIFgcI8rqRXFhQECgIFgYJAwXlQsKAgUBAoCBTmcR60sqAg\n",
       "UBAoCBTmOf+8/TN8mgUFgYJAQaAgUPBUI1hQECgIFAQKzoOCBQWBgkBBoOBDOlhQECgIFAQKAgXn\n",
       "QcGCgkBBoCBQmJ9bjZUFBYGCQEGgMM/xpf8bCwoCBYGCQEGg4FYjWFAQKAgUBApuNYIFBYGCQEGg\n",
       "4P2gYEFBoCBQECgIFObnVmNlQUGgIFAQKHiJM1hQECgIFAQKrqSDBQWBgkBBoCBQ8Og5WFAQKAgU\n",
       "BApuNYIFBYGCQEGg4Eo6WFAQKAgUBAoCBbcawYKCQEGgIFCY55y3f4ZPs6AgUBAoCBRcSQcLCgIF\n",
       "gYJAQaDgqUawoCBQECgIFHxIBwsKAgWBgkBhfg7tVxYUBAoCBYGCQMGtRrCgIFAQKAgUvB8ULCgI\n",
       "FAQKAgXnQcGCgkBBoCBQECg4DwoWFAQKAgWBgvOgYEFBoCBQECj4kA4WFAQKAgWBgkDBXz0HCwoC\n",
       "BYGCQMGtRrCgIFAQKAgUfEgHCwoCBYGCQEGg4LdYsKAgUBAoCBR8SAcLCgIFgYJAYZ7rQ3pjQUGg\n",
       "IFAQKAgU3GoECwoCBYGCQMGHdLCgIFAQKAgUfEgHCwoCBYGCQEGgMM+5b/8Mn2ZBQaAgUBAouNUI\n",
       "FhQECgIFgYIr6WBBQaAgUBAoCBTcagQLCgIFgYJAwa1GsKAgUBAoCBTmcSG9sqAgUBAoCBQECvNc\n",
       "txobCwoCBYGCQMGtRrCgIFAQKAgUfEgHCwoCBYGCQEGgML4Eb2dBQaAgUBAouNUIFhQECgIFgYIP\n",
       "6WBBQaAgUBAoCBTmOb+3f4ZPs6AgUBAoCBTmXh/SGwsKAgWBgkDBeVCwoCBQECgIFBx3BAsKAgWB\n",
       "gkBBoDD3aLRRJwgUBAoCBbcawYKCQEGgIFCYx5PVlQUFgYJAQaAgUJjrVmNlQUGgIFAQKMzj0H6l\n",
       "ThAoCBQECq6kgwUFgYJAQaAgUPBUI1hQECgIFAQKXuIM6gSBgkBBoOAlzmBBQaAgUBAoCBQ81QgW\n",
       "FAQKAgWBwtyr0UadIFAQKAgUnAcFCwoCBYGCQEGg4DwoWFAQKAgUBArzOA9aqRMECgIFgYIr6WBB\n",
       "QaAgUBAoCBT8FgsWFAQKAgWBgj/qDRYUBAoCBYGCP+oN6gSBgkBBoCBQ8P/mgwUFgYJAQaDg0D5Y\n",
       "UBAoCBQECr70P6gTBAoCBYGCQMF5ULCgIFAQKAgUnAcFCwoCBYGCQMGVdLCgIFAQKAgUBArecg3q\n",
       "BIGCQEGg4FYjWFAQKAgUBAoO7YMFBYGCQEGgIFBwqxEsKAgUBAoCBf+6JlhQECgIFAQK/glkUCcI\n",
       "FAQKAgWBgvOgYEFBoCBQECh49BwsKAgUBAoCBVfSwYKCQEGgIFAQKMzxW2xlQUGgIFAQKPij3qBO\n",
       "ECgIFAQKzoOCBQWBgkBBoCBQ8FssWFAQKAgUBAreDwoWFAQKAgWBgivpYEFBoCBQECgIFPwWCxYU\n",
       "BAoCBYGCr6YI6gSBgkBBoDDHof3KgoJAQaAgUBAoOA8KFhQECgIFgYIP6WBBQaAgUBAo+JAOFhQE\n",
       "CgIFgYJAwfcHBQsKAgWBgkDBrUawoCBQECgIFHxIBwsKAgWBgkBBoOBPEYI6QaAgUBAo+FOEYEFB\n",
       "oCBQECg4DwoWFAQKAgWBgkDBb7FgQUGgIFAQKHiJM1hQECgIFAQKrqSDBQWBgkBBoCBQmPv4Lbax\n",
       "oCBQECgIFJwHBQsKAgWBgkDBeVCwoCBQECgIFAQKbjWCBQWBgkBBoOBWI1hQECgIFAQKrqSDBQWB\n",
       "gkBBoCBQcKsRLCgIFAQKAgUf0sGCgkBBoCBQmONN+5UFBYGCQEGg4Eo6WFAQKAgUBAoCBY+egwUF\n",
       "gYJAQaAw9779I3ybBQWBgkBBoOBKOlhQECgIFAQKAgVf8hYsKAgUBAoCBbcawYKCQEGgIFDwflCw\n",
       "oCBQECgIFAQK/hQhWFAQKAgUBAreDwoWFAQKAgWBgkP7YEFBoCBQECgIFDzVCBYUBAoCBYGCQ/tg\n",
       "QUGgIFAQKDgPChYUBAoCBYGCQMGj52BBQaAgUBAoOA8KFhQECgIFgYInq8GCgkBBoCBQECjMefsn\n",
       "+DgLCgIFgYJAwa1GsKAgUBAoCBS8HxQsKAgUBAoCBYGC86BgQUGgIFAQKDgPChYUBAoCBYGCK+lg\n",
       "QUGgIFAQKAgU3GoECwoCBYGCQMGj52BBQaAgUBAojC9e2FlQECgIFAQKAgW3GsGCgkBBoCBQ8Og5\n",
       "WFAQKAgUBAqerAYLCgIFgYJAQaDgViNYUBAoCBQECm41ggUFgYJAQaAwxwtCKwsKAgWBgkBBoOA8\n",
       "KFhQECgIFAQKzoOCBQWBgkBBoOBKOlhQECgIFAQKAgX/bz5YUBAoCBQECv7ffLCgIFAQKAgUvB8U\n",
       "LCgIFAQKAgWBgm/BCxYUBAoCBYGCL3kLFhQECgIFgYInq8GCgkBBoCBQECh4yzVYUBAoCBQECv5e\n",
       "LFhQECgIFAQKrqSDBQWBgkBBoCBQ8JZrsKAgUBAoCBS8xBksKAgUBAoCBVfSwYKCQEGgIFAQKHjL\n",
       "NVhQECgIFAQKvj8oWFAQKAgUBArOg4IFBYGCQEGgIFDw6DlYUBAoCBQECm41ggUFgYJAQaDgSjpY\n",
       "UBAoCBQECgIFtxrBgoJAQaAgUPAhHSwoCBQECgIF50HBgoJAQaAgUBAouNUIFhQECgIFgYJbjWBB\n",
       "QaAgUBAouJIOFhQECgIFgYJAwfcHBQsKAgWBgkDBv64JFhQECgIFgYLzoGBBQaAgUBAoCBTmPn6N\n",
       "bSwoCBQECgIFtxrBgoJAQaAgUPBkNVhQECgIFAQKnqwGCwoCBYGCQEGg4DwoWFAQKAgUBAqerAYL\n",
       "CgIFgYJAwZV0sKAgUBAoCBQECr4/KFhQECgIFAQKc7wgtLKgIFAQKAgUvB8ULCgIFAQKAgWBwly3\n",
       "GisLCgIFgYJAwa1GsKAgUBAoCBQc2gcLCgIFgYJAQaDg/aBgQUGgIFAQKMzx92IrCwoCBYGCQMF5\n",
       "ULCgIFAQKAgUBAq+miJYUBAoCBQECt4PChYUBAoCBYGCQ/tgQUGgIFAQKAgUnAcFCwoCBYGCQGHO\n",
       "40RoY0FBoCBQECg4DwoWFAQKAgWBgkDBb7FgQUGgIFAQKDi0DxYUBAoCBYGCQ/tgQUGgIFAQKAgU\n",
       "5vzcamwsKAgUBAoCBbcawYKCQEGgIFCY60N6ZUFBoCBQECgIFNxqBAsKAgWBgkBhzs+H9MaCgkBB\n",
       "oCBQcCUdLCgIFAQKAgWBgqcawYKCQEGgIFBwqxEsKAgUBAoCBR/SwYKCQEGgIFAQKHj0HCwoCBQE\n",
       "CgKFuc+ft3+GT7OgIFAQKAgUnAcFCwoCBYGCQEGg4P2gYEFBoCBQECjMuc6DNhYUBAoCBYGCK+lg\n",
       "QUGgIFAQKAgU5nj0vLKgIFAQKAgU3GoECwoCBYGCQMGVdLCgIFAQKAgUBApzr1uNjQUFgYJAQaDg\n",
       "PChYUBAoCBQECl7iDBYUBAoCBYGCQMGtRrCgIFAQKAgU5rrVWFlQECgIFAQKrqSDBQWBgkBBoCBQ\n",
       "mOP9oJUFBYGCQEGg4PukgwUFgYJAQaDgTftgQUGgIFAQKAgUPNUIFhQECgIFgYJbjWBBQaAgUBAo\n",
       "+JAOFhQECgIFgYJAwaPnYEFBoCBQECi41QgWFAQKAgWBwjyerK4sKAgUBAoCBYGCW41gQUGgIFAQ\n",
       "KHiJM1hQECgIFAQK87iSXllQECgIFAQKAgXvBwULCgIFgYJAwaPnYEFBoCBQECg4DwoWFAQKAgWB\n",
       "gkBh7nPf/hk+zYKCQEGgIFBwHhQsKAgUBAoChXlcSa8sKAgUBAoChf8AJ8ztt7m0cDkAAAAASUVO\n",
       "RK5CYII=\n",
       "\" transform=\"translate(2161, 47)\"/>\n",
       "</g>\n",
       "<path clip-path=\"url(#clip760)\" d=\"M 0 0 M2280.7 1215.75 Q2277.09 1215.75 2275.26 1219.32 Q2273.45 1222.86 2273.45 1229.99 Q2273.45 1237.1 2275.26 1240.66 Q2277.09 1244.2 2280.7 1244.2 Q2284.33 1244.2 2286.14 1240.66 Q2287.97 1237.1 2287.97 1229.99 Q2287.97 1222.86 2286.14 1219.32 Q2284.33 1215.75 2280.7 1215.75 M2280.7 1212.05 Q2286.51 1212.05 2289.57 1216.66 Q2292.64 1221.24 2292.64 1229.99 Q2292.64 1238.72 2289.57 1243.32 Q2286.51 1247.91 2280.7 1247.91 Q2274.89 1247.91 2271.81 1243.32 Q2268.76 1238.72 2268.76 1229.99 Q2268.76 1221.24 2271.81 1216.66 Q2274.89 1212.05 2280.7 1212.05 Z\" fill=\"#000000\" fill-rule=\"evenodd\" fill-opacity=\"1\" /><path clip-path=\"url(#clip760)\" d=\"M 0 0 M2297.71 1241.36 L2302.6 1241.36 L2302.6 1247.24 L2297.71 1247.24 L2297.71 1241.36 Z\" fill=\"#000000\" fill-rule=\"evenodd\" fill-opacity=\"1\" /><path clip-path=\"url(#clip760)\" d=\"M 0 0 M2306.49 1212.68 L2328.71 1212.68 L2328.71 1214.67 L2316.16 1247.24 L2311.28 1247.24 L2323.08 1216.61 L2306.49 1216.61 L2306.49 1212.68 Z\" fill=\"#000000\" fill-rule=\"evenodd\" fill-opacity=\"1\" /><path clip-path=\"url(#clip760)\" d=\"M 0 0 M2343.78 1215.75 Q2340.17 1215.75 2338.34 1219.32 Q2336.53 1222.86 2336.53 1229.99 Q2336.53 1237.1 2338.34 1240.66 Q2340.17 1244.2 2343.78 1244.2 Q2347.41 1244.2 2349.22 1240.66 Q2351.05 1237.1 2351.05 1229.99 Q2351.05 1222.86 2349.22 1219.32 Q2347.41 1215.75 2343.78 1215.75 M2343.78 1212.05 Q2349.59 1212.05 2352.64 1216.66 Q2355.72 1221.24 2355.72 1229.99 Q2355.72 1238.72 2352.64 1243.32 Q2349.59 1247.91 2343.78 1247.91 Q2337.97 1247.91 2334.89 1243.32 Q2331.83 1238.72 2331.83 1229.99 Q2331.83 1221.24 2334.89 1216.66 Q2337.97 1212.05 2343.78 1212.05 Z\" fill=\"#000000\" fill-rule=\"evenodd\" fill-opacity=\"1\" /><path clip-path=\"url(#clip760)\" d=\"M 0 0 M2280.7 1012.55 Q2277.09 1012.55 2275.26 1016.11 Q2273.45 1019.65 2273.45 1026.78 Q2273.45 1033.89 2275.26 1037.45 Q2277.09 1040.99 2280.7 1040.99 Q2284.33 1040.99 2286.14 1037.45 Q2287.97 1033.89 2287.97 1026.78 Q2287.97 1019.65 2286.14 1016.11 Q2284.33 1012.55 2280.7 1012.55 M2280.7 1008.84 Q2286.51 1008.84 2289.57 1013.45 Q2292.64 1018.03 2292.64 1026.78 Q2292.64 1035.51 2289.57 1040.11 Q2286.51 1044.7 2280.7 1044.7 Q2274.89 1044.7 2271.81 1040.11 Q2268.76 1035.51 2268.76 1026.78 Q2268.76 1018.03 2271.81 1013.45 Q2274.89 1008.84 2280.7 1008.84 Z\" fill=\"#000000\" fill-rule=\"evenodd\" fill-opacity=\"1\" /><path clip-path=\"url(#clip760)\" d=\"M 0 0 M2297.71 1038.15 L2302.6 1038.15 L2302.6 1044.03 L2297.71 1044.03 L2297.71 1038.15 Z\" fill=\"#000000\" fill-rule=\"evenodd\" fill-opacity=\"1\" /><path clip-path=\"url(#clip760)\" d=\"M 0 0 M2306.49 1009.47 L2328.71 1009.47 L2328.71 1011.46 L2316.16 1044.03 L2311.28 1044.03 L2323.08 1013.4 L2306.49 1013.4 L2306.49 1009.47 Z\" fill=\"#000000\" fill-rule=\"evenodd\" fill-opacity=\"1\" /><path clip-path=\"url(#clip760)\" d=\"M 0 0 M2333.83 1009.47 L2352.18 1009.47 L2352.18 1013.4 L2338.11 1013.4 L2338.11 1021.87 Q2339.13 1021.53 2340.14 1021.37 Q2341.16 1021.18 2342.18 1021.18 Q2347.97 1021.18 2351.35 1024.35 Q2354.73 1027.52 2354.73 1032.94 Q2354.73 1038.52 2351.26 1041.62 Q2347.78 1044.7 2341.46 1044.7 Q2339.29 1044.7 2337.02 1044.33 Q2334.77 1043.96 2332.37 1043.22 L2332.37 1038.52 Q2334.45 1039.65 2336.67 1040.21 Q2338.89 1040.76 2341.37 1040.76 Q2345.38 1040.76 2347.71 1038.66 Q2350.05 1036.55 2350.05 1032.94 Q2350.05 1029.33 2347.71 1027.22 Q2345.38 1025.12 2341.37 1025.12 Q2339.5 1025.12 2337.62 1025.53 Q2335.77 1025.95 2333.83 1026.83 L2333.83 1009.47 Z\" fill=\"#000000\" fill-rule=\"evenodd\" fill-opacity=\"1\" /><path clip-path=\"url(#clip760)\" d=\"M 0 0 M2280.7 809.337 Q2277.09 809.337 2275.26 812.902 Q2273.45 816.443 2273.45 823.573 Q2273.45 830.679 2275.26 834.244 Q2277.09 837.786 2280.7 837.786 Q2284.33 837.786 2286.14 834.244 Q2287.97 830.679 2287.97 823.573 Q2287.97 816.443 2286.14 812.902 Q2284.33 809.337 2280.7 809.337 M2280.7 805.633 Q2286.51 805.633 2289.57 810.24 Q2292.64 814.823 2292.64 823.573 Q2292.64 832.3 2289.57 836.906 Q2286.51 841.489 2280.7 841.489 Q2274.89 841.489 2271.81 836.906 Q2268.76 832.3 2268.76 823.573 Q2268.76 814.823 2271.81 810.24 Q2274.89 805.633 2280.7 805.633 Z\" fill=\"#000000\" fill-rule=\"evenodd\" fill-opacity=\"1\" /><path clip-path=\"url(#clip760)\" d=\"M 0 0 M2297.71 834.939 L2302.6 834.939 L2302.6 840.818 L2297.71 840.818 L2297.71 834.939 Z\" fill=\"#000000\" fill-rule=\"evenodd\" fill-opacity=\"1\" /><path clip-path=\"url(#clip760)\" d=\"M 0 0 M2317.67 824.406 Q2314.33 824.406 2312.41 826.189 Q2310.51 827.971 2310.51 831.096 Q2310.51 834.221 2312.41 836.003 Q2314.33 837.786 2317.67 837.786 Q2321 837.786 2322.92 836.003 Q2324.84 834.198 2324.84 831.096 Q2324.84 827.971 2322.92 826.189 Q2321.02 824.406 2317.67 824.406 M2312.99 822.415 Q2309.98 821.675 2308.29 819.615 Q2306.63 817.554 2306.63 814.591 Q2306.63 810.448 2309.57 808.041 Q2312.53 805.633 2317.67 805.633 Q2322.83 805.633 2325.77 808.041 Q2328.71 810.448 2328.71 814.591 Q2328.71 817.554 2327.02 819.615 Q2325.35 821.675 2322.37 822.415 Q2325.75 823.202 2327.62 825.494 Q2329.52 827.786 2329.52 831.096 Q2329.52 836.119 2326.44 838.804 Q2323.39 841.489 2317.67 841.489 Q2311.95 841.489 2308.87 838.804 Q2305.82 836.119 2305.82 831.096 Q2305.82 827.786 2307.71 825.494 Q2309.61 823.202 2312.99 822.415 M2311.28 815.031 Q2311.28 817.716 2312.95 819.221 Q2314.64 820.726 2317.67 820.726 Q2320.68 820.726 2322.37 819.221 Q2324.08 817.716 2324.08 815.031 Q2324.08 812.346 2322.37 810.841 Q2320.68 809.337 2317.67 809.337 Q2314.64 809.337 2312.95 810.841 Q2311.28 812.346 2311.28 815.031 Z\" fill=\"#000000\" fill-rule=\"evenodd\" fill-opacity=\"1\" /><path clip-path=\"url(#clip760)\" d=\"M 0 0 M2344.59 809.337 Q2340.98 809.337 2339.15 812.902 Q2337.34 816.443 2337.34 823.573 Q2337.34 830.679 2339.15 834.244 Q2340.98 837.786 2344.59 837.786 Q2348.22 837.786 2350.03 834.244 Q2351.86 830.679 2351.86 823.573 Q2351.86 816.443 2350.03 812.902 Q2348.22 809.337 2344.59 809.337 M2344.59 805.633 Q2350.4 805.633 2353.45 810.24 Q2356.53 814.823 2356.53 823.573 Q2356.53 832.3 2353.45 836.906 Q2350.4 841.489 2344.59 841.489 Q2338.78 841.489 2335.7 836.906 Q2332.64 832.3 2332.64 823.573 Q2332.64 814.823 2335.7 810.24 Q2338.78 805.633 2344.59 805.633 Z\" fill=\"#000000\" fill-rule=\"evenodd\" fill-opacity=\"1\" /><path clip-path=\"url(#clip760)\" d=\"M 0 0 M2280.7 606.128 Q2277.09 606.128 2275.26 609.693 Q2273.45 613.234 2273.45 620.364 Q2273.45 627.47 2275.26 631.035 Q2277.09 634.577 2280.7 634.577 Q2284.33 634.577 2286.14 631.035 Q2287.97 627.47 2287.97 620.364 Q2287.97 613.234 2286.14 609.693 Q2284.33 606.128 2280.7 606.128 M2280.7 602.424 Q2286.51 602.424 2289.57 607.031 Q2292.64 611.614 2292.64 620.364 Q2292.64 629.091 2289.57 633.697 Q2286.51 638.281 2280.7 638.281 Q2274.89 638.281 2271.81 633.697 Q2268.76 629.091 2268.76 620.364 Q2268.76 611.614 2271.81 607.031 Q2274.89 602.424 2280.7 602.424 Z\" fill=\"#000000\" fill-rule=\"evenodd\" fill-opacity=\"1\" /><path clip-path=\"url(#clip760)\" d=\"M 0 0 M2297.71 631.73 L2302.6 631.73 L2302.6 637.609 L2297.71 637.609 L2297.71 631.73 Z\" fill=\"#000000\" fill-rule=\"evenodd\" fill-opacity=\"1\" /><path clip-path=\"url(#clip760)\" d=\"M 0 0 M2317.67 621.197 Q2314.33 621.197 2312.41 622.98 Q2310.51 624.762 2310.51 627.887 Q2310.51 631.012 2312.41 632.795 Q2314.33 634.577 2317.67 634.577 Q2321 634.577 2322.92 632.795 Q2324.84 630.989 2324.84 627.887 Q2324.84 624.762 2322.92 622.98 Q2321.02 621.197 2317.67 621.197 M2312.99 619.207 Q2309.98 618.466 2308.29 616.406 Q2306.63 614.346 2306.63 611.383 Q2306.63 607.239 2309.57 604.832 Q2312.53 602.424 2317.67 602.424 Q2322.83 602.424 2325.77 604.832 Q2328.71 607.239 2328.71 611.383 Q2328.71 614.346 2327.02 616.406 Q2325.35 618.466 2322.37 619.207 Q2325.75 619.994 2327.62 622.285 Q2329.52 624.577 2329.52 627.887 Q2329.52 632.91 2326.44 635.595 Q2323.39 638.281 2317.67 638.281 Q2311.95 638.281 2308.87 635.595 Q2305.82 632.91 2305.82 627.887 Q2305.82 624.577 2307.71 622.285 Q2309.61 619.994 2312.99 619.207 M2311.28 611.822 Q2311.28 614.508 2312.95 616.012 Q2314.64 617.517 2317.67 617.517 Q2320.68 617.517 2322.37 616.012 Q2324.08 614.508 2324.08 611.822 Q2324.08 609.137 2322.37 607.633 Q2320.68 606.128 2317.67 606.128 Q2314.64 606.128 2312.95 607.633 Q2311.28 609.137 2311.28 611.822 Z\" fill=\"#000000\" fill-rule=\"evenodd\" fill-opacity=\"1\" /><path clip-path=\"url(#clip760)\" d=\"M 0 0 M2334.64 603.049 L2352.99 603.049 L2352.99 606.984 L2338.92 606.984 L2338.92 615.457 Q2339.94 615.109 2340.95 614.947 Q2341.97 614.762 2342.99 614.762 Q2348.78 614.762 2352.16 617.933 Q2355.54 621.105 2355.54 626.521 Q2355.54 632.1 2352.07 635.202 Q2348.59 638.281 2342.27 638.281 Q2340.1 638.281 2337.83 637.91 Q2335.58 637.54 2333.18 636.799 L2333.18 632.1 Q2335.26 633.234 2337.48 633.79 Q2339.7 634.345 2342.18 634.345 Q2346.19 634.345 2348.52 632.239 Q2350.86 630.132 2350.86 626.521 Q2350.86 622.91 2348.52 620.804 Q2346.19 618.697 2342.18 618.697 Q2340.31 618.697 2338.43 619.114 Q2336.58 619.531 2334.64 620.41 L2334.64 603.049 Z\" fill=\"#000000\" fill-rule=\"evenodd\" fill-opacity=\"1\" /><path clip-path=\"url(#clip760)\" d=\"M 0 0 M2280.7 402.919 Q2277.09 402.919 2275.26 406.484 Q2273.45 410.026 2273.45 417.155 Q2273.45 424.262 2275.26 427.826 Q2277.09 431.368 2280.7 431.368 Q2284.33 431.368 2286.14 427.826 Q2287.97 424.262 2287.97 417.155 Q2287.97 410.026 2286.14 406.484 Q2284.33 402.919 2280.7 402.919 M2280.7 399.215 Q2286.51 399.215 2289.57 403.822 Q2292.64 408.405 2292.64 417.155 Q2292.64 425.882 2289.57 430.488 Q2286.51 435.072 2280.7 435.072 Q2274.89 435.072 2271.81 430.488 Q2268.76 425.882 2268.76 417.155 Q2268.76 408.405 2271.81 403.822 Q2274.89 399.215 2280.7 399.215 Z\" fill=\"#000000\" fill-rule=\"evenodd\" fill-opacity=\"1\" /><path clip-path=\"url(#clip760)\" d=\"M 0 0 M2297.71 428.521 L2302.6 428.521 L2302.6 434.4 L2297.71 434.4 L2297.71 428.521 Z\" fill=\"#000000\" fill-rule=\"evenodd\" fill-opacity=\"1\" /><path clip-path=\"url(#clip760)\" d=\"M 0 0 M2307.81 433.683 L2307.81 429.424 Q2309.57 430.257 2311.37 430.697 Q2313.18 431.137 2314.91 431.137 Q2319.54 431.137 2321.97 428.035 Q2324.43 424.91 2324.77 418.567 Q2323.43 420.558 2321.37 421.623 Q2319.31 422.688 2316.81 422.688 Q2311.63 422.688 2308.59 419.563 Q2305.58 416.414 2305.58 410.975 Q2305.58 405.651 2308.73 402.433 Q2311.88 399.215 2317.11 399.215 Q2323.11 399.215 2326.26 403.822 Q2329.43 408.405 2329.43 417.155 Q2329.43 425.326 2325.54 430.211 Q2321.67 435.072 2315.12 435.072 Q2313.36 435.072 2311.56 434.725 Q2309.75 434.377 2307.81 433.683 M2317.11 419.03 Q2320.26 419.03 2322.09 416.877 Q2323.94 414.725 2323.94 410.975 Q2323.94 407.248 2322.09 405.095 Q2320.26 402.919 2317.11 402.919 Q2313.96 402.919 2312.11 405.095 Q2310.28 407.248 2310.28 410.975 Q2310.28 414.725 2312.11 416.877 Q2313.96 419.03 2317.11 419.03 Z\" fill=\"#000000\" fill-rule=\"evenodd\" fill-opacity=\"1\" /><path clip-path=\"url(#clip760)\" d=\"M 0 0 M2344.5 402.919 Q2340.89 402.919 2339.06 406.484 Q2337.25 410.026 2337.25 417.155 Q2337.25 424.262 2339.06 427.826 Q2340.89 431.368 2344.5 431.368 Q2348.13 431.368 2349.94 427.826 Q2351.76 424.262 2351.76 417.155 Q2351.76 410.026 2349.94 406.484 Q2348.13 402.919 2344.5 402.919 M2344.5 399.215 Q2350.31 399.215 2353.36 403.822 Q2356.44 408.405 2356.44 417.155 Q2356.44 425.882 2353.36 430.488 Q2350.31 435.072 2344.5 435.072 Q2338.69 435.072 2335.61 430.488 Q2332.55 425.882 2332.55 417.155 Q2332.55 408.405 2335.61 403.822 Q2338.69 399.215 2344.5 399.215 Z\" fill=\"#000000\" fill-rule=\"evenodd\" fill-opacity=\"1\" /><path clip-path=\"url(#clip760)\" d=\"M 0 0 M2280.7 199.71 Q2277.09 199.71 2275.26 203.275 Q2273.45 206.817 2273.45 213.946 Q2273.45 221.053 2275.26 224.618 Q2277.09 228.159 2280.7 228.159 Q2284.33 228.159 2286.14 224.618 Q2287.97 221.053 2287.97 213.946 Q2287.97 206.817 2286.14 203.275 Q2284.33 199.71 2280.7 199.71 M2280.7 196.007 Q2286.51 196.007 2289.57 200.613 Q2292.64 205.196 2292.64 213.946 Q2292.64 222.673 2289.57 227.28 Q2286.51 231.863 2280.7 231.863 Q2274.89 231.863 2271.81 227.28 Q2268.76 222.673 2268.76 213.946 Q2268.76 205.196 2271.81 200.613 Q2274.89 196.007 2280.7 196.007 Z\" fill=\"#000000\" fill-rule=\"evenodd\" fill-opacity=\"1\" /><path clip-path=\"url(#clip760)\" d=\"M 0 0 M2297.71 225.312 L2302.6 225.312 L2302.6 231.192 L2297.71 231.192 L2297.71 225.312 Z\" fill=\"#000000\" fill-rule=\"evenodd\" fill-opacity=\"1\" /><path clip-path=\"url(#clip760)\" d=\"M 0 0 M2307.81 230.474 L2307.81 226.215 Q2309.57 227.048 2311.37 227.488 Q2313.18 227.928 2314.91 227.928 Q2319.54 227.928 2321.97 224.826 Q2324.43 221.701 2324.77 215.358 Q2323.43 217.349 2321.37 218.414 Q2319.31 219.479 2316.81 219.479 Q2311.63 219.479 2308.59 216.354 Q2305.58 213.206 2305.58 207.766 Q2305.58 202.442 2308.73 199.224 Q2311.88 196.007 2317.11 196.007 Q2323.11 196.007 2326.26 200.613 Q2329.43 205.196 2329.43 213.946 Q2329.43 222.118 2325.54 227.002 Q2321.67 231.863 2315.12 231.863 Q2313.36 231.863 2311.56 231.516 Q2309.75 231.169 2307.81 230.474 M2317.11 215.821 Q2320.26 215.821 2322.09 213.669 Q2323.94 211.516 2323.94 207.766 Q2323.94 204.039 2322.09 201.886 Q2320.26 199.71 2317.11 199.71 Q2313.96 199.71 2312.11 201.886 Q2310.28 204.039 2310.28 207.766 Q2310.28 211.516 2312.11 213.669 Q2313.96 215.821 2317.11 215.821 Z\" fill=\"#000000\" fill-rule=\"evenodd\" fill-opacity=\"1\" /><path clip-path=\"url(#clip760)\" d=\"M 0 0 M2334.54 196.632 L2352.9 196.632 L2352.9 200.567 L2338.82 200.567 L2338.82 209.039 Q2339.84 208.692 2340.86 208.53 Q2341.88 208.345 2342.9 208.345 Q2348.69 208.345 2352.07 211.516 Q2355.45 214.687 2355.45 220.104 Q2355.45 225.682 2351.97 228.784 Q2348.5 231.863 2342.18 231.863 Q2340.01 231.863 2337.74 231.493 Q2335.49 231.122 2333.08 230.381 L2333.08 225.682 Q2335.17 226.817 2337.39 227.372 Q2339.61 227.928 2342.09 227.928 Q2346.09 227.928 2348.43 225.821 Q2350.77 223.715 2350.77 220.104 Q2350.77 216.493 2348.43 214.386 Q2346.09 212.28 2342.09 212.28 Q2340.21 212.28 2338.34 212.696 Q2336.49 213.113 2334.54 213.993 L2334.54 196.632 Z\" fill=\"#000000\" fill-rule=\"evenodd\" fill-opacity=\"1\" /><polyline clip-path=\"url(#clip760)\" style=\"stroke:#000000; stroke-width:4; stroke-opacity:1; fill:none\" points=\"\n",
       "  2232.76,1410.9 2232.76,1233.58 2256.76,1233.58 2232.76,1233.58 2232.76,1030.38 2256.76,1030.38 2232.76,1030.38 2232.76,827.167 2256.76,827.167 2232.76,827.167 \n",
       "  2232.76,623.958 2256.76,623.958 2232.76,623.958 2232.76,420.749 2256.76,420.749 2232.76,420.749 2232.76,217.54 2256.76,217.54 2232.76,217.54 2232.76,47.2441 \n",
       "  \n",
       "  \"/>\n",
       "</svg>\n"
      ]
     },
     "execution_count": 45,
     "metadata": {},
     "output_type": "execute_result"
    }
   ],
   "source": [
    "plot(self_tuning_nn)"
   ]
  },
  {
   "cell_type": "code",
   "execution_count": 46,
   "metadata": {},
   "outputs": [
    {
     "data": {
      "text/plain": [
       "(best_model = \u001b[34mNeuralNetworkClassifier{CustomNN,…} @652\u001b[39m,\n",
       " best_fitted_params = (chain = Chain(Chain(Dense(60, 23, σ), Dense(23, 3, σ)), softmax),),)"
      ]
     },
     "execution_count": 46,
     "metadata": {},
     "output_type": "execute_result"
    }
   ],
   "source": [
    "best = fitted_params(self_tuning_nn)\n",
    "best"
   ]
  },
  {
   "cell_type": "code",
   "execution_count": 47,
   "metadata": {},
   "outputs": [
    {
     "data": {
      "text/plain": [
       "NeuralNetworkClassifier(\n",
       "    builder = CustomNN(\n",
       "            n1 = 23),\n",
       "    finaliser = NNlib.softmax,\n",
       "    optimiser = ADAM(0.0003333333333333333, (0.9, 0.999), IdDict{Any,Any}()),\n",
       "    loss = Flux.crossentropy,\n",
       "    epochs = 1700,\n",
       "    batch_size = 16,\n",
       "    lambda = 0.01,\n",
       "    alpha = 0.0,\n",
       "    optimiser_changes_trigger_retraining = false)\u001b[34m @652\u001b[39m"
      ]
     },
     "execution_count": 47,
     "metadata": {},
     "output_type": "execute_result"
    }
   ],
   "source": [
    "best.best_model"
   ]
  },
  {
   "cell_type": "code",
   "execution_count": 48,
   "metadata": {
    "scrolled": true
   },
   "outputs": [
    {
     "data": {
      "text/plain": [
       "0.65637195f0"
      ]
     },
     "execution_count": 48,
     "metadata": {},
     "output_type": "execute_result"
    }
   ],
   "source": [
    "best_loss = z.report.best_result.measurement[1]"
   ]
  },
  {
   "cell_type": "code",
   "execution_count": 49,
   "metadata": {
    "scrolled": true
   },
   "outputs": [
    {
     "data": {
      "text/plain": [
       "23"
      ]
     },
     "execution_count": 49,
     "metadata": {},
     "output_type": "execute_result"
    }
   ],
   "source": [
    "best_n1 = best.best_model.builder.n1"
   ]
  },
  {
   "cell_type": "code",
   "execution_count": null,
   "metadata": {},
   "outputs": [],
   "source": [
    "fn = \"Figures/Grid_NN_$(param1):$(best.best_model.epochs)_x_$(param2):$(best_n1)_bestloss:$(best_loss)\"\n",
    "f = replace(fn,'.' => ',')\n",
    "png(f)"
   ]
  },
  {
   "cell_type": "markdown",
   "metadata": {},
   "source": [
    "### GridSearch for Learning Rate"
   ]
  },
  {
   "cell_type": "code",
   "execution_count": 50,
   "metadata": {
    "scrolled": true
   },
   "outputs": [
    {
     "data": {
      "text/plain": [
       "NeuralNetworkClassifier(\n",
       "    builder = CustomNN(\n",
       "            n1 = 23),\n",
       "    finaliser = NNlib.softmax,\n",
       "    optimiser = ADAM(0.001, (0.9, 0.999), IdDict{Any,Any}()),\n",
       "    loss = Flux.crossentropy,\n",
       "    epochs = 10,\n",
       "    batch_size = 1,\n",
       "    lambda = 0.0,\n",
       "    alpha = 0.0,\n",
       "    optimiser_changes_trigger_retraining = false)\u001b[34m @237\u001b[39m"
      ]
     },
     "execution_count": 50,
     "metadata": {},
     "output_type": "execute_result"
    }
   ],
   "source": [
    "nn = NeuralNetworkClassifier(builder=CustomNN(best_n1))"
   ]
  },
  {
   "cell_type": "code",
   "execution_count": 51,
   "metadata": {},
   "outputs": [
    {
     "data": {
      "text/plain": [
       "0.01"
      ]
     },
     "execution_count": 51,
     "metadata": {},
     "output_type": "execute_result"
    }
   ],
   "source": [
    "nn.optimiser.eta = 0.001\n",
    "nn.epochs = 60\n",
    "nn.batch_size = batch_sz\n",
    "nn.lambda = 0.01"
   ]
  },
  {
   "cell_type": "code",
   "execution_count": 52,
   "metadata": {},
   "outputs": [
    {
     "data": {
      "text/plain": [
       "\u001b[34mMachine{NeuralNetworkClassifier{CustomNN,…}} @234\u001b[39m trained 0 times.\n",
       "  args: \n",
       "    1:\t\u001b[34mSource @740\u001b[39m ⏎ `Table{AbstractArray{Continuous,1}}`\n",
       "    2:\t\u001b[34mSource @338\u001b[39m ⏎ `AbstractArray{Multiclass{3},1}`\n"
      ]
     },
     "execution_count": 52,
     "metadata": {},
     "output_type": "execute_result"
    }
   ],
   "source": [
    "Net = machine(nn, X_stand, y)"
   ]
  },
  {
   "cell_type": "code",
   "execution_count": 53,
   "metadata": {},
   "outputs": [
    {
     "name": "stderr",
     "output_type": "stream",
     "text": [
      "┌ Info: Training \u001b[34mMachine{NeuralNetworkClassifier{CustomNN,…}} @234\u001b[39m.\n",
      "└ @ MLJBase /home/andrew/.julia/packages/MLJBase/uKzAz/src/machines.jl:319\n",
      "\u001b[33mOptimising neural net:100%[=========================] Time: 0:00:02\u001b[39m\n"
     ]
    },
    {
     "data": {
      "text/plain": [
       "\u001b[34mMachine{NeuralNetworkClassifier{CustomNN,…}} @234\u001b[39m trained 1 time.\n",
       "  args: \n",
       "    1:\t\u001b[34mSource @740\u001b[39m ⏎ `Table{AbstractArray{Continuous,1}}`\n",
       "    2:\t\u001b[34mSource @338\u001b[39m ⏎ `AbstractArray{Multiclass{3},1}`\n"
      ]
     },
     "execution_count": 53,
     "metadata": {},
     "output_type": "execute_result"
    }
   ],
   "source": [
    "fit!(Net, rows=train, verbosity=1, force=true)"
   ]
  },
  {
   "cell_type": "code",
   "execution_count": 54,
   "metadata": {},
   "outputs": [
    {
     "data": {
      "text/plain": [
       "MLJBase.NumericRange(Float64, :(optimiser.eta), ... )"
      ]
     },
     "execution_count": 54,
     "metadata": {},
     "output_type": "execute_result"
    }
   ],
   "source": [
    "param1 = :epochs\n",
    "param2 = :(optimiser.eta)\n",
    "\n",
    "r1 = range(nn, param1, lower=10, upper=4000, scale=:linear)\n",
    "r2 = range(nn, param2, lower=0.0001, upper=0.1, scale=:log10)"
   ]
  },
  {
   "cell_type": "code",
   "execution_count": 55,
   "metadata": {
    "scrolled": true
   },
   "outputs": [
    {
     "data": {
      "text/plain": [
       "ProbabilisticTunedModel(\n",
       "    model = NeuralNetworkClassifier(\n",
       "            builder = \u001b[34mCustomNN @861\u001b[39m,\n",
       "            finaliser = NNlib.softmax,\n",
       "            optimiser = ADAM(0.001, (0.9, 0.999), IdDict{Any,Any}()),\n",
       "            loss = Flux.crossentropy,\n",
       "            epochs = 60,\n",
       "            batch_size = 16,\n",
       "            lambda = 0.01,\n",
       "            alpha = 0.0,\n",
       "            optimiser_changes_trigger_retraining = false),\n",
       "    tuning = Grid(\n",
       "            goal = 50,\n",
       "            resolution = 10,\n",
       "            shuffle = true,\n",
       "            rng = Random._GLOBAL_RNG()),\n",
       "    resampling = Holdout(\n",
       "            fraction_train = 0.7,\n",
       "            shuffle = false,\n",
       "            rng = Random._GLOBAL_RNG()),\n",
       "    measure = cross_entropy(\n",
       "            eps = 2.220446049250313e-16),\n",
       "    weights = nothing,\n",
       "    operation = MLJModelInterface.predict,\n",
       "    range = MLJBase.NumericRange{T,MLJBase.Bounded,Symbol} where T[\u001b[34mNumericRange{Int64,…} @308\u001b[39m, \u001b[34mNumericRange{Float64,…} @856\u001b[39m],\n",
       "    train_best = true,\n",
       "    repeats = 1,\n",
       "    n = nothing,\n",
       "    acceleration = CPUThreads{Int64}(1),\n",
       "    acceleration_resampling = CPU1{Nothing}(nothing),\n",
       "    check_measure = true)\u001b[34m @677\u001b[39m"
      ]
     },
     "execution_count": 55,
     "metadata": {},
     "output_type": "execute_result"
    }
   ],
   "source": [
    "self_tuning_nn_model = TunedModel(model=nn,\n",
    "                                    tuning=Grid(goal=50),\n",
    "                                    resampling=Holdout(fraction_train=0.7), \n",
    "                                    measure=cross_entropy,\n",
    "                                    acceleration=CPUThreads(),\n",
    "                                    range=[r1, r2])"
   ]
  },
  {
   "cell_type": "code",
   "execution_count": 56,
   "metadata": {},
   "outputs": [
    {
     "data": {
      "text/plain": [
       "\u001b[34mMachine{ProbabilisticTunedModel{Grid,…}} @746\u001b[39m trained 0 times.\n",
       "  args: \n",
       "    1:\t\u001b[34mSource @818\u001b[39m ⏎ `Table{AbstractArray{Continuous,1}}`\n",
       "    2:\t\u001b[34mSource @248\u001b[39m ⏎ `AbstractArray{Multiclass{3},1}`\n"
      ]
     },
     "execution_count": 56,
     "metadata": {},
     "output_type": "execute_result"
    }
   ],
   "source": [
    "self_tuning_nn = machine(self_tuning_nn_model, X_stand, y)"
   ]
  },
  {
   "cell_type": "code",
   "execution_count": 57,
   "metadata": {},
   "outputs": [
    {
     "name": "stderr",
     "output_type": "stream",
     "text": [
      "┌ Info: Training \u001b[34mMachine{ProbabilisticTunedModel{Grid,…}} @746\u001b[39m.\n",
      "└ @ MLJBase /home/andrew/.julia/packages/MLJBase/uKzAz/src/machines.jl:319\n",
      "┌ Info: Attempting to evaluate 49 models.\n",
      "└ @ MLJTuning /home/andrew/.julia/packages/MLJTuning/Bbgvk/src/tuned_models.jl:494\n",
      "\u001b[33mEvaluating over 49 metamodels: 100%[=========================] Time: 0:31:17\u001b[39m\n"
     ]
    },
    {
     "data": {
      "text/plain": [
       "\u001b[34mMachine{ProbabilisticTunedModel{Grid,…}} @746\u001b[39m trained 1 time.\n",
       "  args: \n",
       "    1:\t\u001b[34mSource @818\u001b[39m ⏎ `Table{AbstractArray{Continuous,1}}`\n",
       "    2:\t\u001b[34mSource @248\u001b[39m ⏎ `AbstractArray{Multiclass{3},1}`\n"
      ]
     },
     "execution_count": 57,
     "metadata": {},
     "output_type": "execute_result"
    }
   ],
   "source": [
    "z = fit!(self_tuning_nn, rows=train)"
   ]
  },
  {
   "cell_type": "code",
   "execution_count": 58,
   "metadata": {
    "scrolled": false
   },
   "outputs": [
    {
     "data": {
      "image/svg+xml": [
       "<?xml version=\"1.0\" encoding=\"utf-8\"?>\n",
       "<svg xmlns=\"http://www.w3.org/2000/svg\" xmlns:xlink=\"http://www.w3.org/1999/xlink\" width=\"600\" height=\"400\" viewBox=\"0 0 2400 1600\">\n",
       "<defs>\n",
       "  <clipPath id=\"clip800\">\n",
       "    <rect x=\"0\" y=\"0\" width=\"2400\" height=\"1600\"/>\n",
       "  </clipPath>\n",
       "</defs>\n",
       "<path clip-path=\"url(#clip800)\" d=\"\n",
       "M0 1600 L2400 1600 L2400 0 L0 0  Z\n",
       "  \" fill=\"#ffffff\" fill-rule=\"evenodd\" fill-opacity=\"1\"/>\n",
       "<defs>\n",
       "  <clipPath id=\"clip801\">\n",
       "    <rect x=\"480\" y=\"0\" width=\"1681\" height=\"1600\"/>\n",
       "  </clipPath>\n",
       "</defs>\n",
       "<path clip-path=\"url(#clip800)\" d=\"\n",
       "M244.308 1423.18 L2112.76 1423.18 L2112.76 47.2441 L244.308 47.2441  Z\n",
       "  \" fill=\"#ffffff\" fill-rule=\"evenodd\" fill-opacity=\"1\"/>\n",
       "<defs>\n",
       "  <clipPath id=\"clip802\">\n",
       "    <rect x=\"244\" y=\"47\" width=\"1869\" height=\"1377\"/>\n",
       "  </clipPath>\n",
       "</defs>\n",
       "<polyline clip-path=\"url(#clip802)\" style=\"stroke:#000000; stroke-width:2; stroke-opacity:0.1; fill:none\" points=\"\n",
       "  292.771,1423.18 292.771,47.2441 \n",
       "  \"/>\n",
       "<polyline clip-path=\"url(#clip802)\" style=\"stroke:#000000; stroke-width:2; stroke-opacity:0.1; fill:none\" points=\"\n",
       "  734.547,1423.18 734.547,47.2441 \n",
       "  \"/>\n",
       "<polyline clip-path=\"url(#clip802)\" style=\"stroke:#000000; stroke-width:2; stroke-opacity:0.1; fill:none\" points=\"\n",
       "  1176.32,1423.18 1176.32,47.2441 \n",
       "  \"/>\n",
       "<polyline clip-path=\"url(#clip802)\" style=\"stroke:#000000; stroke-width:2; stroke-opacity:0.1; fill:none\" points=\"\n",
       "  1618.1,1423.18 1618.1,47.2441 \n",
       "  \"/>\n",
       "<polyline clip-path=\"url(#clip802)\" style=\"stroke:#000000; stroke-width:2; stroke-opacity:0.1; fill:none\" points=\"\n",
       "  2059.88,1423.18 2059.88,47.2441 \n",
       "  \"/>\n",
       "<polyline clip-path=\"url(#clip802)\" style=\"stroke:#000000; stroke-width:2; stroke-opacity:0.1; fill:none\" points=\"\n",
       "  244.308,1384.24 2112.76,1384.24 \n",
       "  \"/>\n",
       "<polyline clip-path=\"url(#clip802)\" style=\"stroke:#000000; stroke-width:2; stroke-opacity:0.1; fill:none\" points=\"\n",
       "  244.308,951.554 2112.76,951.554 \n",
       "  \"/>\n",
       "<polyline clip-path=\"url(#clip802)\" style=\"stroke:#000000; stroke-width:2; stroke-opacity:0.1; fill:none\" points=\"\n",
       "  244.308,518.87 2112.76,518.87 \n",
       "  \"/>\n",
       "<polyline clip-path=\"url(#clip802)\" style=\"stroke:#000000; stroke-width:2; stroke-opacity:0.1; fill:none\" points=\"\n",
       "  244.308,86.1857 2112.76,86.1857 \n",
       "  \"/>\n",
       "<polyline clip-path=\"url(#clip800)\" style=\"stroke:#000000; stroke-width:4; stroke-opacity:1; fill:none\" points=\"\n",
       "  244.308,1423.18 2112.76,1423.18 \n",
       "  \"/>\n",
       "<polyline clip-path=\"url(#clip800)\" style=\"stroke:#000000; stroke-width:4; stroke-opacity:1; fill:none\" points=\"\n",
       "  244.308,1423.18 244.308,47.2441 \n",
       "  \"/>\n",
       "<polyline clip-path=\"url(#clip800)\" style=\"stroke:#000000; stroke-width:4; stroke-opacity:1; fill:none\" points=\"\n",
       "  292.771,1423.18 292.771,1406.67 \n",
       "  \"/>\n",
       "<polyline clip-path=\"url(#clip800)\" style=\"stroke:#000000; stroke-width:4; stroke-opacity:1; fill:none\" points=\"\n",
       "  734.547,1423.18 734.547,1406.67 \n",
       "  \"/>\n",
       "<polyline clip-path=\"url(#clip800)\" style=\"stroke:#000000; stroke-width:4; stroke-opacity:1; fill:none\" points=\"\n",
       "  1176.32,1423.18 1176.32,1406.67 \n",
       "  \"/>\n",
       "<polyline clip-path=\"url(#clip800)\" style=\"stroke:#000000; stroke-width:4; stroke-opacity:1; fill:none\" points=\"\n",
       "  1618.1,1423.18 1618.1,1406.67 \n",
       "  \"/>\n",
       "<polyline clip-path=\"url(#clip800)\" style=\"stroke:#000000; stroke-width:4; stroke-opacity:1; fill:none\" points=\"\n",
       "  2059.88,1423.18 2059.88,1406.67 \n",
       "  \"/>\n",
       "<polyline clip-path=\"url(#clip800)\" style=\"stroke:#000000; stroke-width:4; stroke-opacity:1; fill:none\" points=\"\n",
       "  244.308,1384.24 266.729,1384.24 \n",
       "  \"/>\n",
       "<polyline clip-path=\"url(#clip800)\" style=\"stroke:#000000; stroke-width:4; stroke-opacity:1; fill:none\" points=\"\n",
       "  244.308,951.554 266.729,951.554 \n",
       "  \"/>\n",
       "<polyline clip-path=\"url(#clip800)\" style=\"stroke:#000000; stroke-width:4; stroke-opacity:1; fill:none\" points=\"\n",
       "  244.308,518.87 266.729,518.87 \n",
       "  \"/>\n",
       "<polyline clip-path=\"url(#clip800)\" style=\"stroke:#000000; stroke-width:4; stroke-opacity:1; fill:none\" points=\"\n",
       "  244.308,86.1857 266.729,86.1857 \n",
       "  \"/>\n",
       "<path clip-path=\"url(#clip800)\" d=\"M 0 0 M292.771 1445.17 Q289.159 1445.17 287.331 1448.74 Q285.525 1452.28 285.525 1459.41 Q285.525 1466.51 287.331 1470.08 Q289.159 1473.62 292.771 1473.62 Q296.405 1473.62 298.21 1470.08 Q300.039 1466.51 300.039 1459.41 Q300.039 1452.28 298.21 1448.74 Q296.405 1445.17 292.771 1445.17 M292.771 1441.47 Q298.581 1441.47 301.636 1446.07 Q304.715 1450.66 304.715 1459.41 Q304.715 1468.13 301.636 1472.74 Q298.581 1477.32 292.771 1477.32 Q286.96 1477.32 283.882 1472.74 Q280.826 1468.13 280.826 1459.41 Q280.826 1450.66 283.882 1446.07 Q286.96 1441.47 292.771 1441.47 Z\" fill=\"#000000\" fill-rule=\"evenodd\" fill-opacity=\"1\" /><path clip-path=\"url(#clip800)\" d=\"M 0 0 M684.408 1472.72 L692.047 1472.72 L692.047 1446.35 L683.737 1448.02 L683.737 1443.76 L692.001 1442.09 L696.677 1442.09 L696.677 1472.72 L704.315 1472.72 L704.315 1476.65 L684.408 1476.65 L684.408 1472.72 Z\" fill=\"#000000\" fill-rule=\"evenodd\" fill-opacity=\"1\" /><path clip-path=\"url(#clip800)\" d=\"M 0 0 M719.385 1445.17 Q715.774 1445.17 713.945 1448.74 Q712.139 1452.28 712.139 1459.41 Q712.139 1466.51 713.945 1470.08 Q715.774 1473.62 719.385 1473.62 Q723.019 1473.62 724.825 1470.08 Q726.653 1466.51 726.653 1459.41 Q726.653 1452.28 724.825 1448.74 Q723.019 1445.17 719.385 1445.17 M719.385 1441.47 Q725.195 1441.47 728.25 1446.07 Q731.329 1450.66 731.329 1459.41 Q731.329 1468.13 728.25 1472.74 Q725.195 1477.32 719.385 1477.32 Q713.575 1477.32 710.496 1472.74 Q707.44 1468.13 707.44 1459.41 Q707.44 1450.66 710.496 1446.07 Q713.575 1441.47 719.385 1441.47 Z\" fill=\"#000000\" fill-rule=\"evenodd\" fill-opacity=\"1\" /><path clip-path=\"url(#clip800)\" d=\"M 0 0 M746.399 1445.17 Q742.787 1445.17 740.959 1448.74 Q739.153 1452.28 739.153 1459.41 Q739.153 1466.51 740.959 1470.08 Q742.787 1473.62 746.399 1473.62 Q750.033 1473.62 751.838 1470.08 Q753.667 1466.51 753.667 1459.41 Q753.667 1452.28 751.838 1448.74 Q750.033 1445.17 746.399 1445.17 M746.399 1441.47 Q752.209 1441.47 755.264 1446.07 Q758.343 1450.66 758.343 1459.41 Q758.343 1468.13 755.264 1472.74 Q752.209 1477.32 746.399 1477.32 Q740.588 1477.32 737.51 1472.74 Q734.454 1468.13 734.454 1459.41 Q734.454 1450.66 737.51 1446.07 Q740.588 1441.47 746.399 1441.47 Z\" fill=\"#000000\" fill-rule=\"evenodd\" fill-opacity=\"1\" /><path clip-path=\"url(#clip800)\" d=\"M 0 0 M773.412 1445.17 Q769.801 1445.17 767.972 1448.74 Q766.167 1452.28 766.167 1459.41 Q766.167 1466.51 767.972 1470.08 Q769.801 1473.62 773.412 1473.62 Q777.046 1473.62 778.852 1470.08 Q780.681 1466.51 780.681 1459.41 Q780.681 1452.28 778.852 1448.74 Q777.046 1445.17 773.412 1445.17 M773.412 1441.47 Q779.222 1441.47 782.278 1446.07 Q785.357 1450.66 785.357 1459.41 Q785.357 1468.13 782.278 1472.74 Q779.222 1477.32 773.412 1477.32 Q767.602 1477.32 764.523 1472.74 Q761.468 1468.13 761.468 1459.41 Q761.468 1450.66 764.523 1446.07 Q767.602 1441.47 773.412 1441.47 Z\" fill=\"#000000\" fill-rule=\"evenodd\" fill-opacity=\"1\" /><path clip-path=\"url(#clip800)\" d=\"M 0 0 M1130.46 1472.72 L1146.77 1472.72 L1146.77 1476.65 L1124.83 1476.65 L1124.83 1472.72 Q1127.49 1469.96 1132.08 1465.33 Q1136.68 1460.68 1137.86 1459.34 Q1140.11 1456.81 1140.99 1455.08 Q1141.89 1453.32 1141.89 1451.63 Q1141.89 1448.87 1139.95 1447.14 Q1138.02 1445.4 1134.92 1445.4 Q1132.72 1445.4 1130.27 1446.17 Q1127.84 1446.93 1125.06 1448.48 L1125.06 1443.76 Q1127.89 1442.62 1130.34 1442.05 Q1132.79 1441.47 1134.83 1441.47 Q1140.2 1441.47 1143.39 1444.15 Q1146.59 1446.84 1146.59 1451.33 Q1146.59 1453.46 1145.78 1455.38 Q1144.99 1457.28 1142.89 1459.87 Q1142.31 1460.54 1139.21 1463.76 Q1136.1 1466.95 1130.46 1472.72 Z\" fill=\"#000000\" fill-rule=\"evenodd\" fill-opacity=\"1\" /><path clip-path=\"url(#clip800)\" d=\"M 0 0 M1161.84 1445.17 Q1158.23 1445.17 1156.4 1448.74 Q1154.6 1452.28 1154.6 1459.41 Q1154.6 1466.51 1156.4 1470.08 Q1158.23 1473.62 1161.84 1473.62 Q1165.48 1473.62 1167.28 1470.08 Q1169.11 1466.51 1169.11 1459.41 Q1169.11 1452.28 1167.28 1448.74 Q1165.48 1445.17 1161.84 1445.17 M1161.84 1441.47 Q1167.65 1441.47 1170.71 1446.07 Q1173.79 1450.66 1173.79 1459.41 Q1173.79 1468.13 1170.71 1472.74 Q1167.65 1477.32 1161.84 1477.32 Q1156.03 1477.32 1152.95 1472.74 Q1149.9 1468.13 1149.9 1459.41 Q1149.9 1450.66 1152.95 1446.07 Q1156.03 1441.47 1161.84 1441.47 Z\" fill=\"#000000\" fill-rule=\"evenodd\" fill-opacity=\"1\" /><path clip-path=\"url(#clip800)\" d=\"M 0 0 M1188.86 1445.17 Q1185.25 1445.17 1183.42 1448.74 Q1181.61 1452.28 1181.61 1459.41 Q1181.61 1466.51 1183.42 1470.08 Q1185.25 1473.62 1188.86 1473.62 Q1192.49 1473.62 1194.3 1470.08 Q1196.13 1466.51 1196.13 1459.41 Q1196.13 1452.28 1194.3 1448.74 Q1192.49 1445.17 1188.86 1445.17 M1188.86 1441.47 Q1194.67 1441.47 1197.72 1446.07 Q1200.8 1450.66 1200.8 1459.41 Q1200.8 1468.13 1197.72 1472.74 Q1194.67 1477.32 1188.86 1477.32 Q1183.05 1477.32 1179.97 1472.74 Q1176.91 1468.13 1176.91 1459.41 Q1176.91 1450.66 1179.97 1446.07 Q1183.05 1441.47 1188.86 1441.47 Z\" fill=\"#000000\" fill-rule=\"evenodd\" fill-opacity=\"1\" /><path clip-path=\"url(#clip800)\" d=\"M 0 0 M1215.87 1445.17 Q1212.26 1445.17 1210.43 1448.74 Q1208.63 1452.28 1208.63 1459.41 Q1208.63 1466.51 1210.43 1470.08 Q1212.26 1473.62 1215.87 1473.62 Q1219.51 1473.62 1221.31 1470.08 Q1223.14 1466.51 1223.14 1459.41 Q1223.14 1452.28 1221.31 1448.74 Q1219.51 1445.17 1215.87 1445.17 M1215.87 1441.47 Q1221.68 1441.47 1224.74 1446.07 Q1227.82 1450.66 1227.82 1459.41 Q1227.82 1468.13 1224.74 1472.74 Q1221.68 1477.32 1215.87 1477.32 Q1210.06 1477.32 1206.98 1472.74 Q1203.93 1468.13 1203.93 1459.41 Q1203.93 1450.66 1206.98 1446.07 Q1210.06 1441.47 1215.87 1441.47 Z\" fill=\"#000000\" fill-rule=\"evenodd\" fill-opacity=\"1\" /><path clip-path=\"url(#clip800)\" d=\"M 0 0 M1581.83 1458.02 Q1585.18 1458.74 1587.06 1461 Q1588.96 1463.27 1588.96 1466.61 Q1588.96 1471.72 1585.44 1474.52 Q1581.92 1477.32 1575.44 1477.32 Q1573.26 1477.32 1570.95 1476.88 Q1568.65 1476.47 1566.2 1475.61 L1566.2 1471.1 Q1568.15 1472.23 1570.46 1472.81 Q1572.78 1473.39 1575.3 1473.39 Q1579.7 1473.39 1581.99 1471.65 Q1584.3 1469.92 1584.3 1466.61 Q1584.3 1463.55 1582.15 1461.84 Q1580.02 1460.1 1576.2 1460.1 L1572.17 1460.1 L1572.17 1456.26 L1576.39 1456.26 Q1579.84 1456.26 1581.66 1454.89 Q1583.49 1453.5 1583.49 1450.91 Q1583.49 1448.25 1581.59 1446.84 Q1579.72 1445.4 1576.2 1445.4 Q1574.28 1445.4 1572.08 1445.82 Q1569.88 1446.24 1567.24 1447.11 L1567.24 1442.95 Q1569.9 1442.21 1572.22 1441.84 Q1574.56 1441.47 1576.62 1441.47 Q1581.94 1441.47 1585.04 1443.9 Q1588.15 1446.3 1588.15 1450.43 Q1588.15 1453.3 1586.5 1455.29 Q1584.86 1457.25 1581.83 1458.02 Z\" fill=\"#000000\" fill-rule=\"evenodd\" fill-opacity=\"1\" /><path clip-path=\"url(#clip800)\" d=\"M 0 0 M1604.03 1445.17 Q1600.41 1445.17 1598.59 1448.74 Q1596.78 1452.28 1596.78 1459.41 Q1596.78 1466.51 1598.59 1470.08 Q1600.41 1473.62 1604.03 1473.62 Q1607.66 1473.62 1609.46 1470.08 Q1611.29 1466.51 1611.29 1459.41 Q1611.29 1452.28 1609.46 1448.74 Q1607.66 1445.17 1604.03 1445.17 M1604.03 1441.47 Q1609.84 1441.47 1612.89 1446.07 Q1615.97 1450.66 1615.97 1459.41 Q1615.97 1468.13 1612.89 1472.74 Q1609.84 1477.32 1604.03 1477.32 Q1598.21 1477.32 1595.14 1472.74 Q1592.08 1468.13 1592.08 1459.41 Q1592.08 1450.66 1595.14 1446.07 Q1598.21 1441.47 1604.03 1441.47 Z\" fill=\"#000000\" fill-rule=\"evenodd\" fill-opacity=\"1\" /><path clip-path=\"url(#clip800)\" d=\"M 0 0 M1631.04 1445.17 Q1627.43 1445.17 1625.6 1448.74 Q1623.79 1452.28 1623.79 1459.41 Q1623.79 1466.51 1625.6 1470.08 Q1627.43 1473.62 1631.04 1473.62 Q1634.67 1473.62 1636.48 1470.08 Q1638.31 1466.51 1638.31 1459.41 Q1638.31 1452.28 1636.48 1448.74 Q1634.67 1445.17 1631.04 1445.17 M1631.04 1441.47 Q1636.85 1441.47 1639.9 1446.07 Q1642.98 1450.66 1642.98 1459.41 Q1642.98 1468.13 1639.9 1472.74 Q1636.85 1477.32 1631.04 1477.32 Q1625.23 1477.32 1622.15 1472.74 Q1619.09 1468.13 1619.09 1459.41 Q1619.09 1450.66 1622.15 1446.07 Q1625.23 1441.47 1631.04 1441.47 Z\" fill=\"#000000\" fill-rule=\"evenodd\" fill-opacity=\"1\" /><path clip-path=\"url(#clip800)\" d=\"M 0 0 M1658.05 1445.17 Q1654.44 1445.17 1652.61 1448.74 Q1650.81 1452.28 1650.81 1459.41 Q1650.81 1466.51 1652.61 1470.08 Q1654.44 1473.62 1658.05 1473.62 Q1661.69 1473.62 1663.49 1470.08 Q1665.32 1466.51 1665.32 1459.41 Q1665.32 1452.28 1663.49 1448.74 Q1661.69 1445.17 1658.05 1445.17 M1658.05 1441.47 Q1663.86 1441.47 1666.92 1446.07 Q1670 1450.66 1670 1459.41 Q1670 1468.13 1666.92 1472.74 Q1663.86 1477.32 1658.05 1477.32 Q1652.24 1477.32 1649.16 1472.74 Q1646.11 1468.13 1646.11 1459.41 Q1646.11 1450.66 1649.16 1446.07 Q1652.24 1441.47 1658.05 1441.47 Z\" fill=\"#000000\" fill-rule=\"evenodd\" fill-opacity=\"1\" /><path clip-path=\"url(#clip800)\" d=\"M 0 0 M2022.36 1446.17 L2010.56 1464.61 L2022.36 1464.61 L2022.36 1446.17 M2021.14 1442.09 L2027.02 1442.09 L2027.02 1464.61 L2031.95 1464.61 L2031.95 1468.5 L2027.02 1468.5 L2027.02 1476.65 L2022.36 1476.65 L2022.36 1468.5 L2006.76 1468.5 L2006.76 1463.99 L2021.14 1442.09 Z\" fill=\"#000000\" fill-rule=\"evenodd\" fill-opacity=\"1\" /><path clip-path=\"url(#clip800)\" d=\"M 0 0 M2047.02 1445.17 Q2043.41 1445.17 2041.58 1448.74 Q2039.77 1452.28 2039.77 1459.41 Q2039.77 1466.51 2041.58 1470.08 Q2043.41 1473.62 2047.02 1473.62 Q2050.65 1473.62 2052.46 1470.08 Q2054.29 1466.51 2054.29 1459.41 Q2054.29 1452.28 2052.46 1448.74 Q2050.65 1445.17 2047.02 1445.17 M2047.02 1441.47 Q2052.83 1441.47 2055.88 1446.07 Q2058.96 1450.66 2058.96 1459.41 Q2058.96 1468.13 2055.88 1472.74 Q2052.83 1477.32 2047.02 1477.32 Q2041.21 1477.32 2038.13 1472.74 Q2035.07 1468.13 2035.07 1459.41 Q2035.07 1450.66 2038.13 1446.07 Q2041.21 1441.47 2047.02 1441.47 Z\" fill=\"#000000\" fill-rule=\"evenodd\" fill-opacity=\"1\" /><path clip-path=\"url(#clip800)\" d=\"M 0 0 M2074.03 1445.17 Q2070.42 1445.17 2068.59 1448.74 Q2066.78 1452.28 2066.78 1459.41 Q2066.78 1466.51 2068.59 1470.08 Q2070.42 1473.62 2074.03 1473.62 Q2077.66 1473.62 2079.47 1470.08 Q2081.3 1466.51 2081.3 1459.41 Q2081.3 1452.28 2079.47 1448.74 Q2077.66 1445.17 2074.03 1445.17 M2074.03 1441.47 Q2079.84 1441.47 2082.9 1446.07 Q2085.97 1450.66 2085.97 1459.41 Q2085.97 1468.13 2082.9 1472.74 Q2079.84 1477.32 2074.03 1477.32 Q2068.22 1477.32 2065.14 1472.74 Q2062.09 1468.13 2062.09 1459.41 Q2062.09 1450.66 2065.14 1446.07 Q2068.22 1441.47 2074.03 1441.47 Z\" fill=\"#000000\" fill-rule=\"evenodd\" fill-opacity=\"1\" /><path clip-path=\"url(#clip800)\" d=\"M 0 0 M2101.04 1445.17 Q2097.43 1445.17 2095.6 1448.74 Q2093.8 1452.28 2093.8 1459.41 Q2093.8 1466.51 2095.6 1470.08 Q2097.43 1473.62 2101.04 1473.62 Q2104.68 1473.62 2106.48 1470.08 Q2108.31 1466.51 2108.31 1459.41 Q2108.31 1452.28 2106.48 1448.74 Q2104.68 1445.17 2101.04 1445.17 M2101.04 1441.47 Q2106.85 1441.47 2109.91 1446.07 Q2112.99 1450.66 2112.99 1459.41 Q2112.99 1468.13 2109.91 1472.74 Q2106.85 1477.32 2101.04 1477.32 Q2095.23 1477.32 2092.16 1472.74 Q2089.1 1468.13 2089.1 1459.41 Q2089.1 1450.66 2092.16 1446.07 Q2095.23 1441.47 2101.04 1441.47 Z\" fill=\"#000000\" fill-rule=\"evenodd\" fill-opacity=\"1\" /><path clip-path=\"url(#clip800)\" d=\"M 0 0 M126.931 1404.03 L134.57 1404.03 L134.57 1377.67 L126.26 1379.33 L126.26 1375.07 L134.524 1373.41 L139.2 1373.41 L139.2 1404.03 L146.839 1404.03 L146.839 1407.97 L126.931 1407.97 L126.931 1404.03 Z\" fill=\"#000000\" fill-rule=\"evenodd\" fill-opacity=\"1\" /><path clip-path=\"url(#clip800)\" d=\"M 0 0 M161.908 1376.48 Q158.297 1376.48 156.468 1380.05 Q154.663 1383.59 154.663 1390.72 Q154.663 1397.83 156.468 1401.39 Q158.297 1404.93 161.908 1404.93 Q165.542 1404.93 167.348 1401.39 Q169.177 1397.83 169.177 1390.72 Q169.177 1383.59 167.348 1380.05 Q165.542 1376.48 161.908 1376.48 M161.908 1372.78 Q167.718 1372.78 170.774 1377.39 Q173.852 1381.97 173.852 1390.72 Q173.852 1399.45 170.774 1404.05 Q167.718 1408.64 161.908 1408.64 Q156.098 1408.64 153.019 1404.05 Q149.964 1399.45 149.964 1390.72 Q149.964 1381.97 153.019 1377.39 Q156.098 1372.78 161.908 1372.78 Z\" fill=\"#000000\" fill-rule=\"evenodd\" fill-opacity=\"1\" /><path clip-path=\"url(#clip800)\" d=\"M 0 0 M173.852 1366.88 L197.964 1366.88 L197.964 1370.08 L173.852 1370.08 L173.852 1366.88 Z\" fill=\"#000000\" fill-rule=\"evenodd\" fill-opacity=\"1\" /><path clip-path=\"url(#clip800)\" d=\"M 0 0 M212.521 1355.79 L202.929 1370.78 L212.521 1370.78 L212.521 1355.79 M211.524 1352.48 L216.302 1352.48 L216.302 1370.78 L220.308 1370.78 L220.308 1373.94 L216.302 1373.94 L216.302 1380.56 L212.521 1380.56 L212.521 1373.94 L199.845 1373.94 L199.845 1370.27 L211.524 1352.48 Z\" fill=\"#000000\" fill-rule=\"evenodd\" fill-opacity=\"1\" /><path clip-path=\"url(#clip800)\" d=\"M 0 0 M127.853 971.347 L135.492 971.347 L135.492 944.981 L127.182 946.648 L127.182 942.388 L135.446 940.722 L140.121 940.722 L140.121 971.347 L147.76 971.347 L147.76 975.282 L127.853 975.282 L127.853 971.347 Z\" fill=\"#000000\" fill-rule=\"evenodd\" fill-opacity=\"1\" /><path clip-path=\"url(#clip800)\" d=\"M 0 0 M162.83 943.8 Q159.219 943.8 157.39 947.365 Q155.584 950.907 155.584 958.036 Q155.584 965.143 157.39 968.708 Q159.219 972.249 162.83 972.249 Q166.464 972.249 168.269 968.708 Q170.098 965.143 170.098 958.036 Q170.098 950.907 168.269 947.365 Q166.464 943.8 162.83 943.8 M162.83 940.097 Q168.64 940.097 171.695 944.703 Q174.774 949.286 174.774 958.036 Q174.774 966.763 171.695 971.37 Q168.64 975.953 162.83 975.953 Q157.02 975.953 153.941 971.37 Q150.885 966.763 150.885 958.036 Q150.885 949.286 153.941 944.703 Q157.02 940.097 162.83 940.097 Z\" fill=\"#000000\" fill-rule=\"evenodd\" fill-opacity=\"1\" /><path clip-path=\"url(#clip800)\" d=\"M 0 0 M174.774 934.198 L198.886 934.198 L198.886 937.395 L174.774 937.395 L174.774 934.198 Z\" fill=\"#000000\" fill-rule=\"evenodd\" fill-opacity=\"1\" /><path clip-path=\"url(#clip800)\" d=\"M 0 0 M214.515 932.731 Q217.242 933.314 218.765 935.157 Q220.308 937 220.308 939.709 Q220.308 943.865 217.449 946.141 Q214.59 948.417 209.324 948.417 Q207.556 948.417 205.675 948.059 Q203.813 947.721 201.82 947.025 L201.82 943.357 Q203.4 944.279 205.28 944.749 Q207.161 945.219 209.211 945.219 Q212.785 945.219 214.647 943.809 Q216.527 942.398 216.527 939.709 Q216.527 937.226 214.778 935.834 Q213.048 934.424 209.945 934.424 L206.672 934.424 L206.672 931.302 L210.095 931.302 Q212.897 931.302 214.383 930.192 Q215.869 929.063 215.869 926.957 Q215.869 924.794 214.327 923.647 Q212.803 922.481 209.945 922.481 Q208.384 922.481 206.597 922.819 Q204.81 923.158 202.666 923.873 L202.666 920.487 Q204.829 919.885 206.71 919.584 Q208.609 919.283 210.283 919.283 Q214.609 919.283 217.129 921.258 Q219.649 923.214 219.649 926.562 Q219.649 928.894 218.314 930.512 Q216.979 932.11 214.515 932.731 Z\" fill=\"#000000\" fill-rule=\"evenodd\" fill-opacity=\"1\" /><path clip-path=\"url(#clip800)\" d=\"M 0 0 M128.624 538.662 L136.263 538.662 L136.263 512.297 L127.953 513.963 L127.953 509.704 L136.217 508.037 L140.893 508.037 L140.893 538.662 L148.531 538.662 L148.531 542.597 L128.624 542.597 L128.624 538.662 Z\" fill=\"#000000\" fill-rule=\"evenodd\" fill-opacity=\"1\" /><path clip-path=\"url(#clip800)\" d=\"M 0 0 M163.601 511.116 Q159.99 511.116 158.161 514.681 Q156.355 518.223 156.355 525.352 Q156.355 532.459 158.161 536.023 Q159.99 539.565 163.601 539.565 Q167.235 539.565 169.041 536.023 Q170.869 532.459 170.869 525.352 Q170.869 518.223 169.041 514.681 Q167.235 511.116 163.601 511.116 M163.601 507.412 Q169.411 507.412 172.467 512.019 Q175.545 516.602 175.545 525.352 Q175.545 534.079 172.467 538.685 Q169.411 543.269 163.601 543.269 Q157.791 543.269 154.712 538.685 Q151.656 534.079 151.656 525.352 Q151.656 516.602 154.712 512.019 Q157.791 507.412 163.601 507.412 Z\" fill=\"#000000\" fill-rule=\"evenodd\" fill-opacity=\"1\" /><path clip-path=\"url(#clip800)\" d=\"M 0 0 M175.545 501.514 L199.657 501.514 L199.657 504.711 L175.545 504.711 L175.545 501.514 Z\" fill=\"#000000\" fill-rule=\"evenodd\" fill-opacity=\"1\" /><path clip-path=\"url(#clip800)\" d=\"M 0 0 M207.048 511.99 L220.308 511.99 L220.308 515.187 L202.478 515.187 L202.478 511.99 Q204.641 509.752 208.365 505.99 Q212.107 502.21 213.067 501.119 Q214.891 499.069 215.606 497.658 Q216.339 496.229 216.339 494.856 Q216.339 492.618 214.759 491.207 Q213.198 489.797 210.678 489.797 Q208.891 489.797 206.898 490.417 Q204.923 491.038 202.666 492.298 L202.666 488.461 Q204.961 487.54 206.954 487.069 Q208.948 486.599 210.603 486.599 Q214.966 486.599 217.562 488.781 Q220.157 490.963 220.157 494.611 Q220.157 496.342 219.499 497.903 Q218.859 499.445 217.148 501.551 Q216.678 502.097 214.158 504.711 Q211.637 507.307 207.048 511.99 Z\" fill=\"#000000\" fill-rule=\"evenodd\" fill-opacity=\"1\" /><path clip-path=\"url(#clip800)\" d=\"M 0 0 M128.323 105.978 L135.962 105.978 L135.962 79.6125 L127.652 81.2792 L127.652 77.0199 L135.916 75.3533 L140.592 75.3533 L140.592 105.978 L148.231 105.978 L148.231 109.913 L128.323 109.913 L128.323 105.978 Z\" fill=\"#000000\" fill-rule=\"evenodd\" fill-opacity=\"1\" /><path clip-path=\"url(#clip800)\" d=\"M 0 0 M163.3 78.432 Q159.689 78.432 157.86 81.9968 Q156.055 85.5384 156.055 92.668 Q156.055 99.7744 157.86 103.339 Q159.689 106.881 163.3 106.881 Q166.934 106.881 168.74 103.339 Q170.568 99.7744 170.568 92.668 Q170.568 85.5384 168.74 81.9968 Q166.934 78.432 163.3 78.432 M163.3 74.7283 Q169.11 74.7283 172.166 79.3347 Q175.244 83.918 175.244 92.668 Q175.244 101.395 172.166 106.001 Q169.11 110.585 163.3 110.585 Q157.49 110.585 154.411 106.001 Q151.356 101.395 151.356 92.668 Q151.356 83.918 154.411 79.3347 Q157.49 74.7283 163.3 74.7283 Z\" fill=\"#000000\" fill-rule=\"evenodd\" fill-opacity=\"1\" /><path clip-path=\"url(#clip800)\" d=\"M 0 0 M175.244 68.8296 L199.356 68.8296 L199.356 72.0269 L175.244 72.0269 L175.244 68.8296 Z\" fill=\"#000000\" fill-rule=\"evenodd\" fill-opacity=\"1\" /><path clip-path=\"url(#clip800)\" d=\"M 0 0 M204.133 79.3056 L210.34 79.3056 L210.34 57.8835 L203.588 59.2377 L203.588 55.777 L210.302 54.4229 L214.101 54.4229 L214.101 79.3056 L220.308 79.3056 L220.308 82.5029 L204.133 82.5029 L204.133 79.3056 Z\" fill=\"#000000\" fill-rule=\"evenodd\" fill-opacity=\"1\" /><path clip-path=\"url(#clip800)\" d=\"M 0 0 M1108.81 1536.76 L1108.81 1539.62 L1081.88 1539.62 Q1082.27 1545.67 1085.51 1548.85 Q1088.79 1552 1094.62 1552 Q1097.99 1552 1101.14 1551.17 Q1104.32 1550.35 1107.44 1548.69 L1107.44 1554.23 Q1104.29 1555.57 1100.98 1556.27 Q1097.67 1556.97 1094.27 1556.97 Q1085.74 1556.97 1080.74 1552 Q1075.77 1547.04 1075.77 1538.57 Q1075.77 1529.82 1080.48 1524.69 Q1085.23 1519.54 1093.25 1519.54 Q1100.44 1519.54 1104.61 1524.18 Q1108.81 1528.8 1108.81 1536.76 M1102.95 1535.04 Q1102.89 1530.23 1100.25 1527.37 Q1097.64 1524.5 1093.31 1524.5 Q1088.41 1524.5 1085.45 1527.27 Q1082.52 1530.04 1082.08 1535.07 L1102.95 1535.04 Z\" fill=\"#000000\" fill-rule=\"evenodd\" fill-opacity=\"1\" /><path clip-path=\"url(#clip800)\" d=\"M 0 0 M1120.62 1550.7 L1120.62 1569.6 L1114.73 1569.6 L1114.73 1520.4 L1120.62 1520.4 L1120.62 1525.81 Q1122.47 1522.62 1125.27 1521.1 Q1128.1 1519.54 1132.01 1519.54 Q1138.51 1519.54 1142.55 1524.69 Q1146.62 1529.85 1146.62 1538.25 Q1146.62 1546.65 1142.55 1551.81 Q1138.51 1556.97 1132.01 1556.97 Q1128.1 1556.97 1125.27 1555.44 Q1122.47 1553.88 1120.62 1550.7 M1140.54 1538.25 Q1140.54 1531.79 1137.87 1528.13 Q1135.23 1524.44 1130.58 1524.44 Q1125.94 1524.44 1123.26 1528.13 Q1120.62 1531.79 1120.62 1538.25 Q1120.62 1544.71 1123.26 1548.4 Q1125.94 1552.07 1130.58 1552.07 Q1135.23 1552.07 1137.87 1548.4 Q1140.54 1544.71 1140.54 1538.25 Z\" fill=\"#000000\" fill-rule=\"evenodd\" fill-opacity=\"1\" /><path clip-path=\"url(#clip800)\" d=\"M 0 0 M1166.58 1524.5 Q1161.87 1524.5 1159.13 1528.19 Q1156.4 1531.85 1156.4 1538.25 Q1156.4 1544.65 1159.1 1548.34 Q1161.84 1552 1166.58 1552 Q1171.26 1552 1174 1548.31 Q1176.73 1544.62 1176.73 1538.25 Q1176.73 1531.92 1174 1528.23 Q1171.26 1524.5 1166.58 1524.5 M1166.58 1519.54 Q1174.22 1519.54 1178.58 1524.5 Q1182.94 1529.47 1182.94 1538.25 Q1182.94 1547 1178.58 1552 Q1174.22 1556.97 1166.58 1556.97 Q1158.91 1556.97 1154.55 1552 Q1150.22 1547 1150.22 1538.25 Q1150.22 1529.47 1154.55 1524.5 Q1158.91 1519.54 1166.58 1519.54 Z\" fill=\"#000000\" fill-rule=\"evenodd\" fill-opacity=\"1\" /><path clip-path=\"url(#clip800)\" d=\"M 0 0 M1214.74 1521.76 L1214.74 1527.24 Q1212.25 1525.87 1209.74 1525.2 Q1207.26 1524.5 1204.71 1524.5 Q1199.01 1524.5 1195.86 1528.13 Q1192.71 1531.73 1192.71 1538.25 Q1192.71 1544.78 1195.86 1548.4 Q1199.01 1552 1204.71 1552 Q1207.26 1552 1209.74 1551.33 Q1212.25 1550.63 1214.74 1549.26 L1214.74 1554.68 Q1212.29 1555.82 1209.64 1556.39 Q1207.03 1556.97 1204.07 1556.97 Q1196.02 1556.97 1191.28 1551.91 Q1186.54 1546.85 1186.54 1538.25 Q1186.54 1529.53 1191.31 1524.53 Q1196.12 1519.54 1204.46 1519.54 Q1207.16 1519.54 1209.74 1520.11 Q1212.32 1520.65 1214.74 1521.76 Z\" fill=\"#000000\" fill-rule=\"evenodd\" fill-opacity=\"1\" /><path clip-path=\"url(#clip800)\" d=\"M 0 0 M1250.51 1534.53 L1250.51 1556.04 L1244.66 1556.04 L1244.66 1534.72 Q1244.66 1529.66 1242.68 1527.14 Q1240.71 1524.63 1236.76 1524.63 Q1232.02 1524.63 1229.28 1527.65 Q1226.55 1530.68 1226.55 1535.9 L1226.55 1556.04 L1220.66 1556.04 L1220.66 1506.52 L1226.55 1506.52 L1226.55 1525.93 Q1228.65 1522.72 1231.48 1521.13 Q1234.34 1519.54 1238.07 1519.54 Q1244.21 1519.54 1247.36 1523.36 Q1250.51 1527.14 1250.51 1534.53 Z\" fill=\"#000000\" fill-rule=\"evenodd\" fill-opacity=\"1\" /><path clip-path=\"url(#clip800)\" d=\"M 0 0 M1279.38 1521.45 L1279.38 1526.98 Q1276.9 1525.71 1274.22 1525.07 Q1271.55 1524.44 1268.69 1524.44 Q1264.33 1524.44 1262.13 1525.77 Q1259.97 1527.11 1259.97 1529.79 Q1259.97 1531.82 1261.52 1533 Q1263.08 1534.15 1267.79 1535.2 L1269.8 1535.64 Q1276.04 1536.98 1278.65 1539.43 Q1281.29 1541.85 1281.29 1546.21 Q1281.29 1551.17 1277.34 1554.07 Q1273.43 1556.97 1266.55 1556.97 Q1263.69 1556.97 1260.57 1556.39 Q1257.48 1555.85 1254.04 1554.74 L1254.04 1548.69 Q1257.29 1550.38 1260.44 1551.24 Q1263.59 1552.07 1266.68 1552.07 Q1270.82 1552.07 1273.05 1550.66 Q1275.27 1549.23 1275.27 1546.65 Q1275.27 1544.27 1273.65 1542.99 Q1272.06 1541.72 1266.62 1540.54 L1264.58 1540.07 Q1259.14 1538.92 1256.72 1536.56 Q1254.3 1534.18 1254.3 1530.04 Q1254.3 1525.01 1257.86 1522.27 Q1261.43 1519.54 1267.99 1519.54 Q1271.23 1519.54 1274.1 1520.01 Q1276.96 1520.49 1279.38 1521.45 Z\" fill=\"#000000\" fill-rule=\"evenodd\" fill-opacity=\"1\" /><path clip-path=\"url(#clip800)\" d=\"M 0 0 M56.4621 905.383 Q56.4621 910.094 60.1542 912.831 Q63.8145 915.568 70.212 915.568 Q76.6095 915.568 80.3017 912.863 Q83.9619 910.126 83.9619 905.383 Q83.9619 900.704 80.2698 897.967 Q76.5777 895.23 70.212 895.23 Q63.8781 895.23 60.186 897.967 Q56.4621 900.704 56.4621 905.383 M51.4968 905.383 Q51.4968 897.744 56.4621 893.384 Q61.4273 889.023 70.212 889.023 Q78.9649 889.023 83.9619 893.384 Q88.9272 897.744 88.9272 905.383 Q88.9272 913.054 83.9619 917.414 Q78.9649 921.743 70.212 921.743 Q61.4273 921.743 56.4621 917.414 Q51.4968 913.054 51.4968 905.383 Z\" fill=\"#000000\" fill-rule=\"evenodd\" fill-opacity=\"1\" /><path clip-path=\"url(#clip800)\" d=\"M 0 0 M82.657 877.215 L101.563 877.215 L101.563 883.103 L52.3562 883.103 L52.3562 877.215 L57.7671 877.215 Q54.5842 875.369 53.0564 872.568 Q51.4968 869.735 51.4968 865.82 Q51.4968 859.327 56.6531 855.285 Q61.8093 851.211 70.212 851.211 Q78.6147 851.211 83.771 855.285 Q88.9272 859.327 88.9272 865.82 Q88.9272 869.735 87.3994 872.568 Q85.8398 875.369 82.657 877.215 M70.212 857.29 Q63.7508 857.29 60.0905 859.964 Q56.3984 862.606 56.3984 867.253 Q56.3984 871.9 60.0905 874.573 Q63.7508 877.215 70.212 877.215 Q76.6732 877.215 80.3653 874.573 Q84.0256 871.9 84.0256 867.253 Q84.0256 862.606 80.3653 859.964 Q76.6732 857.29 70.212 857.29 Z\" fill=\"#000000\" fill-rule=\"evenodd\" fill-opacity=\"1\" /><path clip-path=\"url(#clip800)\" d=\"M 0 0 M42.2347 839.275 L52.3562 839.275 L52.3562 827.212 L56.9077 827.212 L56.9077 839.275 L76.2594 839.275 Q80.6199 839.275 81.8613 838.098 Q83.1026 836.888 83.1026 833.228 L83.1026 827.212 L88.0042 827.212 L88.0042 833.228 Q88.0042 840.007 85.4897 842.586 Q82.9434 845.164 76.2594 845.164 L56.9077 845.164 L56.9077 849.46 L52.3562 849.46 L52.3562 845.164 L42.2347 845.164 L42.2347 839.275 Z\" fill=\"#000000\" fill-rule=\"evenodd\" fill-opacity=\"1\" /><path clip-path=\"url(#clip800)\" d=\"M 0 0 M52.3562 821.069 L52.3562 815.213 L88.0042 815.213 L88.0042 821.069 L52.3562 821.069 M38.479 821.069 L38.479 815.213 L45.895 815.213 L45.895 821.069 L38.479 821.069 Z\" fill=\"#000000\" fill-rule=\"evenodd\" fill-opacity=\"1\" /><path clip-path=\"url(#clip800)\" d=\"M 0 0 M59.1993 781.316 Q55.2526 779.119 53.3747 776.064 Q51.4968 773.008 51.4968 768.871 Q51.4968 763.301 55.4117 760.277 Q59.2948 757.253 66.4881 757.253 L88.0042 757.253 L88.0042 763.142 L66.679 763.142 Q61.5546 763.142 59.072 764.956 Q56.5894 766.77 56.5894 770.494 Q56.5894 775.045 59.6131 777.687 Q62.6368 780.329 67.8567 780.329 L88.0042 780.329 L88.0042 786.217 L66.679 786.217 Q61.5228 786.217 59.072 788.031 Q56.5894 789.846 56.5894 793.633 Q56.5894 798.121 59.6449 800.763 Q62.6686 803.405 67.8567 803.405 L88.0042 803.405 L88.0042 809.293 L52.3562 809.293 L52.3562 803.405 L57.8944 803.405 Q54.616 801.399 53.0564 798.598 Q51.4968 795.798 51.4968 791.946 Q51.4968 788.063 53.4702 785.358 Q55.4436 782.621 59.1993 781.316 Z\" fill=\"#000000\" fill-rule=\"evenodd\" fill-opacity=\"1\" /><path clip-path=\"url(#clip800)\" d=\"M 0 0 M52.3562 751.11 L52.3562 745.254 L88.0042 745.254 L88.0042 751.11 L52.3562 751.11 M38.479 751.11 L38.479 745.254 L45.895 745.254 L45.895 751.11 L38.479 751.11 Z\" fill=\"#000000\" fill-rule=\"evenodd\" fill-opacity=\"1\" /><path clip-path=\"url(#clip800)\" d=\"M 0 0 M53.4065 716.385 L58.9447 716.385 Q57.6716 718.868 57.035 721.542 Q56.3984 724.215 56.3984 727.08 Q56.3984 731.44 57.7352 733.636 Q59.072 735.801 61.7456 735.801 Q63.7826 735.801 64.9603 734.241 Q66.1061 732.682 67.1565 727.971 L67.6021 725.966 Q68.9389 719.727 71.3897 717.117 Q73.8086 714.476 78.1691 714.476 Q83.1344 714.476 86.0308 718.422 Q88.9272 722.337 88.9272 729.212 Q88.9272 732.077 88.3543 735.196 Q87.8132 738.283 86.6992 741.721 L80.6518 741.721 Q82.3387 738.474 83.198 735.323 Q84.0256 732.172 84.0256 729.085 Q84.0256 724.947 82.6251 722.719 Q81.1929 720.491 78.6147 720.491 Q76.2276 720.491 74.9545 722.115 Q73.6813 723.706 72.5037 729.149 L72.0262 731.186 Q70.8804 736.628 68.5251 739.047 Q66.138 741.466 62.0002 741.466 Q56.9713 741.466 54.2341 737.901 Q51.4968 734.337 51.4968 727.78 Q51.4968 724.533 51.9743 721.669 Q52.4517 718.804 53.4065 716.385 Z\" fill=\"#000000\" fill-rule=\"evenodd\" fill-opacity=\"1\" /><path clip-path=\"url(#clip800)\" d=\"M 0 0 M68.7161 677.841 L71.5806 677.841 L71.5806 704.768 Q77.6281 704.386 80.8109 701.14 Q83.9619 697.861 83.9619 692.037 Q83.9619 688.663 83.1344 685.512 Q82.3069 682.329 80.6518 679.21 L86.1899 679.21 Q87.5267 682.361 88.227 685.671 Q88.9272 688.981 88.9272 692.387 Q88.9272 700.917 83.9619 705.914 Q78.9967 710.879 70.5303 710.879 Q61.7774 710.879 56.6531 706.168 Q51.4968 701.426 51.4968 693.405 Q51.4968 686.212 56.1438 682.042 Q60.7589 677.841 68.7161 677.841 M66.9973 683.697 Q62.1912 683.761 59.3266 686.403 Q56.4621 689.013 56.4621 693.342 Q56.4621 698.243 59.2312 701.203 Q62.0002 704.131 67.0292 704.577 L66.9973 683.697 Z\" fill=\"#000000\" fill-rule=\"evenodd\" fill-opacity=\"1\" /><path clip-path=\"url(#clip800)\" d=\"M 0 0 M57.8307 651.041 Q57.2578 652.028 57.0032 653.206 Q56.7167 654.352 56.7167 655.752 Q56.7167 660.717 59.9632 663.391 Q63.1779 666.033 69.2253 666.033 L88.0042 666.033 L88.0042 671.921 L52.3562 671.921 L52.3562 666.033 L57.8944 666.033 Q54.6479 664.187 53.0883 661.227 Q51.4968 658.266 51.4968 654.033 Q51.4968 653.429 51.5923 652.696 Q51.656 651.964 51.8151 651.073 L57.8307 651.041 Z\" fill=\"#000000\" fill-rule=\"evenodd\" fill-opacity=\"1\" /><path clip-path=\"url(#clip800)\" d=\"M 0 0 M79.9197 650.055 L79.9197 643.339 L88.0042 643.339 L88.0042 650.055 L79.9197 650.055 Z\" fill=\"#000000\" fill-rule=\"evenodd\" fill-opacity=\"1\" /><path clip-path=\"url(#clip800)\" d=\"M 0 0 M68.7161 606.704 L71.5806 606.704 L71.5806 633.631 Q77.6281 633.249 80.8109 630.003 Q83.9619 626.724 83.9619 620.9 Q83.9619 617.526 83.1344 614.375 Q82.3069 611.192 80.6518 608.073 L86.1899 608.073 Q87.5267 611.224 88.227 614.534 Q88.9272 617.844 88.9272 621.25 Q88.9272 629.78 83.9619 634.777 Q78.9967 639.742 70.5303 639.742 Q61.7774 639.742 56.6531 635.032 Q51.4968 630.289 51.4968 622.268 Q51.4968 615.075 56.1438 610.906 Q60.7589 606.704 68.7161 606.704 M66.9973 612.561 Q62.1912 612.624 59.3266 615.266 Q56.4621 617.876 56.4621 622.205 Q56.4621 627.106 59.2312 630.066 Q62.0002 632.995 67.0292 633.44 L66.9973 612.561 Z\" fill=\"#000000\" fill-rule=\"evenodd\" fill-opacity=\"1\" /><path clip-path=\"url(#clip800)\" d=\"M 0 0 M42.2347 594.769 L52.3562 594.769 L52.3562 582.706 L56.9077 582.706 L56.9077 594.769 L76.2594 594.769 Q80.6199 594.769 81.8613 593.591 Q83.1026 592.381 83.1026 588.721 L83.1026 582.706 L88.0042 582.706 L88.0042 588.721 Q88.0042 595.501 85.4897 598.079 Q82.9434 600.657 76.2594 600.657 L56.9077 600.657 L56.9077 604.954 L52.3562 604.954 L52.3562 600.657 L42.2347 600.657 L42.2347 594.769 Z\" fill=\"#000000\" fill-rule=\"evenodd\" fill-opacity=\"1\" /><path clip-path=\"url(#clip800)\" d=\"M 0 0 M70.0847 560.362 Q70.0847 567.46 71.7079 570.197 Q73.3312 572.934 77.2461 572.934 Q80.3653 572.934 82.2114 570.897 Q84.0256 568.828 84.0256 565.295 Q84.0256 560.426 80.5881 557.497 Q77.1188 554.537 71.3897 554.537 L70.0847 554.537 L70.0847 560.362 M67.6657 548.681 L88.0042 548.681 L88.0042 554.537 L82.5933 554.537 Q85.8398 556.542 87.3994 559.534 Q88.9272 562.526 88.9272 566.855 Q88.9272 572.329 85.8716 575.576 Q82.7843 578.791 77.6281 578.791 Q71.6125 578.791 68.5569 574.78 Q65.5014 570.738 65.5014 562.749 L65.5014 554.537 L64.9285 554.537 Q60.8862 554.537 58.6901 557.211 Q56.4621 559.853 56.4621 564.659 Q56.4621 567.714 57.1941 570.611 Q57.9262 573.507 59.3903 576.181 L53.9795 576.181 Q52.7381 572.966 52.1334 569.942 Q51.4968 566.919 51.4968 564.054 Q51.4968 556.32 55.5072 552.5 Q59.5176 548.681 67.6657 548.681 Z\" fill=\"#000000\" fill-rule=\"evenodd\" fill-opacity=\"1\" /><circle clip-path=\"url(#clip802)\" cx=\"2059.88\" cy=\"1384.24\" r=\"8\" fill=\"#10092f\" fill-rule=\"evenodd\" fill-opacity=\"1\" stroke=\"#000000\" stroke-opacity=\"1\" stroke-width=\"3.2\"/>\n",
       "<circle clip-path=\"url(#clip802)\" cx=\"2059.88\" cy=\"1167.9\" r=\"8\" fill=\"#10092f\" fill-rule=\"evenodd\" fill-opacity=\"1\" stroke=\"#000000\" stroke-opacity=\"1\" stroke-width=\"3.2\"/>\n",
       "<circle clip-path=\"url(#clip802)\" cx=\"297.188\" cy=\"86.1857\" r=\"17\" fill=\"#490b6a\" fill-rule=\"evenodd\" fill-opacity=\"1\" stroke=\"#000000\" stroke-opacity=\"1\" stroke-width=\"3.2\"/>\n",
       "<circle clip-path=\"url(#clip802)\" cx=\"1766.09\" cy=\"86.1857\" r=\"15\" fill=\"#3e0965\" fill-rule=\"evenodd\" fill-opacity=\"1\" stroke=\"#000000\" stroke-opacity=\"1\" stroke-width=\"3.2\"/>\n",
       "<circle clip-path=\"url(#clip802)\" cx=\"1766.09\" cy=\"1167.9\" r=\"15\" fill=\"#3e0965\" fill-rule=\"evenodd\" fill-opacity=\"1\" stroke=\"#000000\" stroke-opacity=\"1\" stroke-width=\"3.2\"/>\n",
       "<circle clip-path=\"url(#clip802)\" cx=\"297.188\" cy=\"951.554\" r=\"32\" fill=\"#b43358\" fill-rule=\"evenodd\" fill-opacity=\"1\" stroke=\"#000000\" stroke-opacity=\"1\" stroke-width=\"3.2\"/>\n",
       "<circle clip-path=\"url(#clip802)\" cx=\"1766.09\" cy=\"951.554\" r=\"8\" fill=\"#0e092b\" fill-rule=\"evenodd\" fill-opacity=\"1\" stroke=\"#000000\" stroke-opacity=\"1\" stroke-width=\"3.2\"/>\n",
       "<circle clip-path=\"url(#clip802)\" cx=\"2059.88\" cy=\"951.554\" r=\"8\" fill=\"#0f092d\" fill-rule=\"evenodd\" fill-opacity=\"1\" stroke=\"#000000\" stroke-opacity=\"1\" stroke-width=\"3.2\"/>\n",
       "<circle clip-path=\"url(#clip802)\" cx=\"1178.53\" cy=\"1167.9\" r=\"9\" fill=\"#130a34\" fill-rule=\"evenodd\" fill-opacity=\"1\" stroke=\"#000000\" stroke-opacity=\"1\" stroke-width=\"3.2\"/>\n",
       "<circle clip-path=\"url(#clip802)\" cx=\"590.969\" cy=\"735.212\" r=\"7\" fill=\"#0c0726\" fill-rule=\"evenodd\" fill-opacity=\"1\" stroke=\"#000000\" stroke-opacity=\"1\" stroke-width=\"3.2\"/>\n",
       "<circle clip-path=\"url(#clip802)\" cx=\"1178.53\" cy=\"86.1857\" r=\"13\" fill=\"#31095c\" fill-rule=\"evenodd\" fill-opacity=\"1\" stroke=\"#000000\" stroke-opacity=\"1\" stroke-width=\"3.2\"/>\n",
       "<circle clip-path=\"url(#clip802)\" cx=\"1178.53\" cy=\"518.87\" r=\"13\" fill=\"#31095c\" fill-rule=\"evenodd\" fill-opacity=\"1\" stroke=\"#000000\" stroke-opacity=\"1\" stroke-width=\"3.2\"/>\n",
       "<circle clip-path=\"url(#clip802)\" cx=\"884.751\" cy=\"518.87\" r=\"9\" fill=\"#140a35\" fill-rule=\"evenodd\" fill-opacity=\"1\" stroke=\"#000000\" stroke-opacity=\"1\" stroke-width=\"3.2\"/>\n",
       "<circle clip-path=\"url(#clip802)\" cx=\"884.751\" cy=\"1167.9\" r=\"9\" fill=\"#140a35\" fill-rule=\"evenodd\" fill-opacity=\"1\" stroke=\"#000000\" stroke-opacity=\"1\" stroke-width=\"3.2\"/>\n",
       "<circle clip-path=\"url(#clip802)\" cx=\"1472.31\" cy=\"86.1857\" r=\"13\" fill=\"#31095c\" fill-rule=\"evenodd\" fill-opacity=\"1\" stroke=\"#000000\" stroke-opacity=\"1\" stroke-width=\"3.2\"/>\n",
       "<circle clip-path=\"url(#clip802)\" cx=\"884.751\" cy=\"302.528\" r=\"9\" fill=\"#160b39\" fill-rule=\"evenodd\" fill-opacity=\"1\" stroke=\"#000000\" stroke-opacity=\"1\" stroke-width=\"3.2\"/>\n",
       "<circle clip-path=\"url(#clip802)\" cx=\"590.969\" cy=\"86.1857\" r=\"9\" fill=\"#140a35\" fill-rule=\"evenodd\" fill-opacity=\"1\" stroke=\"#000000\" stroke-opacity=\"1\" stroke-width=\"3.2\"/>\n",
       "<circle clip-path=\"url(#clip802)\" cx=\"2059.88\" cy=\"518.87\" r=\"11\" fill=\"#210b4b\" fill-rule=\"evenodd\" fill-opacity=\"1\" stroke=\"#000000\" stroke-opacity=\"1\" stroke-width=\"3.2\"/>\n",
       "<circle clip-path=\"url(#clip802)\" cx=\"590.969\" cy=\"951.554\" r=\"10\" fill=\"#1d0c44\" fill-rule=\"evenodd\" fill-opacity=\"1\" stroke=\"#000000\" stroke-opacity=\"1\" stroke-width=\"3.2\"/>\n",
       "<circle clip-path=\"url(#clip802)\" cx=\"297.188\" cy=\"1167.9\" r=\"53\" fill=\"#fac127\" fill-rule=\"evenodd\" fill-opacity=\"1\" stroke=\"#000000\" stroke-opacity=\"1\" stroke-width=\"3.2\"/>\n",
       "<circle clip-path=\"url(#clip802)\" cx=\"1766.09\" cy=\"1384.24\" r=\"3\" fill=\"#000003\" fill-rule=\"evenodd\" fill-opacity=\"1\" stroke=\"#000000\" stroke-opacity=\"1\" stroke-width=\"3.2\"/>\n",
       "<circle clip-path=\"url(#clip802)\" cx=\"1178.53\" cy=\"735.212\" r=\"11\" fill=\"#220b4c\" fill-rule=\"evenodd\" fill-opacity=\"1\" stroke=\"#000000\" stroke-opacity=\"1\" stroke-width=\"3.2\"/>\n",
       "<circle clip-path=\"url(#clip802)\" cx=\"2059.88\" cy=\"86.1857\" r=\"9\" fill=\"#170b3a\" fill-rule=\"evenodd\" fill-opacity=\"1\" stroke=\"#000000\" stroke-opacity=\"1\" stroke-width=\"3.2\"/>\n",
       "<circle clip-path=\"url(#clip802)\" cx=\"1766.09\" cy=\"518.87\" r=\"8\" fill=\"#10092f\" fill-rule=\"evenodd\" fill-opacity=\"1\" stroke=\"#000000\" stroke-opacity=\"1\" stroke-width=\"3.2\"/>\n",
       "<circle clip-path=\"url(#clip802)\" cx=\"884.751\" cy=\"86.1857\" r=\"12\" fill=\"#260b51\" fill-rule=\"evenodd\" fill-opacity=\"1\" stroke=\"#000000\" stroke-opacity=\"1\" stroke-width=\"3.2\"/>\n",
       "<circle clip-path=\"url(#clip802)\" cx=\"590.969\" cy=\"302.528\" r=\"7\" fill=\"#090622\" fill-rule=\"evenodd\" fill-opacity=\"1\" stroke=\"#000000\" stroke-opacity=\"1\" stroke-width=\"3.2\"/>\n",
       "<circle clip-path=\"url(#clip802)\" cx=\"2059.88\" cy=\"735.212\" r=\"8\" fill=\"#110930\" fill-rule=\"evenodd\" fill-opacity=\"1\" stroke=\"#000000\" stroke-opacity=\"1\" stroke-width=\"3.2\"/>\n",
       "<circle clip-path=\"url(#clip802)\" cx=\"297.188\" cy=\"1384.24\" r=\"61\" fill=\"#fcfea4\" fill-rule=\"evenodd\" fill-opacity=\"1\" stroke=\"#000000\" stroke-opacity=\"1\" stroke-width=\"3.2\"/>\n",
       "<circle clip-path=\"url(#clip802)\" cx=\"297.188\" cy=\"518.87\" r=\"61\" fill=\"#fcfea4\" fill-rule=\"evenodd\" fill-opacity=\"1\" stroke=\"#000000\" stroke-opacity=\"1\" stroke-width=\"3.2\"/>\n",
       "<circle clip-path=\"url(#clip802)\" cx=\"884.751\" cy=\"1384.24\" r=\"8\" fill=\"#0f092c\" fill-rule=\"evenodd\" fill-opacity=\"1\" stroke=\"#000000\" stroke-opacity=\"1\" stroke-width=\"3.2\"/>\n",
       "<circle clip-path=\"url(#clip802)\" cx=\"1472.31\" cy=\"951.554\" r=\"9\" fill=\"#150b38\" fill-rule=\"evenodd\" fill-opacity=\"1\" stroke=\"#000000\" stroke-opacity=\"1\" stroke-width=\"3.2\"/>\n",
       "<circle clip-path=\"url(#clip802)\" cx=\"1178.53\" cy=\"302.528\" r=\"9\" fill=\"#140a35\" fill-rule=\"evenodd\" fill-opacity=\"1\" stroke=\"#000000\" stroke-opacity=\"1\" stroke-width=\"3.2\"/>\n",
       "<circle clip-path=\"url(#clip802)\" cx=\"297.188\" cy=\"735.212\" r=\"23\" fill=\"#741a6d\" fill-rule=\"evenodd\" fill-opacity=\"1\" stroke=\"#000000\" stroke-opacity=\"1\" stroke-width=\"3.2\"/>\n",
       "<circle clip-path=\"url(#clip802)\" cx=\"884.751\" cy=\"735.212\" r=\"6\" fill=\"#06041a\" fill-rule=\"evenodd\" fill-opacity=\"1\" stroke=\"#000000\" stroke-opacity=\"1\" stroke-width=\"3.2\"/>\n",
       "<circle clip-path=\"url(#clip802)\" cx=\"1178.53\" cy=\"951.554\" r=\"6\" fill=\"#050419\" fill-rule=\"evenodd\" fill-opacity=\"1\" stroke=\"#000000\" stroke-opacity=\"1\" stroke-width=\"3.2\"/>\n",
       "<circle clip-path=\"url(#clip802)\" cx=\"2059.88\" cy=\"302.528\" r=\"6\" fill=\"#06041a\" fill-rule=\"evenodd\" fill-opacity=\"1\" stroke=\"#000000\" stroke-opacity=\"1\" stroke-width=\"3.2\"/>\n",
       "<circle clip-path=\"url(#clip802)\" cx=\"297.188\" cy=\"302.528\" r=\"11\" fill=\"#1e0c46\" fill-rule=\"evenodd\" fill-opacity=\"1\" stroke=\"#000000\" stroke-opacity=\"1\" stroke-width=\"3.2\"/>\n",
       "<circle clip-path=\"url(#clip802)\" cx=\"1472.31\" cy=\"735.212\" r=\"12\" fill=\"#2a0a55\" fill-rule=\"evenodd\" fill-opacity=\"1\" stroke=\"#000000\" stroke-opacity=\"1\" stroke-width=\"3.2\"/>\n",
       "<circle clip-path=\"url(#clip802)\" cx=\"1766.09\" cy=\"735.212\" r=\"13\" fill=\"#2c0a58\" fill-rule=\"evenodd\" fill-opacity=\"1\" stroke=\"#000000\" stroke-opacity=\"1\" stroke-width=\"3.2\"/>\n",
       "<circle clip-path=\"url(#clip802)\" cx=\"590.969\" cy=\"1167.9\" r=\"7\" fill=\"#08051e\" fill-rule=\"evenodd\" fill-opacity=\"1\" stroke=\"#000000\" stroke-opacity=\"1\" stroke-width=\"3.2\"/>\n",
       "<circle clip-path=\"url(#clip802)\" cx=\"1472.31\" cy=\"302.528\" r=\"11\" fill=\"#1e0c46\" fill-rule=\"evenodd\" fill-opacity=\"1\" stroke=\"#000000\" stroke-opacity=\"1\" stroke-width=\"3.2\"/>\n",
       "<circle clip-path=\"url(#clip802)\" cx=\"1766.09\" cy=\"302.528\" r=\"10\" fill=\"#190b3e\" fill-rule=\"evenodd\" fill-opacity=\"1\" stroke=\"#000000\" stroke-opacity=\"1\" stroke-width=\"3.2\"/>\n",
       "<circle clip-path=\"url(#clip802)\" cx=\"590.969\" cy=\"1384.24\" r=\"17\" fill=\"#480b6a\" fill-rule=\"evenodd\" fill-opacity=\"1\" stroke=\"#000000\" stroke-opacity=\"1\" stroke-width=\"3.2\"/>\n",
       "<circle clip-path=\"url(#clip802)\" cx=\"1472.31\" cy=\"518.87\" r=\"9\" fill=\"#120a32\" fill-rule=\"evenodd\" fill-opacity=\"1\" stroke=\"#000000\" stroke-opacity=\"1\" stroke-width=\"3.2\"/>\n",
       "<circle clip-path=\"url(#clip802)\" cx=\"590.969\" cy=\"518.87\" r=\"9\" fill=\"#120a32\" fill-rule=\"evenodd\" fill-opacity=\"1\" stroke=\"#000000\" stroke-opacity=\"1\" stroke-width=\"3.2\"/>\n",
       "<circle clip-path=\"url(#clip802)\" cx=\"1178.53\" cy=\"1384.24\" r=\"8\" fill=\"#0f092c\" fill-rule=\"evenodd\" fill-opacity=\"1\" stroke=\"#000000\" stroke-opacity=\"1\" stroke-width=\"3.2\"/>\n",
       "<circle clip-path=\"url(#clip802)\" cx=\"1472.31\" cy=\"1384.24\" r=\"8\" fill=\"#0e082b\" fill-rule=\"evenodd\" fill-opacity=\"1\" stroke=\"#000000\" stroke-opacity=\"1\" stroke-width=\"3.2\"/>\n",
       "<circle clip-path=\"url(#clip802)\" cx=\"1472.31\" cy=\"1167.9\" r=\"8\" fill=\"#0e082b\" fill-rule=\"evenodd\" fill-opacity=\"1\" stroke=\"#000000\" stroke-opacity=\"1\" stroke-width=\"3.2\"/>\n",
       "<circle clip-path=\"url(#clip802)\" cx=\"884.751\" cy=\"951.554\" r=\"8\" fill=\"#0f092c\" fill-rule=\"evenodd\" fill-opacity=\"1\" stroke=\"#000000\" stroke-opacity=\"1\" stroke-width=\"3.2\"/>\n",
       "<defs>\n",
       "  <clipPath id=\"clip803\">\n",
       "    <rect x=\"2160\" y=\"47\" width=\"73\" height=\"1377\"/>\n",
       "  </clipPath>\n",
       "</defs>\n",
       "<g clip-path=\"url(#clip803)\">\n",
       "<image width=\"72\" height=\"1376\" xlink:href=\"data:image/png;base64,\n",
       "iVBORw0KGgoAAAANSUhEUgAAAEgAAAVgCAYAAADsKhu7AAAL6UlEQVR4nO3dwZEjNxBFQVBR/lsh\n",
       "L6UFZIHqHclDpgUTL35wCXTP7Off+/c7/K+/vv0D/DqBgkBBoCBQmPv+/fbP8NMsKAgUBAoChXnv\n",
       "z7d/hp9mQUGgIFAQKAgUHDWCBQWBgkBBoDDPh/TKgoJAQaAgUJh3fUhvLCgIFAQKAgWBgqNGsKAg\n",
       "UBAoCBR8SAcLCgIFgYJAwX1QsKAgUBAoCBQECnMcNVYWFAQKAgWBgvugYEFBoCBQECgIFOa4MFtZ\n",
       "UBAoCBQECnPuP9/+GX6aBQWBgkBBoODSPlhQECgIFAQKAgX3QcGCgkBBoCBQ8CEdLCgIFAQKAgX3\n",
       "QcGCgkBBoCBQECjMx1FjZUFBoCBQECjMuf5XhI0FBYGCQEGgIFBw1AgWFAQKAgWBgqNGsKAgUBAo\n",
       "CBS8HxQsKAgUBAoCBYHCfBw1VhYUBAoCBYGCt1yDBQWBgkBBoOCbdLCgIFAQKAgUBAoePQcLCgIF\n",
       "gYJAwVEjWFAQKAgUBAoCBUeNYEFBoCBQECg4agQLCgIFgYJAYc693/4ZfpoFBYGCQEGgIFBw1AgW\n",
       "FAQKAgWBgkv7YEFBoCBQECj4kA4WFAQKAgWBgkBhPp5qrCwoCBQECgIFR41gQUGgIFAQKAgUvEAV\n",
       "LCgIFAQKAgX3QcGCgkBBoCBQcB8ULCgIFAQKAgWBgvugYEFBoCBQECj4kA4WFAQKAgWBgl/qDRYU\n",
       "BAoCBYGCQMFRI1hQECgIFAQKPqSDBQWBgkBBoCBQ8K9YsKAgUBAoCBR8SAcLCgIFgYJAYc7zIb2x\n",
       "oCBQECgIFAQKjhrBgoJAQaAgUPAhHSwoCBQECgIFH9LBgoJAQaAgUBAozLnv2z/DT7OgIFAQKAgU\n",
       "HDWCBQWBgkBBoCBQcNQIFhQECgIFgYKjRrCgIFAQKAgUfJMOFhQECgIFgYJAYY6TxsqCgkBBoCBQ\n",
       "mPMcNTYWFAQKAgWBgm/SwYKCQEGgIFAQKPhXLFhQECgIFAQK44/g7SwoCBQECgIFgYKjRrCgIFAQ\n",
       "KAgUfEgHCwoCBYGCQGHO/Xz7Z/hpFhQECgIFgYJAYd7zr9jGgoJAQaAgUHAfFCwoCBQECgIF90HB\n",
       "goJAQaAgUBAozLsabdQJAgWBgkDBUSNYUBAoCBQECgKFOR49rywoCBQECgKFeY4aKwsKAgWBgkBh\n",
       "jkv7lTpBoCBQECgIFBw1ggUFgYJAQaDg0j5YUBAoCBQECl7iDOoEgYJAQaAgUPCWa7CgIFAQKAgU\n",
       "XNoHCwoCBYGCQEGgMO9ptFEnCBQECgIF90HBgoJAQaAgUHAfFCwoCBQECgIFgcIc90ErdYJAQaAg\n",
       "UHDUCBYUBAoCBYGCD+lgQUGgIFAQKAgU/NZzsKAgUBAoCBT81nNQJwgUBAoCBYHCPEeNlQUFgYJA\n",
       "QaDgqUawoCBQECgIFPyvCEGdIFAQKAgUBArug4IFBYGCQEGg4D4oWFAQKAgUBAq+SQcLCgIFgYJA\n",
       "QaDgLdegThAoCBQECo4awYKCQEGgIFAQKHiqESwoCBQECgIFR41gQUGgIFAQKPiva4IFBYGCQEGg\n",
       "IFDwv2QGdYJAQaAgUHAfFCwoCBQECgIFT1aDBQWBgkBBoCBQcNQIFhQECgIFgcJcH9IrCwoCBYGC\n",
       "QEGg4LeegzpBoCBQECi4DwoWFAQKAgWBgg/pYEFBoCBQECgIFLxAFSwoCBQECgIFR41gQUGgIFAQ\n",
       "KPiQDhYUBAoCBYGCQMGfpgjqBIGCQEGgMNel/cqCgkBBoCBQECi4MAsWFAQKAgWBgg/pYEFBoCBQ\n",
       "ECj4kA4WFAQKAgWBgkDBH1gKFhQECgIFgYKjRrCgIFAQKAgUfEgHCwoCBYGCQEGg4FcRgjpBoCBQ\n",
       "ECj4VYRgQUGgIFAQKAgUXJgFCwoCBYGCQMGHdLCgIFAQKAgUvMQZLCgIFAQKAgWBgqNGsKAgUBAo\n",
       "CBTmHR/SGwsKAgWBgkDBfVCwoCBQECgIFAQK7oOCBQWBgkBBoOCoESwoCBQECgIFgYKjRrCgIFAQ\n",
       "KAgUHDWCBQWBgkBBoOCbdLCgIFAQKAgUBAr+FQsWFAQKAgWBwly/irCyoCBQECgIFHyTDhYUBAoC\n",
       "BYGCQMGj52BBQaAgUBAozHvf/hF+mwUFgYJAQaAgUHDUCBYUBAoCBYGCv4IXLCgIFAQKAgXfpIMF\n",
       "BYGCQEGgIFDwAlWwoCBQECgIFPwqQrCgIFAQKAgUvB8ULCgIFAQKAgWBgqcawYKCQEGgIFBwaR8s\n",
       "KAgUBAoCBYGCpxrBgoJAQaAgUHAfFCwoCBQECgIFj56DBQWBgkBBoCBQcB8ULCgIFAQKAgWPnoMF\n",
       "BYGCQEGgMPfbP8GPs6AgUBAoCBQECo4awYKCQEGgIFDwflCwoCBQECgIFAQKLsyCBQWBgkBBoOA+\n",
       "KFhQECgIFAQKvkkHCwoCBYGCQEGg4KgRLCgIFAQKAgWPnoMFBYGCQEGgMP4yxc6CgkBBoCBQECg4\n",
       "agQLCgIFgYJAwaPnYEFBoCBQECgIFDx6DhYUBAoCBYGCo0awoCBQECgIFHyTDhYUBAoCBYGCQGGu\n",
       "N6hWFhQECgIFgYL7oGBBQaAgUBAouA8KFhQECgIFgYJAwVEjWFAQKAgUBArzXNqvLCgIFAQKAgWB\n",
       "wtzjwmxjQUGgIFAQKHg/KFhQECgIFAQK/gpesKAgUBAoCBQECv4KXrCgIFAQKAgUPHoOFhQECgIF\n",
       "gYKXOIMFBYGCQEGgIFDwC3XBgoJAQaAgUHDUCBYUBAoCBYGCQMFbrsGCgkBBoCBQ8JZrsKAgUBAo\n",
       "CBR8kw4WFAQKAgWBgkDBW67BgoJAQaAgUPD3g4IFBYGCQEGg4D4oWFAQKAgUBAoCBY+egwUFgYJA\n",
       "QaDgqBEsKAgUBAoCBYGCo0awoCBQECgIFBw1ggUFgYJAQaDgQzpYUBAoCBQECgIF90HBgoJAQaAg\n",
       "UHDUCBYUBAoCBYGCb9LBgoJAQaAgUBAoOGoECwoCBYGCQMHfDwoWFAQKAgWBgkDB/+0TLCgIFAQK\n",
       "AgX3QcGCgkBBoCBQmHd8Sm8sKAgUBAoCBYGCo0awoCBQECgIFDx6DhYUBAoCBYGCJ6vBgoJAQaAg\n",
       "UBAouA8KFhQECgIFgYJHz8GCgkBBoCBQECg4agQLCgIFgYJAwR9YChYUBAoCBYHCXC8IrSwoCBQE\n",
       "CgIFgYIXqIIFBYGCQEGgMM9RY2VBQaAgUBAo+CYdLCgIFAQKAgWBgqcawYKCQEGgIFDwflCwoCBQ\n",
       "ECgIFAQKc/1C3cqCgkBBoCBQcB8ULCgIFAQKAgV/miJYUBAoCBQECgIFL1AFCwoCBYGCQMGlfbCg\n",
       "IFAQKAgU3AcFCwoCBYGCQEGgMPe4EdpYUBAoCBQECu6DggUFgYJAQaAgUPCvWLCgIFAQKAgUPNUI\n",
       "FhQECgIFgYJL+2BBQaAgUBAoCBTmfhw1NhYUBAoCBYGCo0awoCBQECgIFOb5kF5ZUBAoCBQECgIF\n",
       "R41gQUGgIFAQKMz9+JDeWFAQKAgUBAoCBUeNYEFBoCBQECh4qhEsKAgUBAoCBd+kgwUFgYJAQaAg\n",
       "UPCvWLCgIFAQKAgUPHoOFhQECgIFgcK88+fbP8NPs6AgUBAoCBQECu6DggUFgYJAQaDg/aBgQUGg\n",
       "IFAQKAgU5j4XZhsLCgIFgYJAwVEjWFAQKAgUBApzPXpeWVAQKAgUBAoCBUeNYEFBoCBQECg4agQL\n",
       "CgIFgYJAYd7zTXpjQUGgIFAQKAgU3AcFCwoCBYGCQMFLnMGCgkBBoCBQECg4agQLCgIFgYJAYZ6j\n",
       "xsqCgkBBoCBQ8E06WFAQKAgUBAoChbleoFpZUBAoCBQECv7gdrCgIFAQKAgU/CpCsKAgUBAoCBQE\n",
       "Cp5qBAsKAgWBgkDBUSNYUBAoCBQECgIF/4oFCwoCBYGCQMGj52BBQaAgUBAo+CYdLCgIFAQKAgWB\n",
       "whyPnlcWFAQKAgWBgqNGsKAgUBAoCBS8xBksKAgUBAoCBYHCHEeNlQUFgYJAQaDg/aBgQUGgIFAQ\n",
       "KAgUPHoOFhQECgIFgYL7oGBBQaAgUBAozDvv2z/DT7OgIFAQKAgUBArug4IFBYGCQEGgMMdRY2VB\n",
       "QaAgUBAo/AdhU+3PqlcPeQAAAABJRU5ErkJggg==\n",
       "\" transform=\"translate(2161, 47)\"/>\n",
       "</g>\n",
       "<path clip-path=\"url(#clip800)\" d=\"M 0 0 M2280.7 1241.49 Q2277.09 1241.49 2275.26 1245.05 Q2273.45 1248.6 2273.45 1255.73 Q2273.45 1262.83 2275.26 1266.4 Q2277.09 1269.94 2280.7 1269.94 Q2284.33 1269.94 2286.14 1266.4 Q2287.97 1262.83 2287.97 1255.73 Q2287.97 1248.6 2286.14 1245.05 Q2284.33 1241.49 2280.7 1241.49 M2280.7 1237.79 Q2286.51 1237.79 2289.57 1242.39 Q2292.64 1246.98 2292.64 1255.73 Q2292.64 1264.45 2289.57 1269.06 Q2286.51 1273.64 2280.7 1273.64 Q2274.89 1273.64 2271.81 1269.06 Q2268.76 1264.45 2268.76 1255.73 Q2268.76 1246.98 2271.81 1242.39 Q2274.89 1237.79 2280.7 1237.79 Z\" fill=\"#000000\" fill-rule=\"evenodd\" fill-opacity=\"1\" /><path clip-path=\"url(#clip800)\" d=\"M 0 0 M2297.71 1267.09 L2302.6 1267.09 L2302.6 1272.97 L2297.71 1272.97 L2297.71 1267.09 Z\" fill=\"#000000\" fill-rule=\"evenodd\" fill-opacity=\"1\" /><path clip-path=\"url(#clip800)\" d=\"M 0 0 M2306.49 1238.41 L2328.71 1238.41 L2328.71 1240.4 L2316.16 1272.97 L2311.28 1272.97 L2323.08 1242.35 L2306.49 1242.35 L2306.49 1238.41 Z\" fill=\"#000000\" fill-rule=\"evenodd\" fill-opacity=\"1\" /><path clip-path=\"url(#clip800)\" d=\"M 0 0 M2343.78 1241.49 Q2340.17 1241.49 2338.34 1245.05 Q2336.53 1248.6 2336.53 1255.73 Q2336.53 1262.83 2338.34 1266.4 Q2340.17 1269.94 2343.78 1269.94 Q2347.41 1269.94 2349.22 1266.4 Q2351.05 1262.83 2351.05 1255.73 Q2351.05 1248.6 2349.22 1245.05 Q2347.41 1241.49 2343.78 1241.49 M2343.78 1237.79 Q2349.59 1237.79 2352.64 1242.39 Q2355.72 1246.98 2355.72 1255.73 Q2355.72 1264.45 2352.64 1269.06 Q2349.59 1273.64 2343.78 1273.64 Q2337.97 1273.64 2334.89 1269.06 Q2331.83 1264.45 2331.83 1255.73 Q2331.83 1246.98 2334.89 1242.39 Q2337.97 1237.79 2343.78 1237.79 Z\" fill=\"#000000\" fill-rule=\"evenodd\" fill-opacity=\"1\" /><path clip-path=\"url(#clip800)\" d=\"M 0 0 M2280.7 1038.3 Q2277.09 1038.3 2275.26 1041.87 Q2273.45 1045.41 2273.45 1052.54 Q2273.45 1059.64 2275.26 1063.21 Q2277.09 1066.75 2280.7 1066.75 Q2284.33 1066.75 2286.14 1063.21 Q2287.97 1059.64 2287.97 1052.54 Q2287.97 1045.41 2286.14 1041.87 Q2284.33 1038.3 2280.7 1038.3 M2280.7 1034.6 Q2286.51 1034.6 2289.57 1039.2 Q2292.64 1043.79 2292.64 1052.54 Q2292.64 1061.26 2289.57 1065.87 Q2286.51 1070.45 2280.7 1070.45 Q2274.89 1070.45 2271.81 1065.87 Q2268.76 1061.26 2268.76 1052.54 Q2268.76 1043.79 2271.81 1039.2 Q2274.89 1034.6 2280.7 1034.6 Z\" fill=\"#000000\" fill-rule=\"evenodd\" fill-opacity=\"1\" /><path clip-path=\"url(#clip800)\" d=\"M 0 0 M2297.71 1063.9 L2302.6 1063.9 L2302.6 1069.78 L2297.71 1069.78 L2297.71 1063.9 Z\" fill=\"#000000\" fill-rule=\"evenodd\" fill-opacity=\"1\" /><path clip-path=\"url(#clip800)\" d=\"M 0 0 M2306.49 1035.22 L2328.71 1035.22 L2328.71 1037.21 L2316.16 1069.78 L2311.28 1069.78 L2323.08 1039.16 L2306.49 1039.16 L2306.49 1035.22 Z\" fill=\"#000000\" fill-rule=\"evenodd\" fill-opacity=\"1\" /><path clip-path=\"url(#clip800)\" d=\"M 0 0 M2333.83 1035.22 L2352.18 1035.22 L2352.18 1039.16 L2338.11 1039.16 L2338.11 1047.63 Q2339.13 1047.28 2340.14 1047.12 Q2341.16 1046.94 2342.18 1046.94 Q2347.97 1046.94 2351.35 1050.11 Q2354.73 1053.28 2354.73 1058.7 Q2354.73 1064.27 2351.26 1067.38 Q2347.78 1070.45 2341.46 1070.45 Q2339.29 1070.45 2337.02 1070.08 Q2334.77 1069.71 2332.37 1068.97 L2332.37 1064.27 Q2334.45 1065.41 2336.67 1065.96 Q2338.89 1066.52 2341.37 1066.52 Q2345.38 1066.52 2347.71 1064.41 Q2350.05 1062.31 2350.05 1058.7 Q2350.05 1055.08 2347.71 1052.98 Q2345.38 1050.87 2341.37 1050.87 Q2339.5 1050.87 2337.62 1051.29 Q2335.77 1051.7 2333.83 1052.58 L2333.83 1035.22 Z\" fill=\"#000000\" fill-rule=\"evenodd\" fill-opacity=\"1\" /><path clip-path=\"url(#clip800)\" d=\"M 0 0 M2280.7 835.114 Q2277.09 835.114 2275.26 838.679 Q2273.45 842.221 2273.45 849.35 Q2273.45 856.457 2275.26 860.022 Q2277.09 863.563 2280.7 863.563 Q2284.33 863.563 2286.14 860.022 Q2287.97 856.457 2287.97 849.35 Q2287.97 842.221 2286.14 838.679 Q2284.33 835.114 2280.7 835.114 M2280.7 831.411 Q2286.51 831.411 2289.57 836.017 Q2292.64 840.601 2292.64 849.35 Q2292.64 858.077 2289.57 862.684 Q2286.51 867.267 2280.7 867.267 Q2274.89 867.267 2271.81 862.684 Q2268.76 858.077 2268.76 849.35 Q2268.76 840.601 2271.81 836.017 Q2274.89 831.411 2280.7 831.411 Z\" fill=\"#000000\" fill-rule=\"evenodd\" fill-opacity=\"1\" /><path clip-path=\"url(#clip800)\" d=\"M 0 0 M2297.71 860.716 L2302.6 860.716 L2302.6 866.596 L2297.71 866.596 L2297.71 860.716 Z\" fill=\"#000000\" fill-rule=\"evenodd\" fill-opacity=\"1\" /><path clip-path=\"url(#clip800)\" d=\"M 0 0 M2317.67 850.184 Q2314.33 850.184 2312.41 851.966 Q2310.51 853.749 2310.51 856.874 Q2310.51 859.999 2312.41 861.781 Q2314.33 863.563 2317.67 863.563 Q2321 863.563 2322.92 861.781 Q2324.84 859.975 2324.84 856.874 Q2324.84 853.749 2322.92 851.966 Q2321.02 850.184 2317.67 850.184 M2312.99 848.193 Q2309.98 847.452 2308.29 845.392 Q2306.63 843.332 2306.63 840.369 Q2306.63 836.226 2309.57 833.818 Q2312.53 831.411 2317.67 831.411 Q2322.83 831.411 2325.77 833.818 Q2328.71 836.226 2328.71 840.369 Q2328.71 843.332 2327.02 845.392 Q2325.35 847.452 2322.37 848.193 Q2325.75 848.98 2327.62 851.272 Q2329.52 853.563 2329.52 856.874 Q2329.52 861.897 2326.44 864.582 Q2323.39 867.267 2317.67 867.267 Q2311.95 867.267 2308.87 864.582 Q2305.82 861.897 2305.82 856.874 Q2305.82 853.563 2307.71 851.272 Q2309.61 848.98 2312.99 848.193 M2311.28 840.809 Q2311.28 843.494 2312.95 844.999 Q2314.64 846.503 2317.67 846.503 Q2320.68 846.503 2322.37 844.999 Q2324.08 843.494 2324.08 840.809 Q2324.08 838.124 2322.37 836.619 Q2320.68 835.114 2317.67 835.114 Q2314.64 835.114 2312.95 836.619 Q2311.28 838.124 2311.28 840.809 Z\" fill=\"#000000\" fill-rule=\"evenodd\" fill-opacity=\"1\" /><path clip-path=\"url(#clip800)\" d=\"M 0 0 M2344.59 835.114 Q2340.98 835.114 2339.15 838.679 Q2337.34 842.221 2337.34 849.35 Q2337.34 856.457 2339.15 860.022 Q2340.98 863.563 2344.59 863.563 Q2348.22 863.563 2350.03 860.022 Q2351.86 856.457 2351.86 849.35 Q2351.86 842.221 2350.03 838.679 Q2348.22 835.114 2344.59 835.114 M2344.59 831.411 Q2350.4 831.411 2353.45 836.017 Q2356.53 840.601 2356.53 849.35 Q2356.53 858.077 2353.45 862.684 Q2350.4 867.267 2344.59 867.267 Q2338.78 867.267 2335.7 862.684 Q2332.64 858.077 2332.64 849.35 Q2332.64 840.601 2335.7 836.017 Q2338.78 831.411 2344.59 831.411 Z\" fill=\"#000000\" fill-rule=\"evenodd\" fill-opacity=\"1\" /><path clip-path=\"url(#clip800)\" d=\"M 0 0 M2280.7 631.927 Q2277.09 631.927 2275.26 635.492 Q2273.45 639.034 2273.45 646.163 Q2273.45 653.27 2275.26 656.834 Q2277.09 660.376 2280.7 660.376 Q2284.33 660.376 2286.14 656.834 Q2287.97 653.27 2287.97 646.163 Q2287.97 639.034 2286.14 635.492 Q2284.33 631.927 2280.7 631.927 M2280.7 628.223 Q2286.51 628.223 2289.57 632.83 Q2292.64 637.413 2292.64 646.163 Q2292.64 654.89 2289.57 659.496 Q2286.51 664.08 2280.7 664.08 Q2274.89 664.08 2271.81 659.496 Q2268.76 654.89 2268.76 646.163 Q2268.76 637.413 2271.81 632.83 Q2274.89 628.223 2280.7 628.223 Z\" fill=\"#000000\" fill-rule=\"evenodd\" fill-opacity=\"1\" /><path clip-path=\"url(#clip800)\" d=\"M 0 0 M2297.71 657.529 L2302.6 657.529 L2302.6 663.408 L2297.71 663.408 L2297.71 657.529 Z\" fill=\"#000000\" fill-rule=\"evenodd\" fill-opacity=\"1\" /><path clip-path=\"url(#clip800)\" d=\"M 0 0 M2317.67 646.997 Q2314.33 646.997 2312.41 648.779 Q2310.51 650.561 2310.51 653.686 Q2310.51 656.811 2312.41 658.594 Q2314.33 660.376 2317.67 660.376 Q2321 660.376 2322.92 658.594 Q2324.84 656.788 2324.84 653.686 Q2324.84 650.561 2322.92 648.779 Q2321.02 646.997 2317.67 646.997 M2312.99 645.006 Q2309.98 644.265 2308.29 642.205 Q2306.63 640.145 2306.63 637.182 Q2306.63 633.038 2309.57 630.631 Q2312.53 628.223 2317.67 628.223 Q2322.83 628.223 2325.77 630.631 Q2328.71 633.038 2328.71 637.182 Q2328.71 640.145 2327.02 642.205 Q2325.35 644.265 2322.37 645.006 Q2325.75 645.793 2327.62 648.084 Q2329.52 650.376 2329.52 653.686 Q2329.52 658.709 2326.44 661.395 Q2323.39 664.08 2317.67 664.08 Q2311.95 664.08 2308.87 661.395 Q2305.82 658.709 2305.82 653.686 Q2305.82 650.376 2307.71 648.084 Q2309.61 645.793 2312.99 645.006 M2311.28 637.622 Q2311.28 640.307 2312.95 641.811 Q2314.64 643.316 2317.67 643.316 Q2320.68 643.316 2322.37 641.811 Q2324.08 640.307 2324.08 637.622 Q2324.08 634.936 2322.37 633.432 Q2320.68 631.927 2317.67 631.927 Q2314.64 631.927 2312.95 633.432 Q2311.28 634.936 2311.28 637.622 Z\" fill=\"#000000\" fill-rule=\"evenodd\" fill-opacity=\"1\" /><path clip-path=\"url(#clip800)\" d=\"M 0 0 M2334.64 628.848 L2352.99 628.848 L2352.99 632.784 L2338.92 632.784 L2338.92 641.256 Q2339.94 640.909 2340.95 640.747 Q2341.97 640.561 2342.99 640.561 Q2348.78 640.561 2352.16 643.733 Q2355.54 646.904 2355.54 652.321 Q2355.54 657.899 2352.07 661.001 Q2348.59 664.08 2342.27 664.08 Q2340.1 664.08 2337.83 663.709 Q2335.58 663.339 2333.18 662.598 L2333.18 657.899 Q2335.26 659.033 2337.48 659.589 Q2339.7 660.145 2342.18 660.145 Q2346.19 660.145 2348.52 658.038 Q2350.86 655.932 2350.86 652.321 Q2350.86 648.709 2348.52 646.603 Q2346.19 644.497 2342.18 644.497 Q2340.31 644.497 2338.43 644.913 Q2336.58 645.33 2334.64 646.209 L2334.64 628.848 Z\" fill=\"#000000\" fill-rule=\"evenodd\" fill-opacity=\"1\" /><path clip-path=\"url(#clip800)\" d=\"M 0 0 M2280.7 428.74 Q2277.09 428.74 2275.26 432.305 Q2273.45 435.846 2273.45 442.976 Q2273.45 450.082 2275.26 453.647 Q2277.09 457.189 2280.7 457.189 Q2284.33 457.189 2286.14 453.647 Q2287.97 450.082 2287.97 442.976 Q2287.97 435.846 2286.14 432.305 Q2284.33 428.74 2280.7 428.74 M2280.7 425.036 Q2286.51 425.036 2289.57 429.643 Q2292.64 434.226 2292.64 442.976 Q2292.64 451.703 2289.57 456.309 Q2286.51 460.892 2280.7 460.892 Q2274.89 460.892 2271.81 456.309 Q2268.76 451.703 2268.76 442.976 Q2268.76 434.226 2271.81 429.643 Q2274.89 425.036 2280.7 425.036 Z\" fill=\"#000000\" fill-rule=\"evenodd\" fill-opacity=\"1\" /><path clip-path=\"url(#clip800)\" d=\"M 0 0 M2297.71 454.342 L2302.6 454.342 L2302.6 460.221 L2297.71 460.221 L2297.71 454.342 Z\" fill=\"#000000\" fill-rule=\"evenodd\" fill-opacity=\"1\" /><path clip-path=\"url(#clip800)\" d=\"M 0 0 M2307.81 459.504 L2307.81 455.244 Q2309.57 456.078 2311.37 456.517 Q2313.18 456.957 2314.91 456.957 Q2319.54 456.957 2321.97 453.855 Q2324.43 450.73 2324.77 444.388 Q2323.43 446.379 2321.37 447.443 Q2319.31 448.508 2316.81 448.508 Q2311.63 448.508 2308.59 445.383 Q2305.58 442.235 2305.58 436.795 Q2305.58 431.471 2308.73 428.254 Q2311.88 425.036 2317.11 425.036 Q2323.11 425.036 2326.26 429.643 Q2329.43 434.226 2329.43 442.976 Q2329.43 451.147 2325.54 456.031 Q2321.67 460.892 2315.12 460.892 Q2313.36 460.892 2311.56 460.545 Q2309.75 460.198 2307.81 459.504 M2317.11 444.851 Q2320.26 444.851 2322.09 442.698 Q2323.94 440.545 2323.94 436.795 Q2323.94 433.069 2322.09 430.916 Q2320.26 428.74 2317.11 428.74 Q2313.96 428.74 2312.11 430.916 Q2310.28 433.069 2310.28 436.795 Q2310.28 440.545 2312.11 442.698 Q2313.96 444.851 2317.11 444.851 Z\" fill=\"#000000\" fill-rule=\"evenodd\" fill-opacity=\"1\" /><path clip-path=\"url(#clip800)\" d=\"M 0 0 M2344.5 428.74 Q2340.89 428.74 2339.06 432.305 Q2337.25 435.846 2337.25 442.976 Q2337.25 450.082 2339.06 453.647 Q2340.89 457.189 2344.5 457.189 Q2348.13 457.189 2349.94 453.647 Q2351.76 450.082 2351.76 442.976 Q2351.76 435.846 2349.94 432.305 Q2348.13 428.74 2344.5 428.74 M2344.5 425.036 Q2350.31 425.036 2353.36 429.643 Q2356.44 434.226 2356.44 442.976 Q2356.44 451.703 2353.36 456.309 Q2350.31 460.892 2344.5 460.892 Q2338.69 460.892 2335.61 456.309 Q2332.55 451.703 2332.55 442.976 Q2332.55 434.226 2335.61 429.643 Q2338.69 425.036 2344.5 425.036 Z\" fill=\"#000000\" fill-rule=\"evenodd\" fill-opacity=\"1\" /><path clip-path=\"url(#clip800)\" d=\"M 0 0 M2280.7 225.553 Q2277.09 225.553 2275.26 229.117 Q2273.45 232.659 2273.45 239.789 Q2273.45 246.895 2275.26 250.46 Q2277.09 254.001 2280.7 254.001 Q2284.33 254.001 2286.14 250.46 Q2287.97 246.895 2287.97 239.789 Q2287.97 232.659 2286.14 229.117 Q2284.33 225.553 2280.7 225.553 M2280.7 221.849 Q2286.51 221.849 2289.57 226.455 Q2292.64 231.039 2292.64 239.789 Q2292.64 248.515 2289.57 253.122 Q2286.51 257.705 2280.7 257.705 Q2274.89 257.705 2271.81 253.122 Q2268.76 248.515 2268.76 239.789 Q2268.76 231.039 2271.81 226.455 Q2274.89 221.849 2280.7 221.849 Z\" fill=\"#000000\" fill-rule=\"evenodd\" fill-opacity=\"1\" /><path clip-path=\"url(#clip800)\" d=\"M 0 0 M2297.71 251.154 L2302.6 251.154 L2302.6 257.034 L2297.71 257.034 L2297.71 251.154 Z\" fill=\"#000000\" fill-rule=\"evenodd\" fill-opacity=\"1\" /><path clip-path=\"url(#clip800)\" d=\"M 0 0 M2307.81 256.316 L2307.81 252.057 Q2309.57 252.89 2311.37 253.33 Q2313.18 253.77 2314.91 253.77 Q2319.54 253.77 2321.97 250.668 Q2324.43 247.543 2324.77 241.201 Q2323.43 243.191 2321.37 244.256 Q2319.31 245.321 2316.81 245.321 Q2311.63 245.321 2308.59 242.196 Q2305.58 239.048 2305.58 233.608 Q2305.58 228.284 2308.73 225.066 Q2311.88 221.849 2317.11 221.849 Q2323.11 221.849 2326.26 226.455 Q2329.43 231.039 2329.43 239.789 Q2329.43 247.96 2325.54 252.844 Q2321.67 257.705 2315.12 257.705 Q2313.36 257.705 2311.56 257.358 Q2309.75 257.011 2307.81 256.316 M2317.11 241.664 Q2320.26 241.664 2322.09 239.511 Q2323.94 237.358 2323.94 233.608 Q2323.94 229.881 2322.09 227.728 Q2320.26 225.553 2317.11 225.553 Q2313.96 225.553 2312.11 227.728 Q2310.28 229.881 2310.28 233.608 Q2310.28 237.358 2312.11 239.511 Q2313.96 241.664 2317.11 241.664 Z\" fill=\"#000000\" fill-rule=\"evenodd\" fill-opacity=\"1\" /><path clip-path=\"url(#clip800)\" d=\"M 0 0 M2334.54 222.474 L2352.9 222.474 L2352.9 226.409 L2338.82 226.409 L2338.82 234.881 Q2339.84 234.534 2340.86 234.372 Q2341.88 234.187 2342.9 234.187 Q2348.69 234.187 2352.07 237.358 Q2355.45 240.529 2355.45 245.946 Q2355.45 251.525 2351.97 254.626 Q2348.5 257.705 2342.18 257.705 Q2340.01 257.705 2337.74 257.335 Q2335.49 256.964 2333.08 256.224 L2333.08 251.525 Q2335.17 252.659 2337.39 253.214 Q2339.61 253.77 2342.09 253.77 Q2346.09 253.77 2348.43 251.663 Q2350.77 249.557 2350.77 245.946 Q2350.77 242.335 2348.43 240.228 Q2346.09 238.122 2342.09 238.122 Q2340.21 238.122 2338.34 238.539 Q2336.49 238.955 2334.54 239.835 L2334.54 222.474 Z\" fill=\"#000000\" fill-rule=\"evenodd\" fill-opacity=\"1\" /><polyline clip-path=\"url(#clip800)\" style=\"stroke:#000000; stroke-width:4; stroke-opacity:1; fill:none\" points=\"\n",
       "  2232.76,1423.18 2232.76,1259.32 2256.76,1259.32 2232.76,1259.32 2232.76,1056.13 2256.76,1056.13 2232.76,1056.13 2232.76,852.945 2256.76,852.945 2232.76,852.945 \n",
       "  2232.76,649.757 2256.76,649.757 2232.76,649.757 2232.76,446.57 2256.76,446.57 2232.76,446.57 2232.76,243.383 2256.76,243.383 2232.76,243.383 2232.76,47.2441 \n",
       "  \n",
       "  \"/>\n",
       "</svg>\n"
      ]
     },
     "execution_count": 58,
     "metadata": {},
     "output_type": "execute_result"
    }
   ],
   "source": [
    "plot(self_tuning_nn)"
   ]
  },
  {
   "cell_type": "code",
   "execution_count": 59,
   "metadata": {},
   "outputs": [
    {
     "data": {
      "text/plain": [
       "(best_model = \u001b[34mNeuralNetworkClassifier{CustomNN,…} @580\u001b[39m,\n",
       " best_fitted_params = (chain = Chain(Chain(Dense(60, 23, σ), Dense(23, 3, σ)), softmax),),)"
      ]
     },
     "execution_count": 59,
     "metadata": {},
     "output_type": "execute_result"
    }
   ],
   "source": [
    "best = fitted_params(self_tuning_nn)\n",
    "best"
   ]
  },
  {
   "cell_type": "code",
   "execution_count": 60,
   "metadata": {},
   "outputs": [
    {
     "data": {
      "text/plain": [
       "NeuralNetworkClassifier(\n",
       "    builder = CustomNN(\n",
       "            n1 = 23),\n",
       "    finaliser = NNlib.softmax,\n",
       "    optimiser = ADAM(0.0001, (0.9, 0.999), IdDict{Any,Any}()),\n",
       "    loss = Flux.crossentropy,\n",
       "    epochs = 3335,\n",
       "    batch_size = 16,\n",
       "    lambda = 0.01,\n",
       "    alpha = 0.0,\n",
       "    optimiser_changes_trigger_retraining = false)\u001b[34m @580\u001b[39m"
      ]
     },
     "execution_count": 60,
     "metadata": {},
     "output_type": "execute_result"
    }
   ],
   "source": [
    "best.best_model"
   ]
  },
  {
   "cell_type": "code",
   "execution_count": 61,
   "metadata": {
    "scrolled": true
   },
   "outputs": [
    {
     "data": {
      "text/plain": [
       "0.65967745f0"
      ]
     },
     "execution_count": 61,
     "metadata": {},
     "output_type": "execute_result"
    }
   ],
   "source": [
    "best_loss = z.report.best_result.measurement[1]"
   ]
  },
  {
   "cell_type": "code",
   "execution_count": 62,
   "metadata": {},
   "outputs": [
    {
     "data": {
      "text/plain": [
       "0.0001"
      ]
     },
     "execution_count": 62,
     "metadata": {},
     "output_type": "execute_result"
    }
   ],
   "source": [
    "best_eta = round(best.best_model.optimiser.eta, digits=5)"
   ]
  },
  {
   "cell_type": "code",
   "execution_count": 63,
   "metadata": {},
   "outputs": [],
   "source": [
    "fn = \"Figures/Grid_NN_$(param1):$(best.best_model.epochs)_x_$(param2):$(best_eta)_bestloss:$(best_loss)_hidden:$b\"\n",
    "png(replace(fn,'.' => ','))"
   ]
  },
  {
   "cell_type": "markdown",
   "metadata": {},
   "source": [
    "### GridSearch for Regularization"
   ]
  },
  {
   "cell_type": "code",
   "execution_count": 64,
   "metadata": {
    "scrolled": true
   },
   "outputs": [
    {
     "data": {
      "text/plain": [
       "NeuralNetworkClassifier(\n",
       "    builder = CustomNN(\n",
       "            n1 = 23),\n",
       "    finaliser = NNlib.softmax,\n",
       "    optimiser = ADAM(0.001, (0.9, 0.999), IdDict{Any,Any}()),\n",
       "    loss = Flux.crossentropy,\n",
       "    epochs = 10,\n",
       "    batch_size = 1,\n",
       "    lambda = 0.0,\n",
       "    alpha = 0.0,\n",
       "    optimiser_changes_trigger_retraining = false)\u001b[34m @438\u001b[39m"
      ]
     },
     "execution_count": 64,
     "metadata": {},
     "output_type": "execute_result"
    }
   ],
   "source": [
    "nn = NeuralNetworkClassifier(builder=CustomNN(best_n1))"
   ]
  },
  {
   "cell_type": "code",
   "execution_count": 65,
   "metadata": {},
   "outputs": [
    {
     "data": {
      "text/plain": [
       "0.01"
      ]
     },
     "execution_count": 65,
     "metadata": {},
     "output_type": "execute_result"
    }
   ],
   "source": [
    "nn.optimiser.eta = best_eta\n",
    "nn.epochs = 60\n",
    "nn.batch_size = batch_sz\n",
    "nn.lambda = 0.01"
   ]
  },
  {
   "cell_type": "code",
   "execution_count": 66,
   "metadata": {},
   "outputs": [
    {
     "data": {
      "text/plain": [
       "\u001b[34mMachine{NeuralNetworkClassifier{CustomNN,…}} @342\u001b[39m trained 0 times.\n",
       "  args: \n",
       "    1:\t\u001b[34mSource @125\u001b[39m ⏎ `Table{AbstractArray{Continuous,1}}`\n",
       "    2:\t\u001b[34mSource @237\u001b[39m ⏎ `AbstractArray{Multiclass{3},1}`\n"
      ]
     },
     "execution_count": 66,
     "metadata": {},
     "output_type": "execute_result"
    }
   ],
   "source": [
    "Net = machine(nn, X_stand, y)"
   ]
  },
  {
   "cell_type": "code",
   "execution_count": 67,
   "metadata": {},
   "outputs": [
    {
     "data": {
      "text/plain": [
       "MLJBase.NumericRange(Float64, :lambda, ... )"
      ]
     },
     "execution_count": 67,
     "metadata": {},
     "output_type": "execute_result"
    }
   ],
   "source": [
    "param1 = :epochs\n",
    "param2 = :lambda\n",
    "\n",
    "r1 = range(nn, param1, lower=100, upper=4000, scale=:linear)\n",
    "r2 = range(nn, param2, lower=0.0001, upper=10, scale=:log10)"
   ]
  },
  {
   "cell_type": "code",
   "execution_count": 68,
   "metadata": {
    "scrolled": true
   },
   "outputs": [
    {
     "data": {
      "text/plain": [
       "ProbabilisticTunedModel(\n",
       "    model = NeuralNetworkClassifier(\n",
       "            builder = \u001b[34mCustomNN @830\u001b[39m,\n",
       "            finaliser = NNlib.softmax,\n",
       "            optimiser = ADAM(0.0001, (0.9, 0.999), IdDict{Any,Any}()),\n",
       "            loss = Flux.crossentropy,\n",
       "            epochs = 60,\n",
       "            batch_size = 16,\n",
       "            lambda = 0.01,\n",
       "            alpha = 0.0,\n",
       "            optimiser_changes_trigger_retraining = false),\n",
       "    tuning = Grid(\n",
       "            goal = 50,\n",
       "            resolution = 10,\n",
       "            shuffle = true,\n",
       "            rng = Random._GLOBAL_RNG()),\n",
       "    resampling = Holdout(\n",
       "            fraction_train = 0.7,\n",
       "            shuffle = false,\n",
       "            rng = Random._GLOBAL_RNG()),\n",
       "    measure = cross_entropy(\n",
       "            eps = 2.220446049250313e-16),\n",
       "    weights = nothing,\n",
       "    operation = MLJModelInterface.predict,\n",
       "    range = MLJBase.NumericRange{T,MLJBase.Bounded,Symbol} where T[\u001b[34mNumericRange{Int64,…} @841\u001b[39m, \u001b[34mNumericRange{Float64,…} @334\u001b[39m],\n",
       "    train_best = true,\n",
       "    repeats = 1,\n",
       "    n = nothing,\n",
       "    acceleration = CPUThreads{Int64}(1),\n",
       "    acceleration_resampling = CPU1{Nothing}(nothing),\n",
       "    check_measure = true)\u001b[34m @684\u001b[39m"
      ]
     },
     "execution_count": 68,
     "metadata": {},
     "output_type": "execute_result"
    }
   ],
   "source": [
    "self_tuning_nn_model = TunedModel(model=nn,\n",
    "                                    tuning=Grid(goal=50),\n",
    "                                    resampling=Holdout(fraction_train=0.7), \n",
    "                                    measure=cross_entropy,\n",
    "                                    acceleration=CPUThreads(),\n",
    "                                    range=[r1, r2])"
   ]
  },
  {
   "cell_type": "code",
   "execution_count": 69,
   "metadata": {},
   "outputs": [
    {
     "data": {
      "text/plain": [
       "\u001b[34mMachine{ProbabilisticTunedModel{Grid,…}} @997\u001b[39m trained 0 times.\n",
       "  args: \n",
       "    1:\t\u001b[34mSource @521\u001b[39m ⏎ `Table{AbstractArray{Continuous,1}}`\n",
       "    2:\t\u001b[34mSource @176\u001b[39m ⏎ `AbstractArray{Multiclass{3},1}`\n"
      ]
     },
     "execution_count": 69,
     "metadata": {},
     "output_type": "execute_result"
    }
   ],
   "source": [
    "self_tuning_nn = machine(self_tuning_nn_model, X_stand, y)"
   ]
  },
  {
   "cell_type": "code",
   "execution_count": 70,
   "metadata": {},
   "outputs": [
    {
     "name": "stderr",
     "output_type": "stream",
     "text": [
      "┌ Info: Training \u001b[34mMachine{ProbabilisticTunedModel{Grid,…}} @997\u001b[39m.\n",
      "└ @ MLJBase /home/andrew/.julia/packages/MLJBase/uKzAz/src/machines.jl:319\n",
      "┌ Info: Attempting to evaluate 49 models.\n",
      "└ @ MLJTuning /home/andrew/.julia/packages/MLJTuning/Bbgvk/src/tuned_models.jl:494\n",
      "\u001b[33mEvaluating over 49 metamodels: 100%[=========================] Time: 0:45:19\u001b[39m\n"
     ]
    },
    {
     "data": {
      "text/plain": [
       "\u001b[34mMachine{ProbabilisticTunedModel{Grid,…}} @997\u001b[39m trained 1 time.\n",
       "  args: \n",
       "    1:\t\u001b[34mSource @521\u001b[39m ⏎ `Table{AbstractArray{Continuous,1}}`\n",
       "    2:\t\u001b[34mSource @176\u001b[39m ⏎ `AbstractArray{Multiclass{3},1}`\n"
      ]
     },
     "execution_count": 70,
     "metadata": {},
     "output_type": "execute_result"
    }
   ],
   "source": [
    "z = fit!(self_tuning_nn, rows=train)"
   ]
  },
  {
   "cell_type": "code",
   "execution_count": 71,
   "metadata": {
    "scrolled": false
   },
   "outputs": [
    {
     "data": {
      "image/svg+xml": [
       "<?xml version=\"1.0\" encoding=\"utf-8\"?>\n",
       "<svg xmlns=\"http://www.w3.org/2000/svg\" xmlns:xlink=\"http://www.w3.org/1999/xlink\" width=\"600\" height=\"400\" viewBox=\"0 0 2400 1600\">\n",
       "<defs>\n",
       "  <clipPath id=\"clip850\">\n",
       "    <rect x=\"0\" y=\"0\" width=\"2400\" height=\"1600\"/>\n",
       "  </clipPath>\n",
       "</defs>\n",
       "<path clip-path=\"url(#clip850)\" d=\"\n",
       "M0 1600 L2400 1600 L2400 0 L0 0  Z\n",
       "  \" fill=\"#ffffff\" fill-rule=\"evenodd\" fill-opacity=\"1\"/>\n",
       "<defs>\n",
       "  <clipPath id=\"clip851\">\n",
       "    <rect x=\"480\" y=\"0\" width=\"1681\" height=\"1600\"/>\n",
       "  </clipPath>\n",
       "</defs>\n",
       "<path clip-path=\"url(#clip850)\" d=\"\n",
       "M244.308 1423.18 L2112.76 1423.18 L2112.76 47.2441 L244.308 47.2441  Z\n",
       "  \" fill=\"#ffffff\" fill-rule=\"evenodd\" fill-opacity=\"1\"/>\n",
       "<defs>\n",
       "  <clipPath id=\"clip852\">\n",
       "    <rect x=\"244\" y=\"47\" width=\"1869\" height=\"1377\"/>\n",
       "  </clipPath>\n",
       "</defs>\n",
       "<polyline clip-path=\"url(#clip852)\" style=\"stroke:#000000; stroke-width:2; stroke-opacity:0.1; fill:none\" points=\"\n",
       "  251.991,1423.18 251.991,47.2441 \n",
       "  \"/>\n",
       "<polyline clip-path=\"url(#clip852)\" style=\"stroke:#000000; stroke-width:2; stroke-opacity:0.1; fill:none\" points=\"\n",
       "  703.962,1423.18 703.962,47.2441 \n",
       "  \"/>\n",
       "<polyline clip-path=\"url(#clip852)\" style=\"stroke:#000000; stroke-width:2; stroke-opacity:0.1; fill:none\" points=\"\n",
       "  1155.93,1423.18 1155.93,47.2441 \n",
       "  \"/>\n",
       "<polyline clip-path=\"url(#clip852)\" style=\"stroke:#000000; stroke-width:2; stroke-opacity:0.1; fill:none\" points=\"\n",
       "  1607.9,1423.18 1607.9,47.2441 \n",
       "  \"/>\n",
       "<polyline clip-path=\"url(#clip852)\" style=\"stroke:#000000; stroke-width:2; stroke-opacity:0.1; fill:none\" points=\"\n",
       "  2059.88,1423.18 2059.88,47.2441 \n",
       "  \"/>\n",
       "<polyline clip-path=\"url(#clip852)\" style=\"stroke:#000000; stroke-width:2; stroke-opacity:0.1; fill:none\" points=\"\n",
       "  244.308,1384.24 2112.76,1384.24 \n",
       "  \"/>\n",
       "<polyline clip-path=\"url(#clip852)\" style=\"stroke:#000000; stroke-width:2; stroke-opacity:0.1; fill:none\" points=\"\n",
       "  244.308,1124.63 2112.76,1124.63 \n",
       "  \"/>\n",
       "<polyline clip-path=\"url(#clip852)\" style=\"stroke:#000000; stroke-width:2; stroke-opacity:0.1; fill:none\" points=\"\n",
       "  244.308,865.017 2112.76,865.017 \n",
       "  \"/>\n",
       "<polyline clip-path=\"url(#clip852)\" style=\"stroke:#000000; stroke-width:2; stroke-opacity:0.1; fill:none\" points=\"\n",
       "  244.308,605.407 2112.76,605.407 \n",
       "  \"/>\n",
       "<polyline clip-path=\"url(#clip852)\" style=\"stroke:#000000; stroke-width:2; stroke-opacity:0.1; fill:none\" points=\"\n",
       "  244.308,345.796 2112.76,345.796 \n",
       "  \"/>\n",
       "<polyline clip-path=\"url(#clip852)\" style=\"stroke:#000000; stroke-width:2; stroke-opacity:0.1; fill:none\" points=\"\n",
       "  244.308,86.1857 2112.76,86.1857 \n",
       "  \"/>\n",
       "<polyline clip-path=\"url(#clip850)\" style=\"stroke:#000000; stroke-width:4; stroke-opacity:1; fill:none\" points=\"\n",
       "  244.308,1423.18 2112.76,1423.18 \n",
       "  \"/>\n",
       "<polyline clip-path=\"url(#clip850)\" style=\"stroke:#000000; stroke-width:4; stroke-opacity:1; fill:none\" points=\"\n",
       "  244.308,1423.18 244.308,47.2441 \n",
       "  \"/>\n",
       "<polyline clip-path=\"url(#clip850)\" style=\"stroke:#000000; stroke-width:4; stroke-opacity:1; fill:none\" points=\"\n",
       "  251.991,1423.18 251.991,1406.67 \n",
       "  \"/>\n",
       "<polyline clip-path=\"url(#clip850)\" style=\"stroke:#000000; stroke-width:4; stroke-opacity:1; fill:none\" points=\"\n",
       "  703.962,1423.18 703.962,1406.67 \n",
       "  \"/>\n",
       "<polyline clip-path=\"url(#clip850)\" style=\"stroke:#000000; stroke-width:4; stroke-opacity:1; fill:none\" points=\"\n",
       "  1155.93,1423.18 1155.93,1406.67 \n",
       "  \"/>\n",
       "<polyline clip-path=\"url(#clip850)\" style=\"stroke:#000000; stroke-width:4; stroke-opacity:1; fill:none\" points=\"\n",
       "  1607.9,1423.18 1607.9,1406.67 \n",
       "  \"/>\n",
       "<polyline clip-path=\"url(#clip850)\" style=\"stroke:#000000; stroke-width:4; stroke-opacity:1; fill:none\" points=\"\n",
       "  2059.88,1423.18 2059.88,1406.67 \n",
       "  \"/>\n",
       "<polyline clip-path=\"url(#clip850)\" style=\"stroke:#000000; stroke-width:4; stroke-opacity:1; fill:none\" points=\"\n",
       "  244.308,1384.24 266.729,1384.24 \n",
       "  \"/>\n",
       "<polyline clip-path=\"url(#clip850)\" style=\"stroke:#000000; stroke-width:4; stroke-opacity:1; fill:none\" points=\"\n",
       "  244.308,1124.63 266.729,1124.63 \n",
       "  \"/>\n",
       "<polyline clip-path=\"url(#clip850)\" style=\"stroke:#000000; stroke-width:4; stroke-opacity:1; fill:none\" points=\"\n",
       "  244.308,865.017 266.729,865.017 \n",
       "  \"/>\n",
       "<polyline clip-path=\"url(#clip850)\" style=\"stroke:#000000; stroke-width:4; stroke-opacity:1; fill:none\" points=\"\n",
       "  244.308,605.407 266.729,605.407 \n",
       "  \"/>\n",
       "<polyline clip-path=\"url(#clip850)\" style=\"stroke:#000000; stroke-width:4; stroke-opacity:1; fill:none\" points=\"\n",
       "  244.308,345.796 266.729,345.796 \n",
       "  \"/>\n",
       "<polyline clip-path=\"url(#clip850)\" style=\"stroke:#000000; stroke-width:4; stroke-opacity:1; fill:none\" points=\"\n",
       "  244.308,86.1857 266.729,86.1857 \n",
       "  \"/>\n",
       "<path clip-path=\"url(#clip850)\" d=\"M 0 0 M251.991 1445.17 Q248.38 1445.17 246.551 1448.74 Q244.746 1452.28 244.746 1459.41 Q244.746 1466.51 246.551 1470.08 Q248.38 1473.62 251.991 1473.62 Q255.625 1473.62 257.431 1470.08 Q259.26 1466.51 259.26 1459.41 Q259.26 1452.28 257.431 1448.74 Q255.625 1445.17 251.991 1445.17 M251.991 1441.47 Q257.801 1441.47 260.857 1446.07 Q263.936 1450.66 263.936 1459.41 Q263.936 1468.13 260.857 1472.74 Q257.801 1477.32 251.991 1477.32 Q246.181 1477.32 243.102 1472.74 Q240.047 1468.13 240.047 1459.41 Q240.047 1450.66 243.102 1446.07 Q246.181 1441.47 251.991 1441.47 Z\" fill=\"#000000\" fill-rule=\"evenodd\" fill-opacity=\"1\" /><path clip-path=\"url(#clip850)\" d=\"M 0 0 M653.824 1472.72 L661.462 1472.72 L661.462 1446.35 L653.152 1448.02 L653.152 1443.76 L661.416 1442.09 L666.092 1442.09 L666.092 1472.72 L673.731 1472.72 L673.731 1476.65 L653.824 1476.65 L653.824 1472.72 Z\" fill=\"#000000\" fill-rule=\"evenodd\" fill-opacity=\"1\" /><path clip-path=\"url(#clip850)\" d=\"M 0 0 M688.8 1445.17 Q685.189 1445.17 683.36 1448.74 Q681.555 1452.28 681.555 1459.41 Q681.555 1466.51 683.36 1470.08 Q685.189 1473.62 688.8 1473.62 Q692.435 1473.62 694.24 1470.08 Q696.069 1466.51 696.069 1459.41 Q696.069 1452.28 694.24 1448.74 Q692.435 1445.17 688.8 1445.17 M688.8 1441.47 Q694.61 1441.47 697.666 1446.07 Q700.745 1450.66 700.745 1459.41 Q700.745 1468.13 697.666 1472.74 Q694.61 1477.32 688.8 1477.32 Q682.99 1477.32 679.911 1472.74 Q676.856 1468.13 676.856 1459.41 Q676.856 1450.66 679.911 1446.07 Q682.99 1441.47 688.8 1441.47 Z\" fill=\"#000000\" fill-rule=\"evenodd\" fill-opacity=\"1\" /><path clip-path=\"url(#clip850)\" d=\"M 0 0 M715.814 1445.17 Q712.203 1445.17 710.374 1448.74 Q708.569 1452.28 708.569 1459.41 Q708.569 1466.51 710.374 1470.08 Q712.203 1473.62 715.814 1473.62 Q719.448 1473.62 721.254 1470.08 Q723.082 1466.51 723.082 1459.41 Q723.082 1452.28 721.254 1448.74 Q719.448 1445.17 715.814 1445.17 M715.814 1441.47 Q721.624 1441.47 724.68 1446.07 Q727.758 1450.66 727.758 1459.41 Q727.758 1468.13 724.68 1472.74 Q721.624 1477.32 715.814 1477.32 Q710.004 1477.32 706.925 1472.74 Q703.87 1468.13 703.87 1459.41 Q703.87 1450.66 706.925 1446.07 Q710.004 1441.47 715.814 1441.47 Z\" fill=\"#000000\" fill-rule=\"evenodd\" fill-opacity=\"1\" /><path clip-path=\"url(#clip850)\" d=\"M 0 0 M742.828 1445.17 Q739.217 1445.17 737.388 1448.74 Q735.582 1452.28 735.582 1459.41 Q735.582 1466.51 737.388 1470.08 Q739.217 1473.62 742.828 1473.62 Q746.462 1473.62 748.268 1470.08 Q750.096 1466.51 750.096 1459.41 Q750.096 1452.28 748.268 1448.74 Q746.462 1445.17 742.828 1445.17 M742.828 1441.47 Q748.638 1441.47 751.693 1446.07 Q754.772 1450.66 754.772 1459.41 Q754.772 1468.13 751.693 1472.74 Q748.638 1477.32 742.828 1477.32 Q737.018 1477.32 733.939 1472.74 Q730.883 1468.13 730.883 1459.41 Q730.883 1450.66 733.939 1446.07 Q737.018 1441.47 742.828 1441.47 Z\" fill=\"#000000\" fill-rule=\"evenodd\" fill-opacity=\"1\" /><path clip-path=\"url(#clip850)\" d=\"M 0 0 M1110.07 1472.72 L1126.38 1472.72 L1126.38 1476.65 L1104.44 1476.65 L1104.44 1472.72 Q1107.1 1469.96 1111.69 1465.33 Q1116.29 1460.68 1117.47 1459.34 Q1119.72 1456.81 1120.6 1455.08 Q1121.5 1453.32 1121.5 1451.63 Q1121.5 1448.87 1119.56 1447.14 Q1117.63 1445.4 1114.53 1445.4 Q1112.33 1445.4 1109.88 1446.17 Q1107.45 1446.93 1104.67 1448.48 L1104.67 1443.76 Q1107.5 1442.62 1109.95 1442.05 Q1112.4 1441.47 1114.44 1441.47 Q1119.81 1441.47 1123.01 1444.15 Q1126.2 1446.84 1126.2 1451.33 Q1126.2 1453.46 1125.39 1455.38 Q1124.6 1457.28 1122.5 1459.87 Q1121.92 1460.54 1118.82 1463.76 Q1115.71 1466.95 1110.07 1472.72 Z\" fill=\"#000000\" fill-rule=\"evenodd\" fill-opacity=\"1\" /><path clip-path=\"url(#clip850)\" d=\"M 0 0 M1141.45 1445.17 Q1137.84 1445.17 1136.01 1448.74 Q1134.21 1452.28 1134.21 1459.41 Q1134.21 1466.51 1136.01 1470.08 Q1137.84 1473.62 1141.45 1473.62 Q1145.09 1473.62 1146.89 1470.08 Q1148.72 1466.51 1148.72 1459.41 Q1148.72 1452.28 1146.89 1448.74 Q1145.09 1445.17 1141.45 1445.17 M1141.45 1441.47 Q1147.26 1441.47 1150.32 1446.07 Q1153.4 1450.66 1153.4 1459.41 Q1153.4 1468.13 1150.32 1472.74 Q1147.26 1477.32 1141.45 1477.32 Q1135.64 1477.32 1132.57 1472.74 Q1129.51 1468.13 1129.51 1459.41 Q1129.51 1450.66 1132.57 1446.07 Q1135.64 1441.47 1141.45 1441.47 Z\" fill=\"#000000\" fill-rule=\"evenodd\" fill-opacity=\"1\" /><path clip-path=\"url(#clip850)\" d=\"M 0 0 M1168.47 1445.17 Q1164.86 1445.17 1163.03 1448.74 Q1161.22 1452.28 1161.22 1459.41 Q1161.22 1466.51 1163.03 1470.08 Q1164.86 1473.62 1168.47 1473.62 Q1172.1 1473.62 1173.91 1470.08 Q1175.74 1466.51 1175.74 1459.41 Q1175.74 1452.28 1173.91 1448.74 Q1172.1 1445.17 1168.47 1445.17 M1168.47 1441.47 Q1174.28 1441.47 1177.33 1446.07 Q1180.41 1450.66 1180.41 1459.41 Q1180.41 1468.13 1177.33 1472.74 Q1174.28 1477.32 1168.47 1477.32 Q1162.66 1477.32 1159.58 1472.74 Q1156.52 1468.13 1156.52 1459.41 Q1156.52 1450.66 1159.58 1446.07 Q1162.66 1441.47 1168.47 1441.47 Z\" fill=\"#000000\" fill-rule=\"evenodd\" fill-opacity=\"1\" /><path clip-path=\"url(#clip850)\" d=\"M 0 0 M1195.48 1445.17 Q1191.87 1445.17 1190.04 1448.74 Q1188.24 1452.28 1188.24 1459.41 Q1188.24 1466.51 1190.04 1470.08 Q1191.87 1473.62 1195.48 1473.62 Q1199.12 1473.62 1200.92 1470.08 Q1202.75 1466.51 1202.75 1459.41 Q1202.75 1452.28 1200.92 1448.74 Q1199.12 1445.17 1195.48 1445.17 M1195.48 1441.47 Q1201.29 1441.47 1204.35 1446.07 Q1207.43 1450.66 1207.43 1459.41 Q1207.43 1468.13 1204.35 1472.74 Q1201.29 1477.32 1195.48 1477.32 Q1189.67 1477.32 1186.59 1472.74 Q1183.54 1468.13 1183.54 1459.41 Q1183.54 1450.66 1186.59 1446.07 Q1189.67 1441.47 1195.48 1441.47 Z\" fill=\"#000000\" fill-rule=\"evenodd\" fill-opacity=\"1\" /><path clip-path=\"url(#clip850)\" d=\"M 0 0 M1571.63 1458.02 Q1574.99 1458.74 1576.86 1461 Q1578.76 1463.27 1578.76 1466.61 Q1578.76 1471.72 1575.24 1474.52 Q1571.72 1477.32 1565.24 1477.32 Q1563.07 1477.32 1560.75 1476.88 Q1558.46 1476.47 1556.01 1475.61 L1556.01 1471.1 Q1557.95 1472.23 1560.27 1472.81 Q1562.58 1473.39 1565.1 1473.39 Q1569.5 1473.39 1571.79 1471.65 Q1574.11 1469.92 1574.11 1466.61 Q1574.11 1463.55 1571.96 1461.84 Q1569.83 1460.1 1566.01 1460.1 L1561.98 1460.1 L1561.98 1456.26 L1566.19 1456.26 Q1569.64 1456.26 1571.47 1454.89 Q1573.3 1453.5 1573.3 1450.91 Q1573.3 1448.25 1571.4 1446.84 Q1569.52 1445.4 1566.01 1445.4 Q1564.09 1445.4 1561.89 1445.82 Q1559.69 1446.24 1557.05 1447.11 L1557.05 1442.95 Q1559.71 1442.21 1562.02 1441.84 Q1564.36 1441.47 1566.42 1441.47 Q1571.75 1441.47 1574.85 1443.9 Q1577.95 1446.3 1577.95 1450.43 Q1577.95 1453.3 1576.31 1455.29 Q1574.66 1457.25 1571.63 1458.02 Z\" fill=\"#000000\" fill-rule=\"evenodd\" fill-opacity=\"1\" /><path clip-path=\"url(#clip850)\" d=\"M 0 0 M1593.83 1445.17 Q1590.22 1445.17 1588.39 1448.74 Q1586.58 1452.28 1586.58 1459.41 Q1586.58 1466.51 1588.39 1470.08 Q1590.22 1473.62 1593.83 1473.62 Q1597.46 1473.62 1599.27 1470.08 Q1601.1 1466.51 1601.1 1459.41 Q1601.1 1452.28 1599.27 1448.74 Q1597.46 1445.17 1593.83 1445.17 M1593.83 1441.47 Q1599.64 1441.47 1602.7 1446.07 Q1605.77 1450.66 1605.77 1459.41 Q1605.77 1468.13 1602.7 1472.74 Q1599.64 1477.32 1593.83 1477.32 Q1588.02 1477.32 1584.94 1472.74 Q1581.89 1468.13 1581.89 1459.41 Q1581.89 1450.66 1584.94 1446.07 Q1588.02 1441.47 1593.83 1441.47 Z\" fill=\"#000000\" fill-rule=\"evenodd\" fill-opacity=\"1\" /><path clip-path=\"url(#clip850)\" d=\"M 0 0 M1620.84 1445.17 Q1617.23 1445.17 1615.4 1448.74 Q1613.6 1452.28 1613.6 1459.41 Q1613.6 1466.51 1615.4 1470.08 Q1617.23 1473.62 1620.84 1473.62 Q1624.48 1473.62 1626.28 1470.08 Q1628.11 1466.51 1628.11 1459.41 Q1628.11 1452.28 1626.28 1448.74 Q1624.48 1445.17 1620.84 1445.17 M1620.84 1441.47 Q1626.65 1441.47 1629.71 1446.07 Q1632.79 1450.66 1632.79 1459.41 Q1632.79 1468.13 1629.71 1472.74 Q1626.65 1477.32 1620.84 1477.32 Q1615.03 1477.32 1611.96 1472.74 Q1608.9 1468.13 1608.9 1459.41 Q1608.9 1450.66 1611.96 1446.07 Q1615.03 1441.47 1620.84 1441.47 Z\" fill=\"#000000\" fill-rule=\"evenodd\" fill-opacity=\"1\" /><path clip-path=\"url(#clip850)\" d=\"M 0 0 M1647.86 1445.17 Q1644.25 1445.17 1642.42 1448.74 Q1640.61 1452.28 1640.61 1459.41 Q1640.61 1466.51 1642.42 1470.08 Q1644.25 1473.62 1647.86 1473.62 Q1651.49 1473.62 1653.3 1470.08 Q1655.13 1466.51 1655.13 1459.41 Q1655.13 1452.28 1653.3 1448.74 Q1651.49 1445.17 1647.86 1445.17 M1647.86 1441.47 Q1653.67 1441.47 1656.72 1446.07 Q1659.8 1450.66 1659.8 1459.41 Q1659.8 1468.13 1656.72 1472.74 Q1653.67 1477.32 1647.86 1477.32 Q1642.05 1477.32 1638.97 1472.74 Q1635.91 1468.13 1635.91 1459.41 Q1635.91 1450.66 1638.97 1446.07 Q1642.05 1441.47 1647.86 1441.47 Z\" fill=\"#000000\" fill-rule=\"evenodd\" fill-opacity=\"1\" /><path clip-path=\"url(#clip850)\" d=\"M 0 0 M2022.36 1446.17 L2010.56 1464.61 L2022.36 1464.61 L2022.36 1446.17 M2021.14 1442.09 L2027.02 1442.09 L2027.02 1464.61 L2031.95 1464.61 L2031.95 1468.5 L2027.02 1468.5 L2027.02 1476.65 L2022.36 1476.65 L2022.36 1468.5 L2006.76 1468.5 L2006.76 1463.99 L2021.14 1442.09 Z\" fill=\"#000000\" fill-rule=\"evenodd\" fill-opacity=\"1\" /><path clip-path=\"url(#clip850)\" d=\"M 0 0 M2047.02 1445.17 Q2043.41 1445.17 2041.58 1448.74 Q2039.77 1452.28 2039.77 1459.41 Q2039.77 1466.51 2041.58 1470.08 Q2043.41 1473.62 2047.02 1473.62 Q2050.65 1473.62 2052.46 1470.08 Q2054.29 1466.51 2054.29 1459.41 Q2054.29 1452.28 2052.46 1448.74 Q2050.65 1445.17 2047.02 1445.17 M2047.02 1441.47 Q2052.83 1441.47 2055.88 1446.07 Q2058.96 1450.66 2058.96 1459.41 Q2058.96 1468.13 2055.88 1472.74 Q2052.83 1477.32 2047.02 1477.32 Q2041.21 1477.32 2038.13 1472.74 Q2035.07 1468.13 2035.07 1459.41 Q2035.07 1450.66 2038.13 1446.07 Q2041.21 1441.47 2047.02 1441.47 Z\" fill=\"#000000\" fill-rule=\"evenodd\" fill-opacity=\"1\" /><path clip-path=\"url(#clip850)\" d=\"M 0 0 M2074.03 1445.17 Q2070.42 1445.17 2068.59 1448.74 Q2066.78 1452.28 2066.78 1459.41 Q2066.78 1466.51 2068.59 1470.08 Q2070.42 1473.62 2074.03 1473.62 Q2077.66 1473.62 2079.47 1470.08 Q2081.3 1466.51 2081.3 1459.41 Q2081.3 1452.28 2079.47 1448.74 Q2077.66 1445.17 2074.03 1445.17 M2074.03 1441.47 Q2079.84 1441.47 2082.9 1446.07 Q2085.97 1450.66 2085.97 1459.41 Q2085.97 1468.13 2082.9 1472.74 Q2079.84 1477.32 2074.03 1477.32 Q2068.22 1477.32 2065.14 1472.74 Q2062.09 1468.13 2062.09 1459.41 Q2062.09 1450.66 2065.14 1446.07 Q2068.22 1441.47 2074.03 1441.47 Z\" fill=\"#000000\" fill-rule=\"evenodd\" fill-opacity=\"1\" /><path clip-path=\"url(#clip850)\" d=\"M 0 0 M2101.04 1445.17 Q2097.43 1445.17 2095.6 1448.74 Q2093.8 1452.28 2093.8 1459.41 Q2093.8 1466.51 2095.6 1470.08 Q2097.43 1473.62 2101.04 1473.62 Q2104.68 1473.62 2106.48 1470.08 Q2108.31 1466.51 2108.31 1459.41 Q2108.31 1452.28 2106.48 1448.74 Q2104.68 1445.17 2101.04 1445.17 M2101.04 1441.47 Q2106.85 1441.47 2109.91 1446.07 Q2112.99 1450.66 2112.99 1459.41 Q2112.99 1468.13 2109.91 1472.74 Q2106.85 1477.32 2101.04 1477.32 Q2095.23 1477.32 2092.16 1472.74 Q2089.1 1468.13 2089.1 1459.41 Q2089.1 1450.66 2092.16 1446.07 Q2095.23 1441.47 2101.04 1441.47 Z\" fill=\"#000000\" fill-rule=\"evenodd\" fill-opacity=\"1\" /><path clip-path=\"url(#clip850)\" d=\"M 0 0 M126.931 1404.03 L134.57 1404.03 L134.57 1377.67 L126.26 1379.33 L126.26 1375.07 L134.524 1373.41 L139.2 1373.41 L139.2 1404.03 L146.839 1404.03 L146.839 1407.97 L126.931 1407.97 L126.931 1404.03 Z\" fill=\"#000000\" fill-rule=\"evenodd\" fill-opacity=\"1\" /><path clip-path=\"url(#clip850)\" d=\"M 0 0 M161.908 1376.48 Q158.297 1376.48 156.468 1380.05 Q154.663 1383.59 154.663 1390.72 Q154.663 1397.83 156.468 1401.39 Q158.297 1404.93 161.908 1404.93 Q165.542 1404.93 167.348 1401.39 Q169.177 1397.83 169.177 1390.72 Q169.177 1383.59 167.348 1380.05 Q165.542 1376.48 161.908 1376.48 M161.908 1372.78 Q167.718 1372.78 170.774 1377.39 Q173.852 1381.97 173.852 1390.72 Q173.852 1399.45 170.774 1404.05 Q167.718 1408.64 161.908 1408.64 Q156.098 1408.64 153.019 1404.05 Q149.964 1399.45 149.964 1390.72 Q149.964 1381.97 153.019 1377.39 Q156.098 1372.78 161.908 1372.78 Z\" fill=\"#000000\" fill-rule=\"evenodd\" fill-opacity=\"1\" /><path clip-path=\"url(#clip850)\" d=\"M 0 0 M173.852 1366.88 L197.964 1366.88 L197.964 1370.08 L173.852 1370.08 L173.852 1366.88 Z\" fill=\"#000000\" fill-rule=\"evenodd\" fill-opacity=\"1\" /><path clip-path=\"url(#clip850)\" d=\"M 0 0 M212.521 1355.79 L202.929 1370.78 L212.521 1370.78 L212.521 1355.79 M211.524 1352.48 L216.302 1352.48 L216.302 1370.78 L220.308 1370.78 L220.308 1373.94 L216.302 1373.94 L216.302 1380.56 L212.521 1380.56 L212.521 1373.94 L199.845 1373.94 L199.845 1370.27 L211.524 1352.48 Z\" fill=\"#000000\" fill-rule=\"evenodd\" fill-opacity=\"1\" /><path clip-path=\"url(#clip850)\" d=\"M 0 0 M127.853 1144.42 L135.492 1144.42 L135.492 1118.05 L127.182 1119.72 L127.182 1115.46 L135.446 1113.8 L140.121 1113.8 L140.121 1144.42 L147.76 1144.42 L147.76 1148.36 L127.853 1148.36 L127.853 1144.42 Z\" fill=\"#000000\" fill-rule=\"evenodd\" fill-opacity=\"1\" /><path clip-path=\"url(#clip850)\" d=\"M 0 0 M162.83 1116.87 Q159.219 1116.87 157.39 1120.44 Q155.584 1123.98 155.584 1131.11 Q155.584 1138.22 157.39 1141.78 Q159.219 1145.32 162.83 1145.32 Q166.464 1145.32 168.269 1141.78 Q170.098 1138.22 170.098 1131.11 Q170.098 1123.98 168.269 1120.44 Q166.464 1116.87 162.83 1116.87 M162.83 1113.17 Q168.64 1113.17 171.695 1117.78 Q174.774 1122.36 174.774 1131.11 Q174.774 1139.84 171.695 1144.44 Q168.64 1149.03 162.83 1149.03 Q157.02 1149.03 153.941 1144.44 Q150.885 1139.84 150.885 1131.11 Q150.885 1122.36 153.941 1117.78 Q157.02 1113.17 162.83 1113.17 Z\" fill=\"#000000\" fill-rule=\"evenodd\" fill-opacity=\"1\" /><path clip-path=\"url(#clip850)\" d=\"M 0 0 M174.774 1107.27 L198.886 1107.27 L198.886 1110.47 L174.774 1110.47 L174.774 1107.27 Z\" fill=\"#000000\" fill-rule=\"evenodd\" fill-opacity=\"1\" /><path clip-path=\"url(#clip850)\" d=\"M 0 0 M214.515 1105.8 Q217.242 1106.39 218.765 1108.23 Q220.308 1110.07 220.308 1112.78 Q220.308 1116.94 217.449 1119.21 Q214.59 1121.49 209.324 1121.49 Q207.556 1121.49 205.675 1121.13 Q203.813 1120.79 201.82 1120.1 L201.82 1116.43 Q203.4 1117.35 205.28 1117.82 Q207.161 1118.29 209.211 1118.29 Q212.785 1118.29 214.647 1116.88 Q216.527 1115.47 216.527 1112.78 Q216.527 1110.3 214.778 1108.91 Q213.048 1107.5 209.945 1107.5 L206.672 1107.5 L206.672 1104.38 L210.095 1104.38 Q212.897 1104.38 214.383 1103.27 Q215.869 1102.14 215.869 1100.03 Q215.869 1097.87 214.327 1096.72 Q212.803 1095.55 209.945 1095.55 Q208.384 1095.55 206.597 1095.89 Q204.81 1096.23 202.666 1096.95 L202.666 1093.56 Q204.829 1092.96 206.71 1092.66 Q208.609 1092.36 210.283 1092.36 Q214.609 1092.36 217.129 1094.33 Q219.649 1096.29 219.649 1099.64 Q219.649 1101.97 218.314 1103.59 Q216.979 1105.18 214.515 1105.8 Z\" fill=\"#000000\" fill-rule=\"evenodd\" fill-opacity=\"1\" /><path clip-path=\"url(#clip850)\" d=\"M 0 0 M128.624 884.81 L136.263 884.81 L136.263 858.444 L127.953 860.111 L127.953 855.851 L136.217 854.185 L140.893 854.185 L140.893 884.81 L148.531 884.81 L148.531 888.745 L128.624 888.745 L128.624 884.81 Z\" fill=\"#000000\" fill-rule=\"evenodd\" fill-opacity=\"1\" /><path clip-path=\"url(#clip850)\" d=\"M 0 0 M163.601 857.264 Q159.99 857.264 158.161 860.828 Q156.355 864.37 156.355 871.5 Q156.355 878.606 158.161 882.171 Q159.99 885.712 163.601 885.712 Q167.235 885.712 169.041 882.171 Q170.869 878.606 170.869 871.5 Q170.869 864.37 169.041 860.828 Q167.235 857.264 163.601 857.264 M163.601 853.56 Q169.411 853.56 172.467 858.166 Q175.545 862.75 175.545 871.5 Q175.545 880.226 172.467 884.833 Q169.411 889.416 163.601 889.416 Q157.791 889.416 154.712 884.833 Q151.656 880.226 151.656 871.5 Q151.656 862.75 154.712 858.166 Q157.791 853.56 163.601 853.56 Z\" fill=\"#000000\" fill-rule=\"evenodd\" fill-opacity=\"1\" /><path clip-path=\"url(#clip850)\" d=\"M 0 0 M175.545 847.661 L199.657 847.661 L199.657 850.859 L175.545 850.859 L175.545 847.661 Z\" fill=\"#000000\" fill-rule=\"evenodd\" fill-opacity=\"1\" /><path clip-path=\"url(#clip850)\" d=\"M 0 0 M207.048 858.137 L220.308 858.137 L220.308 861.334 L202.478 861.334 L202.478 858.137 Q204.641 855.899 208.365 852.137 Q212.107 848.357 213.067 847.266 Q214.891 845.216 215.606 843.806 Q216.339 842.376 216.339 841.003 Q216.339 838.765 214.759 837.355 Q213.198 835.944 210.678 835.944 Q208.891 835.944 206.898 836.565 Q204.923 837.185 202.666 838.445 L202.666 834.609 Q204.961 833.687 206.954 833.217 Q208.948 832.747 210.603 832.747 Q214.966 832.747 217.562 834.928 Q220.157 837.11 220.157 840.759 Q220.157 842.489 219.499 844.05 Q218.859 845.592 217.148 847.699 Q216.678 848.244 214.158 850.859 Q211.637 853.454 207.048 858.137 Z\" fill=\"#000000\" fill-rule=\"evenodd\" fill-opacity=\"1\" /><path clip-path=\"url(#clip850)\" d=\"M 0 0 M128.323 625.199 L135.962 625.199 L135.962 598.834 L127.652 600.5 L127.652 596.241 L135.916 594.574 L140.592 594.574 L140.592 625.199 L148.231 625.199 L148.231 629.134 L128.323 629.134 L128.323 625.199 Z\" fill=\"#000000\" fill-rule=\"evenodd\" fill-opacity=\"1\" /><path clip-path=\"url(#clip850)\" d=\"M 0 0 M163.3 597.653 Q159.689 597.653 157.86 601.218 Q156.055 604.759 156.055 611.889 Q156.055 618.995 157.86 622.56 Q159.689 626.102 163.3 626.102 Q166.934 626.102 168.74 622.56 Q170.568 618.995 170.568 611.889 Q170.568 604.759 168.74 601.218 Q166.934 597.653 163.3 597.653 M163.3 593.949 Q169.11 593.949 172.166 598.556 Q175.244 603.139 175.244 611.889 Q175.244 620.616 172.166 625.222 Q169.11 629.806 163.3 629.806 Q157.49 629.806 154.411 625.222 Q151.356 620.616 151.356 611.889 Q151.356 603.139 154.411 598.556 Q157.49 593.949 163.3 593.949 Z\" fill=\"#000000\" fill-rule=\"evenodd\" fill-opacity=\"1\" /><path clip-path=\"url(#clip850)\" d=\"M 0 0 M175.244 588.051 L199.356 588.051 L199.356 591.248 L175.244 591.248 L175.244 588.051 Z\" fill=\"#000000\" fill-rule=\"evenodd\" fill-opacity=\"1\" /><path clip-path=\"url(#clip850)\" d=\"M 0 0 M204.133 598.527 L210.34 598.527 L210.34 577.105 L203.588 578.459 L203.588 574.998 L210.302 573.644 L214.101 573.644 L214.101 598.527 L220.308 598.527 L220.308 601.724 L204.133 601.724 L204.133 598.527 Z\" fill=\"#000000\" fill-rule=\"evenodd\" fill-opacity=\"1\" /><path clip-path=\"url(#clip850)\" d=\"M 0 0 M153.977 365.589 L161.616 365.589 L161.616 339.223 L153.306 340.89 L153.306 336.63 L161.57 334.964 L166.245 334.964 L166.245 365.589 L173.884 365.589 L173.884 369.524 L153.977 369.524 L153.977 365.589 Z\" fill=\"#000000\" fill-rule=\"evenodd\" fill-opacity=\"1\" /><path clip-path=\"url(#clip850)\" d=\"M 0 0 M188.954 338.042 Q185.343 338.042 183.514 341.607 Q181.708 345.149 181.708 352.279 Q181.708 359.385 183.514 362.95 Q185.343 366.491 188.954 366.491 Q192.588 366.491 194.393 362.95 Q196.222 359.385 196.222 352.279 Q196.222 345.149 194.393 341.607 Q192.588 338.042 188.954 338.042 M188.954 334.339 Q194.764 334.339 197.819 338.945 Q200.898 343.529 200.898 352.279 Q200.898 361.005 197.819 365.612 Q194.764 370.195 188.954 370.195 Q183.144 370.195 180.065 365.612 Q177.009 361.005 177.009 352.279 Q177.009 343.529 180.065 338.945 Q183.144 334.339 188.954 334.339 Z\" fill=\"#000000\" fill-rule=\"evenodd\" fill-opacity=\"1\" /><path clip-path=\"url(#clip850)\" d=\"M 0 0 M210.603 316.535 Q207.669 316.535 206.183 319.431 Q204.716 322.309 204.716 328.102 Q204.716 333.876 206.183 336.772 Q207.669 339.65 210.603 339.65 Q213.556 339.65 215.023 336.772 Q216.509 333.876 216.509 328.102 Q216.509 322.309 215.023 319.431 Q213.556 316.535 210.603 316.535 M210.603 313.526 Q215.324 313.526 217.806 317.268 Q220.308 320.992 220.308 328.102 Q220.308 335.192 217.806 338.935 Q215.324 342.659 210.603 342.659 Q205.882 342.659 203.381 338.935 Q200.898 335.192 200.898 328.102 Q200.898 320.992 203.381 317.268 Q205.882 313.526 210.603 313.526 Z\" fill=\"#000000\" fill-rule=\"evenodd\" fill-opacity=\"1\" /><path clip-path=\"url(#clip850)\" d=\"M 0 0 M156.667 105.978 L164.305 105.978 L164.305 79.6125 L155.995 81.2792 L155.995 77.0199 L164.259 75.3533 L168.935 75.3533 L168.935 105.978 L176.574 105.978 L176.574 109.913 L156.667 109.913 L156.667 105.978 Z\" fill=\"#000000\" fill-rule=\"evenodd\" fill-opacity=\"1\" /><path clip-path=\"url(#clip850)\" d=\"M 0 0 M191.643 78.432 Q188.032 78.432 186.203 81.9968 Q184.398 85.5384 184.398 92.668 Q184.398 99.7744 186.203 103.339 Q188.032 106.881 191.643 106.881 Q195.277 106.881 197.083 103.339 Q198.912 99.7744 198.912 92.668 Q198.912 85.5384 197.083 81.9968 Q195.277 78.432 191.643 78.432 M191.643 74.7283 Q197.453 74.7283 200.509 79.3347 Q203.588 83.918 203.588 92.668 Q203.588 101.395 200.509 106.001 Q197.453 110.585 191.643 110.585 Q185.833 110.585 182.754 106.001 Q179.699 101.395 179.699 92.668 Q179.699 83.918 182.754 79.3347 Q185.833 74.7283 191.643 74.7283 Z\" fill=\"#000000\" fill-rule=\"evenodd\" fill-opacity=\"1\" /><path clip-path=\"url(#clip850)\" d=\"M 0 0 M204.133 79.3056 L210.34 79.3056 L210.34 57.8835 L203.588 59.2377 L203.588 55.777 L210.302 54.4229 L214.101 54.4229 L214.101 79.3056 L220.308 79.3056 L220.308 82.5029 L204.133 82.5029 L204.133 79.3056 Z\" fill=\"#000000\" fill-rule=\"evenodd\" fill-opacity=\"1\" /><path clip-path=\"url(#clip850)\" d=\"M 0 0 M1108.81 1536.76 L1108.81 1539.62 L1081.88 1539.62 Q1082.27 1545.67 1085.51 1548.85 Q1088.79 1552 1094.62 1552 Q1097.99 1552 1101.14 1551.17 Q1104.32 1550.35 1107.44 1548.69 L1107.44 1554.23 Q1104.29 1555.57 1100.98 1556.27 Q1097.67 1556.97 1094.27 1556.97 Q1085.74 1556.97 1080.74 1552 Q1075.77 1547.04 1075.77 1538.57 Q1075.77 1529.82 1080.48 1524.69 Q1085.23 1519.54 1093.25 1519.54 Q1100.44 1519.54 1104.61 1524.18 Q1108.81 1528.8 1108.81 1536.76 M1102.95 1535.04 Q1102.89 1530.23 1100.25 1527.37 Q1097.64 1524.5 1093.31 1524.5 Q1088.41 1524.5 1085.45 1527.27 Q1082.52 1530.04 1082.08 1535.07 L1102.95 1535.04 Z\" fill=\"#000000\" fill-rule=\"evenodd\" fill-opacity=\"1\" /><path clip-path=\"url(#clip850)\" d=\"M 0 0 M1120.62 1550.7 L1120.62 1569.6 L1114.73 1569.6 L1114.73 1520.4 L1120.62 1520.4 L1120.62 1525.81 Q1122.47 1522.62 1125.27 1521.1 Q1128.1 1519.54 1132.01 1519.54 Q1138.51 1519.54 1142.55 1524.69 Q1146.62 1529.85 1146.62 1538.25 Q1146.62 1546.65 1142.55 1551.81 Q1138.51 1556.97 1132.01 1556.97 Q1128.1 1556.97 1125.27 1555.44 Q1122.47 1553.88 1120.62 1550.7 M1140.54 1538.25 Q1140.54 1531.79 1137.87 1528.13 Q1135.23 1524.44 1130.58 1524.44 Q1125.94 1524.44 1123.26 1528.13 Q1120.62 1531.79 1120.62 1538.25 Q1120.62 1544.71 1123.26 1548.4 Q1125.94 1552.07 1130.58 1552.07 Q1135.23 1552.07 1137.87 1548.4 Q1140.54 1544.71 1140.54 1538.25 Z\" fill=\"#000000\" fill-rule=\"evenodd\" fill-opacity=\"1\" /><path clip-path=\"url(#clip850)\" d=\"M 0 0 M1166.58 1524.5 Q1161.87 1524.5 1159.13 1528.19 Q1156.4 1531.85 1156.4 1538.25 Q1156.4 1544.65 1159.1 1548.34 Q1161.84 1552 1166.58 1552 Q1171.26 1552 1174 1548.31 Q1176.73 1544.62 1176.73 1538.25 Q1176.73 1531.92 1174 1528.23 Q1171.26 1524.5 1166.58 1524.5 M1166.58 1519.54 Q1174.22 1519.54 1178.58 1524.5 Q1182.94 1529.47 1182.94 1538.25 Q1182.94 1547 1178.58 1552 Q1174.22 1556.97 1166.58 1556.97 Q1158.91 1556.97 1154.55 1552 Q1150.22 1547 1150.22 1538.25 Q1150.22 1529.47 1154.55 1524.5 Q1158.91 1519.54 1166.58 1519.54 Z\" fill=\"#000000\" fill-rule=\"evenodd\" fill-opacity=\"1\" /><path clip-path=\"url(#clip850)\" d=\"M 0 0 M1214.74 1521.76 L1214.74 1527.24 Q1212.25 1525.87 1209.74 1525.2 Q1207.26 1524.5 1204.71 1524.5 Q1199.01 1524.5 1195.86 1528.13 Q1192.71 1531.73 1192.71 1538.25 Q1192.71 1544.78 1195.86 1548.4 Q1199.01 1552 1204.71 1552 Q1207.26 1552 1209.74 1551.33 Q1212.25 1550.63 1214.74 1549.26 L1214.74 1554.68 Q1212.29 1555.82 1209.64 1556.39 Q1207.03 1556.97 1204.07 1556.97 Q1196.02 1556.97 1191.28 1551.91 Q1186.54 1546.85 1186.54 1538.25 Q1186.54 1529.53 1191.31 1524.53 Q1196.12 1519.54 1204.46 1519.54 Q1207.16 1519.54 1209.74 1520.11 Q1212.32 1520.65 1214.74 1521.76 Z\" fill=\"#000000\" fill-rule=\"evenodd\" fill-opacity=\"1\" /><path clip-path=\"url(#clip850)\" d=\"M 0 0 M1250.51 1534.53 L1250.51 1556.04 L1244.66 1556.04 L1244.66 1534.72 Q1244.66 1529.66 1242.68 1527.14 Q1240.71 1524.63 1236.76 1524.63 Q1232.02 1524.63 1229.28 1527.65 Q1226.55 1530.68 1226.55 1535.9 L1226.55 1556.04 L1220.66 1556.04 L1220.66 1506.52 L1226.55 1506.52 L1226.55 1525.93 Q1228.65 1522.72 1231.48 1521.13 Q1234.34 1519.54 1238.07 1519.54 Q1244.21 1519.54 1247.36 1523.36 Q1250.51 1527.14 1250.51 1534.53 Z\" fill=\"#000000\" fill-rule=\"evenodd\" fill-opacity=\"1\" /><path clip-path=\"url(#clip850)\" d=\"M 0 0 M1279.38 1521.45 L1279.38 1526.98 Q1276.9 1525.71 1274.22 1525.07 Q1271.55 1524.44 1268.69 1524.44 Q1264.33 1524.44 1262.13 1525.77 Q1259.97 1527.11 1259.97 1529.79 Q1259.97 1531.82 1261.52 1533 Q1263.08 1534.15 1267.79 1535.2 L1269.8 1535.64 Q1276.04 1536.98 1278.65 1539.43 Q1281.29 1541.85 1281.29 1546.21 Q1281.29 1551.17 1277.34 1554.07 Q1273.43 1556.97 1266.55 1556.97 Q1263.69 1556.97 1260.57 1556.39 Q1257.48 1555.85 1254.04 1554.74 L1254.04 1548.69 Q1257.29 1550.38 1260.44 1551.24 Q1263.59 1552.07 1266.68 1552.07 Q1270.82 1552.07 1273.05 1550.66 Q1275.27 1549.23 1275.27 1546.65 Q1275.27 1544.27 1273.65 1542.99 Q1272.06 1541.72 1266.62 1540.54 L1264.58 1540.07 Q1259.14 1538.92 1256.72 1536.56 Q1254.3 1534.18 1254.3 1530.04 Q1254.3 1525.01 1257.86 1522.27 Q1261.43 1519.54 1267.99 1519.54 Q1271.23 1519.54 1274.1 1520.01 Q1276.96 1520.49 1279.38 1521.45 Z\" fill=\"#000000\" fill-rule=\"evenodd\" fill-opacity=\"1\" /><path clip-path=\"url(#clip850)\" d=\"M 0 0 M38.479 837.779 L38.479 831.923 L88.0042 831.923 L88.0042 837.779 L38.479 837.779 Z\" fill=\"#000000\" fill-rule=\"evenodd\" fill-opacity=\"1\" /><path clip-path=\"url(#clip850)\" d=\"M 0 0 M70.0847 809.579 Q70.0847 816.677 71.7079 819.414 Q73.3312 822.152 77.2461 822.152 Q80.3653 822.152 82.2114 820.115 Q84.0256 818.046 84.0256 814.513 Q84.0256 809.643 80.5881 806.715 Q77.1188 803.755 71.3897 803.755 L70.0847 803.755 L70.0847 809.579 M67.6657 797.898 L88.0042 797.898 L88.0042 803.755 L82.5933 803.755 Q85.8398 805.76 87.3994 808.752 Q88.9272 811.744 88.9272 816.072 Q88.9272 821.547 85.8716 824.793 Q82.7843 828.008 77.6281 828.008 Q71.6125 828.008 68.5569 823.998 Q65.5014 819.955 65.5014 811.966 L65.5014 803.755 L64.9285 803.755 Q60.8862 803.755 58.6901 806.428 Q56.4621 809.07 56.4621 813.876 Q56.4621 816.932 57.1941 819.828 Q57.9262 822.725 59.3903 825.398 L53.9795 825.398 Q52.7381 822.183 52.1334 819.16 Q51.4968 816.136 51.4968 813.271 Q51.4968 805.537 55.5072 801.718 Q59.5176 797.898 67.6657 797.898 Z\" fill=\"#000000\" fill-rule=\"evenodd\" fill-opacity=\"1\" /><path clip-path=\"url(#clip850)\" d=\"M 0 0 M59.1993 764.001 Q55.2526 761.805 53.3747 758.749 Q51.4968 755.694 51.4968 751.556 Q51.4968 745.986 55.4117 742.962 Q59.2948 739.939 66.4881 739.939 L88.0042 739.939 L88.0042 745.827 L66.679 745.827 Q61.5546 745.827 59.072 747.641 Q56.5894 749.455 56.5894 753.179 Q56.5894 757.731 59.6131 760.372 Q62.6368 763.014 67.8567 763.014 L88.0042 763.014 L88.0042 768.902 L66.679 768.902 Q61.5228 768.902 59.072 770.717 Q56.5894 772.531 56.5894 776.319 Q56.5894 780.806 59.6449 783.448 Q62.6686 786.09 67.8567 786.09 L88.0042 786.09 L88.0042 791.978 L52.3562 791.978 L52.3562 786.09 L57.8944 786.09 Q54.616 784.085 53.0564 781.284 Q51.4968 778.483 51.4968 774.632 Q51.4968 770.749 53.4702 768.043 Q55.4436 765.306 59.1993 764.001 Z\" fill=\"#000000\" fill-rule=\"evenodd\" fill-opacity=\"1\" /><path clip-path=\"url(#clip850)\" d=\"M 0 0 M70.212 708.205 Q63.7508 708.205 60.0905 710.879 Q56.3984 713.521 56.3984 718.168 Q56.3984 722.815 60.0905 725.488 Q63.7508 728.13 70.212 728.13 Q76.6732 728.13 80.3653 725.488 Q84.0256 722.815 84.0256 718.168 Q84.0256 713.521 80.3653 710.879 Q76.6732 708.205 70.212 708.205 M57.7671 728.13 Q54.5842 726.284 53.0564 723.483 Q51.4968 720.65 51.4968 716.736 Q51.4968 710.242 56.6531 706.2 Q61.8093 702.126 70.212 702.126 Q78.6147 702.126 83.771 706.2 Q88.9272 710.242 88.9272 716.736 Q88.9272 720.65 87.3994 723.483 Q85.8398 726.284 82.657 728.13 L88.0042 728.13 L88.0042 734.018 L38.479 734.018 L38.479 728.13 L57.7671 728.13 Z\" fill=\"#000000\" fill-rule=\"evenodd\" fill-opacity=\"1\" /><path clip-path=\"url(#clip850)\" d=\"M 0 0 M57.7671 672.526 L38.479 672.526 L38.479 666.669 L88.0042 666.669 L88.0042 672.526 L82.657 672.526 Q85.8398 674.372 87.3994 677.204 Q88.9272 680.005 88.9272 683.952 Q88.9272 690.413 83.771 694.487 Q78.6147 698.53 70.212 698.53 Q61.8093 698.53 56.6531 694.487 Q51.4968 690.413 51.4968 683.952 Q51.4968 680.005 53.0564 677.204 Q54.5842 674.372 57.7671 672.526 M70.212 692.482 Q76.6732 692.482 80.3653 689.84 Q84.0256 687.167 84.0256 682.52 Q84.0256 677.873 80.3653 675.199 Q76.6732 672.526 70.212 672.526 Q63.7508 672.526 60.0905 675.199 Q56.3984 677.873 56.3984 682.52 Q56.3984 687.167 60.0905 689.84 Q63.7508 692.482 70.212 692.482 Z\" fill=\"#000000\" fill-rule=\"evenodd\" fill-opacity=\"1\" /><path clip-path=\"url(#clip850)\" d=\"M 0 0 M70.0847 644.326 Q70.0847 651.423 71.7079 654.161 Q73.3312 656.898 77.2461 656.898 Q80.3653 656.898 82.2114 654.861 Q84.0256 652.792 84.0256 649.259 Q84.0256 644.389 80.5881 641.461 Q77.1188 638.501 71.3897 638.501 L70.0847 638.501 L70.0847 644.326 M67.6657 632.645 L88.0042 632.645 L88.0042 638.501 L82.5933 638.501 Q85.8398 640.506 87.3994 643.498 Q88.9272 646.49 88.9272 650.819 Q88.9272 656.293 85.8716 659.54 Q82.7843 662.754 77.6281 662.754 Q71.6125 662.754 68.5569 658.744 Q65.5014 654.702 65.5014 646.713 L65.5014 638.501 L64.9285 638.501 Q60.8862 638.501 58.6901 641.175 Q56.4621 643.816 56.4621 648.622 Q56.4621 651.678 57.1941 654.574 Q57.9262 657.471 59.3903 660.144 L53.9795 660.144 Q52.7381 656.93 52.1334 653.906 Q51.4968 650.882 51.4968 648.018 Q51.4968 640.283 55.5072 636.464 Q59.5176 632.645 67.6657 632.645 Z\" fill=\"#000000\" fill-rule=\"evenodd\" fill-opacity=\"1\" /><circle clip-path=\"url(#clip852)\" cx=\"590.969\" cy=\"951.554\" r=\"28\" fill=\"#992864\" fill-rule=\"evenodd\" fill-opacity=\"1\" stroke=\"#000000\" stroke-opacity=\"1\" stroke-width=\"3.2\"/>\n",
       "<circle clip-path=\"url(#clip852)\" cx=\"1766.09\" cy=\"518.87\" r=\"8\" fill=\"#10092f\" fill-rule=\"evenodd\" fill-opacity=\"1\" stroke=\"#000000\" stroke-opacity=\"1\" stroke-width=\"3.2\"/>\n",
       "<circle clip-path=\"url(#clip852)\" cx=\"1472.31\" cy=\"1167.9\" r=\"12\" fill=\"#2d0a59\" fill-rule=\"evenodd\" fill-opacity=\"1\" stroke=\"#000000\" stroke-opacity=\"1\" stroke-width=\"3.2\"/>\n",
       "<circle clip-path=\"url(#clip852)\" cx=\"590.969\" cy=\"518.87\" r=\"32\" fill=\"#b33258\" fill-rule=\"evenodd\" fill-opacity=\"1\" stroke=\"#000000\" stroke-opacity=\"1\" stroke-width=\"3.2\"/>\n",
       "<circle clip-path=\"url(#clip852)\" cx=\"590.969\" cy=\"302.528\" r=\"31\" fill=\"#af315a\" fill-rule=\"evenodd\" fill-opacity=\"1\" stroke=\"#000000\" stroke-opacity=\"1\" stroke-width=\"3.2\"/>\n",
       "<circle clip-path=\"url(#clip852)\" cx=\"884.751\" cy=\"86.1857\" r=\"16\" fill=\"#4a0b6a\" fill-rule=\"evenodd\" fill-opacity=\"1\" stroke=\"#000000\" stroke-opacity=\"1\" stroke-width=\"3.2\"/>\n",
       "<circle clip-path=\"url(#clip852)\" cx=\"1766.09\" cy=\"302.528\" r=\"12\" fill=\"#2a0b55\" fill-rule=\"evenodd\" fill-opacity=\"1\" stroke=\"#000000\" stroke-opacity=\"1\" stroke-width=\"3.2\"/>\n",
       "<circle clip-path=\"url(#clip852)\" cx=\"297.188\" cy=\"86.1857\" r=\"57\" fill=\"#f2e55e\" fill-rule=\"evenodd\" fill-opacity=\"1\" stroke=\"#000000\" stroke-opacity=\"1\" stroke-width=\"3.2\"/>\n",
       "<circle clip-path=\"url(#clip852)\" cx=\"2059.88\" cy=\"86.1857\" r=\"10\" fill=\"#1b0c41\" fill-rule=\"evenodd\" fill-opacity=\"1\" stroke=\"#000000\" stroke-opacity=\"1\" stroke-width=\"3.2\"/>\n",
       "<circle clip-path=\"url(#clip852)\" cx=\"297.188\" cy=\"302.528\" r=\"58\" fill=\"#f1ee74\" fill-rule=\"evenodd\" fill-opacity=\"1\" stroke=\"#000000\" stroke-opacity=\"1\" stroke-width=\"3.2\"/>\n",
       "<circle clip-path=\"url(#clip852)\" cx=\"590.969\" cy=\"735.212\" r=\"29\" fill=\"#a12b61\" fill-rule=\"evenodd\" fill-opacity=\"1\" stroke=\"#000000\" stroke-opacity=\"1\" stroke-width=\"3.2\"/>\n",
       "<circle clip-path=\"url(#clip852)\" cx=\"884.751\" cy=\"1384.24\" r=\"16\" fill=\"#4a0b6a\" fill-rule=\"evenodd\" fill-opacity=\"1\" stroke=\"#000000\" stroke-opacity=\"1\" stroke-width=\"3.2\"/>\n",
       "<circle clip-path=\"url(#clip852)\" cx=\"1472.31\" cy=\"1384.24\" r=\"10\" fill=\"#1a0b40\" fill-rule=\"evenodd\" fill-opacity=\"1\" stroke=\"#000000\" stroke-opacity=\"1\" stroke-width=\"3.2\"/>\n",
       "<circle clip-path=\"url(#clip852)\" cx=\"884.751\" cy=\"1167.9\" r=\"15\" fill=\"#410967\" fill-rule=\"evenodd\" fill-opacity=\"1\" stroke=\"#000000\" stroke-opacity=\"1\" stroke-width=\"3.2\"/>\n",
       "<circle clip-path=\"url(#clip852)\" cx=\"1766.09\" cy=\"1384.24\" r=\"7\" fill=\"#0c0828\" fill-rule=\"evenodd\" fill-opacity=\"1\" stroke=\"#000000\" stroke-opacity=\"1\" stroke-width=\"3.2\"/>\n",
       "<circle clip-path=\"url(#clip852)\" cx=\"297.188\" cy=\"1167.9\" r=\"57\" fill=\"#f1e967\" fill-rule=\"evenodd\" fill-opacity=\"1\" stroke=\"#000000\" stroke-opacity=\"1\" stroke-width=\"3.2\"/>\n",
       "<circle clip-path=\"url(#clip852)\" cx=\"1472.31\" cy=\"735.212\" r=\"13\" fill=\"#300a5c\" fill-rule=\"evenodd\" fill-opacity=\"1\" stroke=\"#000000\" stroke-opacity=\"1\" stroke-width=\"3.2\"/>\n",
       "<circle clip-path=\"url(#clip852)\" cx=\"2059.88\" cy=\"518.87\" r=\"3\" fill=\"#000003\" fill-rule=\"evenodd\" fill-opacity=\"1\" stroke=\"#000000\" stroke-opacity=\"1\" stroke-width=\"3.2\"/>\n",
       "<circle clip-path=\"url(#clip852)\" cx=\"2059.88\" cy=\"1384.24\" r=\"13\" fill=\"#32095d\" fill-rule=\"evenodd\" fill-opacity=\"1\" stroke=\"#000000\" stroke-opacity=\"1\" stroke-width=\"3.2\"/>\n",
       "<circle clip-path=\"url(#clip852)\" cx=\"1178.53\" cy=\"1167.9\" r=\"11\" fill=\"#200c49\" fill-rule=\"evenodd\" fill-opacity=\"1\" stroke=\"#000000\" stroke-opacity=\"1\" stroke-width=\"3.2\"/>\n",
       "<circle clip-path=\"url(#clip852)\" cx=\"884.751\" cy=\"951.554\" r=\"20\" fill=\"#63146e\" fill-rule=\"evenodd\" fill-opacity=\"1\" stroke=\"#000000\" stroke-opacity=\"1\" stroke-width=\"3.2\"/>\n",
       "<circle clip-path=\"url(#clip852)\" cx=\"1178.53\" cy=\"951.554\" r=\"16\" fill=\"#480b6a\" fill-rule=\"evenodd\" fill-opacity=\"1\" stroke=\"#000000\" stroke-opacity=\"1\" stroke-width=\"3.2\"/>\n",
       "<circle clip-path=\"url(#clip852)\" cx=\"1178.53\" cy=\"1384.24\" r=\"9\" fill=\"#180b3d\" fill-rule=\"evenodd\" fill-opacity=\"1\" stroke=\"#000000\" stroke-opacity=\"1\" stroke-width=\"3.2\"/>\n",
       "<circle clip-path=\"url(#clip852)\" cx=\"884.751\" cy=\"735.212\" r=\"15\" fill=\"#430a68\" fill-rule=\"evenodd\" fill-opacity=\"1\" stroke=\"#000000\" stroke-opacity=\"1\" stroke-width=\"3.2\"/>\n",
       "<circle clip-path=\"url(#clip852)\" cx=\"590.969\" cy=\"86.1857\" r=\"28\" fill=\"#9c2963\" fill-rule=\"evenodd\" fill-opacity=\"1\" stroke=\"#000000\" stroke-opacity=\"1\" stroke-width=\"3.2\"/>\n",
       "<circle clip-path=\"url(#clip852)\" cx=\"1178.53\" cy=\"735.212\" r=\"10\" fill=\"#1f0c47\" fill-rule=\"evenodd\" fill-opacity=\"1\" stroke=\"#000000\" stroke-opacity=\"1\" stroke-width=\"3.2\"/>\n",
       "<circle clip-path=\"url(#clip852)\" cx=\"1178.53\" cy=\"518.87\" r=\"12\" fill=\"#280b53\" fill-rule=\"evenodd\" fill-opacity=\"1\" stroke=\"#000000\" stroke-opacity=\"1\" stroke-width=\"3.2\"/>\n",
       "<circle clip-path=\"url(#clip852)\" cx=\"884.751\" cy=\"302.528\" r=\"17\" fill=\"#4f0d6c\" fill-rule=\"evenodd\" fill-opacity=\"1\" stroke=\"#000000\" stroke-opacity=\"1\" stroke-width=\"3.2\"/>\n",
       "<circle clip-path=\"url(#clip852)\" cx=\"590.969\" cy=\"1167.9\" r=\"31\" fill=\"#b1315a\" fill-rule=\"evenodd\" fill-opacity=\"1\" stroke=\"#000000\" stroke-opacity=\"1\" stroke-width=\"3.2\"/>\n",
       "<circle clip-path=\"url(#clip852)\" cx=\"297.188\" cy=\"951.554\" r=\"59\" fill=\"#f1f27e\" fill-rule=\"evenodd\" fill-opacity=\"1\" stroke=\"#000000\" stroke-opacity=\"1\" stroke-width=\"3.2\"/>\n",
       "<circle clip-path=\"url(#clip852)\" cx=\"2059.88\" cy=\"735.212\" r=\"13\" fill=\"#32095d\" fill-rule=\"evenodd\" fill-opacity=\"1\" stroke=\"#000000\" stroke-opacity=\"1\" stroke-width=\"3.2\"/>\n",
       "<circle clip-path=\"url(#clip852)\" cx=\"1766.09\" cy=\"951.554\" r=\"8\" fill=\"#0e082b\" fill-rule=\"evenodd\" fill-opacity=\"1\" stroke=\"#000000\" stroke-opacity=\"1\" stroke-width=\"3.2\"/>\n",
       "<circle clip-path=\"url(#clip852)\" cx=\"1766.09\" cy=\"735.212\" r=\"10\" fill=\"#1e0c47\" fill-rule=\"evenodd\" fill-opacity=\"1\" stroke=\"#000000\" stroke-opacity=\"1\" stroke-width=\"3.2\"/>\n",
       "<circle clip-path=\"url(#clip852)\" cx=\"2059.88\" cy=\"951.554\" r=\"15\" fill=\"#420967\" fill-rule=\"evenodd\" fill-opacity=\"1\" stroke=\"#000000\" stroke-opacity=\"1\" stroke-width=\"3.2\"/>\n",
       "<circle clip-path=\"url(#clip852)\" cx=\"590.969\" cy=\"1384.24\" r=\"29\" fill=\"#a42c60\" fill-rule=\"evenodd\" fill-opacity=\"1\" stroke=\"#000000\" stroke-opacity=\"1\" stroke-width=\"3.2\"/>\n",
       "<circle clip-path=\"url(#clip852)\" cx=\"1178.53\" cy=\"86.1857\" r=\"10\" fill=\"#190b3e\" fill-rule=\"evenodd\" fill-opacity=\"1\" stroke=\"#000000\" stroke-opacity=\"1\" stroke-width=\"3.2\"/>\n",
       "<circle clip-path=\"url(#clip852)\" cx=\"2059.88\" cy=\"1167.9\" r=\"15\" fill=\"#410967\" fill-rule=\"evenodd\" fill-opacity=\"1\" stroke=\"#000000\" stroke-opacity=\"1\" stroke-width=\"3.2\"/>\n",
       "<circle clip-path=\"url(#clip852)\" cx=\"1766.09\" cy=\"1167.9\" r=\"10\" fill=\"#1c0c43\" fill-rule=\"evenodd\" fill-opacity=\"1\" stroke=\"#000000\" stroke-opacity=\"1\" stroke-width=\"3.2\"/>\n",
       "<circle clip-path=\"url(#clip852)\" cx=\"297.188\" cy=\"1384.24\" r=\"57\" fill=\"#f1e865\" fill-rule=\"evenodd\" fill-opacity=\"1\" stroke=\"#000000\" stroke-opacity=\"1\" stroke-width=\"3.2\"/>\n",
       "<circle clip-path=\"url(#clip852)\" cx=\"1472.31\" cy=\"951.554\" r=\"9\" fill=\"#170b3b\" fill-rule=\"evenodd\" fill-opacity=\"1\" stroke=\"#000000\" stroke-opacity=\"1\" stroke-width=\"3.2\"/>\n",
       "<circle clip-path=\"url(#clip852)\" cx=\"884.751\" cy=\"518.87\" r=\"17\" fill=\"#4d0c6b\" fill-rule=\"evenodd\" fill-opacity=\"1\" stroke=\"#000000\" stroke-opacity=\"1\" stroke-width=\"3.2\"/>\n",
       "<circle clip-path=\"url(#clip852)\" cx=\"297.188\" cy=\"518.87\" r=\"61\" fill=\"#fcfea4\" fill-rule=\"evenodd\" fill-opacity=\"1\" stroke=\"#000000\" stroke-opacity=\"1\" stroke-width=\"3.2\"/>\n",
       "<circle clip-path=\"url(#clip852)\" cx=\"2059.88\" cy=\"302.528\" r=\"11\" fill=\"#200c49\" fill-rule=\"evenodd\" fill-opacity=\"1\" stroke=\"#000000\" stroke-opacity=\"1\" stroke-width=\"3.2\"/>\n",
       "<circle clip-path=\"url(#clip852)\" cx=\"1472.31\" cy=\"518.87\" r=\"11\" fill=\"#200c49\" fill-rule=\"evenodd\" fill-opacity=\"1\" stroke=\"#000000\" stroke-opacity=\"1\" stroke-width=\"3.2\"/>\n",
       "<circle clip-path=\"url(#clip852)\" cx=\"1178.53\" cy=\"302.528\" r=\"11\" fill=\"#250b50\" fill-rule=\"evenodd\" fill-opacity=\"1\" stroke=\"#000000\" stroke-opacity=\"1\" stroke-width=\"3.2\"/>\n",
       "<circle clip-path=\"url(#clip852)\" cx=\"1766.09\" cy=\"86.1857\" r=\"7\" fill=\"#0b0725\" fill-rule=\"evenodd\" fill-opacity=\"1\" stroke=\"#000000\" stroke-opacity=\"1\" stroke-width=\"3.2\"/>\n",
       "<circle clip-path=\"url(#clip852)\" cx=\"297.188\" cy=\"735.212\" r=\"56\" fill=\"#f4db4c\" fill-rule=\"evenodd\" fill-opacity=\"1\" stroke=\"#000000\" stroke-opacity=\"1\" stroke-width=\"3.2\"/>\n",
       "<circle clip-path=\"url(#clip852)\" cx=\"1472.31\" cy=\"302.528\" r=\"10\" fill=\"#190b3d\" fill-rule=\"evenodd\" fill-opacity=\"1\" stroke=\"#000000\" stroke-opacity=\"1\" stroke-width=\"3.2\"/>\n",
       "<circle clip-path=\"url(#clip852)\" cx=\"1472.31\" cy=\"86.1857\" r=\"9\" fill=\"#150b37\" fill-rule=\"evenodd\" fill-opacity=\"1\" stroke=\"#000000\" stroke-opacity=\"1\" stroke-width=\"3.2\"/>\n",
       "<defs>\n",
       "  <clipPath id=\"clip853\">\n",
       "    <rect x=\"2160\" y=\"47\" width=\"73\" height=\"1377\"/>\n",
       "  </clipPath>\n",
       "</defs>\n",
       "<g clip-path=\"url(#clip853)\">\n",
       "<image width=\"72\" height=\"1376\" xlink:href=\"data:image/png;base64,\n",
       "iVBORw0KGgoAAAANSUhEUgAAAEgAAAVgCAYAAADsKhu7AAAL6UlEQVR4nO3dwZEjNxBFQVBR/lsh\n",
       "L6UFZIHqHclDpgUTL35wCXTP7Off+/c7/K+/vv0D/DqBgkBBoCBQmPv+/fbP8NMsKAgUBAoChXnv\n",
       "z7d/hp9mQUGgIFAQKAgUHDWCBQWBgkBBoDDPh/TKgoJAQaAgUJh3fUhvLCgIFAQKAgWBgqNGsKAg\n",
       "UBAoCBR8SAcLCgIFgYJAwX1QsKAgUBAoCBQECnMcNVYWFAQKAgWBgvugYEFBoCBQECgIFOa4MFtZ\n",
       "UBAoCBQECnPuP9/+GX6aBQWBgkBBoODSPlhQECgIFAQKAgX3QcGCgkBBoCBQ8CEdLCgIFAQKAgX3\n",
       "QcGCgkBBoCBQECjMx1FjZUFBoCBQECjMuf5XhI0FBYGCQEGgIFBw1AgWFAQKAgWBgqNGsKAgUBAo\n",
       "CBS8HxQsKAgUBAoCBYHCfBw1VhYUBAoCBYGCt1yDBQWBgkBBoOCbdLCgIFAQKAgUBAoePQcLCgIF\n",
       "gYJAwVEjWFAQKAgUBAoCBUeNYEFBoCBQECg4agQLCgIFgYJAYc693/4ZfpoFBYGCQEGgIFBw1AgW\n",
       "FAQKAgWBgkv7YEFBoCBQECj4kA4WFAQKAgWBgkBhPp5qrCwoCBQECgIFR41gQUGgIFAQKAgUvEAV\n",
       "LCgIFAQKAgX3QcGCgkBBoCBQcB8ULCgIFAQKAgWBgvugYEFBoCBQECj4kA4WFAQKAgWBgl/qDRYU\n",
       "BAoCBYGCQMFRI1hQECgIFAQKPqSDBQWBgkBBoCBQ8K9YsKAgUBAoCBR8SAcLCgIFgYJAYc7zIb2x\n",
       "oCBQECgIFAQKjhrBgoJAQaAgUPAhHSwoCBQECgIFH9LBgoJAQaAgUBAozLnv2z/DT7OgIFAQKAgU\n",
       "HDWCBQWBgkBBoCBQcNQIFhQECgIFgYKjRrCgIFAQKAgUfJMOFhQECgIFgYJAYY6TxsqCgkBBoCBQ\n",
       "mPMcNTYWFAQKAgWBgm/SwYKCQEGgIFAQKPhXLFhQECgIFAQK44/g7SwoCBQECgIFgYKjRrCgIFAQ\n",
       "KAgUfEgHCwoCBYGCQGHO/Xz7Z/hpFhQECgIFgYJAYd7zr9jGgoJAQaAgUHAfFCwoCBQECgIF90HB\n",
       "goJAQaAgUBAozLsabdQJAgWBgkDBUSNYUBAoCBQECgKFOR49rywoCBQECgKFeY4aKwsKAgWBgkBh\n",
       "jkv7lTpBoCBQECgIFBw1ggUFgYJAQaDg0j5YUBAoCBQECl7iDOoEgYJAQaAgUPCWa7CgIFAQKAgU\n",
       "XNoHCwoCBYGCQEGgMO9ptFEnCBQECgIF90HBgoJAQaAgUHAfFCwoCBQECgIFgcIc90ErdYJAQaAg\n",
       "UHDUCBYUBAoCBYGCD+lgQUGgIFAQKAgU/NZzsKAgUBAoCBT81nNQJwgUBAoCBYHCPEeNlQUFgYJA\n",
       "QaDgqUawoCBQECgIFPyvCEGdIFAQKAgUBArug4IFBYGCQEGg4D4oWFAQKAgUBAq+SQcLCgIFgYJA\n",
       "QaDgLdegThAoCBQECo4awYKCQEGgIFAQKHiqESwoCBQECgIFR41gQUGgIFAQKPiva4IFBYGCQEGg\n",
       "IFDwv2QGdYJAQaAgUHAfFCwoCBQECgIFT1aDBQWBgkBBoCBQcNQIFhQECgIFgcJcH9IrCwoCBYGC\n",
       "QEGg4LeegzpBoCBQECi4DwoWFAQKAgWBgg/pYEFBoCBQECgIFLxAFSwoCBQECgIFR41gQUGgIFAQ\n",
       "KPiQDhYUBAoCBYGCQMGfpgjqBIGCQEGgMNel/cqCgkBBoCBQECi4MAsWFAQKAgWBgg/pYEFBoCBQ\n",
       "ECj4kA4WFAQKAgWBgkDBH1gKFhQECgIFgYKjRrCgIFAQKAgUfEgHCwoCBYGCQEGg4FcRgjpBoCBQ\n",
       "ECj4VYRgQUGgIFAQKAgUXJgFCwoCBYGCQMGHdLCgIFAQKAgUvMQZLCgIFAQKAgWBgqNGsKAgUBAo\n",
       "CBTmHR/SGwsKAgWBgkDBfVCwoCBQECgIFAQK7oOCBQWBgkBBoOCoESwoCBQECgIFgYKjRrCgIFAQ\n",
       "KAgUHDWCBQWBgkBBoOCbdLCgIFAQKAgUBAr+FQsWFAQKAgWBwly/irCyoCBQECgIFHyTDhYUBAoC\n",
       "BYGCQMGj52BBQaAgUBAozHvf/hF+mwUFgYJAQaAgUHDUCBYUBAoCBYGCv4IXLCgIFAQKAgXfpIMF\n",
       "BYGCQEGgIFDwAlWwoCBQECgIFPwqQrCgIFAQKAgUvB8ULCgIFAQKAgWBgqcawYKCQEGgIFBwaR8s\n",
       "KAgUBAoCBYGCpxrBgoJAQaAgUHAfFCwoCBQECgIFj56DBQWBgkBBoCBQcB8ULCgIFAQKAgWPnoMF\n",
       "BYGCQEGgMPfbP8GPs6AgUBAoCBQECo4awYKCQEGgIFDwflCwoCBQECgIFAQKLsyCBQWBgkBBoOA+\n",
       "KFhQECgIFAQKvkkHCwoCBYGCQEGg4KgRLCgIFAQKAgWPnoMFBYGCQEGgMP4yxc6CgkBBoCBQECg4\n",
       "agQLCgIFgYJAwaPnYEFBoCBQECgIFDx6DhYUBAoCBYGCo0awoCBQECgIFHyTDhYUBAoCBYGCQGGu\n",
       "N6hWFhQECgIFgYL7oGBBQaAgUBAouA8KFhQECgIFgYJAwVEjWFAQKAgUBArzXNqvLCgIFAQKAgWB\n",
       "wtzjwmxjQUGgIFAQKHg/KFhQECgIFAQK/gpesKAgUBAoCBQECv4KXrCgIFAQKAgUPHoOFhQECgIF\n",
       "gYKXOIMFBYGCQEGgIFDwC3XBgoJAQaAgUHDUCBYUBAoCBYGCQMFbrsGCgkBBoCBQ8JZrsKAgUBAo\n",
       "CBR8kw4WFAQKAgWBgkDBW67BgoJAQaAgUPD3g4IFBYGCQEGg4D4oWFAQKAgUBAoCBY+egwUFgYJA\n",
       "QaDgqBEsKAgUBAoCBYGCo0awoCBQECgIFBw1ggUFgYJAQaDgQzpYUBAoCBQECgIF90HBgoJAQaAg\n",
       "UHDUCBYUBAoCBYGCb9LBgoJAQaAgUBAoOGoECwoCBYGCQMHfDwoWFAQKAgWBgkDB/+0TLCgIFAQK\n",
       "AgX3QcGCgkBBoCBQmHd8Sm8sKAgUBAoCBYGCo0awoCBQECgIFDx6DhYUBAoCBYGCJ6vBgoJAQaAg\n",
       "UBAouA8KFhQECgIFgYJHz8GCgkBBoCBQECg4agQLCgIFgYJAwR9YChYUBAoCBYHCXC8IrSwoCBQE\n",
       "CgIFgYIXqIIFBYGCQEGgMM9RY2VBQaAgUBAo+CYdLCgIFAQKAgWBgqcawYKCQEGgIFDwflCwoCBQ\n",
       "ECgIFAQKc/1C3cqCgkBBoCBQcB8ULCgIFAQKAgV/miJYUBAoCBQECgIFL1AFCwoCBYGCQMGlfbCg\n",
       "IFAQKAgU3AcFCwoCBYGCQEGgMPe4EdpYUBAoCBQECu6DggUFgYJAQaAgUPCvWLCgIFAQKAgUPNUI\n",
       "FhQECgIFgYJL+2BBQaAgUBAoCBTmfhw1NhYUBAoCBYGCo0awoCBQECgIFOb5kF5ZUBAoCBQECgIF\n",
       "R41gQUGgIFAQKMz9+JDeWFAQKAgUBAoCBUeNYEFBoCBQECh4qhEsKAgUBAoCBd+kgwUFgYJAQaAg\n",
       "UPCvWLCgIFAQKAgUPHoOFhQECgIFgcK88+fbP8NPs6AgUBAoCBQECu6DggUFgYJAQaDg/aBgQUGg\n",
       "IFAQKAgU5j4XZhsLCgIFgYJAwVEjWFAQKAgUBApzPXpeWVAQKAgUBAoCBUeNYEFBoCBQECg4agQL\n",
       "CgIFgYJAYd7zTXpjQUGgIFAQKAgU3AcFCwoCBYGCQMFLnMGCgkBBoCBQECg4agQLCgIFgYJAYZ6j\n",
       "xsqCgkBBoCBQ8E06WFAQKAgUBAoChbleoFpZUBAoCBQECv7gdrCgIFAQKAgU/CpCsKAgUBAoCBQE\n",
       "Cp5qBAsKAgWBgkDBUSNYUBAoCBQECgIF/4oFCwoCBYGCQMGj52BBQaAgUBAo+CYdLCgIFAQKAgWB\n",
       "whyPnlcWFAQKAgWBgqNGsKAgUBAoCBS8xBksKAgUBAoCBYHCHEeNlQUFgYJAQaDg/aBgQUGgIFAQ\n",
       "KAgUPHoOFhQECgIFgYL7oGBBQaAgUBAozDvv2z/DT7OgIFAQKAgUBArug4IFBYGCQEGgMMdRY2VB\n",
       "QaAgUBAo/AdhU+3PqlcPeQAAAABJRU5ErkJggg==\n",
       "\" transform=\"translate(2161, 47)\"/>\n",
       "</g>\n",
       "<path clip-path=\"url(#clip850)\" d=\"M 0 0 M2280.7 1250.42 Q2277.09 1250.42 2275.26 1253.98 Q2273.45 1257.53 2273.45 1264.65 Q2273.45 1271.76 2275.26 1275.33 Q2277.09 1278.87 2280.7 1278.87 Q2284.33 1278.87 2286.14 1275.33 Q2287.97 1271.76 2287.97 1264.65 Q2287.97 1257.53 2286.14 1253.98 Q2284.33 1250.42 2280.7 1250.42 M2280.7 1246.72 Q2286.51 1246.72 2289.57 1251.32 Q2292.64 1255.9 2292.64 1264.65 Q2292.64 1273.38 2289.57 1277.99 Q2286.51 1282.57 2280.7 1282.57 Q2274.89 1282.57 2271.81 1277.99 Q2268.76 1273.38 2268.76 1264.65 Q2268.76 1255.9 2271.81 1251.32 Q2274.89 1246.72 2280.7 1246.72 Z\" fill=\"#000000\" fill-rule=\"evenodd\" fill-opacity=\"1\" /><path clip-path=\"url(#clip850)\" d=\"M 0 0 M2297.71 1276.02 L2302.6 1276.02 L2302.6 1281.9 L2297.71 1281.9 L2297.71 1276.02 Z\" fill=\"#000000\" fill-rule=\"evenodd\" fill-opacity=\"1\" /><path clip-path=\"url(#clip850)\" d=\"M 0 0 M2318.25 1262.76 Q2315.1 1262.76 2313.25 1264.91 Q2311.42 1267.06 2311.42 1270.81 Q2311.42 1274.54 2313.25 1276.72 Q2315.1 1278.87 2318.25 1278.87 Q2321.39 1278.87 2323.22 1276.72 Q2325.08 1274.54 2325.08 1270.81 Q2325.08 1267.06 2323.22 1264.91 Q2321.39 1262.76 2318.25 1262.76 M2327.53 1248.1 L2327.53 1252.36 Q2325.77 1251.53 2323.96 1251.09 Q2322.18 1250.65 2320.42 1250.65 Q2315.79 1250.65 2313.34 1253.78 Q2310.91 1256.9 2310.56 1263.22 Q2311.93 1261.21 2313.99 1260.14 Q2316.05 1259.05 2318.52 1259.05 Q2323.73 1259.05 2326.74 1262.22 Q2329.77 1265.37 2329.77 1270.81 Q2329.77 1276.14 2326.63 1279.35 Q2323.48 1282.57 2318.25 1282.57 Q2312.25 1282.57 2309.08 1277.99 Q2305.91 1273.38 2305.91 1264.65 Q2305.91 1256.46 2309.8 1251.6 Q2313.69 1246.72 2320.24 1246.72 Q2322 1246.72 2323.78 1247.06 Q2325.58 1247.41 2327.53 1248.1 Z\" fill=\"#000000\" fill-rule=\"evenodd\" fill-opacity=\"1\" /><path clip-path=\"url(#clip850)\" d=\"M 0 0 M2333.66 1247.34 L2355.89 1247.34 L2355.89 1249.33 L2343.34 1281.9 L2338.45 1281.9 L2350.26 1251.28 L2333.66 1251.28 L2333.66 1247.34 Z\" fill=\"#000000\" fill-rule=\"evenodd\" fill-opacity=\"1\" /><path clip-path=\"url(#clip850)\" d=\"M 0 0 M2361 1247.34 L2379.36 1247.34 L2379.36 1251.28 L2365.28 1251.28 L2365.28 1259.75 Q2366.3 1259.4 2367.32 1259.24 Q2368.34 1259.05 2369.36 1259.05 Q2375.14 1259.05 2378.52 1262.22 Q2381.9 1265.4 2381.9 1270.81 Q2381.9 1276.39 2378.43 1279.49 Q2374.96 1282.57 2368.64 1282.57 Q2366.46 1282.57 2364.2 1282.2 Q2361.95 1281.83 2359.54 1281.09 L2359.54 1276.39 Q2361.63 1277.53 2363.85 1278.08 Q2366.07 1278.64 2368.55 1278.64 Q2372.55 1278.64 2374.89 1276.53 Q2377.23 1274.42 2377.23 1270.81 Q2377.23 1267.2 2374.89 1265.09 Q2372.55 1262.99 2368.55 1262.99 Q2366.67 1262.99 2364.8 1263.4 Q2362.95 1263.82 2361 1264.7 L2361 1247.34 Z\" fill=\"#000000\" fill-rule=\"evenodd\" fill-opacity=\"1\" /><path clip-path=\"url(#clip850)\" d=\"M 0 0 M2280.7 1052.03 Q2277.09 1052.03 2275.26 1055.6 Q2273.45 1059.14 2273.45 1066.27 Q2273.45 1073.37 2275.26 1076.94 Q2277.09 1080.48 2280.7 1080.48 Q2284.33 1080.48 2286.14 1076.94 Q2287.97 1073.37 2287.97 1066.27 Q2287.97 1059.14 2286.14 1055.6 Q2284.33 1052.03 2280.7 1052.03 M2280.7 1048.33 Q2286.51 1048.33 2289.57 1052.93 Q2292.64 1057.52 2292.64 1066.27 Q2292.64 1074.99 2289.57 1079.6 Q2286.51 1084.18 2280.7 1084.18 Q2274.89 1084.18 2271.81 1079.6 Q2268.76 1074.99 2268.76 1066.27 Q2268.76 1057.52 2271.81 1052.93 Q2274.89 1048.33 2280.7 1048.33 Z\" fill=\"#000000\" fill-rule=\"evenodd\" fill-opacity=\"1\" /><path clip-path=\"url(#clip850)\" d=\"M 0 0 M2297.71 1077.63 L2302.6 1077.63 L2302.6 1083.51 L2297.71 1083.51 L2297.71 1077.63 Z\" fill=\"#000000\" fill-rule=\"evenodd\" fill-opacity=\"1\" /><path clip-path=\"url(#clip850)\" d=\"M 0 0 M2306.49 1048.95 L2328.71 1048.95 L2328.71 1050.94 L2316.16 1083.51 L2311.28 1083.51 L2323.08 1052.89 L2306.49 1052.89 L2306.49 1048.95 Z\" fill=\"#000000\" fill-rule=\"evenodd\" fill-opacity=\"1\" /><path clip-path=\"url(#clip850)\" d=\"M 0 0 M2343.78 1052.03 Q2340.17 1052.03 2338.34 1055.6 Q2336.53 1059.14 2336.53 1066.27 Q2336.53 1073.37 2338.34 1076.94 Q2340.17 1080.48 2343.78 1080.48 Q2347.41 1080.48 2349.22 1076.94 Q2351.05 1073.37 2351.05 1066.27 Q2351.05 1059.14 2349.22 1055.6 Q2347.41 1052.03 2343.78 1052.03 M2343.78 1048.33 Q2349.59 1048.33 2352.64 1052.93 Q2355.72 1057.52 2355.72 1066.27 Q2355.72 1074.99 2352.64 1079.6 Q2349.59 1084.18 2343.78 1084.18 Q2337.97 1084.18 2334.89 1079.6 Q2331.83 1074.99 2331.83 1066.27 Q2331.83 1057.52 2334.89 1052.93 Q2337.97 1048.33 2343.78 1048.33 Z\" fill=\"#000000\" fill-rule=\"evenodd\" fill-opacity=\"1\" /><path clip-path=\"url(#clip850)\" d=\"M 0 0 M2370.79 1052.03 Q2367.18 1052.03 2365.35 1055.6 Q2363.55 1059.14 2363.55 1066.27 Q2363.55 1073.37 2365.35 1076.94 Q2367.18 1080.48 2370.79 1080.48 Q2374.43 1080.48 2376.23 1076.94 Q2378.06 1073.37 2378.06 1066.27 Q2378.06 1059.14 2376.23 1055.6 Q2374.43 1052.03 2370.79 1052.03 M2370.79 1048.33 Q2376.6 1048.33 2379.66 1052.93 Q2382.74 1057.52 2382.74 1066.27 Q2382.74 1074.99 2379.66 1079.6 Q2376.6 1084.18 2370.79 1084.18 Q2364.98 1084.18 2361.9 1079.6 Q2358.85 1074.99 2358.85 1066.27 Q2358.85 1057.52 2361.9 1052.93 Q2364.98 1048.33 2370.79 1048.33 Z\" fill=\"#000000\" fill-rule=\"evenodd\" fill-opacity=\"1\" /><path clip-path=\"url(#clip850)\" d=\"M 0 0 M2280.7 853.643 Q2277.09 853.643 2275.26 857.208 Q2273.45 860.75 2273.45 867.879 Q2273.45 874.986 2275.26 878.55 Q2277.09 882.092 2280.7 882.092 Q2284.33 882.092 2286.14 878.55 Q2287.97 874.986 2287.97 867.879 Q2287.97 860.75 2286.14 857.208 Q2284.33 853.643 2280.7 853.643 M2280.7 849.94 Q2286.51 849.94 2289.57 854.546 Q2292.64 859.129 2292.64 867.879 Q2292.64 876.606 2289.57 881.212 Q2286.51 885.796 2280.7 885.796 Q2274.89 885.796 2271.81 881.212 Q2268.76 876.606 2268.76 867.879 Q2268.76 859.129 2271.81 854.546 Q2274.89 849.94 2280.7 849.94 Z\" fill=\"#000000\" fill-rule=\"evenodd\" fill-opacity=\"1\" /><path clip-path=\"url(#clip850)\" d=\"M 0 0 M2297.71 879.245 L2302.6 879.245 L2302.6 885.125 L2297.71 885.125 L2297.71 879.245 Z\" fill=\"#000000\" fill-rule=\"evenodd\" fill-opacity=\"1\" /><path clip-path=\"url(#clip850)\" d=\"M 0 0 M2306.49 850.565 L2328.71 850.565 L2328.71 852.555 L2316.16 885.125 L2311.28 885.125 L2323.08 854.5 L2306.49 854.5 L2306.49 850.565 Z\" fill=\"#000000\" fill-rule=\"evenodd\" fill-opacity=\"1\" /><path clip-path=\"url(#clip850)\" d=\"M 0 0 M2337.81 881.189 L2354.13 881.189 L2354.13 885.125 L2332.18 885.125 L2332.18 881.189 Q2334.84 878.435 2339.43 873.805 Q2344.03 869.152 2345.21 867.81 Q2347.46 865.287 2348.34 863.551 Q2349.24 861.791 2349.24 860.101 Q2349.24 857.347 2347.3 855.611 Q2345.38 853.875 2342.27 853.875 Q2340.07 853.875 2337.62 854.639 Q2335.19 855.402 2332.41 856.953 L2332.41 852.231 Q2335.24 851.097 2337.69 850.518 Q2340.14 849.94 2342.18 849.94 Q2347.55 849.94 2350.75 852.625 Q2353.94 855.31 2353.94 859.801 Q2353.94 861.93 2353.13 863.851 Q2352.34 865.75 2350.24 868.342 Q2349.66 869.013 2346.56 872.231 Q2343.45 875.425 2337.81 881.189 Z\" fill=\"#000000\" fill-rule=\"evenodd\" fill-opacity=\"1\" /><path clip-path=\"url(#clip850)\" d=\"M 0 0 M2359.24 850.565 L2377.6 850.565 L2377.6 854.5 L2363.52 854.5 L2363.52 862.972 Q2364.54 862.625 2365.56 862.463 Q2366.58 862.277 2367.6 862.277 Q2373.38 862.277 2376.76 865.449 Q2380.14 868.62 2380.14 874.037 Q2380.14 879.615 2376.67 882.717 Q2373.2 885.796 2366.88 885.796 Q2364.7 885.796 2362.44 885.425 Q2360.19 885.055 2357.78 884.314 L2357.78 879.615 Q2359.87 880.75 2362.09 881.305 Q2364.31 881.861 2366.79 881.861 Q2370.79 881.861 2373.13 879.754 Q2375.47 877.648 2375.47 874.037 Q2375.47 870.426 2373.13 868.319 Q2370.79 866.213 2366.79 866.213 Q2364.91 866.213 2363.04 866.629 Q2361.19 867.046 2359.24 867.926 L2359.24 850.565 Z\" fill=\"#000000\" fill-rule=\"evenodd\" fill-opacity=\"1\" /><path clip-path=\"url(#clip850)\" d=\"M 0 0 M2280.7 655.255 Q2277.09 655.255 2275.26 658.82 Q2273.45 662.362 2273.45 669.491 Q2273.45 676.598 2275.26 680.163 Q2277.09 683.704 2280.7 683.704 Q2284.33 683.704 2286.14 680.163 Q2287.97 676.598 2287.97 669.491 Q2287.97 662.362 2286.14 658.82 Q2284.33 655.255 2280.7 655.255 M2280.7 651.552 Q2286.51 651.552 2289.57 656.158 Q2292.64 660.741 2292.64 669.491 Q2292.64 678.218 2289.57 682.825 Q2286.51 687.408 2280.7 687.408 Q2274.89 687.408 2271.81 682.825 Q2268.76 678.218 2268.76 669.491 Q2268.76 660.741 2271.81 656.158 Q2274.89 651.552 2280.7 651.552 Z\" fill=\"#000000\" fill-rule=\"evenodd\" fill-opacity=\"1\" /><path clip-path=\"url(#clip850)\" d=\"M 0 0 M2297.71 680.857 L2302.6 680.857 L2302.6 686.737 L2297.71 686.737 L2297.71 680.857 Z\" fill=\"#000000\" fill-rule=\"evenodd\" fill-opacity=\"1\" /><path clip-path=\"url(#clip850)\" d=\"M 0 0 M2306.49 652.177 L2328.71 652.177 L2328.71 654.167 L2316.16 686.737 L2311.28 686.737 L2323.08 656.112 L2306.49 656.112 L2306.49 652.177 Z\" fill=\"#000000\" fill-rule=\"evenodd\" fill-opacity=\"1\" /><path clip-path=\"url(#clip850)\" d=\"M 0 0 M2333.83 652.177 L2352.18 652.177 L2352.18 656.112 L2338.11 656.112 L2338.11 664.584 Q2339.13 664.237 2340.14 664.075 Q2341.16 663.89 2342.18 663.89 Q2347.97 663.89 2351.35 667.061 Q2354.73 670.232 2354.73 675.649 Q2354.73 681.227 2351.26 684.329 Q2347.78 687.408 2341.46 687.408 Q2339.29 687.408 2337.02 687.038 Q2334.77 686.667 2332.37 685.926 L2332.37 681.227 Q2334.45 682.362 2336.67 682.917 Q2338.89 683.473 2341.37 683.473 Q2345.38 683.473 2347.71 681.366 Q2350.05 679.26 2350.05 675.649 Q2350.05 672.038 2347.71 669.931 Q2345.38 667.825 2341.37 667.825 Q2339.5 667.825 2337.62 668.241 Q2335.77 668.658 2333.83 669.538 L2333.83 652.177 Z\" fill=\"#000000\" fill-rule=\"evenodd\" fill-opacity=\"1\" /><path clip-path=\"url(#clip850)\" d=\"M 0 0 M2369.8 655.255 Q2366.19 655.255 2364.36 658.82 Q2362.55 662.362 2362.55 669.491 Q2362.55 676.598 2364.36 680.163 Q2366.19 683.704 2369.8 683.704 Q2373.43 683.704 2375.24 680.163 Q2377.07 676.598 2377.07 669.491 Q2377.07 662.362 2375.24 658.82 Q2373.43 655.255 2369.8 655.255 M2369.8 651.552 Q2375.61 651.552 2378.66 656.158 Q2381.74 660.741 2381.74 669.491 Q2381.74 678.218 2378.66 682.825 Q2375.61 687.408 2369.8 687.408 Q2363.99 687.408 2360.91 682.825 Q2357.85 678.218 2357.85 669.491 Q2357.85 660.741 2360.91 656.158 Q2363.99 651.552 2369.8 651.552 Z\" fill=\"#000000\" fill-rule=\"evenodd\" fill-opacity=\"1\" /><path clip-path=\"url(#clip850)\" d=\"M 0 0 M2280.7 456.867 Q2277.09 456.867 2275.26 460.432 Q2273.45 463.974 2273.45 471.104 Q2273.45 478.21 2275.26 481.775 Q2277.09 485.316 2280.7 485.316 Q2284.33 485.316 2286.14 481.775 Q2287.97 478.21 2287.97 471.104 Q2287.97 463.974 2286.14 460.432 Q2284.33 456.867 2280.7 456.867 M2280.7 453.164 Q2286.51 453.164 2289.57 457.77 Q2292.64 462.354 2292.64 471.104 Q2292.64 479.83 2289.57 484.437 Q2286.51 489.02 2280.7 489.02 Q2274.89 489.02 2271.81 484.437 Q2268.76 479.83 2268.76 471.104 Q2268.76 462.354 2271.81 457.77 Q2274.89 453.164 2280.7 453.164 Z\" fill=\"#000000\" fill-rule=\"evenodd\" fill-opacity=\"1\" /><path clip-path=\"url(#clip850)\" d=\"M 0 0 M2297.71 482.469 L2302.6 482.469 L2302.6 488.349 L2297.71 488.349 L2297.71 482.469 Z\" fill=\"#000000\" fill-rule=\"evenodd\" fill-opacity=\"1\" /><path clip-path=\"url(#clip850)\" d=\"M 0 0 M2306.49 453.789 L2328.71 453.789 L2328.71 455.78 L2316.16 488.349 L2311.28 488.349 L2323.08 457.724 L2306.49 457.724 L2306.49 453.789 Z\" fill=\"#000000\" fill-rule=\"evenodd\" fill-opacity=\"1\" /><path clip-path=\"url(#clip850)\" d=\"M 0 0 M2332.6 453.789 L2354.82 453.789 L2354.82 455.78 L2342.27 488.349 L2337.39 488.349 L2349.2 457.724 L2332.6 457.724 L2332.6 453.789 Z\" fill=\"#000000\" fill-rule=\"evenodd\" fill-opacity=\"1\" /><path clip-path=\"url(#clip850)\" d=\"M 0 0 M2359.94 453.789 L2378.29 453.789 L2378.29 457.724 L2364.22 457.724 L2364.22 466.196 Q2365.24 465.849 2366.26 465.687 Q2367.27 465.502 2368.29 465.502 Q2374.08 465.502 2377.46 468.673 Q2380.84 471.844 2380.84 477.261 Q2380.84 482.84 2377.37 485.941 Q2373.89 489.02 2367.57 489.02 Q2365.4 489.02 2363.13 488.65 Q2360.89 488.279 2358.48 487.539 L2358.48 482.84 Q2360.56 483.974 2362.78 484.529 Q2365.01 485.085 2367.48 485.085 Q2371.49 485.085 2373.82 482.978 Q2376.16 480.872 2376.16 477.261 Q2376.16 473.65 2373.82 471.543 Q2371.49 469.437 2367.48 469.437 Q2365.61 469.437 2363.73 469.854 Q2361.88 470.27 2359.94 471.15 L2359.94 453.789 Z\" fill=\"#000000\" fill-rule=\"evenodd\" fill-opacity=\"1\" /><path clip-path=\"url(#clip850)\" d=\"M 0 0 M2280.7 258.48 Q2277.09 258.48 2275.26 262.044 Q2273.45 265.586 2273.45 272.716 Q2273.45 279.822 2275.26 283.387 Q2277.09 286.929 2280.7 286.929 Q2284.33 286.929 2286.14 283.387 Q2287.97 279.822 2287.97 272.716 Q2287.97 265.586 2286.14 262.044 Q2284.33 258.48 2280.7 258.48 M2280.7 254.776 Q2286.51 254.776 2289.57 259.382 Q2292.64 263.966 2292.64 272.716 Q2292.64 281.442 2289.57 286.049 Q2286.51 290.632 2280.7 290.632 Q2274.89 290.632 2271.81 286.049 Q2268.76 281.442 2268.76 272.716 Q2268.76 263.966 2271.81 259.382 Q2274.89 254.776 2280.7 254.776 Z\" fill=\"#000000\" fill-rule=\"evenodd\" fill-opacity=\"1\" /><path clip-path=\"url(#clip850)\" d=\"M 0 0 M2297.71 284.081 L2302.6 284.081 L2302.6 289.961 L2297.71 289.961 L2297.71 284.081 Z\" fill=\"#000000\" fill-rule=\"evenodd\" fill-opacity=\"1\" /><path clip-path=\"url(#clip850)\" d=\"M 0 0 M2317.67 273.549 Q2314.33 273.549 2312.41 275.331 Q2310.51 277.114 2310.51 280.239 Q2310.51 283.364 2312.41 285.146 Q2314.33 286.929 2317.67 286.929 Q2321 286.929 2322.92 285.146 Q2324.84 283.341 2324.84 280.239 Q2324.84 277.114 2322.92 275.331 Q2321.02 273.549 2317.67 273.549 M2312.99 271.558 Q2309.98 270.818 2308.29 268.757 Q2306.63 266.697 2306.63 263.734 Q2306.63 259.591 2309.57 257.183 Q2312.53 254.776 2317.67 254.776 Q2322.83 254.776 2325.77 257.183 Q2328.71 259.591 2328.71 263.734 Q2328.71 266.697 2327.02 268.757 Q2325.35 270.818 2322.37 271.558 Q2325.75 272.345 2327.62 274.637 Q2329.52 276.929 2329.52 280.239 Q2329.52 285.262 2326.44 287.947 Q2323.39 290.632 2317.67 290.632 Q2311.95 290.632 2308.87 287.947 Q2305.82 285.262 2305.82 280.239 Q2305.82 276.929 2307.71 274.637 Q2309.61 272.345 2312.99 271.558 M2311.28 264.174 Q2311.28 266.859 2312.95 268.364 Q2314.64 269.868 2317.67 269.868 Q2320.68 269.868 2322.37 268.364 Q2324.08 266.859 2324.08 264.174 Q2324.08 261.489 2322.37 259.984 Q2320.68 258.48 2317.67 258.48 Q2314.64 258.48 2312.95 259.984 Q2311.28 261.489 2311.28 264.174 Z\" fill=\"#000000\" fill-rule=\"evenodd\" fill-opacity=\"1\" /><path clip-path=\"url(#clip850)\" d=\"M 0 0 M2344.59 258.48 Q2340.98 258.48 2339.15 262.044 Q2337.34 265.586 2337.34 272.716 Q2337.34 279.822 2339.15 283.387 Q2340.98 286.929 2344.59 286.929 Q2348.22 286.929 2350.03 283.387 Q2351.86 279.822 2351.86 272.716 Q2351.86 265.586 2350.03 262.044 Q2348.22 258.48 2344.59 258.48 M2344.59 254.776 Q2350.4 254.776 2353.45 259.382 Q2356.53 263.966 2356.53 272.716 Q2356.53 281.442 2353.45 286.049 Q2350.4 290.632 2344.59 290.632 Q2338.78 290.632 2335.7 286.049 Q2332.64 281.442 2332.64 272.716 Q2332.64 263.966 2335.7 259.382 Q2338.78 254.776 2344.59 254.776 Z\" fill=\"#000000\" fill-rule=\"evenodd\" fill-opacity=\"1\" /><path clip-path=\"url(#clip850)\" d=\"M 0 0 M2371.6 258.48 Q2367.99 258.48 2366.16 262.044 Q2364.36 265.586 2364.36 272.716 Q2364.36 279.822 2366.16 283.387 Q2367.99 286.929 2371.6 286.929 Q2375.24 286.929 2377.04 283.387 Q2378.87 279.822 2378.87 272.716 Q2378.87 265.586 2377.04 262.044 Q2375.24 258.48 2371.6 258.48 M2371.6 254.776 Q2377.41 254.776 2380.47 259.382 Q2383.55 263.966 2383.55 272.716 Q2383.55 281.442 2380.47 286.049 Q2377.41 290.632 2371.6 290.632 Q2365.79 290.632 2362.71 286.049 Q2359.66 281.442 2359.66 272.716 Q2359.66 263.966 2362.71 259.382 Q2365.79 254.776 2371.6 254.776 Z\" fill=\"#000000\" fill-rule=\"evenodd\" fill-opacity=\"1\" /><path clip-path=\"url(#clip850)\" d=\"M 0 0 M2280.7 60.0918 Q2277.09 60.0918 2275.26 63.6566 Q2273.45 67.1982 2273.45 74.3278 Q2273.45 81.4343 2275.26 84.999 Q2277.09 88.5407 2280.7 88.5407 Q2284.33 88.5407 2286.14 84.999 Q2287.97 81.4343 2287.97 74.3278 Q2287.97 67.1982 2286.14 63.6566 Q2284.33 60.0918 2280.7 60.0918 M2280.7 56.3881 Q2286.51 56.3881 2289.57 60.9945 Q2292.64 65.5779 2292.64 74.3278 Q2292.64 83.0546 2289.57 87.6611 Q2286.51 92.2444 2280.7 92.2444 Q2274.89 92.2444 2271.81 87.6611 Q2268.76 83.0546 2268.76 74.3278 Q2268.76 65.5779 2271.81 60.9945 Q2274.89 56.3881 2280.7 56.3881 Z\" fill=\"#000000\" fill-rule=\"evenodd\" fill-opacity=\"1\" /><path clip-path=\"url(#clip850)\" d=\"M 0 0 M2297.71 85.6935 L2302.6 85.6935 L2302.6 91.5731 L2297.71 91.5731 L2297.71 85.6935 Z\" fill=\"#000000\" fill-rule=\"evenodd\" fill-opacity=\"1\" /><path clip-path=\"url(#clip850)\" d=\"M 0 0 M2317.67 75.1611 Q2314.33 75.1611 2312.41 76.9435 Q2310.51 78.7259 2310.51 81.8509 Q2310.51 84.9759 2312.41 86.7583 Q2314.33 88.5407 2317.67 88.5407 Q2321 88.5407 2322.92 86.7583 Q2324.84 84.9528 2324.84 81.8509 Q2324.84 78.7259 2322.92 76.9435 Q2321.02 75.1611 2317.67 75.1611 M2312.99 73.1704 Q2309.98 72.4297 2308.29 70.3695 Q2306.63 68.3093 2306.63 65.3464 Q2306.63 61.2029 2309.57 58.7955 Q2312.53 56.3881 2317.67 56.3881 Q2322.83 56.3881 2325.77 58.7955 Q2328.71 61.2029 2328.71 65.3464 Q2328.71 68.3093 2327.02 70.3695 Q2325.35 72.4297 2322.37 73.1704 Q2325.75 73.9574 2327.62 76.2491 Q2329.52 78.5407 2329.52 81.8509 Q2329.52 86.874 2326.44 89.5592 Q2323.39 92.2444 2317.67 92.2444 Q2311.95 92.2444 2308.87 89.5592 Q2305.82 86.874 2305.82 81.8509 Q2305.82 78.5407 2307.71 76.2491 Q2309.61 73.9574 2312.99 73.1704 M2311.28 65.7862 Q2311.28 68.4714 2312.95 69.976 Q2314.64 71.4806 2317.67 71.4806 Q2320.68 71.4806 2322.37 69.976 Q2324.08 68.4714 2324.08 65.7862 Q2324.08 63.101 2322.37 61.5964 Q2320.68 60.0918 2317.67 60.0918 Q2314.64 60.0918 2312.95 61.5964 Q2311.28 63.101 2311.28 65.7862 Z\" fill=\"#000000\" fill-rule=\"evenodd\" fill-opacity=\"1\" /><path clip-path=\"url(#clip850)\" d=\"M 0 0 M2338.62 87.6379 L2354.94 87.6379 L2354.94 91.5731 L2332.99 91.5731 L2332.99 87.6379 Q2335.65 84.8833 2340.24 80.2537 Q2344.84 75.6009 2346.02 74.2584 Q2348.27 71.7352 2349.15 69.9991 Q2350.05 68.2399 2350.05 66.5501 Q2350.05 63.7955 2348.11 62.0594 Q2346.19 60.3233 2343.08 60.3233 Q2340.89 60.3233 2338.43 61.0871 Q2336 61.851 2333.22 63.4019 L2333.22 58.6797 Q2336.05 57.5455 2338.5 56.9668 Q2340.95 56.3881 2342.99 56.3881 Q2348.36 56.3881 2351.56 59.0733 Q2354.75 61.7584 2354.75 66.2491 Q2354.75 68.3788 2353.94 70.3001 Q2353.15 72.1982 2351.05 74.7908 Q2350.47 75.4621 2347.37 78.6796 Q2344.26 81.8741 2338.62 87.6379 Z\" fill=\"#000000\" fill-rule=\"evenodd\" fill-opacity=\"1\" /><path clip-path=\"url(#clip850)\" d=\"M 0 0 M2360.05 57.0131 L2378.41 57.0131 L2378.41 60.9482 L2364.33 60.9482 L2364.33 69.4204 Q2365.35 69.0732 2366.37 68.9112 Q2367.39 68.726 2368.41 68.726 Q2374.2 68.726 2377.57 71.8973 Q2380.95 75.0685 2380.95 80.4852 Q2380.95 86.0639 2377.48 89.1657 Q2374.01 92.2444 2367.69 92.2444 Q2365.51 92.2444 2363.25 91.874 Q2361 91.5036 2358.59 90.7629 L2358.59 86.0639 Q2360.68 87.1981 2362.9 87.7537 Q2365.12 88.3092 2367.6 88.3092 Q2371.6 88.3092 2373.94 86.2027 Q2376.28 84.0963 2376.28 80.4852 Q2376.28 76.8741 2373.94 74.7676 Q2371.6 72.6612 2367.6 72.6612 Q2365.72 72.6612 2363.85 73.0778 Q2362 73.4945 2360.05 74.3741 L2360.05 57.0131 Z\" fill=\"#000000\" fill-rule=\"evenodd\" fill-opacity=\"1\" /><polyline clip-path=\"url(#clip850)\" style=\"stroke:#000000; stroke-width:4; stroke-opacity:1; fill:none\" points=\"\n",
       "  2232.76,1423.18 2232.76,1268.25 2256.76,1268.25 2232.76,1268.25 2232.76,1069.86 2256.76,1069.86 2232.76,1069.86 2232.76,871.473 2256.76,871.473 2232.76,871.473 \n",
       "  2232.76,673.085 2256.76,673.085 2232.76,673.085 2232.76,474.698 2256.76,474.698 2232.76,474.698 2232.76,276.31 2256.76,276.31 2232.76,276.31 2232.76,77.9219 \n",
       "  2256.76,77.9219 2232.76,77.9219 2232.76,47.2441 \n",
       "  \"/>\n",
       "</svg>\n"
      ]
     },
     "execution_count": 71,
     "metadata": {},
     "output_type": "execute_result"
    }
   ],
   "source": [
    "plot(self_tuning_nn)"
   ]
  },
  {
   "cell_type": "code",
   "execution_count": 72,
   "metadata": {},
   "outputs": [
    {
     "data": {
      "text/plain": [
       "(best_model = \u001b[34mNeuralNetworkClassifier{CustomNN,…} @535\u001b[39m,\n",
       " best_fitted_params = (chain = Chain(Chain(Dense(60, 23, σ), Dense(23, 3, σ)), softmax),),)"
      ]
     },
     "execution_count": 72,
     "metadata": {},
     "output_type": "execute_result"
    }
   ],
   "source": [
    "best = fitted_params(self_tuning_nn)\n",
    "best"
   ]
  },
  {
   "cell_type": "code",
   "execution_count": 73,
   "metadata": {},
   "outputs": [
    {
     "data": {
      "text/plain": [
       "NeuralNetworkClassifier(\n",
       "    builder = CustomNN(\n",
       "            n1 = 23),\n",
       "    finaliser = NNlib.softmax,\n",
       "    optimiser = ADAM(0.0001, (0.9, 0.999), IdDict{Any,Any}()),\n",
       "    loss = Flux.crossentropy,\n",
       "    epochs = 4000,\n",
       "    batch_size = 16,\n",
       "    lambda = 0.2154434690031884,\n",
       "    alpha = 0.0,\n",
       "    optimiser_changes_trigger_retraining = false)\u001b[34m @535\u001b[39m"
      ]
     },
     "execution_count": 73,
     "metadata": {},
     "output_type": "execute_result"
    }
   ],
   "source": [
    "best.best_model"
   ]
  },
  {
   "cell_type": "code",
   "execution_count": 74,
   "metadata": {
    "scrolled": true
   },
   "outputs": [
    {
     "data": {
      "text/plain": [
       "0.6554763f0"
      ]
     },
     "execution_count": 74,
     "metadata": {},
     "output_type": "execute_result"
    }
   ],
   "source": [
    "best_loss = z.report.best_result.measurement[1]"
   ]
  },
  {
   "cell_type": "code",
   "execution_count": 75,
   "metadata": {},
   "outputs": [
    {
     "data": {
      "text/plain": [
       "0.2154434690031884"
      ]
     },
     "execution_count": 75,
     "metadata": {},
     "output_type": "execute_result"
    }
   ],
   "source": [
    "best_lambda = best.best_model.lambda"
   ]
  },
  {
   "cell_type": "code",
   "execution_count": null,
   "metadata": {},
   "outputs": [],
   "source": [
    "fn = \"Figures/Grid_NN_$(param1):$(best.best_model.epochs)_x_$(param2):$(best_lambda)_bestloss:$(best_loss)\"\n",
    "png(replace(fn,'.' => ','))"
   ]
  },
  {
   "cell_type": "markdown",
   "metadata": {},
   "source": [
    "### Learning Curve"
   ]
  },
  {
   "cell_type": "code",
   "execution_count": 76,
   "metadata": {},
   "outputs": [
    {
     "data": {
      "text/plain": [
       "NeuralNetworkClassifier(\n",
       "    builder = CustomNN(\n",
       "            n1 = 23),\n",
       "    finaliser = NNlib.softmax,\n",
       "    optimiser = ADAM(0.0001, (0.9, 0.999), IdDict{Any,Any}()),\n",
       "    loss = Flux.crossentropy,\n",
       "    epochs = 4000,\n",
       "    batch_size = 16,\n",
       "    lambda = 0.2154434690031884,\n",
       "    alpha = 0.0,\n",
       "    optimiser_changes_trigger_retraining = false)\u001b[34m @079\u001b[39m"
      ]
     },
     "execution_count": 76,
     "metadata": {},
     "output_type": "execute_result"
    }
   ],
   "source": [
    "lc_model = NeuralNetworkClassifier(builder=CustomNN(best_n1))\n",
    "lc_model.optimiser.eta = best_eta;\n",
    "lc_model.lambda = best_lambda\n",
    "lc_model.epochs = max_epochs\n",
    "lc_model.batch_size = batch_sz\n",
    "lc_model"
   ]
  },
  {
   "cell_type": "code",
   "execution_count": 77,
   "metadata": {},
   "outputs": [],
   "source": [
    "# lc_model = NeuralNetworkClassifier(builder=CustomNN(80,80))\n",
    "# lc_model.optimiser.eta = 0.001;\n",
    "# lc_model.lambda = best_lambda\n",
    "# lc_model.epochs = 3000\n",
    "# lc_model.batch_size = 8"
   ]
  },
  {
   "cell_type": "code",
   "execution_count": 78,
   "metadata": {},
   "outputs": [
    {
     "data": {
      "text/plain": [
       "mce (generic function with 1 method)"
      ]
     },
     "execution_count": 78,
     "metadata": {},
     "output_type": "execute_result"
    }
   ],
   "source": [
    "mce(x,y) = mean(cross_entropy(x,y))"
   ]
  },
  {
   "cell_type": "code",
   "execution_count": 81,
   "metadata": {
    "scrolled": true
   },
   "outputs": [
    {
     "name": "stdout",
     "output_type": "stream",
     "text": [
      "(d, train_metric, valid_metric) = (10, 0.56800455f0, 1.07058f0)\n",
      "(d, train_metric, valid_metric) = (110, 0.5517435f0, 0.89052f0)\n",
      "(d, train_metric, valid_metric) = (210, 0.5517334f0, 0.8429266f0)\n",
      "(d, train_metric, valid_metric) = (310, 0.5620124f0, 0.82216394f0)\n",
      "(d, train_metric, valid_metric) = (410, 0.5597838f0, 0.8166109f0)\n",
      "(d, train_metric, valid_metric) = (510, 0.5717724f0, 0.7821689f0)\n",
      "(d, train_metric, valid_metric) = (610, 0.56472325f0, 0.77008325f0)\n",
      "(d, train_metric, valid_metric) = (710, 0.5598458f0, 0.75156516f0)\n",
      "(d, train_metric, valid_metric) = (810, 0.5620308f0, 0.75378823f0)\n",
      "(d, train_metric, valid_metric) = (910, 0.559169f0, 0.70712477f0)\n",
      "(d, train_metric, valid_metric) = (1010, 0.5570234f0, 0.7185902f0)\n",
      "(d, train_metric, valid_metric) = (1110, 0.5599323f0, 0.70051533f0)\n",
      "(d, train_metric, valid_metric) = (1210, 0.5580578f0, 0.7100582f0)\n",
      "(d, train_metric, valid_metric) = (1310, 0.55741924f0, 0.70797616f0)\n",
      "(d, train_metric, valid_metric) = (1410, 0.5630212f0, 0.68539536f0)\n",
      "(d, train_metric, valid_metric) = (1510, 0.5628181f0, 0.6706758f0)\n",
      "(d, train_metric, valid_metric) = (1610, 0.56411654f0, 0.6800614f0)\n",
      "(d, train_metric, valid_metric) = (1710, 0.5662418f0, 0.67116886f0)\n"
     ]
    },
    {
     "data": {
      "text/plain": [
       "(10:100:1710, Any[0.56800455f0, 0.5517435f0, 0.5517334f0, 0.5620124f0, 0.5597838f0, 0.5717724f0, 0.56472325f0, 0.5598458f0, 0.5620308f0, 0.559169f0, 0.5570234f0, 0.5599323f0, 0.5580578f0, 0.55741924f0, 0.5630212f0, 0.5628181f0, 0.56411654f0, 0.5662418f0], Any[1.07058f0, 0.89052f0, 0.8429266f0, 0.82216394f0, 0.8166109f0, 0.7821689f0, 0.77008325f0, 0.75156516f0, 0.75378823f0, 0.70712477f0, 0.7185902f0, 0.70051533f0, 0.7100582f0, 0.70797616f0, 0.68539536f0, 0.6706758f0, 0.6800614f0, 0.67116886f0])"
      ]
     },
     "execution_count": 81,
     "metadata": {},
     "output_type": "execute_result"
    }
   ],
   "source": [
    "data_schedule, training_losses, valid_losses = learn_curve(lc_model, X_stand[train,:], y[train], mce, step=100)"
   ]
  },
  {
   "cell_type": "code",
   "execution_count": 82,
   "metadata": {
    "scrolled": false
   },
   "outputs": [
    {
     "data": {
      "image/svg+xml": [
       "<?xml version=\"1.0\" encoding=\"utf-8\"?>\n",
       "<svg xmlns=\"http://www.w3.org/2000/svg\" xmlns:xlink=\"http://www.w3.org/1999/xlink\" width=\"600\" height=\"400\" viewBox=\"0 0 2400 1600\">\n",
       "<defs>\n",
       "  <clipPath id=\"clip890\">\n",
       "    <rect x=\"0\" y=\"0\" width=\"2400\" height=\"1600\"/>\n",
       "  </clipPath>\n",
       "</defs>\n",
       "<path clip-path=\"url(#clip890)\" d=\"\n",
       "M0 1600 L2400 1600 L2400 0 L0 0  Z\n",
       "  \" fill=\"#ffffff\" fill-rule=\"evenodd\" fill-opacity=\"1\"/>\n",
       "<defs>\n",
       "  <clipPath id=\"clip891\">\n",
       "    <rect x=\"480\" y=\"0\" width=\"1681\" height=\"1600\"/>\n",
       "  </clipPath>\n",
       "</defs>\n",
       "<path clip-path=\"url(#clip890)\" d=\"\n",
       "M211.278 1423.18 L2352.76 1423.18 L2352.76 47.2441 L211.278 47.2441  Z\n",
       "  \" fill=\"#ffffff\" fill-rule=\"evenodd\" fill-opacity=\"1\"/>\n",
       "<defs>\n",
       "  <clipPath id=\"clip892\">\n",
       "    <rect x=\"211\" y=\"47\" width=\"2142\" height=\"1377\"/>\n",
       "  </clipPath>\n",
       "</defs>\n",
       "<polyline clip-path=\"url(#clip892)\" style=\"stroke:#000000; stroke-width:2; stroke-opacity:0.1; fill:none\" points=\"\n",
       "  260.002,1423.18 260.002,47.2441 \n",
       "  \"/>\n",
       "<polyline clip-path=\"url(#clip892)\" style=\"stroke:#000000; stroke-width:2; stroke-opacity:0.1; fill:none\" points=\"\n",
       "  854.197,1423.18 854.197,47.2441 \n",
       "  \"/>\n",
       "<polyline clip-path=\"url(#clip892)\" style=\"stroke:#000000; stroke-width:2; stroke-opacity:0.1; fill:none\" points=\"\n",
       "  1448.39,1423.18 1448.39,47.2441 \n",
       "  \"/>\n",
       "<polyline clip-path=\"url(#clip892)\" style=\"stroke:#000000; stroke-width:2; stroke-opacity:0.1; fill:none\" points=\"\n",
       "  2042.59,1423.18 2042.59,47.2441 \n",
       "  \"/>\n",
       "<polyline clip-path=\"url(#clip892)\" style=\"stroke:#000000; stroke-width:2; stroke-opacity:0.1; fill:none\" points=\"\n",
       "  211.278,1263.48 2352.76,1263.48 \n",
       "  \"/>\n",
       "<polyline clip-path=\"url(#clip892)\" style=\"stroke:#000000; stroke-width:2; stroke-opacity:0.1; fill:none\" points=\"\n",
       "  211.278,1013.3 2352.76,1013.3 \n",
       "  \"/>\n",
       "<polyline clip-path=\"url(#clip892)\" style=\"stroke:#000000; stroke-width:2; stroke-opacity:0.1; fill:none\" points=\"\n",
       "  211.278,763.124 2352.76,763.124 \n",
       "  \"/>\n",
       "<polyline clip-path=\"url(#clip892)\" style=\"stroke:#000000; stroke-width:2; stroke-opacity:0.1; fill:none\" points=\"\n",
       "  211.278,512.943 2352.76,512.943 \n",
       "  \"/>\n",
       "<polyline clip-path=\"url(#clip892)\" style=\"stroke:#000000; stroke-width:2; stroke-opacity:0.1; fill:none\" points=\"\n",
       "  211.278,262.763 2352.76,262.763 \n",
       "  \"/>\n",
       "<polyline clip-path=\"url(#clip890)\" style=\"stroke:#000000; stroke-width:4; stroke-opacity:1; fill:none\" points=\"\n",
       "  211.278,1423.18 2352.76,1423.18 \n",
       "  \"/>\n",
       "<polyline clip-path=\"url(#clip890)\" style=\"stroke:#000000; stroke-width:4; stroke-opacity:1; fill:none\" points=\"\n",
       "  211.278,1423.18 211.278,47.2441 \n",
       "  \"/>\n",
       "<polyline clip-path=\"url(#clip890)\" style=\"stroke:#000000; stroke-width:4; stroke-opacity:1; fill:none\" points=\"\n",
       "  260.002,1423.18 260.002,1406.67 \n",
       "  \"/>\n",
       "<polyline clip-path=\"url(#clip890)\" style=\"stroke:#000000; stroke-width:4; stroke-opacity:1; fill:none\" points=\"\n",
       "  854.197,1423.18 854.197,1406.67 \n",
       "  \"/>\n",
       "<polyline clip-path=\"url(#clip890)\" style=\"stroke:#000000; stroke-width:4; stroke-opacity:1; fill:none\" points=\"\n",
       "  1448.39,1423.18 1448.39,1406.67 \n",
       "  \"/>\n",
       "<polyline clip-path=\"url(#clip890)\" style=\"stroke:#000000; stroke-width:4; stroke-opacity:1; fill:none\" points=\"\n",
       "  2042.59,1423.18 2042.59,1406.67 \n",
       "  \"/>\n",
       "<polyline clip-path=\"url(#clip890)\" style=\"stroke:#000000; stroke-width:4; stroke-opacity:1; fill:none\" points=\"\n",
       "  211.278,1263.48 236.976,1263.48 \n",
       "  \"/>\n",
       "<polyline clip-path=\"url(#clip890)\" style=\"stroke:#000000; stroke-width:4; stroke-opacity:1; fill:none\" points=\"\n",
       "  211.278,1013.3 236.976,1013.3 \n",
       "  \"/>\n",
       "<polyline clip-path=\"url(#clip890)\" style=\"stroke:#000000; stroke-width:4; stroke-opacity:1; fill:none\" points=\"\n",
       "  211.278,763.124 236.976,763.124 \n",
       "  \"/>\n",
       "<polyline clip-path=\"url(#clip890)\" style=\"stroke:#000000; stroke-width:4; stroke-opacity:1; fill:none\" points=\"\n",
       "  211.278,512.943 236.976,512.943 \n",
       "  \"/>\n",
       "<polyline clip-path=\"url(#clip890)\" style=\"stroke:#000000; stroke-width:4; stroke-opacity:1; fill:none\" points=\"\n",
       "  211.278,262.763 236.976,262.763 \n",
       "  \"/>\n",
       "<path clip-path=\"url(#clip890)\" d=\"M 0 0 M260.002 1445.17 Q256.391 1445.17 254.563 1448.74 Q252.757 1452.28 252.757 1459.41 Q252.757 1466.51 254.563 1470.08 Q256.391 1473.62 260.002 1473.62 Q263.637 1473.62 265.442 1470.08 Q267.271 1466.51 267.271 1459.41 Q267.271 1452.28 265.442 1448.74 Q263.637 1445.17 260.002 1445.17 M260.002 1441.47 Q265.812 1441.47 268.868 1446.07 Q271.947 1450.66 271.947 1459.41 Q271.947 1468.13 268.868 1472.74 Q265.812 1477.32 260.002 1477.32 Q254.192 1477.32 251.113 1472.74 Q248.058 1468.13 248.058 1459.41 Q248.058 1450.66 251.113 1446.07 Q254.192 1441.47 260.002 1441.47 Z\" fill=\"#000000\" fill-rule=\"evenodd\" fill-opacity=\"1\" /><path clip-path=\"url(#clip890)\" d=\"M 0 0 M817.461 1442.09 L835.817 1442.09 L835.817 1446.03 L821.743 1446.03 L821.743 1454.5 Q822.762 1454.15 823.78 1453.99 Q824.799 1453.8 825.817 1453.8 Q831.605 1453.8 834.984 1456.98 Q838.364 1460.15 838.364 1465.56 Q838.364 1471.14 834.892 1474.24 Q831.419 1477.32 825.1 1477.32 Q822.924 1477.32 820.655 1476.95 Q818.41 1476.58 816.003 1475.84 L816.003 1471.14 Q818.086 1472.28 820.308 1472.83 Q822.53 1473.39 825.007 1473.39 Q829.012 1473.39 831.35 1471.28 Q833.688 1469.18 833.688 1465.56 Q833.688 1461.95 831.35 1459.85 Q829.012 1457.74 825.007 1457.74 Q823.132 1457.74 821.257 1458.16 Q819.405 1458.57 817.461 1459.45 L817.461 1442.09 Z\" fill=\"#000000\" fill-rule=\"evenodd\" fill-opacity=\"1\" /><path clip-path=\"url(#clip890)\" d=\"M 0 0 M853.433 1445.17 Q849.822 1445.17 847.993 1448.74 Q846.188 1452.28 846.188 1459.41 Q846.188 1466.51 847.993 1470.08 Q849.822 1473.62 853.433 1473.62 Q857.067 1473.62 858.873 1470.08 Q860.702 1466.51 860.702 1459.41 Q860.702 1452.28 858.873 1448.74 Q857.067 1445.17 853.433 1445.17 M853.433 1441.47 Q859.243 1441.47 862.299 1446.07 Q865.377 1450.66 865.377 1459.41 Q865.377 1468.13 862.299 1472.74 Q859.243 1477.32 853.433 1477.32 Q847.623 1477.32 844.544 1472.74 Q841.489 1468.13 841.489 1459.41 Q841.489 1450.66 844.544 1446.07 Q847.623 1441.47 853.433 1441.47 Z\" fill=\"#000000\" fill-rule=\"evenodd\" fill-opacity=\"1\" /><path clip-path=\"url(#clip890)\" d=\"M 0 0 M880.447 1445.17 Q876.836 1445.17 875.007 1448.74 Q873.201 1452.28 873.201 1459.41 Q873.201 1466.51 875.007 1470.08 Q876.836 1473.62 880.447 1473.62 Q884.081 1473.62 885.887 1470.08 Q887.715 1466.51 887.715 1459.41 Q887.715 1452.28 885.887 1448.74 Q884.081 1445.17 880.447 1445.17 M880.447 1441.47 Q886.257 1441.47 889.313 1446.07 Q892.391 1450.66 892.391 1459.41 Q892.391 1468.13 889.313 1472.74 Q886.257 1477.32 880.447 1477.32 Q874.637 1477.32 871.558 1472.74 Q868.502 1468.13 868.502 1459.41 Q868.502 1450.66 871.558 1446.07 Q874.637 1441.47 880.447 1441.47 Z\" fill=\"#000000\" fill-rule=\"evenodd\" fill-opacity=\"1\" /><path clip-path=\"url(#clip890)\" d=\"M 0 0 M1398.25 1472.72 L1405.89 1472.72 L1405.89 1446.35 L1397.58 1448.02 L1397.58 1443.76 L1405.85 1442.09 L1410.52 1442.09 L1410.52 1472.72 L1418.16 1472.72 L1418.16 1476.65 L1398.25 1476.65 L1398.25 1472.72 Z\" fill=\"#000000\" fill-rule=\"evenodd\" fill-opacity=\"1\" /><path clip-path=\"url(#clip890)\" d=\"M 0 0 M1433.23 1445.17 Q1429.62 1445.17 1427.79 1448.74 Q1425.98 1452.28 1425.98 1459.41 Q1425.98 1466.51 1427.79 1470.08 Q1429.62 1473.62 1433.23 1473.62 Q1436.86 1473.62 1438.67 1470.08 Q1440.5 1466.51 1440.5 1459.41 Q1440.5 1452.28 1438.67 1448.74 Q1436.86 1445.17 1433.23 1445.17 M1433.23 1441.47 Q1439.04 1441.47 1442.1 1446.07 Q1445.17 1450.66 1445.17 1459.41 Q1445.17 1468.13 1442.1 1472.74 Q1439.04 1477.32 1433.23 1477.32 Q1427.42 1477.32 1424.34 1472.74 Q1421.29 1468.13 1421.29 1459.41 Q1421.29 1450.66 1424.34 1446.07 Q1427.42 1441.47 1433.23 1441.47 Z\" fill=\"#000000\" fill-rule=\"evenodd\" fill-opacity=\"1\" /><path clip-path=\"url(#clip890)\" d=\"M 0 0 M1460.24 1445.17 Q1456.63 1445.17 1454.8 1448.74 Q1453 1452.28 1453 1459.41 Q1453 1466.51 1454.8 1470.08 Q1456.63 1473.62 1460.24 1473.62 Q1463.88 1473.62 1465.68 1470.08 Q1467.51 1466.51 1467.51 1459.41 Q1467.51 1452.28 1465.68 1448.74 Q1463.88 1445.17 1460.24 1445.17 M1460.24 1441.47 Q1466.05 1441.47 1469.11 1446.07 Q1472.19 1450.66 1472.19 1459.41 Q1472.19 1468.13 1469.11 1472.74 Q1466.05 1477.32 1460.24 1477.32 Q1454.43 1477.32 1451.35 1472.74 Q1448.3 1468.13 1448.3 1459.41 Q1448.3 1450.66 1451.35 1446.07 Q1454.43 1441.47 1460.24 1441.47 Z\" fill=\"#000000\" fill-rule=\"evenodd\" fill-opacity=\"1\" /><path clip-path=\"url(#clip890)\" d=\"M 0 0 M1487.26 1445.17 Q1483.65 1445.17 1481.82 1448.74 Q1480.01 1452.28 1480.01 1459.41 Q1480.01 1466.51 1481.82 1470.08 Q1483.65 1473.62 1487.26 1473.62 Q1490.89 1473.62 1492.7 1470.08 Q1494.53 1466.51 1494.53 1459.41 Q1494.53 1452.28 1492.7 1448.74 Q1490.89 1445.17 1487.26 1445.17 M1487.26 1441.47 Q1493.07 1441.47 1496.12 1446.07 Q1499.2 1450.66 1499.2 1459.41 Q1499.2 1468.13 1496.12 1472.74 Q1493.07 1477.32 1487.26 1477.32 Q1481.45 1477.32 1478.37 1472.74 Q1475.31 1468.13 1475.31 1459.41 Q1475.31 1450.66 1478.37 1446.07 Q1481.45 1441.47 1487.26 1441.47 Z\" fill=\"#000000\" fill-rule=\"evenodd\" fill-opacity=\"1\" /><path clip-path=\"url(#clip890)\" d=\"M 0 0 M1992.95 1472.72 L2000.58 1472.72 L2000.58 1446.35 L1992.27 1448.02 L1992.27 1443.76 L2000.54 1442.09 L2005.21 1442.09 L2005.21 1472.72 L2012.85 1472.72 L2012.85 1476.65 L1992.95 1476.65 L1992.95 1472.72 Z\" fill=\"#000000\" fill-rule=\"evenodd\" fill-opacity=\"1\" /><path clip-path=\"url(#clip890)\" d=\"M 0 0 M2017.97 1442.09 L2036.32 1442.09 L2036.32 1446.03 L2022.25 1446.03 L2022.25 1454.5 Q2023.27 1454.15 2024.29 1453.99 Q2025.31 1453.8 2026.32 1453.8 Q2032.11 1453.8 2035.49 1456.98 Q2038.87 1460.15 2038.87 1465.56 Q2038.87 1471.14 2035.4 1474.24 Q2031.93 1477.32 2025.61 1477.32 Q2023.43 1477.32 2021.16 1476.95 Q2018.92 1476.58 2016.51 1475.84 L2016.51 1471.14 Q2018.59 1472.28 2020.82 1472.83 Q2023.04 1473.39 2025.51 1473.39 Q2029.52 1473.39 2031.86 1471.28 Q2034.2 1469.18 2034.2 1465.56 Q2034.2 1461.95 2031.86 1459.85 Q2029.52 1457.74 2025.51 1457.74 Q2023.64 1457.74 2021.76 1458.16 Q2019.91 1458.57 2017.97 1459.45 L2017.97 1442.09 Z\" fill=\"#000000\" fill-rule=\"evenodd\" fill-opacity=\"1\" /><path clip-path=\"url(#clip890)\" d=\"M 0 0 M2053.94 1445.17 Q2050.33 1445.17 2048.5 1448.74 Q2046.7 1452.28 2046.7 1459.41 Q2046.7 1466.51 2048.5 1470.08 Q2050.33 1473.62 2053.94 1473.62 Q2057.57 1473.62 2059.38 1470.08 Q2061.21 1466.51 2061.21 1459.41 Q2061.21 1452.28 2059.38 1448.74 Q2057.57 1445.17 2053.94 1445.17 M2053.94 1441.47 Q2059.75 1441.47 2062.81 1446.07 Q2065.88 1450.66 2065.88 1459.41 Q2065.88 1468.13 2062.81 1472.74 Q2059.75 1477.32 2053.94 1477.32 Q2048.13 1477.32 2045.05 1472.74 Q2042 1468.13 2042 1459.41 Q2042 1450.66 2045.05 1446.07 Q2048.13 1441.47 2053.94 1441.47 Z\" fill=\"#000000\" fill-rule=\"evenodd\" fill-opacity=\"1\" /><path clip-path=\"url(#clip890)\" d=\"M 0 0 M2080.95 1445.17 Q2077.34 1445.17 2075.51 1448.74 Q2073.71 1452.28 2073.71 1459.41 Q2073.71 1466.51 2075.51 1470.08 Q2077.34 1473.62 2080.95 1473.62 Q2084.59 1473.62 2086.39 1470.08 Q2088.22 1466.51 2088.22 1459.41 Q2088.22 1452.28 2086.39 1448.74 Q2084.59 1445.17 2080.95 1445.17 M2080.95 1441.47 Q2086.76 1441.47 2089.82 1446.07 Q2092.9 1450.66 2092.9 1459.41 Q2092.9 1468.13 2089.82 1472.74 Q2086.76 1477.32 2080.95 1477.32 Q2075.14 1477.32 2072.07 1472.74 Q2069.01 1468.13 2069.01 1459.41 Q2069.01 1450.66 2072.07 1446.07 Q2075.14 1441.47 2080.95 1441.47 Z\" fill=\"#000000\" fill-rule=\"evenodd\" fill-opacity=\"1\" /><path clip-path=\"url(#clip890)\" d=\"M 0 0 M138.205 1249.28 Q134.593 1249.28 132.765 1252.85 Q130.959 1256.39 130.959 1263.52 Q130.959 1270.63 132.765 1274.19 Q134.593 1277.73 138.205 1277.73 Q141.839 1277.73 143.644 1274.19 Q145.473 1270.63 145.473 1263.52 Q145.473 1256.39 143.644 1252.85 Q141.839 1249.28 138.205 1249.28 M138.205 1245.58 Q144.015 1245.58 147.07 1250.19 Q150.149 1254.77 150.149 1263.52 Q150.149 1272.25 147.07 1276.85 Q144.015 1281.44 138.205 1281.44 Q132.394 1281.44 129.316 1276.85 Q126.26 1272.25 126.26 1263.52 Q126.26 1254.77 129.316 1250.19 Q132.394 1245.58 138.205 1245.58 Z\" fill=\"#000000\" fill-rule=\"evenodd\" fill-opacity=\"1\" /><path clip-path=\"url(#clip890)\" d=\"M 0 0 M155.218 1274.89 L160.103 1274.89 L160.103 1280.76 L155.218 1280.76 L155.218 1274.89 Z\" fill=\"#000000\" fill-rule=\"evenodd\" fill-opacity=\"1\" /><path clip-path=\"url(#clip890)\" d=\"M 0 0 M175.751 1261.62 Q172.603 1261.62 170.751 1263.77 Q168.922 1265.93 168.922 1269.68 Q168.922 1273.4 170.751 1275.58 Q172.603 1277.73 175.751 1277.73 Q178.899 1277.73 180.727 1275.58 Q182.579 1273.4 182.579 1269.68 Q182.579 1265.93 180.727 1263.77 Q178.899 1261.62 175.751 1261.62 M185.033 1246.97 L185.033 1251.23 Q183.274 1250.39 181.468 1249.95 Q179.686 1249.51 177.927 1249.51 Q173.297 1249.51 170.843 1252.64 Q168.413 1255.76 168.065 1262.08 Q169.431 1260.07 171.491 1259.01 Q173.552 1257.92 176.028 1257.92 Q181.237 1257.92 184.246 1261.09 Q187.278 1264.24 187.278 1269.68 Q187.278 1275 184.13 1278.22 Q180.982 1281.44 175.751 1281.44 Q169.755 1281.44 166.584 1276.85 Q163.413 1272.25 163.413 1263.52 Q163.413 1255.32 167.302 1250.46 Q171.19 1245.58 177.741 1245.58 Q179.501 1245.58 181.283 1245.93 Q183.089 1246.27 185.033 1246.97 Z\" fill=\"#000000\" fill-rule=\"evenodd\" fill-opacity=\"1\" /><path clip-path=\"url(#clip890)\" d=\"M 0 0 M139.269 999.103 Q135.658 999.103 133.83 1002.67 Q132.024 1006.21 132.024 1013.34 Q132.024 1020.45 133.83 1024.01 Q135.658 1027.55 139.269 1027.55 Q142.904 1027.55 144.709 1024.01 Q146.538 1020.45 146.538 1013.34 Q146.538 1006.21 144.709 1002.67 Q142.904 999.103 139.269 999.103 M139.269 995.399 Q145.08 995.399 148.135 1000.01 Q151.214 1004.59 151.214 1013.34 Q151.214 1022.07 148.135 1026.67 Q145.08 1031.26 139.269 1031.26 Q133.459 1031.26 130.381 1026.67 Q127.325 1022.07 127.325 1013.34 Q127.325 1004.59 130.381 1000.01 Q133.459 995.399 139.269 995.399 Z\" fill=\"#000000\" fill-rule=\"evenodd\" fill-opacity=\"1\" /><path clip-path=\"url(#clip890)\" d=\"M 0 0 M156.283 1024.7 L161.167 1024.7 L161.167 1030.58 L156.283 1030.58 L156.283 1024.7 Z\" fill=\"#000000\" fill-rule=\"evenodd\" fill-opacity=\"1\" /><path clip-path=\"url(#clip890)\" d=\"M 0 0 M165.056 996.024 L187.278 996.024 L187.278 998.015 L174.732 1030.58 L169.848 1030.58 L181.653 999.959 L165.056 999.959 L165.056 996.024 Z\" fill=\"#000000\" fill-rule=\"evenodd\" fill-opacity=\"1\" /><path clip-path=\"url(#clip890)\" d=\"M 0 0 M138.459 748.923 Q134.848 748.923 133.019 752.487 Q131.214 756.029 131.214 763.159 Q131.214 770.265 133.019 773.83 Q134.848 777.371 138.459 777.371 Q142.093 777.371 143.899 773.83 Q145.728 770.265 145.728 763.159 Q145.728 756.029 143.899 752.487 Q142.093 748.923 138.459 748.923 M138.459 745.219 Q144.269 745.219 147.325 749.825 Q150.404 754.409 150.404 763.159 Q150.404 771.885 147.325 776.492 Q144.269 781.075 138.459 781.075 Q132.649 781.075 129.57 776.492 Q126.515 771.885 126.515 763.159 Q126.515 754.409 129.57 749.825 Q132.649 745.219 138.459 745.219 Z\" fill=\"#000000\" fill-rule=\"evenodd\" fill-opacity=\"1\" /><path clip-path=\"url(#clip890)\" d=\"M 0 0 M155.473 774.524 L160.357 774.524 L160.357 780.404 L155.473 780.404 L155.473 774.524 Z\" fill=\"#000000\" fill-rule=\"evenodd\" fill-opacity=\"1\" /><path clip-path=\"url(#clip890)\" d=\"M 0 0 M175.427 763.992 Q172.093 763.992 170.172 765.774 Q168.274 767.557 168.274 770.682 Q168.274 773.807 170.172 775.589 Q172.093 777.371 175.427 777.371 Q178.76 777.371 180.681 775.589 Q182.602 773.783 182.602 770.682 Q182.602 767.557 180.681 765.774 Q178.783 763.992 175.427 763.992 M170.751 762.001 Q167.741 761.26 166.052 759.2 Q164.385 757.14 164.385 754.177 Q164.385 750.034 167.325 747.626 Q170.288 745.219 175.427 745.219 Q180.589 745.219 183.528 747.626 Q186.468 750.034 186.468 754.177 Q186.468 757.14 184.778 759.2 Q183.112 761.26 180.126 762.001 Q183.505 762.788 185.38 765.08 Q187.278 767.371 187.278 770.682 Q187.278 775.705 184.2 778.39 Q181.144 781.075 175.427 781.075 Q169.709 781.075 166.63 778.39 Q163.575 775.705 163.575 770.682 Q163.575 767.371 165.473 765.08 Q167.371 762.788 170.751 762.001 M169.038 754.617 Q169.038 757.302 170.704 758.807 Q172.394 760.311 175.427 760.311 Q178.436 760.311 180.126 758.807 Q181.839 757.302 181.839 754.617 Q181.839 751.932 180.126 750.427 Q178.436 748.923 175.427 748.923 Q172.394 748.923 170.704 750.427 Q169.038 751.932 169.038 754.617 Z\" fill=\"#000000\" fill-rule=\"evenodd\" fill-opacity=\"1\" /><path clip-path=\"url(#clip890)\" d=\"M 0 0 M138.552 498.742 Q134.941 498.742 133.112 502.307 Q131.306 505.849 131.306 512.978 Q131.306 520.085 133.112 523.649 Q134.941 527.191 138.552 527.191 Q142.186 527.191 143.992 523.649 Q145.82 520.085 145.82 512.978 Q145.82 505.849 143.992 502.307 Q142.186 498.742 138.552 498.742 M138.552 495.038 Q144.362 495.038 147.417 499.645 Q150.496 504.228 150.496 512.978 Q150.496 521.705 147.417 526.311 Q144.362 530.895 138.552 530.895 Q132.742 530.895 129.663 526.311 Q126.607 521.705 126.607 512.978 Q126.607 504.228 129.663 499.645 Q132.742 495.038 138.552 495.038 Z\" fill=\"#000000\" fill-rule=\"evenodd\" fill-opacity=\"1\" /><path clip-path=\"url(#clip890)\" d=\"M 0 0 M155.566 524.344 L160.45 524.344 L160.45 530.223 L155.566 530.223 L155.566 524.344 Z\" fill=\"#000000\" fill-rule=\"evenodd\" fill-opacity=\"1\" /><path clip-path=\"url(#clip890)\" d=\"M 0 0 M165.658 529.506 L165.658 525.247 Q167.417 526.08 169.223 526.52 Q171.028 526.96 172.765 526.96 Q177.394 526.96 179.825 523.858 Q182.278 520.733 182.626 514.39 Q181.283 516.381 179.223 517.446 Q177.163 518.511 174.663 518.511 Q169.478 518.511 166.445 515.386 Q163.436 512.237 163.436 506.798 Q163.436 501.474 166.584 498.256 Q169.732 495.038 174.964 495.038 Q180.959 495.038 184.107 499.645 Q187.278 504.228 187.278 512.978 Q187.278 521.149 183.389 526.034 Q179.524 530.895 172.973 530.895 Q171.214 530.895 169.408 530.547 Q167.603 530.2 165.658 529.506 M174.964 514.853 Q178.112 514.853 179.94 512.7 Q181.792 510.548 181.792 506.798 Q181.792 503.071 179.94 500.918 Q178.112 498.742 174.964 498.742 Q171.815 498.742 169.964 500.918 Q168.135 503.071 168.135 506.798 Q168.135 510.548 169.964 512.7 Q171.815 514.853 174.964 514.853 Z\" fill=\"#000000\" fill-rule=\"evenodd\" fill-opacity=\"1\" /><path clip-path=\"url(#clip890)\" d=\"M 0 0 M130.404 276.108 L138.043 276.108 L138.043 249.742 L129.732 251.409 L129.732 247.15 L137.996 245.483 L142.672 245.483 L142.672 276.108 L150.311 276.108 L150.311 280.043 L130.404 280.043 L130.404 276.108 Z\" fill=\"#000000\" fill-rule=\"evenodd\" fill-opacity=\"1\" /><path clip-path=\"url(#clip890)\" d=\"M 0 0 M155.38 274.163 L160.265 274.163 L160.265 280.043 L155.38 280.043 L155.38 274.163 Z\" fill=\"#000000\" fill-rule=\"evenodd\" fill-opacity=\"1\" /><path clip-path=\"url(#clip890)\" d=\"M 0 0 M175.334 248.562 Q171.723 248.562 169.894 252.126 Q168.089 255.668 168.089 262.798 Q168.089 269.904 169.894 273.469 Q171.723 277.011 175.334 277.011 Q178.968 277.011 180.774 273.469 Q182.602 269.904 182.602 262.798 Q182.602 255.668 180.774 252.126 Q178.968 248.562 175.334 248.562 M175.334 244.858 Q181.144 244.858 184.2 249.464 Q187.278 254.048 187.278 262.798 Q187.278 271.525 184.2 276.131 Q181.144 280.714 175.334 280.714 Q169.524 280.714 166.445 276.131 Q163.39 271.525 163.39 262.798 Q163.39 254.048 166.445 249.464 Q169.524 244.858 175.334 244.858 Z\" fill=\"#000000\" fill-rule=\"evenodd\" fill-opacity=\"1\" /><path clip-path=\"url(#clip890)\" d=\"M 0 0 M870.792 1508.52 L879.45 1508.52 L900.52 1548.28 L900.52 1508.52 L906.759 1508.52 L906.759 1556.04 L898.101 1556.04 L877.031 1516.29 L877.031 1556.04 L870.792 1556.04 L870.792 1508.52 Z\" fill=\"#000000\" fill-rule=\"evenodd\" fill-opacity=\"1\" /><path clip-path=\"url(#clip890)\" d=\"M 0 0 M912.297 1541.98 L912.297 1520.4 L918.153 1520.4 L918.153 1541.75 Q918.153 1546.81 920.127 1549.36 Q922.1 1551.87 926.047 1551.87 Q930.789 1551.87 933.527 1548.85 Q936.296 1545.83 936.296 1540.61 L936.296 1520.4 L942.152 1520.4 L942.152 1556.04 L936.296 1556.04 L936.296 1550.57 Q934.163 1553.82 931.33 1555.41 Q928.529 1556.97 924.805 1556.97 Q918.663 1556.97 915.48 1553.15 Q912.297 1549.33 912.297 1541.98 M927.033 1519.54 L927.033 1519.54 Z\" fill=\"#000000\" fill-rule=\"evenodd\" fill-opacity=\"1\" /><path clip-path=\"url(#clip890)\" d=\"M 0 0 M976.049 1527.24 Q978.246 1523.29 981.301 1521.41 Q984.357 1519.54 988.494 1519.54 Q994.064 1519.54 997.088 1523.45 Q1000.11 1527.33 1000.11 1534.53 L1000.11 1556.04 L994.224 1556.04 L994.224 1534.72 Q994.224 1529.59 992.409 1527.11 Q990.595 1524.63 986.871 1524.63 Q982.32 1524.63 979.678 1527.65 Q977.036 1530.68 977.036 1535.9 L977.036 1556.04 L971.148 1556.04 L971.148 1534.72 Q971.148 1529.56 969.334 1527.11 Q967.519 1524.63 963.732 1524.63 Q959.244 1524.63 956.602 1527.68 Q953.96 1530.71 953.96 1535.9 L953.96 1556.04 L948.072 1556.04 L948.072 1520.4 L953.96 1520.4 L953.96 1525.93 Q955.966 1522.66 958.767 1521.1 Q961.567 1519.54 965.419 1519.54 Q969.302 1519.54 972.007 1521.51 Q974.744 1523.48 976.049 1527.24 Z\" fill=\"#000000\" fill-rule=\"evenodd\" fill-opacity=\"1\" /><path clip-path=\"url(#clip890)\" d=\"M 0 0 M1031.84 1538.25 Q1031.84 1531.79 1029.17 1528.13 Q1026.53 1524.44 1021.88 1524.44 Q1017.24 1524.44 1014.56 1528.13 Q1011.92 1531.79 1011.92 1538.25 Q1011.92 1544.71 1014.56 1548.4 Q1017.24 1552.07 1021.88 1552.07 Q1026.53 1552.07 1029.17 1548.4 Q1031.84 1544.71 1031.84 1538.25 M1011.92 1525.81 Q1013.77 1522.62 1016.57 1521.1 Q1019.4 1519.54 1023.31 1519.54 Q1029.81 1519.54 1033.85 1524.69 Q1037.92 1529.85 1037.92 1538.25 Q1037.92 1546.65 1033.85 1551.81 Q1029.81 1556.97 1023.31 1556.97 Q1019.4 1556.97 1016.57 1555.44 Q1013.77 1553.88 1011.92 1550.7 L1011.92 1556.04 L1006.03 1556.04 L1006.03 1506.52 L1011.92 1506.52 L1011.92 1525.81 Z\" fill=\"#000000\" fill-rule=\"evenodd\" fill-opacity=\"1\" /><path clip-path=\"url(#clip890)\" d=\"M 0 0 M1074.56 1536.76 L1074.56 1539.62 L1047.63 1539.62 Q1048.01 1545.67 1051.26 1548.85 Q1054.54 1552 1060.36 1552 Q1063.74 1552 1066.89 1551.17 Q1070.07 1550.35 1073.19 1548.69 L1073.19 1554.23 Q1070.04 1555.57 1066.73 1556.27 Q1063.42 1556.97 1060.01 1556.97 Q1051.48 1556.97 1046.49 1552 Q1041.52 1547.04 1041.52 1538.57 Q1041.52 1529.82 1046.23 1524.69 Q1050.97 1519.54 1058.99 1519.54 Q1066.19 1519.54 1070.36 1524.18 Q1074.56 1528.8 1074.56 1536.76 M1068.7 1535.04 Q1068.64 1530.23 1066 1527.37 Q1063.39 1524.5 1059.06 1524.5 Q1054.16 1524.5 1051.2 1527.27 Q1048.27 1530.04 1047.82 1535.07 L1068.7 1535.04 Z\" fill=\"#000000\" fill-rule=\"evenodd\" fill-opacity=\"1\" /><path clip-path=\"url(#clip890)\" d=\"M 0 0 M1101.36 1525.87 Q1100.37 1525.3 1099.19 1525.04 Q1098.05 1524.76 1096.65 1524.76 Q1091.68 1524.76 1089.01 1528 Q1086.37 1531.22 1086.37 1537.27 L1086.37 1556.04 L1080.48 1556.04 L1080.48 1520.4 L1086.37 1520.4 L1086.37 1525.93 Q1088.21 1522.69 1091.17 1521.13 Q1094.13 1519.54 1098.37 1519.54 Q1098.97 1519.54 1099.7 1519.63 Q1100.44 1519.7 1101.33 1519.85 L1101.36 1525.87 Z\" fill=\"#000000\" fill-rule=\"evenodd\" fill-opacity=\"1\" /><path clip-path=\"url(#clip890)\" d=\"M 0 0 M1142.04 1524.5 Q1137.32 1524.5 1134.59 1528.19 Q1131.85 1531.85 1131.85 1538.25 Q1131.85 1544.65 1134.56 1548.34 Q1137.29 1552 1142.04 1552 Q1146.71 1552 1149.45 1548.31 Q1152.19 1544.62 1152.19 1538.25 Q1152.19 1531.92 1149.45 1528.23 Q1146.71 1524.5 1142.04 1524.5 M1142.04 1519.54 Q1149.67 1519.54 1154.03 1524.5 Q1158.4 1529.47 1158.4 1538.25 Q1158.4 1547 1154.03 1552 Q1149.67 1556.97 1142.04 1556.97 Q1134.36 1556.97 1130 1552 Q1125.68 1547 1125.68 1538.25 Q1125.68 1529.47 1130 1524.5 Q1134.36 1519.54 1142.04 1519.54 Z\" fill=\"#000000\" fill-rule=\"evenodd\" fill-opacity=\"1\" /><path clip-path=\"url(#clip890)\" d=\"M 0 0 M1182.58 1506.52 L1182.58 1511.39 L1176.98 1511.39 Q1173.83 1511.39 1172.59 1512.66 Q1171.38 1513.93 1171.38 1517.24 L1171.38 1520.4 L1181.03 1520.4 L1181.03 1524.95 L1171.38 1524.95 L1171.38 1556.04 L1165.49 1556.04 L1165.49 1524.95 L1159.89 1524.95 L1159.89 1520.4 L1165.49 1520.4 L1165.49 1517.91 Q1165.49 1511.96 1168.26 1509.26 Q1171.03 1506.52 1177.05 1506.52 L1182.58 1506.52 Z\" fill=\"#000000\" fill-rule=\"evenodd\" fill-opacity=\"1\" /><path clip-path=\"url(#clip890)\" d=\"M 0 0 M1203.11 1508.52 L1243.31 1508.52 L1243.31 1513.93 L1226.44 1513.93 L1226.44 1556.04 L1219.98 1556.04 L1219.98 1513.93 L1203.11 1513.93 L1203.11 1508.52 Z\" fill=\"#000000\" fill-rule=\"evenodd\" fill-opacity=\"1\" /><path clip-path=\"url(#clip890)\" d=\"M 0 0 M1260.53 1525.87 Q1259.55 1525.3 1258.37 1525.04 Q1257.22 1524.76 1255.82 1524.76 Q1250.86 1524.76 1248.18 1528 Q1245.54 1531.22 1245.54 1537.27 L1245.54 1556.04 L1239.65 1556.04 L1239.65 1520.4 L1245.54 1520.4 L1245.54 1525.93 Q1247.39 1522.69 1250.35 1521.13 Q1253.31 1519.54 1257.54 1519.54 Q1258.15 1519.54 1258.88 1519.63 Q1259.61 1519.7 1260.5 1519.85 L1260.53 1525.87 Z\" fill=\"#000000\" fill-rule=\"evenodd\" fill-opacity=\"1\" /><path clip-path=\"url(#clip890)\" d=\"M 0 0 M1282.88 1538.12 Q1275.78 1538.12 1273.04 1539.75 Q1270.3 1541.37 1270.3 1545.29 Q1270.3 1548.4 1272.34 1550.25 Q1274.41 1552.07 1277.94 1552.07 Q1282.81 1552.07 1285.74 1548.63 Q1288.7 1545.16 1288.7 1539.43 L1288.7 1538.12 L1282.88 1538.12 M1294.56 1535.71 L1294.56 1556.04 L1288.7 1556.04 L1288.7 1550.63 Q1286.7 1553.88 1283.7 1555.44 Q1280.71 1556.97 1276.38 1556.97 Q1270.91 1556.97 1267.66 1553.91 Q1264.45 1550.82 1264.45 1545.67 Q1264.45 1539.65 1268.46 1536.6 Q1272.5 1533.54 1280.49 1533.54 L1288.7 1533.54 L1288.7 1532.97 Q1288.7 1528.93 1286.03 1526.73 Q1283.39 1524.5 1278.58 1524.5 Q1275.52 1524.5 1272.63 1525.23 Q1269.73 1525.97 1267.06 1527.43 L1267.06 1522.02 Q1270.27 1520.78 1273.3 1520.17 Q1276.32 1519.54 1279.18 1519.54 Q1286.92 1519.54 1290.74 1523.55 Q1294.56 1527.56 1294.56 1535.71 Z\" fill=\"#000000\" fill-rule=\"evenodd\" fill-opacity=\"1\" /><path clip-path=\"url(#clip890)\" d=\"M 0 0 M1300.7 1520.4 L1306.56 1520.4 L1306.56 1556.04 L1300.7 1556.04 L1300.7 1520.4 M1300.7 1506.52 L1306.56 1506.52 L1306.56 1513.93 L1300.7 1513.93 L1300.7 1506.52 Z\" fill=\"#000000\" fill-rule=\"evenodd\" fill-opacity=\"1\" /><path clip-path=\"url(#clip890)\" d=\"M 0 0 M1342.33 1534.53 L1342.33 1556.04 L1336.48 1556.04 L1336.48 1534.72 Q1336.48 1529.66 1334.5 1527.14 Q1332.53 1524.63 1328.58 1524.63 Q1323.84 1524.63 1321.1 1527.65 Q1318.37 1530.68 1318.37 1535.9 L1318.37 1556.04 L1312.48 1556.04 L1312.48 1520.4 L1318.37 1520.4 L1318.37 1525.93 Q1320.47 1522.72 1323.3 1521.13 Q1326.16 1519.54 1329.89 1519.54 Q1336.03 1519.54 1339.18 1523.36 Q1342.33 1527.14 1342.33 1534.53 Z\" fill=\"#000000\" fill-rule=\"evenodd\" fill-opacity=\"1\" /><path clip-path=\"url(#clip890)\" d=\"M 0 0 M1348.48 1520.4 L1354.33 1520.4 L1354.33 1556.04 L1348.48 1556.04 L1348.48 1520.4 M1348.48 1506.52 L1354.33 1506.52 L1354.33 1513.93 L1348.48 1513.93 L1348.48 1506.52 Z\" fill=\"#000000\" fill-rule=\"evenodd\" fill-opacity=\"1\" /><path clip-path=\"url(#clip890)\" d=\"M 0 0 M1390.11 1534.53 L1390.11 1556.04 L1384.25 1556.04 L1384.25 1534.72 Q1384.25 1529.66 1382.28 1527.14 Q1380.3 1524.63 1376.36 1524.63 Q1371.61 1524.63 1368.88 1527.65 Q1366.14 1530.68 1366.14 1535.9 L1366.14 1556.04 L1360.25 1556.04 L1360.25 1520.4 L1366.14 1520.4 L1366.14 1525.93 Q1368.24 1522.72 1371.07 1521.13 Q1373.94 1519.54 1377.66 1519.54 Q1383.8 1519.54 1386.96 1523.36 Q1390.11 1527.14 1390.11 1534.53 Z\" fill=\"#000000\" fill-rule=\"evenodd\" fill-opacity=\"1\" /><path clip-path=\"url(#clip890)\" d=\"M 0 0 M1419.71 1537.81 Q1419.71 1531.44 1417.07 1527.94 Q1414.46 1524.44 1409.71 1524.44 Q1405 1524.44 1402.36 1527.94 Q1399.75 1531.44 1399.75 1537.81 Q1399.75 1544.14 1402.36 1547.64 Q1405 1551.14 1409.71 1551.14 Q1414.46 1551.14 1417.07 1547.64 Q1419.71 1544.14 1419.71 1537.81 M1425.56 1551.62 Q1425.56 1560.72 1421.52 1565.15 Q1417.48 1569.6 1409.14 1569.6 Q1406.05 1569.6 1403.32 1569.13 Q1400.58 1568.68 1398 1567.72 L1398 1562.03 Q1400.58 1563.43 1403.09 1564.1 Q1405.61 1564.76 1408.22 1564.76 Q1413.98 1564.76 1416.84 1561.74 Q1419.71 1558.75 1419.71 1552.67 L1419.71 1549.77 Q1417.89 1552.92 1415.06 1554.48 Q1412.23 1556.04 1408.28 1556.04 Q1401.72 1556.04 1397.71 1551.05 Q1393.7 1546.05 1393.7 1537.81 Q1393.7 1529.53 1397.71 1524.53 Q1401.72 1519.54 1408.28 1519.54 Q1412.23 1519.54 1415.06 1521.1 Q1417.89 1522.66 1419.71 1525.81 L1419.71 1520.4 L1425.56 1520.4 L1425.56 1551.62 Z\" fill=\"#000000\" fill-rule=\"evenodd\" fill-opacity=\"1\" /><path clip-path=\"url(#clip890)\" d=\"M 0 0 M1481.17 1510.08 L1481.17 1516.35 Q1477.51 1514.6 1474.26 1513.74 Q1471.01 1512.88 1467.99 1512.88 Q1462.74 1512.88 1459.87 1514.92 Q1457.04 1516.96 1457.04 1520.71 Q1457.04 1523.87 1458.92 1525.49 Q1460.83 1527.08 1466.11 1528.07 L1470 1528.86 Q1477.19 1530.23 1480.6 1533.7 Q1484.03 1537.14 1484.03 1542.93 Q1484.03 1549.84 1479.39 1553.4 Q1474.77 1556.97 1465.83 1556.97 Q1462.45 1556.97 1458.63 1556.2 Q1454.85 1555.44 1450.77 1553.94 L1450.77 1547.32 Q1454.69 1549.52 1458.44 1550.63 Q1462.2 1551.75 1465.83 1551.75 Q1471.33 1551.75 1474.33 1549.58 Q1477.32 1547.42 1477.32 1543.41 Q1477.32 1539.91 1475.15 1537.93 Q1473.02 1535.96 1468.12 1534.97 L1464.2 1534.21 Q1457.01 1532.78 1453.8 1529.72 Q1450.58 1526.67 1450.58 1521.22 Q1450.58 1514.92 1455.01 1511.29 Q1459.46 1507.66 1467.26 1507.66 Q1470.6 1507.66 1474.07 1508.27 Q1477.54 1508.87 1481.17 1510.08 Z\" fill=\"#000000\" fill-rule=\"evenodd\" fill-opacity=\"1\" /><path clip-path=\"url(#clip890)\" d=\"M 0 0 M1506.38 1538.12 Q1499.28 1538.12 1496.54 1539.75 Q1493.8 1541.37 1493.8 1545.29 Q1493.8 1548.4 1495.84 1550.25 Q1497.91 1552.07 1501.44 1552.07 Q1506.31 1552.07 1509.24 1548.63 Q1512.2 1545.16 1512.2 1539.43 L1512.2 1538.12 L1506.38 1538.12 M1518.06 1535.71 L1518.06 1556.04 L1512.2 1556.04 L1512.2 1550.63 Q1510.2 1553.88 1507.2 1555.44 Q1504.21 1556.97 1499.88 1556.97 Q1494.41 1556.97 1491.16 1553.91 Q1487.95 1550.82 1487.95 1545.67 Q1487.95 1539.65 1491.96 1536.6 Q1496 1533.54 1503.99 1533.54 L1512.2 1533.54 L1512.2 1532.97 Q1512.2 1528.93 1509.53 1526.73 Q1506.89 1524.5 1502.08 1524.5 Q1499.02 1524.5 1496.13 1525.23 Q1493.23 1525.97 1490.56 1527.43 L1490.56 1522.02 Q1493.77 1520.78 1496.8 1520.17 Q1499.82 1519.54 1502.68 1519.54 Q1510.42 1519.54 1514.24 1523.55 Q1518.06 1527.56 1518.06 1535.71 Z\" fill=\"#000000\" fill-rule=\"evenodd\" fill-opacity=\"1\" /><path clip-path=\"url(#clip890)\" d=\"M 0 0 M1551.95 1527.24 Q1554.15 1523.29 1557.21 1521.41 Q1560.26 1519.54 1564.4 1519.54 Q1569.97 1519.54 1572.99 1523.45 Q1576.02 1527.33 1576.02 1534.53 L1576.02 1556.04 L1570.13 1556.04 L1570.13 1534.72 Q1570.13 1529.59 1568.31 1527.11 Q1566.5 1524.63 1562.78 1524.63 Q1558.23 1524.63 1555.58 1527.65 Q1552.94 1530.68 1552.94 1535.9 L1552.94 1556.04 L1547.05 1556.04 L1547.05 1534.72 Q1547.05 1529.56 1545.24 1527.11 Q1543.42 1524.63 1539.64 1524.63 Q1535.15 1524.63 1532.51 1527.68 Q1529.87 1530.71 1529.87 1535.9 L1529.87 1556.04 L1523.98 1556.04 L1523.98 1520.4 L1529.87 1520.4 L1529.87 1525.93 Q1531.87 1522.66 1534.67 1521.1 Q1537.47 1519.54 1541.32 1519.54 Q1545.21 1519.54 1547.91 1521.51 Q1550.65 1523.48 1551.95 1527.24 Z\" fill=\"#000000\" fill-rule=\"evenodd\" fill-opacity=\"1\" /><path clip-path=\"url(#clip890)\" d=\"M 0 0 M1587.83 1550.7 L1587.83 1569.6 L1581.94 1569.6 L1581.94 1520.4 L1587.83 1520.4 L1587.83 1525.81 Q1589.67 1522.62 1592.47 1521.1 Q1595.31 1519.54 1599.22 1519.54 Q1605.71 1519.54 1609.76 1524.69 Q1613.83 1529.85 1613.83 1538.25 Q1613.83 1546.65 1609.76 1551.81 Q1605.71 1556.97 1599.22 1556.97 Q1595.31 1556.97 1592.47 1555.44 Q1589.67 1553.88 1587.83 1550.7 M1607.75 1538.25 Q1607.75 1531.79 1605.08 1528.13 Q1602.43 1524.44 1597.79 1524.44 Q1593.14 1524.44 1590.47 1528.13 Q1587.83 1531.79 1587.83 1538.25 Q1587.83 1544.71 1590.47 1548.4 Q1593.14 1552.07 1597.79 1552.07 Q1602.43 1552.07 1605.08 1548.4 Q1607.75 1544.71 1607.75 1538.25 Z\" fill=\"#000000\" fill-rule=\"evenodd\" fill-opacity=\"1\" /><path clip-path=\"url(#clip890)\" d=\"M 0 0 M1619.97 1506.52 L1625.83 1506.52 L1625.83 1556.04 L1619.97 1556.04 L1619.97 1506.52 Z\" fill=\"#000000\" fill-rule=\"evenodd\" fill-opacity=\"1\" /><path clip-path=\"url(#clip890)\" d=\"M 0 0 M1662.46 1536.76 L1662.46 1539.62 L1635.54 1539.62 Q1635.92 1545.67 1639.17 1548.85 Q1642.44 1552 1648.27 1552 Q1651.64 1552 1654.79 1551.17 Q1657.98 1550.35 1661.09 1548.69 L1661.09 1554.23 Q1657.94 1555.57 1654.63 1556.27 Q1651.32 1556.97 1647.92 1556.97 Q1639.39 1556.97 1634.39 1552 Q1629.43 1547.04 1629.43 1538.57 Q1629.43 1529.82 1634.14 1524.69 Q1638.88 1519.54 1646.9 1519.54 Q1654.09 1519.54 1658.26 1524.18 Q1662.46 1528.8 1662.46 1536.76 M1656.61 1535.04 Q1656.54 1530.23 1653.9 1527.37 Q1651.29 1524.5 1646.96 1524.5 Q1642.06 1524.5 1639.1 1527.27 Q1636.17 1530.04 1635.73 1535.07 L1656.61 1535.04 Z\" fill=\"#000000\" fill-rule=\"evenodd\" fill-opacity=\"1\" /><path clip-path=\"url(#clip890)\" d=\"M 0 0 M1691.33 1521.45 L1691.33 1526.98 Q1688.85 1525.71 1686.18 1525.07 Q1683.5 1524.44 1680.64 1524.44 Q1676.28 1524.44 1674.08 1525.77 Q1671.92 1527.11 1671.92 1529.79 Q1671.92 1531.82 1673.48 1533 Q1675.04 1534.15 1679.75 1535.2 L1681.75 1535.64 Q1687.99 1536.98 1690.6 1539.43 Q1693.24 1541.85 1693.24 1546.21 Q1693.24 1551.17 1689.3 1554.07 Q1685.38 1556.97 1678.51 1556.97 Q1675.64 1556.97 1672.52 1556.39 Q1669.43 1555.85 1666 1554.74 L1666 1548.69 Q1669.24 1550.38 1672.39 1551.24 Q1675.55 1552.07 1678.63 1552.07 Q1682.77 1552.07 1685 1550.66 Q1687.23 1549.23 1687.23 1546.65 Q1687.23 1544.27 1685.6 1542.99 Q1684.01 1541.72 1678.57 1540.54 L1676.53 1540.07 Q1671.09 1538.92 1668.67 1536.56 Q1666.25 1534.18 1666.25 1530.04 Q1666.25 1525.01 1669.82 1522.27 Q1673.38 1519.54 1679.94 1519.54 Q1683.18 1519.54 1686.05 1520.01 Q1688.91 1520.49 1691.33 1521.45 Z\" fill=\"#000000\" fill-rule=\"evenodd\" fill-opacity=\"1\" /><path clip-path=\"url(#clip890)\" d=\"M 0 0 M44.1444 904.492 L50.9239 904.492 Q47.9002 907.739 46.4043 911.431 Q44.9083 915.091 44.9083 919.229 Q44.9083 927.377 49.9054 931.705 Q54.8707 936.034 64.2919 936.034 Q73.6813 936.034 78.6784 931.705 Q83.6436 927.377 83.6436 919.229 Q83.6436 915.091 82.1477 911.431 Q80.6518 907.739 77.6281 904.492 L84.3439 904.492 Q86.6355 907.866 87.7814 911.653 Q88.9272 915.409 88.9272 919.611 Q88.9272 930.4 82.3387 936.607 Q75.7183 942.814 64.2919 942.814 Q52.8336 942.814 46.2451 936.607 Q39.6248 930.4 39.6248 919.611 Q39.6248 915.346 40.7706 911.59 Q41.8846 907.802 44.1444 904.492 Z\" fill=\"#000000\" fill-rule=\"evenodd\" fill-opacity=\"1\" /><path clip-path=\"url(#clip890)\" d=\"M 0 0 M57.8307 877.692 Q57.2578 878.679 57.0032 879.857 Q56.7167 881.003 56.7167 882.403 Q56.7167 887.368 59.9632 890.042 Q63.1779 892.684 69.2253 892.684 L88.0042 892.684 L88.0042 898.572 L52.3562 898.572 L52.3562 892.684 L57.8944 892.684 Q54.6479 890.838 53.0883 887.878 Q51.4968 884.917 51.4968 880.684 Q51.4968 880.08 51.5923 879.347 Q51.656 878.615 51.8151 877.724 L57.8307 877.692 Z\" fill=\"#000000\" fill-rule=\"evenodd\" fill-opacity=\"1\" /><path clip-path=\"url(#clip890)\" d=\"M 0 0 M56.4621 859.168 Q56.4621 863.879 60.1542 866.616 Q63.8145 869.353 70.212 869.353 Q76.6095 869.353 80.3017 866.648 Q83.9619 863.911 83.9619 859.168 Q83.9619 854.489 80.2698 851.752 Q76.5777 849.015 70.212 849.015 Q63.8781 849.015 60.186 851.752 Q56.4621 854.489 56.4621 859.168 M51.4968 859.168 Q51.4968 851.529 56.4621 847.169 Q61.4273 842.808 70.212 842.808 Q78.9649 842.808 83.9619 847.169 Q88.9272 851.529 88.9272 859.168 Q88.9272 866.839 83.9619 871.199 Q78.9649 875.528 70.212 875.528 Q61.4273 875.528 56.4621 871.199 Q51.4968 866.839 51.4968 859.168 Z\" fill=\"#000000\" fill-rule=\"evenodd\" fill-opacity=\"1\" /><path clip-path=\"url(#clip890)\" d=\"M 0 0 M53.4065 813.94 L58.9447 813.94 Q57.6716 816.422 57.035 819.096 Q56.3984 821.77 56.3984 824.634 Q56.3984 828.995 57.7352 831.191 Q59.072 833.355 61.7456 833.355 Q63.7826 833.355 64.9603 831.796 Q66.1061 830.236 67.1565 825.525 L67.6021 823.52 Q68.9389 817.282 71.3897 814.672 Q73.8086 812.03 78.1691 812.03 Q83.1344 812.03 86.0308 815.977 Q88.9272 819.892 88.9272 826.767 Q88.9272 829.631 88.3543 832.751 Q87.8132 835.838 86.6992 839.275 L80.6518 839.275 Q82.3387 836.029 83.198 832.878 Q84.0256 829.727 84.0256 826.639 Q84.0256 822.502 82.6251 820.274 Q81.1929 818.046 78.6147 818.046 Q76.2276 818.046 74.9545 819.669 Q73.6813 821.26 72.5037 826.703 L72.0262 828.74 Q70.8804 834.183 68.5251 836.602 Q66.138 839.021 62.0002 839.021 Q56.9713 839.021 54.2341 835.456 Q51.4968 831.891 51.4968 825.334 Q51.4968 822.088 51.9743 819.223 Q52.4517 816.359 53.4065 813.94 Z\" fill=\"#000000\" fill-rule=\"evenodd\" fill-opacity=\"1\" /><path clip-path=\"url(#clip890)\" d=\"M 0 0 M53.4065 783.162 L58.9447 783.162 Q57.6716 785.644 57.035 788.318 Q56.3984 790.991 56.3984 793.856 Q56.3984 798.217 57.7352 800.413 Q59.072 802.577 61.7456 802.577 Q63.7826 802.577 64.9603 801.017 Q66.1061 799.458 67.1565 794.747 L67.6021 792.742 Q68.9389 786.504 71.3897 783.894 Q73.8086 781.252 78.1691 781.252 Q83.1344 781.252 86.0308 785.199 Q88.9272 789.114 88.9272 795.989 Q88.9272 798.853 88.3543 801.972 Q87.8132 805.06 86.6992 808.497 L80.6518 808.497 Q82.3387 805.251 83.198 802.1 Q84.0256 798.949 84.0256 795.861 Q84.0256 791.724 82.6251 789.496 Q81.1929 787.268 78.6147 787.268 Q76.2276 787.268 74.9545 788.891 Q73.6813 790.482 72.5037 795.925 L72.0262 797.962 Q70.8804 803.405 68.5251 805.824 Q66.138 808.243 62.0002 808.243 Q56.9713 808.243 54.2341 804.678 Q51.4968 801.113 51.4968 794.556 Q51.4968 791.31 51.9743 788.445 Q52.4517 785.581 53.4065 783.162 Z\" fill=\"#000000\" fill-rule=\"evenodd\" fill-opacity=\"1\" /><path clip-path=\"url(#clip890)\" d=\"M 0 0 M40.4842 754.134 L40.4842 724.088 L45.895 724.088 L45.895 747.705 L59.9632 747.705 L59.9632 725.075 L65.3741 725.075 L65.3741 747.705 L82.5933 747.705 L82.5933 723.515 L88.0042 723.515 L88.0042 754.134 L40.4842 754.134 Z\" fill=\"#000000\" fill-rule=\"evenodd\" fill-opacity=\"1\" /><path clip-path=\"url(#clip890)\" d=\"M 0 0 M66.4881 687.74 L88.0042 687.74 L88.0042 693.596 L66.679 693.596 Q61.6183 693.596 59.1038 695.57 Q56.5894 697.543 56.5894 701.49 Q56.5894 706.232 59.6131 708.969 Q62.6368 711.707 67.8567 711.707 L88.0042 711.707 L88.0042 717.595 L52.3562 717.595 L52.3562 711.707 L57.8944 711.707 Q54.6797 709.606 53.0883 706.773 Q51.4968 703.909 51.4968 700.185 Q51.4968 694.042 55.3163 690.891 Q59.1038 687.74 66.4881 687.74 Z\" fill=\"#000000\" fill-rule=\"evenodd\" fill-opacity=\"1\" /><path clip-path=\"url(#clip890)\" d=\"M 0 0 M42.2347 675.804 L52.3562 675.804 L52.3562 663.741 L56.9077 663.741 L56.9077 675.804 L76.2594 675.804 Q80.6199 675.804 81.8613 674.626 Q83.1026 673.417 83.1026 669.757 L83.1026 663.741 L88.0042 663.741 L88.0042 669.757 Q88.0042 676.536 85.4897 679.114 Q82.9434 681.692 76.2594 681.692 L56.9077 681.692 L56.9077 685.989 L52.3562 685.989 L52.3562 681.692 L42.2347 681.692 L42.2347 675.804 Z\" fill=\"#000000\" fill-rule=\"evenodd\" fill-opacity=\"1\" /><path clip-path=\"url(#clip890)\" d=\"M 0 0 M57.8307 636.941 Q57.2578 637.928 57.0032 639.106 Q56.7167 640.252 56.7167 641.652 Q56.7167 646.617 59.9632 649.291 Q63.1779 651.933 69.2253 651.933 L88.0042 651.933 L88.0042 657.821 L52.3562 657.821 L52.3562 651.933 L57.8944 651.933 Q54.6479 650.087 53.0883 647.127 Q51.4968 644.166 51.4968 639.933 Q51.4968 639.329 51.5923 638.596 Q51.656 637.864 51.8151 636.973 L57.8307 636.941 Z\" fill=\"#000000\" fill-rule=\"evenodd\" fill-opacity=\"1\" /><path clip-path=\"url(#clip890)\" d=\"M 0 0 M56.4621 618.417 Q56.4621 623.128 60.1542 625.865 Q63.8145 628.602 70.212 628.602 Q76.6095 628.602 80.3017 625.897 Q83.9619 623.16 83.9619 618.417 Q83.9619 613.738 80.2698 611.001 Q76.5777 608.264 70.212 608.264 Q63.8781 608.264 60.186 611.001 Q56.4621 613.738 56.4621 618.417 M51.4968 618.417 Q51.4968 610.778 56.4621 606.418 Q61.4273 602.057 70.212 602.057 Q78.9649 602.057 83.9619 606.418 Q88.9272 610.778 88.9272 618.417 Q88.9272 626.088 83.9619 630.448 Q78.9649 634.777 70.212 634.777 Q61.4273 634.777 56.4621 630.448 Q51.4968 626.088 51.4968 618.417 Z\" fill=\"#000000\" fill-rule=\"evenodd\" fill-opacity=\"1\" /><path clip-path=\"url(#clip890)\" d=\"M 0 0 M82.657 590.249 L101.563 590.249 L101.563 596.137 L52.3562 596.137 L52.3562 590.249 L57.7671 590.249 Q54.5842 588.403 53.0564 585.602 Q51.4968 582.769 51.4968 578.854 Q51.4968 572.361 56.6531 568.319 Q61.8093 564.245 70.212 564.245 Q78.6147 564.245 83.771 568.319 Q88.9272 572.361 88.9272 578.854 Q88.9272 582.769 87.3994 585.602 Q85.8398 588.403 82.657 590.249 M70.212 570.324 Q63.7508 570.324 60.0905 572.998 Q56.3984 575.64 56.3984 580.287 Q56.3984 584.934 60.0905 587.607 Q63.7508 590.249 70.212 590.249 Q76.6732 590.249 80.3653 587.607 Q84.0256 584.934 84.0256 580.287 Q84.0256 575.64 80.3653 572.998 Q76.6732 570.324 70.212 570.324 Z\" fill=\"#000000\" fill-rule=\"evenodd\" fill-opacity=\"1\" /><path clip-path=\"url(#clip890)\" d=\"M 0 0 M91.3143 543.27 Q97.68 545.753 99.6216 548.108 Q101.563 550.463 101.563 554.41 L101.563 559.089 L96.6615 559.089 L96.6615 555.651 Q96.6615 553.232 95.5157 551.896 Q94.3699 550.559 90.1048 548.935 L87.4312 547.885 L52.3562 562.303 L52.3562 556.097 L80.238 544.957 L52.3562 533.817 L52.3562 527.61 L91.3143 543.27 Z\" fill=\"#000000\" fill-rule=\"evenodd\" fill-opacity=\"1\" /><polyline clip-path=\"url(#clip892)\" style=\"stroke:#009af9; stroke-width:4; stroke-opacity:1; fill:none\" points=\"\n",
       "  271.886,1343.53 390.725,1384.21 509.564,1384.24 628.403,1358.52 747.242,1364.1 866.081,1334.1 984.92,1351.74 1103.76,1363.94 1222.6,1358.48 1341.44,1365.64 \n",
       "  1460.28,1371 1579.11,1363.73 1697.95,1368.42 1816.79,1370.01 1935.63,1356 2054.47,1356.51 2173.31,1353.26 2292.15,1347.94 \n",
       "  \"/>\n",
       "<polyline clip-path=\"url(#clip892)\" style=\"stroke:#e26f46; stroke-width:4; stroke-opacity:1; fill:none\" points=\"\n",
       "  271.886,86.1857 390.725,536.661 509.564,655.73 628.403,707.674 747.242,721.567 866.081,807.734 984.92,837.97 1103.76,884.298 1222.6,878.737 1341.44,995.479 \n",
       "  1460.28,966.795 1579.11,1012.01 1697.95,988.141 1816.79,993.349 1935.63,1049.84 2054.47,1086.67 2173.31,1063.19 2292.15,1085.43 \n",
       "  \"/>\n",
       "<path clip-path=\"url(#clip890)\" d=\"\n",
       "M1844.1 274.549 L2281.37 274.549 L2281.37 93.1086 L1844.1 93.1086  Z\n",
       "  \" fill=\"#ffffff\" fill-rule=\"evenodd\" fill-opacity=\"1\"/>\n",
       "<polyline clip-path=\"url(#clip890)\" style=\"stroke:#000000; stroke-width:4; stroke-opacity:1; fill:none\" points=\"\n",
       "  1844.1,274.549 2281.37,274.549 2281.37,93.1086 1844.1,93.1086 1844.1,274.549 \n",
       "  \"/>\n",
       "<polyline clip-path=\"url(#clip890)\" style=\"stroke:#009af9; stroke-width:4; stroke-opacity:1; fill:none\" points=\"\n",
       "  1867.9,153.589 2010.66,153.589 \n",
       "  \"/>\n",
       "<path clip-path=\"url(#clip890)\" d=\"M 0 0 M2034.46 136.309 L2063.69 136.309 L2063.69 140.244 L2051.42 140.244 L2051.42 170.869 L2046.73 170.869 L2046.73 140.244 L2034.46 140.244 L2034.46 136.309 Z\" fill=\"#000000\" fill-rule=\"evenodd\" fill-opacity=\"1\" /><path clip-path=\"url(#clip890)\" d=\"M 0 0 M2076.22 148.924 Q2075.5 148.508 2074.64 148.322 Q2073.81 148.114 2072.79 148.114 Q2069.18 148.114 2067.23 150.475 Q2065.31 152.813 2065.31 157.211 L2065.31 170.869 L2061.03 170.869 L2061.03 144.943 L2065.31 144.943 L2065.31 148.971 Q2066.66 146.609 2068.81 145.475 Q2070.96 144.318 2074.04 144.318 Q2074.48 144.318 2075.01 144.387 Q2075.55 144.434 2076.19 144.549 L2076.22 148.924 Z\" fill=\"#000000\" fill-rule=\"evenodd\" fill-opacity=\"1\" /><path clip-path=\"url(#clip890)\" d=\"M 0 0 M2092.47 157.836 Q2087.3 157.836 2085.31 159.017 Q2083.32 160.197 2083.32 163.045 Q2083.32 165.313 2084.8 166.656 Q2086.31 167.975 2088.88 167.975 Q2092.42 167.975 2094.55 165.475 Q2096.7 162.952 2096.7 158.785 L2096.7 157.836 L2092.47 157.836 M2100.96 156.077 L2100.96 170.869 L2096.7 170.869 L2096.7 166.933 Q2095.24 169.295 2093.07 170.429 Q2090.89 171.54 2087.74 171.54 Q2083.76 171.54 2081.4 169.318 Q2079.06 167.072 2079.06 163.322 Q2079.06 158.947 2081.98 156.725 Q2084.92 154.503 2090.73 154.503 L2096.7 154.503 L2096.7 154.086 Q2096.7 151.147 2094.76 149.549 Q2092.84 147.929 2089.34 147.929 Q2087.12 147.929 2085.01 148.461 Q2082.91 148.994 2080.96 150.059 L2080.96 146.123 Q2083.3 145.221 2085.5 144.781 Q2087.7 144.318 2089.78 144.318 Q2095.41 144.318 2098.18 147.234 Q2100.96 150.151 2100.96 156.077 Z\" fill=\"#000000\" fill-rule=\"evenodd\" fill-opacity=\"1\" /><path clip-path=\"url(#clip890)\" d=\"M 0 0 M2105.43 144.943 L2109.69 144.943 L2109.69 170.869 L2105.43 170.869 L2105.43 144.943 M2105.43 134.85 L2109.69 134.85 L2109.69 140.244 L2105.43 140.244 L2105.43 134.85 Z\" fill=\"#000000\" fill-rule=\"evenodd\" fill-opacity=\"1\" /><path clip-path=\"url(#clip890)\" d=\"M 0 0 M2135.71 155.221 L2135.71 170.869 L2131.45 170.869 L2131.45 155.359 Q2131.45 151.679 2130.01 149.85 Q2128.58 148.022 2125.71 148.022 Q2122.26 148.022 2120.27 150.221 Q2118.28 152.42 2118.28 156.216 L2118.28 170.869 L2113.99 170.869 L2113.99 144.943 L2118.28 144.943 L2118.28 148.971 Q2119.8 146.633 2121.86 145.475 Q2123.95 144.318 2126.66 144.318 Q2131.12 144.318 2133.42 147.096 Q2135.71 149.85 2135.71 155.221 Z\" fill=\"#000000\" fill-rule=\"evenodd\" fill-opacity=\"1\" /><path clip-path=\"url(#clip890)\" d=\"M 0 0 M2140.17 144.943 L2144.43 144.943 L2144.43 170.869 L2140.17 170.869 L2140.17 144.943 M2140.17 134.85 L2144.43 134.85 L2144.43 140.244 L2140.17 140.244 L2140.17 134.85 Z\" fill=\"#000000\" fill-rule=\"evenodd\" fill-opacity=\"1\" /><path clip-path=\"url(#clip890)\" d=\"M 0 0 M2170.45 155.221 L2170.45 170.869 L2166.19 170.869 L2166.19 155.359 Q2166.19 151.679 2164.76 149.85 Q2163.32 148.022 2160.45 148.022 Q2157 148.022 2155.01 150.221 Q2153.02 152.42 2153.02 156.216 L2153.02 170.869 L2148.74 170.869 L2148.74 144.943 L2153.02 144.943 L2153.02 148.971 Q2154.55 146.633 2156.61 145.475 Q2158.69 144.318 2161.4 144.318 Q2165.87 144.318 2168.16 147.096 Q2170.45 149.85 2170.45 155.221 Z\" fill=\"#000000\" fill-rule=\"evenodd\" fill-opacity=\"1\" /><path clip-path=\"url(#clip890)\" d=\"M 0 0 M2191.98 157.605 Q2191.98 152.975 2190.06 150.429 Q2188.16 147.883 2184.71 147.883 Q2181.29 147.883 2179.36 150.429 Q2177.47 152.975 2177.47 157.605 Q2177.47 162.211 2179.36 164.758 Q2181.29 167.304 2184.71 167.304 Q2188.16 167.304 2190.06 164.758 Q2191.98 162.211 2191.98 157.605 M2196.24 167.651 Q2196.24 174.271 2193.3 177.489 Q2190.36 180.73 2184.29 180.73 Q2182.05 180.73 2180.06 180.382 Q2178.07 180.058 2176.19 179.364 L2176.19 175.22 Q2178.07 176.239 2179.9 176.725 Q2181.73 177.211 2183.62 177.211 Q2187.81 177.211 2189.9 175.012 Q2191.98 172.836 2191.98 168.415 L2191.98 166.308 Q2190.66 168.6 2188.6 169.734 Q2186.54 170.869 2183.67 170.869 Q2178.9 170.869 2175.98 167.234 Q2173.07 163.6 2173.07 157.605 Q2173.07 151.586 2175.98 147.952 Q2178.9 144.318 2183.67 144.318 Q2186.54 144.318 2188.6 145.452 Q2190.66 146.586 2191.98 148.878 L2191.98 144.943 L2196.24 144.943 L2196.24 167.651 Z\" fill=\"#000000\" fill-rule=\"evenodd\" fill-opacity=\"1\" /><polyline clip-path=\"url(#clip890)\" style=\"stroke:#e26f46; stroke-width:4; stroke-opacity:1; fill:none\" points=\"\n",
       "  1867.9,214.069 2010.66,214.069 \n",
       "  \"/>\n",
       "<path clip-path=\"url(#clip890)\" d=\"M 0 0 M2047.65 231.349 L2034.46 196.789 L2039.34 196.789 L2050.29 225.886 L2061.26 196.789 L2066.12 196.789 L2052.95 231.349 L2047.65 231.349 Z\" fill=\"#000000\" fill-rule=\"evenodd\" fill-opacity=\"1\" /><path clip-path=\"url(#clip890)\" d=\"M 0 0 M2078.69 218.316 Q2073.53 218.316 2071.54 219.497 Q2069.55 220.677 2069.55 223.525 Q2069.55 225.793 2071.03 227.136 Q2072.54 228.455 2075.11 228.455 Q2078.65 228.455 2080.78 225.955 Q2082.93 223.432 2082.93 219.265 L2082.93 218.316 L2078.69 218.316 M2087.19 216.557 L2087.19 231.349 L2082.93 231.349 L2082.93 227.413 Q2081.47 229.775 2079.3 230.909 Q2077.12 232.02 2073.97 232.02 Q2069.99 232.02 2067.63 229.798 Q2065.29 227.552 2065.29 223.802 Q2065.29 219.427 2068.21 217.205 Q2071.15 214.983 2076.96 214.983 L2082.93 214.983 L2082.93 214.566 Q2082.93 211.627 2080.98 210.029 Q2079.06 208.409 2075.57 208.409 Q2073.35 208.409 2071.24 208.941 Q2069.13 209.474 2067.19 210.539 L2067.19 206.603 Q2069.53 205.701 2071.73 205.261 Q2073.92 204.798 2076.01 204.798 Q2081.63 204.798 2084.41 207.714 Q2087.19 210.631 2087.19 216.557 Z\" fill=\"#000000\" fill-rule=\"evenodd\" fill-opacity=\"1\" /><path clip-path=\"url(#clip890)\" d=\"M 0 0 M2091.66 195.33 L2095.92 195.33 L2095.92 231.349 L2091.66 231.349 L2091.66 195.33 Z\" fill=\"#000000\" fill-rule=\"evenodd\" fill-opacity=\"1\" /><path clip-path=\"url(#clip890)\" d=\"M 0 0 M2100.38 205.423 L2104.64 205.423 L2104.64 231.349 L2100.38 231.349 L2100.38 205.423 M2100.38 195.33 L2104.64 195.33 L2104.64 200.724 L2100.38 200.724 L2100.38 195.33 Z\" fill=\"#000000\" fill-rule=\"evenodd\" fill-opacity=\"1\" /><path clip-path=\"url(#clip890)\" d=\"M 0 0 M2126.17 209.358 L2126.17 195.33 L2130.43 195.33 L2130.43 231.349 L2126.17 231.349 L2126.17 227.46 Q2124.83 229.775 2122.77 230.909 Q2120.73 232.02 2117.86 232.02 Q2113.16 232.02 2110.2 228.27 Q2107.26 224.52 2107.26 218.409 Q2107.26 212.298 2110.2 208.548 Q2113.16 204.798 2117.86 204.798 Q2120.73 204.798 2122.77 205.932 Q2124.83 207.043 2126.17 209.358 M2111.66 218.409 Q2111.66 223.108 2113.58 225.793 Q2115.52 228.455 2118.9 228.455 Q2122.28 228.455 2124.23 225.793 Q2126.17 223.108 2126.17 218.409 Q2126.17 213.71 2124.23 211.048 Q2122.28 208.363 2118.9 208.363 Q2115.52 208.363 2113.58 211.048 Q2111.66 213.71 2111.66 218.409 Z\" fill=\"#000000\" fill-rule=\"evenodd\" fill-opacity=\"1\" /><path clip-path=\"url(#clip890)\" d=\"M 0 0 M2146.68 218.316 Q2141.52 218.316 2139.53 219.497 Q2137.54 220.677 2137.54 223.525 Q2137.54 225.793 2139.02 227.136 Q2140.52 228.455 2143.09 228.455 Q2146.63 228.455 2148.76 225.955 Q2150.92 223.432 2150.92 219.265 L2150.92 218.316 L2146.68 218.316 M2155.17 216.557 L2155.17 231.349 L2150.92 231.349 L2150.92 227.413 Q2149.46 229.775 2147.28 230.909 Q2145.1 232.02 2141.96 232.02 Q2137.98 232.02 2135.61 229.798 Q2133.28 227.552 2133.28 223.802 Q2133.28 219.427 2136.19 217.205 Q2139.13 214.983 2144.94 214.983 L2150.92 214.983 L2150.92 214.566 Q2150.92 211.627 2148.97 210.029 Q2147.05 208.409 2143.55 208.409 Q2141.33 208.409 2139.23 208.941 Q2137.12 209.474 2135.17 210.539 L2135.17 206.603 Q2137.51 205.701 2139.71 205.261 Q2141.91 204.798 2143.99 204.798 Q2149.62 204.798 2152.4 207.714 Q2155.17 210.631 2155.17 216.557 Z\" fill=\"#000000\" fill-rule=\"evenodd\" fill-opacity=\"1\" /><path clip-path=\"url(#clip890)\" d=\"M 0 0 M2163.85 198.062 L2163.85 205.423 L2172.63 205.423 L2172.63 208.733 L2163.85 208.733 L2163.85 222.807 Q2163.85 225.978 2164.71 226.881 Q2165.59 227.784 2168.25 227.784 L2172.63 227.784 L2172.63 231.349 L2168.25 231.349 Q2163.32 231.349 2161.45 229.52 Q2159.57 227.668 2159.57 222.807 L2159.57 208.733 L2156.45 208.733 L2156.45 205.423 L2159.57 205.423 L2159.57 198.062 L2163.85 198.062 Z\" fill=\"#000000\" fill-rule=\"evenodd\" fill-opacity=\"1\" /><path clip-path=\"url(#clip890)\" d=\"M 0 0 M2177.1 205.423 L2181.35 205.423 L2181.35 231.349 L2177.1 231.349 L2177.1 205.423 M2177.1 195.33 L2181.35 195.33 L2181.35 200.724 L2177.1 200.724 L2177.1 195.33 Z\" fill=\"#000000\" fill-rule=\"evenodd\" fill-opacity=\"1\" /><path clip-path=\"url(#clip890)\" d=\"M 0 0 M2195.87 208.409 Q2192.44 208.409 2190.45 211.094 Q2188.46 213.756 2188.46 218.409 Q2188.46 223.062 2190.43 225.747 Q2192.42 228.409 2195.87 228.409 Q2199.27 228.409 2201.26 225.724 Q2203.25 223.038 2203.25 218.409 Q2203.25 213.802 2201.26 211.117 Q2199.27 208.409 2195.87 208.409 M2195.87 204.798 Q2201.42 204.798 2204.6 208.409 Q2207.77 212.02 2207.77 218.409 Q2207.77 224.775 2204.6 228.409 Q2201.42 232.02 2195.87 232.02 Q2190.29 232.02 2187.12 228.409 Q2183.97 224.775 2183.97 218.409 Q2183.97 212.02 2187.12 208.409 Q2190.29 204.798 2195.87 204.798 Z\" fill=\"#000000\" fill-rule=\"evenodd\" fill-opacity=\"1\" /><path clip-path=\"url(#clip890)\" d=\"M 0 0 M2233.78 215.701 L2233.78 231.349 L2229.53 231.349 L2229.53 215.839 Q2229.53 212.159 2228.09 210.33 Q2226.66 208.502 2223.78 208.502 Q2220.34 208.502 2218.35 210.701 Q2216.35 212.9 2216.35 216.696 L2216.35 231.349 L2212.07 231.349 L2212.07 205.423 L2216.35 205.423 L2216.35 209.451 Q2217.88 207.113 2219.94 205.955 Q2222.03 204.798 2224.73 204.798 Q2229.2 204.798 2231.49 207.576 Q2233.78 210.33 2233.78 215.701 Z\" fill=\"#000000\" fill-rule=\"evenodd\" fill-opacity=\"1\" /></svg>\n"
      ]
     },
     "execution_count": 82,
     "metadata": {},
     "output_type": "execute_result"
    }
   ],
   "source": [
    "plot(data_schedule, training_losses, label=\"Training\")\n",
    "plot!(data_schedule, valid_losses, label=\"Validation\")\n",
    "xlabel!(\"Number of Training Samples\")\n",
    "ylabel!(\"Cross Entropy\")"
   ]
  },
  {
   "cell_type": "code",
   "execution_count": 83,
   "metadata": {},
   "outputs": [],
   "source": [
    "png(\"Figures/loss_curve_NN\")"
   ]
  },
  {
   "cell_type": "markdown",
   "metadata": {},
   "source": [
    "#### Learning Curve"
   ]
  },
  {
   "cell_type": "code",
   "execution_count": 84,
   "metadata": {},
   "outputs": [
    {
     "name": "stderr",
     "output_type": "stream",
     "text": [
      "┌ Info: Training \u001b[34mMachine{NeuralNetworkClassifier{CustomNN,…}} @263\u001b[39m.\n",
      "└ @ MLJBase /home/andrew/.julia/packages/MLJBase/uKzAz/src/machines.jl:319\n",
      "\u001b[33mOptimising neural net:100%[=========================] Time: 0:02:51\u001b[39m\n"
     ]
    },
    {
     "data": {
      "text/plain": [
       "\u001b[34mMachine{NeuralNetworkClassifier{CustomNN,…}} @263\u001b[39m trained 1 time.\n",
       "  args: \n",
       "    1:\t\u001b[34mSource @611\u001b[39m ⏎ `Table{AbstractArray{Continuous,1}}`\n",
       "    2:\t\u001b[34mSource @409\u001b[39m ⏎ `AbstractArray{Multiclass{3},1}`\n"
      ]
     },
     "execution_count": 84,
     "metadata": {},
     "output_type": "execute_result"
    }
   ],
   "source": [
    "Net = machine(lc_model, X_stand, y)\n",
    "Net.model.epochs = max_epochs\n",
    "fit!(Net, rows=train, verbosity=1, force=true)"
   ]
  },
  {
   "cell_type": "code",
   "execution_count": 85,
   "metadata": {},
   "outputs": [
    {
     "name": "stderr",
     "output_type": "stream",
     "text": [
      "\u001b[33mEvaluating over 6 folds: 100%[=========================] Time: 0:18:55\u001b[39m\n"
     ]
    },
    {
     "data": {
      "text/plain": [
       "┌\u001b[0m───────────────\u001b[0m┬\u001b[0m───────────────\u001b[0m┬\u001b[0m──────────────────────────────────────────────────\u001b[0m┐\u001b[0m\n",
       "│\u001b[0m\u001b[22m _.measure     \u001b[0m│\u001b[0m\u001b[22m _.measurement \u001b[0m│\u001b[0m\u001b[22m _.per_fold                                       \u001b[0m│\u001b[0m\n",
       "├\u001b[0m───────────────\u001b[0m┼\u001b[0m───────────────\u001b[0m┼\u001b[0m──────────────────────────────────────────────────\u001b[0m┤\u001b[0m\n",
       "│\u001b[0m cross_entropy \u001b[0m│\u001b[0m 0.66          \u001b[0m│\u001b[0m Float32[0.657, 0.659, 0.651, 0.658, 0.668, 0.67] \u001b[0m│\u001b[0m\n",
       "│\u001b[0m acc           \u001b[0m│\u001b[0m 0.889         \u001b[0m│\u001b[0m [0.878, 0.893, 0.914, 0.882, 0.881, 0.885]       \u001b[0m│\u001b[0m\n",
       "└\u001b[0m───────────────\u001b[0m┴\u001b[0m───────────────\u001b[0m┴\u001b[0m──────────────────────────────────────────────────\u001b[0m┘\u001b[0m\n",
       "_.per_observation = [[[0.551, 0.563, ..., 0.574], [0.551, 1.43, ..., 1.48], [0.552, 1.25, ..., 0.551], [0.552, 0.552, ..., 0.551], [0.551, 0.551, ..., 0.552], [0.551, 1.55, ..., 0.551]], missing]\n",
       "_.fitted_params_per_fold = [ … ]\n",
       "_.report_per_fold = [ … ]\n"
      ]
     },
     "execution_count": 85,
     "metadata": {},
     "output_type": "execute_result"
    }
   ],
   "source": [
    "nn_acc = evaluate!(Net, resampling=CV(shuffle=true), measure=[cross_entropy, acc], verbosity=1)"
   ]
  },
  {
   "cell_type": "code",
   "execution_count": 86,
   "metadata": {
    "scrolled": true
   },
   "outputs": [
    {
     "data": {
      "text/plain": [
       "MLJBase.NumericRange(Int64, :epochs, ... )"
      ]
     },
     "execution_count": 86,
     "metadata": {},
     "output_type": "execute_result"
    }
   ],
   "source": [
    "r = range(nn, :epochs, lower=1, upper=max_epochs, scale=:log10)"
   ]
  },
  {
   "cell_type": "code",
   "execution_count": 87,
   "metadata": {},
   "outputs": [
    {
     "name": "stderr",
     "output_type": "stream",
     "text": [
      "┌ Info: Training \u001b[34mMachine{ProbabilisticTunedModel{Grid,…}} @329\u001b[39m.\n",
      "└ @ MLJBase /home/andrew/.julia/packages/MLJBase/uKzAz/src/machines.jl:319\n",
      "┌ Info: Attempting to evaluate 147 models.\n",
      "└ @ MLJTuning /home/andrew/.julia/packages/MLJTuning/Bbgvk/src/tuned_models.jl:494\n",
      "\u001b[33mEvaluating over 147 metamodels: 100%[=========================] Time: 0:02:47\u001b[39m\n"
     ]
    },
    {
     "data": {
      "text/plain": [
       "(parameter_name = \"epochs\",\n",
       " parameter_scale = :log10,\n",
       " parameter_values = [1, 2, 3, 4, 5, 6, 7, 8, 9, 10  …  2749, 2866, 2988, 3115, 3248, 3386, 3530, 3680, 3837, 4000],\n",
       " measurements = [1.0513997077941895, 1.0593593120574951, 1.06723153591156, 1.0749949216842651, 1.0826311111450195, 1.090123176574707, 1.0974555015563965, 1.1046146154403687, 1.1115899085998535, 1.118370532989502  …  0.7445113062858582, 0.7432727813720703, 0.7408509254455566, 0.7384849786758423, 0.7364564538002014, 0.7318754196166992, 0.7285881638526917, 0.7265833616256714, 0.7262718081474304, 0.7267636060714722],)"
      ]
     },
     "execution_count": 87,
     "metadata": {},
     "output_type": "execute_result"
    }
   ],
   "source": [
    "curve = MLJ.learning_curve(Net, \n",
    "                        range=r, \n",
    "                        resampling=Holdout(fraction_train=0.7), \n",
    "#                         resampling=CV(nfolds=4), \n",
    "                        measure=cross_entropy, \n",
    "                        acceleration=CPUProcesses(),\n",
    "                        resolution=200\n",
    ")"
   ]
  },
  {
   "cell_type": "code",
   "execution_count": 88,
   "metadata": {},
   "outputs": [
    {
     "data": {
      "image/svg+xml": [
       "<?xml version=\"1.0\" encoding=\"utf-8\"?>\n",
       "<svg xmlns=\"http://www.w3.org/2000/svg\" xmlns:xlink=\"http://www.w3.org/1999/xlink\" width=\"600\" height=\"400\" viewBox=\"0 0 2400 1600\">\n",
       "<defs>\n",
       "  <clipPath id=\"clip940\">\n",
       "    <rect x=\"0\" y=\"0\" width=\"2400\" height=\"1600\"/>\n",
       "  </clipPath>\n",
       "</defs>\n",
       "<path clip-path=\"url(#clip940)\" d=\"\n",
       "M0 1600 L2400 1600 L2400 0 L0 0  Z\n",
       "  \" fill=\"#ffffff\" fill-rule=\"evenodd\" fill-opacity=\"1\"/>\n",
       "<defs>\n",
       "  <clipPath id=\"clip941\">\n",
       "    <rect x=\"480\" y=\"0\" width=\"1681\" height=\"1600\"/>\n",
       "  </clipPath>\n",
       "</defs>\n",
       "<path clip-path=\"url(#clip940)\" d=\"\n",
       "M211.278 1423.18 L2352.76 1423.18 L2352.76 47.2441 L211.278 47.2441  Z\n",
       "  \" fill=\"#ffffff\" fill-rule=\"evenodd\" fill-opacity=\"1\"/>\n",
       "<defs>\n",
       "  <clipPath id=\"clip942\">\n",
       "    <rect x=\"211\" y=\"47\" width=\"2142\" height=\"1377\"/>\n",
       "  </clipPath>\n",
       "</defs>\n",
       "<polyline clip-path=\"url(#clip942)\" style=\"stroke:#000000; stroke-width:2; stroke-opacity:0.1; fill:none\" points=\"\n",
       "  271.381,1423.18 271.381,47.2441 \n",
       "  \"/>\n",
       "<polyline clip-path=\"url(#clip942)\" style=\"stroke:#000000; stroke-width:2; stroke-opacity:0.1; fill:none\" points=\"\n",
       "  776.573,1423.18 776.573,47.2441 \n",
       "  \"/>\n",
       "<polyline clip-path=\"url(#clip942)\" style=\"stroke:#000000; stroke-width:2; stroke-opacity:0.1; fill:none\" points=\"\n",
       "  1281.76,1423.18 1281.76,47.2441 \n",
       "  \"/>\n",
       "<polyline clip-path=\"url(#clip942)\" style=\"stroke:#000000; stroke-width:2; stroke-opacity:0.1; fill:none\" points=\"\n",
       "  1786.96,1423.18 1786.96,47.2441 \n",
       "  \"/>\n",
       "<polyline clip-path=\"url(#clip942)\" style=\"stroke:#000000; stroke-width:2; stroke-opacity:0.1; fill:none\" points=\"\n",
       "  2292.15,1423.18 2292.15,47.2441 \n",
       "  \"/>\n",
       "<polyline clip-path=\"url(#clip942)\" style=\"stroke:#000000; stroke-width:2; stroke-opacity:0.1; fill:none\" points=\"\n",
       "  211.278,1312.68 2352.76,1312.68 \n",
       "  \"/>\n",
       "<polyline clip-path=\"url(#clip942)\" style=\"stroke:#000000; stroke-width:2; stroke-opacity:0.1; fill:none\" points=\"\n",
       "  211.278,1111.87 2352.76,1111.87 \n",
       "  \"/>\n",
       "<polyline clip-path=\"url(#clip942)\" style=\"stroke:#000000; stroke-width:2; stroke-opacity:0.1; fill:none\" points=\"\n",
       "  211.278,911.057 2352.76,911.057 \n",
       "  \"/>\n",
       "<polyline clip-path=\"url(#clip942)\" style=\"stroke:#000000; stroke-width:2; stroke-opacity:0.1; fill:none\" points=\"\n",
       "  211.278,710.246 2352.76,710.246 \n",
       "  \"/>\n",
       "<polyline clip-path=\"url(#clip942)\" style=\"stroke:#000000; stroke-width:2; stroke-opacity:0.1; fill:none\" points=\"\n",
       "  211.278,509.435 2352.76,509.435 \n",
       "  \"/>\n",
       "<polyline clip-path=\"url(#clip942)\" style=\"stroke:#000000; stroke-width:2; stroke-opacity:0.1; fill:none\" points=\"\n",
       "  211.278,308.625 2352.76,308.625 \n",
       "  \"/>\n",
       "<polyline clip-path=\"url(#clip942)\" style=\"stroke:#000000; stroke-width:2; stroke-opacity:0.1; fill:none\" points=\"\n",
       "  211.278,107.814 2352.76,107.814 \n",
       "  \"/>\n",
       "<polyline clip-path=\"url(#clip940)\" style=\"stroke:#000000; stroke-width:4; stroke-opacity:1; fill:none\" points=\"\n",
       "  211.278,1423.18 2352.76,1423.18 \n",
       "  \"/>\n",
       "<polyline clip-path=\"url(#clip940)\" style=\"stroke:#000000; stroke-width:4; stroke-opacity:1; fill:none\" points=\"\n",
       "  211.278,1423.18 211.278,47.2441 \n",
       "  \"/>\n",
       "<polyline clip-path=\"url(#clip940)\" style=\"stroke:#000000; stroke-width:4; stroke-opacity:1; fill:none\" points=\"\n",
       "  271.381,1423.18 271.381,1406.67 \n",
       "  \"/>\n",
       "<polyline clip-path=\"url(#clip940)\" style=\"stroke:#000000; stroke-width:4; stroke-opacity:1; fill:none\" points=\"\n",
       "  776.573,1423.18 776.573,1406.67 \n",
       "  \"/>\n",
       "<polyline clip-path=\"url(#clip940)\" style=\"stroke:#000000; stroke-width:4; stroke-opacity:1; fill:none\" points=\"\n",
       "  1281.76,1423.18 1281.76,1406.67 \n",
       "  \"/>\n",
       "<polyline clip-path=\"url(#clip940)\" style=\"stroke:#000000; stroke-width:4; stroke-opacity:1; fill:none\" points=\"\n",
       "  1786.96,1423.18 1786.96,1406.67 \n",
       "  \"/>\n",
       "<polyline clip-path=\"url(#clip940)\" style=\"stroke:#000000; stroke-width:4; stroke-opacity:1; fill:none\" points=\"\n",
       "  2292.15,1423.18 2292.15,1406.67 \n",
       "  \"/>\n",
       "<polyline clip-path=\"url(#clip940)\" style=\"stroke:#000000; stroke-width:4; stroke-opacity:1; fill:none\" points=\"\n",
       "  211.278,1312.68 236.976,1312.68 \n",
       "  \"/>\n",
       "<polyline clip-path=\"url(#clip940)\" style=\"stroke:#000000; stroke-width:4; stroke-opacity:1; fill:none\" points=\"\n",
       "  211.278,1111.87 236.976,1111.87 \n",
       "  \"/>\n",
       "<polyline clip-path=\"url(#clip940)\" style=\"stroke:#000000; stroke-width:4; stroke-opacity:1; fill:none\" points=\"\n",
       "  211.278,911.057 236.976,911.057 \n",
       "  \"/>\n",
       "<polyline clip-path=\"url(#clip940)\" style=\"stroke:#000000; stroke-width:4; stroke-opacity:1; fill:none\" points=\"\n",
       "  211.278,710.246 236.976,710.246 \n",
       "  \"/>\n",
       "<polyline clip-path=\"url(#clip940)\" style=\"stroke:#000000; stroke-width:4; stroke-opacity:1; fill:none\" points=\"\n",
       "  211.278,509.435 236.976,509.435 \n",
       "  \"/>\n",
       "<polyline clip-path=\"url(#clip940)\" style=\"stroke:#000000; stroke-width:4; stroke-opacity:1; fill:none\" points=\"\n",
       "  211.278,308.625 236.976,308.625 \n",
       "  \"/>\n",
       "<polyline clip-path=\"url(#clip940)\" style=\"stroke:#000000; stroke-width:4; stroke-opacity:1; fill:none\" points=\"\n",
       "  211.278,107.814 236.976,107.814 \n",
       "  \"/>\n",
       "<path clip-path=\"url(#clip940)\" d=\"M 0 0 M271.381 1445.17 Q267.77 1445.17 265.941 1448.74 Q264.136 1452.28 264.136 1459.41 Q264.136 1466.51 265.941 1470.08 Q267.77 1473.62 271.381 1473.62 Q275.015 1473.62 276.821 1470.08 Q278.649 1466.51 278.649 1459.41 Q278.649 1452.28 276.821 1448.74 Q275.015 1445.17 271.381 1445.17 M271.381 1441.47 Q277.191 1441.47 280.247 1446.07 Q283.325 1450.66 283.325 1459.41 Q283.325 1468.13 280.247 1472.74 Q277.191 1477.32 271.381 1477.32 Q265.571 1477.32 262.492 1472.74 Q259.437 1468.13 259.437 1459.41 Q259.437 1450.66 262.492 1446.07 Q265.571 1441.47 271.381 1441.47 Z\" fill=\"#000000\" fill-rule=\"evenodd\" fill-opacity=\"1\" /><path clip-path=\"url(#clip940)\" d=\"M 0 0 M726.434 1472.72 L734.073 1472.72 L734.073 1446.35 L725.763 1448.02 L725.763 1443.76 L734.027 1442.09 L738.703 1442.09 L738.703 1472.72 L746.341 1472.72 L746.341 1476.65 L726.434 1476.65 L726.434 1472.72 Z\" fill=\"#000000\" fill-rule=\"evenodd\" fill-opacity=\"1\" /><path clip-path=\"url(#clip940)\" d=\"M 0 0 M761.411 1445.17 Q757.8 1445.17 755.971 1448.74 Q754.165 1452.28 754.165 1459.41 Q754.165 1466.51 755.971 1470.08 Q757.8 1473.62 761.411 1473.62 Q765.045 1473.62 766.851 1470.08 Q768.679 1466.51 768.679 1459.41 Q768.679 1452.28 766.851 1448.74 Q765.045 1445.17 761.411 1445.17 M761.411 1441.47 Q767.221 1441.47 770.277 1446.07 Q773.355 1450.66 773.355 1459.41 Q773.355 1468.13 770.277 1472.74 Q767.221 1477.32 761.411 1477.32 Q755.601 1477.32 752.522 1472.74 Q749.466 1468.13 749.466 1459.41 Q749.466 1450.66 752.522 1446.07 Q755.601 1441.47 761.411 1441.47 Z\" fill=\"#000000\" fill-rule=\"evenodd\" fill-opacity=\"1\" /><path clip-path=\"url(#clip940)\" d=\"M 0 0 M788.425 1445.17 Q784.813 1445.17 782.985 1448.74 Q781.179 1452.28 781.179 1459.41 Q781.179 1466.51 782.985 1470.08 Q784.813 1473.62 788.425 1473.62 Q792.059 1473.62 793.864 1470.08 Q795.693 1466.51 795.693 1459.41 Q795.693 1452.28 793.864 1448.74 Q792.059 1445.17 788.425 1445.17 M788.425 1441.47 Q794.235 1441.47 797.29 1446.07 Q800.369 1450.66 800.369 1459.41 Q800.369 1468.13 797.29 1472.74 Q794.235 1477.32 788.425 1477.32 Q782.614 1477.32 779.536 1472.74 Q776.48 1468.13 776.48 1459.41 Q776.48 1450.66 779.536 1446.07 Q782.614 1441.47 788.425 1441.47 Z\" fill=\"#000000\" fill-rule=\"evenodd\" fill-opacity=\"1\" /><path clip-path=\"url(#clip940)\" d=\"M 0 0 M815.438 1445.17 Q811.827 1445.17 809.999 1448.74 Q808.193 1452.28 808.193 1459.41 Q808.193 1466.51 809.999 1470.08 Q811.827 1473.62 815.438 1473.62 Q819.073 1473.62 820.878 1470.08 Q822.707 1466.51 822.707 1459.41 Q822.707 1452.28 820.878 1448.74 Q819.073 1445.17 815.438 1445.17 M815.438 1441.47 Q821.248 1441.47 824.304 1446.07 Q827.383 1450.66 827.383 1459.41 Q827.383 1468.13 824.304 1472.74 Q821.248 1477.32 815.438 1477.32 Q809.628 1477.32 806.549 1472.74 Q803.494 1468.13 803.494 1459.41 Q803.494 1450.66 806.549 1446.07 Q809.628 1441.47 815.438 1441.47 Z\" fill=\"#000000\" fill-rule=\"evenodd\" fill-opacity=\"1\" /><path clip-path=\"url(#clip940)\" d=\"M 0 0 M1235.9 1472.72 L1252.22 1472.72 L1252.22 1476.65 L1230.27 1476.65 L1230.27 1472.72 Q1232.93 1469.96 1237.52 1465.33 Q1242.12 1460.68 1243.3 1459.34 Q1245.55 1456.81 1246.43 1455.08 Q1247.33 1453.32 1247.33 1451.63 Q1247.33 1448.87 1245.39 1447.14 Q1243.47 1445.4 1240.36 1445.4 Q1238.17 1445.4 1235.71 1446.17 Q1233.28 1446.93 1230.5 1448.48 L1230.5 1443.76 Q1233.33 1442.62 1235.78 1442.05 Q1238.23 1441.47 1240.27 1441.47 Q1245.64 1441.47 1248.84 1444.15 Q1252.03 1446.84 1252.03 1451.33 Q1252.03 1453.46 1251.22 1455.38 Q1250.43 1457.28 1248.33 1459.87 Q1247.75 1460.54 1244.65 1463.76 Q1241.54 1466.95 1235.9 1472.72 Z\" fill=\"#000000\" fill-rule=\"evenodd\" fill-opacity=\"1\" /><path clip-path=\"url(#clip940)\" d=\"M 0 0 M1267.29 1445.17 Q1263.67 1445.17 1261.85 1448.74 Q1260.04 1452.28 1260.04 1459.41 Q1260.04 1466.51 1261.85 1470.08 Q1263.67 1473.62 1267.29 1473.62 Q1270.92 1473.62 1272.73 1470.08 Q1274.55 1466.51 1274.55 1459.41 Q1274.55 1452.28 1272.73 1448.74 Q1270.92 1445.17 1267.29 1445.17 M1267.29 1441.47 Q1273.1 1441.47 1276.15 1446.07 Q1279.23 1450.66 1279.23 1459.41 Q1279.23 1468.13 1276.15 1472.74 Q1273.1 1477.32 1267.29 1477.32 Q1261.48 1477.32 1258.4 1472.74 Q1255.34 1468.13 1255.34 1459.41 Q1255.34 1450.66 1258.4 1446.07 Q1261.48 1441.47 1267.29 1441.47 Z\" fill=\"#000000\" fill-rule=\"evenodd\" fill-opacity=\"1\" /><path clip-path=\"url(#clip940)\" d=\"M 0 0 M1294.3 1445.17 Q1290.69 1445.17 1288.86 1448.74 Q1287.05 1452.28 1287.05 1459.41 Q1287.05 1466.51 1288.86 1470.08 Q1290.69 1473.62 1294.3 1473.62 Q1297.93 1473.62 1299.74 1470.08 Q1301.57 1466.51 1301.57 1459.41 Q1301.57 1452.28 1299.74 1448.74 Q1297.93 1445.17 1294.3 1445.17 M1294.3 1441.47 Q1300.11 1441.47 1303.16 1446.07 Q1306.24 1450.66 1306.24 1459.41 Q1306.24 1468.13 1303.16 1472.74 Q1300.11 1477.32 1294.3 1477.32 Q1288.49 1477.32 1285.41 1472.74 Q1282.35 1468.13 1282.35 1459.41 Q1282.35 1450.66 1285.41 1446.07 Q1288.49 1441.47 1294.3 1441.47 Z\" fill=\"#000000\" fill-rule=\"evenodd\" fill-opacity=\"1\" /><path clip-path=\"url(#clip940)\" d=\"M 0 0 M1321.31 1445.17 Q1317.7 1445.17 1315.87 1448.74 Q1314.07 1452.28 1314.07 1459.41 Q1314.07 1466.51 1315.87 1470.08 Q1317.7 1473.62 1321.31 1473.62 Q1324.95 1473.62 1326.75 1470.08 Q1328.58 1466.51 1328.58 1459.41 Q1328.58 1452.28 1326.75 1448.74 Q1324.95 1445.17 1321.31 1445.17 M1321.31 1441.47 Q1327.12 1441.47 1330.18 1446.07 Q1333.26 1450.66 1333.26 1459.41 Q1333.26 1468.13 1330.18 1472.74 Q1327.12 1477.32 1321.31 1477.32 Q1315.5 1477.32 1312.42 1472.74 Q1309.37 1468.13 1309.37 1459.41 Q1309.37 1450.66 1312.42 1446.07 Q1315.5 1441.47 1321.31 1441.47 Z\" fill=\"#000000\" fill-rule=\"evenodd\" fill-opacity=\"1\" /><path clip-path=\"url(#clip940)\" d=\"M 0 0 M1750.68 1458.02 Q1754.04 1458.74 1755.91 1461 Q1757.81 1463.27 1757.81 1466.61 Q1757.81 1471.72 1754.29 1474.52 Q1750.78 1477.32 1744.29 1477.32 Q1742.12 1477.32 1739.8 1476.88 Q1737.51 1476.47 1735.06 1475.61 L1735.06 1471.1 Q1737 1472.23 1739.32 1472.81 Q1741.63 1473.39 1744.16 1473.39 Q1748.55 1473.39 1750.85 1471.65 Q1753.16 1469.92 1753.16 1466.61 Q1753.16 1463.55 1751.01 1461.84 Q1748.88 1460.1 1745.06 1460.1 L1741.03 1460.1 L1741.03 1456.26 L1745.24 1456.26 Q1748.69 1456.26 1750.52 1454.89 Q1752.35 1453.5 1752.35 1450.91 Q1752.35 1448.25 1750.45 1446.84 Q1748.58 1445.4 1745.06 1445.4 Q1743.14 1445.4 1740.94 1445.82 Q1738.74 1446.24 1736.1 1447.11 L1736.1 1442.95 Q1738.76 1442.21 1741.08 1441.84 Q1743.41 1441.47 1745.48 1441.47 Q1750.8 1441.47 1753.9 1443.9 Q1757 1446.3 1757 1450.43 Q1757 1453.3 1755.36 1455.29 Q1753.72 1457.25 1750.68 1458.02 Z\" fill=\"#000000\" fill-rule=\"evenodd\" fill-opacity=\"1\" /><path clip-path=\"url(#clip940)\" d=\"M 0 0 M1772.88 1445.17 Q1769.27 1445.17 1767.44 1448.74 Q1765.64 1452.28 1765.64 1459.41 Q1765.64 1466.51 1767.44 1470.08 Q1769.27 1473.62 1772.88 1473.62 Q1776.52 1473.62 1778.32 1470.08 Q1780.15 1466.51 1780.15 1459.41 Q1780.15 1452.28 1778.32 1448.74 Q1776.52 1445.17 1772.88 1445.17 M1772.88 1441.47 Q1778.69 1441.47 1781.75 1446.07 Q1784.83 1450.66 1784.83 1459.41 Q1784.83 1468.13 1781.75 1472.74 Q1778.69 1477.32 1772.88 1477.32 Q1767.07 1477.32 1763.99 1472.74 Q1760.94 1468.13 1760.94 1459.41 Q1760.94 1450.66 1763.99 1446.07 Q1767.07 1441.47 1772.88 1441.47 Z\" fill=\"#000000\" fill-rule=\"evenodd\" fill-opacity=\"1\" /><path clip-path=\"url(#clip940)\" d=\"M 0 0 M1799.9 1445.17 Q1796.28 1445.17 1794.46 1448.74 Q1792.65 1452.28 1792.65 1459.41 Q1792.65 1466.51 1794.46 1470.08 Q1796.28 1473.62 1799.9 1473.62 Q1803.53 1473.62 1805.34 1470.08 Q1807.16 1466.51 1807.16 1459.41 Q1807.16 1452.28 1805.34 1448.74 Q1803.53 1445.17 1799.9 1445.17 M1799.9 1441.47 Q1805.71 1441.47 1808.76 1446.07 Q1811.84 1450.66 1811.84 1459.41 Q1811.84 1468.13 1808.76 1472.74 Q1805.71 1477.32 1799.9 1477.32 Q1794.09 1477.32 1791.01 1472.74 Q1787.95 1468.13 1787.95 1459.41 Q1787.95 1450.66 1791.01 1446.07 Q1794.09 1441.47 1799.9 1441.47 Z\" fill=\"#000000\" fill-rule=\"evenodd\" fill-opacity=\"1\" /><path clip-path=\"url(#clip940)\" d=\"M 0 0 M1826.91 1445.17 Q1823.3 1445.17 1821.47 1448.74 Q1819.66 1452.28 1819.66 1459.41 Q1819.66 1466.51 1821.47 1470.08 Q1823.3 1473.62 1826.91 1473.62 Q1830.54 1473.62 1832.35 1470.08 Q1834.18 1466.51 1834.18 1459.41 Q1834.18 1452.28 1832.35 1448.74 Q1830.54 1445.17 1826.91 1445.17 M1826.91 1441.47 Q1832.72 1441.47 1835.78 1446.07 Q1838.85 1450.66 1838.85 1459.41 Q1838.85 1468.13 1835.78 1472.74 Q1832.72 1477.32 1826.91 1477.32 Q1821.1 1477.32 1818.02 1472.74 Q1814.97 1468.13 1814.97 1459.41 Q1814.97 1450.66 1818.02 1446.07 Q1821.1 1441.47 1826.91 1441.47 Z\" fill=\"#000000\" fill-rule=\"evenodd\" fill-opacity=\"1\" /><path clip-path=\"url(#clip940)\" d=\"M 0 0 M2254.64 1446.17 L2242.83 1464.61 L2254.64 1464.61 L2254.64 1446.17 M2253.41 1442.09 L2259.29 1442.09 L2259.29 1464.61 L2264.22 1464.61 L2264.22 1468.5 L2259.29 1468.5 L2259.29 1476.65 L2254.64 1476.65 L2254.64 1468.5 L2239.03 1468.5 L2239.03 1463.99 L2253.41 1442.09 Z\" fill=\"#000000\" fill-rule=\"evenodd\" fill-opacity=\"1\" /><path clip-path=\"url(#clip940)\" d=\"M 0 0 M2279.29 1445.17 Q2275.68 1445.17 2273.85 1448.74 Q2272.04 1452.28 2272.04 1459.41 Q2272.04 1466.51 2273.85 1470.08 Q2275.68 1473.62 2279.29 1473.62 Q2282.92 1473.62 2284.73 1470.08 Q2286.56 1466.51 2286.56 1459.41 Q2286.56 1452.28 2284.73 1448.74 Q2282.92 1445.17 2279.29 1445.17 M2279.29 1441.47 Q2285.1 1441.47 2288.16 1446.07 Q2291.23 1450.66 2291.23 1459.41 Q2291.23 1468.13 2288.16 1472.74 Q2285.1 1477.32 2279.29 1477.32 Q2273.48 1477.32 2270.4 1472.74 Q2267.34 1468.13 2267.34 1459.41 Q2267.34 1450.66 2270.4 1446.07 Q2273.48 1441.47 2279.29 1441.47 Z\" fill=\"#000000\" fill-rule=\"evenodd\" fill-opacity=\"1\" /><path clip-path=\"url(#clip940)\" d=\"M 0 0 M2306.3 1445.17 Q2302.69 1445.17 2300.86 1448.74 Q2299.06 1452.28 2299.06 1459.41 Q2299.06 1466.51 2300.86 1470.08 Q2302.69 1473.62 2306.3 1473.62 Q2309.94 1473.62 2311.74 1470.08 Q2313.57 1466.51 2313.57 1459.41 Q2313.57 1452.28 2311.74 1448.74 Q2309.94 1445.17 2306.3 1445.17 M2306.3 1441.47 Q2312.11 1441.47 2315.17 1446.07 Q2318.25 1450.66 2318.25 1459.41 Q2318.25 1468.13 2315.17 1472.74 Q2312.11 1477.32 2306.3 1477.32 Q2300.49 1477.32 2297.41 1472.74 Q2294.36 1468.13 2294.36 1459.41 Q2294.36 1450.66 2297.41 1446.07 Q2300.49 1441.47 2306.3 1441.47 Z\" fill=\"#000000\" fill-rule=\"evenodd\" fill-opacity=\"1\" /><path clip-path=\"url(#clip940)\" d=\"M 0 0 M2333.32 1445.17 Q2329.71 1445.17 2327.88 1448.74 Q2326.07 1452.28 2326.07 1459.41 Q2326.07 1466.51 2327.88 1470.08 Q2329.71 1473.62 2333.32 1473.62 Q2336.95 1473.62 2338.76 1470.08 Q2340.59 1466.51 2340.59 1459.41 Q2340.59 1452.28 2338.76 1448.74 Q2336.95 1445.17 2333.32 1445.17 M2333.32 1441.47 Q2339.13 1441.47 2342.18 1446.07 Q2345.26 1450.66 2345.26 1459.41 Q2345.26 1468.13 2342.18 1472.74 Q2339.13 1477.32 2333.32 1477.32 Q2327.51 1477.32 2324.43 1472.74 Q2321.37 1468.13 2321.37 1459.41 Q2321.37 1450.66 2324.43 1446.07 Q2327.51 1441.47 2333.32 1441.47 Z\" fill=\"#000000\" fill-rule=\"evenodd\" fill-opacity=\"1\" /><path clip-path=\"url(#clip940)\" d=\"M 0 0 M138.205 1298.48 Q134.593 1298.48 132.765 1302.04 Q130.959 1305.58 130.959 1312.71 Q130.959 1319.82 132.765 1323.38 Q134.593 1326.93 138.205 1326.93 Q141.839 1326.93 143.644 1323.38 Q145.473 1319.82 145.473 1312.71 Q145.473 1305.58 143.644 1302.04 Q141.839 1298.48 138.205 1298.48 M138.205 1294.77 Q144.015 1294.77 147.07 1299.38 Q150.149 1303.96 150.149 1312.71 Q150.149 1321.44 147.07 1326.05 Q144.015 1330.63 138.205 1330.63 Q132.394 1330.63 129.316 1326.05 Q126.26 1321.44 126.26 1312.71 Q126.26 1303.96 129.316 1299.38 Q132.394 1294.77 138.205 1294.77 Z\" fill=\"#000000\" fill-rule=\"evenodd\" fill-opacity=\"1\" /><path clip-path=\"url(#clip940)\" d=\"M 0 0 M155.218 1324.08 L160.103 1324.08 L160.103 1329.96 L155.218 1329.96 L155.218 1324.08 Z\" fill=\"#000000\" fill-rule=\"evenodd\" fill-opacity=\"1\" /><path clip-path=\"url(#clip940)\" d=\"M 0 0 M175.751 1310.81 Q172.603 1310.81 170.751 1312.97 Q168.922 1315.12 168.922 1318.87 Q168.922 1322.6 170.751 1324.77 Q172.603 1326.93 175.751 1326.93 Q178.899 1326.93 180.727 1324.77 Q182.579 1322.6 182.579 1318.87 Q182.579 1315.12 180.727 1312.97 Q178.899 1310.81 175.751 1310.81 M185.033 1296.16 L185.033 1300.42 Q183.274 1299.59 181.468 1299.15 Q179.686 1298.71 177.927 1298.71 Q173.297 1298.71 170.843 1301.83 Q168.413 1304.96 168.065 1311.28 Q169.431 1309.26 171.491 1308.2 Q173.552 1307.11 176.028 1307.11 Q181.237 1307.11 184.246 1310.28 Q187.278 1313.43 187.278 1318.87 Q187.278 1324.19 184.13 1327.41 Q180.982 1330.63 175.751 1330.63 Q169.755 1330.63 166.584 1326.05 Q163.413 1321.44 163.413 1312.71 Q163.413 1304.52 167.302 1299.66 Q171.19 1294.77 177.741 1294.77 Q179.501 1294.77 181.283 1295.12 Q183.089 1295.47 185.033 1296.16 Z\" fill=\"#000000\" fill-rule=\"evenodd\" fill-opacity=\"1\" /><path clip-path=\"url(#clip940)\" d=\"M 0 0 M139.269 1097.67 Q135.658 1097.67 133.83 1101.23 Q132.024 1104.77 132.024 1111.9 Q132.024 1119.01 133.83 1122.57 Q135.658 1126.12 139.269 1126.12 Q142.904 1126.12 144.709 1122.57 Q146.538 1119.01 146.538 1111.9 Q146.538 1104.77 144.709 1101.23 Q142.904 1097.67 139.269 1097.67 M139.269 1093.96 Q145.08 1093.96 148.135 1098.57 Q151.214 1103.15 151.214 1111.9 Q151.214 1120.63 148.135 1125.24 Q145.08 1129.82 139.269 1129.82 Q133.459 1129.82 130.381 1125.24 Q127.325 1120.63 127.325 1111.9 Q127.325 1103.15 130.381 1098.57 Q133.459 1093.96 139.269 1093.96 Z\" fill=\"#000000\" fill-rule=\"evenodd\" fill-opacity=\"1\" /><path clip-path=\"url(#clip940)\" d=\"M 0 0 M156.283 1123.27 L161.167 1123.27 L161.167 1129.15 L156.283 1129.15 L156.283 1123.27 Z\" fill=\"#000000\" fill-rule=\"evenodd\" fill-opacity=\"1\" /><path clip-path=\"url(#clip940)\" d=\"M 0 0 M165.056 1094.59 L187.278 1094.59 L187.278 1096.58 L174.732 1129.15 L169.848 1129.15 L181.653 1098.52 L165.056 1098.52 L165.056 1094.59 Z\" fill=\"#000000\" fill-rule=\"evenodd\" fill-opacity=\"1\" /><path clip-path=\"url(#clip940)\" d=\"M 0 0 M138.459 896.855 Q134.848 896.855 133.019 900.42 Q131.214 903.962 131.214 911.091 Q131.214 918.198 133.019 921.763 Q134.848 925.304 138.459 925.304 Q142.093 925.304 143.899 921.763 Q145.728 918.198 145.728 911.091 Q145.728 903.962 143.899 900.42 Q142.093 896.855 138.459 896.855 M138.459 893.152 Q144.269 893.152 147.325 897.758 Q150.404 902.342 150.404 911.091 Q150.404 919.818 147.325 924.425 Q144.269 929.008 138.459 929.008 Q132.649 929.008 129.57 924.425 Q126.515 919.818 126.515 911.091 Q126.515 902.342 129.57 897.758 Q132.649 893.152 138.459 893.152 Z\" fill=\"#000000\" fill-rule=\"evenodd\" fill-opacity=\"1\" /><path clip-path=\"url(#clip940)\" d=\"M 0 0 M155.473 922.457 L160.357 922.457 L160.357 928.337 L155.473 928.337 L155.473 922.457 Z\" fill=\"#000000\" fill-rule=\"evenodd\" fill-opacity=\"1\" /><path clip-path=\"url(#clip940)\" d=\"M 0 0 M175.427 911.925 Q172.093 911.925 170.172 913.707 Q168.274 915.49 168.274 918.615 Q168.274 921.74 170.172 923.522 Q172.093 925.304 175.427 925.304 Q178.76 925.304 180.681 923.522 Q182.602 921.716 182.602 918.615 Q182.602 915.49 180.681 913.707 Q178.783 911.925 175.427 911.925 M170.751 909.934 Q167.741 909.193 166.052 907.133 Q164.385 905.073 164.385 902.11 Q164.385 897.967 167.325 895.559 Q170.288 893.152 175.427 893.152 Q180.589 893.152 183.528 895.559 Q186.468 897.967 186.468 902.11 Q186.468 905.073 184.778 907.133 Q183.112 909.193 180.126 909.934 Q183.505 910.721 185.38 913.013 Q187.278 915.304 187.278 918.615 Q187.278 923.638 184.2 926.323 Q181.144 929.008 175.427 929.008 Q169.709 929.008 166.63 926.323 Q163.575 923.638 163.575 918.615 Q163.575 915.304 165.473 913.013 Q167.371 910.721 170.751 909.934 M169.038 902.55 Q169.038 905.235 170.704 906.74 Q172.394 908.244 175.427 908.244 Q178.436 908.244 180.126 906.74 Q181.839 905.235 181.839 902.55 Q181.839 899.865 180.126 898.36 Q178.436 896.855 175.427 896.855 Q172.394 896.855 170.704 898.36 Q169.038 899.865 169.038 902.55 Z\" fill=\"#000000\" fill-rule=\"evenodd\" fill-opacity=\"1\" /><path clip-path=\"url(#clip940)\" d=\"M 0 0 M138.552 696.045 Q134.941 696.045 133.112 699.61 Q131.306 703.151 131.306 710.281 Q131.306 717.387 133.112 720.952 Q134.941 724.494 138.552 724.494 Q142.186 724.494 143.992 720.952 Q145.82 717.387 145.82 710.281 Q145.82 703.151 143.992 699.61 Q142.186 696.045 138.552 696.045 M138.552 692.341 Q144.362 692.341 147.417 696.948 Q150.496 701.531 150.496 710.281 Q150.496 719.008 147.417 723.614 Q144.362 728.197 138.552 728.197 Q132.742 728.197 129.663 723.614 Q126.607 719.008 126.607 710.281 Q126.607 701.531 129.663 696.948 Q132.742 692.341 138.552 692.341 Z\" fill=\"#000000\" fill-rule=\"evenodd\" fill-opacity=\"1\" /><path clip-path=\"url(#clip940)\" d=\"M 0 0 M155.566 721.646 L160.45 721.646 L160.45 727.526 L155.566 727.526 L155.566 721.646 Z\" fill=\"#000000\" fill-rule=\"evenodd\" fill-opacity=\"1\" /><path clip-path=\"url(#clip940)\" d=\"M 0 0 M165.658 726.808 L165.658 722.549 Q167.417 723.383 169.223 723.822 Q171.028 724.262 172.765 724.262 Q177.394 724.262 179.825 721.16 Q182.278 718.035 182.626 711.693 Q181.283 713.684 179.223 714.748 Q177.163 715.813 174.663 715.813 Q169.478 715.813 166.445 712.688 Q163.436 709.54 163.436 704.1 Q163.436 698.776 166.584 695.559 Q169.732 692.341 174.964 692.341 Q180.959 692.341 184.107 696.948 Q187.278 701.531 187.278 710.281 Q187.278 718.452 183.389 723.336 Q179.524 728.197 172.973 728.197 Q171.214 728.197 169.408 727.85 Q167.603 727.503 165.658 726.808 M174.964 712.156 Q178.112 712.156 179.94 710.003 Q181.792 707.85 181.792 704.1 Q181.792 700.373 179.94 698.221 Q178.112 696.045 174.964 696.045 Q171.815 696.045 169.964 698.221 Q168.135 700.373 168.135 704.1 Q168.135 707.85 169.964 710.003 Q171.815 712.156 174.964 712.156 Z\" fill=\"#000000\" fill-rule=\"evenodd\" fill-opacity=\"1\" /><path clip-path=\"url(#clip940)\" d=\"M 0 0 M130.404 522.78 L138.043 522.78 L138.043 496.415 L129.732 498.081 L129.732 493.822 L137.996 492.155 L142.672 492.155 L142.672 522.78 L150.311 522.78 L150.311 526.715 L130.404 526.715 L130.404 522.78 Z\" fill=\"#000000\" fill-rule=\"evenodd\" fill-opacity=\"1\" /><path clip-path=\"url(#clip940)\" d=\"M 0 0 M155.38 520.836 L160.265 520.836 L160.265 526.715 L155.38 526.715 L155.38 520.836 Z\" fill=\"#000000\" fill-rule=\"evenodd\" fill-opacity=\"1\" /><path clip-path=\"url(#clip940)\" d=\"M 0 0 M175.334 495.234 Q171.723 495.234 169.894 498.799 Q168.089 502.34 168.089 509.47 Q168.089 516.577 169.894 520.141 Q171.723 523.683 175.334 523.683 Q178.968 523.683 180.774 520.141 Q182.602 516.577 182.602 509.47 Q182.602 502.34 180.774 498.799 Q178.968 495.234 175.334 495.234 M175.334 491.53 Q181.144 491.53 184.2 496.137 Q187.278 500.72 187.278 509.47 Q187.278 518.197 184.2 522.803 Q181.144 527.387 175.334 527.387 Q169.524 527.387 166.445 522.803 Q163.39 518.197 163.39 509.47 Q163.39 500.72 166.445 496.137 Q169.524 491.53 175.334 491.53 Z\" fill=\"#000000\" fill-rule=\"evenodd\" fill-opacity=\"1\" /><path clip-path=\"url(#clip940)\" d=\"M 0 0 M131.63 321.969 L139.269 321.969 L139.269 295.604 L130.959 297.271 L130.959 293.011 L139.223 291.345 L143.899 291.345 L143.899 321.969 L151.538 321.969 L151.538 325.905 L131.63 325.905 L131.63 321.969 Z\" fill=\"#000000\" fill-rule=\"evenodd\" fill-opacity=\"1\" /><path clip-path=\"url(#clip940)\" d=\"M 0 0 M156.607 320.025 L161.491 320.025 L161.491 325.905 L156.607 325.905 L156.607 320.025 Z\" fill=\"#000000\" fill-rule=\"evenodd\" fill-opacity=\"1\" /><path clip-path=\"url(#clip940)\" d=\"M 0 0 M167.371 321.969 L175.01 321.969 L175.01 295.604 L166.7 297.271 L166.7 293.011 L174.964 291.345 L179.64 291.345 L179.64 321.969 L187.278 321.969 L187.278 325.905 L167.371 325.905 L167.371 321.969 Z\" fill=\"#000000\" fill-rule=\"evenodd\" fill-opacity=\"1\" /><path clip-path=\"url(#clip940)\" d=\"M 0 0 M132.001 121.159 L139.64 121.159 L139.64 94.7932 L131.33 96.4599 L131.33 92.2006 L139.593 90.534 L144.269 90.534 L144.269 121.159 L151.908 121.159 L151.908 125.094 L132.001 125.094 L132.001 121.159 Z\" fill=\"#000000\" fill-rule=\"evenodd\" fill-opacity=\"1\" /><path clip-path=\"url(#clip940)\" d=\"M 0 0 M156.978 119.214 L161.862 119.214 L161.862 125.094 L156.978 125.094 L156.978 119.214 Z\" fill=\"#000000\" fill-rule=\"evenodd\" fill-opacity=\"1\" /><path clip-path=\"url(#clip940)\" d=\"M 0 0 M170.959 121.159 L187.278 121.159 L187.278 125.094 L165.334 125.094 L165.334 121.159 Q167.996 118.404 172.579 113.775 Q177.186 109.122 178.366 107.779 Q180.612 105.256 181.491 103.52 Q182.394 101.761 182.394 100.071 Q182.394 97.3163 180.45 95.5802 Q178.528 93.8441 175.427 93.8441 Q173.227 93.8441 170.774 94.608 Q168.343 95.3719 165.566 96.9228 L165.566 92.2006 Q168.39 91.0664 170.843 90.4877 Q173.297 89.909 175.334 89.909 Q180.704 89.909 183.899 92.5941 Q187.093 95.2793 187.093 99.77 Q187.093 101.9 186.283 103.821 Q185.496 105.719 183.389 108.312 Q182.811 108.983 179.709 112.201 Q176.607 115.395 170.959 121.159 Z\" fill=\"#000000\" fill-rule=\"evenodd\" fill-opacity=\"1\" /><path clip-path=\"url(#clip940)\" d=\"M 0 0 M1212.3 1536.76 L1212.3 1539.62 L1185.37 1539.62 Q1185.75 1545.67 1189 1548.85 Q1192.28 1552 1198.1 1552 Q1201.48 1552 1204.63 1551.17 Q1207.81 1550.35 1210.93 1548.69 L1210.93 1554.23 Q1207.78 1555.57 1204.47 1556.27 Q1201.16 1556.97 1197.75 1556.97 Q1189.22 1556.97 1184.22 1552 Q1179.26 1547.04 1179.26 1538.57 Q1179.26 1529.82 1183.97 1524.69 Q1188.71 1519.54 1196.73 1519.54 Q1203.93 1519.54 1208.1 1524.18 Q1212.3 1528.8 1212.3 1536.76 M1206.44 1535.04 Q1206.38 1530.23 1203.73 1527.37 Q1201.12 1524.5 1196.8 1524.5 Q1191.89 1524.5 1188.93 1527.27 Q1186.01 1530.04 1185.56 1535.07 L1206.44 1535.04 Z\" fill=\"#000000\" fill-rule=\"evenodd\" fill-opacity=\"1\" /><path clip-path=\"url(#clip940)\" d=\"M 0 0 M1224.11 1550.7 L1224.11 1569.6 L1218.22 1569.6 L1218.22 1520.4 L1224.11 1520.4 L1224.11 1525.81 Q1225.95 1522.62 1228.75 1521.1 Q1231.58 1519.54 1235.5 1519.54 Q1241.99 1519.54 1246.03 1524.69 Q1250.11 1529.85 1250.11 1538.25 Q1250.11 1546.65 1246.03 1551.81 Q1241.99 1556.97 1235.5 1556.97 Q1231.58 1556.97 1228.75 1555.44 Q1225.95 1553.88 1224.11 1550.7 M1244.03 1538.25 Q1244.03 1531.79 1241.36 1528.13 Q1238.71 1524.44 1234.07 1524.44 Q1229.42 1524.44 1226.75 1528.13 Q1224.11 1531.79 1224.11 1538.25 Q1224.11 1544.71 1226.75 1548.4 Q1229.42 1552.07 1234.07 1552.07 Q1238.71 1552.07 1241.36 1548.4 Q1244.03 1544.71 1244.03 1538.25 Z\" fill=\"#000000\" fill-rule=\"evenodd\" fill-opacity=\"1\" /><path clip-path=\"url(#clip940)\" d=\"M 0 0 M1270.07 1524.5 Q1265.35 1524.5 1262.62 1528.19 Q1259.88 1531.85 1259.88 1538.25 Q1259.88 1544.65 1262.59 1548.34 Q1265.32 1552 1270.07 1552 Q1274.74 1552 1277.48 1548.31 Q1280.22 1544.62 1280.22 1538.25 Q1280.22 1531.92 1277.48 1528.23 Q1274.74 1524.5 1270.07 1524.5 M1270.07 1519.54 Q1277.7 1519.54 1282.06 1524.5 Q1286.43 1529.47 1286.43 1538.25 Q1286.43 1547 1282.06 1552 Q1277.7 1556.97 1270.07 1556.97 Q1262.39 1556.97 1258.03 1552 Q1253.71 1547 1253.71 1538.25 Q1253.71 1529.47 1258.03 1524.5 Q1262.39 1519.54 1270.07 1519.54 Z\" fill=\"#000000\" fill-rule=\"evenodd\" fill-opacity=\"1\" /><path clip-path=\"url(#clip940)\" d=\"M 0 0 M1318.22 1521.76 L1318.22 1527.24 Q1315.74 1525.87 1313.23 1525.2 Q1310.74 1524.5 1308.2 1524.5 Q1302.5 1524.5 1299.35 1528.13 Q1296.2 1531.73 1296.2 1538.25 Q1296.2 1544.78 1299.35 1548.4 Q1302.5 1552 1308.2 1552 Q1310.74 1552 1313.23 1551.33 Q1315.74 1550.63 1318.22 1549.26 L1318.22 1554.68 Q1315.77 1555.82 1313.13 1556.39 Q1310.52 1556.97 1307.56 1556.97 Q1299.51 1556.97 1294.76 1551.91 Q1290.02 1546.85 1290.02 1538.25 Q1290.02 1529.53 1294.8 1524.53 Q1299.6 1519.54 1307.94 1519.54 Q1310.65 1519.54 1313.23 1520.11 Q1315.8 1520.65 1318.22 1521.76 Z\" fill=\"#000000\" fill-rule=\"evenodd\" fill-opacity=\"1\" /><path clip-path=\"url(#clip940)\" d=\"M 0 0 M1354 1534.53 L1354 1556.04 L1348.14 1556.04 L1348.14 1534.72 Q1348.14 1529.66 1346.17 1527.14 Q1344.19 1524.63 1340.25 1524.63 Q1335.5 1524.63 1332.77 1527.65 Q1330.03 1530.68 1330.03 1535.9 L1330.03 1556.04 L1324.14 1556.04 L1324.14 1506.52 L1330.03 1506.52 L1330.03 1525.93 Q1332.13 1522.72 1334.96 1521.13 Q1337.83 1519.54 1341.55 1519.54 Q1347.7 1519.54 1350.85 1523.36 Q1354 1527.14 1354 1534.53 Z\" fill=\"#000000\" fill-rule=\"evenodd\" fill-opacity=\"1\" /><path clip-path=\"url(#clip940)\" d=\"M 0 0 M1382.87 1521.45 L1382.87 1526.98 Q1380.38 1525.71 1377.71 1525.07 Q1375.04 1524.44 1372.17 1524.44 Q1367.81 1524.44 1365.61 1525.77 Q1363.45 1527.11 1363.45 1529.79 Q1363.45 1531.82 1365.01 1533 Q1366.57 1534.15 1371.28 1535.2 L1373.29 1535.64 Q1379.52 1536.98 1382.13 1539.43 Q1384.78 1541.85 1384.78 1546.21 Q1384.78 1551.17 1380.83 1554.07 Q1376.91 1556.97 1370.04 1556.97 Q1367.17 1556.97 1364.06 1556.39 Q1360.97 1555.85 1357.53 1554.74 L1357.53 1548.69 Q1360.78 1550.38 1363.93 1551.24 Q1367.08 1552.07 1370.17 1552.07 Q1374.3 1552.07 1376.53 1550.66 Q1378.76 1549.23 1378.76 1546.65 Q1378.76 1544.27 1377.14 1542.99 Q1375.55 1541.72 1370.1 1540.54 L1368.07 1540.07 Q1362.62 1538.92 1360.2 1536.56 Q1357.78 1534.18 1357.78 1530.04 Q1357.78 1525.01 1361.35 1522.27 Q1364.91 1519.54 1371.47 1519.54 Q1374.72 1519.54 1377.58 1520.01 Q1380.45 1520.49 1382.87 1521.45 Z\" fill=\"#000000\" fill-rule=\"evenodd\" fill-opacity=\"1\" /><path clip-path=\"url(#clip940)\" d=\"M 0 0 M44.1444 904.492 L50.9239 904.492 Q47.9002 907.739 46.4043 911.431 Q44.9083 915.091 44.9083 919.229 Q44.9083 927.377 49.9054 931.705 Q54.8707 936.034 64.2919 936.034 Q73.6813 936.034 78.6784 931.705 Q83.6436 927.377 83.6436 919.229 Q83.6436 915.091 82.1477 911.431 Q80.6518 907.739 77.6281 904.492 L84.3439 904.492 Q86.6355 907.866 87.7814 911.653 Q88.9272 915.409 88.9272 919.611 Q88.9272 930.4 82.3387 936.607 Q75.7183 942.814 64.2919 942.814 Q52.8336 942.814 46.2451 936.607 Q39.6248 930.4 39.6248 919.611 Q39.6248 915.346 40.7706 911.59 Q41.8846 907.802 44.1444 904.492 Z\" fill=\"#000000\" fill-rule=\"evenodd\" fill-opacity=\"1\" /><path clip-path=\"url(#clip940)\" d=\"M 0 0 M57.8307 877.692 Q57.2578 878.679 57.0032 879.857 Q56.7167 881.003 56.7167 882.403 Q56.7167 887.368 59.9632 890.042 Q63.1779 892.684 69.2253 892.684 L88.0042 892.684 L88.0042 898.572 L52.3562 898.572 L52.3562 892.684 L57.8944 892.684 Q54.6479 890.838 53.0883 887.878 Q51.4968 884.917 51.4968 880.684 Q51.4968 880.08 51.5923 879.347 Q51.656 878.615 51.8151 877.724 L57.8307 877.692 Z\" fill=\"#000000\" fill-rule=\"evenodd\" fill-opacity=\"1\" /><path clip-path=\"url(#clip940)\" d=\"M 0 0 M56.4621 859.168 Q56.4621 863.879 60.1542 866.616 Q63.8145 869.353 70.212 869.353 Q76.6095 869.353 80.3017 866.648 Q83.9619 863.911 83.9619 859.168 Q83.9619 854.489 80.2698 851.752 Q76.5777 849.015 70.212 849.015 Q63.8781 849.015 60.186 851.752 Q56.4621 854.489 56.4621 859.168 M51.4968 859.168 Q51.4968 851.529 56.4621 847.169 Q61.4273 842.808 70.212 842.808 Q78.9649 842.808 83.9619 847.169 Q88.9272 851.529 88.9272 859.168 Q88.9272 866.839 83.9619 871.199 Q78.9649 875.528 70.212 875.528 Q61.4273 875.528 56.4621 871.199 Q51.4968 866.839 51.4968 859.168 Z\" fill=\"#000000\" fill-rule=\"evenodd\" fill-opacity=\"1\" /><path clip-path=\"url(#clip940)\" d=\"M 0 0 M53.4065 813.94 L58.9447 813.94 Q57.6716 816.422 57.035 819.096 Q56.3984 821.77 56.3984 824.634 Q56.3984 828.995 57.7352 831.191 Q59.072 833.355 61.7456 833.355 Q63.7826 833.355 64.9603 831.796 Q66.1061 830.236 67.1565 825.525 L67.6021 823.52 Q68.9389 817.282 71.3897 814.672 Q73.8086 812.03 78.1691 812.03 Q83.1344 812.03 86.0308 815.977 Q88.9272 819.892 88.9272 826.767 Q88.9272 829.631 88.3543 832.751 Q87.8132 835.838 86.6992 839.275 L80.6518 839.275 Q82.3387 836.029 83.198 832.878 Q84.0256 829.727 84.0256 826.639 Q84.0256 822.502 82.6251 820.274 Q81.1929 818.046 78.6147 818.046 Q76.2276 818.046 74.9545 819.669 Q73.6813 821.26 72.5037 826.703 L72.0262 828.74 Q70.8804 834.183 68.5251 836.602 Q66.138 839.021 62.0002 839.021 Q56.9713 839.021 54.2341 835.456 Q51.4968 831.891 51.4968 825.334 Q51.4968 822.088 51.9743 819.223 Q52.4517 816.359 53.4065 813.94 Z\" fill=\"#000000\" fill-rule=\"evenodd\" fill-opacity=\"1\" /><path clip-path=\"url(#clip940)\" d=\"M 0 0 M53.4065 783.162 L58.9447 783.162 Q57.6716 785.644 57.035 788.318 Q56.3984 790.991 56.3984 793.856 Q56.3984 798.217 57.7352 800.413 Q59.072 802.577 61.7456 802.577 Q63.7826 802.577 64.9603 801.017 Q66.1061 799.458 67.1565 794.747 L67.6021 792.742 Q68.9389 786.504 71.3897 783.894 Q73.8086 781.252 78.1691 781.252 Q83.1344 781.252 86.0308 785.199 Q88.9272 789.114 88.9272 795.989 Q88.9272 798.853 88.3543 801.972 Q87.8132 805.06 86.6992 808.497 L80.6518 808.497 Q82.3387 805.251 83.198 802.1 Q84.0256 798.949 84.0256 795.861 Q84.0256 791.724 82.6251 789.496 Q81.1929 787.268 78.6147 787.268 Q76.2276 787.268 74.9545 788.891 Q73.6813 790.482 72.5037 795.925 L72.0262 797.962 Q70.8804 803.405 68.5251 805.824 Q66.138 808.243 62.0002 808.243 Q56.9713 808.243 54.2341 804.678 Q51.4968 801.113 51.4968 794.556 Q51.4968 791.31 51.9743 788.445 Q52.4517 785.581 53.4065 783.162 Z\" fill=\"#000000\" fill-rule=\"evenodd\" fill-opacity=\"1\" /><path clip-path=\"url(#clip940)\" d=\"M 0 0 M40.4842 754.134 L40.4842 724.088 L45.895 724.088 L45.895 747.705 L59.9632 747.705 L59.9632 725.075 L65.3741 725.075 L65.3741 747.705 L82.5933 747.705 L82.5933 723.515 L88.0042 723.515 L88.0042 754.134 L40.4842 754.134 Z\" fill=\"#000000\" fill-rule=\"evenodd\" fill-opacity=\"1\" /><path clip-path=\"url(#clip940)\" d=\"M 0 0 M66.4881 687.74 L88.0042 687.74 L88.0042 693.596 L66.679 693.596 Q61.6183 693.596 59.1038 695.57 Q56.5894 697.543 56.5894 701.49 Q56.5894 706.232 59.6131 708.969 Q62.6368 711.707 67.8567 711.707 L88.0042 711.707 L88.0042 717.595 L52.3562 717.595 L52.3562 711.707 L57.8944 711.707 Q54.6797 709.606 53.0883 706.773 Q51.4968 703.909 51.4968 700.185 Q51.4968 694.042 55.3163 690.891 Q59.1038 687.74 66.4881 687.74 Z\" fill=\"#000000\" fill-rule=\"evenodd\" fill-opacity=\"1\" /><path clip-path=\"url(#clip940)\" d=\"M 0 0 M42.2347 675.804 L52.3562 675.804 L52.3562 663.741 L56.9077 663.741 L56.9077 675.804 L76.2594 675.804 Q80.6199 675.804 81.8613 674.626 Q83.1026 673.417 83.1026 669.757 L83.1026 663.741 L88.0042 663.741 L88.0042 669.757 Q88.0042 676.536 85.4897 679.114 Q82.9434 681.692 76.2594 681.692 L56.9077 681.692 L56.9077 685.989 L52.3562 685.989 L52.3562 681.692 L42.2347 681.692 L42.2347 675.804 Z\" fill=\"#000000\" fill-rule=\"evenodd\" fill-opacity=\"1\" /><path clip-path=\"url(#clip940)\" d=\"M 0 0 M57.8307 636.941 Q57.2578 637.928 57.0032 639.106 Q56.7167 640.252 56.7167 641.652 Q56.7167 646.617 59.9632 649.291 Q63.1779 651.933 69.2253 651.933 L88.0042 651.933 L88.0042 657.821 L52.3562 657.821 L52.3562 651.933 L57.8944 651.933 Q54.6479 650.087 53.0883 647.127 Q51.4968 644.166 51.4968 639.933 Q51.4968 639.329 51.5923 638.596 Q51.656 637.864 51.8151 636.973 L57.8307 636.941 Z\" fill=\"#000000\" fill-rule=\"evenodd\" fill-opacity=\"1\" /><path clip-path=\"url(#clip940)\" d=\"M 0 0 M56.4621 618.417 Q56.4621 623.128 60.1542 625.865 Q63.8145 628.602 70.212 628.602 Q76.6095 628.602 80.3017 625.897 Q83.9619 623.16 83.9619 618.417 Q83.9619 613.738 80.2698 611.001 Q76.5777 608.264 70.212 608.264 Q63.8781 608.264 60.186 611.001 Q56.4621 613.738 56.4621 618.417 M51.4968 618.417 Q51.4968 610.778 56.4621 606.418 Q61.4273 602.057 70.212 602.057 Q78.9649 602.057 83.9619 606.418 Q88.9272 610.778 88.9272 618.417 Q88.9272 626.088 83.9619 630.448 Q78.9649 634.777 70.212 634.777 Q61.4273 634.777 56.4621 630.448 Q51.4968 626.088 51.4968 618.417 Z\" fill=\"#000000\" fill-rule=\"evenodd\" fill-opacity=\"1\" /><path clip-path=\"url(#clip940)\" d=\"M 0 0 M82.657 590.249 L101.563 590.249 L101.563 596.137 L52.3562 596.137 L52.3562 590.249 L57.7671 590.249 Q54.5842 588.403 53.0564 585.602 Q51.4968 582.769 51.4968 578.854 Q51.4968 572.361 56.6531 568.319 Q61.8093 564.245 70.212 564.245 Q78.6147 564.245 83.771 568.319 Q88.9272 572.361 88.9272 578.854 Q88.9272 582.769 87.3994 585.602 Q85.8398 588.403 82.657 590.249 M70.212 570.324 Q63.7508 570.324 60.0905 572.998 Q56.3984 575.64 56.3984 580.287 Q56.3984 584.934 60.0905 587.607 Q63.7508 590.249 70.212 590.249 Q76.6732 590.249 80.3653 587.607 Q84.0256 584.934 84.0256 580.287 Q84.0256 575.64 80.3653 572.998 Q76.6732 570.324 70.212 570.324 Z\" fill=\"#000000\" fill-rule=\"evenodd\" fill-opacity=\"1\" /><path clip-path=\"url(#clip940)\" d=\"M 0 0 M91.3143 543.27 Q97.68 545.753 99.6216 548.108 Q101.563 550.463 101.563 554.41 L101.563 559.089 L96.6615 559.089 L96.6615 555.651 Q96.6615 553.232 95.5157 551.896 Q94.3699 550.559 90.1048 548.935 L87.4312 547.885 L52.3562 562.303 L52.3562 556.097 L80.238 544.957 L52.3562 533.817 L52.3562 527.61 L91.3143 543.27 Z\" fill=\"#000000\" fill-rule=\"evenodd\" fill-opacity=\"1\" /><polyline clip-path=\"url(#clip942)\" style=\"stroke:#009af9; stroke-width:8; stroke-opacity:1; fill:none\" points=\"\n",
       "  271.886,406.219 272.391,390.236 272.897,374.427 273.402,358.838 273.907,343.503 274.412,328.458 274.917,313.734 275.423,299.358 275.928,285.351 276.433,271.735 \n",
       "  276.938,258.521 277.443,245.724 277.949,233.352 278.454,221.411 278.959,209.904 279.464,198.83 279.969,188.188 280.474,177.973 280.98,168.18 281.485,158.802 \n",
       "  281.99,149.837 282.495,141.277 283,133.114 283.506,125.337 284.011,117.938 284.516,110.906 285.021,104.227 285.526,97.8887 286.032,91.8785 286.537,86.1857 \n",
       "  287.547,96.2985 288.052,90.9571 289.063,101.523 289.568,96.4764 290.578,107.393 291.083,102.594 292.094,113.778 293.104,124.823 293.609,120.192 294.62,131.445 \n",
       "  295.63,142.54 296.641,153.473 297.651,164.25 299.167,189.787 300.177,199.761 301.187,209.604 302.703,233.637 304.218,256.602 305.229,264.992 306.744,286.689 \n",
       "  308.26,307.29 309.776,326.808 311.796,356.941 313.312,373.477 314.828,389.082 316.848,413.935 318.869,436.406 320.89,456.711 322.911,475.066 324.931,491.674 \n",
       "  327.457,513.699 329.983,532.845 332.509,549.565 335.035,564.242 337.561,577.188 340.592,593.096 343.623,606.634 346.655,618.264 349.686,628.341 353.222,640.157 \n",
       "  356.253,647.326 360.295,658.815 363.831,665.937 367.873,674.225 371.914,681.144 375.956,687.03 380.502,693.711 385.049,699.267 390.101,705.329 395.153,710.364 \n",
       "  400.71,715.792 405.762,719.356 411.824,724.619 417.887,729.072 423.949,733.044 430.516,737.497 437.084,741.511 444.157,745.967 451.734,750.691 459.312,754.988 \n",
       "  467.395,759.63 475.478,763.942 484.067,768.593 493.16,773.456 502.759,778.473 512.357,783.186 522.967,788.598 533.576,793.672 544.69,798.978 556.309,804.45 \n",
       "  568.434,810.054 581.064,815.778 594.199,821.612 607.839,827.548 622.489,833.85 637.14,839.864 652.801,846.208 668.967,852.464 686.143,858.835 703.825,865.02 \n",
       "  722.012,871.093 741.209,877.321 761.417,883.806 782.13,890.54 803.853,897.795 826.587,905.463 850.331,913.4 874.58,921.475 900.345,930.245 927.12,939 \n",
       "  954.905,947.181 984.207,954.333 1014.52,959.87 1046.35,966.22 1079.18,971.395 1113.54,976.753 1149.4,981.856 1186.79,986.727 1225.69,990.993 1266.1,994.453 \n",
       "  1308.54,996.408 1353,997.628 1398.97,998.599 1446.96,1004.53 1496.98,1011.03 1549.01,1013.91 1603.57,1019.77 1660.15,1022.48 1719.26,1024.97 1780.89,1029.83 \n",
       "  1845.05,1034.59 1912.24,1038.66 1981.96,1047.86 2054.71,1054.46 2130.49,1058.49 2209.8,1059.11 2292.15,1058.12 \n",
       "  \"/>\n",
       "<polyline clip-path=\"url(#clip942)\" style=\"stroke:#e26f46; stroke-width:8; stroke-opacity:1; fill:none\" points=\"\n",
       "  271.886,311.249 272.391,350.075 272.897,384.135 273.402,413.644 273.907,439.103 274.412,461.156 274.917,480.458 275.423,497.601 275.928,513.087 276.433,527.316 \n",
       "  276.938,540.596 277.443,553.154 277.949,565.157 278.454,576.715 278.959,587.901 279.464,598.764 279.969,609.333 280.474,619.627 280.98,629.657 281.485,639.437 \n",
       "  281.99,648.975 282.495,658.285 283,667.378 283.506,676.27 284.011,684.973 284.516,693.504 285.021,701.871 285.526,710.089 286.032,718.166 286.537,726.109 \n",
       "  287.042,733.924 287.547,741.612 288.052,749.173 288.558,756.606 289.063,763.908 289.568,771.075 290.073,778.102 290.578,784.985 291.083,791.718 291.589,798.298 \n",
       "  292.094,804.721 292.599,810.983 293.104,817.083 293.609,823.017 294.115,828.787 294.62,834.392 295.125,839.832 295.63,845.11 296.135,850.225 296.641,855.184 \n",
       "  297.146,859.986 297.651,864.635 298.156,869.135 298.661,873.489 299.167,877.702 299.672,881.777 300.177,885.718 300.682,889.529 301.187,893.214 301.693,896.778 \n",
       "  302.198,900.224 302.703,903.557 303.208,906.781 303.713,909.9 304.218,912.916 304.724,915.836 305.229,918.66 305.734,921.395 306.239,924.043 306.744,926.607 \n",
       "  307.25,929.091 307.755,931.499 308.26,933.832 308.765,936.095 309.27,938.29 309.776,940.42 310.281,942.487 310.786,944.494 311.291,946.445 311.796,948.34 \n",
       "  312.302,950.183 312.807,951.975 313.312,953.719 313.817,955.417 314.322,957.07 314.828,958.68 315.333,960.25 315.838,961.782 316.343,963.275 316.848,964.732 \n",
       "  317.353,966.155 317.859,967.545 318.364,968.904 318.869,970.231 319.374,971.53 319.879,972.801 320.385,974.045 320.89,975.262 321.395,976.455 321.9,977.625 \n",
       "  322.405,978.772 322.911,979.896 323.416,980.999 323.921,982.081 324.426,983.144 324.931,984.188 325.437,985.214 325.942,986.222 326.447,987.214 326.952,988.188 \n",
       "  327.457,989.148 327.962,990.092 328.468,991.021 328.973,991.937 329.478,992.838 329.983,993.726 330.488,994.602 330.994,995.465 331.499,996.316 332.004,997.155 \n",
       "  332.509,997.984 333.014,998.802 333.52,999.609 334.025,1000.41 334.53,1001.19 335.035,1001.97 335.54,1002.74 336.046,1003.5 336.551,1004.25 337.056,1004.99 \n",
       "  337.561,1005.73 338.066,1006.45 338.572,1007.17 339.077,1007.88 339.582,1008.59 340.087,1009.28 340.592,1009.97 341.097,1010.66 341.603,1011.33 342.108,1012.01 \n",
       "  342.613,1012.67 343.118,1013.33 343.623,1013.98 344.129,1014.63 344.634,1015.27 345.139,1015.91 345.644,1016.54 346.149,1017.16 346.655,1017.78 347.16,1018.4 \n",
       "  347.665,1019.01 348.17,1019.62 348.675,1020.22 349.181,1020.82 349.686,1021.42 350.191,1022.01 350.696,1022.59 351.201,1023.18 351.707,1023.75 352.212,1024.33 \n",
       "  352.717,1024.9 353.222,1025.47 353.727,1026.03 354.232,1026.6 354.738,1027.15 355.243,1027.71 355.748,1028.26 356.253,1028.81 356.758,1029.36 357.264,1029.9 \n",
       "  357.769,1030.44 358.274,1030.98 358.779,1031.51 359.284,1032.05 359.79,1032.58 360.295,1033.1 360.8,1033.63 361.305,1034.15 361.81,1034.67 362.316,1035.19 \n",
       "  362.821,1035.71 363.326,1036.22 363.831,1036.74 364.336,1037.25 364.841,1037.76 365.347,1038.26 365.852,1038.77 366.357,1039.27 366.862,1039.77 367.367,1040.27 \n",
       "  367.873,1040.77 368.378,1041.27 368.883,1041.76 369.388,1042.26 369.893,1042.75 370.399,1043.24 370.904,1043.73 371.409,1044.21 371.914,1044.7 372.419,1045.18 \n",
       "  372.925,1045.67 373.43,1046.15 373.935,1046.63 374.44,1047.11 374.945,1047.59 375.451,1048.07 375.956,1048.54 376.461,1049.02 376.966,1049.49 377.471,1049.97 \n",
       "  377.976,1050.44 378.482,1050.91 378.987,1051.38 379.492,1051.85 379.997,1052.32 380.502,1052.78 381.008,1053.25 381.513,1053.72 382.018,1054.18 382.523,1054.64 \n",
       "  383.028,1055.11 383.534,1055.57 384.039,1056.03 384.544,1056.49 385.049,1056.95 385.554,1057.41 386.06,1057.87 386.565,1058.33 387.07,1058.78 387.575,1059.24 \n",
       "  388.08,1059.7 388.586,1060.15 389.091,1060.61 389.596,1061.06 390.101,1061.51 390.606,1061.96 391.111,1062.42 391.617,1062.87 392.122,1063.32 392.627,1063.77 \n",
       "  393.132,1064.22 393.637,1064.67 394.143,1065.12 394.648,1065.57 395.153,1066.01 395.658,1066.46 396.163,1066.91 396.669,1067.35 397.174,1067.8 397.679,1068.24 \n",
       "  398.184,1068.69 398.689,1069.14 399.195,1069.58 399.7,1070.02 400.205,1070.47 400.71,1070.91 401.215,1071.35 401.72,1071.8 402.226,1072.24 402.731,1072.68 \n",
       "  403.236,1073.12 403.741,1073.57 404.246,1074.01 404.752,1074.45 405.257,1074.89 405.762,1075.33 406.267,1075.77 406.772,1076.21 407.278,1076.65 407.783,1077.09 \n",
       "  408.288,1077.53 408.793,1077.97 409.298,1078.41 409.804,1078.85 410.309,1079.29 410.814,1079.73 411.319,1080.17 411.824,1080.61 412.33,1081.04 412.835,1081.48 \n",
       "  413.34,1081.92 413.845,1082.36 414.35,1082.8 414.855,1083.24 415.361,1083.68 415.866,1084.11 416.371,1084.55 416.876,1084.99 417.381,1085.43 417.887,1085.87 \n",
       "  418.392,1086.31 418.897,1086.75 419.402,1087.18 419.907,1087.62 420.413,1088.06 420.918,1088.5 421.423,1088.94 421.928,1089.38 422.433,1089.82 422.939,1090.25 \n",
       "  423.444,1090.69 423.949,1091.13 424.454,1091.57 424.959,1092.01 425.464,1092.45 425.97,1092.89 426.475,1093.33 426.98,1093.77 427.485,1094.21 427.99,1094.65 \n",
       "  428.496,1095.09 429.001,1095.53 429.506,1095.97 430.011,1096.41 430.516,1096.85 431.022,1097.29 431.527,1097.73 432.032,1098.17 432.537,1098.61 433.042,1099.05 \n",
       "  433.548,1099.49 434.053,1099.93 434.558,1100.37 435.063,1100.81 435.568,1101.26 436.074,1101.7 436.579,1102.14 437.084,1102.58 437.589,1103.02 438.094,1103.47 \n",
       "  438.599,1103.91 439.105,1104.35 439.61,1104.79 440.115,1105.24 440.62,1105.68 441.125,1106.12 441.631,1106.57 442.136,1107.01 442.641,1107.45 443.146,1107.9 \n",
       "  443.651,1108.34 444.157,1108.79 444.662,1109.23 445.167,1109.68 445.672,1110.12 446.177,1110.57 446.683,1111.01 447.188,1111.46 447.693,1111.9 448.198,1112.35 \n",
       "  448.703,1112.79 449.209,1113.24 449.714,1113.69 450.219,1114.13 450.724,1114.58 451.229,1115.03 451.734,1115.47 452.24,1115.92 452.745,1116.37 453.25,1116.81 \n",
       "  453.755,1117.26 454.26,1117.71 454.766,1118.15 455.271,1118.6 455.776,1119.05 456.281,1119.5 456.786,1119.94 457.292,1120.39 457.797,1120.84 458.302,1121.29 \n",
       "  458.807,1121.73 459.312,1122.18 459.818,1122.63 460.323,1123.08 460.828,1123.53 461.333,1123.97 461.838,1124.42 462.343,1124.87 462.849,1125.32 463.354,1125.76 \n",
       "  463.859,1126.21 464.364,1126.66 464.869,1127.11 465.375,1127.55 465.88,1128 466.385,1128.45 466.89,1128.9 467.395,1129.34 467.901,1129.79 468.406,1130.24 \n",
       "  468.911,1130.69 469.416,1131.13 469.921,1131.58 470.427,1132.03 470.932,1132.47 471.437,1132.92 471.942,1133.37 472.447,1133.81 472.953,1134.26 473.458,1134.71 \n",
       "  473.963,1135.15 474.468,1135.6 474.973,1136.04 475.478,1136.49 475.984,1136.94 476.489,1137.38 476.994,1137.83 477.499,1138.27 478.004,1138.72 478.51,1139.16 \n",
       "  479.015,1139.61 479.52,1140.05 480.025,1140.5 480.53,1140.94 481.036,1141.39 481.541,1141.83 482.046,1142.28 482.551,1142.72 483.056,1143.16 483.562,1143.61 \n",
       "  484.067,1144.05 484.572,1144.49 485.077,1144.94 485.582,1145.38 486.088,1145.82 486.593,1146.27 487.098,1146.71 487.603,1147.15 488.108,1147.6 488.613,1148.04 \n",
       "  489.119,1148.48 489.624,1148.92 490.129,1149.36 490.634,1149.81 491.139,1150.25 491.645,1150.69 492.15,1151.13 492.655,1151.57 493.16,1152.01 493.665,1152.45 \n",
       "  494.171,1152.89 494.676,1153.33 495.181,1153.77 495.686,1154.22 496.191,1154.66 496.697,1155.09 497.202,1155.53 497.707,1155.97 498.212,1156.41 498.717,1156.85 \n",
       "  499.222,1157.29 499.728,1157.73 500.233,1158.17 500.738,1158.6 501.243,1159.04 501.748,1159.48 502.254,1159.92 502.759,1160.36 503.264,1160.79 503.769,1161.23 \n",
       "  504.274,1161.67 504.78,1162.1 505.285,1162.54 505.79,1162.97 506.295,1163.41 506.8,1163.84 507.306,1164.28 507.811,1164.71 508.316,1165.15 508.821,1165.58 \n",
       "  509.326,1166.02 509.832,1166.45 510.337,1166.88 510.842,1167.32 511.347,1167.75 511.852,1168.18 512.357,1168.61 512.863,1169.05 513.368,1169.48 513.873,1169.91 \n",
       "  514.378,1170.34 514.883,1170.77 515.389,1171.2 515.894,1171.63 516.399,1172.06 516.904,1172.49 517.409,1172.92 517.915,1173.35 518.42,1173.77 518.925,1174.2 \n",
       "  519.43,1174.63 519.935,1175.06 520.441,1175.48 520.946,1175.91 521.451,1176.33 521.956,1176.76 522.461,1177.18 522.967,1177.61 523.472,1178.03 523.977,1178.46 \n",
       "  524.482,1178.88 524.987,1179.3 525.492,1179.72 525.998,1180.15 526.503,1180.57 527.008,1180.99 527.513,1181.41 528.018,1181.83 528.524,1182.25 529.029,1182.67 \n",
       "  529.534,1183.09 530.039,1183.51 530.544,1183.92 531.05,1184.34 531.555,1184.76 532.06,1185.17 532.565,1185.59 533.07,1186 533.576,1186.42 534.081,1186.83 \n",
       "  534.586,1187.25 535.091,1187.66 535.596,1188.07 536.101,1188.48 536.607,1188.89 537.112,1189.3 537.617,1189.71 538.122,1190.12 538.627,1190.53 539.133,1190.94 \n",
       "  539.638,1191.35 540.143,1191.75 540.648,1192.16 541.153,1192.57 541.659,1192.97 542.164,1193.38 542.669,1193.78 543.174,1194.18 543.679,1194.59 544.185,1194.99 \n",
       "  544.69,1195.39 545.195,1195.79 545.7,1196.19 546.205,1196.59 546.711,1196.99 547.216,1197.38 547.721,1197.78 548.226,1198.18 548.731,1198.57 549.236,1198.97 \n",
       "  549.742,1199.36 550.247,1199.76 550.752,1200.15 551.257,1200.54 551.762,1200.93 552.268,1201.33 552.773,1201.72 553.278,1202.11 553.783,1202.49 554.288,1202.88 \n",
       "  554.794,1203.27 555.299,1203.66 555.804,1204.04 556.309,1204.43 556.814,1204.81 557.32,1205.2 557.825,1205.58 558.33,1205.96 558.835,1206.34 559.34,1206.73 \n",
       "  559.846,1207.11 560.351,1207.49 560.856,1207.86 561.361,1208.24 561.866,1208.62 562.371,1209 562.877,1209.37 563.382,1209.75 563.887,1210.12 564.392,1210.49 \n",
       "  564.897,1210.87 565.403,1211.24 565.908,1211.61 566.413,1211.98 566.918,1212.35 567.423,1212.72 567.929,1213.09 568.434,1213.45 568.939,1213.82 569.444,1214.19 \n",
       "  569.949,1214.55 570.455,1214.91 570.96,1215.28 571.465,1215.64 571.97,1216 572.475,1216.36 572.98,1216.72 573.486,1217.08 573.991,1217.43 574.496,1217.79 \n",
       "  575.001,1218.15 575.506,1218.5 576.012,1218.86 576.517,1219.21 577.022,1219.56 577.527,1219.91 578.032,1220.26 578.538,1220.61 579.043,1220.96 579.548,1221.31 \n",
       "  580.053,1221.66 580.558,1222 581.064,1222.35 581.569,1222.69 582.074,1223.04 582.579,1223.38 583.084,1223.72 583.59,1224.06 584.095,1224.4 584.6,1224.74 \n",
       "  585.105,1225.08 585.61,1225.42 586.115,1225.75 586.621,1226.09 587.126,1226.42 587.631,1226.76 588.136,1227.09 588.641,1227.42 589.147,1227.75 589.652,1228.08 \n",
       "  590.157,1228.41 590.662,1228.74 591.167,1229.07 591.673,1229.39 592.178,1229.72 592.683,1230.04 593.188,1230.37 593.693,1230.69 594.199,1231.01 594.704,1231.33 \n",
       "  595.209,1231.65 595.714,1231.97 596.219,1232.29 596.725,1232.61 597.23,1232.93 597.735,1233.24 598.24,1233.56 598.745,1233.87 599.25,1234.19 599.756,1234.5 \n",
       "  600.261,1234.81 600.766,1235.12 601.271,1235.43 601.776,1235.74 602.282,1236.05 602.787,1236.35 603.292,1236.66 603.797,1236.97 604.302,1237.27 604.808,1237.58 \n",
       "  605.313,1237.88 605.818,1238.18 606.323,1238.48 606.828,1238.78 607.334,1239.08 607.839,1239.38 608.344,1239.68 608.849,1239.98 609.354,1240.27 609.859,1240.57 \n",
       "  610.365,1240.86 610.87,1241.16 611.375,1241.45 611.88,1241.74 612.385,1242.04 612.891,1242.33 613.396,1242.62 613.901,1242.91 614.406,1243.2 614.911,1243.48 \n",
       "  615.417,1243.77 615.922,1244.06 616.427,1244.34 616.932,1244.63 617.437,1244.91 617.943,1245.2 618.448,1245.48 618.953,1245.76 619.458,1246.04 619.963,1246.33 \n",
       "  620.469,1246.61 620.974,1246.89 621.479,1247.16 621.984,1247.44 622.489,1247.72 622.994,1248 623.5,1248.27 624.005,1248.55 624.51,1248.82 625.015,1249.1 \n",
       "  625.52,1249.37 626.026,1249.64 626.531,1249.92 627.036,1250.19 627.541,1250.46 628.046,1250.73 628.552,1251 629.057,1251.27 629.562,1251.53 630.067,1251.8 \n",
       "  630.572,1252.07 631.078,1252.33 631.583,1252.6 632.088,1252.86 632.593,1253.12 633.098,1253.39 633.604,1253.65 634.109,1253.91 634.614,1254.17 635.119,1254.43 \n",
       "  635.624,1254.69 636.129,1254.94 636.635,1255.2 637.14,1255.46 637.645,1255.71 638.15,1255.97 638.655,1256.22 639.161,1256.47 639.666,1256.73 640.171,1256.98 \n",
       "  640.676,1257.23 641.181,1257.48 641.687,1257.73 642.192,1257.98 642.697,1258.23 643.202,1258.48 643.707,1258.72 644.213,1258.97 644.718,1259.21 645.223,1259.46 \n",
       "  645.728,1259.7 646.233,1259.95 646.738,1260.19 647.244,1260.43 647.749,1260.67 648.254,1260.91 648.759,1261.15 649.264,1261.39 649.77,1261.63 650.275,1261.87 \n",
       "  650.78,1262.1 651.285,1262.34 651.79,1262.58 652.296,1262.81 652.801,1263.05 653.306,1263.28 653.811,1263.51 654.316,1263.75 654.822,1263.98 655.327,1264.21 \n",
       "  655.832,1264.44 656.337,1264.67 656.842,1264.9 657.348,1265.13 657.853,1265.36 658.358,1265.58 658.863,1265.81 659.368,1266.04 659.873,1266.26 660.379,1266.49 \n",
       "  660.884,1266.71 661.389,1266.94 661.894,1267.16 662.399,1267.38 662.905,1267.6 663.41,1267.82 663.915,1268.04 664.42,1268.26 664.925,1268.48 665.431,1268.7 \n",
       "  665.936,1268.92 666.441,1269.14 666.946,1269.35 667.451,1269.57 667.957,1269.79 668.462,1270 668.967,1270.21 669.472,1270.43 669.977,1270.64 670.483,1270.85 \n",
       "  670.988,1271.07 671.493,1271.28 671.998,1271.49 672.503,1271.7 673.008,1271.91 673.514,1272.12 674.019,1272.33 674.524,1272.53 675.029,1272.74 675.534,1272.95 \n",
       "  676.04,1273.16 676.545,1273.36 677.05,1273.57 677.555,1273.77 678.06,1273.98 678.566,1274.18 679.071,1274.38 679.576,1274.59 680.081,1274.79 680.586,1274.99 \n",
       "  681.092,1275.19 681.597,1275.39 682.102,1275.59 682.607,1275.79 683.112,1275.99 683.617,1276.19 684.123,1276.39 684.628,1276.59 685.133,1276.78 685.638,1276.98 \n",
       "  686.143,1277.18 686.649,1277.37 687.154,1277.57 687.659,1277.76 688.164,1277.96 688.669,1278.15 689.175,1278.35 689.68,1278.54 690.185,1278.73 690.69,1278.92 \n",
       "  691.195,1279.12 691.701,1279.31 692.206,1279.5 692.711,1279.69 693.216,1279.88 693.721,1280.07 694.227,1280.26 694.732,1280.45 695.237,1280.63 695.742,1280.82 \n",
       "  696.247,1281.01 696.752,1281.2 697.258,1281.38 697.763,1281.57 698.268,1281.75 698.773,1281.94 699.278,1282.12 699.784,1282.31 700.289,1282.49 700.794,1282.67 \n",
       "  701.299,1282.86 701.804,1283.04 702.31,1283.22 702.815,1283.4 703.32,1283.58 703.825,1283.76 704.33,1283.95 704.836,1284.13 705.341,1284.3 705.846,1284.48 \n",
       "  706.351,1284.66 706.856,1284.84 707.362,1285.02 707.867,1285.19 708.372,1285.37 708.877,1285.55 709.382,1285.72 709.887,1285.9 710.393,1286.07 710.898,1286.25 \n",
       "  711.403,1286.42 711.908,1286.6 712.413,1286.77 712.919,1286.94 713.424,1287.12 713.929,1287.29 714.434,1287.46 714.939,1287.63 715.445,1287.8 715.95,1287.97 \n",
       "  716.455,1288.14 716.96,1288.31 717.465,1288.48 717.971,1288.65 718.476,1288.82 718.981,1288.98 719.486,1289.15 719.991,1289.32 720.496,1289.49 721.002,1289.65 \n",
       "  721.507,1289.82 722.012,1289.98 722.517,1290.15 723.022,1290.31 723.528,1290.48 724.033,1290.64 724.538,1290.8 725.043,1290.97 725.548,1291.13 726.054,1291.29 \n",
       "  726.559,1291.45 727.064,1291.61 727.569,1291.77 728.074,1291.94 728.58,1292.1 729.085,1292.26 729.59,1292.41 730.095,1292.57 730.6,1292.73 731.106,1292.89 \n",
       "  731.611,1293.05 732.116,1293.21 732.621,1293.36 733.126,1293.52 733.631,1293.68 734.137,1293.83 734.642,1293.99 735.147,1294.15 735.652,1294.3 736.157,1294.46 \n",
       "  736.663,1294.61 737.168,1294.76 737.673,1294.92 738.178,1295.07 738.683,1295.22 739.189,1295.38 739.694,1295.53 740.199,1295.68 740.704,1295.83 741.209,1295.98 \n",
       "  741.715,1296.14 742.22,1296.29 742.725,1296.44 743.23,1296.59 743.735,1296.74 744.24,1296.89 744.746,1297.04 745.251,1297.18 745.756,1297.33 746.261,1297.48 \n",
       "  746.766,1297.63 747.272,1297.78 747.777,1297.92 748.282,1298.07 748.787,1298.22 749.292,1298.36 749.798,1298.51 750.303,1298.66 750.808,1298.8 751.313,1298.95 \n",
       "  751.818,1299.09 752.324,1299.24 752.829,1299.38 753.334,1299.53 753.839,1299.67 754.344,1299.81 754.85,1299.96 755.355,1300.1 755.86,1300.24 756.365,1300.38 \n",
       "  756.87,1300.53 757.375,1300.67 757.881,1300.81 758.386,1300.95 758.891,1301.09 759.396,1301.23 759.901,1301.37 760.407,1301.51 760.912,1301.65 761.417,1301.79 \n",
       "  761.922,1301.93 762.427,1302.07 762.933,1302.21 763.438,1302.35 763.943,1302.48 764.448,1302.62 764.953,1302.76 765.459,1302.9 765.964,1303.03 766.469,1303.17 \n",
       "  766.974,1303.31 767.479,1303.45 767.985,1303.58 768.49,1303.72 768.995,1303.85 769.5,1303.99 770.005,1304.12 770.51,1304.26 771.016,1304.39 771.521,1304.53 \n",
       "  772.026,1304.66 772.531,1304.79 773.036,1304.93 773.542,1305.06 774.047,1305.2 774.552,1305.33 775.057,1305.46 775.562,1305.59 776.068,1305.73 776.573,1305.86 \n",
       "  777.078,1305.99 777.583,1306.12 778.088,1306.25 778.594,1306.38 779.099,1306.51 779.604,1306.64 780.109,1306.78 780.614,1306.91 781.119,1307.04 781.625,1307.17 \n",
       "  782.13,1307.3 782.635,1307.42 783.14,1307.55 783.645,1307.68 784.151,1307.81 784.656,1307.94 785.161,1308.07 785.666,1308.2 786.171,1308.32 786.677,1308.45 \n",
       "  787.182,1308.58 787.687,1308.71 788.192,1308.84 788.697,1308.96 789.203,1309.09 789.708,1309.22 790.213,1309.34 790.718,1309.47 791.223,1309.59 791.729,1309.72 \n",
       "  792.234,1309.85 792.739,1309.97 793.244,1310.1 793.749,1310.22 794.254,1310.35 794.76,1310.47 795.265,1310.6 795.77,1310.72 796.275,1310.85 796.78,1310.97 \n",
       "  797.286,1311.1 797.791,1311.22 798.296,1311.34 798.801,1311.47 799.306,1311.59 799.812,1311.72 800.317,1311.84 800.822,1311.96 801.327,1312.09 801.832,1312.21 \n",
       "  802.338,1312.33 802.843,1312.46 803.348,1312.58 803.853,1312.7 804.358,1312.83 804.864,1312.95 805.369,1313.07 805.874,1313.19 806.379,1313.32 806.884,1313.44 \n",
       "  807.389,1313.56 807.895,1313.68 808.4,1313.81 808.905,1313.93 809.41,1314.05 809.915,1314.17 810.421,1314.29 810.926,1314.42 811.431,1314.54 811.936,1314.66 \n",
       "  812.441,1314.78 812.947,1314.9 813.452,1315.03 813.957,1315.15 814.462,1315.27 814.967,1315.39 815.473,1315.51 815.978,1315.63 816.483,1315.75 816.988,1315.87 \n",
       "  817.493,1316 817.998,1316.12 818.504,1316.24 819.009,1316.36 819.514,1316.48 820.019,1316.6 820.524,1316.72 821.03,1316.84 821.535,1316.96 822.04,1317.08 \n",
       "  822.545,1317.2 823.05,1317.32 823.556,1317.44 824.061,1317.55 824.566,1317.67 825.071,1317.79 825.576,1317.91 826.082,1318.03 826.587,1318.15 827.092,1318.26 \n",
       "  827.597,1318.38 828.102,1318.5 828.608,1318.62 829.113,1318.73 829.618,1318.85 830.123,1318.97 830.628,1319.08 831.133,1319.2 831.639,1319.32 832.144,1319.43 \n",
       "  832.649,1319.55 833.154,1319.66 833.659,1319.78 834.165,1319.9 834.67,1320.01 835.175,1320.13 835.68,1320.24 836.185,1320.36 836.691,1320.47 837.196,1320.59 \n",
       "  837.701,1320.71 838.206,1320.82 838.711,1320.94 839.217,1321.05 839.722,1321.17 840.227,1321.28 840.732,1321.4 841.237,1321.51 841.743,1321.63 842.248,1321.74 \n",
       "  842.753,1321.86 843.258,1321.97 843.763,1322.09 844.268,1322.2 844.774,1322.32 845.279,1322.43 845.784,1322.54 846.289,1322.66 846.794,1322.77 847.3,1322.89 \n",
       "  847.805,1323 848.31,1323.11 848.815,1323.23 849.32,1323.34 849.826,1323.45 850.331,1323.57 850.836,1323.68 851.341,1323.79 851.846,1323.91 852.352,1324.02 \n",
       "  852.857,1324.13 853.362,1324.24 853.867,1324.36 854.372,1324.47 854.877,1324.58 855.383,1324.69 855.888,1324.81 856.393,1324.92 856.898,1325.03 857.403,1325.14 \n",
       "  857.909,1325.25 858.414,1325.36 858.919,1325.47 859.424,1325.58 859.929,1325.69 860.435,1325.8 860.94,1325.91 861.445,1326.02 861.95,1326.13 862.455,1326.23 \n",
       "  862.961,1326.34 863.466,1326.45 863.971,1326.56 864.476,1326.66 864.981,1326.77 865.487,1326.87 865.992,1326.98 866.497,1327.08 867.002,1327.19 867.507,1327.29 \n",
       "  868.012,1327.39 868.518,1327.5 869.023,1327.6 869.528,1327.7 870.033,1327.8 870.538,1327.9 871.044,1328.01 871.549,1328.11 872.054,1328.21 872.559,1328.31 \n",
       "  873.064,1328.41 873.57,1328.51 874.075,1328.6 874.58,1328.7 875.085,1328.8 875.59,1328.9 876.096,1329 876.601,1329.1 877.106,1329.19 877.611,1329.29 \n",
       "  878.116,1329.39 878.622,1329.49 879.127,1329.58 879.632,1329.68 880.137,1329.78 880.642,1329.87 881.147,1329.97 881.653,1330.06 882.158,1330.16 882.663,1330.25 \n",
       "  883.168,1330.35 883.673,1330.44 884.179,1330.54 884.684,1330.63 885.189,1330.73 885.694,1330.82 886.199,1330.92 886.705,1331.01 887.21,1331.11 887.715,1331.2 \n",
       "  888.22,1331.29 888.725,1331.39 889.231,1331.48 889.736,1331.58 890.241,1331.67 890.746,1331.76 891.251,1331.86 891.756,1331.95 892.262,1332.04 892.767,1332.13 \n",
       "  893.272,1332.23 893.777,1332.32 894.282,1332.41 894.788,1332.51 895.293,1332.6 895.798,1332.69 896.303,1332.78 896.808,1332.87 897.314,1332.97 897.819,1333.06 \n",
       "  898.324,1333.15 898.829,1333.24 899.334,1333.33 899.84,1333.42 900.345,1333.51 900.85,1333.61 901.355,1333.7 901.86,1333.79 902.366,1333.88 902.871,1333.97 \n",
       "  903.376,1334.06 903.881,1334.15 904.386,1334.24 904.891,1334.33 905.397,1334.42 905.902,1334.5 906.407,1334.59 906.912,1334.68 907.417,1334.77 907.923,1334.86 \n",
       "  908.428,1334.95 908.933,1335.03 909.438,1335.12 909.943,1335.21 910.449,1335.29 910.954,1335.38 911.459,1335.47 911.964,1335.55 912.469,1335.64 912.975,1335.72 \n",
       "  913.48,1335.81 913.985,1335.89 914.49,1335.98 914.995,1336.06 915.501,1336.15 916.006,1336.23 916.511,1336.32 917.016,1336.4 917.521,1336.49 918.026,1336.57 \n",
       "  918.532,1336.65 919.037,1336.74 919.542,1336.82 920.047,1336.9 920.552,1336.98 921.058,1337.07 921.563,1337.15 922.068,1337.23 922.573,1337.31 923.078,1337.4 \n",
       "  923.584,1337.48 924.089,1337.56 924.594,1337.64 925.099,1337.72 925.604,1337.8 926.11,1337.88 926.615,1337.96 927.12,1338.04 927.625,1338.12 928.13,1338.2 \n",
       "  928.635,1338.28 929.141,1338.37 929.646,1338.44 930.151,1338.52 930.656,1338.6 931.161,1338.68 931.667,1338.76 932.172,1338.84 932.677,1338.92 933.182,1339 \n",
       "  933.687,1339.08 934.193,1339.16 934.698,1339.23 935.203,1339.31 935.708,1339.39 936.213,1339.47 936.719,1339.54 937.224,1339.62 937.729,1339.7 938.234,1339.78 \n",
       "  938.739,1339.85 939.245,1339.93 939.75,1340 940.255,1340.08 940.76,1340.16 941.265,1340.23 941.77,1340.31 942.276,1340.38 942.781,1340.46 943.286,1340.53 \n",
       "  943.791,1340.61 944.296,1340.68 944.802,1340.75 945.307,1340.83 945.812,1340.9 946.317,1340.97 946.822,1341.05 947.328,1341.12 947.833,1341.19 948.338,1341.27 \n",
       "  948.843,1341.34 949.348,1341.41 949.854,1341.48 950.359,1341.56 950.864,1341.63 951.369,1341.7 951.874,1341.77 952.38,1341.85 952.885,1341.92 953.39,1341.99 \n",
       "  953.895,1342.06 954.4,1342.13 954.905,1342.2 955.411,1342.27 955.916,1342.34 956.421,1342.41 956.926,1342.48 957.431,1342.55 957.937,1342.62 958.442,1342.69 \n",
       "  958.947,1342.76 959.452,1342.83 959.957,1342.9 960.463,1342.97 960.968,1343.04 961.473,1343.11 961.978,1343.18 962.483,1343.25 962.989,1343.32 963.494,1343.39 \n",
       "  963.999,1343.46 964.504,1343.53 965.009,1343.6 965.514,1343.67 966.02,1343.74 966.525,1343.81 967.03,1343.88 967.535,1343.95 968.04,1344.01 968.546,1344.08 \n",
       "  969.051,1344.15 969.556,1344.22 970.061,1344.29 970.566,1344.36 971.072,1344.43 971.577,1344.5 972.082,1344.57 972.587,1344.64 973.092,1344.71 973.598,1344.78 \n",
       "  974.103,1344.85 974.608,1344.92 975.113,1344.99 975.618,1345.06 976.124,1345.13 976.629,1345.19 977.134,1345.26 977.639,1345.33 978.144,1345.4 978.649,1345.47 \n",
       "  979.155,1345.54 979.66,1345.61 980.165,1345.68 980.67,1345.75 981.175,1345.82 981.681,1345.89 982.186,1345.96 982.691,1346.03 983.196,1346.1 983.701,1346.16 \n",
       "  984.207,1346.23 984.712,1346.3 985.217,1346.37 985.722,1346.43 986.227,1346.5 986.733,1346.57 987.238,1346.63 987.743,1346.7 988.248,1346.77 988.753,1346.83 \n",
       "  989.259,1346.9 989.764,1346.96 990.269,1347.03 990.774,1347.09 991.279,1347.16 991.784,1347.22 992.29,1347.29 992.795,1347.35 993.3,1347.41 993.805,1347.48 \n",
       "  994.31,1347.54 994.816,1347.6 995.321,1347.66 995.826,1347.73 996.331,1347.79 996.836,1347.85 997.342,1347.91 997.847,1347.97 998.352,1348.03 998.857,1348.09 \n",
       "  999.362,1348.15 999.868,1348.21 1000.37,1348.27 1000.88,1348.33 1001.38,1348.39 1001.89,1348.45 1002.39,1348.51 1002.9,1348.57 1003.4,1348.63 1003.91,1348.69 \n",
       "  1004.41,1348.75 1004.92,1348.81 1005.42,1348.86 1005.93,1348.92 1006.44,1348.98 1006.94,1349.04 1007.45,1349.1 1007.95,1349.15 1008.46,1349.21 1008.96,1349.27 \n",
       "  1009.47,1349.33 1009.97,1349.38 1010.48,1349.44 1010.98,1349.5 1011.49,1349.55 1011.99,1349.61 1012.5,1349.67 1013,1349.72 1013.51,1349.78 1014.01,1349.83 \n",
       "  1014.52,1349.89 1015.02,1349.95 1015.53,1350 1016.03,1350.06 1016.54,1350.11 1017.04,1350.17 1017.55,1350.23 1018.05,1350.28 1018.56,1350.34 1019.06,1350.39 \n",
       "  1019.57,1350.45 1020.08,1350.5 1020.58,1350.56 1021.09,1350.61 1021.59,1350.66 1022.1,1350.72 1022.6,1350.77 1023.11,1350.83 1023.61,1350.88 1024.12,1350.94 \n",
       "  1024.62,1350.99 1025.13,1351.04 1025.63,1351.1 1026.14,1351.15 1026.64,1351.21 1027.15,1351.26 1027.65,1351.31 1028.16,1351.36 1028.66,1351.42 1029.17,1351.47 \n",
       "  1029.67,1351.52 1030.18,1351.58 1030.68,1351.63 1031.19,1351.68 1031.69,1351.73 1032.2,1351.79 1032.7,1351.84 1033.21,1351.89 1033.72,1351.94 1034.22,1351.99 \n",
       "  1034.73,1352.05 1035.23,1352.1 1035.74,1352.15 1036.24,1352.2 1036.75,1352.25 1037.25,1352.3 1037.76,1352.35 1038.26,1352.41 1038.77,1352.46 1039.27,1352.51 \n",
       "  1039.78,1352.56 1040.28,1352.61 1040.79,1352.66 1041.29,1352.71 1041.8,1352.76 1042.3,1352.81 1042.81,1352.86 1043.31,1352.91 1043.82,1352.96 1044.32,1353.01 \n",
       "  1044.83,1353.06 1045.33,1353.11 1045.84,1353.16 1046.35,1353.22 1046.85,1353.26 1047.36,1353.32 1047.86,1353.37 1048.37,1353.42 1048.87,1353.47 1049.38,1353.52 \n",
       "  1049.88,1353.57 1050.39,1353.62 1050.89,1353.67 1051.4,1353.72 1051.9,1353.77 1052.41,1353.82 1052.91,1353.87 1053.42,1353.92 1053.92,1353.97 1054.43,1354.02 \n",
       "  1054.93,1354.07 1055.44,1354.12 1055.94,1354.17 1056.45,1354.22 1056.95,1354.27 1057.46,1354.32 1057.96,1354.37 1058.47,1354.42 1058.97,1354.48 1059.48,1354.52 \n",
       "  1059.99,1354.58 1060.49,1354.63 1061,1354.68 1061.5,1354.73 1062.01,1354.77 1062.51,1354.82 1063.02,1354.87 1063.52,1354.92 1064.03,1354.97 1064.53,1355.02 \n",
       "  1065.04,1355.07 1065.54,1355.12 1066.05,1355.17 1066.55,1355.21 1067.06,1355.26 1067.56,1355.31 1068.07,1355.36 1068.57,1355.41 1069.08,1355.45 1069.58,1355.5 \n",
       "  1070.09,1355.55 1070.59,1355.59 1071.1,1355.64 1071.6,1355.69 1072.11,1355.73 1072.62,1355.78 1073.12,1355.83 1073.63,1355.87 1074.13,1355.92 1074.64,1355.96 \n",
       "  1075.14,1356.01 1075.65,1356.05 1076.15,1356.1 1076.66,1356.14 1077.16,1356.19 1077.67,1356.23 1078.17,1356.28 1078.68,1356.32 1079.18,1356.37 1079.69,1356.41 \n",
       "  1080.19,1356.46 1080.7,1356.5 1081.2,1356.55 1081.71,1356.59 1082.21,1356.63 1082.72,1356.68 1083.22,1356.72 1083.73,1356.77 1084.23,1356.81 1084.74,1356.85 \n",
       "  1085.24,1356.9 1085.75,1356.94 1086.26,1356.99 1086.76,1357.03 1087.27,1357.07 1087.77,1357.12 1088.28,1357.16 1088.78,1357.2 1089.29,1357.25 1089.79,1357.29 \n",
       "  1090.3,1357.33 1090.8,1357.38 1091.31,1357.42 1091.81,1357.46 1092.32,1357.51 1092.82,1357.55 1093.33,1357.59 1093.83,1357.64 1094.34,1357.68 1094.84,1357.72 \n",
       "  1095.35,1357.77 1095.85,1357.81 1096.36,1357.85 1096.86,1357.9 1097.37,1357.94 1097.87,1357.98 1098.38,1358.03 1098.89,1358.07 1099.39,1358.11 1099.9,1358.16 \n",
       "  1100.4,1358.2 1100.91,1358.24 1101.41,1358.29 1101.92,1358.33 1102.42,1358.37 1102.93,1358.42 1103.43,1358.46 1103.94,1358.51 1104.44,1358.55 1104.95,1358.59 \n",
       "  1105.45,1358.64 1105.96,1358.68 1106.46,1358.72 1106.97,1358.77 1107.47,1358.81 1107.98,1358.86 1108.48,1358.9 1108.99,1358.95 1109.49,1358.99 1110,1359.03 \n",
       "  1110.5,1359.08 1111.01,1359.12 1111.51,1359.17 1112.02,1359.21 1112.53,1359.25 1113.03,1359.3 1113.54,1359.34 1114.04,1359.39 1114.55,1359.43 1115.05,1359.48 \n",
       "  1115.56,1359.52 1116.06,1359.56 1116.57,1359.61 1117.07,1359.65 1117.58,1359.69 1118.08,1359.74 1118.59,1359.78 1119.09,1359.83 1119.6,1359.87 1120.1,1359.91 \n",
       "  1120.61,1359.95 1121.11,1360 1121.62,1360.04 1122.12,1360.08 1122.63,1360.13 1123.13,1360.17 1123.64,1360.21 1124.14,1360.25 1124.65,1360.3 1125.16,1360.34 \n",
       "  1125.66,1360.38 1126.17,1360.42 1126.67,1360.47 1127.18,1360.51 1127.68,1360.55 1128.19,1360.59 1128.69,1360.63 1129.2,1360.68 1129.7,1360.72 1130.21,1360.76 \n",
       "  1130.71,1360.8 1131.22,1360.84 1131.72,1360.88 1132.23,1360.93 1132.73,1360.97 1133.24,1361.01 1133.74,1361.05 1134.25,1361.09 1134.75,1361.13 1135.26,1361.17 \n",
       "  1135.76,1361.22 1136.27,1361.26 1136.77,1361.3 1137.28,1361.34 1137.78,1361.38 1138.29,1361.42 1138.8,1361.46 1139.3,1361.51 1139.81,1361.55 1140.31,1361.59 \n",
       "  1140.82,1361.63 1141.32,1361.67 1141.83,1361.71 1142.33,1361.76 1142.84,1361.8 1143.34,1361.84 1143.85,1361.88 1144.35,1361.92 1144.86,1361.96 1145.36,1362.01 \n",
       "  1145.87,1362.05 1146.37,1362.09 1146.88,1362.13 1147.38,1362.18 1147.89,1362.22 1148.39,1362.26 1148.9,1362.3 1149.4,1362.35 1149.91,1362.39 1150.41,1362.43 \n",
       "  1150.92,1362.48 1151.43,1362.52 1151.93,1362.56 1152.44,1362.6 1152.94,1362.65 1153.45,1362.69 1153.95,1362.73 1154.46,1362.77 1154.96,1362.82 1155.47,1362.86 \n",
       "  1155.97,1362.9 1156.48,1362.95 1156.98,1362.99 1157.49,1363.03 1157.99,1363.07 1158.5,1363.12 1159,1363.16 1159.51,1363.2 1160.01,1363.24 1160.52,1363.29 \n",
       "  1161.02,1363.33 1161.53,1363.37 1162.03,1363.41 1162.54,1363.46 1163.04,1363.5 1163.55,1363.54 1164.05,1363.58 1164.56,1363.62 1165.07,1363.67 1165.57,1363.71 \n",
       "  1166.08,1363.75 1166.58,1363.79 1167.09,1363.83 1167.59,1363.87 1168.1,1363.91 1168.6,1363.95 1169.11,1363.99 1169.61,1364.03 1170.12,1364.07 1170.62,1364.11 \n",
       "  1171.13,1364.15 1171.63,1364.19 1172.14,1364.23 1172.64,1364.27 1173.15,1364.31 1173.65,1364.35 1174.16,1364.38 1174.66,1364.42 1175.17,1364.46 1175.67,1364.5 \n",
       "  1176.18,1364.53 1176.68,1364.57 1177.19,1364.61 1177.7,1364.65 1178.2,1364.68 1178.71,1364.72 1179.21,1364.76 1179.72,1364.79 1180.22,1364.83 1180.73,1364.87 \n",
       "  1181.23,1364.91 1181.74,1364.94 1182.24,1364.98 1182.75,1365.02 1183.25,1365.06 1183.76,1365.09 1184.26,1365.13 1184.77,1365.17 1185.27,1365.21 1185.78,1365.25 \n",
       "  1186.28,1365.28 1186.79,1365.32 1187.29,1365.36 1187.8,1365.4 1188.3,1365.45 1188.81,1365.49 1189.31,1365.53 1189.82,1365.57 1190.32,1365.61 1190.83,1365.65 \n",
       "  1191.34,1365.69 1191.84,1365.74 1192.35,1365.78 1192.85,1365.82 1193.36,1365.86 1193.86,1365.9 1194.37,1365.94 1194.87,1365.98 1195.38,1366.02 1195.88,1366.06 \n",
       "  1196.39,1366.1 1196.89,1366.14 1197.4,1366.17 1197.9,1366.21 1198.41,1366.25 1198.91,1366.29 1199.42,1366.32 1199.92,1366.36 1200.43,1366.4 1200.93,1366.43 \n",
       "  1201.44,1366.47 1201.94,1366.51 1202.45,1366.54 1202.95,1366.58 1203.46,1366.61 1203.97,1366.65 1204.47,1366.69 1204.98,1366.72 1205.48,1366.76 1205.99,1366.79 \n",
       "  1206.49,1366.83 1207,1366.86 1207.5,1366.89 1208.01,1366.93 1208.51,1366.96 1209.02,1367 1209.52,1367.03 1210.03,1367.06 1210.53,1367.1 1211.04,1367.13 \n",
       "  1211.54,1367.16 1212.05,1367.19 1212.55,1367.22 1213.06,1367.26 1213.56,1367.29 1214.07,1367.32 1214.57,1367.35 1215.08,1367.38 1215.58,1367.41 1216.09,1367.44 \n",
       "  1216.59,1367.47 1217.1,1367.5 1217.61,1367.54 1218.11,1367.57 1218.62,1367.6 1219.12,1367.63 1219.63,1367.66 1220.13,1367.69 1220.64,1367.72 1221.14,1367.75 \n",
       "  1221.65,1367.78 1222.15,1367.8 1222.66,1367.83 1223.16,1367.86 1223.67,1367.89 1224.17,1367.92 1224.68,1367.95 1225.18,1367.98 1225.69,1368.01 1226.19,1368.04 \n",
       "  1226.7,1368.07 1227.2,1368.1 1227.71,1368.12 1228.21,1368.15 1228.72,1368.18 1229.22,1368.21 1229.73,1368.24 1230.23,1368.27 1230.74,1368.29 1231.25,1368.32 \n",
       "  1231.75,1368.35 1232.26,1368.38 1232.76,1368.4 1233.27,1368.43 1233.77,1368.46 1234.28,1368.49 1234.78,1368.51 1235.29,1368.54 1235.79,1368.57 1236.3,1368.6 \n",
       "  1236.8,1368.62 1237.31,1368.65 1237.81,1368.68 1238.32,1368.7 1238.82,1368.73 1239.33,1368.75 1239.83,1368.78 1240.34,1368.81 1240.84,1368.83 1241.35,1368.86 \n",
       "  1241.85,1368.88 1242.36,1368.91 1242.86,1368.94 1243.37,1368.96 1243.88,1368.99 1244.38,1369.01 1244.89,1369.04 1245.39,1369.06 1245.9,1369.09 1246.4,1369.11 \n",
       "  1246.91,1369.14 1247.41,1369.16 1247.92,1369.19 1248.42,1369.21 1248.93,1369.24 1249.43,1369.26 1249.94,1369.28 1250.44,1369.31 1250.95,1369.33 1251.45,1369.36 \n",
       "  1251.96,1369.38 1252.46,1369.4 1252.97,1369.43 1253.47,1369.45 1253.98,1369.48 1254.48,1369.5 1254.99,1369.52 1255.49,1369.55 1256,1369.57 1256.5,1369.59 \n",
       "  1257.01,1369.62 1257.52,1369.64 1258.02,1369.66 1258.53,1369.69 1259.03,1369.71 1259.54,1369.73 1260.04,1369.76 1260.55,1369.78 1261.05,1369.8 1261.56,1369.82 \n",
       "  1262.06,1369.85 1262.57,1369.87 1263.07,1369.89 1263.58,1369.91 1264.08,1369.94 1264.59,1369.96 1265.09,1369.98 1265.6,1370 1266.1,1370.03 1266.61,1370.05 \n",
       "  1267.11,1370.07 1267.62,1370.09 1268.12,1370.11 1268.63,1370.14 1269.13,1370.16 1269.64,1370.18 1270.15,1370.2 1270.65,1370.22 1271.16,1370.24 1271.66,1370.27 \n",
       "  1272.17,1370.29 1272.67,1370.31 1273.18,1370.33 1273.68,1370.35 1274.19,1370.37 1274.69,1370.4 1275.2,1370.42 1275.7,1370.44 1276.21,1370.46 1276.71,1370.48 \n",
       "  1277.22,1370.5 1277.72,1370.52 1278.23,1370.54 1278.73,1370.56 1279.24,1370.58 1279.74,1370.61 1280.25,1370.63 1280.75,1370.65 1281.26,1370.67 1281.76,1370.69 \n",
       "  1282.27,1370.71 1282.77,1370.73 1283.28,1370.75 1283.79,1370.77 1284.29,1370.79 1284.8,1370.81 1285.3,1370.83 1285.81,1370.85 1286.31,1370.87 1286.82,1370.89 \n",
       "  1287.32,1370.91 1287.83,1370.94 1288.33,1370.96 1288.84,1370.98 1289.34,1371 1289.85,1371.02 1290.35,1371.04 1290.86,1371.06 1291.36,1371.08 1291.87,1371.1 \n",
       "  1292.37,1371.12 1292.88,1371.14 1293.38,1371.16 1293.89,1371.18 1294.39,1371.2 1294.9,1371.22 1295.4,1371.24 1295.91,1371.27 1296.42,1371.29 1296.92,1371.31 \n",
       "  1297.43,1371.33 1297.93,1371.35 1298.44,1371.37 1298.94,1371.39 1299.45,1371.41 1299.95,1371.44 1300.46,1371.46 1300.96,1371.48 1301.47,1371.5 1301.97,1371.52 \n",
       "  1302.48,1371.55 1302.98,1371.57 1303.49,1371.59 1303.99,1371.61 1304.5,1371.64 1305,1371.66 1305.51,1371.68 1306.01,1371.7 1306.52,1371.73 1307.02,1371.75 \n",
       "  1307.53,1371.77 1308.03,1371.79 1308.54,1371.81 1309.04,1371.84 1309.55,1371.86 1310.06,1371.88 1310.56,1371.9 1311.07,1371.92 1311.57,1371.94 1312.08,1371.96 \n",
       "  1312.58,1371.98 1313.09,1372 1313.59,1372.03 1314.1,1372.04 1314.6,1372.06 1315.11,1372.08 1315.61,1372.1 1316.12,1372.12 1316.62,1372.14 1317.13,1372.16 \n",
       "  1317.63,1372.18 1318.14,1372.2 1318.64,1372.22 1319.15,1372.24 1319.65,1372.25 1320.16,1372.27 1320.66,1372.29 1321.17,1372.31 1321.67,1372.33 1322.18,1372.34 \n",
       "  1322.69,1372.36 1323.19,1372.38 1323.7,1372.4 1324.2,1372.41 1324.71,1372.43 1325.21,1372.45 1325.72,1372.46 1326.22,1372.48 1326.73,1372.5 1327.23,1372.51 \n",
       "  1327.74,1372.53 1328.24,1372.55 1328.75,1372.56 1329.25,1372.58 1329.76,1372.6 1330.26,1372.61 1330.77,1372.63 1331.27,1372.65 1331.78,1372.66 1332.28,1372.68 \n",
       "  1332.79,1372.7 1333.29,1372.71 1333.8,1372.73 1334.3,1372.74 1334.81,1372.76 1335.31,1372.78 1335.82,1372.79 1336.33,1372.81 1336.83,1372.82 1337.34,1372.84 \n",
       "  1337.84,1372.86 1338.35,1372.87 1338.85,1372.89 1339.36,1372.9 1339.86,1372.92 1340.37,1372.93 1340.87,1372.95 1341.38,1372.97 1341.88,1372.98 1342.39,1373 \n",
       "  1342.89,1373.01 1343.4,1373.03 1343.9,1373.04 1344.41,1373.06 1344.91,1373.07 1345.42,1373.09 1345.92,1373.11 1346.43,1373.12 1346.93,1373.14 1347.44,1373.15 \n",
       "  1347.94,1373.17 1348.45,1373.19 1348.96,1373.2 1349.46,1373.22 1349.97,1373.23 1350.47,1373.25 1350.98,1373.27 1351.48,1373.28 1351.99,1373.3 1352.49,1373.32 \n",
       "  1353,1373.33 1353.5,1373.35 1354.01,1373.37 1354.51,1373.39 1355.02,1373.4 1355.52,1373.42 1356.03,1373.44 1356.53,1373.46 1357.04,1373.47 1357.54,1373.49 \n",
       "  1358.05,1373.51 1358.55,1373.52 1359.06,1373.54 1359.56,1373.56 1360.07,1373.57 1360.57,1373.59 1361.08,1373.61 1361.58,1373.62 1362.09,1373.64 1362.6,1373.65 \n",
       "  1363.1,1373.67 1363.61,1373.68 1364.11,1373.7 1364.62,1373.71 1365.12,1373.73 1365.63,1373.74 1366.13,1373.76 1366.64,1373.77 1367.14,1373.78 1367.65,1373.8 \n",
       "  1368.15,1373.81 1368.66,1373.83 1369.16,1373.84 1369.67,1373.85 1370.17,1373.87 1370.68,1373.88 1371.18,1373.9 1371.69,1373.91 1372.19,1373.92 1372.7,1373.94 \n",
       "  1373.2,1373.95 1373.71,1373.96 1374.21,1373.98 1374.72,1373.99 1375.23,1374 1375.73,1374.02 1376.24,1374.03 1376.74,1374.04 1377.25,1374.06 1377.75,1374.07 \n",
       "  1378.26,1374.08 1378.76,1374.1 1379.27,1374.11 1379.77,1374.12 1380.28,1374.13 1380.78,1374.15 1381.29,1374.16 1381.79,1374.17 1382.3,1374.19 1382.8,1374.2 \n",
       "  1383.31,1374.21 1383.81,1374.22 1384.32,1374.24 1384.82,1374.25 1385.33,1374.26 1385.83,1374.28 1386.34,1374.29 1386.84,1374.3 1387.35,1374.31 1387.85,1374.33 \n",
       "  1388.36,1374.34 1388.87,1374.35 1389.37,1374.36 1389.88,1374.38 1390.38,1374.39 1390.89,1374.4 1391.39,1374.41 1391.9,1374.43 1392.4,1374.44 1392.91,1374.45 \n",
       "  1393.41,1374.47 1393.92,1374.48 1394.42,1374.49 1394.93,1374.5 1395.43,1374.52 1395.94,1374.53 1396.44,1374.54 1396.95,1374.55 1397.45,1374.57 1397.96,1374.58 \n",
       "  1398.46,1374.59 1398.97,1374.6 1399.47,1374.62 1399.98,1374.63 1400.48,1374.64 1400.99,1374.66 1401.49,1374.67 1402,1374.68 1402.51,1374.7 1403.01,1374.71 \n",
       "  1403.52,1374.72 1404.02,1374.74 1404.53,1374.75 1405.03,1374.76 1405.54,1374.78 1406.04,1374.79 1406.55,1374.81 1407.05,1374.82 1407.56,1374.83 1408.06,1374.85 \n",
       "  1408.57,1374.86 1409.07,1374.87 1409.58,1374.89 1410.08,1374.9 1410.59,1374.91 1411.09,1374.93 1411.6,1374.94 1412.1,1374.95 1412.61,1374.97 1413.11,1374.98 \n",
       "  1413.62,1374.99 1414.12,1375.01 1414.63,1375.02 1415.14,1375.03 1415.64,1375.04 1416.15,1375.06 1416.65,1375.07 1417.16,1375.08 1417.66,1375.09 1418.17,1375.11 \n",
       "  1418.67,1375.12 1419.18,1375.13 1419.68,1375.14 1420.19,1375.15 1420.69,1375.16 1421.2,1375.18 1421.7,1375.19 1422.21,1375.2 1422.71,1375.21 1423.22,1375.22 \n",
       "  1423.72,1375.23 1424.23,1375.25 1424.73,1375.26 1425.24,1375.27 1425.74,1375.28 1426.25,1375.29 1426.75,1375.3 1427.26,1375.31 1427.76,1375.33 1428.27,1375.34 \n",
       "  1428.78,1375.35 1429.28,1375.36 1429.79,1375.37 1430.29,1375.38 1430.8,1375.39 1431.3,1375.41 1431.81,1375.42 1432.31,1375.43 1432.82,1375.44 1433.32,1375.45 \n",
       "  1433.83,1375.47 1434.33,1375.48 1434.84,1375.49 1435.34,1375.5 1435.85,1375.52 1436.35,1375.53 1436.86,1375.55 1437.36,1375.56 1437.87,1375.58 1438.37,1375.59 \n",
       "  1438.88,1375.61 1439.38,1375.62 1439.89,1375.64 1440.39,1375.66 1440.9,1375.67 1441.41,1375.69 1441.91,1375.71 1442.42,1375.72 1442.92,1375.74 1443.43,1375.75 \n",
       "  1443.93,1375.76 1444.44,1375.78 1444.94,1375.79 1445.45,1375.8 1445.95,1375.81 1446.46,1375.83 1446.96,1375.84 1447.47,1375.85 1447.97,1375.86 1448.48,1375.87 \n",
       "  1448.98,1375.88 1449.49,1375.89 1449.99,1375.9 1450.5,1375.92 1451,1375.93 1451.51,1375.94 1452.01,1375.95 1452.52,1375.96 1453.02,1375.97 1453.53,1375.98 \n",
       "  1454.03,1375.99 1454.54,1376 1455.05,1376.01 1455.55,1376.02 1456.06,1376.03 1456.56,1376.04 1457.07,1376.05 1457.57,1376.06 1458.08,1376.07 1458.58,1376.08 \n",
       "  1459.09,1376.09 1459.59,1376.1 1460.1,1376.1 1460.6,1376.11 1461.11,1376.12 1461.61,1376.13 1462.12,1376.14 1462.62,1376.15 1463.13,1376.16 1463.63,1376.17 \n",
       "  1464.14,1376.18 1464.64,1376.19 1465.15,1376.2 1465.65,1376.21 1466.16,1376.22 1466.66,1376.23 1467.17,1376.23 1467.68,1376.24 1468.18,1376.25 1468.69,1376.26 \n",
       "  1469.19,1376.27 1469.7,1376.28 1470.2,1376.29 1470.71,1376.3 1471.21,1376.31 1471.72,1376.31 1472.22,1376.32 1472.73,1376.33 1473.23,1376.34 1473.74,1376.35 \n",
       "  1474.24,1376.36 1474.75,1376.37 1475.25,1376.38 1475.76,1376.38 1476.26,1376.39 1476.77,1376.4 1477.27,1376.41 1477.78,1376.42 1478.28,1376.43 1478.79,1376.44 \n",
       "  1479.29,1376.44 1479.8,1376.45 1480.3,1376.46 1480.81,1376.47 1481.32,1376.48 1481.82,1376.49 1482.33,1376.49 1482.83,1376.5 1483.34,1376.51 1483.84,1376.52 \n",
       "  1484.35,1376.53 1484.85,1376.54 1485.36,1376.54 1485.86,1376.55 1486.37,1376.56 1486.87,1376.57 1487.38,1376.58 1487.88,1376.58 1488.39,1376.59 1488.89,1376.6 \n",
       "  1489.4,1376.61 1489.9,1376.62 1490.41,1376.62 1490.91,1376.63 1491.42,1376.64 1491.92,1376.65 1492.43,1376.66 1492.93,1376.66 1493.44,1376.67 1493.95,1376.68 \n",
       "  1494.45,1376.69 1494.96,1376.7 1495.46,1376.7 1495.97,1376.71 1496.47,1376.72 1496.98,1376.73 1497.48,1376.73 1497.99,1376.74 1498.49,1376.75 1499,1376.76 \n",
       "  1499.5,1376.76 1500.01,1376.77 1500.51,1376.78 1501.02,1376.79 1501.52,1376.8 1502.03,1376.8 1502.53,1376.81 1503.04,1376.82 1503.54,1376.83 1504.05,1376.83 \n",
       "  1504.55,1376.84 1505.06,1376.85 1505.56,1376.85 1506.07,1376.86 1506.57,1376.87 1507.08,1376.88 1507.59,1376.88 1508.09,1376.89 1508.6,1376.9 1509.1,1376.91 \n",
       "  1509.61,1376.91 1510.11,1376.92 1510.62,1376.93 1511.12,1376.93 1511.63,1376.94 1512.13,1376.95 1512.64,1376.96 1513.14,1376.96 1513.65,1376.97 1514.15,1376.98 \n",
       "  1514.66,1376.98 1515.16,1376.99 1515.67,1377 1516.17,1377.01 1516.68,1377.01 1517.18,1377.02 1517.69,1377.03 1518.19,1377.03 1518.7,1377.04 1519.2,1377.05 \n",
       "  1519.71,1377.05 1520.22,1377.06 1520.72,1377.07 1521.23,1377.07 1521.73,1377.08 1522.24,1377.09 1522.74,1377.1 1523.25,1377.1 1523.75,1377.11 1524.26,1377.12 \n",
       "  1524.76,1377.12 1525.27,1377.13 1525.77,1377.14 1526.28,1377.14 1526.78,1377.15 1527.29,1377.16 1527.79,1377.16 1528.3,1377.17 1528.8,1377.18 1529.31,1377.18 \n",
       "  1529.81,1377.19 1530.32,1377.2 1530.82,1377.2 1531.33,1377.21 1531.83,1377.21 1532.34,1377.22 1532.84,1377.23 1533.35,1377.23 1533.86,1377.24 1534.36,1377.25 \n",
       "  1534.87,1377.25 1535.37,1377.26 1535.88,1377.27 1536.38,1377.27 1536.89,1377.28 1537.39,1377.29 1537.9,1377.29 1538.4,1377.3 1538.91,1377.3 1539.41,1377.31 \n",
       "  1539.92,1377.32 1540.42,1377.32 1540.93,1377.33 1541.43,1377.34 1541.94,1377.34 1542.44,1377.35 1542.95,1377.35 1543.45,1377.36 1543.96,1377.37 1544.46,1377.37 \n",
       "  1544.97,1377.38 1545.47,1377.39 1545.98,1377.39 1546.49,1377.4 1546.99,1377.4 1547.5,1377.41 1548,1377.42 1548.51,1377.42 1549.01,1377.43 1549.52,1377.44 \n",
       "  1550.02,1377.44 1550.53,1377.45 1551.03,1377.45 1551.54,1377.46 1552.04,1377.47 1552.55,1377.47 1553.05,1377.48 1553.56,1377.48 1554.06,1377.49 1554.57,1377.5 \n",
       "  1555.07,1377.5 1555.58,1377.51 1556.08,1377.51 1556.59,1377.52 1557.09,1377.53 1557.6,1377.53 1558.1,1377.54 1558.61,1377.55 1559.11,1377.55 1559.62,1377.56 \n",
       "  1560.13,1377.56 1560.63,1377.57 1561.14,1377.58 1561.64,1377.58 1562.15,1377.59 1562.65,1377.6 1563.16,1377.6 1563.66,1377.61 1564.17,1377.62 1564.67,1377.62 \n",
       "  1565.18,1377.63 1565.68,1377.64 1566.19,1377.64 1566.69,1377.65 1567.2,1377.66 1567.7,1377.66 1568.21,1377.67 1568.71,1377.68 1569.22,1377.69 1569.72,1377.69 \n",
       "  1570.23,1377.7 1570.73,1377.71 1571.24,1377.72 1571.74,1377.73 1572.25,1377.74 1572.75,1377.74 1573.26,1377.75 1573.77,1377.76 1574.27,1377.77 1574.78,1377.78 \n",
       "  1575.28,1377.79 1575.79,1377.8 1576.29,1377.81 1576.8,1377.82 1577.3,1377.83 1577.81,1377.84 1578.31,1377.85 1578.82,1377.86 1579.32,1377.87 1579.83,1377.88 \n",
       "  1580.33,1377.89 1580.84,1377.9 1581.34,1377.91 1581.85,1377.92 1582.35,1377.93 1582.86,1377.94 1583.36,1377.95 1583.87,1377.96 1584.37,1377.97 1584.88,1377.98 \n",
       "  1585.38,1377.99 1585.89,1378 1586.4,1378.01 1586.9,1378.01 1587.41,1378.02 1587.91,1378.03 1588.42,1378.04 1588.92,1378.05 1589.43,1378.05 1589.93,1378.06 \n",
       "  1590.44,1378.07 1590.94,1378.08 1591.45,1378.08 1591.95,1378.09 1592.46,1378.1 1592.96,1378.11 1593.47,1378.11 1593.97,1378.12 1594.48,1378.13 1594.98,1378.14 \n",
       "  1595.49,1378.14 1595.99,1378.15 1596.5,1378.16 1597,1378.17 1597.51,1378.18 1598.01,1378.18 1598.52,1378.19 1599.02,1378.2 1599.53,1378.21 1600.04,1378.22 \n",
       "  1600.54,1378.23 1601.05,1378.24 1601.55,1378.24 1602.06,1378.25 1602.56,1378.26 1603.07,1378.27 1603.57,1378.28 1604.08,1378.29 1604.58,1378.3 1605.09,1378.31 \n",
       "  1605.59,1378.32 1606.1,1378.33 1606.6,1378.34 1607.11,1378.35 1607.61,1378.36 1608.12,1378.37 1608.62,1378.37 1609.13,1378.38 1609.63,1378.39 1610.14,1378.4 \n",
       "  1610.64,1378.41 1611.15,1378.41 1611.65,1378.42 1612.16,1378.43 1612.67,1378.43 1613.17,1378.44 1613.68,1378.45 1614.18,1378.45 1614.69,1378.46 1615.19,1378.47 \n",
       "  1615.7,1378.47 1616.2,1378.48 1616.71,1378.48 1617.21,1378.49 1617.72,1378.5 1618.22,1378.5 1618.73,1378.51 1619.23,1378.51 1619.74,1378.52 1620.24,1378.52 \n",
       "  1620.75,1378.53 1621.25,1378.54 1621.76,1378.54 1622.26,1378.55 1622.77,1378.55 1623.27,1378.56 1623.78,1378.56 1624.28,1378.57 1624.79,1378.57 1625.29,1378.58 \n",
       "  1625.8,1378.58 1626.31,1378.59 1626.81,1378.59 1627.32,1378.6 1627.82,1378.6 1628.33,1378.61 1628.83,1378.61 1629.34,1378.62 1629.84,1378.62 1630.35,1378.63 \n",
       "  1630.85,1378.63 1631.36,1378.64 1631.86,1378.64 1632.37,1378.65 1632.87,1378.65 1633.38,1378.66 1633.88,1378.66 1634.39,1378.66 1634.89,1378.67 1635.4,1378.67 \n",
       "  1635.9,1378.68 1636.41,1378.68 1636.91,1378.69 1637.42,1378.69 1637.92,1378.7 1638.43,1378.7 1638.94,1378.71 1639.44,1378.71 1639.95,1378.72 1640.45,1378.72 \n",
       "  1640.96,1378.72 1641.46,1378.73 1641.97,1378.73 1642.47,1378.74 1642.98,1378.74 1643.48,1378.75 1643.99,1378.75 1644.49,1378.76 1645,1378.76 1645.5,1378.77 \n",
       "  1646.01,1378.77 1646.51,1378.77 1647.02,1378.78 1647.52,1378.78 1648.03,1378.79 1648.53,1378.8 1649.04,1378.8 1649.54,1378.81 1650.05,1378.82 1650.55,1378.83 \n",
       "  1651.06,1378.85 1651.56,1378.88 1652.07,1378.92 1652.58,1378.95 1653.08,1378.98 1653.59,1379 1654.09,1379.01 1654.6,1379.02 1655.1,1379.03 1655.61,1379.03 \n",
       "  1656.11,1379.04 1656.62,1379.04 1657.12,1379.05 1657.63,1379.06 1658.13,1379.06 1658.64,1379.07 1659.14,1379.07 1659.65,1379.08 1660.15,1379.08 1660.66,1379.08 \n",
       "  1661.16,1379.09 1661.67,1379.09 1662.17,1379.1 1662.68,1379.1 1663.18,1379.11 1663.69,1379.11 1664.19,1379.12 1664.7,1379.12 1665.21,1379.12 1665.71,1379.13 \n",
       "  1666.22,1379.13 1666.72,1379.14 1667.23,1379.14 1667.73,1379.15 1668.24,1379.15 1668.74,1379.15 1669.25,1379.16 1669.75,1379.16 1670.26,1379.17 1670.76,1379.17 \n",
       "  1671.27,1379.17 1671.77,1379.18 1672.28,1379.18 1672.78,1379.19 1673.29,1379.19 1673.79,1379.19 1674.3,1379.2 1674.8,1379.2 1675.31,1379.21 1675.81,1379.21 \n",
       "  1676.32,1379.21 1676.82,1379.22 1677.33,1379.22 1677.83,1379.22 1678.34,1379.23 1678.85,1379.23 1679.35,1379.24 1679.86,1379.24 1680.36,1379.24 1680.87,1379.25 \n",
       "  1681.37,1379.25 1681.88,1379.25 1682.38,1379.26 1682.89,1379.26 1683.39,1379.27 1683.9,1379.27 1684.4,1379.27 1684.91,1379.28 1685.41,1379.28 1685.92,1379.28 \n",
       "  1686.42,1379.29 1686.93,1379.29 1687.43,1379.3 1687.94,1379.3 1688.44,1379.3 1688.95,1379.31 1689.45,1379.31 1689.96,1379.31 1690.46,1379.32 1690.97,1379.32 \n",
       "  1691.48,1379.33 1691.98,1379.33 1692.49,1379.33 1692.99,1379.34 1693.5,1379.34 1694,1379.35 1694.51,1379.35 1695.01,1379.35 1695.52,1379.36 1696.02,1379.36 \n",
       "  1696.53,1379.37 1697.03,1379.37 1697.54,1379.38 1698.04,1379.39 1698.55,1379.39 1699.05,1379.4 1699.56,1379.41 1700.06,1379.42 1700.57,1379.43 1701.07,1379.44 \n",
       "  1701.58,1379.45 1702.08,1379.46 1702.59,1379.48 1703.09,1379.49 1703.6,1379.5 1704.1,1379.51 1704.61,1379.53 1705.12,1379.54 1705.62,1379.55 1706.13,1379.56 \n",
       "  1706.63,1379.56 1707.14,1379.57 1707.64,1379.58 1708.15,1379.59 1708.65,1379.59 1709.16,1379.6 1709.66,1379.61 1710.17,1379.61 1710.67,1379.62 1711.18,1379.62 \n",
       "  1711.68,1379.63 1712.19,1379.63 1712.69,1379.63 1713.2,1379.64 1713.7,1379.64 1714.21,1379.65 1714.71,1379.65 1715.22,1379.66 1715.72,1379.66 1716.23,1379.66 \n",
       "  1716.73,1379.67 1717.24,1379.67 1717.75,1379.67 1718.25,1379.68 1718.76,1379.68 1719.26,1379.69 1719.77,1379.69 1720.27,1379.69 1720.78,1379.7 1721.28,1379.7 \n",
       "  1721.79,1379.7 1722.29,1379.71 1722.8,1379.71 1723.3,1379.71 1723.81,1379.72 1724.31,1379.72 1724.82,1379.72 1725.32,1379.73 1725.83,1379.73 1726.33,1379.73 \n",
       "  1726.84,1379.74 1727.34,1379.74 1727.85,1379.74 1728.35,1379.74 1728.86,1379.75 1729.36,1379.75 1729.87,1379.75 1730.37,1379.76 1730.88,1379.76 1731.39,1379.76 \n",
       "  1731.89,1379.77 1732.4,1379.77 1732.9,1379.77 1733.41,1379.77 1733.91,1379.78 1734.42,1379.78 1734.92,1379.78 1735.43,1379.79 1735.93,1379.79 1736.44,1379.79 \n",
       "  1736.94,1379.8 1737.45,1379.8 1737.95,1379.8 1738.46,1379.8 1738.96,1379.81 1739.47,1379.81 1739.97,1379.81 1740.48,1379.82 1740.98,1379.82 1741.49,1379.82 \n",
       "  1741.99,1379.82 1742.5,1379.83 1743,1379.83 1743.51,1379.83 1744.01,1379.83 1744.52,1379.84 1745.03,1379.84 1745.53,1379.84 1746.04,1379.85 1746.54,1379.85 \n",
       "  1747.05,1379.85 1747.55,1379.85 1748.06,1379.86 1748.56,1379.86 1749.07,1379.86 1749.57,1379.87 1750.08,1379.87 1750.58,1379.87 1751.09,1379.87 1751.59,1379.88 \n",
       "  1752.1,1379.88 1752.6,1379.88 1753.11,1379.88 1753.61,1379.89 1754.12,1379.89 1754.62,1379.89 1755.13,1379.89 1755.63,1379.9 1756.14,1379.9 1756.64,1379.9 \n",
       "  1757.15,1379.9 1757.66,1379.91 1758.16,1379.91 1758.67,1379.91 1759.17,1379.92 1759.68,1379.92 1760.18,1379.92 1760.69,1379.92 1761.19,1379.92 1761.7,1379.93 \n",
       "  1762.2,1379.93 1762.71,1379.93 1763.21,1379.94 1763.72,1379.94 1764.22,1379.94 1764.73,1379.94 1765.23,1379.95 1765.74,1379.95 1766.24,1379.95 1766.75,1379.95 \n",
       "  1767.25,1379.95 1767.76,1379.96 1768.26,1379.96 1768.77,1379.96 1769.27,1379.96 1769.78,1379.97 1770.28,1379.97 1770.79,1379.97 1771.3,1379.97 1771.8,1379.98 \n",
       "  1772.31,1379.98 1772.81,1379.98 1773.32,1379.98 1773.82,1379.99 1774.33,1379.99 1774.83,1379.99 1775.34,1379.99 1775.84,1380 1776.35,1380 1776.85,1380 \n",
       "  1777.36,1380 1777.86,1380 1778.37,1380.01 1778.87,1380.01 1779.38,1380.01 1779.88,1380.01 1780.39,1380.02 1780.89,1380.02 1781.4,1380.02 1781.9,1380.02 \n",
       "  1782.41,1380.03 1782.91,1380.03 1783.42,1380.03 1783.93,1380.03 1784.43,1380.04 1784.94,1380.04 1785.44,1380.04 1785.95,1380.04 1786.45,1380.04 1786.96,1380.05 \n",
       "  1787.46,1380.05 1787.97,1380.05 1788.47,1380.05 1788.98,1380.06 1789.48,1380.06 1789.99,1380.06 1790.49,1380.07 1791,1380.07 1791.5,1380.07 1792.01,1380.07 \n",
       "  1792.51,1380.08 1793.02,1380.08 1793.52,1380.09 1794.03,1380.09 1794.53,1380.1 1795.04,1380.1 1795.54,1380.11 1796.05,1380.12 1796.55,1380.14 1797.06,1380.16 \n",
       "  1797.57,1380.18 1798.07,1380.21 1798.58,1380.24 1799.08,1380.27 1799.59,1380.3 1800.09,1380.32 1800.6,1380.35 1801.1,1380.36 1801.61,1380.38 1802.11,1380.39 \n",
       "  1802.62,1380.4 1803.12,1380.41 1803.63,1380.42 1804.13,1380.42 1804.64,1380.43 1805.14,1380.44 1805.65,1380.44 1806.15,1380.45 1806.66,1380.45 1807.16,1380.45 \n",
       "  1807.67,1380.46 1808.17,1380.46 1808.68,1380.47 1809.18,1380.47 1809.69,1380.47 1810.2,1380.48 1810.7,1380.48 1811.21,1380.48 1811.71,1380.49 1812.22,1380.49 \n",
       "  1812.72,1380.49 1813.23,1380.49 1813.73,1380.5 1814.24,1380.5 1814.74,1380.5 1815.25,1380.5 1815.75,1380.51 1816.26,1380.51 1816.76,1380.51 1817.27,1380.52 \n",
       "  1817.77,1380.52 1818.28,1380.52 1818.78,1380.52 1819.29,1380.53 1819.79,1380.53 1820.3,1380.53 1820.8,1380.53 1821.31,1380.54 1821.81,1380.54 1822.32,1380.54 \n",
       "  1822.82,1380.54 1823.33,1380.54 1823.84,1380.55 1824.34,1380.55 1824.85,1380.55 1825.35,1380.55 1825.86,1380.56 1826.36,1380.56 1826.87,1380.56 1827.37,1380.56 \n",
       "  1827.88,1380.56 1828.38,1380.57 1828.89,1380.57 1829.39,1380.57 1829.9,1380.57 1830.4,1380.57 1830.91,1380.58 1831.41,1380.58 1831.92,1380.58 1832.42,1380.58 \n",
       "  1832.93,1380.58 1833.43,1380.59 1833.94,1380.59 1834.44,1380.59 1834.95,1380.59 1835.45,1380.59 1835.96,1380.6 1836.47,1380.6 1836.97,1380.6 1837.48,1380.6 \n",
       "  1837.98,1380.6 1838.49,1380.61 1838.99,1380.61 1839.5,1380.61 1840,1380.61 1840.51,1380.61 1841.01,1380.62 1841.52,1380.62 1842.02,1380.62 1842.53,1380.62 \n",
       "  1843.03,1380.62 1843.54,1380.63 1844.04,1380.63 1844.55,1380.63 1845.05,1380.63 1845.56,1380.63 1846.06,1380.63 1846.57,1380.64 1847.07,1380.64 1847.58,1380.64 \n",
       "  1848.08,1380.64 1848.59,1380.64 1849.09,1380.65 1849.6,1380.65 1850.11,1380.65 1850.61,1380.65 1851.12,1380.65 1851.62,1380.65 1852.13,1380.66 1852.63,1380.66 \n",
       "  1853.14,1380.66 1853.64,1380.66 1854.15,1380.66 1854.65,1380.66 1855.16,1380.67 1855.66,1380.67 1856.17,1380.67 1856.67,1380.67 1857.18,1380.67 1857.68,1380.67 \n",
       "  1858.19,1380.68 1858.69,1380.68 1859.2,1380.68 1859.7,1380.68 1860.21,1380.68 1860.71,1380.68 1861.22,1380.69 1861.72,1380.69 1862.23,1380.69 1862.74,1380.69 \n",
       "  1863.24,1380.69 1863.75,1380.69 1864.25,1380.7 1864.76,1380.7 1865.26,1380.7 1865.77,1380.7 1866.27,1380.7 1866.78,1380.7 1867.28,1380.71 1867.79,1380.71 \n",
       "  1868.29,1380.71 1868.8,1380.71 1869.3,1380.71 1869.81,1380.71 1870.31,1380.72 1870.82,1380.72 1871.32,1380.72 1871.83,1380.72 1872.33,1380.72 1872.84,1380.72 \n",
       "  1873.34,1380.72 1873.85,1380.73 1874.35,1380.73 1874.86,1380.73 1875.36,1380.73 1875.87,1380.73 1876.38,1380.73 1876.88,1380.74 1877.39,1380.74 1877.89,1380.74 \n",
       "  1878.4,1380.74 1878.9,1380.74 1879.41,1380.74 1879.91,1380.74 1880.42,1380.75 1880.92,1380.75 1881.43,1380.75 1881.93,1380.75 1882.44,1380.75 1882.94,1380.75 \n",
       "  1883.45,1380.75 1883.95,1380.76 1884.46,1380.76 1884.96,1380.76 1885.47,1380.76 1885.97,1380.76 1886.48,1380.76 1886.98,1380.76 1887.49,1380.77 1887.99,1380.77 \n",
       "  1888.5,1380.77 1889.01,1380.77 1889.51,1380.77 1890.02,1380.77 1890.52,1380.77 1891.03,1380.78 1891.53,1380.78 1892.04,1380.78 1892.54,1380.78 1893.05,1380.78 \n",
       "  1893.55,1380.78 1894.06,1380.78 1894.56,1380.79 1895.07,1380.79 1895.57,1380.79 1896.08,1380.79 1896.58,1380.79 1897.09,1380.79 1897.59,1380.79 1898.1,1380.79 \n",
       "  1898.6,1380.8 1899.11,1380.8 1899.61,1380.8 1900.12,1380.8 1900.62,1380.8 1901.13,1380.8 1901.63,1380.8 1902.14,1380.81 1902.65,1380.81 1903.15,1380.81 \n",
       "  1903.66,1380.81 1904.16,1380.81 1904.67,1380.81 1905.17,1380.81 1905.68,1380.82 1906.18,1380.82 1906.69,1380.82 1907.19,1380.82 1907.7,1380.82 1908.2,1380.82 \n",
       "  1908.71,1380.82 1909.21,1380.82 1909.72,1380.83 1910.22,1380.83 1910.73,1380.83 1911.23,1380.83 1911.74,1380.83 1912.24,1380.83 1912.75,1380.83 1913.25,1380.83 \n",
       "  1913.76,1380.84 1914.26,1380.84 1914.77,1380.84 1915.27,1380.84 1915.78,1380.84 1916.29,1380.84 1916.79,1380.84 1917.3,1380.85 1917.8,1380.85 1918.31,1380.85 \n",
       "  1918.81,1380.85 1919.32,1380.85 1919.82,1380.85 1920.33,1380.85 1920.83,1380.86 1921.34,1380.86 1921.84,1380.86 1922.35,1380.86 1922.85,1380.86 1923.36,1380.86 \n",
       "  1923.86,1380.86 1924.37,1380.87 1924.87,1380.87 1925.38,1380.87 1925.88,1380.87 1926.39,1380.87 1926.89,1380.87 1927.4,1380.88 1927.9,1380.88 1928.41,1380.88 \n",
       "  1928.92,1380.88 1929.42,1380.89 1929.93,1380.89 1930.43,1380.9 1930.94,1380.9 1931.44,1380.91 1931.95,1380.92 1932.45,1380.94 1932.96,1380.96 1933.46,1380.98 \n",
       "  1933.97,1381.02 1934.47,1381.06 1934.98,1381.11 1935.48,1381.16 1935.99,1381.21 1936.49,1381.26 1937,1381.3 1937.5,1381.34 1938.01,1381.37 1938.51,1381.4 \n",
       "  1939.02,1381.42 1939.52,1381.44 1940.03,1381.46 1940.53,1381.47 1941.04,1381.48 1941.54,1381.49 1942.05,1381.5 1942.56,1381.51 1943.06,1381.52 1943.57,1381.53 \n",
       "  1944.07,1381.53 1944.58,1381.54 1945.08,1381.54 1945.59,1381.55 1946.09,1381.55 1946.6,1381.56 1947.1,1381.56 1947.61,1381.56 1948.11,1381.57 1948.62,1381.57 \n",
       "  1949.12,1381.57 1949.63,1381.58 1950.13,1381.58 1950.64,1381.58 1951.14,1381.58 1951.65,1381.59 1952.15,1381.59 1952.66,1381.59 1953.16,1381.59 1953.67,1381.6 \n",
       "  1954.17,1381.6 1954.68,1381.6 1955.19,1381.6 1955.69,1381.61 1956.2,1381.61 1956.7,1381.61 1957.21,1381.61 1957.71,1381.61 1958.22,1381.62 1958.72,1381.62 \n",
       "  1959.23,1381.62 1959.73,1381.62 1960.24,1381.62 1960.74,1381.62 1961.25,1381.62 1961.75,1381.63 1962.26,1381.63 1962.76,1381.63 1963.27,1381.63 1963.77,1381.63 \n",
       "  1964.28,1381.63 1964.78,1381.64 1965.29,1381.64 1965.79,1381.64 1966.3,1381.64 1966.8,1381.64 1967.31,1381.64 1967.81,1381.64 1968.32,1381.65 1968.83,1381.65 \n",
       "  1969.33,1381.65 1969.84,1381.65 1970.34,1381.65 1970.85,1381.65 1971.35,1381.65 1971.86,1381.66 1972.36,1381.66 1972.87,1381.66 1973.37,1381.66 1973.88,1381.66 \n",
       "  1974.38,1381.66 1974.89,1381.66 1975.39,1381.67 1975.9,1381.67 1976.4,1381.67 1976.91,1381.67 1977.41,1381.67 1977.92,1381.67 1978.42,1381.67 1978.93,1381.67 \n",
       "  1979.43,1381.68 1979.94,1381.68 1980.44,1381.68 1980.95,1381.68 1981.46,1381.68 1981.96,1381.68 1982.47,1381.68 1982.97,1381.68 1983.48,1381.69 1983.98,1381.69 \n",
       "  1984.49,1381.69 1984.99,1381.69 1985.5,1381.69 1986,1381.69 1986.51,1381.7 1987.01,1381.7 1987.52,1381.7 1988.02,1381.71 1988.53,1381.71 1989.03,1381.73 \n",
       "  1989.54,1381.74 1990.04,1381.78 1990.55,1381.82 1991.05,1381.88 1991.56,1381.94 1992.06,1381.99 1992.57,1382.02 1993.07,1382.05 1993.58,1382.06 1994.08,1382.07 \n",
       "  1994.59,1382.08 1995.1,1382.09 1995.6,1382.09 1996.11,1382.1 1996.61,1382.1 1997.12,1382.11 1997.62,1382.11 1998.13,1382.11 1998.63,1382.12 1999.14,1382.12 \n",
       "  1999.64,1382.12 2000.15,1382.12 2000.65,1382.13 2001.16,1382.13 2001.66,1382.13 2002.17,1382.13 2002.67,1382.13 2003.18,1382.14 2003.68,1382.14 2004.19,1382.14 \n",
       "  2004.69,1382.14 2005.2,1382.14 2005.7,1382.14 2006.21,1382.15 2006.71,1382.15 2007.22,1382.15 2007.73,1382.15 2008.23,1382.15 2008.74,1382.15 2009.24,1382.15 \n",
       "  2009.75,1382.16 2010.25,1382.16 2010.76,1382.16 2011.26,1382.16 2011.77,1382.16 2012.27,1382.16 2012.78,1382.16 2013.28,1382.17 2013.79,1382.17 2014.29,1382.17 \n",
       "  2014.8,1382.17 2015.3,1382.17 2015.81,1382.17 2016.31,1382.17 2016.82,1382.17 2017.32,1382.18 2017.83,1382.18 2018.33,1382.18 2018.84,1382.18 2019.34,1382.18 \n",
       "  2019.85,1382.18 2020.35,1382.18 2020.86,1382.18 2021.37,1382.19 2021.87,1382.19 2022.38,1382.19 2022.88,1382.19 2023.39,1382.19 2023.89,1382.19 2024.4,1382.19 \n",
       "  2024.9,1382.19 2025.41,1382.2 2025.91,1382.2 2026.42,1382.2 2026.92,1382.2 2027.43,1382.2 2027.93,1382.21 2028.44,1382.21 2028.94,1382.21 2029.45,1382.22 \n",
       "  2029.95,1382.23 2030.46,1382.23 2030.96,1382.24 2031.47,1382.25 2031.97,1382.26 2032.48,1382.27 2032.98,1382.28 2033.49,1382.29 2034,1382.3 2034.5,1382.31 \n",
       "  2035.01,1382.32 2035.51,1382.33 2036.02,1382.34 2036.52,1382.35 2037.03,1382.36 2037.53,1382.37 2038.04,1382.38 2038.54,1382.38 2039.05,1382.39 2039.55,1382.4 \n",
       "  2040.06,1382.4 2040.56,1382.41 2041.07,1382.41 2041.57,1382.42 2042.08,1382.43 2042.58,1382.43 2043.09,1382.43 2043.59,1382.44 2044.1,1382.44 2044.6,1382.45 \n",
       "  2045.11,1382.45 2045.61,1382.46 2046.12,1382.46 2046.62,1382.46 2047.13,1382.47 2047.64,1382.47 2048.14,1382.47 2048.65,1382.48 2049.15,1382.48 2049.66,1382.48 \n",
       "  2050.16,1382.48 2050.67,1382.49 2051.17,1382.49 2051.68,1382.49 2052.18,1382.5 2052.69,1382.5 2053.19,1382.5 2053.7,1382.5 2054.2,1382.51 2054.71,1382.51 \n",
       "  2055.21,1382.51 2055.72,1382.51 2056.22,1382.52 2056.73,1382.52 2057.23,1382.52 2057.74,1382.52 2058.24,1382.53 2058.75,1382.53 2059.25,1382.53 2059.76,1382.54 \n",
       "  2060.27,1382.54 2060.77,1382.54 2061.28,1382.55 2061.78,1382.55 2062.29,1382.56 2062.79,1382.57 2063.3,1382.58 2063.8,1382.59 2064.31,1382.6 2064.81,1382.61 \n",
       "  2065.32,1382.63 2065.82,1382.64 2066.33,1382.66 2066.83,1382.67 2067.34,1382.68 2067.84,1382.7 2068.35,1382.71 2068.85,1382.72 2069.36,1382.73 2069.86,1382.73 \n",
       "  2070.37,1382.74 2070.87,1382.74 2071.38,1382.75 2071.88,1382.75 2072.39,1382.76 2072.89,1382.76 2073.4,1382.77 2073.91,1382.77 2074.41,1382.77 2074.92,1382.78 \n",
       "  2075.42,1382.78 2075.93,1382.78 2076.43,1382.78 2076.94,1382.79 2077.44,1382.79 2077.95,1382.79 2078.45,1382.79 2078.96,1382.8 2079.46,1382.8 2079.97,1382.8 \n",
       "  2080.47,1382.8 2080.98,1382.8 2081.48,1382.81 2081.99,1382.81 2082.49,1382.81 2083,1382.81 2083.5,1382.81 2084.01,1382.81 2084.51,1382.82 2085.02,1382.82 \n",
       "  2085.52,1382.82 2086.03,1382.82 2086.54,1382.82 2087.04,1382.82 2087.55,1382.83 2088.05,1382.83 2088.56,1382.83 2089.06,1382.83 2089.57,1382.83 2090.07,1382.83 \n",
       "  2090.58,1382.83 2091.08,1382.84 2091.59,1382.84 2092.09,1382.84 2092.6,1382.84 2093.1,1382.84 2093.61,1382.84 2094.11,1382.84 2094.62,1382.85 2095.12,1382.85 \n",
       "  2095.63,1382.85 2096.13,1382.85 2096.64,1382.85 2097.14,1382.85 2097.65,1382.85 2098.15,1382.85 2098.66,1382.86 2099.16,1382.86 2099.67,1382.86 2100.18,1382.86 \n",
       "  2100.68,1382.86 2101.19,1382.86 2101.69,1382.86 2102.2,1382.86 2102.7,1382.87 2103.21,1382.87 2103.71,1382.87 2104.22,1382.87 2104.72,1382.87 2105.23,1382.87 \n",
       "  2105.73,1382.87 2106.24,1382.87 2106.74,1382.87 2107.25,1382.88 2107.75,1382.88 2108.26,1382.88 2108.76,1382.88 2109.27,1382.88 2109.77,1382.88 2110.28,1382.88 \n",
       "  2110.78,1382.88 2111.29,1382.88 2111.79,1382.89 2112.3,1382.89 2112.8,1382.89 2113.31,1382.89 2113.82,1382.89 2114.32,1382.89 2114.83,1382.89 2115.33,1382.89 \n",
       "  2115.84,1382.89 2116.34,1382.9 2116.85,1382.9 2117.35,1382.9 2117.86,1382.9 2118.36,1382.9 2118.87,1382.9 2119.37,1382.9 2119.88,1382.9 2120.38,1382.9 \n",
       "  2120.89,1382.9 2121.39,1382.9 2121.9,1382.91 2122.4,1382.91 2122.91,1382.91 2123.41,1382.91 2123.92,1382.91 2124.42,1382.91 2124.93,1382.91 2125.43,1382.91 \n",
       "  2125.94,1382.91 2126.45,1382.91 2126.95,1382.91 2127.46,1382.92 2127.96,1382.92 2128.47,1382.92 2128.97,1382.92 2129.48,1382.92 2129.98,1382.92 2130.49,1382.92 \n",
       "  2130.99,1382.92 2131.5,1382.92 2132,1382.92 2132.51,1382.93 2133.01,1382.93 2133.52,1382.93 2134.02,1382.93 2134.53,1382.93 2135.03,1382.94 2135.54,1382.95 \n",
       "  2136.04,1382.96 2136.55,1382.98 2137.05,1383.01 2137.56,1383.05 2138.06,1383.09 2138.57,1383.13 2139.07,1383.16 2139.58,1383.18 2140.09,1383.2 2140.59,1383.22 \n",
       "  2141.1,1383.23 2141.6,1383.25 2142.11,1383.25 2142.61,1383.26 2143.12,1383.27 2143.62,1383.27 2144.13,1383.28 2144.63,1383.28 2145.14,1383.29 2145.64,1383.29 \n",
       "  2146.15,1383.3 2146.65,1383.3 2147.16,1383.3 2147.66,1383.3 2148.17,1383.31 2148.67,1383.31 2149.18,1383.31 2149.68,1383.31 2150.19,1383.32 2150.69,1383.32 \n",
       "  2151.2,1383.32 2151.7,1383.32 2152.21,1383.32 2152.72,1383.33 2153.22,1383.33 2153.73,1383.33 2154.23,1383.33 2154.74,1383.33 2155.24,1383.33 2155.75,1383.33 \n",
       "  2156.25,1383.33 2156.76,1383.34 2157.26,1383.34 2157.77,1383.34 2158.27,1383.34 2158.78,1383.34 2159.28,1383.34 2159.79,1383.34 2160.29,1383.34 2160.8,1383.34 \n",
       "  2161.3,1383.35 2161.81,1383.35 2162.31,1383.35 2162.82,1383.35 2163.32,1383.35 2163.83,1383.35 2164.33,1383.35 2164.84,1383.35 2165.34,1383.35 2165.85,1383.35 \n",
       "  2166.36,1383.35 2166.86,1383.36 2167.37,1383.36 2167.87,1383.36 2168.38,1383.36 2168.88,1383.36 2169.39,1383.36 2169.89,1383.36 2170.4,1383.36 2170.9,1383.36 \n",
       "  2171.41,1383.36 2171.91,1383.36 2172.42,1383.36 2172.92,1383.37 2173.43,1383.37 2173.93,1383.37 2174.44,1383.37 2174.94,1383.37 2175.45,1383.37 2175.95,1383.37 \n",
       "  2176.46,1383.37 2176.96,1383.37 2177.47,1383.37 2177.97,1383.37 2178.48,1383.37 2178.99,1383.37 2179.49,1383.37 2180,1383.38 2180.5,1383.38 2181.01,1383.38 \n",
       "  2181.51,1383.38 2182.02,1383.38 2182.52,1383.38 2183.03,1383.38 2183.53,1383.38 2184.04,1383.38 2184.54,1383.38 2185.05,1383.38 2185.55,1383.38 2186.06,1383.38 \n",
       "  2186.56,1383.38 2187.07,1383.38 2187.57,1383.39 2188.08,1383.39 2188.58,1383.39 2189.09,1383.39 2189.59,1383.39 2190.1,1383.39 2190.6,1383.39 2191.11,1383.39 \n",
       "  2191.61,1383.39 2192.12,1383.39 2192.63,1383.39 2193.13,1383.39 2193.64,1383.39 2194.14,1383.39 2194.65,1383.39 2195.15,1383.39 2195.66,1383.39 2196.16,1383.4 \n",
       "  2196.67,1383.4 2197.17,1383.4 2197.68,1383.4 2198.18,1383.4 2198.69,1383.4 2199.19,1383.4 2199.7,1383.4 2200.2,1383.4 2200.71,1383.4 2201.21,1383.4 \n",
       "  2201.72,1383.4 2202.22,1383.4 2202.73,1383.4 2203.23,1383.4 2203.74,1383.4 2204.24,1383.4 2204.75,1383.4 2205.26,1383.41 2205.76,1383.41 2206.27,1383.41 \n",
       "  2206.77,1383.41 2207.28,1383.41 2207.78,1383.41 2208.29,1383.41 2208.79,1383.41 2209.3,1383.41 2209.8,1383.41 2210.31,1383.41 2210.81,1383.41 2211.32,1383.41 \n",
       "  2211.82,1383.41 2212.33,1383.41 2212.83,1383.41 2213.34,1383.41 2213.84,1383.41 2214.35,1383.42 2214.85,1383.42 2215.36,1383.42 2215.86,1383.42 2216.37,1383.42 \n",
       "  2216.87,1383.42 2217.38,1383.42 2217.88,1383.42 2218.39,1383.42 2218.9,1383.42 2219.4,1383.42 2219.91,1383.42 2220.41,1383.42 2220.92,1383.42 2221.42,1383.43 \n",
       "  2221.93,1383.43 2222.43,1383.43 2222.94,1383.44 2223.44,1383.45 2223.95,1383.48 2224.45,1383.52 2224.96,1383.57 2225.46,1383.59 2225.97,1383.61 2226.47,1383.62 \n",
       "  2226.98,1383.62 2227.48,1383.63 2227.99,1383.63 2228.49,1383.63 2229,1383.64 2229.5,1383.64 2230.01,1383.64 2230.51,1383.64 2231.02,1383.64 2231.53,1383.64 \n",
       "  2232.03,1383.65 2232.54,1383.65 2233.04,1383.65 2233.55,1383.65 2234.05,1383.65 2234.56,1383.65 2235.06,1383.65 2235.57,1383.65 2236.07,1383.65 2236.58,1383.65 \n",
       "  2237.08,1383.65 2237.59,1383.65 2238.09,1383.66 2238.6,1383.66 2239.1,1383.66 2239.61,1383.66 2240.11,1383.66 2240.62,1383.66 2241.12,1383.66 2241.63,1383.66 \n",
       "  2242.13,1383.66 2242.64,1383.66 2243.14,1383.66 2243.65,1383.66 2244.15,1383.66 2244.66,1383.66 2245.17,1383.66 2245.67,1383.66 2246.18,1383.67 2246.68,1383.67 \n",
       "  2247.19,1383.67 2247.69,1383.67 2248.2,1383.67 2248.7,1383.67 2249.21,1383.67 2249.71,1383.67 2250.22,1383.67 2250.72,1383.67 2251.23,1383.67 2251.73,1383.67 \n",
       "  2252.24,1383.67 2252.74,1383.67 2253.25,1383.67 2253.75,1383.67 2254.26,1383.67 2254.76,1383.67 2255.27,1383.67 2255.77,1383.67 2256.28,1383.67 2256.78,1383.67 \n",
       "  2257.29,1383.68 2257.8,1383.68 2258.3,1383.68 2258.81,1383.68 2259.31,1383.68 2259.82,1383.68 2260.32,1383.68 2260.83,1383.68 2261.33,1383.68 2261.84,1383.68 \n",
       "  2262.34,1383.68 2262.85,1383.68 2263.35,1383.68 2263.86,1383.68 2264.36,1383.69 2264.87,1383.69 2265.37,1383.71 2265.88,1383.74 2266.38,1383.81 2266.89,1383.88 \n",
       "  2267.39,1383.93 2267.9,1383.96 2268.4,1383.97 2268.91,1383.98 2269.41,1383.99 2269.92,1384 2270.42,1384 2270.93,1384 2271.44,1384 2271.94,1384.01 \n",
       "  2272.45,1384.01 2272.95,1384.01 2273.46,1384.01 2273.96,1384.02 2274.47,1384.02 2274.97,1384.02 2275.48,1384.02 2275.98,1384.03 2276.49,1384.03 2276.99,1384.04 \n",
       "  2277.5,1384.04 2278,1384.05 2278.51,1384.06 2279.01,1384.07 2279.52,1384.08 2280.02,1384.09 2280.53,1384.1 2281.03,1384.11 2281.54,1384.12 2282.04,1384.13 \n",
       "  2282.55,1384.14 2283.05,1384.15 2283.56,1384.16 2284.06,1384.16 2284.57,1384.17 2285.08,1384.18 2285.58,1384.19 2286.09,1384.19 2286.59,1384.2 2287.1,1384.2 \n",
       "  2287.6,1384.21 2288.11,1384.21 2288.61,1384.22 2289.12,1384.22 2289.62,1384.23 2290.13,1384.23 2290.63,1384.23 2291.14,1384.23 2291.64,1384.24 2292.15,1384.24 \n",
       "  \n",
       "  \"/>\n",
       "<path clip-path=\"url(#clip940)\" d=\"\n",
       "M1844.1 274.549 L2281.37 274.549 L2281.37 93.1086 L1844.1 93.1086  Z\n",
       "  \" fill=\"#ffffff\" fill-rule=\"evenodd\" fill-opacity=\"1\"/>\n",
       "<polyline clip-path=\"url(#clip940)\" style=\"stroke:#000000; stroke-width:4; stroke-opacity:1; fill:none\" points=\"\n",
       "  1844.1,274.549 2281.37,274.549 2281.37,93.1086 1844.1,93.1086 1844.1,274.549 \n",
       "  \"/>\n",
       "<polyline clip-path=\"url(#clip940)\" style=\"stroke:#009af9; stroke-width:4; stroke-opacity:1; fill:none\" points=\"\n",
       "  1867.9,153.589 2010.66,153.589 \n",
       "  \"/>\n",
       "<path clip-path=\"url(#clip940)\" d=\"M 0 0 M2047.65 170.869 L2034.46 136.309 L2039.34 136.309 L2050.29 165.406 L2061.26 136.309 L2066.12 136.309 L2052.95 170.869 L2047.65 170.869 Z\" fill=\"#000000\" fill-rule=\"evenodd\" fill-opacity=\"1\" /><path clip-path=\"url(#clip940)\" d=\"M 0 0 M2078.69 157.836 Q2073.53 157.836 2071.54 159.017 Q2069.55 160.197 2069.55 163.045 Q2069.55 165.313 2071.03 166.656 Q2072.54 167.975 2075.11 167.975 Q2078.65 167.975 2080.78 165.475 Q2082.93 162.952 2082.93 158.785 L2082.93 157.836 L2078.69 157.836 M2087.19 156.077 L2087.19 170.869 L2082.93 170.869 L2082.93 166.933 Q2081.47 169.295 2079.3 170.429 Q2077.12 171.54 2073.97 171.54 Q2069.99 171.54 2067.63 169.318 Q2065.29 167.072 2065.29 163.322 Q2065.29 158.947 2068.21 156.725 Q2071.15 154.503 2076.96 154.503 L2082.93 154.503 L2082.93 154.086 Q2082.93 151.147 2080.98 149.549 Q2079.06 147.929 2075.57 147.929 Q2073.35 147.929 2071.24 148.461 Q2069.13 148.994 2067.19 150.059 L2067.19 146.123 Q2069.53 145.221 2071.73 144.781 Q2073.92 144.318 2076.01 144.318 Q2081.63 144.318 2084.41 147.234 Q2087.19 150.151 2087.19 156.077 Z\" fill=\"#000000\" fill-rule=\"evenodd\" fill-opacity=\"1\" /><path clip-path=\"url(#clip940)\" d=\"M 0 0 M2091.66 134.85 L2095.92 134.85 L2095.92 170.869 L2091.66 170.869 L2091.66 134.85 Z\" fill=\"#000000\" fill-rule=\"evenodd\" fill-opacity=\"1\" /><path clip-path=\"url(#clip940)\" d=\"M 0 0 M2100.38 144.943 L2104.64 144.943 L2104.64 170.869 L2100.38 170.869 L2100.38 144.943 M2100.38 134.85 L2104.64 134.85 L2104.64 140.244 L2100.38 140.244 L2100.38 134.85 Z\" fill=\"#000000\" fill-rule=\"evenodd\" fill-opacity=\"1\" /><path clip-path=\"url(#clip940)\" d=\"M 0 0 M2126.17 148.878 L2126.17 134.85 L2130.43 134.85 L2130.43 170.869 L2126.17 170.869 L2126.17 166.98 Q2124.83 169.295 2122.77 170.429 Q2120.73 171.54 2117.86 171.54 Q2113.16 171.54 2110.2 167.79 Q2107.26 164.04 2107.26 157.929 Q2107.26 151.818 2110.2 148.068 Q2113.16 144.318 2117.86 144.318 Q2120.73 144.318 2122.77 145.452 Q2124.83 146.563 2126.17 148.878 M2111.66 157.929 Q2111.66 162.628 2113.58 165.313 Q2115.52 167.975 2118.9 167.975 Q2122.28 167.975 2124.23 165.313 Q2126.17 162.628 2126.17 157.929 Q2126.17 153.23 2124.23 150.568 Q2122.28 147.883 2118.9 147.883 Q2115.52 147.883 2113.58 150.568 Q2111.66 153.23 2111.66 157.929 Z\" fill=\"#000000\" fill-rule=\"evenodd\" fill-opacity=\"1\" /><path clip-path=\"url(#clip940)\" d=\"M 0 0 M2146.68 157.836 Q2141.52 157.836 2139.53 159.017 Q2137.54 160.197 2137.54 163.045 Q2137.54 165.313 2139.02 166.656 Q2140.52 167.975 2143.09 167.975 Q2146.63 167.975 2148.76 165.475 Q2150.92 162.952 2150.92 158.785 L2150.92 157.836 L2146.68 157.836 M2155.17 156.077 L2155.17 170.869 L2150.92 170.869 L2150.92 166.933 Q2149.46 169.295 2147.28 170.429 Q2145.1 171.54 2141.96 171.54 Q2137.98 171.54 2135.61 169.318 Q2133.28 167.072 2133.28 163.322 Q2133.28 158.947 2136.19 156.725 Q2139.13 154.503 2144.94 154.503 L2150.92 154.503 L2150.92 154.086 Q2150.92 151.147 2148.97 149.549 Q2147.05 147.929 2143.55 147.929 Q2141.33 147.929 2139.23 148.461 Q2137.12 148.994 2135.17 150.059 L2135.17 146.123 Q2137.51 145.221 2139.71 144.781 Q2141.91 144.318 2143.99 144.318 Q2149.62 144.318 2152.4 147.234 Q2155.17 150.151 2155.17 156.077 Z\" fill=\"#000000\" fill-rule=\"evenodd\" fill-opacity=\"1\" /><path clip-path=\"url(#clip940)\" d=\"M 0 0 M2163.85 137.582 L2163.85 144.943 L2172.63 144.943 L2172.63 148.253 L2163.85 148.253 L2163.85 162.327 Q2163.85 165.498 2164.71 166.401 Q2165.59 167.304 2168.25 167.304 L2172.63 167.304 L2172.63 170.869 L2168.25 170.869 Q2163.32 170.869 2161.45 169.04 Q2159.57 167.188 2159.57 162.327 L2159.57 148.253 L2156.45 148.253 L2156.45 144.943 L2159.57 144.943 L2159.57 137.582 L2163.85 137.582 Z\" fill=\"#000000\" fill-rule=\"evenodd\" fill-opacity=\"1\" /><path clip-path=\"url(#clip940)\" d=\"M 0 0 M2177.1 144.943 L2181.35 144.943 L2181.35 170.869 L2177.1 170.869 L2177.1 144.943 M2177.1 134.85 L2181.35 134.85 L2181.35 140.244 L2177.1 140.244 L2177.1 134.85 Z\" fill=\"#000000\" fill-rule=\"evenodd\" fill-opacity=\"1\" /><path clip-path=\"url(#clip940)\" d=\"M 0 0 M2195.87 147.929 Q2192.44 147.929 2190.45 150.614 Q2188.46 153.276 2188.46 157.929 Q2188.46 162.582 2190.43 165.267 Q2192.42 167.929 2195.87 167.929 Q2199.27 167.929 2201.26 165.244 Q2203.25 162.558 2203.25 157.929 Q2203.25 153.322 2201.26 150.637 Q2199.27 147.929 2195.87 147.929 M2195.87 144.318 Q2201.42 144.318 2204.6 147.929 Q2207.77 151.54 2207.77 157.929 Q2207.77 164.295 2204.6 167.929 Q2201.42 171.54 2195.87 171.54 Q2190.29 171.54 2187.12 167.929 Q2183.97 164.295 2183.97 157.929 Q2183.97 151.54 2187.12 147.929 Q2190.29 144.318 2195.87 144.318 Z\" fill=\"#000000\" fill-rule=\"evenodd\" fill-opacity=\"1\" /><path clip-path=\"url(#clip940)\" d=\"M 0 0 M2233.78 155.221 L2233.78 170.869 L2229.53 170.869 L2229.53 155.359 Q2229.53 151.679 2228.09 149.85 Q2226.66 148.022 2223.78 148.022 Q2220.34 148.022 2218.35 150.221 Q2216.35 152.42 2216.35 156.216 L2216.35 170.869 L2212.07 170.869 L2212.07 144.943 L2216.35 144.943 L2216.35 148.971 Q2217.88 146.633 2219.94 145.475 Q2222.03 144.318 2224.73 144.318 Q2229.2 144.318 2231.49 147.096 Q2233.78 149.85 2233.78 155.221 Z\" fill=\"#000000\" fill-rule=\"evenodd\" fill-opacity=\"1\" /><polyline clip-path=\"url(#clip940)\" style=\"stroke:#e26f46; stroke-width:4; stroke-opacity:1; fill:none\" points=\"\n",
       "  1867.9,214.069 2010.66,214.069 \n",
       "  \"/>\n",
       "<path clip-path=\"url(#clip940)\" d=\"M 0 0 M2034.46 196.789 L2063.69 196.789 L2063.69 200.724 L2051.42 200.724 L2051.42 231.349 L2046.73 231.349 L2046.73 200.724 L2034.46 200.724 L2034.46 196.789 Z\" fill=\"#000000\" fill-rule=\"evenodd\" fill-opacity=\"1\" /><path clip-path=\"url(#clip940)\" d=\"M 0 0 M2076.22 209.404 Q2075.5 208.988 2074.64 208.802 Q2073.81 208.594 2072.79 208.594 Q2069.18 208.594 2067.23 210.955 Q2065.31 213.293 2065.31 217.691 L2065.31 231.349 L2061.03 231.349 L2061.03 205.423 L2065.31 205.423 L2065.31 209.451 Q2066.66 207.089 2068.81 205.955 Q2070.96 204.798 2074.04 204.798 Q2074.48 204.798 2075.01 204.867 Q2075.55 204.914 2076.19 205.029 L2076.22 209.404 Z\" fill=\"#000000\" fill-rule=\"evenodd\" fill-opacity=\"1\" /><path clip-path=\"url(#clip940)\" d=\"M 0 0 M2092.47 218.316 Q2087.3 218.316 2085.31 219.497 Q2083.32 220.677 2083.32 223.525 Q2083.32 225.793 2084.8 227.136 Q2086.31 228.455 2088.88 228.455 Q2092.42 228.455 2094.55 225.955 Q2096.7 223.432 2096.7 219.265 L2096.7 218.316 L2092.47 218.316 M2100.96 216.557 L2100.96 231.349 L2096.7 231.349 L2096.7 227.413 Q2095.24 229.775 2093.07 230.909 Q2090.89 232.02 2087.74 232.02 Q2083.76 232.02 2081.4 229.798 Q2079.06 227.552 2079.06 223.802 Q2079.06 219.427 2081.98 217.205 Q2084.92 214.983 2090.73 214.983 L2096.7 214.983 L2096.7 214.566 Q2096.7 211.627 2094.76 210.029 Q2092.84 208.409 2089.34 208.409 Q2087.12 208.409 2085.01 208.941 Q2082.91 209.474 2080.96 210.539 L2080.96 206.603 Q2083.3 205.701 2085.5 205.261 Q2087.7 204.798 2089.78 204.798 Q2095.41 204.798 2098.18 207.714 Q2100.96 210.631 2100.96 216.557 Z\" fill=\"#000000\" fill-rule=\"evenodd\" fill-opacity=\"1\" /><path clip-path=\"url(#clip940)\" d=\"M 0 0 M2105.43 205.423 L2109.69 205.423 L2109.69 231.349 L2105.43 231.349 L2105.43 205.423 M2105.43 195.33 L2109.69 195.33 L2109.69 200.724 L2105.43 200.724 L2105.43 195.33 Z\" fill=\"#000000\" fill-rule=\"evenodd\" fill-opacity=\"1\" /><path clip-path=\"url(#clip940)\" d=\"M 0 0 M2135.71 215.701 L2135.71 231.349 L2131.45 231.349 L2131.45 215.839 Q2131.45 212.159 2130.01 210.33 Q2128.58 208.502 2125.71 208.502 Q2122.26 208.502 2120.27 210.701 Q2118.28 212.9 2118.28 216.696 L2118.28 231.349 L2113.99 231.349 L2113.99 205.423 L2118.28 205.423 L2118.28 209.451 Q2119.8 207.113 2121.86 205.955 Q2123.95 204.798 2126.66 204.798 Q2131.12 204.798 2133.42 207.576 Q2135.71 210.33 2135.71 215.701 Z\" fill=\"#000000\" fill-rule=\"evenodd\" fill-opacity=\"1\" /><path clip-path=\"url(#clip940)\" d=\"M 0 0 M2140.17 205.423 L2144.43 205.423 L2144.43 231.349 L2140.17 231.349 L2140.17 205.423 M2140.17 195.33 L2144.43 195.33 L2144.43 200.724 L2140.17 200.724 L2140.17 195.33 Z\" fill=\"#000000\" fill-rule=\"evenodd\" fill-opacity=\"1\" /><path clip-path=\"url(#clip940)\" d=\"M 0 0 M2170.45 215.701 L2170.45 231.349 L2166.19 231.349 L2166.19 215.839 Q2166.19 212.159 2164.76 210.33 Q2163.32 208.502 2160.45 208.502 Q2157 208.502 2155.01 210.701 Q2153.02 212.9 2153.02 216.696 L2153.02 231.349 L2148.74 231.349 L2148.74 205.423 L2153.02 205.423 L2153.02 209.451 Q2154.55 207.113 2156.61 205.955 Q2158.69 204.798 2161.4 204.798 Q2165.87 204.798 2168.16 207.576 Q2170.45 210.33 2170.45 215.701 Z\" fill=\"#000000\" fill-rule=\"evenodd\" fill-opacity=\"1\" /><path clip-path=\"url(#clip940)\" d=\"M 0 0 M2191.98 218.085 Q2191.98 213.455 2190.06 210.909 Q2188.16 208.363 2184.71 208.363 Q2181.29 208.363 2179.36 210.909 Q2177.47 213.455 2177.47 218.085 Q2177.47 222.691 2179.36 225.238 Q2181.29 227.784 2184.71 227.784 Q2188.16 227.784 2190.06 225.238 Q2191.98 222.691 2191.98 218.085 M2196.24 228.131 Q2196.24 234.751 2193.3 237.969 Q2190.36 241.21 2184.29 241.21 Q2182.05 241.21 2180.06 240.862 Q2178.07 240.538 2176.19 239.844 L2176.19 235.7 Q2178.07 236.719 2179.9 237.205 Q2181.73 237.691 2183.62 237.691 Q2187.81 237.691 2189.9 235.492 Q2191.98 233.316 2191.98 228.895 L2191.98 226.788 Q2190.66 229.08 2188.6 230.214 Q2186.54 231.349 2183.67 231.349 Q2178.9 231.349 2175.98 227.714 Q2173.07 224.08 2173.07 218.085 Q2173.07 212.066 2175.98 208.432 Q2178.9 204.798 2183.67 204.798 Q2186.54 204.798 2188.6 205.932 Q2190.66 207.066 2191.98 209.358 L2191.98 205.423 L2196.24 205.423 L2196.24 228.131 Z\" fill=\"#000000\" fill-rule=\"evenodd\" fill-opacity=\"1\" /></svg>\n"
      ]
     },
     "execution_count": 88,
     "metadata": {},
     "output_type": "execute_result"
    }
   ],
   "source": [
    "plot(curve.parameter_values,\n",
    "     curve.measurements,\n",
    "     xlab=curve.parameter_name,\n",
    "     ylab=\"Cross Entropy\",\n",
    "     label=\"Validation\", lw=2)\n",
    "plot!(Net.report.training_losses, label=\"Training\", lw=2)"
   ]
  },
  {
   "cell_type": "code",
   "execution_count": 89,
   "metadata": {},
   "outputs": [
    {
     "data": {
      "text/plain": [
       "3837"
      ]
     },
     "execution_count": 89,
     "metadata": {},
     "output_type": "execute_result"
    }
   ],
   "source": [
    "best_epochs = curve.parameter_values[argmin(curve.measurements)]"
   ]
  },
  {
   "cell_type": "code",
   "execution_count": 101,
   "metadata": {},
   "outputs": [],
   "source": [
    "png(\"Figures/learning_curve_nn_$(best_epochs)epochs_balance\")"
   ]
  },
  {
   "cell_type": "markdown",
   "metadata": {},
   "source": [
    "# Final Results"
   ]
  },
  {
   "cell_type": "code",
   "execution_count": 102,
   "metadata": {
    "scrolled": true
   },
   "outputs": [
    {
     "data": {
      "text/plain": [
       "NeuralNetworkClassifier(\n",
       "    builder = CustomNN(\n",
       "            n1 = 23),\n",
       "    finaliser = NNlib.softmax,\n",
       "    optimiser = ADAM(0.001, (0.9, 0.999), IdDict{Any,Any}()),\n",
       "    loss = Flux.crossentropy,\n",
       "    epochs = 10,\n",
       "    batch_size = 1,\n",
       "    lambda = 0.0,\n",
       "    alpha = 0.0,\n",
       "    optimiser_changes_trigger_retraining = false)\u001b[34m @410\u001b[39m"
      ]
     },
     "execution_count": 102,
     "metadata": {},
     "output_type": "execute_result"
    }
   ],
   "source": [
    "final_model = NeuralNetworkClassifier(builder=CustomNN(best_n1))"
   ]
  },
  {
   "cell_type": "code",
   "execution_count": 103,
   "metadata": {},
   "outputs": [
    {
     "data": {
      "text/plain": [
       "3837"
      ]
     },
     "execution_count": 103,
     "metadata": {},
     "output_type": "execute_result"
    }
   ],
   "source": [
    "final_model.optimiser.eta = lc_model.optimiser.eta = best_eta;\n",
    "final_model.batch_size = batch_sz\n",
    "final_model.lambda = best_lambda\n",
    "final_model.epochs = best_epochs"
   ]
  },
  {
   "cell_type": "markdown",
   "metadata": {},
   "source": [
    "### Test Performance"
   ]
  },
  {
   "cell_type": "code",
   "execution_count": 104,
   "metadata": {},
   "outputs": [
    {
     "data": {
      "text/plain": [
       "\u001b[34mMachine{NeuralNetworkClassifier{CustomNN,…}} @626\u001b[39m trained 0 times.\n",
       "  args: \n",
       "    1:\t\u001b[34mSource @753\u001b[39m ⏎ `Table{AbstractArray{Continuous,1}}`\n",
       "    2:\t\u001b[34mSource @732\u001b[39m ⏎ `AbstractArray{Multiclass{3},1}`\n"
      ]
     },
     "execution_count": 104,
     "metadata": {},
     "output_type": "execute_result"
    }
   ],
   "source": [
    "Final_Net = machine(final_model, X_stand, y)"
   ]
  },
  {
   "cell_type": "code",
   "execution_count": 105,
   "metadata": {
    "scrolled": false
   },
   "outputs": [
    {
     "name": "stderr",
     "output_type": "stream",
     "text": [
      "┌ Info: Training \u001b[34mMachine{NeuralNetworkClassifier{CustomNN,…}} @626\u001b[39m.\n",
      "└ @ MLJBase /home/andrew/.julia/packages/MLJBase/uKzAz/src/machines.jl:319\n",
      "\u001b[33mOptimising neural net:100%[=========================] Time: 0:02:45\u001b[39m\n"
     ]
    },
    {
     "data": {
      "text/plain": [
       "\u001b[34mMachine{NeuralNetworkClassifier{CustomNN,…}} @626\u001b[39m trained 1 time.\n",
       "  args: \n",
       "    1:\t\u001b[34mSource @753\u001b[39m ⏎ `Table{AbstractArray{Continuous,1}}`\n",
       "    2:\t\u001b[34mSource @732\u001b[39m ⏎ `AbstractArray{Multiclass{3},1}`\n"
      ]
     },
     "execution_count": 105,
     "metadata": {},
     "output_type": "execute_result"
    }
   ],
   "source": [
    "fit!(Final_Net, rows=train, force=true, verbosity=1)"
   ]
  },
  {
   "cell_type": "code",
   "execution_count": 106,
   "metadata": {},
   "outputs": [
    {
     "name": "stderr",
     "output_type": "stream",
     "text": [
      "\u001b[33mEvaluating over 6 folds: 100%[=========================] Time: 0:18:31\u001b[39m\n"
     ]
    },
    {
     "data": {
      "text/plain": [
       "┌\u001b[0m───────────────\u001b[0m┬\u001b[0m───────────────\u001b[0m┬\u001b[0m───────────────────────────────────────────────────\u001b[0m┐\u001b[0m\n",
       "│\u001b[0m\u001b[22m _.measure     \u001b[0m│\u001b[0m\u001b[22m _.measurement \u001b[0m│\u001b[0m\u001b[22m _.per_fold                                        \u001b[0m│\u001b[0m\n",
       "├\u001b[0m───────────────\u001b[0m┼\u001b[0m───────────────\u001b[0m┼\u001b[0m───────────────────────────────────────────────────\u001b[0m┤\u001b[0m\n",
       "│\u001b[0m cross_entropy \u001b[0m│\u001b[0m 0.661         \u001b[0m│\u001b[0m Float32[0.644, 0.663, 0.654, 0.653, 0.675, 0.676] \u001b[0m│\u001b[0m\n",
       "│\u001b[0m acc           \u001b[0m│\u001b[0m 0.885         \u001b[0m│\u001b[0m [0.906, 0.887, 0.889, 0.889, 0.864, 0.872]        \u001b[0m│\u001b[0m\n",
       "└\u001b[0m───────────────\u001b[0m┴\u001b[0m───────────────\u001b[0m┴\u001b[0m───────────────────────────────────────────────────\u001b[0m┘\u001b[0m\n",
       "_.per_observation = [[[0.551, 0.551, ..., 0.552], [0.551, 1.55, ..., 0.552], [1.03, 0.592, ..., 0.551], [0.551, 0.574, ..., 0.718], [0.862, 0.552, ..., 0.551], [1.55, 1.48, ..., 1.11]], missing]\n",
       "_.fitted_params_per_fold = [ … ]\n",
       "_.report_per_fold = [ … ]\n"
      ]
     },
     "execution_count": 106,
     "metadata": {},
     "output_type": "execute_result"
    }
   ],
   "source": [
    "nn_acc = evaluate!(Final_Net, resampling=CV(shuffle=true), measure=[cross_entropy, acc], verbosity=1)"
   ]
  },
  {
   "cell_type": "code",
   "execution_count": 107,
   "metadata": {},
   "outputs": [],
   "source": [
    "ŷ = MLJ.predict(Final_Net, X_stand[test,:]);"
   ]
  },
  {
   "cell_type": "code",
   "execution_count": 108,
   "metadata": {},
   "outputs": [
    {
     "data": {
      "text/plain": [
       "0.5739536f0"
      ]
     },
     "execution_count": 108,
     "metadata": {},
     "output_type": "execute_result"
    }
   ],
   "source": [
    "cross_entropy(ŷ, y[test]) |> mean"
   ]
  },
  {
   "cell_type": "code",
   "execution_count": 109,
   "metadata": {},
   "outputs": [
    {
     "data": {
      "text/plain": [
       "0.9738766980146291"
      ]
     },
     "execution_count": 109,
     "metadata": {},
     "output_type": "execute_result"
    }
   ],
   "source": [
    "acc(ŷ, y[test])"
   ]
  },
  {
   "cell_type": "code",
   "execution_count": 110,
   "metadata": {},
   "outputs": [
    {
     "name": "stderr",
     "output_type": "stream",
     "text": [
      "┌ Warning: The classes are un-ordered,\n",
      "│ using order: [\"EI\", \"IE\", \"N\"].\n",
      "│ To suppress this warning, consider coercing to OrderedFactor.\n",
      "└ @ MLJBase /home/andrew/.julia/packages/MLJBase/uKzAz/src/measures/confusion_matrix.jl:87\n"
     ]
    },
    {
     "data": {
      "text/plain": [
       "              ┌─────────────────────────────────────────┐\n",
       "              │              Ground Truth               │\n",
       "┌─────────────┼─────────────┬─────────────┬─────────────┤\n",
       "│  Predicted  │     EI      │     IE      │      N      │\n",
       "├─────────────┼─────────────┼─────────────┼─────────────┤\n",
       "│     EI      │     223     │      1      │      4      │\n",
       "├─────────────┼─────────────┼─────────────┼─────────────┤\n",
       "│     IE      │      3      │     225     │      9      │\n",
       "├─────────────┼─────────────┼─────────────┼─────────────┤\n",
       "│      N      │      4      │      4      │     484     │\n",
       "└─────────────┴─────────────┴─────────────┴─────────────┘\n"
      ]
     },
     "execution_count": 110,
     "metadata": {},
     "output_type": "execute_result"
    }
   ],
   "source": [
    "confusion_matrix(mode.(ŷ), y[test])"
   ]
  },
  {
   "cell_type": "code",
   "execution_count": 111,
   "metadata": {},
   "outputs": [
    {
     "data": {
      "text/plain": [
       "(chain = Chain(Chain(Dense(60, 23, σ), Dense(23, 3, σ)), softmax),)"
      ]
     },
     "execution_count": 111,
     "metadata": {},
     "output_type": "execute_result"
    }
   ],
   "source": [
    "fitted_params(Final_Net)"
   ]
  },
  {
   "cell_type": "code",
   "execution_count": 112,
   "metadata": {
    "scrolled": true
   },
   "outputs": [
    {
     "data": {
      "text/plain": [
       "(training_losses = Any[1.0741705f0, 1.0588735f0, 1.0457569f0, 1.0344855f0, 1.0247126f0, 1.0161222f0, 1.0084453f0, 1.0014627f0, 0.9949977f0, 0.98891115f0  …  0.5570921f0, 0.5570914f0, 0.55709106f0, 0.5570905f0, 0.5570899f0, 0.5570895f0, 0.5570889f0, 0.5570883f0, 0.5570878f0, 0.5570875f0],)"
      ]
     },
     "execution_count": 112,
     "metadata": {},
     "output_type": "execute_result"
    }
   ],
   "source": [
    "report(Final_Net)"
   ]
  },
  {
   "cell_type": "code",
   "execution_count": null,
   "metadata": {},
   "outputs": [],
   "source": []
  }
 ],
 "metadata": {
  "kernelspec": {
   "display_name": "Julia 1.5.0",
   "language": "julia",
   "name": "julia-1.5"
  },
  "language_info": {
   "file_extension": ".jl",
   "mimetype": "application/julia",
   "name": "julia",
   "version": "1.5.0"
  }
 },
 "nbformat": 4,
 "nbformat_minor": 4
}
