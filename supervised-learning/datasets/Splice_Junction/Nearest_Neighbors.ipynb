{
 "cells": [
  {
   "cell_type": "markdown",
   "metadata": {},
   "source": [
    "# Imports"
   ]
  },
  {
   "cell_type": "code",
   "execution_count": 61,
   "metadata": {
    "scrolled": true
   },
   "outputs": [],
   "source": [
    "using DataFrames\n",
    "using CSV\n",
    "using MLJ\n",
    "using Plots\n",
    "using StatsBase\n",
    "\n",
    "include(\"../../lib.jl\")\n",
    "\n",
    "ENV[\"LINES\"]=30;"
   ]
  },
  {
   "cell_type": "markdown",
   "metadata": {},
   "source": [
    "# Datasets"
   ]
  },
  {
   "cell_type": "code",
   "execution_count": 2,
   "metadata": {},
   "outputs": [
    {
     "data": {
      "text/html": [
       "<table class=\"data-frame\"><thead><tr><th></th><th>Class_Name</th><th>Left_Weight</th><th>Left_Distance</th><th>Right_Weight</th><th>Right_Distance</th></tr><tr><th></th><th>String</th><th>Int64</th><th>Int64</th><th>Int64</th><th>Int64</th></tr></thead><tbody><p>625 rows × 5 columns</p><tr><th>1</th><td>B</td><td>1</td><td>1</td><td>1</td><td>1</td></tr><tr><th>2</th><td>R</td><td>1</td><td>1</td><td>1</td><td>2</td></tr><tr><th>3</th><td>R</td><td>1</td><td>1</td><td>1</td><td>3</td></tr><tr><th>4</th><td>R</td><td>1</td><td>1</td><td>1</td><td>4</td></tr><tr><th>5</th><td>R</td><td>1</td><td>1</td><td>1</td><td>5</td></tr><tr><th>6</th><td>R</td><td>1</td><td>1</td><td>2</td><td>1</td></tr><tr><th>7</th><td>R</td><td>1</td><td>1</td><td>2</td><td>2</td></tr><tr><th>8</th><td>R</td><td>1</td><td>1</td><td>2</td><td>3</td></tr><tr><th>9</th><td>R</td><td>1</td><td>1</td><td>2</td><td>4</td></tr><tr><th>10</th><td>R</td><td>1</td><td>1</td><td>2</td><td>5</td></tr><tr><th>11</th><td>R</td><td>1</td><td>1</td><td>3</td><td>1</td></tr><tr><th>12</th><td>R</td><td>1</td><td>1</td><td>3</td><td>2</td></tr><tr><th>13</th><td>R</td><td>1</td><td>1</td><td>3</td><td>3</td></tr><tr><th>14</th><td>R</td><td>1</td><td>1</td><td>3</td><td>4</td></tr><tr><th>15</th><td>R</td><td>1</td><td>1</td><td>3</td><td>5</td></tr><tr><th>16</th><td>R</td><td>1</td><td>1</td><td>4</td><td>1</td></tr><tr><th>17</th><td>R</td><td>1</td><td>1</td><td>4</td><td>2</td></tr><tr><th>18</th><td>R</td><td>1</td><td>1</td><td>4</td><td>3</td></tr><tr><th>19</th><td>R</td><td>1</td><td>1</td><td>4</td><td>4</td></tr><tr><th>20</th><td>R</td><td>1</td><td>1</td><td>4</td><td>5</td></tr><tr><th>21</th><td>R</td><td>1</td><td>1</td><td>5</td><td>1</td></tr><tr><th>22</th><td>R</td><td>1</td><td>1</td><td>5</td><td>2</td></tr><tr><th>23</th><td>R</td><td>1</td><td>1</td><td>5</td><td>3</td></tr><tr><th>24</th><td>R</td><td>1</td><td>1</td><td>5</td><td>4</td></tr><tr><th>25</th><td>R</td><td>1</td><td>1</td><td>5</td><td>5</td></tr><tr><th>26</th><td>L</td><td>1</td><td>2</td><td>1</td><td>1</td></tr><tr><th>27</th><td>B</td><td>1</td><td>2</td><td>1</td><td>2</td></tr><tr><th>28</th><td>R</td><td>1</td><td>2</td><td>1</td><td>3</td></tr><tr><th>29</th><td>R</td><td>1</td><td>2</td><td>1</td><td>4</td></tr><tr><th>30</th><td>R</td><td>1</td><td>2</td><td>1</td><td>5</td></tr><tr><th>&vellip;</th><td>&vellip;</td><td>&vellip;</td><td>&vellip;</td><td>&vellip;</td><td>&vellip;</td></tr></tbody></table>"
      ],
      "text/latex": [
       "\\begin{tabular}{r|ccccc}\n",
       "\t& Class\\_Name & Left\\_Weight & Left\\_Distance & Right\\_Weight & Right\\_Distance\\\\\n",
       "\t\\hline\n",
       "\t& String & Int64 & Int64 & Int64 & Int64\\\\\n",
       "\t\\hline\n",
       "\t1 & B & 1 & 1 & 1 & 1 \\\\\n",
       "\t2 & R & 1 & 1 & 1 & 2 \\\\\n",
       "\t3 & R & 1 & 1 & 1 & 3 \\\\\n",
       "\t4 & R & 1 & 1 & 1 & 4 \\\\\n",
       "\t5 & R & 1 & 1 & 1 & 5 \\\\\n",
       "\t6 & R & 1 & 1 & 2 & 1 \\\\\n",
       "\t7 & R & 1 & 1 & 2 & 2 \\\\\n",
       "\t8 & R & 1 & 1 & 2 & 3 \\\\\n",
       "\t9 & R & 1 & 1 & 2 & 4 \\\\\n",
       "\t10 & R & 1 & 1 & 2 & 5 \\\\\n",
       "\t11 & R & 1 & 1 & 3 & 1 \\\\\n",
       "\t12 & R & 1 & 1 & 3 & 2 \\\\\n",
       "\t13 & R & 1 & 1 & 3 & 3 \\\\\n",
       "\t14 & R & 1 & 1 & 3 & 4 \\\\\n",
       "\t15 & R & 1 & 1 & 3 & 5 \\\\\n",
       "\t16 & R & 1 & 1 & 4 & 1 \\\\\n",
       "\t17 & R & 1 & 1 & 4 & 2 \\\\\n",
       "\t18 & R & 1 & 1 & 4 & 3 \\\\\n",
       "\t19 & R & 1 & 1 & 4 & 4 \\\\\n",
       "\t20 & R & 1 & 1 & 4 & 5 \\\\\n",
       "\t21 & R & 1 & 1 & 5 & 1 \\\\\n",
       "\t22 & R & 1 & 1 & 5 & 2 \\\\\n",
       "\t23 & R & 1 & 1 & 5 & 3 \\\\\n",
       "\t24 & R & 1 & 1 & 5 & 4 \\\\\n",
       "\t25 & R & 1 & 1 & 5 & 5 \\\\\n",
       "\t26 & L & 1 & 2 & 1 & 1 \\\\\n",
       "\t27 & B & 1 & 2 & 1 & 2 \\\\\n",
       "\t28 & R & 1 & 2 & 1 & 3 \\\\\n",
       "\t29 & R & 1 & 2 & 1 & 4 \\\\\n",
       "\t30 & R & 1 & 2 & 1 & 5 \\\\\n",
       "\t$\\dots$ & $\\dots$ & $\\dots$ & $\\dots$ & $\\dots$ & $\\dots$ \\\\\n",
       "\\end{tabular}\n"
      ],
      "text/plain": [
       "625×5 DataFrame. Omitted printing of 1 columns\n",
       "│ Row │ Class_Name │ Left_Weight │ Left_Distance │ Right_Weight │\n",
       "│     │ \u001b[90mString\u001b[39m     │ \u001b[90mInt64\u001b[39m       │ \u001b[90mInt64\u001b[39m         │ \u001b[90mInt64\u001b[39m        │\n",
       "├─────┼────────────┼─────────────┼───────────────┼──────────────┤\n",
       "│ 1   │ B          │ 1           │ 1             │ 1            │\n",
       "│ 2   │ R          │ 1           │ 1             │ 1            │\n",
       "│ 3   │ R          │ 1           │ 1             │ 1            │\n",
       "│ 4   │ R          │ 1           │ 1             │ 1            │\n",
       "│ 5   │ R          │ 1           │ 1             │ 1            │\n",
       "│ 6   │ R          │ 1           │ 1             │ 2            │\n",
       "│ 7   │ R          │ 1           │ 1             │ 2            │\n",
       "│ 8   │ R          │ 1           │ 1             │ 2            │\n",
       "│ 9   │ R          │ 1           │ 1             │ 2            │\n",
       "│ 10  │ R          │ 1           │ 1             │ 2            │\n",
       "⋮\n",
       "│ 615 │ L          │ 5           │ 5             │ 3            │\n",
       "│ 616 │ L          │ 5           │ 5             │ 4            │\n",
       "│ 617 │ L          │ 5           │ 5             │ 4            │\n",
       "│ 618 │ L          │ 5           │ 5             │ 4            │\n",
       "│ 619 │ L          │ 5           │ 5             │ 4            │\n",
       "│ 620 │ L          │ 5           │ 5             │ 4            │\n",
       "│ 621 │ L          │ 5           │ 5             │ 5            │\n",
       "│ 622 │ L          │ 5           │ 5             │ 5            │\n",
       "│ 623 │ L          │ 5           │ 5             │ 5            │\n",
       "│ 624 │ L          │ 5           │ 5             │ 5            │\n",
       "│ 625 │ B          │ 5           │ 5             │ 5            │"
      ]
     },
     "execution_count": 2,
     "metadata": {},
     "output_type": "execute_result"
    }
   ],
   "source": [
    "data = CSV.read(\"data.csv\")"
   ]
  },
  {
   "cell_type": "markdown",
   "metadata": {},
   "source": [
    "Look at class labels to see if dataset is imbalanced"
   ]
  },
  {
   "cell_type": "code",
   "execution_count": 5,
   "metadata": {},
   "outputs": [
    {
     "data": {
      "text/plain": [
       "Dict{String,Int64} with 3 entries:\n",
       "  \"B\" => 49\n",
       "  \"L\" => 288\n",
       "  \"R\" => 288"
      ]
     },
     "execution_count": 5,
     "metadata": {},
     "output_type": "execute_result"
    }
   ],
   "source": [
    "label_counts = countmap(data[:Class_Name])"
   ]
  },
  {
   "cell_type": "code",
   "execution_count": 6,
   "metadata": {},
   "outputs": [
    {
     "data": {
      "text/plain": [
       "3-element Array{Float64,1}:\n",
       " 0.0784\n",
       " 0.4608\n",
       " 0.4608"
      ]
     },
     "execution_count": 6,
     "metadata": {},
     "output_type": "execute_result"
    }
   ],
   "source": [
    "collect(label_counts[i] / size(data)[1] for i in keys(label_counts))"
   ]
  },
  {
   "cell_type": "markdown",
   "metadata": {},
   "source": [
    "Get data ready for training"
   ]
  },
  {
   "cell_type": "code",
   "execution_count": 7,
   "metadata": {
    "scrolled": true
   },
   "outputs": [
    {
     "data": {
      "text/html": [
       "<table class=\"data-frame\"><thead><tr><th></th><th>variable</th><th>mean</th><th>min</th><th>median</th><th>max</th><th>nunique</th><th>nmissing</th><th>eltype</th></tr><tr><th></th><th>Symbol</th><th>Union…</th><th>Any</th><th>Union…</th><th>Any</th><th>Union…</th><th>Nothing</th><th>DataType</th></tr></thead><tbody><p>5 rows × 8 columns</p><tr><th>1</th><td>Class_Name</td><td></td><td>B</td><td></td><td>R</td><td>3</td><td></td><td>String</td></tr><tr><th>2</th><td>Left_Weight</td><td>3.0</td><td>1</td><td>3.0</td><td>5</td><td></td><td></td><td>Int64</td></tr><tr><th>3</th><td>Left_Distance</td><td>3.0</td><td>1</td><td>3.0</td><td>5</td><td></td><td></td><td>Int64</td></tr><tr><th>4</th><td>Right_Weight</td><td>3.0</td><td>1</td><td>3.0</td><td>5</td><td></td><td></td><td>Int64</td></tr><tr><th>5</th><td>Right_Distance</td><td>3.0</td><td>1</td><td>3.0</td><td>5</td><td></td><td></td><td>Int64</td></tr></tbody></table>"
      ],
      "text/latex": [
       "\\begin{tabular}{r|cccccccc}\n",
       "\t& variable & mean & min & median & max & nunique & nmissing & eltype\\\\\n",
       "\t\\hline\n",
       "\t& Symbol & Union… & Any & Union… & Any & Union… & Nothing & DataType\\\\\n",
       "\t\\hline\n",
       "\t1 & Class\\_Name &  & B &  & R & 3 &  & String \\\\\n",
       "\t2 & Left\\_Weight & 3.0 & 1 & 3.0 & 5 &  &  & Int64 \\\\\n",
       "\t3 & Left\\_Distance & 3.0 & 1 & 3.0 & 5 &  &  & Int64 \\\\\n",
       "\t4 & Right\\_Weight & 3.0 & 1 & 3.0 & 5 &  &  & Int64 \\\\\n",
       "\t5 & Right\\_Distance & 3.0 & 1 & 3.0 & 5 &  &  & Int64 \\\\\n",
       "\\end{tabular}\n"
      ],
      "text/plain": [
       "5×8 DataFrame. Omitted printing of 1 columns\n",
       "│ Row │ variable       │ mean   │ min │ median │ max │ nunique │ nmissing │\n",
       "│     │ \u001b[90mSymbol\u001b[39m         │ \u001b[90mUnion…\u001b[39m │ \u001b[90mAny\u001b[39m │ \u001b[90mUnion…\u001b[39m │ \u001b[90mAny\u001b[39m │ \u001b[90mUnion…\u001b[39m  │ \u001b[90mNothing\u001b[39m  │\n",
       "├─────┼────────────────┼────────┼─────┼────────┼─────┼─────────┼──────────┤\n",
       "│ 1   │ Class_Name     │        │ B   │        │ R   │ 3       │          │\n",
       "│ 2   │ Left_Weight    │ 3.0    │ 1   │ 3.0    │ 5   │         │          │\n",
       "│ 3   │ Left_Distance  │ 3.0    │ 1   │ 3.0    │ 5   │         │          │\n",
       "│ 4   │ Right_Weight   │ 3.0    │ 1   │ 3.0    │ 5   │         │          │\n",
       "│ 5   │ Right_Distance │ 3.0    │ 1   │ 3.0    │ 5   │         │          │"
      ]
     },
     "execution_count": 7,
     "metadata": {},
     "output_type": "execute_result"
    }
   ],
   "source": [
    "describe(data)"
   ]
  },
  {
   "cell_type": "code",
   "execution_count": 8,
   "metadata": {},
   "outputs": [
    {
     "data": {
      "text/plain": [
       "┌\u001b[0m────────────────\u001b[0m┬\u001b[0m─────────────────────────────────\u001b[0m┬\u001b[0m───────────────\u001b[0m┐\u001b[0m\n",
       "│\u001b[0m\u001b[22m _.names        \u001b[0m│\u001b[0m\u001b[22m _.types                         \u001b[0m│\u001b[0m\u001b[22m _.scitypes    \u001b[0m│\u001b[0m\n",
       "├\u001b[0m────────────────\u001b[0m┼\u001b[0m─────────────────────────────────\u001b[0m┼\u001b[0m───────────────\u001b[0m┤\u001b[0m\n",
       "│\u001b[0m Class_Name     \u001b[0m│\u001b[0m CategoricalValue{String,UInt32} \u001b[0m│\u001b[0m Multiclass{3} \u001b[0m│\u001b[0m\n",
       "│\u001b[0m Left_Weight    \u001b[0m│\u001b[0m Float64                         \u001b[0m│\u001b[0m Continuous    \u001b[0m│\u001b[0m\n",
       "│\u001b[0m Left_Distance  \u001b[0m│\u001b[0m Float64                         \u001b[0m│\u001b[0m Continuous    \u001b[0m│\u001b[0m\n",
       "│\u001b[0m Right_Weight   \u001b[0m│\u001b[0m Float64                         \u001b[0m│\u001b[0m Continuous    \u001b[0m│\u001b[0m\n",
       "│\u001b[0m Right_Distance \u001b[0m│\u001b[0m Float64                         \u001b[0m│\u001b[0m Continuous    \u001b[0m│\u001b[0m\n",
       "└\u001b[0m────────────────\u001b[0m┴\u001b[0m─────────────────────────────────\u001b[0m┴\u001b[0m───────────────\u001b[0m┘\u001b[0m\n",
       "_.nrows = 625\n"
      ]
     },
     "execution_count": 8,
     "metadata": {},
     "output_type": "execute_result"
    }
   ],
   "source": [
    "coerce!(data, :Class_Name=>Multiclass,\n",
    "              :Left_Weight=>Continuous,\n",
    "              :Right_Weight=>Continuous,\n",
    "              :Left_Distance=>Continuous,\n",
    "              :Right_Distance=>Continuous)\n",
    "schema(data)"
   ]
  },
  {
   "cell_type": "code",
   "execution_count": 9,
   "metadata": {
    "scrolled": false
   },
   "outputs": [
    {
     "data": {
      "text/plain": [
       "(CategoricalValue{String,UInt32}[\"B\", \"R\", \"R\", \"R\", \"R\", \"R\", \"R\", \"R\", \"R\", \"R\"  …  \"L\", \"L\", \"L\", \"L\", \"L\", \"L\", \"L\", \"L\", \"L\", \"B\"], 625×4 DataFrame\n",
       "│ Row │ Left_Weight │ Left_Distance │ Right_Weight │ Right_Distance │\n",
       "│     │ \u001b[90mFloat64\u001b[39m     │ \u001b[90mFloat64\u001b[39m       │ \u001b[90mFloat64\u001b[39m      │ \u001b[90mFloat64\u001b[39m        │\n",
       "├─────┼─────────────┼───────────────┼──────────────┼────────────────┤\n",
       "│ 1   │ 1.0         │ 1.0           │ 1.0          │ 1.0            │\n",
       "│ 2   │ 1.0         │ 1.0           │ 1.0          │ 2.0            │\n",
       "│ 3   │ 1.0         │ 1.0           │ 1.0          │ 3.0            │\n",
       "│ 4   │ 1.0         │ 1.0           │ 1.0          │ 4.0            │\n",
       "│ 5   │ 1.0         │ 1.0           │ 1.0          │ 5.0            │\n",
       "│ 6   │ 1.0         │ 1.0           │ 2.0          │ 1.0            │\n",
       "│ 7   │ 1.0         │ 1.0           │ 2.0          │ 2.0            │\n",
       "│ 8   │ 1.0         │ 1.0           │ 2.0          │ 3.0            │\n",
       "│ 9   │ 1.0         │ 1.0           │ 2.0          │ 4.0            │\n",
       "│ 10  │ 1.0         │ 1.0           │ 2.0          │ 5.0            │\n",
       "⋮\n",
       "│ 615 │ 5.0         │ 5.0           │ 3.0          │ 5.0            │\n",
       "│ 616 │ 5.0         │ 5.0           │ 4.0          │ 1.0            │\n",
       "│ 617 │ 5.0         │ 5.0           │ 4.0          │ 2.0            │\n",
       "│ 618 │ 5.0         │ 5.0           │ 4.0          │ 3.0            │\n",
       "│ 619 │ 5.0         │ 5.0           │ 4.0          │ 4.0            │\n",
       "│ 620 │ 5.0         │ 5.0           │ 4.0          │ 5.0            │\n",
       "│ 621 │ 5.0         │ 5.0           │ 5.0          │ 1.0            │\n",
       "│ 622 │ 5.0         │ 5.0           │ 5.0          │ 2.0            │\n",
       "│ 623 │ 5.0         │ 5.0           │ 5.0          │ 3.0            │\n",
       "│ 624 │ 5.0         │ 5.0           │ 5.0          │ 4.0            │\n",
       "│ 625 │ 5.0         │ 5.0           │ 5.0          │ 5.0            │)"
      ]
     },
     "execution_count": 9,
     "metadata": {},
     "output_type": "execute_result"
    }
   ],
   "source": [
    "y, X = unpack(data, ==(:Class_Name), colname->true)"
   ]
  },
  {
   "cell_type": "markdown",
   "metadata": {},
   "source": [
    "Partition train and test data accoring to class labels"
   ]
  },
  {
   "cell_type": "code",
   "execution_count": 10,
   "metadata": {},
   "outputs": [
    {
     "data": {
      "text/plain": [
       "([595, 102, 55, 568, 425, 389, 146, 63, 372, 250  …  195, 500, 571, 533, 112, 396, 297, 106, 303, 261], [444, 144, 546, 43, 19, 173, 365, 423, 27, 218  …  293, 614, 90, 471, 13, 134, 296, 79, 395, 415])"
      ]
     },
     "execution_count": 10,
     "metadata": {},
     "output_type": "execute_result"
    }
   ],
   "source": [
    "# data to use when trying to fit a single validation set\n",
    "train, test = partition(eachindex(y), 0.7, shuffle=true, rng=123, stratify=values(data[:Class_Name])) # gives 70:30 split"
   ]
  },
  {
   "cell_type": "code",
   "execution_count": 11,
   "metadata": {},
   "outputs": [
    {
     "data": {
      "text/plain": [
       "3-element Array{Float64,1}:\n",
       " 0.0776255707762557\n",
       " 0.4611872146118721\n",
       " 0.4611872146118721"
      ]
     },
     "execution_count": 11,
     "metadata": {},
     "output_type": "execute_result"
    }
   ],
   "source": [
    "train_counts = countmap(data[train,:Class_Name])\n",
    "collect(train_counts[i] / size(train)[1] for i in keys(train_counts))"
   ]
  },
  {
   "cell_type": "code",
   "execution_count": 12,
   "metadata": {},
   "outputs": [
    {
     "data": {
      "text/plain": [
       "3-element Array{Float64,1}:\n",
       " 0.08021390374331551\n",
       " 0.45989304812834225\n",
       " 0.45989304812834225"
      ]
     },
     "execution_count": 12,
     "metadata": {},
     "output_type": "execute_result"
    }
   ],
   "source": [
    "test_counts = countmap(data[test,:Class_Name])\n",
    "collect(test_counts[i] / size(test)[1] for i in keys(test_counts))"
   ]
  },
  {
   "cell_type": "markdown",
   "metadata": {},
   "source": [
    "# Five Learning Algorithms\n",
    "\n",
    "* Decision trees with some form of pruning\n",
    "* Neural networks\n",
    "* Boosting\n",
    "* Support Vector Machines\n",
    "* k-nearest neighbors\n",
    "\n",
    "\n",
    "##### Testing\n",
    "* Implement the algorithms\n",
    "* Design two *interesting* classification problems. For the purposes of this assignment, a classification problem is just a set of training examples and a set of test examples."
   ]
  },
  {
   "cell_type": "code",
   "execution_count": 13,
   "metadata": {
    "scrolled": true
   },
   "outputs": [
    {
     "data": {
      "text/plain": [
       "42-element Array{NamedTuple{(:name, :package_name, :is_supervised, :docstring, :hyperparameter_ranges, :hyperparameter_types, :hyperparameters, :implemented_methods, :is_pure_julia, :is_wrapper, :load_path, :package_license, :package_url, :package_uuid, :prediction_type, :supports_online, :supports_weights, :input_scitype, :target_scitype, :output_scitype),T} where T<:Tuple,1}:\n",
       " (name = AdaBoostClassifier, package_name = ScikitLearn, ... )\n",
       " (name = AdaBoostStumpClassifier, package_name = DecisionTree, ... )\n",
       " (name = BaggingClassifier, package_name = ScikitLearn, ... )\n",
       " (name = BayesianLDA, package_name = MultivariateStats, ... )\n",
       " (name = BayesianLDA, package_name = ScikitLearn, ... )\n",
       " (name = BayesianQDA, package_name = ScikitLearn, ... )\n",
       " (name = BayesianSubspaceLDA, package_name = MultivariateStats, ... )\n",
       " (name = ConstantClassifier, package_name = MLJModels, ... )\n",
       " (name = DecisionTreeClassifier, package_name = DecisionTree, ... )\n",
       " (name = DeterministicConstantClassifier, package_name = MLJModels, ... )\n",
       " (name = DummyClassifier, package_name = ScikitLearn, ... )\n",
       " (name = EvoTreeClassifier, package_name = EvoTrees, ... )\n",
       " (name = ExtraTreesClassifier, package_name = ScikitLearn, ... )\n",
       " ⋮\n",
       " (name = ProbabilisticSGDClassifier, package_name = ScikitLearn, ... )\n",
       " (name = RandomForestClassifier, package_name = DecisionTree, ... )\n",
       " (name = RandomForestClassifier, package_name = ScikitLearn, ... )\n",
       " (name = RidgeCVClassifier, package_name = ScikitLearn, ... )\n",
       " (name = RidgeClassifier, package_name = ScikitLearn, ... )\n",
       " (name = SGDClassifier, package_name = ScikitLearn, ... )\n",
       " (name = SVC, package_name = LIBSVM, ... )\n",
       " (name = SVMClassifier, package_name = ScikitLearn, ... )\n",
       " (name = SVMLinearClassifier, package_name = ScikitLearn, ... )\n",
       " (name = SVMNuClassifier, package_name = ScikitLearn, ... )\n",
       " (name = SubspaceLDA, package_name = MultivariateStats, ... )\n",
       " (name = XGBoostClassifier, package_name = XGBoost, ... )"
      ]
     },
     "execution_count": 13,
     "metadata": {},
     "output_type": "execute_result"
    }
   ],
   "source": [
    "models(matching(X,y))"
   ]
  },
  {
   "cell_type": "code",
   "execution_count": 14,
   "metadata": {},
   "outputs": [
    {
     "name": "stdout",
     "output_type": "stream",
     "text": [
      "import MLJModels ✔\n",
      "import NearestNeighbors "
     ]
    },
    {
     "name": "stderr",
     "output_type": "stream",
     "text": [
      "┌ Info: Loading into module \"Main\": \n",
      "└ @ MLJModels /home/andrew/.julia/packages/MLJModels/mUBFt/src/loading.jl:70\n"
     ]
    },
    {
     "name": "stdout",
     "output_type": "stream",
     "text": [
      "✔\n",
      "import MLJModels.NearestNeighbors_ ✔\n"
     ]
    },
    {
     "data": {
      "text/plain": [
       "KNNClassifier(\n",
       "    K = 5,\n",
       "    algorithm = :kdtree,\n",
       "    metric = Distances.Euclidean(0.0),\n",
       "    leafsize = 10,\n",
       "    reorder = true,\n",
       "    weights = :uniform)\u001b[34m @786\u001b[39m"
      ]
     },
     "execution_count": 14,
     "metadata": {},
     "output_type": "execute_result"
    }
   ],
   "source": [
    "@load KNNClassifier"
   ]
  },
  {
   "cell_type": "markdown",
   "metadata": {},
   "source": [
    "## K Nearest Neighbors\n",
    "* Use different values of k.\n",
    "\n",
    "1. https://alan-turing-institute.github.io/MLJ.jl/dev/composing_models/\n",
    "1. https://github.com/KristofferC/NearestNeighbors.jl"
   ]
  },
  {
   "cell_type": "markdown",
   "metadata": {},
   "source": [
    "#### No Pre-Processing"
   ]
  },
  {
   "cell_type": "code",
   "execution_count": 15,
   "metadata": {},
   "outputs": [
    {
     "data": {
      "text/plain": [
       "KNNClassifier(\n",
       "    K = 5,\n",
       "    algorithm = :kdtree,\n",
       "    metric = Distances.Euclidean(0.0),\n",
       "    leafsize = 10,\n",
       "    reorder = true,\n",
       "    weights = :uniform)\u001b[34m @659\u001b[39m"
      ]
     },
     "execution_count": 15,
     "metadata": {},
     "output_type": "execute_result"
    }
   ],
   "source": [
    "knn = KNNClassifier(K=5)"
   ]
  },
  {
   "cell_type": "code",
   "execution_count": 16,
   "metadata": {},
   "outputs": [
    {
     "data": {
      "text/plain": [
       "\u001b[34mMachine{KNNClassifier} @726\u001b[39m trained 0 times.\n",
       "  args: \n",
       "    1:\t\u001b[34mSource @331\u001b[39m ⏎ `Table{AbstractArray{Continuous,1}}`\n",
       "    2:\t\u001b[34mSource @859\u001b[39m ⏎ `AbstractArray{Multiclass{3},1}`\n"
      ]
     },
     "execution_count": 16,
     "metadata": {},
     "output_type": "execute_result"
    }
   ],
   "source": [
    "KNN = machine(knn, X, y)"
   ]
  },
  {
   "cell_type": "code",
   "execution_count": 17,
   "metadata": {},
   "outputs": [
    {
     "name": "stderr",
     "output_type": "stream",
     "text": [
      "┌ Info: Training \u001b[34mMachine{KNNClassifier} @726\u001b[39m.\n",
      "└ @ MLJBase /home/andrew/.julia/packages/MLJBase/uKzAz/src/machines.jl:319\n"
     ]
    },
    {
     "data": {
      "text/plain": [
       "\u001b[34mMachine{KNNClassifier} @726\u001b[39m trained 1 time.\n",
       "  args: \n",
       "    1:\t\u001b[34mSource @331\u001b[39m ⏎ `Table{AbstractArray{Continuous,1}}`\n",
       "    2:\t\u001b[34mSource @859\u001b[39m ⏎ `AbstractArray{Multiclass{3},1}`\n"
      ]
     },
     "execution_count": 17,
     "metadata": {},
     "output_type": "execute_result"
    }
   ],
   "source": [
    "fit!(KNN, rows=train)"
   ]
  },
  {
   "cell_type": "code",
   "execution_count": 18,
   "metadata": {},
   "outputs": [
    {
     "name": "stderr",
     "output_type": "stream",
     "text": [
      "\u001b[33mEvaluating over 6 folds: 100%[=========================] Time: 0:00:04\u001b[39m\n"
     ]
    },
    {
     "data": {
      "text/plain": [
       "┌\u001b[0m───────────────\u001b[0m┬\u001b[0m───────────────\u001b[0m┬\u001b[0m────────────────────────────────────────────\u001b[0m┐\u001b[0m\n",
       "│\u001b[0m\u001b[22m _.measure     \u001b[0m│\u001b[0m\u001b[22m _.measurement \u001b[0m│\u001b[0m\u001b[22m _.per_fold                                 \u001b[0m│\u001b[0m\n",
       "├\u001b[0m───────────────\u001b[0m┼\u001b[0m───────────────\u001b[0m┼\u001b[0m────────────────────────────────────────────\u001b[0m┤\u001b[0m\n",
       "│\u001b[0m cross_entropy \u001b[0m│\u001b[0m 2.74          \u001b[0m│\u001b[0m [3.36, 2.27, 2.28, 3.65, 3.31, 1.59]       \u001b[0m│\u001b[0m\n",
       "│\u001b[0m acc           \u001b[0m│\u001b[0m 0.834         \u001b[0m│\u001b[0m [0.762, 0.846, 0.817, 0.837, 0.856, 0.885] \u001b[0m│\u001b[0m\n",
       "└\u001b[0m───────────────\u001b[0m┴\u001b[0m───────────────\u001b[0m┴\u001b[0m────────────────────────────────────────────\u001b[0m┘\u001b[0m\n",
       "_.per_observation = [[[36.0, 0.916, ..., 2.22e-16], [0.511, 2.22e-16, ..., 1.61], [2.22e-16, 0.511, ..., 2.22e-16], [0.223, 2.22e-16, ..., 2.22e-16], [2.22e-16, 2.22e-16, ..., 2.22e-16], [2.22e-16, 2.22e-16, ..., 2.22e-16]], missing]\n",
       "_.fitted_params_per_fold = [ … ]\n",
       "_.report_per_fold = [ … ]\n"
      ]
     },
     "execution_count": 18,
     "metadata": {},
     "output_type": "execute_result"
    }
   ],
   "source": [
    "knn_acc = evaluate!(KNN, resampling=CV(shuffle=true), measure=[cross_entropy, acc], verbosity=1)"
   ]
  },
  {
   "cell_type": "code",
   "execution_count": 19,
   "metadata": {},
   "outputs": [
    {
     "data": {
      "text/plain": [
       "(tree = NearestNeighbors.KDTree{StaticArrays.SArray{Tuple{4},Float64,1,4},Distances.Euclidean,Float64}\n",
       "  Number of points: 521\n",
       "  Dimensions: 4\n",
       "  Metric: Distances.Euclidean(0.0)\n",
       "  Reordered: true,)"
      ]
     },
     "execution_count": 19,
     "metadata": {},
     "output_type": "execute_result"
    }
   ],
   "source": [
    "fitted_params(KNN)"
   ]
  },
  {
   "cell_type": "markdown",
   "metadata": {},
   "source": [
    "#### With Pre-Processing"
   ]
  },
  {
   "cell_type": "code",
   "execution_count": 20,
   "metadata": {},
   "outputs": [
    {
     "data": {
      "text/plain": [
       "KNNClassifier(\n",
       "    K = 5,\n",
       "    algorithm = :kdtree,\n",
       "    metric = Distances.Euclidean(0.0),\n",
       "    leafsize = 10,\n",
       "    reorder = true,\n",
       "    weights = :uniform)\u001b[34m @417\u001b[39m"
      ]
     },
     "execution_count": 20,
     "metadata": {},
     "output_type": "execute_result"
    }
   ],
   "source": [
    "knn = KNNClassifier(K=5)"
   ]
  },
  {
   "cell_type": "code",
   "execution_count": 21,
   "metadata": {
    "scrolled": true
   },
   "outputs": [
    {
     "name": "stderr",
     "output_type": "stream",
     "text": [
      "┌ Info: Training \u001b[34mMachine{Standardizer} @764\u001b[39m.\n",
      "└ @ MLJBase /home/andrew/.julia/packages/MLJBase/uKzAz/src/machines.jl:319\n"
     ]
    }
   ],
   "source": [
    "standardizer = Standardizer()\n",
    "stand = machine(standardizer, X[train,:])\n",
    "fit!(stand)\n",
    "X_stand = MLJ.transform(stand, X);"
   ]
  },
  {
   "cell_type": "code",
   "execution_count": 22,
   "metadata": {},
   "outputs": [
    {
     "data": {
      "text/plain": [
       "\u001b[34mMachine{KNNClassifier} @147\u001b[39m trained 0 times.\n",
       "  args: \n",
       "    1:\t\u001b[34mSource @529\u001b[39m ⏎ `Table{AbstractArray{Continuous,1}}`\n",
       "    2:\t\u001b[34mSource @478\u001b[39m ⏎ `AbstractArray{Multiclass{3},1}`\n"
      ]
     },
     "execution_count": 22,
     "metadata": {},
     "output_type": "execute_result"
    }
   ],
   "source": [
    "KNN = machine(knn, X_stand, y)"
   ]
  },
  {
   "cell_type": "code",
   "execution_count": 23,
   "metadata": {},
   "outputs": [
    {
     "name": "stderr",
     "output_type": "stream",
     "text": [
      "┌ Info: Training \u001b[34mMachine{KNNClassifier} @147\u001b[39m.\n",
      "└ @ MLJBase /home/andrew/.julia/packages/MLJBase/uKzAz/src/machines.jl:319\n"
     ]
    },
    {
     "data": {
      "text/plain": [
       "\u001b[34mMachine{KNNClassifier} @147\u001b[39m trained 1 time.\n",
       "  args: \n",
       "    1:\t\u001b[34mSource @529\u001b[39m ⏎ `Table{AbstractArray{Continuous,1}}`\n",
       "    2:\t\u001b[34mSource @478\u001b[39m ⏎ `AbstractArray{Multiclass{3},1}`\n"
      ]
     },
     "execution_count": 23,
     "metadata": {},
     "output_type": "execute_result"
    }
   ],
   "source": [
    "fit!(KNN, rows=train)"
   ]
  },
  {
   "cell_type": "code",
   "execution_count": 24,
   "metadata": {},
   "outputs": [
    {
     "name": "stderr",
     "output_type": "stream",
     "text": [
      "\u001b[33mEvaluating over 6 folds: 100%[=========================] Time: 0:00:00\u001b[39m\n"
     ]
    },
    {
     "data": {
      "text/plain": [
       "┌\u001b[0m───────────────\u001b[0m┬\u001b[0m───────────────\u001b[0m┬\u001b[0m────────────────────────────────────────────\u001b[0m┐\u001b[0m\n",
       "│\u001b[0m\u001b[22m _.measure     \u001b[0m│\u001b[0m\u001b[22m _.measurement \u001b[0m│\u001b[0m\u001b[22m _.per_fold                                 \u001b[0m│\u001b[0m\n",
       "├\u001b[0m───────────────\u001b[0m┼\u001b[0m───────────────\u001b[0m┼\u001b[0m────────────────────────────────────────────\u001b[0m┤\u001b[0m\n",
       "│\u001b[0m cross_entropy \u001b[0m│\u001b[0m 2.69          \u001b[0m│\u001b[0m [4.67, 1.61, 3.32, 2.62, 2.66, 1.29]       \u001b[0m│\u001b[0m\n",
       "│\u001b[0m acc           \u001b[0m│\u001b[0m 0.818         \u001b[0m│\u001b[0m [0.733, 0.856, 0.817, 0.856, 0.808, 0.837] \u001b[0m│\u001b[0m\n",
       "└\u001b[0m───────────────\u001b[0m┴\u001b[0m───────────────\u001b[0m┴\u001b[0m────────────────────────────────────────────\u001b[0m┘\u001b[0m\n",
       "_.per_observation = [[[2.22e-16, 2.22e-16, ..., 2.22e-16], [2.22e-16, 1.61, ..., 2.22e-16], [1.61, 0.223, ..., 0.223], [0.223, 36.0, ..., 1.61], [2.22e-16, 2.22e-16, ..., 0.223], [2.22e-16, 2.22e-16, ..., 2.22e-16]], missing]\n",
       "_.fitted_params_per_fold = [ … ]\n",
       "_.report_per_fold = [ … ]\n"
      ]
     },
     "execution_count": 24,
     "metadata": {},
     "output_type": "execute_result"
    }
   ],
   "source": [
    "knn_acc = evaluate!(KNN, resampling=CV(shuffle=true), measure=[cross_entropy, acc], verbosity=1)"
   ]
  },
  {
   "cell_type": "code",
   "execution_count": 26,
   "metadata": {},
   "outputs": [],
   "source": [
    "# evaluate!(KNN, resampling=CV(shuffle=true), measure=[tnr,tpr,fnr,fpr], verbosity=1, operation=predict_mode)"
   ]
  },
  {
   "cell_type": "code",
   "execution_count": 27,
   "metadata": {},
   "outputs": [
    {
     "data": {
      "text/plain": [
       "(tree = NearestNeighbors.KDTree{StaticArrays.SArray{Tuple{4},Float64,1,4},Distances.Euclidean,Float64}\n",
       "  Number of points: 521\n",
       "  Dimensions: 4\n",
       "  Metric: Distances.Euclidean(0.0)\n",
       "  Reordered: true,)"
      ]
     },
     "execution_count": 27,
     "metadata": {},
     "output_type": "execute_result"
    }
   ],
   "source": [
    "fitted_params(KNN)"
   ]
  },
  {
   "cell_type": "markdown",
   "metadata": {},
   "source": [
    "### GridSearch / RandomSearch"
   ]
  },
  {
   "cell_type": "markdown",
   "metadata": {},
   "source": [
    "#### Euclidean"
   ]
  },
  {
   "cell_type": "code",
   "execution_count": 28,
   "metadata": {},
   "outputs": [
    {
     "data": {
      "text/plain": [
       "KNNClassifier(\n",
       "    K = 5,\n",
       "    algorithm = :kdtree,\n",
       "    metric = Distances.Euclidean(0.0),\n",
       "    leafsize = 10,\n",
       "    reorder = true,\n",
       "    weights = :uniform)\u001b[34m @502\u001b[39m"
      ]
     },
     "execution_count": 28,
     "metadata": {},
     "output_type": "execute_result"
    }
   ],
   "source": [
    "knn_grid = KNNClassifier()"
   ]
  },
  {
   "cell_type": "code",
   "execution_count": 36,
   "metadata": {},
   "outputs": [
    {
     "data": {
      "text/plain": [
       "MLJBase.NumericRange(Int64, :K, ... )"
      ]
     },
     "execution_count": 36,
     "metadata": {},
     "output_type": "execute_result"
    }
   ],
   "source": [
    "param1 = :K\n",
    "\n",
    "r1 = range(knn_grid, param1, lower=1, upper=10, scale=:linear)"
   ]
  },
  {
   "cell_type": "code",
   "execution_count": 37,
   "metadata": {},
   "outputs": [
    {
     "data": {
      "text/plain": [
       "ProbabilisticTunedModel(\n",
       "    model = KNNClassifier(\n",
       "            K = 5,\n",
       "            algorithm = :kdtree,\n",
       "            metric = Distances.Euclidean(0.0),\n",
       "            leafsize = 10,\n",
       "            reorder = true,\n",
       "            weights = :uniform),\n",
       "    tuning = Grid(\n",
       "            goal = 100,\n",
       "            resolution = 10,\n",
       "            shuffle = true,\n",
       "            rng = Random._GLOBAL_RNG()),\n",
       "    resampling = CV(\n",
       "            nfolds = 6,\n",
       "            shuffle = false,\n",
       "            rng = Random._GLOBAL_RNG()),\n",
       "    measure = cross_entropy(\n",
       "            eps = 2.220446049250313e-16),\n",
       "    weights = nothing,\n",
       "    operation = MLJModelInterface.predict,\n",
       "    range = MLJBase.NumericRange{Int64,MLJBase.Bounded,Symbol}[\u001b[34mNumericRange{Int64,…} @539\u001b[39m],\n",
       "    train_best = true,\n",
       "    repeats = 1,\n",
       "    n = nothing,\n",
       "    acceleration = CPUThreads{Int64}(1),\n",
       "    acceleration_resampling = CPU1{Nothing}(nothing),\n",
       "    check_measure = true)\u001b[34m @869\u001b[39m"
      ]
     },
     "execution_count": 37,
     "metadata": {},
     "output_type": "execute_result"
    }
   ],
   "source": [
    "self_tuning_knn_model = TunedModel(model=knn_grid,\n",
    "                                    tuning=Grid(goal=100),\n",
    "                                    resampling=CV(), \n",
    "                                    measure=cross_entropy,\n",
    "                                    acceleration=CPUThreads(),\n",
    "                                    range=[r1])"
   ]
  },
  {
   "cell_type": "code",
   "execution_count": 38,
   "metadata": {},
   "outputs": [
    {
     "data": {
      "text/plain": [
       "\u001b[34mMachine{ProbabilisticTunedModel{Grid,…}} @781\u001b[39m trained 0 times.\n",
       "  args: \n",
       "    1:\t\u001b[34mSource @914\u001b[39m ⏎ `Table{AbstractArray{Continuous,1}}`\n",
       "    2:\t\u001b[34mSource @821\u001b[39m ⏎ `AbstractArray{Multiclass{3},1}`\n"
      ]
     },
     "execution_count": 38,
     "metadata": {},
     "output_type": "execute_result"
    }
   ],
   "source": [
    "self_tuning_knn = machine(self_tuning_knn_model, X, y)"
   ]
  },
  {
   "cell_type": "code",
   "execution_count": 39,
   "metadata": {},
   "outputs": [
    {
     "name": "stderr",
     "output_type": "stream",
     "text": [
      "┌ Info: Training \u001b[34mMachine{ProbabilisticTunedModel{Grid,…}} @781\u001b[39m.\n",
      "└ @ MLJBase /home/andrew/.julia/packages/MLJBase/uKzAz/src/machines.jl:319\n",
      "┌ Info: Attempting to evaluate 10 models.\n",
      "└ @ MLJTuning /home/andrew/.julia/packages/MLJTuning/Bbgvk/src/tuned_models.jl:494\n",
      "\u001b[33mEvaluating over 10 metamodels: 100%[=========================] Time: 0:00:00\u001b[39m\n"
     ]
    },
    {
     "data": {
      "text/plain": [
       "\u001b[34mMachine{ProbabilisticTunedModel{Grid,…}} @781\u001b[39m trained 1 time.\n",
       "  args: \n",
       "    1:\t\u001b[34mSource @914\u001b[39m ⏎ `Table{AbstractArray{Continuous,1}}`\n",
       "    2:\t\u001b[34mSource @821\u001b[39m ⏎ `AbstractArray{Multiclass{3},1}`\n"
      ]
     },
     "execution_count": 39,
     "metadata": {},
     "output_type": "execute_result"
    }
   ],
   "source": [
    "z = fit!(self_tuning_knn, rows=train)"
   ]
  },
  {
   "cell_type": "code",
   "execution_count": 40,
   "metadata": {},
   "outputs": [
    {
     "data": {
      "text/plain": [
       "(best_model = \u001b[34mKNNClassifier @391\u001b[39m,\n",
       " best_fitted_params = (tree = NearestNeighbors.KDTree{StaticArrays.SArray{Tuple{4},Float64,1,4},Distances.Euclidean,Float64}\n",
       "  Number of points: 438\n",
       "  Dimensions: 4\n",
       "  Metric: Distances.Euclidean(0.0)\n",
       "  Reordered: true,),)"
      ]
     },
     "execution_count": 40,
     "metadata": {},
     "output_type": "execute_result"
    }
   ],
   "source": [
    "best = fitted_params(self_tuning_knn)\n",
    "best"
   ]
  },
  {
   "cell_type": "code",
   "execution_count": 41,
   "metadata": {
    "scrolled": true
   },
   "outputs": [
    {
     "data": {
      "text/plain": [
       "KNNClassifier(\n",
       "    K = 9,\n",
       "    algorithm = :kdtree,\n",
       "    metric = Distances.Euclidean(0.0),\n",
       "    leafsize = 10,\n",
       "    reorder = true,\n",
       "    weights = :uniform)\u001b[34m @391\u001b[39m"
      ]
     },
     "execution_count": 41,
     "metadata": {},
     "output_type": "execute_result"
    }
   ],
   "source": [
    "best.best_model"
   ]
  },
  {
   "cell_type": "markdown",
   "metadata": {},
   "source": [
    "#### Manhattan"
   ]
  },
  {
   "cell_type": "code",
   "execution_count": 125,
   "metadata": {},
   "outputs": [
    {
     "data": {
      "text/plain": [
       "KNNClassifier(\n",
       "    K = 5,\n",
       "    algorithm = :kdtree,\n",
       "    metric = Chebyshev(),\n",
       "    leafsize = 10,\n",
       "    reorder = true,\n",
       "    weights = :uniform)\u001b[34m @708\u001b[39m"
      ]
     },
     "execution_count": 125,
     "metadata": {},
     "output_type": "execute_result"
    }
   ],
   "source": [
    "knn_grid = KNNClassifier(metric=Chebyshev())"
   ]
  },
  {
   "cell_type": "code",
   "execution_count": 126,
   "metadata": {},
   "outputs": [
    {
     "data": {
      "text/plain": [
       "MLJBase.NumericRange(Int64, :K, ... )"
      ]
     },
     "execution_count": 126,
     "metadata": {},
     "output_type": "execute_result"
    }
   ],
   "source": [
    "param1 = :K\n",
    "\n",
    "r1 = range(knn_grid, param1, lower=1, upper=10, scale=:linear)"
   ]
  },
  {
   "cell_type": "code",
   "execution_count": 127,
   "metadata": {},
   "outputs": [
    {
     "data": {
      "text/plain": [
       "ProbabilisticTunedModel(\n",
       "    model = KNNClassifier(\n",
       "            K = 5,\n",
       "            algorithm = :kdtree,\n",
       "            metric = Chebyshev(),\n",
       "            leafsize = 10,\n",
       "            reorder = true,\n",
       "            weights = :uniform),\n",
       "    tuning = Grid(\n",
       "            goal = 100,\n",
       "            resolution = 10,\n",
       "            shuffle = true,\n",
       "            rng = Random._GLOBAL_RNG()),\n",
       "    resampling = CV(\n",
       "            nfolds = 6,\n",
       "            shuffle = false,\n",
       "            rng = Random._GLOBAL_RNG()),\n",
       "    measure = cross_entropy(\n",
       "            eps = 2.220446049250313e-16),\n",
       "    weights = nothing,\n",
       "    operation = MLJModelInterface.predict,\n",
       "    range = MLJBase.NumericRange{Int64,MLJBase.Bounded,Symbol}[\u001b[34mNumericRange{Int64,…} @539\u001b[39m],\n",
       "    train_best = true,\n",
       "    repeats = 1,\n",
       "    n = nothing,\n",
       "    acceleration = CPUThreads{Int64}(1),\n",
       "    acceleration_resampling = CPU1{Nothing}(nothing),\n",
       "    check_measure = true)\u001b[34m @921\u001b[39m"
      ]
     },
     "execution_count": 127,
     "metadata": {},
     "output_type": "execute_result"
    }
   ],
   "source": [
    "self_tuning_knn_model = TunedModel(model=knn_grid,\n",
    "                                    tuning=Grid(goal=100),\n",
    "                                    resampling=CV(), \n",
    "                                    measure=cross_entropy,\n",
    "                                    acceleration=CPUThreads(),\n",
    "                                    range=[r1])"
   ]
  },
  {
   "cell_type": "code",
   "execution_count": 128,
   "metadata": {},
   "outputs": [
    {
     "data": {
      "text/plain": [
       "\u001b[34mMachine{ProbabilisticTunedModel{Grid,…}} @290\u001b[39m trained 0 times.\n",
       "  args: \n",
       "    1:\t\u001b[34mSource @732\u001b[39m ⏎ `Table{AbstractArray{Continuous,1}}`\n",
       "    2:\t\u001b[34mSource @991\u001b[39m ⏎ `AbstractArray{Multiclass{3},1}`\n"
      ]
     },
     "execution_count": 128,
     "metadata": {},
     "output_type": "execute_result"
    }
   ],
   "source": [
    "self_tuning_knn = machine(self_tuning_knn_model, X, y)"
   ]
  },
  {
   "cell_type": "code",
   "execution_count": 129,
   "metadata": {},
   "outputs": [
    {
     "name": "stderr",
     "output_type": "stream",
     "text": [
      "┌ Info: Training \u001b[34mMachine{ProbabilisticTunedModel{Grid,…}} @290\u001b[39m.\n",
      "└ @ MLJBase /home/andrew/.julia/packages/MLJBase/uKzAz/src/machines.jl:319\n",
      "┌ Info: Attempting to evaluate 10 models.\n",
      "└ @ MLJTuning /home/andrew/.julia/packages/MLJTuning/Bbgvk/src/tuned_models.jl:494\n",
      "\u001b[33mEvaluating over 10 metamodels: 100%[=========================] Time: 0:00:00\u001b[39m\n"
     ]
    },
    {
     "data": {
      "text/plain": [
       "\u001b[34mMachine{ProbabilisticTunedModel{Grid,…}} @290\u001b[39m trained 1 time.\n",
       "  args: \n",
       "    1:\t\u001b[34mSource @732\u001b[39m ⏎ `Table{AbstractArray{Continuous,1}}`\n",
       "    2:\t\u001b[34mSource @991\u001b[39m ⏎ `AbstractArray{Multiclass{3},1}`\n"
      ]
     },
     "execution_count": 129,
     "metadata": {},
     "output_type": "execute_result"
    }
   ],
   "source": [
    "z = fit!(self_tuning_knn, rows=train)"
   ]
  },
  {
   "cell_type": "code",
   "execution_count": 130,
   "metadata": {},
   "outputs": [
    {
     "data": {
      "text/plain": [
       "(best_model = \u001b[34mKNNClassifier @291\u001b[39m,\n",
       " best_fitted_params = (tree = NearestNeighbors.KDTree{StaticArrays.SArray{Tuple{4},Float64,1,4},Euclidean,Float64}\n",
       "  Number of points: 438\n",
       "  Dimensions: 4\n",
       "  Metric: Euclidean(0.0)\n",
       "  Reordered: true,),)"
      ]
     },
     "execution_count": 130,
     "metadata": {},
     "output_type": "execute_result"
    }
   ],
   "source": [
    "best = fitted_params(self_tuning_knn)\n",
    "best"
   ]
  },
  {
   "cell_type": "code",
   "execution_count": 131,
   "metadata": {},
   "outputs": [
    {
     "data": {
      "text/plain": [
       "KNNClassifier(\n",
       "    K = 9,\n",
       "    algorithm = :kdtree,\n",
       "    metric = Chebyshev(),\n",
       "    leafsize = 10,\n",
       "    reorder = true,\n",
       "    weights = :uniform)\u001b[34m @291\u001b[39m"
      ]
     },
     "execution_count": 131,
     "metadata": {},
     "output_type": "execute_result"
    }
   ],
   "source": [
    "best.best_model"
   ]
  },
  {
   "cell_type": "markdown",
   "metadata": {},
   "source": [
    "### Learning Curve"
   ]
  },
  {
   "cell_type": "code",
   "execution_count": 132,
   "metadata": {
    "scrolled": true
   },
   "outputs": [
    {
     "name": "stdout",
     "output_type": "stream",
     "text": [
      "(d, train_metric, valid_metric) = (10, 0.7, 0.42045454545454547)\n",
      "(d, train_metric, valid_metric) = (15, 0.9333333333333333, 0.75)\n",
      "(d, train_metric, valid_metric) = (20, 0.9, 0.7613636363636364)\n",
      "(d, train_metric, valid_metric) = (25, 0.84, 0.8181818181818182)\n",
      "(d, train_metric, valid_metric) = (30, 0.9, 0.8977272727272727)\n",
      "(d, train_metric, valid_metric) = (35, 0.8285714285714286, 0.9090909090909091)\n",
      "(d, train_metric, valid_metric) = (40, 0.875, 0.8977272727272727)\n",
      "(d, train_metric, valid_metric) = (45, 0.8444444444444444, 0.875)\n",
      "(d, train_metric, valid_metric) = (50, 0.82, 0.9090909090909091)\n",
      "(d, train_metric, valid_metric) = (55, 0.8363636363636363, 0.9090909090909091)\n",
      "(d, train_metric, valid_metric) = (60, 0.8, 0.9090909090909091)\n",
      "(d, train_metric, valid_metric) = (65, 0.8307692307692308, 0.875)\n",
      "(d, train_metric, valid_metric) = (70, 0.8142857142857143, 0.9090909090909091)\n",
      "(d, train_metric, valid_metric) = (75, 0.76, 0.8863636363636364)\n",
      "(d, train_metric, valid_metric) = (80, 0.825, 0.875)\n",
      "(d, train_metric, valid_metric) = (85, 0.8117647058823529, 0.8863636363636364)\n",
      "(d, train_metric, valid_metric) = (90, 0.8, 0.875)\n",
      "(d, train_metric, valid_metric) = (95, 0.8210526315789474, 0.9090909090909091)\n",
      "(d, train_metric, valid_metric) = (100, 0.86, 0.8977272727272727)\n",
      "(d, train_metric, valid_metric) = (105, 0.8285714285714286, 0.8977272727272727)\n",
      "(d, train_metric, valid_metric) = (110, 0.8454545454545455, 0.8977272727272727)\n",
      "(d, train_metric, valid_metric) = (115, 0.8347826086956521, 0.9090909090909091)\n",
      "(d, train_metric, valid_metric) = (120, 0.825, 0.8863636363636364)\n",
      "(d, train_metric, valid_metric) = (125, 0.848, 0.8977272727272727)\n",
      "(d, train_metric, valid_metric) = (130, 0.8692307692307693, 0.9090909090909091)\n",
      "(d, train_metric, valid_metric) = (135, 0.8666666666666667, 0.875)\n",
      "(d, train_metric, valid_metric) = (140, 0.8785714285714286, 0.9090909090909091)\n",
      "(d, train_metric, valid_metric) = (145, 0.8689655172413793, 0.875)\n",
      "(d, train_metric, valid_metric) = (150, 0.8933333333333333, 0.8636363636363636)\n",
      "(d, train_metric, valid_metric) = (155, 0.8903225806451613, 0.8636363636363636)\n",
      "(d, train_metric, valid_metric) = (160, 0.90625, 0.8522727272727273)\n",
      "(d, train_metric, valid_metric) = (165, 0.8909090909090909, 0.8863636363636364)\n",
      "(d, train_metric, valid_metric) = (170, 0.8941176470588236, 0.875)\n",
      "(d, train_metric, valid_metric) = (175, 0.8914285714285715, 0.8636363636363636)\n",
      "(d, train_metric, valid_metric) = (180, 0.9055555555555556, 0.8409090909090909)\n",
      "(d, train_metric, valid_metric) = (185, 0.8864864864864865, 0.8409090909090909)\n",
      "(d, train_metric, valid_metric) = (190, 0.8947368421052632, 0.8295454545454546)\n",
      "(d, train_metric, valid_metric) = (195, 0.8717948717948718, 0.8295454545454546)\n",
      "(d, train_metric, valid_metric) = (200, 0.87, 0.8295454545454546)\n",
      "(d, train_metric, valid_metric) = (205, 0.8829268292682927, 0.8295454545454546)\n",
      "(d, train_metric, valid_metric) = (210, 0.8809523809523809, 0.8181818181818182)\n",
      "(d, train_metric, valid_metric) = (215, 0.8883720930232558, 0.8181818181818182)\n",
      "(d, train_metric, valid_metric) = (220, 0.9, 0.8181818181818182)\n",
      "(d, train_metric, valid_metric) = (225, 0.9022222222222223, 0.8295454545454546)\n",
      "(d, train_metric, valid_metric) = (230, 0.9, 0.8295454545454546)\n",
      "(d, train_metric, valid_metric) = (235, 0.8936170212765957, 0.8181818181818182)\n",
      "(d, train_metric, valid_metric) = (240, 0.8916666666666667, 0.8522727272727273)\n",
      "(d, train_metric, valid_metric) = (245, 0.9061224489795918, 0.8636363636363636)\n",
      "(d, train_metric, valid_metric) = (250, 0.912, 0.875)\n",
      "(d, train_metric, valid_metric) = (255, 0.9254901960784314, 0.8636363636363636)\n",
      "(d, train_metric, valid_metric) = (260, 0.8961538461538462, 0.8522727272727273)\n",
      "(d, train_metric, valid_metric) = (265, 0.9056603773584906, 0.8636363636363636)\n",
      "(d, train_metric, valid_metric) = (270, 0.9259259259259259, 0.8522727272727273)\n",
      "(d, train_metric, valid_metric) = (275, 0.9163636363636364, 0.8295454545454546)\n",
      "(d, train_metric, valid_metric) = (280, 0.925, 0.8522727272727273)\n",
      "(d, train_metric, valid_metric) = (285, 0.9087719298245615, 0.8863636363636364)\n",
      "(d, train_metric, valid_metric) = (290, 0.9275862068965517, 0.8636363636363636)\n",
      "(d, train_metric, valid_metric) = (295, 0.9220338983050848, 0.8522727272727273)\n",
      "(d, train_metric, valid_metric) = (300, 0.9166666666666666, 0.8636363636363636)\n",
      "(d, train_metric, valid_metric) = (305, 0.9180327868852459, 0.8409090909090909)\n",
      "(d, train_metric, valid_metric) = (310, 0.9193548387096774, 0.875)\n",
      "(d, train_metric, valid_metric) = (315, 0.9174603174603174, 0.875)\n",
      "(d, train_metric, valid_metric) = (320, 0.909375, 0.8863636363636364)\n",
      "(d, train_metric, valid_metric) = (325, 0.9107692307692308, 0.875)\n",
      "(d, train_metric, valid_metric) = (330, 0.9, 0.8863636363636364)\n",
      "(d, train_metric, valid_metric) = (335, 0.9074626865671642, 0.8636363636363636)\n",
      "(d, train_metric, valid_metric) = (340, 0.9029411764705882, 0.875)\n",
      "(d, train_metric, valid_metric) = (345, 0.9101449275362319, 0.875)\n",
      "(d, train_metric, valid_metric) = (350, 0.9257142857142857, 0.875)\n"
     ]
    },
    {
     "data": {
      "text/plain": [
       "(10:5:350, Any[0.7, 0.9333333333333333, 0.9, 0.84, 0.9, 0.8285714285714286, 0.875, 0.8444444444444444, 0.82, 0.8363636363636363  …  0.9180327868852459, 0.9193548387096774, 0.9174603174603174, 0.909375, 0.9107692307692308, 0.9, 0.9074626865671642, 0.9029411764705882, 0.9101449275362319, 0.9257142857142857], Any[0.42045454545454547, 0.75, 0.7613636363636364, 0.8181818181818182, 0.8977272727272727, 0.9090909090909091, 0.8977272727272727, 0.875, 0.9090909090909091, 0.9090909090909091  …  0.8409090909090909, 0.875, 0.875, 0.8863636363636364, 0.875, 0.8863636363636364, 0.8636363636363636, 0.875, 0.875, 0.875])"
      ]
     },
     "execution_count": 132,
     "metadata": {},
     "output_type": "execute_result"
    }
   ],
   "source": [
    "data_schedule, training_losses, valid_losses = learn_curve(best.best_model, X[train,:], y[train], acc)"
   ]
  },
  {
   "cell_type": "code",
   "execution_count": 133,
   "metadata": {},
   "outputs": [
    {
     "data": {
      "image/svg+xml": [
       "<?xml version=\"1.0\" encoding=\"utf-8\"?>\n",
       "<svg xmlns=\"http://www.w3.org/2000/svg\" xmlns:xlink=\"http://www.w3.org/1999/xlink\" width=\"600\" height=\"400\" viewBox=\"0 0 2400 1600\">\n",
       "<defs>\n",
       "  <clipPath id=\"clip780\">\n",
       "    <rect x=\"0\" y=\"0\" width=\"2400\" height=\"1600\"/>\n",
       "  </clipPath>\n",
       "</defs>\n",
       "<path clip-path=\"url(#clip780)\" d=\"\n",
       "M0 1600 L2400 1600 L2400 0 L0 0  Z\n",
       "  \" fill=\"#ffffff\" fill-rule=\"evenodd\" fill-opacity=\"1\"/>\n",
       "<defs>\n",
       "  <clipPath id=\"clip781\">\n",
       "    <rect x=\"480\" y=\"0\" width=\"1681\" height=\"1600\"/>\n",
       "  </clipPath>\n",
       "</defs>\n",
       "<path clip-path=\"url(#clip780)\" d=\"\n",
       "M148.01 1486.45 L2352.76 1486.45 L2352.76 47.2441 L148.01 47.2441  Z\n",
       "  \" fill=\"#ffffff\" fill-rule=\"evenodd\" fill-opacity=\"1\"/>\n",
       "<defs>\n",
       "  <clipPath id=\"clip782\">\n",
       "    <rect x=\"148\" y=\"47\" width=\"2206\" height=\"1440\"/>\n",
       "  </clipPath>\n",
       "</defs>\n",
       "<polyline clip-path=\"url(#clip782)\" style=\"stroke:#000000; stroke-width:2; stroke-opacity:0.1; fill:none\" points=\"\n",
       "  149.234,1486.45 149.234,47.2441 \n",
       "  \"/>\n",
       "<polyline clip-path=\"url(#clip782)\" style=\"stroke:#000000; stroke-width:2; stroke-opacity:0.1; fill:none\" points=\"\n",
       "  760.983,1486.45 760.983,47.2441 \n",
       "  \"/>\n",
       "<polyline clip-path=\"url(#clip782)\" style=\"stroke:#000000; stroke-width:2; stroke-opacity:0.1; fill:none\" points=\"\n",
       "  1372.73,1486.45 1372.73,47.2441 \n",
       "  \"/>\n",
       "<polyline clip-path=\"url(#clip782)\" style=\"stroke:#000000; stroke-width:2; stroke-opacity:0.1; fill:none\" points=\"\n",
       "  1984.48,1486.45 1984.48,47.2441 \n",
       "  \"/>\n",
       "<polyline clip-path=\"url(#clip782)\" style=\"stroke:#000000; stroke-width:2; stroke-opacity:0.1; fill:none\" points=\"\n",
       "  148.01,1235.14 2352.76,1235.14 \n",
       "  \"/>\n",
       "<polyline clip-path=\"url(#clip782)\" style=\"stroke:#000000; stroke-width:2; stroke-opacity:0.1; fill:none\" points=\"\n",
       "  148.01,970.407 2352.76,970.407 \n",
       "  \"/>\n",
       "<polyline clip-path=\"url(#clip782)\" style=\"stroke:#000000; stroke-width:2; stroke-opacity:0.1; fill:none\" points=\"\n",
       "  148.01,705.678 2352.76,705.678 \n",
       "  \"/>\n",
       "<polyline clip-path=\"url(#clip782)\" style=\"stroke:#000000; stroke-width:2; stroke-opacity:0.1; fill:none\" points=\"\n",
       "  148.01,440.948 2352.76,440.948 \n",
       "  \"/>\n",
       "<polyline clip-path=\"url(#clip782)\" style=\"stroke:#000000; stroke-width:2; stroke-opacity:0.1; fill:none\" points=\"\n",
       "  148.01,176.219 2352.76,176.219 \n",
       "  \"/>\n",
       "<polyline clip-path=\"url(#clip780)\" style=\"stroke:#000000; stroke-width:4; stroke-opacity:1; fill:none\" points=\"\n",
       "  148.01,1486.45 2352.76,1486.45 \n",
       "  \"/>\n",
       "<polyline clip-path=\"url(#clip780)\" style=\"stroke:#000000; stroke-width:4; stroke-opacity:1; fill:none\" points=\"\n",
       "  148.01,1486.45 148.01,47.2441 \n",
       "  \"/>\n",
       "<polyline clip-path=\"url(#clip780)\" style=\"stroke:#000000; stroke-width:4; stroke-opacity:1; fill:none\" points=\"\n",
       "  149.234,1486.45 149.234,1469.18 \n",
       "  \"/>\n",
       "<polyline clip-path=\"url(#clip780)\" style=\"stroke:#000000; stroke-width:4; stroke-opacity:1; fill:none\" points=\"\n",
       "  760.983,1486.45 760.983,1469.18 \n",
       "  \"/>\n",
       "<polyline clip-path=\"url(#clip780)\" style=\"stroke:#000000; stroke-width:4; stroke-opacity:1; fill:none\" points=\"\n",
       "  1372.73,1486.45 1372.73,1469.18 \n",
       "  \"/>\n",
       "<polyline clip-path=\"url(#clip780)\" style=\"stroke:#000000; stroke-width:4; stroke-opacity:1; fill:none\" points=\"\n",
       "  1984.48,1486.45 1984.48,1469.18 \n",
       "  \"/>\n",
       "<polyline clip-path=\"url(#clip780)\" style=\"stroke:#000000; stroke-width:4; stroke-opacity:1; fill:none\" points=\"\n",
       "  148.01,1235.14 174.467,1235.14 \n",
       "  \"/>\n",
       "<polyline clip-path=\"url(#clip780)\" style=\"stroke:#000000; stroke-width:4; stroke-opacity:1; fill:none\" points=\"\n",
       "  148.01,970.407 174.467,970.407 \n",
       "  \"/>\n",
       "<polyline clip-path=\"url(#clip780)\" style=\"stroke:#000000; stroke-width:4; stroke-opacity:1; fill:none\" points=\"\n",
       "  148.01,705.678 174.467,705.678 \n",
       "  \"/>\n",
       "<polyline clip-path=\"url(#clip780)\" style=\"stroke:#000000; stroke-width:4; stroke-opacity:1; fill:none\" points=\"\n",
       "  148.01,440.948 174.467,440.948 \n",
       "  \"/>\n",
       "<polyline clip-path=\"url(#clip780)\" style=\"stroke:#000000; stroke-width:4; stroke-opacity:1; fill:none\" points=\"\n",
       "  148.01,176.219 174.467,176.219 \n",
       "  \"/>\n",
       "<path clip-path=\"url(#clip780)\" d=\"M 0 0 M149.234 1508.44 Q145.623 1508.44 143.794 1512 Q141.988 1515.55 141.988 1522.67 Q141.988 1529.78 143.794 1533.35 Q145.623 1536.89 149.234 1536.89 Q152.868 1536.89 154.674 1533.35 Q156.502 1529.78 156.502 1522.67 Q156.502 1515.55 154.674 1512 Q152.868 1508.44 149.234 1508.44 M149.234 1504.73 Q155.044 1504.73 158.1 1509.34 Q161.178 1513.92 161.178 1522.67 Q161.178 1531.4 158.1 1536.01 Q155.044 1540.59 149.234 1540.59 Q143.424 1540.59 140.345 1536.01 Q137.289 1531.4 137.289 1522.67 Q137.289 1513.92 140.345 1509.34 Q143.424 1504.73 149.234 1504.73 Z\" fill=\"#000000\" fill-rule=\"evenodd\" fill-opacity=\"1\" /><path clip-path=\"url(#clip780)\" d=\"M 0 0 M724.352 1535.98 L731.991 1535.98 L731.991 1509.62 L723.68 1511.29 L723.68 1507.03 L731.944 1505.36 L736.62 1505.36 L736.62 1535.98 L744.259 1535.98 L744.259 1539.92 L724.352 1539.92 L724.352 1535.98 Z\" fill=\"#000000\" fill-rule=\"evenodd\" fill-opacity=\"1\" /><path clip-path=\"url(#clip780)\" d=\"M 0 0 M759.328 1508.44 Q755.717 1508.44 753.889 1512 Q752.083 1515.55 752.083 1522.67 Q752.083 1529.78 753.889 1533.35 Q755.717 1536.89 759.328 1536.89 Q762.963 1536.89 764.768 1533.35 Q766.597 1529.78 766.597 1522.67 Q766.597 1515.55 764.768 1512 Q762.963 1508.44 759.328 1508.44 M759.328 1504.73 Q765.138 1504.73 768.194 1509.34 Q771.273 1513.92 771.273 1522.67 Q771.273 1531.4 768.194 1536.01 Q765.138 1540.59 759.328 1540.59 Q753.518 1540.59 750.439 1536.01 Q747.384 1531.4 747.384 1522.67 Q747.384 1513.92 750.439 1509.34 Q753.518 1504.73 759.328 1504.73 Z\" fill=\"#000000\" fill-rule=\"evenodd\" fill-opacity=\"1\" /><path clip-path=\"url(#clip780)\" d=\"M 0 0 M786.342 1508.44 Q782.731 1508.44 780.902 1512 Q779.097 1515.55 779.097 1522.67 Q779.097 1529.78 780.902 1533.35 Q782.731 1536.89 786.342 1536.89 Q789.976 1536.89 791.782 1533.35 Q793.611 1529.78 793.611 1522.67 Q793.611 1515.55 791.782 1512 Q789.976 1508.44 786.342 1508.44 M786.342 1504.73 Q792.152 1504.73 795.208 1509.34 Q798.286 1513.92 798.286 1522.67 Q798.286 1531.4 795.208 1536.01 Q792.152 1540.59 786.342 1540.59 Q780.532 1540.59 777.453 1536.01 Q774.398 1531.4 774.398 1522.67 Q774.398 1513.92 777.453 1509.34 Q780.532 1504.73 786.342 1504.73 Z\" fill=\"#000000\" fill-rule=\"evenodd\" fill-opacity=\"1\" /><path clip-path=\"url(#clip780)\" d=\"M 0 0 M1340.37 1535.98 L1356.69 1535.98 L1356.69 1539.92 L1334.75 1539.92 L1334.75 1535.98 Q1337.41 1533.23 1341.99 1528.6 Q1346.6 1523.95 1347.78 1522.61 Q1350.02 1520.08 1350.9 1518.35 Q1351.81 1516.59 1351.81 1514.9 Q1351.81 1512.14 1349.86 1510.41 Q1347.94 1508.67 1344.84 1508.67 Q1342.64 1508.67 1340.19 1509.43 Q1337.76 1510.2 1334.98 1511.75 L1334.98 1507.03 Q1337.8 1505.89 1340.26 1505.31 Q1342.71 1504.73 1344.75 1504.73 Q1350.12 1504.73 1353.31 1507.42 Q1356.51 1510.11 1356.51 1514.6 Q1356.51 1516.73 1355.7 1518.65 Q1354.91 1520.54 1352.8 1523.14 Q1352.22 1523.81 1349.12 1527.03 Q1346.02 1530.22 1340.37 1535.98 Z\" fill=\"#000000\" fill-rule=\"evenodd\" fill-opacity=\"1\" /><path clip-path=\"url(#clip780)\" d=\"M 0 0 M1371.76 1508.44 Q1368.15 1508.44 1366.32 1512 Q1364.52 1515.55 1364.52 1522.67 Q1364.52 1529.78 1366.32 1533.35 Q1368.15 1536.89 1371.76 1536.89 Q1375.4 1536.89 1377.2 1533.35 Q1379.03 1529.78 1379.03 1522.67 Q1379.03 1515.55 1377.2 1512 Q1375.4 1508.44 1371.76 1508.44 M1371.76 1504.73 Q1377.57 1504.73 1380.63 1509.34 Q1383.71 1513.92 1383.71 1522.67 Q1383.71 1531.4 1380.63 1536.01 Q1377.57 1540.59 1371.76 1540.59 Q1365.95 1540.59 1362.87 1536.01 Q1359.82 1531.4 1359.82 1522.67 Q1359.82 1513.92 1362.87 1509.34 Q1365.95 1504.73 1371.76 1504.73 Z\" fill=\"#000000\" fill-rule=\"evenodd\" fill-opacity=\"1\" /><path clip-path=\"url(#clip780)\" d=\"M 0 0 M1398.77 1508.44 Q1395.16 1508.44 1393.33 1512 Q1391.53 1515.55 1391.53 1522.67 Q1391.53 1529.78 1393.33 1533.35 Q1395.16 1536.89 1398.77 1536.89 Q1402.41 1536.89 1404.21 1533.35 Q1406.04 1529.78 1406.04 1522.67 Q1406.04 1515.55 1404.21 1512 Q1402.41 1508.44 1398.77 1508.44 M1398.77 1504.73 Q1404.58 1504.73 1407.64 1509.34 Q1410.72 1513.92 1410.72 1522.67 Q1410.72 1531.4 1407.64 1536.01 Q1404.58 1540.59 1398.77 1540.59 Q1392.96 1540.59 1389.89 1536.01 Q1386.83 1531.4 1386.83 1522.67 Q1386.83 1513.92 1389.89 1509.34 Q1392.96 1504.73 1398.77 1504.73 Z\" fill=\"#000000\" fill-rule=\"evenodd\" fill-opacity=\"1\" /><path clip-path=\"url(#clip780)\" d=\"M 0 0 M1961.72 1521.29 Q1965.07 1522 1966.95 1524.27 Q1968.85 1526.54 1968.85 1529.87 Q1968.85 1534.99 1965.33 1537.79 Q1961.81 1540.59 1955.33 1540.59 Q1953.15 1540.59 1950.84 1540.15 Q1948.55 1539.73 1946.09 1538.88 L1946.09 1534.36 Q1948.04 1535.5 1950.35 1536.08 Q1952.67 1536.66 1955.19 1536.66 Q1959.59 1536.66 1961.88 1534.92 Q1964.19 1533.18 1964.19 1529.87 Q1964.19 1526.82 1962.04 1525.11 Q1959.91 1523.37 1956.09 1523.37 L1952.06 1523.37 L1952.06 1519.53 L1956.28 1519.53 Q1959.73 1519.53 1961.55 1518.16 Q1963.38 1516.77 1963.38 1514.18 Q1963.38 1511.52 1961.49 1510.11 Q1959.61 1508.67 1956.09 1508.67 Q1954.17 1508.67 1951.97 1509.09 Q1949.77 1509.5 1947.13 1510.38 L1947.13 1506.22 Q1949.8 1505.48 1952.11 1505.11 Q1954.45 1504.73 1956.51 1504.73 Q1961.83 1504.73 1964.93 1507.17 Q1968.04 1509.57 1968.04 1513.69 Q1968.04 1516.56 1966.39 1518.55 Q1964.75 1520.52 1961.72 1521.29 Z\" fill=\"#000000\" fill-rule=\"evenodd\" fill-opacity=\"1\" /><path clip-path=\"url(#clip780)\" d=\"M 0 0 M1983.92 1508.44 Q1980.3 1508.44 1978.48 1512 Q1976.67 1515.55 1976.67 1522.67 Q1976.67 1529.78 1978.48 1533.35 Q1980.3 1536.89 1983.92 1536.89 Q1987.55 1536.89 1989.36 1533.35 Q1991.18 1529.78 1991.18 1522.67 Q1991.18 1515.55 1989.36 1512 Q1987.55 1508.44 1983.92 1508.44 M1983.92 1504.73 Q1989.73 1504.73 1992.78 1509.34 Q1995.86 1513.92 1995.86 1522.67 Q1995.86 1531.4 1992.78 1536.01 Q1989.73 1540.59 1983.92 1540.59 Q1978.11 1540.59 1975.03 1536.01 Q1971.97 1531.4 1971.97 1522.67 Q1971.97 1513.92 1975.03 1509.34 Q1978.11 1504.73 1983.92 1504.73 Z\" fill=\"#000000\" fill-rule=\"evenodd\" fill-opacity=\"1\" /><path clip-path=\"url(#clip780)\" d=\"M 0 0 M2010.93 1508.44 Q2007.32 1508.44 2005.49 1512 Q2003.68 1515.55 2003.68 1522.67 Q2003.68 1529.78 2005.49 1533.35 Q2007.32 1536.89 2010.93 1536.89 Q2014.56 1536.89 2016.37 1533.35 Q2018.2 1529.78 2018.2 1522.67 Q2018.2 1515.55 2016.37 1512 Q2014.56 1508.44 2010.93 1508.44 M2010.93 1504.73 Q2016.74 1504.73 2019.79 1509.34 Q2022.87 1513.92 2022.87 1522.67 Q2022.87 1531.4 2019.79 1536.01 Q2016.74 1540.59 2010.93 1540.59 Q2005.12 1540.59 2002.04 1536.01 Q1998.98 1531.4 1998.98 1522.67 Q1998.98 1513.92 2002.04 1509.34 Q2005.12 1504.73 2010.93 1504.73 Z\" fill=\"#000000\" fill-rule=\"evenodd\" fill-opacity=\"1\" /><path clip-path=\"url(#clip780)\" d=\"M 0 0 M76.0939 1220.93 Q72.4828 1220.93 70.6541 1224.5 Q68.8486 1228.04 68.8486 1235.17 Q68.8486 1242.28 70.6541 1245.84 Q72.4828 1249.38 76.0939 1249.38 Q79.7281 1249.38 81.5337 1245.84 Q83.3624 1242.28 83.3624 1235.17 Q83.3624 1228.04 81.5337 1224.5 Q79.7281 1220.93 76.0939 1220.93 M76.0939 1217.23 Q81.9041 1217.23 84.9596 1221.84 Q88.0383 1226.42 88.0383 1235.17 Q88.0383 1243.9 84.9596 1248.5 Q81.9041 1253.09 76.0939 1253.09 Q70.2838 1253.09 67.2051 1248.5 Q64.1495 1243.9 64.1495 1235.17 Q64.1495 1226.42 67.2051 1221.84 Q70.2838 1217.23 76.0939 1217.23 Z\" fill=\"#000000\" fill-rule=\"evenodd\" fill-opacity=\"1\" /><path clip-path=\"url(#clip780)\" d=\"M 0 0 M93.1077 1246.54 L97.9919 1246.54 L97.9919 1252.42 L93.1077 1252.42 L93.1077 1246.54 Z\" fill=\"#000000\" fill-rule=\"evenodd\" fill-opacity=\"1\" /><path clip-path=\"url(#clip780)\" d=\"M 0 0 M103.108 1217.86 L121.464 1217.86 L121.464 1221.79 L107.39 1221.79 L107.39 1230.26 Q108.409 1229.92 109.427 1229.75 Q110.446 1229.57 111.464 1229.57 Q117.251 1229.57 120.631 1232.74 Q124.01 1235.91 124.01 1241.33 Q124.01 1246.91 120.538 1250.01 Q117.066 1253.09 110.746 1253.09 Q108.571 1253.09 106.302 1252.72 Q104.057 1252.35 101.649 1251.61 L101.649 1246.91 Q103.733 1248.04 105.955 1248.6 Q108.177 1249.15 110.654 1249.15 Q114.659 1249.15 116.996 1247.05 Q119.334 1244.94 119.334 1241.33 Q119.334 1237.72 116.996 1235.61 Q114.659 1233.5 110.654 1233.5 Q108.779 1233.5 106.904 1233.92 Q105.052 1234.34 103.108 1235.22 L103.108 1217.86 Z\" fill=\"#000000\" fill-rule=\"evenodd\" fill-opacity=\"1\" /><path clip-path=\"url(#clip780)\" d=\"M 0 0 M74.9365 956.205 Q71.3254 956.205 69.4967 959.77 Q67.6912 963.312 67.6912 970.441 Q67.6912 977.548 69.4967 981.113 Q71.3254 984.654 74.9365 984.654 Q78.5707 984.654 80.3763 981.113 Q82.205 977.548 82.205 970.441 Q82.205 963.312 80.3763 959.77 Q78.5707 956.205 74.9365 956.205 M74.9365 952.502 Q80.7467 952.502 83.8022 957.108 Q86.8809 961.691 86.8809 970.441 Q86.8809 979.168 83.8022 983.775 Q80.7467 988.358 74.9365 988.358 Q69.1264 988.358 66.0477 983.775 Q62.9921 979.168 62.9921 970.441 Q62.9921 961.691 66.0477 957.108 Q69.1264 952.502 74.9365 952.502 Z\" fill=\"#000000\" fill-rule=\"evenodd\" fill-opacity=\"1\" /><path clip-path=\"url(#clip780)\" d=\"M 0 0 M91.9503 981.807 L96.8345 981.807 L96.8345 987.687 L91.9503 987.687 L91.9503 981.807 Z\" fill=\"#000000\" fill-rule=\"evenodd\" fill-opacity=\"1\" /><path clip-path=\"url(#clip780)\" d=\"M 0 0 M112.483 968.543 Q109.334 968.543 107.483 970.696 Q105.654 972.849 105.654 976.599 Q105.654 980.326 107.483 982.501 Q109.334 984.654 112.483 984.654 Q115.631 984.654 117.459 982.501 Q119.311 980.326 119.311 976.599 Q119.311 972.849 117.459 970.696 Q115.631 968.543 112.483 968.543 M121.765 953.891 L121.765 958.15 Q120.006 957.316 118.2 956.877 Q116.418 956.437 114.659 956.437 Q110.029 956.437 107.575 959.562 Q105.145 962.687 104.797 969.006 Q106.163 966.992 108.223 965.927 Q110.284 964.84 112.76 964.84 Q117.969 964.84 120.978 968.011 Q124.01 971.159 124.01 976.599 Q124.01 981.923 120.862 985.14 Q117.714 988.358 112.483 988.358 Q106.487 988.358 103.316 983.775 Q100.145 979.168 100.145 970.441 Q100.145 962.247 104.034 957.386 Q107.922 952.502 114.473 952.502 Q116.233 952.502 118.015 952.849 Q119.821 953.196 121.765 953.891 Z\" fill=\"#000000\" fill-rule=\"evenodd\" fill-opacity=\"1\" /><path clip-path=\"url(#clip780)\" d=\"M 0 0 M76.0013 691.476 Q72.3902 691.476 70.5615 695.041 Q68.756 698.583 68.756 705.712 Q68.756 712.819 70.5615 716.383 Q72.3902 719.925 76.0013 719.925 Q79.6356 719.925 81.4411 716.383 Q83.2698 712.819 83.2698 705.712 Q83.2698 698.583 81.4411 695.041 Q79.6356 691.476 76.0013 691.476 M76.0013 687.773 Q81.8115 687.773 84.867 692.379 Q87.9457 696.962 87.9457 705.712 Q87.9457 714.439 84.867 719.046 Q81.8115 723.629 76.0013 723.629 Q70.1912 723.629 67.1125 719.046 Q64.0569 714.439 64.0569 705.712 Q64.0569 696.962 67.1125 692.379 Q70.1912 687.773 76.0013 687.773 Z\" fill=\"#000000\" fill-rule=\"evenodd\" fill-opacity=\"1\" /><path clip-path=\"url(#clip780)\" d=\"M 0 0 M93.0151 717.078 L97.8993 717.078 L97.8993 722.958 L93.0151 722.958 L93.0151 717.078 Z\" fill=\"#000000\" fill-rule=\"evenodd\" fill-opacity=\"1\" /><path clip-path=\"url(#clip780)\" d=\"M 0 0 M101.788 688.398 L124.01 688.398 L124.01 690.388 L111.464 722.958 L106.58 722.958 L118.385 692.333 L101.788 692.333 L101.788 688.398 Z\" fill=\"#000000\" fill-rule=\"evenodd\" fill-opacity=\"1\" /><path clip-path=\"url(#clip780)\" d=\"M 0 0 M75.1911 426.747 Q71.58 426.747 69.7513 430.312 Q67.9458 433.854 67.9458 440.983 Q67.9458 448.09 69.7513 451.654 Q71.58 455.196 75.1911 455.196 Q78.8254 455.196 80.6309 451.654 Q82.4596 448.09 82.4596 440.983 Q82.4596 433.854 80.6309 430.312 Q78.8254 426.747 75.1911 426.747 M75.1911 423.043 Q81.0013 423.043 84.0568 427.65 Q87.1355 432.233 87.1355 440.983 Q87.1355 449.71 84.0568 454.316 Q81.0013 458.9 75.1911 458.9 Q69.381 458.9 66.3023 454.316 Q63.2468 449.71 63.2468 440.983 Q63.2468 432.233 66.3023 427.65 Q69.381 423.043 75.1911 423.043 Z\" fill=\"#000000\" fill-rule=\"evenodd\" fill-opacity=\"1\" /><path clip-path=\"url(#clip780)\" d=\"M 0 0 M92.2049 452.349 L97.0892 452.349 L97.0892 458.228 L92.2049 458.228 L92.2049 452.349 Z\" fill=\"#000000\" fill-rule=\"evenodd\" fill-opacity=\"1\" /><path clip-path=\"url(#clip780)\" d=\"M 0 0 M112.159 441.816 Q108.825 441.816 106.904 443.599 Q105.006 445.381 105.006 448.506 Q105.006 451.631 106.904 453.414 Q108.825 455.196 112.159 455.196 Q115.492 455.196 117.413 453.414 Q119.334 451.608 119.334 448.506 Q119.334 445.381 117.413 443.599 Q115.515 441.816 112.159 441.816 M107.483 439.826 Q104.473 439.085 102.784 437.025 Q101.117 434.965 101.117 432.002 Q101.117 427.858 104.057 425.451 Q107.02 423.043 112.159 423.043 Q117.321 423.043 120.26 425.451 Q123.2 427.858 123.2 432.002 Q123.2 434.965 121.51 437.025 Q119.844 439.085 116.858 439.826 Q120.237 440.613 122.112 442.904 Q124.01 445.196 124.01 448.506 Q124.01 453.529 120.932 456.215 Q117.876 458.9 112.159 458.9 Q106.441 458.9 103.362 456.215 Q100.307 453.529 100.307 448.506 Q100.307 445.196 102.205 442.904 Q104.103 440.613 107.483 439.826 M105.77 432.442 Q105.77 435.127 107.436 436.631 Q109.126 438.136 112.159 438.136 Q115.168 438.136 116.858 436.631 Q118.571 435.127 118.571 432.442 Q118.571 429.756 116.858 428.252 Q115.168 426.747 112.159 426.747 Q109.126 426.747 107.436 428.252 Q105.77 429.756 105.77 432.442 Z\" fill=\"#000000\" fill-rule=\"evenodd\" fill-opacity=\"1\" /><path clip-path=\"url(#clip780)\" d=\"M 0 0 M75.2837 162.018 Q71.6726 162.018 69.8439 165.583 Q68.0384 169.124 68.0384 176.254 Q68.0384 183.36 69.8439 186.925 Q71.6726 190.467 75.2837 190.467 Q78.918 190.467 80.7235 186.925 Q82.5522 183.36 82.5522 176.254 Q82.5522 169.124 80.7235 165.583 Q78.918 162.018 75.2837 162.018 M75.2837 158.314 Q81.0939 158.314 84.1494 162.921 Q87.2281 167.504 87.2281 176.254 Q87.2281 184.981 84.1494 189.587 Q81.0939 194.171 75.2837 194.171 Q69.4736 194.171 66.3949 189.587 Q63.3393 184.981 63.3393 176.254 Q63.3393 167.504 66.3949 162.921 Q69.4736 158.314 75.2837 158.314 Z\" fill=\"#000000\" fill-rule=\"evenodd\" fill-opacity=\"1\" /><path clip-path=\"url(#clip780)\" d=\"M 0 0 M92.2975 187.62 L97.1818 187.62 L97.1818 193.499 L92.2975 193.499 L92.2975 187.62 Z\" fill=\"#000000\" fill-rule=\"evenodd\" fill-opacity=\"1\" /><path clip-path=\"url(#clip780)\" d=\"M 0 0 M102.39 192.782 L102.39 188.522 Q104.149 189.356 105.955 189.796 Q107.76 190.235 109.497 190.235 Q114.126 190.235 116.557 187.134 Q119.01 184.009 119.358 177.666 Q118.015 179.657 115.955 180.722 Q113.895 181.786 111.395 181.786 Q106.209 181.786 103.177 178.661 Q100.168 175.513 100.168 170.074 Q100.168 164.749 103.316 161.532 Q106.464 158.314 111.696 158.314 Q117.691 158.314 120.839 162.921 Q124.01 167.504 124.01 176.254 Q124.01 184.425 120.121 189.31 Q116.256 194.171 109.705 194.171 Q107.946 194.171 106.14 193.823 Q104.334 193.476 102.39 192.782 M111.696 178.129 Q114.844 178.129 116.672 175.976 Q118.524 173.823 118.524 170.074 Q118.524 166.347 116.672 164.194 Q114.844 162.018 111.696 162.018 Q108.547 162.018 106.696 164.194 Q104.867 166.347 104.867 170.074 Q104.867 173.823 106.696 175.976 Q108.547 178.129 111.696 178.129 Z\" fill=\"#000000\" fill-rule=\"evenodd\" fill-opacity=\"1\" /><polyline clip-path=\"url(#clip782)\" style=\"stroke:#009af9; stroke-width:4; stroke-opacity:1; fill:none\" points=\"\n",
       "  210.409,705.678 240.996,87.9763 271.584,176.219 302.171,335.057 332.759,176.219 363.346,365.312 393.934,242.402 424.521,323.291 455.109,388.003 485.696,344.683 \n",
       "  516.284,440.948 546.871,359.493 577.459,403.13 608.046,546.84 638.634,374.766 669.221,409.804 699.808,440.948 730.396,385.216 760.983,282.111 791.571,365.312 \n",
       "  822.158,320.617 852.746,348.869 883.333,374.766 913.921,313.878 944.508,257.674 975.096,264.462 1005.68,232.947 1036.27,258.377 1066.86,193.868 1097.45,201.838 \n",
       "  1128.03,159.674 1158.62,200.286 1189.21,191.792 1219.8,198.91 1250.38,161.512 1280.97,211.994 1311.56,190.152 1342.15,250.886 1372.73,255.638 1403.32,221.417 \n",
       "  1433.91,226.644 1464.5,207.002 1495.08,176.219 1525.67,170.336 1556.26,176.219 1586.85,193.117 1617.43,198.28 1648.02,160.011 1678.61,144.452 1709.2,108.739 \n",
       "  1739.78,186.401 1770.37,161.235 1800.96,107.586 1831.55,132.9 1862.13,110.037 1892.72,152.997 1923.31,103.191 1953.9,117.889 1984.48,132.098 2015.07,128.481 \n",
       "  2045.66,124.981 2076.25,129.997 2106.83,151.401 2137.42,147.71 2168.01,176.219 2198.6,156.463 2229.18,168.433 2259.77,149.363 2290.36,108.146 \n",
       "  \"/>\n",
       "<polyline clip-path=\"url(#clip782)\" style=\"stroke:#e26f46; stroke-width:4; stroke-opacity:1; fill:none\" points=\"\n",
       "  210.409,1445.72 240.996,573.313 271.584,543.23 302.171,392.816 332.759,182.236 363.346,152.153 393.934,182.236 424.521,242.402 455.109,152.153 485.696,152.153 \n",
       "  516.284,152.153 546.871,242.402 577.459,152.153 608.046,212.319 638.634,242.402 669.221,212.319 699.808,242.402 730.396,152.153 760.983,182.236 791.571,182.236 \n",
       "  822.158,182.236 852.746,152.153 883.333,212.319 913.921,182.236 944.508,152.153 975.096,242.402 1005.68,152.153 1036.27,242.402 1066.86,272.484 1097.45,272.484 \n",
       "  1128.03,302.567 1158.62,212.319 1189.21,242.402 1219.8,272.484 1250.38,332.65 1280.97,332.65 1311.56,362.733 1342.15,362.733 1372.73,362.733 1403.32,362.733 \n",
       "  1433.91,392.816 1464.5,392.816 1495.08,392.816 1525.67,362.733 1556.26,362.733 1586.85,392.816 1617.43,302.567 1648.02,272.484 1678.61,242.402 1709.2,272.484 \n",
       "  1739.78,302.567 1770.37,272.484 1800.96,302.567 1831.55,362.733 1862.13,302.567 1892.72,212.319 1923.31,272.484 1953.9,302.567 1984.48,272.484 2015.07,332.65 \n",
       "  2045.66,242.402 2076.25,242.402 2106.83,212.319 2137.42,242.402 2168.01,212.319 2198.6,272.484 2229.18,242.402 2259.77,242.402 2290.36,242.402 \n",
       "  \"/>\n",
       "<path clip-path=\"url(#clip780)\" d=\"\n",
       "M1983.27 276.658 L2279.26 276.658 L2279.26 95.2176 L1983.27 95.2176  Z\n",
       "  \" fill=\"#ffffff\" fill-rule=\"evenodd\" fill-opacity=\"1\"/>\n",
       "<polyline clip-path=\"url(#clip780)\" style=\"stroke:#000000; stroke-width:4; stroke-opacity:1; fill:none\" points=\"\n",
       "  1983.27,276.658 2279.26,276.658 2279.26,95.2176 1983.27,95.2176 1983.27,276.658 \n",
       "  \"/>\n",
       "<polyline clip-path=\"url(#clip780)\" style=\"stroke:#009af9; stroke-width:4; stroke-opacity:1; fill:none\" points=\"\n",
       "  2007.77,155.698 2154.75,155.698 \n",
       "  \"/>\n",
       "<path clip-path=\"url(#clip780)\" d=\"M 0 0 M2193.09 175.385 Q2191.29 180.015 2189.58 181.427 Q2187.86 182.839 2184.99 182.839 L2181.59 182.839 L2181.59 179.274 L2184.09 179.274 Q2185.85 179.274 2186.82 178.44 Q2187.79 177.607 2188.97 174.505 L2189.74 172.561 L2179.25 147.052 L2183.77 147.052 L2191.87 167.329 L2199.97 147.052 L2204.48 147.052 L2193.09 175.385 Z\" fill=\"#000000\" fill-rule=\"evenodd\" fill-opacity=\"1\" /><path clip-path=\"url(#clip780)\" d=\"M 0 0 M2210.36 169.042 L2218 169.042 L2218 142.677 L2209.69 144.343 L2209.69 140.084 L2217.96 138.418 L2222.63 138.418 L2222.63 169.042 L2230.27 169.042 L2230.27 172.978 L2210.36 172.978 L2210.36 169.042 Z\" fill=\"#000000\" fill-rule=\"evenodd\" fill-opacity=\"1\" /><polyline clip-path=\"url(#clip780)\" style=\"stroke:#e26f46; stroke-width:4; stroke-opacity:1; fill:none\" points=\"\n",
       "  2007.77,216.178 2154.75,216.178 \n",
       "  \"/>\n",
       "<path clip-path=\"url(#clip780)\" d=\"M 0 0 M2193.09 235.865 Q2191.29 240.495 2189.58 241.907 Q2187.86 243.319 2184.99 243.319 L2181.59 243.319 L2181.59 239.754 L2184.09 239.754 Q2185.85 239.754 2186.82 238.92 Q2187.79 238.087 2188.97 234.985 L2189.74 233.041 L2179.25 207.532 L2183.77 207.532 L2191.87 227.809 L2199.97 207.532 L2204.48 207.532 L2193.09 235.865 Z\" fill=\"#000000\" fill-rule=\"evenodd\" fill-opacity=\"1\" /><path clip-path=\"url(#clip780)\" d=\"M 0 0 M2213.58 229.522 L2229.9 229.522 L2229.9 233.458 L2207.96 233.458 L2207.96 229.522 Q2210.62 226.768 2215.2 222.138 Q2219.81 217.485 2220.99 216.143 Q2223.23 213.62 2224.11 211.884 Q2225.02 210.124 2225.02 208.435 Q2225.02 205.68 2223.07 203.944 Q2221.15 202.208 2218.05 202.208 Q2215.85 202.208 2213.4 202.972 Q2210.96 203.735 2208.19 205.286 L2208.19 200.564 Q2211.01 199.43 2213.46 198.851 Q2215.92 198.273 2217.96 198.273 Q2223.33 198.273 2226.52 200.958 Q2229.71 203.643 2229.71 208.134 Q2229.71 210.263 2228.9 212.185 Q2228.12 214.083 2226.01 216.675 Q2225.43 217.347 2222.33 220.564 Q2219.23 223.759 2213.58 229.522 Z\" fill=\"#000000\" fill-rule=\"evenodd\" fill-opacity=\"1\" /></svg>\n"
      ]
     },
     "execution_count": 133,
     "metadata": {},
     "output_type": "execute_result"
    }
   ],
   "source": [
    "plot(data_schedule, training_losses)\n",
    "plot!(data_schedule, valid_losses)"
   ]
  },
  {
   "cell_type": "markdown",
   "metadata": {},
   "source": [
    "# Final Results"
   ]
  },
  {
   "cell_type": "code",
   "execution_count": 134,
   "metadata": {},
   "outputs": [
    {
     "data": {
      "text/plain": [
       "KNNClassifier(\n",
       "    K = 9,\n",
       "    algorithm = :kdtree,\n",
       "    metric = Euclidean(0.0),\n",
       "    leafsize = 10,\n",
       "    reorder = true,\n",
       "    weights = :uniform)\u001b[34m @695\u001b[39m"
      ]
     },
     "execution_count": 134,
     "metadata": {},
     "output_type": "execute_result"
    }
   ],
   "source": [
    "knn_final = KNNClassifier(K=best.best_model.K)"
   ]
  },
  {
   "cell_type": "code",
   "execution_count": 135,
   "metadata": {},
   "outputs": [
    {
     "data": {
      "text/plain": [
       "\u001b[34mMachine{KNNClassifier} @245\u001b[39m trained 0 times.\n",
       "  args: \n",
       "    1:\t\u001b[34mSource @169\u001b[39m ⏎ `Table{AbstractArray{Continuous,1}}`\n",
       "    2:\t\u001b[34mSource @018\u001b[39m ⏎ `AbstractArray{Multiclass{3},1}`\n"
      ]
     },
     "execution_count": 135,
     "metadata": {},
     "output_type": "execute_result"
    }
   ],
   "source": [
    "KNN_Final = machine(knn_final, X, y)"
   ]
  },
  {
   "cell_type": "code",
   "execution_count": 136,
   "metadata": {},
   "outputs": [
    {
     "name": "stderr",
     "output_type": "stream",
     "text": [
      "┌ Info: Not retraining \u001b[34mMachine{KNNClassifier} @147\u001b[39m. Use `force=true` to force.\n",
      "└ @ MLJBase /home/andrew/.julia/packages/MLJBase/uKzAz/src/machines.jl:322\n"
     ]
    },
    {
     "data": {
      "text/plain": [
       "\u001b[34mMachine{KNNClassifier} @147\u001b[39m trained 8 times.\n",
       "  args: \n",
       "    1:\t\u001b[34mSource @529\u001b[39m ⏎ `Table{AbstractArray{Continuous,1}}`\n",
       "    2:\t\u001b[34mSource @478\u001b[39m ⏎ `AbstractArray{Multiclass{3},1}`\n"
      ]
     },
     "execution_count": 136,
     "metadata": {},
     "output_type": "execute_result"
    }
   ],
   "source": [
    "fit!(KNN, rows=train)"
   ]
  },
  {
   "cell_type": "code",
   "execution_count": 137,
   "metadata": {},
   "outputs": [],
   "source": [
    "ŷ = MLJ.predict(KNN, X_stand[test,:]);"
   ]
  },
  {
   "cell_type": "code",
   "execution_count": 138,
   "metadata": {},
   "outputs": [
    {
     "data": {
      "text/plain": [
       "2.1803242521858515"
      ]
     },
     "execution_count": 138,
     "metadata": {},
     "output_type": "execute_result"
    }
   ],
   "source": [
    "cross_entropy(ŷ, y[test]) |> mean"
   ]
  },
  {
   "cell_type": "code",
   "execution_count": 139,
   "metadata": {},
   "outputs": [
    {
     "data": {
      "text/plain": [
       "0.8342245989304813"
      ]
     },
     "execution_count": 139,
     "metadata": {},
     "output_type": "execute_result"
    }
   ],
   "source": [
    "acc(ŷ, y[test])"
   ]
  },
  {
   "cell_type": "code",
   "execution_count": 140,
   "metadata": {},
   "outputs": [
    {
     "name": "stderr",
     "output_type": "stream",
     "text": [
      "┌ Warning: The classes are un-ordered,\n",
      "│ using order: [\"B\", \"L\", \"R\"].\n",
      "│ To suppress this warning, consider coercing to OrderedFactor.\n",
      "└ @ MLJBase /home/andrew/.julia/packages/MLJBase/uKzAz/src/measures/confusion_matrix.jl:87\n"
     ]
    },
    {
     "data": {
      "text/plain": [
       "              ┌─────────────────────────────────────────┐\n",
       "              │              Ground Truth               │\n",
       "┌─────────────┼─────────────┬─────────────┬─────────────┤\n",
       "│  Predicted  │      B      │      L      │      R      │\n",
       "├─────────────┼─────────────┼─────────────┼─────────────┤\n",
       "│      B      │      1      │      4      │      6      │\n",
       "├─────────────┼─────────────┼─────────────┼─────────────┤\n",
       "│      L      │      2      │     79      │      4      │\n",
       "├─────────────┼─────────────┼─────────────┼─────────────┤\n",
       "│      R      │     12      │      3      │     76      │\n",
       "└─────────────┴─────────────┴─────────────┴─────────────┘\n"
      ]
     },
     "execution_count": 140,
     "metadata": {},
     "output_type": "execute_result"
    }
   ],
   "source": [
    "confusion_matrix(mode.(ŷ), y[test])"
   ]
  },
  {
   "cell_type": "code",
   "execution_count": null,
   "metadata": {},
   "outputs": [],
   "source": []
  },
  {
   "cell_type": "code",
   "execution_count": null,
   "metadata": {},
   "outputs": [],
   "source": []
  }
 ],
 "metadata": {
  "kernelspec": {
   "display_name": "Julia 1.5.0",
   "language": "julia",
   "name": "julia-1.5"
  },
  "language_info": {
   "file_extension": ".jl",
   "mimetype": "application/julia",
   "name": "julia",
   "version": "1.5.0"
  }
 },
 "nbformat": 4,
 "nbformat_minor": 4
}
