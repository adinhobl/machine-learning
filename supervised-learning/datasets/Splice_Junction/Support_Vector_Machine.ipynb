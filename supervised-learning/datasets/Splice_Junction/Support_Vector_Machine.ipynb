{
 "cells": [
  {
   "cell_type": "markdown",
   "metadata": {},
   "source": [
    "# Imports"
   ]
  },
  {
   "cell_type": "code",
   "execution_count": 1,
   "metadata": {},
   "outputs": [],
   "source": [
    "using DataFrames\n",
    "using CSV\n",
    "using MLJ\n",
    "using Plots\n",
    "using StatsBase\n",
    "\n",
    "include(\"../../lib.jl\")\n",
    "\n",
    "ENV[\"LINES\"]=30;"
   ]
  },
  {
   "cell_type": "markdown",
   "metadata": {},
   "source": [
    "# Datasets"
   ]
  },
  {
   "cell_type": "code",
   "execution_count": 2,
   "metadata": {
    "scrolled": true
   },
   "outputs": [
    {
     "data": {
      "text/html": [
       "<table class=\"data-frame\"><thead><tr><th></th><th>Class</th><th> Instance</th><th>                       Nucleotide_Sequence</th></tr><tr><th></th><th>String</th><th>String</th><th>String</th></tr></thead><tbody><p>3,190 rows × 3 columns</p><tr><th>1</th><td>EI</td><td>    ATRINS-DONOR-521</td><td>               CCAGCTGCATCACAGGAGGCCAGCGAGCAGGTCTGTTCCAAGGGCCTTCGAGCCAGTCTG</td></tr><tr><th>2</th><td>EI</td><td>    ATRINS-DONOR-905</td><td>               AGACCCGCCGGGAGGCGGAGGACCTGCAGGGTGAGCCCCACCGCCCCTCCGTGCCCCCGC</td></tr><tr><th>3</th><td>EI</td><td>    BABAPOE-DONOR-30</td><td>               GAGGTGAAGGACGTCCTTCCCCAGGAGCCGGTGAGAAGCGCAGTCGGGGGCACGGGGATG</td></tr><tr><th>4</th><td>EI</td><td>    BABAPOE-DONOR-867</td><td>              GGGCTGCGTTGCTGGTCACATTCCTGGCAGGTATGGGGCGGGGCTTGCTCGGTTTTCCCC</td></tr><tr><th>5</th><td>EI</td><td>    BABAPOE-DONOR-2817</td><td>             GCTCAGCCCCCAGGTCACCCAGGAACTGACGTGAGTGTCCCCATCCCGGCCCTTGACCCT</td></tr><tr><th>6</th><td>EI</td><td>    CHPIGECA-DONOR-378</td><td>             CAGACTGGGTGGACAACAAAACCTTCAGCGGTAAGAGAGGGCCAAGCTCAGAGACCACAG</td></tr><tr><th>7</th><td>EI</td><td>    CHPIGECA-DONOR-903</td><td>             CCTTTGAGGACAGCACCAAGAAGTGTGCAGGTACGTTCCCACCTGCCCTGGTGGCCGCCA</td></tr><tr><th>8</th><td>EI</td><td>    CHPIGECA-DONOR-1313</td><td>            CCCTCGTGCGGTCCACGACCAAGACCAGCGGTGAGCCACGGGCAGGCCGGGGTCGTGGGG</td></tr><tr><th>9</th><td>EI</td><td>    GCRHBBA1-DONOR-1260</td><td>            TGGCGACTACGGCGCGGAGGCCCTGGAGAGGTGAGGACCCTCCTGTCCCTGCTCCAGTCC</td></tr><tr><th>10</th><td>EI</td><td>    GCRHBBA1-DONOR-1590</td><td>            AAGCTGACAGTGGACCCGGTCAACTTCAAGGTGAGCCAGGAGTCGGGTGGGAGGGTGAGA</td></tr><tr><th>11</th><td>EI</td><td>    GCRHBBA6-DONOR-461</td><td>             TGGCGACTACGGCGCGGAGGCCCTGGAGAGGTGAGGACCCTGGTATCCCTGCTGCCAGTC</td></tr><tr><th>12</th><td>EI</td><td>    GCRHBBA6-DONOR-795</td><td>             AAGCTGAGAGTGGACCCTGTCAACTTCAAGGTGAGCCACCAGTCGGGTGGGGAGGGTGAG</td></tr><tr><th>13</th><td>EI</td><td>    GIBHBGGL-DONOR-2278</td><td>            GGAAGATGCTGGAGGAGAAACCCTGGGAAGGTAGGCTCTGGTGACCAGGACAAGGGAGGG</td></tr><tr><th>14</th><td>EI</td><td>    GIBHBGGL-DONOR-2624</td><td>            AAGCTGCATGTGGATCCTGAGAACTTCAGGGTGAGTACAGGAGATGTTTCAGCCCTGTTG</td></tr><tr><th>15</th><td>EI</td><td>    GIBHBGGL-DONOR-7198</td><td>            GGAAGATGTTGGAGGAGAAACCCTGGGAAGGTAGGCTCTGGTGACCAGGACAAGGGAGGG</td></tr><tr><th>16</th><td>EI</td><td>    GIBHBGGL-DONOR-7544</td><td>            AAGCTGCATGTGGATCCTGAGAACTTCAGGGTGAGTACAGGAGATGTTTCAGCCCTGTTG</td></tr><tr><th>17</th><td>EI</td><td>    HUMA1ATP-DONOR-1972</td><td>            GGCACCACCACTGACCTGGGACAGTGAATCGTAAGTATGCCTTTCACTGCGAGGGGTTCT</td></tr><tr><th>18</th><td>EI</td><td>    HUMA1ATP-DONOR-7932</td><td>            TTGCTCTGGTGAATTACATCTTCTTTAAAGGTAAGGTTGCTCAACCAGCCTGAGCTGTTT</td></tr><tr><th>19</th><td>EI</td><td>    HUMA1ATP-DONOR-9653</td><td>            CACCAAGTTCCTGGAAAATGAAGACAGAAGGTGATTCCCCAACCTGAGGGTGACCAAGAA</td></tr><tr><th>20</th><td>EI</td><td>    HUMA1ATP-DONOR-11057</td><td>           ACAGAGGAGGCACCCCTGAAGCTCTCCAAGGTGAGATCACCCTGACGACCTTGTTGCACC</td></tr><tr><th>21</th><td>EI</td><td>    HUMA1GLY2-DONOR-1693</td><td>           GTGCCCATCACCAACGCCACCCTGGACCGGGTGAGTGCCTGGGCTAGCCCTGTCCTGAGC</td></tr><tr><th>22</th><td>EI</td><td>    HUMA1GLY2-DONOR-2251</td><td>           CACGATCTTTCTCAGAGAGTACCAGACCCGGTGAGAGCCCCCATTCCAATGCACCCCCGA</td></tr><tr><th>23</th><td>EI</td><td>    HUMA1GLY2-DONOR-2540</td><td>           AGCGGGAGAATGGGACCGTCTCCAGATACGGTGAGGGCCAGCCCTCAGGCAGGAGGGTTC</td></tr><tr><th>24</th><td>EI</td><td>    HUMA1GLY2-DONOR-3352</td><td>           ATGAGAAGAACTGGGGGCTGTCTTTCTATGGTAGGCATGCTTAGCAGCCCCAAACTCATG</td></tr><tr><th>25</th><td>EI</td><td>    HUMA1GLY2-DONOR-3606</td><td>           TCAGATGTCATGTACACCGACTGGAAAAAGGTAAACGCAAGGGATTGGACATTGCCCACC</td></tr><tr><th>26</th><td>EI</td><td>    HUMACCYBA-DONOR-289</td><td>            GATCCGCCGCCCGTCCACACCCGCCGCCAGGTAAGCCCGGCCAGCCGACCGGGGCATGCG</td></tr><tr><th>27</th><td>EI</td><td>    HUMACCYBA-DONOR-1250</td><td>           CCCTCCATCGTGGGGCGCCCCAGGCACCAGGTAGGGGAGCTGGCTGGGTGGGGCAGCCCC</td></tr><tr><th>28</th><td>EI</td><td>    HUMACCYBA-DONOR-1624</td><td>           CCCAAGGCCAACCGCGAGAAGATGACCCAGGTGAGTGGCCCGCTACCTCTTCTGGTGGCC</td></tr><tr><th>29</th><td>EI</td><td>    HUMACCYBA-DONOR-2504</td><td>           CTGAGGCACTCTTCCAGCCTTCCTTCCTGGGTGAGTGGAGACTGTCTCCCGGCTCTGCCT</td></tr><tr><th>30</th><td>EI</td><td>    HUMACCYBA-DONOR-2781</td><td>           GCCCTGGCACCCAGCACAATGAAGATCAAGGTGGGTGTCTTTCCTGCCTGAGCTGACCTG</td></tr><tr><th>&vellip;</th><td>&vellip;</td><td>&vellip;</td><td>&vellip;</td></tr></tbody></table>"
      ],
      "text/latex": [
       "\\begin{tabular}{r|ccc}\n",
       "\t& Class &  Instance &                        Nucleotide\\_Sequence\\\\\n",
       "\t\\hline\n",
       "\t& String & String & String\\\\\n",
       "\t\\hline\n",
       "\t1 & EI &     ATRINS-DONOR-521 &                CCAGCTGCATCACAGGAGGCCAGCGAGCAGGTCTGTTCCAAGGGCCTTCGAGCCAGTCTG \\\\\n",
       "\t2 & EI &     ATRINS-DONOR-905 &                AGACCCGCCGGGAGGCGGAGGACCTGCAGGGTGAGCCCCACCGCCCCTCCGTGCCCCCGC \\\\\n",
       "\t3 & EI &     BABAPOE-DONOR-30 &                GAGGTGAAGGACGTCCTTCCCCAGGAGCCGGTGAGAAGCGCAGTCGGGGGCACGGGGATG \\\\\n",
       "\t4 & EI &     BABAPOE-DONOR-867 &               GGGCTGCGTTGCTGGTCACATTCCTGGCAGGTATGGGGCGGGGCTTGCTCGGTTTTCCCC \\\\\n",
       "\t5 & EI &     BABAPOE-DONOR-2817 &              GCTCAGCCCCCAGGTCACCCAGGAACTGACGTGAGTGTCCCCATCCCGGCCCTTGACCCT \\\\\n",
       "\t6 & EI &     CHPIGECA-DONOR-378 &              CAGACTGGGTGGACAACAAAACCTTCAGCGGTAAGAGAGGGCCAAGCTCAGAGACCACAG \\\\\n",
       "\t7 & EI &     CHPIGECA-DONOR-903 &              CCTTTGAGGACAGCACCAAGAAGTGTGCAGGTACGTTCCCACCTGCCCTGGTGGCCGCCA \\\\\n",
       "\t8 & EI &     CHPIGECA-DONOR-1313 &             CCCTCGTGCGGTCCACGACCAAGACCAGCGGTGAGCCACGGGCAGGCCGGGGTCGTGGGG \\\\\n",
       "\t9 & EI &     GCRHBBA1-DONOR-1260 &             TGGCGACTACGGCGCGGAGGCCCTGGAGAGGTGAGGACCCTCCTGTCCCTGCTCCAGTCC \\\\\n",
       "\t10 & EI &     GCRHBBA1-DONOR-1590 &             AAGCTGACAGTGGACCCGGTCAACTTCAAGGTGAGCCAGGAGTCGGGTGGGAGGGTGAGA \\\\\n",
       "\t11 & EI &     GCRHBBA6-DONOR-461 &              TGGCGACTACGGCGCGGAGGCCCTGGAGAGGTGAGGACCCTGGTATCCCTGCTGCCAGTC \\\\\n",
       "\t12 & EI &     GCRHBBA6-DONOR-795 &              AAGCTGAGAGTGGACCCTGTCAACTTCAAGGTGAGCCACCAGTCGGGTGGGGAGGGTGAG \\\\\n",
       "\t13 & EI &     GIBHBGGL-DONOR-2278 &             GGAAGATGCTGGAGGAGAAACCCTGGGAAGGTAGGCTCTGGTGACCAGGACAAGGGAGGG \\\\\n",
       "\t14 & EI &     GIBHBGGL-DONOR-2624 &             AAGCTGCATGTGGATCCTGAGAACTTCAGGGTGAGTACAGGAGATGTTTCAGCCCTGTTG \\\\\n",
       "\t15 & EI &     GIBHBGGL-DONOR-7198 &             GGAAGATGTTGGAGGAGAAACCCTGGGAAGGTAGGCTCTGGTGACCAGGACAAGGGAGGG \\\\\n",
       "\t16 & EI &     GIBHBGGL-DONOR-7544 &             AAGCTGCATGTGGATCCTGAGAACTTCAGGGTGAGTACAGGAGATGTTTCAGCCCTGTTG \\\\\n",
       "\t17 & EI &     HUMA1ATP-DONOR-1972 &             GGCACCACCACTGACCTGGGACAGTGAATCGTAAGTATGCCTTTCACTGCGAGGGGTTCT \\\\\n",
       "\t18 & EI &     HUMA1ATP-DONOR-7932 &             TTGCTCTGGTGAATTACATCTTCTTTAAAGGTAAGGTTGCTCAACCAGCCTGAGCTGTTT \\\\\n",
       "\t19 & EI &     HUMA1ATP-DONOR-9653 &             CACCAAGTTCCTGGAAAATGAAGACAGAAGGTGATTCCCCAACCTGAGGGTGACCAAGAA \\\\\n",
       "\t20 & EI &     HUMA1ATP-DONOR-11057 &            ACAGAGGAGGCACCCCTGAAGCTCTCCAAGGTGAGATCACCCTGACGACCTTGTTGCACC \\\\\n",
       "\t21 & EI &     HUMA1GLY2-DONOR-1693 &            GTGCCCATCACCAACGCCACCCTGGACCGGGTGAGTGCCTGGGCTAGCCCTGTCCTGAGC \\\\\n",
       "\t22 & EI &     HUMA1GLY2-DONOR-2251 &            CACGATCTTTCTCAGAGAGTACCAGACCCGGTGAGAGCCCCCATTCCAATGCACCCCCGA \\\\\n",
       "\t23 & EI &     HUMA1GLY2-DONOR-2540 &            AGCGGGAGAATGGGACCGTCTCCAGATACGGTGAGGGCCAGCCCTCAGGCAGGAGGGTTC \\\\\n",
       "\t24 & EI &     HUMA1GLY2-DONOR-3352 &            ATGAGAAGAACTGGGGGCTGTCTTTCTATGGTAGGCATGCTTAGCAGCCCCAAACTCATG \\\\\n",
       "\t25 & EI &     HUMA1GLY2-DONOR-3606 &            TCAGATGTCATGTACACCGACTGGAAAAAGGTAAACGCAAGGGATTGGACATTGCCCACC \\\\\n",
       "\t26 & EI &     HUMACCYBA-DONOR-289 &             GATCCGCCGCCCGTCCACACCCGCCGCCAGGTAAGCCCGGCCAGCCGACCGGGGCATGCG \\\\\n",
       "\t27 & EI &     HUMACCYBA-DONOR-1250 &            CCCTCCATCGTGGGGCGCCCCAGGCACCAGGTAGGGGAGCTGGCTGGGTGGGGCAGCCCC \\\\\n",
       "\t28 & EI &     HUMACCYBA-DONOR-1624 &            CCCAAGGCCAACCGCGAGAAGATGACCCAGGTGAGTGGCCCGCTACCTCTTCTGGTGGCC \\\\\n",
       "\t29 & EI &     HUMACCYBA-DONOR-2504 &            CTGAGGCACTCTTCCAGCCTTCCTTCCTGGGTGAGTGGAGACTGTCTCCCGGCTCTGCCT \\\\\n",
       "\t30 & EI &     HUMACCYBA-DONOR-2781 &            GCCCTGGCACCCAGCACAATGAAGATCAAGGTGGGTGTCTTTCCTGCCTGAGCTGACCTG \\\\\n",
       "\t$\\dots$ & $\\dots$ & $\\dots$ & $\\dots$ \\\\\n",
       "\\end{tabular}\n"
      ],
      "text/plain": [
       "3190×3 DataFrame. Omitted printing of 1 columns\n",
       "│ Row  │ Class  │  Instance               │\n",
       "│      │ \u001b[90mString\u001b[39m │ \u001b[90mString\u001b[39m                  │\n",
       "├──────┼────────┼─────────────────────────┤\n",
       "│ 1    │ EI     │     ATRINS-DONOR-521    │\n",
       "│ 2    │ EI     │     ATRINS-DONOR-905    │\n",
       "│ 3    │ EI     │     BABAPOE-DONOR-30    │\n",
       "│ 4    │ EI     │     BABAPOE-DONOR-867   │\n",
       "│ 5    │ EI     │     BABAPOE-DONOR-2817  │\n",
       "│ 6    │ EI     │     CHPIGECA-DONOR-378  │\n",
       "│ 7    │ EI     │     CHPIGECA-DONOR-903  │\n",
       "│ 8    │ EI     │     CHPIGECA-DONOR-1313 │\n",
       "│ 9    │ EI     │     GCRHBBA1-DONOR-1260 │\n",
       "│ 10   │ EI     │     GCRHBBA1-DONOR-1590 │\n",
       "⋮\n",
       "│ 3180 │ N      │      MNKHBPSBD-NEG-961  │\n",
       "│ 3181 │ N      │      ORAHBA01-NEG-121   │\n",
       "│ 3182 │ N      │      ORAHBBE-NEG-2581   │\n",
       "│ 3183 │ N      │      ORAHBBPSE-NEG-2101 │\n",
       "│ 3184 │ N      │      ORAHBBPSE-NEG-6661 │\n",
       "│ 3185 │ N      │      ORAHBG2F-NEG-181   │\n",
       "│ 3186 │ N      │      ORAHBPSBD-NEG-2881 │\n",
       "│ 3187 │ N      │      ORAINVOL-NEG-2161  │\n",
       "│ 3188 │ N      │      ORARGIT-NEG-241    │\n",
       "│ 3189 │ N      │      TARHBB-NEG-541     │\n",
       "│ 3190 │ N      │      TARHBD-NEG-1981    │"
      ]
     },
     "execution_count": 2,
     "metadata": {},
     "output_type": "execute_result"
    }
   ],
   "source": [
    "df = CSV.read(\"data.csv\")"
   ]
  },
  {
   "cell_type": "code",
   "execution_count": 3,
   "metadata": {
    "scrolled": true
   },
   "outputs": [
    {
     "data": {
      "text/html": [
       "<table class=\"data-frame\"><thead><tr><th></th><th>x1</th><th>x2</th><th>x3</th><th>x4</th><th>x5</th><th>x6</th><th>x7</th><th>x8</th><th>x9</th></tr><tr><th></th><th>Float64</th><th>Float64</th><th>Float64</th><th>Float64</th><th>Float64</th><th>Float64</th><th>Float64</th><th>Float64</th><th>Float64</th></tr></thead><tbody><p>3,190 rows × 60 columns (omitted printing of 51 columns)</p><tr><th>1</th><td>67.0</td><td>67.0</td><td>65.0</td><td>71.0</td><td>67.0</td><td>84.0</td><td>71.0</td><td>67.0</td><td>65.0</td></tr><tr><th>2</th><td>65.0</td><td>71.0</td><td>65.0</td><td>67.0</td><td>67.0</td><td>67.0</td><td>71.0</td><td>67.0</td><td>67.0</td></tr><tr><th>3</th><td>71.0</td><td>65.0</td><td>71.0</td><td>71.0</td><td>84.0</td><td>71.0</td><td>65.0</td><td>65.0</td><td>71.0</td></tr><tr><th>4</th><td>71.0</td><td>71.0</td><td>71.0</td><td>67.0</td><td>84.0</td><td>71.0</td><td>67.0</td><td>71.0</td><td>84.0</td></tr><tr><th>5</th><td>71.0</td><td>67.0</td><td>84.0</td><td>67.0</td><td>65.0</td><td>71.0</td><td>67.0</td><td>67.0</td><td>67.0</td></tr><tr><th>6</th><td>67.0</td><td>65.0</td><td>71.0</td><td>65.0</td><td>67.0</td><td>84.0</td><td>71.0</td><td>71.0</td><td>71.0</td></tr><tr><th>7</th><td>67.0</td><td>67.0</td><td>84.0</td><td>84.0</td><td>84.0</td><td>71.0</td><td>65.0</td><td>71.0</td><td>71.0</td></tr><tr><th>8</th><td>67.0</td><td>67.0</td><td>67.0</td><td>84.0</td><td>67.0</td><td>71.0</td><td>84.0</td><td>71.0</td><td>67.0</td></tr><tr><th>9</th><td>84.0</td><td>71.0</td><td>71.0</td><td>67.0</td><td>71.0</td><td>65.0</td><td>67.0</td><td>84.0</td><td>65.0</td></tr><tr><th>10</th><td>65.0</td><td>65.0</td><td>71.0</td><td>67.0</td><td>84.0</td><td>71.0</td><td>65.0</td><td>67.0</td><td>65.0</td></tr><tr><th>11</th><td>84.0</td><td>71.0</td><td>71.0</td><td>67.0</td><td>71.0</td><td>65.0</td><td>67.0</td><td>84.0</td><td>65.0</td></tr><tr><th>12</th><td>65.0</td><td>65.0</td><td>71.0</td><td>67.0</td><td>84.0</td><td>71.0</td><td>65.0</td><td>71.0</td><td>65.0</td></tr><tr><th>13</th><td>71.0</td><td>71.0</td><td>65.0</td><td>65.0</td><td>71.0</td><td>65.0</td><td>84.0</td><td>71.0</td><td>67.0</td></tr><tr><th>14</th><td>65.0</td><td>65.0</td><td>71.0</td><td>67.0</td><td>84.0</td><td>71.0</td><td>67.0</td><td>65.0</td><td>84.0</td></tr><tr><th>15</th><td>71.0</td><td>71.0</td><td>65.0</td><td>65.0</td><td>71.0</td><td>65.0</td><td>84.0</td><td>71.0</td><td>84.0</td></tr><tr><th>16</th><td>65.0</td><td>65.0</td><td>71.0</td><td>67.0</td><td>84.0</td><td>71.0</td><td>67.0</td><td>65.0</td><td>84.0</td></tr><tr><th>17</th><td>71.0</td><td>71.0</td><td>67.0</td><td>65.0</td><td>67.0</td><td>67.0</td><td>65.0</td><td>67.0</td><td>67.0</td></tr><tr><th>18</th><td>84.0</td><td>84.0</td><td>71.0</td><td>67.0</td><td>84.0</td><td>67.0</td><td>84.0</td><td>71.0</td><td>71.0</td></tr><tr><th>19</th><td>67.0</td><td>65.0</td><td>67.0</td><td>67.0</td><td>65.0</td><td>65.0</td><td>71.0</td><td>84.0</td><td>84.0</td></tr><tr><th>20</th><td>65.0</td><td>67.0</td><td>65.0</td><td>71.0</td><td>65.0</td><td>71.0</td><td>71.0</td><td>65.0</td><td>71.0</td></tr><tr><th>21</th><td>71.0</td><td>84.0</td><td>71.0</td><td>67.0</td><td>67.0</td><td>67.0</td><td>65.0</td><td>84.0</td><td>67.0</td></tr><tr><th>22</th><td>67.0</td><td>65.0</td><td>67.0</td><td>71.0</td><td>65.0</td><td>84.0</td><td>67.0</td><td>84.0</td><td>84.0</td></tr><tr><th>23</th><td>65.0</td><td>71.0</td><td>67.0</td><td>71.0</td><td>71.0</td><td>71.0</td><td>65.0</td><td>71.0</td><td>65.0</td></tr><tr><th>24</th><td>65.0</td><td>84.0</td><td>71.0</td><td>65.0</td><td>71.0</td><td>65.0</td><td>65.0</td><td>71.0</td><td>65.0</td></tr><tr><th>25</th><td>84.0</td><td>67.0</td><td>65.0</td><td>71.0</td><td>65.0</td><td>84.0</td><td>71.0</td><td>84.0</td><td>67.0</td></tr><tr><th>26</th><td>71.0</td><td>65.0</td><td>84.0</td><td>67.0</td><td>67.0</td><td>71.0</td><td>67.0</td><td>67.0</td><td>71.0</td></tr><tr><th>27</th><td>67.0</td><td>67.0</td><td>67.0</td><td>84.0</td><td>67.0</td><td>67.0</td><td>65.0</td><td>84.0</td><td>67.0</td></tr><tr><th>28</th><td>67.0</td><td>67.0</td><td>67.0</td><td>65.0</td><td>65.0</td><td>71.0</td><td>71.0</td><td>67.0</td><td>67.0</td></tr><tr><th>29</th><td>67.0</td><td>84.0</td><td>71.0</td><td>65.0</td><td>71.0</td><td>71.0</td><td>67.0</td><td>65.0</td><td>67.0</td></tr><tr><th>30</th><td>71.0</td><td>67.0</td><td>67.0</td><td>67.0</td><td>84.0</td><td>71.0</td><td>71.0</td><td>67.0</td><td>65.0</td></tr><tr><th>&vellip;</th><td>&vellip;</td><td>&vellip;</td><td>&vellip;</td><td>&vellip;</td><td>&vellip;</td><td>&vellip;</td><td>&vellip;</td><td>&vellip;</td><td>&vellip;</td></tr></tbody></table>"
      ],
      "text/latex": [
       "\\begin{tabular}{r|cccccccccc}\n",
       "\t& x1 & x2 & x3 & x4 & x5 & x6 & x7 & x8 & x9 & \\\\\n",
       "\t\\hline\n",
       "\t& Float64 & Float64 & Float64 & Float64 & Float64 & Float64 & Float64 & Float64 & Float64 & \\\\\n",
       "\t\\hline\n",
       "\t1 & 67.0 & 67.0 & 65.0 & 71.0 & 67.0 & 84.0 & 71.0 & 67.0 & 65.0 & $\\dots$ \\\\\n",
       "\t2 & 65.0 & 71.0 & 65.0 & 67.0 & 67.0 & 67.0 & 71.0 & 67.0 & 67.0 & $\\dots$ \\\\\n",
       "\t3 & 71.0 & 65.0 & 71.0 & 71.0 & 84.0 & 71.0 & 65.0 & 65.0 & 71.0 & $\\dots$ \\\\\n",
       "\t4 & 71.0 & 71.0 & 71.0 & 67.0 & 84.0 & 71.0 & 67.0 & 71.0 & 84.0 & $\\dots$ \\\\\n",
       "\t5 & 71.0 & 67.0 & 84.0 & 67.0 & 65.0 & 71.0 & 67.0 & 67.0 & 67.0 & $\\dots$ \\\\\n",
       "\t6 & 67.0 & 65.0 & 71.0 & 65.0 & 67.0 & 84.0 & 71.0 & 71.0 & 71.0 & $\\dots$ \\\\\n",
       "\t7 & 67.0 & 67.0 & 84.0 & 84.0 & 84.0 & 71.0 & 65.0 & 71.0 & 71.0 & $\\dots$ \\\\\n",
       "\t8 & 67.0 & 67.0 & 67.0 & 84.0 & 67.0 & 71.0 & 84.0 & 71.0 & 67.0 & $\\dots$ \\\\\n",
       "\t9 & 84.0 & 71.0 & 71.0 & 67.0 & 71.0 & 65.0 & 67.0 & 84.0 & 65.0 & $\\dots$ \\\\\n",
       "\t10 & 65.0 & 65.0 & 71.0 & 67.0 & 84.0 & 71.0 & 65.0 & 67.0 & 65.0 & $\\dots$ \\\\\n",
       "\t11 & 84.0 & 71.0 & 71.0 & 67.0 & 71.0 & 65.0 & 67.0 & 84.0 & 65.0 & $\\dots$ \\\\\n",
       "\t12 & 65.0 & 65.0 & 71.0 & 67.0 & 84.0 & 71.0 & 65.0 & 71.0 & 65.0 & $\\dots$ \\\\\n",
       "\t13 & 71.0 & 71.0 & 65.0 & 65.0 & 71.0 & 65.0 & 84.0 & 71.0 & 67.0 & $\\dots$ \\\\\n",
       "\t14 & 65.0 & 65.0 & 71.0 & 67.0 & 84.0 & 71.0 & 67.0 & 65.0 & 84.0 & $\\dots$ \\\\\n",
       "\t15 & 71.0 & 71.0 & 65.0 & 65.0 & 71.0 & 65.0 & 84.0 & 71.0 & 84.0 & $\\dots$ \\\\\n",
       "\t16 & 65.0 & 65.0 & 71.0 & 67.0 & 84.0 & 71.0 & 67.0 & 65.0 & 84.0 & $\\dots$ \\\\\n",
       "\t17 & 71.0 & 71.0 & 67.0 & 65.0 & 67.0 & 67.0 & 65.0 & 67.0 & 67.0 & $\\dots$ \\\\\n",
       "\t18 & 84.0 & 84.0 & 71.0 & 67.0 & 84.0 & 67.0 & 84.0 & 71.0 & 71.0 & $\\dots$ \\\\\n",
       "\t19 & 67.0 & 65.0 & 67.0 & 67.0 & 65.0 & 65.0 & 71.0 & 84.0 & 84.0 & $\\dots$ \\\\\n",
       "\t20 & 65.0 & 67.0 & 65.0 & 71.0 & 65.0 & 71.0 & 71.0 & 65.0 & 71.0 & $\\dots$ \\\\\n",
       "\t21 & 71.0 & 84.0 & 71.0 & 67.0 & 67.0 & 67.0 & 65.0 & 84.0 & 67.0 & $\\dots$ \\\\\n",
       "\t22 & 67.0 & 65.0 & 67.0 & 71.0 & 65.0 & 84.0 & 67.0 & 84.0 & 84.0 & $\\dots$ \\\\\n",
       "\t23 & 65.0 & 71.0 & 67.0 & 71.0 & 71.0 & 71.0 & 65.0 & 71.0 & 65.0 & $\\dots$ \\\\\n",
       "\t24 & 65.0 & 84.0 & 71.0 & 65.0 & 71.0 & 65.0 & 65.0 & 71.0 & 65.0 & $\\dots$ \\\\\n",
       "\t25 & 84.0 & 67.0 & 65.0 & 71.0 & 65.0 & 84.0 & 71.0 & 84.0 & 67.0 & $\\dots$ \\\\\n",
       "\t26 & 71.0 & 65.0 & 84.0 & 67.0 & 67.0 & 71.0 & 67.0 & 67.0 & 71.0 & $\\dots$ \\\\\n",
       "\t27 & 67.0 & 67.0 & 67.0 & 84.0 & 67.0 & 67.0 & 65.0 & 84.0 & 67.0 & $\\dots$ \\\\\n",
       "\t28 & 67.0 & 67.0 & 67.0 & 65.0 & 65.0 & 71.0 & 71.0 & 67.0 & 67.0 & $\\dots$ \\\\\n",
       "\t29 & 67.0 & 84.0 & 71.0 & 65.0 & 71.0 & 71.0 & 67.0 & 65.0 & 67.0 & $\\dots$ \\\\\n",
       "\t30 & 71.0 & 67.0 & 67.0 & 67.0 & 84.0 & 71.0 & 71.0 & 67.0 & 65.0 & $\\dots$ \\\\\n",
       "\t$\\dots$ & $\\dots$ & $\\dots$ & $\\dots$ & $\\dots$ & $\\dots$ & $\\dots$ & $\\dots$ & $\\dots$ & $\\dots$ &  \\\\\n",
       "\\end{tabular}\n"
      ],
      "text/plain": [
       "3190×60 DataFrame. Omitted printing of 53 columns\n",
       "│ Row  │ x1      │ x2      │ x3      │ x4      │ x5      │ x6      │ x7      │\n",
       "│      │ \u001b[90mFloat64\u001b[39m │ \u001b[90mFloat64\u001b[39m │ \u001b[90mFloat64\u001b[39m │ \u001b[90mFloat64\u001b[39m │ \u001b[90mFloat64\u001b[39m │ \u001b[90mFloat64\u001b[39m │ \u001b[90mFloat64\u001b[39m │\n",
       "├──────┼─────────┼─────────┼─────────┼─────────┼─────────┼─────────┼─────────┤\n",
       "│ 1    │ 67.0    │ 67.0    │ 65.0    │ 71.0    │ 67.0    │ 84.0    │ 71.0    │\n",
       "│ 2    │ 65.0    │ 71.0    │ 65.0    │ 67.0    │ 67.0    │ 67.0    │ 71.0    │\n",
       "│ 3    │ 71.0    │ 65.0    │ 71.0    │ 71.0    │ 84.0    │ 71.0    │ 65.0    │\n",
       "│ 4    │ 71.0    │ 71.0    │ 71.0    │ 67.0    │ 84.0    │ 71.0    │ 67.0    │\n",
       "│ 5    │ 71.0    │ 67.0    │ 84.0    │ 67.0    │ 65.0    │ 71.0    │ 67.0    │\n",
       "│ 6    │ 67.0    │ 65.0    │ 71.0    │ 65.0    │ 67.0    │ 84.0    │ 71.0    │\n",
       "│ 7    │ 67.0    │ 67.0    │ 84.0    │ 84.0    │ 84.0    │ 71.0    │ 65.0    │\n",
       "│ 8    │ 67.0    │ 67.0    │ 67.0    │ 84.0    │ 67.0    │ 71.0    │ 84.0    │\n",
       "│ 9    │ 84.0    │ 71.0    │ 71.0    │ 67.0    │ 71.0    │ 65.0    │ 67.0    │\n",
       "│ 10   │ 65.0    │ 65.0    │ 71.0    │ 67.0    │ 84.0    │ 71.0    │ 65.0    │\n",
       "⋮\n",
       "│ 3180 │ 67.0    │ 67.0    │ 84.0    │ 67.0    │ 65.0    │ 71.0    │ 84.0    │\n",
       "│ 3181 │ 67.0    │ 67.0    │ 84.0    │ 71.0    │ 67.0    │ 67.0    │ 71.0    │\n",
       "│ 3182 │ 67.0    │ 84.0    │ 71.0    │ 71.0    │ 65.0    │ 65.0    │ 71.0    │\n",
       "│ 3183 │ 84.0    │ 71.0    │ 84.0    │ 84.0    │ 84.0    │ 67.0    │ 84.0    │\n",
       "│ 3184 │ 84.0    │ 65.0    │ 65.0    │ 65.0    │ 65.0    │ 65.0    │ 65.0    │\n",
       "│ 3185 │ 65.0    │ 84.0    │ 67.0    │ 65.0    │ 65.0    │ 84.0    │ 65.0    │\n",
       "│ 3186 │ 84.0    │ 67.0    │ 84.0    │ 67.0    │ 84.0    │ 84.0    │ 67.0    │\n",
       "│ 3187 │ 71.0    │ 65.0    │ 71.0    │ 67.0    │ 84.0    │ 67.0    │ 67.0    │\n",
       "│ 3188 │ 84.0    │ 67.0    │ 84.0    │ 67.0    │ 71.0    │ 71.0    │ 71.0    │\n",
       "│ 3189 │ 65.0    │ 84.0    │ 84.0    │ 67.0    │ 84.0    │ 65.0    │ 67.0    │\n",
       "│ 3190 │ 65.0    │ 71.0    │ 71.0    │ 67.0    │ 84.0    │ 71.0    │ 67.0    │"
      ]
     },
     "execution_count": 3,
     "metadata": {},
     "output_type": "execute_result"
    }
   ],
   "source": [
    "data = separate_bases(df)"
   ]
  },
  {
   "cell_type": "code",
   "execution_count": 4,
   "metadata": {
    "scrolled": true
   },
   "outputs": [
    {
     "data": {
      "text/html": [
       "<table class=\"data-frame\"><thead><tr><th></th><th>Class</th><th> Instance</th><th>                       Nucleotide_Sequence</th></tr><tr><th></th><th>String</th><th>String</th><th>String</th></tr></thead><tbody><p>3,190 rows × 63 columns (omitted printing of 60 columns)</p><tr><th>1</th><td>EI</td><td>    ATRINS-DONOR-521</td><td>               CCAGCTGCATCACAGGAGGCCAGCGAGCAGGTCTGTTCCAAGGGCCTTCGAGCCAGTCTG</td></tr><tr><th>2</th><td>EI</td><td>    ATRINS-DONOR-905</td><td>               AGACCCGCCGGGAGGCGGAGGACCTGCAGGGTGAGCCCCACCGCCCCTCCGTGCCCCCGC</td></tr><tr><th>3</th><td>EI</td><td>    BABAPOE-DONOR-30</td><td>               GAGGTGAAGGACGTCCTTCCCCAGGAGCCGGTGAGAAGCGCAGTCGGGGGCACGGGGATG</td></tr><tr><th>4</th><td>EI</td><td>    BABAPOE-DONOR-867</td><td>              GGGCTGCGTTGCTGGTCACATTCCTGGCAGGTATGGGGCGGGGCTTGCTCGGTTTTCCCC</td></tr><tr><th>5</th><td>EI</td><td>    BABAPOE-DONOR-2817</td><td>             GCTCAGCCCCCAGGTCACCCAGGAACTGACGTGAGTGTCCCCATCCCGGCCCTTGACCCT</td></tr><tr><th>6</th><td>EI</td><td>    CHPIGECA-DONOR-378</td><td>             CAGACTGGGTGGACAACAAAACCTTCAGCGGTAAGAGAGGGCCAAGCTCAGAGACCACAG</td></tr><tr><th>7</th><td>EI</td><td>    CHPIGECA-DONOR-903</td><td>             CCTTTGAGGACAGCACCAAGAAGTGTGCAGGTACGTTCCCACCTGCCCTGGTGGCCGCCA</td></tr><tr><th>8</th><td>EI</td><td>    CHPIGECA-DONOR-1313</td><td>            CCCTCGTGCGGTCCACGACCAAGACCAGCGGTGAGCCACGGGCAGGCCGGGGTCGTGGGG</td></tr><tr><th>9</th><td>EI</td><td>    GCRHBBA1-DONOR-1260</td><td>            TGGCGACTACGGCGCGGAGGCCCTGGAGAGGTGAGGACCCTCCTGTCCCTGCTCCAGTCC</td></tr><tr><th>10</th><td>EI</td><td>    GCRHBBA1-DONOR-1590</td><td>            AAGCTGACAGTGGACCCGGTCAACTTCAAGGTGAGCCAGGAGTCGGGTGGGAGGGTGAGA</td></tr><tr><th>11</th><td>EI</td><td>    GCRHBBA6-DONOR-461</td><td>             TGGCGACTACGGCGCGGAGGCCCTGGAGAGGTGAGGACCCTGGTATCCCTGCTGCCAGTC</td></tr><tr><th>12</th><td>EI</td><td>    GCRHBBA6-DONOR-795</td><td>             AAGCTGAGAGTGGACCCTGTCAACTTCAAGGTGAGCCACCAGTCGGGTGGGGAGGGTGAG</td></tr><tr><th>13</th><td>EI</td><td>    GIBHBGGL-DONOR-2278</td><td>            GGAAGATGCTGGAGGAGAAACCCTGGGAAGGTAGGCTCTGGTGACCAGGACAAGGGAGGG</td></tr><tr><th>14</th><td>EI</td><td>    GIBHBGGL-DONOR-2624</td><td>            AAGCTGCATGTGGATCCTGAGAACTTCAGGGTGAGTACAGGAGATGTTTCAGCCCTGTTG</td></tr><tr><th>15</th><td>EI</td><td>    GIBHBGGL-DONOR-7198</td><td>            GGAAGATGTTGGAGGAGAAACCCTGGGAAGGTAGGCTCTGGTGACCAGGACAAGGGAGGG</td></tr><tr><th>16</th><td>EI</td><td>    GIBHBGGL-DONOR-7544</td><td>            AAGCTGCATGTGGATCCTGAGAACTTCAGGGTGAGTACAGGAGATGTTTCAGCCCTGTTG</td></tr><tr><th>17</th><td>EI</td><td>    HUMA1ATP-DONOR-1972</td><td>            GGCACCACCACTGACCTGGGACAGTGAATCGTAAGTATGCCTTTCACTGCGAGGGGTTCT</td></tr><tr><th>18</th><td>EI</td><td>    HUMA1ATP-DONOR-7932</td><td>            TTGCTCTGGTGAATTACATCTTCTTTAAAGGTAAGGTTGCTCAACCAGCCTGAGCTGTTT</td></tr><tr><th>19</th><td>EI</td><td>    HUMA1ATP-DONOR-9653</td><td>            CACCAAGTTCCTGGAAAATGAAGACAGAAGGTGATTCCCCAACCTGAGGGTGACCAAGAA</td></tr><tr><th>20</th><td>EI</td><td>    HUMA1ATP-DONOR-11057</td><td>           ACAGAGGAGGCACCCCTGAAGCTCTCCAAGGTGAGATCACCCTGACGACCTTGTTGCACC</td></tr><tr><th>21</th><td>EI</td><td>    HUMA1GLY2-DONOR-1693</td><td>           GTGCCCATCACCAACGCCACCCTGGACCGGGTGAGTGCCTGGGCTAGCCCTGTCCTGAGC</td></tr><tr><th>22</th><td>EI</td><td>    HUMA1GLY2-DONOR-2251</td><td>           CACGATCTTTCTCAGAGAGTACCAGACCCGGTGAGAGCCCCCATTCCAATGCACCCCCGA</td></tr><tr><th>23</th><td>EI</td><td>    HUMA1GLY2-DONOR-2540</td><td>           AGCGGGAGAATGGGACCGTCTCCAGATACGGTGAGGGCCAGCCCTCAGGCAGGAGGGTTC</td></tr><tr><th>24</th><td>EI</td><td>    HUMA1GLY2-DONOR-3352</td><td>           ATGAGAAGAACTGGGGGCTGTCTTTCTATGGTAGGCATGCTTAGCAGCCCCAAACTCATG</td></tr><tr><th>25</th><td>EI</td><td>    HUMA1GLY2-DONOR-3606</td><td>           TCAGATGTCATGTACACCGACTGGAAAAAGGTAAACGCAAGGGATTGGACATTGCCCACC</td></tr><tr><th>26</th><td>EI</td><td>    HUMACCYBA-DONOR-289</td><td>            GATCCGCCGCCCGTCCACACCCGCCGCCAGGTAAGCCCGGCCAGCCGACCGGGGCATGCG</td></tr><tr><th>27</th><td>EI</td><td>    HUMACCYBA-DONOR-1250</td><td>           CCCTCCATCGTGGGGCGCCCCAGGCACCAGGTAGGGGAGCTGGCTGGGTGGGGCAGCCCC</td></tr><tr><th>28</th><td>EI</td><td>    HUMACCYBA-DONOR-1624</td><td>           CCCAAGGCCAACCGCGAGAAGATGACCCAGGTGAGTGGCCCGCTACCTCTTCTGGTGGCC</td></tr><tr><th>29</th><td>EI</td><td>    HUMACCYBA-DONOR-2504</td><td>           CTGAGGCACTCTTCCAGCCTTCCTTCCTGGGTGAGTGGAGACTGTCTCCCGGCTCTGCCT</td></tr><tr><th>30</th><td>EI</td><td>    HUMACCYBA-DONOR-2781</td><td>           GCCCTGGCACCCAGCACAATGAAGATCAAGGTGGGTGTCTTTCCTGCCTGAGCTGACCTG</td></tr><tr><th>&vellip;</th><td>&vellip;</td><td>&vellip;</td><td>&vellip;</td></tr></tbody></table>"
      ],
      "text/latex": [
       "\\begin{tabular}{r|cccc}\n",
       "\t& Class &  Instance &                        Nucleotide\\_Sequence & \\\\\n",
       "\t\\hline\n",
       "\t& String & String & String & \\\\\n",
       "\t\\hline\n",
       "\t1 & EI &     ATRINS-DONOR-521 &                CCAGCTGCATCACAGGAGGCCAGCGAGCAGGTCTGTTCCAAGGGCCTTCGAGCCAGTCTG & $\\dots$ \\\\\n",
       "\t2 & EI &     ATRINS-DONOR-905 &                AGACCCGCCGGGAGGCGGAGGACCTGCAGGGTGAGCCCCACCGCCCCTCCGTGCCCCCGC & $\\dots$ \\\\\n",
       "\t3 & EI &     BABAPOE-DONOR-30 &                GAGGTGAAGGACGTCCTTCCCCAGGAGCCGGTGAGAAGCGCAGTCGGGGGCACGGGGATG & $\\dots$ \\\\\n",
       "\t4 & EI &     BABAPOE-DONOR-867 &               GGGCTGCGTTGCTGGTCACATTCCTGGCAGGTATGGGGCGGGGCTTGCTCGGTTTTCCCC & $\\dots$ \\\\\n",
       "\t5 & EI &     BABAPOE-DONOR-2817 &              GCTCAGCCCCCAGGTCACCCAGGAACTGACGTGAGTGTCCCCATCCCGGCCCTTGACCCT & $\\dots$ \\\\\n",
       "\t6 & EI &     CHPIGECA-DONOR-378 &              CAGACTGGGTGGACAACAAAACCTTCAGCGGTAAGAGAGGGCCAAGCTCAGAGACCACAG & $\\dots$ \\\\\n",
       "\t7 & EI &     CHPIGECA-DONOR-903 &              CCTTTGAGGACAGCACCAAGAAGTGTGCAGGTACGTTCCCACCTGCCCTGGTGGCCGCCA & $\\dots$ \\\\\n",
       "\t8 & EI &     CHPIGECA-DONOR-1313 &             CCCTCGTGCGGTCCACGACCAAGACCAGCGGTGAGCCACGGGCAGGCCGGGGTCGTGGGG & $\\dots$ \\\\\n",
       "\t9 & EI &     GCRHBBA1-DONOR-1260 &             TGGCGACTACGGCGCGGAGGCCCTGGAGAGGTGAGGACCCTCCTGTCCCTGCTCCAGTCC & $\\dots$ \\\\\n",
       "\t10 & EI &     GCRHBBA1-DONOR-1590 &             AAGCTGACAGTGGACCCGGTCAACTTCAAGGTGAGCCAGGAGTCGGGTGGGAGGGTGAGA & $\\dots$ \\\\\n",
       "\t11 & EI &     GCRHBBA6-DONOR-461 &              TGGCGACTACGGCGCGGAGGCCCTGGAGAGGTGAGGACCCTGGTATCCCTGCTGCCAGTC & $\\dots$ \\\\\n",
       "\t12 & EI &     GCRHBBA6-DONOR-795 &              AAGCTGAGAGTGGACCCTGTCAACTTCAAGGTGAGCCACCAGTCGGGTGGGGAGGGTGAG & $\\dots$ \\\\\n",
       "\t13 & EI &     GIBHBGGL-DONOR-2278 &             GGAAGATGCTGGAGGAGAAACCCTGGGAAGGTAGGCTCTGGTGACCAGGACAAGGGAGGG & $\\dots$ \\\\\n",
       "\t14 & EI &     GIBHBGGL-DONOR-2624 &             AAGCTGCATGTGGATCCTGAGAACTTCAGGGTGAGTACAGGAGATGTTTCAGCCCTGTTG & $\\dots$ \\\\\n",
       "\t15 & EI &     GIBHBGGL-DONOR-7198 &             GGAAGATGTTGGAGGAGAAACCCTGGGAAGGTAGGCTCTGGTGACCAGGACAAGGGAGGG & $\\dots$ \\\\\n",
       "\t16 & EI &     GIBHBGGL-DONOR-7544 &             AAGCTGCATGTGGATCCTGAGAACTTCAGGGTGAGTACAGGAGATGTTTCAGCCCTGTTG & $\\dots$ \\\\\n",
       "\t17 & EI &     HUMA1ATP-DONOR-1972 &             GGCACCACCACTGACCTGGGACAGTGAATCGTAAGTATGCCTTTCACTGCGAGGGGTTCT & $\\dots$ \\\\\n",
       "\t18 & EI &     HUMA1ATP-DONOR-7932 &             TTGCTCTGGTGAATTACATCTTCTTTAAAGGTAAGGTTGCTCAACCAGCCTGAGCTGTTT & $\\dots$ \\\\\n",
       "\t19 & EI &     HUMA1ATP-DONOR-9653 &             CACCAAGTTCCTGGAAAATGAAGACAGAAGGTGATTCCCCAACCTGAGGGTGACCAAGAA & $\\dots$ \\\\\n",
       "\t20 & EI &     HUMA1ATP-DONOR-11057 &            ACAGAGGAGGCACCCCTGAAGCTCTCCAAGGTGAGATCACCCTGACGACCTTGTTGCACC & $\\dots$ \\\\\n",
       "\t21 & EI &     HUMA1GLY2-DONOR-1693 &            GTGCCCATCACCAACGCCACCCTGGACCGGGTGAGTGCCTGGGCTAGCCCTGTCCTGAGC & $\\dots$ \\\\\n",
       "\t22 & EI &     HUMA1GLY2-DONOR-2251 &            CACGATCTTTCTCAGAGAGTACCAGACCCGGTGAGAGCCCCCATTCCAATGCACCCCCGA & $\\dots$ \\\\\n",
       "\t23 & EI &     HUMA1GLY2-DONOR-2540 &            AGCGGGAGAATGGGACCGTCTCCAGATACGGTGAGGGCCAGCCCTCAGGCAGGAGGGTTC & $\\dots$ \\\\\n",
       "\t24 & EI &     HUMA1GLY2-DONOR-3352 &            ATGAGAAGAACTGGGGGCTGTCTTTCTATGGTAGGCATGCTTAGCAGCCCCAAACTCATG & $\\dots$ \\\\\n",
       "\t25 & EI &     HUMA1GLY2-DONOR-3606 &            TCAGATGTCATGTACACCGACTGGAAAAAGGTAAACGCAAGGGATTGGACATTGCCCACC & $\\dots$ \\\\\n",
       "\t26 & EI &     HUMACCYBA-DONOR-289 &             GATCCGCCGCCCGTCCACACCCGCCGCCAGGTAAGCCCGGCCAGCCGACCGGGGCATGCG & $\\dots$ \\\\\n",
       "\t27 & EI &     HUMACCYBA-DONOR-1250 &            CCCTCCATCGTGGGGCGCCCCAGGCACCAGGTAGGGGAGCTGGCTGGGTGGGGCAGCCCC & $\\dots$ \\\\\n",
       "\t28 & EI &     HUMACCYBA-DONOR-1624 &            CCCAAGGCCAACCGCGAGAAGATGACCCAGGTGAGTGGCCCGCTACCTCTTCTGGTGGCC & $\\dots$ \\\\\n",
       "\t29 & EI &     HUMACCYBA-DONOR-2504 &            CTGAGGCACTCTTCCAGCCTTCCTTCCTGGGTGAGTGGAGACTGTCTCCCGGCTCTGCCT & $\\dots$ \\\\\n",
       "\t30 & EI &     HUMACCYBA-DONOR-2781 &            GCCCTGGCACCCAGCACAATGAAGATCAAGGTGGGTGTCTTTCCTGCCTGAGCTGACCTG & $\\dots$ \\\\\n",
       "\t$\\dots$ & $\\dots$ & $\\dots$ & $\\dots$ &  \\\\\n",
       "\\end{tabular}\n"
      ],
      "text/plain": [
       "3190×63 DataFrame. Omitted printing of 61 columns\n",
       "│ Row  │ Class  │  Instance               │\n",
       "│      │ \u001b[90mString\u001b[39m │ \u001b[90mString\u001b[39m                  │\n",
       "├──────┼────────┼─────────────────────────┤\n",
       "│ 1    │ EI     │     ATRINS-DONOR-521    │\n",
       "│ 2    │ EI     │     ATRINS-DONOR-905    │\n",
       "│ 3    │ EI     │     BABAPOE-DONOR-30    │\n",
       "│ 4    │ EI     │     BABAPOE-DONOR-867   │\n",
       "│ 5    │ EI     │     BABAPOE-DONOR-2817  │\n",
       "│ 6    │ EI     │     CHPIGECA-DONOR-378  │\n",
       "│ 7    │ EI     │     CHPIGECA-DONOR-903  │\n",
       "│ 8    │ EI     │     CHPIGECA-DONOR-1313 │\n",
       "│ 9    │ EI     │     GCRHBBA1-DONOR-1260 │\n",
       "│ 10   │ EI     │     GCRHBBA1-DONOR-1590 │\n",
       "⋮\n",
       "│ 3180 │ N      │      MNKHBPSBD-NEG-961  │\n",
       "│ 3181 │ N      │      ORAHBA01-NEG-121   │\n",
       "│ 3182 │ N      │      ORAHBBE-NEG-2581   │\n",
       "│ 3183 │ N      │      ORAHBBPSE-NEG-2101 │\n",
       "│ 3184 │ N      │      ORAHBBPSE-NEG-6661 │\n",
       "│ 3185 │ N      │      ORAHBG2F-NEG-181   │\n",
       "│ 3186 │ N      │      ORAHBPSBD-NEG-2881 │\n",
       "│ 3187 │ N      │      ORAINVOL-NEG-2161  │\n",
       "│ 3188 │ N      │      ORARGIT-NEG-241    │\n",
       "│ 3189 │ N      │      TARHBB-NEG-541     │\n",
       "│ 3190 │ N      │      TARHBD-NEG-1981    │"
      ]
     },
     "execution_count": 4,
     "metadata": {},
     "output_type": "execute_result"
    }
   ],
   "source": [
    "data = hcat(df,data)"
   ]
  },
  {
   "cell_type": "code",
   "execution_count": 5,
   "metadata": {},
   "outputs": [],
   "source": [
    "# data[:,3:5]"
   ]
  },
  {
   "cell_type": "code",
   "execution_count": 6,
   "metadata": {
    "scrolled": true
   },
   "outputs": [
    {
     "data": {
      "text/html": [
       "<table class=\"data-frame\"><thead><tr><th></th><th>Class</th><th>x1</th><th>x2</th><th>x3</th><th>x4</th><th>x5</th><th>x6</th><th>x7</th><th>x8</th></tr><tr><th></th><th>String</th><th>Float64</th><th>Float64</th><th>Float64</th><th>Float64</th><th>Float64</th><th>Float64</th><th>Float64</th><th>Float64</th></tr></thead><tbody><p>3,190 rows × 61 columns (omitted printing of 52 columns)</p><tr><th>1</th><td>EI</td><td>67.0</td><td>67.0</td><td>65.0</td><td>71.0</td><td>67.0</td><td>84.0</td><td>71.0</td><td>67.0</td></tr><tr><th>2</th><td>EI</td><td>65.0</td><td>71.0</td><td>65.0</td><td>67.0</td><td>67.0</td><td>67.0</td><td>71.0</td><td>67.0</td></tr><tr><th>3</th><td>EI</td><td>71.0</td><td>65.0</td><td>71.0</td><td>71.0</td><td>84.0</td><td>71.0</td><td>65.0</td><td>65.0</td></tr><tr><th>4</th><td>EI</td><td>71.0</td><td>71.0</td><td>71.0</td><td>67.0</td><td>84.0</td><td>71.0</td><td>67.0</td><td>71.0</td></tr><tr><th>5</th><td>EI</td><td>71.0</td><td>67.0</td><td>84.0</td><td>67.0</td><td>65.0</td><td>71.0</td><td>67.0</td><td>67.0</td></tr><tr><th>6</th><td>EI</td><td>67.0</td><td>65.0</td><td>71.0</td><td>65.0</td><td>67.0</td><td>84.0</td><td>71.0</td><td>71.0</td></tr><tr><th>7</th><td>EI</td><td>67.0</td><td>67.0</td><td>84.0</td><td>84.0</td><td>84.0</td><td>71.0</td><td>65.0</td><td>71.0</td></tr><tr><th>8</th><td>EI</td><td>67.0</td><td>67.0</td><td>67.0</td><td>84.0</td><td>67.0</td><td>71.0</td><td>84.0</td><td>71.0</td></tr><tr><th>9</th><td>EI</td><td>84.0</td><td>71.0</td><td>71.0</td><td>67.0</td><td>71.0</td><td>65.0</td><td>67.0</td><td>84.0</td></tr><tr><th>10</th><td>EI</td><td>65.0</td><td>65.0</td><td>71.0</td><td>67.0</td><td>84.0</td><td>71.0</td><td>65.0</td><td>67.0</td></tr><tr><th>11</th><td>EI</td><td>84.0</td><td>71.0</td><td>71.0</td><td>67.0</td><td>71.0</td><td>65.0</td><td>67.0</td><td>84.0</td></tr><tr><th>12</th><td>EI</td><td>65.0</td><td>65.0</td><td>71.0</td><td>67.0</td><td>84.0</td><td>71.0</td><td>65.0</td><td>71.0</td></tr><tr><th>13</th><td>EI</td><td>71.0</td><td>71.0</td><td>65.0</td><td>65.0</td><td>71.0</td><td>65.0</td><td>84.0</td><td>71.0</td></tr><tr><th>14</th><td>EI</td><td>65.0</td><td>65.0</td><td>71.0</td><td>67.0</td><td>84.0</td><td>71.0</td><td>67.0</td><td>65.0</td></tr><tr><th>15</th><td>EI</td><td>71.0</td><td>71.0</td><td>65.0</td><td>65.0</td><td>71.0</td><td>65.0</td><td>84.0</td><td>71.0</td></tr><tr><th>16</th><td>EI</td><td>65.0</td><td>65.0</td><td>71.0</td><td>67.0</td><td>84.0</td><td>71.0</td><td>67.0</td><td>65.0</td></tr><tr><th>17</th><td>EI</td><td>71.0</td><td>71.0</td><td>67.0</td><td>65.0</td><td>67.0</td><td>67.0</td><td>65.0</td><td>67.0</td></tr><tr><th>18</th><td>EI</td><td>84.0</td><td>84.0</td><td>71.0</td><td>67.0</td><td>84.0</td><td>67.0</td><td>84.0</td><td>71.0</td></tr><tr><th>19</th><td>EI</td><td>67.0</td><td>65.0</td><td>67.0</td><td>67.0</td><td>65.0</td><td>65.0</td><td>71.0</td><td>84.0</td></tr><tr><th>20</th><td>EI</td><td>65.0</td><td>67.0</td><td>65.0</td><td>71.0</td><td>65.0</td><td>71.0</td><td>71.0</td><td>65.0</td></tr><tr><th>21</th><td>EI</td><td>71.0</td><td>84.0</td><td>71.0</td><td>67.0</td><td>67.0</td><td>67.0</td><td>65.0</td><td>84.0</td></tr><tr><th>22</th><td>EI</td><td>67.0</td><td>65.0</td><td>67.0</td><td>71.0</td><td>65.0</td><td>84.0</td><td>67.0</td><td>84.0</td></tr><tr><th>23</th><td>EI</td><td>65.0</td><td>71.0</td><td>67.0</td><td>71.0</td><td>71.0</td><td>71.0</td><td>65.0</td><td>71.0</td></tr><tr><th>24</th><td>EI</td><td>65.0</td><td>84.0</td><td>71.0</td><td>65.0</td><td>71.0</td><td>65.0</td><td>65.0</td><td>71.0</td></tr><tr><th>25</th><td>EI</td><td>84.0</td><td>67.0</td><td>65.0</td><td>71.0</td><td>65.0</td><td>84.0</td><td>71.0</td><td>84.0</td></tr><tr><th>26</th><td>EI</td><td>71.0</td><td>65.0</td><td>84.0</td><td>67.0</td><td>67.0</td><td>71.0</td><td>67.0</td><td>67.0</td></tr><tr><th>27</th><td>EI</td><td>67.0</td><td>67.0</td><td>67.0</td><td>84.0</td><td>67.0</td><td>67.0</td><td>65.0</td><td>84.0</td></tr><tr><th>28</th><td>EI</td><td>67.0</td><td>67.0</td><td>67.0</td><td>65.0</td><td>65.0</td><td>71.0</td><td>71.0</td><td>67.0</td></tr><tr><th>29</th><td>EI</td><td>67.0</td><td>84.0</td><td>71.0</td><td>65.0</td><td>71.0</td><td>71.0</td><td>67.0</td><td>65.0</td></tr><tr><th>30</th><td>EI</td><td>71.0</td><td>67.0</td><td>67.0</td><td>67.0</td><td>84.0</td><td>71.0</td><td>71.0</td><td>67.0</td></tr><tr><th>&vellip;</th><td>&vellip;</td><td>&vellip;</td><td>&vellip;</td><td>&vellip;</td><td>&vellip;</td><td>&vellip;</td><td>&vellip;</td><td>&vellip;</td><td>&vellip;</td></tr></tbody></table>"
      ],
      "text/latex": [
       "\\begin{tabular}{r|cccccccccc}\n",
       "\t& Class & x1 & x2 & x3 & x4 & x5 & x6 & x7 & x8 & \\\\\n",
       "\t\\hline\n",
       "\t& String & Float64 & Float64 & Float64 & Float64 & Float64 & Float64 & Float64 & Float64 & \\\\\n",
       "\t\\hline\n",
       "\t1 & EI & 67.0 & 67.0 & 65.0 & 71.0 & 67.0 & 84.0 & 71.0 & 67.0 & $\\dots$ \\\\\n",
       "\t2 & EI & 65.0 & 71.0 & 65.0 & 67.0 & 67.0 & 67.0 & 71.0 & 67.0 & $\\dots$ \\\\\n",
       "\t3 & EI & 71.0 & 65.0 & 71.0 & 71.0 & 84.0 & 71.0 & 65.0 & 65.0 & $\\dots$ \\\\\n",
       "\t4 & EI & 71.0 & 71.0 & 71.0 & 67.0 & 84.0 & 71.0 & 67.0 & 71.0 & $\\dots$ \\\\\n",
       "\t5 & EI & 71.0 & 67.0 & 84.0 & 67.0 & 65.0 & 71.0 & 67.0 & 67.0 & $\\dots$ \\\\\n",
       "\t6 & EI & 67.0 & 65.0 & 71.0 & 65.0 & 67.0 & 84.0 & 71.0 & 71.0 & $\\dots$ \\\\\n",
       "\t7 & EI & 67.0 & 67.0 & 84.0 & 84.0 & 84.0 & 71.0 & 65.0 & 71.0 & $\\dots$ \\\\\n",
       "\t8 & EI & 67.0 & 67.0 & 67.0 & 84.0 & 67.0 & 71.0 & 84.0 & 71.0 & $\\dots$ \\\\\n",
       "\t9 & EI & 84.0 & 71.0 & 71.0 & 67.0 & 71.0 & 65.0 & 67.0 & 84.0 & $\\dots$ \\\\\n",
       "\t10 & EI & 65.0 & 65.0 & 71.0 & 67.0 & 84.0 & 71.0 & 65.0 & 67.0 & $\\dots$ \\\\\n",
       "\t11 & EI & 84.0 & 71.0 & 71.0 & 67.0 & 71.0 & 65.0 & 67.0 & 84.0 & $\\dots$ \\\\\n",
       "\t12 & EI & 65.0 & 65.0 & 71.0 & 67.0 & 84.0 & 71.0 & 65.0 & 71.0 & $\\dots$ \\\\\n",
       "\t13 & EI & 71.0 & 71.0 & 65.0 & 65.0 & 71.0 & 65.0 & 84.0 & 71.0 & $\\dots$ \\\\\n",
       "\t14 & EI & 65.0 & 65.0 & 71.0 & 67.0 & 84.0 & 71.0 & 67.0 & 65.0 & $\\dots$ \\\\\n",
       "\t15 & EI & 71.0 & 71.0 & 65.0 & 65.0 & 71.0 & 65.0 & 84.0 & 71.0 & $\\dots$ \\\\\n",
       "\t16 & EI & 65.0 & 65.0 & 71.0 & 67.0 & 84.0 & 71.0 & 67.0 & 65.0 & $\\dots$ \\\\\n",
       "\t17 & EI & 71.0 & 71.0 & 67.0 & 65.0 & 67.0 & 67.0 & 65.0 & 67.0 & $\\dots$ \\\\\n",
       "\t18 & EI & 84.0 & 84.0 & 71.0 & 67.0 & 84.0 & 67.0 & 84.0 & 71.0 & $\\dots$ \\\\\n",
       "\t19 & EI & 67.0 & 65.0 & 67.0 & 67.0 & 65.0 & 65.0 & 71.0 & 84.0 & $\\dots$ \\\\\n",
       "\t20 & EI & 65.0 & 67.0 & 65.0 & 71.0 & 65.0 & 71.0 & 71.0 & 65.0 & $\\dots$ \\\\\n",
       "\t21 & EI & 71.0 & 84.0 & 71.0 & 67.0 & 67.0 & 67.0 & 65.0 & 84.0 & $\\dots$ \\\\\n",
       "\t22 & EI & 67.0 & 65.0 & 67.0 & 71.0 & 65.0 & 84.0 & 67.0 & 84.0 & $\\dots$ \\\\\n",
       "\t23 & EI & 65.0 & 71.0 & 67.0 & 71.0 & 71.0 & 71.0 & 65.0 & 71.0 & $\\dots$ \\\\\n",
       "\t24 & EI & 65.0 & 84.0 & 71.0 & 65.0 & 71.0 & 65.0 & 65.0 & 71.0 & $\\dots$ \\\\\n",
       "\t25 & EI & 84.0 & 67.0 & 65.0 & 71.0 & 65.0 & 84.0 & 71.0 & 84.0 & $\\dots$ \\\\\n",
       "\t26 & EI & 71.0 & 65.0 & 84.0 & 67.0 & 67.0 & 71.0 & 67.0 & 67.0 & $\\dots$ \\\\\n",
       "\t27 & EI & 67.0 & 67.0 & 67.0 & 84.0 & 67.0 & 67.0 & 65.0 & 84.0 & $\\dots$ \\\\\n",
       "\t28 & EI & 67.0 & 67.0 & 67.0 & 65.0 & 65.0 & 71.0 & 71.0 & 67.0 & $\\dots$ \\\\\n",
       "\t29 & EI & 67.0 & 84.0 & 71.0 & 65.0 & 71.0 & 71.0 & 67.0 & 65.0 & $\\dots$ \\\\\n",
       "\t30 & EI & 71.0 & 67.0 & 67.0 & 67.0 & 84.0 & 71.0 & 71.0 & 67.0 & $\\dots$ \\\\\n",
       "\t$\\dots$ & $\\dots$ & $\\dots$ & $\\dots$ & $\\dots$ & $\\dots$ & $\\dots$ & $\\dots$ & $\\dots$ & $\\dots$ &  \\\\\n",
       "\\end{tabular}\n"
      ],
      "text/plain": [
       "3190×61 DataFrame. Omitted printing of 54 columns\n",
       "│ Row  │ Class  │ x1      │ x2      │ x3      │ x4      │ x5      │ x6      │\n",
       "│      │ \u001b[90mString\u001b[39m │ \u001b[90mFloat64\u001b[39m │ \u001b[90mFloat64\u001b[39m │ \u001b[90mFloat64\u001b[39m │ \u001b[90mFloat64\u001b[39m │ \u001b[90mFloat64\u001b[39m │ \u001b[90mFloat64\u001b[39m │\n",
       "├──────┼────────┼─────────┼─────────┼─────────┼─────────┼─────────┼─────────┤\n",
       "│ 1    │ EI     │ 67.0    │ 67.0    │ 65.0    │ 71.0    │ 67.0    │ 84.0    │\n",
       "│ 2    │ EI     │ 65.0    │ 71.0    │ 65.0    │ 67.0    │ 67.0    │ 67.0    │\n",
       "│ 3    │ EI     │ 71.0    │ 65.0    │ 71.0    │ 71.0    │ 84.0    │ 71.0    │\n",
       "│ 4    │ EI     │ 71.0    │ 71.0    │ 71.0    │ 67.0    │ 84.0    │ 71.0    │\n",
       "│ 5    │ EI     │ 71.0    │ 67.0    │ 84.0    │ 67.0    │ 65.0    │ 71.0    │\n",
       "│ 6    │ EI     │ 67.0    │ 65.0    │ 71.0    │ 65.0    │ 67.0    │ 84.0    │\n",
       "│ 7    │ EI     │ 67.0    │ 67.0    │ 84.0    │ 84.0    │ 84.0    │ 71.0    │\n",
       "│ 8    │ EI     │ 67.0    │ 67.0    │ 67.0    │ 84.0    │ 67.0    │ 71.0    │\n",
       "│ 9    │ EI     │ 84.0    │ 71.0    │ 71.0    │ 67.0    │ 71.0    │ 65.0    │\n",
       "│ 10   │ EI     │ 65.0    │ 65.0    │ 71.0    │ 67.0    │ 84.0    │ 71.0    │\n",
       "⋮\n",
       "│ 3180 │ N      │ 67.0    │ 67.0    │ 84.0    │ 67.0    │ 65.0    │ 71.0    │\n",
       "│ 3181 │ N      │ 67.0    │ 67.0    │ 84.0    │ 71.0    │ 67.0    │ 67.0    │\n",
       "│ 3182 │ N      │ 67.0    │ 84.0    │ 71.0    │ 71.0    │ 65.0    │ 65.0    │\n",
       "│ 3183 │ N      │ 84.0    │ 71.0    │ 84.0    │ 84.0    │ 84.0    │ 67.0    │\n",
       "│ 3184 │ N      │ 84.0    │ 65.0    │ 65.0    │ 65.0    │ 65.0    │ 65.0    │\n",
       "│ 3185 │ N      │ 65.0    │ 84.0    │ 67.0    │ 65.0    │ 65.0    │ 84.0    │\n",
       "│ 3186 │ N      │ 84.0    │ 67.0    │ 84.0    │ 67.0    │ 84.0    │ 84.0    │\n",
       "│ 3187 │ N      │ 71.0    │ 65.0    │ 71.0    │ 67.0    │ 84.0    │ 67.0    │\n",
       "│ 3188 │ N      │ 84.0    │ 67.0    │ 84.0    │ 67.0    │ 71.0    │ 71.0    │\n",
       "│ 3189 │ N      │ 65.0    │ 84.0    │ 84.0    │ 67.0    │ 84.0    │ 65.0    │\n",
       "│ 3190 │ N      │ 65.0    │ 71.0    │ 71.0    │ 67.0    │ 84.0    │ 71.0    │"
      ]
     },
     "execution_count": 6,
     "metadata": {},
     "output_type": "execute_result"
    }
   ],
   "source": [
    "data = data[:, Not(2:3)]"
   ]
  },
  {
   "cell_type": "markdown",
   "metadata": {},
   "source": [
    "Look at class labels to see if dataset is imbalanced"
   ]
  },
  {
   "cell_type": "code",
   "execution_count": 7,
   "metadata": {},
   "outputs": [
    {
     "data": {
      "text/plain": [
       "Dict{String,Int64} with 3 entries:\n",
       "  \"IE\" => 768\n",
       "  \"EI\" => 767\n",
       "  \"N\"  => 1655"
      ]
     },
     "execution_count": 7,
     "metadata": {},
     "output_type": "execute_result"
    }
   ],
   "source": [
    "label_counts = countmap(data[:Class])"
   ]
  },
  {
   "cell_type": "code",
   "execution_count": 8,
   "metadata": {},
   "outputs": [
    {
     "data": {
      "text/plain": [
       "3-element Array{Float64,1}:\n",
       " 0.24075235109717869\n",
       " 0.24043887147335424\n",
       " 0.5188087774294671"
      ]
     },
     "execution_count": 8,
     "metadata": {},
     "output_type": "execute_result"
    }
   ],
   "source": [
    "collect(label_counts[i] / size(data)[1] for i in keys(label_counts))"
   ]
  },
  {
   "cell_type": "markdown",
   "metadata": {},
   "source": [
    "Get data ready for training"
   ]
  },
  {
   "cell_type": "code",
   "execution_count": 9,
   "metadata": {
    "scrolled": true
   },
   "outputs": [
    {
     "data": {
      "text/plain": [
       "┌\u001b[0m─────────\u001b[0m┬\u001b[0m─────────────────────────────────\u001b[0m┬\u001b[0m───────────────\u001b[0m┐\u001b[0m\n",
       "│\u001b[0m\u001b[22m _.names \u001b[0m│\u001b[0m\u001b[22m _.types                         \u001b[0m│\u001b[0m\u001b[22m _.scitypes    \u001b[0m│\u001b[0m\n",
       "├\u001b[0m─────────\u001b[0m┼\u001b[0m─────────────────────────────────\u001b[0m┼\u001b[0m───────────────\u001b[0m┤\u001b[0m\n",
       "│\u001b[0m Class   \u001b[0m│\u001b[0m CategoricalValue{String,UInt32} \u001b[0m│\u001b[0m Multiclass{3} \u001b[0m│\u001b[0m\n",
       "│\u001b[0m x1      \u001b[0m│\u001b[0m Float64                         \u001b[0m│\u001b[0m Continuous    \u001b[0m│\u001b[0m\n",
       "│\u001b[0m x2      \u001b[0m│\u001b[0m Float64                         \u001b[0m│\u001b[0m Continuous    \u001b[0m│\u001b[0m\n",
       "│\u001b[0m x3      \u001b[0m│\u001b[0m Float64                         \u001b[0m│\u001b[0m Continuous    \u001b[0m│\u001b[0m\n",
       "│\u001b[0m x4      \u001b[0m│\u001b[0m Float64                         \u001b[0m│\u001b[0m Continuous    \u001b[0m│\u001b[0m\n",
       "│\u001b[0m x5      \u001b[0m│\u001b[0m Float64                         \u001b[0m│\u001b[0m Continuous    \u001b[0m│\u001b[0m\n",
       "│\u001b[0m x6      \u001b[0m│\u001b[0m Float64                         \u001b[0m│\u001b[0m Continuous    \u001b[0m│\u001b[0m\n",
       "│\u001b[0m x7      \u001b[0m│\u001b[0m Float64                         \u001b[0m│\u001b[0m Continuous    \u001b[0m│\u001b[0m\n",
       "│\u001b[0m x8      \u001b[0m│\u001b[0m Float64                         \u001b[0m│\u001b[0m Continuous    \u001b[0m│\u001b[0m\n",
       "│\u001b[0m x9      \u001b[0m│\u001b[0m Float64                         \u001b[0m│\u001b[0m Continuous    \u001b[0m│\u001b[0m\n",
       "│\u001b[0m x10     \u001b[0m│\u001b[0m Float64                         \u001b[0m│\u001b[0m Continuous    \u001b[0m│\u001b[0m\n",
       "│\u001b[0m x11     \u001b[0m│\u001b[0m Float64                         \u001b[0m│\u001b[0m Continuous    \u001b[0m│\u001b[0m\n",
       "│\u001b[0m x12     \u001b[0m│\u001b[0m Float64                         \u001b[0m│\u001b[0m Continuous    \u001b[0m│\u001b[0m\n",
       "│\u001b[0m x13     \u001b[0m│\u001b[0m Float64                         \u001b[0m│\u001b[0m Continuous    \u001b[0m│\u001b[0m\n",
       "│\u001b[0m x14     \u001b[0m│\u001b[0m Float64                         \u001b[0m│\u001b[0m Continuous    \u001b[0m│\u001b[0m\n",
       "│\u001b[0m x15     \u001b[0m│\u001b[0m Float64                         \u001b[0m│\u001b[0m Continuous    \u001b[0m│\u001b[0m\n",
       "│\u001b[0m x16     \u001b[0m│\u001b[0m Float64                         \u001b[0m│\u001b[0m Continuous    \u001b[0m│\u001b[0m\n",
       "│\u001b[0m x17     \u001b[0m│\u001b[0m Float64                         \u001b[0m│\u001b[0m Continuous    \u001b[0m│\u001b[0m\n",
       "│\u001b[0m x18     \u001b[0m│\u001b[0m Float64                         \u001b[0m│\u001b[0m Continuous    \u001b[0m│\u001b[0m\n",
       "│\u001b[0m x19     \u001b[0m│\u001b[0m Float64                         \u001b[0m│\u001b[0m Continuous    \u001b[0m│\u001b[0m\n",
       "│\u001b[0m x20     \u001b[0m│\u001b[0m Float64                         \u001b[0m│\u001b[0m Continuous    \u001b[0m│\u001b[0m\n",
       "│\u001b[0m x21     \u001b[0m│\u001b[0m Float64                         \u001b[0m│\u001b[0m Continuous    \u001b[0m│\u001b[0m\n",
       "│\u001b[0m x22     \u001b[0m│\u001b[0m Float64                         \u001b[0m│\u001b[0m Continuous    \u001b[0m│\u001b[0m\n",
       "│\u001b[0m x23     \u001b[0m│\u001b[0m Float64                         \u001b[0m│\u001b[0m Continuous    \u001b[0m│\u001b[0m\n",
       "│\u001b[0m x24     \u001b[0m│\u001b[0m Float64                         \u001b[0m│\u001b[0m Continuous    \u001b[0m│\u001b[0m\n",
       "│\u001b[0m x25     \u001b[0m│\u001b[0m Float64                         \u001b[0m│\u001b[0m Continuous    \u001b[0m│\u001b[0m\n",
       "│\u001b[0m x26     \u001b[0m│\u001b[0m Float64                         \u001b[0m│\u001b[0m Continuous    \u001b[0m│\u001b[0m\n",
       "│\u001b[0m x27     \u001b[0m│\u001b[0m Float64                         \u001b[0m│\u001b[0m Continuous    \u001b[0m│\u001b[0m\n",
       "│\u001b[0m x28     \u001b[0m│\u001b[0m Float64                         \u001b[0m│\u001b[0m Continuous    \u001b[0m│\u001b[0m\n",
       "│\u001b[0m x29     \u001b[0m│\u001b[0m Float64                         \u001b[0m│\u001b[0m Continuous    \u001b[0m│\u001b[0m\n",
       "│\u001b[0m x30     \u001b[0m│\u001b[0m Float64                         \u001b[0m│\u001b[0m Continuous    \u001b[0m│\u001b[0m\n",
       "│\u001b[0m x31     \u001b[0m│\u001b[0m Float64                         \u001b[0m│\u001b[0m Continuous    \u001b[0m│\u001b[0m\n",
       "│\u001b[0m x32     \u001b[0m│\u001b[0m Float64                         \u001b[0m│\u001b[0m Continuous    \u001b[0m│\u001b[0m\n",
       "│\u001b[0m x33     \u001b[0m│\u001b[0m Float64                         \u001b[0m│\u001b[0m Continuous    \u001b[0m│\u001b[0m\n",
       "│\u001b[0m x34     \u001b[0m│\u001b[0m Float64                         \u001b[0m│\u001b[0m Continuous    \u001b[0m│\u001b[0m\n",
       "│\u001b[0m x35     \u001b[0m│\u001b[0m Float64                         \u001b[0m│\u001b[0m Continuous    \u001b[0m│\u001b[0m\n",
       "│\u001b[0m x36     \u001b[0m│\u001b[0m Float64                         \u001b[0m│\u001b[0m Continuous    \u001b[0m│\u001b[0m\n",
       "│\u001b[0m x37     \u001b[0m│\u001b[0m Float64                         \u001b[0m│\u001b[0m Continuous    \u001b[0m│\u001b[0m\n",
       "│\u001b[0m x38     \u001b[0m│\u001b[0m Float64                         \u001b[0m│\u001b[0m Continuous    \u001b[0m│\u001b[0m\n",
       "│\u001b[0m x39     \u001b[0m│\u001b[0m Float64                         \u001b[0m│\u001b[0m Continuous    \u001b[0m│\u001b[0m\n",
       "│\u001b[0m x40     \u001b[0m│\u001b[0m Float64                         \u001b[0m│\u001b[0m Continuous    \u001b[0m│\u001b[0m\n",
       "│\u001b[0m x41     \u001b[0m│\u001b[0m Float64                         \u001b[0m│\u001b[0m Continuous    \u001b[0m│\u001b[0m\n",
       "│\u001b[0m x42     \u001b[0m│\u001b[0m Float64                         \u001b[0m│\u001b[0m Continuous    \u001b[0m│\u001b[0m\n",
       "│\u001b[0m x43     \u001b[0m│\u001b[0m Float64                         \u001b[0m│\u001b[0m Continuous    \u001b[0m│\u001b[0m\n",
       "│\u001b[0m x44     \u001b[0m│\u001b[0m Float64                         \u001b[0m│\u001b[0m Continuous    \u001b[0m│\u001b[0m\n",
       "│\u001b[0m x45     \u001b[0m│\u001b[0m Float64                         \u001b[0m│\u001b[0m Continuous    \u001b[0m│\u001b[0m\n",
       "│\u001b[0m x46     \u001b[0m│\u001b[0m Float64                         \u001b[0m│\u001b[0m Continuous    \u001b[0m│\u001b[0m\n",
       "│\u001b[0m x47     \u001b[0m│\u001b[0m Float64                         \u001b[0m│\u001b[0m Continuous    \u001b[0m│\u001b[0m\n",
       "│\u001b[0m x48     \u001b[0m│\u001b[0m Float64                         \u001b[0m│\u001b[0m Continuous    \u001b[0m│\u001b[0m\n",
       "│\u001b[0m x49     \u001b[0m│\u001b[0m Float64                         \u001b[0m│\u001b[0m Continuous    \u001b[0m│\u001b[0m\n",
       "│\u001b[0m x50     \u001b[0m│\u001b[0m Float64                         \u001b[0m│\u001b[0m Continuous    \u001b[0m│\u001b[0m\n",
       "│\u001b[0m x51     \u001b[0m│\u001b[0m Float64                         \u001b[0m│\u001b[0m Continuous    \u001b[0m│\u001b[0m\n",
       "│\u001b[0m x52     \u001b[0m│\u001b[0m Float64                         \u001b[0m│\u001b[0m Continuous    \u001b[0m│\u001b[0m\n",
       "│\u001b[0m x53     \u001b[0m│\u001b[0m Float64                         \u001b[0m│\u001b[0m Continuous    \u001b[0m│\u001b[0m\n",
       "│\u001b[0m x54     \u001b[0m│\u001b[0m Float64                         \u001b[0m│\u001b[0m Continuous    \u001b[0m│\u001b[0m\n",
       "│\u001b[0m x55     \u001b[0m│\u001b[0m Float64                         \u001b[0m│\u001b[0m Continuous    \u001b[0m│\u001b[0m\n",
       "│\u001b[0m x56     \u001b[0m│\u001b[0m Float64                         \u001b[0m│\u001b[0m Continuous    \u001b[0m│\u001b[0m\n",
       "│\u001b[0m x57     \u001b[0m│\u001b[0m Float64                         \u001b[0m│\u001b[0m Continuous    \u001b[0m│\u001b[0m\n",
       "│\u001b[0m x58     \u001b[0m│\u001b[0m Float64                         \u001b[0m│\u001b[0m Continuous    \u001b[0m│\u001b[0m\n",
       "│\u001b[0m x59     \u001b[0m│\u001b[0m Float64                         \u001b[0m│\u001b[0m Continuous    \u001b[0m│\u001b[0m\n",
       "│\u001b[0m x60     \u001b[0m│\u001b[0m Float64                         \u001b[0m│\u001b[0m Continuous    \u001b[0m│\u001b[0m\n",
       "└\u001b[0m─────────\u001b[0m┴\u001b[0m─────────────────────────────────\u001b[0m┴\u001b[0m───────────────\u001b[0m┘\u001b[0m\n",
       "_.nrows = 3190\n"
      ]
     },
     "execution_count": 9,
     "metadata": {},
     "output_type": "execute_result"
    }
   ],
   "source": [
    "coerce!(data, :Class=>Multiclass,\n",
    "              :Left_Weight=>Continuous,\n",
    "              :Right_Weight=>Continuous,\n",
    "              :Left_Distance=>Continuous,\n",
    "              :Right_Distance=>Continuous)\n",
    "schema(data)"
   ]
  },
  {
   "cell_type": "code",
   "execution_count": 10,
   "metadata": {
    "scrolled": true
   },
   "outputs": [
    {
     "data": {
      "text/plain": [
       "(CategoricalValue{String,UInt32}[\"EI\", \"EI\", \"EI\", \"EI\", \"EI\", \"EI\", \"EI\", \"EI\", \"EI\", \"EI\"  …  \"N\", \"N\", \"N\", \"N\", \"N\", \"N\", \"N\", \"N\", \"N\", \"N\"], 3190×60 DataFrame. Omitted printing of 53 columns\n",
       "│ Row  │ x1      │ x2      │ x3      │ x4      │ x5      │ x6      │ x7      │\n",
       "│      │ \u001b[90mFloat64\u001b[39m │ \u001b[90mFloat64\u001b[39m │ \u001b[90mFloat64\u001b[39m │ \u001b[90mFloat64\u001b[39m │ \u001b[90mFloat64\u001b[39m │ \u001b[90mFloat64\u001b[39m │ \u001b[90mFloat64\u001b[39m │\n",
       "├──────┼─────────┼─────────┼─────────┼─────────┼─────────┼─────────┼─────────┤\n",
       "│ 1    │ 67.0    │ 67.0    │ 65.0    │ 71.0    │ 67.0    │ 84.0    │ 71.0    │\n",
       "│ 2    │ 65.0    │ 71.0    │ 65.0    │ 67.0    │ 67.0    │ 67.0    │ 71.0    │\n",
       "│ 3    │ 71.0    │ 65.0    │ 71.0    │ 71.0    │ 84.0    │ 71.0    │ 65.0    │\n",
       "│ 4    │ 71.0    │ 71.0    │ 71.0    │ 67.0    │ 84.0    │ 71.0    │ 67.0    │\n",
       "│ 5    │ 71.0    │ 67.0    │ 84.0    │ 67.0    │ 65.0    │ 71.0    │ 67.0    │\n",
       "│ 6    │ 67.0    │ 65.0    │ 71.0    │ 65.0    │ 67.0    │ 84.0    │ 71.0    │\n",
       "│ 7    │ 67.0    │ 67.0    │ 84.0    │ 84.0    │ 84.0    │ 71.0    │ 65.0    │\n",
       "│ 8    │ 67.0    │ 67.0    │ 67.0    │ 84.0    │ 67.0    │ 71.0    │ 84.0    │\n",
       "│ 9    │ 84.0    │ 71.0    │ 71.0    │ 67.0    │ 71.0    │ 65.0    │ 67.0    │\n",
       "│ 10   │ 65.0    │ 65.0    │ 71.0    │ 67.0    │ 84.0    │ 71.0    │ 65.0    │\n",
       "⋮\n",
       "│ 3180 │ 67.0    │ 67.0    │ 84.0    │ 67.0    │ 65.0    │ 71.0    │ 84.0    │\n",
       "│ 3181 │ 67.0    │ 67.0    │ 84.0    │ 71.0    │ 67.0    │ 67.0    │ 71.0    │\n",
       "│ 3182 │ 67.0    │ 84.0    │ 71.0    │ 71.0    │ 65.0    │ 65.0    │ 71.0    │\n",
       "│ 3183 │ 84.0    │ 71.0    │ 84.0    │ 84.0    │ 84.0    │ 67.0    │ 84.0    │\n",
       "│ 3184 │ 84.0    │ 65.0    │ 65.0    │ 65.0    │ 65.0    │ 65.0    │ 65.0    │\n",
       "│ 3185 │ 65.0    │ 84.0    │ 67.0    │ 65.0    │ 65.0    │ 84.0    │ 65.0    │\n",
       "│ 3186 │ 84.0    │ 67.0    │ 84.0    │ 67.0    │ 84.0    │ 84.0    │ 67.0    │\n",
       "│ 3187 │ 71.0    │ 65.0    │ 71.0    │ 67.0    │ 84.0    │ 67.0    │ 67.0    │\n",
       "│ 3188 │ 84.0    │ 67.0    │ 84.0    │ 67.0    │ 71.0    │ 71.0    │ 71.0    │\n",
       "│ 3189 │ 65.0    │ 84.0    │ 84.0    │ 67.0    │ 84.0    │ 65.0    │ 67.0    │\n",
       "│ 3190 │ 65.0    │ 71.0    │ 71.0    │ 67.0    │ 84.0    │ 71.0    │ 67.0    │)"
      ]
     },
     "execution_count": 10,
     "metadata": {},
     "output_type": "execute_result"
    }
   ],
   "source": [
    "y, X = unpack(data, ==(:Class), colname->true)"
   ]
  },
  {
   "cell_type": "markdown",
   "metadata": {},
   "source": [
    "Partition train and test data accoring to class labels"
   ]
  },
  {
   "cell_type": "code",
   "execution_count": 11,
   "metadata": {},
   "outputs": [
    {
     "data": {
      "text/plain": [
       "([898, 1538, 582, 137, 2807, 1511, 1964, 2204, 2307, 2888  …  2265, 1008, 2785, 2454, 1797, 962, 466, 2106, 2519, 2413], [1350, 1105, 2735, 1572, 2149, 113, 1965, 1109, 262, 465  …  625, 1616, 283, 1076, 2074, 743, 3177, 530, 592, 2916])"
      ]
     },
     "execution_count": 11,
     "metadata": {},
     "output_type": "execute_result"
    }
   ],
   "source": [
    "# data to use when trying to fit a single validation set\n",
    "train, test = partition(eachindex(y), 0.8, shuffle=true, rng=113) # gives 70:30 split"
   ]
  },
  {
   "cell_type": "code",
   "execution_count": 12,
   "metadata": {},
   "outputs": [
    {
     "data": {
      "text/plain": [
       "3-element Array{Float64,1}:\n",
       " 0.23863636363636365\n",
       " 0.521551724137931\n",
       " 0.23981191222570533"
      ]
     },
     "execution_count": 12,
     "metadata": {},
     "output_type": "execute_result"
    }
   ],
   "source": [
    "train_counts = countmap(data[train,:Class])\n",
    "collect(train_counts[i] / size(train)[1] for i in keys(train_counts))"
   ]
  },
  {
   "cell_type": "code",
   "execution_count": 13,
   "metadata": {},
   "outputs": [
    {
     "data": {
      "text/plain": [
       "3-element Array{Float64,1}:\n",
       " 0.24921630094043887\n",
       " 0.5078369905956113\n",
       " 0.24294670846394983"
      ]
     },
     "execution_count": 13,
     "metadata": {},
     "output_type": "execute_result"
    }
   ],
   "source": [
    "test_counts = countmap(data[test,:Class])\n",
    "collect(test_counts[i] / size(test)[1] for i in keys(test_counts))"
   ]
  },
  {
   "cell_type": "markdown",
   "metadata": {},
   "source": [
    "# Five Learning Algorithms\n",
    "\n",
    "* Decision trees with some form of pruning\n",
    "* Neural networks\n",
    "* Boosting\n",
    "* Support Vector Machines\n",
    "* k-nearest neighbors\n",
    "\n",
    "\n",
    "##### Testing\n",
    "* Implement the algorithms\n",
    "* Design two *interesting* classification problems. For the purposes of this assignment, a classification problem is just a set of training examples and a set of test examples."
   ]
  },
  {
   "cell_type": "code",
   "execution_count": 14,
   "metadata": {
    "scrolled": true
   },
   "outputs": [
    {
     "data": {
      "text/plain": [
       "42-element Array{NamedTuple{(:name, :package_name, :is_supervised, :docstring, :hyperparameter_ranges, :hyperparameter_types, :hyperparameters, :implemented_methods, :is_pure_julia, :is_wrapper, :load_path, :package_license, :package_url, :package_uuid, :prediction_type, :supports_online, :supports_weights, :input_scitype, :target_scitype, :output_scitype),T} where T<:Tuple,1}:\n",
       " (name = AdaBoostClassifier, package_name = ScikitLearn, ... )\n",
       " (name = AdaBoostStumpClassifier, package_name = DecisionTree, ... )\n",
       " (name = BaggingClassifier, package_name = ScikitLearn, ... )\n",
       " (name = BayesianLDA, package_name = MultivariateStats, ... )\n",
       " (name = BayesianLDA, package_name = ScikitLearn, ... )\n",
       " (name = BayesianQDA, package_name = ScikitLearn, ... )\n",
       " (name = BayesianSubspaceLDA, package_name = MultivariateStats, ... )\n",
       " (name = ConstantClassifier, package_name = MLJModels, ... )\n",
       " (name = DecisionTreeClassifier, package_name = DecisionTree, ... )\n",
       " (name = DeterministicConstantClassifier, package_name = MLJModels, ... )\n",
       " (name = DummyClassifier, package_name = ScikitLearn, ... )\n",
       " (name = EvoTreeClassifier, package_name = EvoTrees, ... )\n",
       " (name = ExtraTreesClassifier, package_name = ScikitLearn, ... )\n",
       " ⋮\n",
       " (name = ProbabilisticSGDClassifier, package_name = ScikitLearn, ... )\n",
       " (name = RandomForestClassifier, package_name = DecisionTree, ... )\n",
       " (name = RandomForestClassifier, package_name = ScikitLearn, ... )\n",
       " (name = RidgeCVClassifier, package_name = ScikitLearn, ... )\n",
       " (name = RidgeClassifier, package_name = ScikitLearn, ... )\n",
       " (name = SGDClassifier, package_name = ScikitLearn, ... )\n",
       " (name = SVC, package_name = LIBSVM, ... )\n",
       " (name = SVMClassifier, package_name = ScikitLearn, ... )\n",
       " (name = SVMLinearClassifier, package_name = ScikitLearn, ... )\n",
       " (name = SVMNuClassifier, package_name = ScikitLearn, ... )\n",
       " (name = SubspaceLDA, package_name = MultivariateStats, ... )\n",
       " (name = XGBoostClassifier, package_name = XGBoost, ... )"
      ]
     },
     "execution_count": 14,
     "metadata": {},
     "output_type": "execute_result"
    }
   ],
   "source": [
    "models(matching(X,y))"
   ]
  },
  {
   "cell_type": "code",
   "execution_count": 15,
   "metadata": {},
   "outputs": [
    {
     "data": {
      "text/plain": [
       "SVMClassifier(\n",
       "    C = 1.0,\n",
       "    kernel = \"rbf\",\n",
       "    degree = 3,\n",
       "    gamma = \"auto\",\n",
       "    coef0 = 0.0,\n",
       "    shrinking = true,\n",
       "    tol = 0.001,\n",
       "    cache_size = 200,\n",
       "    max_iter = -1,\n",
       "    decision_function_shape = \"ovr\",\n",
       "    random_state = nothing)\u001b[34m @306\u001b[39m"
      ]
     },
     "execution_count": 15,
     "metadata": {},
     "output_type": "execute_result"
    }
   ],
   "source": [
    "@load SVMClassifier"
   ]
  },
  {
   "cell_type": "markdown",
   "metadata": {},
   "source": [
    "### Support Vector Machines\n",
    "* This should be done in such a way that you can swap out kernel functions. I'd like to see at least two."
   ]
  },
  {
   "cell_type": "code",
   "execution_count": 16,
   "metadata": {
    "scrolled": true
   },
   "outputs": [
    {
     "name": "stderr",
     "output_type": "stream",
     "text": [
      "┌ Info: Training \u001b[34mMachine{SVMClassifier} @782\u001b[39m.\n",
      "└ @ MLJBase /home/andrew/.julia/packages/MLJBase/uKzAz/src/machines.jl:319\n",
      "\u001b[33mEvaluating over 6 folds: 100%[=========================] Time: 0:02:06\u001b[39m\n"
     ]
    },
    {
     "data": {
      "text/plain": [
       "┌\u001b[0m───────────\u001b[0m┬\u001b[0m───────────────\u001b[0m┬\u001b[0m─────────────────────────────────────────\u001b[0m┐\u001b[0m\n",
       "│\u001b[0m\u001b[22m _.measure \u001b[0m│\u001b[0m\u001b[22m _.measurement \u001b[0m│\u001b[0m\u001b[22m _.per_fold                              \u001b[0m│\u001b[0m\n",
       "├\u001b[0m───────────\u001b[0m┼\u001b[0m───────────────\u001b[0m┼\u001b[0m─────────────────────────────────────────\u001b[0m┤\u001b[0m\n",
       "│\u001b[0m accuracy  \u001b[0m│\u001b[0m 0.808         \u001b[0m│\u001b[0m [0.818, 0.803, 0.821, 0.797, 0.8, 0.81] \u001b[0m│\u001b[0m\n",
       "└\u001b[0m───────────\u001b[0m┴\u001b[0m───────────────\u001b[0m┴\u001b[0m─────────────────────────────────────────\u001b[0m┘\u001b[0m\n",
       "_.per_observation = [missing]\n",
       "_.fitted_params_per_fold = [ … ]\n",
       "_.report_per_fold = [ … ]\n"
      ]
     },
     "execution_count": 16,
     "metadata": {},
     "output_type": "execute_result"
    }
   ],
   "source": [
    "svm_model = SVMClassifier(kernel=\"linear\")\n",
    "svm_mach = machine(svm_model, X, y)\n",
    "fit!(svm_mach, rows=train, verbosity=2)\n",
    "svm_acc = evaluate!(svm_mach, resampling=CV(shuffle=true), measure=[accuracy], \n",
    "                        verbosity=1)"
   ]
  },
  {
   "cell_type": "code",
   "execution_count": 17,
   "metadata": {},
   "outputs": [
    {
     "name": "stderr",
     "output_type": "stream",
     "text": [
      "┌ Info: Training \u001b[34mMachine{SVMClassifier} @395\u001b[39m.\n",
      "└ @ MLJBase /home/andrew/.julia/packages/MLJBase/uKzAz/src/machines.jl:319\n",
      "\u001b[33mEvaluating over 6 folds: 100%[=========================] Time: 0:00:02\u001b[39m\n"
     ]
    },
    {
     "data": {
      "text/plain": [
       "┌\u001b[0m───────────\u001b[0m┬\u001b[0m───────────────\u001b[0m┬\u001b[0m────────────────────────────────────────────\u001b[0m┐\u001b[0m\n",
       "│\u001b[0m\u001b[22m _.measure \u001b[0m│\u001b[0m\u001b[22m _.measurement \u001b[0m│\u001b[0m\u001b[22m _.per_fold                                 \u001b[0m│\u001b[0m\n",
       "├\u001b[0m───────────\u001b[0m┼\u001b[0m───────────────\u001b[0m┼\u001b[0m────────────────────────────────────────────\u001b[0m┤\u001b[0m\n",
       "│\u001b[0m accuracy  \u001b[0m│\u001b[0m 0.519         \u001b[0m│\u001b[0m [0.509, 0.539, 0.517, 0.521, 0.531, 0.495] \u001b[0m│\u001b[0m\n",
       "└\u001b[0m───────────\u001b[0m┴\u001b[0m───────────────\u001b[0m┴\u001b[0m────────────────────────────────────────────\u001b[0m┘\u001b[0m\n",
       "_.per_observation = [missing]\n",
       "_.fitted_params_per_fold = [ … ]\n",
       "_.report_per_fold = [ … ]\n"
      ]
     },
     "execution_count": 17,
     "metadata": {},
     "output_type": "execute_result"
    }
   ],
   "source": [
    "svm_model = SVMClassifier(kernel=\"sigmoid\")\n",
    "svm_mach = machine(svm_model, X, y)\n",
    "fit!(svm_mach, rows=train, verbosity=2)\n",
    "svm_acc = evaluate!(svm_mach, resampling=CV(shuffle=true), measure=[accuracy], \n",
    "                        verbosity=1)"
   ]
  },
  {
   "cell_type": "code",
   "execution_count": 18,
   "metadata": {},
   "outputs": [
    {
     "name": "stderr",
     "output_type": "stream",
     "text": [
      "┌ Info: Training \u001b[34mMachine{SVMClassifier} @615\u001b[39m.\n",
      "└ @ MLJBase /home/andrew/.julia/packages/MLJBase/uKzAz/src/machines.jl:319\n",
      "\u001b[33mEvaluating over 6 folds: 100%[=========================] Time: 0:00:04\u001b[39m\n"
     ]
    },
    {
     "data": {
      "text/plain": [
       "┌\u001b[0m───────────\u001b[0m┬\u001b[0m───────────────\u001b[0m┬\u001b[0m────────────────────────────────────────────\u001b[0m┐\u001b[0m\n",
       "│\u001b[0m\u001b[22m _.measure \u001b[0m│\u001b[0m\u001b[22m _.measurement \u001b[0m│\u001b[0m\u001b[22m _.per_fold                                 \u001b[0m│\u001b[0m\n",
       "├\u001b[0m───────────\u001b[0m┼\u001b[0m───────────────\u001b[0m┼\u001b[0m────────────────────────────────────────────\u001b[0m┤\u001b[0m\n",
       "│\u001b[0m accuracy  \u001b[0m│\u001b[0m 0.613         \u001b[0m│\u001b[0m [0.632, 0.656, 0.596, 0.602, 0.603, 0.589] \u001b[0m│\u001b[0m\n",
       "└\u001b[0m───────────\u001b[0m┴\u001b[0m───────────────\u001b[0m┴\u001b[0m────────────────────────────────────────────\u001b[0m┘\u001b[0m\n",
       "_.per_observation = [missing]\n",
       "_.fitted_params_per_fold = [ … ]\n",
       "_.report_per_fold = [ … ]\n"
      ]
     },
     "execution_count": 18,
     "metadata": {},
     "output_type": "execute_result"
    }
   ],
   "source": [
    "svm_model = SVMClassifier(kernel=\"rbf\")\n",
    "svm_mach = machine(svm_model, X, y)\n",
    "fit!(svm_mach, rows=train, verbosity=2)\n",
    "svm_acc = evaluate!(svm_mach, resampling=CV(shuffle=true), measure=[accuracy], \n",
    "                        verbosity=1)"
   ]
  },
  {
   "cell_type": "markdown",
   "metadata": {},
   "source": [
    "Poly Degree 2 took a long wall clock time"
   ]
  },
  {
   "cell_type": "code",
   "execution_count": 19,
   "metadata": {
    "scrolled": true
   },
   "outputs": [
    {
     "name": "stderr",
     "output_type": "stream",
     "text": [
      "┌ Info: Training \u001b[34mMachine{SVMClassifier} @319\u001b[39m.\n",
      "└ @ MLJBase /home/andrew/.julia/packages/MLJBase/uKzAz/src/machines.jl:319\n",
      "\u001b[33mEvaluating over 6 folds: 100%[=========================] Time: 0:00:33\u001b[39m\n"
     ]
    },
    {
     "data": {
      "text/plain": [
       "┌\u001b[0m───────────\u001b[0m┬\u001b[0m───────────────\u001b[0m┬\u001b[0m──────────────────────────────────────────\u001b[0m┐\u001b[0m\n",
       "│\u001b[0m\u001b[22m _.measure \u001b[0m│\u001b[0m\u001b[22m _.measurement \u001b[0m│\u001b[0m\u001b[22m _.per_fold                               \u001b[0m│\u001b[0m\n",
       "├\u001b[0m───────────\u001b[0m┼\u001b[0m───────────────\u001b[0m┼\u001b[0m──────────────────────────────────────────\u001b[0m┤\u001b[0m\n",
       "│\u001b[0m accuracy  \u001b[0m│\u001b[0m 0.818         \u001b[0m│\u001b[0m [0.823, 0.82, 0.835, 0.81, 0.806, 0.815] \u001b[0m│\u001b[0m\n",
       "└\u001b[0m───────────\u001b[0m┴\u001b[0m───────────────\u001b[0m┴\u001b[0m──────────────────────────────────────────\u001b[0m┘\u001b[0m\n",
       "_.per_observation = [missing]\n",
       "_.fitted_params_per_fold = [ … ]\n",
       "_.report_per_fold = [ … ]\n"
      ]
     },
     "execution_count": 19,
     "metadata": {},
     "output_type": "execute_result"
    }
   ],
   "source": [
    "svm_model = SVMClassifier(kernel=\"poly\", degree=2)\n",
    "svm_mach = machine(svm_model, X, y)\n",
    "fit!(svm_mach, rows=train, verbosity=2)\n",
    "svm_acc = evaluate!(svm_mach, resampling=CV(shuffle=true), measure=[accuracy], \n",
    "                        verbosity=1)"
   ]
  },
  {
   "cell_type": "markdown",
   "metadata": {},
   "source": [
    "Can't use crossentropy because it is a probabilistic concept, and SVM doesn't do probabilities?"
   ]
  },
  {
   "cell_type": "markdown",
   "metadata": {},
   "source": [
    "##### With Standardization"
   ]
  },
  {
   "cell_type": "code",
   "execution_count": 20,
   "metadata": {},
   "outputs": [
    {
     "name": "stderr",
     "output_type": "stream",
     "text": [
      "┌ Info: Training \u001b[34mMachine{Standardizer} @003\u001b[39m.\n",
      "└ @ MLJBase /home/andrew/.julia/packages/MLJBase/uKzAz/src/machines.jl:319\n"
     ]
    }
   ],
   "source": [
    "standardizer = Standardizer()\n",
    "stand = machine(standardizer, X[train,:])\n",
    "fit!(stand)\n",
    "X_stand = MLJ.transform(stand, X);"
   ]
  },
  {
   "cell_type": "code",
   "execution_count": 21,
   "metadata": {},
   "outputs": [
    {
     "name": "stderr",
     "output_type": "stream",
     "text": [
      "┌ Info: Training \u001b[34mMachine{SVMClassifier} @871\u001b[39m.\n",
      "└ @ MLJBase /home/andrew/.julia/packages/MLJBase/uKzAz/src/machines.jl:319\n",
      "\u001b[33mEvaluating over 6 folds: 100%[=========================] Time: 0:00:04\u001b[39m\n"
     ]
    },
    {
     "data": {
      "text/plain": [
       "┌\u001b[0m───────────\u001b[0m┬\u001b[0m───────────────\u001b[0m┬\u001b[0m────────────────────────────────────────────\u001b[0m┐\u001b[0m\n",
       "│\u001b[0m\u001b[22m _.measure \u001b[0m│\u001b[0m\u001b[22m _.measurement \u001b[0m│\u001b[0m\u001b[22m _.per_fold                                 \u001b[0m│\u001b[0m\n",
       "├\u001b[0m───────────\u001b[0m┼\u001b[0m───────────────\u001b[0m┼\u001b[0m────────────────────────────────────────────\u001b[0m┤\u001b[0m\n",
       "│\u001b[0m accuracy  \u001b[0m│\u001b[0m 0.799         \u001b[0m│\u001b[0m [0.784, 0.771, 0.803, 0.831, 0.793, 0.815] \u001b[0m│\u001b[0m\n",
       "└\u001b[0m───────────\u001b[0m┴\u001b[0m───────────────\u001b[0m┴\u001b[0m────────────────────────────────────────────\u001b[0m┘\u001b[0m\n",
       "_.per_observation = [missing]\n",
       "_.fitted_params_per_fold = [ … ]\n",
       "_.report_per_fold = [ … ]\n"
      ]
     },
     "execution_count": 21,
     "metadata": {},
     "output_type": "execute_result"
    }
   ],
   "source": [
    "svm_model = SVMClassifier(kernel=\"linear\")\n",
    "svm_mach = machine(svm_model, X_stand, y)\n",
    "fit!(svm_mach, rows=train, verbosity=2)\n",
    "svm_acc = evaluate!(svm_mach, resampling=CV(shuffle=true), measure=[accuracy], \n",
    "                        verbosity=1)"
   ]
  },
  {
   "cell_type": "code",
   "execution_count": 22,
   "metadata": {},
   "outputs": [
    {
     "name": "stderr",
     "output_type": "stream",
     "text": [
      "┌ Info: Training \u001b[34mMachine{SVMClassifier} @855\u001b[39m.\n",
      "└ @ MLJBase /home/andrew/.julia/packages/MLJBase/uKzAz/src/machines.jl:319\n",
      "\u001b[33mEvaluating over 6 folds: 100%[=========================] Time: 0:00:02\u001b[39m\n"
     ]
    },
    {
     "data": {
      "text/plain": [
       "┌\u001b[0m───────────\u001b[0m┬\u001b[0m───────────────\u001b[0m┬\u001b[0m────────────────────────────────────────────\u001b[0m┐\u001b[0m\n",
       "│\u001b[0m\u001b[22m _.measure \u001b[0m│\u001b[0m\u001b[22m _.measurement \u001b[0m│\u001b[0m\u001b[22m _.per_fold                                 \u001b[0m│\u001b[0m\n",
       "├\u001b[0m───────────\u001b[0m┼\u001b[0m───────────────\u001b[0m┼\u001b[0m────────────────────────────────────────────\u001b[0m┤\u001b[0m\n",
       "│\u001b[0m accuracy  \u001b[0m│\u001b[0m 0.77          \u001b[0m│\u001b[0m [0.763, 0.759, 0.789, 0.769, 0.795, 0.742] \u001b[0m│\u001b[0m\n",
       "└\u001b[0m───────────\u001b[0m┴\u001b[0m───────────────\u001b[0m┴\u001b[0m────────────────────────────────────────────\u001b[0m┘\u001b[0m\n",
       "_.per_observation = [missing]\n",
       "_.fitted_params_per_fold = [ … ]\n",
       "_.report_per_fold = [ … ]\n"
      ]
     },
     "execution_count": 22,
     "metadata": {},
     "output_type": "execute_result"
    }
   ],
   "source": [
    "svm_model = SVMClassifier(kernel=\"sigmoid\")\n",
    "svm_mach = machine(svm_model, X_stand, y)\n",
    "fit!(svm_mach, rows=train, verbosity=2)\n",
    "svm_acc = evaluate!(svm_mach, resampling=CV(shuffle=true), measure=[accuracy], \n",
    "                        verbosity=1)"
   ]
  },
  {
   "cell_type": "code",
   "execution_count": 23,
   "metadata": {},
   "outputs": [
    {
     "name": "stderr",
     "output_type": "stream",
     "text": [
      "┌ Info: Training \u001b[34mMachine{SVMClassifier} @867\u001b[39m.\n",
      "└ @ MLJBase /home/andrew/.julia/packages/MLJBase/uKzAz/src/machines.jl:319\n",
      "\u001b[33mEvaluating over 6 folds: 100%[=========================] Time: 0:00:02\u001b[39m\n"
     ]
    },
    {
     "data": {
      "text/plain": [
       "┌\u001b[0m───────────\u001b[0m┬\u001b[0m───────────────\u001b[0m┬\u001b[0m────────────────────────────────────────────\u001b[0m┐\u001b[0m\n",
       "│\u001b[0m\u001b[22m _.measure \u001b[0m│\u001b[0m\u001b[22m _.measurement \u001b[0m│\u001b[0m\u001b[22m _.per_fold                                 \u001b[0m│\u001b[0m\n",
       "├\u001b[0m───────────\u001b[0m┼\u001b[0m───────────────\u001b[0m┼\u001b[0m────────────────────────────────────────────\u001b[0m┤\u001b[0m\n",
       "│\u001b[0m accuracy  \u001b[0m│\u001b[0m 0.843         \u001b[0m│\u001b[0m [0.836, 0.848, 0.814, 0.867, 0.855, 0.838] \u001b[0m│\u001b[0m\n",
       "└\u001b[0m───────────\u001b[0m┴\u001b[0m───────────────\u001b[0m┴\u001b[0m────────────────────────────────────────────\u001b[0m┘\u001b[0m\n",
       "_.per_observation = [missing]\n",
       "_.fitted_params_per_fold = [ … ]\n",
       "_.report_per_fold = [ … ]\n"
      ]
     },
     "execution_count": 23,
     "metadata": {},
     "output_type": "execute_result"
    }
   ],
   "source": [
    "svm_model = SVMClassifier(kernel=\"rbf\")\n",
    "svm_mach = machine(svm_model, X_stand, y)\n",
    "fit!(svm_mach, rows=train, verbosity=2)\n",
    "svm_acc = evaluate!(svm_mach, resampling=CV(shuffle=true), measure=[accuracy], \n",
    "                        verbosity=1)"
   ]
  },
  {
   "cell_type": "code",
   "execution_count": 24,
   "metadata": {},
   "outputs": [
    {
     "name": "stderr",
     "output_type": "stream",
     "text": [
      "┌ Info: Training \u001b[34mMachine{SVMClassifier} @486\u001b[39m.\n",
      "└ @ MLJBase /home/andrew/.julia/packages/MLJBase/uKzAz/src/machines.jl:319\n",
      "\u001b[33mEvaluating over 6 folds: 100%[=========================] Time: 0:00:03\u001b[39m\n"
     ]
    },
    {
     "data": {
      "text/plain": [
       "┌\u001b[0m───────────\u001b[0m┬\u001b[0m───────────────\u001b[0m┬\u001b[0m────────────────────────────────────────────\u001b[0m┐\u001b[0m\n",
       "│\u001b[0m\u001b[22m _.measure \u001b[0m│\u001b[0m\u001b[22m _.measurement \u001b[0m│\u001b[0m\u001b[22m _.per_fold                                 \u001b[0m│\u001b[0m\n",
       "├\u001b[0m───────────\u001b[0m┼\u001b[0m───────────────\u001b[0m┼\u001b[0m────────────────────────────────────────────\u001b[0m┤\u001b[0m\n",
       "│\u001b[0m accuracy  \u001b[0m│\u001b[0m 0.729         \u001b[0m│\u001b[0m [0.763, 0.737, 0.744, 0.705, 0.708, 0.718] \u001b[0m│\u001b[0m\n",
       "└\u001b[0m───────────\u001b[0m┴\u001b[0m───────────────\u001b[0m┴\u001b[0m────────────────────────────────────────────\u001b[0m┘\u001b[0m\n",
       "_.per_observation = [missing]\n",
       "_.fitted_params_per_fold = [ … ]\n",
       "_.report_per_fold = [ … ]\n"
      ]
     },
     "execution_count": 24,
     "metadata": {},
     "output_type": "execute_result"
    }
   ],
   "source": [
    "svm_model = SVMClassifier(kernel=\"poly\", degree=2)\n",
    "svm_mach = machine(svm_model, X_stand, y)\n",
    "fit!(svm_mach, rows=train, verbosity=2)\n",
    "svm_acc = evaluate!(svm_mach, resampling=CV(shuffle=true), measure=[accuracy], \n",
    "                        verbosity=1)"
   ]
  },
  {
   "cell_type": "markdown",
   "metadata": {},
   "source": [
    "### GridSearch / RandomSearch"
   ]
  },
  {
   "cell_type": "markdown",
   "metadata": {},
   "source": [
    "Use `linear` and `rbf`: \n",
    "* `linear` which has high bias\n",
    "* `rbf` which has high variance"
   ]
  },
  {
   "cell_type": "markdown",
   "metadata": {},
   "source": [
    "##### First look at `linear`"
   ]
  },
  {
   "cell_type": "code",
   "execution_count": 25,
   "metadata": {},
   "outputs": [
    {
     "data": {
      "text/plain": [
       "\u001b[34mMachine{SVMClassifier} @421\u001b[39m trained 0 times.\n",
       "  args: \n",
       "    1:\t\u001b[34mSource @286\u001b[39m ⏎ `Table{AbstractArray{Continuous,1}}`\n",
       "    2:\t\u001b[34mSource @086\u001b[39m ⏎ `AbstractArray{Multiclass{3},1}`\n"
      ]
     },
     "execution_count": 25,
     "metadata": {},
     "output_type": "execute_result"
    }
   ],
   "source": [
    "svm_linear_model = SVMClassifier(kernel=\"linear\", cache_size=1000)\n",
    "svm_linear_mach = machine(svm_linear_model, X_stand, y)"
   ]
  },
  {
   "cell_type": "code",
   "execution_count": 26,
   "metadata": {},
   "outputs": [
    {
     "name": "stderr",
     "output_type": "stream",
     "text": [
      "┌ Info: Training \u001b[34mMachine{DeterministicTunedModel{Grid,…}} @958\u001b[39m.\n",
      "└ @ MLJBase /home/andrew/.julia/packages/MLJBase/uKzAz/src/machines.jl:319\n",
      "┌ Info: Attempting to evaluate 30 models.\n",
      "└ @ MLJTuning /home/andrew/.julia/packages/MLJTuning/Bbgvk/src/tuned_models.jl:494\n",
      "\u001b[33mEvaluating over 30 metamodels: 100%[=========================] Time: 2:44:36\u001b[39m\n"
     ]
    },
    {
     "data": {
      "text/plain": [
       "(parameter_name = \"C\",\n",
       " parameter_scale = :log10,\n",
       " parameter_values = [0.5, 0.6498283059038403, 0.8445536543077102, 1.0976297408473539, 1.4265417500090145, 1.8540144174189153, 2.4095820959852583, 3.1316293027406505, 4.070042729037564, 5.289657943133446  …  94.5240704361715, 122.8488331173453, 159.6612982138162, 207.50486187338385, 269.68506571598283, 350.497978763566, 455.52701552529663, 592.0286975844718, 769.4340111955487, 1000.0],\n",
       " measurements = [0.6912608734642633, 0.69408278228528, 0.6931417526868017, 0.6984687471975608, 0.6978427707687298, 0.7003496264200991, 0.703797511669947, 0.7019172224346176, 0.7009785527849757, 0.7009779627977665  …  0.702233455578683, 0.7031738951899523, 0.7034865884107632, 0.7038004616059923, 0.7038004616059923, 0.7034865884107632, 0.7031733052027431, 0.702859432007514, 0.7034865884107632, 0.7037998716187833],)"
      ]
     },
     "execution_count": 26,
     "metadata": {},
     "output_type": "execute_result"
    }
   ],
   "source": [
    "r1 = range(svm_linear_model, :C, lower=5*10^-1, upper=10^3, scale=:log10)\n",
    "curve = learning_curve(svm_linear_mach, \n",
    "                        range=r1,\n",
    "                        resampling=CV(), \n",
    "                        measure=accuracy, \n",
    "                        acceleration=CPUProcesses(),\n",
    "                        resolution=30)"
   ]
  },
  {
   "cell_type": "code",
   "execution_count": 27,
   "metadata": {},
   "outputs": [
    {
     "data": {
      "image/svg+xml": [
       "<?xml version=\"1.0\" encoding=\"utf-8\"?>\n",
       "<svg xmlns=\"http://www.w3.org/2000/svg\" xmlns:xlink=\"http://www.w3.org/1999/xlink\" width=\"600\" height=\"400\" viewBox=\"0 0 2400 1600\">\n",
       "<defs>\n",
       "  <clipPath id=\"clip380\">\n",
       "    <rect x=\"0\" y=\"0\" width=\"2400\" height=\"1600\"/>\n",
       "  </clipPath>\n",
       "</defs>\n",
       "<path clip-path=\"url(#clip380)\" d=\"\n",
       "M0 1600 L2400 1600 L2400 0 L0 0  Z\n",
       "  \" fill=\"#ffffff\" fill-rule=\"evenodd\" fill-opacity=\"1\"/>\n",
       "<defs>\n",
       "  <clipPath id=\"clip381\">\n",
       "    <rect x=\"480\" y=\"0\" width=\"1681\" height=\"1600\"/>\n",
       "  </clipPath>\n",
       "</defs>\n",
       "<path clip-path=\"url(#clip380)\" d=\"\n",
       "M291.255 1410.9 L2352.76 1410.9 L2352.76 47.2441 L291.255 47.2441  Z\n",
       "  \" fill=\"#ffffff\" fill-rule=\"evenodd\" fill-opacity=\"1\"/>\n",
       "<defs>\n",
       "  <clipPath id=\"clip382\">\n",
       "    <rect x=\"291\" y=\"47\" width=\"2063\" height=\"1365\"/>\n",
       "  </clipPath>\n",
       "</defs>\n",
       "<polyline clip-path=\"url(#clip382)\" style=\"stroke:#000000; stroke-width:2; stroke-opacity:0.1; fill:none\" points=\"\n",
       "  526.952,1410.9 526.952,47.2441 \n",
       "  \"/>\n",
       "<polyline clip-path=\"url(#clip382)\" style=\"stroke:#000000; stroke-width:2; stroke-opacity:0.1; fill:none\" points=\"\n",
       "  1116.11,1410.9 1116.11,47.2441 \n",
       "  \"/>\n",
       "<polyline clip-path=\"url(#clip382)\" style=\"stroke:#000000; stroke-width:2; stroke-opacity:0.1; fill:none\" points=\"\n",
       "  1705.26,1410.9 1705.26,47.2441 \n",
       "  \"/>\n",
       "<polyline clip-path=\"url(#clip382)\" style=\"stroke:#000000; stroke-width:2; stroke-opacity:0.1; fill:none\" points=\"\n",
       "  2294.41,1410.9 2294.41,47.2441 \n",
       "  \"/>\n",
       "<polyline clip-path=\"url(#clip382)\" style=\"stroke:#000000; stroke-width:2; stroke-opacity:0.1; fill:none\" points=\"\n",
       "  291.255,1245.18 2352.76,1245.18 \n",
       "  \"/>\n",
       "<polyline clip-path=\"url(#clip382)\" style=\"stroke:#000000; stroke-width:2; stroke-opacity:0.1; fill:none\" points=\"\n",
       "  291.255,988.697 2352.76,988.697 \n",
       "  \"/>\n",
       "<polyline clip-path=\"url(#clip382)\" style=\"stroke:#000000; stroke-width:2; stroke-opacity:0.1; fill:none\" points=\"\n",
       "  291.255,732.217 2352.76,732.217 \n",
       "  \"/>\n",
       "<polyline clip-path=\"url(#clip382)\" style=\"stroke:#000000; stroke-width:2; stroke-opacity:0.1; fill:none\" points=\"\n",
       "  291.255,475.736 2352.76,475.736 \n",
       "  \"/>\n",
       "<polyline clip-path=\"url(#clip382)\" style=\"stroke:#000000; stroke-width:2; stroke-opacity:0.1; fill:none\" points=\"\n",
       "  291.255,219.255 2352.76,219.255 \n",
       "  \"/>\n",
       "<polyline clip-path=\"url(#clip380)\" style=\"stroke:#000000; stroke-width:4; stroke-opacity:1; fill:none\" points=\"\n",
       "  291.255,1410.9 2352.76,1410.9 \n",
       "  \"/>\n",
       "<polyline clip-path=\"url(#clip380)\" style=\"stroke:#000000; stroke-width:4; stroke-opacity:1; fill:none\" points=\"\n",
       "  291.255,1410.9 291.255,47.2441 \n",
       "  \"/>\n",
       "<polyline clip-path=\"url(#clip380)\" style=\"stroke:#000000; stroke-width:4; stroke-opacity:1; fill:none\" points=\"\n",
       "  526.952,1410.9 526.952,1394.53 \n",
       "  \"/>\n",
       "<polyline clip-path=\"url(#clip380)\" style=\"stroke:#000000; stroke-width:4; stroke-opacity:1; fill:none\" points=\"\n",
       "  1116.11,1410.9 1116.11,1394.53 \n",
       "  \"/>\n",
       "<polyline clip-path=\"url(#clip380)\" style=\"stroke:#000000; stroke-width:4; stroke-opacity:1; fill:none\" points=\"\n",
       "  1705.26,1410.9 1705.26,1394.53 \n",
       "  \"/>\n",
       "<polyline clip-path=\"url(#clip380)\" style=\"stroke:#000000; stroke-width:4; stroke-opacity:1; fill:none\" points=\"\n",
       "  2294.41,1410.9 2294.41,1394.53 \n",
       "  \"/>\n",
       "<polyline clip-path=\"url(#clip380)\" style=\"stroke:#000000; stroke-width:4; stroke-opacity:1; fill:none\" points=\"\n",
       "  291.255,1245.18 315.993,1245.18 \n",
       "  \"/>\n",
       "<polyline clip-path=\"url(#clip380)\" style=\"stroke:#000000; stroke-width:4; stroke-opacity:1; fill:none\" points=\"\n",
       "  291.255,988.697 315.993,988.697 \n",
       "  \"/>\n",
       "<polyline clip-path=\"url(#clip380)\" style=\"stroke:#000000; stroke-width:4; stroke-opacity:1; fill:none\" points=\"\n",
       "  291.255,732.217 315.993,732.217 \n",
       "  \"/>\n",
       "<polyline clip-path=\"url(#clip380)\" style=\"stroke:#000000; stroke-width:4; stroke-opacity:1; fill:none\" points=\"\n",
       "  291.255,475.736 315.993,475.736 \n",
       "  \"/>\n",
       "<polyline clip-path=\"url(#clip380)\" style=\"stroke:#000000; stroke-width:4; stroke-opacity:1; fill:none\" points=\"\n",
       "  291.255,219.255 315.993,219.255 \n",
       "  \"/>\n",
       "<path clip-path=\"url(#clip380)\" d=\"M 0 0 M494.122 1481.97 L501.761 1481.97 L501.761 1455.6 L493.451 1457.27 L493.451 1453.01 L501.715 1451.34 L506.391 1451.34 L506.391 1481.97 L514.03 1481.97 L514.03 1485.9 L494.122 1485.9 L494.122 1481.97 Z\" fill=\"#000000\" fill-rule=\"evenodd\" fill-opacity=\"1\" /><path clip-path=\"url(#clip380)\" d=\"M 0 0 M529.099 1454.42 Q525.488 1454.42 523.659 1457.99 Q521.854 1461.53 521.854 1468.66 Q521.854 1475.77 523.659 1479.33 Q525.488 1482.87 529.099 1482.87 Q532.733 1482.87 534.539 1479.33 Q536.367 1475.77 536.367 1468.66 Q536.367 1461.53 534.539 1457.99 Q532.733 1454.42 529.099 1454.42 M529.099 1450.72 Q534.909 1450.72 537.965 1455.33 Q541.043 1459.91 541.043 1468.66 Q541.043 1477.39 537.965 1481.99 Q534.909 1486.58 529.099 1486.58 Q523.289 1486.58 520.21 1481.99 Q517.155 1477.39 517.155 1468.66 Q517.155 1459.91 520.21 1455.33 Q523.289 1450.72 529.099 1450.72 Z\" fill=\"#000000\" fill-rule=\"evenodd\" fill-opacity=\"1\" /><path clip-path=\"url(#clip380)\" d=\"M 0 0 M550.748 1432.91 Q547.814 1432.91 546.328 1435.81 Q544.861 1438.69 544.861 1444.48 Q544.861 1450.26 546.328 1453.15 Q547.814 1456.03 550.748 1456.03 Q553.701 1456.03 555.168 1453.15 Q556.654 1450.26 556.654 1444.48 Q556.654 1438.69 555.168 1435.81 Q553.701 1432.91 550.748 1432.91 M550.748 1429.91 Q555.469 1429.91 557.951 1433.65 Q560.453 1437.37 560.453 1444.48 Q560.453 1451.57 557.951 1455.31 Q555.469 1459.04 550.748 1459.04 Q546.027 1459.04 543.526 1455.31 Q541.043 1451.57 541.043 1444.48 Q541.043 1437.37 543.526 1433.65 Q546.027 1429.91 550.748 1429.91 Z\" fill=\"#000000\" fill-rule=\"evenodd\" fill-opacity=\"1\" /><path clip-path=\"url(#clip380)\" d=\"M 0 0 M1084.62 1481.97 L1092.26 1481.97 L1092.26 1455.6 L1083.95 1457.27 L1083.95 1453.01 L1092.21 1451.34 L1096.89 1451.34 L1096.89 1481.97 L1104.53 1481.97 L1104.53 1485.9 L1084.62 1485.9 L1084.62 1481.97 Z\" fill=\"#000000\" fill-rule=\"evenodd\" fill-opacity=\"1\" /><path clip-path=\"url(#clip380)\" d=\"M 0 0 M1119.6 1454.42 Q1115.99 1454.42 1114.16 1457.99 Q1112.35 1461.53 1112.35 1468.66 Q1112.35 1475.77 1114.16 1479.33 Q1115.99 1482.87 1119.6 1482.87 Q1123.23 1482.87 1125.04 1479.33 Q1126.87 1475.77 1126.87 1468.66 Q1126.87 1461.53 1125.04 1457.99 Q1123.23 1454.42 1119.6 1454.42 M1119.6 1450.72 Q1125.41 1450.72 1128.46 1455.33 Q1131.54 1459.91 1131.54 1468.66 Q1131.54 1477.39 1128.46 1481.99 Q1125.41 1486.58 1119.6 1486.58 Q1113.79 1486.58 1110.71 1481.99 Q1107.65 1477.39 1107.65 1468.66 Q1107.65 1459.91 1110.71 1455.33 Q1113.79 1450.72 1119.6 1450.72 Z\" fill=\"#000000\" fill-rule=\"evenodd\" fill-opacity=\"1\" /><path clip-path=\"url(#clip380)\" d=\"M 0 0 M1132.09 1455.3 L1138.29 1455.3 L1138.29 1433.87 L1131.54 1435.23 L1131.54 1431.77 L1138.26 1430.41 L1142.05 1430.41 L1142.05 1455.3 L1148.26 1455.3 L1148.26 1458.49 L1132.09 1458.49 L1132.09 1455.3 Z\" fill=\"#000000\" fill-rule=\"evenodd\" fill-opacity=\"1\" /><path clip-path=\"url(#clip380)\" d=\"M 0 0 M1673.22 1481.97 L1680.86 1481.97 L1680.86 1455.6 L1672.55 1457.27 L1672.55 1453.01 L1680.81 1451.34 L1685.49 1451.34 L1685.49 1481.97 L1693.13 1481.97 L1693.13 1485.9 L1673.22 1485.9 L1673.22 1481.97 Z\" fill=\"#000000\" fill-rule=\"evenodd\" fill-opacity=\"1\" /><path clip-path=\"url(#clip380)\" d=\"M 0 0 M1708.2 1454.42 Q1704.58 1454.42 1702.76 1457.99 Q1700.95 1461.53 1700.95 1468.66 Q1700.95 1475.77 1702.76 1479.33 Q1704.58 1482.87 1708.2 1482.87 Q1711.83 1482.87 1713.64 1479.33 Q1715.46 1475.77 1715.46 1468.66 Q1715.46 1461.53 1713.64 1457.99 Q1711.83 1454.42 1708.2 1454.42 M1708.2 1450.72 Q1714.01 1450.72 1717.06 1455.33 Q1720.14 1459.91 1720.14 1468.66 Q1720.14 1477.39 1717.06 1481.99 Q1714.01 1486.58 1708.2 1486.58 Q1702.39 1486.58 1699.31 1481.99 Q1696.25 1477.39 1696.25 1468.66 Q1696.25 1459.91 1699.31 1455.33 Q1702.39 1450.72 1708.2 1450.72 Z\" fill=\"#000000\" fill-rule=\"evenodd\" fill-opacity=\"1\" /><path clip-path=\"url(#clip380)\" d=\"M 0 0 M1724.71 1455.3 L1737.97 1455.3 L1737.97 1458.49 L1720.14 1458.49 L1720.14 1455.3 Q1722.3 1453.06 1726.03 1449.3 Q1729.77 1445.52 1730.73 1444.43 Q1732.55 1442.38 1733.27 1440.96 Q1734 1439.54 1734 1438.16 Q1734 1435.92 1732.42 1434.51 Q1730.86 1433.1 1728.34 1433.1 Q1726.55 1433.1 1724.56 1433.72 Q1722.58 1434.34 1720.33 1435.6 L1720.33 1431.77 Q1722.62 1430.85 1724.62 1430.38 Q1726.61 1429.91 1728.26 1429.91 Q1732.63 1429.91 1735.22 1432.09 Q1737.82 1434.27 1737.82 1437.92 Q1737.82 1439.65 1737.16 1441.21 Q1736.52 1442.75 1734.81 1444.86 Q1734.34 1445.4 1731.82 1448.02 Q1729.3 1450.61 1724.71 1455.3 Z\" fill=\"#000000\" fill-rule=\"evenodd\" fill-opacity=\"1\" /><path clip-path=\"url(#clip380)\" d=\"M 0 0 M2262.04 1481.97 L2269.68 1481.97 L2269.68 1455.6 L2261.37 1457.27 L2261.37 1453.01 L2269.64 1451.34 L2274.31 1451.34 L2274.31 1481.97 L2281.95 1481.97 L2281.95 1485.9 L2262.04 1485.9 L2262.04 1481.97 Z\" fill=\"#000000\" fill-rule=\"evenodd\" fill-opacity=\"1\" /><path clip-path=\"url(#clip380)\" d=\"M 0 0 M2297.02 1454.42 Q2293.41 1454.42 2291.58 1457.99 Q2289.77 1461.53 2289.77 1468.66 Q2289.77 1475.77 2291.58 1479.33 Q2293.41 1482.87 2297.02 1482.87 Q2300.65 1482.87 2302.46 1479.33 Q2304.29 1475.77 2304.29 1468.66 Q2304.29 1461.53 2302.46 1457.99 Q2300.65 1454.42 2297.02 1454.42 M2297.02 1450.72 Q2302.83 1450.72 2305.88 1455.33 Q2308.96 1459.91 2308.96 1468.66 Q2308.96 1477.39 2305.88 1481.99 Q2302.83 1486.58 2297.02 1486.58 Q2291.21 1486.58 2288.13 1481.99 Q2285.07 1477.39 2285.07 1468.66 Q2285.07 1459.91 2288.13 1455.33 Q2291.21 1450.72 2297.02 1450.72 Z\" fill=\"#000000\" fill-rule=\"evenodd\" fill-opacity=\"1\" /><path clip-path=\"url(#clip380)\" d=\"M 0 0 M2321.66 1443.35 Q2324.39 1443.94 2325.91 1445.78 Q2327.45 1447.62 2327.45 1450.33 Q2327.45 1454.49 2324.59 1456.76 Q2321.73 1459.04 2316.47 1459.04 Q2314.7 1459.04 2312.82 1458.68 Q2310.96 1458.34 2308.96 1457.65 L2308.96 1453.98 Q2310.54 1454.9 2312.42 1455.37 Q2314.31 1455.84 2316.36 1455.84 Q2319.93 1455.84 2321.79 1454.43 Q2323.67 1453.02 2323.67 1450.33 Q2323.67 1447.85 2321.92 1446.46 Q2320.19 1445.05 2317.09 1445.05 L2313.82 1445.05 L2313.82 1441.92 L2317.24 1441.92 Q2320.04 1441.92 2321.53 1440.81 Q2323.01 1439.69 2323.01 1437.58 Q2323.01 1435.42 2321.47 1434.27 Q2319.95 1433.1 2317.09 1433.1 Q2315.53 1433.1 2313.74 1433.44 Q2311.95 1433.78 2309.81 1434.49 L2309.81 1431.11 Q2311.97 1430.51 2313.85 1430.21 Q2315.75 1429.91 2317.43 1429.91 Q2321.75 1429.91 2324.27 1431.88 Q2326.79 1433.84 2326.79 1437.18 Q2326.79 1439.52 2325.46 1441.13 Q2324.12 1442.73 2321.66 1443.35 Z\" fill=\"#000000\" fill-rule=\"evenodd\" fill-opacity=\"1\" /><path clip-path=\"url(#clip380)\" d=\"M 0 0 M139.917 1230.98 Q136.306 1230.98 134.478 1234.54 Q132.672 1238.08 132.672 1245.21 Q132.672 1252.32 134.478 1255.88 Q136.306 1259.43 139.917 1259.43 Q143.552 1259.43 145.357 1255.88 Q147.186 1252.32 147.186 1245.21 Q147.186 1238.08 145.357 1234.54 Q143.552 1230.98 139.917 1230.98 M139.917 1227.27 Q145.728 1227.27 148.783 1231.88 Q151.862 1236.46 151.862 1245.21 Q151.862 1253.94 148.783 1258.55 Q145.728 1263.13 139.917 1263.13 Q134.107 1263.13 131.029 1258.55 Q127.973 1253.94 127.973 1245.21 Q127.973 1236.46 131.029 1231.88 Q134.107 1227.27 139.917 1227.27 Z\" fill=\"#000000\" fill-rule=\"evenodd\" fill-opacity=\"1\" /><path clip-path=\"url(#clip380)\" d=\"M 0 0 M156.931 1256.58 L161.816 1256.58 L161.816 1262.46 L156.931 1262.46 L156.931 1256.58 Z\" fill=\"#000000\" fill-rule=\"evenodd\" fill-opacity=\"1\" /><path clip-path=\"url(#clip380)\" d=\"M 0 0 M177.464 1243.31 Q174.315 1243.31 172.464 1245.47 Q170.635 1247.62 170.635 1251.37 Q170.635 1255.1 172.464 1257.27 Q174.315 1259.43 177.464 1259.43 Q180.612 1259.43 182.44 1257.27 Q184.292 1255.1 184.292 1251.37 Q184.292 1247.62 182.44 1245.47 Q180.612 1243.31 177.464 1243.31 M186.746 1228.66 L186.746 1232.92 Q184.987 1232.09 183.181 1231.65 Q181.399 1231.21 179.64 1231.21 Q175.01 1231.21 172.556 1234.33 Q170.126 1237.46 169.778 1243.78 Q171.144 1241.76 173.204 1240.7 Q175.265 1239.61 177.741 1239.61 Q182.95 1239.61 185.959 1242.78 Q188.991 1245.93 188.991 1251.37 Q188.991 1256.69 185.843 1259.91 Q182.695 1263.13 177.464 1263.13 Q171.468 1263.13 168.297 1258.55 Q165.126 1253.94 165.126 1245.21 Q165.126 1237.02 169.015 1232.16 Q172.903 1227.27 179.454 1227.27 Q181.214 1227.27 182.996 1227.62 Q184.802 1227.97 186.746 1228.66 Z\" fill=\"#000000\" fill-rule=\"evenodd\" fill-opacity=\"1\" /><path clip-path=\"url(#clip380)\" d=\"M 0 0 M194.2 1261.74 L194.2 1257.48 Q195.959 1258.31 197.764 1258.75 Q199.57 1259.19 201.306 1259.19 Q205.936 1259.19 208.366 1256.09 Q210.82 1252.97 211.167 1246.62 Q209.825 1248.62 207.764 1249.68 Q205.704 1250.75 203.204 1250.75 Q198.019 1250.75 194.987 1247.62 Q191.977 1244.47 191.977 1239.03 Q191.977 1233.71 195.126 1230.49 Q198.274 1227.27 203.505 1227.27 Q209.5 1227.27 212.649 1231.88 Q215.82 1236.46 215.82 1245.21 Q215.82 1253.38 211.931 1258.27 Q208.065 1263.13 201.514 1263.13 Q199.755 1263.13 197.95 1262.78 Q196.144 1262.43 194.2 1261.74 M203.505 1247.09 Q206.653 1247.09 208.482 1244.93 Q210.334 1242.78 210.334 1239.03 Q210.334 1235.31 208.482 1233.15 Q206.653 1230.98 203.505 1230.98 Q200.357 1230.98 198.505 1233.15 Q196.676 1235.31 196.676 1239.03 Q196.676 1242.78 198.505 1244.93 Q200.357 1247.09 203.505 1247.09 Z\" fill=\"#000000\" fill-rule=\"evenodd\" fill-opacity=\"1\" /><path clip-path=\"url(#clip380)\" d=\"M 0 0 M224.917 1258.52 L241.236 1258.52 L241.236 1262.46 L219.292 1262.46 L219.292 1258.52 Q221.954 1255.77 226.537 1251.14 Q231.144 1246.49 232.324 1245.14 Q234.57 1242.62 235.449 1240.88 Q236.352 1239.12 236.352 1237.43 Q236.352 1234.68 234.408 1232.94 Q232.486 1231.21 229.385 1231.21 Q227.186 1231.21 224.732 1231.97 Q222.301 1232.74 219.524 1234.29 L219.524 1229.56 Q222.348 1228.43 224.801 1227.85 Q227.255 1227.27 229.292 1227.27 Q234.662 1227.27 237.857 1229.96 Q241.051 1232.64 241.051 1237.13 Q241.051 1239.26 240.241 1241.18 Q239.454 1243.08 237.348 1245.68 Q236.769 1246.35 233.667 1249.56 Q230.565 1252.76 224.917 1258.52 Z\" fill=\"#000000\" fill-rule=\"evenodd\" fill-opacity=\"1\" /><path clip-path=\"url(#clip380)\" d=\"M 0 0 M246.352 1227.9 L264.708 1227.9 L264.708 1231.83 L250.634 1231.83 L250.634 1240.31 Q251.653 1239.96 252.672 1239.8 Q253.69 1239.61 254.709 1239.61 Q260.496 1239.61 263.875 1242.78 Q267.255 1245.95 267.255 1251.37 Q267.255 1256.95 263.783 1260.05 Q260.31 1263.13 253.991 1263.13 Q251.815 1263.13 249.547 1262.76 Q247.301 1262.39 244.894 1261.65 L244.894 1256.95 Q246.977 1258.08 249.199 1258.64 Q251.422 1259.19 253.898 1259.19 Q257.903 1259.19 260.241 1257.09 Q262.579 1254.98 262.579 1251.37 Q262.579 1247.76 260.241 1245.65 Q257.903 1243.55 253.898 1243.55 Q252.023 1243.55 250.148 1243.96 Q248.297 1244.38 246.352 1245.26 L246.352 1227.9 Z\" fill=\"#000000\" fill-rule=\"evenodd\" fill-opacity=\"1\" /><path clip-path=\"url(#clip380)\" d=\"M 0 0 M138.32 974.496 Q134.709 974.496 132.88 978.061 Q131.075 981.602 131.075 988.732 Q131.075 995.838 132.88 999.403 Q134.709 1002.94 138.32 1002.94 Q141.955 1002.94 143.76 999.403 Q145.589 995.838 145.589 988.732 Q145.589 981.602 143.76 978.061 Q141.955 974.496 138.32 974.496 M138.32 970.792 Q144.13 970.792 147.186 975.399 Q150.265 979.982 150.265 988.732 Q150.265 997.459 147.186 1002.07 Q144.13 1006.65 138.32 1006.65 Q132.51 1006.65 129.431 1002.07 Q126.376 997.459 126.376 988.732 Q126.376 979.982 129.431 975.399 Q132.51 970.792 138.32 970.792 Z\" fill=\"#000000\" fill-rule=\"evenodd\" fill-opacity=\"1\" /><path clip-path=\"url(#clip380)\" d=\"M 0 0 M155.334 1000.1 L160.218 1000.1 L160.218 1005.98 L155.334 1005.98 L155.334 1000.1 Z\" fill=\"#000000\" fill-rule=\"evenodd\" fill-opacity=\"1\" /><path clip-path=\"url(#clip380)\" d=\"M 0 0 M175.866 986.834 Q172.718 986.834 170.866 988.987 Q169.038 991.139 169.038 994.889 Q169.038 998.616 170.866 1000.79 Q172.718 1002.94 175.866 1002.94 Q179.015 1002.94 180.843 1000.79 Q182.695 998.616 182.695 994.889 Q182.695 991.139 180.843 988.987 Q179.015 986.834 175.866 986.834 M185.149 972.181 L185.149 976.44 Q183.389 975.607 181.584 975.167 Q179.802 974.727 178.042 974.727 Q173.413 974.727 170.959 977.852 Q168.528 980.977 168.181 987.297 Q169.547 985.283 171.607 984.218 Q173.667 983.13 176.144 983.13 Q181.352 983.13 184.362 986.301 Q187.394 989.45 187.394 994.889 Q187.394 1000.21 184.246 1003.43 Q181.098 1006.65 175.866 1006.65 Q169.871 1006.65 166.7 1002.07 Q163.528 997.459 163.528 988.732 Q163.528 980.538 167.417 975.677 Q171.306 970.792 177.857 970.792 Q179.616 970.792 181.399 971.139 Q183.204 971.487 185.149 972.181 Z\" fill=\"#000000\" fill-rule=\"evenodd\" fill-opacity=\"1\" /><path clip-path=\"url(#clip380)\" d=\"M 0 0 M192.602 1005.26 L192.602 1001 Q194.362 1001.83 196.167 1002.27 Q197.973 1002.71 199.709 1002.71 Q204.338 1002.71 206.769 999.612 Q209.223 996.487 209.57 990.144 Q208.227 992.135 206.167 993.2 Q204.107 994.264 201.607 994.264 Q196.422 994.264 193.389 991.139 Q190.38 987.991 190.38 982.551 Q190.38 977.227 193.528 974.01 Q196.676 970.792 201.908 970.792 Q207.903 970.792 211.051 975.399 Q214.223 979.982 214.223 988.732 Q214.223 996.903 210.334 1001.79 Q206.468 1006.65 199.917 1006.65 Q198.158 1006.65 196.352 1006.3 Q194.547 1005.95 192.602 1005.26 M201.908 990.607 Q205.056 990.607 206.885 988.454 Q208.737 986.301 208.737 982.551 Q208.737 978.825 206.885 976.672 Q205.056 974.496 201.908 974.496 Q198.76 974.496 196.908 976.672 Q195.079 978.825 195.079 982.551 Q195.079 986.301 196.908 988.454 Q198.76 990.607 201.908 990.607 Z\" fill=\"#000000\" fill-rule=\"evenodd\" fill-opacity=\"1\" /><path clip-path=\"url(#clip380)\" d=\"M 0 0 M219.338 971.417 L237.695 971.417 L237.695 975.352 L223.621 975.352 L223.621 983.825 Q224.639 983.477 225.658 983.315 Q226.676 983.13 227.695 983.13 Q233.482 983.13 236.861 986.301 Q240.241 989.473 240.241 994.889 Q240.241 1000.47 236.769 1003.57 Q233.297 1006.65 226.977 1006.65 Q224.801 1006.65 222.533 1006.28 Q220.287 1005.91 217.88 1005.17 L217.88 1000.47 Q219.963 1001.6 222.186 1002.16 Q224.408 1002.71 226.885 1002.71 Q230.889 1002.71 233.227 1000.61 Q235.565 998.5 235.565 994.889 Q235.565 991.278 233.227 989.172 Q230.889 987.065 226.885 987.065 Q225.01 987.065 223.135 987.482 Q221.283 987.899 219.338 988.778 L219.338 971.417 Z\" fill=\"#000000\" fill-rule=\"evenodd\" fill-opacity=\"1\" /><path clip-path=\"url(#clip380)\" d=\"M 0 0 M255.31 974.496 Q251.699 974.496 249.871 978.061 Q248.065 981.602 248.065 988.732 Q248.065 995.838 249.871 999.403 Q251.699 1002.94 255.31 1002.94 Q258.945 1002.94 260.75 999.403 Q262.579 995.838 262.579 988.732 Q262.579 981.602 260.75 978.061 Q258.945 974.496 255.31 974.496 M255.31 970.792 Q261.121 970.792 264.176 975.399 Q267.255 979.982 267.255 988.732 Q267.255 997.459 264.176 1002.07 Q261.121 1006.65 255.31 1006.65 Q249.5 1006.65 246.422 1002.07 Q243.366 997.459 243.366 988.732 Q243.366 979.982 246.422 975.399 Q249.5 970.792 255.31 970.792 Z\" fill=\"#000000\" fill-rule=\"evenodd\" fill-opacity=\"1\" /><path clip-path=\"url(#clip380)\" d=\"M 0 0 M139.223 718.015 Q135.612 718.015 133.783 721.58 Q131.978 725.122 131.978 732.251 Q131.978 739.358 133.783 742.923 Q135.612 746.464 139.223 746.464 Q142.857 746.464 144.663 742.923 Q146.492 739.358 146.492 732.251 Q146.492 725.122 144.663 721.58 Q142.857 718.015 139.223 718.015 M139.223 714.312 Q145.033 714.312 148.089 718.918 Q151.167 723.501 151.167 732.251 Q151.167 740.978 148.089 745.585 Q145.033 750.168 139.223 750.168 Q133.413 750.168 130.334 745.585 Q127.279 740.978 127.279 732.251 Q127.279 723.501 130.334 718.918 Q133.413 714.312 139.223 714.312 Z\" fill=\"#000000\" fill-rule=\"evenodd\" fill-opacity=\"1\" /><path clip-path=\"url(#clip380)\" d=\"M 0 0 M156.237 743.617 L161.121 743.617 L161.121 749.497 L156.237 749.497 L156.237 743.617 Z\" fill=\"#000000\" fill-rule=\"evenodd\" fill-opacity=\"1\" /><path clip-path=\"url(#clip380)\" d=\"M 0 0 M176.769 730.353 Q173.621 730.353 171.769 732.506 Q169.94 734.659 169.94 738.409 Q169.94 742.136 171.769 744.311 Q173.621 746.464 176.769 746.464 Q179.917 746.464 181.746 744.311 Q183.598 742.136 183.598 738.409 Q183.598 734.659 181.746 732.506 Q179.917 730.353 176.769 730.353 M186.052 715.701 L186.052 719.96 Q184.292 719.126 182.487 718.687 Q180.704 718.247 178.945 718.247 Q174.315 718.247 171.862 721.372 Q169.431 724.497 169.084 730.816 Q170.45 728.802 172.51 727.737 Q174.57 726.65 177.047 726.65 Q182.255 726.65 185.264 729.821 Q188.297 732.969 188.297 738.409 Q188.297 743.733 185.149 746.95 Q182.001 750.168 176.769 750.168 Q170.774 750.168 167.603 745.585 Q164.431 740.978 164.431 732.251 Q164.431 724.057 168.32 719.196 Q172.209 714.312 178.76 714.312 Q180.519 714.312 182.302 714.659 Q184.107 715.006 186.052 715.701 Z\" fill=\"#000000\" fill-rule=\"evenodd\" fill-opacity=\"1\" /><path clip-path=\"url(#clip380)\" d=\"M 0 0 M193.505 748.779 L193.505 744.52 Q195.264 745.353 197.07 745.793 Q198.876 746.233 200.612 746.233 Q205.241 746.233 207.672 743.131 Q210.125 740.006 210.473 733.663 Q209.13 735.654 207.07 736.719 Q205.01 737.784 202.51 737.784 Q197.325 737.784 194.292 734.659 Q191.283 731.511 191.283 726.071 Q191.283 720.747 194.431 717.529 Q197.579 714.312 202.811 714.312 Q208.806 714.312 211.954 718.918 Q215.125 723.501 215.125 732.251 Q215.125 740.423 211.237 745.307 Q207.371 750.168 200.82 750.168 Q199.061 750.168 197.255 749.821 Q195.45 749.473 193.505 748.779 M202.811 734.126 Q205.959 734.126 207.787 731.974 Q209.639 729.821 209.639 726.071 Q209.639 722.344 207.787 720.191 Q205.959 718.015 202.811 718.015 Q199.663 718.015 197.811 720.191 Q195.982 722.344 195.982 726.071 Q195.982 729.821 197.811 731.974 Q199.663 734.126 202.811 734.126 Z\" fill=\"#000000\" fill-rule=\"evenodd\" fill-opacity=\"1\" /><path clip-path=\"url(#clip380)\" d=\"M 0 0 M219.014 714.937 L241.236 714.937 L241.236 716.927 L228.69 749.497 L223.806 749.497 L235.611 718.872 L219.014 718.872 L219.014 714.937 Z\" fill=\"#000000\" fill-rule=\"evenodd\" fill-opacity=\"1\" /><path clip-path=\"url(#clip380)\" d=\"M 0 0 M246.352 714.937 L264.708 714.937 L264.708 718.872 L250.634 718.872 L250.634 727.344 Q251.653 726.997 252.672 726.835 Q253.69 726.65 254.709 726.65 Q260.496 726.65 263.875 729.821 Q267.255 732.992 267.255 738.409 Q267.255 743.987 263.783 747.089 Q260.31 750.168 253.991 750.168 Q251.815 750.168 249.547 749.798 Q247.301 749.427 244.894 748.686 L244.894 743.987 Q246.977 745.122 249.199 745.677 Q251.422 746.233 253.898 746.233 Q257.903 746.233 260.241 744.126 Q262.579 742.02 262.579 738.409 Q262.579 734.798 260.241 732.691 Q257.903 730.585 253.898 730.585 Q252.023 730.585 250.148 731.001 Q248.297 731.418 246.352 732.298 L246.352 714.937 Z\" fill=\"#000000\" fill-rule=\"evenodd\" fill-opacity=\"1\" /><path clip-path=\"url(#clip380)\" d=\"M 0 0 M138.205 461.535 Q134.593 461.535 132.765 465.099 Q130.959 468.641 130.959 475.771 Q130.959 482.877 132.765 486.442 Q134.593 489.984 138.205 489.984 Q141.839 489.984 143.644 486.442 Q145.473 482.877 145.473 475.771 Q145.473 468.641 143.644 465.099 Q141.839 461.535 138.205 461.535 M138.205 457.831 Q144.015 457.831 147.07 462.437 Q150.149 467.021 150.149 475.771 Q150.149 484.498 147.07 489.104 Q144.015 493.687 138.205 493.687 Q132.394 493.687 129.316 489.104 Q126.26 484.498 126.26 475.771 Q126.26 467.021 129.316 462.437 Q132.394 457.831 138.205 457.831 Z\" fill=\"#000000\" fill-rule=\"evenodd\" fill-opacity=\"1\" /><path clip-path=\"url(#clip380)\" d=\"M 0 0 M155.218 487.136 L160.103 487.136 L160.103 493.016 L155.218 493.016 L155.218 487.136 Z\" fill=\"#000000\" fill-rule=\"evenodd\" fill-opacity=\"1\" /><path clip-path=\"url(#clip380)\" d=\"M 0 0 M163.991 458.456 L186.214 458.456 L186.214 460.447 L173.667 493.016 L168.783 493.016 L180.589 462.391 L163.991 462.391 L163.991 458.456 Z\" fill=\"#000000\" fill-rule=\"evenodd\" fill-opacity=\"1\" /><path clip-path=\"url(#clip380)\" d=\"M 0 0 M201.283 461.535 Q197.672 461.535 195.843 465.099 Q194.038 468.641 194.038 475.771 Q194.038 482.877 195.843 486.442 Q197.672 489.984 201.283 489.984 Q204.917 489.984 206.723 486.442 Q208.551 482.877 208.551 475.771 Q208.551 468.641 206.723 465.099 Q204.917 461.535 201.283 461.535 M201.283 457.831 Q207.093 457.831 210.149 462.437 Q213.227 467.021 213.227 475.771 Q213.227 484.498 210.149 489.104 Q207.093 493.687 201.283 493.687 Q195.473 493.687 192.394 489.104 Q189.339 484.498 189.339 475.771 Q189.339 467.021 192.394 462.437 Q195.473 457.831 201.283 457.831 Z\" fill=\"#000000\" fill-rule=\"evenodd\" fill-opacity=\"1\" /><path clip-path=\"url(#clip380)\" d=\"M 0 0 M228.297 461.535 Q224.686 461.535 222.857 465.099 Q221.051 468.641 221.051 475.771 Q221.051 482.877 222.857 486.442 Q224.686 489.984 228.297 489.984 Q231.931 489.984 233.736 486.442 Q235.565 482.877 235.565 475.771 Q235.565 468.641 233.736 465.099 Q231.931 461.535 228.297 461.535 M228.297 457.831 Q234.107 457.831 237.162 462.437 Q240.241 467.021 240.241 475.771 Q240.241 484.498 237.162 489.104 Q234.107 493.687 228.297 493.687 Q222.486 493.687 219.408 489.104 Q216.352 484.498 216.352 475.771 Q216.352 467.021 219.408 462.437 Q222.486 457.831 228.297 457.831 Z\" fill=\"#000000\" fill-rule=\"evenodd\" fill-opacity=\"1\" /><path clip-path=\"url(#clip380)\" d=\"M 0 0 M255.31 461.535 Q251.699 461.535 249.871 465.099 Q248.065 468.641 248.065 475.771 Q248.065 482.877 249.871 486.442 Q251.699 489.984 255.31 489.984 Q258.945 489.984 260.75 486.442 Q262.579 482.877 262.579 475.771 Q262.579 468.641 260.75 465.099 Q258.945 461.535 255.31 461.535 M255.31 457.831 Q261.121 457.831 264.176 462.437 Q267.255 467.021 267.255 475.771 Q267.255 484.498 264.176 489.104 Q261.121 493.687 255.31 493.687 Q249.5 493.687 246.422 489.104 Q243.366 484.498 243.366 475.771 Q243.366 467.021 246.422 462.437 Q249.5 457.831 255.31 457.831 Z\" fill=\"#000000\" fill-rule=\"evenodd\" fill-opacity=\"1\" /><path clip-path=\"url(#clip380)\" d=\"M 0 0 M140.797 205.054 Q137.186 205.054 135.357 208.619 Q133.552 212.16 133.552 219.29 Q133.552 226.396 135.357 229.961 Q137.186 233.503 140.797 233.503 Q144.431 233.503 146.237 229.961 Q148.066 226.396 148.066 219.29 Q148.066 212.16 146.237 208.619 Q144.431 205.054 140.797 205.054 M140.797 201.35 Q146.607 201.35 149.663 205.957 Q152.741 210.54 152.741 219.29 Q152.741 228.017 149.663 232.623 Q146.607 237.207 140.797 237.207 Q134.987 237.207 131.908 232.623 Q128.853 228.017 128.853 219.29 Q128.853 210.54 131.908 205.957 Q134.987 201.35 140.797 201.35 Z\" fill=\"#000000\" fill-rule=\"evenodd\" fill-opacity=\"1\" /><path clip-path=\"url(#clip380)\" d=\"M 0 0 M157.811 230.656 L162.695 230.656 L162.695 236.535 L157.811 236.535 L157.811 230.656 Z\" fill=\"#000000\" fill-rule=\"evenodd\" fill-opacity=\"1\" /><path clip-path=\"url(#clip380)\" d=\"M 0 0 M166.584 201.975 L188.806 201.975 L188.806 203.966 L176.26 236.535 L171.376 236.535 L183.181 205.91 L166.584 205.91 L166.584 201.975 Z\" fill=\"#000000\" fill-rule=\"evenodd\" fill-opacity=\"1\" /><path clip-path=\"url(#clip380)\" d=\"M 0 0 M203.875 205.054 Q200.264 205.054 198.436 208.619 Q196.63 212.16 196.63 219.29 Q196.63 226.396 198.436 229.961 Q200.264 233.503 203.875 233.503 Q207.51 233.503 209.315 229.961 Q211.144 226.396 211.144 219.29 Q211.144 212.16 209.315 208.619 Q207.51 205.054 203.875 205.054 M203.875 201.35 Q209.686 201.35 212.741 205.957 Q215.82 210.54 215.82 219.29 Q215.82 228.017 212.741 232.623 Q209.686 237.207 203.875 237.207 Q198.065 237.207 194.987 232.623 Q191.931 228.017 191.931 219.29 Q191.931 210.54 194.987 205.957 Q198.065 201.35 203.875 201.35 Z\" fill=\"#000000\" fill-rule=\"evenodd\" fill-opacity=\"1\" /><path clip-path=\"url(#clip380)\" d=\"M 0 0 M224.917 232.6 L241.236 232.6 L241.236 236.535 L219.292 236.535 L219.292 232.6 Q221.954 229.846 226.537 225.216 Q231.144 220.563 232.324 219.221 Q234.57 216.697 235.449 214.961 Q236.352 213.202 236.352 211.512 Q236.352 208.758 234.408 207.022 Q232.486 205.285 229.385 205.285 Q227.186 205.285 224.732 206.049 Q222.301 206.813 219.524 208.364 L219.524 203.642 Q222.348 202.508 224.801 201.929 Q227.255 201.35 229.292 201.35 Q234.662 201.35 237.857 204.036 Q241.051 206.721 241.051 211.211 Q241.051 213.341 240.241 215.262 Q239.454 217.16 237.348 219.753 Q236.769 220.424 233.667 223.642 Q230.565 226.836 224.917 232.6 Z\" fill=\"#000000\" fill-rule=\"evenodd\" fill-opacity=\"1\" /><path clip-path=\"url(#clip380)\" d=\"M 0 0 M246.352 201.975 L264.708 201.975 L264.708 205.91 L250.634 205.91 L250.634 214.383 Q251.653 214.035 252.672 213.873 Q253.69 213.688 254.709 213.688 Q260.496 213.688 263.875 216.86 Q267.255 220.031 267.255 225.447 Q267.255 231.026 263.783 234.128 Q260.31 237.207 253.991 237.207 Q251.815 237.207 249.547 236.836 Q247.301 236.466 244.894 235.725 L244.894 231.026 Q246.977 232.16 249.199 232.716 Q251.422 233.271 253.898 233.271 Q257.903 233.271 260.241 231.165 Q262.579 229.059 262.579 225.447 Q262.579 221.836 260.241 219.73 Q257.903 217.623 253.898 217.623 Q252.023 217.623 250.148 218.04 Q248.297 218.457 246.352 219.336 L246.352 201.975 Z\" fill=\"#000000\" fill-rule=\"evenodd\" fill-opacity=\"1\" /><path clip-path=\"url(#clip380)\" d=\"M 0 0 M1341.17 1518.33 L1341.17 1525.11 Q1337.92 1522.08 1334.23 1520.59 Q1330.57 1519.09 1326.43 1519.09 Q1318.28 1519.09 1313.95 1524.09 Q1309.62 1529.05 1309.62 1538.47 Q1309.62 1547.86 1313.95 1552.86 Q1318.28 1557.82 1326.43 1557.82 Q1330.57 1557.82 1334.23 1556.33 Q1337.92 1554.83 1341.17 1551.81 L1341.17 1558.53 Q1337.79 1560.82 1334 1561.96 Q1330.25 1563.11 1326.05 1563.11 Q1315.26 1563.11 1309.05 1556.52 Q1302.84 1549.9 1302.84 1538.47 Q1302.84 1527.01 1309.05 1520.43 Q1315.26 1513.81 1326.05 1513.81 Q1330.31 1513.81 1334.07 1514.95 Q1337.86 1516.07 1341.17 1518.33 Z\" fill=\"#000000\" fill-rule=\"evenodd\" fill-opacity=\"1\" /><path clip-path=\"url(#clip380)\" d=\"M 0 0 M44.1444 1020.68 L50.9239 1020.68 Q47.9002 1023.93 46.4043 1027.62 Q44.9083 1031.28 44.9083 1035.42 Q44.9083 1043.57 49.9054 1047.9 Q54.8707 1052.23 64.2919 1052.23 Q73.6813 1052.23 78.6784 1047.9 Q83.6436 1043.57 83.6436 1035.42 Q83.6436 1031.28 82.1477 1027.62 Q80.6518 1023.93 77.6281 1020.68 L84.3439 1020.68 Q86.6355 1024.06 87.7814 1027.84 Q88.9272 1031.6 88.9272 1035.8 Q88.9272 1046.59 82.3387 1052.8 Q75.7183 1059 64.2919 1059 Q52.8336 1059 46.2451 1052.8 Q39.6248 1046.59 39.6248 1035.8 Q39.6248 1031.54 40.7706 1027.78 Q41.8846 1023.99 44.1444 1020.68 Z\" fill=\"#000000\" fill-rule=\"evenodd\" fill-opacity=\"1\" /><path clip-path=\"url(#clip380)\" d=\"M 0 0 M38.479 1014.54 L38.479 1008.68 L88.0042 1008.68 L88.0042 1014.54 L38.479 1014.54 Z\" fill=\"#000000\" fill-rule=\"evenodd\" fill-opacity=\"1\" /><path clip-path=\"url(#clip380)\" d=\"M 0 0 M70.0847 986.34 Q70.0847 993.438 71.7079 996.175 Q73.3312 998.913 77.2461 998.913 Q80.3653 998.913 82.2114 996.876 Q84.0256 994.807 84.0256 991.274 Q84.0256 986.404 80.5881 983.476 Q77.1188 980.516 71.3897 980.516 L70.0847 980.516 L70.0847 986.34 M67.6657 974.659 L88.0042 974.659 L88.0042 980.516 L82.5933 980.516 Q85.8398 982.521 87.3994 985.513 Q88.9272 988.505 88.9272 992.833 Q88.9272 998.308 85.8716 1001.55 Q82.7843 1004.77 77.6281 1004.77 Q71.6125 1004.77 68.5569 1000.76 Q65.5014 996.717 65.5014 988.728 L65.5014 980.516 L64.9285 980.516 Q60.8862 980.516 58.6901 983.189 Q56.4621 985.831 56.4621 990.637 Q56.4621 993.693 57.1941 996.589 Q57.9262 999.486 59.3903 1002.16 L53.9795 1002.16 Q52.7381 998.945 52.1334 995.921 Q51.4968 992.897 51.4968 990.033 Q51.4968 982.298 55.5072 978.479 Q59.5176 974.659 67.6657 974.659 Z\" fill=\"#000000\" fill-rule=\"evenodd\" fill-opacity=\"1\" /><path clip-path=\"url(#clip380)\" d=\"M 0 0 M53.4065 945.791 L58.9447 945.791 Q57.6716 948.273 57.035 950.947 Q56.3984 953.621 56.3984 956.485 Q56.3984 960.846 57.7352 963.042 Q59.072 965.206 61.7456 965.206 Q63.7826 965.206 64.9603 963.647 Q66.1061 962.087 67.1565 957.376 L67.6021 955.371 Q68.9389 949.133 71.3897 946.523 Q73.8086 943.881 78.1691 943.881 Q83.1344 943.881 86.0308 947.828 Q88.9272 951.743 88.9272 958.618 Q88.9272 961.482 88.3543 964.602 Q87.8132 967.689 86.6992 971.126 L80.6518 971.126 Q82.3387 967.88 83.198 964.729 Q84.0256 961.578 84.0256 958.49 Q84.0256 954.353 82.6251 952.125 Q81.1929 949.897 78.6147 949.897 Q76.2276 949.897 74.9545 951.52 Q73.6813 953.111 72.5037 958.554 L72.0262 960.591 Q70.8804 966.034 68.5251 968.453 Q66.138 970.872 62.0002 970.872 Q56.9713 970.872 54.2341 967.307 Q51.4968 963.742 51.4968 957.185 Q51.4968 953.939 51.9743 951.074 Q52.4517 948.21 53.4065 945.791 Z\" fill=\"#000000\" fill-rule=\"evenodd\" fill-opacity=\"1\" /><path clip-path=\"url(#clip380)\" d=\"M 0 0 M53.4065 915.013 L58.9447 915.013 Q57.6716 917.495 57.035 920.169 Q56.3984 922.842 56.3984 925.707 Q56.3984 930.068 57.7352 932.264 Q59.072 934.428 61.7456 934.428 Q63.7826 934.428 64.9603 932.868 Q66.1061 931.309 67.1565 926.598 L67.6021 924.593 Q68.9389 918.355 71.3897 915.745 Q73.8086 913.103 78.1691 913.103 Q83.1344 913.103 86.0308 917.05 Q88.9272 920.965 88.9272 927.84 Q88.9272 930.704 88.3543 933.823 Q87.8132 936.911 86.6992 940.348 L80.6518 940.348 Q82.3387 937.102 83.198 933.951 Q84.0256 930.8 84.0256 927.712 Q84.0256 923.575 82.6251 921.347 Q81.1929 919.119 78.6147 919.119 Q76.2276 919.119 74.9545 920.742 Q73.6813 922.333 72.5037 927.776 L72.0262 929.813 Q70.8804 935.256 68.5251 937.675 Q66.138 940.094 62.0002 940.094 Q56.9713 940.094 54.2341 936.529 Q51.4968 932.964 51.4968 926.407 Q51.4968 923.161 51.9743 920.296 Q52.4517 917.432 53.4065 915.013 Z\" fill=\"#000000\" fill-rule=\"evenodd\" fill-opacity=\"1\" /><path clip-path=\"url(#clip380)\" d=\"M 0 0 M52.3562 906.96 L52.3562 901.104 L88.0042 901.104 L88.0042 906.96 L52.3562 906.96 M38.479 906.96 L38.479 901.104 L45.895 901.104 L45.895 906.96 L38.479 906.96 Z\" fill=\"#000000\" fill-rule=\"evenodd\" fill-opacity=\"1\" /><path clip-path=\"url(#clip380)\" d=\"M 0 0 M38.479 876.914 L43.3487 876.914 L43.3487 882.516 Q43.3487 885.667 44.6219 886.908 Q45.895 888.118 49.2052 888.118 L52.3562 888.118 L52.3562 878.474 L56.9077 878.474 L56.9077 888.118 L88.0042 888.118 L88.0042 894.006 L56.9077 894.006 L56.9077 899.608 L52.3562 899.608 L52.3562 894.006 L49.8736 894.006 Q43.9216 894.006 41.2162 891.237 Q38.479 888.468 38.479 882.452 L38.479 876.914 Z\" fill=\"#000000\" fill-rule=\"evenodd\" fill-opacity=\"1\" /><path clip-path=\"url(#clip380)\" d=\"M 0 0 M52.3562 870.771 L52.3562 864.915 L88.0042 864.915 L88.0042 870.771 L52.3562 870.771 M38.479 870.771 L38.479 864.915 L45.895 864.915 L45.895 870.771 L38.479 870.771 Z\" fill=\"#000000\" fill-rule=\"evenodd\" fill-opacity=\"1\" /><path clip-path=\"url(#clip380)\" d=\"M 0 0 M53.7248 833.118 L59.1993 833.118 Q57.8307 835.6 57.1623 838.115 Q56.4621 840.598 56.4621 843.144 Q56.4621 848.841 60.0905 851.992 Q63.6872 855.143 70.212 855.143 Q76.7369 855.143 80.3653 851.992 Q83.9619 848.841 83.9619 843.144 Q83.9619 840.598 83.2935 838.115 Q82.5933 835.6 81.2247 833.118 L86.6355 833.118 Q87.7814 835.569 88.3543 838.21 Q88.9272 840.82 88.9272 843.78 Q88.9272 851.833 83.8664 856.575 Q78.8057 861.318 70.212 861.318 Q61.491 861.318 56.4939 856.544 Q51.4968 851.738 51.4968 843.398 Q51.4968 840.693 52.0697 838.115 Q52.6108 835.537 53.7248 833.118 Z\" fill=\"#000000\" fill-rule=\"evenodd\" fill-opacity=\"1\" /><path clip-path=\"url(#clip380)\" d=\"M 0 0 M70.0847 810.774 Q70.0847 817.872 71.7079 820.609 Q73.3312 823.346 77.2461 823.346 Q80.3653 823.346 82.2114 821.309 Q84.0256 819.241 84.0256 815.708 Q84.0256 810.838 80.5881 807.91 Q77.1188 804.95 71.3897 804.95 L70.0847 804.95 L70.0847 810.774 M67.6657 799.093 L88.0042 799.093 L88.0042 804.95 L82.5933 804.95 Q85.8398 806.955 87.3994 809.947 Q88.9272 812.939 88.9272 817.267 Q88.9272 822.742 85.8716 825.988 Q82.7843 829.203 77.6281 829.203 Q71.6125 829.203 68.5569 825.193 Q65.5014 821.15 65.5014 813.161 L65.5014 804.95 L64.9285 804.95 Q60.8862 804.95 58.6901 807.623 Q56.4621 810.265 56.4621 815.071 Q56.4621 818.127 57.1941 821.023 Q57.9262 823.919 59.3903 826.593 L53.9795 826.593 Q52.7381 823.378 52.1334 820.355 Q51.4968 817.331 51.4968 814.466 Q51.4968 806.732 55.5072 802.913 Q59.5176 799.093 67.6657 799.093 Z\" fill=\"#000000\" fill-rule=\"evenodd\" fill-opacity=\"1\" /><path clip-path=\"url(#clip380)\" d=\"M 0 0 M42.2347 787.157 L52.3562 787.157 L52.3562 775.094 L56.9077 775.094 L56.9077 787.157 L76.2594 787.157 Q80.6199 787.157 81.8613 785.98 Q83.1026 784.77 83.1026 781.11 L83.1026 775.094 L88.0042 775.094 L88.0042 781.11 Q88.0042 787.889 85.4897 790.468 Q82.9434 793.046 76.2594 793.046 L56.9077 793.046 L56.9077 797.343 L52.3562 797.343 L52.3562 793.046 L42.2347 793.046 L42.2347 787.157 Z\" fill=\"#000000\" fill-rule=\"evenodd\" fill-opacity=\"1\" /><path clip-path=\"url(#clip380)\" d=\"M 0 0 M52.3562 768.952 L52.3562 763.095 L88.0042 763.095 L88.0042 768.952 L52.3562 768.952 M38.479 768.952 L38.479 763.095 L45.895 763.095 L45.895 768.952 L38.479 768.952 Z\" fill=\"#000000\" fill-rule=\"evenodd\" fill-opacity=\"1\" /><path clip-path=\"url(#clip380)\" d=\"M 0 0 M56.4621 743.139 Q56.4621 747.849 60.1542 750.586 Q63.8145 753.324 70.212 753.324 Q76.6095 753.324 80.3017 750.618 Q83.9619 747.881 83.9619 743.139 Q83.9619 738.46 80.2698 735.723 Q76.5777 732.985 70.212 732.985 Q63.8781 732.985 60.186 735.723 Q56.4621 738.46 56.4621 743.139 M51.4968 743.139 Q51.4968 735.5 56.4621 731.139 Q61.4273 726.779 70.212 726.779 Q78.9649 726.779 83.9619 731.139 Q88.9272 735.5 88.9272 743.139 Q88.9272 750.809 83.9619 755.17 Q78.9649 759.498 70.212 759.498 Q61.4273 759.498 56.4621 755.17 Q51.4968 750.809 51.4968 743.139 Z\" fill=\"#000000\" fill-rule=\"evenodd\" fill-opacity=\"1\" /><path clip-path=\"url(#clip380)\" d=\"M 0 0 M66.4881 691.003 L88.0042 691.003 L88.0042 696.86 L66.679 696.86 Q61.6183 696.86 59.1038 698.833 Q56.5894 700.807 56.5894 704.753 Q56.5894 709.496 59.6131 712.233 Q62.6368 714.97 67.8567 714.97 L88.0042 714.97 L88.0042 720.859 L52.3562 720.859 L52.3562 714.97 L57.8944 714.97 Q54.6797 712.87 53.0883 710.037 Q51.4968 707.172 51.4968 703.448 Q51.4968 697.305 55.3163 694.154 Q59.1038 691.003 66.4881 691.003 Z\" fill=\"#000000\" fill-rule=\"evenodd\" fill-opacity=\"1\" /><path clip-path=\"url(#clip380)\" d=\"M 0 0 M46.818 648.003 L70.4666 656.724 L70.4666 639.25 L46.818 648.003 M40.4842 651.632 L40.4842 644.343 L88.0042 626.232 L88.0042 632.916 L75.8138 637.245 L75.8138 658.666 L88.0042 662.994 L88.0042 669.774 L40.4842 651.632 Z\" fill=\"#000000\" fill-rule=\"evenodd\" fill-opacity=\"1\" /><path clip-path=\"url(#clip380)\" d=\"M 0 0 M53.7248 595.582 L59.1993 595.582 Q57.8307 598.064 57.1623 600.579 Q56.4621 603.061 56.4621 605.607 Q56.4621 611.305 60.0905 614.456 Q63.6872 617.607 70.212 617.607 Q76.7369 617.607 80.3653 614.456 Q83.9619 611.305 83.9619 605.607 Q83.9619 603.061 83.2935 600.579 Q82.5933 598.064 81.2247 595.582 L86.6355 595.582 Q87.7814 598.032 88.3543 600.674 Q88.9272 603.284 88.9272 606.244 Q88.9272 614.297 83.8664 619.039 Q78.8057 623.782 70.212 623.782 Q61.491 623.782 56.4939 619.007 Q51.4968 614.201 51.4968 605.862 Q51.4968 603.157 52.0697 600.579 Q52.6108 598 53.7248 595.582 Z\" fill=\"#000000\" fill-rule=\"evenodd\" fill-opacity=\"1\" /><path clip-path=\"url(#clip380)\" d=\"M 0 0 M53.7248 563.785 L59.1993 563.785 Q57.8307 566.267 57.1623 568.782 Q56.4621 571.265 56.4621 573.811 Q56.4621 579.508 60.0905 582.659 Q63.6872 585.81 70.212 585.81 Q76.7369 585.81 80.3653 582.659 Q83.9619 579.508 83.9619 573.811 Q83.9619 571.265 83.2935 568.782 Q82.5933 566.267 81.2247 563.785 L86.6355 563.785 Q87.7814 566.236 88.3543 568.877 Q88.9272 571.487 88.9272 574.447 Q88.9272 582.5 83.8664 587.242 Q78.8057 591.985 70.212 591.985 Q61.491 591.985 56.4939 587.211 Q51.4968 582.404 51.4968 574.065 Q51.4968 571.36 52.0697 568.782 Q52.6108 566.204 53.7248 563.785 Z\" fill=\"#000000\" fill-rule=\"evenodd\" fill-opacity=\"1\" /><path clip-path=\"url(#clip380)\" d=\"M 0 0 M73.9359 558.247 L52.3562 558.247 L52.3562 552.39 L73.7131 552.39 Q78.7739 552.39 81.3202 550.417 Q83.8346 548.443 83.8346 544.497 Q83.8346 539.754 80.8109 537.017 Q77.7872 534.248 72.5673 534.248 L52.3562 534.248 L52.3562 528.391 L88.0042 528.391 L88.0042 534.248 L82.5296 534.248 Q85.7762 536.38 87.3676 539.213 Q88.9272 542.014 88.9272 545.738 Q88.9272 551.881 85.1078 555.064 Q81.2883 558.247 73.9359 558.247 M51.4968 543.51 L51.4968 543.51 Z\" fill=\"#000000\" fill-rule=\"evenodd\" fill-opacity=\"1\" /><path clip-path=\"url(#clip380)\" d=\"M 0 0 M57.8307 501.592 Q57.2578 502.579 57.0032 503.756 Q56.7167 504.902 56.7167 506.302 Q56.7167 511.268 59.9632 513.941 Q63.1779 516.583 69.2253 516.583 L88.0042 516.583 L88.0042 522.471 L52.3562 522.471 L52.3562 516.583 L57.8944 516.583 Q54.6479 514.737 53.0883 511.777 Q51.4968 508.817 51.4968 504.584 Q51.4968 503.979 51.5923 503.247 Q51.656 502.515 51.8151 501.624 L57.8307 501.592 Z\" fill=\"#000000\" fill-rule=\"evenodd\" fill-opacity=\"1\" /><path clip-path=\"url(#clip380)\" d=\"M 0 0 M70.0847 479.248 Q70.0847 486.346 71.7079 489.083 Q73.3312 491.82 77.2461 491.82 Q80.3653 491.82 82.2114 489.783 Q84.0256 487.715 84.0256 484.182 Q84.0256 479.312 80.5881 476.384 Q77.1188 473.424 71.3897 473.424 L70.0847 473.424 L70.0847 479.248 M67.6657 467.567 L88.0042 467.567 L88.0042 473.424 L82.5933 473.424 Q85.8398 475.429 87.3994 478.421 Q88.9272 481.413 88.9272 485.741 Q88.9272 491.216 85.8716 494.462 Q82.7843 497.677 77.6281 497.677 Q71.6125 497.677 68.5569 493.667 Q65.5014 489.624 65.5014 481.635 L65.5014 473.424 L64.9285 473.424 Q60.8862 473.424 58.6901 476.097 Q56.4621 478.739 56.4621 483.545 Q56.4621 486.601 57.1941 489.497 Q57.9262 492.393 59.3903 495.067 L53.9795 495.067 Q52.7381 491.852 52.1334 488.829 Q51.4968 485.805 51.4968 482.94 Q51.4968 475.206 55.5072 471.387 Q59.5176 467.567 67.6657 467.567 Z\" fill=\"#000000\" fill-rule=\"evenodd\" fill-opacity=\"1\" /><path clip-path=\"url(#clip380)\" d=\"M 0 0 M53.7248 435.77 L59.1993 435.77 Q57.8307 438.253 57.1623 440.768 Q56.4621 443.25 56.4621 445.796 Q56.4621 451.494 60.0905 454.645 Q63.6872 457.796 70.212 457.796 Q76.7369 457.796 80.3653 454.645 Q83.9619 451.494 83.9619 445.796 Q83.9619 443.25 83.2935 440.768 Q82.5933 438.253 81.2247 435.77 L86.6355 435.77 Q87.7814 438.221 88.3543 440.863 Q88.9272 443.473 88.9272 446.433 Q88.9272 454.486 83.8664 459.228 Q78.8057 463.971 70.212 463.971 Q61.491 463.971 56.4939 459.196 Q51.4968 454.39 51.4968 446.051 Q51.4968 443.346 52.0697 440.768 Q52.6108 438.189 53.7248 435.77 Z\" fill=\"#000000\" fill-rule=\"evenodd\" fill-opacity=\"1\" /><path clip-path=\"url(#clip380)\" d=\"M 0 0 M91.3143 414.795 Q97.68 417.278 99.6216 419.633 Q101.563 421.989 101.563 425.935 L101.563 430.614 L96.6615 430.614 L96.6615 427.177 Q96.6615 424.758 95.5157 423.421 Q94.3699 422.084 90.1048 420.461 L87.4312 419.411 L52.3562 433.829 L52.3562 427.622 L80.238 416.482 L52.3562 405.342 L52.3562 399.136 L91.3143 414.795 Z\" fill=\"#000000\" fill-rule=\"evenodd\" fill-opacity=\"1\" /><polyline clip-path=\"url(#clip382)\" style=\"stroke:#009af9; stroke-width:8; stroke-opacity:1; fill:none\" points=\"\n",
       "  349.599,1372.3 416.662,1082.8 483.724,1179.34 550.787,632.831 617.849,697.051 684.912,439.867 751.974,86.1407 819.037,279.044 886.099,375.344 953.162,375.405 \n",
       "  1020.22,182.441 1087.29,214.642 1154.35,246.722 1221.41,310.882 1288.47,182.38 1355.54,278.862 1422.6,311.003 1489.66,150.24 1556.72,150.24 1623.79,246.661 \n",
       "  1690.85,246.601 1757.91,150.119 1824.97,118.039 1892.04,85.838 1959.1,85.838 2026.16,118.039 2093.22,150.179 2160.29,182.38 2227.35,118.039 2294.41,85.8986 \n",
       "  \n",
       "  \"/>\n",
       "<path clip-path=\"url(#clip380)\" d=\"\n",
       "M1855.66 213.659 L2284.04 213.659 L2284.04 92.6992 L1855.66 92.6992  Z\n",
       "  \" fill=\"#ffffff\" fill-rule=\"evenodd\" fill-opacity=\"1\"/>\n",
       "<polyline clip-path=\"url(#clip380)\" style=\"stroke:#000000; stroke-width:4; stroke-opacity:1; fill:none\" points=\"\n",
       "  1855.66,213.659 2284.04,213.659 2284.04,92.6992 1855.66,92.6992 1855.66,213.659 \n",
       "  \"/>\n",
       "<polyline clip-path=\"url(#clip380)\" style=\"stroke:#009af9; stroke-width:4; stroke-opacity:1; fill:none\" points=\"\n",
       "  1878.56,153.179 2015.99,153.179 \n",
       "  \"/>\n",
       "<path clip-path=\"url(#clip380)\" d=\"M 0 0 M2052.09 170.459 L2038.9 135.899 L2043.78 135.899 L2054.73 164.996 L2065.71 135.899 L2070.57 135.899 L2057.4 170.459 L2052.09 170.459 Z\" fill=\"#000000\" fill-rule=\"evenodd\" fill-opacity=\"1\" /><path clip-path=\"url(#clip380)\" d=\"M 0 0 M2083.14 157.427 Q2077.97 157.427 2075.98 158.607 Q2073.99 159.788 2073.99 162.635 Q2073.99 164.904 2075.47 166.246 Q2076.98 167.566 2079.55 167.566 Q2083.09 167.566 2085.22 165.066 Q2087.37 162.543 2087.37 158.376 L2087.37 157.427 L2083.14 157.427 M2091.63 155.668 L2091.63 170.459 L2087.37 170.459 L2087.37 166.524 Q2085.91 168.885 2083.74 170.019 Q2081.56 171.13 2078.41 171.13 Q2074.43 171.13 2072.07 168.908 Q2069.73 166.663 2069.73 162.913 Q2069.73 158.538 2072.65 156.316 Q2075.59 154.094 2081.4 154.094 L2087.37 154.094 L2087.37 153.677 Q2087.37 150.737 2085.43 149.14 Q2083.51 147.519 2080.01 147.519 Q2077.79 147.519 2075.68 148.052 Q2073.58 148.584 2071.63 149.649 L2071.63 145.714 Q2073.97 144.811 2076.17 144.371 Q2078.37 143.908 2080.45 143.908 Q2086.08 143.908 2088.85 146.825 Q2091.63 149.742 2091.63 155.668 Z\" fill=\"#000000\" fill-rule=\"evenodd\" fill-opacity=\"1\" /><path clip-path=\"url(#clip380)\" d=\"M 0 0 M2096.1 134.441 L2100.36 134.441 L2100.36 170.459 L2096.1 170.459 L2096.1 134.441 Z\" fill=\"#000000\" fill-rule=\"evenodd\" fill-opacity=\"1\" /><path clip-path=\"url(#clip380)\" d=\"M 0 0 M2104.83 144.533 L2109.09 144.533 L2109.09 170.459 L2104.83 170.459 L2104.83 144.533 M2104.83 134.441 L2109.09 134.441 L2109.09 139.834 L2104.83 139.834 L2104.83 134.441 Z\" fill=\"#000000\" fill-rule=\"evenodd\" fill-opacity=\"1\" /><path clip-path=\"url(#clip380)\" d=\"M 0 0 M2130.61 148.469 L2130.61 134.441 L2134.87 134.441 L2134.87 170.459 L2130.61 170.459 L2130.61 166.57 Q2129.27 168.885 2127.21 170.019 Q2125.17 171.13 2122.3 171.13 Q2117.6 171.13 2114.64 167.38 Q2111.7 163.631 2111.7 157.519 Q2111.7 151.408 2114.64 147.658 Q2117.6 143.908 2122.3 143.908 Q2125.17 143.908 2127.21 145.043 Q2129.27 146.154 2130.61 148.469 M2116.1 157.519 Q2116.1 162.218 2118.02 164.904 Q2119.96 167.566 2123.34 167.566 Q2126.72 167.566 2128.67 164.904 Q2130.61 162.218 2130.61 157.519 Q2130.61 152.82 2128.67 150.158 Q2126.72 147.473 2123.34 147.473 Q2119.96 147.473 2118.02 150.158 Q2116.1 152.82 2116.1 157.519 Z\" fill=\"#000000\" fill-rule=\"evenodd\" fill-opacity=\"1\" /><path clip-path=\"url(#clip380)\" d=\"M 0 0 M2151.12 157.427 Q2145.96 157.427 2143.97 158.607 Q2141.98 159.788 2141.98 162.635 Q2141.98 164.904 2143.46 166.246 Q2144.96 167.566 2147.53 167.566 Q2151.08 167.566 2153.21 165.066 Q2155.36 162.543 2155.36 158.376 L2155.36 157.427 L2151.12 157.427 M2159.62 155.668 L2159.62 170.459 L2155.36 170.459 L2155.36 166.524 Q2153.9 168.885 2151.72 170.019 Q2149.55 171.13 2146.4 171.13 Q2142.42 171.13 2140.06 168.908 Q2137.72 166.663 2137.72 162.913 Q2137.72 158.538 2140.64 156.316 Q2143.58 154.094 2149.39 154.094 L2155.36 154.094 L2155.36 153.677 Q2155.36 150.737 2153.41 149.14 Q2151.49 147.519 2148 147.519 Q2145.77 147.519 2143.67 148.052 Q2141.56 148.584 2139.62 149.649 L2139.62 145.714 Q2141.96 144.811 2144.15 144.371 Q2146.35 143.908 2148.44 143.908 Q2154.06 143.908 2156.84 146.825 Q2159.62 149.742 2159.62 155.668 Z\" fill=\"#000000\" fill-rule=\"evenodd\" fill-opacity=\"1\" /><path clip-path=\"url(#clip380)\" d=\"M 0 0 M2168.3 137.172 L2168.3 144.533 L2177.07 144.533 L2177.07 147.844 L2168.3 147.844 L2168.3 161.918 Q2168.3 165.089 2169.15 165.992 Q2170.03 166.894 2172.7 166.894 L2177.07 166.894 L2177.07 170.459 L2172.7 170.459 Q2167.77 170.459 2165.89 168.63 Q2164.02 166.779 2164.02 161.918 L2164.02 147.844 L2160.89 147.844 L2160.89 144.533 L2164.02 144.533 L2164.02 137.172 L2168.3 137.172 Z\" fill=\"#000000\" fill-rule=\"evenodd\" fill-opacity=\"1\" /><path clip-path=\"url(#clip380)\" d=\"M 0 0 M2181.54 144.533 L2185.8 144.533 L2185.8 170.459 L2181.54 170.459 L2181.54 144.533 M2181.54 134.441 L2185.8 134.441 L2185.8 139.834 L2181.54 139.834 L2181.54 134.441 Z\" fill=\"#000000\" fill-rule=\"evenodd\" fill-opacity=\"1\" /><path clip-path=\"url(#clip380)\" d=\"M 0 0 M2200.31 147.519 Q2196.89 147.519 2194.89 150.205 Q2192.9 152.867 2192.9 157.519 Q2192.9 162.172 2194.87 164.857 Q2196.86 167.519 2200.31 167.519 Q2203.71 167.519 2205.71 164.834 Q2207.7 162.149 2207.7 157.519 Q2207.7 152.913 2205.71 150.228 Q2203.71 147.519 2200.31 147.519 M2200.31 143.908 Q2205.87 143.908 2209.04 147.519 Q2212.21 151.131 2212.21 157.519 Q2212.21 163.885 2209.04 167.519 Q2205.87 171.13 2200.31 171.13 Q2194.73 171.13 2191.56 167.519 Q2188.41 163.885 2188.41 157.519 Q2188.41 151.131 2191.56 147.519 Q2194.73 143.908 2200.31 143.908 Z\" fill=\"#000000\" fill-rule=\"evenodd\" fill-opacity=\"1\" /><path clip-path=\"url(#clip380)\" d=\"M 0 0 M2238.23 154.811 L2238.23 170.459 L2233.97 170.459 L2233.97 154.95 Q2233.97 151.269 2232.53 149.441 Q2231.1 147.612 2228.23 147.612 Q2224.78 147.612 2222.79 149.811 Q2220.8 152.01 2220.8 155.806 L2220.8 170.459 L2216.52 170.459 L2216.52 144.533 L2220.8 144.533 L2220.8 148.561 Q2222.33 146.223 2224.39 145.066 Q2226.47 143.908 2229.18 143.908 Q2233.64 143.908 2235.94 146.686 Q2238.23 149.441 2238.23 154.811 Z\" fill=\"#000000\" fill-rule=\"evenodd\" fill-opacity=\"1\" /></svg>\n"
      ]
     },
     "execution_count": 27,
     "metadata": {},
     "output_type": "execute_result"
    }
   ],
   "source": [
    "plot(curve.parameter_values,\n",
    "     curve.measurements,\n",
    "     xscale=curve.parameter_scale,\n",
    "     xlab=curve.parameter_name,\n",
    "     ylab=\"Classification Accuracy\",\n",
    "     label=\"Validation\", lw=2)"
   ]
  },
  {
   "cell_type": "code",
   "execution_count": 28,
   "metadata": {},
   "outputs": [
    {
     "data": {
      "text/plain": [
       "0.7038"
      ]
     },
     "execution_count": 28,
     "metadata": {},
     "output_type": "execute_result"
    }
   ],
   "source": [
    "a = round(maximum(curve.measurements), digits=5)"
   ]
  },
  {
   "cell_type": "code",
   "execution_count": 29,
   "metadata": {},
   "outputs": [
    {
     "data": {
      "text/plain": [
       "207.50486187338385"
      ]
     },
     "execution_count": 29,
     "metadata": {},
     "output_type": "execute_result"
    }
   ],
   "source": [
    "best_C = curve.parameter_values[argmax(curve.measurements)]"
   ]
  },
  {
   "cell_type": "markdown",
   "metadata": {},
   "source": [
    "##### Second look at `rbf`"
   ]
  },
  {
   "cell_type": "code",
   "execution_count": 30,
   "metadata": {},
   "outputs": [
    {
     "data": {
      "text/plain": [
       "MLJBase.NumericRange(Float64, :gamma, ... )"
      ]
     },
     "execution_count": 30,
     "metadata": {},
     "output_type": "execute_result"
    }
   ],
   "source": [
    "r1 = range(Float64, :C, lower=5*10^1, upper=5*10^4, scale=:log10)\n",
    "r2 = range(Float64, :gamma, lower=10^-4, upper=10^0, scale=:log10)"
   ]
  },
  {
   "cell_type": "code",
   "execution_count": 31,
   "metadata": {},
   "outputs": [
    {
     "data": {
      "text/plain": [
       "DeterministicTunedModel(\n",
       "    model = SVMClassifier(\n",
       "            C = 1.0,\n",
       "            kernel = \"rbf\",\n",
       "            degree = 3,\n",
       "            gamma = \"auto\",\n",
       "            coef0 = 0.0,\n",
       "            shrinking = true,\n",
       "            tol = 0.001,\n",
       "            cache_size = 1000,\n",
       "            max_iter = -1,\n",
       "            decision_function_shape = \"ovr\",\n",
       "            random_state = nothing),\n",
       "    tuning = Grid(\n",
       "            goal = 100,\n",
       "            resolution = 10,\n",
       "            shuffle = true,\n",
       "            rng = Random._GLOBAL_RNG()),\n",
       "    resampling = CV(\n",
       "            nfolds = 6,\n",
       "            shuffle = false,\n",
       "            rng = Random._GLOBAL_RNG()),\n",
       "    measure = accuracy(),\n",
       "    weights = nothing,\n",
       "    operation = MLJModelInterface.predict,\n",
       "    range = MLJBase.NumericRange{Float64,MLJBase.Bounded,Symbol}[\u001b[34mNumericRange{Float64,…} @649\u001b[39m, \u001b[34mNumericRange{Float64,…} @456\u001b[39m],\n",
       "    train_best = true,\n",
       "    repeats = 1,\n",
       "    n = nothing,\n",
       "    acceleration = CPUThreads{Int64}(1),\n",
       "    acceleration_resampling = CPU1{Nothing}(nothing),\n",
       "    check_measure = true)\u001b[34m @130\u001b[39m"
      ]
     },
     "execution_count": 31,
     "metadata": {},
     "output_type": "execute_result"
    }
   ],
   "source": [
    "svm_rbf_model = SVMClassifier(kernel=\"rbf\", cache_size=1000)\n",
    "self_tuning_svm_model = TunedModel(model=svm_rbf_model,\n",
    "                                    tuning=Grid(goal=100),\n",
    "                                    resampling=CV(), \n",
    "                                    measure=accuracy,\n",
    "                                    acceleration=CPUThreads(),\n",
    "                                    range=[r1,r2])"
   ]
  },
  {
   "cell_type": "code",
   "execution_count": 32,
   "metadata": {},
   "outputs": [
    {
     "data": {
      "text/plain": [
       "\u001b[34mMachine{DeterministicTunedModel{Grid,…}} @540\u001b[39m trained 0 times.\n",
       "  args: \n",
       "    1:\t\u001b[34mSource @561\u001b[39m ⏎ `Table{AbstractArray{Continuous,1}}`\n",
       "    2:\t\u001b[34mSource @301\u001b[39m ⏎ `AbstractArray{Multiclass{3},1}`\n"
      ]
     },
     "execution_count": 32,
     "metadata": {},
     "output_type": "execute_result"
    }
   ],
   "source": [
    "self_tuning_svm_mach = machine(self_tuning_svm_model, X_stand, y)"
   ]
  },
  {
   "cell_type": "code",
   "execution_count": 33,
   "metadata": {},
   "outputs": [
    {
     "name": "stderr",
     "output_type": "stream",
     "text": [
      "┌ Info: Training \u001b[34mMachine{DeterministicTunedModel{Grid,…}} @540\u001b[39m.\n",
      "└ @ MLJBase /home/andrew/.julia/packages/MLJBase/uKzAz/src/machines.jl:319\n",
      "┌ Info: Attempting to evaluate 100 models.\n",
      "└ @ MLJTuning /home/andrew/.julia/packages/MLJTuning/Bbgvk/src/tuned_models.jl:494\n",
      "\u001b[33mEvaluating over 100 metamodels: 100%[=========================] Time: 0:04:40\u001b[39m\n"
     ]
    },
    {
     "data": {
      "text/plain": [
       "\u001b[34mMachine{DeterministicTunedModel{Grid,…}} @540\u001b[39m trained 1 time.\n",
       "  args: \n",
       "    1:\t\u001b[34mSource @561\u001b[39m ⏎ `Table{AbstractArray{Continuous,1}}`\n",
       "    2:\t\u001b[34mSource @301\u001b[39m ⏎ `AbstractArray{Multiclass{3},1}`\n"
      ]
     },
     "execution_count": 33,
     "metadata": {},
     "output_type": "execute_result"
    }
   ],
   "source": [
    "z = fit!(self_tuning_svm_mach, rows=train)"
   ]
  },
  {
   "cell_type": "code",
   "execution_count": 34,
   "metadata": {},
   "outputs": [
    {
     "data": {
      "image/svg+xml": [
       "<?xml version=\"1.0\" encoding=\"utf-8\"?>\n",
       "<svg xmlns=\"http://www.w3.org/2000/svg\" xmlns:xlink=\"http://www.w3.org/1999/xlink\" width=\"600\" height=\"400\" viewBox=\"0 0 2400 1600\">\n",
       "<defs>\n",
       "  <clipPath id=\"clip420\">\n",
       "    <rect x=\"0\" y=\"0\" width=\"2400\" height=\"1600\"/>\n",
       "  </clipPath>\n",
       "</defs>\n",
       "<path clip-path=\"url(#clip420)\" d=\"\n",
       "M0 1600 L2400 1600 L2400 0 L0 0  Z\n",
       "  \" fill=\"#ffffff\" fill-rule=\"evenodd\" fill-opacity=\"1\"/>\n",
       "<defs>\n",
       "  <clipPath id=\"clip421\">\n",
       "    <rect x=\"480\" y=\"0\" width=\"1681\" height=\"1600\"/>\n",
       "  </clipPath>\n",
       "</defs>\n",
       "<path clip-path=\"url(#clip420)\" d=\"\n",
       "M244.308 1410.9 L2112.76 1410.9 L2112.76 47.2441 L244.308 47.2441  Z\n",
       "  \" fill=\"#ffffff\" fill-rule=\"evenodd\" fill-opacity=\"1\"/>\n",
       "<defs>\n",
       "  <clipPath id=\"clip422\">\n",
       "    <rect x=\"244\" y=\"47\" width=\"1869\" height=\"1365\"/>\n",
       "  </clipPath>\n",
       "</defs>\n",
       "<polyline clip-path=\"url(#clip422)\" style=\"stroke:#000000; stroke-width:2; stroke-opacity:0.1; fill:none\" points=\"\n",
       "  474.062,1410.9 474.062,47.2441 \n",
       "  \"/>\n",
       "<polyline clip-path=\"url(#clip422)\" style=\"stroke:#000000; stroke-width:2; stroke-opacity:0.1; fill:none\" points=\"\n",
       "  767.843,1410.9 767.843,47.2441 \n",
       "  \"/>\n",
       "<polyline clip-path=\"url(#clip422)\" style=\"stroke:#000000; stroke-width:2; stroke-opacity:0.1; fill:none\" points=\"\n",
       "  1061.62,1410.9 1061.62,47.2441 \n",
       "  \"/>\n",
       "<polyline clip-path=\"url(#clip422)\" style=\"stroke:#000000; stroke-width:2; stroke-opacity:0.1; fill:none\" points=\"\n",
       "  1355.41,1410.9 1355.41,47.2441 \n",
       "  \"/>\n",
       "<polyline clip-path=\"url(#clip422)\" style=\"stroke:#000000; stroke-width:2; stroke-opacity:0.1; fill:none\" points=\"\n",
       "  1649.19,1410.9 1649.19,47.2441 \n",
       "  \"/>\n",
       "<polyline clip-path=\"url(#clip422)\" style=\"stroke:#000000; stroke-width:2; stroke-opacity:0.1; fill:none\" points=\"\n",
       "  1942.97,1410.9 1942.97,47.2441 \n",
       "  \"/>\n",
       "<polyline clip-path=\"url(#clip422)\" style=\"stroke:#000000; stroke-width:2; stroke-opacity:0.1; fill:none\" points=\"\n",
       "  244.308,1372.3 2112.76,1372.3 \n",
       "  \"/>\n",
       "<polyline clip-path=\"url(#clip422)\" style=\"stroke:#000000; stroke-width:2; stroke-opacity:0.1; fill:none\" points=\"\n",
       "  244.308,1050.69 2112.76,1050.69 \n",
       "  \"/>\n",
       "<polyline clip-path=\"url(#clip422)\" style=\"stroke:#000000; stroke-width:2; stroke-opacity:0.1; fill:none\" points=\"\n",
       "  244.308,729.07 2112.76,729.07 \n",
       "  \"/>\n",
       "<polyline clip-path=\"url(#clip422)\" style=\"stroke:#000000; stroke-width:2; stroke-opacity:0.1; fill:none\" points=\"\n",
       "  244.308,407.454 2112.76,407.454 \n",
       "  \"/>\n",
       "<polyline clip-path=\"url(#clip422)\" style=\"stroke:#000000; stroke-width:2; stroke-opacity:0.1; fill:none\" points=\"\n",
       "  244.308,85.838 2112.76,85.838 \n",
       "  \"/>\n",
       "<polyline clip-path=\"url(#clip420)\" style=\"stroke:#000000; stroke-width:4; stroke-opacity:1; fill:none\" points=\"\n",
       "  244.308,1410.9 2112.76,1410.9 \n",
       "  \"/>\n",
       "<polyline clip-path=\"url(#clip420)\" style=\"stroke:#000000; stroke-width:4; stroke-opacity:1; fill:none\" points=\"\n",
       "  244.308,1410.9 244.308,47.2441 \n",
       "  \"/>\n",
       "<polyline clip-path=\"url(#clip420)\" style=\"stroke:#000000; stroke-width:4; stroke-opacity:1; fill:none\" points=\"\n",
       "  474.062,1410.9 474.062,1394.53 \n",
       "  \"/>\n",
       "<polyline clip-path=\"url(#clip420)\" style=\"stroke:#000000; stroke-width:4; stroke-opacity:1; fill:none\" points=\"\n",
       "  767.843,1410.9 767.843,1394.53 \n",
       "  \"/>\n",
       "<polyline clip-path=\"url(#clip420)\" style=\"stroke:#000000; stroke-width:4; stroke-opacity:1; fill:none\" points=\"\n",
       "  1061.62,1410.9 1061.62,1394.53 \n",
       "  \"/>\n",
       "<polyline clip-path=\"url(#clip420)\" style=\"stroke:#000000; stroke-width:4; stroke-opacity:1; fill:none\" points=\"\n",
       "  1355.41,1410.9 1355.41,1394.53 \n",
       "  \"/>\n",
       "<polyline clip-path=\"url(#clip420)\" style=\"stroke:#000000; stroke-width:4; stroke-opacity:1; fill:none\" points=\"\n",
       "  1649.19,1410.9 1649.19,1394.53 \n",
       "  \"/>\n",
       "<polyline clip-path=\"url(#clip420)\" style=\"stroke:#000000; stroke-width:4; stroke-opacity:1; fill:none\" points=\"\n",
       "  1942.97,1410.9 1942.97,1394.53 \n",
       "  \"/>\n",
       "<polyline clip-path=\"url(#clip420)\" style=\"stroke:#000000; stroke-width:4; stroke-opacity:1; fill:none\" points=\"\n",
       "  244.308,1372.3 266.729,1372.3 \n",
       "  \"/>\n",
       "<polyline clip-path=\"url(#clip420)\" style=\"stroke:#000000; stroke-width:4; stroke-opacity:1; fill:none\" points=\"\n",
       "  244.308,1050.69 266.729,1050.69 \n",
       "  \"/>\n",
       "<polyline clip-path=\"url(#clip420)\" style=\"stroke:#000000; stroke-width:4; stroke-opacity:1; fill:none\" points=\"\n",
       "  244.308,729.07 266.729,729.07 \n",
       "  \"/>\n",
       "<polyline clip-path=\"url(#clip420)\" style=\"stroke:#000000; stroke-width:4; stroke-opacity:1; fill:none\" points=\"\n",
       "  244.308,407.454 266.729,407.454 \n",
       "  \"/>\n",
       "<polyline clip-path=\"url(#clip420)\" style=\"stroke:#000000; stroke-width:4; stroke-opacity:1; fill:none\" points=\"\n",
       "  244.308,85.838 266.729,85.838 \n",
       "  \"/>\n",
       "<path clip-path=\"url(#clip420)\" d=\"M 0 0 M427.004 1481.97 L434.643 1481.97 L434.643 1455.6 L426.333 1457.27 L426.333 1453.01 L434.597 1451.34 L439.273 1451.34 L439.273 1481.97 L446.912 1481.97 L446.912 1485.9 L427.004 1485.9 L427.004 1481.97 Z\" fill=\"#000000\" fill-rule=\"evenodd\" fill-opacity=\"1\" /><path clip-path=\"url(#clip420)\" d=\"M 0 0 M461.981 1454.42 Q458.37 1454.42 456.541 1457.99 Q454.736 1461.53 454.736 1468.66 Q454.736 1475.77 456.541 1479.33 Q458.37 1482.87 461.981 1482.87 Q465.615 1482.87 467.421 1479.33 Q469.25 1475.77 469.25 1468.66 Q469.25 1461.53 467.421 1457.99 Q465.615 1454.42 461.981 1454.42 M461.981 1450.72 Q467.791 1450.72 470.847 1455.33 Q473.925 1459.91 473.925 1468.66 Q473.925 1477.39 470.847 1481.99 Q467.791 1486.58 461.981 1486.58 Q456.171 1486.58 453.092 1481.99 Q450.037 1477.39 450.037 1468.66 Q450.037 1459.91 453.092 1455.33 Q456.171 1450.72 461.981 1450.72 Z\" fill=\"#000000\" fill-rule=\"evenodd\" fill-opacity=\"1\" /><path clip-path=\"url(#clip420)\" d=\"M 0 0 M478.496 1455.3 L491.755 1455.3 L491.755 1458.49 L473.925 1458.49 L473.925 1455.3 Q476.088 1453.06 479.812 1449.3 Q483.555 1445.52 484.514 1444.43 Q486.339 1442.38 487.053 1440.96 Q487.787 1439.54 487.787 1438.16 Q487.787 1435.92 486.207 1434.51 Q484.646 1433.1 482.126 1433.1 Q480.339 1433.1 478.345 1433.72 Q476.37 1434.34 474.114 1435.6 L474.114 1431.77 Q476.408 1430.85 478.402 1430.38 Q480.395 1429.91 482.05 1429.91 Q486.414 1429.91 489.009 1432.09 Q491.605 1434.27 491.605 1437.92 Q491.605 1439.65 490.946 1441.21 Q490.307 1442.75 488.596 1444.86 Q488.125 1445.4 485.605 1448.02 Q483.085 1450.61 478.496 1455.3 Z\" fill=\"#000000\" fill-rule=\"evenodd\" fill-opacity=\"1\" /><path clip-path=\"url(#clip420)\" d=\"M 0 0 M495.874 1453.72 L499.843 1453.72 L499.843 1458.49 L495.874 1458.49 L495.874 1453.72 Z\" fill=\"#000000\" fill-rule=\"evenodd\" fill-opacity=\"1\" /><path clip-path=\"url(#clip420)\" d=\"M 0 0 M512.086 1432.91 Q509.152 1432.91 507.667 1435.81 Q506.2 1438.69 506.2 1444.48 Q506.2 1450.26 507.667 1453.15 Q509.152 1456.03 512.086 1456.03 Q515.039 1456.03 516.506 1453.15 Q517.992 1450.26 517.992 1444.48 Q517.992 1438.69 516.506 1435.81 Q515.039 1432.91 512.086 1432.91 M512.086 1429.91 Q516.807 1429.91 519.29 1433.65 Q521.791 1437.37 521.791 1444.48 Q521.791 1451.57 519.29 1455.31 Q516.807 1459.04 512.086 1459.04 Q507.366 1459.04 504.864 1455.31 Q502.382 1451.57 502.382 1444.48 Q502.382 1437.37 504.864 1433.65 Q507.366 1429.91 512.086 1429.91 Z\" fill=\"#000000\" fill-rule=\"evenodd\" fill-opacity=\"1\" /><path clip-path=\"url(#clip420)\" d=\"M 0 0 M721.19 1481.97 L728.829 1481.97 L728.829 1455.6 L720.519 1457.27 L720.519 1453.01 L728.783 1451.34 L733.458 1451.34 L733.458 1481.97 L741.097 1481.97 L741.097 1485.9 L721.19 1485.9 L721.19 1481.97 Z\" fill=\"#000000\" fill-rule=\"evenodd\" fill-opacity=\"1\" /><path clip-path=\"url(#clip420)\" d=\"M 0 0 M756.167 1454.42 Q752.556 1454.42 750.727 1457.99 Q748.921 1461.53 748.921 1468.66 Q748.921 1475.77 750.727 1479.33 Q752.556 1482.87 756.167 1482.87 Q759.801 1482.87 761.606 1479.33 Q763.435 1475.77 763.435 1468.66 Q763.435 1461.53 761.606 1457.99 Q759.801 1454.42 756.167 1454.42 M756.167 1450.72 Q761.977 1450.72 765.032 1455.33 Q768.111 1459.91 768.111 1468.66 Q768.111 1477.39 765.032 1481.99 Q761.977 1486.58 756.167 1486.58 Q750.356 1486.58 747.278 1481.99 Q744.222 1477.39 744.222 1468.66 Q744.222 1459.91 747.278 1455.33 Q750.356 1450.72 756.167 1450.72 Z\" fill=\"#000000\" fill-rule=\"evenodd\" fill-opacity=\"1\" /><path clip-path=\"url(#clip420)\" d=\"M 0 0 M772.681 1455.3 L785.941 1455.3 L785.941 1458.49 L768.111 1458.49 L768.111 1455.3 Q770.274 1453.06 773.998 1449.3 Q777.741 1445.52 778.7 1444.43 Q780.524 1442.38 781.239 1440.96 Q781.972 1439.54 781.972 1438.16 Q781.972 1435.92 780.392 1434.51 Q778.831 1433.1 776.311 1433.1 Q774.524 1433.1 772.531 1433.72 Q770.556 1434.34 768.299 1435.6 L768.299 1431.77 Q770.594 1430.85 772.587 1430.38 Q774.581 1429.91 776.236 1429.91 Q780.599 1429.91 783.195 1432.09 Q785.79 1434.27 785.79 1437.92 Q785.79 1439.65 785.132 1441.21 Q784.493 1442.75 782.781 1444.86 Q782.311 1445.4 779.791 1448.02 Q777.27 1450.61 772.681 1455.3 Z\" fill=\"#000000\" fill-rule=\"evenodd\" fill-opacity=\"1\" /><path clip-path=\"url(#clip420)\" d=\"M 0 0 M790.06 1453.72 L794.028 1453.72 L794.028 1458.49 L790.06 1458.49 L790.06 1453.72 Z\" fill=\"#000000\" fill-rule=\"evenodd\" fill-opacity=\"1\" /><path clip-path=\"url(#clip420)\" d=\"M 0 0 M798.185 1430.41 L813.099 1430.41 L813.099 1433.61 L801.664 1433.61 L801.664 1440.49 Q802.492 1440.21 803.319 1440.08 Q804.147 1439.93 804.974 1439.93 Q809.676 1439.93 812.422 1442.51 Q815.168 1445.08 815.168 1449.48 Q815.168 1454.02 812.347 1456.54 Q809.526 1459.04 804.391 1459.04 Q802.623 1459.04 800.78 1458.74 Q798.956 1458.44 797 1457.84 L797 1454.02 Q798.692 1454.94 800.498 1455.39 Q802.304 1455.84 804.316 1455.84 Q807.57 1455.84 809.469 1454.13 Q811.369 1452.42 811.369 1449.48 Q811.369 1446.55 809.469 1444.84 Q807.57 1443.13 804.316 1443.13 Q802.793 1443.13 801.269 1443.47 Q799.764 1443.8 798.185 1444.52 L798.185 1430.41 Z\" fill=\"#000000\" fill-rule=\"evenodd\" fill-opacity=\"1\" /><path clip-path=\"url(#clip420)\" d=\"M 0 0 M1014.24 1481.97 L1021.88 1481.97 L1021.88 1455.6 L1013.57 1457.27 L1013.57 1453.01 L1021.83 1451.34 L1026.51 1451.34 L1026.51 1481.97 L1034.14 1481.97 L1034.14 1485.9 L1014.24 1485.9 L1014.24 1481.97 Z\" fill=\"#000000\" fill-rule=\"evenodd\" fill-opacity=\"1\" /><path clip-path=\"url(#clip420)\" d=\"M 0 0 M1049.21 1454.42 Q1045.6 1454.42 1043.77 1457.99 Q1041.97 1461.53 1041.97 1468.66 Q1041.97 1475.77 1043.77 1479.33 Q1045.6 1482.87 1049.21 1482.87 Q1052.85 1482.87 1054.65 1479.33 Q1056.48 1475.77 1056.48 1468.66 Q1056.48 1461.53 1054.65 1457.99 Q1052.85 1454.42 1049.21 1454.42 M1049.21 1450.72 Q1055.02 1450.72 1058.08 1455.33 Q1061.16 1459.91 1061.16 1468.66 Q1061.16 1477.39 1058.08 1481.99 Q1055.02 1486.58 1049.21 1486.58 Q1043.4 1486.58 1040.33 1481.99 Q1037.27 1477.39 1037.27 1468.66 Q1037.27 1459.91 1040.33 1455.33 Q1043.4 1450.72 1049.21 1450.72 Z\" fill=\"#000000\" fill-rule=\"evenodd\" fill-opacity=\"1\" /><path clip-path=\"url(#clip420)\" d=\"M 0 0 M1073.85 1443.35 Q1076.58 1443.94 1078.1 1445.78 Q1079.65 1447.62 1079.65 1450.33 Q1079.65 1454.49 1076.79 1456.76 Q1073.93 1459.04 1068.66 1459.04 Q1066.9 1459.04 1065.01 1458.68 Q1063.15 1458.34 1061.16 1457.65 L1061.16 1453.98 Q1062.74 1454.9 1064.62 1455.37 Q1066.5 1455.84 1068.55 1455.84 Q1072.12 1455.84 1073.99 1454.43 Q1075.87 1453.02 1075.87 1450.33 Q1075.87 1447.85 1074.12 1446.46 Q1072.39 1445.05 1069.28 1445.05 L1066.01 1445.05 L1066.01 1441.92 L1069.43 1441.92 Q1072.24 1441.92 1073.72 1440.81 Q1075.21 1439.69 1075.21 1437.58 Q1075.21 1435.42 1073.67 1434.27 Q1072.14 1433.1 1069.28 1433.1 Q1067.72 1433.1 1065.94 1433.44 Q1064.15 1433.78 1062.01 1434.49 L1062.01 1431.11 Q1064.17 1430.51 1066.05 1430.21 Q1067.95 1429.91 1069.62 1429.91 Q1073.95 1429.91 1076.47 1431.88 Q1078.99 1433.84 1078.99 1437.18 Q1078.99 1439.52 1077.65 1441.13 Q1076.32 1442.73 1073.85 1443.35 Z\" fill=\"#000000\" fill-rule=\"evenodd\" fill-opacity=\"1\" /><path clip-path=\"url(#clip420)\" d=\"M 0 0 M1083.77 1453.72 L1087.73 1453.72 L1087.73 1458.49 L1083.77 1458.49 L1083.77 1453.72 Z\" fill=\"#000000\" fill-rule=\"evenodd\" fill-opacity=\"1\" /><path clip-path=\"url(#clip420)\" d=\"M 0 0 M1099.98 1432.91 Q1097.04 1432.91 1095.56 1435.81 Q1094.09 1438.69 1094.09 1444.48 Q1094.09 1450.26 1095.56 1453.15 Q1097.04 1456.03 1099.98 1456.03 Q1102.93 1456.03 1104.4 1453.15 Q1105.88 1450.26 1105.88 1444.48 Q1105.88 1438.69 1104.4 1435.81 Q1102.93 1432.91 1099.98 1432.91 M1099.98 1429.91 Q1104.7 1429.91 1107.18 1433.65 Q1109.68 1437.37 1109.68 1444.48 Q1109.68 1451.57 1107.18 1455.31 Q1104.7 1459.04 1099.98 1459.04 Q1095.26 1459.04 1092.76 1455.31 Q1090.27 1451.57 1090.27 1444.48 Q1090.27 1437.37 1092.76 1433.65 Q1095.26 1429.91 1099.98 1429.91 Z\" fill=\"#000000\" fill-rule=\"evenodd\" fill-opacity=\"1\" /><path clip-path=\"url(#clip420)\" d=\"M 0 0 M1308.42 1481.97 L1316.06 1481.97 L1316.06 1455.6 L1307.75 1457.27 L1307.75 1453.01 L1316.02 1451.34 L1320.69 1451.34 L1320.69 1481.97 L1328.33 1481.97 L1328.33 1485.9 L1308.42 1485.9 L1308.42 1481.97 Z\" fill=\"#000000\" fill-rule=\"evenodd\" fill-opacity=\"1\" /><path clip-path=\"url(#clip420)\" d=\"M 0 0 M1343.4 1454.42 Q1339.79 1454.42 1337.96 1457.99 Q1336.15 1461.53 1336.15 1468.66 Q1336.15 1475.77 1337.96 1479.33 Q1339.79 1482.87 1343.4 1482.87 Q1347.03 1482.87 1348.84 1479.33 Q1350.67 1475.77 1350.67 1468.66 Q1350.67 1461.53 1348.84 1457.99 Q1347.03 1454.42 1343.4 1454.42 M1343.4 1450.72 Q1349.21 1450.72 1352.27 1455.33 Q1355.34 1459.91 1355.34 1468.66 Q1355.34 1477.39 1352.27 1481.99 Q1349.21 1486.58 1343.4 1486.58 Q1337.59 1486.58 1334.51 1481.99 Q1331.46 1477.39 1331.46 1468.66 Q1331.46 1459.91 1334.51 1455.33 Q1337.59 1450.72 1343.4 1450.72 Z\" fill=\"#000000\" fill-rule=\"evenodd\" fill-opacity=\"1\" /><path clip-path=\"url(#clip420)\" d=\"M 0 0 M1368.04 1443.35 Q1370.77 1443.94 1372.29 1445.78 Q1373.83 1447.62 1373.83 1450.33 Q1373.83 1454.49 1370.97 1456.76 Q1368.11 1459.04 1362.85 1459.04 Q1361.08 1459.04 1359.2 1458.68 Q1357.34 1458.34 1355.34 1457.65 L1355.34 1453.98 Q1356.92 1454.9 1358.8 1455.37 Q1360.69 1455.84 1362.74 1455.84 Q1366.31 1455.84 1368.17 1454.43 Q1370.05 1453.02 1370.05 1450.33 Q1370.05 1447.85 1368.3 1446.46 Q1366.57 1445.05 1363.47 1445.05 L1360.2 1445.05 L1360.2 1441.92 L1363.62 1441.92 Q1366.42 1441.92 1367.91 1440.81 Q1369.39 1439.69 1369.39 1437.58 Q1369.39 1435.42 1367.85 1434.27 Q1366.33 1433.1 1363.47 1433.1 Q1361.91 1433.1 1360.12 1433.44 Q1358.33 1433.78 1356.19 1434.49 L1356.19 1431.11 Q1358.35 1430.51 1360.23 1430.21 Q1362.13 1429.91 1363.81 1429.91 Q1368.13 1429.91 1370.65 1431.88 Q1373.17 1433.84 1373.17 1437.18 Q1373.17 1439.52 1371.84 1441.13 Q1370.5 1442.73 1368.04 1443.35 Z\" fill=\"#000000\" fill-rule=\"evenodd\" fill-opacity=\"1\" /><path clip-path=\"url(#clip420)\" d=\"M 0 0 M1377.95 1453.72 L1381.92 1453.72 L1381.92 1458.49 L1377.95 1458.49 L1377.95 1453.72 Z\" fill=\"#000000\" fill-rule=\"evenodd\" fill-opacity=\"1\" /><path clip-path=\"url(#clip420)\" d=\"M 0 0 M1386.08 1430.41 L1400.99 1430.41 L1400.99 1433.61 L1389.56 1433.61 L1389.56 1440.49 Q1390.38 1440.21 1391.21 1440.08 Q1392.04 1439.93 1392.87 1439.93 Q1397.57 1439.93 1400.31 1442.51 Q1403.06 1445.08 1403.06 1449.48 Q1403.06 1454.02 1400.24 1456.54 Q1397.42 1459.04 1392.28 1459.04 Q1390.51 1459.04 1388.67 1458.74 Q1386.85 1458.44 1384.89 1457.84 L1384.89 1454.02 Q1386.58 1454.94 1388.39 1455.39 Q1390.19 1455.84 1392.21 1455.84 Q1395.46 1455.84 1397.36 1454.13 Q1399.26 1452.42 1399.26 1449.48 Q1399.26 1446.55 1397.36 1444.84 Q1395.46 1443.13 1392.21 1443.13 Q1390.68 1443.13 1389.16 1443.47 Q1387.66 1443.8 1386.08 1444.52 L1386.08 1430.41 Z\" fill=\"#000000\" fill-rule=\"evenodd\" fill-opacity=\"1\" /><path clip-path=\"url(#clip420)\" d=\"M 0 0 M1600.81 1481.97 L1608.45 1481.97 L1608.45 1455.6 L1600.14 1457.27 L1600.14 1453.01 L1608.41 1451.34 L1613.08 1451.34 L1613.08 1481.97 L1620.72 1481.97 L1620.72 1485.9 L1600.81 1485.9 L1600.81 1481.97 Z\" fill=\"#000000\" fill-rule=\"evenodd\" fill-opacity=\"1\" /><path clip-path=\"url(#clip420)\" d=\"M 0 0 M1635.79 1454.42 Q1632.18 1454.42 1630.35 1457.99 Q1628.54 1461.53 1628.54 1468.66 Q1628.54 1475.77 1630.35 1479.33 Q1632.18 1482.87 1635.79 1482.87 Q1639.42 1482.87 1641.23 1479.33 Q1643.06 1475.77 1643.06 1468.66 Q1643.06 1461.53 1641.23 1457.99 Q1639.42 1454.42 1635.79 1454.42 M1635.79 1450.72 Q1641.6 1450.72 1644.65 1455.33 Q1647.73 1459.91 1647.73 1468.66 Q1647.73 1477.39 1644.65 1481.99 Q1641.6 1486.58 1635.79 1486.58 Q1629.98 1486.58 1626.9 1481.99 Q1623.84 1477.39 1623.84 1468.66 Q1623.84 1459.91 1626.9 1455.33 Q1629.98 1450.72 1635.79 1450.72 Z\" fill=\"#000000\" fill-rule=\"evenodd\" fill-opacity=\"1\" /><path clip-path=\"url(#clip420)\" d=\"M 0 0 M1660.41 1433.72 L1650.82 1448.71 L1660.41 1448.71 L1660.41 1433.72 M1659.41 1430.41 L1664.19 1430.41 L1664.19 1448.71 L1668.2 1448.71 L1668.2 1451.87 L1664.19 1451.87 L1664.19 1458.49 L1660.41 1458.49 L1660.41 1451.87 L1647.73 1451.87 L1647.73 1448.21 L1659.41 1430.41 Z\" fill=\"#000000\" fill-rule=\"evenodd\" fill-opacity=\"1\" /><path clip-path=\"url(#clip420)\" d=\"M 0 0 M1672.32 1453.72 L1676.28 1453.72 L1676.28 1458.49 L1672.32 1458.49 L1672.32 1453.72 Z\" fill=\"#000000\" fill-rule=\"evenodd\" fill-opacity=\"1\" /><path clip-path=\"url(#clip420)\" d=\"M 0 0 M1688.53 1432.91 Q1685.59 1432.91 1684.11 1435.81 Q1682.64 1438.69 1682.64 1444.48 Q1682.64 1450.26 1684.11 1453.15 Q1685.59 1456.03 1688.53 1456.03 Q1691.48 1456.03 1692.95 1453.15 Q1694.43 1450.26 1694.43 1444.48 Q1694.43 1438.69 1692.95 1435.81 Q1691.48 1432.91 1688.53 1432.91 M1688.53 1429.91 Q1693.25 1429.91 1695.73 1433.65 Q1698.23 1437.37 1698.23 1444.48 Q1698.23 1451.57 1695.73 1455.31 Q1693.25 1459.04 1688.53 1459.04 Q1683.81 1459.04 1681.31 1455.31 Q1678.82 1451.57 1678.82 1444.48 Q1678.82 1437.37 1681.31 1433.65 Q1683.81 1429.91 1688.53 1429.91 Z\" fill=\"#000000\" fill-rule=\"evenodd\" fill-opacity=\"1\" /><path clip-path=\"url(#clip420)\" d=\"M 0 0 M1895 1481.97 L1902.64 1481.97 L1902.64 1455.6 L1894.33 1457.27 L1894.33 1453.01 L1902.59 1451.34 L1907.27 1451.34 L1907.27 1481.97 L1914.91 1481.97 L1914.91 1485.9 L1895 1485.9 L1895 1481.97 Z\" fill=\"#000000\" fill-rule=\"evenodd\" fill-opacity=\"1\" /><path clip-path=\"url(#clip420)\" d=\"M 0 0 M1929.97 1454.42 Q1926.36 1454.42 1924.53 1457.99 Q1922.73 1461.53 1922.73 1468.66 Q1922.73 1475.77 1924.53 1479.33 Q1926.36 1482.87 1929.97 1482.87 Q1933.61 1482.87 1935.41 1479.33 Q1937.24 1475.77 1937.24 1468.66 Q1937.24 1461.53 1935.41 1457.99 Q1933.61 1454.42 1929.97 1454.42 M1929.97 1450.72 Q1935.78 1450.72 1938.84 1455.33 Q1941.92 1459.91 1941.92 1468.66 Q1941.92 1477.39 1938.84 1481.99 Q1935.78 1486.58 1929.97 1486.58 Q1924.16 1486.58 1921.09 1481.99 Q1918.03 1477.39 1918.03 1468.66 Q1918.03 1459.91 1921.09 1455.33 Q1924.16 1450.72 1929.97 1450.72 Z\" fill=\"#000000\" fill-rule=\"evenodd\" fill-opacity=\"1\" /><path clip-path=\"url(#clip420)\" d=\"M 0 0 M1954.6 1433.72 L1945 1448.71 L1954.6 1448.71 L1954.6 1433.72 M1953.6 1430.41 L1958.38 1430.41 L1958.38 1448.71 L1962.38 1448.71 L1962.38 1451.87 L1958.38 1451.87 L1958.38 1458.49 L1954.6 1458.49 L1954.6 1451.87 L1941.92 1451.87 L1941.92 1448.21 L1953.6 1430.41 Z\" fill=\"#000000\" fill-rule=\"evenodd\" fill-opacity=\"1\" /><path clip-path=\"url(#clip420)\" d=\"M 0 0 M1966.5 1453.72 L1970.47 1453.72 L1970.47 1458.49 L1966.5 1458.49 L1966.5 1453.72 Z\" fill=\"#000000\" fill-rule=\"evenodd\" fill-opacity=\"1\" /><path clip-path=\"url(#clip420)\" d=\"M 0 0 M1974.63 1430.41 L1989.54 1430.41 L1989.54 1433.61 L1978.11 1433.61 L1978.11 1440.49 Q1978.93 1440.21 1979.76 1440.08 Q1980.59 1439.93 1981.42 1439.93 Q1986.12 1439.93 1988.86 1442.51 Q1991.61 1445.08 1991.61 1449.48 Q1991.61 1454.02 1988.79 1456.54 Q1985.97 1459.04 1980.83 1459.04 Q1979.06 1459.04 1977.22 1458.74 Q1975.4 1458.44 1973.44 1457.84 L1973.44 1454.02 Q1975.13 1454.94 1976.94 1455.39 Q1978.74 1455.84 1980.76 1455.84 Q1984.01 1455.84 1985.91 1454.13 Q1987.81 1452.42 1987.81 1449.48 Q1987.81 1446.55 1985.91 1444.84 Q1984.01 1443.13 1980.76 1443.13 Q1979.23 1443.13 1977.71 1443.47 Q1976.21 1443.8 1974.63 1444.52 L1974.63 1430.41 Z\" fill=\"#000000\" fill-rule=\"evenodd\" fill-opacity=\"1\" /><path clip-path=\"url(#clip420)\" d=\"M 0 0 M126.931 1392.1 L134.57 1392.1 L134.57 1365.73 L126.26 1367.4 L126.26 1363.14 L134.524 1361.47 L139.2 1361.47 L139.2 1392.1 L146.839 1392.1 L146.839 1396.03 L126.931 1396.03 L126.931 1392.1 Z\" fill=\"#000000\" fill-rule=\"evenodd\" fill-opacity=\"1\" /><path clip-path=\"url(#clip420)\" d=\"M 0 0 M161.908 1364.55 Q158.297 1364.55 156.468 1368.11 Q154.663 1371.66 154.663 1378.79 Q154.663 1385.89 156.468 1389.46 Q158.297 1393 161.908 1393 Q165.542 1393 167.348 1389.46 Q169.177 1385.89 169.177 1378.79 Q169.177 1371.66 167.348 1368.11 Q165.542 1364.55 161.908 1364.55 M161.908 1360.85 Q167.718 1360.85 170.774 1365.45 Q173.852 1370.04 173.852 1378.79 Q173.852 1387.51 170.774 1392.12 Q167.718 1396.7 161.908 1396.7 Q156.098 1396.7 153.019 1392.12 Q149.964 1387.51 149.964 1378.79 Q149.964 1370.04 153.019 1365.45 Q156.098 1360.85 161.908 1360.85 Z\" fill=\"#000000\" fill-rule=\"evenodd\" fill-opacity=\"1\" /><path clip-path=\"url(#clip420)\" d=\"M 0 0 M173.852 1354.95 L197.964 1354.95 L197.964 1358.14 L173.852 1358.14 L173.852 1354.95 Z\" fill=\"#000000\" fill-rule=\"evenodd\" fill-opacity=\"1\" /><path clip-path=\"url(#clip420)\" d=\"M 0 0 M212.521 1343.85 L202.929 1358.84 L212.521 1358.84 L212.521 1343.85 M211.524 1340.54 L216.302 1340.54 L216.302 1358.84 L220.308 1358.84 L220.308 1362 L216.302 1362 L216.302 1368.62 L212.521 1368.62 L212.521 1362 L199.845 1362 L199.845 1358.33 L211.524 1340.54 Z\" fill=\"#000000\" fill-rule=\"evenodd\" fill-opacity=\"1\" /><path clip-path=\"url(#clip420)\" d=\"M 0 0 M127.853 1070.48 L135.492 1070.48 L135.492 1044.11 L127.182 1045.78 L127.182 1041.52 L135.446 1039.85 L140.121 1039.85 L140.121 1070.48 L147.76 1070.48 L147.76 1074.41 L127.853 1074.41 L127.853 1070.48 Z\" fill=\"#000000\" fill-rule=\"evenodd\" fill-opacity=\"1\" /><path clip-path=\"url(#clip420)\" d=\"M 0 0 M162.83 1042.93 Q159.219 1042.93 157.39 1046.5 Q155.584 1050.04 155.584 1057.17 Q155.584 1064.28 157.39 1067.84 Q159.219 1071.38 162.83 1071.38 Q166.464 1071.38 168.269 1067.84 Q170.098 1064.28 170.098 1057.17 Q170.098 1050.04 168.269 1046.5 Q166.464 1042.93 162.83 1042.93 M162.83 1039.23 Q168.64 1039.23 171.695 1043.84 Q174.774 1048.42 174.774 1057.17 Q174.774 1065.9 171.695 1070.5 Q168.64 1075.09 162.83 1075.09 Q157.02 1075.09 153.941 1070.5 Q150.885 1065.9 150.885 1057.17 Q150.885 1048.42 153.941 1043.84 Q157.02 1039.23 162.83 1039.23 Z\" fill=\"#000000\" fill-rule=\"evenodd\" fill-opacity=\"1\" /><path clip-path=\"url(#clip420)\" d=\"M 0 0 M174.774 1033.33 L198.886 1033.33 L198.886 1036.53 L174.774 1036.53 L174.774 1033.33 Z\" fill=\"#000000\" fill-rule=\"evenodd\" fill-opacity=\"1\" /><path clip-path=\"url(#clip420)\" d=\"M 0 0 M214.515 1031.86 Q217.242 1032.45 218.765 1034.29 Q220.308 1036.13 220.308 1038.84 Q220.308 1043 217.449 1045.27 Q214.59 1047.55 209.324 1047.55 Q207.556 1047.55 205.675 1047.19 Q203.813 1046.85 201.82 1046.16 L201.82 1042.49 Q203.4 1043.41 205.28 1043.88 Q207.161 1044.35 209.211 1044.35 Q212.785 1044.35 214.647 1042.94 Q216.527 1041.53 216.527 1038.84 Q216.527 1036.36 214.778 1034.97 Q213.048 1033.56 209.945 1033.56 L206.672 1033.56 L206.672 1030.43 L210.095 1030.43 Q212.897 1030.43 214.383 1029.32 Q215.869 1028.2 215.869 1026.09 Q215.869 1023.93 214.327 1022.78 Q212.803 1021.61 209.945 1021.61 Q208.384 1021.61 206.597 1021.95 Q204.81 1022.29 202.666 1023.01 L202.666 1019.62 Q204.829 1019.02 206.71 1018.72 Q208.609 1018.42 210.283 1018.42 Q214.609 1018.42 217.129 1020.39 Q219.649 1022.35 219.649 1025.69 Q219.649 1028.03 218.314 1029.64 Q216.979 1031.24 214.515 1031.86 Z\" fill=\"#000000\" fill-rule=\"evenodd\" fill-opacity=\"1\" /><path clip-path=\"url(#clip420)\" d=\"M 0 0 M128.624 748.863 L136.263 748.863 L136.263 722.497 L127.953 724.164 L127.953 719.905 L136.217 718.238 L140.893 718.238 L140.893 748.863 L148.531 748.863 L148.531 752.798 L128.624 752.798 L128.624 748.863 Z\" fill=\"#000000\" fill-rule=\"evenodd\" fill-opacity=\"1\" /><path clip-path=\"url(#clip420)\" d=\"M 0 0 M163.601 721.317 Q159.99 721.317 158.161 724.881 Q156.355 728.423 156.355 735.553 Q156.355 742.659 158.161 746.224 Q159.99 749.766 163.601 749.766 Q167.235 749.766 169.041 746.224 Q170.869 742.659 170.869 735.553 Q170.869 728.423 169.041 724.881 Q167.235 721.317 163.601 721.317 M163.601 717.613 Q169.411 717.613 172.467 722.219 Q175.545 726.803 175.545 735.553 Q175.545 744.279 172.467 748.886 Q169.411 753.469 163.601 753.469 Q157.791 753.469 154.712 748.886 Q151.656 744.279 151.656 735.553 Q151.656 726.803 154.712 722.219 Q157.791 717.613 163.601 717.613 Z\" fill=\"#000000\" fill-rule=\"evenodd\" fill-opacity=\"1\" /><path clip-path=\"url(#clip420)\" d=\"M 0 0 M175.545 711.714 L199.657 711.714 L199.657 714.912 L175.545 714.912 L175.545 711.714 Z\" fill=\"#000000\" fill-rule=\"evenodd\" fill-opacity=\"1\" /><path clip-path=\"url(#clip420)\" d=\"M 0 0 M207.048 722.19 L220.308 722.19 L220.308 725.388 L202.478 725.388 L202.478 722.19 Q204.641 719.952 208.365 716.191 Q212.107 712.41 213.067 711.319 Q214.891 709.269 215.606 707.859 Q216.339 706.429 216.339 705.056 Q216.339 702.818 214.759 701.408 Q213.198 699.997 210.678 699.997 Q208.891 699.997 206.898 700.618 Q204.923 701.238 202.666 702.499 L202.666 698.662 Q204.961 697.74 206.954 697.27 Q208.948 696.8 210.603 696.8 Q214.966 696.8 217.562 698.981 Q220.157 701.163 220.157 704.812 Q220.157 706.542 219.499 708.103 Q218.859 709.645 217.148 711.752 Q216.678 712.297 214.158 714.912 Q211.637 717.507 207.048 722.19 Z\" fill=\"#000000\" fill-rule=\"evenodd\" fill-opacity=\"1\" /><path clip-path=\"url(#clip420)\" d=\"M 0 0 M128.323 427.247 L135.962 427.247 L135.962 400.881 L127.652 402.548 L127.652 398.288 L135.916 396.622 L140.592 396.622 L140.592 427.247 L148.231 427.247 L148.231 431.182 L128.323 431.182 L128.323 427.247 Z\" fill=\"#000000\" fill-rule=\"evenodd\" fill-opacity=\"1\" /><path clip-path=\"url(#clip420)\" d=\"M 0 0 M163.3 399.7 Q159.689 399.7 157.86 403.265 Q156.055 406.807 156.055 413.937 Q156.055 421.043 157.86 424.608 Q159.689 428.149 163.3 428.149 Q166.934 428.149 168.74 424.608 Q170.568 421.043 170.568 413.937 Q170.568 406.807 168.74 403.265 Q166.934 399.7 163.3 399.7 M163.3 395.997 Q169.11 395.997 172.166 400.603 Q175.244 405.187 175.244 413.937 Q175.244 422.663 172.166 427.27 Q169.11 431.853 163.3 431.853 Q157.49 431.853 154.411 427.27 Q151.356 422.663 151.356 413.937 Q151.356 405.187 154.411 400.603 Q157.49 395.997 163.3 395.997 Z\" fill=\"#000000\" fill-rule=\"evenodd\" fill-opacity=\"1\" /><path clip-path=\"url(#clip420)\" d=\"M 0 0 M175.244 390.098 L199.356 390.098 L199.356 393.295 L175.244 393.295 L175.244 390.098 Z\" fill=\"#000000\" fill-rule=\"evenodd\" fill-opacity=\"1\" /><path clip-path=\"url(#clip420)\" d=\"M 0 0 M204.133 400.574 L210.34 400.574 L210.34 379.152 L203.588 380.506 L203.588 377.046 L210.302 375.691 L214.101 375.691 L214.101 400.574 L220.308 400.574 L220.308 403.771 L204.133 403.771 L204.133 400.574 Z\" fill=\"#000000\" fill-rule=\"evenodd\" fill-opacity=\"1\" /><path clip-path=\"url(#clip420)\" d=\"M 0 0 M153.977 105.63 L161.616 105.63 L161.616 79.2649 L153.306 80.9315 L153.306 76.6723 L161.57 75.0056 L166.245 75.0056 L166.245 105.63 L173.884 105.63 L173.884 109.566 L153.977 109.566 L153.977 105.63 Z\" fill=\"#000000\" fill-rule=\"evenodd\" fill-opacity=\"1\" /><path clip-path=\"url(#clip420)\" d=\"M 0 0 M188.954 78.0843 Q185.343 78.0843 183.514 81.6491 Q181.708 85.1908 181.708 92.3204 Q181.708 99.4268 183.514 102.992 Q185.343 106.533 188.954 106.533 Q192.588 106.533 194.393 102.992 Q196.222 99.4268 196.222 92.3204 Q196.222 85.1908 194.393 81.6491 Q192.588 78.0843 188.954 78.0843 M188.954 74.3806 Q194.764 74.3806 197.819 78.9871 Q200.898 83.5704 200.898 92.3204 Q200.898 101.047 197.819 105.654 Q194.764 110.237 188.954 110.237 Q183.144 110.237 180.065 105.654 Q177.009 101.047 177.009 92.3204 Q177.009 83.5704 180.065 78.9871 Q183.144 74.3806 188.954 74.3806 Z\" fill=\"#000000\" fill-rule=\"evenodd\" fill-opacity=\"1\" /><path clip-path=\"url(#clip420)\" d=\"M 0 0 M210.603 56.5767 Q207.669 56.5767 206.183 59.4731 Q204.716 62.3507 204.716 68.1434 Q204.716 73.9174 206.183 76.8138 Q207.669 79.6914 210.603 79.6914 Q213.556 79.6914 215.023 76.8138 Q216.509 73.9174 216.509 68.1434 Q216.509 62.3507 215.023 59.4731 Q213.556 56.5767 210.603 56.5767 M210.603 53.5674 Q215.324 53.5674 217.806 57.3102 Q220.308 61.0341 220.308 68.1434 Q220.308 75.234 217.806 78.9767 Q215.324 82.7007 210.603 82.7007 Q205.882 82.7007 203.381 78.9767 Q200.898 75.234 200.898 68.1434 Q200.898 61.0341 203.381 57.3102 Q205.882 53.5674 210.603 53.5674 Z\" fill=\"#000000\" fill-rule=\"evenodd\" fill-opacity=\"1\" /><path clip-path=\"url(#clip420)\" d=\"M 0 0 M1197.69 1518.33 L1197.69 1525.11 Q1194.45 1522.08 1190.75 1520.59 Q1187.09 1519.09 1182.96 1519.09 Q1174.81 1519.09 1170.48 1524.09 Q1166.15 1529.05 1166.15 1538.47 Q1166.15 1547.86 1170.48 1552.86 Q1174.81 1557.82 1182.96 1557.82 Q1187.09 1557.82 1190.75 1556.33 Q1194.45 1554.83 1197.69 1551.81 L1197.69 1558.53 Q1194.32 1560.82 1190.53 1561.96 Q1186.78 1563.11 1182.57 1563.11 Q1171.78 1563.11 1165.58 1556.52 Q1159.37 1549.9 1159.37 1538.47 Q1159.37 1527.01 1165.58 1520.43 Q1171.78 1513.81 1182.57 1513.81 Q1186.84 1513.81 1190.59 1514.95 Q1194.38 1516.07 1197.69 1518.33 Z\" fill=\"#000000\" fill-rule=\"evenodd\" fill-opacity=\"1\" /><path clip-path=\"url(#clip420)\" d=\"M 0 0 M69.7664 810.981 Q63.4007 810.981 59.8996 813.623 Q56.3984 816.233 56.3984 820.975 Q56.3984 825.686 59.8996 828.328 Q63.4007 830.938 69.7664 830.938 Q76.1003 830.938 79.6014 828.328 Q83.1026 825.686 83.1026 820.975 Q83.1026 816.233 79.6014 813.623 Q76.1003 810.981 69.7664 810.981 M83.58 805.125 Q92.683 805.125 97.1071 809.167 Q101.563 813.209 101.563 821.548 Q101.563 824.636 101.086 827.373 Q100.64 830.11 99.6852 832.688 L93.9879 832.688 Q95.3884 830.11 96.0568 827.596 Q96.7252 825.081 96.7252 822.471 Q96.7252 816.71 93.7015 813.846 Q90.7096 810.981 84.6303 810.981 L81.7339 810.981 Q84.885 812.795 86.4446 815.628 Q88.0042 818.461 88.0042 822.408 Q88.0042 828.964 83.0071 832.975 Q78.01 836.985 69.7664 836.985 Q61.491 836.985 56.4939 832.975 Q51.4968 828.964 51.4968 822.408 Q51.4968 818.461 53.0564 815.628 Q54.616 812.795 57.7671 810.981 L52.3562 810.981 L52.3562 805.125 L83.58 805.125 Z\" fill=\"#000000\" fill-rule=\"evenodd\" fill-opacity=\"1\" /><path clip-path=\"url(#clip420)\" d=\"M 0 0 M70.0847 782.781 Q70.0847 789.879 71.7079 792.616 Q73.3312 795.353 77.2461 795.353 Q80.3653 795.353 82.2114 793.316 Q84.0256 791.247 84.0256 787.714 Q84.0256 782.845 80.5881 779.916 Q77.1188 776.956 71.3897 776.956 L70.0847 776.956 L70.0847 782.781 M67.6657 771.1 L88.0042 771.1 L88.0042 776.956 L82.5933 776.956 Q85.8398 778.962 87.3994 781.953 Q88.9272 784.945 88.9272 789.274 Q88.9272 794.749 85.8716 797.995 Q82.7843 801.21 77.6281 801.21 Q71.6125 801.21 68.5569 797.199 Q65.5014 793.157 65.5014 785.168 L65.5014 776.956 L64.9285 776.956 Q60.8862 776.956 58.6901 779.63 Q56.4621 782.272 56.4621 787.078 Q56.4621 790.133 57.1941 793.03 Q57.9262 795.926 59.3903 798.6 L53.9795 798.6 Q52.7381 795.385 52.1334 792.361 Q51.4968 789.338 51.4968 786.473 Q51.4968 778.739 55.5072 774.919 Q59.5176 771.1 67.6657 771.1 Z\" fill=\"#000000\" fill-rule=\"evenodd\" fill-opacity=\"1\" /><path clip-path=\"url(#clip420)\" d=\"M 0 0 M59.1993 737.203 Q55.2526 735.006 53.3747 731.951 Q51.4968 728.895 51.4968 724.758 Q51.4968 719.188 55.4117 716.164 Q59.2948 713.14 66.4881 713.14 L88.0042 713.14 L88.0042 719.028 L66.679 719.028 Q61.5546 719.028 59.072 720.843 Q56.5894 722.657 56.5894 726.381 Q56.5894 730.932 59.6131 733.574 Q62.6368 736.216 67.8567 736.216 L88.0042 736.216 L88.0042 742.104 L66.679 742.104 Q61.5228 742.104 59.072 743.918 Q56.5894 745.733 56.5894 749.52 Q56.5894 754.008 59.6449 756.65 Q62.6686 759.292 67.8567 759.292 L88.0042 759.292 L88.0042 765.18 L52.3562 765.18 L52.3562 759.292 L57.8944 759.292 Q54.616 757.286 53.0564 754.485 Q51.4968 751.685 51.4968 747.833 Q51.4968 743.95 53.4702 741.245 Q55.4436 738.508 59.1993 737.203 Z\" fill=\"#000000\" fill-rule=\"evenodd\" fill-opacity=\"1\" /><path clip-path=\"url(#clip420)\" d=\"M 0 0 M59.1993 679.243 Q55.2526 677.047 53.3747 673.991 Q51.4968 670.936 51.4968 666.798 Q51.4968 661.228 55.4117 658.204 Q59.2948 655.18 66.4881 655.18 L88.0042 655.18 L88.0042 661.069 L66.679 661.069 Q61.5546 661.069 59.072 662.883 Q56.5894 664.697 56.5894 668.421 Q56.5894 672.973 59.6131 675.614 Q62.6368 678.256 67.8567 678.256 L88.0042 678.256 L88.0042 684.144 L66.679 684.144 Q61.5228 684.144 59.072 685.959 Q56.5894 687.773 56.5894 691.56 Q56.5894 696.048 59.6449 698.69 Q62.6686 701.332 67.8567 701.332 L88.0042 701.332 L88.0042 707.22 L52.3562 707.22 L52.3562 701.332 L57.8944 701.332 Q54.616 699.327 53.0564 696.526 Q51.4968 693.725 51.4968 689.874 Q51.4968 685.99 53.4702 683.285 Q55.4436 680.548 59.1993 679.243 Z\" fill=\"#000000\" fill-rule=\"evenodd\" fill-opacity=\"1\" /><path clip-path=\"url(#clip420)\" d=\"M 0 0 M70.0847 632.837 Q70.0847 639.935 71.7079 642.672 Q73.3312 645.409 77.2461 645.409 Q80.3653 645.409 82.2114 643.372 Q84.0256 641.303 84.0256 637.77 Q84.0256 632.9 80.5881 629.972 Q77.1188 627.012 71.3897 627.012 L70.0847 627.012 L70.0847 632.837 M67.6657 621.156 L88.0042 621.156 L88.0042 627.012 L82.5933 627.012 Q85.8398 629.017 87.3994 632.009 Q88.9272 635.001 88.9272 639.33 Q88.9272 644.804 85.8716 648.051 Q82.7843 651.266 77.6281 651.266 Q71.6125 651.266 68.5569 647.255 Q65.5014 643.213 65.5014 635.224 L65.5014 627.012 L64.9285 627.012 Q60.8862 627.012 58.6901 629.686 Q56.4621 632.328 56.4621 637.134 Q56.4621 640.189 57.1941 643.086 Q57.9262 645.982 59.3903 648.656 L53.9795 648.656 Q52.7381 645.441 52.1334 642.417 Q51.4968 639.393 51.4968 636.529 Q51.4968 628.795 55.5072 624.975 Q59.5176 621.156 67.6657 621.156 Z\" fill=\"#000000\" fill-rule=\"evenodd\" fill-opacity=\"1\" /><circle clip-path=\"url(#clip422)\" cx=\"2059.88\" cy=\"1086.42\" r=\"58\" fill=\"#f1eb6c\" fill-rule=\"evenodd\" fill-opacity=\"1\" stroke=\"#000000\" stroke-opacity=\"1\" stroke-width=\"3.2\"/>\n",
       "<circle clip-path=\"url(#clip422)\" cx=\"884.751\" cy=\"657.6\" r=\"61\" fill=\"#fafda1\" fill-rule=\"evenodd\" fill-opacity=\"1\" stroke=\"#000000\" stroke-opacity=\"1\" stroke-width=\"3.2\"/>\n",
       "<circle clip-path=\"url(#clip422)\" cx=\"884.751\" cy=\"1372.3\" r=\"51\" fill=\"#fbae13\" fill-rule=\"evenodd\" fill-opacity=\"1\" stroke=\"#000000\" stroke-opacity=\"1\" stroke-width=\"3.2\"/>\n",
       "<circle clip-path=\"url(#clip422)\" cx=\"2059.88\" cy=\"371.719\" r=\"10\" fill=\"#1c0c43\" fill-rule=\"evenodd\" fill-opacity=\"1\" stroke=\"#000000\" stroke-opacity=\"1\" stroke-width=\"3.2\"/>\n",
       "<circle clip-path=\"url(#clip422)\" cx=\"297.188\" cy=\"228.779\" r=\"4\" fill=\"#010007\" fill-rule=\"evenodd\" fill-opacity=\"1\" stroke=\"#000000\" stroke-opacity=\"1\" stroke-width=\"3.2\"/>\n",
       "<circle clip-path=\"url(#clip422)\" cx=\"1472.31\" cy=\"85.838\" r=\"3\" fill=\"#000003\" fill-rule=\"evenodd\" fill-opacity=\"1\" stroke=\"#000000\" stroke-opacity=\"1\" stroke-width=\"3.2\"/>\n",
       "<circle clip-path=\"url(#clip422)\" cx=\"493.042\" cy=\"371.719\" r=\"10\" fill=\"#1c0c43\" fill-rule=\"evenodd\" fill-opacity=\"1\" stroke=\"#000000\" stroke-opacity=\"1\" stroke-width=\"3.2\"/>\n",
       "<circle clip-path=\"url(#clip422)\" cx=\"688.897\" cy=\"371.719\" r=\"10\" fill=\"#1c0c43\" fill-rule=\"evenodd\" fill-opacity=\"1\" stroke=\"#000000\" stroke-opacity=\"1\" stroke-width=\"3.2\"/>\n",
       "<circle clip-path=\"url(#clip422)\" cx=\"884.751\" cy=\"514.66\" r=\"44\" fill=\"#f2751b\" fill-rule=\"evenodd\" fill-opacity=\"1\" stroke=\"#000000\" stroke-opacity=\"1\" stroke-width=\"3.2\"/>\n",
       "<circle clip-path=\"url(#clip422)\" cx=\"1472.31\" cy=\"1229.36\" r=\"60\" fill=\"#f5f891\" fill-rule=\"evenodd\" fill-opacity=\"1\" stroke=\"#000000\" stroke-opacity=\"1\" stroke-width=\"3.2\"/>\n",
       "<circle clip-path=\"url(#clip422)\" cx=\"1472.31\" cy=\"514.66\" r=\"44\" fill=\"#f2751b\" fill-rule=\"evenodd\" fill-opacity=\"1\" stroke=\"#000000\" stroke-opacity=\"1\" stroke-width=\"3.2\"/>\n",
       "<circle clip-path=\"url(#clip422)\" cx=\"493.042\" cy=\"1372.3\" r=\"48\" fill=\"#fa9706\" fill-rule=\"evenodd\" fill-opacity=\"1\" stroke=\"#000000\" stroke-opacity=\"1\" stroke-width=\"3.2\"/>\n",
       "<circle clip-path=\"url(#clip422)\" cx=\"1472.31\" cy=\"371.719\" r=\"10\" fill=\"#1c0c43\" fill-rule=\"evenodd\" fill-opacity=\"1\" stroke=\"#000000\" stroke-opacity=\"1\" stroke-width=\"3.2\"/>\n",
       "<circle clip-path=\"url(#clip422)\" cx=\"1864.02\" cy=\"371.719\" r=\"10\" fill=\"#1c0c43\" fill-rule=\"evenodd\" fill-opacity=\"1\" stroke=\"#000000\" stroke-opacity=\"1\" stroke-width=\"3.2\"/>\n",
       "<circle clip-path=\"url(#clip422)\" cx=\"297.188\" cy=\"1229.36\" r=\"49\" fill=\"#fb9b06\" fill-rule=\"evenodd\" fill-opacity=\"1\" stroke=\"#000000\" stroke-opacity=\"1\" stroke-width=\"3.2\"/>\n",
       "<circle clip-path=\"url(#clip422)\" cx=\"1668.17\" cy=\"1229.36\" r=\"60\" fill=\"#f5f891\" fill-rule=\"evenodd\" fill-opacity=\"1\" stroke=\"#000000\" stroke-opacity=\"1\" stroke-width=\"3.2\"/>\n",
       "<circle clip-path=\"url(#clip422)\" cx=\"1668.17\" cy=\"371.719\" r=\"10\" fill=\"#1c0c43\" fill-rule=\"evenodd\" fill-opacity=\"1\" stroke=\"#000000\" stroke-opacity=\"1\" stroke-width=\"3.2\"/>\n",
       "<circle clip-path=\"url(#clip422)\" cx=\"493.042\" cy=\"1086.42\" r=\"58\" fill=\"#f1ee73\" fill-rule=\"evenodd\" fill-opacity=\"1\" stroke=\"#000000\" stroke-opacity=\"1\" stroke-width=\"3.2\"/>\n",
       "<circle clip-path=\"url(#clip422)\" cx=\"2059.88\" cy=\"228.779\" r=\"4\" fill=\"#010007\" fill-rule=\"evenodd\" fill-opacity=\"1\" stroke=\"#000000\" stroke-opacity=\"1\" stroke-width=\"3.2\"/>\n",
       "<circle clip-path=\"url(#clip422)\" cx=\"1668.17\" cy=\"85.838\" r=\"3\" fill=\"#000003\" fill-rule=\"evenodd\" fill-opacity=\"1\" stroke=\"#000000\" stroke-opacity=\"1\" stroke-width=\"3.2\"/>\n",
       "<circle clip-path=\"url(#clip422)\" cx=\"2059.88\" cy=\"1229.36\" r=\"58\" fill=\"#f1ec6e\" fill-rule=\"evenodd\" fill-opacity=\"1\" stroke=\"#000000\" stroke-opacity=\"1\" stroke-width=\"3.2\"/>\n",
       "<circle clip-path=\"url(#clip422)\" cx=\"1080.6\" cy=\"85.838\" r=\"3\" fill=\"#000003\" fill-rule=\"evenodd\" fill-opacity=\"1\" stroke=\"#000000\" stroke-opacity=\"1\" stroke-width=\"3.2\"/>\n",
       "<circle clip-path=\"url(#clip422)\" cx=\"688.897\" cy=\"657.6\" r=\"61\" fill=\"#fafda1\" fill-rule=\"evenodd\" fill-opacity=\"1\" stroke=\"#000000\" stroke-opacity=\"1\" stroke-width=\"3.2\"/>\n",
       "<circle clip-path=\"url(#clip422)\" cx=\"1864.02\" cy=\"943.481\" r=\"58\" fill=\"#f1f078\" fill-rule=\"evenodd\" fill-opacity=\"1\" stroke=\"#000000\" stroke-opacity=\"1\" stroke-width=\"3.2\"/>\n",
       "<circle clip-path=\"url(#clip422)\" cx=\"884.751\" cy=\"371.719\" r=\"10\" fill=\"#1c0c43\" fill-rule=\"evenodd\" fill-opacity=\"1\" stroke=\"#000000\" stroke-opacity=\"1\" stroke-width=\"3.2\"/>\n",
       "<circle clip-path=\"url(#clip422)\" cx=\"688.897\" cy=\"228.779\" r=\"4\" fill=\"#010007\" fill-rule=\"evenodd\" fill-opacity=\"1\" stroke=\"#000000\" stroke-opacity=\"1\" stroke-width=\"3.2\"/>\n",
       "<circle clip-path=\"url(#clip422)\" cx=\"297.188\" cy=\"85.838\" r=\"3\" fill=\"#000003\" fill-rule=\"evenodd\" fill-opacity=\"1\" stroke=\"#000000\" stroke-opacity=\"1\" stroke-width=\"3.2\"/>\n",
       "<circle clip-path=\"url(#clip422)\" cx=\"1276.46\" cy=\"85.838\" r=\"3\" fill=\"#000003\" fill-rule=\"evenodd\" fill-opacity=\"1\" stroke=\"#000000\" stroke-opacity=\"1\" stroke-width=\"3.2\"/>\n",
       "<circle clip-path=\"url(#clip422)\" cx=\"1668.17\" cy=\"1086.42\" r=\"58\" fill=\"#f1eb6c\" fill-rule=\"evenodd\" fill-opacity=\"1\" stroke=\"#000000\" stroke-opacity=\"1\" stroke-width=\"3.2\"/>\n",
       "<circle clip-path=\"url(#clip422)\" cx=\"1080.6\" cy=\"1229.36\" r=\"58\" fill=\"#f1ec6e\" fill-rule=\"evenodd\" fill-opacity=\"1\" stroke=\"#000000\" stroke-opacity=\"1\" stroke-width=\"3.2\"/>\n",
       "<circle clip-path=\"url(#clip422)\" cx=\"1080.6\" cy=\"1086.42\" r=\"60\" fill=\"#f4f88f\" fill-rule=\"evenodd\" fill-opacity=\"1\" stroke=\"#000000\" stroke-opacity=\"1\" stroke-width=\"3.2\"/>\n",
       "<circle clip-path=\"url(#clip422)\" cx=\"1864.02\" cy=\"85.838\" r=\"3\" fill=\"#000003\" fill-rule=\"evenodd\" fill-opacity=\"1\" stroke=\"#000000\" stroke-opacity=\"1\" stroke-width=\"3.2\"/>\n",
       "<circle clip-path=\"url(#clip422)\" cx=\"1864.02\" cy=\"228.779\" r=\"4\" fill=\"#010007\" fill-rule=\"evenodd\" fill-opacity=\"1\" stroke=\"#000000\" stroke-opacity=\"1\" stroke-width=\"3.2\"/>\n",
       "<circle clip-path=\"url(#clip422)\" cx=\"1864.02\" cy=\"657.6\" r=\"61\" fill=\"#fafda1\" fill-rule=\"evenodd\" fill-opacity=\"1\" stroke=\"#000000\" stroke-opacity=\"1\" stroke-width=\"3.2\"/>\n",
       "<circle clip-path=\"url(#clip422)\" cx=\"2059.88\" cy=\"943.481\" r=\"58\" fill=\"#f1f078\" fill-rule=\"evenodd\" fill-opacity=\"1\" stroke=\"#000000\" stroke-opacity=\"1\" stroke-width=\"3.2\"/>\n",
       "<circle clip-path=\"url(#clip422)\" cx=\"884.751\" cy=\"1086.42\" r=\"60\" fill=\"#f8fb9b\" fill-rule=\"evenodd\" fill-opacity=\"1\" stroke=\"#000000\" stroke-opacity=\"1\" stroke-width=\"3.2\"/>\n",
       "<circle clip-path=\"url(#clip422)\" cx=\"1864.02\" cy=\"1229.36\" r=\"58\" fill=\"#f1ec6e\" fill-rule=\"evenodd\" fill-opacity=\"1\" stroke=\"#000000\" stroke-opacity=\"1\" stroke-width=\"3.2\"/>\n",
       "<circle clip-path=\"url(#clip422)\" cx=\"884.751\" cy=\"228.779\" r=\"4\" fill=\"#010007\" fill-rule=\"evenodd\" fill-opacity=\"1\" stroke=\"#000000\" stroke-opacity=\"1\" stroke-width=\"3.2\"/>\n",
       "<circle clip-path=\"url(#clip422)\" cx=\"297.188\" cy=\"800.541\" r=\"58\" fill=\"#f1ef76\" fill-rule=\"evenodd\" fill-opacity=\"1\" stroke=\"#000000\" stroke-opacity=\"1\" stroke-width=\"3.2\"/>\n",
       "<circle clip-path=\"url(#clip422)\" cx=\"1080.6\" cy=\"657.6\" r=\"61\" fill=\"#fafda1\" fill-rule=\"evenodd\" fill-opacity=\"1\" stroke=\"#000000\" stroke-opacity=\"1\" stroke-width=\"3.2\"/>\n",
       "<circle clip-path=\"url(#clip422)\" cx=\"688.897\" cy=\"1372.3\" r=\"50\" fill=\"#fba50b\" fill-rule=\"evenodd\" fill-opacity=\"1\" stroke=\"#000000\" stroke-opacity=\"1\" stroke-width=\"3.2\"/>\n",
       "<circle clip-path=\"url(#clip422)\" cx=\"1276.46\" cy=\"800.541\" r=\"58\" fill=\"#f1ef76\" fill-rule=\"evenodd\" fill-opacity=\"1\" stroke=\"#000000\" stroke-opacity=\"1\" stroke-width=\"3.2\"/>\n",
       "<circle clip-path=\"url(#clip422)\" cx=\"1668.17\" cy=\"228.779\" r=\"4\" fill=\"#010007\" fill-rule=\"evenodd\" fill-opacity=\"1\" stroke=\"#000000\" stroke-opacity=\"1\" stroke-width=\"3.2\"/>\n",
       "<circle clip-path=\"url(#clip422)\" cx=\"493.042\" cy=\"800.541\" r=\"58\" fill=\"#f1ef76\" fill-rule=\"evenodd\" fill-opacity=\"1\" stroke=\"#000000\" stroke-opacity=\"1\" stroke-width=\"3.2\"/>\n",
       "<circle clip-path=\"url(#clip422)\" cx=\"1668.17\" cy=\"1372.3\" r=\"59\" fill=\"#f2f586\" fill-rule=\"evenodd\" fill-opacity=\"1\" stroke=\"#000000\" stroke-opacity=\"1\" stroke-width=\"3.2\"/>\n",
       "<circle clip-path=\"url(#clip422)\" cx=\"1080.6\" cy=\"1372.3\" r=\"52\" fill=\"#fbb217\" fill-rule=\"evenodd\" fill-opacity=\"1\" stroke=\"#000000\" stroke-opacity=\"1\" stroke-width=\"3.2\"/>\n",
       "<circle clip-path=\"url(#clip422)\" cx=\"493.042\" cy=\"943.481\" r=\"59\" fill=\"#f2f485\" fill-rule=\"evenodd\" fill-opacity=\"1\" stroke=\"#000000\" stroke-opacity=\"1\" stroke-width=\"3.2\"/>\n",
       "<circle clip-path=\"url(#clip422)\" cx=\"1276.46\" cy=\"657.6\" r=\"61\" fill=\"#fafda1\" fill-rule=\"evenodd\" fill-opacity=\"1\" stroke=\"#000000\" stroke-opacity=\"1\" stroke-width=\"3.2\"/>\n",
       "<circle clip-path=\"url(#clip422)\" cx=\"1276.46\" cy=\"1229.36\" r=\"60\" fill=\"#f4f88f\" fill-rule=\"evenodd\" fill-opacity=\"1\" stroke=\"#000000\" stroke-opacity=\"1\" stroke-width=\"3.2\"/>\n",
       "<circle clip-path=\"url(#clip422)\" cx=\"297.188\" cy=\"1372.3\" r=\"46\" fill=\"#f7840f\" fill-rule=\"evenodd\" fill-opacity=\"1\" stroke=\"#000000\" stroke-opacity=\"1\" stroke-width=\"3.2\"/>\n",
       "<circle clip-path=\"url(#clip422)\" cx=\"493.042\" cy=\"85.838\" r=\"3\" fill=\"#000003\" fill-rule=\"evenodd\" fill-opacity=\"1\" stroke=\"#000000\" stroke-opacity=\"1\" stroke-width=\"3.2\"/>\n",
       "<circle clip-path=\"url(#clip422)\" cx=\"1668.17\" cy=\"514.66\" r=\"44\" fill=\"#f2751b\" fill-rule=\"evenodd\" fill-opacity=\"1\" stroke=\"#000000\" stroke-opacity=\"1\" stroke-width=\"3.2\"/>\n",
       "<circle clip-path=\"url(#clip422)\" cx=\"1276.46\" cy=\"1372.3\" r=\"55\" fill=\"#f6d23e\" fill-rule=\"evenodd\" fill-opacity=\"1\" stroke=\"#000000\" stroke-opacity=\"1\" stroke-width=\"3.2\"/>\n",
       "<circle clip-path=\"url(#clip422)\" cx=\"1472.31\" cy=\"228.779\" r=\"4\" fill=\"#010007\" fill-rule=\"evenodd\" fill-opacity=\"1\" stroke=\"#000000\" stroke-opacity=\"1\" stroke-width=\"3.2\"/>\n",
       "<circle clip-path=\"url(#clip422)\" cx=\"493.042\" cy=\"228.779\" r=\"4\" fill=\"#010007\" fill-rule=\"evenodd\" fill-opacity=\"1\" stroke=\"#000000\" stroke-opacity=\"1\" stroke-width=\"3.2\"/>\n",
       "<circle clip-path=\"url(#clip422)\" cx=\"884.751\" cy=\"1229.36\" r=\"56\" fill=\"#f4de51\" fill-rule=\"evenodd\" fill-opacity=\"1\" stroke=\"#000000\" stroke-opacity=\"1\" stroke-width=\"3.2\"/>\n",
       "<circle clip-path=\"url(#clip422)\" cx=\"493.042\" cy=\"514.66\" r=\"44\" fill=\"#f2751b\" fill-rule=\"evenodd\" fill-opacity=\"1\" stroke=\"#000000\" stroke-opacity=\"1\" stroke-width=\"3.2\"/>\n",
       "<circle clip-path=\"url(#clip422)\" cx=\"2059.88\" cy=\"85.838\" r=\"3\" fill=\"#000003\" fill-rule=\"evenodd\" fill-opacity=\"1\" stroke=\"#000000\" stroke-opacity=\"1\" stroke-width=\"3.2\"/>\n",
       "<circle clip-path=\"url(#clip422)\" cx=\"688.897\" cy=\"514.66\" r=\"44\" fill=\"#f2751b\" fill-rule=\"evenodd\" fill-opacity=\"1\" stroke=\"#000000\" stroke-opacity=\"1\" stroke-width=\"3.2\"/>\n",
       "<circle clip-path=\"url(#clip422)\" cx=\"884.751\" cy=\"85.838\" r=\"3\" fill=\"#000003\" fill-rule=\"evenodd\" fill-opacity=\"1\" stroke=\"#000000\" stroke-opacity=\"1\" stroke-width=\"3.2\"/>\n",
       "<circle clip-path=\"url(#clip422)\" cx=\"1864.02\" cy=\"1372.3\" r=\"61\" fill=\"#fcfea4\" fill-rule=\"evenodd\" fill-opacity=\"1\" stroke=\"#000000\" stroke-opacity=\"1\" stroke-width=\"3.2\"/>\n",
       "<circle clip-path=\"url(#clip422)\" cx=\"1668.17\" cy=\"800.541\" r=\"58\" fill=\"#f1ef76\" fill-rule=\"evenodd\" fill-opacity=\"1\" stroke=\"#000000\" stroke-opacity=\"1\" stroke-width=\"3.2\"/>\n",
       "<circle clip-path=\"url(#clip422)\" cx=\"297.188\" cy=\"1086.42\" r=\"55\" fill=\"#f7d03b\" fill-rule=\"evenodd\" fill-opacity=\"1\" stroke=\"#000000\" stroke-opacity=\"1\" stroke-width=\"3.2\"/>\n",
       "<circle clip-path=\"url(#clip422)\" cx=\"1276.46\" cy=\"1086.42\" r=\"59\" fill=\"#f1f27e\" fill-rule=\"evenodd\" fill-opacity=\"1\" stroke=\"#000000\" stroke-opacity=\"1\" stroke-width=\"3.2\"/>\n",
       "<circle clip-path=\"url(#clip422)\" cx=\"1276.46\" cy=\"943.481\" r=\"58\" fill=\"#f1f078\" fill-rule=\"evenodd\" fill-opacity=\"1\" stroke=\"#000000\" stroke-opacity=\"1\" stroke-width=\"3.2\"/>\n",
       "<circle clip-path=\"url(#clip422)\" cx=\"493.042\" cy=\"1229.36\" r=\"53\" fill=\"#fabd23\" fill-rule=\"evenodd\" fill-opacity=\"1\" stroke=\"#000000\" stroke-opacity=\"1\" stroke-width=\"3.2\"/>\n",
       "<circle clip-path=\"url(#clip422)\" cx=\"884.751\" cy=\"800.541\" r=\"58\" fill=\"#f1ef76\" fill-rule=\"evenodd\" fill-opacity=\"1\" stroke=\"#000000\" stroke-opacity=\"1\" stroke-width=\"3.2\"/>\n",
       "<circle clip-path=\"url(#clip422)\" cx=\"1080.6\" cy=\"371.719\" r=\"10\" fill=\"#1c0c43\" fill-rule=\"evenodd\" fill-opacity=\"1\" stroke=\"#000000\" stroke-opacity=\"1\" stroke-width=\"3.2\"/>\n",
       "<circle clip-path=\"url(#clip422)\" cx=\"1080.6\" cy=\"800.541\" r=\"58\" fill=\"#f1ef76\" fill-rule=\"evenodd\" fill-opacity=\"1\" stroke=\"#000000\" stroke-opacity=\"1\" stroke-width=\"3.2\"/>\n",
       "<circle clip-path=\"url(#clip422)\" cx=\"1472.31\" cy=\"1372.3\" r=\"57\" fill=\"#f2e660\" fill-rule=\"evenodd\" fill-opacity=\"1\" stroke=\"#000000\" stroke-opacity=\"1\" stroke-width=\"3.2\"/>\n",
       "<circle clip-path=\"url(#clip422)\" cx=\"884.751\" cy=\"943.481\" r=\"58\" fill=\"#f1f078\" fill-rule=\"evenodd\" fill-opacity=\"1\" stroke=\"#000000\" stroke-opacity=\"1\" stroke-width=\"3.2\"/>\n",
       "<circle clip-path=\"url(#clip422)\" cx=\"1864.02\" cy=\"514.66\" r=\"44\" fill=\"#f2751b\" fill-rule=\"evenodd\" fill-opacity=\"1\" stroke=\"#000000\" stroke-opacity=\"1\" stroke-width=\"3.2\"/>\n",
       "<circle clip-path=\"url(#clip422)\" cx=\"688.897\" cy=\"943.481\" r=\"59\" fill=\"#f3f68a\" fill-rule=\"evenodd\" fill-opacity=\"1\" stroke=\"#000000\" stroke-opacity=\"1\" stroke-width=\"3.2\"/>\n",
       "<circle clip-path=\"url(#clip422)\" cx=\"297.188\" cy=\"657.6\" r=\"61\" fill=\"#fafda1\" fill-rule=\"evenodd\" fill-opacity=\"1\" stroke=\"#000000\" stroke-opacity=\"1\" stroke-width=\"3.2\"/>\n",
       "<circle clip-path=\"url(#clip422)\" cx=\"688.897\" cy=\"85.838\" r=\"3\" fill=\"#000003\" fill-rule=\"evenodd\" fill-opacity=\"1\" stroke=\"#000000\" stroke-opacity=\"1\" stroke-width=\"3.2\"/>\n",
       "<circle clip-path=\"url(#clip422)\" cx=\"688.897\" cy=\"1229.36\" r=\"54\" fill=\"#f9c830\" fill-rule=\"evenodd\" fill-opacity=\"1\" stroke=\"#000000\" stroke-opacity=\"1\" stroke-width=\"3.2\"/>\n",
       "<circle clip-path=\"url(#clip422)\" cx=\"688.897\" cy=\"1086.42\" r=\"60\" fill=\"#f4f88f\" fill-rule=\"evenodd\" fill-opacity=\"1\" stroke=\"#000000\" stroke-opacity=\"1\" stroke-width=\"3.2\"/>\n",
       "<circle clip-path=\"url(#clip422)\" cx=\"297.188\" cy=\"371.719\" r=\"10\" fill=\"#1c0c43\" fill-rule=\"evenodd\" fill-opacity=\"1\" stroke=\"#000000\" stroke-opacity=\"1\" stroke-width=\"3.2\"/>\n",
       "<circle clip-path=\"url(#clip422)\" cx=\"297.188\" cy=\"943.481\" r=\"60\" fill=\"#f7fa97\" fill-rule=\"evenodd\" fill-opacity=\"1\" stroke=\"#000000\" stroke-opacity=\"1\" stroke-width=\"3.2\"/>\n",
       "<circle clip-path=\"url(#clip422)\" cx=\"1864.02\" cy=\"1086.42\" r=\"58\" fill=\"#f1eb6c\" fill-rule=\"evenodd\" fill-opacity=\"1\" stroke=\"#000000\" stroke-opacity=\"1\" stroke-width=\"3.2\"/>\n",
       "<circle clip-path=\"url(#clip422)\" cx=\"1472.31\" cy=\"943.481\" r=\"58\" fill=\"#f1f078\" fill-rule=\"evenodd\" fill-opacity=\"1\" stroke=\"#000000\" stroke-opacity=\"1\" stroke-width=\"3.2\"/>\n",
       "<circle clip-path=\"url(#clip422)\" cx=\"493.042\" cy=\"657.6\" r=\"61\" fill=\"#fafda1\" fill-rule=\"evenodd\" fill-opacity=\"1\" stroke=\"#000000\" stroke-opacity=\"1\" stroke-width=\"3.2\"/>\n",
       "<circle clip-path=\"url(#clip422)\" cx=\"1276.46\" cy=\"514.66\" r=\"44\" fill=\"#f2751b\" fill-rule=\"evenodd\" fill-opacity=\"1\" stroke=\"#000000\" stroke-opacity=\"1\" stroke-width=\"3.2\"/>\n",
       "<circle clip-path=\"url(#clip422)\" cx=\"2059.88\" cy=\"657.6\" r=\"61\" fill=\"#fafda1\" fill-rule=\"evenodd\" fill-opacity=\"1\" stroke=\"#000000\" stroke-opacity=\"1\" stroke-width=\"3.2\"/>\n",
       "<circle clip-path=\"url(#clip422)\" cx=\"688.897\" cy=\"800.541\" r=\"58\" fill=\"#f1ef76\" fill-rule=\"evenodd\" fill-opacity=\"1\" stroke=\"#000000\" stroke-opacity=\"1\" stroke-width=\"3.2\"/>\n",
       "<circle clip-path=\"url(#clip422)\" cx=\"2059.88\" cy=\"514.66\" r=\"44\" fill=\"#f2751b\" fill-rule=\"evenodd\" fill-opacity=\"1\" stroke=\"#000000\" stroke-opacity=\"1\" stroke-width=\"3.2\"/>\n",
       "<circle clip-path=\"url(#clip422)\" cx=\"1668.17\" cy=\"943.481\" r=\"58\" fill=\"#f1f078\" fill-rule=\"evenodd\" fill-opacity=\"1\" stroke=\"#000000\" stroke-opacity=\"1\" stroke-width=\"3.2\"/>\n",
       "<circle clip-path=\"url(#clip422)\" cx=\"1080.6\" cy=\"228.779\" r=\"4\" fill=\"#010007\" fill-rule=\"evenodd\" fill-opacity=\"1\" stroke=\"#000000\" stroke-opacity=\"1\" stroke-width=\"3.2\"/>\n",
       "<circle clip-path=\"url(#clip422)\" cx=\"1668.17\" cy=\"657.6\" r=\"61\" fill=\"#fafda1\" fill-rule=\"evenodd\" fill-opacity=\"1\" stroke=\"#000000\" stroke-opacity=\"1\" stroke-width=\"3.2\"/>\n",
       "<circle clip-path=\"url(#clip422)\" cx=\"1472.31\" cy=\"800.541\" r=\"58\" fill=\"#f1ef76\" fill-rule=\"evenodd\" fill-opacity=\"1\" stroke=\"#000000\" stroke-opacity=\"1\" stroke-width=\"3.2\"/>\n",
       "<circle clip-path=\"url(#clip422)\" cx=\"1080.6\" cy=\"943.481\" r=\"58\" fill=\"#f1f078\" fill-rule=\"evenodd\" fill-opacity=\"1\" stroke=\"#000000\" stroke-opacity=\"1\" stroke-width=\"3.2\"/>\n",
       "<circle clip-path=\"url(#clip422)\" cx=\"1276.46\" cy=\"228.779\" r=\"4\" fill=\"#010007\" fill-rule=\"evenodd\" fill-opacity=\"1\" stroke=\"#000000\" stroke-opacity=\"1\" stroke-width=\"3.2\"/>\n",
       "<circle clip-path=\"url(#clip422)\" cx=\"2059.88\" cy=\"800.541\" r=\"58\" fill=\"#f1ef76\" fill-rule=\"evenodd\" fill-opacity=\"1\" stroke=\"#000000\" stroke-opacity=\"1\" stroke-width=\"3.2\"/>\n",
       "<circle clip-path=\"url(#clip422)\" cx=\"297.188\" cy=\"514.66\" r=\"44\" fill=\"#f2751b\" fill-rule=\"evenodd\" fill-opacity=\"1\" stroke=\"#000000\" stroke-opacity=\"1\" stroke-width=\"3.2\"/>\n",
       "<circle clip-path=\"url(#clip422)\" cx=\"1472.31\" cy=\"657.6\" r=\"61\" fill=\"#fafda1\" fill-rule=\"evenodd\" fill-opacity=\"1\" stroke=\"#000000\" stroke-opacity=\"1\" stroke-width=\"3.2\"/>\n",
       "<circle clip-path=\"url(#clip422)\" cx=\"1864.02\" cy=\"800.541\" r=\"58\" fill=\"#f1ef76\" fill-rule=\"evenodd\" fill-opacity=\"1\" stroke=\"#000000\" stroke-opacity=\"1\" stroke-width=\"3.2\"/>\n",
       "<circle clip-path=\"url(#clip422)\" cx=\"1472.31\" cy=\"1086.42\" r=\"58\" fill=\"#f1eb6c\" fill-rule=\"evenodd\" fill-opacity=\"1\" stroke=\"#000000\" stroke-opacity=\"1\" stroke-width=\"3.2\"/>\n",
       "<circle clip-path=\"url(#clip422)\" cx=\"1276.46\" cy=\"371.719\" r=\"10\" fill=\"#1c0c43\" fill-rule=\"evenodd\" fill-opacity=\"1\" stroke=\"#000000\" stroke-opacity=\"1\" stroke-width=\"3.2\"/>\n",
       "<circle clip-path=\"url(#clip422)\" cx=\"1080.6\" cy=\"514.66\" r=\"44\" fill=\"#f2751b\" fill-rule=\"evenodd\" fill-opacity=\"1\" stroke=\"#000000\" stroke-opacity=\"1\" stroke-width=\"3.2\"/>\n",
       "<circle clip-path=\"url(#clip422)\" cx=\"2059.88\" cy=\"1372.3\" r=\"60\" fill=\"#f8fb9b\" fill-rule=\"evenodd\" fill-opacity=\"1\" stroke=\"#000000\" stroke-opacity=\"1\" stroke-width=\"3.2\"/>\n",
       "<defs>\n",
       "  <clipPath id=\"clip423\">\n",
       "    <rect x=\"2160\" y=\"47\" width=\"73\" height=\"1365\"/>\n",
       "  </clipPath>\n",
       "</defs>\n",
       "<g clip-path=\"url(#clip423)\">\n",
       "<image width=\"72\" height=\"1364\" xlink:href=\"data:image/png;base64,\n",
       "iVBORw0KGgoAAAANSUhEUgAAAEgAAAVUCAYAAABzwV4AAAAL0klEQVR4nO3dwY3sRhAFQY5Q/lsh\n",
       "L6XfLQtUeSQPERYsEg+zZJM7+/v3/H0f/tdfb/8AXydQECgIFAQKc+6/b/8Mn2ZBQaAgUBAozL1/\n",
       "3v4ZPs2CgkBBoCBQcCUdLCgIFAQKAgWBwly/xVYWFAQKAgWBwtzjQ3pjQUGgIFAQKLiSDhYUBAoC\n",
       "BYGCQMFvsWBBQaAgUBAoOA8KFhQECgIFgcI8rqRXFhQECgIFgYJAwXlQsKAgUBAoCBTmcR60sqAg\n",
       "UBAoCBTmOf+8/TN8mgUFgYJAQaAgUPBUI1hQECgIFAQKzoOCBQWBgkBBoOBDOlhQECgIFAQKAgXn\n",
       "QcGCgkBBoCBQmJ9bjZUFBYGCQEGgMM/xpf8bCwoCBYGCQEGg4FYjWFAQKAgUBApuNYIFBYGCQEGg\n",
       "4P2gYEFBoCBQECgIFObnVmNlQUGgIFAQKHiJM1hQECgIFAQKrqSDBQWBgkBBoCBQ8Og5WFAQKAgU\n",
       "BApuNYIFBYGCQEGg4Eo6WFAQKAgUBAoCBbcawYKCQEGgIFCY55y3f4ZPs6AgUBAoCBRcSQcLCgIF\n",
       "gYJAQaDgqUawoCBQECgIFHxIBwsKAgWBgkBhfg7tVxYUBAoCBYGCQMGtRrCgIFAQKAgUvB8ULCgI\n",
       "FAQKAgXnQcGCgkBBoCBQECg4DwoWFAQKAgWBgvOgYEFBoCBQECj4kA4WFAQKAgWBgkDBXz0HCwoC\n",
       "BYGCQMGtRrCgIFAQKAgUfEgHCwoCBYGCQEGg4LdYsKAgUBAoCBR8SAcLCgIFgYJAYZ7rQ3pjQUGg\n",
       "IFAQKAgU3GoECwoCBYGCQMGHdLCgIFAQKAgUfEgHCwoCBYGCQEGgMM+5b/8Mn2ZBQaAgUBAouNUI\n",
       "FhQECgIFgYIr6WBBQaAgUBAoCBTcagQLCgIFgYJAwa1GsKAgUBAoCBTmcSG9sqAgUBAoCBQECvNc\n",
       "txobCwoCBYGCQMGtRrCgIFAQKAgUfEgHCwoCBYGCQEGgML4Eb2dBQaAgUBAouNUIFhQECgIFgYIP\n",
       "6WBBQaAgUBAoCBTmOb+3f4ZPs6AgUBAoCBTmXh/SGwsKAgWBgkDBeVCwoCBQECgIFBx3BAsKAgWB\n",
       "gkBBoDD3aLRRJwgUBAoCBbcawYKCQEGgIFCYx5PVlQUFgYJAQaAgUJjrVmNlQUGgIFAQKMzj0H6l\n",
       "ThAoCBQECq6kgwUFgYJAQaAgUPBUI1hQECgIFAQKXuIM6gSBgkBBoOAlzmBBQaAgUBAoCBQ81QgW\n",
       "FAQKAgWBwtyr0UadIFAQKAgUnAcFCwoCBYGCQEGg4DwoWFAQKAgUBArzOA9aqRMECgIFgYIr6WBB\n",
       "QaAgUBAoCBT8FgsWFAQKAgWBgj/qDRYUBAoCBYGCP+oN6gSBgkBBoCBQ8P/mgwUFgYJAQaDg0D5Y\n",
       "UBAoCBQECr70P6gTBAoCBYGCQMF5ULCgIFAQKAgUnAcFCwoCBYGCQMGVdLCgIFAQKAgUBArecg3q\n",
       "BIGCQEGg4FYjWFAQKAgUBAoO7YMFBYGCQEGgIFBwqxEsKAgUBAoCBf+6JlhQECgIFAQK/glkUCcI\n",
       "FAQKAgWBgvOgYEFBoCBQECh49BwsKAgUBAoCBVfSwYKCQEGgIFAQKMzxW2xlQUGgIFAQKPij3qBO\n",
       "ECgIFAQKzoOCBQWBgkBBoCBQ8FssWFAQKAgUBAreDwoWFAQKAgWBgivpYEFBoCBQECgIFPwWCxYU\n",
       "BAoCBYGCr6YI6gSBgkBBoDDHof3KgoJAQaAgUBAoOA8KFhQECgIFgYIP6WBBQaAgUBAo+JAOFhQE\n",
       "CgIFgYJAwfcHBQsKAgWBgkDBrUawoCBQECgIFHxIBwsKAgWBgkBBoOBPEYI6QaAgUBAo+FOEYEFB\n",
       "oCBQECg4DwoWFAQKAgWBgkDBb7FgQUGgIFAQKHiJM1hQECgIFAQKrqSDBQWBgkBBoCBQmPv4Lbax\n",
       "oCBQECgIFJwHBQsKAgWBgkDBeVCwoCBQECgIFAQKbjWCBQWBgkBBoOBWI1hQECgIFAQKrqSDBQWB\n",
       "gkBBoCBQcKsRLCgIFAQKAgUf0sGCgkBBoCBQmONN+5UFBYGCQEGg4Eo6WFAQKAgUBAoCBY+egwUF\n",
       "gYJAQaAw9779I3ybBQWBgkBBoOBKOlhQECgIFAQKAgVf8hYsKAgUBAoCBbcawYKCQEGgIFDwflCw\n",
       "oCBQECgIFAQK/hQhWFAQKAgUBAreDwoWFAQKAgWBgkP7YEFBoCBQECgIFDzVCBYUBAoCBYGCQ/tg\n",
       "QUGgIFAQKDgPChYUBAoCBYGCQMGj52BBQaAgUBAoOA8KFhQECgIFgYInq8GCgkBBoCBQECjMefsn\n",
       "+DgLCgIFgYJAwa1GsKAgUBAoCBS8HxQsKAgUBAoCBYGC86BgQUGgIFAQKDgPChYUBAoCBYGCK+lg\n",
       "QUGgIFAQKAgU3GoECwoCBYGCQMGj52BBQaAgUBAojC9e2FlQECgIFAQKAgW3GsGCgkBBoCBQ8Og5\n",
       "WFAQKAgUBAqerAYLCgIFgYJAQaDgViNYUBAoCBQECm41ggUFgYJAQaAwxwtCKwsKAgWBgkBBoOA8\n",
       "KFhQECgIFAQKzoOCBQWBgkBBoOBKOlhQECgIFAQKAgX/bz5YUBAoCBQECv7ffLCgIFAQKAgUvB8U\n",
       "LCgIFAQKAgWBgm/BCxYUBAoCBYGCL3kLFhQECgIFgYInq8GCgkBBoCBQECh4yzVYUBAoCBQECv5e\n",
       "LFhQECgIFAQKrqSDBQWBgkBBoCBQ8JZrsKAgUBAoCBS8xBksKAgUBAoCBVfSwYKCQEGgIFAQKHjL\n",
       "NVhQECgIFAQKvj8oWFAQKAgUBArOg4IFBYGCQEGgIFDw6DlYUBAoCBQECm41ggUFgYJAQaDgSjpY\n",
       "UBAoCBQECgIFtxrBgoJAQaAgUPAhHSwoCBQECgIF50HBgoJAQaAgUBAouNUIFhQECgIFgYJbjWBB\n",
       "QaAgUBAouJIOFhQECgIFgYJAwfcHBQsKAgWBgkDBv64JFhQECgIFgYLzoGBBQaAgUBAoCBTmPn6N\n",
       "bSwoCBQECgIFtxrBgoJAQaAgUPBkNVhQECgIFAQKnqwGCwoCBYGCQEGg4DwoWFAQKAgUBAqerAYL\n",
       "CgIFgYJAwZV0sKAgUBAoCBQECr4/KFhQECgIFAQKc7wgtLKgIFAQKAgUvB8ULCgIFAQKAgWBwly3\n",
       "GisLCgIFgYJAwa1GsKAgUBAoCBQc2gcLCgIFgYJAQaDg/aBgQUGgIFAQKMzx92IrCwoCBYGCQMF5\n",
       "ULCgIFAQKAgUBAq+miJYUBAoCBQECt4PChYUBAoCBYGCQ/tgQUGgIFAQKAgUnAcFCwoCBYGCQGHO\n",
       "40RoY0FBoCBQECg4DwoWFAQKAgWBgkDBb7FgQUGgIFAQKDi0DxYUBAoCBYGCQ/tgQUGgIFAQKAgU\n",
       "5vzcamwsKAgUBAoCBbcawYKCQEGgIFCY60N6ZUFBoCBQECgIFNxqBAsKAgWBgkBhzs+H9MaCgkBB\n",
       "oCBQcCUdLCgIFAQKAgWBgqcawYKCQEGgIFBwqxEsKAgUBAoCBR/SwYKCQEGgIFAQKHj0HCwoCBQE\n",
       "CgKFuc+ft3+GT7OgIFAQKAgUnAcFCwoCBYGCQEGg4P2gYEFBoCBQECjMuc6DNhYUBAoCBYGCK+lg\n",
       "QUGgIFAQKAgU5nj0vLKgIFAQKAgU3GoECwoCBYGCQMGVdLCgIFAQKAgUBApzr1uNjQUFgYJAQaDg\n",
       "PChYUBAoCBQECl7iDBYUBAoCBYGCQMGtRrCgIFAQKAgU5rrVWFlQECgIFAQKrqSDBQWBgkBBoCBQ\n",
       "mOP9oJUFBYGCQEGg4PukgwUFgYJAQaDgTftgQUGgIFAQKAgUPNUIFhQECgIFgYJbjWBBQaAgUBAo\n",
       "+JAOFhQECgIFgYJAwaPnYEFBoCBQECi41QgWFAQKAgWBwjyerK4sKAgUBAoCBYGCW41gQUGgIFAQ\n",
       "KHiJM1hQECgIFAQK87iSXllQECgIFAQKAgXvBwULCgIFgYJAwaPnYEFBoCBQECg4DwoWFAQKAgWB\n",
       "gkBh7nPf/hk+zYKCQEGgIFBwHhQsKAgUBAoChXlcSa8sKAgUBAoChf8AJ8ztt7m0cDkAAAAASUVO\n",
       "RK5CYII=\n",
       "\" transform=\"translate(2161, 47)\"/>\n",
       "</g>\n",
       "<path clip-path=\"url(#clip420)\" d=\"M 0 0 M2280.7 1297.35 Q2277.09 1297.35 2275.26 1300.92 Q2273.45 1304.46 2273.45 1311.59 Q2273.45 1318.7 2275.26 1322.26 Q2277.09 1325.8 2280.7 1325.8 Q2284.33 1325.8 2286.14 1322.26 Q2287.97 1318.7 2287.97 1311.59 Q2287.97 1304.46 2286.14 1300.92 Q2284.33 1297.35 2280.7 1297.35 M2280.7 1293.65 Q2286.51 1293.65 2289.57 1298.26 Q2292.64 1302.84 2292.64 1311.59 Q2292.64 1320.32 2289.57 1324.92 Q2286.51 1329.51 2280.7 1329.51 Q2274.89 1329.51 2271.81 1324.92 Q2268.76 1320.32 2268.76 1311.59 Q2268.76 1302.84 2271.81 1298.26 Q2274.89 1293.65 2280.7 1293.65 Z\" fill=\"#000000\" fill-rule=\"evenodd\" fill-opacity=\"1\" /><path clip-path=\"url(#clip420)\" d=\"M 0 0 M2297.71 1322.95 L2302.6 1322.95 L2302.6 1328.83 L2297.71 1328.83 L2297.71 1322.95 Z\" fill=\"#000000\" fill-rule=\"evenodd\" fill-opacity=\"1\" /><path clip-path=\"url(#clip420)\" d=\"M 0 0 M2318.25 1309.69 Q2315.1 1309.69 2313.25 1311.84 Q2311.42 1314 2311.42 1317.75 Q2311.42 1321.47 2313.25 1323.65 Q2315.1 1325.8 2318.25 1325.8 Q2321.39 1325.8 2323.22 1323.65 Q2325.08 1321.47 2325.08 1317.75 Q2325.08 1314 2323.22 1311.84 Q2321.39 1309.69 2318.25 1309.69 M2327.53 1295.04 L2327.53 1299.3 Q2325.77 1298.46 2323.96 1298.02 Q2322.18 1297.58 2320.42 1297.58 Q2315.79 1297.58 2313.34 1300.71 Q2310.91 1303.83 2310.56 1310.15 Q2311.93 1308.14 2313.99 1307.08 Q2316.05 1305.99 2318.52 1305.99 Q2323.73 1305.99 2326.74 1309.16 Q2329.77 1312.31 2329.77 1317.75 Q2329.77 1323.07 2326.63 1326.29 Q2323.48 1329.51 2318.25 1329.51 Q2312.25 1329.51 2309.08 1324.92 Q2305.91 1320.32 2305.91 1311.59 Q2305.91 1303.39 2309.8 1298.53 Q2313.69 1293.65 2320.24 1293.65 Q2322 1293.65 2323.78 1294 Q2325.58 1294.34 2327.53 1295.04 Z\" fill=\"#000000\" fill-rule=\"evenodd\" fill-opacity=\"1\" /><path clip-path=\"url(#clip420)\" d=\"M 0 0 M2338.87 1324.9 L2355.19 1324.9 L2355.19 1328.83 L2333.25 1328.83 L2333.25 1324.9 Q2335.91 1322.14 2340.49 1317.51 Q2345.1 1312.86 2346.28 1311.52 Q2348.52 1309 2349.4 1307.26 Q2350.31 1305.5 2350.31 1303.81 Q2350.31 1301.06 2348.36 1299.32 Q2346.44 1297.58 2343.34 1297.58 Q2341.14 1297.58 2338.69 1298.35 Q2336.26 1299.11 2333.48 1300.66 L2333.48 1295.94 Q2336.3 1294.81 2338.76 1294.23 Q2341.21 1293.65 2343.25 1293.65 Q2348.62 1293.65 2351.81 1296.33 Q2355.01 1299.02 2355.01 1303.51 Q2355.01 1305.64 2354.2 1307.56 Q2353.41 1309.46 2351.3 1312.05 Q2350.72 1312.72 2347.62 1315.94 Q2344.52 1319.14 2338.87 1324.9 Z\" fill=\"#000000\" fill-rule=\"evenodd\" fill-opacity=\"1\" /><path clip-path=\"url(#clip420)\" d=\"M 0 0 M2360.31 1294.27 L2378.66 1294.27 L2378.66 1298.21 L2364.59 1298.21 L2364.59 1306.68 Q2365.61 1306.33 2366.63 1306.17 Q2367.64 1305.99 2368.66 1305.99 Q2374.45 1305.99 2377.83 1309.16 Q2381.21 1312.33 2381.21 1317.75 Q2381.21 1323.33 2377.74 1326.43 Q2374.26 1329.51 2367.95 1329.51 Q2365.77 1329.51 2363.5 1329.14 Q2361.26 1328.76 2358.85 1328.02 L2358.85 1323.33 Q2360.93 1324.46 2363.15 1325.01 Q2365.38 1325.57 2367.85 1325.57 Q2371.86 1325.57 2374.2 1323.46 Q2376.53 1321.36 2376.53 1317.75 Q2376.53 1314.14 2374.2 1312.03 Q2371.86 1309.92 2367.85 1309.92 Q2365.98 1309.92 2364.1 1310.34 Q2362.25 1310.76 2360.31 1311.64 L2360.31 1294.27 Z\" fill=\"#000000\" fill-rule=\"evenodd\" fill-opacity=\"1\" /><path clip-path=\"url(#clip420)\" d=\"M 0 0 M2280.7 1151.87 Q2277.09 1151.87 2275.26 1155.43 Q2273.45 1158.97 2273.45 1166.1 Q2273.45 1173.21 2275.26 1176.77 Q2277.09 1180.32 2280.7 1180.32 Q2284.33 1180.32 2286.14 1176.77 Q2287.97 1173.21 2287.97 1166.1 Q2287.97 1158.97 2286.14 1155.43 Q2284.33 1151.87 2280.7 1151.87 M2280.7 1148.16 Q2286.51 1148.16 2289.57 1152.77 Q2292.64 1157.35 2292.64 1166.1 Q2292.64 1174.83 2289.57 1179.44 Q2286.51 1184.02 2280.7 1184.02 Q2274.89 1184.02 2271.81 1179.44 Q2268.76 1174.83 2268.76 1166.1 Q2268.76 1157.35 2271.81 1152.77 Q2274.89 1148.16 2280.7 1148.16 Z\" fill=\"#000000\" fill-rule=\"evenodd\" fill-opacity=\"1\" /><path clip-path=\"url(#clip420)\" d=\"M 0 0 M2297.71 1177.47 L2302.6 1177.47 L2302.6 1183.35 L2297.71 1183.35 L2297.71 1177.47 Z\" fill=\"#000000\" fill-rule=\"evenodd\" fill-opacity=\"1\" /><path clip-path=\"url(#clip420)\" d=\"M 0 0 M2318.25 1164.2 Q2315.1 1164.2 2313.25 1166.36 Q2311.42 1168.51 2311.42 1172.26 Q2311.42 1175.99 2313.25 1178.16 Q2315.1 1180.32 2318.25 1180.32 Q2321.39 1180.32 2323.22 1178.16 Q2325.08 1175.99 2325.08 1172.26 Q2325.08 1168.51 2323.22 1166.36 Q2321.39 1164.2 2318.25 1164.2 M2327.53 1149.55 L2327.53 1153.81 Q2325.77 1152.98 2323.96 1152.54 Q2322.18 1152.1 2320.42 1152.1 Q2315.79 1152.1 2313.34 1155.22 Q2310.91 1158.35 2310.56 1164.67 Q2311.93 1162.65 2313.99 1161.59 Q2316.05 1160.5 2318.52 1160.5 Q2323.73 1160.5 2326.74 1163.67 Q2329.77 1166.82 2329.77 1172.26 Q2329.77 1177.58 2326.63 1180.8 Q2323.48 1184.02 2318.25 1184.02 Q2312.25 1184.02 2309.08 1179.44 Q2305.91 1174.83 2305.91 1166.1 Q2305.91 1157.91 2309.8 1153.05 Q2313.69 1148.16 2320.24 1148.16 Q2322 1148.16 2323.78 1148.51 Q2325.58 1148.86 2327.53 1149.55 Z\" fill=\"#000000\" fill-rule=\"evenodd\" fill-opacity=\"1\" /><path clip-path=\"url(#clip420)\" d=\"M 0 0 M2334.89 1148.79 L2353.25 1148.79 L2353.25 1152.72 L2339.17 1152.72 L2339.17 1161.19 Q2340.19 1160.85 2341.21 1160.69 Q2342.23 1160.5 2343.25 1160.5 Q2349.03 1160.5 2352.41 1163.67 Q2355.79 1166.84 2355.79 1172.26 Q2355.79 1177.84 2352.32 1180.94 Q2348.85 1184.02 2342.53 1184.02 Q2340.35 1184.02 2338.08 1183.65 Q2335.84 1183.28 2333.43 1182.54 L2333.43 1177.84 Q2335.51 1178.97 2337.74 1179.53 Q2339.96 1180.08 2342.44 1180.08 Q2346.44 1180.08 2348.78 1177.98 Q2351.12 1175.87 2351.12 1172.26 Q2351.12 1168.65 2348.78 1166.54 Q2346.44 1164.44 2342.44 1164.44 Q2340.56 1164.44 2338.69 1164.85 Q2336.83 1165.27 2334.89 1166.15 L2334.89 1148.79 Z\" fill=\"#000000\" fill-rule=\"evenodd\" fill-opacity=\"1\" /><path clip-path=\"url(#clip420)\" d=\"M 0 0 M2370.86 1151.87 Q2367.25 1151.87 2365.42 1155.43 Q2363.62 1158.97 2363.62 1166.1 Q2363.62 1173.21 2365.42 1176.77 Q2367.25 1180.32 2370.86 1180.32 Q2374.5 1180.32 2376.3 1176.77 Q2378.13 1173.21 2378.13 1166.1 Q2378.13 1158.97 2376.3 1155.43 Q2374.5 1151.87 2370.86 1151.87 M2370.86 1148.16 Q2376.67 1148.16 2379.73 1152.77 Q2382.81 1157.35 2382.81 1166.1 Q2382.81 1174.83 2379.73 1179.44 Q2376.67 1184.02 2370.86 1184.02 Q2365.05 1184.02 2361.97 1179.44 Q2358.92 1174.83 2358.92 1166.1 Q2358.92 1157.35 2361.97 1152.77 Q2365.05 1148.16 2370.86 1148.16 Z\" fill=\"#000000\" fill-rule=\"evenodd\" fill-opacity=\"1\" /><path clip-path=\"url(#clip420)\" d=\"M 0 0 M2280.7 1006.38 Q2277.09 1006.38 2275.26 1009.94 Q2273.45 1013.49 2273.45 1020.62 Q2273.45 1027.72 2275.26 1031.29 Q2277.09 1034.83 2280.7 1034.83 Q2284.33 1034.83 2286.14 1031.29 Q2287.97 1027.72 2287.97 1020.62 Q2287.97 1013.49 2286.14 1009.94 Q2284.33 1006.38 2280.7 1006.38 M2280.7 1002.68 Q2286.51 1002.68 2289.57 1007.28 Q2292.64 1011.87 2292.64 1020.62 Q2292.64 1029.34 2289.57 1033.95 Q2286.51 1038.53 2280.7 1038.53 Q2274.89 1038.53 2271.81 1033.95 Q2268.76 1029.34 2268.76 1020.62 Q2268.76 1011.87 2271.81 1007.28 Q2274.89 1002.68 2280.7 1002.68 Z\" fill=\"#000000\" fill-rule=\"evenodd\" fill-opacity=\"1\" /><path clip-path=\"url(#clip420)\" d=\"M 0 0 M2297.71 1031.98 L2302.6 1031.98 L2302.6 1037.86 L2297.71 1037.86 L2297.71 1031.98 Z\" fill=\"#000000\" fill-rule=\"evenodd\" fill-opacity=\"1\" /><path clip-path=\"url(#clip420)\" d=\"M 0 0 M2318.25 1018.72 Q2315.1 1018.72 2313.25 1020.87 Q2311.42 1023.02 2311.42 1026.77 Q2311.42 1030.5 2313.25 1032.68 Q2315.1 1034.83 2318.25 1034.83 Q2321.39 1034.83 2323.22 1032.68 Q2325.08 1030.5 2325.08 1026.77 Q2325.08 1023.02 2323.22 1020.87 Q2321.39 1018.72 2318.25 1018.72 M2327.53 1004.06 L2327.53 1008.32 Q2325.77 1007.49 2323.96 1007.05 Q2322.18 1006.61 2320.42 1006.61 Q2315.79 1006.61 2313.34 1009.74 Q2310.91 1012.86 2310.56 1019.18 Q2311.93 1017.17 2313.99 1016.1 Q2316.05 1015.01 2318.52 1015.01 Q2323.73 1015.01 2326.74 1018.18 Q2329.77 1021.33 2329.77 1026.77 Q2329.77 1032.1 2326.63 1035.31 Q2323.48 1038.53 2318.25 1038.53 Q2312.25 1038.53 2309.08 1033.95 Q2305.91 1029.34 2305.91 1020.62 Q2305.91 1012.42 2309.8 1007.56 Q2313.69 1002.68 2320.24 1002.68 Q2322 1002.68 2323.78 1003.02 Q2325.58 1003.37 2327.53 1004.06 Z\" fill=\"#000000\" fill-rule=\"evenodd\" fill-opacity=\"1\" /><path clip-path=\"url(#clip420)\" d=\"M 0 0 M2333.66 1003.3 L2355.89 1003.3 L2355.89 1005.29 L2343.34 1037.86 L2338.45 1037.86 L2350.26 1007.24 L2333.66 1007.24 L2333.66 1003.3 Z\" fill=\"#000000\" fill-rule=\"evenodd\" fill-opacity=\"1\" /><path clip-path=\"url(#clip420)\" d=\"M 0 0 M2361 1003.3 L2379.36 1003.3 L2379.36 1007.24 L2365.28 1007.24 L2365.28 1015.71 Q2366.3 1015.36 2367.32 1015.2 Q2368.34 1015.01 2369.36 1015.01 Q2375.14 1015.01 2378.52 1018.18 Q2381.9 1021.36 2381.9 1026.77 Q2381.9 1032.35 2378.43 1035.45 Q2374.96 1038.53 2368.64 1038.53 Q2366.46 1038.53 2364.2 1038.16 Q2361.95 1037.79 2359.54 1037.05 L2359.54 1032.35 Q2361.63 1033.49 2363.85 1034.04 Q2366.07 1034.6 2368.55 1034.6 Q2372.55 1034.6 2374.89 1032.49 Q2377.23 1030.38 2377.23 1026.77 Q2377.23 1023.16 2374.89 1021.06 Q2372.55 1018.95 2368.55 1018.95 Q2366.67 1018.95 2364.8 1019.37 Q2362.95 1019.78 2361 1020.66 L2361 1003.3 Z\" fill=\"#000000\" fill-rule=\"evenodd\" fill-opacity=\"1\" /><path clip-path=\"url(#clip420)\" d=\"M 0 0 M2280.7 860.892 Q2277.09 860.892 2275.26 864.457 Q2273.45 867.999 2273.45 875.128 Q2273.45 882.235 2275.26 885.8 Q2277.09 889.341 2280.7 889.341 Q2284.33 889.341 2286.14 885.8 Q2287.97 882.235 2287.97 875.128 Q2287.97 867.999 2286.14 864.457 Q2284.33 860.892 2280.7 860.892 M2280.7 857.189 Q2286.51 857.189 2289.57 861.795 Q2292.64 866.378 2292.64 875.128 Q2292.64 883.855 2289.57 888.462 Q2286.51 893.045 2280.7 893.045 Q2274.89 893.045 2271.81 888.462 Q2268.76 883.855 2268.76 875.128 Q2268.76 866.378 2271.81 861.795 Q2274.89 857.189 2280.7 857.189 Z\" fill=\"#000000\" fill-rule=\"evenodd\" fill-opacity=\"1\" /><path clip-path=\"url(#clip420)\" d=\"M 0 0 M2297.71 886.494 L2302.6 886.494 L2302.6 892.374 L2297.71 892.374 L2297.71 886.494 Z\" fill=\"#000000\" fill-rule=\"evenodd\" fill-opacity=\"1\" /><path clip-path=\"url(#clip420)\" d=\"M 0 0 M2306.49 857.814 L2328.71 857.814 L2328.71 859.804 L2316.16 892.374 L2311.28 892.374 L2323.08 861.749 L2306.49 861.749 L2306.49 857.814 Z\" fill=\"#000000\" fill-rule=\"evenodd\" fill-opacity=\"1\" /><path clip-path=\"url(#clip420)\" d=\"M 0 0 M2343.78 860.892 Q2340.17 860.892 2338.34 864.457 Q2336.53 867.999 2336.53 875.128 Q2336.53 882.235 2338.34 885.8 Q2340.17 889.341 2343.78 889.341 Q2347.41 889.341 2349.22 885.8 Q2351.05 882.235 2351.05 875.128 Q2351.05 867.999 2349.22 864.457 Q2347.41 860.892 2343.78 860.892 M2343.78 857.189 Q2349.59 857.189 2352.64 861.795 Q2355.72 866.378 2355.72 875.128 Q2355.72 883.855 2352.64 888.462 Q2349.59 893.045 2343.78 893.045 Q2337.97 893.045 2334.89 888.462 Q2331.83 883.855 2331.83 875.128 Q2331.83 866.378 2334.89 861.795 Q2337.97 857.189 2343.78 857.189 Z\" fill=\"#000000\" fill-rule=\"evenodd\" fill-opacity=\"1\" /><path clip-path=\"url(#clip420)\" d=\"M 0 0 M2370.79 860.892 Q2367.18 860.892 2365.35 864.457 Q2363.55 867.999 2363.55 875.128 Q2363.55 882.235 2365.35 885.8 Q2367.18 889.341 2370.79 889.341 Q2374.43 889.341 2376.23 885.8 Q2378.06 882.235 2378.06 875.128 Q2378.06 867.999 2376.23 864.457 Q2374.43 860.892 2370.79 860.892 M2370.79 857.189 Q2376.6 857.189 2379.66 861.795 Q2382.74 866.378 2382.74 875.128 Q2382.74 883.855 2379.66 888.462 Q2376.6 893.045 2370.79 893.045 Q2364.98 893.045 2361.9 888.462 Q2358.85 883.855 2358.85 875.128 Q2358.85 866.378 2361.9 861.795 Q2364.98 857.189 2370.79 857.189 Z\" fill=\"#000000\" fill-rule=\"evenodd\" fill-opacity=\"1\" /><path clip-path=\"url(#clip420)\" d=\"M 0 0 M2280.7 715.405 Q2277.09 715.405 2275.26 718.97 Q2273.45 722.512 2273.45 729.641 Q2273.45 736.748 2275.26 740.313 Q2277.09 743.854 2280.7 743.854 Q2284.33 743.854 2286.14 740.313 Q2287.97 736.748 2287.97 729.641 Q2287.97 722.512 2286.14 718.97 Q2284.33 715.405 2280.7 715.405 M2280.7 711.702 Q2286.51 711.702 2289.57 716.308 Q2292.64 720.892 2292.64 729.641 Q2292.64 738.368 2289.57 742.975 Q2286.51 747.558 2280.7 747.558 Q2274.89 747.558 2271.81 742.975 Q2268.76 738.368 2268.76 729.641 Q2268.76 720.892 2271.81 716.308 Q2274.89 711.702 2280.7 711.702 Z\" fill=\"#000000\" fill-rule=\"evenodd\" fill-opacity=\"1\" /><path clip-path=\"url(#clip420)\" d=\"M 0 0 M2297.71 741.007 L2302.6 741.007 L2302.6 746.887 L2297.71 746.887 L2297.71 741.007 Z\" fill=\"#000000\" fill-rule=\"evenodd\" fill-opacity=\"1\" /><path clip-path=\"url(#clip420)\" d=\"M 0 0 M2306.49 712.327 L2328.71 712.327 L2328.71 714.317 L2316.16 746.887 L2311.28 746.887 L2323.08 716.262 L2306.49 716.262 L2306.49 712.327 Z\" fill=\"#000000\" fill-rule=\"evenodd\" fill-opacity=\"1\" /><path clip-path=\"url(#clip420)\" d=\"M 0 0 M2337.81 742.952 L2354.13 742.952 L2354.13 746.887 L2332.18 746.887 L2332.18 742.952 Q2334.84 740.197 2339.43 735.567 Q2344.03 730.915 2345.21 729.572 Q2347.46 727.049 2348.34 725.313 Q2349.24 723.554 2349.24 721.864 Q2349.24 719.109 2347.3 717.373 Q2345.38 715.637 2342.27 715.637 Q2340.07 715.637 2337.62 716.401 Q2335.19 717.165 2332.41 718.716 L2332.41 713.993 Q2335.24 712.859 2337.69 712.28 Q2340.14 711.702 2342.18 711.702 Q2347.55 711.702 2350.75 714.387 Q2353.94 717.072 2353.94 721.563 Q2353.94 723.692 2353.13 725.614 Q2352.34 727.512 2350.24 730.104 Q2349.66 730.776 2346.56 733.993 Q2343.45 737.188 2337.81 742.952 Z\" fill=\"#000000\" fill-rule=\"evenodd\" fill-opacity=\"1\" /><path clip-path=\"url(#clip420)\" d=\"M 0 0 M2359.24 712.327 L2377.6 712.327 L2377.6 716.262 L2363.52 716.262 L2363.52 724.734 Q2364.54 724.387 2365.56 724.225 Q2366.58 724.04 2367.6 724.04 Q2373.38 724.04 2376.76 727.211 Q2380.14 730.382 2380.14 735.799 Q2380.14 741.378 2376.67 744.479 Q2373.2 747.558 2366.88 747.558 Q2364.7 747.558 2362.44 747.188 Q2360.19 746.817 2357.78 746.077 L2357.78 741.378 Q2359.87 742.512 2362.09 743.067 Q2364.31 743.623 2366.79 743.623 Q2370.79 743.623 2373.13 741.516 Q2375.47 739.41 2375.47 735.799 Q2375.47 732.188 2373.13 730.081 Q2370.79 727.975 2366.79 727.975 Q2364.91 727.975 2363.04 728.391 Q2361.19 728.808 2359.24 729.688 L2359.24 712.327 Z\" fill=\"#000000\" fill-rule=\"evenodd\" fill-opacity=\"1\" /><path clip-path=\"url(#clip420)\" d=\"M 0 0 M2280.7 569.919 Q2277.09 569.919 2275.26 573.483 Q2273.45 577.025 2273.45 584.155 Q2273.45 591.261 2275.26 594.826 Q2277.09 598.367 2280.7 598.367 Q2284.33 598.367 2286.14 594.826 Q2287.97 591.261 2287.97 584.155 Q2287.97 577.025 2286.14 573.483 Q2284.33 569.919 2280.7 569.919 M2280.7 566.215 Q2286.51 566.215 2289.57 570.821 Q2292.64 575.405 2292.64 584.155 Q2292.64 592.881 2289.57 597.488 Q2286.51 602.071 2280.7 602.071 Q2274.89 602.071 2271.81 597.488 Q2268.76 592.881 2268.76 584.155 Q2268.76 575.405 2271.81 570.821 Q2274.89 566.215 2280.7 566.215 Z\" fill=\"#000000\" fill-rule=\"evenodd\" fill-opacity=\"1\" /><path clip-path=\"url(#clip420)\" d=\"M 0 0 M2297.71 595.52 L2302.6 595.52 L2302.6 601.4 L2297.71 601.4 L2297.71 595.52 Z\" fill=\"#000000\" fill-rule=\"evenodd\" fill-opacity=\"1\" /><path clip-path=\"url(#clip420)\" d=\"M 0 0 M2306.49 566.84 L2328.71 566.84 L2328.71 568.831 L2316.16 601.4 L2311.28 601.4 L2323.08 570.775 L2306.49 570.775 L2306.49 566.84 Z\" fill=\"#000000\" fill-rule=\"evenodd\" fill-opacity=\"1\" /><path clip-path=\"url(#clip420)\" d=\"M 0 0 M2333.83 566.84 L2352.18 566.84 L2352.18 570.775 L2338.11 570.775 L2338.11 579.247 Q2339.13 578.9 2340.14 578.738 Q2341.16 578.553 2342.18 578.553 Q2347.97 578.553 2351.35 581.724 Q2354.73 584.895 2354.73 590.312 Q2354.73 595.891 2351.26 598.992 Q2347.78 602.071 2341.46 602.071 Q2339.29 602.071 2337.02 601.701 Q2334.77 601.33 2332.37 600.59 L2332.37 595.891 Q2334.45 597.025 2336.67 597.58 Q2338.89 598.136 2341.37 598.136 Q2345.38 598.136 2347.71 596.03 Q2350.05 593.923 2350.05 590.312 Q2350.05 586.701 2347.71 584.594 Q2345.38 582.488 2341.37 582.488 Q2339.5 582.488 2337.62 582.905 Q2335.77 583.321 2333.83 584.201 L2333.83 566.84 Z\" fill=\"#000000\" fill-rule=\"evenodd\" fill-opacity=\"1\" /><path clip-path=\"url(#clip420)\" d=\"M 0 0 M2369.8 569.919 Q2366.19 569.919 2364.36 573.483 Q2362.55 577.025 2362.55 584.155 Q2362.55 591.261 2364.36 594.826 Q2366.19 598.367 2369.8 598.367 Q2373.43 598.367 2375.24 594.826 Q2377.07 591.261 2377.07 584.155 Q2377.07 577.025 2375.24 573.483 Q2373.43 569.919 2369.8 569.919 M2369.8 566.215 Q2375.61 566.215 2378.66 570.821 Q2381.74 575.405 2381.74 584.155 Q2381.74 592.881 2378.66 597.488 Q2375.61 602.071 2369.8 602.071 Q2363.99 602.071 2360.91 597.488 Q2357.85 592.881 2357.85 584.155 Q2357.85 575.405 2360.91 570.821 Q2363.99 566.215 2369.8 566.215 Z\" fill=\"#000000\" fill-rule=\"evenodd\" fill-opacity=\"1\" /><path clip-path=\"url(#clip420)\" d=\"M 0 0 M2280.7 424.432 Q2277.09 424.432 2275.26 427.996 Q2273.45 431.538 2273.45 438.668 Q2273.45 445.774 2275.26 449.339 Q2277.09 452.881 2280.7 452.881 Q2284.33 452.881 2286.14 449.339 Q2287.97 445.774 2287.97 438.668 Q2287.97 431.538 2286.14 427.996 Q2284.33 424.432 2280.7 424.432 M2280.7 420.728 Q2286.51 420.728 2289.57 425.334 Q2292.64 429.918 2292.64 438.668 Q2292.64 447.395 2289.57 452.001 Q2286.51 456.584 2280.7 456.584 Q2274.89 456.584 2271.81 452.001 Q2268.76 447.395 2268.76 438.668 Q2268.76 429.918 2271.81 425.334 Q2274.89 420.728 2280.7 420.728 Z\" fill=\"#000000\" fill-rule=\"evenodd\" fill-opacity=\"1\" /><path clip-path=\"url(#clip420)\" d=\"M 0 0 M2297.71 450.033 L2302.6 450.033 L2302.6 455.913 L2297.71 455.913 L2297.71 450.033 Z\" fill=\"#000000\" fill-rule=\"evenodd\" fill-opacity=\"1\" /><path clip-path=\"url(#clip420)\" d=\"M 0 0 M2306.49 421.353 L2328.71 421.353 L2328.71 423.344 L2316.16 455.913 L2311.28 455.913 L2323.08 425.288 L2306.49 425.288 L2306.49 421.353 Z\" fill=\"#000000\" fill-rule=\"evenodd\" fill-opacity=\"1\" /><path clip-path=\"url(#clip420)\" d=\"M 0 0 M2332.6 421.353 L2354.82 421.353 L2354.82 423.344 L2342.27 455.913 L2337.39 455.913 L2349.2 425.288 L2332.6 425.288 L2332.6 421.353 Z\" fill=\"#000000\" fill-rule=\"evenodd\" fill-opacity=\"1\" /><path clip-path=\"url(#clip420)\" d=\"M 0 0 M2359.94 421.353 L2378.29 421.353 L2378.29 425.288 L2364.22 425.288 L2364.22 433.76 Q2365.24 433.413 2366.26 433.251 Q2367.27 433.066 2368.29 433.066 Q2374.08 433.066 2377.46 436.237 Q2380.84 439.408 2380.84 444.825 Q2380.84 450.404 2377.37 453.506 Q2373.89 456.584 2367.57 456.584 Q2365.4 456.584 2363.13 456.214 Q2360.89 455.844 2358.48 455.103 L2358.48 450.404 Q2360.56 451.538 2362.78 452.094 Q2365.01 452.649 2367.48 452.649 Q2371.49 452.649 2373.82 450.543 Q2376.16 448.436 2376.16 444.825 Q2376.16 441.214 2373.82 439.108 Q2371.49 437.001 2367.48 437.001 Q2365.61 437.001 2363.73 437.418 Q2361.88 437.834 2359.94 438.714 L2359.94 421.353 Z\" fill=\"#000000\" fill-rule=\"evenodd\" fill-opacity=\"1\" /><path clip-path=\"url(#clip420)\" d=\"M 0 0 M2280.7 278.945 Q2277.09 278.945 2275.26 282.51 Q2273.45 286.051 2273.45 293.181 Q2273.45 300.287 2275.26 303.852 Q2277.09 307.394 2280.7 307.394 Q2284.33 307.394 2286.14 303.852 Q2287.97 300.287 2287.97 293.181 Q2287.97 286.051 2286.14 282.51 Q2284.33 278.945 2280.7 278.945 M2280.7 275.241 Q2286.51 275.241 2289.57 279.848 Q2292.64 284.431 2292.64 293.181 Q2292.64 301.908 2289.57 306.514 Q2286.51 311.097 2280.7 311.097 Q2274.89 311.097 2271.81 306.514 Q2268.76 301.908 2268.76 293.181 Q2268.76 284.431 2271.81 279.848 Q2274.89 275.241 2280.7 275.241 Z\" fill=\"#000000\" fill-rule=\"evenodd\" fill-opacity=\"1\" /><path clip-path=\"url(#clip420)\" d=\"M 0 0 M2297.71 304.547 L2302.6 304.547 L2302.6 310.426 L2297.71 310.426 L2297.71 304.547 Z\" fill=\"#000000\" fill-rule=\"evenodd\" fill-opacity=\"1\" /><path clip-path=\"url(#clip420)\" d=\"M 0 0 M2317.67 294.014 Q2314.33 294.014 2312.41 295.797 Q2310.51 297.579 2310.51 300.704 Q2310.51 303.829 2312.41 305.611 Q2314.33 307.394 2317.67 307.394 Q2321 307.394 2322.92 305.611 Q2324.84 303.806 2324.84 300.704 Q2324.84 297.579 2322.92 295.797 Q2321.02 294.014 2317.67 294.014 M2312.99 292.023 Q2309.98 291.283 2308.29 289.223 Q2306.63 287.162 2306.63 284.199 Q2306.63 280.056 2309.57 277.649 Q2312.53 275.241 2317.67 275.241 Q2322.83 275.241 2325.77 277.649 Q2328.71 280.056 2328.71 284.199 Q2328.71 287.162 2327.02 289.223 Q2325.35 291.283 2322.37 292.023 Q2325.75 292.81 2327.62 295.102 Q2329.52 297.394 2329.52 300.704 Q2329.52 305.727 2326.44 308.412 Q2323.39 311.097 2317.67 311.097 Q2311.95 311.097 2308.87 308.412 Q2305.82 305.727 2305.82 300.704 Q2305.82 297.394 2307.71 295.102 Q2309.61 292.81 2312.99 292.023 M2311.28 284.639 Q2311.28 287.324 2312.95 288.829 Q2314.64 290.334 2317.67 290.334 Q2320.68 290.334 2322.37 288.829 Q2324.08 287.324 2324.08 284.639 Q2324.08 281.954 2322.37 280.449 Q2320.68 278.945 2317.67 278.945 Q2314.64 278.945 2312.95 280.449 Q2311.28 281.954 2311.28 284.639 Z\" fill=\"#000000\" fill-rule=\"evenodd\" fill-opacity=\"1\" /><path clip-path=\"url(#clip420)\" d=\"M 0 0 M2344.59 278.945 Q2340.98 278.945 2339.15 282.51 Q2337.34 286.051 2337.34 293.181 Q2337.34 300.287 2339.15 303.852 Q2340.98 307.394 2344.59 307.394 Q2348.22 307.394 2350.03 303.852 Q2351.86 300.287 2351.86 293.181 Q2351.86 286.051 2350.03 282.51 Q2348.22 278.945 2344.59 278.945 M2344.59 275.241 Q2350.4 275.241 2353.45 279.848 Q2356.53 284.431 2356.53 293.181 Q2356.53 301.908 2353.45 306.514 Q2350.4 311.097 2344.59 311.097 Q2338.78 311.097 2335.7 306.514 Q2332.64 301.908 2332.64 293.181 Q2332.64 284.431 2335.7 279.848 Q2338.78 275.241 2344.59 275.241 Z\" fill=\"#000000\" fill-rule=\"evenodd\" fill-opacity=\"1\" /><path clip-path=\"url(#clip420)\" d=\"M 0 0 M2371.6 278.945 Q2367.99 278.945 2366.16 282.51 Q2364.36 286.051 2364.36 293.181 Q2364.36 300.287 2366.16 303.852 Q2367.99 307.394 2371.6 307.394 Q2375.24 307.394 2377.04 303.852 Q2378.87 300.287 2378.87 293.181 Q2378.87 286.051 2377.04 282.51 Q2375.24 278.945 2371.6 278.945 M2371.6 275.241 Q2377.41 275.241 2380.47 279.848 Q2383.55 284.431 2383.55 293.181 Q2383.55 301.908 2380.47 306.514 Q2377.41 311.097 2371.6 311.097 Q2365.79 311.097 2362.71 306.514 Q2359.66 301.908 2359.66 293.181 Q2359.66 284.431 2362.71 279.848 Q2365.79 275.241 2371.6 275.241 Z\" fill=\"#000000\" fill-rule=\"evenodd\" fill-opacity=\"1\" /><path clip-path=\"url(#clip420)\" d=\"M 0 0 M2280.7 133.458 Q2277.09 133.458 2275.26 137.023 Q2273.45 140.564 2273.45 147.694 Q2273.45 154.8 2275.26 158.365 Q2277.09 161.907 2280.7 161.907 Q2284.33 161.907 2286.14 158.365 Q2287.97 154.8 2287.97 147.694 Q2287.97 140.564 2286.14 137.023 Q2284.33 133.458 2280.7 133.458 M2280.7 129.754 Q2286.51 129.754 2289.57 134.361 Q2292.64 138.944 2292.64 147.694 Q2292.64 156.421 2289.57 161.027 Q2286.51 165.611 2280.7 165.611 Q2274.89 165.611 2271.81 161.027 Q2268.76 156.421 2268.76 147.694 Q2268.76 138.944 2271.81 134.361 Q2274.89 129.754 2280.7 129.754 Z\" fill=\"#000000\" fill-rule=\"evenodd\" fill-opacity=\"1\" /><path clip-path=\"url(#clip420)\" d=\"M 0 0 M2297.71 159.06 L2302.6 159.06 L2302.6 164.939 L2297.71 164.939 L2297.71 159.06 Z\" fill=\"#000000\" fill-rule=\"evenodd\" fill-opacity=\"1\" /><path clip-path=\"url(#clip420)\" d=\"M 0 0 M2317.67 148.527 Q2314.33 148.527 2312.41 150.31 Q2310.51 152.092 2310.51 155.217 Q2310.51 158.342 2312.41 160.124 Q2314.33 161.907 2317.67 161.907 Q2321 161.907 2322.92 160.124 Q2324.84 158.319 2324.84 155.217 Q2324.84 152.092 2322.92 150.31 Q2321.02 148.527 2317.67 148.527 M2312.99 146.537 Q2309.98 145.796 2308.29 143.736 Q2306.63 141.675 2306.63 138.713 Q2306.63 134.569 2309.57 132.162 Q2312.53 129.754 2317.67 129.754 Q2322.83 129.754 2325.77 132.162 Q2328.71 134.569 2328.71 138.713 Q2328.71 141.675 2327.02 143.736 Q2325.35 145.796 2322.37 146.537 Q2325.75 147.324 2327.62 149.615 Q2329.52 151.907 2329.52 155.217 Q2329.52 160.24 2326.44 162.925 Q2323.39 165.611 2317.67 165.611 Q2311.95 165.611 2308.87 162.925 Q2305.82 160.24 2305.82 155.217 Q2305.82 151.907 2307.71 149.615 Q2309.61 147.324 2312.99 146.537 M2311.28 139.152 Q2311.28 141.838 2312.95 143.342 Q2314.64 144.847 2317.67 144.847 Q2320.68 144.847 2322.37 143.342 Q2324.08 141.838 2324.08 139.152 Q2324.08 136.467 2322.37 134.963 Q2320.68 133.458 2317.67 133.458 Q2314.64 133.458 2312.95 134.963 Q2311.28 136.467 2311.28 139.152 Z\" fill=\"#000000\" fill-rule=\"evenodd\" fill-opacity=\"1\" /><path clip-path=\"url(#clip420)\" d=\"M 0 0 M2338.62 161.004 L2354.94 161.004 L2354.94 164.939 L2332.99 164.939 L2332.99 161.004 Q2335.65 158.249 2340.24 153.62 Q2344.84 148.967 2346.02 147.625 Q2348.27 145.101 2349.15 143.365 Q2350.05 141.606 2350.05 139.916 Q2350.05 137.162 2348.11 135.426 Q2346.19 133.689 2343.08 133.689 Q2340.89 133.689 2338.43 134.453 Q2336 135.217 2333.22 136.768 L2333.22 132.046 Q2336.05 130.912 2338.5 130.333 Q2340.95 129.754 2342.99 129.754 Q2348.36 129.754 2351.56 132.439 Q2354.75 135.125 2354.75 139.615 Q2354.75 141.745 2353.94 143.666 Q2353.15 145.564 2351.05 148.157 Q2350.47 148.828 2347.37 152.046 Q2344.26 155.24 2338.62 161.004 Z\" fill=\"#000000\" fill-rule=\"evenodd\" fill-opacity=\"1\" /><path clip-path=\"url(#clip420)\" d=\"M 0 0 M2360.05 130.379 L2378.41 130.379 L2378.41 134.314 L2364.33 134.314 L2364.33 142.787 Q2365.35 142.439 2366.37 142.277 Q2367.39 142.092 2368.41 142.092 Q2374.2 142.092 2377.57 145.263 Q2380.95 148.435 2380.95 153.851 Q2380.95 159.43 2377.48 162.532 Q2374.01 165.611 2367.69 165.611 Q2365.51 165.611 2363.25 165.24 Q2361 164.87 2358.59 164.129 L2358.59 159.43 Q2360.68 160.564 2362.9 161.12 Q2365.12 161.675 2367.6 161.675 Q2371.6 161.675 2373.94 159.569 Q2376.28 157.462 2376.28 153.851 Q2376.28 150.24 2373.94 148.134 Q2371.6 146.027 2367.6 146.027 Q2365.72 146.027 2363.85 146.444 Q2362 146.861 2360.05 147.74 L2360.05 130.379 Z\" fill=\"#000000\" fill-rule=\"evenodd\" fill-opacity=\"1\" /><polyline clip-path=\"url(#clip420)\" style=\"stroke:#000000; stroke-width:4; stroke-opacity:1; fill:none\" points=\"\n",
       "  2232.76,1410.9 2232.76,1315.18 2256.76,1315.18 2232.76,1315.18 2232.76,1169.7 2256.76,1169.7 2232.76,1169.7 2232.76,1024.21 2256.76,1024.21 2232.76,1024.21 \n",
       "  2232.76,878.722 2256.76,878.722 2232.76,878.722 2232.76,733.236 2256.76,733.236 2232.76,733.236 2232.76,587.749 2256.76,587.749 2232.76,587.749 2232.76,442.262 \n",
       "  2256.76,442.262 2232.76,442.262 2232.76,296.775 2256.76,296.775 2232.76,296.775 2232.76,151.288 2256.76,151.288 2232.76,151.288 2232.76,47.2441 \n",
       "  \"/>\n",
       "</svg>\n"
      ]
     },
     "execution_count": 34,
     "metadata": {},
     "output_type": "execute_result"
    }
   ],
   "source": [
    "plot(self_tuning_svm_mach)"
   ]
  },
  {
   "cell_type": "code",
   "execution_count": 35,
   "metadata": {},
   "outputs": [
    {
     "data": {
      "text/plain": [
       "(best_model = \u001b[34mSVMClassifier @909\u001b[39m,\n",
       " best_fitted_params = (support = Int32[26, 29, 37, 41, 57, 64, 66, 70, 74, 77  …  2513, 2519, 2525, 2532, 2536, 2539, 2540, 2542, 2549, 2550],\n",
       "                       support_vectors = [-0.9167845601850195 -0.6290712031467441 … -0.9024500990490927 1.7390794520478359; -0.6372416726060517 -0.07772245739917198 … -0.9024500990490927 1.7390794520478359; … ; -0.6372416726060517 -0.9047455760205302 … -0.07831245268184164 -0.09357730105358646; 1.7388728718151745 -0.07772245739917198 … -0.07831245268184164 -0.939418879408089],\n",
       "                       n_support = Int32[319, 380, 463],\n",
       "                       dual_coef = [0.0 0.0 … -0.0 -0.0; 14439.136567507458 2905.934129227948 … -14082.417572581855 -9549.677420880415],\n",
       "                       coef = nothing,\n",
       "                       intercept = [-259.19813647257877, -396.4538144958955, -188.2609118561251],\n",
       "                       fit_status = 0,\n",
       "                       classes = UInt32[0x00000001, 0x00000002, 0x00000003],),)"
      ]
     },
     "execution_count": 35,
     "metadata": {},
     "output_type": "execute_result"
    }
   ],
   "source": [
    "best_rbf = fitted_params(self_tuning_svm_mach)\n",
    "best_rbf"
   ]
  },
  {
   "cell_type": "code",
   "execution_count": 36,
   "metadata": {},
   "outputs": [
    {
     "data": {
      "text/plain": [
       "SVMClassifier(\n",
       "    C = 23207.944168063907,\n",
       "    kernel = \"rbf\",\n",
       "    degree = 3,\n",
       "    gamma = 0.0001,\n",
       "    coef0 = 0.0,\n",
       "    shrinking = true,\n",
       "    tol = 0.001,\n",
       "    cache_size = 1000,\n",
       "    max_iter = -1,\n",
       "    decision_function_shape = \"ovr\",\n",
       "    random_state = nothing)\u001b[34m @909\u001b[39m"
      ]
     },
     "execution_count": 36,
     "metadata": {},
     "output_type": "execute_result"
    }
   ],
   "source": [
    "best_rbf.best_model"
   ]
  },
  {
   "cell_type": "code",
   "execution_count": 37,
   "metadata": {},
   "outputs": [
    {
     "data": {
      "text/plain": [
       "0.84288"
      ]
     },
     "execution_count": 37,
     "metadata": {},
     "output_type": "execute_result"
    }
   ],
   "source": [
    "best_loss = round(z.report.best_result.measurement[1],digits=5)"
   ]
  },
  {
   "cell_type": "code",
   "execution_count": 38,
   "metadata": {},
   "outputs": [],
   "source": [
    "# fn = \"Figures/LearningCurve_DT_merge_purity_thresh:$(best_mpt)_loss:$(best_loss)\"\n",
    "# png(replace(fn,'.' => ','))"
   ]
  },
  {
   "cell_type": "markdown",
   "metadata": {},
   "source": [
    "##### More fitting"
   ]
  },
  {
   "cell_type": "code",
   "execution_count": 39,
   "metadata": {
    "scrolled": true
   },
   "outputs": [
    {
     "name": "stderr",
     "output_type": "stream",
     "text": [
      "┌ Info: Training \u001b[34mMachine{SVMClassifier} @185\u001b[39m.\n",
      "└ @ MLJBase /home/andrew/.julia/packages/MLJBase/uKzAz/src/machines.jl:319\n",
      "\u001b[33mEvaluating over 6 folds: 100%[=========================] Time: 0:09:40\u001b[39m\n"
     ]
    },
    {
     "data": {
      "text/plain": [
       "┌\u001b[0m───────────\u001b[0m┬\u001b[0m───────────────\u001b[0m┬\u001b[0m────────────────────────────────────────────\u001b[0m┐\u001b[0m\n",
       "│\u001b[0m\u001b[22m _.measure \u001b[0m│\u001b[0m\u001b[22m _.measurement \u001b[0m│\u001b[0m\u001b[22m _.per_fold                                 \u001b[0m│\u001b[0m\n",
       "├\u001b[0m───────────\u001b[0m┼\u001b[0m───────────────\u001b[0m┼\u001b[0m────────────────────────────────────────────\u001b[0m┤\u001b[0m\n",
       "│\u001b[0m accuracy  \u001b[0m│\u001b[0m 0.81          \u001b[0m│\u001b[0m [0.825, 0.808, 0.833, 0.801, 0.774, 0.817] \u001b[0m│\u001b[0m\n",
       "└\u001b[0m───────────\u001b[0m┴\u001b[0m───────────────\u001b[0m┴\u001b[0m────────────────────────────────────────────\u001b[0m┘\u001b[0m\n",
       "_.per_observation = [missing]\n",
       "_.fitted_params_per_fold = [ … ]\n",
       "_.report_per_fold = [ … ]\n"
      ]
     },
     "execution_count": 39,
     "metadata": {},
     "output_type": "execute_result"
    }
   ],
   "source": [
    "best_linear_model = SVMClassifier(kernel=\"linear\", C = best_C)\n",
    "svm_mach = machine(best_linear_model, X_stand, y)\n",
    "lf = fit!(svm_mach, rows=train, verbosity=2)\n",
    "svm_acc = evaluate!(svm_mach, resampling=CV(shuffle=true), measure=[accuracy], \n",
    "                        verbosity=1)"
   ]
  },
  {
   "cell_type": "code",
   "execution_count": 40,
   "metadata": {},
   "outputs": [
    {
     "name": "stderr",
     "output_type": "stream",
     "text": [
      "┌ Info: Training \u001b[34mMachine{SVMClassifier} @862\u001b[39m.\n",
      "└ @ MLJBase /home/andrew/.julia/packages/MLJBase/uKzAz/src/machines.jl:319\n",
      "\u001b[33mEvaluating over 6 folds: 100%[=========================] Time: 0:00:11\u001b[39m\n"
     ]
    },
    {
     "data": {
      "text/plain": [
       "┌\u001b[0m───────────\u001b[0m┬\u001b[0m───────────────\u001b[0m┬\u001b[0m───────────────────────────────────────────\u001b[0m┐\u001b[0m\n",
       "│\u001b[0m\u001b[22m _.measure \u001b[0m│\u001b[0m\u001b[22m _.measurement \u001b[0m│\u001b[0m\u001b[22m _.per_fold                                \u001b[0m│\u001b[0m\n",
       "├\u001b[0m───────────\u001b[0m┼\u001b[0m───────────────\u001b[0m┼\u001b[0m───────────────────────────────────────────\u001b[0m┤\u001b[0m\n",
       "│\u001b[0m accuracy  \u001b[0m│\u001b[0m 0.85          \u001b[0m│\u001b[0m [0.88, 0.827, 0.855, 0.827, 0.851, 0.859] \u001b[0m│\u001b[0m\n",
       "└\u001b[0m───────────\u001b[0m┴\u001b[0m───────────────\u001b[0m┴\u001b[0m───────────────────────────────────────────\u001b[0m┘\u001b[0m\n",
       "_.per_observation = [missing]\n",
       "_.fitted_params_per_fold = [ … ]\n",
       "_.report_per_fold = [ … ]\n"
      ]
     },
     "execution_count": 40,
     "metadata": {},
     "output_type": "execute_result"
    }
   ],
   "source": [
    "best_rbf_model = SVMClassifier(kernel=\"rbf\", C=best_rbf.best_model.C, gamma=best_rbf.best_model.gamma)\n",
    "svm_mach = machine(best_rbf_model, X_stand, y)\n",
    "fit!(svm_mach, rows=train, verbosity=2)\n",
    "svm_acc = evaluate!(svm_mach, resampling=CV(shuffle=true), measure=[accuracy], \n",
    "                        verbosity=1)"
   ]
  },
  {
   "cell_type": "markdown",
   "metadata": {},
   "source": [
    "### Learning Curves"
   ]
  },
  {
   "cell_type": "code",
   "execution_count": 41,
   "metadata": {
    "scrolled": true
   },
   "outputs": [
    {
     "name": "stdout",
     "output_type": "stream",
     "text": [
      "(d, train_metric, valid_metric) = (10, 1.0, 0.5686274509803921)\n",
      "(d, train_metric, valid_metric) = (60, 1.0, 0.5901960784313726)\n",
      "(d, train_metric, valid_metric) = (110, 1.0, 0.6529411764705882)\n",
      "(d, train_metric, valid_metric) = (160, 1.0, 0.7039215686274509)\n",
      "(d, train_metric, valid_metric) = (210, 1.0, 0.7078431372549019)\n",
      "(d, train_metric, valid_metric) = (260, 1.0, 0.7078431372549019)\n",
      "(d, train_metric, valid_metric) = (310, 0.9774193548387097, 0.6784313725490196)\n",
      "(d, train_metric, valid_metric) = (360, 0.9638888888888889, 0.692156862745098)\n",
      "(d, train_metric, valid_metric) = (410, 0.9585365853658536, 0.6941176470588235)\n",
      "(d, train_metric, valid_metric) = (460, 0.9565217391304348, 0.711764705882353)\n",
      "(d, train_metric, valid_metric) = (510, 0.9352941176470588, 0.7274509803921569)\n",
      "(d, train_metric, valid_metric) = (560, 0.9232142857142858, 0.7235294117647059)\n",
      "(d, train_metric, valid_metric) = (610, 0.9016393442622951, 0.7392156862745098)\n",
      "(d, train_metric, valid_metric) = (660, 0.906060606060606, 0.7372549019607844)\n",
      "(d, train_metric, valid_metric) = (710, 0.895774647887324, 0.7411764705882353)\n",
      "(d, train_metric, valid_metric) = (760, 0.8934210526315789, 0.7392156862745098)\n",
      "(d, train_metric, valid_metric) = (810, 0.8901234567901235, 0.7647058823529411)\n",
      "(d, train_metric, valid_metric) = (860, 0.891860465116279, 0.7784313725490196)\n",
      "(d, train_metric, valid_metric) = (910, 0.8868131868131868, 0.7686274509803921)\n",
      "(d, train_metric, valid_metric) = (960, 0.8760416666666666, 0.7823529411764706)\n",
      "(d, train_metric, valid_metric) = (1010, 0.8792079207920792, 0.7941176470588236)\n",
      "(d, train_metric, valid_metric) = (1060, 0.8669811320754717, 0.7901960784313725)\n",
      "(d, train_metric, valid_metric) = (1110, 0.8684684684684685, 0.7941176470588236)\n",
      "(d, train_metric, valid_metric) = (1160, 0.8732758620689656, 0.7960784313725491)\n",
      "(d, train_metric, valid_metric) = (1210, 0.8652892561983471, 0.788235294117647)\n",
      "(d, train_metric, valid_metric) = (1260, 0.8603174603174604, 0.7745098039215687)\n",
      "(d, train_metric, valid_metric) = (1310, 0.8580152671755725, 0.7745098039215687)\n",
      "(d, train_metric, valid_metric) = (1360, 0.861764705882353, 0.7784313725490196)\n",
      "(d, train_metric, valid_metric) = (1410, 0.8531914893617021, 0.788235294117647)\n",
      "(d, train_metric, valid_metric) = (1460, 0.85, 0.788235294117647)\n",
      "(d, train_metric, valid_metric) = (1510, 0.8490066225165562, 0.788235294117647)\n",
      "(d, train_metric, valid_metric) = (1560, 0.8467948717948718, 0.8058823529411765)\n",
      "(d, train_metric, valid_metric) = (1610, 0.8490683229813665, 0.8)\n",
      "(d, train_metric, valid_metric) = (1660, 0.8560240963855421, 0.7862745098039216)\n",
      "(d, train_metric, valid_metric) = (1710, 0.8526315789473684, 0.792156862745098)\n",
      "(d, train_metric, valid_metric) = (1760, 0.8522727272727273, 0.7941176470588236)\n",
      "(d, train_metric, valid_metric) = (1810, 0.8475138121546961, 0.792156862745098)\n",
      "(d, train_metric, valid_metric) = (1860, 0.8473118279569892, 0.7980392156862746)\n",
      "(d, train_metric, valid_metric) = (1910, 0.8492146596858638, 0.7901960784313725)\n",
      "(d, train_metric, valid_metric) = (1960, 0.8474489795918367, 0.7941176470588236)\n",
      "(d, train_metric, valid_metric) = (2010, 0.8487562189054727, 0.792156862745098)\n"
     ]
    },
    {
     "data": {
      "text/plain": [
       "(10:50:2010, Any[1.0, 1.0, 1.0, 1.0, 1.0, 1.0, 0.9774193548387097, 0.9638888888888889, 0.9585365853658536, 0.9565217391304348  …  0.8467948717948718, 0.8490683229813665, 0.8560240963855421, 0.8526315789473684, 0.8522727272727273, 0.8475138121546961, 0.8473118279569892, 0.8492146596858638, 0.8474489795918367, 0.8487562189054727], Any[0.5686274509803921, 0.5901960784313726, 0.6529411764705882, 0.7039215686274509, 0.7078431372549019, 0.7078431372549019, 0.6784313725490196, 0.692156862745098, 0.6941176470588235, 0.711764705882353  …  0.8058823529411765, 0.8, 0.7862745098039216, 0.792156862745098, 0.7941176470588236, 0.792156862745098, 0.7980392156862746, 0.7901960784313725, 0.7941176470588236, 0.792156862745098])"
      ]
     },
     "execution_count": 41,
     "metadata": {},
     "output_type": "execute_result"
    }
   ],
   "source": [
    "data_schedule, training_losses, valid_losses = learn_curve(best_linear_model, X_stand[train,:], y[train], step=50)"
   ]
  },
  {
   "cell_type": "code",
   "execution_count": 42,
   "metadata": {
    "scrolled": false
   },
   "outputs": [
    {
     "data": {
      "image/svg+xml": [
       "<?xml version=\"1.0\" encoding=\"utf-8\"?>\n",
       "<svg xmlns=\"http://www.w3.org/2000/svg\" xmlns:xlink=\"http://www.w3.org/1999/xlink\" width=\"600\" height=\"400\" viewBox=\"0 0 2400 1600\">\n",
       "<defs>\n",
       "  <clipPath id=\"clip460\">\n",
       "    <rect x=\"0\" y=\"0\" width=\"2400\" height=\"1600\"/>\n",
       "  </clipPath>\n",
       "</defs>\n",
       "<path clip-path=\"url(#clip460)\" d=\"\n",
       "M0 1600 L2400 1600 L2400 0 L0 0  Z\n",
       "  \" fill=\"#ffffff\" fill-rule=\"evenodd\" fill-opacity=\"1\"/>\n",
       "<defs>\n",
       "  <clipPath id=\"clip461\">\n",
       "    <rect x=\"480\" y=\"0\" width=\"1681\" height=\"1600\"/>\n",
       "  </clipPath>\n",
       "</defs>\n",
       "<path clip-path=\"url(#clip460)\" d=\"\n",
       "M148.01 1486.45 L2352.76 1486.45 L2352.76 47.2441 L148.01 47.2441  Z\n",
       "  \" fill=\"#ffffff\" fill-rule=\"evenodd\" fill-opacity=\"1\"/>\n",
       "<defs>\n",
       "  <clipPath id=\"clip462\">\n",
       "    <rect x=\"148\" y=\"47\" width=\"2206\" height=\"1440\"/>\n",
       "  </clipPath>\n",
       "</defs>\n",
       "<polyline clip-path=\"url(#clip462)\" style=\"stroke:#000000; stroke-width:2; stroke-opacity:0.1; fill:none\" points=\"\n",
       "  200.009,1486.45 200.009,47.2441 \n",
       "  \"/>\n",
       "<polyline clip-path=\"url(#clip462)\" style=\"stroke:#000000; stroke-width:2; stroke-opacity:0.1; fill:none\" points=\"\n",
       "  719.996,1486.45 719.996,47.2441 \n",
       "  \"/>\n",
       "<polyline clip-path=\"url(#clip462)\" style=\"stroke:#000000; stroke-width:2; stroke-opacity:0.1; fill:none\" points=\"\n",
       "  1239.98,1486.45 1239.98,47.2441 \n",
       "  \"/>\n",
       "<polyline clip-path=\"url(#clip462)\" style=\"stroke:#000000; stroke-width:2; stroke-opacity:0.1; fill:none\" points=\"\n",
       "  1759.97,1486.45 1759.97,47.2441 \n",
       "  \"/>\n",
       "<polyline clip-path=\"url(#clip462)\" style=\"stroke:#000000; stroke-width:2; stroke-opacity:0.1; fill:none\" points=\"\n",
       "  2279.96,1486.45 2279.96,47.2441 \n",
       "  \"/>\n",
       "<polyline clip-path=\"url(#clip462)\" style=\"stroke:#000000; stroke-width:2; stroke-opacity:0.1; fill:none\" points=\"\n",
       "  148.01,1346.97 2352.76,1346.97 \n",
       "  \"/>\n",
       "<polyline clip-path=\"url(#clip462)\" style=\"stroke:#000000; stroke-width:2; stroke-opacity:0.1; fill:none\" points=\"\n",
       "  148.01,1032.22 2352.76,1032.22 \n",
       "  \"/>\n",
       "<polyline clip-path=\"url(#clip462)\" style=\"stroke:#000000; stroke-width:2; stroke-opacity:0.1; fill:none\" points=\"\n",
       "  148.01,717.474 2352.76,717.474 \n",
       "  \"/>\n",
       "<polyline clip-path=\"url(#clip462)\" style=\"stroke:#000000; stroke-width:2; stroke-opacity:0.1; fill:none\" points=\"\n",
       "  148.01,402.725 2352.76,402.725 \n",
       "  \"/>\n",
       "<polyline clip-path=\"url(#clip462)\" style=\"stroke:#000000; stroke-width:2; stroke-opacity:0.1; fill:none\" points=\"\n",
       "  148.01,87.9763 2352.76,87.9763 \n",
       "  \"/>\n",
       "<polyline clip-path=\"url(#clip460)\" style=\"stroke:#000000; stroke-width:4; stroke-opacity:1; fill:none\" points=\"\n",
       "  148.01,1486.45 2352.76,1486.45 \n",
       "  \"/>\n",
       "<polyline clip-path=\"url(#clip460)\" style=\"stroke:#000000; stroke-width:4; stroke-opacity:1; fill:none\" points=\"\n",
       "  148.01,1486.45 148.01,47.2441 \n",
       "  \"/>\n",
       "<polyline clip-path=\"url(#clip460)\" style=\"stroke:#000000; stroke-width:4; stroke-opacity:1; fill:none\" points=\"\n",
       "  200.009,1486.45 200.009,1469.18 \n",
       "  \"/>\n",
       "<polyline clip-path=\"url(#clip460)\" style=\"stroke:#000000; stroke-width:4; stroke-opacity:1; fill:none\" points=\"\n",
       "  719.996,1486.45 719.996,1469.18 \n",
       "  \"/>\n",
       "<polyline clip-path=\"url(#clip460)\" style=\"stroke:#000000; stroke-width:4; stroke-opacity:1; fill:none\" points=\"\n",
       "  1239.98,1486.45 1239.98,1469.18 \n",
       "  \"/>\n",
       "<polyline clip-path=\"url(#clip460)\" style=\"stroke:#000000; stroke-width:4; stroke-opacity:1; fill:none\" points=\"\n",
       "  1759.97,1486.45 1759.97,1469.18 \n",
       "  \"/>\n",
       "<polyline clip-path=\"url(#clip460)\" style=\"stroke:#000000; stroke-width:4; stroke-opacity:1; fill:none\" points=\"\n",
       "  2279.96,1486.45 2279.96,1469.18 \n",
       "  \"/>\n",
       "<polyline clip-path=\"url(#clip460)\" style=\"stroke:#000000; stroke-width:4; stroke-opacity:1; fill:none\" points=\"\n",
       "  148.01,1346.97 174.467,1346.97 \n",
       "  \"/>\n",
       "<polyline clip-path=\"url(#clip460)\" style=\"stroke:#000000; stroke-width:4; stroke-opacity:1; fill:none\" points=\"\n",
       "  148.01,1032.22 174.467,1032.22 \n",
       "  \"/>\n",
       "<polyline clip-path=\"url(#clip460)\" style=\"stroke:#000000; stroke-width:4; stroke-opacity:1; fill:none\" points=\"\n",
       "  148.01,717.474 174.467,717.474 \n",
       "  \"/>\n",
       "<polyline clip-path=\"url(#clip460)\" style=\"stroke:#000000; stroke-width:4; stroke-opacity:1; fill:none\" points=\"\n",
       "  148.01,402.725 174.467,402.725 \n",
       "  \"/>\n",
       "<polyline clip-path=\"url(#clip460)\" style=\"stroke:#000000; stroke-width:4; stroke-opacity:1; fill:none\" points=\"\n",
       "  148.01,87.9763 174.467,87.9763 \n",
       "  \"/>\n",
       "<path clip-path=\"url(#clip460)\" d=\"M 0 0 M200.009 1508.44 Q196.398 1508.44 194.569 1512 Q192.764 1515.55 192.764 1522.67 Q192.764 1529.78 194.569 1533.35 Q196.398 1536.89 200.009 1536.89 Q203.643 1536.89 205.449 1533.35 Q207.278 1529.78 207.278 1522.67 Q207.278 1515.55 205.449 1512 Q203.643 1508.44 200.009 1508.44 M200.009 1504.73 Q205.819 1504.73 208.875 1509.34 Q211.953 1513.92 211.953 1522.67 Q211.953 1531.4 208.875 1536.01 Q205.819 1540.59 200.009 1540.59 Q194.199 1540.59 191.12 1536.01 Q188.065 1531.4 188.065 1522.67 Q188.065 1513.92 191.12 1509.34 Q194.199 1504.73 200.009 1504.73 Z\" fill=\"#000000\" fill-rule=\"evenodd\" fill-opacity=\"1\" /><path clip-path=\"url(#clip460)\" d=\"M 0 0 M683.26 1505.36 L701.617 1505.36 L701.617 1509.3 L687.543 1509.3 L687.543 1517.77 Q688.561 1517.42 689.58 1517.26 Q690.598 1517.07 691.617 1517.07 Q697.404 1517.07 700.783 1520.24 Q704.163 1523.42 704.163 1528.83 Q704.163 1534.41 700.691 1537.51 Q697.219 1540.59 690.899 1540.59 Q688.723 1540.59 686.455 1540.22 Q684.209 1539.85 681.802 1539.11 L681.802 1534.41 Q683.885 1535.54 686.107 1536.1 Q688.33 1536.66 690.807 1536.66 Q694.811 1536.66 697.149 1534.55 Q699.487 1532.44 699.487 1528.83 Q699.487 1525.22 697.149 1523.11 Q694.811 1521.01 690.807 1521.01 Q688.932 1521.01 687.057 1521.42 Q685.205 1521.84 683.26 1522.72 L683.26 1505.36 Z\" fill=\"#000000\" fill-rule=\"evenodd\" fill-opacity=\"1\" /><path clip-path=\"url(#clip460)\" d=\"M 0 0 M719.232 1508.44 Q715.621 1508.44 713.793 1512 Q711.987 1515.55 711.987 1522.67 Q711.987 1529.78 713.793 1533.35 Q715.621 1536.89 719.232 1536.89 Q722.867 1536.89 724.672 1533.35 Q726.501 1529.78 726.501 1522.67 Q726.501 1515.55 724.672 1512 Q722.867 1508.44 719.232 1508.44 M719.232 1504.73 Q725.042 1504.73 728.098 1509.34 Q731.177 1513.92 731.177 1522.67 Q731.177 1531.4 728.098 1536.01 Q725.042 1540.59 719.232 1540.59 Q713.422 1540.59 710.343 1536.01 Q707.288 1531.4 707.288 1522.67 Q707.288 1513.92 710.343 1509.34 Q713.422 1504.73 719.232 1504.73 Z\" fill=\"#000000\" fill-rule=\"evenodd\" fill-opacity=\"1\" /><path clip-path=\"url(#clip460)\" d=\"M 0 0 M746.246 1508.44 Q742.635 1508.44 740.806 1512 Q739.001 1515.55 739.001 1522.67 Q739.001 1529.78 740.806 1533.35 Q742.635 1536.89 746.246 1536.89 Q749.88 1536.89 751.686 1533.35 Q753.515 1529.78 753.515 1522.67 Q753.515 1515.55 751.686 1512 Q749.88 1508.44 746.246 1508.44 M746.246 1504.73 Q752.056 1504.73 755.112 1509.34 Q758.19 1513.92 758.19 1522.67 Q758.19 1531.4 755.112 1536.01 Q752.056 1540.59 746.246 1540.59 Q740.436 1540.59 737.357 1536.01 Q734.302 1531.4 734.302 1522.67 Q734.302 1513.92 737.357 1509.34 Q740.436 1504.73 746.246 1504.73 Z\" fill=\"#000000\" fill-rule=\"evenodd\" fill-opacity=\"1\" /><path clip-path=\"url(#clip460)\" d=\"M 0 0 M1189.84 1535.98 L1197.48 1535.98 L1197.48 1509.62 L1189.17 1511.29 L1189.17 1507.03 L1197.44 1505.36 L1202.11 1505.36 L1202.11 1535.98 L1209.75 1535.98 L1209.75 1539.92 L1189.84 1539.92 L1189.84 1535.98 Z\" fill=\"#000000\" fill-rule=\"evenodd\" fill-opacity=\"1\" /><path clip-path=\"url(#clip460)\" d=\"M 0 0 M1224.82 1508.44 Q1221.21 1508.44 1219.38 1512 Q1217.58 1515.55 1217.58 1522.67 Q1217.58 1529.78 1219.38 1533.35 Q1221.21 1536.89 1224.82 1536.89 Q1228.46 1536.89 1230.26 1533.35 Q1232.09 1529.78 1232.09 1522.67 Q1232.09 1515.55 1230.26 1512 Q1228.46 1508.44 1224.82 1508.44 M1224.82 1504.73 Q1230.63 1504.73 1233.69 1509.34 Q1236.77 1513.92 1236.77 1522.67 Q1236.77 1531.4 1233.69 1536.01 Q1230.63 1540.59 1224.82 1540.59 Q1219.01 1540.59 1215.93 1536.01 Q1212.88 1531.4 1212.88 1522.67 Q1212.88 1513.92 1215.93 1509.34 Q1219.01 1504.73 1224.82 1504.73 Z\" fill=\"#000000\" fill-rule=\"evenodd\" fill-opacity=\"1\" /><path clip-path=\"url(#clip460)\" d=\"M 0 0 M1251.84 1508.44 Q1248.22 1508.44 1246.4 1512 Q1244.59 1515.55 1244.59 1522.67 Q1244.59 1529.78 1246.4 1533.35 Q1248.22 1536.89 1251.84 1536.89 Q1255.47 1536.89 1257.27 1533.35 Q1259.1 1529.78 1259.1 1522.67 Q1259.1 1515.55 1257.27 1512 Q1255.47 1508.44 1251.84 1508.44 M1251.84 1504.73 Q1257.65 1504.73 1260.7 1509.34 Q1263.78 1513.92 1263.78 1522.67 Q1263.78 1531.4 1260.7 1536.01 Q1257.65 1540.59 1251.84 1540.59 Q1246.03 1540.59 1242.95 1536.01 Q1239.89 1531.4 1239.89 1522.67 Q1239.89 1513.92 1242.95 1509.34 Q1246.03 1504.73 1251.84 1504.73 Z\" fill=\"#000000\" fill-rule=\"evenodd\" fill-opacity=\"1\" /><path clip-path=\"url(#clip460)\" d=\"M 0 0 M1278.85 1508.44 Q1275.24 1508.44 1273.41 1512 Q1271.6 1515.55 1271.6 1522.67 Q1271.6 1529.78 1273.41 1533.35 Q1275.24 1536.89 1278.85 1536.89 Q1282.48 1536.89 1284.29 1533.35 Q1286.12 1529.78 1286.12 1522.67 Q1286.12 1515.55 1284.29 1512 Q1282.48 1508.44 1278.85 1508.44 M1278.85 1504.73 Q1284.66 1504.73 1287.71 1509.34 Q1290.79 1513.92 1290.79 1522.67 Q1290.79 1531.4 1287.71 1536.01 Q1284.66 1540.59 1278.85 1540.59 Q1273.04 1540.59 1269.96 1536.01 Q1266.9 1531.4 1266.9 1522.67 Q1266.9 1513.92 1269.96 1509.34 Q1273.04 1504.73 1278.85 1504.73 Z\" fill=\"#000000\" fill-rule=\"evenodd\" fill-opacity=\"1\" /><path clip-path=\"url(#clip460)\" d=\"M 0 0 M1710.33 1535.98 L1717.97 1535.98 L1717.97 1509.62 L1709.66 1511.29 L1709.66 1507.03 L1717.92 1505.36 L1722.6 1505.36 L1722.6 1535.98 L1730.24 1535.98 L1730.24 1539.92 L1710.33 1539.92 L1710.33 1535.98 Z\" fill=\"#000000\" fill-rule=\"evenodd\" fill-opacity=\"1\" /><path clip-path=\"url(#clip460)\" d=\"M 0 0 M1735.35 1505.36 L1753.71 1505.36 L1753.71 1509.3 L1739.63 1509.3 L1739.63 1517.77 Q1740.65 1517.42 1741.67 1517.26 Q1742.69 1517.07 1743.71 1517.07 Q1749.5 1517.07 1752.88 1520.24 Q1756.26 1523.42 1756.26 1528.83 Q1756.26 1534.41 1752.78 1537.51 Q1749.31 1540.59 1742.99 1540.59 Q1740.82 1540.59 1738.55 1540.22 Q1736.3 1539.85 1733.89 1539.11 L1733.89 1534.41 Q1735.98 1535.54 1738.2 1536.1 Q1740.42 1536.66 1742.9 1536.66 Q1746.9 1536.66 1749.24 1534.55 Q1751.58 1532.44 1751.58 1528.83 Q1751.58 1525.22 1749.24 1523.11 Q1746.9 1521.01 1742.9 1521.01 Q1741.02 1521.01 1739.15 1521.42 Q1737.3 1521.84 1735.35 1522.72 L1735.35 1505.36 Z\" fill=\"#000000\" fill-rule=\"evenodd\" fill-opacity=\"1\" /><path clip-path=\"url(#clip460)\" d=\"M 0 0 M1771.32 1508.44 Q1767.71 1508.44 1765.88 1512 Q1764.08 1515.55 1764.08 1522.67 Q1764.08 1529.78 1765.88 1533.35 Q1767.71 1536.89 1771.32 1536.89 Q1774.96 1536.89 1776.76 1533.35 Q1778.59 1529.78 1778.59 1522.67 Q1778.59 1515.55 1776.76 1512 Q1774.96 1508.44 1771.32 1508.44 M1771.32 1504.73 Q1777.13 1504.73 1780.19 1509.34 Q1783.27 1513.92 1783.27 1522.67 Q1783.27 1531.4 1780.19 1536.01 Q1777.13 1540.59 1771.32 1540.59 Q1765.51 1540.59 1762.44 1536.01 Q1759.38 1531.4 1759.38 1522.67 Q1759.38 1513.92 1762.44 1509.34 Q1765.51 1504.73 1771.32 1504.73 Z\" fill=\"#000000\" fill-rule=\"evenodd\" fill-opacity=\"1\" /><path clip-path=\"url(#clip460)\" d=\"M 0 0 M1798.34 1508.44 Q1794.73 1508.44 1792.9 1512 Q1791.09 1515.55 1791.09 1522.67 Q1791.09 1529.78 1792.9 1533.35 Q1794.73 1536.89 1798.34 1536.89 Q1801.97 1536.89 1803.78 1533.35 Q1805.61 1529.78 1805.61 1522.67 Q1805.61 1515.55 1803.78 1512 Q1801.97 1508.44 1798.34 1508.44 M1798.34 1504.73 Q1804.15 1504.73 1807.2 1509.34 Q1810.28 1513.92 1810.28 1522.67 Q1810.28 1531.4 1807.2 1536.01 Q1804.15 1540.59 1798.34 1540.59 Q1792.53 1540.59 1789.45 1536.01 Q1786.39 1531.4 1786.39 1522.67 Q1786.39 1513.92 1789.45 1509.34 Q1792.53 1504.73 1798.34 1504.73 Z\" fill=\"#000000\" fill-rule=\"evenodd\" fill-opacity=\"1\" /><path clip-path=\"url(#clip460)\" d=\"M 0 0 M2234.09 1535.98 L2250.41 1535.98 L2250.41 1539.92 L2228.46 1539.92 L2228.46 1535.98 Q2231.13 1533.23 2235.71 1528.6 Q2240.32 1523.95 2241.5 1522.61 Q2243.74 1520.08 2244.62 1518.35 Q2245.53 1516.59 2245.53 1514.9 Q2245.53 1512.14 2243.58 1510.41 Q2241.66 1508.67 2238.56 1508.67 Q2236.36 1508.67 2233.9 1509.43 Q2231.47 1510.2 2228.7 1511.75 L2228.7 1507.03 Q2231.52 1505.89 2233.97 1505.31 Q2236.43 1504.73 2238.46 1504.73 Q2243.84 1504.73 2247.03 1507.42 Q2250.22 1510.11 2250.22 1514.6 Q2250.22 1516.73 2249.41 1518.65 Q2248.63 1520.54 2246.52 1523.14 Q2245.94 1523.81 2242.84 1527.03 Q2239.74 1530.22 2234.09 1535.98 Z\" fill=\"#000000\" fill-rule=\"evenodd\" fill-opacity=\"1\" /><path clip-path=\"url(#clip460)\" d=\"M 0 0 M2265.48 1508.44 Q2261.87 1508.44 2260.04 1512 Q2258.23 1515.55 2258.23 1522.67 Q2258.23 1529.78 2260.04 1533.35 Q2261.87 1536.89 2265.48 1536.89 Q2269.11 1536.89 2270.92 1533.35 Q2272.75 1529.78 2272.75 1522.67 Q2272.75 1515.55 2270.92 1512 Q2269.11 1508.44 2265.48 1508.44 M2265.48 1504.73 Q2271.29 1504.73 2274.34 1509.34 Q2277.42 1513.92 2277.42 1522.67 Q2277.42 1531.4 2274.34 1536.01 Q2271.29 1540.59 2265.48 1540.59 Q2259.67 1540.59 2256.59 1536.01 Q2253.53 1531.4 2253.53 1522.67 Q2253.53 1513.92 2256.59 1509.34 Q2259.67 1504.73 2265.48 1504.73 Z\" fill=\"#000000\" fill-rule=\"evenodd\" fill-opacity=\"1\" /><path clip-path=\"url(#clip460)\" d=\"M 0 0 M2292.49 1508.44 Q2288.88 1508.44 2287.05 1512 Q2285.25 1515.55 2285.25 1522.67 Q2285.25 1529.78 2287.05 1533.35 Q2288.88 1536.89 2292.49 1536.89 Q2296.13 1536.89 2297.93 1533.35 Q2299.76 1529.78 2299.76 1522.67 Q2299.76 1515.55 2297.93 1512 Q2296.13 1508.44 2292.49 1508.44 M2292.49 1504.73 Q2298.3 1504.73 2301.36 1509.34 Q2304.44 1513.92 2304.44 1522.67 Q2304.44 1531.4 2301.36 1536.01 Q2298.3 1540.59 2292.49 1540.59 Q2286.68 1540.59 2283.6 1536.01 Q2280.55 1531.4 2280.55 1522.67 Q2280.55 1513.92 2283.6 1509.34 Q2286.68 1504.73 2292.49 1504.73 Z\" fill=\"#000000\" fill-rule=\"evenodd\" fill-opacity=\"1\" /><path clip-path=\"url(#clip460)\" d=\"M 0 0 M2319.51 1508.44 Q2315.9 1508.44 2314.07 1512 Q2312.26 1515.55 2312.26 1522.67 Q2312.26 1529.78 2314.07 1533.35 Q2315.9 1536.89 2319.51 1536.89 Q2323.14 1536.89 2324.95 1533.35 Q2326.77 1529.78 2326.77 1522.67 Q2326.77 1515.55 2324.95 1512 Q2323.14 1508.44 2319.51 1508.44 M2319.51 1504.73 Q2325.32 1504.73 2328.37 1509.34 Q2331.45 1513.92 2331.45 1522.67 Q2331.45 1531.4 2328.37 1536.01 Q2325.32 1540.59 2319.51 1540.59 Q2313.7 1540.59 2310.62 1536.01 Q2307.56 1531.4 2307.56 1522.67 Q2307.56 1513.92 2310.62 1509.34 Q2313.7 1504.73 2319.51 1504.73 Z\" fill=\"#000000\" fill-rule=\"evenodd\" fill-opacity=\"1\" /><path clip-path=\"url(#clip460)\" d=\"M 0 0 M74.9365 1332.77 Q71.3254 1332.77 69.4967 1336.33 Q67.6912 1339.88 67.6912 1347.01 Q67.6912 1354.11 69.4967 1357.68 Q71.3254 1361.22 74.9365 1361.22 Q78.5707 1361.22 80.3763 1357.68 Q82.205 1354.11 82.205 1347.01 Q82.205 1339.88 80.3763 1336.33 Q78.5707 1332.77 74.9365 1332.77 M74.9365 1329.07 Q80.7467 1329.07 83.8022 1333.67 Q86.8809 1338.26 86.8809 1347.01 Q86.8809 1355.73 83.8022 1360.34 Q80.7467 1364.92 74.9365 1364.92 Q69.1264 1364.92 66.0477 1360.34 Q62.9921 1355.73 62.9921 1347.01 Q62.9921 1338.26 66.0477 1333.67 Q69.1264 1329.07 74.9365 1329.07 Z\" fill=\"#000000\" fill-rule=\"evenodd\" fill-opacity=\"1\" /><path clip-path=\"url(#clip460)\" d=\"M 0 0 M91.9503 1358.37 L96.8345 1358.37 L96.8345 1364.25 L91.9503 1364.25 L91.9503 1358.37 Z\" fill=\"#000000\" fill-rule=\"evenodd\" fill-opacity=\"1\" /><path clip-path=\"url(#clip460)\" d=\"M 0 0 M112.483 1345.11 Q109.334 1345.11 107.483 1347.26 Q105.654 1349.41 105.654 1353.16 Q105.654 1356.89 107.483 1359.07 Q109.334 1361.22 112.483 1361.22 Q115.631 1361.22 117.459 1359.07 Q119.311 1356.89 119.311 1353.16 Q119.311 1349.41 117.459 1347.26 Q115.631 1345.11 112.483 1345.11 M121.765 1330.45 L121.765 1334.71 Q120.006 1333.88 118.2 1333.44 Q116.418 1333 114.659 1333 Q110.029 1333 107.575 1336.13 Q105.145 1339.25 104.797 1345.57 Q106.163 1343.56 108.223 1342.49 Q110.284 1341.4 112.76 1341.4 Q117.969 1341.4 120.978 1344.58 Q124.01 1347.72 124.01 1353.16 Q124.01 1358.49 120.862 1361.7 Q117.714 1364.92 112.483 1364.92 Q106.487 1364.92 103.316 1360.34 Q100.145 1355.73 100.145 1347.01 Q100.145 1338.81 104.034 1333.95 Q107.922 1329.07 114.473 1329.07 Q116.233 1329.07 118.015 1329.41 Q119.821 1329.76 121.765 1330.45 Z\" fill=\"#000000\" fill-rule=\"evenodd\" fill-opacity=\"1\" /><path clip-path=\"url(#clip460)\" d=\"M 0 0 M76.0013 1018.02 Q72.3902 1018.02 70.5615 1021.59 Q68.756 1025.13 68.756 1032.26 Q68.756 1039.36 70.5615 1042.93 Q72.3902 1046.47 76.0013 1046.47 Q79.6356 1046.47 81.4411 1042.93 Q83.2698 1039.36 83.2698 1032.26 Q83.2698 1025.13 81.4411 1021.59 Q79.6356 1018.02 76.0013 1018.02 M76.0013 1014.32 Q81.8115 1014.32 84.867 1018.92 Q87.9457 1023.51 87.9457 1032.26 Q87.9457 1040.98 84.867 1045.59 Q81.8115 1050.17 76.0013 1050.17 Q70.1912 1050.17 67.1125 1045.59 Q64.0569 1040.98 64.0569 1032.26 Q64.0569 1023.51 67.1125 1018.92 Q70.1912 1014.32 76.0013 1014.32 Z\" fill=\"#000000\" fill-rule=\"evenodd\" fill-opacity=\"1\" /><path clip-path=\"url(#clip460)\" d=\"M 0 0 M93.0151 1043.62 L97.8993 1043.62 L97.8993 1049.5 L93.0151 1049.5 L93.0151 1043.62 Z\" fill=\"#000000\" fill-rule=\"evenodd\" fill-opacity=\"1\" /><path clip-path=\"url(#clip460)\" d=\"M 0 0 M101.788 1014.94 L124.01 1014.94 L124.01 1016.93 L111.464 1049.5 L106.58 1049.5 L118.385 1018.88 L101.788 1018.88 L101.788 1014.94 Z\" fill=\"#000000\" fill-rule=\"evenodd\" fill-opacity=\"1\" /><path clip-path=\"url(#clip460)\" d=\"M 0 0 M75.1911 703.272 Q71.58 703.272 69.7513 706.837 Q67.9458 710.379 67.9458 717.508 Q67.9458 724.615 69.7513 728.18 Q71.58 731.721 75.1911 731.721 Q78.8254 731.721 80.6309 728.18 Q82.4596 724.615 82.4596 717.508 Q82.4596 710.379 80.6309 706.837 Q78.8254 703.272 75.1911 703.272 M75.1911 699.569 Q81.0013 699.569 84.0568 704.175 Q87.1355 708.758 87.1355 717.508 Q87.1355 726.235 84.0568 730.842 Q81.0013 735.425 75.1911 735.425 Q69.381 735.425 66.3023 730.842 Q63.2468 726.235 63.2468 717.508 Q63.2468 708.758 66.3023 704.175 Q69.381 699.569 75.1911 699.569 Z\" fill=\"#000000\" fill-rule=\"evenodd\" fill-opacity=\"1\" /><path clip-path=\"url(#clip460)\" d=\"M 0 0 M92.2049 728.874 L97.0892 728.874 L97.0892 734.754 L92.2049 734.754 L92.2049 728.874 Z\" fill=\"#000000\" fill-rule=\"evenodd\" fill-opacity=\"1\" /><path clip-path=\"url(#clip460)\" d=\"M 0 0 M112.159 718.342 Q108.825 718.342 106.904 720.124 Q105.006 721.906 105.006 725.031 Q105.006 728.156 106.904 729.939 Q108.825 731.721 112.159 731.721 Q115.492 731.721 117.413 729.939 Q119.334 728.133 119.334 725.031 Q119.334 721.906 117.413 720.124 Q115.515 718.342 112.159 718.342 M107.483 716.351 Q104.473 715.61 102.784 713.55 Q101.117 711.49 101.117 708.527 Q101.117 704.383 104.057 701.976 Q107.02 699.569 112.159 699.569 Q117.321 699.569 120.26 701.976 Q123.2 704.383 123.2 708.527 Q123.2 711.49 121.51 713.55 Q119.844 715.61 116.858 716.351 Q120.237 717.138 122.112 719.43 Q124.01 721.721 124.01 725.031 Q124.01 730.055 120.932 732.74 Q117.876 735.425 112.159 735.425 Q106.441 735.425 103.362 732.74 Q100.307 730.055 100.307 725.031 Q100.307 721.721 102.205 719.43 Q104.103 717.138 107.483 716.351 M105.77 708.967 Q105.77 711.652 107.436 713.157 Q109.126 714.661 112.159 714.661 Q115.168 714.661 116.858 713.157 Q118.571 711.652 118.571 708.967 Q118.571 706.282 116.858 704.777 Q115.168 703.272 112.159 703.272 Q109.126 703.272 107.436 704.777 Q105.77 706.282 105.77 708.967 Z\" fill=\"#000000\" fill-rule=\"evenodd\" fill-opacity=\"1\" /><path clip-path=\"url(#clip460)\" d=\"M 0 0 M75.2837 388.524 Q71.6726 388.524 69.8439 392.088 Q68.0384 395.63 68.0384 402.76 Q68.0384 409.866 69.8439 413.431 Q71.6726 416.973 75.2837 416.973 Q78.918 416.973 80.7235 413.431 Q82.5522 409.866 82.5522 402.76 Q82.5522 395.63 80.7235 392.088 Q78.918 388.524 75.2837 388.524 M75.2837 384.82 Q81.0939 384.82 84.1494 389.426 Q87.2281 394.01 87.2281 402.76 Q87.2281 411.486 84.1494 416.093 Q81.0939 420.676 75.2837 420.676 Q69.4736 420.676 66.3949 416.093 Q63.3393 411.486 63.3393 402.76 Q63.3393 394.01 66.3949 389.426 Q69.4736 384.82 75.2837 384.82 Z\" fill=\"#000000\" fill-rule=\"evenodd\" fill-opacity=\"1\" /><path clip-path=\"url(#clip460)\" d=\"M 0 0 M92.2975 414.125 L97.1818 414.125 L97.1818 420.005 L92.2975 420.005 L92.2975 414.125 Z\" fill=\"#000000\" fill-rule=\"evenodd\" fill-opacity=\"1\" /><path clip-path=\"url(#clip460)\" d=\"M 0 0 M102.39 419.287 L102.39 415.028 Q104.149 415.861 105.955 416.301 Q107.76 416.741 109.497 416.741 Q114.126 416.741 116.557 413.639 Q119.01 410.514 119.358 404.172 Q118.015 406.162 115.955 407.227 Q113.895 408.292 111.395 408.292 Q106.209 408.292 103.177 405.167 Q100.168 402.019 100.168 396.579 Q100.168 391.255 103.316 388.038 Q106.464 384.82 111.696 384.82 Q117.691 384.82 120.839 389.426 Q124.01 394.01 124.01 402.76 Q124.01 410.931 120.121 415.815 Q116.256 420.676 109.705 420.676 Q107.946 420.676 106.14 420.329 Q104.334 419.982 102.39 419.287 M111.696 404.635 Q114.844 404.635 116.672 402.482 Q118.524 400.329 118.524 396.579 Q118.524 392.852 116.672 390.7 Q114.844 388.524 111.696 388.524 Q108.547 388.524 106.696 390.7 Q104.867 392.852 104.867 396.579 Q104.867 400.329 106.696 402.482 Q108.547 404.635 111.696 404.635 Z\" fill=\"#000000\" fill-rule=\"evenodd\" fill-opacity=\"1\" /><path clip-path=\"url(#clip460)\" d=\"M 0 0 M67.1356 101.321 L74.7745 101.321 L74.7745 74.9555 L66.4643 76.6222 L66.4643 72.3629 L74.7282 70.6963 L79.4041 70.6963 L79.4041 101.321 L87.0429 101.321 L87.0429 105.256 L67.1356 105.256 L67.1356 101.321 Z\" fill=\"#000000\" fill-rule=\"evenodd\" fill-opacity=\"1\" /><path clip-path=\"url(#clip460)\" d=\"M 0 0 M92.1123 99.3767 L96.9966 99.3767 L96.9966 105.256 L92.1123 105.256 L92.1123 99.3767 Z\" fill=\"#000000\" fill-rule=\"evenodd\" fill-opacity=\"1\" /><path clip-path=\"url(#clip460)\" d=\"M 0 0 M112.066 73.775 Q108.455 73.775 106.626 77.3398 Q104.821 80.8814 104.821 88.011 Q104.821 95.1174 106.626 98.6822 Q108.455 102.224 112.066 102.224 Q115.7 102.224 117.506 98.6822 Q119.334 95.1174 119.334 88.011 Q119.334 80.8814 117.506 77.3398 Q115.7 73.775 112.066 73.775 M112.066 70.0713 Q117.876 70.0713 120.932 74.6777 Q124.01 79.261 124.01 88.011 Q124.01 96.7378 120.932 101.344 Q117.876 105.928 112.066 105.928 Q106.256 105.928 103.177 101.344 Q100.122 96.7378 100.122 88.011 Q100.122 79.261 103.177 74.6777 Q106.256 70.0713 112.066 70.0713 Z\" fill=\"#000000\" fill-rule=\"evenodd\" fill-opacity=\"1\" /><polyline clip-path=\"url(#clip462)\" style=\"stroke:#009af9; stroke-width:4; stroke-opacity:1; fill:none\" points=\"\n",
       "  210.409,87.9763 262.407,87.9763 314.406,87.9763 366.405,87.9763 418.404,87.9763 470.402,87.9763 522.401,159.049 574.4,201.636 626.399,218.482 678.397,224.824 \n",
       "  730.396,291.637 782.395,329.658 834.393,397.565 886.392,383.649 938.391,416.024 990.39,423.432 1042.39,433.811 1094.39,428.344 1146.39,444.23 1198.38,478.133 \n",
       "  1250.38,468.168 1302.38,506.651 1354.38,501.97 1406.38,486.839 1458.38,511.977 1510.38,527.625 1562.38,534.871 1614.37,523.07 1666.37,550.054 1718.37,560.099 \n",
       "  1770.37,563.226 1822.37,570.187 1874.37,563.032 1926.37,541.139 1978.37,551.816 2030.36,552.946 2082.36,567.925 2134.36,568.56 2186.36,562.571 2238.36,568.129 \n",
       "  2290.36,564.014 \n",
       "  \"/>\n",
       "<polyline clip-path=\"url(#clip462)\" style=\"stroke:#e26f46; stroke-width:4; stroke-opacity:1; fill:none\" points=\"\n",
       "  210.409,1445.72 262.407,1377.83 314.406,1180.34 366.405,1019.88 418.404,1007.54 470.402,1007.54 522.401,1100.11 574.4,1056.91 626.399,1050.74 678.397,995.193 \n",
       "  730.396,945.821 782.395,958.164 834.393,908.791 886.392,914.963 938.391,902.62 990.39,908.791 1042.39,828.561 1094.39,785.361 1146.39,816.218 1198.38,773.018 \n",
       "  1250.38,735.988 1302.38,748.331 1354.38,735.988 1406.38,729.817 1458.38,754.503 1510.38,797.704 1562.38,797.704 1614.37,785.361 1666.37,754.503 1718.37,754.503 \n",
       "  1770.37,754.503 1822.37,698.959 1874.37,717.474 1926.37,760.674 1978.37,742.16 2030.36,735.988 2082.36,742.16 2134.36,723.645 2186.36,748.331 2238.36,735.988 \n",
       "  2290.36,742.16 \n",
       "  \"/>\n",
       "<path clip-path=\"url(#clip460)\" d=\"\n",
       "M1983.27 276.658 L2279.26 276.658 L2279.26 95.2176 L1983.27 95.2176  Z\n",
       "  \" fill=\"#ffffff\" fill-rule=\"evenodd\" fill-opacity=\"1\"/>\n",
       "<polyline clip-path=\"url(#clip460)\" style=\"stroke:#000000; stroke-width:4; stroke-opacity:1; fill:none\" points=\"\n",
       "  1983.27,276.658 2279.26,276.658 2279.26,95.2176 1983.27,95.2176 1983.27,276.658 \n",
       "  \"/>\n",
       "<polyline clip-path=\"url(#clip460)\" style=\"stroke:#009af9; stroke-width:4; stroke-opacity:1; fill:none\" points=\"\n",
       "  2007.77,155.698 2154.75,155.698 \n",
       "  \"/>\n",
       "<path clip-path=\"url(#clip460)\" d=\"M 0 0 M2193.09 175.385 Q2191.29 180.015 2189.58 181.427 Q2187.86 182.839 2184.99 182.839 L2181.59 182.839 L2181.59 179.274 L2184.09 179.274 Q2185.85 179.274 2186.82 178.44 Q2187.79 177.607 2188.97 174.505 L2189.74 172.561 L2179.25 147.052 L2183.77 147.052 L2191.87 167.329 L2199.97 147.052 L2204.48 147.052 L2193.09 175.385 Z\" fill=\"#000000\" fill-rule=\"evenodd\" fill-opacity=\"1\" /><path clip-path=\"url(#clip460)\" d=\"M 0 0 M2210.36 169.042 L2218 169.042 L2218 142.677 L2209.69 144.343 L2209.69 140.084 L2217.96 138.418 L2222.63 138.418 L2222.63 169.042 L2230.27 169.042 L2230.27 172.978 L2210.36 172.978 L2210.36 169.042 Z\" fill=\"#000000\" fill-rule=\"evenodd\" fill-opacity=\"1\" /><polyline clip-path=\"url(#clip460)\" style=\"stroke:#e26f46; stroke-width:4; stroke-opacity:1; fill:none\" points=\"\n",
       "  2007.77,216.178 2154.75,216.178 \n",
       "  \"/>\n",
       "<path clip-path=\"url(#clip460)\" d=\"M 0 0 M2193.09 235.865 Q2191.29 240.495 2189.58 241.907 Q2187.86 243.319 2184.99 243.319 L2181.59 243.319 L2181.59 239.754 L2184.09 239.754 Q2185.85 239.754 2186.82 238.92 Q2187.79 238.087 2188.97 234.985 L2189.74 233.041 L2179.25 207.532 L2183.77 207.532 L2191.87 227.809 L2199.97 207.532 L2204.48 207.532 L2193.09 235.865 Z\" fill=\"#000000\" fill-rule=\"evenodd\" fill-opacity=\"1\" /><path clip-path=\"url(#clip460)\" d=\"M 0 0 M2213.58 229.522 L2229.9 229.522 L2229.9 233.458 L2207.96 233.458 L2207.96 229.522 Q2210.62 226.768 2215.2 222.138 Q2219.81 217.485 2220.99 216.143 Q2223.23 213.62 2224.11 211.884 Q2225.02 210.124 2225.02 208.435 Q2225.02 205.68 2223.07 203.944 Q2221.15 202.208 2218.05 202.208 Q2215.85 202.208 2213.4 202.972 Q2210.96 203.735 2208.19 205.286 L2208.19 200.564 Q2211.01 199.43 2213.46 198.851 Q2215.92 198.273 2217.96 198.273 Q2223.33 198.273 2226.52 200.958 Q2229.71 203.643 2229.71 208.134 Q2229.71 210.263 2228.9 212.185 Q2228.12 214.083 2226.01 216.675 Q2225.43 217.347 2222.33 220.564 Q2219.23 223.759 2213.58 229.522 Z\" fill=\"#000000\" fill-rule=\"evenodd\" fill-opacity=\"1\" /></svg>\n"
      ]
     },
     "execution_count": 42,
     "metadata": {},
     "output_type": "execute_result"
    }
   ],
   "source": [
    "plot(data_schedule, training_losses)\n",
    "plot!(data_schedule, valid_losses)"
   ]
  },
  {
   "cell_type": "code",
   "execution_count": 43,
   "metadata": {
    "scrolled": true
   },
   "outputs": [
    {
     "name": "stdout",
     "output_type": "stream",
     "text": [
      "(d, train_metric, valid_metric) = (10, 1.0, 0.5686274509803921)\n",
      "(d, train_metric, valid_metric) = (60, 1.0, 0.5901960784313726)\n",
      "(d, train_metric, valid_metric) = (110, 1.0, 0.6509803921568628)\n",
      "(d, train_metric, valid_metric) = (160, 1.0, 0.7039215686274509)\n",
      "(d, train_metric, valid_metric) = (210, 1.0, 0.7039215686274509)\n",
      "(d, train_metric, valid_metric) = (260, 1.0, 0.7)\n",
      "(d, train_metric, valid_metric) = (310, 0.9967741935483871, 0.7058823529411764)\n",
      "(d, train_metric, valid_metric) = (360, 0.9972222222222222, 0.7)\n",
      "(d, train_metric, valid_metric) = (410, 0.9951219512195122, 0.7058823529411764)\n",
      "(d, train_metric, valid_metric) = (460, 0.9934782608695653, 0.7352941176470589)\n",
      "(d, train_metric, valid_metric) = (510, 0.996078431372549, 0.7509803921568627)\n",
      "(d, train_metric, valid_metric) = (560, 0.9928571428571429, 0.7490196078431373)\n",
      "(d, train_metric, valid_metric) = (610, 0.9901639344262295, 0.7607843137254902)\n",
      "(d, train_metric, valid_metric) = (660, 0.990909090909091, 0.7725490196078432)\n",
      "(d, train_metric, valid_metric) = (710, 0.9901408450704225, 0.7803921568627451)\n",
      "(d, train_metric, valid_metric) = (760, 0.993421052631579, 0.7843137254901961)\n",
      "(d, train_metric, valid_metric) = (810, 0.9925925925925926, 0.788235294117647)\n",
      "(d, train_metric, valid_metric) = (860, 0.9930232558139535, 0.8019607843137255)\n",
      "(d, train_metric, valid_metric) = (910, 0.9901098901098901, 0.7960784313725491)\n",
      "(d, train_metric, valid_metric) = (960, 0.990625, 0.7980392156862746)\n",
      "(d, train_metric, valid_metric) = (1010, 0.9881188118811881, 0.8098039215686275)\n",
      "(d, train_metric, valid_metric) = (1060, 0.9896226415094339, 0.8137254901960784)\n",
      "(d, train_metric, valid_metric) = (1110, 0.9900900900900901, 0.8235294117647058)\n",
      "(d, train_metric, valid_metric) = (1160, 0.9896551724137931, 0.8196078431372549)\n",
      "(d, train_metric, valid_metric) = (1210, 0.9851239669421488, 0.8215686274509804)\n",
      "(d, train_metric, valid_metric) = (1260, 0.9888888888888889, 0.8294117647058823)\n",
      "(d, train_metric, valid_metric) = (1310, 0.9877862595419847, 0.8450980392156863)\n",
      "(d, train_metric, valid_metric) = (1360, 0.9875, 0.8333333333333334)\n",
      "(d, train_metric, valid_metric) = (1410, 0.9865248226950355, 0.8313725490196078)\n",
      "(d, train_metric, valid_metric) = (1460, 0.9863013698630136, 0.8431372549019608)\n",
      "(d, train_metric, valid_metric) = (1510, 0.9841059602649007, 0.8411764705882353)\n",
      "(d, train_metric, valid_metric) = (1560, 0.9865384615384616, 0.8490196078431372)\n",
      "(d, train_metric, valid_metric) = (1610, 0.9850931677018634, 0.8529411764705882)\n",
      "(d, train_metric, valid_metric) = (1660, 0.9855421686746988, 0.8549019607843137)\n",
      "(d, train_metric, valid_metric) = (1710, 0.9842105263157894, 0.8529411764705882)\n",
      "(d, train_metric, valid_metric) = (1760, 0.9840909090909091, 0.8568627450980393)\n",
      "(d, train_metric, valid_metric) = (1810, 0.9861878453038674, 0.8627450980392157)\n",
      "(d, train_metric, valid_metric) = (1860, 0.986021505376344, 0.8549019607843137)\n",
      "(d, train_metric, valid_metric) = (1910, 0.9853403141361257, 0.8647058823529412)\n",
      "(d, train_metric, valid_metric) = (1960, 0.986734693877551, 0.8568627450980393)\n",
      "(d, train_metric, valid_metric) = (2010, 0.9850746268656716, 0.8549019607843137)\n"
     ]
    },
    {
     "data": {
      "text/plain": [
       "(10:50:2010, Any[1.0, 1.0, 1.0, 1.0, 1.0, 1.0, 0.9967741935483871, 0.9972222222222222, 0.9951219512195122, 0.9934782608695653  …  0.9865384615384616, 0.9850931677018634, 0.9855421686746988, 0.9842105263157894, 0.9840909090909091, 0.9861878453038674, 0.986021505376344, 0.9853403141361257, 0.986734693877551, 0.9850746268656716], Any[0.5686274509803921, 0.5901960784313726, 0.6509803921568628, 0.7039215686274509, 0.7039215686274509, 0.7, 0.7058823529411764, 0.7, 0.7058823529411764, 0.7352941176470589  …  0.8490196078431372, 0.8529411764705882, 0.8549019607843137, 0.8529411764705882, 0.8568627450980393, 0.8627450980392157, 0.8549019607843137, 0.8647058823529412, 0.8568627450980393, 0.8549019607843137])"
      ]
     },
     "execution_count": 43,
     "metadata": {},
     "output_type": "execute_result"
    }
   ],
   "source": [
    "data_schedule, training_losses, valid_losses = learn_curve(best_rbf_model, X_stand[train,:], y[train], step=50)"
   ]
  },
  {
   "cell_type": "code",
   "execution_count": 44,
   "metadata": {
    "scrolled": false
   },
   "outputs": [
    {
     "data": {
      "image/svg+xml": [
       "<?xml version=\"1.0\" encoding=\"utf-8\"?>\n",
       "<svg xmlns=\"http://www.w3.org/2000/svg\" xmlns:xlink=\"http://www.w3.org/1999/xlink\" width=\"600\" height=\"400\" viewBox=\"0 0 2400 1600\">\n",
       "<defs>\n",
       "  <clipPath id=\"clip500\">\n",
       "    <rect x=\"0\" y=\"0\" width=\"2400\" height=\"1600\"/>\n",
       "  </clipPath>\n",
       "</defs>\n",
       "<path clip-path=\"url(#clip500)\" d=\"\n",
       "M0 1600 L2400 1600 L2400 0 L0 0  Z\n",
       "  \" fill=\"#ffffff\" fill-rule=\"evenodd\" fill-opacity=\"1\"/>\n",
       "<defs>\n",
       "  <clipPath id=\"clip501\">\n",
       "    <rect x=\"480\" y=\"0\" width=\"1681\" height=\"1600\"/>\n",
       "  </clipPath>\n",
       "</defs>\n",
       "<path clip-path=\"url(#clip500)\" d=\"\n",
       "M148.01 1486.45 L2352.76 1486.45 L2352.76 47.2441 L148.01 47.2441  Z\n",
       "  \" fill=\"#ffffff\" fill-rule=\"evenodd\" fill-opacity=\"1\"/>\n",
       "<defs>\n",
       "  <clipPath id=\"clip502\">\n",
       "    <rect x=\"148\" y=\"47\" width=\"2206\" height=\"1440\"/>\n",
       "  </clipPath>\n",
       "</defs>\n",
       "<polyline clip-path=\"url(#clip502)\" style=\"stroke:#000000; stroke-width:2; stroke-opacity:0.1; fill:none\" points=\"\n",
       "  200.009,1486.45 200.009,47.2441 \n",
       "  \"/>\n",
       "<polyline clip-path=\"url(#clip502)\" style=\"stroke:#000000; stroke-width:2; stroke-opacity:0.1; fill:none\" points=\"\n",
       "  719.996,1486.45 719.996,47.2441 \n",
       "  \"/>\n",
       "<polyline clip-path=\"url(#clip502)\" style=\"stroke:#000000; stroke-width:2; stroke-opacity:0.1; fill:none\" points=\"\n",
       "  1239.98,1486.45 1239.98,47.2441 \n",
       "  \"/>\n",
       "<polyline clip-path=\"url(#clip502)\" style=\"stroke:#000000; stroke-width:2; stroke-opacity:0.1; fill:none\" points=\"\n",
       "  1759.97,1486.45 1759.97,47.2441 \n",
       "  \"/>\n",
       "<polyline clip-path=\"url(#clip502)\" style=\"stroke:#000000; stroke-width:2; stroke-opacity:0.1; fill:none\" points=\"\n",
       "  2279.96,1486.45 2279.96,47.2441 \n",
       "  \"/>\n",
       "<polyline clip-path=\"url(#clip502)\" style=\"stroke:#000000; stroke-width:2; stroke-opacity:0.1; fill:none\" points=\"\n",
       "  148.01,1346.97 2352.76,1346.97 \n",
       "  \"/>\n",
       "<polyline clip-path=\"url(#clip502)\" style=\"stroke:#000000; stroke-width:2; stroke-opacity:0.1; fill:none\" points=\"\n",
       "  148.01,1032.22 2352.76,1032.22 \n",
       "  \"/>\n",
       "<polyline clip-path=\"url(#clip502)\" style=\"stroke:#000000; stroke-width:2; stroke-opacity:0.1; fill:none\" points=\"\n",
       "  148.01,717.474 2352.76,717.474 \n",
       "  \"/>\n",
       "<polyline clip-path=\"url(#clip502)\" style=\"stroke:#000000; stroke-width:2; stroke-opacity:0.1; fill:none\" points=\"\n",
       "  148.01,402.725 2352.76,402.725 \n",
       "  \"/>\n",
       "<polyline clip-path=\"url(#clip502)\" style=\"stroke:#000000; stroke-width:2; stroke-opacity:0.1; fill:none\" points=\"\n",
       "  148.01,87.9763 2352.76,87.9763 \n",
       "  \"/>\n",
       "<polyline clip-path=\"url(#clip500)\" style=\"stroke:#000000; stroke-width:4; stroke-opacity:1; fill:none\" points=\"\n",
       "  148.01,1486.45 2352.76,1486.45 \n",
       "  \"/>\n",
       "<polyline clip-path=\"url(#clip500)\" style=\"stroke:#000000; stroke-width:4; stroke-opacity:1; fill:none\" points=\"\n",
       "  148.01,1486.45 148.01,47.2441 \n",
       "  \"/>\n",
       "<polyline clip-path=\"url(#clip500)\" style=\"stroke:#000000; stroke-width:4; stroke-opacity:1; fill:none\" points=\"\n",
       "  200.009,1486.45 200.009,1469.18 \n",
       "  \"/>\n",
       "<polyline clip-path=\"url(#clip500)\" style=\"stroke:#000000; stroke-width:4; stroke-opacity:1; fill:none\" points=\"\n",
       "  719.996,1486.45 719.996,1469.18 \n",
       "  \"/>\n",
       "<polyline clip-path=\"url(#clip500)\" style=\"stroke:#000000; stroke-width:4; stroke-opacity:1; fill:none\" points=\"\n",
       "  1239.98,1486.45 1239.98,1469.18 \n",
       "  \"/>\n",
       "<polyline clip-path=\"url(#clip500)\" style=\"stroke:#000000; stroke-width:4; stroke-opacity:1; fill:none\" points=\"\n",
       "  1759.97,1486.45 1759.97,1469.18 \n",
       "  \"/>\n",
       "<polyline clip-path=\"url(#clip500)\" style=\"stroke:#000000; stroke-width:4; stroke-opacity:1; fill:none\" points=\"\n",
       "  2279.96,1486.45 2279.96,1469.18 \n",
       "  \"/>\n",
       "<polyline clip-path=\"url(#clip500)\" style=\"stroke:#000000; stroke-width:4; stroke-opacity:1; fill:none\" points=\"\n",
       "  148.01,1346.97 174.467,1346.97 \n",
       "  \"/>\n",
       "<polyline clip-path=\"url(#clip500)\" style=\"stroke:#000000; stroke-width:4; stroke-opacity:1; fill:none\" points=\"\n",
       "  148.01,1032.22 174.467,1032.22 \n",
       "  \"/>\n",
       "<polyline clip-path=\"url(#clip500)\" style=\"stroke:#000000; stroke-width:4; stroke-opacity:1; fill:none\" points=\"\n",
       "  148.01,717.474 174.467,717.474 \n",
       "  \"/>\n",
       "<polyline clip-path=\"url(#clip500)\" style=\"stroke:#000000; stroke-width:4; stroke-opacity:1; fill:none\" points=\"\n",
       "  148.01,402.725 174.467,402.725 \n",
       "  \"/>\n",
       "<polyline clip-path=\"url(#clip500)\" style=\"stroke:#000000; stroke-width:4; stroke-opacity:1; fill:none\" points=\"\n",
       "  148.01,87.9763 174.467,87.9763 \n",
       "  \"/>\n",
       "<path clip-path=\"url(#clip500)\" d=\"M 0 0 M200.009 1508.44 Q196.398 1508.44 194.569 1512 Q192.764 1515.55 192.764 1522.67 Q192.764 1529.78 194.569 1533.35 Q196.398 1536.89 200.009 1536.89 Q203.643 1536.89 205.449 1533.35 Q207.278 1529.78 207.278 1522.67 Q207.278 1515.55 205.449 1512 Q203.643 1508.44 200.009 1508.44 M200.009 1504.73 Q205.819 1504.73 208.875 1509.34 Q211.953 1513.92 211.953 1522.67 Q211.953 1531.4 208.875 1536.01 Q205.819 1540.59 200.009 1540.59 Q194.199 1540.59 191.12 1536.01 Q188.065 1531.4 188.065 1522.67 Q188.065 1513.92 191.12 1509.34 Q194.199 1504.73 200.009 1504.73 Z\" fill=\"#000000\" fill-rule=\"evenodd\" fill-opacity=\"1\" /><path clip-path=\"url(#clip500)\" d=\"M 0 0 M683.26 1505.36 L701.617 1505.36 L701.617 1509.3 L687.543 1509.3 L687.543 1517.77 Q688.561 1517.42 689.58 1517.26 Q690.598 1517.07 691.617 1517.07 Q697.404 1517.07 700.783 1520.24 Q704.163 1523.42 704.163 1528.83 Q704.163 1534.41 700.691 1537.51 Q697.219 1540.59 690.899 1540.59 Q688.723 1540.59 686.455 1540.22 Q684.209 1539.85 681.802 1539.11 L681.802 1534.41 Q683.885 1535.54 686.107 1536.1 Q688.33 1536.66 690.807 1536.66 Q694.811 1536.66 697.149 1534.55 Q699.487 1532.44 699.487 1528.83 Q699.487 1525.22 697.149 1523.11 Q694.811 1521.01 690.807 1521.01 Q688.932 1521.01 687.057 1521.42 Q685.205 1521.84 683.26 1522.72 L683.26 1505.36 Z\" fill=\"#000000\" fill-rule=\"evenodd\" fill-opacity=\"1\" /><path clip-path=\"url(#clip500)\" d=\"M 0 0 M719.232 1508.44 Q715.621 1508.44 713.793 1512 Q711.987 1515.55 711.987 1522.67 Q711.987 1529.78 713.793 1533.35 Q715.621 1536.89 719.232 1536.89 Q722.867 1536.89 724.672 1533.35 Q726.501 1529.78 726.501 1522.67 Q726.501 1515.55 724.672 1512 Q722.867 1508.44 719.232 1508.44 M719.232 1504.73 Q725.042 1504.73 728.098 1509.34 Q731.177 1513.92 731.177 1522.67 Q731.177 1531.4 728.098 1536.01 Q725.042 1540.59 719.232 1540.59 Q713.422 1540.59 710.343 1536.01 Q707.288 1531.4 707.288 1522.67 Q707.288 1513.92 710.343 1509.34 Q713.422 1504.73 719.232 1504.73 Z\" fill=\"#000000\" fill-rule=\"evenodd\" fill-opacity=\"1\" /><path clip-path=\"url(#clip500)\" d=\"M 0 0 M746.246 1508.44 Q742.635 1508.44 740.806 1512 Q739.001 1515.55 739.001 1522.67 Q739.001 1529.78 740.806 1533.35 Q742.635 1536.89 746.246 1536.89 Q749.88 1536.89 751.686 1533.35 Q753.515 1529.78 753.515 1522.67 Q753.515 1515.55 751.686 1512 Q749.88 1508.44 746.246 1508.44 M746.246 1504.73 Q752.056 1504.73 755.112 1509.34 Q758.19 1513.92 758.19 1522.67 Q758.19 1531.4 755.112 1536.01 Q752.056 1540.59 746.246 1540.59 Q740.436 1540.59 737.357 1536.01 Q734.302 1531.4 734.302 1522.67 Q734.302 1513.92 737.357 1509.34 Q740.436 1504.73 746.246 1504.73 Z\" fill=\"#000000\" fill-rule=\"evenodd\" fill-opacity=\"1\" /><path clip-path=\"url(#clip500)\" d=\"M 0 0 M1189.84 1535.98 L1197.48 1535.98 L1197.48 1509.62 L1189.17 1511.29 L1189.17 1507.03 L1197.44 1505.36 L1202.11 1505.36 L1202.11 1535.98 L1209.75 1535.98 L1209.75 1539.92 L1189.84 1539.92 L1189.84 1535.98 Z\" fill=\"#000000\" fill-rule=\"evenodd\" fill-opacity=\"1\" /><path clip-path=\"url(#clip500)\" d=\"M 0 0 M1224.82 1508.44 Q1221.21 1508.44 1219.38 1512 Q1217.58 1515.55 1217.58 1522.67 Q1217.58 1529.78 1219.38 1533.35 Q1221.21 1536.89 1224.82 1536.89 Q1228.46 1536.89 1230.26 1533.35 Q1232.09 1529.78 1232.09 1522.67 Q1232.09 1515.55 1230.26 1512 Q1228.46 1508.44 1224.82 1508.44 M1224.82 1504.73 Q1230.63 1504.73 1233.69 1509.34 Q1236.77 1513.92 1236.77 1522.67 Q1236.77 1531.4 1233.69 1536.01 Q1230.63 1540.59 1224.82 1540.59 Q1219.01 1540.59 1215.93 1536.01 Q1212.88 1531.4 1212.88 1522.67 Q1212.88 1513.92 1215.93 1509.34 Q1219.01 1504.73 1224.82 1504.73 Z\" fill=\"#000000\" fill-rule=\"evenodd\" fill-opacity=\"1\" /><path clip-path=\"url(#clip500)\" d=\"M 0 0 M1251.84 1508.44 Q1248.22 1508.44 1246.4 1512 Q1244.59 1515.55 1244.59 1522.67 Q1244.59 1529.78 1246.4 1533.35 Q1248.22 1536.89 1251.84 1536.89 Q1255.47 1536.89 1257.27 1533.35 Q1259.1 1529.78 1259.1 1522.67 Q1259.1 1515.55 1257.27 1512 Q1255.47 1508.44 1251.84 1508.44 M1251.84 1504.73 Q1257.65 1504.73 1260.7 1509.34 Q1263.78 1513.92 1263.78 1522.67 Q1263.78 1531.4 1260.7 1536.01 Q1257.65 1540.59 1251.84 1540.59 Q1246.03 1540.59 1242.95 1536.01 Q1239.89 1531.4 1239.89 1522.67 Q1239.89 1513.92 1242.95 1509.34 Q1246.03 1504.73 1251.84 1504.73 Z\" fill=\"#000000\" fill-rule=\"evenodd\" fill-opacity=\"1\" /><path clip-path=\"url(#clip500)\" d=\"M 0 0 M1278.85 1508.44 Q1275.24 1508.44 1273.41 1512 Q1271.6 1515.55 1271.6 1522.67 Q1271.6 1529.78 1273.41 1533.35 Q1275.24 1536.89 1278.85 1536.89 Q1282.48 1536.89 1284.29 1533.35 Q1286.12 1529.78 1286.12 1522.67 Q1286.12 1515.55 1284.29 1512 Q1282.48 1508.44 1278.85 1508.44 M1278.85 1504.73 Q1284.66 1504.73 1287.71 1509.34 Q1290.79 1513.92 1290.79 1522.67 Q1290.79 1531.4 1287.71 1536.01 Q1284.66 1540.59 1278.85 1540.59 Q1273.04 1540.59 1269.96 1536.01 Q1266.9 1531.4 1266.9 1522.67 Q1266.9 1513.92 1269.96 1509.34 Q1273.04 1504.73 1278.85 1504.73 Z\" fill=\"#000000\" fill-rule=\"evenodd\" fill-opacity=\"1\" /><path clip-path=\"url(#clip500)\" d=\"M 0 0 M1710.33 1535.98 L1717.97 1535.98 L1717.97 1509.62 L1709.66 1511.29 L1709.66 1507.03 L1717.92 1505.36 L1722.6 1505.36 L1722.6 1535.98 L1730.24 1535.98 L1730.24 1539.92 L1710.33 1539.92 L1710.33 1535.98 Z\" fill=\"#000000\" fill-rule=\"evenodd\" fill-opacity=\"1\" /><path clip-path=\"url(#clip500)\" d=\"M 0 0 M1735.35 1505.36 L1753.71 1505.36 L1753.71 1509.3 L1739.63 1509.3 L1739.63 1517.77 Q1740.65 1517.42 1741.67 1517.26 Q1742.69 1517.07 1743.71 1517.07 Q1749.5 1517.07 1752.88 1520.24 Q1756.26 1523.42 1756.26 1528.83 Q1756.26 1534.41 1752.78 1537.51 Q1749.31 1540.59 1742.99 1540.59 Q1740.82 1540.59 1738.55 1540.22 Q1736.3 1539.85 1733.89 1539.11 L1733.89 1534.41 Q1735.98 1535.54 1738.2 1536.1 Q1740.42 1536.66 1742.9 1536.66 Q1746.9 1536.66 1749.24 1534.55 Q1751.58 1532.44 1751.58 1528.83 Q1751.58 1525.22 1749.24 1523.11 Q1746.9 1521.01 1742.9 1521.01 Q1741.02 1521.01 1739.15 1521.42 Q1737.3 1521.84 1735.35 1522.72 L1735.35 1505.36 Z\" fill=\"#000000\" fill-rule=\"evenodd\" fill-opacity=\"1\" /><path clip-path=\"url(#clip500)\" d=\"M 0 0 M1771.32 1508.44 Q1767.71 1508.44 1765.88 1512 Q1764.08 1515.55 1764.08 1522.67 Q1764.08 1529.78 1765.88 1533.35 Q1767.71 1536.89 1771.32 1536.89 Q1774.96 1536.89 1776.76 1533.35 Q1778.59 1529.78 1778.59 1522.67 Q1778.59 1515.55 1776.76 1512 Q1774.96 1508.44 1771.32 1508.44 M1771.32 1504.73 Q1777.13 1504.73 1780.19 1509.34 Q1783.27 1513.92 1783.27 1522.67 Q1783.27 1531.4 1780.19 1536.01 Q1777.13 1540.59 1771.32 1540.59 Q1765.51 1540.59 1762.44 1536.01 Q1759.38 1531.4 1759.38 1522.67 Q1759.38 1513.92 1762.44 1509.34 Q1765.51 1504.73 1771.32 1504.73 Z\" fill=\"#000000\" fill-rule=\"evenodd\" fill-opacity=\"1\" /><path clip-path=\"url(#clip500)\" d=\"M 0 0 M1798.34 1508.44 Q1794.73 1508.44 1792.9 1512 Q1791.09 1515.55 1791.09 1522.67 Q1791.09 1529.78 1792.9 1533.35 Q1794.73 1536.89 1798.34 1536.89 Q1801.97 1536.89 1803.78 1533.35 Q1805.61 1529.78 1805.61 1522.67 Q1805.61 1515.55 1803.78 1512 Q1801.97 1508.44 1798.34 1508.44 M1798.34 1504.73 Q1804.15 1504.73 1807.2 1509.34 Q1810.28 1513.92 1810.28 1522.67 Q1810.28 1531.4 1807.2 1536.01 Q1804.15 1540.59 1798.34 1540.59 Q1792.53 1540.59 1789.45 1536.01 Q1786.39 1531.4 1786.39 1522.67 Q1786.39 1513.92 1789.45 1509.34 Q1792.53 1504.73 1798.34 1504.73 Z\" fill=\"#000000\" fill-rule=\"evenodd\" fill-opacity=\"1\" /><path clip-path=\"url(#clip500)\" d=\"M 0 0 M2234.09 1535.98 L2250.41 1535.98 L2250.41 1539.92 L2228.46 1539.92 L2228.46 1535.98 Q2231.13 1533.23 2235.71 1528.6 Q2240.32 1523.95 2241.5 1522.61 Q2243.74 1520.08 2244.62 1518.35 Q2245.53 1516.59 2245.53 1514.9 Q2245.53 1512.14 2243.58 1510.41 Q2241.66 1508.67 2238.56 1508.67 Q2236.36 1508.67 2233.9 1509.43 Q2231.47 1510.2 2228.7 1511.75 L2228.7 1507.03 Q2231.52 1505.89 2233.97 1505.31 Q2236.43 1504.73 2238.46 1504.73 Q2243.84 1504.73 2247.03 1507.42 Q2250.22 1510.11 2250.22 1514.6 Q2250.22 1516.73 2249.41 1518.65 Q2248.63 1520.54 2246.52 1523.14 Q2245.94 1523.81 2242.84 1527.03 Q2239.74 1530.22 2234.09 1535.98 Z\" fill=\"#000000\" fill-rule=\"evenodd\" fill-opacity=\"1\" /><path clip-path=\"url(#clip500)\" d=\"M 0 0 M2265.48 1508.44 Q2261.87 1508.44 2260.04 1512 Q2258.23 1515.55 2258.23 1522.67 Q2258.23 1529.78 2260.04 1533.35 Q2261.87 1536.89 2265.48 1536.89 Q2269.11 1536.89 2270.92 1533.35 Q2272.75 1529.78 2272.75 1522.67 Q2272.75 1515.55 2270.92 1512 Q2269.11 1508.44 2265.48 1508.44 M2265.48 1504.73 Q2271.29 1504.73 2274.34 1509.34 Q2277.42 1513.92 2277.42 1522.67 Q2277.42 1531.4 2274.34 1536.01 Q2271.29 1540.59 2265.48 1540.59 Q2259.67 1540.59 2256.59 1536.01 Q2253.53 1531.4 2253.53 1522.67 Q2253.53 1513.92 2256.59 1509.34 Q2259.67 1504.73 2265.48 1504.73 Z\" fill=\"#000000\" fill-rule=\"evenodd\" fill-opacity=\"1\" /><path clip-path=\"url(#clip500)\" d=\"M 0 0 M2292.49 1508.44 Q2288.88 1508.44 2287.05 1512 Q2285.25 1515.55 2285.25 1522.67 Q2285.25 1529.78 2287.05 1533.35 Q2288.88 1536.89 2292.49 1536.89 Q2296.13 1536.89 2297.93 1533.35 Q2299.76 1529.78 2299.76 1522.67 Q2299.76 1515.55 2297.93 1512 Q2296.13 1508.44 2292.49 1508.44 M2292.49 1504.73 Q2298.3 1504.73 2301.36 1509.34 Q2304.44 1513.92 2304.44 1522.67 Q2304.44 1531.4 2301.36 1536.01 Q2298.3 1540.59 2292.49 1540.59 Q2286.68 1540.59 2283.6 1536.01 Q2280.55 1531.4 2280.55 1522.67 Q2280.55 1513.92 2283.6 1509.34 Q2286.68 1504.73 2292.49 1504.73 Z\" fill=\"#000000\" fill-rule=\"evenodd\" fill-opacity=\"1\" /><path clip-path=\"url(#clip500)\" d=\"M 0 0 M2319.51 1508.44 Q2315.9 1508.44 2314.07 1512 Q2312.26 1515.55 2312.26 1522.67 Q2312.26 1529.78 2314.07 1533.35 Q2315.9 1536.89 2319.51 1536.89 Q2323.14 1536.89 2324.95 1533.35 Q2326.77 1529.78 2326.77 1522.67 Q2326.77 1515.55 2324.95 1512 Q2323.14 1508.44 2319.51 1508.44 M2319.51 1504.73 Q2325.32 1504.73 2328.37 1509.34 Q2331.45 1513.92 2331.45 1522.67 Q2331.45 1531.4 2328.37 1536.01 Q2325.32 1540.59 2319.51 1540.59 Q2313.7 1540.59 2310.62 1536.01 Q2307.56 1531.4 2307.56 1522.67 Q2307.56 1513.92 2310.62 1509.34 Q2313.7 1504.73 2319.51 1504.73 Z\" fill=\"#000000\" fill-rule=\"evenodd\" fill-opacity=\"1\" /><path clip-path=\"url(#clip500)\" d=\"M 0 0 M74.9365 1332.77 Q71.3254 1332.77 69.4967 1336.33 Q67.6912 1339.88 67.6912 1347.01 Q67.6912 1354.11 69.4967 1357.68 Q71.3254 1361.22 74.9365 1361.22 Q78.5707 1361.22 80.3763 1357.68 Q82.205 1354.11 82.205 1347.01 Q82.205 1339.88 80.3763 1336.33 Q78.5707 1332.77 74.9365 1332.77 M74.9365 1329.07 Q80.7467 1329.07 83.8022 1333.67 Q86.8809 1338.26 86.8809 1347.01 Q86.8809 1355.73 83.8022 1360.34 Q80.7467 1364.92 74.9365 1364.92 Q69.1264 1364.92 66.0477 1360.34 Q62.9921 1355.73 62.9921 1347.01 Q62.9921 1338.26 66.0477 1333.67 Q69.1264 1329.07 74.9365 1329.07 Z\" fill=\"#000000\" fill-rule=\"evenodd\" fill-opacity=\"1\" /><path clip-path=\"url(#clip500)\" d=\"M 0 0 M91.9503 1358.37 L96.8345 1358.37 L96.8345 1364.25 L91.9503 1364.25 L91.9503 1358.37 Z\" fill=\"#000000\" fill-rule=\"evenodd\" fill-opacity=\"1\" /><path clip-path=\"url(#clip500)\" d=\"M 0 0 M112.483 1345.11 Q109.334 1345.11 107.483 1347.26 Q105.654 1349.41 105.654 1353.16 Q105.654 1356.89 107.483 1359.07 Q109.334 1361.22 112.483 1361.22 Q115.631 1361.22 117.459 1359.07 Q119.311 1356.89 119.311 1353.16 Q119.311 1349.41 117.459 1347.26 Q115.631 1345.11 112.483 1345.11 M121.765 1330.45 L121.765 1334.71 Q120.006 1333.88 118.2 1333.44 Q116.418 1333 114.659 1333 Q110.029 1333 107.575 1336.13 Q105.145 1339.25 104.797 1345.57 Q106.163 1343.56 108.223 1342.49 Q110.284 1341.4 112.76 1341.4 Q117.969 1341.4 120.978 1344.58 Q124.01 1347.72 124.01 1353.16 Q124.01 1358.49 120.862 1361.7 Q117.714 1364.92 112.483 1364.92 Q106.487 1364.92 103.316 1360.34 Q100.145 1355.73 100.145 1347.01 Q100.145 1338.81 104.034 1333.95 Q107.922 1329.07 114.473 1329.07 Q116.233 1329.07 118.015 1329.41 Q119.821 1329.76 121.765 1330.45 Z\" fill=\"#000000\" fill-rule=\"evenodd\" fill-opacity=\"1\" /><path clip-path=\"url(#clip500)\" d=\"M 0 0 M76.0013 1018.02 Q72.3902 1018.02 70.5615 1021.59 Q68.756 1025.13 68.756 1032.26 Q68.756 1039.36 70.5615 1042.93 Q72.3902 1046.47 76.0013 1046.47 Q79.6356 1046.47 81.4411 1042.93 Q83.2698 1039.36 83.2698 1032.26 Q83.2698 1025.13 81.4411 1021.59 Q79.6356 1018.02 76.0013 1018.02 M76.0013 1014.32 Q81.8115 1014.32 84.867 1018.92 Q87.9457 1023.51 87.9457 1032.26 Q87.9457 1040.98 84.867 1045.59 Q81.8115 1050.17 76.0013 1050.17 Q70.1912 1050.17 67.1125 1045.59 Q64.0569 1040.98 64.0569 1032.26 Q64.0569 1023.51 67.1125 1018.92 Q70.1912 1014.32 76.0013 1014.32 Z\" fill=\"#000000\" fill-rule=\"evenodd\" fill-opacity=\"1\" /><path clip-path=\"url(#clip500)\" d=\"M 0 0 M93.0151 1043.62 L97.8993 1043.62 L97.8993 1049.5 L93.0151 1049.5 L93.0151 1043.62 Z\" fill=\"#000000\" fill-rule=\"evenodd\" fill-opacity=\"1\" /><path clip-path=\"url(#clip500)\" d=\"M 0 0 M101.788 1014.94 L124.01 1014.94 L124.01 1016.93 L111.464 1049.5 L106.58 1049.5 L118.385 1018.88 L101.788 1018.88 L101.788 1014.94 Z\" fill=\"#000000\" fill-rule=\"evenodd\" fill-opacity=\"1\" /><path clip-path=\"url(#clip500)\" d=\"M 0 0 M75.1911 703.272 Q71.58 703.272 69.7513 706.837 Q67.9458 710.379 67.9458 717.508 Q67.9458 724.615 69.7513 728.18 Q71.58 731.721 75.1911 731.721 Q78.8254 731.721 80.6309 728.18 Q82.4596 724.615 82.4596 717.508 Q82.4596 710.379 80.6309 706.837 Q78.8254 703.272 75.1911 703.272 M75.1911 699.569 Q81.0013 699.569 84.0568 704.175 Q87.1355 708.758 87.1355 717.508 Q87.1355 726.235 84.0568 730.842 Q81.0013 735.425 75.1911 735.425 Q69.381 735.425 66.3023 730.842 Q63.2468 726.235 63.2468 717.508 Q63.2468 708.758 66.3023 704.175 Q69.381 699.569 75.1911 699.569 Z\" fill=\"#000000\" fill-rule=\"evenodd\" fill-opacity=\"1\" /><path clip-path=\"url(#clip500)\" d=\"M 0 0 M92.2049 728.874 L97.0892 728.874 L97.0892 734.754 L92.2049 734.754 L92.2049 728.874 Z\" fill=\"#000000\" fill-rule=\"evenodd\" fill-opacity=\"1\" /><path clip-path=\"url(#clip500)\" d=\"M 0 0 M112.159 718.342 Q108.825 718.342 106.904 720.124 Q105.006 721.906 105.006 725.031 Q105.006 728.156 106.904 729.939 Q108.825 731.721 112.159 731.721 Q115.492 731.721 117.413 729.939 Q119.334 728.133 119.334 725.031 Q119.334 721.906 117.413 720.124 Q115.515 718.342 112.159 718.342 M107.483 716.351 Q104.473 715.61 102.784 713.55 Q101.117 711.49 101.117 708.527 Q101.117 704.383 104.057 701.976 Q107.02 699.569 112.159 699.569 Q117.321 699.569 120.26 701.976 Q123.2 704.383 123.2 708.527 Q123.2 711.49 121.51 713.55 Q119.844 715.61 116.858 716.351 Q120.237 717.138 122.112 719.43 Q124.01 721.721 124.01 725.031 Q124.01 730.055 120.932 732.74 Q117.876 735.425 112.159 735.425 Q106.441 735.425 103.362 732.74 Q100.307 730.055 100.307 725.031 Q100.307 721.721 102.205 719.43 Q104.103 717.138 107.483 716.351 M105.77 708.967 Q105.77 711.652 107.436 713.157 Q109.126 714.661 112.159 714.661 Q115.168 714.661 116.858 713.157 Q118.571 711.652 118.571 708.967 Q118.571 706.282 116.858 704.777 Q115.168 703.272 112.159 703.272 Q109.126 703.272 107.436 704.777 Q105.77 706.282 105.77 708.967 Z\" fill=\"#000000\" fill-rule=\"evenodd\" fill-opacity=\"1\" /><path clip-path=\"url(#clip500)\" d=\"M 0 0 M75.2837 388.524 Q71.6726 388.524 69.8439 392.088 Q68.0384 395.63 68.0384 402.76 Q68.0384 409.866 69.8439 413.431 Q71.6726 416.973 75.2837 416.973 Q78.918 416.973 80.7235 413.431 Q82.5522 409.866 82.5522 402.76 Q82.5522 395.63 80.7235 392.088 Q78.918 388.524 75.2837 388.524 M75.2837 384.82 Q81.0939 384.82 84.1494 389.426 Q87.2281 394.01 87.2281 402.76 Q87.2281 411.486 84.1494 416.093 Q81.0939 420.676 75.2837 420.676 Q69.4736 420.676 66.3949 416.093 Q63.3393 411.486 63.3393 402.76 Q63.3393 394.01 66.3949 389.426 Q69.4736 384.82 75.2837 384.82 Z\" fill=\"#000000\" fill-rule=\"evenodd\" fill-opacity=\"1\" /><path clip-path=\"url(#clip500)\" d=\"M 0 0 M92.2975 414.125 L97.1818 414.125 L97.1818 420.005 L92.2975 420.005 L92.2975 414.125 Z\" fill=\"#000000\" fill-rule=\"evenodd\" fill-opacity=\"1\" /><path clip-path=\"url(#clip500)\" d=\"M 0 0 M102.39 419.287 L102.39 415.028 Q104.149 415.861 105.955 416.301 Q107.76 416.741 109.497 416.741 Q114.126 416.741 116.557 413.639 Q119.01 410.514 119.358 404.172 Q118.015 406.162 115.955 407.227 Q113.895 408.292 111.395 408.292 Q106.209 408.292 103.177 405.167 Q100.168 402.019 100.168 396.579 Q100.168 391.255 103.316 388.038 Q106.464 384.82 111.696 384.82 Q117.691 384.82 120.839 389.426 Q124.01 394.01 124.01 402.76 Q124.01 410.931 120.121 415.815 Q116.256 420.676 109.705 420.676 Q107.946 420.676 106.14 420.329 Q104.334 419.982 102.39 419.287 M111.696 404.635 Q114.844 404.635 116.672 402.482 Q118.524 400.329 118.524 396.579 Q118.524 392.852 116.672 390.7 Q114.844 388.524 111.696 388.524 Q108.547 388.524 106.696 390.7 Q104.867 392.852 104.867 396.579 Q104.867 400.329 106.696 402.482 Q108.547 404.635 111.696 404.635 Z\" fill=\"#000000\" fill-rule=\"evenodd\" fill-opacity=\"1\" /><path clip-path=\"url(#clip500)\" d=\"M 0 0 M67.1356 101.321 L74.7745 101.321 L74.7745 74.9555 L66.4643 76.6222 L66.4643 72.3629 L74.7282 70.6963 L79.4041 70.6963 L79.4041 101.321 L87.0429 101.321 L87.0429 105.256 L67.1356 105.256 L67.1356 101.321 Z\" fill=\"#000000\" fill-rule=\"evenodd\" fill-opacity=\"1\" /><path clip-path=\"url(#clip500)\" d=\"M 0 0 M92.1123 99.3767 L96.9966 99.3767 L96.9966 105.256 L92.1123 105.256 L92.1123 99.3767 Z\" fill=\"#000000\" fill-rule=\"evenodd\" fill-opacity=\"1\" /><path clip-path=\"url(#clip500)\" d=\"M 0 0 M112.066 73.775 Q108.455 73.775 106.626 77.3398 Q104.821 80.8814 104.821 88.011 Q104.821 95.1174 106.626 98.6822 Q108.455 102.224 112.066 102.224 Q115.7 102.224 117.506 98.6822 Q119.334 95.1174 119.334 88.011 Q119.334 80.8814 117.506 77.3398 Q115.7 73.775 112.066 73.775 M112.066 70.0713 Q117.876 70.0713 120.932 74.6777 Q124.01 79.261 124.01 88.011 Q124.01 96.7378 120.932 101.344 Q117.876 105.928 112.066 105.928 Q106.256 105.928 103.177 101.344 Q100.122 96.7378 100.122 88.011 Q100.122 79.261 103.177 74.6777 Q106.256 70.0713 112.066 70.0713 Z\" fill=\"#000000\" fill-rule=\"evenodd\" fill-opacity=\"1\" /><polyline clip-path=\"url(#clip502)\" style=\"stroke:#009af9; stroke-width:4; stroke-opacity:1; fill:none\" points=\"\n",
       "  210.409,87.9763 262.407,87.9763 314.406,87.9763 366.405,87.9763 418.404,87.9763 470.402,87.9763 522.401,98.1295 574.4,96.7193 626.399,103.33 678.397,108.503 \n",
       "  730.396,100.319 782.395,110.458 834.393,118.935 886.392,116.59 938.391,119.008 990.39,108.683 1042.39,111.291 1094.39,109.935 1146.39,119.105 1198.38,117.484 \n",
       "  1250.38,125.372 1302.38,120.639 1354.38,119.168 1406.38,120.536 1458.38,134.798 1510.38,122.948 1562.38,126.419 1614.37,127.32 1666.37,130.389 1718.37,131.093 \n",
       "  1770.37,138.003 1822.37,130.346 1874.37,134.895 1926.37,133.482 1978.37,137.673 2030.36,138.05 2082.36,131.45 2134.36,131.973 2186.36,134.117 2238.36,129.729 \n",
       "  2290.36,134.954 \n",
       "  \"/>\n",
       "<polyline clip-path=\"url(#clip502)\" style=\"stroke:#e26f46; stroke-width:4; stroke-opacity:1; fill:none\" points=\"\n",
       "  210.409,1445.72 262.407,1377.83 314.406,1186.51 366.405,1019.88 418.404,1019.88 470.402,1032.22 522.401,1013.71 574.4,1032.22 626.399,1013.71 678.397,921.135 \n",
       "  730.396,871.762 782.395,877.934 834.393,840.904 886.392,803.875 938.391,779.189 990.39,766.846 1042.39,754.503 1094.39,711.302 1146.39,729.817 1198.38,723.645 \n",
       "  1250.38,686.616 1302.38,674.273 1354.38,643.415 1406.38,655.758 1458.38,649.587 1510.38,624.9 1562.38,575.528 1614.37,612.557 1666.37,618.729 1718.37,581.7 \n",
       "  1770.37,587.871 1822.37,563.185 1874.37,550.842 1926.37,544.67 1978.37,550.842 2030.36,538.499 2082.36,519.984 2134.36,544.67 2186.36,513.813 2238.36,538.499 \n",
       "  2290.36,544.67 \n",
       "  \"/>\n",
       "<path clip-path=\"url(#clip500)\" d=\"\n",
       "M1983.27 276.658 L2279.26 276.658 L2279.26 95.2176 L1983.27 95.2176  Z\n",
       "  \" fill=\"#ffffff\" fill-rule=\"evenodd\" fill-opacity=\"1\"/>\n",
       "<polyline clip-path=\"url(#clip500)\" style=\"stroke:#000000; stroke-width:4; stroke-opacity:1; fill:none\" points=\"\n",
       "  1983.27,276.658 2279.26,276.658 2279.26,95.2176 1983.27,95.2176 1983.27,276.658 \n",
       "  \"/>\n",
       "<polyline clip-path=\"url(#clip500)\" style=\"stroke:#009af9; stroke-width:4; stroke-opacity:1; fill:none\" points=\"\n",
       "  2007.77,155.698 2154.75,155.698 \n",
       "  \"/>\n",
       "<path clip-path=\"url(#clip500)\" d=\"M 0 0 M2193.09 175.385 Q2191.29 180.015 2189.58 181.427 Q2187.86 182.839 2184.99 182.839 L2181.59 182.839 L2181.59 179.274 L2184.09 179.274 Q2185.85 179.274 2186.82 178.44 Q2187.79 177.607 2188.97 174.505 L2189.74 172.561 L2179.25 147.052 L2183.77 147.052 L2191.87 167.329 L2199.97 147.052 L2204.48 147.052 L2193.09 175.385 Z\" fill=\"#000000\" fill-rule=\"evenodd\" fill-opacity=\"1\" /><path clip-path=\"url(#clip500)\" d=\"M 0 0 M2210.36 169.042 L2218 169.042 L2218 142.677 L2209.69 144.343 L2209.69 140.084 L2217.96 138.418 L2222.63 138.418 L2222.63 169.042 L2230.27 169.042 L2230.27 172.978 L2210.36 172.978 L2210.36 169.042 Z\" fill=\"#000000\" fill-rule=\"evenodd\" fill-opacity=\"1\" /><polyline clip-path=\"url(#clip500)\" style=\"stroke:#e26f46; stroke-width:4; stroke-opacity:1; fill:none\" points=\"\n",
       "  2007.77,216.178 2154.75,216.178 \n",
       "  \"/>\n",
       "<path clip-path=\"url(#clip500)\" d=\"M 0 0 M2193.09 235.865 Q2191.29 240.495 2189.58 241.907 Q2187.86 243.319 2184.99 243.319 L2181.59 243.319 L2181.59 239.754 L2184.09 239.754 Q2185.85 239.754 2186.82 238.92 Q2187.79 238.087 2188.97 234.985 L2189.74 233.041 L2179.25 207.532 L2183.77 207.532 L2191.87 227.809 L2199.97 207.532 L2204.48 207.532 L2193.09 235.865 Z\" fill=\"#000000\" fill-rule=\"evenodd\" fill-opacity=\"1\" /><path clip-path=\"url(#clip500)\" d=\"M 0 0 M2213.58 229.522 L2229.9 229.522 L2229.9 233.458 L2207.96 233.458 L2207.96 229.522 Q2210.62 226.768 2215.2 222.138 Q2219.81 217.485 2220.99 216.143 Q2223.23 213.62 2224.11 211.884 Q2225.02 210.124 2225.02 208.435 Q2225.02 205.68 2223.07 203.944 Q2221.15 202.208 2218.05 202.208 Q2215.85 202.208 2213.4 202.972 Q2210.96 203.735 2208.19 205.286 L2208.19 200.564 Q2211.01 199.43 2213.46 198.851 Q2215.92 198.273 2217.96 198.273 Q2223.33 198.273 2226.52 200.958 Q2229.71 203.643 2229.71 208.134 Q2229.71 210.263 2228.9 212.185 Q2228.12 214.083 2226.01 216.675 Q2225.43 217.347 2222.33 220.564 Q2219.23 223.759 2213.58 229.522 Z\" fill=\"#000000\" fill-rule=\"evenodd\" fill-opacity=\"1\" /></svg>\n"
      ]
     },
     "execution_count": 44,
     "metadata": {},
     "output_type": "execute_result"
    }
   ],
   "source": [
    "plot(data_schedule, training_losses)\n",
    "plot!(data_schedule, valid_losses)"
   ]
  },
  {
   "cell_type": "markdown",
   "metadata": {},
   "source": [
    "# Final Results"
   ]
  },
  {
   "cell_type": "markdown",
   "metadata": {},
   "source": [
    "Linear SVM"
   ]
  },
  {
   "cell_type": "code",
   "execution_count": 45,
   "metadata": {},
   "outputs": [
    {
     "data": {
      "text/plain": [
       "SVMClassifier(\n",
       "    C = 207.50486187338385,\n",
       "    kernel = \"linear\",\n",
       "    degree = 3,\n",
       "    gamma = \"auto\",\n",
       "    coef0 = 0.0,\n",
       "    shrinking = true,\n",
       "    tol = 0.001,\n",
       "    cache_size = 1000,\n",
       "    max_iter = -1,\n",
       "    decision_function_shape = \"ovr\",\n",
       "    random_state = nothing)\u001b[34m @517\u001b[39m"
      ]
     },
     "execution_count": 45,
     "metadata": {},
     "output_type": "execute_result"
    }
   ],
   "source": [
    "final_svm = SVMClassifier(kernel=\"linear\", C = best_C, cache_size=1000)"
   ]
  },
  {
   "cell_type": "code",
   "execution_count": 46,
   "metadata": {},
   "outputs": [
    {
     "data": {
      "text/plain": [
       "\u001b[34mMachine{SVMClassifier} @038\u001b[39m trained 0 times.\n",
       "  args: \n",
       "    1:\t\u001b[34mSource @243\u001b[39m ⏎ `Table{AbstractArray{Continuous,1}}`\n",
       "    2:\t\u001b[34mSource @310\u001b[39m ⏎ `AbstractArray{Multiclass{3},1}`\n"
      ]
     },
     "execution_count": 46,
     "metadata": {},
     "output_type": "execute_result"
    }
   ],
   "source": [
    "Final_SVM = machine(final_svm, X_stand, y)"
   ]
  },
  {
   "cell_type": "code",
   "execution_count": 47,
   "metadata": {},
   "outputs": [
    {
     "name": "stderr",
     "output_type": "stream",
     "text": [
      "┌ Info: Training \u001b[34mMachine{SVMClassifier} @038\u001b[39m.\n",
      "└ @ MLJBase /home/andrew/.julia/packages/MLJBase/uKzAz/src/machines.jl:319\n"
     ]
    },
    {
     "data": {
      "text/plain": [
       "\u001b[34mMachine{SVMClassifier} @038\u001b[39m trained 1 time.\n",
       "  args: \n",
       "    1:\t\u001b[34mSource @243\u001b[39m ⏎ `Table{AbstractArray{Continuous,1}}`\n",
       "    2:\t\u001b[34mSource @310\u001b[39m ⏎ `AbstractArray{Multiclass{3},1}`\n"
      ]
     },
     "execution_count": 47,
     "metadata": {},
     "output_type": "execute_result"
    }
   ],
   "source": [
    "fit!(Final_SVM, rows=train, verbosity=2)"
   ]
  },
  {
   "cell_type": "code",
   "execution_count": 48,
   "metadata": {},
   "outputs": [],
   "source": [
    "ŷ2 = MLJ.predict(Final_SVM, X_stand[test,:]);"
   ]
  },
  {
   "cell_type": "code",
   "execution_count": 49,
   "metadata": {},
   "outputs": [
    {
     "data": {
      "text/plain": [
       "0.7978056426332288"
      ]
     },
     "execution_count": 49,
     "metadata": {},
     "output_type": "execute_result"
    }
   ],
   "source": [
    "accuracy(ŷ2, y[test])"
   ]
  },
  {
   "cell_type": "code",
   "execution_count": 50,
   "metadata": {},
   "outputs": [
    {
     "name": "stderr",
     "output_type": "stream",
     "text": [
      "┌ Warning: The classes are un-ordered,\n",
      "│ using order: [\"EI\", \"IE\", \"N\"].\n",
      "│ To suppress this warning, consider coercing to OrderedFactor.\n",
      "└ @ MLJBase /home/andrew/.julia/packages/MLJBase/uKzAz/src/measures/confusion_matrix.jl:87\n"
     ]
    },
    {
     "data": {
      "text/plain": [
       "              ┌─────────────────────────────────────────┐\n",
       "              │              Ground Truth               │\n",
       "┌─────────────┼─────────────┬─────────────┬─────────────┤\n",
       "│  Predicted  │     EI      │     IE      │      N      │\n",
       "├─────────────┼─────────────┼─────────────┼─────────────┤\n",
       "│     EI      │     127     │     15      │     38      │\n",
       "├─────────────┼─────────────┼─────────────┼─────────────┤\n",
       "│     IE      │     13      │     124     │     28      │\n",
       "├─────────────┼─────────────┼─────────────┼─────────────┤\n",
       "│      N      │     15      │     20      │     258     │\n",
       "└─────────────┴─────────────┴─────────────┴─────────────┘\n"
      ]
     },
     "execution_count": 50,
     "metadata": {},
     "output_type": "execute_result"
    }
   ],
   "source": [
    "confusion_matrix(ŷ2, y[test])"
   ]
  },
  {
   "cell_type": "markdown",
   "metadata": {},
   "source": [
    "RBF SVM"
   ]
  },
  {
   "cell_type": "code",
   "execution_count": 51,
   "metadata": {},
   "outputs": [
    {
     "data": {
      "text/plain": [
       "SVMClassifier(\n",
       "    C = 23207.944168063907,\n",
       "    kernel = \"rbf\",\n",
       "    degree = 3,\n",
       "    gamma = 0.0001,\n",
       "    coef0 = 0.0,\n",
       "    shrinking = true,\n",
       "    tol = 0.001,\n",
       "    cache_size = 1000,\n",
       "    max_iter = -1,\n",
       "    decision_function_shape = \"ovr\",\n",
       "    random_state = nothing)\u001b[34m @909\u001b[39m"
      ]
     },
     "execution_count": 51,
     "metadata": {},
     "output_type": "execute_result"
    }
   ],
   "source": [
    "final_svm_rbf = best_rbf.best_model"
   ]
  },
  {
   "cell_type": "code",
   "execution_count": 52,
   "metadata": {},
   "outputs": [
    {
     "data": {
      "text/plain": [
       "\u001b[34mMachine{SVMClassifier} @180\u001b[39m trained 0 times.\n",
       "  args: \n",
       "    1:\t\u001b[34mSource @675\u001b[39m ⏎ `Table{AbstractArray{Continuous,1}}`\n",
       "    2:\t\u001b[34mSource @398\u001b[39m ⏎ `AbstractArray{Multiclass{3},1}`\n"
      ]
     },
     "execution_count": 52,
     "metadata": {},
     "output_type": "execute_result"
    }
   ],
   "source": [
    "Final_SVM = machine(final_svm, X_stand, y)"
   ]
  },
  {
   "cell_type": "code",
   "execution_count": 53,
   "metadata": {},
   "outputs": [
    {
     "name": "stderr",
     "output_type": "stream",
     "text": [
      "┌ Info: Training \u001b[34mMachine{SVMClassifier} @180\u001b[39m.\n",
      "└ @ MLJBase /home/andrew/.julia/packages/MLJBase/uKzAz/src/machines.jl:319\n"
     ]
    },
    {
     "data": {
      "text/plain": [
       "\u001b[34mMachine{SVMClassifier} @180\u001b[39m trained 1 time.\n",
       "  args: \n",
       "    1:\t\u001b[34mSource @675\u001b[39m ⏎ `Table{AbstractArray{Continuous,1}}`\n",
       "    2:\t\u001b[34mSource @398\u001b[39m ⏎ `AbstractArray{Multiclass{3},1}`\n"
      ]
     },
     "execution_count": 53,
     "metadata": {},
     "output_type": "execute_result"
    }
   ],
   "source": [
    "fit!(Final_SVM, rows=train, verbosity=2)"
   ]
  },
  {
   "cell_type": "code",
   "execution_count": 54,
   "metadata": {},
   "outputs": [],
   "source": [
    "ŷ2 = MLJ.predict(Final_SVM, X[test,:]);"
   ]
  },
  {
   "cell_type": "code",
   "execution_count": 55,
   "metadata": {},
   "outputs": [
    {
     "data": {
      "text/plain": [
       "0.5078369905956113"
      ]
     },
     "execution_count": 55,
     "metadata": {},
     "output_type": "execute_result"
    }
   ],
   "source": [
    "accuracy(ŷ2, y[test])"
   ]
  },
  {
   "cell_type": "code",
   "execution_count": 56,
   "metadata": {},
   "outputs": [
    {
     "name": "stderr",
     "output_type": "stream",
     "text": [
      "┌ Warning: The classes are un-ordered,\n",
      "│ using order: [\"EI\", \"IE\", \"N\"].\n",
      "│ To suppress this warning, consider coercing to OrderedFactor.\n",
      "└ @ MLJBase /home/andrew/.julia/packages/MLJBase/uKzAz/src/measures/confusion_matrix.jl:87\n"
     ]
    },
    {
     "data": {
      "text/plain": [
       "              ┌─────────────────────────────────────────┐\n",
       "              │              Ground Truth               │\n",
       "┌─────────────┼─────────────┬─────────────┬─────────────┤\n",
       "│  Predicted  │     EI      │     IE      │      N      │\n",
       "├─────────────┼─────────────┼─────────────┼─────────────┤\n",
       "│     EI      │      0      │      0      │      0      │\n",
       "├─────────────┼─────────────┼─────────────┼─────────────┤\n",
       "│     IE      │      0      │      0      │      0      │\n",
       "├─────────────┼─────────────┼─────────────┼─────────────┤\n",
       "│      N      │     155     │     159     │     324     │\n",
       "└─────────────┴─────────────┴─────────────┴─────────────┘\n"
      ]
     },
     "execution_count": 56,
     "metadata": {},
     "output_type": "execute_result"
    }
   ],
   "source": [
    "confusion_matrix(ŷ2, y[test])"
   ]
  },
  {
   "cell_type": "code",
   "execution_count": null,
   "metadata": {},
   "outputs": [],
   "source": []
  }
 ],
 "metadata": {
  "kernelspec": {
   "display_name": "Julia 1.5.0",
   "language": "julia",
   "name": "julia-1.5"
  },
  "language_info": {
   "file_extension": ".jl",
   "mimetype": "application/julia",
   "name": "julia",
   "version": "1.5.0"
  }
 },
 "nbformat": 4,
 "nbformat_minor": 4
}
