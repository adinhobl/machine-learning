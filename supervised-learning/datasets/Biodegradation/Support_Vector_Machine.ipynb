{
 "cells": [
  {
   "cell_type": "markdown",
   "metadata": {},
   "source": [
    "# Imports"
   ]
  },
  {
   "cell_type": "code",
   "execution_count": 1,
   "metadata": {},
   "outputs": [],
   "source": [
    "using DataFrames\n",
    "using CSV\n",
    "using MLJ\n",
    "using Plots\n",
    "using StatsBase\n",
    "\n",
    "include(\"../../lib.jl\")\n",
    "\n",
    "ENV[\"LINES\"]=30;"
   ]
  },
  {
   "cell_type": "markdown",
   "metadata": {},
   "source": [
    "# Datasets"
   ]
  },
  {
   "cell_type": "code",
   "execution_count": 2,
   "metadata": {},
   "outputs": [
    {
     "data": {
      "text/html": [
       "<table class=\"data-frame\"><thead><tr><th></th><th>1</th><th>2</th><th>3</th><th>4</th><th>5</th><th>6</th><th>7</th><th>8</th><th>9</th><th>10</th><th>11</th></tr><tr><th></th><th>Float64</th><th>Float64</th><th>Int64</th><th>Int64</th><th>Int64</th><th>Int64</th><th>Int64</th><th>Float64</th><th>Int64</th><th>Int64</th><th>Int64</th></tr></thead><tbody><p>1,055 rows × 42 columns (omitted printing of 31 columns)</p><tr><th>1</th><td>3.919</td><td>2.6909</td><td>0</td><td>0</td><td>0</td><td>0</td><td>0</td><td>31.4</td><td>2</td><td>0</td><td>0</td></tr><tr><th>2</th><td>4.17</td><td>2.1144</td><td>0</td><td>0</td><td>0</td><td>0</td><td>0</td><td>30.8</td><td>1</td><td>1</td><td>0</td></tr><tr><th>3</th><td>3.932</td><td>3.2512</td><td>0</td><td>0</td><td>0</td><td>0</td><td>0</td><td>26.7</td><td>2</td><td>4</td><td>0</td></tr><tr><th>4</th><td>3.0</td><td>2.7098</td><td>0</td><td>0</td><td>0</td><td>0</td><td>0</td><td>20.0</td><td>0</td><td>2</td><td>0</td></tr><tr><th>5</th><td>4.236</td><td>3.3944</td><td>0</td><td>0</td><td>0</td><td>0</td><td>0</td><td>29.4</td><td>2</td><td>4</td><td>0</td></tr><tr><th>6</th><td>4.236</td><td>3.4286</td><td>0</td><td>0</td><td>0</td><td>0</td><td>0</td><td>28.6</td><td>2</td><td>4</td><td>0</td></tr><tr><th>7</th><td>5.0</td><td>5.0476</td><td>1</td><td>0</td><td>0</td><td>0</td><td>0</td><td>11.1</td><td>0</td><td>3</td><td>0</td></tr><tr><th>8</th><td>4.525</td><td>3.8301</td><td>0</td><td>0</td><td>0</td><td>0</td><td>0</td><td>31.6</td><td>3</td><td>2</td><td>0</td></tr><tr><th>9</th><td>4.596</td><td>3.0777</td><td>0</td><td>0</td><td>0</td><td>0</td><td>2</td><td>44.4</td><td>2</td><td>0</td><td>0</td></tr><tr><th>10</th><td>5.04</td><td>3.6112</td><td>0</td><td>0</td><td>1</td><td>0</td><td>2</td><td>41.2</td><td>0</td><td>4</td><td>3</td></tr><tr><th>11</th><td>4.91</td><td>2.7414</td><td>0</td><td>0</td><td>0</td><td>0</td><td>2</td><td>52.9</td><td>0</td><td>2</td><td>0</td></tr><tr><th>12</th><td>3.618</td><td>2.1906</td><td>0</td><td>0</td><td>0</td><td>0</td><td>0</td><td>29.4</td><td>2</td><td>0</td><td>0</td></tr><tr><th>13</th><td>4.214</td><td>2.6272</td><td>0</td><td>0</td><td>0</td><td>0</td><td>0</td><td>30.0</td><td>3</td><td>0</td><td>0</td></tr><tr><th>14</th><td>3.732</td><td>2.3391</td><td>0</td><td>0</td><td>0</td><td>0</td><td>0</td><td>30.0</td><td>2</td><td>0</td><td>0</td></tr><tr><th>15</th><td>3.879</td><td>2.5951</td><td>0</td><td>0</td><td>0</td><td>0</td><td>0</td><td>31.0</td><td>2</td><td>0</td><td>0</td></tr><tr><th>16</th><td>3.942</td><td>2.7719</td><td>1</td><td>0</td><td>0</td><td>0</td><td>0</td><td>31.6</td><td>2</td><td>0</td><td>0</td></tr><tr><th>17</th><td>3.966</td><td>2.852</td><td>1</td><td>0</td><td>0</td><td>0</td><td>0</td><td>32.0</td><td>2</td><td>0</td><td>0</td></tr><tr><th>18</th><td>3.732</td><td>2.3761</td><td>0</td><td>0</td><td>1</td><td>0</td><td>0</td><td>26.3</td><td>2</td><td>0</td><td>1</td></tr><tr><th>19</th><td>4.0</td><td>2.6264</td><td>0</td><td>0</td><td>0</td><td>0</td><td>0</td><td>23.1</td><td>0</td><td>0</td><td>0</td></tr><tr><th>20</th><td>2.0</td><td>1.1521</td><td>0</td><td>0</td><td>0</td><td>0</td><td>0</td><td>16.7</td><td>1</td><td>1</td><td>0</td></tr><tr><th>21</th><td>3.732</td><td>2.4062</td><td>0</td><td>0</td><td>0</td><td>0</td><td>0</td><td>27.8</td><td>2</td><td>1</td><td>0</td></tr><tr><th>22</th><td>4.0</td><td>2.3699</td><td>0</td><td>0</td><td>0</td><td>0</td><td>0</td><td>30.0</td><td>1</td><td>1</td><td>0</td></tr><tr><th>23</th><td>3.414</td><td>2.2525</td><td>0</td><td>0</td><td>0</td><td>0</td><td>0</td><td>20.0</td><td>2</td><td>2</td><td>0</td></tr><tr><th>24</th><td>4.17</td><td>2.8042</td><td>0</td><td>0</td><td>0</td><td>0</td><td>0</td><td>23.1</td><td>2</td><td>2</td><td>0</td></tr><tr><th>25</th><td>4.303</td><td>2.9558</td><td>0</td><td>0</td><td>0</td><td>0</td><td>0</td><td>25.0</td><td>2</td><td>2</td><td>0</td></tr><tr><th>26</th><td>3.414</td><td>2.6294</td><td>0</td><td>0</td><td>0</td><td>0</td><td>0</td><td>37.5</td><td>1</td><td>1</td><td>0</td></tr><tr><th>27</th><td>4.214</td><td>3.0057</td><td>0</td><td>0</td><td>0</td><td>0</td><td>0</td><td>25.0</td><td>1</td><td>2</td><td>0</td></tr><tr><th>28</th><td>3.848</td><td>2.8521</td><td>0</td><td>0</td><td>0</td><td>0</td><td>0</td><td>27.3</td><td>2</td><td>2</td><td>0</td></tr><tr><th>29</th><td>3.414</td><td>2.3729</td><td>0</td><td>0</td><td>0</td><td>0</td><td>0</td><td>30.0</td><td>1</td><td>1</td><td>0</td></tr><tr><th>30</th><td>4.393</td><td>3.6458</td><td>0</td><td>0</td><td>0</td><td>0</td><td>0</td><td>37.0</td><td>3</td><td>1</td><td>0</td></tr><tr><th>&vellip;</th><td>&vellip;</td><td>&vellip;</td><td>&vellip;</td><td>&vellip;</td><td>&vellip;</td><td>&vellip;</td><td>&vellip;</td><td>&vellip;</td><td>&vellip;</td><td>&vellip;</td><td>&vellip;</td></tr></tbody></table>"
      ],
      "text/latex": [
       "\\begin{tabular}{r|cccccccccccc}\n",
       "\t& 1 & 2 & 3 & 4 & 5 & 6 & 7 & 8 & 9 & 10 & 11 & \\\\\n",
       "\t\\hline\n",
       "\t& Float64 & Float64 & Int64 & Int64 & Int64 & Int64 & Int64 & Float64 & Int64 & Int64 & Int64 & \\\\\n",
       "\t\\hline\n",
       "\t1 & 3.919 & 2.6909 & 0 & 0 & 0 & 0 & 0 & 31.4 & 2 & 0 & 0 & $\\dots$ \\\\\n",
       "\t2 & 4.17 & 2.1144 & 0 & 0 & 0 & 0 & 0 & 30.8 & 1 & 1 & 0 & $\\dots$ \\\\\n",
       "\t3 & 3.932 & 3.2512 & 0 & 0 & 0 & 0 & 0 & 26.7 & 2 & 4 & 0 & $\\dots$ \\\\\n",
       "\t4 & 3.0 & 2.7098 & 0 & 0 & 0 & 0 & 0 & 20.0 & 0 & 2 & 0 & $\\dots$ \\\\\n",
       "\t5 & 4.236 & 3.3944 & 0 & 0 & 0 & 0 & 0 & 29.4 & 2 & 4 & 0 & $\\dots$ \\\\\n",
       "\t6 & 4.236 & 3.4286 & 0 & 0 & 0 & 0 & 0 & 28.6 & 2 & 4 & 0 & $\\dots$ \\\\\n",
       "\t7 & 5.0 & 5.0476 & 1 & 0 & 0 & 0 & 0 & 11.1 & 0 & 3 & 0 & $\\dots$ \\\\\n",
       "\t8 & 4.525 & 3.8301 & 0 & 0 & 0 & 0 & 0 & 31.6 & 3 & 2 & 0 & $\\dots$ \\\\\n",
       "\t9 & 4.596 & 3.0777 & 0 & 0 & 0 & 0 & 2 & 44.4 & 2 & 0 & 0 & $\\dots$ \\\\\n",
       "\t10 & 5.04 & 3.6112 & 0 & 0 & 1 & 0 & 2 & 41.2 & 0 & 4 & 3 & $\\dots$ \\\\\n",
       "\t11 & 4.91 & 2.7414 & 0 & 0 & 0 & 0 & 2 & 52.9 & 0 & 2 & 0 & $\\dots$ \\\\\n",
       "\t12 & 3.618 & 2.1906 & 0 & 0 & 0 & 0 & 0 & 29.4 & 2 & 0 & 0 & $\\dots$ \\\\\n",
       "\t13 & 4.214 & 2.6272 & 0 & 0 & 0 & 0 & 0 & 30.0 & 3 & 0 & 0 & $\\dots$ \\\\\n",
       "\t14 & 3.732 & 2.3391 & 0 & 0 & 0 & 0 & 0 & 30.0 & 2 & 0 & 0 & $\\dots$ \\\\\n",
       "\t15 & 3.879 & 2.5951 & 0 & 0 & 0 & 0 & 0 & 31.0 & 2 & 0 & 0 & $\\dots$ \\\\\n",
       "\t16 & 3.942 & 2.7719 & 1 & 0 & 0 & 0 & 0 & 31.6 & 2 & 0 & 0 & $\\dots$ \\\\\n",
       "\t17 & 3.966 & 2.852 & 1 & 0 & 0 & 0 & 0 & 32.0 & 2 & 0 & 0 & $\\dots$ \\\\\n",
       "\t18 & 3.732 & 2.3761 & 0 & 0 & 1 & 0 & 0 & 26.3 & 2 & 0 & 1 & $\\dots$ \\\\\n",
       "\t19 & 4.0 & 2.6264 & 0 & 0 & 0 & 0 & 0 & 23.1 & 0 & 0 & 0 & $\\dots$ \\\\\n",
       "\t20 & 2.0 & 1.1521 & 0 & 0 & 0 & 0 & 0 & 16.7 & 1 & 1 & 0 & $\\dots$ \\\\\n",
       "\t21 & 3.732 & 2.4062 & 0 & 0 & 0 & 0 & 0 & 27.8 & 2 & 1 & 0 & $\\dots$ \\\\\n",
       "\t22 & 4.0 & 2.3699 & 0 & 0 & 0 & 0 & 0 & 30.0 & 1 & 1 & 0 & $\\dots$ \\\\\n",
       "\t23 & 3.414 & 2.2525 & 0 & 0 & 0 & 0 & 0 & 20.0 & 2 & 2 & 0 & $\\dots$ \\\\\n",
       "\t24 & 4.17 & 2.8042 & 0 & 0 & 0 & 0 & 0 & 23.1 & 2 & 2 & 0 & $\\dots$ \\\\\n",
       "\t25 & 4.303 & 2.9558 & 0 & 0 & 0 & 0 & 0 & 25.0 & 2 & 2 & 0 & $\\dots$ \\\\\n",
       "\t26 & 3.414 & 2.6294 & 0 & 0 & 0 & 0 & 0 & 37.5 & 1 & 1 & 0 & $\\dots$ \\\\\n",
       "\t27 & 4.214 & 3.0057 & 0 & 0 & 0 & 0 & 0 & 25.0 & 1 & 2 & 0 & $\\dots$ \\\\\n",
       "\t28 & 3.848 & 2.8521 & 0 & 0 & 0 & 0 & 0 & 27.3 & 2 & 2 & 0 & $\\dots$ \\\\\n",
       "\t29 & 3.414 & 2.3729 & 0 & 0 & 0 & 0 & 0 & 30.0 & 1 & 1 & 0 & $\\dots$ \\\\\n",
       "\t30 & 4.393 & 3.6458 & 0 & 0 & 0 & 0 & 0 & 37.0 & 3 & 1 & 0 & $\\dots$ \\\\\n",
       "\t$\\dots$ & $\\dots$ & $\\dots$ & $\\dots$ & $\\dots$ & $\\dots$ & $\\dots$ & $\\dots$ & $\\dots$ & $\\dots$ & $\\dots$ & $\\dots$ &  \\\\\n",
       "\\end{tabular}\n"
      ],
      "text/plain": [
       "1055×42 DataFrame. Omitted printing of 34 columns\n",
       "│ Row  │ 1       │ 2       │ 3     │ 4     │ 5     │ 6     │ 7     │ 8       │\n",
       "│      │ \u001b[90mFloat64\u001b[39m │ \u001b[90mFloat64\u001b[39m │ \u001b[90mInt64\u001b[39m │ \u001b[90mInt64\u001b[39m │ \u001b[90mInt64\u001b[39m │ \u001b[90mInt64\u001b[39m │ \u001b[90mInt64\u001b[39m │ \u001b[90mFloat64\u001b[39m │\n",
       "├──────┼─────────┼─────────┼───────┼───────┼───────┼───────┼───────┼─────────┤\n",
       "│ 1    │ 3.919   │ 2.6909  │ 0     │ 0     │ 0     │ 0     │ 0     │ 31.4    │\n",
       "│ 2    │ 4.17    │ 2.1144  │ 0     │ 0     │ 0     │ 0     │ 0     │ 30.8    │\n",
       "│ 3    │ 3.932   │ 3.2512  │ 0     │ 0     │ 0     │ 0     │ 0     │ 26.7    │\n",
       "│ 4    │ 3.0     │ 2.7098  │ 0     │ 0     │ 0     │ 0     │ 0     │ 20.0    │\n",
       "│ 5    │ 4.236   │ 3.3944  │ 0     │ 0     │ 0     │ 0     │ 0     │ 29.4    │\n",
       "│ 6    │ 4.236   │ 3.4286  │ 0     │ 0     │ 0     │ 0     │ 0     │ 28.6    │\n",
       "│ 7    │ 5.0     │ 5.0476  │ 1     │ 0     │ 0     │ 0     │ 0     │ 11.1    │\n",
       "│ 8    │ 4.525   │ 3.8301  │ 0     │ 0     │ 0     │ 0     │ 0     │ 31.6    │\n",
       "│ 9    │ 4.596   │ 3.0777  │ 0     │ 0     │ 0     │ 0     │ 2     │ 44.4    │\n",
       "│ 10   │ 5.04    │ 3.6112  │ 0     │ 0     │ 1     │ 0     │ 2     │ 41.2    │\n",
       "⋮\n",
       "│ 1045 │ 4.807   │ 3.3179  │ 1     │ 0     │ 0     │ 0     │ 3     │ 43.8    │\n",
       "│ 1046 │ 4.607   │ 3.0008  │ 1     │ 0     │ 0     │ 0     │ 2     │ 41.2    │\n",
       "│ 1047 │ 5.313   │ 2.7782  │ 0     │ 0     │ 0     │ 1     │ 2     │ 40.0    │\n",
       "│ 1048 │ 5.103   │ 3.9184  │ 0     │ 0     │ 4     │ 0     │ 4     │ 35.0    │\n",
       "│ 1049 │ 5.265   │ 3.3444  │ 2     │ 0     │ 6     │ 0     │ 1     │ 35.3    │\n",
       "│ 1050 │ 5.029   │ 2.5966  │ 0     │ 0     │ 0     │ 0     │ 4     │ 46.7    │\n",
       "│ 1051 │ 5.431   │ 2.8955  │ 0     │ 0     │ 0     │ 2     │ 0     │ 32.1    │\n",
       "│ 1052 │ 5.287   │ 3.3732  │ 0     │ 0     │ 9     │ 0     │ 0     │ 35.3    │\n",
       "│ 1053 │ 4.869   │ 1.767   │ 0     │ 1     │ 9     │ 0     │ 5     │ 44.4    │\n",
       "│ 1054 │ 5.158   │ 1.6914  │ 2     │ 0     │ 36    │ 0     │ 9     │ 56.1    │\n",
       "│ 1055 │ 5.076   │ 2.6588  │ 2     │ 0     │ 0     │ 0     │ 4     │ 54.5    │"
      ]
     },
     "execution_count": 2,
     "metadata": {},
     "output_type": "execute_result"
    }
   ],
   "source": [
    "data = CSV.read(\"./data.csv\")"
   ]
  },
  {
   "cell_type": "code",
   "execution_count": 3,
   "metadata": {},
   "outputs": [
    {
     "data": {
      "text/html": [
       "<table class=\"data-frame\"><thead><tr><th></th><th>variable</th><th>mean</th><th>min</th><th>median</th><th>max</th><th>nunique</th><th>nmissing</th><th>eltype</th></tr><tr><th></th><th>Symbol</th><th>Union…</th><th>Any</th><th>Union…</th><th>Any</th><th>Union…</th><th>Nothing</th><th>DataType</th></tr></thead><tbody><p>42 rows × 8 columns</p><tr><th>1</th><td>1</td><td>4.78264</td><td>2.0</td><td>4.828</td><td>6.496</td><td></td><td></td><td>Float64</td></tr><tr><th>2</th><td>2</td><td>3.06951</td><td>0.8039</td><td>3.0463</td><td>9.1775</td><td></td><td></td><td>Float64</td></tr><tr><th>3</th><td>3</td><td>0.716588</td><td>0</td><td>0.0</td><td>12</td><td></td><td></td><td>Int64</td></tr><tr><th>4</th><td>4</td><td>0.042654</td><td>0</td><td>0.0</td><td>3</td><td></td><td></td><td>Int64</td></tr><tr><th>5</th><td>5</td><td>0.980095</td><td>0</td><td>0.0</td><td>36</td><td></td><td></td><td>Int64</td></tr><tr><th>6</th><td>6</td><td>0.290047</td><td>0</td><td>0.0</td><td>13</td><td></td><td></td><td>Int64</td></tr><tr><th>7</th><td>7</td><td>1.64645</td><td>0</td><td>1.0</td><td>18</td><td></td><td></td><td>Int64</td></tr><tr><th>8</th><td>8</td><td>37.0556</td><td>0.0</td><td>37.5</td><td>60.7</td><td></td><td></td><td>Float64</td></tr><tr><th>9</th><td>9</td><td>1.3763</td><td>0</td><td>1.0</td><td>24</td><td></td><td></td><td>Int64</td></tr><tr><th>10</th><td>10</td><td>1.80379</td><td>0</td><td>2.0</td><td>12</td><td></td><td></td><td>Int64</td></tr><tr><th>11</th><td>11</td><td>1.43697</td><td>0</td><td>0.0</td><td>44</td><td></td><td></td><td>Int64</td></tr><tr><th>12</th><td>12</td><td>-0.197129</td><td>-5.256</td><td>0.0</td><td>4.722</td><td></td><td></td><td>Float64</td></tr><tr><th>13</th><td>13</td><td>3.47684</td><td>1.544</td><td>3.442</td><td>5.701</td><td></td><td></td><td>Float64</td></tr><tr><th>14</th><td>14</td><td>1.35072</td><td>0.0</td><td>1.187</td><td>4.491</td><td></td><td></td><td>Float64</td></tr><tr><th>15</th><td>15</td><td>9.93738</td><td>4.174</td><td>10.039</td><td>12.609</td><td></td><td></td><td>Float64</td></tr><tr><th>16</th><td>16</td><td>3.63033</td><td>0</td><td>2.0</td><td>40</td><td></td><td></td><td>Int64</td></tr><tr><th>17</th><td>17</td><td>1.0133</td><td>0.957</td><td>1.003</td><td>1.311</td><td></td><td></td><td>Float64</td></tr><tr><th>18</th><td>18</td><td>1.13111</td><td>1.022</td><td>1.13</td><td>1.377</td><td></td><td></td><td>Float64</td></tr><tr><th>19</th><td>19</td><td>0.00853081</td><td>0</td><td>0.0</td><td>2</td><td></td><td></td><td>Int64</td></tr><tr><th>20</th><td>20</td><td>0.0739336</td><td>0</td><td>0.0</td><td>3</td><td></td><td></td><td>Int64</td></tr><tr><th>21</th><td>21</td><td>0.0293839</td><td>0</td><td>0.0</td><td>3</td><td></td><td></td><td>Int64</td></tr><tr><th>22</th><td>22</td><td>1.23873</td><td>0.863</td><td>1.243</td><td>1.641</td><td></td><td></td><td>Float64</td></tr><tr><th>23</th><td>23</td><td>1.40569</td><td>0</td><td>1.0</td><td>147</td><td></td><td></td><td>Int64</td></tr><tr><th>24</th><td>24</td><td>0.0398104</td><td>0</td><td>0.0</td><td>1</td><td></td><td></td><td>Int64</td></tr><tr><th>25</th><td>25</td><td>0.147867</td><td>0</td><td>0.0</td><td>1</td><td></td><td></td><td>Int64</td></tr><tr><th>26</th><td>26</td><td>0.0312796</td><td>0</td><td>0.0</td><td>3</td><td></td><td></td><td>Int64</td></tr><tr><th>27</th><td>27</td><td>2.21564</td><td>1.0</td><td>2.247</td><td>2.859</td><td></td><td></td><td>Float64</td></tr><tr><th>28</th><td>28</td><td>-0.00120569</td><td>-1.099</td><td>0.0</td><td>1.073</td><td></td><td></td><td>Float64</td></tr><tr><th>29</th><td>29</td><td>0.0265403</td><td>0</td><td>0.0</td><td>1</td><td></td><td></td><td>Int64</td></tr><tr><th>30</th><td>30</td><td>8.78051</td><td>0.0</td><td>0.0</td><td>71.167</td><td></td><td></td><td>Float64</td></tr><tr><th>&vellip;</th><td>&vellip;</td><td>&vellip;</td><td>&vellip;</td><td>&vellip;</td><td>&vellip;</td><td>&vellip;</td><td>&vellip;</td><td>&vellip;</td></tr></tbody></table>"
      ],
      "text/latex": [
       "\\begin{tabular}{r|cccccccc}\n",
       "\t& variable & mean & min & median & max & nunique & nmissing & eltype\\\\\n",
       "\t\\hline\n",
       "\t& Symbol & Union… & Any & Union… & Any & Union… & Nothing & DataType\\\\\n",
       "\t\\hline\n",
       "\t1 & 1 & 4.78264 & 2.0 & 4.828 & 6.496 &  &  & Float64 \\\\\n",
       "\t2 & 2 & 3.06951 & 0.8039 & 3.0463 & 9.1775 &  &  & Float64 \\\\\n",
       "\t3 & 3 & 0.716588 & 0 & 0.0 & 12 &  &  & Int64 \\\\\n",
       "\t4 & 4 & 0.042654 & 0 & 0.0 & 3 &  &  & Int64 \\\\\n",
       "\t5 & 5 & 0.980095 & 0 & 0.0 & 36 &  &  & Int64 \\\\\n",
       "\t6 & 6 & 0.290047 & 0 & 0.0 & 13 &  &  & Int64 \\\\\n",
       "\t7 & 7 & 1.64645 & 0 & 1.0 & 18 &  &  & Int64 \\\\\n",
       "\t8 & 8 & 37.0556 & 0.0 & 37.5 & 60.7 &  &  & Float64 \\\\\n",
       "\t9 & 9 & 1.3763 & 0 & 1.0 & 24 &  &  & Int64 \\\\\n",
       "\t10 & 10 & 1.80379 & 0 & 2.0 & 12 &  &  & Int64 \\\\\n",
       "\t11 & 11 & 1.43697 & 0 & 0.0 & 44 &  &  & Int64 \\\\\n",
       "\t12 & 12 & -0.197129 & -5.256 & 0.0 & 4.722 &  &  & Float64 \\\\\n",
       "\t13 & 13 & 3.47684 & 1.544 & 3.442 & 5.701 &  &  & Float64 \\\\\n",
       "\t14 & 14 & 1.35072 & 0.0 & 1.187 & 4.491 &  &  & Float64 \\\\\n",
       "\t15 & 15 & 9.93738 & 4.174 & 10.039 & 12.609 &  &  & Float64 \\\\\n",
       "\t16 & 16 & 3.63033 & 0 & 2.0 & 40 &  &  & Int64 \\\\\n",
       "\t17 & 17 & 1.0133 & 0.957 & 1.003 & 1.311 &  &  & Float64 \\\\\n",
       "\t18 & 18 & 1.13111 & 1.022 & 1.13 & 1.377 &  &  & Float64 \\\\\n",
       "\t19 & 19 & 0.00853081 & 0 & 0.0 & 2 &  &  & Int64 \\\\\n",
       "\t20 & 20 & 0.0739336 & 0 & 0.0 & 3 &  &  & Int64 \\\\\n",
       "\t21 & 21 & 0.0293839 & 0 & 0.0 & 3 &  &  & Int64 \\\\\n",
       "\t22 & 22 & 1.23873 & 0.863 & 1.243 & 1.641 &  &  & Float64 \\\\\n",
       "\t23 & 23 & 1.40569 & 0 & 1.0 & 147 &  &  & Int64 \\\\\n",
       "\t24 & 24 & 0.0398104 & 0 & 0.0 & 1 &  &  & Int64 \\\\\n",
       "\t25 & 25 & 0.147867 & 0 & 0.0 & 1 &  &  & Int64 \\\\\n",
       "\t26 & 26 & 0.0312796 & 0 & 0.0 & 3 &  &  & Int64 \\\\\n",
       "\t27 & 27 & 2.21564 & 1.0 & 2.247 & 2.859 &  &  & Float64 \\\\\n",
       "\t28 & 28 & -0.00120569 & -1.099 & 0.0 & 1.073 &  &  & Float64 \\\\\n",
       "\t29 & 29 & 0.0265403 & 0 & 0.0 & 1 &  &  & Int64 \\\\\n",
       "\t30 & 30 & 8.78051 & 0.0 & 0.0 & 71.167 &  &  & Float64 \\\\\n",
       "\t$\\dots$ & $\\dots$ & $\\dots$ & $\\dots$ & $\\dots$ & $\\dots$ & $\\dots$ & $\\dots$ & $\\dots$ \\\\\n",
       "\\end{tabular}\n"
      ],
      "text/plain": [
       "42×8 DataFrame. Omitted printing of 1 columns\n",
       "│ Row │ variable │ mean      │ min    │ median │ max    │ nunique │ nmissing │\n",
       "│     │ \u001b[90mSymbol\u001b[39m   │ \u001b[90mUnion…\u001b[39m    │ \u001b[90mAny\u001b[39m    │ \u001b[90mUnion…\u001b[39m │ \u001b[90mAny\u001b[39m    │ \u001b[90mUnion…\u001b[39m  │ \u001b[90mNothing\u001b[39m  │\n",
       "├─────┼──────────┼───────────┼────────┼────────┼────────┼─────────┼──────────┤\n",
       "│ 1   │ 1        │ 4.78264   │ 2.0    │ 4.828  │ 6.496  │         │          │\n",
       "│ 2   │ 2        │ 3.06951   │ 0.8039 │ 3.0463 │ 9.1775 │         │          │\n",
       "│ 3   │ 3        │ 0.716588  │ 0      │ 0.0    │ 12     │         │          │\n",
       "│ 4   │ 4        │ 0.042654  │ 0      │ 0.0    │ 3      │         │          │\n",
       "│ 5   │ 5        │ 0.980095  │ 0      │ 0.0    │ 36     │         │          │\n",
       "│ 6   │ 6        │ 0.290047  │ 0      │ 0.0    │ 13     │         │          │\n",
       "│ 7   │ 7        │ 1.64645   │ 0      │ 1.0    │ 18     │         │          │\n",
       "│ 8   │ 8        │ 37.0556   │ 0.0    │ 37.5   │ 60.7   │         │          │\n",
       "│ 9   │ 9        │ 1.3763    │ 0      │ 1.0    │ 24     │         │          │\n",
       "│ 10  │ 10       │ 1.80379   │ 0      │ 2.0    │ 12     │         │          │\n",
       "⋮\n",
       "│ 32  │ 32       │ 0.129858  │ 0      │ 0.0    │ 8      │         │          │\n",
       "│ 33  │ 33       │ 0.883412  │ 0      │ 0.0    │ 12     │         │          │\n",
       "│ 34  │ 34       │ 1.27488   │ 0      │ 0.0    │ 18     │         │          │\n",
       "│ 35  │ 35       │ 0.961137  │ 0      │ 1.0    │ 7      │         │          │\n",
       "│ 36  │ 36       │ 3.91824   │ 2.267  │ 3.726  │ 10.695 │         │          │\n",
       "│ 37  │ 37       │ 2.55842   │ 1.467  │ 2.458  │ 5.825  │         │          │\n",
       "│ 38  │ 38       │ 0.686256  │ 0      │ 0.0    │ 8      │         │          │\n",
       "│ 39  │ 39       │ 8.62949   │ 4.917  │ 8.499  │ 14.7   │         │          │\n",
       "│ 40  │ 40       │ 0.0511848 │ 0      │ 0.0    │ 4      │         │          │\n",
       "│ 41  │ 41       │ 0.723223  │ 0      │ 0.0    │ 27     │         │          │\n",
       "│ 42  │ Class    │           │ NRB    │        │ RB     │ 2       │          │"
      ]
     },
     "execution_count": 3,
     "metadata": {},
     "output_type": "execute_result"
    }
   ],
   "source": [
    "describe(data)"
   ]
  },
  {
   "cell_type": "markdown",
   "metadata": {},
   "source": [
    "Look at class labels to see if dataset is imbalanced"
   ]
  },
  {
   "cell_type": "code",
   "execution_count": 4,
   "metadata": {},
   "outputs": [
    {
     "data": {
      "text/plain": [
       "Dict{String,Int64} with 2 entries:\n",
       "  \"RB\"  => 356\n",
       "  \"NRB\" => 699"
      ]
     },
     "execution_count": 4,
     "metadata": {},
     "output_type": "execute_result"
    }
   ],
   "source": [
    "label_counts = countmap(data[:Class])"
   ]
  },
  {
   "cell_type": "code",
   "execution_count": 5,
   "metadata": {},
   "outputs": [
    {
     "data": {
      "text/plain": [
       "2-element Array{Float64,1}:\n",
       " 0.33744075829383885\n",
       " 0.6625592417061611"
      ]
     },
     "execution_count": 5,
     "metadata": {},
     "output_type": "execute_result"
    }
   ],
   "source": [
    "collect(label_counts[i] / size(data)[1] for i in keys(label_counts))"
   ]
  },
  {
   "cell_type": "markdown",
   "metadata": {},
   "source": [
    "Get data ready for training"
   ]
  },
  {
   "cell_type": "code",
   "execution_count": 6,
   "metadata": {
    "scrolled": true
   },
   "outputs": [
    {
     "data": {
      "text/plain": [
       "┌\u001b[0m─────────\u001b[0m┬\u001b[0m─────────────────────────────────\u001b[0m┬\u001b[0m───────────────\u001b[0m┐\u001b[0m\n",
       "│\u001b[0m\u001b[22m _.names \u001b[0m│\u001b[0m\u001b[22m _.types                         \u001b[0m│\u001b[0m\u001b[22m _.scitypes    \u001b[0m│\u001b[0m\n",
       "├\u001b[0m─────────\u001b[0m┼\u001b[0m─────────────────────────────────\u001b[0m┼\u001b[0m───────────────\u001b[0m┤\u001b[0m\n",
       "│\u001b[0m 1       \u001b[0m│\u001b[0m Float64                         \u001b[0m│\u001b[0m Continuous    \u001b[0m│\u001b[0m\n",
       "│\u001b[0m 2       \u001b[0m│\u001b[0m Float64                         \u001b[0m│\u001b[0m Continuous    \u001b[0m│\u001b[0m\n",
       "│\u001b[0m 3       \u001b[0m│\u001b[0m Int64                           \u001b[0m│\u001b[0m Count         \u001b[0m│\u001b[0m\n",
       "│\u001b[0m 4       \u001b[0m│\u001b[0m Int64                           \u001b[0m│\u001b[0m Count         \u001b[0m│\u001b[0m\n",
       "│\u001b[0m 5       \u001b[0m│\u001b[0m Int64                           \u001b[0m│\u001b[0m Count         \u001b[0m│\u001b[0m\n",
       "│\u001b[0m 6       \u001b[0m│\u001b[0m Int64                           \u001b[0m│\u001b[0m Count         \u001b[0m│\u001b[0m\n",
       "│\u001b[0m 7       \u001b[0m│\u001b[0m Int64                           \u001b[0m│\u001b[0m Count         \u001b[0m│\u001b[0m\n",
       "│\u001b[0m 8       \u001b[0m│\u001b[0m Float64                         \u001b[0m│\u001b[0m Continuous    \u001b[0m│\u001b[0m\n",
       "│\u001b[0m 9       \u001b[0m│\u001b[0m Int64                           \u001b[0m│\u001b[0m Count         \u001b[0m│\u001b[0m\n",
       "│\u001b[0m 10      \u001b[0m│\u001b[0m Int64                           \u001b[0m│\u001b[0m Count         \u001b[0m│\u001b[0m\n",
       "│\u001b[0m 11      \u001b[0m│\u001b[0m Int64                           \u001b[0m│\u001b[0m Count         \u001b[0m│\u001b[0m\n",
       "│\u001b[0m 12      \u001b[0m│\u001b[0m Float64                         \u001b[0m│\u001b[0m Continuous    \u001b[0m│\u001b[0m\n",
       "│\u001b[0m 13      \u001b[0m│\u001b[0m Float64                         \u001b[0m│\u001b[0m Continuous    \u001b[0m│\u001b[0m\n",
       "│\u001b[0m 14      \u001b[0m│\u001b[0m Float64                         \u001b[0m│\u001b[0m Continuous    \u001b[0m│\u001b[0m\n",
       "│\u001b[0m 15      \u001b[0m│\u001b[0m Float64                         \u001b[0m│\u001b[0m Continuous    \u001b[0m│\u001b[0m\n",
       "│\u001b[0m 16      \u001b[0m│\u001b[0m Int64                           \u001b[0m│\u001b[0m Count         \u001b[0m│\u001b[0m\n",
       "│\u001b[0m 17      \u001b[0m│\u001b[0m Float64                         \u001b[0m│\u001b[0m Continuous    \u001b[0m│\u001b[0m\n",
       "│\u001b[0m 18      \u001b[0m│\u001b[0m Float64                         \u001b[0m│\u001b[0m Continuous    \u001b[0m│\u001b[0m\n",
       "│\u001b[0m 19      \u001b[0m│\u001b[0m Int64                           \u001b[0m│\u001b[0m Count         \u001b[0m│\u001b[0m\n",
       "│\u001b[0m 20      \u001b[0m│\u001b[0m Int64                           \u001b[0m│\u001b[0m Count         \u001b[0m│\u001b[0m\n",
       "│\u001b[0m 21      \u001b[0m│\u001b[0m Int64                           \u001b[0m│\u001b[0m Count         \u001b[0m│\u001b[0m\n",
       "│\u001b[0m 22      \u001b[0m│\u001b[0m Float64                         \u001b[0m│\u001b[0m Continuous    \u001b[0m│\u001b[0m\n",
       "│\u001b[0m 23      \u001b[0m│\u001b[0m Int64                           \u001b[0m│\u001b[0m Count         \u001b[0m│\u001b[0m\n",
       "│\u001b[0m 24      \u001b[0m│\u001b[0m Int64                           \u001b[0m│\u001b[0m Count         \u001b[0m│\u001b[0m\n",
       "│\u001b[0m 25      \u001b[0m│\u001b[0m Int64                           \u001b[0m│\u001b[0m Count         \u001b[0m│\u001b[0m\n",
       "│\u001b[0m 26      \u001b[0m│\u001b[0m Int64                           \u001b[0m│\u001b[0m Count         \u001b[0m│\u001b[0m\n",
       "│\u001b[0m 27      \u001b[0m│\u001b[0m Float64                         \u001b[0m│\u001b[0m Continuous    \u001b[0m│\u001b[0m\n",
       "│\u001b[0m 28      \u001b[0m│\u001b[0m Float64                         \u001b[0m│\u001b[0m Continuous    \u001b[0m│\u001b[0m\n",
       "│\u001b[0m 29      \u001b[0m│\u001b[0m Int64                           \u001b[0m│\u001b[0m Count         \u001b[0m│\u001b[0m\n",
       "│\u001b[0m 30      \u001b[0m│\u001b[0m Float64                         \u001b[0m│\u001b[0m Continuous    \u001b[0m│\u001b[0m\n",
       "│\u001b[0m 31      \u001b[0m│\u001b[0m Float64                         \u001b[0m│\u001b[0m Continuous    \u001b[0m│\u001b[0m\n",
       "│\u001b[0m 32      \u001b[0m│\u001b[0m Int64                           \u001b[0m│\u001b[0m Count         \u001b[0m│\u001b[0m\n",
       "│\u001b[0m 33      \u001b[0m│\u001b[0m Int64                           \u001b[0m│\u001b[0m Count         \u001b[0m│\u001b[0m\n",
       "│\u001b[0m 34      \u001b[0m│\u001b[0m Int64                           \u001b[0m│\u001b[0m Count         \u001b[0m│\u001b[0m\n",
       "│\u001b[0m 35      \u001b[0m│\u001b[0m Int64                           \u001b[0m│\u001b[0m Count         \u001b[0m│\u001b[0m\n",
       "│\u001b[0m 36      \u001b[0m│\u001b[0m Float64                         \u001b[0m│\u001b[0m Continuous    \u001b[0m│\u001b[0m\n",
       "│\u001b[0m 37      \u001b[0m│\u001b[0m Float64                         \u001b[0m│\u001b[0m Continuous    \u001b[0m│\u001b[0m\n",
       "│\u001b[0m 38      \u001b[0m│\u001b[0m Int64                           \u001b[0m│\u001b[0m Count         \u001b[0m│\u001b[0m\n",
       "│\u001b[0m 39      \u001b[0m│\u001b[0m Float64                         \u001b[0m│\u001b[0m Continuous    \u001b[0m│\u001b[0m\n",
       "│\u001b[0m 40      \u001b[0m│\u001b[0m Int64                           \u001b[0m│\u001b[0m Count         \u001b[0m│\u001b[0m\n",
       "│\u001b[0m 41      \u001b[0m│\u001b[0m Int64                           \u001b[0m│\u001b[0m Count         \u001b[0m│\u001b[0m\n",
       "│\u001b[0m Class   \u001b[0m│\u001b[0m CategoricalValue{String,UInt32} \u001b[0m│\u001b[0m Multiclass{2} \u001b[0m│\u001b[0m\n",
       "└\u001b[0m─────────\u001b[0m┴\u001b[0m─────────────────────────────────\u001b[0m┴\u001b[0m───────────────\u001b[0m┘\u001b[0m\n",
       "_.nrows = 1055\n"
      ]
     },
     "execution_count": 6,
     "metadata": {},
     "output_type": "execute_result"
    }
   ],
   "source": [
    "coerce!(data, :Class=>Multiclass)\n",
    "schema(data)"
   ]
  },
  {
   "cell_type": "code",
   "execution_count": 7,
   "metadata": {
    "scrolled": false
   },
   "outputs": [
    {
     "data": {
      "text/plain": [
       "(CategoricalValue{String,UInt32}[\"RB\", \"RB\", \"RB\", \"RB\", \"RB\", \"RB\", \"RB\", \"RB\", \"RB\", \"RB\"  …  \"NRB\", \"NRB\", \"NRB\", \"NRB\", \"NRB\", \"NRB\", \"NRB\", \"NRB\", \"NRB\", \"NRB\"], 1055×41 DataFrame. Omitted printing of 33 columns\n",
       "│ Row  │ 1       │ 2       │ 3     │ 4     │ 5     │ 6     │ 7     │ 8       │\n",
       "│      │ \u001b[90mFloat64\u001b[39m │ \u001b[90mFloat64\u001b[39m │ \u001b[90mInt64\u001b[39m │ \u001b[90mInt64\u001b[39m │ \u001b[90mInt64\u001b[39m │ \u001b[90mInt64\u001b[39m │ \u001b[90mInt64\u001b[39m │ \u001b[90mFloat64\u001b[39m │\n",
       "├──────┼─────────┼─────────┼───────┼───────┼───────┼───────┼───────┼─────────┤\n",
       "│ 1    │ 3.919   │ 2.6909  │ 0     │ 0     │ 0     │ 0     │ 0     │ 31.4    │\n",
       "│ 2    │ 4.17    │ 2.1144  │ 0     │ 0     │ 0     │ 0     │ 0     │ 30.8    │\n",
       "│ 3    │ 3.932   │ 3.2512  │ 0     │ 0     │ 0     │ 0     │ 0     │ 26.7    │\n",
       "│ 4    │ 3.0     │ 2.7098  │ 0     │ 0     │ 0     │ 0     │ 0     │ 20.0    │\n",
       "│ 5    │ 4.236   │ 3.3944  │ 0     │ 0     │ 0     │ 0     │ 0     │ 29.4    │\n",
       "│ 6    │ 4.236   │ 3.4286  │ 0     │ 0     │ 0     │ 0     │ 0     │ 28.6    │\n",
       "│ 7    │ 5.0     │ 5.0476  │ 1     │ 0     │ 0     │ 0     │ 0     │ 11.1    │\n",
       "│ 8    │ 4.525   │ 3.8301  │ 0     │ 0     │ 0     │ 0     │ 0     │ 31.6    │\n",
       "│ 9    │ 4.596   │ 3.0777  │ 0     │ 0     │ 0     │ 0     │ 2     │ 44.4    │\n",
       "│ 10   │ 5.04    │ 3.6112  │ 0     │ 0     │ 1     │ 0     │ 2     │ 41.2    │\n",
       "⋮\n",
       "│ 1045 │ 4.807   │ 3.3179  │ 1     │ 0     │ 0     │ 0     │ 3     │ 43.8    │\n",
       "│ 1046 │ 4.607   │ 3.0008  │ 1     │ 0     │ 0     │ 0     │ 2     │ 41.2    │\n",
       "│ 1047 │ 5.313   │ 2.7782  │ 0     │ 0     │ 0     │ 1     │ 2     │ 40.0    │\n",
       "│ 1048 │ 5.103   │ 3.9184  │ 0     │ 0     │ 4     │ 0     │ 4     │ 35.0    │\n",
       "│ 1049 │ 5.265   │ 3.3444  │ 2     │ 0     │ 6     │ 0     │ 1     │ 35.3    │\n",
       "│ 1050 │ 5.029   │ 2.5966  │ 0     │ 0     │ 0     │ 0     │ 4     │ 46.7    │\n",
       "│ 1051 │ 5.431   │ 2.8955  │ 0     │ 0     │ 0     │ 2     │ 0     │ 32.1    │\n",
       "│ 1052 │ 5.287   │ 3.3732  │ 0     │ 0     │ 9     │ 0     │ 0     │ 35.3    │\n",
       "│ 1053 │ 4.869   │ 1.767   │ 0     │ 1     │ 9     │ 0     │ 5     │ 44.4    │\n",
       "│ 1054 │ 5.158   │ 1.6914  │ 2     │ 0     │ 36    │ 0     │ 9     │ 56.1    │\n",
       "│ 1055 │ 5.076   │ 2.6588  │ 2     │ 0     │ 0     │ 0     │ 4     │ 54.5    │)"
      ]
     },
     "execution_count": 7,
     "metadata": {},
     "output_type": "execute_result"
    }
   ],
   "source": [
    "y, X = unpack(data, ==(:Class), colname->true)"
   ]
  },
  {
   "cell_type": "markdown",
   "metadata": {},
   "source": [
    "Partition train and test data accoring to class labels"
   ]
  },
  {
   "cell_type": "code",
   "execution_count": 8,
   "metadata": {},
   "outputs": [
    {
     "data": {
      "text/plain": [
       "([531, 637, 400, 786, 676, 791, 963, 561, 277, 584  …  486, 403, 1052, 784, 872, 147, 925, 930, 445, 974], [286, 263, 741, 694, 950, 552, 681, 701, 645, 91  …  975, 1049, 992, 957, 891, 705, 130, 471, 906, 809])"
      ]
     },
     "execution_count": 8,
     "metadata": {},
     "output_type": "execute_result"
    }
   ],
   "source": [
    "# data to use when trying to fit a single validation set\n",
    "train, test = partition(eachindex(y), 0.7, shuffle=true, rng=145) # gives 70:30 split"
   ]
  },
  {
   "cell_type": "code",
   "execution_count": 9,
   "metadata": {},
   "outputs": [
    {
     "data": {
      "text/plain": [
       "2-element Array{Float64,1}:\n",
       " 0.34688346883468835\n",
       " 0.6531165311653117"
      ]
     },
     "execution_count": 9,
     "metadata": {},
     "output_type": "execute_result"
    }
   ],
   "source": [
    "train_counts = countmap(data[train,:Class])\n",
    "collect(train_counts[i] / size(train)[1] for i in keys(train_counts))"
   ]
  },
  {
   "cell_type": "code",
   "execution_count": 10,
   "metadata": {},
   "outputs": [
    {
     "data": {
      "text/plain": [
       "2-element Array{Float64,1}:\n",
       " 0.31545741324921134\n",
       " 0.6845425867507886"
      ]
     },
     "execution_count": 10,
     "metadata": {},
     "output_type": "execute_result"
    }
   ],
   "source": [
    "test_counts = countmap(data[test,:Class])\n",
    "collect(test_counts[i] / size(test)[1] for i in keys(test_counts))"
   ]
  },
  {
   "cell_type": "code",
   "execution_count": 11,
   "metadata": {},
   "outputs": [
    {
     "name": "stderr",
     "output_type": "stream",
     "text": [
      "┌ Info: Training \u001b[34mMachine{Standardizer} @699\u001b[39m.\n",
      "└ @ MLJBase /home/andrew/.julia/packages/MLJBase/uKzAz/src/machines.jl:319\n"
     ]
    }
   ],
   "source": [
    "standardizer = Standardizer()\n",
    "stand = machine(standardizer, X[train,:]) #only want to standardize on training distribution\n",
    "fit!(stand)\n",
    "X_stand = MLJ.transform(stand, X);"
   ]
  },
  {
   "cell_type": "markdown",
   "metadata": {},
   "source": [
    "# Five Learning Algorithms\n",
    "\n",
    "* Decision trees with some form of pruning\n",
    "* Neural networks\n",
    "* Boosting\n",
    "* Support Vector Machines\n",
    "* k-nearest neighbors\n",
    "\n",
    "\n",
    "##### Testing\n",
    "* Implement the algorithms\n",
    "* Design two *interesting* classification problems. For the purposes of this assignment, a classification problem is just a set of training examples and a set of test examples."
   ]
  },
  {
   "cell_type": "code",
   "execution_count": 12,
   "metadata": {
    "scrolled": true
   },
   "outputs": [
    {
     "data": {
      "text/plain": [
       "6-element Array{NamedTuple{(:name, :package_name, :is_supervised, :docstring, :hyperparameter_ranges, :hyperparameter_types, :hyperparameters, :implemented_methods, :is_pure_julia, :is_wrapper, :load_path, :package_license, :package_url, :package_uuid, :prediction_type, :supports_online, :supports_weights, :input_scitype, :target_scitype, :output_scitype),T} where T<:Tuple,1}:\n",
       " (name = AdaBoostStumpClassifier, package_name = DecisionTree, ... )\n",
       " (name = ConstantClassifier, package_name = MLJModels, ... )\n",
       " (name = DecisionTreeClassifier, package_name = DecisionTree, ... )\n",
       " (name = DeterministicConstantClassifier, package_name = MLJModels, ... )\n",
       " (name = RandomForestClassifier, package_name = DecisionTree, ... )\n",
       " (name = RandomForestClassifier, package_name = ScikitLearn, ... )"
      ]
     },
     "execution_count": 12,
     "metadata": {},
     "output_type": "execute_result"
    }
   ],
   "source": [
    "models(matching(X,y))"
   ]
  },
  {
   "cell_type": "code",
   "execution_count": 13,
   "metadata": {},
   "outputs": [
    {
     "data": {
      "text/plain": [
       "SVMClassifier(\n",
       "    C = 1.0,\n",
       "    kernel = \"rbf\",\n",
       "    degree = 3,\n",
       "    gamma = \"auto\",\n",
       "    coef0 = 0.0,\n",
       "    shrinking = true,\n",
       "    tol = 0.001,\n",
       "    cache_size = 200,\n",
       "    max_iter = -1,\n",
       "    decision_function_shape = \"ovr\",\n",
       "    random_state = nothing)\u001b[34m @828\u001b[39m"
      ]
     },
     "execution_count": 13,
     "metadata": {},
     "output_type": "execute_result"
    }
   ],
   "source": [
    "@load SVMClassifier"
   ]
  },
  {
   "cell_type": "markdown",
   "metadata": {},
   "source": [
    "### Support Vector Machines\n",
    "* This should be done in such a way that you can swap out kernel functions. I'd like to see at least two."
   ]
  },
  {
   "cell_type": "code",
   "execution_count": 14,
   "metadata": {
    "scrolled": true
   },
   "outputs": [
    {
     "name": "stderr",
     "output_type": "stream",
     "text": [
      "┌ Warning: The scitype of `X`, in `machine(model, X, ...)` is incompatible with `model=\u001b[34mSVMClassifier @745\u001b[39m`:\n",
      "│ scitype(X) = Table{Union{AbstractArray{Continuous,1}, AbstractArray{Count,1}}}\n",
      "│ input_scitype(model) = Table{var\"#s44\"} where var\"#s44\"<:(AbstractArray{var\"#s13\",1} where var\"#s13\"<:Continuous).\n",
      "└ @ MLJBase /home/andrew/.julia/packages/MLJBase/uKzAz/src/machines.jl:77\n",
      "┌ Info: Training \u001b[34mMachine{SVMClassifier} @336\u001b[39m.\n",
      "└ @ MLJBase /home/andrew/.julia/packages/MLJBase/uKzAz/src/machines.jl:319\n",
      "\u001b[33mEvaluating over 6 folds: 100%[=========================] Time: 0:00:01\u001b[39m\n"
     ]
    },
    {
     "data": {
      "text/plain": [
       "┌\u001b[0m───────────\u001b[0m┬\u001b[0m───────────────\u001b[0m┬\u001b[0m───────────────────────────────────────────\u001b[0m┐\u001b[0m\n",
       "│\u001b[0m\u001b[22m _.measure \u001b[0m│\u001b[0m\u001b[22m _.measurement \u001b[0m│\u001b[0m\u001b[22m _.per_fold                                \u001b[0m│\u001b[0m\n",
       "├\u001b[0m───────────\u001b[0m┼\u001b[0m───────────────\u001b[0m┼\u001b[0m───────────────────────────────────────────\u001b[0m┤\u001b[0m\n",
       "│\u001b[0m accuracy  \u001b[0m│\u001b[0m 0.877         \u001b[0m│\u001b[0m [0.858, 0.875, 0.892, 0.875, 0.881, 0.88] \u001b[0m│\u001b[0m\n",
       "└\u001b[0m───────────\u001b[0m┴\u001b[0m───────────────\u001b[0m┴\u001b[0m───────────────────────────────────────────\u001b[0m┘\u001b[0m\n",
       "_.per_observation = [missing]\n",
       "_.fitted_params_per_fold = [ … ]\n",
       "_.report_per_fold = [ … ]\n"
      ]
     },
     "execution_count": 14,
     "metadata": {},
     "output_type": "execute_result"
    }
   ],
   "source": [
    "svm_model = SVMClassifier(kernel=\"linear\")\n",
    "svm_mach = machine(svm_model, X_stand, y)\n",
    "fit!(svm_mach, rows=train, verbosity=2)\n",
    "svm_acc = evaluate!(svm_mach, resampling=CV(shuffle=true), measure=[accuracy], \n",
    "                        verbosity=1)"
   ]
  },
  {
   "cell_type": "code",
   "execution_count": 15,
   "metadata": {},
   "outputs": [
    {
     "name": "stderr",
     "output_type": "stream",
     "text": [
      "┌ Warning: The scitype of `X`, in `machine(model, X, ...)` is incompatible with `model=\u001b[34mSVMClassifier @632\u001b[39m`:\n",
      "│ scitype(X) = Table{Union{AbstractArray{Continuous,1}, AbstractArray{Count,1}}}\n",
      "│ input_scitype(model) = Table{var\"#s44\"} where var\"#s44\"<:(AbstractArray{var\"#s13\",1} where var\"#s13\"<:Continuous).\n",
      "└ @ MLJBase /home/andrew/.julia/packages/MLJBase/uKzAz/src/machines.jl:77\n",
      "┌ Info: Training \u001b[34mMachine{SVMClassifier} @125\u001b[39m.\n",
      "└ @ MLJBase /home/andrew/.julia/packages/MLJBase/uKzAz/src/machines.jl:319\n",
      "\u001b[33mEvaluating over 6 folds: 100%[=========================] Time: 0:00:00\u001b[39m\n"
     ]
    },
    {
     "data": {
      "text/plain": [
       "┌\u001b[0m───────────\u001b[0m┬\u001b[0m───────────────\u001b[0m┬\u001b[0m────────────────────────────────────────────\u001b[0m┐\u001b[0m\n",
       "│\u001b[0m\u001b[22m _.measure \u001b[0m│\u001b[0m\u001b[22m _.measurement \u001b[0m│\u001b[0m\u001b[22m _.per_fold                                 \u001b[0m│\u001b[0m\n",
       "├\u001b[0m───────────\u001b[0m┼\u001b[0m───────────────\u001b[0m┼\u001b[0m────────────────────────────────────────────\u001b[0m┤\u001b[0m\n",
       "│\u001b[0m accuracy  \u001b[0m│\u001b[0m 0.637         \u001b[0m│\u001b[0m [0.602, 0.568, 0.636, 0.602, 0.642, 0.771] \u001b[0m│\u001b[0m\n",
       "└\u001b[0m───────────\u001b[0m┴\u001b[0m───────────────\u001b[0m┴\u001b[0m────────────────────────────────────────────\u001b[0m┘\u001b[0m\n",
       "_.per_observation = [missing]\n",
       "_.fitted_params_per_fold = [ … ]\n",
       "_.report_per_fold = [ … ]\n"
      ]
     },
     "execution_count": 15,
     "metadata": {},
     "output_type": "execute_result"
    }
   ],
   "source": [
    "svm_model = SVMClassifier(kernel=\"sigmoid\")\n",
    "svm_mach = machine(svm_model, X_stand, y)\n",
    "fit!(svm_mach, rows=train, verbosity=2)\n",
    "svm_acc = evaluate!(svm_mach, resampling=CV(shuffle=true), measure=[accuracy], \n",
    "                        verbosity=1)"
   ]
  },
  {
   "cell_type": "code",
   "execution_count": 16,
   "metadata": {},
   "outputs": [
    {
     "name": "stderr",
     "output_type": "stream",
     "text": [
      "┌ Warning: The scitype of `X`, in `machine(model, X, ...)` is incompatible with `model=\u001b[34mSVMClassifier @087\u001b[39m`:\n",
      "│ scitype(X) = Table{Union{AbstractArray{Continuous,1}, AbstractArray{Count,1}}}\n",
      "│ input_scitype(model) = Table{var\"#s44\"} where var\"#s44\"<:(AbstractArray{var\"#s13\",1} where var\"#s13\"<:Continuous).\n",
      "└ @ MLJBase /home/andrew/.julia/packages/MLJBase/uKzAz/src/machines.jl:77\n",
      "┌ Info: Training \u001b[34mMachine{SVMClassifier} @723\u001b[39m.\n",
      "└ @ MLJBase /home/andrew/.julia/packages/MLJBase/uKzAz/src/machines.jl:319\n",
      "\u001b[33mEvaluating over 6 folds: 100%[=========================] Time: 0:00:00\u001b[39m\n"
     ]
    },
    {
     "data": {
      "text/plain": [
       "┌\u001b[0m───────────\u001b[0m┬\u001b[0m───────────────\u001b[0m┬\u001b[0m────────────────────────────────────────────\u001b[0m┐\u001b[0m\n",
       "│\u001b[0m\u001b[22m _.measure \u001b[0m│\u001b[0m\u001b[22m _.measurement \u001b[0m│\u001b[0m\u001b[22m _.per_fold                                 \u001b[0m│\u001b[0m\n",
       "├\u001b[0m───────────\u001b[0m┼\u001b[0m───────────────\u001b[0m┼\u001b[0m────────────────────────────────────────────\u001b[0m┤\u001b[0m\n",
       "│\u001b[0m accuracy  \u001b[0m│\u001b[0m 0.873         \u001b[0m│\u001b[0m [0.864, 0.875, 0.898, 0.892, 0.841, 0.869] \u001b[0m│\u001b[0m\n",
       "└\u001b[0m───────────\u001b[0m┴\u001b[0m───────────────\u001b[0m┴\u001b[0m────────────────────────────────────────────\u001b[0m┘\u001b[0m\n",
       "_.per_observation = [missing]\n",
       "_.fitted_params_per_fold = [ … ]\n",
       "_.report_per_fold = [ … ]\n"
      ]
     },
     "execution_count": 16,
     "metadata": {},
     "output_type": "execute_result"
    }
   ],
   "source": [
    "svm_model = SVMClassifier(kernel=\"rbf\")\n",
    "svm_mach = machine(svm_model, X_stand, y)\n",
    "fit!(svm_mach, rows=train, verbosity=2)\n",
    "svm_acc = evaluate!(svm_mach, resampling=CV(shuffle=true), measure=[accuracy], \n",
    "                        verbosity=1)"
   ]
  },
  {
   "cell_type": "markdown",
   "metadata": {},
   "source": [
    "Poly Degree 2 took a long wall clock time"
   ]
  },
  {
   "cell_type": "code",
   "execution_count": 17,
   "metadata": {
    "scrolled": true
   },
   "outputs": [
    {
     "name": "stderr",
     "output_type": "stream",
     "text": [
      "┌ Warning: The scitype of `X`, in `machine(model, X, ...)` is incompatible with `model=\u001b[34mSVMClassifier @741\u001b[39m`:\n",
      "│ scitype(X) = Table{Union{AbstractArray{Continuous,1}, AbstractArray{Count,1}}}\n",
      "│ input_scitype(model) = Table{var\"#s44\"} where var\"#s44\"<:(AbstractArray{var\"#s13\",1} where var\"#s13\"<:Continuous).\n",
      "└ @ MLJBase /home/andrew/.julia/packages/MLJBase/uKzAz/src/machines.jl:77\n",
      "┌ Info: Training \u001b[34mMachine{SVMClassifier} @349\u001b[39m.\n",
      "└ @ MLJBase /home/andrew/.julia/packages/MLJBase/uKzAz/src/machines.jl:319\n",
      "\u001b[33mEvaluating over 6 folds: 100%[=========================] Time: 0:00:00\u001b[39m\n"
     ]
    },
    {
     "data": {
      "text/plain": [
       "┌\u001b[0m───────────\u001b[0m┬\u001b[0m───────────────\u001b[0m┬\u001b[0m────────────────────────────────────────────\u001b[0m┐\u001b[0m\n",
       "│\u001b[0m\u001b[22m _.measure \u001b[0m│\u001b[0m\u001b[22m _.measurement \u001b[0m│\u001b[0m\u001b[22m _.per_fold                                 \u001b[0m│\u001b[0m\n",
       "├\u001b[0m───────────\u001b[0m┼\u001b[0m───────────────\u001b[0m┼\u001b[0m────────────────────────────────────────────\u001b[0m┤\u001b[0m\n",
       "│\u001b[0m accuracy  \u001b[0m│\u001b[0m 0.868         \u001b[0m│\u001b[0m [0.847, 0.864, 0.869, 0.864, 0.892, 0.874] \u001b[0m│\u001b[0m\n",
       "└\u001b[0m───────────\u001b[0m┴\u001b[0m───────────────\u001b[0m┴\u001b[0m────────────────────────────────────────────\u001b[0m┘\u001b[0m\n",
       "_.per_observation = [missing]\n",
       "_.fitted_params_per_fold = [ … ]\n",
       "_.report_per_fold = [ … ]\n"
      ]
     },
     "execution_count": 17,
     "metadata": {},
     "output_type": "execute_result"
    }
   ],
   "source": [
    "svm_model = SVMClassifier(kernel=\"poly\", degree=2)\n",
    "svm_mach = machine(svm_model, X_stand, y)\n",
    "fit!(svm_mach, rows=train, verbosity=2)\n",
    "svm_acc = evaluate!(svm_mach, resampling=CV(shuffle=true), measure=[accuracy], \n",
    "                        verbosity=1)"
   ]
  },
  {
   "cell_type": "markdown",
   "metadata": {},
   "source": [
    "Can't use crossentropy because it is a probabilistic concept, and SVM doesn't do probabilities?"
   ]
  },
  {
   "cell_type": "markdown",
   "metadata": {},
   "source": [
    "### GridSearch / RandomSearch"
   ]
  },
  {
   "cell_type": "markdown",
   "metadata": {},
   "source": [
    "Use `linear` and `rbf`: \n",
    "* `linear` which has high bias\n",
    "* `rbf` which has high variance"
   ]
  },
  {
   "cell_type": "markdown",
   "metadata": {},
   "source": [
    "##### First look at `linear`"
   ]
  },
  {
   "cell_type": "code",
   "execution_count": 18,
   "metadata": {},
   "outputs": [
    {
     "name": "stderr",
     "output_type": "stream",
     "text": [
      "┌ Warning: The scitype of `X`, in `machine(model, X, ...)` is incompatible with `model=\u001b[34mSVMClassifier @296\u001b[39m`:\n",
      "│ scitype(X) = Table{Union{AbstractArray{Continuous,1}, AbstractArray{Count,1}}}\n",
      "│ input_scitype(model) = Table{var\"#s44\"} where var\"#s44\"<:(AbstractArray{var\"#s13\",1} where var\"#s13\"<:Continuous).\n",
      "└ @ MLJBase /home/andrew/.julia/packages/MLJBase/uKzAz/src/machines.jl:77\n"
     ]
    },
    {
     "data": {
      "text/plain": [
       "\u001b[34mMachine{SVMClassifier} @139\u001b[39m trained 0 times.\n",
       "  args: \n",
       "    1:\t\u001b[34mSource @155\u001b[39m ⏎ `Table{Union{AbstractArray{Continuous,1}, AbstractArray{Count,1}}}`\n",
       "    2:\t\u001b[34mSource @584\u001b[39m ⏎ `AbstractArray{Multiclass{2},1}`\n"
      ]
     },
     "execution_count": 18,
     "metadata": {},
     "output_type": "execute_result"
    }
   ],
   "source": [
    "svm_linear_model = SVMClassifier(kernel=\"linear\", cache_size=1000)\n",
    "svm_linear_mach = machine(svm_linear_model, X_stand, y)"
   ]
  },
  {
   "cell_type": "code",
   "execution_count": 19,
   "metadata": {
    "scrolled": true
   },
   "outputs": [
    {
     "name": "stderr",
     "output_type": "stream",
     "text": [
      "┌ Info: Training \u001b[34mMachine{DeterministicTunedModel{Grid,…}} @525\u001b[39m.\n",
      "└ @ MLJBase /home/andrew/.julia/packages/MLJBase/uKzAz/src/machines.jl:319\n",
      "┌ Info: Attempting to evaluate 30 models.\n",
      "└ @ MLJTuning /home/andrew/.julia/packages/MLJTuning/Bbgvk/src/tuned_models.jl:494\n",
      "┌ Warning: The scitype of `X`, in `machine(model, X, ...)` is incompatible with `model=\u001b[34mResampler{CV,…} @917\u001b[39m`:\n",
      "│ scitype(X) = Table{Union{AbstractArray{Continuous,1}, AbstractArray{Count,1}}}\n",
      "│ input_scitype(model) = Table{var\"#s44\"} where var\"#s44\"<:(AbstractArray{var\"#s13\",1} where var\"#s13\"<:Continuous).\n",
      "└ @ MLJBase /home/andrew/.julia/packages/MLJBase/uKzAz/src/machines.jl:77\n",
      "\u001b[33mEvaluating over 30 metamodels:   0%[>                        ]  ETA: N/A\u001b[39m┌ Warning: The scitype of `X`, in `machine(model, X, ...)` is incompatible with `model=\u001b[34mSVMClassifier @527\u001b[39m`:\n",
      "│ scitype(X) = Table{Union{AbstractArray{Continuous,1}, AbstractArray{Count,1}}}\n",
      "│ input_scitype(model) = Table{var\"#s44\"} where var\"#s44\"<:(AbstractArray{var\"#s13\",1} where var\"#s13\"<:Continuous).\n",
      "└ @ MLJBase /home/andrew/.julia/packages/MLJBase/uKzAz/src/machines.jl:77\n",
      "\u001b[33mEvaluating over 30 metamodels:   3%[>                        ]  ETA: 0:00:18\u001b[39m┌ Warning: The scitype of `X`, in `machine(model, X, ...)` is incompatible with `model=\u001b[34mSVMClassifier @692\u001b[39m`:\n",
      "│ scitype(X) = Table{Union{AbstractArray{Continuous,1}, AbstractArray{Count,1}}}\n",
      "│ input_scitype(model) = Table{var\"#s44\"} where var\"#s44\"<:(AbstractArray{var\"#s13\",1} where var\"#s13\"<:Continuous).\n",
      "└ @ MLJBase /home/andrew/.julia/packages/MLJBase/uKzAz/src/machines.jl:77\n",
      "\u001b[33mEvaluating over 30 metamodels:   7%[=>                       ]  ETA: 0:00:13\u001b[39m┌ Warning: The scitype of `X`, in `machine(model, X, ...)` is incompatible with `model=\u001b[34mSVMClassifier @015\u001b[39m`:\n",
      "│ scitype(X) = Table{Union{AbstractArray{Continuous,1}, AbstractArray{Count,1}}}\n",
      "│ input_scitype(model) = Table{var\"#s44\"} where var\"#s44\"<:(AbstractArray{var\"#s13\",1} where var\"#s13\"<:Continuous).\n",
      "└ @ MLJBase /home/andrew/.julia/packages/MLJBase/uKzAz/src/machines.jl:77\n",
      "\u001b[33mEvaluating over 30 metamodels:  10%[==>                      ]  ETA: 0:00:09\u001b[39m┌ Warning: The scitype of `X`, in `machine(model, X, ...)` is incompatible with `model=\u001b[34mSVMClassifier @027\u001b[39m`:\n",
      "│ scitype(X) = Table{Union{AbstractArray{Continuous,1}, AbstractArray{Count,1}}}\n",
      "│ input_scitype(model) = Table{var\"#s44\"} where var\"#s44\"<:(AbstractArray{var\"#s13\",1} where var\"#s13\"<:Continuous).\n",
      "└ @ MLJBase /home/andrew/.julia/packages/MLJBase/uKzAz/src/machines.jl:77\n",
      "\u001b[33mEvaluating over 30 metamodels:  13%[===>                     ]  ETA: 0:00:08\u001b[39m┌ Warning: The scitype of `X`, in `machine(model, X, ...)` is incompatible with `model=\u001b[34mSVMClassifier @248\u001b[39m`:\n",
      "│ scitype(X) = Table{Union{AbstractArray{Continuous,1}, AbstractArray{Count,1}}}\n",
      "│ input_scitype(model) = Table{var\"#s44\"} where var\"#s44\"<:(AbstractArray{var\"#s13\",1} where var\"#s13\"<:Continuous).\n",
      "└ @ MLJBase /home/andrew/.julia/packages/MLJBase/uKzAz/src/machines.jl:77\n",
      "\u001b[33mEvaluating over 30 metamodels:  17%[====>                    ]  ETA: 0:00:06\u001b[39m┌ Warning: The scitype of `X`, in `machine(model, X, ...)` is incompatible with `model=\u001b[34mSVMClassifier @684\u001b[39m`:\n",
      "│ scitype(X) = Table{Union{AbstractArray{Continuous,1}, AbstractArray{Count,1}}}\n",
      "│ input_scitype(model) = Table{var\"#s44\"} where var\"#s44\"<:(AbstractArray{var\"#s13\",1} where var\"#s13\"<:Continuous).\n",
      "└ @ MLJBase /home/andrew/.julia/packages/MLJBase/uKzAz/src/machines.jl:77\n",
      "\u001b[33mEvaluating over 30 metamodels:  20%[=====>                   ]  ETA: 0:00:06\u001b[39m┌ Warning: The scitype of `X`, in `machine(model, X, ...)` is incompatible with `model=\u001b[34mSVMClassifier @523\u001b[39m`:\n",
      "│ scitype(X) = Table{Union{AbstractArray{Continuous,1}, AbstractArray{Count,1}}}\n",
      "│ input_scitype(model) = Table{var\"#s44\"} where var\"#s44\"<:(AbstractArray{var\"#s13\",1} where var\"#s13\"<:Continuous).\n",
      "└ @ MLJBase /home/andrew/.julia/packages/MLJBase/uKzAz/src/machines.jl:77\n",
      "\u001b[33mEvaluating over 30 metamodels:  23%[=====>                   ]  ETA: 0:00:05\u001b[39m┌ Warning: The scitype of `X`, in `machine(model, X, ...)` is incompatible with `model=\u001b[34mSVMClassifier @424\u001b[39m`:\n",
      "│ scitype(X) = Table{Union{AbstractArray{Continuous,1}, AbstractArray{Count,1}}}\n",
      "│ input_scitype(model) = Table{var\"#s44\"} where var\"#s44\"<:(AbstractArray{var\"#s13\",1} where var\"#s13\"<:Continuous).\n",
      "└ @ MLJBase /home/andrew/.julia/packages/MLJBase/uKzAz/src/machines.jl:77\n",
      "\u001b[33mEvaluating over 30 metamodels:  27%[======>                  ]  ETA: 0:00:05\u001b[39m┌ Warning: The scitype of `X`, in `machine(model, X, ...)` is incompatible with `model=\u001b[34mSVMClassifier @108\u001b[39m`:\n",
      "│ scitype(X) = Table{Union{AbstractArray{Continuous,1}, AbstractArray{Count,1}}}\n",
      "│ input_scitype(model) = Table{var\"#s44\"} where var\"#s44\"<:(AbstractArray{var\"#s13\",1} where var\"#s13\"<:Continuous).\n",
      "└ @ MLJBase /home/andrew/.julia/packages/MLJBase/uKzAz/src/machines.jl:77\n",
      "\u001b[33mEvaluating over 30 metamodels:  30%[=======>                 ]  ETA: 0:00:05\u001b[39m┌ Warning: The scitype of `X`, in `machine(model, X, ...)` is incompatible with `model=\u001b[34mSVMClassifier @040\u001b[39m`:\n",
      "│ scitype(X) = Table{Union{AbstractArray{Continuous,1}, AbstractArray{Count,1}}}\n",
      "│ input_scitype(model) = Table{var\"#s44\"} where var\"#s44\"<:(AbstractArray{var\"#s13\",1} where var\"#s13\"<:Continuous).\n",
      "└ @ MLJBase /home/andrew/.julia/packages/MLJBase/uKzAz/src/machines.jl:77\n",
      "\u001b[33mEvaluating over 30 metamodels:  33%[========>                ]  ETA: 0:00:04\u001b[39m┌ Warning: The scitype of `X`, in `machine(model, X, ...)` is incompatible with `model=\u001b[34mSVMClassifier @078\u001b[39m`:\n",
      "│ scitype(X) = Table{Union{AbstractArray{Continuous,1}, AbstractArray{Count,1}}}\n",
      "│ input_scitype(model) = Table{var\"#s44\"} where var\"#s44\"<:(AbstractArray{var\"#s13\",1} where var\"#s13\"<:Continuous).\n",
      "└ @ MLJBase /home/andrew/.julia/packages/MLJBase/uKzAz/src/machines.jl:77\n",
      "\u001b[33mEvaluating over 30 metamodels:  37%[=========>               ]  ETA: 0:00:04\u001b[39m┌ Warning: The scitype of `X`, in `machine(model, X, ...)` is incompatible with `model=\u001b[34mSVMClassifier @942\u001b[39m`:\n",
      "│ scitype(X) = Table{Union{AbstractArray{Continuous,1}, AbstractArray{Count,1}}}\n",
      "│ input_scitype(model) = Table{var\"#s44\"} where var\"#s44\"<:(AbstractArray{var\"#s13\",1} where var\"#s13\"<:Continuous).\n",
      "└ @ MLJBase /home/andrew/.julia/packages/MLJBase/uKzAz/src/machines.jl:77\n",
      "\u001b[33mEvaluating over 30 metamodels:  40%[==========>              ]  ETA: 0:00:04\u001b[39m┌ Warning: The scitype of `X`, in `machine(model, X, ...)` is incompatible with `model=\u001b[34mSVMClassifier @455\u001b[39m`:\n",
      "│ scitype(X) = Table{Union{AbstractArray{Continuous,1}, AbstractArray{Count,1}}}\n",
      "│ input_scitype(model) = Table{var\"#s44\"} where var\"#s44\"<:(AbstractArray{var\"#s13\",1} where var\"#s13\"<:Continuous).\n",
      "└ @ MLJBase /home/andrew/.julia/packages/MLJBase/uKzAz/src/machines.jl:77\n",
      "\u001b[33mEvaluating over 30 metamodels:  43%[==========>              ]  ETA: 0:00:04\u001b[39m┌ Warning: The scitype of `X`, in `machine(model, X, ...)` is incompatible with `model=\u001b[34mSVMClassifier @752\u001b[39m`:\n",
      "│ scitype(X) = Table{Union{AbstractArray{Continuous,1}, AbstractArray{Count,1}}}\n",
      "│ input_scitype(model) = Table{var\"#s44\"} where var\"#s44\"<:(AbstractArray{var\"#s13\",1} where var\"#s13\"<:Continuous).\n",
      "└ @ MLJBase /home/andrew/.julia/packages/MLJBase/uKzAz/src/machines.jl:77\n",
      "\u001b[33mEvaluating over 30 metamodels:  47%[===========>             ]  ETA: 0:00:04\u001b[39m┌ Warning: The scitype of `X`, in `machine(model, X, ...)` is incompatible with `model=\u001b[34mSVMClassifier @356\u001b[39m`:\n",
      "│ scitype(X) = Table{Union{AbstractArray{Continuous,1}, AbstractArray{Count,1}}}\n",
      "│ input_scitype(model) = Table{var\"#s44\"} where var\"#s44\"<:(AbstractArray{var\"#s13\",1} where var\"#s13\"<:Continuous).\n",
      "└ @ MLJBase /home/andrew/.julia/packages/MLJBase/uKzAz/src/machines.jl:77\n",
      "\u001b[33mEvaluating over 30 metamodels:  50%[============>            ]  ETA: 0:00:05\u001b[39m┌ Warning: The scitype of `X`, in `machine(model, X, ...)` is incompatible with `model=\u001b[34mSVMClassifier @022\u001b[39m`:\n",
      "│ scitype(X) = Table{Union{AbstractArray{Continuous,1}, AbstractArray{Count,1}}}\n",
      "│ input_scitype(model) = Table{var\"#s44\"} where var\"#s44\"<:(AbstractArray{var\"#s13\",1} where var\"#s13\"<:Continuous).\n",
      "└ @ MLJBase /home/andrew/.julia/packages/MLJBase/uKzAz/src/machines.jl:77\n"
     ]
    },
    {
     "name": "stderr",
     "output_type": "stream",
     "text": [
      "\u001b[33mEvaluating over 30 metamodels:  53%[=============>           ]  ETA: 0:00:05\u001b[39m┌ Warning: The scitype of `X`, in `machine(model, X, ...)` is incompatible with `model=\u001b[34mSVMClassifier @650\u001b[39m`:\n",
      "│ scitype(X) = Table{Union{AbstractArray{Continuous,1}, AbstractArray{Count,1}}}\n",
      "│ input_scitype(model) = Table{var\"#s44\"} where var\"#s44\"<:(AbstractArray{var\"#s13\",1} where var\"#s13\"<:Continuous).\n",
      "└ @ MLJBase /home/andrew/.julia/packages/MLJBase/uKzAz/src/machines.jl:77\n",
      "\u001b[33mEvaluating over 30 metamodels:  57%[==============>          ]  ETA: 0:00:05\u001b[39m┌ Warning: The scitype of `X`, in `machine(model, X, ...)` is incompatible with `model=\u001b[34mSVMClassifier @997\u001b[39m`:\n",
      "│ scitype(X) = Table{Union{AbstractArray{Continuous,1}, AbstractArray{Count,1}}}\n",
      "│ input_scitype(model) = Table{var\"#s44\"} where var\"#s44\"<:(AbstractArray{var\"#s13\",1} where var\"#s13\"<:Continuous).\n",
      "└ @ MLJBase /home/andrew/.julia/packages/MLJBase/uKzAz/src/machines.jl:77\n",
      "\u001b[33mEvaluating over 30 metamodels:  60%[===============>         ]  ETA: 0:00:06\u001b[39m┌ Warning: The scitype of `X`, in `machine(model, X, ...)` is incompatible with `model=\u001b[34mSVMClassifier @303\u001b[39m`:\n",
      "│ scitype(X) = Table{Union{AbstractArray{Continuous,1}, AbstractArray{Count,1}}}\n",
      "│ input_scitype(model) = Table{var\"#s44\"} where var\"#s44\"<:(AbstractArray{var\"#s13\",1} where var\"#s13\"<:Continuous).\n",
      "└ @ MLJBase /home/andrew/.julia/packages/MLJBase/uKzAz/src/machines.jl:77\n",
      "\u001b[33mEvaluating over 30 metamodels:  63%[===============>         ]  ETA: 0:00:07\u001b[39m┌ Warning: The scitype of `X`, in `machine(model, X, ...)` is incompatible with `model=\u001b[34mSVMClassifier @888\u001b[39m`:\n",
      "│ scitype(X) = Table{Union{AbstractArray{Continuous,1}, AbstractArray{Count,1}}}\n",
      "│ input_scitype(model) = Table{var\"#s44\"} where var\"#s44\"<:(AbstractArray{var\"#s13\",1} where var\"#s13\"<:Continuous).\n",
      "└ @ MLJBase /home/andrew/.julia/packages/MLJBase/uKzAz/src/machines.jl:77\n",
      "\u001b[33mEvaluating over 30 metamodels:  67%[================>        ]  ETA: 0:00:08\u001b[39m┌ Warning: The scitype of `X`, in `machine(model, X, ...)` is incompatible with `model=\u001b[34mSVMClassifier @063\u001b[39m`:\n",
      "│ scitype(X) = Table{Union{AbstractArray{Continuous,1}, AbstractArray{Count,1}}}\n",
      "│ input_scitype(model) = Table{var\"#s44\"} where var\"#s44\"<:(AbstractArray{var\"#s13\",1} where var\"#s13\"<:Continuous).\n",
      "└ @ MLJBase /home/andrew/.julia/packages/MLJBase/uKzAz/src/machines.jl:77\n",
      "\u001b[33mEvaluating over 30 metamodels:  70%[=================>       ]  ETA: 0:00:08\u001b[39m┌ Warning: The scitype of `X`, in `machine(model, X, ...)` is incompatible with `model=\u001b[34mSVMClassifier @145\u001b[39m`:\n",
      "│ scitype(X) = Table{Union{AbstractArray{Continuous,1}, AbstractArray{Count,1}}}\n",
      "│ input_scitype(model) = Table{var\"#s44\"} where var\"#s44\"<:(AbstractArray{var\"#s13\",1} where var\"#s13\"<:Continuous).\n",
      "└ @ MLJBase /home/andrew/.julia/packages/MLJBase/uKzAz/src/machines.jl:77\n",
      "\u001b[33mEvaluating over 30 metamodels:  73%[==================>      ]  ETA: 0:00:09\u001b[39m┌ Warning: The scitype of `X`, in `machine(model, X, ...)` is incompatible with `model=\u001b[34mSVMClassifier @429\u001b[39m`:\n",
      "│ scitype(X) = Table{Union{AbstractArray{Continuous,1}, AbstractArray{Count,1}}}\n",
      "│ input_scitype(model) = Table{var\"#s44\"} where var\"#s44\"<:(AbstractArray{var\"#s13\",1} where var\"#s13\"<:Continuous).\n",
      "└ @ MLJBase /home/andrew/.julia/packages/MLJBase/uKzAz/src/machines.jl:77\n",
      "\u001b[33mEvaluating over 30 metamodels:  77%[===================>     ]  ETA: 0:00:12\u001b[39m┌ Warning: The scitype of `X`, in `machine(model, X, ...)` is incompatible with `model=\u001b[34mSVMClassifier @039\u001b[39m`:\n",
      "│ scitype(X) = Table{Union{AbstractArray{Continuous,1}, AbstractArray{Count,1}}}\n",
      "│ input_scitype(model) = Table{var\"#s44\"} where var\"#s44\"<:(AbstractArray{var\"#s13\",1} where var\"#s13\"<:Continuous).\n",
      "└ @ MLJBase /home/andrew/.julia/packages/MLJBase/uKzAz/src/machines.jl:77\n",
      "\u001b[33mEvaluating over 30 metamodels:  80%[====================>    ]  ETA: 0:00:14\u001b[39m┌ Warning: The scitype of `X`, in `machine(model, X, ...)` is incompatible with `model=\u001b[34mSVMClassifier @339\u001b[39m`:\n",
      "│ scitype(X) = Table{Union{AbstractArray{Continuous,1}, AbstractArray{Count,1}}}\n",
      "│ input_scitype(model) = Table{var\"#s44\"} where var\"#s44\"<:(AbstractArray{var\"#s13\",1} where var\"#s13\"<:Continuous).\n",
      "└ @ MLJBase /home/andrew/.julia/packages/MLJBase/uKzAz/src/machines.jl:77\n",
      "\u001b[33mEvaluating over 30 metamodels:  83%[====================>    ]  ETA: 0:00:14\u001b[39m┌ Warning: The scitype of `X`, in `machine(model, X, ...)` is incompatible with `model=\u001b[34mSVMClassifier @504\u001b[39m`:\n",
      "│ scitype(X) = Table{Union{AbstractArray{Continuous,1}, AbstractArray{Count,1}}}\n",
      "│ input_scitype(model) = Table{var\"#s44\"} where var\"#s44\"<:(AbstractArray{var\"#s13\",1} where var\"#s13\"<:Continuous).\n",
      "└ @ MLJBase /home/andrew/.julia/packages/MLJBase/uKzAz/src/machines.jl:77\n",
      "\u001b[33mEvaluating over 30 metamodels:  87%[=====================>   ]  ETA: 0:00:16\u001b[39m┌ Warning: The scitype of `X`, in `machine(model, X, ...)` is incompatible with `model=\u001b[34mSVMClassifier @099\u001b[39m`:\n",
      "│ scitype(X) = Table{Union{AbstractArray{Continuous,1}, AbstractArray{Count,1}}}\n",
      "│ input_scitype(model) = Table{var\"#s44\"} where var\"#s44\"<:(AbstractArray{var\"#s13\",1} where var\"#s13\"<:Continuous).\n",
      "└ @ MLJBase /home/andrew/.julia/packages/MLJBase/uKzAz/src/machines.jl:77\n",
      "\u001b[33mEvaluating over 30 metamodels:  90%[======================>  ]  ETA: 0:00:15\u001b[39m┌ Warning: The scitype of `X`, in `machine(model, X, ...)` is incompatible with `model=\u001b[34mSVMClassifier @779\u001b[39m`:\n",
      "│ scitype(X) = Table{Union{AbstractArray{Continuous,1}, AbstractArray{Count,1}}}\n",
      "│ input_scitype(model) = Table{var\"#s44\"} where var\"#s44\"<:(AbstractArray{var\"#s13\",1} where var\"#s13\"<:Continuous).\n",
      "└ @ MLJBase /home/andrew/.julia/packages/MLJBase/uKzAz/src/machines.jl:77\n",
      "\u001b[33mEvaluating over 30 metamodels:  93%[=======================> ]  ETA: 0:00:13\u001b[39m┌ Warning: The scitype of `X`, in `machine(model, X, ...)` is incompatible with `model=\u001b[34mSVMClassifier @215\u001b[39m`:\n",
      "│ scitype(X) = Table{Union{AbstractArray{Continuous,1}, AbstractArray{Count,1}}}\n",
      "│ input_scitype(model) = Table{var\"#s44\"} where var\"#s44\"<:(AbstractArray{var\"#s13\",1} where var\"#s13\"<:Continuous).\n",
      "└ @ MLJBase /home/andrew/.julia/packages/MLJBase/uKzAz/src/machines.jl:77\n",
      "\u001b[33mEvaluating over 30 metamodels:  97%[========================>]  ETA: 0:00:09\u001b[39m┌ Warning: The scitype of `X`, in `machine(model, X, ...)` is incompatible with `model=\u001b[34mSVMClassifier @854\u001b[39m`:\n",
      "│ scitype(X) = Table{Union{AbstractArray{Continuous,1}, AbstractArray{Count,1}}}\n",
      "│ input_scitype(model) = Table{var\"#s44\"} where var\"#s44\"<:(AbstractArray{var\"#s13\",1} where var\"#s13\"<:Continuous).\n",
      "└ @ MLJBase /home/andrew/.julia/packages/MLJBase/uKzAz/src/machines.jl:77\n",
      "\u001b[33mEvaluating over 30 metamodels: 100%[=========================] Time: 0:06:07\u001b[39m\n",
      "┌ Warning: The scitype of `X`, in `machine(model, X, ...)` is incompatible with `model=\u001b[34mSVMClassifier @684\u001b[39m`:\n",
      "│ scitype(X) = Table{Union{AbstractArray{Continuous,1}, AbstractArray{Count,1}}}\n",
      "│ input_scitype(model) = Table{var\"#s44\"} where var\"#s44\"<:(AbstractArray{var\"#s13\",1} where var\"#s13\"<:Continuous).\n",
      "└ @ MLJBase /home/andrew/.julia/packages/MLJBase/uKzAz/src/machines.jl:77\n"
     ]
    },
    {
     "data": {
      "text/plain": [
       "(parameter_name = \"C\",\n",
       " parameter_scale = :log10,\n",
       " parameter_values = [0.05000000000000002, 0.06869118979416318, 0.09436959110675487, 0.1296471898702334, 0.1781123945131222, 0.24469504592387473, 0.3361678768249669, 0.4618354285936932, 0.6344805015839612, 0.8716644110999942  …  28.68076255224339, 39.402314078349555, 54.13183669370272, 74.36760536467558, 102.16798589284707, 140.3608101970589, 192.83102105817358, 264.91584531418533, 363.94769219915764, 499.99999999999994],\n",
       " measurements = [0.8304112554112555, 0.8294588744588745, 0.8332521645021645, 0.8389339826839827, 0.8427272727272728, 0.8455681818181818, 0.83987012987013, 0.8417748917748918, 0.84366341991342, 0.8417586580086579  …  0.839853896103896, 0.8408008658008658, 0.839853896103896, 0.8389069264069263, 0.8389069264069263, 0.839853896103896, 0.8389069264069263, 0.8389069264069263, 0.8389069264069263, 0.839853896103896],)"
      ]
     },
     "execution_count": 19,
     "metadata": {},
     "output_type": "execute_result"
    }
   ],
   "source": [
    "r1 = range(svm_linear_model, :C, lower=5*10^-2, upper=5*10^2, scale=:log10)\n",
    "curve = learning_curve(svm_linear_mach, \n",
    "                        range=r1,\n",
    "                        resampling=CV(), \n",
    "                        measure=accuracy, \n",
    "                        acceleration=CPUProcesses(),\n",
    "                        resolution=30)"
   ]
  },
  {
   "cell_type": "code",
   "execution_count": 20,
   "metadata": {},
   "outputs": [
    {
     "data": {
      "image/svg+xml": [
       "<?xml version=\"1.0\" encoding=\"utf-8\"?>\n",
       "<svg xmlns=\"http://www.w3.org/2000/svg\" xmlns:xlink=\"http://www.w3.org/1999/xlink\" width=\"600\" height=\"400\" viewBox=\"0 0 2400 1600\">\n",
       "<defs>\n",
       "  <clipPath id=\"clip810\">\n",
       "    <rect x=\"0\" y=\"0\" width=\"2400\" height=\"1600\"/>\n",
       "  </clipPath>\n",
       "</defs>\n",
       "<path clip-path=\"url(#clip810)\" d=\"\n",
       "M0 1600 L2400 1600 L2400 0 L0 0  Z\n",
       "  \" fill=\"#ffffff\" fill-rule=\"evenodd\" fill-opacity=\"1\"/>\n",
       "<defs>\n",
       "  <clipPath id=\"clip811\">\n",
       "    <rect x=\"480\" y=\"0\" width=\"1681\" height=\"1600\"/>\n",
       "  </clipPath>\n",
       "</defs>\n",
       "<path clip-path=\"url(#clip810)\" d=\"\n",
       "M265.537 1410.9 L2352.76 1410.9 L2352.76 47.2441 L265.537 47.2441  Z\n",
       "  \" fill=\"#ffffff\" fill-rule=\"evenodd\" fill-opacity=\"1\"/>\n",
       "<defs>\n",
       "  <clipPath id=\"clip812\">\n",
       "    <rect x=\"265\" y=\"47\" width=\"2088\" height=\"1365\"/>\n",
       "  </clipPath>\n",
       "</defs>\n",
       "<polyline clip-path=\"url(#clip812)\" style=\"stroke:#000000; stroke-width:2; stroke-opacity:0.1; fill:none\" points=\"\n",
       "  472.797,1410.9 472.797,47.2441 \n",
       "  \"/>\n",
       "<polyline clip-path=\"url(#clip812)\" style=\"stroke:#000000; stroke-width:2; stroke-opacity:0.1; fill:none\" points=\"\n",
       "  965.066,1410.9 965.066,47.2441 \n",
       "  \"/>\n",
       "<polyline clip-path=\"url(#clip812)\" style=\"stroke:#000000; stroke-width:2; stroke-opacity:0.1; fill:none\" points=\"\n",
       "  1457.33,1410.9 1457.33,47.2441 \n",
       "  \"/>\n",
       "<polyline clip-path=\"url(#clip812)\" style=\"stroke:#000000; stroke-width:2; stroke-opacity:0.1; fill:none\" points=\"\n",
       "  1949.6,1410.9 1949.6,47.2441 \n",
       "  \"/>\n",
       "<polyline clip-path=\"url(#clip812)\" style=\"stroke:#000000; stroke-width:2; stroke-opacity:0.1; fill:none\" points=\"\n",
       "  265.537,1329.09 2352.76,1329.09 \n",
       "  \"/>\n",
       "<polyline clip-path=\"url(#clip812)\" style=\"stroke:#000000; stroke-width:2; stroke-opacity:0.1; fill:none\" points=\"\n",
       "  265.537,929.797 2352.76,929.797 \n",
       "  \"/>\n",
       "<polyline clip-path=\"url(#clip812)\" style=\"stroke:#000000; stroke-width:2; stroke-opacity:0.1; fill:none\" points=\"\n",
       "  265.537,530.505 2352.76,530.505 \n",
       "  \"/>\n",
       "<polyline clip-path=\"url(#clip812)\" style=\"stroke:#000000; stroke-width:2; stroke-opacity:0.1; fill:none\" points=\"\n",
       "  265.537,131.212 2352.76,131.212 \n",
       "  \"/>\n",
       "<polyline clip-path=\"url(#clip810)\" style=\"stroke:#000000; stroke-width:4; stroke-opacity:1; fill:none\" points=\"\n",
       "  265.537,1410.9 2352.76,1410.9 \n",
       "  \"/>\n",
       "<polyline clip-path=\"url(#clip810)\" style=\"stroke:#000000; stroke-width:4; stroke-opacity:1; fill:none\" points=\"\n",
       "  265.537,1410.9 265.537,47.2441 \n",
       "  \"/>\n",
       "<polyline clip-path=\"url(#clip810)\" style=\"stroke:#000000; stroke-width:4; stroke-opacity:1; fill:none\" points=\"\n",
       "  472.797,1410.9 472.797,1394.53 \n",
       "  \"/>\n",
       "<polyline clip-path=\"url(#clip810)\" style=\"stroke:#000000; stroke-width:4; stroke-opacity:1; fill:none\" points=\"\n",
       "  965.066,1410.9 965.066,1394.53 \n",
       "  \"/>\n",
       "<polyline clip-path=\"url(#clip810)\" style=\"stroke:#000000; stroke-width:4; stroke-opacity:1; fill:none\" points=\"\n",
       "  1457.33,1410.9 1457.33,1394.53 \n",
       "  \"/>\n",
       "<polyline clip-path=\"url(#clip810)\" style=\"stroke:#000000; stroke-width:4; stroke-opacity:1; fill:none\" points=\"\n",
       "  1949.6,1410.9 1949.6,1394.53 \n",
       "  \"/>\n",
       "<polyline clip-path=\"url(#clip810)\" style=\"stroke:#000000; stroke-width:4; stroke-opacity:1; fill:none\" points=\"\n",
       "  265.537,1329.09 290.584,1329.09 \n",
       "  \"/>\n",
       "<polyline clip-path=\"url(#clip810)\" style=\"stroke:#000000; stroke-width:4; stroke-opacity:1; fill:none\" points=\"\n",
       "  265.537,929.797 290.584,929.797 \n",
       "  \"/>\n",
       "<polyline clip-path=\"url(#clip810)\" style=\"stroke:#000000; stroke-width:4; stroke-opacity:1; fill:none\" points=\"\n",
       "  265.537,530.505 290.584,530.505 \n",
       "  \"/>\n",
       "<polyline clip-path=\"url(#clip810)\" style=\"stroke:#000000; stroke-width:4; stroke-opacity:1; fill:none\" points=\"\n",
       "  265.537,131.212 290.584,131.212 \n",
       "  \"/>\n",
       "<path clip-path=\"url(#clip810)\" d=\"M 0 0 M427.141 1481.97 L434.779 1481.97 L434.779 1455.6 L426.469 1457.27 L426.469 1453.01 L434.733 1451.34 L439.409 1451.34 L439.409 1481.97 L447.048 1481.97 L447.048 1485.9 L427.141 1485.9 L427.141 1481.97 Z\" fill=\"#000000\" fill-rule=\"evenodd\" fill-opacity=\"1\" /><path clip-path=\"url(#clip810)\" d=\"M 0 0 M462.117 1454.42 Q458.506 1454.42 456.677 1457.99 Q454.872 1461.53 454.872 1468.66 Q454.872 1475.77 456.677 1479.33 Q458.506 1482.87 462.117 1482.87 Q465.751 1482.87 467.557 1479.33 Q469.386 1475.77 469.386 1468.66 Q469.386 1461.53 467.557 1457.99 Q465.751 1454.42 462.117 1454.42 M462.117 1450.72 Q467.927 1450.72 470.983 1455.33 Q474.062 1459.91 474.062 1468.66 Q474.062 1477.39 470.983 1481.99 Q467.927 1486.58 462.117 1486.58 Q456.307 1486.58 453.228 1481.99 Q450.173 1477.39 450.173 1468.66 Q450.173 1459.91 453.228 1455.33 Q456.307 1450.72 462.117 1450.72 Z\" fill=\"#000000\" fill-rule=\"evenodd\" fill-opacity=\"1\" /><path clip-path=\"url(#clip810)\" d=\"M 0 0 M474.062 1444.82 L498.173 1444.82 L498.173 1448.02 L474.062 1448.02 L474.062 1444.82 Z\" fill=\"#000000\" fill-rule=\"evenodd\" fill-opacity=\"1\" /><path clip-path=\"url(#clip810)\" d=\"M 0 0 M502.95 1455.3 L509.157 1455.3 L509.157 1433.87 L502.405 1435.23 L502.405 1431.77 L509.119 1430.41 L512.918 1430.41 L512.918 1455.3 L519.125 1455.3 L519.125 1458.49 L502.95 1458.49 L502.95 1455.3 Z\" fill=\"#000000\" fill-rule=\"evenodd\" fill-opacity=\"1\" /><path clip-path=\"url(#clip810)\" d=\"M 0 0 M932.236 1481.97 L939.875 1481.97 L939.875 1455.6 L931.565 1457.27 L931.565 1453.01 L939.829 1451.34 L944.504 1451.34 L944.504 1481.97 L952.143 1481.97 L952.143 1485.9 L932.236 1485.9 L932.236 1481.97 Z\" fill=\"#000000\" fill-rule=\"evenodd\" fill-opacity=\"1\" /><path clip-path=\"url(#clip810)\" d=\"M 0 0 M967.213 1454.42 Q963.602 1454.42 961.773 1457.99 Q959.967 1461.53 959.967 1468.66 Q959.967 1475.77 961.773 1479.33 Q963.602 1482.87 967.213 1482.87 Q970.847 1482.87 972.652 1479.33 Q974.481 1475.77 974.481 1468.66 Q974.481 1461.53 972.652 1457.99 Q970.847 1454.42 967.213 1454.42 M967.213 1450.72 Q973.023 1450.72 976.078 1455.33 Q979.157 1459.91 979.157 1468.66 Q979.157 1477.39 976.078 1481.99 Q973.023 1486.58 967.213 1486.58 Q961.402 1486.58 958.324 1481.99 Q955.268 1477.39 955.268 1468.66 Q955.268 1459.91 958.324 1455.33 Q961.402 1450.72 967.213 1450.72 Z\" fill=\"#000000\" fill-rule=\"evenodd\" fill-opacity=\"1\" /><path clip-path=\"url(#clip810)\" d=\"M 0 0 M988.862 1432.91 Q985.928 1432.91 984.442 1435.81 Q982.975 1438.69 982.975 1444.48 Q982.975 1450.26 984.442 1453.15 Q985.928 1456.03 988.862 1456.03 Q991.815 1456.03 993.282 1453.15 Q994.767 1450.26 994.767 1444.48 Q994.767 1438.69 993.282 1435.81 Q991.815 1432.91 988.862 1432.91 M988.862 1429.91 Q993.583 1429.91 996.065 1433.65 Q998.567 1437.37 998.567 1444.48 Q998.567 1451.57 996.065 1455.31 Q993.583 1459.04 988.862 1459.04 Q984.141 1459.04 981.64 1455.31 Q979.157 1451.57 979.157 1444.48 Q979.157 1437.37 981.64 1433.65 Q984.141 1429.91 988.862 1429.91 Z\" fill=\"#000000\" fill-rule=\"evenodd\" fill-opacity=\"1\" /><path clip-path=\"url(#clip810)\" d=\"M 0 0 M1425.85 1481.97 L1433.49 1481.97 L1433.49 1455.6 L1425.18 1457.27 L1425.18 1453.01 L1433.44 1451.34 L1438.12 1451.34 L1438.12 1481.97 L1445.76 1481.97 L1445.76 1485.9 L1425.85 1485.9 L1425.85 1481.97 Z\" fill=\"#000000\" fill-rule=\"evenodd\" fill-opacity=\"1\" /><path clip-path=\"url(#clip810)\" d=\"M 0 0 M1460.83 1454.42 Q1457.21 1454.42 1455.39 1457.99 Q1453.58 1461.53 1453.58 1468.66 Q1453.58 1475.77 1455.39 1479.33 Q1457.21 1482.87 1460.83 1482.87 Q1464.46 1482.87 1466.27 1479.33 Q1468.09 1475.77 1468.09 1468.66 Q1468.09 1461.53 1466.27 1457.99 Q1464.46 1454.42 1460.83 1454.42 M1460.83 1450.72 Q1466.64 1450.72 1469.69 1455.33 Q1472.77 1459.91 1472.77 1468.66 Q1472.77 1477.39 1469.69 1481.99 Q1466.64 1486.58 1460.83 1486.58 Q1455.02 1486.58 1451.94 1481.99 Q1448.88 1477.39 1448.88 1468.66 Q1448.88 1459.91 1451.94 1455.33 Q1455.02 1450.72 1460.83 1450.72 Z\" fill=\"#000000\" fill-rule=\"evenodd\" fill-opacity=\"1\" /><path clip-path=\"url(#clip810)\" d=\"M 0 0 M1473.32 1455.3 L1479.52 1455.3 L1479.52 1433.87 L1472.77 1435.23 L1472.77 1431.77 L1479.48 1430.41 L1483.28 1430.41 L1483.28 1455.3 L1489.49 1455.3 L1489.49 1458.49 L1473.32 1458.49 L1473.32 1455.3 Z\" fill=\"#000000\" fill-rule=\"evenodd\" fill-opacity=\"1\" /><path clip-path=\"url(#clip810)\" d=\"M 0 0 M1917.56 1481.97 L1925.2 1481.97 L1925.2 1455.6 L1916.89 1457.27 L1916.89 1453.01 L1925.16 1451.34 L1929.83 1451.34 L1929.83 1481.97 L1937.47 1481.97 L1937.47 1485.9 L1917.56 1485.9 L1917.56 1481.97 Z\" fill=\"#000000\" fill-rule=\"evenodd\" fill-opacity=\"1\" /><path clip-path=\"url(#clip810)\" d=\"M 0 0 M1952.54 1454.42 Q1948.93 1454.42 1947.1 1457.99 Q1945.29 1461.53 1945.29 1468.66 Q1945.29 1475.77 1947.1 1479.33 Q1948.93 1482.87 1952.54 1482.87 Q1956.17 1482.87 1957.98 1479.33 Q1959.81 1475.77 1959.81 1468.66 Q1959.81 1461.53 1957.98 1457.99 Q1956.17 1454.42 1952.54 1454.42 M1952.54 1450.72 Q1958.35 1450.72 1961.41 1455.33 Q1964.48 1459.91 1964.48 1468.66 Q1964.48 1477.39 1961.41 1481.99 Q1958.35 1486.58 1952.54 1486.58 Q1946.73 1486.58 1943.65 1481.99 Q1940.6 1477.39 1940.6 1468.66 Q1940.6 1459.91 1943.65 1455.33 Q1946.73 1450.72 1952.54 1450.72 Z\" fill=\"#000000\" fill-rule=\"evenodd\" fill-opacity=\"1\" /><path clip-path=\"url(#clip810)\" d=\"M 0 0 M1969.05 1455.3 L1982.31 1455.3 L1982.31 1458.49 L1964.48 1458.49 L1964.48 1455.3 Q1966.65 1453.06 1970.37 1449.3 Q1974.11 1445.52 1975.07 1444.43 Q1976.9 1442.38 1977.61 1440.96 Q1978.35 1439.54 1978.35 1438.16 Q1978.35 1435.92 1976.77 1434.51 Q1975.2 1433.1 1972.68 1433.1 Q1970.9 1433.1 1968.9 1433.72 Q1966.93 1434.34 1964.67 1435.6 L1964.67 1431.77 Q1966.97 1430.85 1968.96 1430.38 Q1970.95 1429.91 1972.61 1429.91 Q1976.97 1429.91 1979.57 1432.09 Q1982.16 1434.27 1982.16 1437.92 Q1982.16 1439.65 1981.51 1441.21 Q1980.87 1442.75 1979.15 1444.86 Q1978.68 1445.4 1976.16 1448.02 Q1973.64 1450.61 1969.05 1455.3 Z\" fill=\"#000000\" fill-rule=\"evenodd\" fill-opacity=\"1\" /><path clip-path=\"url(#clip810)\" d=\"M 0 0 M139.339 1314.89 Q135.728 1314.89 133.899 1318.45 Q132.093 1321.99 132.093 1329.12 Q132.093 1336.23 133.899 1339.8 Q135.728 1343.34 139.339 1343.34 Q142.973 1343.34 144.779 1339.8 Q146.607 1336.23 146.607 1329.12 Q146.607 1321.99 144.779 1318.45 Q142.973 1314.89 139.339 1314.89 M139.339 1311.18 Q145.149 1311.18 148.204 1315.79 Q151.283 1320.37 151.283 1329.12 Q151.283 1337.85 148.204 1342.46 Q145.149 1347.04 139.339 1347.04 Q133.529 1347.04 130.45 1342.46 Q127.394 1337.85 127.394 1329.12 Q127.394 1320.37 130.45 1315.79 Q133.529 1311.18 139.339 1311.18 Z\" fill=\"#000000\" fill-rule=\"evenodd\" fill-opacity=\"1\" /><path clip-path=\"url(#clip810)\" d=\"M 0 0 M156.353 1340.49 L161.237 1340.49 L161.237 1346.37 L156.353 1346.37 L156.353 1340.49 Z\" fill=\"#000000\" fill-rule=\"evenodd\" fill-opacity=\"1\" /><path clip-path=\"url(#clip810)\" d=\"M 0 0 M176.306 1329.96 Q172.973 1329.96 171.052 1331.74 Q169.153 1333.52 169.153 1336.65 Q169.153 1339.77 171.052 1341.55 Q172.973 1343.34 176.306 1343.34 Q179.64 1343.34 181.561 1341.55 Q183.482 1339.75 183.482 1336.65 Q183.482 1333.52 181.561 1331.74 Q179.663 1329.96 176.306 1329.96 M171.63 1327.97 Q168.621 1327.23 166.931 1325.17 Q165.265 1323.11 165.265 1320.14 Q165.265 1316 168.204 1313.59 Q171.167 1311.18 176.306 1311.18 Q181.468 1311.18 184.408 1313.59 Q187.348 1316 187.348 1320.14 Q187.348 1323.11 185.658 1325.17 Q183.991 1327.23 181.005 1327.97 Q184.385 1328.75 186.26 1331.05 Q188.158 1333.34 188.158 1336.65 Q188.158 1341.67 185.079 1344.36 Q182.024 1347.04 176.306 1347.04 Q170.589 1347.04 167.51 1344.36 Q164.454 1341.67 164.454 1336.65 Q164.454 1333.34 166.353 1331.05 Q168.251 1328.75 171.63 1327.97 M169.917 1320.58 Q169.917 1323.27 171.584 1324.77 Q173.274 1326.28 176.306 1326.28 Q179.315 1326.28 181.005 1324.77 Q182.718 1323.27 182.718 1320.58 Q182.718 1317.9 181.005 1316.39 Q179.315 1314.89 176.306 1314.89 Q173.274 1314.89 171.584 1316.39 Q169.917 1317.9 169.917 1320.58 Z\" fill=\"#000000\" fill-rule=\"evenodd\" fill-opacity=\"1\" /><path clip-path=\"url(#clip810)\" d=\"M 0 0 M207.394 1327.74 Q210.75 1328.45 212.625 1330.72 Q214.524 1332.99 214.524 1336.32 Q214.524 1341.44 211.005 1344.24 Q207.487 1347.04 201.005 1347.04 Q198.829 1347.04 196.514 1346.6 Q194.223 1346.18 191.769 1345.33 L191.769 1340.81 Q193.713 1341.95 196.028 1342.53 Q198.343 1343.11 200.866 1343.11 Q205.264 1343.11 207.556 1341.37 Q209.871 1339.63 209.871 1336.32 Q209.871 1333.27 207.718 1331.55 Q205.588 1329.82 201.769 1329.82 L197.741 1329.82 L197.741 1325.98 L201.954 1325.98 Q205.403 1325.98 207.232 1324.61 Q209.061 1323.22 209.061 1320.63 Q209.061 1317.97 207.163 1316.55 Q205.288 1315.12 201.769 1315.12 Q199.848 1315.12 197.649 1315.54 Q195.45 1315.95 192.811 1316.83 L192.811 1312.67 Q195.473 1311.92 197.788 1311.55 Q200.126 1311.18 202.186 1311.18 Q207.51 1311.18 210.612 1313.61 Q213.713 1316.02 213.713 1320.14 Q213.713 1323.01 212.07 1325 Q210.426 1326.97 207.394 1327.74 Z\" fill=\"#000000\" fill-rule=\"evenodd\" fill-opacity=\"1\" /><path clip-path=\"url(#clip810)\" d=\"M 0 0 M229.593 1314.89 Q225.982 1314.89 224.153 1318.45 Q222.348 1321.99 222.348 1329.12 Q222.348 1336.23 224.153 1339.8 Q225.982 1343.34 229.593 1343.34 Q233.227 1343.34 235.033 1339.8 Q236.861 1336.23 236.861 1329.12 Q236.861 1321.99 235.033 1318.45 Q233.227 1314.89 229.593 1314.89 M229.593 1311.18 Q235.403 1311.18 238.459 1315.79 Q241.537 1320.37 241.537 1329.12 Q241.537 1337.85 238.459 1342.46 Q235.403 1347.04 229.593 1347.04 Q223.783 1347.04 220.704 1342.46 Q217.649 1337.85 217.649 1329.12 Q217.649 1320.37 220.704 1315.79 Q223.783 1311.18 229.593 1311.18 Z\" fill=\"#000000\" fill-rule=\"evenodd\" fill-opacity=\"1\" /><path clip-path=\"url(#clip810)\" d=\"M 0 0 M140.334 915.596 Q136.723 915.596 134.894 919.16 Q133.089 922.702 133.089 929.832 Q133.089 936.938 134.894 940.503 Q136.723 944.044 140.334 944.044 Q143.968 944.044 145.774 940.503 Q147.603 936.938 147.603 929.832 Q147.603 922.702 145.774 919.16 Q143.968 915.596 140.334 915.596 M140.334 911.892 Q146.144 911.892 149.2 916.498 Q152.279 921.082 152.279 929.832 Q152.279 938.558 149.2 943.165 Q146.144 947.748 140.334 947.748 Q134.524 947.748 131.445 943.165 Q128.39 938.558 128.39 929.832 Q128.39 921.082 131.445 916.498 Q134.524 911.892 140.334 911.892 Z\" fill=\"#000000\" fill-rule=\"evenodd\" fill-opacity=\"1\" /><path clip-path=\"url(#clip810)\" d=\"M 0 0 M157.348 941.197 L162.232 941.197 L162.232 947.077 L157.348 947.077 L157.348 941.197 Z\" fill=\"#000000\" fill-rule=\"evenodd\" fill-opacity=\"1\" /><path clip-path=\"url(#clip810)\" d=\"M 0 0 M177.302 930.665 Q173.968 930.665 172.047 932.447 Q170.149 934.23 170.149 937.355 Q170.149 940.48 172.047 942.262 Q173.968 944.044 177.302 944.044 Q180.635 944.044 182.556 942.262 Q184.477 940.457 184.477 937.355 Q184.477 934.23 182.556 932.447 Q180.658 930.665 177.302 930.665 M172.626 928.674 Q169.616 927.933 167.927 925.873 Q166.26 923.813 166.26 920.85 Q166.26 916.707 169.2 914.299 Q172.163 911.892 177.302 911.892 Q182.464 911.892 185.403 914.299 Q188.343 916.707 188.343 920.85 Q188.343 923.813 186.653 925.873 Q184.987 927.933 182.001 928.674 Q185.38 929.461 187.255 931.753 Q189.153 934.045 189.153 937.355 Q189.153 942.378 186.075 945.063 Q183.019 947.748 177.302 947.748 Q171.584 947.748 168.505 945.063 Q165.45 942.378 165.45 937.355 Q165.45 934.045 167.348 931.753 Q169.246 929.461 172.626 928.674 M170.913 921.29 Q170.913 923.975 172.579 925.48 Q174.269 926.984 177.302 926.984 Q180.311 926.984 182.001 925.48 Q183.714 923.975 183.714 921.29 Q183.714 918.605 182.001 917.1 Q180.311 915.596 177.302 915.596 Q174.269 915.596 172.579 917.1 Q170.913 918.605 170.913 921.29 Z\" fill=\"#000000\" fill-rule=\"evenodd\" fill-opacity=\"1\" /><path clip-path=\"url(#clip810)\" d=\"M 0 0 M208.389 928.443 Q211.746 929.16 213.621 931.429 Q215.519 933.697 215.519 937.031 Q215.519 942.146 212 944.947 Q208.482 947.748 202 947.748 Q199.825 947.748 197.51 947.308 Q195.218 946.892 192.764 946.035 L192.764 941.521 Q194.709 942.656 197.024 943.234 Q199.338 943.813 201.862 943.813 Q206.26 943.813 208.551 942.077 Q210.866 940.341 210.866 937.031 Q210.866 933.975 208.713 932.262 Q206.584 930.526 202.764 930.526 L198.737 930.526 L198.737 926.683 L202.95 926.683 Q206.399 926.683 208.227 925.318 Q210.056 923.929 210.056 921.336 Q210.056 918.674 208.158 917.262 Q206.283 915.827 202.764 915.827 Q200.843 915.827 198.644 916.244 Q196.445 916.66 193.806 917.54 L193.806 913.373 Q196.468 912.633 198.783 912.262 Q201.121 911.892 203.181 911.892 Q208.505 911.892 211.607 914.322 Q214.709 916.73 214.709 920.85 Q214.709 923.721 213.065 925.711 Q211.422 927.679 208.389 928.443 Z\" fill=\"#000000\" fill-rule=\"evenodd\" fill-opacity=\"1\" /><path clip-path=\"url(#clip810)\" d=\"M 0 0 M220.635 912.517 L238.991 912.517 L238.991 916.452 L224.917 916.452 L224.917 924.924 Q225.936 924.577 226.954 924.415 Q227.973 924.23 228.991 924.23 Q234.778 924.23 238.158 927.401 Q241.537 930.572 241.537 935.989 Q241.537 941.568 238.065 944.669 Q234.593 947.748 228.273 947.748 Q226.098 947.748 223.829 947.378 Q221.584 947.007 219.176 946.267 L219.176 941.568 Q221.26 942.702 223.482 943.257 Q225.704 943.813 228.181 943.813 Q232.186 943.813 234.523 941.707 Q236.861 939.6 236.861 935.989 Q236.861 932.378 234.523 930.271 Q232.186 928.165 228.181 928.165 Q226.306 928.165 224.431 928.582 Q222.579 928.998 220.635 929.878 L220.635 912.517 Z\" fill=\"#000000\" fill-rule=\"evenodd\" fill-opacity=\"1\" /><path clip-path=\"url(#clip810)\" d=\"M 0 0 M138.205 516.303 Q134.593 516.303 132.765 519.868 Q130.959 523.41 130.959 530.539 Q130.959 537.646 132.765 541.21 Q134.593 544.752 138.205 544.752 Q141.839 544.752 143.644 541.21 Q145.473 537.646 145.473 530.539 Q145.473 523.41 143.644 519.868 Q141.839 516.303 138.205 516.303 M138.205 512.6 Q144.015 512.6 147.07 517.206 Q150.149 521.789 150.149 530.539 Q150.149 539.266 147.07 543.873 Q144.015 548.456 138.205 548.456 Q132.394 548.456 129.316 543.873 Q126.26 539.266 126.26 530.539 Q126.26 521.789 129.316 517.206 Q132.394 512.6 138.205 512.6 Z\" fill=\"#000000\" fill-rule=\"evenodd\" fill-opacity=\"1\" /><path clip-path=\"url(#clip810)\" d=\"M 0 0 M155.218 541.905 L160.103 541.905 L160.103 547.785 L155.218 547.785 L155.218 541.905 Z\" fill=\"#000000\" fill-rule=\"evenodd\" fill-opacity=\"1\" /><path clip-path=\"url(#clip810)\" d=\"M 0 0 M175.172 531.373 Q171.839 531.373 169.917 533.155 Q168.019 534.937 168.019 538.062 Q168.019 541.187 169.917 542.97 Q171.839 544.752 175.172 544.752 Q178.505 544.752 180.427 542.97 Q182.348 541.164 182.348 538.062 Q182.348 534.937 180.427 533.155 Q178.528 531.373 175.172 531.373 M170.496 529.382 Q167.487 528.641 165.797 526.581 Q164.13 524.521 164.13 521.558 Q164.13 517.414 167.07 515.007 Q170.033 512.6 175.172 512.6 Q180.334 512.6 183.274 515.007 Q186.214 517.414 186.214 521.558 Q186.214 524.521 184.524 526.581 Q182.857 528.641 179.871 529.382 Q183.251 530.169 185.126 532.461 Q187.024 534.752 187.024 538.062 Q187.024 543.085 183.945 545.771 Q180.889 548.456 175.172 548.456 Q169.454 548.456 166.376 545.771 Q163.32 543.085 163.32 538.062 Q163.32 534.752 165.218 532.461 Q167.116 530.169 170.496 529.382 M168.783 521.998 Q168.783 524.683 170.45 526.187 Q172.14 527.692 175.172 527.692 Q178.181 527.692 179.871 526.187 Q181.584 524.683 181.584 521.998 Q181.584 519.312 179.871 517.808 Q178.181 516.303 175.172 516.303 Q172.14 516.303 170.45 517.808 Q168.783 519.312 168.783 521.998 Z\" fill=\"#000000\" fill-rule=\"evenodd\" fill-opacity=\"1\" /><path clip-path=\"url(#clip810)\" d=\"M 0 0 M204.94 517.299 L193.135 535.748 L204.94 535.748 L204.94 517.299 M203.713 513.225 L209.593 513.225 L209.593 535.748 L214.524 535.748 L214.524 539.636 L209.593 539.636 L209.593 547.785 L204.94 547.785 L204.94 539.636 L189.339 539.636 L189.339 535.123 L203.713 513.225 Z\" fill=\"#000000\" fill-rule=\"evenodd\" fill-opacity=\"1\" /><path clip-path=\"url(#clip810)\" d=\"M 0 0 M229.593 516.303 Q225.982 516.303 224.153 519.868 Q222.348 523.41 222.348 530.539 Q222.348 537.646 224.153 541.21 Q225.982 544.752 229.593 544.752 Q233.227 544.752 235.033 541.21 Q236.861 537.646 236.861 530.539 Q236.861 523.41 235.033 519.868 Q233.227 516.303 229.593 516.303 M229.593 512.6 Q235.403 512.6 238.459 517.206 Q241.537 521.789 241.537 530.539 Q241.537 539.266 238.459 543.873 Q235.403 548.456 229.593 548.456 Q223.783 548.456 220.704 543.873 Q217.649 539.266 217.649 530.539 Q217.649 521.789 220.704 517.206 Q223.783 512.6 229.593 512.6 Z\" fill=\"#000000\" fill-rule=\"evenodd\" fill-opacity=\"1\" /><path clip-path=\"url(#clip810)\" d=\"M 0 0 M139.2 117.011 Q135.589 117.011 133.76 120.576 Q131.955 124.117 131.955 131.247 Q131.955 138.353 133.76 141.918 Q135.589 145.46 139.2 145.46 Q142.834 145.46 144.64 141.918 Q146.468 138.353 146.468 131.247 Q146.468 124.117 144.64 120.576 Q142.834 117.011 139.2 117.011 M139.2 113.307 Q145.01 113.307 148.066 117.914 Q151.144 122.497 151.144 131.247 Q151.144 139.974 148.066 144.58 Q145.01 149.163 139.2 149.163 Q133.39 149.163 130.311 144.58 Q127.256 139.974 127.256 131.247 Q127.256 122.497 130.311 117.914 Q133.39 113.307 139.2 113.307 Z\" fill=\"#000000\" fill-rule=\"evenodd\" fill-opacity=\"1\" /><path clip-path=\"url(#clip810)\" d=\"M 0 0 M156.214 142.613 L161.098 142.613 L161.098 148.492 L156.214 148.492 L156.214 142.613 Z\" fill=\"#000000\" fill-rule=\"evenodd\" fill-opacity=\"1\" /><path clip-path=\"url(#clip810)\" d=\"M 0 0 M176.167 132.08 Q172.834 132.08 170.913 133.863 Q169.015 135.645 169.015 138.77 Q169.015 141.895 170.913 143.677 Q172.834 145.46 176.167 145.46 Q179.501 145.46 181.422 143.677 Q183.343 141.872 183.343 138.77 Q183.343 135.645 181.422 133.863 Q179.524 132.08 176.167 132.08 M171.491 130.089 Q168.482 129.349 166.792 127.289 Q165.126 125.228 165.126 122.265 Q165.126 118.122 168.065 115.715 Q171.028 113.307 176.167 113.307 Q181.329 113.307 184.269 115.715 Q187.209 118.122 187.209 122.265 Q187.209 125.228 185.519 127.289 Q183.852 129.349 180.866 130.089 Q184.246 130.877 186.121 133.168 Q188.019 135.46 188.019 138.77 Q188.019 143.793 184.94 146.478 Q181.885 149.163 176.167 149.163 Q170.45 149.163 167.371 146.478 Q164.316 143.793 164.316 138.77 Q164.316 135.46 166.214 133.168 Q168.112 130.877 171.491 130.089 M169.778 122.705 Q169.778 125.39 171.445 126.895 Q173.135 128.4 176.167 128.4 Q179.177 128.4 180.866 126.895 Q182.579 125.39 182.579 122.705 Q182.579 120.02 180.866 118.515 Q179.177 117.011 176.167 117.011 Q173.135 117.011 171.445 118.515 Q169.778 120.02 169.778 122.705 Z\" fill=\"#000000\" fill-rule=\"evenodd\" fill-opacity=\"1\" /><path clip-path=\"url(#clip810)\" d=\"M 0 0 M205.936 118.006 L194.13 136.455 L205.936 136.455 L205.936 118.006 M204.709 113.932 L210.588 113.932 L210.588 136.455 L215.519 136.455 L215.519 140.344 L210.588 140.344 L210.588 148.492 L205.936 148.492 L205.936 140.344 L190.334 140.344 L190.334 135.83 L204.709 113.932 Z\" fill=\"#000000\" fill-rule=\"evenodd\" fill-opacity=\"1\" /><path clip-path=\"url(#clip810)\" d=\"M 0 0 M220.635 113.932 L238.991 113.932 L238.991 117.867 L224.917 117.867 L224.917 126.34 Q225.936 125.992 226.954 125.83 Q227.973 125.645 228.991 125.645 Q234.778 125.645 238.158 128.816 Q241.537 131.988 241.537 137.404 Q241.537 142.983 238.065 146.085 Q234.593 149.163 228.273 149.163 Q226.098 149.163 223.829 148.793 Q221.584 148.423 219.176 147.682 L219.176 142.983 Q221.26 144.117 223.482 144.673 Q225.704 145.228 228.181 145.228 Q232.186 145.228 234.523 143.122 Q236.861 141.015 236.861 137.404 Q236.861 133.793 234.523 131.687 Q232.186 129.58 228.181 129.58 Q226.306 129.58 224.431 129.997 Q222.579 130.414 220.635 131.293 L220.635 113.932 Z\" fill=\"#000000\" fill-rule=\"evenodd\" fill-opacity=\"1\" /><path clip-path=\"url(#clip810)\" d=\"M 0 0 M1328.31 1518.33 L1328.31 1525.11 Q1325.06 1522.08 1321.37 1520.59 Q1317.71 1519.09 1313.57 1519.09 Q1305.42 1519.09 1301.09 1524.09 Q1296.77 1529.05 1296.77 1538.47 Q1296.77 1547.86 1301.09 1552.86 Q1305.42 1557.82 1313.57 1557.82 Q1317.71 1557.82 1321.37 1556.33 Q1325.06 1554.83 1328.31 1551.81 L1328.31 1558.53 Q1324.93 1560.82 1321.15 1561.96 Q1317.39 1563.11 1313.19 1563.11 Q1302.4 1563.11 1296.19 1556.52 Q1289.99 1549.9 1289.99 1538.47 Q1289.99 1527.01 1296.19 1520.43 Q1302.4 1513.81 1313.19 1513.81 Q1317.45 1513.81 1321.21 1514.95 Q1325 1516.07 1328.31 1518.33 Z\" fill=\"#000000\" fill-rule=\"evenodd\" fill-opacity=\"1\" /><path clip-path=\"url(#clip810)\" d=\"M 0 0 M44.1444 1020.68 L50.9239 1020.68 Q47.9002 1023.93 46.4043 1027.62 Q44.9083 1031.28 44.9083 1035.42 Q44.9083 1043.57 49.9054 1047.9 Q54.8707 1052.23 64.2919 1052.23 Q73.6813 1052.23 78.6784 1047.9 Q83.6436 1043.57 83.6436 1035.42 Q83.6436 1031.28 82.1477 1027.62 Q80.6518 1023.93 77.6281 1020.68 L84.3439 1020.68 Q86.6355 1024.06 87.7814 1027.84 Q88.9272 1031.6 88.9272 1035.8 Q88.9272 1046.59 82.3387 1052.8 Q75.7183 1059 64.2919 1059 Q52.8336 1059 46.2451 1052.8 Q39.6248 1046.59 39.6248 1035.8 Q39.6248 1031.54 40.7706 1027.78 Q41.8846 1023.99 44.1444 1020.68 Z\" fill=\"#000000\" fill-rule=\"evenodd\" fill-opacity=\"1\" /><path clip-path=\"url(#clip810)\" d=\"M 0 0 M38.479 1014.54 L38.479 1008.68 L88.0042 1008.68 L88.0042 1014.54 L38.479 1014.54 Z\" fill=\"#000000\" fill-rule=\"evenodd\" fill-opacity=\"1\" /><path clip-path=\"url(#clip810)\" d=\"M 0 0 M70.0847 986.34 Q70.0847 993.438 71.7079 996.175 Q73.3312 998.913 77.2461 998.913 Q80.3653 998.913 82.2114 996.876 Q84.0256 994.807 84.0256 991.274 Q84.0256 986.404 80.5881 983.476 Q77.1188 980.516 71.3897 980.516 L70.0847 980.516 L70.0847 986.34 M67.6657 974.659 L88.0042 974.659 L88.0042 980.516 L82.5933 980.516 Q85.8398 982.521 87.3994 985.513 Q88.9272 988.505 88.9272 992.833 Q88.9272 998.308 85.8716 1001.55 Q82.7843 1004.77 77.6281 1004.77 Q71.6125 1004.77 68.5569 1000.76 Q65.5014 996.717 65.5014 988.728 L65.5014 980.516 L64.9285 980.516 Q60.8862 980.516 58.6901 983.189 Q56.4621 985.831 56.4621 990.637 Q56.4621 993.693 57.1941 996.589 Q57.9262 999.486 59.3903 1002.16 L53.9795 1002.16 Q52.7381 998.945 52.1334 995.921 Q51.4968 992.897 51.4968 990.033 Q51.4968 982.298 55.5072 978.479 Q59.5176 974.659 67.6657 974.659 Z\" fill=\"#000000\" fill-rule=\"evenodd\" fill-opacity=\"1\" /><path clip-path=\"url(#clip810)\" d=\"M 0 0 M53.4065 945.791 L58.9447 945.791 Q57.6716 948.273 57.035 950.947 Q56.3984 953.621 56.3984 956.485 Q56.3984 960.846 57.7352 963.042 Q59.072 965.206 61.7456 965.206 Q63.7826 965.206 64.9603 963.647 Q66.1061 962.087 67.1565 957.376 L67.6021 955.371 Q68.9389 949.133 71.3897 946.523 Q73.8086 943.881 78.1691 943.881 Q83.1344 943.881 86.0308 947.828 Q88.9272 951.743 88.9272 958.618 Q88.9272 961.482 88.3543 964.602 Q87.8132 967.689 86.6992 971.126 L80.6518 971.126 Q82.3387 967.88 83.198 964.729 Q84.0256 961.578 84.0256 958.49 Q84.0256 954.353 82.6251 952.125 Q81.1929 949.897 78.6147 949.897 Q76.2276 949.897 74.9545 951.52 Q73.6813 953.111 72.5037 958.554 L72.0262 960.591 Q70.8804 966.034 68.5251 968.453 Q66.138 970.872 62.0002 970.872 Q56.9713 970.872 54.2341 967.307 Q51.4968 963.742 51.4968 957.185 Q51.4968 953.939 51.9743 951.074 Q52.4517 948.21 53.4065 945.791 Z\" fill=\"#000000\" fill-rule=\"evenodd\" fill-opacity=\"1\" /><path clip-path=\"url(#clip810)\" d=\"M 0 0 M53.4065 915.013 L58.9447 915.013 Q57.6716 917.495 57.035 920.169 Q56.3984 922.842 56.3984 925.707 Q56.3984 930.068 57.7352 932.264 Q59.072 934.428 61.7456 934.428 Q63.7826 934.428 64.9603 932.868 Q66.1061 931.309 67.1565 926.598 L67.6021 924.593 Q68.9389 918.355 71.3897 915.745 Q73.8086 913.103 78.1691 913.103 Q83.1344 913.103 86.0308 917.05 Q88.9272 920.965 88.9272 927.84 Q88.9272 930.704 88.3543 933.823 Q87.8132 936.911 86.6992 940.348 L80.6518 940.348 Q82.3387 937.102 83.198 933.951 Q84.0256 930.8 84.0256 927.712 Q84.0256 923.575 82.6251 921.347 Q81.1929 919.119 78.6147 919.119 Q76.2276 919.119 74.9545 920.742 Q73.6813 922.333 72.5037 927.776 L72.0262 929.813 Q70.8804 935.256 68.5251 937.675 Q66.138 940.094 62.0002 940.094 Q56.9713 940.094 54.2341 936.529 Q51.4968 932.964 51.4968 926.407 Q51.4968 923.161 51.9743 920.296 Q52.4517 917.432 53.4065 915.013 Z\" fill=\"#000000\" fill-rule=\"evenodd\" fill-opacity=\"1\" /><path clip-path=\"url(#clip810)\" d=\"M 0 0 M52.3562 906.96 L52.3562 901.104 L88.0042 901.104 L88.0042 906.96 L52.3562 906.96 M38.479 906.96 L38.479 901.104 L45.895 901.104 L45.895 906.96 L38.479 906.96 Z\" fill=\"#000000\" fill-rule=\"evenodd\" fill-opacity=\"1\" /><path clip-path=\"url(#clip810)\" d=\"M 0 0 M38.479 876.914 L43.3487 876.914 L43.3487 882.516 Q43.3487 885.667 44.6219 886.908 Q45.895 888.118 49.2052 888.118 L52.3562 888.118 L52.3562 878.474 L56.9077 878.474 L56.9077 888.118 L88.0042 888.118 L88.0042 894.006 L56.9077 894.006 L56.9077 899.608 L52.3562 899.608 L52.3562 894.006 L49.8736 894.006 Q43.9216 894.006 41.2162 891.237 Q38.479 888.468 38.479 882.452 L38.479 876.914 Z\" fill=\"#000000\" fill-rule=\"evenodd\" fill-opacity=\"1\" /><path clip-path=\"url(#clip810)\" d=\"M 0 0 M52.3562 870.771 L52.3562 864.915 L88.0042 864.915 L88.0042 870.771 L52.3562 870.771 M38.479 870.771 L38.479 864.915 L45.895 864.915 L45.895 870.771 L38.479 870.771 Z\" fill=\"#000000\" fill-rule=\"evenodd\" fill-opacity=\"1\" /><path clip-path=\"url(#clip810)\" d=\"M 0 0 M53.7248 833.118 L59.1993 833.118 Q57.8307 835.6 57.1623 838.115 Q56.4621 840.598 56.4621 843.144 Q56.4621 848.841 60.0905 851.992 Q63.6872 855.143 70.212 855.143 Q76.7369 855.143 80.3653 851.992 Q83.9619 848.841 83.9619 843.144 Q83.9619 840.598 83.2935 838.115 Q82.5933 835.6 81.2247 833.118 L86.6355 833.118 Q87.7814 835.569 88.3543 838.21 Q88.9272 840.82 88.9272 843.78 Q88.9272 851.833 83.8664 856.575 Q78.8057 861.318 70.212 861.318 Q61.491 861.318 56.4939 856.544 Q51.4968 851.738 51.4968 843.398 Q51.4968 840.693 52.0697 838.115 Q52.6108 835.537 53.7248 833.118 Z\" fill=\"#000000\" fill-rule=\"evenodd\" fill-opacity=\"1\" /><path clip-path=\"url(#clip810)\" d=\"M 0 0 M70.0847 810.774 Q70.0847 817.872 71.7079 820.609 Q73.3312 823.346 77.2461 823.346 Q80.3653 823.346 82.2114 821.309 Q84.0256 819.241 84.0256 815.708 Q84.0256 810.838 80.5881 807.91 Q77.1188 804.95 71.3897 804.95 L70.0847 804.95 L70.0847 810.774 M67.6657 799.093 L88.0042 799.093 L88.0042 804.95 L82.5933 804.95 Q85.8398 806.955 87.3994 809.947 Q88.9272 812.939 88.9272 817.267 Q88.9272 822.742 85.8716 825.988 Q82.7843 829.203 77.6281 829.203 Q71.6125 829.203 68.5569 825.193 Q65.5014 821.15 65.5014 813.161 L65.5014 804.95 L64.9285 804.95 Q60.8862 804.95 58.6901 807.623 Q56.4621 810.265 56.4621 815.071 Q56.4621 818.127 57.1941 821.023 Q57.9262 823.919 59.3903 826.593 L53.9795 826.593 Q52.7381 823.378 52.1334 820.355 Q51.4968 817.331 51.4968 814.466 Q51.4968 806.732 55.5072 802.913 Q59.5176 799.093 67.6657 799.093 Z\" fill=\"#000000\" fill-rule=\"evenodd\" fill-opacity=\"1\" /><path clip-path=\"url(#clip810)\" d=\"M 0 0 M42.2347 787.157 L52.3562 787.157 L52.3562 775.094 L56.9077 775.094 L56.9077 787.157 L76.2594 787.157 Q80.6199 787.157 81.8613 785.98 Q83.1026 784.77 83.1026 781.11 L83.1026 775.094 L88.0042 775.094 L88.0042 781.11 Q88.0042 787.889 85.4897 790.468 Q82.9434 793.046 76.2594 793.046 L56.9077 793.046 L56.9077 797.343 L52.3562 797.343 L52.3562 793.046 L42.2347 793.046 L42.2347 787.157 Z\" fill=\"#000000\" fill-rule=\"evenodd\" fill-opacity=\"1\" /><path clip-path=\"url(#clip810)\" d=\"M 0 0 M52.3562 768.952 L52.3562 763.095 L88.0042 763.095 L88.0042 768.952 L52.3562 768.952 M38.479 768.952 L38.479 763.095 L45.895 763.095 L45.895 768.952 L38.479 768.952 Z\" fill=\"#000000\" fill-rule=\"evenodd\" fill-opacity=\"1\" /><path clip-path=\"url(#clip810)\" d=\"M 0 0 M56.4621 743.139 Q56.4621 747.849 60.1542 750.586 Q63.8145 753.324 70.212 753.324 Q76.6095 753.324 80.3017 750.618 Q83.9619 747.881 83.9619 743.139 Q83.9619 738.46 80.2698 735.723 Q76.5777 732.985 70.212 732.985 Q63.8781 732.985 60.186 735.723 Q56.4621 738.46 56.4621 743.139 M51.4968 743.139 Q51.4968 735.5 56.4621 731.139 Q61.4273 726.779 70.212 726.779 Q78.9649 726.779 83.9619 731.139 Q88.9272 735.5 88.9272 743.139 Q88.9272 750.809 83.9619 755.17 Q78.9649 759.498 70.212 759.498 Q61.4273 759.498 56.4621 755.17 Q51.4968 750.809 51.4968 743.139 Z\" fill=\"#000000\" fill-rule=\"evenodd\" fill-opacity=\"1\" /><path clip-path=\"url(#clip810)\" d=\"M 0 0 M66.4881 691.003 L88.0042 691.003 L88.0042 696.86 L66.679 696.86 Q61.6183 696.86 59.1038 698.833 Q56.5894 700.807 56.5894 704.753 Q56.5894 709.496 59.6131 712.233 Q62.6368 714.97 67.8567 714.97 L88.0042 714.97 L88.0042 720.859 L52.3562 720.859 L52.3562 714.97 L57.8944 714.97 Q54.6797 712.87 53.0883 710.037 Q51.4968 707.172 51.4968 703.448 Q51.4968 697.305 55.3163 694.154 Q59.1038 691.003 66.4881 691.003 Z\" fill=\"#000000\" fill-rule=\"evenodd\" fill-opacity=\"1\" /><path clip-path=\"url(#clip810)\" d=\"M 0 0 M46.818 648.003 L70.4666 656.724 L70.4666 639.25 L46.818 648.003 M40.4842 651.632 L40.4842 644.343 L88.0042 626.232 L88.0042 632.916 L75.8138 637.245 L75.8138 658.666 L88.0042 662.994 L88.0042 669.774 L40.4842 651.632 Z\" fill=\"#000000\" fill-rule=\"evenodd\" fill-opacity=\"1\" /><path clip-path=\"url(#clip810)\" d=\"M 0 0 M53.7248 595.582 L59.1993 595.582 Q57.8307 598.064 57.1623 600.579 Q56.4621 603.061 56.4621 605.607 Q56.4621 611.305 60.0905 614.456 Q63.6872 617.607 70.212 617.607 Q76.7369 617.607 80.3653 614.456 Q83.9619 611.305 83.9619 605.607 Q83.9619 603.061 83.2935 600.579 Q82.5933 598.064 81.2247 595.582 L86.6355 595.582 Q87.7814 598.032 88.3543 600.674 Q88.9272 603.284 88.9272 606.244 Q88.9272 614.297 83.8664 619.039 Q78.8057 623.782 70.212 623.782 Q61.491 623.782 56.4939 619.007 Q51.4968 614.201 51.4968 605.862 Q51.4968 603.157 52.0697 600.579 Q52.6108 598 53.7248 595.582 Z\" fill=\"#000000\" fill-rule=\"evenodd\" fill-opacity=\"1\" /><path clip-path=\"url(#clip810)\" d=\"M 0 0 M53.7248 563.785 L59.1993 563.785 Q57.8307 566.267 57.1623 568.782 Q56.4621 571.265 56.4621 573.811 Q56.4621 579.508 60.0905 582.659 Q63.6872 585.81 70.212 585.81 Q76.7369 585.81 80.3653 582.659 Q83.9619 579.508 83.9619 573.811 Q83.9619 571.265 83.2935 568.782 Q82.5933 566.267 81.2247 563.785 L86.6355 563.785 Q87.7814 566.236 88.3543 568.877 Q88.9272 571.487 88.9272 574.447 Q88.9272 582.5 83.8664 587.242 Q78.8057 591.985 70.212 591.985 Q61.491 591.985 56.4939 587.211 Q51.4968 582.404 51.4968 574.065 Q51.4968 571.36 52.0697 568.782 Q52.6108 566.204 53.7248 563.785 Z\" fill=\"#000000\" fill-rule=\"evenodd\" fill-opacity=\"1\" /><path clip-path=\"url(#clip810)\" d=\"M 0 0 M73.9359 558.247 L52.3562 558.247 L52.3562 552.39 L73.7131 552.39 Q78.7739 552.39 81.3202 550.417 Q83.8346 548.443 83.8346 544.497 Q83.8346 539.754 80.8109 537.017 Q77.7872 534.248 72.5673 534.248 L52.3562 534.248 L52.3562 528.391 L88.0042 528.391 L88.0042 534.248 L82.5296 534.248 Q85.7762 536.38 87.3676 539.213 Q88.9272 542.014 88.9272 545.738 Q88.9272 551.881 85.1078 555.064 Q81.2883 558.247 73.9359 558.247 M51.4968 543.51 L51.4968 543.51 Z\" fill=\"#000000\" fill-rule=\"evenodd\" fill-opacity=\"1\" /><path clip-path=\"url(#clip810)\" d=\"M 0 0 M57.8307 501.592 Q57.2578 502.579 57.0032 503.756 Q56.7167 504.902 56.7167 506.302 Q56.7167 511.268 59.9632 513.941 Q63.1779 516.583 69.2253 516.583 L88.0042 516.583 L88.0042 522.471 L52.3562 522.471 L52.3562 516.583 L57.8944 516.583 Q54.6479 514.737 53.0883 511.777 Q51.4968 508.817 51.4968 504.584 Q51.4968 503.979 51.5923 503.247 Q51.656 502.515 51.8151 501.624 L57.8307 501.592 Z\" fill=\"#000000\" fill-rule=\"evenodd\" fill-opacity=\"1\" /><path clip-path=\"url(#clip810)\" d=\"M 0 0 M70.0847 479.248 Q70.0847 486.346 71.7079 489.083 Q73.3312 491.82 77.2461 491.82 Q80.3653 491.82 82.2114 489.783 Q84.0256 487.715 84.0256 484.182 Q84.0256 479.312 80.5881 476.384 Q77.1188 473.424 71.3897 473.424 L70.0847 473.424 L70.0847 479.248 M67.6657 467.567 L88.0042 467.567 L88.0042 473.424 L82.5933 473.424 Q85.8398 475.429 87.3994 478.421 Q88.9272 481.413 88.9272 485.741 Q88.9272 491.216 85.8716 494.462 Q82.7843 497.677 77.6281 497.677 Q71.6125 497.677 68.5569 493.667 Q65.5014 489.624 65.5014 481.635 L65.5014 473.424 L64.9285 473.424 Q60.8862 473.424 58.6901 476.097 Q56.4621 478.739 56.4621 483.545 Q56.4621 486.601 57.1941 489.497 Q57.9262 492.393 59.3903 495.067 L53.9795 495.067 Q52.7381 491.852 52.1334 488.829 Q51.4968 485.805 51.4968 482.94 Q51.4968 475.206 55.5072 471.387 Q59.5176 467.567 67.6657 467.567 Z\" fill=\"#000000\" fill-rule=\"evenodd\" fill-opacity=\"1\" /><path clip-path=\"url(#clip810)\" d=\"M 0 0 M53.7248 435.77 L59.1993 435.77 Q57.8307 438.253 57.1623 440.768 Q56.4621 443.25 56.4621 445.796 Q56.4621 451.494 60.0905 454.645 Q63.6872 457.796 70.212 457.796 Q76.7369 457.796 80.3653 454.645 Q83.9619 451.494 83.9619 445.796 Q83.9619 443.25 83.2935 440.768 Q82.5933 438.253 81.2247 435.77 L86.6355 435.77 Q87.7814 438.221 88.3543 440.863 Q88.9272 443.473 88.9272 446.433 Q88.9272 454.486 83.8664 459.228 Q78.8057 463.971 70.212 463.971 Q61.491 463.971 56.4939 459.196 Q51.4968 454.39 51.4968 446.051 Q51.4968 443.346 52.0697 440.768 Q52.6108 438.189 53.7248 435.77 Z\" fill=\"#000000\" fill-rule=\"evenodd\" fill-opacity=\"1\" /><path clip-path=\"url(#clip810)\" d=\"M 0 0 M91.3143 414.795 Q97.68 417.278 99.6216 419.633 Q101.563 421.989 101.563 425.935 L101.563 430.614 L96.6615 430.614 L96.6615 427.177 Q96.6615 424.758 95.5157 423.421 Q94.3699 422.084 90.1048 420.461 L87.4312 419.411 L52.3562 433.829 L52.3562 427.622 L80.238 416.482 L52.3562 405.342 L52.3562 399.136 L91.3143 414.795 Z\" fill=\"#000000\" fill-rule=\"evenodd\" fill-opacity=\"1\" /><polyline clip-path=\"url(#clip812)\" style=\"stroke:#009af9; stroke-width:8; stroke-opacity:1; fill:none\" points=\"\n",
       "  324.61,1296.25 392.509,1372.3 460.408,1069.38 528.307,615.635 596.206,312.709 664.105,85.838 732.004,540.876 799.903,388.764 867.802,237.949 935.702,390.061 \n",
       "  1003.6,616.931 1071.5,616.499 1139.4,466.116 1207.3,466.116 1275.2,466.116 1343.1,390.061 1411,390.061 1478.89,314.869 1546.79,617.796 1614.69,542.172 \n",
       "  1682.59,542.172 1750.49,466.549 1818.39,542.172 1886.29,617.796 1954.19,617.796 2022.09,542.172 2089.99,617.796 2157.89,617.796 2225.78,617.796 2293.68,542.172 \n",
       "  \n",
       "  \"/>\n",
       "<path clip-path=\"url(#clip810)\" d=\"\n",
       "M1851.94 213.659 L2283.18 213.659 L2283.18 92.6992 L1851.94 92.6992  Z\n",
       "  \" fill=\"#ffffff\" fill-rule=\"evenodd\" fill-opacity=\"1\"/>\n",
       "<polyline clip-path=\"url(#clip810)\" style=\"stroke:#000000; stroke-width:4; stroke-opacity:1; fill:none\" points=\"\n",
       "  1851.94,213.659 2283.18,213.659 2283.18,92.6992 1851.94,92.6992 1851.94,213.659 \n",
       "  \"/>\n",
       "<polyline clip-path=\"url(#clip810)\" style=\"stroke:#009af9; stroke-width:4; stroke-opacity:1; fill:none\" points=\"\n",
       "  1875.13,153.179 2014.28,153.179 \n",
       "  \"/>\n",
       "<path clip-path=\"url(#clip810)\" d=\"M 0 0 M2050.67 170.459 L2037.47 135.899 L2042.36 135.899 L2053.3 164.996 L2064.28 135.899 L2069.14 135.899 L2055.97 170.459 L2050.67 170.459 Z\" fill=\"#000000\" fill-rule=\"evenodd\" fill-opacity=\"1\" /><path clip-path=\"url(#clip810)\" d=\"M 0 0 M2081.71 157.427 Q2076.55 157.427 2074.55 158.607 Q2072.56 159.788 2072.56 162.635 Q2072.56 164.904 2074.05 166.246 Q2075.55 167.566 2078.12 167.566 Q2081.66 167.566 2083.79 165.066 Q2085.94 162.543 2085.94 158.376 L2085.94 157.427 L2081.71 157.427 M2090.2 155.668 L2090.2 170.459 L2085.94 170.459 L2085.94 166.524 Q2084.49 168.885 2082.31 170.019 Q2080.13 171.13 2076.99 171.13 Q2073 171.13 2070.64 168.908 Q2068.3 166.663 2068.3 162.913 Q2068.3 158.538 2071.22 156.316 Q2074.16 154.094 2079.97 154.094 L2085.94 154.094 L2085.94 153.677 Q2085.94 150.737 2084 149.14 Q2082.08 147.519 2078.58 147.519 Q2076.36 147.519 2074.25 148.052 Q2072.15 148.584 2070.2 149.649 L2070.2 145.714 Q2072.54 144.811 2074.74 144.371 Q2076.94 143.908 2079.02 143.908 Q2084.65 143.908 2087.43 146.825 Q2090.2 149.742 2090.2 155.668 Z\" fill=\"#000000\" fill-rule=\"evenodd\" fill-opacity=\"1\" /><path clip-path=\"url(#clip810)\" d=\"M 0 0 M2094.67 134.441 L2098.93 134.441 L2098.93 170.459 L2094.67 170.459 L2094.67 134.441 Z\" fill=\"#000000\" fill-rule=\"evenodd\" fill-opacity=\"1\" /><path clip-path=\"url(#clip810)\" d=\"M 0 0 M2103.4 144.533 L2107.66 144.533 L2107.66 170.459 L2103.4 170.459 L2103.4 144.533 M2103.4 134.441 L2107.66 134.441 L2107.66 139.834 L2103.4 139.834 L2103.4 134.441 Z\" fill=\"#000000\" fill-rule=\"evenodd\" fill-opacity=\"1\" /><path clip-path=\"url(#clip810)\" d=\"M 0 0 M2129.18 148.469 L2129.18 134.441 L2133.44 134.441 L2133.44 170.459 L2129.18 170.459 L2129.18 166.57 Q2127.84 168.885 2125.78 170.019 Q2123.74 171.13 2120.87 171.13 Q2116.17 171.13 2113.21 167.38 Q2110.27 163.631 2110.27 157.519 Q2110.27 151.408 2113.21 147.658 Q2116.17 143.908 2120.87 143.908 Q2123.74 143.908 2125.78 145.043 Q2127.84 146.154 2129.18 148.469 M2114.67 157.519 Q2114.67 162.218 2116.59 164.904 Q2118.54 167.566 2121.92 167.566 Q2125.3 167.566 2127.24 164.904 Q2129.18 162.218 2129.18 157.519 Q2129.18 152.82 2127.24 150.158 Q2125.3 147.473 2121.92 147.473 Q2118.54 147.473 2116.59 150.158 Q2114.67 152.82 2114.67 157.519 Z\" fill=\"#000000\" fill-rule=\"evenodd\" fill-opacity=\"1\" /><path clip-path=\"url(#clip810)\" d=\"M 0 0 M2149.69 157.427 Q2144.53 157.427 2142.54 158.607 Q2140.55 159.788 2140.55 162.635 Q2140.55 164.904 2142.03 166.246 Q2143.54 167.566 2146.11 167.566 Q2149.65 167.566 2151.78 165.066 Q2153.93 162.543 2153.93 158.376 L2153.93 157.427 L2149.69 157.427 M2158.19 155.668 L2158.19 170.459 L2153.93 170.459 L2153.93 166.524 Q2152.47 168.885 2150.3 170.019 Q2148.12 171.13 2144.97 171.13 Q2140.99 171.13 2138.63 168.908 Q2136.29 166.663 2136.29 162.913 Q2136.29 158.538 2139.21 156.316 Q2142.15 154.094 2147.96 154.094 L2153.93 154.094 L2153.93 153.677 Q2153.93 150.737 2151.98 149.14 Q2150.06 147.519 2146.57 147.519 Q2144.35 147.519 2142.24 148.052 Q2140.13 148.584 2138.19 149.649 L2138.19 145.714 Q2140.53 144.811 2142.73 144.371 Q2144.92 143.908 2147.01 143.908 Q2152.63 143.908 2155.41 146.825 Q2158.19 149.742 2158.19 155.668 Z\" fill=\"#000000\" fill-rule=\"evenodd\" fill-opacity=\"1\" /><path clip-path=\"url(#clip810)\" d=\"M 0 0 M2166.87 137.172 L2166.87 144.533 L2175.64 144.533 L2175.64 147.844 L2166.87 147.844 L2166.87 161.918 Q2166.87 165.089 2167.73 165.992 Q2168.61 166.894 2171.27 166.894 L2175.64 166.894 L2175.64 170.459 L2171.27 170.459 Q2166.34 170.459 2164.46 168.63 Q2162.59 166.779 2162.59 161.918 L2162.59 147.844 L2159.46 147.844 L2159.46 144.533 L2162.59 144.533 L2162.59 137.172 L2166.87 137.172 Z\" fill=\"#000000\" fill-rule=\"evenodd\" fill-opacity=\"1\" /><path clip-path=\"url(#clip810)\" d=\"M 0 0 M2180.11 144.533 L2184.37 144.533 L2184.37 170.459 L2180.11 170.459 L2180.11 144.533 M2180.11 134.441 L2184.37 134.441 L2184.37 139.834 L2180.11 139.834 L2180.11 134.441 Z\" fill=\"#000000\" fill-rule=\"evenodd\" fill-opacity=\"1\" /><path clip-path=\"url(#clip810)\" d=\"M 0 0 M2198.88 147.519 Q2195.46 147.519 2193.47 150.205 Q2191.48 152.867 2191.48 157.519 Q2191.48 162.172 2193.44 164.857 Q2195.43 167.519 2198.88 167.519 Q2202.29 167.519 2204.28 164.834 Q2206.27 162.149 2206.27 157.519 Q2206.27 152.913 2204.28 150.228 Q2202.29 147.519 2198.88 147.519 M2198.88 143.908 Q2204.44 143.908 2207.61 147.519 Q2210.78 151.131 2210.78 157.519 Q2210.78 163.885 2207.61 167.519 Q2204.44 171.13 2198.88 171.13 Q2193.3 171.13 2190.13 167.519 Q2186.98 163.885 2186.98 157.519 Q2186.98 151.131 2190.13 147.519 Q2193.3 143.908 2198.88 143.908 Z\" fill=\"#000000\" fill-rule=\"evenodd\" fill-opacity=\"1\" /><path clip-path=\"url(#clip810)\" d=\"M 0 0 M2236.8 154.811 L2236.8 170.459 L2232.54 170.459 L2232.54 154.95 Q2232.54 151.269 2231.1 149.441 Q2229.67 147.612 2226.8 147.612 Q2223.35 147.612 2221.36 149.811 Q2219.37 152.01 2219.37 155.806 L2219.37 170.459 L2215.09 170.459 L2215.09 144.533 L2219.37 144.533 L2219.37 148.561 Q2220.9 146.223 2222.96 145.066 Q2225.04 143.908 2227.75 143.908 Q2232.22 143.908 2234.51 146.686 Q2236.8 149.441 2236.8 154.811 Z\" fill=\"#000000\" fill-rule=\"evenodd\" fill-opacity=\"1\" /></svg>\n"
      ]
     },
     "execution_count": 20,
     "metadata": {},
     "output_type": "execute_result"
    }
   ],
   "source": [
    "plot(curve.parameter_values,\n",
    "     curve.measurements,\n",
    "     xscale=curve.parameter_scale,\n",
    "     xlab=curve.parameter_name,\n",
    "     ylab=\"Classification Accuracy\",\n",
    "     label=\"Validation\", lw=2)"
   ]
  },
  {
   "cell_type": "code",
   "execution_count": 21,
   "metadata": {},
   "outputs": [
    {
     "data": {
      "text/plain": [
       "0.84557"
      ]
     },
     "execution_count": 21,
     "metadata": {},
     "output_type": "execute_result"
    }
   ],
   "source": [
    "a = round(maximum(curve.measurements), digits=5)"
   ]
  },
  {
   "cell_type": "code",
   "execution_count": 22,
   "metadata": {},
   "outputs": [
    {
     "data": {
      "text/plain": [
       "0.24469504592387473"
      ]
     },
     "execution_count": 22,
     "metadata": {},
     "output_type": "execute_result"
    }
   ],
   "source": [
    "best_C = curve.parameter_values[argmax(curve.measurements)]"
   ]
  },
  {
   "cell_type": "markdown",
   "metadata": {},
   "source": [
    "##### Second look at `rbf`"
   ]
  },
  {
   "cell_type": "code",
   "execution_count": 23,
   "metadata": {},
   "outputs": [
    {
     "data": {
      "text/plain": [
       "MLJBase.NumericRange(Float64, :gamma, ... )"
      ]
     },
     "execution_count": 23,
     "metadata": {},
     "output_type": "execute_result"
    }
   ],
   "source": [
    "r1 = range(Float64, :C, lower=5*10^1, upper=5*10^6, scale=:log10)\n",
    "r2 = range(Float64, :gamma, lower=10^-7, upper=10^-2, scale=:log10)"
   ]
  },
  {
   "cell_type": "code",
   "execution_count": 24,
   "metadata": {
    "scrolled": true
   },
   "outputs": [
    {
     "data": {
      "text/plain": [
       "DeterministicTunedModel(\n",
       "    model = SVMClassifier(\n",
       "            C = 1.0,\n",
       "            kernel = \"rbf\",\n",
       "            degree = 3,\n",
       "            gamma = \"auto\",\n",
       "            coef0 = 0.0,\n",
       "            shrinking = true,\n",
       "            tol = 0.001,\n",
       "            cache_size = 1000,\n",
       "            max_iter = -1,\n",
       "            decision_function_shape = \"ovr\",\n",
       "            random_state = nothing),\n",
       "    tuning = Grid(\n",
       "            goal = 100,\n",
       "            resolution = 10,\n",
       "            shuffle = true,\n",
       "            rng = Random._GLOBAL_RNG()),\n",
       "    resampling = CV(\n",
       "            nfolds = 6,\n",
       "            shuffle = false,\n",
       "            rng = Random._GLOBAL_RNG()),\n",
       "    measure = accuracy(),\n",
       "    weights = nothing,\n",
       "    operation = MLJModelInterface.predict,\n",
       "    range = MLJBase.NumericRange{Float64,MLJBase.Bounded,Symbol}[\u001b[34mNumericRange{Float64,…} @385\u001b[39m, \u001b[34mNumericRange{Float64,…} @996\u001b[39m],\n",
       "    train_best = true,\n",
       "    repeats = 1,\n",
       "    n = nothing,\n",
       "    acceleration = CPUThreads{Int64}(1),\n",
       "    acceleration_resampling = CPU1{Nothing}(nothing),\n",
       "    check_measure = true)\u001b[34m @199\u001b[39m"
      ]
     },
     "execution_count": 24,
     "metadata": {},
     "output_type": "execute_result"
    }
   ],
   "source": [
    "svm_rbf_model = SVMClassifier(kernel=\"rbf\", cache_size=1000)\n",
    "self_tuning_svm_model = TunedModel(model=svm_rbf_model,\n",
    "                                    tuning=Grid(goal=100),\n",
    "                                    resampling=CV(), \n",
    "                                    measure=accuracy,\n",
    "                                    acceleration=CPUThreads(),\n",
    "                                    range=[r1,r2])"
   ]
  },
  {
   "cell_type": "code",
   "execution_count": 25,
   "metadata": {},
   "outputs": [
    {
     "name": "stderr",
     "output_type": "stream",
     "text": [
      "┌ Warning: The scitype of `X`, in `machine(model, X, ...)` is incompatible with `model=\u001b[34mDeterministicTunedModel{Grid,…} @199\u001b[39m`:\n",
      "│ scitype(X) = Table{Union{AbstractArray{Continuous,1}, AbstractArray{Count,1}}}\n",
      "│ input_scitype(model) = Table{var\"#s44\"} where var\"#s44\"<:(AbstractArray{var\"#s13\",1} where var\"#s13\"<:Continuous).\n",
      "└ @ MLJBase /home/andrew/.julia/packages/MLJBase/uKzAz/src/machines.jl:77\n"
     ]
    },
    {
     "data": {
      "text/plain": [
       "\u001b[34mMachine{DeterministicTunedModel{Grid,…}} @312\u001b[39m trained 0 times.\n",
       "  args: \n",
       "    1:\t\u001b[34mSource @904\u001b[39m ⏎ `Table{Union{AbstractArray{Continuous,1}, AbstractArray{Count,1}}}`\n",
       "    2:\t\u001b[34mSource @330\u001b[39m ⏎ `AbstractArray{Multiclass{2},1}`\n"
      ]
     },
     "execution_count": 25,
     "metadata": {},
     "output_type": "execute_result"
    }
   ],
   "source": [
    "self_tuning_svm_mach = machine(self_tuning_svm_model, X_stand, y)"
   ]
  },
  {
   "cell_type": "code",
   "execution_count": 26,
   "metadata": {
    "scrolled": true
   },
   "outputs": [
    {
     "name": "stderr",
     "output_type": "stream",
     "text": [
      "┌ Info: Training \u001b[34mMachine{DeterministicTunedModel{Grid,…}} @312\u001b[39m.\n",
      "└ @ MLJBase /home/andrew/.julia/packages/MLJBase/uKzAz/src/machines.jl:319\n",
      "┌ Info: Attempting to evaluate 100 models.\n",
      "└ @ MLJTuning /home/andrew/.julia/packages/MLJTuning/Bbgvk/src/tuned_models.jl:494\n",
      "┌ Warning: The scitype of `X`, in `machine(model, X, ...)` is incompatible with `model=\u001b[34mResampler{CV,…} @263\u001b[39m`:\n",
      "│ scitype(X) = Table{Union{AbstractArray{Continuous,1}, AbstractArray{Count,1}}}\n",
      "│ input_scitype(model) = Table{var\"#s44\"} where var\"#s44\"<:(AbstractArray{var\"#s13\",1} where var\"#s13\"<:Continuous).\n",
      "└ @ MLJBase /home/andrew/.julia/packages/MLJBase/uKzAz/src/machines.jl:77\n",
      "\u001b[33mEvaluating over 100 metamodels:   0%[>                        ]  ETA: N/A\u001b[39m┌ Warning: The scitype of `X`, in `machine(model, X, ...)` is incompatible with `model=\u001b[34mSVMClassifier @810\u001b[39m`:\n",
      "│ scitype(X) = Table{Union{AbstractArray{Continuous,1}, AbstractArray{Count,1}}}\n",
      "│ input_scitype(model) = Table{var\"#s44\"} where var\"#s44\"<:(AbstractArray{var\"#s13\",1} where var\"#s13\"<:Continuous).\n",
      "└ @ MLJBase /home/andrew/.julia/packages/MLJBase/uKzAz/src/machines.jl:77\n",
      "\u001b[33mEvaluating over 100 metamodels:   1%[>                        ]  ETA: 0:00:21\u001b[39m┌ Warning: The scitype of `X`, in `machine(model, X, ...)` is incompatible with `model=\u001b[34mSVMClassifier @347\u001b[39m`:\n",
      "│ scitype(X) = Table{Union{AbstractArray{Continuous,1}, AbstractArray{Count,1}}}\n",
      "│ input_scitype(model) = Table{var\"#s44\"} where var\"#s44\"<:(AbstractArray{var\"#s13\",1} where var\"#s13\"<:Continuous).\n",
      "└ @ MLJBase /home/andrew/.julia/packages/MLJBase/uKzAz/src/machines.jl:77\n",
      "\u001b[33mEvaluating over 100 metamodels:   2%[>                        ]  ETA: 0:00:28\u001b[39m┌ Warning: The scitype of `X`, in `machine(model, X, ...)` is incompatible with `model=\u001b[34mSVMClassifier @385\u001b[39m`:\n",
      "│ scitype(X) = Table{Union{AbstractArray{Continuous,1}, AbstractArray{Count,1}}}\n",
      "│ input_scitype(model) = Table{var\"#s44\"} where var\"#s44\"<:(AbstractArray{var\"#s13\",1} where var\"#s13\"<:Continuous).\n",
      "└ @ MLJBase /home/andrew/.julia/packages/MLJBase/uKzAz/src/machines.jl:77\n",
      "\u001b[33mEvaluating over 100 metamodels:   3%[>                        ]  ETA: 0:00:21\u001b[39m┌ Warning: The scitype of `X`, in `machine(model, X, ...)` is incompatible with `model=\u001b[34mSVMClassifier @311\u001b[39m`:\n",
      "│ scitype(X) = Table{Union{AbstractArray{Continuous,1}, AbstractArray{Count,1}}}\n",
      "│ input_scitype(model) = Table{var\"#s44\"} where var\"#s44\"<:(AbstractArray{var\"#s13\",1} where var\"#s13\"<:Continuous).\n",
      "└ @ MLJBase /home/andrew/.julia/packages/MLJBase/uKzAz/src/machines.jl:77\n",
      "\u001b[33mEvaluating over 100 metamodels:   4%[=>                       ]  ETA: 0:00:23\u001b[39m┌ Warning: The scitype of `X`, in `machine(model, X, ...)` is incompatible with `model=\u001b[34mSVMClassifier @648\u001b[39m`:\n",
      "│ scitype(X) = Table{Union{AbstractArray{Continuous,1}, AbstractArray{Count,1}}}\n",
      "│ input_scitype(model) = Table{var\"#s44\"} where var\"#s44\"<:(AbstractArray{var\"#s13\",1} where var\"#s13\"<:Continuous).\n",
      "└ @ MLJBase /home/andrew/.julia/packages/MLJBase/uKzAz/src/machines.jl:77\n",
      "\u001b[33mEvaluating over 100 metamodels:   5%[=>                       ]  ETA: 0:00:20\u001b[39m┌ Warning: The scitype of `X`, in `machine(model, X, ...)` is incompatible with `model=\u001b[34mSVMClassifier @455\u001b[39m`:\n",
      "│ scitype(X) = Table{Union{AbstractArray{Continuous,1}, AbstractArray{Count,1}}}\n",
      "│ input_scitype(model) = Table{var\"#s44\"} where var\"#s44\"<:(AbstractArray{var\"#s13\",1} where var\"#s13\"<:Continuous).\n",
      "└ @ MLJBase /home/andrew/.julia/packages/MLJBase/uKzAz/src/machines.jl:77\n",
      "\u001b[33mEvaluating over 100 metamodels:   6%[=>                       ]  ETA: 0:02:13\u001b[39m┌ Warning: The scitype of `X`, in `machine(model, X, ...)` is incompatible with `model=\u001b[34mSVMClassifier @108\u001b[39m`:\n",
      "│ scitype(X) = Table{Union{AbstractArray{Continuous,1}, AbstractArray{Count,1}}}\n",
      "│ input_scitype(model) = Table{var\"#s44\"} where var\"#s44\"<:(AbstractArray{var\"#s13\",1} where var\"#s13\"<:Continuous).\n",
      "└ @ MLJBase /home/andrew/.julia/packages/MLJBase/uKzAz/src/machines.jl:77\n",
      "\u001b[33mEvaluating over 100 metamodels:   7%[=>                       ]  ETA: 0:01:54\u001b[39m┌ Warning: The scitype of `X`, in `machine(model, X, ...)` is incompatible with `model=\u001b[34mSVMClassifier @888\u001b[39m`:\n",
      "│ scitype(X) = Table{Union{AbstractArray{Continuous,1}, AbstractArray{Count,1}}}\n",
      "│ input_scitype(model) = Table{var\"#s44\"} where var\"#s44\"<:(AbstractArray{var\"#s13\",1} where var\"#s13\"<:Continuous).\n",
      "└ @ MLJBase /home/andrew/.julia/packages/MLJBase/uKzAz/src/machines.jl:77\n",
      "\u001b[33mEvaluating over 100 metamodels:   8%[==>                      ]  ETA: 0:01:40\u001b[39m┌ Warning: The scitype of `X`, in `machine(model, X, ...)` is incompatible with `model=\u001b[34mSVMClassifier @862\u001b[39m`:\n",
      "│ scitype(X) = Table{Union{AbstractArray{Continuous,1}, AbstractArray{Count,1}}}\n",
      "│ input_scitype(model) = Table{var\"#s44\"} where var\"#s44\"<:(AbstractArray{var\"#s13\",1} where var\"#s13\"<:Continuous).\n",
      "└ @ MLJBase /home/andrew/.julia/packages/MLJBase/uKzAz/src/machines.jl:77\n",
      "\u001b[33mEvaluating over 100 metamodels:   9%[==>                      ]  ETA: 0:01:29\u001b[39m┌ Warning: The scitype of `X`, in `machine(model, X, ...)` is incompatible with `model=\u001b[34mSVMClassifier @696\u001b[39m`:\n",
      "│ scitype(X) = Table{Union{AbstractArray{Continuous,1}, AbstractArray{Count,1}}}\n",
      "│ input_scitype(model) = Table{var\"#s44\"} where var\"#s44\"<:(AbstractArray{var\"#s13\",1} where var\"#s13\"<:Continuous).\n",
      "└ @ MLJBase /home/andrew/.julia/packages/MLJBase/uKzAz/src/machines.jl:77\n",
      "\u001b[33mEvaluating over 100 metamodels:  10%[==>                      ]  ETA: 0:01:20\u001b[39m┌ Warning: The scitype of `X`, in `machine(model, X, ...)` is incompatible with `model=\u001b[34mSVMClassifier @863\u001b[39m`:\n",
      "│ scitype(X) = Table{Union{AbstractArray{Continuous,1}, AbstractArray{Count,1}}}\n",
      "│ input_scitype(model) = Table{var\"#s44\"} where var\"#s44\"<:(AbstractArray{var\"#s13\",1} where var\"#s13\"<:Continuous).\n",
      "└ @ MLJBase /home/andrew/.julia/packages/MLJBase/uKzAz/src/machines.jl:77\n",
      "\u001b[33mEvaluating over 100 metamodels:  11%[==>                      ]  ETA: 0:01:23\u001b[39m┌ Warning: The scitype of `X`, in `machine(model, X, ...)` is incompatible with `model=\u001b[34mSVMClassifier @837\u001b[39m`:\n",
      "│ scitype(X) = Table{Union{AbstractArray{Continuous,1}, AbstractArray{Count,1}}}\n",
      "│ input_scitype(model) = Table{var\"#s44\"} where var\"#s44\"<:(AbstractArray{var\"#s13\",1} where var\"#s13\"<:Continuous).\n",
      "└ @ MLJBase /home/andrew/.julia/packages/MLJBase/uKzAz/src/machines.jl:77\n",
      "\u001b[33mEvaluating over 100 metamodels:  12%[===>                     ]  ETA: 0:01:16\u001b[39m┌ Warning: The scitype of `X`, in `machine(model, X, ...)` is incompatible with `model=\u001b[34mSVMClassifier @565\u001b[39m`:\n",
      "│ scitype(X) = Table{Union{AbstractArray{Continuous,1}, AbstractArray{Count,1}}}\n",
      "│ input_scitype(model) = Table{var\"#s44\"} where var\"#s44\"<:(AbstractArray{var\"#s13\",1} where var\"#s13\"<:Continuous).\n",
      "└ @ MLJBase /home/andrew/.julia/packages/MLJBase/uKzAz/src/machines.jl:77\n",
      "\u001b[33mEvaluating over 100 metamodels:  13%[===>                     ]  ETA: 0:01:10\u001b[39m┌ Warning: The scitype of `X`, in `machine(model, X, ...)` is incompatible with `model=\u001b[34mSVMClassifier @169\u001b[39m`:\n",
      "│ scitype(X) = Table{Union{AbstractArray{Continuous,1}, AbstractArray{Count,1}}}\n",
      "│ input_scitype(model) = Table{var\"#s44\"} where var\"#s44\"<:(AbstractArray{var\"#s13\",1} where var\"#s13\"<:Continuous).\n",
      "└ @ MLJBase /home/andrew/.julia/packages/MLJBase/uKzAz/src/machines.jl:77\n",
      "\u001b[33mEvaluating over 100 metamodels:  14%[===>                     ]  ETA: 0:01:04\u001b[39m┌ Warning: The scitype of `X`, in `machine(model, X, ...)` is incompatible with `model=\u001b[34mSVMClassifier @221\u001b[39m`:\n",
      "│ scitype(X) = Table{Union{AbstractArray{Continuous,1}, AbstractArray{Count,1}}}\n",
      "│ input_scitype(model) = Table{var\"#s44\"} where var\"#s44\"<:(AbstractArray{var\"#s13\",1} where var\"#s13\"<:Continuous).\n",
      "└ @ MLJBase /home/andrew/.julia/packages/MLJBase/uKzAz/src/machines.jl:77\n",
      "\u001b[33mEvaluating over 100 metamodels:  15%[===>                     ]  ETA: 0:01:00\u001b[39m┌ Warning: The scitype of `X`, in `machine(model, X, ...)` is incompatible with `model=\u001b[34mSVMClassifier @478\u001b[39m`:\n",
      "│ scitype(X) = Table{Union{AbstractArray{Continuous,1}, AbstractArray{Count,1}}}\n",
      "│ input_scitype(model) = Table{var\"#s44\"} where var\"#s44\"<:(AbstractArray{var\"#s13\",1} where var\"#s13\"<:Continuous).\n",
      "└ @ MLJBase /home/andrew/.julia/packages/MLJBase/uKzAz/src/machines.jl:77\n"
     ]
    },
    {
     "name": "stderr",
     "output_type": "stream",
     "text": [
      "\u001b[33mEvaluating over 100 metamodels:  16%[====>                    ]  ETA: 0:00:57\u001b[39m┌ Warning: The scitype of `X`, in `machine(model, X, ...)` is incompatible with `model=\u001b[34mSVMClassifier @884\u001b[39m`:\n",
      "│ scitype(X) = Table{Union{AbstractArray{Continuous,1}, AbstractArray{Count,1}}}\n",
      "│ input_scitype(model) = Table{var\"#s44\"} where var\"#s44\"<:(AbstractArray{var\"#s13\",1} where var\"#s13\"<:Continuous).\n",
      "└ @ MLJBase /home/andrew/.julia/packages/MLJBase/uKzAz/src/machines.jl:77\n",
      "\u001b[33mEvaluating over 100 metamodels:  17%[====>                    ]  ETA: 0:00:54\u001b[39m┌ Warning: The scitype of `X`, in `machine(model, X, ...)` is incompatible with `model=\u001b[34mSVMClassifier @323\u001b[39m`:\n",
      "│ scitype(X) = Table{Union{AbstractArray{Continuous,1}, AbstractArray{Count,1}}}\n",
      "│ input_scitype(model) = Table{var\"#s44\"} where var\"#s44\"<:(AbstractArray{var\"#s13\",1} where var\"#s13\"<:Continuous).\n",
      "└ @ MLJBase /home/andrew/.julia/packages/MLJBase/uKzAz/src/machines.jl:77\n",
      "\u001b[33mEvaluating over 100 metamodels:  18%[====>                    ]  ETA: 0:00:50\u001b[39m┌ Warning: The scitype of `X`, in `machine(model, X, ...)` is incompatible with `model=\u001b[34mSVMClassifier @137\u001b[39m`:\n",
      "│ scitype(X) = Table{Union{AbstractArray{Continuous,1}, AbstractArray{Count,1}}}\n",
      "│ input_scitype(model) = Table{var\"#s44\"} where var\"#s44\"<:(AbstractArray{var\"#s13\",1} where var\"#s13\"<:Continuous).\n",
      "└ @ MLJBase /home/andrew/.julia/packages/MLJBase/uKzAz/src/machines.jl:77\n",
      "\u001b[33mEvaluating over 100 metamodels:  19%[====>                    ]  ETA: 0:00:48\u001b[39m┌ Warning: The scitype of `X`, in `machine(model, X, ...)` is incompatible with `model=\u001b[34mSVMClassifier @839\u001b[39m`:\n",
      "│ scitype(X) = Table{Union{AbstractArray{Continuous,1}, AbstractArray{Count,1}}}\n",
      "│ input_scitype(model) = Table{var\"#s44\"} where var\"#s44\"<:(AbstractArray{var\"#s13\",1} where var\"#s13\"<:Continuous).\n",
      "└ @ MLJBase /home/andrew/.julia/packages/MLJBase/uKzAz/src/machines.jl:77\n",
      "\u001b[33mEvaluating over 100 metamodels:  20%[=====>                   ]  ETA: 0:00:45\u001b[39m┌ Warning: The scitype of `X`, in `machine(model, X, ...)` is incompatible with `model=\u001b[34mSVMClassifier @218\u001b[39m`:\n",
      "│ scitype(X) = Table{Union{AbstractArray{Continuous,1}, AbstractArray{Count,1}}}\n",
      "│ input_scitype(model) = Table{var\"#s44\"} where var\"#s44\"<:(AbstractArray{var\"#s13\",1} where var\"#s13\"<:Continuous).\n",
      "└ @ MLJBase /home/andrew/.julia/packages/MLJBase/uKzAz/src/machines.jl:77\n",
      "\u001b[33mEvaluating over 100 metamodels:  21%[=====>                   ]  ETA: 0:00:43\u001b[39m┌ Warning: The scitype of `X`, in `machine(model, X, ...)` is incompatible with `model=\u001b[34mSVMClassifier @193\u001b[39m`:\n",
      "│ scitype(X) = Table{Union{AbstractArray{Continuous,1}, AbstractArray{Count,1}}}\n",
      "│ input_scitype(model) = Table{var\"#s44\"} where var\"#s44\"<:(AbstractArray{var\"#s13\",1} where var\"#s13\"<:Continuous).\n",
      "└ @ MLJBase /home/andrew/.julia/packages/MLJBase/uKzAz/src/machines.jl:77\n",
      "\u001b[33mEvaluating over 100 metamodels:  22%[=====>                   ]  ETA: 0:00:41\u001b[39m┌ Warning: The scitype of `X`, in `machine(model, X, ...)` is incompatible with `model=\u001b[34mSVMClassifier @027\u001b[39m`:\n",
      "│ scitype(X) = Table{Union{AbstractArray{Continuous,1}, AbstractArray{Count,1}}}\n",
      "│ input_scitype(model) = Table{var\"#s44\"} where var\"#s44\"<:(AbstractArray{var\"#s13\",1} where var\"#s13\"<:Continuous).\n",
      "└ @ MLJBase /home/andrew/.julia/packages/MLJBase/uKzAz/src/machines.jl:77\n",
      "\u001b[33mEvaluating over 100 metamodels:  23%[=====>                   ]  ETA: 0:00:39\u001b[39m┌ Warning: The scitype of `X`, in `machine(model, X, ...)` is incompatible with `model=\u001b[34mSVMClassifier @204\u001b[39m`:\n",
      "│ scitype(X) = Table{Union{AbstractArray{Continuous,1}, AbstractArray{Count,1}}}\n",
      "│ input_scitype(model) = Table{var\"#s44\"} where var\"#s44\"<:(AbstractArray{var\"#s13\",1} where var\"#s13\"<:Continuous).\n",
      "└ @ MLJBase /home/andrew/.julia/packages/MLJBase/uKzAz/src/machines.jl:77\n",
      "\u001b[33mEvaluating over 100 metamodels:  24%[======>                  ]  ETA: 0:00:37\u001b[39m┌ Warning: The scitype of `X`, in `machine(model, X, ...)` is incompatible with `model=\u001b[34mSVMClassifier @296\u001b[39m`:\n",
      "│ scitype(X) = Table{Union{AbstractArray{Continuous,1}, AbstractArray{Count,1}}}\n",
      "│ input_scitype(model) = Table{var\"#s44\"} where var\"#s44\"<:(AbstractArray{var\"#s13\",1} where var\"#s13\"<:Continuous).\n",
      "└ @ MLJBase /home/andrew/.julia/packages/MLJBase/uKzAz/src/machines.jl:77\n",
      "\u001b[33mEvaluating over 100 metamodels:  25%[======>                  ]  ETA: 0:00:47\u001b[39m┌ Warning: The scitype of `X`, in `machine(model, X, ...)` is incompatible with `model=\u001b[34mSVMClassifier @140\u001b[39m`:\n",
      "│ scitype(X) = Table{Union{AbstractArray{Continuous,1}, AbstractArray{Count,1}}}\n",
      "│ input_scitype(model) = Table{var\"#s44\"} where var\"#s44\"<:(AbstractArray{var\"#s13\",1} where var\"#s13\"<:Continuous).\n",
      "└ @ MLJBase /home/andrew/.julia/packages/MLJBase/uKzAz/src/machines.jl:77\n",
      "\u001b[33mEvaluating over 100 metamodels:  26%[======>                  ]  ETA: 0:00:45\u001b[39m┌ Warning: The scitype of `X`, in `machine(model, X, ...)` is incompatible with `model=\u001b[34mSVMClassifier @645\u001b[39m`:\n",
      "│ scitype(X) = Table{Union{AbstractArray{Continuous,1}, AbstractArray{Count,1}}}\n",
      "│ input_scitype(model) = Table{var\"#s44\"} where var\"#s44\"<:(AbstractArray{var\"#s13\",1} where var\"#s13\"<:Continuous).\n",
      "└ @ MLJBase /home/andrew/.julia/packages/MLJBase/uKzAz/src/machines.jl:77\n",
      "\u001b[33mEvaluating over 100 metamodels:  27%[======>                  ]  ETA: 0:00:43\u001b[39m┌ Warning: The scitype of `X`, in `machine(model, X, ...)` is incompatible with `model=\u001b[34mSVMClassifier @578\u001b[39m`:\n",
      "│ scitype(X) = Table{Union{AbstractArray{Continuous,1}, AbstractArray{Count,1}}}\n",
      "│ input_scitype(model) = Table{var\"#s44\"} where var\"#s44\"<:(AbstractArray{var\"#s13\",1} where var\"#s13\"<:Continuous).\n",
      "└ @ MLJBase /home/andrew/.julia/packages/MLJBase/uKzAz/src/machines.jl:77\n",
      "\u001b[33mEvaluating over 100 metamodels:  28%[=======>                 ]  ETA: 0:00:41\u001b[39m┌ Warning: The scitype of `X`, in `machine(model, X, ...)` is incompatible with `model=\u001b[34mSVMClassifier @561\u001b[39m`:\n",
      "│ scitype(X) = Table{Union{AbstractArray{Continuous,1}, AbstractArray{Count,1}}}\n",
      "│ input_scitype(model) = Table{var\"#s44\"} where var\"#s44\"<:(AbstractArray{var\"#s13\",1} where var\"#s13\"<:Continuous).\n",
      "└ @ MLJBase /home/andrew/.julia/packages/MLJBase/uKzAz/src/machines.jl:77\n",
      "\u001b[33mEvaluating over 100 metamodels:  29%[=======>                 ]  ETA: 0:00:40\u001b[39m┌ Warning: The scitype of `X`, in `machine(model, X, ...)` is incompatible with `model=\u001b[34mSVMClassifier @481\u001b[39m`:\n",
      "│ scitype(X) = Table{Union{AbstractArray{Continuous,1}, AbstractArray{Count,1}}}\n",
      "│ input_scitype(model) = Table{var\"#s44\"} where var\"#s44\"<:(AbstractArray{var\"#s13\",1} where var\"#s13\"<:Continuous).\n",
      "└ @ MLJBase /home/andrew/.julia/packages/MLJBase/uKzAz/src/machines.jl:77\n",
      "\u001b[33mEvaluating over 100 metamodels:  30%[=======>                 ]  ETA: 0:00:40\u001b[39m┌ Warning: The scitype of `X`, in `machine(model, X, ...)` is incompatible with `model=\u001b[34mSVMClassifier @921\u001b[39m`:\n",
      "│ scitype(X) = Table{Union{AbstractArray{Continuous,1}, AbstractArray{Count,1}}}\n",
      "│ input_scitype(model) = Table{var\"#s44\"} where var\"#s44\"<:(AbstractArray{var\"#s13\",1} where var\"#s13\"<:Continuous).\n",
      "└ @ MLJBase /home/andrew/.julia/packages/MLJBase/uKzAz/src/machines.jl:77\n",
      "\u001b[33mEvaluating over 100 metamodels:  31%[=======>                 ]  ETA: 0:00:39\u001b[39m┌ Warning: The scitype of `X`, in `machine(model, X, ...)` is incompatible with `model=\u001b[34mSVMClassifier @956\u001b[39m`:\n",
      "│ scitype(X) = Table{Union{AbstractArray{Continuous,1}, AbstractArray{Count,1}}}\n",
      "│ input_scitype(model) = Table{var\"#s44\"} where var\"#s44\"<:(AbstractArray{var\"#s13\",1} where var\"#s13\"<:Continuous).\n",
      "└ @ MLJBase /home/andrew/.julia/packages/MLJBase/uKzAz/src/machines.jl:77\n",
      "\u001b[33mEvaluating over 100 metamodels:  32%[========>                ]  ETA: 0:00:37\u001b[39m┌ Warning: The scitype of `X`, in `machine(model, X, ...)` is incompatible with `model=\u001b[34mSVMClassifier @534\u001b[39m`:\n",
      "│ scitype(X) = Table{Union{AbstractArray{Continuous,1}, AbstractArray{Count,1}}}\n",
      "│ input_scitype(model) = Table{var\"#s44\"} where var\"#s44\"<:(AbstractArray{var\"#s13\",1} where var\"#s13\"<:Continuous).\n",
      "└ @ MLJBase /home/andrew/.julia/packages/MLJBase/uKzAz/src/machines.jl:77\n"
     ]
    },
    {
     "name": "stderr",
     "output_type": "stream",
     "text": [
      "\u001b[33mEvaluating over 100 metamodels:  33%[========>                ]  ETA: 0:00:36\u001b[39m┌ Warning: The scitype of `X`, in `machine(model, X, ...)` is incompatible with `model=\u001b[34mSVMClassifier @687\u001b[39m`:\n",
      "│ scitype(X) = Table{Union{AbstractArray{Continuous,1}, AbstractArray{Count,1}}}\n",
      "│ input_scitype(model) = Table{var\"#s44\"} where var\"#s44\"<:(AbstractArray{var\"#s13\",1} where var\"#s13\"<:Continuous).\n",
      "└ @ MLJBase /home/andrew/.julia/packages/MLJBase/uKzAz/src/machines.jl:77\n",
      "\u001b[33mEvaluating over 100 metamodels:  34%[========>                ]  ETA: 0:00:37\u001b[39m┌ Warning: The scitype of `X`, in `machine(model, X, ...)` is incompatible with `model=\u001b[34mSVMClassifier @234\u001b[39m`:\n",
      "│ scitype(X) = Table{Union{AbstractArray{Continuous,1}, AbstractArray{Count,1}}}\n",
      "│ input_scitype(model) = Table{var\"#s44\"} where var\"#s44\"<:(AbstractArray{var\"#s13\",1} where var\"#s13\"<:Continuous).\n",
      "└ @ MLJBase /home/andrew/.julia/packages/MLJBase/uKzAz/src/machines.jl:77\n",
      "\u001b[33mEvaluating over 100 metamodels:  35%[========>                ]  ETA: 0:00:36\u001b[39m┌ Warning: The scitype of `X`, in `machine(model, X, ...)` is incompatible with `model=\u001b[34mSVMClassifier @612\u001b[39m`:\n",
      "│ scitype(X) = Table{Union{AbstractArray{Continuous,1}, AbstractArray{Count,1}}}\n",
      "│ input_scitype(model) = Table{var\"#s44\"} where var\"#s44\"<:(AbstractArray{var\"#s13\",1} where var\"#s13\"<:Continuous).\n",
      "└ @ MLJBase /home/andrew/.julia/packages/MLJBase/uKzAz/src/machines.jl:77\n",
      "\u001b[33mEvaluating over 100 metamodels:  36%[=========>               ]  ETA: 0:00:35\u001b[39m┌ Warning: The scitype of `X`, in `machine(model, X, ...)` is incompatible with `model=\u001b[34mSVMClassifier @675\u001b[39m`:\n",
      "│ scitype(X) = Table{Union{AbstractArray{Continuous,1}, AbstractArray{Count,1}}}\n",
      "│ input_scitype(model) = Table{var\"#s44\"} where var\"#s44\"<:(AbstractArray{var\"#s13\",1} where var\"#s13\"<:Continuous).\n",
      "└ @ MLJBase /home/andrew/.julia/packages/MLJBase/uKzAz/src/machines.jl:77\n",
      "\u001b[33mEvaluating over 100 metamodels:  37%[=========>               ]  ETA: 0:00:33\u001b[39m┌ Warning: The scitype of `X`, in `machine(model, X, ...)` is incompatible with `model=\u001b[34mSVMClassifier @392\u001b[39m`:\n",
      "│ scitype(X) = Table{Union{AbstractArray{Continuous,1}, AbstractArray{Count,1}}}\n",
      "│ input_scitype(model) = Table{var\"#s44\"} where var\"#s44\"<:(AbstractArray{var\"#s13\",1} where var\"#s13\"<:Continuous).\n",
      "└ @ MLJBase /home/andrew/.julia/packages/MLJBase/uKzAz/src/machines.jl:77\n",
      "\u001b[33mEvaluating over 100 metamodels:  38%[=========>               ]  ETA: 0:00:32\u001b[39m┌ Warning: The scitype of `X`, in `machine(model, X, ...)` is incompatible with `model=\u001b[34mSVMClassifier @470\u001b[39m`:\n",
      "│ scitype(X) = Table{Union{AbstractArray{Continuous,1}, AbstractArray{Count,1}}}\n",
      "│ input_scitype(model) = Table{var\"#s44\"} where var\"#s44\"<:(AbstractArray{var\"#s13\",1} where var\"#s13\"<:Continuous).\n",
      "└ @ MLJBase /home/andrew/.julia/packages/MLJBase/uKzAz/src/machines.jl:77\n",
      "\u001b[33mEvaluating over 100 metamodels:  39%[=========>               ]  ETA: 0:00:33\u001b[39m┌ Warning: The scitype of `X`, in `machine(model, X, ...)` is incompatible with `model=\u001b[34mSVMClassifier @919\u001b[39m`:\n",
      "│ scitype(X) = Table{Union{AbstractArray{Continuous,1}, AbstractArray{Count,1}}}\n",
      "│ input_scitype(model) = Table{var\"#s44\"} where var\"#s44\"<:(AbstractArray{var\"#s13\",1} where var\"#s13\"<:Continuous).\n",
      "└ @ MLJBase /home/andrew/.julia/packages/MLJBase/uKzAz/src/machines.jl:77\n",
      "\u001b[33mEvaluating over 100 metamodels:  40%[==========>              ]  ETA: 0:00:32\u001b[39m┌ Warning: The scitype of `X`, in `machine(model, X, ...)` is incompatible with `model=\u001b[34mSVMClassifier @155\u001b[39m`:\n",
      "│ scitype(X) = Table{Union{AbstractArray{Continuous,1}, AbstractArray{Count,1}}}\n",
      "│ input_scitype(model) = Table{var\"#s44\"} where var\"#s44\"<:(AbstractArray{var\"#s13\",1} where var\"#s13\"<:Continuous).\n",
      "└ @ MLJBase /home/andrew/.julia/packages/MLJBase/uKzAz/src/machines.jl:77\n",
      "\u001b[33mEvaluating over 100 metamodels:  41%[==========>              ]  ETA: 0:00:31\u001b[39m┌ Warning: The scitype of `X`, in `machine(model, X, ...)` is incompatible with `model=\u001b[34mSVMClassifier @259\u001b[39m`:\n",
      "│ scitype(X) = Table{Union{AbstractArray{Continuous,1}, AbstractArray{Count,1}}}\n",
      "│ input_scitype(model) = Table{var\"#s44\"} where var\"#s44\"<:(AbstractArray{var\"#s13\",1} where var\"#s13\"<:Continuous).\n",
      "└ @ MLJBase /home/andrew/.julia/packages/MLJBase/uKzAz/src/machines.jl:77\n",
      "\u001b[33mEvaluating over 100 metamodels:  42%[==========>              ]  ETA: 0:00:30\u001b[39m┌ Warning: The scitype of `X`, in `machine(model, X, ...)` is incompatible with `model=\u001b[34mSVMClassifier @037\u001b[39m`:\n",
      "│ scitype(X) = Table{Union{AbstractArray{Continuous,1}, AbstractArray{Count,1}}}\n",
      "│ input_scitype(model) = Table{var\"#s44\"} where var\"#s44\"<:(AbstractArray{var\"#s13\",1} where var\"#s13\"<:Continuous).\n",
      "└ @ MLJBase /home/andrew/.julia/packages/MLJBase/uKzAz/src/machines.jl:77\n",
      "\u001b[33mEvaluating over 100 metamodels:  43%[==========>              ]  ETA: 0:00:29\u001b[39m┌ Warning: The scitype of `X`, in `machine(model, X, ...)` is incompatible with `model=\u001b[34mSVMClassifier @370\u001b[39m`:\n",
      "│ scitype(X) = Table{Union{AbstractArray{Continuous,1}, AbstractArray{Count,1}}}\n",
      "│ input_scitype(model) = Table{var\"#s44\"} where var\"#s44\"<:(AbstractArray{var\"#s13\",1} where var\"#s13\"<:Continuous).\n",
      "└ @ MLJBase /home/andrew/.julia/packages/MLJBase/uKzAz/src/machines.jl:77\n",
      "\u001b[33mEvaluating over 100 metamodels:  44%[===========>             ]  ETA: 0:00:28\u001b[39m┌ Warning: The scitype of `X`, in `machine(model, X, ...)` is incompatible with `model=\u001b[34mSVMClassifier @401\u001b[39m`:\n",
      "│ scitype(X) = Table{Union{AbstractArray{Continuous,1}, AbstractArray{Count,1}}}\n",
      "│ input_scitype(model) = Table{var\"#s44\"} where var\"#s44\"<:(AbstractArray{var\"#s13\",1} where var\"#s13\"<:Continuous).\n",
      "└ @ MLJBase /home/andrew/.julia/packages/MLJBase/uKzAz/src/machines.jl:77\n",
      "\u001b[33mEvaluating over 100 metamodels:  45%[===========>             ]  ETA: 0:00:27\u001b[39m┌ Warning: The scitype of `X`, in `machine(model, X, ...)` is incompatible with `model=\u001b[34mSVMClassifier @696\u001b[39m`:\n",
      "│ scitype(X) = Table{Union{AbstractArray{Continuous,1}, AbstractArray{Count,1}}}\n",
      "│ input_scitype(model) = Table{var\"#s44\"} where var\"#s44\"<:(AbstractArray{var\"#s13\",1} where var\"#s13\"<:Continuous).\n",
      "└ @ MLJBase /home/andrew/.julia/packages/MLJBase/uKzAz/src/machines.jl:77\n",
      "\u001b[33mEvaluating over 100 metamodels:  46%[===========>             ]  ETA: 0:00:26\u001b[39m┌ Warning: The scitype of `X`, in `machine(model, X, ...)` is incompatible with `model=\u001b[34mSVMClassifier @371\u001b[39m`:\n",
      "│ scitype(X) = Table{Union{AbstractArray{Continuous,1}, AbstractArray{Count,1}}}\n",
      "│ input_scitype(model) = Table{var\"#s44\"} where var\"#s44\"<:(AbstractArray{var\"#s13\",1} where var\"#s13\"<:Continuous).\n",
      "└ @ MLJBase /home/andrew/.julia/packages/MLJBase/uKzAz/src/machines.jl:77\n",
      "\u001b[33mEvaluating over 100 metamodels:  47%[===========>             ]  ETA: 0:00:25\u001b[39m┌ Warning: The scitype of `X`, in `machine(model, X, ...)` is incompatible with `model=\u001b[34mSVMClassifier @498\u001b[39m`:\n",
      "│ scitype(X) = Table{Union{AbstractArray{Continuous,1}, AbstractArray{Count,1}}}\n",
      "│ input_scitype(model) = Table{var\"#s44\"} where var\"#s44\"<:(AbstractArray{var\"#s13\",1} where var\"#s13\"<:Continuous).\n",
      "└ @ MLJBase /home/andrew/.julia/packages/MLJBase/uKzAz/src/machines.jl:77\n",
      "\u001b[33mEvaluating over 100 metamodels:  48%[============>            ]  ETA: 0:00:25\u001b[39m┌ Warning: The scitype of `X`, in `machine(model, X, ...)` is incompatible with `model=\u001b[34mSVMClassifier @586\u001b[39m`:\n",
      "│ scitype(X) = Table{Union{AbstractArray{Continuous,1}, AbstractArray{Count,1}}}\n",
      "│ input_scitype(model) = Table{var\"#s44\"} where var\"#s44\"<:(AbstractArray{var\"#s13\",1} where var\"#s13\"<:Continuous).\n",
      "└ @ MLJBase /home/andrew/.julia/packages/MLJBase/uKzAz/src/machines.jl:77\n",
      "\u001b[33mEvaluating over 100 metamodels:  49%[============>            ]  ETA: 0:00:24\u001b[39m┌ Warning: The scitype of `X`, in `machine(model, X, ...)` is incompatible with `model=\u001b[34mSVMClassifier @485\u001b[39m`:\n",
      "│ scitype(X) = Table{Union{AbstractArray{Continuous,1}, AbstractArray{Count,1}}}\n",
      "│ input_scitype(model) = Table{var\"#s44\"} where var\"#s44\"<:(AbstractArray{var\"#s13\",1} where var\"#s13\"<:Continuous).\n",
      "└ @ MLJBase /home/andrew/.julia/packages/MLJBase/uKzAz/src/machines.jl:77\n"
     ]
    },
    {
     "name": "stderr",
     "output_type": "stream",
     "text": [
      "\u001b[33mEvaluating over 100 metamodels:  50%[============>            ]  ETA: 0:00:29\u001b[39m┌ Warning: The scitype of `X`, in `machine(model, X, ...)` is incompatible with `model=\u001b[34mSVMClassifier @702\u001b[39m`:\n",
      "│ scitype(X) = Table{Union{AbstractArray{Continuous,1}, AbstractArray{Count,1}}}\n",
      "│ input_scitype(model) = Table{var\"#s44\"} where var\"#s44\"<:(AbstractArray{var\"#s13\",1} where var\"#s13\"<:Continuous).\n",
      "└ @ MLJBase /home/andrew/.julia/packages/MLJBase/uKzAz/src/machines.jl:77\n",
      "\u001b[33mEvaluating over 100 metamodels:  51%[============>            ]  ETA: 0:00:28\u001b[39m┌ Warning: The scitype of `X`, in `machine(model, X, ...)` is incompatible with `model=\u001b[34mSVMClassifier @621\u001b[39m`:\n",
      "│ scitype(X) = Table{Union{AbstractArray{Continuous,1}, AbstractArray{Count,1}}}\n",
      "│ input_scitype(model) = Table{var\"#s44\"} where var\"#s44\"<:(AbstractArray{var\"#s13\",1} where var\"#s13\"<:Continuous).\n",
      "└ @ MLJBase /home/andrew/.julia/packages/MLJBase/uKzAz/src/machines.jl:77\n",
      "\u001b[33mEvaluating over 100 metamodels:  52%[=============>           ]  ETA: 0:00:33\u001b[39m┌ Warning: The scitype of `X`, in `machine(model, X, ...)` is incompatible with `model=\u001b[34mSVMClassifier @855\u001b[39m`:\n",
      "│ scitype(X) = Table{Union{AbstractArray{Continuous,1}, AbstractArray{Count,1}}}\n",
      "│ input_scitype(model) = Table{var\"#s44\"} where var\"#s44\"<:(AbstractArray{var\"#s13\",1} where var\"#s13\"<:Continuous).\n",
      "└ @ MLJBase /home/andrew/.julia/packages/MLJBase/uKzAz/src/machines.jl:77\n",
      "\u001b[33mEvaluating over 100 metamodels:  53%[=============>           ]  ETA: 0:00:32\u001b[39m┌ Warning: The scitype of `X`, in `machine(model, X, ...)` is incompatible with `model=\u001b[34mSVMClassifier @154\u001b[39m`:\n",
      "│ scitype(X) = Table{Union{AbstractArray{Continuous,1}, AbstractArray{Count,1}}}\n",
      "│ input_scitype(model) = Table{var\"#s44\"} where var\"#s44\"<:(AbstractArray{var\"#s13\",1} where var\"#s13\"<:Continuous).\n",
      "└ @ MLJBase /home/andrew/.julia/packages/MLJBase/uKzAz/src/machines.jl:77\n",
      "\u001b[33mEvaluating over 100 metamodels:  54%[=============>           ]  ETA: 0:00:31\u001b[39m┌ Warning: The scitype of `X`, in `machine(model, X, ...)` is incompatible with `model=\u001b[34mSVMClassifier @852\u001b[39m`:\n",
      "│ scitype(X) = Table{Union{AbstractArray{Continuous,1}, AbstractArray{Count,1}}}\n",
      "│ input_scitype(model) = Table{var\"#s44\"} where var\"#s44\"<:(AbstractArray{var\"#s13\",1} where var\"#s13\"<:Continuous).\n",
      "└ @ MLJBase /home/andrew/.julia/packages/MLJBase/uKzAz/src/machines.jl:77\n",
      "\u001b[33mEvaluating over 100 metamodels:  55%[=============>           ]  ETA: 0:00:41\u001b[39m┌ Warning: The scitype of `X`, in `machine(model, X, ...)` is incompatible with `model=\u001b[34mSVMClassifier @432\u001b[39m`:\n",
      "│ scitype(X) = Table{Union{AbstractArray{Continuous,1}, AbstractArray{Count,1}}}\n",
      "│ input_scitype(model) = Table{var\"#s44\"} where var\"#s44\"<:(AbstractArray{var\"#s13\",1} where var\"#s13\"<:Continuous).\n",
      "└ @ MLJBase /home/andrew/.julia/packages/MLJBase/uKzAz/src/machines.jl:77\n",
      "\u001b[33mEvaluating over 100 metamodels:  56%[==============>          ]  ETA: 0:00:40\u001b[39m┌ Warning: The scitype of `X`, in `machine(model, X, ...)` is incompatible with `model=\u001b[34mSVMClassifier @909\u001b[39m`:\n",
      "│ scitype(X) = Table{Union{AbstractArray{Continuous,1}, AbstractArray{Count,1}}}\n",
      "│ input_scitype(model) = Table{var\"#s44\"} where var\"#s44\"<:(AbstractArray{var\"#s13\",1} where var\"#s13\"<:Continuous).\n",
      "└ @ MLJBase /home/andrew/.julia/packages/MLJBase/uKzAz/src/machines.jl:77\n",
      "\u001b[33mEvaluating over 100 metamodels:  57%[==============>          ]  ETA: 0:00:38\u001b[39m┌ Warning: The scitype of `X`, in `machine(model, X, ...)` is incompatible with `model=\u001b[34mSVMClassifier @749\u001b[39m`:\n",
      "│ scitype(X) = Table{Union{AbstractArray{Continuous,1}, AbstractArray{Count,1}}}\n",
      "│ input_scitype(model) = Table{var\"#s44\"} where var\"#s44\"<:(AbstractArray{var\"#s13\",1} where var\"#s13\"<:Continuous).\n",
      "└ @ MLJBase /home/andrew/.julia/packages/MLJBase/uKzAz/src/machines.jl:77\n",
      "\u001b[33mEvaluating over 100 metamodels:  58%[==============>          ]  ETA: 0:00:37\u001b[39m┌ Warning: The scitype of `X`, in `machine(model, X, ...)` is incompatible with `model=\u001b[34mSVMClassifier @020\u001b[39m`:\n",
      "│ scitype(X) = Table{Union{AbstractArray{Continuous,1}, AbstractArray{Count,1}}}\n",
      "│ input_scitype(model) = Table{var\"#s44\"} where var\"#s44\"<:(AbstractArray{var\"#s13\",1} where var\"#s13\"<:Continuous).\n",
      "└ @ MLJBase /home/andrew/.julia/packages/MLJBase/uKzAz/src/machines.jl:77\n",
      "\u001b[33mEvaluating over 100 metamodels:  59%[==============>          ]  ETA: 0:00:35\u001b[39m┌ Warning: The scitype of `X`, in `machine(model, X, ...)` is incompatible with `model=\u001b[34mSVMClassifier @238\u001b[39m`:\n",
      "│ scitype(X) = Table{Union{AbstractArray{Continuous,1}, AbstractArray{Count,1}}}\n",
      "│ input_scitype(model) = Table{var\"#s44\"} where var\"#s44\"<:(AbstractArray{var\"#s13\",1} where var\"#s13\"<:Continuous).\n",
      "└ @ MLJBase /home/andrew/.julia/packages/MLJBase/uKzAz/src/machines.jl:77\n",
      "\u001b[33mEvaluating over 100 metamodels:  60%[===============>         ]  ETA: 0:00:34\u001b[39m┌ Warning: The scitype of `X`, in `machine(model, X, ...)` is incompatible with `model=\u001b[34mSVMClassifier @596\u001b[39m`:\n",
      "│ scitype(X) = Table{Union{AbstractArray{Continuous,1}, AbstractArray{Count,1}}}\n",
      "│ input_scitype(model) = Table{var\"#s44\"} where var\"#s44\"<:(AbstractArray{var\"#s13\",1} where var\"#s13\"<:Continuous).\n",
      "└ @ MLJBase /home/andrew/.julia/packages/MLJBase/uKzAz/src/machines.jl:77\n",
      "\u001b[33mEvaluating over 100 metamodels:  61%[===============>         ]  ETA: 0:00:33\u001b[39m┌ Warning: The scitype of `X`, in `machine(model, X, ...)` is incompatible with `model=\u001b[34mSVMClassifier @919\u001b[39m`:\n",
      "│ scitype(X) = Table{Union{AbstractArray{Continuous,1}, AbstractArray{Count,1}}}\n",
      "│ input_scitype(model) = Table{var\"#s44\"} where var\"#s44\"<:(AbstractArray{var\"#s13\",1} where var\"#s13\"<:Continuous).\n",
      "└ @ MLJBase /home/andrew/.julia/packages/MLJBase/uKzAz/src/machines.jl:77\n",
      "\u001b[33mEvaluating over 100 metamodels:  62%[===============>         ]  ETA: 0:00:32\u001b[39m┌ Warning: The scitype of `X`, in `machine(model, X, ...)` is incompatible with `model=\u001b[34mSVMClassifier @929\u001b[39m`:\n",
      "│ scitype(X) = Table{Union{AbstractArray{Continuous,1}, AbstractArray{Count,1}}}\n",
      "│ input_scitype(model) = Table{var\"#s44\"} where var\"#s44\"<:(AbstractArray{var\"#s13\",1} where var\"#s13\"<:Continuous).\n",
      "└ @ MLJBase /home/andrew/.julia/packages/MLJBase/uKzAz/src/machines.jl:77\n",
      "\u001b[33mEvaluating over 100 metamodels:  63%[===============>         ]  ETA: 0:00:31\u001b[39m┌ Warning: The scitype of `X`, in `machine(model, X, ...)` is incompatible with `model=\u001b[34mSVMClassifier @356\u001b[39m`:\n",
      "│ scitype(X) = Table{Union{AbstractArray{Continuous,1}, AbstractArray{Count,1}}}\n",
      "│ input_scitype(model) = Table{var\"#s44\"} where var\"#s44\"<:(AbstractArray{var\"#s13\",1} where var\"#s13\"<:Continuous).\n",
      "└ @ MLJBase /home/andrew/.julia/packages/MLJBase/uKzAz/src/machines.jl:77\n",
      "\u001b[33mEvaluating over 100 metamodels:  64%[================>        ]  ETA: 0:00:30\u001b[39m┌ Warning: The scitype of `X`, in `machine(model, X, ...)` is incompatible with `model=\u001b[34mSVMClassifier @516\u001b[39m`:\n",
      "│ scitype(X) = Table{Union{AbstractArray{Continuous,1}, AbstractArray{Count,1}}}\n",
      "│ input_scitype(model) = Table{var\"#s44\"} where var\"#s44\"<:(AbstractArray{var\"#s13\",1} where var\"#s13\"<:Continuous).\n",
      "└ @ MLJBase /home/andrew/.julia/packages/MLJBase/uKzAz/src/machines.jl:77\n",
      "\u001b[33mEvaluating over 100 metamodels:  65%[================>        ]  ETA: 0:00:29\u001b[39m┌ Warning: The scitype of `X`, in `machine(model, X, ...)` is incompatible with `model=\u001b[34mSVMClassifier @822\u001b[39m`:\n",
      "│ scitype(X) = Table{Union{AbstractArray{Continuous,1}, AbstractArray{Count,1}}}\n",
      "│ input_scitype(model) = Table{var\"#s44\"} where var\"#s44\"<:(AbstractArray{var\"#s13\",1} where var\"#s13\"<:Continuous).\n",
      "└ @ MLJBase /home/andrew/.julia/packages/MLJBase/uKzAz/src/machines.jl:77\n",
      "\u001b[33mEvaluating over 100 metamodels:  66%[================>        ]  ETA: 0:00:28\u001b[39m┌ Warning: The scitype of `X`, in `machine(model, X, ...)` is incompatible with `model=\u001b[34mSVMClassifier @503\u001b[39m`:\n",
      "│ scitype(X) = Table{Union{AbstractArray{Continuous,1}, AbstractArray{Count,1}}}\n",
      "│ input_scitype(model) = Table{var\"#s44\"} where var\"#s44\"<:(AbstractArray{var\"#s13\",1} where var\"#s13\"<:Continuous).\n",
      "└ @ MLJBase /home/andrew/.julia/packages/MLJBase/uKzAz/src/machines.jl:77\n"
     ]
    },
    {
     "name": "stderr",
     "output_type": "stream",
     "text": [
      "\u001b[33mEvaluating over 100 metamodels:  67%[================>        ]  ETA: 0:00:29\u001b[39m┌ Warning: The scitype of `X`, in `machine(model, X, ...)` is incompatible with `model=\u001b[34mSVMClassifier @224\u001b[39m`:\n",
      "│ scitype(X) = Table{Union{AbstractArray{Continuous,1}, AbstractArray{Count,1}}}\n",
      "│ input_scitype(model) = Table{var\"#s44\"} where var\"#s44\"<:(AbstractArray{var\"#s13\",1} where var\"#s13\"<:Continuous).\n",
      "└ @ MLJBase /home/andrew/.julia/packages/MLJBase/uKzAz/src/machines.jl:77\n",
      "\u001b[33mEvaluating over 100 metamodels:  68%[=================>       ]  ETA: 0:00:27\u001b[39m┌ Warning: The scitype of `X`, in `machine(model, X, ...)` is incompatible with `model=\u001b[34mSVMClassifier @364\u001b[39m`:\n",
      "│ scitype(X) = Table{Union{AbstractArray{Continuous,1}, AbstractArray{Count,1}}}\n",
      "│ input_scitype(model) = Table{var\"#s44\"} where var\"#s44\"<:(AbstractArray{var\"#s13\",1} where var\"#s13\"<:Continuous).\n",
      "└ @ MLJBase /home/andrew/.julia/packages/MLJBase/uKzAz/src/machines.jl:77\n",
      "\u001b[33mEvaluating over 100 metamodels:  69%[=================>       ]  ETA: 0:00:26\u001b[39m┌ Warning: The scitype of `X`, in `machine(model, X, ...)` is incompatible with `model=\u001b[34mSVMClassifier @521\u001b[39m`:\n",
      "│ scitype(X) = Table{Union{AbstractArray{Continuous,1}, AbstractArray{Count,1}}}\n",
      "│ input_scitype(model) = Table{var\"#s44\"} where var\"#s44\"<:(AbstractArray{var\"#s13\",1} where var\"#s13\"<:Continuous).\n",
      "└ @ MLJBase /home/andrew/.julia/packages/MLJBase/uKzAz/src/machines.jl:77\n",
      "\u001b[33mEvaluating over 100 metamodels:  70%[=================>       ]  ETA: 0:00:25\u001b[39m┌ Warning: The scitype of `X`, in `machine(model, X, ...)` is incompatible with `model=\u001b[34mSVMClassifier @643\u001b[39m`:\n",
      "│ scitype(X) = Table{Union{AbstractArray{Continuous,1}, AbstractArray{Count,1}}}\n",
      "│ input_scitype(model) = Table{var\"#s44\"} where var\"#s44\"<:(AbstractArray{var\"#s13\",1} where var\"#s13\"<:Continuous).\n",
      "└ @ MLJBase /home/andrew/.julia/packages/MLJBase/uKzAz/src/machines.jl:77\n",
      "\u001b[33mEvaluating over 100 metamodels:  71%[=================>       ]  ETA: 0:00:25\u001b[39m┌ Warning: The scitype of `X`, in `machine(model, X, ...)` is incompatible with `model=\u001b[34mSVMClassifier @452\u001b[39m`:\n",
      "│ scitype(X) = Table{Union{AbstractArray{Continuous,1}, AbstractArray{Count,1}}}\n",
      "│ input_scitype(model) = Table{var\"#s44\"} where var\"#s44\"<:(AbstractArray{var\"#s13\",1} where var\"#s13\"<:Continuous).\n",
      "└ @ MLJBase /home/andrew/.julia/packages/MLJBase/uKzAz/src/machines.jl:77\n",
      "\u001b[33mEvaluating over 100 metamodels:  72%[==================>      ]  ETA: 0:00:23\u001b[39m┌ Warning: The scitype of `X`, in `machine(model, X, ...)` is incompatible with `model=\u001b[34mSVMClassifier @364\u001b[39m`:\n",
      "│ scitype(X) = Table{Union{AbstractArray{Continuous,1}, AbstractArray{Count,1}}}\n",
      "│ input_scitype(model) = Table{var\"#s44\"} where var\"#s44\"<:(AbstractArray{var\"#s13\",1} where var\"#s13\"<:Continuous).\n",
      "└ @ MLJBase /home/andrew/.julia/packages/MLJBase/uKzAz/src/machines.jl:77\n",
      "\u001b[33mEvaluating over 100 metamodels:  73%[==================>      ]  ETA: 0:00:25\u001b[39m┌ Warning: The scitype of `X`, in `machine(model, X, ...)` is incompatible with `model=\u001b[34mSVMClassifier @151\u001b[39m`:\n",
      "│ scitype(X) = Table{Union{AbstractArray{Continuous,1}, AbstractArray{Count,1}}}\n",
      "│ input_scitype(model) = Table{var\"#s44\"} where var\"#s44\"<:(AbstractArray{var\"#s13\",1} where var\"#s13\"<:Continuous).\n",
      "└ @ MLJBase /home/andrew/.julia/packages/MLJBase/uKzAz/src/machines.jl:77\n",
      "\u001b[33mEvaluating over 100 metamodels:  74%[==================>      ]  ETA: 0:00:24\u001b[39m┌ Warning: The scitype of `X`, in `machine(model, X, ...)` is incompatible with `model=\u001b[34mSVMClassifier @154\u001b[39m`:\n",
      "│ scitype(X) = Table{Union{AbstractArray{Continuous,1}, AbstractArray{Count,1}}}\n",
      "│ input_scitype(model) = Table{var\"#s44\"} where var\"#s44\"<:(AbstractArray{var\"#s13\",1} where var\"#s13\"<:Continuous).\n",
      "└ @ MLJBase /home/andrew/.julia/packages/MLJBase/uKzAz/src/machines.jl:77\n",
      "\u001b[33mEvaluating over 100 metamodels:  75%[==================>      ]  ETA: 0:00:23\u001b[39m┌ Warning: The scitype of `X`, in `machine(model, X, ...)` is incompatible with `model=\u001b[34mSVMClassifier @389\u001b[39m`:\n",
      "│ scitype(X) = Table{Union{AbstractArray{Continuous,1}, AbstractArray{Count,1}}}\n",
      "│ input_scitype(model) = Table{var\"#s44\"} where var\"#s44\"<:(AbstractArray{var\"#s13\",1} where var\"#s13\"<:Continuous).\n",
      "└ @ MLJBase /home/andrew/.julia/packages/MLJBase/uKzAz/src/machines.jl:77\n",
      "\u001b[33mEvaluating over 100 metamodels:  76%[===================>     ]  ETA: 0:00:22\u001b[39m┌ Warning: The scitype of `X`, in `machine(model, X, ...)` is incompatible with `model=\u001b[34mSVMClassifier @650\u001b[39m`:\n",
      "│ scitype(X) = Table{Union{AbstractArray{Continuous,1}, AbstractArray{Count,1}}}\n",
      "│ input_scitype(model) = Table{var\"#s44\"} where var\"#s44\"<:(AbstractArray{var\"#s13\",1} where var\"#s13\"<:Continuous).\n",
      "└ @ MLJBase /home/andrew/.julia/packages/MLJBase/uKzAz/src/machines.jl:77\n",
      "\u001b[33mEvaluating over 100 metamodels:  77%[===================>     ]  ETA: 0:00:21\u001b[39m┌ Warning: The scitype of `X`, in `machine(model, X, ...)` is incompatible with `model=\u001b[34mSVMClassifier @416\u001b[39m`:\n",
      "│ scitype(X) = Table{Union{AbstractArray{Continuous,1}, AbstractArray{Count,1}}}\n",
      "│ input_scitype(model) = Table{var\"#s44\"} where var\"#s44\"<:(AbstractArray{var\"#s13\",1} where var\"#s13\"<:Continuous).\n",
      "└ @ MLJBase /home/andrew/.julia/packages/MLJBase/uKzAz/src/machines.jl:77\n",
      "\u001b[33mEvaluating over 100 metamodels:  78%[===================>     ]  ETA: 0:00:20\u001b[39m┌ Warning: The scitype of `X`, in `machine(model, X, ...)` is incompatible with `model=\u001b[34mSVMClassifier @986\u001b[39m`:\n",
      "│ scitype(X) = Table{Union{AbstractArray{Continuous,1}, AbstractArray{Count,1}}}\n",
      "│ input_scitype(model) = Table{var\"#s44\"} where var\"#s44\"<:(AbstractArray{var\"#s13\",1} where var\"#s13\"<:Continuous).\n",
      "└ @ MLJBase /home/andrew/.julia/packages/MLJBase/uKzAz/src/machines.jl:77\n",
      "\u001b[33mEvaluating over 100 metamodels:  79%[===================>     ]  ETA: 0:00:20\u001b[39m┌ Warning: The scitype of `X`, in `machine(model, X, ...)` is incompatible with `model=\u001b[34mSVMClassifier @173\u001b[39m`:\n",
      "│ scitype(X) = Table{Union{AbstractArray{Continuous,1}, AbstractArray{Count,1}}}\n",
      "│ input_scitype(model) = Table{var\"#s44\"} where var\"#s44\"<:(AbstractArray{var\"#s13\",1} where var\"#s13\"<:Continuous).\n",
      "└ @ MLJBase /home/andrew/.julia/packages/MLJBase/uKzAz/src/machines.jl:77\n",
      "\u001b[33mEvaluating over 100 metamodels:  80%[====================>    ]  ETA: 0:00:19\u001b[39m┌ Warning: The scitype of `X`, in `machine(model, X, ...)` is incompatible with `model=\u001b[34mSVMClassifier @345\u001b[39m`:\n",
      "│ scitype(X) = Table{Union{AbstractArray{Continuous,1}, AbstractArray{Count,1}}}\n",
      "│ input_scitype(model) = Table{var\"#s44\"} where var\"#s44\"<:(AbstractArray{var\"#s13\",1} where var\"#s13\"<:Continuous).\n",
      "└ @ MLJBase /home/andrew/.julia/packages/MLJBase/uKzAz/src/machines.jl:77\n",
      "\u001b[33mEvaluating over 100 metamodels:  81%[====================>    ]  ETA: 0:00:17\u001b[39m┌ Warning: The scitype of `X`, in `machine(model, X, ...)` is incompatible with `model=\u001b[34mSVMClassifier @742\u001b[39m`:\n",
      "│ scitype(X) = Table{Union{AbstractArray{Continuous,1}, AbstractArray{Count,1}}}\n",
      "│ input_scitype(model) = Table{var\"#s44\"} where var\"#s44\"<:(AbstractArray{var\"#s13\",1} where var\"#s13\"<:Continuous).\n",
      "└ @ MLJBase /home/andrew/.julia/packages/MLJBase/uKzAz/src/machines.jl:77\n",
      "\u001b[33mEvaluating over 100 metamodels:  82%[====================>    ]  ETA: 0:00:16\u001b[39m┌ Warning: The scitype of `X`, in `machine(model, X, ...)` is incompatible with `model=\u001b[34mSVMClassifier @900\u001b[39m`:\n",
      "│ scitype(X) = Table{Union{AbstractArray{Continuous,1}, AbstractArray{Count,1}}}\n",
      "│ input_scitype(model) = Table{var\"#s44\"} where var\"#s44\"<:(AbstractArray{var\"#s13\",1} where var\"#s13\"<:Continuous).\n",
      "└ @ MLJBase /home/andrew/.julia/packages/MLJBase/uKzAz/src/machines.jl:77\n",
      "\u001b[33mEvaluating over 100 metamodels:  83%[====================>    ]  ETA: 0:00:15\u001b[39m┌ Warning: The scitype of `X`, in `machine(model, X, ...)` is incompatible with `model=\u001b[34mSVMClassifier @753\u001b[39m`:\n",
      "│ scitype(X) = Table{Union{AbstractArray{Continuous,1}, AbstractArray{Count,1}}}\n",
      "│ input_scitype(model) = Table{var\"#s44\"} where var\"#s44\"<:(AbstractArray{var\"#s13\",1} where var\"#s13\"<:Continuous).\n",
      "└ @ MLJBase /home/andrew/.julia/packages/MLJBase/uKzAz/src/machines.jl:77\n"
     ]
    },
    {
     "name": "stderr",
     "output_type": "stream",
     "text": [
      "\u001b[33mEvaluating over 100 metamodels:  84%[=====================>   ]  ETA: 0:00:14\u001b[39m┌ Warning: The scitype of `X`, in `machine(model, X, ...)` is incompatible with `model=\u001b[34mSVMClassifier @376\u001b[39m`:\n",
      "│ scitype(X) = Table{Union{AbstractArray{Continuous,1}, AbstractArray{Count,1}}}\n",
      "│ input_scitype(model) = Table{var\"#s44\"} where var\"#s44\"<:(AbstractArray{var\"#s13\",1} where var\"#s13\"<:Continuous).\n",
      "└ @ MLJBase /home/andrew/.julia/packages/MLJBase/uKzAz/src/machines.jl:77\n",
      "\u001b[33mEvaluating over 100 metamodels:  85%[=====================>   ]  ETA: 0:00:13\u001b[39m┌ Warning: The scitype of `X`, in `machine(model, X, ...)` is incompatible with `model=\u001b[34mSVMClassifier @988\u001b[39m`:\n",
      "│ scitype(X) = Table{Union{AbstractArray{Continuous,1}, AbstractArray{Count,1}}}\n",
      "│ input_scitype(model) = Table{var\"#s44\"} where var\"#s44\"<:(AbstractArray{var\"#s13\",1} where var\"#s13\"<:Continuous).\n",
      "└ @ MLJBase /home/andrew/.julia/packages/MLJBase/uKzAz/src/machines.jl:77\n",
      "\u001b[33mEvaluating over 100 metamodels:  86%[=====================>   ]  ETA: 0:00:12\u001b[39m┌ Warning: The scitype of `X`, in `machine(model, X, ...)` is incompatible with `model=\u001b[34mSVMClassifier @743\u001b[39m`:\n",
      "│ scitype(X) = Table{Union{AbstractArray{Continuous,1}, AbstractArray{Count,1}}}\n",
      "│ input_scitype(model) = Table{var\"#s44\"} where var\"#s44\"<:(AbstractArray{var\"#s13\",1} where var\"#s13\"<:Continuous).\n",
      "└ @ MLJBase /home/andrew/.julia/packages/MLJBase/uKzAz/src/machines.jl:77\n",
      "\u001b[33mEvaluating over 100 metamodels:  87%[=====================>   ]  ETA: 0:00:11\u001b[39m┌ Warning: The scitype of `X`, in `machine(model, X, ...)` is incompatible with `model=\u001b[34mSVMClassifier @720\u001b[39m`:\n",
      "│ scitype(X) = Table{Union{AbstractArray{Continuous,1}, AbstractArray{Count,1}}}\n",
      "│ input_scitype(model) = Table{var\"#s44\"} where var\"#s44\"<:(AbstractArray{var\"#s13\",1} where var\"#s13\"<:Continuous).\n",
      "└ @ MLJBase /home/andrew/.julia/packages/MLJBase/uKzAz/src/machines.jl:77\n",
      "\u001b[33mEvaluating over 100 metamodels:  88%[======================>  ]  ETA: 0:00:10\u001b[39m┌ Warning: The scitype of `X`, in `machine(model, X, ...)` is incompatible with `model=\u001b[34mSVMClassifier @875\u001b[39m`:\n",
      "│ scitype(X) = Table{Union{AbstractArray{Continuous,1}, AbstractArray{Count,1}}}\n",
      "│ input_scitype(model) = Table{var\"#s44\"} where var\"#s44\"<:(AbstractArray{var\"#s13\",1} where var\"#s13\"<:Continuous).\n",
      "└ @ MLJBase /home/andrew/.julia/packages/MLJBase/uKzAz/src/machines.jl:77\n",
      "\u001b[33mEvaluating over 100 metamodels:  89%[======================>  ]  ETA: 0:00:10\u001b[39m┌ Warning: The scitype of `X`, in `machine(model, X, ...)` is incompatible with `model=\u001b[34mSVMClassifier @129\u001b[39m`:\n",
      "│ scitype(X) = Table{Union{AbstractArray{Continuous,1}, AbstractArray{Count,1}}}\n",
      "│ input_scitype(model) = Table{var\"#s44\"} where var\"#s44\"<:(AbstractArray{var\"#s13\",1} where var\"#s13\"<:Continuous).\n",
      "└ @ MLJBase /home/andrew/.julia/packages/MLJBase/uKzAz/src/machines.jl:77\n",
      "\u001b[33mEvaluating over 100 metamodels:  90%[======================>  ]  ETA: 0:00:09\u001b[39m┌ Warning: The scitype of `X`, in `machine(model, X, ...)` is incompatible with `model=\u001b[34mSVMClassifier @188\u001b[39m`:\n",
      "│ scitype(X) = Table{Union{AbstractArray{Continuous,1}, AbstractArray{Count,1}}}\n",
      "│ input_scitype(model) = Table{var\"#s44\"} where var\"#s44\"<:(AbstractArray{var\"#s13\",1} where var\"#s13\"<:Continuous).\n",
      "└ @ MLJBase /home/andrew/.julia/packages/MLJBase/uKzAz/src/machines.jl:77\n",
      "\u001b[33mEvaluating over 100 metamodels:  91%[======================>  ]  ETA: 0:00:08\u001b[39m┌ Warning: The scitype of `X`, in `machine(model, X, ...)` is incompatible with `model=\u001b[34mSVMClassifier @888\u001b[39m`:\n",
      "│ scitype(X) = Table{Union{AbstractArray{Continuous,1}, AbstractArray{Count,1}}}\n",
      "│ input_scitype(model) = Table{var\"#s44\"} where var\"#s44\"<:(AbstractArray{var\"#s13\",1} where var\"#s13\"<:Continuous).\n",
      "└ @ MLJBase /home/andrew/.julia/packages/MLJBase/uKzAz/src/machines.jl:77\n",
      "\u001b[33mEvaluating over 100 metamodels:  92%[=======================> ]  ETA: 0:00:07\u001b[39m┌ Warning: The scitype of `X`, in `machine(model, X, ...)` is incompatible with `model=\u001b[34mSVMClassifier @725\u001b[39m`:\n",
      "│ scitype(X) = Table{Union{AbstractArray{Continuous,1}, AbstractArray{Count,1}}}\n",
      "│ input_scitype(model) = Table{var\"#s44\"} where var\"#s44\"<:(AbstractArray{var\"#s13\",1} where var\"#s13\"<:Continuous).\n",
      "└ @ MLJBase /home/andrew/.julia/packages/MLJBase/uKzAz/src/machines.jl:77\n",
      "\u001b[33mEvaluating over 100 metamodels:  93%[=======================> ]  ETA: 0:00:06\u001b[39m┌ Warning: The scitype of `X`, in `machine(model, X, ...)` is incompatible with `model=\u001b[34mSVMClassifier @970\u001b[39m`:\n",
      "│ scitype(X) = Table{Union{AbstractArray{Continuous,1}, AbstractArray{Count,1}}}\n",
      "│ input_scitype(model) = Table{var\"#s44\"} where var\"#s44\"<:(AbstractArray{var\"#s13\",1} where var\"#s13\"<:Continuous).\n",
      "└ @ MLJBase /home/andrew/.julia/packages/MLJBase/uKzAz/src/machines.jl:77\n",
      "\u001b[33mEvaluating over 100 metamodels:  94%[=======================> ]  ETA: 0:00:05\u001b[39m┌ Warning: The scitype of `X`, in `machine(model, X, ...)` is incompatible with `model=\u001b[34mSVMClassifier @370\u001b[39m`:\n",
      "│ scitype(X) = Table{Union{AbstractArray{Continuous,1}, AbstractArray{Count,1}}}\n",
      "│ input_scitype(model) = Table{var\"#s44\"} where var\"#s44\"<:(AbstractArray{var\"#s13\",1} where var\"#s13\"<:Continuous).\n",
      "└ @ MLJBase /home/andrew/.julia/packages/MLJBase/uKzAz/src/machines.jl:77\n",
      "\u001b[33mEvaluating over 100 metamodels:  95%[=======================> ]  ETA: 0:00:04\u001b[39m┌ Warning: The scitype of `X`, in `machine(model, X, ...)` is incompatible with `model=\u001b[34mSVMClassifier @011\u001b[39m`:\n",
      "│ scitype(X) = Table{Union{AbstractArray{Continuous,1}, AbstractArray{Count,1}}}\n",
      "│ input_scitype(model) = Table{var\"#s44\"} where var\"#s44\"<:(AbstractArray{var\"#s13\",1} where var\"#s13\"<:Continuous).\n",
      "└ @ MLJBase /home/andrew/.julia/packages/MLJBase/uKzAz/src/machines.jl:77\n",
      "\u001b[33mEvaluating over 100 metamodels:  96%[========================>]  ETA: 0:00:03\u001b[39m┌ Warning: The scitype of `X`, in `machine(model, X, ...)` is incompatible with `model=\u001b[34mSVMClassifier @532\u001b[39m`:\n",
      "│ scitype(X) = Table{Union{AbstractArray{Continuous,1}, AbstractArray{Count,1}}}\n",
      "│ input_scitype(model) = Table{var\"#s44\"} where var\"#s44\"<:(AbstractArray{var\"#s13\",1} where var\"#s13\"<:Continuous).\n",
      "└ @ MLJBase /home/andrew/.julia/packages/MLJBase/uKzAz/src/machines.jl:77\n",
      "\u001b[33mEvaluating over 100 metamodels:  97%[========================>]  ETA: 0:00:02\u001b[39m┌ Warning: The scitype of `X`, in `machine(model, X, ...)` is incompatible with `model=\u001b[34mSVMClassifier @839\u001b[39m`:\n",
      "│ scitype(X) = Table{Union{AbstractArray{Continuous,1}, AbstractArray{Count,1}}}\n",
      "│ input_scitype(model) = Table{var\"#s44\"} where var\"#s44\"<:(AbstractArray{var\"#s13\",1} where var\"#s13\"<:Continuous).\n",
      "└ @ MLJBase /home/andrew/.julia/packages/MLJBase/uKzAz/src/machines.jl:77\n",
      "\u001b[33mEvaluating over 100 metamodels:  98%[========================>]  ETA: 0:00:02\u001b[39m┌ Warning: The scitype of `X`, in `machine(model, X, ...)` is incompatible with `model=\u001b[34mSVMClassifier @777\u001b[39m`:\n",
      "│ scitype(X) = Table{Union{AbstractArray{Continuous,1}, AbstractArray{Count,1}}}\n",
      "│ input_scitype(model) = Table{var\"#s44\"} where var\"#s44\"<:(AbstractArray{var\"#s13\",1} where var\"#s13\"<:Continuous).\n",
      "└ @ MLJBase /home/andrew/.julia/packages/MLJBase/uKzAz/src/machines.jl:77\n",
      "\u001b[33mEvaluating over 100 metamodels:  99%[========================>]  ETA: 0:00:01\u001b[39m┌ Warning: The scitype of `X`, in `machine(model, X, ...)` is incompatible with `model=\u001b[34mSVMClassifier @126\u001b[39m`:\n",
      "│ scitype(X) = Table{Union{AbstractArray{Continuous,1}, AbstractArray{Count,1}}}\n",
      "│ input_scitype(model) = Table{var\"#s44\"} where var\"#s44\"<:(AbstractArray{var\"#s13\",1} where var\"#s13\"<:Continuous).\n",
      "└ @ MLJBase /home/andrew/.julia/packages/MLJBase/uKzAz/src/machines.jl:77\n",
      "\u001b[33mEvaluating over 100 metamodels: 100%[=========================] Time: 0:01:19\u001b[39m\n",
      "┌ Warning: The scitype of `X`, in `machine(model, X, ...)` is incompatible with `model=\u001b[34mSVMClassifier @921\u001b[39m`:\n",
      "│ scitype(X) = Table{Union{AbstractArray{Continuous,1}, AbstractArray{Count,1}}}\n",
      "│ input_scitype(model) = Table{var\"#s44\"} where var\"#s44\"<:(AbstractArray{var\"#s13\",1} where var\"#s13\"<:Continuous).\n",
      "└ @ MLJBase /home/andrew/.julia/packages/MLJBase/uKzAz/src/machines.jl:77\n"
     ]
    },
    {
     "data": {
      "text/plain": [
       "\u001b[34mMachine{DeterministicTunedModel{Grid,…}} @312\u001b[39m trained 1 time.\n",
       "  args: \n",
       "    1:\t\u001b[34mSource @904\u001b[39m ⏎ `Table{Union{AbstractArray{Continuous,1}, AbstractArray{Count,1}}}`\n",
       "    2:\t\u001b[34mSource @330\u001b[39m ⏎ `AbstractArray{Multiclass{2},1}`\n"
      ]
     },
     "execution_count": 26,
     "metadata": {},
     "output_type": "execute_result"
    }
   ],
   "source": [
    "z = fit!(self_tuning_svm_mach, rows=train)"
   ]
  },
  {
   "cell_type": "code",
   "execution_count": 27,
   "metadata": {},
   "outputs": [
    {
     "data": {
      "image/svg+xml": [
       "<?xml version=\"1.0\" encoding=\"utf-8\"?>\n",
       "<svg xmlns=\"http://www.w3.org/2000/svg\" xmlns:xlink=\"http://www.w3.org/1999/xlink\" width=\"600\" height=\"400\" viewBox=\"0 0 2400 1600\">\n",
       "<defs>\n",
       "  <clipPath id=\"clip850\">\n",
       "    <rect x=\"0\" y=\"0\" width=\"2400\" height=\"1600\"/>\n",
       "  </clipPath>\n",
       "</defs>\n",
       "<path clip-path=\"url(#clip850)\" d=\"\n",
       "M0 1600 L2400 1600 L2400 0 L0 0  Z\n",
       "  \" fill=\"#ffffff\" fill-rule=\"evenodd\" fill-opacity=\"1\"/>\n",
       "<defs>\n",
       "  <clipPath id=\"clip851\">\n",
       "    <rect x=\"480\" y=\"0\" width=\"1681\" height=\"1600\"/>\n",
       "  </clipPath>\n",
       "</defs>\n",
       "<path clip-path=\"url(#clip850)\" d=\"\n",
       "M244.308 1410.9 L2112.76 1410.9 L2112.76 47.2441 L244.308 47.2441  Z\n",
       "  \" fill=\"#ffffff\" fill-rule=\"evenodd\" fill-opacity=\"1\"/>\n",
       "<defs>\n",
       "  <clipPath id=\"clip852\">\n",
       "    <rect x=\"244\" y=\"47\" width=\"1869\" height=\"1365\"/>\n",
       "  </clipPath>\n",
       "</defs>\n",
       "<polyline clip-path=\"url(#clip852)\" style=\"stroke:#000000; stroke-width:2; stroke-opacity:0.1; fill:none\" points=\"\n",
       "  403.313,1410.9 403.313,47.2441 \n",
       "  \"/>\n",
       "<polyline clip-path=\"url(#clip852)\" style=\"stroke:#000000; stroke-width:2; stroke-opacity:0.1; fill:none\" points=\"\n",
       "  755.85,1410.9 755.85,47.2441 \n",
       "  \"/>\n",
       "<polyline clip-path=\"url(#clip852)\" style=\"stroke:#000000; stroke-width:2; stroke-opacity:0.1; fill:none\" points=\"\n",
       "  1108.39,1410.9 1108.39,47.2441 \n",
       "  \"/>\n",
       "<polyline clip-path=\"url(#clip852)\" style=\"stroke:#000000; stroke-width:2; stroke-opacity:0.1; fill:none\" points=\"\n",
       "  1460.92,1410.9 1460.92,47.2441 \n",
       "  \"/>\n",
       "<polyline clip-path=\"url(#clip852)\" style=\"stroke:#000000; stroke-width:2; stroke-opacity:0.1; fill:none\" points=\"\n",
       "  1813.46,1410.9 1813.46,47.2441 \n",
       "  \"/>\n",
       "<polyline clip-path=\"url(#clip852)\" style=\"stroke:#000000; stroke-width:2; stroke-opacity:0.1; fill:none\" points=\"\n",
       "  244.308,1372.3 2112.76,1372.3 \n",
       "  \"/>\n",
       "<polyline clip-path=\"url(#clip852)\" style=\"stroke:#000000; stroke-width:2; stroke-opacity:0.1; fill:none\" points=\"\n",
       "  244.308,1115.01 2112.76,1115.01 \n",
       "  \"/>\n",
       "<polyline clip-path=\"url(#clip852)\" style=\"stroke:#000000; stroke-width:2; stroke-opacity:0.1; fill:none\" points=\"\n",
       "  244.308,857.717 2112.76,857.717 \n",
       "  \"/>\n",
       "<polyline clip-path=\"url(#clip852)\" style=\"stroke:#000000; stroke-width:2; stroke-opacity:0.1; fill:none\" points=\"\n",
       "  244.308,600.424 2112.76,600.424 \n",
       "  \"/>\n",
       "<polyline clip-path=\"url(#clip852)\" style=\"stroke:#000000; stroke-width:2; stroke-opacity:0.1; fill:none\" points=\"\n",
       "  244.308,343.131 2112.76,343.131 \n",
       "  \"/>\n",
       "<polyline clip-path=\"url(#clip852)\" style=\"stroke:#000000; stroke-width:2; stroke-opacity:0.1; fill:none\" points=\"\n",
       "  244.308,85.838 2112.76,85.838 \n",
       "  \"/>\n",
       "<polyline clip-path=\"url(#clip850)\" style=\"stroke:#000000; stroke-width:4; stroke-opacity:1; fill:none\" points=\"\n",
       "  244.308,1410.9 2112.76,1410.9 \n",
       "  \"/>\n",
       "<polyline clip-path=\"url(#clip850)\" style=\"stroke:#000000; stroke-width:4; stroke-opacity:1; fill:none\" points=\"\n",
       "  244.308,1410.9 244.308,47.2441 \n",
       "  \"/>\n",
       "<polyline clip-path=\"url(#clip850)\" style=\"stroke:#000000; stroke-width:4; stroke-opacity:1; fill:none\" points=\"\n",
       "  403.313,1410.9 403.313,1394.53 \n",
       "  \"/>\n",
       "<polyline clip-path=\"url(#clip850)\" style=\"stroke:#000000; stroke-width:4; stroke-opacity:1; fill:none\" points=\"\n",
       "  755.85,1410.9 755.85,1394.53 \n",
       "  \"/>\n",
       "<polyline clip-path=\"url(#clip850)\" style=\"stroke:#000000; stroke-width:4; stroke-opacity:1; fill:none\" points=\"\n",
       "  1108.39,1410.9 1108.39,1394.53 \n",
       "  \"/>\n",
       "<polyline clip-path=\"url(#clip850)\" style=\"stroke:#000000; stroke-width:4; stroke-opacity:1; fill:none\" points=\"\n",
       "  1460.92,1410.9 1460.92,1394.53 \n",
       "  \"/>\n",
       "<polyline clip-path=\"url(#clip850)\" style=\"stroke:#000000; stroke-width:4; stroke-opacity:1; fill:none\" points=\"\n",
       "  1813.46,1410.9 1813.46,1394.53 \n",
       "  \"/>\n",
       "<polyline clip-path=\"url(#clip850)\" style=\"stroke:#000000; stroke-width:4; stroke-opacity:1; fill:none\" points=\"\n",
       "  244.308,1372.3 266.729,1372.3 \n",
       "  \"/>\n",
       "<polyline clip-path=\"url(#clip850)\" style=\"stroke:#000000; stroke-width:4; stroke-opacity:1; fill:none\" points=\"\n",
       "  244.308,1115.01 266.729,1115.01 \n",
       "  \"/>\n",
       "<polyline clip-path=\"url(#clip850)\" style=\"stroke:#000000; stroke-width:4; stroke-opacity:1; fill:none\" points=\"\n",
       "  244.308,857.717 266.729,857.717 \n",
       "  \"/>\n",
       "<polyline clip-path=\"url(#clip850)\" style=\"stroke:#000000; stroke-width:4; stroke-opacity:1; fill:none\" points=\"\n",
       "  244.308,600.424 266.729,600.424 \n",
       "  \"/>\n",
       "<polyline clip-path=\"url(#clip850)\" style=\"stroke:#000000; stroke-width:4; stroke-opacity:1; fill:none\" points=\"\n",
       "  244.308,343.131 266.729,343.131 \n",
       "  \"/>\n",
       "<polyline clip-path=\"url(#clip850)\" style=\"stroke:#000000; stroke-width:4; stroke-opacity:1; fill:none\" points=\"\n",
       "  244.308,85.838 266.729,85.838 \n",
       "  \"/>\n",
       "<path clip-path=\"url(#clip850)\" d=\"M 0 0 M371.273 1481.97 L378.912 1481.97 L378.912 1455.6 L370.602 1457.27 L370.602 1453.01 L378.865 1451.34 L383.541 1451.34 L383.541 1481.97 L391.18 1481.97 L391.18 1485.9 L371.273 1485.9 L371.273 1481.97 Z\" fill=\"#000000\" fill-rule=\"evenodd\" fill-opacity=\"1\" /><path clip-path=\"url(#clip850)\" d=\"M 0 0 M406.25 1454.42 Q402.638 1454.42 400.81 1457.99 Q399.004 1461.53 399.004 1468.66 Q399.004 1475.77 400.81 1479.33 Q402.638 1482.87 406.25 1482.87 Q409.884 1482.87 411.689 1479.33 Q413.518 1475.77 413.518 1468.66 Q413.518 1461.53 411.689 1457.99 Q409.884 1454.42 406.25 1454.42 M406.25 1450.72 Q412.06 1450.72 415.115 1455.33 Q418.194 1459.91 418.194 1468.66 Q418.194 1477.39 415.115 1481.99 Q412.06 1486.58 406.25 1486.58 Q400.439 1486.58 397.361 1481.99 Q394.305 1477.39 394.305 1468.66 Q394.305 1459.91 397.361 1455.33 Q400.439 1450.72 406.25 1450.72 Z\" fill=\"#000000\" fill-rule=\"evenodd\" fill-opacity=\"1\" /><path clip-path=\"url(#clip850)\" d=\"M 0 0 M422.764 1455.3 L436.024 1455.3 L436.024 1458.49 L418.194 1458.49 L418.194 1455.3 Q420.357 1453.06 424.081 1449.3 Q427.823 1445.52 428.783 1444.43 Q430.607 1442.38 431.322 1440.96 Q432.055 1439.54 432.055 1438.16 Q432.055 1435.92 430.475 1434.51 Q428.914 1433.1 426.394 1433.1 Q424.607 1433.1 422.614 1433.72 Q420.639 1434.34 418.382 1435.6 L418.382 1431.77 Q420.677 1430.85 422.67 1430.38 Q424.664 1429.91 426.319 1429.91 Q430.682 1429.91 433.278 1432.09 Q435.873 1434.27 435.873 1437.92 Q435.873 1439.65 435.215 1441.21 Q434.575 1442.75 432.864 1444.86 Q432.394 1445.4 429.874 1448.02 Q427.353 1450.61 422.764 1455.3 Z\" fill=\"#000000\" fill-rule=\"evenodd\" fill-opacity=\"1\" /><path clip-path=\"url(#clip850)\" d=\"M 0 0 M723.481 1481.97 L731.12 1481.97 L731.12 1455.6 L722.81 1457.27 L722.81 1453.01 L731.074 1451.34 L735.75 1451.34 L735.75 1481.97 L743.388 1481.97 L743.388 1485.9 L723.481 1485.9 L723.481 1481.97 Z\" fill=\"#000000\" fill-rule=\"evenodd\" fill-opacity=\"1\" /><path clip-path=\"url(#clip850)\" d=\"M 0 0 M758.458 1454.42 Q754.847 1454.42 753.018 1457.99 Q751.212 1461.53 751.212 1468.66 Q751.212 1475.77 753.018 1479.33 Q754.847 1482.87 758.458 1482.87 Q762.092 1482.87 763.898 1479.33 Q765.726 1475.77 765.726 1468.66 Q765.726 1461.53 763.898 1457.99 Q762.092 1454.42 758.458 1454.42 M758.458 1450.72 Q764.268 1450.72 767.323 1455.33 Q770.402 1459.91 770.402 1468.66 Q770.402 1477.39 767.323 1481.99 Q764.268 1486.58 758.458 1486.58 Q752.648 1486.58 749.569 1481.99 Q746.513 1477.39 746.513 1468.66 Q746.513 1459.91 749.569 1455.33 Q752.648 1450.72 758.458 1450.72 Z\" fill=\"#000000\" fill-rule=\"evenodd\" fill-opacity=\"1\" /><path clip-path=\"url(#clip850)\" d=\"M 0 0 M783.097 1443.35 Q785.825 1443.94 787.348 1445.78 Q788.89 1447.62 788.89 1450.33 Q788.89 1454.49 786.031 1456.76 Q783.173 1459.04 777.906 1459.04 Q776.139 1459.04 774.258 1458.68 Q772.396 1458.34 770.402 1457.65 L770.402 1453.98 Q771.982 1454.9 773.863 1455.37 Q775.744 1455.84 777.794 1455.84 Q781.367 1455.84 783.229 1454.43 Q785.11 1453.02 785.11 1450.33 Q785.11 1447.85 783.361 1446.46 Q781.63 1445.05 778.527 1445.05 L775.255 1445.05 L775.255 1441.92 L778.678 1441.92 Q781.48 1441.92 782.966 1440.81 Q784.452 1439.69 784.452 1437.58 Q784.452 1435.42 782.909 1434.27 Q781.386 1433.1 778.527 1433.1 Q776.966 1433.1 775.179 1433.44 Q773.393 1433.78 771.249 1434.49 L771.249 1431.11 Q773.411 1430.51 775.292 1430.21 Q777.192 1429.91 778.866 1429.91 Q783.191 1429.91 785.712 1431.88 Q788.232 1433.84 788.232 1437.18 Q788.232 1439.52 786.897 1441.13 Q785.561 1442.73 783.097 1443.35 Z\" fill=\"#000000\" fill-rule=\"evenodd\" fill-opacity=\"1\" /><path clip-path=\"url(#clip850)\" d=\"M 0 0 M1075.03 1481.97 L1082.67 1481.97 L1082.67 1455.6 L1074.36 1457.27 L1074.36 1453.01 L1082.62 1451.34 L1087.3 1451.34 L1087.3 1481.97 L1094.94 1481.97 L1094.94 1485.9 L1075.03 1485.9 L1075.03 1481.97 Z\" fill=\"#000000\" fill-rule=\"evenodd\" fill-opacity=\"1\" /><path clip-path=\"url(#clip850)\" d=\"M 0 0 M1110.01 1454.42 Q1106.4 1454.42 1104.57 1457.99 Q1102.76 1461.53 1102.76 1468.66 Q1102.76 1475.77 1104.57 1479.33 Q1106.4 1482.87 1110.01 1482.87 Q1113.64 1482.87 1115.45 1479.33 Q1117.28 1475.77 1117.28 1468.66 Q1117.28 1461.53 1115.45 1457.99 Q1113.64 1454.42 1110.01 1454.42 M1110.01 1450.72 Q1115.82 1450.72 1118.87 1455.33 Q1121.95 1459.91 1121.95 1468.66 Q1121.95 1477.39 1118.87 1481.99 Q1115.82 1486.58 1110.01 1486.58 Q1104.2 1486.58 1101.12 1481.99 Q1098.06 1477.39 1098.06 1468.66 Q1098.06 1459.91 1101.12 1455.33 Q1104.2 1450.72 1110.01 1450.72 Z\" fill=\"#000000\" fill-rule=\"evenodd\" fill-opacity=\"1\" /><path clip-path=\"url(#clip850)\" d=\"M 0 0 M1134.63 1433.72 L1125.04 1448.71 L1134.63 1448.71 L1134.63 1433.72 M1133.63 1430.41 L1138.41 1430.41 L1138.41 1448.71 L1142.42 1448.71 L1142.42 1451.87 L1138.41 1451.87 L1138.41 1458.49 L1134.63 1458.49 L1134.63 1451.87 L1121.95 1451.87 L1121.95 1448.21 L1133.63 1430.41 Z\" fill=\"#000000\" fill-rule=\"evenodd\" fill-opacity=\"1\" /><path clip-path=\"url(#clip850)\" d=\"M 0 0 M1428.72 1481.97 L1436.35 1481.97 L1436.35 1455.6 L1428.04 1457.27 L1428.04 1453.01 L1436.31 1451.34 L1440.98 1451.34 L1440.98 1481.97 L1448.62 1481.97 L1448.62 1485.9 L1428.72 1485.9 L1428.72 1481.97 Z\" fill=\"#000000\" fill-rule=\"evenodd\" fill-opacity=\"1\" /><path clip-path=\"url(#clip850)\" d=\"M 0 0 M1463.69 1454.42 Q1460.08 1454.42 1458.25 1457.99 Q1456.45 1461.53 1456.45 1468.66 Q1456.45 1475.77 1458.25 1479.33 Q1460.08 1482.87 1463.69 1482.87 Q1467.33 1482.87 1469.13 1479.33 Q1470.96 1475.77 1470.96 1468.66 Q1470.96 1461.53 1469.13 1457.99 Q1467.33 1454.42 1463.69 1454.42 M1463.69 1450.72 Q1469.5 1450.72 1472.56 1455.33 Q1475.64 1459.91 1475.64 1468.66 Q1475.64 1477.39 1472.56 1481.99 Q1469.5 1486.58 1463.69 1486.58 Q1457.88 1486.58 1454.8 1481.99 Q1451.75 1477.39 1451.75 1468.66 Q1451.75 1459.91 1454.8 1455.33 Q1457.88 1450.72 1463.69 1450.72 Z\" fill=\"#000000\" fill-rule=\"evenodd\" fill-opacity=\"1\" /><path clip-path=\"url(#clip850)\" d=\"M 0 0 M1476.82 1430.41 L1491.74 1430.41 L1491.74 1433.61 L1480.3 1433.61 L1480.3 1440.49 Q1481.13 1440.21 1481.96 1440.08 Q1482.78 1439.93 1483.61 1439.93 Q1488.31 1439.93 1491.06 1442.51 Q1493.81 1445.08 1493.81 1449.48 Q1493.81 1454.02 1490.98 1456.54 Q1488.16 1459.04 1483.03 1459.04 Q1481.26 1459.04 1479.42 1458.74 Q1477.59 1458.44 1475.64 1457.84 L1475.64 1454.02 Q1477.33 1454.94 1479.14 1455.39 Q1480.94 1455.84 1482.95 1455.84 Q1486.21 1455.84 1488.11 1454.13 Q1490.01 1452.42 1490.01 1449.48 Q1490.01 1446.55 1488.11 1444.84 Q1486.21 1443.13 1482.95 1443.13 Q1481.43 1443.13 1479.91 1443.47 Q1478.4 1443.8 1476.82 1444.52 L1476.82 1430.41 Z\" fill=\"#000000\" fill-rule=\"evenodd\" fill-opacity=\"1\" /><path clip-path=\"url(#clip850)\" d=\"M 0 0 M1780.64 1481.97 L1788.28 1481.97 L1788.28 1455.6 L1779.97 1457.27 L1779.97 1453.01 L1788.23 1451.34 L1792.91 1451.34 L1792.91 1481.97 L1800.55 1481.97 L1800.55 1485.9 L1780.64 1485.9 L1780.64 1481.97 Z\" fill=\"#000000\" fill-rule=\"evenodd\" fill-opacity=\"1\" /><path clip-path=\"url(#clip850)\" d=\"M 0 0 M1815.62 1454.42 Q1812.01 1454.42 1810.18 1457.99 Q1808.37 1461.53 1808.37 1468.66 Q1808.37 1475.77 1810.18 1479.33 Q1812.01 1482.87 1815.62 1482.87 Q1819.25 1482.87 1821.06 1479.33 Q1822.89 1475.77 1822.89 1468.66 Q1822.89 1461.53 1821.06 1457.99 Q1819.25 1454.42 1815.62 1454.42 M1815.62 1450.72 Q1821.43 1450.72 1824.48 1455.33 Q1827.56 1459.91 1827.56 1468.66 Q1827.56 1477.39 1824.48 1481.99 Q1821.43 1486.58 1815.62 1486.58 Q1809.81 1486.58 1806.73 1481.99 Q1803.67 1477.39 1803.67 1468.66 Q1803.67 1459.91 1806.73 1455.33 Q1809.81 1450.72 1815.62 1450.72 Z\" fill=\"#000000\" fill-rule=\"evenodd\" fill-opacity=\"1\" /><path clip-path=\"url(#clip850)\" d=\"M 0 0 M1837.59 1442.94 Q1835.03 1442.94 1833.53 1444.69 Q1832.04 1446.44 1832.04 1449.48 Q1832.04 1452.51 1833.53 1454.28 Q1835.03 1456.03 1837.59 1456.03 Q1840.15 1456.03 1841.63 1454.28 Q1843.14 1452.51 1843.14 1449.48 Q1843.14 1446.44 1841.63 1444.69 Q1840.15 1442.94 1837.59 1442.94 M1845.13 1431.03 L1845.13 1434.49 Q1843.7 1433.82 1842.23 1433.46 Q1840.78 1433.1 1839.36 1433.1 Q1835.59 1433.1 1833.6 1435.64 Q1831.63 1438.18 1831.34 1443.32 Q1832.45 1441.68 1834.13 1440.81 Q1835.8 1439.93 1837.81 1439.93 Q1842.04 1439.93 1844.49 1442.51 Q1846.95 1445.06 1846.95 1449.48 Q1846.95 1453.81 1844.4 1456.42 Q1841.84 1459.04 1837.59 1459.04 Q1832.72 1459.04 1830.14 1455.31 Q1827.56 1451.57 1827.56 1444.48 Q1827.56 1437.82 1830.72 1433.87 Q1833.88 1429.91 1839.21 1429.91 Q1840.63 1429.91 1842.08 1430.19 Q1843.55 1430.47 1845.13 1431.03 Z\" fill=\"#000000\" fill-rule=\"evenodd\" fill-opacity=\"1\" /><path clip-path=\"url(#clip850)\" d=\"M 0 0 M128.06 1392.1 L135.699 1392.1 L135.699 1365.73 L127.389 1367.4 L127.389 1363.14 L135.652 1361.47 L140.328 1361.47 L140.328 1392.1 L147.967 1392.1 L147.967 1396.03 L128.06 1396.03 L128.06 1392.1 Z\" fill=\"#000000\" fill-rule=\"evenodd\" fill-opacity=\"1\" /><path clip-path=\"url(#clip850)\" d=\"M 0 0 M163.037 1364.55 Q159.425 1364.55 157.597 1368.11 Q155.791 1371.66 155.791 1378.79 Q155.791 1385.89 157.597 1389.46 Q159.425 1393 163.037 1393 Q166.671 1393 168.476 1389.46 Q170.305 1385.89 170.305 1378.79 Q170.305 1371.66 168.476 1368.11 Q166.671 1364.55 163.037 1364.55 M163.037 1360.85 Q168.847 1360.85 171.902 1365.45 Q174.981 1370.04 174.981 1378.79 Q174.981 1387.51 171.902 1392.12 Q168.847 1396.7 163.037 1396.7 Q157.226 1396.7 154.148 1392.12 Q151.092 1387.51 151.092 1378.79 Q151.092 1370.04 154.148 1365.45 Q157.226 1360.85 163.037 1360.85 Z\" fill=\"#000000\" fill-rule=\"evenodd\" fill-opacity=\"1\" /><path clip-path=\"url(#clip850)\" d=\"M 0 0 M174.981 1354.95 L199.093 1354.95 L199.093 1358.14 L174.981 1358.14 L174.981 1354.95 Z\" fill=\"#000000\" fill-rule=\"evenodd\" fill-opacity=\"1\" /><path clip-path=\"url(#clip850)\" d=\"M 0 0 M202.252 1340.54 L220.308 1340.54 L220.308 1342.16 L210.114 1368.62 L206.145 1368.62 L215.737 1343.74 L202.252 1343.74 L202.252 1340.54 Z\" fill=\"#000000\" fill-rule=\"evenodd\" fill-opacity=\"1\" /><path clip-path=\"url(#clip850)\" d=\"M 0 0 M127.195 1134.8 L134.834 1134.8 L134.834 1108.44 L126.523 1110.1 L126.523 1105.84 L134.787 1104.18 L139.463 1104.18 L139.463 1134.8 L147.102 1134.8 L147.102 1138.74 L127.195 1138.74 L127.195 1134.8 Z\" fill=\"#000000\" fill-rule=\"evenodd\" fill-opacity=\"1\" /><path clip-path=\"url(#clip850)\" d=\"M 0 0 M162.171 1107.26 Q158.56 1107.26 156.732 1110.82 Q154.926 1114.36 154.926 1121.49 Q154.926 1128.6 156.732 1132.16 Q158.56 1135.7 162.171 1135.7 Q165.806 1135.7 167.611 1132.16 Q169.44 1128.6 169.44 1121.49 Q169.44 1114.36 167.611 1110.82 Q165.806 1107.26 162.171 1107.26 M162.171 1103.55 Q167.982 1103.55 171.037 1108.16 Q174.116 1112.74 174.116 1121.49 Q174.116 1130.22 171.037 1134.83 Q167.982 1139.41 162.171 1139.41 Q156.361 1139.41 153.283 1134.83 Q150.227 1130.22 150.227 1121.49 Q150.227 1112.74 153.283 1108.16 Q156.361 1103.55 162.171 1103.55 Z\" fill=\"#000000\" fill-rule=\"evenodd\" fill-opacity=\"1\" /><path clip-path=\"url(#clip850)\" d=\"M 0 0 M174.116 1097.65 L198.227 1097.65 L198.227 1100.85 L174.116 1100.85 L174.116 1097.65 Z\" fill=\"#000000\" fill-rule=\"evenodd\" fill-opacity=\"1\" /><path clip-path=\"url(#clip850)\" d=\"M 0 0 M210.941 1095.77 Q208.384 1095.77 206.879 1097.52 Q205.393 1099.27 205.393 1102.32 Q205.393 1105.35 206.879 1107.11 Q208.384 1108.86 210.941 1108.86 Q213.499 1108.86 214.985 1107.11 Q216.49 1105.35 216.49 1102.32 Q216.49 1099.27 214.985 1097.52 Q213.499 1095.77 210.941 1095.77 M218.483 1083.87 L218.483 1087.33 Q217.054 1086.65 215.587 1086.29 Q214.139 1085.94 212.709 1085.94 Q208.948 1085.94 206.954 1088.48 Q204.979 1091.01 204.697 1096.15 Q205.807 1094.51 207.481 1093.65 Q209.155 1092.76 211.167 1092.76 Q215.399 1092.76 217.844 1095.34 Q220.308 1097.9 220.308 1102.32 Q220.308 1106.64 217.75 1109.26 Q215.192 1111.87 210.941 1111.87 Q206.07 1111.87 203.494 1108.15 Q200.917 1104.41 200.917 1097.32 Q200.917 1090.66 204.077 1086.71 Q207.236 1082.74 212.559 1082.74 Q213.988 1082.74 215.436 1083.02 Q216.903 1083.3 218.483 1083.87 Z\" fill=\"#000000\" fill-rule=\"evenodd\" fill-opacity=\"1\" /><path clip-path=\"url(#clip850)\" d=\"M 0 0 M128.135 877.509 L135.774 877.509 L135.774 851.144 L127.464 852.81 L127.464 848.551 L135.728 846.884 L140.404 846.884 L140.404 877.509 L148.042 877.509 L148.042 881.444 L128.135 881.444 L128.135 877.509 Z\" fill=\"#000000\" fill-rule=\"evenodd\" fill-opacity=\"1\" /><path clip-path=\"url(#clip850)\" d=\"M 0 0 M163.112 849.963 Q159.501 849.963 157.672 853.528 Q155.866 857.07 155.866 864.199 Q155.866 871.306 157.672 874.87 Q159.501 878.412 163.112 878.412 Q166.746 878.412 168.552 874.87 Q170.38 871.306 170.38 864.199 Q170.38 857.07 168.552 853.528 Q166.746 849.963 163.112 849.963 M163.112 846.259 Q168.922 846.259 171.978 850.866 Q175.056 855.449 175.056 864.199 Q175.056 872.926 171.978 877.532 Q168.922 882.116 163.112 882.116 Q157.302 882.116 154.223 877.532 Q151.167 872.926 151.167 864.199 Q151.167 855.449 154.223 850.866 Q157.302 846.259 163.112 846.259 Z\" fill=\"#000000\" fill-rule=\"evenodd\" fill-opacity=\"1\" /><path clip-path=\"url(#clip850)\" d=\"M 0 0 M175.056 840.361 L199.168 840.361 L199.168 843.558 L175.056 843.558 L175.056 840.361 Z\" fill=\"#000000\" fill-rule=\"evenodd\" fill-opacity=\"1\" /><path clip-path=\"url(#clip850)\" d=\"M 0 0 M203.324 825.954 L218.239 825.954 L218.239 829.151 L206.804 829.151 L206.804 836.035 Q207.631 835.753 208.459 835.621 Q209.286 835.471 210.114 835.471 Q214.816 835.471 217.562 838.047 Q220.308 840.624 220.308 845.025 Q220.308 849.558 217.487 852.078 Q214.665 854.579 209.531 854.579 Q207.763 854.579 205.92 854.279 Q204.095 853.978 202.139 853.376 L202.139 849.558 Q203.832 850.479 205.638 850.931 Q207.443 851.382 209.456 851.382 Q212.709 851.382 214.609 849.671 Q216.509 847.959 216.509 845.025 Q216.509 842.091 214.609 840.38 Q212.709 838.668 209.456 838.668 Q207.932 838.668 206.409 839.007 Q204.904 839.345 203.324 840.06 L203.324 825.954 Z\" fill=\"#000000\" fill-rule=\"evenodd\" fill-opacity=\"1\" /><path clip-path=\"url(#clip850)\" d=\"M 0 0 M126.931 620.216 L134.57 620.216 L134.57 593.851 L126.26 595.517 L126.26 591.258 L134.524 589.592 L139.2 589.592 L139.2 620.216 L146.839 620.216 L146.839 624.152 L126.931 624.152 L126.931 620.216 Z\" fill=\"#000000\" fill-rule=\"evenodd\" fill-opacity=\"1\" /><path clip-path=\"url(#clip850)\" d=\"M 0 0 M161.908 592.67 Q158.297 592.67 156.468 596.235 Q154.663 599.777 154.663 606.906 Q154.663 614.013 156.468 617.577 Q158.297 621.119 161.908 621.119 Q165.542 621.119 167.348 617.577 Q169.177 614.013 169.177 606.906 Q169.177 599.777 167.348 596.235 Q165.542 592.67 161.908 592.67 M161.908 588.967 Q167.718 588.967 170.774 593.573 Q173.852 598.156 173.852 606.906 Q173.852 615.633 170.774 620.239 Q167.718 624.823 161.908 624.823 Q156.098 624.823 153.019 620.239 Q149.964 615.633 149.964 606.906 Q149.964 598.156 153.019 593.573 Q156.098 588.967 161.908 588.967 Z\" fill=\"#000000\" fill-rule=\"evenodd\" fill-opacity=\"1\" /><path clip-path=\"url(#clip850)\" d=\"M 0 0 M173.852 583.068 L197.964 583.068 L197.964 586.265 L173.852 586.265 L173.852 583.068 Z\" fill=\"#000000\" fill-rule=\"evenodd\" fill-opacity=\"1\" /><path clip-path=\"url(#clip850)\" d=\"M 0 0 M212.521 571.971 L202.929 586.961 L212.521 586.961 L212.521 571.971 M211.524 568.661 L216.302 568.661 L216.302 586.961 L220.308 586.961 L220.308 590.121 L216.302 590.121 L216.302 596.741 L212.521 596.741 L212.521 590.121 L199.845 590.121 L199.845 586.453 L211.524 568.661 Z\" fill=\"#000000\" fill-rule=\"evenodd\" fill-opacity=\"1\" /><path clip-path=\"url(#clip850)\" d=\"M 0 0 M127.853 362.923 L135.492 362.923 L135.492 336.558 L127.182 338.224 L127.182 333.965 L135.446 332.299 L140.121 332.299 L140.121 362.923 L147.76 362.923 L147.76 366.859 L127.853 366.859 L127.853 362.923 Z\" fill=\"#000000\" fill-rule=\"evenodd\" fill-opacity=\"1\" /><path clip-path=\"url(#clip850)\" d=\"M 0 0 M162.83 335.377 Q159.219 335.377 157.39 338.942 Q155.584 342.484 155.584 349.613 Q155.584 356.72 157.39 360.285 Q159.219 363.826 162.83 363.826 Q166.464 363.826 168.269 360.285 Q170.098 356.72 170.098 349.613 Q170.098 342.484 168.269 338.942 Q166.464 335.377 162.83 335.377 M162.83 331.674 Q168.64 331.674 171.695 336.28 Q174.774 340.863 174.774 349.613 Q174.774 358.34 171.695 362.947 Q168.64 367.53 162.83 367.53 Q157.02 367.53 153.941 362.947 Q150.885 358.34 150.885 349.613 Q150.885 340.863 153.941 336.28 Q157.02 331.674 162.83 331.674 Z\" fill=\"#000000\" fill-rule=\"evenodd\" fill-opacity=\"1\" /><path clip-path=\"url(#clip850)\" d=\"M 0 0 M174.774 325.775 L198.886 325.775 L198.886 328.972 L174.774 328.972 L174.774 325.775 Z\" fill=\"#000000\" fill-rule=\"evenodd\" fill-opacity=\"1\" /><path clip-path=\"url(#clip850)\" d=\"M 0 0 M214.515 324.308 Q217.242 324.891 218.765 326.734 Q220.308 328.577 220.308 331.286 Q220.308 335.442 217.449 337.718 Q214.59 339.994 209.324 339.994 Q207.556 339.994 205.675 339.636 Q203.813 339.298 201.82 338.602 L201.82 334.934 Q203.4 335.856 205.28 336.326 Q207.161 336.796 209.211 336.796 Q212.785 336.796 214.647 335.386 Q216.527 333.975 216.527 331.286 Q216.527 328.803 214.778 327.411 Q213.048 326.001 209.945 326.001 L206.672 326.001 L206.672 322.879 L210.095 322.879 Q212.897 322.879 214.383 321.769 Q215.869 320.64 215.869 318.534 Q215.869 316.371 214.327 315.224 Q212.803 314.058 209.945 314.058 Q208.384 314.058 206.597 314.396 Q204.81 314.735 202.666 315.449 L202.666 312.064 Q204.829 311.462 206.71 311.161 Q208.609 310.86 210.283 310.86 Q214.609 310.86 217.129 312.835 Q219.649 314.791 219.649 318.139 Q219.649 320.471 218.314 322.089 Q216.979 323.687 214.515 324.308 Z\" fill=\"#000000\" fill-rule=\"evenodd\" fill-opacity=\"1\" /><path clip-path=\"url(#clip850)\" d=\"M 0 0 M128.624 105.63 L136.263 105.63 L136.263 79.2649 L127.953 80.9315 L127.953 76.6723 L136.217 75.0056 L140.893 75.0056 L140.893 105.63 L148.531 105.63 L148.531 109.566 L128.624 109.566 L128.624 105.63 Z\" fill=\"#000000\" fill-rule=\"evenodd\" fill-opacity=\"1\" /><path clip-path=\"url(#clip850)\" d=\"M 0 0 M163.601 78.0843 Q159.99 78.0843 158.161 81.6491 Q156.355 85.1908 156.355 92.3204 Q156.355 99.4268 158.161 102.992 Q159.99 106.533 163.601 106.533 Q167.235 106.533 169.041 102.992 Q170.869 99.4268 170.869 92.3204 Q170.869 85.1908 169.041 81.6491 Q167.235 78.0843 163.601 78.0843 M163.601 74.3806 Q169.411 74.3806 172.467 78.9871 Q175.545 83.5704 175.545 92.3204 Q175.545 101.047 172.467 105.654 Q169.411 110.237 163.601 110.237 Q157.791 110.237 154.712 105.654 Q151.656 101.047 151.656 92.3204 Q151.656 83.5704 154.712 78.9871 Q157.791 74.3806 163.601 74.3806 Z\" fill=\"#000000\" fill-rule=\"evenodd\" fill-opacity=\"1\" /><path clip-path=\"url(#clip850)\" d=\"M 0 0 M175.545 68.482 L199.657 68.482 L199.657 71.6793 L175.545 71.6793 L175.545 68.482 Z\" fill=\"#000000\" fill-rule=\"evenodd\" fill-opacity=\"1\" /><path clip-path=\"url(#clip850)\" d=\"M 0 0 M207.048 78.9579 L220.308 78.9579 L220.308 82.1552 L202.478 82.1552 L202.478 78.9579 Q204.641 76.7198 208.365 72.9582 Q212.107 69.1779 213.067 68.087 Q214.891 66.037 215.606 64.6264 Q216.339 63.197 216.339 61.824 Q216.339 59.5859 214.759 58.1753 Q213.198 56.7647 210.678 56.7647 Q208.891 56.7647 206.898 57.3854 Q204.923 58.0061 202.666 59.2662 L202.666 55.4294 Q204.961 54.5078 206.954 54.0376 Q208.948 53.5674 210.603 53.5674 Q214.966 53.5674 217.562 55.7491 Q220.157 57.9308 220.157 61.5795 Q220.157 63.3098 219.499 64.8709 Q218.859 66.4131 217.148 68.5196 Q216.678 69.065 214.158 71.6793 Q211.637 74.2748 207.048 78.9579 Z\" fill=\"#000000\" fill-rule=\"evenodd\" fill-opacity=\"1\" /><path clip-path=\"url(#clip850)\" d=\"M 0 0 M1197.69 1518.33 L1197.69 1525.11 Q1194.45 1522.08 1190.75 1520.59 Q1187.09 1519.09 1182.96 1519.09 Q1174.81 1519.09 1170.48 1524.09 Q1166.15 1529.05 1166.15 1538.47 Q1166.15 1547.86 1170.48 1552.86 Q1174.81 1557.82 1182.96 1557.82 Q1187.09 1557.82 1190.75 1556.33 Q1194.45 1554.83 1197.69 1551.81 L1197.69 1558.53 Q1194.32 1560.82 1190.53 1561.96 Q1186.78 1563.11 1182.57 1563.11 Q1171.78 1563.11 1165.58 1556.52 Q1159.37 1549.9 1159.37 1538.47 Q1159.37 1527.01 1165.58 1520.43 Q1171.78 1513.81 1182.57 1513.81 Q1186.84 1513.81 1190.59 1514.95 Q1194.38 1516.07 1197.69 1518.33 Z\" fill=\"#000000\" fill-rule=\"evenodd\" fill-opacity=\"1\" /><path clip-path=\"url(#clip850)\" d=\"M 0 0 M69.7664 810.981 Q63.4007 810.981 59.8996 813.623 Q56.3984 816.233 56.3984 820.975 Q56.3984 825.686 59.8996 828.328 Q63.4007 830.938 69.7664 830.938 Q76.1003 830.938 79.6014 828.328 Q83.1026 825.686 83.1026 820.975 Q83.1026 816.233 79.6014 813.623 Q76.1003 810.981 69.7664 810.981 M83.58 805.125 Q92.683 805.125 97.1071 809.167 Q101.563 813.209 101.563 821.548 Q101.563 824.636 101.086 827.373 Q100.64 830.11 99.6852 832.688 L93.9879 832.688 Q95.3884 830.11 96.0568 827.596 Q96.7252 825.081 96.7252 822.471 Q96.7252 816.71 93.7015 813.846 Q90.7096 810.981 84.6303 810.981 L81.7339 810.981 Q84.885 812.795 86.4446 815.628 Q88.0042 818.461 88.0042 822.408 Q88.0042 828.964 83.0071 832.975 Q78.01 836.985 69.7664 836.985 Q61.491 836.985 56.4939 832.975 Q51.4968 828.964 51.4968 822.408 Q51.4968 818.461 53.0564 815.628 Q54.616 812.795 57.7671 810.981 L52.3562 810.981 L52.3562 805.125 L83.58 805.125 Z\" fill=\"#000000\" fill-rule=\"evenodd\" fill-opacity=\"1\" /><path clip-path=\"url(#clip850)\" d=\"M 0 0 M70.0847 782.781 Q70.0847 789.879 71.7079 792.616 Q73.3312 795.353 77.2461 795.353 Q80.3653 795.353 82.2114 793.316 Q84.0256 791.247 84.0256 787.714 Q84.0256 782.845 80.5881 779.916 Q77.1188 776.956 71.3897 776.956 L70.0847 776.956 L70.0847 782.781 M67.6657 771.1 L88.0042 771.1 L88.0042 776.956 L82.5933 776.956 Q85.8398 778.962 87.3994 781.953 Q88.9272 784.945 88.9272 789.274 Q88.9272 794.749 85.8716 797.995 Q82.7843 801.21 77.6281 801.21 Q71.6125 801.21 68.5569 797.199 Q65.5014 793.157 65.5014 785.168 L65.5014 776.956 L64.9285 776.956 Q60.8862 776.956 58.6901 779.63 Q56.4621 782.272 56.4621 787.078 Q56.4621 790.133 57.1941 793.03 Q57.9262 795.926 59.3903 798.6 L53.9795 798.6 Q52.7381 795.385 52.1334 792.361 Q51.4968 789.338 51.4968 786.473 Q51.4968 778.739 55.5072 774.919 Q59.5176 771.1 67.6657 771.1 Z\" fill=\"#000000\" fill-rule=\"evenodd\" fill-opacity=\"1\" /><path clip-path=\"url(#clip850)\" d=\"M 0 0 M59.1993 737.203 Q55.2526 735.006 53.3747 731.951 Q51.4968 728.895 51.4968 724.758 Q51.4968 719.188 55.4117 716.164 Q59.2948 713.14 66.4881 713.14 L88.0042 713.14 L88.0042 719.028 L66.679 719.028 Q61.5546 719.028 59.072 720.843 Q56.5894 722.657 56.5894 726.381 Q56.5894 730.932 59.6131 733.574 Q62.6368 736.216 67.8567 736.216 L88.0042 736.216 L88.0042 742.104 L66.679 742.104 Q61.5228 742.104 59.072 743.918 Q56.5894 745.733 56.5894 749.52 Q56.5894 754.008 59.6449 756.65 Q62.6686 759.292 67.8567 759.292 L88.0042 759.292 L88.0042 765.18 L52.3562 765.18 L52.3562 759.292 L57.8944 759.292 Q54.616 757.286 53.0564 754.485 Q51.4968 751.685 51.4968 747.833 Q51.4968 743.95 53.4702 741.245 Q55.4436 738.508 59.1993 737.203 Z\" fill=\"#000000\" fill-rule=\"evenodd\" fill-opacity=\"1\" /><path clip-path=\"url(#clip850)\" d=\"M 0 0 M59.1993 679.243 Q55.2526 677.047 53.3747 673.991 Q51.4968 670.936 51.4968 666.798 Q51.4968 661.228 55.4117 658.204 Q59.2948 655.18 66.4881 655.18 L88.0042 655.18 L88.0042 661.069 L66.679 661.069 Q61.5546 661.069 59.072 662.883 Q56.5894 664.697 56.5894 668.421 Q56.5894 672.973 59.6131 675.614 Q62.6368 678.256 67.8567 678.256 L88.0042 678.256 L88.0042 684.144 L66.679 684.144 Q61.5228 684.144 59.072 685.959 Q56.5894 687.773 56.5894 691.56 Q56.5894 696.048 59.6449 698.69 Q62.6686 701.332 67.8567 701.332 L88.0042 701.332 L88.0042 707.22 L52.3562 707.22 L52.3562 701.332 L57.8944 701.332 Q54.616 699.327 53.0564 696.526 Q51.4968 693.725 51.4968 689.874 Q51.4968 685.99 53.4702 683.285 Q55.4436 680.548 59.1993 679.243 Z\" fill=\"#000000\" fill-rule=\"evenodd\" fill-opacity=\"1\" /><path clip-path=\"url(#clip850)\" d=\"M 0 0 M70.0847 632.837 Q70.0847 639.935 71.7079 642.672 Q73.3312 645.409 77.2461 645.409 Q80.3653 645.409 82.2114 643.372 Q84.0256 641.303 84.0256 637.77 Q84.0256 632.9 80.5881 629.972 Q77.1188 627.012 71.3897 627.012 L70.0847 627.012 L70.0847 632.837 M67.6657 621.156 L88.0042 621.156 L88.0042 627.012 L82.5933 627.012 Q85.8398 629.017 87.3994 632.009 Q88.9272 635.001 88.9272 639.33 Q88.9272 644.804 85.8716 648.051 Q82.7843 651.266 77.6281 651.266 Q71.6125 651.266 68.5569 647.255 Q65.5014 643.213 65.5014 635.224 L65.5014 627.012 L64.9285 627.012 Q60.8862 627.012 58.6901 629.686 Q56.4621 632.328 56.4621 637.134 Q56.4621 640.189 57.1941 643.086 Q57.9262 645.982 59.3903 648.656 L53.9795 648.656 Q52.7381 645.441 52.1334 642.417 Q51.4968 639.393 51.4968 636.529 Q51.4968 628.795 55.5072 624.975 Q59.5176 621.156 67.6657 621.156 Z\" fill=\"#000000\" fill-rule=\"evenodd\" fill-opacity=\"1\" /><circle clip-path=\"url(#clip852)\" cx=\"1276.46\" cy=\"85.838\" r=\"56\" fill=\"#f3df53\" fill-rule=\"evenodd\" fill-opacity=\"1\" stroke=\"#000000\" stroke-opacity=\"1\" stroke-width=\"3.2\"/>\n",
       "<circle clip-path=\"url(#clip852)\" cx=\"1276.46\" cy=\"228.779\" r=\"56\" fill=\"#f5d949\" fill-rule=\"evenodd\" fill-opacity=\"1\" stroke=\"#000000\" stroke-opacity=\"1\" stroke-width=\"3.2\"/>\n",
       "<circle clip-path=\"url(#clip852)\" cx=\"493.042\" cy=\"514.66\" r=\"58\" fill=\"#f1eb6b\" fill-rule=\"evenodd\" fill-opacity=\"1\" stroke=\"#000000\" stroke-opacity=\"1\" stroke-width=\"3.2\"/>\n",
       "<circle clip-path=\"url(#clip852)\" cx=\"1080.6\" cy=\"228.779\" r=\"55\" fill=\"#f6d33f\" fill-rule=\"evenodd\" fill-opacity=\"1\" stroke=\"#000000\" stroke-opacity=\"1\" stroke-width=\"3.2\"/>\n",
       "<circle clip-path=\"url(#clip852)\" cx=\"1472.31\" cy=\"1229.36\" r=\"59\" fill=\"#f1f27f\" fill-rule=\"evenodd\" fill-opacity=\"1\" stroke=\"#000000\" stroke-opacity=\"1\" stroke-width=\"3.2\"/>\n",
       "<circle clip-path=\"url(#clip852)\" cx=\"2059.88\" cy=\"800.541\" r=\"56\" fill=\"#f4dc4e\" fill-rule=\"evenodd\" fill-opacity=\"1\" stroke=\"#000000\" stroke-opacity=\"1\" stroke-width=\"3.2\"/>\n",
       "<circle clip-path=\"url(#clip852)\" cx=\"1864.02\" cy=\"85.838\" r=\"56\" fill=\"#f3df53\" fill-rule=\"evenodd\" fill-opacity=\"1\" stroke=\"#000000\" stroke-opacity=\"1\" stroke-width=\"3.2\"/>\n",
       "<circle clip-path=\"url(#clip852)\" cx=\"884.751\" cy=\"657.6\" r=\"57\" fill=\"#f1e865\" fill-rule=\"evenodd\" fill-opacity=\"1\" stroke=\"#000000\" stroke-opacity=\"1\" stroke-width=\"3.2\"/>\n",
       "<circle clip-path=\"url(#clip852)\" cx=\"493.042\" cy=\"228.779\" r=\"58\" fill=\"#f1eb6b\" fill-rule=\"evenodd\" fill-opacity=\"1\" stroke=\"#000000\" stroke-opacity=\"1\" stroke-width=\"3.2\"/>\n",
       "<circle clip-path=\"url(#clip852)\" cx=\"884.751\" cy=\"1086.42\" r=\"49\" fill=\"#fb9b06\" fill-rule=\"evenodd\" fill-opacity=\"1\" stroke=\"#000000\" stroke-opacity=\"1\" stroke-width=\"3.2\"/>\n",
       "<circle clip-path=\"url(#clip852)\" cx=\"1472.31\" cy=\"514.66\" r=\"56\" fill=\"#f3df53\" fill-rule=\"evenodd\" fill-opacity=\"1\" stroke=\"#000000\" stroke-opacity=\"1\" stroke-width=\"3.2\"/>\n",
       "<circle clip-path=\"url(#clip852)\" cx=\"688.897\" cy=\"1229.36\" r=\"7\" fill=\"#080620\" fill-rule=\"evenodd\" fill-opacity=\"1\" stroke=\"#000000\" stroke-opacity=\"1\" stroke-width=\"3.2\"/>\n",
       "<circle clip-path=\"url(#clip852)\" cx=\"688.897\" cy=\"800.541\" r=\"55\" fill=\"#f7cf3a\" fill-rule=\"evenodd\" fill-opacity=\"1\" stroke=\"#000000\" stroke-opacity=\"1\" stroke-width=\"3.2\"/>\n",
       "<circle clip-path=\"url(#clip852)\" cx=\"297.188\" cy=\"514.66\" r=\"53\" fill=\"#f9c32a\" fill-rule=\"evenodd\" fill-opacity=\"1\" stroke=\"#000000\" stroke-opacity=\"1\" stroke-width=\"3.2\"/>\n",
       "<circle clip-path=\"url(#clip852)\" cx=\"688.897\" cy=\"371.719\" r=\"57\" fill=\"#f1e865\" fill-rule=\"evenodd\" fill-opacity=\"1\" stroke=\"#000000\" stroke-opacity=\"1\" stroke-width=\"3.2\"/>\n",
       "<circle clip-path=\"url(#clip852)\" cx=\"1668.17\" cy=\"943.481\" r=\"59\" fill=\"#f2f485\" fill-rule=\"evenodd\" fill-opacity=\"1\" stroke=\"#000000\" stroke-opacity=\"1\" stroke-width=\"3.2\"/>\n",
       "<circle clip-path=\"url(#clip852)\" cx=\"493.042\" cy=\"371.719\" r=\"57\" fill=\"#f1e865\" fill-rule=\"evenodd\" fill-opacity=\"1\" stroke=\"#000000\" stroke-opacity=\"1\" stroke-width=\"3.2\"/>\n",
       "<circle clip-path=\"url(#clip852)\" cx=\"297.188\" cy=\"943.481\" r=\"7\" fill=\"#080620\" fill-rule=\"evenodd\" fill-opacity=\"1\" stroke=\"#000000\" stroke-opacity=\"1\" stroke-width=\"3.2\"/>\n",
       "<circle clip-path=\"url(#clip852)\" cx=\"2059.88\" cy=\"85.838\" r=\"56\" fill=\"#f3df53\" fill-rule=\"evenodd\" fill-opacity=\"1\" stroke=\"#000000\" stroke-opacity=\"1\" stroke-width=\"3.2\"/>\n",
       "<circle clip-path=\"url(#clip852)\" cx=\"688.897\" cy=\"1086.42\" r=\"44\" fill=\"#f2741c\" fill-rule=\"evenodd\" fill-opacity=\"1\" stroke=\"#000000\" stroke-opacity=\"1\" stroke-width=\"3.2\"/>\n",
       "<circle clip-path=\"url(#clip852)\" cx=\"1864.02\" cy=\"1229.36\" r=\"58\" fill=\"#f1ed71\" fill-rule=\"evenodd\" fill-opacity=\"1\" stroke=\"#000000\" stroke-opacity=\"1\" stroke-width=\"3.2\"/>\n",
       "<circle clip-path=\"url(#clip852)\" cx=\"1668.17\" cy=\"85.838\" r=\"56\" fill=\"#f3df53\" fill-rule=\"evenodd\" fill-opacity=\"1\" stroke=\"#000000\" stroke-opacity=\"1\" stroke-width=\"3.2\"/>\n",
       "<circle clip-path=\"url(#clip852)\" cx=\"493.042\" cy=\"1372.3\" r=\"3\" fill=\"#000003\" fill-rule=\"evenodd\" fill-opacity=\"1\" stroke=\"#000000\" stroke-opacity=\"1\" stroke-width=\"3.2\"/>\n",
       "<circle clip-path=\"url(#clip852)\" cx=\"884.751\" cy=\"1229.36\" r=\"44\" fill=\"#f2741c\" fill-rule=\"evenodd\" fill-opacity=\"1\" stroke=\"#000000\" stroke-opacity=\"1\" stroke-width=\"3.2\"/>\n",
       "<circle clip-path=\"url(#clip852)\" cx=\"1668.17\" cy=\"514.66\" r=\"56\" fill=\"#f3df53\" fill-rule=\"evenodd\" fill-opacity=\"1\" stroke=\"#000000\" stroke-opacity=\"1\" stroke-width=\"3.2\"/>\n",
       "<circle clip-path=\"url(#clip852)\" cx=\"493.042\" cy=\"1086.42\" r=\"7\" fill=\"#080620\" fill-rule=\"evenodd\" fill-opacity=\"1\" stroke=\"#000000\" stroke-opacity=\"1\" stroke-width=\"3.2\"/>\n",
       "<circle clip-path=\"url(#clip852)\" cx=\"1080.6\" cy=\"371.719\" r=\"57\" fill=\"#f2e55e\" fill-rule=\"evenodd\" fill-opacity=\"1\" stroke=\"#000000\" stroke-opacity=\"1\" stroke-width=\"3.2\"/>\n",
       "<circle clip-path=\"url(#clip852)\" cx=\"884.751\" cy=\"800.541\" r=\"57\" fill=\"#f2e55e\" fill-rule=\"evenodd\" fill-opacity=\"1\" stroke=\"#000000\" stroke-opacity=\"1\" stroke-width=\"3.2\"/>\n",
       "<circle clip-path=\"url(#clip852)\" cx=\"1080.6\" cy=\"1372.3\" r=\"44\" fill=\"#f2741c\" fill-rule=\"evenodd\" fill-opacity=\"1\" stroke=\"#000000\" stroke-opacity=\"1\" stroke-width=\"3.2\"/>\n",
       "<circle clip-path=\"url(#clip852)\" cx=\"1864.02\" cy=\"943.481\" r=\"58\" fill=\"#f1ed71\" fill-rule=\"evenodd\" fill-opacity=\"1\" stroke=\"#000000\" stroke-opacity=\"1\" stroke-width=\"3.2\"/>\n",
       "<circle clip-path=\"url(#clip852)\" cx=\"1864.02\" cy=\"1372.3\" r=\"61\" fill=\"#fcfea4\" fill-rule=\"evenodd\" fill-opacity=\"1\" stroke=\"#000000\" stroke-opacity=\"1\" stroke-width=\"3.2\"/>\n",
       "<circle clip-path=\"url(#clip852)\" cx=\"1276.46\" cy=\"943.481\" r=\"60\" fill=\"#f7fb98\" fill-rule=\"evenodd\" fill-opacity=\"1\" stroke=\"#000000\" stroke-opacity=\"1\" stroke-width=\"3.2\"/>\n",
       "<circle clip-path=\"url(#clip852)\" cx=\"1472.31\" cy=\"85.838\" r=\"56\" fill=\"#f3df53\" fill-rule=\"evenodd\" fill-opacity=\"1\" stroke=\"#000000\" stroke-opacity=\"1\" stroke-width=\"3.2\"/>\n",
       "<circle clip-path=\"url(#clip852)\" cx=\"2059.88\" cy=\"371.719\" r=\"52\" fill=\"#fbb61b\" fill-rule=\"evenodd\" fill-opacity=\"1\" stroke=\"#000000\" stroke-opacity=\"1\" stroke-width=\"3.2\"/>\n",
       "<circle clip-path=\"url(#clip852)\" cx=\"884.751\" cy=\"514.66\" r=\"57\" fill=\"#f1e865\" fill-rule=\"evenodd\" fill-opacity=\"1\" stroke=\"#000000\" stroke-opacity=\"1\" stroke-width=\"3.2\"/>\n",
       "<circle clip-path=\"url(#clip852)\" cx=\"1276.46\" cy=\"657.6\" r=\"56\" fill=\"#f3df53\" fill-rule=\"evenodd\" fill-opacity=\"1\" stroke=\"#000000\" stroke-opacity=\"1\" stroke-width=\"3.2\"/>\n",
       "<circle clip-path=\"url(#clip852)\" cx=\"688.897\" cy=\"514.66\" r=\"58\" fill=\"#f1eb6b\" fill-rule=\"evenodd\" fill-opacity=\"1\" stroke=\"#000000\" stroke-opacity=\"1\" stroke-width=\"3.2\"/>\n",
       "<circle clip-path=\"url(#clip852)\" cx=\"2059.88\" cy=\"1372.3\" r=\"59\" fill=\"#f2f485\" fill-rule=\"evenodd\" fill-opacity=\"1\" stroke=\"#000000\" stroke-opacity=\"1\" stroke-width=\"3.2\"/>\n",
       "<circle clip-path=\"url(#clip852)\" cx=\"1864.02\" cy=\"371.719\" r=\"52\" fill=\"#fbb61b\" fill-rule=\"evenodd\" fill-opacity=\"1\" stroke=\"#000000\" stroke-opacity=\"1\" stroke-width=\"3.2\"/>\n",
       "<circle clip-path=\"url(#clip852)\" cx=\"297.188\" cy=\"85.838\" r=\"58\" fill=\"#f1eb6b\" fill-rule=\"evenodd\" fill-opacity=\"1\" stroke=\"#000000\" stroke-opacity=\"1\" stroke-width=\"3.2\"/>\n",
       "<circle clip-path=\"url(#clip852)\" cx=\"1276.46\" cy=\"800.541\" r=\"58\" fill=\"#f1ed71\" fill-rule=\"evenodd\" fill-opacity=\"1\" stroke=\"#000000\" stroke-opacity=\"1\" stroke-width=\"3.2\"/>\n",
       "<circle clip-path=\"url(#clip852)\" cx=\"884.751\" cy=\"228.779\" r=\"58\" fill=\"#f1f078\" fill-rule=\"evenodd\" fill-opacity=\"1\" stroke=\"#000000\" stroke-opacity=\"1\" stroke-width=\"3.2\"/>\n",
       "<circle clip-path=\"url(#clip852)\" cx=\"2059.88\" cy=\"1229.36\" r=\"57\" fill=\"#f3e259\" fill-rule=\"evenodd\" fill-opacity=\"1\" stroke=\"#000000\" stroke-opacity=\"1\" stroke-width=\"3.2\"/>\n",
       "<circle clip-path=\"url(#clip852)\" cx=\"297.188\" cy=\"1229.36\" r=\"3\" fill=\"#000003\" fill-rule=\"evenodd\" fill-opacity=\"1\" stroke=\"#000000\" stroke-opacity=\"1\" stroke-width=\"3.2\"/>\n",
       "<circle clip-path=\"url(#clip852)\" cx=\"884.751\" cy=\"371.719\" r=\"56\" fill=\"#f3df53\" fill-rule=\"evenodd\" fill-opacity=\"1\" stroke=\"#000000\" stroke-opacity=\"1\" stroke-width=\"3.2\"/>\n",
       "<circle clip-path=\"url(#clip852)\" cx=\"688.897\" cy=\"228.779\" r=\"58\" fill=\"#f1f078\" fill-rule=\"evenodd\" fill-opacity=\"1\" stroke=\"#000000\" stroke-opacity=\"1\" stroke-width=\"3.2\"/>\n",
       "<circle clip-path=\"url(#clip852)\" cx=\"1080.6\" cy=\"1229.36\" r=\"49\" fill=\"#fb9e06\" fill-rule=\"evenodd\" fill-opacity=\"1\" stroke=\"#000000\" stroke-opacity=\"1\" stroke-width=\"3.2\"/>\n",
       "<circle clip-path=\"url(#clip852)\" cx=\"297.188\" cy=\"371.719\" r=\"57\" fill=\"#f1e865\" fill-rule=\"evenodd\" fill-opacity=\"1\" stroke=\"#000000\" stroke-opacity=\"1\" stroke-width=\"3.2\"/>\n",
       "<circle clip-path=\"url(#clip852)\" cx=\"1080.6\" cy=\"1086.42\" r=\"56\" fill=\"#f3df53\" fill-rule=\"evenodd\" fill-opacity=\"1\" stroke=\"#000000\" stroke-opacity=\"1\" stroke-width=\"3.2\"/>\n",
       "<circle clip-path=\"url(#clip852)\" cx=\"1864.02\" cy=\"657.6\" r=\"59\" fill=\"#f1f27f\" fill-rule=\"evenodd\" fill-opacity=\"1\" stroke=\"#000000\" stroke-opacity=\"1\" stroke-width=\"3.2\"/>\n",
       "<circle clip-path=\"url(#clip852)\" cx=\"1276.46\" cy=\"514.66\" r=\"54\" fill=\"#f8c932\" fill-rule=\"evenodd\" fill-opacity=\"1\" stroke=\"#000000\" stroke-opacity=\"1\" stroke-width=\"3.2\"/>\n",
       "<circle clip-path=\"url(#clip852)\" cx=\"1864.02\" cy=\"514.66\" r=\"52\" fill=\"#fbba1f\" fill-rule=\"evenodd\" fill-opacity=\"1\" stroke=\"#000000\" stroke-opacity=\"1\" stroke-width=\"3.2\"/>\n",
       "<circle clip-path=\"url(#clip852)\" cx=\"1472.31\" cy=\"1086.42\" r=\"59\" fill=\"#f3f78c\" fill-rule=\"evenodd\" fill-opacity=\"1\" stroke=\"#000000\" stroke-opacity=\"1\" stroke-width=\"3.2\"/>\n",
       "<circle clip-path=\"url(#clip852)\" cx=\"297.188\" cy=\"800.541\" r=\"44\" fill=\"#f2741c\" fill-rule=\"evenodd\" fill-opacity=\"1\" stroke=\"#000000\" stroke-opacity=\"1\" stroke-width=\"3.2\"/>\n",
       "<circle clip-path=\"url(#clip852)\" cx=\"2059.88\" cy=\"657.6\" r=\"52\" fill=\"#fbb318\" fill-rule=\"evenodd\" fill-opacity=\"1\" stroke=\"#000000\" stroke-opacity=\"1\" stroke-width=\"3.2\"/>\n",
       "<circle clip-path=\"url(#clip852)\" cx=\"1472.31\" cy=\"657.6\" r=\"56\" fill=\"#f3df53\" fill-rule=\"evenodd\" fill-opacity=\"1\" stroke=\"#000000\" stroke-opacity=\"1\" stroke-width=\"3.2\"/>\n",
       "<circle clip-path=\"url(#clip852)\" cx=\"688.897\" cy=\"85.838\" r=\"54\" fill=\"#f8c932\" fill-rule=\"evenodd\" fill-opacity=\"1\" stroke=\"#000000\" stroke-opacity=\"1\" stroke-width=\"3.2\"/>\n",
       "<circle clip-path=\"url(#clip852)\" cx=\"493.042\" cy=\"943.481\" r=\"44\" fill=\"#f2741c\" fill-rule=\"evenodd\" fill-opacity=\"1\" stroke=\"#000000\" stroke-opacity=\"1\" stroke-width=\"3.2\"/>\n",
       "<circle clip-path=\"url(#clip852)\" cx=\"1080.6\" cy=\"943.481\" r=\"58\" fill=\"#f1f078\" fill-rule=\"evenodd\" fill-opacity=\"1\" stroke=\"#000000\" stroke-opacity=\"1\" stroke-width=\"3.2\"/>\n",
       "<circle clip-path=\"url(#clip852)\" cx=\"1864.02\" cy=\"228.779\" r=\"54\" fill=\"#f8c932\" fill-rule=\"evenodd\" fill-opacity=\"1\" stroke=\"#000000\" stroke-opacity=\"1\" stroke-width=\"3.2\"/>\n",
       "<circle clip-path=\"url(#clip852)\" cx=\"1472.31\" cy=\"943.481\" r=\"58\" fill=\"#f1f078\" fill-rule=\"evenodd\" fill-opacity=\"1\" stroke=\"#000000\" stroke-opacity=\"1\" stroke-width=\"3.2\"/>\n",
       "<circle clip-path=\"url(#clip852)\" cx=\"1864.02\" cy=\"1086.42\" r=\"58\" fill=\"#f1f078\" fill-rule=\"evenodd\" fill-opacity=\"1\" stroke=\"#000000\" stroke-opacity=\"1\" stroke-width=\"3.2\"/>\n",
       "<circle clip-path=\"url(#clip852)\" cx=\"1472.31\" cy=\"800.541\" r=\"57\" fill=\"#f3e259\" fill-rule=\"evenodd\" fill-opacity=\"1\" stroke=\"#000000\" stroke-opacity=\"1\" stroke-width=\"3.2\"/>\n",
       "<circle clip-path=\"url(#clip852)\" cx=\"1668.17\" cy=\"657.6\" r=\"56\" fill=\"#f4dc4e\" fill-rule=\"evenodd\" fill-opacity=\"1\" stroke=\"#000000\" stroke-opacity=\"1\" stroke-width=\"3.2\"/>\n",
       "<circle clip-path=\"url(#clip852)\" cx=\"1472.31\" cy=\"1372.3\" r=\"56\" fill=\"#f5d949\" fill-rule=\"evenodd\" fill-opacity=\"1\" stroke=\"#000000\" stroke-opacity=\"1\" stroke-width=\"3.2\"/>\n",
       "<circle clip-path=\"url(#clip852)\" cx=\"1080.6\" cy=\"800.541\" r=\"58\" fill=\"#f1ed71\" fill-rule=\"evenodd\" fill-opacity=\"1\" stroke=\"#000000\" stroke-opacity=\"1\" stroke-width=\"3.2\"/>\n",
       "<circle clip-path=\"url(#clip852)\" cx=\"1864.02\" cy=\"800.541\" r=\"55\" fill=\"#f7cf3a\" fill-rule=\"evenodd\" fill-opacity=\"1\" stroke=\"#000000\" stroke-opacity=\"1\" stroke-width=\"3.2\"/>\n",
       "<circle clip-path=\"url(#clip852)\" cx=\"884.751\" cy=\"85.838\" r=\"55\" fill=\"#f7cf3a\" fill-rule=\"evenodd\" fill-opacity=\"1\" stroke=\"#000000\" stroke-opacity=\"1\" stroke-width=\"3.2\"/>\n",
       "<circle clip-path=\"url(#clip852)\" cx=\"493.042\" cy=\"85.838\" r=\"56\" fill=\"#f5d949\" fill-rule=\"evenodd\" fill-opacity=\"1\" stroke=\"#000000\" stroke-opacity=\"1\" stroke-width=\"3.2\"/>\n",
       "<circle clip-path=\"url(#clip852)\" cx=\"297.188\" cy=\"657.6\" r=\"49\" fill=\"#fb9b06\" fill-rule=\"evenodd\" fill-opacity=\"1\" stroke=\"#000000\" stroke-opacity=\"1\" stroke-width=\"3.2\"/>\n",
       "<circle clip-path=\"url(#clip852)\" cx=\"1668.17\" cy=\"371.719\" r=\"53\" fill=\"#fac026\" fill-rule=\"evenodd\" fill-opacity=\"1\" stroke=\"#000000\" stroke-opacity=\"1\" stroke-width=\"3.2\"/>\n",
       "<circle clip-path=\"url(#clip852)\" cx=\"297.188\" cy=\"228.779\" r=\"58\" fill=\"#f1eb6b\" fill-rule=\"evenodd\" fill-opacity=\"1\" stroke=\"#000000\" stroke-opacity=\"1\" stroke-width=\"3.2\"/>\n",
       "<circle clip-path=\"url(#clip852)\" cx=\"2059.88\" cy=\"514.66\" r=\"51\" fill=\"#fbad12\" fill-rule=\"evenodd\" fill-opacity=\"1\" stroke=\"#000000\" stroke-opacity=\"1\" stroke-width=\"3.2\"/>\n",
       "<circle clip-path=\"url(#clip852)\" cx=\"2059.88\" cy=\"1086.42\" r=\"55\" fill=\"#f7cf3a\" fill-rule=\"evenodd\" fill-opacity=\"1\" stroke=\"#000000\" stroke-opacity=\"1\" stroke-width=\"3.2\"/>\n",
       "<circle clip-path=\"url(#clip852)\" cx=\"493.042\" cy=\"657.6\" r=\"54\" fill=\"#f8c932\" fill-rule=\"evenodd\" fill-opacity=\"1\" stroke=\"#000000\" stroke-opacity=\"1\" stroke-width=\"3.2\"/>\n",
       "<circle clip-path=\"url(#clip852)\" cx=\"297.188\" cy=\"1372.3\" r=\"3\" fill=\"#000003\" fill-rule=\"evenodd\" fill-opacity=\"1\" stroke=\"#000000\" stroke-opacity=\"1\" stroke-width=\"3.2\"/>\n",
       "<circle clip-path=\"url(#clip852)\" cx=\"1080.6\" cy=\"85.838\" r=\"56\" fill=\"#f3df53\" fill-rule=\"evenodd\" fill-opacity=\"1\" stroke=\"#000000\" stroke-opacity=\"1\" stroke-width=\"3.2\"/>\n",
       "<circle clip-path=\"url(#clip852)\" cx=\"1668.17\" cy=\"1229.36\" r=\"60\" fill=\"#f5f992\" fill-rule=\"evenodd\" fill-opacity=\"1\" stroke=\"#000000\" stroke-opacity=\"1\" stroke-width=\"3.2\"/>\n",
       "<circle clip-path=\"url(#clip852)\" cx=\"2059.88\" cy=\"943.481\" r=\"56\" fill=\"#f5d949\" fill-rule=\"evenodd\" fill-opacity=\"1\" stroke=\"#000000\" stroke-opacity=\"1\" stroke-width=\"3.2\"/>\n",
       "<circle clip-path=\"url(#clip852)\" cx=\"1276.46\" cy=\"1229.36\" r=\"56\" fill=\"#f5d949\" fill-rule=\"evenodd\" fill-opacity=\"1\" stroke=\"#000000\" stroke-opacity=\"1\" stroke-width=\"3.2\"/>\n",
       "<circle clip-path=\"url(#clip852)\" cx=\"688.897\" cy=\"657.6\" r=\"58\" fill=\"#f1eb6b\" fill-rule=\"evenodd\" fill-opacity=\"1\" stroke=\"#000000\" stroke-opacity=\"1\" stroke-width=\"3.2\"/>\n",
       "<circle clip-path=\"url(#clip852)\" cx=\"297.188\" cy=\"1086.42\" r=\"3\" fill=\"#000003\" fill-rule=\"evenodd\" fill-opacity=\"1\" stroke=\"#000000\" stroke-opacity=\"1\" stroke-width=\"3.2\"/>\n",
       "<circle clip-path=\"url(#clip852)\" cx=\"1276.46\" cy=\"371.719\" r=\"55\" fill=\"#f6d644\" fill-rule=\"evenodd\" fill-opacity=\"1\" stroke=\"#000000\" stroke-opacity=\"1\" stroke-width=\"3.2\"/>\n",
       "<circle clip-path=\"url(#clip852)\" cx=\"1668.17\" cy=\"800.541\" r=\"55\" fill=\"#f6d644\" fill-rule=\"evenodd\" fill-opacity=\"1\" stroke=\"#000000\" stroke-opacity=\"1\" stroke-width=\"3.2\"/>\n",
       "<circle clip-path=\"url(#clip852)\" cx=\"493.042\" cy=\"800.541\" r=\"49\" fill=\"#fb9e06\" fill-rule=\"evenodd\" fill-opacity=\"1\" stroke=\"#000000\" stroke-opacity=\"1\" stroke-width=\"3.2\"/>\n",
       "<circle clip-path=\"url(#clip852)\" cx=\"688.897\" cy=\"943.481\" r=\"49\" fill=\"#fb9e06\" fill-rule=\"evenodd\" fill-opacity=\"1\" stroke=\"#000000\" stroke-opacity=\"1\" stroke-width=\"3.2\"/>\n",
       "<circle clip-path=\"url(#clip852)\" cx=\"2059.88\" cy=\"228.779\" r=\"54\" fill=\"#f8c932\" fill-rule=\"evenodd\" fill-opacity=\"1\" stroke=\"#000000\" stroke-opacity=\"1\" stroke-width=\"3.2\"/>\n",
       "<circle clip-path=\"url(#clip852)\" cx=\"884.751\" cy=\"943.481\" r=\"56\" fill=\"#f4dc4e\" fill-rule=\"evenodd\" fill-opacity=\"1\" stroke=\"#000000\" stroke-opacity=\"1\" stroke-width=\"3.2\"/>\n",
       "<circle clip-path=\"url(#clip852)\" cx=\"1668.17\" cy=\"228.779\" r=\"54\" fill=\"#f8c932\" fill-rule=\"evenodd\" fill-opacity=\"1\" stroke=\"#000000\" stroke-opacity=\"1\" stroke-width=\"3.2\"/>\n",
       "<circle clip-path=\"url(#clip852)\" cx=\"884.751\" cy=\"1372.3\" r=\"7\" fill=\"#080620\" fill-rule=\"evenodd\" fill-opacity=\"1\" stroke=\"#000000\" stroke-opacity=\"1\" stroke-width=\"3.2\"/>\n",
       "<circle clip-path=\"url(#clip852)\" cx=\"1276.46\" cy=\"1372.3\" r=\"49\" fill=\"#fb9e06\" fill-rule=\"evenodd\" fill-opacity=\"1\" stroke=\"#000000\" stroke-opacity=\"1\" stroke-width=\"3.2\"/>\n",
       "<circle clip-path=\"url(#clip852)\" cx=\"1668.17\" cy=\"1086.42\" r=\"58\" fill=\"#f1eb6b\" fill-rule=\"evenodd\" fill-opacity=\"1\" stroke=\"#000000\" stroke-opacity=\"1\" stroke-width=\"3.2\"/>\n",
       "<circle clip-path=\"url(#clip852)\" cx=\"1276.46\" cy=\"1086.42\" r=\"59\" fill=\"#f2f485\" fill-rule=\"evenodd\" fill-opacity=\"1\" stroke=\"#000000\" stroke-opacity=\"1\" stroke-width=\"3.2\"/>\n",
       "<circle clip-path=\"url(#clip852)\" cx=\"493.042\" cy=\"1229.36\" r=\"3\" fill=\"#000003\" fill-rule=\"evenodd\" fill-opacity=\"1\" stroke=\"#000000\" stroke-opacity=\"1\" stroke-width=\"3.2\"/>\n",
       "<circle clip-path=\"url(#clip852)\" cx=\"1080.6\" cy=\"657.6\" r=\"57\" fill=\"#f3e259\" fill-rule=\"evenodd\" fill-opacity=\"1\" stroke=\"#000000\" stroke-opacity=\"1\" stroke-width=\"3.2\"/>\n",
       "<circle clip-path=\"url(#clip852)\" cx=\"1668.17\" cy=\"1372.3\" r=\"59\" fill=\"#f1f27f\" fill-rule=\"evenodd\" fill-opacity=\"1\" stroke=\"#000000\" stroke-opacity=\"1\" stroke-width=\"3.2\"/>\n",
       "<circle clip-path=\"url(#clip852)\" cx=\"1080.6\" cy=\"514.66\" r=\"56\" fill=\"#f5d949\" fill-rule=\"evenodd\" fill-opacity=\"1\" stroke=\"#000000\" stroke-opacity=\"1\" stroke-width=\"3.2\"/>\n",
       "<circle clip-path=\"url(#clip852)\" cx=\"688.897\" cy=\"1372.3\" r=\"3\" fill=\"#000003\" fill-rule=\"evenodd\" fill-opacity=\"1\" stroke=\"#000000\" stroke-opacity=\"1\" stroke-width=\"3.2\"/>\n",
       "<circle clip-path=\"url(#clip852)\" cx=\"1472.31\" cy=\"228.779\" r=\"54\" fill=\"#f8c932\" fill-rule=\"evenodd\" fill-opacity=\"1\" stroke=\"#000000\" stroke-opacity=\"1\" stroke-width=\"3.2\"/>\n",
       "<circle clip-path=\"url(#clip852)\" cx=\"1472.31\" cy=\"371.719\" r=\"54\" fill=\"#f8c932\" fill-rule=\"evenodd\" fill-opacity=\"1\" stroke=\"#000000\" stroke-opacity=\"1\" stroke-width=\"3.2\"/>\n",
       "<defs>\n",
       "  <clipPath id=\"clip853\">\n",
       "    <rect x=\"2160\" y=\"47\" width=\"73\" height=\"1365\"/>\n",
       "  </clipPath>\n",
       "</defs>\n",
       "<g clip-path=\"url(#clip853)\">\n",
       "<image width=\"72\" height=\"1364\" xlink:href=\"data:image/png;base64,\n",
       "iVBORw0KGgoAAAANSUhEUgAAAEgAAAVUCAYAAABzwV4AAAAL0klEQVR4nO3dwY3sRhAFQY5Q/lsh\n",
       "L6XfLQtUeSQPERYsEg+zZJM7+/v3/H0f/tdfb/8AXydQECgIFAQKc+6/b/8Mn2ZBQaAgUBAozL1/\n",
       "3v4ZPs2CgkBBoCBQcCUdLCgIFAQKAgWBwly/xVYWFAQKAgWBwtzjQ3pjQUGgIFAQKLiSDhYUBAoC\n",
       "BYGCQMFvsWBBQaAgUBAoOA8KFhQECgIFgcI8rqRXFhQECgIFgYJAwXlQsKAgUBAoCBTmcR60sqAg\n",
       "UBAoCBTmOf+8/TN8mgUFgYJAQaAgUPBUI1hQECgIFAQKzoOCBQWBgkBBoOBDOlhQECgIFAQKAgXn\n",
       "QcGCgkBBoCBQmJ9bjZUFBYGCQEGgMM/xpf8bCwoCBYGCQEGg4FYjWFAQKAgUBApuNYIFBYGCQEGg\n",
       "4P2gYEFBoCBQECgIFObnVmNlQUGgIFAQKHiJM1hQECgIFAQKrqSDBQWBgkBBoCBQ8Og5WFAQKAgU\n",
       "BApuNYIFBYGCQEGg4Eo6WFAQKAgUBAoCBbcawYKCQEGgIFCY55y3f4ZPs6AgUBAoCBRcSQcLCgIF\n",
       "gYJAQaDgqUawoCBQECgIFHxIBwsKAgWBgkBhfg7tVxYUBAoCBYGCQMGtRrCgIFAQKAgUvB8ULCgI\n",
       "FAQKAgXnQcGCgkBBoCBQECg4DwoWFAQKAgWBgvOgYEFBoCBQECj4kA4WFAQKAgWBgkDBXz0HCwoC\n",
       "BYGCQMGtRrCgIFAQKAgUfEgHCwoCBYGCQEGg4LdYsKAgUBAoCBR8SAcLCgIFgYJAYZ7rQ3pjQUGg\n",
       "IFAQKAgU3GoECwoCBYGCQMGHdLCgIFAQKAgUfEgHCwoCBYGCQEGgMM+5b/8Mn2ZBQaAgUBAouNUI\n",
       "FhQECgIFgYIr6WBBQaAgUBAoCBTcagQLCgIFgYJAwa1GsKAgUBAoCBTmcSG9sqAgUBAoCBQECvNc\n",
       "txobCwoCBYGCQMGtRrCgIFAQKAgUfEgHCwoCBYGCQEGgML4Eb2dBQaAgUBAouNUIFhQECgIFgYIP\n",
       "6WBBQaAgUBAoCBTmOb+3f4ZPs6AgUBAoCBTmXh/SGwsKAgWBgkDBeVCwoCBQECgIFBx3BAsKAgWB\n",
       "gkBBoDD3aLRRJwgUBAoCBbcawYKCQEGgIFCYx5PVlQUFgYJAQaAgUJjrVmNlQUGgIFAQKMzj0H6l\n",
       "ThAoCBQECq6kgwUFgYJAQaAgUPBUI1hQECgIFAQKXuIM6gSBgkBBoOAlzmBBQaAgUBAoCBQ81QgW\n",
       "FAQKAgWBwtyr0UadIFAQKAgUnAcFCwoCBYGCQEGg4DwoWFAQKAgUBArzOA9aqRMECgIFgYIr6WBB\n",
       "QaAgUBAoCBT8FgsWFAQKAgWBgj/qDRYUBAoCBYGCP+oN6gSBgkBBoCBQ8P/mgwUFgYJAQaDg0D5Y\n",
       "UBAoCBQECr70P6gTBAoCBYGCQMF5ULCgIFAQKAgUnAcFCwoCBYGCQMGVdLCgIFAQKAgUBArecg3q\n",
       "BIGCQEGg4FYjWFAQKAgUBAoO7YMFBYGCQEGgIFBwqxEsKAgUBAoCBf+6JlhQECgIFAQK/glkUCcI\n",
       "FAQKAgWBgvOgYEFBoCBQECh49BwsKAgUBAoCBVfSwYKCQEGgIFAQKMzxW2xlQUGgIFAQKPij3qBO\n",
       "ECgIFAQKzoOCBQWBgkBBoCBQ8FssWFAQKAgUBAreDwoWFAQKAgWBgivpYEFBoCBQECgIFPwWCxYU\n",
       "BAoCBYGCr6YI6gSBgkBBoDDHof3KgoJAQaAgUBAoOA8KFhQECgIFgYIP6WBBQaAgUBAo+JAOFhQE\n",
       "CgIFgYJAwfcHBQsKAgWBgkDBrUawoCBQECgIFHxIBwsKAgWBgkBBoOBPEYI6QaAgUBAo+FOEYEFB\n",
       "oCBQECg4DwoWFAQKAgWBgkDBb7FgQUGgIFAQKHiJM1hQECgIFAQKrqSDBQWBgkBBoCBQmPv4Lbax\n",
       "oCBQECgIFJwHBQsKAgWBgkDBeVCwoCBQECgIFAQKbjWCBQWBgkBBoOBWI1hQECgIFAQKrqSDBQWB\n",
       "gkBBoCBQcKsRLCgIFAQKAgUf0sGCgkBBoCBQmONN+5UFBYGCQEGg4Eo6WFAQKAgUBAoCBY+egwUF\n",
       "gYJAQaAw9779I3ybBQWBgkBBoOBKOlhQECgIFAQKAgVf8hYsKAgUBAoCBbcawYKCQEGgIFDwflCw\n",
       "oCBQECgIFAQK/hQhWFAQKAgUBAreDwoWFAQKAgWBgkP7YEFBoCBQECgIFDzVCBYUBAoCBYGCQ/tg\n",
       "QUGgIFAQKDgPChYUBAoCBYGCQMGj52BBQaAgUBAoOA8KFhQECgIFgYInq8GCgkBBoCBQECjMefsn\n",
       "+DgLCgIFgYJAwa1GsKAgUBAoCBS8HxQsKAgUBAoCBYGC86BgQUGgIFAQKDgPChYUBAoCBYGCK+lg\n",
       "QUGgIFAQKAgU3GoECwoCBYGCQMGj52BBQaAgUBAojC9e2FlQECgIFAQKAgW3GsGCgkBBoCBQ8Og5\n",
       "WFAQKAgUBAqerAYLCgIFgYJAQaDgViNYUBAoCBQECm41ggUFgYJAQaAwxwtCKwsKAgWBgkBBoOA8\n",
       "KFhQECgIFAQKzoOCBQWBgkBBoOBKOlhQECgIFAQKAgX/bz5YUBAoCBQECv7ffLCgIFAQKAgUvB8U\n",
       "LCgIFAQKAgWBgm/BCxYUBAoCBYGCL3kLFhQECgIFgYInq8GCgkBBoCBQECh4yzVYUBAoCBQECv5e\n",
       "LFhQECgIFAQKrqSDBQWBgkBBoCBQ8JZrsKAgUBAoCBS8xBksKAgUBAoCBVfSwYKCQEGgIFAQKHjL\n",
       "NVhQECgIFAQKvj8oWFAQKAgUBArOg4IFBYGCQEGgIFDw6DlYUBAoCBQECm41ggUFgYJAQaDgSjpY\n",
       "UBAoCBQECgIFtxrBgoJAQaAgUPAhHSwoCBQECgIF50HBgoJAQaAgUBAouNUIFhQECgIFgYJbjWBB\n",
       "QaAgUBAouJIOFhQECgIFgYJAwfcHBQsKAgWBgkDBv64JFhQECgIFgYLzoGBBQaAgUBAoCBTmPn6N\n",
       "bSwoCBQECgIFtxrBgoJAQaAgUPBkNVhQECgIFAQKnqwGCwoCBYGCQEGg4DwoWFAQKAgUBAqerAYL\n",
       "CgIFgYJAwZV0sKAgUBAoCBQECr4/KFhQECgIFAQKc7wgtLKgIFAQKAgUvB8ULCgIFAQKAgWBwly3\n",
       "GisLCgIFgYJAwa1GsKAgUBAoCBQc2gcLCgIFgYJAQaDg/aBgQUGgIFAQKMzx92IrCwoCBYGCQMF5\n",
       "ULCgIFAQKAgUBAq+miJYUBAoCBQECt4PChYUBAoCBYGCQ/tgQUGgIFAQKAgUnAcFCwoCBYGCQGHO\n",
       "40RoY0FBoCBQECg4DwoWFAQKAgWBgkDBb7FgQUGgIFAQKDi0DxYUBAoCBYGCQ/tgQUGgIFAQKAgU\n",
       "5vzcamwsKAgUBAoCBbcawYKCQEGgIFCY60N6ZUFBoCBQECgIFNxqBAsKAgWBgkBhzs+H9MaCgkBB\n",
       "oCBQcCUdLCgIFAQKAgWBgqcawYKCQEGgIFBwqxEsKAgUBAoCBR/SwYKCQEGgIFAQKHj0HCwoCBQE\n",
       "CgKFuc+ft3+GT7OgIFAQKAgUnAcFCwoCBYGCQEGg4P2gYEFBoCBQECjMuc6DNhYUBAoCBYGCK+lg\n",
       "QUGgIFAQKAgU5nj0vLKgIFAQKAgU3GoECwoCBYGCQMGVdLCgIFAQKAgUBApzr1uNjQUFgYJAQaDg\n",
       "PChYUBAoCBQECl7iDBYUBAoCBYGCQMGtRrCgIFAQKAgU5rrVWFlQECgIFAQKrqSDBQWBgkBBoCBQ\n",
       "mOP9oJUFBYGCQEGg4PukgwUFgYJAQaDgTftgQUGgIFAQKAgUPNUIFhQECgIFgYJbjWBBQaAgUBAo\n",
       "+JAOFhQECgIFgYJAwaPnYEFBoCBQECi41QgWFAQKAgWBwjyerK4sKAgUBAoCBYGCW41gQUGgIFAQ\n",
       "KHiJM1hQECgIFAQK87iSXllQECgIFAQKAgXvBwULCgIFgYJAwaPnYEFBoCBQECg4DwoWFAQKAgWB\n",
       "gkBh7nPf/hk+zYKCQEGgIFBwHhQsKAgUBAoChXlcSa8sKAgUBAoChf8AJ8ztt7m0cDkAAAAASUVO\n",
       "RK5CYII=\n",
       "\" transform=\"translate(2161, 47)\"/>\n",
       "</g>\n",
       "<path clip-path=\"url(#clip850)\" d=\"M 0 0 M2280.7 1255.42 Q2277.09 1255.42 2275.26 1258.99 Q2273.45 1262.53 2273.45 1269.66 Q2273.45 1276.77 2275.26 1280.33 Q2277.09 1283.87 2280.7 1283.87 Q2284.33 1283.87 2286.14 1280.33 Q2287.97 1276.77 2287.97 1269.66 Q2287.97 1262.53 2286.14 1258.99 Q2284.33 1255.42 2280.7 1255.42 M2280.7 1251.72 Q2286.51 1251.72 2289.57 1256.33 Q2292.64 1260.91 2292.64 1269.66 Q2292.64 1278.39 2289.57 1282.99 Q2286.51 1287.58 2280.7 1287.58 Q2274.89 1287.58 2271.81 1282.99 Q2268.76 1278.39 2268.76 1269.66 Q2268.76 1260.91 2271.81 1256.33 Q2274.89 1251.72 2280.7 1251.72 Z\" fill=\"#000000\" fill-rule=\"evenodd\" fill-opacity=\"1\" /><path clip-path=\"url(#clip850)\" d=\"M 0 0 M2297.71 1281.02 L2302.6 1281.02 L2302.6 1286.9 L2297.71 1286.9 L2297.71 1281.02 Z\" fill=\"#000000\" fill-rule=\"evenodd\" fill-opacity=\"1\" /><path clip-path=\"url(#clip850)\" d=\"M 0 0 M2318.25 1267.76 Q2315.1 1267.76 2313.25 1269.91 Q2311.42 1272.07 2311.42 1275.82 Q2311.42 1279.54 2313.25 1281.72 Q2315.1 1283.87 2318.25 1283.87 Q2321.39 1283.87 2323.22 1281.72 Q2325.08 1279.54 2325.08 1275.82 Q2325.08 1272.07 2323.22 1269.91 Q2321.39 1267.76 2318.25 1267.76 M2327.53 1253.11 L2327.53 1257.37 Q2325.77 1256.53 2323.96 1256.09 Q2322.18 1255.65 2320.42 1255.65 Q2315.79 1255.65 2313.34 1258.78 Q2310.91 1261.9 2310.56 1268.22 Q2311.93 1266.21 2313.99 1265.15 Q2316.05 1264.06 2318.52 1264.06 Q2323.73 1264.06 2326.74 1267.23 Q2329.77 1270.38 2329.77 1275.82 Q2329.77 1281.14 2326.63 1284.36 Q2323.48 1287.58 2318.25 1287.58 Q2312.25 1287.58 2309.08 1282.99 Q2305.91 1278.39 2305.91 1269.66 Q2305.91 1261.46 2309.8 1256.6 Q2313.69 1251.72 2320.24 1251.72 Q2322 1251.72 2323.78 1252.07 Q2325.58 1252.41 2327.53 1253.11 Z\" fill=\"#000000\" fill-rule=\"evenodd\" fill-opacity=\"1\" /><path clip-path=\"url(#clip850)\" d=\"M 0 0 M2333.66 1252.34 L2355.89 1252.34 L2355.89 1254.33 L2343.34 1286.9 L2338.45 1286.9 L2350.26 1256.28 L2333.66 1256.28 L2333.66 1252.34 Z\" fill=\"#000000\" fill-rule=\"evenodd\" fill-opacity=\"1\" /><path clip-path=\"url(#clip850)\" d=\"M 0 0 M2361 1252.34 L2379.36 1252.34 L2379.36 1256.28 L2365.28 1256.28 L2365.28 1264.75 Q2366.3 1264.4 2367.32 1264.24 Q2368.34 1264.06 2369.36 1264.06 Q2375.14 1264.06 2378.52 1267.23 Q2381.9 1270.4 2381.9 1275.82 Q2381.9 1281.39 2378.43 1284.5 Q2374.96 1287.58 2368.64 1287.58 Q2366.46 1287.58 2364.2 1287.21 Q2361.95 1286.83 2359.54 1286.09 L2359.54 1281.39 Q2361.63 1282.53 2363.85 1283.08 Q2366.07 1283.64 2368.55 1283.64 Q2372.55 1283.64 2374.89 1281.53 Q2377.23 1279.43 2377.23 1275.82 Q2377.23 1272.21 2374.89 1270.1 Q2372.55 1267.99 2368.55 1267.99 Q2366.67 1267.99 2364.8 1268.41 Q2362.95 1268.83 2361 1269.71 L2361 1252.34 Z\" fill=\"#000000\" fill-rule=\"evenodd\" fill-opacity=\"1\" /><path clip-path=\"url(#clip850)\" d=\"M 0 0 M2280.7 1098.18 Q2277.09 1098.18 2275.26 1101.74 Q2273.45 1105.28 2273.45 1112.41 Q2273.45 1119.52 2275.26 1123.08 Q2277.09 1126.63 2280.7 1126.63 Q2284.33 1126.63 2286.14 1123.08 Q2287.97 1119.52 2287.97 1112.41 Q2287.97 1105.28 2286.14 1101.74 Q2284.33 1098.18 2280.7 1098.18 M2280.7 1094.47 Q2286.51 1094.47 2289.57 1099.08 Q2292.64 1103.66 2292.64 1112.41 Q2292.64 1121.14 2289.57 1125.75 Q2286.51 1130.33 2280.7 1130.33 Q2274.89 1130.33 2271.81 1125.75 Q2268.76 1121.14 2268.76 1112.41 Q2268.76 1103.66 2271.81 1099.08 Q2274.89 1094.47 2280.7 1094.47 Z\" fill=\"#000000\" fill-rule=\"evenodd\" fill-opacity=\"1\" /><path clip-path=\"url(#clip850)\" d=\"M 0 0 M2297.71 1123.78 L2302.6 1123.78 L2302.6 1129.66 L2297.71 1129.66 L2297.71 1123.78 Z\" fill=\"#000000\" fill-rule=\"evenodd\" fill-opacity=\"1\" /><path clip-path=\"url(#clip850)\" d=\"M 0 0 M2306.49 1095.1 L2328.71 1095.1 L2328.71 1097.09 L2316.16 1129.66 L2311.28 1129.66 L2323.08 1099.03 L2306.49 1099.03 L2306.49 1095.1 Z\" fill=\"#000000\" fill-rule=\"evenodd\" fill-opacity=\"1\" /><path clip-path=\"url(#clip850)\" d=\"M 0 0 M2343.78 1098.18 Q2340.17 1098.18 2338.34 1101.74 Q2336.53 1105.28 2336.53 1112.41 Q2336.53 1119.52 2338.34 1123.08 Q2340.17 1126.63 2343.78 1126.63 Q2347.41 1126.63 2349.22 1123.08 Q2351.05 1119.52 2351.05 1112.41 Q2351.05 1105.28 2349.22 1101.74 Q2347.41 1098.18 2343.78 1098.18 M2343.78 1094.47 Q2349.59 1094.47 2352.64 1099.08 Q2355.72 1103.66 2355.72 1112.41 Q2355.72 1121.14 2352.64 1125.75 Q2349.59 1130.33 2343.78 1130.33 Q2337.97 1130.33 2334.89 1125.75 Q2331.83 1121.14 2331.83 1112.41 Q2331.83 1103.66 2334.89 1099.08 Q2337.97 1094.47 2343.78 1094.47 Z\" fill=\"#000000\" fill-rule=\"evenodd\" fill-opacity=\"1\" /><path clip-path=\"url(#clip850)\" d=\"M 0 0 M2370.79 1098.18 Q2367.18 1098.18 2365.35 1101.74 Q2363.55 1105.28 2363.55 1112.41 Q2363.55 1119.52 2365.35 1123.08 Q2367.18 1126.63 2370.79 1126.63 Q2374.43 1126.63 2376.23 1123.08 Q2378.06 1119.52 2378.06 1112.41 Q2378.06 1105.28 2376.23 1101.74 Q2374.43 1098.18 2370.79 1098.18 M2370.79 1094.47 Q2376.6 1094.47 2379.66 1099.08 Q2382.74 1103.66 2382.74 1112.41 Q2382.74 1121.14 2379.66 1125.75 Q2376.6 1130.33 2370.79 1130.33 Q2364.98 1130.33 2361.9 1125.75 Q2358.85 1121.14 2358.85 1112.41 Q2358.85 1103.66 2361.9 1099.08 Q2364.98 1094.47 2370.79 1094.47 Z\" fill=\"#000000\" fill-rule=\"evenodd\" fill-opacity=\"1\" /><path clip-path=\"url(#clip850)\" d=\"M 0 0 M2280.7 940.93 Q2277.09 940.93 2275.26 944.495 Q2273.45 948.037 2273.45 955.167 Q2273.45 962.273 2275.26 965.838 Q2277.09 969.379 2280.7 969.379 Q2284.33 969.379 2286.14 965.838 Q2287.97 962.273 2287.97 955.167 Q2287.97 948.037 2286.14 944.495 Q2284.33 940.93 2280.7 940.93 M2280.7 937.227 Q2286.51 937.227 2289.57 941.833 Q2292.64 946.417 2292.64 955.167 Q2292.64 963.893 2289.57 968.5 Q2286.51 973.083 2280.7 973.083 Q2274.89 973.083 2271.81 968.5 Q2268.76 963.893 2268.76 955.167 Q2268.76 946.417 2271.81 941.833 Q2274.89 937.227 2280.7 937.227 Z\" fill=\"#000000\" fill-rule=\"evenodd\" fill-opacity=\"1\" /><path clip-path=\"url(#clip850)\" d=\"M 0 0 M2297.71 966.532 L2302.6 966.532 L2302.6 972.412 L2297.71 972.412 L2297.71 966.532 Z\" fill=\"#000000\" fill-rule=\"evenodd\" fill-opacity=\"1\" /><path clip-path=\"url(#clip850)\" d=\"M 0 0 M2306.49 937.852 L2328.71 937.852 L2328.71 939.843 L2316.16 972.412 L2311.28 972.412 L2323.08 941.787 L2306.49 941.787 L2306.49 937.852 Z\" fill=\"#000000\" fill-rule=\"evenodd\" fill-opacity=\"1\" /><path clip-path=\"url(#clip850)\" d=\"M 0 0 M2337.81 968.477 L2354.13 968.477 L2354.13 972.412 L2332.18 972.412 L2332.18 968.477 Q2334.84 965.722 2339.43 961.092 Q2344.03 956.44 2345.21 955.097 Q2347.46 952.574 2348.34 950.838 Q2349.24 949.079 2349.24 947.389 Q2349.24 944.634 2347.3 942.898 Q2345.38 941.162 2342.27 941.162 Q2340.07 941.162 2337.62 941.926 Q2335.19 942.69 2332.41 944.241 L2332.41 939.518 Q2335.24 938.384 2337.69 937.805 Q2340.14 937.227 2342.18 937.227 Q2347.55 937.227 2350.75 939.912 Q2353.94 942.597 2353.94 947.088 Q2353.94 949.217 2353.13 951.139 Q2352.34 953.037 2350.24 955.629 Q2349.66 956.301 2346.56 959.518 Q2343.45 962.713 2337.81 968.477 Z\" fill=\"#000000\" fill-rule=\"evenodd\" fill-opacity=\"1\" /><path clip-path=\"url(#clip850)\" d=\"M 0 0 M2359.24 937.852 L2377.6 937.852 L2377.6 941.787 L2363.52 941.787 L2363.52 950.259 Q2364.54 949.912 2365.56 949.75 Q2366.58 949.565 2367.6 949.565 Q2373.38 949.565 2376.76 952.736 Q2380.14 955.907 2380.14 961.324 Q2380.14 966.903 2376.67 970.004 Q2373.2 973.083 2366.88 973.083 Q2364.7 973.083 2362.44 972.713 Q2360.19 972.342 2357.78 971.602 L2357.78 966.903 Q2359.87 968.037 2362.09 968.592 Q2364.31 969.148 2366.79 969.148 Q2370.79 969.148 2373.13 967.041 Q2375.47 964.935 2375.47 961.324 Q2375.47 957.713 2373.13 955.606 Q2370.79 953.5 2366.79 953.5 Q2364.91 953.5 2363.04 953.917 Q2361.19 954.333 2359.24 955.213 L2359.24 937.852 Z\" fill=\"#000000\" fill-rule=\"evenodd\" fill-opacity=\"1\" /><path clip-path=\"url(#clip850)\" d=\"M 0 0 M2280.7 783.684 Q2277.09 783.684 2275.26 787.249 Q2273.45 790.791 2273.45 797.92 Q2273.45 805.027 2275.26 808.592 Q2277.09 812.133 2280.7 812.133 Q2284.33 812.133 2286.14 808.592 Q2287.97 805.027 2287.97 797.92 Q2287.97 790.791 2286.14 787.249 Q2284.33 783.684 2280.7 783.684 M2280.7 779.981 Q2286.51 779.981 2289.57 784.587 Q2292.64 789.17 2292.64 797.92 Q2292.64 806.647 2289.57 811.254 Q2286.51 815.837 2280.7 815.837 Q2274.89 815.837 2271.81 811.254 Q2268.76 806.647 2268.76 797.92 Q2268.76 789.17 2271.81 784.587 Q2274.89 779.981 2280.7 779.981 Z\" fill=\"#000000\" fill-rule=\"evenodd\" fill-opacity=\"1\" /><path clip-path=\"url(#clip850)\" d=\"M 0 0 M2297.71 809.286 L2302.6 809.286 L2302.6 815.166 L2297.71 815.166 L2297.71 809.286 Z\" fill=\"#000000\" fill-rule=\"evenodd\" fill-opacity=\"1\" /><path clip-path=\"url(#clip850)\" d=\"M 0 0 M2306.49 780.606 L2328.71 780.606 L2328.71 782.596 L2316.16 815.166 L2311.28 815.166 L2323.08 784.541 L2306.49 784.541 L2306.49 780.606 Z\" fill=\"#000000\" fill-rule=\"evenodd\" fill-opacity=\"1\" /><path clip-path=\"url(#clip850)\" d=\"M 0 0 M2333.83 780.606 L2352.18 780.606 L2352.18 784.541 L2338.11 784.541 L2338.11 793.013 Q2339.13 792.666 2340.14 792.504 Q2341.16 792.319 2342.18 792.319 Q2347.97 792.319 2351.35 795.49 Q2354.73 798.661 2354.73 804.078 Q2354.73 809.656 2351.26 812.758 Q2347.78 815.837 2341.46 815.837 Q2339.29 815.837 2337.02 815.467 Q2334.77 815.096 2332.37 814.355 L2332.37 809.656 Q2334.45 810.791 2336.67 811.346 Q2338.89 811.902 2341.37 811.902 Q2345.38 811.902 2347.71 809.795 Q2350.05 807.689 2350.05 804.078 Q2350.05 800.467 2347.71 798.36 Q2345.38 796.254 2341.37 796.254 Q2339.5 796.254 2337.62 796.67 Q2335.77 797.087 2333.83 797.967 L2333.83 780.606 Z\" fill=\"#000000\" fill-rule=\"evenodd\" fill-opacity=\"1\" /><path clip-path=\"url(#clip850)\" d=\"M 0 0 M2369.8 783.684 Q2366.19 783.684 2364.36 787.249 Q2362.55 790.791 2362.55 797.92 Q2362.55 805.027 2364.36 808.592 Q2366.19 812.133 2369.8 812.133 Q2373.43 812.133 2375.24 808.592 Q2377.07 805.027 2377.07 797.92 Q2377.07 790.791 2375.24 787.249 Q2373.43 783.684 2369.8 783.684 M2369.8 779.981 Q2375.61 779.981 2378.66 784.587 Q2381.74 789.17 2381.74 797.92 Q2381.74 806.647 2378.66 811.254 Q2375.61 815.837 2369.8 815.837 Q2363.99 815.837 2360.91 811.254 Q2357.85 806.647 2357.85 797.92 Q2357.85 789.17 2360.91 784.587 Q2363.99 779.981 2369.8 779.981 Z\" fill=\"#000000\" fill-rule=\"evenodd\" fill-opacity=\"1\" /><path clip-path=\"url(#clip850)\" d=\"M 0 0 M2280.7 626.438 Q2277.09 626.438 2275.26 630.003 Q2273.45 633.545 2273.45 640.674 Q2273.45 647.781 2275.26 651.345 Q2277.09 654.887 2280.7 654.887 Q2284.33 654.887 2286.14 651.345 Q2287.97 647.781 2287.97 640.674 Q2287.97 633.545 2286.14 630.003 Q2284.33 626.438 2280.7 626.438 M2280.7 622.734 Q2286.51 622.734 2289.57 627.341 Q2292.64 631.924 2292.64 640.674 Q2292.64 649.401 2289.57 654.007 Q2286.51 658.591 2280.7 658.591 Q2274.89 658.591 2271.81 654.007 Q2268.76 649.401 2268.76 640.674 Q2268.76 631.924 2271.81 627.341 Q2274.89 622.734 2280.7 622.734 Z\" fill=\"#000000\" fill-rule=\"evenodd\" fill-opacity=\"1\" /><path clip-path=\"url(#clip850)\" d=\"M 0 0 M2297.71 652.04 L2302.6 652.04 L2302.6 657.919 L2297.71 657.919 L2297.71 652.04 Z\" fill=\"#000000\" fill-rule=\"evenodd\" fill-opacity=\"1\" /><path clip-path=\"url(#clip850)\" d=\"M 0 0 M2306.49 623.359 L2328.71 623.359 L2328.71 625.35 L2316.16 657.919 L2311.28 657.919 L2323.08 627.295 L2306.49 627.295 L2306.49 623.359 Z\" fill=\"#000000\" fill-rule=\"evenodd\" fill-opacity=\"1\" /><path clip-path=\"url(#clip850)\" d=\"M 0 0 M2332.6 623.359 L2354.82 623.359 L2354.82 625.35 L2342.27 657.919 L2337.39 657.919 L2349.2 627.295 L2332.6 627.295 L2332.6 623.359 Z\" fill=\"#000000\" fill-rule=\"evenodd\" fill-opacity=\"1\" /><path clip-path=\"url(#clip850)\" d=\"M 0 0 M2359.94 623.359 L2378.29 623.359 L2378.29 627.295 L2364.22 627.295 L2364.22 635.767 Q2365.24 635.42 2366.26 635.258 Q2367.27 635.072 2368.29 635.072 Q2374.08 635.072 2377.46 638.244 Q2380.84 641.415 2380.84 646.832 Q2380.84 652.41 2377.37 655.512 Q2373.89 658.591 2367.57 658.591 Q2365.4 658.591 2363.13 658.22 Q2360.89 657.85 2358.48 657.109 L2358.48 652.41 Q2360.56 653.544 2362.78 654.1 Q2365.01 654.656 2367.48 654.656 Q2371.49 654.656 2373.82 652.549 Q2376.16 650.443 2376.16 646.832 Q2376.16 643.22 2373.82 641.114 Q2371.49 639.007 2367.48 639.007 Q2365.61 639.007 2363.73 639.424 Q2361.88 639.841 2359.94 640.72 L2359.94 623.359 Z\" fill=\"#000000\" fill-rule=\"evenodd\" fill-opacity=\"1\" /><path clip-path=\"url(#clip850)\" d=\"M 0 0 M2280.7 469.192 Q2277.09 469.192 2275.26 472.757 Q2273.45 476.298 2273.45 483.428 Q2273.45 490.534 2275.26 494.099 Q2277.09 497.641 2280.7 497.641 Q2284.33 497.641 2286.14 494.099 Q2287.97 490.534 2287.97 483.428 Q2287.97 476.298 2286.14 472.757 Q2284.33 469.192 2280.7 469.192 M2280.7 465.488 Q2286.51 465.488 2289.57 470.095 Q2292.64 474.678 2292.64 483.428 Q2292.64 492.155 2289.57 496.761 Q2286.51 501.345 2280.7 501.345 Q2274.89 501.345 2271.81 496.761 Q2268.76 492.155 2268.76 483.428 Q2268.76 474.678 2271.81 470.095 Q2274.89 465.488 2280.7 465.488 Z\" fill=\"#000000\" fill-rule=\"evenodd\" fill-opacity=\"1\" /><path clip-path=\"url(#clip850)\" d=\"M 0 0 M2297.71 494.794 L2302.6 494.794 L2302.6 500.673 L2297.71 500.673 L2297.71 494.794 Z\" fill=\"#000000\" fill-rule=\"evenodd\" fill-opacity=\"1\" /><path clip-path=\"url(#clip850)\" d=\"M 0 0 M2317.67 484.261 Q2314.33 484.261 2312.41 486.044 Q2310.51 487.826 2310.51 490.951 Q2310.51 494.076 2312.41 495.858 Q2314.33 497.641 2317.67 497.641 Q2321 497.641 2322.92 495.858 Q2324.84 494.053 2324.84 490.951 Q2324.84 487.826 2322.92 486.044 Q2321.02 484.261 2317.67 484.261 M2312.99 482.271 Q2309.98 481.53 2308.29 479.47 Q2306.63 477.409 2306.63 474.447 Q2306.63 470.303 2309.57 467.896 Q2312.53 465.488 2317.67 465.488 Q2322.83 465.488 2325.77 467.896 Q2328.71 470.303 2328.71 474.447 Q2328.71 477.409 2327.02 479.47 Q2325.35 481.53 2322.37 482.271 Q2325.75 483.058 2327.62 485.349 Q2329.52 487.641 2329.52 490.951 Q2329.52 495.974 2326.44 498.659 Q2323.39 501.345 2317.67 501.345 Q2311.95 501.345 2308.87 498.659 Q2305.82 495.974 2305.82 490.951 Q2305.82 487.641 2307.71 485.349 Q2309.61 483.058 2312.99 482.271 M2311.28 474.886 Q2311.28 477.572 2312.95 479.076 Q2314.64 480.581 2317.67 480.581 Q2320.68 480.581 2322.37 479.076 Q2324.08 477.572 2324.08 474.886 Q2324.08 472.201 2322.37 470.697 Q2320.68 469.192 2317.67 469.192 Q2314.64 469.192 2312.95 470.697 Q2311.28 472.201 2311.28 474.886 Z\" fill=\"#000000\" fill-rule=\"evenodd\" fill-opacity=\"1\" /><path clip-path=\"url(#clip850)\" d=\"M 0 0 M2344.59 469.192 Q2340.98 469.192 2339.15 472.757 Q2337.34 476.298 2337.34 483.428 Q2337.34 490.534 2339.15 494.099 Q2340.98 497.641 2344.59 497.641 Q2348.22 497.641 2350.03 494.099 Q2351.86 490.534 2351.86 483.428 Q2351.86 476.298 2350.03 472.757 Q2348.22 469.192 2344.59 469.192 M2344.59 465.488 Q2350.4 465.488 2353.45 470.095 Q2356.53 474.678 2356.53 483.428 Q2356.53 492.155 2353.45 496.761 Q2350.4 501.345 2344.59 501.345 Q2338.78 501.345 2335.7 496.761 Q2332.64 492.155 2332.64 483.428 Q2332.64 474.678 2335.7 470.095 Q2338.78 465.488 2344.59 465.488 Z\" fill=\"#000000\" fill-rule=\"evenodd\" fill-opacity=\"1\" /><path clip-path=\"url(#clip850)\" d=\"M 0 0 M2371.6 469.192 Q2367.99 469.192 2366.16 472.757 Q2364.36 476.298 2364.36 483.428 Q2364.36 490.534 2366.16 494.099 Q2367.99 497.641 2371.6 497.641 Q2375.24 497.641 2377.04 494.099 Q2378.87 490.534 2378.87 483.428 Q2378.87 476.298 2377.04 472.757 Q2375.24 469.192 2371.6 469.192 M2371.6 465.488 Q2377.41 465.488 2380.47 470.095 Q2383.55 474.678 2383.55 483.428 Q2383.55 492.155 2380.47 496.761 Q2377.41 501.345 2371.6 501.345 Q2365.79 501.345 2362.71 496.761 Q2359.66 492.155 2359.66 483.428 Q2359.66 474.678 2362.71 470.095 Q2365.79 465.488 2371.6 465.488 Z\" fill=\"#000000\" fill-rule=\"evenodd\" fill-opacity=\"1\" /><path clip-path=\"url(#clip850)\" d=\"M 0 0 M2280.7 311.946 Q2277.09 311.946 2275.26 315.511 Q2273.45 319.052 2273.45 326.182 Q2273.45 333.288 2275.26 336.853 Q2277.09 340.395 2280.7 340.395 Q2284.33 340.395 2286.14 336.853 Q2287.97 333.288 2287.97 326.182 Q2287.97 319.052 2286.14 315.511 Q2284.33 311.946 2280.7 311.946 M2280.7 308.242 Q2286.51 308.242 2289.57 312.849 Q2292.64 317.432 2292.64 326.182 Q2292.64 334.909 2289.57 339.515 Q2286.51 344.098 2280.7 344.098 Q2274.89 344.098 2271.81 339.515 Q2268.76 334.909 2268.76 326.182 Q2268.76 317.432 2271.81 312.849 Q2274.89 308.242 2280.7 308.242 Z\" fill=\"#000000\" fill-rule=\"evenodd\" fill-opacity=\"1\" /><path clip-path=\"url(#clip850)\" d=\"M 0 0 M2297.71 337.547 L2302.6 337.547 L2302.6 343.427 L2297.71 343.427 L2297.71 337.547 Z\" fill=\"#000000\" fill-rule=\"evenodd\" fill-opacity=\"1\" /><path clip-path=\"url(#clip850)\" d=\"M 0 0 M2317.67 327.015 Q2314.33 327.015 2312.41 328.798 Q2310.51 330.58 2310.51 333.705 Q2310.51 336.83 2312.41 338.612 Q2314.33 340.395 2317.67 340.395 Q2321 340.395 2322.92 338.612 Q2324.84 336.807 2324.84 333.705 Q2324.84 330.58 2322.92 328.798 Q2321.02 327.015 2317.67 327.015 M2312.99 325.024 Q2309.98 324.284 2308.29 322.223 Q2306.63 320.163 2306.63 317.2 Q2306.63 313.057 2309.57 310.649 Q2312.53 308.242 2317.67 308.242 Q2322.83 308.242 2325.77 310.649 Q2328.71 313.057 2328.71 317.2 Q2328.71 320.163 2327.02 322.223 Q2325.35 324.284 2322.37 325.024 Q2325.75 325.811 2327.62 328.103 Q2329.52 330.395 2329.52 333.705 Q2329.52 338.728 2326.44 341.413 Q2323.39 344.098 2317.67 344.098 Q2311.95 344.098 2308.87 341.413 Q2305.82 338.728 2305.82 333.705 Q2305.82 330.395 2307.71 328.103 Q2309.61 325.811 2312.99 325.024 M2311.28 317.64 Q2311.28 320.325 2312.95 321.83 Q2314.64 323.335 2317.67 323.335 Q2320.68 323.335 2322.37 321.83 Q2324.08 320.325 2324.08 317.64 Q2324.08 314.955 2322.37 313.45 Q2320.68 311.946 2317.67 311.946 Q2314.64 311.946 2312.95 313.45 Q2311.28 314.955 2311.28 317.64 Z\" fill=\"#000000\" fill-rule=\"evenodd\" fill-opacity=\"1\" /><path clip-path=\"url(#clip850)\" d=\"M 0 0 M2338.62 339.492 L2354.94 339.492 L2354.94 343.427 L2332.99 343.427 L2332.99 339.492 Q2335.65 336.737 2340.24 332.108 Q2344.84 327.455 2346.02 326.112 Q2348.27 323.589 2349.15 321.853 Q2350.05 320.094 2350.05 318.404 Q2350.05 315.649 2348.11 313.913 Q2346.19 312.177 2343.08 312.177 Q2340.89 312.177 2338.43 312.941 Q2336 313.705 2333.22 315.256 L2333.22 310.534 Q2336.05 309.399 2338.5 308.821 Q2340.95 308.242 2342.99 308.242 Q2348.36 308.242 2351.56 310.927 Q2354.75 313.612 2354.75 318.103 Q2354.75 320.233 2353.94 322.154 Q2353.15 324.052 2351.05 326.645 Q2350.47 327.316 2347.37 330.534 Q2344.26 333.728 2338.62 339.492 Z\" fill=\"#000000\" fill-rule=\"evenodd\" fill-opacity=\"1\" /><path clip-path=\"url(#clip850)\" d=\"M 0 0 M2360.05 308.867 L2378.41 308.867 L2378.41 312.802 L2364.33 312.802 L2364.33 321.274 Q2365.35 320.927 2366.37 320.765 Q2367.39 320.58 2368.41 320.58 Q2374.2 320.58 2377.57 323.751 Q2380.95 326.923 2380.95 332.339 Q2380.95 337.918 2377.48 341.02 Q2374.01 344.098 2367.69 344.098 Q2365.51 344.098 2363.25 343.728 Q2361 343.358 2358.59 342.617 L2358.59 337.918 Q2360.68 339.052 2362.9 339.608 Q2365.12 340.163 2367.6 340.163 Q2371.6 340.163 2373.94 338.057 Q2376.28 335.95 2376.28 332.339 Q2376.28 328.728 2373.94 326.622 Q2371.6 324.515 2367.6 324.515 Q2365.72 324.515 2363.85 324.932 Q2362 325.348 2360.05 326.228 L2360.05 308.867 Z\" fill=\"#000000\" fill-rule=\"evenodd\" fill-opacity=\"1\" /><path clip-path=\"url(#clip850)\" d=\"M 0 0 M2280.7 154.7 Q2277.09 154.7 2275.26 158.264 Q2273.45 161.806 2273.45 168.936 Q2273.45 176.042 2275.26 179.607 Q2277.09 183.148 2280.7 183.148 Q2284.33 183.148 2286.14 179.607 Q2287.97 176.042 2287.97 168.936 Q2287.97 161.806 2286.14 158.264 Q2284.33 154.7 2280.7 154.7 M2280.7 150.996 Q2286.51 150.996 2289.57 155.602 Q2292.64 160.186 2292.64 168.936 Q2292.64 177.662 2289.57 182.269 Q2286.51 186.852 2280.7 186.852 Q2274.89 186.852 2271.81 182.269 Q2268.76 177.662 2268.76 168.936 Q2268.76 160.186 2271.81 155.602 Q2274.89 150.996 2280.7 150.996 Z\" fill=\"#000000\" fill-rule=\"evenodd\" fill-opacity=\"1\" /><path clip-path=\"url(#clip850)\" d=\"M 0 0 M2297.71 180.301 L2302.6 180.301 L2302.6 186.181 L2297.71 186.181 L2297.71 180.301 Z\" fill=\"#000000\" fill-rule=\"evenodd\" fill-opacity=\"1\" /><path clip-path=\"url(#clip850)\" d=\"M 0 0 M2317.67 169.769 Q2314.33 169.769 2312.41 171.551 Q2310.51 173.334 2310.51 176.459 Q2310.51 179.584 2312.41 181.366 Q2314.33 183.148 2317.67 183.148 Q2321 183.148 2322.92 181.366 Q2324.84 179.561 2324.84 176.459 Q2324.84 173.334 2322.92 171.551 Q2321.02 169.769 2317.67 169.769 M2312.99 167.778 Q2309.98 167.037 2308.29 164.977 Q2306.63 162.917 2306.63 159.954 Q2306.63 155.811 2309.57 153.403 Q2312.53 150.996 2317.67 150.996 Q2322.83 150.996 2325.77 153.403 Q2328.71 155.811 2328.71 159.954 Q2328.71 162.917 2327.02 164.977 Q2325.35 167.037 2322.37 167.778 Q2325.75 168.565 2327.62 170.857 Q2329.52 173.149 2329.52 176.459 Q2329.52 181.482 2326.44 184.167 Q2323.39 186.852 2317.67 186.852 Q2311.95 186.852 2308.87 184.167 Q2305.82 181.482 2305.82 176.459 Q2305.82 173.149 2307.71 170.857 Q2309.61 168.565 2312.99 167.778 M2311.28 160.394 Q2311.28 163.079 2312.95 164.584 Q2314.64 166.088 2317.67 166.088 Q2320.68 166.088 2322.37 164.584 Q2324.08 163.079 2324.08 160.394 Q2324.08 157.709 2322.37 156.204 Q2320.68 154.7 2317.67 154.7 Q2314.64 154.7 2312.95 156.204 Q2311.28 157.709 2311.28 160.394 Z\" fill=\"#000000\" fill-rule=\"evenodd\" fill-opacity=\"1\" /><path clip-path=\"url(#clip850)\" d=\"M 0 0 M2334.64 151.621 L2352.99 151.621 L2352.99 155.556 L2338.92 155.556 L2338.92 164.028 Q2339.94 163.681 2340.95 163.519 Q2341.97 163.334 2342.99 163.334 Q2348.78 163.334 2352.16 166.505 Q2355.54 169.676 2355.54 175.093 Q2355.54 180.672 2352.07 183.773 Q2348.59 186.852 2342.27 186.852 Q2340.1 186.852 2337.83 186.482 Q2335.58 186.111 2333.18 185.371 L2333.18 180.672 Q2335.26 181.806 2337.48 182.361 Q2339.7 182.917 2342.18 182.917 Q2346.19 182.917 2348.52 180.811 Q2350.86 178.704 2350.86 175.093 Q2350.86 171.482 2348.52 169.375 Q2346.19 167.269 2342.18 167.269 Q2340.31 167.269 2338.43 167.686 Q2336.58 168.102 2334.64 168.982 L2334.64 151.621 Z\" fill=\"#000000\" fill-rule=\"evenodd\" fill-opacity=\"1\" /><path clip-path=\"url(#clip850)\" d=\"M 0 0 M2370.61 154.7 Q2367 154.7 2365.17 158.264 Q2363.36 161.806 2363.36 168.936 Q2363.36 176.042 2365.17 179.607 Q2367 183.148 2370.61 183.148 Q2374.24 183.148 2376.05 179.607 Q2377.88 176.042 2377.88 168.936 Q2377.88 161.806 2376.05 158.264 Q2374.24 154.7 2370.61 154.7 M2370.61 150.996 Q2376.42 150.996 2379.47 155.602 Q2382.55 160.186 2382.55 168.936 Q2382.55 177.662 2379.47 182.269 Q2376.42 186.852 2370.61 186.852 Q2364.8 186.852 2361.72 182.269 Q2358.66 177.662 2358.66 168.936 Q2358.66 160.186 2361.72 155.602 Q2364.8 150.996 2370.61 150.996 Z\" fill=\"#000000\" fill-rule=\"evenodd\" fill-opacity=\"1\" /><polyline clip-path=\"url(#clip850)\" style=\"stroke:#000000; stroke-width:4; stroke-opacity:1; fill:none\" points=\"\n",
       "  2232.76,1410.9 2232.76,1273.25 2256.76,1273.25 2232.76,1273.25 2232.76,1116.01 2256.76,1116.01 2232.76,1116.01 2232.76,958.761 2256.76,958.761 2232.76,958.761 \n",
       "  2232.76,801.514 2256.76,801.514 2232.76,801.514 2232.76,644.268 2256.76,644.268 2232.76,644.268 2232.76,487.022 2256.76,487.022 2232.76,487.022 2232.76,329.776 \n",
       "  2256.76,329.776 2232.76,329.776 2232.76,172.53 2256.76,172.53 2232.76,172.53 2232.76,47.2441 \n",
       "  \"/>\n",
       "</svg>\n"
      ]
     },
     "execution_count": 27,
     "metadata": {},
     "output_type": "execute_result"
    }
   ],
   "source": [
    "plot(self_tuning_svm_mach)"
   ]
  },
  {
   "cell_type": "code",
   "execution_count": 28,
   "metadata": {},
   "outputs": [
    {
     "data": {
      "text/plain": [
       "(best_model = \u001b[34mSVMClassifier @921\u001b[39m,\n",
       " best_fitted_params = (support = Int32[9, 10, 17, 21, 38, 50, 56, 70, 76, 83  …  671, 673, 682, 683, 693, 698, 705, 718, 724, 733],\n",
       "                       support_vectors = [-0.06293158750101487 -0.003529098543253602 … 0.0 0.0; 0.6128627841769588 1.4961156506680369 … 0.0 0.0; … ; -0.22183458840908007 0.6674026980392109 … 0.0 0.0; 0.006474320941586662 -0.24020083261279573 … 0.0 0.0],\n",
       "                       n_support = Int32[126, 122],\n",
       "                       dual_coef = [-1.3912797011035627e6 -1.3912797011035627e6 … 1.3912797011035627e6 1.3912797011035627e6],\n",
       "                       coef = nothing,\n",
       "                       intercept = [-150.49878928356304],\n",
       "                       fit_status = 0,\n",
       "                       classes = UInt32[0x00000001, 0x00000002],),)"
      ]
     },
     "execution_count": 28,
     "metadata": {},
     "output_type": "execute_result"
    }
   ],
   "source": [
    "best_rbf = fitted_params(self_tuning_svm_mach)\n",
    "best_rbf"
   ]
  },
  {
   "cell_type": "code",
   "execution_count": 29,
   "metadata": {},
   "outputs": [
    {
     "data": {
      "text/plain": [
       "SVMClassifier(\n",
       "    C = 1.3912797011035627e6,\n",
       "    kernel = \"rbf\",\n",
       "    degree = 3,\n",
       "    gamma = 1.0e-7,\n",
       "    coef0 = 0.0,\n",
       "    shrinking = true,\n",
       "    tol = 0.001,\n",
       "    cache_size = 1000,\n",
       "    max_iter = -1,\n",
       "    decision_function_shape = \"ovr\",\n",
       "    random_state = nothing)\u001b[34m @921\u001b[39m"
      ]
     },
     "execution_count": 29,
     "metadata": {},
     "output_type": "execute_result"
    }
   ],
   "source": [
    "best_rbf.best_model"
   ]
  },
  {
   "cell_type": "code",
   "execution_count": 30,
   "metadata": {},
   "outputs": [
    {
     "data": {
      "text/plain": [
       "0.86992"
      ]
     },
     "execution_count": 30,
     "metadata": {},
     "output_type": "execute_result"
    }
   ],
   "source": [
    "best_loss = round(z.report.best_result.measurement[1],digits=5)"
   ]
  },
  {
   "cell_type": "code",
   "execution_count": 31,
   "metadata": {},
   "outputs": [],
   "source": [
    "# fn = \"Figures/LearningCurve_DT_merge_purity_thresh:$(best_mpt)_loss:$(best_loss)\"\n",
    "# png(replace(fn,'.' => ','))"
   ]
  },
  {
   "cell_type": "markdown",
   "metadata": {},
   "source": [
    "##### More fitting"
   ]
  },
  {
   "cell_type": "code",
   "execution_count": 32,
   "metadata": {
    "scrolled": true
   },
   "outputs": [
    {
     "name": "stderr",
     "output_type": "stream",
     "text": [
      "┌ Warning: The scitype of `X`, in `machine(model, X, ...)` is incompatible with `model=\u001b[34mSVMClassifier @519\u001b[39m`:\n",
      "│ scitype(X) = Table{Union{AbstractArray{Continuous,1}, AbstractArray{Count,1}}}\n",
      "│ input_scitype(model) = Table{var\"#s44\"} where var\"#s44\"<:(AbstractArray{var\"#s13\",1} where var\"#s13\"<:Continuous).\n",
      "└ @ MLJBase /home/andrew/.julia/packages/MLJBase/uKzAz/src/machines.jl:77\n",
      "┌ Info: Training \u001b[34mMachine{SVMClassifier} @455\u001b[39m.\n",
      "└ @ MLJBase /home/andrew/.julia/packages/MLJBase/uKzAz/src/machines.jl:319\n",
      "\u001b[33mEvaluating over 6 folds: 100%[=========================] Time: 0:00:00\u001b[39m\n"
     ]
    },
    {
     "data": {
      "text/plain": [
       "┌\u001b[0m───────────\u001b[0m┬\u001b[0m───────────────\u001b[0m┬\u001b[0m────────────────────────────────────────────\u001b[0m┐\u001b[0m\n",
       "│\u001b[0m\u001b[22m _.measure \u001b[0m│\u001b[0m\u001b[22m _.measurement \u001b[0m│\u001b[0m\u001b[22m _.per_fold                                 \u001b[0m│\u001b[0m\n",
       "├\u001b[0m───────────\u001b[0m┼\u001b[0m───────────────\u001b[0m┼\u001b[0m────────────────────────────────────────────\u001b[0m┤\u001b[0m\n",
       "│\u001b[0m accuracy  \u001b[0m│\u001b[0m 0.876         \u001b[0m│\u001b[0m [0.847, 0.886, 0.864, 0.898, 0.909, 0.851] \u001b[0m│\u001b[0m\n",
       "└\u001b[0m───────────\u001b[0m┴\u001b[0m───────────────\u001b[0m┴\u001b[0m────────────────────────────────────────────\u001b[0m┘\u001b[0m\n",
       "_.per_observation = [missing]\n",
       "_.fitted_params_per_fold = [ … ]\n",
       "_.report_per_fold = [ … ]\n"
      ]
     },
     "execution_count": 32,
     "metadata": {},
     "output_type": "execute_result"
    }
   ],
   "source": [
    "best_linear_model = SVMClassifier(kernel=\"linear\", C = best_C)\n",
    "svm_mach = machine(best_linear_model, X_stand, y)\n",
    "lf = fit!(svm_mach, rows=train, verbosity=2)\n",
    "svm_acc = evaluate!(svm_mach, resampling=CV(shuffle=true), measure=[accuracy], \n",
    "                        verbosity=1)"
   ]
  },
  {
   "cell_type": "code",
   "execution_count": 33,
   "metadata": {},
   "outputs": [
    {
     "name": "stderr",
     "output_type": "stream",
     "text": [
      "┌ Warning: The scitype of `X`, in `machine(model, X, ...)` is incompatible with `model=\u001b[34mSVMClassifier @974\u001b[39m`:\n",
      "│ scitype(X) = Table{Union{AbstractArray{Continuous,1}, AbstractArray{Count,1}}}\n",
      "│ input_scitype(model) = Table{var\"#s44\"} where var\"#s44\"<:(AbstractArray{var\"#s13\",1} where var\"#s13\"<:Continuous).\n",
      "└ @ MLJBase /home/andrew/.julia/packages/MLJBase/uKzAz/src/machines.jl:77\n",
      "┌ Info: Training \u001b[34mMachine{SVMClassifier} @962\u001b[39m.\n",
      "└ @ MLJBase /home/andrew/.julia/packages/MLJBase/uKzAz/src/machines.jl:319\n",
      "\u001b[33mEvaluating over 6 folds: 100%[=========================] Time: 0:00:00\u001b[39m\n"
     ]
    },
    {
     "data": {
      "text/plain": [
       "┌\u001b[0m───────────\u001b[0m┬\u001b[0m───────────────\u001b[0m┬\u001b[0m────────────────────────────────────────────\u001b[0m┐\u001b[0m\n",
       "│\u001b[0m\u001b[22m _.measure \u001b[0m│\u001b[0m\u001b[22m _.measurement \u001b[0m│\u001b[0m\u001b[22m _.per_fold                                 \u001b[0m│\u001b[0m\n",
       "├\u001b[0m───────────\u001b[0m┼\u001b[0m───────────────\u001b[0m┼\u001b[0m────────────────────────────────────────────\u001b[0m┤\u001b[0m\n",
       "│\u001b[0m accuracy  \u001b[0m│\u001b[0m 0.871         \u001b[0m│\u001b[0m [0.875, 0.869, 0.903, 0.812, 0.858, 0.909] \u001b[0m│\u001b[0m\n",
       "└\u001b[0m───────────\u001b[0m┴\u001b[0m───────────────\u001b[0m┴\u001b[0m────────────────────────────────────────────\u001b[0m┘\u001b[0m\n",
       "_.per_observation = [missing]\n",
       "_.fitted_params_per_fold = [ … ]\n",
       "_.report_per_fold = [ … ]\n"
      ]
     },
     "execution_count": 33,
     "metadata": {},
     "output_type": "execute_result"
    }
   ],
   "source": [
    "best_rbf_model = SVMClassifier(kernel=\"rbf\", C=best_rbf.best_model.C, gamma=best_rbf.best_model.gamma)\n",
    "svm_mach = machine(best_rbf_model, X_stand, y)\n",
    "fit!(svm_mach, rows=train, verbosity=2)\n",
    "svm_acc = evaluate!(svm_mach, resampling=CV(shuffle=true), measure=[accuracy], \n",
    "                        verbosity=1)"
   ]
  },
  {
   "cell_type": "markdown",
   "metadata": {},
   "source": [
    "### Learning Curves"
   ]
  },
  {
   "cell_type": "code",
   "execution_count": 34,
   "metadata": {
    "scrolled": true
   },
   "outputs": [
    {
     "name": "stdout",
     "output_type": "stream",
     "text": [
      "(d, train_metric, valid_metric) = (10, 1.0, 0.6959459459459459)\n",
      "(d, train_metric, valid_metric) = (15, 1.0, 0.7432432432432432)\n",
      "(d, train_metric, valid_metric) = (20, 1.0, 0.75)\n",
      "(d, train_metric, valid_metric) = (25, 1.0, 0.7635135135135135)\n",
      "(d, train_metric, valid_metric) = (30, 1.0, 0.7972972972972973)\n",
      "(d, train_metric, valid_metric) = (35, 1.0, 0.7972972972972973)\n",
      "(d, train_metric, valid_metric) = (40, 1.0, 0.7837837837837838)\n",
      "(d, train_metric, valid_metric) = (45, 1.0, 0.7837837837837838)\n",
      "(d, train_metric, valid_metric) = (50, 1.0, 0.7635135135135135)\n",
      "(d, train_metric, valid_metric) = (55, 1.0, 0.75)\n",
      "(d, train_metric, valid_metric) = (60, 0.9666666666666667, 0.7905405405405406)\n",
      "(d, train_metric, valid_metric) = (65, 0.9846153846153847, 0.7972972972972973)\n",
      "(d, train_metric, valid_metric) = (70, 0.9571428571428572, 0.8108108108108107)\n",
      "(d, train_metric, valid_metric) = (75, 0.9333333333333333, 0.8175675675675675)\n",
      "(d, train_metric, valid_metric) = (80, 0.9125, 0.8040540540540541)\n"
     ]
    },
    {
     "name": "stderr",
     "output_type": "stream",
     "text": [
      "┌ Warning: The scitype of `X`, in `machine(model, X, ...)` is incompatible with `model=\u001b[34mSVMClassifier @519\u001b[39m`:\n",
      "│ scitype(X) = Table{Union{AbstractArray{Continuous,1}, AbstractArray{Count,1}}}\n",
      "│ input_scitype(model) = Table{var\"#s44\"} where var\"#s44\"<:(AbstractArray{var\"#s13\",1} where var\"#s13\"<:Continuous).\n",
      "└ @ MLJBase /home/andrew/.julia/packages/MLJBase/uKzAz/src/machines.jl:77\n",
      "┌ Warning: The scitype of `X`, in `machine(model, X, ...)` is incompatible with `model=\u001b[34mSVMClassifier @519\u001b[39m`:\n",
      "│ scitype(X) = Table{Union{AbstractArray{Continuous,1}, AbstractArray{Count,1}}}\n",
      "│ input_scitype(model) = Table{var\"#s44\"} where var\"#s44\"<:(AbstractArray{var\"#s13\",1} where var\"#s13\"<:Continuous).\n",
      "└ @ MLJBase /home/andrew/.julia/packages/MLJBase/uKzAz/src/machines.jl:77\n",
      "┌ Warning: The scitype of `X`, in `machine(model, X, ...)` is incompatible with `model=\u001b[34mSVMClassifier @519\u001b[39m`:\n",
      "│ scitype(X) = Table{Union{AbstractArray{Continuous,1}, AbstractArray{Count,1}}}\n",
      "│ input_scitype(model) = Table{var\"#s44\"} where var\"#s44\"<:(AbstractArray{var\"#s13\",1} where var\"#s13\"<:Continuous).\n",
      "└ @ MLJBase /home/andrew/.julia/packages/MLJBase/uKzAz/src/machines.jl:77\n",
      "┌ Warning: The scitype of `X`, in `machine(model, X, ...)` is incompatible with `model=\u001b[34mSVMClassifier @519\u001b[39m`:\n",
      "│ scitype(X) = Table{Union{AbstractArray{Continuous,1}, AbstractArray{Count,1}}}\n",
      "│ input_scitype(model) = Table{var\"#s44\"} where var\"#s44\"<:(AbstractArray{var\"#s13\",1} where var\"#s13\"<:Continuous).\n",
      "└ @ MLJBase /home/andrew/.julia/packages/MLJBase/uKzAz/src/machines.jl:77\n",
      "┌ Warning: The scitype of `X`, in `machine(model, X, ...)` is incompatible with `model=\u001b[34mSVMClassifier @519\u001b[39m`:\n",
      "│ scitype(X) = Table{Union{AbstractArray{Continuous,1}, AbstractArray{Count,1}}}\n",
      "│ input_scitype(model) = Table{var\"#s44\"} where var\"#s44\"<:(AbstractArray{var\"#s13\",1} where var\"#s13\"<:Continuous).\n",
      "└ @ MLJBase /home/andrew/.julia/packages/MLJBase/uKzAz/src/machines.jl:77\n",
      "┌ Warning: The scitype of `X`, in `machine(model, X, ...)` is incompatible with `model=\u001b[34mSVMClassifier @519\u001b[39m`:\n",
      "│ scitype(X) = Table{Union{AbstractArray{Continuous,1}, AbstractArray{Count,1}}}\n",
      "│ input_scitype(model) = Table{var\"#s44\"} where var\"#s44\"<:(AbstractArray{var\"#s13\",1} where var\"#s13\"<:Continuous).\n",
      "└ @ MLJBase /home/andrew/.julia/packages/MLJBase/uKzAz/src/machines.jl:77\n",
      "┌ Warning: The scitype of `X`, in `machine(model, X, ...)` is incompatible with `model=\u001b[34mSVMClassifier @519\u001b[39m`:\n",
      "│ scitype(X) = Table{Union{AbstractArray{Continuous,1}, AbstractArray{Count,1}}}\n",
      "│ input_scitype(model) = Table{var\"#s44\"} where var\"#s44\"<:(AbstractArray{var\"#s13\",1} where var\"#s13\"<:Continuous).\n",
      "└ @ MLJBase /home/andrew/.julia/packages/MLJBase/uKzAz/src/machines.jl:77\n",
      "┌ Warning: The scitype of `X`, in `machine(model, X, ...)` is incompatible with `model=\u001b[34mSVMClassifier @519\u001b[39m`:\n",
      "│ scitype(X) = Table{Union{AbstractArray{Continuous,1}, AbstractArray{Count,1}}}\n",
      "│ input_scitype(model) = Table{var\"#s44\"} where var\"#s44\"<:(AbstractArray{var\"#s13\",1} where var\"#s13\"<:Continuous).\n",
      "└ @ MLJBase /home/andrew/.julia/packages/MLJBase/uKzAz/src/machines.jl:77\n",
      "┌ Warning: The scitype of `X`, in `machine(model, X, ...)` is incompatible with `model=\u001b[34mSVMClassifier @519\u001b[39m`:\n",
      "│ scitype(X) = Table{Union{AbstractArray{Continuous,1}, AbstractArray{Count,1}}}\n",
      "│ input_scitype(model) = Table{var\"#s44\"} where var\"#s44\"<:(AbstractArray{var\"#s13\",1} where var\"#s13\"<:Continuous).\n",
      "└ @ MLJBase /home/andrew/.julia/packages/MLJBase/uKzAz/src/machines.jl:77\n",
      "┌ Warning: The scitype of `X`, in `machine(model, X, ...)` is incompatible with `model=\u001b[34mSVMClassifier @519\u001b[39m`:\n",
      "│ scitype(X) = Table{Union{AbstractArray{Continuous,1}, AbstractArray{Count,1}}}\n",
      "│ input_scitype(model) = Table{var\"#s44\"} where var\"#s44\"<:(AbstractArray{var\"#s13\",1} where var\"#s13\"<:Continuous).\n",
      "└ @ MLJBase /home/andrew/.julia/packages/MLJBase/uKzAz/src/machines.jl:77\n",
      "┌ Warning: The scitype of `X`, in `machine(model, X, ...)` is incompatible with `model=\u001b[34mSVMClassifier @519\u001b[39m`:\n",
      "│ scitype(X) = Table{Union{AbstractArray{Continuous,1}, AbstractArray{Count,1}}}\n",
      "│ input_scitype(model) = Table{var\"#s44\"} where var\"#s44\"<:(AbstractArray{var\"#s13\",1} where var\"#s13\"<:Continuous).\n",
      "└ @ MLJBase /home/andrew/.julia/packages/MLJBase/uKzAz/src/machines.jl:77\n",
      "┌ Warning: The scitype of `X`, in `machine(model, X, ...)` is incompatible with `model=\u001b[34mSVMClassifier @519\u001b[39m`:\n",
      "│ scitype(X) = Table{Union{AbstractArray{Continuous,1}, AbstractArray{Count,1}}}\n",
      "│ input_scitype(model) = Table{var\"#s44\"} where var\"#s44\"<:(AbstractArray{var\"#s13\",1} where var\"#s13\"<:Continuous).\n",
      "└ @ MLJBase /home/andrew/.julia/packages/MLJBase/uKzAz/src/machines.jl:77\n",
      "┌ Warning: The scitype of `X`, in `machine(model, X, ...)` is incompatible with `model=\u001b[34mSVMClassifier @519\u001b[39m`:\n",
      "│ scitype(X) = Table{Union{AbstractArray{Continuous,1}, AbstractArray{Count,1}}}\n",
      "│ input_scitype(model) = Table{var\"#s44\"} where var\"#s44\"<:(AbstractArray{var\"#s13\",1} where var\"#s13\"<:Continuous).\n",
      "└ @ MLJBase /home/andrew/.julia/packages/MLJBase/uKzAz/src/machines.jl:77\n",
      "┌ Warning: The scitype of `X`, in `machine(model, X, ...)` is incompatible with `model=\u001b[34mSVMClassifier @519\u001b[39m`:\n",
      "│ scitype(X) = Table{Union{AbstractArray{Continuous,1}, AbstractArray{Count,1}}}\n",
      "│ input_scitype(model) = Table{var\"#s44\"} where var\"#s44\"<:(AbstractArray{var\"#s13\",1} where var\"#s13\"<:Continuous).\n",
      "└ @ MLJBase /home/andrew/.julia/packages/MLJBase/uKzAz/src/machines.jl:77\n",
      "┌ Warning: The scitype of `X`, in `machine(model, X, ...)` is incompatible with `model=\u001b[34mSVMClassifier @519\u001b[39m`:\n",
      "│ scitype(X) = Table{Union{AbstractArray{Continuous,1}, AbstractArray{Count,1}}}\n",
      "│ input_scitype(model) = Table{var\"#s44\"} where var\"#s44\"<:(AbstractArray{var\"#s13\",1} where var\"#s13\"<:Continuous).\n",
      "└ @ MLJBase /home/andrew/.julia/packages/MLJBase/uKzAz/src/machines.jl:77\n",
      "┌ Warning: The scitype of `X`, in `machine(model, X, ...)` is incompatible with `model=\u001b[34mSVMClassifier @519\u001b[39m`:\n",
      "│ scitype(X) = Table{Union{AbstractArray{Continuous,1}, AbstractArray{Count,1}}}\n",
      "│ input_scitype(model) = Table{var\"#s44\"} where var\"#s44\"<:(AbstractArray{var\"#s13\",1} where var\"#s13\"<:Continuous).\n",
      "└ @ MLJBase /home/andrew/.julia/packages/MLJBase/uKzAz/src/machines.jl:77\n",
      "┌ Warning: The scitype of `X`, in `machine(model, X, ...)` is incompatible with `model=\u001b[34mSVMClassifier @519\u001b[39m`:\n",
      "│ scitype(X) = Table{Union{AbstractArray{Continuous,1}, AbstractArray{Count,1}}}\n",
      "│ input_scitype(model) = Table{var\"#s44\"} where var\"#s44\"<:(AbstractArray{var\"#s13\",1} where var\"#s13\"<:Continuous).\n",
      "└ @ MLJBase /home/andrew/.julia/packages/MLJBase/uKzAz/src/machines.jl:77\n",
      "┌ Warning: The scitype of `X`, in `machine(model, X, ...)` is incompatible with `model=\u001b[34mSVMClassifier @519\u001b[39m`:\n",
      "│ scitype(X) = Table{Union{AbstractArray{Continuous,1}, AbstractArray{Count,1}}}\n",
      "│ input_scitype(model) = Table{var\"#s44\"} where var\"#s44\"<:(AbstractArray{var\"#s13\",1} where var\"#s13\"<:Continuous).\n",
      "└ @ MLJBase /home/andrew/.julia/packages/MLJBase/uKzAz/src/machines.jl:77\n",
      "┌ Warning: The scitype of `X`, in `machine(model, X, ...)` is incompatible with `model=\u001b[34mSVMClassifier @519\u001b[39m`:\n",
      "│ scitype(X) = Table{Union{AbstractArray{Continuous,1}, AbstractArray{Count,1}}}\n",
      "│ input_scitype(model) = Table{var\"#s44\"} where var\"#s44\"<:(AbstractArray{var\"#s13\",1} where var\"#s13\"<:Continuous).\n",
      "└ @ MLJBase /home/andrew/.julia/packages/MLJBase/uKzAz/src/machines.jl:77\n",
      "┌ Warning: The scitype of `X`, in `machine(model, X, ...)` is incompatible with `model=\u001b[34mSVMClassifier @519\u001b[39m`:\n",
      "│ scitype(X) = Table{Union{AbstractArray{Continuous,1}, AbstractArray{Count,1}}}\n",
      "│ input_scitype(model) = Table{var\"#s44\"} where var\"#s44\"<:(AbstractArray{var\"#s13\",1} where var\"#s13\"<:Continuous).\n",
      "└ @ MLJBase /home/andrew/.julia/packages/MLJBase/uKzAz/src/machines.jl:77\n",
      "┌ Warning: The scitype of `X`, in `machine(model, X, ...)` is incompatible with `model=\u001b[34mSVMClassifier @519\u001b[39m`:\n",
      "│ scitype(X) = Table{Union{AbstractArray{Continuous,1}, AbstractArray{Count,1}}}\n",
      "│ input_scitype(model) = Table{var\"#s44\"} where var\"#s44\"<:(AbstractArray{var\"#s13\",1} where var\"#s13\"<:Continuous).\n",
      "└ @ MLJBase /home/andrew/.julia/packages/MLJBase/uKzAz/src/machines.jl:77\n",
      "┌ Warning: The scitype of `X`, in `machine(model, X, ...)` is incompatible with `model=\u001b[34mSVMClassifier @519\u001b[39m`:\n",
      "│ scitype(X) = Table{Union{AbstractArray{Continuous,1}, AbstractArray{Count,1}}}\n",
      "│ input_scitype(model) = Table{var\"#s44\"} where var\"#s44\"<:(AbstractArray{var\"#s13\",1} where var\"#s13\"<:Continuous).\n",
      "└ @ MLJBase /home/andrew/.julia/packages/MLJBase/uKzAz/src/machines.jl:77\n",
      "┌ Warning: The scitype of `X`, in `machine(model, X, ...)` is incompatible with `model=\u001b[34mSVMClassifier @519\u001b[39m`:\n",
      "│ scitype(X) = Table{Union{AbstractArray{Continuous,1}, AbstractArray{Count,1}}}\n",
      "│ input_scitype(model) = Table{var\"#s44\"} where var\"#s44\"<:(AbstractArray{var\"#s13\",1} where var\"#s13\"<:Continuous).\n",
      "└ @ MLJBase /home/andrew/.julia/packages/MLJBase/uKzAz/src/machines.jl:77\n",
      "┌ Warning: The scitype of `X`, in `machine(model, X, ...)` is incompatible with `model=\u001b[34mSVMClassifier @519\u001b[39m`:\n",
      "│ scitype(X) = Table{Union{AbstractArray{Continuous,1}, AbstractArray{Count,1}}}\n",
      "│ input_scitype(model) = Table{var\"#s44\"} where var\"#s44\"<:(AbstractArray{var\"#s13\",1} where var\"#s13\"<:Continuous).\n",
      "└ @ MLJBase /home/andrew/.julia/packages/MLJBase/uKzAz/src/machines.jl:77\n",
      "┌ Warning: The scitype of `X`, in `machine(model, X, ...)` is incompatible with `model=\u001b[34mSVMClassifier @519\u001b[39m`:\n",
      "│ scitype(X) = Table{Union{AbstractArray{Continuous,1}, AbstractArray{Count,1}}}\n",
      "│ input_scitype(model) = Table{var\"#s44\"} where var\"#s44\"<:(AbstractArray{var\"#s13\",1} where var\"#s13\"<:Continuous).\n",
      "└ @ MLJBase /home/andrew/.julia/packages/MLJBase/uKzAz/src/machines.jl:77\n",
      "┌ Warning: The scitype of `X`, in `machine(model, X, ...)` is incompatible with `model=\u001b[34mSVMClassifier @519\u001b[39m`:\n",
      "│ scitype(X) = Table{Union{AbstractArray{Continuous,1}, AbstractArray{Count,1}}}\n",
      "│ input_scitype(model) = Table{var\"#s44\"} where var\"#s44\"<:(AbstractArray{var\"#s13\",1} where var\"#s13\"<:Continuous).\n",
      "└ @ MLJBase /home/andrew/.julia/packages/MLJBase/uKzAz/src/machines.jl:77\n",
      "┌ Warning: The scitype of `X`, in `machine(model, X, ...)` is incompatible with `model=\u001b[34mSVMClassifier @519\u001b[39m`:\n",
      "│ scitype(X) = Table{Union{AbstractArray{Continuous,1}, AbstractArray{Count,1}}}\n",
      "│ input_scitype(model) = Table{var\"#s44\"} where var\"#s44\"<:(AbstractArray{var\"#s13\",1} where var\"#s13\"<:Continuous).\n",
      "└ @ MLJBase /home/andrew/.julia/packages/MLJBase/uKzAz/src/machines.jl:77\n",
      "┌ Warning: The scitype of `X`, in `machine(model, X, ...)` is incompatible with `model=\u001b[34mSVMClassifier @519\u001b[39m`:\n",
      "│ scitype(X) = Table{Union{AbstractArray{Continuous,1}, AbstractArray{Count,1}}}\n",
      "│ input_scitype(model) = Table{var\"#s44\"} where var\"#s44\"<:(AbstractArray{var\"#s13\",1} where var\"#s13\"<:Continuous).\n",
      "└ @ MLJBase /home/andrew/.julia/packages/MLJBase/uKzAz/src/machines.jl:77\n",
      "┌ Warning: The scitype of `X`, in `machine(model, X, ...)` is incompatible with `model=\u001b[34mSVMClassifier @519\u001b[39m`:\n",
      "│ scitype(X) = Table{Union{AbstractArray{Continuous,1}, AbstractArray{Count,1}}}\n",
      "│ input_scitype(model) = Table{var\"#s44\"} where var\"#s44\"<:(AbstractArray{var\"#s13\",1} where var\"#s13\"<:Continuous).\n",
      "└ @ MLJBase /home/andrew/.julia/packages/MLJBase/uKzAz/src/machines.jl:77\n",
      "┌ Warning: The scitype of `X`, in `machine(model, X, ...)` is incompatible with `model=\u001b[34mSVMClassifier @519\u001b[39m`:\n",
      "│ scitype(X) = Table{Union{AbstractArray{Continuous,1}, AbstractArray{Count,1}}}\n",
      "│ input_scitype(model) = Table{var\"#s44\"} where var\"#s44\"<:(AbstractArray{var\"#s13\",1} where var\"#s13\"<:Continuous).\n",
      "└ @ MLJBase /home/andrew/.julia/packages/MLJBase/uKzAz/src/machines.jl:77\n",
      "┌ Warning: The scitype of `X`, in `machine(model, X, ...)` is incompatible with `model=\u001b[34mSVMClassifier @519\u001b[39m`:\n",
      "│ scitype(X) = Table{Union{AbstractArray{Continuous,1}, AbstractArray{Count,1}}}\n",
      "│ input_scitype(model) = Table{var\"#s44\"} where var\"#s44\"<:(AbstractArray{var\"#s13\",1} where var\"#s13\"<:Continuous).\n",
      "└ @ MLJBase /home/andrew/.julia/packages/MLJBase/uKzAz/src/machines.jl:77\n",
      "┌ Warning: The scitype of `X`, in `machine(model, X, ...)` is incompatible with `model=\u001b[34mSVMClassifier @519\u001b[39m`:\n",
      "│ scitype(X) = Table{Union{AbstractArray{Continuous,1}, AbstractArray{Count,1}}}\n",
      "│ input_scitype(model) = Table{var\"#s44\"} where var\"#s44\"<:(AbstractArray{var\"#s13\",1} where var\"#s13\"<:Continuous).\n",
      "└ @ MLJBase /home/andrew/.julia/packages/MLJBase/uKzAz/src/machines.jl:77\n",
      "┌ Warning: The scitype of `X`, in `machine(model, X, ...)` is incompatible with `model=\u001b[34mSVMClassifier @519\u001b[39m`:\n",
      "│ scitype(X) = Table{Union{AbstractArray{Continuous,1}, AbstractArray{Count,1}}}\n",
      "│ input_scitype(model) = Table{var\"#s44\"} where var\"#s44\"<:(AbstractArray{var\"#s13\",1} where var\"#s13\"<:Continuous).\n",
      "└ @ MLJBase /home/andrew/.julia/packages/MLJBase/uKzAz/src/machines.jl:77\n",
      "┌ Warning: The scitype of `X`, in `machine(model, X, ...)` is incompatible with `model=\u001b[34mSVMClassifier @519\u001b[39m`:\n",
      "│ scitype(X) = Table{Union{AbstractArray{Continuous,1}, AbstractArray{Count,1}}}\n",
      "│ input_scitype(model) = Table{var\"#s44\"} where var\"#s44\"<:(AbstractArray{var\"#s13\",1} where var\"#s13\"<:Continuous).\n",
      "└ @ MLJBase /home/andrew/.julia/packages/MLJBase/uKzAz/src/machines.jl:77\n",
      "┌ Warning: The scitype of `X`, in `machine(model, X, ...)` is incompatible with `model=\u001b[34mSVMClassifier @519\u001b[39m`:\n",
      "│ scitype(X) = Table{Union{AbstractArray{Continuous,1}, AbstractArray{Count,1}}}\n",
      "│ input_scitype(model) = Table{var\"#s44\"} where var\"#s44\"<:(AbstractArray{var\"#s13\",1} where var\"#s13\"<:Continuous).\n",
      "└ @ MLJBase /home/andrew/.julia/packages/MLJBase/uKzAz/src/machines.jl:77\n",
      "┌ Warning: The scitype of `X`, in `machine(model, X, ...)` is incompatible with `model=\u001b[34mSVMClassifier @519\u001b[39m`:\n",
      "│ scitype(X) = Table{Union{AbstractArray{Continuous,1}, AbstractArray{Count,1}}}\n",
      "│ input_scitype(model) = Table{var\"#s44\"} where var\"#s44\"<:(AbstractArray{var\"#s13\",1} where var\"#s13\"<:Continuous).\n",
      "└ @ MLJBase /home/andrew/.julia/packages/MLJBase/uKzAz/src/machines.jl:77\n",
      "┌ Warning: The scitype of `X`, in `machine(model, X, ...)` is incompatible with `model=\u001b[34mSVMClassifier @519\u001b[39m`:\n",
      "│ scitype(X) = Table{Union{AbstractArray{Continuous,1}, AbstractArray{Count,1}}}\n",
      "│ input_scitype(model) = Table{var\"#s44\"} where var\"#s44\"<:(AbstractArray{var\"#s13\",1} where var\"#s13\"<:Continuous).\n",
      "└ @ MLJBase /home/andrew/.julia/packages/MLJBase/uKzAz/src/machines.jl:77\n",
      "┌ Warning: The scitype of `X`, in `machine(model, X, ...)` is incompatible with `model=\u001b[34mSVMClassifier @519\u001b[39m`:\n",
      "│ scitype(X) = Table{Union{AbstractArray{Continuous,1}, AbstractArray{Count,1}}}\n",
      "│ input_scitype(model) = Table{var\"#s44\"} where var\"#s44\"<:(AbstractArray{var\"#s13\",1} where var\"#s13\"<:Continuous).\n",
      "└ @ MLJBase /home/andrew/.julia/packages/MLJBase/uKzAz/src/machines.jl:77\n",
      "┌ Warning: The scitype of `X`, in `machine(model, X, ...)` is incompatible with `model=\u001b[34mSVMClassifier @519\u001b[39m`:\n",
      "│ scitype(X) = Table{Union{AbstractArray{Continuous,1}, AbstractArray{Count,1}}}\n",
      "│ input_scitype(model) = Table{var\"#s44\"} where var\"#s44\"<:(AbstractArray{var\"#s13\",1} where var\"#s13\"<:Continuous).\n",
      "└ @ MLJBase /home/andrew/.julia/packages/MLJBase/uKzAz/src/machines.jl:77\n",
      "┌ Warning: The scitype of `X`, in `machine(model, X, ...)` is incompatible with `model=\u001b[34mSVMClassifier @519\u001b[39m`:\n",
      "│ scitype(X) = Table{Union{AbstractArray{Continuous,1}, AbstractArray{Count,1}}}\n",
      "│ input_scitype(model) = Table{var\"#s44\"} where var\"#s44\"<:(AbstractArray{var\"#s13\",1} where var\"#s13\"<:Continuous).\n",
      "└ @ MLJBase /home/andrew/.julia/packages/MLJBase/uKzAz/src/machines.jl:77\n",
      "┌ Warning: The scitype of `X`, in `machine(model, X, ...)` is incompatible with `model=\u001b[34mSVMClassifier @519\u001b[39m`:\n",
      "│ scitype(X) = Table{Union{AbstractArray{Continuous,1}, AbstractArray{Count,1}}}\n",
      "│ input_scitype(model) = Table{var\"#s44\"} where var\"#s44\"<:(AbstractArray{var\"#s13\",1} where var\"#s13\"<:Continuous).\n",
      "└ @ MLJBase /home/andrew/.julia/packages/MLJBase/uKzAz/src/machines.jl:77\n",
      "┌ Warning: The scitype of `X`, in `machine(model, X, ...)` is incompatible with `model=\u001b[34mSVMClassifier @519\u001b[39m`:\n",
      "│ scitype(X) = Table{Union{AbstractArray{Continuous,1}, AbstractArray{Count,1}}}\n",
      "│ input_scitype(model) = Table{var\"#s44\"} where var\"#s44\"<:(AbstractArray{var\"#s13\",1} where var\"#s13\"<:Continuous).\n",
      "└ @ MLJBase /home/andrew/.julia/packages/MLJBase/uKzAz/src/machines.jl:77\n"
     ]
    },
    {
     "name": "stdout",
     "output_type": "stream",
     "text": [
      "(d, train_metric, valid_metric) = (85, 0.9176470588235294, 0.8040540540540541)\n",
      "(d, train_metric, valid_metric) = (90, 0.9333333333333333, 0.8243243243243243)\n",
      "(d, train_metric, valid_metric) = (95, 0.8947368421052632, 0.8175675675675675)\n",
      "(d, train_metric, valid_metric) = (100, 0.9, 0.7972972972972973)\n",
      "(d, train_metric, valid_metric) = (105, 0.8952380952380953, 0.7905405405405406)\n",
      "(d, train_metric, valid_metric) = (110, 0.8818181818181818, 0.7972972972972973)\n",
      "(d, train_metric, valid_metric) = (115, 0.8956521739130435, 0.8243243243243243)\n",
      "(d, train_metric, valid_metric) = (120, 0.9, 0.8445945945945946)\n",
      "(d, train_metric, valid_metric) = (125, 0.896, 0.8310810810810811)\n",
      "(d, train_metric, valid_metric) = (130, 0.8692307692307693, 0.7972972972972973)\n",
      "(d, train_metric, valid_metric) = (135, 0.8666666666666667, 0.7972972972972973)\n",
      "(d, train_metric, valid_metric) = (140, 0.8857142857142857, 0.7837837837837838)\n",
      "(d, train_metric, valid_metric) = (145, 0.8896551724137931, 0.8040540540540541)\n",
      "(d, train_metric, valid_metric) = (150, 0.8933333333333333, 0.8175675675675675)\n",
      "(d, train_metric, valid_metric) = (155, 0.8903225806451613, 0.8108108108108107)\n",
      "(d, train_metric, valid_metric) = (160, 0.89375, 0.8175675675675675)\n",
      "(d, train_metric, valid_metric) = (165, 0.8909090909090909, 0.8378378378378378)\n",
      "(d, train_metric, valid_metric) = (170, 0.8941176470588236, 0.8243243243243243)\n",
      "(d, train_metric, valid_metric) = (175, 0.9028571428571428, 0.8243243243243243)\n",
      "(d, train_metric, valid_metric) = (180, 0.8888888888888888, 0.8175675675675675)\n",
      "(d, train_metric, valid_metric) = (185, 0.8918918918918919, 0.8243243243243243)\n",
      "(d, train_metric, valid_metric) = (190, 0.8947368421052632, 0.8175675675675675)\n",
      "(d, train_metric, valid_metric) = (195, 0.8974358974358975, 0.8175675675675675)\n",
      "(d, train_metric, valid_metric) = (200, 0.895, 0.8108108108108107)\n",
      "(d, train_metric, valid_metric) = (205, 0.8975609756097561, 0.8175675675675675)\n",
      "(d, train_metric, valid_metric) = (210, 0.8952380952380953, 0.8310810810810811)\n",
      "(d, train_metric, valid_metric) = (215, 0.8837209302325582, 0.8243243243243243)\n",
      "(d, train_metric, valid_metric) = (220, 0.8818181818181818, 0.8378378378378378)\n",
      "(d, train_metric, valid_metric) = (225, 0.8844444444444445, 0.8581081081081081)\n",
      "(d, train_metric, valid_metric) = (230, 0.8869565217391304, 0.8513513513513513)\n",
      "(d, train_metric, valid_metric) = (235, 0.8978723404255319, 0.8581081081081081)\n",
      "(d, train_metric, valid_metric) = (240, 0.8666666666666667, 0.8378378378378378)\n",
      "(d, train_metric, valid_metric) = (245, 0.8775510204081632, 0.8445945945945946)\n",
      "(d, train_metric, valid_metric) = (250, 0.88, 0.8378378378378378)\n",
      "(d, train_metric, valid_metric) = (255, 0.8784313725490196, 0.8378378378378378)\n",
      "(d, train_metric, valid_metric) = (260, 0.8807692307692307, 0.8378378378378378)\n",
      "(d, train_metric, valid_metric) = (265, 0.8830188679245283, 0.8445945945945946)\n",
      "(d, train_metric, valid_metric) = (270, 0.8851851851851852, 0.8445945945945946)\n",
      "(d, train_metric, valid_metric) = (275, 0.88, 0.8513513513513513)\n",
      "(d, train_metric, valid_metric) = (280, 0.8892857142857142, 0.8513513513513513)\n",
      "(d, train_metric, valid_metric) = (285, 0.887719298245614, 0.8581081081081081)\n",
      "(d, train_metric, valid_metric) = (290, 0.8896551724137931, 0.8783783783783784)\n",
      "(d, train_metric, valid_metric) = (295, 0.8847457627118644, 0.8783783783783784)\n",
      "(d, train_metric, valid_metric) = (300, 0.8933333333333333, 0.8716216216216216)\n"
     ]
    },
    {
     "name": "stderr",
     "output_type": "stream",
     "text": [
      "┌ Warning: The scitype of `X`, in `machine(model, X, ...)` is incompatible with `model=\u001b[34mSVMClassifier @519\u001b[39m`:\n",
      "│ scitype(X) = Table{Union{AbstractArray{Continuous,1}, AbstractArray{Count,1}}}\n",
      "│ input_scitype(model) = Table{var\"#s44\"} where var\"#s44\"<:(AbstractArray{var\"#s13\",1} where var\"#s13\"<:Continuous).\n",
      "└ @ MLJBase /home/andrew/.julia/packages/MLJBase/uKzAz/src/machines.jl:77\n",
      "┌ Warning: The scitype of `X`, in `machine(model, X, ...)` is incompatible with `model=\u001b[34mSVMClassifier @519\u001b[39m`:\n",
      "│ scitype(X) = Table{Union{AbstractArray{Continuous,1}, AbstractArray{Count,1}}}\n",
      "│ input_scitype(model) = Table{var\"#s44\"} where var\"#s44\"<:(AbstractArray{var\"#s13\",1} where var\"#s13\"<:Continuous).\n",
      "└ @ MLJBase /home/andrew/.julia/packages/MLJBase/uKzAz/src/machines.jl:77\n",
      "┌ Warning: The scitype of `X`, in `machine(model, X, ...)` is incompatible with `model=\u001b[34mSVMClassifier @519\u001b[39m`:\n",
      "│ scitype(X) = Table{Union{AbstractArray{Continuous,1}, AbstractArray{Count,1}}}\n",
      "│ input_scitype(model) = Table{var\"#s44\"} where var\"#s44\"<:(AbstractArray{var\"#s13\",1} where var\"#s13\"<:Continuous).\n",
      "└ @ MLJBase /home/andrew/.julia/packages/MLJBase/uKzAz/src/machines.jl:77\n",
      "┌ Warning: The scitype of `X`, in `machine(model, X, ...)` is incompatible with `model=\u001b[34mSVMClassifier @519\u001b[39m`:\n",
      "│ scitype(X) = Table{Union{AbstractArray{Continuous,1}, AbstractArray{Count,1}}}\n",
      "│ input_scitype(model) = Table{var\"#s44\"} where var\"#s44\"<:(AbstractArray{var\"#s13\",1} where var\"#s13\"<:Continuous).\n",
      "└ @ MLJBase /home/andrew/.julia/packages/MLJBase/uKzAz/src/machines.jl:77\n",
      "┌ Warning: The scitype of `X`, in `machine(model, X, ...)` is incompatible with `model=\u001b[34mSVMClassifier @519\u001b[39m`:\n",
      "│ scitype(X) = Table{Union{AbstractArray{Continuous,1}, AbstractArray{Count,1}}}\n",
      "│ input_scitype(model) = Table{var\"#s44\"} where var\"#s44\"<:(AbstractArray{var\"#s13\",1} where var\"#s13\"<:Continuous).\n",
      "└ @ MLJBase /home/andrew/.julia/packages/MLJBase/uKzAz/src/machines.jl:77\n",
      "┌ Warning: The scitype of `X`, in `machine(model, X, ...)` is incompatible with `model=\u001b[34mSVMClassifier @519\u001b[39m`:\n",
      "│ scitype(X) = Table{Union{AbstractArray{Continuous,1}, AbstractArray{Count,1}}}\n",
      "│ input_scitype(model) = Table{var\"#s44\"} where var\"#s44\"<:(AbstractArray{var\"#s13\",1} where var\"#s13\"<:Continuous).\n",
      "└ @ MLJBase /home/andrew/.julia/packages/MLJBase/uKzAz/src/machines.jl:77\n",
      "┌ Warning: The scitype of `X`, in `machine(model, X, ...)` is incompatible with `model=\u001b[34mSVMClassifier @519\u001b[39m`:\n",
      "│ scitype(X) = Table{Union{AbstractArray{Continuous,1}, AbstractArray{Count,1}}}\n",
      "│ input_scitype(model) = Table{var\"#s44\"} where var\"#s44\"<:(AbstractArray{var\"#s13\",1} where var\"#s13\"<:Continuous).\n",
      "└ @ MLJBase /home/andrew/.julia/packages/MLJBase/uKzAz/src/machines.jl:77\n",
      "┌ Warning: The scitype of `X`, in `machine(model, X, ...)` is incompatible with `model=\u001b[34mSVMClassifier @519\u001b[39m`:\n",
      "│ scitype(X) = Table{Union{AbstractArray{Continuous,1}, AbstractArray{Count,1}}}\n",
      "│ input_scitype(model) = Table{var\"#s44\"} where var\"#s44\"<:(AbstractArray{var\"#s13\",1} where var\"#s13\"<:Continuous).\n",
      "└ @ MLJBase /home/andrew/.julia/packages/MLJBase/uKzAz/src/machines.jl:77\n",
      "┌ Warning: The scitype of `X`, in `machine(model, X, ...)` is incompatible with `model=\u001b[34mSVMClassifier @519\u001b[39m`:\n",
      "│ scitype(X) = Table{Union{AbstractArray{Continuous,1}, AbstractArray{Count,1}}}\n",
      "│ input_scitype(model) = Table{var\"#s44\"} where var\"#s44\"<:(AbstractArray{var\"#s13\",1} where var\"#s13\"<:Continuous).\n",
      "└ @ MLJBase /home/andrew/.julia/packages/MLJBase/uKzAz/src/machines.jl:77\n",
      "┌ Warning: The scitype of `X`, in `machine(model, X, ...)` is incompatible with `model=\u001b[34mSVMClassifier @519\u001b[39m`:\n",
      "│ scitype(X) = Table{Union{AbstractArray{Continuous,1}, AbstractArray{Count,1}}}\n",
      "│ input_scitype(model) = Table{var\"#s44\"} where var\"#s44\"<:(AbstractArray{var\"#s13\",1} where var\"#s13\"<:Continuous).\n",
      "└ @ MLJBase /home/andrew/.julia/packages/MLJBase/uKzAz/src/machines.jl:77\n",
      "┌ Warning: The scitype of `X`, in `machine(model, X, ...)` is incompatible with `model=\u001b[34mSVMClassifier @519\u001b[39m`:\n",
      "│ scitype(X) = Table{Union{AbstractArray{Continuous,1}, AbstractArray{Count,1}}}\n",
      "│ input_scitype(model) = Table{var\"#s44\"} where var\"#s44\"<:(AbstractArray{var\"#s13\",1} where var\"#s13\"<:Continuous).\n",
      "└ @ MLJBase /home/andrew/.julia/packages/MLJBase/uKzAz/src/machines.jl:77\n",
      "┌ Warning: The scitype of `X`, in `machine(model, X, ...)` is incompatible with `model=\u001b[34mSVMClassifier @519\u001b[39m`:\n",
      "│ scitype(X) = Table{Union{AbstractArray{Continuous,1}, AbstractArray{Count,1}}}\n",
      "│ input_scitype(model) = Table{var\"#s44\"} where var\"#s44\"<:(AbstractArray{var\"#s13\",1} where var\"#s13\"<:Continuous).\n",
      "└ @ MLJBase /home/andrew/.julia/packages/MLJBase/uKzAz/src/machines.jl:77\n",
      "┌ Warning: The scitype of `X`, in `machine(model, X, ...)` is incompatible with `model=\u001b[34mSVMClassifier @519\u001b[39m`:\n",
      "│ scitype(X) = Table{Union{AbstractArray{Continuous,1}, AbstractArray{Count,1}}}\n",
      "│ input_scitype(model) = Table{var\"#s44\"} where var\"#s44\"<:(AbstractArray{var\"#s13\",1} where var\"#s13\"<:Continuous).\n",
      "└ @ MLJBase /home/andrew/.julia/packages/MLJBase/uKzAz/src/machines.jl:77\n",
      "┌ Warning: The scitype of `X`, in `machine(model, X, ...)` is incompatible with `model=\u001b[34mSVMClassifier @519\u001b[39m`:\n",
      "│ scitype(X) = Table{Union{AbstractArray{Continuous,1}, AbstractArray{Count,1}}}\n",
      "│ input_scitype(model) = Table{var\"#s44\"} where var\"#s44\"<:(AbstractArray{var\"#s13\",1} where var\"#s13\"<:Continuous).\n",
      "└ @ MLJBase /home/andrew/.julia/packages/MLJBase/uKzAz/src/machines.jl:77\n",
      "┌ Warning: The scitype of `X`, in `machine(model, X, ...)` is incompatible with `model=\u001b[34mSVMClassifier @519\u001b[39m`:\n",
      "│ scitype(X) = Table{Union{AbstractArray{Continuous,1}, AbstractArray{Count,1}}}\n",
      "│ input_scitype(model) = Table{var\"#s44\"} where var\"#s44\"<:(AbstractArray{var\"#s13\",1} where var\"#s13\"<:Continuous).\n",
      "└ @ MLJBase /home/andrew/.julia/packages/MLJBase/uKzAz/src/machines.jl:77\n",
      "┌ Warning: The scitype of `X`, in `machine(model, X, ...)` is incompatible with `model=\u001b[34mSVMClassifier @519\u001b[39m`:\n",
      "│ scitype(X) = Table{Union{AbstractArray{Continuous,1}, AbstractArray{Count,1}}}\n",
      "│ input_scitype(model) = Table{var\"#s44\"} where var\"#s44\"<:(AbstractArray{var\"#s13\",1} where var\"#s13\"<:Continuous).\n",
      "└ @ MLJBase /home/andrew/.julia/packages/MLJBase/uKzAz/src/machines.jl:77\n",
      "┌ Warning: The scitype of `X`, in `machine(model, X, ...)` is incompatible with `model=\u001b[34mSVMClassifier @519\u001b[39m`:\n",
      "│ scitype(X) = Table{Union{AbstractArray{Continuous,1}, AbstractArray{Count,1}}}\n",
      "│ input_scitype(model) = Table{var\"#s44\"} where var\"#s44\"<:(AbstractArray{var\"#s13\",1} where var\"#s13\"<:Continuous).\n",
      "└ @ MLJBase /home/andrew/.julia/packages/MLJBase/uKzAz/src/machines.jl:77\n",
      "┌ Warning: The scitype of `X`, in `machine(model, X, ...)` is incompatible with `model=\u001b[34mSVMClassifier @519\u001b[39m`:\n",
      "│ scitype(X) = Table{Union{AbstractArray{Continuous,1}, AbstractArray{Count,1}}}\n",
      "│ input_scitype(model) = Table{var\"#s44\"} where var\"#s44\"<:(AbstractArray{var\"#s13\",1} where var\"#s13\"<:Continuous).\n",
      "└ @ MLJBase /home/andrew/.julia/packages/MLJBase/uKzAz/src/machines.jl:77\n"
     ]
    },
    {
     "name": "stdout",
     "output_type": "stream",
     "text": [
      "(d, train_metric, valid_metric) = (305, 0.8950819672131147, 0.8783783783783784)\n",
      "(d, train_metric, valid_metric) = (310, 0.8935483870967742, 0.8851351351351351)\n",
      "(d, train_metric, valid_metric) = (315, 0.8888888888888888, 0.8783783783783784)\n",
      "(d, train_metric, valid_metric) = (320, 0.890625, 0.8851351351351351)\n",
      "(d, train_metric, valid_metric) = (325, 0.8861538461538462, 0.8783783783783784)\n",
      "(d, train_metric, valid_metric) = (330, 0.8878787878787879, 0.8783783783783784)\n",
      "(d, train_metric, valid_metric) = (335, 0.8895522388059701, 0.8918918918918919)\n",
      "(d, train_metric, valid_metric) = (340, 0.888235294117647, 0.8783783783783784)\n",
      "(d, train_metric, valid_metric) = (345, 0.8927536231884058, 0.8783783783783784)\n",
      "(d, train_metric, valid_metric) = (350, 0.8914285714285715, 0.8851351351351351)\n",
      "(d, train_metric, valid_metric) = (355, 0.8901408450704226, 0.8851351351351351)\n",
      "(d, train_metric, valid_metric) = (360, 0.8833333333333333, 0.8851351351351351)\n"
     ]
    },
    {
     "name": "stderr",
     "output_type": "stream",
     "text": [
      "┌ Warning: The scitype of `X`, in `machine(model, X, ...)` is incompatible with `model=\u001b[34mSVMClassifier @519\u001b[39m`:\n",
      "│ scitype(X) = Table{Union{AbstractArray{Continuous,1}, AbstractArray{Count,1}}}\n",
      "│ input_scitype(model) = Table{var\"#s44\"} where var\"#s44\"<:(AbstractArray{var\"#s13\",1} where var\"#s13\"<:Continuous).\n",
      "└ @ MLJBase /home/andrew/.julia/packages/MLJBase/uKzAz/src/machines.jl:77\n",
      "┌ Warning: The scitype of `X`, in `machine(model, X, ...)` is incompatible with `model=\u001b[34mSVMClassifier @519\u001b[39m`:\n",
      "│ scitype(X) = Table{Union{AbstractArray{Continuous,1}, AbstractArray{Count,1}}}\n",
      "│ input_scitype(model) = Table{var\"#s44\"} where var\"#s44\"<:(AbstractArray{var\"#s13\",1} where var\"#s13\"<:Continuous).\n",
      "└ @ MLJBase /home/andrew/.julia/packages/MLJBase/uKzAz/src/machines.jl:77\n",
      "┌ Warning: The scitype of `X`, in `machine(model, X, ...)` is incompatible with `model=\u001b[34mSVMClassifier @519\u001b[39m`:\n",
      "│ scitype(X) = Table{Union{AbstractArray{Continuous,1}, AbstractArray{Count,1}}}\n",
      "│ input_scitype(model) = Table{var\"#s44\"} where var\"#s44\"<:(AbstractArray{var\"#s13\",1} where var\"#s13\"<:Continuous).\n",
      "└ @ MLJBase /home/andrew/.julia/packages/MLJBase/uKzAz/src/machines.jl:77\n",
      "┌ Warning: The scitype of `X`, in `machine(model, X, ...)` is incompatible with `model=\u001b[34mSVMClassifier @519\u001b[39m`:\n",
      "│ scitype(X) = Table{Union{AbstractArray{Continuous,1}, AbstractArray{Count,1}}}\n",
      "│ input_scitype(model) = Table{var\"#s44\"} where var\"#s44\"<:(AbstractArray{var\"#s13\",1} where var\"#s13\"<:Continuous).\n",
      "└ @ MLJBase /home/andrew/.julia/packages/MLJBase/uKzAz/src/machines.jl:77\n",
      "┌ Warning: The scitype of `X`, in `machine(model, X, ...)` is incompatible with `model=\u001b[34mSVMClassifier @519\u001b[39m`:\n",
      "│ scitype(X) = Table{Union{AbstractArray{Continuous,1}, AbstractArray{Count,1}}}\n",
      "│ input_scitype(model) = Table{var\"#s44\"} where var\"#s44\"<:(AbstractArray{var\"#s13\",1} where var\"#s13\"<:Continuous).\n",
      "└ @ MLJBase /home/andrew/.julia/packages/MLJBase/uKzAz/src/machines.jl:77\n",
      "┌ Warning: The scitype of `X`, in `machine(model, X, ...)` is incompatible with `model=\u001b[34mSVMClassifier @519\u001b[39m`:\n",
      "│ scitype(X) = Table{Union{AbstractArray{Continuous,1}, AbstractArray{Count,1}}}\n",
      "│ input_scitype(model) = Table{var\"#s44\"} where var\"#s44\"<:(AbstractArray{var\"#s13\",1} where var\"#s13\"<:Continuous).\n",
      "└ @ MLJBase /home/andrew/.julia/packages/MLJBase/uKzAz/src/machines.jl:77\n",
      "┌ Warning: The scitype of `X`, in `machine(model, X, ...)` is incompatible with `model=\u001b[34mSVMClassifier @519\u001b[39m`:\n",
      "│ scitype(X) = Table{Union{AbstractArray{Continuous,1}, AbstractArray{Count,1}}}\n",
      "│ input_scitype(model) = Table{var\"#s44\"} where var\"#s44\"<:(AbstractArray{var\"#s13\",1} where var\"#s13\"<:Continuous).\n",
      "└ @ MLJBase /home/andrew/.julia/packages/MLJBase/uKzAz/src/machines.jl:77\n",
      "┌ Warning: The scitype of `X`, in `machine(model, X, ...)` is incompatible with `model=\u001b[34mSVMClassifier @519\u001b[39m`:\n",
      "│ scitype(X) = Table{Union{AbstractArray{Continuous,1}, AbstractArray{Count,1}}}\n",
      "│ input_scitype(model) = Table{var\"#s44\"} where var\"#s44\"<:(AbstractArray{var\"#s13\",1} where var\"#s13\"<:Continuous).\n",
      "└ @ MLJBase /home/andrew/.julia/packages/MLJBase/uKzAz/src/machines.jl:77\n",
      "┌ Warning: The scitype of `X`, in `machine(model, X, ...)` is incompatible with `model=\u001b[34mSVMClassifier @519\u001b[39m`:\n",
      "│ scitype(X) = Table{Union{AbstractArray{Continuous,1}, AbstractArray{Count,1}}}\n",
      "│ input_scitype(model) = Table{var\"#s44\"} where var\"#s44\"<:(AbstractArray{var\"#s13\",1} where var\"#s13\"<:Continuous).\n",
      "└ @ MLJBase /home/andrew/.julia/packages/MLJBase/uKzAz/src/machines.jl:77\n",
      "┌ Warning: The scitype of `X`, in `machine(model, X, ...)` is incompatible with `model=\u001b[34mSVMClassifier @519\u001b[39m`:\n",
      "│ scitype(X) = Table{Union{AbstractArray{Continuous,1}, AbstractArray{Count,1}}}\n",
      "│ input_scitype(model) = Table{var\"#s44\"} where var\"#s44\"<:(AbstractArray{var\"#s13\",1} where var\"#s13\"<:Continuous).\n",
      "└ @ MLJBase /home/andrew/.julia/packages/MLJBase/uKzAz/src/machines.jl:77\n",
      "┌ Warning: The scitype of `X`, in `machine(model, X, ...)` is incompatible with `model=\u001b[34mSVMClassifier @519\u001b[39m`:\n",
      "│ scitype(X) = Table{Union{AbstractArray{Continuous,1}, AbstractArray{Count,1}}}\n",
      "│ input_scitype(model) = Table{var\"#s44\"} where var\"#s44\"<:(AbstractArray{var\"#s13\",1} where var\"#s13\"<:Continuous).\n",
      "└ @ MLJBase /home/andrew/.julia/packages/MLJBase/uKzAz/src/machines.jl:77\n",
      "┌ Warning: The scitype of `X`, in `machine(model, X, ...)` is incompatible with `model=\u001b[34mSVMClassifier @519\u001b[39m`:\n",
      "│ scitype(X) = Table{Union{AbstractArray{Continuous,1}, AbstractArray{Count,1}}}\n",
      "│ input_scitype(model) = Table{var\"#s44\"} where var\"#s44\"<:(AbstractArray{var\"#s13\",1} where var\"#s13\"<:Continuous).\n",
      "└ @ MLJBase /home/andrew/.julia/packages/MLJBase/uKzAz/src/machines.jl:77\n"
     ]
    },
    {
     "name": "stdout",
     "output_type": "stream",
     "text": [
      "(d, train_metric, valid_metric) = (365, 0.8876712328767123, 0.8851351351351351)\n",
      "(d, train_metric, valid_metric) = (370, 0.8891891891891892, 0.8851351351351351)\n",
      "(d, train_metric, valid_metric) = (375, 0.8826666666666667, 0.8851351351351351)\n",
      "(d, train_metric, valid_metric) = (380, 0.8894736842105263, 0.8648648648648649)\n",
      "(d, train_metric, valid_metric) = (385, 0.8857142857142857, 0.8716216216216216)\n",
      "(d, train_metric, valid_metric) = (390, 0.882051282051282, 0.8716216216216216)\n",
      "(d, train_metric, valid_metric) = (395, 0.8835443037974684, 0.8648648648648649)\n",
      "(d, train_metric, valid_metric) = (400, 0.8875, 0.8513513513513513)\n",
      "(d, train_metric, valid_metric) = (405, 0.8888888888888888, 0.8648648648648649)\n",
      "(d, train_metric, valid_metric) = (410, 0.8829268292682927, 0.8648648648648649)\n",
      "(d, train_metric, valid_metric) = (415, 0.8819277108433735, 0.8648648648648649)\n"
     ]
    },
    {
     "name": "stderr",
     "output_type": "stream",
     "text": [
      "┌ Warning: The scitype of `X`, in `machine(model, X, ...)` is incompatible with `model=\u001b[34mSVMClassifier @519\u001b[39m`:\n",
      "│ scitype(X) = Table{Union{AbstractArray{Continuous,1}, AbstractArray{Count,1}}}\n",
      "│ input_scitype(model) = Table{var\"#s44\"} where var\"#s44\"<:(AbstractArray{var\"#s13\",1} where var\"#s13\"<:Continuous).\n",
      "└ @ MLJBase /home/andrew/.julia/packages/MLJBase/uKzAz/src/machines.jl:77\n",
      "┌ Warning: The scitype of `X`, in `machine(model, X, ...)` is incompatible with `model=\u001b[34mSVMClassifier @519\u001b[39m`:\n",
      "│ scitype(X) = Table{Union{AbstractArray{Continuous,1}, AbstractArray{Count,1}}}\n",
      "│ input_scitype(model) = Table{var\"#s44\"} where var\"#s44\"<:(AbstractArray{var\"#s13\",1} where var\"#s13\"<:Continuous).\n",
      "└ @ MLJBase /home/andrew/.julia/packages/MLJBase/uKzAz/src/machines.jl:77\n",
      "┌ Warning: The scitype of `X`, in `machine(model, X, ...)` is incompatible with `model=\u001b[34mSVMClassifier @519\u001b[39m`:\n",
      "│ scitype(X) = Table{Union{AbstractArray{Continuous,1}, AbstractArray{Count,1}}}\n",
      "│ input_scitype(model) = Table{var\"#s44\"} where var\"#s44\"<:(AbstractArray{var\"#s13\",1} where var\"#s13\"<:Continuous).\n",
      "└ @ MLJBase /home/andrew/.julia/packages/MLJBase/uKzAz/src/machines.jl:77\n",
      "┌ Warning: The scitype of `X`, in `machine(model, X, ...)` is incompatible with `model=\u001b[34mSVMClassifier @519\u001b[39m`:\n",
      "│ scitype(X) = Table{Union{AbstractArray{Continuous,1}, AbstractArray{Count,1}}}\n",
      "│ input_scitype(model) = Table{var\"#s44\"} where var\"#s44\"<:(AbstractArray{var\"#s13\",1} where var\"#s13\"<:Continuous).\n",
      "└ @ MLJBase /home/andrew/.julia/packages/MLJBase/uKzAz/src/machines.jl:77\n",
      "┌ Warning: The scitype of `X`, in `machine(model, X, ...)` is incompatible with `model=\u001b[34mSVMClassifier @519\u001b[39m`:\n",
      "│ scitype(X) = Table{Union{AbstractArray{Continuous,1}, AbstractArray{Count,1}}}\n",
      "│ input_scitype(model) = Table{var\"#s44\"} where var\"#s44\"<:(AbstractArray{var\"#s13\",1} where var\"#s13\"<:Continuous).\n",
      "└ @ MLJBase /home/andrew/.julia/packages/MLJBase/uKzAz/src/machines.jl:77\n",
      "┌ Warning: The scitype of `X`, in `machine(model, X, ...)` is incompatible with `model=\u001b[34mSVMClassifier @519\u001b[39m`:\n",
      "│ scitype(X) = Table{Union{AbstractArray{Continuous,1}, AbstractArray{Count,1}}}\n",
      "│ input_scitype(model) = Table{var\"#s44\"} where var\"#s44\"<:(AbstractArray{var\"#s13\",1} where var\"#s13\"<:Continuous).\n",
      "└ @ MLJBase /home/andrew/.julia/packages/MLJBase/uKzAz/src/machines.jl:77\n",
      "┌ Warning: The scitype of `X`, in `machine(model, X, ...)` is incompatible with `model=\u001b[34mSVMClassifier @519\u001b[39m`:\n",
      "│ scitype(X) = Table{Union{AbstractArray{Continuous,1}, AbstractArray{Count,1}}}\n",
      "│ input_scitype(model) = Table{var\"#s44\"} where var\"#s44\"<:(AbstractArray{var\"#s13\",1} where var\"#s13\"<:Continuous).\n",
      "└ @ MLJBase /home/andrew/.julia/packages/MLJBase/uKzAz/src/machines.jl:77\n",
      "┌ Warning: The scitype of `X`, in `machine(model, X, ...)` is incompatible with `model=\u001b[34mSVMClassifier @519\u001b[39m`:\n",
      "│ scitype(X) = Table{Union{AbstractArray{Continuous,1}, AbstractArray{Count,1}}}\n",
      "│ input_scitype(model) = Table{var\"#s44\"} where var\"#s44\"<:(AbstractArray{var\"#s13\",1} where var\"#s13\"<:Continuous).\n",
      "└ @ MLJBase /home/andrew/.julia/packages/MLJBase/uKzAz/src/machines.jl:77\n",
      "┌ Warning: The scitype of `X`, in `machine(model, X, ...)` is incompatible with `model=\u001b[34mSVMClassifier @519\u001b[39m`:\n",
      "│ scitype(X) = Table{Union{AbstractArray{Continuous,1}, AbstractArray{Count,1}}}\n",
      "│ input_scitype(model) = Table{var\"#s44\"} where var\"#s44\"<:(AbstractArray{var\"#s13\",1} where var\"#s13\"<:Continuous).\n",
      "└ @ MLJBase /home/andrew/.julia/packages/MLJBase/uKzAz/src/machines.jl:77\n",
      "┌ Warning: The scitype of `X`, in `machine(model, X, ...)` is incompatible with `model=\u001b[34mSVMClassifier @519\u001b[39m`:\n",
      "│ scitype(X) = Table{Union{AbstractArray{Continuous,1}, AbstractArray{Count,1}}}\n",
      "│ input_scitype(model) = Table{var\"#s44\"} where var\"#s44\"<:(AbstractArray{var\"#s13\",1} where var\"#s13\"<:Continuous).\n",
      "└ @ MLJBase /home/andrew/.julia/packages/MLJBase/uKzAz/src/machines.jl:77\n",
      "┌ Warning: The scitype of `X`, in `machine(model, X, ...)` is incompatible with `model=\u001b[34mSVMClassifier @519\u001b[39m`:\n",
      "│ scitype(X) = Table{Union{AbstractArray{Continuous,1}, AbstractArray{Count,1}}}\n",
      "│ input_scitype(model) = Table{var\"#s44\"} where var\"#s44\"<:(AbstractArray{var\"#s13\",1} where var\"#s13\"<:Continuous).\n",
      "└ @ MLJBase /home/andrew/.julia/packages/MLJBase/uKzAz/src/machines.jl:77\n"
     ]
    },
    {
     "name": "stdout",
     "output_type": "stream",
     "text": [
      "(d, train_metric, valid_metric) = (420, 0.8904761904761904, 0.8648648648648649)\n",
      "(d, train_metric, valid_metric) = (425, 0.88, 0.8648648648648649)\n",
      "(d, train_metric, valid_metric) = (430, 0.8813953488372093, 0.8581081081081081)\n",
      "(d, train_metric, valid_metric) = (435, 0.8758620689655172, 0.8716216216216216)\n",
      "(d, train_metric, valid_metric) = (440, 0.8818181818181818, 0.8716216216216216)\n",
      "(d, train_metric, valid_metric) = (445, 0.8831460674157303, 0.8716216216216216)\n",
      "(d, train_metric, valid_metric) = (450, 0.8888888888888888, 0.8783783783783784)\n",
      "(d, train_metric, valid_metric) = (455, 0.8879120879120879, 0.8851351351351351)\n",
      "(d, train_metric, valid_metric) = (460, 0.8826086956521739, 0.8783783783783784)\n"
     ]
    },
    {
     "name": "stderr",
     "output_type": "stream",
     "text": [
      "┌ Warning: The scitype of `X`, in `machine(model, X, ...)` is incompatible with `model=\u001b[34mSVMClassifier @519\u001b[39m`:\n",
      "│ scitype(X) = Table{Union{AbstractArray{Continuous,1}, AbstractArray{Count,1}}}\n",
      "│ input_scitype(model) = Table{var\"#s44\"} where var\"#s44\"<:(AbstractArray{var\"#s13\",1} where var\"#s13\"<:Continuous).\n",
      "└ @ MLJBase /home/andrew/.julia/packages/MLJBase/uKzAz/src/machines.jl:77\n",
      "┌ Warning: The scitype of `X`, in `machine(model, X, ...)` is incompatible with `model=\u001b[34mSVMClassifier @519\u001b[39m`:\n",
      "│ scitype(X) = Table{Union{AbstractArray{Continuous,1}, AbstractArray{Count,1}}}\n",
      "│ input_scitype(model) = Table{var\"#s44\"} where var\"#s44\"<:(AbstractArray{var\"#s13\",1} where var\"#s13\"<:Continuous).\n",
      "└ @ MLJBase /home/andrew/.julia/packages/MLJBase/uKzAz/src/machines.jl:77\n",
      "┌ Warning: The scitype of `X`, in `machine(model, X, ...)` is incompatible with `model=\u001b[34mSVMClassifier @519\u001b[39m`:\n",
      "│ scitype(X) = Table{Union{AbstractArray{Continuous,1}, AbstractArray{Count,1}}}\n",
      "│ input_scitype(model) = Table{var\"#s44\"} where var\"#s44\"<:(AbstractArray{var\"#s13\",1} where var\"#s13\"<:Continuous).\n",
      "└ @ MLJBase /home/andrew/.julia/packages/MLJBase/uKzAz/src/machines.jl:77\n",
      "┌ Warning: The scitype of `X`, in `machine(model, X, ...)` is incompatible with `model=\u001b[34mSVMClassifier @519\u001b[39m`:\n",
      "│ scitype(X) = Table{Union{AbstractArray{Continuous,1}, AbstractArray{Count,1}}}\n",
      "│ input_scitype(model) = Table{var\"#s44\"} where var\"#s44\"<:(AbstractArray{var\"#s13\",1} where var\"#s13\"<:Continuous).\n",
      "└ @ MLJBase /home/andrew/.julia/packages/MLJBase/uKzAz/src/machines.jl:77\n",
      "┌ Warning: The scitype of `X`, in `machine(model, X, ...)` is incompatible with `model=\u001b[34mSVMClassifier @519\u001b[39m`:\n",
      "│ scitype(X) = Table{Union{AbstractArray{Continuous,1}, AbstractArray{Count,1}}}\n",
      "│ input_scitype(model) = Table{var\"#s44\"} where var\"#s44\"<:(AbstractArray{var\"#s13\",1} where var\"#s13\"<:Continuous).\n",
      "└ @ MLJBase /home/andrew/.julia/packages/MLJBase/uKzAz/src/machines.jl:77\n",
      "┌ Warning: The scitype of `X`, in `machine(model, X, ...)` is incompatible with `model=\u001b[34mSVMClassifier @519\u001b[39m`:\n",
      "│ scitype(X) = Table{Union{AbstractArray{Continuous,1}, AbstractArray{Count,1}}}\n",
      "│ input_scitype(model) = Table{var\"#s44\"} where var\"#s44\"<:(AbstractArray{var\"#s13\",1} where var\"#s13\"<:Continuous).\n",
      "└ @ MLJBase /home/andrew/.julia/packages/MLJBase/uKzAz/src/machines.jl:77\n",
      "┌ Warning: The scitype of `X`, in `machine(model, X, ...)` is incompatible with `model=\u001b[34mSVMClassifier @519\u001b[39m`:\n",
      "│ scitype(X) = Table{Union{AbstractArray{Continuous,1}, AbstractArray{Count,1}}}\n",
      "│ input_scitype(model) = Table{var\"#s44\"} where var\"#s44\"<:(AbstractArray{var\"#s13\",1} where var\"#s13\"<:Continuous).\n",
      "└ @ MLJBase /home/andrew/.julia/packages/MLJBase/uKzAz/src/machines.jl:77\n",
      "┌ Warning: The scitype of `X`, in `machine(model, X, ...)` is incompatible with `model=\u001b[34mSVMClassifier @519\u001b[39m`:\n",
      "│ scitype(X) = Table{Union{AbstractArray{Continuous,1}, AbstractArray{Count,1}}}\n",
      "│ input_scitype(model) = Table{var\"#s44\"} where var\"#s44\"<:(AbstractArray{var\"#s13\",1} where var\"#s13\"<:Continuous).\n",
      "└ @ MLJBase /home/andrew/.julia/packages/MLJBase/uKzAz/src/machines.jl:77\n",
      "┌ Warning: The scitype of `X`, in `machine(model, X, ...)` is incompatible with `model=\u001b[34mSVMClassifier @519\u001b[39m`:\n",
      "│ scitype(X) = Table{Union{AbstractArray{Continuous,1}, AbstractArray{Count,1}}}\n",
      "│ input_scitype(model) = Table{var\"#s44\"} where var\"#s44\"<:(AbstractArray{var\"#s13\",1} where var\"#s13\"<:Continuous).\n",
      "└ @ MLJBase /home/andrew/.julia/packages/MLJBase/uKzAz/src/machines.jl:77\n"
     ]
    },
    {
     "name": "stdout",
     "output_type": "stream",
     "text": [
      "(d, train_metric, valid_metric) = (465, 0.8838709677419355, 0.8851351351351351)\n",
      "(d, train_metric, valid_metric) = (470, 0.8893617021276596, 0.8783783783783784)\n",
      "(d, train_metric, valid_metric) = (475, 0.88, 0.8918918918918919)\n",
      "(d, train_metric, valid_metric) = (480, 0.88125, 0.8918918918918919)\n",
      "(d, train_metric, valid_metric) = (485, 0.8845360824742268, 0.8851351351351351)\n",
      "(d, train_metric, valid_metric) = (490, 0.8836734693877552, 0.8851351351351351)\n",
      "(d, train_metric, valid_metric) = (495, 0.8808080808080808, 0.8716216216216216)\n",
      "(d, train_metric, valid_metric) = (500, 0.888, 0.8918918918918919)\n"
     ]
    },
    {
     "name": "stderr",
     "output_type": "stream",
     "text": [
      "┌ Warning: The scitype of `X`, in `machine(model, X, ...)` is incompatible with `model=\u001b[34mSVMClassifier @519\u001b[39m`:\n",
      "│ scitype(X) = Table{Union{AbstractArray{Continuous,1}, AbstractArray{Count,1}}}\n",
      "│ input_scitype(model) = Table{var\"#s44\"} where var\"#s44\"<:(AbstractArray{var\"#s13\",1} where var\"#s13\"<:Continuous).\n",
      "└ @ MLJBase /home/andrew/.julia/packages/MLJBase/uKzAz/src/machines.jl:77\n",
      "┌ Warning: The scitype of `X`, in `machine(model, X, ...)` is incompatible with `model=\u001b[34mSVMClassifier @519\u001b[39m`:\n",
      "│ scitype(X) = Table{Union{AbstractArray{Continuous,1}, AbstractArray{Count,1}}}\n",
      "│ input_scitype(model) = Table{var\"#s44\"} where var\"#s44\"<:(AbstractArray{var\"#s13\",1} where var\"#s13\"<:Continuous).\n",
      "└ @ MLJBase /home/andrew/.julia/packages/MLJBase/uKzAz/src/machines.jl:77\n",
      "┌ Warning: The scitype of `X`, in `machine(model, X, ...)` is incompatible with `model=\u001b[34mSVMClassifier @519\u001b[39m`:\n",
      "│ scitype(X) = Table{Union{AbstractArray{Continuous,1}, AbstractArray{Count,1}}}\n",
      "│ input_scitype(model) = Table{var\"#s44\"} where var\"#s44\"<:(AbstractArray{var\"#s13\",1} where var\"#s13\"<:Continuous).\n",
      "└ @ MLJBase /home/andrew/.julia/packages/MLJBase/uKzAz/src/machines.jl:77\n",
      "┌ Warning: The scitype of `X`, in `machine(model, X, ...)` is incompatible with `model=\u001b[34mSVMClassifier @519\u001b[39m`:\n",
      "│ scitype(X) = Table{Union{AbstractArray{Continuous,1}, AbstractArray{Count,1}}}\n",
      "│ input_scitype(model) = Table{var\"#s44\"} where var\"#s44\"<:(AbstractArray{var\"#s13\",1} where var\"#s13\"<:Continuous).\n",
      "└ @ MLJBase /home/andrew/.julia/packages/MLJBase/uKzAz/src/machines.jl:77\n",
      "┌ Warning: The scitype of `X`, in `machine(model, X, ...)` is incompatible with `model=\u001b[34mSVMClassifier @519\u001b[39m`:\n",
      "│ scitype(X) = Table{Union{AbstractArray{Continuous,1}, AbstractArray{Count,1}}}\n",
      "│ input_scitype(model) = Table{var\"#s44\"} where var\"#s44\"<:(AbstractArray{var\"#s13\",1} where var\"#s13\"<:Continuous).\n",
      "└ @ MLJBase /home/andrew/.julia/packages/MLJBase/uKzAz/src/machines.jl:77\n",
      "┌ Warning: The scitype of `X`, in `machine(model, X, ...)` is incompatible with `model=\u001b[34mSVMClassifier @519\u001b[39m`:\n",
      "│ scitype(X) = Table{Union{AbstractArray{Continuous,1}, AbstractArray{Count,1}}}\n",
      "│ input_scitype(model) = Table{var\"#s44\"} where var\"#s44\"<:(AbstractArray{var\"#s13\",1} where var\"#s13\"<:Continuous).\n",
      "└ @ MLJBase /home/andrew/.julia/packages/MLJBase/uKzAz/src/machines.jl:77\n",
      "┌ Warning: The scitype of `X`, in `machine(model, X, ...)` is incompatible with `model=\u001b[34mSVMClassifier @519\u001b[39m`:\n",
      "│ scitype(X) = Table{Union{AbstractArray{Continuous,1}, AbstractArray{Count,1}}}\n",
      "│ input_scitype(model) = Table{var\"#s44\"} where var\"#s44\"<:(AbstractArray{var\"#s13\",1} where var\"#s13\"<:Continuous).\n",
      "└ @ MLJBase /home/andrew/.julia/packages/MLJBase/uKzAz/src/machines.jl:77\n",
      "┌ Warning: The scitype of `X`, in `machine(model, X, ...)` is incompatible with `model=\u001b[34mSVMClassifier @519\u001b[39m`:\n",
      "│ scitype(X) = Table{Union{AbstractArray{Continuous,1}, AbstractArray{Count,1}}}\n",
      "│ input_scitype(model) = Table{var\"#s44\"} where var\"#s44\"<:(AbstractArray{var\"#s13\",1} where var\"#s13\"<:Continuous).\n",
      "└ @ MLJBase /home/andrew/.julia/packages/MLJBase/uKzAz/src/machines.jl:77\n"
     ]
    },
    {
     "name": "stdout",
     "output_type": "stream",
     "text": [
      "(d, train_metric, valid_metric) = (505, 0.8851485148514852, 0.8918918918918919)\n",
      "(d, train_metric, valid_metric) = (510, 0.8803921568627451, 0.8716216216216216)\n",
      "(d, train_metric, valid_metric) = (515, 0.8854368932038835, 0.8783783783783784)\n",
      "(d, train_metric, valid_metric) = (520, 0.8711538461538462, 0.8851351351351351)\n",
      "(d, train_metric, valid_metric) = (525, 0.8761904761904762, 0.8851351351351351)\n",
      "(d, train_metric, valid_metric) = (530, 0.8754716981132076, 0.8851351351351351)\n",
      "(d, train_metric, valid_metric) = (535, 0.8785046728971962, 0.8783783783783784)\n"
     ]
    },
    {
     "name": "stderr",
     "output_type": "stream",
     "text": [
      "┌ Warning: The scitype of `X`, in `machine(model, X, ...)` is incompatible with `model=\u001b[34mSVMClassifier @519\u001b[39m`:\n",
      "│ scitype(X) = Table{Union{AbstractArray{Continuous,1}, AbstractArray{Count,1}}}\n",
      "│ input_scitype(model) = Table{var\"#s44\"} where var\"#s44\"<:(AbstractArray{var\"#s13\",1} where var\"#s13\"<:Continuous).\n",
      "└ @ MLJBase /home/andrew/.julia/packages/MLJBase/uKzAz/src/machines.jl:77\n",
      "┌ Warning: The scitype of `X`, in `machine(model, X, ...)` is incompatible with `model=\u001b[34mSVMClassifier @519\u001b[39m`:\n",
      "│ scitype(X) = Table{Union{AbstractArray{Continuous,1}, AbstractArray{Count,1}}}\n",
      "│ input_scitype(model) = Table{var\"#s44\"} where var\"#s44\"<:(AbstractArray{var\"#s13\",1} where var\"#s13\"<:Continuous).\n",
      "└ @ MLJBase /home/andrew/.julia/packages/MLJBase/uKzAz/src/machines.jl:77\n",
      "┌ Warning: The scitype of `X`, in `machine(model, X, ...)` is incompatible with `model=\u001b[34mSVMClassifier @519\u001b[39m`:\n",
      "│ scitype(X) = Table{Union{AbstractArray{Continuous,1}, AbstractArray{Count,1}}}\n",
      "│ input_scitype(model) = Table{var\"#s44\"} where var\"#s44\"<:(AbstractArray{var\"#s13\",1} where var\"#s13\"<:Continuous).\n",
      "└ @ MLJBase /home/andrew/.julia/packages/MLJBase/uKzAz/src/machines.jl:77\n",
      "┌ Warning: The scitype of `X`, in `machine(model, X, ...)` is incompatible with `model=\u001b[34mSVMClassifier @519\u001b[39m`:\n",
      "│ scitype(X) = Table{Union{AbstractArray{Continuous,1}, AbstractArray{Count,1}}}\n",
      "│ input_scitype(model) = Table{var\"#s44\"} where var\"#s44\"<:(AbstractArray{var\"#s13\",1} where var\"#s13\"<:Continuous).\n",
      "└ @ MLJBase /home/andrew/.julia/packages/MLJBase/uKzAz/src/machines.jl:77\n",
      "┌ Warning: The scitype of `X`, in `machine(model, X, ...)` is incompatible with `model=\u001b[34mSVMClassifier @519\u001b[39m`:\n",
      "│ scitype(X) = Table{Union{AbstractArray{Continuous,1}, AbstractArray{Count,1}}}\n",
      "│ input_scitype(model) = Table{var\"#s44\"} where var\"#s44\"<:(AbstractArray{var\"#s13\",1} where var\"#s13\"<:Continuous).\n",
      "└ @ MLJBase /home/andrew/.julia/packages/MLJBase/uKzAz/src/machines.jl:77\n",
      "┌ Warning: The scitype of `X`, in `machine(model, X, ...)` is incompatible with `model=\u001b[34mSVMClassifier @519\u001b[39m`:\n",
      "│ scitype(X) = Table{Union{AbstractArray{Continuous,1}, AbstractArray{Count,1}}}\n",
      "│ input_scitype(model) = Table{var\"#s44\"} where var\"#s44\"<:(AbstractArray{var\"#s13\",1} where var\"#s13\"<:Continuous).\n",
      "└ @ MLJBase /home/andrew/.julia/packages/MLJBase/uKzAz/src/machines.jl:77\n",
      "┌ Warning: The scitype of `X`, in `machine(model, X, ...)` is incompatible with `model=\u001b[34mSVMClassifier @519\u001b[39m`:\n",
      "│ scitype(X) = Table{Union{AbstractArray{Continuous,1}, AbstractArray{Count,1}}}\n",
      "│ input_scitype(model) = Table{var\"#s44\"} where var\"#s44\"<:(AbstractArray{var\"#s13\",1} where var\"#s13\"<:Continuous).\n",
      "└ @ MLJBase /home/andrew/.julia/packages/MLJBase/uKzAz/src/machines.jl:77\n"
     ]
    },
    {
     "name": "stdout",
     "output_type": "stream",
     "text": [
      "(d, train_metric, valid_metric) = (540, 0.8796296296296297, 0.8783783783783784)\n",
      "(d, train_metric, valid_metric) = (545, 0.8844036697247706, 0.8783783783783784)\n",
      "(d, train_metric, valid_metric) = (550, 0.8781818181818182, 0.8783783783783784)\n",
      "(d, train_metric, valid_metric) = (555, 0.8846846846846846, 0.8783783783783784)\n",
      "(d, train_metric, valid_metric) = (560, 0.8857142857142857, 0.8783783783783784)\n",
      "(d, train_metric, valid_metric) = (565, 0.8814159292035398, 0.8783783783783784)\n",
      "(d, train_metric, valid_metric) = (570, 0.8824561403508772, 0.8783783783783784)\n"
     ]
    },
    {
     "name": "stderr",
     "output_type": "stream",
     "text": [
      "┌ Warning: The scitype of `X`, in `machine(model, X, ...)` is incompatible with `model=\u001b[34mSVMClassifier @519\u001b[39m`:\n",
      "│ scitype(X) = Table{Union{AbstractArray{Continuous,1}, AbstractArray{Count,1}}}\n",
      "│ input_scitype(model) = Table{var\"#s44\"} where var\"#s44\"<:(AbstractArray{var\"#s13\",1} where var\"#s13\"<:Continuous).\n",
      "└ @ MLJBase /home/andrew/.julia/packages/MLJBase/uKzAz/src/machines.jl:77\n",
      "┌ Warning: The scitype of `X`, in `machine(model, X, ...)` is incompatible with `model=\u001b[34mSVMClassifier @519\u001b[39m`:\n",
      "│ scitype(X) = Table{Union{AbstractArray{Continuous,1}, AbstractArray{Count,1}}}\n",
      "│ input_scitype(model) = Table{var\"#s44\"} where var\"#s44\"<:(AbstractArray{var\"#s13\",1} where var\"#s13\"<:Continuous).\n",
      "└ @ MLJBase /home/andrew/.julia/packages/MLJBase/uKzAz/src/machines.jl:77\n",
      "┌ Warning: The scitype of `X`, in `machine(model, X, ...)` is incompatible with `model=\u001b[34mSVMClassifier @519\u001b[39m`:\n",
      "│ scitype(X) = Table{Union{AbstractArray{Continuous,1}, AbstractArray{Count,1}}}\n",
      "│ input_scitype(model) = Table{var\"#s44\"} where var\"#s44\"<:(AbstractArray{var\"#s13\",1} where var\"#s13\"<:Continuous).\n",
      "└ @ MLJBase /home/andrew/.julia/packages/MLJBase/uKzAz/src/machines.jl:77\n",
      "┌ Warning: The scitype of `X`, in `machine(model, X, ...)` is incompatible with `model=\u001b[34mSVMClassifier @519\u001b[39m`:\n",
      "│ scitype(X) = Table{Union{AbstractArray{Continuous,1}, AbstractArray{Count,1}}}\n",
      "│ input_scitype(model) = Table{var\"#s44\"} where var\"#s44\"<:(AbstractArray{var\"#s13\",1} where var\"#s13\"<:Continuous).\n",
      "└ @ MLJBase /home/andrew/.julia/packages/MLJBase/uKzAz/src/machines.jl:77\n",
      "┌ Warning: The scitype of `X`, in `machine(model, X, ...)` is incompatible with `model=\u001b[34mSVMClassifier @519\u001b[39m`:\n",
      "│ scitype(X) = Table{Union{AbstractArray{Continuous,1}, AbstractArray{Count,1}}}\n",
      "│ input_scitype(model) = Table{var\"#s44\"} where var\"#s44\"<:(AbstractArray{var\"#s13\",1} where var\"#s13\"<:Continuous).\n",
      "└ @ MLJBase /home/andrew/.julia/packages/MLJBase/uKzAz/src/machines.jl:77\n",
      "┌ Warning: The scitype of `X`, in `machine(model, X, ...)` is incompatible with `model=\u001b[34mSVMClassifier @519\u001b[39m`:\n",
      "│ scitype(X) = Table{Union{AbstractArray{Continuous,1}, AbstractArray{Count,1}}}\n",
      "│ input_scitype(model) = Table{var\"#s44\"} where var\"#s44\"<:(AbstractArray{var\"#s13\",1} where var\"#s13\"<:Continuous).\n",
      "└ @ MLJBase /home/andrew/.julia/packages/MLJBase/uKzAz/src/machines.jl:77\n",
      "┌ Warning: The scitype of `X`, in `machine(model, X, ...)` is incompatible with `model=\u001b[34mSVMClassifier @519\u001b[39m`:\n",
      "│ scitype(X) = Table{Union{AbstractArray{Continuous,1}, AbstractArray{Count,1}}}\n",
      "│ input_scitype(model) = Table{var\"#s44\"} where var\"#s44\"<:(AbstractArray{var\"#s13\",1} where var\"#s13\"<:Continuous).\n",
      "└ @ MLJBase /home/andrew/.julia/packages/MLJBase/uKzAz/src/machines.jl:77\n"
     ]
    },
    {
     "name": "stdout",
     "output_type": "stream",
     "text": [
      "(d, train_metric, valid_metric) = (575, 0.8817391304347826, 0.8783783783783784)\n",
      "(d, train_metric, valid_metric) = (580, 0.8862068965517241, 0.8716216216216216)\n",
      "(d, train_metric, valid_metric) = (585, 0.8871794871794871, 0.8783783783783784)\n",
      "(d, train_metric, valid_metric) = (590, 0.8847457627118644, 0.8783783783783784)\n"
     ]
    },
    {
     "name": "stderr",
     "output_type": "stream",
     "text": [
      "┌ Warning: The scitype of `X`, in `machine(model, X, ...)` is incompatible with `model=\u001b[34mSVMClassifier @519\u001b[39m`:\n",
      "│ scitype(X) = Table{Union{AbstractArray{Continuous,1}, AbstractArray{Count,1}}}\n",
      "│ input_scitype(model) = Table{var\"#s44\"} where var\"#s44\"<:(AbstractArray{var\"#s13\",1} where var\"#s13\"<:Continuous).\n",
      "└ @ MLJBase /home/andrew/.julia/packages/MLJBase/uKzAz/src/machines.jl:77\n",
      "┌ Warning: The scitype of `X`, in `machine(model, X, ...)` is incompatible with `model=\u001b[34mSVMClassifier @519\u001b[39m`:\n",
      "│ scitype(X) = Table{Union{AbstractArray{Continuous,1}, AbstractArray{Count,1}}}\n",
      "│ input_scitype(model) = Table{var\"#s44\"} where var\"#s44\"<:(AbstractArray{var\"#s13\",1} where var\"#s13\"<:Continuous).\n",
      "└ @ MLJBase /home/andrew/.julia/packages/MLJBase/uKzAz/src/machines.jl:77\n",
      "┌ Warning: The scitype of `X`, in `machine(model, X, ...)` is incompatible with `model=\u001b[34mSVMClassifier @519\u001b[39m`:\n",
      "│ scitype(X) = Table{Union{AbstractArray{Continuous,1}, AbstractArray{Count,1}}}\n",
      "│ input_scitype(model) = Table{var\"#s44\"} where var\"#s44\"<:(AbstractArray{var\"#s13\",1} where var\"#s13\"<:Continuous).\n",
      "└ @ MLJBase /home/andrew/.julia/packages/MLJBase/uKzAz/src/machines.jl:77\n"
     ]
    },
    {
     "data": {
      "text/plain": [
       "(10:5:590, Any[1.0, 1.0, 1.0, 1.0, 1.0, 1.0, 1.0, 1.0, 1.0, 1.0  …  0.8844036697247706, 0.8781818181818182, 0.8846846846846846, 0.8857142857142857, 0.8814159292035398, 0.8824561403508772, 0.8817391304347826, 0.8862068965517241, 0.8871794871794871, 0.8847457627118644], Any[0.6959459459459459, 0.7432432432432432, 0.75, 0.7635135135135135, 0.7972972972972973, 0.7972972972972973, 0.7837837837837838, 0.7837837837837838, 0.7635135135135135, 0.75  …  0.8783783783783784, 0.8783783783783784, 0.8783783783783784, 0.8783783783783784, 0.8783783783783784, 0.8783783783783784, 0.8783783783783784, 0.8716216216216216, 0.8783783783783784, 0.8783783783783784])"
      ]
     },
     "execution_count": 34,
     "metadata": {},
     "output_type": "execute_result"
    }
   ],
   "source": [
    "data_schedule, training_losses, valid_losses = learn_curve(best_linear_model, X_stand[train,:], y[train])"
   ]
  },
  {
   "cell_type": "code",
   "execution_count": 35,
   "metadata": {
    "scrolled": false
   },
   "outputs": [
    {
     "data": {
      "image/svg+xml": [
       "<?xml version=\"1.0\" encoding=\"utf-8\"?>\n",
       "<svg xmlns=\"http://www.w3.org/2000/svg\" xmlns:xlink=\"http://www.w3.org/1999/xlink\" width=\"600\" height=\"400\" viewBox=\"0 0 2400 1600\">\n",
       "<defs>\n",
       "  <clipPath id=\"clip890\">\n",
       "    <rect x=\"0\" y=\"0\" width=\"2400\" height=\"1600\"/>\n",
       "  </clipPath>\n",
       "</defs>\n",
       "<path clip-path=\"url(#clip890)\" d=\"\n",
       "M0 1600 L2400 1600 L2400 0 L0 0  Z\n",
       "  \" fill=\"#ffffff\" fill-rule=\"evenodd\" fill-opacity=\"1\"/>\n",
       "<defs>\n",
       "  <clipPath id=\"clip891\">\n",
       "    <rect x=\"480\" y=\"0\" width=\"1681\" height=\"1600\"/>\n",
       "  </clipPath>\n",
       "</defs>\n",
       "<path clip-path=\"url(#clip890)\" d=\"\n",
       "M211.024 1423.18 L2352.76 1423.18 L2352.76 47.2441 L211.024 47.2441  Z\n",
       "  \" fill=\"#ffffff\" fill-rule=\"evenodd\" fill-opacity=\"1\"/>\n",
       "<defs>\n",
       "  <clipPath id=\"clip892\">\n",
       "    <rect x=\"211\" y=\"47\" width=\"2143\" height=\"1377\"/>\n",
       "  </clipPath>\n",
       "</defs>\n",
       "<polyline clip-path=\"url(#clip892)\" style=\"stroke:#000000; stroke-width:2; stroke-opacity:0.1; fill:none\" points=\"\n",
       "  236.803,1423.18 236.803,47.2441 \n",
       "  \"/>\n",
       "<polyline clip-path=\"url(#clip892)\" style=\"stroke:#000000; stroke-width:2; stroke-opacity:0.1; fill:none\" points=\"\n",
       "  585.165,1423.18 585.165,47.2441 \n",
       "  \"/>\n",
       "<polyline clip-path=\"url(#clip892)\" style=\"stroke:#000000; stroke-width:2; stroke-opacity:0.1; fill:none\" points=\"\n",
       "  933.527,1423.18 933.527,47.2441 \n",
       "  \"/>\n",
       "<polyline clip-path=\"url(#clip892)\" style=\"stroke:#000000; stroke-width:2; stroke-opacity:0.1; fill:none\" points=\"\n",
       "  1281.89,1423.18 1281.89,47.2441 \n",
       "  \"/>\n",
       "<polyline clip-path=\"url(#clip892)\" style=\"stroke:#000000; stroke-width:2; stroke-opacity:0.1; fill:none\" points=\"\n",
       "  1630.25,1423.18 1630.25,47.2441 \n",
       "  \"/>\n",
       "<polyline clip-path=\"url(#clip892)\" style=\"stroke:#000000; stroke-width:2; stroke-opacity:0.1; fill:none\" points=\"\n",
       "  1978.61,1423.18 1978.61,47.2441 \n",
       "  \"/>\n",
       "<polyline clip-path=\"url(#clip892)\" style=\"stroke:#000000; stroke-width:2; stroke-opacity:0.1; fill:none\" points=\"\n",
       "  2326.98,1423.18 2326.98,47.2441 \n",
       "  \"/>\n",
       "<polyline clip-path=\"url(#clip892)\" style=\"stroke:#000000; stroke-width:2; stroke-opacity:0.1; fill:none\" points=\"\n",
       "  211.024,1366.93 2352.76,1366.93 \n",
       "  \"/>\n",
       "<polyline clip-path=\"url(#clip892)\" style=\"stroke:#000000; stroke-width:2; stroke-opacity:0.1; fill:none\" points=\"\n",
       "  211.024,940.016 2352.76,940.016 \n",
       "  \"/>\n",
       "<polyline clip-path=\"url(#clip892)\" style=\"stroke:#000000; stroke-width:2; stroke-opacity:0.1; fill:none\" points=\"\n",
       "  211.024,513.101 2352.76,513.101 \n",
       "  \"/>\n",
       "<polyline clip-path=\"url(#clip892)\" style=\"stroke:#000000; stroke-width:2; stroke-opacity:0.1; fill:none\" points=\"\n",
       "  211.024,86.1857 2352.76,86.1857 \n",
       "  \"/>\n",
       "<polyline clip-path=\"url(#clip890)\" style=\"stroke:#000000; stroke-width:4; stroke-opacity:1; fill:none\" points=\"\n",
       "  211.024,1423.18 2352.76,1423.18 \n",
       "  \"/>\n",
       "<polyline clip-path=\"url(#clip890)\" style=\"stroke:#000000; stroke-width:4; stroke-opacity:1; fill:none\" points=\"\n",
       "  211.024,1423.18 211.024,47.2441 \n",
       "  \"/>\n",
       "<polyline clip-path=\"url(#clip890)\" style=\"stroke:#000000; stroke-width:4; stroke-opacity:1; fill:none\" points=\"\n",
       "  236.803,1423.18 236.803,1406.67 \n",
       "  \"/>\n",
       "<polyline clip-path=\"url(#clip890)\" style=\"stroke:#000000; stroke-width:4; stroke-opacity:1; fill:none\" points=\"\n",
       "  585.165,1423.18 585.165,1406.67 \n",
       "  \"/>\n",
       "<polyline clip-path=\"url(#clip890)\" style=\"stroke:#000000; stroke-width:4; stroke-opacity:1; fill:none\" points=\"\n",
       "  933.527,1423.18 933.527,1406.67 \n",
       "  \"/>\n",
       "<polyline clip-path=\"url(#clip890)\" style=\"stroke:#000000; stroke-width:4; stroke-opacity:1; fill:none\" points=\"\n",
       "  1281.89,1423.18 1281.89,1406.67 \n",
       "  \"/>\n",
       "<polyline clip-path=\"url(#clip890)\" style=\"stroke:#000000; stroke-width:4; stroke-opacity:1; fill:none\" points=\"\n",
       "  1630.25,1423.18 1630.25,1406.67 \n",
       "  \"/>\n",
       "<polyline clip-path=\"url(#clip890)\" style=\"stroke:#000000; stroke-width:4; stroke-opacity:1; fill:none\" points=\"\n",
       "  1978.61,1423.18 1978.61,1406.67 \n",
       "  \"/>\n",
       "<polyline clip-path=\"url(#clip890)\" style=\"stroke:#000000; stroke-width:4; stroke-opacity:1; fill:none\" points=\"\n",
       "  2326.98,1423.18 2326.98,1406.67 \n",
       "  \"/>\n",
       "<polyline clip-path=\"url(#clip890)\" style=\"stroke:#000000; stroke-width:4; stroke-opacity:1; fill:none\" points=\"\n",
       "  211.024,1366.93 236.725,1366.93 \n",
       "  \"/>\n",
       "<polyline clip-path=\"url(#clip890)\" style=\"stroke:#000000; stroke-width:4; stroke-opacity:1; fill:none\" points=\"\n",
       "  211.024,940.016 236.725,940.016 \n",
       "  \"/>\n",
       "<polyline clip-path=\"url(#clip890)\" style=\"stroke:#000000; stroke-width:4; stroke-opacity:1; fill:none\" points=\"\n",
       "  211.024,513.101 236.725,513.101 \n",
       "  \"/>\n",
       "<polyline clip-path=\"url(#clip890)\" style=\"stroke:#000000; stroke-width:4; stroke-opacity:1; fill:none\" points=\"\n",
       "  211.024,86.1857 236.725,86.1857 \n",
       "  \"/>\n",
       "<path clip-path=\"url(#clip890)\" d=\"M 0 0 M236.803 1445.17 Q233.191 1445.17 231.363 1448.74 Q229.557 1452.28 229.557 1459.41 Q229.557 1466.51 231.363 1470.08 Q233.191 1473.62 236.803 1473.62 Q240.437 1473.62 242.242 1470.08 Q244.071 1466.51 244.071 1459.41 Q244.071 1452.28 242.242 1448.74 Q240.437 1445.17 236.803 1445.17 M236.803 1441.47 Q242.613 1441.47 245.668 1446.07 Q248.747 1450.66 248.747 1459.41 Q248.747 1468.13 245.668 1472.74 Q242.613 1477.32 236.803 1477.32 Q230.992 1477.32 227.914 1472.74 Q224.858 1468.13 224.858 1459.41 Q224.858 1450.66 227.914 1446.07 Q230.992 1441.47 236.803 1441.47 Z\" fill=\"#000000\" fill-rule=\"evenodd\" fill-opacity=\"1\" /><path clip-path=\"url(#clip890)\" d=\"M 0 0 M548.533 1472.72 L556.172 1472.72 L556.172 1446.35 L547.862 1448.02 L547.862 1443.76 L556.126 1442.09 L560.802 1442.09 L560.802 1472.72 L568.441 1472.72 L568.441 1476.65 L548.533 1476.65 L548.533 1472.72 Z\" fill=\"#000000\" fill-rule=\"evenodd\" fill-opacity=\"1\" /><path clip-path=\"url(#clip890)\" d=\"M 0 0 M583.51 1445.17 Q579.899 1445.17 578.07 1448.74 Q576.265 1452.28 576.265 1459.41 Q576.265 1466.51 578.07 1470.08 Q579.899 1473.62 583.51 1473.62 Q587.144 1473.62 588.95 1470.08 Q590.778 1466.51 590.778 1459.41 Q590.778 1452.28 588.95 1448.74 Q587.144 1445.17 583.51 1445.17 M583.51 1441.47 Q589.32 1441.47 592.376 1446.07 Q595.454 1450.66 595.454 1459.41 Q595.454 1468.13 592.376 1472.74 Q589.32 1477.32 583.51 1477.32 Q577.7 1477.32 574.621 1472.74 Q571.566 1468.13 571.566 1459.41 Q571.566 1450.66 574.621 1446.07 Q577.7 1441.47 583.51 1441.47 Z\" fill=\"#000000\" fill-rule=\"evenodd\" fill-opacity=\"1\" /><path clip-path=\"url(#clip890)\" d=\"M 0 0 M610.524 1445.17 Q606.913 1445.17 605.084 1448.74 Q603.278 1452.28 603.278 1459.41 Q603.278 1466.51 605.084 1470.08 Q606.913 1473.62 610.524 1473.62 Q614.158 1473.62 615.963 1470.08 Q617.792 1466.51 617.792 1459.41 Q617.792 1452.28 615.963 1448.74 Q614.158 1445.17 610.524 1445.17 M610.524 1441.47 Q616.334 1441.47 619.389 1446.07 Q622.468 1450.66 622.468 1459.41 Q622.468 1468.13 619.389 1472.74 Q616.334 1477.32 610.524 1477.32 Q604.713 1477.32 601.635 1472.74 Q598.579 1468.13 598.579 1459.41 Q598.579 1450.66 601.635 1446.07 Q604.713 1441.47 610.524 1441.47 Z\" fill=\"#000000\" fill-rule=\"evenodd\" fill-opacity=\"1\" /><path clip-path=\"url(#clip890)\" d=\"M 0 0 M901.166 1472.72 L917.486 1472.72 L917.486 1476.65 L895.541 1476.65 L895.541 1472.72 Q898.204 1469.96 902.787 1465.33 Q907.393 1460.68 908.574 1459.34 Q910.819 1456.81 911.699 1455.08 Q912.602 1453.32 912.602 1451.63 Q912.602 1448.87 910.657 1447.14 Q908.736 1445.4 905.634 1445.4 Q903.435 1445.4 900.981 1446.17 Q898.551 1446.93 895.773 1448.48 L895.773 1443.76 Q898.597 1442.62 901.051 1442.05 Q903.504 1441.47 905.541 1441.47 Q910.912 1441.47 914.106 1444.15 Q917.301 1446.84 917.301 1451.33 Q917.301 1453.46 916.49 1455.38 Q915.703 1457.28 913.597 1459.87 Q913.018 1460.54 909.916 1463.76 Q906.815 1466.95 901.166 1472.72 Z\" fill=\"#000000\" fill-rule=\"evenodd\" fill-opacity=\"1\" /><path clip-path=\"url(#clip890)\" d=\"M 0 0 M932.555 1445.17 Q928.944 1445.17 927.115 1448.74 Q925.31 1452.28 925.31 1459.41 Q925.31 1466.51 927.115 1470.08 Q928.944 1473.62 932.555 1473.62 Q936.189 1473.62 937.995 1470.08 Q939.824 1466.51 939.824 1459.41 Q939.824 1452.28 937.995 1448.74 Q936.189 1445.17 932.555 1445.17 M932.555 1441.47 Q938.365 1441.47 941.421 1446.07 Q944.5 1450.66 944.5 1459.41 Q944.5 1468.13 941.421 1472.74 Q938.365 1477.32 932.555 1477.32 Q926.745 1477.32 923.666 1472.74 Q920.611 1468.13 920.611 1459.41 Q920.611 1450.66 923.666 1446.07 Q926.745 1441.47 932.555 1441.47 Z\" fill=\"#000000\" fill-rule=\"evenodd\" fill-opacity=\"1\" /><path clip-path=\"url(#clip890)\" d=\"M 0 0 M959.569 1445.17 Q955.958 1445.17 954.129 1448.74 Q952.324 1452.28 952.324 1459.41 Q952.324 1466.51 954.129 1470.08 Q955.958 1473.62 959.569 1473.62 Q963.203 1473.62 965.009 1470.08 Q966.837 1466.51 966.837 1459.41 Q966.837 1452.28 965.009 1448.74 Q963.203 1445.17 959.569 1445.17 M959.569 1441.47 Q965.379 1441.47 968.435 1446.07 Q971.513 1450.66 971.513 1459.41 Q971.513 1468.13 968.435 1472.74 Q965.379 1477.32 959.569 1477.32 Q953.759 1477.32 950.68 1472.74 Q947.625 1468.13 947.625 1459.41 Q947.625 1450.66 950.68 1446.07 Q953.759 1441.47 959.569 1441.47 Z\" fill=\"#000000\" fill-rule=\"evenodd\" fill-opacity=\"1\" /><path clip-path=\"url(#clip890)\" d=\"M 0 0 M1259.12 1458.02 Q1262.48 1458.74 1264.36 1461 Q1266.25 1463.27 1266.25 1466.61 Q1266.25 1471.72 1262.73 1474.52 Q1259.22 1477.32 1252.73 1477.32 Q1250.56 1477.32 1248.24 1476.88 Q1245.95 1476.47 1243.5 1475.61 L1243.5 1471.1 Q1245.44 1472.23 1247.76 1472.81 Q1250.07 1473.39 1252.6 1473.39 Q1256.99 1473.39 1259.29 1471.65 Q1261.6 1469.92 1261.6 1466.61 Q1261.6 1463.55 1259.45 1461.84 Q1257.32 1460.1 1253.5 1460.1 L1249.47 1460.1 L1249.47 1456.26 L1253.68 1456.26 Q1257.13 1456.26 1258.96 1454.89 Q1260.79 1453.5 1260.79 1450.91 Q1260.79 1448.25 1258.89 1446.84 Q1257.02 1445.4 1253.5 1445.4 Q1251.58 1445.4 1249.38 1445.82 Q1247.18 1446.24 1244.54 1447.11 L1244.54 1442.95 Q1247.2 1442.21 1249.52 1441.84 Q1251.86 1441.47 1253.92 1441.47 Q1259.24 1441.47 1262.34 1443.9 Q1265.44 1446.3 1265.44 1450.43 Q1265.44 1453.3 1263.8 1455.29 Q1262.16 1457.25 1259.12 1458.02 Z\" fill=\"#000000\" fill-rule=\"evenodd\" fill-opacity=\"1\" /><path clip-path=\"url(#clip890)\" d=\"M 0 0 M1281.32 1445.17 Q1277.71 1445.17 1275.88 1448.74 Q1274.08 1452.28 1274.08 1459.41 Q1274.08 1466.51 1275.88 1470.08 Q1277.71 1473.62 1281.32 1473.62 Q1284.96 1473.62 1286.76 1470.08 Q1288.59 1466.51 1288.59 1459.41 Q1288.59 1452.28 1286.76 1448.74 Q1284.96 1445.17 1281.32 1445.17 M1281.32 1441.47 Q1287.13 1441.47 1290.19 1446.07 Q1293.27 1450.66 1293.27 1459.41 Q1293.27 1468.13 1290.19 1472.74 Q1287.13 1477.32 1281.32 1477.32 Q1275.51 1477.32 1272.43 1472.74 Q1269.38 1468.13 1269.38 1459.41 Q1269.38 1450.66 1272.43 1446.07 Q1275.51 1441.47 1281.32 1441.47 Z\" fill=\"#000000\" fill-rule=\"evenodd\" fill-opacity=\"1\" /><path clip-path=\"url(#clip890)\" d=\"M 0 0 M1308.34 1445.17 Q1304.73 1445.17 1302.9 1448.74 Q1301.09 1452.28 1301.09 1459.41 Q1301.09 1466.51 1302.9 1470.08 Q1304.73 1473.62 1308.34 1473.62 Q1311.97 1473.62 1313.78 1470.08 Q1315.6 1466.51 1315.6 1459.41 Q1315.6 1452.28 1313.78 1448.74 Q1311.97 1445.17 1308.34 1445.17 M1308.34 1441.47 Q1314.15 1441.47 1317.2 1446.07 Q1320.28 1450.66 1320.28 1459.41 Q1320.28 1468.13 1317.2 1472.74 Q1314.15 1477.32 1308.34 1477.32 Q1302.53 1477.32 1299.45 1472.74 Q1296.39 1468.13 1296.39 1459.41 Q1296.39 1450.66 1299.45 1446.07 Q1302.53 1441.47 1308.34 1441.47 Z\" fill=\"#000000\" fill-rule=\"evenodd\" fill-opacity=\"1\" /><path clip-path=\"url(#clip890)\" d=\"M 0 0 M1606.25 1446.17 L1594.44 1464.61 L1606.25 1464.61 L1606.25 1446.17 M1605.02 1442.09 L1610.9 1442.09 L1610.9 1464.61 L1615.83 1464.61 L1615.83 1468.5 L1610.9 1468.5 L1610.9 1476.65 L1606.25 1476.65 L1606.25 1468.5 L1590.65 1468.5 L1590.65 1463.99 L1605.02 1442.09 Z\" fill=\"#000000\" fill-rule=\"evenodd\" fill-opacity=\"1\" /><path clip-path=\"url(#clip890)\" d=\"M 0 0 M1630.9 1445.17 Q1627.29 1445.17 1625.46 1448.74 Q1623.66 1452.28 1623.66 1459.41 Q1623.66 1466.51 1625.46 1470.08 Q1627.29 1473.62 1630.9 1473.62 Q1634.53 1473.62 1636.34 1470.08 Q1638.17 1466.51 1638.17 1459.41 Q1638.17 1452.28 1636.34 1448.74 Q1634.53 1445.17 1630.9 1445.17 M1630.9 1441.47 Q1636.71 1441.47 1639.77 1446.07 Q1642.84 1450.66 1642.84 1459.41 Q1642.84 1468.13 1639.77 1472.74 Q1636.71 1477.32 1630.9 1477.32 Q1625.09 1477.32 1622.01 1472.74 Q1618.96 1468.13 1618.96 1459.41 Q1618.96 1450.66 1622.01 1446.07 Q1625.09 1441.47 1630.9 1441.47 Z\" fill=\"#000000\" fill-rule=\"evenodd\" fill-opacity=\"1\" /><path clip-path=\"url(#clip890)\" d=\"M 0 0 M1657.91 1445.17 Q1654.3 1445.17 1652.47 1448.74 Q1650.67 1452.28 1650.67 1459.41 Q1650.67 1466.51 1652.47 1470.08 Q1654.3 1473.62 1657.91 1473.62 Q1661.55 1473.62 1663.35 1470.08 Q1665.18 1466.51 1665.18 1459.41 Q1665.18 1452.28 1663.35 1448.74 Q1661.55 1445.17 1657.91 1445.17 M1657.91 1441.47 Q1663.72 1441.47 1666.78 1446.07 Q1669.86 1450.66 1669.86 1459.41 Q1669.86 1468.13 1666.78 1472.74 Q1663.72 1477.32 1657.91 1477.32 Q1652.1 1477.32 1649.03 1472.74 Q1645.97 1468.13 1645.97 1459.41 Q1645.97 1450.66 1649.03 1446.07 Q1652.1 1441.47 1657.91 1441.47 Z\" fill=\"#000000\" fill-rule=\"evenodd\" fill-opacity=\"1\" /><path clip-path=\"url(#clip890)\" d=\"M 0 0 M1941.88 1442.09 L1960.24 1442.09 L1960.24 1446.03 L1946.16 1446.03 L1946.16 1454.5 Q1947.18 1454.15 1948.2 1453.99 Q1949.22 1453.8 1950.24 1453.8 Q1956.02 1453.8 1959.4 1456.98 Q1962.78 1460.15 1962.78 1465.56 Q1962.78 1471.14 1959.31 1474.24 Q1955.84 1477.32 1949.52 1477.32 Q1947.34 1477.32 1945.07 1476.95 Q1942.83 1476.58 1940.42 1475.84 L1940.42 1471.14 Q1942.5 1472.28 1944.73 1472.83 Q1946.95 1473.39 1949.43 1473.39 Q1953.43 1473.39 1955.77 1471.28 Q1958.11 1469.18 1958.11 1465.56 Q1958.11 1461.95 1955.77 1459.85 Q1953.43 1457.74 1949.43 1457.74 Q1947.55 1457.74 1945.68 1458.16 Q1943.82 1458.57 1941.88 1459.45 L1941.88 1442.09 Z\" fill=\"#000000\" fill-rule=\"evenodd\" fill-opacity=\"1\" /><path clip-path=\"url(#clip890)\" d=\"M 0 0 M1977.85 1445.17 Q1974.24 1445.17 1972.41 1448.74 Q1970.61 1452.28 1970.61 1459.41 Q1970.61 1466.51 1972.41 1470.08 Q1974.24 1473.62 1977.85 1473.62 Q1981.49 1473.62 1983.29 1470.08 Q1985.12 1466.51 1985.12 1459.41 Q1985.12 1452.28 1983.29 1448.74 Q1981.49 1445.17 1977.85 1445.17 M1977.85 1441.47 Q1983.66 1441.47 1986.72 1446.07 Q1989.8 1450.66 1989.8 1459.41 Q1989.8 1468.13 1986.72 1472.74 Q1983.66 1477.32 1977.85 1477.32 Q1972.04 1477.32 1968.96 1472.74 Q1965.91 1468.13 1965.91 1459.41 Q1965.91 1450.66 1968.96 1446.07 Q1972.04 1441.47 1977.85 1441.47 Z\" fill=\"#000000\" fill-rule=\"evenodd\" fill-opacity=\"1\" /><path clip-path=\"url(#clip890)\" d=\"M 0 0 M2004.86 1445.17 Q2001.25 1445.17 1999.42 1448.74 Q1997.62 1452.28 1997.62 1459.41 Q1997.62 1466.51 1999.42 1470.08 Q2001.25 1473.62 2004.86 1473.62 Q2008.5 1473.62 2010.3 1470.08 Q2012.13 1466.51 2012.13 1459.41 Q2012.13 1452.28 2010.3 1448.74 Q2008.5 1445.17 2004.86 1445.17 M2004.86 1441.47 Q2010.67 1441.47 2013.73 1446.07 Q2016.81 1450.66 2016.81 1459.41 Q2016.81 1468.13 2013.73 1472.74 Q2010.67 1477.32 2004.86 1477.32 Q1999.05 1477.32 1995.98 1472.74 Q1992.92 1468.13 1992.92 1459.41 Q1992.92 1450.66 1995.98 1446.07 Q1999.05 1441.47 2004.86 1441.47 Z\" fill=\"#000000\" fill-rule=\"evenodd\" fill-opacity=\"1\" /><path clip-path=\"url(#clip890)\" d=\"M 0 0 M2300.37 1457.51 Q2297.22 1457.51 2295.37 1459.66 Q2293.54 1461.81 2293.54 1465.56 Q2293.54 1469.29 2295.37 1471.47 Q2297.22 1473.62 2300.37 1473.62 Q2303.52 1473.62 2305.35 1471.47 Q2307.2 1469.29 2307.2 1465.56 Q2307.2 1461.81 2305.35 1459.66 Q2303.52 1457.51 2300.37 1457.51 M2309.65 1442.86 L2309.65 1447.11 Q2307.89 1446.28 2306.09 1445.84 Q2304.3 1445.4 2302.54 1445.4 Q2297.91 1445.4 2295.46 1448.53 Q2293.03 1451.65 2292.68 1457.97 Q2294.05 1455.96 2296.11 1454.89 Q2298.17 1453.8 2300.65 1453.8 Q2305.85 1453.8 2308.86 1456.98 Q2311.9 1460.12 2311.9 1465.56 Q2311.9 1470.89 2308.75 1474.11 Q2305.6 1477.32 2300.37 1477.32 Q2294.37 1477.32 2291.2 1472.74 Q2288.03 1468.13 2288.03 1459.41 Q2288.03 1451.21 2291.92 1446.35 Q2295.81 1441.47 2302.36 1441.47 Q2304.12 1441.47 2305.9 1441.81 Q2307.71 1442.16 2309.65 1442.86 Z\" fill=\"#000000\" fill-rule=\"evenodd\" fill-opacity=\"1\" /><path clip-path=\"url(#clip890)\" d=\"M 0 0 M2326.97 1445.17 Q2323.35 1445.17 2321.53 1448.74 Q2319.72 1452.28 2319.72 1459.41 Q2319.72 1466.51 2321.53 1470.08 Q2323.35 1473.62 2326.97 1473.62 Q2330.6 1473.62 2332.41 1470.08 Q2334.23 1466.51 2334.23 1459.41 Q2334.23 1452.28 2332.41 1448.74 Q2330.6 1445.17 2326.97 1445.17 M2326.97 1441.47 Q2332.78 1441.47 2335.83 1446.07 Q2338.91 1450.66 2338.91 1459.41 Q2338.91 1468.13 2335.83 1472.74 Q2332.78 1477.32 2326.97 1477.32 Q2321.16 1477.32 2318.08 1472.74 Q2315.02 1468.13 2315.02 1459.41 Q2315.02 1450.66 2318.08 1446.07 Q2321.16 1441.47 2326.97 1441.47 Z\" fill=\"#000000\" fill-rule=\"evenodd\" fill-opacity=\"1\" /><path clip-path=\"url(#clip890)\" d=\"M 0 0 M2353.98 1445.17 Q2350.37 1445.17 2348.54 1448.74 Q2346.73 1452.28 2346.73 1459.41 Q2346.73 1466.51 2348.54 1470.08 Q2350.37 1473.62 2353.98 1473.62 Q2357.61 1473.62 2359.42 1470.08 Q2361.25 1466.51 2361.25 1459.41 Q2361.25 1452.28 2359.42 1448.74 Q2357.61 1445.17 2353.98 1445.17 M2353.98 1441.47 Q2359.79 1441.47 2362.84 1446.07 Q2365.92 1450.66 2365.92 1459.41 Q2365.92 1468.13 2362.84 1472.74 Q2359.79 1477.32 2353.98 1477.32 Q2348.17 1477.32 2345.09 1472.74 Q2342.03 1468.13 2342.03 1459.41 Q2342.03 1450.66 2345.09 1446.07 Q2348.17 1441.47 2353.98 1441.47 Z\" fill=\"#000000\" fill-rule=\"evenodd\" fill-opacity=\"1\" /><path clip-path=\"url(#clip890)\" d=\"M 0 0 M139.015 1352.73 Q135.404 1352.73 133.575 1356.29 Q131.769 1359.84 131.769 1366.97 Q131.769 1374.07 133.575 1377.64 Q135.404 1381.18 139.015 1381.18 Q142.649 1381.18 144.455 1377.64 Q146.283 1374.07 146.283 1366.97 Q146.283 1359.84 144.455 1356.29 Q142.649 1352.73 139.015 1352.73 M139.015 1349.03 Q144.825 1349.03 147.88 1353.63 Q150.959 1358.22 150.959 1366.97 Q150.959 1375.69 147.88 1380.3 Q144.825 1384.88 139.015 1384.88 Q133.205 1384.88 130.126 1380.3 Q127.07 1375.69 127.07 1366.97 Q127.07 1358.22 130.126 1353.63 Q133.205 1349.03 139.015 1349.03 Z\" fill=\"#000000\" fill-rule=\"evenodd\" fill-opacity=\"1\" /><path clip-path=\"url(#clip890)\" d=\"M 0 0 M156.029 1378.33 L160.913 1378.33 L160.913 1384.21 L156.029 1384.21 L156.029 1378.33 Z\" fill=\"#000000\" fill-rule=\"evenodd\" fill-opacity=\"1\" /><path clip-path=\"url(#clip890)\" d=\"M 0 0 M164.802 1349.65 L187.024 1349.65 L187.024 1351.64 L174.477 1384.21 L169.593 1384.21 L181.399 1353.59 L164.802 1353.59 L164.802 1349.65 Z\" fill=\"#000000\" fill-rule=\"evenodd\" fill-opacity=\"1\" /><path clip-path=\"url(#clip890)\" d=\"M 0 0 M138.205 925.815 Q134.593 925.815 132.765 929.379 Q130.959 932.921 130.959 940.051 Q130.959 947.157 132.765 950.722 Q134.593 954.263 138.205 954.263 Q141.839 954.263 143.644 950.722 Q145.473 947.157 145.473 940.051 Q145.473 932.921 143.644 929.379 Q141.839 925.815 138.205 925.815 M138.205 922.111 Q144.015 922.111 147.07 926.717 Q150.149 931.301 150.149 940.051 Q150.149 948.777 147.07 953.384 Q144.015 957.967 138.205 957.967 Q132.394 957.967 129.316 953.384 Q126.26 948.777 126.26 940.051 Q126.26 931.301 129.316 926.717 Q132.394 922.111 138.205 922.111 Z\" fill=\"#000000\" fill-rule=\"evenodd\" fill-opacity=\"1\" /><path clip-path=\"url(#clip890)\" d=\"M 0 0 M155.218 951.416 L160.103 951.416 L160.103 957.296 L155.218 957.296 L155.218 951.416 Z\" fill=\"#000000\" fill-rule=\"evenodd\" fill-opacity=\"1\" /><path clip-path=\"url(#clip890)\" d=\"M 0 0 M175.172 940.884 Q171.839 940.884 169.917 942.666 Q168.019 944.449 168.019 947.574 Q168.019 950.699 169.917 952.481 Q171.839 954.263 175.172 954.263 Q178.505 954.263 180.427 952.481 Q182.348 950.675 182.348 947.574 Q182.348 944.449 180.427 942.666 Q178.528 940.884 175.172 940.884 M170.496 938.893 Q167.487 938.152 165.797 936.092 Q164.13 934.032 164.13 931.069 Q164.13 926.926 167.07 924.518 Q170.033 922.111 175.172 922.111 Q180.334 922.111 183.274 924.518 Q186.214 926.926 186.214 931.069 Q186.214 934.032 184.524 936.092 Q182.857 938.152 179.871 938.893 Q183.251 939.68 185.126 941.972 Q187.024 944.263 187.024 947.574 Q187.024 952.597 183.945 955.282 Q180.889 957.967 175.172 957.967 Q169.454 957.967 166.376 955.282 Q163.32 952.597 163.32 947.574 Q163.32 944.263 165.218 941.972 Q167.116 939.68 170.496 938.893 M168.783 931.509 Q168.783 934.194 170.45 935.699 Q172.14 937.203 175.172 937.203 Q178.181 937.203 179.871 935.699 Q181.584 934.194 181.584 931.509 Q181.584 928.824 179.871 927.319 Q178.181 925.815 175.172 925.815 Q172.14 925.815 170.45 927.319 Q168.783 928.824 168.783 931.509 Z\" fill=\"#000000\" fill-rule=\"evenodd\" fill-opacity=\"1\" /><path clip-path=\"url(#clip890)\" d=\"M 0 0 M138.297 498.899 Q134.686 498.899 132.857 502.464 Q131.052 506.006 131.052 513.135 Q131.052 520.242 132.857 523.807 Q134.686 527.348 138.297 527.348 Q141.931 527.348 143.737 523.807 Q145.566 520.242 145.566 513.135 Q145.566 506.006 143.737 502.464 Q141.931 498.899 138.297 498.899 M138.297 495.196 Q144.107 495.196 147.163 499.802 Q150.242 504.386 150.242 513.135 Q150.242 521.862 147.163 526.469 Q144.107 531.052 138.297 531.052 Q132.487 531.052 129.408 526.469 Q126.353 521.862 126.353 513.135 Q126.353 504.386 129.408 499.802 Q132.487 495.196 138.297 495.196 Z\" fill=\"#000000\" fill-rule=\"evenodd\" fill-opacity=\"1\" /><path clip-path=\"url(#clip890)\" d=\"M 0 0 M155.311 524.501 L160.195 524.501 L160.195 530.381 L155.311 530.381 L155.311 524.501 Z\" fill=\"#000000\" fill-rule=\"evenodd\" fill-opacity=\"1\" /><path clip-path=\"url(#clip890)\" d=\"M 0 0 M165.403 529.663 L165.403 525.404 Q167.163 526.237 168.968 526.677 Q170.774 527.117 172.51 527.117 Q177.14 527.117 179.57 524.015 Q182.024 520.89 182.371 514.547 Q181.028 516.538 178.968 517.603 Q176.908 518.668 174.408 518.668 Q169.223 518.668 166.19 515.543 Q163.181 512.395 163.181 506.955 Q163.181 501.631 166.329 498.413 Q169.478 495.196 174.709 495.196 Q180.704 495.196 183.852 499.802 Q187.024 504.386 187.024 513.135 Q187.024 521.307 183.135 526.191 Q179.269 531.052 172.718 531.052 Q170.959 531.052 169.153 530.705 Q167.348 530.358 165.403 529.663 M174.709 515.01 Q177.857 515.01 179.686 512.858 Q181.538 510.705 181.538 506.955 Q181.538 503.228 179.686 501.075 Q177.857 498.899 174.709 498.899 Q171.561 498.899 169.709 501.075 Q167.88 503.228 167.88 506.955 Q167.88 510.705 169.709 512.858 Q171.561 515.01 174.709 515.01 Z\" fill=\"#000000\" fill-rule=\"evenodd\" fill-opacity=\"1\" /><path clip-path=\"url(#clip890)\" d=\"M 0 0 M130.149 99.5305 L137.788 99.5305 L137.788 73.1649 L129.478 74.8316 L129.478 70.5723 L137.742 68.9057 L142.417 68.9057 L142.417 99.5305 L150.056 99.5305 L150.056 103.466 L130.149 103.466 L130.149 99.5305 Z\" fill=\"#000000\" fill-rule=\"evenodd\" fill-opacity=\"1\" /><path clip-path=\"url(#clip890)\" d=\"M 0 0 M155.126 97.5861 L160.01 97.5861 L160.01 103.466 L155.126 103.466 L155.126 97.5861 Z\" fill=\"#000000\" fill-rule=\"evenodd\" fill-opacity=\"1\" /><path clip-path=\"url(#clip890)\" d=\"M 0 0 M175.079 71.9844 Q171.468 71.9844 169.64 75.5492 Q167.834 79.0908 167.834 86.2204 Q167.834 93.3268 169.64 96.8916 Q171.468 100.433 175.079 100.433 Q178.714 100.433 180.519 96.8916 Q182.348 93.3268 182.348 86.2204 Q182.348 79.0908 180.519 75.5492 Q178.714 71.9844 175.079 71.9844 M175.079 68.2807 Q180.889 68.2807 183.945 72.8871 Q187.024 77.4704 187.024 86.2204 Q187.024 94.9472 183.945 99.5537 Q180.889 104.137 175.079 104.137 Q169.269 104.137 166.19 99.5537 Q163.135 94.9472 163.135 86.2204 Q163.135 77.4704 166.19 72.8871 Q169.269 68.2807 175.079 68.2807 Z\" fill=\"#000000\" fill-rule=\"evenodd\" fill-opacity=\"1\" /><path clip-path=\"url(#clip890)\" d=\"M 0 0 M1041.85 1508.52 L1082.05 1508.52 L1082.05 1513.93 L1065.19 1513.93 L1065.19 1556.04 L1058.72 1556.04 L1058.72 1513.93 L1041.85 1513.93 L1041.85 1508.52 Z\" fill=\"#000000\" fill-rule=\"evenodd\" fill-opacity=\"1\" /><path clip-path=\"url(#clip890)\" d=\"M 0 0 M1099.27 1525.87 Q1098.29 1525.3 1097.11 1525.04 Q1095.96 1524.76 1094.56 1524.76 Q1089.6 1524.76 1086.92 1528 Q1084.28 1531.22 1084.28 1537.27 L1084.28 1556.04 L1078.39 1556.04 L1078.39 1520.4 L1084.28 1520.4 L1084.28 1525.93 Q1086.13 1522.69 1089.09 1521.13 Q1092.05 1519.54 1096.28 1519.54 Q1096.89 1519.54 1097.62 1519.63 Q1098.35 1519.7 1099.24 1519.85 L1099.27 1525.87 Z\" fill=\"#000000\" fill-rule=\"evenodd\" fill-opacity=\"1\" /><path clip-path=\"url(#clip890)\" d=\"M 0 0 M1121.62 1538.12 Q1114.52 1538.12 1111.78 1539.75 Q1109.04 1541.37 1109.04 1545.29 Q1109.04 1548.4 1111.08 1550.25 Q1113.15 1552.07 1116.68 1552.07 Q1121.55 1552.07 1124.48 1548.63 Q1127.44 1545.16 1127.44 1539.43 L1127.44 1538.12 L1121.62 1538.12 M1133.3 1535.71 L1133.3 1556.04 L1127.44 1556.04 L1127.44 1550.63 Q1125.44 1553.88 1122.44 1555.44 Q1119.45 1556.97 1115.12 1556.97 Q1109.65 1556.97 1106.4 1553.91 Q1103.19 1550.82 1103.19 1545.67 Q1103.19 1539.65 1107.2 1536.6 Q1111.24 1533.54 1119.23 1533.54 L1127.44 1533.54 L1127.44 1532.97 Q1127.44 1528.93 1124.77 1526.73 Q1122.13 1524.5 1117.32 1524.5 Q1114.26 1524.5 1111.37 1525.23 Q1108.47 1525.97 1105.8 1527.43 L1105.8 1522.02 Q1109.01 1520.78 1112.04 1520.17 Q1115.06 1519.54 1117.93 1519.54 Q1125.66 1519.54 1129.48 1523.55 Q1133.3 1527.56 1133.3 1535.71 Z\" fill=\"#000000\" fill-rule=\"evenodd\" fill-opacity=\"1\" /><path clip-path=\"url(#clip890)\" d=\"M 0 0 M1139.44 1520.4 L1145.3 1520.4 L1145.3 1556.04 L1139.44 1556.04 L1139.44 1520.4 M1139.44 1506.52 L1145.3 1506.52 L1145.3 1513.93 L1139.44 1513.93 L1139.44 1506.52 Z\" fill=\"#000000\" fill-rule=\"evenodd\" fill-opacity=\"1\" /><path clip-path=\"url(#clip890)\" d=\"M 0 0 M1181.07 1534.53 L1181.07 1556.04 L1175.22 1556.04 L1175.22 1534.72 Q1175.22 1529.66 1173.24 1527.14 Q1171.27 1524.63 1167.32 1524.63 Q1162.58 1524.63 1159.84 1527.65 Q1157.11 1530.68 1157.11 1535.9 L1157.11 1556.04 L1151.22 1556.04 L1151.22 1520.4 L1157.11 1520.4 L1157.11 1525.93 Q1159.21 1522.72 1162.04 1521.13 Q1164.9 1519.54 1168.63 1519.54 Q1174.77 1519.54 1177.92 1523.36 Q1181.07 1527.14 1181.07 1534.53 Z\" fill=\"#000000\" fill-rule=\"evenodd\" fill-opacity=\"1\" /><path clip-path=\"url(#clip890)\" d=\"M 0 0 M1187.22 1520.4 L1193.07 1520.4 L1193.07 1556.04 L1187.22 1556.04 L1187.22 1520.4 M1187.22 1506.52 L1193.07 1506.52 L1193.07 1513.93 L1187.22 1513.93 L1187.22 1506.52 Z\" fill=\"#000000\" fill-rule=\"evenodd\" fill-opacity=\"1\" /><path clip-path=\"url(#clip890)\" d=\"M 0 0 M1228.85 1534.53 L1228.85 1556.04 L1222.99 1556.04 L1222.99 1534.72 Q1222.99 1529.66 1221.02 1527.14 Q1219.04 1524.63 1215.1 1524.63 Q1210.36 1524.63 1207.62 1527.65 Q1204.88 1530.68 1204.88 1535.9 L1204.88 1556.04 L1198.99 1556.04 L1198.99 1520.4 L1204.88 1520.4 L1204.88 1525.93 Q1206.98 1522.72 1209.81 1521.13 Q1212.68 1519.54 1216.4 1519.54 Q1222.55 1519.54 1225.7 1523.36 Q1228.85 1527.14 1228.85 1534.53 Z\" fill=\"#000000\" fill-rule=\"evenodd\" fill-opacity=\"1\" /><path clip-path=\"url(#clip890)\" d=\"M 0 0 M1258.45 1537.81 Q1258.45 1531.44 1255.81 1527.94 Q1253.2 1524.44 1248.45 1524.44 Q1243.74 1524.44 1241.1 1527.94 Q1238.49 1531.44 1238.49 1537.81 Q1238.49 1544.14 1241.1 1547.64 Q1243.74 1551.14 1248.45 1551.14 Q1253.2 1551.14 1255.81 1547.64 Q1258.45 1544.14 1258.45 1537.81 M1264.3 1551.62 Q1264.3 1560.72 1260.26 1565.15 Q1256.22 1569.6 1247.88 1569.6 Q1244.79 1569.6 1242.06 1569.13 Q1239.32 1568.68 1236.74 1567.72 L1236.74 1562.03 Q1239.32 1563.43 1241.83 1564.1 Q1244.35 1564.76 1246.96 1564.76 Q1252.72 1564.76 1255.58 1561.74 Q1258.45 1558.75 1258.45 1552.67 L1258.45 1549.77 Q1256.63 1552.92 1253.8 1554.48 Q1250.97 1556.04 1247.02 1556.04 Q1240.46 1556.04 1236.45 1551.05 Q1232.44 1546.05 1232.44 1537.81 Q1232.44 1529.53 1236.45 1524.53 Q1240.46 1519.54 1247.02 1519.54 Q1250.97 1519.54 1253.8 1521.1 Q1256.63 1522.66 1258.45 1525.81 L1258.45 1520.4 L1264.3 1520.4 L1264.3 1551.62 Z\" fill=\"#000000\" fill-rule=\"evenodd\" fill-opacity=\"1\" /><path clip-path=\"url(#clip890)\" d=\"M 0 0 M1319.91 1510.08 L1319.91 1516.35 Q1316.25 1514.6 1313 1513.74 Q1309.76 1512.88 1306.73 1512.88 Q1301.48 1512.88 1298.62 1514.92 Q1295.78 1516.96 1295.78 1520.71 Q1295.78 1523.87 1297.66 1525.49 Q1299.57 1527.08 1304.85 1528.07 L1308.74 1528.86 Q1315.93 1530.23 1319.34 1533.7 Q1322.77 1537.14 1322.77 1542.93 Q1322.77 1549.84 1318.13 1553.4 Q1313.51 1556.97 1304.57 1556.97 Q1301.19 1556.97 1297.37 1556.2 Q1293.59 1555.44 1289.51 1553.94 L1289.51 1547.32 Q1293.43 1549.52 1297.18 1550.63 Q1300.94 1551.75 1304.57 1551.75 Q1310.07 1551.75 1313.07 1549.58 Q1316.06 1547.42 1316.06 1543.41 Q1316.06 1539.91 1313.89 1537.93 Q1311.76 1535.96 1306.86 1534.97 L1302.94 1534.21 Q1295.75 1532.78 1292.54 1529.72 Q1289.32 1526.67 1289.32 1521.22 Q1289.32 1514.92 1293.75 1511.29 Q1298.2 1507.66 1306 1507.66 Q1309.34 1507.66 1312.81 1508.27 Q1316.28 1508.87 1319.91 1510.08 Z\" fill=\"#000000\" fill-rule=\"evenodd\" fill-opacity=\"1\" /><path clip-path=\"url(#clip890)\" d=\"M 0 0 M1359.41 1536.76 L1359.41 1539.62 L1332.48 1539.62 Q1332.86 1545.67 1336.11 1548.85 Q1339.39 1552 1345.21 1552 Q1348.59 1552 1351.74 1551.17 Q1354.92 1550.35 1358.04 1548.69 L1358.04 1554.23 Q1354.89 1555.57 1351.58 1556.27 Q1348.27 1556.97 1344.86 1556.97 Q1336.33 1556.97 1331.34 1552 Q1326.37 1547.04 1326.37 1538.57 Q1326.37 1529.82 1331.08 1524.69 Q1335.82 1519.54 1343.84 1519.54 Q1351.04 1519.54 1355.21 1524.18 Q1359.41 1528.8 1359.41 1536.76 M1353.55 1535.04 Q1353.49 1530.23 1350.85 1527.37 Q1348.24 1524.5 1343.91 1524.5 Q1339.01 1524.5 1336.05 1527.27 Q1333.12 1530.04 1332.67 1535.07 L1353.55 1535.04 Z\" fill=\"#000000\" fill-rule=\"evenodd\" fill-opacity=\"1\" /><path clip-path=\"url(#clip890)\" d=\"M 0 0 M1371.34 1510.27 L1371.34 1520.4 L1383.41 1520.4 L1383.41 1524.95 L1371.34 1524.95 L1371.34 1544.3 Q1371.34 1548.66 1372.52 1549.9 Q1373.73 1551.14 1377.39 1551.14 L1383.41 1551.14 L1383.41 1556.04 L1377.39 1556.04 Q1370.61 1556.04 1368.03 1553.53 Q1365.46 1550.98 1365.46 1544.3 L1365.46 1524.95 L1361.16 1524.95 L1361.16 1520.4 L1365.46 1520.4 L1365.46 1510.27 L1371.34 1510.27 Z\" fill=\"#000000\" fill-rule=\"evenodd\" fill-opacity=\"1\" /><path clip-path=\"url(#clip890)\" d=\"M 0 0 M1439.01 1510.08 L1439.01 1516.35 Q1435.35 1514.6 1432.1 1513.74 Q1428.86 1512.88 1425.83 1512.88 Q1420.58 1512.88 1417.72 1514.92 Q1414.89 1516.96 1414.89 1520.71 Q1414.89 1523.87 1416.76 1525.49 Q1418.67 1527.08 1423.96 1528.07 L1427.84 1528.86 Q1435.03 1530.23 1438.44 1533.7 Q1441.88 1537.14 1441.88 1542.93 Q1441.88 1549.84 1437.23 1553.4 Q1432.61 1556.97 1423.67 1556.97 Q1420.3 1556.97 1416.48 1556.2 Q1412.69 1555.44 1408.62 1553.94 L1408.62 1547.32 Q1412.53 1549.52 1416.29 1550.63 Q1420.04 1551.75 1423.67 1551.75 Q1429.18 1551.75 1432.17 1549.58 Q1435.16 1547.42 1435.16 1543.41 Q1435.16 1539.91 1433 1537.93 Q1430.86 1535.96 1425.96 1534.97 L1422.05 1534.21 Q1414.85 1532.78 1411.64 1529.72 Q1408.42 1526.67 1408.42 1521.22 Q1408.42 1514.92 1412.85 1511.29 Q1417.3 1507.66 1425.1 1507.66 Q1428.44 1507.66 1431.91 1508.27 Q1435.38 1508.87 1439.01 1510.08 Z\" fill=\"#000000\" fill-rule=\"evenodd\" fill-opacity=\"1\" /><path clip-path=\"url(#clip890)\" d=\"M 0 0 M1448.02 1520.4 L1453.88 1520.4 L1453.88 1556.04 L1448.02 1556.04 L1448.02 1520.4 M1448.02 1506.52 L1453.88 1506.52 L1453.88 1513.93 L1448.02 1513.93 L1448.02 1506.52 Z\" fill=\"#000000\" fill-rule=\"evenodd\" fill-opacity=\"1\" /><path clip-path=\"url(#clip890)\" d=\"M 0 0 M1457.47 1520.4 L1485.29 1520.4 L1485.29 1525.74 L1463.26 1551.37 L1485.29 1551.37 L1485.29 1556.04 L1456.68 1556.04 L1456.68 1550.7 L1478.7 1525.07 L1457.47 1525.07 L1457.47 1520.4 Z\" fill=\"#000000\" fill-rule=\"evenodd\" fill-opacity=\"1\" /><path clip-path=\"url(#clip890)\" d=\"M 0 0 M1521.92 1536.76 L1521.92 1539.62 L1495 1539.62 Q1495.38 1545.67 1498.63 1548.85 Q1501.9 1552 1507.73 1552 Q1511.1 1552 1514.25 1551.17 Q1517.44 1550.35 1520.56 1548.69 L1520.56 1554.23 Q1517.41 1555.57 1514.09 1556.27 Q1510.78 1556.97 1507.38 1556.97 Q1498.85 1556.97 1493.85 1552 Q1488.89 1547.04 1488.89 1538.57 Q1488.89 1529.82 1493.6 1524.69 Q1498.34 1519.54 1506.36 1519.54 Q1513.55 1519.54 1517.72 1524.18 Q1521.92 1528.8 1521.92 1536.76 M1516.07 1535.04 Q1516 1530.23 1513.36 1527.37 Q1510.75 1524.5 1506.42 1524.5 Q1501.52 1524.5 1498.56 1527.27 Q1495.63 1530.04 1495.19 1535.07 L1516.07 1535.04 Z\" fill=\"#000000\" fill-rule=\"evenodd\" fill-opacity=\"1\" /><path clip-path=\"url(#clip890)\" d=\"M 0 0 M44.1444 1026.82 L50.9239 1026.82 Q47.9002 1030.07 46.4043 1033.76 Q44.9083 1037.42 44.9083 1041.56 Q44.9083 1049.71 49.9054 1054.04 Q54.8707 1058.37 64.2919 1058.37 Q73.6813 1058.37 78.6784 1054.04 Q83.6436 1049.71 83.6436 1041.56 Q83.6436 1037.42 82.1477 1033.76 Q80.6518 1030.07 77.6281 1026.82 L84.3439 1026.82 Q86.6355 1030.2 87.7814 1033.99 Q88.9272 1037.74 88.9272 1041.94 Q88.9272 1052.73 82.3387 1058.94 Q75.7183 1065.15 64.2919 1065.15 Q52.8336 1065.15 46.2451 1058.94 Q39.6248 1052.73 39.6248 1041.94 Q39.6248 1037.68 40.7706 1033.92 Q41.8846 1030.14 44.1444 1026.82 Z\" fill=\"#000000\" fill-rule=\"evenodd\" fill-opacity=\"1\" /><path clip-path=\"url(#clip890)\" d=\"M 0 0 M38.479 1020.68 L38.479 1014.83 L88.0042 1014.83 L88.0042 1020.68 L38.479 1020.68 Z\" fill=\"#000000\" fill-rule=\"evenodd\" fill-opacity=\"1\" /><path clip-path=\"url(#clip890)\" d=\"M 0 0 M70.0847 992.482 Q70.0847 999.58 71.7079 1002.32 Q73.3312 1005.05 77.2461 1005.05 Q80.3653 1005.05 82.2114 1003.02 Q84.0256 1000.95 84.0256 997.415 Q84.0256 992.546 80.5881 989.617 Q77.1188 986.657 71.3897 986.657 L70.0847 986.657 L70.0847 992.482 M67.6657 980.801 L88.0042 980.801 L88.0042 986.657 L82.5933 986.657 Q85.8398 988.663 87.3994 991.654 Q88.9272 994.646 88.9272 998.975 Q88.9272 1004.45 85.8716 1007.7 Q82.7843 1010.91 77.6281 1010.91 Q71.6125 1010.91 68.5569 1006.9 Q65.5014 1002.86 65.5014 994.869 L65.5014 986.657 L64.9285 986.657 Q60.8862 986.657 58.6901 989.331 Q56.4621 991.973 56.4621 996.779 Q56.4621 999.834 57.1941 1002.73 Q57.9262 1005.63 59.3903 1008.3 L53.9795 1008.3 Q52.7381 1005.09 52.1334 1002.06 Q51.4968 999.039 51.4968 996.174 Q51.4968 988.44 55.5072 984.62 Q59.5176 980.801 67.6657 980.801 Z\" fill=\"#000000\" fill-rule=\"evenodd\" fill-opacity=\"1\" /><path clip-path=\"url(#clip890)\" d=\"M 0 0 M53.4065 951.932 L58.9447 951.932 Q57.6716 954.415 57.035 957.089 Q56.3984 959.762 56.3984 962.627 Q56.3984 966.987 57.7352 969.184 Q59.072 971.348 61.7456 971.348 Q63.7826 971.348 64.9603 969.788 Q66.1061 968.229 67.1565 963.518 L67.6021 961.513 Q68.9389 955.274 71.3897 952.665 Q73.8086 950.023 78.1691 950.023 Q83.1344 950.023 86.0308 953.969 Q88.9272 957.884 88.9272 964.759 Q88.9272 967.624 88.3543 970.743 Q87.8132 973.83 86.6992 977.268 L80.6518 977.268 Q82.3387 974.021 83.198 970.87 Q84.0256 967.719 84.0256 964.632 Q84.0256 960.494 82.6251 958.266 Q81.1929 956.038 78.6147 956.038 Q76.2276 956.038 74.9545 957.662 Q73.6813 959.253 72.5037 964.696 L72.0262 966.733 Q70.8804 972.175 68.5251 974.594 Q66.138 977.013 62.0002 977.013 Q56.9713 977.013 54.2341 973.449 Q51.4968 969.884 51.4968 963.327 Q51.4968 960.081 51.9743 957.216 Q52.4517 954.351 53.4065 951.932 Z\" fill=\"#000000\" fill-rule=\"evenodd\" fill-opacity=\"1\" /><path clip-path=\"url(#clip890)\" d=\"M 0 0 M53.4065 921.154 L58.9447 921.154 Q57.6716 923.637 57.035 926.31 Q56.3984 928.984 56.3984 931.849 Q56.3984 936.209 57.7352 938.405 Q59.072 940.57 61.7456 940.57 Q63.7826 940.57 64.9603 939.01 Q66.1061 937.45 67.1565 932.74 L67.6021 930.735 Q68.9389 924.496 71.3897 921.886 Q73.8086 919.245 78.1691 919.245 Q83.1344 919.245 86.0308 923.191 Q88.9272 927.106 88.9272 933.981 Q88.9272 936.846 88.3543 939.965 Q87.8132 943.052 86.6992 946.49 L80.6518 946.49 Q82.3387 943.243 83.198 940.092 Q84.0256 936.941 84.0256 933.854 Q84.0256 929.716 82.6251 927.488 Q81.1929 925.26 78.6147 925.26 Q76.2276 925.26 74.9545 926.883 Q73.6813 928.475 72.5037 933.918 L72.0262 935.955 Q70.8804 941.397 68.5251 943.816 Q66.138 946.235 62.0002 946.235 Q56.9713 946.235 54.2341 942.67 Q51.4968 939.106 51.4968 932.549 Q51.4968 929.302 51.9743 926.438 Q52.4517 923.573 53.4065 921.154 Z\" fill=\"#000000\" fill-rule=\"evenodd\" fill-opacity=\"1\" /><path clip-path=\"url(#clip890)\" d=\"M 0 0 M52.3562 913.102 L52.3562 907.245 L88.0042 907.245 L88.0042 913.102 L52.3562 913.102 M38.479 913.102 L38.479 907.245 L45.895 907.245 L45.895 913.102 L38.479 913.102 Z\" fill=\"#000000\" fill-rule=\"evenodd\" fill-opacity=\"1\" /><path clip-path=\"url(#clip890)\" d=\"M 0 0 M38.479 883.056 L43.3487 883.056 L43.3487 888.657 Q43.3487 891.808 44.6219 893.05 Q45.895 894.259 49.2052 894.259 L52.3562 894.259 L52.3562 884.615 L56.9077 884.615 L56.9077 894.259 L88.0042 894.259 L88.0042 900.147 L56.9077 900.147 L56.9077 905.749 L52.3562 905.749 L52.3562 900.147 L49.8736 900.147 Q43.9216 900.147 41.2162 897.378 Q38.479 894.609 38.479 888.594 L38.479 883.056 Z\" fill=\"#000000\" fill-rule=\"evenodd\" fill-opacity=\"1\" /><path clip-path=\"url(#clip890)\" d=\"M 0 0 M52.3562 876.913 L52.3562 871.056 L88.0042 871.056 L88.0042 876.913 L52.3562 876.913 M38.479 876.913 L38.479 871.056 L45.895 871.056 L45.895 876.913 L38.479 876.913 Z\" fill=\"#000000\" fill-rule=\"evenodd\" fill-opacity=\"1\" /><path clip-path=\"url(#clip890)\" d=\"M 0 0 M53.7248 839.259 L59.1993 839.259 Q57.8307 841.742 57.1623 844.257 Q56.4621 846.739 56.4621 849.285 Q56.4621 854.983 60.0905 858.134 Q63.6872 861.285 70.212 861.285 Q76.7369 861.285 80.3653 858.134 Q83.9619 854.983 83.9619 849.285 Q83.9619 846.739 83.2935 844.257 Q82.5933 841.742 81.2247 839.259 L86.6355 839.259 Q87.7814 841.71 88.3543 844.352 Q88.9272 846.962 88.9272 849.922 Q88.9272 857.975 83.8664 862.717 Q78.8057 867.46 70.212 867.46 Q61.491 867.46 56.4939 862.685 Q51.4968 857.879 51.4968 849.54 Q51.4968 846.835 52.0697 844.257 Q52.6108 841.678 53.7248 839.259 Z\" fill=\"#000000\" fill-rule=\"evenodd\" fill-opacity=\"1\" /><path clip-path=\"url(#clip890)\" d=\"M 0 0 M70.0847 816.916 Q70.0847 824.014 71.7079 826.751 Q73.3312 829.488 77.2461 829.488 Q80.3653 829.488 82.2114 827.451 Q84.0256 825.382 84.0256 821.849 Q84.0256 816.979 80.5881 814.051 Q77.1188 811.091 71.3897 811.091 L70.0847 811.091 L70.0847 816.916 M67.6657 805.235 L88.0042 805.235 L88.0042 811.091 L82.5933 811.091 Q85.8398 813.096 87.3994 816.088 Q88.9272 819.08 88.9272 823.409 Q88.9272 828.883 85.8716 832.13 Q82.7843 835.345 77.6281 835.345 Q71.6125 835.345 68.5569 831.334 Q65.5014 827.292 65.5014 819.303 L65.5014 811.091 L64.9285 811.091 Q60.8862 811.091 58.6901 813.765 Q56.4621 816.407 56.4621 821.213 Q56.4621 824.268 57.1941 827.165 Q57.9262 830.061 59.3903 832.735 L53.9795 832.735 Q52.7381 829.52 52.1334 826.496 Q51.4968 823.472 51.4968 820.608 Q51.4968 812.874 55.5072 809.054 Q59.5176 805.235 67.6657 805.235 Z\" fill=\"#000000\" fill-rule=\"evenodd\" fill-opacity=\"1\" /><path clip-path=\"url(#clip890)\" d=\"M 0 0 M42.2347 793.299 L52.3562 793.299 L52.3562 781.236 L56.9077 781.236 L56.9077 793.299 L76.2594 793.299 Q80.6199 793.299 81.8613 792.121 Q83.1026 790.912 83.1026 787.252 L83.1026 781.236 L88.0042 781.236 L88.0042 787.252 Q88.0042 794.031 85.4897 796.609 Q82.9434 799.187 76.2594 799.187 L56.9077 799.187 L56.9077 803.484 L52.3562 803.484 L52.3562 799.187 L42.2347 799.187 L42.2347 793.299 Z\" fill=\"#000000\" fill-rule=\"evenodd\" fill-opacity=\"1\" /><path clip-path=\"url(#clip890)\" d=\"M 0 0 M52.3562 775.093 L52.3562 769.237 L88.0042 769.237 L88.0042 775.093 L52.3562 775.093 M38.479 775.093 L38.479 769.237 L45.895 769.237 L45.895 775.093 L38.479 775.093 Z\" fill=\"#000000\" fill-rule=\"evenodd\" fill-opacity=\"1\" /><path clip-path=\"url(#clip890)\" d=\"M 0 0 M56.4621 749.28 Q56.4621 753.991 60.1542 756.728 Q63.8145 759.465 70.212 759.465 Q76.6095 759.465 80.3017 756.76 Q83.9619 754.023 83.9619 749.28 Q83.9619 744.601 80.2698 741.864 Q76.5777 739.127 70.212 739.127 Q63.8781 739.127 60.186 741.864 Q56.4621 744.601 56.4621 749.28 M51.4968 749.28 Q51.4968 741.641 56.4621 737.281 Q61.4273 732.92 70.212 732.92 Q78.9649 732.92 83.9619 737.281 Q88.9272 741.641 88.9272 749.28 Q88.9272 756.951 83.9619 761.311 Q78.9649 765.64 70.212 765.64 Q61.4273 765.64 56.4621 761.311 Q51.4968 756.951 51.4968 749.28 Z\" fill=\"#000000\" fill-rule=\"evenodd\" fill-opacity=\"1\" /><path clip-path=\"url(#clip890)\" d=\"M 0 0 M66.4881 697.145 L88.0042 697.145 L88.0042 703.001 L66.679 703.001 Q61.6183 703.001 59.1038 704.975 Q56.5894 706.948 56.5894 710.895 Q56.5894 715.637 59.6131 718.375 Q62.6368 721.112 67.8567 721.112 L88.0042 721.112 L88.0042 727 L52.3562 727 L52.3562 721.112 L57.8944 721.112 Q54.6797 719.011 53.0883 716.179 Q51.4968 713.314 51.4968 709.59 Q51.4968 703.447 55.3163 700.296 Q59.1038 697.145 66.4881 697.145 Z\" fill=\"#000000\" fill-rule=\"evenodd\" fill-opacity=\"1\" /><path clip-path=\"url(#clip890)\" d=\"M 0 0 M46.818 654.145 L70.4666 662.866 L70.4666 645.392 L46.818 654.145 M40.4842 657.773 L40.4842 650.484 L88.0042 632.374 L88.0042 639.058 L75.8138 643.387 L75.8138 664.807 L88.0042 669.136 L88.0042 675.915 L40.4842 657.773 Z\" fill=\"#000000\" fill-rule=\"evenodd\" fill-opacity=\"1\" /><path clip-path=\"url(#clip890)\" d=\"M 0 0 M53.7248 601.723 L59.1993 601.723 Q57.8307 604.206 57.1623 606.72 Q56.4621 609.203 56.4621 611.749 Q56.4621 617.446 60.0905 620.597 Q63.6872 623.748 70.212 623.748 Q76.7369 623.748 80.3653 620.597 Q83.9619 617.446 83.9619 611.749 Q83.9619 609.203 83.2935 606.72 Q82.5933 604.206 81.2247 601.723 L86.6355 601.723 Q87.7814 604.174 88.3543 606.816 Q88.9272 609.426 88.9272 612.386 Q88.9272 620.438 83.8664 625.181 Q78.8057 629.923 70.212 629.923 Q61.491 629.923 56.4939 625.149 Q51.4968 620.343 51.4968 612.004 Q51.4968 609.298 52.0697 606.72 Q52.6108 604.142 53.7248 601.723 Z\" fill=\"#000000\" fill-rule=\"evenodd\" fill-opacity=\"1\" /><path clip-path=\"url(#clip890)\" d=\"M 0 0 M53.7248 569.926 L59.1993 569.926 Q57.8307 572.409 57.1623 574.923 Q56.4621 577.406 56.4621 579.952 Q56.4621 585.65 60.0905 588.801 Q63.6872 591.952 70.212 591.952 Q76.7369 591.952 80.3653 588.801 Q83.9619 585.65 83.9619 579.952 Q83.9619 577.406 83.2935 574.923 Q82.5933 572.409 81.2247 569.926 L86.6355 569.926 Q87.7814 572.377 88.3543 575.019 Q88.9272 577.629 88.9272 580.589 Q88.9272 588.642 83.8664 593.384 Q78.8057 598.126 70.212 598.126 Q61.491 598.126 56.4939 593.352 Q51.4968 588.546 51.4968 580.207 Q51.4968 577.502 52.0697 574.923 Q52.6108 572.345 53.7248 569.926 Z\" fill=\"#000000\" fill-rule=\"evenodd\" fill-opacity=\"1\" /><path clip-path=\"url(#clip890)\" d=\"M 0 0 M73.9359 564.388 L52.3562 564.388 L52.3562 558.532 L73.7131 558.532 Q78.7739 558.532 81.3202 556.558 Q83.8346 554.585 83.8346 550.638 Q83.8346 545.896 80.8109 543.159 Q77.7872 540.39 72.5673 540.39 L52.3562 540.39 L52.3562 534.533 L88.0042 534.533 L88.0042 540.39 L82.5296 540.39 Q85.7762 542.522 87.3676 545.355 Q88.9272 548.156 88.9272 551.88 Q88.9272 558.023 85.1078 561.205 Q81.2883 564.388 73.9359 564.388 M51.4968 549.652 L51.4968 549.652 Z\" fill=\"#000000\" fill-rule=\"evenodd\" fill-opacity=\"1\" /><path clip-path=\"url(#clip890)\" d=\"M 0 0 M57.8307 507.733 Q57.2578 508.72 57.0032 509.898 Q56.7167 511.044 56.7167 512.444 Q56.7167 517.409 59.9632 520.083 Q63.1779 522.725 69.2253 522.725 L88.0042 522.725 L88.0042 528.613 L52.3562 528.613 L52.3562 522.725 L57.8944 522.725 Q54.6479 520.879 53.0883 517.919 Q51.4968 514.959 51.4968 510.725 Q51.4968 510.121 51.5923 509.389 Q51.656 508.656 51.8151 507.765 L57.8307 507.733 Z\" fill=\"#000000\" fill-rule=\"evenodd\" fill-opacity=\"1\" /><path clip-path=\"url(#clip890)\" d=\"M 0 0 M70.0847 485.39 Q70.0847 492.488 71.7079 495.225 Q73.3312 497.962 77.2461 497.962 Q80.3653 497.962 82.2114 495.925 Q84.0256 493.856 84.0256 490.323 Q84.0256 485.453 80.5881 482.525 Q77.1188 479.565 71.3897 479.565 L70.0847 479.565 L70.0847 485.39 M67.6657 473.709 L88.0042 473.709 L88.0042 479.565 L82.5933 479.565 Q85.8398 481.57 87.3994 484.562 Q88.9272 487.554 88.9272 491.883 Q88.9272 497.357 85.8716 500.604 Q82.7843 503.819 77.6281 503.819 Q71.6125 503.819 68.5569 499.808 Q65.5014 495.766 65.5014 487.777 L65.5014 479.565 L64.9285 479.565 Q60.8862 479.565 58.6901 482.239 Q56.4621 484.881 56.4621 489.687 Q56.4621 492.742 57.1941 495.639 Q57.9262 498.535 59.3903 501.209 L53.9795 501.209 Q52.7381 497.994 52.1334 494.97 Q51.4968 491.946 51.4968 489.082 Q51.4968 481.348 55.5072 477.528 Q59.5176 473.709 67.6657 473.709 Z\" fill=\"#000000\" fill-rule=\"evenodd\" fill-opacity=\"1\" /><path clip-path=\"url(#clip890)\" d=\"M 0 0 M53.7248 441.912 L59.1993 441.912 Q57.8307 444.395 57.1623 446.909 Q56.4621 449.392 56.4621 451.938 Q56.4621 457.635 60.0905 460.786 Q63.6872 463.937 70.212 463.937 Q76.7369 463.937 80.3653 460.786 Q83.9619 457.635 83.9619 451.938 Q83.9619 449.392 83.2935 446.909 Q82.5933 444.395 81.2247 441.912 L86.6355 441.912 Q87.7814 444.363 88.3543 447.005 Q88.9272 449.615 88.9272 452.575 Q88.9272 460.627 83.8664 465.37 Q78.8057 470.112 70.212 470.112 Q61.491 470.112 56.4939 465.338 Q51.4968 460.532 51.4968 452.193 Q51.4968 449.487 52.0697 446.909 Q52.6108 444.331 53.7248 441.912 Z\" fill=\"#000000\" fill-rule=\"evenodd\" fill-opacity=\"1\" /><path clip-path=\"url(#clip890)\" d=\"M 0 0 M91.3143 420.937 Q97.68 423.42 99.6216 425.775 Q101.563 428.13 101.563 432.077 L101.563 436.756 L96.6615 436.756 L96.6615 433.318 Q96.6615 430.899 95.5157 429.563 Q94.3699 428.226 90.1048 426.603 L87.4312 425.552 L52.3562 439.97 L52.3562 433.764 L80.238 422.624 L52.3562 411.484 L52.3562 405.277 L91.3143 420.937 Z\" fill=\"#000000\" fill-rule=\"evenodd\" fill-opacity=\"1\" /><polyline clip-path=\"url(#clip892)\" style=\"stroke:#009af9; stroke-width:4; stroke-opacity:1; fill:none\" points=\"\n",
       "  271.639,86.1857 289.057,86.1857 306.475,86.1857 323.893,86.1857 341.311,86.1857 358.729,86.1857 376.148,86.1857 393.566,86.1857 410.984,86.1857 428.402,86.1857 \n",
       "  445.82,228.491 463.238,151.865 480.656,269.149 498.074,370.796 515.492,459.736 532.911,437.763 550.329,370.796 567.747,535.57 585.165,513.101 602.583,533.43 \n",
       "  620.001,590.722 637.419,531.662 654.837,513.101 672.256,530.177 689.674,644.459 707.092,655.406 724.51,574.089 741.928,557.264 759.346,541.562 776.764,554.415 \n",
       "  794.182,539.783 811.601,551.911 829.019,538.213 846.437,500.903 863.855,560.536 881.273,547.715 898.691,535.57 916.109,524.047 933.527,534.447 950.946,523.513 \n",
       "  968.364,533.43 985.782,582.599 1003.2,590.722 1020.62,579.51 1038.04,568.785 1055.45,522.184 1072.87,655.406 1090.29,608.939 1107.71,598.484 1125.13,605.18 \n",
       "  1142.54,595.2 1159.96,585.596 1177.38,576.347 1194.8,598.484 1212.22,558.842 1229.64,565.529 1247.05,557.264 1264.47,578.223 1281.89,541.562 1299.31,534.097 \n",
       "  1316.73,540.644 1334.14,560.536 1351.56,553.124 1368.98,572.212 1386.4,564.848 1403.82,557.704 1421.23,563.326 1438.65,544.037 1456.07,549.693 1473.49,555.191 \n",
       "  1490.91,584.253 1508.33,565.734 1525.74,559.254 1543.16,587.099 1560.58,558.039 1578,574.089 1595.42,589.727 1612.83,583.353 1630.25,566.465 1647.67,560.536 \n",
       "  1665.09,585.989 1682.51,590.254 1699.92,553.759 1717.34,598.484 1734.76,592.527 1752.18,616.149 1769.6,590.722 1787.02,585.053 1804.43,560.536 1821.85,564.706 \n",
       "  1839.27,587.347 1856.69,581.958 1874.11,558.517 1891.52,598.484 1908.94,593.147 1926.36,579.119 1943.78,582.801 1961.2,595.034 1978.61,564.331 1996.03,576.504 \n",
       "  2013.45,596.81 2030.87,575.273 2048.29,636.249 2065.71,614.747 2083.12,617.816 2100.54,604.868 2117.96,600.065 2135.38,579.684 2152.8,606.246 2170.21,578.484 \n",
       "  2187.63,574.089 2205.05,592.439 2222.47,587.998 2239.89,591.059 2257.3,571.986 2274.72,567.833 2292.14,578.223 \n",
       "  \"/>\n",
       "<polyline clip-path=\"url(#clip892)\" style=\"stroke:#e26f46; stroke-width:4; stroke-opacity:1; fill:none\" points=\"\n",
       "  271.639,1384.24 289.057,1182.32 306.475,1153.47 323.893,1095.78 341.311,951.554 358.729,951.554 376.148,1009.25 393.566,1009.25 410.984,1095.78 428.402,1153.47 \n",
       "  445.82,980.4 463.238,951.554 480.656,893.863 498.074,865.017 515.492,922.708 532.911,922.708 550.329,836.172 567.747,865.017 585.165,951.554 602.583,980.4 \n",
       "  620.001,951.554 637.419,836.172 654.837,749.635 672.256,807.326 689.674,951.554 707.092,951.554 724.51,1009.25 741.928,922.708 759.346,865.017 776.764,893.863 \n",
       "  794.182,865.017 811.601,778.48 829.019,836.172 846.437,836.172 863.855,865.017 881.273,836.172 898.691,865.017 916.109,865.017 933.527,893.863 950.946,865.017 \n",
       "  968.364,807.326 985.782,836.172 1003.2,778.48 1020.62,691.944 1038.04,720.789 1055.45,691.944 1072.87,778.48 1090.29,749.635 1107.71,778.48 1125.13,778.48 \n",
       "  1142.54,778.48 1159.96,749.635 1177.38,749.635 1194.8,720.789 1212.22,720.789 1229.64,691.944 1247.05,605.407 1264.47,605.407 1281.89,634.252 1299.31,605.407 \n",
       "  1316.73,576.561 1334.14,605.407 1351.56,576.561 1368.98,605.407 1386.4,605.407 1403.82,547.715 1421.23,605.407 1438.65,605.407 1456.07,576.561 1473.49,576.561 \n",
       "  1490.91,576.561 1508.33,576.561 1525.74,576.561 1543.16,576.561 1560.58,663.098 1578,634.252 1595.42,634.252 1612.83,663.098 1630.25,720.789 1647.67,663.098 \n",
       "  1665.09,663.098 1682.51,663.098 1699.92,663.098 1717.34,663.098 1734.76,691.944 1752.18,634.252 1769.6,634.252 1787.02,634.252 1804.43,605.407 1821.85,576.561 \n",
       "  1839.27,605.407 1856.69,576.561 1874.11,605.407 1891.52,547.715 1908.94,547.715 1926.36,576.561 1943.78,576.561 1961.2,634.252 1978.61,547.715 1996.03,547.715 \n",
       "  2013.45,634.252 2030.87,605.407 2048.29,576.561 2065.71,576.561 2083.12,576.561 2100.54,605.407 2117.96,605.407 2135.38,605.407 2152.8,605.407 2170.21,605.407 \n",
       "  2187.63,605.407 2205.05,605.407 2222.47,605.407 2239.89,605.407 2257.3,634.252 2274.72,605.407 2292.14,605.407 \n",
       "  \"/>\n",
       "<path clip-path=\"url(#clip890)\" d=\"\n",
       "M1844.07 274.549 L2281.36 274.549 L2281.36 93.1086 L1844.07 93.1086  Z\n",
       "  \" fill=\"#ffffff\" fill-rule=\"evenodd\" fill-opacity=\"1\"/>\n",
       "<polyline clip-path=\"url(#clip890)\" style=\"stroke:#000000; stroke-width:4; stroke-opacity:1; fill:none\" points=\"\n",
       "  1844.07,274.549 2281.36,274.549 2281.36,93.1086 1844.07,93.1086 1844.07,274.549 \n",
       "  \"/>\n",
       "<polyline clip-path=\"url(#clip890)\" style=\"stroke:#009af9; stroke-width:4; stroke-opacity:1; fill:none\" points=\"\n",
       "  1867.86,153.589 2010.65,153.589 \n",
       "  \"/>\n",
       "<path clip-path=\"url(#clip890)\" d=\"M 0 0 M2034.44 136.309 L2063.68 136.309 L2063.68 140.244 L2051.41 140.244 L2051.41 170.869 L2046.71 170.869 L2046.71 140.244 L2034.44 140.244 L2034.44 136.309 Z\" fill=\"#000000\" fill-rule=\"evenodd\" fill-opacity=\"1\" /><path clip-path=\"url(#clip890)\" d=\"M 0 0 M2076.2 148.924 Q2075.48 148.508 2074.63 148.322 Q2073.79 148.114 2072.78 148.114 Q2069.17 148.114 2067.22 150.475 Q2065.3 152.813 2065.3 157.211 L2065.3 170.869 L2061.02 170.869 L2061.02 144.943 L2065.3 144.943 L2065.3 148.971 Q2066.64 146.609 2068.79 145.475 Q2070.95 144.318 2074.03 144.318 Q2074.47 144.318 2075 144.387 Q2075.53 144.434 2076.18 144.549 L2076.2 148.924 Z\" fill=\"#000000\" fill-rule=\"evenodd\" fill-opacity=\"1\" /><path clip-path=\"url(#clip890)\" d=\"M 0 0 M2092.45 157.836 Q2087.29 157.836 2085.3 159.017 Q2083.31 160.197 2083.31 163.045 Q2083.31 165.313 2084.79 166.656 Q2086.29 167.975 2088.86 167.975 Q2092.41 167.975 2094.54 165.475 Q2096.69 162.952 2096.69 158.785 L2096.69 157.836 L2092.45 157.836 M2100.95 156.077 L2100.95 170.869 L2096.69 170.869 L2096.69 166.933 Q2095.23 169.295 2093.05 170.429 Q2090.88 171.54 2087.73 171.54 Q2083.75 171.54 2081.39 169.318 Q2079.05 167.072 2079.05 163.322 Q2079.05 158.947 2081.97 156.725 Q2084.91 154.503 2090.72 154.503 L2096.69 154.503 L2096.69 154.086 Q2096.69 151.147 2094.74 149.549 Q2092.82 147.929 2089.33 147.929 Q2087.1 147.929 2085 148.461 Q2082.89 148.994 2080.95 150.059 L2080.95 146.123 Q2083.29 145.221 2085.48 144.781 Q2087.68 144.318 2089.77 144.318 Q2095.39 144.318 2098.17 147.234 Q2100.95 150.151 2100.95 156.077 Z\" fill=\"#000000\" fill-rule=\"evenodd\" fill-opacity=\"1\" /><path clip-path=\"url(#clip890)\" d=\"M 0 0 M2105.41 144.943 L2109.67 144.943 L2109.67 170.869 L2105.41 170.869 L2105.41 144.943 M2105.41 134.85 L2109.67 134.85 L2109.67 140.244 L2105.41 140.244 L2105.41 134.85 Z\" fill=\"#000000\" fill-rule=\"evenodd\" fill-opacity=\"1\" /><path clip-path=\"url(#clip890)\" d=\"M 0 0 M2135.69 155.221 L2135.69 170.869 L2131.43 170.869 L2131.43 155.359 Q2131.43 151.679 2130 149.85 Q2128.56 148.022 2125.69 148.022 Q2122.24 148.022 2120.25 150.221 Q2118.26 152.42 2118.26 156.216 L2118.26 170.869 L2113.98 170.869 L2113.98 144.943 L2118.26 144.943 L2118.26 148.971 Q2119.79 146.633 2121.85 145.475 Q2123.93 144.318 2126.64 144.318 Q2131.11 144.318 2133.4 147.096 Q2135.69 149.85 2135.69 155.221 Z\" fill=\"#000000\" fill-rule=\"evenodd\" fill-opacity=\"1\" /><path clip-path=\"url(#clip890)\" d=\"M 0 0 M2140.16 144.943 L2144.42 144.943 L2144.42 170.869 L2140.16 170.869 L2140.16 144.943 M2140.16 134.85 L2144.42 134.85 L2144.42 140.244 L2140.16 140.244 L2140.16 134.85 Z\" fill=\"#000000\" fill-rule=\"evenodd\" fill-opacity=\"1\" /><path clip-path=\"url(#clip890)\" d=\"M 0 0 M2170.44 155.221 L2170.44 170.869 L2166.18 170.869 L2166.18 155.359 Q2166.18 151.679 2164.74 149.85 Q2163.31 148.022 2160.44 148.022 Q2156.99 148.022 2155 150.221 Q2153.01 152.42 2153.01 156.216 L2153.01 170.869 L2148.72 170.869 L2148.72 144.943 L2153.01 144.943 L2153.01 148.971 Q2154.54 146.633 2156.6 145.475 Q2158.68 144.318 2161.39 144.318 Q2165.85 144.318 2168.15 147.096 Q2170.44 149.85 2170.44 155.221 Z\" fill=\"#000000\" fill-rule=\"evenodd\" fill-opacity=\"1\" /><path clip-path=\"url(#clip890)\" d=\"M 0 0 M2191.97 157.605 Q2191.97 152.975 2190.04 150.429 Q2188.15 147.883 2184.7 147.883 Q2181.27 147.883 2179.35 150.429 Q2177.45 152.975 2177.45 157.605 Q2177.45 162.211 2179.35 164.758 Q2181.27 167.304 2184.7 167.304 Q2188.15 167.304 2190.04 164.758 Q2191.97 162.211 2191.97 157.605 M2196.22 167.651 Q2196.22 174.271 2193.28 177.489 Q2190.35 180.73 2184.28 180.73 Q2182.03 180.73 2180.04 180.382 Q2178.05 180.058 2176.18 179.364 L2176.18 175.22 Q2178.05 176.239 2179.88 176.725 Q2181.71 177.211 2183.61 177.211 Q2187.8 177.211 2189.88 175.012 Q2191.97 172.836 2191.97 168.415 L2191.97 166.308 Q2190.65 168.6 2188.59 169.734 Q2186.53 170.869 2183.66 170.869 Q2178.89 170.869 2175.97 167.234 Q2173.05 163.6 2173.05 157.605 Q2173.05 151.586 2175.97 147.952 Q2178.89 144.318 2183.66 144.318 Q2186.53 144.318 2188.59 145.452 Q2190.65 146.586 2191.97 148.878 L2191.97 144.943 L2196.22 144.943 L2196.22 167.651 Z\" fill=\"#000000\" fill-rule=\"evenodd\" fill-opacity=\"1\" /><polyline clip-path=\"url(#clip890)\" style=\"stroke:#e26f46; stroke-width:4; stroke-opacity:1; fill:none\" points=\"\n",
       "  1867.86,214.069 2010.65,214.069 \n",
       "  \"/>\n",
       "<path clip-path=\"url(#clip890)\" d=\"M 0 0 M2047.64 231.349 L2034.44 196.789 L2039.33 196.789 L2050.28 225.886 L2061.25 196.789 L2066.11 196.789 L2052.94 231.349 L2047.64 231.349 Z\" fill=\"#000000\" fill-rule=\"evenodd\" fill-opacity=\"1\" /><path clip-path=\"url(#clip890)\" d=\"M 0 0 M2078.68 218.316 Q2073.52 218.316 2071.53 219.497 Q2069.54 220.677 2069.54 223.525 Q2069.54 225.793 2071.02 227.136 Q2072.52 228.455 2075.09 228.455 Q2078.63 228.455 2080.76 225.955 Q2082.92 223.432 2082.92 219.265 L2082.92 218.316 L2078.68 218.316 M2087.17 216.557 L2087.17 231.349 L2082.92 231.349 L2082.92 227.413 Q2081.46 229.775 2079.28 230.909 Q2077.1 232.02 2073.96 232.02 Q2069.98 232.02 2067.61 229.798 Q2065.28 227.552 2065.28 223.802 Q2065.28 219.427 2068.19 217.205 Q2071.13 214.983 2076.94 214.983 L2082.92 214.983 L2082.92 214.566 Q2082.92 211.627 2080.97 210.029 Q2079.05 208.409 2075.55 208.409 Q2073.33 208.409 2071.23 208.941 Q2069.12 209.474 2067.17 210.539 L2067.17 206.603 Q2069.51 205.701 2071.71 205.261 Q2073.91 204.798 2075.99 204.798 Q2081.62 204.798 2084.4 207.714 Q2087.17 210.631 2087.17 216.557 Z\" fill=\"#000000\" fill-rule=\"evenodd\" fill-opacity=\"1\" /><path clip-path=\"url(#clip890)\" d=\"M 0 0 M2091.64 195.33 L2095.9 195.33 L2095.9 231.349 L2091.64 231.349 L2091.64 195.33 Z\" fill=\"#000000\" fill-rule=\"evenodd\" fill-opacity=\"1\" /><path clip-path=\"url(#clip890)\" d=\"M 0 0 M2100.37 205.423 L2104.63 205.423 L2104.63 231.349 L2100.37 231.349 L2100.37 205.423 M2100.37 195.33 L2104.63 195.33 L2104.63 200.724 L2100.37 200.724 L2100.37 195.33 Z\" fill=\"#000000\" fill-rule=\"evenodd\" fill-opacity=\"1\" /><path clip-path=\"url(#clip890)\" d=\"M 0 0 M2126.16 209.358 L2126.16 195.33 L2130.41 195.33 L2130.41 231.349 L2126.16 231.349 L2126.16 227.46 Q2124.81 229.775 2122.75 230.909 Q2120.72 232.02 2117.85 232.02 Q2113.15 232.02 2110.18 228.27 Q2107.24 224.52 2107.24 218.409 Q2107.24 212.298 2110.18 208.548 Q2113.15 204.798 2117.85 204.798 Q2120.72 204.798 2122.75 205.932 Q2124.81 207.043 2126.16 209.358 M2111.64 218.409 Q2111.64 223.108 2113.56 225.793 Q2115.51 228.455 2118.89 228.455 Q2122.27 228.455 2124.21 225.793 Q2126.16 223.108 2126.16 218.409 Q2126.16 213.71 2124.21 211.048 Q2122.27 208.363 2118.89 208.363 Q2115.51 208.363 2113.56 211.048 Q2111.64 213.71 2111.64 218.409 Z\" fill=\"#000000\" fill-rule=\"evenodd\" fill-opacity=\"1\" /><path clip-path=\"url(#clip890)\" d=\"M 0 0 M2146.66 218.316 Q2141.5 218.316 2139.51 219.497 Q2137.52 220.677 2137.52 223.525 Q2137.52 225.793 2139 227.136 Q2140.51 228.455 2143.08 228.455 Q2146.62 228.455 2148.75 225.955 Q2150.9 223.432 2150.9 219.265 L2150.9 218.316 L2146.66 218.316 M2155.16 216.557 L2155.16 231.349 L2150.9 231.349 L2150.9 227.413 Q2149.44 229.775 2147.27 230.909 Q2145.09 232.02 2141.94 232.02 Q2137.96 232.02 2135.6 229.798 Q2133.26 227.552 2133.26 223.802 Q2133.26 219.427 2136.18 217.205 Q2139.12 214.983 2144.93 214.983 L2150.9 214.983 L2150.9 214.566 Q2150.9 211.627 2148.96 210.029 Q2147.04 208.409 2143.54 208.409 Q2141.32 208.409 2139.21 208.941 Q2137.1 209.474 2135.16 210.539 L2135.16 206.603 Q2137.5 205.701 2139.7 205.261 Q2141.9 204.798 2143.98 204.798 Q2149.6 204.798 2152.38 207.714 Q2155.16 210.631 2155.16 216.557 Z\" fill=\"#000000\" fill-rule=\"evenodd\" fill-opacity=\"1\" /><path clip-path=\"url(#clip890)\" d=\"M 0 0 M2163.84 198.062 L2163.84 205.423 L2172.61 205.423 L2172.61 208.733 L2163.84 208.733 L2163.84 222.807 Q2163.84 225.978 2164.7 226.881 Q2165.58 227.784 2168.24 227.784 L2172.61 227.784 L2172.61 231.349 L2168.24 231.349 Q2163.31 231.349 2161.43 229.52 Q2159.56 227.668 2159.56 222.807 L2159.56 208.733 L2156.43 208.733 L2156.43 205.423 L2159.56 205.423 L2159.56 198.062 L2163.84 198.062 Z\" fill=\"#000000\" fill-rule=\"evenodd\" fill-opacity=\"1\" /><path clip-path=\"url(#clip890)\" d=\"M 0 0 M2177.08 205.423 L2181.34 205.423 L2181.34 231.349 L2177.08 231.349 L2177.08 205.423 M2177.08 195.33 L2181.34 195.33 L2181.34 200.724 L2177.08 200.724 L2177.08 195.33 Z\" fill=\"#000000\" fill-rule=\"evenodd\" fill-opacity=\"1\" /><path clip-path=\"url(#clip890)\" d=\"M 0 0 M2195.85 208.409 Q2192.43 208.409 2190.44 211.094 Q2188.45 213.756 2188.45 218.409 Q2188.45 223.062 2190.41 225.747 Q2192.41 228.409 2195.85 228.409 Q2199.26 228.409 2201.25 225.724 Q2203.24 223.038 2203.24 218.409 Q2203.24 213.802 2201.25 211.117 Q2199.26 208.409 2195.85 208.409 M2195.85 204.798 Q2201.41 204.798 2204.58 208.409 Q2207.75 212.02 2207.75 218.409 Q2207.75 224.775 2204.58 228.409 Q2201.41 232.02 2195.85 232.02 Q2190.28 232.02 2187.1 228.409 Q2183.96 224.775 2183.96 218.409 Q2183.96 212.02 2187.1 208.409 Q2190.28 204.798 2195.85 204.798 Z\" fill=\"#000000\" fill-rule=\"evenodd\" fill-opacity=\"1\" /><path clip-path=\"url(#clip890)\" d=\"M 0 0 M2233.77 215.701 L2233.77 231.349 L2229.51 231.349 L2229.51 215.839 Q2229.51 212.159 2228.08 210.33 Q2226.64 208.502 2223.77 208.502 Q2220.32 208.502 2218.33 210.701 Q2216.34 212.9 2216.34 216.696 L2216.34 231.349 L2212.06 231.349 L2212.06 205.423 L2216.34 205.423 L2216.34 209.451 Q2217.87 207.113 2219.93 205.955 Q2222.01 204.798 2224.72 204.798 Q2229.19 204.798 2231.48 207.576 Q2233.77 210.33 2233.77 215.701 Z\" fill=\"#000000\" fill-rule=\"evenodd\" fill-opacity=\"1\" /></svg>\n"
      ]
     },
     "execution_count": 35,
     "metadata": {},
     "output_type": "execute_result"
    }
   ],
   "source": [
    "plot(data_schedule, training_losses, label=\"Training\")\n",
    "plot!(data_schedule, valid_losses, label=\"Validation\")\n",
    "ylabel!(\"Classification Accuracy\")\n",
    "xlabel!(\"Training Set Size\")"
   ]
  },
  {
   "cell_type": "code",
   "execution_count": 36,
   "metadata": {
    "scrolled": true
   },
   "outputs": [
    {
     "name": "stderr",
     "output_type": "stream",
     "text": [
      "┌ Warning: The scitype of `X`, in `machine(model, X, ...)` is incompatible with `model=\u001b[34mSVMClassifier @974\u001b[39m`:\n",
      "│ scitype(X) = Table{Union{AbstractArray{Continuous,1}, AbstractArray{Count,1}}}\n",
      "│ input_scitype(model) = Table{var\"#s44\"} where var\"#s44\"<:(AbstractArray{var\"#s13\",1} where var\"#s13\"<:Continuous).\n",
      "└ @ MLJBase /home/andrew/.julia/packages/MLJBase/uKzAz/src/machines.jl:77\n",
      "┌ Warning: The scitype of `X`, in `machine(model, X, ...)` is incompatible with `model=\u001b[34mSVMClassifier @974\u001b[39m`:\n",
      "│ scitype(X) = Table{Union{AbstractArray{Continuous,1}, AbstractArray{Count,1}}}\n",
      "│ input_scitype(model) = Table{var\"#s44\"} where var\"#s44\"<:(AbstractArray{var\"#s13\",1} where var\"#s13\"<:Continuous).\n",
      "└ @ MLJBase /home/andrew/.julia/packages/MLJBase/uKzAz/src/machines.jl:77\n",
      "┌ Warning: The scitype of `X`, in `machine(model, X, ...)` is incompatible with `model=\u001b[34mSVMClassifier @974\u001b[39m`:\n",
      "│ scitype(X) = Table{Union{AbstractArray{Continuous,1}, AbstractArray{Count,1}}}\n",
      "│ input_scitype(model) = Table{var\"#s44\"} where var\"#s44\"<:(AbstractArray{var\"#s13\",1} where var\"#s13\"<:Continuous).\n",
      "└ @ MLJBase /home/andrew/.julia/packages/MLJBase/uKzAz/src/machines.jl:77\n",
      "┌ Warning: The scitype of `X`, in `machine(model, X, ...)` is incompatible with `model=\u001b[34mSVMClassifier @974\u001b[39m`:\n",
      "│ scitype(X) = Table{Union{AbstractArray{Continuous,1}, AbstractArray{Count,1}}}\n",
      "│ input_scitype(model) = Table{var\"#s44\"} where var\"#s44\"<:(AbstractArray{var\"#s13\",1} where var\"#s13\"<:Continuous).\n",
      "└ @ MLJBase /home/andrew/.julia/packages/MLJBase/uKzAz/src/machines.jl:77\n",
      "┌ Warning: The scitype of `X`, in `machine(model, X, ...)` is incompatible with `model=\u001b[34mSVMClassifier @974\u001b[39m`:\n",
      "│ scitype(X) = Table{Union{AbstractArray{Continuous,1}, AbstractArray{Count,1}}}\n",
      "│ input_scitype(model) = Table{var\"#s44\"} where var\"#s44\"<:(AbstractArray{var\"#s13\",1} where var\"#s13\"<:Continuous).\n",
      "└ @ MLJBase /home/andrew/.julia/packages/MLJBase/uKzAz/src/machines.jl:77\n",
      "┌ Warning: The scitype of `X`, in `machine(model, X, ...)` is incompatible with `model=\u001b[34mSVMClassifier @974\u001b[39m`:\n",
      "│ scitype(X) = Table{Union{AbstractArray{Continuous,1}, AbstractArray{Count,1}}}\n",
      "│ input_scitype(model) = Table{var\"#s44\"} where var\"#s44\"<:(AbstractArray{var\"#s13\",1} where var\"#s13\"<:Continuous).\n",
      "└ @ MLJBase /home/andrew/.julia/packages/MLJBase/uKzAz/src/machines.jl:77\n",
      "┌ Warning: The scitype of `X`, in `machine(model, X, ...)` is incompatible with `model=\u001b[34mSVMClassifier @974\u001b[39m`:\n",
      "│ scitype(X) = Table{Union{AbstractArray{Continuous,1}, AbstractArray{Count,1}}}\n",
      "│ input_scitype(model) = Table{var\"#s44\"} where var\"#s44\"<:(AbstractArray{var\"#s13\",1} where var\"#s13\"<:Continuous).\n",
      "└ @ MLJBase /home/andrew/.julia/packages/MLJBase/uKzAz/src/machines.jl:77\n",
      "┌ Warning: The scitype of `X`, in `machine(model, X, ...)` is incompatible with `model=\u001b[34mSVMClassifier @974\u001b[39m`:\n",
      "│ scitype(X) = Table{Union{AbstractArray{Continuous,1}, AbstractArray{Count,1}}}\n",
      "│ input_scitype(model) = Table{var\"#s44\"} where var\"#s44\"<:(AbstractArray{var\"#s13\",1} where var\"#s13\"<:Continuous).\n",
      "└ @ MLJBase /home/andrew/.julia/packages/MLJBase/uKzAz/src/machines.jl:77\n",
      "┌ Warning: The scitype of `X`, in `machine(model, X, ...)` is incompatible with `model=\u001b[34mSVMClassifier @974\u001b[39m`:\n",
      "│ scitype(X) = Table{Union{AbstractArray{Continuous,1}, AbstractArray{Count,1}}}\n",
      "│ input_scitype(model) = Table{var\"#s44\"} where var\"#s44\"<:(AbstractArray{var\"#s13\",1} where var\"#s13\"<:Continuous).\n",
      "└ @ MLJBase /home/andrew/.julia/packages/MLJBase/uKzAz/src/machines.jl:77\n",
      "┌ Warning: The scitype of `X`, in `machine(model, X, ...)` is incompatible with `model=\u001b[34mSVMClassifier @974\u001b[39m`:\n",
      "│ scitype(X) = Table{Union{AbstractArray{Continuous,1}, AbstractArray{Count,1}}}\n",
      "│ input_scitype(model) = Table{var\"#s44\"} where var\"#s44\"<:(AbstractArray{var\"#s13\",1} where var\"#s13\"<:Continuous).\n",
      "└ @ MLJBase /home/andrew/.julia/packages/MLJBase/uKzAz/src/machines.jl:77\n",
      "┌ Warning: The scitype of `X`, in `machine(model, X, ...)` is incompatible with `model=\u001b[34mSVMClassifier @974\u001b[39m`:\n",
      "│ scitype(X) = Table{Union{AbstractArray{Continuous,1}, AbstractArray{Count,1}}}\n",
      "│ input_scitype(model) = Table{var\"#s44\"} where var\"#s44\"<:(AbstractArray{var\"#s13\",1} where var\"#s13\"<:Continuous).\n",
      "└ @ MLJBase /home/andrew/.julia/packages/MLJBase/uKzAz/src/machines.jl:77\n",
      "┌ Warning: The scitype of `X`, in `machine(model, X, ...)` is incompatible with `model=\u001b[34mSVMClassifier @974\u001b[39m`:\n",
      "│ scitype(X) = Table{Union{AbstractArray{Continuous,1}, AbstractArray{Count,1}}}\n",
      "│ input_scitype(model) = Table{var\"#s44\"} where var\"#s44\"<:(AbstractArray{var\"#s13\",1} where var\"#s13\"<:Continuous).\n",
      "└ @ MLJBase /home/andrew/.julia/packages/MLJBase/uKzAz/src/machines.jl:77\n",
      "┌ Warning: The scitype of `X`, in `machine(model, X, ...)` is incompatible with `model=\u001b[34mSVMClassifier @974\u001b[39m`:\n",
      "│ scitype(X) = Table{Union{AbstractArray{Continuous,1}, AbstractArray{Count,1}}}\n",
      "│ input_scitype(model) = Table{var\"#s44\"} where var\"#s44\"<:(AbstractArray{var\"#s13\",1} where var\"#s13\"<:Continuous).\n",
      "└ @ MLJBase /home/andrew/.julia/packages/MLJBase/uKzAz/src/machines.jl:77\n",
      "┌ Warning: The scitype of `X`, in `machine(model, X, ...)` is incompatible with `model=\u001b[34mSVMClassifier @974\u001b[39m`:\n",
      "│ scitype(X) = Table{Union{AbstractArray{Continuous,1}, AbstractArray{Count,1}}}\n",
      "│ input_scitype(model) = Table{var\"#s44\"} where var\"#s44\"<:(AbstractArray{var\"#s13\",1} where var\"#s13\"<:Continuous).\n",
      "└ @ MLJBase /home/andrew/.julia/packages/MLJBase/uKzAz/src/machines.jl:77\n",
      "┌ Warning: The scitype of `X`, in `machine(model, X, ...)` is incompatible with `model=\u001b[34mSVMClassifier @974\u001b[39m`:\n",
      "│ scitype(X) = Table{Union{AbstractArray{Continuous,1}, AbstractArray{Count,1}}}\n",
      "│ input_scitype(model) = Table{var\"#s44\"} where var\"#s44\"<:(AbstractArray{var\"#s13\",1} where var\"#s13\"<:Continuous).\n",
      "└ @ MLJBase /home/andrew/.julia/packages/MLJBase/uKzAz/src/machines.jl:77\n",
      "┌ Warning: The scitype of `X`, in `machine(model, X, ...)` is incompatible with `model=\u001b[34mSVMClassifier @974\u001b[39m`:\n",
      "│ scitype(X) = Table{Union{AbstractArray{Continuous,1}, AbstractArray{Count,1}}}\n",
      "│ input_scitype(model) = Table{var\"#s44\"} where var\"#s44\"<:(AbstractArray{var\"#s13\",1} where var\"#s13\"<:Continuous).\n",
      "└ @ MLJBase /home/andrew/.julia/packages/MLJBase/uKzAz/src/machines.jl:77\n",
      "┌ Warning: The scitype of `X`, in `machine(model, X, ...)` is incompatible with `model=\u001b[34mSVMClassifier @974\u001b[39m`:\n",
      "│ scitype(X) = Table{Union{AbstractArray{Continuous,1}, AbstractArray{Count,1}}}\n",
      "│ input_scitype(model) = Table{var\"#s44\"} where var\"#s44\"<:(AbstractArray{var\"#s13\",1} where var\"#s13\"<:Continuous).\n",
      "└ @ MLJBase /home/andrew/.julia/packages/MLJBase/uKzAz/src/machines.jl:77\n",
      "┌ Warning: The scitype of `X`, in `machine(model, X, ...)` is incompatible with `model=\u001b[34mSVMClassifier @974\u001b[39m`:\n",
      "│ scitype(X) = Table{Union{AbstractArray{Continuous,1}, AbstractArray{Count,1}}}\n",
      "│ input_scitype(model) = Table{var\"#s44\"} where var\"#s44\"<:(AbstractArray{var\"#s13\",1} where var\"#s13\"<:Continuous).\n",
      "└ @ MLJBase /home/andrew/.julia/packages/MLJBase/uKzAz/src/machines.jl:77\n",
      "┌ Warning: The scitype of `X`, in `machine(model, X, ...)` is incompatible with `model=\u001b[34mSVMClassifier @974\u001b[39m`:\n",
      "│ scitype(X) = Table{Union{AbstractArray{Continuous,1}, AbstractArray{Count,1}}}\n",
      "│ input_scitype(model) = Table{var\"#s44\"} where var\"#s44\"<:(AbstractArray{var\"#s13\",1} where var\"#s13\"<:Continuous).\n",
      "└ @ MLJBase /home/andrew/.julia/packages/MLJBase/uKzAz/src/machines.jl:77\n",
      "┌ Warning: The scitype of `X`, in `machine(model, X, ...)` is incompatible with `model=\u001b[34mSVMClassifier @974\u001b[39m`:\n",
      "│ scitype(X) = Table{Union{AbstractArray{Continuous,1}, AbstractArray{Count,1}}}\n",
      "│ input_scitype(model) = Table{var\"#s44\"} where var\"#s44\"<:(AbstractArray{var\"#s13\",1} where var\"#s13\"<:Continuous).\n",
      "└ @ MLJBase /home/andrew/.julia/packages/MLJBase/uKzAz/src/machines.jl:77\n",
      "┌ Warning: The scitype of `X`, in `machine(model, X, ...)` is incompatible with `model=\u001b[34mSVMClassifier @974\u001b[39m`:\n",
      "│ scitype(X) = Table{Union{AbstractArray{Continuous,1}, AbstractArray{Count,1}}}\n",
      "│ input_scitype(model) = Table{var\"#s44\"} where var\"#s44\"<:(AbstractArray{var\"#s13\",1} where var\"#s13\"<:Continuous).\n",
      "└ @ MLJBase /home/andrew/.julia/packages/MLJBase/uKzAz/src/machines.jl:77\n",
      "┌ Warning: The scitype of `X`, in `machine(model, X, ...)` is incompatible with `model=\u001b[34mSVMClassifier @974\u001b[39m`:\n",
      "│ scitype(X) = Table{Union{AbstractArray{Continuous,1}, AbstractArray{Count,1}}}\n",
      "│ input_scitype(model) = Table{var\"#s44\"} where var\"#s44\"<:(AbstractArray{var\"#s13\",1} where var\"#s13\"<:Continuous).\n",
      "└ @ MLJBase /home/andrew/.julia/packages/MLJBase/uKzAz/src/machines.jl:77\n",
      "┌ Warning: The scitype of `X`, in `machine(model, X, ...)` is incompatible with `model=\u001b[34mSVMClassifier @974\u001b[39m`:\n",
      "│ scitype(X) = Table{Union{AbstractArray{Continuous,1}, AbstractArray{Count,1}}}\n",
      "│ input_scitype(model) = Table{var\"#s44\"} where var\"#s44\"<:(AbstractArray{var\"#s13\",1} where var\"#s13\"<:Continuous).\n",
      "└ @ MLJBase /home/andrew/.julia/packages/MLJBase/uKzAz/src/machines.jl:77\n",
      "┌ Warning: The scitype of `X`, in `machine(model, X, ...)` is incompatible with `model=\u001b[34mSVMClassifier @974\u001b[39m`:\n",
      "│ scitype(X) = Table{Union{AbstractArray{Continuous,1}, AbstractArray{Count,1}}}\n",
      "│ input_scitype(model) = Table{var\"#s44\"} where var\"#s44\"<:(AbstractArray{var\"#s13\",1} where var\"#s13\"<:Continuous).\n",
      "└ @ MLJBase /home/andrew/.julia/packages/MLJBase/uKzAz/src/machines.jl:77\n",
      "┌ Warning: The scitype of `X`, in `machine(model, X, ...)` is incompatible with `model=\u001b[34mSVMClassifier @974\u001b[39m`:\n",
      "│ scitype(X) = Table{Union{AbstractArray{Continuous,1}, AbstractArray{Count,1}}}\n",
      "│ input_scitype(model) = Table{var\"#s44\"} where var\"#s44\"<:(AbstractArray{var\"#s13\",1} where var\"#s13\"<:Continuous).\n",
      "└ @ MLJBase /home/andrew/.julia/packages/MLJBase/uKzAz/src/machines.jl:77\n",
      "┌ Warning: The scitype of `X`, in `machine(model, X, ...)` is incompatible with `model=\u001b[34mSVMClassifier @974\u001b[39m`:\n",
      "│ scitype(X) = Table{Union{AbstractArray{Continuous,1}, AbstractArray{Count,1}}}\n",
      "│ input_scitype(model) = Table{var\"#s44\"} where var\"#s44\"<:(AbstractArray{var\"#s13\",1} where var\"#s13\"<:Continuous).\n",
      "└ @ MLJBase /home/andrew/.julia/packages/MLJBase/uKzAz/src/machines.jl:77\n"
     ]
    },
    {
     "name": "stdout",
     "output_type": "stream",
     "text": [
      "(d, train_metric, valid_metric) = (10, 1.0, 0.6891891891891893)\n",
      "(d, train_metric, valid_metric) = (15, 1.0, 0.75)\n",
      "(d, train_metric, valid_metric) = (20, 0.95, 0.75)\n",
      "(d, train_metric, valid_metric) = (25, 1.0, 0.7635135135135135)\n",
      "(d, train_metric, valid_metric) = (30, 1.0, 0.7905405405405406)\n",
      "(d, train_metric, valid_metric) = (35, 1.0, 0.7905405405405406)\n",
      "(d, train_metric, valid_metric) = (40, 1.0, 0.7837837837837838)\n",
      "(d, train_metric, valid_metric) = (45, 1.0, 0.7837837837837838)\n",
      "(d, train_metric, valid_metric) = (50, 1.0, 0.7702702702702703)\n",
      "(d, train_metric, valid_metric) = (55, 1.0, 0.7635135135135135)\n",
      "(d, train_metric, valid_metric) = (60, 0.9666666666666667, 0.7905405405405406)\n",
      "(d, train_metric, valid_metric) = (65, 0.9846153846153847, 0.7905405405405406)\n",
      "(d, train_metric, valid_metric) = (70, 0.9714285714285714, 0.7972972972972973)\n",
      "(d, train_metric, valid_metric) = (75, 0.9333333333333333, 0.8175675675675675)\n",
      "(d, train_metric, valid_metric) = (80, 0.9125, 0.8108108108108107)\n",
      "(d, train_metric, valid_metric) = (85, 0.9058823529411765, 0.8108108108108107)\n",
      "(d, train_metric, valid_metric) = (90, 0.9444444444444444, 0.8310810810810811)\n",
      "(d, train_metric, valid_metric) = (95, 0.9157894736842105, 0.8175675675675675)\n",
      "(d, train_metric, valid_metric) = (100, 0.9, 0.8040540540540541)\n",
      "(d, train_metric, valid_metric) = (105, 0.8952380952380953, 0.8108108108108107)\n",
      "(d, train_metric, valid_metric) = (110, 0.9, 0.8108108108108107)\n",
      "(d, train_metric, valid_metric) = (115, 0.9043478260869565, 0.8243243243243243)\n",
      "(d, train_metric, valid_metric) = (120, 0.9, 0.8310810810810811)\n",
      "(d, train_metric, valid_metric) = (125, 0.904, 0.8243243243243243)\n",
      "(d, train_metric, valid_metric) = (130, 0.8769230769230769, 0.8108108108108107)\n",
      "(d, train_metric, valid_metric) = (135, 0.8666666666666667, 0.8108108108108107)\n",
      "(d, train_metric, valid_metric) = (140, 0.8857142857142857, 0.8040540540540541)\n",
      "(d, train_metric, valid_metric) = (145, 0.8896551724137931, 0.8040540540540541)\n"
     ]
    },
    {
     "name": "stderr",
     "output_type": "stream",
     "text": [
      "┌ Warning: The scitype of `X`, in `machine(model, X, ...)` is incompatible with `model=\u001b[34mSVMClassifier @974\u001b[39m`:\n",
      "│ scitype(X) = Table{Union{AbstractArray{Continuous,1}, AbstractArray{Count,1}}}\n",
      "│ input_scitype(model) = Table{var\"#s44\"} where var\"#s44\"<:(AbstractArray{var\"#s13\",1} where var\"#s13\"<:Continuous).\n",
      "└ @ MLJBase /home/andrew/.julia/packages/MLJBase/uKzAz/src/machines.jl:77\n",
      "┌ Warning: The scitype of `X`, in `machine(model, X, ...)` is incompatible with `model=\u001b[34mSVMClassifier @974\u001b[39m`:\n",
      "│ scitype(X) = Table{Union{AbstractArray{Continuous,1}, AbstractArray{Count,1}}}\n",
      "│ input_scitype(model) = Table{var\"#s44\"} where var\"#s44\"<:(AbstractArray{var\"#s13\",1} where var\"#s13\"<:Continuous).\n",
      "└ @ MLJBase /home/andrew/.julia/packages/MLJBase/uKzAz/src/machines.jl:77\n",
      "┌ Warning: The scitype of `X`, in `machine(model, X, ...)` is incompatible with `model=\u001b[34mSVMClassifier @974\u001b[39m`:\n",
      "│ scitype(X) = Table{Union{AbstractArray{Continuous,1}, AbstractArray{Count,1}}}\n",
      "│ input_scitype(model) = Table{var\"#s44\"} where var\"#s44\"<:(AbstractArray{var\"#s13\",1} where var\"#s13\"<:Continuous).\n",
      "└ @ MLJBase /home/andrew/.julia/packages/MLJBase/uKzAz/src/machines.jl:77\n"
     ]
    },
    {
     "name": "stdout",
     "output_type": "stream",
     "text": [
      "(d, train_metric, valid_metric) = (150, 0.9, 0.8108108108108107)\n",
      "(d, train_metric, valid_metric) = (155, 0.896774193548387, 0.8108108108108107)\n",
      "(d, train_metric, valid_metric) = (160, 0.9, 0.8175675675675675)\n",
      "(d, train_metric, valid_metric) = (165, 0.896969696969697, 0.8175675675675675)\n",
      "(d, train_metric, valid_metric) = (170, 0.8941176470588236, 0.8243243243243243)\n",
      "(d, train_metric, valid_metric) = (175, 0.8971428571428571, 0.8310810810810811)\n",
      "(d, train_metric, valid_metric) = (180, 0.8833333333333333, 0.8243243243243243)\n",
      "(d, train_metric, valid_metric) = (185, 0.8810810810810811, 0.8310810810810811)\n",
      "(d, train_metric, valid_metric) = (190, 0.8947368421052632, 0.8310810810810811)\n",
      "(d, train_metric, valid_metric) = (195, 0.8871794871794871, 0.8310810810810811)\n",
      "(d, train_metric, valid_metric) = (200, 0.885, 0.8243243243243243)\n",
      "(d, train_metric, valid_metric) = (205, 0.8926829268292683, 0.8175675675675675)\n",
      "(d, train_metric, valid_metric) = (210, 0.8952380952380953, 0.8243243243243243)\n",
      "(d, train_metric, valid_metric) = (215, 0.8837209302325582, 0.8310810810810811)\n",
      "(d, train_metric, valid_metric) = (220, 0.8863636363636364, 0.8445945945945946)\n",
      "(d, train_metric, valid_metric) = (225, 0.8888888888888888, 0.8378378378378378)\n",
      "(d, train_metric, valid_metric) = (230, 0.8913043478260869, 0.8378378378378378)\n",
      "(d, train_metric, valid_metric) = (235, 0.8851063829787233, 0.8513513513513513)\n"
     ]
    },
    {
     "name": "stderr",
     "output_type": "stream",
     "text": [
      "┌ Warning: The scitype of `X`, in `machine(model, X, ...)` is incompatible with `model=\u001b[34mSVMClassifier @974\u001b[39m`:\n",
      "│ scitype(X) = Table{Union{AbstractArray{Continuous,1}, AbstractArray{Count,1}}}\n",
      "│ input_scitype(model) = Table{var\"#s44\"} where var\"#s44\"<:(AbstractArray{var\"#s13\",1} where var\"#s13\"<:Continuous).\n",
      "└ @ MLJBase /home/andrew/.julia/packages/MLJBase/uKzAz/src/machines.jl:77\n",
      "┌ Warning: The scitype of `X`, in `machine(model, X, ...)` is incompatible with `model=\u001b[34mSVMClassifier @974\u001b[39m`:\n",
      "│ scitype(X) = Table{Union{AbstractArray{Continuous,1}, AbstractArray{Count,1}}}\n",
      "│ input_scitype(model) = Table{var\"#s44\"} where var\"#s44\"<:(AbstractArray{var\"#s13\",1} where var\"#s13\"<:Continuous).\n",
      "└ @ MLJBase /home/andrew/.julia/packages/MLJBase/uKzAz/src/machines.jl:77\n",
      "┌ Warning: The scitype of `X`, in `machine(model, X, ...)` is incompatible with `model=\u001b[34mSVMClassifier @974\u001b[39m`:\n",
      "│ scitype(X) = Table{Union{AbstractArray{Continuous,1}, AbstractArray{Count,1}}}\n",
      "│ input_scitype(model) = Table{var\"#s44\"} where var\"#s44\"<:(AbstractArray{var\"#s13\",1} where var\"#s13\"<:Continuous).\n",
      "└ @ MLJBase /home/andrew/.julia/packages/MLJBase/uKzAz/src/machines.jl:77\n",
      "┌ Warning: The scitype of `X`, in `machine(model, X, ...)` is incompatible with `model=\u001b[34mSVMClassifier @974\u001b[39m`:\n",
      "│ scitype(X) = Table{Union{AbstractArray{Continuous,1}, AbstractArray{Count,1}}}\n",
      "│ input_scitype(model) = Table{var\"#s44\"} where var\"#s44\"<:(AbstractArray{var\"#s13\",1} where var\"#s13\"<:Continuous).\n",
      "└ @ MLJBase /home/andrew/.julia/packages/MLJBase/uKzAz/src/machines.jl:77\n",
      "┌ Warning: The scitype of `X`, in `machine(model, X, ...)` is incompatible with `model=\u001b[34mSVMClassifier @974\u001b[39m`:\n",
      "│ scitype(X) = Table{Union{AbstractArray{Continuous,1}, AbstractArray{Count,1}}}\n",
      "│ input_scitype(model) = Table{var\"#s44\"} where var\"#s44\"<:(AbstractArray{var\"#s13\",1} where var\"#s13\"<:Continuous).\n",
      "└ @ MLJBase /home/andrew/.julia/packages/MLJBase/uKzAz/src/machines.jl:77\n",
      "┌ Warning: The scitype of `X`, in `machine(model, X, ...)` is incompatible with `model=\u001b[34mSVMClassifier @974\u001b[39m`:\n",
      "│ scitype(X) = Table{Union{AbstractArray{Continuous,1}, AbstractArray{Count,1}}}\n",
      "│ input_scitype(model) = Table{var\"#s44\"} where var\"#s44\"<:(AbstractArray{var\"#s13\",1} where var\"#s13\"<:Continuous).\n",
      "└ @ MLJBase /home/andrew/.julia/packages/MLJBase/uKzAz/src/machines.jl:77\n",
      "┌ Warning: The scitype of `X`, in `machine(model, X, ...)` is incompatible with `model=\u001b[34mSVMClassifier @974\u001b[39m`:\n",
      "│ scitype(X) = Table{Union{AbstractArray{Continuous,1}, AbstractArray{Count,1}}}\n",
      "│ input_scitype(model) = Table{var\"#s44\"} where var\"#s44\"<:(AbstractArray{var\"#s13\",1} where var\"#s13\"<:Continuous).\n",
      "└ @ MLJBase /home/andrew/.julia/packages/MLJBase/uKzAz/src/machines.jl:77\n",
      "┌ Warning: The scitype of `X`, in `machine(model, X, ...)` is incompatible with `model=\u001b[34mSVMClassifier @974\u001b[39m`:\n",
      "│ scitype(X) = Table{Union{AbstractArray{Continuous,1}, AbstractArray{Count,1}}}\n",
      "│ input_scitype(model) = Table{var\"#s44\"} where var\"#s44\"<:(AbstractArray{var\"#s13\",1} where var\"#s13\"<:Continuous).\n",
      "└ @ MLJBase /home/andrew/.julia/packages/MLJBase/uKzAz/src/machines.jl:77\n",
      "┌ Warning: The scitype of `X`, in `machine(model, X, ...)` is incompatible with `model=\u001b[34mSVMClassifier @974\u001b[39m`:\n",
      "│ scitype(X) = Table{Union{AbstractArray{Continuous,1}, AbstractArray{Count,1}}}\n",
      "│ input_scitype(model) = Table{var\"#s44\"} where var\"#s44\"<:(AbstractArray{var\"#s13\",1} where var\"#s13\"<:Continuous).\n",
      "└ @ MLJBase /home/andrew/.julia/packages/MLJBase/uKzAz/src/machines.jl:77\n",
      "┌ Warning: The scitype of `X`, in `machine(model, X, ...)` is incompatible with `model=\u001b[34mSVMClassifier @974\u001b[39m`:\n",
      "│ scitype(X) = Table{Union{AbstractArray{Continuous,1}, AbstractArray{Count,1}}}\n",
      "│ input_scitype(model) = Table{var\"#s44\"} where var\"#s44\"<:(AbstractArray{var\"#s13\",1} where var\"#s13\"<:Continuous).\n",
      "└ @ MLJBase /home/andrew/.julia/packages/MLJBase/uKzAz/src/machines.jl:77\n",
      "┌ Warning: The scitype of `X`, in `machine(model, X, ...)` is incompatible with `model=\u001b[34mSVMClassifier @974\u001b[39m`:\n",
      "│ scitype(X) = Table{Union{AbstractArray{Continuous,1}, AbstractArray{Count,1}}}\n",
      "│ input_scitype(model) = Table{var\"#s44\"} where var\"#s44\"<:(AbstractArray{var\"#s13\",1} where var\"#s13\"<:Continuous).\n",
      "└ @ MLJBase /home/andrew/.julia/packages/MLJBase/uKzAz/src/machines.jl:77\n",
      "┌ Warning: The scitype of `X`, in `machine(model, X, ...)` is incompatible with `model=\u001b[34mSVMClassifier @974\u001b[39m`:\n",
      "│ scitype(X) = Table{Union{AbstractArray{Continuous,1}, AbstractArray{Count,1}}}\n",
      "│ input_scitype(model) = Table{var\"#s44\"} where var\"#s44\"<:(AbstractArray{var\"#s13\",1} where var\"#s13\"<:Continuous).\n",
      "└ @ MLJBase /home/andrew/.julia/packages/MLJBase/uKzAz/src/machines.jl:77\n",
      "┌ Warning: The scitype of `X`, in `machine(model, X, ...)` is incompatible with `model=\u001b[34mSVMClassifier @974\u001b[39m`:\n",
      "│ scitype(X) = Table{Union{AbstractArray{Continuous,1}, AbstractArray{Count,1}}}\n",
      "│ input_scitype(model) = Table{var\"#s44\"} where var\"#s44\"<:(AbstractArray{var\"#s13\",1} where var\"#s13\"<:Continuous).\n",
      "└ @ MLJBase /home/andrew/.julia/packages/MLJBase/uKzAz/src/machines.jl:77\n",
      "┌ Warning: The scitype of `X`, in `machine(model, X, ...)` is incompatible with `model=\u001b[34mSVMClassifier @974\u001b[39m`:\n",
      "│ scitype(X) = Table{Union{AbstractArray{Continuous,1}, AbstractArray{Count,1}}}\n",
      "│ input_scitype(model) = Table{var\"#s44\"} where var\"#s44\"<:(AbstractArray{var\"#s13\",1} where var\"#s13\"<:Continuous).\n",
      "└ @ MLJBase /home/andrew/.julia/packages/MLJBase/uKzAz/src/machines.jl:77\n",
      "┌ Warning: The scitype of `X`, in `machine(model, X, ...)` is incompatible with `model=\u001b[34mSVMClassifier @974\u001b[39m`:\n",
      "│ scitype(X) = Table{Union{AbstractArray{Continuous,1}, AbstractArray{Count,1}}}\n",
      "│ input_scitype(model) = Table{var\"#s44\"} where var\"#s44\"<:(AbstractArray{var\"#s13\",1} where var\"#s13\"<:Continuous).\n",
      "└ @ MLJBase /home/andrew/.julia/packages/MLJBase/uKzAz/src/machines.jl:77\n",
      "┌ Warning: The scitype of `X`, in `machine(model, X, ...)` is incompatible with `model=\u001b[34mSVMClassifier @974\u001b[39m`:\n",
      "│ scitype(X) = Table{Union{AbstractArray{Continuous,1}, AbstractArray{Count,1}}}\n",
      "│ input_scitype(model) = Table{var\"#s44\"} where var\"#s44\"<:(AbstractArray{var\"#s13\",1} where var\"#s13\"<:Continuous).\n",
      "└ @ MLJBase /home/andrew/.julia/packages/MLJBase/uKzAz/src/machines.jl:77\n",
      "┌ Warning: The scitype of `X`, in `machine(model, X, ...)` is incompatible with `model=\u001b[34mSVMClassifier @974\u001b[39m`:\n",
      "│ scitype(X) = Table{Union{AbstractArray{Continuous,1}, AbstractArray{Count,1}}}\n",
      "│ input_scitype(model) = Table{var\"#s44\"} where var\"#s44\"<:(AbstractArray{var\"#s13\",1} where var\"#s13\"<:Continuous).\n",
      "└ @ MLJBase /home/andrew/.julia/packages/MLJBase/uKzAz/src/machines.jl:77\n",
      "┌ Warning: The scitype of `X`, in `machine(model, X, ...)` is incompatible with `model=\u001b[34mSVMClassifier @974\u001b[39m`:\n",
      "│ scitype(X) = Table{Union{AbstractArray{Continuous,1}, AbstractArray{Count,1}}}\n",
      "│ input_scitype(model) = Table{var\"#s44\"} where var\"#s44\"<:(AbstractArray{var\"#s13\",1} where var\"#s13\"<:Continuous).\n",
      "└ @ MLJBase /home/andrew/.julia/packages/MLJBase/uKzAz/src/machines.jl:77\n"
     ]
    },
    {
     "name": "stdout",
     "output_type": "stream",
     "text": [
      "(d, train_metric, valid_metric) = (240, 0.8666666666666667, 0.8513513513513513)\n",
      "(d, train_metric, valid_metric) = (245, 0.8693877551020408, 0.8513513513513513)\n",
      "(d, train_metric, valid_metric) = (250, 0.884, 0.8581081081081081)\n",
      "(d, train_metric, valid_metric) = (255, 0.8784313725490196, 0.8378378378378378)\n",
      "(d, train_metric, valid_metric) = (260, 0.8807692307692307, 0.8378378378378378)\n",
      "(d, train_metric, valid_metric) = (265, 0.8867924528301887, 0.8513513513513513)\n",
      "(d, train_metric, valid_metric) = (270, 0.8925925925925926, 0.8513513513513513)\n",
      "(d, train_metric, valid_metric) = (275, 0.8945454545454545, 0.8648648648648649)\n",
      "(d, train_metric, valid_metric) = (280, 0.9, 0.8513513513513513)\n",
      "(d, train_metric, valid_metric) = (285, 0.887719298245614, 0.8581081081081081)\n",
      "(d, train_metric, valid_metric) = (290, 0.8931034482758621, 0.8716216216216216)\n",
      "(d, train_metric, valid_metric) = (295, 0.888135593220339, 0.8648648648648649)\n"
     ]
    },
    {
     "name": "stderr",
     "output_type": "stream",
     "text": [
      "┌ Warning: The scitype of `X`, in `machine(model, X, ...)` is incompatible with `model=\u001b[34mSVMClassifier @974\u001b[39m`:\n",
      "│ scitype(X) = Table{Union{AbstractArray{Continuous,1}, AbstractArray{Count,1}}}\n",
      "│ input_scitype(model) = Table{var\"#s44\"} where var\"#s44\"<:(AbstractArray{var\"#s13\",1} where var\"#s13\"<:Continuous).\n",
      "└ @ MLJBase /home/andrew/.julia/packages/MLJBase/uKzAz/src/machines.jl:77\n",
      "┌ Warning: The scitype of `X`, in `machine(model, X, ...)` is incompatible with `model=\u001b[34mSVMClassifier @974\u001b[39m`:\n",
      "│ scitype(X) = Table{Union{AbstractArray{Continuous,1}, AbstractArray{Count,1}}}\n",
      "│ input_scitype(model) = Table{var\"#s44\"} where var\"#s44\"<:(AbstractArray{var\"#s13\",1} where var\"#s13\"<:Continuous).\n",
      "└ @ MLJBase /home/andrew/.julia/packages/MLJBase/uKzAz/src/machines.jl:77\n",
      "┌ Warning: The scitype of `X`, in `machine(model, X, ...)` is incompatible with `model=\u001b[34mSVMClassifier @974\u001b[39m`:\n",
      "│ scitype(X) = Table{Union{AbstractArray{Continuous,1}, AbstractArray{Count,1}}}\n",
      "│ input_scitype(model) = Table{var\"#s44\"} where var\"#s44\"<:(AbstractArray{var\"#s13\",1} where var\"#s13\"<:Continuous).\n",
      "└ @ MLJBase /home/andrew/.julia/packages/MLJBase/uKzAz/src/machines.jl:77\n",
      "┌ Warning: The scitype of `X`, in `machine(model, X, ...)` is incompatible with `model=\u001b[34mSVMClassifier @974\u001b[39m`:\n",
      "│ scitype(X) = Table{Union{AbstractArray{Continuous,1}, AbstractArray{Count,1}}}\n",
      "│ input_scitype(model) = Table{var\"#s44\"} where var\"#s44\"<:(AbstractArray{var\"#s13\",1} where var\"#s13\"<:Continuous).\n",
      "└ @ MLJBase /home/andrew/.julia/packages/MLJBase/uKzAz/src/machines.jl:77\n",
      "┌ Warning: The scitype of `X`, in `machine(model, X, ...)` is incompatible with `model=\u001b[34mSVMClassifier @974\u001b[39m`:\n",
      "│ scitype(X) = Table{Union{AbstractArray{Continuous,1}, AbstractArray{Count,1}}}\n",
      "│ input_scitype(model) = Table{var\"#s44\"} where var\"#s44\"<:(AbstractArray{var\"#s13\",1} where var\"#s13\"<:Continuous).\n",
      "└ @ MLJBase /home/andrew/.julia/packages/MLJBase/uKzAz/src/machines.jl:77\n",
      "┌ Warning: The scitype of `X`, in `machine(model, X, ...)` is incompatible with `model=\u001b[34mSVMClassifier @974\u001b[39m`:\n",
      "│ scitype(X) = Table{Union{AbstractArray{Continuous,1}, AbstractArray{Count,1}}}\n",
      "│ input_scitype(model) = Table{var\"#s44\"} where var\"#s44\"<:(AbstractArray{var\"#s13\",1} where var\"#s13\"<:Continuous).\n",
      "└ @ MLJBase /home/andrew/.julia/packages/MLJBase/uKzAz/src/machines.jl:77\n",
      "┌ Warning: The scitype of `X`, in `machine(model, X, ...)` is incompatible with `model=\u001b[34mSVMClassifier @974\u001b[39m`:\n",
      "│ scitype(X) = Table{Union{AbstractArray{Continuous,1}, AbstractArray{Count,1}}}\n",
      "│ input_scitype(model) = Table{var\"#s44\"} where var\"#s44\"<:(AbstractArray{var\"#s13\",1} where var\"#s13\"<:Continuous).\n",
      "└ @ MLJBase /home/andrew/.julia/packages/MLJBase/uKzAz/src/machines.jl:77\n",
      "┌ Warning: The scitype of `X`, in `machine(model, X, ...)` is incompatible with `model=\u001b[34mSVMClassifier @974\u001b[39m`:\n",
      "│ scitype(X) = Table{Union{AbstractArray{Continuous,1}, AbstractArray{Count,1}}}\n",
      "│ input_scitype(model) = Table{var\"#s44\"} where var\"#s44\"<:(AbstractArray{var\"#s13\",1} where var\"#s13\"<:Continuous).\n",
      "└ @ MLJBase /home/andrew/.julia/packages/MLJBase/uKzAz/src/machines.jl:77\n",
      "┌ Warning: The scitype of `X`, in `machine(model, X, ...)` is incompatible with `model=\u001b[34mSVMClassifier @974\u001b[39m`:\n",
      "│ scitype(X) = Table{Union{AbstractArray{Continuous,1}, AbstractArray{Count,1}}}\n",
      "│ input_scitype(model) = Table{var\"#s44\"} where var\"#s44\"<:(AbstractArray{var\"#s13\",1} where var\"#s13\"<:Continuous).\n",
      "└ @ MLJBase /home/andrew/.julia/packages/MLJBase/uKzAz/src/machines.jl:77\n",
      "┌ Warning: The scitype of `X`, in `machine(model, X, ...)` is incompatible with `model=\u001b[34mSVMClassifier @974\u001b[39m`:\n",
      "│ scitype(X) = Table{Union{AbstractArray{Continuous,1}, AbstractArray{Count,1}}}\n",
      "│ input_scitype(model) = Table{var\"#s44\"} where var\"#s44\"<:(AbstractArray{var\"#s13\",1} where var\"#s13\"<:Continuous).\n",
      "└ @ MLJBase /home/andrew/.julia/packages/MLJBase/uKzAz/src/machines.jl:77\n",
      "┌ Warning: The scitype of `X`, in `machine(model, X, ...)` is incompatible with `model=\u001b[34mSVMClassifier @974\u001b[39m`:\n",
      "│ scitype(X) = Table{Union{AbstractArray{Continuous,1}, AbstractArray{Count,1}}}\n",
      "│ input_scitype(model) = Table{var\"#s44\"} where var\"#s44\"<:(AbstractArray{var\"#s13\",1} where var\"#s13\"<:Continuous).\n",
      "└ @ MLJBase /home/andrew/.julia/packages/MLJBase/uKzAz/src/machines.jl:77\n"
     ]
    },
    {
     "name": "stdout",
     "output_type": "stream",
     "text": [
      "(d, train_metric, valid_metric) = (300, 0.8833333333333333, 0.8716216216216216)\n",
      "(d, train_metric, valid_metric) = (305, 0.8950819672131147, 0.8648648648648649)\n",
      "(d, train_metric, valid_metric) = (310, 0.8903225806451613, 0.8851351351351351)\n",
      "(d, train_metric, valid_metric) = (315, 0.8888888888888888, 0.8716216216216216)\n",
      "(d, train_metric, valid_metric) = (320, 0.896875, 0.8851351351351351)\n",
      "(d, train_metric, valid_metric) = (325, 0.8953846153846154, 0.8851351351351351)\n",
      "(d, train_metric, valid_metric) = (330, 0.896969696969697, 0.8851351351351351)\n",
      "(d, train_metric, valid_metric) = (335, 0.8865671641791044, 0.8918918918918919)\n",
      "(d, train_metric, valid_metric) = (340, 0.8852941176470588, 0.8918918918918919)\n",
      "(d, train_metric, valid_metric) = (345, 0.8869565217391304, 0.8918918918918919)\n"
     ]
    },
    {
     "name": "stderr",
     "output_type": "stream",
     "text": [
      "┌ Warning: The scitype of `X`, in `machine(model, X, ...)` is incompatible with `model=\u001b[34mSVMClassifier @974\u001b[39m`:\n",
      "│ scitype(X) = Table{Union{AbstractArray{Continuous,1}, AbstractArray{Count,1}}}\n",
      "│ input_scitype(model) = Table{var\"#s44\"} where var\"#s44\"<:(AbstractArray{var\"#s13\",1} where var\"#s13\"<:Continuous).\n",
      "└ @ MLJBase /home/andrew/.julia/packages/MLJBase/uKzAz/src/machines.jl:77\n",
      "┌ Warning: The scitype of `X`, in `machine(model, X, ...)` is incompatible with `model=\u001b[34mSVMClassifier @974\u001b[39m`:\n",
      "│ scitype(X) = Table{Union{AbstractArray{Continuous,1}, AbstractArray{Count,1}}}\n",
      "│ input_scitype(model) = Table{var\"#s44\"} where var\"#s44\"<:(AbstractArray{var\"#s13\",1} where var\"#s13\"<:Continuous).\n",
      "└ @ MLJBase /home/andrew/.julia/packages/MLJBase/uKzAz/src/machines.jl:77\n",
      "┌ Warning: The scitype of `X`, in `machine(model, X, ...)` is incompatible with `model=\u001b[34mSVMClassifier @974\u001b[39m`:\n",
      "│ scitype(X) = Table{Union{AbstractArray{Continuous,1}, AbstractArray{Count,1}}}\n",
      "│ input_scitype(model) = Table{var\"#s44\"} where var\"#s44\"<:(AbstractArray{var\"#s13\",1} where var\"#s13\"<:Continuous).\n",
      "└ @ MLJBase /home/andrew/.julia/packages/MLJBase/uKzAz/src/machines.jl:77\n",
      "┌ Warning: The scitype of `X`, in `machine(model, X, ...)` is incompatible with `model=\u001b[34mSVMClassifier @974\u001b[39m`:\n",
      "│ scitype(X) = Table{Union{AbstractArray{Continuous,1}, AbstractArray{Count,1}}}\n",
      "│ input_scitype(model) = Table{var\"#s44\"} where var\"#s44\"<:(AbstractArray{var\"#s13\",1} where var\"#s13\"<:Continuous).\n",
      "└ @ MLJBase /home/andrew/.julia/packages/MLJBase/uKzAz/src/machines.jl:77\n",
      "┌ Warning: The scitype of `X`, in `machine(model, X, ...)` is incompatible with `model=\u001b[34mSVMClassifier @974\u001b[39m`:\n",
      "│ scitype(X) = Table{Union{AbstractArray{Continuous,1}, AbstractArray{Count,1}}}\n",
      "│ input_scitype(model) = Table{var\"#s44\"} where var\"#s44\"<:(AbstractArray{var\"#s13\",1} where var\"#s13\"<:Continuous).\n",
      "└ @ MLJBase /home/andrew/.julia/packages/MLJBase/uKzAz/src/machines.jl:77\n",
      "┌ Warning: The scitype of `X`, in `machine(model, X, ...)` is incompatible with `model=\u001b[34mSVMClassifier @974\u001b[39m`:\n",
      "│ scitype(X) = Table{Union{AbstractArray{Continuous,1}, AbstractArray{Count,1}}}\n",
      "│ input_scitype(model) = Table{var\"#s44\"} where var\"#s44\"<:(AbstractArray{var\"#s13\",1} where var\"#s13\"<:Continuous).\n",
      "└ @ MLJBase /home/andrew/.julia/packages/MLJBase/uKzAz/src/machines.jl:77\n",
      "┌ Warning: The scitype of `X`, in `machine(model, X, ...)` is incompatible with `model=\u001b[34mSVMClassifier @974\u001b[39m`:\n",
      "│ scitype(X) = Table{Union{AbstractArray{Continuous,1}, AbstractArray{Count,1}}}\n",
      "│ input_scitype(model) = Table{var\"#s44\"} where var\"#s44\"<:(AbstractArray{var\"#s13\",1} where var\"#s13\"<:Continuous).\n",
      "└ @ MLJBase /home/andrew/.julia/packages/MLJBase/uKzAz/src/machines.jl:77\n",
      "┌ Warning: The scitype of `X`, in `machine(model, X, ...)` is incompatible with `model=\u001b[34mSVMClassifier @974\u001b[39m`:\n",
      "│ scitype(X) = Table{Union{AbstractArray{Continuous,1}, AbstractArray{Count,1}}}\n",
      "│ input_scitype(model) = Table{var\"#s44\"} where var\"#s44\"<:(AbstractArray{var\"#s13\",1} where var\"#s13\"<:Continuous).\n",
      "└ @ MLJBase /home/andrew/.julia/packages/MLJBase/uKzAz/src/machines.jl:77\n",
      "┌ Warning: The scitype of `X`, in `machine(model, X, ...)` is incompatible with `model=\u001b[34mSVMClassifier @974\u001b[39m`:\n",
      "│ scitype(X) = Table{Union{AbstractArray{Continuous,1}, AbstractArray{Count,1}}}\n",
      "│ input_scitype(model) = Table{var\"#s44\"} where var\"#s44\"<:(AbstractArray{var\"#s13\",1} where var\"#s13\"<:Continuous).\n",
      "└ @ MLJBase /home/andrew/.julia/packages/MLJBase/uKzAz/src/machines.jl:77\n",
      "┌ Warning: The scitype of `X`, in `machine(model, X, ...)` is incompatible with `model=\u001b[34mSVMClassifier @974\u001b[39m`:\n",
      "│ scitype(X) = Table{Union{AbstractArray{Continuous,1}, AbstractArray{Count,1}}}\n",
      "│ input_scitype(model) = Table{var\"#s44\"} where var\"#s44\"<:(AbstractArray{var\"#s13\",1} where var\"#s13\"<:Continuous).\n",
      "└ @ MLJBase /home/andrew/.julia/packages/MLJBase/uKzAz/src/machines.jl:77\n",
      "┌ Warning: The scitype of `X`, in `machine(model, X, ...)` is incompatible with `model=\u001b[34mSVMClassifier @974\u001b[39m`:\n",
      "│ scitype(X) = Table{Union{AbstractArray{Continuous,1}, AbstractArray{Count,1}}}\n",
      "│ input_scitype(model) = Table{var\"#s44\"} where var\"#s44\"<:(AbstractArray{var\"#s13\",1} where var\"#s13\"<:Continuous).\n",
      "└ @ MLJBase /home/andrew/.julia/packages/MLJBase/uKzAz/src/machines.jl:77\n"
     ]
    },
    {
     "name": "stdout",
     "output_type": "stream",
     "text": [
      "(d, train_metric, valid_metric) = (350, 0.8857142857142857, 0.8918918918918919)\n",
      "(d, train_metric, valid_metric) = (355, 0.8788732394366197, 0.8783783783783784)\n",
      "(d, train_metric, valid_metric) = (360, 0.8833333333333333, 0.8851351351351351)\n",
      "(d, train_metric, valid_metric) = (365, 0.8849315068493151, 0.8648648648648649)\n",
      "(d, train_metric, valid_metric) = (370, 0.8864864864864865, 0.8648648648648649)\n",
      "(d, train_metric, valid_metric) = (375, 0.888, 0.8851351351351351)\n",
      "(d, train_metric, valid_metric) = (380, 0.8921052631578947, 0.8716216216216216)\n",
      "(d, train_metric, valid_metric) = (385, 0.8883116883116883, 0.8648648648648649)\n",
      "(d, train_metric, valid_metric) = (390, 0.8974358974358975, 0.8716216216216216)\n"
     ]
    },
    {
     "name": "stderr",
     "output_type": "stream",
     "text": [
      "┌ Warning: The scitype of `X`, in `machine(model, X, ...)` is incompatible with `model=\u001b[34mSVMClassifier @974\u001b[39m`:\n",
      "│ scitype(X) = Table{Union{AbstractArray{Continuous,1}, AbstractArray{Count,1}}}\n",
      "│ input_scitype(model) = Table{var\"#s44\"} where var\"#s44\"<:(AbstractArray{var\"#s13\",1} where var\"#s13\"<:Continuous).\n",
      "└ @ MLJBase /home/andrew/.julia/packages/MLJBase/uKzAz/src/machines.jl:77\n",
      "┌ Warning: The scitype of `X`, in `machine(model, X, ...)` is incompatible with `model=\u001b[34mSVMClassifier @974\u001b[39m`:\n",
      "│ scitype(X) = Table{Union{AbstractArray{Continuous,1}, AbstractArray{Count,1}}}\n",
      "│ input_scitype(model) = Table{var\"#s44\"} where var\"#s44\"<:(AbstractArray{var\"#s13\",1} where var\"#s13\"<:Continuous).\n",
      "└ @ MLJBase /home/andrew/.julia/packages/MLJBase/uKzAz/src/machines.jl:77\n",
      "┌ Warning: The scitype of `X`, in `machine(model, X, ...)` is incompatible with `model=\u001b[34mSVMClassifier @974\u001b[39m`:\n",
      "│ scitype(X) = Table{Union{AbstractArray{Continuous,1}, AbstractArray{Count,1}}}\n",
      "│ input_scitype(model) = Table{var\"#s44\"} where var\"#s44\"<:(AbstractArray{var\"#s13\",1} where var\"#s13\"<:Continuous).\n",
      "└ @ MLJBase /home/andrew/.julia/packages/MLJBase/uKzAz/src/machines.jl:77\n",
      "┌ Warning: The scitype of `X`, in `machine(model, X, ...)` is incompatible with `model=\u001b[34mSVMClassifier @974\u001b[39m`:\n",
      "│ scitype(X) = Table{Union{AbstractArray{Continuous,1}, AbstractArray{Count,1}}}\n",
      "│ input_scitype(model) = Table{var\"#s44\"} where var\"#s44\"<:(AbstractArray{var\"#s13\",1} where var\"#s13\"<:Continuous).\n",
      "└ @ MLJBase /home/andrew/.julia/packages/MLJBase/uKzAz/src/machines.jl:77\n",
      "┌ Warning: The scitype of `X`, in `machine(model, X, ...)` is incompatible with `model=\u001b[34mSVMClassifier @974\u001b[39m`:\n",
      "│ scitype(X) = Table{Union{AbstractArray{Continuous,1}, AbstractArray{Count,1}}}\n",
      "│ input_scitype(model) = Table{var\"#s44\"} where var\"#s44\"<:(AbstractArray{var\"#s13\",1} where var\"#s13\"<:Continuous).\n",
      "└ @ MLJBase /home/andrew/.julia/packages/MLJBase/uKzAz/src/machines.jl:77\n",
      "┌ Warning: The scitype of `X`, in `machine(model, X, ...)` is incompatible with `model=\u001b[34mSVMClassifier @974\u001b[39m`:\n",
      "│ scitype(X) = Table{Union{AbstractArray{Continuous,1}, AbstractArray{Count,1}}}\n",
      "│ input_scitype(model) = Table{var\"#s44\"} where var\"#s44\"<:(AbstractArray{var\"#s13\",1} where var\"#s13\"<:Continuous).\n",
      "└ @ MLJBase /home/andrew/.julia/packages/MLJBase/uKzAz/src/machines.jl:77\n",
      "┌ Warning: The scitype of `X`, in `machine(model, X, ...)` is incompatible with `model=\u001b[34mSVMClassifier @974\u001b[39m`:\n",
      "│ scitype(X) = Table{Union{AbstractArray{Continuous,1}, AbstractArray{Count,1}}}\n",
      "│ input_scitype(model) = Table{var\"#s44\"} where var\"#s44\"<:(AbstractArray{var\"#s13\",1} where var\"#s13\"<:Continuous).\n",
      "└ @ MLJBase /home/andrew/.julia/packages/MLJBase/uKzAz/src/machines.jl:77\n",
      "┌ Warning: The scitype of `X`, in `machine(model, X, ...)` is incompatible with `model=\u001b[34mSVMClassifier @974\u001b[39m`:\n",
      "│ scitype(X) = Table{Union{AbstractArray{Continuous,1}, AbstractArray{Count,1}}}\n",
      "│ input_scitype(model) = Table{var\"#s44\"} where var\"#s44\"<:(AbstractArray{var\"#s13\",1} where var\"#s13\"<:Continuous).\n",
      "└ @ MLJBase /home/andrew/.julia/packages/MLJBase/uKzAz/src/machines.jl:77\n",
      "┌ Warning: The scitype of `X`, in `machine(model, X, ...)` is incompatible with `model=\u001b[34mSVMClassifier @974\u001b[39m`:\n",
      "│ scitype(X) = Table{Union{AbstractArray{Continuous,1}, AbstractArray{Count,1}}}\n",
      "│ input_scitype(model) = Table{var\"#s44\"} where var\"#s44\"<:(AbstractArray{var\"#s13\",1} where var\"#s13\"<:Continuous).\n",
      "└ @ MLJBase /home/andrew/.julia/packages/MLJBase/uKzAz/src/machines.jl:77\n"
     ]
    },
    {
     "name": "stdout",
     "output_type": "stream",
     "text": [
      "(d, train_metric, valid_metric) = (395, 0.8936708860759494, 0.8851351351351351)\n",
      "(d, train_metric, valid_metric) = (400, 0.895, 0.8581081081081081)\n",
      "(d, train_metric, valid_metric) = (405, 0.8962962962962963, 0.8581081081081081)\n",
      "(d, train_metric, valid_metric) = (410, 0.8951219512195122, 0.8783783783783784)\n",
      "(d, train_metric, valid_metric) = (415, 0.891566265060241, 0.8648648648648649)\n",
      "(d, train_metric, valid_metric) = (420, 0.8976190476190476, 0.8581081081081081)\n",
      "(d, train_metric, valid_metric) = (425, 0.8870588235294118, 0.8648648648648649)\n",
      "(d, train_metric, valid_metric) = (430, 0.8837209302325582, 0.8581081081081081)\n",
      "(d, train_metric, valid_metric) = (435, 0.8804597701149426, 0.8716216216216216)\n"
     ]
    },
    {
     "name": "stderr",
     "output_type": "stream",
     "text": [
      "┌ Warning: The scitype of `X`, in `machine(model, X, ...)` is incompatible with `model=\u001b[34mSVMClassifier @974\u001b[39m`:\n",
      "│ scitype(X) = Table{Union{AbstractArray{Continuous,1}, AbstractArray{Count,1}}}\n",
      "│ input_scitype(model) = Table{var\"#s44\"} where var\"#s44\"<:(AbstractArray{var\"#s13\",1} where var\"#s13\"<:Continuous).\n",
      "└ @ MLJBase /home/andrew/.julia/packages/MLJBase/uKzAz/src/machines.jl:77\n",
      "┌ Warning: The scitype of `X`, in `machine(model, X, ...)` is incompatible with `model=\u001b[34mSVMClassifier @974\u001b[39m`:\n",
      "│ scitype(X) = Table{Union{AbstractArray{Continuous,1}, AbstractArray{Count,1}}}\n",
      "│ input_scitype(model) = Table{var\"#s44\"} where var\"#s44\"<:(AbstractArray{var\"#s13\",1} where var\"#s13\"<:Continuous).\n",
      "└ @ MLJBase /home/andrew/.julia/packages/MLJBase/uKzAz/src/machines.jl:77\n",
      "┌ Warning: The scitype of `X`, in `machine(model, X, ...)` is incompatible with `model=\u001b[34mSVMClassifier @974\u001b[39m`:\n",
      "│ scitype(X) = Table{Union{AbstractArray{Continuous,1}, AbstractArray{Count,1}}}\n",
      "│ input_scitype(model) = Table{var\"#s44\"} where var\"#s44\"<:(AbstractArray{var\"#s13\",1} where var\"#s13\"<:Continuous).\n",
      "└ @ MLJBase /home/andrew/.julia/packages/MLJBase/uKzAz/src/machines.jl:77\n",
      "┌ Warning: The scitype of `X`, in `machine(model, X, ...)` is incompatible with `model=\u001b[34mSVMClassifier @974\u001b[39m`:\n",
      "│ scitype(X) = Table{Union{AbstractArray{Continuous,1}, AbstractArray{Count,1}}}\n",
      "│ input_scitype(model) = Table{var\"#s44\"} where var\"#s44\"<:(AbstractArray{var\"#s13\",1} where var\"#s13\"<:Continuous).\n",
      "└ @ MLJBase /home/andrew/.julia/packages/MLJBase/uKzAz/src/machines.jl:77\n",
      "┌ Warning: The scitype of `X`, in `machine(model, X, ...)` is incompatible with `model=\u001b[34mSVMClassifier @974\u001b[39m`:\n",
      "│ scitype(X) = Table{Union{AbstractArray{Continuous,1}, AbstractArray{Count,1}}}\n",
      "│ input_scitype(model) = Table{var\"#s44\"} where var\"#s44\"<:(AbstractArray{var\"#s13\",1} where var\"#s13\"<:Continuous).\n",
      "└ @ MLJBase /home/andrew/.julia/packages/MLJBase/uKzAz/src/machines.jl:77\n",
      "┌ Warning: The scitype of `X`, in `machine(model, X, ...)` is incompatible with `model=\u001b[34mSVMClassifier @974\u001b[39m`:\n",
      "│ scitype(X) = Table{Union{AbstractArray{Continuous,1}, AbstractArray{Count,1}}}\n",
      "│ input_scitype(model) = Table{var\"#s44\"} where var\"#s44\"<:(AbstractArray{var\"#s13\",1} where var\"#s13\"<:Continuous).\n",
      "└ @ MLJBase /home/andrew/.julia/packages/MLJBase/uKzAz/src/machines.jl:77\n",
      "┌ Warning: The scitype of `X`, in `machine(model, X, ...)` is incompatible with `model=\u001b[34mSVMClassifier @974\u001b[39m`:\n",
      "│ scitype(X) = Table{Union{AbstractArray{Continuous,1}, AbstractArray{Count,1}}}\n",
      "│ input_scitype(model) = Table{var\"#s44\"} where var\"#s44\"<:(AbstractArray{var\"#s13\",1} where var\"#s13\"<:Continuous).\n",
      "└ @ MLJBase /home/andrew/.julia/packages/MLJBase/uKzAz/src/machines.jl:77\n",
      "┌ Warning: The scitype of `X`, in `machine(model, X, ...)` is incompatible with `model=\u001b[34mSVMClassifier @974\u001b[39m`:\n",
      "│ scitype(X) = Table{Union{AbstractArray{Continuous,1}, AbstractArray{Count,1}}}\n",
      "│ input_scitype(model) = Table{var\"#s44\"} where var\"#s44\"<:(AbstractArray{var\"#s13\",1} where var\"#s13\"<:Continuous).\n",
      "└ @ MLJBase /home/andrew/.julia/packages/MLJBase/uKzAz/src/machines.jl:77\n"
     ]
    },
    {
     "name": "stdout",
     "output_type": "stream",
     "text": [
      "(d, train_metric, valid_metric) = (440, 0.8863636363636364, 0.8648648648648649)\n",
      "(d, train_metric, valid_metric) = (445, 0.8876404494382022, 0.8648648648648649)\n",
      "(d, train_metric, valid_metric) = (450, 0.8888888888888888, 0.8581081081081081)\n",
      "(d, train_metric, valid_metric) = (455, 0.8879120879120879, 0.8716216216216216)\n",
      "(d, train_metric, valid_metric) = (460, 0.8782608695652174, 0.8648648648648649)\n",
      "(d, train_metric, valid_metric) = (465, 0.886021505376344, 0.8716216216216216)\n",
      "(d, train_metric, valid_metric) = (470, 0.8829787234042553, 0.8783783783783784)\n"
     ]
    },
    {
     "name": "stderr",
     "output_type": "stream",
     "text": [
      "┌ Warning: The scitype of `X`, in `machine(model, X, ...)` is incompatible with `model=\u001b[34mSVMClassifier @974\u001b[39m`:\n",
      "│ scitype(X) = Table{Union{AbstractArray{Continuous,1}, AbstractArray{Count,1}}}\n",
      "│ input_scitype(model) = Table{var\"#s44\"} where var\"#s44\"<:(AbstractArray{var\"#s13\",1} where var\"#s13\"<:Continuous).\n",
      "└ @ MLJBase /home/andrew/.julia/packages/MLJBase/uKzAz/src/machines.jl:77\n",
      "┌ Warning: The scitype of `X`, in `machine(model, X, ...)` is incompatible with `model=\u001b[34mSVMClassifier @974\u001b[39m`:\n",
      "│ scitype(X) = Table{Union{AbstractArray{Continuous,1}, AbstractArray{Count,1}}}\n",
      "│ input_scitype(model) = Table{var\"#s44\"} where var\"#s44\"<:(AbstractArray{var\"#s13\",1} where var\"#s13\"<:Continuous).\n",
      "└ @ MLJBase /home/andrew/.julia/packages/MLJBase/uKzAz/src/machines.jl:77\n",
      "┌ Warning: The scitype of `X`, in `machine(model, X, ...)` is incompatible with `model=\u001b[34mSVMClassifier @974\u001b[39m`:\n",
      "│ scitype(X) = Table{Union{AbstractArray{Continuous,1}, AbstractArray{Count,1}}}\n",
      "│ input_scitype(model) = Table{var\"#s44\"} where var\"#s44\"<:(AbstractArray{var\"#s13\",1} where var\"#s13\"<:Continuous).\n",
      "└ @ MLJBase /home/andrew/.julia/packages/MLJBase/uKzAz/src/machines.jl:77\n",
      "┌ Warning: The scitype of `X`, in `machine(model, X, ...)` is incompatible with `model=\u001b[34mSVMClassifier @974\u001b[39m`:\n",
      "│ scitype(X) = Table{Union{AbstractArray{Continuous,1}, AbstractArray{Count,1}}}\n",
      "│ input_scitype(model) = Table{var\"#s44\"} where var\"#s44\"<:(AbstractArray{var\"#s13\",1} where var\"#s13\"<:Continuous).\n",
      "└ @ MLJBase /home/andrew/.julia/packages/MLJBase/uKzAz/src/machines.jl:77\n",
      "┌ Warning: The scitype of `X`, in `machine(model, X, ...)` is incompatible with `model=\u001b[34mSVMClassifier @974\u001b[39m`:\n",
      "│ scitype(X) = Table{Union{AbstractArray{Continuous,1}, AbstractArray{Count,1}}}\n",
      "│ input_scitype(model) = Table{var\"#s44\"} where var\"#s44\"<:(AbstractArray{var\"#s13\",1} where var\"#s13\"<:Continuous).\n",
      "└ @ MLJBase /home/andrew/.julia/packages/MLJBase/uKzAz/src/machines.jl:77\n",
      "┌ Warning: The scitype of `X`, in `machine(model, X, ...)` is incompatible with `model=\u001b[34mSVMClassifier @974\u001b[39m`:\n",
      "│ scitype(X) = Table{Union{AbstractArray{Continuous,1}, AbstractArray{Count,1}}}\n",
      "│ input_scitype(model) = Table{var\"#s44\"} where var\"#s44\"<:(AbstractArray{var\"#s13\",1} where var\"#s13\"<:Continuous).\n",
      "└ @ MLJBase /home/andrew/.julia/packages/MLJBase/uKzAz/src/machines.jl:77\n",
      "┌ Warning: The scitype of `X`, in `machine(model, X, ...)` is incompatible with `model=\u001b[34mSVMClassifier @974\u001b[39m`:\n",
      "│ scitype(X) = Table{Union{AbstractArray{Continuous,1}, AbstractArray{Count,1}}}\n",
      "│ input_scitype(model) = Table{var\"#s44\"} where var\"#s44\"<:(AbstractArray{var\"#s13\",1} where var\"#s13\"<:Continuous).\n",
      "└ @ MLJBase /home/andrew/.julia/packages/MLJBase/uKzAz/src/machines.jl:77\n",
      "┌ Warning: The scitype of `X`, in `machine(model, X, ...)` is incompatible with `model=\u001b[34mSVMClassifier @974\u001b[39m`:\n",
      "│ scitype(X) = Table{Union{AbstractArray{Continuous,1}, AbstractArray{Count,1}}}\n",
      "│ input_scitype(model) = Table{var\"#s44\"} where var\"#s44\"<:(AbstractArray{var\"#s13\",1} where var\"#s13\"<:Continuous).\n",
      "└ @ MLJBase /home/andrew/.julia/packages/MLJBase/uKzAz/src/machines.jl:77\n"
     ]
    },
    {
     "name": "stdout",
     "output_type": "stream",
     "text": [
      "(d, train_metric, valid_metric) = (475, 0.8863157894736842, 0.8783783783783784)\n",
      "(d, train_metric, valid_metric) = (480, 0.8895833333333334, 0.8783783783783784)\n",
      "(d, train_metric, valid_metric) = (485, 0.8865979381443299, 0.8783783783783784)\n",
      "(d, train_metric, valid_metric) = (490, 0.8816326530612245, 0.8716216216216216)\n",
      "(d, train_metric, valid_metric) = (495, 0.8848484848484849, 0.8716216216216216)\n",
      "(d, train_metric, valid_metric) = (500, 0.88, 0.8716216216216216)\n",
      "(d, train_metric, valid_metric) = (505, 0.8831683168316832, 0.8716216216216216)\n"
     ]
    },
    {
     "name": "stderr",
     "output_type": "stream",
     "text": [
      "┌ Warning: The scitype of `X`, in `machine(model, X, ...)` is incompatible with `model=\u001b[34mSVMClassifier @974\u001b[39m`:\n",
      "│ scitype(X) = Table{Union{AbstractArray{Continuous,1}, AbstractArray{Count,1}}}\n",
      "│ input_scitype(model) = Table{var\"#s44\"} where var\"#s44\"<:(AbstractArray{var\"#s13\",1} where var\"#s13\"<:Continuous).\n",
      "└ @ MLJBase /home/andrew/.julia/packages/MLJBase/uKzAz/src/machines.jl:77\n",
      "┌ Warning: The scitype of `X`, in `machine(model, X, ...)` is incompatible with `model=\u001b[34mSVMClassifier @974\u001b[39m`:\n",
      "│ scitype(X) = Table{Union{AbstractArray{Continuous,1}, AbstractArray{Count,1}}}\n",
      "│ input_scitype(model) = Table{var\"#s44\"} where var\"#s44\"<:(AbstractArray{var\"#s13\",1} where var\"#s13\"<:Continuous).\n",
      "└ @ MLJBase /home/andrew/.julia/packages/MLJBase/uKzAz/src/machines.jl:77\n",
      "┌ Warning: The scitype of `X`, in `machine(model, X, ...)` is incompatible with `model=\u001b[34mSVMClassifier @974\u001b[39m`:\n",
      "│ scitype(X) = Table{Union{AbstractArray{Continuous,1}, AbstractArray{Count,1}}}\n",
      "│ input_scitype(model) = Table{var\"#s44\"} where var\"#s44\"<:(AbstractArray{var\"#s13\",1} where var\"#s13\"<:Continuous).\n",
      "└ @ MLJBase /home/andrew/.julia/packages/MLJBase/uKzAz/src/machines.jl:77\n",
      "┌ Warning: The scitype of `X`, in `machine(model, X, ...)` is incompatible with `model=\u001b[34mSVMClassifier @974\u001b[39m`:\n",
      "│ scitype(X) = Table{Union{AbstractArray{Continuous,1}, AbstractArray{Count,1}}}\n",
      "│ input_scitype(model) = Table{var\"#s44\"} where var\"#s44\"<:(AbstractArray{var\"#s13\",1} where var\"#s13\"<:Continuous).\n",
      "└ @ MLJBase /home/andrew/.julia/packages/MLJBase/uKzAz/src/machines.jl:77\n",
      "┌ Warning: The scitype of `X`, in `machine(model, X, ...)` is incompatible with `model=\u001b[34mSVMClassifier @974\u001b[39m`:\n",
      "│ scitype(X) = Table{Union{AbstractArray{Continuous,1}, AbstractArray{Count,1}}}\n",
      "│ input_scitype(model) = Table{var\"#s44\"} where var\"#s44\"<:(AbstractArray{var\"#s13\",1} where var\"#s13\"<:Continuous).\n",
      "└ @ MLJBase /home/andrew/.julia/packages/MLJBase/uKzAz/src/machines.jl:77\n",
      "┌ Warning: The scitype of `X`, in `machine(model, X, ...)` is incompatible with `model=\u001b[34mSVMClassifier @974\u001b[39m`:\n",
      "│ scitype(X) = Table{Union{AbstractArray{Continuous,1}, AbstractArray{Count,1}}}\n",
      "│ input_scitype(model) = Table{var\"#s44\"} where var\"#s44\"<:(AbstractArray{var\"#s13\",1} where var\"#s13\"<:Continuous).\n",
      "└ @ MLJBase /home/andrew/.julia/packages/MLJBase/uKzAz/src/machines.jl:77\n",
      "┌ Warning: The scitype of `X`, in `machine(model, X, ...)` is incompatible with `model=\u001b[34mSVMClassifier @974\u001b[39m`:\n",
      "│ scitype(X) = Table{Union{AbstractArray{Continuous,1}, AbstractArray{Count,1}}}\n",
      "│ input_scitype(model) = Table{var\"#s44\"} where var\"#s44\"<:(AbstractArray{var\"#s13\",1} where var\"#s13\"<:Continuous).\n",
      "└ @ MLJBase /home/andrew/.julia/packages/MLJBase/uKzAz/src/machines.jl:77\n"
     ]
    },
    {
     "name": "stdout",
     "output_type": "stream",
     "text": [
      "(d, train_metric, valid_metric) = (510, 0.888235294117647, 0.8648648648648649)\n",
      "(d, train_metric, valid_metric) = (515, 0.883495145631068, 0.8716216216216216)\n",
      "(d, train_metric, valid_metric) = (520, 0.8711538461538462, 0.8716216216216216)\n",
      "(d, train_metric, valid_metric) = (525, 0.8742857142857143, 0.8648648648648649)\n",
      "(d, train_metric, valid_metric) = (530, 0.8754716981132076, 0.8648648648648649)\n",
      "(d, train_metric, valid_metric) = (535, 0.8785046728971962, 0.8648648648648649)\n"
     ]
    },
    {
     "name": "stderr",
     "output_type": "stream",
     "text": [
      "┌ Warning: The scitype of `X`, in `machine(model, X, ...)` is incompatible with `model=\u001b[34mSVMClassifier @974\u001b[39m`:\n",
      "│ scitype(X) = Table{Union{AbstractArray{Continuous,1}, AbstractArray{Count,1}}}\n",
      "│ input_scitype(model) = Table{var\"#s44\"} where var\"#s44\"<:(AbstractArray{var\"#s13\",1} where var\"#s13\"<:Continuous).\n",
      "└ @ MLJBase /home/andrew/.julia/packages/MLJBase/uKzAz/src/machines.jl:77\n",
      "┌ Warning: The scitype of `X`, in `machine(model, X, ...)` is incompatible with `model=\u001b[34mSVMClassifier @974\u001b[39m`:\n",
      "│ scitype(X) = Table{Union{AbstractArray{Continuous,1}, AbstractArray{Count,1}}}\n",
      "│ input_scitype(model) = Table{var\"#s44\"} where var\"#s44\"<:(AbstractArray{var\"#s13\",1} where var\"#s13\"<:Continuous).\n",
      "└ @ MLJBase /home/andrew/.julia/packages/MLJBase/uKzAz/src/machines.jl:77\n",
      "┌ Warning: The scitype of `X`, in `machine(model, X, ...)` is incompatible with `model=\u001b[34mSVMClassifier @974\u001b[39m`:\n",
      "│ scitype(X) = Table{Union{AbstractArray{Continuous,1}, AbstractArray{Count,1}}}\n",
      "│ input_scitype(model) = Table{var\"#s44\"} where var\"#s44\"<:(AbstractArray{var\"#s13\",1} where var\"#s13\"<:Continuous).\n",
      "└ @ MLJBase /home/andrew/.julia/packages/MLJBase/uKzAz/src/machines.jl:77\n",
      "┌ Warning: The scitype of `X`, in `machine(model, X, ...)` is incompatible with `model=\u001b[34mSVMClassifier @974\u001b[39m`:\n",
      "│ scitype(X) = Table{Union{AbstractArray{Continuous,1}, AbstractArray{Count,1}}}\n",
      "│ input_scitype(model) = Table{var\"#s44\"} where var\"#s44\"<:(AbstractArray{var\"#s13\",1} where var\"#s13\"<:Continuous).\n",
      "└ @ MLJBase /home/andrew/.julia/packages/MLJBase/uKzAz/src/machines.jl:77\n",
      "┌ Warning: The scitype of `X`, in `machine(model, X, ...)` is incompatible with `model=\u001b[34mSVMClassifier @974\u001b[39m`:\n",
      "│ scitype(X) = Table{Union{AbstractArray{Continuous,1}, AbstractArray{Count,1}}}\n",
      "│ input_scitype(model) = Table{var\"#s44\"} where var\"#s44\"<:(AbstractArray{var\"#s13\",1} where var\"#s13\"<:Continuous).\n",
      "└ @ MLJBase /home/andrew/.julia/packages/MLJBase/uKzAz/src/machines.jl:77\n",
      "┌ Warning: The scitype of `X`, in `machine(model, X, ...)` is incompatible with `model=\u001b[34mSVMClassifier @974\u001b[39m`:\n",
      "│ scitype(X) = Table{Union{AbstractArray{Continuous,1}, AbstractArray{Count,1}}}\n",
      "│ input_scitype(model) = Table{var\"#s44\"} where var\"#s44\"<:(AbstractArray{var\"#s13\",1} where var\"#s13\"<:Continuous).\n",
      "└ @ MLJBase /home/andrew/.julia/packages/MLJBase/uKzAz/src/machines.jl:77\n"
     ]
    },
    {
     "name": "stdout",
     "output_type": "stream",
     "text": [
      "(d, train_metric, valid_metric) = (540, 0.8796296296296297, 0.8783783783783784)\n",
      "(d, train_metric, valid_metric) = (545, 0.8807339449541285, 0.8783783783783784)\n",
      "(d, train_metric, valid_metric) = (550, 0.8818181818181818, 0.8783783783783784)\n",
      "(d, train_metric, valid_metric) = (555, 0.8828828828828829, 0.8783783783783784)\n",
      "(d, train_metric, valid_metric) = (560, 0.8767857142857143, 0.8783783783783784)\n",
      "(d, train_metric, valid_metric) = (565, 0.879646017699115, 0.8783783783783784)\n"
     ]
    },
    {
     "name": "stderr",
     "output_type": "stream",
     "text": [
      "┌ Warning: The scitype of `X`, in `machine(model, X, ...)` is incompatible with `model=\u001b[34mSVMClassifier @974\u001b[39m`:\n",
      "│ scitype(X) = Table{Union{AbstractArray{Continuous,1}, AbstractArray{Count,1}}}\n",
      "│ input_scitype(model) = Table{var\"#s44\"} where var\"#s44\"<:(AbstractArray{var\"#s13\",1} where var\"#s13\"<:Continuous).\n",
      "└ @ MLJBase /home/andrew/.julia/packages/MLJBase/uKzAz/src/machines.jl:77\n",
      "┌ Warning: The scitype of `X`, in `machine(model, X, ...)` is incompatible with `model=\u001b[34mSVMClassifier @974\u001b[39m`:\n",
      "│ scitype(X) = Table{Union{AbstractArray{Continuous,1}, AbstractArray{Count,1}}}\n",
      "│ input_scitype(model) = Table{var\"#s44\"} where var\"#s44\"<:(AbstractArray{var\"#s13\",1} where var\"#s13\"<:Continuous).\n",
      "└ @ MLJBase /home/andrew/.julia/packages/MLJBase/uKzAz/src/machines.jl:77\n",
      "┌ Warning: The scitype of `X`, in `machine(model, X, ...)` is incompatible with `model=\u001b[34mSVMClassifier @974\u001b[39m`:\n",
      "│ scitype(X) = Table{Union{AbstractArray{Continuous,1}, AbstractArray{Count,1}}}\n",
      "│ input_scitype(model) = Table{var\"#s44\"} where var\"#s44\"<:(AbstractArray{var\"#s13\",1} where var\"#s13\"<:Continuous).\n",
      "└ @ MLJBase /home/andrew/.julia/packages/MLJBase/uKzAz/src/machines.jl:77\n",
      "┌ Warning: The scitype of `X`, in `machine(model, X, ...)` is incompatible with `model=\u001b[34mSVMClassifier @974\u001b[39m`:\n",
      "│ scitype(X) = Table{Union{AbstractArray{Continuous,1}, AbstractArray{Count,1}}}\n",
      "│ input_scitype(model) = Table{var\"#s44\"} where var\"#s44\"<:(AbstractArray{var\"#s13\",1} where var\"#s13\"<:Continuous).\n",
      "└ @ MLJBase /home/andrew/.julia/packages/MLJBase/uKzAz/src/machines.jl:77\n",
      "┌ Warning: The scitype of `X`, in `machine(model, X, ...)` is incompatible with `model=\u001b[34mSVMClassifier @974\u001b[39m`:\n",
      "│ scitype(X) = Table{Union{AbstractArray{Continuous,1}, AbstractArray{Count,1}}}\n",
      "│ input_scitype(model) = Table{var\"#s44\"} where var\"#s44\"<:(AbstractArray{var\"#s13\",1} where var\"#s13\"<:Continuous).\n",
      "└ @ MLJBase /home/andrew/.julia/packages/MLJBase/uKzAz/src/machines.jl:77\n",
      "┌ Warning: The scitype of `X`, in `machine(model, X, ...)` is incompatible with `model=\u001b[34mSVMClassifier @974\u001b[39m`:\n",
      "│ scitype(X) = Table{Union{AbstractArray{Continuous,1}, AbstractArray{Count,1}}}\n",
      "│ input_scitype(model) = Table{var\"#s44\"} where var\"#s44\"<:(AbstractArray{var\"#s13\",1} where var\"#s13\"<:Continuous).\n",
      "└ @ MLJBase /home/andrew/.julia/packages/MLJBase/uKzAz/src/machines.jl:77\n"
     ]
    },
    {
     "name": "stdout",
     "output_type": "stream",
     "text": [
      "(d, train_metric, valid_metric) = (570, 0.8894736842105263, 0.8851351351351351)\n",
      "(d, train_metric, valid_metric) = (575, 0.8852173913043478, 0.8783783783783784)\n",
      "(d, train_metric, valid_metric) = (580, 0.8896551724137931, 0.8783783783783784)\n",
      "(d, train_metric, valid_metric) = (585, 0.8888888888888888, 0.8716216216216216)\n"
     ]
    },
    {
     "name": "stderr",
     "output_type": "stream",
     "text": [
      "┌ Warning: The scitype of `X`, in `machine(model, X, ...)` is incompatible with `model=\u001b[34mSVMClassifier @974\u001b[39m`:\n",
      "│ scitype(X) = Table{Union{AbstractArray{Continuous,1}, AbstractArray{Count,1}}}\n",
      "│ input_scitype(model) = Table{var\"#s44\"} where var\"#s44\"<:(AbstractArray{var\"#s13\",1} where var\"#s13\"<:Continuous).\n",
      "└ @ MLJBase /home/andrew/.julia/packages/MLJBase/uKzAz/src/machines.jl:77\n",
      "┌ Warning: The scitype of `X`, in `machine(model, X, ...)` is incompatible with `model=\u001b[34mSVMClassifier @974\u001b[39m`:\n",
      "│ scitype(X) = Table{Union{AbstractArray{Continuous,1}, AbstractArray{Count,1}}}\n",
      "│ input_scitype(model) = Table{var\"#s44\"} where var\"#s44\"<:(AbstractArray{var\"#s13\",1} where var\"#s13\"<:Continuous).\n",
      "└ @ MLJBase /home/andrew/.julia/packages/MLJBase/uKzAz/src/machines.jl:77\n",
      "┌ Warning: The scitype of `X`, in `machine(model, X, ...)` is incompatible with `model=\u001b[34mSVMClassifier @974\u001b[39m`:\n",
      "│ scitype(X) = Table{Union{AbstractArray{Continuous,1}, AbstractArray{Count,1}}}\n",
      "│ input_scitype(model) = Table{var\"#s44\"} where var\"#s44\"<:(AbstractArray{var\"#s13\",1} where var\"#s13\"<:Continuous).\n",
      "└ @ MLJBase /home/andrew/.julia/packages/MLJBase/uKzAz/src/machines.jl:77\n",
      "┌ Warning: The scitype of `X`, in `machine(model, X, ...)` is incompatible with `model=\u001b[34mSVMClassifier @974\u001b[39m`:\n",
      "│ scitype(X) = Table{Union{AbstractArray{Continuous,1}, AbstractArray{Count,1}}}\n",
      "│ input_scitype(model) = Table{var\"#s44\"} where var\"#s44\"<:(AbstractArray{var\"#s13\",1} where var\"#s13\"<:Continuous).\n",
      "└ @ MLJBase /home/andrew/.julia/packages/MLJBase/uKzAz/src/machines.jl:77\n"
     ]
    },
    {
     "name": "stdout",
     "output_type": "stream",
     "text": [
      "(d, train_metric, valid_metric) = (590, 0.8864406779661017, 0.8716216216216216)\n"
     ]
    },
    {
     "data": {
      "text/plain": [
       "(10:5:590, Any[1.0, 1.0, 0.95, 1.0, 1.0, 1.0, 1.0, 1.0, 1.0, 1.0  …  0.8807339449541285, 0.8818181818181818, 0.8828828828828829, 0.8767857142857143, 0.879646017699115, 0.8894736842105263, 0.8852173913043478, 0.8896551724137931, 0.8888888888888888, 0.8864406779661017], Any[0.6891891891891893, 0.75, 0.75, 0.7635135135135135, 0.7905405405405406, 0.7905405405405406, 0.7837837837837838, 0.7837837837837838, 0.7702702702702703, 0.7635135135135135  …  0.8783783783783784, 0.8783783783783784, 0.8783783783783784, 0.8783783783783784, 0.8783783783783784, 0.8851351351351351, 0.8783783783783784, 0.8783783783783784, 0.8716216216216216, 0.8716216216216216])"
      ]
     },
     "execution_count": 36,
     "metadata": {},
     "output_type": "execute_result"
    }
   ],
   "source": [
    "data_schedule, training_losses, valid_losses = learn_curve(best_rbf_model, X_stand[train,:], y[train])"
   ]
  },
  {
   "cell_type": "code",
   "execution_count": 37,
   "metadata": {
    "scrolled": false
   },
   "outputs": [
    {
     "data": {
      "image/svg+xml": [
       "<?xml version=\"1.0\" encoding=\"utf-8\"?>\n",
       "<svg xmlns=\"http://www.w3.org/2000/svg\" xmlns:xlink=\"http://www.w3.org/1999/xlink\" width=\"600\" height=\"400\" viewBox=\"0 0 2400 1600\">\n",
       "<defs>\n",
       "  <clipPath id=\"clip930\">\n",
       "    <rect x=\"0\" y=\"0\" width=\"2400\" height=\"1600\"/>\n",
       "  </clipPath>\n",
       "</defs>\n",
       "<path clip-path=\"url(#clip930)\" d=\"\n",
       "M0 1600 L2400 1600 L2400 0 L0 0  Z\n",
       "  \" fill=\"#ffffff\" fill-rule=\"evenodd\" fill-opacity=\"1\"/>\n",
       "<defs>\n",
       "  <clipPath id=\"clip931\">\n",
       "    <rect x=\"480\" y=\"0\" width=\"1681\" height=\"1600\"/>\n",
       "  </clipPath>\n",
       "</defs>\n",
       "<path clip-path=\"url(#clip930)\" d=\"\n",
       "M147.756 1486.45 L2352.76 1486.45 L2352.76 47.2441 L147.756 47.2441  Z\n",
       "  \" fill=\"#ffffff\" fill-rule=\"evenodd\" fill-opacity=\"1\"/>\n",
       "<defs>\n",
       "  <clipPath id=\"clip932\">\n",
       "    <rect x=\"147\" y=\"47\" width=\"2206\" height=\"1440\"/>\n",
       "  </clipPath>\n",
       "</defs>\n",
       "<polyline clip-path=\"url(#clip932)\" style=\"stroke:#000000; stroke-width:2; stroke-opacity:0.1; fill:none\" points=\"\n",
       "  174.296,1486.45 174.296,47.2441 \n",
       "  \"/>\n",
       "<polyline clip-path=\"url(#clip932)\" style=\"stroke:#000000; stroke-width:2; stroke-opacity:0.1; fill:none\" points=\"\n",
       "  532.949,1486.45 532.949,47.2441 \n",
       "  \"/>\n",
       "<polyline clip-path=\"url(#clip932)\" style=\"stroke:#000000; stroke-width:2; stroke-opacity:0.1; fill:none\" points=\"\n",
       "  891.603,1486.45 891.603,47.2441 \n",
       "  \"/>\n",
       "<polyline clip-path=\"url(#clip932)\" style=\"stroke:#000000; stroke-width:2; stroke-opacity:0.1; fill:none\" points=\"\n",
       "  1250.26,1486.45 1250.26,47.2441 \n",
       "  \"/>\n",
       "<polyline clip-path=\"url(#clip932)\" style=\"stroke:#000000; stroke-width:2; stroke-opacity:0.1; fill:none\" points=\"\n",
       "  1608.91,1486.45 1608.91,47.2441 \n",
       "  \"/>\n",
       "<polyline clip-path=\"url(#clip932)\" style=\"stroke:#000000; stroke-width:2; stroke-opacity:0.1; fill:none\" points=\"\n",
       "  1967.56,1486.45 1967.56,47.2441 \n",
       "  \"/>\n",
       "<polyline clip-path=\"url(#clip932)\" style=\"stroke:#000000; stroke-width:2; stroke-opacity:0.1; fill:none\" points=\"\n",
       "  2326.22,1486.45 2326.22,47.2441 \n",
       "  \"/>\n",
       "<polyline clip-path=\"url(#clip932)\" style=\"stroke:#000000; stroke-width:2; stroke-opacity:0.1; fill:none\" points=\"\n",
       "  147.756,1398.49 2352.76,1398.49 \n",
       "  \"/>\n",
       "<polyline clip-path=\"url(#clip932)\" style=\"stroke:#000000; stroke-width:2; stroke-opacity:0.1; fill:none\" points=\"\n",
       "  147.756,961.652 2352.76,961.652 \n",
       "  \"/>\n",
       "<polyline clip-path=\"url(#clip932)\" style=\"stroke:#000000; stroke-width:2; stroke-opacity:0.1; fill:none\" points=\"\n",
       "  147.756,524.814 2352.76,524.814 \n",
       "  \"/>\n",
       "<polyline clip-path=\"url(#clip932)\" style=\"stroke:#000000; stroke-width:2; stroke-opacity:0.1; fill:none\" points=\"\n",
       "  147.756,87.9763 2352.76,87.9763 \n",
       "  \"/>\n",
       "<polyline clip-path=\"url(#clip930)\" style=\"stroke:#000000; stroke-width:4; stroke-opacity:1; fill:none\" points=\"\n",
       "  147.756,1486.45 2352.76,1486.45 \n",
       "  \"/>\n",
       "<polyline clip-path=\"url(#clip930)\" style=\"stroke:#000000; stroke-width:4; stroke-opacity:1; fill:none\" points=\"\n",
       "  147.756,1486.45 147.756,47.2441 \n",
       "  \"/>\n",
       "<polyline clip-path=\"url(#clip930)\" style=\"stroke:#000000; stroke-width:4; stroke-opacity:1; fill:none\" points=\"\n",
       "  174.296,1486.45 174.296,1469.18 \n",
       "  \"/>\n",
       "<polyline clip-path=\"url(#clip930)\" style=\"stroke:#000000; stroke-width:4; stroke-opacity:1; fill:none\" points=\"\n",
       "  532.949,1486.45 532.949,1469.18 \n",
       "  \"/>\n",
       "<polyline clip-path=\"url(#clip930)\" style=\"stroke:#000000; stroke-width:4; stroke-opacity:1; fill:none\" points=\"\n",
       "  891.603,1486.45 891.603,1469.18 \n",
       "  \"/>\n",
       "<polyline clip-path=\"url(#clip930)\" style=\"stroke:#000000; stroke-width:4; stroke-opacity:1; fill:none\" points=\"\n",
       "  1250.26,1486.45 1250.26,1469.18 \n",
       "  \"/>\n",
       "<polyline clip-path=\"url(#clip930)\" style=\"stroke:#000000; stroke-width:4; stroke-opacity:1; fill:none\" points=\"\n",
       "  1608.91,1486.45 1608.91,1469.18 \n",
       "  \"/>\n",
       "<polyline clip-path=\"url(#clip930)\" style=\"stroke:#000000; stroke-width:4; stroke-opacity:1; fill:none\" points=\"\n",
       "  1967.56,1486.45 1967.56,1469.18 \n",
       "  \"/>\n",
       "<polyline clip-path=\"url(#clip930)\" style=\"stroke:#000000; stroke-width:4; stroke-opacity:1; fill:none\" points=\"\n",
       "  2326.22,1486.45 2326.22,1469.18 \n",
       "  \"/>\n",
       "<polyline clip-path=\"url(#clip930)\" style=\"stroke:#000000; stroke-width:4; stroke-opacity:1; fill:none\" points=\"\n",
       "  147.756,1398.49 174.216,1398.49 \n",
       "  \"/>\n",
       "<polyline clip-path=\"url(#clip930)\" style=\"stroke:#000000; stroke-width:4; stroke-opacity:1; fill:none\" points=\"\n",
       "  147.756,961.652 174.216,961.652 \n",
       "  \"/>\n",
       "<polyline clip-path=\"url(#clip930)\" style=\"stroke:#000000; stroke-width:4; stroke-opacity:1; fill:none\" points=\"\n",
       "  147.756,524.814 174.216,524.814 \n",
       "  \"/>\n",
       "<polyline clip-path=\"url(#clip930)\" style=\"stroke:#000000; stroke-width:4; stroke-opacity:1; fill:none\" points=\"\n",
       "  147.756,87.9763 174.216,87.9763 \n",
       "  \"/>\n",
       "<path clip-path=\"url(#clip930)\" d=\"M 0 0 M174.296 1508.44 Q170.685 1508.44 168.856 1512 Q167.051 1515.55 167.051 1522.67 Q167.051 1529.78 168.856 1533.35 Q170.685 1536.89 174.296 1536.89 Q177.93 1536.89 179.736 1533.35 Q181.565 1529.78 181.565 1522.67 Q181.565 1515.55 179.736 1512 Q177.93 1508.44 174.296 1508.44 M174.296 1504.73 Q180.106 1504.73 183.162 1509.34 Q186.24 1513.92 186.24 1522.67 Q186.24 1531.4 183.162 1536.01 Q180.106 1540.59 174.296 1540.59 Q168.486 1540.59 165.407 1536.01 Q162.352 1531.4 162.352 1522.67 Q162.352 1513.92 165.407 1509.34 Q168.486 1504.73 174.296 1504.73 Z\" fill=\"#000000\" fill-rule=\"evenodd\" fill-opacity=\"1\" /><path clip-path=\"url(#clip930)\" d=\"M 0 0 M496.318 1535.98 L503.956 1535.98 L503.956 1509.62 L495.646 1511.29 L495.646 1507.03 L503.91 1505.36 L508.586 1505.36 L508.586 1535.98 L516.225 1535.98 L516.225 1539.92 L496.318 1539.92 L496.318 1535.98 Z\" fill=\"#000000\" fill-rule=\"evenodd\" fill-opacity=\"1\" /><path clip-path=\"url(#clip930)\" d=\"M 0 0 M531.294 1508.44 Q527.683 1508.44 525.854 1512 Q524.049 1515.55 524.049 1522.67 Q524.049 1529.78 525.854 1533.35 Q527.683 1536.89 531.294 1536.89 Q534.928 1536.89 536.734 1533.35 Q538.563 1529.78 538.563 1522.67 Q538.563 1515.55 536.734 1512 Q534.928 1508.44 531.294 1508.44 M531.294 1504.73 Q537.104 1504.73 540.16 1509.34 Q543.239 1513.92 543.239 1522.67 Q543.239 1531.4 540.16 1536.01 Q537.104 1540.59 531.294 1540.59 Q525.484 1540.59 522.405 1536.01 Q519.35 1531.4 519.35 1522.67 Q519.35 1513.92 522.405 1509.34 Q525.484 1504.73 531.294 1504.73 Z\" fill=\"#000000\" fill-rule=\"evenodd\" fill-opacity=\"1\" /><path clip-path=\"url(#clip930)\" d=\"M 0 0 M558.308 1508.44 Q554.697 1508.44 552.868 1512 Q551.063 1515.55 551.063 1522.67 Q551.063 1529.78 552.868 1533.35 Q554.697 1536.89 558.308 1536.89 Q561.942 1536.89 563.748 1533.35 Q565.576 1529.78 565.576 1522.67 Q565.576 1515.55 563.748 1512 Q561.942 1508.44 558.308 1508.44 M558.308 1504.73 Q564.118 1504.73 567.174 1509.34 Q570.252 1513.92 570.252 1522.67 Q570.252 1531.4 567.174 1536.01 Q564.118 1540.59 558.308 1540.59 Q552.498 1540.59 549.419 1536.01 Q546.364 1531.4 546.364 1522.67 Q546.364 1513.92 549.419 1509.34 Q552.498 1504.73 558.308 1504.73 Z\" fill=\"#000000\" fill-rule=\"evenodd\" fill-opacity=\"1\" /><path clip-path=\"url(#clip930)\" d=\"M 0 0 M859.242 1535.98 L875.561 1535.98 L875.561 1539.92 L853.617 1539.92 L853.617 1535.98 Q856.279 1533.23 860.862 1528.6 Q865.468 1523.95 866.649 1522.61 Q868.894 1520.08 869.774 1518.35 Q870.677 1516.59 870.677 1514.9 Q870.677 1512.14 868.732 1510.41 Q866.811 1508.67 863.709 1508.67 Q861.51 1508.67 859.056 1509.43 Q856.626 1510.2 853.848 1511.75 L853.848 1507.03 Q856.672 1505.89 859.126 1505.31 Q861.58 1504.73 863.617 1504.73 Q868.987 1504.73 872.181 1507.42 Q875.376 1510.11 875.376 1514.6 Q875.376 1516.73 874.566 1518.65 Q873.779 1520.54 871.672 1523.14 Q871.093 1523.81 867.992 1527.03 Q864.89 1530.22 859.242 1535.98 Z\" fill=\"#000000\" fill-rule=\"evenodd\" fill-opacity=\"1\" /><path clip-path=\"url(#clip930)\" d=\"M 0 0 M890.63 1508.44 Q887.019 1508.44 885.191 1512 Q883.385 1515.55 883.385 1522.67 Q883.385 1529.78 885.191 1533.35 Q887.019 1536.89 890.63 1536.89 Q894.265 1536.89 896.07 1533.35 Q897.899 1529.78 897.899 1522.67 Q897.899 1515.55 896.07 1512 Q894.265 1508.44 890.63 1508.44 M890.63 1504.73 Q896.44 1504.73 899.496 1509.34 Q902.575 1513.92 902.575 1522.67 Q902.575 1531.4 899.496 1536.01 Q896.44 1540.59 890.63 1540.59 Q884.82 1540.59 881.741 1536.01 Q878.686 1531.4 878.686 1522.67 Q878.686 1513.92 881.741 1509.34 Q884.82 1504.73 890.63 1504.73 Z\" fill=\"#000000\" fill-rule=\"evenodd\" fill-opacity=\"1\" /><path clip-path=\"url(#clip930)\" d=\"M 0 0 M917.644 1508.44 Q914.033 1508.44 912.204 1512 Q910.399 1515.55 910.399 1522.67 Q910.399 1529.78 912.204 1533.35 Q914.033 1536.89 917.644 1536.89 Q921.278 1536.89 923.084 1533.35 Q924.913 1529.78 924.913 1522.67 Q924.913 1515.55 923.084 1512 Q921.278 1508.44 917.644 1508.44 M917.644 1504.73 Q923.454 1504.73 926.51 1509.34 Q929.588 1513.92 929.588 1522.67 Q929.588 1531.4 926.51 1536.01 Q923.454 1540.59 917.644 1540.59 Q911.834 1540.59 908.755 1536.01 Q905.7 1531.4 905.7 1522.67 Q905.7 1513.92 908.755 1509.34 Q911.834 1504.73 917.644 1504.73 Z\" fill=\"#000000\" fill-rule=\"evenodd\" fill-opacity=\"1\" /><path clip-path=\"url(#clip930)\" d=\"M 0 0 M1227.49 1521.29 Q1230.85 1522 1232.72 1524.27 Q1234.62 1526.54 1234.62 1529.87 Q1234.62 1534.99 1231.1 1537.79 Q1227.58 1540.59 1221.1 1540.59 Q1218.92 1540.59 1216.61 1540.15 Q1214.32 1539.73 1211.86 1538.88 L1211.86 1534.36 Q1213.81 1535.5 1216.12 1536.08 Q1218.44 1536.66 1220.96 1536.66 Q1225.36 1536.66 1227.65 1534.92 Q1229.97 1533.18 1229.97 1529.87 Q1229.97 1526.82 1227.81 1525.11 Q1225.68 1523.37 1221.86 1523.37 L1217.84 1523.37 L1217.84 1519.53 L1222.05 1519.53 Q1225.5 1519.53 1227.33 1518.16 Q1229.16 1516.77 1229.16 1514.18 Q1229.16 1511.52 1227.26 1510.11 Q1225.38 1508.67 1221.86 1508.67 Q1219.94 1508.67 1217.74 1509.09 Q1215.55 1509.5 1212.91 1510.38 L1212.91 1506.22 Q1215.57 1505.48 1217.88 1505.11 Q1220.22 1504.73 1222.28 1504.73 Q1227.61 1504.73 1230.71 1507.17 Q1233.81 1509.57 1233.81 1513.69 Q1233.81 1516.56 1232.17 1518.55 Q1230.52 1520.52 1227.49 1521.29 Z\" fill=\"#000000\" fill-rule=\"evenodd\" fill-opacity=\"1\" /><path clip-path=\"url(#clip930)\" d=\"M 0 0 M1249.69 1508.44 Q1246.08 1508.44 1244.25 1512 Q1242.44 1515.55 1242.44 1522.67 Q1242.44 1529.78 1244.25 1533.35 Q1246.08 1536.89 1249.69 1536.89 Q1253.32 1536.89 1255.13 1533.35 Q1256.96 1529.78 1256.96 1522.67 Q1256.96 1515.55 1255.13 1512 Q1253.32 1508.44 1249.69 1508.44 M1249.69 1504.73 Q1255.5 1504.73 1258.55 1509.34 Q1261.63 1513.92 1261.63 1522.67 Q1261.63 1531.4 1258.55 1536.01 Q1255.5 1540.59 1249.69 1540.59 Q1243.88 1540.59 1240.8 1536.01 Q1237.74 1531.4 1237.74 1522.67 Q1237.74 1513.92 1240.8 1509.34 Q1243.88 1504.73 1249.69 1504.73 Z\" fill=\"#000000\" fill-rule=\"evenodd\" fill-opacity=\"1\" /><path clip-path=\"url(#clip930)\" d=\"M 0 0 M1276.7 1508.44 Q1273.09 1508.44 1271.26 1512 Q1269.46 1515.55 1269.46 1522.67 Q1269.46 1529.78 1271.26 1533.35 Q1273.09 1536.89 1276.7 1536.89 Q1280.34 1536.89 1282.14 1533.35 Q1283.97 1529.78 1283.97 1522.67 Q1283.97 1515.55 1282.14 1512 Q1280.34 1508.44 1276.7 1508.44 M1276.7 1504.73 Q1282.51 1504.73 1285.57 1509.34 Q1288.65 1513.92 1288.65 1522.67 Q1288.65 1531.4 1285.57 1536.01 Q1282.51 1540.59 1276.7 1540.59 Q1270.89 1540.59 1267.81 1536.01 Q1264.76 1531.4 1264.76 1522.67 Q1264.76 1513.92 1267.81 1509.34 Q1270.89 1504.73 1276.7 1504.73 Z\" fill=\"#000000\" fill-rule=\"evenodd\" fill-opacity=\"1\" /><path clip-path=\"url(#clip930)\" d=\"M 0 0 M1584.9 1509.43 L1573.1 1527.88 L1584.9 1527.88 L1584.9 1509.43 M1583.68 1505.36 L1589.56 1505.36 L1589.56 1527.88 L1594.49 1527.88 L1594.49 1531.77 L1589.56 1531.77 L1589.56 1539.92 L1584.9 1539.92 L1584.9 1531.77 L1569.3 1531.77 L1569.3 1527.26 L1583.68 1505.36 Z\" fill=\"#000000\" fill-rule=\"evenodd\" fill-opacity=\"1\" /><path clip-path=\"url(#clip930)\" d=\"M 0 0 M1609.56 1508.44 Q1605.95 1508.44 1604.12 1512 Q1602.31 1515.55 1602.31 1522.67 Q1602.31 1529.78 1604.12 1533.35 Q1605.95 1536.89 1609.56 1536.89 Q1613.19 1536.89 1615 1533.35 Q1616.83 1529.78 1616.83 1522.67 Q1616.83 1515.55 1615 1512 Q1613.19 1508.44 1609.56 1508.44 M1609.56 1504.73 Q1615.37 1504.73 1618.42 1509.34 Q1621.5 1513.92 1621.5 1522.67 Q1621.5 1531.4 1618.42 1536.01 Q1615.37 1540.59 1609.56 1540.59 Q1603.75 1540.59 1600.67 1536.01 Q1597.61 1531.4 1597.61 1522.67 Q1597.61 1513.92 1600.67 1509.34 Q1603.75 1504.73 1609.56 1504.73 Z\" fill=\"#000000\" fill-rule=\"evenodd\" fill-opacity=\"1\" /><path clip-path=\"url(#clip930)\" d=\"M 0 0 M1636.57 1508.44 Q1632.96 1508.44 1631.13 1512 Q1629.33 1515.55 1629.33 1522.67 Q1629.33 1529.78 1631.13 1533.35 Q1632.96 1536.89 1636.57 1536.89 Q1640.21 1536.89 1642.01 1533.35 Q1643.84 1529.78 1643.84 1522.67 Q1643.84 1515.55 1642.01 1512 Q1640.21 1508.44 1636.57 1508.44 M1636.57 1504.73 Q1642.38 1504.73 1645.44 1509.34 Q1648.52 1513.92 1648.52 1522.67 Q1648.52 1531.4 1645.44 1536.01 Q1642.38 1540.59 1636.57 1540.59 Q1630.76 1540.59 1627.68 1536.01 Q1624.63 1531.4 1624.63 1522.67 Q1624.63 1513.92 1627.68 1509.34 Q1630.76 1504.73 1636.57 1504.73 Z\" fill=\"#000000\" fill-rule=\"evenodd\" fill-opacity=\"1\" /><path clip-path=\"url(#clip930)\" d=\"M 0 0 M1930.83 1505.36 L1949.18 1505.36 L1949.18 1509.3 L1935.11 1509.3 L1935.11 1517.77 Q1936.13 1517.42 1937.15 1517.26 Q1938.16 1517.07 1939.18 1517.07 Q1944.97 1517.07 1948.35 1520.24 Q1951.73 1523.42 1951.73 1528.83 Q1951.73 1534.41 1948.26 1537.51 Q1944.78 1540.59 1938.47 1540.59 Q1936.29 1540.59 1934.02 1540.22 Q1931.78 1539.85 1929.37 1539.11 L1929.37 1534.41 Q1931.45 1535.54 1933.67 1536.1 Q1935.9 1536.66 1938.37 1536.66 Q1942.38 1536.66 1944.72 1534.55 Q1947.05 1532.44 1947.05 1528.83 Q1947.05 1525.22 1944.72 1523.11 Q1942.38 1521.01 1938.37 1521.01 Q1936.5 1521.01 1934.62 1521.42 Q1932.77 1521.84 1930.83 1522.72 L1930.83 1505.36 Z\" fill=\"#000000\" fill-rule=\"evenodd\" fill-opacity=\"1\" /><path clip-path=\"url(#clip930)\" d=\"M 0 0 M1966.8 1508.44 Q1963.19 1508.44 1961.36 1512 Q1959.55 1515.55 1959.55 1522.67 Q1959.55 1529.78 1961.36 1533.35 Q1963.19 1536.89 1966.8 1536.89 Q1970.43 1536.89 1972.24 1533.35 Q1974.07 1529.78 1974.07 1522.67 Q1974.07 1515.55 1972.24 1512 Q1970.43 1508.44 1966.8 1508.44 M1966.8 1504.73 Q1972.61 1504.73 1975.66 1509.34 Q1978.74 1513.92 1978.74 1522.67 Q1978.74 1531.4 1975.66 1536.01 Q1972.61 1540.59 1966.8 1540.59 Q1960.99 1540.59 1957.91 1536.01 Q1954.85 1531.4 1954.85 1522.67 Q1954.85 1513.92 1957.91 1509.34 Q1960.99 1504.73 1966.8 1504.73 Z\" fill=\"#000000\" fill-rule=\"evenodd\" fill-opacity=\"1\" /><path clip-path=\"url(#clip930)\" d=\"M 0 0 M1993.81 1508.44 Q1990.2 1508.44 1988.37 1512 Q1986.57 1515.55 1986.57 1522.67 Q1986.57 1529.78 1988.37 1533.35 Q1990.2 1536.89 1993.81 1536.89 Q1997.45 1536.89 1999.25 1533.35 Q2001.08 1529.78 2001.08 1522.67 Q2001.08 1515.55 1999.25 1512 Q1997.45 1508.44 1993.81 1508.44 M1993.81 1504.73 Q1999.62 1504.73 2002.68 1509.34 Q2005.76 1513.92 2005.76 1522.67 Q2005.76 1531.4 2002.68 1536.01 Q1999.62 1540.59 1993.81 1540.59 Q1988 1540.59 1984.92 1536.01 Q1981.87 1531.4 1981.87 1522.67 Q1981.87 1513.92 1984.92 1509.34 Q1988 1504.73 1993.81 1504.73 Z\" fill=\"#000000\" fill-rule=\"evenodd\" fill-opacity=\"1\" /><path clip-path=\"url(#clip930)\" d=\"M 0 0 M2299.61 1520.78 Q2296.46 1520.78 2294.61 1522.93 Q2292.78 1525.08 2292.78 1528.83 Q2292.78 1532.56 2294.61 1534.73 Q2296.46 1536.89 2299.61 1536.89 Q2302.76 1536.89 2304.58 1534.73 Q2306.44 1532.56 2306.44 1528.83 Q2306.44 1525.08 2304.58 1522.93 Q2302.76 1520.78 2299.61 1520.78 M2308.89 1506.12 L2308.89 1510.38 Q2307.13 1509.55 2305.32 1509.11 Q2303.54 1508.67 2301.78 1508.67 Q2297.15 1508.67 2294.7 1511.8 Q2292.27 1514.92 2291.92 1521.24 Q2293.29 1519.23 2295.35 1518.16 Q2297.41 1517.07 2299.88 1517.07 Q2305.09 1517.07 2308.1 1520.24 Q2311.13 1523.39 2311.13 1528.83 Q2311.13 1534.16 2307.99 1537.37 Q2304.84 1540.59 2299.61 1540.59 Q2293.61 1540.59 2290.44 1536.01 Q2287.27 1531.4 2287.27 1522.67 Q2287.27 1514.48 2291.16 1509.62 Q2295.05 1504.73 2301.6 1504.73 Q2303.36 1504.73 2305.14 1505.08 Q2306.94 1505.43 2308.89 1506.12 Z\" fill=\"#000000\" fill-rule=\"evenodd\" fill-opacity=\"1\" /><path clip-path=\"url(#clip930)\" d=\"M 0 0 M2326.2 1508.44 Q2322.59 1508.44 2320.76 1512 Q2318.96 1515.55 2318.96 1522.67 Q2318.96 1529.78 2320.76 1533.35 Q2322.59 1536.89 2326.2 1536.89 Q2329.84 1536.89 2331.64 1533.35 Q2333.47 1529.78 2333.47 1522.67 Q2333.47 1515.55 2331.64 1512 Q2329.84 1508.44 2326.2 1508.44 M2326.2 1504.73 Q2332.01 1504.73 2335.07 1509.34 Q2338.15 1513.92 2338.15 1522.67 Q2338.15 1531.4 2335.07 1536.01 Q2332.01 1540.59 2326.2 1540.59 Q2320.39 1540.59 2317.32 1536.01 Q2314.26 1531.4 2314.26 1522.67 Q2314.26 1513.92 2317.32 1509.34 Q2320.39 1504.73 2326.2 1504.73 Z\" fill=\"#000000\" fill-rule=\"evenodd\" fill-opacity=\"1\" /><path clip-path=\"url(#clip930)\" d=\"M 0 0 M2353.22 1508.44 Q2349.61 1508.44 2347.78 1512 Q2345.97 1515.55 2345.97 1522.67 Q2345.97 1529.78 2347.78 1533.35 Q2349.61 1536.89 2353.22 1536.89 Q2356.85 1536.89 2358.66 1533.35 Q2360.49 1529.78 2360.49 1522.67 Q2360.49 1515.55 2358.66 1512 Q2356.85 1508.44 2353.22 1508.44 M2353.22 1504.73 Q2359.03 1504.73 2362.08 1509.34 Q2365.16 1513.92 2365.16 1522.67 Q2365.16 1531.4 2362.08 1536.01 Q2359.03 1540.59 2353.22 1540.59 Q2347.41 1540.59 2344.33 1536.01 Q2341.27 1531.4 2341.27 1522.67 Q2341.27 1513.92 2344.33 1509.34 Q2347.41 1504.73 2353.22 1504.73 Z\" fill=\"#000000\" fill-rule=\"evenodd\" fill-opacity=\"1\" /><path clip-path=\"url(#clip930)\" d=\"M 0 0 M75.7467 1384.29 Q72.1356 1384.29 70.3069 1387.85 Q68.5014 1391.4 68.5014 1398.52 Q68.5014 1405.63 70.3069 1409.2 Q72.1356 1412.74 75.7467 1412.74 Q79.3809 1412.74 81.1865 1409.2 Q83.0152 1405.63 83.0152 1398.52 Q83.0152 1391.4 81.1865 1387.85 Q79.3809 1384.29 75.7467 1384.29 M75.7467 1380.58 Q81.5568 1380.58 84.6124 1385.19 Q87.6911 1389.77 87.6911 1398.52 Q87.6911 1407.25 84.6124 1411.86 Q81.5568 1416.44 75.7467 1416.44 Q69.9365 1416.44 66.8578 1411.86 Q63.8023 1407.25 63.8023 1398.52 Q63.8023 1389.77 66.8578 1385.19 Q69.9365 1380.58 75.7467 1380.58 Z\" fill=\"#000000\" fill-rule=\"evenodd\" fill-opacity=\"1\" /><path clip-path=\"url(#clip930)\" d=\"M 0 0 M92.7605 1409.89 L97.6447 1409.89 L97.6447 1415.77 L92.7605 1415.77 L92.7605 1409.89 Z\" fill=\"#000000\" fill-rule=\"evenodd\" fill-opacity=\"1\" /><path clip-path=\"url(#clip930)\" d=\"M 0 0 M101.534 1381.21 L123.756 1381.21 L123.756 1383.2 L111.209 1415.77 L106.325 1415.77 L118.131 1385.15 L101.534 1385.15 L101.534 1381.21 Z\" fill=\"#000000\" fill-rule=\"evenodd\" fill-opacity=\"1\" /><path clip-path=\"url(#clip930)\" d=\"M 0 0 M74.9365 947.451 Q71.3254 947.451 69.4967 951.016 Q67.6912 954.557 67.6912 961.687 Q67.6912 968.793 69.4967 972.358 Q71.3254 975.9 74.9365 975.9 Q78.5707 975.9 80.3763 972.358 Q82.205 968.793 82.205 961.687 Q82.205 954.557 80.3763 951.016 Q78.5707 947.451 74.9365 947.451 M74.9365 943.747 Q80.7467 943.747 83.8022 948.354 Q86.8809 952.937 86.8809 961.687 Q86.8809 970.414 83.8022 975.02 Q80.7467 979.603 74.9365 979.603 Q69.1264 979.603 66.0477 975.02 Q62.9921 970.414 62.9921 961.687 Q62.9921 952.937 66.0477 948.354 Q69.1264 943.747 74.9365 943.747 Z\" fill=\"#000000\" fill-rule=\"evenodd\" fill-opacity=\"1\" /><path clip-path=\"url(#clip930)\" d=\"M 0 0 M91.9503 973.052 L96.8345 973.052 L96.8345 978.932 L91.9503 978.932 L91.9503 973.052 Z\" fill=\"#000000\" fill-rule=\"evenodd\" fill-opacity=\"1\" /><path clip-path=\"url(#clip930)\" d=\"M 0 0 M111.904 962.52 Q108.571 962.52 106.649 964.303 Q104.751 966.085 104.751 969.21 Q104.751 972.335 106.649 974.117 Q108.571 975.9 111.904 975.9 Q115.237 975.9 117.159 974.117 Q119.08 972.312 119.08 969.21 Q119.08 966.085 117.159 964.303 Q115.26 962.52 111.904 962.52 M107.228 960.529 Q104.219 959.789 102.529 957.728 Q100.862 955.668 100.862 952.705 Q100.862 948.562 103.802 946.154 Q106.765 943.747 111.904 943.747 Q117.066 943.747 120.006 946.154 Q122.946 948.562 122.946 952.705 Q122.946 955.668 121.256 957.728 Q119.589 959.789 116.603 960.529 Q119.983 961.316 121.858 963.608 Q123.756 965.9 123.756 969.21 Q123.756 974.233 120.677 976.918 Q117.621 979.603 111.904 979.603 Q106.186 979.603 103.108 976.918 Q100.052 974.233 100.052 969.21 Q100.052 965.9 101.95 963.608 Q103.848 961.316 107.228 960.529 M105.515 953.145 Q105.515 955.83 107.182 957.335 Q108.872 958.84 111.904 958.84 Q114.913 958.84 116.603 957.335 Q118.316 955.83 118.316 953.145 Q118.316 950.46 116.603 948.955 Q114.913 947.451 111.904 947.451 Q108.872 947.451 107.182 948.955 Q105.515 950.46 105.515 953.145 Z\" fill=\"#000000\" fill-rule=\"evenodd\" fill-opacity=\"1\" /><path clip-path=\"url(#clip930)\" d=\"M 0 0 M75.0291 510.613 Q71.418 510.613 69.5893 514.178 Q67.7838 517.719 67.7838 524.849 Q67.7838 531.955 69.5893 535.52 Q71.418 539.062 75.0291 539.062 Q78.6633 539.062 80.4689 535.52 Q82.2976 531.955 82.2976 524.849 Q82.2976 517.719 80.4689 514.178 Q78.6633 510.613 75.0291 510.613 M75.0291 506.909 Q80.8393 506.909 83.8948 511.516 Q86.9735 516.099 86.9735 524.849 Q86.9735 533.576 83.8948 538.182 Q80.8393 542.765 75.0291 542.765 Q69.2189 542.765 66.1403 538.182 Q63.0847 533.576 63.0847 524.849 Q63.0847 516.099 66.1403 511.516 Q69.2189 506.909 75.0291 506.909 Z\" fill=\"#000000\" fill-rule=\"evenodd\" fill-opacity=\"1\" /><path clip-path=\"url(#clip930)\" d=\"M 0 0 M92.0429 536.215 L96.9271 536.215 L96.9271 542.094 L92.0429 542.094 L92.0429 536.215 Z\" fill=\"#000000\" fill-rule=\"evenodd\" fill-opacity=\"1\" /><path clip-path=\"url(#clip930)\" d=\"M 0 0 M102.135 541.377 L102.135 537.117 Q103.895 537.951 105.7 538.39 Q107.506 538.83 109.242 538.83 Q113.871 538.83 116.302 535.728 Q118.756 532.603 119.103 526.261 Q117.76 528.252 115.7 529.316 Q113.64 530.381 111.14 530.381 Q105.955 530.381 102.922 527.256 Q99.9132 524.108 99.9132 518.668 Q99.9132 513.344 103.061 510.127 Q106.209 506.909 111.441 506.909 Q117.436 506.909 120.584 511.516 Q123.756 516.099 123.756 524.849 Q123.756 533.02 119.867 537.904 Q116.001 542.765 109.45 542.765 Q107.691 542.765 105.885 542.418 Q104.08 542.071 102.135 541.377 M111.441 526.724 Q114.589 526.724 116.418 524.571 Q118.27 522.418 118.27 518.668 Q118.27 514.942 116.418 512.789 Q114.589 510.613 111.441 510.613 Q108.293 510.613 106.441 512.789 Q104.612 514.942 104.612 518.668 Q104.612 522.418 106.441 524.571 Q108.293 526.724 111.441 526.724 Z\" fill=\"#000000\" fill-rule=\"evenodd\" fill-opacity=\"1\" /><path clip-path=\"url(#clip930)\" d=\"M 0 0 M66.881 101.321 L74.5198 101.321 L74.5198 74.9555 L66.2097 76.6222 L66.2097 72.3629 L74.4735 70.6963 L79.1494 70.6963 L79.1494 101.321 L86.7883 101.321 L86.7883 105.256 L66.881 105.256 L66.881 101.321 Z\" fill=\"#000000\" fill-rule=\"evenodd\" fill-opacity=\"1\" /><path clip-path=\"url(#clip930)\" d=\"M 0 0 M91.8577 99.3767 L96.7419 99.3767 L96.7419 105.256 L91.8577 105.256 L91.8577 99.3767 Z\" fill=\"#000000\" fill-rule=\"evenodd\" fill-opacity=\"1\" /><path clip-path=\"url(#clip930)\" d=\"M 0 0 M111.811 73.775 Q108.2 73.775 106.372 77.3398 Q104.566 80.8814 104.566 88.011 Q104.566 95.1174 106.372 98.6822 Q108.2 102.224 111.811 102.224 Q115.446 102.224 117.251 98.6822 Q119.08 95.1174 119.08 88.011 Q119.08 80.8814 117.251 77.3398 Q115.446 73.775 111.811 73.775 M111.811 70.0713 Q117.621 70.0713 120.677 74.6777 Q123.756 79.261 123.756 88.011 Q123.756 96.7378 120.677 101.344 Q117.621 105.928 111.811 105.928 Q106.001 105.928 102.922 101.344 Q99.8669 96.7378 99.8669 88.011 Q99.8669 79.261 102.922 74.6777 Q106.001 70.0713 111.811 70.0713 Z\" fill=\"#000000\" fill-rule=\"evenodd\" fill-opacity=\"1\" /><polyline clip-path=\"url(#clip932)\" style=\"stroke:#009af9; stroke-width:4; stroke-opacity:1; fill:none\" points=\"\n",
       "  210.161,87.9763 228.094,87.9763 246.027,306.395 263.959,87.9763 281.892,87.9763 299.825,87.9763 317.757,87.9763 335.69,87.9763 353.623,87.9763 371.555,87.9763 \n",
       "  389.488,233.589 407.421,155.182 425.353,212.787 443.286,379.202 461.219,470.209 479.151,499.118 497.084,330.664 515.017,455.84 532.949,524.814 550.882,545.616 \n",
       "  568.815,524.814 586.747,505.821 604.68,524.814 622.613,507.341 640.545,625.623 658.478,670.427 676.411,587.22 694.343,570.004 712.276,524.814 730.209,538.906 \n",
       "  748.141,524.814 766.074,538.052 784.007,550.511 801.939,537.295 819.872,597.62 837.805,607.459 855.737,547.806 873.67,580.819 891.603,590.34 909.535,556.778 \n",
       "  927.468,545.616 945.401,595.927 963.333,584.383 981.266,573.352 999.199,562.8 1017.13,589.875 1035.06,670.427 1053,658.54 1070.93,594.708 1088.86,619.034 \n",
       "  1106.79,608.821 1124.73,582.51 1142.66,557.173 1160.59,548.642 1178.53,524.814 1196.46,578.461 1214.39,554.941 1232.32,576.642 1250.26,597.62 1268.19,546.298 \n",
       "  1286.12,567.089 1304.05,573.352 1321.99,538.465 1339.92,544.976 1357.85,538.052 1375.78,583.494 1393.72,589.055 1411.65,581.793 1429.58,587.22 1447.52,617.104 \n",
       "  1465.45,597.62 1483.38,590.639 1501.31,583.846 1519.25,577.235 1537.18,559.301 1555.11,575.873 1573.04,536.015 1590.98,552.462 1608.91,546.656 1626.84,540.993 \n",
       "  1644.77,546.123 1662.71,561.656 1680.64,535.215 1698.57,581.346 1716.51,595.927 1734.44,610.173 1752.37,584.383 1770.3,578.805 1788.24,573.352 1806.17,577.619 \n",
       "  1824.1,619.779 1842.03,585.878 1859.97,599.17 1877.9,584.592 1895.83,570.318 1913.76,583.359 1931.7,605.05 1949.63,591.002 1967.56,612.182 1985.49,598.341 \n",
       "  2003.43,576.207 2021.36,596.914 2039.29,650.825 2057.23,637.144 2075.16,631.963 2093.09,618.714 2111.02,613.8 2128.96,608.976 2146.89,604.239 2164.82,599.588 \n",
       "  2182.75,626.223 2200.69,613.728 2218.62,570.797 2236.55,589.39 2254.48,570.004 2272.42,573.352 2290.35,584.046 \n",
       "  \"/>\n",
       "<polyline clip-path=\"url(#clip932)\" style=\"stroke:#e26f46; stroke-width:4; stroke-opacity:1; fill:none\" points=\"\n",
       "  210.161,1445.72 228.094,1180.07 246.027,1180.07 263.959,1121.04 281.892,1002.97 299.825,1002.97 317.757,1032.49 335.69,1032.49 353.623,1091.52 371.555,1121.04 \n",
       "  389.488,1002.97 407.421,1002.97 425.353,973.459 443.286,884.91 461.219,914.426 479.151,914.426 497.084,825.878 515.017,884.91 532.949,943.942 550.882,914.426 \n",
       "  568.815,914.426 586.747,855.394 604.68,825.878 622.613,855.394 640.545,914.426 658.478,914.426 676.411,943.942 694.343,943.942 712.276,914.426 730.209,914.426 \n",
       "  748.141,884.91 766.074,884.91 784.007,855.394 801.939,825.878 819.872,855.394 837.805,825.878 855.737,825.878 873.67,825.878 891.603,855.394 909.535,884.91 \n",
       "  927.468,855.394 945.401,825.878 963.333,766.846 981.266,796.362 999.199,796.362 1017.13,737.33 1035.06,737.33 1053,737.33 1070.93,707.814 1088.86,796.362 \n",
       "  1106.79,796.362 1124.73,737.33 1142.66,737.33 1160.59,678.298 1178.53,737.33 1196.46,707.814 1214.39,648.782 1232.32,678.298 1250.26,648.782 1268.19,678.298 \n",
       "  1286.12,589.75 1304.05,648.782 1321.99,589.75 1339.92,589.75 1357.85,589.75 1375.78,560.233 1393.72,560.233 1411.65,560.233 1429.58,560.233 1447.52,619.266 \n",
       "  1465.45,589.75 1483.38,678.298 1501.31,678.298 1519.25,589.75 1537.18,648.782 1555.11,678.298 1573.04,648.782 1590.98,589.75 1608.91,707.814 1626.84,707.814 \n",
       "  1644.77,619.266 1662.71,678.298 1680.64,707.814 1698.57,678.298 1716.51,707.814 1734.44,648.782 1752.37,678.298 1770.3,678.298 1788.24,707.814 1806.17,648.782 \n",
       "  1824.1,678.298 1842.03,648.782 1859.97,619.266 1877.9,619.266 1895.83,619.266 1913.76,619.266 1931.7,648.782 1949.63,648.782 1967.56,648.782 1985.49,648.782 \n",
       "  2003.43,678.298 2021.36,648.782 2039.29,648.782 2057.23,678.298 2075.16,678.298 2093.09,678.298 2111.02,619.266 2128.96,619.266 2146.89,619.266 2164.82,619.266 \n",
       "  2182.75,619.266 2200.69,619.266 2218.62,589.75 2236.55,619.266 2254.48,619.266 2272.42,648.782 2290.35,648.782 \n",
       "  \"/>\n",
       "<path clip-path=\"url(#clip930)\" d=\"\n",
       "M1983.24 276.658 L2279.26 276.658 L2279.26 95.2176 L1983.24 95.2176  Z\n",
       "  \" fill=\"#ffffff\" fill-rule=\"evenodd\" fill-opacity=\"1\"/>\n",
       "<polyline clip-path=\"url(#clip930)\" style=\"stroke:#000000; stroke-width:4; stroke-opacity:1; fill:none\" points=\"\n",
       "  1983.24,276.658 2279.26,276.658 2279.26,95.2176 1983.24,95.2176 1983.24,276.658 \n",
       "  \"/>\n",
       "<polyline clip-path=\"url(#clip930)\" style=\"stroke:#009af9; stroke-width:4; stroke-opacity:1; fill:none\" points=\"\n",
       "  2007.74,155.698 2154.74,155.698 \n",
       "  \"/>\n",
       "<path clip-path=\"url(#clip930)\" d=\"M 0 0 M2193.08 175.385 Q2191.27 180.015 2189.56 181.427 Q2187.85 182.839 2184.98 182.839 L2181.58 182.839 L2181.58 179.274 L2184.08 179.274 Q2185.83 179.274 2186.81 178.44 Q2187.78 177.607 2188.96 174.505 L2189.72 172.561 L2179.24 147.052 L2183.75 147.052 L2191.85 167.329 L2199.96 147.052 L2204.47 147.052 L2193.08 175.385 Z\" fill=\"#000000\" fill-rule=\"evenodd\" fill-opacity=\"1\" /><path clip-path=\"url(#clip930)\" d=\"M 0 0 M2210.35 169.042 L2217.99 169.042 L2217.99 142.677 L2209.68 144.343 L2209.68 140.084 L2217.94 138.418 L2222.62 138.418 L2222.62 169.042 L2230.26 169.042 L2230.26 172.978 L2210.35 172.978 L2210.35 169.042 Z\" fill=\"#000000\" fill-rule=\"evenodd\" fill-opacity=\"1\" /><polyline clip-path=\"url(#clip930)\" style=\"stroke:#e26f46; stroke-width:4; stroke-opacity:1; fill:none\" points=\"\n",
       "  2007.74,216.178 2154.74,216.178 \n",
       "  \"/>\n",
       "<path clip-path=\"url(#clip930)\" d=\"M 0 0 M2193.08 235.865 Q2191.27 240.495 2189.56 241.907 Q2187.85 243.319 2184.98 243.319 L2181.58 243.319 L2181.58 239.754 L2184.08 239.754 Q2185.83 239.754 2186.81 238.92 Q2187.78 238.087 2188.96 234.985 L2189.72 233.041 L2179.24 207.532 L2183.75 207.532 L2191.85 227.809 L2199.96 207.532 L2204.47 207.532 L2193.08 235.865 Z\" fill=\"#000000\" fill-rule=\"evenodd\" fill-opacity=\"1\" /><path clip-path=\"url(#clip930)\" d=\"M 0 0 M2213.57 229.522 L2229.89 229.522 L2229.89 233.458 L2207.94 233.458 L2207.94 229.522 Q2210.6 226.768 2215.19 222.138 Q2219.79 217.485 2220.97 216.143 Q2223.22 213.62 2224.1 211.884 Q2225 210.124 2225 208.435 Q2225 205.68 2223.06 203.944 Q2221.14 202.208 2218.03 202.208 Q2215.83 202.208 2213.38 202.972 Q2210.95 203.735 2208.17 205.286 L2208.17 200.564 Q2211 199.43 2213.45 198.851 Q2215.9 198.273 2217.94 198.273 Q2223.31 198.273 2226.51 200.958 Q2229.7 203.643 2229.7 208.134 Q2229.7 210.263 2228.89 212.185 Q2228.1 214.083 2226 216.675 Q2225.42 217.347 2222.32 220.564 Q2219.21 223.759 2213.57 229.522 Z\" fill=\"#000000\" fill-rule=\"evenodd\" fill-opacity=\"1\" /></svg>\n"
      ]
     },
     "execution_count": 37,
     "metadata": {},
     "output_type": "execute_result"
    }
   ],
   "source": [
    "plot(data_schedule, training_losses)\n",
    "plot!(data_schedule, valid_losses)"
   ]
  },
  {
   "cell_type": "markdown",
   "metadata": {},
   "source": [
    "# Final Results"
   ]
  },
  {
   "cell_type": "markdown",
   "metadata": {},
   "source": [
    "Linear SVM"
   ]
  },
  {
   "cell_type": "code",
   "execution_count": 38,
   "metadata": {},
   "outputs": [
    {
     "data": {
      "text/plain": [
       "SVMClassifier(\n",
       "    C = 0.24469504592387473,\n",
       "    kernel = \"linear\",\n",
       "    degree = 3,\n",
       "    gamma = \"auto\",\n",
       "    coef0 = 0.0,\n",
       "    shrinking = true,\n",
       "    tol = 0.001,\n",
       "    cache_size = 1000,\n",
       "    max_iter = -1,\n",
       "    decision_function_shape = \"ovr\",\n",
       "    random_state = nothing)\u001b[34m @976\u001b[39m"
      ]
     },
     "execution_count": 38,
     "metadata": {},
     "output_type": "execute_result"
    }
   ],
   "source": [
    "final_svm = SVMClassifier(kernel=\"linear\", C = best_C, cache_size=1000)"
   ]
  },
  {
   "cell_type": "code",
   "execution_count": 56,
   "metadata": {},
   "outputs": [
    {
     "name": "stderr",
     "output_type": "stream",
     "text": [
      "┌ Warning: The scitype of `X`, in `machine(model, X, ...)` is incompatible with `model=\u001b[34mSVMClassifier @976\u001b[39m`:\n",
      "│ scitype(X) = Table{Union{AbstractArray{Continuous,1}, AbstractArray{Count,1}}}\n",
      "│ input_scitype(model) = Table{var\"#s44\"} where var\"#s44\"<:(AbstractArray{var\"#s13\",1} where var\"#s13\"<:Continuous).\n",
      "└ @ MLJBase /home/andrew/.julia/packages/MLJBase/uKzAz/src/machines.jl:77\n"
     ]
    },
    {
     "data": {
      "text/plain": [
       "\u001b[34mMachine{SVMClassifier} @156\u001b[39m trained 0 times.\n",
       "  args: \n",
       "    1:\t\u001b[34mSource @145\u001b[39m ⏎ `Table{Union{AbstractArray{Continuous,1}, AbstractArray{Count,1}}}`\n",
       "    2:\t\u001b[34mSource @980\u001b[39m ⏎ `AbstractArray{Multiclass{2},1}`\n"
      ]
     },
     "execution_count": 56,
     "metadata": {},
     "output_type": "execute_result"
    }
   ],
   "source": [
    "Final_SVM = machine(final_svm, X_stand, y)"
   ]
  },
  {
   "cell_type": "code",
   "execution_count": 57,
   "metadata": {},
   "outputs": [
    {
     "name": "stderr",
     "output_type": "stream",
     "text": [
      "┌ Info: Training \u001b[34mMachine{SVMClassifier} @156\u001b[39m.\n",
      "└ @ MLJBase /home/andrew/.julia/packages/MLJBase/uKzAz/src/machines.jl:319\n"
     ]
    },
    {
     "data": {
      "text/plain": [
       "\u001b[34mMachine{SVMClassifier} @156\u001b[39m trained 1 time.\n",
       "  args: \n",
       "    1:\t\u001b[34mSource @145\u001b[39m ⏎ `Table{Union{AbstractArray{Continuous,1}, AbstractArray{Count,1}}}`\n",
       "    2:\t\u001b[34mSource @980\u001b[39m ⏎ `AbstractArray{Multiclass{2},1}`\n"
      ]
     },
     "execution_count": 57,
     "metadata": {},
     "output_type": "execute_result"
    }
   ],
   "source": [
    "fit!(Final_SVM, rows=train, verbosity=2)"
   ]
  },
  {
   "cell_type": "code",
   "execution_count": 58,
   "metadata": {},
   "outputs": [],
   "source": [
    "ŷ2 = MLJ.predict(Final_SVM, X_stand[test,:]);"
   ]
  },
  {
   "cell_type": "code",
   "execution_count": 59,
   "metadata": {},
   "outputs": [
    {
     "data": {
      "text/plain": [
       "0.8801261829652997"
      ]
     },
     "execution_count": 59,
     "metadata": {},
     "output_type": "execute_result"
    }
   ],
   "source": [
    "accuracy(ŷ2, y[test])"
   ]
  },
  {
   "cell_type": "code",
   "execution_count": 60,
   "metadata": {},
   "outputs": [
    {
     "name": "stderr",
     "output_type": "stream",
     "text": [
      "┌ Warning: The classes are un-ordered,\n",
      "│ using: negative='NRB' and positive='RB'.\n",
      "│ To suppress this warning, consider coercing to OrderedFactor.\n",
      "└ @ MLJBase /home/andrew/.julia/packages/MLJBase/uKzAz/src/measures/confusion_matrix.jl:83\n"
     ]
    },
    {
     "data": {
      "text/plain": [
       "              ┌───────────────────────────┐\n",
       "              │       Ground Truth        │\n",
       "┌─────────────┼─────────────┬─────────────┤\n",
       "│  Predicted  │     NRB     │     RB      │\n",
       "├─────────────┼─────────────┼─────────────┤\n",
       "│     NRB     │     198     │     19      │\n",
       "├─────────────┼─────────────┼─────────────┤\n",
       "│     RB      │     19      │     81      │\n",
       "└─────────────┴─────────────┴─────────────┘\n"
      ]
     },
     "execution_count": 60,
     "metadata": {},
     "output_type": "execute_result"
    }
   ],
   "source": [
    "confusion_matrix(ŷ2, y[test])"
   ]
  },
  {
   "cell_type": "markdown",
   "metadata": {},
   "source": [
    "RBF SVM"
   ]
  },
  {
   "cell_type": "code",
   "execution_count": 61,
   "metadata": {},
   "outputs": [
    {
     "data": {
      "text/plain": [
       "SVMClassifier(\n",
       "    C = 1.3912797011035627e6,\n",
       "    kernel = \"rbf\",\n",
       "    degree = 3,\n",
       "    gamma = 1.0e-7,\n",
       "    coef0 = 0.0,\n",
       "    shrinking = true,\n",
       "    tol = 0.001,\n",
       "    cache_size = 1000,\n",
       "    max_iter = -1,\n",
       "    decision_function_shape = \"ovr\",\n",
       "    random_state = nothing)\u001b[34m @921\u001b[39m"
      ]
     },
     "execution_count": 61,
     "metadata": {},
     "output_type": "execute_result"
    }
   ],
   "source": [
    "final_svm_rbf = best_rbf.best_model"
   ]
  },
  {
   "cell_type": "code",
   "execution_count": 62,
   "metadata": {},
   "outputs": [
    {
     "name": "stderr",
     "output_type": "stream",
     "text": [
      "┌ Warning: The scitype of `X`, in `machine(model, X, ...)` is incompatible with `model=\u001b[34mSVMClassifier @976\u001b[39m`:\n",
      "│ scitype(X) = Table{Union{AbstractArray{Continuous,1}, AbstractArray{Count,1}}}\n",
      "│ input_scitype(model) = Table{var\"#s44\"} where var\"#s44\"<:(AbstractArray{var\"#s13\",1} where var\"#s13\"<:Continuous).\n",
      "└ @ MLJBase /home/andrew/.julia/packages/MLJBase/uKzAz/src/machines.jl:77\n"
     ]
    },
    {
     "data": {
      "text/plain": [
       "\u001b[34mMachine{SVMClassifier} @729\u001b[39m trained 0 times.\n",
       "  args: \n",
       "    1:\t\u001b[34mSource @064\u001b[39m ⏎ `Table{Union{AbstractArray{Continuous,1}, AbstractArray{Count,1}}}`\n",
       "    2:\t\u001b[34mSource @508\u001b[39m ⏎ `AbstractArray{Multiclass{2},1}`\n"
      ]
     },
     "execution_count": 62,
     "metadata": {},
     "output_type": "execute_result"
    }
   ],
   "source": [
    "Final_SVM = machine(final_svm, X_stand, y)"
   ]
  },
  {
   "cell_type": "code",
   "execution_count": 63,
   "metadata": {},
   "outputs": [
    {
     "name": "stderr",
     "output_type": "stream",
     "text": [
      "┌ Info: Training \u001b[34mMachine{SVMClassifier} @729\u001b[39m.\n",
      "└ @ MLJBase /home/andrew/.julia/packages/MLJBase/uKzAz/src/machines.jl:319\n"
     ]
    },
    {
     "data": {
      "text/plain": [
       "\u001b[34mMachine{SVMClassifier} @729\u001b[39m trained 1 time.\n",
       "  args: \n",
       "    1:\t\u001b[34mSource @064\u001b[39m ⏎ `Table{Union{AbstractArray{Continuous,1}, AbstractArray{Count,1}}}`\n",
       "    2:\t\u001b[34mSource @508\u001b[39m ⏎ `AbstractArray{Multiclass{2},1}`\n"
      ]
     },
     "execution_count": 63,
     "metadata": {},
     "output_type": "execute_result"
    }
   ],
   "source": [
    "fit!(Final_SVM, rows=train, verbosity=2)"
   ]
  },
  {
   "cell_type": "code",
   "execution_count": 64,
   "metadata": {},
   "outputs": [],
   "source": [
    "ŷ2 = MLJ.predict(Final_SVM, X_stand[test,:]);"
   ]
  },
  {
   "cell_type": "code",
   "execution_count": 65,
   "metadata": {},
   "outputs": [
    {
     "data": {
      "text/plain": [
       "0.8801261829652997"
      ]
     },
     "execution_count": 65,
     "metadata": {},
     "output_type": "execute_result"
    }
   ],
   "source": [
    "accuracy(ŷ2, y[test])"
   ]
  },
  {
   "cell_type": "code",
   "execution_count": 66,
   "metadata": {},
   "outputs": [
    {
     "name": "stderr",
     "output_type": "stream",
     "text": [
      "┌ Warning: The classes are un-ordered,\n",
      "│ using: negative='NRB' and positive='RB'.\n",
      "│ To suppress this warning, consider coercing to OrderedFactor.\n",
      "└ @ MLJBase /home/andrew/.julia/packages/MLJBase/uKzAz/src/measures/confusion_matrix.jl:83\n"
     ]
    },
    {
     "data": {
      "text/plain": [
       "              ┌───────────────────────────┐\n",
       "              │       Ground Truth        │\n",
       "┌─────────────┼─────────────┬─────────────┤\n",
       "│  Predicted  │     NRB     │     RB      │\n",
       "├─────────────┼─────────────┼─────────────┤\n",
       "│     NRB     │     198     │     19      │\n",
       "├─────────────┼─────────────┼─────────────┤\n",
       "│     RB      │     19      │     81      │\n",
       "└─────────────┴─────────────┴─────────────┘\n"
      ]
     },
     "execution_count": 66,
     "metadata": {},
     "output_type": "execute_result"
    }
   ],
   "source": [
    "confusion_matrix(ŷ2, y[test])"
   ]
  },
  {
   "cell_type": "code",
   "execution_count": null,
   "metadata": {},
   "outputs": [],
   "source": []
  },
  {
   "cell_type": "code",
   "execution_count": null,
   "metadata": {},
   "outputs": [],
   "source": []
  }
 ],
 "metadata": {
  "kernelspec": {
   "display_name": "Julia 1.5.0",
   "language": "julia",
   "name": "julia-1.5"
  },
  "language_info": {
   "file_extension": ".jl",
   "mimetype": "application/julia",
   "name": "julia",
   "version": "1.5.0"
  }
 },
 "nbformat": 4,
 "nbformat_minor": 4
}
