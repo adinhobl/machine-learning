{
 "cells": [
  {
   "cell_type": "markdown",
   "metadata": {},
   "source": [
    "# Imports"
   ]
  },
  {
   "cell_type": "code",
   "execution_count": 1,
   "metadata": {},
   "outputs": [],
   "source": [
    "using DataFrames\n",
    "using CSV\n",
    "using MLJ\n",
    "using Plots\n",
    "using StatsBase\n",
    "\n",
    "include(\"../../lib.jl\")\n",
    "\n",
    "ENV[\"LINES\"]=30;"
   ]
  },
  {
   "cell_type": "markdown",
   "metadata": {},
   "source": [
    "# Dataset"
   ]
  },
  {
   "cell_type": "code",
   "execution_count": 2,
   "metadata": {
    "scrolled": true
   },
   "outputs": [
    {
     "data": {
      "text/html": [
       "<table class=\"data-frame\"><thead><tr><th></th><th>1</th><th>2</th><th>3</th><th>4</th><th>5</th><th>6</th><th>7</th><th>8</th><th>9</th><th>10</th><th>11</th></tr><tr><th></th><th>Float64</th><th>Float64</th><th>Int64</th><th>Int64</th><th>Int64</th><th>Int64</th><th>Int64</th><th>Float64</th><th>Int64</th><th>Int64</th><th>Int64</th></tr></thead><tbody><p>1,055 rows × 42 columns (omitted printing of 31 columns)</p><tr><th>1</th><td>3.919</td><td>2.6909</td><td>0</td><td>0</td><td>0</td><td>0</td><td>0</td><td>31.4</td><td>2</td><td>0</td><td>0</td></tr><tr><th>2</th><td>4.17</td><td>2.1144</td><td>0</td><td>0</td><td>0</td><td>0</td><td>0</td><td>30.8</td><td>1</td><td>1</td><td>0</td></tr><tr><th>3</th><td>3.932</td><td>3.2512</td><td>0</td><td>0</td><td>0</td><td>0</td><td>0</td><td>26.7</td><td>2</td><td>4</td><td>0</td></tr><tr><th>4</th><td>3.0</td><td>2.7098</td><td>0</td><td>0</td><td>0</td><td>0</td><td>0</td><td>20.0</td><td>0</td><td>2</td><td>0</td></tr><tr><th>5</th><td>4.236</td><td>3.3944</td><td>0</td><td>0</td><td>0</td><td>0</td><td>0</td><td>29.4</td><td>2</td><td>4</td><td>0</td></tr><tr><th>6</th><td>4.236</td><td>3.4286</td><td>0</td><td>0</td><td>0</td><td>0</td><td>0</td><td>28.6</td><td>2</td><td>4</td><td>0</td></tr><tr><th>7</th><td>5.0</td><td>5.0476</td><td>1</td><td>0</td><td>0</td><td>0</td><td>0</td><td>11.1</td><td>0</td><td>3</td><td>0</td></tr><tr><th>8</th><td>4.525</td><td>3.8301</td><td>0</td><td>0</td><td>0</td><td>0</td><td>0</td><td>31.6</td><td>3</td><td>2</td><td>0</td></tr><tr><th>9</th><td>4.596</td><td>3.0777</td><td>0</td><td>0</td><td>0</td><td>0</td><td>2</td><td>44.4</td><td>2</td><td>0</td><td>0</td></tr><tr><th>10</th><td>5.04</td><td>3.6112</td><td>0</td><td>0</td><td>1</td><td>0</td><td>2</td><td>41.2</td><td>0</td><td>4</td><td>3</td></tr><tr><th>11</th><td>4.91</td><td>2.7414</td><td>0</td><td>0</td><td>0</td><td>0</td><td>2</td><td>52.9</td><td>0</td><td>2</td><td>0</td></tr><tr><th>12</th><td>3.618</td><td>2.1906</td><td>0</td><td>0</td><td>0</td><td>0</td><td>0</td><td>29.4</td><td>2</td><td>0</td><td>0</td></tr><tr><th>13</th><td>4.214</td><td>2.6272</td><td>0</td><td>0</td><td>0</td><td>0</td><td>0</td><td>30.0</td><td>3</td><td>0</td><td>0</td></tr><tr><th>14</th><td>3.732</td><td>2.3391</td><td>0</td><td>0</td><td>0</td><td>0</td><td>0</td><td>30.0</td><td>2</td><td>0</td><td>0</td></tr><tr><th>15</th><td>3.879</td><td>2.5951</td><td>0</td><td>0</td><td>0</td><td>0</td><td>0</td><td>31.0</td><td>2</td><td>0</td><td>0</td></tr><tr><th>16</th><td>3.942</td><td>2.7719</td><td>1</td><td>0</td><td>0</td><td>0</td><td>0</td><td>31.6</td><td>2</td><td>0</td><td>0</td></tr><tr><th>17</th><td>3.966</td><td>2.852</td><td>1</td><td>0</td><td>0</td><td>0</td><td>0</td><td>32.0</td><td>2</td><td>0</td><td>0</td></tr><tr><th>18</th><td>3.732</td><td>2.3761</td><td>0</td><td>0</td><td>1</td><td>0</td><td>0</td><td>26.3</td><td>2</td><td>0</td><td>1</td></tr><tr><th>19</th><td>4.0</td><td>2.6264</td><td>0</td><td>0</td><td>0</td><td>0</td><td>0</td><td>23.1</td><td>0</td><td>0</td><td>0</td></tr><tr><th>20</th><td>2.0</td><td>1.1521</td><td>0</td><td>0</td><td>0</td><td>0</td><td>0</td><td>16.7</td><td>1</td><td>1</td><td>0</td></tr><tr><th>21</th><td>3.732</td><td>2.4062</td><td>0</td><td>0</td><td>0</td><td>0</td><td>0</td><td>27.8</td><td>2</td><td>1</td><td>0</td></tr><tr><th>22</th><td>4.0</td><td>2.3699</td><td>0</td><td>0</td><td>0</td><td>0</td><td>0</td><td>30.0</td><td>1</td><td>1</td><td>0</td></tr><tr><th>23</th><td>3.414</td><td>2.2525</td><td>0</td><td>0</td><td>0</td><td>0</td><td>0</td><td>20.0</td><td>2</td><td>2</td><td>0</td></tr><tr><th>24</th><td>4.17</td><td>2.8042</td><td>0</td><td>0</td><td>0</td><td>0</td><td>0</td><td>23.1</td><td>2</td><td>2</td><td>0</td></tr><tr><th>25</th><td>4.303</td><td>2.9558</td><td>0</td><td>0</td><td>0</td><td>0</td><td>0</td><td>25.0</td><td>2</td><td>2</td><td>0</td></tr><tr><th>26</th><td>3.414</td><td>2.6294</td><td>0</td><td>0</td><td>0</td><td>0</td><td>0</td><td>37.5</td><td>1</td><td>1</td><td>0</td></tr><tr><th>27</th><td>4.214</td><td>3.0057</td><td>0</td><td>0</td><td>0</td><td>0</td><td>0</td><td>25.0</td><td>1</td><td>2</td><td>0</td></tr><tr><th>28</th><td>3.848</td><td>2.8521</td><td>0</td><td>0</td><td>0</td><td>0</td><td>0</td><td>27.3</td><td>2</td><td>2</td><td>0</td></tr><tr><th>29</th><td>3.414</td><td>2.3729</td><td>0</td><td>0</td><td>0</td><td>0</td><td>0</td><td>30.0</td><td>1</td><td>1</td><td>0</td></tr><tr><th>30</th><td>4.393</td><td>3.6458</td><td>0</td><td>0</td><td>0</td><td>0</td><td>0</td><td>37.0</td><td>3</td><td>1</td><td>0</td></tr><tr><th>&vellip;</th><td>&vellip;</td><td>&vellip;</td><td>&vellip;</td><td>&vellip;</td><td>&vellip;</td><td>&vellip;</td><td>&vellip;</td><td>&vellip;</td><td>&vellip;</td><td>&vellip;</td><td>&vellip;</td></tr></tbody></table>"
      ],
      "text/latex": [
       "\\begin{tabular}{r|cccccccccccc}\n",
       "\t& 1 & 2 & 3 & 4 & 5 & 6 & 7 & 8 & 9 & 10 & 11 & \\\\\n",
       "\t\\hline\n",
       "\t& Float64 & Float64 & Int64 & Int64 & Int64 & Int64 & Int64 & Float64 & Int64 & Int64 & Int64 & \\\\\n",
       "\t\\hline\n",
       "\t1 & 3.919 & 2.6909 & 0 & 0 & 0 & 0 & 0 & 31.4 & 2 & 0 & 0 & $\\dots$ \\\\\n",
       "\t2 & 4.17 & 2.1144 & 0 & 0 & 0 & 0 & 0 & 30.8 & 1 & 1 & 0 & $\\dots$ \\\\\n",
       "\t3 & 3.932 & 3.2512 & 0 & 0 & 0 & 0 & 0 & 26.7 & 2 & 4 & 0 & $\\dots$ \\\\\n",
       "\t4 & 3.0 & 2.7098 & 0 & 0 & 0 & 0 & 0 & 20.0 & 0 & 2 & 0 & $\\dots$ \\\\\n",
       "\t5 & 4.236 & 3.3944 & 0 & 0 & 0 & 0 & 0 & 29.4 & 2 & 4 & 0 & $\\dots$ \\\\\n",
       "\t6 & 4.236 & 3.4286 & 0 & 0 & 0 & 0 & 0 & 28.6 & 2 & 4 & 0 & $\\dots$ \\\\\n",
       "\t7 & 5.0 & 5.0476 & 1 & 0 & 0 & 0 & 0 & 11.1 & 0 & 3 & 0 & $\\dots$ \\\\\n",
       "\t8 & 4.525 & 3.8301 & 0 & 0 & 0 & 0 & 0 & 31.6 & 3 & 2 & 0 & $\\dots$ \\\\\n",
       "\t9 & 4.596 & 3.0777 & 0 & 0 & 0 & 0 & 2 & 44.4 & 2 & 0 & 0 & $\\dots$ \\\\\n",
       "\t10 & 5.04 & 3.6112 & 0 & 0 & 1 & 0 & 2 & 41.2 & 0 & 4 & 3 & $\\dots$ \\\\\n",
       "\t11 & 4.91 & 2.7414 & 0 & 0 & 0 & 0 & 2 & 52.9 & 0 & 2 & 0 & $\\dots$ \\\\\n",
       "\t12 & 3.618 & 2.1906 & 0 & 0 & 0 & 0 & 0 & 29.4 & 2 & 0 & 0 & $\\dots$ \\\\\n",
       "\t13 & 4.214 & 2.6272 & 0 & 0 & 0 & 0 & 0 & 30.0 & 3 & 0 & 0 & $\\dots$ \\\\\n",
       "\t14 & 3.732 & 2.3391 & 0 & 0 & 0 & 0 & 0 & 30.0 & 2 & 0 & 0 & $\\dots$ \\\\\n",
       "\t15 & 3.879 & 2.5951 & 0 & 0 & 0 & 0 & 0 & 31.0 & 2 & 0 & 0 & $\\dots$ \\\\\n",
       "\t16 & 3.942 & 2.7719 & 1 & 0 & 0 & 0 & 0 & 31.6 & 2 & 0 & 0 & $\\dots$ \\\\\n",
       "\t17 & 3.966 & 2.852 & 1 & 0 & 0 & 0 & 0 & 32.0 & 2 & 0 & 0 & $\\dots$ \\\\\n",
       "\t18 & 3.732 & 2.3761 & 0 & 0 & 1 & 0 & 0 & 26.3 & 2 & 0 & 1 & $\\dots$ \\\\\n",
       "\t19 & 4.0 & 2.6264 & 0 & 0 & 0 & 0 & 0 & 23.1 & 0 & 0 & 0 & $\\dots$ \\\\\n",
       "\t20 & 2.0 & 1.1521 & 0 & 0 & 0 & 0 & 0 & 16.7 & 1 & 1 & 0 & $\\dots$ \\\\\n",
       "\t21 & 3.732 & 2.4062 & 0 & 0 & 0 & 0 & 0 & 27.8 & 2 & 1 & 0 & $\\dots$ \\\\\n",
       "\t22 & 4.0 & 2.3699 & 0 & 0 & 0 & 0 & 0 & 30.0 & 1 & 1 & 0 & $\\dots$ \\\\\n",
       "\t23 & 3.414 & 2.2525 & 0 & 0 & 0 & 0 & 0 & 20.0 & 2 & 2 & 0 & $\\dots$ \\\\\n",
       "\t24 & 4.17 & 2.8042 & 0 & 0 & 0 & 0 & 0 & 23.1 & 2 & 2 & 0 & $\\dots$ \\\\\n",
       "\t25 & 4.303 & 2.9558 & 0 & 0 & 0 & 0 & 0 & 25.0 & 2 & 2 & 0 & $\\dots$ \\\\\n",
       "\t26 & 3.414 & 2.6294 & 0 & 0 & 0 & 0 & 0 & 37.5 & 1 & 1 & 0 & $\\dots$ \\\\\n",
       "\t27 & 4.214 & 3.0057 & 0 & 0 & 0 & 0 & 0 & 25.0 & 1 & 2 & 0 & $\\dots$ \\\\\n",
       "\t28 & 3.848 & 2.8521 & 0 & 0 & 0 & 0 & 0 & 27.3 & 2 & 2 & 0 & $\\dots$ \\\\\n",
       "\t29 & 3.414 & 2.3729 & 0 & 0 & 0 & 0 & 0 & 30.0 & 1 & 1 & 0 & $\\dots$ \\\\\n",
       "\t30 & 4.393 & 3.6458 & 0 & 0 & 0 & 0 & 0 & 37.0 & 3 & 1 & 0 & $\\dots$ \\\\\n",
       "\t$\\dots$ & $\\dots$ & $\\dots$ & $\\dots$ & $\\dots$ & $\\dots$ & $\\dots$ & $\\dots$ & $\\dots$ & $\\dots$ & $\\dots$ & $\\dots$ &  \\\\\n",
       "\\end{tabular}\n"
      ],
      "text/plain": [
       "1055×42 DataFrame. Omitted printing of 34 columns\n",
       "│ Row  │ 1       │ 2       │ 3     │ 4     │ 5     │ 6     │ 7     │ 8       │\n",
       "│      │ \u001b[90mFloat64\u001b[39m │ \u001b[90mFloat64\u001b[39m │ \u001b[90mInt64\u001b[39m │ \u001b[90mInt64\u001b[39m │ \u001b[90mInt64\u001b[39m │ \u001b[90mInt64\u001b[39m │ \u001b[90mInt64\u001b[39m │ \u001b[90mFloat64\u001b[39m │\n",
       "├──────┼─────────┼─────────┼───────┼───────┼───────┼───────┼───────┼─────────┤\n",
       "│ 1    │ 3.919   │ 2.6909  │ 0     │ 0     │ 0     │ 0     │ 0     │ 31.4    │\n",
       "│ 2    │ 4.17    │ 2.1144  │ 0     │ 0     │ 0     │ 0     │ 0     │ 30.8    │\n",
       "│ 3    │ 3.932   │ 3.2512  │ 0     │ 0     │ 0     │ 0     │ 0     │ 26.7    │\n",
       "│ 4    │ 3.0     │ 2.7098  │ 0     │ 0     │ 0     │ 0     │ 0     │ 20.0    │\n",
       "│ 5    │ 4.236   │ 3.3944  │ 0     │ 0     │ 0     │ 0     │ 0     │ 29.4    │\n",
       "│ 6    │ 4.236   │ 3.4286  │ 0     │ 0     │ 0     │ 0     │ 0     │ 28.6    │\n",
       "│ 7    │ 5.0     │ 5.0476  │ 1     │ 0     │ 0     │ 0     │ 0     │ 11.1    │\n",
       "│ 8    │ 4.525   │ 3.8301  │ 0     │ 0     │ 0     │ 0     │ 0     │ 31.6    │\n",
       "│ 9    │ 4.596   │ 3.0777  │ 0     │ 0     │ 0     │ 0     │ 2     │ 44.4    │\n",
       "│ 10   │ 5.04    │ 3.6112  │ 0     │ 0     │ 1     │ 0     │ 2     │ 41.2    │\n",
       "⋮\n",
       "│ 1045 │ 4.807   │ 3.3179  │ 1     │ 0     │ 0     │ 0     │ 3     │ 43.8    │\n",
       "│ 1046 │ 4.607   │ 3.0008  │ 1     │ 0     │ 0     │ 0     │ 2     │ 41.2    │\n",
       "│ 1047 │ 5.313   │ 2.7782  │ 0     │ 0     │ 0     │ 1     │ 2     │ 40.0    │\n",
       "│ 1048 │ 5.103   │ 3.9184  │ 0     │ 0     │ 4     │ 0     │ 4     │ 35.0    │\n",
       "│ 1049 │ 5.265   │ 3.3444  │ 2     │ 0     │ 6     │ 0     │ 1     │ 35.3    │\n",
       "│ 1050 │ 5.029   │ 2.5966  │ 0     │ 0     │ 0     │ 0     │ 4     │ 46.7    │\n",
       "│ 1051 │ 5.431   │ 2.8955  │ 0     │ 0     │ 0     │ 2     │ 0     │ 32.1    │\n",
       "│ 1052 │ 5.287   │ 3.3732  │ 0     │ 0     │ 9     │ 0     │ 0     │ 35.3    │\n",
       "│ 1053 │ 4.869   │ 1.767   │ 0     │ 1     │ 9     │ 0     │ 5     │ 44.4    │\n",
       "│ 1054 │ 5.158   │ 1.6914  │ 2     │ 0     │ 36    │ 0     │ 9     │ 56.1    │\n",
       "│ 1055 │ 5.076   │ 2.6588  │ 2     │ 0     │ 0     │ 0     │ 4     │ 54.5    │"
      ]
     },
     "execution_count": 2,
     "metadata": {},
     "output_type": "execute_result"
    }
   ],
   "source": [
    "data = CSV.read(\"./data.csv\")"
   ]
  },
  {
   "cell_type": "code",
   "execution_count": 3,
   "metadata": {
    "scrolled": true
   },
   "outputs": [
    {
     "data": {
      "text/html": [
       "<table class=\"data-frame\"><thead><tr><th></th><th>variable</th><th>mean</th><th>min</th><th>median</th><th>max</th><th>nunique</th><th>nmissing</th><th>eltype</th></tr><tr><th></th><th>Symbol</th><th>Union…</th><th>Any</th><th>Union…</th><th>Any</th><th>Union…</th><th>Nothing</th><th>DataType</th></tr></thead><tbody><p>42 rows × 8 columns</p><tr><th>1</th><td>1</td><td>4.78264</td><td>2.0</td><td>4.828</td><td>6.496</td><td></td><td></td><td>Float64</td></tr><tr><th>2</th><td>2</td><td>3.06951</td><td>0.8039</td><td>3.0463</td><td>9.1775</td><td></td><td></td><td>Float64</td></tr><tr><th>3</th><td>3</td><td>0.716588</td><td>0</td><td>0.0</td><td>12</td><td></td><td></td><td>Int64</td></tr><tr><th>4</th><td>4</td><td>0.042654</td><td>0</td><td>0.0</td><td>3</td><td></td><td></td><td>Int64</td></tr><tr><th>5</th><td>5</td><td>0.980095</td><td>0</td><td>0.0</td><td>36</td><td></td><td></td><td>Int64</td></tr><tr><th>6</th><td>6</td><td>0.290047</td><td>0</td><td>0.0</td><td>13</td><td></td><td></td><td>Int64</td></tr><tr><th>7</th><td>7</td><td>1.64645</td><td>0</td><td>1.0</td><td>18</td><td></td><td></td><td>Int64</td></tr><tr><th>8</th><td>8</td><td>37.0556</td><td>0.0</td><td>37.5</td><td>60.7</td><td></td><td></td><td>Float64</td></tr><tr><th>9</th><td>9</td><td>1.3763</td><td>0</td><td>1.0</td><td>24</td><td></td><td></td><td>Int64</td></tr><tr><th>10</th><td>10</td><td>1.80379</td><td>0</td><td>2.0</td><td>12</td><td></td><td></td><td>Int64</td></tr><tr><th>11</th><td>11</td><td>1.43697</td><td>0</td><td>0.0</td><td>44</td><td></td><td></td><td>Int64</td></tr><tr><th>12</th><td>12</td><td>-0.197129</td><td>-5.256</td><td>0.0</td><td>4.722</td><td></td><td></td><td>Float64</td></tr><tr><th>13</th><td>13</td><td>3.47684</td><td>1.544</td><td>3.442</td><td>5.701</td><td></td><td></td><td>Float64</td></tr><tr><th>14</th><td>14</td><td>1.35072</td><td>0.0</td><td>1.187</td><td>4.491</td><td></td><td></td><td>Float64</td></tr><tr><th>15</th><td>15</td><td>9.93738</td><td>4.174</td><td>10.039</td><td>12.609</td><td></td><td></td><td>Float64</td></tr><tr><th>16</th><td>16</td><td>3.63033</td><td>0</td><td>2.0</td><td>40</td><td></td><td></td><td>Int64</td></tr><tr><th>17</th><td>17</td><td>1.0133</td><td>0.957</td><td>1.003</td><td>1.311</td><td></td><td></td><td>Float64</td></tr><tr><th>18</th><td>18</td><td>1.13111</td><td>1.022</td><td>1.13</td><td>1.377</td><td></td><td></td><td>Float64</td></tr><tr><th>19</th><td>19</td><td>0.00853081</td><td>0</td><td>0.0</td><td>2</td><td></td><td></td><td>Int64</td></tr><tr><th>20</th><td>20</td><td>0.0739336</td><td>0</td><td>0.0</td><td>3</td><td></td><td></td><td>Int64</td></tr><tr><th>21</th><td>21</td><td>0.0293839</td><td>0</td><td>0.0</td><td>3</td><td></td><td></td><td>Int64</td></tr><tr><th>22</th><td>22</td><td>1.23873</td><td>0.863</td><td>1.243</td><td>1.641</td><td></td><td></td><td>Float64</td></tr><tr><th>23</th><td>23</td><td>1.40569</td><td>0</td><td>1.0</td><td>147</td><td></td><td></td><td>Int64</td></tr><tr><th>24</th><td>24</td><td>0.0398104</td><td>0</td><td>0.0</td><td>1</td><td></td><td></td><td>Int64</td></tr><tr><th>25</th><td>25</td><td>0.147867</td><td>0</td><td>0.0</td><td>1</td><td></td><td></td><td>Int64</td></tr><tr><th>26</th><td>26</td><td>0.0312796</td><td>0</td><td>0.0</td><td>3</td><td></td><td></td><td>Int64</td></tr><tr><th>27</th><td>27</td><td>2.21564</td><td>1.0</td><td>2.247</td><td>2.859</td><td></td><td></td><td>Float64</td></tr><tr><th>28</th><td>28</td><td>-0.00120569</td><td>-1.099</td><td>0.0</td><td>1.073</td><td></td><td></td><td>Float64</td></tr><tr><th>29</th><td>29</td><td>0.0265403</td><td>0</td><td>0.0</td><td>1</td><td></td><td></td><td>Int64</td></tr><tr><th>30</th><td>30</td><td>8.78051</td><td>0.0</td><td>0.0</td><td>71.167</td><td></td><td></td><td>Float64</td></tr><tr><th>&vellip;</th><td>&vellip;</td><td>&vellip;</td><td>&vellip;</td><td>&vellip;</td><td>&vellip;</td><td>&vellip;</td><td>&vellip;</td><td>&vellip;</td></tr></tbody></table>"
      ],
      "text/latex": [
       "\\begin{tabular}{r|cccccccc}\n",
       "\t& variable & mean & min & median & max & nunique & nmissing & eltype\\\\\n",
       "\t\\hline\n",
       "\t& Symbol & Union… & Any & Union… & Any & Union… & Nothing & DataType\\\\\n",
       "\t\\hline\n",
       "\t1 & 1 & 4.78264 & 2.0 & 4.828 & 6.496 &  &  & Float64 \\\\\n",
       "\t2 & 2 & 3.06951 & 0.8039 & 3.0463 & 9.1775 &  &  & Float64 \\\\\n",
       "\t3 & 3 & 0.716588 & 0 & 0.0 & 12 &  &  & Int64 \\\\\n",
       "\t4 & 4 & 0.042654 & 0 & 0.0 & 3 &  &  & Int64 \\\\\n",
       "\t5 & 5 & 0.980095 & 0 & 0.0 & 36 &  &  & Int64 \\\\\n",
       "\t6 & 6 & 0.290047 & 0 & 0.0 & 13 &  &  & Int64 \\\\\n",
       "\t7 & 7 & 1.64645 & 0 & 1.0 & 18 &  &  & Int64 \\\\\n",
       "\t8 & 8 & 37.0556 & 0.0 & 37.5 & 60.7 &  &  & Float64 \\\\\n",
       "\t9 & 9 & 1.3763 & 0 & 1.0 & 24 &  &  & Int64 \\\\\n",
       "\t10 & 10 & 1.80379 & 0 & 2.0 & 12 &  &  & Int64 \\\\\n",
       "\t11 & 11 & 1.43697 & 0 & 0.0 & 44 &  &  & Int64 \\\\\n",
       "\t12 & 12 & -0.197129 & -5.256 & 0.0 & 4.722 &  &  & Float64 \\\\\n",
       "\t13 & 13 & 3.47684 & 1.544 & 3.442 & 5.701 &  &  & Float64 \\\\\n",
       "\t14 & 14 & 1.35072 & 0.0 & 1.187 & 4.491 &  &  & Float64 \\\\\n",
       "\t15 & 15 & 9.93738 & 4.174 & 10.039 & 12.609 &  &  & Float64 \\\\\n",
       "\t16 & 16 & 3.63033 & 0 & 2.0 & 40 &  &  & Int64 \\\\\n",
       "\t17 & 17 & 1.0133 & 0.957 & 1.003 & 1.311 &  &  & Float64 \\\\\n",
       "\t18 & 18 & 1.13111 & 1.022 & 1.13 & 1.377 &  &  & Float64 \\\\\n",
       "\t19 & 19 & 0.00853081 & 0 & 0.0 & 2 &  &  & Int64 \\\\\n",
       "\t20 & 20 & 0.0739336 & 0 & 0.0 & 3 &  &  & Int64 \\\\\n",
       "\t21 & 21 & 0.0293839 & 0 & 0.0 & 3 &  &  & Int64 \\\\\n",
       "\t22 & 22 & 1.23873 & 0.863 & 1.243 & 1.641 &  &  & Float64 \\\\\n",
       "\t23 & 23 & 1.40569 & 0 & 1.0 & 147 &  &  & Int64 \\\\\n",
       "\t24 & 24 & 0.0398104 & 0 & 0.0 & 1 &  &  & Int64 \\\\\n",
       "\t25 & 25 & 0.147867 & 0 & 0.0 & 1 &  &  & Int64 \\\\\n",
       "\t26 & 26 & 0.0312796 & 0 & 0.0 & 3 &  &  & Int64 \\\\\n",
       "\t27 & 27 & 2.21564 & 1.0 & 2.247 & 2.859 &  &  & Float64 \\\\\n",
       "\t28 & 28 & -0.00120569 & -1.099 & 0.0 & 1.073 &  &  & Float64 \\\\\n",
       "\t29 & 29 & 0.0265403 & 0 & 0.0 & 1 &  &  & Int64 \\\\\n",
       "\t30 & 30 & 8.78051 & 0.0 & 0.0 & 71.167 &  &  & Float64 \\\\\n",
       "\t$\\dots$ & $\\dots$ & $\\dots$ & $\\dots$ & $\\dots$ & $\\dots$ & $\\dots$ & $\\dots$ & $\\dots$ \\\\\n",
       "\\end{tabular}\n"
      ],
      "text/plain": [
       "42×8 DataFrame. Omitted printing of 1 columns\n",
       "│ Row │ variable │ mean      │ min    │ median │ max    │ nunique │ nmissing │\n",
       "│     │ \u001b[90mSymbol\u001b[39m   │ \u001b[90mUnion…\u001b[39m    │ \u001b[90mAny\u001b[39m    │ \u001b[90mUnion…\u001b[39m │ \u001b[90mAny\u001b[39m    │ \u001b[90mUnion…\u001b[39m  │ \u001b[90mNothing\u001b[39m  │\n",
       "├─────┼──────────┼───────────┼────────┼────────┼────────┼─────────┼──────────┤\n",
       "│ 1   │ 1        │ 4.78264   │ 2.0    │ 4.828  │ 6.496  │         │          │\n",
       "│ 2   │ 2        │ 3.06951   │ 0.8039 │ 3.0463 │ 9.1775 │         │          │\n",
       "│ 3   │ 3        │ 0.716588  │ 0      │ 0.0    │ 12     │         │          │\n",
       "│ 4   │ 4        │ 0.042654  │ 0      │ 0.0    │ 3      │         │          │\n",
       "│ 5   │ 5        │ 0.980095  │ 0      │ 0.0    │ 36     │         │          │\n",
       "│ 6   │ 6        │ 0.290047  │ 0      │ 0.0    │ 13     │         │          │\n",
       "│ 7   │ 7        │ 1.64645   │ 0      │ 1.0    │ 18     │         │          │\n",
       "│ 8   │ 8        │ 37.0556   │ 0.0    │ 37.5   │ 60.7   │         │          │\n",
       "│ 9   │ 9        │ 1.3763    │ 0      │ 1.0    │ 24     │         │          │\n",
       "│ 10  │ 10       │ 1.80379   │ 0      │ 2.0    │ 12     │         │          │\n",
       "⋮\n",
       "│ 32  │ 32       │ 0.129858  │ 0      │ 0.0    │ 8      │         │          │\n",
       "│ 33  │ 33       │ 0.883412  │ 0      │ 0.0    │ 12     │         │          │\n",
       "│ 34  │ 34       │ 1.27488   │ 0      │ 0.0    │ 18     │         │          │\n",
       "│ 35  │ 35       │ 0.961137  │ 0      │ 1.0    │ 7      │         │          │\n",
       "│ 36  │ 36       │ 3.91824   │ 2.267  │ 3.726  │ 10.695 │         │          │\n",
       "│ 37  │ 37       │ 2.55842   │ 1.467  │ 2.458  │ 5.825  │         │          │\n",
       "│ 38  │ 38       │ 0.686256  │ 0      │ 0.0    │ 8      │         │          │\n",
       "│ 39  │ 39       │ 8.62949   │ 4.917  │ 8.499  │ 14.7   │         │          │\n",
       "│ 40  │ 40       │ 0.0511848 │ 0      │ 0.0    │ 4      │         │          │\n",
       "│ 41  │ 41       │ 0.723223  │ 0      │ 0.0    │ 27     │         │          │\n",
       "│ 42  │ Class    │           │ NRB    │        │ RB     │ 2       │          │"
      ]
     },
     "execution_count": 3,
     "metadata": {},
     "output_type": "execute_result"
    }
   ],
   "source": [
    "describe(data)"
   ]
  },
  {
   "cell_type": "markdown",
   "metadata": {},
   "source": [
    "Look at class labels to see if dataset is imbalanced"
   ]
  },
  {
   "cell_type": "code",
   "execution_count": 4,
   "metadata": {},
   "outputs": [
    {
     "data": {
      "text/plain": [
       "Dict{String,Int64} with 2 entries:\n",
       "  \"RB\"  => 356\n",
       "  \"NRB\" => 699"
      ]
     },
     "execution_count": 4,
     "metadata": {},
     "output_type": "execute_result"
    }
   ],
   "source": [
    "label_counts = countmap(data[:(Class)])"
   ]
  },
  {
   "cell_type": "code",
   "execution_count": 5,
   "metadata": {},
   "outputs": [
    {
     "data": {
      "text/plain": [
       "2-element Array{Float64,1}:\n",
       " 0.33744075829383885\n",
       " 0.6625592417061611"
      ]
     },
     "execution_count": 5,
     "metadata": {},
     "output_type": "execute_result"
    }
   ],
   "source": [
    "collect(label_counts[i] / size(data)[1] for i in keys(label_counts))"
   ]
  },
  {
   "cell_type": "markdown",
   "metadata": {},
   "source": [
    "Get data ready for training"
   ]
  },
  {
   "cell_type": "code",
   "execution_count": 6,
   "metadata": {
    "scrolled": true
   },
   "outputs": [
    {
     "data": {
      "text/plain": [
       "┌\u001b[0m─────────\u001b[0m┬\u001b[0m─────────────────────────────────\u001b[0m┬\u001b[0m───────────────\u001b[0m┐\u001b[0m\n",
       "│\u001b[0m\u001b[22m _.names \u001b[0m│\u001b[0m\u001b[22m _.types                         \u001b[0m│\u001b[0m\u001b[22m _.scitypes    \u001b[0m│\u001b[0m\n",
       "├\u001b[0m─────────\u001b[0m┼\u001b[0m─────────────────────────────────\u001b[0m┼\u001b[0m───────────────\u001b[0m┤\u001b[0m\n",
       "│\u001b[0m 1       \u001b[0m│\u001b[0m Float64                         \u001b[0m│\u001b[0m Continuous    \u001b[0m│\u001b[0m\n",
       "│\u001b[0m 2       \u001b[0m│\u001b[0m Float64                         \u001b[0m│\u001b[0m Continuous    \u001b[0m│\u001b[0m\n",
       "│\u001b[0m 3       \u001b[0m│\u001b[0m Int64                           \u001b[0m│\u001b[0m Count         \u001b[0m│\u001b[0m\n",
       "│\u001b[0m 4       \u001b[0m│\u001b[0m Int64                           \u001b[0m│\u001b[0m Count         \u001b[0m│\u001b[0m\n",
       "│\u001b[0m 5       \u001b[0m│\u001b[0m Int64                           \u001b[0m│\u001b[0m Count         \u001b[0m│\u001b[0m\n",
       "│\u001b[0m 6       \u001b[0m│\u001b[0m Int64                           \u001b[0m│\u001b[0m Count         \u001b[0m│\u001b[0m\n",
       "│\u001b[0m 7       \u001b[0m│\u001b[0m Int64                           \u001b[0m│\u001b[0m Count         \u001b[0m│\u001b[0m\n",
       "│\u001b[0m 8       \u001b[0m│\u001b[0m Float64                         \u001b[0m│\u001b[0m Continuous    \u001b[0m│\u001b[0m\n",
       "│\u001b[0m 9       \u001b[0m│\u001b[0m Int64                           \u001b[0m│\u001b[0m Count         \u001b[0m│\u001b[0m\n",
       "│\u001b[0m 10      \u001b[0m│\u001b[0m Int64                           \u001b[0m│\u001b[0m Count         \u001b[0m│\u001b[0m\n",
       "│\u001b[0m 11      \u001b[0m│\u001b[0m Int64                           \u001b[0m│\u001b[0m Count         \u001b[0m│\u001b[0m\n",
       "│\u001b[0m 12      \u001b[0m│\u001b[0m Float64                         \u001b[0m│\u001b[0m Continuous    \u001b[0m│\u001b[0m\n",
       "│\u001b[0m 13      \u001b[0m│\u001b[0m Float64                         \u001b[0m│\u001b[0m Continuous    \u001b[0m│\u001b[0m\n",
       "│\u001b[0m 14      \u001b[0m│\u001b[0m Float64                         \u001b[0m│\u001b[0m Continuous    \u001b[0m│\u001b[0m\n",
       "│\u001b[0m 15      \u001b[0m│\u001b[0m Float64                         \u001b[0m│\u001b[0m Continuous    \u001b[0m│\u001b[0m\n",
       "│\u001b[0m 16      \u001b[0m│\u001b[0m Int64                           \u001b[0m│\u001b[0m Count         \u001b[0m│\u001b[0m\n",
       "│\u001b[0m 17      \u001b[0m│\u001b[0m Float64                         \u001b[0m│\u001b[0m Continuous    \u001b[0m│\u001b[0m\n",
       "│\u001b[0m 18      \u001b[0m│\u001b[0m Float64                         \u001b[0m│\u001b[0m Continuous    \u001b[0m│\u001b[0m\n",
       "│\u001b[0m 19      \u001b[0m│\u001b[0m Int64                           \u001b[0m│\u001b[0m Count         \u001b[0m│\u001b[0m\n",
       "│\u001b[0m 20      \u001b[0m│\u001b[0m Int64                           \u001b[0m│\u001b[0m Count         \u001b[0m│\u001b[0m\n",
       "│\u001b[0m 21      \u001b[0m│\u001b[0m Int64                           \u001b[0m│\u001b[0m Count         \u001b[0m│\u001b[0m\n",
       "│\u001b[0m 22      \u001b[0m│\u001b[0m Float64                         \u001b[0m│\u001b[0m Continuous    \u001b[0m│\u001b[0m\n",
       "│\u001b[0m 23      \u001b[0m│\u001b[0m Int64                           \u001b[0m│\u001b[0m Count         \u001b[0m│\u001b[0m\n",
       "│\u001b[0m 24      \u001b[0m│\u001b[0m Int64                           \u001b[0m│\u001b[0m Count         \u001b[0m│\u001b[0m\n",
       "│\u001b[0m 25      \u001b[0m│\u001b[0m Int64                           \u001b[0m│\u001b[0m Count         \u001b[0m│\u001b[0m\n",
       "│\u001b[0m 26      \u001b[0m│\u001b[0m Int64                           \u001b[0m│\u001b[0m Count         \u001b[0m│\u001b[0m\n",
       "│\u001b[0m 27      \u001b[0m│\u001b[0m Float64                         \u001b[0m│\u001b[0m Continuous    \u001b[0m│\u001b[0m\n",
       "│\u001b[0m 28      \u001b[0m│\u001b[0m Float64                         \u001b[0m│\u001b[0m Continuous    \u001b[0m│\u001b[0m\n",
       "│\u001b[0m 29      \u001b[0m│\u001b[0m Int64                           \u001b[0m│\u001b[0m Count         \u001b[0m│\u001b[0m\n",
       "│\u001b[0m 30      \u001b[0m│\u001b[0m Float64                         \u001b[0m│\u001b[0m Continuous    \u001b[0m│\u001b[0m\n",
       "│\u001b[0m 31      \u001b[0m│\u001b[0m Float64                         \u001b[0m│\u001b[0m Continuous    \u001b[0m│\u001b[0m\n",
       "│\u001b[0m 32      \u001b[0m│\u001b[0m Int64                           \u001b[0m│\u001b[0m Count         \u001b[0m│\u001b[0m\n",
       "│\u001b[0m 33      \u001b[0m│\u001b[0m Int64                           \u001b[0m│\u001b[0m Count         \u001b[0m│\u001b[0m\n",
       "│\u001b[0m 34      \u001b[0m│\u001b[0m Int64                           \u001b[0m│\u001b[0m Count         \u001b[0m│\u001b[0m\n",
       "│\u001b[0m 35      \u001b[0m│\u001b[0m Int64                           \u001b[0m│\u001b[0m Count         \u001b[0m│\u001b[0m\n",
       "│\u001b[0m 36      \u001b[0m│\u001b[0m Float64                         \u001b[0m│\u001b[0m Continuous    \u001b[0m│\u001b[0m\n",
       "│\u001b[0m 37      \u001b[0m│\u001b[0m Float64                         \u001b[0m│\u001b[0m Continuous    \u001b[0m│\u001b[0m\n",
       "│\u001b[0m 38      \u001b[0m│\u001b[0m Int64                           \u001b[0m│\u001b[0m Count         \u001b[0m│\u001b[0m\n",
       "│\u001b[0m 39      \u001b[0m│\u001b[0m Float64                         \u001b[0m│\u001b[0m Continuous    \u001b[0m│\u001b[0m\n",
       "│\u001b[0m 40      \u001b[0m│\u001b[0m Int64                           \u001b[0m│\u001b[0m Count         \u001b[0m│\u001b[0m\n",
       "│\u001b[0m 41      \u001b[0m│\u001b[0m Int64                           \u001b[0m│\u001b[0m Count         \u001b[0m│\u001b[0m\n",
       "│\u001b[0m Class   \u001b[0m│\u001b[0m CategoricalValue{String,UInt32} \u001b[0m│\u001b[0m Multiclass{2} \u001b[0m│\u001b[0m\n",
       "└\u001b[0m─────────\u001b[0m┴\u001b[0m─────────────────────────────────\u001b[0m┴\u001b[0m───────────────\u001b[0m┘\u001b[0m\n",
       "_.nrows = 1055\n"
      ]
     },
     "execution_count": 6,
     "metadata": {},
     "output_type": "execute_result"
    }
   ],
   "source": [
    "coerce!(data, :Class=>Multiclass)\n",
    "schema(data)"
   ]
  },
  {
   "cell_type": "code",
   "execution_count": 7,
   "metadata": {
    "scrolled": true
   },
   "outputs": [
    {
     "data": {
      "text/plain": [
       "(CategoricalValue{String,UInt32}[\"RB\", \"RB\", \"RB\", \"RB\", \"RB\", \"RB\", \"RB\", \"RB\", \"RB\", \"RB\"  …  \"NRB\", \"NRB\", \"NRB\", \"NRB\", \"NRB\", \"NRB\", \"NRB\", \"NRB\", \"NRB\", \"NRB\"], 1055×41 DataFrame. Omitted printing of 33 columns\n",
       "│ Row  │ 1       │ 2       │ 3     │ 4     │ 5     │ 6     │ 7     │ 8       │\n",
       "│      │ \u001b[90mFloat64\u001b[39m │ \u001b[90mFloat64\u001b[39m │ \u001b[90mInt64\u001b[39m │ \u001b[90mInt64\u001b[39m │ \u001b[90mInt64\u001b[39m │ \u001b[90mInt64\u001b[39m │ \u001b[90mInt64\u001b[39m │ \u001b[90mFloat64\u001b[39m │\n",
       "├──────┼─────────┼─────────┼───────┼───────┼───────┼───────┼───────┼─────────┤\n",
       "│ 1    │ 3.919   │ 2.6909  │ 0     │ 0     │ 0     │ 0     │ 0     │ 31.4    │\n",
       "│ 2    │ 4.17    │ 2.1144  │ 0     │ 0     │ 0     │ 0     │ 0     │ 30.8    │\n",
       "│ 3    │ 3.932   │ 3.2512  │ 0     │ 0     │ 0     │ 0     │ 0     │ 26.7    │\n",
       "│ 4    │ 3.0     │ 2.7098  │ 0     │ 0     │ 0     │ 0     │ 0     │ 20.0    │\n",
       "│ 5    │ 4.236   │ 3.3944  │ 0     │ 0     │ 0     │ 0     │ 0     │ 29.4    │\n",
       "│ 6    │ 4.236   │ 3.4286  │ 0     │ 0     │ 0     │ 0     │ 0     │ 28.6    │\n",
       "│ 7    │ 5.0     │ 5.0476  │ 1     │ 0     │ 0     │ 0     │ 0     │ 11.1    │\n",
       "│ 8    │ 4.525   │ 3.8301  │ 0     │ 0     │ 0     │ 0     │ 0     │ 31.6    │\n",
       "│ 9    │ 4.596   │ 3.0777  │ 0     │ 0     │ 0     │ 0     │ 2     │ 44.4    │\n",
       "│ 10   │ 5.04    │ 3.6112  │ 0     │ 0     │ 1     │ 0     │ 2     │ 41.2    │\n",
       "⋮\n",
       "│ 1045 │ 4.807   │ 3.3179  │ 1     │ 0     │ 0     │ 0     │ 3     │ 43.8    │\n",
       "│ 1046 │ 4.607   │ 3.0008  │ 1     │ 0     │ 0     │ 0     │ 2     │ 41.2    │\n",
       "│ 1047 │ 5.313   │ 2.7782  │ 0     │ 0     │ 0     │ 1     │ 2     │ 40.0    │\n",
       "│ 1048 │ 5.103   │ 3.9184  │ 0     │ 0     │ 4     │ 0     │ 4     │ 35.0    │\n",
       "│ 1049 │ 5.265   │ 3.3444  │ 2     │ 0     │ 6     │ 0     │ 1     │ 35.3    │\n",
       "│ 1050 │ 5.029   │ 2.5966  │ 0     │ 0     │ 0     │ 0     │ 4     │ 46.7    │\n",
       "│ 1051 │ 5.431   │ 2.8955  │ 0     │ 0     │ 0     │ 2     │ 0     │ 32.1    │\n",
       "│ 1052 │ 5.287   │ 3.3732  │ 0     │ 0     │ 9     │ 0     │ 0     │ 35.3    │\n",
       "│ 1053 │ 4.869   │ 1.767   │ 0     │ 1     │ 9     │ 0     │ 5     │ 44.4    │\n",
       "│ 1054 │ 5.158   │ 1.6914  │ 2     │ 0     │ 36    │ 0     │ 9     │ 56.1    │\n",
       "│ 1055 │ 5.076   │ 2.6588  │ 2     │ 0     │ 0     │ 0     │ 4     │ 54.5    │)"
      ]
     },
     "execution_count": 7,
     "metadata": {},
     "output_type": "execute_result"
    }
   ],
   "source": [
    "y, X = unpack(data, ==(:Class), colname->true)"
   ]
  },
  {
   "cell_type": "markdown",
   "metadata": {},
   "source": [
    "Partition train and test data accoring to class labels"
   ]
  },
  {
   "cell_type": "code",
   "execution_count": 8,
   "metadata": {},
   "outputs": [
    {
     "data": {
      "text/plain": [
       "([465, 562, 278, 619, 161, 972, 782, 321, 537, 760  …  12, 913, 471, 13, 1006, 802, 112, 840, 744, 261], [196, 586, 245, 77, 1028, 432, 215, 987, 137, 411  …  975, 610, 886, 848, 731, 1024, 805, 500, 659, 415])"
      ]
     },
     "execution_count": 8,
     "metadata": {},
     "output_type": "execute_result"
    }
   ],
   "source": [
    "# data to use when trying to fit a single validation set\n",
    "train, test = partition(eachindex(y), 0.7, shuffle=true, rng=123, stratify=values(data[:Class])) # gives 70:30 split"
   ]
  },
  {
   "cell_type": "code",
   "execution_count": 9,
   "metadata": {},
   "outputs": [
    {
     "data": {
      "text/plain": [
       "2-element Array{Float64,1}:\n",
       " 0.33739837398373984\n",
       " 0.6626016260162602"
      ]
     },
     "execution_count": 9,
     "metadata": {},
     "output_type": "execute_result"
    }
   ],
   "source": [
    "train_counts = countmap(data[train,:Class])\n",
    "collect(train_counts[i] / size(train)[1] for i in keys(train_counts))"
   ]
  },
  {
   "cell_type": "code",
   "execution_count": 10,
   "metadata": {},
   "outputs": [
    {
     "data": {
      "text/plain": [
       "2-element Array{Float64,1}:\n",
       " 0.33753943217665616\n",
       " 0.6624605678233438"
      ]
     },
     "execution_count": 10,
     "metadata": {},
     "output_type": "execute_result"
    }
   ],
   "source": [
    "test_counts = countmap(data[test,:Class])\n",
    "collect(test_counts[i] / size(test)[1] for i in keys(test_counts))"
   ]
  },
  {
   "cell_type": "code",
   "execution_count": 42,
   "metadata": {},
   "outputs": [
    {
     "name": "stderr",
     "output_type": "stream",
     "text": [
      "┌ Info: Training \u001b[34mMachine{Standardizer} @258\u001b[39m.\n",
      "└ @ MLJBase /home/andrew/.julia/packages/MLJBase/uKzAz/src/machines.jl:319\n"
     ]
    }
   ],
   "source": [
    "standardizer = Standardizer()\n",
    "stand = machine(standardizer, X[train,:]) #only want to standardize on training distribution\n",
    "fit!(stand)\n",
    "X_stand = MLJ.transform(stand, X);"
   ]
  },
  {
   "cell_type": "markdown",
   "metadata": {},
   "source": [
    "# Five Learning Algorithms\n",
    "\n",
    "* Decision trees with some form of pruning\n",
    "* Neural networks\n",
    "* Boosting\n",
    "* Support Vector Machines\n",
    "* k-nearest neighbors\n",
    "\n",
    "\n",
    "##### Testing\n",
    "* Implement the algorithms\n",
    "* Design two *interesting* classification problems. For the purposes of this assignment, a classification problem is just a set of training examples and a set of test examples."
   ]
  },
  {
   "cell_type": "code",
   "execution_count": 43,
   "metadata": {
    "scrolled": true
   },
   "outputs": [
    {
     "data": {
      "text/plain": [
       "6-element Array{NamedTuple{(:name, :package_name, :is_supervised, :docstring, :hyperparameter_ranges, :hyperparameter_types, :hyperparameters, :implemented_methods, :is_pure_julia, :is_wrapper, :load_path, :package_license, :package_url, :package_uuid, :prediction_type, :supports_online, :supports_weights, :input_scitype, :target_scitype, :output_scitype),T} where T<:Tuple,1}:\n",
       " (name = AdaBoostStumpClassifier, package_name = DecisionTree, ... )\n",
       " (name = ConstantClassifier, package_name = MLJModels, ... )\n",
       " (name = DecisionTreeClassifier, package_name = DecisionTree, ... )\n",
       " (name = DeterministicConstantClassifier, package_name = MLJModels, ... )\n",
       " (name = RandomForestClassifier, package_name = DecisionTree, ... )\n",
       " (name = RandomForestClassifier, package_name = ScikitLearn, ... )"
      ]
     },
     "execution_count": 43,
     "metadata": {},
     "output_type": "execute_result"
    }
   ],
   "source": [
    "models(matching(X,y))"
   ]
  },
  {
   "cell_type": "code",
   "execution_count": 71,
   "metadata": {},
   "outputs": [
    {
     "name": "stdout",
     "output_type": "stream",
     "text": [
      "import MLJScikitLearnInterface ✔\n",
      "import MLJScikitLearnInterface ✔\n"
     ]
    },
    {
     "name": "stderr",
     "output_type": "stream",
     "text": [
      "┌ Info: Loading into module \"Main\": \n",
      "└ @ MLJModels /home/andrew/.julia/packages/MLJModels/mUBFt/src/loading.jl:70\n",
      "┌ Warning: New model type being bound to `AdaBoostClassifier3` to avoid conflict with an existing name. \n",
      "└ @ MLJModels /home/andrew/.julia/packages/MLJModels/mUBFt/src/loading.jl:78\n"
     ]
    },
    {
     "data": {
      "text/plain": [
       "AdaBoostClassifier(\n",
       "    base_estimator = nothing,\n",
       "    n_estimators = 50,\n",
       "    learning_rate = 1.0,\n",
       "    algorithm = \"SAMME.R\",\n",
       "    random_state = nothing)\u001b[34m @227\u001b[39m"
      ]
     },
     "execution_count": 71,
     "metadata": {},
     "output_type": "execute_result"
    }
   ],
   "source": [
    "@load AdaBoostClassifier verbosity=2"
   ]
  },
  {
   "cell_type": "markdown",
   "metadata": {},
   "source": [
    "### Boosting\n",
    "* Implement or steal a boosted version of your decision trees. \n",
    "* As before, you will want to use some form of pruning, but presumably because you're using boosting you can afford to be much more aggressive about your pruning.\n",
    "\n",
    "**Chooses the hardest examples** talk about in write-up"
   ]
  },
  {
   "cell_type": "code",
   "execution_count": 78,
   "metadata": {},
   "outputs": [
    {
     "data": {
      "text/plain": [
       "AdaBoostClassifier(\n",
       "    base_estimator = nothing,\n",
       "    n_estimators = 50,\n",
       "    learning_rate = 1.0,\n",
       "    algorithm = \"SAMME.R\",\n",
       "    random_state = 123)\u001b[34m @490\u001b[39m"
      ]
     },
     "execution_count": 78,
     "metadata": {},
     "output_type": "execute_result"
    }
   ],
   "source": [
    "boost_model = AdaBoostClassifier(random_state=123)"
   ]
  },
  {
   "cell_type": "code",
   "execution_count": 79,
   "metadata": {},
   "outputs": [
    {
     "name": "stderr",
     "output_type": "stream",
     "text": [
      "┌ Warning: The scitype of `X`, in `machine(model, X, ...)` is incompatible with `model=\u001b[34mAdaBoostClassifier @490\u001b[39m`:\n",
      "│ scitype(X) = Table{Union{AbstractArray{Continuous,1}, AbstractArray{Count,1}}}\n",
      "│ input_scitype(model) = Table{var\"#s44\"} where var\"#s44\"<:(AbstractArray{var\"#s13\",1} where var\"#s13\"<:Continuous).\n",
      "└ @ MLJBase /home/andrew/.julia/packages/MLJBase/uKzAz/src/machines.jl:77\n"
     ]
    },
    {
     "data": {
      "text/plain": [
       "\u001b[34mMachine{AdaBoostClassifier} @623\u001b[39m trained 0 times.\n",
       "  args: \n",
       "    1:\t\u001b[34mSource @145\u001b[39m ⏎ `Table{Union{AbstractArray{Continuous,1}, AbstractArray{Count,1}}}`\n",
       "    2:\t\u001b[34mSource @328\u001b[39m ⏎ `AbstractArray{Multiclass{2},1}`\n"
      ]
     },
     "execution_count": 79,
     "metadata": {},
     "output_type": "execute_result"
    }
   ],
   "source": [
    "boost_mach = machine(boost_model, X_stand, y)"
   ]
  },
  {
   "cell_type": "code",
   "execution_count": 80,
   "metadata": {},
   "outputs": [
    {
     "name": "stderr",
     "output_type": "stream",
     "text": [
      "┌ Info: Training \u001b[34mMachine{AdaBoostClassifier} @623\u001b[39m.\n",
      "└ @ MLJBase /home/andrew/.julia/packages/MLJBase/uKzAz/src/machines.jl:319\n"
     ]
    },
    {
     "data": {
      "text/plain": [
       "\u001b[34mMachine{AdaBoostClassifier} @623\u001b[39m trained 1 time.\n",
       "  args: \n",
       "    1:\t\u001b[34mSource @145\u001b[39m ⏎ `Table{Union{AbstractArray{Continuous,1}, AbstractArray{Count,1}}}`\n",
       "    2:\t\u001b[34mSource @328\u001b[39m ⏎ `AbstractArray{Multiclass{2},1}`\n"
      ]
     },
     "execution_count": 80,
     "metadata": {},
     "output_type": "execute_result"
    }
   ],
   "source": [
    "fit!(boost_mach, rows=train, verbosity=2)"
   ]
  },
  {
   "cell_type": "code",
   "execution_count": 81,
   "metadata": {
    "scrolled": true
   },
   "outputs": [
    {
     "name": "stderr",
     "output_type": "stream",
     "text": [
      "\u001b[33mEvaluating over 6 folds: 100%[=========================] Time: 0:00:00\u001b[39m\n"
     ]
    },
    {
     "data": {
      "text/plain": [
       "┌\u001b[0m───────────────\u001b[0m┬\u001b[0m───────────────\u001b[0m┬\u001b[0m────────────────────────────────────────────\u001b[0m┐\u001b[0m\n",
       "│\u001b[0m\u001b[22m _.measure     \u001b[0m│\u001b[0m\u001b[22m _.measurement \u001b[0m│\u001b[0m\u001b[22m _.per_fold                                 \u001b[0m│\u001b[0m\n",
       "├\u001b[0m───────────────\u001b[0m┼\u001b[0m───────────────\u001b[0m┼\u001b[0m────────────────────────────────────────────\u001b[0m┤\u001b[0m\n",
       "│\u001b[0m cross_entropy \u001b[0m│\u001b[0m 0.632         \u001b[0m│\u001b[0m [0.633, 0.613, 0.627, 0.644, 0.651, 0.625] \u001b[0m│\u001b[0m\n",
       "│\u001b[0m acc           \u001b[0m│\u001b[0m 0.853         \u001b[0m│\u001b[0m [0.92, 0.847, 0.818, 0.841, 0.858, 0.834]  \u001b[0m│\u001b[0m\n",
       "└\u001b[0m───────────────\u001b[0m┴\u001b[0m───────────────\u001b[0m┴\u001b[0m────────────────────────────────────────────\u001b[0m┘\u001b[0m\n",
       "_.per_observation = [[[0.687, 0.676, ..., 0.354], [0.686, 0.683, ..., 0.352], [0.641, 0.721, ..., 0.652], [0.7, 0.691, ..., 0.64], [0.655, 0.623, ..., 0.691], [0.678, 0.637, ..., 0.635]], missing]\n",
       "_.fitted_params_per_fold = [ … ]\n",
       "_.report_per_fold = [ … ]\n"
      ]
     },
     "execution_count": 81,
     "metadata": {},
     "output_type": "execute_result"
    }
   ],
   "source": [
    "boost_acc = evaluate!(boost_mach, resampling=CV(shuffle=true), measure=[cross_entropy, acc], \n",
    "                      verbosity=1, check_measure=false)"
   ]
  },
  {
   "cell_type": "code",
   "execution_count": 82,
   "metadata": {},
   "outputs": [],
   "source": [
    "# evaluate!(boost_mach, resampling=CV(shuffle=true), measure=[tnr,tpr,fnr,fpr], verbosity=1, operation=predict_mode)"
   ]
  },
  {
   "cell_type": "code",
   "execution_count": 83,
   "metadata": {},
   "outputs": [],
   "source": [
    "fitted_params(boost_mach);"
   ]
  },
  {
   "cell_type": "markdown",
   "metadata": {},
   "source": [
    "### GridSearch \n",
    "number of estimators vs learning rate"
   ]
  },
  {
   "cell_type": "code",
   "execution_count": 208,
   "metadata": {},
   "outputs": [
    {
     "data": {
      "text/plain": [
       "MLJBase.NumericRange(Int64, :n_estimators, ... )"
      ]
     },
     "execution_count": 208,
     "metadata": {},
     "output_type": "execute_result"
    }
   ],
   "source": [
    "param1 = :learning_rate\n",
    "param2 = :n_estimators\n",
    "\n",
    "# r1 = range(boost_model, param1, lower=5*10^-1.5, upper=0.6, scale=:linear)\n",
    "# r2 = range(boost_model, param2, lower=1, upper=5, scale=:linear)\n",
    "r1 = range(boost_model, param1, lower=0.45, upper=0.65, scale=:linear)\n",
    "r2 = range(boost_model, param2, lower=110, upper=155, scale=:linear)"
   ]
  },
  {
   "cell_type": "code",
   "execution_count": 209,
   "metadata": {},
   "outputs": [
    {
     "data": {
      "text/plain": [
       "ProbabilisticTunedModel(\n",
       "    model = AdaBoostClassifier(\n",
       "            base_estimator = nothing,\n",
       "            n_estimators = 50,\n",
       "            learning_rate = 1.0,\n",
       "            algorithm = \"SAMME.R\",\n",
       "            random_state = 123),\n",
       "    tuning = Grid(\n",
       "            goal = 250,\n",
       "            resolution = 10,\n",
       "            shuffle = true,\n",
       "            rng = Random._GLOBAL_RNG()),\n",
       "    resampling = CV(\n",
       "            nfolds = 6,\n",
       "            shuffle = false,\n",
       "            rng = Random._GLOBAL_RNG()),\n",
       "    measure = misclassification_rate(),\n",
       "    weights = nothing,\n",
       "    operation = MLJModelInterface.predict_mode,\n",
       "    range = MLJBase.NumericRange{T,MLJBase.Bounded,Symbol} where T[\u001b[34mNumericRange{Float64,…} @074\u001b[39m, \u001b[34mNumericRange{Int64,…} @143\u001b[39m],\n",
       "    train_best = true,\n",
       "    repeats = 1,\n",
       "    n = nothing,\n",
       "    acceleration = CPUThreads{Int64}(1),\n",
       "    acceleration_resampling = CPU1{Nothing}(nothing),\n",
       "    check_measure = true)\u001b[34m @500\u001b[39m"
      ]
     },
     "execution_count": 209,
     "metadata": {},
     "output_type": "execute_result"
    }
   ],
   "source": [
    "self_tuning_boost_model = TunedModel(model=boost_model,\n",
    "                                    tuning=Grid(goal=250),\n",
    "                                    resampling=CV(), \n",
    "                                    measure=misclassification_rate,\n",
    "                                    acceleration=CPUThreads(),\n",
    "                                    range=[r1, r2],\n",
    "                                    operation=predict_mode)"
   ]
  },
  {
   "cell_type": "code",
   "execution_count": 210,
   "metadata": {},
   "outputs": [
    {
     "name": "stderr",
     "output_type": "stream",
     "text": [
      "┌ Warning: The scitype of `X`, in `machine(model, X, ...)` is incompatible with `model=\u001b[34mProbabilisticTunedModel{Grid,…} @500\u001b[39m`:\n",
      "│ scitype(X) = Table{Union{AbstractArray{Continuous,1}, AbstractArray{Count,1}}}\n",
      "│ input_scitype(model) = Table{var\"#s44\"} where var\"#s44\"<:(AbstractArray{var\"#s13\",1} where var\"#s13\"<:Continuous).\n",
      "└ @ MLJBase /home/andrew/.julia/packages/MLJBase/uKzAz/src/machines.jl:77\n"
     ]
    },
    {
     "data": {
      "text/plain": [
       "\u001b[34mMachine{ProbabilisticTunedModel{Grid,…}} @575\u001b[39m trained 0 times.\n",
       "  args: \n",
       "    1:\t\u001b[34mSource @704\u001b[39m ⏎ `Table{Union{AbstractArray{Continuous,1}, AbstractArray{Count,1}}}`\n",
       "    2:\t\u001b[34mSource @737\u001b[39m ⏎ `AbstractArray{Multiclass{2},1}`\n"
      ]
     },
     "execution_count": 210,
     "metadata": {},
     "output_type": "execute_result"
    }
   ],
   "source": [
    "self_tuning_boost = machine(self_tuning_boost_model, X_stand, y)"
   ]
  },
  {
   "cell_type": "code",
   "execution_count": 211,
   "metadata": {
    "scrolled": true
   },
   "outputs": [
    {
     "name": "stderr",
     "output_type": "stream",
     "text": [
      "┌ Info: Training \u001b[34mMachine{ProbabilisticTunedModel{Grid,…}} @575\u001b[39m.\n",
      "└ @ MLJBase /home/andrew/.julia/packages/MLJBase/uKzAz/src/machines.jl:319\n",
      "┌ Info: Attempting to evaluate 256 models.\n",
      "└ @ MLJTuning /home/andrew/.julia/packages/MLJTuning/Bbgvk/src/tuned_models.jl:494\n",
      "┌ Warning: The scitype of `X`, in `machine(model, X, ...)` is incompatible with `model=\u001b[34mResampler{CV,…} @048\u001b[39m`:\n",
      "│ scitype(X) = Table{Union{AbstractArray{Continuous,1}, AbstractArray{Count,1}}}\n",
      "│ input_scitype(model) = Table{var\"#s44\"} where var\"#s44\"<:(AbstractArray{var\"#s13\",1} where var\"#s13\"<:Continuous).\n",
      "└ @ MLJBase /home/andrew/.julia/packages/MLJBase/uKzAz/src/machines.jl:77\n",
      "\u001b[33mEvaluating over 256 metamodels:   0%[>                        ]  ETA: N/A\u001b[39m┌ Warning: The scitype of `X`, in `machine(model, X, ...)` is incompatible with `model=\u001b[34mAdaBoostClassifier @219\u001b[39m`:\n",
      "│ scitype(X) = Table{Union{AbstractArray{Continuous,1}, AbstractArray{Count,1}}}\n",
      "│ input_scitype(model) = Table{var\"#s44\"} where var\"#s44\"<:(AbstractArray{var\"#s13\",1} where var\"#s13\"<:Continuous).\n",
      "└ @ MLJBase /home/andrew/.julia/packages/MLJBase/uKzAz/src/machines.jl:77\n",
      "\u001b[33mEvaluating over 256 metamodels:   0%[>                        ]  ETA: 0:06:09\u001b[39m┌ Warning: The scitype of `X`, in `machine(model, X, ...)` is incompatible with `model=\u001b[34mAdaBoostClassifier @566\u001b[39m`:\n",
      "│ scitype(X) = Table{Union{AbstractArray{Continuous,1}, AbstractArray{Count,1}}}\n",
      "│ input_scitype(model) = Table{var\"#s44\"} where var\"#s44\"<:(AbstractArray{var\"#s13\",1} where var\"#s13\"<:Continuous).\n",
      "└ @ MLJBase /home/andrew/.julia/packages/MLJBase/uKzAz/src/machines.jl:77\n",
      "\u001b[33mEvaluating over 256 metamodels:   1%[>                        ]  ETA: 0:07:03\u001b[39m┌ Warning: The scitype of `X`, in `machine(model, X, ...)` is incompatible with `model=\u001b[34mAdaBoostClassifier @948\u001b[39m`:\n",
      "│ scitype(X) = Table{Union{AbstractArray{Continuous,1}, AbstractArray{Count,1}}}\n",
      "│ input_scitype(model) = Table{var\"#s44\"} where var\"#s44\"<:(AbstractArray{var\"#s13\",1} where var\"#s13\"<:Continuous).\n",
      "└ @ MLJBase /home/andrew/.julia/packages/MLJBase/uKzAz/src/machines.jl:77\n",
      "\u001b[33mEvaluating over 256 metamodels:   1%[>                        ]  ETA: 0:07:19\u001b[39m┌ Warning: The scitype of `X`, in `machine(model, X, ...)` is incompatible with `model=\u001b[34mAdaBoostClassifier @902\u001b[39m`:\n",
      "│ scitype(X) = Table{Union{AbstractArray{Continuous,1}, AbstractArray{Count,1}}}\n",
      "│ input_scitype(model) = Table{var\"#s44\"} where var\"#s44\"<:(AbstractArray{var\"#s13\",1} where var\"#s13\"<:Continuous).\n",
      "└ @ MLJBase /home/andrew/.julia/packages/MLJBase/uKzAz/src/machines.jl:77\n",
      "\u001b[33mEvaluating over 256 metamodels:   2%[>                        ]  ETA: 0:07:19\u001b[39m┌ Warning: The scitype of `X`, in `machine(model, X, ...)` is incompatible with `model=\u001b[34mAdaBoostClassifier @045\u001b[39m`:\n",
      "│ scitype(X) = Table{Union{AbstractArray{Continuous,1}, AbstractArray{Count,1}}}\n",
      "│ input_scitype(model) = Table{var\"#s44\"} where var\"#s44\"<:(AbstractArray{var\"#s13\",1} where var\"#s13\"<:Continuous).\n",
      "└ @ MLJBase /home/andrew/.julia/packages/MLJBase/uKzAz/src/machines.jl:77\n",
      "\u001b[33mEvaluating over 256 metamodels:   2%[>                        ]  ETA: 0:07:06\u001b[39m┌ Warning: The scitype of `X`, in `machine(model, X, ...)` is incompatible with `model=\u001b[34mAdaBoostClassifier @495\u001b[39m`:\n",
      "│ scitype(X) = Table{Union{AbstractArray{Continuous,1}, AbstractArray{Count,1}}}\n",
      "│ input_scitype(model) = Table{var\"#s44\"} where var\"#s44\"<:(AbstractArray{var\"#s13\",1} where var\"#s13\"<:Continuous).\n",
      "└ @ MLJBase /home/andrew/.julia/packages/MLJBase/uKzAz/src/machines.jl:77\n",
      "\u001b[33mEvaluating over 256 metamodels:   2%[>                        ]  ETA: 0:07:10\u001b[39m┌ Warning: The scitype of `X`, in `machine(model, X, ...)` is incompatible with `model=\u001b[34mAdaBoostClassifier @700\u001b[39m`:\n",
      "│ scitype(X) = Table{Union{AbstractArray{Continuous,1}, AbstractArray{Count,1}}}\n",
      "│ input_scitype(model) = Table{var\"#s44\"} where var\"#s44\"<:(AbstractArray{var\"#s13\",1} where var\"#s13\"<:Continuous).\n",
      "└ @ MLJBase /home/andrew/.julia/packages/MLJBase/uKzAz/src/machines.jl:77\n",
      "\u001b[33mEvaluating over 256 metamodels:   3%[>                        ]  ETA: 0:07:11\u001b[39m┌ Warning: The scitype of `X`, in `machine(model, X, ...)` is incompatible with `model=\u001b[34mAdaBoostClassifier @369\u001b[39m`:\n",
      "│ scitype(X) = Table{Union{AbstractArray{Continuous,1}, AbstractArray{Count,1}}}\n",
      "│ input_scitype(model) = Table{var\"#s44\"} where var\"#s44\"<:(AbstractArray{var\"#s13\",1} where var\"#s13\"<:Continuous).\n",
      "└ @ MLJBase /home/andrew/.julia/packages/MLJBase/uKzAz/src/machines.jl:77\n",
      "\u001b[33mEvaluating over 256 metamodels:   3%[>                        ]  ETA: 0:06:58\u001b[39m┌ Warning: The scitype of `X`, in `machine(model, X, ...)` is incompatible with `model=\u001b[34mAdaBoostClassifier @032\u001b[39m`:\n",
      "│ scitype(X) = Table{Union{AbstractArray{Continuous,1}, AbstractArray{Count,1}}}\n",
      "│ input_scitype(model) = Table{var\"#s44\"} where var\"#s44\"<:(AbstractArray{var\"#s13\",1} where var\"#s13\"<:Continuous).\n",
      "└ @ MLJBase /home/andrew/.julia/packages/MLJBase/uKzAz/src/machines.jl:77\n",
      "\u001b[33mEvaluating over 256 metamodels:   4%[>                        ]  ETA: 0:06:54\u001b[39m┌ Warning: The scitype of `X`, in `machine(model, X, ...)` is incompatible with `model=\u001b[34mAdaBoostClassifier @081\u001b[39m`:\n",
      "│ scitype(X) = Table{Union{AbstractArray{Continuous,1}, AbstractArray{Count,1}}}\n",
      "│ input_scitype(model) = Table{var\"#s44\"} where var\"#s44\"<:(AbstractArray{var\"#s13\",1} where var\"#s13\"<:Continuous).\n",
      "└ @ MLJBase /home/andrew/.julia/packages/MLJBase/uKzAz/src/machines.jl:77\n",
      "\u001b[33mEvaluating over 256 metamodels:   4%[>                        ]  ETA: 0:06:53\u001b[39m┌ Warning: The scitype of `X`, in `machine(model, X, ...)` is incompatible with `model=\u001b[34mAdaBoostClassifier @066\u001b[39m`:\n",
      "│ scitype(X) = Table{Union{AbstractArray{Continuous,1}, AbstractArray{Count,1}}}\n",
      "│ input_scitype(model) = Table{var\"#s44\"} where var\"#s44\"<:(AbstractArray{var\"#s13\",1} where var\"#s13\"<:Continuous).\n",
      "└ @ MLJBase /home/andrew/.julia/packages/MLJBase/uKzAz/src/machines.jl:77\n",
      "\u001b[33mEvaluating over 256 metamodels:   4%[=>                       ]  ETA: 0:06:55\u001b[39m┌ Warning: The scitype of `X`, in `machine(model, X, ...)` is incompatible with `model=\u001b[34mAdaBoostClassifier @802\u001b[39m`:\n",
      "│ scitype(X) = Table{Union{AbstractArray{Continuous,1}, AbstractArray{Count,1}}}\n",
      "│ input_scitype(model) = Table{var\"#s44\"} where var\"#s44\"<:(AbstractArray{var\"#s13\",1} where var\"#s13\"<:Continuous).\n",
      "└ @ MLJBase /home/andrew/.julia/packages/MLJBase/uKzAz/src/machines.jl:77\n",
      "\u001b[33mEvaluating over 256 metamodels:   5%[=>                       ]  ETA: 0:06:45\u001b[39m┌ Warning: The scitype of `X`, in `machine(model, X, ...)` is incompatible with `model=\u001b[34mAdaBoostClassifier @426\u001b[39m`:\n",
      "│ scitype(X) = Table{Union{AbstractArray{Continuous,1}, AbstractArray{Count,1}}}\n",
      "│ input_scitype(model) = Table{var\"#s44\"} where var\"#s44\"<:(AbstractArray{var\"#s13\",1} where var\"#s13\"<:Continuous).\n",
      "└ @ MLJBase /home/andrew/.julia/packages/MLJBase/uKzAz/src/machines.jl:77\n",
      "\u001b[33mEvaluating over 256 metamodels:   5%[=>                       ]  ETA: 0:06:41\u001b[39m┌ Warning: The scitype of `X`, in `machine(model, X, ...)` is incompatible with `model=\u001b[34mAdaBoostClassifier @654\u001b[39m`:\n",
      "│ scitype(X) = Table{Union{AbstractArray{Continuous,1}, AbstractArray{Count,1}}}\n",
      "│ input_scitype(model) = Table{var\"#s44\"} where var\"#s44\"<:(AbstractArray{var\"#s13\",1} where var\"#s13\"<:Continuous).\n",
      "└ @ MLJBase /home/andrew/.julia/packages/MLJBase/uKzAz/src/machines.jl:77\n",
      "\u001b[33mEvaluating over 256 metamodels:   5%[=>                       ]  ETA: 0:06:38\u001b[39m┌ Warning: The scitype of `X`, in `machine(model, X, ...)` is incompatible with `model=\u001b[34mAdaBoostClassifier @894\u001b[39m`:\n",
      "│ scitype(X) = Table{Union{AbstractArray{Continuous,1}, AbstractArray{Count,1}}}\n",
      "│ input_scitype(model) = Table{var\"#s44\"} where var\"#s44\"<:(AbstractArray{var\"#s13\",1} where var\"#s13\"<:Continuous).\n",
      "└ @ MLJBase /home/andrew/.julia/packages/MLJBase/uKzAz/src/machines.jl:77\n",
      "\u001b[33mEvaluating over 256 metamodels:   6%[=>                       ]  ETA: 0:06:34\u001b[39m┌ Warning: The scitype of `X`, in `machine(model, X, ...)` is incompatible with `model=\u001b[34mAdaBoostClassifier @492\u001b[39m`:\n",
      "│ scitype(X) = Table{Union{AbstractArray{Continuous,1}, AbstractArray{Count,1}}}\n",
      "│ input_scitype(model) = Table{var\"#s44\"} where var\"#s44\"<:(AbstractArray{var\"#s13\",1} where var\"#s13\"<:Continuous).\n",
      "└ @ MLJBase /home/andrew/.julia/packages/MLJBase/uKzAz/src/machines.jl:77\n"
     ]
    },
    {
     "name": "stderr",
     "output_type": "stream",
     "text": [
      "\u001b[33mEvaluating over 256 metamodels:   6%[=>                       ]  ETA: 0:06:28\u001b[39m┌ Warning: The scitype of `X`, in `machine(model, X, ...)` is incompatible with `model=\u001b[34mAdaBoostClassifier @124\u001b[39m`:\n",
      "│ scitype(X) = Table{Union{AbstractArray{Continuous,1}, AbstractArray{Count,1}}}\n",
      "│ input_scitype(model) = Table{var\"#s44\"} where var\"#s44\"<:(AbstractArray{var\"#s13\",1} where var\"#s13\"<:Continuous).\n",
      "└ @ MLJBase /home/andrew/.julia/packages/MLJBase/uKzAz/src/machines.jl:77\n",
      "\u001b[33mEvaluating over 256 metamodels:   7%[=>                       ]  ETA: 0:06:29\u001b[39m┌ Warning: The scitype of `X`, in `machine(model, X, ...)` is incompatible with `model=\u001b[34mAdaBoostClassifier @883\u001b[39m`:\n",
      "│ scitype(X) = Table{Union{AbstractArray{Continuous,1}, AbstractArray{Count,1}}}\n",
      "│ input_scitype(model) = Table{var\"#s44\"} where var\"#s44\"<:(AbstractArray{var\"#s13\",1} where var\"#s13\"<:Continuous).\n",
      "└ @ MLJBase /home/andrew/.julia/packages/MLJBase/uKzAz/src/machines.jl:77\n",
      "\u001b[33mEvaluating over 256 metamodels:   7%[=>                       ]  ETA: 0:06:30\u001b[39m┌ Warning: The scitype of `X`, in `machine(model, X, ...)` is incompatible with `model=\u001b[34mAdaBoostClassifier @779\u001b[39m`:\n",
      "│ scitype(X) = Table{Union{AbstractArray{Continuous,1}, AbstractArray{Count,1}}}\n",
      "│ input_scitype(model) = Table{var\"#s44\"} where var\"#s44\"<:(AbstractArray{var\"#s13\",1} where var\"#s13\"<:Continuous).\n",
      "└ @ MLJBase /home/andrew/.julia/packages/MLJBase/uKzAz/src/machines.jl:77\n",
      "\u001b[33mEvaluating over 256 metamodels:   7%[=>                       ]  ETA: 0:06:29\u001b[39m┌ Warning: The scitype of `X`, in `machine(model, X, ...)` is incompatible with `model=\u001b[34mAdaBoostClassifier @500\u001b[39m`:\n",
      "│ scitype(X) = Table{Union{AbstractArray{Continuous,1}, AbstractArray{Count,1}}}\n",
      "│ input_scitype(model) = Table{var\"#s44\"} where var\"#s44\"<:(AbstractArray{var\"#s13\",1} where var\"#s13\"<:Continuous).\n",
      "└ @ MLJBase /home/andrew/.julia/packages/MLJBase/uKzAz/src/machines.jl:77\n",
      "\u001b[33mEvaluating over 256 metamodels:   8%[=>                       ]  ETA: 0:06:28\u001b[39m┌ Warning: The scitype of `X`, in `machine(model, X, ...)` is incompatible with `model=\u001b[34mAdaBoostClassifier @415\u001b[39m`:\n",
      "│ scitype(X) = Table{Union{AbstractArray{Continuous,1}, AbstractArray{Count,1}}}\n",
      "│ input_scitype(model) = Table{var\"#s44\"} where var\"#s44\"<:(AbstractArray{var\"#s13\",1} where var\"#s13\"<:Continuous).\n",
      "└ @ MLJBase /home/andrew/.julia/packages/MLJBase/uKzAz/src/machines.jl:77\n",
      "\u001b[33mEvaluating over 256 metamodels:   8%[==>                      ]  ETA: 0:06:25\u001b[39m┌ Warning: The scitype of `X`, in `machine(model, X, ...)` is incompatible with `model=\u001b[34mAdaBoostClassifier @276\u001b[39m`:\n",
      "│ scitype(X) = Table{Union{AbstractArray{Continuous,1}, AbstractArray{Count,1}}}\n",
      "│ input_scitype(model) = Table{var\"#s44\"} where var\"#s44\"<:(AbstractArray{var\"#s13\",1} where var\"#s13\"<:Continuous).\n",
      "└ @ MLJBase /home/andrew/.julia/packages/MLJBase/uKzAz/src/machines.jl:77\n",
      "\u001b[33mEvaluating over 256 metamodels:   9%[==>                      ]  ETA: 0:06:23\u001b[39m┌ Warning: The scitype of `X`, in `machine(model, X, ...)` is incompatible with `model=\u001b[34mAdaBoostClassifier @384\u001b[39m`:\n",
      "│ scitype(X) = Table{Union{AbstractArray{Continuous,1}, AbstractArray{Count,1}}}\n",
      "│ input_scitype(model) = Table{var\"#s44\"} where var\"#s44\"<:(AbstractArray{var\"#s13\",1} where var\"#s13\"<:Continuous).\n",
      "└ @ MLJBase /home/andrew/.julia/packages/MLJBase/uKzAz/src/machines.jl:77\n",
      "\u001b[33mEvaluating over 256 metamodels:   9%[==>                      ]  ETA: 0:06:20\u001b[39m┌ Warning: The scitype of `X`, in `machine(model, X, ...)` is incompatible with `model=\u001b[34mAdaBoostClassifier @570\u001b[39m`:\n",
      "│ scitype(X) = Table{Union{AbstractArray{Continuous,1}, AbstractArray{Count,1}}}\n",
      "│ input_scitype(model) = Table{var\"#s44\"} where var\"#s44\"<:(AbstractArray{var\"#s13\",1} where var\"#s13\"<:Continuous).\n",
      "└ @ MLJBase /home/andrew/.julia/packages/MLJBase/uKzAz/src/machines.jl:77\n",
      "\u001b[33mEvaluating over 256 metamodels:   9%[==>                      ]  ETA: 0:06:19\u001b[39m┌ Warning: The scitype of `X`, in `machine(model, X, ...)` is incompatible with `model=\u001b[34mAdaBoostClassifier @069\u001b[39m`:\n",
      "│ scitype(X) = Table{Union{AbstractArray{Continuous,1}, AbstractArray{Count,1}}}\n",
      "│ input_scitype(model) = Table{var\"#s44\"} where var\"#s44\"<:(AbstractArray{var\"#s13\",1} where var\"#s13\"<:Continuous).\n",
      "└ @ MLJBase /home/andrew/.julia/packages/MLJBase/uKzAz/src/machines.jl:77\n",
      "\u001b[33mEvaluating over 256 metamodels:  10%[==>                      ]  ETA: 0:06:19\u001b[39m┌ Warning: The scitype of `X`, in `machine(model, X, ...)` is incompatible with `model=\u001b[34mAdaBoostClassifier @819\u001b[39m`:\n",
      "│ scitype(X) = Table{Union{AbstractArray{Continuous,1}, AbstractArray{Count,1}}}\n",
      "│ input_scitype(model) = Table{var\"#s44\"} where var\"#s44\"<:(AbstractArray{var\"#s13\",1} where var\"#s13\"<:Continuous).\n",
      "└ @ MLJBase /home/andrew/.julia/packages/MLJBase/uKzAz/src/machines.jl:77\n",
      "\u001b[33mEvaluating over 256 metamodels:  10%[==>                      ]  ETA: 0:06:18\u001b[39m┌ Warning: The scitype of `X`, in `machine(model, X, ...)` is incompatible with `model=\u001b[34mAdaBoostClassifier @207\u001b[39m`:\n",
      "│ scitype(X) = Table{Union{AbstractArray{Continuous,1}, AbstractArray{Count,1}}}\n",
      "│ input_scitype(model) = Table{var\"#s44\"} where var\"#s44\"<:(AbstractArray{var\"#s13\",1} where var\"#s13\"<:Continuous).\n",
      "└ @ MLJBase /home/andrew/.julia/packages/MLJBase/uKzAz/src/machines.jl:77\n",
      "\u001b[33mEvaluating over 256 metamodels:  11%[==>                      ]  ETA: 0:06:14\u001b[39m┌ Warning: The scitype of `X`, in `machine(model, X, ...)` is incompatible with `model=\u001b[34mAdaBoostClassifier @187\u001b[39m`:\n",
      "│ scitype(X) = Table{Union{AbstractArray{Continuous,1}, AbstractArray{Count,1}}}\n",
      "│ input_scitype(model) = Table{var\"#s44\"} where var\"#s44\"<:(AbstractArray{var\"#s13\",1} where var\"#s13\"<:Continuous).\n",
      "└ @ MLJBase /home/andrew/.julia/packages/MLJBase/uKzAz/src/machines.jl:77\n",
      "\u001b[33mEvaluating over 256 metamodels:  11%[==>                      ]  ETA: 0:06:12\u001b[39m┌ Warning: The scitype of `X`, in `machine(model, X, ...)` is incompatible with `model=\u001b[34mAdaBoostClassifier @718\u001b[39m`:\n",
      "│ scitype(X) = Table{Union{AbstractArray{Continuous,1}, AbstractArray{Count,1}}}\n",
      "│ input_scitype(model) = Table{var\"#s44\"} where var\"#s44\"<:(AbstractArray{var\"#s13\",1} where var\"#s13\"<:Continuous).\n",
      "└ @ MLJBase /home/andrew/.julia/packages/MLJBase/uKzAz/src/machines.jl:77\n",
      "\u001b[33mEvaluating over 256 metamodels:  11%[==>                      ]  ETA: 0:06:11\u001b[39m┌ Warning: The scitype of `X`, in `machine(model, X, ...)` is incompatible with `model=\u001b[34mAdaBoostClassifier @924\u001b[39m`:\n",
      "│ scitype(X) = Table{Union{AbstractArray{Continuous,1}, AbstractArray{Count,1}}}\n",
      "│ input_scitype(model) = Table{var\"#s44\"} where var\"#s44\"<:(AbstractArray{var\"#s13\",1} where var\"#s13\"<:Continuous).\n",
      "└ @ MLJBase /home/andrew/.julia/packages/MLJBase/uKzAz/src/machines.jl:77\n",
      "\u001b[33mEvaluating over 256 metamodels:  12%[==>                      ]  ETA: 0:06:10\u001b[39m┌ Warning: The scitype of `X`, in `machine(model, X, ...)` is incompatible with `model=\u001b[34mAdaBoostClassifier @817\u001b[39m`:\n",
      "│ scitype(X) = Table{Union{AbstractArray{Continuous,1}, AbstractArray{Count,1}}}\n",
      "│ input_scitype(model) = Table{var\"#s44\"} where var\"#s44\"<:(AbstractArray{var\"#s13\",1} where var\"#s13\"<:Continuous).\n",
      "└ @ MLJBase /home/andrew/.julia/packages/MLJBase/uKzAz/src/machines.jl:77\n",
      "\u001b[33mEvaluating over 256 metamodels:  12%[===>                     ]  ETA: 0:06:07\u001b[39m┌ Warning: The scitype of `X`, in `machine(model, X, ...)` is incompatible with `model=\u001b[34mAdaBoostClassifier @248\u001b[39m`:\n",
      "│ scitype(X) = Table{Union{AbstractArray{Continuous,1}, AbstractArray{Count,1}}}\n",
      "│ input_scitype(model) = Table{var\"#s44\"} where var\"#s44\"<:(AbstractArray{var\"#s13\",1} where var\"#s13\"<:Continuous).\n",
      "└ @ MLJBase /home/andrew/.julia/packages/MLJBase/uKzAz/src/machines.jl:77\n",
      "\u001b[33mEvaluating over 256 metamodels:  12%[===>                     ]  ETA: 0:06:05\u001b[39m┌ Warning: The scitype of `X`, in `machine(model, X, ...)` is incompatible with `model=\u001b[34mAdaBoostClassifier @844\u001b[39m`:\n",
      "│ scitype(X) = Table{Union{AbstractArray{Continuous,1}, AbstractArray{Count,1}}}\n",
      "│ input_scitype(model) = Table{var\"#s44\"} where var\"#s44\"<:(AbstractArray{var\"#s13\",1} where var\"#s13\"<:Continuous).\n",
      "└ @ MLJBase /home/andrew/.julia/packages/MLJBase/uKzAz/src/machines.jl:77\n"
     ]
    },
    {
     "name": "stderr",
     "output_type": "stream",
     "text": [
      "\u001b[33mEvaluating over 256 metamodels:  13%[===>                     ]  ETA: 0:06:04\u001b[39m┌ Warning: The scitype of `X`, in `machine(model, X, ...)` is incompatible with `model=\u001b[34mAdaBoostClassifier @898\u001b[39m`:\n",
      "│ scitype(X) = Table{Union{AbstractArray{Continuous,1}, AbstractArray{Count,1}}}\n",
      "│ input_scitype(model) = Table{var\"#s44\"} where var\"#s44\"<:(AbstractArray{var\"#s13\",1} where var\"#s13\"<:Continuous).\n",
      "└ @ MLJBase /home/andrew/.julia/packages/MLJBase/uKzAz/src/machines.jl:77\n",
      "\u001b[33mEvaluating over 256 metamodels:  13%[===>                     ]  ETA: 0:06:04\u001b[39m┌ Warning: The scitype of `X`, in `machine(model, X, ...)` is incompatible with `model=\u001b[34mAdaBoostClassifier @188\u001b[39m`:\n",
      "│ scitype(X) = Table{Union{AbstractArray{Continuous,1}, AbstractArray{Count,1}}}\n",
      "│ input_scitype(model) = Table{var\"#s44\"} where var\"#s44\"<:(AbstractArray{var\"#s13\",1} where var\"#s13\"<:Continuous).\n",
      "└ @ MLJBase /home/andrew/.julia/packages/MLJBase/uKzAz/src/machines.jl:77\n",
      "\u001b[33mEvaluating over 256 metamodels:  14%[===>                     ]  ETA: 0:06:02\u001b[39m┌ Warning: The scitype of `X`, in `machine(model, X, ...)` is incompatible with `model=\u001b[34mAdaBoostClassifier @191\u001b[39m`:\n",
      "│ scitype(X) = Table{Union{AbstractArray{Continuous,1}, AbstractArray{Count,1}}}\n",
      "│ input_scitype(model) = Table{var\"#s44\"} where var\"#s44\"<:(AbstractArray{var\"#s13\",1} where var\"#s13\"<:Continuous).\n",
      "└ @ MLJBase /home/andrew/.julia/packages/MLJBase/uKzAz/src/machines.jl:77\n",
      "\u001b[33mEvaluating over 256 metamodels:  14%[===>                     ]  ETA: 0:05:59\u001b[39m┌ Warning: The scitype of `X`, in `machine(model, X, ...)` is incompatible with `model=\u001b[34mAdaBoostClassifier @190\u001b[39m`:\n",
      "│ scitype(X) = Table{Union{AbstractArray{Continuous,1}, AbstractArray{Count,1}}}\n",
      "│ input_scitype(model) = Table{var\"#s44\"} where var\"#s44\"<:(AbstractArray{var\"#s13\",1} where var\"#s13\"<:Continuous).\n",
      "└ @ MLJBase /home/andrew/.julia/packages/MLJBase/uKzAz/src/machines.jl:77\n",
      "\u001b[33mEvaluating over 256 metamodels:  14%[===>                     ]  ETA: 0:05:55\u001b[39m┌ Warning: The scitype of `X`, in `machine(model, X, ...)` is incompatible with `model=\u001b[34mAdaBoostClassifier @160\u001b[39m`:\n",
      "│ scitype(X) = Table{Union{AbstractArray{Continuous,1}, AbstractArray{Count,1}}}\n",
      "│ input_scitype(model) = Table{var\"#s44\"} where var\"#s44\"<:(AbstractArray{var\"#s13\",1} where var\"#s13\"<:Continuous).\n",
      "└ @ MLJBase /home/andrew/.julia/packages/MLJBase/uKzAz/src/machines.jl:77\n",
      "\u001b[33mEvaluating over 256 metamodels:  15%[===>                     ]  ETA: 0:05:52\u001b[39m┌ Warning: The scitype of `X`, in `machine(model, X, ...)` is incompatible with `model=\u001b[34mAdaBoostClassifier @323\u001b[39m`:\n",
      "│ scitype(X) = Table{Union{AbstractArray{Continuous,1}, AbstractArray{Count,1}}}\n",
      "│ input_scitype(model) = Table{var\"#s44\"} where var\"#s44\"<:(AbstractArray{var\"#s13\",1} where var\"#s13\"<:Continuous).\n",
      "└ @ MLJBase /home/andrew/.julia/packages/MLJBase/uKzAz/src/machines.jl:77\n",
      "\u001b[33mEvaluating over 256 metamodels:  15%[===>                     ]  ETA: 0:05:49\u001b[39m┌ Warning: The scitype of `X`, in `machine(model, X, ...)` is incompatible with `model=\u001b[34mAdaBoostClassifier @681\u001b[39m`:\n",
      "│ scitype(X) = Table{Union{AbstractArray{Continuous,1}, AbstractArray{Count,1}}}\n",
      "│ input_scitype(model) = Table{var\"#s44\"} where var\"#s44\"<:(AbstractArray{var\"#s13\",1} where var\"#s13\"<:Continuous).\n",
      "└ @ MLJBase /home/andrew/.julia/packages/MLJBase/uKzAz/src/machines.jl:77\n",
      "\u001b[33mEvaluating over 256 metamodels:  16%[===>                     ]  ETA: 0:05:48\u001b[39m┌ Warning: The scitype of `X`, in `machine(model, X, ...)` is incompatible with `model=\u001b[34mAdaBoostClassifier @162\u001b[39m`:\n",
      "│ scitype(X) = Table{Union{AbstractArray{Continuous,1}, AbstractArray{Count,1}}}\n",
      "│ input_scitype(model) = Table{var\"#s44\"} where var\"#s44\"<:(AbstractArray{var\"#s13\",1} where var\"#s13\"<:Continuous).\n",
      "└ @ MLJBase /home/andrew/.julia/packages/MLJBase/uKzAz/src/machines.jl:77\n",
      "\u001b[33mEvaluating over 256 metamodels:  16%[====>                    ]  ETA: 0:05:47\u001b[39m┌ Warning: The scitype of `X`, in `machine(model, X, ...)` is incompatible with `model=\u001b[34mAdaBoostClassifier @741\u001b[39m`:\n",
      "│ scitype(X) = Table{Union{AbstractArray{Continuous,1}, AbstractArray{Count,1}}}\n",
      "│ input_scitype(model) = Table{var\"#s44\"} where var\"#s44\"<:(AbstractArray{var\"#s13\",1} where var\"#s13\"<:Continuous).\n",
      "└ @ MLJBase /home/andrew/.julia/packages/MLJBase/uKzAz/src/machines.jl:77\n",
      "\u001b[33mEvaluating over 256 metamodels:  16%[====>                    ]  ETA: 0:05:46\u001b[39m┌ Warning: The scitype of `X`, in `machine(model, X, ...)` is incompatible with `model=\u001b[34mAdaBoostClassifier @711\u001b[39m`:\n",
      "│ scitype(X) = Table{Union{AbstractArray{Continuous,1}, AbstractArray{Count,1}}}\n",
      "│ input_scitype(model) = Table{var\"#s44\"} where var\"#s44\"<:(AbstractArray{var\"#s13\",1} where var\"#s13\"<:Continuous).\n",
      "└ @ MLJBase /home/andrew/.julia/packages/MLJBase/uKzAz/src/machines.jl:77\n",
      "\u001b[33mEvaluating over 256 metamodels:  17%[====>                    ]  ETA: 0:05:46\u001b[39m┌ Warning: The scitype of `X`, in `machine(model, X, ...)` is incompatible with `model=\u001b[34mAdaBoostClassifier @468\u001b[39m`:\n",
      "│ scitype(X) = Table{Union{AbstractArray{Continuous,1}, AbstractArray{Count,1}}}\n",
      "│ input_scitype(model) = Table{var\"#s44\"} where var\"#s44\"<:(AbstractArray{var\"#s13\",1} where var\"#s13\"<:Continuous).\n",
      "└ @ MLJBase /home/andrew/.julia/packages/MLJBase/uKzAz/src/machines.jl:77\n",
      "\u001b[33mEvaluating over 256 metamodels:  17%[====>                    ]  ETA: 0:05:43\u001b[39m┌ Warning: The scitype of `X`, in `machine(model, X, ...)` is incompatible with `model=\u001b[34mAdaBoostClassifier @678\u001b[39m`:\n",
      "│ scitype(X) = Table{Union{AbstractArray{Continuous,1}, AbstractArray{Count,1}}}\n",
      "│ input_scitype(model) = Table{var\"#s44\"} where var\"#s44\"<:(AbstractArray{var\"#s13\",1} where var\"#s13\"<:Continuous).\n",
      "└ @ MLJBase /home/andrew/.julia/packages/MLJBase/uKzAz/src/machines.jl:77\n",
      "\u001b[33mEvaluating over 256 metamodels:  18%[====>                    ]  ETA: 0:05:40\u001b[39m┌ Warning: The scitype of `X`, in `machine(model, X, ...)` is incompatible with `model=\u001b[34mAdaBoostClassifier @207\u001b[39m`:\n",
      "│ scitype(X) = Table{Union{AbstractArray{Continuous,1}, AbstractArray{Count,1}}}\n",
      "│ input_scitype(model) = Table{var\"#s44\"} where var\"#s44\"<:(AbstractArray{var\"#s13\",1} where var\"#s13\"<:Continuous).\n",
      "└ @ MLJBase /home/andrew/.julia/packages/MLJBase/uKzAz/src/machines.jl:77\n",
      "\u001b[33mEvaluating over 256 metamodels:  18%[====>                    ]  ETA: 0:05:39\u001b[39m┌ Warning: The scitype of `X`, in `machine(model, X, ...)` is incompatible with `model=\u001b[34mAdaBoostClassifier @050\u001b[39m`:\n",
      "│ scitype(X) = Table{Union{AbstractArray{Continuous,1}, AbstractArray{Count,1}}}\n",
      "│ input_scitype(model) = Table{var\"#s44\"} where var\"#s44\"<:(AbstractArray{var\"#s13\",1} where var\"#s13\"<:Continuous).\n",
      "└ @ MLJBase /home/andrew/.julia/packages/MLJBase/uKzAz/src/machines.jl:77\n",
      "\u001b[33mEvaluating over 256 metamodels:  18%[====>                    ]  ETA: 0:05:37\u001b[39m┌ Warning: The scitype of `X`, in `machine(model, X, ...)` is incompatible with `model=\u001b[34mAdaBoostClassifier @474\u001b[39m`:\n",
      "│ scitype(X) = Table{Union{AbstractArray{Continuous,1}, AbstractArray{Count,1}}}\n",
      "│ input_scitype(model) = Table{var\"#s44\"} where var\"#s44\"<:(AbstractArray{var\"#s13\",1} where var\"#s13\"<:Continuous).\n",
      "└ @ MLJBase /home/andrew/.julia/packages/MLJBase/uKzAz/src/machines.jl:77\n",
      "\u001b[33mEvaluating over 256 metamodels:  19%[====>                    ]  ETA: 0:05:35\u001b[39m┌ Warning: The scitype of `X`, in `machine(model, X, ...)` is incompatible with `model=\u001b[34mAdaBoostClassifier @925\u001b[39m`:\n",
      "│ scitype(X) = Table{Union{AbstractArray{Continuous,1}, AbstractArray{Count,1}}}\n",
      "│ input_scitype(model) = Table{var\"#s44\"} where var\"#s44\"<:(AbstractArray{var\"#s13\",1} where var\"#s13\"<:Continuous).\n",
      "└ @ MLJBase /home/andrew/.julia/packages/MLJBase/uKzAz/src/machines.jl:77\n",
      "\u001b[33mEvaluating over 256 metamodels:  19%[====>                    ]  ETA: 0:05:34\u001b[39m┌ Warning: The scitype of `X`, in `machine(model, X, ...)` is incompatible with `model=\u001b[34mAdaBoostClassifier @788\u001b[39m`:\n",
      "│ scitype(X) = Table{Union{AbstractArray{Continuous,1}, AbstractArray{Count,1}}}\n",
      "│ input_scitype(model) = Table{var\"#s44\"} where var\"#s44\"<:(AbstractArray{var\"#s13\",1} where var\"#s13\"<:Continuous).\n",
      "└ @ MLJBase /home/andrew/.julia/packages/MLJBase/uKzAz/src/machines.jl:77\n"
     ]
    },
    {
     "name": "stderr",
     "output_type": "stream",
     "text": [
      "\u001b[33mEvaluating over 256 metamodels:  20%[====>                    ]  ETA: 0:05:33\u001b[39m┌ Warning: The scitype of `X`, in `machine(model, X, ...)` is incompatible with `model=\u001b[34mAdaBoostClassifier @978\u001b[39m`:\n",
      "│ scitype(X) = Table{Union{AbstractArray{Continuous,1}, AbstractArray{Count,1}}}\n",
      "│ input_scitype(model) = Table{var\"#s44\"} where var\"#s44\"<:(AbstractArray{var\"#s13\",1} where var\"#s13\"<:Continuous).\n",
      "└ @ MLJBase /home/andrew/.julia/packages/MLJBase/uKzAz/src/machines.jl:77\n",
      "\u001b[33mEvaluating over 256 metamodels:  20%[====>                    ]  ETA: 0:05:31\u001b[39m┌ Warning: The scitype of `X`, in `machine(model, X, ...)` is incompatible with `model=\u001b[34mAdaBoostClassifier @435\u001b[39m`:\n",
      "│ scitype(X) = Table{Union{AbstractArray{Continuous,1}, AbstractArray{Count,1}}}\n",
      "│ input_scitype(model) = Table{var\"#s44\"} where var\"#s44\"<:(AbstractArray{var\"#s13\",1} where var\"#s13\"<:Continuous).\n",
      "└ @ MLJBase /home/andrew/.julia/packages/MLJBase/uKzAz/src/machines.jl:77\n",
      "\u001b[33mEvaluating over 256 metamodels:  20%[=====>                   ]  ETA: 0:05:30\u001b[39m┌ Warning: The scitype of `X`, in `machine(model, X, ...)` is incompatible with `model=\u001b[34mAdaBoostClassifier @495\u001b[39m`:\n",
      "│ scitype(X) = Table{Union{AbstractArray{Continuous,1}, AbstractArray{Count,1}}}\n",
      "│ input_scitype(model) = Table{var\"#s44\"} where var\"#s44\"<:(AbstractArray{var\"#s13\",1} where var\"#s13\"<:Continuous).\n",
      "└ @ MLJBase /home/andrew/.julia/packages/MLJBase/uKzAz/src/machines.jl:77\n",
      "\u001b[33mEvaluating over 256 metamodels:  21%[=====>                   ]  ETA: 0:05:29\u001b[39m┌ Warning: The scitype of `X`, in `machine(model, X, ...)` is incompatible with `model=\u001b[34mAdaBoostClassifier @966\u001b[39m`:\n",
      "│ scitype(X) = Table{Union{AbstractArray{Continuous,1}, AbstractArray{Count,1}}}\n",
      "│ input_scitype(model) = Table{var\"#s44\"} where var\"#s44\"<:(AbstractArray{var\"#s13\",1} where var\"#s13\"<:Continuous).\n",
      "└ @ MLJBase /home/andrew/.julia/packages/MLJBase/uKzAz/src/machines.jl:77\n",
      "\u001b[33mEvaluating over 256 metamodels:  21%[=====>                   ]  ETA: 0:05:28\u001b[39m┌ Warning: The scitype of `X`, in `machine(model, X, ...)` is incompatible with `model=\u001b[34mAdaBoostClassifier @733\u001b[39m`:\n",
      "│ scitype(X) = Table{Union{AbstractArray{Continuous,1}, AbstractArray{Count,1}}}\n",
      "│ input_scitype(model) = Table{var\"#s44\"} where var\"#s44\"<:(AbstractArray{var\"#s13\",1} where var\"#s13\"<:Continuous).\n",
      "└ @ MLJBase /home/andrew/.julia/packages/MLJBase/uKzAz/src/machines.jl:77\n",
      "\u001b[33mEvaluating over 256 metamodels:  21%[=====>                   ]  ETA: 0:05:26\u001b[39m┌ Warning: The scitype of `X`, in `machine(model, X, ...)` is incompatible with `model=\u001b[34mAdaBoostClassifier @386\u001b[39m`:\n",
      "│ scitype(X) = Table{Union{AbstractArray{Continuous,1}, AbstractArray{Count,1}}}\n",
      "│ input_scitype(model) = Table{var\"#s44\"} where var\"#s44\"<:(AbstractArray{var\"#s13\",1} where var\"#s13\"<:Continuous).\n",
      "└ @ MLJBase /home/andrew/.julia/packages/MLJBase/uKzAz/src/machines.jl:77\n",
      "\u001b[33mEvaluating over 256 metamodels:  22%[=====>                   ]  ETA: 0:05:23\u001b[39m┌ Warning: The scitype of `X`, in `machine(model, X, ...)` is incompatible with `model=\u001b[34mAdaBoostClassifier @884\u001b[39m`:\n",
      "│ scitype(X) = Table{Union{AbstractArray{Continuous,1}, AbstractArray{Count,1}}}\n",
      "│ input_scitype(model) = Table{var\"#s44\"} where var\"#s44\"<:(AbstractArray{var\"#s13\",1} where var\"#s13\"<:Continuous).\n",
      "└ @ MLJBase /home/andrew/.julia/packages/MLJBase/uKzAz/src/machines.jl:77\n",
      "\u001b[33mEvaluating over 256 metamodels:  22%[=====>                   ]  ETA: 0:05:20\u001b[39m┌ Warning: The scitype of `X`, in `machine(model, X, ...)` is incompatible with `model=\u001b[34mAdaBoostClassifier @904\u001b[39m`:\n",
      "│ scitype(X) = Table{Union{AbstractArray{Continuous,1}, AbstractArray{Count,1}}}\n",
      "│ input_scitype(model) = Table{var\"#s44\"} where var\"#s44\"<:(AbstractArray{var\"#s13\",1} where var\"#s13\"<:Continuous).\n",
      "└ @ MLJBase /home/andrew/.julia/packages/MLJBase/uKzAz/src/machines.jl:77\n",
      "\u001b[33mEvaluating over 256 metamodels:  23%[=====>                   ]  ETA: 0:05:18\u001b[39m┌ Warning: The scitype of `X`, in `machine(model, X, ...)` is incompatible with `model=\u001b[34mAdaBoostClassifier @366\u001b[39m`:\n",
      "│ scitype(X) = Table{Union{AbstractArray{Continuous,1}, AbstractArray{Count,1}}}\n",
      "│ input_scitype(model) = Table{var\"#s44\"} where var\"#s44\"<:(AbstractArray{var\"#s13\",1} where var\"#s13\"<:Continuous).\n",
      "└ @ MLJBase /home/andrew/.julia/packages/MLJBase/uKzAz/src/machines.jl:77\n",
      "\u001b[33mEvaluating over 256 metamodels:  23%[=====>                   ]  ETA: 0:05:16\u001b[39m┌ Warning: The scitype of `X`, in `machine(model, X, ...)` is incompatible with `model=\u001b[34mAdaBoostClassifier @201\u001b[39m`:\n",
      "│ scitype(X) = Table{Union{AbstractArray{Continuous,1}, AbstractArray{Count,1}}}\n",
      "│ input_scitype(model) = Table{var\"#s44\"} where var\"#s44\"<:(AbstractArray{var\"#s13\",1} where var\"#s13\"<:Continuous).\n",
      "└ @ MLJBase /home/andrew/.julia/packages/MLJBase/uKzAz/src/machines.jl:77\n",
      "\u001b[33mEvaluating over 256 metamodels:  23%[=====>                   ]  ETA: 0:05:13\u001b[39m┌ Warning: The scitype of `X`, in `machine(model, X, ...)` is incompatible with `model=\u001b[34mAdaBoostClassifier @877\u001b[39m`:\n",
      "│ scitype(X) = Table{Union{AbstractArray{Continuous,1}, AbstractArray{Count,1}}}\n",
      "│ input_scitype(model) = Table{var\"#s44\"} where var\"#s44\"<:(AbstractArray{var\"#s13\",1} where var\"#s13\"<:Continuous).\n",
      "└ @ MLJBase /home/andrew/.julia/packages/MLJBase/uKzAz/src/machines.jl:77\n",
      "\u001b[33mEvaluating over 256 metamodels:  24%[=====>                   ]  ETA: 0:05:12\u001b[39m┌ Warning: The scitype of `X`, in `machine(model, X, ...)` is incompatible with `model=\u001b[34mAdaBoostClassifier @237\u001b[39m`:\n",
      "│ scitype(X) = Table{Union{AbstractArray{Continuous,1}, AbstractArray{Count,1}}}\n",
      "│ input_scitype(model) = Table{var\"#s44\"} where var\"#s44\"<:(AbstractArray{var\"#s13\",1} where var\"#s13\"<:Continuous).\n",
      "└ @ MLJBase /home/andrew/.julia/packages/MLJBase/uKzAz/src/machines.jl:77\n",
      "\u001b[33mEvaluating over 256 metamodels:  24%[======>                  ]  ETA: 0:05:10\u001b[39m┌ Warning: The scitype of `X`, in `machine(model, X, ...)` is incompatible with `model=\u001b[34mAdaBoostClassifier @098\u001b[39m`:\n",
      "│ scitype(X) = Table{Union{AbstractArray{Continuous,1}, AbstractArray{Count,1}}}\n",
      "│ input_scitype(model) = Table{var\"#s44\"} where var\"#s44\"<:(AbstractArray{var\"#s13\",1} where var\"#s13\"<:Continuous).\n",
      "└ @ MLJBase /home/andrew/.julia/packages/MLJBase/uKzAz/src/machines.jl:77\n",
      "\u001b[33mEvaluating over 256 metamodels:  25%[======>                  ]  ETA: 0:05:09\u001b[39m┌ Warning: The scitype of `X`, in `machine(model, X, ...)` is incompatible with `model=\u001b[34mAdaBoostClassifier @974\u001b[39m`:\n",
      "│ scitype(X) = Table{Union{AbstractArray{Continuous,1}, AbstractArray{Count,1}}}\n",
      "│ input_scitype(model) = Table{var\"#s44\"} where var\"#s44\"<:(AbstractArray{var\"#s13\",1} where var\"#s13\"<:Continuous).\n",
      "└ @ MLJBase /home/andrew/.julia/packages/MLJBase/uKzAz/src/machines.jl:77\n",
      "\u001b[33mEvaluating over 256 metamodels:  25%[======>                  ]  ETA: 0:05:07\u001b[39m┌ Warning: The scitype of `X`, in `machine(model, X, ...)` is incompatible with `model=\u001b[34mAdaBoostClassifier @495\u001b[39m`:\n",
      "│ scitype(X) = Table{Union{AbstractArray{Continuous,1}, AbstractArray{Count,1}}}\n",
      "│ input_scitype(model) = Table{var\"#s44\"} where var\"#s44\"<:(AbstractArray{var\"#s13\",1} where var\"#s13\"<:Continuous).\n",
      "└ @ MLJBase /home/andrew/.julia/packages/MLJBase/uKzAz/src/machines.jl:77\n",
      "\u001b[33mEvaluating over 256 metamodels:  25%[======>                  ]  ETA: 0:05:06\u001b[39m┌ Warning: The scitype of `X`, in `machine(model, X, ...)` is incompatible with `model=\u001b[34mAdaBoostClassifier @030\u001b[39m`:\n",
      "│ scitype(X) = Table{Union{AbstractArray{Continuous,1}, AbstractArray{Count,1}}}\n",
      "│ input_scitype(model) = Table{var\"#s44\"} where var\"#s44\"<:(AbstractArray{var\"#s13\",1} where var\"#s13\"<:Continuous).\n",
      "└ @ MLJBase /home/andrew/.julia/packages/MLJBase/uKzAz/src/machines.jl:77\n",
      "\u001b[33mEvaluating over 256 metamodels:  26%[======>                  ]  ETA: 0:05:04\u001b[39m┌ Warning: The scitype of `X`, in `machine(model, X, ...)` is incompatible with `model=\u001b[34mAdaBoostClassifier @473\u001b[39m`:\n",
      "│ scitype(X) = Table{Union{AbstractArray{Continuous,1}, AbstractArray{Count,1}}}\n",
      "│ input_scitype(model) = Table{var\"#s44\"} where var\"#s44\"<:(AbstractArray{var\"#s13\",1} where var\"#s13\"<:Continuous).\n",
      "└ @ MLJBase /home/andrew/.julia/packages/MLJBase/uKzAz/src/machines.jl:77\n"
     ]
    },
    {
     "name": "stderr",
     "output_type": "stream",
     "text": [
      "\u001b[33mEvaluating over 256 metamodels:  26%[======>                  ]  ETA: 0:05:01\u001b[39m┌ Warning: The scitype of `X`, in `machine(model, X, ...)` is incompatible with `model=\u001b[34mAdaBoostClassifier @870\u001b[39m`:\n",
      "│ scitype(X) = Table{Union{AbstractArray{Continuous,1}, AbstractArray{Count,1}}}\n",
      "│ input_scitype(model) = Table{var\"#s44\"} where var\"#s44\"<:(AbstractArray{var\"#s13\",1} where var\"#s13\"<:Continuous).\n",
      "└ @ MLJBase /home/andrew/.julia/packages/MLJBase/uKzAz/src/machines.jl:77\n",
      "\u001b[33mEvaluating over 256 metamodels:  27%[======>                  ]  ETA: 0:05:00\u001b[39m┌ Warning: The scitype of `X`, in `machine(model, X, ...)` is incompatible with `model=\u001b[34mAdaBoostClassifier @990\u001b[39m`:\n",
      "│ scitype(X) = Table{Union{AbstractArray{Continuous,1}, AbstractArray{Count,1}}}\n",
      "│ input_scitype(model) = Table{var\"#s44\"} where var\"#s44\"<:(AbstractArray{var\"#s13\",1} where var\"#s13\"<:Continuous).\n",
      "└ @ MLJBase /home/andrew/.julia/packages/MLJBase/uKzAz/src/machines.jl:77\n",
      "\u001b[33mEvaluating over 256 metamodels:  27%[======>                  ]  ETA: 0:04:58\u001b[39m┌ Warning: The scitype of `X`, in `machine(model, X, ...)` is incompatible with `model=\u001b[34mAdaBoostClassifier @967\u001b[39m`:\n",
      "│ scitype(X) = Table{Union{AbstractArray{Continuous,1}, AbstractArray{Count,1}}}\n",
      "│ input_scitype(model) = Table{var\"#s44\"} where var\"#s44\"<:(AbstractArray{var\"#s13\",1} where var\"#s13\"<:Continuous).\n",
      "└ @ MLJBase /home/andrew/.julia/packages/MLJBase/uKzAz/src/machines.jl:77\n",
      "\u001b[33mEvaluating over 256 metamodels:  27%[======>                  ]  ETA: 0:04:57\u001b[39m┌ Warning: The scitype of `X`, in `machine(model, X, ...)` is incompatible with `model=\u001b[34mAdaBoostClassifier @091\u001b[39m`:\n",
      "│ scitype(X) = Table{Union{AbstractArray{Continuous,1}, AbstractArray{Count,1}}}\n",
      "│ input_scitype(model) = Table{var\"#s44\"} where var\"#s44\"<:(AbstractArray{var\"#s13\",1} where var\"#s13\"<:Continuous).\n",
      "└ @ MLJBase /home/andrew/.julia/packages/MLJBase/uKzAz/src/machines.jl:77\n",
      "\u001b[33mEvaluating over 256 metamodels:  28%[======>                  ]  ETA: 0:04:55\u001b[39m┌ Warning: The scitype of `X`, in `machine(model, X, ...)` is incompatible with `model=\u001b[34mAdaBoostClassifier @547\u001b[39m`:\n",
      "│ scitype(X) = Table{Union{AbstractArray{Continuous,1}, AbstractArray{Count,1}}}\n",
      "│ input_scitype(model) = Table{var\"#s44\"} where var\"#s44\"<:(AbstractArray{var\"#s13\",1} where var\"#s13\"<:Continuous).\n",
      "└ @ MLJBase /home/andrew/.julia/packages/MLJBase/uKzAz/src/machines.jl:77\n",
      "\u001b[33mEvaluating over 256 metamodels:  28%[=======>                 ]  ETA: 0:04:54\u001b[39m┌ Warning: The scitype of `X`, in `machine(model, X, ...)` is incompatible with `model=\u001b[34mAdaBoostClassifier @792\u001b[39m`:\n",
      "│ scitype(X) = Table{Union{AbstractArray{Continuous,1}, AbstractArray{Count,1}}}\n",
      "│ input_scitype(model) = Table{var\"#s44\"} where var\"#s44\"<:(AbstractArray{var\"#s13\",1} where var\"#s13\"<:Continuous).\n",
      "└ @ MLJBase /home/andrew/.julia/packages/MLJBase/uKzAz/src/machines.jl:77\n",
      "\u001b[33mEvaluating over 256 metamodels:  29%[=======>                 ]  ETA: 0:04:52\u001b[39m┌ Warning: The scitype of `X`, in `machine(model, X, ...)` is incompatible with `model=\u001b[34mAdaBoostClassifier @019\u001b[39m`:\n",
      "│ scitype(X) = Table{Union{AbstractArray{Continuous,1}, AbstractArray{Count,1}}}\n",
      "│ input_scitype(model) = Table{var\"#s44\"} where var\"#s44\"<:(AbstractArray{var\"#s13\",1} where var\"#s13\"<:Continuous).\n",
      "└ @ MLJBase /home/andrew/.julia/packages/MLJBase/uKzAz/src/machines.jl:77\n",
      "\u001b[33mEvaluating over 256 metamodels:  29%[=======>                 ]  ETA: 0:04:51\u001b[39m┌ Warning: The scitype of `X`, in `machine(model, X, ...)` is incompatible with `model=\u001b[34mAdaBoostClassifier @117\u001b[39m`:\n",
      "│ scitype(X) = Table{Union{AbstractArray{Continuous,1}, AbstractArray{Count,1}}}\n",
      "│ input_scitype(model) = Table{var\"#s44\"} where var\"#s44\"<:(AbstractArray{var\"#s13\",1} where var\"#s13\"<:Continuous).\n",
      "└ @ MLJBase /home/andrew/.julia/packages/MLJBase/uKzAz/src/machines.jl:77\n",
      "\u001b[33mEvaluating over 256 metamodels:  29%[=======>                 ]  ETA: 0:04:49\u001b[39m┌ Warning: The scitype of `X`, in `machine(model, X, ...)` is incompatible with `model=\u001b[34mAdaBoostClassifier @954\u001b[39m`:\n",
      "│ scitype(X) = Table{Union{AbstractArray{Continuous,1}, AbstractArray{Count,1}}}\n",
      "│ input_scitype(model) = Table{var\"#s44\"} where var\"#s44\"<:(AbstractArray{var\"#s13\",1} where var\"#s13\"<:Continuous).\n",
      "└ @ MLJBase /home/andrew/.julia/packages/MLJBase/uKzAz/src/machines.jl:77\n",
      "\u001b[33mEvaluating over 256 metamodels:  30%[=======>                 ]  ETA: 0:04:47\u001b[39m┌ Warning: The scitype of `X`, in `machine(model, X, ...)` is incompatible with `model=\u001b[34mAdaBoostClassifier @976\u001b[39m`:\n",
      "│ scitype(X) = Table{Union{AbstractArray{Continuous,1}, AbstractArray{Count,1}}}\n",
      "│ input_scitype(model) = Table{var\"#s44\"} where var\"#s44\"<:(AbstractArray{var\"#s13\",1} where var\"#s13\"<:Continuous).\n",
      "└ @ MLJBase /home/andrew/.julia/packages/MLJBase/uKzAz/src/machines.jl:77\n",
      "\u001b[33mEvaluating over 256 metamodels:  30%[=======>                 ]  ETA: 0:04:46\u001b[39m┌ Warning: The scitype of `X`, in `machine(model, X, ...)` is incompatible with `model=\u001b[34mAdaBoostClassifier @205\u001b[39m`:\n",
      "│ scitype(X) = Table{Union{AbstractArray{Continuous,1}, AbstractArray{Count,1}}}\n",
      "│ input_scitype(model) = Table{var\"#s44\"} where var\"#s44\"<:(AbstractArray{var\"#s13\",1} where var\"#s13\"<:Continuous).\n",
      "└ @ MLJBase /home/andrew/.julia/packages/MLJBase/uKzAz/src/machines.jl:77\n",
      "\u001b[33mEvaluating over 256 metamodels:  30%[=======>                 ]  ETA: 0:04:45\u001b[39m┌ Warning: The scitype of `X`, in `machine(model, X, ...)` is incompatible with `model=\u001b[34mAdaBoostClassifier @452\u001b[39m`:\n",
      "│ scitype(X) = Table{Union{AbstractArray{Continuous,1}, AbstractArray{Count,1}}}\n",
      "│ input_scitype(model) = Table{var\"#s44\"} where var\"#s44\"<:(AbstractArray{var\"#s13\",1} where var\"#s13\"<:Continuous).\n",
      "└ @ MLJBase /home/andrew/.julia/packages/MLJBase/uKzAz/src/machines.jl:77\n",
      "\u001b[33mEvaluating over 256 metamodels:  31%[=======>                 ]  ETA: 0:04:44\u001b[39m┌ Warning: The scitype of `X`, in `machine(model, X, ...)` is incompatible with `model=\u001b[34mAdaBoostClassifier @362\u001b[39m`:\n",
      "│ scitype(X) = Table{Union{AbstractArray{Continuous,1}, AbstractArray{Count,1}}}\n",
      "│ input_scitype(model) = Table{var\"#s44\"} where var\"#s44\"<:(AbstractArray{var\"#s13\",1} where var\"#s13\"<:Continuous).\n",
      "└ @ MLJBase /home/andrew/.julia/packages/MLJBase/uKzAz/src/machines.jl:77\n",
      "\u001b[33mEvaluating over 256 metamodels:  31%[=======>                 ]  ETA: 0:04:42\u001b[39m┌ Warning: The scitype of `X`, in `machine(model, X, ...)` is incompatible with `model=\u001b[34mAdaBoostClassifier @371\u001b[39m`:\n",
      "│ scitype(X) = Table{Union{AbstractArray{Continuous,1}, AbstractArray{Count,1}}}\n",
      "│ input_scitype(model) = Table{var\"#s44\"} where var\"#s44\"<:(AbstractArray{var\"#s13\",1} where var\"#s13\"<:Continuous).\n",
      "└ @ MLJBase /home/andrew/.julia/packages/MLJBase/uKzAz/src/machines.jl:77\n",
      "\u001b[33mEvaluating over 256 metamodels:  32%[=======>                 ]  ETA: 0:04:41\u001b[39m┌ Warning: The scitype of `X`, in `machine(model, X, ...)` is incompatible with `model=\u001b[34mAdaBoostClassifier @564\u001b[39m`:\n",
      "│ scitype(X) = Table{Union{AbstractArray{Continuous,1}, AbstractArray{Count,1}}}\n",
      "│ input_scitype(model) = Table{var\"#s44\"} where var\"#s44\"<:(AbstractArray{var\"#s13\",1} where var\"#s13\"<:Continuous).\n",
      "└ @ MLJBase /home/andrew/.julia/packages/MLJBase/uKzAz/src/machines.jl:77\n",
      "\u001b[33mEvaluating over 256 metamodels:  32%[========>                ]  ETA: 0:04:40\u001b[39m┌ Warning: The scitype of `X`, in `machine(model, X, ...)` is incompatible with `model=\u001b[34mAdaBoostClassifier @618\u001b[39m`:\n",
      "│ scitype(X) = Table{Union{AbstractArray{Continuous,1}, AbstractArray{Count,1}}}\n",
      "│ input_scitype(model) = Table{var\"#s44\"} where var\"#s44\"<:(AbstractArray{var\"#s13\",1} where var\"#s13\"<:Continuous).\n",
      "└ @ MLJBase /home/andrew/.julia/packages/MLJBase/uKzAz/src/machines.jl:77\n",
      "\u001b[33mEvaluating over 256 metamodels:  32%[========>                ]  ETA: 0:04:38\u001b[39m┌ Warning: The scitype of `X`, in `machine(model, X, ...)` is incompatible with `model=\u001b[34mAdaBoostClassifier @858\u001b[39m`:\n",
      "│ scitype(X) = Table{Union{AbstractArray{Continuous,1}, AbstractArray{Count,1}}}\n",
      "│ input_scitype(model) = Table{var\"#s44\"} where var\"#s44\"<:(AbstractArray{var\"#s13\",1} where var\"#s13\"<:Continuous).\n",
      "└ @ MLJBase /home/andrew/.julia/packages/MLJBase/uKzAz/src/machines.jl:77\n"
     ]
    },
    {
     "name": "stderr",
     "output_type": "stream",
     "text": [
      "\u001b[33mEvaluating over 256 metamodels:  33%[========>                ]  ETA: 0:04:37\u001b[39m┌ Warning: The scitype of `X`, in `machine(model, X, ...)` is incompatible with `model=\u001b[34mAdaBoostClassifier @452\u001b[39m`:\n",
      "│ scitype(X) = Table{Union{AbstractArray{Continuous,1}, AbstractArray{Count,1}}}\n",
      "│ input_scitype(model) = Table{var\"#s44\"} where var\"#s44\"<:(AbstractArray{var\"#s13\",1} where var\"#s13\"<:Continuous).\n",
      "└ @ MLJBase /home/andrew/.julia/packages/MLJBase/uKzAz/src/machines.jl:77\n",
      "\u001b[33mEvaluating over 256 metamodels:  33%[========>                ]  ETA: 0:04:36\u001b[39m┌ Warning: The scitype of `X`, in `machine(model, X, ...)` is incompatible with `model=\u001b[34mAdaBoostClassifier @935\u001b[39m`:\n",
      "│ scitype(X) = Table{Union{AbstractArray{Continuous,1}, AbstractArray{Count,1}}}\n",
      "│ input_scitype(model) = Table{var\"#s44\"} where var\"#s44\"<:(AbstractArray{var\"#s13\",1} where var\"#s13\"<:Continuous).\n",
      "└ @ MLJBase /home/andrew/.julia/packages/MLJBase/uKzAz/src/machines.jl:77\n",
      "\u001b[33mEvaluating over 256 metamodels:  34%[========>                ]  ETA: 0:04:34\u001b[39m┌ Warning: The scitype of `X`, in `machine(model, X, ...)` is incompatible with `model=\u001b[34mAdaBoostClassifier @549\u001b[39m`:\n",
      "│ scitype(X) = Table{Union{AbstractArray{Continuous,1}, AbstractArray{Count,1}}}\n",
      "│ input_scitype(model) = Table{var\"#s44\"} where var\"#s44\"<:(AbstractArray{var\"#s13\",1} where var\"#s13\"<:Continuous).\n",
      "└ @ MLJBase /home/andrew/.julia/packages/MLJBase/uKzAz/src/machines.jl:77\n",
      "\u001b[33mEvaluating over 256 metamodels:  34%[========>                ]  ETA: 0:04:33\u001b[39m┌ Warning: The scitype of `X`, in `machine(model, X, ...)` is incompatible with `model=\u001b[34mAdaBoostClassifier @573\u001b[39m`:\n",
      "│ scitype(X) = Table{Union{AbstractArray{Continuous,1}, AbstractArray{Count,1}}}\n",
      "│ input_scitype(model) = Table{var\"#s44\"} where var\"#s44\"<:(AbstractArray{var\"#s13\",1} where var\"#s13\"<:Continuous).\n",
      "└ @ MLJBase /home/andrew/.julia/packages/MLJBase/uKzAz/src/machines.jl:77\n",
      "\u001b[33mEvaluating over 256 metamodels:  34%[========>                ]  ETA: 0:04:31\u001b[39m┌ Warning: The scitype of `X`, in `machine(model, X, ...)` is incompatible with `model=\u001b[34mAdaBoostClassifier @781\u001b[39m`:\n",
      "│ scitype(X) = Table{Union{AbstractArray{Continuous,1}, AbstractArray{Count,1}}}\n",
      "│ input_scitype(model) = Table{var\"#s44\"} where var\"#s44\"<:(AbstractArray{var\"#s13\",1} where var\"#s13\"<:Continuous).\n",
      "└ @ MLJBase /home/andrew/.julia/packages/MLJBase/uKzAz/src/machines.jl:77\n",
      "\u001b[33mEvaluating over 256 metamodels:  35%[========>                ]  ETA: 0:04:29\u001b[39m┌ Warning: The scitype of `X`, in `machine(model, X, ...)` is incompatible with `model=\u001b[34mAdaBoostClassifier @126\u001b[39m`:\n",
      "│ scitype(X) = Table{Union{AbstractArray{Continuous,1}, AbstractArray{Count,1}}}\n",
      "│ input_scitype(model) = Table{var\"#s44\"} where var\"#s44\"<:(AbstractArray{var\"#s13\",1} where var\"#s13\"<:Continuous).\n",
      "└ @ MLJBase /home/andrew/.julia/packages/MLJBase/uKzAz/src/machines.jl:77\n",
      "\u001b[33mEvaluating over 256 metamodels:  35%[========>                ]  ETA: 0:04:28\u001b[39m┌ Warning: The scitype of `X`, in `machine(model, X, ...)` is incompatible with `model=\u001b[34mAdaBoostClassifier @303\u001b[39m`:\n",
      "│ scitype(X) = Table{Union{AbstractArray{Continuous,1}, AbstractArray{Count,1}}}\n",
      "│ input_scitype(model) = Table{var\"#s44\"} where var\"#s44\"<:(AbstractArray{var\"#s13\",1} where var\"#s13\"<:Continuous).\n",
      "└ @ MLJBase /home/andrew/.julia/packages/MLJBase/uKzAz/src/machines.jl:77\n",
      "\u001b[33mEvaluating over 256 metamodels:  36%[========>                ]  ETA: 0:04:27\u001b[39m┌ Warning: The scitype of `X`, in `machine(model, X, ...)` is incompatible with `model=\u001b[34mAdaBoostClassifier @746\u001b[39m`:\n",
      "│ scitype(X) = Table{Union{AbstractArray{Continuous,1}, AbstractArray{Count,1}}}\n",
      "│ input_scitype(model) = Table{var\"#s44\"} where var\"#s44\"<:(AbstractArray{var\"#s13\",1} where var\"#s13\"<:Continuous).\n",
      "└ @ MLJBase /home/andrew/.julia/packages/MLJBase/uKzAz/src/machines.jl:77\n",
      "\u001b[33mEvaluating over 256 metamodels:  36%[========>                ]  ETA: 0:04:25\u001b[39m┌ Warning: The scitype of `X`, in `machine(model, X, ...)` is incompatible with `model=\u001b[34mAdaBoostClassifier @141\u001b[39m`:\n",
      "│ scitype(X) = Table{Union{AbstractArray{Continuous,1}, AbstractArray{Count,1}}}\n",
      "│ input_scitype(model) = Table{var\"#s44\"} where var\"#s44\"<:(AbstractArray{var\"#s13\",1} where var\"#s13\"<:Continuous).\n",
      "└ @ MLJBase /home/andrew/.julia/packages/MLJBase/uKzAz/src/machines.jl:77\n",
      "\u001b[33mEvaluating over 256 metamodels:  36%[=========>               ]  ETA: 0:04:24\u001b[39m┌ Warning: The scitype of `X`, in `machine(model, X, ...)` is incompatible with `model=\u001b[34mAdaBoostClassifier @267\u001b[39m`:\n",
      "│ scitype(X) = Table{Union{AbstractArray{Continuous,1}, AbstractArray{Count,1}}}\n",
      "│ input_scitype(model) = Table{var\"#s44\"} where var\"#s44\"<:(AbstractArray{var\"#s13\",1} where var\"#s13\"<:Continuous).\n",
      "└ @ MLJBase /home/andrew/.julia/packages/MLJBase/uKzAz/src/machines.jl:77\n",
      "\u001b[33mEvaluating over 256 metamodels:  37%[=========>               ]  ETA: 0:04:23\u001b[39m┌ Warning: The scitype of `X`, in `machine(model, X, ...)` is incompatible with `model=\u001b[34mAdaBoostClassifier @423\u001b[39m`:\n",
      "│ scitype(X) = Table{Union{AbstractArray{Continuous,1}, AbstractArray{Count,1}}}\n",
      "│ input_scitype(model) = Table{var\"#s44\"} where var\"#s44\"<:(AbstractArray{var\"#s13\",1} where var\"#s13\"<:Continuous).\n",
      "└ @ MLJBase /home/andrew/.julia/packages/MLJBase/uKzAz/src/machines.jl:77\n",
      "\u001b[33mEvaluating over 256 metamodels:  37%[=========>               ]  ETA: 0:04:21\u001b[39m┌ Warning: The scitype of `X`, in `machine(model, X, ...)` is incompatible with `model=\u001b[34mAdaBoostClassifier @883\u001b[39m`:\n",
      "│ scitype(X) = Table{Union{AbstractArray{Continuous,1}, AbstractArray{Count,1}}}\n",
      "│ input_scitype(model) = Table{var\"#s44\"} where var\"#s44\"<:(AbstractArray{var\"#s13\",1} where var\"#s13\"<:Continuous).\n",
      "└ @ MLJBase /home/andrew/.julia/packages/MLJBase/uKzAz/src/machines.jl:77\n",
      "\u001b[33mEvaluating over 256 metamodels:  38%[=========>               ]  ETA: 0:04:20\u001b[39m┌ Warning: The scitype of `X`, in `machine(model, X, ...)` is incompatible with `model=\u001b[34mAdaBoostClassifier @883\u001b[39m`:\n",
      "│ scitype(X) = Table{Union{AbstractArray{Continuous,1}, AbstractArray{Count,1}}}\n",
      "│ input_scitype(model) = Table{var\"#s44\"} where var\"#s44\"<:(AbstractArray{var\"#s13\",1} where var\"#s13\"<:Continuous).\n",
      "└ @ MLJBase /home/andrew/.julia/packages/MLJBase/uKzAz/src/machines.jl:77\n",
      "\u001b[33mEvaluating over 256 metamodels:  38%[=========>               ]  ETA: 0:04:19\u001b[39m┌ Warning: The scitype of `X`, in `machine(model, X, ...)` is incompatible with `model=\u001b[34mAdaBoostClassifier @487\u001b[39m`:\n",
      "│ scitype(X) = Table{Union{AbstractArray{Continuous,1}, AbstractArray{Count,1}}}\n",
      "│ input_scitype(model) = Table{var\"#s44\"} where var\"#s44\"<:(AbstractArray{var\"#s13\",1} where var\"#s13\"<:Continuous).\n",
      "└ @ MLJBase /home/andrew/.julia/packages/MLJBase/uKzAz/src/machines.jl:77\n",
      "\u001b[33mEvaluating over 256 metamodels:  38%[=========>               ]  ETA: 0:04:17\u001b[39m┌ Warning: The scitype of `X`, in `machine(model, X, ...)` is incompatible with `model=\u001b[34mAdaBoostClassifier @654\u001b[39m`:\n",
      "│ scitype(X) = Table{Union{AbstractArray{Continuous,1}, AbstractArray{Count,1}}}\n",
      "│ input_scitype(model) = Table{var\"#s44\"} where var\"#s44\"<:(AbstractArray{var\"#s13\",1} where var\"#s13\"<:Continuous).\n",
      "└ @ MLJBase /home/andrew/.julia/packages/MLJBase/uKzAz/src/machines.jl:77\n",
      "\u001b[33mEvaluating over 256 metamodels:  39%[=========>               ]  ETA: 0:04:16\u001b[39m┌ Warning: The scitype of `X`, in `machine(model, X, ...)` is incompatible with `model=\u001b[34mAdaBoostClassifier @682\u001b[39m`:\n",
      "│ scitype(X) = Table{Union{AbstractArray{Continuous,1}, AbstractArray{Count,1}}}\n",
      "│ input_scitype(model) = Table{var\"#s44\"} where var\"#s44\"<:(AbstractArray{var\"#s13\",1} where var\"#s13\"<:Continuous).\n",
      "└ @ MLJBase /home/andrew/.julia/packages/MLJBase/uKzAz/src/machines.jl:77\n",
      "\u001b[33mEvaluating over 256 metamodels:  39%[=========>               ]  ETA: 0:04:14\u001b[39m┌ Warning: The scitype of `X`, in `machine(model, X, ...)` is incompatible with `model=\u001b[34mAdaBoostClassifier @925\u001b[39m`:\n",
      "│ scitype(X) = Table{Union{AbstractArray{Continuous,1}, AbstractArray{Count,1}}}\n",
      "│ input_scitype(model) = Table{var\"#s44\"} where var\"#s44\"<:(AbstractArray{var\"#s13\",1} where var\"#s13\"<:Continuous).\n",
      "└ @ MLJBase /home/andrew/.julia/packages/MLJBase/uKzAz/src/machines.jl:77\n"
     ]
    },
    {
     "name": "stderr",
     "output_type": "stream",
     "text": [
      "\u001b[33mEvaluating over 256 metamodels:  39%[=========>               ]  ETA: 0:04:12\u001b[39m┌ Warning: The scitype of `X`, in `machine(model, X, ...)` is incompatible with `model=\u001b[34mAdaBoostClassifier @889\u001b[39m`:\n",
      "│ scitype(X) = Table{Union{AbstractArray{Continuous,1}, AbstractArray{Count,1}}}\n",
      "│ input_scitype(model) = Table{var\"#s44\"} where var\"#s44\"<:(AbstractArray{var\"#s13\",1} where var\"#s13\"<:Continuous).\n",
      "└ @ MLJBase /home/andrew/.julia/packages/MLJBase/uKzAz/src/machines.jl:77\n",
      "\u001b[33mEvaluating over 256 metamodels:  40%[=========>               ]  ETA: 0:04:11\u001b[39m┌ Warning: The scitype of `X`, in `machine(model, X, ...)` is incompatible with `model=\u001b[34mAdaBoostClassifier @375\u001b[39m`:\n",
      "│ scitype(X) = Table{Union{AbstractArray{Continuous,1}, AbstractArray{Count,1}}}\n",
      "│ input_scitype(model) = Table{var\"#s44\"} where var\"#s44\"<:(AbstractArray{var\"#s13\",1} where var\"#s13\"<:Continuous).\n",
      "└ @ MLJBase /home/andrew/.julia/packages/MLJBase/uKzAz/src/machines.jl:77\n",
      "\u001b[33mEvaluating over 256 metamodels:  40%[==========>              ]  ETA: 0:04:09\u001b[39m┌ Warning: The scitype of `X`, in `machine(model, X, ...)` is incompatible with `model=\u001b[34mAdaBoostClassifier @218\u001b[39m`:\n",
      "│ scitype(X) = Table{Union{AbstractArray{Continuous,1}, AbstractArray{Count,1}}}\n",
      "│ input_scitype(model) = Table{var\"#s44\"} where var\"#s44\"<:(AbstractArray{var\"#s13\",1} where var\"#s13\"<:Continuous).\n",
      "└ @ MLJBase /home/andrew/.julia/packages/MLJBase/uKzAz/src/machines.jl:77\n",
      "\u001b[33mEvaluating over 256 metamodels:  41%[==========>              ]  ETA: 0:04:07\u001b[39m┌ Warning: The scitype of `X`, in `machine(model, X, ...)` is incompatible with `model=\u001b[34mAdaBoostClassifier @265\u001b[39m`:\n",
      "│ scitype(X) = Table{Union{AbstractArray{Continuous,1}, AbstractArray{Count,1}}}\n",
      "│ input_scitype(model) = Table{var\"#s44\"} where var\"#s44\"<:(AbstractArray{var\"#s13\",1} where var\"#s13\"<:Continuous).\n",
      "└ @ MLJBase /home/andrew/.julia/packages/MLJBase/uKzAz/src/machines.jl:77\n",
      "\u001b[33mEvaluating over 256 metamodels:  41%[==========>              ]  ETA: 0:04:06\u001b[39m┌ Warning: The scitype of `X`, in `machine(model, X, ...)` is incompatible with `model=\u001b[34mAdaBoostClassifier @894\u001b[39m`:\n",
      "│ scitype(X) = Table{Union{AbstractArray{Continuous,1}, AbstractArray{Count,1}}}\n",
      "│ input_scitype(model) = Table{var\"#s44\"} where var\"#s44\"<:(AbstractArray{var\"#s13\",1} where var\"#s13\"<:Continuous).\n",
      "└ @ MLJBase /home/andrew/.julia/packages/MLJBase/uKzAz/src/machines.jl:77\n",
      "\u001b[33mEvaluating over 256 metamodels:  41%[==========>              ]  ETA: 0:04:04\u001b[39m┌ Warning: The scitype of `X`, in `machine(model, X, ...)` is incompatible with `model=\u001b[34mAdaBoostClassifier @967\u001b[39m`:\n",
      "│ scitype(X) = Table{Union{AbstractArray{Continuous,1}, AbstractArray{Count,1}}}\n",
      "│ input_scitype(model) = Table{var\"#s44\"} where var\"#s44\"<:(AbstractArray{var\"#s13\",1} where var\"#s13\"<:Continuous).\n",
      "└ @ MLJBase /home/andrew/.julia/packages/MLJBase/uKzAz/src/machines.jl:77\n",
      "\u001b[33mEvaluating over 256 metamodels:  42%[==========>              ]  ETA: 0:04:02\u001b[39m┌ Warning: The scitype of `X`, in `machine(model, X, ...)` is incompatible with `model=\u001b[34mAdaBoostClassifier @058\u001b[39m`:\n",
      "│ scitype(X) = Table{Union{AbstractArray{Continuous,1}, AbstractArray{Count,1}}}\n",
      "│ input_scitype(model) = Table{var\"#s44\"} where var\"#s44\"<:(AbstractArray{var\"#s13\",1} where var\"#s13\"<:Continuous).\n",
      "└ @ MLJBase /home/andrew/.julia/packages/MLJBase/uKzAz/src/machines.jl:77\n",
      "\u001b[33mEvaluating over 256 metamodels:  42%[==========>              ]  ETA: 0:04:00\u001b[39m┌ Warning: The scitype of `X`, in `machine(model, X, ...)` is incompatible with `model=\u001b[34mAdaBoostClassifier @466\u001b[39m`:\n",
      "│ scitype(X) = Table{Union{AbstractArray{Continuous,1}, AbstractArray{Count,1}}}\n",
      "│ input_scitype(model) = Table{var\"#s44\"} where var\"#s44\"<:(AbstractArray{var\"#s13\",1} where var\"#s13\"<:Continuous).\n",
      "└ @ MLJBase /home/andrew/.julia/packages/MLJBase/uKzAz/src/machines.jl:77\n",
      "\u001b[33mEvaluating over 256 metamodels:  43%[==========>              ]  ETA: 0:03:59\u001b[39m┌ Warning: The scitype of `X`, in `machine(model, X, ...)` is incompatible with `model=\u001b[34mAdaBoostClassifier @888\u001b[39m`:\n",
      "│ scitype(X) = Table{Union{AbstractArray{Continuous,1}, AbstractArray{Count,1}}}\n",
      "│ input_scitype(model) = Table{var\"#s44\"} where var\"#s44\"<:(AbstractArray{var\"#s13\",1} where var\"#s13\"<:Continuous).\n",
      "└ @ MLJBase /home/andrew/.julia/packages/MLJBase/uKzAz/src/machines.jl:77\n",
      "\u001b[33mEvaluating over 256 metamodels:  43%[==========>              ]  ETA: 0:03:57\u001b[39m┌ Warning: The scitype of `X`, in `machine(model, X, ...)` is incompatible with `model=\u001b[34mAdaBoostClassifier @914\u001b[39m`:\n",
      "│ scitype(X) = Table{Union{AbstractArray{Continuous,1}, AbstractArray{Count,1}}}\n",
      "│ input_scitype(model) = Table{var\"#s44\"} where var\"#s44\"<:(AbstractArray{var\"#s13\",1} where var\"#s13\"<:Continuous).\n",
      "└ @ MLJBase /home/andrew/.julia/packages/MLJBase/uKzAz/src/machines.jl:77\n",
      "\u001b[33mEvaluating over 256 metamodels:  43%[==========>              ]  ETA: 0:03:55\u001b[39m┌ Warning: The scitype of `X`, in `machine(model, X, ...)` is incompatible with `model=\u001b[34mAdaBoostClassifier @265\u001b[39m`:\n",
      "│ scitype(X) = Table{Union{AbstractArray{Continuous,1}, AbstractArray{Count,1}}}\n",
      "│ input_scitype(model) = Table{var\"#s44\"} where var\"#s44\"<:(AbstractArray{var\"#s13\",1} where var\"#s13\"<:Continuous).\n",
      "└ @ MLJBase /home/andrew/.julia/packages/MLJBase/uKzAz/src/machines.jl:77\n",
      "\u001b[33mEvaluating over 256 metamodels:  44%[==========>              ]  ETA: 0:03:54\u001b[39m┌ Warning: The scitype of `X`, in `machine(model, X, ...)` is incompatible with `model=\u001b[34mAdaBoostClassifier @421\u001b[39m`:\n",
      "│ scitype(X) = Table{Union{AbstractArray{Continuous,1}, AbstractArray{Count,1}}}\n",
      "│ input_scitype(model) = Table{var\"#s44\"} where var\"#s44\"<:(AbstractArray{var\"#s13\",1} where var\"#s13\"<:Continuous).\n",
      "└ @ MLJBase /home/andrew/.julia/packages/MLJBase/uKzAz/src/machines.jl:77\n",
      "\u001b[33mEvaluating over 256 metamodels:  44%[===========>             ]  ETA: 0:03:52\u001b[39m┌ Warning: The scitype of `X`, in `machine(model, X, ...)` is incompatible with `model=\u001b[34mAdaBoostClassifier @620\u001b[39m`:\n",
      "│ scitype(X) = Table{Union{AbstractArray{Continuous,1}, AbstractArray{Count,1}}}\n",
      "│ input_scitype(model) = Table{var\"#s44\"} where var\"#s44\"<:(AbstractArray{var\"#s13\",1} where var\"#s13\"<:Continuous).\n",
      "└ @ MLJBase /home/andrew/.julia/packages/MLJBase/uKzAz/src/machines.jl:77\n",
      "\u001b[33mEvaluating over 256 metamodels:  45%[===========>             ]  ETA: 0:03:50\u001b[39m┌ Warning: The scitype of `X`, in `machine(model, X, ...)` is incompatible with `model=\u001b[34mAdaBoostClassifier @281\u001b[39m`:\n",
      "│ scitype(X) = Table{Union{AbstractArray{Continuous,1}, AbstractArray{Count,1}}}\n",
      "│ input_scitype(model) = Table{var\"#s44\"} where var\"#s44\"<:(AbstractArray{var\"#s13\",1} where var\"#s13\"<:Continuous).\n",
      "└ @ MLJBase /home/andrew/.julia/packages/MLJBase/uKzAz/src/machines.jl:77\n",
      "\u001b[33mEvaluating over 256 metamodels:  45%[===========>             ]  ETA: 0:03:48\u001b[39m┌ Warning: The scitype of `X`, in `machine(model, X, ...)` is incompatible with `model=\u001b[34mAdaBoostClassifier @976\u001b[39m`:\n",
      "│ scitype(X) = Table{Union{AbstractArray{Continuous,1}, AbstractArray{Count,1}}}\n",
      "│ input_scitype(model) = Table{var\"#s44\"} where var\"#s44\"<:(AbstractArray{var\"#s13\",1} where var\"#s13\"<:Continuous).\n",
      "└ @ MLJBase /home/andrew/.julia/packages/MLJBase/uKzAz/src/machines.jl:77\n",
      "\u001b[33mEvaluating over 256 metamodels:  45%[===========>             ]  ETA: 0:03:46\u001b[39m┌ Warning: The scitype of `X`, in `machine(model, X, ...)` is incompatible with `model=\u001b[34mAdaBoostClassifier @915\u001b[39m`:\n",
      "│ scitype(X) = Table{Union{AbstractArray{Continuous,1}, AbstractArray{Count,1}}}\n",
      "│ input_scitype(model) = Table{var\"#s44\"} where var\"#s44\"<:(AbstractArray{var\"#s13\",1} where var\"#s13\"<:Continuous).\n",
      "└ @ MLJBase /home/andrew/.julia/packages/MLJBase/uKzAz/src/machines.jl:77\n",
      "\u001b[33mEvaluating over 256 metamodels:  46%[===========>             ]  ETA: 0:03:45\u001b[39m┌ Warning: The scitype of `X`, in `machine(model, X, ...)` is incompatible with `model=\u001b[34mAdaBoostClassifier @297\u001b[39m`:\n",
      "│ scitype(X) = Table{Union{AbstractArray{Continuous,1}, AbstractArray{Count,1}}}\n",
      "│ input_scitype(model) = Table{var\"#s44\"} where var\"#s44\"<:(AbstractArray{var\"#s13\",1} where var\"#s13\"<:Continuous).\n",
      "└ @ MLJBase /home/andrew/.julia/packages/MLJBase/uKzAz/src/machines.jl:77\n"
     ]
    },
    {
     "name": "stderr",
     "output_type": "stream",
     "text": [
      "\u001b[33mEvaluating over 256 metamodels:  46%[===========>             ]  ETA: 0:03:43\u001b[39m┌ Warning: The scitype of `X`, in `machine(model, X, ...)` is incompatible with `model=\u001b[34mAdaBoostClassifier @708\u001b[39m`:\n",
      "│ scitype(X) = Table{Union{AbstractArray{Continuous,1}, AbstractArray{Count,1}}}\n",
      "│ input_scitype(model) = Table{var\"#s44\"} where var\"#s44\"<:(AbstractArray{var\"#s13\",1} where var\"#s13\"<:Continuous).\n",
      "└ @ MLJBase /home/andrew/.julia/packages/MLJBase/uKzAz/src/machines.jl:77\n",
      "\u001b[33mEvaluating over 256 metamodels:  46%[===========>             ]  ETA: 0:03:41\u001b[39m┌ Warning: The scitype of `X`, in `machine(model, X, ...)` is incompatible with `model=\u001b[34mAdaBoostClassifier @386\u001b[39m`:\n",
      "│ scitype(X) = Table{Union{AbstractArray{Continuous,1}, AbstractArray{Count,1}}}\n",
      "│ input_scitype(model) = Table{var\"#s44\"} where var\"#s44\"<:(AbstractArray{var\"#s13\",1} where var\"#s13\"<:Continuous).\n",
      "└ @ MLJBase /home/andrew/.julia/packages/MLJBase/uKzAz/src/machines.jl:77\n",
      "\u001b[33mEvaluating over 256 metamodels:  47%[===========>             ]  ETA: 0:03:40\u001b[39m┌ Warning: The scitype of `X`, in `machine(model, X, ...)` is incompatible with `model=\u001b[34mAdaBoostClassifier @191\u001b[39m`:\n",
      "│ scitype(X) = Table{Union{AbstractArray{Continuous,1}, AbstractArray{Count,1}}}\n",
      "│ input_scitype(model) = Table{var\"#s44\"} where var\"#s44\"<:(AbstractArray{var\"#s13\",1} where var\"#s13\"<:Continuous).\n",
      "└ @ MLJBase /home/andrew/.julia/packages/MLJBase/uKzAz/src/machines.jl:77\n",
      "\u001b[33mEvaluating over 256 metamodels:  47%[===========>             ]  ETA: 0:03:38\u001b[39m┌ Warning: The scitype of `X`, in `machine(model, X, ...)` is incompatible with `model=\u001b[34mAdaBoostClassifier @955\u001b[39m`:\n",
      "│ scitype(X) = Table{Union{AbstractArray{Continuous,1}, AbstractArray{Count,1}}}\n",
      "│ input_scitype(model) = Table{var\"#s44\"} where var\"#s44\"<:(AbstractArray{var\"#s13\",1} where var\"#s13\"<:Continuous).\n",
      "└ @ MLJBase /home/andrew/.julia/packages/MLJBase/uKzAz/src/machines.jl:77\n",
      "\u001b[33mEvaluating over 256 metamodels:  48%[===========>             ]  ETA: 0:03:36\u001b[39m┌ Warning: The scitype of `X`, in `machine(model, X, ...)` is incompatible with `model=\u001b[34mAdaBoostClassifier @219\u001b[39m`:\n",
      "│ scitype(X) = Table{Union{AbstractArray{Continuous,1}, AbstractArray{Count,1}}}\n",
      "│ input_scitype(model) = Table{var\"#s44\"} where var\"#s44\"<:(AbstractArray{var\"#s13\",1} where var\"#s13\"<:Continuous).\n",
      "└ @ MLJBase /home/andrew/.julia/packages/MLJBase/uKzAz/src/machines.jl:77\n",
      "\u001b[33mEvaluating over 256 metamodels:  48%[============>            ]  ETA: 0:03:34\u001b[39m┌ Warning: The scitype of `X`, in `machine(model, X, ...)` is incompatible with `model=\u001b[34mAdaBoostClassifier @419\u001b[39m`:\n",
      "│ scitype(X) = Table{Union{AbstractArray{Continuous,1}, AbstractArray{Count,1}}}\n",
      "│ input_scitype(model) = Table{var\"#s44\"} where var\"#s44\"<:(AbstractArray{var\"#s13\",1} where var\"#s13\"<:Continuous).\n",
      "└ @ MLJBase /home/andrew/.julia/packages/MLJBase/uKzAz/src/machines.jl:77\n",
      "\u001b[33mEvaluating over 256 metamodels:  48%[============>            ]  ETA: 0:03:33\u001b[39m┌ Warning: The scitype of `X`, in `machine(model, X, ...)` is incompatible with `model=\u001b[34mAdaBoostClassifier @012\u001b[39m`:\n",
      "│ scitype(X) = Table{Union{AbstractArray{Continuous,1}, AbstractArray{Count,1}}}\n",
      "│ input_scitype(model) = Table{var\"#s44\"} where var\"#s44\"<:(AbstractArray{var\"#s13\",1} where var\"#s13\"<:Continuous).\n",
      "└ @ MLJBase /home/andrew/.julia/packages/MLJBase/uKzAz/src/machines.jl:77\n",
      "\u001b[33mEvaluating over 256 metamodels:  49%[============>            ]  ETA: 0:03:31\u001b[39m┌ Warning: The scitype of `X`, in `machine(model, X, ...)` is incompatible with `model=\u001b[34mAdaBoostClassifier @801\u001b[39m`:\n",
      "│ scitype(X) = Table{Union{AbstractArray{Continuous,1}, AbstractArray{Count,1}}}\n",
      "│ input_scitype(model) = Table{var\"#s44\"} where var\"#s44\"<:(AbstractArray{var\"#s13\",1} where var\"#s13\"<:Continuous).\n",
      "└ @ MLJBase /home/andrew/.julia/packages/MLJBase/uKzAz/src/machines.jl:77\n",
      "\u001b[33mEvaluating over 256 metamodels:  49%[============>            ]  ETA: 0:03:30\u001b[39m┌ Warning: The scitype of `X`, in `machine(model, X, ...)` is incompatible with `model=\u001b[34mAdaBoostClassifier @237\u001b[39m`:\n",
      "│ scitype(X) = Table{Union{AbstractArray{Continuous,1}, AbstractArray{Count,1}}}\n",
      "│ input_scitype(model) = Table{var\"#s44\"} where var\"#s44\"<:(AbstractArray{var\"#s13\",1} where var\"#s13\"<:Continuous).\n",
      "└ @ MLJBase /home/andrew/.julia/packages/MLJBase/uKzAz/src/machines.jl:77\n",
      "\u001b[33mEvaluating over 256 metamodels:  50%[============>            ]  ETA: 0:03:28\u001b[39m┌ Warning: The scitype of `X`, in `machine(model, X, ...)` is incompatible with `model=\u001b[34mAdaBoostClassifier @089\u001b[39m`:\n",
      "│ scitype(X) = Table{Union{AbstractArray{Continuous,1}, AbstractArray{Count,1}}}\n",
      "│ input_scitype(model) = Table{var\"#s44\"} where var\"#s44\"<:(AbstractArray{var\"#s13\",1} where var\"#s13\"<:Continuous).\n",
      "└ @ MLJBase /home/andrew/.julia/packages/MLJBase/uKzAz/src/machines.jl:77\n",
      "\u001b[33mEvaluating over 256 metamodels:  50%[============>            ]  ETA: 0:03:26\u001b[39m┌ Warning: The scitype of `X`, in `machine(model, X, ...)` is incompatible with `model=\u001b[34mAdaBoostClassifier @214\u001b[39m`:\n",
      "│ scitype(X) = Table{Union{AbstractArray{Continuous,1}, AbstractArray{Count,1}}}\n",
      "│ input_scitype(model) = Table{var\"#s44\"} where var\"#s44\"<:(AbstractArray{var\"#s13\",1} where var\"#s13\"<:Continuous).\n",
      "└ @ MLJBase /home/andrew/.julia/packages/MLJBase/uKzAz/src/machines.jl:77\n",
      "\u001b[33mEvaluating over 256 metamodels:  50%[============>            ]  ETA: 0:03:25\u001b[39m┌ Warning: The scitype of `X`, in `machine(model, X, ...)` is incompatible with `model=\u001b[34mAdaBoostClassifier @728\u001b[39m`:\n",
      "│ scitype(X) = Table{Union{AbstractArray{Continuous,1}, AbstractArray{Count,1}}}\n",
      "│ input_scitype(model) = Table{var\"#s44\"} where var\"#s44\"<:(AbstractArray{var\"#s13\",1} where var\"#s13\"<:Continuous).\n",
      "└ @ MLJBase /home/andrew/.julia/packages/MLJBase/uKzAz/src/machines.jl:77\n",
      "\u001b[33mEvaluating over 256 metamodels:  51%[============>            ]  ETA: 0:03:23\u001b[39m┌ Warning: The scitype of `X`, in `machine(model, X, ...)` is incompatible with `model=\u001b[34mAdaBoostClassifier @823\u001b[39m`:\n",
      "│ scitype(X) = Table{Union{AbstractArray{Continuous,1}, AbstractArray{Count,1}}}\n",
      "│ input_scitype(model) = Table{var\"#s44\"} where var\"#s44\"<:(AbstractArray{var\"#s13\",1} where var\"#s13\"<:Continuous).\n",
      "└ @ MLJBase /home/andrew/.julia/packages/MLJBase/uKzAz/src/machines.jl:77\n",
      "\u001b[33mEvaluating over 256 metamodels:  51%[============>            ]  ETA: 0:03:21\u001b[39m┌ Warning: The scitype of `X`, in `machine(model, X, ...)` is incompatible with `model=\u001b[34mAdaBoostClassifier @754\u001b[39m`:\n",
      "│ scitype(X) = Table{Union{AbstractArray{Continuous,1}, AbstractArray{Count,1}}}\n",
      "│ input_scitype(model) = Table{var\"#s44\"} where var\"#s44\"<:(AbstractArray{var\"#s13\",1} where var\"#s13\"<:Continuous).\n",
      "└ @ MLJBase /home/andrew/.julia/packages/MLJBase/uKzAz/src/machines.jl:77\n",
      "\u001b[33mEvaluating over 256 metamodels:  52%[============>            ]  ETA: 0:03:20\u001b[39m┌ Warning: The scitype of `X`, in `machine(model, X, ...)` is incompatible with `model=\u001b[34mAdaBoostClassifier @494\u001b[39m`:\n",
      "│ scitype(X) = Table{Union{AbstractArray{Continuous,1}, AbstractArray{Count,1}}}\n",
      "│ input_scitype(model) = Table{var\"#s44\"} where var\"#s44\"<:(AbstractArray{var\"#s13\",1} where var\"#s13\"<:Continuous).\n",
      "└ @ MLJBase /home/andrew/.julia/packages/MLJBase/uKzAz/src/machines.jl:77\n",
      "\u001b[33mEvaluating over 256 metamodels:  52%[============>            ]  ETA: 0:03:18\u001b[39m┌ Warning: The scitype of `X`, in `machine(model, X, ...)` is incompatible with `model=\u001b[34mAdaBoostClassifier @073\u001b[39m`:\n",
      "│ scitype(X) = Table{Union{AbstractArray{Continuous,1}, AbstractArray{Count,1}}}\n",
      "│ input_scitype(model) = Table{var\"#s44\"} where var\"#s44\"<:(AbstractArray{var\"#s13\",1} where var\"#s13\"<:Continuous).\n",
      "└ @ MLJBase /home/andrew/.julia/packages/MLJBase/uKzAz/src/machines.jl:77\n",
      "\u001b[33mEvaluating over 256 metamodels:  52%[=============>           ]  ETA: 0:03:16\u001b[39m┌ Warning: The scitype of `X`, in `machine(model, X, ...)` is incompatible with `model=\u001b[34mAdaBoostClassifier @568\u001b[39m`:\n",
      "│ scitype(X) = Table{Union{AbstractArray{Continuous,1}, AbstractArray{Count,1}}}\n",
      "│ input_scitype(model) = Table{var\"#s44\"} where var\"#s44\"<:(AbstractArray{var\"#s13\",1} where var\"#s13\"<:Continuous).\n",
      "└ @ MLJBase /home/andrew/.julia/packages/MLJBase/uKzAz/src/machines.jl:77\n"
     ]
    },
    {
     "name": "stderr",
     "output_type": "stream",
     "text": [
      "\u001b[33mEvaluating over 256 metamodels:  53%[=============>           ]  ETA: 0:03:15\u001b[39m┌ Warning: The scitype of `X`, in `machine(model, X, ...)` is incompatible with `model=\u001b[34mAdaBoostClassifier @268\u001b[39m`:\n",
      "│ scitype(X) = Table{Union{AbstractArray{Continuous,1}, AbstractArray{Count,1}}}\n",
      "│ input_scitype(model) = Table{var\"#s44\"} where var\"#s44\"<:(AbstractArray{var\"#s13\",1} where var\"#s13\"<:Continuous).\n",
      "└ @ MLJBase /home/andrew/.julia/packages/MLJBase/uKzAz/src/machines.jl:77\n",
      "\u001b[33mEvaluating over 256 metamodels:  53%[=============>           ]  ETA: 0:03:13\u001b[39m┌ Warning: The scitype of `X`, in `machine(model, X, ...)` is incompatible with `model=\u001b[34mAdaBoostClassifier @180\u001b[39m`:\n",
      "│ scitype(X) = Table{Union{AbstractArray{Continuous,1}, AbstractArray{Count,1}}}\n",
      "│ input_scitype(model) = Table{var\"#s44\"} where var\"#s44\"<:(AbstractArray{var\"#s13\",1} where var\"#s13\"<:Continuous).\n",
      "└ @ MLJBase /home/andrew/.julia/packages/MLJBase/uKzAz/src/machines.jl:77\n",
      "\u001b[33mEvaluating over 256 metamodels:  54%[=============>           ]  ETA: 0:03:12\u001b[39m┌ Warning: The scitype of `X`, in `machine(model, X, ...)` is incompatible with `model=\u001b[34mAdaBoostClassifier @137\u001b[39m`:\n",
      "│ scitype(X) = Table{Union{AbstractArray{Continuous,1}, AbstractArray{Count,1}}}\n",
      "│ input_scitype(model) = Table{var\"#s44\"} where var\"#s44\"<:(AbstractArray{var\"#s13\",1} where var\"#s13\"<:Continuous).\n",
      "└ @ MLJBase /home/andrew/.julia/packages/MLJBase/uKzAz/src/machines.jl:77\n",
      "\u001b[33mEvaluating over 256 metamodels:  54%[=============>           ]  ETA: 0:03:10\u001b[39m┌ Warning: The scitype of `X`, in `machine(model, X, ...)` is incompatible with `model=\u001b[34mAdaBoostClassifier @615\u001b[39m`:\n",
      "│ scitype(X) = Table{Union{AbstractArray{Continuous,1}, AbstractArray{Count,1}}}\n",
      "│ input_scitype(model) = Table{var\"#s44\"} where var\"#s44\"<:(AbstractArray{var\"#s13\",1} where var\"#s13\"<:Continuous).\n",
      "└ @ MLJBase /home/andrew/.julia/packages/MLJBase/uKzAz/src/machines.jl:77\n",
      "\u001b[33mEvaluating over 256 metamodels:  54%[=============>           ]  ETA: 0:03:09\u001b[39m┌ Warning: The scitype of `X`, in `machine(model, X, ...)` is incompatible with `model=\u001b[34mAdaBoostClassifier @688\u001b[39m`:\n",
      "│ scitype(X) = Table{Union{AbstractArray{Continuous,1}, AbstractArray{Count,1}}}\n",
      "│ input_scitype(model) = Table{var\"#s44\"} where var\"#s44\"<:(AbstractArray{var\"#s13\",1} where var\"#s13\"<:Continuous).\n",
      "└ @ MLJBase /home/andrew/.julia/packages/MLJBase/uKzAz/src/machines.jl:77\n",
      "\u001b[33mEvaluating over 256 metamodels:  55%[=============>           ]  ETA: 0:03:07\u001b[39m┌ Warning: The scitype of `X`, in `machine(model, X, ...)` is incompatible with `model=\u001b[34mAdaBoostClassifier @413\u001b[39m`:\n",
      "│ scitype(X) = Table{Union{AbstractArray{Continuous,1}, AbstractArray{Count,1}}}\n",
      "│ input_scitype(model) = Table{var\"#s44\"} where var\"#s44\"<:(AbstractArray{var\"#s13\",1} where var\"#s13\"<:Continuous).\n",
      "└ @ MLJBase /home/andrew/.julia/packages/MLJBase/uKzAz/src/machines.jl:77\n",
      "\u001b[33mEvaluating over 256 metamodels:  55%[=============>           ]  ETA: 0:03:06\u001b[39m┌ Warning: The scitype of `X`, in `machine(model, X, ...)` is incompatible with `model=\u001b[34mAdaBoostClassifier @675\u001b[39m`:\n",
      "│ scitype(X) = Table{Union{AbstractArray{Continuous,1}, AbstractArray{Count,1}}}\n",
      "│ input_scitype(model) = Table{var\"#s44\"} where var\"#s44\"<:(AbstractArray{var\"#s13\",1} where var\"#s13\"<:Continuous).\n",
      "└ @ MLJBase /home/andrew/.julia/packages/MLJBase/uKzAz/src/machines.jl:77\n",
      "\u001b[33mEvaluating over 256 metamodels:  55%[=============>           ]  ETA: 0:03:04\u001b[39m┌ Warning: The scitype of `X`, in `machine(model, X, ...)` is incompatible with `model=\u001b[34mAdaBoostClassifier @529\u001b[39m`:\n",
      "│ scitype(X) = Table{Union{AbstractArray{Continuous,1}, AbstractArray{Count,1}}}\n",
      "│ input_scitype(model) = Table{var\"#s44\"} where var\"#s44\"<:(AbstractArray{var\"#s13\",1} where var\"#s13\"<:Continuous).\n",
      "└ @ MLJBase /home/andrew/.julia/packages/MLJBase/uKzAz/src/machines.jl:77\n",
      "\u001b[33mEvaluating over 256 metamodels:  56%[=============>           ]  ETA: 0:03:02\u001b[39m┌ Warning: The scitype of `X`, in `machine(model, X, ...)` is incompatible with `model=\u001b[34mAdaBoostClassifier @103\u001b[39m`:\n",
      "│ scitype(X) = Table{Union{AbstractArray{Continuous,1}, AbstractArray{Count,1}}}\n",
      "│ input_scitype(model) = Table{var\"#s44\"} where var\"#s44\"<:(AbstractArray{var\"#s13\",1} where var\"#s13\"<:Continuous).\n",
      "└ @ MLJBase /home/andrew/.julia/packages/MLJBase/uKzAz/src/machines.jl:77\n",
      "\u001b[33mEvaluating over 256 metamodels:  56%[==============>          ]  ETA: 0:03:01\u001b[39m┌ Warning: The scitype of `X`, in `machine(model, X, ...)` is incompatible with `model=\u001b[34mAdaBoostClassifier @332\u001b[39m`:\n",
      "│ scitype(X) = Table{Union{AbstractArray{Continuous,1}, AbstractArray{Count,1}}}\n",
      "│ input_scitype(model) = Table{var\"#s44\"} where var\"#s44\"<:(AbstractArray{var\"#s13\",1} where var\"#s13\"<:Continuous).\n",
      "└ @ MLJBase /home/andrew/.julia/packages/MLJBase/uKzAz/src/machines.jl:77\n",
      "\u001b[33mEvaluating over 256 metamodels:  57%[==============>          ]  ETA: 0:02:59\u001b[39m┌ Warning: The scitype of `X`, in `machine(model, X, ...)` is incompatible with `model=\u001b[34mAdaBoostClassifier @076\u001b[39m`:\n",
      "│ scitype(X) = Table{Union{AbstractArray{Continuous,1}, AbstractArray{Count,1}}}\n",
      "│ input_scitype(model) = Table{var\"#s44\"} where var\"#s44\"<:(AbstractArray{var\"#s13\",1} where var\"#s13\"<:Continuous).\n",
      "└ @ MLJBase /home/andrew/.julia/packages/MLJBase/uKzAz/src/machines.jl:77\n",
      "\u001b[33mEvaluating over 256 metamodels:  57%[==============>          ]  ETA: 0:02:58\u001b[39m┌ Warning: The scitype of `X`, in `machine(model, X, ...)` is incompatible with `model=\u001b[34mAdaBoostClassifier @418\u001b[39m`:\n",
      "│ scitype(X) = Table{Union{AbstractArray{Continuous,1}, AbstractArray{Count,1}}}\n",
      "│ input_scitype(model) = Table{var\"#s44\"} where var\"#s44\"<:(AbstractArray{var\"#s13\",1} where var\"#s13\"<:Continuous).\n",
      "└ @ MLJBase /home/andrew/.julia/packages/MLJBase/uKzAz/src/machines.jl:77\n",
      "\u001b[33mEvaluating over 256 metamodels:  57%[==============>          ]  ETA: 0:02:56\u001b[39m┌ Warning: The scitype of `X`, in `machine(model, X, ...)` is incompatible with `model=\u001b[34mAdaBoostClassifier @063\u001b[39m`:\n",
      "│ scitype(X) = Table{Union{AbstractArray{Continuous,1}, AbstractArray{Count,1}}}\n",
      "│ input_scitype(model) = Table{var\"#s44\"} where var\"#s44\"<:(AbstractArray{var\"#s13\",1} where var\"#s13\"<:Continuous).\n",
      "└ @ MLJBase /home/andrew/.julia/packages/MLJBase/uKzAz/src/machines.jl:77\n",
      "\u001b[33mEvaluating over 256 metamodels:  58%[==============>          ]  ETA: 0:02:55\u001b[39m┌ Warning: The scitype of `X`, in `machine(model, X, ...)` is incompatible with `model=\u001b[34mAdaBoostClassifier @527\u001b[39m`:\n",
      "│ scitype(X) = Table{Union{AbstractArray{Continuous,1}, AbstractArray{Count,1}}}\n",
      "│ input_scitype(model) = Table{var\"#s44\"} where var\"#s44\"<:(AbstractArray{var\"#s13\",1} where var\"#s13\"<:Continuous).\n",
      "└ @ MLJBase /home/andrew/.julia/packages/MLJBase/uKzAz/src/machines.jl:77\n",
      "\u001b[33mEvaluating over 256 metamodels:  58%[==============>          ]  ETA: 0:02:53\u001b[39m┌ Warning: The scitype of `X`, in `machine(model, X, ...)` is incompatible with `model=\u001b[34mAdaBoostClassifier @783\u001b[39m`:\n",
      "│ scitype(X) = Table{Union{AbstractArray{Continuous,1}, AbstractArray{Count,1}}}\n",
      "│ input_scitype(model) = Table{var\"#s44\"} where var\"#s44\"<:(AbstractArray{var\"#s13\",1} where var\"#s13\"<:Continuous).\n",
      "└ @ MLJBase /home/andrew/.julia/packages/MLJBase/uKzAz/src/machines.jl:77\n",
      "\u001b[33mEvaluating over 256 metamodels:  59%[==============>          ]  ETA: 0:02:52\u001b[39m┌ Warning: The scitype of `X`, in `machine(model, X, ...)` is incompatible with `model=\u001b[34mAdaBoostClassifier @929\u001b[39m`:\n",
      "│ scitype(X) = Table{Union{AbstractArray{Continuous,1}, AbstractArray{Count,1}}}\n",
      "│ input_scitype(model) = Table{var\"#s44\"} where var\"#s44\"<:(AbstractArray{var\"#s13\",1} where var\"#s13\"<:Continuous).\n",
      "└ @ MLJBase /home/andrew/.julia/packages/MLJBase/uKzAz/src/machines.jl:77\n",
      "\u001b[33mEvaluating over 256 metamodels:  59%[==============>          ]  ETA: 0:02:50\u001b[39m┌ Warning: The scitype of `X`, in `machine(model, X, ...)` is incompatible with `model=\u001b[34mAdaBoostClassifier @370\u001b[39m`:\n",
      "│ scitype(X) = Table{Union{AbstractArray{Continuous,1}, AbstractArray{Count,1}}}\n",
      "│ input_scitype(model) = Table{var\"#s44\"} where var\"#s44\"<:(AbstractArray{var\"#s13\",1} where var\"#s13\"<:Continuous).\n",
      "└ @ MLJBase /home/andrew/.julia/packages/MLJBase/uKzAz/src/machines.jl:77\n"
     ]
    },
    {
     "name": "stderr",
     "output_type": "stream",
     "text": [
      "\u001b[33mEvaluating over 256 metamodels:  59%[==============>          ]  ETA: 0:02:49\u001b[39m┌ Warning: The scitype of `X`, in `machine(model, X, ...)` is incompatible with `model=\u001b[34mAdaBoostClassifier @809\u001b[39m`:\n",
      "│ scitype(X) = Table{Union{AbstractArray{Continuous,1}, AbstractArray{Count,1}}}\n",
      "│ input_scitype(model) = Table{var\"#s44\"} where var\"#s44\"<:(AbstractArray{var\"#s13\",1} where var\"#s13\"<:Continuous).\n",
      "└ @ MLJBase /home/andrew/.julia/packages/MLJBase/uKzAz/src/machines.jl:77\n",
      "\u001b[33mEvaluating over 256 metamodels:  60%[==============>          ]  ETA: 0:02:47\u001b[39m┌ Warning: The scitype of `X`, in `machine(model, X, ...)` is incompatible with `model=\u001b[34mAdaBoostClassifier @439\u001b[39m`:\n",
      "│ scitype(X) = Table{Union{AbstractArray{Continuous,1}, AbstractArray{Count,1}}}\n",
      "│ input_scitype(model) = Table{var\"#s44\"} where var\"#s44\"<:(AbstractArray{var\"#s13\",1} where var\"#s13\"<:Continuous).\n",
      "└ @ MLJBase /home/andrew/.julia/packages/MLJBase/uKzAz/src/machines.jl:77\n",
      "\u001b[33mEvaluating over 256 metamodels:  60%[===============>         ]  ETA: 0:02:45\u001b[39m┌ Warning: The scitype of `X`, in `machine(model, X, ...)` is incompatible with `model=\u001b[34mAdaBoostClassifier @082\u001b[39m`:\n",
      "│ scitype(X) = Table{Union{AbstractArray{Continuous,1}, AbstractArray{Count,1}}}\n",
      "│ input_scitype(model) = Table{var\"#s44\"} where var\"#s44\"<:(AbstractArray{var\"#s13\",1} where var\"#s13\"<:Continuous).\n",
      "└ @ MLJBase /home/andrew/.julia/packages/MLJBase/uKzAz/src/machines.jl:77\n",
      "\u001b[33mEvaluating over 256 metamodels:  61%[===============>         ]  ETA: 0:02:44\u001b[39m┌ Warning: The scitype of `X`, in `machine(model, X, ...)` is incompatible with `model=\u001b[34mAdaBoostClassifier @659\u001b[39m`:\n",
      "│ scitype(X) = Table{Union{AbstractArray{Continuous,1}, AbstractArray{Count,1}}}\n",
      "│ input_scitype(model) = Table{var\"#s44\"} where var\"#s44\"<:(AbstractArray{var\"#s13\",1} where var\"#s13\"<:Continuous).\n",
      "└ @ MLJBase /home/andrew/.julia/packages/MLJBase/uKzAz/src/machines.jl:77\n",
      "\u001b[33mEvaluating over 256 metamodels:  61%[===============>         ]  ETA: 0:02:42\u001b[39m┌ Warning: The scitype of `X`, in `machine(model, X, ...)` is incompatible with `model=\u001b[34mAdaBoostClassifier @027\u001b[39m`:\n",
      "│ scitype(X) = Table{Union{AbstractArray{Continuous,1}, AbstractArray{Count,1}}}\n",
      "│ input_scitype(model) = Table{var\"#s44\"} where var\"#s44\"<:(AbstractArray{var\"#s13\",1} where var\"#s13\"<:Continuous).\n",
      "└ @ MLJBase /home/andrew/.julia/packages/MLJBase/uKzAz/src/machines.jl:77\n",
      "\u001b[33mEvaluating over 256 metamodels:  61%[===============>         ]  ETA: 0:02:41\u001b[39m┌ Warning: The scitype of `X`, in `machine(model, X, ...)` is incompatible with `model=\u001b[34mAdaBoostClassifier @647\u001b[39m`:\n",
      "│ scitype(X) = Table{Union{AbstractArray{Continuous,1}, AbstractArray{Count,1}}}\n",
      "│ input_scitype(model) = Table{var\"#s44\"} where var\"#s44\"<:(AbstractArray{var\"#s13\",1} where var\"#s13\"<:Continuous).\n",
      "└ @ MLJBase /home/andrew/.julia/packages/MLJBase/uKzAz/src/machines.jl:77\n",
      "\u001b[33mEvaluating over 256 metamodels:  62%[===============>         ]  ETA: 0:02:39\u001b[39m┌ Warning: The scitype of `X`, in `machine(model, X, ...)` is incompatible with `model=\u001b[34mAdaBoostClassifier @198\u001b[39m`:\n",
      "│ scitype(X) = Table{Union{AbstractArray{Continuous,1}, AbstractArray{Count,1}}}\n",
      "│ input_scitype(model) = Table{var\"#s44\"} where var\"#s44\"<:(AbstractArray{var\"#s13\",1} where var\"#s13\"<:Continuous).\n",
      "└ @ MLJBase /home/andrew/.julia/packages/MLJBase/uKzAz/src/machines.jl:77\n",
      "\u001b[33mEvaluating over 256 metamodels:  62%[===============>         ]  ETA: 0:02:37\u001b[39m┌ Warning: The scitype of `X`, in `machine(model, X, ...)` is incompatible with `model=\u001b[34mAdaBoostClassifier @613\u001b[39m`:\n",
      "│ scitype(X) = Table{Union{AbstractArray{Continuous,1}, AbstractArray{Count,1}}}\n",
      "│ input_scitype(model) = Table{var\"#s44\"} where var\"#s44\"<:(AbstractArray{var\"#s13\",1} where var\"#s13\"<:Continuous).\n",
      "└ @ MLJBase /home/andrew/.julia/packages/MLJBase/uKzAz/src/machines.jl:77\n",
      "\u001b[33mEvaluating over 256 metamodels:  62%[===============>         ]  ETA: 0:02:36\u001b[39m┌ Warning: The scitype of `X`, in `machine(model, X, ...)` is incompatible with `model=\u001b[34mAdaBoostClassifier @015\u001b[39m`:\n",
      "│ scitype(X) = Table{Union{AbstractArray{Continuous,1}, AbstractArray{Count,1}}}\n",
      "│ input_scitype(model) = Table{var\"#s44\"} where var\"#s44\"<:(AbstractArray{var\"#s13\",1} where var\"#s13\"<:Continuous).\n",
      "└ @ MLJBase /home/andrew/.julia/packages/MLJBase/uKzAz/src/machines.jl:77\n",
      "\u001b[33mEvaluating over 256 metamodels:  63%[===============>         ]  ETA: 0:02:34\u001b[39m┌ Warning: The scitype of `X`, in `machine(model, X, ...)` is incompatible with `model=\u001b[34mAdaBoostClassifier @129\u001b[39m`:\n",
      "│ scitype(X) = Table{Union{AbstractArray{Continuous,1}, AbstractArray{Count,1}}}\n",
      "│ input_scitype(model) = Table{var\"#s44\"} where var\"#s44\"<:(AbstractArray{var\"#s13\",1} where var\"#s13\"<:Continuous).\n",
      "└ @ MLJBase /home/andrew/.julia/packages/MLJBase/uKzAz/src/machines.jl:77\n",
      "\u001b[33mEvaluating over 256 metamodels:  63%[===============>         ]  ETA: 0:02:33\u001b[39m┌ Warning: The scitype of `X`, in `machine(model, X, ...)` is incompatible with `model=\u001b[34mAdaBoostClassifier @610\u001b[39m`:\n",
      "│ scitype(X) = Table{Union{AbstractArray{Continuous,1}, AbstractArray{Count,1}}}\n",
      "│ input_scitype(model) = Table{var\"#s44\"} where var\"#s44\"<:(AbstractArray{var\"#s13\",1} where var\"#s13\"<:Continuous).\n",
      "└ @ MLJBase /home/andrew/.julia/packages/MLJBase/uKzAz/src/machines.jl:77\n",
      "\u001b[33mEvaluating over 256 metamodels:  64%[===============>         ]  ETA: 0:02:31\u001b[39m┌ Warning: The scitype of `X`, in `machine(model, X, ...)` is incompatible with `model=\u001b[34mAdaBoostClassifier @827\u001b[39m`:\n",
      "│ scitype(X) = Table{Union{AbstractArray{Continuous,1}, AbstractArray{Count,1}}}\n",
      "│ input_scitype(model) = Table{var\"#s44\"} where var\"#s44\"<:(AbstractArray{var\"#s13\",1} where var\"#s13\"<:Continuous).\n",
      "└ @ MLJBase /home/andrew/.julia/packages/MLJBase/uKzAz/src/machines.jl:77\n",
      "\u001b[33mEvaluating over 256 metamodels:  64%[================>        ]  ETA: 0:02:29\u001b[39m┌ Warning: The scitype of `X`, in `machine(model, X, ...)` is incompatible with `model=\u001b[34mAdaBoostClassifier @798\u001b[39m`:\n",
      "│ scitype(X) = Table{Union{AbstractArray{Continuous,1}, AbstractArray{Count,1}}}\n",
      "│ input_scitype(model) = Table{var\"#s44\"} where var\"#s44\"<:(AbstractArray{var\"#s13\",1} where var\"#s13\"<:Continuous).\n",
      "└ @ MLJBase /home/andrew/.julia/packages/MLJBase/uKzAz/src/machines.jl:77\n",
      "\u001b[33mEvaluating over 256 metamodels:  64%[================>        ]  ETA: 0:02:28\u001b[39m┌ Warning: The scitype of `X`, in `machine(model, X, ...)` is incompatible with `model=\u001b[34mAdaBoostClassifier @391\u001b[39m`:\n",
      "│ scitype(X) = Table{Union{AbstractArray{Continuous,1}, AbstractArray{Count,1}}}\n",
      "│ input_scitype(model) = Table{var\"#s44\"} where var\"#s44\"<:(AbstractArray{var\"#s13\",1} where var\"#s13\"<:Continuous).\n",
      "└ @ MLJBase /home/andrew/.julia/packages/MLJBase/uKzAz/src/machines.jl:77\n",
      "\u001b[33mEvaluating over 256 metamodels:  65%[================>        ]  ETA: 0:02:26\u001b[39m┌ Warning: The scitype of `X`, in `machine(model, X, ...)` is incompatible with `model=\u001b[34mAdaBoostClassifier @127\u001b[39m`:\n",
      "│ scitype(X) = Table{Union{AbstractArray{Continuous,1}, AbstractArray{Count,1}}}\n",
      "│ input_scitype(model) = Table{var\"#s44\"} where var\"#s44\"<:(AbstractArray{var\"#s13\",1} where var\"#s13\"<:Continuous).\n",
      "└ @ MLJBase /home/andrew/.julia/packages/MLJBase/uKzAz/src/machines.jl:77\n",
      "\u001b[33mEvaluating over 256 metamodels:  65%[================>        ]  ETA: 0:02:25\u001b[39m┌ Warning: The scitype of `X`, in `machine(model, X, ...)` is incompatible with `model=\u001b[34mAdaBoostClassifier @022\u001b[39m`:\n",
      "│ scitype(X) = Table{Union{AbstractArray{Continuous,1}, AbstractArray{Count,1}}}\n",
      "│ input_scitype(model) = Table{var\"#s44\"} where var\"#s44\"<:(AbstractArray{var\"#s13\",1} where var\"#s13\"<:Continuous).\n",
      "└ @ MLJBase /home/andrew/.julia/packages/MLJBase/uKzAz/src/machines.jl:77\n",
      "\u001b[33mEvaluating over 256 metamodels:  66%[================>        ]  ETA: 0:02:23\u001b[39m┌ Warning: The scitype of `X`, in `machine(model, X, ...)` is incompatible with `model=\u001b[34mAdaBoostClassifier @983\u001b[39m`:\n",
      "│ scitype(X) = Table{Union{AbstractArray{Continuous,1}, AbstractArray{Count,1}}}\n",
      "│ input_scitype(model) = Table{var\"#s44\"} where var\"#s44\"<:(AbstractArray{var\"#s13\",1} where var\"#s13\"<:Continuous).\n",
      "└ @ MLJBase /home/andrew/.julia/packages/MLJBase/uKzAz/src/machines.jl:77\n"
     ]
    },
    {
     "name": "stderr",
     "output_type": "stream",
     "text": [
      "\u001b[33mEvaluating over 256 metamodels:  66%[================>        ]  ETA: 0:02:21\u001b[39m┌ Warning: The scitype of `X`, in `machine(model, X, ...)` is incompatible with `model=\u001b[34mAdaBoostClassifier @850\u001b[39m`:\n",
      "│ scitype(X) = Table{Union{AbstractArray{Continuous,1}, AbstractArray{Count,1}}}\n",
      "│ input_scitype(model) = Table{var\"#s44\"} where var\"#s44\"<:(AbstractArray{var\"#s13\",1} where var\"#s13\"<:Continuous).\n",
      "└ @ MLJBase /home/andrew/.julia/packages/MLJBase/uKzAz/src/machines.jl:77\n",
      "\u001b[33mEvaluating over 256 metamodels:  66%[================>        ]  ETA: 0:02:20\u001b[39m┌ Warning: The scitype of `X`, in `machine(model, X, ...)` is incompatible with `model=\u001b[34mAdaBoostClassifier @757\u001b[39m`:\n",
      "│ scitype(X) = Table{Union{AbstractArray{Continuous,1}, AbstractArray{Count,1}}}\n",
      "│ input_scitype(model) = Table{var\"#s44\"} where var\"#s44\"<:(AbstractArray{var\"#s13\",1} where var\"#s13\"<:Continuous).\n",
      "└ @ MLJBase /home/andrew/.julia/packages/MLJBase/uKzAz/src/machines.jl:77\n",
      "\u001b[33mEvaluating over 256 metamodels:  67%[================>        ]  ETA: 0:02:18\u001b[39m┌ Warning: The scitype of `X`, in `machine(model, X, ...)` is incompatible with `model=\u001b[34mAdaBoostClassifier @299\u001b[39m`:\n",
      "│ scitype(X) = Table{Union{AbstractArray{Continuous,1}, AbstractArray{Count,1}}}\n",
      "│ input_scitype(model) = Table{var\"#s44\"} where var\"#s44\"<:(AbstractArray{var\"#s13\",1} where var\"#s13\"<:Continuous).\n",
      "└ @ MLJBase /home/andrew/.julia/packages/MLJBase/uKzAz/src/machines.jl:77\n",
      "\u001b[33mEvaluating over 256 metamodels:  67%[================>        ]  ETA: 0:02:17\u001b[39m┌ Warning: The scitype of `X`, in `machine(model, X, ...)` is incompatible with `model=\u001b[34mAdaBoostClassifier @873\u001b[39m`:\n",
      "│ scitype(X) = Table{Union{AbstractArray{Continuous,1}, AbstractArray{Count,1}}}\n",
      "│ input_scitype(model) = Table{var\"#s44\"} where var\"#s44\"<:(AbstractArray{var\"#s13\",1} where var\"#s13\"<:Continuous).\n",
      "└ @ MLJBase /home/andrew/.julia/packages/MLJBase/uKzAz/src/machines.jl:77\n",
      "\u001b[33mEvaluating over 256 metamodels:  68%[================>        ]  ETA: 0:02:15\u001b[39m┌ Warning: The scitype of `X`, in `machine(model, X, ...)` is incompatible with `model=\u001b[34mAdaBoostClassifier @723\u001b[39m`:\n",
      "│ scitype(X) = Table{Union{AbstractArray{Continuous,1}, AbstractArray{Count,1}}}\n",
      "│ input_scitype(model) = Table{var\"#s44\"} where var\"#s44\"<:(AbstractArray{var\"#s13\",1} where var\"#s13\"<:Continuous).\n",
      "└ @ MLJBase /home/andrew/.julia/packages/MLJBase/uKzAz/src/machines.jl:77\n",
      "\u001b[33mEvaluating over 256 metamodels:  68%[================>        ]  ETA: 0:02:13\u001b[39m┌ Warning: The scitype of `X`, in `machine(model, X, ...)` is incompatible with `model=\u001b[34mAdaBoostClassifier @349\u001b[39m`:\n",
      "│ scitype(X) = Table{Union{AbstractArray{Continuous,1}, AbstractArray{Count,1}}}\n",
      "│ input_scitype(model) = Table{var\"#s44\"} where var\"#s44\"<:(AbstractArray{var\"#s13\",1} where var\"#s13\"<:Continuous).\n",
      "└ @ MLJBase /home/andrew/.julia/packages/MLJBase/uKzAz/src/machines.jl:77\n",
      "\u001b[33mEvaluating over 256 metamodels:  68%[=================>       ]  ETA: 0:02:12\u001b[39m┌ Warning: The scitype of `X`, in `machine(model, X, ...)` is incompatible with `model=\u001b[34mAdaBoostClassifier @109\u001b[39m`:\n",
      "│ scitype(X) = Table{Union{AbstractArray{Continuous,1}, AbstractArray{Count,1}}}\n",
      "│ input_scitype(model) = Table{var\"#s44\"} where var\"#s44\"<:(AbstractArray{var\"#s13\",1} where var\"#s13\"<:Continuous).\n",
      "└ @ MLJBase /home/andrew/.julia/packages/MLJBase/uKzAz/src/machines.jl:77\n",
      "\u001b[33mEvaluating over 256 metamodels:  69%[=================>       ]  ETA: 0:02:10\u001b[39m┌ Warning: The scitype of `X`, in `machine(model, X, ...)` is incompatible with `model=\u001b[34mAdaBoostClassifier @382\u001b[39m`:\n",
      "│ scitype(X) = Table{Union{AbstractArray{Continuous,1}, AbstractArray{Count,1}}}\n",
      "│ input_scitype(model) = Table{var\"#s44\"} where var\"#s44\"<:(AbstractArray{var\"#s13\",1} where var\"#s13\"<:Continuous).\n",
      "└ @ MLJBase /home/andrew/.julia/packages/MLJBase/uKzAz/src/machines.jl:77\n",
      "\u001b[33mEvaluating over 256 metamodels:  69%[=================>       ]  ETA: 0:02:08\u001b[39m┌ Warning: The scitype of `X`, in `machine(model, X, ...)` is incompatible with `model=\u001b[34mAdaBoostClassifier @532\u001b[39m`:\n",
      "│ scitype(X) = Table{Union{AbstractArray{Continuous,1}, AbstractArray{Count,1}}}\n",
      "│ input_scitype(model) = Table{var\"#s44\"} where var\"#s44\"<:(AbstractArray{var\"#s13\",1} where var\"#s13\"<:Continuous).\n",
      "└ @ MLJBase /home/andrew/.julia/packages/MLJBase/uKzAz/src/machines.jl:77\n",
      "\u001b[33mEvaluating over 256 metamodels:  70%[=================>       ]  ETA: 0:02:07\u001b[39m┌ Warning: The scitype of `X`, in `machine(model, X, ...)` is incompatible with `model=\u001b[34mAdaBoostClassifier @938\u001b[39m`:\n",
      "│ scitype(X) = Table{Union{AbstractArray{Continuous,1}, AbstractArray{Count,1}}}\n",
      "│ input_scitype(model) = Table{var\"#s44\"} where var\"#s44\"<:(AbstractArray{var\"#s13\",1} where var\"#s13\"<:Continuous).\n",
      "└ @ MLJBase /home/andrew/.julia/packages/MLJBase/uKzAz/src/machines.jl:77\n",
      "\u001b[33mEvaluating over 256 metamodels:  70%[=================>       ]  ETA: 0:02:05\u001b[39m┌ Warning: The scitype of `X`, in `machine(model, X, ...)` is incompatible with `model=\u001b[34mAdaBoostClassifier @214\u001b[39m`:\n",
      "│ scitype(X) = Table{Union{AbstractArray{Continuous,1}, AbstractArray{Count,1}}}\n",
      "│ input_scitype(model) = Table{var\"#s44\"} where var\"#s44\"<:(AbstractArray{var\"#s13\",1} where var\"#s13\"<:Continuous).\n",
      "└ @ MLJBase /home/andrew/.julia/packages/MLJBase/uKzAz/src/machines.jl:77\n",
      "\u001b[33mEvaluating over 256 metamodels:  70%[=================>       ]  ETA: 0:02:04\u001b[39m┌ Warning: The scitype of `X`, in `machine(model, X, ...)` is incompatible with `model=\u001b[34mAdaBoostClassifier @588\u001b[39m`:\n",
      "│ scitype(X) = Table{Union{AbstractArray{Continuous,1}, AbstractArray{Count,1}}}\n",
      "│ input_scitype(model) = Table{var\"#s44\"} where var\"#s44\"<:(AbstractArray{var\"#s13\",1} where var\"#s13\"<:Continuous).\n",
      "└ @ MLJBase /home/andrew/.julia/packages/MLJBase/uKzAz/src/machines.jl:77\n",
      "\u001b[33mEvaluating over 256 metamodels:  71%[=================>       ]  ETA: 0:02:02\u001b[39m┌ Warning: The scitype of `X`, in `machine(model, X, ...)` is incompatible with `model=\u001b[34mAdaBoostClassifier @696\u001b[39m`:\n",
      "│ scitype(X) = Table{Union{AbstractArray{Continuous,1}, AbstractArray{Count,1}}}\n",
      "│ input_scitype(model) = Table{var\"#s44\"} where var\"#s44\"<:(AbstractArray{var\"#s13\",1} where var\"#s13\"<:Continuous).\n",
      "└ @ MLJBase /home/andrew/.julia/packages/MLJBase/uKzAz/src/machines.jl:77\n",
      "\u001b[33mEvaluating over 256 metamodels:  71%[=================>       ]  ETA: 0:02:00\u001b[39m┌ Warning: The scitype of `X`, in `machine(model, X, ...)` is incompatible with `model=\u001b[34mAdaBoostClassifier @565\u001b[39m`:\n",
      "│ scitype(X) = Table{Union{AbstractArray{Continuous,1}, AbstractArray{Count,1}}}\n",
      "│ input_scitype(model) = Table{var\"#s44\"} where var\"#s44\"<:(AbstractArray{var\"#s13\",1} where var\"#s13\"<:Continuous).\n",
      "└ @ MLJBase /home/andrew/.julia/packages/MLJBase/uKzAz/src/machines.jl:77\n",
      "\u001b[33mEvaluating over 256 metamodels:  71%[=================>       ]  ETA: 0:01:59\u001b[39m┌ Warning: The scitype of `X`, in `machine(model, X, ...)` is incompatible with `model=\u001b[34mAdaBoostClassifier @975\u001b[39m`:\n",
      "│ scitype(X) = Table{Union{AbstractArray{Continuous,1}, AbstractArray{Count,1}}}\n",
      "│ input_scitype(model) = Table{var\"#s44\"} where var\"#s44\"<:(AbstractArray{var\"#s13\",1} where var\"#s13\"<:Continuous).\n",
      "└ @ MLJBase /home/andrew/.julia/packages/MLJBase/uKzAz/src/machines.jl:77\n",
      "\u001b[33mEvaluating over 256 metamodels:  72%[=================>       ]  ETA: 0:01:57\u001b[39m┌ Warning: The scitype of `X`, in `machine(model, X, ...)` is incompatible with `model=\u001b[34mAdaBoostClassifier @323\u001b[39m`:\n",
      "│ scitype(X) = Table{Union{AbstractArray{Continuous,1}, AbstractArray{Count,1}}}\n",
      "│ input_scitype(model) = Table{var\"#s44\"} where var\"#s44\"<:(AbstractArray{var\"#s13\",1} where var\"#s13\"<:Continuous).\n",
      "└ @ MLJBase /home/andrew/.julia/packages/MLJBase/uKzAz/src/machines.jl:77\n",
      "\u001b[33mEvaluating over 256 metamodels:  72%[==================>      ]  ETA: 0:01:56\u001b[39m┌ Warning: The scitype of `X`, in `machine(model, X, ...)` is incompatible with `model=\u001b[34mAdaBoostClassifier @618\u001b[39m`:\n",
      "│ scitype(X) = Table{Union{AbstractArray{Continuous,1}, AbstractArray{Count,1}}}\n",
      "│ input_scitype(model) = Table{var\"#s44\"} where var\"#s44\"<:(AbstractArray{var\"#s13\",1} where var\"#s13\"<:Continuous).\n",
      "└ @ MLJBase /home/andrew/.julia/packages/MLJBase/uKzAz/src/machines.jl:77\n"
     ]
    },
    {
     "name": "stderr",
     "output_type": "stream",
     "text": [
      "\u001b[33mEvaluating over 256 metamodels:  73%[==================>      ]  ETA: 0:01:54\u001b[39m┌ Warning: The scitype of `X`, in `machine(model, X, ...)` is incompatible with `model=\u001b[34mAdaBoostClassifier @695\u001b[39m`:\n",
      "│ scitype(X) = Table{Union{AbstractArray{Continuous,1}, AbstractArray{Count,1}}}\n",
      "│ input_scitype(model) = Table{var\"#s44\"} where var\"#s44\"<:(AbstractArray{var\"#s13\",1} where var\"#s13\"<:Continuous).\n",
      "└ @ MLJBase /home/andrew/.julia/packages/MLJBase/uKzAz/src/machines.jl:77\n",
      "\u001b[33mEvaluating over 256 metamodels:  73%[==================>      ]  ETA: 0:01:52\u001b[39m┌ Warning: The scitype of `X`, in `machine(model, X, ...)` is incompatible with `model=\u001b[34mAdaBoostClassifier @768\u001b[39m`:\n",
      "│ scitype(X) = Table{Union{AbstractArray{Continuous,1}, AbstractArray{Count,1}}}\n",
      "│ input_scitype(model) = Table{var\"#s44\"} where var\"#s44\"<:(AbstractArray{var\"#s13\",1} where var\"#s13\"<:Continuous).\n",
      "└ @ MLJBase /home/andrew/.julia/packages/MLJBase/uKzAz/src/machines.jl:77\n",
      "\u001b[33mEvaluating over 256 metamodels:  73%[==================>      ]  ETA: 0:01:51\u001b[39m┌ Warning: The scitype of `X`, in `machine(model, X, ...)` is incompatible with `model=\u001b[34mAdaBoostClassifier @828\u001b[39m`:\n",
      "│ scitype(X) = Table{Union{AbstractArray{Continuous,1}, AbstractArray{Count,1}}}\n",
      "│ input_scitype(model) = Table{var\"#s44\"} where var\"#s44\"<:(AbstractArray{var\"#s13\",1} where var\"#s13\"<:Continuous).\n",
      "└ @ MLJBase /home/andrew/.julia/packages/MLJBase/uKzAz/src/machines.jl:77\n",
      "\u001b[33mEvaluating over 256 metamodels:  74%[==================>      ]  ETA: 0:01:49\u001b[39m┌ Warning: The scitype of `X`, in `machine(model, X, ...)` is incompatible with `model=\u001b[34mAdaBoostClassifier @939\u001b[39m`:\n",
      "│ scitype(X) = Table{Union{AbstractArray{Continuous,1}, AbstractArray{Count,1}}}\n",
      "│ input_scitype(model) = Table{var\"#s44\"} where var\"#s44\"<:(AbstractArray{var\"#s13\",1} where var\"#s13\"<:Continuous).\n",
      "└ @ MLJBase /home/andrew/.julia/packages/MLJBase/uKzAz/src/machines.jl:77\n",
      "\u001b[33mEvaluating over 256 metamodels:  74%[==================>      ]  ETA: 0:01:47\u001b[39m┌ Warning: The scitype of `X`, in `machine(model, X, ...)` is incompatible with `model=\u001b[34mAdaBoostClassifier @076\u001b[39m`:\n",
      "│ scitype(X) = Table{Union{AbstractArray{Continuous,1}, AbstractArray{Count,1}}}\n",
      "│ input_scitype(model) = Table{var\"#s44\"} where var\"#s44\"<:(AbstractArray{var\"#s13\",1} where var\"#s13\"<:Continuous).\n",
      "└ @ MLJBase /home/andrew/.julia/packages/MLJBase/uKzAz/src/machines.jl:77\n",
      "\u001b[33mEvaluating over 256 metamodels:  75%[==================>      ]  ETA: 0:01:46\u001b[39m┌ Warning: The scitype of `X`, in `machine(model, X, ...)` is incompatible with `model=\u001b[34mAdaBoostClassifier @640\u001b[39m`:\n",
      "│ scitype(X) = Table{Union{AbstractArray{Continuous,1}, AbstractArray{Count,1}}}\n",
      "│ input_scitype(model) = Table{var\"#s44\"} where var\"#s44\"<:(AbstractArray{var\"#s13\",1} where var\"#s13\"<:Continuous).\n",
      "└ @ MLJBase /home/andrew/.julia/packages/MLJBase/uKzAz/src/machines.jl:77\n",
      "\u001b[33mEvaluating over 256 metamodels:  75%[==================>      ]  ETA: 0:01:44\u001b[39m┌ Warning: The scitype of `X`, in `machine(model, X, ...)` is incompatible with `model=\u001b[34mAdaBoostClassifier @975\u001b[39m`:\n",
      "│ scitype(X) = Table{Union{AbstractArray{Continuous,1}, AbstractArray{Count,1}}}\n",
      "│ input_scitype(model) = Table{var\"#s44\"} where var\"#s44\"<:(AbstractArray{var\"#s13\",1} where var\"#s13\"<:Continuous).\n",
      "└ @ MLJBase /home/andrew/.julia/packages/MLJBase/uKzAz/src/machines.jl:77\n",
      "\u001b[33mEvaluating over 256 metamodels:  75%[==================>      ]  ETA: 0:01:42\u001b[39m┌ Warning: The scitype of `X`, in `machine(model, X, ...)` is incompatible with `model=\u001b[34mAdaBoostClassifier @928\u001b[39m`:\n",
      "│ scitype(X) = Table{Union{AbstractArray{Continuous,1}, AbstractArray{Count,1}}}\n",
      "│ input_scitype(model) = Table{var\"#s44\"} where var\"#s44\"<:(AbstractArray{var\"#s13\",1} where var\"#s13\"<:Continuous).\n",
      "└ @ MLJBase /home/andrew/.julia/packages/MLJBase/uKzAz/src/machines.jl:77\n",
      "\u001b[33mEvaluating over 256 metamodels:  76%[==================>      ]  ETA: 0:01:41\u001b[39m┌ Warning: The scitype of `X`, in `machine(model, X, ...)` is incompatible with `model=\u001b[34mAdaBoostClassifier @808\u001b[39m`:\n",
      "│ scitype(X) = Table{Union{AbstractArray{Continuous,1}, AbstractArray{Count,1}}}\n",
      "│ input_scitype(model) = Table{var\"#s44\"} where var\"#s44\"<:(AbstractArray{var\"#s13\",1} where var\"#s13\"<:Continuous).\n",
      "└ @ MLJBase /home/andrew/.julia/packages/MLJBase/uKzAz/src/machines.jl:77\n",
      "\u001b[33mEvaluating over 256 metamodels:  76%[===================>     ]  ETA: 0:01:39\u001b[39m┌ Warning: The scitype of `X`, in `machine(model, X, ...)` is incompatible with `model=\u001b[34mAdaBoostClassifier @629\u001b[39m`:\n",
      "│ scitype(X) = Table{Union{AbstractArray{Continuous,1}, AbstractArray{Count,1}}}\n",
      "│ input_scitype(model) = Table{var\"#s44\"} where var\"#s44\"<:(AbstractArray{var\"#s13\",1} where var\"#s13\"<:Continuous).\n",
      "└ @ MLJBase /home/andrew/.julia/packages/MLJBase/uKzAz/src/machines.jl:77\n",
      "\u001b[33mEvaluating over 256 metamodels:  77%[===================>     ]  ETA: 0:01:38\u001b[39m┌ Warning: The scitype of `X`, in `machine(model, X, ...)` is incompatible with `model=\u001b[34mAdaBoostClassifier @927\u001b[39m`:\n",
      "│ scitype(X) = Table{Union{AbstractArray{Continuous,1}, AbstractArray{Count,1}}}\n",
      "│ input_scitype(model) = Table{var\"#s44\"} where var\"#s44\"<:(AbstractArray{var\"#s13\",1} where var\"#s13\"<:Continuous).\n",
      "└ @ MLJBase /home/andrew/.julia/packages/MLJBase/uKzAz/src/machines.jl:77\n",
      "\u001b[33mEvaluating over 256 metamodels:  77%[===================>     ]  ETA: 0:01:36\u001b[39m┌ Warning: The scitype of `X`, in `machine(model, X, ...)` is incompatible with `model=\u001b[34mAdaBoostClassifier @952\u001b[39m`:\n",
      "│ scitype(X) = Table{Union{AbstractArray{Continuous,1}, AbstractArray{Count,1}}}\n",
      "│ input_scitype(model) = Table{var\"#s44\"} where var\"#s44\"<:(AbstractArray{var\"#s13\",1} where var\"#s13\"<:Continuous).\n",
      "└ @ MLJBase /home/andrew/.julia/packages/MLJBase/uKzAz/src/machines.jl:77\n",
      "\u001b[33mEvaluating over 256 metamodels:  77%[===================>     ]  ETA: 0:01:35\u001b[39m┌ Warning: The scitype of `X`, in `machine(model, X, ...)` is incompatible with `model=\u001b[34mAdaBoostClassifier @680\u001b[39m`:\n",
      "│ scitype(X) = Table{Union{AbstractArray{Continuous,1}, AbstractArray{Count,1}}}\n",
      "│ input_scitype(model) = Table{var\"#s44\"} where var\"#s44\"<:(AbstractArray{var\"#s13\",1} where var\"#s13\"<:Continuous).\n",
      "└ @ MLJBase /home/andrew/.julia/packages/MLJBase/uKzAz/src/machines.jl:77\n",
      "\u001b[33mEvaluating over 256 metamodels:  78%[===================>     ]  ETA: 0:01:33\u001b[39m┌ Warning: The scitype of `X`, in `machine(model, X, ...)` is incompatible with `model=\u001b[34mAdaBoostClassifier @691\u001b[39m`:\n",
      "│ scitype(X) = Table{Union{AbstractArray{Continuous,1}, AbstractArray{Count,1}}}\n",
      "│ input_scitype(model) = Table{var\"#s44\"} where var\"#s44\"<:(AbstractArray{var\"#s13\",1} where var\"#s13\"<:Continuous).\n",
      "└ @ MLJBase /home/andrew/.julia/packages/MLJBase/uKzAz/src/machines.jl:77\n",
      "\u001b[33mEvaluating over 256 metamodels:  78%[===================>     ]  ETA: 0:01:32\u001b[39m┌ Warning: The scitype of `X`, in `machine(model, X, ...)` is incompatible with `model=\u001b[34mAdaBoostClassifier @262\u001b[39m`:\n",
      "│ scitype(X) = Table{Union{AbstractArray{Continuous,1}, AbstractArray{Count,1}}}\n",
      "│ input_scitype(model) = Table{var\"#s44\"} where var\"#s44\"<:(AbstractArray{var\"#s13\",1} where var\"#s13\"<:Continuous).\n",
      "└ @ MLJBase /home/andrew/.julia/packages/MLJBase/uKzAz/src/machines.jl:77\n",
      "\u001b[33mEvaluating over 256 metamodels:  79%[===================>     ]  ETA: 0:01:30\u001b[39m┌ Warning: The scitype of `X`, in `machine(model, X, ...)` is incompatible with `model=\u001b[34mAdaBoostClassifier @136\u001b[39m`:\n",
      "│ scitype(X) = Table{Union{AbstractArray{Continuous,1}, AbstractArray{Count,1}}}\n",
      "│ input_scitype(model) = Table{var\"#s44\"} where var\"#s44\"<:(AbstractArray{var\"#s13\",1} where var\"#s13\"<:Continuous).\n",
      "└ @ MLJBase /home/andrew/.julia/packages/MLJBase/uKzAz/src/machines.jl:77\n",
      "\u001b[33mEvaluating over 256 metamodels:  79%[===================>     ]  ETA: 0:01:28\u001b[39m┌ Warning: The scitype of `X`, in `machine(model, X, ...)` is incompatible with `model=\u001b[34mAdaBoostClassifier @806\u001b[39m`:\n",
      "│ scitype(X) = Table{Union{AbstractArray{Continuous,1}, AbstractArray{Count,1}}}\n",
      "│ input_scitype(model) = Table{var\"#s44\"} where var\"#s44\"<:(AbstractArray{var\"#s13\",1} where var\"#s13\"<:Continuous).\n",
      "└ @ MLJBase /home/andrew/.julia/packages/MLJBase/uKzAz/src/machines.jl:77\n"
     ]
    },
    {
     "name": "stderr",
     "output_type": "stream",
     "text": [
      "\u001b[33mEvaluating over 256 metamodels:  79%[===================>     ]  ETA: 0:01:27\u001b[39m┌ Warning: The scitype of `X`, in `machine(model, X, ...)` is incompatible with `model=\u001b[34mAdaBoostClassifier @950\u001b[39m`:\n",
      "│ scitype(X) = Table{Union{AbstractArray{Continuous,1}, AbstractArray{Count,1}}}\n",
      "│ input_scitype(model) = Table{var\"#s44\"} where var\"#s44\"<:(AbstractArray{var\"#s13\",1} where var\"#s13\"<:Continuous).\n",
      "└ @ MLJBase /home/andrew/.julia/packages/MLJBase/uKzAz/src/machines.jl:77\n",
      "\u001b[33mEvaluating over 256 metamodels:  80%[===================>     ]  ETA: 0:01:25\u001b[39m┌ Warning: The scitype of `X`, in `machine(model, X, ...)` is incompatible with `model=\u001b[34mAdaBoostClassifier @994\u001b[39m`:\n",
      "│ scitype(X) = Table{Union{AbstractArray{Continuous,1}, AbstractArray{Count,1}}}\n",
      "│ input_scitype(model) = Table{var\"#s44\"} where var\"#s44\"<:(AbstractArray{var\"#s13\",1} where var\"#s13\"<:Continuous).\n",
      "└ @ MLJBase /home/andrew/.julia/packages/MLJBase/uKzAz/src/machines.jl:77\n",
      "\u001b[33mEvaluating over 256 metamodels:  80%[====================>    ]  ETA: 0:01:24\u001b[39m┌ Warning: The scitype of `X`, in `machine(model, X, ...)` is incompatible with `model=\u001b[34mAdaBoostClassifier @005\u001b[39m`:\n",
      "│ scitype(X) = Table{Union{AbstractArray{Continuous,1}, AbstractArray{Count,1}}}\n",
      "│ input_scitype(model) = Table{var\"#s44\"} where var\"#s44\"<:(AbstractArray{var\"#s13\",1} where var\"#s13\"<:Continuous).\n",
      "└ @ MLJBase /home/andrew/.julia/packages/MLJBase/uKzAz/src/machines.jl:77\n",
      "\u001b[33mEvaluating over 256 metamodels:  80%[====================>    ]  ETA: 0:01:22\u001b[39m┌ Warning: The scitype of `X`, in `machine(model, X, ...)` is incompatible with `model=\u001b[34mAdaBoostClassifier @087\u001b[39m`:\n",
      "│ scitype(X) = Table{Union{AbstractArray{Continuous,1}, AbstractArray{Count,1}}}\n",
      "│ input_scitype(model) = Table{var\"#s44\"} where var\"#s44\"<:(AbstractArray{var\"#s13\",1} where var\"#s13\"<:Continuous).\n",
      "└ @ MLJBase /home/andrew/.julia/packages/MLJBase/uKzAz/src/machines.jl:77\n",
      "\u001b[33mEvaluating over 256 metamodels:  81%[====================>    ]  ETA: 0:01:20\u001b[39m┌ Warning: The scitype of `X`, in `machine(model, X, ...)` is incompatible with `model=\u001b[34mAdaBoostClassifier @453\u001b[39m`:\n",
      "│ scitype(X) = Table{Union{AbstractArray{Continuous,1}, AbstractArray{Count,1}}}\n",
      "│ input_scitype(model) = Table{var\"#s44\"} where var\"#s44\"<:(AbstractArray{var\"#s13\",1} where var\"#s13\"<:Continuous).\n",
      "└ @ MLJBase /home/andrew/.julia/packages/MLJBase/uKzAz/src/machines.jl:77\n",
      "\u001b[33mEvaluating over 256 metamodels:  81%[====================>    ]  ETA: 0:01:19\u001b[39m┌ Warning: The scitype of `X`, in `machine(model, X, ...)` is incompatible with `model=\u001b[34mAdaBoostClassifier @555\u001b[39m`:\n",
      "│ scitype(X) = Table{Union{AbstractArray{Continuous,1}, AbstractArray{Count,1}}}\n",
      "│ input_scitype(model) = Table{var\"#s44\"} where var\"#s44\"<:(AbstractArray{var\"#s13\",1} where var\"#s13\"<:Continuous).\n",
      "└ @ MLJBase /home/andrew/.julia/packages/MLJBase/uKzAz/src/machines.jl:77\n",
      "\u001b[33mEvaluating over 256 metamodels:  82%[====================>    ]  ETA: 0:01:17\u001b[39m┌ Warning: The scitype of `X`, in `machine(model, X, ...)` is incompatible with `model=\u001b[34mAdaBoostClassifier @298\u001b[39m`:\n",
      "│ scitype(X) = Table{Union{AbstractArray{Continuous,1}, AbstractArray{Count,1}}}\n",
      "│ input_scitype(model) = Table{var\"#s44\"} where var\"#s44\"<:(AbstractArray{var\"#s13\",1} where var\"#s13\"<:Continuous).\n",
      "└ @ MLJBase /home/andrew/.julia/packages/MLJBase/uKzAz/src/machines.jl:77\n",
      "\u001b[33mEvaluating over 256 metamodels:  82%[====================>    ]  ETA: 0:01:15\u001b[39m┌ Warning: The scitype of `X`, in `machine(model, X, ...)` is incompatible with `model=\u001b[34mAdaBoostClassifier @509\u001b[39m`:\n",
      "│ scitype(X) = Table{Union{AbstractArray{Continuous,1}, AbstractArray{Count,1}}}\n",
      "│ input_scitype(model) = Table{var\"#s44\"} where var\"#s44\"<:(AbstractArray{var\"#s13\",1} where var\"#s13\"<:Continuous).\n",
      "└ @ MLJBase /home/andrew/.julia/packages/MLJBase/uKzAz/src/machines.jl:77\n",
      "\u001b[33mEvaluating over 256 metamodels:  82%[====================>    ]  ETA: 0:01:14\u001b[39m┌ Warning: The scitype of `X`, in `machine(model, X, ...)` is incompatible with `model=\u001b[34mAdaBoostClassifier @908\u001b[39m`:\n",
      "│ scitype(X) = Table{Union{AbstractArray{Continuous,1}, AbstractArray{Count,1}}}\n",
      "│ input_scitype(model) = Table{var\"#s44\"} where var\"#s44\"<:(AbstractArray{var\"#s13\",1} where var\"#s13\"<:Continuous).\n",
      "└ @ MLJBase /home/andrew/.julia/packages/MLJBase/uKzAz/src/machines.jl:77\n",
      "\u001b[33mEvaluating over 256 metamodels:  83%[====================>    ]  ETA: 0:01:12\u001b[39m┌ Warning: The scitype of `X`, in `machine(model, X, ...)` is incompatible with `model=\u001b[34mAdaBoostClassifier @564\u001b[39m`:\n",
      "│ scitype(X) = Table{Union{AbstractArray{Continuous,1}, AbstractArray{Count,1}}}\n",
      "│ input_scitype(model) = Table{var\"#s44\"} where var\"#s44\"<:(AbstractArray{var\"#s13\",1} where var\"#s13\"<:Continuous).\n",
      "└ @ MLJBase /home/andrew/.julia/packages/MLJBase/uKzAz/src/machines.jl:77\n",
      "\u001b[33mEvaluating over 256 metamodels:  83%[====================>    ]  ETA: 0:01:10\u001b[39m┌ Warning: The scitype of `X`, in `machine(model, X, ...)` is incompatible with `model=\u001b[34mAdaBoostClassifier @513\u001b[39m`:\n",
      "│ scitype(X) = Table{Union{AbstractArray{Continuous,1}, AbstractArray{Count,1}}}\n",
      "│ input_scitype(model) = Table{var\"#s44\"} where var\"#s44\"<:(AbstractArray{var\"#s13\",1} where var\"#s13\"<:Continuous).\n",
      "└ @ MLJBase /home/andrew/.julia/packages/MLJBase/uKzAz/src/machines.jl:77\n",
      "\u001b[33mEvaluating over 256 metamodels:  84%[====================>    ]  ETA: 0:01:09\u001b[39m┌ Warning: The scitype of `X`, in `machine(model, X, ...)` is incompatible with `model=\u001b[34mAdaBoostClassifier @893\u001b[39m`:\n",
      "│ scitype(X) = Table{Union{AbstractArray{Continuous,1}, AbstractArray{Count,1}}}\n",
      "│ input_scitype(model) = Table{var\"#s44\"} where var\"#s44\"<:(AbstractArray{var\"#s13\",1} where var\"#s13\"<:Continuous).\n",
      "└ @ MLJBase /home/andrew/.julia/packages/MLJBase/uKzAz/src/machines.jl:77\n",
      "\u001b[33mEvaluating over 256 metamodels:  84%[====================>    ]  ETA: 0:01:07\u001b[39m┌ Warning: The scitype of `X`, in `machine(model, X, ...)` is incompatible with `model=\u001b[34mAdaBoostClassifier @386\u001b[39m`:\n",
      "│ scitype(X) = Table{Union{AbstractArray{Continuous,1}, AbstractArray{Count,1}}}\n",
      "│ input_scitype(model) = Table{var\"#s44\"} where var\"#s44\"<:(AbstractArray{var\"#s13\",1} where var\"#s13\"<:Continuous).\n",
      "└ @ MLJBase /home/andrew/.julia/packages/MLJBase/uKzAz/src/machines.jl:77\n",
      "\u001b[33mEvaluating over 256 metamodels:  84%[=====================>   ]  ETA: 0:01:06\u001b[39m┌ Warning: The scitype of `X`, in `machine(model, X, ...)` is incompatible with `model=\u001b[34mAdaBoostClassifier @410\u001b[39m`:\n",
      "│ scitype(X) = Table{Union{AbstractArray{Continuous,1}, AbstractArray{Count,1}}}\n",
      "│ input_scitype(model) = Table{var\"#s44\"} where var\"#s44\"<:(AbstractArray{var\"#s13\",1} where var\"#s13\"<:Continuous).\n",
      "└ @ MLJBase /home/andrew/.julia/packages/MLJBase/uKzAz/src/machines.jl:77\n",
      "\u001b[33mEvaluating over 256 metamodels:  85%[=====================>   ]  ETA: 0:01:04\u001b[39m┌ Warning: The scitype of `X`, in `machine(model, X, ...)` is incompatible with `model=\u001b[34mAdaBoostClassifier @501\u001b[39m`:\n",
      "│ scitype(X) = Table{Union{AbstractArray{Continuous,1}, AbstractArray{Count,1}}}\n",
      "│ input_scitype(model) = Table{var\"#s44\"} where var\"#s44\"<:(AbstractArray{var\"#s13\",1} where var\"#s13\"<:Continuous).\n",
      "└ @ MLJBase /home/andrew/.julia/packages/MLJBase/uKzAz/src/machines.jl:77\n",
      "\u001b[33mEvaluating over 256 metamodels:  85%[=====================>   ]  ETA: 0:01:02\u001b[39m┌ Warning: The scitype of `X`, in `machine(model, X, ...)` is incompatible with `model=\u001b[34mAdaBoostClassifier @415\u001b[39m`:\n",
      "│ scitype(X) = Table{Union{AbstractArray{Continuous,1}, AbstractArray{Count,1}}}\n",
      "│ input_scitype(model) = Table{var\"#s44\"} where var\"#s44\"<:(AbstractArray{var\"#s13\",1} where var\"#s13\"<:Continuous).\n",
      "└ @ MLJBase /home/andrew/.julia/packages/MLJBase/uKzAz/src/machines.jl:77\n",
      "\u001b[33mEvaluating over 256 metamodels:  86%[=====================>   ]  ETA: 0:01:01\u001b[39m┌ Warning: The scitype of `X`, in `machine(model, X, ...)` is incompatible with `model=\u001b[34mAdaBoostClassifier @222\u001b[39m`:\n",
      "│ scitype(X) = Table{Union{AbstractArray{Continuous,1}, AbstractArray{Count,1}}}\n",
      "│ input_scitype(model) = Table{var\"#s44\"} where var\"#s44\"<:(AbstractArray{var\"#s13\",1} where var\"#s13\"<:Continuous).\n",
      "└ @ MLJBase /home/andrew/.julia/packages/MLJBase/uKzAz/src/machines.jl:77\n"
     ]
    },
    {
     "name": "stderr",
     "output_type": "stream",
     "text": [
      "\u001b[33mEvaluating over 256 metamodels:  86%[=====================>   ]  ETA: 0:00:59\u001b[39m┌ Warning: The scitype of `X`, in `machine(model, X, ...)` is incompatible with `model=\u001b[34mAdaBoostClassifier @065\u001b[39m`:\n",
      "│ scitype(X) = Table{Union{AbstractArray{Continuous,1}, AbstractArray{Count,1}}}\n",
      "│ input_scitype(model) = Table{var\"#s44\"} where var\"#s44\"<:(AbstractArray{var\"#s13\",1} where var\"#s13\"<:Continuous).\n",
      "└ @ MLJBase /home/andrew/.julia/packages/MLJBase/uKzAz/src/machines.jl:77\n",
      "\u001b[33mEvaluating over 256 metamodels:  86%[=====================>   ]  ETA: 0:00:57\u001b[39m┌ Warning: The scitype of `X`, in `machine(model, X, ...)` is incompatible with `model=\u001b[34mAdaBoostClassifier @647\u001b[39m`:\n",
      "│ scitype(X) = Table{Union{AbstractArray{Continuous,1}, AbstractArray{Count,1}}}\n",
      "│ input_scitype(model) = Table{var\"#s44\"} where var\"#s44\"<:(AbstractArray{var\"#s13\",1} where var\"#s13\"<:Continuous).\n",
      "└ @ MLJBase /home/andrew/.julia/packages/MLJBase/uKzAz/src/machines.jl:77\n",
      "\u001b[33mEvaluating over 256 metamodels:  87%[=====================>   ]  ETA: 0:00:56\u001b[39m┌ Warning: The scitype of `X`, in `machine(model, X, ...)` is incompatible with `model=\u001b[34mAdaBoostClassifier @723\u001b[39m`:\n",
      "│ scitype(X) = Table{Union{AbstractArray{Continuous,1}, AbstractArray{Count,1}}}\n",
      "│ input_scitype(model) = Table{var\"#s44\"} where var\"#s44\"<:(AbstractArray{var\"#s13\",1} where var\"#s13\"<:Continuous).\n",
      "└ @ MLJBase /home/andrew/.julia/packages/MLJBase/uKzAz/src/machines.jl:77\n",
      "\u001b[33mEvaluating over 256 metamodels:  87%[=====================>   ]  ETA: 0:00:54\u001b[39m┌ Warning: The scitype of `X`, in `machine(model, X, ...)` is incompatible with `model=\u001b[34mAdaBoostClassifier @660\u001b[39m`:\n",
      "│ scitype(X) = Table{Union{AbstractArray{Continuous,1}, AbstractArray{Count,1}}}\n",
      "│ input_scitype(model) = Table{var\"#s44\"} where var\"#s44\"<:(AbstractArray{var\"#s13\",1} where var\"#s13\"<:Continuous).\n",
      "└ @ MLJBase /home/andrew/.julia/packages/MLJBase/uKzAz/src/machines.jl:77\n",
      "\u001b[33mEvaluating over 256 metamodels:  88%[=====================>   ]  ETA: 0:00:52\u001b[39m┌ Warning: The scitype of `X`, in `machine(model, X, ...)` is incompatible with `model=\u001b[34mAdaBoostClassifier @640\u001b[39m`:\n",
      "│ scitype(X) = Table{Union{AbstractArray{Continuous,1}, AbstractArray{Count,1}}}\n",
      "│ input_scitype(model) = Table{var\"#s44\"} where var\"#s44\"<:(AbstractArray{var\"#s13\",1} where var\"#s13\"<:Continuous).\n",
      "└ @ MLJBase /home/andrew/.julia/packages/MLJBase/uKzAz/src/machines.jl:77\n",
      "\u001b[33mEvaluating over 256 metamodels:  88%[=====================>   ]  ETA: 0:00:51\u001b[39m┌ Warning: The scitype of `X`, in `machine(model, X, ...)` is incompatible with `model=\u001b[34mAdaBoostClassifier @719\u001b[39m`:\n",
      "│ scitype(X) = Table{Union{AbstractArray{Continuous,1}, AbstractArray{Count,1}}}\n",
      "│ input_scitype(model) = Table{var\"#s44\"} where var\"#s44\"<:(AbstractArray{var\"#s13\",1} where var\"#s13\"<:Continuous).\n",
      "└ @ MLJBase /home/andrew/.julia/packages/MLJBase/uKzAz/src/machines.jl:77\n",
      "\u001b[33mEvaluating over 256 metamodels:  88%[======================>  ]  ETA: 0:00:49\u001b[39m┌ Warning: The scitype of `X`, in `machine(model, X, ...)` is incompatible with `model=\u001b[34mAdaBoostClassifier @235\u001b[39m`:\n",
      "│ scitype(X) = Table{Union{AbstractArray{Continuous,1}, AbstractArray{Count,1}}}\n",
      "│ input_scitype(model) = Table{var\"#s44\"} where var\"#s44\"<:(AbstractArray{var\"#s13\",1} where var\"#s13\"<:Continuous).\n",
      "└ @ MLJBase /home/andrew/.julia/packages/MLJBase/uKzAz/src/machines.jl:77\n",
      "\u001b[33mEvaluating over 256 metamodels:  89%[======================>  ]  ETA: 0:00:47\u001b[39m┌ Warning: The scitype of `X`, in `machine(model, X, ...)` is incompatible with `model=\u001b[34mAdaBoostClassifier @263\u001b[39m`:\n",
      "│ scitype(X) = Table{Union{AbstractArray{Continuous,1}, AbstractArray{Count,1}}}\n",
      "│ input_scitype(model) = Table{var\"#s44\"} where var\"#s44\"<:(AbstractArray{var\"#s13\",1} where var\"#s13\"<:Continuous).\n",
      "└ @ MLJBase /home/andrew/.julia/packages/MLJBase/uKzAz/src/machines.jl:77\n",
      "\u001b[33mEvaluating over 256 metamodels:  89%[======================>  ]  ETA: 0:00:46\u001b[39m┌ Warning: The scitype of `X`, in `machine(model, X, ...)` is incompatible with `model=\u001b[34mAdaBoostClassifier @483\u001b[39m`:\n",
      "│ scitype(X) = Table{Union{AbstractArray{Continuous,1}, AbstractArray{Count,1}}}\n",
      "│ input_scitype(model) = Table{var\"#s44\"} where var\"#s44\"<:(AbstractArray{var\"#s13\",1} where var\"#s13\"<:Continuous).\n",
      "└ @ MLJBase /home/andrew/.julia/packages/MLJBase/uKzAz/src/machines.jl:77\n",
      "\u001b[33mEvaluating over 256 metamodels:  89%[======================>  ]  ETA: 0:00:44\u001b[39m┌ Warning: The scitype of `X`, in `machine(model, X, ...)` is incompatible with `model=\u001b[34mAdaBoostClassifier @986\u001b[39m`:\n",
      "│ scitype(X) = Table{Union{AbstractArray{Continuous,1}, AbstractArray{Count,1}}}\n",
      "│ input_scitype(model) = Table{var\"#s44\"} where var\"#s44\"<:(AbstractArray{var\"#s13\",1} where var\"#s13\"<:Continuous).\n",
      "└ @ MLJBase /home/andrew/.julia/packages/MLJBase/uKzAz/src/machines.jl:77\n",
      "\u001b[33mEvaluating over 256 metamodels:  90%[======================>  ]  ETA: 0:00:43\u001b[39m┌ Warning: The scitype of `X`, in `machine(model, X, ...)` is incompatible with `model=\u001b[34mAdaBoostClassifier @227\u001b[39m`:\n",
      "│ scitype(X) = Table{Union{AbstractArray{Continuous,1}, AbstractArray{Count,1}}}\n",
      "│ input_scitype(model) = Table{var\"#s44\"} where var\"#s44\"<:(AbstractArray{var\"#s13\",1} where var\"#s13\"<:Continuous).\n",
      "└ @ MLJBase /home/andrew/.julia/packages/MLJBase/uKzAz/src/machines.jl:77\n",
      "\u001b[33mEvaluating over 256 metamodels:  90%[======================>  ]  ETA: 0:00:41\u001b[39m┌ Warning: The scitype of `X`, in `machine(model, X, ...)` is incompatible with `model=\u001b[34mAdaBoostClassifier @318\u001b[39m`:\n",
      "│ scitype(X) = Table{Union{AbstractArray{Continuous,1}, AbstractArray{Count,1}}}\n",
      "│ input_scitype(model) = Table{var\"#s44\"} where var\"#s44\"<:(AbstractArray{var\"#s13\",1} where var\"#s13\"<:Continuous).\n",
      "└ @ MLJBase /home/andrew/.julia/packages/MLJBase/uKzAz/src/machines.jl:77\n",
      "\u001b[33mEvaluating over 256 metamodels:  91%[======================>  ]  ETA: 0:00:39\u001b[39m┌ Warning: The scitype of `X`, in `machine(model, X, ...)` is incompatible with `model=\u001b[34mAdaBoostClassifier @627\u001b[39m`:\n",
      "│ scitype(X) = Table{Union{AbstractArray{Continuous,1}, AbstractArray{Count,1}}}\n",
      "│ input_scitype(model) = Table{var\"#s44\"} where var\"#s44\"<:(AbstractArray{var\"#s13\",1} where var\"#s13\"<:Continuous).\n",
      "└ @ MLJBase /home/andrew/.julia/packages/MLJBase/uKzAz/src/machines.jl:77\n",
      "\u001b[33mEvaluating over 256 metamodels:  91%[======================>  ]  ETA: 0:00:38\u001b[39m┌ Warning: The scitype of `X`, in `machine(model, X, ...)` is incompatible with `model=\u001b[34mAdaBoostClassifier @133\u001b[39m`:\n",
      "│ scitype(X) = Table{Union{AbstractArray{Continuous,1}, AbstractArray{Count,1}}}\n",
      "│ input_scitype(model) = Table{var\"#s44\"} where var\"#s44\"<:(AbstractArray{var\"#s13\",1} where var\"#s13\"<:Continuous).\n",
      "└ @ MLJBase /home/andrew/.julia/packages/MLJBase/uKzAz/src/machines.jl:77\n",
      "\u001b[33mEvaluating over 256 metamodels:  91%[======================>  ]  ETA: 0:00:36\u001b[39m┌ Warning: The scitype of `X`, in `machine(model, X, ...)` is incompatible with `model=\u001b[34mAdaBoostClassifier @491\u001b[39m`:\n",
      "│ scitype(X) = Table{Union{AbstractArray{Continuous,1}, AbstractArray{Count,1}}}\n",
      "│ input_scitype(model) = Table{var\"#s44\"} where var\"#s44\"<:(AbstractArray{var\"#s13\",1} where var\"#s13\"<:Continuous).\n",
      "└ @ MLJBase /home/andrew/.julia/packages/MLJBase/uKzAz/src/machines.jl:77\n",
      "\u001b[33mEvaluating over 256 metamodels:  92%[======================>  ]  ETA: 0:00:34\u001b[39m┌ Warning: The scitype of `X`, in `machine(model, X, ...)` is incompatible with `model=\u001b[34mAdaBoostClassifier @062\u001b[39m`:\n",
      "│ scitype(X) = Table{Union{AbstractArray{Continuous,1}, AbstractArray{Count,1}}}\n",
      "│ input_scitype(model) = Table{var\"#s44\"} where var\"#s44\"<:(AbstractArray{var\"#s13\",1} where var\"#s13\"<:Continuous).\n",
      "└ @ MLJBase /home/andrew/.julia/packages/MLJBase/uKzAz/src/machines.jl:77\n",
      "\u001b[33mEvaluating over 256 metamodels:  92%[=======================> ]  ETA: 0:00:33\u001b[39m┌ Warning: The scitype of `X`, in `machine(model, X, ...)` is incompatible with `model=\u001b[34mAdaBoostClassifier @798\u001b[39m`:\n",
      "│ scitype(X) = Table{Union{AbstractArray{Continuous,1}, AbstractArray{Count,1}}}\n",
      "│ input_scitype(model) = Table{var\"#s44\"} where var\"#s44\"<:(AbstractArray{var\"#s13\",1} where var\"#s13\"<:Continuous).\n",
      "└ @ MLJBase /home/andrew/.julia/packages/MLJBase/uKzAz/src/machines.jl:77\n"
     ]
    },
    {
     "name": "stderr",
     "output_type": "stream",
     "text": [
      "\u001b[33mEvaluating over 256 metamodels:  93%[=======================> ]  ETA: 0:00:31\u001b[39m┌ Warning: The scitype of `X`, in `machine(model, X, ...)` is incompatible with `model=\u001b[34mAdaBoostClassifier @491\u001b[39m`:\n",
      "│ scitype(X) = Table{Union{AbstractArray{Continuous,1}, AbstractArray{Count,1}}}\n",
      "│ input_scitype(model) = Table{var\"#s44\"} where var\"#s44\"<:(AbstractArray{var\"#s13\",1} where var\"#s13\"<:Continuous).\n",
      "└ @ MLJBase /home/andrew/.julia/packages/MLJBase/uKzAz/src/machines.jl:77\n",
      "\u001b[33mEvaluating over 256 metamodels:  93%[=======================> ]  ETA: 0:00:29\u001b[39m┌ Warning: The scitype of `X`, in `machine(model, X, ...)` is incompatible with `model=\u001b[34mAdaBoostClassifier @674\u001b[39m`:\n",
      "│ scitype(X) = Table{Union{AbstractArray{Continuous,1}, AbstractArray{Count,1}}}\n",
      "│ input_scitype(model) = Table{var\"#s44\"} where var\"#s44\"<:(AbstractArray{var\"#s13\",1} where var\"#s13\"<:Continuous).\n",
      "└ @ MLJBase /home/andrew/.julia/packages/MLJBase/uKzAz/src/machines.jl:77\n",
      "\u001b[33mEvaluating over 256 metamodels:  93%[=======================> ]  ETA: 0:00:28\u001b[39m┌ Warning: The scitype of `X`, in `machine(model, X, ...)` is incompatible with `model=\u001b[34mAdaBoostClassifier @418\u001b[39m`:\n",
      "│ scitype(X) = Table{Union{AbstractArray{Continuous,1}, AbstractArray{Count,1}}}\n",
      "│ input_scitype(model) = Table{var\"#s44\"} where var\"#s44\"<:(AbstractArray{var\"#s13\",1} where var\"#s13\"<:Continuous).\n",
      "└ @ MLJBase /home/andrew/.julia/packages/MLJBase/uKzAz/src/machines.jl:77\n",
      "\u001b[33mEvaluating over 256 metamodels:  94%[=======================> ]  ETA: 0:00:26\u001b[39m┌ Warning: The scitype of `X`, in `machine(model, X, ...)` is incompatible with `model=\u001b[34mAdaBoostClassifier @852\u001b[39m`:\n",
      "│ scitype(X) = Table{Union{AbstractArray{Continuous,1}, AbstractArray{Count,1}}}\n",
      "│ input_scitype(model) = Table{var\"#s44\"} where var\"#s44\"<:(AbstractArray{var\"#s13\",1} where var\"#s13\"<:Continuous).\n",
      "└ @ MLJBase /home/andrew/.julia/packages/MLJBase/uKzAz/src/machines.jl:77\n",
      "\u001b[33mEvaluating over 256 metamodels:  94%[=======================> ]  ETA: 0:00:25\u001b[39m┌ Warning: The scitype of `X`, in `machine(model, X, ...)` is incompatible with `model=\u001b[34mAdaBoostClassifier @296\u001b[39m`:\n",
      "│ scitype(X) = Table{Union{AbstractArray{Continuous,1}, AbstractArray{Count,1}}}\n",
      "│ input_scitype(model) = Table{var\"#s44\"} where var\"#s44\"<:(AbstractArray{var\"#s13\",1} where var\"#s13\"<:Continuous).\n",
      "└ @ MLJBase /home/andrew/.julia/packages/MLJBase/uKzAz/src/machines.jl:77\n",
      "\u001b[33mEvaluating over 256 metamodels:  95%[=======================> ]  ETA: 0:00:23\u001b[39m┌ Warning: The scitype of `X`, in `machine(model, X, ...)` is incompatible with `model=\u001b[34mAdaBoostClassifier @068\u001b[39m`:\n",
      "│ scitype(X) = Table{Union{AbstractArray{Continuous,1}, AbstractArray{Count,1}}}\n",
      "│ input_scitype(model) = Table{var\"#s44\"} where var\"#s44\"<:(AbstractArray{var\"#s13\",1} where var\"#s13\"<:Continuous).\n",
      "└ @ MLJBase /home/andrew/.julia/packages/MLJBase/uKzAz/src/machines.jl:77\n",
      "\u001b[33mEvaluating over 256 metamodels:  95%[=======================> ]  ETA: 0:00:21\u001b[39m┌ Warning: The scitype of `X`, in `machine(model, X, ...)` is incompatible with `model=\u001b[34mAdaBoostClassifier @619\u001b[39m`:\n",
      "│ scitype(X) = Table{Union{AbstractArray{Continuous,1}, AbstractArray{Count,1}}}\n",
      "│ input_scitype(model) = Table{var\"#s44\"} where var\"#s44\"<:(AbstractArray{var\"#s13\",1} where var\"#s13\"<:Continuous).\n",
      "└ @ MLJBase /home/andrew/.julia/packages/MLJBase/uKzAz/src/machines.jl:77\n",
      "\u001b[33mEvaluating over 256 metamodels:  95%[=======================> ]  ETA: 0:00:20\u001b[39m┌ Warning: The scitype of `X`, in `machine(model, X, ...)` is incompatible with `model=\u001b[34mAdaBoostClassifier @884\u001b[39m`:\n",
      "│ scitype(X) = Table{Union{AbstractArray{Continuous,1}, AbstractArray{Count,1}}}\n",
      "│ input_scitype(model) = Table{var\"#s44\"} where var\"#s44\"<:(AbstractArray{var\"#s13\",1} where var\"#s13\"<:Continuous).\n",
      "└ @ MLJBase /home/andrew/.julia/packages/MLJBase/uKzAz/src/machines.jl:77\n",
      "\u001b[33mEvaluating over 256 metamodels:  96%[=======================> ]  ETA: 0:00:18\u001b[39m┌ Warning: The scitype of `X`, in `machine(model, X, ...)` is incompatible with `model=\u001b[34mAdaBoostClassifier @583\u001b[39m`:\n",
      "│ scitype(X) = Table{Union{AbstractArray{Continuous,1}, AbstractArray{Count,1}}}\n",
      "│ input_scitype(model) = Table{var\"#s44\"} where var\"#s44\"<:(AbstractArray{var\"#s13\",1} where var\"#s13\"<:Continuous).\n",
      "└ @ MLJBase /home/andrew/.julia/packages/MLJBase/uKzAz/src/machines.jl:77\n",
      "\u001b[33mEvaluating over 256 metamodels:  96%[========================>]  ETA: 0:00:16\u001b[39m┌ Warning: The scitype of `X`, in `machine(model, X, ...)` is incompatible with `model=\u001b[34mAdaBoostClassifier @014\u001b[39m`:\n",
      "│ scitype(X) = Table{Union{AbstractArray{Continuous,1}, AbstractArray{Count,1}}}\n",
      "│ input_scitype(model) = Table{var\"#s44\"} where var\"#s44\"<:(AbstractArray{var\"#s13\",1} where var\"#s13\"<:Continuous).\n",
      "└ @ MLJBase /home/andrew/.julia/packages/MLJBase/uKzAz/src/machines.jl:77\n",
      "\u001b[33mEvaluating over 256 metamodels:  96%[========================>]  ETA: 0:00:15\u001b[39m┌ Warning: The scitype of `X`, in `machine(model, X, ...)` is incompatible with `model=\u001b[34mAdaBoostClassifier @439\u001b[39m`:\n",
      "│ scitype(X) = Table{Union{AbstractArray{Continuous,1}, AbstractArray{Count,1}}}\n",
      "│ input_scitype(model) = Table{var\"#s44\"} where var\"#s44\"<:(AbstractArray{var\"#s13\",1} where var\"#s13\"<:Continuous).\n",
      "└ @ MLJBase /home/andrew/.julia/packages/MLJBase/uKzAz/src/machines.jl:77\n",
      "\u001b[33mEvaluating over 256 metamodels:  97%[========================>]  ETA: 0:00:13\u001b[39m┌ Warning: The scitype of `X`, in `machine(model, X, ...)` is incompatible with `model=\u001b[34mAdaBoostClassifier @307\u001b[39m`:\n",
      "│ scitype(X) = Table{Union{AbstractArray{Continuous,1}, AbstractArray{Count,1}}}\n",
      "│ input_scitype(model) = Table{var\"#s44\"} where var\"#s44\"<:(AbstractArray{var\"#s13\",1} where var\"#s13\"<:Continuous).\n",
      "└ @ MLJBase /home/andrew/.julia/packages/MLJBase/uKzAz/src/machines.jl:77\n",
      "\u001b[33mEvaluating over 256 metamodels:  97%[========================>]  ETA: 0:00:11\u001b[39m┌ Warning: The scitype of `X`, in `machine(model, X, ...)` is incompatible with `model=\u001b[34mAdaBoostClassifier @140\u001b[39m`:\n",
      "│ scitype(X) = Table{Union{AbstractArray{Continuous,1}, AbstractArray{Count,1}}}\n",
      "│ input_scitype(model) = Table{var\"#s44\"} where var\"#s44\"<:(AbstractArray{var\"#s13\",1} where var\"#s13\"<:Continuous).\n",
      "└ @ MLJBase /home/andrew/.julia/packages/MLJBase/uKzAz/src/machines.jl:77\n",
      "\u001b[33mEvaluating over 256 metamodels:  98%[========================>]  ETA: 0:00:10\u001b[39m┌ Warning: The scitype of `X`, in `machine(model, X, ...)` is incompatible with `model=\u001b[34mAdaBoostClassifier @223\u001b[39m`:\n",
      "│ scitype(X) = Table{Union{AbstractArray{Continuous,1}, AbstractArray{Count,1}}}\n",
      "│ input_scitype(model) = Table{var\"#s44\"} where var\"#s44\"<:(AbstractArray{var\"#s13\",1} where var\"#s13\"<:Continuous).\n",
      "└ @ MLJBase /home/andrew/.julia/packages/MLJBase/uKzAz/src/machines.jl:77\n",
      "\u001b[33mEvaluating over 256 metamodels:  98%[========================>]  ETA: 0:00:08\u001b[39m┌ Warning: The scitype of `X`, in `machine(model, X, ...)` is incompatible with `model=\u001b[34mAdaBoostClassifier @080\u001b[39m`:\n",
      "│ scitype(X) = Table{Union{AbstractArray{Continuous,1}, AbstractArray{Count,1}}}\n",
      "│ input_scitype(model) = Table{var\"#s44\"} where var\"#s44\"<:(AbstractArray{var\"#s13\",1} where var\"#s13\"<:Continuous).\n",
      "└ @ MLJBase /home/andrew/.julia/packages/MLJBase/uKzAz/src/machines.jl:77\n",
      "\u001b[33mEvaluating over 256 metamodels:  98%[========================>]  ETA: 0:00:07\u001b[39m┌ Warning: The scitype of `X`, in `machine(model, X, ...)` is incompatible with `model=\u001b[34mAdaBoostClassifier @174\u001b[39m`:\n",
      "│ scitype(X) = Table{Union{AbstractArray{Continuous,1}, AbstractArray{Count,1}}}\n",
      "│ input_scitype(model) = Table{var\"#s44\"} where var\"#s44\"<:(AbstractArray{var\"#s13\",1} where var\"#s13\"<:Continuous).\n",
      "└ @ MLJBase /home/andrew/.julia/packages/MLJBase/uKzAz/src/machines.jl:77\n",
      "\u001b[33mEvaluating over 256 metamodels:  99%[========================>]  ETA: 0:00:05\u001b[39m┌ Warning: The scitype of `X`, in `machine(model, X, ...)` is incompatible with `model=\u001b[34mAdaBoostClassifier @483\u001b[39m`:\n",
      "│ scitype(X) = Table{Union{AbstractArray{Continuous,1}, AbstractArray{Count,1}}}\n",
      "│ input_scitype(model) = Table{var\"#s44\"} where var\"#s44\"<:(AbstractArray{var\"#s13\",1} where var\"#s13\"<:Continuous).\n",
      "└ @ MLJBase /home/andrew/.julia/packages/MLJBase/uKzAz/src/machines.jl:77\n"
     ]
    },
    {
     "name": "stderr",
     "output_type": "stream",
     "text": [
      "\u001b[33mEvaluating over 256 metamodels:  99%[========================>]  ETA: 0:00:03\u001b[39m┌ Warning: The scitype of `X`, in `machine(model, X, ...)` is incompatible with `model=\u001b[34mAdaBoostClassifier @661\u001b[39m`:\n",
      "│ scitype(X) = Table{Union{AbstractArray{Continuous,1}, AbstractArray{Count,1}}}\n",
      "│ input_scitype(model) = Table{var\"#s44\"} where var\"#s44\"<:(AbstractArray{var\"#s13\",1} where var\"#s13\"<:Continuous).\n",
      "└ @ MLJBase /home/andrew/.julia/packages/MLJBase/uKzAz/src/machines.jl:77\n",
      "\u001b[33mEvaluating over 256 metamodels: 100%[========================>]  ETA: 0:00:02\u001b[39m┌ Warning: The scitype of `X`, in `machine(model, X, ...)` is incompatible with `model=\u001b[34mAdaBoostClassifier @134\u001b[39m`:\n",
      "│ scitype(X) = Table{Union{AbstractArray{Continuous,1}, AbstractArray{Count,1}}}\n",
      "│ input_scitype(model) = Table{var\"#s44\"} where var\"#s44\"<:(AbstractArray{var\"#s13\",1} where var\"#s13\"<:Continuous).\n",
      "└ @ MLJBase /home/andrew/.julia/packages/MLJBase/uKzAz/src/machines.jl:77\n",
      "\u001b[33mEvaluating over 256 metamodels: 100%[=========================] Time: 0:07:00\u001b[39m\n",
      "┌ Warning: The scitype of `X`, in `machine(model, X, ...)` is incompatible with `model=\u001b[34mAdaBoostClassifier @781\u001b[39m`:\n",
      "│ scitype(X) = Table{Union{AbstractArray{Continuous,1}, AbstractArray{Count,1}}}\n",
      "│ input_scitype(model) = Table{var\"#s44\"} where var\"#s44\"<:(AbstractArray{var\"#s13\",1} where var\"#s13\"<:Continuous).\n",
      "└ @ MLJBase /home/andrew/.julia/packages/MLJBase/uKzAz/src/machines.jl:77\n"
     ]
    },
    {
     "data": {
      "text/plain": [
       "\u001b[34mMachine{ProbabilisticTunedModel{Grid,…}} @575\u001b[39m trained 1 time.\n",
       "  args: \n",
       "    1:\t\u001b[34mSource @704\u001b[39m ⏎ `Table{Union{AbstractArray{Continuous,1}, AbstractArray{Count,1}}}`\n",
       "    2:\t\u001b[34mSource @737\u001b[39m ⏎ `AbstractArray{Multiclass{2},1}`\n"
      ]
     },
     "execution_count": 211,
     "metadata": {},
     "output_type": "execute_result"
    }
   ],
   "source": [
    "z = fit!(self_tuning_boost, rows=train)"
   ]
  },
  {
   "cell_type": "code",
   "execution_count": 213,
   "metadata": {},
   "outputs": [
    {
     "data": {
      "image/svg+xml": [
       "<?xml version=\"1.0\" encoding=\"utf-8\"?>\n",
       "<svg xmlns=\"http://www.w3.org/2000/svg\" xmlns:xlink=\"http://www.w3.org/1999/xlink\" width=\"600\" height=\"400\" viewBox=\"0 0 2400 1600\">\n",
       "<defs>\n",
       "  <clipPath id=\"clip970\">\n",
       "    <rect x=\"0\" y=\"0\" width=\"2400\" height=\"1600\"/>\n",
       "  </clipPath>\n",
       "</defs>\n",
       "<path clip-path=\"url(#clip970)\" d=\"\n",
       "M0 1600 L2400 1600 L2400 0 L0 0  Z\n",
       "  \" fill=\"#ffffff\" fill-rule=\"evenodd\" fill-opacity=\"1\"/>\n",
       "<defs>\n",
       "  <clipPath id=\"clip971\">\n",
       "    <rect x=\"480\" y=\"0\" width=\"1681\" height=\"1600\"/>\n",
       "  </clipPath>\n",
       "</defs>\n",
       "<path clip-path=\"url(#clip970)\" d=\"\n",
       "M225.352 1423.18 L2112.76 1423.18 L2112.76 47.2441 L225.352 47.2441  Z\n",
       "  \" fill=\"#ffffff\" fill-rule=\"evenodd\" fill-opacity=\"1\"/>\n",
       "<defs>\n",
       "  <clipPath id=\"clip972\">\n",
       "    <rect x=\"225\" y=\"47\" width=\"1888\" height=\"1377\"/>\n",
       "  </clipPath>\n",
       "</defs>\n",
       "<polyline clip-path=\"url(#clip972)\" style=\"stroke:#000000; stroke-width:2; stroke-opacity:0.1; fill:none\" points=\"\n",
       "  278.769,1423.18 278.769,47.2441 \n",
       "  \"/>\n",
       "<polyline clip-path=\"url(#clip972)\" style=\"stroke:#000000; stroke-width:2; stroke-opacity:0.1; fill:none\" points=\"\n",
       "  723.912,1423.18 723.912,47.2441 \n",
       "  \"/>\n",
       "<polyline clip-path=\"url(#clip972)\" style=\"stroke:#000000; stroke-width:2; stroke-opacity:0.1; fill:none\" points=\"\n",
       "  1169.05,1423.18 1169.05,47.2441 \n",
       "  \"/>\n",
       "<polyline clip-path=\"url(#clip972)\" style=\"stroke:#000000; stroke-width:2; stroke-opacity:0.1; fill:none\" points=\"\n",
       "  1614.2,1423.18 1614.2,47.2441 \n",
       "  \"/>\n",
       "<polyline clip-path=\"url(#clip972)\" style=\"stroke:#000000; stroke-width:2; stroke-opacity:0.1; fill:none\" points=\"\n",
       "  2059.34,1423.18 2059.34,47.2441 \n",
       "  \"/>\n",
       "<polyline clip-path=\"url(#clip972)\" style=\"stroke:#000000; stroke-width:2; stroke-opacity:0.1; fill:none\" points=\"\n",
       "  225.352,1384.24 2112.76,1384.24 \n",
       "  \"/>\n",
       "<polyline clip-path=\"url(#clip972)\" style=\"stroke:#000000; stroke-width:2; stroke-opacity:0.1; fill:none\" points=\"\n",
       "  225.352,1095.78 2112.76,1095.78 \n",
       "  \"/>\n",
       "<polyline clip-path=\"url(#clip972)\" style=\"stroke:#000000; stroke-width:2; stroke-opacity:0.1; fill:none\" points=\"\n",
       "  225.352,807.326 2112.76,807.326 \n",
       "  \"/>\n",
       "<polyline clip-path=\"url(#clip972)\" style=\"stroke:#000000; stroke-width:2; stroke-opacity:0.1; fill:none\" points=\"\n",
       "  225.352,518.87 2112.76,518.87 \n",
       "  \"/>\n",
       "<polyline clip-path=\"url(#clip972)\" style=\"stroke:#000000; stroke-width:2; stroke-opacity:0.1; fill:none\" points=\"\n",
       "  225.352,230.414 2112.76,230.414 \n",
       "  \"/>\n",
       "<polyline clip-path=\"url(#clip970)\" style=\"stroke:#000000; stroke-width:4; stroke-opacity:1; fill:none\" points=\"\n",
       "  225.352,1423.18 2112.76,1423.18 \n",
       "  \"/>\n",
       "<polyline clip-path=\"url(#clip970)\" style=\"stroke:#000000; stroke-width:4; stroke-opacity:1; fill:none\" points=\"\n",
       "  225.352,1423.18 225.352,47.2441 \n",
       "  \"/>\n",
       "<polyline clip-path=\"url(#clip970)\" style=\"stroke:#000000; stroke-width:4; stroke-opacity:1; fill:none\" points=\"\n",
       "  278.769,1423.18 278.769,1406.67 \n",
       "  \"/>\n",
       "<polyline clip-path=\"url(#clip970)\" style=\"stroke:#000000; stroke-width:4; stroke-opacity:1; fill:none\" points=\"\n",
       "  723.912,1423.18 723.912,1406.67 \n",
       "  \"/>\n",
       "<polyline clip-path=\"url(#clip970)\" style=\"stroke:#000000; stroke-width:4; stroke-opacity:1; fill:none\" points=\"\n",
       "  1169.05,1423.18 1169.05,1406.67 \n",
       "  \"/>\n",
       "<polyline clip-path=\"url(#clip970)\" style=\"stroke:#000000; stroke-width:4; stroke-opacity:1; fill:none\" points=\"\n",
       "  1614.2,1423.18 1614.2,1406.67 \n",
       "  \"/>\n",
       "<polyline clip-path=\"url(#clip970)\" style=\"stroke:#000000; stroke-width:4; stroke-opacity:1; fill:none\" points=\"\n",
       "  2059.34,1423.18 2059.34,1406.67 \n",
       "  \"/>\n",
       "<polyline clip-path=\"url(#clip970)\" style=\"stroke:#000000; stroke-width:4; stroke-opacity:1; fill:none\" points=\"\n",
       "  225.352,1384.24 248.001,1384.24 \n",
       "  \"/>\n",
       "<polyline clip-path=\"url(#clip970)\" style=\"stroke:#000000; stroke-width:4; stroke-opacity:1; fill:none\" points=\"\n",
       "  225.352,1095.78 248.001,1095.78 \n",
       "  \"/>\n",
       "<polyline clip-path=\"url(#clip970)\" style=\"stroke:#000000; stroke-width:4; stroke-opacity:1; fill:none\" points=\"\n",
       "  225.352,807.326 248.001,807.326 \n",
       "  \"/>\n",
       "<polyline clip-path=\"url(#clip970)\" style=\"stroke:#000000; stroke-width:4; stroke-opacity:1; fill:none\" points=\"\n",
       "  225.352,518.87 248.001,518.87 \n",
       "  \"/>\n",
       "<polyline clip-path=\"url(#clip970)\" style=\"stroke:#000000; stroke-width:4; stroke-opacity:1; fill:none\" points=\"\n",
       "  225.352,230.414 248.001,230.414 \n",
       "  \"/>\n",
       "<path clip-path=\"url(#clip970)\" d=\"M 0 0 M247.033 1445.17 Q243.422 1445.17 241.594 1448.74 Q239.788 1452.28 239.788 1459.41 Q239.788 1466.51 241.594 1470.08 Q243.422 1473.62 247.033 1473.62 Q250.668 1473.62 252.473 1470.08 Q254.302 1466.51 254.302 1459.41 Q254.302 1452.28 252.473 1448.74 Q250.668 1445.17 247.033 1445.17 M247.033 1441.47 Q252.844 1441.47 255.899 1446.07 Q258.978 1450.66 258.978 1459.41 Q258.978 1468.13 255.899 1472.74 Q252.844 1477.32 247.033 1477.32 Q241.223 1477.32 238.145 1472.74 Q235.089 1468.13 235.089 1459.41 Q235.089 1450.66 238.145 1446.07 Q241.223 1441.47 247.033 1441.47 Z\" fill=\"#000000\" fill-rule=\"evenodd\" fill-opacity=\"1\" /><path clip-path=\"url(#clip970)\" d=\"M 0 0 M264.047 1470.77 L268.932 1470.77 L268.932 1476.65 L264.047 1476.65 L264.047 1470.77 Z\" fill=\"#000000\" fill-rule=\"evenodd\" fill-opacity=\"1\" /><path clip-path=\"url(#clip970)\" d=\"M 0 0 M286.848 1446.17 L275.043 1464.61 L286.848 1464.61 L286.848 1446.17 M285.621 1442.09 L291.501 1442.09 L291.501 1464.61 L296.431 1464.61 L296.431 1468.5 L291.501 1468.5 L291.501 1476.65 L286.848 1476.65 L286.848 1468.5 L271.246 1468.5 L271.246 1463.99 L285.621 1442.09 Z\" fill=\"#000000\" fill-rule=\"evenodd\" fill-opacity=\"1\" /><path clip-path=\"url(#clip970)\" d=\"M 0 0 M301.547 1442.09 L319.903 1442.09 L319.903 1446.03 L305.829 1446.03 L305.829 1454.5 Q306.848 1454.15 307.866 1453.99 Q308.885 1453.8 309.904 1453.8 Q315.691 1453.8 319.07 1456.98 Q322.45 1460.15 322.45 1465.56 Q322.45 1471.14 318.978 1474.24 Q315.505 1477.32 309.186 1477.32 Q307.01 1477.32 304.742 1476.95 Q302.496 1476.58 300.089 1475.84 L300.089 1471.14 Q302.172 1472.28 304.394 1472.83 Q306.617 1473.39 309.093 1473.39 Q313.098 1473.39 315.436 1471.28 Q317.774 1469.18 317.774 1465.56 Q317.774 1461.95 315.436 1459.85 Q313.098 1457.74 309.093 1457.74 Q307.218 1457.74 305.343 1458.16 Q303.492 1458.57 301.547 1459.45 L301.547 1442.09 Z\" fill=\"#000000\" fill-rule=\"evenodd\" fill-opacity=\"1\" /><path clip-path=\"url(#clip970)\" d=\"M 0 0 M692.419 1445.17 Q688.808 1445.17 686.979 1448.74 Q685.174 1452.28 685.174 1459.41 Q685.174 1466.51 686.979 1470.08 Q688.808 1473.62 692.419 1473.62 Q696.053 1473.62 697.859 1470.08 Q699.687 1466.51 699.687 1459.41 Q699.687 1452.28 697.859 1448.74 Q696.053 1445.17 692.419 1445.17 M692.419 1441.47 Q698.229 1441.47 701.285 1446.07 Q704.363 1450.66 704.363 1459.41 Q704.363 1468.13 701.285 1472.74 Q698.229 1477.32 692.419 1477.32 Q686.609 1477.32 683.53 1472.74 Q680.475 1468.13 680.475 1459.41 Q680.475 1450.66 683.53 1446.07 Q686.609 1441.47 692.419 1441.47 Z\" fill=\"#000000\" fill-rule=\"evenodd\" fill-opacity=\"1\" /><path clip-path=\"url(#clip970)\" d=\"M 0 0 M709.433 1470.77 L714.317 1470.77 L714.317 1476.65 L709.433 1476.65 L709.433 1470.77 Z\" fill=\"#000000\" fill-rule=\"evenodd\" fill-opacity=\"1\" /><path clip-path=\"url(#clip970)\" d=\"M 0 0 M719.433 1442.09 L737.789 1442.09 L737.789 1446.03 L723.715 1446.03 L723.715 1454.5 Q724.734 1454.15 725.752 1453.99 Q726.771 1453.8 727.789 1453.8 Q733.576 1453.8 736.956 1456.98 Q740.335 1460.15 740.335 1465.56 Q740.335 1471.14 736.863 1474.24 Q733.391 1477.32 727.071 1477.32 Q724.896 1477.32 722.627 1476.95 Q720.382 1476.58 717.974 1475.84 L717.974 1471.14 Q720.058 1472.28 722.28 1472.83 Q724.502 1473.39 726.979 1473.39 Q730.983 1473.39 733.321 1471.28 Q735.659 1469.18 735.659 1465.56 Q735.659 1461.95 733.321 1459.85 Q730.983 1457.74 726.979 1457.74 Q725.104 1457.74 723.229 1458.16 Q721.377 1458.57 719.433 1459.45 L719.433 1442.09 Z\" fill=\"#000000\" fill-rule=\"evenodd\" fill-opacity=\"1\" /><path clip-path=\"url(#clip970)\" d=\"M 0 0 M755.405 1445.17 Q751.794 1445.17 749.965 1448.74 Q748.159 1452.28 748.159 1459.41 Q748.159 1466.51 749.965 1470.08 Q751.794 1473.62 755.405 1473.62 Q759.039 1473.62 760.844 1470.08 Q762.673 1466.51 762.673 1459.41 Q762.673 1452.28 760.844 1448.74 Q759.039 1445.17 755.405 1445.17 M755.405 1441.47 Q761.215 1441.47 764.27 1446.07 Q767.349 1450.66 767.349 1459.41 Q767.349 1468.13 764.27 1472.74 Q761.215 1477.32 755.405 1477.32 Q749.595 1477.32 746.516 1472.74 Q743.46 1468.13 743.46 1459.41 Q743.46 1450.66 746.516 1446.07 Q749.595 1441.47 755.405 1441.47 Z\" fill=\"#000000\" fill-rule=\"evenodd\" fill-opacity=\"1\" /><path clip-path=\"url(#clip970)\" d=\"M 0 0 M1138.06 1445.17 Q1134.45 1445.17 1132.62 1448.74 Q1130.81 1452.28 1130.81 1459.41 Q1130.81 1466.51 1132.62 1470.08 Q1134.45 1473.62 1138.06 1473.62 Q1141.69 1473.62 1143.5 1470.08 Q1145.33 1466.51 1145.33 1459.41 Q1145.33 1452.28 1143.5 1448.74 Q1141.69 1445.17 1138.06 1445.17 M1138.06 1441.47 Q1143.87 1441.47 1146.92 1446.07 Q1150 1450.66 1150 1459.41 Q1150 1468.13 1146.92 1472.74 Q1143.87 1477.32 1138.06 1477.32 Q1132.25 1477.32 1129.17 1472.74 Q1126.11 1468.13 1126.11 1459.41 Q1126.11 1450.66 1129.17 1446.07 Q1132.25 1441.47 1138.06 1441.47 Z\" fill=\"#000000\" fill-rule=\"evenodd\" fill-opacity=\"1\" /><path clip-path=\"url(#clip970)\" d=\"M 0 0 M1155.07 1470.77 L1159.96 1470.77 L1159.96 1476.65 L1155.07 1476.65 L1155.07 1470.77 Z\" fill=\"#000000\" fill-rule=\"evenodd\" fill-opacity=\"1\" /><path clip-path=\"url(#clip970)\" d=\"M 0 0 M1165.07 1442.09 L1183.43 1442.09 L1183.43 1446.03 L1169.36 1446.03 L1169.36 1454.5 Q1170.37 1454.15 1171.39 1453.99 Q1172.41 1453.8 1173.43 1453.8 Q1179.22 1453.8 1182.6 1456.98 Q1185.98 1460.15 1185.98 1465.56 Q1185.98 1471.14 1182.5 1474.24 Q1179.03 1477.32 1172.71 1477.32 Q1170.54 1477.32 1168.27 1476.95 Q1166.02 1476.58 1163.61 1475.84 L1163.61 1471.14 Q1165.7 1472.28 1167.92 1472.83 Q1170.14 1473.39 1172.62 1473.39 Q1176.62 1473.39 1178.96 1471.28 Q1181.3 1469.18 1181.3 1465.56 Q1181.3 1461.95 1178.96 1459.85 Q1176.62 1457.74 1172.62 1457.74 Q1170.74 1457.74 1168.87 1458.16 Q1167.02 1458.57 1165.07 1459.45 L1165.07 1442.09 Z\" fill=\"#000000\" fill-rule=\"evenodd\" fill-opacity=\"1\" /><path clip-path=\"url(#clip970)\" d=\"M 0 0 M1191.09 1442.09 L1209.45 1442.09 L1209.45 1446.03 L1195.37 1446.03 L1195.37 1454.5 Q1196.39 1454.15 1197.41 1453.99 Q1198.43 1453.8 1199.45 1453.8 Q1205.23 1453.8 1208.61 1456.98 Q1211.99 1460.15 1211.99 1465.56 Q1211.99 1471.14 1208.52 1474.24 Q1205.05 1477.32 1198.73 1477.32 Q1196.55 1477.32 1194.29 1476.95 Q1192.04 1476.58 1189.63 1475.84 L1189.63 1471.14 Q1191.72 1472.28 1193.94 1472.83 Q1196.16 1473.39 1198.64 1473.39 Q1202.64 1473.39 1204.98 1471.28 Q1207.32 1469.18 1207.32 1465.56 Q1207.32 1461.95 1204.98 1459.85 Q1202.64 1457.74 1198.64 1457.74 Q1196.76 1457.74 1194.89 1458.16 Q1193.04 1458.57 1191.09 1459.45 L1191.09 1442.09 Z\" fill=\"#000000\" fill-rule=\"evenodd\" fill-opacity=\"1\" /><path clip-path=\"url(#clip970)\" d=\"M 0 0 M1582.12 1445.17 Q1578.51 1445.17 1576.69 1448.74 Q1574.88 1452.28 1574.88 1459.41 Q1574.88 1466.51 1576.69 1470.08 Q1578.51 1473.62 1582.12 1473.62 Q1585.76 1473.62 1587.56 1470.08 Q1589.39 1466.51 1589.39 1459.41 Q1589.39 1452.28 1587.56 1448.74 Q1585.76 1445.17 1582.12 1445.17 M1582.12 1441.47 Q1587.94 1441.47 1590.99 1446.07 Q1594.07 1450.66 1594.07 1459.41 Q1594.07 1468.13 1590.99 1472.74 Q1587.94 1477.32 1582.12 1477.32 Q1576.31 1477.32 1573.24 1472.74 Q1570.18 1468.13 1570.18 1459.41 Q1570.18 1450.66 1573.24 1446.07 Q1576.31 1441.47 1582.12 1441.47 Z\" fill=\"#000000\" fill-rule=\"evenodd\" fill-opacity=\"1\" /><path clip-path=\"url(#clip970)\" d=\"M 0 0 M1599.14 1470.77 L1604.02 1470.77 L1604.02 1476.65 L1599.14 1476.65 L1599.14 1470.77 Z\" fill=\"#000000\" fill-rule=\"evenodd\" fill-opacity=\"1\" /><path clip-path=\"url(#clip970)\" d=\"M 0 0 M1619.67 1457.51 Q1616.52 1457.51 1614.67 1459.66 Q1612.84 1461.81 1612.84 1465.56 Q1612.84 1469.29 1614.67 1471.47 Q1616.52 1473.62 1619.67 1473.62 Q1622.82 1473.62 1624.65 1471.47 Q1626.5 1469.29 1626.5 1465.56 Q1626.5 1461.81 1624.65 1459.66 Q1622.82 1457.51 1619.67 1457.51 M1628.95 1442.86 L1628.95 1447.11 Q1627.19 1446.28 1625.39 1445.84 Q1623.61 1445.4 1621.85 1445.4 Q1617.22 1445.4 1614.76 1448.53 Q1612.33 1451.65 1611.99 1457.97 Q1613.35 1455.96 1615.41 1454.89 Q1617.47 1453.8 1619.95 1453.8 Q1625.16 1453.8 1628.17 1456.98 Q1631.2 1460.12 1631.2 1465.56 Q1631.2 1470.89 1628.05 1474.11 Q1624.9 1477.32 1619.67 1477.32 Q1613.68 1477.32 1610.5 1472.74 Q1607.33 1468.13 1607.33 1459.41 Q1607.33 1451.21 1611.22 1446.35 Q1615.11 1441.47 1621.66 1441.47 Q1623.42 1441.47 1625.2 1441.81 Q1627.01 1442.16 1628.95 1442.86 Z\" fill=\"#000000\" fill-rule=\"evenodd\" fill-opacity=\"1\" /><path clip-path=\"url(#clip970)\" d=\"M 0 0 M1646.27 1445.17 Q1642.66 1445.17 1640.83 1448.74 Q1639.02 1452.28 1639.02 1459.41 Q1639.02 1466.51 1640.83 1470.08 Q1642.66 1473.62 1646.27 1473.62 Q1649.9 1473.62 1651.71 1470.08 Q1653.54 1466.51 1653.54 1459.41 Q1653.54 1452.28 1651.71 1448.74 Q1649.9 1445.17 1646.27 1445.17 M1646.27 1441.47 Q1652.08 1441.47 1655.13 1446.07 Q1658.21 1450.66 1658.21 1459.41 Q1658.21 1468.13 1655.13 1472.74 Q1652.08 1477.32 1646.27 1477.32 Q1640.46 1477.32 1637.38 1472.74 Q1634.32 1468.13 1634.32 1459.41 Q1634.32 1450.66 1637.38 1446.07 Q1640.46 1441.47 1646.27 1441.47 Z\" fill=\"#000000\" fill-rule=\"evenodd\" fill-opacity=\"1\" /><path clip-path=\"url(#clip970)\" d=\"M 0 0 M2027.76 1445.17 Q2024.15 1445.17 2022.33 1448.74 Q2020.52 1452.28 2020.52 1459.41 Q2020.52 1466.51 2022.33 1470.08 Q2024.15 1473.62 2027.76 1473.62 Q2031.4 1473.62 2033.2 1470.08 Q2035.03 1466.51 2035.03 1459.41 Q2035.03 1452.28 2033.2 1448.74 Q2031.4 1445.17 2027.76 1445.17 M2027.76 1441.47 Q2033.58 1441.47 2036.63 1446.07 Q2039.71 1450.66 2039.71 1459.41 Q2039.71 1468.13 2036.63 1472.74 Q2033.58 1477.32 2027.76 1477.32 Q2021.95 1477.32 2018.88 1472.74 Q2015.82 1468.13 2015.82 1459.41 Q2015.82 1450.66 2018.88 1446.07 Q2021.95 1441.47 2027.76 1441.47 Z\" fill=\"#000000\" fill-rule=\"evenodd\" fill-opacity=\"1\" /><path clip-path=\"url(#clip970)\" d=\"M 0 0 M2044.78 1470.77 L2049.66 1470.77 L2049.66 1476.65 L2044.78 1476.65 L2044.78 1470.77 Z\" fill=\"#000000\" fill-rule=\"evenodd\" fill-opacity=\"1\" /><path clip-path=\"url(#clip970)\" d=\"M 0 0 M2065.31 1457.51 Q2062.16 1457.51 2060.31 1459.66 Q2058.48 1461.81 2058.48 1465.56 Q2058.48 1469.29 2060.31 1471.47 Q2062.16 1473.62 2065.31 1473.62 Q2068.46 1473.62 2070.29 1471.47 Q2072.14 1469.29 2072.14 1465.56 Q2072.14 1461.81 2070.29 1459.66 Q2068.46 1457.51 2065.31 1457.51 M2074.59 1442.86 L2074.59 1447.11 Q2072.83 1446.28 2071.03 1445.84 Q2069.25 1445.4 2067.49 1445.4 Q2062.86 1445.4 2060.4 1448.53 Q2057.97 1451.65 2057.63 1457.97 Q2058.99 1455.96 2061.05 1454.89 Q2063.11 1453.8 2065.59 1453.8 Q2070.8 1453.8 2073.81 1456.98 Q2076.84 1460.12 2076.84 1465.56 Q2076.84 1470.89 2073.69 1474.11 Q2070.54 1477.32 2065.31 1477.32 Q2059.32 1477.32 2056.14 1472.74 Q2052.97 1468.13 2052.97 1459.41 Q2052.97 1451.21 2056.86 1446.35 Q2060.75 1441.47 2067.3 1441.47 Q2069.06 1441.47 2070.84 1441.81 Q2072.65 1442.16 2074.59 1442.86 Z\" fill=\"#000000\" fill-rule=\"evenodd\" fill-opacity=\"1\" /><path clip-path=\"url(#clip970)\" d=\"M 0 0 M2081.95 1442.09 L2100.31 1442.09 L2100.31 1446.03 L2086.24 1446.03 L2086.24 1454.5 Q2087.26 1454.15 2088.27 1453.99 Q2089.29 1453.8 2090.31 1453.8 Q2096.1 1453.8 2099.48 1456.98 Q2102.86 1460.15 2102.86 1465.56 Q2102.86 1471.14 2099.38 1474.24 Q2095.91 1477.32 2089.59 1477.32 Q2087.42 1477.32 2085.15 1476.95 Q2082.9 1476.58 2080.5 1475.84 L2080.5 1471.14 Q2082.58 1472.28 2084.8 1472.83 Q2087.02 1473.39 2089.5 1473.39 Q2093.51 1473.39 2095.84 1471.28 Q2098.18 1469.18 2098.18 1465.56 Q2098.18 1461.95 2095.84 1459.85 Q2093.51 1457.74 2089.5 1457.74 Q2087.63 1457.74 2085.75 1458.16 Q2083.9 1458.57 2081.95 1459.45 L2081.95 1442.09 Z\" fill=\"#000000\" fill-rule=\"evenodd\" fill-opacity=\"1\" /><path clip-path=\"url(#clip970)\" d=\"M 0 0 M128.644 1397.58 L136.283 1397.58 L136.283 1371.22 L127.973 1372.88 L127.973 1368.62 L136.237 1366.96 L140.913 1366.96 L140.913 1397.58 L148.552 1397.58 L148.552 1401.52 L128.644 1401.52 L128.644 1397.58 Z\" fill=\"#000000\" fill-rule=\"evenodd\" fill-opacity=\"1\" /><path clip-path=\"url(#clip970)\" d=\"M 0 0 M154.431 1397.58 L162.07 1397.58 L162.07 1371.22 L153.76 1372.88 L153.76 1368.62 L162.024 1366.96 L166.7 1366.96 L166.7 1397.58 L174.339 1397.58 L174.339 1401.52 L154.431 1401.52 L154.431 1397.58 Z\" fill=\"#000000\" fill-rule=\"evenodd\" fill-opacity=\"1\" /><path clip-path=\"url(#clip970)\" d=\"M 0 0 M189.408 1370.04 Q185.797 1370.04 183.968 1373.6 Q182.163 1377.14 182.163 1384.27 Q182.163 1391.38 183.968 1394.94 Q185.797 1398.49 189.408 1398.49 Q193.042 1398.49 194.848 1394.94 Q196.676 1391.38 196.676 1384.27 Q196.676 1377.14 194.848 1373.6 Q193.042 1370.04 189.408 1370.04 M189.408 1366.33 Q195.218 1366.33 198.274 1370.94 Q201.352 1375.52 201.352 1384.27 Q201.352 1393 198.274 1397.61 Q195.218 1402.19 189.408 1402.19 Q183.598 1402.19 180.519 1397.61 Q177.464 1393 177.464 1384.27 Q177.464 1375.52 180.519 1370.94 Q183.598 1366.33 189.408 1366.33 Z\" fill=\"#000000\" fill-rule=\"evenodd\" fill-opacity=\"1\" /><path clip-path=\"url(#clip970)\" d=\"M 0 0 M129.015 1109.13 L136.654 1109.13 L136.654 1082.76 L128.343 1084.43 L128.343 1080.17 L136.607 1078.5 L141.283 1078.5 L141.283 1109.13 L148.922 1109.13 L148.922 1113.06 L129.015 1113.06 L129.015 1109.13 Z\" fill=\"#000000\" fill-rule=\"evenodd\" fill-opacity=\"1\" /><path clip-path=\"url(#clip970)\" d=\"M 0 0 M158.019 1109.13 L174.339 1109.13 L174.339 1113.06 L152.394 1113.06 L152.394 1109.13 Q155.056 1106.37 159.64 1101.74 Q164.246 1097.09 165.427 1095.75 Q167.672 1093.22 168.552 1091.49 Q169.454 1089.73 169.454 1088.04 Q169.454 1085.28 167.51 1083.55 Q165.589 1081.81 162.487 1081.81 Q160.288 1081.81 157.834 1082.58 Q155.404 1083.34 152.626 1084.89 L152.626 1080.17 Q155.45 1079.03 157.904 1078.46 Q160.357 1077.88 162.394 1077.88 Q167.765 1077.88 170.959 1080.56 Q174.153 1083.25 174.153 1087.74 Q174.153 1089.87 173.343 1091.79 Q172.556 1093.69 170.45 1096.28 Q169.871 1096.95 166.769 1100.17 Q163.667 1103.36 158.019 1109.13 Z\" fill=\"#000000\" fill-rule=\"evenodd\" fill-opacity=\"1\" /><path clip-path=\"url(#clip970)\" d=\"M 0 0 M189.408 1081.58 Q185.797 1081.58 183.968 1085.15 Q182.163 1088.69 182.163 1095.82 Q182.163 1102.92 183.968 1106.49 Q185.797 1110.03 189.408 1110.03 Q193.042 1110.03 194.848 1106.49 Q196.676 1102.92 196.676 1095.82 Q196.676 1088.69 194.848 1085.15 Q193.042 1081.58 189.408 1081.58 M189.408 1077.88 Q195.218 1077.88 198.274 1082.48 Q201.352 1087.07 201.352 1095.82 Q201.352 1104.54 198.274 1109.15 Q195.218 1113.73 189.408 1113.73 Q183.598 1113.73 180.519 1109.15 Q177.464 1104.54 177.464 1095.82 Q177.464 1087.07 180.519 1082.48 Q183.598 1077.88 189.408 1077.88 Z\" fill=\"#000000\" fill-rule=\"evenodd\" fill-opacity=\"1\" /><path clip-path=\"url(#clip970)\" d=\"M 0 0 M128.066 820.671 L135.705 820.671 L135.705 794.305 L127.394 795.972 L127.394 791.713 L135.658 790.046 L140.334 790.046 L140.334 820.671 L147.973 820.671 L147.973 824.606 L128.066 824.606 L128.066 820.671 Z\" fill=\"#000000\" fill-rule=\"evenodd\" fill-opacity=\"1\" /><path clip-path=\"url(#clip970)\" d=\"M 0 0 M167.209 805.972 Q170.565 806.689 172.44 808.958 Q174.339 811.226 174.339 814.56 Q174.339 819.675 170.82 822.476 Q167.302 825.277 160.82 825.277 Q158.644 825.277 156.329 824.837 Q154.038 824.421 151.584 823.564 L151.584 819.05 Q153.529 820.185 155.843 820.763 Q158.158 821.342 160.681 821.342 Q165.079 821.342 167.371 819.606 Q169.686 817.87 169.686 814.56 Q169.686 811.504 167.533 809.791 Q165.403 808.055 161.584 808.055 L157.556 808.055 L157.556 804.213 L161.769 804.213 Q165.218 804.213 167.047 802.847 Q168.876 801.458 168.876 798.865 Q168.876 796.203 166.978 794.791 Q165.103 793.356 161.584 793.356 Q159.663 793.356 157.464 793.773 Q155.265 794.189 152.626 795.069 L152.626 790.902 Q155.288 790.162 157.603 789.791 Q159.941 789.421 162.001 789.421 Q167.325 789.421 170.427 791.852 Q173.528 794.259 173.528 798.379 Q173.528 801.25 171.885 803.24 Q170.241 805.208 167.209 805.972 Z\" fill=\"#000000\" fill-rule=\"evenodd\" fill-opacity=\"1\" /><path clip-path=\"url(#clip970)\" d=\"M 0 0 M189.408 793.125 Q185.797 793.125 183.968 796.689 Q182.163 800.231 182.163 807.361 Q182.163 814.467 183.968 818.032 Q185.797 821.574 189.408 821.574 Q193.042 821.574 194.848 818.032 Q196.676 814.467 196.676 807.361 Q196.676 800.231 194.848 796.689 Q193.042 793.125 189.408 793.125 M189.408 789.421 Q195.218 789.421 198.274 794.027 Q201.352 798.611 201.352 807.361 Q201.352 816.088 198.274 820.694 Q195.218 825.277 189.408 825.277 Q183.598 825.277 180.519 820.694 Q177.464 816.088 177.464 807.361 Q177.464 798.611 180.519 794.027 Q183.598 789.421 189.408 789.421 Z\" fill=\"#000000\" fill-rule=\"evenodd\" fill-opacity=\"1\" /><path clip-path=\"url(#clip970)\" d=\"M 0 0 M126.931 532.215 L134.57 532.215 L134.57 505.849 L126.26 507.516 L126.26 503.257 L134.524 501.59 L139.2 501.59 L139.2 532.215 L146.839 532.215 L146.839 536.15 L126.931 536.15 L126.931 532.215 Z\" fill=\"#000000\" fill-rule=\"evenodd\" fill-opacity=\"1\" /><path clip-path=\"url(#clip970)\" d=\"M 0 0 M164.755 505.664 L152.95 524.113 L164.755 524.113 L164.755 505.664 M163.528 501.59 L169.408 501.59 L169.408 524.113 L174.339 524.113 L174.339 528.002 L169.408 528.002 L169.408 536.15 L164.755 536.15 L164.755 528.002 L149.154 528.002 L149.154 523.488 L163.528 501.59 Z\" fill=\"#000000\" fill-rule=\"evenodd\" fill-opacity=\"1\" /><path clip-path=\"url(#clip970)\" d=\"M 0 0 M189.408 504.669 Q185.797 504.669 183.968 508.233 Q182.163 511.775 182.163 518.905 Q182.163 526.011 183.968 529.576 Q185.797 533.117 189.408 533.117 Q193.042 533.117 194.848 529.576 Q196.676 526.011 196.676 518.905 Q196.676 511.775 194.848 508.233 Q193.042 504.669 189.408 504.669 M189.408 500.965 Q195.218 500.965 198.274 505.571 Q201.352 510.155 201.352 518.905 Q201.352 527.631 198.274 532.238 Q195.218 536.821 189.408 536.821 Q183.598 536.821 180.519 532.238 Q177.464 527.631 177.464 518.905 Q177.464 510.155 180.519 505.571 Q183.598 500.965 189.408 500.965 Z\" fill=\"#000000\" fill-rule=\"evenodd\" fill-opacity=\"1\" /><path clip-path=\"url(#clip970)\" d=\"M 0 0 M128.413 243.759 L136.052 243.759 L136.052 217.393 L127.742 219.06 L127.742 214.8 L136.005 213.134 L140.681 213.134 L140.681 243.759 L148.32 243.759 L148.32 247.694 L128.413 247.694 L128.413 243.759 Z\" fill=\"#000000\" fill-rule=\"evenodd\" fill-opacity=\"1\" /><path clip-path=\"url(#clip970)\" d=\"M 0 0 M153.436 213.134 L171.792 213.134 L171.792 217.069 L157.718 217.069 L157.718 225.541 Q158.737 225.194 159.755 225.032 Q160.774 224.847 161.792 224.847 Q167.579 224.847 170.959 228.018 Q174.339 231.189 174.339 236.606 Q174.339 242.185 170.866 245.286 Q167.394 248.365 161.075 248.365 Q158.899 248.365 156.63 247.995 Q154.385 247.624 151.978 246.884 L151.978 242.185 Q154.061 243.319 156.283 243.874 Q158.505 244.43 160.982 244.43 Q164.987 244.43 167.325 242.323 Q169.663 240.217 169.663 236.606 Q169.663 232.995 167.325 230.888 Q164.987 228.782 160.982 228.782 Q159.107 228.782 157.232 229.198 Q155.38 229.615 153.436 230.495 L153.436 213.134 Z\" fill=\"#000000\" fill-rule=\"evenodd\" fill-opacity=\"1\" /><path clip-path=\"url(#clip970)\" d=\"M 0 0 M189.408 216.212 Q185.797 216.212 183.968 219.777 Q182.163 223.319 182.163 230.448 Q182.163 237.555 183.968 241.12 Q185.797 244.661 189.408 244.661 Q193.042 244.661 194.848 241.12 Q196.676 237.555 196.676 230.448 Q196.676 223.319 194.848 219.777 Q193.042 216.212 189.408 216.212 M189.408 212.509 Q195.218 212.509 198.274 217.115 Q201.352 221.699 201.352 230.448 Q201.352 239.175 198.274 243.782 Q195.218 248.365 189.408 248.365 Q183.598 248.365 180.519 243.782 Q177.464 239.175 177.464 230.448 Q177.464 221.699 180.519 217.115 Q183.598 212.509 189.408 212.509 Z\" fill=\"#000000\" fill-rule=\"evenodd\" fill-opacity=\"1\" /><path clip-path=\"url(#clip970)\" d=\"M 0 0 M981.123 1506.52 L986.979 1506.52 L986.979 1556.04 L981.123 1556.04 L981.123 1506.52 Z\" fill=\"#000000\" fill-rule=\"evenodd\" fill-opacity=\"1\" /><path clip-path=\"url(#clip970)\" d=\"M 0 0 M1023.61 1536.76 L1023.61 1539.62 L996.687 1539.62 Q997.069 1545.67 1000.32 1548.85 Q1003.59 1552 1009.42 1552 Q1012.79 1552 1015.94 1551.17 Q1019.13 1550.35 1022.25 1548.69 L1022.25 1554.23 Q1019.09 1555.57 1015.78 1556.27 Q1012.47 1556.97 1009.07 1556.97 Q1000.54 1556.97 995.541 1552 Q990.576 1547.04 990.576 1538.57 Q990.576 1529.82 995.286 1524.69 Q1000.03 1519.54 1008.05 1519.54 Q1015.24 1519.54 1019.41 1524.18 Q1023.61 1528.8 1023.61 1536.76 M1017.76 1535.04 Q1017.69 1530.23 1015.05 1527.37 Q1012.44 1524.5 1008.11 1524.5 Q1003.21 1524.5 1000.25 1527.27 Q997.323 1530.04 996.878 1535.07 L1017.76 1535.04 Z\" fill=\"#000000\" fill-rule=\"evenodd\" fill-opacity=\"1\" /><path clip-path=\"url(#clip970)\" d=\"M 0 0 M1045.96 1538.12 Q1038.86 1538.12 1036.12 1539.75 Q1033.39 1541.37 1033.39 1545.29 Q1033.39 1548.4 1035.42 1550.25 Q1037.49 1552.07 1041.02 1552.07 Q1045.89 1552.07 1048.82 1548.63 Q1051.78 1545.16 1051.78 1539.43 L1051.78 1538.12 L1045.96 1538.12 M1057.64 1535.71 L1057.64 1556.04 L1051.78 1556.04 L1051.78 1550.63 Q1049.78 1553.88 1046.78 1555.44 Q1043.79 1556.97 1039.46 1556.97 Q1033.99 1556.97 1030.74 1553.91 Q1027.53 1550.82 1027.53 1545.67 Q1027.53 1539.65 1031.54 1536.6 Q1035.58 1533.54 1043.57 1533.54 L1051.78 1533.54 L1051.78 1532.97 Q1051.78 1528.93 1049.11 1526.73 Q1046.47 1524.5 1041.66 1524.5 Q1038.6 1524.5 1035.71 1525.23 Q1032.81 1525.97 1030.14 1527.43 L1030.14 1522.02 Q1033.35 1520.78 1036.38 1520.17 Q1039.4 1519.54 1042.27 1519.54 Q1050 1519.54 1053.82 1523.55 Q1057.64 1527.56 1057.64 1535.71 Z\" fill=\"#000000\" fill-rule=\"evenodd\" fill-opacity=\"1\" /><path clip-path=\"url(#clip970)\" d=\"M 0 0 M1084.44 1525.87 Q1083.45 1525.3 1082.27 1525.04 Q1081.13 1524.76 1079.73 1524.76 Q1074.76 1524.76 1072.09 1528 Q1069.45 1531.22 1069.45 1537.27 L1069.45 1556.04 L1063.56 1556.04 L1063.56 1520.4 L1069.45 1520.4 L1069.45 1525.93 Q1071.29 1522.69 1074.25 1521.13 Q1077.21 1519.54 1081.45 1519.54 Q1082.05 1519.54 1082.78 1519.63 Q1083.51 1519.7 1084.41 1519.85 L1084.44 1525.87 Z\" fill=\"#000000\" fill-rule=\"evenodd\" fill-opacity=\"1\" /><path clip-path=\"url(#clip970)\" d=\"M 0 0 M1119.07 1534.53 L1119.07 1556.04 L1113.21 1556.04 L1113.21 1534.72 Q1113.21 1529.66 1111.24 1527.14 Q1109.26 1524.63 1105.32 1524.63 Q1100.58 1524.63 1097.84 1527.65 Q1095.1 1530.68 1095.1 1535.9 L1095.1 1556.04 L1089.21 1556.04 L1089.21 1520.4 L1095.1 1520.4 L1095.1 1525.93 Q1097.2 1522.72 1100.03 1521.13 Q1102.9 1519.54 1106.62 1519.54 Q1112.77 1519.54 1115.92 1523.36 Q1119.07 1527.14 1119.07 1534.53 Z\" fill=\"#000000\" fill-rule=\"evenodd\" fill-opacity=\"1\" /><path clip-path=\"url(#clip970)\" d=\"M 0 0 M1125.21 1520.4 L1131.07 1520.4 L1131.07 1556.04 L1125.21 1556.04 L1125.21 1520.4 M1125.21 1506.52 L1131.07 1506.52 L1131.07 1513.93 L1125.21 1513.93 L1125.21 1506.52 Z\" fill=\"#000000\" fill-rule=\"evenodd\" fill-opacity=\"1\" /><path clip-path=\"url(#clip970)\" d=\"M 0 0 M1166.84 1534.53 L1166.84 1556.04 L1160.99 1556.04 L1160.99 1534.72 Q1160.99 1529.66 1159.01 1527.14 Q1157.04 1524.63 1153.09 1524.63 Q1148.35 1524.63 1145.61 1527.65 Q1142.88 1530.68 1142.88 1535.9 L1142.88 1556.04 L1136.99 1556.04 L1136.99 1520.4 L1142.88 1520.4 L1142.88 1525.93 Q1144.98 1522.72 1147.81 1521.13 Q1150.67 1519.54 1154.4 1519.54 Q1160.54 1519.54 1163.69 1523.36 Q1166.84 1527.14 1166.84 1534.53 Z\" fill=\"#000000\" fill-rule=\"evenodd\" fill-opacity=\"1\" /><path clip-path=\"url(#clip970)\" d=\"M 0 0 M1196.44 1537.81 Q1196.44 1531.44 1193.8 1527.94 Q1191.19 1524.44 1186.45 1524.44 Q1181.74 1524.44 1179.1 1527.94 Q1176.49 1531.44 1176.49 1537.81 Q1176.49 1544.14 1179.1 1547.64 Q1181.74 1551.14 1186.45 1551.14 Q1191.19 1551.14 1193.8 1547.64 Q1196.44 1544.14 1196.44 1537.81 M1202.3 1551.62 Q1202.3 1560.72 1198.26 1565.15 Q1194.21 1569.6 1185.88 1569.6 Q1182.79 1569.6 1180.05 1569.13 Q1177.31 1568.68 1174.74 1567.72 L1174.74 1562.03 Q1177.31 1563.43 1179.83 1564.1 Q1182.34 1564.76 1184.95 1564.76 Q1190.71 1564.76 1193.58 1561.74 Q1196.44 1558.75 1196.44 1552.67 L1196.44 1549.77 Q1194.63 1552.92 1191.8 1554.48 Q1188.96 1556.04 1185.02 1556.04 Q1178.46 1556.04 1174.45 1551.05 Q1170.44 1546.05 1170.44 1537.81 Q1170.44 1529.53 1174.45 1524.53 Q1178.46 1519.54 1185.02 1519.54 Q1188.96 1519.54 1191.8 1521.1 Q1194.63 1522.66 1196.44 1525.81 L1196.44 1520.4 L1202.3 1520.4 L1202.3 1551.62 Z\" fill=\"#000000\" fill-rule=\"evenodd\" fill-opacity=\"1\" /><path clip-path=\"url(#clip970)\" d=\"M 0 0 M1235.53 1566.87 L1235.53 1571.42 L1201.66 1571.42 L1201.66 1566.87 L1235.53 1566.87 Z\" fill=\"#000000\" fill-rule=\"evenodd\" fill-opacity=\"1\" /><path clip-path=\"url(#clip970)\" d=\"M 0 0 M1262.33 1525.87 Q1261.34 1525.3 1260.16 1525.04 Q1259.02 1524.76 1257.62 1524.76 Q1252.65 1524.76 1249.98 1528 Q1247.34 1531.22 1247.34 1537.27 L1247.34 1556.04 L1241.45 1556.04 L1241.45 1520.4 L1247.34 1520.4 L1247.34 1525.93 Q1249.18 1522.69 1252.14 1521.13 Q1255.1 1519.54 1259.34 1519.54 Q1259.94 1519.54 1260.67 1519.63 Q1261.4 1519.7 1262.3 1519.85 L1262.33 1525.87 Z\" fill=\"#000000\" fill-rule=\"evenodd\" fill-opacity=\"1\" /><path clip-path=\"url(#clip970)\" d=\"M 0 0 M1284.67 1538.12 Q1277.57 1538.12 1274.84 1539.75 Q1272.1 1541.37 1272.1 1545.29 Q1272.1 1548.4 1274.14 1550.25 Q1276.2 1552.07 1279.74 1552.07 Q1284.61 1552.07 1287.54 1548.63 Q1290.5 1545.16 1290.5 1539.43 L1290.5 1538.12 L1284.67 1538.12 M1296.35 1535.71 L1296.35 1556.04 L1290.5 1556.04 L1290.5 1550.63 Q1288.49 1553.88 1285.5 1555.44 Q1282.51 1556.97 1278.18 1556.97 Q1272.7 1556.97 1269.46 1553.91 Q1266.24 1550.82 1266.24 1545.67 Q1266.24 1539.65 1270.25 1536.6 Q1274.3 1533.54 1282.28 1533.54 L1290.5 1533.54 L1290.5 1532.97 Q1290.5 1528.93 1287.82 1526.73 Q1285.18 1524.5 1280.37 1524.5 Q1277.32 1524.5 1274.42 1525.23 Q1271.53 1525.97 1268.85 1527.43 L1268.85 1522.02 Q1272.07 1520.78 1275.09 1520.17 Q1278.11 1519.54 1280.98 1519.54 Q1288.71 1519.54 1292.53 1523.55 Q1296.35 1527.56 1296.35 1535.71 Z\" fill=\"#000000\" fill-rule=\"evenodd\" fill-opacity=\"1\" /><path clip-path=\"url(#clip970)\" d=\"M 0 0 M1308.29 1510.27 L1308.29 1520.4 L1320.35 1520.4 L1320.35 1524.95 L1308.29 1524.95 L1308.29 1544.3 Q1308.29 1548.66 1309.47 1549.9 Q1310.68 1551.14 1314.34 1551.14 L1320.35 1551.14 L1320.35 1556.04 L1314.34 1556.04 Q1307.56 1556.04 1304.98 1553.53 Q1302.4 1550.98 1302.4 1544.3 L1302.4 1524.95 L1298.1 1524.95 L1298.1 1520.4 L1302.4 1520.4 L1302.4 1510.27 L1308.29 1510.27 Z\" fill=\"#000000\" fill-rule=\"evenodd\" fill-opacity=\"1\" /><path clip-path=\"url(#clip970)\" d=\"M 0 0 M1356.99 1536.76 L1356.99 1539.62 L1330.06 1539.62 Q1330.44 1545.67 1333.69 1548.85 Q1336.97 1552 1342.79 1552 Q1346.16 1552 1349.32 1551.17 Q1352.5 1550.35 1355.62 1548.69 L1355.62 1554.23 Q1352.47 1555.57 1349.16 1556.27 Q1345.85 1556.97 1342.44 1556.97 Q1333.91 1556.97 1328.91 1552 Q1323.95 1547.04 1323.95 1538.57 Q1323.95 1529.82 1328.66 1524.69 Q1333.4 1519.54 1341.42 1519.54 Q1348.61 1519.54 1352.78 1524.18 Q1356.99 1528.8 1356.99 1536.76 M1351.13 1535.04 Q1351.07 1530.23 1348.42 1527.37 Q1345.81 1524.5 1341.49 1524.5 Q1336.58 1524.5 1333.62 1527.27 Q1330.7 1530.04 1330.25 1535.07 L1351.13 1535.04 Z\" fill=\"#000000\" fill-rule=\"evenodd\" fill-opacity=\"1\" /><path clip-path=\"url(#clip970)\" d=\"M 0 0 M66.4881 893.543 L88.0042 893.543 L88.0042 899.399 L66.679 899.399 Q61.6183 899.399 59.1038 901.373 Q56.5894 903.346 56.5894 907.293 Q56.5894 912.035 59.6131 914.773 Q62.6368 917.51 67.8567 917.51 L88.0042 917.51 L88.0042 923.398 L52.3562 923.398 L52.3562 917.51 L57.8944 917.51 Q54.6797 915.409 53.0883 912.576 Q51.4968 909.712 51.4968 905.988 Q51.4968 899.845 55.3163 896.694 Q59.1038 893.543 66.4881 893.543 Z\" fill=\"#000000\" fill-rule=\"evenodd\" fill-opacity=\"1\" /><path clip-path=\"url(#clip970)\" d=\"M 0 0 M98.8259 860.314 L103.377 860.314 L103.377 894.18 L98.8259 894.18 L98.8259 860.314 Z\" fill=\"#000000\" fill-rule=\"evenodd\" fill-opacity=\"1\" /><path clip-path=\"url(#clip970)\" d=\"M 0 0 M68.7161 823.679 L71.5806 823.679 L71.5806 850.606 Q77.6281 850.224 80.8109 846.978 Q83.9619 843.7 83.9619 837.875 Q83.9619 834.501 83.1344 831.35 Q82.3069 828.167 80.6518 825.048 L86.1899 825.048 Q87.5267 828.199 88.227 831.509 Q88.9272 834.819 88.9272 838.225 Q88.9272 846.755 83.9619 851.752 Q78.9967 856.717 70.5303 856.717 Q61.7774 856.717 56.6531 852.007 Q51.4968 847.264 51.4968 839.244 Q51.4968 832.05 56.1438 827.881 Q60.7589 823.679 68.7161 823.679 M66.9973 829.536 Q62.1912 829.599 59.3266 832.241 Q56.4621 834.851 56.4621 839.18 Q56.4621 844.081 59.2312 847.042 Q62.0002 849.97 67.0292 850.415 L66.9973 829.536 Z\" fill=\"#000000\" fill-rule=\"evenodd\" fill-opacity=\"1\" /><path clip-path=\"url(#clip970)\" d=\"M 0 0 M53.4065 794.811 L58.9447 794.811 Q57.6716 797.294 57.035 799.967 Q56.3984 802.641 56.3984 805.505 Q56.3984 809.866 57.7352 812.062 Q59.072 814.226 61.7456 814.226 Q63.7826 814.226 64.9603 812.667 Q66.1061 811.107 67.1565 806.396 L67.6021 804.391 Q68.9389 798.153 71.3897 795.543 Q73.8086 792.901 78.1691 792.901 Q83.1344 792.901 86.0308 796.848 Q88.9272 800.763 88.9272 807.638 Q88.9272 810.502 88.3543 813.622 Q87.8132 816.709 86.6992 820.146 L80.6518 820.146 Q82.3387 816.9 83.198 813.749 Q84.0256 810.598 84.0256 807.51 Q84.0256 803.373 82.6251 801.145 Q81.1929 798.917 78.6147 798.917 Q76.2276 798.917 74.9545 800.54 Q73.6813 802.131 72.5037 807.574 L72.0262 809.611 Q70.8804 815.054 68.5251 817.473 Q66.138 819.892 62.0002 819.892 Q56.9713 819.892 54.2341 816.327 Q51.4968 812.762 51.4968 806.206 Q51.4968 802.959 51.9743 800.094 Q52.4517 797.23 53.4065 794.811 Z\" fill=\"#000000\" fill-rule=\"evenodd\" fill-opacity=\"1\" /><path clip-path=\"url(#clip970)\" d=\"M 0 0 M42.2347 780.965 L52.3562 780.965 L52.3562 768.902 L56.9077 768.902 L56.9077 780.965 L76.2594 780.965 Q80.6199 780.965 81.8613 779.788 Q83.1026 778.578 83.1026 774.918 L83.1026 768.902 L88.0042 768.902 L88.0042 774.918 Q88.0042 781.698 85.4897 784.276 Q82.9434 786.854 76.2594 786.854 L56.9077 786.854 L56.9077 791.151 L52.3562 791.151 L52.3562 786.854 L42.2347 786.854 L42.2347 780.965 Z\" fill=\"#000000\" fill-rule=\"evenodd\" fill-opacity=\"1\" /><path clip-path=\"url(#clip970)\" d=\"M 0 0 M52.3562 762.76 L52.3562 756.903 L88.0042 756.903 L88.0042 762.76 L52.3562 762.76 M38.479 762.76 L38.479 756.903 L45.895 756.903 L45.895 762.76 L38.479 762.76 Z\" fill=\"#000000\" fill-rule=\"evenodd\" fill-opacity=\"1\" /><path clip-path=\"url(#clip970)\" d=\"M 0 0 M59.1993 723.006 Q55.2526 720.81 53.3747 717.754 Q51.4968 714.698 51.4968 710.561 Q51.4968 704.991 55.4117 701.967 Q59.2948 698.943 66.4881 698.943 L88.0042 698.943 L88.0042 704.832 L66.679 704.832 Q61.5546 704.832 59.072 706.646 Q56.5894 708.46 56.5894 712.184 Q56.5894 716.736 59.6131 719.377 Q62.6368 722.019 67.8567 722.019 L88.0042 722.019 L88.0042 727.907 L66.679 727.907 Q61.5228 727.907 59.072 729.722 Q56.5894 731.536 56.5894 735.323 Q56.5894 739.811 59.6449 742.453 Q62.6686 745.095 67.8567 745.095 L88.0042 745.095 L88.0042 750.983 L52.3562 750.983 L52.3562 745.095 L57.8944 745.095 Q54.616 743.09 53.0564 740.289 Q51.4968 737.488 51.4968 733.636 Q51.4968 729.753 53.4702 727.048 Q55.4436 724.311 59.1993 723.006 Z\" fill=\"#000000\" fill-rule=\"evenodd\" fill-opacity=\"1\" /><path clip-path=\"url(#clip970)\" d=\"M 0 0 M70.0847 676.6 Q70.0847 683.697 71.7079 686.435 Q73.3312 689.172 77.2461 689.172 Q80.3653 689.172 82.2114 687.135 Q84.0256 685.066 84.0256 681.533 Q84.0256 676.663 80.5881 673.735 Q77.1188 670.775 71.3897 670.775 L70.0847 670.775 L70.0847 676.6 M67.6657 664.919 L88.0042 664.919 L88.0042 670.775 L82.5933 670.775 Q85.8398 672.78 87.3994 675.772 Q88.9272 678.764 88.9272 683.093 Q88.9272 688.567 85.8716 691.814 Q82.7843 695.028 77.6281 695.028 Q71.6125 695.028 68.5569 691.018 Q65.5014 686.976 65.5014 678.987 L65.5014 670.775 L64.9285 670.775 Q60.8862 670.775 58.6901 673.449 Q56.4621 676.09 56.4621 680.897 Q56.4621 683.952 57.1941 686.849 Q57.9262 689.745 59.3903 692.419 L53.9795 692.419 Q52.7381 689.204 52.1334 686.18 Q51.4968 683.156 51.4968 680.292 Q51.4968 672.558 55.5072 668.738 Q59.5176 664.919 67.6657 664.919 Z\" fill=\"#000000\" fill-rule=\"evenodd\" fill-opacity=\"1\" /><path clip-path=\"url(#clip970)\" d=\"M 0 0 M42.2347 652.983 L52.3562 652.983 L52.3562 640.92 L56.9077 640.92 L56.9077 652.983 L76.2594 652.983 Q80.6199 652.983 81.8613 651.805 Q83.1026 650.596 83.1026 646.936 L83.1026 640.92 L88.0042 640.92 L88.0042 646.936 Q88.0042 653.715 85.4897 656.293 Q82.9434 658.871 76.2594 658.871 L56.9077 658.871 L56.9077 663.168 L52.3562 663.168 L52.3562 658.871 L42.2347 658.871 L42.2347 652.983 Z\" fill=\"#000000\" fill-rule=\"evenodd\" fill-opacity=\"1\" /><path clip-path=\"url(#clip970)\" d=\"M 0 0 M56.4621 620.963 Q56.4621 625.674 60.1542 628.411 Q63.8145 631.149 70.212 631.149 Q76.6095 631.149 80.3017 628.443 Q83.9619 625.706 83.9619 620.963 Q83.9619 616.285 80.2698 613.547 Q76.5777 610.81 70.212 610.81 Q63.8781 610.81 60.186 613.547 Q56.4621 616.285 56.4621 620.963 M51.4968 620.963 Q51.4968 613.325 56.4621 608.964 Q61.4273 604.604 70.212 604.604 Q78.9649 604.604 83.9619 608.964 Q88.9272 613.325 88.9272 620.963 Q88.9272 628.634 83.9619 632.995 Q78.9649 637.323 70.212 637.323 Q61.4273 637.323 56.4621 632.995 Q51.4968 628.634 51.4968 620.963 Z\" fill=\"#000000\" fill-rule=\"evenodd\" fill-opacity=\"1\" /><path clip-path=\"url(#clip970)\" d=\"M 0 0 M57.8307 577.804 Q57.2578 578.791 57.0032 579.968 Q56.7167 581.114 56.7167 582.515 Q56.7167 587.48 59.9632 590.153 Q63.1779 592.795 69.2253 592.795 L88.0042 592.795 L88.0042 598.683 L52.3562 598.683 L52.3562 592.795 L57.8944 592.795 Q54.6479 590.949 53.0883 587.989 Q51.4968 585.029 51.4968 580.796 Q51.4968 580.191 51.5923 579.459 Q51.656 578.727 51.8151 577.836 L57.8307 577.804 Z\" fill=\"#000000\" fill-rule=\"evenodd\" fill-opacity=\"1\" /><path clip-path=\"url(#clip970)\" d=\"M 0 0 M53.4065 548.935 L58.9447 548.935 Q57.6716 551.418 57.035 554.092 Q56.3984 556.765 56.3984 559.63 Q56.3984 563.99 57.7352 566.187 Q59.072 568.351 61.7456 568.351 Q63.7826 568.351 64.9603 566.791 Q66.1061 565.232 67.1565 560.521 L67.6021 558.516 Q68.9389 552.277 71.3897 549.668 Q73.8086 547.026 78.1691 547.026 Q83.1344 547.026 86.0308 550.973 Q88.9272 554.887 88.9272 561.762 Q88.9272 564.627 88.3543 567.746 Q87.8132 570.834 86.6992 574.271 L80.6518 574.271 Q82.3387 571.024 83.198 567.873 Q84.0256 564.722 84.0256 561.635 Q84.0256 557.497 82.6251 555.269 Q81.1929 553.041 78.6147 553.041 Q76.2276 553.041 74.9545 554.665 Q73.6813 556.256 72.5037 561.699 L72.0262 563.736 Q70.8804 569.178 68.5251 571.597 Q66.138 574.016 62.0002 574.016 Q56.9713 574.016 54.2341 570.452 Q51.4968 566.887 51.4968 560.33 Q51.4968 557.084 51.9743 554.219 Q52.4517 551.354 53.4065 548.935 Z\" fill=\"#000000\" fill-rule=\"evenodd\" fill-opacity=\"1\" /><circle clip-path=\"url(#clip972)\" cx=\"1940.63\" cy=\"1124.63\" r=\"15\" fill=\"#410967\" fill-rule=\"evenodd\" fill-opacity=\"1\" stroke=\"#000000\" stroke-opacity=\"1\" stroke-width=\"3.2\"/>\n",
       "<circle clip-path=\"url(#clip972)\" cx=\"872.293\" cy=\"259.259\" r=\"27\" fill=\"#932567\" fill-rule=\"evenodd\" fill-opacity=\"1\" stroke=\"#000000\" stroke-opacity=\"1\" stroke-width=\"3.2\"/>\n",
       "<circle clip-path=\"url(#clip972)\" cx=\"1940.63\" cy=\"345.796\" r=\"23\" fill=\"#781c6d\" fill-rule=\"evenodd\" fill-opacity=\"1\" stroke=\"#000000\" stroke-opacity=\"1\" stroke-width=\"3.2\"/>\n",
       "<circle clip-path=\"url(#clip972)\" cx=\"634.883\" cy=\"345.796\" r=\"50\" fill=\"#fba40a\" fill-rule=\"evenodd\" fill-opacity=\"1\" stroke=\"#000000\" stroke-opacity=\"1\" stroke-width=\"3.2\"/>\n",
       "<circle clip-path=\"url(#clip972)\" cx=\"397.474\" cy=\"865.017\" r=\"11\" fill=\"#240b4e\" fill-rule=\"evenodd\" fill-opacity=\"1\" stroke=\"#000000\" stroke-opacity=\"1\" stroke-width=\"3.2\"/>\n",
       "<circle clip-path=\"url(#clip972)\" cx=\"872.293\" cy=\"86.1857\" r=\"19\" fill=\"#5d126e\" fill-rule=\"evenodd\" fill-opacity=\"1\" stroke=\"#000000\" stroke-opacity=\"1\" stroke-width=\"3.2\"/>\n",
       "<circle clip-path=\"url(#clip972)\" cx=\"753.588\" cy=\"345.796\" r=\"46\" fill=\"#f7850e\" fill-rule=\"evenodd\" fill-opacity=\"1\" stroke=\"#000000\" stroke-opacity=\"1\" stroke-width=\"3.2\"/>\n",
       "<circle clip-path=\"url(#clip972)\" cx=\"1465.82\" cy=\"1211.16\" r=\"23\" fill=\"#781c6d\" fill-rule=\"evenodd\" fill-opacity=\"1\" stroke=\"#000000\" stroke-opacity=\"1\" stroke-width=\"3.2\"/>\n",
       "<circle clip-path=\"url(#clip972)\" cx=\"1465.82\" cy=\"691.944\" r=\"19\" fill=\"#5d126e\" fill-rule=\"evenodd\" fill-opacity=\"1\" stroke=\"#000000\" stroke-opacity=\"1\" stroke-width=\"3.2\"/>\n",
       "<circle clip-path=\"url(#clip972)\" cx=\"1109.7\" cy=\"432.333\" r=\"38\" fill=\"#dc5039\" fill-rule=\"evenodd\" fill-opacity=\"1\" stroke=\"#000000\" stroke-opacity=\"1\" stroke-width=\"3.2\"/>\n",
       "<circle clip-path=\"url(#clip972)\" cx=\"2059.34\" cy=\"86.1857\" r=\"38\" fill=\"#dc5039\" fill-rule=\"evenodd\" fill-opacity=\"1\" stroke=\"#000000\" stroke-opacity=\"1\" stroke-width=\"3.2\"/>\n",
       "<circle clip-path=\"url(#clip972)\" cx=\"872.293\" cy=\"1384.24\" r=\"46\" fill=\"#f7850e\" fill-rule=\"evenodd\" fill-opacity=\"1\" stroke=\"#000000\" stroke-opacity=\"1\" stroke-width=\"3.2\"/>\n",
       "<circle clip-path=\"url(#clip972)\" cx=\"1465.82\" cy=\"951.554\" r=\"27\" fill=\"#932567\" fill-rule=\"evenodd\" fill-opacity=\"1\" stroke=\"#000000\" stroke-opacity=\"1\" stroke-width=\"3.2\"/>\n",
       "<circle clip-path=\"url(#clip972)\" cx=\"1940.63\" cy=\"691.944\" r=\"34\" fill=\"#c73e4c\" fill-rule=\"evenodd\" fill-opacity=\"1\" stroke=\"#000000\" stroke-opacity=\"1\" stroke-width=\"3.2\"/>\n",
       "<circle clip-path=\"url(#clip972)\" cx=\"1465.82\" cy=\"865.017\" r=\"27\" fill=\"#932567\" fill-rule=\"evenodd\" fill-opacity=\"1\" stroke=\"#000000\" stroke-opacity=\"1\" stroke-width=\"3.2\"/>\n",
       "<circle clip-path=\"url(#clip972)\" cx=\"1465.82\" cy=\"1297.7\" r=\"23\" fill=\"#781c6d\" fill-rule=\"evenodd\" fill-opacity=\"1\" stroke=\"#000000\" stroke-opacity=\"1\" stroke-width=\"3.2\"/>\n",
       "<circle clip-path=\"url(#clip972)\" cx=\"397.474\" cy=\"86.1857\" r=\"15\" fill=\"#410967\" fill-rule=\"evenodd\" fill-opacity=\"1\" stroke=\"#000000\" stroke-opacity=\"1\" stroke-width=\"3.2\"/>\n",
       "<circle clip-path=\"url(#clip972)\" cx=\"1940.63\" cy=\"86.1857\" r=\"31\" fill=\"#ae305b\" fill-rule=\"evenodd\" fill-opacity=\"1\" stroke=\"#000000\" stroke-opacity=\"1\" stroke-width=\"3.2\"/>\n",
       "<circle clip-path=\"url(#clip972)\" cx=\"1109.7\" cy=\"605.407\" r=\"11\" fill=\"#240b4e\" fill-rule=\"evenodd\" fill-opacity=\"1\" stroke=\"#000000\" stroke-opacity=\"1\" stroke-width=\"3.2\"/>\n",
       "<circle clip-path=\"url(#clip972)\" cx=\"278.769\" cy=\"345.796\" r=\"38\" fill=\"#dc5039\" fill-rule=\"evenodd\" fill-opacity=\"1\" stroke=\"#000000\" stroke-opacity=\"1\" stroke-width=\"3.2\"/>\n",
       "<circle clip-path=\"url(#clip972)\" cx=\"872.293\" cy=\"778.48\" r=\"27\" fill=\"#932567\" fill-rule=\"evenodd\" fill-opacity=\"1\" stroke=\"#000000\" stroke-opacity=\"1\" stroke-width=\"3.2\"/>\n",
       "<circle clip-path=\"url(#clip972)\" cx=\"1228.41\" cy=\"691.944\" r=\"15\" fill=\"#410967\" fill-rule=\"evenodd\" fill-opacity=\"1\" stroke=\"#000000\" stroke-opacity=\"1\" stroke-width=\"3.2\"/>\n",
       "<circle clip-path=\"url(#clip972)\" cx=\"1465.82\" cy=\"1124.63\" r=\"38\" fill=\"#dc5039\" fill-rule=\"evenodd\" fill-opacity=\"1\" stroke=\"#000000\" stroke-opacity=\"1\" stroke-width=\"3.2\"/>\n",
       "<circle clip-path=\"url(#clip972)\" cx=\"516.179\" cy=\"259.259\" r=\"38\" fill=\"#dc5039\" fill-rule=\"evenodd\" fill-opacity=\"1\" stroke=\"#000000\" stroke-opacity=\"1\" stroke-width=\"3.2\"/>\n",
       "<circle clip-path=\"url(#clip972)\" cx=\"2059.34\" cy=\"259.259\" r=\"31\" fill=\"#ae305b\" fill-rule=\"evenodd\" fill-opacity=\"1\" stroke=\"#000000\" stroke-opacity=\"1\" stroke-width=\"3.2\"/>\n",
       "<circle clip-path=\"url(#clip972)\" cx=\"1821.93\" cy=\"172.723\" r=\"19\" fill=\"#5d126e\" fill-rule=\"evenodd\" fill-opacity=\"1\" stroke=\"#000000\" stroke-opacity=\"1\" stroke-width=\"3.2\"/>\n",
       "<circle clip-path=\"url(#clip972)\" cx=\"1703.22\" cy=\"1297.7\" r=\"27\" fill=\"#932567\" fill-rule=\"evenodd\" fill-opacity=\"1\" stroke=\"#000000\" stroke-opacity=\"1\" stroke-width=\"3.2\"/>\n",
       "<circle clip-path=\"url(#clip972)\" cx=\"516.179\" cy=\"778.48\" r=\"61\" fill=\"#fcfea4\" fill-rule=\"evenodd\" fill-opacity=\"1\" stroke=\"#000000\" stroke-opacity=\"1\" stroke-width=\"3.2\"/>\n",
       "<circle clip-path=\"url(#clip972)\" cx=\"753.588\" cy=\"259.259\" r=\"46\" fill=\"#f7850e\" fill-rule=\"evenodd\" fill-opacity=\"1\" stroke=\"#000000\" stroke-opacity=\"1\" stroke-width=\"3.2\"/>\n",
       "<circle clip-path=\"url(#clip972)\" cx=\"990.997\" cy=\"605.407\" r=\"34\" fill=\"#c73e4c\" fill-rule=\"evenodd\" fill-opacity=\"1\" stroke=\"#000000\" stroke-opacity=\"1\" stroke-width=\"3.2\"/>\n",
       "<circle clip-path=\"url(#clip972)\" cx=\"1821.93\" cy=\"951.554\" r=\"23\" fill=\"#781c6d\" fill-rule=\"evenodd\" fill-opacity=\"1\" stroke=\"#000000\" stroke-opacity=\"1\" stroke-width=\"3.2\"/>\n",
       "<circle clip-path=\"url(#clip972)\" cx=\"1228.41\" cy=\"778.48\" r=\"19\" fill=\"#5d126e\" fill-rule=\"evenodd\" fill-opacity=\"1\" stroke=\"#000000\" stroke-opacity=\"1\" stroke-width=\"3.2\"/>\n",
       "<circle clip-path=\"url(#clip972)\" cx=\"397.474\" cy=\"172.723\" r=\"19\" fill=\"#5d126e\" fill-rule=\"evenodd\" fill-opacity=\"1\" stroke=\"#000000\" stroke-opacity=\"1\" stroke-width=\"3.2\"/>\n",
       "<circle clip-path=\"url(#clip972)\" cx=\"753.588\" cy=\"86.1857\" r=\"46\" fill=\"#f7850e\" fill-rule=\"evenodd\" fill-opacity=\"1\" stroke=\"#000000\" stroke-opacity=\"1\" stroke-width=\"3.2\"/>\n",
       "<circle clip-path=\"url(#clip972)\" cx=\"634.883\" cy=\"605.407\" r=\"57\" fill=\"#f2e660\" fill-rule=\"evenodd\" fill-opacity=\"1\" stroke=\"#000000\" stroke-opacity=\"1\" stroke-width=\"3.2\"/>\n",
       "<circle clip-path=\"url(#clip972)\" cx=\"1109.7\" cy=\"1297.7\" r=\"7\" fill=\"#0b0726\" fill-rule=\"evenodd\" fill-opacity=\"1\" stroke=\"#000000\" stroke-opacity=\"1\" stroke-width=\"3.2\"/>\n",
       "<circle clip-path=\"url(#clip972)\" cx=\"1228.41\" cy=\"1297.7\" r=\"27\" fill=\"#932567\" fill-rule=\"evenodd\" fill-opacity=\"1\" stroke=\"#000000\" stroke-opacity=\"1\" stroke-width=\"3.2\"/>\n",
       "<circle clip-path=\"url(#clip972)\" cx=\"1228.41\" cy=\"1211.16\" r=\"34\" fill=\"#c73e4c\" fill-rule=\"evenodd\" fill-opacity=\"1\" stroke=\"#000000\" stroke-opacity=\"1\" stroke-width=\"3.2\"/>\n",
       "<circle clip-path=\"url(#clip972)\" cx=\"1940.63\" cy=\"1297.7\" r=\"11\" fill=\"#240b4e\" fill-rule=\"evenodd\" fill-opacity=\"1\" stroke=\"#000000\" stroke-opacity=\"1\" stroke-width=\"3.2\"/>\n",
       "<circle clip-path=\"url(#clip972)\" cx=\"872.293\" cy=\"345.796\" r=\"23\" fill=\"#781c6d\" fill-rule=\"evenodd\" fill-opacity=\"1\" stroke=\"#000000\" stroke-opacity=\"1\" stroke-width=\"3.2\"/>\n",
       "<circle clip-path=\"url(#clip972)\" cx=\"1703.22\" cy=\"518.87\" r=\"23\" fill=\"#781c6d\" fill-rule=\"evenodd\" fill-opacity=\"1\" stroke=\"#000000\" stroke-opacity=\"1\" stroke-width=\"3.2\"/>\n",
       "<circle clip-path=\"url(#clip972)\" cx=\"516.179\" cy=\"345.796\" r=\"34\" fill=\"#c73e4c\" fill-rule=\"evenodd\" fill-opacity=\"1\" stroke=\"#000000\" stroke-opacity=\"1\" stroke-width=\"3.2\"/>\n",
       "<circle clip-path=\"url(#clip972)\" cx=\"1821.93\" cy=\"518.87\" r=\"38\" fill=\"#dc5039\" fill-rule=\"evenodd\" fill-opacity=\"1\" stroke=\"#000000\" stroke-opacity=\"1\" stroke-width=\"3.2\"/>\n",
       "<circle clip-path=\"url(#clip972)\" cx=\"1584.52\" cy=\"1384.24\" r=\"31\" fill=\"#ae305b\" fill-rule=\"evenodd\" fill-opacity=\"1\" stroke=\"#000000\" stroke-opacity=\"1\" stroke-width=\"3.2\"/>\n",
       "<circle clip-path=\"url(#clip972)\" cx=\"397.474\" cy=\"1384.24\" r=\"27\" fill=\"#932567\" fill-rule=\"evenodd\" fill-opacity=\"1\" stroke=\"#000000\" stroke-opacity=\"1\" stroke-width=\"3.2\"/>\n",
       "<circle clip-path=\"url(#clip972)\" cx=\"278.769\" cy=\"605.407\" r=\"19\" fill=\"#5d126e\" fill-rule=\"evenodd\" fill-opacity=\"1\" stroke=\"#000000\" stroke-opacity=\"1\" stroke-width=\"3.2\"/>\n",
       "<circle clip-path=\"url(#clip972)\" cx=\"2059.34\" cy=\"778.48\" r=\"57\" fill=\"#f2e660\" fill-rule=\"evenodd\" fill-opacity=\"1\" stroke=\"#000000\" stroke-opacity=\"1\" stroke-width=\"3.2\"/>\n",
       "<circle clip-path=\"url(#clip972)\" cx=\"516.179\" cy=\"691.944\" r=\"57\" fill=\"#f2e660\" fill-rule=\"evenodd\" fill-opacity=\"1\" stroke=\"#000000\" stroke-opacity=\"1\" stroke-width=\"3.2\"/>\n",
       "<circle clip-path=\"url(#clip972)\" cx=\"278.769\" cy=\"432.333\" r=\"34\" fill=\"#c73e4c\" fill-rule=\"evenodd\" fill-opacity=\"1\" stroke=\"#000000\" stroke-opacity=\"1\" stroke-width=\"3.2\"/>\n",
       "<circle clip-path=\"url(#clip972)\" cx=\"1703.22\" cy=\"259.259\" r=\"19\" fill=\"#5d126e\" fill-rule=\"evenodd\" fill-opacity=\"1\" stroke=\"#000000\" stroke-opacity=\"1\" stroke-width=\"3.2\"/>\n",
       "<circle clip-path=\"url(#clip972)\" cx=\"634.883\" cy=\"518.87\" r=\"53\" fill=\"#f9c52c\" fill-rule=\"evenodd\" fill-opacity=\"1\" stroke=\"#000000\" stroke-opacity=\"1\" stroke-width=\"3.2\"/>\n",
       "<circle clip-path=\"url(#clip972)\" cx=\"1821.93\" cy=\"86.1857\" r=\"11\" fill=\"#240b4e\" fill-rule=\"evenodd\" fill-opacity=\"1\" stroke=\"#000000\" stroke-opacity=\"1\" stroke-width=\"3.2\"/>\n",
       "<circle clip-path=\"url(#clip972)\" cx=\"634.883\" cy=\"172.723\" r=\"57\" fill=\"#f2e660\" fill-rule=\"evenodd\" fill-opacity=\"1\" stroke=\"#000000\" stroke-opacity=\"1\" stroke-width=\"3.2\"/>\n",
       "<circle clip-path=\"url(#clip972)\" cx=\"1347.11\" cy=\"518.87\" r=\"31\" fill=\"#ae305b\" fill-rule=\"evenodd\" fill-opacity=\"1\" stroke=\"#000000\" stroke-opacity=\"1\" stroke-width=\"3.2\"/>\n",
       "<circle clip-path=\"url(#clip972)\" cx=\"990.997\" cy=\"865.017\" r=\"31\" fill=\"#ae305b\" fill-rule=\"evenodd\" fill-opacity=\"1\" stroke=\"#000000\" stroke-opacity=\"1\" stroke-width=\"3.2\"/>\n",
       "<circle clip-path=\"url(#clip972)\" cx=\"1821.93\" cy=\"1384.24\" r=\"34\" fill=\"#c73e4c\" fill-rule=\"evenodd\" fill-opacity=\"1\" stroke=\"#000000\" stroke-opacity=\"1\" stroke-width=\"3.2\"/>\n",
       "<circle clip-path=\"url(#clip972)\" cx=\"516.179\" cy=\"1384.24\" r=\"57\" fill=\"#f2e660\" fill-rule=\"evenodd\" fill-opacity=\"1\" stroke=\"#000000\" stroke-opacity=\"1\" stroke-width=\"3.2\"/>\n",
       "<circle clip-path=\"url(#clip972)\" cx=\"1821.93\" cy=\"1211.16\" r=\"42\" fill=\"#ed6825\" fill-rule=\"evenodd\" fill-opacity=\"1\" stroke=\"#000000\" stroke-opacity=\"1\" stroke-width=\"3.2\"/>\n",
       "<circle clip-path=\"url(#clip972)\" cx=\"753.588\" cy=\"1297.7\" r=\"50\" fill=\"#fba40a\" fill-rule=\"evenodd\" fill-opacity=\"1\" stroke=\"#000000\" stroke-opacity=\"1\" stroke-width=\"3.2\"/>\n",
       "<circle clip-path=\"url(#clip972)\" cx=\"1109.7\" cy=\"1038.09\" r=\"7\" fill=\"#0b0726\" fill-rule=\"evenodd\" fill-opacity=\"1\" stroke=\"#000000\" stroke-opacity=\"1\" stroke-width=\"3.2\"/>\n",
       "<circle clip-path=\"url(#clip972)\" cx=\"397.474\" cy=\"432.333\" r=\"15\" fill=\"#410967\" fill-rule=\"evenodd\" fill-opacity=\"1\" stroke=\"#000000\" stroke-opacity=\"1\" stroke-width=\"3.2\"/>\n",
       "<circle clip-path=\"url(#clip972)\" cx=\"1109.7\" cy=\"951.554\" r=\"11\" fill=\"#240b4e\" fill-rule=\"evenodd\" fill-opacity=\"1\" stroke=\"#000000\" stroke-opacity=\"1\" stroke-width=\"3.2\"/>\n",
       "<circle clip-path=\"url(#clip972)\" cx=\"516.179\" cy=\"518.87\" r=\"50\" fill=\"#fba40a\" fill-rule=\"evenodd\" fill-opacity=\"1\" stroke=\"#000000\" stroke-opacity=\"1\" stroke-width=\"3.2\"/>\n",
       "<circle clip-path=\"url(#clip972)\" cx=\"1109.7\" cy=\"865.017\" r=\"15\" fill=\"#410967\" fill-rule=\"evenodd\" fill-opacity=\"1\" stroke=\"#000000\" stroke-opacity=\"1\" stroke-width=\"3.2\"/>\n",
       "<circle clip-path=\"url(#clip972)\" cx=\"1109.7\" cy=\"345.796\" r=\"31\" fill=\"#ae305b\" fill-rule=\"evenodd\" fill-opacity=\"1\" stroke=\"#000000\" stroke-opacity=\"1\" stroke-width=\"3.2\"/>\n",
       "<circle clip-path=\"url(#clip972)\" cx=\"516.179\" cy=\"1124.63\" r=\"53\" fill=\"#f9c52c\" fill-rule=\"evenodd\" fill-opacity=\"1\" stroke=\"#000000\" stroke-opacity=\"1\" stroke-width=\"3.2\"/>\n",
       "<circle clip-path=\"url(#clip972)\" cx=\"990.997\" cy=\"1124.63\" r=\"15\" fill=\"#410967\" fill-rule=\"evenodd\" fill-opacity=\"1\" stroke=\"#000000\" stroke-opacity=\"1\" stroke-width=\"3.2\"/>\n",
       "<circle clip-path=\"url(#clip972)\" cx=\"516.179\" cy=\"605.407\" r=\"42\" fill=\"#ed6825\" fill-rule=\"evenodd\" fill-opacity=\"1\" stroke=\"#000000\" stroke-opacity=\"1\" stroke-width=\"3.2\"/>\n",
       "<circle clip-path=\"url(#clip972)\" cx=\"872.293\" cy=\"951.554\" r=\"42\" fill=\"#ed6825\" fill-rule=\"evenodd\" fill-opacity=\"1\" stroke=\"#000000\" stroke-opacity=\"1\" stroke-width=\"3.2\"/>\n",
       "<circle clip-path=\"url(#clip972)\" cx=\"1703.22\" cy=\"951.554\" r=\"15\" fill=\"#410967\" fill-rule=\"evenodd\" fill-opacity=\"1\" stroke=\"#000000\" stroke-opacity=\"1\" stroke-width=\"3.2\"/>\n",
       "<circle clip-path=\"url(#clip972)\" cx=\"990.997\" cy=\"432.333\" r=\"31\" fill=\"#ae305b\" fill-rule=\"evenodd\" fill-opacity=\"1\" stroke=\"#000000\" stroke-opacity=\"1\" stroke-width=\"3.2\"/>\n",
       "<circle clip-path=\"url(#clip972)\" cx=\"1821.93\" cy=\"432.333\" r=\"31\" fill=\"#ae305b\" fill-rule=\"evenodd\" fill-opacity=\"1\" stroke=\"#000000\" stroke-opacity=\"1\" stroke-width=\"3.2\"/>\n",
       "<circle clip-path=\"url(#clip972)\" cx=\"1347.11\" cy=\"951.554\" r=\"42\" fill=\"#ed6825\" fill-rule=\"evenodd\" fill-opacity=\"1\" stroke=\"#000000\" stroke-opacity=\"1\" stroke-width=\"3.2\"/>\n",
       "<circle clip-path=\"url(#clip972)\" cx=\"1465.82\" cy=\"172.723\" r=\"11\" fill=\"#240b4e\" fill-rule=\"evenodd\" fill-opacity=\"1\" stroke=\"#000000\" stroke-opacity=\"1\" stroke-width=\"3.2\"/>\n",
       "<circle clip-path=\"url(#clip972)\" cx=\"1228.41\" cy=\"1384.24\" r=\"23\" fill=\"#781c6d\" fill-rule=\"evenodd\" fill-opacity=\"1\" stroke=\"#000000\" stroke-opacity=\"1\" stroke-width=\"3.2\"/>\n",
       "<circle clip-path=\"url(#clip972)\" cx=\"1347.11\" cy=\"1211.16\" r=\"34\" fill=\"#c73e4c\" fill-rule=\"evenodd\" fill-opacity=\"1\" stroke=\"#000000\" stroke-opacity=\"1\" stroke-width=\"3.2\"/>\n",
       "<circle clip-path=\"url(#clip972)\" cx=\"1228.41\" cy=\"605.407\" r=\"23\" fill=\"#781c6d\" fill-rule=\"evenodd\" fill-opacity=\"1\" stroke=\"#000000\" stroke-opacity=\"1\" stroke-width=\"3.2\"/>\n",
       "<circle clip-path=\"url(#clip972)\" cx=\"1940.63\" cy=\"259.259\" r=\"31\" fill=\"#ae305b\" fill-rule=\"evenodd\" fill-opacity=\"1\" stroke=\"#000000\" stroke-opacity=\"1\" stroke-width=\"3.2\"/>\n",
       "<circle clip-path=\"url(#clip972)\" cx=\"397.474\" cy=\"691.944\" r=\"11\" fill=\"#240b4e\" fill-rule=\"evenodd\" fill-opacity=\"1\" stroke=\"#000000\" stroke-opacity=\"1\" stroke-width=\"3.2\"/>\n",
       "<circle clip-path=\"url(#clip972)\" cx=\"2059.34\" cy=\"605.407\" r=\"38\" fill=\"#dc5039\" fill-rule=\"evenodd\" fill-opacity=\"1\" stroke=\"#000000\" stroke-opacity=\"1\" stroke-width=\"3.2\"/>\n",
       "<circle clip-path=\"url(#clip972)\" cx=\"634.883\" cy=\"691.944\" r=\"46\" fill=\"#f7850e\" fill-rule=\"evenodd\" fill-opacity=\"1\" stroke=\"#000000\" stroke-opacity=\"1\" stroke-width=\"3.2\"/>\n",
       "<circle clip-path=\"url(#clip972)\" cx=\"1228.41\" cy=\"172.723\" r=\"19\" fill=\"#5d126e\" fill-rule=\"evenodd\" fill-opacity=\"1\" stroke=\"#000000\" stroke-opacity=\"1\" stroke-width=\"3.2\"/>\n",
       "<circle clip-path=\"url(#clip972)\" cx=\"872.293\" cy=\"865.017\" r=\"38\" fill=\"#dc5039\" fill-rule=\"evenodd\" fill-opacity=\"1\" stroke=\"#000000\" stroke-opacity=\"1\" stroke-width=\"3.2\"/>\n",
       "<circle clip-path=\"url(#clip972)\" cx=\"1940.63\" cy=\"518.87\" r=\"27\" fill=\"#932567\" fill-rule=\"evenodd\" fill-opacity=\"1\" stroke=\"#000000\" stroke-opacity=\"1\" stroke-width=\"3.2\"/>\n",
       "<circle clip-path=\"url(#clip972)\" cx=\"753.588\" cy=\"172.723\" r=\"53\" fill=\"#f9c52c\" fill-rule=\"evenodd\" fill-opacity=\"1\" stroke=\"#000000\" stroke-opacity=\"1\" stroke-width=\"3.2\"/>\n",
       "<circle clip-path=\"url(#clip972)\" cx=\"2059.34\" cy=\"1038.09\" r=\"50\" fill=\"#fba40a\" fill-rule=\"evenodd\" fill-opacity=\"1\" stroke=\"#000000\" stroke-opacity=\"1\" stroke-width=\"3.2\"/>\n",
       "<circle clip-path=\"url(#clip972)\" cx=\"1465.82\" cy=\"259.259\" r=\"11\" fill=\"#240b4e\" fill-rule=\"evenodd\" fill-opacity=\"1\" stroke=\"#000000\" stroke-opacity=\"1\" stroke-width=\"3.2\"/>\n",
       "<circle clip-path=\"url(#clip972)\" cx=\"753.588\" cy=\"1384.24\" r=\"53\" fill=\"#f9c52c\" fill-rule=\"evenodd\" fill-opacity=\"1\" stroke=\"#000000\" stroke-opacity=\"1\" stroke-width=\"3.2\"/>\n",
       "<circle clip-path=\"url(#clip972)\" cx=\"1940.63\" cy=\"1211.16\" r=\"3\" fill=\"#000003\" fill-rule=\"evenodd\" fill-opacity=\"1\" stroke=\"#000000\" stroke-opacity=\"1\" stroke-width=\"3.2\"/>\n",
       "<circle clip-path=\"url(#clip972)\" cx=\"753.588\" cy=\"605.407\" r=\"42\" fill=\"#ed6825\" fill-rule=\"evenodd\" fill-opacity=\"1\" stroke=\"#000000\" stroke-opacity=\"1\" stroke-width=\"3.2\"/>\n",
       "<circle clip-path=\"url(#clip972)\" cx=\"1347.11\" cy=\"86.1857\" r=\"31\" fill=\"#ae305b\" fill-rule=\"evenodd\" fill-opacity=\"1\" stroke=\"#000000\" stroke-opacity=\"1\" stroke-width=\"3.2\"/>\n",
       "<circle clip-path=\"url(#clip972)\" cx=\"397.474\" cy=\"951.554\" r=\"19\" fill=\"#5d126e\" fill-rule=\"evenodd\" fill-opacity=\"1\" stroke=\"#000000\" stroke-opacity=\"1\" stroke-width=\"3.2\"/>\n",
       "<circle clip-path=\"url(#clip972)\" cx=\"1940.63\" cy=\"778.48\" r=\"19\" fill=\"#5d126e\" fill-rule=\"evenodd\" fill-opacity=\"1\" stroke=\"#000000\" stroke-opacity=\"1\" stroke-width=\"3.2\"/>\n",
       "<circle clip-path=\"url(#clip972)\" cx=\"278.769\" cy=\"259.259\" r=\"38\" fill=\"#dc5039\" fill-rule=\"evenodd\" fill-opacity=\"1\" stroke=\"#000000\" stroke-opacity=\"1\" stroke-width=\"3.2\"/>\n",
       "<circle clip-path=\"url(#clip972)\" cx=\"1465.82\" cy=\"86.1857\" r=\"27\" fill=\"#932567\" fill-rule=\"evenodd\" fill-opacity=\"1\" stroke=\"#000000\" stroke-opacity=\"1\" stroke-width=\"3.2\"/>\n",
       "<circle clip-path=\"url(#clip972)\" cx=\"1703.22\" cy=\"86.1857\" r=\"34\" fill=\"#c73e4c\" fill-rule=\"evenodd\" fill-opacity=\"1\" stroke=\"#000000\" stroke-opacity=\"1\" stroke-width=\"3.2\"/>\n",
       "<circle clip-path=\"url(#clip972)\" cx=\"634.883\" cy=\"259.259\" r=\"61\" fill=\"#fcfea4\" fill-rule=\"evenodd\" fill-opacity=\"1\" stroke=\"#000000\" stroke-opacity=\"1\" stroke-width=\"3.2\"/>\n",
       "<circle clip-path=\"url(#clip972)\" cx=\"990.997\" cy=\"1211.16\" r=\"19\" fill=\"#5d126e\" fill-rule=\"evenodd\" fill-opacity=\"1\" stroke=\"#000000\" stroke-opacity=\"1\" stroke-width=\"3.2\"/>\n",
       "<circle clip-path=\"url(#clip972)\" cx=\"1228.41\" cy=\"259.259\" r=\"27\" fill=\"#932567\" fill-rule=\"evenodd\" fill-opacity=\"1\" stroke=\"#000000\" stroke-opacity=\"1\" stroke-width=\"3.2\"/>\n",
       "<circle clip-path=\"url(#clip972)\" cx=\"397.474\" cy=\"1211.16\" r=\"23\" fill=\"#781c6d\" fill-rule=\"evenodd\" fill-opacity=\"1\" stroke=\"#000000\" stroke-opacity=\"1\" stroke-width=\"3.2\"/>\n",
       "<circle clip-path=\"url(#clip972)\" cx=\"1228.41\" cy=\"345.796\" r=\"19\" fill=\"#5d126e\" fill-rule=\"evenodd\" fill-opacity=\"1\" stroke=\"#000000\" stroke-opacity=\"1\" stroke-width=\"3.2\"/>\n",
       "<circle clip-path=\"url(#clip972)\" cx=\"1347.11\" cy=\"172.723\" r=\"31\" fill=\"#ae305b\" fill-rule=\"evenodd\" fill-opacity=\"1\" stroke=\"#000000\" stroke-opacity=\"1\" stroke-width=\"3.2\"/>\n",
       "<circle clip-path=\"url(#clip972)\" cx=\"1228.41\" cy=\"951.554\" r=\"31\" fill=\"#ae305b\" fill-rule=\"evenodd\" fill-opacity=\"1\" stroke=\"#000000\" stroke-opacity=\"1\" stroke-width=\"3.2\"/>\n",
       "<circle clip-path=\"url(#clip972)\" cx=\"1821.93\" cy=\"605.407\" r=\"42\" fill=\"#ed6825\" fill-rule=\"evenodd\" fill-opacity=\"1\" stroke=\"#000000\" stroke-opacity=\"1\" stroke-width=\"3.2\"/>\n",
       "<circle clip-path=\"url(#clip972)\" cx=\"1465.82\" cy=\"1038.09\" r=\"27\" fill=\"#932567\" fill-rule=\"evenodd\" fill-opacity=\"1\" stroke=\"#000000\" stroke-opacity=\"1\" stroke-width=\"3.2\"/>\n",
       "<circle clip-path=\"url(#clip972)\" cx=\"753.588\" cy=\"518.87\" r=\"42\" fill=\"#ed6825\" fill-rule=\"evenodd\" fill-opacity=\"1\" stroke=\"#000000\" stroke-opacity=\"1\" stroke-width=\"3.2\"/>\n",
       "<circle clip-path=\"url(#clip972)\" cx=\"397.474\" cy=\"1124.63\" r=\"27\" fill=\"#932567\" fill-rule=\"evenodd\" fill-opacity=\"1\" stroke=\"#000000\" stroke-opacity=\"1\" stroke-width=\"3.2\"/>\n",
       "<circle clip-path=\"url(#clip972)\" cx=\"634.883\" cy=\"1384.24\" r=\"61\" fill=\"#fcfea4\" fill-rule=\"evenodd\" fill-opacity=\"1\" stroke=\"#000000\" stroke-opacity=\"1\" stroke-width=\"3.2\"/>\n",
       "<circle clip-path=\"url(#clip972)\" cx=\"1584.52\" cy=\"172.723\" r=\"11\" fill=\"#240b4e\" fill-rule=\"evenodd\" fill-opacity=\"1\" stroke=\"#000000\" stroke-opacity=\"1\" stroke-width=\"3.2\"/>\n",
       "<circle clip-path=\"url(#clip972)\" cx=\"1940.63\" cy=\"1384.24\" r=\"7\" fill=\"#0b0726\" fill-rule=\"evenodd\" fill-opacity=\"1\" stroke=\"#000000\" stroke-opacity=\"1\" stroke-width=\"3.2\"/>\n",
       "<circle clip-path=\"url(#clip972)\" cx=\"278.769\" cy=\"1038.09\" r=\"15\" fill=\"#410967\" fill-rule=\"evenodd\" fill-opacity=\"1\" stroke=\"#000000\" stroke-opacity=\"1\" stroke-width=\"3.2\"/>\n",
       "<circle clip-path=\"url(#clip972)\" cx=\"1940.63\" cy=\"172.723\" r=\"27\" fill=\"#932567\" fill-rule=\"evenodd\" fill-opacity=\"1\" stroke=\"#000000\" stroke-opacity=\"1\" stroke-width=\"3.2\"/>\n",
       "<circle clip-path=\"url(#clip972)\" cx=\"397.474\" cy=\"1038.09\" r=\"15\" fill=\"#410967\" fill-rule=\"evenodd\" fill-opacity=\"1\" stroke=\"#000000\" stroke-opacity=\"1\" stroke-width=\"3.2\"/>\n",
       "<circle clip-path=\"url(#clip972)\" cx=\"990.997\" cy=\"1297.7\" r=\"27\" fill=\"#932567\" fill-rule=\"evenodd\" fill-opacity=\"1\" stroke=\"#000000\" stroke-opacity=\"1\" stroke-width=\"3.2\"/>\n",
       "<circle clip-path=\"url(#clip972)\" cx=\"2059.34\" cy=\"691.944\" r=\"46\" fill=\"#f7850e\" fill-rule=\"evenodd\" fill-opacity=\"1\" stroke=\"#000000\" stroke-opacity=\"1\" stroke-width=\"3.2\"/>\n",
       "<circle clip-path=\"url(#clip972)\" cx=\"634.883\" cy=\"1124.63\" r=\"57\" fill=\"#f2e660\" fill-rule=\"evenodd\" fill-opacity=\"1\" stroke=\"#000000\" stroke-opacity=\"1\" stroke-width=\"3.2\"/>\n",
       "<circle clip-path=\"url(#clip972)\" cx=\"1940.63\" cy=\"605.407\" r=\"34\" fill=\"#c73e4c\" fill-rule=\"evenodd\" fill-opacity=\"1\" stroke=\"#000000\" stroke-opacity=\"1\" stroke-width=\"3.2\"/>\n",
       "<circle clip-path=\"url(#clip972)\" cx=\"753.588\" cy=\"951.554\" r=\"53\" fill=\"#f9c52c\" fill-rule=\"evenodd\" fill-opacity=\"1\" stroke=\"#000000\" stroke-opacity=\"1\" stroke-width=\"3.2\"/>\n",
       "<circle clip-path=\"url(#clip972)\" cx=\"278.769\" cy=\"778.48\" r=\"15\" fill=\"#410967\" fill-rule=\"evenodd\" fill-opacity=\"1\" stroke=\"#000000\" stroke-opacity=\"1\" stroke-width=\"3.2\"/>\n",
       "<circle clip-path=\"url(#clip972)\" cx=\"1821.93\" cy=\"691.944\" r=\"27\" fill=\"#932567\" fill-rule=\"evenodd\" fill-opacity=\"1\" stroke=\"#000000\" stroke-opacity=\"1\" stroke-width=\"3.2\"/>\n",
       "<circle clip-path=\"url(#clip972)\" cx=\"1703.22\" cy=\"1384.24\" r=\"34\" fill=\"#c73e4c\" fill-rule=\"evenodd\" fill-opacity=\"1\" stroke=\"#000000\" stroke-opacity=\"1\" stroke-width=\"3.2\"/>\n",
       "<circle clip-path=\"url(#clip972)\" cx=\"753.588\" cy=\"778.48\" r=\"50\" fill=\"#fba40a\" fill-rule=\"evenodd\" fill-opacity=\"1\" stroke=\"#000000\" stroke-opacity=\"1\" stroke-width=\"3.2\"/>\n",
       "<circle clip-path=\"url(#clip972)\" cx=\"516.179\" cy=\"951.554\" r=\"53\" fill=\"#f9c52c\" fill-rule=\"evenodd\" fill-opacity=\"1\" stroke=\"#000000\" stroke-opacity=\"1\" stroke-width=\"3.2\"/>\n",
       "<circle clip-path=\"url(#clip972)\" cx=\"1940.63\" cy=\"865.017\" r=\"19\" fill=\"#5d126e\" fill-rule=\"evenodd\" fill-opacity=\"1\" stroke=\"#000000\" stroke-opacity=\"1\" stroke-width=\"3.2\"/>\n",
       "<circle clip-path=\"url(#clip972)\" cx=\"278.769\" cy=\"1297.7\" r=\"27\" fill=\"#932567\" fill-rule=\"evenodd\" fill-opacity=\"1\" stroke=\"#000000\" stroke-opacity=\"1\" stroke-width=\"3.2\"/>\n",
       "<circle clip-path=\"url(#clip972)\" cx=\"1584.52\" cy=\"86.1857\" r=\"7\" fill=\"#0b0726\" fill-rule=\"evenodd\" fill-opacity=\"1\" stroke=\"#000000\" stroke-opacity=\"1\" stroke-width=\"3.2\"/>\n",
       "<circle clip-path=\"url(#clip972)\" cx=\"753.588\" cy=\"1211.16\" r=\"42\" fill=\"#ed6825\" fill-rule=\"evenodd\" fill-opacity=\"1\" stroke=\"#000000\" stroke-opacity=\"1\" stroke-width=\"3.2\"/>\n",
       "<circle clip-path=\"url(#clip972)\" cx=\"1703.22\" cy=\"1038.09\" r=\"11\" fill=\"#240b4e\" fill-rule=\"evenodd\" fill-opacity=\"1\" stroke=\"#000000\" stroke-opacity=\"1\" stroke-width=\"3.2\"/>\n",
       "<circle clip-path=\"url(#clip972)\" cx=\"1584.52\" cy=\"605.407\" r=\"19\" fill=\"#5d126e\" fill-rule=\"evenodd\" fill-opacity=\"1\" stroke=\"#000000\" stroke-opacity=\"1\" stroke-width=\"3.2\"/>\n",
       "<circle clip-path=\"url(#clip972)\" cx=\"1821.93\" cy=\"865.017\" r=\"31\" fill=\"#ae305b\" fill-rule=\"evenodd\" fill-opacity=\"1\" stroke=\"#000000\" stroke-opacity=\"1\" stroke-width=\"3.2\"/>\n",
       "<circle clip-path=\"url(#clip972)\" cx=\"1821.93\" cy=\"1297.7\" r=\"42\" fill=\"#ed6825\" fill-rule=\"evenodd\" fill-opacity=\"1\" stroke=\"#000000\" stroke-opacity=\"1\" stroke-width=\"3.2\"/>\n",
       "<circle clip-path=\"url(#clip972)\" cx=\"278.769\" cy=\"951.554\" r=\"15\" fill=\"#410967\" fill-rule=\"evenodd\" fill-opacity=\"1\" stroke=\"#000000\" stroke-opacity=\"1\" stroke-width=\"3.2\"/>\n",
       "<circle clip-path=\"url(#clip972)\" cx=\"1584.52\" cy=\"1211.16\" r=\"23\" fill=\"#781c6d\" fill-rule=\"evenodd\" fill-opacity=\"1\" stroke=\"#000000\" stroke-opacity=\"1\" stroke-width=\"3.2\"/>\n",
       "<circle clip-path=\"url(#clip972)\" cx=\"872.293\" cy=\"1211.16\" r=\"34\" fill=\"#c73e4c\" fill-rule=\"evenodd\" fill-opacity=\"1\" stroke=\"#000000\" stroke-opacity=\"1\" stroke-width=\"3.2\"/>\n",
       "<circle clip-path=\"url(#clip972)\" cx=\"2059.34\" cy=\"172.723\" r=\"38\" fill=\"#dc5039\" fill-rule=\"evenodd\" fill-opacity=\"1\" stroke=\"#000000\" stroke-opacity=\"1\" stroke-width=\"3.2\"/>\n",
       "<circle clip-path=\"url(#clip972)\" cx=\"1228.41\" cy=\"1124.63\" r=\"34\" fill=\"#c73e4c\" fill-rule=\"evenodd\" fill-opacity=\"1\" stroke=\"#000000\" stroke-opacity=\"1\" stroke-width=\"3.2\"/>\n",
       "<circle clip-path=\"url(#clip972)\" cx=\"872.293\" cy=\"1038.09\" r=\"42\" fill=\"#ed6825\" fill-rule=\"evenodd\" fill-opacity=\"1\" stroke=\"#000000\" stroke-opacity=\"1\" stroke-width=\"3.2\"/>\n",
       "<circle clip-path=\"url(#clip972)\" cx=\"1347.11\" cy=\"345.796\" r=\"23\" fill=\"#781c6d\" fill-rule=\"evenodd\" fill-opacity=\"1\" stroke=\"#000000\" stroke-opacity=\"1\" stroke-width=\"3.2\"/>\n",
       "<circle clip-path=\"url(#clip972)\" cx=\"634.883\" cy=\"778.48\" r=\"38\" fill=\"#dc5039\" fill-rule=\"evenodd\" fill-opacity=\"1\" stroke=\"#000000\" stroke-opacity=\"1\" stroke-width=\"3.2\"/>\n",
       "<circle clip-path=\"url(#clip972)\" cx=\"1347.11\" cy=\"1038.09\" r=\"42\" fill=\"#ed6825\" fill-rule=\"evenodd\" fill-opacity=\"1\" stroke=\"#000000\" stroke-opacity=\"1\" stroke-width=\"3.2\"/>\n",
       "<circle clip-path=\"url(#clip972)\" cx=\"1109.7\" cy=\"1124.63\" r=\"11\" fill=\"#240b4e\" fill-rule=\"evenodd\" fill-opacity=\"1\" stroke=\"#000000\" stroke-opacity=\"1\" stroke-width=\"3.2\"/>\n",
       "<circle clip-path=\"url(#clip972)\" cx=\"278.769\" cy=\"1211.16\" r=\"27\" fill=\"#932567\" fill-rule=\"evenodd\" fill-opacity=\"1\" stroke=\"#000000\" stroke-opacity=\"1\" stroke-width=\"3.2\"/>\n",
       "<circle clip-path=\"url(#clip972)\" cx=\"397.474\" cy=\"518.87\" r=\"7\" fill=\"#0b0726\" fill-rule=\"evenodd\" fill-opacity=\"1\" stroke=\"#000000\" stroke-opacity=\"1\" stroke-width=\"3.2\"/>\n",
       "<circle clip-path=\"url(#clip972)\" cx=\"2059.34\" cy=\"1211.16\" r=\"46\" fill=\"#f7850e\" fill-rule=\"evenodd\" fill-opacity=\"1\" stroke=\"#000000\" stroke-opacity=\"1\" stroke-width=\"3.2\"/>\n",
       "<circle clip-path=\"url(#clip972)\" cx=\"872.293\" cy=\"432.333\" r=\"42\" fill=\"#ed6825\" fill-rule=\"evenodd\" fill-opacity=\"1\" stroke=\"#000000\" stroke-opacity=\"1\" stroke-width=\"3.2\"/>\n",
       "<circle clip-path=\"url(#clip972)\" cx=\"1703.22\" cy=\"778.48\" r=\"11\" fill=\"#240b4e\" fill-rule=\"evenodd\" fill-opacity=\"1\" stroke=\"#000000\" stroke-opacity=\"1\" stroke-width=\"3.2\"/>\n",
       "<circle clip-path=\"url(#clip972)\" cx=\"397.474\" cy=\"259.259\" r=\"31\" fill=\"#ae305b\" fill-rule=\"evenodd\" fill-opacity=\"1\" stroke=\"#000000\" stroke-opacity=\"1\" stroke-width=\"3.2\"/>\n",
       "<circle clip-path=\"url(#clip972)\" cx=\"1703.22\" cy=\"172.723\" r=\"19\" fill=\"#5d126e\" fill-rule=\"evenodd\" fill-opacity=\"1\" stroke=\"#000000\" stroke-opacity=\"1\" stroke-width=\"3.2\"/>\n",
       "<circle clip-path=\"url(#clip972)\" cx=\"1821.93\" cy=\"1124.63\" r=\"34\" fill=\"#c73e4c\" fill-rule=\"evenodd\" fill-opacity=\"1\" stroke=\"#000000\" stroke-opacity=\"1\" stroke-width=\"3.2\"/>\n",
       "<circle clip-path=\"url(#clip972)\" cx=\"872.293\" cy=\"605.407\" r=\"31\" fill=\"#ae305b\" fill-rule=\"evenodd\" fill-opacity=\"1\" stroke=\"#000000\" stroke-opacity=\"1\" stroke-width=\"3.2\"/>\n",
       "<circle clip-path=\"url(#clip972)\" cx=\"1584.52\" cy=\"778.48\" r=\"11\" fill=\"#240b4e\" fill-rule=\"evenodd\" fill-opacity=\"1\" stroke=\"#000000\" stroke-opacity=\"1\" stroke-width=\"3.2\"/>\n",
       "<circle clip-path=\"url(#clip972)\" cx=\"1584.52\" cy=\"1124.63\" r=\"11\" fill=\"#240b4e\" fill-rule=\"evenodd\" fill-opacity=\"1\" stroke=\"#000000\" stroke-opacity=\"1\" stroke-width=\"3.2\"/>\n",
       "<circle clip-path=\"url(#clip972)\" cx=\"2059.34\" cy=\"432.333\" r=\"53\" fill=\"#f9c52c\" fill-rule=\"evenodd\" fill-opacity=\"1\" stroke=\"#000000\" stroke-opacity=\"1\" stroke-width=\"3.2\"/>\n",
       "<circle clip-path=\"url(#clip972)\" cx=\"1703.22\" cy=\"1211.16\" r=\"19\" fill=\"#5d126e\" fill-rule=\"evenodd\" fill-opacity=\"1\" stroke=\"#000000\" stroke-opacity=\"1\" stroke-width=\"3.2\"/>\n",
       "<circle clip-path=\"url(#clip972)\" cx=\"990.997\" cy=\"951.554\" r=\"23\" fill=\"#781c6d\" fill-rule=\"evenodd\" fill-opacity=\"1\" stroke=\"#000000\" stroke-opacity=\"1\" stroke-width=\"3.2\"/>\n",
       "<circle clip-path=\"url(#clip972)\" cx=\"1228.41\" cy=\"432.333\" r=\"19\" fill=\"#5d126e\" fill-rule=\"evenodd\" fill-opacity=\"1\" stroke=\"#000000\" stroke-opacity=\"1\" stroke-width=\"3.2\"/>\n",
       "<circle clip-path=\"url(#clip972)\" cx=\"1703.22\" cy=\"345.796\" r=\"3\" fill=\"#000003\" fill-rule=\"evenodd\" fill-opacity=\"1\" stroke=\"#000000\" stroke-opacity=\"1\" stroke-width=\"3.2\"/>\n",
       "<circle clip-path=\"url(#clip972)\" cx=\"1821.93\" cy=\"345.796\" r=\"19\" fill=\"#5d126e\" fill-rule=\"evenodd\" fill-opacity=\"1\" stroke=\"#000000\" stroke-opacity=\"1\" stroke-width=\"3.2\"/>\n",
       "<circle clip-path=\"url(#clip972)\" cx=\"397.474\" cy=\"778.48\" r=\"23\" fill=\"#781c6d\" fill-rule=\"evenodd\" fill-opacity=\"1\" stroke=\"#000000\" stroke-opacity=\"1\" stroke-width=\"3.2\"/>\n",
       "<circle clip-path=\"url(#clip972)\" cx=\"1109.7\" cy=\"259.259\" r=\"31\" fill=\"#ae305b\" fill-rule=\"evenodd\" fill-opacity=\"1\" stroke=\"#000000\" stroke-opacity=\"1\" stroke-width=\"3.2\"/>\n",
       "<circle clip-path=\"url(#clip972)\" cx=\"1465.82\" cy=\"605.407\" r=\"23\" fill=\"#781c6d\" fill-rule=\"evenodd\" fill-opacity=\"1\" stroke=\"#000000\" stroke-opacity=\"1\" stroke-width=\"3.2\"/>\n",
       "<circle clip-path=\"url(#clip972)\" cx=\"278.769\" cy=\"865.017\" r=\"31\" fill=\"#ae305b\" fill-rule=\"evenodd\" fill-opacity=\"1\" stroke=\"#000000\" stroke-opacity=\"1\" stroke-width=\"3.2\"/>\n",
       "<circle clip-path=\"url(#clip972)\" cx=\"1821.93\" cy=\"1038.09\" r=\"27\" fill=\"#932567\" fill-rule=\"evenodd\" fill-opacity=\"1\" stroke=\"#000000\" stroke-opacity=\"1\" stroke-width=\"3.2\"/>\n",
       "<circle clip-path=\"url(#clip972)\" cx=\"1703.22\" cy=\"865.017\" r=\"15\" fill=\"#410967\" fill-rule=\"evenodd\" fill-opacity=\"1\" stroke=\"#000000\" stroke-opacity=\"1\" stroke-width=\"3.2\"/>\n",
       "<circle clip-path=\"url(#clip972)\" cx=\"2059.34\" cy=\"951.554\" r=\"53\" fill=\"#f9c52c\" fill-rule=\"evenodd\" fill-opacity=\"1\" stroke=\"#000000\" stroke-opacity=\"1\" stroke-width=\"3.2\"/>\n",
       "<circle clip-path=\"url(#clip972)\" cx=\"990.997\" cy=\"1038.09\" r=\"19\" fill=\"#5d126e\" fill-rule=\"evenodd\" fill-opacity=\"1\" stroke=\"#000000\" stroke-opacity=\"1\" stroke-width=\"3.2\"/>\n",
       "<circle clip-path=\"url(#clip972)\" cx=\"1109.7\" cy=\"518.87\" r=\"34\" fill=\"#c73e4c\" fill-rule=\"evenodd\" fill-opacity=\"1\" stroke=\"#000000\" stroke-opacity=\"1\" stroke-width=\"3.2\"/>\n",
       "<circle clip-path=\"url(#clip972)\" cx=\"1703.22\" cy=\"432.333\" r=\"15\" fill=\"#410967\" fill-rule=\"evenodd\" fill-opacity=\"1\" stroke=\"#000000\" stroke-opacity=\"1\" stroke-width=\"3.2\"/>\n",
       "<circle clip-path=\"url(#clip972)\" cx=\"2059.34\" cy=\"865.017\" r=\"42\" fill=\"#ed6825\" fill-rule=\"evenodd\" fill-opacity=\"1\" stroke=\"#000000\" stroke-opacity=\"1\" stroke-width=\"3.2\"/>\n",
       "<circle clip-path=\"url(#clip972)\" cx=\"2059.34\" cy=\"345.796\" r=\"38\" fill=\"#dc5039\" fill-rule=\"evenodd\" fill-opacity=\"1\" stroke=\"#000000\" stroke-opacity=\"1\" stroke-width=\"3.2\"/>\n",
       "<circle clip-path=\"url(#clip972)\" cx=\"1347.11\" cy=\"605.407\" r=\"46\" fill=\"#f7850e\" fill-rule=\"evenodd\" fill-opacity=\"1\" stroke=\"#000000\" stroke-opacity=\"1\" stroke-width=\"3.2\"/>\n",
       "<circle clip-path=\"url(#clip972)\" cx=\"278.769\" cy=\"691.944\" r=\"23\" fill=\"#781c6d\" fill-rule=\"evenodd\" fill-opacity=\"1\" stroke=\"#000000\" stroke-opacity=\"1\" stroke-width=\"3.2\"/>\n",
       "<circle clip-path=\"url(#clip972)\" cx=\"634.883\" cy=\"1297.7\" r=\"46\" fill=\"#f7850e\" fill-rule=\"evenodd\" fill-opacity=\"1\" stroke=\"#000000\" stroke-opacity=\"1\" stroke-width=\"3.2\"/>\n",
       "<circle clip-path=\"url(#clip972)\" cx=\"753.588\" cy=\"865.017\" r=\"50\" fill=\"#fba40a\" fill-rule=\"evenodd\" fill-opacity=\"1\" stroke=\"#000000\" stroke-opacity=\"1\" stroke-width=\"3.2\"/>\n",
       "<circle clip-path=\"url(#clip972)\" cx=\"1347.11\" cy=\"778.48\" r=\"27\" fill=\"#932567\" fill-rule=\"evenodd\" fill-opacity=\"1\" stroke=\"#000000\" stroke-opacity=\"1\" stroke-width=\"3.2\"/>\n",
       "<circle clip-path=\"url(#clip972)\" cx=\"634.883\" cy=\"951.554\" r=\"53\" fill=\"#f9c52c\" fill-rule=\"evenodd\" fill-opacity=\"1\" stroke=\"#000000\" stroke-opacity=\"1\" stroke-width=\"3.2\"/>\n",
       "<circle clip-path=\"url(#clip972)\" cx=\"872.293\" cy=\"691.944\" r=\"34\" fill=\"#c73e4c\" fill-rule=\"evenodd\" fill-opacity=\"1\" stroke=\"#000000\" stroke-opacity=\"1\" stroke-width=\"3.2\"/>\n",
       "<circle clip-path=\"url(#clip972)\" cx=\"516.179\" cy=\"865.017\" r=\"57\" fill=\"#f2e660\" fill-rule=\"evenodd\" fill-opacity=\"1\" stroke=\"#000000\" stroke-opacity=\"1\" stroke-width=\"3.2\"/>\n",
       "<circle clip-path=\"url(#clip972)\" cx=\"2059.34\" cy=\"518.87\" r=\"42\" fill=\"#ed6825\" fill-rule=\"evenodd\" fill-opacity=\"1\" stroke=\"#000000\" stroke-opacity=\"1\" stroke-width=\"3.2\"/>\n",
       "<circle clip-path=\"url(#clip972)\" cx=\"278.769\" cy=\"172.723\" r=\"38\" fill=\"#dc5039\" fill-rule=\"evenodd\" fill-opacity=\"1\" stroke=\"#000000\" stroke-opacity=\"1\" stroke-width=\"3.2\"/>\n",
       "<circle clip-path=\"url(#clip972)\" cx=\"516.179\" cy=\"1211.16\" r=\"46\" fill=\"#f7850e\" fill-rule=\"evenodd\" fill-opacity=\"1\" stroke=\"#000000\" stroke-opacity=\"1\" stroke-width=\"3.2\"/>\n",
       "<circle clip-path=\"url(#clip972)\" cx=\"278.769\" cy=\"86.1857\" r=\"42\" fill=\"#ed6825\" fill-rule=\"evenodd\" fill-opacity=\"1\" stroke=\"#000000\" stroke-opacity=\"1\" stroke-width=\"3.2\"/>\n",
       "<circle clip-path=\"url(#clip972)\" cx=\"1584.52\" cy=\"518.87\" r=\"15\" fill=\"#410967\" fill-rule=\"evenodd\" fill-opacity=\"1\" stroke=\"#000000\" stroke-opacity=\"1\" stroke-width=\"3.2\"/>\n",
       "<circle clip-path=\"url(#clip972)\" cx=\"753.588\" cy=\"1124.63\" r=\"42\" fill=\"#ed6825\" fill-rule=\"evenodd\" fill-opacity=\"1\" stroke=\"#000000\" stroke-opacity=\"1\" stroke-width=\"3.2\"/>\n",
       "<circle clip-path=\"url(#clip972)\" cx=\"1465.82\" cy=\"432.333\" r=\"19\" fill=\"#5d126e\" fill-rule=\"evenodd\" fill-opacity=\"1\" stroke=\"#000000\" stroke-opacity=\"1\" stroke-width=\"3.2\"/>\n",
       "<circle clip-path=\"url(#clip972)\" cx=\"753.588\" cy=\"691.944\" r=\"42\" fill=\"#ed6825\" fill-rule=\"evenodd\" fill-opacity=\"1\" stroke=\"#000000\" stroke-opacity=\"1\" stroke-width=\"3.2\"/>\n",
       "<circle clip-path=\"url(#clip972)\" cx=\"1584.52\" cy=\"951.554\" r=\"34\" fill=\"#c73e4c\" fill-rule=\"evenodd\" fill-opacity=\"1\" stroke=\"#000000\" stroke-opacity=\"1\" stroke-width=\"3.2\"/>\n",
       "<circle clip-path=\"url(#clip972)\" cx=\"1465.82\" cy=\"1384.24\" r=\"23\" fill=\"#781c6d\" fill-rule=\"evenodd\" fill-opacity=\"1\" stroke=\"#000000\" stroke-opacity=\"1\" stroke-width=\"3.2\"/>\n",
       "<circle clip-path=\"url(#clip972)\" cx=\"990.997\" cy=\"1384.24\" r=\"27\" fill=\"#932567\" fill-rule=\"evenodd\" fill-opacity=\"1\" stroke=\"#000000\" stroke-opacity=\"1\" stroke-width=\"3.2\"/>\n",
       "<circle clip-path=\"url(#clip972)\" cx=\"397.474\" cy=\"345.796\" r=\"11\" fill=\"#240b4e\" fill-rule=\"evenodd\" fill-opacity=\"1\" stroke=\"#000000\" stroke-opacity=\"1\" stroke-width=\"3.2\"/>\n",
       "<circle clip-path=\"url(#clip972)\" cx=\"1347.11\" cy=\"1297.7\" r=\"38\" fill=\"#dc5039\" fill-rule=\"evenodd\" fill-opacity=\"1\" stroke=\"#000000\" stroke-opacity=\"1\" stroke-width=\"3.2\"/>\n",
       "<circle clip-path=\"url(#clip972)\" cx=\"1465.82\" cy=\"778.48\" r=\"15\" fill=\"#410967\" fill-rule=\"evenodd\" fill-opacity=\"1\" stroke=\"#000000\" stroke-opacity=\"1\" stroke-width=\"3.2\"/>\n",
       "<circle clip-path=\"url(#clip972)\" cx=\"1347.11\" cy=\"1384.24\" r=\"42\" fill=\"#ed6825\" fill-rule=\"evenodd\" fill-opacity=\"1\" stroke=\"#000000\" stroke-opacity=\"1\" stroke-width=\"3.2\"/>\n",
       "<circle clip-path=\"url(#clip972)\" cx=\"1465.82\" cy=\"518.87\" r=\"31\" fill=\"#ae305b\" fill-rule=\"evenodd\" fill-opacity=\"1\" stroke=\"#000000\" stroke-opacity=\"1\" stroke-width=\"3.2\"/>\n",
       "<circle clip-path=\"url(#clip972)\" cx=\"1940.63\" cy=\"432.333\" r=\"31\" fill=\"#ae305b\" fill-rule=\"evenodd\" fill-opacity=\"1\" stroke=\"#000000\" stroke-opacity=\"1\" stroke-width=\"3.2\"/>\n",
       "<circle clip-path=\"url(#clip972)\" cx=\"1228.41\" cy=\"86.1857\" r=\"19\" fill=\"#5d126e\" fill-rule=\"evenodd\" fill-opacity=\"1\" stroke=\"#000000\" stroke-opacity=\"1\" stroke-width=\"3.2\"/>\n",
       "<circle clip-path=\"url(#clip972)\" cx=\"634.883\" cy=\"86.1857\" r=\"50\" fill=\"#fba40a\" fill-rule=\"evenodd\" fill-opacity=\"1\" stroke=\"#000000\" stroke-opacity=\"1\" stroke-width=\"3.2\"/>\n",
       "<circle clip-path=\"url(#clip972)\" cx=\"990.997\" cy=\"259.259\" r=\"34\" fill=\"#c73e4c\" fill-rule=\"evenodd\" fill-opacity=\"1\" stroke=\"#000000\" stroke-opacity=\"1\" stroke-width=\"3.2\"/>\n",
       "<circle clip-path=\"url(#clip972)\" cx=\"990.997\" cy=\"86.1857\" r=\"31\" fill=\"#ae305b\" fill-rule=\"evenodd\" fill-opacity=\"1\" stroke=\"#000000\" stroke-opacity=\"1\" stroke-width=\"3.2\"/>\n",
       "<circle clip-path=\"url(#clip972)\" cx=\"1821.93\" cy=\"259.259\" r=\"15\" fill=\"#410967\" fill-rule=\"evenodd\" fill-opacity=\"1\" stroke=\"#000000\" stroke-opacity=\"1\" stroke-width=\"3.2\"/>\n",
       "<circle clip-path=\"url(#clip972)\" cx=\"1703.22\" cy=\"1124.63\" r=\"19\" fill=\"#5d126e\" fill-rule=\"evenodd\" fill-opacity=\"1\" stroke=\"#000000\" stroke-opacity=\"1\" stroke-width=\"3.2\"/>\n",
       "<circle clip-path=\"url(#clip972)\" cx=\"1584.52\" cy=\"691.944\" r=\"19\" fill=\"#5d126e\" fill-rule=\"evenodd\" fill-opacity=\"1\" stroke=\"#000000\" stroke-opacity=\"1\" stroke-width=\"3.2\"/>\n",
       "<circle clip-path=\"url(#clip972)\" cx=\"1703.22\" cy=\"691.944\" r=\"11\" fill=\"#240b4e\" fill-rule=\"evenodd\" fill-opacity=\"1\" stroke=\"#000000\" stroke-opacity=\"1\" stroke-width=\"3.2\"/>\n",
       "<circle clip-path=\"url(#clip972)\" cx=\"278.769\" cy=\"1124.63\" r=\"11\" fill=\"#240b4e\" fill-rule=\"evenodd\" fill-opacity=\"1\" stroke=\"#000000\" stroke-opacity=\"1\" stroke-width=\"3.2\"/>\n",
       "<circle clip-path=\"url(#clip972)\" cx=\"516.179\" cy=\"1297.7\" r=\"61\" fill=\"#fcfea4\" fill-rule=\"evenodd\" fill-opacity=\"1\" stroke=\"#000000\" stroke-opacity=\"1\" stroke-width=\"3.2\"/>\n",
       "<circle clip-path=\"url(#clip972)\" cx=\"278.769\" cy=\"1384.24\" r=\"27\" fill=\"#932567\" fill-rule=\"evenodd\" fill-opacity=\"1\" stroke=\"#000000\" stroke-opacity=\"1\" stroke-width=\"3.2\"/>\n",
       "<circle clip-path=\"url(#clip972)\" cx=\"397.474\" cy=\"605.407\" r=\"23\" fill=\"#781c6d\" fill-rule=\"evenodd\" fill-opacity=\"1\" stroke=\"#000000\" stroke-opacity=\"1\" stroke-width=\"3.2\"/>\n",
       "<circle clip-path=\"url(#clip972)\" cx=\"1347.11\" cy=\"691.944\" r=\"27\" fill=\"#932567\" fill-rule=\"evenodd\" fill-opacity=\"1\" stroke=\"#000000\" stroke-opacity=\"1\" stroke-width=\"3.2\"/>\n",
       "<circle clip-path=\"url(#clip972)\" cx=\"990.997\" cy=\"518.87\" r=\"38\" fill=\"#dc5039\" fill-rule=\"evenodd\" fill-opacity=\"1\" stroke=\"#000000\" stroke-opacity=\"1\" stroke-width=\"3.2\"/>\n",
       "<circle clip-path=\"url(#clip972)\" cx=\"2059.34\" cy=\"1384.24\" r=\"53\" fill=\"#f9c52c\" fill-rule=\"evenodd\" fill-opacity=\"1\" stroke=\"#000000\" stroke-opacity=\"1\" stroke-width=\"3.2\"/>\n",
       "<circle clip-path=\"url(#clip972)\" cx=\"1228.41\" cy=\"518.87\" r=\"27\" fill=\"#932567\" fill-rule=\"evenodd\" fill-opacity=\"1\" stroke=\"#000000\" stroke-opacity=\"1\" stroke-width=\"3.2\"/>\n",
       "<circle clip-path=\"url(#clip972)\" cx=\"634.883\" cy=\"1211.16\" r=\"53\" fill=\"#f9c52c\" fill-rule=\"evenodd\" fill-opacity=\"1\" stroke=\"#000000\" stroke-opacity=\"1\" stroke-width=\"3.2\"/>\n",
       "<circle clip-path=\"url(#clip972)\" cx=\"516.179\" cy=\"86.1857\" r=\"46\" fill=\"#f7850e\" fill-rule=\"evenodd\" fill-opacity=\"1\" stroke=\"#000000\" stroke-opacity=\"1\" stroke-width=\"3.2\"/>\n",
       "<circle clip-path=\"url(#clip972)\" cx=\"990.997\" cy=\"691.944\" r=\"23\" fill=\"#781c6d\" fill-rule=\"evenodd\" fill-opacity=\"1\" stroke=\"#000000\" stroke-opacity=\"1\" stroke-width=\"3.2\"/>\n",
       "<circle clip-path=\"url(#clip972)\" cx=\"1584.52\" cy=\"1038.09\" r=\"19\" fill=\"#5d126e\" fill-rule=\"evenodd\" fill-opacity=\"1\" stroke=\"#000000\" stroke-opacity=\"1\" stroke-width=\"3.2\"/>\n",
       "<circle clip-path=\"url(#clip972)\" cx=\"278.769\" cy=\"518.87\" r=\"31\" fill=\"#ae305b\" fill-rule=\"evenodd\" fill-opacity=\"1\" stroke=\"#000000\" stroke-opacity=\"1\" stroke-width=\"3.2\"/>\n",
       "<circle clip-path=\"url(#clip972)\" cx=\"1465.82\" cy=\"345.796\" r=\"15\" fill=\"#410967\" fill-rule=\"evenodd\" fill-opacity=\"1\" stroke=\"#000000\" stroke-opacity=\"1\" stroke-width=\"3.2\"/>\n",
       "<circle clip-path=\"url(#clip972)\" cx=\"516.179\" cy=\"1038.09\" r=\"61\" fill=\"#fcfea4\" fill-rule=\"evenodd\" fill-opacity=\"1\" stroke=\"#000000\" stroke-opacity=\"1\" stroke-width=\"3.2\"/>\n",
       "<circle clip-path=\"url(#clip972)\" cx=\"872.293\" cy=\"1124.63\" r=\"42\" fill=\"#ed6825\" fill-rule=\"evenodd\" fill-opacity=\"1\" stroke=\"#000000\" stroke-opacity=\"1\" stroke-width=\"3.2\"/>\n",
       "<circle clip-path=\"url(#clip972)\" cx=\"1584.52\" cy=\"1297.7\" r=\"34\" fill=\"#c73e4c\" fill-rule=\"evenodd\" fill-opacity=\"1\" stroke=\"#000000\" stroke-opacity=\"1\" stroke-width=\"3.2\"/>\n",
       "<circle clip-path=\"url(#clip972)\" cx=\"753.588\" cy=\"432.333\" r=\"50\" fill=\"#fba40a\" fill-rule=\"evenodd\" fill-opacity=\"1\" stroke=\"#000000\" stroke-opacity=\"1\" stroke-width=\"3.2\"/>\n",
       "<circle clip-path=\"url(#clip972)\" cx=\"2059.34\" cy=\"1297.7\" r=\"50\" fill=\"#fba40a\" fill-rule=\"evenodd\" fill-opacity=\"1\" stroke=\"#000000\" stroke-opacity=\"1\" stroke-width=\"3.2\"/>\n",
       "<circle clip-path=\"url(#clip972)\" cx=\"1228.41\" cy=\"1038.09\" r=\"19\" fill=\"#5d126e\" fill-rule=\"evenodd\" fill-opacity=\"1\" stroke=\"#000000\" stroke-opacity=\"1\" stroke-width=\"3.2\"/>\n",
       "<circle clip-path=\"url(#clip972)\" cx=\"1347.11\" cy=\"432.333\" r=\"23\" fill=\"#781c6d\" fill-rule=\"evenodd\" fill-opacity=\"1\" stroke=\"#000000\" stroke-opacity=\"1\" stroke-width=\"3.2\"/>\n",
       "<circle clip-path=\"url(#clip972)\" cx=\"1584.52\" cy=\"345.796\" r=\"23\" fill=\"#781c6d\" fill-rule=\"evenodd\" fill-opacity=\"1\" stroke=\"#000000\" stroke-opacity=\"1\" stroke-width=\"3.2\"/>\n",
       "<circle clip-path=\"url(#clip972)\" cx=\"1109.7\" cy=\"1211.16\" r=\"7\" fill=\"#0b0726\" fill-rule=\"evenodd\" fill-opacity=\"1\" stroke=\"#000000\" stroke-opacity=\"1\" stroke-width=\"3.2\"/>\n",
       "<circle clip-path=\"url(#clip972)\" cx=\"1347.11\" cy=\"865.017\" r=\"38\" fill=\"#dc5039\" fill-rule=\"evenodd\" fill-opacity=\"1\" stroke=\"#000000\" stroke-opacity=\"1\" stroke-width=\"3.2\"/>\n",
       "<circle clip-path=\"url(#clip972)\" cx=\"2059.34\" cy=\"1124.63\" r=\"50\" fill=\"#fba40a\" fill-rule=\"evenodd\" fill-opacity=\"1\" stroke=\"#000000\" stroke-opacity=\"1\" stroke-width=\"3.2\"/>\n",
       "<circle clip-path=\"url(#clip972)\" cx=\"990.997\" cy=\"778.48\" r=\"31\" fill=\"#ae305b\" fill-rule=\"evenodd\" fill-opacity=\"1\" stroke=\"#000000\" stroke-opacity=\"1\" stroke-width=\"3.2\"/>\n",
       "<circle clip-path=\"url(#clip972)\" cx=\"1228.41\" cy=\"865.017\" r=\"19\" fill=\"#5d126e\" fill-rule=\"evenodd\" fill-opacity=\"1\" stroke=\"#000000\" stroke-opacity=\"1\" stroke-width=\"3.2\"/>\n",
       "<circle clip-path=\"url(#clip972)\" cx=\"516.179\" cy=\"432.333\" r=\"34\" fill=\"#c73e4c\" fill-rule=\"evenodd\" fill-opacity=\"1\" stroke=\"#000000\" stroke-opacity=\"1\" stroke-width=\"3.2\"/>\n",
       "<circle clip-path=\"url(#clip972)\" cx=\"1940.63\" cy=\"1038.09\" r=\"27\" fill=\"#932567\" fill-rule=\"evenodd\" fill-opacity=\"1\" stroke=\"#000000\" stroke-opacity=\"1\" stroke-width=\"3.2\"/>\n",
       "<circle clip-path=\"url(#clip972)\" cx=\"1109.7\" cy=\"86.1857\" r=\"19\" fill=\"#5d126e\" fill-rule=\"evenodd\" fill-opacity=\"1\" stroke=\"#000000\" stroke-opacity=\"1\" stroke-width=\"3.2\"/>\n",
       "<circle clip-path=\"url(#clip972)\" cx=\"1821.93\" cy=\"778.48\" r=\"34\" fill=\"#c73e4c\" fill-rule=\"evenodd\" fill-opacity=\"1\" stroke=\"#000000\" stroke-opacity=\"1\" stroke-width=\"3.2\"/>\n",
       "<circle clip-path=\"url(#clip972)\" cx=\"872.293\" cy=\"518.87\" r=\"34\" fill=\"#c73e4c\" fill-rule=\"evenodd\" fill-opacity=\"1\" stroke=\"#000000\" stroke-opacity=\"1\" stroke-width=\"3.2\"/>\n",
       "<circle clip-path=\"url(#clip972)\" cx=\"634.883\" cy=\"432.333\" r=\"53\" fill=\"#f9c52c\" fill-rule=\"evenodd\" fill-opacity=\"1\" stroke=\"#000000\" stroke-opacity=\"1\" stroke-width=\"3.2\"/>\n",
       "<circle clip-path=\"url(#clip972)\" cx=\"872.293\" cy=\"1297.7\" r=\"42\" fill=\"#ed6825\" fill-rule=\"evenodd\" fill-opacity=\"1\" stroke=\"#000000\" stroke-opacity=\"1\" stroke-width=\"3.2\"/>\n",
       "<circle clip-path=\"url(#clip972)\" cx=\"1347.11\" cy=\"259.259\" r=\"23\" fill=\"#781c6d\" fill-rule=\"evenodd\" fill-opacity=\"1\" stroke=\"#000000\" stroke-opacity=\"1\" stroke-width=\"3.2\"/>\n",
       "<circle clip-path=\"url(#clip972)\" cx=\"990.997\" cy=\"345.796\" r=\"27\" fill=\"#932567\" fill-rule=\"evenodd\" fill-opacity=\"1\" stroke=\"#000000\" stroke-opacity=\"1\" stroke-width=\"3.2\"/>\n",
       "<circle clip-path=\"url(#clip972)\" cx=\"1584.52\" cy=\"259.259\" r=\"3\" fill=\"#000003\" fill-rule=\"evenodd\" fill-opacity=\"1\" stroke=\"#000000\" stroke-opacity=\"1\" stroke-width=\"3.2\"/>\n",
       "<circle clip-path=\"url(#clip972)\" cx=\"1584.52\" cy=\"432.333\" r=\"19\" fill=\"#5d126e\" fill-rule=\"evenodd\" fill-opacity=\"1\" stroke=\"#000000\" stroke-opacity=\"1\" stroke-width=\"3.2\"/>\n",
       "<circle clip-path=\"url(#clip972)\" cx=\"1109.7\" cy=\"691.944\" r=\"19\" fill=\"#5d126e\" fill-rule=\"evenodd\" fill-opacity=\"1\" stroke=\"#000000\" stroke-opacity=\"1\" stroke-width=\"3.2\"/>\n",
       "<circle clip-path=\"url(#clip972)\" cx=\"634.883\" cy=\"1038.09\" r=\"53\" fill=\"#f9c52c\" fill-rule=\"evenodd\" fill-opacity=\"1\" stroke=\"#000000\" stroke-opacity=\"1\" stroke-width=\"3.2\"/>\n",
       "<circle clip-path=\"url(#clip972)\" cx=\"753.588\" cy=\"1038.09\" r=\"57\" fill=\"#f2e660\" fill-rule=\"evenodd\" fill-opacity=\"1\" stroke=\"#000000\" stroke-opacity=\"1\" stroke-width=\"3.2\"/>\n",
       "<circle clip-path=\"url(#clip972)\" cx=\"1584.52\" cy=\"865.017\" r=\"11\" fill=\"#240b4e\" fill-rule=\"evenodd\" fill-opacity=\"1\" stroke=\"#000000\" stroke-opacity=\"1\" stroke-width=\"3.2\"/>\n",
       "<circle clip-path=\"url(#clip972)\" cx=\"1703.22\" cy=\"605.407\" r=\"19\" fill=\"#5d126e\" fill-rule=\"evenodd\" fill-opacity=\"1\" stroke=\"#000000\" stroke-opacity=\"1\" stroke-width=\"3.2\"/>\n",
       "<circle clip-path=\"url(#clip972)\" cx=\"1347.11\" cy=\"1124.63\" r=\"46\" fill=\"#f7850e\" fill-rule=\"evenodd\" fill-opacity=\"1\" stroke=\"#000000\" stroke-opacity=\"1\" stroke-width=\"3.2\"/>\n",
       "<circle clip-path=\"url(#clip972)\" cx=\"990.997\" cy=\"172.723\" r=\"34\" fill=\"#c73e4c\" fill-rule=\"evenodd\" fill-opacity=\"1\" stroke=\"#000000\" stroke-opacity=\"1\" stroke-width=\"3.2\"/>\n",
       "<circle clip-path=\"url(#clip972)\" cx=\"1109.7\" cy=\"778.48\" r=\"7\" fill=\"#0b0726\" fill-rule=\"evenodd\" fill-opacity=\"1\" stroke=\"#000000\" stroke-opacity=\"1\" stroke-width=\"3.2\"/>\n",
       "<circle clip-path=\"url(#clip972)\" cx=\"872.293\" cy=\"172.723\" r=\"27\" fill=\"#932567\" fill-rule=\"evenodd\" fill-opacity=\"1\" stroke=\"#000000\" stroke-opacity=\"1\" stroke-width=\"3.2\"/>\n",
       "<circle clip-path=\"url(#clip972)\" cx=\"1109.7\" cy=\"172.723\" r=\"27\" fill=\"#932567\" fill-rule=\"evenodd\" fill-opacity=\"1\" stroke=\"#000000\" stroke-opacity=\"1\" stroke-width=\"3.2\"/>\n",
       "<circle clip-path=\"url(#clip972)\" cx=\"397.474\" cy=\"1297.7\" r=\"19\" fill=\"#5d126e\" fill-rule=\"evenodd\" fill-opacity=\"1\" stroke=\"#000000\" stroke-opacity=\"1\" stroke-width=\"3.2\"/>\n",
       "<circle clip-path=\"url(#clip972)\" cx=\"1109.7\" cy=\"1384.24\" r=\"11\" fill=\"#240b4e\" fill-rule=\"evenodd\" fill-opacity=\"1\" stroke=\"#000000\" stroke-opacity=\"1\" stroke-width=\"3.2\"/>\n",
       "<circle clip-path=\"url(#clip972)\" cx=\"1940.63\" cy=\"951.554\" r=\"15\" fill=\"#410967\" fill-rule=\"evenodd\" fill-opacity=\"1\" stroke=\"#000000\" stroke-opacity=\"1\" stroke-width=\"3.2\"/>\n",
       "<circle clip-path=\"url(#clip972)\" cx=\"516.179\" cy=\"172.723\" r=\"46\" fill=\"#f7850e\" fill-rule=\"evenodd\" fill-opacity=\"1\" stroke=\"#000000\" stroke-opacity=\"1\" stroke-width=\"3.2\"/>\n",
       "<circle clip-path=\"url(#clip972)\" cx=\"634.883\" cy=\"865.017\" r=\"46\" fill=\"#f7850e\" fill-rule=\"evenodd\" fill-opacity=\"1\" stroke=\"#000000\" stroke-opacity=\"1\" stroke-width=\"3.2\"/>\n",
       "<defs>\n",
       "  <clipPath id=\"clip973\">\n",
       "    <rect x=\"2160\" y=\"47\" width=\"73\" height=\"1377\"/>\n",
       "  </clipPath>\n",
       "</defs>\n",
       "<g clip-path=\"url(#clip973)\">\n",
       "<image width=\"72\" height=\"1376\" xlink:href=\"data:image/png;base64,\n",
       "iVBORw0KGgoAAAANSUhEUgAAAEgAAAVgCAYAAADsKhu7AAAL6UlEQVR4nO3dwZEjNxBFQVBR/lsh\n",
       "L6UFZIHqHclDpgUTL35wCXTP7Off+/c7/K+/vv0D/DqBgkBBoCBQmPv+/fbP8NMsKAgUBAoChXnv\n",
       "z7d/hp9mQUGgIFAQKAgUHDWCBQWBgkBBoDDPh/TKgoJAQaAgUJh3fUhvLCgIFAQKAgWBgqNGsKAg\n",
       "UBAoCBR8SAcLCgIFgYJAwX1QsKAgUBAoCBQECnMcNVYWFAQKAgWBgvugYEFBoCBQECgIFOa4MFtZ\n",
       "UBAoCBQECnPuP9/+GX6aBQWBgkBBoODSPlhQECgIFAQKAgX3QcGCgkBBoCBQ8CEdLCgIFAQKAgX3\n",
       "QcGCgkBBoCBQECjMx1FjZUFBoCBQECjMuf5XhI0FBYGCQEGgIFBw1AgWFAQKAgWBgqNGsKAgUBAo\n",
       "CBS8HxQsKAgUBAoCBYHCfBw1VhYUBAoCBYGCt1yDBQWBgkBBoOCbdLCgIFAQKAgUBAoePQcLCgIF\n",
       "gYJAwVEjWFAQKAgUBAoCBUeNYEFBoCBQECg4agQLCgIFgYJAYc693/4ZfpoFBYGCQEGgIFBw1AgW\n",
       "FAQKAgWBgkv7YEFBoCBQECj4kA4WFAQKAgWBgkBhPp5qrCwoCBQECgIFR41gQUGgIFAQKAgUvEAV\n",
       "LCgIFAQKAgX3QcGCgkBBoCBQcB8ULCgIFAQKAgWBgvugYEFBoCBQECj4kA4WFAQKAgWBgl/qDRYU\n",
       "BAoCBYGCQMFRI1hQECgIFAQKPqSDBQWBgkBBoCBQ8K9YsKAgUBAoCBR8SAcLCgIFgYJAYc7zIb2x\n",
       "oCBQECgIFAQKjhrBgoJAQaAgUPAhHSwoCBQECgIFH9LBgoJAQaAgUBAozLnv2z/DT7OgIFAQKAgU\n",
       "HDWCBQWBgkBBoCBQcNQIFhQECgIFgYKjRrCgIFAQKAgUfJMOFhQECgIFgYJAYY6TxsqCgkBBoCBQ\n",
       "mPMcNTYWFAQKAgWBgm/SwYKCQEGgIFAQKPhXLFhQECgIFAQK44/g7SwoCBQECgIFgYKjRrCgIFAQ\n",
       "KAgUfEgHCwoCBYGCQGHO/Xz7Z/hpFhQECgIFgYJAYd7zr9jGgoJAQaAgUHAfFCwoCBQECgIF90HB\n",
       "goJAQaAgUBAozLsabdQJAgWBgkDBUSNYUBAoCBQECgKFOR49rywoCBQECgKFeY4aKwsKAgWBgkBh\n",
       "jkv7lTpBoCBQECgIFBw1ggUFgYJAQaDg0j5YUBAoCBQECl7iDOoEgYJAQaAgUPCWa7CgIFAQKAgU\n",
       "XNoHCwoCBYGCQEGgMO9ptFEnCBQECgIF90HBgoJAQaAgUHAfFCwoCBQECgIFgcIc90ErdYJAQaAg\n",
       "UHDUCBYUBAoCBYGCD+lgQUGgIFAQKAgU/NZzsKAgUBAoCBT81nNQJwgUBAoCBYHCPEeNlQUFgYJA\n",
       "QaDgqUawoCBQECgIFPyvCEGdIFAQKAgUBArug4IFBYGCQEGg4D4oWFAQKAgUBAq+SQcLCgIFgYJA\n",
       "QaDgLdegThAoCBQECo4awYKCQEGgIFAQKHiqESwoCBQECgIFR41gQUGgIFAQKPiva4IFBYGCQEGg\n",
       "IFDwv2QGdYJAQaAgUHAfFCwoCBQECgIFT1aDBQWBgkBBoCBQcNQIFhQECgIFgcJcH9IrCwoCBYGC\n",
       "QEGg4LeegzpBoCBQECi4DwoWFAQKAgWBgg/pYEFBoCBQECgIFLxAFSwoCBQECgIFR41gQUGgIFAQ\n",
       "KPiQDhYUBAoCBYGCQMGfpgjqBIGCQEGgMNel/cqCgkBBoCBQECi4MAsWFAQKAgWBgg/pYEFBoCBQ\n",
       "ECj4kA4WFAQKAgWBgkDBH1gKFhQECgIFgYKjRrCgIFAQKAgUfEgHCwoCBYGCQEGg4FcRgjpBoCBQ\n",
       "ECj4VYRgQUGgIFAQKAgUXJgFCwoCBYGCQMGHdLCgIFAQKAgUvMQZLCgIFAQKAgWBgqNGsKAgUBAo\n",
       "CBTmHR/SGwsKAgWBgkDBfVCwoCBQECgIFAQK7oOCBQWBgkBBoOCoESwoCBQECgIFgYKjRrCgIFAQ\n",
       "KAgUHDWCBQWBgkBBoOCbdLCgIFAQKAgUBAr+FQsWFAQKAgWBwly/irCyoCBQECgIFHyTDhYUBAoC\n",
       "BYGCQMGj52BBQaAgUBAozHvf/hF+mwUFgYJAQaAgUHDUCBYUBAoCBYGCv4IXLCgIFAQKAgXfpIMF\n",
       "BYGCQEGgIFDwAlWwoCBQECgIFPwqQrCgIFAQKAgUvB8ULCgIFAQKAgWBgqcawYKCQEGgIFBwaR8s\n",
       "KAgUBAoCBYGCpxrBgoJAQaAgUHAfFCwoCBQECgIFj56DBQWBgkBBoCBQcB8ULCgIFAQKAgWPnoMF\n",
       "BYGCQEGgMPfbP8GPs6AgUBAoCBQECo4awYKCQEGgIFDwflCwoCBQECgIFAQKLsyCBQWBgkBBoOA+\n",
       "KFhQECgIFAQKvkkHCwoCBYGCQEGg4KgRLCgIFAQKAgWPnoMFBYGCQEGgMP4yxc6CgkBBoCBQECg4\n",
       "agQLCgIFgYJAwaPnYEFBoCBQECgIFDx6DhYUBAoCBYGCo0awoCBQECgIFHyTDhYUBAoCBYGCQGGu\n",
       "N6hWFhQECgIFgYL7oGBBQaAgUBAouA8KFhQECgIFgYJAwVEjWFAQKAgUBArzXNqvLCgIFAQKAgWB\n",
       "wtzjwmxjQUGgIFAQKHg/KFhQECgIFAQK/gpesKAgUBAoCBQECv4KXrCgIFAQKAgUPHoOFhQECgIF\n",
       "gYKXOIMFBYGCQEGgIFDwC3XBgoJAQaAgUHDUCBYUBAoCBYGCQMFbrsGCgkBBoCBQ8JZrsKAgUBAo\n",
       "CBR8kw4WFAQKAgWBgkDBW67BgoJAQaAgUPD3g4IFBYGCQEGg4D4oWFAQKAgUBAoCBY+egwUFgYJA\n",
       "QaDgqBEsKAgUBAoCBYGCo0awoCBQECgIFBw1ggUFgYJAQaDgQzpYUBAoCBQECgIF90HBgoJAQaAg\n",
       "UHDUCBYUBAoCBYGCb9LBgoJAQaAgUBAoOGoECwoCBYGCQMHfDwoWFAQKAgWBgkDB/+0TLCgIFAQK\n",
       "AgX3QcGCgkBBoCBQmHd8Sm8sKAgUBAoCBYGCo0awoCBQECgIFDx6DhYUBAoCBYGCJ6vBgoJAQaAg\n",
       "UBAouA8KFhQECgIFgYJHz8GCgkBBoCBQECg4agQLCgIFgYJAwR9YChYUBAoCBYHCXC8IrSwoCBQE\n",
       "CgIFgYIXqIIFBYGCQEGgMM9RY2VBQaAgUBAo+CYdLCgIFAQKAgWBgqcawYKCQEGgIFDwflCwoCBQ\n",
       "ECgIFAQKc/1C3cqCgkBBoCBQcB8ULCgIFAQKAgV/miJYUBAoCBQECgIFL1AFCwoCBYGCQMGlfbCg\n",
       "IFAQKAgU3AcFCwoCBYGCQEGgMPe4EdpYUBAoCBQECu6DggUFgYJAQaAgUPCvWLCgIFAQKAgUPNUI\n",
       "FhQECgIFgYJL+2BBQaAgUBAoCBTmfhw1NhYUBAoCBYGCo0awoCBQECgIFOb5kF5ZUBAoCBQECgIF\n",
       "R41gQUGgIFAQKMz9+JDeWFAQKAgUBAoCBUeNYEFBoCBQECh4qhEsKAgUBAoCBd+kgwUFgYJAQaAg\n",
       "UPCvWLCgIFAQKAgUPHoOFhQECgIFgcK88+fbP8NPs6AgUBAoCBQECu6DggUFgYJAQaDg/aBgQUGg\n",
       "IFAQKAgU5j4XZhsLCgIFgYJAwVEjWFAQKAgUBApzPXpeWVAQKAgUBAoCBUeNYEFBoCBQECg4agQL\n",
       "CgIFgYJAYd7zTXpjQUGgIFAQKAgU3AcFCwoCBYGCQMFLnMGCgkBBoCBQECg4agQLCgIFgYJAYZ6j\n",
       "xsqCgkBBoCBQ8E06WFAQKAgUBAoChbleoFpZUBAoCBQECv7gdrCgIFAQKAgU/CpCsKAgUBAoCBQE\n",
       "Cp5qBAsKAgWBgkDBUSNYUBAoCBQECgIF/4oFCwoCBYGCQMGj52BBQaAgUBAo+CYdLCgIFAQKAgWB\n",
       "whyPnlcWFAQKAgWBgqNGsKAgUBAoCBS8xBksKAgUBAoCBYHCHEeNlQUFgYJAQaDg/aBgQUGgIFAQ\n",
       "KAgUPHoOFhQECgIFgYL7oGBBQaAgUBAozDvv2z/DT7OgIFAQKAgUBArug4IFBYGCQEGgMMdRY2VB\n",
       "QaAgUBAo/AdhU+3PqlcPeQAAAABJRU5ErkJggg==\n",
       "\" transform=\"translate(2161, 47)\"/>\n",
       "</g>\n",
       "<path clip-path=\"url(#clip970)\" d=\"M 0 0 M2280.7 1360.4 Q2277.09 1360.4 2275.26 1363.97 Q2273.45 1367.51 2273.45 1374.64 Q2273.45 1381.74 2275.26 1385.31 Q2277.09 1388.85 2280.7 1388.85 Q2284.33 1388.85 2286.14 1385.31 Q2287.97 1381.74 2287.97 1374.64 Q2287.97 1367.51 2286.14 1363.97 Q2284.33 1360.4 2280.7 1360.4 M2280.7 1356.7 Q2286.51 1356.7 2289.57 1361.31 Q2292.64 1365.89 2292.64 1374.64 Q2292.64 1383.37 2289.57 1387.97 Q2286.51 1392.56 2280.7 1392.56 Q2274.89 1392.56 2271.81 1387.97 Q2268.76 1383.37 2268.76 1374.64 Q2268.76 1365.89 2271.81 1361.31 Q2274.89 1356.7 2280.7 1356.7 Z\" fill=\"#000000\" fill-rule=\"evenodd\" fill-opacity=\"1\" /><path clip-path=\"url(#clip970)\" d=\"M 0 0 M2297.71 1386 L2302.6 1386 L2302.6 1391.88 L2297.71 1391.88 L2297.71 1386 Z\" fill=\"#000000\" fill-rule=\"evenodd\" fill-opacity=\"1\" /><path clip-path=\"url(#clip970)\" d=\"M 0 0 M2308.48 1387.95 L2316.12 1387.95 L2316.12 1361.58 L2307.81 1363.25 L2307.81 1358.99 L2316.07 1357.32 L2320.75 1357.32 L2320.75 1387.95 L2328.39 1387.95 L2328.39 1391.88 L2308.48 1391.88 L2308.48 1387.95 Z\" fill=\"#000000\" fill-rule=\"evenodd\" fill-opacity=\"1\" /><path clip-path=\"url(#clip970)\" d=\"M 0 0 M2343.45 1360.4 Q2339.84 1360.4 2338.01 1363.97 Q2336.21 1367.51 2336.21 1374.64 Q2336.21 1381.74 2338.01 1385.31 Q2339.84 1388.85 2343.45 1388.85 Q2347.09 1388.85 2348.89 1385.31 Q2350.72 1381.74 2350.72 1374.64 Q2350.72 1367.51 2348.89 1363.97 Q2347.09 1360.4 2343.45 1360.4 M2343.45 1356.7 Q2349.26 1356.7 2352.32 1361.31 Q2355.4 1365.89 2355.4 1374.64 Q2355.4 1383.37 2352.32 1387.97 Q2349.26 1392.56 2343.45 1392.56 Q2337.64 1392.56 2334.57 1387.97 Q2331.51 1383.37 2331.51 1374.64 Q2331.51 1365.89 2334.57 1361.31 Q2337.64 1356.7 2343.45 1356.7 Z\" fill=\"#000000\" fill-rule=\"evenodd\" fill-opacity=\"1\" /><path clip-path=\"url(#clip970)\" d=\"M 0 0 M2360.51 1357.32 L2378.87 1357.32 L2378.87 1361.26 L2364.8 1361.26 L2364.8 1369.73 Q2365.82 1369.38 2366.83 1369.22 Q2367.85 1369.04 2368.87 1369.04 Q2374.66 1369.04 2378.04 1372.21 Q2381.42 1375.38 2381.42 1380.8 Q2381.42 1386.37 2377.95 1389.48 Q2374.47 1392.56 2368.15 1392.56 Q2365.98 1392.56 2363.71 1392.18 Q2361.46 1391.81 2359.06 1391.07 L2359.06 1386.37 Q2361.14 1387.51 2363.36 1388.06 Q2365.58 1388.62 2368.06 1388.62 Q2372.07 1388.62 2374.4 1386.51 Q2376.74 1384.41 2376.74 1380.8 Q2376.74 1377.18 2374.4 1375.08 Q2372.07 1372.97 2368.06 1372.97 Q2366.19 1372.97 2364.31 1373.39 Q2362.46 1373.81 2360.51 1374.68 L2360.51 1357.32 Z\" fill=\"#000000\" fill-rule=\"evenodd\" fill-opacity=\"1\" /><path clip-path=\"url(#clip970)\" d=\"M 0 0 M2396.49 1360.4 Q2392.88 1360.4 2391.05 1363.97 Q2389.24 1367.51 2389.24 1374.64 Q2389.24 1381.74 2391.05 1385.31 Q2392.88 1388.85 2396.49 1388.85 Q2400.12 1388.85 2401.93 1385.31 Q2403.76 1381.74 2403.76 1374.64 Q2403.76 1367.51 2401.93 1363.97 Q2400.12 1360.4 2396.49 1360.4 M2396.49 1356.7 Q2402.3 1356.7 2405.35 1361.31 Q2408.43 1365.89 2408.43 1374.64 Q2408.43 1383.37 2405.35 1387.97 Q2402.3 1392.56 2396.49 1392.56 Q2390.68 1392.56 2387.6 1387.97 Q2384.54 1383.37 2384.54 1374.64 Q2384.54 1365.89 2387.6 1361.31 Q2390.68 1356.7 2396.49 1356.7 Z\" fill=\"#000000\" fill-rule=\"evenodd\" fill-opacity=\"1\" /><path clip-path=\"url(#clip970)\" d=\"M 0 0 M2280.7 1191.16 Q2277.09 1191.16 2275.26 1194.73 Q2273.45 1198.27 2273.45 1205.4 Q2273.45 1212.5 2275.26 1216.07 Q2277.09 1219.61 2280.7 1219.61 Q2284.33 1219.61 2286.14 1216.07 Q2287.97 1212.5 2287.97 1205.4 Q2287.97 1198.27 2286.14 1194.73 Q2284.33 1191.16 2280.7 1191.16 M2280.7 1187.46 Q2286.51 1187.46 2289.57 1192.07 Q2292.64 1196.65 2292.64 1205.4 Q2292.64 1214.13 2289.57 1218.73 Q2286.51 1223.32 2280.7 1223.32 Q2274.89 1223.32 2271.81 1218.73 Q2268.76 1214.13 2268.76 1205.4 Q2268.76 1196.65 2271.81 1192.07 Q2274.89 1187.46 2280.7 1187.46 Z\" fill=\"#000000\" fill-rule=\"evenodd\" fill-opacity=\"1\" /><path clip-path=\"url(#clip970)\" d=\"M 0 0 M2297.71 1216.76 L2302.6 1216.76 L2302.6 1222.64 L2297.71 1222.64 L2297.71 1216.76 Z\" fill=\"#000000\" fill-rule=\"evenodd\" fill-opacity=\"1\" /><path clip-path=\"url(#clip970)\" d=\"M 0 0 M2308.48 1218.71 L2316.12 1218.71 L2316.12 1192.34 L2307.81 1194.01 L2307.81 1189.75 L2316.07 1188.08 L2320.75 1188.08 L2320.75 1218.71 L2328.39 1218.71 L2328.39 1222.64 L2308.48 1222.64 L2308.48 1218.71 Z\" fill=\"#000000\" fill-rule=\"evenodd\" fill-opacity=\"1\" /><path clip-path=\"url(#clip970)\" d=\"M 0 0 M2343.45 1191.16 Q2339.84 1191.16 2338.01 1194.73 Q2336.21 1198.27 2336.21 1205.4 Q2336.21 1212.5 2338.01 1216.07 Q2339.84 1219.61 2343.45 1219.61 Q2347.09 1219.61 2348.89 1216.07 Q2350.72 1212.5 2350.72 1205.4 Q2350.72 1198.27 2348.89 1194.73 Q2347.09 1191.16 2343.45 1191.16 M2343.45 1187.46 Q2349.26 1187.46 2352.32 1192.07 Q2355.4 1196.65 2355.4 1205.4 Q2355.4 1214.13 2352.32 1218.73 Q2349.26 1223.32 2343.45 1223.32 Q2337.64 1223.32 2334.57 1218.73 Q2331.51 1214.13 2331.51 1205.4 Q2331.51 1196.65 2334.57 1192.07 Q2337.64 1187.46 2343.45 1187.46 Z\" fill=\"#000000\" fill-rule=\"evenodd\" fill-opacity=\"1\" /><path clip-path=\"url(#clip970)\" d=\"M 0 0 M2359.29 1188.08 L2381.51 1188.08 L2381.51 1190.07 L2368.96 1222.64 L2364.08 1222.64 L2375.88 1192.02 L2359.29 1192.02 L2359.29 1188.08 Z\" fill=\"#000000\" fill-rule=\"evenodd\" fill-opacity=\"1\" /><path clip-path=\"url(#clip970)\" d=\"M 0 0 M2386.63 1188.08 L2404.98 1188.08 L2404.98 1192.02 L2390.91 1192.02 L2390.91 1200.49 Q2391.93 1200.14 2392.95 1199.98 Q2393.96 1199.8 2394.98 1199.8 Q2400.77 1199.8 2404.15 1202.97 Q2407.53 1206.14 2407.53 1211.56 Q2407.53 1217.13 2404.06 1220.24 Q2400.58 1223.32 2394.26 1223.32 Q2392.09 1223.32 2389.82 1222.94 Q2387.57 1222.57 2385.17 1221.83 L2385.17 1217.13 Q2387.25 1218.27 2389.47 1218.82 Q2391.7 1219.38 2394.17 1219.38 Q2398.18 1219.38 2400.51 1217.27 Q2402.85 1215.17 2402.85 1211.56 Q2402.85 1207.94 2400.51 1205.84 Q2398.18 1203.73 2394.17 1203.73 Q2392.3 1203.73 2390.42 1204.15 Q2388.57 1204.57 2386.63 1205.44 L2386.63 1188.08 Z\" fill=\"#000000\" fill-rule=\"evenodd\" fill-opacity=\"1\" /><path clip-path=\"url(#clip970)\" d=\"M 0 0 M2280.7 1021.92 Q2277.09 1021.92 2275.26 1025.49 Q2273.45 1029.03 2273.45 1036.16 Q2273.45 1043.26 2275.26 1046.83 Q2277.09 1050.37 2280.7 1050.37 Q2284.33 1050.37 2286.14 1046.83 Q2287.97 1043.26 2287.97 1036.16 Q2287.97 1029.03 2286.14 1025.49 Q2284.33 1021.92 2280.7 1021.92 M2280.7 1018.22 Q2286.51 1018.22 2289.57 1022.83 Q2292.64 1027.41 2292.64 1036.16 Q2292.64 1044.89 2289.57 1049.49 Q2286.51 1054.07 2280.7 1054.07 Q2274.89 1054.07 2271.81 1049.49 Q2268.76 1044.89 2268.76 1036.16 Q2268.76 1027.41 2271.81 1022.83 Q2274.89 1018.22 2280.7 1018.22 Z\" fill=\"#000000\" fill-rule=\"evenodd\" fill-opacity=\"1\" /><path clip-path=\"url(#clip970)\" d=\"M 0 0 M2297.71 1047.52 L2302.6 1047.52 L2302.6 1053.4 L2297.71 1053.4 L2297.71 1047.52 Z\" fill=\"#000000\" fill-rule=\"evenodd\" fill-opacity=\"1\" /><path clip-path=\"url(#clip970)\" d=\"M 0 0 M2308.48 1049.47 L2316.12 1049.47 L2316.12 1023.1 L2307.81 1024.77 L2307.81 1020.51 L2316.07 1018.84 L2320.75 1018.84 L2320.75 1049.47 L2328.39 1049.47 L2328.39 1053.4 L2308.48 1053.4 L2308.48 1049.47 Z\" fill=\"#000000\" fill-rule=\"evenodd\" fill-opacity=\"1\" /><path clip-path=\"url(#clip970)\" d=\"M 0 0 M2334.26 1049.47 L2341.9 1049.47 L2341.9 1023.1 L2333.59 1024.77 L2333.59 1020.51 L2341.86 1018.84 L2346.53 1018.84 L2346.53 1049.47 L2354.17 1049.47 L2354.17 1053.4 L2334.26 1053.4 L2334.26 1049.47 Z\" fill=\"#000000\" fill-rule=\"evenodd\" fill-opacity=\"1\" /><path clip-path=\"url(#clip970)\" d=\"M 0 0 M2369.24 1021.92 Q2365.63 1021.92 2363.8 1025.49 Q2362 1029.03 2362 1036.16 Q2362 1043.26 2363.8 1046.83 Q2365.63 1050.37 2369.24 1050.37 Q2372.88 1050.37 2374.68 1046.83 Q2376.51 1043.26 2376.51 1036.16 Q2376.51 1029.03 2374.68 1025.49 Q2372.88 1021.92 2369.24 1021.92 M2369.24 1018.22 Q2375.05 1018.22 2378.11 1022.83 Q2381.19 1027.41 2381.19 1036.16 Q2381.19 1044.89 2378.11 1049.49 Q2375.05 1054.07 2369.24 1054.07 Q2363.43 1054.07 2360.35 1049.49 Q2357.3 1044.89 2357.3 1036.16 Q2357.3 1027.41 2360.35 1022.83 Q2363.43 1018.22 2369.24 1018.22 Z\" fill=\"#000000\" fill-rule=\"evenodd\" fill-opacity=\"1\" /><path clip-path=\"url(#clip970)\" d=\"M 0 0 M2396.26 1021.92 Q2392.64 1021.92 2390.82 1025.49 Q2389.01 1029.03 2389.01 1036.16 Q2389.01 1043.26 2390.82 1046.83 Q2392.64 1050.37 2396.26 1050.37 Q2399.89 1050.37 2401.7 1046.83 Q2403.52 1043.26 2403.52 1036.16 Q2403.52 1029.03 2401.7 1025.49 Q2399.89 1021.92 2396.26 1021.92 M2396.26 1018.22 Q2402.07 1018.22 2405.12 1022.83 Q2408.2 1027.41 2408.2 1036.16 Q2408.2 1044.89 2405.12 1049.49 Q2402.07 1054.07 2396.26 1054.07 Q2390.45 1054.07 2387.37 1049.49 Q2384.31 1044.89 2384.31 1036.16 Q2384.31 1027.41 2387.37 1022.83 Q2390.45 1018.22 2396.26 1018.22 Z\" fill=\"#000000\" fill-rule=\"evenodd\" fill-opacity=\"1\" /><path clip-path=\"url(#clip970)\" d=\"M 0 0 M2280.7 852.682 Q2277.09 852.682 2275.26 856.247 Q2273.45 859.789 2273.45 866.918 Q2273.45 874.025 2275.26 877.589 Q2277.09 881.131 2280.7 881.131 Q2284.33 881.131 2286.14 877.589 Q2287.97 874.025 2287.97 866.918 Q2287.97 859.789 2286.14 856.247 Q2284.33 852.682 2280.7 852.682 M2280.7 848.979 Q2286.51 848.979 2289.57 853.585 Q2292.64 858.168 2292.64 866.918 Q2292.64 875.645 2289.57 880.252 Q2286.51 884.835 2280.7 884.835 Q2274.89 884.835 2271.81 880.252 Q2268.76 875.645 2268.76 866.918 Q2268.76 858.168 2271.81 853.585 Q2274.89 848.979 2280.7 848.979 Z\" fill=\"#000000\" fill-rule=\"evenodd\" fill-opacity=\"1\" /><path clip-path=\"url(#clip970)\" d=\"M 0 0 M2297.71 878.284 L2302.6 878.284 L2302.6 884.164 L2297.71 884.164 L2297.71 878.284 Z\" fill=\"#000000\" fill-rule=\"evenodd\" fill-opacity=\"1\" /><path clip-path=\"url(#clip970)\" d=\"M 0 0 M2308.48 880.228 L2316.12 880.228 L2316.12 853.863 L2307.81 855.529 L2307.81 851.27 L2316.07 849.604 L2320.75 849.604 L2320.75 880.228 L2328.39 880.228 L2328.39 884.164 L2308.48 884.164 L2308.48 880.228 Z\" fill=\"#000000\" fill-rule=\"evenodd\" fill-opacity=\"1\" /><path clip-path=\"url(#clip970)\" d=\"M 0 0 M2334.26 880.228 L2341.9 880.228 L2341.9 853.863 L2333.59 855.529 L2333.59 851.27 L2341.86 849.604 L2346.53 849.604 L2346.53 880.228 L2354.17 880.228 L2354.17 884.164 L2334.26 884.164 L2334.26 880.228 Z\" fill=\"#000000\" fill-rule=\"evenodd\" fill-opacity=\"1\" /><path clip-path=\"url(#clip970)\" d=\"M 0 0 M2363.27 880.228 L2379.59 880.228 L2379.59 884.164 L2357.64 884.164 L2357.64 880.228 Q2360.31 877.474 2364.89 872.844 Q2369.5 868.191 2370.68 866.849 Q2372.92 864.326 2373.8 862.59 Q2374.7 860.83 2374.7 859.141 Q2374.7 856.386 2372.76 854.65 Q2370.84 852.914 2367.74 852.914 Q2365.54 852.914 2363.08 853.678 Q2360.65 854.441 2357.88 855.992 L2357.88 851.27 Q2360.7 850.136 2363.15 849.557 Q2365.61 848.979 2367.64 848.979 Q2373.01 848.979 2376.21 851.664 Q2379.4 854.349 2379.4 858.84 Q2379.4 860.969 2378.59 862.89 Q2377.81 864.789 2375.7 867.381 Q2375.12 868.052 2372.02 871.27 Q2368.92 874.464 2363.27 880.228 Z\" fill=\"#000000\" fill-rule=\"evenodd\" fill-opacity=\"1\" /><path clip-path=\"url(#clip970)\" d=\"M 0 0 M2384.7 849.604 L2403.06 849.604 L2403.06 853.539 L2388.99 853.539 L2388.99 862.011 Q2390.01 861.664 2391.02 861.502 Q2392.04 861.316 2393.06 861.316 Q2398.85 861.316 2402.23 864.488 Q2405.61 867.659 2405.61 873.076 Q2405.61 878.654 2402.13 881.756 Q2398.66 884.835 2392.34 884.835 Q2390.17 884.835 2387.9 884.464 Q2385.65 884.094 2383.25 883.353 L2383.25 878.654 Q2385.33 879.789 2387.55 880.344 Q2389.77 880.9 2392.25 880.9 Q2396.26 880.9 2398.59 878.793 Q2400.93 876.687 2400.93 873.076 Q2400.93 869.465 2398.59 867.358 Q2396.26 865.252 2392.25 865.252 Q2390.38 865.252 2388.5 865.668 Q2386.65 866.085 2384.7 866.965 L2384.7 849.604 Z\" fill=\"#000000\" fill-rule=\"evenodd\" fill-opacity=\"1\" /><path clip-path=\"url(#clip970)\" d=\"M 0 0 M2280.7 683.442 Q2277.09 683.442 2275.26 687.007 Q2273.45 690.549 2273.45 697.678 Q2273.45 704.785 2275.26 708.349 Q2277.09 711.891 2280.7 711.891 Q2284.33 711.891 2286.14 708.349 Q2287.97 704.785 2287.97 697.678 Q2287.97 690.549 2286.14 687.007 Q2284.33 683.442 2280.7 683.442 M2280.7 679.738 Q2286.51 679.738 2289.57 684.345 Q2292.64 688.928 2292.64 697.678 Q2292.64 706.405 2289.57 711.011 Q2286.51 715.595 2280.7 715.595 Q2274.89 715.595 2271.81 711.011 Q2268.76 706.405 2268.76 697.678 Q2268.76 688.928 2271.81 684.345 Q2274.89 679.738 2280.7 679.738 Z\" fill=\"#000000\" fill-rule=\"evenodd\" fill-opacity=\"1\" /><path clip-path=\"url(#clip970)\" d=\"M 0 0 M2297.71 709.044 L2302.6 709.044 L2302.6 714.923 L2297.71 714.923 L2297.71 709.044 Z\" fill=\"#000000\" fill-rule=\"evenodd\" fill-opacity=\"1\" /><path clip-path=\"url(#clip970)\" d=\"M 0 0 M2308.48 710.988 L2316.12 710.988 L2316.12 684.623 L2307.81 686.289 L2307.81 682.03 L2316.07 680.363 L2320.75 680.363 L2320.75 710.988 L2328.39 710.988 L2328.39 714.923 L2308.48 714.923 L2308.48 710.988 Z\" fill=\"#000000\" fill-rule=\"evenodd\" fill-opacity=\"1\" /><path clip-path=\"url(#clip970)\" d=\"M 0 0 M2334.26 710.988 L2341.9 710.988 L2341.9 684.623 L2333.59 686.289 L2333.59 682.03 L2341.86 680.363 L2346.53 680.363 L2346.53 710.988 L2354.17 710.988 L2354.17 714.923 L2334.26 714.923 L2334.26 710.988 Z\" fill=\"#000000\" fill-rule=\"evenodd\" fill-opacity=\"1\" /><path clip-path=\"url(#clip970)\" d=\"M 0 0 M2359.29 680.363 L2377.64 680.363 L2377.64 684.299 L2363.57 684.299 L2363.57 692.771 Q2364.59 692.424 2365.61 692.262 Q2366.63 692.076 2367.64 692.076 Q2373.43 692.076 2376.81 695.248 Q2380.19 698.419 2380.19 703.836 Q2380.19 709.414 2376.72 712.516 Q2373.25 715.595 2366.93 715.595 Q2364.75 715.595 2362.48 715.224 Q2360.24 714.854 2357.83 714.113 L2357.83 709.414 Q2359.91 710.548 2362.14 711.104 Q2364.36 711.66 2366.83 711.66 Q2370.84 711.66 2373.18 709.553 Q2375.51 707.447 2375.51 703.836 Q2375.51 700.224 2373.18 698.118 Q2370.84 696.011 2366.83 696.011 Q2364.96 696.011 2363.08 696.428 Q2361.23 696.845 2359.29 697.724 L2359.29 680.363 Z\" fill=\"#000000\" fill-rule=\"evenodd\" fill-opacity=\"1\" /><path clip-path=\"url(#clip970)\" d=\"M 0 0 M2395.26 683.442 Q2391.65 683.442 2389.82 687.007 Q2388.01 690.549 2388.01 697.678 Q2388.01 704.785 2389.82 708.349 Q2391.65 711.891 2395.26 711.891 Q2398.89 711.891 2400.7 708.349 Q2402.53 704.785 2402.53 697.678 Q2402.53 690.549 2400.7 687.007 Q2398.89 683.442 2395.26 683.442 M2395.26 679.738 Q2401.07 679.738 2404.13 684.345 Q2407.2 688.928 2407.2 697.678 Q2407.2 706.405 2404.13 711.011 Q2401.07 715.595 2395.26 715.595 Q2389.45 715.595 2386.37 711.011 Q2383.32 706.405 2383.32 697.678 Q2383.32 688.928 2386.37 684.345 Q2389.45 679.738 2395.26 679.738 Z\" fill=\"#000000\" fill-rule=\"evenodd\" fill-opacity=\"1\" /><path clip-path=\"url(#clip970)\" d=\"M 0 0 M2280.7 514.202 Q2277.09 514.202 2275.26 517.767 Q2273.45 521.308 2273.45 528.438 Q2273.45 535.544 2275.26 539.109 Q2277.09 542.651 2280.7 542.651 Q2284.33 542.651 2286.14 539.109 Q2287.97 535.544 2287.97 528.438 Q2287.97 521.308 2286.14 517.767 Q2284.33 514.202 2280.7 514.202 M2280.7 510.498 Q2286.51 510.498 2289.57 515.105 Q2292.64 519.688 2292.64 528.438 Q2292.64 537.165 2289.57 541.771 Q2286.51 546.355 2280.7 546.355 Q2274.89 546.355 2271.81 541.771 Q2268.76 537.165 2268.76 528.438 Q2268.76 519.688 2271.81 515.105 Q2274.89 510.498 2280.7 510.498 Z\" fill=\"#000000\" fill-rule=\"evenodd\" fill-opacity=\"1\" /><path clip-path=\"url(#clip970)\" d=\"M 0 0 M2297.71 539.804 L2302.6 539.804 L2302.6 545.683 L2297.71 545.683 L2297.71 539.804 Z\" fill=\"#000000\" fill-rule=\"evenodd\" fill-opacity=\"1\" /><path clip-path=\"url(#clip970)\" d=\"M 0 0 M2308.48 541.748 L2316.12 541.748 L2316.12 515.383 L2307.81 517.049 L2307.81 512.79 L2316.07 511.123 L2320.75 511.123 L2320.75 541.748 L2328.39 541.748 L2328.39 545.683 L2308.48 545.683 L2308.48 541.748 Z\" fill=\"#000000\" fill-rule=\"evenodd\" fill-opacity=\"1\" /><path clip-path=\"url(#clip970)\" d=\"M 0 0 M2334.26 541.748 L2341.9 541.748 L2341.9 515.383 L2333.59 517.049 L2333.59 512.79 L2341.86 511.123 L2346.53 511.123 L2346.53 541.748 L2354.17 541.748 L2354.17 545.683 L2334.26 545.683 L2334.26 541.748 Z\" fill=\"#000000\" fill-rule=\"evenodd\" fill-opacity=\"1\" /><path clip-path=\"url(#clip970)\" d=\"M 0 0 M2358.06 511.123 L2380.28 511.123 L2380.28 513.114 L2367.74 545.683 L2362.85 545.683 L2374.66 515.058 L2358.06 515.058 L2358.06 511.123 Z\" fill=\"#000000\" fill-rule=\"evenodd\" fill-opacity=\"1\" /><path clip-path=\"url(#clip970)\" d=\"M 0 0 M2385.4 511.123 L2403.76 511.123 L2403.76 515.058 L2389.68 515.058 L2389.68 523.531 Q2390.7 523.183 2391.72 523.021 Q2392.74 522.836 2393.76 522.836 Q2399.54 522.836 2402.92 526.008 Q2406.3 529.179 2406.3 534.595 Q2406.3 540.174 2402.83 543.276 Q2399.36 546.355 2393.04 546.355 Q2390.86 546.355 2388.59 545.984 Q2386.35 545.614 2383.94 544.873 L2383.94 540.174 Q2386.02 541.308 2388.25 541.864 Q2390.47 542.419 2392.95 542.419 Q2396.95 542.419 2399.29 540.313 Q2401.63 538.207 2401.63 534.595 Q2401.63 530.984 2399.29 528.878 Q2396.95 526.771 2392.95 526.771 Q2391.07 526.771 2389.2 527.188 Q2387.34 527.605 2385.4 528.484 L2385.4 511.123 Z\" fill=\"#000000\" fill-rule=\"evenodd\" fill-opacity=\"1\" /><path clip-path=\"url(#clip970)\" d=\"M 0 0 M2280.7 344.962 Q2277.09 344.962 2275.26 348.527 Q2273.45 352.068 2273.45 359.198 Q2273.45 366.304 2275.26 369.869 Q2277.09 373.411 2280.7 373.411 Q2284.33 373.411 2286.14 369.869 Q2287.97 366.304 2287.97 359.198 Q2287.97 352.068 2286.14 348.527 Q2284.33 344.962 2280.7 344.962 M2280.7 341.258 Q2286.51 341.258 2289.57 345.865 Q2292.64 350.448 2292.64 359.198 Q2292.64 367.925 2289.57 372.531 Q2286.51 377.115 2280.7 377.115 Q2274.89 377.115 2271.81 372.531 Q2268.76 367.925 2268.76 359.198 Q2268.76 350.448 2271.81 345.865 Q2274.89 341.258 2280.7 341.258 Z\" fill=\"#000000\" fill-rule=\"evenodd\" fill-opacity=\"1\" /><path clip-path=\"url(#clip970)\" d=\"M 0 0 M2297.71 370.564 L2302.6 370.564 L2302.6 376.443 L2297.71 376.443 L2297.71 370.564 Z\" fill=\"#000000\" fill-rule=\"evenodd\" fill-opacity=\"1\" /><path clip-path=\"url(#clip970)\" d=\"M 0 0 M2308.48 372.508 L2316.12 372.508 L2316.12 346.142 L2307.81 347.809 L2307.81 343.55 L2316.07 341.883 L2320.75 341.883 L2320.75 372.508 L2328.39 372.508 L2328.39 376.443 L2308.48 376.443 L2308.48 372.508 Z\" fill=\"#000000\" fill-rule=\"evenodd\" fill-opacity=\"1\" /><path clip-path=\"url(#clip970)\" d=\"M 0 0 M2337.48 372.508 L2353.8 372.508 L2353.8 376.443 L2331.86 376.443 L2331.86 372.508 Q2334.52 369.753 2339.1 365.124 Q2343.71 360.471 2344.89 359.129 Q2347.14 356.605 2348.01 354.869 Q2348.92 353.11 2348.92 351.42 Q2348.92 348.666 2346.97 346.929 Q2345.05 345.193 2341.95 345.193 Q2339.75 345.193 2337.3 345.957 Q2334.87 346.721 2332.09 348.272 L2332.09 343.55 Q2334.91 342.416 2337.37 341.837 Q2339.82 341.258 2341.86 341.258 Q2347.23 341.258 2350.42 343.943 Q2353.62 346.629 2353.62 351.119 Q2353.62 353.249 2352.81 355.17 Q2352.02 357.068 2349.91 359.661 Q2349.33 360.332 2346.23 363.55 Q2343.13 366.744 2337.48 372.508 Z\" fill=\"#000000\" fill-rule=\"evenodd\" fill-opacity=\"1\" /><path clip-path=\"url(#clip970)\" d=\"M 0 0 M2368.87 344.962 Q2365.26 344.962 2363.43 348.527 Q2361.63 352.068 2361.63 359.198 Q2361.63 366.304 2363.43 369.869 Q2365.26 373.411 2368.87 373.411 Q2372.51 373.411 2374.31 369.869 Q2376.14 366.304 2376.14 359.198 Q2376.14 352.068 2374.31 348.527 Q2372.51 344.962 2368.87 344.962 M2368.87 341.258 Q2374.68 341.258 2377.74 345.865 Q2380.82 350.448 2380.82 359.198 Q2380.82 367.925 2377.74 372.531 Q2374.68 377.115 2368.87 377.115 Q2363.06 377.115 2359.98 372.531 Q2356.93 367.925 2356.93 359.198 Q2356.93 350.448 2359.98 345.865 Q2363.06 341.258 2368.87 341.258 Z\" fill=\"#000000\" fill-rule=\"evenodd\" fill-opacity=\"1\" /><path clip-path=\"url(#clip970)\" d=\"M 0 0 M2395.88 344.962 Q2392.27 344.962 2390.45 348.527 Q2388.64 352.068 2388.64 359.198 Q2388.64 366.304 2390.45 369.869 Q2392.27 373.411 2395.88 373.411 Q2399.52 373.411 2401.32 369.869 Q2403.15 366.304 2403.15 359.198 Q2403.15 352.068 2401.32 348.527 Q2399.52 344.962 2395.88 344.962 M2395.88 341.258 Q2401.7 341.258 2404.75 345.865 Q2407.83 350.448 2407.83 359.198 Q2407.83 367.925 2404.75 372.531 Q2401.7 377.115 2395.88 377.115 Q2390.07 377.115 2387 372.531 Q2383.94 367.925 2383.94 359.198 Q2383.94 350.448 2387 345.865 Q2390.07 341.258 2395.88 341.258 Z\" fill=\"#000000\" fill-rule=\"evenodd\" fill-opacity=\"1\" /><path clip-path=\"url(#clip970)\" d=\"M 0 0 M2280.7 175.722 Q2277.09 175.722 2275.26 179.287 Q2273.45 182.828 2273.45 189.958 Q2273.45 197.064 2275.26 200.629 Q2277.09 204.171 2280.7 204.171 Q2284.33 204.171 2286.14 200.629 Q2287.97 197.064 2287.97 189.958 Q2287.97 182.828 2286.14 179.287 Q2284.33 175.722 2280.7 175.722 M2280.7 172.018 Q2286.51 172.018 2289.57 176.625 Q2292.64 181.208 2292.64 189.958 Q2292.64 198.685 2289.57 203.291 Q2286.51 207.874 2280.7 207.874 Q2274.89 207.874 2271.81 203.291 Q2268.76 198.685 2268.76 189.958 Q2268.76 181.208 2271.81 176.625 Q2274.89 172.018 2280.7 172.018 Z\" fill=\"#000000\" fill-rule=\"evenodd\" fill-opacity=\"1\" /><path clip-path=\"url(#clip970)\" d=\"M 0 0 M2297.71 201.324 L2302.6 201.324 L2302.6 207.203 L2297.71 207.203 L2297.71 201.324 Z\" fill=\"#000000\" fill-rule=\"evenodd\" fill-opacity=\"1\" /><path clip-path=\"url(#clip970)\" d=\"M 0 0 M2308.48 203.268 L2316.12 203.268 L2316.12 176.902 L2307.81 178.569 L2307.81 174.31 L2316.07 172.643 L2320.75 172.643 L2320.75 203.268 L2328.39 203.268 L2328.39 207.203 L2308.48 207.203 L2308.48 203.268 Z\" fill=\"#000000\" fill-rule=\"evenodd\" fill-opacity=\"1\" /><path clip-path=\"url(#clip970)\" d=\"M 0 0 M2337.48 203.268 L2353.8 203.268 L2353.8 207.203 L2331.86 207.203 L2331.86 203.268 Q2334.52 200.513 2339.1 195.884 Q2343.71 191.231 2344.89 189.888 Q2347.14 187.365 2348.01 185.629 Q2348.92 183.87 2348.92 182.18 Q2348.92 179.426 2346.97 177.689 Q2345.05 175.953 2341.95 175.953 Q2339.75 175.953 2337.3 176.717 Q2334.87 177.481 2332.09 179.032 L2332.09 174.31 Q2334.91 173.176 2337.37 172.597 Q2339.82 172.018 2341.86 172.018 Q2347.23 172.018 2350.42 174.703 Q2353.62 177.388 2353.62 181.879 Q2353.62 184.009 2352.81 185.93 Q2352.02 187.828 2349.91 190.421 Q2349.33 191.092 2346.23 194.31 Q2343.13 197.504 2337.48 203.268 Z\" fill=\"#000000\" fill-rule=\"evenodd\" fill-opacity=\"1\" /><path clip-path=\"url(#clip970)\" d=\"M 0 0 M2362.9 203.268 L2379.22 203.268 L2379.22 207.203 L2357.27 207.203 L2357.27 203.268 Q2359.94 200.513 2364.52 195.884 Q2369.13 191.231 2370.31 189.888 Q2372.55 187.365 2373.43 185.629 Q2374.33 183.87 2374.33 182.18 Q2374.33 179.426 2372.39 177.689 Q2370.47 175.953 2367.37 175.953 Q2365.17 175.953 2362.71 176.717 Q2360.28 177.481 2357.51 179.032 L2357.51 174.31 Q2360.33 173.176 2362.78 172.597 Q2365.24 172.018 2367.27 172.018 Q2372.64 172.018 2375.84 174.703 Q2379.03 177.388 2379.03 181.879 Q2379.03 184.009 2378.22 185.93 Q2377.44 187.828 2375.33 190.421 Q2374.75 191.092 2371.65 194.31 Q2368.55 197.504 2362.9 203.268 Z\" fill=\"#000000\" fill-rule=\"evenodd\" fill-opacity=\"1\" /><path clip-path=\"url(#clip970)\" d=\"M 0 0 M2384.33 172.643 L2402.69 172.643 L2402.69 176.578 L2388.62 176.578 L2388.62 185.05 Q2389.63 184.703 2390.65 184.541 Q2391.67 184.356 2392.69 184.356 Q2398.48 184.356 2401.86 187.527 Q2405.24 190.699 2405.24 196.115 Q2405.24 201.694 2401.76 204.796 Q2398.29 207.874 2391.97 207.874 Q2389.8 207.874 2387.53 207.504 Q2385.28 207.134 2382.88 206.393 L2382.88 201.694 Q2384.96 202.828 2387.18 203.384 Q2389.4 203.939 2391.88 203.939 Q2395.88 203.939 2398.22 201.833 Q2400.56 199.726 2400.56 196.115 Q2400.56 192.504 2398.22 190.398 Q2395.88 188.291 2391.88 188.291 Q2390.01 188.291 2388.13 188.708 Q2386.28 189.125 2384.33 190.004 L2384.33 172.643 Z\" fill=\"#000000\" fill-rule=\"evenodd\" fill-opacity=\"1\" /><polyline clip-path=\"url(#clip970)\" style=\"stroke:#000000; stroke-width:4; stroke-opacity:1; fill:none\" points=\"\n",
       "  2232.76,1423.18 2232.76,1378.23 2256.76,1378.23 2232.76,1378.23 2232.76,1208.99 2256.76,1208.99 2232.76,1208.99 2232.76,1039.75 2256.76,1039.75 2232.76,1039.75 \n",
       "  2232.76,870.512 2256.76,870.512 2232.76,870.512 2232.76,701.272 2256.76,701.272 2232.76,701.272 2232.76,532.032 2256.76,532.032 2232.76,532.032 2232.76,362.792 \n",
       "  2256.76,362.792 2232.76,362.792 2232.76,193.552 2256.76,193.552 2232.76,193.552 2232.76,47.2441 \n",
       "  \"/>\n",
       "</svg>\n"
      ]
     },
     "execution_count": 213,
     "metadata": {},
     "output_type": "execute_result"
    }
   ],
   "source": [
    "plot(self_tuning_boost)"
   ]
  },
  {
   "cell_type": "code",
   "execution_count": 214,
   "metadata": {},
   "outputs": [
    {
     "data": {
      "text/plain": [
       "AdaBoostClassifier(\n",
       "    base_estimator = nothing,\n",
       "    n_estimators = 116,\n",
       "    learning_rate = 0.6366666666666667,\n",
       "    algorithm = \"SAMME.R\",\n",
       "    random_state = 123)\u001b[34m @781\u001b[39m"
      ]
     },
     "execution_count": 214,
     "metadata": {},
     "output_type": "execute_result"
    }
   ],
   "source": [
    "best = fitted_params(self_tuning_boost)\n",
    "best.best_model"
   ]
  },
  {
   "cell_type": "code",
   "execution_count": 215,
   "metadata": {},
   "outputs": [
    {
     "data": {
      "text/plain": [
       "0.10434"
      ]
     },
     "execution_count": 215,
     "metadata": {},
     "output_type": "execute_result"
    }
   ],
   "source": [
    "best_loss = round(z.report.best_result.measurement[1],digits=5)"
   ]
  },
  {
   "cell_type": "code",
   "execution_count": 216,
   "metadata": {},
   "outputs": [
    {
     "data": {
      "text/plain": [
       "0.6366666666666667"
      ]
     },
     "execution_count": 216,
     "metadata": {},
     "output_type": "execute_result"
    }
   ],
   "source": [
    "best_n = best.best_model.n_estimators\n",
    "best_lr = best.best_model.learning_rate"
   ]
  },
  {
   "cell_type": "code",
   "execution_count": 217,
   "metadata": {},
   "outputs": [],
   "source": [
    "fn = \"Figures/Boost_MCC\"\n",
    "png(replace(fn,'.' => ','))"
   ]
  },
  {
   "cell_type": "markdown",
   "metadata": {},
   "source": [
    "### Learning Curves"
   ]
  },
  {
   "cell_type": "code",
   "execution_count": 218,
   "metadata": {
    "scrolled": true
   },
   "outputs": [
    {
     "name": "stdout",
     "output_type": "stream",
     "text": [
      "(d, train_metric, valid_metric) = (10, 1.0, 0.6283783783783784)\n",
      "(d, train_metric, valid_metric) = (15, 1.0, 0.6283783783783784)\n"
     ]
    },
    {
     "name": "stderr",
     "output_type": "stream",
     "text": [
      "┌ Warning: The scitype of `X`, in `machine(model, X, ...)` is incompatible with `model=\u001b[34mAdaBoostClassifier @781\u001b[39m`:\n",
      "│ scitype(X) = Table{Union{AbstractArray{Continuous,1}, AbstractArray{Count,1}}}\n",
      "│ input_scitype(model) = Table{var\"#s44\"} where var\"#s44\"<:(AbstractArray{var\"#s13\",1} where var\"#s13\"<:Continuous).\n",
      "└ @ MLJBase /home/andrew/.julia/packages/MLJBase/uKzAz/src/machines.jl:77\n",
      "┌ Warning: The scitype of `X`, in `machine(model, X, ...)` is incompatible with `model=\u001b[34mAdaBoostClassifier @781\u001b[39m`:\n",
      "│ scitype(X) = Table{Union{AbstractArray{Continuous,1}, AbstractArray{Count,1}}}\n",
      "│ input_scitype(model) = Table{var\"#s44\"} where var\"#s44\"<:(AbstractArray{var\"#s13\",1} where var\"#s13\"<:Continuous).\n",
      "└ @ MLJBase /home/andrew/.julia/packages/MLJBase/uKzAz/src/machines.jl:77\n",
      "┌ Warning: The scitype of `X`, in `machine(model, X, ...)` is incompatible with `model=\u001b[34mAdaBoostClassifier @781\u001b[39m`:\n",
      "│ scitype(X) = Table{Union{AbstractArray{Continuous,1}, AbstractArray{Count,1}}}\n",
      "│ input_scitype(model) = Table{var\"#s44\"} where var\"#s44\"<:(AbstractArray{var\"#s13\",1} where var\"#s13\"<:Continuous).\n",
      "└ @ MLJBase /home/andrew/.julia/packages/MLJBase/uKzAz/src/machines.jl:77\n"
     ]
    },
    {
     "name": "stdout",
     "output_type": "stream",
     "text": [
      "(d, train_metric, valid_metric) = (20, 1.0, 0.75)\n"
     ]
    },
    {
     "name": "stderr",
     "output_type": "stream",
     "text": [
      "┌ Warning: The scitype of `X`, in `machine(model, X, ...)` is incompatible with `model=\u001b[34mAdaBoostClassifier @781\u001b[39m`:\n",
      "│ scitype(X) = Table{Union{AbstractArray{Continuous,1}, AbstractArray{Count,1}}}\n",
      "│ input_scitype(model) = Table{var\"#s44\"} where var\"#s44\"<:(AbstractArray{var\"#s13\",1} where var\"#s13\"<:Continuous).\n",
      "└ @ MLJBase /home/andrew/.julia/packages/MLJBase/uKzAz/src/machines.jl:77\n"
     ]
    },
    {
     "name": "stdout",
     "output_type": "stream",
     "text": [
      "(d, train_metric, valid_metric) = (25, 1.0, 0.8108108108108109)\n"
     ]
    },
    {
     "name": "stderr",
     "output_type": "stream",
     "text": [
      "┌ Warning: The scitype of `X`, in `machine(model, X, ...)` is incompatible with `model=\u001b[34mAdaBoostClassifier @781\u001b[39m`:\n",
      "│ scitype(X) = Table{Union{AbstractArray{Continuous,1}, AbstractArray{Count,1}}}\n",
      "│ input_scitype(model) = Table{var\"#s44\"} where var\"#s44\"<:(AbstractArray{var\"#s13\",1} where var\"#s13\"<:Continuous).\n",
      "└ @ MLJBase /home/andrew/.julia/packages/MLJBase/uKzAz/src/machines.jl:77\n"
     ]
    },
    {
     "name": "stdout",
     "output_type": "stream",
     "text": [
      "(d, train_metric, valid_metric) = (30, 1.0, 0.7702702702702703)\n"
     ]
    },
    {
     "name": "stderr",
     "output_type": "stream",
     "text": [
      "┌ Warning: The scitype of `X`, in `machine(model, X, ...)` is incompatible with `model=\u001b[34mAdaBoostClassifier @781\u001b[39m`:\n",
      "│ scitype(X) = Table{Union{AbstractArray{Continuous,1}, AbstractArray{Count,1}}}\n",
      "│ input_scitype(model) = Table{var\"#s44\"} where var\"#s44\"<:(AbstractArray{var\"#s13\",1} where var\"#s13\"<:Continuous).\n",
      "└ @ MLJBase /home/andrew/.julia/packages/MLJBase/uKzAz/src/machines.jl:77\n"
     ]
    },
    {
     "name": "stdout",
     "output_type": "stream",
     "text": [
      "(d, train_metric, valid_metric) = (35, 1.0, 0.8175675675675675)\n"
     ]
    },
    {
     "name": "stderr",
     "output_type": "stream",
     "text": [
      "┌ Warning: The scitype of `X`, in `machine(model, X, ...)` is incompatible with `model=\u001b[34mAdaBoostClassifier @781\u001b[39m`:\n",
      "│ scitype(X) = Table{Union{AbstractArray{Continuous,1}, AbstractArray{Count,1}}}\n",
      "│ input_scitype(model) = Table{var\"#s44\"} where var\"#s44\"<:(AbstractArray{var\"#s13\",1} where var\"#s13\"<:Continuous).\n",
      "└ @ MLJBase /home/andrew/.julia/packages/MLJBase/uKzAz/src/machines.jl:77\n"
     ]
    },
    {
     "name": "stdout",
     "output_type": "stream",
     "text": [
      "(d, train_metric, valid_metric) = (40, 1.0, 0.7364864864864865)\n"
     ]
    },
    {
     "name": "stderr",
     "output_type": "stream",
     "text": [
      "┌ Warning: The scitype of `X`, in `machine(model, X, ...)` is incompatible with `model=\u001b[34mAdaBoostClassifier @781\u001b[39m`:\n",
      "│ scitype(X) = Table{Union{AbstractArray{Continuous,1}, AbstractArray{Count,1}}}\n",
      "│ input_scitype(model) = Table{var\"#s44\"} where var\"#s44\"<:(AbstractArray{var\"#s13\",1} where var\"#s13\"<:Continuous).\n",
      "└ @ MLJBase /home/andrew/.julia/packages/MLJBase/uKzAz/src/machines.jl:77\n"
     ]
    },
    {
     "name": "stdout",
     "output_type": "stream",
     "text": [
      "(d, train_metric, valid_metric) = (45, 1.0, 0.7094594594594594)\n"
     ]
    },
    {
     "name": "stderr",
     "output_type": "stream",
     "text": [
      "┌ Warning: The scitype of `X`, in `machine(model, X, ...)` is incompatible with `model=\u001b[34mAdaBoostClassifier @781\u001b[39m`:\n",
      "│ scitype(X) = Table{Union{AbstractArray{Continuous,1}, AbstractArray{Count,1}}}\n",
      "│ input_scitype(model) = Table{var\"#s44\"} where var\"#s44\"<:(AbstractArray{var\"#s13\",1} where var\"#s13\"<:Continuous).\n",
      "└ @ MLJBase /home/andrew/.julia/packages/MLJBase/uKzAz/src/machines.jl:77\n"
     ]
    },
    {
     "name": "stdout",
     "output_type": "stream",
     "text": [
      "(d, train_metric, valid_metric) = (50, 1.0, 0.777027027027027)\n"
     ]
    },
    {
     "name": "stderr",
     "output_type": "stream",
     "text": [
      "┌ Warning: The scitype of `X`, in `machine(model, X, ...)` is incompatible with `model=\u001b[34mAdaBoostClassifier @781\u001b[39m`:\n",
      "│ scitype(X) = Table{Union{AbstractArray{Continuous,1}, AbstractArray{Count,1}}}\n",
      "│ input_scitype(model) = Table{var\"#s44\"} where var\"#s44\"<:(AbstractArray{var\"#s13\",1} where var\"#s13\"<:Continuous).\n",
      "└ @ MLJBase /home/andrew/.julia/packages/MLJBase/uKzAz/src/machines.jl:77\n"
     ]
    },
    {
     "name": "stdout",
     "output_type": "stream",
     "text": [
      "(d, train_metric, valid_metric) = (55, 1.0, 0.8108108108108109)\n"
     ]
    },
    {
     "name": "stderr",
     "output_type": "stream",
     "text": [
      "┌ Warning: The scitype of `X`, in `machine(model, X, ...)` is incompatible with `model=\u001b[34mAdaBoostClassifier @781\u001b[39m`:\n",
      "│ scitype(X) = Table{Union{AbstractArray{Continuous,1}, AbstractArray{Count,1}}}\n",
      "│ input_scitype(model) = Table{var\"#s44\"} where var\"#s44\"<:(AbstractArray{var\"#s13\",1} where var\"#s13\"<:Continuous).\n",
      "└ @ MLJBase /home/andrew/.julia/packages/MLJBase/uKzAz/src/machines.jl:77\n"
     ]
    },
    {
     "name": "stdout",
     "output_type": "stream",
     "text": [
      "(d, train_metric, valid_metric) = (60, 1.0, 0.75)\n"
     ]
    },
    {
     "name": "stderr",
     "output_type": "stream",
     "text": [
      "┌ Warning: The scitype of `X`, in `machine(model, X, ...)` is incompatible with `model=\u001b[34mAdaBoostClassifier @781\u001b[39m`:\n",
      "│ scitype(X) = Table{Union{AbstractArray{Continuous,1}, AbstractArray{Count,1}}}\n",
      "│ input_scitype(model) = Table{var\"#s44\"} where var\"#s44\"<:(AbstractArray{var\"#s13\",1} where var\"#s13\"<:Continuous).\n",
      "└ @ MLJBase /home/andrew/.julia/packages/MLJBase/uKzAz/src/machines.jl:77\n"
     ]
    },
    {
     "name": "stdout",
     "output_type": "stream",
     "text": [
      "(d, train_metric, valid_metric) = (65, 1.0, 0.75)\n"
     ]
    },
    {
     "name": "stderr",
     "output_type": "stream",
     "text": [
      "┌ Warning: The scitype of `X`, in `machine(model, X, ...)` is incompatible with `model=\u001b[34mAdaBoostClassifier @781\u001b[39m`:\n",
      "│ scitype(X) = Table{Union{AbstractArray{Continuous,1}, AbstractArray{Count,1}}}\n",
      "│ input_scitype(model) = Table{var\"#s44\"} where var\"#s44\"<:(AbstractArray{var\"#s13\",1} where var\"#s13\"<:Continuous).\n",
      "└ @ MLJBase /home/andrew/.julia/packages/MLJBase/uKzAz/src/machines.jl:77\n"
     ]
    },
    {
     "name": "stdout",
     "output_type": "stream",
     "text": [
      "(d, train_metric, valid_metric) = (70, 1.0, 0.75)\n"
     ]
    },
    {
     "name": "stderr",
     "output_type": "stream",
     "text": [
      "┌ Warning: The scitype of `X`, in `machine(model, X, ...)` is incompatible with `model=\u001b[34mAdaBoostClassifier @781\u001b[39m`:\n",
      "│ scitype(X) = Table{Union{AbstractArray{Continuous,1}, AbstractArray{Count,1}}}\n",
      "│ input_scitype(model) = Table{var\"#s44\"} where var\"#s44\"<:(AbstractArray{var\"#s13\",1} where var\"#s13\"<:Continuous).\n",
      "└ @ MLJBase /home/andrew/.julia/packages/MLJBase/uKzAz/src/machines.jl:77\n"
     ]
    },
    {
     "name": "stdout",
     "output_type": "stream",
     "text": [
      "(d, train_metric, valid_metric) = (75, 1.0, 0.777027027027027)\n"
     ]
    },
    {
     "name": "stderr",
     "output_type": "stream",
     "text": [
      "┌ Warning: The scitype of `X`, in `machine(model, X, ...)` is incompatible with `model=\u001b[34mAdaBoostClassifier @781\u001b[39m`:\n",
      "│ scitype(X) = Table{Union{AbstractArray{Continuous,1}, AbstractArray{Count,1}}}\n",
      "│ input_scitype(model) = Table{var\"#s44\"} where var\"#s44\"<:(AbstractArray{var\"#s13\",1} where var\"#s13\"<:Continuous).\n",
      "└ @ MLJBase /home/andrew/.julia/packages/MLJBase/uKzAz/src/machines.jl:77\n"
     ]
    },
    {
     "name": "stdout",
     "output_type": "stream",
     "text": [
      "(d, train_metric, valid_metric) = (80, 1.0, 0.8040540540540541)\n"
     ]
    },
    {
     "name": "stderr",
     "output_type": "stream",
     "text": [
      "┌ Warning: The scitype of `X`, in `machine(model, X, ...)` is incompatible with `model=\u001b[34mAdaBoostClassifier @781\u001b[39m`:\n",
      "│ scitype(X) = Table{Union{AbstractArray{Continuous,1}, AbstractArray{Count,1}}}\n",
      "│ input_scitype(model) = Table{var\"#s44\"} where var\"#s44\"<:(AbstractArray{var\"#s13\",1} where var\"#s13\"<:Continuous).\n",
      "└ @ MLJBase /home/andrew/.julia/packages/MLJBase/uKzAz/src/machines.jl:77\n"
     ]
    },
    {
     "name": "stdout",
     "output_type": "stream",
     "text": [
      "(d, train_metric, valid_metric) = (85, 1.0, 0.7635135135135135)\n"
     ]
    },
    {
     "name": "stderr",
     "output_type": "stream",
     "text": [
      "┌ Warning: The scitype of `X`, in `machine(model, X, ...)` is incompatible with `model=\u001b[34mAdaBoostClassifier @781\u001b[39m`:\n",
      "│ scitype(X) = Table{Union{AbstractArray{Continuous,1}, AbstractArray{Count,1}}}\n",
      "│ input_scitype(model) = Table{var\"#s44\"} where var\"#s44\"<:(AbstractArray{var\"#s13\",1} where var\"#s13\"<:Continuous).\n",
      "└ @ MLJBase /home/andrew/.julia/packages/MLJBase/uKzAz/src/machines.jl:77\n"
     ]
    },
    {
     "name": "stdout",
     "output_type": "stream",
     "text": [
      "(d, train_metric, valid_metric) = (90, 1.0, 0.831081081081081)\n"
     ]
    },
    {
     "name": "stderr",
     "output_type": "stream",
     "text": [
      "┌ Warning: The scitype of `X`, in `machine(model, X, ...)` is incompatible with `model=\u001b[34mAdaBoostClassifier @781\u001b[39m`:\n",
      "│ scitype(X) = Table{Union{AbstractArray{Continuous,1}, AbstractArray{Count,1}}}\n",
      "│ input_scitype(model) = Table{var\"#s44\"} where var\"#s44\"<:(AbstractArray{var\"#s13\",1} where var\"#s13\"<:Continuous).\n",
      "└ @ MLJBase /home/andrew/.julia/packages/MLJBase/uKzAz/src/machines.jl:77\n"
     ]
    },
    {
     "name": "stdout",
     "output_type": "stream",
     "text": [
      "(d, train_metric, valid_metric) = (95, 1.0, 0.8175675675675675)\n"
     ]
    },
    {
     "name": "stderr",
     "output_type": "stream",
     "text": [
      "┌ Warning: The scitype of `X`, in `machine(model, X, ...)` is incompatible with `model=\u001b[34mAdaBoostClassifier @781\u001b[39m`:\n",
      "│ scitype(X) = Table{Union{AbstractArray{Continuous,1}, AbstractArray{Count,1}}}\n",
      "│ input_scitype(model) = Table{var\"#s44\"} where var\"#s44\"<:(AbstractArray{var\"#s13\",1} where var\"#s13\"<:Continuous).\n",
      "└ @ MLJBase /home/andrew/.julia/packages/MLJBase/uKzAz/src/machines.jl:77\n"
     ]
    },
    {
     "name": "stdout",
     "output_type": "stream",
     "text": [
      "(d, train_metric, valid_metric) = (100, 1.0, 0.8040540540540541)\n"
     ]
    },
    {
     "name": "stderr",
     "output_type": "stream",
     "text": [
      "┌ Warning: The scitype of `X`, in `machine(model, X, ...)` is incompatible with `model=\u001b[34mAdaBoostClassifier @781\u001b[39m`:\n",
      "│ scitype(X) = Table{Union{AbstractArray{Continuous,1}, AbstractArray{Count,1}}}\n",
      "│ input_scitype(model) = Table{var\"#s44\"} where var\"#s44\"<:(AbstractArray{var\"#s13\",1} where var\"#s13\"<:Continuous).\n",
      "└ @ MLJBase /home/andrew/.julia/packages/MLJBase/uKzAz/src/machines.jl:77\n"
     ]
    },
    {
     "name": "stdout",
     "output_type": "stream",
     "text": [
      "(d, train_metric, valid_metric) = (105, 1.0, 0.8378378378378378)\n"
     ]
    },
    {
     "name": "stderr",
     "output_type": "stream",
     "text": [
      "┌ Warning: The scitype of `X`, in `machine(model, X, ...)` is incompatible with `model=\u001b[34mAdaBoostClassifier @781\u001b[39m`:\n",
      "│ scitype(X) = Table{Union{AbstractArray{Continuous,1}, AbstractArray{Count,1}}}\n",
      "│ input_scitype(model) = Table{var\"#s44\"} where var\"#s44\"<:(AbstractArray{var\"#s13\",1} where var\"#s13\"<:Continuous).\n",
      "└ @ MLJBase /home/andrew/.julia/packages/MLJBase/uKzAz/src/machines.jl:77\n"
     ]
    },
    {
     "name": "stdout",
     "output_type": "stream",
     "text": [
      "(d, train_metric, valid_metric) = (110, 1.0, 0.8513513513513513)\n"
     ]
    },
    {
     "name": "stderr",
     "output_type": "stream",
     "text": [
      "┌ Warning: The scitype of `X`, in `machine(model, X, ...)` is incompatible with `model=\u001b[34mAdaBoostClassifier @781\u001b[39m`:\n",
      "│ scitype(X) = Table{Union{AbstractArray{Continuous,1}, AbstractArray{Count,1}}}\n",
      "│ input_scitype(model) = Table{var\"#s44\"} where var\"#s44\"<:(AbstractArray{var\"#s13\",1} where var\"#s13\"<:Continuous).\n",
      "└ @ MLJBase /home/andrew/.julia/packages/MLJBase/uKzAz/src/machines.jl:77\n"
     ]
    },
    {
     "name": "stdout",
     "output_type": "stream",
     "text": [
      "(d, train_metric, valid_metric) = (115, 1.0, 0.8378378378378378)\n"
     ]
    },
    {
     "name": "stderr",
     "output_type": "stream",
     "text": [
      "┌ Warning: The scitype of `X`, in `machine(model, X, ...)` is incompatible with `model=\u001b[34mAdaBoostClassifier @781\u001b[39m`:\n",
      "│ scitype(X) = Table{Union{AbstractArray{Continuous,1}, AbstractArray{Count,1}}}\n",
      "│ input_scitype(model) = Table{var\"#s44\"} where var\"#s44\"<:(AbstractArray{var\"#s13\",1} where var\"#s13\"<:Continuous).\n",
      "└ @ MLJBase /home/andrew/.julia/packages/MLJBase/uKzAz/src/machines.jl:77\n"
     ]
    },
    {
     "name": "stdout",
     "output_type": "stream",
     "text": [
      "(d, train_metric, valid_metric) = (120, 1.0, 0.777027027027027)\n"
     ]
    },
    {
     "name": "stderr",
     "output_type": "stream",
     "text": [
      "┌ Warning: The scitype of `X`, in `machine(model, X, ...)` is incompatible with `model=\u001b[34mAdaBoostClassifier @781\u001b[39m`:\n",
      "│ scitype(X) = Table{Union{AbstractArray{Continuous,1}, AbstractArray{Count,1}}}\n",
      "│ input_scitype(model) = Table{var\"#s44\"} where var\"#s44\"<:(AbstractArray{var\"#s13\",1} where var\"#s13\"<:Continuous).\n",
      "└ @ MLJBase /home/andrew/.julia/packages/MLJBase/uKzAz/src/machines.jl:77\n"
     ]
    },
    {
     "name": "stdout",
     "output_type": "stream",
     "text": [
      "(d, train_metric, valid_metric) = (125, 1.0, 0.8040540540540541)\n"
     ]
    },
    {
     "name": "stderr",
     "output_type": "stream",
     "text": [
      "┌ Warning: The scitype of `X`, in `machine(model, X, ...)` is incompatible with `model=\u001b[34mAdaBoostClassifier @781\u001b[39m`:\n",
      "│ scitype(X) = Table{Union{AbstractArray{Continuous,1}, AbstractArray{Count,1}}}\n",
      "│ input_scitype(model) = Table{var\"#s44\"} where var\"#s44\"<:(AbstractArray{var\"#s13\",1} where var\"#s13\"<:Continuous).\n",
      "└ @ MLJBase /home/andrew/.julia/packages/MLJBase/uKzAz/src/machines.jl:77\n"
     ]
    },
    {
     "name": "stdout",
     "output_type": "stream",
     "text": [
      "(d, train_metric, valid_metric) = (130, 1.0, 0.8040540540540541)\n"
     ]
    },
    {
     "name": "stderr",
     "output_type": "stream",
     "text": [
      "┌ Warning: The scitype of `X`, in `machine(model, X, ...)` is incompatible with `model=\u001b[34mAdaBoostClassifier @781\u001b[39m`:\n",
      "│ scitype(X) = Table{Union{AbstractArray{Continuous,1}, AbstractArray{Count,1}}}\n",
      "│ input_scitype(model) = Table{var\"#s44\"} where var\"#s44\"<:(AbstractArray{var\"#s13\",1} where var\"#s13\"<:Continuous).\n",
      "└ @ MLJBase /home/andrew/.julia/packages/MLJBase/uKzAz/src/machines.jl:77\n"
     ]
    },
    {
     "name": "stdout",
     "output_type": "stream",
     "text": [
      "(d, train_metric, valid_metric) = (135, 1.0, 0.8175675675675675)\n"
     ]
    },
    {
     "name": "stderr",
     "output_type": "stream",
     "text": [
      "┌ Warning: The scitype of `X`, in `machine(model, X, ...)` is incompatible with `model=\u001b[34mAdaBoostClassifier @781\u001b[39m`:\n",
      "│ scitype(X) = Table{Union{AbstractArray{Continuous,1}, AbstractArray{Count,1}}}\n",
      "│ input_scitype(model) = Table{var\"#s44\"} where var\"#s44\"<:(AbstractArray{var\"#s13\",1} where var\"#s13\"<:Continuous).\n",
      "└ @ MLJBase /home/andrew/.julia/packages/MLJBase/uKzAz/src/machines.jl:77\n"
     ]
    },
    {
     "name": "stdout",
     "output_type": "stream",
     "text": [
      "(d, train_metric, valid_metric) = (140, 1.0, 0.831081081081081)\n"
     ]
    },
    {
     "name": "stderr",
     "output_type": "stream",
     "text": [
      "┌ Warning: The scitype of `X`, in `machine(model, X, ...)` is incompatible with `model=\u001b[34mAdaBoostClassifier @781\u001b[39m`:\n",
      "│ scitype(X) = Table{Union{AbstractArray{Continuous,1}, AbstractArray{Count,1}}}\n",
      "│ input_scitype(model) = Table{var\"#s44\"} where var\"#s44\"<:(AbstractArray{var\"#s13\",1} where var\"#s13\"<:Continuous).\n",
      "└ @ MLJBase /home/andrew/.julia/packages/MLJBase/uKzAz/src/machines.jl:77\n"
     ]
    },
    {
     "name": "stdout",
     "output_type": "stream",
     "text": [
      "(d, train_metric, valid_metric) = (145, 1.0, 0.8108108108108109)\n"
     ]
    },
    {
     "name": "stderr",
     "output_type": "stream",
     "text": [
      "┌ Warning: The scitype of `X`, in `machine(model, X, ...)` is incompatible with `model=\u001b[34mAdaBoostClassifier @781\u001b[39m`:\n",
      "│ scitype(X) = Table{Union{AbstractArray{Continuous,1}, AbstractArray{Count,1}}}\n",
      "│ input_scitype(model) = Table{var\"#s44\"} where var\"#s44\"<:(AbstractArray{var\"#s13\",1} where var\"#s13\"<:Continuous).\n",
      "└ @ MLJBase /home/andrew/.julia/packages/MLJBase/uKzAz/src/machines.jl:77\n"
     ]
    },
    {
     "name": "stdout",
     "output_type": "stream",
     "text": [
      "(d, train_metric, valid_metric) = (150, 1.0, 0.7837837837837838)\n"
     ]
    },
    {
     "name": "stderr",
     "output_type": "stream",
     "text": [
      "┌ Warning: The scitype of `X`, in `machine(model, X, ...)` is incompatible with `model=\u001b[34mAdaBoostClassifier @781\u001b[39m`:\n",
      "│ scitype(X) = Table{Union{AbstractArray{Continuous,1}, AbstractArray{Count,1}}}\n",
      "│ input_scitype(model) = Table{var\"#s44\"} where var\"#s44\"<:(AbstractArray{var\"#s13\",1} where var\"#s13\"<:Continuous).\n",
      "└ @ MLJBase /home/andrew/.julia/packages/MLJBase/uKzAz/src/machines.jl:77\n"
     ]
    },
    {
     "name": "stdout",
     "output_type": "stream",
     "text": [
      "(d, train_metric, valid_metric) = (155, 1.0, 0.831081081081081)\n"
     ]
    },
    {
     "name": "stderr",
     "output_type": "stream",
     "text": [
      "┌ Warning: The scitype of `X`, in `machine(model, X, ...)` is incompatible with `model=\u001b[34mAdaBoostClassifier @781\u001b[39m`:\n",
      "│ scitype(X) = Table{Union{AbstractArray{Continuous,1}, AbstractArray{Count,1}}}\n",
      "│ input_scitype(model) = Table{var\"#s44\"} where var\"#s44\"<:(AbstractArray{var\"#s13\",1} where var\"#s13\"<:Continuous).\n",
      "└ @ MLJBase /home/andrew/.julia/packages/MLJBase/uKzAz/src/machines.jl:77\n"
     ]
    },
    {
     "name": "stdout",
     "output_type": "stream",
     "text": [
      "(d, train_metric, valid_metric) = (160, 1.0, 0.8108108108108109)\n"
     ]
    },
    {
     "name": "stderr",
     "output_type": "stream",
     "text": [
      "┌ Warning: The scitype of `X`, in `machine(model, X, ...)` is incompatible with `model=\u001b[34mAdaBoostClassifier @781\u001b[39m`:\n",
      "│ scitype(X) = Table{Union{AbstractArray{Continuous,1}, AbstractArray{Count,1}}}\n",
      "│ input_scitype(model) = Table{var\"#s44\"} where var\"#s44\"<:(AbstractArray{var\"#s13\",1} where var\"#s13\"<:Continuous).\n",
      "└ @ MLJBase /home/andrew/.julia/packages/MLJBase/uKzAz/src/machines.jl:77\n"
     ]
    },
    {
     "name": "stdout",
     "output_type": "stream",
     "text": [
      "(d, train_metric, valid_metric) = (165, 1.0, 0.8243243243243243)\n"
     ]
    },
    {
     "name": "stderr",
     "output_type": "stream",
     "text": [
      "┌ Warning: The scitype of `X`, in `machine(model, X, ...)` is incompatible with `model=\u001b[34mAdaBoostClassifier @781\u001b[39m`:\n",
      "│ scitype(X) = Table{Union{AbstractArray{Continuous,1}, AbstractArray{Count,1}}}\n",
      "│ input_scitype(model) = Table{var\"#s44\"} where var\"#s44\"<:(AbstractArray{var\"#s13\",1} where var\"#s13\"<:Continuous).\n",
      "└ @ MLJBase /home/andrew/.julia/packages/MLJBase/uKzAz/src/machines.jl:77\n"
     ]
    },
    {
     "name": "stdout",
     "output_type": "stream",
     "text": [
      "(d, train_metric, valid_metric) = (170, 1.0, 0.8108108108108109)\n"
     ]
    },
    {
     "name": "stderr",
     "output_type": "stream",
     "text": [
      "┌ Warning: The scitype of `X`, in `machine(model, X, ...)` is incompatible with `model=\u001b[34mAdaBoostClassifier @781\u001b[39m`:\n",
      "│ scitype(X) = Table{Union{AbstractArray{Continuous,1}, AbstractArray{Count,1}}}\n",
      "│ input_scitype(model) = Table{var\"#s44\"} where var\"#s44\"<:(AbstractArray{var\"#s13\",1} where var\"#s13\"<:Continuous).\n",
      "└ @ MLJBase /home/andrew/.julia/packages/MLJBase/uKzAz/src/machines.jl:77\n"
     ]
    },
    {
     "name": "stdout",
     "output_type": "stream",
     "text": [
      "(d, train_metric, valid_metric) = (175, 1.0, 0.8175675675675675)\n"
     ]
    },
    {
     "name": "stderr",
     "output_type": "stream",
     "text": [
      "┌ Warning: The scitype of `X`, in `machine(model, X, ...)` is incompatible with `model=\u001b[34mAdaBoostClassifier @781\u001b[39m`:\n",
      "│ scitype(X) = Table{Union{AbstractArray{Continuous,1}, AbstractArray{Count,1}}}\n",
      "│ input_scitype(model) = Table{var\"#s44\"} where var\"#s44\"<:(AbstractArray{var\"#s13\",1} where var\"#s13\"<:Continuous).\n",
      "└ @ MLJBase /home/andrew/.julia/packages/MLJBase/uKzAz/src/machines.jl:77\n"
     ]
    },
    {
     "name": "stdout",
     "output_type": "stream",
     "text": [
      "(d, train_metric, valid_metric) = (180, 1.0, 0.8513513513513513)\n"
     ]
    },
    {
     "name": "stderr",
     "output_type": "stream",
     "text": [
      "┌ Warning: The scitype of `X`, in `machine(model, X, ...)` is incompatible with `model=\u001b[34mAdaBoostClassifier @781\u001b[39m`:\n",
      "│ scitype(X) = Table{Union{AbstractArray{Continuous,1}, AbstractArray{Count,1}}}\n",
      "│ input_scitype(model) = Table{var\"#s44\"} where var\"#s44\"<:(AbstractArray{var\"#s13\",1} where var\"#s13\"<:Continuous).\n",
      "└ @ MLJBase /home/andrew/.julia/packages/MLJBase/uKzAz/src/machines.jl:77\n"
     ]
    },
    {
     "name": "stdout",
     "output_type": "stream",
     "text": [
      "(d, train_metric, valid_metric) = (185, 1.0, 0.8378378378378378)\n"
     ]
    },
    {
     "name": "stderr",
     "output_type": "stream",
     "text": [
      "┌ Warning: The scitype of `X`, in `machine(model, X, ...)` is incompatible with `model=\u001b[34mAdaBoostClassifier @781\u001b[39m`:\n",
      "│ scitype(X) = Table{Union{AbstractArray{Continuous,1}, AbstractArray{Count,1}}}\n",
      "│ input_scitype(model) = Table{var\"#s44\"} where var\"#s44\"<:(AbstractArray{var\"#s13\",1} where var\"#s13\"<:Continuous).\n",
      "└ @ MLJBase /home/andrew/.julia/packages/MLJBase/uKzAz/src/machines.jl:77\n"
     ]
    },
    {
     "name": "stdout",
     "output_type": "stream",
     "text": [
      "(d, train_metric, valid_metric) = (190, 1.0, 0.8243243243243243)\n"
     ]
    },
    {
     "name": "stderr",
     "output_type": "stream",
     "text": [
      "┌ Warning: The scitype of `X`, in `machine(model, X, ...)` is incompatible with `model=\u001b[34mAdaBoostClassifier @781\u001b[39m`:\n",
      "│ scitype(X) = Table{Union{AbstractArray{Continuous,1}, AbstractArray{Count,1}}}\n",
      "│ input_scitype(model) = Table{var\"#s44\"} where var\"#s44\"<:(AbstractArray{var\"#s13\",1} where var\"#s13\"<:Continuous).\n",
      "└ @ MLJBase /home/andrew/.julia/packages/MLJBase/uKzAz/src/machines.jl:77\n"
     ]
    },
    {
     "name": "stdout",
     "output_type": "stream",
     "text": [
      "(d, train_metric, valid_metric) = (195, 1.0, 0.8445945945945946)\n"
     ]
    },
    {
     "name": "stderr",
     "output_type": "stream",
     "text": [
      "┌ Warning: The scitype of `X`, in `machine(model, X, ...)` is incompatible with `model=\u001b[34mAdaBoostClassifier @781\u001b[39m`:\n",
      "│ scitype(X) = Table{Union{AbstractArray{Continuous,1}, AbstractArray{Count,1}}}\n",
      "│ input_scitype(model) = Table{var\"#s44\"} where var\"#s44\"<:(AbstractArray{var\"#s13\",1} where var\"#s13\"<:Continuous).\n",
      "└ @ MLJBase /home/andrew/.julia/packages/MLJBase/uKzAz/src/machines.jl:77\n"
     ]
    },
    {
     "name": "stdout",
     "output_type": "stream",
     "text": [
      "(d, train_metric, valid_metric) = (200, 1.0, 0.8175675675675675)\n"
     ]
    },
    {
     "name": "stderr",
     "output_type": "stream",
     "text": [
      "┌ Warning: The scitype of `X`, in `machine(model, X, ...)` is incompatible with `model=\u001b[34mAdaBoostClassifier @781\u001b[39m`:\n",
      "│ scitype(X) = Table{Union{AbstractArray{Continuous,1}, AbstractArray{Count,1}}}\n",
      "│ input_scitype(model) = Table{var\"#s44\"} where var\"#s44\"<:(AbstractArray{var\"#s13\",1} where var\"#s13\"<:Continuous).\n",
      "└ @ MLJBase /home/andrew/.julia/packages/MLJBase/uKzAz/src/machines.jl:77\n"
     ]
    },
    {
     "name": "stdout",
     "output_type": "stream",
     "text": [
      "(d, train_metric, valid_metric) = (205, 1.0, 0.8513513513513513)\n"
     ]
    },
    {
     "name": "stderr",
     "output_type": "stream",
     "text": [
      "┌ Warning: The scitype of `X`, in `machine(model, X, ...)` is incompatible with `model=\u001b[34mAdaBoostClassifier @781\u001b[39m`:\n",
      "│ scitype(X) = Table{Union{AbstractArray{Continuous,1}, AbstractArray{Count,1}}}\n",
      "│ input_scitype(model) = Table{var\"#s44\"} where var\"#s44\"<:(AbstractArray{var\"#s13\",1} where var\"#s13\"<:Continuous).\n",
      "└ @ MLJBase /home/andrew/.julia/packages/MLJBase/uKzAz/src/machines.jl:77\n"
     ]
    },
    {
     "name": "stdout",
     "output_type": "stream",
     "text": [
      "(d, train_metric, valid_metric) = (210, 1.0, 0.8243243243243243)\n"
     ]
    },
    {
     "name": "stderr",
     "output_type": "stream",
     "text": [
      "┌ Warning: The scitype of `X`, in `machine(model, X, ...)` is incompatible with `model=\u001b[34mAdaBoostClassifier @781\u001b[39m`:\n",
      "│ scitype(X) = Table{Union{AbstractArray{Continuous,1}, AbstractArray{Count,1}}}\n",
      "│ input_scitype(model) = Table{var\"#s44\"} where var\"#s44\"<:(AbstractArray{var\"#s13\",1} where var\"#s13\"<:Continuous).\n",
      "└ @ MLJBase /home/andrew/.julia/packages/MLJBase/uKzAz/src/machines.jl:77\n"
     ]
    },
    {
     "name": "stdout",
     "output_type": "stream",
     "text": [
      "(d, train_metric, valid_metric) = (215, 1.0, 0.7972972972972973)\n"
     ]
    },
    {
     "name": "stderr",
     "output_type": "stream",
     "text": [
      "┌ Warning: The scitype of `X`, in `machine(model, X, ...)` is incompatible with `model=\u001b[34mAdaBoostClassifier @781\u001b[39m`:\n",
      "│ scitype(X) = Table{Union{AbstractArray{Continuous,1}, AbstractArray{Count,1}}}\n",
      "│ input_scitype(model) = Table{var\"#s44\"} where var\"#s44\"<:(AbstractArray{var\"#s13\",1} where var\"#s13\"<:Continuous).\n",
      "└ @ MLJBase /home/andrew/.julia/packages/MLJBase/uKzAz/src/machines.jl:77\n"
     ]
    },
    {
     "name": "stdout",
     "output_type": "stream",
     "text": [
      "(d, train_metric, valid_metric) = (220, 1.0, 0.8243243243243243)\n"
     ]
    },
    {
     "name": "stderr",
     "output_type": "stream",
     "text": [
      "┌ Warning: The scitype of `X`, in `machine(model, X, ...)` is incompatible with `model=\u001b[34mAdaBoostClassifier @781\u001b[39m`:\n",
      "│ scitype(X) = Table{Union{AbstractArray{Continuous,1}, AbstractArray{Count,1}}}\n",
      "│ input_scitype(model) = Table{var\"#s44\"} where var\"#s44\"<:(AbstractArray{var\"#s13\",1} where var\"#s13\"<:Continuous).\n",
      "└ @ MLJBase /home/andrew/.julia/packages/MLJBase/uKzAz/src/machines.jl:77\n"
     ]
    },
    {
     "name": "stdout",
     "output_type": "stream",
     "text": [
      "(d, train_metric, valid_metric) = (225, 1.0, 0.8175675675675675)\n"
     ]
    },
    {
     "name": "stderr",
     "output_type": "stream",
     "text": [
      "┌ Warning: The scitype of `X`, in `machine(model, X, ...)` is incompatible with `model=\u001b[34mAdaBoostClassifier @781\u001b[39m`:\n",
      "│ scitype(X) = Table{Union{AbstractArray{Continuous,1}, AbstractArray{Count,1}}}\n",
      "│ input_scitype(model) = Table{var\"#s44\"} where var\"#s44\"<:(AbstractArray{var\"#s13\",1} where var\"#s13\"<:Continuous).\n",
      "└ @ MLJBase /home/andrew/.julia/packages/MLJBase/uKzAz/src/machines.jl:77\n"
     ]
    },
    {
     "name": "stdout",
     "output_type": "stream",
     "text": [
      "(d, train_metric, valid_metric) = (230, 1.0, 0.8175675675675675)\n"
     ]
    },
    {
     "name": "stderr",
     "output_type": "stream",
     "text": [
      "┌ Warning: The scitype of `X`, in `machine(model, X, ...)` is incompatible with `model=\u001b[34mAdaBoostClassifier @781\u001b[39m`:\n",
      "│ scitype(X) = Table{Union{AbstractArray{Continuous,1}, AbstractArray{Count,1}}}\n",
      "│ input_scitype(model) = Table{var\"#s44\"} where var\"#s44\"<:(AbstractArray{var\"#s13\",1} where var\"#s13\"<:Continuous).\n",
      "└ @ MLJBase /home/andrew/.julia/packages/MLJBase/uKzAz/src/machines.jl:77\n"
     ]
    },
    {
     "name": "stdout",
     "output_type": "stream",
     "text": [
      "(d, train_metric, valid_metric) = (235, 1.0, 0.8243243243243243)\n"
     ]
    },
    {
     "name": "stderr",
     "output_type": "stream",
     "text": [
      "┌ Warning: The scitype of `X`, in `machine(model, X, ...)` is incompatible with `model=\u001b[34mAdaBoostClassifier @781\u001b[39m`:\n",
      "│ scitype(X) = Table{Union{AbstractArray{Continuous,1}, AbstractArray{Count,1}}}\n",
      "│ input_scitype(model) = Table{var\"#s44\"} where var\"#s44\"<:(AbstractArray{var\"#s13\",1} where var\"#s13\"<:Continuous).\n",
      "└ @ MLJBase /home/andrew/.julia/packages/MLJBase/uKzAz/src/machines.jl:77\n"
     ]
    },
    {
     "name": "stdout",
     "output_type": "stream",
     "text": [
      "(d, train_metric, valid_metric) = (240, 1.0, 0.8378378378378378)\n"
     ]
    },
    {
     "name": "stderr",
     "output_type": "stream",
     "text": [
      "┌ Warning: The scitype of `X`, in `machine(model, X, ...)` is incompatible with `model=\u001b[34mAdaBoostClassifier @781\u001b[39m`:\n",
      "│ scitype(X) = Table{Union{AbstractArray{Continuous,1}, AbstractArray{Count,1}}}\n",
      "│ input_scitype(model) = Table{var\"#s44\"} where var\"#s44\"<:(AbstractArray{var\"#s13\",1} where var\"#s13\"<:Continuous).\n",
      "└ @ MLJBase /home/andrew/.julia/packages/MLJBase/uKzAz/src/machines.jl:77\n"
     ]
    },
    {
     "name": "stdout",
     "output_type": "stream",
     "text": [
      "(d, train_metric, valid_metric) = (245, 1.0, 0.8378378378378378)\n"
     ]
    },
    {
     "name": "stderr",
     "output_type": "stream",
     "text": [
      "┌ Warning: The scitype of `X`, in `machine(model, X, ...)` is incompatible with `model=\u001b[34mAdaBoostClassifier @781\u001b[39m`:\n",
      "│ scitype(X) = Table{Union{AbstractArray{Continuous,1}, AbstractArray{Count,1}}}\n",
      "│ input_scitype(model) = Table{var\"#s44\"} where var\"#s44\"<:(AbstractArray{var\"#s13\",1} where var\"#s13\"<:Continuous).\n",
      "└ @ MLJBase /home/andrew/.julia/packages/MLJBase/uKzAz/src/machines.jl:77\n"
     ]
    },
    {
     "name": "stdout",
     "output_type": "stream",
     "text": [
      "(d, train_metric, valid_metric) = (250, 1.0, 0.8513513513513513)\n"
     ]
    },
    {
     "name": "stderr",
     "output_type": "stream",
     "text": [
      "┌ Warning: The scitype of `X`, in `machine(model, X, ...)` is incompatible with `model=\u001b[34mAdaBoostClassifier @781\u001b[39m`:\n",
      "│ scitype(X) = Table{Union{AbstractArray{Continuous,1}, AbstractArray{Count,1}}}\n",
      "│ input_scitype(model) = Table{var\"#s44\"} where var\"#s44\"<:(AbstractArray{var\"#s13\",1} where var\"#s13\"<:Continuous).\n",
      "└ @ MLJBase /home/andrew/.julia/packages/MLJBase/uKzAz/src/machines.jl:77\n"
     ]
    },
    {
     "name": "stdout",
     "output_type": "stream",
     "text": [
      "(d, train_metric, valid_metric) = (255, 1.0, 0.8445945945945946)\n"
     ]
    },
    {
     "name": "stderr",
     "output_type": "stream",
     "text": [
      "┌ Warning: The scitype of `X`, in `machine(model, X, ...)` is incompatible with `model=\u001b[34mAdaBoostClassifier @781\u001b[39m`:\n",
      "│ scitype(X) = Table{Union{AbstractArray{Continuous,1}, AbstractArray{Count,1}}}\n",
      "│ input_scitype(model) = Table{var\"#s44\"} where var\"#s44\"<:(AbstractArray{var\"#s13\",1} where var\"#s13\"<:Continuous).\n",
      "└ @ MLJBase /home/andrew/.julia/packages/MLJBase/uKzAz/src/machines.jl:77\n"
     ]
    },
    {
     "name": "stdout",
     "output_type": "stream",
     "text": [
      "(d, train_metric, valid_metric) = (260, 1.0, 0.8445945945945946)\n"
     ]
    },
    {
     "name": "stderr",
     "output_type": "stream",
     "text": [
      "┌ Warning: The scitype of `X`, in `machine(model, X, ...)` is incompatible with `model=\u001b[34mAdaBoostClassifier @781\u001b[39m`:\n",
      "│ scitype(X) = Table{Union{AbstractArray{Continuous,1}, AbstractArray{Count,1}}}\n",
      "│ input_scitype(model) = Table{var\"#s44\"} where var\"#s44\"<:(AbstractArray{var\"#s13\",1} where var\"#s13\"<:Continuous).\n",
      "└ @ MLJBase /home/andrew/.julia/packages/MLJBase/uKzAz/src/machines.jl:77\n"
     ]
    },
    {
     "name": "stdout",
     "output_type": "stream",
     "text": [
      "(d, train_metric, valid_metric) = (265, 1.0, 0.8513513513513513)\n"
     ]
    },
    {
     "name": "stderr",
     "output_type": "stream",
     "text": [
      "┌ Warning: The scitype of `X`, in `machine(model, X, ...)` is incompatible with `model=\u001b[34mAdaBoostClassifier @781\u001b[39m`:\n",
      "│ scitype(X) = Table{Union{AbstractArray{Continuous,1}, AbstractArray{Count,1}}}\n",
      "│ input_scitype(model) = Table{var\"#s44\"} where var\"#s44\"<:(AbstractArray{var\"#s13\",1} where var\"#s13\"<:Continuous).\n",
      "└ @ MLJBase /home/andrew/.julia/packages/MLJBase/uKzAz/src/machines.jl:77\n"
     ]
    },
    {
     "name": "stdout",
     "output_type": "stream",
     "text": [
      "(d, train_metric, valid_metric) = (270, 1.0, 0.8581081081081081)\n"
     ]
    },
    {
     "name": "stderr",
     "output_type": "stream",
     "text": [
      "┌ Warning: The scitype of `X`, in `machine(model, X, ...)` is incompatible with `model=\u001b[34mAdaBoostClassifier @781\u001b[39m`:\n",
      "│ scitype(X) = Table{Union{AbstractArray{Continuous,1}, AbstractArray{Count,1}}}\n",
      "│ input_scitype(model) = Table{var\"#s44\"} where var\"#s44\"<:(AbstractArray{var\"#s13\",1} where var\"#s13\"<:Continuous).\n",
      "└ @ MLJBase /home/andrew/.julia/packages/MLJBase/uKzAz/src/machines.jl:77\n"
     ]
    },
    {
     "name": "stdout",
     "output_type": "stream",
     "text": [
      "(d, train_metric, valid_metric) = (275, 1.0, 0.8175675675675675)\n"
     ]
    },
    {
     "name": "stderr",
     "output_type": "stream",
     "text": [
      "┌ Warning: The scitype of `X`, in `machine(model, X, ...)` is incompatible with `model=\u001b[34mAdaBoostClassifier @781\u001b[39m`:\n",
      "│ scitype(X) = Table{Union{AbstractArray{Continuous,1}, AbstractArray{Count,1}}}\n",
      "│ input_scitype(model) = Table{var\"#s44\"} where var\"#s44\"<:(AbstractArray{var\"#s13\",1} where var\"#s13\"<:Continuous).\n",
      "└ @ MLJBase /home/andrew/.julia/packages/MLJBase/uKzAz/src/machines.jl:77\n"
     ]
    },
    {
     "name": "stdout",
     "output_type": "stream",
     "text": [
      "(d, train_metric, valid_metric) = (280, 1.0, 0.8378378378378378)\n"
     ]
    },
    {
     "name": "stderr",
     "output_type": "stream",
     "text": [
      "┌ Warning: The scitype of `X`, in `machine(model, X, ...)` is incompatible with `model=\u001b[34mAdaBoostClassifier @781\u001b[39m`:\n",
      "│ scitype(X) = Table{Union{AbstractArray{Continuous,1}, AbstractArray{Count,1}}}\n",
      "│ input_scitype(model) = Table{var\"#s44\"} where var\"#s44\"<:(AbstractArray{var\"#s13\",1} where var\"#s13\"<:Continuous).\n",
      "└ @ MLJBase /home/andrew/.julia/packages/MLJBase/uKzAz/src/machines.jl:77\n"
     ]
    },
    {
     "name": "stdout",
     "output_type": "stream",
     "text": [
      "(d, train_metric, valid_metric) = (285, 1.0, 0.8445945945945946)\n"
     ]
    },
    {
     "name": "stderr",
     "output_type": "stream",
     "text": [
      "┌ Warning: The scitype of `X`, in `machine(model, X, ...)` is incompatible with `model=\u001b[34mAdaBoostClassifier @781\u001b[39m`:\n",
      "│ scitype(X) = Table{Union{AbstractArray{Continuous,1}, AbstractArray{Count,1}}}\n",
      "│ input_scitype(model) = Table{var\"#s44\"} where var\"#s44\"<:(AbstractArray{var\"#s13\",1} where var\"#s13\"<:Continuous).\n",
      "└ @ MLJBase /home/andrew/.julia/packages/MLJBase/uKzAz/src/machines.jl:77\n"
     ]
    },
    {
     "name": "stdout",
     "output_type": "stream",
     "text": [
      "(d, train_metric, valid_metric) = (290, 1.0, 0.8783783783783784)\n"
     ]
    },
    {
     "name": "stderr",
     "output_type": "stream",
     "text": [
      "┌ Warning: The scitype of `X`, in `machine(model, X, ...)` is incompatible with `model=\u001b[34mAdaBoostClassifier @781\u001b[39m`:\n",
      "│ scitype(X) = Table{Union{AbstractArray{Continuous,1}, AbstractArray{Count,1}}}\n",
      "│ input_scitype(model) = Table{var\"#s44\"} where var\"#s44\"<:(AbstractArray{var\"#s13\",1} where var\"#s13\"<:Continuous).\n",
      "└ @ MLJBase /home/andrew/.julia/packages/MLJBase/uKzAz/src/machines.jl:77\n"
     ]
    },
    {
     "name": "stdout",
     "output_type": "stream",
     "text": [
      "(d, train_metric, valid_metric) = (295, 1.0, 0.8243243243243243)\n"
     ]
    },
    {
     "name": "stderr",
     "output_type": "stream",
     "text": [
      "┌ Warning: The scitype of `X`, in `machine(model, X, ...)` is incompatible with `model=\u001b[34mAdaBoostClassifier @781\u001b[39m`:\n",
      "│ scitype(X) = Table{Union{AbstractArray{Continuous,1}, AbstractArray{Count,1}}}\n",
      "│ input_scitype(model) = Table{var\"#s44\"} where var\"#s44\"<:(AbstractArray{var\"#s13\",1} where var\"#s13\"<:Continuous).\n",
      "└ @ MLJBase /home/andrew/.julia/packages/MLJBase/uKzAz/src/machines.jl:77\n"
     ]
    },
    {
     "name": "stdout",
     "output_type": "stream",
     "text": [
      "(d, train_metric, valid_metric) = (300, 1.0, 0.8378378378378378)\n"
     ]
    },
    {
     "name": "stderr",
     "output_type": "stream",
     "text": [
      "┌ Warning: The scitype of `X`, in `machine(model, X, ...)` is incompatible with `model=\u001b[34mAdaBoostClassifier @781\u001b[39m`:\n",
      "│ scitype(X) = Table{Union{AbstractArray{Continuous,1}, AbstractArray{Count,1}}}\n",
      "│ input_scitype(model) = Table{var\"#s44\"} where var\"#s44\"<:(AbstractArray{var\"#s13\",1} where var\"#s13\"<:Continuous).\n",
      "└ @ MLJBase /home/andrew/.julia/packages/MLJBase/uKzAz/src/machines.jl:77\n"
     ]
    },
    {
     "name": "stdout",
     "output_type": "stream",
     "text": [
      "(d, train_metric, valid_metric) = (305, 1.0, 0.8445945945945946)\n"
     ]
    },
    {
     "name": "stderr",
     "output_type": "stream",
     "text": [
      "┌ Warning: The scitype of `X`, in `machine(model, X, ...)` is incompatible with `model=\u001b[34mAdaBoostClassifier @781\u001b[39m`:\n",
      "│ scitype(X) = Table{Union{AbstractArray{Continuous,1}, AbstractArray{Count,1}}}\n",
      "│ input_scitype(model) = Table{var\"#s44\"} where var\"#s44\"<:(AbstractArray{var\"#s13\",1} where var\"#s13\"<:Continuous).\n",
      "└ @ MLJBase /home/andrew/.julia/packages/MLJBase/uKzAz/src/machines.jl:77\n"
     ]
    },
    {
     "name": "stdout",
     "output_type": "stream",
     "text": [
      "(d, train_metric, valid_metric) = (310, 1.0, 0.8378378378378378)\n"
     ]
    },
    {
     "name": "stderr",
     "output_type": "stream",
     "text": [
      "┌ Warning: The scitype of `X`, in `machine(model, X, ...)` is incompatible with `model=\u001b[34mAdaBoostClassifier @781\u001b[39m`:\n",
      "│ scitype(X) = Table{Union{AbstractArray{Continuous,1}, AbstractArray{Count,1}}}\n",
      "│ input_scitype(model) = Table{var\"#s44\"} where var\"#s44\"<:(AbstractArray{var\"#s13\",1} where var\"#s13\"<:Continuous).\n",
      "└ @ MLJBase /home/andrew/.julia/packages/MLJBase/uKzAz/src/machines.jl:77\n"
     ]
    },
    {
     "name": "stdout",
     "output_type": "stream",
     "text": [
      "(d, train_metric, valid_metric) = (315, 1.0, 0.8513513513513513)\n"
     ]
    },
    {
     "name": "stderr",
     "output_type": "stream",
     "text": [
      "┌ Warning: The scitype of `X`, in `machine(model, X, ...)` is incompatible with `model=\u001b[34mAdaBoostClassifier @781\u001b[39m`:\n",
      "│ scitype(X) = Table{Union{AbstractArray{Continuous,1}, AbstractArray{Count,1}}}\n",
      "│ input_scitype(model) = Table{var\"#s44\"} where var\"#s44\"<:(AbstractArray{var\"#s13\",1} where var\"#s13\"<:Continuous).\n",
      "└ @ MLJBase /home/andrew/.julia/packages/MLJBase/uKzAz/src/machines.jl:77\n"
     ]
    },
    {
     "name": "stdout",
     "output_type": "stream",
     "text": [
      "(d, train_metric, valid_metric) = (320, 1.0, 0.831081081081081)\n"
     ]
    },
    {
     "name": "stderr",
     "output_type": "stream",
     "text": [
      "┌ Warning: The scitype of `X`, in `machine(model, X, ...)` is incompatible with `model=\u001b[34mAdaBoostClassifier @781\u001b[39m`:\n",
      "│ scitype(X) = Table{Union{AbstractArray{Continuous,1}, AbstractArray{Count,1}}}\n",
      "│ input_scitype(model) = Table{var\"#s44\"} where var\"#s44\"<:(AbstractArray{var\"#s13\",1} where var\"#s13\"<:Continuous).\n",
      "└ @ MLJBase /home/andrew/.julia/packages/MLJBase/uKzAz/src/machines.jl:77\n"
     ]
    },
    {
     "name": "stdout",
     "output_type": "stream",
     "text": [
      "(d, train_metric, valid_metric) = (325, 1.0, 0.8716216216216216)\n"
     ]
    },
    {
     "name": "stderr",
     "output_type": "stream",
     "text": [
      "┌ Warning: The scitype of `X`, in `machine(model, X, ...)` is incompatible with `model=\u001b[34mAdaBoostClassifier @781\u001b[39m`:\n",
      "│ scitype(X) = Table{Union{AbstractArray{Continuous,1}, AbstractArray{Count,1}}}\n",
      "│ input_scitype(model) = Table{var\"#s44\"} where var\"#s44\"<:(AbstractArray{var\"#s13\",1} where var\"#s13\"<:Continuous).\n",
      "└ @ MLJBase /home/andrew/.julia/packages/MLJBase/uKzAz/src/machines.jl:77\n"
     ]
    },
    {
     "name": "stdout",
     "output_type": "stream",
     "text": [
      "(d, train_metric, valid_metric) = (330, 0.996969696969697, 0.8581081081081081)\n"
     ]
    },
    {
     "name": "stderr",
     "output_type": "stream",
     "text": [
      "┌ Warning: The scitype of `X`, in `machine(model, X, ...)` is incompatible with `model=\u001b[34mAdaBoostClassifier @781\u001b[39m`:\n",
      "│ scitype(X) = Table{Union{AbstractArray{Continuous,1}, AbstractArray{Count,1}}}\n",
      "│ input_scitype(model) = Table{var\"#s44\"} where var\"#s44\"<:(AbstractArray{var\"#s13\",1} where var\"#s13\"<:Continuous).\n",
      "└ @ MLJBase /home/andrew/.julia/packages/MLJBase/uKzAz/src/machines.jl:77\n"
     ]
    },
    {
     "name": "stdout",
     "output_type": "stream",
     "text": [
      "(d, train_metric, valid_metric) = (335, 0.9970149253731343, 0.8648648648648649)\n"
     ]
    },
    {
     "name": "stderr",
     "output_type": "stream",
     "text": [
      "┌ Warning: The scitype of `X`, in `machine(model, X, ...)` is incompatible with `model=\u001b[34mAdaBoostClassifier @781\u001b[39m`:\n",
      "│ scitype(X) = Table{Union{AbstractArray{Continuous,1}, AbstractArray{Count,1}}}\n",
      "│ input_scitype(model) = Table{var\"#s44\"} where var\"#s44\"<:(AbstractArray{var\"#s13\",1} where var\"#s13\"<:Continuous).\n",
      "└ @ MLJBase /home/andrew/.julia/packages/MLJBase/uKzAz/src/machines.jl:77\n"
     ]
    },
    {
     "name": "stdout",
     "output_type": "stream",
     "text": [
      "(d, train_metric, valid_metric) = (340, 0.9970588235294118, 0.8648648648648649)\n"
     ]
    },
    {
     "name": "stderr",
     "output_type": "stream",
     "text": [
      "┌ Warning: The scitype of `X`, in `machine(model, X, ...)` is incompatible with `model=\u001b[34mAdaBoostClassifier @781\u001b[39m`:\n",
      "│ scitype(X) = Table{Union{AbstractArray{Continuous,1}, AbstractArray{Count,1}}}\n",
      "│ input_scitype(model) = Table{var\"#s44\"} where var\"#s44\"<:(AbstractArray{var\"#s13\",1} where var\"#s13\"<:Continuous).\n",
      "└ @ MLJBase /home/andrew/.julia/packages/MLJBase/uKzAz/src/machines.jl:77\n"
     ]
    },
    {
     "name": "stdout",
     "output_type": "stream",
     "text": [
      "(d, train_metric, valid_metric) = (345, 0.9971014492753624, 0.8648648648648649)\n"
     ]
    },
    {
     "name": "stderr",
     "output_type": "stream",
     "text": [
      "┌ Warning: The scitype of `X`, in `machine(model, X, ...)` is incompatible with `model=\u001b[34mAdaBoostClassifier @781\u001b[39m`:\n",
      "│ scitype(X) = Table{Union{AbstractArray{Continuous,1}, AbstractArray{Count,1}}}\n",
      "│ input_scitype(model) = Table{var\"#s44\"} where var\"#s44\"<:(AbstractArray{var\"#s13\",1} where var\"#s13\"<:Continuous).\n",
      "└ @ MLJBase /home/andrew/.julia/packages/MLJBase/uKzAz/src/machines.jl:77\n"
     ]
    },
    {
     "name": "stdout",
     "output_type": "stream",
     "text": [
      "(d, train_metric, valid_metric) = (350, 0.9942857142857143, 0.8581081081081081)\n"
     ]
    },
    {
     "name": "stderr",
     "output_type": "stream",
     "text": [
      "┌ Warning: The scitype of `X`, in `machine(model, X, ...)` is incompatible with `model=\u001b[34mAdaBoostClassifier @781\u001b[39m`:\n",
      "│ scitype(X) = Table{Union{AbstractArray{Continuous,1}, AbstractArray{Count,1}}}\n",
      "│ input_scitype(model) = Table{var\"#s44\"} where var\"#s44\"<:(AbstractArray{var\"#s13\",1} where var\"#s13\"<:Continuous).\n",
      "└ @ MLJBase /home/andrew/.julia/packages/MLJBase/uKzAz/src/machines.jl:77\n"
     ]
    },
    {
     "name": "stdout",
     "output_type": "stream",
     "text": [
      "(d, train_metric, valid_metric) = (355, 0.9915492957746479, 0.8513513513513513)\n"
     ]
    },
    {
     "name": "stderr",
     "output_type": "stream",
     "text": [
      "┌ Warning: The scitype of `X`, in `machine(model, X, ...)` is incompatible with `model=\u001b[34mAdaBoostClassifier @781\u001b[39m`:\n",
      "│ scitype(X) = Table{Union{AbstractArray{Continuous,1}, AbstractArray{Count,1}}}\n",
      "│ input_scitype(model) = Table{var\"#s44\"} where var\"#s44\"<:(AbstractArray{var\"#s13\",1} where var\"#s13\"<:Continuous).\n",
      "└ @ MLJBase /home/andrew/.julia/packages/MLJBase/uKzAz/src/machines.jl:77\n"
     ]
    },
    {
     "name": "stdout",
     "output_type": "stream",
     "text": [
      "(d, train_metric, valid_metric) = (360, 0.9972222222222222, 0.8581081081081081)\n"
     ]
    },
    {
     "name": "stderr",
     "output_type": "stream",
     "text": [
      "┌ Warning: The scitype of `X`, in `machine(model, X, ...)` is incompatible with `model=\u001b[34mAdaBoostClassifier @781\u001b[39m`:\n",
      "│ scitype(X) = Table{Union{AbstractArray{Continuous,1}, AbstractArray{Count,1}}}\n",
      "│ input_scitype(model) = Table{var\"#s44\"} where var\"#s44\"<:(AbstractArray{var\"#s13\",1} where var\"#s13\"<:Continuous).\n",
      "└ @ MLJBase /home/andrew/.julia/packages/MLJBase/uKzAz/src/machines.jl:77\n"
     ]
    },
    {
     "name": "stdout",
     "output_type": "stream",
     "text": [
      "(d, train_metric, valid_metric) = (365, 0.9945205479452055, 0.8581081081081081)\n"
     ]
    },
    {
     "name": "stderr",
     "output_type": "stream",
     "text": [
      "┌ Warning: The scitype of `X`, in `machine(model, X, ...)` is incompatible with `model=\u001b[34mAdaBoostClassifier @781\u001b[39m`:\n",
      "│ scitype(X) = Table{Union{AbstractArray{Continuous,1}, AbstractArray{Count,1}}}\n",
      "│ input_scitype(model) = Table{var\"#s44\"} where var\"#s44\"<:(AbstractArray{var\"#s13\",1} where var\"#s13\"<:Continuous).\n",
      "└ @ MLJBase /home/andrew/.julia/packages/MLJBase/uKzAz/src/machines.jl:77\n"
     ]
    },
    {
     "name": "stdout",
     "output_type": "stream",
     "text": [
      "(d, train_metric, valid_metric) = (370, 0.9891891891891892, 0.8445945945945946)\n"
     ]
    },
    {
     "name": "stderr",
     "output_type": "stream",
     "text": [
      "┌ Warning: The scitype of `X`, in `machine(model, X, ...)` is incompatible with `model=\u001b[34mAdaBoostClassifier @781\u001b[39m`:\n",
      "│ scitype(X) = Table{Union{AbstractArray{Continuous,1}, AbstractArray{Count,1}}}\n",
      "│ input_scitype(model) = Table{var\"#s44\"} where var\"#s44\"<:(AbstractArray{var\"#s13\",1} where var\"#s13\"<:Continuous).\n",
      "└ @ MLJBase /home/andrew/.julia/packages/MLJBase/uKzAz/src/machines.jl:77\n"
     ]
    },
    {
     "name": "stdout",
     "output_type": "stream",
     "text": [
      "(d, train_metric, valid_metric) = (375, 0.9893333333333333, 0.8378378378378378)\n"
     ]
    },
    {
     "name": "stderr",
     "output_type": "stream",
     "text": [
      "┌ Warning: The scitype of `X`, in `machine(model, X, ...)` is incompatible with `model=\u001b[34mAdaBoostClassifier @781\u001b[39m`:\n",
      "│ scitype(X) = Table{Union{AbstractArray{Continuous,1}, AbstractArray{Count,1}}}\n",
      "│ input_scitype(model) = Table{var\"#s44\"} where var\"#s44\"<:(AbstractArray{var\"#s13\",1} where var\"#s13\"<:Continuous).\n",
      "└ @ MLJBase /home/andrew/.julia/packages/MLJBase/uKzAz/src/machines.jl:77\n"
     ]
    },
    {
     "name": "stdout",
     "output_type": "stream",
     "text": [
      "(d, train_metric, valid_metric) = (380, 0.9921052631578947, 0.8445945945945946)\n"
     ]
    },
    {
     "name": "stderr",
     "output_type": "stream",
     "text": [
      "┌ Warning: The scitype of `X`, in `machine(model, X, ...)` is incompatible with `model=\u001b[34mAdaBoostClassifier @781\u001b[39m`:\n",
      "│ scitype(X) = Table{Union{AbstractArray{Continuous,1}, AbstractArray{Count,1}}}\n",
      "│ input_scitype(model) = Table{var\"#s44\"} where var\"#s44\"<:(AbstractArray{var\"#s13\",1} where var\"#s13\"<:Continuous).\n",
      "└ @ MLJBase /home/andrew/.julia/packages/MLJBase/uKzAz/src/machines.jl:77\n"
     ]
    },
    {
     "name": "stdout",
     "output_type": "stream",
     "text": [
      "(d, train_metric, valid_metric) = (385, 0.9922077922077922, 0.8378378378378378)\n"
     ]
    },
    {
     "name": "stderr",
     "output_type": "stream",
     "text": [
      "┌ Warning: The scitype of `X`, in `machine(model, X, ...)` is incompatible with `model=\u001b[34mAdaBoostClassifier @781\u001b[39m`:\n",
      "│ scitype(X) = Table{Union{AbstractArray{Continuous,1}, AbstractArray{Count,1}}}\n",
      "│ input_scitype(model) = Table{var\"#s44\"} where var\"#s44\"<:(AbstractArray{var\"#s13\",1} where var\"#s13\"<:Continuous).\n",
      "└ @ MLJBase /home/andrew/.julia/packages/MLJBase/uKzAz/src/machines.jl:77\n"
     ]
    },
    {
     "name": "stdout",
     "output_type": "stream",
     "text": [
      "(d, train_metric, valid_metric) = (390, 0.9923076923076923, 0.8581081081081081)\n"
     ]
    },
    {
     "name": "stderr",
     "output_type": "stream",
     "text": [
      "┌ Warning: The scitype of `X`, in `machine(model, X, ...)` is incompatible with `model=\u001b[34mAdaBoostClassifier @781\u001b[39m`:\n",
      "│ scitype(X) = Table{Union{AbstractArray{Continuous,1}, AbstractArray{Count,1}}}\n",
      "│ input_scitype(model) = Table{var\"#s44\"} where var\"#s44\"<:(AbstractArray{var\"#s13\",1} where var\"#s13\"<:Continuous).\n",
      "└ @ MLJBase /home/andrew/.julia/packages/MLJBase/uKzAz/src/machines.jl:77\n"
     ]
    },
    {
     "name": "stdout",
     "output_type": "stream",
     "text": [
      "(d, train_metric, valid_metric) = (395, 0.9898734177215189, 0.8851351351351351)\n"
     ]
    },
    {
     "name": "stderr",
     "output_type": "stream",
     "text": [
      "┌ Warning: The scitype of `X`, in `machine(model, X, ...)` is incompatible with `model=\u001b[34mAdaBoostClassifier @781\u001b[39m`:\n",
      "│ scitype(X) = Table{Union{AbstractArray{Continuous,1}, AbstractArray{Count,1}}}\n",
      "│ input_scitype(model) = Table{var\"#s44\"} where var\"#s44\"<:(AbstractArray{var\"#s13\",1} where var\"#s13\"<:Continuous).\n",
      "└ @ MLJBase /home/andrew/.julia/packages/MLJBase/uKzAz/src/machines.jl:77\n"
     ]
    },
    {
     "name": "stdout",
     "output_type": "stream",
     "text": [
      "(d, train_metric, valid_metric) = (400, 0.9875, 0.8648648648648649)\n"
     ]
    },
    {
     "name": "stderr",
     "output_type": "stream",
     "text": [
      "┌ Warning: The scitype of `X`, in `machine(model, X, ...)` is incompatible with `model=\u001b[34mAdaBoostClassifier @781\u001b[39m`:\n",
      "│ scitype(X) = Table{Union{AbstractArray{Continuous,1}, AbstractArray{Count,1}}}\n",
      "│ input_scitype(model) = Table{var\"#s44\"} where var\"#s44\"<:(AbstractArray{var\"#s13\",1} where var\"#s13\"<:Continuous).\n",
      "└ @ MLJBase /home/andrew/.julia/packages/MLJBase/uKzAz/src/machines.jl:77\n"
     ]
    },
    {
     "name": "stdout",
     "output_type": "stream",
     "text": [
      "(d, train_metric, valid_metric) = (405, 0.9827160493827161, 0.8648648648648649)\n"
     ]
    },
    {
     "name": "stderr",
     "output_type": "stream",
     "text": [
      "┌ Warning: The scitype of `X`, in `machine(model, X, ...)` is incompatible with `model=\u001b[34mAdaBoostClassifier @781\u001b[39m`:\n",
      "│ scitype(X) = Table{Union{AbstractArray{Continuous,1}, AbstractArray{Count,1}}}\n",
      "│ input_scitype(model) = Table{var\"#s44\"} where var\"#s44\"<:(AbstractArray{var\"#s13\",1} where var\"#s13\"<:Continuous).\n",
      "└ @ MLJBase /home/andrew/.julia/packages/MLJBase/uKzAz/src/machines.jl:77\n"
     ]
    },
    {
     "name": "stdout",
     "output_type": "stream",
     "text": [
      "(d, train_metric, valid_metric) = (410, 0.9804878048780488, 0.8648648648648649)\n"
     ]
    },
    {
     "name": "stderr",
     "output_type": "stream",
     "text": [
      "┌ Warning: The scitype of `X`, in `machine(model, X, ...)` is incompatible with `model=\u001b[34mAdaBoostClassifier @781\u001b[39m`:\n",
      "│ scitype(X) = Table{Union{AbstractArray{Continuous,1}, AbstractArray{Count,1}}}\n",
      "│ input_scitype(model) = Table{var\"#s44\"} where var\"#s44\"<:(AbstractArray{var\"#s13\",1} where var\"#s13\"<:Continuous).\n",
      "└ @ MLJBase /home/andrew/.julia/packages/MLJBase/uKzAz/src/machines.jl:77\n"
     ]
    },
    {
     "name": "stdout",
     "output_type": "stream",
     "text": [
      "(d, train_metric, valid_metric) = (415, 0.9855421686746988, 0.8783783783783784)\n"
     ]
    },
    {
     "name": "stderr",
     "output_type": "stream",
     "text": [
      "┌ Warning: The scitype of `X`, in `machine(model, X, ...)` is incompatible with `model=\u001b[34mAdaBoostClassifier @781\u001b[39m`:\n",
      "│ scitype(X) = Table{Union{AbstractArray{Continuous,1}, AbstractArray{Count,1}}}\n",
      "│ input_scitype(model) = Table{var\"#s44\"} where var\"#s44\"<:(AbstractArray{var\"#s13\",1} where var\"#s13\"<:Continuous).\n",
      "└ @ MLJBase /home/andrew/.julia/packages/MLJBase/uKzAz/src/machines.jl:77\n"
     ]
    },
    {
     "name": "stdout",
     "output_type": "stream",
     "text": [
      "(d, train_metric, valid_metric) = (420, 0.9880952380952381, 0.8918918918918919)\n"
     ]
    },
    {
     "name": "stderr",
     "output_type": "stream",
     "text": [
      "┌ Warning: The scitype of `X`, in `machine(model, X, ...)` is incompatible with `model=\u001b[34mAdaBoostClassifier @781\u001b[39m`:\n",
      "│ scitype(X) = Table{Union{AbstractArray{Continuous,1}, AbstractArray{Count,1}}}\n",
      "│ input_scitype(model) = Table{var\"#s44\"} where var\"#s44\"<:(AbstractArray{var\"#s13\",1} where var\"#s13\"<:Continuous).\n",
      "└ @ MLJBase /home/andrew/.julia/packages/MLJBase/uKzAz/src/machines.jl:77\n"
     ]
    },
    {
     "name": "stdout",
     "output_type": "stream",
     "text": [
      "(d, train_metric, valid_metric) = (425, 0.9811764705882353, 0.8851351351351351)\n"
     ]
    },
    {
     "name": "stderr",
     "output_type": "stream",
     "text": [
      "┌ Warning: The scitype of `X`, in `machine(model, X, ...)` is incompatible with `model=\u001b[34mAdaBoostClassifier @781\u001b[39m`:\n",
      "│ scitype(X) = Table{Union{AbstractArray{Continuous,1}, AbstractArray{Count,1}}}\n",
      "│ input_scitype(model) = Table{var\"#s44\"} where var\"#s44\"<:(AbstractArray{var\"#s13\",1} where var\"#s13\"<:Continuous).\n",
      "└ @ MLJBase /home/andrew/.julia/packages/MLJBase/uKzAz/src/machines.jl:77\n"
     ]
    },
    {
     "name": "stdout",
     "output_type": "stream",
     "text": [
      "(d, train_metric, valid_metric) = (430, 0.9744186046511628, 0.8445945945945946)\n"
     ]
    },
    {
     "name": "stderr",
     "output_type": "stream",
     "text": [
      "┌ Warning: The scitype of `X`, in `machine(model, X, ...)` is incompatible with `model=\u001b[34mAdaBoostClassifier @781\u001b[39m`:\n",
      "│ scitype(X) = Table{Union{AbstractArray{Continuous,1}, AbstractArray{Count,1}}}\n",
      "│ input_scitype(model) = Table{var\"#s44\"} where var\"#s44\"<:(AbstractArray{var\"#s13\",1} where var\"#s13\"<:Continuous).\n",
      "└ @ MLJBase /home/andrew/.julia/packages/MLJBase/uKzAz/src/machines.jl:77\n"
     ]
    },
    {
     "name": "stdout",
     "output_type": "stream",
     "text": [
      "(d, train_metric, valid_metric) = (435, 0.9839080459770115, 0.8648648648648649)\n"
     ]
    },
    {
     "name": "stderr",
     "output_type": "stream",
     "text": [
      "┌ Warning: The scitype of `X`, in `machine(model, X, ...)` is incompatible with `model=\u001b[34mAdaBoostClassifier @781\u001b[39m`:\n",
      "│ scitype(X) = Table{Union{AbstractArray{Continuous,1}, AbstractArray{Count,1}}}\n",
      "│ input_scitype(model) = Table{var\"#s44\"} where var\"#s44\"<:(AbstractArray{var\"#s13\",1} where var\"#s13\"<:Continuous).\n",
      "└ @ MLJBase /home/andrew/.julia/packages/MLJBase/uKzAz/src/machines.jl:77\n"
     ]
    },
    {
     "name": "stdout",
     "output_type": "stream",
     "text": [
      "(d, train_metric, valid_metric) = (440, 0.9863636363636363, 0.8648648648648649)\n"
     ]
    },
    {
     "name": "stderr",
     "output_type": "stream",
     "text": [
      "┌ Warning: The scitype of `X`, in `machine(model, X, ...)` is incompatible with `model=\u001b[34mAdaBoostClassifier @781\u001b[39m`:\n",
      "│ scitype(X) = Table{Union{AbstractArray{Continuous,1}, AbstractArray{Count,1}}}\n",
      "│ input_scitype(model) = Table{var\"#s44\"} where var\"#s44\"<:(AbstractArray{var\"#s13\",1} where var\"#s13\"<:Continuous).\n",
      "└ @ MLJBase /home/andrew/.julia/packages/MLJBase/uKzAz/src/machines.jl:77\n"
     ]
    },
    {
     "name": "stdout",
     "output_type": "stream",
     "text": [
      "(d, train_metric, valid_metric) = (445, 0.9887640449438202, 0.8716216216216216)\n"
     ]
    },
    {
     "name": "stderr",
     "output_type": "stream",
     "text": [
      "┌ Warning: The scitype of `X`, in `machine(model, X, ...)` is incompatible with `model=\u001b[34mAdaBoostClassifier @781\u001b[39m`:\n",
      "│ scitype(X) = Table{Union{AbstractArray{Continuous,1}, AbstractArray{Count,1}}}\n",
      "│ input_scitype(model) = Table{var\"#s44\"} where var\"#s44\"<:(AbstractArray{var\"#s13\",1} where var\"#s13\"<:Continuous).\n",
      "└ @ MLJBase /home/andrew/.julia/packages/MLJBase/uKzAz/src/machines.jl:77\n"
     ]
    },
    {
     "name": "stdout",
     "output_type": "stream",
     "text": [
      "(d, train_metric, valid_metric) = (450, 0.9822222222222222, 0.8783783783783784)\n"
     ]
    },
    {
     "name": "stderr",
     "output_type": "stream",
     "text": [
      "┌ Warning: The scitype of `X`, in `machine(model, X, ...)` is incompatible with `model=\u001b[34mAdaBoostClassifier @781\u001b[39m`:\n",
      "│ scitype(X) = Table{Union{AbstractArray{Continuous,1}, AbstractArray{Count,1}}}\n",
      "│ input_scitype(model) = Table{var\"#s44\"} where var\"#s44\"<:(AbstractArray{var\"#s13\",1} where var\"#s13\"<:Continuous).\n",
      "└ @ MLJBase /home/andrew/.julia/packages/MLJBase/uKzAz/src/machines.jl:77\n"
     ]
    },
    {
     "name": "stdout",
     "output_type": "stream",
     "text": [
      "(d, train_metric, valid_metric) = (455, 0.9824175824175824, 0.8716216216216216)\n"
     ]
    },
    {
     "name": "stderr",
     "output_type": "stream",
     "text": [
      "┌ Warning: The scitype of `X`, in `machine(model, X, ...)` is incompatible with `model=\u001b[34mAdaBoostClassifier @781\u001b[39m`:\n",
      "│ scitype(X) = Table{Union{AbstractArray{Continuous,1}, AbstractArray{Count,1}}}\n",
      "│ input_scitype(model) = Table{var\"#s44\"} where var\"#s44\"<:(AbstractArray{var\"#s13\",1} where var\"#s13\"<:Continuous).\n",
      "└ @ MLJBase /home/andrew/.julia/packages/MLJBase/uKzAz/src/machines.jl:77\n"
     ]
    },
    {
     "name": "stdout",
     "output_type": "stream",
     "text": [
      "(d, train_metric, valid_metric) = (460, 0.9847826086956522, 0.8783783783783784)\n"
     ]
    },
    {
     "name": "stderr",
     "output_type": "stream",
     "text": [
      "┌ Warning: The scitype of `X`, in `machine(model, X, ...)` is incompatible with `model=\u001b[34mAdaBoostClassifier @781\u001b[39m`:\n",
      "│ scitype(X) = Table{Union{AbstractArray{Continuous,1}, AbstractArray{Count,1}}}\n",
      "│ input_scitype(model) = Table{var\"#s44\"} where var\"#s44\"<:(AbstractArray{var\"#s13\",1} where var\"#s13\"<:Continuous).\n",
      "└ @ MLJBase /home/andrew/.julia/packages/MLJBase/uKzAz/src/machines.jl:77\n"
     ]
    },
    {
     "name": "stdout",
     "output_type": "stream",
     "text": [
      "(d, train_metric, valid_metric) = (465, 0.9827956989247312, 0.8581081081081081)\n"
     ]
    },
    {
     "name": "stderr",
     "output_type": "stream",
     "text": [
      "┌ Warning: The scitype of `X`, in `machine(model, X, ...)` is incompatible with `model=\u001b[34mAdaBoostClassifier @781\u001b[39m`:\n",
      "│ scitype(X) = Table{Union{AbstractArray{Continuous,1}, AbstractArray{Count,1}}}\n",
      "│ input_scitype(model) = Table{var\"#s44\"} where var\"#s44\"<:(AbstractArray{var\"#s13\",1} where var\"#s13\"<:Continuous).\n",
      "└ @ MLJBase /home/andrew/.julia/packages/MLJBase/uKzAz/src/machines.jl:77\n"
     ]
    },
    {
     "name": "stdout",
     "output_type": "stream",
     "text": [
      "(d, train_metric, valid_metric) = (470, 0.9893617021276596, 0.8716216216216216)\n"
     ]
    },
    {
     "name": "stderr",
     "output_type": "stream",
     "text": [
      "┌ Warning: The scitype of `X`, in `machine(model, X, ...)` is incompatible with `model=\u001b[34mAdaBoostClassifier @781\u001b[39m`:\n",
      "│ scitype(X) = Table{Union{AbstractArray{Continuous,1}, AbstractArray{Count,1}}}\n",
      "│ input_scitype(model) = Table{var\"#s44\"} where var\"#s44\"<:(AbstractArray{var\"#s13\",1} where var\"#s13\"<:Continuous).\n",
      "└ @ MLJBase /home/andrew/.julia/packages/MLJBase/uKzAz/src/machines.jl:77\n"
     ]
    },
    {
     "name": "stdout",
     "output_type": "stream",
     "text": [
      "(d, train_metric, valid_metric) = (475, 0.9831578947368421, 0.8783783783783784)\n"
     ]
    },
    {
     "name": "stderr",
     "output_type": "stream",
     "text": [
      "┌ Warning: The scitype of `X`, in `machine(model, X, ...)` is incompatible with `model=\u001b[34mAdaBoostClassifier @781\u001b[39m`:\n",
      "│ scitype(X) = Table{Union{AbstractArray{Continuous,1}, AbstractArray{Count,1}}}\n",
      "│ input_scitype(model) = Table{var\"#s44\"} where var\"#s44\"<:(AbstractArray{var\"#s13\",1} where var\"#s13\"<:Continuous).\n",
      "└ @ MLJBase /home/andrew/.julia/packages/MLJBase/uKzAz/src/machines.jl:77\n"
     ]
    },
    {
     "name": "stdout",
     "output_type": "stream",
     "text": [
      "(d, train_metric, valid_metric) = (480, 0.9729166666666667, 0.8581081081081081)\n"
     ]
    },
    {
     "name": "stderr",
     "output_type": "stream",
     "text": [
      "┌ Warning: The scitype of `X`, in `machine(model, X, ...)` is incompatible with `model=\u001b[34mAdaBoostClassifier @781\u001b[39m`:\n",
      "│ scitype(X) = Table{Union{AbstractArray{Continuous,1}, AbstractArray{Count,1}}}\n",
      "│ input_scitype(model) = Table{var\"#s44\"} where var\"#s44\"<:(AbstractArray{var\"#s13\",1} where var\"#s13\"<:Continuous).\n",
      "└ @ MLJBase /home/andrew/.julia/packages/MLJBase/uKzAz/src/machines.jl:77\n"
     ]
    },
    {
     "name": "stdout",
     "output_type": "stream",
     "text": [
      "(d, train_metric, valid_metric) = (485, 0.9711340206185567, 0.8648648648648649)\n"
     ]
    },
    {
     "name": "stderr",
     "output_type": "stream",
     "text": [
      "┌ Warning: The scitype of `X`, in `machine(model, X, ...)` is incompatible with `model=\u001b[34mAdaBoostClassifier @781\u001b[39m`:\n",
      "│ scitype(X) = Table{Union{AbstractArray{Continuous,1}, AbstractArray{Count,1}}}\n",
      "│ input_scitype(model) = Table{var\"#s44\"} where var\"#s44\"<:(AbstractArray{var\"#s13\",1} where var\"#s13\"<:Continuous).\n",
      "└ @ MLJBase /home/andrew/.julia/packages/MLJBase/uKzAz/src/machines.jl:77\n"
     ]
    },
    {
     "name": "stdout",
     "output_type": "stream",
     "text": [
      "(d, train_metric, valid_metric) = (490, 0.9755102040816327, 0.8581081081081081)\n"
     ]
    },
    {
     "name": "stderr",
     "output_type": "stream",
     "text": [
      "┌ Warning: The scitype of `X`, in `machine(model, X, ...)` is incompatible with `model=\u001b[34mAdaBoostClassifier @781\u001b[39m`:\n",
      "│ scitype(X) = Table{Union{AbstractArray{Continuous,1}, AbstractArray{Count,1}}}\n",
      "│ input_scitype(model) = Table{var\"#s44\"} where var\"#s44\"<:(AbstractArray{var\"#s13\",1} where var\"#s13\"<:Continuous).\n",
      "└ @ MLJBase /home/andrew/.julia/packages/MLJBase/uKzAz/src/machines.jl:77\n"
     ]
    },
    {
     "name": "stdout",
     "output_type": "stream",
     "text": [
      "(d, train_metric, valid_metric) = (495, 0.9777777777777777, 0.8783783783783784)\n"
     ]
    },
    {
     "name": "stderr",
     "output_type": "stream",
     "text": [
      "┌ Warning: The scitype of `X`, in `machine(model, X, ...)` is incompatible with `model=\u001b[34mAdaBoostClassifier @781\u001b[39m`:\n",
      "│ scitype(X) = Table{Union{AbstractArray{Continuous,1}, AbstractArray{Count,1}}}\n",
      "│ input_scitype(model) = Table{var\"#s44\"} where var\"#s44\"<:(AbstractArray{var\"#s13\",1} where var\"#s13\"<:Continuous).\n",
      "└ @ MLJBase /home/andrew/.julia/packages/MLJBase/uKzAz/src/machines.jl:77\n"
     ]
    },
    {
     "name": "stdout",
     "output_type": "stream",
     "text": [
      "(d, train_metric, valid_metric) = (500, 0.964, 0.8716216216216216)\n"
     ]
    },
    {
     "name": "stderr",
     "output_type": "stream",
     "text": [
      "┌ Warning: The scitype of `X`, in `machine(model, X, ...)` is incompatible with `model=\u001b[34mAdaBoostClassifier @781\u001b[39m`:\n",
      "│ scitype(X) = Table{Union{AbstractArray{Continuous,1}, AbstractArray{Count,1}}}\n",
      "│ input_scitype(model) = Table{var\"#s44\"} where var\"#s44\"<:(AbstractArray{var\"#s13\",1} where var\"#s13\"<:Continuous).\n",
      "└ @ MLJBase /home/andrew/.julia/packages/MLJBase/uKzAz/src/machines.jl:77\n"
     ]
    },
    {
     "name": "stdout",
     "output_type": "stream",
     "text": [
      "(d, train_metric, valid_metric) = (505, 0.9702970297029703, 0.8445945945945946)\n"
     ]
    },
    {
     "name": "stderr",
     "output_type": "stream",
     "text": [
      "┌ Warning: The scitype of `X`, in `machine(model, X, ...)` is incompatible with `model=\u001b[34mAdaBoostClassifier @781\u001b[39m`:\n",
      "│ scitype(X) = Table{Union{AbstractArray{Continuous,1}, AbstractArray{Count,1}}}\n",
      "│ input_scitype(model) = Table{var\"#s44\"} where var\"#s44\"<:(AbstractArray{var\"#s13\",1} where var\"#s13\"<:Continuous).\n",
      "└ @ MLJBase /home/andrew/.julia/packages/MLJBase/uKzAz/src/machines.jl:77\n"
     ]
    },
    {
     "name": "stdout",
     "output_type": "stream",
     "text": [
      "(d, train_metric, valid_metric) = (510, 0.9666666666666667, 0.8783783783783784)\n"
     ]
    },
    {
     "name": "stderr",
     "output_type": "stream",
     "text": [
      "┌ Warning: The scitype of `X`, in `machine(model, X, ...)` is incompatible with `model=\u001b[34mAdaBoostClassifier @781\u001b[39m`:\n",
      "│ scitype(X) = Table{Union{AbstractArray{Continuous,1}, AbstractArray{Count,1}}}\n",
      "│ input_scitype(model) = Table{var\"#s44\"} where var\"#s44\"<:(AbstractArray{var\"#s13\",1} where var\"#s13\"<:Continuous).\n",
      "└ @ MLJBase /home/andrew/.julia/packages/MLJBase/uKzAz/src/machines.jl:77\n"
     ]
    },
    {
     "name": "stdout",
     "output_type": "stream",
     "text": [
      "(d, train_metric, valid_metric) = (515, 0.9728155339805825, 0.8783783783783784)\n"
     ]
    },
    {
     "name": "stderr",
     "output_type": "stream",
     "text": [
      "┌ Warning: The scitype of `X`, in `machine(model, X, ...)` is incompatible with `model=\u001b[34mAdaBoostClassifier @781\u001b[39m`:\n",
      "│ scitype(X) = Table{Union{AbstractArray{Continuous,1}, AbstractArray{Count,1}}}\n",
      "│ input_scitype(model) = Table{var\"#s44\"} where var\"#s44\"<:(AbstractArray{var\"#s13\",1} where var\"#s13\"<:Continuous).\n",
      "└ @ MLJBase /home/andrew/.julia/packages/MLJBase/uKzAz/src/machines.jl:77\n"
     ]
    },
    {
     "name": "stdout",
     "output_type": "stream",
     "text": [
      "(d, train_metric, valid_metric) = (520, 0.9711538461538461, 0.8581081081081081)\n"
     ]
    },
    {
     "name": "stderr",
     "output_type": "stream",
     "text": [
      "┌ Warning: The scitype of `X`, in `machine(model, X, ...)` is incompatible with `model=\u001b[34mAdaBoostClassifier @781\u001b[39m`:\n",
      "│ scitype(X) = Table{Union{AbstractArray{Continuous,1}, AbstractArray{Count,1}}}\n",
      "│ input_scitype(model) = Table{var\"#s44\"} where var\"#s44\"<:(AbstractArray{var\"#s13\",1} where var\"#s13\"<:Continuous).\n",
      "└ @ MLJBase /home/andrew/.julia/packages/MLJBase/uKzAz/src/machines.jl:77\n"
     ]
    },
    {
     "name": "stdout",
     "output_type": "stream",
     "text": [
      "(d, train_metric, valid_metric) = (525, 0.9733333333333334, 0.8648648648648649)\n"
     ]
    },
    {
     "name": "stderr",
     "output_type": "stream",
     "text": [
      "┌ Warning: The scitype of `X`, in `machine(model, X, ...)` is incompatible with `model=\u001b[34mAdaBoostClassifier @781\u001b[39m`:\n",
      "│ scitype(X) = Table{Union{AbstractArray{Continuous,1}, AbstractArray{Count,1}}}\n",
      "│ input_scitype(model) = Table{var\"#s44\"} where var\"#s44\"<:(AbstractArray{var\"#s13\",1} where var\"#s13\"<:Continuous).\n",
      "└ @ MLJBase /home/andrew/.julia/packages/MLJBase/uKzAz/src/machines.jl:77\n"
     ]
    },
    {
     "name": "stdout",
     "output_type": "stream",
     "text": [
      "(d, train_metric, valid_metric) = (530, 0.9754716981132076, 0.8851351351351351)\n"
     ]
    },
    {
     "name": "stderr",
     "output_type": "stream",
     "text": [
      "┌ Warning: The scitype of `X`, in `machine(model, X, ...)` is incompatible with `model=\u001b[34mAdaBoostClassifier @781\u001b[39m`:\n",
      "│ scitype(X) = Table{Union{AbstractArray{Continuous,1}, AbstractArray{Count,1}}}\n",
      "│ input_scitype(model) = Table{var\"#s44\"} where var\"#s44\"<:(AbstractArray{var\"#s13\",1} where var\"#s13\"<:Continuous).\n",
      "└ @ MLJBase /home/andrew/.julia/packages/MLJBase/uKzAz/src/machines.jl:77\n"
     ]
    },
    {
     "name": "stdout",
     "output_type": "stream",
     "text": [
      "(d, train_metric, valid_metric) = (535, 0.9757009345794393, 0.8986486486486487)\n"
     ]
    },
    {
     "name": "stderr",
     "output_type": "stream",
     "text": [
      "┌ Warning: The scitype of `X`, in `machine(model, X, ...)` is incompatible with `model=\u001b[34mAdaBoostClassifier @781\u001b[39m`:\n",
      "│ scitype(X) = Table{Union{AbstractArray{Continuous,1}, AbstractArray{Count,1}}}\n",
      "│ input_scitype(model) = Table{var\"#s44\"} where var\"#s44\"<:(AbstractArray{var\"#s13\",1} where var\"#s13\"<:Continuous).\n",
      "└ @ MLJBase /home/andrew/.julia/packages/MLJBase/uKzAz/src/machines.jl:77\n"
     ]
    },
    {
     "name": "stdout",
     "output_type": "stream",
     "text": [
      "(d, train_metric, valid_metric) = (540, 0.9740740740740741, 0.8648648648648649)\n"
     ]
    },
    {
     "name": "stderr",
     "output_type": "stream",
     "text": [
      "┌ Warning: The scitype of `X`, in `machine(model, X, ...)` is incompatible with `model=\u001b[34mAdaBoostClassifier @781\u001b[39m`:\n",
      "│ scitype(X) = Table{Union{AbstractArray{Continuous,1}, AbstractArray{Count,1}}}\n",
      "│ input_scitype(model) = Table{var\"#s44\"} where var\"#s44\"<:(AbstractArray{var\"#s13\",1} where var\"#s13\"<:Continuous).\n",
      "└ @ MLJBase /home/andrew/.julia/packages/MLJBase/uKzAz/src/machines.jl:77\n"
     ]
    },
    {
     "name": "stdout",
     "output_type": "stream",
     "text": [
      "(d, train_metric, valid_metric) = (545, 0.9669724770642202, 0.8445945945945946)\n"
     ]
    },
    {
     "name": "stderr",
     "output_type": "stream",
     "text": [
      "┌ Warning: The scitype of `X`, in `machine(model, X, ...)` is incompatible with `model=\u001b[34mAdaBoostClassifier @781\u001b[39m`:\n",
      "│ scitype(X) = Table{Union{AbstractArray{Continuous,1}, AbstractArray{Count,1}}}\n",
      "│ input_scitype(model) = Table{var\"#s44\"} where var\"#s44\"<:(AbstractArray{var\"#s13\",1} where var\"#s13\"<:Continuous).\n",
      "└ @ MLJBase /home/andrew/.julia/packages/MLJBase/uKzAz/src/machines.jl:77\n"
     ]
    },
    {
     "name": "stdout",
     "output_type": "stream",
     "text": [
      "(d, train_metric, valid_metric) = (550, 0.9690909090909091, 0.8581081081081081)\n"
     ]
    },
    {
     "name": "stderr",
     "output_type": "stream",
     "text": [
      "┌ Warning: The scitype of `X`, in `machine(model, X, ...)` is incompatible with `model=\u001b[34mAdaBoostClassifier @781\u001b[39m`:\n",
      "│ scitype(X) = Table{Union{AbstractArray{Continuous,1}, AbstractArray{Count,1}}}\n",
      "│ input_scitype(model) = Table{var\"#s44\"} where var\"#s44\"<:(AbstractArray{var\"#s13\",1} where var\"#s13\"<:Continuous).\n",
      "└ @ MLJBase /home/andrew/.julia/packages/MLJBase/uKzAz/src/machines.jl:77\n"
     ]
    },
    {
     "name": "stdout",
     "output_type": "stream",
     "text": [
      "(d, train_metric, valid_metric) = (555, 0.9657657657657658, 0.8445945945945946)\n"
     ]
    },
    {
     "name": "stderr",
     "output_type": "stream",
     "text": [
      "┌ Warning: The scitype of `X`, in `machine(model, X, ...)` is incompatible with `model=\u001b[34mAdaBoostClassifier @781\u001b[39m`:\n",
      "│ scitype(X) = Table{Union{AbstractArray{Continuous,1}, AbstractArray{Count,1}}}\n",
      "│ input_scitype(model) = Table{var\"#s44\"} where var\"#s44\"<:(AbstractArray{var\"#s13\",1} where var\"#s13\"<:Continuous).\n",
      "└ @ MLJBase /home/andrew/.julia/packages/MLJBase/uKzAz/src/machines.jl:77\n"
     ]
    },
    {
     "name": "stdout",
     "output_type": "stream",
     "text": [
      "(d, train_metric, valid_metric) = (560, 0.9642857142857143, 0.8783783783783784)\n"
     ]
    },
    {
     "name": "stderr",
     "output_type": "stream",
     "text": [
      "┌ Warning: The scitype of `X`, in `machine(model, X, ...)` is incompatible with `model=\u001b[34mAdaBoostClassifier @781\u001b[39m`:\n",
      "│ scitype(X) = Table{Union{AbstractArray{Continuous,1}, AbstractArray{Count,1}}}\n",
      "│ input_scitype(model) = Table{var\"#s44\"} where var\"#s44\"<:(AbstractArray{var\"#s13\",1} where var\"#s13\"<:Continuous).\n",
      "└ @ MLJBase /home/andrew/.julia/packages/MLJBase/uKzAz/src/machines.jl:77\n"
     ]
    },
    {
     "name": "stdout",
     "output_type": "stream",
     "text": [
      "(d, train_metric, valid_metric) = (565, 0.968141592920354, 0.8716216216216216)\n"
     ]
    },
    {
     "name": "stderr",
     "output_type": "stream",
     "text": [
      "┌ Warning: The scitype of `X`, in `machine(model, X, ...)` is incompatible with `model=\u001b[34mAdaBoostClassifier @781\u001b[39m`:\n",
      "│ scitype(X) = Table{Union{AbstractArray{Continuous,1}, AbstractArray{Count,1}}}\n",
      "│ input_scitype(model) = Table{var\"#s44\"} where var\"#s44\"<:(AbstractArray{var\"#s13\",1} where var\"#s13\"<:Continuous).\n",
      "└ @ MLJBase /home/andrew/.julia/packages/MLJBase/uKzAz/src/machines.jl:77\n"
     ]
    },
    {
     "name": "stdout",
     "output_type": "stream",
     "text": [
      "(d, train_metric, valid_metric) = (570, 0.9649122807017544, 0.8513513513513513)\n"
     ]
    },
    {
     "name": "stderr",
     "output_type": "stream",
     "text": [
      "┌ Warning: The scitype of `X`, in `machine(model, X, ...)` is incompatible with `model=\u001b[34mAdaBoostClassifier @781\u001b[39m`:\n",
      "│ scitype(X) = Table{Union{AbstractArray{Continuous,1}, AbstractArray{Count,1}}}\n",
      "│ input_scitype(model) = Table{var\"#s44\"} where var\"#s44\"<:(AbstractArray{var\"#s13\",1} where var\"#s13\"<:Continuous).\n",
      "└ @ MLJBase /home/andrew/.julia/packages/MLJBase/uKzAz/src/machines.jl:77\n"
     ]
    },
    {
     "name": "stdout",
     "output_type": "stream",
     "text": [
      "(d, train_metric, valid_metric) = (575, 0.9721739130434782, 0.8513513513513513)\n"
     ]
    },
    {
     "name": "stderr",
     "output_type": "stream",
     "text": [
      "┌ Warning: The scitype of `X`, in `machine(model, X, ...)` is incompatible with `model=\u001b[34mAdaBoostClassifier @781\u001b[39m`:\n",
      "│ scitype(X) = Table{Union{AbstractArray{Continuous,1}, AbstractArray{Count,1}}}\n",
      "│ input_scitype(model) = Table{var\"#s44\"} where var\"#s44\"<:(AbstractArray{var\"#s13\",1} where var\"#s13\"<:Continuous).\n",
      "└ @ MLJBase /home/andrew/.julia/packages/MLJBase/uKzAz/src/machines.jl:77\n"
     ]
    },
    {
     "name": "stdout",
     "output_type": "stream",
     "text": [
      "(d, train_metric, valid_metric) = (580, 0.9655172413793104, 0.8851351351351351)\n"
     ]
    },
    {
     "name": "stderr",
     "output_type": "stream",
     "text": [
      "┌ Warning: The scitype of `X`, in `machine(model, X, ...)` is incompatible with `model=\u001b[34mAdaBoostClassifier @781\u001b[39m`:\n",
      "│ scitype(X) = Table{Union{AbstractArray{Continuous,1}, AbstractArray{Count,1}}}\n",
      "│ input_scitype(model) = Table{var\"#s44\"} where var\"#s44\"<:(AbstractArray{var\"#s13\",1} where var\"#s13\"<:Continuous).\n",
      "└ @ MLJBase /home/andrew/.julia/packages/MLJBase/uKzAz/src/machines.jl:77\n"
     ]
    },
    {
     "name": "stdout",
     "output_type": "stream",
     "text": [
      "(d, train_metric, valid_metric) = (585, 0.9572649572649573, 0.8581081081081081)\n"
     ]
    },
    {
     "name": "stderr",
     "output_type": "stream",
     "text": [
      "┌ Warning: The scitype of `X`, in `machine(model, X, ...)` is incompatible with `model=\u001b[34mAdaBoostClassifier @781\u001b[39m`:\n",
      "│ scitype(X) = Table{Union{AbstractArray{Continuous,1}, AbstractArray{Count,1}}}\n",
      "│ input_scitype(model) = Table{var\"#s44\"} where var\"#s44\"<:(AbstractArray{var\"#s13\",1} where var\"#s13\"<:Continuous).\n",
      "└ @ MLJBase /home/andrew/.julia/packages/MLJBase/uKzAz/src/machines.jl:77\n"
     ]
    },
    {
     "name": "stdout",
     "output_type": "stream",
     "text": [
      "(d, train_metric, valid_metric) = (590, 0.9627118644067797, 0.8851351351351351)\n"
     ]
    },
    {
     "data": {
      "text/plain": [
       "(10:5:590, Any[1.0, 1.0, 1.0, 1.0, 1.0, 1.0, 1.0, 1.0, 1.0, 1.0  …  0.9669724770642202, 0.9690909090909091, 0.9657657657657658, 0.9642857142857143, 0.968141592920354, 0.9649122807017544, 0.9721739130434782, 0.9655172413793104, 0.9572649572649573, 0.9627118644067797], Any[0.6283783783783784, 0.6283783783783784, 0.75, 0.8108108108108109, 0.7702702702702703, 0.8175675675675675, 0.7364864864864865, 0.7094594594594594, 0.777027027027027, 0.8108108108108109  …  0.8445945945945946, 0.8581081081081081, 0.8445945945945946, 0.8783783783783784, 0.8716216216216216, 0.8513513513513513, 0.8513513513513513, 0.8851351351351351, 0.8581081081081081, 0.8851351351351351])"
      ]
     },
     "execution_count": 218,
     "metadata": {},
     "output_type": "execute_result"
    }
   ],
   "source": [
    "data_schedule, training_losses, valid_losses = learn_curve(best.best_model, X_stand[train,:], y[train], acc)"
   ]
  },
  {
   "cell_type": "code",
   "execution_count": 220,
   "metadata": {},
   "outputs": [
    {
     "data": {
      "image/svg+xml": [
       "<?xml version=\"1.0\" encoding=\"utf-8\"?>\n",
       "<svg xmlns=\"http://www.w3.org/2000/svg\" xmlns:xlink=\"http://www.w3.org/1999/xlink\" width=\"600\" height=\"400\" viewBox=\"0 0 2400 1600\">\n",
       "<defs>\n",
       "  <clipPath id=\"clip060\">\n",
       "    <rect x=\"0\" y=\"0\" width=\"2400\" height=\"1600\"/>\n",
       "  </clipPath>\n",
       "</defs>\n",
       "<path clip-path=\"url(#clip060)\" d=\"\n",
       "M0 1600 L2400 1600 L2400 0 L0 0  Z\n",
       "  \" fill=\"#ffffff\" fill-rule=\"evenodd\" fill-opacity=\"1\"/>\n",
       "<defs>\n",
       "  <clipPath id=\"clip061\">\n",
       "    <rect x=\"480\" y=\"0\" width=\"1681\" height=\"1600\"/>\n",
       "  </clipPath>\n",
       "</defs>\n",
       "<path clip-path=\"url(#clip060)\" d=\"\n",
       "M211.024 1423.18 L2352.76 1423.18 L2352.76 47.2441 L211.024 47.2441  Z\n",
       "  \" fill=\"#ffffff\" fill-rule=\"evenodd\" fill-opacity=\"1\"/>\n",
       "<defs>\n",
       "  <clipPath id=\"clip062\">\n",
       "    <rect x=\"211\" y=\"47\" width=\"2143\" height=\"1377\"/>\n",
       "  </clipPath>\n",
       "</defs>\n",
       "<polyline clip-path=\"url(#clip062)\" style=\"stroke:#000000; stroke-width:2; stroke-opacity:0.1; fill:none\" points=\"\n",
       "  236.803,1423.18 236.803,47.2441 \n",
       "  \"/>\n",
       "<polyline clip-path=\"url(#clip062)\" style=\"stroke:#000000; stroke-width:2; stroke-opacity:0.1; fill:none\" points=\"\n",
       "  585.165,1423.18 585.165,47.2441 \n",
       "  \"/>\n",
       "<polyline clip-path=\"url(#clip062)\" style=\"stroke:#000000; stroke-width:2; stroke-opacity:0.1; fill:none\" points=\"\n",
       "  933.527,1423.18 933.527,47.2441 \n",
       "  \"/>\n",
       "<polyline clip-path=\"url(#clip062)\" style=\"stroke:#000000; stroke-width:2; stroke-opacity:0.1; fill:none\" points=\"\n",
       "  1281.89,1423.18 1281.89,47.2441 \n",
       "  \"/>\n",
       "<polyline clip-path=\"url(#clip062)\" style=\"stroke:#000000; stroke-width:2; stroke-opacity:0.1; fill:none\" points=\"\n",
       "  1630.25,1423.18 1630.25,47.2441 \n",
       "  \"/>\n",
       "<polyline clip-path=\"url(#clip062)\" style=\"stroke:#000000; stroke-width:2; stroke-opacity:0.1; fill:none\" points=\"\n",
       "  1978.61,1423.18 1978.61,47.2441 \n",
       "  \"/>\n",
       "<polyline clip-path=\"url(#clip062)\" style=\"stroke:#000000; stroke-width:2; stroke-opacity:0.1; fill:none\" points=\"\n",
       "  2326.98,1423.18 2326.98,47.2441 \n",
       "  \"/>\n",
       "<polyline clip-path=\"url(#clip062)\" style=\"stroke:#000000; stroke-width:2; stroke-opacity:0.1; fill:none\" points=\"\n",
       "  211.024,1134.07 2352.76,1134.07 \n",
       "  \"/>\n",
       "<polyline clip-path=\"url(#clip062)\" style=\"stroke:#000000; stroke-width:2; stroke-opacity:0.1; fill:none\" points=\"\n",
       "  211.024,784.774 2352.76,784.774 \n",
       "  \"/>\n",
       "<polyline clip-path=\"url(#clip062)\" style=\"stroke:#000000; stroke-width:2; stroke-opacity:0.1; fill:none\" points=\"\n",
       "  211.024,435.48 2352.76,435.48 \n",
       "  \"/>\n",
       "<polyline clip-path=\"url(#clip062)\" style=\"stroke:#000000; stroke-width:2; stroke-opacity:0.1; fill:none\" points=\"\n",
       "  211.024,86.1857 2352.76,86.1857 \n",
       "  \"/>\n",
       "<polyline clip-path=\"url(#clip060)\" style=\"stroke:#000000; stroke-width:4; stroke-opacity:1; fill:none\" points=\"\n",
       "  211.024,1423.18 2352.76,1423.18 \n",
       "  \"/>\n",
       "<polyline clip-path=\"url(#clip060)\" style=\"stroke:#000000; stroke-width:4; stroke-opacity:1; fill:none\" points=\"\n",
       "  211.024,1423.18 211.024,47.2441 \n",
       "  \"/>\n",
       "<polyline clip-path=\"url(#clip060)\" style=\"stroke:#000000; stroke-width:4; stroke-opacity:1; fill:none\" points=\"\n",
       "  236.803,1423.18 236.803,1406.67 \n",
       "  \"/>\n",
       "<polyline clip-path=\"url(#clip060)\" style=\"stroke:#000000; stroke-width:4; stroke-opacity:1; fill:none\" points=\"\n",
       "  585.165,1423.18 585.165,1406.67 \n",
       "  \"/>\n",
       "<polyline clip-path=\"url(#clip060)\" style=\"stroke:#000000; stroke-width:4; stroke-opacity:1; fill:none\" points=\"\n",
       "  933.527,1423.18 933.527,1406.67 \n",
       "  \"/>\n",
       "<polyline clip-path=\"url(#clip060)\" style=\"stroke:#000000; stroke-width:4; stroke-opacity:1; fill:none\" points=\"\n",
       "  1281.89,1423.18 1281.89,1406.67 \n",
       "  \"/>\n",
       "<polyline clip-path=\"url(#clip060)\" style=\"stroke:#000000; stroke-width:4; stroke-opacity:1; fill:none\" points=\"\n",
       "  1630.25,1423.18 1630.25,1406.67 \n",
       "  \"/>\n",
       "<polyline clip-path=\"url(#clip060)\" style=\"stroke:#000000; stroke-width:4; stroke-opacity:1; fill:none\" points=\"\n",
       "  1978.61,1423.18 1978.61,1406.67 \n",
       "  \"/>\n",
       "<polyline clip-path=\"url(#clip060)\" style=\"stroke:#000000; stroke-width:4; stroke-opacity:1; fill:none\" points=\"\n",
       "  2326.98,1423.18 2326.98,1406.67 \n",
       "  \"/>\n",
       "<polyline clip-path=\"url(#clip060)\" style=\"stroke:#000000; stroke-width:4; stroke-opacity:1; fill:none\" points=\"\n",
       "  211.024,1134.07 236.725,1134.07 \n",
       "  \"/>\n",
       "<polyline clip-path=\"url(#clip060)\" style=\"stroke:#000000; stroke-width:4; stroke-opacity:1; fill:none\" points=\"\n",
       "  211.024,784.774 236.725,784.774 \n",
       "  \"/>\n",
       "<polyline clip-path=\"url(#clip060)\" style=\"stroke:#000000; stroke-width:4; stroke-opacity:1; fill:none\" points=\"\n",
       "  211.024,435.48 236.725,435.48 \n",
       "  \"/>\n",
       "<polyline clip-path=\"url(#clip060)\" style=\"stroke:#000000; stroke-width:4; stroke-opacity:1; fill:none\" points=\"\n",
       "  211.024,86.1857 236.725,86.1857 \n",
       "  \"/>\n",
       "<path clip-path=\"url(#clip060)\" d=\"M 0 0 M236.803 1445.17 Q233.191 1445.17 231.363 1448.74 Q229.557 1452.28 229.557 1459.41 Q229.557 1466.51 231.363 1470.08 Q233.191 1473.62 236.803 1473.62 Q240.437 1473.62 242.242 1470.08 Q244.071 1466.51 244.071 1459.41 Q244.071 1452.28 242.242 1448.74 Q240.437 1445.17 236.803 1445.17 M236.803 1441.47 Q242.613 1441.47 245.668 1446.07 Q248.747 1450.66 248.747 1459.41 Q248.747 1468.13 245.668 1472.74 Q242.613 1477.32 236.803 1477.32 Q230.992 1477.32 227.914 1472.74 Q224.858 1468.13 224.858 1459.41 Q224.858 1450.66 227.914 1446.07 Q230.992 1441.47 236.803 1441.47 Z\" fill=\"#000000\" fill-rule=\"evenodd\" fill-opacity=\"1\" /><path clip-path=\"url(#clip060)\" d=\"M 0 0 M548.533 1472.72 L556.172 1472.72 L556.172 1446.35 L547.862 1448.02 L547.862 1443.76 L556.126 1442.09 L560.802 1442.09 L560.802 1472.72 L568.441 1472.72 L568.441 1476.65 L548.533 1476.65 L548.533 1472.72 Z\" fill=\"#000000\" fill-rule=\"evenodd\" fill-opacity=\"1\" /><path clip-path=\"url(#clip060)\" d=\"M 0 0 M583.51 1445.17 Q579.899 1445.17 578.07 1448.74 Q576.265 1452.28 576.265 1459.41 Q576.265 1466.51 578.07 1470.08 Q579.899 1473.62 583.51 1473.62 Q587.144 1473.62 588.95 1470.08 Q590.778 1466.51 590.778 1459.41 Q590.778 1452.28 588.95 1448.74 Q587.144 1445.17 583.51 1445.17 M583.51 1441.47 Q589.32 1441.47 592.376 1446.07 Q595.454 1450.66 595.454 1459.41 Q595.454 1468.13 592.376 1472.74 Q589.32 1477.32 583.51 1477.32 Q577.7 1477.32 574.621 1472.74 Q571.566 1468.13 571.566 1459.41 Q571.566 1450.66 574.621 1446.07 Q577.7 1441.47 583.51 1441.47 Z\" fill=\"#000000\" fill-rule=\"evenodd\" fill-opacity=\"1\" /><path clip-path=\"url(#clip060)\" d=\"M 0 0 M610.524 1445.17 Q606.913 1445.17 605.084 1448.74 Q603.278 1452.28 603.278 1459.41 Q603.278 1466.51 605.084 1470.08 Q606.913 1473.62 610.524 1473.62 Q614.158 1473.62 615.963 1470.08 Q617.792 1466.51 617.792 1459.41 Q617.792 1452.28 615.963 1448.74 Q614.158 1445.17 610.524 1445.17 M610.524 1441.47 Q616.334 1441.47 619.389 1446.07 Q622.468 1450.66 622.468 1459.41 Q622.468 1468.13 619.389 1472.74 Q616.334 1477.32 610.524 1477.32 Q604.713 1477.32 601.635 1472.74 Q598.579 1468.13 598.579 1459.41 Q598.579 1450.66 601.635 1446.07 Q604.713 1441.47 610.524 1441.47 Z\" fill=\"#000000\" fill-rule=\"evenodd\" fill-opacity=\"1\" /><path clip-path=\"url(#clip060)\" d=\"M 0 0 M901.166 1472.72 L917.486 1472.72 L917.486 1476.65 L895.541 1476.65 L895.541 1472.72 Q898.204 1469.96 902.787 1465.33 Q907.393 1460.68 908.574 1459.34 Q910.819 1456.81 911.699 1455.08 Q912.602 1453.32 912.602 1451.63 Q912.602 1448.87 910.657 1447.14 Q908.736 1445.4 905.634 1445.4 Q903.435 1445.4 900.981 1446.17 Q898.551 1446.93 895.773 1448.48 L895.773 1443.76 Q898.597 1442.62 901.051 1442.05 Q903.504 1441.47 905.541 1441.47 Q910.912 1441.47 914.106 1444.15 Q917.301 1446.84 917.301 1451.33 Q917.301 1453.46 916.49 1455.38 Q915.703 1457.28 913.597 1459.87 Q913.018 1460.54 909.916 1463.76 Q906.815 1466.95 901.166 1472.72 Z\" fill=\"#000000\" fill-rule=\"evenodd\" fill-opacity=\"1\" /><path clip-path=\"url(#clip060)\" d=\"M 0 0 M932.555 1445.17 Q928.944 1445.17 927.115 1448.74 Q925.31 1452.28 925.31 1459.41 Q925.31 1466.51 927.115 1470.08 Q928.944 1473.62 932.555 1473.62 Q936.189 1473.62 937.995 1470.08 Q939.824 1466.51 939.824 1459.41 Q939.824 1452.28 937.995 1448.74 Q936.189 1445.17 932.555 1445.17 M932.555 1441.47 Q938.365 1441.47 941.421 1446.07 Q944.5 1450.66 944.5 1459.41 Q944.5 1468.13 941.421 1472.74 Q938.365 1477.32 932.555 1477.32 Q926.745 1477.32 923.666 1472.74 Q920.611 1468.13 920.611 1459.41 Q920.611 1450.66 923.666 1446.07 Q926.745 1441.47 932.555 1441.47 Z\" fill=\"#000000\" fill-rule=\"evenodd\" fill-opacity=\"1\" /><path clip-path=\"url(#clip060)\" d=\"M 0 0 M959.569 1445.17 Q955.958 1445.17 954.129 1448.74 Q952.324 1452.28 952.324 1459.41 Q952.324 1466.51 954.129 1470.08 Q955.958 1473.62 959.569 1473.62 Q963.203 1473.62 965.009 1470.08 Q966.837 1466.51 966.837 1459.41 Q966.837 1452.28 965.009 1448.74 Q963.203 1445.17 959.569 1445.17 M959.569 1441.47 Q965.379 1441.47 968.435 1446.07 Q971.513 1450.66 971.513 1459.41 Q971.513 1468.13 968.435 1472.74 Q965.379 1477.32 959.569 1477.32 Q953.759 1477.32 950.68 1472.74 Q947.625 1468.13 947.625 1459.41 Q947.625 1450.66 950.68 1446.07 Q953.759 1441.47 959.569 1441.47 Z\" fill=\"#000000\" fill-rule=\"evenodd\" fill-opacity=\"1\" /><path clip-path=\"url(#clip060)\" d=\"M 0 0 M1259.12 1458.02 Q1262.48 1458.74 1264.36 1461 Q1266.25 1463.27 1266.25 1466.61 Q1266.25 1471.72 1262.73 1474.52 Q1259.22 1477.32 1252.73 1477.32 Q1250.56 1477.32 1248.24 1476.88 Q1245.95 1476.47 1243.5 1475.61 L1243.5 1471.1 Q1245.44 1472.23 1247.76 1472.81 Q1250.07 1473.39 1252.6 1473.39 Q1256.99 1473.39 1259.29 1471.65 Q1261.6 1469.92 1261.6 1466.61 Q1261.6 1463.55 1259.45 1461.84 Q1257.32 1460.1 1253.5 1460.1 L1249.47 1460.1 L1249.47 1456.26 L1253.68 1456.26 Q1257.13 1456.26 1258.96 1454.89 Q1260.79 1453.5 1260.79 1450.91 Q1260.79 1448.25 1258.89 1446.84 Q1257.02 1445.4 1253.5 1445.4 Q1251.58 1445.4 1249.38 1445.82 Q1247.18 1446.24 1244.54 1447.11 L1244.54 1442.95 Q1247.2 1442.21 1249.52 1441.84 Q1251.86 1441.47 1253.92 1441.47 Q1259.24 1441.47 1262.34 1443.9 Q1265.44 1446.3 1265.44 1450.43 Q1265.44 1453.3 1263.8 1455.29 Q1262.16 1457.25 1259.12 1458.02 Z\" fill=\"#000000\" fill-rule=\"evenodd\" fill-opacity=\"1\" /><path clip-path=\"url(#clip060)\" d=\"M 0 0 M1281.32 1445.17 Q1277.71 1445.17 1275.88 1448.74 Q1274.08 1452.28 1274.08 1459.41 Q1274.08 1466.51 1275.88 1470.08 Q1277.71 1473.62 1281.32 1473.62 Q1284.96 1473.62 1286.76 1470.08 Q1288.59 1466.51 1288.59 1459.41 Q1288.59 1452.28 1286.76 1448.74 Q1284.96 1445.17 1281.32 1445.17 M1281.32 1441.47 Q1287.13 1441.47 1290.19 1446.07 Q1293.27 1450.66 1293.27 1459.41 Q1293.27 1468.13 1290.19 1472.74 Q1287.13 1477.32 1281.32 1477.32 Q1275.51 1477.32 1272.43 1472.74 Q1269.38 1468.13 1269.38 1459.41 Q1269.38 1450.66 1272.43 1446.07 Q1275.51 1441.47 1281.32 1441.47 Z\" fill=\"#000000\" fill-rule=\"evenodd\" fill-opacity=\"1\" /><path clip-path=\"url(#clip060)\" d=\"M 0 0 M1308.34 1445.17 Q1304.73 1445.17 1302.9 1448.74 Q1301.09 1452.28 1301.09 1459.41 Q1301.09 1466.51 1302.9 1470.08 Q1304.73 1473.62 1308.34 1473.62 Q1311.97 1473.62 1313.78 1470.08 Q1315.6 1466.51 1315.6 1459.41 Q1315.6 1452.28 1313.78 1448.74 Q1311.97 1445.17 1308.34 1445.17 M1308.34 1441.47 Q1314.15 1441.47 1317.2 1446.07 Q1320.28 1450.66 1320.28 1459.41 Q1320.28 1468.13 1317.2 1472.74 Q1314.15 1477.32 1308.34 1477.32 Q1302.53 1477.32 1299.45 1472.74 Q1296.39 1468.13 1296.39 1459.41 Q1296.39 1450.66 1299.45 1446.07 Q1302.53 1441.47 1308.34 1441.47 Z\" fill=\"#000000\" fill-rule=\"evenodd\" fill-opacity=\"1\" /><path clip-path=\"url(#clip060)\" d=\"M 0 0 M1606.25 1446.17 L1594.44 1464.61 L1606.25 1464.61 L1606.25 1446.17 M1605.02 1442.09 L1610.9 1442.09 L1610.9 1464.61 L1615.83 1464.61 L1615.83 1468.5 L1610.9 1468.5 L1610.9 1476.65 L1606.25 1476.65 L1606.25 1468.5 L1590.65 1468.5 L1590.65 1463.99 L1605.02 1442.09 Z\" fill=\"#000000\" fill-rule=\"evenodd\" fill-opacity=\"1\" /><path clip-path=\"url(#clip060)\" d=\"M 0 0 M1630.9 1445.17 Q1627.29 1445.17 1625.46 1448.74 Q1623.66 1452.28 1623.66 1459.41 Q1623.66 1466.51 1625.46 1470.08 Q1627.29 1473.62 1630.9 1473.62 Q1634.53 1473.62 1636.34 1470.08 Q1638.17 1466.51 1638.17 1459.41 Q1638.17 1452.28 1636.34 1448.74 Q1634.53 1445.17 1630.9 1445.17 M1630.9 1441.47 Q1636.71 1441.47 1639.77 1446.07 Q1642.84 1450.66 1642.84 1459.41 Q1642.84 1468.13 1639.77 1472.74 Q1636.71 1477.32 1630.9 1477.32 Q1625.09 1477.32 1622.01 1472.74 Q1618.96 1468.13 1618.96 1459.41 Q1618.96 1450.66 1622.01 1446.07 Q1625.09 1441.47 1630.9 1441.47 Z\" fill=\"#000000\" fill-rule=\"evenodd\" fill-opacity=\"1\" /><path clip-path=\"url(#clip060)\" d=\"M 0 0 M1657.91 1445.17 Q1654.3 1445.17 1652.47 1448.74 Q1650.67 1452.28 1650.67 1459.41 Q1650.67 1466.51 1652.47 1470.08 Q1654.3 1473.62 1657.91 1473.62 Q1661.55 1473.62 1663.35 1470.08 Q1665.18 1466.51 1665.18 1459.41 Q1665.18 1452.28 1663.35 1448.74 Q1661.55 1445.17 1657.91 1445.17 M1657.91 1441.47 Q1663.72 1441.47 1666.78 1446.07 Q1669.86 1450.66 1669.86 1459.41 Q1669.86 1468.13 1666.78 1472.74 Q1663.72 1477.32 1657.91 1477.32 Q1652.1 1477.32 1649.03 1472.74 Q1645.97 1468.13 1645.97 1459.41 Q1645.97 1450.66 1649.03 1446.07 Q1652.1 1441.47 1657.91 1441.47 Z\" fill=\"#000000\" fill-rule=\"evenodd\" fill-opacity=\"1\" /><path clip-path=\"url(#clip060)\" d=\"M 0 0 M1941.88 1442.09 L1960.24 1442.09 L1960.24 1446.03 L1946.16 1446.03 L1946.16 1454.5 Q1947.18 1454.15 1948.2 1453.99 Q1949.22 1453.8 1950.24 1453.8 Q1956.02 1453.8 1959.4 1456.98 Q1962.78 1460.15 1962.78 1465.56 Q1962.78 1471.14 1959.31 1474.24 Q1955.84 1477.32 1949.52 1477.32 Q1947.34 1477.32 1945.07 1476.95 Q1942.83 1476.58 1940.42 1475.84 L1940.42 1471.14 Q1942.5 1472.28 1944.73 1472.83 Q1946.95 1473.39 1949.43 1473.39 Q1953.43 1473.39 1955.77 1471.28 Q1958.11 1469.18 1958.11 1465.56 Q1958.11 1461.95 1955.77 1459.85 Q1953.43 1457.74 1949.43 1457.74 Q1947.55 1457.74 1945.68 1458.16 Q1943.82 1458.57 1941.88 1459.45 L1941.88 1442.09 Z\" fill=\"#000000\" fill-rule=\"evenodd\" fill-opacity=\"1\" /><path clip-path=\"url(#clip060)\" d=\"M 0 0 M1977.85 1445.17 Q1974.24 1445.17 1972.41 1448.74 Q1970.61 1452.28 1970.61 1459.41 Q1970.61 1466.51 1972.41 1470.08 Q1974.24 1473.62 1977.85 1473.62 Q1981.49 1473.62 1983.29 1470.08 Q1985.12 1466.51 1985.12 1459.41 Q1985.12 1452.28 1983.29 1448.74 Q1981.49 1445.17 1977.85 1445.17 M1977.85 1441.47 Q1983.66 1441.47 1986.72 1446.07 Q1989.8 1450.66 1989.8 1459.41 Q1989.8 1468.13 1986.72 1472.74 Q1983.66 1477.32 1977.85 1477.32 Q1972.04 1477.32 1968.96 1472.74 Q1965.91 1468.13 1965.91 1459.41 Q1965.91 1450.66 1968.96 1446.07 Q1972.04 1441.47 1977.85 1441.47 Z\" fill=\"#000000\" fill-rule=\"evenodd\" fill-opacity=\"1\" /><path clip-path=\"url(#clip060)\" d=\"M 0 0 M2004.86 1445.17 Q2001.25 1445.17 1999.42 1448.74 Q1997.62 1452.28 1997.62 1459.41 Q1997.62 1466.51 1999.42 1470.08 Q2001.25 1473.62 2004.86 1473.62 Q2008.5 1473.62 2010.3 1470.08 Q2012.13 1466.51 2012.13 1459.41 Q2012.13 1452.28 2010.3 1448.74 Q2008.5 1445.17 2004.86 1445.17 M2004.86 1441.47 Q2010.67 1441.47 2013.73 1446.07 Q2016.81 1450.66 2016.81 1459.41 Q2016.81 1468.13 2013.73 1472.74 Q2010.67 1477.32 2004.86 1477.32 Q1999.05 1477.32 1995.98 1472.74 Q1992.92 1468.13 1992.92 1459.41 Q1992.92 1450.66 1995.98 1446.07 Q1999.05 1441.47 2004.86 1441.47 Z\" fill=\"#000000\" fill-rule=\"evenodd\" fill-opacity=\"1\" /><path clip-path=\"url(#clip060)\" d=\"M 0 0 M2300.37 1457.51 Q2297.22 1457.51 2295.37 1459.66 Q2293.54 1461.81 2293.54 1465.56 Q2293.54 1469.29 2295.37 1471.47 Q2297.22 1473.62 2300.37 1473.62 Q2303.52 1473.62 2305.35 1471.47 Q2307.2 1469.29 2307.2 1465.56 Q2307.2 1461.81 2305.35 1459.66 Q2303.52 1457.51 2300.37 1457.51 M2309.65 1442.86 L2309.65 1447.11 Q2307.89 1446.28 2306.09 1445.84 Q2304.3 1445.4 2302.54 1445.4 Q2297.91 1445.4 2295.46 1448.53 Q2293.03 1451.65 2292.68 1457.97 Q2294.05 1455.96 2296.11 1454.89 Q2298.17 1453.8 2300.65 1453.8 Q2305.85 1453.8 2308.86 1456.98 Q2311.9 1460.12 2311.9 1465.56 Q2311.9 1470.89 2308.75 1474.11 Q2305.6 1477.32 2300.37 1477.32 Q2294.37 1477.32 2291.2 1472.74 Q2288.03 1468.13 2288.03 1459.41 Q2288.03 1451.21 2291.92 1446.35 Q2295.81 1441.47 2302.36 1441.47 Q2304.12 1441.47 2305.9 1441.81 Q2307.71 1442.16 2309.65 1442.86 Z\" fill=\"#000000\" fill-rule=\"evenodd\" fill-opacity=\"1\" /><path clip-path=\"url(#clip060)\" d=\"M 0 0 M2326.97 1445.17 Q2323.35 1445.17 2321.53 1448.74 Q2319.72 1452.28 2319.72 1459.41 Q2319.72 1466.51 2321.53 1470.08 Q2323.35 1473.62 2326.97 1473.62 Q2330.6 1473.62 2332.41 1470.08 Q2334.23 1466.51 2334.23 1459.41 Q2334.23 1452.28 2332.41 1448.74 Q2330.6 1445.17 2326.97 1445.17 M2326.97 1441.47 Q2332.78 1441.47 2335.83 1446.07 Q2338.91 1450.66 2338.91 1459.41 Q2338.91 1468.13 2335.83 1472.74 Q2332.78 1477.32 2326.97 1477.32 Q2321.16 1477.32 2318.08 1472.74 Q2315.02 1468.13 2315.02 1459.41 Q2315.02 1450.66 2318.08 1446.07 Q2321.16 1441.47 2326.97 1441.47 Z\" fill=\"#000000\" fill-rule=\"evenodd\" fill-opacity=\"1\" /><path clip-path=\"url(#clip060)\" d=\"M 0 0 M2353.98 1445.17 Q2350.37 1445.17 2348.54 1448.74 Q2346.73 1452.28 2346.73 1459.41 Q2346.73 1466.51 2348.54 1470.08 Q2350.37 1473.62 2353.98 1473.62 Q2357.61 1473.62 2359.42 1470.08 Q2361.25 1466.51 2361.25 1459.41 Q2361.25 1452.28 2359.42 1448.74 Q2357.61 1445.17 2353.98 1445.17 M2353.98 1441.47 Q2359.79 1441.47 2362.84 1446.07 Q2365.92 1450.66 2365.92 1459.41 Q2365.92 1468.13 2362.84 1472.74 Q2359.79 1477.32 2353.98 1477.32 Q2348.17 1477.32 2345.09 1472.74 Q2342.03 1468.13 2342.03 1459.41 Q2342.03 1450.66 2345.09 1446.07 Q2348.17 1441.47 2353.98 1441.47 Z\" fill=\"#000000\" fill-rule=\"evenodd\" fill-opacity=\"1\" /><path clip-path=\"url(#clip060)\" d=\"M 0 0 M139.015 1119.87 Q135.404 1119.87 133.575 1123.43 Q131.769 1126.97 131.769 1134.1 Q131.769 1141.21 133.575 1144.77 Q135.404 1148.32 139.015 1148.32 Q142.649 1148.32 144.455 1144.77 Q146.283 1141.21 146.283 1134.1 Q146.283 1126.97 144.455 1123.43 Q142.649 1119.87 139.015 1119.87 M139.015 1116.16 Q144.825 1116.16 147.88 1120.77 Q150.959 1125.35 150.959 1134.1 Q150.959 1142.83 147.88 1147.44 Q144.825 1152.02 139.015 1152.02 Q133.205 1152.02 130.126 1147.44 Q127.07 1142.83 127.07 1134.1 Q127.07 1125.35 130.126 1120.77 Q133.205 1116.16 139.015 1116.16 Z\" fill=\"#000000\" fill-rule=\"evenodd\" fill-opacity=\"1\" /><path clip-path=\"url(#clip060)\" d=\"M 0 0 M156.029 1145.47 L160.913 1145.47 L160.913 1151.35 L156.029 1151.35 L156.029 1145.47 Z\" fill=\"#000000\" fill-rule=\"evenodd\" fill-opacity=\"1\" /><path clip-path=\"url(#clip060)\" d=\"M 0 0 M164.802 1116.79 L187.024 1116.79 L187.024 1118.78 L174.477 1151.35 L169.593 1151.35 L181.399 1120.72 L164.802 1120.72 L164.802 1116.79 Z\" fill=\"#000000\" fill-rule=\"evenodd\" fill-opacity=\"1\" /><path clip-path=\"url(#clip060)\" d=\"M 0 0 M138.205 770.573 Q134.593 770.573 132.765 774.137 Q130.959 777.679 130.959 784.809 Q130.959 791.915 132.765 795.48 Q134.593 799.022 138.205 799.022 Q141.839 799.022 143.644 795.48 Q145.473 791.915 145.473 784.809 Q145.473 777.679 143.644 774.137 Q141.839 770.573 138.205 770.573 M138.205 766.869 Q144.015 766.869 147.07 771.475 Q150.149 776.059 150.149 784.809 Q150.149 793.536 147.07 798.142 Q144.015 802.725 138.205 802.725 Q132.394 802.725 129.316 798.142 Q126.26 793.536 126.26 784.809 Q126.26 776.059 129.316 771.475 Q132.394 766.869 138.205 766.869 Z\" fill=\"#000000\" fill-rule=\"evenodd\" fill-opacity=\"1\" /><path clip-path=\"url(#clip060)\" d=\"M 0 0 M155.218 796.174 L160.103 796.174 L160.103 802.054 L155.218 802.054 L155.218 796.174 Z\" fill=\"#000000\" fill-rule=\"evenodd\" fill-opacity=\"1\" /><path clip-path=\"url(#clip060)\" d=\"M 0 0 M175.172 785.642 Q171.839 785.642 169.917 787.424 Q168.019 789.207 168.019 792.332 Q168.019 795.457 169.917 797.239 Q171.839 799.022 175.172 799.022 Q178.505 799.022 180.427 797.239 Q182.348 795.434 182.348 792.332 Q182.348 789.207 180.427 787.424 Q178.528 785.642 175.172 785.642 M170.496 783.651 Q167.487 782.911 165.797 780.85 Q164.13 778.79 164.13 775.827 Q164.13 771.684 167.07 769.276 Q170.033 766.869 175.172 766.869 Q180.334 766.869 183.274 769.276 Q186.214 771.684 186.214 775.827 Q186.214 778.79 184.524 780.85 Q182.857 782.911 179.871 783.651 Q183.251 784.438 185.126 786.73 Q187.024 789.022 187.024 792.332 Q187.024 797.355 183.945 800.04 Q180.889 802.725 175.172 802.725 Q169.454 802.725 166.376 800.04 Q163.32 797.355 163.32 792.332 Q163.32 789.022 165.218 786.73 Q167.116 784.438 170.496 783.651 M168.783 776.267 Q168.783 778.952 170.45 780.457 Q172.14 781.961 175.172 781.961 Q178.181 781.961 179.871 780.457 Q181.584 778.952 181.584 776.267 Q181.584 773.582 179.871 772.077 Q178.181 770.573 175.172 770.573 Q172.14 770.573 170.45 772.077 Q168.783 773.582 168.783 776.267 Z\" fill=\"#000000\" fill-rule=\"evenodd\" fill-opacity=\"1\" /><path clip-path=\"url(#clip060)\" d=\"M 0 0 M138.297 421.279 Q134.686 421.279 132.857 424.843 Q131.052 428.385 131.052 435.515 Q131.052 442.621 132.857 446.186 Q134.686 449.727 138.297 449.727 Q141.931 449.727 143.737 446.186 Q145.566 442.621 145.566 435.515 Q145.566 428.385 143.737 424.843 Q141.931 421.279 138.297 421.279 M138.297 417.575 Q144.107 417.575 147.163 422.181 Q150.242 426.765 150.242 435.515 Q150.242 444.241 147.163 448.848 Q144.107 453.431 138.297 453.431 Q132.487 453.431 129.408 448.848 Q126.353 444.241 126.353 435.515 Q126.353 426.765 129.408 422.181 Q132.487 417.575 138.297 417.575 Z\" fill=\"#000000\" fill-rule=\"evenodd\" fill-opacity=\"1\" /><path clip-path=\"url(#clip060)\" d=\"M 0 0 M155.311 446.88 L160.195 446.88 L160.195 452.76 L155.311 452.76 L155.311 446.88 Z\" fill=\"#000000\" fill-rule=\"evenodd\" fill-opacity=\"1\" /><path clip-path=\"url(#clip060)\" d=\"M 0 0 M165.403 452.042 L165.403 447.783 Q167.163 448.616 168.968 449.056 Q170.774 449.496 172.51 449.496 Q177.14 449.496 179.57 446.394 Q182.024 443.269 182.371 436.927 Q181.028 438.917 178.968 439.982 Q176.908 441.047 174.408 441.047 Q169.223 441.047 166.19 437.922 Q163.181 434.774 163.181 429.334 Q163.181 424.01 166.329 420.792 Q169.478 417.575 174.709 417.575 Q180.704 417.575 183.852 422.181 Q187.024 426.765 187.024 435.515 Q187.024 443.686 183.135 448.57 Q179.269 453.431 172.718 453.431 Q170.959 453.431 169.153 453.084 Q167.348 452.737 165.403 452.042 M174.709 437.39 Q177.857 437.39 179.686 435.237 Q181.538 433.084 181.538 429.334 Q181.538 425.607 179.686 423.454 Q177.857 421.279 174.709 421.279 Q171.561 421.279 169.709 423.454 Q167.88 425.607 167.88 429.334 Q167.88 433.084 169.709 435.237 Q171.561 437.39 174.709 437.39 Z\" fill=\"#000000\" fill-rule=\"evenodd\" fill-opacity=\"1\" /><path clip-path=\"url(#clip060)\" d=\"M 0 0 M130.149 99.5305 L137.788 99.5305 L137.788 73.1649 L129.478 74.8316 L129.478 70.5723 L137.742 68.9057 L142.417 68.9057 L142.417 99.5305 L150.056 99.5305 L150.056 103.466 L130.149 103.466 L130.149 99.5305 Z\" fill=\"#000000\" fill-rule=\"evenodd\" fill-opacity=\"1\" /><path clip-path=\"url(#clip060)\" d=\"M 0 0 M155.126 97.5861 L160.01 97.5861 L160.01 103.466 L155.126 103.466 L155.126 97.5861 Z\" fill=\"#000000\" fill-rule=\"evenodd\" fill-opacity=\"1\" /><path clip-path=\"url(#clip060)\" d=\"M 0 0 M175.079 71.9844 Q171.468 71.9844 169.64 75.5492 Q167.834 79.0908 167.834 86.2204 Q167.834 93.3268 169.64 96.8916 Q171.468 100.433 175.079 100.433 Q178.714 100.433 180.519 96.8916 Q182.348 93.3268 182.348 86.2204 Q182.348 79.0908 180.519 75.5492 Q178.714 71.9844 175.079 71.9844 M175.079 68.2807 Q180.889 68.2807 183.945 72.8871 Q187.024 77.4704 187.024 86.2204 Q187.024 94.9472 183.945 99.5537 Q180.889 104.137 175.079 104.137 Q169.269 104.137 166.19 99.5537 Q163.135 94.9472 163.135 86.2204 Q163.135 77.4704 166.19 72.8871 Q169.269 68.2807 175.079 68.2807 Z\" fill=\"#000000\" fill-rule=\"evenodd\" fill-opacity=\"1\" /><path clip-path=\"url(#clip060)\" d=\"M 0 0 M870.665 1508.52 L879.323 1508.52 L900.393 1548.28 L900.393 1508.52 L906.631 1508.52 L906.631 1556.04 L897.974 1556.04 L876.904 1516.29 L876.904 1556.04 L870.665 1556.04 L870.665 1508.52 Z\" fill=\"#000000\" fill-rule=\"evenodd\" fill-opacity=\"1\" /><path clip-path=\"url(#clip060)\" d=\"M 0 0 M912.17 1541.98 L912.17 1520.4 L918.026 1520.4 L918.026 1541.75 Q918.026 1546.81 919.999 1549.36 Q921.973 1551.87 925.919 1551.87 Q930.662 1551.87 933.399 1548.85 Q936.168 1545.83 936.168 1540.61 L936.168 1520.4 L942.025 1520.4 L942.025 1556.04 L936.168 1556.04 L936.168 1550.57 Q934.036 1553.82 931.203 1555.41 Q928.402 1556.97 924.678 1556.97 Q918.535 1556.97 915.352 1553.15 Q912.17 1549.33 912.17 1541.98 M926.906 1519.54 L926.906 1519.54 Z\" fill=\"#000000\" fill-rule=\"evenodd\" fill-opacity=\"1\" /><path clip-path=\"url(#clip060)\" d=\"M 0 0 M975.922 1527.24 Q978.118 1523.29 981.174 1521.41 Q984.229 1519.54 988.367 1519.54 Q993.937 1519.54 996.961 1523.45 Q999.984 1527.33 999.984 1534.53 L999.984 1556.04 L994.096 1556.04 L994.096 1534.72 Q994.096 1529.59 992.282 1527.11 Q990.468 1524.63 986.744 1524.63 Q982.192 1524.63 979.551 1527.65 Q976.909 1530.68 976.909 1535.9 L976.909 1556.04 L971.021 1556.04 L971.021 1534.72 Q971.021 1529.56 969.206 1527.11 Q967.392 1524.63 963.604 1524.63 Q959.117 1524.63 956.475 1527.68 Q953.833 1530.71 953.833 1535.9 L953.833 1556.04 L947.945 1556.04 L947.945 1520.4 L953.833 1520.4 L953.833 1525.93 Q955.838 1522.66 958.639 1521.1 Q961.44 1519.54 965.291 1519.54 Q969.174 1519.54 971.88 1521.51 Q974.617 1523.48 975.922 1527.24 Z\" fill=\"#000000\" fill-rule=\"evenodd\" fill-opacity=\"1\" /><path clip-path=\"url(#clip060)\" d=\"M 0 0 M1031.72 1538.25 Q1031.72 1531.79 1029.04 1528.13 Q1026.4 1524.44 1021.76 1524.44 Q1017.11 1524.44 1014.43 1528.13 Q1011.79 1531.79 1011.79 1538.25 Q1011.79 1544.71 1014.43 1548.4 Q1017.11 1552.07 1021.76 1552.07 Q1026.4 1552.07 1029.04 1548.4 Q1031.72 1544.71 1031.72 1538.25 M1011.79 1525.81 Q1013.64 1522.62 1016.44 1521.1 Q1019.27 1519.54 1023.19 1519.54 Q1029.68 1519.54 1033.72 1524.69 Q1037.8 1529.85 1037.8 1538.25 Q1037.8 1546.65 1033.72 1551.81 Q1029.68 1556.97 1023.19 1556.97 Q1019.27 1556.97 1016.44 1555.44 Q1013.64 1553.88 1011.79 1550.7 L1011.79 1556.04 L1005.9 1556.04 L1005.9 1506.52 L1011.79 1506.52 L1011.79 1525.81 Z\" fill=\"#000000\" fill-rule=\"evenodd\" fill-opacity=\"1\" /><path clip-path=\"url(#clip060)\" d=\"M 0 0 M1074.43 1536.76 L1074.43 1539.62 L1047.5 1539.62 Q1047.89 1545.67 1051.13 1548.85 Q1054.41 1552 1060.24 1552 Q1063.61 1552 1066.76 1551.17 Q1069.94 1550.35 1073.06 1548.69 L1073.06 1554.23 Q1069.91 1555.57 1066.6 1556.27 Q1063.29 1556.97 1059.89 1556.97 Q1051.36 1556.97 1046.36 1552 Q1041.39 1547.04 1041.39 1538.57 Q1041.39 1529.82 1046.1 1524.69 Q1050.85 1519.54 1058.87 1519.54 Q1066.06 1519.54 1070.23 1524.18 Q1074.43 1528.8 1074.43 1536.76 M1068.57 1535.04 Q1068.51 1530.23 1065.87 1527.37 Q1063.26 1524.5 1058.93 1524.5 Q1054.03 1524.5 1051.07 1527.27 Q1048.14 1530.04 1047.7 1535.07 L1068.57 1535.04 Z\" fill=\"#000000\" fill-rule=\"evenodd\" fill-opacity=\"1\" /><path clip-path=\"url(#clip060)\" d=\"M 0 0 M1101.23 1525.87 Q1100.24 1525.3 1099.07 1525.04 Q1097.92 1524.76 1096.52 1524.76 Q1091.56 1524.76 1088.88 1528 Q1086.24 1531.22 1086.24 1537.27 L1086.24 1556.04 L1080.35 1556.04 L1080.35 1520.4 L1086.24 1520.4 L1086.24 1525.93 Q1088.09 1522.69 1091.05 1521.13 Q1094.01 1519.54 1098.24 1519.54 Q1098.84 1519.54 1099.58 1519.63 Q1100.31 1519.7 1101.2 1519.85 L1101.23 1525.87 Z\" fill=\"#000000\" fill-rule=\"evenodd\" fill-opacity=\"1\" /><path clip-path=\"url(#clip060)\" d=\"M 0 0 M1141.91 1524.5 Q1137.2 1524.5 1134.46 1528.19 Q1131.72 1531.85 1131.72 1538.25 Q1131.72 1544.65 1134.43 1548.34 Q1137.17 1552 1141.91 1552 Q1146.59 1552 1149.32 1548.31 Q1152.06 1544.62 1152.06 1538.25 Q1152.06 1531.92 1149.32 1528.23 Q1146.59 1524.5 1141.91 1524.5 M1141.91 1519.54 Q1149.55 1519.54 1153.91 1524.5 Q1158.27 1529.47 1158.27 1538.25 Q1158.27 1547 1153.91 1552 Q1149.55 1556.97 1141.91 1556.97 Q1134.24 1556.97 1129.88 1552 Q1125.55 1547 1125.55 1538.25 Q1125.55 1529.47 1129.88 1524.5 Q1134.24 1519.54 1141.91 1519.54 Z\" fill=\"#000000\" fill-rule=\"evenodd\" fill-opacity=\"1\" /><path clip-path=\"url(#clip060)\" d=\"M 0 0 M1182.46 1506.52 L1182.46 1511.39 L1176.86 1511.39 Q1173.7 1511.39 1172.46 1512.66 Q1171.25 1513.93 1171.25 1517.24 L1171.25 1520.4 L1180.9 1520.4 L1180.9 1524.95 L1171.25 1524.95 L1171.25 1556.04 L1165.37 1556.04 L1165.37 1524.95 L1159.76 1524.95 L1159.76 1520.4 L1165.37 1520.4 L1165.37 1517.91 Q1165.37 1511.96 1168.13 1509.26 Q1170.9 1506.52 1176.92 1506.52 L1182.46 1506.52 Z\" fill=\"#000000\" fill-rule=\"evenodd\" fill-opacity=\"1\" /><path clip-path=\"url(#clip060)\" d=\"M 0 0 M1202.99 1508.52 L1243.19 1508.52 L1243.19 1513.93 L1226.32 1513.93 L1226.32 1556.04 L1219.86 1556.04 L1219.86 1513.93 L1202.99 1513.93 L1202.99 1508.52 Z\" fill=\"#000000\" fill-rule=\"evenodd\" fill-opacity=\"1\" /><path clip-path=\"url(#clip060)\" d=\"M 0 0 M1260.41 1525.87 Q1259.42 1525.3 1258.24 1525.04 Q1257.1 1524.76 1255.69 1524.76 Q1250.73 1524.76 1248.06 1528 Q1245.41 1531.22 1245.41 1537.27 L1245.41 1556.04 L1239.53 1556.04 L1239.53 1520.4 L1245.41 1520.4 L1245.41 1525.93 Q1247.26 1522.69 1250.22 1521.13 Q1253.18 1519.54 1257.41 1519.54 Q1258.02 1519.54 1258.75 1519.63 Q1259.48 1519.7 1260.37 1519.85 L1260.41 1525.87 Z\" fill=\"#000000\" fill-rule=\"evenodd\" fill-opacity=\"1\" /><path clip-path=\"url(#clip060)\" d=\"M 0 0 M1282.75 1538.12 Q1275.65 1538.12 1272.91 1539.75 Q1270.18 1541.37 1270.18 1545.29 Q1270.18 1548.4 1272.21 1550.25 Q1274.28 1552.07 1277.82 1552.07 Q1282.69 1552.07 1285.61 1548.63 Q1288.57 1545.16 1288.57 1539.43 L1288.57 1538.12 L1282.75 1538.12 M1294.43 1535.71 L1294.43 1556.04 L1288.57 1556.04 L1288.57 1550.63 Q1286.57 1553.88 1283.58 1555.44 Q1280.58 1556.97 1276.26 1556.97 Q1270.78 1556.97 1267.54 1553.91 Q1264.32 1550.82 1264.32 1545.67 Q1264.32 1539.65 1268.33 1536.6 Q1272.37 1533.54 1280.36 1533.54 L1288.57 1533.54 L1288.57 1532.97 Q1288.57 1528.93 1285.9 1526.73 Q1283.26 1524.5 1278.45 1524.5 Q1275.4 1524.5 1272.5 1525.23 Q1269.6 1525.97 1266.93 1527.43 L1266.93 1522.02 Q1270.15 1520.78 1273.17 1520.17 Q1276.19 1519.54 1279.06 1519.54 Q1286.79 1519.54 1290.61 1523.55 Q1294.43 1527.56 1294.43 1535.71 Z\" fill=\"#000000\" fill-rule=\"evenodd\" fill-opacity=\"1\" /><path clip-path=\"url(#clip060)\" d=\"M 0 0 M1300.57 1520.4 L1306.43 1520.4 L1306.43 1556.04 L1300.57 1556.04 L1300.57 1520.4 M1300.57 1506.52 L1306.43 1506.52 L1306.43 1513.93 L1300.57 1513.93 L1300.57 1506.52 Z\" fill=\"#000000\" fill-rule=\"evenodd\" fill-opacity=\"1\" /><path clip-path=\"url(#clip060)\" d=\"M 0 0 M1342.2 1534.53 L1342.2 1556.04 L1336.35 1556.04 L1336.35 1534.72 Q1336.35 1529.66 1334.38 1527.14 Q1332.4 1524.63 1328.45 1524.63 Q1323.71 1524.63 1320.98 1527.65 Q1318.24 1530.68 1318.24 1535.9 L1318.24 1556.04 L1312.35 1556.04 L1312.35 1520.4 L1318.24 1520.4 L1318.24 1525.93 Q1320.34 1522.72 1323.17 1521.13 Q1326.04 1519.54 1329.76 1519.54 Q1335.9 1519.54 1339.05 1523.36 Q1342.2 1527.14 1342.2 1534.53 Z\" fill=\"#000000\" fill-rule=\"evenodd\" fill-opacity=\"1\" /><path clip-path=\"url(#clip060)\" d=\"M 0 0 M1348.35 1520.4 L1354.2 1520.4 L1354.2 1556.04 L1348.35 1556.04 L1348.35 1520.4 M1348.35 1506.52 L1354.2 1506.52 L1354.2 1513.93 L1348.35 1513.93 L1348.35 1506.52 Z\" fill=\"#000000\" fill-rule=\"evenodd\" fill-opacity=\"1\" /><path clip-path=\"url(#clip060)\" d=\"M 0 0 M1389.98 1534.53 L1389.98 1556.04 L1384.12 1556.04 L1384.12 1534.72 Q1384.12 1529.66 1382.15 1527.14 Q1380.18 1524.63 1376.23 1524.63 Q1371.49 1524.63 1368.75 1527.65 Q1366.01 1530.68 1366.01 1535.9 L1366.01 1556.04 L1360.12 1556.04 L1360.12 1520.4 L1366.01 1520.4 L1366.01 1525.93 Q1368.11 1522.72 1370.95 1521.13 Q1373.81 1519.54 1377.53 1519.54 Q1383.68 1519.54 1386.83 1523.36 Q1389.98 1527.14 1389.98 1534.53 Z\" fill=\"#000000\" fill-rule=\"evenodd\" fill-opacity=\"1\" /><path clip-path=\"url(#clip060)\" d=\"M 0 0 M1419.58 1537.81 Q1419.58 1531.44 1416.94 1527.94 Q1414.33 1524.44 1409.59 1524.44 Q1404.88 1524.44 1402.23 1527.94 Q1399.62 1531.44 1399.62 1537.81 Q1399.62 1544.14 1402.23 1547.64 Q1404.88 1551.14 1409.59 1551.14 Q1414.33 1551.14 1416.94 1547.64 Q1419.58 1544.14 1419.58 1537.81 M1425.44 1551.62 Q1425.44 1560.72 1421.39 1565.15 Q1417.35 1569.6 1409.01 1569.6 Q1405.93 1569.6 1403.19 1569.13 Q1400.45 1568.68 1397.87 1567.72 L1397.87 1562.03 Q1400.45 1563.43 1402.97 1564.1 Q1405.48 1564.76 1408.09 1564.76 Q1413.85 1564.76 1416.72 1561.74 Q1419.58 1558.75 1419.58 1552.67 L1419.58 1549.77 Q1417.77 1552.92 1414.93 1554.48 Q1412.1 1556.04 1408.15 1556.04 Q1401.6 1556.04 1397.59 1551.05 Q1393.58 1546.05 1393.58 1537.81 Q1393.58 1529.53 1397.59 1524.53 Q1401.6 1519.54 1408.15 1519.54 Q1412.1 1519.54 1414.93 1521.1 Q1417.77 1522.66 1419.58 1525.81 L1419.58 1520.4 L1425.44 1520.4 L1425.44 1551.62 Z\" fill=\"#000000\" fill-rule=\"evenodd\" fill-opacity=\"1\" /><path clip-path=\"url(#clip060)\" d=\"M 0 0 M1481.04 1510.08 L1481.04 1516.35 Q1477.38 1514.6 1474.13 1513.74 Q1470.89 1512.88 1467.86 1512.88 Q1462.61 1512.88 1459.75 1514.92 Q1456.91 1516.96 1456.91 1520.71 Q1456.91 1523.87 1458.79 1525.49 Q1460.7 1527.08 1465.99 1528.07 L1469.87 1528.86 Q1477.06 1530.23 1480.47 1533.7 Q1483.91 1537.14 1483.91 1542.93 Q1483.91 1549.84 1479.26 1553.4 Q1474.64 1556.97 1465.7 1556.97 Q1462.33 1556.97 1458.51 1556.2 Q1454.72 1555.44 1450.64 1553.94 L1450.64 1547.32 Q1454.56 1549.52 1458.32 1550.63 Q1462.07 1551.75 1465.7 1551.75 Q1471.21 1551.75 1474.2 1549.58 Q1477.19 1547.42 1477.19 1543.41 Q1477.19 1539.91 1475.03 1537.93 Q1472.89 1535.96 1467.99 1534.97 L1464.08 1534.21 Q1456.88 1532.78 1453.67 1529.72 Q1450.45 1526.67 1450.45 1521.22 Q1450.45 1514.92 1454.88 1511.29 Q1459.33 1507.66 1467.13 1507.66 Q1470.47 1507.66 1473.94 1508.27 Q1477.41 1508.87 1481.04 1510.08 Z\" fill=\"#000000\" fill-rule=\"evenodd\" fill-opacity=\"1\" /><path clip-path=\"url(#clip060)\" d=\"M 0 0 M1506.25 1538.12 Q1499.15 1538.12 1496.41 1539.75 Q1493.68 1541.37 1493.68 1545.29 Q1493.68 1548.4 1495.71 1550.25 Q1497.78 1552.07 1501.32 1552.07 Q1506.19 1552.07 1509.11 1548.63 Q1512.07 1545.16 1512.07 1539.43 L1512.07 1538.12 L1506.25 1538.12 M1517.93 1535.71 L1517.93 1556.04 L1512.07 1556.04 L1512.07 1550.63 Q1510.07 1553.88 1507.08 1555.44 Q1504.08 1556.97 1499.76 1556.97 Q1494.28 1556.97 1491.04 1553.91 Q1487.82 1550.82 1487.82 1545.67 Q1487.82 1539.65 1491.83 1536.6 Q1495.87 1533.54 1503.86 1533.54 L1512.07 1533.54 L1512.07 1532.97 Q1512.07 1528.93 1509.4 1526.73 Q1506.76 1524.5 1501.95 1524.5 Q1498.9 1524.5 1496 1525.23 Q1493.1 1525.97 1490.43 1527.43 L1490.43 1522.02 Q1493.65 1520.78 1496.67 1520.17 Q1499.69 1519.54 1502.56 1519.54 Q1510.29 1519.54 1514.11 1523.55 Q1517.93 1527.56 1517.93 1535.71 Z\" fill=\"#000000\" fill-rule=\"evenodd\" fill-opacity=\"1\" /><path clip-path=\"url(#clip060)\" d=\"M 0 0 M1551.83 1527.24 Q1554.02 1523.29 1557.08 1521.41 Q1560.13 1519.54 1564.27 1519.54 Q1569.84 1519.54 1572.87 1523.45 Q1575.89 1527.33 1575.89 1534.53 L1575.89 1556.04 L1570 1556.04 L1570 1534.72 Q1570 1529.59 1568.19 1527.11 Q1566.37 1524.63 1562.65 1524.63 Q1558.1 1524.63 1555.46 1527.65 Q1552.81 1530.68 1552.81 1535.9 L1552.81 1556.04 L1546.93 1556.04 L1546.93 1534.72 Q1546.93 1529.56 1545.11 1527.11 Q1543.3 1524.63 1539.51 1524.63 Q1535.02 1524.63 1532.38 1527.68 Q1529.74 1530.71 1529.74 1535.9 L1529.74 1556.04 L1523.85 1556.04 L1523.85 1520.4 L1529.74 1520.4 L1529.74 1525.93 Q1531.74 1522.66 1534.54 1521.1 Q1537.35 1519.54 1541.2 1519.54 Q1545.08 1519.54 1547.79 1521.51 Q1550.52 1523.48 1551.83 1527.24 Z\" fill=\"#000000\" fill-rule=\"evenodd\" fill-opacity=\"1\" /><path clip-path=\"url(#clip060)\" d=\"M 0 0 M1587.7 1550.7 L1587.7 1569.6 L1581.81 1569.6 L1581.81 1520.4 L1587.7 1520.4 L1587.7 1525.81 Q1589.54 1522.62 1592.35 1521.1 Q1595.18 1519.54 1599.09 1519.54 Q1605.59 1519.54 1609.63 1524.69 Q1613.7 1529.85 1613.7 1538.25 Q1613.7 1546.65 1609.63 1551.81 Q1605.59 1556.97 1599.09 1556.97 Q1595.18 1556.97 1592.35 1555.44 Q1589.54 1553.88 1587.7 1550.7 M1607.62 1538.25 Q1607.62 1531.79 1604.95 1528.13 Q1602.31 1524.44 1597.66 1524.44 Q1593.01 1524.44 1590.34 1528.13 Q1587.7 1531.79 1587.7 1538.25 Q1587.7 1544.71 1590.34 1548.4 Q1593.01 1552.07 1597.66 1552.07 Q1602.31 1552.07 1604.95 1548.4 Q1607.62 1544.71 1607.62 1538.25 Z\" fill=\"#000000\" fill-rule=\"evenodd\" fill-opacity=\"1\" /><path clip-path=\"url(#clip060)\" d=\"M 0 0 M1619.85 1506.52 L1625.7 1506.52 L1625.7 1556.04 L1619.85 1556.04 L1619.85 1506.52 Z\" fill=\"#000000\" fill-rule=\"evenodd\" fill-opacity=\"1\" /><path clip-path=\"url(#clip060)\" d=\"M 0 0 M1662.34 1536.76 L1662.34 1539.62 L1635.41 1539.62 Q1635.79 1545.67 1639.04 1548.85 Q1642.32 1552 1648.14 1552 Q1651.51 1552 1654.67 1551.17 Q1657.85 1550.35 1660.97 1548.69 L1660.97 1554.23 Q1657.82 1555.57 1654.51 1556.27 Q1651.2 1556.97 1647.79 1556.97 Q1639.26 1556.97 1634.26 1552 Q1629.3 1547.04 1629.3 1538.57 Q1629.3 1529.82 1634.01 1524.69 Q1638.75 1519.54 1646.77 1519.54 Q1653.97 1519.54 1658.13 1524.18 Q1662.34 1528.8 1662.34 1536.76 M1656.48 1535.04 Q1656.42 1530.23 1653.77 1527.37 Q1651.16 1524.5 1646.84 1524.5 Q1641.93 1524.5 1638.97 1527.27 Q1636.05 1530.04 1635.6 1535.07 L1656.48 1535.04 Z\" fill=\"#000000\" fill-rule=\"evenodd\" fill-opacity=\"1\" /><path clip-path=\"url(#clip060)\" d=\"M 0 0 M1691.2 1521.45 L1691.2 1526.98 Q1688.72 1525.71 1686.05 1525.07 Q1683.37 1524.44 1680.51 1524.44 Q1676.15 1524.44 1673.95 1525.77 Q1671.79 1527.11 1671.79 1529.79 Q1671.79 1531.82 1673.35 1533 Q1674.91 1534.15 1679.62 1535.2 L1681.62 1535.64 Q1687.86 1536.98 1690.47 1539.43 Q1693.11 1541.85 1693.11 1546.21 Q1693.11 1551.17 1689.17 1554.07 Q1685.25 1556.97 1678.38 1556.97 Q1675.51 1556.97 1672.39 1556.39 Q1669.31 1555.85 1665.87 1554.74 L1665.87 1548.69 Q1669.12 1550.38 1672.27 1551.24 Q1675.42 1552.07 1678.51 1552.07 Q1682.64 1552.07 1684.87 1550.66 Q1687.1 1549.23 1687.1 1546.65 Q1687.1 1544.27 1685.48 1542.99 Q1683.88 1541.72 1678.44 1540.54 L1676.4 1540.07 Q1670.96 1538.92 1668.54 1536.56 Q1666.12 1534.18 1666.12 1530.04 Q1666.12 1525.01 1669.69 1522.27 Q1673.25 1519.54 1679.81 1519.54 Q1683.06 1519.54 1685.92 1520.01 Q1688.79 1520.49 1691.2 1521.45 Z\" fill=\"#000000\" fill-rule=\"evenodd\" fill-opacity=\"1\" /><path clip-path=\"url(#clip060)\" d=\"M 0 0 M44.1444 1026.82 L50.9239 1026.82 Q47.9002 1030.07 46.4043 1033.76 Q44.9083 1037.42 44.9083 1041.56 Q44.9083 1049.71 49.9054 1054.04 Q54.8707 1058.37 64.2919 1058.37 Q73.6813 1058.37 78.6784 1054.04 Q83.6436 1049.71 83.6436 1041.56 Q83.6436 1037.42 82.1477 1033.76 Q80.6518 1030.07 77.6281 1026.82 L84.3439 1026.82 Q86.6355 1030.2 87.7814 1033.99 Q88.9272 1037.74 88.9272 1041.94 Q88.9272 1052.73 82.3387 1058.94 Q75.7183 1065.15 64.2919 1065.15 Q52.8336 1065.15 46.2451 1058.94 Q39.6248 1052.73 39.6248 1041.94 Q39.6248 1037.68 40.7706 1033.92 Q41.8846 1030.14 44.1444 1026.82 Z\" fill=\"#000000\" fill-rule=\"evenodd\" fill-opacity=\"1\" /><path clip-path=\"url(#clip060)\" d=\"M 0 0 M38.479 1020.68 L38.479 1014.83 L88.0042 1014.83 L88.0042 1020.68 L38.479 1020.68 Z\" fill=\"#000000\" fill-rule=\"evenodd\" fill-opacity=\"1\" /><path clip-path=\"url(#clip060)\" d=\"M 0 0 M70.0847 992.482 Q70.0847 999.58 71.7079 1002.32 Q73.3312 1005.05 77.2461 1005.05 Q80.3653 1005.05 82.2114 1003.02 Q84.0256 1000.95 84.0256 997.415 Q84.0256 992.546 80.5881 989.617 Q77.1188 986.657 71.3897 986.657 L70.0847 986.657 L70.0847 992.482 M67.6657 980.801 L88.0042 980.801 L88.0042 986.657 L82.5933 986.657 Q85.8398 988.663 87.3994 991.654 Q88.9272 994.646 88.9272 998.975 Q88.9272 1004.45 85.8716 1007.7 Q82.7843 1010.91 77.6281 1010.91 Q71.6125 1010.91 68.5569 1006.9 Q65.5014 1002.86 65.5014 994.869 L65.5014 986.657 L64.9285 986.657 Q60.8862 986.657 58.6901 989.331 Q56.4621 991.973 56.4621 996.779 Q56.4621 999.834 57.1941 1002.73 Q57.9262 1005.63 59.3903 1008.3 L53.9795 1008.3 Q52.7381 1005.09 52.1334 1002.06 Q51.4968 999.039 51.4968 996.174 Q51.4968 988.44 55.5072 984.62 Q59.5176 980.801 67.6657 980.801 Z\" fill=\"#000000\" fill-rule=\"evenodd\" fill-opacity=\"1\" /><path clip-path=\"url(#clip060)\" d=\"M 0 0 M53.4065 951.932 L58.9447 951.932 Q57.6716 954.415 57.035 957.089 Q56.3984 959.762 56.3984 962.627 Q56.3984 966.987 57.7352 969.184 Q59.072 971.348 61.7456 971.348 Q63.7826 971.348 64.9603 969.788 Q66.1061 968.229 67.1565 963.518 L67.6021 961.513 Q68.9389 955.274 71.3897 952.665 Q73.8086 950.023 78.1691 950.023 Q83.1344 950.023 86.0308 953.969 Q88.9272 957.884 88.9272 964.759 Q88.9272 967.624 88.3543 970.743 Q87.8132 973.83 86.6992 977.268 L80.6518 977.268 Q82.3387 974.021 83.198 970.87 Q84.0256 967.719 84.0256 964.632 Q84.0256 960.494 82.6251 958.266 Q81.1929 956.038 78.6147 956.038 Q76.2276 956.038 74.9545 957.662 Q73.6813 959.253 72.5037 964.696 L72.0262 966.733 Q70.8804 972.175 68.5251 974.594 Q66.138 977.013 62.0002 977.013 Q56.9713 977.013 54.2341 973.449 Q51.4968 969.884 51.4968 963.327 Q51.4968 960.081 51.9743 957.216 Q52.4517 954.351 53.4065 951.932 Z\" fill=\"#000000\" fill-rule=\"evenodd\" fill-opacity=\"1\" /><path clip-path=\"url(#clip060)\" d=\"M 0 0 M53.4065 921.154 L58.9447 921.154 Q57.6716 923.637 57.035 926.31 Q56.3984 928.984 56.3984 931.849 Q56.3984 936.209 57.7352 938.405 Q59.072 940.57 61.7456 940.57 Q63.7826 940.57 64.9603 939.01 Q66.1061 937.45 67.1565 932.74 L67.6021 930.735 Q68.9389 924.496 71.3897 921.886 Q73.8086 919.245 78.1691 919.245 Q83.1344 919.245 86.0308 923.191 Q88.9272 927.106 88.9272 933.981 Q88.9272 936.846 88.3543 939.965 Q87.8132 943.052 86.6992 946.49 L80.6518 946.49 Q82.3387 943.243 83.198 940.092 Q84.0256 936.941 84.0256 933.854 Q84.0256 929.716 82.6251 927.488 Q81.1929 925.26 78.6147 925.26 Q76.2276 925.26 74.9545 926.883 Q73.6813 928.475 72.5037 933.918 L72.0262 935.955 Q70.8804 941.397 68.5251 943.816 Q66.138 946.235 62.0002 946.235 Q56.9713 946.235 54.2341 942.67 Q51.4968 939.106 51.4968 932.549 Q51.4968 929.302 51.9743 926.438 Q52.4517 923.573 53.4065 921.154 Z\" fill=\"#000000\" fill-rule=\"evenodd\" fill-opacity=\"1\" /><path clip-path=\"url(#clip060)\" d=\"M 0 0 M52.3562 913.102 L52.3562 907.245 L88.0042 907.245 L88.0042 913.102 L52.3562 913.102 M38.479 913.102 L38.479 907.245 L45.895 907.245 L45.895 913.102 L38.479 913.102 Z\" fill=\"#000000\" fill-rule=\"evenodd\" fill-opacity=\"1\" /><path clip-path=\"url(#clip060)\" d=\"M 0 0 M38.479 883.056 L43.3487 883.056 L43.3487 888.657 Q43.3487 891.808 44.6219 893.05 Q45.895 894.259 49.2052 894.259 L52.3562 894.259 L52.3562 884.615 L56.9077 884.615 L56.9077 894.259 L88.0042 894.259 L88.0042 900.147 L56.9077 900.147 L56.9077 905.749 L52.3562 905.749 L52.3562 900.147 L49.8736 900.147 Q43.9216 900.147 41.2162 897.378 Q38.479 894.609 38.479 888.594 L38.479 883.056 Z\" fill=\"#000000\" fill-rule=\"evenodd\" fill-opacity=\"1\" /><path clip-path=\"url(#clip060)\" d=\"M 0 0 M52.3562 876.913 L52.3562 871.056 L88.0042 871.056 L88.0042 876.913 L52.3562 876.913 M38.479 876.913 L38.479 871.056 L45.895 871.056 L45.895 876.913 L38.479 876.913 Z\" fill=\"#000000\" fill-rule=\"evenodd\" fill-opacity=\"1\" /><path clip-path=\"url(#clip060)\" d=\"M 0 0 M53.7248 839.259 L59.1993 839.259 Q57.8307 841.742 57.1623 844.257 Q56.4621 846.739 56.4621 849.285 Q56.4621 854.983 60.0905 858.134 Q63.6872 861.285 70.212 861.285 Q76.7369 861.285 80.3653 858.134 Q83.9619 854.983 83.9619 849.285 Q83.9619 846.739 83.2935 844.257 Q82.5933 841.742 81.2247 839.259 L86.6355 839.259 Q87.7814 841.71 88.3543 844.352 Q88.9272 846.962 88.9272 849.922 Q88.9272 857.975 83.8664 862.717 Q78.8057 867.46 70.212 867.46 Q61.491 867.46 56.4939 862.685 Q51.4968 857.879 51.4968 849.54 Q51.4968 846.835 52.0697 844.257 Q52.6108 841.678 53.7248 839.259 Z\" fill=\"#000000\" fill-rule=\"evenodd\" fill-opacity=\"1\" /><path clip-path=\"url(#clip060)\" d=\"M 0 0 M70.0847 816.916 Q70.0847 824.014 71.7079 826.751 Q73.3312 829.488 77.2461 829.488 Q80.3653 829.488 82.2114 827.451 Q84.0256 825.382 84.0256 821.849 Q84.0256 816.979 80.5881 814.051 Q77.1188 811.091 71.3897 811.091 L70.0847 811.091 L70.0847 816.916 M67.6657 805.235 L88.0042 805.235 L88.0042 811.091 L82.5933 811.091 Q85.8398 813.096 87.3994 816.088 Q88.9272 819.08 88.9272 823.409 Q88.9272 828.883 85.8716 832.13 Q82.7843 835.345 77.6281 835.345 Q71.6125 835.345 68.5569 831.334 Q65.5014 827.292 65.5014 819.303 L65.5014 811.091 L64.9285 811.091 Q60.8862 811.091 58.6901 813.765 Q56.4621 816.407 56.4621 821.213 Q56.4621 824.268 57.1941 827.165 Q57.9262 830.061 59.3903 832.735 L53.9795 832.735 Q52.7381 829.52 52.1334 826.496 Q51.4968 823.472 51.4968 820.608 Q51.4968 812.874 55.5072 809.054 Q59.5176 805.235 67.6657 805.235 Z\" fill=\"#000000\" fill-rule=\"evenodd\" fill-opacity=\"1\" /><path clip-path=\"url(#clip060)\" d=\"M 0 0 M42.2347 793.299 L52.3562 793.299 L52.3562 781.236 L56.9077 781.236 L56.9077 793.299 L76.2594 793.299 Q80.6199 793.299 81.8613 792.121 Q83.1026 790.912 83.1026 787.252 L83.1026 781.236 L88.0042 781.236 L88.0042 787.252 Q88.0042 794.031 85.4897 796.609 Q82.9434 799.187 76.2594 799.187 L56.9077 799.187 L56.9077 803.484 L52.3562 803.484 L52.3562 799.187 L42.2347 799.187 L42.2347 793.299 Z\" fill=\"#000000\" fill-rule=\"evenodd\" fill-opacity=\"1\" /><path clip-path=\"url(#clip060)\" d=\"M 0 0 M52.3562 775.093 L52.3562 769.237 L88.0042 769.237 L88.0042 775.093 L52.3562 775.093 M38.479 775.093 L38.479 769.237 L45.895 769.237 L45.895 775.093 L38.479 775.093 Z\" fill=\"#000000\" fill-rule=\"evenodd\" fill-opacity=\"1\" /><path clip-path=\"url(#clip060)\" d=\"M 0 0 M56.4621 749.28 Q56.4621 753.991 60.1542 756.728 Q63.8145 759.465 70.212 759.465 Q76.6095 759.465 80.3017 756.76 Q83.9619 754.023 83.9619 749.28 Q83.9619 744.601 80.2698 741.864 Q76.5777 739.127 70.212 739.127 Q63.8781 739.127 60.186 741.864 Q56.4621 744.601 56.4621 749.28 M51.4968 749.28 Q51.4968 741.641 56.4621 737.281 Q61.4273 732.92 70.212 732.92 Q78.9649 732.92 83.9619 737.281 Q88.9272 741.641 88.9272 749.28 Q88.9272 756.951 83.9619 761.311 Q78.9649 765.64 70.212 765.64 Q61.4273 765.64 56.4621 761.311 Q51.4968 756.951 51.4968 749.28 Z\" fill=\"#000000\" fill-rule=\"evenodd\" fill-opacity=\"1\" /><path clip-path=\"url(#clip060)\" d=\"M 0 0 M66.4881 697.145 L88.0042 697.145 L88.0042 703.001 L66.679 703.001 Q61.6183 703.001 59.1038 704.975 Q56.5894 706.948 56.5894 710.895 Q56.5894 715.637 59.6131 718.375 Q62.6368 721.112 67.8567 721.112 L88.0042 721.112 L88.0042 727 L52.3562 727 L52.3562 721.112 L57.8944 721.112 Q54.6797 719.011 53.0883 716.179 Q51.4968 713.314 51.4968 709.59 Q51.4968 703.447 55.3163 700.296 Q59.1038 697.145 66.4881 697.145 Z\" fill=\"#000000\" fill-rule=\"evenodd\" fill-opacity=\"1\" /><path clip-path=\"url(#clip060)\" d=\"M 0 0 M46.818 654.145 L70.4666 662.866 L70.4666 645.392 L46.818 654.145 M40.4842 657.773 L40.4842 650.484 L88.0042 632.374 L88.0042 639.058 L75.8138 643.387 L75.8138 664.807 L88.0042 669.136 L88.0042 675.915 L40.4842 657.773 Z\" fill=\"#000000\" fill-rule=\"evenodd\" fill-opacity=\"1\" /><path clip-path=\"url(#clip060)\" d=\"M 0 0 M53.7248 601.723 L59.1993 601.723 Q57.8307 604.206 57.1623 606.72 Q56.4621 609.203 56.4621 611.749 Q56.4621 617.446 60.0905 620.597 Q63.6872 623.748 70.212 623.748 Q76.7369 623.748 80.3653 620.597 Q83.9619 617.446 83.9619 611.749 Q83.9619 609.203 83.2935 606.72 Q82.5933 604.206 81.2247 601.723 L86.6355 601.723 Q87.7814 604.174 88.3543 606.816 Q88.9272 609.426 88.9272 612.386 Q88.9272 620.438 83.8664 625.181 Q78.8057 629.923 70.212 629.923 Q61.491 629.923 56.4939 625.149 Q51.4968 620.343 51.4968 612.004 Q51.4968 609.298 52.0697 606.72 Q52.6108 604.142 53.7248 601.723 Z\" fill=\"#000000\" fill-rule=\"evenodd\" fill-opacity=\"1\" /><path clip-path=\"url(#clip060)\" d=\"M 0 0 M53.7248 569.926 L59.1993 569.926 Q57.8307 572.409 57.1623 574.923 Q56.4621 577.406 56.4621 579.952 Q56.4621 585.65 60.0905 588.801 Q63.6872 591.952 70.212 591.952 Q76.7369 591.952 80.3653 588.801 Q83.9619 585.65 83.9619 579.952 Q83.9619 577.406 83.2935 574.923 Q82.5933 572.409 81.2247 569.926 L86.6355 569.926 Q87.7814 572.377 88.3543 575.019 Q88.9272 577.629 88.9272 580.589 Q88.9272 588.642 83.8664 593.384 Q78.8057 598.126 70.212 598.126 Q61.491 598.126 56.4939 593.352 Q51.4968 588.546 51.4968 580.207 Q51.4968 577.502 52.0697 574.923 Q52.6108 572.345 53.7248 569.926 Z\" fill=\"#000000\" fill-rule=\"evenodd\" fill-opacity=\"1\" /><path clip-path=\"url(#clip060)\" d=\"M 0 0 M73.9359 564.388 L52.3562 564.388 L52.3562 558.532 L73.7131 558.532 Q78.7739 558.532 81.3202 556.558 Q83.8346 554.585 83.8346 550.638 Q83.8346 545.896 80.8109 543.159 Q77.7872 540.39 72.5673 540.39 L52.3562 540.39 L52.3562 534.533 L88.0042 534.533 L88.0042 540.39 L82.5296 540.39 Q85.7762 542.522 87.3676 545.355 Q88.9272 548.156 88.9272 551.88 Q88.9272 558.023 85.1078 561.205 Q81.2883 564.388 73.9359 564.388 M51.4968 549.652 L51.4968 549.652 Z\" fill=\"#000000\" fill-rule=\"evenodd\" fill-opacity=\"1\" /><path clip-path=\"url(#clip060)\" d=\"M 0 0 M57.8307 507.733 Q57.2578 508.72 57.0032 509.898 Q56.7167 511.044 56.7167 512.444 Q56.7167 517.409 59.9632 520.083 Q63.1779 522.725 69.2253 522.725 L88.0042 522.725 L88.0042 528.613 L52.3562 528.613 L52.3562 522.725 L57.8944 522.725 Q54.6479 520.879 53.0883 517.919 Q51.4968 514.959 51.4968 510.725 Q51.4968 510.121 51.5923 509.389 Q51.656 508.656 51.8151 507.765 L57.8307 507.733 Z\" fill=\"#000000\" fill-rule=\"evenodd\" fill-opacity=\"1\" /><path clip-path=\"url(#clip060)\" d=\"M 0 0 M70.0847 485.39 Q70.0847 492.488 71.7079 495.225 Q73.3312 497.962 77.2461 497.962 Q80.3653 497.962 82.2114 495.925 Q84.0256 493.856 84.0256 490.323 Q84.0256 485.453 80.5881 482.525 Q77.1188 479.565 71.3897 479.565 L70.0847 479.565 L70.0847 485.39 M67.6657 473.709 L88.0042 473.709 L88.0042 479.565 L82.5933 479.565 Q85.8398 481.57 87.3994 484.562 Q88.9272 487.554 88.9272 491.883 Q88.9272 497.357 85.8716 500.604 Q82.7843 503.819 77.6281 503.819 Q71.6125 503.819 68.5569 499.808 Q65.5014 495.766 65.5014 487.777 L65.5014 479.565 L64.9285 479.565 Q60.8862 479.565 58.6901 482.239 Q56.4621 484.881 56.4621 489.687 Q56.4621 492.742 57.1941 495.639 Q57.9262 498.535 59.3903 501.209 L53.9795 501.209 Q52.7381 497.994 52.1334 494.97 Q51.4968 491.946 51.4968 489.082 Q51.4968 481.348 55.5072 477.528 Q59.5176 473.709 67.6657 473.709 Z\" fill=\"#000000\" fill-rule=\"evenodd\" fill-opacity=\"1\" /><path clip-path=\"url(#clip060)\" d=\"M 0 0 M53.7248 441.912 L59.1993 441.912 Q57.8307 444.395 57.1623 446.909 Q56.4621 449.392 56.4621 451.938 Q56.4621 457.635 60.0905 460.786 Q63.6872 463.937 70.212 463.937 Q76.7369 463.937 80.3653 460.786 Q83.9619 457.635 83.9619 451.938 Q83.9619 449.392 83.2935 446.909 Q82.5933 444.395 81.2247 441.912 L86.6355 441.912 Q87.7814 444.363 88.3543 447.005 Q88.9272 449.615 88.9272 452.575 Q88.9272 460.627 83.8664 465.37 Q78.8057 470.112 70.212 470.112 Q61.491 470.112 56.4939 465.338 Q51.4968 460.532 51.4968 452.193 Q51.4968 449.487 52.0697 446.909 Q52.6108 444.331 53.7248 441.912 Z\" fill=\"#000000\" fill-rule=\"evenodd\" fill-opacity=\"1\" /><path clip-path=\"url(#clip060)\" d=\"M 0 0 M91.3143 420.937 Q97.68 423.42 99.6216 425.775 Q101.563 428.13 101.563 432.077 L101.563 436.756 L96.6615 436.756 L96.6615 433.318 Q96.6615 430.899 95.5157 429.563 Q94.3699 428.226 90.1048 426.603 L87.4312 425.552 L52.3562 439.97 L52.3562 433.764 L80.238 422.624 L52.3562 411.484 L52.3562 405.277 L91.3143 420.937 Z\" fill=\"#000000\" fill-rule=\"evenodd\" fill-opacity=\"1\" /><polyline clip-path=\"url(#clip062)\" style=\"stroke:#009af9; stroke-width:4; stroke-opacity:1; fill:none\" points=\"\n",
       "  271.639,86.1857 289.057,86.1857 306.475,86.1857 323.893,86.1857 341.311,86.1857 358.729,86.1857 376.148,86.1857 393.566,86.1857 410.984,86.1857 428.402,86.1857 \n",
       "  445.82,86.1857 463.238,86.1857 480.656,86.1857 498.074,86.1857 515.492,86.1857 532.911,86.1857 550.329,86.1857 567.747,86.1857 585.165,86.1857 602.583,86.1857 \n",
       "  620.001,86.1857 637.419,86.1857 654.837,86.1857 672.256,86.1857 689.674,86.1857 707.092,86.1857 724.51,86.1857 741.928,86.1857 759.346,86.1857 776.764,86.1857 \n",
       "  794.182,86.1857 811.601,86.1857 829.019,86.1857 846.437,86.1857 863.855,86.1857 881.273,86.1857 898.691,86.1857 916.109,86.1857 933.527,86.1857 950.946,86.1857 \n",
       "  968.364,86.1857 985.782,86.1857 1003.2,86.1857 1020.62,86.1857 1038.04,86.1857 1055.45,86.1857 1072.87,86.1857 1090.29,86.1857 1107.71,86.1857 1125.13,86.1857 \n",
       "  1142.54,86.1857 1159.96,86.1857 1177.38,86.1857 1194.8,86.1857 1212.22,86.1857 1229.64,86.1857 1247.05,86.1857 1264.47,86.1857 1281.89,86.1857 1299.31,86.1857 \n",
       "  1316.73,86.1857 1334.14,86.1857 1351.56,86.1857 1368.98,86.1857 1386.4,96.7703 1403.82,96.6124 1421.23,96.459 1438.65,96.3101 1456.07,106.145 1473.49,115.703 \n",
       "  1490.91,95.8883 1508.33,105.325 1525.74,123.947 1543.16,123.444 1560.58,113.762 1578,113.403 1595.42,113.054 1612.83,121.557 1630.25,129.847 1647.67,146.558 \n",
       "  1665.09,154.341 1682.51,136.686 1699.92,127.768 1717.34,151.935 1734.76,175.54 1752.18,142.394 1769.6,133.817 1787.02,125.432 1804.43,148.282 1821.85,147.6 \n",
       "  1839.27,139.339 1856.69,146.279 1874.11,123.345 1891.52,145.014 1908.94,180.786 1926.36,187.013 1943.78,171.727 1961.2,163.807 1978.61,211.932 1996.03,189.936 \n",
       "  2013.45,202.617 2030.87,181.139 2048.29,186.944 2065.71,179.331 2083.12,171.862 2100.54,171.061 2117.96,176.743 2135.38,201.549 2152.8,194.149 2170.21,205.764 \n",
       "  2187.63,210.934 2205.05,197.465 2222.47,208.745 2239.89,183.381 2257.3,206.632 2274.72,235.457 2292.14,216.431 \n",
       "  \"/>\n",
       "<polyline clip-path=\"url(#clip062)\" style=\"stroke:#e26f46; stroke-width:4; stroke-opacity:1; fill:none\" points=\"\n",
       "  271.639,1384.24 289.057,1384.24 306.475,959.421 323.893,747.012 341.311,888.618 358.729,723.411 376.148,1006.62 393.566,1101.03 410.984,865.017 428.402,747.012 \n",
       "  445.82,959.421 463.238,959.421 480.656,959.421 498.074,865.017 515.492,770.613 532.911,912.219 550.329,676.21 567.747,723.411 585.165,770.613 602.583,652.609 \n",
       "  620.001,605.407 637.419,652.609 654.837,865.017 672.256,770.613 689.674,770.613 707.092,723.411 724.51,676.21 741.928,747.012 759.346,841.416 776.764,676.21 \n",
       "  794.182,747.012 811.601,699.811 829.019,747.012 846.437,723.411 863.855,605.407 881.273,652.609 898.691,699.811 916.109,629.008 933.527,723.411 950.946,605.407 \n",
       "  968.364,699.811 985.782,794.214 1003.2,699.811 1020.62,723.411 1038.04,723.411 1055.45,699.811 1072.87,652.609 1090.29,652.609 1107.71,605.407 1125.13,629.008 \n",
       "  1142.54,629.008 1159.96,605.407 1177.38,581.806 1194.8,723.411 1212.22,652.609 1229.64,629.008 1247.05,511.003 1264.47,699.811 1281.89,652.609 1299.31,629.008 \n",
       "  1316.73,652.609 1334.14,605.407 1351.56,676.21 1368.98,534.604 1386.4,581.806 1403.82,558.205 1421.23,558.205 1438.65,558.205 1456.07,581.806 1473.49,605.407 \n",
       "  1490.91,581.806 1508.33,581.806 1525.74,629.008 1543.16,652.609 1560.58,629.008 1578,652.609 1595.42,581.806 1612.83,487.402 1630.25,558.205 1647.67,558.205 \n",
       "  1665.09,558.205 1682.51,511.003 1699.92,463.801 1717.34,487.402 1734.76,629.008 1752.18,558.205 1769.6,558.205 1787.02,534.604 1804.43,511.003 1821.85,534.604 \n",
       "  1839.27,511.003 1856.69,581.806 1874.11,534.604 1891.52,511.003 1908.94,581.806 1926.36,558.205 1943.78,581.806 1961.2,511.003 1978.61,534.604 1996.03,629.008 \n",
       "  2013.45,511.003 2030.87,511.003 2048.29,581.806 2065.71,558.205 2083.12,487.402 2100.54,440.2 2117.96,558.205 2135.38,629.008 2152.8,581.806 2170.21,629.008 \n",
       "  2187.63,511.003 2205.05,534.604 2222.47,605.407 2239.89,605.407 2257.3,487.402 2274.72,581.806 2292.14,487.402 \n",
       "  \"/>\n",
       "<path clip-path=\"url(#clip060)\" d=\"\n",
       "M1844.07 1377.32 L2281.36 1377.32 L2281.36 1195.88 L1844.07 1195.88  Z\n",
       "  \" fill=\"#ffffff\" fill-rule=\"evenodd\" fill-opacity=\"1\"/>\n",
       "<polyline clip-path=\"url(#clip060)\" style=\"stroke:#000000; stroke-width:4; stroke-opacity:1; fill:none\" points=\"\n",
       "  1844.07,1377.32 2281.36,1377.32 2281.36,1195.88 1844.07,1195.88 1844.07,1377.32 \n",
       "  \"/>\n",
       "<polyline clip-path=\"url(#clip060)\" style=\"stroke:#009af9; stroke-width:4; stroke-opacity:1; fill:none\" points=\"\n",
       "  1867.86,1256.36 2010.65,1256.36 \n",
       "  \"/>\n",
       "<path clip-path=\"url(#clip060)\" d=\"M 0 0 M2034.44 1239.08 L2063.68 1239.08 L2063.68 1243.01 L2051.41 1243.01 L2051.41 1273.64 L2046.71 1273.64 L2046.71 1243.01 L2034.44 1243.01 L2034.44 1239.08 Z\" fill=\"#000000\" fill-rule=\"evenodd\" fill-opacity=\"1\" /><path clip-path=\"url(#clip060)\" d=\"M 0 0 M2076.2 1251.69 Q2075.48 1251.27 2074.63 1251.09 Q2073.79 1250.88 2072.78 1250.88 Q2069.17 1250.88 2067.22 1253.24 Q2065.3 1255.58 2065.3 1259.98 L2065.3 1273.64 L2061.02 1273.64 L2061.02 1247.71 L2065.3 1247.71 L2065.3 1251.74 Q2066.64 1249.38 2068.79 1248.24 Q2070.95 1247.08 2074.03 1247.08 Q2074.47 1247.08 2075 1247.15 Q2075.53 1247.2 2076.18 1247.32 L2076.2 1251.69 Z\" fill=\"#000000\" fill-rule=\"evenodd\" fill-opacity=\"1\" /><path clip-path=\"url(#clip060)\" d=\"M 0 0 M2092.45 1260.6 Q2087.29 1260.6 2085.3 1261.78 Q2083.31 1262.96 2083.31 1265.81 Q2083.31 1268.08 2084.79 1269.42 Q2086.29 1270.74 2088.86 1270.74 Q2092.41 1270.74 2094.54 1268.24 Q2096.69 1265.72 2096.69 1261.55 L2096.69 1260.6 L2092.45 1260.6 M2100.95 1258.84 L2100.95 1273.64 L2096.69 1273.64 L2096.69 1269.7 Q2095.23 1272.06 2093.05 1273.2 Q2090.88 1274.31 2087.73 1274.31 Q2083.75 1274.31 2081.39 1272.08 Q2079.05 1269.84 2079.05 1266.09 Q2079.05 1261.71 2081.97 1259.49 Q2084.91 1257.27 2090.72 1257.27 L2096.69 1257.27 L2096.69 1256.85 Q2096.69 1253.91 2094.74 1252.32 Q2092.82 1250.7 2089.33 1250.7 Q2087.1 1250.7 2085 1251.23 Q2082.89 1251.76 2080.95 1252.83 L2080.95 1248.89 Q2083.29 1247.99 2085.48 1247.55 Q2087.68 1247.08 2089.77 1247.08 Q2095.39 1247.08 2098.17 1250 Q2100.95 1252.92 2100.95 1258.84 Z\" fill=\"#000000\" fill-rule=\"evenodd\" fill-opacity=\"1\" /><path clip-path=\"url(#clip060)\" d=\"M 0 0 M2105.41 1247.71 L2109.67 1247.71 L2109.67 1273.64 L2105.41 1273.64 L2105.41 1247.71 M2105.41 1237.62 L2109.67 1237.62 L2109.67 1243.01 L2105.41 1243.01 L2105.41 1237.62 Z\" fill=\"#000000\" fill-rule=\"evenodd\" fill-opacity=\"1\" /><path clip-path=\"url(#clip060)\" d=\"M 0 0 M2135.69 1257.99 L2135.69 1273.64 L2131.43 1273.64 L2131.43 1258.13 Q2131.43 1254.45 2130 1252.62 Q2128.56 1250.79 2125.69 1250.79 Q2122.24 1250.79 2120.25 1252.99 Q2118.26 1255.19 2118.26 1258.98 L2118.26 1273.64 L2113.98 1273.64 L2113.98 1247.71 L2118.26 1247.71 L2118.26 1251.74 Q2119.79 1249.4 2121.85 1248.24 Q2123.93 1247.08 2126.64 1247.08 Q2131.11 1247.08 2133.4 1249.86 Q2135.69 1252.62 2135.69 1257.99 Z\" fill=\"#000000\" fill-rule=\"evenodd\" fill-opacity=\"1\" /><path clip-path=\"url(#clip060)\" d=\"M 0 0 M2140.16 1247.71 L2144.42 1247.71 L2144.42 1273.64 L2140.16 1273.64 L2140.16 1247.71 M2140.16 1237.62 L2144.42 1237.62 L2144.42 1243.01 L2140.16 1243.01 L2140.16 1237.62 Z\" fill=\"#000000\" fill-rule=\"evenodd\" fill-opacity=\"1\" /><path clip-path=\"url(#clip060)\" d=\"M 0 0 M2170.44 1257.99 L2170.44 1273.64 L2166.18 1273.64 L2166.18 1258.13 Q2166.18 1254.45 2164.74 1252.62 Q2163.31 1250.79 2160.44 1250.79 Q2156.99 1250.79 2155 1252.99 Q2153.01 1255.19 2153.01 1258.98 L2153.01 1273.64 L2148.72 1273.64 L2148.72 1247.71 L2153.01 1247.71 L2153.01 1251.74 Q2154.54 1249.4 2156.6 1248.24 Q2158.68 1247.08 2161.39 1247.08 Q2165.85 1247.08 2168.15 1249.86 Q2170.44 1252.62 2170.44 1257.99 Z\" fill=\"#000000\" fill-rule=\"evenodd\" fill-opacity=\"1\" /><path clip-path=\"url(#clip060)\" d=\"M 0 0 M2191.97 1260.37 Q2191.97 1255.74 2190.04 1253.2 Q2188.15 1250.65 2184.7 1250.65 Q2181.27 1250.65 2179.35 1253.2 Q2177.45 1255.74 2177.45 1260.37 Q2177.45 1264.98 2179.35 1267.52 Q2181.27 1270.07 2184.7 1270.07 Q2188.15 1270.07 2190.04 1267.52 Q2191.97 1264.98 2191.97 1260.37 M2196.22 1270.42 Q2196.22 1277.04 2193.28 1280.26 Q2190.35 1283.5 2184.28 1283.5 Q2182.03 1283.5 2180.04 1283.15 Q2178.05 1282.83 2176.18 1282.13 L2176.18 1277.99 Q2178.05 1279.01 2179.88 1279.49 Q2181.71 1279.98 2183.61 1279.98 Q2187.8 1279.98 2189.88 1277.78 Q2191.97 1275.6 2191.97 1271.18 L2191.97 1269.08 Q2190.65 1271.37 2188.59 1272.5 Q2186.53 1273.64 2183.66 1273.64 Q2178.89 1273.64 2175.97 1270 Q2173.05 1266.37 2173.05 1260.37 Q2173.05 1254.35 2175.97 1250.72 Q2178.89 1247.08 2183.66 1247.08 Q2186.53 1247.08 2188.59 1248.22 Q2190.65 1249.35 2191.97 1251.64 L2191.97 1247.71 L2196.22 1247.71 L2196.22 1270.42 Z\" fill=\"#000000\" fill-rule=\"evenodd\" fill-opacity=\"1\" /><polyline clip-path=\"url(#clip060)\" style=\"stroke:#e26f46; stroke-width:4; stroke-opacity:1; fill:none\" points=\"\n",
       "  1867.86,1316.84 2010.65,1316.84 \n",
       "  \"/>\n",
       "<path clip-path=\"url(#clip060)\" d=\"M 0 0 M2047.64 1334.12 L2034.44 1299.56 L2039.33 1299.56 L2050.28 1328.65 L2061.25 1299.56 L2066.11 1299.56 L2052.94 1334.12 L2047.64 1334.12 Z\" fill=\"#000000\" fill-rule=\"evenodd\" fill-opacity=\"1\" /><path clip-path=\"url(#clip060)\" d=\"M 0 0 M2078.68 1321.08 Q2073.52 1321.08 2071.53 1322.26 Q2069.54 1323.44 2069.54 1326.29 Q2069.54 1328.56 2071.02 1329.9 Q2072.52 1331.22 2075.09 1331.22 Q2078.63 1331.22 2080.76 1328.72 Q2082.92 1326.2 2082.92 1322.03 L2082.92 1321.08 L2078.68 1321.08 M2087.17 1319.32 L2087.17 1334.12 L2082.92 1334.12 L2082.92 1330.18 Q2081.46 1332.54 2079.28 1333.68 Q2077.1 1334.79 2073.96 1334.79 Q2069.98 1334.79 2067.61 1332.56 Q2065.28 1330.32 2065.28 1326.57 Q2065.28 1322.19 2068.19 1319.97 Q2071.13 1317.75 2076.94 1317.75 L2082.92 1317.75 L2082.92 1317.33 Q2082.92 1314.39 2080.97 1312.8 Q2079.05 1311.18 2075.55 1311.18 Q2073.33 1311.18 2071.23 1311.71 Q2069.12 1312.24 2067.17 1313.31 L2067.17 1309.37 Q2069.51 1308.47 2071.71 1308.03 Q2073.91 1307.56 2075.99 1307.56 Q2081.62 1307.56 2084.4 1310.48 Q2087.17 1313.4 2087.17 1319.32 Z\" fill=\"#000000\" fill-rule=\"evenodd\" fill-opacity=\"1\" /><path clip-path=\"url(#clip060)\" d=\"M 0 0 M2091.64 1298.1 L2095.9 1298.1 L2095.9 1334.12 L2091.64 1334.12 L2091.64 1298.1 Z\" fill=\"#000000\" fill-rule=\"evenodd\" fill-opacity=\"1\" /><path clip-path=\"url(#clip060)\" d=\"M 0 0 M2100.37 1308.19 L2104.63 1308.19 L2104.63 1334.12 L2100.37 1334.12 L2100.37 1308.19 M2100.37 1298.1 L2104.63 1298.1 L2104.63 1303.49 L2100.37 1303.49 L2100.37 1298.1 Z\" fill=\"#000000\" fill-rule=\"evenodd\" fill-opacity=\"1\" /><path clip-path=\"url(#clip060)\" d=\"M 0 0 M2126.16 1312.12 L2126.16 1298.1 L2130.41 1298.1 L2130.41 1334.12 L2126.16 1334.12 L2126.16 1330.23 Q2124.81 1332.54 2122.75 1333.68 Q2120.72 1334.79 2117.85 1334.79 Q2113.15 1334.79 2110.18 1331.04 Q2107.24 1327.29 2107.24 1321.18 Q2107.24 1315.06 2110.18 1311.31 Q2113.15 1307.56 2117.85 1307.56 Q2120.72 1307.56 2122.75 1308.7 Q2124.81 1309.81 2126.16 1312.12 M2111.64 1321.18 Q2111.64 1325.87 2113.56 1328.56 Q2115.51 1331.22 2118.89 1331.22 Q2122.27 1331.22 2124.21 1328.56 Q2126.16 1325.87 2126.16 1321.18 Q2126.16 1316.48 2124.21 1313.81 Q2122.27 1311.13 2118.89 1311.13 Q2115.51 1311.13 2113.56 1313.81 Q2111.64 1316.48 2111.64 1321.18 Z\" fill=\"#000000\" fill-rule=\"evenodd\" fill-opacity=\"1\" /><path clip-path=\"url(#clip060)\" d=\"M 0 0 M2146.66 1321.08 Q2141.5 1321.08 2139.51 1322.26 Q2137.52 1323.44 2137.52 1326.29 Q2137.52 1328.56 2139 1329.9 Q2140.51 1331.22 2143.08 1331.22 Q2146.62 1331.22 2148.75 1328.72 Q2150.9 1326.2 2150.9 1322.03 L2150.9 1321.08 L2146.66 1321.08 M2155.16 1319.32 L2155.16 1334.12 L2150.9 1334.12 L2150.9 1330.18 Q2149.44 1332.54 2147.27 1333.68 Q2145.09 1334.79 2141.94 1334.79 Q2137.96 1334.79 2135.6 1332.56 Q2133.26 1330.32 2133.26 1326.57 Q2133.26 1322.19 2136.18 1319.97 Q2139.12 1317.75 2144.93 1317.75 L2150.9 1317.75 L2150.9 1317.33 Q2150.9 1314.39 2148.96 1312.8 Q2147.04 1311.18 2143.54 1311.18 Q2141.32 1311.18 2139.21 1311.71 Q2137.1 1312.24 2135.16 1313.31 L2135.16 1309.37 Q2137.5 1308.47 2139.7 1308.03 Q2141.9 1307.56 2143.98 1307.56 Q2149.6 1307.56 2152.38 1310.48 Q2155.16 1313.4 2155.16 1319.32 Z\" fill=\"#000000\" fill-rule=\"evenodd\" fill-opacity=\"1\" /><path clip-path=\"url(#clip060)\" d=\"M 0 0 M2163.84 1300.83 L2163.84 1308.19 L2172.61 1308.19 L2172.61 1311.5 L2163.84 1311.5 L2163.84 1325.57 Q2163.84 1328.74 2164.7 1329.65 Q2165.58 1330.55 2168.24 1330.55 L2172.61 1330.55 L2172.61 1334.12 L2168.24 1334.12 Q2163.31 1334.12 2161.43 1332.29 Q2159.56 1330.43 2159.56 1325.57 L2159.56 1311.5 L2156.43 1311.5 L2156.43 1308.19 L2159.56 1308.19 L2159.56 1300.83 L2163.84 1300.83 Z\" fill=\"#000000\" fill-rule=\"evenodd\" fill-opacity=\"1\" /><path clip-path=\"url(#clip060)\" d=\"M 0 0 M2177.08 1308.19 L2181.34 1308.19 L2181.34 1334.12 L2177.08 1334.12 L2177.08 1308.19 M2177.08 1298.1 L2181.34 1298.1 L2181.34 1303.49 L2177.08 1303.49 L2177.08 1298.1 Z\" fill=\"#000000\" fill-rule=\"evenodd\" fill-opacity=\"1\" /><path clip-path=\"url(#clip060)\" d=\"M 0 0 M2195.85 1311.18 Q2192.43 1311.18 2190.44 1313.86 Q2188.45 1316.52 2188.45 1321.18 Q2188.45 1325.83 2190.41 1328.51 Q2192.41 1331.18 2195.85 1331.18 Q2199.26 1331.18 2201.25 1328.49 Q2203.24 1325.81 2203.24 1321.18 Q2203.24 1316.57 2201.25 1313.88 Q2199.26 1311.18 2195.85 1311.18 M2195.85 1307.56 Q2201.41 1307.56 2204.58 1311.18 Q2207.75 1314.79 2207.75 1321.18 Q2207.75 1327.54 2204.58 1331.18 Q2201.41 1334.79 2195.85 1334.79 Q2190.28 1334.79 2187.1 1331.18 Q2183.96 1327.54 2183.96 1321.18 Q2183.96 1314.79 2187.1 1311.18 Q2190.28 1307.56 2195.85 1307.56 Z\" fill=\"#000000\" fill-rule=\"evenodd\" fill-opacity=\"1\" /><path clip-path=\"url(#clip060)\" d=\"M 0 0 M2233.77 1318.47 L2233.77 1334.12 L2229.51 1334.12 L2229.51 1318.61 Q2229.51 1314.93 2228.08 1313.1 Q2226.64 1311.27 2223.77 1311.27 Q2220.32 1311.27 2218.33 1313.47 Q2216.34 1315.67 2216.34 1319.46 L2216.34 1334.12 L2212.06 1334.12 L2212.06 1308.19 L2216.34 1308.19 L2216.34 1312.22 Q2217.87 1309.88 2219.93 1308.72 Q2222.01 1307.56 2224.72 1307.56 Q2229.19 1307.56 2231.48 1310.34 Q2233.77 1313.1 2233.77 1318.47 Z\" fill=\"#000000\" fill-rule=\"evenodd\" fill-opacity=\"1\" /></svg>\n"
      ]
     },
     "execution_count": 220,
     "metadata": {},
     "output_type": "execute_result"
    }
   ],
   "source": [
    "plot(data_schedule, training_losses, label=\"Training\", legend=:bottomright)\n",
    "plot!(data_schedule, valid_losses, label=\"Validation\")\n",
    "xlabel!(\"Number of Training Samples\")\n",
    "ylabel!(\"Classification Accuracy\")"
   ]
  },
  {
   "cell_type": "code",
   "execution_count": 221,
   "metadata": {},
   "outputs": [],
   "source": [
    "fn = \"Figures/Boost_LC\"\n",
    "png(replace(fn,'.' => ','))"
   ]
  },
  {
   "cell_type": "markdown",
   "metadata": {},
   "source": [
    "# Final Results"
   ]
  },
  {
   "cell_type": "code",
   "execution_count": 222,
   "metadata": {},
   "outputs": [
    {
     "data": {
      "text/plain": [
       "AdaBoostClassifier(\n",
       "    base_estimator = nothing,\n",
       "    n_estimators = 116,\n",
       "    learning_rate = 0.6366666666666667,\n",
       "    algorithm = \"SAMME.R\",\n",
       "    random_state = 123)\u001b[34m @781\u001b[39m"
      ]
     },
     "execution_count": 222,
     "metadata": {},
     "output_type": "execute_result"
    }
   ],
   "source": [
    "final_boost_model = best.best_model"
   ]
  },
  {
   "cell_type": "code",
   "execution_count": 223,
   "metadata": {},
   "outputs": [
    {
     "name": "stderr",
     "output_type": "stream",
     "text": [
      "┌ Warning: The scitype of `X`, in `machine(model, X, ...)` is incompatible with `model=\u001b[34mAdaBoostClassifier @781\u001b[39m`:\n",
      "│ scitype(X) = Table{Union{AbstractArray{Continuous,1}, AbstractArray{Count,1}}}\n",
      "│ input_scitype(model) = Table{var\"#s44\"} where var\"#s44\"<:(AbstractArray{var\"#s13\",1} where var\"#s13\"<:Continuous).\n",
      "└ @ MLJBase /home/andrew/.julia/packages/MLJBase/uKzAz/src/machines.jl:77\n"
     ]
    },
    {
     "data": {
      "text/plain": [
       "\u001b[34mMachine{AdaBoostClassifier} @166\u001b[39m trained 0 times.\n",
       "  args: \n",
       "    1:\t\u001b[34mSource @089\u001b[39m ⏎ `Table{Union{AbstractArray{Continuous,1}, AbstractArray{Count,1}}}`\n",
       "    2:\t\u001b[34mSource @541\u001b[39m ⏎ `AbstractArray{Multiclass{2},1}`\n"
      ]
     },
     "execution_count": 223,
     "metadata": {},
     "output_type": "execute_result"
    }
   ],
   "source": [
    "Final_Boost = machine(final_boost_model, X_stand, y)"
   ]
  },
  {
   "cell_type": "code",
   "execution_count": 224,
   "metadata": {},
   "outputs": [
    {
     "name": "stderr",
     "output_type": "stream",
     "text": [
      "┌ Info: Training \u001b[34mMachine{AdaBoostClassifier} @166\u001b[39m.\n",
      "└ @ MLJBase /home/andrew/.julia/packages/MLJBase/uKzAz/src/machines.jl:319\n"
     ]
    },
    {
     "data": {
      "text/plain": [
       "\u001b[34mMachine{AdaBoostClassifier} @166\u001b[39m trained 1 time.\n",
       "  args: \n",
       "    1:\t\u001b[34mSource @089\u001b[39m ⏎ `Table{Union{AbstractArray{Continuous,1}, AbstractArray{Count,1}}}`\n",
       "    2:\t\u001b[34mSource @541\u001b[39m ⏎ `AbstractArray{Multiclass{2},1}`\n"
      ]
     },
     "execution_count": 224,
     "metadata": {},
     "output_type": "execute_result"
    }
   ],
   "source": [
    "fit!(Final_Boost, rows=train, verbosity=2)"
   ]
  },
  {
   "cell_type": "code",
   "execution_count": 225,
   "metadata": {},
   "outputs": [],
   "source": [
    "ŷ2 = MLJ.predict(Final_Boost, X_stand[test,:]);"
   ]
  },
  {
   "cell_type": "code",
   "execution_count": 226,
   "metadata": {},
   "outputs": [
    {
     "data": {
      "text/plain": [
       "0.648874327729276"
      ]
     },
     "execution_count": 226,
     "metadata": {},
     "output_type": "execute_result"
    }
   ],
   "source": [
    "cross_entropy(ŷ2, y[test]) |> mean"
   ]
  },
  {
   "cell_type": "code",
   "execution_count": 227,
   "metadata": {},
   "outputs": [
    {
     "data": {
      "text/plain": [
       "0.8233438485804416"
      ]
     },
     "execution_count": 227,
     "metadata": {},
     "output_type": "execute_result"
    }
   ],
   "source": [
    "acc(ŷ2, y[test])"
   ]
  },
  {
   "cell_type": "code",
   "execution_count": 229,
   "metadata": {},
   "outputs": [
    {
     "name": "stderr",
     "output_type": "stream",
     "text": [
      "┌ Warning: The classes are un-ordered,\n",
      "│ using: negative='NRB' and positive='RB'.\n",
      "│ To suppress this warning, consider coercing to OrderedFactor.\n",
      "└ @ MLJBase /home/andrew/.julia/packages/MLJBase/uKzAz/src/measures/confusion_matrix.jl:83\n"
     ]
    },
    {
     "data": {
      "text/plain": [
       "              ┌───────────────────────────┐\n",
       "              │       Ground Truth        │\n",
       "┌─────────────┼─────────────┬─────────────┤\n",
       "│  Predicted  │     NRB     │     RB      │\n",
       "├─────────────┼─────────────┼─────────────┤\n",
       "│     NRB     │     183     │     29      │\n",
       "├─────────────┼─────────────┼─────────────┤\n",
       "│     RB      │     27      │     78      │\n",
       "└─────────────┴─────────────┴─────────────┘\n"
      ]
     },
     "execution_count": 229,
     "metadata": {},
     "output_type": "execute_result"
    }
   ],
   "source": [
    "c = confusion_matrix(mode.(ŷ2), y[test])"
   ]
  },
  {
   "cell_type": "code",
   "execution_count": 230,
   "metadata": {},
   "outputs": [
    {
     "data": {
      "text/plain": [
       "0.7428571428571429"
      ]
     },
     "execution_count": 230,
     "metadata": {},
     "output_type": "execute_result"
    }
   ],
   "source": [
    "precision(c)"
   ]
  },
  {
   "cell_type": "code",
   "execution_count": 231,
   "metadata": {},
   "outputs": [
    {
     "data": {
      "text/plain": [
       "0.7289719626168224"
      ]
     },
     "execution_count": 231,
     "metadata": {},
     "output_type": "execute_result"
    }
   ],
   "source": [
    "recall(c)"
   ]
  },
  {
   "cell_type": "code",
   "execution_count": 232,
   "metadata": {},
   "outputs": [
    {
     "data": {
      "text/plain": [
       "0.12857142857142856"
      ]
     },
     "execution_count": 232,
     "metadata": {},
     "output_type": "execute_result"
    }
   ],
   "source": [
    "27/(27+183)"
   ]
  },
  {
   "cell_type": "code",
   "execution_count": 233,
   "metadata": {},
   "outputs": [
    {
     "data": {
      "text/plain": [
       "0.27102803738317754"
      ]
     },
     "execution_count": 233,
     "metadata": {},
     "output_type": "execute_result"
    }
   ],
   "source": [
    "29/(29+78)"
   ]
  },
  {
   "cell_type": "code",
   "execution_count": 234,
   "metadata": {},
   "outputs": [
    {
     "data": {
      "text/plain": [
       "0.17665615141955837"
      ]
     },
     "execution_count": 234,
     "metadata": {},
     "output_type": "execute_result"
    }
   ],
   "source": [
    "misclassification_rate(c)"
   ]
  },
  {
   "cell_type": "code",
   "execution_count": null,
   "metadata": {},
   "outputs": [],
   "source": []
  }
 ],
 "metadata": {
  "kernelspec": {
   "display_name": "Julia 1.5.0",
   "language": "julia",
   "name": "julia-1.5"
  },
  "language_info": {
   "file_extension": ".jl",
   "mimetype": "application/julia",
   "name": "julia",
   "version": "1.5.0"
  }
 },
 "nbformat": 4,
 "nbformat_minor": 4
}
