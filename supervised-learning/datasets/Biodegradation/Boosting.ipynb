{
 "cells": [
  {
   "cell_type": "markdown",
   "metadata": {},
   "source": [
    "# Imports"
   ]
  },
  {
   "cell_type": "code",
   "execution_count": 1,
   "metadata": {},
   "outputs": [],
   "source": [
    "using DataFrames\n",
    "using CSV\n",
    "using MLJ\n",
    "using Plots\n",
    "using StatsBase\n",
    "\n",
    "include(\"../../lib.jl\")\n",
    "\n",
    "ENV[\"LINES\"]=30;"
   ]
  },
  {
   "cell_type": "markdown",
   "metadata": {},
   "source": [
    "# Dataset"
   ]
  },
  {
   "cell_type": "code",
   "execution_count": 2,
   "metadata": {
    "scrolled": true
   },
   "outputs": [
    {
     "data": {
      "text/html": [
       "<table class=\"data-frame\"><thead><tr><th></th><th>1</th><th>2</th><th>3</th><th>4</th><th>5</th><th>6</th><th>7</th><th>8</th><th>9</th><th>10</th><th>11</th></tr><tr><th></th><th>Float64</th><th>Float64</th><th>Int64</th><th>Int64</th><th>Int64</th><th>Int64</th><th>Int64</th><th>Float64</th><th>Int64</th><th>Int64</th><th>Int64</th></tr></thead><tbody><p>1,055 rows × 42 columns (omitted printing of 31 columns)</p><tr><th>1</th><td>3.919</td><td>2.6909</td><td>0</td><td>0</td><td>0</td><td>0</td><td>0</td><td>31.4</td><td>2</td><td>0</td><td>0</td></tr><tr><th>2</th><td>4.17</td><td>2.1144</td><td>0</td><td>0</td><td>0</td><td>0</td><td>0</td><td>30.8</td><td>1</td><td>1</td><td>0</td></tr><tr><th>3</th><td>3.932</td><td>3.2512</td><td>0</td><td>0</td><td>0</td><td>0</td><td>0</td><td>26.7</td><td>2</td><td>4</td><td>0</td></tr><tr><th>4</th><td>3.0</td><td>2.7098</td><td>0</td><td>0</td><td>0</td><td>0</td><td>0</td><td>20.0</td><td>0</td><td>2</td><td>0</td></tr><tr><th>5</th><td>4.236</td><td>3.3944</td><td>0</td><td>0</td><td>0</td><td>0</td><td>0</td><td>29.4</td><td>2</td><td>4</td><td>0</td></tr><tr><th>6</th><td>4.236</td><td>3.4286</td><td>0</td><td>0</td><td>0</td><td>0</td><td>0</td><td>28.6</td><td>2</td><td>4</td><td>0</td></tr><tr><th>7</th><td>5.0</td><td>5.0476</td><td>1</td><td>0</td><td>0</td><td>0</td><td>0</td><td>11.1</td><td>0</td><td>3</td><td>0</td></tr><tr><th>8</th><td>4.525</td><td>3.8301</td><td>0</td><td>0</td><td>0</td><td>0</td><td>0</td><td>31.6</td><td>3</td><td>2</td><td>0</td></tr><tr><th>9</th><td>4.596</td><td>3.0777</td><td>0</td><td>0</td><td>0</td><td>0</td><td>2</td><td>44.4</td><td>2</td><td>0</td><td>0</td></tr><tr><th>10</th><td>5.04</td><td>3.6112</td><td>0</td><td>0</td><td>1</td><td>0</td><td>2</td><td>41.2</td><td>0</td><td>4</td><td>3</td></tr><tr><th>11</th><td>4.91</td><td>2.7414</td><td>0</td><td>0</td><td>0</td><td>0</td><td>2</td><td>52.9</td><td>0</td><td>2</td><td>0</td></tr><tr><th>12</th><td>3.618</td><td>2.1906</td><td>0</td><td>0</td><td>0</td><td>0</td><td>0</td><td>29.4</td><td>2</td><td>0</td><td>0</td></tr><tr><th>13</th><td>4.214</td><td>2.6272</td><td>0</td><td>0</td><td>0</td><td>0</td><td>0</td><td>30.0</td><td>3</td><td>0</td><td>0</td></tr><tr><th>14</th><td>3.732</td><td>2.3391</td><td>0</td><td>0</td><td>0</td><td>0</td><td>0</td><td>30.0</td><td>2</td><td>0</td><td>0</td></tr><tr><th>15</th><td>3.879</td><td>2.5951</td><td>0</td><td>0</td><td>0</td><td>0</td><td>0</td><td>31.0</td><td>2</td><td>0</td><td>0</td></tr><tr><th>16</th><td>3.942</td><td>2.7719</td><td>1</td><td>0</td><td>0</td><td>0</td><td>0</td><td>31.6</td><td>2</td><td>0</td><td>0</td></tr><tr><th>17</th><td>3.966</td><td>2.852</td><td>1</td><td>0</td><td>0</td><td>0</td><td>0</td><td>32.0</td><td>2</td><td>0</td><td>0</td></tr><tr><th>18</th><td>3.732</td><td>2.3761</td><td>0</td><td>0</td><td>1</td><td>0</td><td>0</td><td>26.3</td><td>2</td><td>0</td><td>1</td></tr><tr><th>19</th><td>4.0</td><td>2.6264</td><td>0</td><td>0</td><td>0</td><td>0</td><td>0</td><td>23.1</td><td>0</td><td>0</td><td>0</td></tr><tr><th>20</th><td>2.0</td><td>1.1521</td><td>0</td><td>0</td><td>0</td><td>0</td><td>0</td><td>16.7</td><td>1</td><td>1</td><td>0</td></tr><tr><th>21</th><td>3.732</td><td>2.4062</td><td>0</td><td>0</td><td>0</td><td>0</td><td>0</td><td>27.8</td><td>2</td><td>1</td><td>0</td></tr><tr><th>22</th><td>4.0</td><td>2.3699</td><td>0</td><td>0</td><td>0</td><td>0</td><td>0</td><td>30.0</td><td>1</td><td>1</td><td>0</td></tr><tr><th>23</th><td>3.414</td><td>2.2525</td><td>0</td><td>0</td><td>0</td><td>0</td><td>0</td><td>20.0</td><td>2</td><td>2</td><td>0</td></tr><tr><th>24</th><td>4.17</td><td>2.8042</td><td>0</td><td>0</td><td>0</td><td>0</td><td>0</td><td>23.1</td><td>2</td><td>2</td><td>0</td></tr><tr><th>25</th><td>4.303</td><td>2.9558</td><td>0</td><td>0</td><td>0</td><td>0</td><td>0</td><td>25.0</td><td>2</td><td>2</td><td>0</td></tr><tr><th>26</th><td>3.414</td><td>2.6294</td><td>0</td><td>0</td><td>0</td><td>0</td><td>0</td><td>37.5</td><td>1</td><td>1</td><td>0</td></tr><tr><th>27</th><td>4.214</td><td>3.0057</td><td>0</td><td>0</td><td>0</td><td>0</td><td>0</td><td>25.0</td><td>1</td><td>2</td><td>0</td></tr><tr><th>28</th><td>3.848</td><td>2.8521</td><td>0</td><td>0</td><td>0</td><td>0</td><td>0</td><td>27.3</td><td>2</td><td>2</td><td>0</td></tr><tr><th>29</th><td>3.414</td><td>2.3729</td><td>0</td><td>0</td><td>0</td><td>0</td><td>0</td><td>30.0</td><td>1</td><td>1</td><td>0</td></tr><tr><th>30</th><td>4.393</td><td>3.6458</td><td>0</td><td>0</td><td>0</td><td>0</td><td>0</td><td>37.0</td><td>3</td><td>1</td><td>0</td></tr><tr><th>&vellip;</th><td>&vellip;</td><td>&vellip;</td><td>&vellip;</td><td>&vellip;</td><td>&vellip;</td><td>&vellip;</td><td>&vellip;</td><td>&vellip;</td><td>&vellip;</td><td>&vellip;</td><td>&vellip;</td></tr></tbody></table>"
      ],
      "text/latex": [
       "\\begin{tabular}{r|cccccccccccc}\n",
       "\t& 1 & 2 & 3 & 4 & 5 & 6 & 7 & 8 & 9 & 10 & 11 & \\\\\n",
       "\t\\hline\n",
       "\t& Float64 & Float64 & Int64 & Int64 & Int64 & Int64 & Int64 & Float64 & Int64 & Int64 & Int64 & \\\\\n",
       "\t\\hline\n",
       "\t1 & 3.919 & 2.6909 & 0 & 0 & 0 & 0 & 0 & 31.4 & 2 & 0 & 0 & $\\dots$ \\\\\n",
       "\t2 & 4.17 & 2.1144 & 0 & 0 & 0 & 0 & 0 & 30.8 & 1 & 1 & 0 & $\\dots$ \\\\\n",
       "\t3 & 3.932 & 3.2512 & 0 & 0 & 0 & 0 & 0 & 26.7 & 2 & 4 & 0 & $\\dots$ \\\\\n",
       "\t4 & 3.0 & 2.7098 & 0 & 0 & 0 & 0 & 0 & 20.0 & 0 & 2 & 0 & $\\dots$ \\\\\n",
       "\t5 & 4.236 & 3.3944 & 0 & 0 & 0 & 0 & 0 & 29.4 & 2 & 4 & 0 & $\\dots$ \\\\\n",
       "\t6 & 4.236 & 3.4286 & 0 & 0 & 0 & 0 & 0 & 28.6 & 2 & 4 & 0 & $\\dots$ \\\\\n",
       "\t7 & 5.0 & 5.0476 & 1 & 0 & 0 & 0 & 0 & 11.1 & 0 & 3 & 0 & $\\dots$ \\\\\n",
       "\t8 & 4.525 & 3.8301 & 0 & 0 & 0 & 0 & 0 & 31.6 & 3 & 2 & 0 & $\\dots$ \\\\\n",
       "\t9 & 4.596 & 3.0777 & 0 & 0 & 0 & 0 & 2 & 44.4 & 2 & 0 & 0 & $\\dots$ \\\\\n",
       "\t10 & 5.04 & 3.6112 & 0 & 0 & 1 & 0 & 2 & 41.2 & 0 & 4 & 3 & $\\dots$ \\\\\n",
       "\t11 & 4.91 & 2.7414 & 0 & 0 & 0 & 0 & 2 & 52.9 & 0 & 2 & 0 & $\\dots$ \\\\\n",
       "\t12 & 3.618 & 2.1906 & 0 & 0 & 0 & 0 & 0 & 29.4 & 2 & 0 & 0 & $\\dots$ \\\\\n",
       "\t13 & 4.214 & 2.6272 & 0 & 0 & 0 & 0 & 0 & 30.0 & 3 & 0 & 0 & $\\dots$ \\\\\n",
       "\t14 & 3.732 & 2.3391 & 0 & 0 & 0 & 0 & 0 & 30.0 & 2 & 0 & 0 & $\\dots$ \\\\\n",
       "\t15 & 3.879 & 2.5951 & 0 & 0 & 0 & 0 & 0 & 31.0 & 2 & 0 & 0 & $\\dots$ \\\\\n",
       "\t16 & 3.942 & 2.7719 & 1 & 0 & 0 & 0 & 0 & 31.6 & 2 & 0 & 0 & $\\dots$ \\\\\n",
       "\t17 & 3.966 & 2.852 & 1 & 0 & 0 & 0 & 0 & 32.0 & 2 & 0 & 0 & $\\dots$ \\\\\n",
       "\t18 & 3.732 & 2.3761 & 0 & 0 & 1 & 0 & 0 & 26.3 & 2 & 0 & 1 & $\\dots$ \\\\\n",
       "\t19 & 4.0 & 2.6264 & 0 & 0 & 0 & 0 & 0 & 23.1 & 0 & 0 & 0 & $\\dots$ \\\\\n",
       "\t20 & 2.0 & 1.1521 & 0 & 0 & 0 & 0 & 0 & 16.7 & 1 & 1 & 0 & $\\dots$ \\\\\n",
       "\t21 & 3.732 & 2.4062 & 0 & 0 & 0 & 0 & 0 & 27.8 & 2 & 1 & 0 & $\\dots$ \\\\\n",
       "\t22 & 4.0 & 2.3699 & 0 & 0 & 0 & 0 & 0 & 30.0 & 1 & 1 & 0 & $\\dots$ \\\\\n",
       "\t23 & 3.414 & 2.2525 & 0 & 0 & 0 & 0 & 0 & 20.0 & 2 & 2 & 0 & $\\dots$ \\\\\n",
       "\t24 & 4.17 & 2.8042 & 0 & 0 & 0 & 0 & 0 & 23.1 & 2 & 2 & 0 & $\\dots$ \\\\\n",
       "\t25 & 4.303 & 2.9558 & 0 & 0 & 0 & 0 & 0 & 25.0 & 2 & 2 & 0 & $\\dots$ \\\\\n",
       "\t26 & 3.414 & 2.6294 & 0 & 0 & 0 & 0 & 0 & 37.5 & 1 & 1 & 0 & $\\dots$ \\\\\n",
       "\t27 & 4.214 & 3.0057 & 0 & 0 & 0 & 0 & 0 & 25.0 & 1 & 2 & 0 & $\\dots$ \\\\\n",
       "\t28 & 3.848 & 2.8521 & 0 & 0 & 0 & 0 & 0 & 27.3 & 2 & 2 & 0 & $\\dots$ \\\\\n",
       "\t29 & 3.414 & 2.3729 & 0 & 0 & 0 & 0 & 0 & 30.0 & 1 & 1 & 0 & $\\dots$ \\\\\n",
       "\t30 & 4.393 & 3.6458 & 0 & 0 & 0 & 0 & 0 & 37.0 & 3 & 1 & 0 & $\\dots$ \\\\\n",
       "\t$\\dots$ & $\\dots$ & $\\dots$ & $\\dots$ & $\\dots$ & $\\dots$ & $\\dots$ & $\\dots$ & $\\dots$ & $\\dots$ & $\\dots$ & $\\dots$ &  \\\\\n",
       "\\end{tabular}\n"
      ],
      "text/plain": [
       "1055×42 DataFrame. Omitted printing of 34 columns\n",
       "│ Row  │ 1       │ 2       │ 3     │ 4     │ 5     │ 6     │ 7     │ 8       │\n",
       "│      │ \u001b[90mFloat64\u001b[39m │ \u001b[90mFloat64\u001b[39m │ \u001b[90mInt64\u001b[39m │ \u001b[90mInt64\u001b[39m │ \u001b[90mInt64\u001b[39m │ \u001b[90mInt64\u001b[39m │ \u001b[90mInt64\u001b[39m │ \u001b[90mFloat64\u001b[39m │\n",
       "├──────┼─────────┼─────────┼───────┼───────┼───────┼───────┼───────┼─────────┤\n",
       "│ 1    │ 3.919   │ 2.6909  │ 0     │ 0     │ 0     │ 0     │ 0     │ 31.4    │\n",
       "│ 2    │ 4.17    │ 2.1144  │ 0     │ 0     │ 0     │ 0     │ 0     │ 30.8    │\n",
       "│ 3    │ 3.932   │ 3.2512  │ 0     │ 0     │ 0     │ 0     │ 0     │ 26.7    │\n",
       "│ 4    │ 3.0     │ 2.7098  │ 0     │ 0     │ 0     │ 0     │ 0     │ 20.0    │\n",
       "│ 5    │ 4.236   │ 3.3944  │ 0     │ 0     │ 0     │ 0     │ 0     │ 29.4    │\n",
       "│ 6    │ 4.236   │ 3.4286  │ 0     │ 0     │ 0     │ 0     │ 0     │ 28.6    │\n",
       "│ 7    │ 5.0     │ 5.0476  │ 1     │ 0     │ 0     │ 0     │ 0     │ 11.1    │\n",
       "│ 8    │ 4.525   │ 3.8301  │ 0     │ 0     │ 0     │ 0     │ 0     │ 31.6    │\n",
       "│ 9    │ 4.596   │ 3.0777  │ 0     │ 0     │ 0     │ 0     │ 2     │ 44.4    │\n",
       "│ 10   │ 5.04    │ 3.6112  │ 0     │ 0     │ 1     │ 0     │ 2     │ 41.2    │\n",
       "⋮\n",
       "│ 1045 │ 4.807   │ 3.3179  │ 1     │ 0     │ 0     │ 0     │ 3     │ 43.8    │\n",
       "│ 1046 │ 4.607   │ 3.0008  │ 1     │ 0     │ 0     │ 0     │ 2     │ 41.2    │\n",
       "│ 1047 │ 5.313   │ 2.7782  │ 0     │ 0     │ 0     │ 1     │ 2     │ 40.0    │\n",
       "│ 1048 │ 5.103   │ 3.9184  │ 0     │ 0     │ 4     │ 0     │ 4     │ 35.0    │\n",
       "│ 1049 │ 5.265   │ 3.3444  │ 2     │ 0     │ 6     │ 0     │ 1     │ 35.3    │\n",
       "│ 1050 │ 5.029   │ 2.5966  │ 0     │ 0     │ 0     │ 0     │ 4     │ 46.7    │\n",
       "│ 1051 │ 5.431   │ 2.8955  │ 0     │ 0     │ 0     │ 2     │ 0     │ 32.1    │\n",
       "│ 1052 │ 5.287   │ 3.3732  │ 0     │ 0     │ 9     │ 0     │ 0     │ 35.3    │\n",
       "│ 1053 │ 4.869   │ 1.767   │ 0     │ 1     │ 9     │ 0     │ 5     │ 44.4    │\n",
       "│ 1054 │ 5.158   │ 1.6914  │ 2     │ 0     │ 36    │ 0     │ 9     │ 56.1    │\n",
       "│ 1055 │ 5.076   │ 2.6588  │ 2     │ 0     │ 0     │ 0     │ 4     │ 54.5    │"
      ]
     },
     "execution_count": 2,
     "metadata": {},
     "output_type": "execute_result"
    }
   ],
   "source": [
    "data = CSV.read(\"./data.csv\")"
   ]
  },
  {
   "cell_type": "code",
   "execution_count": 3,
   "metadata": {
    "scrolled": true
   },
   "outputs": [
    {
     "data": {
      "text/html": [
       "<table class=\"data-frame\"><thead><tr><th></th><th>variable</th><th>mean</th><th>min</th><th>median</th><th>max</th><th>nunique</th><th>nmissing</th><th>eltype</th></tr><tr><th></th><th>Symbol</th><th>Union…</th><th>Any</th><th>Union…</th><th>Any</th><th>Union…</th><th>Nothing</th><th>DataType</th></tr></thead><tbody><p>42 rows × 8 columns</p><tr><th>1</th><td>1</td><td>4.78264</td><td>2.0</td><td>4.828</td><td>6.496</td><td></td><td></td><td>Float64</td></tr><tr><th>2</th><td>2</td><td>3.06951</td><td>0.8039</td><td>3.0463</td><td>9.1775</td><td></td><td></td><td>Float64</td></tr><tr><th>3</th><td>3</td><td>0.716588</td><td>0</td><td>0.0</td><td>12</td><td></td><td></td><td>Int64</td></tr><tr><th>4</th><td>4</td><td>0.042654</td><td>0</td><td>0.0</td><td>3</td><td></td><td></td><td>Int64</td></tr><tr><th>5</th><td>5</td><td>0.980095</td><td>0</td><td>0.0</td><td>36</td><td></td><td></td><td>Int64</td></tr><tr><th>6</th><td>6</td><td>0.290047</td><td>0</td><td>0.0</td><td>13</td><td></td><td></td><td>Int64</td></tr><tr><th>7</th><td>7</td><td>1.64645</td><td>0</td><td>1.0</td><td>18</td><td></td><td></td><td>Int64</td></tr><tr><th>8</th><td>8</td><td>37.0556</td><td>0.0</td><td>37.5</td><td>60.7</td><td></td><td></td><td>Float64</td></tr><tr><th>9</th><td>9</td><td>1.3763</td><td>0</td><td>1.0</td><td>24</td><td></td><td></td><td>Int64</td></tr><tr><th>10</th><td>10</td><td>1.80379</td><td>0</td><td>2.0</td><td>12</td><td></td><td></td><td>Int64</td></tr><tr><th>11</th><td>11</td><td>1.43697</td><td>0</td><td>0.0</td><td>44</td><td></td><td></td><td>Int64</td></tr><tr><th>12</th><td>12</td><td>-0.197129</td><td>-5.256</td><td>0.0</td><td>4.722</td><td></td><td></td><td>Float64</td></tr><tr><th>13</th><td>13</td><td>3.47684</td><td>1.544</td><td>3.442</td><td>5.701</td><td></td><td></td><td>Float64</td></tr><tr><th>14</th><td>14</td><td>1.35072</td><td>0.0</td><td>1.187</td><td>4.491</td><td></td><td></td><td>Float64</td></tr><tr><th>15</th><td>15</td><td>9.93738</td><td>4.174</td><td>10.039</td><td>12.609</td><td></td><td></td><td>Float64</td></tr><tr><th>16</th><td>16</td><td>3.63033</td><td>0</td><td>2.0</td><td>40</td><td></td><td></td><td>Int64</td></tr><tr><th>17</th><td>17</td><td>1.0133</td><td>0.957</td><td>1.003</td><td>1.311</td><td></td><td></td><td>Float64</td></tr><tr><th>18</th><td>18</td><td>1.13111</td><td>1.022</td><td>1.13</td><td>1.377</td><td></td><td></td><td>Float64</td></tr><tr><th>19</th><td>19</td><td>0.00853081</td><td>0</td><td>0.0</td><td>2</td><td></td><td></td><td>Int64</td></tr><tr><th>20</th><td>20</td><td>0.0739336</td><td>0</td><td>0.0</td><td>3</td><td></td><td></td><td>Int64</td></tr><tr><th>21</th><td>21</td><td>0.0293839</td><td>0</td><td>0.0</td><td>3</td><td></td><td></td><td>Int64</td></tr><tr><th>22</th><td>22</td><td>1.23873</td><td>0.863</td><td>1.243</td><td>1.641</td><td></td><td></td><td>Float64</td></tr><tr><th>23</th><td>23</td><td>1.40569</td><td>0</td><td>1.0</td><td>147</td><td></td><td></td><td>Int64</td></tr><tr><th>24</th><td>24</td><td>0.0398104</td><td>0</td><td>0.0</td><td>1</td><td></td><td></td><td>Int64</td></tr><tr><th>25</th><td>25</td><td>0.147867</td><td>0</td><td>0.0</td><td>1</td><td></td><td></td><td>Int64</td></tr><tr><th>26</th><td>26</td><td>0.0312796</td><td>0</td><td>0.0</td><td>3</td><td></td><td></td><td>Int64</td></tr><tr><th>27</th><td>27</td><td>2.21564</td><td>1.0</td><td>2.247</td><td>2.859</td><td></td><td></td><td>Float64</td></tr><tr><th>28</th><td>28</td><td>-0.00120569</td><td>-1.099</td><td>0.0</td><td>1.073</td><td></td><td></td><td>Float64</td></tr><tr><th>29</th><td>29</td><td>0.0265403</td><td>0</td><td>0.0</td><td>1</td><td></td><td></td><td>Int64</td></tr><tr><th>30</th><td>30</td><td>8.78051</td><td>0.0</td><td>0.0</td><td>71.167</td><td></td><td></td><td>Float64</td></tr><tr><th>&vellip;</th><td>&vellip;</td><td>&vellip;</td><td>&vellip;</td><td>&vellip;</td><td>&vellip;</td><td>&vellip;</td><td>&vellip;</td><td>&vellip;</td></tr></tbody></table>"
      ],
      "text/latex": [
       "\\begin{tabular}{r|cccccccc}\n",
       "\t& variable & mean & min & median & max & nunique & nmissing & eltype\\\\\n",
       "\t\\hline\n",
       "\t& Symbol & Union… & Any & Union… & Any & Union… & Nothing & DataType\\\\\n",
       "\t\\hline\n",
       "\t1 & 1 & 4.78264 & 2.0 & 4.828 & 6.496 &  &  & Float64 \\\\\n",
       "\t2 & 2 & 3.06951 & 0.8039 & 3.0463 & 9.1775 &  &  & Float64 \\\\\n",
       "\t3 & 3 & 0.716588 & 0 & 0.0 & 12 &  &  & Int64 \\\\\n",
       "\t4 & 4 & 0.042654 & 0 & 0.0 & 3 &  &  & Int64 \\\\\n",
       "\t5 & 5 & 0.980095 & 0 & 0.0 & 36 &  &  & Int64 \\\\\n",
       "\t6 & 6 & 0.290047 & 0 & 0.0 & 13 &  &  & Int64 \\\\\n",
       "\t7 & 7 & 1.64645 & 0 & 1.0 & 18 &  &  & Int64 \\\\\n",
       "\t8 & 8 & 37.0556 & 0.0 & 37.5 & 60.7 &  &  & Float64 \\\\\n",
       "\t9 & 9 & 1.3763 & 0 & 1.0 & 24 &  &  & Int64 \\\\\n",
       "\t10 & 10 & 1.80379 & 0 & 2.0 & 12 &  &  & Int64 \\\\\n",
       "\t11 & 11 & 1.43697 & 0 & 0.0 & 44 &  &  & Int64 \\\\\n",
       "\t12 & 12 & -0.197129 & -5.256 & 0.0 & 4.722 &  &  & Float64 \\\\\n",
       "\t13 & 13 & 3.47684 & 1.544 & 3.442 & 5.701 &  &  & Float64 \\\\\n",
       "\t14 & 14 & 1.35072 & 0.0 & 1.187 & 4.491 &  &  & Float64 \\\\\n",
       "\t15 & 15 & 9.93738 & 4.174 & 10.039 & 12.609 &  &  & Float64 \\\\\n",
       "\t16 & 16 & 3.63033 & 0 & 2.0 & 40 &  &  & Int64 \\\\\n",
       "\t17 & 17 & 1.0133 & 0.957 & 1.003 & 1.311 &  &  & Float64 \\\\\n",
       "\t18 & 18 & 1.13111 & 1.022 & 1.13 & 1.377 &  &  & Float64 \\\\\n",
       "\t19 & 19 & 0.00853081 & 0 & 0.0 & 2 &  &  & Int64 \\\\\n",
       "\t20 & 20 & 0.0739336 & 0 & 0.0 & 3 &  &  & Int64 \\\\\n",
       "\t21 & 21 & 0.0293839 & 0 & 0.0 & 3 &  &  & Int64 \\\\\n",
       "\t22 & 22 & 1.23873 & 0.863 & 1.243 & 1.641 &  &  & Float64 \\\\\n",
       "\t23 & 23 & 1.40569 & 0 & 1.0 & 147 &  &  & Int64 \\\\\n",
       "\t24 & 24 & 0.0398104 & 0 & 0.0 & 1 &  &  & Int64 \\\\\n",
       "\t25 & 25 & 0.147867 & 0 & 0.0 & 1 &  &  & Int64 \\\\\n",
       "\t26 & 26 & 0.0312796 & 0 & 0.0 & 3 &  &  & Int64 \\\\\n",
       "\t27 & 27 & 2.21564 & 1.0 & 2.247 & 2.859 &  &  & Float64 \\\\\n",
       "\t28 & 28 & -0.00120569 & -1.099 & 0.0 & 1.073 &  &  & Float64 \\\\\n",
       "\t29 & 29 & 0.0265403 & 0 & 0.0 & 1 &  &  & Int64 \\\\\n",
       "\t30 & 30 & 8.78051 & 0.0 & 0.0 & 71.167 &  &  & Float64 \\\\\n",
       "\t$\\dots$ & $\\dots$ & $\\dots$ & $\\dots$ & $\\dots$ & $\\dots$ & $\\dots$ & $\\dots$ & $\\dots$ \\\\\n",
       "\\end{tabular}\n"
      ],
      "text/plain": [
       "42×8 DataFrame. Omitted printing of 1 columns\n",
       "│ Row │ variable │ mean      │ min    │ median │ max    │ nunique │ nmissing │\n",
       "│     │ \u001b[90mSymbol\u001b[39m   │ \u001b[90mUnion…\u001b[39m    │ \u001b[90mAny\u001b[39m    │ \u001b[90mUnion…\u001b[39m │ \u001b[90mAny\u001b[39m    │ \u001b[90mUnion…\u001b[39m  │ \u001b[90mNothing\u001b[39m  │\n",
       "├─────┼──────────┼───────────┼────────┼────────┼────────┼─────────┼──────────┤\n",
       "│ 1   │ 1        │ 4.78264   │ 2.0    │ 4.828  │ 6.496  │         │          │\n",
       "│ 2   │ 2        │ 3.06951   │ 0.8039 │ 3.0463 │ 9.1775 │         │          │\n",
       "│ 3   │ 3        │ 0.716588  │ 0      │ 0.0    │ 12     │         │          │\n",
       "│ 4   │ 4        │ 0.042654  │ 0      │ 0.0    │ 3      │         │          │\n",
       "│ 5   │ 5        │ 0.980095  │ 0      │ 0.0    │ 36     │         │          │\n",
       "│ 6   │ 6        │ 0.290047  │ 0      │ 0.0    │ 13     │         │          │\n",
       "│ 7   │ 7        │ 1.64645   │ 0      │ 1.0    │ 18     │         │          │\n",
       "│ 8   │ 8        │ 37.0556   │ 0.0    │ 37.5   │ 60.7   │         │          │\n",
       "│ 9   │ 9        │ 1.3763    │ 0      │ 1.0    │ 24     │         │          │\n",
       "│ 10  │ 10       │ 1.80379   │ 0      │ 2.0    │ 12     │         │          │\n",
       "⋮\n",
       "│ 32  │ 32       │ 0.129858  │ 0      │ 0.0    │ 8      │         │          │\n",
       "│ 33  │ 33       │ 0.883412  │ 0      │ 0.0    │ 12     │         │          │\n",
       "│ 34  │ 34       │ 1.27488   │ 0      │ 0.0    │ 18     │         │          │\n",
       "│ 35  │ 35       │ 0.961137  │ 0      │ 1.0    │ 7      │         │          │\n",
       "│ 36  │ 36       │ 3.91824   │ 2.267  │ 3.726  │ 10.695 │         │          │\n",
       "│ 37  │ 37       │ 2.55842   │ 1.467  │ 2.458  │ 5.825  │         │          │\n",
       "│ 38  │ 38       │ 0.686256  │ 0      │ 0.0    │ 8      │         │          │\n",
       "│ 39  │ 39       │ 8.62949   │ 4.917  │ 8.499  │ 14.7   │         │          │\n",
       "│ 40  │ 40       │ 0.0511848 │ 0      │ 0.0    │ 4      │         │          │\n",
       "│ 41  │ 41       │ 0.723223  │ 0      │ 0.0    │ 27     │         │          │\n",
       "│ 42  │ Class    │           │ NRB    │        │ RB     │ 2       │          │"
      ]
     },
     "execution_count": 3,
     "metadata": {},
     "output_type": "execute_result"
    }
   ],
   "source": [
    "describe(data)"
   ]
  },
  {
   "cell_type": "markdown",
   "metadata": {},
   "source": [
    "Look at class labels to see if dataset is imbalanced"
   ]
  },
  {
   "cell_type": "code",
   "execution_count": 4,
   "metadata": {},
   "outputs": [
    {
     "data": {
      "text/plain": [
       "Dict{String,Int64} with 2 entries:\n",
       "  \"RB\"  => 356\n",
       "  \"NRB\" => 699"
      ]
     },
     "execution_count": 4,
     "metadata": {},
     "output_type": "execute_result"
    }
   ],
   "source": [
    "label_counts = countmap(data[:(Class)])"
   ]
  },
  {
   "cell_type": "code",
   "execution_count": 5,
   "metadata": {},
   "outputs": [
    {
     "data": {
      "text/plain": [
       "2-element Array{Float64,1}:\n",
       " 0.33744075829383885\n",
       " 0.6625592417061611"
      ]
     },
     "execution_count": 5,
     "metadata": {},
     "output_type": "execute_result"
    }
   ],
   "source": [
    "collect(label_counts[i] / size(data)[1] for i in keys(label_counts))"
   ]
  },
  {
   "cell_type": "markdown",
   "metadata": {},
   "source": [
    "Get data ready for training"
   ]
  },
  {
   "cell_type": "code",
   "execution_count": 6,
   "metadata": {
    "scrolled": true
   },
   "outputs": [
    {
     "data": {
      "text/plain": [
       "┌\u001b[0m─────────\u001b[0m┬\u001b[0m─────────────────────────────────\u001b[0m┬\u001b[0m───────────────\u001b[0m┐\u001b[0m\n",
       "│\u001b[0m\u001b[22m _.names \u001b[0m│\u001b[0m\u001b[22m _.types                         \u001b[0m│\u001b[0m\u001b[22m _.scitypes    \u001b[0m│\u001b[0m\n",
       "├\u001b[0m─────────\u001b[0m┼\u001b[0m─────────────────────────────────\u001b[0m┼\u001b[0m───────────────\u001b[0m┤\u001b[0m\n",
       "│\u001b[0m 1       \u001b[0m│\u001b[0m Float64                         \u001b[0m│\u001b[0m Continuous    \u001b[0m│\u001b[0m\n",
       "│\u001b[0m 2       \u001b[0m│\u001b[0m Float64                         \u001b[0m│\u001b[0m Continuous    \u001b[0m│\u001b[0m\n",
       "│\u001b[0m 3       \u001b[0m│\u001b[0m Int64                           \u001b[0m│\u001b[0m Count         \u001b[0m│\u001b[0m\n",
       "│\u001b[0m 4       \u001b[0m│\u001b[0m Int64                           \u001b[0m│\u001b[0m Count         \u001b[0m│\u001b[0m\n",
       "│\u001b[0m 5       \u001b[0m│\u001b[0m Int64                           \u001b[0m│\u001b[0m Count         \u001b[0m│\u001b[0m\n",
       "│\u001b[0m 6       \u001b[0m│\u001b[0m Int64                           \u001b[0m│\u001b[0m Count         \u001b[0m│\u001b[0m\n",
       "│\u001b[0m 7       \u001b[0m│\u001b[0m Int64                           \u001b[0m│\u001b[0m Count         \u001b[0m│\u001b[0m\n",
       "│\u001b[0m 8       \u001b[0m│\u001b[0m Float64                         \u001b[0m│\u001b[0m Continuous    \u001b[0m│\u001b[0m\n",
       "│\u001b[0m 9       \u001b[0m│\u001b[0m Int64                           \u001b[0m│\u001b[0m Count         \u001b[0m│\u001b[0m\n",
       "│\u001b[0m 10      \u001b[0m│\u001b[0m Int64                           \u001b[0m│\u001b[0m Count         \u001b[0m│\u001b[0m\n",
       "│\u001b[0m 11      \u001b[0m│\u001b[0m Int64                           \u001b[0m│\u001b[0m Count         \u001b[0m│\u001b[0m\n",
       "│\u001b[0m 12      \u001b[0m│\u001b[0m Float64                         \u001b[0m│\u001b[0m Continuous    \u001b[0m│\u001b[0m\n",
       "│\u001b[0m 13      \u001b[0m│\u001b[0m Float64                         \u001b[0m│\u001b[0m Continuous    \u001b[0m│\u001b[0m\n",
       "│\u001b[0m 14      \u001b[0m│\u001b[0m Float64                         \u001b[0m│\u001b[0m Continuous    \u001b[0m│\u001b[0m\n",
       "│\u001b[0m 15      \u001b[0m│\u001b[0m Float64                         \u001b[0m│\u001b[0m Continuous    \u001b[0m│\u001b[0m\n",
       "│\u001b[0m 16      \u001b[0m│\u001b[0m Int64                           \u001b[0m│\u001b[0m Count         \u001b[0m│\u001b[0m\n",
       "│\u001b[0m 17      \u001b[0m│\u001b[0m Float64                         \u001b[0m│\u001b[0m Continuous    \u001b[0m│\u001b[0m\n",
       "│\u001b[0m 18      \u001b[0m│\u001b[0m Float64                         \u001b[0m│\u001b[0m Continuous    \u001b[0m│\u001b[0m\n",
       "│\u001b[0m 19      \u001b[0m│\u001b[0m Int64                           \u001b[0m│\u001b[0m Count         \u001b[0m│\u001b[0m\n",
       "│\u001b[0m 20      \u001b[0m│\u001b[0m Int64                           \u001b[0m│\u001b[0m Count         \u001b[0m│\u001b[0m\n",
       "│\u001b[0m 21      \u001b[0m│\u001b[0m Int64                           \u001b[0m│\u001b[0m Count         \u001b[0m│\u001b[0m\n",
       "│\u001b[0m 22      \u001b[0m│\u001b[0m Float64                         \u001b[0m│\u001b[0m Continuous    \u001b[0m│\u001b[0m\n",
       "│\u001b[0m 23      \u001b[0m│\u001b[0m Int64                           \u001b[0m│\u001b[0m Count         \u001b[0m│\u001b[0m\n",
       "│\u001b[0m 24      \u001b[0m│\u001b[0m Int64                           \u001b[0m│\u001b[0m Count         \u001b[0m│\u001b[0m\n",
       "│\u001b[0m 25      \u001b[0m│\u001b[0m Int64                           \u001b[0m│\u001b[0m Count         \u001b[0m│\u001b[0m\n",
       "│\u001b[0m 26      \u001b[0m│\u001b[0m Int64                           \u001b[0m│\u001b[0m Count         \u001b[0m│\u001b[0m\n",
       "│\u001b[0m 27      \u001b[0m│\u001b[0m Float64                         \u001b[0m│\u001b[0m Continuous    \u001b[0m│\u001b[0m\n",
       "│\u001b[0m 28      \u001b[0m│\u001b[0m Float64                         \u001b[0m│\u001b[0m Continuous    \u001b[0m│\u001b[0m\n",
       "│\u001b[0m 29      \u001b[0m│\u001b[0m Int64                           \u001b[0m│\u001b[0m Count         \u001b[0m│\u001b[0m\n",
       "│\u001b[0m 30      \u001b[0m│\u001b[0m Float64                         \u001b[0m│\u001b[0m Continuous    \u001b[0m│\u001b[0m\n",
       "│\u001b[0m 31      \u001b[0m│\u001b[0m Float64                         \u001b[0m│\u001b[0m Continuous    \u001b[0m│\u001b[0m\n",
       "│\u001b[0m 32      \u001b[0m│\u001b[0m Int64                           \u001b[0m│\u001b[0m Count         \u001b[0m│\u001b[0m\n",
       "│\u001b[0m 33      \u001b[0m│\u001b[0m Int64                           \u001b[0m│\u001b[0m Count         \u001b[0m│\u001b[0m\n",
       "│\u001b[0m 34      \u001b[0m│\u001b[0m Int64                           \u001b[0m│\u001b[0m Count         \u001b[0m│\u001b[0m\n",
       "│\u001b[0m 35      \u001b[0m│\u001b[0m Int64                           \u001b[0m│\u001b[0m Count         \u001b[0m│\u001b[0m\n",
       "│\u001b[0m 36      \u001b[0m│\u001b[0m Float64                         \u001b[0m│\u001b[0m Continuous    \u001b[0m│\u001b[0m\n",
       "│\u001b[0m 37      \u001b[0m│\u001b[0m Float64                         \u001b[0m│\u001b[0m Continuous    \u001b[0m│\u001b[0m\n",
       "│\u001b[0m 38      \u001b[0m│\u001b[0m Int64                           \u001b[0m│\u001b[0m Count         \u001b[0m│\u001b[0m\n",
       "│\u001b[0m 39      \u001b[0m│\u001b[0m Float64                         \u001b[0m│\u001b[0m Continuous    \u001b[0m│\u001b[0m\n",
       "│\u001b[0m 40      \u001b[0m│\u001b[0m Int64                           \u001b[0m│\u001b[0m Count         \u001b[0m│\u001b[0m\n",
       "│\u001b[0m 41      \u001b[0m│\u001b[0m Int64                           \u001b[0m│\u001b[0m Count         \u001b[0m│\u001b[0m\n",
       "│\u001b[0m Class   \u001b[0m│\u001b[0m CategoricalValue{String,UInt32} \u001b[0m│\u001b[0m Multiclass{2} \u001b[0m│\u001b[0m\n",
       "└\u001b[0m─────────\u001b[0m┴\u001b[0m─────────────────────────────────\u001b[0m┴\u001b[0m───────────────\u001b[0m┘\u001b[0m\n",
       "_.nrows = 1055\n"
      ]
     },
     "execution_count": 6,
     "metadata": {},
     "output_type": "execute_result"
    }
   ],
   "source": [
    "coerce!(data, :Class=>Multiclass)\n",
    "schema(data)"
   ]
  },
  {
   "cell_type": "code",
   "execution_count": 7,
   "metadata": {
    "scrolled": true
   },
   "outputs": [
    {
     "data": {
      "text/plain": [
       "(CategoricalValue{String,UInt32}[\"RB\", \"RB\", \"RB\", \"RB\", \"RB\", \"RB\", \"RB\", \"RB\", \"RB\", \"RB\"  …  \"NRB\", \"NRB\", \"NRB\", \"NRB\", \"NRB\", \"NRB\", \"NRB\", \"NRB\", \"NRB\", \"NRB\"], 1055×41 DataFrame. Omitted printing of 33 columns\n",
       "│ Row  │ 1       │ 2       │ 3     │ 4     │ 5     │ 6     │ 7     │ 8       │\n",
       "│      │ \u001b[90mFloat64\u001b[39m │ \u001b[90mFloat64\u001b[39m │ \u001b[90mInt64\u001b[39m │ \u001b[90mInt64\u001b[39m │ \u001b[90mInt64\u001b[39m │ \u001b[90mInt64\u001b[39m │ \u001b[90mInt64\u001b[39m │ \u001b[90mFloat64\u001b[39m │\n",
       "├──────┼─────────┼─────────┼───────┼───────┼───────┼───────┼───────┼─────────┤\n",
       "│ 1    │ 3.919   │ 2.6909  │ 0     │ 0     │ 0     │ 0     │ 0     │ 31.4    │\n",
       "│ 2    │ 4.17    │ 2.1144  │ 0     │ 0     │ 0     │ 0     │ 0     │ 30.8    │\n",
       "│ 3    │ 3.932   │ 3.2512  │ 0     │ 0     │ 0     │ 0     │ 0     │ 26.7    │\n",
       "│ 4    │ 3.0     │ 2.7098  │ 0     │ 0     │ 0     │ 0     │ 0     │ 20.0    │\n",
       "│ 5    │ 4.236   │ 3.3944  │ 0     │ 0     │ 0     │ 0     │ 0     │ 29.4    │\n",
       "│ 6    │ 4.236   │ 3.4286  │ 0     │ 0     │ 0     │ 0     │ 0     │ 28.6    │\n",
       "│ 7    │ 5.0     │ 5.0476  │ 1     │ 0     │ 0     │ 0     │ 0     │ 11.1    │\n",
       "│ 8    │ 4.525   │ 3.8301  │ 0     │ 0     │ 0     │ 0     │ 0     │ 31.6    │\n",
       "│ 9    │ 4.596   │ 3.0777  │ 0     │ 0     │ 0     │ 0     │ 2     │ 44.4    │\n",
       "│ 10   │ 5.04    │ 3.6112  │ 0     │ 0     │ 1     │ 0     │ 2     │ 41.2    │\n",
       "⋮\n",
       "│ 1045 │ 4.807   │ 3.3179  │ 1     │ 0     │ 0     │ 0     │ 3     │ 43.8    │\n",
       "│ 1046 │ 4.607   │ 3.0008  │ 1     │ 0     │ 0     │ 0     │ 2     │ 41.2    │\n",
       "│ 1047 │ 5.313   │ 2.7782  │ 0     │ 0     │ 0     │ 1     │ 2     │ 40.0    │\n",
       "│ 1048 │ 5.103   │ 3.9184  │ 0     │ 0     │ 4     │ 0     │ 4     │ 35.0    │\n",
       "│ 1049 │ 5.265   │ 3.3444  │ 2     │ 0     │ 6     │ 0     │ 1     │ 35.3    │\n",
       "│ 1050 │ 5.029   │ 2.5966  │ 0     │ 0     │ 0     │ 0     │ 4     │ 46.7    │\n",
       "│ 1051 │ 5.431   │ 2.8955  │ 0     │ 0     │ 0     │ 2     │ 0     │ 32.1    │\n",
       "│ 1052 │ 5.287   │ 3.3732  │ 0     │ 0     │ 9     │ 0     │ 0     │ 35.3    │\n",
       "│ 1053 │ 4.869   │ 1.767   │ 0     │ 1     │ 9     │ 0     │ 5     │ 44.4    │\n",
       "│ 1054 │ 5.158   │ 1.6914  │ 2     │ 0     │ 36    │ 0     │ 9     │ 56.1    │\n",
       "│ 1055 │ 5.076   │ 2.6588  │ 2     │ 0     │ 0     │ 0     │ 4     │ 54.5    │)"
      ]
     },
     "execution_count": 7,
     "metadata": {},
     "output_type": "execute_result"
    }
   ],
   "source": [
    "y, X = unpack(data, ==(:Class), colname->true)"
   ]
  },
  {
   "cell_type": "markdown",
   "metadata": {},
   "source": [
    "Partition train and test data accoring to class labels"
   ]
  },
  {
   "cell_type": "code",
   "execution_count": 8,
   "metadata": {},
   "outputs": [
    {
     "data": {
      "text/plain": [
       "([465, 562, 278, 619, 161, 972, 782, 321, 537, 760  …  12, 913, 471, 13, 1006, 802, 112, 840, 744, 261], [196, 586, 245, 77, 1028, 432, 215, 987, 137, 411  …  975, 610, 886, 848, 731, 1024, 805, 500, 659, 415])"
      ]
     },
     "execution_count": 8,
     "metadata": {},
     "output_type": "execute_result"
    }
   ],
   "source": [
    "# data to use when trying to fit a single validation set\n",
    "train, test = partition(eachindex(y), 0.7, shuffle=true, rng=123, stratify=values(data[:Class])) # gives 70:30 split"
   ]
  },
  {
   "cell_type": "code",
   "execution_count": 9,
   "metadata": {},
   "outputs": [
    {
     "data": {
      "text/plain": [
       "2-element Array{Float64,1}:\n",
       " 0.33739837398373984\n",
       " 0.6626016260162602"
      ]
     },
     "execution_count": 9,
     "metadata": {},
     "output_type": "execute_result"
    }
   ],
   "source": [
    "train_counts = countmap(data[train,:Class])\n",
    "collect(train_counts[i] / size(train)[1] for i in keys(train_counts))"
   ]
  },
  {
   "cell_type": "code",
   "execution_count": 10,
   "metadata": {},
   "outputs": [
    {
     "data": {
      "text/plain": [
       "2-element Array{Float64,1}:\n",
       " 0.33753943217665616\n",
       " 0.6624605678233438"
      ]
     },
     "execution_count": 10,
     "metadata": {},
     "output_type": "execute_result"
    }
   ],
   "source": [
    "test_counts = countmap(data[test,:Class])\n",
    "collect(test_counts[i] / size(test)[1] for i in keys(test_counts))"
   ]
  },
  {
   "cell_type": "code",
   "execution_count": 11,
   "metadata": {},
   "outputs": [
    {
     "name": "stderr",
     "output_type": "stream",
     "text": [
      "┌ Info: Training \u001b[34mMachine{Standardizer} @657\u001b[39m.\n",
      "└ @ MLJBase /home/andrew/.julia/packages/MLJBase/uKzAz/src/machines.jl:319\n"
     ]
    }
   ],
   "source": [
    "standardizer = Standardizer()\n",
    "stand = machine(standardizer, X_stand[train,:]) #only want to standardize on training distribution\n",
    "fit!(stand)\n",
    "X_stand = MLJ.transform(stand, X);"
   ]
  },
  {
   "cell_type": "markdown",
   "metadata": {},
   "source": [
    "# Five Learning Algorithms\n",
    "\n",
    "* Decision trees with some form of pruning\n",
    "* Neural networks\n",
    "* Boosting\n",
    "* Support Vector Machines\n",
    "* k-nearest neighbors\n",
    "\n",
    "\n",
    "##### Testing\n",
    "* Implement the algorithms\n",
    "* Design two *interesting* classification problems. For the purposes of this assignment, a classification problem is just a set of training examples and a set of test examples."
   ]
  },
  {
   "cell_type": "code",
   "execution_count": 23,
   "metadata": {
    "scrolled": true
   },
   "outputs": [
    {
     "data": {
      "text/plain": [
       "6-element Array{NamedTuple{(:name, :package_name, :is_supervised, :docstring, :hyperparameter_ranges, :hyperparameter_types, :hyperparameters, :implemented_methods, :is_pure_julia, :is_wrapper, :load_path, :package_license, :package_url, :package_uuid, :prediction_type, :supports_online, :supports_weights, :input_scitype, :target_scitype, :output_scitype),T} where T<:Tuple,1}:\n",
       " (name = AdaBoostStumpClassifier, package_name = DecisionTree, ... )\n",
       " (name = ConstantClassifier, package_name = MLJModels, ... )\n",
       " (name = DecisionTreeClassifier, package_name = DecisionTree, ... )\n",
       " (name = DeterministicConstantClassifier, package_name = MLJModels, ... )\n",
       " (name = RandomForestClassifier, package_name = DecisionTree, ... )\n",
       " (name = RandomForestClassifier, package_name = ScikitLearn, ... )"
      ]
     },
     "execution_count": 23,
     "metadata": {},
     "output_type": "execute_result"
    }
   ],
   "source": [
    "models(matching(X,y))"
   ]
  },
  {
   "cell_type": "code",
   "execution_count": 13,
   "metadata": {},
   "outputs": [
    {
     "name": "stdout",
     "output_type": "stream",
     "text": [
      "import MLJScikitLearnInterface "
     ]
    },
    {
     "name": "stderr",
     "output_type": "stream",
     "text": [
      "┌ Info: Loading into module \"Main\": \n",
      "└ @ MLJModels /home/andrew/.julia/packages/MLJModels/mUBFt/src/loading.jl:70\n"
     ]
    },
    {
     "name": "stdout",
     "output_type": "stream",
     "text": [
      "✔\n",
      "import MLJScikitLearnInterface ✔\n"
     ]
    },
    {
     "data": {
      "text/plain": [
       "AdaBoostClassifier(\n",
       "    base_estimator = nothing,\n",
       "    n_estimators = 50,\n",
       "    learning_rate = 1.0,\n",
       "    algorithm = \"SAMME.R\",\n",
       "    random_state = nothing)\u001b[34m @124\u001b[39m"
      ]
     },
     "execution_count": 13,
     "metadata": {},
     "output_type": "execute_result"
    }
   ],
   "source": [
    "@load AdaBoostClassifier verbosity=2"
   ]
  },
  {
   "cell_type": "markdown",
   "metadata": {},
   "source": [
    "### Boosting\n",
    "* Implement or steal a boosted version of your decision trees. \n",
    "* As before, you will want to use some form of pruning, but presumably because you're using boosting you can afford to be much more aggressive about your pruning.\n",
    "\n",
    "**Chooses the hardest examples** talk about in write-up"
   ]
  },
  {
   "cell_type": "code",
   "execution_count": 44,
   "metadata": {},
   "outputs": [
    {
     "ename": "LoadError",
     "evalue": "MethodError: no method matching MLJScikitLearnInterface.AdaBoostClassifier(; verbosity=1)\nClosest candidates are:\n  MLJScikitLearnInterface.AdaBoostClassifier(; base_estimator, n_estimators, learning_rate, algorithm, random_state) at none:0 got unsupported keyword argument \"verbosity\"",
     "output_type": "error",
     "traceback": [
      "MethodError: no method matching MLJScikitLearnInterface.AdaBoostClassifier(; verbosity=1)\nClosest candidates are:\n  MLJScikitLearnInterface.AdaBoostClassifier(; base_estimator, n_estimators, learning_rate, algorithm, random_state) at none:0 got unsupported keyword argument \"verbosity\"",
      "",
      "Stacktrace:",
      " [1] kwerr(::NamedTuple{(:verbosity,),Tuple{Int64}}, ::Type{T} where T) at ./error.jl:157",
      " [2] top-level scope at In[44]:1",
      " [3] include_string(::Function, ::Module, ::String, ::String) at ./loading.jl:1091"
     ]
    }
   ],
   "source": [
    "boost_model = AdaBoostClassifier(verbosity=1)"
   ]
  },
  {
   "cell_type": "code",
   "execution_count": 45,
   "metadata": {},
   "outputs": [
    {
     "name": "stderr",
     "output_type": "stream",
     "text": [
      "┌ Warning: The scitype of `X`, in `machine(model, X, ...)` is incompatible with `model=\u001b[34mAdaBoostClassifier @872\u001b[39m`:\n",
      "│ scitype(X) = Table{Union{AbstractArray{Continuous,1}, AbstractArray{Count,1}}}\n",
      "│ input_scitype(model) = Table{var\"#s44\"} where var\"#s44\"<:(AbstractArray{var\"#s13\",1} where var\"#s13\"<:Continuous).\n",
      "└ @ MLJBase /home/andrew/.julia/packages/MLJBase/uKzAz/src/machines.jl:77\n"
     ]
    },
    {
     "data": {
      "text/plain": [
       "\u001b[34mMachine{AdaBoostClassifier} @626\u001b[39m trained 0 times.\n",
       "  args: \n",
       "    1:\t\u001b[34mSource @819\u001b[39m ⏎ `Table{Union{AbstractArray{Continuous,1}, AbstractArray{Count,1}}}`\n",
       "    2:\t\u001b[34mSource @009\u001b[39m ⏎ `AbstractArray{Multiclass{2},1}`\n"
      ]
     },
     "execution_count": 45,
     "metadata": {},
     "output_type": "execute_result"
    }
   ],
   "source": [
    "boost_mach = machine(boost_model, X_stand, y)"
   ]
  },
  {
   "cell_type": "code",
   "execution_count": 46,
   "metadata": {},
   "outputs": [
    {
     "name": "stderr",
     "output_type": "stream",
     "text": [
      "┌ Info: Training \u001b[34mMachine{AdaBoostClassifier} @626\u001b[39m.\n",
      "└ @ MLJBase /home/andrew/.julia/packages/MLJBase/uKzAz/src/machines.jl:319\n"
     ]
    },
    {
     "data": {
      "text/plain": [
       "\u001b[34mMachine{AdaBoostClassifier} @626\u001b[39m trained 1 time.\n",
       "  args: \n",
       "    1:\t\u001b[34mSource @819\u001b[39m ⏎ `Table{Union{AbstractArray{Continuous,1}, AbstractArray{Count,1}}}`\n",
       "    2:\t\u001b[34mSource @009\u001b[39m ⏎ `AbstractArray{Multiclass{2},1}`\n"
      ]
     },
     "execution_count": 46,
     "metadata": {},
     "output_type": "execute_result"
    }
   ],
   "source": [
    "fit!(boost_mach, rows=train, verbosity=2)"
   ]
  },
  {
   "cell_type": "code",
   "execution_count": 47,
   "metadata": {
    "scrolled": true
   },
   "outputs": [
    {
     "name": "stderr",
     "output_type": "stream",
     "text": [
      "\u001b[33mEvaluating over 6 folds: 100%[=========================] Time: 0:00:00\u001b[39m\n"
     ]
    },
    {
     "data": {
      "text/plain": [
       "┌\u001b[0m───────────────\u001b[0m┬\u001b[0m───────────────\u001b[0m┬\u001b[0m───────────────────────────────────────────\u001b[0m┐\u001b[0m\n",
       "│\u001b[0m\u001b[22m _.measure     \u001b[0m│\u001b[0m\u001b[22m _.measurement \u001b[0m│\u001b[0m\u001b[22m _.per_fold                                \u001b[0m│\u001b[0m\n",
       "├\u001b[0m───────────────\u001b[0m┼\u001b[0m───────────────\u001b[0m┼\u001b[0m───────────────────────────────────────────\u001b[0m┤\u001b[0m\n",
       "│\u001b[0m cross_entropy \u001b[0m│\u001b[0m 0.633         \u001b[0m│\u001b[0m [0.629, 0.63, 0.641, 0.638, 0.621, 0.642] \u001b[0m│\u001b[0m\n",
       "│\u001b[0m acc           \u001b[0m│\u001b[0m 0.846         \u001b[0m│\u001b[0m [0.852, 0.875, 0.83, 0.824, 0.835, 0.863] \u001b[0m│\u001b[0m\n",
       "└\u001b[0m───────────────\u001b[0m┴\u001b[0m───────────────\u001b[0m┴\u001b[0m───────────────────────────────────────────\u001b[0m┘\u001b[0m\n",
       "_.per_observation = [[[0.675, 0.614, ..., 0.686], [0.723, 0.613, ..., 0.652], [0.584, 0.61, ..., 0.643], [0.648, 0.663, ..., 0.271], [0.708, 0.508, ..., 0.7], [0.68, 0.653, ..., 0.639]], missing]\n",
       "_.fitted_params_per_fold = [ … ]\n",
       "_.report_per_fold = [ … ]\n"
      ]
     },
     "execution_count": 47,
     "metadata": {},
     "output_type": "execute_result"
    }
   ],
   "source": [
    "boost_acc = evaluate!(boost_mach, resampling=CV(shuffle=true), measure=[cross_entropy, acc], \n",
    "                      verbosity=1, check_measure=false)"
   ]
  },
  {
   "cell_type": "code",
   "execution_count": 48,
   "metadata": {},
   "outputs": [],
   "source": [
    "# evaluate!(boost_mach, resampling=CV(shuffle=true), measure=[tnr,tpr,fnr,fpr], verbosity=1, operation=predict_mode)"
   ]
  },
  {
   "cell_type": "code",
   "execution_count": 49,
   "metadata": {},
   "outputs": [],
   "source": [
    "fitted_params(boost_mach);"
   ]
  },
  {
   "cell_type": "markdown",
   "metadata": {},
   "source": [
    "### GridSearch \n",
    "number of estimators vs learning rate"
   ]
  },
  {
   "cell_type": "code",
   "execution_count": 50,
   "metadata": {},
   "outputs": [
    {
     "data": {
      "text/plain": [
       "MLJBase.NumericRange(Int64, :n_estimators, ... )"
      ]
     },
     "execution_count": 50,
     "metadata": {},
     "output_type": "execute_result"
    }
   ],
   "source": [
    "param1 = :learning_rate\n",
    "param2 = :n_estimators\n",
    "\n",
    "r1 = range(boost_model, param1, lower=0.001, upper=10, scale=:log10)\n",
    "r2 = range(boost_model, param2, lower=1, upper=1000, scale=:log10)"
   ]
  },
  {
   "cell_type": "code",
   "execution_count": 51,
   "metadata": {},
   "outputs": [
    {
     "data": {
      "text/plain": [
       "ProbabilisticTunedModel(\n",
       "    model = AdaBoostClassifier(\n",
       "            base_estimator = nothing,\n",
       "            n_estimators = 50,\n",
       "            learning_rate = 1.0,\n",
       "            algorithm = \"SAMME.R\",\n",
       "            random_state = nothing),\n",
       "    tuning = Grid(\n",
       "            goal = nothing,\n",
       "            resolution = 10,\n",
       "            shuffle = true,\n",
       "            rng = Random._GLOBAL_RNG()),\n",
       "    resampling = CV(\n",
       "            nfolds = 6,\n",
       "            shuffle = false,\n",
       "            rng = Random._GLOBAL_RNG()),\n",
       "    measure = cross_entropy(\n",
       "            eps = 2.220446049250313e-16),\n",
       "    weights = nothing,\n",
       "    operation = MLJModelInterface.predict,\n",
       "    range = MLJBase.NumericRange{T,MLJBase.Bounded,Symbol} where T[\u001b[34mNumericRange{Float64,…} @615\u001b[39m, \u001b[34mNumericRange{Int64,…} @099\u001b[39m],\n",
       "    train_best = true,\n",
       "    repeats = 1,\n",
       "    n = nothing,\n",
       "    acceleration = CPUThreads{Int64}(1),\n",
       "    acceleration_resampling = CPU1{Nothing}(nothing),\n",
       "    check_measure = true)\u001b[34m @196\u001b[39m"
      ]
     },
     "execution_count": 51,
     "metadata": {},
     "output_type": "execute_result"
    }
   ],
   "source": [
    "self_tuning_boost_model = TunedModel(model=boost_model,\n",
    "                                    tuning=Grid(),\n",
    "                                    resampling=CV(), \n",
    "                                    measure=cross_entropy,\n",
    "                                    acceleration=CPUThreads(),\n",
    "                                    range=[r1, r2])"
   ]
  },
  {
   "cell_type": "code",
   "execution_count": 52,
   "metadata": {},
   "outputs": [
    {
     "name": "stderr",
     "output_type": "stream",
     "text": [
      "┌ Warning: The scitype of `X`, in `machine(model, X, ...)` is incompatible with `model=\u001b[34mProbabilisticTunedModel{Grid,…} @196\u001b[39m`:\n",
      "│ scitype(X) = Table{Union{AbstractArray{Continuous,1}, AbstractArray{Count,1}}}\n",
      "│ input_scitype(model) = Table{var\"#s44\"} where var\"#s44\"<:(AbstractArray{var\"#s13\",1} where var\"#s13\"<:Continuous).\n",
      "└ @ MLJBase /home/andrew/.julia/packages/MLJBase/uKzAz/src/machines.jl:77\n"
     ]
    },
    {
     "data": {
      "text/plain": [
       "\u001b[34mMachine{ProbabilisticTunedModel{Grid,…}} @275\u001b[39m trained 0 times.\n",
       "  args: \n",
       "    1:\t\u001b[34mSource @398\u001b[39m ⏎ `Table{Union{AbstractArray{Continuous,1}, AbstractArray{Count,1}}}`\n",
       "    2:\t\u001b[34mSource @859\u001b[39m ⏎ `AbstractArray{Multiclass{2},1}`\n"
      ]
     },
     "execution_count": 52,
     "metadata": {},
     "output_type": "execute_result"
    }
   ],
   "source": [
    "self_tuning_boost = machine(self_tuning_boost_model, X_stand, y)"
   ]
  },
  {
   "cell_type": "code",
   "execution_count": 53,
   "metadata": {
    "scrolled": true
   },
   "outputs": [
    {
     "name": "stderr",
     "output_type": "stream",
     "text": [
      "┌ Info: Training \u001b[34mMachine{ProbabilisticTunedModel{Grid,…}} @275\u001b[39m.\n",
      "└ @ MLJBase /home/andrew/.julia/packages/MLJBase/uKzAz/src/machines.jl:319\n",
      "┌ Info: Attempting to evaluate 100 models.\n",
      "└ @ MLJTuning /home/andrew/.julia/packages/MLJTuning/Bbgvk/src/tuned_models.jl:494\n",
      "┌ Warning: The scitype of `X`, in `machine(model, X, ...)` is incompatible with `model=\u001b[34mResampler{CV,…} @375\u001b[39m`:\n",
      "│ scitype(X) = Table{Union{AbstractArray{Continuous,1}, AbstractArray{Count,1}}}\n",
      "│ input_scitype(model) = Table{var\"#s44\"} where var\"#s44\"<:(AbstractArray{var\"#s13\",1} where var\"#s13\"<:Continuous).\n",
      "└ @ MLJBase /home/andrew/.julia/packages/MLJBase/uKzAz/src/machines.jl:77\n",
      "\u001b[33mEvaluating over 100 metamodels:   0%[>                        ]  ETA: N/A\u001b[39m┌ Warning: The scitype of `X`, in `machine(model, X, ...)` is incompatible with `model=\u001b[34mAdaBoostClassifier @827\u001b[39m`:\n",
      "│ scitype(X) = Table{Union{AbstractArray{Continuous,1}, AbstractArray{Count,1}}}\n",
      "│ input_scitype(model) = Table{var\"#s44\"} where var\"#s44\"<:(AbstractArray{var\"#s13\",1} where var\"#s13\"<:Continuous).\n",
      "└ @ MLJBase /home/andrew/.julia/packages/MLJBase/uKzAz/src/machines.jl:77\n",
      "\u001b[33mEvaluating over 100 metamodels:   1%[>                        ]  ETA: 0:00:15\u001b[39m┌ Warning: The scitype of `X`, in `machine(model, X, ...)` is incompatible with `model=\u001b[34mAdaBoostClassifier @354\u001b[39m`:\n",
      "│ scitype(X) = Table{Union{AbstractArray{Continuous,1}, AbstractArray{Count,1}}}\n",
      "│ input_scitype(model) = Table{var\"#s44\"} where var\"#s44\"<:(AbstractArray{var\"#s13\",1} where var\"#s13\"<:Continuous).\n",
      "└ @ MLJBase /home/andrew/.julia/packages/MLJBase/uKzAz/src/machines.jl:77\n",
      "\u001b[33mEvaluating over 100 metamodels:   2%[>                        ]  ETA: 0:00:08\u001b[39m┌ Warning: The scitype of `X`, in `machine(model, X, ...)` is incompatible with `model=\u001b[34mAdaBoostClassifier @829\u001b[39m`:\n",
      "│ scitype(X) = Table{Union{AbstractArray{Continuous,1}, AbstractArray{Count,1}}}\n",
      "│ input_scitype(model) = Table{var\"#s44\"} where var\"#s44\"<:(AbstractArray{var\"#s13\",1} where var\"#s13\"<:Continuous).\n",
      "└ @ MLJBase /home/andrew/.julia/packages/MLJBase/uKzAz/src/machines.jl:77\n",
      "\u001b[33mEvaluating over 100 metamodels:   3%[>                        ]  ETA: 0:00:15\u001b[39m┌ Warning: The scitype of `X`, in `machine(model, X, ...)` is incompatible with `model=\u001b[34mAdaBoostClassifier @974\u001b[39m`:\n",
      "│ scitype(X) = Table{Union{AbstractArray{Continuous,1}, AbstractArray{Count,1}}}\n",
      "│ input_scitype(model) = Table{var\"#s44\"} where var\"#s44\"<:(AbstractArray{var\"#s13\",1} where var\"#s13\"<:Continuous).\n",
      "└ @ MLJBase /home/andrew/.julia/packages/MLJBase/uKzAz/src/machines.jl:77\n",
      "\u001b[33mEvaluating over 100 metamodels:   4%[=>                       ]  ETA: 0:00:11\u001b[39m┌ Warning: The scitype of `X`, in `machine(model, X, ...)` is incompatible with `model=\u001b[34mAdaBoostClassifier @187\u001b[39m`:\n",
      "│ scitype(X) = Table{Union{AbstractArray{Continuous,1}, AbstractArray{Count,1}}}\n",
      "│ input_scitype(model) = Table{var\"#s44\"} where var\"#s44\"<:(AbstractArray{var\"#s13\",1} where var\"#s13\"<:Continuous).\n",
      "└ @ MLJBase /home/andrew/.julia/packages/MLJBase/uKzAz/src/machines.jl:77\n",
      "\u001b[33mEvaluating over 100 metamodels:   5%[=>                       ]  ETA: 0:00:25\u001b[39m┌ Warning: The scitype of `X`, in `machine(model, X, ...)` is incompatible with `model=\u001b[34mAdaBoostClassifier @024\u001b[39m`:\n",
      "│ scitype(X) = Table{Union{AbstractArray{Continuous,1}, AbstractArray{Count,1}}}\n",
      "│ input_scitype(model) = Table{var\"#s44\"} where var\"#s44\"<:(AbstractArray{var\"#s13\",1} where var\"#s13\"<:Continuous).\n",
      "└ @ MLJBase /home/andrew/.julia/packages/MLJBase/uKzAz/src/machines.jl:77\n",
      "\u001b[33mEvaluating over 100 metamodels:   6%[=>                       ]  ETA: 0:00:21\u001b[39m┌ Warning: The scitype of `X`, in `machine(model, X, ...)` is incompatible with `model=\u001b[34mAdaBoostClassifier @188\u001b[39m`:\n",
      "│ scitype(X) = Table{Union{AbstractArray{Continuous,1}, AbstractArray{Count,1}}}\n",
      "│ input_scitype(model) = Table{var\"#s44\"} where var\"#s44\"<:(AbstractArray{var\"#s13\",1} where var\"#s13\"<:Continuous).\n",
      "└ @ MLJBase /home/andrew/.julia/packages/MLJBase/uKzAz/src/machines.jl:77\n",
      "\u001b[33mEvaluating over 100 metamodels:   7%[=>                       ]  ETA: 0:00:18\u001b[39m┌ Warning: The scitype of `X`, in `machine(model, X, ...)` is incompatible with `model=\u001b[34mAdaBoostClassifier @491\u001b[39m`:\n",
      "│ scitype(X) = Table{Union{AbstractArray{Continuous,1}, AbstractArray{Count,1}}}\n",
      "│ input_scitype(model) = Table{var\"#s44\"} where var\"#s44\"<:(AbstractArray{var\"#s13\",1} where var\"#s13\"<:Continuous).\n",
      "└ @ MLJBase /home/andrew/.julia/packages/MLJBase/uKzAz/src/machines.jl:77\n",
      "\u001b[33mEvaluating over 100 metamodels:   8%[==>                      ]  ETA: 0:01:22\u001b[39m┌ Warning: The scitype of `X`, in `machine(model, X, ...)` is incompatible with `model=\u001b[34mAdaBoostClassifier @338\u001b[39m`:\n",
      "│ scitype(X) = Table{Union{AbstractArray{Continuous,1}, AbstractArray{Count,1}}}\n",
      "│ input_scitype(model) = Table{var\"#s44\"} where var\"#s44\"<:(AbstractArray{var\"#s13\",1} where var\"#s13\"<:Continuous).\n",
      "└ @ MLJBase /home/andrew/.julia/packages/MLJBase/uKzAz/src/machines.jl:77\n",
      "\u001b[33mEvaluating over 100 metamodels:   9%[==>                      ]  ETA: 0:02:38\u001b[39m┌ Warning: The scitype of `X`, in `machine(model, X, ...)` is incompatible with `model=\u001b[34mAdaBoostClassifier @224\u001b[39m`:\n",
      "│ scitype(X) = Table{Union{AbstractArray{Continuous,1}, AbstractArray{Count,1}}}\n",
      "│ input_scitype(model) = Table{var\"#s44\"} where var\"#s44\"<:(AbstractArray{var\"#s13\",1} where var\"#s13\"<:Continuous).\n",
      "└ @ MLJBase /home/andrew/.julia/packages/MLJBase/uKzAz/src/machines.jl:77\n",
      "\u001b[33mEvaluating over 100 metamodels:  10%[==>                      ]  ETA: 0:02:21\u001b[39m┌ Warning: The scitype of `X`, in `machine(model, X, ...)` is incompatible with `model=\u001b[34mAdaBoostClassifier @302\u001b[39m`:\n",
      "│ scitype(X) = Table{Union{AbstractArray{Continuous,1}, AbstractArray{Count,1}}}\n",
      "│ input_scitype(model) = Table{var\"#s44\"} where var\"#s44\"<:(AbstractArray{var\"#s13\",1} where var\"#s13\"<:Continuous).\n",
      "└ @ MLJBase /home/andrew/.julia/packages/MLJBase/uKzAz/src/machines.jl:77\n",
      "\u001b[33mEvaluating over 100 metamodels:  11%[==>                      ]  ETA: 0:02:12\u001b[39m┌ Warning: The scitype of `X`, in `machine(model, X, ...)` is incompatible with `model=\u001b[34mAdaBoostClassifier @791\u001b[39m`:\n",
      "│ scitype(X) = Table{Union{AbstractArray{Continuous,1}, AbstractArray{Count,1}}}\n",
      "│ input_scitype(model) = Table{var\"#s44\"} where var\"#s44\"<:(AbstractArray{var\"#s13\",1} where var\"#s13\"<:Continuous).\n",
      "└ @ MLJBase /home/andrew/.julia/packages/MLJBase/uKzAz/src/machines.jl:77\n",
      "\u001b[33mEvaluating over 100 metamodels:  12%[===>                     ]  ETA: 0:02:00\u001b[39m┌ Warning: The scitype of `X`, in `machine(model, X, ...)` is incompatible with `model=\u001b[34mAdaBoostClassifier @856\u001b[39m`:\n",
      "│ scitype(X) = Table{Union{AbstractArray{Continuous,1}, AbstractArray{Count,1}}}\n",
      "│ input_scitype(model) = Table{var\"#s44\"} where var\"#s44\"<:(AbstractArray{var\"#s13\",1} where var\"#s13\"<:Continuous).\n",
      "└ @ MLJBase /home/andrew/.julia/packages/MLJBase/uKzAz/src/machines.jl:77\n",
      "\u001b[33mEvaluating over 100 metamodels:  13%[===>                     ]  ETA: 0:01:49\u001b[39m┌ Warning: The scitype of `X`, in `machine(model, X, ...)` is incompatible with `model=\u001b[34mAdaBoostClassifier @876\u001b[39m`:\n",
      "│ scitype(X) = Table{Union{AbstractArray{Continuous,1}, AbstractArray{Count,1}}}\n",
      "│ input_scitype(model) = Table{var\"#s44\"} where var\"#s44\"<:(AbstractArray{var\"#s13\",1} where var\"#s13\"<:Continuous).\n",
      "└ @ MLJBase /home/andrew/.julia/packages/MLJBase/uKzAz/src/machines.jl:77\n",
      "\u001b[33mEvaluating over 100 metamodels:  14%[===>                     ]  ETA: 0:01:42\u001b[39m┌ Warning: The scitype of `X`, in `machine(model, X, ...)` is incompatible with `model=\u001b[34mAdaBoostClassifier @766\u001b[39m`:\n",
      "│ scitype(X) = Table{Union{AbstractArray{Continuous,1}, AbstractArray{Count,1}}}\n",
      "│ input_scitype(model) = Table{var\"#s44\"} where var\"#s44\"<:(AbstractArray{var\"#s13\",1} where var\"#s13\"<:Continuous).\n",
      "└ @ MLJBase /home/andrew/.julia/packages/MLJBase/uKzAz/src/machines.jl:77\n",
      "\u001b[33mEvaluating over 100 metamodels:  15%[===>                     ]  ETA: 0:01:42\u001b[39m┌ Warning: The scitype of `X`, in `machine(model, X, ...)` is incompatible with `model=\u001b[34mAdaBoostClassifier @103\u001b[39m`:\n",
      "│ scitype(X) = Table{Union{AbstractArray{Continuous,1}, AbstractArray{Count,1}}}\n",
      "│ input_scitype(model) = Table{var\"#s44\"} where var\"#s44\"<:(AbstractArray{var\"#s13\",1} where var\"#s13\"<:Continuous).\n",
      "└ @ MLJBase /home/andrew/.julia/packages/MLJBase/uKzAz/src/machines.jl:77\n"
     ]
    },
    {
     "name": "stderr",
     "output_type": "stream",
     "text": [
      "\u001b[33mEvaluating over 100 metamodels:  16%[====>                    ]  ETA: 0:01:37\u001b[39m┌ Warning: The scitype of `X`, in `machine(model, X, ...)` is incompatible with `model=\u001b[34mAdaBoostClassifier @587\u001b[39m`:\n",
      "│ scitype(X) = Table{Union{AbstractArray{Continuous,1}, AbstractArray{Count,1}}}\n",
      "│ input_scitype(model) = Table{var\"#s44\"} where var\"#s44\"<:(AbstractArray{var\"#s13\",1} where var\"#s13\"<:Continuous).\n",
      "└ @ MLJBase /home/andrew/.julia/packages/MLJBase/uKzAz/src/machines.jl:77\n",
      "\u001b[33mEvaluating over 100 metamodels:  17%[====>                    ]  ETA: 0:01:31\u001b[39m┌ Warning: The scitype of `X`, in `machine(model, X, ...)` is incompatible with `model=\u001b[34mAdaBoostClassifier @818\u001b[39m`:\n",
      "│ scitype(X) = Table{Union{AbstractArray{Continuous,1}, AbstractArray{Count,1}}}\n",
      "│ input_scitype(model) = Table{var\"#s44\"} where var\"#s44\"<:(AbstractArray{var\"#s13\",1} where var\"#s13\"<:Continuous).\n",
      "└ @ MLJBase /home/andrew/.julia/packages/MLJBase/uKzAz/src/machines.jl:77\n",
      "\u001b[33mEvaluating over 100 metamodels:  18%[====>                    ]  ETA: 0:01:25\u001b[39m┌ Warning: The scitype of `X`, in `machine(model, X, ...)` is incompatible with `model=\u001b[34mAdaBoostClassifier @720\u001b[39m`:\n",
      "│ scitype(X) = Table{Union{AbstractArray{Continuous,1}, AbstractArray{Count,1}}}\n",
      "│ input_scitype(model) = Table{var\"#s44\"} where var\"#s44\"<:(AbstractArray{var\"#s13\",1} where var\"#s13\"<:Continuous).\n",
      "└ @ MLJBase /home/andrew/.julia/packages/MLJBase/uKzAz/src/machines.jl:77\n",
      "\u001b[33mEvaluating over 100 metamodels:  19%[====>                    ]  ETA: 0:01:42\u001b[39m┌ Warning: The scitype of `X`, in `machine(model, X, ...)` is incompatible with `model=\u001b[34mAdaBoostClassifier @845\u001b[39m`:\n",
      "│ scitype(X) = Table{Union{AbstractArray{Continuous,1}, AbstractArray{Count,1}}}\n",
      "│ input_scitype(model) = Table{var\"#s44\"} where var\"#s44\"<:(AbstractArray{var\"#s13\",1} where var\"#s13\"<:Continuous).\n",
      "└ @ MLJBase /home/andrew/.julia/packages/MLJBase/uKzAz/src/machines.jl:77\n",
      "\u001b[33mEvaluating over 100 metamodels:  20%[=====>                   ]  ETA: 0:01:40\u001b[39m┌ Warning: The scitype of `X`, in `machine(model, X, ...)` is incompatible with `model=\u001b[34mAdaBoostClassifier @425\u001b[39m`:\n",
      "│ scitype(X) = Table{Union{AbstractArray{Continuous,1}, AbstractArray{Count,1}}}\n",
      "│ input_scitype(model) = Table{var\"#s44\"} where var\"#s44\"<:(AbstractArray{var\"#s13\",1} where var\"#s13\"<:Continuous).\n",
      "└ @ MLJBase /home/andrew/.julia/packages/MLJBase/uKzAz/src/machines.jl:77\n",
      "\u001b[33mEvaluating over 100 metamodels:  21%[=====>                   ]  ETA: 0:01:34\u001b[39m┌ Warning: The scitype of `X`, in `machine(model, X, ...)` is incompatible with `model=\u001b[34mAdaBoostClassifier @421\u001b[39m`:\n",
      "│ scitype(X) = Table{Union{AbstractArray{Continuous,1}, AbstractArray{Count,1}}}\n",
      "│ input_scitype(model) = Table{var\"#s44\"} where var\"#s44\"<:(AbstractArray{var\"#s13\",1} where var\"#s13\"<:Continuous).\n",
      "└ @ MLJBase /home/andrew/.julia/packages/MLJBase/uKzAz/src/machines.jl:77\n",
      "\u001b[33mEvaluating over 100 metamodels:  22%[=====>                   ]  ETA: 0:01:29\u001b[39m┌ Warning: The scitype of `X`, in `machine(model, X, ...)` is incompatible with `model=\u001b[34mAdaBoostClassifier @611\u001b[39m`:\n",
      "│ scitype(X) = Table{Union{AbstractArray{Continuous,1}, AbstractArray{Count,1}}}\n",
      "│ input_scitype(model) = Table{var\"#s44\"} where var\"#s44\"<:(AbstractArray{var\"#s13\",1} where var\"#s13\"<:Continuous).\n",
      "└ @ MLJBase /home/andrew/.julia/packages/MLJBase/uKzAz/src/machines.jl:77\n",
      "\u001b[33mEvaluating over 100 metamodels:  23%[=====>                   ]  ETA: 0:02:05\u001b[39m┌ Warning: The scitype of `X`, in `machine(model, X, ...)` is incompatible with `model=\u001b[34mAdaBoostClassifier @190\u001b[39m`:\n",
      "│ scitype(X) = Table{Union{AbstractArray{Continuous,1}, AbstractArray{Count,1}}}\n",
      "│ input_scitype(model) = Table{var\"#s44\"} where var\"#s44\"<:(AbstractArray{var\"#s13\",1} where var\"#s13\"<:Continuous).\n",
      "└ @ MLJBase /home/andrew/.julia/packages/MLJBase/uKzAz/src/machines.jl:77\n",
      "\u001b[33mEvaluating over 100 metamodels:  24%[======>                  ]  ETA: 0:01:58\u001b[39m┌ Warning: The scitype of `X`, in `machine(model, X, ...)` is incompatible with `model=\u001b[34mAdaBoostClassifier @788\u001b[39m`:\n",
      "│ scitype(X) = Table{Union{AbstractArray{Continuous,1}, AbstractArray{Count,1}}}\n",
      "│ input_scitype(model) = Table{var\"#s44\"} where var\"#s44\"<:(AbstractArray{var\"#s13\",1} where var\"#s13\"<:Continuous).\n",
      "└ @ MLJBase /home/andrew/.julia/packages/MLJBase/uKzAz/src/machines.jl:77\n",
      "\u001b[33mEvaluating over 100 metamodels:  25%[======>                  ]  ETA: 0:01:52\u001b[39m┌ Warning: The scitype of `X`, in `machine(model, X, ...)` is incompatible with `model=\u001b[34mAdaBoostClassifier @955\u001b[39m`:\n",
      "│ scitype(X) = Table{Union{AbstractArray{Continuous,1}, AbstractArray{Count,1}}}\n",
      "│ input_scitype(model) = Table{var\"#s44\"} where var\"#s44\"<:(AbstractArray{var\"#s13\",1} where var\"#s13\"<:Continuous).\n",
      "└ @ MLJBase /home/andrew/.julia/packages/MLJBase/uKzAz/src/machines.jl:77\n",
      "\u001b[33mEvaluating over 100 metamodels:  26%[======>                  ]  ETA: 0:01:47\u001b[39m┌ Warning: The scitype of `X`, in `machine(model, X, ...)` is incompatible with `model=\u001b[34mAdaBoostClassifier @676\u001b[39m`:\n",
      "│ scitype(X) = Table{Union{AbstractArray{Continuous,1}, AbstractArray{Count,1}}}\n",
      "│ input_scitype(model) = Table{var\"#s44\"} where var\"#s44\"<:(AbstractArray{var\"#s13\",1} where var\"#s13\"<:Continuous).\n",
      "└ @ MLJBase /home/andrew/.julia/packages/MLJBase/uKzAz/src/machines.jl:77\n",
      "\u001b[33mEvaluating over 100 metamodels:  27%[======>                  ]  ETA: 0:01:41\u001b[39m┌ Warning: The scitype of `X`, in `machine(model, X, ...)` is incompatible with `model=\u001b[34mAdaBoostClassifier @681\u001b[39m`:\n",
      "│ scitype(X) = Table{Union{AbstractArray{Continuous,1}, AbstractArray{Count,1}}}\n",
      "│ input_scitype(model) = Table{var\"#s44\"} where var\"#s44\"<:(AbstractArray{var\"#s13\",1} where var\"#s13\"<:Continuous).\n",
      "└ @ MLJBase /home/andrew/.julia/packages/MLJBase/uKzAz/src/machines.jl:77\n",
      "\u001b[33mEvaluating over 100 metamodels:  28%[=======>                 ]  ETA: 0:01:37\u001b[39m┌ Warning: The scitype of `X`, in `machine(model, X, ...)` is incompatible with `model=\u001b[34mAdaBoostClassifier @286\u001b[39m`:\n",
      "│ scitype(X) = Table{Union{AbstractArray{Continuous,1}, AbstractArray{Count,1}}}\n",
      "│ input_scitype(model) = Table{var\"#s44\"} where var\"#s44\"<:(AbstractArray{var\"#s13\",1} where var\"#s13\"<:Continuous).\n",
      "└ @ MLJBase /home/andrew/.julia/packages/MLJBase/uKzAz/src/machines.jl:77\n",
      "\u001b[33mEvaluating over 100 metamodels:  29%[=======>                 ]  ETA: 0:01:37\u001b[39m┌ Warning: The scitype of `X`, in `machine(model, X, ...)` is incompatible with `model=\u001b[34mAdaBoostClassifier @133\u001b[39m`:\n",
      "│ scitype(X) = Table{Union{AbstractArray{Continuous,1}, AbstractArray{Count,1}}}\n",
      "│ input_scitype(model) = Table{var\"#s44\"} where var\"#s44\"<:(AbstractArray{var\"#s13\",1} where var\"#s13\"<:Continuous).\n",
      "└ @ MLJBase /home/andrew/.julia/packages/MLJBase/uKzAz/src/machines.jl:77\n",
      "\u001b[33mEvaluating over 100 metamodels:  30%[=======>                 ]  ETA: 0:01:32\u001b[39m┌ Warning: The scitype of `X`, in `machine(model, X, ...)` is incompatible with `model=\u001b[34mAdaBoostClassifier @160\u001b[39m`:\n",
      "│ scitype(X) = Table{Union{AbstractArray{Continuous,1}, AbstractArray{Count,1}}}\n",
      "│ input_scitype(model) = Table{var\"#s44\"} where var\"#s44\"<:(AbstractArray{var\"#s13\",1} where var\"#s13\"<:Continuous).\n",
      "└ @ MLJBase /home/andrew/.julia/packages/MLJBase/uKzAz/src/machines.jl:77\n",
      "\u001b[33mEvaluating over 100 metamodels:  31%[=======>                 ]  ETA: 0:01:28\u001b[39m┌ Warning: The scitype of `X`, in `machine(model, X, ...)` is incompatible with `model=\u001b[34mAdaBoostClassifier @873\u001b[39m`:\n",
      "│ scitype(X) = Table{Union{AbstractArray{Continuous,1}, AbstractArray{Count,1}}}\n",
      "│ input_scitype(model) = Table{var\"#s44\"} where var\"#s44\"<:(AbstractArray{var\"#s13\",1} where var\"#s13\"<:Continuous).\n",
      "└ @ MLJBase /home/andrew/.julia/packages/MLJBase/uKzAz/src/machines.jl:77\n",
      "\u001b[33mEvaluating over 100 metamodels:  32%[========>                ]  ETA: 0:01:25\u001b[39m┌ Warning: The scitype of `X`, in `machine(model, X, ...)` is incompatible with `model=\u001b[34mAdaBoostClassifier @068\u001b[39m`:\n",
      "│ scitype(X) = Table{Union{AbstractArray{Continuous,1}, AbstractArray{Count,1}}}\n",
      "│ input_scitype(model) = Table{var\"#s44\"} where var\"#s44\"<:(AbstractArray{var\"#s13\",1} where var\"#s13\"<:Continuous).\n",
      "└ @ MLJBase /home/andrew/.julia/packages/MLJBase/uKzAz/src/machines.jl:77\n"
     ]
    },
    {
     "name": "stderr",
     "output_type": "stream",
     "text": [
      "\u001b[33mEvaluating over 100 metamodels:  33%[========>                ]  ETA: 0:01:22\u001b[39m┌ Warning: The scitype of `X`, in `machine(model, X, ...)` is incompatible with `model=\u001b[34mAdaBoostClassifier @706\u001b[39m`:\n",
      "│ scitype(X) = Table{Union{AbstractArray{Continuous,1}, AbstractArray{Count,1}}}\n",
      "│ input_scitype(model) = Table{var\"#s44\"} where var\"#s44\"<:(AbstractArray{var\"#s13\",1} where var\"#s13\"<:Continuous).\n",
      "└ @ MLJBase /home/andrew/.julia/packages/MLJBase/uKzAz/src/machines.jl:77\n",
      "\u001b[33mEvaluating over 100 metamodels:  34%[========>                ]  ETA: 0:01:26\u001b[39m┌ Warning: The scitype of `X`, in `machine(model, X, ...)` is incompatible with `model=\u001b[34mAdaBoostClassifier @910\u001b[39m`:\n",
      "│ scitype(X) = Table{Union{AbstractArray{Continuous,1}, AbstractArray{Count,1}}}\n",
      "│ input_scitype(model) = Table{var\"#s44\"} where var\"#s44\"<:(AbstractArray{var\"#s13\",1} where var\"#s13\"<:Continuous).\n",
      "└ @ MLJBase /home/andrew/.julia/packages/MLJBase/uKzAz/src/machines.jl:77\n",
      "\u001b[33mEvaluating over 100 metamodels:  35%[========>                ]  ETA: 0:01:28\u001b[39m┌ Warning: The scitype of `X`, in `machine(model, X, ...)` is incompatible with `model=\u001b[34mAdaBoostClassifier @456\u001b[39m`:\n",
      "│ scitype(X) = Table{Union{AbstractArray{Continuous,1}, AbstractArray{Count,1}}}\n",
      "│ input_scitype(model) = Table{var\"#s44\"} where var\"#s44\"<:(AbstractArray{var\"#s13\",1} where var\"#s13\"<:Continuous).\n",
      "└ @ MLJBase /home/andrew/.julia/packages/MLJBase/uKzAz/src/machines.jl:77\n",
      "\u001b[33mEvaluating over 100 metamodels:  36%[=========>               ]  ETA: 0:01:24\u001b[39m┌ Warning: The scitype of `X`, in `machine(model, X, ...)` is incompatible with `model=\u001b[34mAdaBoostClassifier @803\u001b[39m`:\n",
      "│ scitype(X) = Table{Union{AbstractArray{Continuous,1}, AbstractArray{Count,1}}}\n",
      "│ input_scitype(model) = Table{var\"#s44\"} where var\"#s44\"<:(AbstractArray{var\"#s13\",1} where var\"#s13\"<:Continuous).\n",
      "└ @ MLJBase /home/andrew/.julia/packages/MLJBase/uKzAz/src/machines.jl:77\n",
      "\u001b[33mEvaluating over 100 metamodels:  37%[=========>               ]  ETA: 0:01:22\u001b[39m┌ Warning: The scitype of `X`, in `machine(model, X, ...)` is incompatible with `model=\u001b[34mAdaBoostClassifier @737\u001b[39m`:\n",
      "│ scitype(X) = Table{Union{AbstractArray{Continuous,1}, AbstractArray{Count,1}}}\n",
      "│ input_scitype(model) = Table{var\"#s44\"} where var\"#s44\"<:(AbstractArray{var\"#s13\",1} where var\"#s13\"<:Continuous).\n",
      "└ @ MLJBase /home/andrew/.julia/packages/MLJBase/uKzAz/src/machines.jl:77\n",
      "\u001b[33mEvaluating over 100 metamodels:  38%[=========>               ]  ETA: 0:01:18\u001b[39m┌ Warning: The scitype of `X`, in `machine(model, X, ...)` is incompatible with `model=\u001b[34mAdaBoostClassifier @335\u001b[39m`:\n",
      "│ scitype(X) = Table{Union{AbstractArray{Continuous,1}, AbstractArray{Count,1}}}\n",
      "│ input_scitype(model) = Table{var\"#s44\"} where var\"#s44\"<:(AbstractArray{var\"#s13\",1} where var\"#s13\"<:Continuous).\n",
      "└ @ MLJBase /home/andrew/.julia/packages/MLJBase/uKzAz/src/machines.jl:77\n",
      "\u001b[33mEvaluating over 100 metamodels:  39%[=========>               ]  ETA: 0:01:19\u001b[39m┌ Warning: The scitype of `X`, in `machine(model, X, ...)` is incompatible with `model=\u001b[34mAdaBoostClassifier @204\u001b[39m`:\n",
      "│ scitype(X) = Table{Union{AbstractArray{Continuous,1}, AbstractArray{Count,1}}}\n",
      "│ input_scitype(model) = Table{var\"#s44\"} where var\"#s44\"<:(AbstractArray{var\"#s13\",1} where var\"#s13\"<:Continuous).\n",
      "└ @ MLJBase /home/andrew/.julia/packages/MLJBase/uKzAz/src/machines.jl:77\n",
      "\u001b[33mEvaluating over 100 metamodels:  40%[==========>              ]  ETA: 0:01:17\u001b[39m┌ Warning: The scitype of `X`, in `machine(model, X, ...)` is incompatible with `model=\u001b[34mAdaBoostClassifier @280\u001b[39m`:\n",
      "│ scitype(X) = Table{Union{AbstractArray{Continuous,1}, AbstractArray{Count,1}}}\n",
      "│ input_scitype(model) = Table{var\"#s44\"} where var\"#s44\"<:(AbstractArray{var\"#s13\",1} where var\"#s13\"<:Continuous).\n",
      "└ @ MLJBase /home/andrew/.julia/packages/MLJBase/uKzAz/src/machines.jl:77\n",
      "\u001b[33mEvaluating over 100 metamodels:  41%[==========>              ]  ETA: 0:01:17\u001b[39m┌ Warning: The scitype of `X`, in `machine(model, X, ...)` is incompatible with `model=\u001b[34mAdaBoostClassifier @206\u001b[39m`:\n",
      "│ scitype(X) = Table{Union{AbstractArray{Continuous,1}, AbstractArray{Count,1}}}\n",
      "│ input_scitype(model) = Table{var\"#s44\"} where var\"#s44\"<:(AbstractArray{var\"#s13\",1} where var\"#s13\"<:Continuous).\n",
      "└ @ MLJBase /home/andrew/.julia/packages/MLJBase/uKzAz/src/machines.jl:77\n",
      "\u001b[33mEvaluating over 100 metamodels:  42%[==========>              ]  ETA: 0:01:22\u001b[39m┌ Warning: The scitype of `X`, in `machine(model, X, ...)` is incompatible with `model=\u001b[34mAdaBoostClassifier @388\u001b[39m`:\n",
      "│ scitype(X) = Table{Union{AbstractArray{Continuous,1}, AbstractArray{Count,1}}}\n",
      "│ input_scitype(model) = Table{var\"#s44\"} where var\"#s44\"<:(AbstractArray{var\"#s13\",1} where var\"#s13\"<:Continuous).\n",
      "└ @ MLJBase /home/andrew/.julia/packages/MLJBase/uKzAz/src/machines.jl:77\n",
      "\u001b[33mEvaluating over 100 metamodels:  43%[==========>              ]  ETA: 0:01:19\u001b[39m┌ Warning: The scitype of `X`, in `machine(model, X, ...)` is incompatible with `model=\u001b[34mAdaBoostClassifier @011\u001b[39m`:\n",
      "│ scitype(X) = Table{Union{AbstractArray{Continuous,1}, AbstractArray{Count,1}}}\n",
      "│ input_scitype(model) = Table{var\"#s44\"} where var\"#s44\"<:(AbstractArray{var\"#s13\",1} where var\"#s13\"<:Continuous).\n",
      "└ @ MLJBase /home/andrew/.julia/packages/MLJBase/uKzAz/src/machines.jl:77\n",
      "\u001b[33mEvaluating over 100 metamodels:  44%[===========>             ]  ETA: 0:01:16\u001b[39m┌ Warning: The scitype of `X`, in `machine(model, X, ...)` is incompatible with `model=\u001b[34mAdaBoostClassifier @412\u001b[39m`:\n",
      "│ scitype(X) = Table{Union{AbstractArray{Continuous,1}, AbstractArray{Count,1}}}\n",
      "│ input_scitype(model) = Table{var\"#s44\"} where var\"#s44\"<:(AbstractArray{var\"#s13\",1} where var\"#s13\"<:Continuous).\n",
      "└ @ MLJBase /home/andrew/.julia/packages/MLJBase/uKzAz/src/machines.jl:77\n",
      "\u001b[33mEvaluating over 100 metamodels:  45%[===========>             ]  ETA: 0:01:13\u001b[39m┌ Warning: The scitype of `X`, in `machine(model, X, ...)` is incompatible with `model=\u001b[34mAdaBoostClassifier @812\u001b[39m`:\n",
      "│ scitype(X) = Table{Union{AbstractArray{Continuous,1}, AbstractArray{Count,1}}}\n",
      "│ input_scitype(model) = Table{var\"#s44\"} where var\"#s44\"<:(AbstractArray{var\"#s13\",1} where var\"#s13\"<:Continuous).\n",
      "└ @ MLJBase /home/andrew/.julia/packages/MLJBase/uKzAz/src/machines.jl:77\n",
      "\u001b[33mEvaluating over 100 metamodels:  46%[===========>             ]  ETA: 0:01:10\u001b[39m┌ Warning: The scitype of `X`, in `machine(model, X, ...)` is incompatible with `model=\u001b[34mAdaBoostClassifier @907\u001b[39m`:\n",
      "│ scitype(X) = Table{Union{AbstractArray{Continuous,1}, AbstractArray{Count,1}}}\n",
      "│ input_scitype(model) = Table{var\"#s44\"} where var\"#s44\"<:(AbstractArray{var\"#s13\",1} where var\"#s13\"<:Continuous).\n",
      "└ @ MLJBase /home/andrew/.julia/packages/MLJBase/uKzAz/src/machines.jl:77\n",
      "\u001b[33mEvaluating over 100 metamodels:  47%[===========>             ]  ETA: 0:01:10\u001b[39m┌ Warning: The scitype of `X`, in `machine(model, X, ...)` is incompatible with `model=\u001b[34mAdaBoostClassifier @660\u001b[39m`:\n",
      "│ scitype(X) = Table{Union{AbstractArray{Continuous,1}, AbstractArray{Count,1}}}\n",
      "│ input_scitype(model) = Table{var\"#s44\"} where var\"#s44\"<:(AbstractArray{var\"#s13\",1} where var\"#s13\"<:Continuous).\n",
      "└ @ MLJBase /home/andrew/.julia/packages/MLJBase/uKzAz/src/machines.jl:77\n",
      "\u001b[33mEvaluating over 100 metamodels:  48%[============>            ]  ETA: 0:01:21\u001b[39m┌ Warning: The scitype of `X`, in `machine(model, X, ...)` is incompatible with `model=\u001b[34mAdaBoostClassifier @122\u001b[39m`:\n",
      "│ scitype(X) = Table{Union{AbstractArray{Continuous,1}, AbstractArray{Count,1}}}\n",
      "│ input_scitype(model) = Table{var\"#s44\"} where var\"#s44\"<:(AbstractArray{var\"#s13\",1} where var\"#s13\"<:Continuous).\n",
      "└ @ MLJBase /home/andrew/.julia/packages/MLJBase/uKzAz/src/machines.jl:77\n",
      "\u001b[33mEvaluating over 100 metamodels:  49%[============>            ]  ETA: 0:01:20\u001b[39m┌ Warning: The scitype of `X`, in `machine(model, X, ...)` is incompatible with `model=\u001b[34mAdaBoostClassifier @967\u001b[39m`:\n",
      "│ scitype(X) = Table{Union{AbstractArray{Continuous,1}, AbstractArray{Count,1}}}\n",
      "│ input_scitype(model) = Table{var\"#s44\"} where var\"#s44\"<:(AbstractArray{var\"#s13\",1} where var\"#s13\"<:Continuous).\n",
      "└ @ MLJBase /home/andrew/.julia/packages/MLJBase/uKzAz/src/machines.jl:77\n"
     ]
    },
    {
     "name": "stderr",
     "output_type": "stream",
     "text": [
      "\u001b[33mEvaluating over 100 metamodels:  50%[============>            ]  ETA: 0:01:17\u001b[39m┌ Warning: The scitype of `X`, in `machine(model, X, ...)` is incompatible with `model=\u001b[34mAdaBoostClassifier @185\u001b[39m`:\n",
      "│ scitype(X) = Table{Union{AbstractArray{Continuous,1}, AbstractArray{Count,1}}}\n",
      "│ input_scitype(model) = Table{var\"#s44\"} where var\"#s44\"<:(AbstractArray{var\"#s13\",1} where var\"#s13\"<:Continuous).\n",
      "└ @ MLJBase /home/andrew/.julia/packages/MLJBase/uKzAz/src/machines.jl:77\n",
      "\u001b[33mEvaluating over 100 metamodels:  51%[============>            ]  ETA: 0:01:27\u001b[39m┌ Warning: The scitype of `X`, in `machine(model, X, ...)` is incompatible with `model=\u001b[34mAdaBoostClassifier @938\u001b[39m`:\n",
      "│ scitype(X) = Table{Union{AbstractArray{Continuous,1}, AbstractArray{Count,1}}}\n",
      "│ input_scitype(model) = Table{var\"#s44\"} where var\"#s44\"<:(AbstractArray{var\"#s13\",1} where var\"#s13\"<:Continuous).\n",
      "└ @ MLJBase /home/andrew/.julia/packages/MLJBase/uKzAz/src/machines.jl:77\n",
      "\u001b[33mEvaluating over 100 metamodels:  52%[=============>           ]  ETA: 0:01:24\u001b[39m┌ Warning: The scitype of `X`, in `machine(model, X, ...)` is incompatible with `model=\u001b[34mAdaBoostClassifier @962\u001b[39m`:\n",
      "│ scitype(X) = Table{Union{AbstractArray{Continuous,1}, AbstractArray{Count,1}}}\n",
      "│ input_scitype(model) = Table{var\"#s44\"} where var\"#s44\"<:(AbstractArray{var\"#s13\",1} where var\"#s13\"<:Continuous).\n",
      "└ @ MLJBase /home/andrew/.julia/packages/MLJBase/uKzAz/src/machines.jl:77\n",
      "\u001b[33mEvaluating over 100 metamodels:  53%[=============>           ]  ETA: 0:01:20\u001b[39m┌ Warning: The scitype of `X`, in `machine(model, X, ...)` is incompatible with `model=\u001b[34mAdaBoostClassifier @392\u001b[39m`:\n",
      "│ scitype(X) = Table{Union{AbstractArray{Continuous,1}, AbstractArray{Count,1}}}\n",
      "│ input_scitype(model) = Table{var\"#s44\"} where var\"#s44\"<:(AbstractArray{var\"#s13\",1} where var\"#s13\"<:Continuous).\n",
      "└ @ MLJBase /home/andrew/.julia/packages/MLJBase/uKzAz/src/machines.jl:77\n",
      "\u001b[33mEvaluating over 100 metamodels:  54%[=============>           ]  ETA: 0:01:29\u001b[39m┌ Warning: The scitype of `X`, in `machine(model, X, ...)` is incompatible with `model=\u001b[34mAdaBoostClassifier @005\u001b[39m`:\n",
      "│ scitype(X) = Table{Union{AbstractArray{Continuous,1}, AbstractArray{Count,1}}}\n",
      "│ input_scitype(model) = Table{var\"#s44\"} where var\"#s44\"<:(AbstractArray{var\"#s13\",1} where var\"#s13\"<:Continuous).\n",
      "└ @ MLJBase /home/andrew/.julia/packages/MLJBase/uKzAz/src/machines.jl:77\n",
      "\u001b[33mEvaluating over 100 metamodels:  55%[=============>           ]  ETA: 0:01:26\u001b[39m┌ Warning: The scitype of `X`, in `machine(model, X, ...)` is incompatible with `model=\u001b[34mAdaBoostClassifier @921\u001b[39m`:\n",
      "│ scitype(X) = Table{Union{AbstractArray{Continuous,1}, AbstractArray{Count,1}}}\n",
      "│ input_scitype(model) = Table{var\"#s44\"} where var\"#s44\"<:(AbstractArray{var\"#s13\",1} where var\"#s13\"<:Continuous).\n",
      "└ @ MLJBase /home/andrew/.julia/packages/MLJBase/uKzAz/src/machines.jl:77\n",
      "\u001b[33mEvaluating over 100 metamodels:  56%[==============>          ]  ETA: 0:01:32\u001b[39m┌ Warning: The scitype of `X`, in `machine(model, X, ...)` is incompatible with `model=\u001b[34mAdaBoostClassifier @490\u001b[39m`:\n",
      "│ scitype(X) = Table{Union{AbstractArray{Continuous,1}, AbstractArray{Count,1}}}\n",
      "│ input_scitype(model) = Table{var\"#s44\"} where var\"#s44\"<:(AbstractArray{var\"#s13\",1} where var\"#s13\"<:Continuous).\n",
      "└ @ MLJBase /home/andrew/.julia/packages/MLJBase/uKzAz/src/machines.jl:77\n",
      "\u001b[33mEvaluating over 100 metamodels:  57%[==============>          ]  ETA: 0:01:29\u001b[39m┌ Warning: The scitype of `X`, in `machine(model, X, ...)` is incompatible with `model=\u001b[34mAdaBoostClassifier @603\u001b[39m`:\n",
      "│ scitype(X) = Table{Union{AbstractArray{Continuous,1}, AbstractArray{Count,1}}}\n",
      "│ input_scitype(model) = Table{var\"#s44\"} where var\"#s44\"<:(AbstractArray{var\"#s13\",1} where var\"#s13\"<:Continuous).\n",
      "└ @ MLJBase /home/andrew/.julia/packages/MLJBase/uKzAz/src/machines.jl:77\n",
      "\u001b[33mEvaluating over 100 metamodels:  58%[==============>          ]  ETA: 0:01:25\u001b[39m┌ Warning: The scitype of `X`, in `machine(model, X, ...)` is incompatible with `model=\u001b[34mAdaBoostClassifier @717\u001b[39m`:\n",
      "│ scitype(X) = Table{Union{AbstractArray{Continuous,1}, AbstractArray{Count,1}}}\n",
      "│ input_scitype(model) = Table{var\"#s44\"} where var\"#s44\"<:(AbstractArray{var\"#s13\",1} where var\"#s13\"<:Continuous).\n",
      "└ @ MLJBase /home/andrew/.julia/packages/MLJBase/uKzAz/src/machines.jl:77\n",
      "\u001b[33mEvaluating over 100 metamodels:  59%[==============>          ]  ETA: 0:01:22\u001b[39m┌ Warning: The scitype of `X`, in `machine(model, X, ...)` is incompatible with `model=\u001b[34mAdaBoostClassifier @221\u001b[39m`:\n",
      "│ scitype(X) = Table{Union{AbstractArray{Continuous,1}, AbstractArray{Count,1}}}\n",
      "│ input_scitype(model) = Table{var\"#s44\"} where var\"#s44\"<:(AbstractArray{var\"#s13\",1} where var\"#s13\"<:Continuous).\n",
      "└ @ MLJBase /home/andrew/.julia/packages/MLJBase/uKzAz/src/machines.jl:77\n",
      "\u001b[33mEvaluating over 100 metamodels:  60%[===============>         ]  ETA: 0:01:20\u001b[39m┌ Warning: The scitype of `X`, in `machine(model, X, ...)` is incompatible with `model=\u001b[34mAdaBoostClassifier @964\u001b[39m`:\n",
      "│ scitype(X) = Table{Union{AbstractArray{Continuous,1}, AbstractArray{Count,1}}}\n",
      "│ input_scitype(model) = Table{var\"#s44\"} where var\"#s44\"<:(AbstractArray{var\"#s13\",1} where var\"#s13\"<:Continuous).\n",
      "└ @ MLJBase /home/andrew/.julia/packages/MLJBase/uKzAz/src/machines.jl:77\n",
      "\u001b[33mEvaluating over 100 metamodels:  61%[===============>         ]  ETA: 0:01:16\u001b[39m┌ Warning: The scitype of `X`, in `machine(model, X, ...)` is incompatible with `model=\u001b[34mAdaBoostClassifier @713\u001b[39m`:\n",
      "│ scitype(X) = Table{Union{AbstractArray{Continuous,1}, AbstractArray{Count,1}}}\n",
      "│ input_scitype(model) = Table{var\"#s44\"} where var\"#s44\"<:(AbstractArray{var\"#s13\",1} where var\"#s13\"<:Continuous).\n",
      "└ @ MLJBase /home/andrew/.julia/packages/MLJBase/uKzAz/src/machines.jl:77\n",
      "\u001b[33mEvaluating over 100 metamodels:  62%[===============>         ]  ETA: 0:01:13\u001b[39m┌ Warning: The scitype of `X`, in `machine(model, X, ...)` is incompatible with `model=\u001b[34mAdaBoostClassifier @656\u001b[39m`:\n",
      "│ scitype(X) = Table{Union{AbstractArray{Continuous,1}, AbstractArray{Count,1}}}\n",
      "│ input_scitype(model) = Table{var\"#s44\"} where var\"#s44\"<:(AbstractArray{var\"#s13\",1} where var\"#s13\"<:Continuous).\n",
      "└ @ MLJBase /home/andrew/.julia/packages/MLJBase/uKzAz/src/machines.jl:77\n",
      "\u001b[33mEvaluating over 100 metamodels:  63%[===============>         ]  ETA: 0:01:14\u001b[39m┌ Warning: The scitype of `X`, in `machine(model, X, ...)` is incompatible with `model=\u001b[34mAdaBoostClassifier @081\u001b[39m`:\n",
      "│ scitype(X) = Table{Union{AbstractArray{Continuous,1}, AbstractArray{Count,1}}}\n",
      "│ input_scitype(model) = Table{var\"#s44\"} where var\"#s44\"<:(AbstractArray{var\"#s13\",1} where var\"#s13\"<:Continuous).\n",
      "└ @ MLJBase /home/andrew/.julia/packages/MLJBase/uKzAz/src/machines.jl:77\n",
      "\u001b[33mEvaluating over 100 metamodels:  64%[================>        ]  ETA: 0:01:11\u001b[39m┌ Warning: The scitype of `X`, in `machine(model, X, ...)` is incompatible with `model=\u001b[34mAdaBoostClassifier @473\u001b[39m`:\n",
      "│ scitype(X) = Table{Union{AbstractArray{Continuous,1}, AbstractArray{Count,1}}}\n",
      "│ input_scitype(model) = Table{var\"#s44\"} where var\"#s44\"<:(AbstractArray{var\"#s13\",1} where var\"#s13\"<:Continuous).\n",
      "└ @ MLJBase /home/andrew/.julia/packages/MLJBase/uKzAz/src/machines.jl:77\n",
      "\u001b[33mEvaluating over 100 metamodels:  65%[================>        ]  ETA: 0:01:09\u001b[39m┌ Warning: The scitype of `X`, in `machine(model, X, ...)` is incompatible with `model=\u001b[34mAdaBoostClassifier @986\u001b[39m`:\n",
      "│ scitype(X) = Table{Union{AbstractArray{Continuous,1}, AbstractArray{Count,1}}}\n",
      "│ input_scitype(model) = Table{var\"#s44\"} where var\"#s44\"<:(AbstractArray{var\"#s13\",1} where var\"#s13\"<:Continuous).\n",
      "└ @ MLJBase /home/andrew/.julia/packages/MLJBase/uKzAz/src/machines.jl:77\n",
      "\u001b[33mEvaluating over 100 metamodels:  66%[================>        ]  ETA: 0:01:06\u001b[39m┌ Warning: The scitype of `X`, in `machine(model, X, ...)` is incompatible with `model=\u001b[34mAdaBoostClassifier @344\u001b[39m`:\n",
      "│ scitype(X) = Table{Union{AbstractArray{Continuous,1}, AbstractArray{Count,1}}}\n",
      "│ input_scitype(model) = Table{var\"#s44\"} where var\"#s44\"<:(AbstractArray{var\"#s13\",1} where var\"#s13\"<:Continuous).\n",
      "└ @ MLJBase /home/andrew/.julia/packages/MLJBase/uKzAz/src/machines.jl:77\n"
     ]
    },
    {
     "name": "stderr",
     "output_type": "stream",
     "text": [
      "\u001b[33mEvaluating over 100 metamodels:  67%[================>        ]  ETA: 0:01:03\u001b[39m┌ Warning: The scitype of `X`, in `machine(model, X, ...)` is incompatible with `model=\u001b[34mAdaBoostClassifier @069\u001b[39m`:\n",
      "│ scitype(X) = Table{Union{AbstractArray{Continuous,1}, AbstractArray{Count,1}}}\n",
      "│ input_scitype(model) = Table{var\"#s44\"} where var\"#s44\"<:(AbstractArray{var\"#s13\",1} where var\"#s13\"<:Continuous).\n",
      "└ @ MLJBase /home/andrew/.julia/packages/MLJBase/uKzAz/src/machines.jl:77\n",
      "\u001b[33mEvaluating over 100 metamodels:  68%[=================>       ]  ETA: 0:01:01\u001b[39m┌ Warning: The scitype of `X`, in `machine(model, X, ...)` is incompatible with `model=\u001b[34mAdaBoostClassifier @374\u001b[39m`:\n",
      "│ scitype(X) = Table{Union{AbstractArray{Continuous,1}, AbstractArray{Count,1}}}\n",
      "│ input_scitype(model) = Table{var\"#s44\"} where var\"#s44\"<:(AbstractArray{var\"#s13\",1} where var\"#s13\"<:Continuous).\n",
      "└ @ MLJBase /home/andrew/.julia/packages/MLJBase/uKzAz/src/machines.jl:77\n",
      "\u001b[33mEvaluating over 100 metamodels:  69%[=================>       ]  ETA: 0:00:58\u001b[39m┌ Warning: The scitype of `X`, in `machine(model, X, ...)` is incompatible with `model=\u001b[34mAdaBoostClassifier @385\u001b[39m`:\n",
      "│ scitype(X) = Table{Union{AbstractArray{Continuous,1}, AbstractArray{Count,1}}}\n",
      "│ input_scitype(model) = Table{var\"#s44\"} where var\"#s44\"<:(AbstractArray{var\"#s13\",1} where var\"#s13\"<:Continuous).\n",
      "└ @ MLJBase /home/andrew/.julia/packages/MLJBase/uKzAz/src/machines.jl:77\n",
      "\u001b[33mEvaluating over 100 metamodels:  70%[=================>       ]  ETA: 0:00:56\u001b[39m┌ Warning: The scitype of `X`, in `machine(model, X, ...)` is incompatible with `model=\u001b[34mAdaBoostClassifier @463\u001b[39m`:\n",
      "│ scitype(X) = Table{Union{AbstractArray{Continuous,1}, AbstractArray{Count,1}}}\n",
      "│ input_scitype(model) = Table{var\"#s44\"} where var\"#s44\"<:(AbstractArray{var\"#s13\",1} where var\"#s13\"<:Continuous).\n",
      "└ @ MLJBase /home/andrew/.julia/packages/MLJBase/uKzAz/src/machines.jl:77\n",
      "\u001b[33mEvaluating over 100 metamodels:  71%[=================>       ]  ETA: 0:00:55\u001b[39m┌ Warning: The scitype of `X`, in `machine(model, X, ...)` is incompatible with `model=\u001b[34mAdaBoostClassifier @991\u001b[39m`:\n",
      "│ scitype(X) = Table{Union{AbstractArray{Continuous,1}, AbstractArray{Count,1}}}\n",
      "│ input_scitype(model) = Table{var\"#s44\"} where var\"#s44\"<:(AbstractArray{var\"#s13\",1} where var\"#s13\"<:Continuous).\n",
      "└ @ MLJBase /home/andrew/.julia/packages/MLJBase/uKzAz/src/machines.jl:77\n",
      "\u001b[33mEvaluating over 100 metamodels:  72%[==================>      ]  ETA: 0:00:54\u001b[39m┌ Warning: The scitype of `X`, in `machine(model, X, ...)` is incompatible with `model=\u001b[34mAdaBoostClassifier @183\u001b[39m`:\n",
      "│ scitype(X) = Table{Union{AbstractArray{Continuous,1}, AbstractArray{Count,1}}}\n",
      "│ input_scitype(model) = Table{var\"#s44\"} where var\"#s44\"<:(AbstractArray{var\"#s13\",1} where var\"#s13\"<:Continuous).\n",
      "└ @ MLJBase /home/andrew/.julia/packages/MLJBase/uKzAz/src/machines.jl:77\n",
      "\u001b[33mEvaluating over 100 metamodels:  73%[==================>      ]  ETA: 0:00:52\u001b[39m┌ Warning: The scitype of `X`, in `machine(model, X, ...)` is incompatible with `model=\u001b[34mAdaBoostClassifier @919\u001b[39m`:\n",
      "│ scitype(X) = Table{Union{AbstractArray{Continuous,1}, AbstractArray{Count,1}}}\n",
      "│ input_scitype(model) = Table{var\"#s44\"} where var\"#s44\"<:(AbstractArray{var\"#s13\",1} where var\"#s13\"<:Continuous).\n",
      "└ @ MLJBase /home/andrew/.julia/packages/MLJBase/uKzAz/src/machines.jl:77\n",
      "\u001b[33mEvaluating over 100 metamodels:  74%[==================>      ]  ETA: 0:00:50\u001b[39m┌ Warning: The scitype of `X`, in `machine(model, X, ...)` is incompatible with `model=\u001b[34mAdaBoostClassifier @616\u001b[39m`:\n",
      "│ scitype(X) = Table{Union{AbstractArray{Continuous,1}, AbstractArray{Count,1}}}\n",
      "│ input_scitype(model) = Table{var\"#s44\"} where var\"#s44\"<:(AbstractArray{var\"#s13\",1} where var\"#s13\"<:Continuous).\n",
      "└ @ MLJBase /home/andrew/.julia/packages/MLJBase/uKzAz/src/machines.jl:77\n",
      "\u001b[33mEvaluating over 100 metamodels:  75%[==================>      ]  ETA: 0:00:49\u001b[39m┌ Warning: The scitype of `X`, in `machine(model, X, ...)` is incompatible with `model=\u001b[34mAdaBoostClassifier @639\u001b[39m`:\n",
      "│ scitype(X) = Table{Union{AbstractArray{Continuous,1}, AbstractArray{Count,1}}}\n",
      "│ input_scitype(model) = Table{var\"#s44\"} where var\"#s44\"<:(AbstractArray{var\"#s13\",1} where var\"#s13\"<:Continuous).\n",
      "└ @ MLJBase /home/andrew/.julia/packages/MLJBase/uKzAz/src/machines.jl:77\n",
      "\u001b[33mEvaluating over 100 metamodels:  76%[===================>     ]  ETA: 0:00:50\u001b[39m┌ Warning: The scitype of `X`, in `machine(model, X, ...)` is incompatible with `model=\u001b[34mAdaBoostClassifier @722\u001b[39m`:\n",
      "│ scitype(X) = Table{Union{AbstractArray{Continuous,1}, AbstractArray{Count,1}}}\n",
      "│ input_scitype(model) = Table{var\"#s44\"} where var\"#s44\"<:(AbstractArray{var\"#s13\",1} where var\"#s13\"<:Continuous).\n",
      "└ @ MLJBase /home/andrew/.julia/packages/MLJBase/uKzAz/src/machines.jl:77\n",
      "\u001b[33mEvaluating over 100 metamodels:  77%[===================>     ]  ETA: 0:00:49\u001b[39m┌ Warning: The scitype of `X`, in `machine(model, X, ...)` is incompatible with `model=\u001b[34mAdaBoostClassifier @449\u001b[39m`:\n",
      "│ scitype(X) = Table{Union{AbstractArray{Continuous,1}, AbstractArray{Count,1}}}\n",
      "│ input_scitype(model) = Table{var\"#s44\"} where var\"#s44\"<:(AbstractArray{var\"#s13\",1} where var\"#s13\"<:Continuous).\n",
      "└ @ MLJBase /home/andrew/.julia/packages/MLJBase/uKzAz/src/machines.jl:77\n",
      "\u001b[33mEvaluating over 100 metamodels:  78%[===================>     ]  ETA: 0:00:46\u001b[39m┌ Warning: The scitype of `X`, in `machine(model, X, ...)` is incompatible with `model=\u001b[34mAdaBoostClassifier @113\u001b[39m`:\n",
      "│ scitype(X) = Table{Union{AbstractArray{Continuous,1}, AbstractArray{Count,1}}}\n",
      "│ input_scitype(model) = Table{var\"#s44\"} where var\"#s44\"<:(AbstractArray{var\"#s13\",1} where var\"#s13\"<:Continuous).\n",
      "└ @ MLJBase /home/andrew/.julia/packages/MLJBase/uKzAz/src/machines.jl:77\n",
      "\u001b[33mEvaluating over 100 metamodels:  79%[===================>     ]  ETA: 0:00:44\u001b[39m┌ Warning: The scitype of `X`, in `machine(model, X, ...)` is incompatible with `model=\u001b[34mAdaBoostClassifier @570\u001b[39m`:\n",
      "│ scitype(X) = Table{Union{AbstractArray{Continuous,1}, AbstractArray{Count,1}}}\n",
      "│ input_scitype(model) = Table{var\"#s44\"} where var\"#s44\"<:(AbstractArray{var\"#s13\",1} where var\"#s13\"<:Continuous).\n",
      "└ @ MLJBase /home/andrew/.julia/packages/MLJBase/uKzAz/src/machines.jl:77\n",
      "\u001b[33mEvaluating over 100 metamodels:  80%[====================>    ]  ETA: 0:00:41\u001b[39m┌ Warning: The scitype of `X`, in `machine(model, X, ...)` is incompatible with `model=\u001b[34mAdaBoostClassifier @786\u001b[39m`:\n",
      "│ scitype(X) = Table{Union{AbstractArray{Continuous,1}, AbstractArray{Count,1}}}\n",
      "│ input_scitype(model) = Table{var\"#s44\"} where var\"#s44\"<:(AbstractArray{var\"#s13\",1} where var\"#s13\"<:Continuous).\n",
      "└ @ MLJBase /home/andrew/.julia/packages/MLJBase/uKzAz/src/machines.jl:77\n",
      "\u001b[33mEvaluating over 100 metamodels:  81%[====================>    ]  ETA: 0:00:39\u001b[39m┌ Warning: The scitype of `X`, in `machine(model, X, ...)` is incompatible with `model=\u001b[34mAdaBoostClassifier @758\u001b[39m`:\n",
      "│ scitype(X) = Table{Union{AbstractArray{Continuous,1}, AbstractArray{Count,1}}}\n",
      "│ input_scitype(model) = Table{var\"#s44\"} where var\"#s44\"<:(AbstractArray{var\"#s13\",1} where var\"#s13\"<:Continuous).\n",
      "└ @ MLJBase /home/andrew/.julia/packages/MLJBase/uKzAz/src/machines.jl:77\n",
      "\u001b[33mEvaluating over 100 metamodels:  82%[====================>    ]  ETA: 0:00:37\u001b[39m┌ Warning: The scitype of `X`, in `machine(model, X, ...)` is incompatible with `model=\u001b[34mAdaBoostClassifier @856\u001b[39m`:\n",
      "│ scitype(X) = Table{Union{AbstractArray{Continuous,1}, AbstractArray{Count,1}}}\n",
      "│ input_scitype(model) = Table{var\"#s44\"} where var\"#s44\"<:(AbstractArray{var\"#s13\",1} where var\"#s13\"<:Continuous).\n",
      "└ @ MLJBase /home/andrew/.julia/packages/MLJBase/uKzAz/src/machines.jl:77\n",
      "\u001b[33mEvaluating over 100 metamodels:  83%[====================>    ]  ETA: 0:00:34\u001b[39m┌ Warning: The scitype of `X`, in `machine(model, X, ...)` is incompatible with `model=\u001b[34mAdaBoostClassifier @009\u001b[39m`:\n",
      "│ scitype(X) = Table{Union{AbstractArray{Continuous,1}, AbstractArray{Count,1}}}\n",
      "│ input_scitype(model) = Table{var\"#s44\"} where var\"#s44\"<:(AbstractArray{var\"#s13\",1} where var\"#s13\"<:Continuous).\n",
      "└ @ MLJBase /home/andrew/.julia/packages/MLJBase/uKzAz/src/machines.jl:77\n"
     ]
    },
    {
     "name": "stderr",
     "output_type": "stream",
     "text": [
      "\u001b[33mEvaluating over 100 metamodels:  84%[=====================>   ]  ETA: 0:00:32\u001b[39m┌ Warning: The scitype of `X`, in `machine(model, X, ...)` is incompatible with `model=\u001b[34mAdaBoostClassifier @789\u001b[39m`:\n",
      "│ scitype(X) = Table{Union{AbstractArray{Continuous,1}, AbstractArray{Count,1}}}\n",
      "│ input_scitype(model) = Table{var\"#s44\"} where var\"#s44\"<:(AbstractArray{var\"#s13\",1} where var\"#s13\"<:Continuous).\n",
      "└ @ MLJBase /home/andrew/.julia/packages/MLJBase/uKzAz/src/machines.jl:77\n",
      "\u001b[33mEvaluating over 100 metamodels:  85%[=====================>   ]  ETA: 0:00:30\u001b[39m┌ Warning: The scitype of `X`, in `machine(model, X, ...)` is incompatible with `model=\u001b[34mAdaBoostClassifier @420\u001b[39m`:\n",
      "│ scitype(X) = Table{Union{AbstractArray{Continuous,1}, AbstractArray{Count,1}}}\n",
      "│ input_scitype(model) = Table{var\"#s44\"} where var\"#s44\"<:(AbstractArray{var\"#s13\",1} where var\"#s13\"<:Continuous).\n",
      "└ @ MLJBase /home/andrew/.julia/packages/MLJBase/uKzAz/src/machines.jl:77\n",
      "\u001b[33mEvaluating over 100 metamodels:  86%[=====================>   ]  ETA: 0:00:28\u001b[39m┌ Warning: The scitype of `X`, in `machine(model, X, ...)` is incompatible with `model=\u001b[34mAdaBoostClassifier @510\u001b[39m`:\n",
      "│ scitype(X) = Table{Union{AbstractArray{Continuous,1}, AbstractArray{Count,1}}}\n",
      "│ input_scitype(model) = Table{var\"#s44\"} where var\"#s44\"<:(AbstractArray{var\"#s13\",1} where var\"#s13\"<:Continuous).\n",
      "└ @ MLJBase /home/andrew/.julia/packages/MLJBase/uKzAz/src/machines.jl:77\n",
      "\u001b[33mEvaluating over 100 metamodels:  87%[=====================>   ]  ETA: 0:00:27\u001b[39m┌ Warning: The scitype of `X`, in `machine(model, X, ...)` is incompatible with `model=\u001b[34mAdaBoostClassifier @780\u001b[39m`:\n",
      "│ scitype(X) = Table{Union{AbstractArray{Continuous,1}, AbstractArray{Count,1}}}\n",
      "│ input_scitype(model) = Table{var\"#s44\"} where var\"#s44\"<:(AbstractArray{var\"#s13\",1} where var\"#s13\"<:Continuous).\n",
      "└ @ MLJBase /home/andrew/.julia/packages/MLJBase/uKzAz/src/machines.jl:77\n",
      "\u001b[33mEvaluating over 100 metamodels:  88%[======================>  ]  ETA: 0:00:25\u001b[39m┌ Warning: The scitype of `X`, in `machine(model, X, ...)` is incompatible with `model=\u001b[34mAdaBoostClassifier @311\u001b[39m`:\n",
      "│ scitype(X) = Table{Union{AbstractArray{Continuous,1}, AbstractArray{Count,1}}}\n",
      "│ input_scitype(model) = Table{var\"#s44\"} where var\"#s44\"<:(AbstractArray{var\"#s13\",1} where var\"#s13\"<:Continuous).\n",
      "└ @ MLJBase /home/andrew/.julia/packages/MLJBase/uKzAz/src/machines.jl:77\n",
      "\u001b[33mEvaluating over 100 metamodels:  89%[======================>  ]  ETA: 0:00:23\u001b[39m┌ Warning: The scitype of `X`, in `machine(model, X, ...)` is incompatible with `model=\u001b[34mAdaBoostClassifier @224\u001b[39m`:\n",
      "│ scitype(X) = Table{Union{AbstractArray{Continuous,1}, AbstractArray{Count,1}}}\n",
      "│ input_scitype(model) = Table{var\"#s44\"} where var\"#s44\"<:(AbstractArray{var\"#s13\",1} where var\"#s13\"<:Continuous).\n",
      "└ @ MLJBase /home/andrew/.julia/packages/MLJBase/uKzAz/src/machines.jl:77\n",
      "\u001b[33mEvaluating over 100 metamodels:  90%[======================>  ]  ETA: 0:00:21\u001b[39m┌ Warning: The scitype of `X`, in `machine(model, X, ...)` is incompatible with `model=\u001b[34mAdaBoostClassifier @355\u001b[39m`:\n",
      "│ scitype(X) = Table{Union{AbstractArray{Continuous,1}, AbstractArray{Count,1}}}\n",
      "│ input_scitype(model) = Table{var\"#s44\"} where var\"#s44\"<:(AbstractArray{var\"#s13\",1} where var\"#s13\"<:Continuous).\n",
      "└ @ MLJBase /home/andrew/.julia/packages/MLJBase/uKzAz/src/machines.jl:77\n",
      "\u001b[33mEvaluating over 100 metamodels:  91%[======================>  ]  ETA: 0:00:20\u001b[39m┌ Warning: The scitype of `X`, in `machine(model, X, ...)` is incompatible with `model=\u001b[34mAdaBoostClassifier @428\u001b[39m`:\n",
      "│ scitype(X) = Table{Union{AbstractArray{Continuous,1}, AbstractArray{Count,1}}}\n",
      "│ input_scitype(model) = Table{var\"#s44\"} where var\"#s44\"<:(AbstractArray{var\"#s13\",1} where var\"#s13\"<:Continuous).\n",
      "└ @ MLJBase /home/andrew/.julia/packages/MLJBase/uKzAz/src/machines.jl:77\n",
      "\u001b[33mEvaluating over 100 metamodels:  92%[=======================> ]  ETA: 0:00:18\u001b[39m┌ Warning: The scitype of `X`, in `machine(model, X, ...)` is incompatible with `model=\u001b[34mAdaBoostClassifier @511\u001b[39m`:\n",
      "│ scitype(X) = Table{Union{AbstractArray{Continuous,1}, AbstractArray{Count,1}}}\n",
      "│ input_scitype(model) = Table{var\"#s44\"} where var\"#s44\"<:(AbstractArray{var\"#s13\",1} where var\"#s13\"<:Continuous).\n",
      "└ @ MLJBase /home/andrew/.julia/packages/MLJBase/uKzAz/src/machines.jl:77\n",
      "\u001b[33mEvaluating over 100 metamodels:  93%[=======================> ]  ETA: 0:00:15\u001b[39m┌ Warning: The scitype of `X`, in `machine(model, X, ...)` is incompatible with `model=\u001b[34mAdaBoostClassifier @053\u001b[39m`:\n",
      "│ scitype(X) = Table{Union{AbstractArray{Continuous,1}, AbstractArray{Count,1}}}\n",
      "│ input_scitype(model) = Table{var\"#s44\"} where var\"#s44\"<:(AbstractArray{var\"#s13\",1} where var\"#s13\"<:Continuous).\n",
      "└ @ MLJBase /home/andrew/.julia/packages/MLJBase/uKzAz/src/machines.jl:77\n",
      "\u001b[33mEvaluating over 100 metamodels:  94%[=======================> ]  ETA: 0:00:13\u001b[39m┌ Warning: The scitype of `X`, in `machine(model, X, ...)` is incompatible with `model=\u001b[34mAdaBoostClassifier @584\u001b[39m`:\n",
      "│ scitype(X) = Table{Union{AbstractArray{Continuous,1}, AbstractArray{Count,1}}}\n",
      "│ input_scitype(model) = Table{var\"#s44\"} where var\"#s44\"<:(AbstractArray{var\"#s13\",1} where var\"#s13\"<:Continuous).\n",
      "└ @ MLJBase /home/andrew/.julia/packages/MLJBase/uKzAz/src/machines.jl:77\n",
      "\u001b[33mEvaluating over 100 metamodels:  95%[=======================> ]  ETA: 0:00:11\u001b[39m┌ Warning: The scitype of `X`, in `machine(model, X, ...)` is incompatible with `model=\u001b[34mAdaBoostClassifier @501\u001b[39m`:\n",
      "│ scitype(X) = Table{Union{AbstractArray{Continuous,1}, AbstractArray{Count,1}}}\n",
      "│ input_scitype(model) = Table{var\"#s44\"} where var\"#s44\"<:(AbstractArray{var\"#s13\",1} where var\"#s13\"<:Continuous).\n",
      "└ @ MLJBase /home/andrew/.julia/packages/MLJBase/uKzAz/src/machines.jl:77\n",
      "\u001b[33mEvaluating over 100 metamodels:  96%[========================>]  ETA: 0:00:09\u001b[39m┌ Warning: The scitype of `X`, in `machine(model, X, ...)` is incompatible with `model=\u001b[34mAdaBoostClassifier @484\u001b[39m`:\n",
      "│ scitype(X) = Table{Union{AbstractArray{Continuous,1}, AbstractArray{Count,1}}}\n",
      "│ input_scitype(model) = Table{var\"#s44\"} where var\"#s44\"<:(AbstractArray{var\"#s13\",1} where var\"#s13\"<:Continuous).\n",
      "└ @ MLJBase /home/andrew/.julia/packages/MLJBase/uKzAz/src/machines.jl:77\n",
      "\u001b[33mEvaluating over 100 metamodels:  97%[========================>]  ETA: 0:00:07\u001b[39m┌ Warning: The scitype of `X`, in `machine(model, X, ...)` is incompatible with `model=\u001b[34mAdaBoostClassifier @447\u001b[39m`:\n",
      "│ scitype(X) = Table{Union{AbstractArray{Continuous,1}, AbstractArray{Count,1}}}\n",
      "│ input_scitype(model) = Table{var\"#s44\"} where var\"#s44\"<:(AbstractArray{var\"#s13\",1} where var\"#s13\"<:Continuous).\n",
      "└ @ MLJBase /home/andrew/.julia/packages/MLJBase/uKzAz/src/machines.jl:77\n",
      "\u001b[33mEvaluating over 100 metamodels:  98%[========================>]  ETA: 0:00:04\u001b[39m┌ Warning: The scitype of `X`, in `machine(model, X, ...)` is incompatible with `model=\u001b[34mAdaBoostClassifier @311\u001b[39m`:\n",
      "│ scitype(X) = Table{Union{AbstractArray{Continuous,1}, AbstractArray{Count,1}}}\n",
      "│ input_scitype(model) = Table{var\"#s44\"} where var\"#s44\"<:(AbstractArray{var\"#s13\",1} where var\"#s13\"<:Continuous).\n",
      "└ @ MLJBase /home/andrew/.julia/packages/MLJBase/uKzAz/src/machines.jl:77\n",
      "\u001b[33mEvaluating over 100 metamodels:  99%[========================>]  ETA: 0:00:02\u001b[39m┌ Warning: The scitype of `X`, in `machine(model, X, ...)` is incompatible with `model=\u001b[34mAdaBoostClassifier @406\u001b[39m`:\n",
      "│ scitype(X) = Table{Union{AbstractArray{Continuous,1}, AbstractArray{Count,1}}}\n",
      "│ input_scitype(model) = Table{var\"#s44\"} where var\"#s44\"<:(AbstractArray{var\"#s13\",1} where var\"#s13\"<:Continuous).\n",
      "└ @ MLJBase /home/andrew/.julia/packages/MLJBase/uKzAz/src/machines.jl:77\n",
      "\u001b[33mEvaluating over 100 metamodels: 100%[=========================] Time: 0:03:44\u001b[39m\n",
      "┌ Warning: The scitype of `X`, in `machine(model, X, ...)` is incompatible with `model=\u001b[34mAdaBoostClassifier @456\u001b[39m`:\n",
      "│ scitype(X) = Table{Union{AbstractArray{Continuous,1}, AbstractArray{Count,1}}}\n",
      "│ input_scitype(model) = Table{var\"#s44\"} where var\"#s44\"<:(AbstractArray{var\"#s13\",1} where var\"#s13\"<:Continuous).\n",
      "└ @ MLJBase /home/andrew/.julia/packages/MLJBase/uKzAz/src/machines.jl:77\n"
     ]
    },
    {
     "data": {
      "text/plain": [
       "\u001b[34mMachine{ProbabilisticTunedModel{Grid,…}} @275\u001b[39m trained 1 time.\n",
       "  args: \n",
       "    1:\t\u001b[34mSource @398\u001b[39m ⏎ `Table{Union{AbstractArray{Continuous,1}, AbstractArray{Count,1}}}`\n",
       "    2:\t\u001b[34mSource @859\u001b[39m ⏎ `AbstractArray{Multiclass{2},1}`\n"
      ]
     },
     "execution_count": 53,
     "metadata": {},
     "output_type": "execute_result"
    }
   ],
   "source": [
    "z = fit!(self_tuning_boost, rows=train)"
   ]
  },
  {
   "cell_type": "code",
   "execution_count": 54,
   "metadata": {},
   "outputs": [
    {
     "data": {
      "image/svg+xml": [
       "<?xml version=\"1.0\" encoding=\"utf-8\"?>\n",
       "<svg xmlns=\"http://www.w3.org/2000/svg\" xmlns:xlink=\"http://www.w3.org/1999/xlink\" width=\"600\" height=\"400\" viewBox=\"0 0 2400 1600\">\n",
       "<defs>\n",
       "  <clipPath id=\"clip740\">\n",
       "    <rect x=\"0\" y=\"0\" width=\"2400\" height=\"1600\"/>\n",
       "  </clipPath>\n",
       "</defs>\n",
       "<path clip-path=\"url(#clip740)\" d=\"\n",
       "M0 1600 L2400 1600 L2400 0 L0 0  Z\n",
       "  \" fill=\"#ffffff\" fill-rule=\"evenodd\" fill-opacity=\"1\"/>\n",
       "<defs>\n",
       "  <clipPath id=\"clip741\">\n",
       "    <rect x=\"480\" y=\"0\" width=\"1681\" height=\"1600\"/>\n",
       "  </clipPath>\n",
       "</defs>\n",
       "<path clip-path=\"url(#clip740)\" d=\"\n",
       "M217.262 1410.9 L2112.76 1410.9 L2112.76 47.2441 L217.262 47.2441  Z\n",
       "  \" fill=\"#ffffff\" fill-rule=\"evenodd\" fill-opacity=\"1\"/>\n",
       "<defs>\n",
       "  <clipPath id=\"clip742\">\n",
       "    <rect x=\"217\" y=\"47\" width=\"1896\" height=\"1365\"/>\n",
       "  </clipPath>\n",
       "</defs>\n",
       "<polyline clip-path=\"url(#clip742)\" style=\"stroke:#000000; stroke-width:2; stroke-opacity:0.1; fill:none\" points=\"\n",
       "  270.908,1410.9 270.908,47.2441 \n",
       "  \"/>\n",
       "<polyline clip-path=\"url(#clip742)\" style=\"stroke:#000000; stroke-width:2; stroke-opacity:0.1; fill:none\" points=\"\n",
       "  717.959,1410.9 717.959,47.2441 \n",
       "  \"/>\n",
       "<polyline clip-path=\"url(#clip742)\" style=\"stroke:#000000; stroke-width:2; stroke-opacity:0.1; fill:none\" points=\"\n",
       "  1165.01,1410.9 1165.01,47.2441 \n",
       "  \"/>\n",
       "<polyline clip-path=\"url(#clip742)\" style=\"stroke:#000000; stroke-width:2; stroke-opacity:0.1; fill:none\" points=\"\n",
       "  1612.06,1410.9 1612.06,47.2441 \n",
       "  \"/>\n",
       "<polyline clip-path=\"url(#clip742)\" style=\"stroke:#000000; stroke-width:2; stroke-opacity:0.1; fill:none\" points=\"\n",
       "  2059.11,1410.9 2059.11,47.2441 \n",
       "  \"/>\n",
       "<polyline clip-path=\"url(#clip742)\" style=\"stroke:#000000; stroke-width:2; stroke-opacity:0.1; fill:none\" points=\"\n",
       "  217.262,1372.3 2112.76,1372.3 \n",
       "  \"/>\n",
       "<polyline clip-path=\"url(#clip742)\" style=\"stroke:#000000; stroke-width:2; stroke-opacity:0.1; fill:none\" points=\"\n",
       "  217.262,943.481 2112.76,943.481 \n",
       "  \"/>\n",
       "<polyline clip-path=\"url(#clip742)\" style=\"stroke:#000000; stroke-width:2; stroke-opacity:0.1; fill:none\" points=\"\n",
       "  217.262,514.66 2112.76,514.66 \n",
       "  \"/>\n",
       "<polyline clip-path=\"url(#clip742)\" style=\"stroke:#000000; stroke-width:2; stroke-opacity:0.1; fill:none\" points=\"\n",
       "  217.262,85.838 2112.76,85.838 \n",
       "  \"/>\n",
       "<polyline clip-path=\"url(#clip740)\" style=\"stroke:#000000; stroke-width:4; stroke-opacity:1; fill:none\" points=\"\n",
       "  217.262,1410.9 2112.76,1410.9 \n",
       "  \"/>\n",
       "<polyline clip-path=\"url(#clip740)\" style=\"stroke:#000000; stroke-width:4; stroke-opacity:1; fill:none\" points=\"\n",
       "  217.262,1410.9 217.262,47.2441 \n",
       "  \"/>\n",
       "<polyline clip-path=\"url(#clip740)\" style=\"stroke:#000000; stroke-width:4; stroke-opacity:1; fill:none\" points=\"\n",
       "  270.908,1410.9 270.908,1394.53 \n",
       "  \"/>\n",
       "<polyline clip-path=\"url(#clip740)\" style=\"stroke:#000000; stroke-width:4; stroke-opacity:1; fill:none\" points=\"\n",
       "  717.959,1410.9 717.959,1394.53 \n",
       "  \"/>\n",
       "<polyline clip-path=\"url(#clip740)\" style=\"stroke:#000000; stroke-width:4; stroke-opacity:1; fill:none\" points=\"\n",
       "  1165.01,1410.9 1165.01,1394.53 \n",
       "  \"/>\n",
       "<polyline clip-path=\"url(#clip740)\" style=\"stroke:#000000; stroke-width:4; stroke-opacity:1; fill:none\" points=\"\n",
       "  1612.06,1410.9 1612.06,1394.53 \n",
       "  \"/>\n",
       "<polyline clip-path=\"url(#clip740)\" style=\"stroke:#000000; stroke-width:4; stroke-opacity:1; fill:none\" points=\"\n",
       "  2059.11,1410.9 2059.11,1394.53 \n",
       "  \"/>\n",
       "<polyline clip-path=\"url(#clip740)\" style=\"stroke:#000000; stroke-width:4; stroke-opacity:1; fill:none\" points=\"\n",
       "  217.262,1372.3 240.008,1372.3 \n",
       "  \"/>\n",
       "<polyline clip-path=\"url(#clip740)\" style=\"stroke:#000000; stroke-width:4; stroke-opacity:1; fill:none\" points=\"\n",
       "  217.262,943.481 240.008,943.481 \n",
       "  \"/>\n",
       "<polyline clip-path=\"url(#clip740)\" style=\"stroke:#000000; stroke-width:4; stroke-opacity:1; fill:none\" points=\"\n",
       "  217.262,514.66 240.008,514.66 \n",
       "  \"/>\n",
       "<polyline clip-path=\"url(#clip740)\" style=\"stroke:#000000; stroke-width:4; stroke-opacity:1; fill:none\" points=\"\n",
       "  217.262,85.838 240.008,85.838 \n",
       "  \"/>\n",
       "<path clip-path=\"url(#clip740)\" d=\"M 0 0 M225.016 1481.97 L232.655 1481.97 L232.655 1455.6 L224.345 1457.27 L224.345 1453.01 L232.609 1451.34 L237.285 1451.34 L237.285 1481.97 L244.924 1481.97 L244.924 1485.9 L225.016 1485.9 L225.016 1481.97 Z\" fill=\"#000000\" fill-rule=\"evenodd\" fill-opacity=\"1\" /><path clip-path=\"url(#clip740)\" d=\"M 0 0 M259.993 1454.42 Q256.382 1454.42 254.553 1457.99 Q252.748 1461.53 252.748 1468.66 Q252.748 1475.77 254.553 1479.33 Q256.382 1482.87 259.993 1482.87 Q263.627 1482.87 265.433 1479.33 Q267.262 1475.77 267.262 1468.66 Q267.262 1461.53 265.433 1457.99 Q263.627 1454.42 259.993 1454.42 M259.993 1450.72 Q265.803 1450.72 268.859 1455.33 Q271.938 1459.91 271.938 1468.66 Q271.938 1477.39 268.859 1481.99 Q265.803 1486.58 259.993 1486.58 Q254.183 1486.58 251.104 1481.99 Q248.049 1477.39 248.049 1468.66 Q248.049 1459.91 251.104 1455.33 Q254.183 1450.72 259.993 1450.72 Z\" fill=\"#000000\" fill-rule=\"evenodd\" fill-opacity=\"1\" /><path clip-path=\"url(#clip740)\" d=\"M 0 0 M271.938 1444.82 L296.049 1444.82 L296.049 1448.02 L271.938 1448.02 L271.938 1444.82 Z\" fill=\"#000000\" fill-rule=\"evenodd\" fill-opacity=\"1\" /><path clip-path=\"url(#clip740)\" d=\"M 0 0 M311.678 1443.35 Q314.405 1443.94 315.929 1445.78 Q317.471 1447.62 317.471 1450.33 Q317.471 1454.49 314.612 1456.76 Q311.754 1459.04 306.487 1459.04 Q304.719 1459.04 302.839 1458.68 Q300.977 1458.34 298.983 1457.65 L298.983 1453.98 Q300.563 1454.9 302.444 1455.37 Q304.325 1455.84 306.375 1455.84 Q309.948 1455.84 311.81 1454.43 Q313.691 1453.02 313.691 1450.33 Q313.691 1447.85 311.942 1446.46 Q310.211 1445.05 307.108 1445.05 L303.836 1445.05 L303.836 1441.92 L307.259 1441.92 Q310.061 1441.92 311.547 1440.81 Q313.033 1439.69 313.033 1437.58 Q313.033 1435.42 311.49 1434.27 Q309.967 1433.1 307.108 1433.1 Q305.547 1433.1 303.76 1433.44 Q301.974 1433.78 299.829 1434.49 L299.829 1431.11 Q301.992 1430.51 303.873 1430.21 Q305.773 1429.91 307.447 1429.91 Q311.772 1429.91 314.293 1431.88 Q316.813 1433.84 316.813 1437.18 Q316.813 1439.52 315.478 1441.13 Q314.142 1442.73 311.678 1443.35 Z\" fill=\"#000000\" fill-rule=\"evenodd\" fill-opacity=\"1\" /><path clip-path=\"url(#clip740)\" d=\"M 0 0 M672.452 1481.97 L680.091 1481.97 L680.091 1455.6 L671.781 1457.27 L671.781 1453.01 L680.045 1451.34 L684.721 1451.34 L684.721 1481.97 L692.36 1481.97 L692.36 1485.9 L672.452 1485.9 L672.452 1481.97 Z\" fill=\"#000000\" fill-rule=\"evenodd\" fill-opacity=\"1\" /><path clip-path=\"url(#clip740)\" d=\"M 0 0 M707.429 1454.42 Q703.818 1454.42 701.989 1457.99 Q700.184 1461.53 700.184 1468.66 Q700.184 1475.77 701.989 1479.33 Q703.818 1482.87 707.429 1482.87 Q711.063 1482.87 712.869 1479.33 Q714.698 1475.77 714.698 1468.66 Q714.698 1461.53 712.869 1457.99 Q711.063 1454.42 707.429 1454.42 M707.429 1450.72 Q713.239 1450.72 716.295 1455.33 Q719.374 1459.91 719.374 1468.66 Q719.374 1477.39 716.295 1481.99 Q713.239 1486.58 707.429 1486.58 Q701.619 1486.58 698.54 1481.99 Q695.485 1477.39 695.485 1468.66 Q695.485 1459.91 698.54 1455.33 Q701.619 1450.72 707.429 1450.72 Z\" fill=\"#000000\" fill-rule=\"evenodd\" fill-opacity=\"1\" /><path clip-path=\"url(#clip740)\" d=\"M 0 0 M719.374 1444.82 L743.485 1444.82 L743.485 1448.02 L719.374 1448.02 L719.374 1444.82 Z\" fill=\"#000000\" fill-rule=\"evenodd\" fill-opacity=\"1\" /><path clip-path=\"url(#clip740)\" d=\"M 0 0 M750.877 1455.3 L764.136 1455.3 L764.136 1458.49 L746.306 1458.49 L746.306 1455.3 Q748.469 1453.06 752.193 1449.3 Q755.936 1445.52 756.895 1444.43 Q758.719 1442.38 759.434 1440.96 Q760.168 1439.54 760.168 1438.16 Q760.168 1435.92 758.588 1434.51 Q757.027 1433.1 754.506 1433.1 Q752.72 1433.1 750.726 1433.72 Q748.751 1434.34 746.494 1435.6 L746.494 1431.77 Q748.789 1430.85 750.782 1430.38 Q752.776 1429.91 754.431 1429.91 Q758.795 1429.91 761.39 1432.09 Q763.986 1434.27 763.986 1437.92 Q763.986 1439.65 763.327 1441.21 Q762.688 1442.75 760.976 1444.86 Q760.506 1445.4 757.986 1448.02 Q755.466 1450.61 750.877 1455.3 Z\" fill=\"#000000\" fill-rule=\"evenodd\" fill-opacity=\"1\" /><path clip-path=\"url(#clip740)\" d=\"M 0 0 M1119.35 1481.97 L1126.99 1481.97 L1126.99 1455.6 L1118.68 1457.27 L1118.68 1453.01 L1126.94 1451.34 L1131.62 1451.34 L1131.62 1481.97 L1139.26 1481.97 L1139.26 1485.9 L1119.35 1485.9 L1119.35 1481.97 Z\" fill=\"#000000\" fill-rule=\"evenodd\" fill-opacity=\"1\" /><path clip-path=\"url(#clip740)\" d=\"M 0 0 M1154.33 1454.42 Q1150.72 1454.42 1148.89 1457.99 Q1147.08 1461.53 1147.08 1468.66 Q1147.08 1475.77 1148.89 1479.33 Q1150.72 1482.87 1154.33 1482.87 Q1157.96 1482.87 1159.77 1479.33 Q1161.6 1475.77 1161.6 1468.66 Q1161.6 1461.53 1159.77 1457.99 Q1157.96 1454.42 1154.33 1454.42 M1154.33 1450.72 Q1160.14 1450.72 1163.19 1455.33 Q1166.27 1459.91 1166.27 1468.66 Q1166.27 1477.39 1163.19 1481.99 Q1160.14 1486.58 1154.33 1486.58 Q1148.52 1486.58 1145.44 1481.99 Q1142.38 1477.39 1142.38 1468.66 Q1142.38 1459.91 1145.44 1455.33 Q1148.52 1450.72 1154.33 1450.72 Z\" fill=\"#000000\" fill-rule=\"evenodd\" fill-opacity=\"1\" /><path clip-path=\"url(#clip740)\" d=\"M 0 0 M1166.27 1444.82 L1190.39 1444.82 L1190.39 1448.02 L1166.27 1448.02 L1166.27 1444.82 Z\" fill=\"#000000\" fill-rule=\"evenodd\" fill-opacity=\"1\" /><path clip-path=\"url(#clip740)\" d=\"M 0 0 M1195.16 1455.3 L1201.37 1455.3 L1201.37 1433.87 L1194.62 1435.23 L1194.62 1431.77 L1201.33 1430.41 L1205.13 1430.41 L1205.13 1455.3 L1211.34 1455.3 L1211.34 1458.49 L1195.16 1458.49 L1195.16 1455.3 Z\" fill=\"#000000\" fill-rule=\"evenodd\" fill-opacity=\"1\" /><path clip-path=\"url(#clip740)\" d=\"M 0 0 M1579.23 1481.97 L1586.87 1481.97 L1586.87 1455.6 L1578.56 1457.27 L1578.56 1453.01 L1586.82 1451.34 L1591.5 1451.34 L1591.5 1481.97 L1599.14 1481.97 L1599.14 1485.9 L1579.23 1485.9 L1579.23 1481.97 Z\" fill=\"#000000\" fill-rule=\"evenodd\" fill-opacity=\"1\" /><path clip-path=\"url(#clip740)\" d=\"M 0 0 M1614.21 1454.42 Q1610.6 1454.42 1608.77 1457.99 Q1606.96 1461.53 1606.96 1468.66 Q1606.96 1475.77 1608.77 1479.33 Q1610.6 1482.87 1614.21 1482.87 Q1617.84 1482.87 1619.65 1479.33 Q1621.47 1475.77 1621.47 1468.66 Q1621.47 1461.53 1619.65 1457.99 Q1617.84 1454.42 1614.21 1454.42 M1614.21 1450.72 Q1620.02 1450.72 1623.07 1455.33 Q1626.15 1459.91 1626.15 1468.66 Q1626.15 1477.39 1623.07 1481.99 Q1620.02 1486.58 1614.21 1486.58 Q1608.4 1486.58 1605.32 1481.99 Q1602.26 1477.39 1602.26 1468.66 Q1602.26 1459.91 1605.32 1455.33 Q1608.4 1450.72 1614.21 1450.72 Z\" fill=\"#000000\" fill-rule=\"evenodd\" fill-opacity=\"1\" /><path clip-path=\"url(#clip740)\" d=\"M 0 0 M1635.86 1432.91 Q1632.92 1432.91 1631.44 1435.81 Q1629.97 1438.69 1629.97 1444.48 Q1629.97 1450.26 1631.44 1453.15 Q1632.92 1456.03 1635.86 1456.03 Q1638.81 1456.03 1640.28 1453.15 Q1641.76 1450.26 1641.76 1444.48 Q1641.76 1438.69 1640.28 1435.81 Q1638.81 1432.91 1635.86 1432.91 M1635.86 1429.91 Q1640.58 1429.91 1643.06 1433.65 Q1645.56 1437.37 1645.56 1444.48 Q1645.56 1451.57 1643.06 1455.31 Q1640.58 1459.04 1635.86 1459.04 Q1631.13 1459.04 1628.63 1455.31 Q1626.15 1451.57 1626.15 1444.48 Q1626.15 1437.37 1628.63 1433.65 Q1631.13 1429.91 1635.86 1429.91 Z\" fill=\"#000000\" fill-rule=\"evenodd\" fill-opacity=\"1\" /><path clip-path=\"url(#clip740)\" d=\"M 0 0 M2027.62 1481.97 L2035.26 1481.97 L2035.26 1455.6 L2026.95 1457.27 L2026.95 1453.01 L2035.22 1451.34 L2039.89 1451.34 L2039.89 1481.97 L2047.53 1481.97 L2047.53 1485.9 L2027.62 1485.9 L2027.62 1481.97 Z\" fill=\"#000000\" fill-rule=\"evenodd\" fill-opacity=\"1\" /><path clip-path=\"url(#clip740)\" d=\"M 0 0 M2062.6 1454.42 Q2058.99 1454.42 2057.16 1457.99 Q2055.36 1461.53 2055.36 1468.66 Q2055.36 1475.77 2057.16 1479.33 Q2058.99 1482.87 2062.6 1482.87 Q2066.24 1482.87 2068.04 1479.33 Q2069.87 1475.77 2069.87 1468.66 Q2069.87 1461.53 2068.04 1457.99 Q2066.24 1454.42 2062.6 1454.42 M2062.6 1450.72 Q2068.41 1450.72 2071.47 1455.33 Q2074.55 1459.91 2074.55 1468.66 Q2074.55 1477.39 2071.47 1481.99 Q2068.41 1486.58 2062.6 1486.58 Q2056.79 1486.58 2053.71 1481.99 Q2050.66 1477.39 2050.66 1468.66 Q2050.66 1459.91 2053.71 1455.33 Q2056.79 1450.72 2062.6 1450.72 Z\" fill=\"#000000\" fill-rule=\"evenodd\" fill-opacity=\"1\" /><path clip-path=\"url(#clip740)\" d=\"M 0 0 M2075.09 1455.3 L2081.3 1455.3 L2081.3 1433.87 L2074.55 1435.23 L2074.55 1431.77 L2081.26 1430.41 L2085.06 1430.41 L2085.06 1455.3 L2091.27 1455.3 L2091.27 1458.49 L2075.09 1458.49 L2075.09 1455.3 Z\" fill=\"#000000\" fill-rule=\"evenodd\" fill-opacity=\"1\" /><path clip-path=\"url(#clip740)\" d=\"M 0 0 M126.931 1392.1 L134.57 1392.1 L134.57 1365.73 L126.26 1367.4 L126.26 1363.14 L134.524 1361.47 L139.2 1361.47 L139.2 1392.1 L146.839 1392.1 L146.839 1396.03 L126.931 1396.03 L126.931 1392.1 Z\" fill=\"#000000\" fill-rule=\"evenodd\" fill-opacity=\"1\" /><path clip-path=\"url(#clip740)\" d=\"M 0 0 M161.908 1364.55 Q158.297 1364.55 156.468 1368.11 Q154.663 1371.66 154.663 1378.79 Q154.663 1385.89 156.468 1389.46 Q158.297 1393 161.908 1393 Q165.542 1393 167.348 1389.46 Q169.177 1385.89 169.177 1378.79 Q169.177 1371.66 167.348 1368.11 Q165.542 1364.55 161.908 1364.55 M161.908 1360.85 Q167.718 1360.85 170.774 1365.45 Q173.852 1370.04 173.852 1378.79 Q173.852 1387.51 170.774 1392.12 Q167.718 1396.7 161.908 1396.7 Q156.098 1396.7 153.019 1392.12 Q149.964 1387.51 149.964 1378.79 Q149.964 1370.04 153.019 1365.45 Q156.098 1360.85 161.908 1360.85 Z\" fill=\"#000000\" fill-rule=\"evenodd\" fill-opacity=\"1\" /><path clip-path=\"url(#clip740)\" d=\"M 0 0 M183.557 1343.04 Q180.623 1343.04 179.137 1345.94 Q177.67 1348.82 177.67 1354.61 Q177.67 1360.38 179.137 1363.28 Q180.623 1366.16 183.557 1366.16 Q186.51 1366.16 187.977 1363.28 Q189.463 1360.38 189.463 1354.61 Q189.463 1348.82 187.977 1345.94 Q186.51 1343.04 183.557 1343.04 M183.557 1340.03 Q188.278 1340.03 190.761 1343.77 Q193.262 1347.5 193.262 1354.61 Q193.262 1361.7 190.761 1365.44 Q188.278 1369.17 183.557 1369.17 Q178.837 1369.17 176.335 1365.44 Q173.852 1361.7 173.852 1354.61 Q173.852 1347.5 176.335 1343.77 Q178.837 1340.03 183.557 1340.03 Z\" fill=\"#000000\" fill-rule=\"evenodd\" fill-opacity=\"1\" /><path clip-path=\"url(#clip740)\" d=\"M 0 0 M129.621 963.274 L137.26 963.274 L137.26 936.908 L128.95 938.575 L128.95 934.315 L137.214 932.649 L141.889 932.649 L141.889 963.274 L149.528 963.274 L149.528 967.209 L129.621 967.209 L129.621 963.274 Z\" fill=\"#000000\" fill-rule=\"evenodd\" fill-opacity=\"1\" /><path clip-path=\"url(#clip740)\" d=\"M 0 0 M164.598 935.727 Q160.987 935.727 159.158 939.292 Q157.352 942.834 157.352 949.963 Q157.352 957.07 159.158 960.635 Q160.987 964.176 164.598 964.176 Q168.232 964.176 170.037 960.635 Q171.866 957.07 171.866 949.963 Q171.866 942.834 170.037 939.292 Q168.232 935.727 164.598 935.727 M164.598 932.024 Q170.408 932.024 173.463 936.63 Q176.542 941.214 176.542 949.963 Q176.542 958.69 173.463 963.297 Q170.408 967.88 164.598 967.88 Q158.787 967.88 155.709 963.297 Q152.653 958.69 152.653 949.963 Q152.653 941.214 155.709 936.63 Q158.787 932.024 164.598 932.024 Z\" fill=\"#000000\" fill-rule=\"evenodd\" fill-opacity=\"1\" /><path clip-path=\"url(#clip740)\" d=\"M 0 0 M177.087 936.601 L183.294 936.601 L183.294 915.179 L176.542 916.533 L176.542 913.073 L183.256 911.718 L187.056 911.718 L187.056 936.601 L193.262 936.601 L193.262 939.798 L177.087 939.798 L177.087 936.601 Z\" fill=\"#000000\" fill-rule=\"evenodd\" fill-opacity=\"1\" /><path clip-path=\"url(#clip740)\" d=\"M 0 0 M128.511 534.452 L136.15 534.452 L136.15 508.086 L127.84 509.753 L127.84 505.494 L136.104 503.827 L140.78 503.827 L140.78 534.452 L148.419 534.452 L148.419 538.387 L128.511 538.387 L128.511 534.452 Z\" fill=\"#000000\" fill-rule=\"evenodd\" fill-opacity=\"1\" /><path clip-path=\"url(#clip740)\" d=\"M 0 0 M163.488 506.906 Q159.877 506.906 158.048 510.471 Q156.243 514.012 156.243 521.142 Q156.243 528.248 158.048 531.813 Q159.877 535.355 163.488 535.355 Q167.122 535.355 168.928 531.813 Q170.756 528.248 170.756 521.142 Q170.756 514.012 168.928 510.471 Q167.122 506.906 163.488 506.906 M163.488 503.202 Q169.298 503.202 172.354 507.809 Q175.432 512.392 175.432 521.142 Q175.432 529.869 172.354 534.475 Q169.298 539.058 163.488 539.058 Q157.678 539.058 154.599 534.475 Q151.544 529.869 151.544 521.142 Q151.544 512.392 154.599 507.809 Q157.678 503.202 163.488 503.202 Z\" fill=\"#000000\" fill-rule=\"evenodd\" fill-opacity=\"1\" /><path clip-path=\"url(#clip740)\" d=\"M 0 0 M180.003 507.779 L193.262 507.779 L193.262 510.977 L175.432 510.977 L175.432 507.779 Q177.595 505.541 181.319 501.78 Q185.062 497.999 186.021 496.909 Q187.845 494.859 188.56 493.448 Q189.294 492.019 189.294 490.646 Q189.294 488.407 187.714 486.997 Q186.153 485.586 183.633 485.586 Q181.846 485.586 179.852 486.207 Q177.877 486.828 175.62 488.088 L175.62 484.251 Q177.915 483.329 179.909 482.859 Q181.902 482.389 183.557 482.389 Q187.921 482.389 190.516 484.571 Q193.112 486.752 193.112 490.401 Q193.112 492.131 192.453 493.692 Q191.814 495.235 190.102 497.341 Q189.632 497.887 187.112 500.501 Q184.592 503.096 180.003 507.779 Z\" fill=\"#000000\" fill-rule=\"evenodd\" fill-opacity=\"1\" /><path clip-path=\"url(#clip740)\" d=\"M 0 0 M127.853 105.63 L135.492 105.63 L135.492 79.2649 L127.182 80.9315 L127.182 76.6723 L135.446 75.0056 L140.121 75.0056 L140.121 105.63 L147.76 105.63 L147.76 109.566 L127.853 109.566 L127.853 105.63 Z\" fill=\"#000000\" fill-rule=\"evenodd\" fill-opacity=\"1\" /><path clip-path=\"url(#clip740)\" d=\"M 0 0 M162.83 78.0843 Q159.219 78.0843 157.39 81.6491 Q155.584 85.1908 155.584 92.3204 Q155.584 99.4268 157.39 102.992 Q159.219 106.533 162.83 106.533 Q166.464 106.533 168.269 102.992 Q170.098 99.4268 170.098 92.3204 Q170.098 85.1908 168.269 81.6491 Q166.464 78.0843 162.83 78.0843 M162.83 74.3806 Q168.64 74.3806 171.695 78.9871 Q174.774 83.5704 174.774 92.3204 Q174.774 101.047 171.695 105.654 Q168.64 110.237 162.83 110.237 Q157.02 110.237 153.941 105.654 Q150.885 101.047 150.885 92.3204 Q150.885 83.5704 153.941 78.9871 Q157.02 74.3806 162.83 74.3806 Z\" fill=\"#000000\" fill-rule=\"evenodd\" fill-opacity=\"1\" /><path clip-path=\"url(#clip740)\" d=\"M 0 0 M187.469 67.015 Q190.196 67.598 191.72 69.4412 Q193.262 71.2843 193.262 73.9927 Q193.262 78.1492 190.403 80.4249 Q187.545 82.7007 182.278 82.7007 Q180.51 82.7007 178.63 82.3433 Q176.768 82.0048 174.774 81.3089 L174.774 77.6414 Q176.354 78.563 178.235 79.0331 Q180.115 79.5033 182.166 79.5033 Q185.739 79.5033 187.601 78.0928 Q189.482 76.6822 189.482 73.9927 Q189.482 71.51 187.733 70.1183 Q186.002 68.7077 182.899 68.7077 L179.626 68.7077 L179.626 65.5856 L183.049 65.5856 Q185.852 65.5856 187.338 64.4759 Q188.823 63.3475 188.823 61.241 Q188.823 59.0781 187.281 57.9308 Q185.758 56.7647 182.899 56.7647 Q181.338 56.7647 179.551 57.1033 Q177.765 57.4418 175.62 58.1565 L175.62 54.7711 Q177.783 54.1693 179.664 53.8683 Q181.564 53.5674 183.238 53.5674 Q187.563 53.5674 190.084 55.5422 Q192.604 57.4982 192.604 60.846 Q192.604 63.1782 191.268 64.7957 Q189.933 66.3943 187.469 67.015 Z\" fill=\"#000000\" fill-rule=\"evenodd\" fill-opacity=\"1\" /><path clip-path=\"url(#clip740)\" d=\"M 0 0 M977.077 1512.66 L982.934 1512.66 L982.934 1562.19 L977.077 1562.19 L977.077 1512.66 Z\" fill=\"#000000\" fill-rule=\"evenodd\" fill-opacity=\"1\" /><path clip-path=\"url(#clip740)\" d=\"M 0 0 M1019.57 1542.9 L1019.57 1545.76 L992.642 1545.76 Q993.024 1551.81 996.27 1554.99 Q999.548 1558.14 1005.37 1558.14 Q1008.75 1558.14 1011.9 1557.32 Q1015.08 1556.49 1018.2 1554.83 L1018.2 1560.37 Q1015.05 1561.71 1011.74 1562.41 Q1008.43 1563.11 1005.02 1563.11 Q996.493 1563.11 991.496 1558.14 Q986.531 1553.18 986.531 1544.71 Q986.531 1535.96 991.241 1530.83 Q995.984 1525.68 1004 1525.68 Q1011.2 1525.68 1015.37 1530.33 Q1019.57 1534.94 1019.57 1542.9 M1013.71 1541.18 Q1013.65 1536.37 1011.01 1533.51 Q1008.4 1530.64 1004.07 1530.64 Q999.166 1530.64 996.206 1533.41 Q993.278 1536.18 992.833 1541.21 L1013.71 1541.18 Z\" fill=\"#000000\" fill-rule=\"evenodd\" fill-opacity=\"1\" /><path clip-path=\"url(#clip740)\" d=\"M 0 0 M1041.91 1544.27 Q1034.81 1544.27 1032.08 1545.89 Q1029.34 1547.51 1029.34 1551.43 Q1029.34 1554.55 1031.38 1556.39 Q1033.45 1558.21 1036.98 1558.21 Q1041.85 1558.21 1044.78 1554.77 Q1047.74 1551.3 1047.74 1545.57 L1047.74 1544.27 L1041.91 1544.27 M1053.59 1541.85 L1053.59 1562.19 L1047.74 1562.19 L1047.74 1556.77 Q1045.73 1560.02 1042.74 1561.58 Q1039.75 1563.11 1035.42 1563.11 Q1029.94 1563.11 1026.7 1560.05 Q1023.48 1556.97 1023.48 1551.81 Q1023.48 1545.79 1027.49 1542.74 Q1031.54 1539.68 1039.53 1539.68 L1047.74 1539.68 L1047.74 1539.11 Q1047.74 1535.07 1045.06 1532.87 Q1042.42 1530.64 1037.62 1530.64 Q1034.56 1530.64 1031.66 1531.38 Q1028.77 1532.11 1026.09 1533.57 L1026.09 1528.16 Q1029.31 1526.92 1032.33 1526.31 Q1035.36 1525.68 1038.22 1525.68 Q1045.95 1525.68 1049.77 1529.69 Q1053.59 1533.7 1053.59 1541.85 Z\" fill=\"#000000\" fill-rule=\"evenodd\" fill-opacity=\"1\" /><path clip-path=\"url(#clip740)\" d=\"M 0 0 M1080.39 1532.01 Q1079.41 1531.44 1078.23 1531.18 Q1077.08 1530.9 1075.68 1530.9 Q1070.72 1530.9 1068.04 1534.14 Q1065.4 1537.36 1065.4 1543.41 L1065.4 1562.19 L1059.51 1562.19 L1059.51 1526.54 L1065.4 1526.54 L1065.4 1532.08 Q1067.25 1528.83 1070.21 1527.27 Q1073.17 1525.68 1077.4 1525.68 Q1078.01 1525.68 1078.74 1525.77 Q1079.47 1525.84 1080.36 1526 L1080.39 1532.01 Z\" fill=\"#000000\" fill-rule=\"evenodd\" fill-opacity=\"1\" /><path clip-path=\"url(#clip740)\" d=\"M 0 0 M1115.02 1540.67 L1115.02 1562.19 L1109.17 1562.19 L1109.17 1540.86 Q1109.17 1535.8 1107.19 1533.29 Q1105.22 1530.77 1101.27 1530.77 Q1096.53 1530.77 1093.79 1533.79 Q1091.06 1536.82 1091.06 1542.04 L1091.06 1562.19 L1085.17 1562.19 L1085.17 1526.54 L1091.06 1526.54 L1091.06 1532.08 Q1093.16 1528.86 1095.99 1527.27 Q1098.85 1525.68 1102.58 1525.68 Q1108.72 1525.68 1111.87 1529.5 Q1115.02 1533.29 1115.02 1540.67 Z\" fill=\"#000000\" fill-rule=\"evenodd\" fill-opacity=\"1\" /><path clip-path=\"url(#clip740)\" d=\"M 0 0 M1121.17 1526.54 L1127.02 1526.54 L1127.02 1562.19 L1121.17 1562.19 L1121.17 1526.54 M1121.17 1512.66 L1127.02 1512.66 L1127.02 1520.08 L1121.17 1520.08 L1121.17 1512.66 Z\" fill=\"#000000\" fill-rule=\"evenodd\" fill-opacity=\"1\" /><path clip-path=\"url(#clip740)\" d=\"M 0 0 M1162.8 1540.67 L1162.8 1562.19 L1156.94 1562.19 L1156.94 1540.86 Q1156.94 1535.8 1154.97 1533.29 Q1152.99 1530.77 1149.05 1530.77 Q1144.3 1530.77 1141.57 1533.79 Q1138.83 1536.82 1138.83 1542.04 L1138.83 1562.19 L1132.94 1562.19 L1132.94 1526.54 L1138.83 1526.54 L1138.83 1532.08 Q1140.93 1528.86 1143.76 1527.27 Q1146.63 1525.68 1150.35 1525.68 Q1156.49 1525.68 1159.65 1529.5 Q1162.8 1533.29 1162.8 1540.67 Z\" fill=\"#000000\" fill-rule=\"evenodd\" fill-opacity=\"1\" /><path clip-path=\"url(#clip740)\" d=\"M 0 0 M1192.4 1543.95 Q1192.4 1537.58 1189.76 1534.08 Q1187.15 1530.58 1182.4 1530.58 Q1177.69 1530.58 1175.05 1534.08 Q1172.44 1537.58 1172.44 1543.95 Q1172.44 1550.28 1175.05 1553.78 Q1177.69 1557.28 1182.4 1557.28 Q1187.15 1557.28 1189.76 1553.78 Q1192.4 1550.28 1192.4 1543.95 M1198.25 1557.76 Q1198.25 1566.86 1194.21 1571.29 Q1190.17 1575.74 1181.83 1575.74 Q1178.74 1575.74 1176.01 1575.27 Q1173.27 1574.82 1170.69 1573.87 L1170.69 1568.17 Q1173.27 1569.57 1175.78 1570.24 Q1178.3 1570.91 1180.91 1570.91 Q1186.67 1570.91 1189.53 1567.88 Q1192.4 1564.89 1192.4 1558.81 L1192.4 1555.92 Q1190.58 1559.07 1187.75 1560.63 Q1184.92 1562.19 1180.97 1562.19 Q1174.41 1562.19 1170.4 1557.19 Q1166.39 1552.19 1166.39 1543.95 Q1166.39 1535.67 1170.4 1530.68 Q1174.41 1525.68 1180.97 1525.68 Q1184.92 1525.68 1187.75 1527.24 Q1190.58 1528.8 1192.4 1531.95 L1192.4 1526.54 L1198.25 1526.54 L1198.25 1557.76 Z\" fill=\"#000000\" fill-rule=\"evenodd\" fill-opacity=\"1\" /><path clip-path=\"url(#clip740)\" d=\"M 0 0 M1231.48 1573.01 L1231.48 1577.56 L1197.62 1577.56 L1197.62 1573.01 L1231.48 1573.01 Z\" fill=\"#000000\" fill-rule=\"evenodd\" fill-opacity=\"1\" /><path clip-path=\"url(#clip740)\" d=\"M 0 0 M1258.28 1532.01 Q1257.3 1531.44 1256.12 1531.18 Q1254.97 1530.9 1253.57 1530.9 Q1248.61 1530.9 1245.93 1534.14 Q1243.29 1537.36 1243.29 1543.41 L1243.29 1562.19 L1237.4 1562.19 L1237.4 1526.54 L1243.29 1526.54 L1243.29 1532.08 Q1245.14 1528.83 1248.1 1527.27 Q1251.06 1525.68 1255.29 1525.68 Q1255.9 1525.68 1256.63 1525.77 Q1257.36 1525.84 1258.25 1526 L1258.28 1532.01 Z\" fill=\"#000000\" fill-rule=\"evenodd\" fill-opacity=\"1\" /><path clip-path=\"url(#clip740)\" d=\"M 0 0 M1280.63 1544.27 Q1273.53 1544.27 1270.79 1545.89 Q1268.05 1547.51 1268.05 1551.43 Q1268.05 1554.55 1270.09 1556.39 Q1272.16 1558.21 1275.69 1558.21 Q1280.56 1558.21 1283.49 1554.77 Q1286.45 1551.3 1286.45 1545.57 L1286.45 1544.27 L1280.63 1544.27 M1292.31 1541.85 L1292.31 1562.19 L1286.45 1562.19 L1286.45 1556.77 Q1284.45 1560.02 1281.45 1561.58 Q1278.46 1563.11 1274.13 1563.11 Q1268.66 1563.11 1265.41 1560.05 Q1262.2 1556.97 1262.2 1551.81 Q1262.2 1545.79 1266.21 1542.74 Q1270.25 1539.68 1278.24 1539.68 L1286.45 1539.68 L1286.45 1539.11 Q1286.45 1535.07 1283.78 1532.87 Q1281.14 1530.64 1276.33 1530.64 Q1273.27 1530.64 1270.38 1531.38 Q1267.48 1532.11 1264.81 1533.57 L1264.81 1528.16 Q1268.02 1526.92 1271.05 1526.31 Q1274.07 1525.68 1276.93 1525.68 Q1284.67 1525.68 1288.49 1529.69 Q1292.31 1533.7 1292.31 1541.85 Z\" fill=\"#000000\" fill-rule=\"evenodd\" fill-opacity=\"1\" /><path clip-path=\"url(#clip740)\" d=\"M 0 0 M1304.24 1516.42 L1304.24 1526.54 L1316.31 1526.54 L1316.31 1531.09 L1304.24 1531.09 L1304.24 1550.44 Q1304.24 1554.8 1305.42 1556.04 Q1306.63 1557.28 1310.29 1557.28 L1316.31 1557.28 L1316.31 1562.19 L1310.29 1562.19 Q1303.51 1562.19 1300.93 1559.67 Q1298.35 1557.12 1298.35 1550.44 L1298.35 1531.09 L1294.06 1531.09 L1294.06 1526.54 L1298.35 1526.54 L1298.35 1516.42 L1304.24 1516.42 Z\" fill=\"#000000\" fill-rule=\"evenodd\" fill-opacity=\"1\" /><path clip-path=\"url(#clip740)\" d=\"M 0 0 M1352.94 1542.9 L1352.94 1545.76 L1326.01 1545.76 Q1326.4 1551.81 1329.64 1554.99 Q1332.92 1558.14 1338.75 1558.14 Q1342.12 1558.14 1345.27 1557.32 Q1348.45 1556.49 1351.57 1554.83 L1351.57 1560.37 Q1348.42 1561.71 1345.11 1562.41 Q1341.8 1563.11 1338.39 1563.11 Q1329.86 1563.11 1324.87 1558.14 Q1319.9 1553.18 1319.9 1544.71 Q1319.9 1535.96 1324.61 1530.83 Q1329.36 1525.68 1337.38 1525.68 Q1344.57 1525.68 1348.74 1530.33 Q1352.94 1534.94 1352.94 1542.9 M1347.08 1541.18 Q1347.02 1536.37 1344.38 1533.51 Q1341.77 1530.64 1337.44 1530.64 Q1332.54 1530.64 1329.58 1533.41 Q1326.65 1536.18 1326.2 1541.21 L1347.08 1541.18 Z\" fill=\"#000000\" fill-rule=\"evenodd\" fill-opacity=\"1\" /><path clip-path=\"url(#clip740)\" d=\"M 0 0 M66.4881 887.401 L88.0042 887.401 L88.0042 893.258 L66.679 893.258 Q61.6183 893.258 59.1038 895.231 Q56.5894 897.205 56.5894 901.151 Q56.5894 905.894 59.6131 908.631 Q62.6368 911.368 67.8567 911.368 L88.0042 911.368 L88.0042 917.257 L52.3562 917.257 L52.3562 911.368 L57.8944 911.368 Q54.6797 909.268 53.0883 906.435 Q51.4968 903.57 51.4968 899.846 Q51.4968 893.703 55.3163 890.552 Q59.1038 887.401 66.4881 887.401 Z\" fill=\"#000000\" fill-rule=\"evenodd\" fill-opacity=\"1\" /><path clip-path=\"url(#clip740)\" d=\"M 0 0 M98.8259 854.172 L103.377 854.172 L103.377 888.038 L98.8259 888.038 L98.8259 854.172 Z\" fill=\"#000000\" fill-rule=\"evenodd\" fill-opacity=\"1\" /><path clip-path=\"url(#clip740)\" d=\"M 0 0 M68.7161 817.538 L71.5806 817.538 L71.5806 844.465 Q77.6281 844.083 80.8109 840.836 Q83.9619 837.558 83.9619 831.733 Q83.9619 828.359 83.1344 825.208 Q82.3069 822.026 80.6518 818.906 L86.1899 818.906 Q87.5267 822.057 88.227 825.368 Q88.9272 828.678 88.9272 832.083 Q88.9272 840.613 83.9619 845.611 Q78.9967 850.576 70.5303 850.576 Q61.7774 850.576 56.6531 845.865 Q51.4968 841.123 51.4968 833.102 Q51.4968 825.909 56.1438 821.739 Q60.7589 817.538 68.7161 817.538 M66.9973 823.394 Q62.1912 823.458 59.3266 826.1 Q56.4621 828.71 56.4621 833.038 Q56.4621 837.94 59.2312 840.9 Q62.0002 843.828 67.0292 844.274 L66.9973 823.394 Z\" fill=\"#000000\" fill-rule=\"evenodd\" fill-opacity=\"1\" /><path clip-path=\"url(#clip740)\" d=\"M 0 0 M53.4065 788.669 L58.9447 788.669 Q57.6716 791.152 57.035 793.826 Q56.3984 796.499 56.3984 799.364 Q56.3984 803.724 57.7352 805.92 Q59.072 808.085 61.7456 808.085 Q63.7826 808.085 64.9603 806.525 Q66.1061 804.966 67.1565 800.255 L67.6021 798.25 Q68.9389 792.011 71.3897 789.401 Q73.8086 786.76 78.1691 786.76 Q83.1344 786.76 86.0308 790.706 Q88.9272 794.621 88.9272 801.496 Q88.9272 804.361 88.3543 807.48 Q87.8132 810.567 86.6992 814.005 L80.6518 814.005 Q82.3387 810.758 83.198 807.607 Q84.0256 804.456 84.0256 801.369 Q84.0256 797.231 82.6251 795.003 Q81.1929 792.775 78.6147 792.775 Q76.2276 792.775 74.9545 794.398 Q73.6813 795.99 72.5037 801.433 L72.0262 803.47 Q70.8804 808.912 68.5251 811.331 Q66.138 813.75 62.0002 813.75 Q56.9713 813.75 54.2341 810.185 Q51.4968 806.621 51.4968 800.064 Q51.4968 796.817 51.9743 793.953 Q52.4517 791.088 53.4065 788.669 Z\" fill=\"#000000\" fill-rule=\"evenodd\" fill-opacity=\"1\" /><path clip-path=\"url(#clip740)\" d=\"M 0 0 M42.2347 774.824 L52.3562 774.824 L52.3562 762.761 L56.9077 762.761 L56.9077 774.824 L76.2594 774.824 Q80.6199 774.824 81.8613 773.646 Q83.1026 772.437 83.1026 768.776 L83.1026 762.761 L88.0042 762.761 L88.0042 768.776 Q88.0042 775.556 85.4897 778.134 Q82.9434 780.712 76.2594 780.712 L56.9077 780.712 L56.9077 785.009 L52.3562 785.009 L52.3562 780.712 L42.2347 780.712 L42.2347 774.824 Z\" fill=\"#000000\" fill-rule=\"evenodd\" fill-opacity=\"1\" /><path clip-path=\"url(#clip740)\" d=\"M 0 0 M52.3562 756.618 L52.3562 750.762 L88.0042 750.762 L88.0042 756.618 L52.3562 756.618 M38.479 756.618 L38.479 750.762 L45.895 750.762 L45.895 756.618 L38.479 756.618 Z\" fill=\"#000000\" fill-rule=\"evenodd\" fill-opacity=\"1\" /><path clip-path=\"url(#clip740)\" d=\"M 0 0 M59.1993 716.864 Q55.2526 714.668 53.3747 711.612 Q51.4968 708.557 51.4968 704.419 Q51.4968 698.849 55.4117 695.825 Q59.2948 692.802 66.4881 692.802 L88.0042 692.802 L88.0042 698.69 L66.679 698.69 Q61.5546 698.69 59.072 700.504 Q56.5894 702.318 56.5894 706.042 Q56.5894 710.594 59.6131 713.236 Q62.6368 715.877 67.8567 715.877 L88.0042 715.877 L88.0042 721.766 L66.679 721.766 Q61.5228 721.766 59.072 723.58 Q56.5894 725.394 56.5894 729.182 Q56.5894 733.67 59.6449 736.311 Q62.6686 738.953 67.8567 738.953 L88.0042 738.953 L88.0042 744.841 L52.3562 744.841 L52.3562 738.953 L57.8944 738.953 Q54.616 736.948 53.0564 734.147 Q51.4968 731.346 51.4968 727.495 Q51.4968 723.612 53.4702 720.906 Q55.4436 718.169 59.1993 716.864 Z\" fill=\"#000000\" fill-rule=\"evenodd\" fill-opacity=\"1\" /><path clip-path=\"url(#clip740)\" d=\"M 0 0 M70.0847 670.458 Q70.0847 677.556 71.7079 680.293 Q73.3312 683.03 77.2461 683.03 Q80.3653 683.03 82.2114 680.993 Q84.0256 678.925 84.0256 675.392 Q84.0256 670.522 80.5881 667.594 Q77.1188 664.634 71.3897 664.634 L70.0847 664.634 L70.0847 670.458 M67.6657 658.777 L88.0042 658.777 L88.0042 664.634 L82.5933 664.634 Q85.8398 666.639 87.3994 669.631 Q88.9272 672.622 88.9272 676.951 Q88.9272 682.426 85.8716 685.672 Q82.7843 688.887 77.6281 688.887 Q71.6125 688.887 68.5569 684.876 Q65.5014 680.834 65.5014 672.845 L65.5014 664.634 L64.9285 664.634 Q60.8862 664.634 58.6901 667.307 Q56.4621 669.949 56.4621 674.755 Q56.4621 677.811 57.1941 680.707 Q57.9262 683.603 59.3903 686.277 L53.9795 686.277 Q52.7381 683.062 52.1334 680.039 Q51.4968 677.015 51.4968 674.15 Q51.4968 666.416 55.5072 662.596 Q59.5176 658.777 67.6657 658.777 Z\" fill=\"#000000\" fill-rule=\"evenodd\" fill-opacity=\"1\" /><path clip-path=\"url(#clip740)\" d=\"M 0 0 M42.2347 646.841 L52.3562 646.841 L52.3562 634.778 L56.9077 634.778 L56.9077 646.841 L76.2594 646.841 Q80.6199 646.841 81.8613 645.664 Q83.1026 644.454 83.1026 640.794 L83.1026 634.778 L88.0042 634.778 L88.0042 640.794 Q88.0042 647.573 85.4897 650.152 Q82.9434 652.73 76.2594 652.73 L56.9077 652.73 L56.9077 657.026 L52.3562 657.026 L52.3562 652.73 L42.2347 652.73 L42.2347 646.841 Z\" fill=\"#000000\" fill-rule=\"evenodd\" fill-opacity=\"1\" /><path clip-path=\"url(#clip740)\" d=\"M 0 0 M56.4621 614.822 Q56.4621 619.532 60.1542 622.27 Q63.8145 625.007 70.212 625.007 Q76.6095 625.007 80.3017 622.302 Q83.9619 619.564 83.9619 614.822 Q83.9619 610.143 80.2698 607.406 Q76.5777 604.669 70.212 604.669 Q63.8781 604.669 60.186 607.406 Q56.4621 610.143 56.4621 614.822 M51.4968 614.822 Q51.4968 607.183 56.4621 602.822 Q61.4273 598.462 70.212 598.462 Q78.9649 598.462 83.9619 602.822 Q88.9272 607.183 88.9272 614.822 Q88.9272 622.493 83.9619 626.853 Q78.9649 631.182 70.212 631.182 Q61.4273 631.182 56.4621 626.853 Q51.4968 622.493 51.4968 614.822 Z\" fill=\"#000000\" fill-rule=\"evenodd\" fill-opacity=\"1\" /><path clip-path=\"url(#clip740)\" d=\"M 0 0 M57.8307 571.662 Q57.2578 572.649 57.0032 573.827 Q56.7167 574.973 56.7167 576.373 Q56.7167 581.338 59.9632 584.012 Q63.1779 586.654 69.2253 586.654 L88.0042 586.654 L88.0042 592.542 L52.3562 592.542 L52.3562 586.654 L57.8944 586.654 Q54.6479 584.808 53.0883 581.847 Q51.4968 578.887 51.4968 574.654 Q51.4968 574.049 51.5923 573.317 Q51.656 572.585 51.8151 571.694 L57.8307 571.662 Z\" fill=\"#000000\" fill-rule=\"evenodd\" fill-opacity=\"1\" /><path clip-path=\"url(#clip740)\" d=\"M 0 0 M53.4065 542.794 L58.9447 542.794 Q57.6716 545.277 57.035 547.95 Q56.3984 550.624 56.3984 553.488 Q56.3984 557.849 57.7352 560.045 Q59.072 562.209 61.7456 562.209 Q63.7826 562.209 64.9603 560.65 Q66.1061 559.09 67.1565 554.379 L67.6021 552.374 Q68.9389 546.136 71.3897 543.526 Q73.8086 540.884 78.1691 540.884 Q83.1344 540.884 86.0308 544.831 Q88.9272 548.746 88.9272 555.621 Q88.9272 558.485 88.3543 561.605 Q87.8132 564.692 86.6992 568.129 L80.6518 568.129 Q82.3387 564.883 83.198 561.732 Q84.0256 558.581 84.0256 555.493 Q84.0256 551.356 82.6251 549.128 Q81.1929 546.9 78.6147 546.9 Q76.2276 546.9 74.9545 548.523 Q73.6813 550.114 72.5037 555.557 L72.0262 557.594 Q70.8804 563.037 68.5251 565.456 Q66.138 567.875 62.0002 567.875 Q56.9713 567.875 54.2341 564.31 Q51.4968 560.745 51.4968 554.188 Q51.4968 550.942 51.9743 548.077 Q52.4517 545.213 53.4065 542.794 Z\" fill=\"#000000\" fill-rule=\"evenodd\" fill-opacity=\"1\" /><circle clip-path=\"url(#clip742)\" cx=\"1264.35\" cy=\"943.481\" r=\"4\" fill=\"#000004\" fill-rule=\"evenodd\" fill-opacity=\"1\" stroke=\"#000000\" stroke-opacity=\"1\" stroke-width=\"3.2\"/>\n",
       "<circle clip-path=\"url(#clip742)\" cx=\"1860.42\" cy=\"1372.3\" r=\"4\" fill=\"#000005\" fill-rule=\"evenodd\" fill-opacity=\"1\" stroke=\"#000000\" stroke-opacity=\"1\" stroke-width=\"3.2\"/>\n",
       "<circle clip-path=\"url(#clip742)\" cx=\"469.597\" cy=\"796.643\" r=\"4\" fill=\"#000004\" fill-rule=\"evenodd\" fill-opacity=\"1\" stroke=\"#000000\" stroke-opacity=\"1\" stroke-width=\"3.2\"/>\n",
       "<circle clip-path=\"url(#clip742)\" cx=\"469.597\" cy=\"1372.3\" r=\"4\" fill=\"#000005\" fill-rule=\"evenodd\" fill-opacity=\"1\" stroke=\"#000000\" stroke-opacity=\"1\" stroke-width=\"3.2\"/>\n",
       "<circle clip-path=\"url(#clip742)\" cx=\"2059.11\" cy=\"514.66\" r=\"9\" fill=\"#090620\" fill-rule=\"evenodd\" fill-opacity=\"1\" stroke=\"#000000\" stroke-opacity=\"1\" stroke-width=\"3.2\"/>\n",
       "<circle clip-path=\"url(#clip742)\" cx=\"1264.35\" cy=\"1243.21\" r=\"3\" fill=\"#000003\" fill-rule=\"evenodd\" fill-opacity=\"1\" stroke=\"#000000\" stroke-opacity=\"1\" stroke-width=\"3.2\"/>\n",
       "<circle clip-path=\"url(#clip742)\" cx=\"1264.35\" cy=\"1372.3\" r=\"4\" fill=\"#000005\" fill-rule=\"evenodd\" fill-opacity=\"1\" stroke=\"#000000\" stroke-opacity=\"1\" stroke-width=\"3.2\"/>\n",
       "<circle clip-path=\"url(#clip742)\" cx=\"1661.73\" cy=\"228.842\" r=\"8\" fill=\"#06041a\" fill-rule=\"evenodd\" fill-opacity=\"1\" stroke=\"#000000\" stroke-opacity=\"1\" stroke-width=\"3.2\"/>\n",
       "<circle clip-path=\"url(#clip742)\" cx=\"2059.11\" cy=\"85.838\" r=\"8\" fill=\"#07051d\" fill-rule=\"evenodd\" fill-opacity=\"1\" stroke=\"#000000\" stroke-opacity=\"1\" stroke-width=\"3.2\"/>\n",
       "<circle clip-path=\"url(#clip742)\" cx=\"270.908\" cy=\"1072.57\" r=\"4\" fill=\"#000005\" fill-rule=\"evenodd\" fill-opacity=\"1\" stroke=\"#000000\" stroke-opacity=\"1\" stroke-width=\"3.2\"/>\n",
       "<circle clip-path=\"url(#clip742)\" cx=\"1463.04\" cy=\"659.276\" r=\"6\" fill=\"#02020f\" fill-rule=\"evenodd\" fill-opacity=\"1\" stroke=\"#000000\" stroke-opacity=\"1\" stroke-width=\"3.2\"/>\n",
       "<circle clip-path=\"url(#clip742)\" cx=\"866.975\" cy=\"1372.3\" r=\"4\" fill=\"#000005\" fill-rule=\"evenodd\" fill-opacity=\"1\" stroke=\"#000000\" stroke-opacity=\"1\" stroke-width=\"3.2\"/>\n",
       "<circle clip-path=\"url(#clip742)\" cx=\"1463.04\" cy=\"1372.3\" r=\"4\" fill=\"#000005\" fill-rule=\"evenodd\" fill-opacity=\"1\" stroke=\"#000000\" stroke-opacity=\"1\" stroke-width=\"3.2\"/>\n",
       "<circle clip-path=\"url(#clip742)\" cx=\"270.908\" cy=\"796.643\" r=\"4\" fill=\"#000005\" fill-rule=\"evenodd\" fill-opacity=\"1\" stroke=\"#000000\" stroke-opacity=\"1\" stroke-width=\"3.2\"/>\n",
       "<circle clip-path=\"url(#clip742)\" cx=\"270.908\" cy=\"514.66\" r=\"4\" fill=\"#000004\" fill-rule=\"evenodd\" fill-opacity=\"1\" stroke=\"#000000\" stroke-opacity=\"1\" stroke-width=\"3.2\"/>\n",
       "<circle clip-path=\"url(#clip742)\" cx=\"1860.42\" cy=\"659.276\" r=\"11\" fill=\"#120a31\" fill-rule=\"evenodd\" fill-opacity=\"1\" stroke=\"#000000\" stroke-opacity=\"1\" stroke-width=\"3.2\"/>\n",
       "<circle clip-path=\"url(#clip742)\" cx=\"2059.11\" cy=\"1372.3\" r=\"4\" fill=\"#000005\" fill-rule=\"evenodd\" fill-opacity=\"1\" stroke=\"#000000\" stroke-opacity=\"1\" stroke-width=\"3.2\"/>\n",
       "<circle clip-path=\"url(#clip742)\" cx=\"1065.66\" cy=\"1372.3\" r=\"4\" fill=\"#000005\" fill-rule=\"evenodd\" fill-opacity=\"1\" stroke=\"#000000\" stroke-opacity=\"1\" stroke-width=\"3.2\"/>\n",
       "<circle clip-path=\"url(#clip742)\" cx=\"1065.66\" cy=\"228.842\" r=\"7\" fill=\"#040314\" fill-rule=\"evenodd\" fill-opacity=\"1\" stroke=\"#000000\" stroke-opacity=\"1\" stroke-width=\"3.2\"/>\n",
       "<circle clip-path=\"url(#clip742)\" cx=\"1264.35\" cy=\"514.66\" r=\"6\" fill=\"#030210\" fill-rule=\"evenodd\" fill-opacity=\"1\" stroke=\"#000000\" stroke-opacity=\"1\" stroke-width=\"3.2\"/>\n",
       "<circle clip-path=\"url(#clip742)\" cx=\"270.908\" cy=\"1372.3\" r=\"4\" fill=\"#000005\" fill-rule=\"evenodd\" fill-opacity=\"1\" stroke=\"#000000\" stroke-opacity=\"1\" stroke-width=\"3.2\"/>\n",
       "<circle clip-path=\"url(#clip742)\" cx=\"1065.66\" cy=\"1243.21\" r=\"4\" fill=\"#000004\" fill-rule=\"evenodd\" fill-opacity=\"1\" stroke=\"#000000\" stroke-opacity=\"1\" stroke-width=\"3.2\"/>\n",
       "<circle clip-path=\"url(#clip742)\" cx=\"1065.66\" cy=\"85.838\" r=\"7\" fill=\"#050418\" fill-rule=\"evenodd\" fill-opacity=\"1\" stroke=\"#000000\" stroke-opacity=\"1\" stroke-width=\"3.2\"/>\n",
       "<circle clip-path=\"url(#clip742)\" cx=\"2059.11\" cy=\"943.481\" r=\"21\" fill=\"#430a68\" fill-rule=\"evenodd\" fill-opacity=\"1\" stroke=\"#000000\" stroke-opacity=\"1\" stroke-width=\"3.2\"/>\n",
       "<circle clip-path=\"url(#clip742)\" cx=\"1860.42\" cy=\"1243.21\" r=\"18\" fill=\"#350960\" fill-rule=\"evenodd\" fill-opacity=\"1\" stroke=\"#000000\" stroke-opacity=\"1\" stroke-width=\"3.2\"/>\n",
       "<circle clip-path=\"url(#clip742)\" cx=\"668.286\" cy=\"1072.57\" r=\"4\" fill=\"#000005\" fill-rule=\"evenodd\" fill-opacity=\"1\" stroke=\"#000000\" stroke-opacity=\"1\" stroke-width=\"3.2\"/>\n",
       "<circle clip-path=\"url(#clip742)\" cx=\"1661.73\" cy=\"1243.21\" r=\"4\" fill=\"#010007\" fill-rule=\"evenodd\" fill-opacity=\"1\" stroke=\"#000000\" stroke-opacity=\"1\" stroke-width=\"3.2\"/>\n",
       "<circle clip-path=\"url(#clip742)\" cx=\"1661.73\" cy=\"943.481\" r=\"5\" fill=\"#02010d\" fill-rule=\"evenodd\" fill-opacity=\"1\" stroke=\"#000000\" stroke-opacity=\"1\" stroke-width=\"3.2\"/>\n",
       "<circle clip-path=\"url(#clip742)\" cx=\"2059.11\" cy=\"372.103\" r=\"8\" fill=\"#06041a\" fill-rule=\"evenodd\" fill-opacity=\"1\" stroke=\"#000000\" stroke-opacity=\"1\" stroke-width=\"3.2\"/>\n",
       "<circle clip-path=\"url(#clip742)\" cx=\"1661.73\" cy=\"1072.57\" r=\"4\" fill=\"#010007\" fill-rule=\"evenodd\" fill-opacity=\"1\" stroke=\"#000000\" stroke-opacity=\"1\" stroke-width=\"3.2\"/>\n",
       "<circle clip-path=\"url(#clip742)\" cx=\"866.975\" cy=\"943.481\" r=\"3\" fill=\"#000004\" fill-rule=\"evenodd\" fill-opacity=\"1\" stroke=\"#000000\" stroke-opacity=\"1\" stroke-width=\"3.2\"/>\n",
       "<circle clip-path=\"url(#clip742)\" cx=\"1463.04\" cy=\"796.643\" r=\"6\" fill=\"#02020e\" fill-rule=\"evenodd\" fill-opacity=\"1\" stroke=\"#000000\" stroke-opacity=\"1\" stroke-width=\"3.2\"/>\n",
       "<circle clip-path=\"url(#clip742)\" cx=\"866.975\" cy=\"659.276\" r=\"3\" fill=\"#000004\" fill-rule=\"evenodd\" fill-opacity=\"1\" stroke=\"#000000\" stroke-opacity=\"1\" stroke-width=\"3.2\"/>\n",
       "<circle clip-path=\"url(#clip742)\" cx=\"2059.11\" cy=\"228.842\" r=\"8\" fill=\"#07051d\" fill-rule=\"evenodd\" fill-opacity=\"1\" stroke=\"#000000\" stroke-opacity=\"1\" stroke-width=\"3.2\"/>\n",
       "<circle clip-path=\"url(#clip742)\" cx=\"270.908\" cy=\"372.103\" r=\"3\" fill=\"#000004\" fill-rule=\"evenodd\" fill-opacity=\"1\" stroke=\"#000000\" stroke-opacity=\"1\" stroke-width=\"3.2\"/>\n",
       "<circle clip-path=\"url(#clip742)\" cx=\"1264.35\" cy=\"1072.57\" r=\"3\" fill=\"#000003\" fill-rule=\"evenodd\" fill-opacity=\"1\" stroke=\"#000000\" stroke-opacity=\"1\" stroke-width=\"3.2\"/>\n",
       "<circle clip-path=\"url(#clip742)\" cx=\"1065.66\" cy=\"659.276\" r=\"4\" fill=\"#010007\" fill-rule=\"evenodd\" fill-opacity=\"1\" stroke=\"#000000\" stroke-opacity=\"1\" stroke-width=\"3.2\"/>\n",
       "<circle clip-path=\"url(#clip742)\" cx=\"1463.04\" cy=\"1072.57\" r=\"4\" fill=\"#000005\" fill-rule=\"evenodd\" fill-opacity=\"1\" stroke=\"#000000\" stroke-opacity=\"1\" stroke-width=\"3.2\"/>\n",
       "<circle clip-path=\"url(#clip742)\" cx=\"1065.66\" cy=\"372.103\" r=\"6\" fill=\"#030210\" fill-rule=\"evenodd\" fill-opacity=\"1\" stroke=\"#000000\" stroke-opacity=\"1\" stroke-width=\"3.2\"/>\n",
       "<circle clip-path=\"url(#clip742)\" cx=\"1661.73\" cy=\"659.276\" r=\"7\" fill=\"#040314\" fill-rule=\"evenodd\" fill-opacity=\"1\" stroke=\"#000000\" stroke-opacity=\"1\" stroke-width=\"3.2\"/>\n",
       "<circle clip-path=\"url(#clip742)\" cx=\"1661.73\" cy=\"372.103\" r=\"8\" fill=\"#050419\" fill-rule=\"evenodd\" fill-opacity=\"1\" stroke=\"#000000\" stroke-opacity=\"1\" stroke-width=\"3.2\"/>\n",
       "<circle clip-path=\"url(#clip742)\" cx=\"1264.35\" cy=\"228.842\" r=\"7\" fill=\"#050417\" fill-rule=\"evenodd\" fill-opacity=\"1\" stroke=\"#000000\" stroke-opacity=\"1\" stroke-width=\"3.2\"/>\n",
       "<circle clip-path=\"url(#clip742)\" cx=\"1661.73\" cy=\"1372.3\" r=\"4\" fill=\"#000005\" fill-rule=\"evenodd\" fill-opacity=\"1\" stroke=\"#000000\" stroke-opacity=\"1\" stroke-width=\"3.2\"/>\n",
       "<circle clip-path=\"url(#clip742)\" cx=\"1661.73\" cy=\"796.643\" r=\"7\" fill=\"#030313\" fill-rule=\"evenodd\" fill-opacity=\"1\" stroke=\"#000000\" stroke-opacity=\"1\" stroke-width=\"3.2\"/>\n",
       "<circle clip-path=\"url(#clip742)\" cx=\"1860.42\" cy=\"943.481\" r=\"26\" fill=\"#66156e\" fill-rule=\"evenodd\" fill-opacity=\"1\" stroke=\"#000000\" stroke-opacity=\"1\" stroke-width=\"3.2\"/>\n",
       "<circle clip-path=\"url(#clip742)\" cx=\"1860.42\" cy=\"1072.57\" r=\"14\" fill=\"#1d0c45\" fill-rule=\"evenodd\" fill-opacity=\"1\" stroke=\"#000000\" stroke-opacity=\"1\" stroke-width=\"3.2\"/>\n",
       "<circle clip-path=\"url(#clip742)\" cx=\"1463.04\" cy=\"372.103\" r=\"7\" fill=\"#050317\" fill-rule=\"evenodd\" fill-opacity=\"1\" stroke=\"#000000\" stroke-opacity=\"1\" stroke-width=\"3.2\"/>\n",
       "<circle clip-path=\"url(#clip742)\" cx=\"1463.04\" cy=\"85.838\" r=\"8\" fill=\"#06041a\" fill-rule=\"evenodd\" fill-opacity=\"1\" stroke=\"#000000\" stroke-opacity=\"1\" stroke-width=\"3.2\"/>\n",
       "<circle clip-path=\"url(#clip742)\" cx=\"668.286\" cy=\"372.103\" r=\"4\" fill=\"#000005\" fill-rule=\"evenodd\" fill-opacity=\"1\" stroke=\"#000000\" stroke-opacity=\"1\" stroke-width=\"3.2\"/>\n",
       "<circle clip-path=\"url(#clip742)\" cx=\"1065.66\" cy=\"943.481\" r=\"3\" fill=\"#000003\" fill-rule=\"evenodd\" fill-opacity=\"1\" stroke=\"#000000\" stroke-opacity=\"1\" stroke-width=\"3.2\"/>\n",
       "<circle clip-path=\"url(#clip742)\" cx=\"469.597\" cy=\"85.838\" r=\"4\" fill=\"#010007\" fill-rule=\"evenodd\" fill-opacity=\"1\" stroke=\"#000000\" stroke-opacity=\"1\" stroke-width=\"3.2\"/>\n",
       "<circle clip-path=\"url(#clip742)\" cx=\"270.908\" cy=\"1243.21\" r=\"4\" fill=\"#000005\" fill-rule=\"evenodd\" fill-opacity=\"1\" stroke=\"#000000\" stroke-opacity=\"1\" stroke-width=\"3.2\"/>\n",
       "<circle clip-path=\"url(#clip742)\" cx=\"469.597\" cy=\"1243.21\" r=\"4\" fill=\"#000005\" fill-rule=\"evenodd\" fill-opacity=\"1\" stroke=\"#000000\" stroke-opacity=\"1\" stroke-width=\"3.2\"/>\n",
       "<circle clip-path=\"url(#clip742)\" cx=\"1860.42\" cy=\"85.838\" r=\"8\" fill=\"#07051d\" fill-rule=\"evenodd\" fill-opacity=\"1\" stroke=\"#000000\" stroke-opacity=\"1\" stroke-width=\"3.2\"/>\n",
       "<circle clip-path=\"url(#clip742)\" cx=\"270.908\" cy=\"659.276\" r=\"4\" fill=\"#000005\" fill-rule=\"evenodd\" fill-opacity=\"1\" stroke=\"#000000\" stroke-opacity=\"1\" stroke-width=\"3.2\"/>\n",
       "<circle clip-path=\"url(#clip742)\" cx=\"866.975\" cy=\"85.838\" r=\"7\" fill=\"#040313\" fill-rule=\"evenodd\" fill-opacity=\"1\" stroke=\"#000000\" stroke-opacity=\"1\" stroke-width=\"3.2\"/>\n",
       "<circle clip-path=\"url(#clip742)\" cx=\"668.286\" cy=\"943.481\" r=\"4\" fill=\"#000004\" fill-rule=\"evenodd\" fill-opacity=\"1\" stroke=\"#000000\" stroke-opacity=\"1\" stroke-width=\"3.2\"/>\n",
       "<circle clip-path=\"url(#clip742)\" cx=\"2059.11\" cy=\"1243.21\" r=\"61\" fill=\"#fcfea4\" fill-rule=\"evenodd\" fill-opacity=\"1\" stroke=\"#000000\" stroke-opacity=\"1\" stroke-width=\"3.2\"/>\n",
       "<circle clip-path=\"url(#clip742)\" cx=\"270.908\" cy=\"943.481\" r=\"4\" fill=\"#000005\" fill-rule=\"evenodd\" fill-opacity=\"1\" stroke=\"#000000\" stroke-opacity=\"1\" stroke-width=\"3.2\"/>\n",
       "<circle clip-path=\"url(#clip742)\" cx=\"1065.66\" cy=\"514.66\" r=\"5\" fill=\"#02010c\" fill-rule=\"evenodd\" fill-opacity=\"1\" stroke=\"#000000\" stroke-opacity=\"1\" stroke-width=\"3.2\"/>\n",
       "<circle clip-path=\"url(#clip742)\" cx=\"2059.11\" cy=\"796.643\" r=\"13\" fill=\"#180b3c\" fill-rule=\"evenodd\" fill-opacity=\"1\" stroke=\"#000000\" stroke-opacity=\"1\" stroke-width=\"3.2\"/>\n",
       "<circle clip-path=\"url(#clip742)\" cx=\"1860.42\" cy=\"796.643\" r=\"16\" fill=\"#250b50\" fill-rule=\"evenodd\" fill-opacity=\"1\" stroke=\"#000000\" stroke-opacity=\"1\" stroke-width=\"3.2\"/>\n",
       "<circle clip-path=\"url(#clip742)\" cx=\"866.975\" cy=\"228.842\" r=\"6\" fill=\"#02020f\" fill-rule=\"evenodd\" fill-opacity=\"1\" stroke=\"#000000\" stroke-opacity=\"1\" stroke-width=\"3.2\"/>\n",
       "<circle clip-path=\"url(#clip742)\" cx=\"866.975\" cy=\"514.66\" r=\"4\" fill=\"#000006\" fill-rule=\"evenodd\" fill-opacity=\"1\" stroke=\"#000000\" stroke-opacity=\"1\" stroke-width=\"3.2\"/>\n",
       "<circle clip-path=\"url(#clip742)\" cx=\"668.286\" cy=\"659.276\" r=\"3\" fill=\"#000004\" fill-rule=\"evenodd\" fill-opacity=\"1\" stroke=\"#000000\" stroke-opacity=\"1\" stroke-width=\"3.2\"/>\n",
       "<circle clip-path=\"url(#clip742)\" cx=\"1463.04\" cy=\"1243.21\" r=\"3\" fill=\"#000003\" fill-rule=\"evenodd\" fill-opacity=\"1\" stroke=\"#000000\" stroke-opacity=\"1\" stroke-width=\"3.2\"/>\n",
       "<circle clip-path=\"url(#clip742)\" cx=\"1661.73\" cy=\"514.66\" r=\"7\" fill=\"#050417\" fill-rule=\"evenodd\" fill-opacity=\"1\" stroke=\"#000000\" stroke-opacity=\"1\" stroke-width=\"3.2\"/>\n",
       "<circle clip-path=\"url(#clip742)\" cx=\"668.286\" cy=\"514.66\" r=\"3\" fill=\"#000003\" fill-rule=\"evenodd\" fill-opacity=\"1\" stroke=\"#000000\" stroke-opacity=\"1\" stroke-width=\"3.2\"/>\n",
       "<circle clip-path=\"url(#clip742)\" cx=\"2059.11\" cy=\"659.276\" r=\"10\" fill=\"#0c0827\" fill-rule=\"evenodd\" fill-opacity=\"1\" stroke=\"#000000\" stroke-opacity=\"1\" stroke-width=\"3.2\"/>\n",
       "<circle clip-path=\"url(#clip742)\" cx=\"469.597\" cy=\"1072.57\" r=\"4\" fill=\"#000005\" fill-rule=\"evenodd\" fill-opacity=\"1\" stroke=\"#000000\" stroke-opacity=\"1\" stroke-width=\"3.2\"/>\n",
       "<circle clip-path=\"url(#clip742)\" cx=\"469.597\" cy=\"228.842\" r=\"4\" fill=\"#000004\" fill-rule=\"evenodd\" fill-opacity=\"1\" stroke=\"#000000\" stroke-opacity=\"1\" stroke-width=\"3.2\"/>\n",
       "<circle clip-path=\"url(#clip742)\" cx=\"1860.42\" cy=\"372.103\" r=\"8\" fill=\"#060419\" fill-rule=\"evenodd\" fill-opacity=\"1\" stroke=\"#000000\" stroke-opacity=\"1\" stroke-width=\"3.2\"/>\n",
       "<circle clip-path=\"url(#clip742)\" cx=\"866.975\" cy=\"372.103\" r=\"5\" fill=\"#01010a\" fill-rule=\"evenodd\" fill-opacity=\"1\" stroke=\"#000000\" stroke-opacity=\"1\" stroke-width=\"3.2\"/>\n",
       "<circle clip-path=\"url(#clip742)\" cx=\"1264.35\" cy=\"659.276\" r=\"6\" fill=\"#02010d\" fill-rule=\"evenodd\" fill-opacity=\"1\" stroke=\"#000000\" stroke-opacity=\"1\" stroke-width=\"3.2\"/>\n",
       "<circle clip-path=\"url(#clip742)\" cx=\"1463.04\" cy=\"228.842\" r=\"8\" fill=\"#050419\" fill-rule=\"evenodd\" fill-opacity=\"1\" stroke=\"#000000\" stroke-opacity=\"1\" stroke-width=\"3.2\"/>\n",
       "<circle clip-path=\"url(#clip742)\" cx=\"1661.73\" cy=\"85.838\" r=\"8\" fill=\"#06041a\" fill-rule=\"evenodd\" fill-opacity=\"1\" stroke=\"#000000\" stroke-opacity=\"1\" stroke-width=\"3.2\"/>\n",
       "<circle clip-path=\"url(#clip742)\" cx=\"668.286\" cy=\"228.842\" r=\"5\" fill=\"#010109\" fill-rule=\"evenodd\" fill-opacity=\"1\" stroke=\"#000000\" stroke-opacity=\"1\" stroke-width=\"3.2\"/>\n",
       "<circle clip-path=\"url(#clip742)\" cx=\"1065.66\" cy=\"1072.57\" r=\"3\" fill=\"#000004\" fill-rule=\"evenodd\" fill-opacity=\"1\" stroke=\"#000000\" stroke-opacity=\"1\" stroke-width=\"3.2\"/>\n",
       "<circle clip-path=\"url(#clip742)\" cx=\"1264.35\" cy=\"796.643\" r=\"5\" fill=\"#010108\" fill-rule=\"evenodd\" fill-opacity=\"1\" stroke=\"#000000\" stroke-opacity=\"1\" stroke-width=\"3.2\"/>\n",
       "<circle clip-path=\"url(#clip742)\" cx=\"866.975\" cy=\"796.643\" r=\"3\" fill=\"#000003\" fill-rule=\"evenodd\" fill-opacity=\"1\" stroke=\"#000000\" stroke-opacity=\"1\" stroke-width=\"3.2\"/>\n",
       "<circle clip-path=\"url(#clip742)\" cx=\"1065.66\" cy=\"796.643\" r=\"4\" fill=\"#000004\" fill-rule=\"evenodd\" fill-opacity=\"1\" stroke=\"#000000\" stroke-opacity=\"1\" stroke-width=\"3.2\"/>\n",
       "<circle clip-path=\"url(#clip742)\" cx=\"1860.42\" cy=\"514.66\" r=\"10\" fill=\"#0b0725\" fill-rule=\"evenodd\" fill-opacity=\"1\" stroke=\"#000000\" stroke-opacity=\"1\" stroke-width=\"3.2\"/>\n",
       "<circle clip-path=\"url(#clip742)\" cx=\"668.286\" cy=\"1372.3\" r=\"4\" fill=\"#000005\" fill-rule=\"evenodd\" fill-opacity=\"1\" stroke=\"#000000\" stroke-opacity=\"1\" stroke-width=\"3.2\"/>\n",
       "<circle clip-path=\"url(#clip742)\" cx=\"469.597\" cy=\"514.66\" r=\"3\" fill=\"#000004\" fill-rule=\"evenodd\" fill-opacity=\"1\" stroke=\"#000000\" stroke-opacity=\"1\" stroke-width=\"3.2\"/>\n",
       "<circle clip-path=\"url(#clip742)\" cx=\"469.597\" cy=\"659.276\" r=\"3\" fill=\"#000004\" fill-rule=\"evenodd\" fill-opacity=\"1\" stroke=\"#000000\" stroke-opacity=\"1\" stroke-width=\"3.2\"/>\n",
       "<circle clip-path=\"url(#clip742)\" cx=\"668.286\" cy=\"796.643\" r=\"3\" fill=\"#000004\" fill-rule=\"evenodd\" fill-opacity=\"1\" stroke=\"#000000\" stroke-opacity=\"1\" stroke-width=\"3.2\"/>\n",
       "<circle clip-path=\"url(#clip742)\" cx=\"1264.35\" cy=\"85.838\" r=\"8\" fill=\"#060419\" fill-rule=\"evenodd\" fill-opacity=\"1\" stroke=\"#000000\" stroke-opacity=\"1\" stroke-width=\"3.2\"/>\n",
       "<circle clip-path=\"url(#clip742)\" cx=\"1264.35\" cy=\"372.103\" r=\"7\" fill=\"#040314\" fill-rule=\"evenodd\" fill-opacity=\"1\" stroke=\"#000000\" stroke-opacity=\"1\" stroke-width=\"3.2\"/>\n",
       "<circle clip-path=\"url(#clip742)\" cx=\"866.975\" cy=\"1072.57\" r=\"4\" fill=\"#000004\" fill-rule=\"evenodd\" fill-opacity=\"1\" stroke=\"#000000\" stroke-opacity=\"1\" stroke-width=\"3.2\"/>\n",
       "<circle clip-path=\"url(#clip742)\" cx=\"1860.42\" cy=\"228.842\" r=\"9\" fill=\"#08051e\" fill-rule=\"evenodd\" fill-opacity=\"1\" stroke=\"#000000\" stroke-opacity=\"1\" stroke-width=\"3.2\"/>\n",
       "<circle clip-path=\"url(#clip742)\" cx=\"668.286\" cy=\"85.838\" r=\"6\" fill=\"#02020e\" fill-rule=\"evenodd\" fill-opacity=\"1\" stroke=\"#000000\" stroke-opacity=\"1\" stroke-width=\"3.2\"/>\n",
       "<circle clip-path=\"url(#clip742)\" cx=\"668.286\" cy=\"1243.21\" r=\"4\" fill=\"#000005\" fill-rule=\"evenodd\" fill-opacity=\"1\" stroke=\"#000000\" stroke-opacity=\"1\" stroke-width=\"3.2\"/>\n",
       "<circle clip-path=\"url(#clip742)\" cx=\"469.597\" cy=\"372.103\" r=\"3\" fill=\"#000003\" fill-rule=\"evenodd\" fill-opacity=\"1\" stroke=\"#000000\" stroke-opacity=\"1\" stroke-width=\"3.2\"/>\n",
       "<circle clip-path=\"url(#clip742)\" cx=\"270.908\" cy=\"228.842\" r=\"3\" fill=\"#000003\" fill-rule=\"evenodd\" fill-opacity=\"1\" stroke=\"#000000\" stroke-opacity=\"1\" stroke-width=\"3.2\"/>\n",
       "<circle clip-path=\"url(#clip742)\" cx=\"2059.11\" cy=\"1072.57\" r=\"33\" fill=\"#952666\" fill-rule=\"evenodd\" fill-opacity=\"1\" stroke=\"#000000\" stroke-opacity=\"1\" stroke-width=\"3.2\"/>\n",
       "<circle clip-path=\"url(#clip742)\" cx=\"1463.04\" cy=\"514.66\" r=\"7\" fill=\"#030313\" fill-rule=\"evenodd\" fill-opacity=\"1\" stroke=\"#000000\" stroke-opacity=\"1\" stroke-width=\"3.2\"/>\n",
       "<circle clip-path=\"url(#clip742)\" cx=\"866.975\" cy=\"1243.21\" r=\"4\" fill=\"#000005\" fill-rule=\"evenodd\" fill-opacity=\"1\" stroke=\"#000000\" stroke-opacity=\"1\" stroke-width=\"3.2\"/>\n",
       "<circle clip-path=\"url(#clip742)\" cx=\"469.597\" cy=\"943.481\" r=\"4\" fill=\"#000005\" fill-rule=\"evenodd\" fill-opacity=\"1\" stroke=\"#000000\" stroke-opacity=\"1\" stroke-width=\"3.2\"/>\n",
       "<circle clip-path=\"url(#clip742)\" cx=\"270.908\" cy=\"85.838\" r=\"3\" fill=\"#000004\" fill-rule=\"evenodd\" fill-opacity=\"1\" stroke=\"#000000\" stroke-opacity=\"1\" stroke-width=\"3.2\"/>\n",
       "<circle clip-path=\"url(#clip742)\" cx=\"1463.04\" cy=\"943.481\" r=\"5\" fill=\"#010108\" fill-rule=\"evenodd\" fill-opacity=\"1\" stroke=\"#000000\" stroke-opacity=\"1\" stroke-width=\"3.2\"/>\n",
       "<defs>\n",
       "  <clipPath id=\"clip743\">\n",
       "    <rect x=\"2160\" y=\"47\" width=\"73\" height=\"1365\"/>\n",
       "  </clipPath>\n",
       "</defs>\n",
       "<g clip-path=\"url(#clip743)\">\n",
       "<image width=\"72\" height=\"1364\" xlink:href=\"data:image/png;base64,\n",
       "iVBORw0KGgoAAAANSUhEUgAAAEgAAAVUCAYAAABzwV4AAAAL0klEQVR4nO3dwY3sRhAFQY5Q/lsh\n",
       "L6XfLQtUeSQPERYsEg+zZJM7+/v3/H0f/tdfb/8AXydQECgIFAQKc+6/b/8Mn2ZBQaAgUBAozL1/\n",
       "3v4ZPs2CgkBBoCBQcCUdLCgIFAQKAgWBwly/xVYWFAQKAgWBwtzjQ3pjQUGgIFAQKLiSDhYUBAoC\n",
       "BYGCQMFvsWBBQaAgUBAoOA8KFhQECgIFgcI8rqRXFhQECgIFgYJAwXlQsKAgUBAoCBTmcR60sqAg\n",
       "UBAoCBTmOf+8/TN8mgUFgYJAQaAgUPBUI1hQECgIFAQKzoOCBQWBgkBBoOBDOlhQECgIFAQKAgXn\n",
       "QcGCgkBBoCBQmJ9bjZUFBYGCQEGgMM/xpf8bCwoCBYGCQEGg4FYjWFAQKAgUBApuNYIFBYGCQEGg\n",
       "4P2gYEFBoCBQECgIFObnVmNlQUGgIFAQKHiJM1hQECgIFAQKrqSDBQWBgkBBoCBQ8Og5WFAQKAgU\n",
       "BApuNYIFBYGCQEGg4Eo6WFAQKAgUBAoCBbcawYKCQEGgIFCY55y3f4ZPs6AgUBAoCBRcSQcLCgIF\n",
       "gYJAQaDgqUawoCBQECgIFHxIBwsKAgWBgkBhfg7tVxYUBAoCBYGCQMGtRrCgIFAQKAgUvB8ULCgI\n",
       "FAQKAgXnQcGCgkBBoCBQECg4DwoWFAQKAgWBgvOgYEFBoCBQECj4kA4WFAQKAgWBgkDBXz0HCwoC\n",
       "BYGCQMGtRrCgIFAQKAgUfEgHCwoCBYGCQEGg4LdYsKAgUBAoCBR8SAcLCgIFgYJAYZ7rQ3pjQUGg\n",
       "IFAQKAgU3GoECwoCBYGCQMGHdLCgIFAQKAgUfEgHCwoCBYGCQEGgMM+5b/8Mn2ZBQaAgUBAouNUI\n",
       "FhQECgIFgYIr6WBBQaAgUBAoCBTcagQLCgIFgYJAwa1GsKAgUBAoCBTmcSG9sqAgUBAoCBQECvNc\n",
       "txobCwoCBYGCQMGtRrCgIFAQKAgUfEgHCwoCBYGCQEGgML4Eb2dBQaAgUBAouNUIFhQECgIFgYIP\n",
       "6WBBQaAgUBAoCBTmOb+3f4ZPs6AgUBAoCBTmXh/SGwsKAgWBgkDBeVCwoCBQECgIFBx3BAsKAgWB\n",
       "gkBBoDD3aLRRJwgUBAoCBbcawYKCQEGgIFCYx5PVlQUFgYJAQaAgUJjrVmNlQUGgIFAQKMzj0H6l\n",
       "ThAoCBQECq6kgwUFgYJAQaAgUPBUI1hQECgIFAQKXuIM6gSBgkBBoOAlzmBBQaAgUBAoCBQ81QgW\n",
       "FAQKAgWBwtyr0UadIFAQKAgUnAcFCwoCBYGCQEGg4DwoWFAQKAgUBArzOA9aqRMECgIFgYIr6WBB\n",
       "QaAgUBAoCBT8FgsWFAQKAgWBgj/qDRYUBAoCBYGCP+oN6gSBgkBBoCBQ8P/mgwUFgYJAQaDg0D5Y\n",
       "UBAoCBQECr70P6gTBAoCBYGCQMF5ULCgIFAQKAgUnAcFCwoCBYGCQMGVdLCgIFAQKAgUBArecg3q\n",
       "BIGCQEGg4FYjWFAQKAgUBAoO7YMFBYGCQEGgIFBwqxEsKAgUBAoCBf+6JlhQECgIFAQK/glkUCcI\n",
       "FAQKAgWBgvOgYEFBoCBQECh49BwsKAgUBAoCBVfSwYKCQEGgIFAQKMzxW2xlQUGgIFAQKPij3qBO\n",
       "ECgIFAQKzoOCBQWBgkBBoCBQ8FssWFAQKAgUBAreDwoWFAQKAgWBgivpYEFBoCBQECgIFPwWCxYU\n",
       "BAoCBYGCr6YI6gSBgkBBoDDHof3KgoJAQaAgUBAoOA8KFhQECgIFgYIP6WBBQaAgUBAo+JAOFhQE\n",
       "CgIFgYJAwfcHBQsKAgWBgkDBrUawoCBQECgIFHxIBwsKAgWBgkBBoOBPEYI6QaAgUBAo+FOEYEFB\n",
       "oCBQECg4DwoWFAQKAgWBgkDBb7FgQUGgIFAQKHiJM1hQECgIFAQKrqSDBQWBgkBBoCBQmPv4Lbax\n",
       "oCBQECgIFJwHBQsKAgWBgkDBeVCwoCBQECgIFAQKbjWCBQWBgkBBoOBWI1hQECgIFAQKrqSDBQWB\n",
       "gkBBoCBQcKsRLCgIFAQKAgUf0sGCgkBBoCBQmONN+5UFBYGCQEGg4Eo6WFAQKAgUBAoCBY+egwUF\n",
       "gYJAQaAw9779I3ybBQWBgkBBoOBKOlhQECgIFAQKAgVf8hYsKAgUBAoCBbcawYKCQEGgIFDwflCw\n",
       "oCBQECgIFAQK/hQhWFAQKAgUBAreDwoWFAQKAgWBgkP7YEFBoCBQECgIFDzVCBYUBAoCBYGCQ/tg\n",
       "QUGgIFAQKDgPChYUBAoCBYGCQMGj52BBQaAgUBAoOA8KFhQECgIFgYInq8GCgkBBoCBQECjMefsn\n",
       "+DgLCgIFgYJAwa1GsKAgUBAoCBS8HxQsKAgUBAoCBYGC86BgQUGgIFAQKDgPChYUBAoCBYGCK+lg\n",
       "QUGgIFAQKAgU3GoECwoCBYGCQMGj52BBQaAgUBAojC9e2FlQECgIFAQKAgW3GsGCgkBBoCBQ8Og5\n",
       "WFAQKAgUBAqerAYLCgIFgYJAQaDgViNYUBAoCBQECm41ggUFgYJAQaAwxwtCKwsKAgWBgkBBoOA8\n",
       "KFhQECgIFAQKzoOCBQWBgkBBoOBKOlhQECgIFAQKAgX/bz5YUBAoCBQECv7ffLCgIFAQKAgUvB8U\n",
       "LCgIFAQKAgWBgm/BCxYUBAoCBYGCL3kLFhQECgIFgYInq8GCgkBBoCBQECh4yzVYUBAoCBQECv5e\n",
       "LFhQECgIFAQKrqSDBQWBgkBBoCBQ8JZrsKAgUBAoCBS8xBksKAgUBAoCBVfSwYKCQEGgIFAQKHjL\n",
       "NVhQECgIFAQKvj8oWFAQKAgUBArOg4IFBYGCQEGgIFDw6DlYUBAoCBQECm41ggUFgYJAQaDgSjpY\n",
       "UBAoCBQECgIFtxrBgoJAQaAgUPAhHSwoCBQECgIF50HBgoJAQaAgUBAouNUIFhQECgIFgYJbjWBB\n",
       "QaAgUBAouJIOFhQECgIFgYJAwfcHBQsKAgWBgkDBv64JFhQECgIFgYLzoGBBQaAgUBAoCBTmPn6N\n",
       "bSwoCBQECgIFtxrBgoJAQaAgUPBkNVhQECgIFAQKnqwGCwoCBYGCQEGg4DwoWFAQKAgUBAqerAYL\n",
       "CgIFgYJAwZV0sKAgUBAoCBQECr4/KFhQECgIFAQKc7wgtLKgIFAQKAgUvB8ULCgIFAQKAgWBwly3\n",
       "GisLCgIFgYJAwa1GsKAgUBAoCBQc2gcLCgIFgYJAQaDg/aBgQUGgIFAQKMzx92IrCwoCBYGCQMF5\n",
       "ULCgIFAQKAgUBAq+miJYUBAoCBQECt4PChYUBAoCBYGCQ/tgQUGgIFAQKAgUnAcFCwoCBYGCQGHO\n",
       "40RoY0FBoCBQECg4DwoWFAQKAgWBgkDBb7FgQUGgIFAQKDi0DxYUBAoCBYGCQ/tgQUGgIFAQKAgU\n",
       "5vzcamwsKAgUBAoCBbcawYKCQEGgIFCY60N6ZUFBoCBQECgIFNxqBAsKAgWBgkBhzs+H9MaCgkBB\n",
       "oCBQcCUdLCgIFAQKAgWBgqcawYKCQEGgIFBwqxEsKAgUBAoCBR/SwYKCQEGgIFAQKHj0HCwoCBQE\n",
       "CgKFuc+ft3+GT7OgIFAQKAgUnAcFCwoCBYGCQEGg4P2gYEFBoCBQECjMuc6DNhYUBAoCBYGCK+lg\n",
       "QUGgIFAQKAgU5nj0vLKgIFAQKAgU3GoECwoCBYGCQMGVdLCgIFAQKAgUBApzr1uNjQUFgYJAQaDg\n",
       "PChYUBAoCBQECl7iDBYUBAoCBYGCQMGtRrCgIFAQKAgU5rrVWFlQECgIFAQKrqSDBQWBgkBBoCBQ\n",
       "mOP9oJUFBYGCQEGg4PukgwUFgYJAQaDgTftgQUGgIFAQKAgUPNUIFhQECgIFgYJbjWBBQaAgUBAo\n",
       "+JAOFhQECgIFgYJAwaPnYEFBoCBQECi41QgWFAQKAgWBwjyerK4sKAgUBAoCBYGCW41gQUGgIFAQ\n",
       "KHiJM1hQECgIFAQK87iSXllQECgIFAQKAgXvBwULCgIFgYJAwaPnYEFBoCBQECg4DwoWFAQKAgWB\n",
       "gkBh7nPf/hk+zYKCQEGgIFBwHhQsKAgUBAoChXlcSa8sKAgUBAoChf8AJ8ztt7m0cDkAAAAASUVO\n",
       "RK5CYII=\n",
       "\" transform=\"translate(2161, 47)\"/>\n",
       "</g>\n",
       "<path clip-path=\"url(#clip740)\" d=\"M 0 0 M2269.43 1235.95 L2277.07 1235.95 L2277.07 1209.59 L2268.76 1211.25 L2268.76 1206.99 L2277.02 1205.33 L2281.7 1205.33 L2281.7 1235.95 L2289.33 1235.95 L2289.33 1239.89 L2269.43 1239.89 L2269.43 1235.95 Z\" fill=\"#000000\" fill-rule=\"evenodd\" fill-opacity=\"1\" /><path clip-path=\"url(#clip740)\" d=\"M 0 0 M2294.4 1234.01 L2299.29 1234.01 L2299.29 1239.89 L2294.4 1239.89 L2294.4 1234.01 Z\" fill=\"#000000\" fill-rule=\"evenodd\" fill-opacity=\"1\" /><path clip-path=\"url(#clip740)\" d=\"M 0 0 M2314.36 1208.4 Q2310.75 1208.4 2308.92 1211.97 Q2307.11 1215.51 2307.11 1222.64 Q2307.11 1229.75 2308.92 1233.31 Q2310.75 1236.85 2314.36 1236.85 Q2317.99 1236.85 2319.8 1233.31 Q2321.63 1229.75 2321.63 1222.64 Q2321.63 1215.51 2319.8 1211.97 Q2317.99 1208.4 2314.36 1208.4 M2314.36 1204.7 Q2320.17 1204.7 2323.22 1209.31 Q2326.3 1213.89 2326.3 1222.64 Q2326.3 1231.37 2323.22 1235.97 Q2320.17 1240.56 2314.36 1240.56 Q2308.55 1240.56 2305.47 1235.97 Q2302.41 1231.37 2302.41 1222.64 Q2302.41 1213.89 2305.47 1209.31 Q2308.55 1204.7 2314.36 1204.7 Z\" fill=\"#000000\" fill-rule=\"evenodd\" fill-opacity=\"1\" /><path clip-path=\"url(#clip740)\" d=\"M 0 0 M2269.43 1048.03 L2277.07 1048.03 L2277.07 1021.66 L2268.76 1023.33 L2268.76 1019.07 L2277.02 1017.4 L2281.7 1017.4 L2281.7 1048.03 L2289.33 1048.03 L2289.33 1051.96 L2269.43 1051.96 L2269.43 1048.03 Z\" fill=\"#000000\" fill-rule=\"evenodd\" fill-opacity=\"1\" /><path clip-path=\"url(#clip740)\" d=\"M 0 0 M2294.4 1046.08 L2299.29 1046.08 L2299.29 1051.96 L2294.4 1051.96 L2294.4 1046.08 Z\" fill=\"#000000\" fill-rule=\"evenodd\" fill-opacity=\"1\" /><path clip-path=\"url(#clip740)\" d=\"M 0 0 M2304.4 1017.4 L2322.76 1017.4 L2322.76 1021.34 L2308.69 1021.34 L2308.69 1029.81 Q2309.7 1029.46 2310.72 1029.3 Q2311.74 1029.12 2312.76 1029.12 Q2318.55 1029.12 2321.93 1032.29 Q2325.31 1035.46 2325.31 1040.87 Q2325.31 1046.45 2321.83 1049.56 Q2318.36 1052.63 2312.04 1052.63 Q2309.87 1052.63 2307.6 1052.26 Q2305.35 1051.89 2302.95 1051.15 L2302.95 1046.45 Q2305.03 1047.59 2307.25 1048.14 Q2309.47 1048.7 2311.95 1048.7 Q2315.95 1048.7 2318.29 1046.59 Q2320.63 1044.49 2320.63 1040.87 Q2320.63 1037.26 2318.29 1035.16 Q2315.95 1033.05 2311.95 1033.05 Q2310.08 1033.05 2308.2 1033.47 Q2306.35 1033.88 2304.4 1034.76 L2304.4 1017.4 Z\" fill=\"#000000\" fill-rule=\"evenodd\" fill-opacity=\"1\" /><path clip-path=\"url(#clip740)\" d=\"M 0 0 M2274.38 860.104 L2290.7 860.104 L2290.7 864.039 L2268.76 864.039 L2268.76 860.104 Q2271.42 857.35 2276 852.72 Q2280.61 848.067 2281.79 846.725 Q2284.03 844.202 2284.91 842.465 Q2285.82 840.706 2285.82 839.016 Q2285.82 836.262 2283.87 834.526 Q2281.95 832.79 2278.85 832.79 Q2276.65 832.79 2274.2 833.553 Q2271.77 834.317 2268.99 835.868 L2268.99 831.146 Q2271.81 830.012 2274.27 829.433 Q2276.72 828.854 2278.76 828.854 Q2284.13 828.854 2287.32 831.54 Q2290.52 834.225 2290.52 838.715 Q2290.52 840.845 2289.7 842.766 Q2288.92 844.664 2286.81 847.257 Q2286.23 847.928 2283.13 851.146 Q2280.03 854.34 2274.38 860.104 Z\" fill=\"#000000\" fill-rule=\"evenodd\" fill-opacity=\"1\" /><path clip-path=\"url(#clip740)\" d=\"M 0 0 M2295.77 858.16 L2300.65 858.16 L2300.65 864.039 L2295.77 864.039 L2295.77 858.16 Z\" fill=\"#000000\" fill-rule=\"evenodd\" fill-opacity=\"1\" /><path clip-path=\"url(#clip740)\" d=\"M 0 0 M2315.72 832.558 Q2312.11 832.558 2310.28 836.123 Q2308.48 839.665 2308.48 846.794 Q2308.48 853.901 2310.28 857.465 Q2312.11 861.007 2315.72 861.007 Q2319.36 861.007 2321.16 857.465 Q2322.99 853.901 2322.99 846.794 Q2322.99 839.665 2321.16 836.123 Q2319.36 832.558 2315.72 832.558 M2315.72 828.854 Q2321.53 828.854 2324.59 833.461 Q2327.67 838.044 2327.67 846.794 Q2327.67 855.521 2324.59 860.127 Q2321.53 864.711 2315.72 864.711 Q2309.91 864.711 2306.83 860.127 Q2303.78 855.521 2303.78 846.794 Q2303.78 838.044 2306.83 833.461 Q2309.91 828.854 2315.72 828.854 Z\" fill=\"#000000\" fill-rule=\"evenodd\" fill-opacity=\"1\" /><path clip-path=\"url(#clip740)\" d=\"M 0 0 M2274.38 672.181 L2290.7 672.181 L2290.7 676.116 L2268.76 676.116 L2268.76 672.181 Q2271.42 669.426 2276 664.797 Q2280.61 660.144 2281.79 658.801 Q2284.03 656.278 2284.91 654.542 Q2285.82 652.783 2285.82 651.093 Q2285.82 648.339 2283.87 646.602 Q2281.95 644.866 2278.85 644.866 Q2276.65 644.866 2274.2 645.63 Q2271.77 646.394 2268.99 647.945 L2268.99 643.223 Q2271.81 642.089 2274.27 641.51 Q2276.72 640.931 2278.76 640.931 Q2284.13 640.931 2287.32 643.616 Q2290.52 646.302 2290.52 650.792 Q2290.52 652.922 2289.7 654.843 Q2288.92 656.741 2286.81 659.334 Q2286.23 660.005 2283.13 663.223 Q2280.03 666.417 2274.38 672.181 Z\" fill=\"#000000\" fill-rule=\"evenodd\" fill-opacity=\"1\" /><path clip-path=\"url(#clip740)\" d=\"M 0 0 M2295.77 670.237 L2300.65 670.237 L2300.65 676.116 L2295.77 676.116 L2295.77 670.237 Z\" fill=\"#000000\" fill-rule=\"evenodd\" fill-opacity=\"1\" /><path clip-path=\"url(#clip740)\" d=\"M 0 0 M2305.77 641.556 L2324.13 641.556 L2324.13 645.491 L2310.05 645.491 L2310.05 653.964 Q2311.07 653.616 2312.09 653.454 Q2313.11 653.269 2314.13 653.269 Q2319.91 653.269 2323.29 656.44 Q2326.67 659.612 2326.67 665.028 Q2326.67 670.607 2323.2 673.709 Q2319.73 676.787 2313.41 676.787 Q2311.23 676.787 2308.96 676.417 Q2306.72 676.047 2304.31 675.306 L2304.31 670.607 Q2306.39 671.741 2308.62 672.297 Q2310.84 672.852 2313.32 672.852 Q2317.32 672.852 2319.66 670.746 Q2322 668.639 2322 665.028 Q2322 661.417 2319.66 659.311 Q2317.32 657.204 2313.32 657.204 Q2311.44 657.204 2309.57 657.621 Q2307.71 658.038 2305.77 658.917 L2305.77 641.556 Z\" fill=\"#000000\" fill-rule=\"evenodd\" fill-opacity=\"1\" /><path clip-path=\"url(#clip740)\" d=\"M 0 0 M2284.38 469.559 Q2287.74 470.276 2289.61 472.545 Q2291.51 474.813 2291.51 478.147 Q2291.51 483.262 2287.99 486.063 Q2284.47 488.864 2277.99 488.864 Q2275.82 488.864 2273.5 488.424 Q2271.21 488.008 2268.76 487.151 L2268.76 482.637 Q2270.7 483.772 2273.02 484.35 Q2275.33 484.929 2277.85 484.929 Q2282.25 484.929 2284.54 483.193 Q2286.86 481.457 2286.86 478.147 Q2286.86 475.091 2284.7 473.378 Q2282.58 471.642 2278.76 471.642 L2274.73 471.642 L2274.73 467.8 L2278.94 467.8 Q2282.39 467.8 2284.22 466.434 Q2286.05 465.045 2286.05 462.452 Q2286.05 459.79 2284.15 458.378 Q2282.27 456.943 2278.76 456.943 Q2276.83 456.943 2274.64 457.36 Q2272.44 457.776 2269.8 458.656 L2269.8 454.489 Q2272.46 453.749 2274.77 453.378 Q2277.11 453.008 2279.17 453.008 Q2284.5 453.008 2287.6 455.439 Q2290.7 457.846 2290.7 461.966 Q2290.7 464.837 2289.06 466.827 Q2287.41 468.795 2284.38 469.559 Z\" fill=\"#000000\" fill-rule=\"evenodd\" fill-opacity=\"1\" /><path clip-path=\"url(#clip740)\" d=\"M 0 0 M2296.58 482.313 L2301.46 482.313 L2301.46 488.193 L2296.58 488.193 L2296.58 482.313 Z\" fill=\"#000000\" fill-rule=\"evenodd\" fill-opacity=\"1\" /><path clip-path=\"url(#clip740)\" d=\"M 0 0 M2316.53 456.712 Q2312.92 456.712 2311.09 460.276 Q2309.29 463.818 2309.29 470.948 Q2309.29 478.054 2311.09 481.619 Q2312.92 485.161 2316.53 485.161 Q2320.17 485.161 2321.97 481.619 Q2323.8 478.054 2323.8 470.948 Q2323.8 463.818 2321.97 460.276 Q2320.17 456.712 2316.53 456.712 M2316.53 453.008 Q2322.34 453.008 2325.4 457.614 Q2328.48 462.198 2328.48 470.948 Q2328.48 479.674 2325.4 484.281 Q2322.34 488.864 2316.53 488.864 Q2310.72 488.864 2307.64 484.281 Q2304.59 479.674 2304.59 470.948 Q2304.59 462.198 2307.64 457.614 Q2310.72 453.008 2316.53 453.008 Z\" fill=\"#000000\" fill-rule=\"evenodd\" fill-opacity=\"1\" /><path clip-path=\"url(#clip740)\" d=\"M 0 0 M2284.38 281.636 Q2287.74 282.353 2289.61 284.622 Q2291.51 286.89 2291.51 290.223 Q2291.51 295.339 2287.99 298.14 Q2284.47 300.941 2277.99 300.941 Q2275.82 300.941 2273.5 300.501 Q2271.21 300.085 2268.76 299.228 L2268.76 294.714 Q2270.7 295.848 2273.02 296.427 Q2275.33 297.006 2277.85 297.006 Q2282.25 297.006 2284.54 295.27 Q2286.86 293.534 2286.86 290.223 Q2286.86 287.168 2284.7 285.455 Q2282.58 283.719 2278.76 283.719 L2274.73 283.719 L2274.73 279.876 L2278.94 279.876 Q2282.39 279.876 2284.22 278.511 Q2286.05 277.122 2286.05 274.529 Q2286.05 271.867 2284.15 270.455 Q2282.27 269.02 2278.76 269.02 Q2276.83 269.02 2274.64 269.437 Q2272.44 269.853 2269.8 270.733 L2269.8 266.566 Q2272.46 265.825 2274.77 265.455 Q2277.11 265.085 2279.17 265.085 Q2284.5 265.085 2287.6 267.515 Q2290.7 269.923 2290.7 274.043 Q2290.7 276.913 2289.06 278.904 Q2287.41 280.872 2284.38 281.636 Z\" fill=\"#000000\" fill-rule=\"evenodd\" fill-opacity=\"1\" /><path clip-path=\"url(#clip740)\" d=\"M 0 0 M2296.58 294.39 L2301.46 294.39 L2301.46 300.27 L2296.58 300.27 L2296.58 294.39 Z\" fill=\"#000000\" fill-rule=\"evenodd\" fill-opacity=\"1\" /><path clip-path=\"url(#clip740)\" d=\"M 0 0 M2306.58 265.71 L2324.94 265.71 L2324.94 269.645 L2310.86 269.645 L2310.86 278.117 Q2311.88 277.77 2312.9 277.608 Q2313.92 277.423 2314.94 277.423 Q2320.72 277.423 2324.1 280.594 Q2327.48 283.765 2327.48 289.182 Q2327.48 294.761 2324.01 297.862 Q2320.54 300.941 2314.22 300.941 Q2312.04 300.941 2309.77 300.571 Q2307.53 300.2 2305.12 299.46 L2305.12 294.761 Q2307.2 295.895 2309.43 296.45 Q2311.65 297.006 2314.13 297.006 Q2318.13 297.006 2320.47 294.899 Q2322.81 292.793 2322.81 289.182 Q2322.81 285.571 2320.47 283.464 Q2318.13 281.358 2314.13 281.358 Q2312.25 281.358 2310.38 281.774 Q2308.52 282.191 2306.58 283.071 L2306.58 265.71 Z\" fill=\"#000000\" fill-rule=\"evenodd\" fill-opacity=\"1\" /><path clip-path=\"url(#clip740)\" d=\"M 0 0 M2284.36 81.8606 L2272.55 100.31 L2284.36 100.31 L2284.36 81.8606 M2283.13 77.7865 L2289.01 77.7865 L2289.01 100.31 L2293.94 100.31 L2293.94 104.198 L2289.01 104.198 L2289.01 112.347 L2284.36 112.347 L2284.36 104.198 L2268.76 104.198 L2268.76 99.6846 L2283.13 77.7865 Z\" fill=\"#000000\" fill-rule=\"evenodd\" fill-opacity=\"1\" /><path clip-path=\"url(#clip740)\" d=\"M 0 0 M2299.01 106.467 L2303.89 106.467 L2303.89 112.347 L2299.01 112.347 L2299.01 106.467 Z\" fill=\"#000000\" fill-rule=\"evenodd\" fill-opacity=\"1\" /><path clip-path=\"url(#clip740)\" d=\"M 0 0 M2318.96 80.8652 Q2315.35 80.8652 2313.52 84.43 Q2311.72 87.9717 2311.72 95.1012 Q2311.72 102.208 2313.52 105.772 Q2315.35 109.314 2318.96 109.314 Q2322.6 109.314 2324.4 105.772 Q2326.23 102.208 2326.23 95.1012 Q2326.23 87.9717 2324.4 84.43 Q2322.6 80.8652 2318.96 80.8652 M2318.96 77.1615 Q2324.77 77.1615 2327.83 81.768 Q2330.91 86.3513 2330.91 95.1012 Q2330.91 103.828 2327.83 108.435 Q2324.77 113.018 2318.96 113.018 Q2313.15 113.018 2310.08 108.435 Q2307.02 103.828 2307.02 95.1012 Q2307.02 86.3513 2310.08 81.768 Q2313.15 77.1615 2318.96 77.1615 Z\" fill=\"#000000\" fill-rule=\"evenodd\" fill-opacity=\"1\" /><polyline clip-path=\"url(#clip740)\" style=\"stroke:#000000; stroke-width:4; stroke-opacity:1; fill:none\" points=\"\n",
       "  2232.76,1410.9 2232.76,1226.23 2256.76,1226.23 2232.76,1226.23 2232.76,1038.31 2256.76,1038.31 2232.76,1038.31 2232.76,850.388 2256.76,850.388 2232.76,850.388 \n",
       "  2232.76,662.465 2256.76,662.465 2232.76,662.465 2232.76,474.542 2256.76,474.542 2232.76,474.542 2232.76,286.619 2256.76,286.619 2232.76,286.619 2232.76,98.6953 \n",
       "  2256.76,98.6953 2232.76,98.6953 2232.76,47.2441 \n",
       "  \"/>\n",
       "</svg>\n"
      ]
     },
     "execution_count": 54,
     "metadata": {},
     "output_type": "execute_result"
    }
   ],
   "source": [
    "plot(self_tuning_boost)"
   ]
  },
  {
   "cell_type": "code",
   "execution_count": 55,
   "metadata": {},
   "outputs": [
    {
     "data": {
      "text/plain": [
       "AdaBoostClassifier(\n",
       "    base_estimator = nothing,\n",
       "    n_estimators = 5,\n",
       "    learning_rate = 0.16681005372000587,\n",
       "    algorithm = \"SAMME.R\",\n",
       "    random_state = nothing)\u001b[34m @456\u001b[39m"
      ]
     },
     "execution_count": 55,
     "metadata": {},
     "output_type": "execute_result"
    }
   ],
   "source": [
    "best = fitted_params(self_tuning_boost)\n",
    "best.best_model"
   ]
  },
  {
   "cell_type": "code",
   "execution_count": 56,
   "metadata": {},
   "outputs": [
    {
     "data": {
      "text/plain": [
       "0.50868"
      ]
     },
     "execution_count": 56,
     "metadata": {},
     "output_type": "execute_result"
    }
   ],
   "source": [
    "best_loss = round(z.report.best_result.measurement[1],digits=5)"
   ]
  },
  {
   "cell_type": "code",
   "execution_count": 57,
   "metadata": {},
   "outputs": [
    {
     "data": {
      "text/plain": [
       "0.16681005372000587"
      ]
     },
     "execution_count": 57,
     "metadata": {},
     "output_type": "execute_result"
    }
   ],
   "source": [
    "best_n = best.best_model.n_estimators\n",
    "best_lr = best.best_model.learning_rate"
   ]
  },
  {
   "cell_type": "code",
   "execution_count": 58,
   "metadata": {},
   "outputs": [],
   "source": [
    "fn = \"Figures/LearningCurve_Boost_nestimators:$(best_n)_lr:$(best_lr)_loss:$(best_loss)\"\n",
    "png(replace(fn,'.' => ','))"
   ]
  },
  {
   "cell_type": "markdown",
   "metadata": {},
   "source": [
    "### Learning Curves"
   ]
  },
  {
   "cell_type": "code",
   "execution_count": 63,
   "metadata": {
    "scrolled": true
   },
   "outputs": [
    {
     "name": "stdout",
     "output_type": "stream",
     "text": [
      "(d, train_metric, valid_metric) = (10, 1.0, 0.6283783783783784)\n",
      "(d, train_metric, valid_metric) = (15, 1.0, 0.6283783783783784)\n",
      "(d, train_metric, valid_metric) = (20, 1.0, 0.7635135135135135)\n",
      "(d, train_metric, valid_metric) = (25, 1.0, 0.7432432432432432)\n",
      "(d, train_metric, valid_metric) = (30, 1.0, 0.7432432432432432)\n"
     ]
    },
    {
     "name": "stderr",
     "output_type": "stream",
     "text": [
      "┌ Warning: The scitype of `X`, in `machine(model, X, ...)` is incompatible with `model=\u001b[34mAdaBoostClassifier @456\u001b[39m`:\n",
      "│ scitype(X) = Table{Union{AbstractArray{Continuous,1}, AbstractArray{Count,1}}}\n",
      "│ input_scitype(model) = Table{var\"#s44\"} where var\"#s44\"<:(AbstractArray{var\"#s13\",1} where var\"#s13\"<:Continuous).\n",
      "└ @ MLJBase /home/andrew/.julia/packages/MLJBase/uKzAz/src/machines.jl:77\n",
      "┌ Warning: The scitype of `X`, in `machine(model, X, ...)` is incompatible with `model=\u001b[34mAdaBoostClassifier @456\u001b[39m`:\n",
      "│ scitype(X) = Table{Union{AbstractArray{Continuous,1}, AbstractArray{Count,1}}}\n",
      "│ input_scitype(model) = Table{var\"#s44\"} where var\"#s44\"<:(AbstractArray{var\"#s13\",1} where var\"#s13\"<:Continuous).\n",
      "└ @ MLJBase /home/andrew/.julia/packages/MLJBase/uKzAz/src/machines.jl:77\n",
      "┌ Warning: The scitype of `X`, in `machine(model, X, ...)` is incompatible with `model=\u001b[34mAdaBoostClassifier @456\u001b[39m`:\n",
      "│ scitype(X) = Table{Union{AbstractArray{Continuous,1}, AbstractArray{Count,1}}}\n",
      "│ input_scitype(model) = Table{var\"#s44\"} where var\"#s44\"<:(AbstractArray{var\"#s13\",1} where var\"#s13\"<:Continuous).\n",
      "└ @ MLJBase /home/andrew/.julia/packages/MLJBase/uKzAz/src/machines.jl:77\n",
      "┌ Warning: The scitype of `X`, in `machine(model, X, ...)` is incompatible with `model=\u001b[34mAdaBoostClassifier @456\u001b[39m`:\n",
      "│ scitype(X) = Table{Union{AbstractArray{Continuous,1}, AbstractArray{Count,1}}}\n",
      "│ input_scitype(model) = Table{var\"#s44\"} where var\"#s44\"<:(AbstractArray{var\"#s13\",1} where var\"#s13\"<:Continuous).\n",
      "└ @ MLJBase /home/andrew/.julia/packages/MLJBase/uKzAz/src/machines.jl:77\n",
      "┌ Warning: The scitype of `X`, in `machine(model, X, ...)` is incompatible with `model=\u001b[34mAdaBoostClassifier @456\u001b[39m`:\n",
      "│ scitype(X) = Table{Union{AbstractArray{Continuous,1}, AbstractArray{Count,1}}}\n",
      "│ input_scitype(model) = Table{var\"#s44\"} where var\"#s44\"<:(AbstractArray{var\"#s13\",1} where var\"#s13\"<:Continuous).\n",
      "└ @ MLJBase /home/andrew/.julia/packages/MLJBase/uKzAz/src/machines.jl:77\n"
     ]
    },
    {
     "name": "stdout",
     "output_type": "stream",
     "text": [
      "(d, train_metric, valid_metric) = (35, 0.9428571428571428, 0.7905405405405406)\n",
      "(d, train_metric, valid_metric) = (40, 0.95, 0.7905405405405406)\n",
      "(d, train_metric, valid_metric) = (45, 0.9333333333333333, 0.7567567567567568)\n",
      "(d, train_metric, valid_metric) = (50, 0.9, 0.75)\n",
      "(d, train_metric, valid_metric) = (55, 0.9090909090909091, 0.8175675675675675)\n",
      "(d, train_metric, valid_metric) = (60, 0.8833333333333333, 0.7972972972972973)\n",
      "(d, train_metric, valid_metric) = (65, 0.8923076923076924, 0.7972972972972973)\n",
      "(d, train_metric, valid_metric) = (70, 0.8571428571428571, 0.7162162162162162)\n",
      "(d, train_metric, valid_metric) = (75, 0.8266666666666667, 0.7905405405405406)\n"
     ]
    },
    {
     "name": "stderr",
     "output_type": "stream",
     "text": [
      "┌ Warning: The scitype of `X`, in `machine(model, X, ...)` is incompatible with `model=\u001b[34mAdaBoostClassifier @456\u001b[39m`:\n",
      "│ scitype(X) = Table{Union{AbstractArray{Continuous,1}, AbstractArray{Count,1}}}\n",
      "│ input_scitype(model) = Table{var\"#s44\"} where var\"#s44\"<:(AbstractArray{var\"#s13\",1} where var\"#s13\"<:Continuous).\n",
      "└ @ MLJBase /home/andrew/.julia/packages/MLJBase/uKzAz/src/machines.jl:77\n",
      "┌ Warning: The scitype of `X`, in `machine(model, X, ...)` is incompatible with `model=\u001b[34mAdaBoostClassifier @456\u001b[39m`:\n",
      "│ scitype(X) = Table{Union{AbstractArray{Continuous,1}, AbstractArray{Count,1}}}\n",
      "│ input_scitype(model) = Table{var\"#s44\"} where var\"#s44\"<:(AbstractArray{var\"#s13\",1} where var\"#s13\"<:Continuous).\n",
      "└ @ MLJBase /home/andrew/.julia/packages/MLJBase/uKzAz/src/machines.jl:77\n",
      "┌ Warning: The scitype of `X`, in `machine(model, X, ...)` is incompatible with `model=\u001b[34mAdaBoostClassifier @456\u001b[39m`:\n",
      "│ scitype(X) = Table{Union{AbstractArray{Continuous,1}, AbstractArray{Count,1}}}\n",
      "│ input_scitype(model) = Table{var\"#s44\"} where var\"#s44\"<:(AbstractArray{var\"#s13\",1} where var\"#s13\"<:Continuous).\n",
      "└ @ MLJBase /home/andrew/.julia/packages/MLJBase/uKzAz/src/machines.jl:77\n",
      "┌ Warning: The scitype of `X`, in `machine(model, X, ...)` is incompatible with `model=\u001b[34mAdaBoostClassifier @456\u001b[39m`:\n",
      "│ scitype(X) = Table{Union{AbstractArray{Continuous,1}, AbstractArray{Count,1}}}\n",
      "│ input_scitype(model) = Table{var\"#s44\"} where var\"#s44\"<:(AbstractArray{var\"#s13\",1} where var\"#s13\"<:Continuous).\n",
      "└ @ MLJBase /home/andrew/.julia/packages/MLJBase/uKzAz/src/machines.jl:77\n",
      "┌ Warning: The scitype of `X`, in `machine(model, X, ...)` is incompatible with `model=\u001b[34mAdaBoostClassifier @456\u001b[39m`:\n",
      "│ scitype(X) = Table{Union{AbstractArray{Continuous,1}, AbstractArray{Count,1}}}\n",
      "│ input_scitype(model) = Table{var\"#s44\"} where var\"#s44\"<:(AbstractArray{var\"#s13\",1} where var\"#s13\"<:Continuous).\n",
      "└ @ MLJBase /home/andrew/.julia/packages/MLJBase/uKzAz/src/machines.jl:77\n",
      "┌ Warning: The scitype of `X`, in `machine(model, X, ...)` is incompatible with `model=\u001b[34mAdaBoostClassifier @456\u001b[39m`:\n",
      "│ scitype(X) = Table{Union{AbstractArray{Continuous,1}, AbstractArray{Count,1}}}\n",
      "│ input_scitype(model) = Table{var\"#s44\"} where var\"#s44\"<:(AbstractArray{var\"#s13\",1} where var\"#s13\"<:Continuous).\n",
      "└ @ MLJBase /home/andrew/.julia/packages/MLJBase/uKzAz/src/machines.jl:77\n",
      "┌ Warning: The scitype of `X`, in `machine(model, X, ...)` is incompatible with `model=\u001b[34mAdaBoostClassifier @456\u001b[39m`:\n",
      "│ scitype(X) = Table{Union{AbstractArray{Continuous,1}, AbstractArray{Count,1}}}\n",
      "│ input_scitype(model) = Table{var\"#s44\"} where var\"#s44\"<:(AbstractArray{var\"#s13\",1} where var\"#s13\"<:Continuous).\n",
      "└ @ MLJBase /home/andrew/.julia/packages/MLJBase/uKzAz/src/machines.jl:77\n",
      "┌ Warning: The scitype of `X`, in `machine(model, X, ...)` is incompatible with `model=\u001b[34mAdaBoostClassifier @456\u001b[39m`:\n",
      "│ scitype(X) = Table{Union{AbstractArray{Continuous,1}, AbstractArray{Count,1}}}\n",
      "│ input_scitype(model) = Table{var\"#s44\"} where var\"#s44\"<:(AbstractArray{var\"#s13\",1} where var\"#s13\"<:Continuous).\n",
      "└ @ MLJBase /home/andrew/.julia/packages/MLJBase/uKzAz/src/machines.jl:77\n",
      "┌ Warning: The scitype of `X`, in `machine(model, X, ...)` is incompatible with `model=\u001b[34mAdaBoostClassifier @456\u001b[39m`:\n",
      "│ scitype(X) = Table{Union{AbstractArray{Continuous,1}, AbstractArray{Count,1}}}\n",
      "│ input_scitype(model) = Table{var\"#s44\"} where var\"#s44\"<:(AbstractArray{var\"#s13\",1} where var\"#s13\"<:Continuous).\n",
      "└ @ MLJBase /home/andrew/.julia/packages/MLJBase/uKzAz/src/machines.jl:77\n",
      "┌ Warning: The scitype of `X`, in `machine(model, X, ...)` is incompatible with `model=\u001b[34mAdaBoostClassifier @456\u001b[39m`:\n",
      "│ scitype(X) = Table{Union{AbstractArray{Continuous,1}, AbstractArray{Count,1}}}\n",
      "│ input_scitype(model) = Table{var\"#s44\"} where var\"#s44\"<:(AbstractArray{var\"#s13\",1} where var\"#s13\"<:Continuous).\n",
      "└ @ MLJBase /home/andrew/.julia/packages/MLJBase/uKzAz/src/machines.jl:77\n"
     ]
    },
    {
     "name": "stdout",
     "output_type": "stream",
     "text": [
      "(d, train_metric, valid_metric) = (80, 0.825, 0.8040540540540541)\n",
      "(d, train_metric, valid_metric) = (85, 0.8470588235294118, 0.7837837837837838)\n",
      "(d, train_metric, valid_metric) = (90, 0.7888888888888889, 0.7972972972972973)\n",
      "(d, train_metric, valid_metric) = (95, 0.8105263157894737, 0.7972972972972973)\n",
      "(d, train_metric, valid_metric) = (100, 0.79, 0.7972972972972973)\n",
      "(d, train_metric, valid_metric) = (105, 0.7904761904761904, 0.7972972972972973)\n",
      "(d, train_metric, valid_metric) = (110, 0.8181818181818182, 0.7905405405405406)\n",
      "(d, train_metric, valid_metric) = (115, 0.808695652173913, 0.7905405405405406)\n",
      "(d, train_metric, valid_metric) = (120, 0.8, 0.7905405405405406)\n",
      "(d, train_metric, valid_metric) = (125, 0.8, 0.7905405405405406)\n",
      "(d, train_metric, valid_metric) = (130, 0.8076923076923077, 0.7905405405405406)\n"
     ]
    },
    {
     "name": "stderr",
     "output_type": "stream",
     "text": [
      "┌ Warning: The scitype of `X`, in `machine(model, X, ...)` is incompatible with `model=\u001b[34mAdaBoostClassifier @456\u001b[39m`:\n",
      "│ scitype(X) = Table{Union{AbstractArray{Continuous,1}, AbstractArray{Count,1}}}\n",
      "│ input_scitype(model) = Table{var\"#s44\"} where var\"#s44\"<:(AbstractArray{var\"#s13\",1} where var\"#s13\"<:Continuous).\n",
      "└ @ MLJBase /home/andrew/.julia/packages/MLJBase/uKzAz/src/machines.jl:77\n",
      "┌ Warning: The scitype of `X`, in `machine(model, X, ...)` is incompatible with `model=\u001b[34mAdaBoostClassifier @456\u001b[39m`:\n",
      "│ scitype(X) = Table{Union{AbstractArray{Continuous,1}, AbstractArray{Count,1}}}\n",
      "│ input_scitype(model) = Table{var\"#s44\"} where var\"#s44\"<:(AbstractArray{var\"#s13\",1} where var\"#s13\"<:Continuous).\n",
      "└ @ MLJBase /home/andrew/.julia/packages/MLJBase/uKzAz/src/machines.jl:77\n",
      "┌ Warning: The scitype of `X`, in `machine(model, X, ...)` is incompatible with `model=\u001b[34mAdaBoostClassifier @456\u001b[39m`:\n",
      "│ scitype(X) = Table{Union{AbstractArray{Continuous,1}, AbstractArray{Count,1}}}\n",
      "│ input_scitype(model) = Table{var\"#s44\"} where var\"#s44\"<:(AbstractArray{var\"#s13\",1} where var\"#s13\"<:Continuous).\n",
      "└ @ MLJBase /home/andrew/.julia/packages/MLJBase/uKzAz/src/machines.jl:77\n",
      "┌ Warning: The scitype of `X`, in `machine(model, X, ...)` is incompatible with `model=\u001b[34mAdaBoostClassifier @456\u001b[39m`:\n",
      "│ scitype(X) = Table{Union{AbstractArray{Continuous,1}, AbstractArray{Count,1}}}\n",
      "│ input_scitype(model) = Table{var\"#s44\"} where var\"#s44\"<:(AbstractArray{var\"#s13\",1} where var\"#s13\"<:Continuous).\n",
      "└ @ MLJBase /home/andrew/.julia/packages/MLJBase/uKzAz/src/machines.jl:77\n",
      "┌ Warning: The scitype of `X`, in `machine(model, X, ...)` is incompatible with `model=\u001b[34mAdaBoostClassifier @456\u001b[39m`:\n",
      "│ scitype(X) = Table{Union{AbstractArray{Continuous,1}, AbstractArray{Count,1}}}\n",
      "│ input_scitype(model) = Table{var\"#s44\"} where var\"#s44\"<:(AbstractArray{var\"#s13\",1} where var\"#s13\"<:Continuous).\n",
      "└ @ MLJBase /home/andrew/.julia/packages/MLJBase/uKzAz/src/machines.jl:77\n",
      "┌ Warning: The scitype of `X`, in `machine(model, X, ...)` is incompatible with `model=\u001b[34mAdaBoostClassifier @456\u001b[39m`:\n",
      "│ scitype(X) = Table{Union{AbstractArray{Continuous,1}, AbstractArray{Count,1}}}\n",
      "│ input_scitype(model) = Table{var\"#s44\"} where var\"#s44\"<:(AbstractArray{var\"#s13\",1} where var\"#s13\"<:Continuous).\n",
      "└ @ MLJBase /home/andrew/.julia/packages/MLJBase/uKzAz/src/machines.jl:77\n",
      "┌ Warning: The scitype of `X`, in `machine(model, X, ...)` is incompatible with `model=\u001b[34mAdaBoostClassifier @456\u001b[39m`:\n",
      "│ scitype(X) = Table{Union{AbstractArray{Continuous,1}, AbstractArray{Count,1}}}\n",
      "│ input_scitype(model) = Table{var\"#s44\"} where var\"#s44\"<:(AbstractArray{var\"#s13\",1} where var\"#s13\"<:Continuous).\n",
      "└ @ MLJBase /home/andrew/.julia/packages/MLJBase/uKzAz/src/machines.jl:77\n",
      "┌ Warning: The scitype of `X`, in `machine(model, X, ...)` is incompatible with `model=\u001b[34mAdaBoostClassifier @456\u001b[39m`:\n",
      "│ scitype(X) = Table{Union{AbstractArray{Continuous,1}, AbstractArray{Count,1}}}\n",
      "│ input_scitype(model) = Table{var\"#s44\"} where var\"#s44\"<:(AbstractArray{var\"#s13\",1} where var\"#s13\"<:Continuous).\n",
      "└ @ MLJBase /home/andrew/.julia/packages/MLJBase/uKzAz/src/machines.jl:77\n",
      "┌ Warning: The scitype of `X`, in `machine(model, X, ...)` is incompatible with `model=\u001b[34mAdaBoostClassifier @456\u001b[39m`:\n",
      "│ scitype(X) = Table{Union{AbstractArray{Continuous,1}, AbstractArray{Count,1}}}\n",
      "│ input_scitype(model) = Table{var\"#s44\"} where var\"#s44\"<:(AbstractArray{var\"#s13\",1} where var\"#s13\"<:Continuous).\n",
      "└ @ MLJBase /home/andrew/.julia/packages/MLJBase/uKzAz/src/machines.jl:77\n",
      "┌ Warning: The scitype of `X`, in `machine(model, X, ...)` is incompatible with `model=\u001b[34mAdaBoostClassifier @456\u001b[39m`:\n",
      "│ scitype(X) = Table{Union{AbstractArray{Continuous,1}, AbstractArray{Count,1}}}\n",
      "│ input_scitype(model) = Table{var\"#s44\"} where var\"#s44\"<:(AbstractArray{var\"#s13\",1} where var\"#s13\"<:Continuous).\n",
      "└ @ MLJBase /home/andrew/.julia/packages/MLJBase/uKzAz/src/machines.jl:77\n",
      "┌ Warning: The scitype of `X`, in `machine(model, X, ...)` is incompatible with `model=\u001b[34mAdaBoostClassifier @456\u001b[39m`:\n",
      "│ scitype(X) = Table{Union{AbstractArray{Continuous,1}, AbstractArray{Count,1}}}\n",
      "│ input_scitype(model) = Table{var\"#s44\"} where var\"#s44\"<:(AbstractArray{var\"#s13\",1} where var\"#s13\"<:Continuous).\n",
      "└ @ MLJBase /home/andrew/.julia/packages/MLJBase/uKzAz/src/machines.jl:77\n"
     ]
    },
    {
     "name": "stdout",
     "output_type": "stream",
     "text": [
      "(d, train_metric, valid_metric) = (135, 0.8074074074074075, 0.7905405405405406)\n",
      "(d, train_metric, valid_metric) = (140, 0.8071428571428572, 0.7905405405405406)\n",
      "(d, train_metric, valid_metric) = (145, 0.8137931034482758, 0.7905405405405406)\n",
      "(d, train_metric, valid_metric) = (150, 0.8133333333333334, 0.7972972972972973)\n",
      "(d, train_metric, valid_metric) = (155, 0.8129032258064516, 0.7972972972972973)\n",
      "(d, train_metric, valid_metric) = (160, 0.8125, 0.7905405405405406)\n",
      "(d, train_metric, valid_metric) = (165, 0.8121212121212121, 0.7905405405405406)\n",
      "(d, train_metric, valid_metric) = (170, 0.8117647058823529, 0.7837837837837838)\n",
      "(d, train_metric, valid_metric) = (175, 0.8, 0.7905405405405406)\n",
      "(d, train_metric, valid_metric) = (180, 0.8, 0.7905405405405406)\n"
     ]
    },
    {
     "name": "stderr",
     "output_type": "stream",
     "text": [
      "┌ Warning: The scitype of `X`, in `machine(model, X, ...)` is incompatible with `model=\u001b[34mAdaBoostClassifier @456\u001b[39m`:\n",
      "│ scitype(X) = Table{Union{AbstractArray{Continuous,1}, AbstractArray{Count,1}}}\n",
      "│ input_scitype(model) = Table{var\"#s44\"} where var\"#s44\"<:(AbstractArray{var\"#s13\",1} where var\"#s13\"<:Continuous).\n",
      "└ @ MLJBase /home/andrew/.julia/packages/MLJBase/uKzAz/src/machines.jl:77\n",
      "┌ Warning: The scitype of `X`, in `machine(model, X, ...)` is incompatible with `model=\u001b[34mAdaBoostClassifier @456\u001b[39m`:\n",
      "│ scitype(X) = Table{Union{AbstractArray{Continuous,1}, AbstractArray{Count,1}}}\n",
      "│ input_scitype(model) = Table{var\"#s44\"} where var\"#s44\"<:(AbstractArray{var\"#s13\",1} where var\"#s13\"<:Continuous).\n",
      "└ @ MLJBase /home/andrew/.julia/packages/MLJBase/uKzAz/src/machines.jl:77\n",
      "┌ Warning: The scitype of `X`, in `machine(model, X, ...)` is incompatible with `model=\u001b[34mAdaBoostClassifier @456\u001b[39m`:\n",
      "│ scitype(X) = Table{Union{AbstractArray{Continuous,1}, AbstractArray{Count,1}}}\n",
      "│ input_scitype(model) = Table{var\"#s44\"} where var\"#s44\"<:(AbstractArray{var\"#s13\",1} where var\"#s13\"<:Continuous).\n",
      "└ @ MLJBase /home/andrew/.julia/packages/MLJBase/uKzAz/src/machines.jl:77\n",
      "┌ Warning: The scitype of `X`, in `machine(model, X, ...)` is incompatible with `model=\u001b[34mAdaBoostClassifier @456\u001b[39m`:\n",
      "│ scitype(X) = Table{Union{AbstractArray{Continuous,1}, AbstractArray{Count,1}}}\n",
      "│ input_scitype(model) = Table{var\"#s44\"} where var\"#s44\"<:(AbstractArray{var\"#s13\",1} where var\"#s13\"<:Continuous).\n",
      "└ @ MLJBase /home/andrew/.julia/packages/MLJBase/uKzAz/src/machines.jl:77\n",
      "┌ Warning: The scitype of `X`, in `machine(model, X, ...)` is incompatible with `model=\u001b[34mAdaBoostClassifier @456\u001b[39m`:\n",
      "│ scitype(X) = Table{Union{AbstractArray{Continuous,1}, AbstractArray{Count,1}}}\n",
      "│ input_scitype(model) = Table{var\"#s44\"} where var\"#s44\"<:(AbstractArray{var\"#s13\",1} where var\"#s13\"<:Continuous).\n",
      "└ @ MLJBase /home/andrew/.julia/packages/MLJBase/uKzAz/src/machines.jl:77\n",
      "┌ Warning: The scitype of `X`, in `machine(model, X, ...)` is incompatible with `model=\u001b[34mAdaBoostClassifier @456\u001b[39m`:\n",
      "│ scitype(X) = Table{Union{AbstractArray{Continuous,1}, AbstractArray{Count,1}}}\n",
      "│ input_scitype(model) = Table{var\"#s44\"} where var\"#s44\"<:(AbstractArray{var\"#s13\",1} where var\"#s13\"<:Continuous).\n",
      "└ @ MLJBase /home/andrew/.julia/packages/MLJBase/uKzAz/src/machines.jl:77\n",
      "┌ Warning: The scitype of `X`, in `machine(model, X, ...)` is incompatible with `model=\u001b[34mAdaBoostClassifier @456\u001b[39m`:\n",
      "│ scitype(X) = Table{Union{AbstractArray{Continuous,1}, AbstractArray{Count,1}}}\n",
      "│ input_scitype(model) = Table{var\"#s44\"} where var\"#s44\"<:(AbstractArray{var\"#s13\",1} where var\"#s13\"<:Continuous).\n",
      "└ @ MLJBase /home/andrew/.julia/packages/MLJBase/uKzAz/src/machines.jl:77\n",
      "┌ Warning: The scitype of `X`, in `machine(model, X, ...)` is incompatible with `model=\u001b[34mAdaBoostClassifier @456\u001b[39m`:\n",
      "│ scitype(X) = Table{Union{AbstractArray{Continuous,1}, AbstractArray{Count,1}}}\n",
      "│ input_scitype(model) = Table{var\"#s44\"} where var\"#s44\"<:(AbstractArray{var\"#s13\",1} where var\"#s13\"<:Continuous).\n",
      "└ @ MLJBase /home/andrew/.julia/packages/MLJBase/uKzAz/src/machines.jl:77\n",
      "┌ Warning: The scitype of `X`, in `machine(model, X, ...)` is incompatible with `model=\u001b[34mAdaBoostClassifier @456\u001b[39m`:\n",
      "│ scitype(X) = Table{Union{AbstractArray{Continuous,1}, AbstractArray{Count,1}}}\n",
      "│ input_scitype(model) = Table{var\"#s44\"} where var\"#s44\"<:(AbstractArray{var\"#s13\",1} where var\"#s13\"<:Continuous).\n",
      "└ @ MLJBase /home/andrew/.julia/packages/MLJBase/uKzAz/src/machines.jl:77\n",
      "┌ Warning: The scitype of `X`, in `machine(model, X, ...)` is incompatible with `model=\u001b[34mAdaBoostClassifier @456\u001b[39m`:\n",
      "│ scitype(X) = Table{Union{AbstractArray{Continuous,1}, AbstractArray{Count,1}}}\n",
      "│ input_scitype(model) = Table{var\"#s44\"} where var\"#s44\"<:(AbstractArray{var\"#s13\",1} where var\"#s13\"<:Continuous).\n",
      "└ @ MLJBase /home/andrew/.julia/packages/MLJBase/uKzAz/src/machines.jl:77\n"
     ]
    },
    {
     "name": "stdout",
     "output_type": "stream",
     "text": [
      "(d, train_metric, valid_metric) = (185, 0.8054054054054054, 0.7905405405405406)\n",
      "(d, train_metric, valid_metric) = (190, 0.7947368421052632, 0.7905405405405406)\n",
      "(d, train_metric, valid_metric) = (195, 0.8102564102564103, 0.7905405405405406)\n",
      "(d, train_metric, valid_metric) = (200, 0.815, 0.7905405405405406)\n",
      "(d, train_metric, valid_metric) = (205, 0.8195121951219512, 0.7837837837837838)\n",
      "(d, train_metric, valid_metric) = (210, 0.819047619047619, 0.7837837837837838)\n",
      "(d, train_metric, valid_metric) = (215, 0.8046511627906977, 0.7972972972972973)\n",
      "(d, train_metric, valid_metric) = (220, 0.8181818181818182, 0.8243243243243243)\n",
      "(d, train_metric, valid_metric) = (225, 0.8311111111111111, 0.8108108108108109)\n"
     ]
    },
    {
     "name": "stderr",
     "output_type": "stream",
     "text": [
      "┌ Warning: The scitype of `X`, in `machine(model, X, ...)` is incompatible with `model=\u001b[34mAdaBoostClassifier @456\u001b[39m`:\n",
      "│ scitype(X) = Table{Union{AbstractArray{Continuous,1}, AbstractArray{Count,1}}}\n",
      "│ input_scitype(model) = Table{var\"#s44\"} where var\"#s44\"<:(AbstractArray{var\"#s13\",1} where var\"#s13\"<:Continuous).\n",
      "└ @ MLJBase /home/andrew/.julia/packages/MLJBase/uKzAz/src/machines.jl:77\n",
      "┌ Warning: The scitype of `X`, in `machine(model, X, ...)` is incompatible with `model=\u001b[34mAdaBoostClassifier @456\u001b[39m`:\n",
      "│ scitype(X) = Table{Union{AbstractArray{Continuous,1}, AbstractArray{Count,1}}}\n",
      "│ input_scitype(model) = Table{var\"#s44\"} where var\"#s44\"<:(AbstractArray{var\"#s13\",1} where var\"#s13\"<:Continuous).\n",
      "└ @ MLJBase /home/andrew/.julia/packages/MLJBase/uKzAz/src/machines.jl:77\n",
      "┌ Warning: The scitype of `X`, in `machine(model, X, ...)` is incompatible with `model=\u001b[34mAdaBoostClassifier @456\u001b[39m`:\n",
      "│ scitype(X) = Table{Union{AbstractArray{Continuous,1}, AbstractArray{Count,1}}}\n",
      "│ input_scitype(model) = Table{var\"#s44\"} where var\"#s44\"<:(AbstractArray{var\"#s13\",1} where var\"#s13\"<:Continuous).\n",
      "└ @ MLJBase /home/andrew/.julia/packages/MLJBase/uKzAz/src/machines.jl:77\n",
      "┌ Warning: The scitype of `X`, in `machine(model, X, ...)` is incompatible with `model=\u001b[34mAdaBoostClassifier @456\u001b[39m`:\n",
      "│ scitype(X) = Table{Union{AbstractArray{Continuous,1}, AbstractArray{Count,1}}}\n",
      "│ input_scitype(model) = Table{var\"#s44\"} where var\"#s44\"<:(AbstractArray{var\"#s13\",1} where var\"#s13\"<:Continuous).\n",
      "└ @ MLJBase /home/andrew/.julia/packages/MLJBase/uKzAz/src/machines.jl:77\n",
      "┌ Warning: The scitype of `X`, in `machine(model, X, ...)` is incompatible with `model=\u001b[34mAdaBoostClassifier @456\u001b[39m`:\n",
      "│ scitype(X) = Table{Union{AbstractArray{Continuous,1}, AbstractArray{Count,1}}}\n",
      "│ input_scitype(model) = Table{var\"#s44\"} where var\"#s44\"<:(AbstractArray{var\"#s13\",1} where var\"#s13\"<:Continuous).\n",
      "└ @ MLJBase /home/andrew/.julia/packages/MLJBase/uKzAz/src/machines.jl:77\n",
      "┌ Warning: The scitype of `X`, in `machine(model, X, ...)` is incompatible with `model=\u001b[34mAdaBoostClassifier @456\u001b[39m`:\n",
      "│ scitype(X) = Table{Union{AbstractArray{Continuous,1}, AbstractArray{Count,1}}}\n",
      "│ input_scitype(model) = Table{var\"#s44\"} where var\"#s44\"<:(AbstractArray{var\"#s13\",1} where var\"#s13\"<:Continuous).\n",
      "└ @ MLJBase /home/andrew/.julia/packages/MLJBase/uKzAz/src/machines.jl:77\n",
      "┌ Warning: The scitype of `X`, in `machine(model, X, ...)` is incompatible with `model=\u001b[34mAdaBoostClassifier @456\u001b[39m`:\n",
      "│ scitype(X) = Table{Union{AbstractArray{Continuous,1}, AbstractArray{Count,1}}}\n",
      "│ input_scitype(model) = Table{var\"#s44\"} where var\"#s44\"<:(AbstractArray{var\"#s13\",1} where var\"#s13\"<:Continuous).\n",
      "└ @ MLJBase /home/andrew/.julia/packages/MLJBase/uKzAz/src/machines.jl:77\n",
      "┌ Warning: The scitype of `X`, in `machine(model, X, ...)` is incompatible with `model=\u001b[34mAdaBoostClassifier @456\u001b[39m`:\n",
      "│ scitype(X) = Table{Union{AbstractArray{Continuous,1}, AbstractArray{Count,1}}}\n",
      "│ input_scitype(model) = Table{var\"#s44\"} where var\"#s44\"<:(AbstractArray{var\"#s13\",1} where var\"#s13\"<:Continuous).\n",
      "└ @ MLJBase /home/andrew/.julia/packages/MLJBase/uKzAz/src/machines.jl:77\n",
      "┌ Warning: The scitype of `X`, in `machine(model, X, ...)` is incompatible with `model=\u001b[34mAdaBoostClassifier @456\u001b[39m`:\n",
      "│ scitype(X) = Table{Union{AbstractArray{Continuous,1}, AbstractArray{Count,1}}}\n",
      "│ input_scitype(model) = Table{var\"#s44\"} where var\"#s44\"<:(AbstractArray{var\"#s13\",1} where var\"#s13\"<:Continuous).\n",
      "└ @ MLJBase /home/andrew/.julia/packages/MLJBase/uKzAz/src/machines.jl:77\n"
     ]
    },
    {
     "name": "stdout",
     "output_type": "stream",
     "text": [
      "(d, train_metric, valid_metric) = (230, 0.8043478260869565, 0.7972972972972973)\n",
      "(d, train_metric, valid_metric) = (235, 0.8085106382978723, 0.7972972972972973)\n",
      "(d, train_metric, valid_metric) = (240, 0.8333333333333334, 0.7905405405405406)\n",
      "(d, train_metric, valid_metric) = (245, 0.8285714285714286, 0.7905405405405406)\n",
      "(d, train_metric, valid_metric) = (250, 0.824, 0.7905405405405406)\n",
      "(d, train_metric, valid_metric) = (255, 0.8235294117647058, 0.7972972972972973)\n",
      "(d, train_metric, valid_metric) = (260, 0.8153846153846154, 0.7972972972972973)\n",
      "(d, train_metric, valid_metric) = (265, 0.8113207547169812, 0.7905405405405406)\n",
      "(d, train_metric, valid_metric) = (270, 0.8148148148148148, 0.7905405405405406)\n"
     ]
    },
    {
     "name": "stderr",
     "output_type": "stream",
     "text": [
      "┌ Warning: The scitype of `X`, in `machine(model, X, ...)` is incompatible with `model=\u001b[34mAdaBoostClassifier @456\u001b[39m`:\n",
      "│ scitype(X) = Table{Union{AbstractArray{Continuous,1}, AbstractArray{Count,1}}}\n",
      "│ input_scitype(model) = Table{var\"#s44\"} where var\"#s44\"<:(AbstractArray{var\"#s13\",1} where var\"#s13\"<:Continuous).\n",
      "└ @ MLJBase /home/andrew/.julia/packages/MLJBase/uKzAz/src/machines.jl:77\n",
      "┌ Warning: The scitype of `X`, in `machine(model, X, ...)` is incompatible with `model=\u001b[34mAdaBoostClassifier @456\u001b[39m`:\n",
      "│ scitype(X) = Table{Union{AbstractArray{Continuous,1}, AbstractArray{Count,1}}}\n",
      "│ input_scitype(model) = Table{var\"#s44\"} where var\"#s44\"<:(AbstractArray{var\"#s13\",1} where var\"#s13\"<:Continuous).\n",
      "└ @ MLJBase /home/andrew/.julia/packages/MLJBase/uKzAz/src/machines.jl:77\n",
      "┌ Warning: The scitype of `X`, in `machine(model, X, ...)` is incompatible with `model=\u001b[34mAdaBoostClassifier @456\u001b[39m`:\n",
      "│ scitype(X) = Table{Union{AbstractArray{Continuous,1}, AbstractArray{Count,1}}}\n",
      "│ input_scitype(model) = Table{var\"#s44\"} where var\"#s44\"<:(AbstractArray{var\"#s13\",1} where var\"#s13\"<:Continuous).\n",
      "└ @ MLJBase /home/andrew/.julia/packages/MLJBase/uKzAz/src/machines.jl:77\n",
      "┌ Warning: The scitype of `X`, in `machine(model, X, ...)` is incompatible with `model=\u001b[34mAdaBoostClassifier @456\u001b[39m`:\n",
      "│ scitype(X) = Table{Union{AbstractArray{Continuous,1}, AbstractArray{Count,1}}}\n",
      "│ input_scitype(model) = Table{var\"#s44\"} where var\"#s44\"<:(AbstractArray{var\"#s13\",1} where var\"#s13\"<:Continuous).\n",
      "└ @ MLJBase /home/andrew/.julia/packages/MLJBase/uKzAz/src/machines.jl:77\n",
      "┌ Warning: The scitype of `X`, in `machine(model, X, ...)` is incompatible with `model=\u001b[34mAdaBoostClassifier @456\u001b[39m`:\n",
      "│ scitype(X) = Table{Union{AbstractArray{Continuous,1}, AbstractArray{Count,1}}}\n",
      "│ input_scitype(model) = Table{var\"#s44\"} where var\"#s44\"<:(AbstractArray{var\"#s13\",1} where var\"#s13\"<:Continuous).\n",
      "└ @ MLJBase /home/andrew/.julia/packages/MLJBase/uKzAz/src/machines.jl:77\n",
      "┌ Warning: The scitype of `X`, in `machine(model, X, ...)` is incompatible with `model=\u001b[34mAdaBoostClassifier @456\u001b[39m`:\n",
      "│ scitype(X) = Table{Union{AbstractArray{Continuous,1}, AbstractArray{Count,1}}}\n",
      "│ input_scitype(model) = Table{var\"#s44\"} where var\"#s44\"<:(AbstractArray{var\"#s13\",1} where var\"#s13\"<:Continuous).\n",
      "└ @ MLJBase /home/andrew/.julia/packages/MLJBase/uKzAz/src/machines.jl:77\n",
      "┌ Warning: The scitype of `X`, in `machine(model, X, ...)` is incompatible with `model=\u001b[34mAdaBoostClassifier @456\u001b[39m`:\n",
      "│ scitype(X) = Table{Union{AbstractArray{Continuous,1}, AbstractArray{Count,1}}}\n",
      "│ input_scitype(model) = Table{var\"#s44\"} where var\"#s44\"<:(AbstractArray{var\"#s13\",1} where var\"#s13\"<:Continuous).\n",
      "└ @ MLJBase /home/andrew/.julia/packages/MLJBase/uKzAz/src/machines.jl:77\n",
      "┌ Warning: The scitype of `X`, in `machine(model, X, ...)` is incompatible with `model=\u001b[34mAdaBoostClassifier @456\u001b[39m`:\n",
      "│ scitype(X) = Table{Union{AbstractArray{Continuous,1}, AbstractArray{Count,1}}}\n",
      "│ input_scitype(model) = Table{var\"#s44\"} where var\"#s44\"<:(AbstractArray{var\"#s13\",1} where var\"#s13\"<:Continuous).\n",
      "└ @ MLJBase /home/andrew/.julia/packages/MLJBase/uKzAz/src/machines.jl:77\n",
      "┌ Warning: The scitype of `X`, in `machine(model, X, ...)` is incompatible with `model=\u001b[34mAdaBoostClassifier @456\u001b[39m`:\n",
      "│ scitype(X) = Table{Union{AbstractArray{Continuous,1}, AbstractArray{Count,1}}}\n",
      "│ input_scitype(model) = Table{var\"#s44\"} where var\"#s44\"<:(AbstractArray{var\"#s13\",1} where var\"#s13\"<:Continuous).\n",
      "└ @ MLJBase /home/andrew/.julia/packages/MLJBase/uKzAz/src/machines.jl:77\n"
     ]
    },
    {
     "name": "stdout",
     "output_type": "stream",
     "text": [
      "(d, train_metric, valid_metric) = (275, 0.8145454545454546, 0.7905405405405406)\n",
      "(d, train_metric, valid_metric) = (280, 0.8142857142857143, 0.8108108108108109)\n",
      "(d, train_metric, valid_metric) = (285, 0.8210526315789474, 0.8040540540540541)\n",
      "(d, train_metric, valid_metric) = (290, 0.8172413793103448, 0.8040540540540541)\n",
      "(d, train_metric, valid_metric) = (295, 0.8135593220338984, 0.8040540540540541)\n",
      "(d, train_metric, valid_metric) = (300, 0.81, 0.8040540540540541)\n",
      "(d, train_metric, valid_metric) = (305, 0.8262295081967214, 0.7837837837837838)\n",
      "(d, train_metric, valid_metric) = (310, 0.8290322580645161, 0.7837837837837838)\n",
      "(d, train_metric, valid_metric) = (315, 0.8222222222222222, 0.7837837837837838)\n"
     ]
    },
    {
     "name": "stderr",
     "output_type": "stream",
     "text": [
      "┌ Warning: The scitype of `X`, in `machine(model, X, ...)` is incompatible with `model=\u001b[34mAdaBoostClassifier @456\u001b[39m`:\n",
      "│ scitype(X) = Table{Union{AbstractArray{Continuous,1}, AbstractArray{Count,1}}}\n",
      "│ input_scitype(model) = Table{var\"#s44\"} where var\"#s44\"<:(AbstractArray{var\"#s13\",1} where var\"#s13\"<:Continuous).\n",
      "└ @ MLJBase /home/andrew/.julia/packages/MLJBase/uKzAz/src/machines.jl:77\n",
      "┌ Warning: The scitype of `X`, in `machine(model, X, ...)` is incompatible with `model=\u001b[34mAdaBoostClassifier @456\u001b[39m`:\n",
      "│ scitype(X) = Table{Union{AbstractArray{Continuous,1}, AbstractArray{Count,1}}}\n",
      "│ input_scitype(model) = Table{var\"#s44\"} where var\"#s44\"<:(AbstractArray{var\"#s13\",1} where var\"#s13\"<:Continuous).\n",
      "└ @ MLJBase /home/andrew/.julia/packages/MLJBase/uKzAz/src/machines.jl:77\n",
      "┌ Warning: The scitype of `X`, in `machine(model, X, ...)` is incompatible with `model=\u001b[34mAdaBoostClassifier @456\u001b[39m`:\n",
      "│ scitype(X) = Table{Union{AbstractArray{Continuous,1}, AbstractArray{Count,1}}}\n",
      "│ input_scitype(model) = Table{var\"#s44\"} where var\"#s44\"<:(AbstractArray{var\"#s13\",1} where var\"#s13\"<:Continuous).\n",
      "└ @ MLJBase /home/andrew/.julia/packages/MLJBase/uKzAz/src/machines.jl:77\n",
      "┌ Warning: The scitype of `X`, in `machine(model, X, ...)` is incompatible with `model=\u001b[34mAdaBoostClassifier @456\u001b[39m`:\n",
      "│ scitype(X) = Table{Union{AbstractArray{Continuous,1}, AbstractArray{Count,1}}}\n",
      "│ input_scitype(model) = Table{var\"#s44\"} where var\"#s44\"<:(AbstractArray{var\"#s13\",1} where var\"#s13\"<:Continuous).\n",
      "└ @ MLJBase /home/andrew/.julia/packages/MLJBase/uKzAz/src/machines.jl:77\n",
      "┌ Warning: The scitype of `X`, in `machine(model, X, ...)` is incompatible with `model=\u001b[34mAdaBoostClassifier @456\u001b[39m`:\n",
      "│ scitype(X) = Table{Union{AbstractArray{Continuous,1}, AbstractArray{Count,1}}}\n",
      "│ input_scitype(model) = Table{var\"#s44\"} where var\"#s44\"<:(AbstractArray{var\"#s13\",1} where var\"#s13\"<:Continuous).\n",
      "└ @ MLJBase /home/andrew/.julia/packages/MLJBase/uKzAz/src/machines.jl:77\n",
      "┌ Warning: The scitype of `X`, in `machine(model, X, ...)` is incompatible with `model=\u001b[34mAdaBoostClassifier @456\u001b[39m`:\n",
      "│ scitype(X) = Table{Union{AbstractArray{Continuous,1}, AbstractArray{Count,1}}}\n",
      "│ input_scitype(model) = Table{var\"#s44\"} where var\"#s44\"<:(AbstractArray{var\"#s13\",1} where var\"#s13\"<:Continuous).\n",
      "└ @ MLJBase /home/andrew/.julia/packages/MLJBase/uKzAz/src/machines.jl:77\n",
      "┌ Warning: The scitype of `X`, in `machine(model, X, ...)` is incompatible with `model=\u001b[34mAdaBoostClassifier @456\u001b[39m`:\n",
      "│ scitype(X) = Table{Union{AbstractArray{Continuous,1}, AbstractArray{Count,1}}}\n",
      "│ input_scitype(model) = Table{var\"#s44\"} where var\"#s44\"<:(AbstractArray{var\"#s13\",1} where var\"#s13\"<:Continuous).\n",
      "└ @ MLJBase /home/andrew/.julia/packages/MLJBase/uKzAz/src/machines.jl:77\n",
      "┌ Warning: The scitype of `X`, in `machine(model, X, ...)` is incompatible with `model=\u001b[34mAdaBoostClassifier @456\u001b[39m`:\n",
      "│ scitype(X) = Table{Union{AbstractArray{Continuous,1}, AbstractArray{Count,1}}}\n",
      "│ input_scitype(model) = Table{var\"#s44\"} where var\"#s44\"<:(AbstractArray{var\"#s13\",1} where var\"#s13\"<:Continuous).\n",
      "└ @ MLJBase /home/andrew/.julia/packages/MLJBase/uKzAz/src/machines.jl:77\n",
      "┌ Warning: The scitype of `X`, in `machine(model, X, ...)` is incompatible with `model=\u001b[34mAdaBoostClassifier @456\u001b[39m`:\n",
      "│ scitype(X) = Table{Union{AbstractArray{Continuous,1}, AbstractArray{Count,1}}}\n",
      "│ input_scitype(model) = Table{var\"#s44\"} where var\"#s44\"<:(AbstractArray{var\"#s13\",1} where var\"#s13\"<:Continuous).\n",
      "└ @ MLJBase /home/andrew/.julia/packages/MLJBase/uKzAz/src/machines.jl:77\n"
     ]
    },
    {
     "name": "stdout",
     "output_type": "stream",
     "text": [
      "(d, train_metric, valid_metric) = (320, 0.825, 0.7837837837837838)\n",
      "(d, train_metric, valid_metric) = (325, 0.8307692307692308, 0.7905405405405406)\n",
      "(d, train_metric, valid_metric) = (330, 0.8272727272727273, 0.8040540540540541)\n",
      "(d, train_metric, valid_metric) = (335, 0.8238805970149253, 0.7972972972972973)\n",
      "(d, train_metric, valid_metric) = (340, 0.8235294117647058, 0.8040540540540541)\n",
      "(d, train_metric, valid_metric) = (345, 0.8202898550724638, 0.7905405405405406)\n",
      "(d, train_metric, valid_metric) = (350, 0.8228571428571428, 0.7905405405405406)\n"
     ]
    },
    {
     "name": "stderr",
     "output_type": "stream",
     "text": [
      "┌ Warning: The scitype of `X`, in `machine(model, X, ...)` is incompatible with `model=\u001b[34mAdaBoostClassifier @456\u001b[39m`:\n",
      "│ scitype(X) = Table{Union{AbstractArray{Continuous,1}, AbstractArray{Count,1}}}\n",
      "│ input_scitype(model) = Table{var\"#s44\"} where var\"#s44\"<:(AbstractArray{var\"#s13\",1} where var\"#s13\"<:Continuous).\n",
      "└ @ MLJBase /home/andrew/.julia/packages/MLJBase/uKzAz/src/machines.jl:77\n",
      "┌ Warning: The scitype of `X`, in `machine(model, X, ...)` is incompatible with `model=\u001b[34mAdaBoostClassifier @456\u001b[39m`:\n",
      "│ scitype(X) = Table{Union{AbstractArray{Continuous,1}, AbstractArray{Count,1}}}\n",
      "│ input_scitype(model) = Table{var\"#s44\"} where var\"#s44\"<:(AbstractArray{var\"#s13\",1} where var\"#s13\"<:Continuous).\n",
      "└ @ MLJBase /home/andrew/.julia/packages/MLJBase/uKzAz/src/machines.jl:77\n",
      "┌ Warning: The scitype of `X`, in `machine(model, X, ...)` is incompatible with `model=\u001b[34mAdaBoostClassifier @456\u001b[39m`:\n",
      "│ scitype(X) = Table{Union{AbstractArray{Continuous,1}, AbstractArray{Count,1}}}\n",
      "│ input_scitype(model) = Table{var\"#s44\"} where var\"#s44\"<:(AbstractArray{var\"#s13\",1} where var\"#s13\"<:Continuous).\n",
      "└ @ MLJBase /home/andrew/.julia/packages/MLJBase/uKzAz/src/machines.jl:77\n",
      "┌ Warning: The scitype of `X`, in `machine(model, X, ...)` is incompatible with `model=\u001b[34mAdaBoostClassifier @456\u001b[39m`:\n",
      "│ scitype(X) = Table{Union{AbstractArray{Continuous,1}, AbstractArray{Count,1}}}\n",
      "│ input_scitype(model) = Table{var\"#s44\"} where var\"#s44\"<:(AbstractArray{var\"#s13\",1} where var\"#s13\"<:Continuous).\n",
      "└ @ MLJBase /home/andrew/.julia/packages/MLJBase/uKzAz/src/machines.jl:77\n",
      "┌ Warning: The scitype of `X`, in `machine(model, X, ...)` is incompatible with `model=\u001b[34mAdaBoostClassifier @456\u001b[39m`:\n",
      "│ scitype(X) = Table{Union{AbstractArray{Continuous,1}, AbstractArray{Count,1}}}\n",
      "│ input_scitype(model) = Table{var\"#s44\"} where var\"#s44\"<:(AbstractArray{var\"#s13\",1} where var\"#s13\"<:Continuous).\n",
      "└ @ MLJBase /home/andrew/.julia/packages/MLJBase/uKzAz/src/machines.jl:77\n",
      "┌ Warning: The scitype of `X`, in `machine(model, X, ...)` is incompatible with `model=\u001b[34mAdaBoostClassifier @456\u001b[39m`:\n",
      "│ scitype(X) = Table{Union{AbstractArray{Continuous,1}, AbstractArray{Count,1}}}\n",
      "│ input_scitype(model) = Table{var\"#s44\"} where var\"#s44\"<:(AbstractArray{var\"#s13\",1} where var\"#s13\"<:Continuous).\n",
      "└ @ MLJBase /home/andrew/.julia/packages/MLJBase/uKzAz/src/machines.jl:77\n",
      "┌ Warning: The scitype of `X`, in `machine(model, X, ...)` is incompatible with `model=\u001b[34mAdaBoostClassifier @456\u001b[39m`:\n",
      "│ scitype(X) = Table{Union{AbstractArray{Continuous,1}, AbstractArray{Count,1}}}\n",
      "│ input_scitype(model) = Table{var\"#s44\"} where var\"#s44\"<:(AbstractArray{var\"#s13\",1} where var\"#s13\"<:Continuous).\n",
      "└ @ MLJBase /home/andrew/.julia/packages/MLJBase/uKzAz/src/machines.jl:77\n"
     ]
    },
    {
     "name": "stdout",
     "output_type": "stream",
     "text": [
      "(d, train_metric, valid_metric) = (355, 0.8225352112676056, 0.7905405405405406)\n",
      "(d, train_metric, valid_metric) = (360, 0.8305555555555556, 0.7635135135135135)\n",
      "(d, train_metric, valid_metric) = (365, 0.8136986301369863, 0.7972972972972973)\n",
      "(d, train_metric, valid_metric) = (370, 0.8162162162162162, 0.777027027027027)\n",
      "(d, train_metric, valid_metric) = (375, 0.808, 0.7905405405405406)\n",
      "(d, train_metric, valid_metric) = (380, 0.8105263157894737, 0.7972972972972973)\n",
      "(d, train_metric, valid_metric) = (385, 0.8051948051948052, 0.7972972972972973)\n",
      "(d, train_metric, valid_metric) = (390, 0.8051282051282052, 0.7905405405405406)\n"
     ]
    },
    {
     "name": "stderr",
     "output_type": "stream",
     "text": [
      "┌ Warning: The scitype of `X`, in `machine(model, X, ...)` is incompatible with `model=\u001b[34mAdaBoostClassifier @456\u001b[39m`:\n",
      "│ scitype(X) = Table{Union{AbstractArray{Continuous,1}, AbstractArray{Count,1}}}\n",
      "│ input_scitype(model) = Table{var\"#s44\"} where var\"#s44\"<:(AbstractArray{var\"#s13\",1} where var\"#s13\"<:Continuous).\n",
      "└ @ MLJBase /home/andrew/.julia/packages/MLJBase/uKzAz/src/machines.jl:77\n",
      "┌ Warning: The scitype of `X`, in `machine(model, X, ...)` is incompatible with `model=\u001b[34mAdaBoostClassifier @456\u001b[39m`:\n",
      "│ scitype(X) = Table{Union{AbstractArray{Continuous,1}, AbstractArray{Count,1}}}\n",
      "│ input_scitype(model) = Table{var\"#s44\"} where var\"#s44\"<:(AbstractArray{var\"#s13\",1} where var\"#s13\"<:Continuous).\n",
      "└ @ MLJBase /home/andrew/.julia/packages/MLJBase/uKzAz/src/machines.jl:77\n",
      "┌ Warning: The scitype of `X`, in `machine(model, X, ...)` is incompatible with `model=\u001b[34mAdaBoostClassifier @456\u001b[39m`:\n",
      "│ scitype(X) = Table{Union{AbstractArray{Continuous,1}, AbstractArray{Count,1}}}\n",
      "│ input_scitype(model) = Table{var\"#s44\"} where var\"#s44\"<:(AbstractArray{var\"#s13\",1} where var\"#s13\"<:Continuous).\n",
      "└ @ MLJBase /home/andrew/.julia/packages/MLJBase/uKzAz/src/machines.jl:77\n",
      "┌ Warning: The scitype of `X`, in `machine(model, X, ...)` is incompatible with `model=\u001b[34mAdaBoostClassifier @456\u001b[39m`:\n",
      "│ scitype(X) = Table{Union{AbstractArray{Continuous,1}, AbstractArray{Count,1}}}\n",
      "│ input_scitype(model) = Table{var\"#s44\"} where var\"#s44\"<:(AbstractArray{var\"#s13\",1} where var\"#s13\"<:Continuous).\n",
      "└ @ MLJBase /home/andrew/.julia/packages/MLJBase/uKzAz/src/machines.jl:77\n",
      "┌ Warning: The scitype of `X`, in `machine(model, X, ...)` is incompatible with `model=\u001b[34mAdaBoostClassifier @456\u001b[39m`:\n",
      "│ scitype(X) = Table{Union{AbstractArray{Continuous,1}, AbstractArray{Count,1}}}\n",
      "│ input_scitype(model) = Table{var\"#s44\"} where var\"#s44\"<:(AbstractArray{var\"#s13\",1} where var\"#s13\"<:Continuous).\n",
      "└ @ MLJBase /home/andrew/.julia/packages/MLJBase/uKzAz/src/machines.jl:77\n",
      "┌ Warning: The scitype of `X`, in `machine(model, X, ...)` is incompatible with `model=\u001b[34mAdaBoostClassifier @456\u001b[39m`:\n",
      "│ scitype(X) = Table{Union{AbstractArray{Continuous,1}, AbstractArray{Count,1}}}\n",
      "│ input_scitype(model) = Table{var\"#s44\"} where var\"#s44\"<:(AbstractArray{var\"#s13\",1} where var\"#s13\"<:Continuous).\n",
      "└ @ MLJBase /home/andrew/.julia/packages/MLJBase/uKzAz/src/machines.jl:77\n",
      "┌ Warning: The scitype of `X`, in `machine(model, X, ...)` is incompatible with `model=\u001b[34mAdaBoostClassifier @456\u001b[39m`:\n",
      "│ scitype(X) = Table{Union{AbstractArray{Continuous,1}, AbstractArray{Count,1}}}\n",
      "│ input_scitype(model) = Table{var\"#s44\"} where var\"#s44\"<:(AbstractArray{var\"#s13\",1} where var\"#s13\"<:Continuous).\n",
      "└ @ MLJBase /home/andrew/.julia/packages/MLJBase/uKzAz/src/machines.jl:77\n",
      "┌ Warning: The scitype of `X`, in `machine(model, X, ...)` is incompatible with `model=\u001b[34mAdaBoostClassifier @456\u001b[39m`:\n",
      "│ scitype(X) = Table{Union{AbstractArray{Continuous,1}, AbstractArray{Count,1}}}\n",
      "│ input_scitype(model) = Table{var\"#s44\"} where var\"#s44\"<:(AbstractArray{var\"#s13\",1} where var\"#s13\"<:Continuous).\n",
      "└ @ MLJBase /home/andrew/.julia/packages/MLJBase/uKzAz/src/machines.jl:77\n"
     ]
    },
    {
     "name": "stdout",
     "output_type": "stream",
     "text": [
      "(d, train_metric, valid_metric) = (395, 0.8050632911392405, 0.7972972972972973)\n",
      "(d, train_metric, valid_metric) = (400, 0.805, 0.7905405405405406)\n",
      "(d, train_metric, valid_metric) = (405, 0.8049382716049382, 0.7905405405405406)\n",
      "(d, train_metric, valid_metric) = (410, 0.802439024390244, 0.7972972972972973)\n",
      "(d, train_metric, valid_metric) = (415, 0.8024096385542169, 0.7972972972972973)\n",
      "(d, train_metric, valid_metric) = (420, 0.8023809523809524, 0.7972972972972973)\n",
      "(d, train_metric, valid_metric) = (425, 0.8023529411764706, 0.7972972972972973)\n",
      "(d, train_metric, valid_metric) = (430, 0.8023255813953488, 0.7972972972972973)\n"
     ]
    },
    {
     "name": "stderr",
     "output_type": "stream",
     "text": [
      "┌ Warning: The scitype of `X`, in `machine(model, X, ...)` is incompatible with `model=\u001b[34mAdaBoostClassifier @456\u001b[39m`:\n",
      "│ scitype(X) = Table{Union{AbstractArray{Continuous,1}, AbstractArray{Count,1}}}\n",
      "│ input_scitype(model) = Table{var\"#s44\"} where var\"#s44\"<:(AbstractArray{var\"#s13\",1} where var\"#s13\"<:Continuous).\n",
      "└ @ MLJBase /home/andrew/.julia/packages/MLJBase/uKzAz/src/machines.jl:77\n",
      "┌ Warning: The scitype of `X`, in `machine(model, X, ...)` is incompatible with `model=\u001b[34mAdaBoostClassifier @456\u001b[39m`:\n",
      "│ scitype(X) = Table{Union{AbstractArray{Continuous,1}, AbstractArray{Count,1}}}\n",
      "│ input_scitype(model) = Table{var\"#s44\"} where var\"#s44\"<:(AbstractArray{var\"#s13\",1} where var\"#s13\"<:Continuous).\n",
      "└ @ MLJBase /home/andrew/.julia/packages/MLJBase/uKzAz/src/machines.jl:77\n",
      "┌ Warning: The scitype of `X`, in `machine(model, X, ...)` is incompatible with `model=\u001b[34mAdaBoostClassifier @456\u001b[39m`:\n",
      "│ scitype(X) = Table{Union{AbstractArray{Continuous,1}, AbstractArray{Count,1}}}\n",
      "│ input_scitype(model) = Table{var\"#s44\"} where var\"#s44\"<:(AbstractArray{var\"#s13\",1} where var\"#s13\"<:Continuous).\n",
      "└ @ MLJBase /home/andrew/.julia/packages/MLJBase/uKzAz/src/machines.jl:77\n",
      "┌ Warning: The scitype of `X`, in `machine(model, X, ...)` is incompatible with `model=\u001b[34mAdaBoostClassifier @456\u001b[39m`:\n",
      "│ scitype(X) = Table{Union{AbstractArray{Continuous,1}, AbstractArray{Count,1}}}\n",
      "│ input_scitype(model) = Table{var\"#s44\"} where var\"#s44\"<:(AbstractArray{var\"#s13\",1} where var\"#s13\"<:Continuous).\n",
      "└ @ MLJBase /home/andrew/.julia/packages/MLJBase/uKzAz/src/machines.jl:77\n",
      "┌ Warning: The scitype of `X`, in `machine(model, X, ...)` is incompatible with `model=\u001b[34mAdaBoostClassifier @456\u001b[39m`:\n",
      "│ scitype(X) = Table{Union{AbstractArray{Continuous,1}, AbstractArray{Count,1}}}\n",
      "│ input_scitype(model) = Table{var\"#s44\"} where var\"#s44\"<:(AbstractArray{var\"#s13\",1} where var\"#s13\"<:Continuous).\n",
      "└ @ MLJBase /home/andrew/.julia/packages/MLJBase/uKzAz/src/machines.jl:77\n",
      "┌ Warning: The scitype of `X`, in `machine(model, X, ...)` is incompatible with `model=\u001b[34mAdaBoostClassifier @456\u001b[39m`:\n",
      "│ scitype(X) = Table{Union{AbstractArray{Continuous,1}, AbstractArray{Count,1}}}\n",
      "│ input_scitype(model) = Table{var\"#s44\"} where var\"#s44\"<:(AbstractArray{var\"#s13\",1} where var\"#s13\"<:Continuous).\n",
      "└ @ MLJBase /home/andrew/.julia/packages/MLJBase/uKzAz/src/machines.jl:77\n",
      "┌ Warning: The scitype of `X`, in `machine(model, X, ...)` is incompatible with `model=\u001b[34mAdaBoostClassifier @456\u001b[39m`:\n",
      "│ scitype(X) = Table{Union{AbstractArray{Continuous,1}, AbstractArray{Count,1}}}\n",
      "│ input_scitype(model) = Table{var\"#s44\"} where var\"#s44\"<:(AbstractArray{var\"#s13\",1} where var\"#s13\"<:Continuous).\n",
      "└ @ MLJBase /home/andrew/.julia/packages/MLJBase/uKzAz/src/machines.jl:77\n",
      "┌ Warning: The scitype of `X`, in `machine(model, X, ...)` is incompatible with `model=\u001b[34mAdaBoostClassifier @456\u001b[39m`:\n",
      "│ scitype(X) = Table{Union{AbstractArray{Continuous,1}, AbstractArray{Count,1}}}\n",
      "│ input_scitype(model) = Table{var\"#s44\"} where var\"#s44\"<:(AbstractArray{var\"#s13\",1} where var\"#s13\"<:Continuous).\n",
      "└ @ MLJBase /home/andrew/.julia/packages/MLJBase/uKzAz/src/machines.jl:77\n"
     ]
    },
    {
     "name": "stdout",
     "output_type": "stream",
     "text": [
      "(d, train_metric, valid_metric) = (435, 0.8022988505747126, 0.7972972972972973)\n",
      "(d, train_metric, valid_metric) = (440, 0.8045454545454546, 0.7972972972972973)\n",
      "(d, train_metric, valid_metric) = (445, 0.7820224719101123, 0.7837837837837838)\n",
      "(d, train_metric, valid_metric) = (450, 0.8022222222222222, 0.7905405405405406)\n",
      "(d, train_metric, valid_metric) = (455, 0.8021978021978022, 0.7905405405405406)\n",
      "(d, train_metric, valid_metric) = (460, 0.8021739130434783, 0.7905405405405406)\n",
      "(d, train_metric, valid_metric) = (465, 0.8193548387096774, 0.7837837837837838)\n",
      "(d, train_metric, valid_metric) = (470, 0.8212765957446808, 0.7837837837837838)\n"
     ]
    },
    {
     "name": "stderr",
     "output_type": "stream",
     "text": [
      "┌ Warning: The scitype of `X`, in `machine(model, X, ...)` is incompatible with `model=\u001b[34mAdaBoostClassifier @456\u001b[39m`:\n",
      "│ scitype(X) = Table{Union{AbstractArray{Continuous,1}, AbstractArray{Count,1}}}\n",
      "│ input_scitype(model) = Table{var\"#s44\"} where var\"#s44\"<:(AbstractArray{var\"#s13\",1} where var\"#s13\"<:Continuous).\n",
      "└ @ MLJBase /home/andrew/.julia/packages/MLJBase/uKzAz/src/machines.jl:77\n",
      "┌ Warning: The scitype of `X`, in `machine(model, X, ...)` is incompatible with `model=\u001b[34mAdaBoostClassifier @456\u001b[39m`:\n",
      "│ scitype(X) = Table{Union{AbstractArray{Continuous,1}, AbstractArray{Count,1}}}\n",
      "│ input_scitype(model) = Table{var\"#s44\"} where var\"#s44\"<:(AbstractArray{var\"#s13\",1} where var\"#s13\"<:Continuous).\n",
      "└ @ MLJBase /home/andrew/.julia/packages/MLJBase/uKzAz/src/machines.jl:77\n",
      "┌ Warning: The scitype of `X`, in `machine(model, X, ...)` is incompatible with `model=\u001b[34mAdaBoostClassifier @456\u001b[39m`:\n",
      "│ scitype(X) = Table{Union{AbstractArray{Continuous,1}, AbstractArray{Count,1}}}\n",
      "│ input_scitype(model) = Table{var\"#s44\"} where var\"#s44\"<:(AbstractArray{var\"#s13\",1} where var\"#s13\"<:Continuous).\n",
      "└ @ MLJBase /home/andrew/.julia/packages/MLJBase/uKzAz/src/machines.jl:77\n",
      "┌ Warning: The scitype of `X`, in `machine(model, X, ...)` is incompatible with `model=\u001b[34mAdaBoostClassifier @456\u001b[39m`:\n",
      "│ scitype(X) = Table{Union{AbstractArray{Continuous,1}, AbstractArray{Count,1}}}\n",
      "│ input_scitype(model) = Table{var\"#s44\"} where var\"#s44\"<:(AbstractArray{var\"#s13\",1} where var\"#s13\"<:Continuous).\n",
      "└ @ MLJBase /home/andrew/.julia/packages/MLJBase/uKzAz/src/machines.jl:77\n",
      "┌ Warning: The scitype of `X`, in `machine(model, X, ...)` is incompatible with `model=\u001b[34mAdaBoostClassifier @456\u001b[39m`:\n",
      "│ scitype(X) = Table{Union{AbstractArray{Continuous,1}, AbstractArray{Count,1}}}\n",
      "│ input_scitype(model) = Table{var\"#s44\"} where var\"#s44\"<:(AbstractArray{var\"#s13\",1} where var\"#s13\"<:Continuous).\n",
      "└ @ MLJBase /home/andrew/.julia/packages/MLJBase/uKzAz/src/machines.jl:77\n",
      "┌ Warning: The scitype of `X`, in `machine(model, X, ...)` is incompatible with `model=\u001b[34mAdaBoostClassifier @456\u001b[39m`:\n",
      "│ scitype(X) = Table{Union{AbstractArray{Continuous,1}, AbstractArray{Count,1}}}\n",
      "│ input_scitype(model) = Table{var\"#s44\"} where var\"#s44\"<:(AbstractArray{var\"#s13\",1} where var\"#s13\"<:Continuous).\n",
      "└ @ MLJBase /home/andrew/.julia/packages/MLJBase/uKzAz/src/machines.jl:77\n",
      "┌ Warning: The scitype of `X`, in `machine(model, X, ...)` is incompatible with `model=\u001b[34mAdaBoostClassifier @456\u001b[39m`:\n",
      "│ scitype(X) = Table{Union{AbstractArray{Continuous,1}, AbstractArray{Count,1}}}\n",
      "│ input_scitype(model) = Table{var\"#s44\"} where var\"#s44\"<:(AbstractArray{var\"#s13\",1} where var\"#s13\"<:Continuous).\n",
      "└ @ MLJBase /home/andrew/.julia/packages/MLJBase/uKzAz/src/machines.jl:77\n",
      "┌ Warning: The scitype of `X`, in `machine(model, X, ...)` is incompatible with `model=\u001b[34mAdaBoostClassifier @456\u001b[39m`:\n",
      "│ scitype(X) = Table{Union{AbstractArray{Continuous,1}, AbstractArray{Count,1}}}\n",
      "│ input_scitype(model) = Table{var\"#s44\"} where var\"#s44\"<:(AbstractArray{var\"#s13\",1} where var\"#s13\"<:Continuous).\n",
      "└ @ MLJBase /home/andrew/.julia/packages/MLJBase/uKzAz/src/machines.jl:77\n"
     ]
    },
    {
     "name": "stdout",
     "output_type": "stream",
     "text": [
      "(d, train_metric, valid_metric) = (475, 0.8042105263157895, 0.7837837837837838)\n",
      "(d, train_metric, valid_metric) = (480, 0.8, 0.7972972972972973)\n",
      "(d, train_metric, valid_metric) = (485, 0.8020618556701031, 0.7972972972972973)\n",
      "(d, train_metric, valid_metric) = (490, 0.8061224489795918, 0.8108108108108109)\n",
      "(d, train_metric, valid_metric) = (495, 0.8080808080808081, 0.8108108108108109)\n",
      "(d, train_metric, valid_metric) = (500, 0.784, 0.7905405405405406)\n",
      "(d, train_metric, valid_metric) = (505, 0.7841584158415842, 0.7905405405405406)\n"
     ]
    },
    {
     "name": "stderr",
     "output_type": "stream",
     "text": [
      "┌ Warning: The scitype of `X`, in `machine(model, X, ...)` is incompatible with `model=\u001b[34mAdaBoostClassifier @456\u001b[39m`:\n",
      "│ scitype(X) = Table{Union{AbstractArray{Continuous,1}, AbstractArray{Count,1}}}\n",
      "│ input_scitype(model) = Table{var\"#s44\"} where var\"#s44\"<:(AbstractArray{var\"#s13\",1} where var\"#s13\"<:Continuous).\n",
      "└ @ MLJBase /home/andrew/.julia/packages/MLJBase/uKzAz/src/machines.jl:77\n",
      "┌ Warning: The scitype of `X`, in `machine(model, X, ...)` is incompatible with `model=\u001b[34mAdaBoostClassifier @456\u001b[39m`:\n",
      "│ scitype(X) = Table{Union{AbstractArray{Continuous,1}, AbstractArray{Count,1}}}\n",
      "│ input_scitype(model) = Table{var\"#s44\"} where var\"#s44\"<:(AbstractArray{var\"#s13\",1} where var\"#s13\"<:Continuous).\n",
      "└ @ MLJBase /home/andrew/.julia/packages/MLJBase/uKzAz/src/machines.jl:77\n",
      "┌ Warning: The scitype of `X`, in `machine(model, X, ...)` is incompatible with `model=\u001b[34mAdaBoostClassifier @456\u001b[39m`:\n",
      "│ scitype(X) = Table{Union{AbstractArray{Continuous,1}, AbstractArray{Count,1}}}\n",
      "│ input_scitype(model) = Table{var\"#s44\"} where var\"#s44\"<:(AbstractArray{var\"#s13\",1} where var\"#s13\"<:Continuous).\n",
      "└ @ MLJBase /home/andrew/.julia/packages/MLJBase/uKzAz/src/machines.jl:77\n",
      "┌ Warning: The scitype of `X`, in `machine(model, X, ...)` is incompatible with `model=\u001b[34mAdaBoostClassifier @456\u001b[39m`:\n",
      "│ scitype(X) = Table{Union{AbstractArray{Continuous,1}, AbstractArray{Count,1}}}\n",
      "│ input_scitype(model) = Table{var\"#s44\"} where var\"#s44\"<:(AbstractArray{var\"#s13\",1} where var\"#s13\"<:Continuous).\n",
      "└ @ MLJBase /home/andrew/.julia/packages/MLJBase/uKzAz/src/machines.jl:77\n",
      "┌ Warning: The scitype of `X`, in `machine(model, X, ...)` is incompatible with `model=\u001b[34mAdaBoostClassifier @456\u001b[39m`:\n",
      "│ scitype(X) = Table{Union{AbstractArray{Continuous,1}, AbstractArray{Count,1}}}\n",
      "│ input_scitype(model) = Table{var\"#s44\"} where var\"#s44\"<:(AbstractArray{var\"#s13\",1} where var\"#s13\"<:Continuous).\n",
      "└ @ MLJBase /home/andrew/.julia/packages/MLJBase/uKzAz/src/machines.jl:77\n",
      "┌ Warning: The scitype of `X`, in `machine(model, X, ...)` is incompatible with `model=\u001b[34mAdaBoostClassifier @456\u001b[39m`:\n",
      "│ scitype(X) = Table{Union{AbstractArray{Continuous,1}, AbstractArray{Count,1}}}\n",
      "│ input_scitype(model) = Table{var\"#s44\"} where var\"#s44\"<:(AbstractArray{var\"#s13\",1} where var\"#s13\"<:Continuous).\n",
      "└ @ MLJBase /home/andrew/.julia/packages/MLJBase/uKzAz/src/machines.jl:77\n",
      "┌ Warning: The scitype of `X`, in `machine(model, X, ...)` is incompatible with `model=\u001b[34mAdaBoostClassifier @456\u001b[39m`:\n",
      "│ scitype(X) = Table{Union{AbstractArray{Continuous,1}, AbstractArray{Count,1}}}\n",
      "│ input_scitype(model) = Table{var\"#s44\"} where var\"#s44\"<:(AbstractArray{var\"#s13\",1} where var\"#s13\"<:Continuous).\n",
      "└ @ MLJBase /home/andrew/.julia/packages/MLJBase/uKzAz/src/machines.jl:77\n"
     ]
    },
    {
     "name": "stdout",
     "output_type": "stream",
     "text": [
      "(d, train_metric, valid_metric) = (510, 0.8137254901960784, 0.7837837837837838)\n",
      "(d, train_metric, valid_metric) = (515, 0.7941747572815534, 0.7905405405405406)\n",
      "(d, train_metric, valid_metric) = (520, 0.8096153846153846, 0.7837837837837838)\n",
      "(d, train_metric, valid_metric) = (525, 0.8095238095238095, 0.7837837837837838)\n",
      "(d, train_metric, valid_metric) = (530, 0.8075471698113208, 0.7837837837837838)\n",
      "(d, train_metric, valid_metric) = (535, 0.805607476635514, 0.7837837837837838)\n",
      "(d, train_metric, valid_metric) = (540, 0.8074074074074075, 0.7837837837837838)\n"
     ]
    },
    {
     "name": "stderr",
     "output_type": "stream",
     "text": [
      "┌ Warning: The scitype of `X`, in `machine(model, X, ...)` is incompatible with `model=\u001b[34mAdaBoostClassifier @456\u001b[39m`:\n",
      "│ scitype(X) = Table{Union{AbstractArray{Continuous,1}, AbstractArray{Count,1}}}\n",
      "│ input_scitype(model) = Table{var\"#s44\"} where var\"#s44\"<:(AbstractArray{var\"#s13\",1} where var\"#s13\"<:Continuous).\n",
      "└ @ MLJBase /home/andrew/.julia/packages/MLJBase/uKzAz/src/machines.jl:77\n",
      "┌ Warning: The scitype of `X`, in `machine(model, X, ...)` is incompatible with `model=\u001b[34mAdaBoostClassifier @456\u001b[39m`:\n",
      "│ scitype(X) = Table{Union{AbstractArray{Continuous,1}, AbstractArray{Count,1}}}\n",
      "│ input_scitype(model) = Table{var\"#s44\"} where var\"#s44\"<:(AbstractArray{var\"#s13\",1} where var\"#s13\"<:Continuous).\n",
      "└ @ MLJBase /home/andrew/.julia/packages/MLJBase/uKzAz/src/machines.jl:77\n",
      "┌ Warning: The scitype of `X`, in `machine(model, X, ...)` is incompatible with `model=\u001b[34mAdaBoostClassifier @456\u001b[39m`:\n",
      "│ scitype(X) = Table{Union{AbstractArray{Continuous,1}, AbstractArray{Count,1}}}\n",
      "│ input_scitype(model) = Table{var\"#s44\"} where var\"#s44\"<:(AbstractArray{var\"#s13\",1} where var\"#s13\"<:Continuous).\n",
      "└ @ MLJBase /home/andrew/.julia/packages/MLJBase/uKzAz/src/machines.jl:77\n",
      "┌ Warning: The scitype of `X`, in `machine(model, X, ...)` is incompatible with `model=\u001b[34mAdaBoostClassifier @456\u001b[39m`:\n",
      "│ scitype(X) = Table{Union{AbstractArray{Continuous,1}, AbstractArray{Count,1}}}\n",
      "│ input_scitype(model) = Table{var\"#s44\"} where var\"#s44\"<:(AbstractArray{var\"#s13\",1} where var\"#s13\"<:Continuous).\n",
      "└ @ MLJBase /home/andrew/.julia/packages/MLJBase/uKzAz/src/machines.jl:77\n",
      "┌ Warning: The scitype of `X`, in `machine(model, X, ...)` is incompatible with `model=\u001b[34mAdaBoostClassifier @456\u001b[39m`:\n",
      "│ scitype(X) = Table{Union{AbstractArray{Continuous,1}, AbstractArray{Count,1}}}\n",
      "│ input_scitype(model) = Table{var\"#s44\"} where var\"#s44\"<:(AbstractArray{var\"#s13\",1} where var\"#s13\"<:Continuous).\n",
      "└ @ MLJBase /home/andrew/.julia/packages/MLJBase/uKzAz/src/machines.jl:77\n",
      "┌ Warning: The scitype of `X`, in `machine(model, X, ...)` is incompatible with `model=\u001b[34mAdaBoostClassifier @456\u001b[39m`:\n",
      "│ scitype(X) = Table{Union{AbstractArray{Continuous,1}, AbstractArray{Count,1}}}\n",
      "│ input_scitype(model) = Table{var\"#s44\"} where var\"#s44\"<:(AbstractArray{var\"#s13\",1} where var\"#s13\"<:Continuous).\n",
      "└ @ MLJBase /home/andrew/.julia/packages/MLJBase/uKzAz/src/machines.jl:77\n",
      "┌ Warning: The scitype of `X`, in `machine(model, X, ...)` is incompatible with `model=\u001b[34mAdaBoostClassifier @456\u001b[39m`:\n",
      "│ scitype(X) = Table{Union{AbstractArray{Continuous,1}, AbstractArray{Count,1}}}\n",
      "│ input_scitype(model) = Table{var\"#s44\"} where var\"#s44\"<:(AbstractArray{var\"#s13\",1} where var\"#s13\"<:Continuous).\n",
      "└ @ MLJBase /home/andrew/.julia/packages/MLJBase/uKzAz/src/machines.jl:77\n"
     ]
    },
    {
     "name": "stdout",
     "output_type": "stream",
     "text": [
      "(d, train_metric, valid_metric) = (545, 0.8073394495412844, 0.7837837837837838)\n",
      "(d, train_metric, valid_metric) = (550, 0.8090909090909091, 0.7837837837837838)\n",
      "(d, train_metric, valid_metric) = (555, 0.809009009009009, 0.7837837837837838)\n",
      "(d, train_metric, valid_metric) = (560, 0.8107142857142857, 0.7837837837837838)\n",
      "(d, train_metric, valid_metric) = (565, 0.8106194690265487, 0.7837837837837838)\n",
      "(d, train_metric, valid_metric) = (570, 0.8087719298245614, 0.7837837837837838)\n",
      "(d, train_metric, valid_metric) = (575, 0.8104347826086956, 0.7837837837837838)\n"
     ]
    },
    {
     "name": "stderr",
     "output_type": "stream",
     "text": [
      "┌ Warning: The scitype of `X`, in `machine(model, X, ...)` is incompatible with `model=\u001b[34mAdaBoostClassifier @456\u001b[39m`:\n",
      "│ scitype(X) = Table{Union{AbstractArray{Continuous,1}, AbstractArray{Count,1}}}\n",
      "│ input_scitype(model) = Table{var\"#s44\"} where var\"#s44\"<:(AbstractArray{var\"#s13\",1} where var\"#s13\"<:Continuous).\n",
      "└ @ MLJBase /home/andrew/.julia/packages/MLJBase/uKzAz/src/machines.jl:77\n",
      "┌ Warning: The scitype of `X`, in `machine(model, X, ...)` is incompatible with `model=\u001b[34mAdaBoostClassifier @456\u001b[39m`:\n",
      "│ scitype(X) = Table{Union{AbstractArray{Continuous,1}, AbstractArray{Count,1}}}\n",
      "│ input_scitype(model) = Table{var\"#s44\"} where var\"#s44\"<:(AbstractArray{var\"#s13\",1} where var\"#s13\"<:Continuous).\n",
      "└ @ MLJBase /home/andrew/.julia/packages/MLJBase/uKzAz/src/machines.jl:77\n",
      "┌ Warning: The scitype of `X`, in `machine(model, X, ...)` is incompatible with `model=\u001b[34mAdaBoostClassifier @456\u001b[39m`:\n",
      "│ scitype(X) = Table{Union{AbstractArray{Continuous,1}, AbstractArray{Count,1}}}\n",
      "│ input_scitype(model) = Table{var\"#s44\"} where var\"#s44\"<:(AbstractArray{var\"#s13\",1} where var\"#s13\"<:Continuous).\n",
      "└ @ MLJBase /home/andrew/.julia/packages/MLJBase/uKzAz/src/machines.jl:77\n",
      "┌ Warning: The scitype of `X`, in `machine(model, X, ...)` is incompatible with `model=\u001b[34mAdaBoostClassifier @456\u001b[39m`:\n",
      "│ scitype(X) = Table{Union{AbstractArray{Continuous,1}, AbstractArray{Count,1}}}\n",
      "│ input_scitype(model) = Table{var\"#s44\"} where var\"#s44\"<:(AbstractArray{var\"#s13\",1} where var\"#s13\"<:Continuous).\n",
      "└ @ MLJBase /home/andrew/.julia/packages/MLJBase/uKzAz/src/machines.jl:77\n",
      "┌ Warning: The scitype of `X`, in `machine(model, X, ...)` is incompatible with `model=\u001b[34mAdaBoostClassifier @456\u001b[39m`:\n",
      "│ scitype(X) = Table{Union{AbstractArray{Continuous,1}, AbstractArray{Count,1}}}\n",
      "│ input_scitype(model) = Table{var\"#s44\"} where var\"#s44\"<:(AbstractArray{var\"#s13\",1} where var\"#s13\"<:Continuous).\n",
      "└ @ MLJBase /home/andrew/.julia/packages/MLJBase/uKzAz/src/machines.jl:77\n",
      "┌ Warning: The scitype of `X`, in `machine(model, X, ...)` is incompatible with `model=\u001b[34mAdaBoostClassifier @456\u001b[39m`:\n",
      "│ scitype(X) = Table{Union{AbstractArray{Continuous,1}, AbstractArray{Count,1}}}\n",
      "│ input_scitype(model) = Table{var\"#s44\"} where var\"#s44\"<:(AbstractArray{var\"#s13\",1} where var\"#s13\"<:Continuous).\n",
      "└ @ MLJBase /home/andrew/.julia/packages/MLJBase/uKzAz/src/machines.jl:77\n"
     ]
    },
    {
     "name": "stdout",
     "output_type": "stream",
     "text": [
      "(d, train_metric, valid_metric) = (580, 0.8120689655172414, 0.777027027027027)\n",
      "(d, train_metric, valid_metric) = (585, 0.811965811965812, 0.777027027027027)\n",
      "(d, train_metric, valid_metric) = (590, 0.811864406779661, 0.777027027027027)\n"
     ]
    },
    {
     "name": "stderr",
     "output_type": "stream",
     "text": [
      "┌ Warning: The scitype of `X`, in `machine(model, X, ...)` is incompatible with `model=\u001b[34mAdaBoostClassifier @456\u001b[39m`:\n",
      "│ scitype(X) = Table{Union{AbstractArray{Continuous,1}, AbstractArray{Count,1}}}\n",
      "│ input_scitype(model) = Table{var\"#s44\"} where var\"#s44\"<:(AbstractArray{var\"#s13\",1} where var\"#s13\"<:Continuous).\n",
      "└ @ MLJBase /home/andrew/.julia/packages/MLJBase/uKzAz/src/machines.jl:77\n",
      "┌ Warning: The scitype of `X`, in `machine(model, X, ...)` is incompatible with `model=\u001b[34mAdaBoostClassifier @456\u001b[39m`:\n",
      "│ scitype(X) = Table{Union{AbstractArray{Continuous,1}, AbstractArray{Count,1}}}\n",
      "│ input_scitype(model) = Table{var\"#s44\"} where var\"#s44\"<:(AbstractArray{var\"#s13\",1} where var\"#s13\"<:Continuous).\n",
      "└ @ MLJBase /home/andrew/.julia/packages/MLJBase/uKzAz/src/machines.jl:77\n",
      "┌ Warning: The scitype of `X`, in `machine(model, X, ...)` is incompatible with `model=\u001b[34mAdaBoostClassifier @456\u001b[39m`:\n",
      "│ scitype(X) = Table{Union{AbstractArray{Continuous,1}, AbstractArray{Count,1}}}\n",
      "│ input_scitype(model) = Table{var\"#s44\"} where var\"#s44\"<:(AbstractArray{var\"#s13\",1} where var\"#s13\"<:Continuous).\n",
      "└ @ MLJBase /home/andrew/.julia/packages/MLJBase/uKzAz/src/machines.jl:77\n"
     ]
    },
    {
     "data": {
      "text/plain": [
       "(10:5:590, Any[1.0, 1.0, 1.0, 1.0, 1.0, 0.9428571428571428, 0.95, 0.9333333333333333, 0.9, 0.9090909090909091  …  0.8073394495412844, 0.8090909090909091, 0.809009009009009, 0.8107142857142857, 0.8106194690265487, 0.8087719298245614, 0.8104347826086956, 0.8120689655172414, 0.811965811965812, 0.811864406779661], Any[0.6283783783783784, 0.6283783783783784, 0.7635135135135135, 0.7432432432432432, 0.7432432432432432, 0.7905405405405406, 0.7905405405405406, 0.7567567567567568, 0.75, 0.8175675675675675  …  0.7837837837837838, 0.7837837837837838, 0.7837837837837838, 0.7837837837837838, 0.7837837837837838, 0.7837837837837838, 0.7837837837837838, 0.777027027027027, 0.777027027027027, 0.777027027027027])"
      ]
     },
     "execution_count": 63,
     "metadata": {},
     "output_type": "execute_result"
    }
   ],
   "source": [
    "data_schedule, training_losses, valid_losses = learn_curve(best.best_model, X_stand[train,:], y[train], acc)"
   ]
  },
  {
   "cell_type": "code",
   "execution_count": 65,
   "metadata": {},
   "outputs": [
    {
     "data": {
      "image/svg+xml": [
       "<?xml version=\"1.0\" encoding=\"utf-8\"?>\n",
       "<svg xmlns=\"http://www.w3.org/2000/svg\" xmlns:xlink=\"http://www.w3.org/1999/xlink\" width=\"600\" height=\"400\" viewBox=\"0 0 2400 1600\">\n",
       "<defs>\n",
       "  <clipPath id=\"clip910\">\n",
       "    <rect x=\"0\" y=\"0\" width=\"2400\" height=\"1600\"/>\n",
       "  </clipPath>\n",
       "</defs>\n",
       "<path clip-path=\"url(#clip910)\" d=\"\n",
       "M0 1600 L2400 1600 L2400 0 L0 0  Z\n",
       "  \" fill=\"#ffffff\" fill-rule=\"evenodd\" fill-opacity=\"1\"/>\n",
       "<defs>\n",
       "  <clipPath id=\"clip911\">\n",
       "    <rect x=\"480\" y=\"0\" width=\"1681\" height=\"1600\"/>\n",
       "  </clipPath>\n",
       "</defs>\n",
       "<path clip-path=\"url(#clip910)\" d=\"\n",
       "M211.024 1423.18 L2352.76 1423.18 L2352.76 47.2441 L211.024 47.2441  Z\n",
       "  \" fill=\"#ffffff\" fill-rule=\"evenodd\" fill-opacity=\"1\"/>\n",
       "<defs>\n",
       "  <clipPath id=\"clip912\">\n",
       "    <rect x=\"211\" y=\"47\" width=\"2143\" height=\"1377\"/>\n",
       "  </clipPath>\n",
       "</defs>\n",
       "<polyline clip-path=\"url(#clip912)\" style=\"stroke:#000000; stroke-width:2; stroke-opacity:0.1; fill:none\" points=\"\n",
       "  236.803,1423.18 236.803,47.2441 \n",
       "  \"/>\n",
       "<polyline clip-path=\"url(#clip912)\" style=\"stroke:#000000; stroke-width:2; stroke-opacity:0.1; fill:none\" points=\"\n",
       "  585.165,1423.18 585.165,47.2441 \n",
       "  \"/>\n",
       "<polyline clip-path=\"url(#clip912)\" style=\"stroke:#000000; stroke-width:2; stroke-opacity:0.1; fill:none\" points=\"\n",
       "  933.527,1423.18 933.527,47.2441 \n",
       "  \"/>\n",
       "<polyline clip-path=\"url(#clip912)\" style=\"stroke:#000000; stroke-width:2; stroke-opacity:0.1; fill:none\" points=\"\n",
       "  1281.89,1423.18 1281.89,47.2441 \n",
       "  \"/>\n",
       "<polyline clip-path=\"url(#clip912)\" style=\"stroke:#000000; stroke-width:2; stroke-opacity:0.1; fill:none\" points=\"\n",
       "  1630.25,1423.18 1630.25,47.2441 \n",
       "  \"/>\n",
       "<polyline clip-path=\"url(#clip912)\" style=\"stroke:#000000; stroke-width:2; stroke-opacity:0.1; fill:none\" points=\"\n",
       "  1978.61,1423.18 1978.61,47.2441 \n",
       "  \"/>\n",
       "<polyline clip-path=\"url(#clip912)\" style=\"stroke:#000000; stroke-width:2; stroke-opacity:0.1; fill:none\" points=\"\n",
       "  2326.98,1423.18 2326.98,47.2441 \n",
       "  \"/>\n",
       "<polyline clip-path=\"url(#clip912)\" style=\"stroke:#000000; stroke-width:2; stroke-opacity:0.1; fill:none\" points=\"\n",
       "  211.024,1134.07 2352.76,1134.07 \n",
       "  \"/>\n",
       "<polyline clip-path=\"url(#clip912)\" style=\"stroke:#000000; stroke-width:2; stroke-opacity:0.1; fill:none\" points=\"\n",
       "  211.024,784.774 2352.76,784.774 \n",
       "  \"/>\n",
       "<polyline clip-path=\"url(#clip912)\" style=\"stroke:#000000; stroke-width:2; stroke-opacity:0.1; fill:none\" points=\"\n",
       "  211.024,435.48 2352.76,435.48 \n",
       "  \"/>\n",
       "<polyline clip-path=\"url(#clip912)\" style=\"stroke:#000000; stroke-width:2; stroke-opacity:0.1; fill:none\" points=\"\n",
       "  211.024,86.1857 2352.76,86.1857 \n",
       "  \"/>\n",
       "<polyline clip-path=\"url(#clip910)\" style=\"stroke:#000000; stroke-width:4; stroke-opacity:1; fill:none\" points=\"\n",
       "  211.024,1423.18 2352.76,1423.18 \n",
       "  \"/>\n",
       "<polyline clip-path=\"url(#clip910)\" style=\"stroke:#000000; stroke-width:4; stroke-opacity:1; fill:none\" points=\"\n",
       "  211.024,1423.18 211.024,47.2441 \n",
       "  \"/>\n",
       "<polyline clip-path=\"url(#clip910)\" style=\"stroke:#000000; stroke-width:4; stroke-opacity:1; fill:none\" points=\"\n",
       "  236.803,1423.18 236.803,1406.67 \n",
       "  \"/>\n",
       "<polyline clip-path=\"url(#clip910)\" style=\"stroke:#000000; stroke-width:4; stroke-opacity:1; fill:none\" points=\"\n",
       "  585.165,1423.18 585.165,1406.67 \n",
       "  \"/>\n",
       "<polyline clip-path=\"url(#clip910)\" style=\"stroke:#000000; stroke-width:4; stroke-opacity:1; fill:none\" points=\"\n",
       "  933.527,1423.18 933.527,1406.67 \n",
       "  \"/>\n",
       "<polyline clip-path=\"url(#clip910)\" style=\"stroke:#000000; stroke-width:4; stroke-opacity:1; fill:none\" points=\"\n",
       "  1281.89,1423.18 1281.89,1406.67 \n",
       "  \"/>\n",
       "<polyline clip-path=\"url(#clip910)\" style=\"stroke:#000000; stroke-width:4; stroke-opacity:1; fill:none\" points=\"\n",
       "  1630.25,1423.18 1630.25,1406.67 \n",
       "  \"/>\n",
       "<polyline clip-path=\"url(#clip910)\" style=\"stroke:#000000; stroke-width:4; stroke-opacity:1; fill:none\" points=\"\n",
       "  1978.61,1423.18 1978.61,1406.67 \n",
       "  \"/>\n",
       "<polyline clip-path=\"url(#clip910)\" style=\"stroke:#000000; stroke-width:4; stroke-opacity:1; fill:none\" points=\"\n",
       "  2326.98,1423.18 2326.98,1406.67 \n",
       "  \"/>\n",
       "<polyline clip-path=\"url(#clip910)\" style=\"stroke:#000000; stroke-width:4; stroke-opacity:1; fill:none\" points=\"\n",
       "  211.024,1134.07 236.725,1134.07 \n",
       "  \"/>\n",
       "<polyline clip-path=\"url(#clip910)\" style=\"stroke:#000000; stroke-width:4; stroke-opacity:1; fill:none\" points=\"\n",
       "  211.024,784.774 236.725,784.774 \n",
       "  \"/>\n",
       "<polyline clip-path=\"url(#clip910)\" style=\"stroke:#000000; stroke-width:4; stroke-opacity:1; fill:none\" points=\"\n",
       "  211.024,435.48 236.725,435.48 \n",
       "  \"/>\n",
       "<polyline clip-path=\"url(#clip910)\" style=\"stroke:#000000; stroke-width:4; stroke-opacity:1; fill:none\" points=\"\n",
       "  211.024,86.1857 236.725,86.1857 \n",
       "  \"/>\n",
       "<path clip-path=\"url(#clip910)\" d=\"M 0 0 M236.803 1445.17 Q233.191 1445.17 231.363 1448.74 Q229.557 1452.28 229.557 1459.41 Q229.557 1466.51 231.363 1470.08 Q233.191 1473.62 236.803 1473.62 Q240.437 1473.62 242.242 1470.08 Q244.071 1466.51 244.071 1459.41 Q244.071 1452.28 242.242 1448.74 Q240.437 1445.17 236.803 1445.17 M236.803 1441.47 Q242.613 1441.47 245.668 1446.07 Q248.747 1450.66 248.747 1459.41 Q248.747 1468.13 245.668 1472.74 Q242.613 1477.32 236.803 1477.32 Q230.992 1477.32 227.914 1472.74 Q224.858 1468.13 224.858 1459.41 Q224.858 1450.66 227.914 1446.07 Q230.992 1441.47 236.803 1441.47 Z\" fill=\"#000000\" fill-rule=\"evenodd\" fill-opacity=\"1\" /><path clip-path=\"url(#clip910)\" d=\"M 0 0 M548.533 1472.72 L556.172 1472.72 L556.172 1446.35 L547.862 1448.02 L547.862 1443.76 L556.126 1442.09 L560.802 1442.09 L560.802 1472.72 L568.441 1472.72 L568.441 1476.65 L548.533 1476.65 L548.533 1472.72 Z\" fill=\"#000000\" fill-rule=\"evenodd\" fill-opacity=\"1\" /><path clip-path=\"url(#clip910)\" d=\"M 0 0 M583.51 1445.17 Q579.899 1445.17 578.07 1448.74 Q576.265 1452.28 576.265 1459.41 Q576.265 1466.51 578.07 1470.08 Q579.899 1473.62 583.51 1473.62 Q587.144 1473.62 588.95 1470.08 Q590.778 1466.51 590.778 1459.41 Q590.778 1452.28 588.95 1448.74 Q587.144 1445.17 583.51 1445.17 M583.51 1441.47 Q589.32 1441.47 592.376 1446.07 Q595.454 1450.66 595.454 1459.41 Q595.454 1468.13 592.376 1472.74 Q589.32 1477.32 583.51 1477.32 Q577.7 1477.32 574.621 1472.74 Q571.566 1468.13 571.566 1459.41 Q571.566 1450.66 574.621 1446.07 Q577.7 1441.47 583.51 1441.47 Z\" fill=\"#000000\" fill-rule=\"evenodd\" fill-opacity=\"1\" /><path clip-path=\"url(#clip910)\" d=\"M 0 0 M610.524 1445.17 Q606.913 1445.17 605.084 1448.74 Q603.278 1452.28 603.278 1459.41 Q603.278 1466.51 605.084 1470.08 Q606.913 1473.62 610.524 1473.62 Q614.158 1473.62 615.963 1470.08 Q617.792 1466.51 617.792 1459.41 Q617.792 1452.28 615.963 1448.74 Q614.158 1445.17 610.524 1445.17 M610.524 1441.47 Q616.334 1441.47 619.389 1446.07 Q622.468 1450.66 622.468 1459.41 Q622.468 1468.13 619.389 1472.74 Q616.334 1477.32 610.524 1477.32 Q604.713 1477.32 601.635 1472.74 Q598.579 1468.13 598.579 1459.41 Q598.579 1450.66 601.635 1446.07 Q604.713 1441.47 610.524 1441.47 Z\" fill=\"#000000\" fill-rule=\"evenodd\" fill-opacity=\"1\" /><path clip-path=\"url(#clip910)\" d=\"M 0 0 M901.166 1472.72 L917.486 1472.72 L917.486 1476.65 L895.541 1476.65 L895.541 1472.72 Q898.204 1469.96 902.787 1465.33 Q907.393 1460.68 908.574 1459.34 Q910.819 1456.81 911.699 1455.08 Q912.602 1453.32 912.602 1451.63 Q912.602 1448.87 910.657 1447.14 Q908.736 1445.4 905.634 1445.4 Q903.435 1445.4 900.981 1446.17 Q898.551 1446.93 895.773 1448.48 L895.773 1443.76 Q898.597 1442.62 901.051 1442.05 Q903.504 1441.47 905.541 1441.47 Q910.912 1441.47 914.106 1444.15 Q917.301 1446.84 917.301 1451.33 Q917.301 1453.46 916.49 1455.38 Q915.703 1457.28 913.597 1459.87 Q913.018 1460.54 909.916 1463.76 Q906.815 1466.95 901.166 1472.72 Z\" fill=\"#000000\" fill-rule=\"evenodd\" fill-opacity=\"1\" /><path clip-path=\"url(#clip910)\" d=\"M 0 0 M932.555 1445.17 Q928.944 1445.17 927.115 1448.74 Q925.31 1452.28 925.31 1459.41 Q925.31 1466.51 927.115 1470.08 Q928.944 1473.62 932.555 1473.62 Q936.189 1473.62 937.995 1470.08 Q939.824 1466.51 939.824 1459.41 Q939.824 1452.28 937.995 1448.74 Q936.189 1445.17 932.555 1445.17 M932.555 1441.47 Q938.365 1441.47 941.421 1446.07 Q944.5 1450.66 944.5 1459.41 Q944.5 1468.13 941.421 1472.74 Q938.365 1477.32 932.555 1477.32 Q926.745 1477.32 923.666 1472.74 Q920.611 1468.13 920.611 1459.41 Q920.611 1450.66 923.666 1446.07 Q926.745 1441.47 932.555 1441.47 Z\" fill=\"#000000\" fill-rule=\"evenodd\" fill-opacity=\"1\" /><path clip-path=\"url(#clip910)\" d=\"M 0 0 M959.569 1445.17 Q955.958 1445.17 954.129 1448.74 Q952.324 1452.28 952.324 1459.41 Q952.324 1466.51 954.129 1470.08 Q955.958 1473.62 959.569 1473.62 Q963.203 1473.62 965.009 1470.08 Q966.837 1466.51 966.837 1459.41 Q966.837 1452.28 965.009 1448.74 Q963.203 1445.17 959.569 1445.17 M959.569 1441.47 Q965.379 1441.47 968.435 1446.07 Q971.513 1450.66 971.513 1459.41 Q971.513 1468.13 968.435 1472.74 Q965.379 1477.32 959.569 1477.32 Q953.759 1477.32 950.68 1472.74 Q947.625 1468.13 947.625 1459.41 Q947.625 1450.66 950.68 1446.07 Q953.759 1441.47 959.569 1441.47 Z\" fill=\"#000000\" fill-rule=\"evenodd\" fill-opacity=\"1\" /><path clip-path=\"url(#clip910)\" d=\"M 0 0 M1259.12 1458.02 Q1262.48 1458.74 1264.36 1461 Q1266.25 1463.27 1266.25 1466.61 Q1266.25 1471.72 1262.73 1474.52 Q1259.22 1477.32 1252.73 1477.32 Q1250.56 1477.32 1248.24 1476.88 Q1245.95 1476.47 1243.5 1475.61 L1243.5 1471.1 Q1245.44 1472.23 1247.76 1472.81 Q1250.07 1473.39 1252.6 1473.39 Q1256.99 1473.39 1259.29 1471.65 Q1261.6 1469.92 1261.6 1466.61 Q1261.6 1463.55 1259.45 1461.84 Q1257.32 1460.1 1253.5 1460.1 L1249.47 1460.1 L1249.47 1456.26 L1253.68 1456.26 Q1257.13 1456.26 1258.96 1454.89 Q1260.79 1453.5 1260.79 1450.91 Q1260.79 1448.25 1258.89 1446.84 Q1257.02 1445.4 1253.5 1445.4 Q1251.58 1445.4 1249.38 1445.82 Q1247.18 1446.24 1244.54 1447.11 L1244.54 1442.95 Q1247.2 1442.21 1249.52 1441.84 Q1251.86 1441.47 1253.92 1441.47 Q1259.24 1441.47 1262.34 1443.9 Q1265.44 1446.3 1265.44 1450.43 Q1265.44 1453.3 1263.8 1455.29 Q1262.16 1457.25 1259.12 1458.02 Z\" fill=\"#000000\" fill-rule=\"evenodd\" fill-opacity=\"1\" /><path clip-path=\"url(#clip910)\" d=\"M 0 0 M1281.32 1445.17 Q1277.71 1445.17 1275.88 1448.74 Q1274.08 1452.28 1274.08 1459.41 Q1274.08 1466.51 1275.88 1470.08 Q1277.71 1473.62 1281.32 1473.62 Q1284.96 1473.62 1286.76 1470.08 Q1288.59 1466.51 1288.59 1459.41 Q1288.59 1452.28 1286.76 1448.74 Q1284.96 1445.17 1281.32 1445.17 M1281.32 1441.47 Q1287.13 1441.47 1290.19 1446.07 Q1293.27 1450.66 1293.27 1459.41 Q1293.27 1468.13 1290.19 1472.74 Q1287.13 1477.32 1281.32 1477.32 Q1275.51 1477.32 1272.43 1472.74 Q1269.38 1468.13 1269.38 1459.41 Q1269.38 1450.66 1272.43 1446.07 Q1275.51 1441.47 1281.32 1441.47 Z\" fill=\"#000000\" fill-rule=\"evenodd\" fill-opacity=\"1\" /><path clip-path=\"url(#clip910)\" d=\"M 0 0 M1308.34 1445.17 Q1304.73 1445.17 1302.9 1448.74 Q1301.09 1452.28 1301.09 1459.41 Q1301.09 1466.51 1302.9 1470.08 Q1304.73 1473.62 1308.34 1473.62 Q1311.97 1473.62 1313.78 1470.08 Q1315.6 1466.51 1315.6 1459.41 Q1315.6 1452.28 1313.78 1448.74 Q1311.97 1445.17 1308.34 1445.17 M1308.34 1441.47 Q1314.15 1441.47 1317.2 1446.07 Q1320.28 1450.66 1320.28 1459.41 Q1320.28 1468.13 1317.2 1472.74 Q1314.15 1477.32 1308.34 1477.32 Q1302.53 1477.32 1299.45 1472.74 Q1296.39 1468.13 1296.39 1459.41 Q1296.39 1450.66 1299.45 1446.07 Q1302.53 1441.47 1308.34 1441.47 Z\" fill=\"#000000\" fill-rule=\"evenodd\" fill-opacity=\"1\" /><path clip-path=\"url(#clip910)\" d=\"M 0 0 M1606.25 1446.17 L1594.44 1464.61 L1606.25 1464.61 L1606.25 1446.17 M1605.02 1442.09 L1610.9 1442.09 L1610.9 1464.61 L1615.83 1464.61 L1615.83 1468.5 L1610.9 1468.5 L1610.9 1476.65 L1606.25 1476.65 L1606.25 1468.5 L1590.65 1468.5 L1590.65 1463.99 L1605.02 1442.09 Z\" fill=\"#000000\" fill-rule=\"evenodd\" fill-opacity=\"1\" /><path clip-path=\"url(#clip910)\" d=\"M 0 0 M1630.9 1445.17 Q1627.29 1445.17 1625.46 1448.74 Q1623.66 1452.28 1623.66 1459.41 Q1623.66 1466.51 1625.46 1470.08 Q1627.29 1473.62 1630.9 1473.62 Q1634.53 1473.62 1636.34 1470.08 Q1638.17 1466.51 1638.17 1459.41 Q1638.17 1452.28 1636.34 1448.74 Q1634.53 1445.17 1630.9 1445.17 M1630.9 1441.47 Q1636.71 1441.47 1639.77 1446.07 Q1642.84 1450.66 1642.84 1459.41 Q1642.84 1468.13 1639.77 1472.74 Q1636.71 1477.32 1630.9 1477.32 Q1625.09 1477.32 1622.01 1472.74 Q1618.96 1468.13 1618.96 1459.41 Q1618.96 1450.66 1622.01 1446.07 Q1625.09 1441.47 1630.9 1441.47 Z\" fill=\"#000000\" fill-rule=\"evenodd\" fill-opacity=\"1\" /><path clip-path=\"url(#clip910)\" d=\"M 0 0 M1657.91 1445.17 Q1654.3 1445.17 1652.47 1448.74 Q1650.67 1452.28 1650.67 1459.41 Q1650.67 1466.51 1652.47 1470.08 Q1654.3 1473.62 1657.91 1473.62 Q1661.55 1473.62 1663.35 1470.08 Q1665.18 1466.51 1665.18 1459.41 Q1665.18 1452.28 1663.35 1448.74 Q1661.55 1445.17 1657.91 1445.17 M1657.91 1441.47 Q1663.72 1441.47 1666.78 1446.07 Q1669.86 1450.66 1669.86 1459.41 Q1669.86 1468.13 1666.78 1472.74 Q1663.72 1477.32 1657.91 1477.32 Q1652.1 1477.32 1649.03 1472.74 Q1645.97 1468.13 1645.97 1459.41 Q1645.97 1450.66 1649.03 1446.07 Q1652.1 1441.47 1657.91 1441.47 Z\" fill=\"#000000\" fill-rule=\"evenodd\" fill-opacity=\"1\" /><path clip-path=\"url(#clip910)\" d=\"M 0 0 M1941.88 1442.09 L1960.24 1442.09 L1960.24 1446.03 L1946.16 1446.03 L1946.16 1454.5 Q1947.18 1454.15 1948.2 1453.99 Q1949.22 1453.8 1950.24 1453.8 Q1956.02 1453.8 1959.4 1456.98 Q1962.78 1460.15 1962.78 1465.56 Q1962.78 1471.14 1959.31 1474.24 Q1955.84 1477.32 1949.52 1477.32 Q1947.34 1477.32 1945.07 1476.95 Q1942.83 1476.58 1940.42 1475.84 L1940.42 1471.14 Q1942.5 1472.28 1944.73 1472.83 Q1946.95 1473.39 1949.43 1473.39 Q1953.43 1473.39 1955.77 1471.28 Q1958.11 1469.18 1958.11 1465.56 Q1958.11 1461.95 1955.77 1459.85 Q1953.43 1457.74 1949.43 1457.74 Q1947.55 1457.74 1945.68 1458.16 Q1943.82 1458.57 1941.88 1459.45 L1941.88 1442.09 Z\" fill=\"#000000\" fill-rule=\"evenodd\" fill-opacity=\"1\" /><path clip-path=\"url(#clip910)\" d=\"M 0 0 M1977.85 1445.17 Q1974.24 1445.17 1972.41 1448.74 Q1970.61 1452.28 1970.61 1459.41 Q1970.61 1466.51 1972.41 1470.08 Q1974.24 1473.62 1977.85 1473.62 Q1981.49 1473.62 1983.29 1470.08 Q1985.12 1466.51 1985.12 1459.41 Q1985.12 1452.28 1983.29 1448.74 Q1981.49 1445.17 1977.85 1445.17 M1977.85 1441.47 Q1983.66 1441.47 1986.72 1446.07 Q1989.8 1450.66 1989.8 1459.41 Q1989.8 1468.13 1986.72 1472.74 Q1983.66 1477.32 1977.85 1477.32 Q1972.04 1477.32 1968.96 1472.74 Q1965.91 1468.13 1965.91 1459.41 Q1965.91 1450.66 1968.96 1446.07 Q1972.04 1441.47 1977.85 1441.47 Z\" fill=\"#000000\" fill-rule=\"evenodd\" fill-opacity=\"1\" /><path clip-path=\"url(#clip910)\" d=\"M 0 0 M2004.86 1445.17 Q2001.25 1445.17 1999.42 1448.74 Q1997.62 1452.28 1997.62 1459.41 Q1997.62 1466.51 1999.42 1470.08 Q2001.25 1473.62 2004.86 1473.62 Q2008.5 1473.62 2010.3 1470.08 Q2012.13 1466.51 2012.13 1459.41 Q2012.13 1452.28 2010.3 1448.74 Q2008.5 1445.17 2004.86 1445.17 M2004.86 1441.47 Q2010.67 1441.47 2013.73 1446.07 Q2016.81 1450.66 2016.81 1459.41 Q2016.81 1468.13 2013.73 1472.74 Q2010.67 1477.32 2004.86 1477.32 Q1999.05 1477.32 1995.98 1472.74 Q1992.92 1468.13 1992.92 1459.41 Q1992.92 1450.66 1995.98 1446.07 Q1999.05 1441.47 2004.86 1441.47 Z\" fill=\"#000000\" fill-rule=\"evenodd\" fill-opacity=\"1\" /><path clip-path=\"url(#clip910)\" d=\"M 0 0 M2300.37 1457.51 Q2297.22 1457.51 2295.37 1459.66 Q2293.54 1461.81 2293.54 1465.56 Q2293.54 1469.29 2295.37 1471.47 Q2297.22 1473.62 2300.37 1473.62 Q2303.52 1473.62 2305.35 1471.47 Q2307.2 1469.29 2307.2 1465.56 Q2307.2 1461.81 2305.35 1459.66 Q2303.52 1457.51 2300.37 1457.51 M2309.65 1442.86 L2309.65 1447.11 Q2307.89 1446.28 2306.09 1445.84 Q2304.3 1445.4 2302.54 1445.4 Q2297.91 1445.4 2295.46 1448.53 Q2293.03 1451.65 2292.68 1457.97 Q2294.05 1455.96 2296.11 1454.89 Q2298.17 1453.8 2300.65 1453.8 Q2305.85 1453.8 2308.86 1456.98 Q2311.9 1460.12 2311.9 1465.56 Q2311.9 1470.89 2308.75 1474.11 Q2305.6 1477.32 2300.37 1477.32 Q2294.37 1477.32 2291.2 1472.74 Q2288.03 1468.13 2288.03 1459.41 Q2288.03 1451.21 2291.92 1446.35 Q2295.81 1441.47 2302.36 1441.47 Q2304.12 1441.47 2305.9 1441.81 Q2307.71 1442.16 2309.65 1442.86 Z\" fill=\"#000000\" fill-rule=\"evenodd\" fill-opacity=\"1\" /><path clip-path=\"url(#clip910)\" d=\"M 0 0 M2326.97 1445.17 Q2323.35 1445.17 2321.53 1448.74 Q2319.72 1452.28 2319.72 1459.41 Q2319.72 1466.51 2321.53 1470.08 Q2323.35 1473.62 2326.97 1473.62 Q2330.6 1473.62 2332.41 1470.08 Q2334.23 1466.51 2334.23 1459.41 Q2334.23 1452.28 2332.41 1448.74 Q2330.6 1445.17 2326.97 1445.17 M2326.97 1441.47 Q2332.78 1441.47 2335.83 1446.07 Q2338.91 1450.66 2338.91 1459.41 Q2338.91 1468.13 2335.83 1472.74 Q2332.78 1477.32 2326.97 1477.32 Q2321.16 1477.32 2318.08 1472.74 Q2315.02 1468.13 2315.02 1459.41 Q2315.02 1450.66 2318.08 1446.07 Q2321.16 1441.47 2326.97 1441.47 Z\" fill=\"#000000\" fill-rule=\"evenodd\" fill-opacity=\"1\" /><path clip-path=\"url(#clip910)\" d=\"M 0 0 M2353.98 1445.17 Q2350.37 1445.17 2348.54 1448.74 Q2346.73 1452.28 2346.73 1459.41 Q2346.73 1466.51 2348.54 1470.08 Q2350.37 1473.62 2353.98 1473.62 Q2357.61 1473.62 2359.42 1470.08 Q2361.25 1466.51 2361.25 1459.41 Q2361.25 1452.28 2359.42 1448.74 Q2357.61 1445.17 2353.98 1445.17 M2353.98 1441.47 Q2359.79 1441.47 2362.84 1446.07 Q2365.92 1450.66 2365.92 1459.41 Q2365.92 1468.13 2362.84 1472.74 Q2359.79 1477.32 2353.98 1477.32 Q2348.17 1477.32 2345.09 1472.74 Q2342.03 1468.13 2342.03 1459.41 Q2342.03 1450.66 2345.09 1446.07 Q2348.17 1441.47 2353.98 1441.47 Z\" fill=\"#000000\" fill-rule=\"evenodd\" fill-opacity=\"1\" /><path clip-path=\"url(#clip910)\" d=\"M 0 0 M139.015 1119.87 Q135.404 1119.87 133.575 1123.43 Q131.769 1126.97 131.769 1134.1 Q131.769 1141.21 133.575 1144.77 Q135.404 1148.32 139.015 1148.32 Q142.649 1148.32 144.455 1144.77 Q146.283 1141.21 146.283 1134.1 Q146.283 1126.97 144.455 1123.43 Q142.649 1119.87 139.015 1119.87 M139.015 1116.16 Q144.825 1116.16 147.88 1120.77 Q150.959 1125.35 150.959 1134.1 Q150.959 1142.83 147.88 1147.44 Q144.825 1152.02 139.015 1152.02 Q133.205 1152.02 130.126 1147.44 Q127.07 1142.83 127.07 1134.1 Q127.07 1125.35 130.126 1120.77 Q133.205 1116.16 139.015 1116.16 Z\" fill=\"#000000\" fill-rule=\"evenodd\" fill-opacity=\"1\" /><path clip-path=\"url(#clip910)\" d=\"M 0 0 M156.029 1145.47 L160.913 1145.47 L160.913 1151.35 L156.029 1151.35 L156.029 1145.47 Z\" fill=\"#000000\" fill-rule=\"evenodd\" fill-opacity=\"1\" /><path clip-path=\"url(#clip910)\" d=\"M 0 0 M164.802 1116.79 L187.024 1116.79 L187.024 1118.78 L174.477 1151.35 L169.593 1151.35 L181.399 1120.72 L164.802 1120.72 L164.802 1116.79 Z\" fill=\"#000000\" fill-rule=\"evenodd\" fill-opacity=\"1\" /><path clip-path=\"url(#clip910)\" d=\"M 0 0 M138.205 770.573 Q134.593 770.573 132.765 774.137 Q130.959 777.679 130.959 784.809 Q130.959 791.915 132.765 795.48 Q134.593 799.022 138.205 799.022 Q141.839 799.022 143.644 795.48 Q145.473 791.915 145.473 784.809 Q145.473 777.679 143.644 774.137 Q141.839 770.573 138.205 770.573 M138.205 766.869 Q144.015 766.869 147.07 771.475 Q150.149 776.059 150.149 784.809 Q150.149 793.536 147.07 798.142 Q144.015 802.725 138.205 802.725 Q132.394 802.725 129.316 798.142 Q126.26 793.536 126.26 784.809 Q126.26 776.059 129.316 771.475 Q132.394 766.869 138.205 766.869 Z\" fill=\"#000000\" fill-rule=\"evenodd\" fill-opacity=\"1\" /><path clip-path=\"url(#clip910)\" d=\"M 0 0 M155.218 796.174 L160.103 796.174 L160.103 802.054 L155.218 802.054 L155.218 796.174 Z\" fill=\"#000000\" fill-rule=\"evenodd\" fill-opacity=\"1\" /><path clip-path=\"url(#clip910)\" d=\"M 0 0 M175.172 785.642 Q171.839 785.642 169.917 787.424 Q168.019 789.207 168.019 792.332 Q168.019 795.457 169.917 797.239 Q171.839 799.022 175.172 799.022 Q178.505 799.022 180.427 797.239 Q182.348 795.434 182.348 792.332 Q182.348 789.207 180.427 787.424 Q178.528 785.642 175.172 785.642 M170.496 783.651 Q167.487 782.911 165.797 780.85 Q164.13 778.79 164.13 775.827 Q164.13 771.684 167.07 769.276 Q170.033 766.869 175.172 766.869 Q180.334 766.869 183.274 769.276 Q186.214 771.684 186.214 775.827 Q186.214 778.79 184.524 780.85 Q182.857 782.911 179.871 783.651 Q183.251 784.438 185.126 786.73 Q187.024 789.022 187.024 792.332 Q187.024 797.355 183.945 800.04 Q180.889 802.725 175.172 802.725 Q169.454 802.725 166.376 800.04 Q163.32 797.355 163.32 792.332 Q163.32 789.022 165.218 786.73 Q167.116 784.438 170.496 783.651 M168.783 776.267 Q168.783 778.952 170.45 780.457 Q172.14 781.961 175.172 781.961 Q178.181 781.961 179.871 780.457 Q181.584 778.952 181.584 776.267 Q181.584 773.582 179.871 772.077 Q178.181 770.573 175.172 770.573 Q172.14 770.573 170.45 772.077 Q168.783 773.582 168.783 776.267 Z\" fill=\"#000000\" fill-rule=\"evenodd\" fill-opacity=\"1\" /><path clip-path=\"url(#clip910)\" d=\"M 0 0 M138.297 421.279 Q134.686 421.279 132.857 424.843 Q131.052 428.385 131.052 435.515 Q131.052 442.621 132.857 446.186 Q134.686 449.727 138.297 449.727 Q141.931 449.727 143.737 446.186 Q145.566 442.621 145.566 435.515 Q145.566 428.385 143.737 424.843 Q141.931 421.279 138.297 421.279 M138.297 417.575 Q144.107 417.575 147.163 422.181 Q150.242 426.765 150.242 435.515 Q150.242 444.241 147.163 448.848 Q144.107 453.431 138.297 453.431 Q132.487 453.431 129.408 448.848 Q126.353 444.241 126.353 435.515 Q126.353 426.765 129.408 422.181 Q132.487 417.575 138.297 417.575 Z\" fill=\"#000000\" fill-rule=\"evenodd\" fill-opacity=\"1\" /><path clip-path=\"url(#clip910)\" d=\"M 0 0 M155.311 446.88 L160.195 446.88 L160.195 452.76 L155.311 452.76 L155.311 446.88 Z\" fill=\"#000000\" fill-rule=\"evenodd\" fill-opacity=\"1\" /><path clip-path=\"url(#clip910)\" d=\"M 0 0 M165.403 452.042 L165.403 447.783 Q167.163 448.616 168.968 449.056 Q170.774 449.496 172.51 449.496 Q177.14 449.496 179.57 446.394 Q182.024 443.269 182.371 436.927 Q181.028 438.917 178.968 439.982 Q176.908 441.047 174.408 441.047 Q169.223 441.047 166.19 437.922 Q163.181 434.774 163.181 429.334 Q163.181 424.01 166.329 420.792 Q169.478 417.575 174.709 417.575 Q180.704 417.575 183.852 422.181 Q187.024 426.765 187.024 435.515 Q187.024 443.686 183.135 448.57 Q179.269 453.431 172.718 453.431 Q170.959 453.431 169.153 453.084 Q167.348 452.737 165.403 452.042 M174.709 437.39 Q177.857 437.39 179.686 435.237 Q181.538 433.084 181.538 429.334 Q181.538 425.607 179.686 423.454 Q177.857 421.279 174.709 421.279 Q171.561 421.279 169.709 423.454 Q167.88 425.607 167.88 429.334 Q167.88 433.084 169.709 435.237 Q171.561 437.39 174.709 437.39 Z\" fill=\"#000000\" fill-rule=\"evenodd\" fill-opacity=\"1\" /><path clip-path=\"url(#clip910)\" d=\"M 0 0 M130.149 99.5305 L137.788 99.5305 L137.788 73.1649 L129.478 74.8316 L129.478 70.5723 L137.742 68.9057 L142.417 68.9057 L142.417 99.5305 L150.056 99.5305 L150.056 103.466 L130.149 103.466 L130.149 99.5305 Z\" fill=\"#000000\" fill-rule=\"evenodd\" fill-opacity=\"1\" /><path clip-path=\"url(#clip910)\" d=\"M 0 0 M155.126 97.5861 L160.01 97.5861 L160.01 103.466 L155.126 103.466 L155.126 97.5861 Z\" fill=\"#000000\" fill-rule=\"evenodd\" fill-opacity=\"1\" /><path clip-path=\"url(#clip910)\" d=\"M 0 0 M175.079 71.9844 Q171.468 71.9844 169.64 75.5492 Q167.834 79.0908 167.834 86.2204 Q167.834 93.3268 169.64 96.8916 Q171.468 100.433 175.079 100.433 Q178.714 100.433 180.519 96.8916 Q182.348 93.3268 182.348 86.2204 Q182.348 79.0908 180.519 75.5492 Q178.714 71.9844 175.079 71.9844 M175.079 68.2807 Q180.889 68.2807 183.945 72.8871 Q187.024 77.4704 187.024 86.2204 Q187.024 94.9472 183.945 99.5537 Q180.889 104.137 175.079 104.137 Q169.269 104.137 166.19 99.5537 Q163.135 94.9472 163.135 86.2204 Q163.135 77.4704 166.19 72.8871 Q169.269 68.2807 175.079 68.2807 Z\" fill=\"#000000\" fill-rule=\"evenodd\" fill-opacity=\"1\" /><path clip-path=\"url(#clip910)\" d=\"M 0 0 M968.363 1510.08 L968.363 1516.35 Q964.703 1514.6 961.456 1513.74 Q958.21 1512.88 955.186 1512.88 Q949.934 1512.88 947.07 1514.92 Q944.237 1516.96 944.237 1520.71 Q944.237 1523.87 946.115 1525.49 Q948.024 1527.08 953.308 1528.07 L957.191 1528.86 Q964.384 1530.23 967.79 1533.7 Q971.227 1537.14 971.227 1542.93 Q971.227 1549.84 966.58 1553.4 Q961.965 1556.97 953.021 1556.97 Q949.648 1556.97 945.828 1556.2 Q942.041 1555.44 937.967 1553.94 L937.967 1547.32 Q941.882 1549.52 945.637 1550.63 Q949.393 1551.75 953.021 1551.75 Q958.528 1551.75 961.52 1549.58 Q964.512 1547.42 964.512 1543.41 Q964.512 1539.91 962.347 1537.93 Q960.215 1535.96 955.313 1534.97 L951.398 1534.21 Q944.205 1532.78 940.99 1529.72 Q937.776 1526.67 937.776 1521.22 Q937.776 1514.92 942.2 1511.29 Q946.656 1507.66 954.454 1507.66 Q957.796 1507.66 961.265 1508.27 Q964.734 1508.87 968.363 1510.08 Z\" fill=\"#000000\" fill-rule=\"evenodd\" fill-opacity=\"1\" /><path clip-path=\"url(#clip910)\" d=\"M 0 0 M977.37 1520.4 L983.227 1520.4 L983.227 1556.04 L977.37 1556.04 L977.37 1520.4 M977.37 1506.52 L983.227 1506.52 L983.227 1513.93 L977.37 1513.93 L977.37 1506.52 Z\" fill=\"#000000\" fill-rule=\"evenodd\" fill-opacity=\"1\" /><path clip-path=\"url(#clip910)\" d=\"M 0 0 M986.823 1520.4 L1014.64 1520.4 L1014.64 1525.74 L992.616 1551.37 L1014.64 1551.37 L1014.64 1556.04 L986.028 1556.04 L986.028 1550.7 L1008.05 1525.07 L986.823 1525.07 L986.823 1520.4 Z\" fill=\"#000000\" fill-rule=\"evenodd\" fill-opacity=\"1\" /><path clip-path=\"url(#clip910)\" d=\"M 0 0 M1051.28 1536.76 L1051.28 1539.62 L1024.35 1539.62 Q1024.73 1545.67 1027.98 1548.85 Q1031.26 1552 1037.08 1552 Q1040.45 1552 1043.61 1551.17 Q1046.79 1550.35 1049.91 1548.69 L1049.91 1554.23 Q1046.76 1555.57 1043.45 1556.27 Q1040.14 1556.97 1036.73 1556.97 Q1028.2 1556.97 1023.2 1552 Q1018.24 1547.04 1018.24 1538.57 Q1018.24 1529.82 1022.95 1524.69 Q1027.69 1519.54 1035.71 1519.54 Q1042.91 1519.54 1047.07 1524.18 Q1051.28 1528.8 1051.28 1536.76 M1045.42 1535.04 Q1045.36 1530.23 1042.71 1527.37 Q1040.1 1524.5 1035.78 1524.5 Q1030.87 1524.5 1027.91 1527.27 Q1024.99 1530.04 1024.54 1535.07 L1045.42 1535.04 Z\" fill=\"#000000\" fill-rule=\"evenodd\" fill-opacity=\"1\" /><path clip-path=\"url(#clip910)\" d=\"M 0 0 M1091.95 1524.5 Q1087.24 1524.5 1084.51 1528.19 Q1081.77 1531.85 1081.77 1538.25 Q1081.77 1544.65 1084.47 1548.34 Q1087.21 1552 1091.95 1552 Q1096.63 1552 1099.37 1548.31 Q1102.11 1544.62 1102.11 1538.25 Q1102.11 1531.92 1099.37 1528.23 Q1096.63 1524.5 1091.95 1524.5 M1091.95 1519.54 Q1099.59 1519.54 1103.95 1524.5 Q1108.31 1529.47 1108.31 1538.25 Q1108.31 1547 1103.95 1552 Q1099.59 1556.97 1091.95 1556.97 Q1084.28 1556.97 1079.92 1552 Q1075.59 1547 1075.59 1538.25 Q1075.59 1529.47 1079.92 1524.5 Q1084.28 1519.54 1091.95 1519.54 Z\" fill=\"#000000\" fill-rule=\"evenodd\" fill-opacity=\"1\" /><path clip-path=\"url(#clip910)\" d=\"M 0 0 M1132.5 1506.52 L1132.5 1511.39 L1126.9 1511.39 Q1123.75 1511.39 1122.51 1512.66 Q1121.3 1513.93 1121.3 1517.24 L1121.3 1520.4 L1130.94 1520.4 L1130.94 1524.95 L1121.3 1524.95 L1121.3 1556.04 L1115.41 1556.04 L1115.41 1524.95 L1109.81 1524.95 L1109.81 1520.4 L1115.41 1520.4 L1115.41 1517.91 Q1115.41 1511.96 1118.18 1509.26 Q1120.95 1506.52 1126.96 1506.52 L1132.5 1506.52 Z\" fill=\"#000000\" fill-rule=\"evenodd\" fill-opacity=\"1\" /><path clip-path=\"url(#clip910)\" d=\"M 0 0 M1153.03 1508.52 L1193.23 1508.52 L1193.23 1513.93 L1176.36 1513.93 L1176.36 1556.04 L1169.9 1556.04 L1169.9 1513.93 L1153.03 1513.93 L1153.03 1508.52 Z\" fill=\"#000000\" fill-rule=\"evenodd\" fill-opacity=\"1\" /><path clip-path=\"url(#clip910)\" d=\"M 0 0 M1210.45 1525.87 Q1209.46 1525.3 1208.29 1525.04 Q1207.14 1524.76 1205.74 1524.76 Q1200.77 1524.76 1198.1 1528 Q1195.46 1531.22 1195.46 1537.27 L1195.46 1556.04 L1189.57 1556.04 L1189.57 1520.4 L1195.46 1520.4 L1195.46 1525.93 Q1197.31 1522.69 1200.27 1521.13 Q1203.23 1519.54 1207.46 1519.54 Q1208.06 1519.54 1208.8 1519.63 Q1209.53 1519.7 1210.42 1519.85 L1210.45 1525.87 Z\" fill=\"#000000\" fill-rule=\"evenodd\" fill-opacity=\"1\" /><path clip-path=\"url(#clip910)\" d=\"M 0 0 M1232.79 1538.12 Q1225.7 1538.12 1222.96 1539.75 Q1220.22 1541.37 1220.22 1545.29 Q1220.22 1548.4 1222.26 1550.25 Q1224.33 1552.07 1227.86 1552.07 Q1232.73 1552.07 1235.66 1548.63 Q1238.62 1545.16 1238.62 1539.43 L1238.62 1538.12 L1232.79 1538.12 M1244.48 1535.71 L1244.48 1556.04 L1238.62 1556.04 L1238.62 1550.63 Q1236.61 1553.88 1233.62 1555.44 Q1230.63 1556.97 1226.3 1556.97 Q1220.83 1556.97 1217.58 1553.91 Q1214.37 1550.82 1214.37 1545.67 Q1214.37 1539.65 1218.38 1536.6 Q1222.42 1533.54 1230.41 1533.54 L1238.62 1533.54 L1238.62 1532.97 Q1238.62 1528.93 1235.95 1526.73 Q1233.3 1524.5 1228.5 1524.5 Q1225.44 1524.5 1222.55 1525.23 Q1219.65 1525.97 1216.98 1527.43 L1216.98 1522.02 Q1220.19 1520.78 1223.21 1520.17 Q1226.24 1519.54 1229.1 1519.54 Q1236.84 1519.54 1240.66 1523.55 Q1244.48 1527.56 1244.48 1535.71 Z\" fill=\"#000000\" fill-rule=\"evenodd\" fill-opacity=\"1\" /><path clip-path=\"url(#clip910)\" d=\"M 0 0 M1250.62 1520.4 L1256.47 1520.4 L1256.47 1556.04 L1250.62 1556.04 L1250.62 1520.4 M1250.62 1506.52 L1256.47 1506.52 L1256.47 1513.93 L1250.62 1513.93 L1250.62 1506.52 Z\" fill=\"#000000\" fill-rule=\"evenodd\" fill-opacity=\"1\" /><path clip-path=\"url(#clip910)\" d=\"M 0 0 M1292.25 1534.53 L1292.25 1556.04 L1286.39 1556.04 L1286.39 1534.72 Q1286.39 1529.66 1284.42 1527.14 Q1282.45 1524.63 1278.5 1524.63 Q1273.76 1524.63 1271.02 1527.65 Q1268.28 1530.68 1268.28 1535.9 L1268.28 1556.04 L1262.39 1556.04 L1262.39 1520.4 L1268.28 1520.4 L1268.28 1525.93 Q1270.38 1522.72 1273.22 1521.13 Q1276.08 1519.54 1279.81 1519.54 Q1285.95 1519.54 1289.1 1523.36 Q1292.25 1527.14 1292.25 1534.53 Z\" fill=\"#000000\" fill-rule=\"evenodd\" fill-opacity=\"1\" /><path clip-path=\"url(#clip910)\" d=\"M 0 0 M1298.39 1520.4 L1304.25 1520.4 L1304.25 1556.04 L1298.39 1556.04 L1298.39 1520.4 M1298.39 1506.52 L1304.25 1506.52 L1304.25 1513.93 L1298.39 1513.93 L1298.39 1506.52 Z\" fill=\"#000000\" fill-rule=\"evenodd\" fill-opacity=\"1\" /><path clip-path=\"url(#clip910)\" d=\"M 0 0 M1340.02 1534.53 L1340.02 1556.04 L1334.17 1556.04 L1334.17 1534.72 Q1334.17 1529.66 1332.19 1527.14 Q1330.22 1524.63 1326.27 1524.63 Q1321.53 1524.63 1318.79 1527.65 Q1316.06 1530.68 1316.06 1535.9 L1316.06 1556.04 L1310.17 1556.04 L1310.17 1520.4 L1316.06 1520.4 L1316.06 1525.93 Q1318.16 1522.72 1320.99 1521.13 Q1323.86 1519.54 1327.58 1519.54 Q1333.72 1519.54 1336.87 1523.36 Q1340.02 1527.14 1340.02 1534.53 Z\" fill=\"#000000\" fill-rule=\"evenodd\" fill-opacity=\"1\" /><path clip-path=\"url(#clip910)\" d=\"M 0 0 M1369.63 1537.81 Q1369.63 1531.44 1366.98 1527.94 Q1364.37 1524.44 1359.63 1524.44 Q1354.92 1524.44 1352.28 1527.94 Q1349.67 1531.44 1349.67 1537.81 Q1349.67 1544.14 1352.28 1547.64 Q1354.92 1551.14 1359.63 1551.14 Q1364.37 1551.14 1366.98 1547.64 Q1369.63 1544.14 1369.63 1537.81 M1375.48 1551.62 Q1375.48 1560.72 1371.44 1565.15 Q1367.4 1569.6 1359.06 1569.6 Q1355.97 1569.6 1353.23 1569.13 Q1350.5 1568.68 1347.92 1567.72 L1347.92 1562.03 Q1350.5 1563.43 1353.01 1564.1 Q1355.53 1564.76 1358.14 1564.76 Q1363.9 1564.76 1366.76 1561.74 Q1369.63 1558.75 1369.63 1552.67 L1369.63 1549.77 Q1367.81 1552.92 1364.98 1554.48 Q1362.15 1556.04 1358.2 1556.04 Q1351.64 1556.04 1347.63 1551.05 Q1343.62 1546.05 1343.62 1537.81 Q1343.62 1529.53 1347.63 1524.53 Q1351.64 1519.54 1358.2 1519.54 Q1362.15 1519.54 1364.98 1521.1 Q1367.81 1522.66 1369.63 1525.81 L1369.63 1520.4 L1375.48 1520.4 L1375.48 1551.62 Z\" fill=\"#000000\" fill-rule=\"evenodd\" fill-opacity=\"1\" /><path clip-path=\"url(#clip910)\" d=\"M 0 0 M1409.03 1513.81 L1409.03 1550.76 L1416.8 1550.76 Q1426.63 1550.76 1431.18 1546.3 Q1435.76 1541.85 1435.76 1532.24 Q1435.76 1522.69 1431.18 1518.26 Q1426.63 1513.81 1416.8 1513.81 L1409.03 1513.81 M1402.6 1508.52 L1415.81 1508.52 Q1429.62 1508.52 1436.08 1514.28 Q1442.54 1520.01 1442.54 1532.24 Q1442.54 1544.52 1436.05 1550.28 Q1429.56 1556.04 1415.81 1556.04 L1402.6 1556.04 L1402.6 1508.52 Z\" fill=\"#000000\" fill-rule=\"evenodd\" fill-opacity=\"1\" /><path clip-path=\"url(#clip910)\" d=\"M 0 0 M1464.89 1538.12 Q1457.79 1538.12 1455.05 1539.75 Q1452.32 1541.37 1452.32 1545.29 Q1452.32 1548.4 1454.35 1550.25 Q1456.42 1552.07 1459.95 1552.07 Q1464.82 1552.07 1467.75 1548.63 Q1470.71 1545.16 1470.71 1539.43 L1470.71 1538.12 L1464.89 1538.12 M1476.57 1535.71 L1476.57 1556.04 L1470.71 1556.04 L1470.71 1550.63 Q1468.71 1553.88 1465.72 1555.44 Q1462.72 1556.97 1458.39 1556.97 Q1452.92 1556.97 1449.67 1553.91 Q1446.46 1550.82 1446.46 1545.67 Q1446.46 1539.65 1450.47 1536.6 Q1454.51 1533.54 1462.5 1533.54 L1470.71 1533.54 L1470.71 1532.97 Q1470.71 1528.93 1468.04 1526.73 Q1465.4 1524.5 1460.59 1524.5 Q1457.54 1524.5 1454.64 1525.23 Q1451.74 1525.97 1449.07 1527.43 L1449.07 1522.02 Q1452.28 1520.78 1455.31 1520.17 Q1458.33 1519.54 1461.2 1519.54 Q1468.93 1519.54 1472.75 1523.55 Q1476.57 1527.56 1476.57 1535.71 Z\" fill=\"#000000\" fill-rule=\"evenodd\" fill-opacity=\"1\" /><path clip-path=\"url(#clip910)\" d=\"M 0 0 M1488.5 1510.27 L1488.5 1520.4 L1500.57 1520.4 L1500.57 1524.95 L1488.5 1524.95 L1488.5 1544.3 Q1488.5 1548.66 1489.68 1549.9 Q1490.89 1551.14 1494.55 1551.14 L1500.57 1551.14 L1500.57 1556.04 L1494.55 1556.04 Q1487.77 1556.04 1485.19 1553.53 Q1482.62 1550.98 1482.62 1544.3 L1482.62 1524.95 L1478.32 1524.95 L1478.32 1520.4 L1482.62 1520.4 L1482.62 1510.27 L1488.5 1510.27 Z\" fill=\"#000000\" fill-rule=\"evenodd\" fill-opacity=\"1\" /><path clip-path=\"url(#clip910)\" d=\"M 0 0 M1522.91 1538.12 Q1515.81 1538.12 1513.08 1539.75 Q1510.34 1541.37 1510.34 1545.29 Q1510.34 1548.4 1512.38 1550.25 Q1514.44 1552.07 1517.98 1552.07 Q1522.85 1552.07 1525.78 1548.63 Q1528.74 1545.16 1528.74 1539.43 L1528.74 1538.12 L1522.91 1538.12 M1534.59 1535.71 L1534.59 1556.04 L1528.74 1556.04 L1528.74 1550.63 Q1526.73 1553.88 1523.74 1555.44 Q1520.75 1556.97 1516.42 1556.97 Q1510.94 1556.97 1507.7 1553.91 Q1504.48 1550.82 1504.48 1545.67 Q1504.48 1539.65 1508.49 1536.6 Q1512.54 1533.54 1520.52 1533.54 L1528.74 1533.54 L1528.74 1532.97 Q1528.74 1528.93 1526.06 1526.73 Q1523.42 1524.5 1518.61 1524.5 Q1515.56 1524.5 1512.66 1525.23 Q1509.77 1525.97 1507.09 1527.43 L1507.09 1522.02 Q1510.31 1520.78 1513.33 1520.17 Q1516.35 1519.54 1519.22 1519.54 Q1526.95 1519.54 1530.77 1523.55 Q1534.59 1527.56 1534.59 1535.71 Z\" fill=\"#000000\" fill-rule=\"evenodd\" fill-opacity=\"1\" /><path clip-path=\"url(#clip910)\" d=\"M 0 0 M1563.46 1521.45 L1563.46 1526.98 Q1560.98 1525.71 1558.3 1525.07 Q1555.63 1524.44 1552.77 1524.44 Q1548.41 1524.44 1546.21 1525.77 Q1544.05 1527.11 1544.05 1529.79 Q1544.05 1531.82 1545.61 1533 Q1547.16 1534.15 1551.88 1535.2 L1553.88 1535.64 Q1560.12 1536.98 1562.73 1539.43 Q1565.37 1541.85 1565.37 1546.21 Q1565.37 1551.17 1561.42 1554.07 Q1557.51 1556.97 1550.63 1556.97 Q1547.77 1556.97 1544.65 1556.39 Q1541.56 1555.85 1538.13 1554.74 L1538.13 1548.69 Q1541.37 1550.38 1544.52 1551.24 Q1547.67 1552.07 1550.76 1552.07 Q1554.9 1552.07 1557.13 1550.66 Q1559.36 1549.23 1559.36 1546.65 Q1559.36 1544.27 1557.73 1542.99 Q1556.14 1541.72 1550.7 1540.54 L1548.66 1540.07 Q1543.22 1538.92 1540.8 1536.56 Q1538.38 1534.18 1538.38 1530.04 Q1538.38 1525.01 1541.94 1522.27 Q1545.51 1519.54 1552.07 1519.54 Q1555.31 1519.54 1558.18 1520.01 Q1561.04 1520.49 1563.46 1521.45 Z\" fill=\"#000000\" fill-rule=\"evenodd\" fill-opacity=\"1\" /><path clip-path=\"url(#clip910)\" d=\"M 0 0 M1602.01 1536.76 L1602.01 1539.62 L1575.08 1539.62 Q1575.46 1545.67 1578.71 1548.85 Q1581.99 1552 1587.81 1552 Q1591.18 1552 1594.33 1551.17 Q1597.52 1550.35 1600.64 1548.69 L1600.64 1554.23 Q1597.49 1555.57 1594.18 1556.27 Q1590.87 1556.97 1587.46 1556.97 Q1578.93 1556.97 1573.93 1552 Q1568.97 1547.04 1568.97 1538.57 Q1568.97 1529.82 1573.68 1524.69 Q1578.42 1519.54 1586.44 1519.54 Q1593.63 1519.54 1597.8 1524.18 Q1602.01 1528.8 1602.01 1536.76 M1596.15 1535.04 Q1596.09 1530.23 1593.44 1527.37 Q1590.83 1524.5 1586.5 1524.5 Q1581.6 1524.5 1578.64 1527.27 Q1575.71 1530.04 1575.27 1535.07 L1596.15 1535.04 Z\" fill=\"#000000\" fill-rule=\"evenodd\" fill-opacity=\"1\" /><path clip-path=\"url(#clip910)\" d=\"M 0 0 M1613.94 1510.27 L1613.94 1520.4 L1626 1520.4 L1626 1524.95 L1613.94 1524.95 L1613.94 1544.3 Q1613.94 1548.66 1615.12 1549.9 Q1616.33 1551.14 1619.99 1551.14 L1626 1551.14 L1626 1556.04 L1619.99 1556.04 Q1613.21 1556.04 1610.63 1553.53 Q1608.05 1550.98 1608.05 1544.3 L1608.05 1524.95 L1603.76 1524.95 L1603.76 1520.4 L1608.05 1520.4 L1608.05 1510.27 L1613.94 1510.27 Z\" fill=\"#000000\" fill-rule=\"evenodd\" fill-opacity=\"1\" /><path clip-path=\"url(#clip910)\" d=\"M 0 0 M46.818 848.76 L70.4666 857.481 L70.4666 840.007 L46.818 848.76 M40.4842 852.389 L40.4842 845.1 L88.0042 826.99 L88.0042 833.674 L75.8138 838.002 L75.8138 859.423 L88.0042 863.751 L88.0042 870.531 L40.4842 852.389 Z\" fill=\"#000000\" fill-rule=\"evenodd\" fill-opacity=\"1\" /><path clip-path=\"url(#clip910)\" d=\"M 0 0 M53.7248 796.339 L59.1993 796.339 Q57.8307 798.821 57.1623 801.336 Q56.4621 803.818 56.4621 806.365 Q56.4621 812.062 60.0905 815.213 Q63.6872 818.364 70.212 818.364 Q76.7369 818.364 80.3653 815.213 Q83.9619 812.062 83.9619 806.365 Q83.9619 803.818 83.2935 801.336 Q82.5933 798.821 81.2247 796.339 L86.6355 796.339 Q87.7814 798.789 88.3543 801.431 Q88.9272 804.041 88.9272 807.001 Q88.9272 815.054 83.8664 819.796 Q78.8057 824.539 70.212 824.539 Q61.491 824.539 56.4939 819.764 Q51.4968 814.958 51.4968 806.619 Q51.4968 803.914 52.0697 801.336 Q52.6108 798.758 53.7248 796.339 Z\" fill=\"#000000\" fill-rule=\"evenodd\" fill-opacity=\"1\" /><path clip-path=\"url(#clip910)\" d=\"M 0 0 M53.7248 764.542 L59.1993 764.542 Q57.8307 767.025 57.1623 769.539 Q56.4621 772.022 56.4621 774.568 Q56.4621 780.265 60.0905 783.416 Q63.6872 786.567 70.212 786.567 Q76.7369 786.567 80.3653 783.416 Q83.9619 780.265 83.9619 774.568 Q83.9619 772.022 83.2935 769.539 Q82.5933 767.025 81.2247 764.542 L86.6355 764.542 Q87.7814 766.993 88.3543 769.635 Q88.9272 772.244 88.9272 775.205 Q88.9272 783.257 83.8664 788 Q78.8057 792.742 70.212 792.742 Q61.491 792.742 56.4939 787.968 Q51.4968 783.162 51.4968 774.823 Q51.4968 772.117 52.0697 769.539 Q52.6108 766.961 53.7248 764.542 Z\" fill=\"#000000\" fill-rule=\"evenodd\" fill-opacity=\"1\" /><path clip-path=\"url(#clip910)\" d=\"M 0 0 M73.9359 759.004 L52.3562 759.004 L52.3562 753.147 L73.7131 753.147 Q78.7739 753.147 81.3202 751.174 Q83.8346 749.201 83.8346 745.254 Q83.8346 740.511 80.8109 737.774 Q77.7872 735.005 72.5673 735.005 L52.3562 735.005 L52.3562 729.149 L88.0042 729.149 L88.0042 735.005 L82.5296 735.005 Q85.7762 737.138 87.3676 739.97 Q88.9272 742.771 88.9272 746.495 Q88.9272 752.638 85.1078 755.821 Q81.2883 759.004 73.9359 759.004 M51.4968 744.267 L51.4968 744.267 Z\" fill=\"#000000\" fill-rule=\"evenodd\" fill-opacity=\"1\" /><path clip-path=\"url(#clip910)\" d=\"M 0 0 M57.8307 702.349 Q57.2578 703.336 57.0032 704.513 Q56.7167 705.659 56.7167 707.06 Q56.7167 712.025 59.9632 714.698 Q63.1779 717.34 69.2253 717.34 L88.0042 717.34 L88.0042 723.229 L52.3562 723.229 L52.3562 717.34 L57.8944 717.34 Q54.6479 715.494 53.0883 712.534 Q51.4968 709.574 51.4968 705.341 Q51.4968 704.736 51.5923 704.004 Q51.656 703.272 51.8151 702.381 L57.8307 702.349 Z\" fill=\"#000000\" fill-rule=\"evenodd\" fill-opacity=\"1\" /><path clip-path=\"url(#clip910)\" d=\"M 0 0 M70.0847 680.005 Q70.0847 687.103 71.7079 689.84 Q73.3312 692.578 77.2461 692.578 Q80.3653 692.578 82.2114 690.541 Q84.0256 688.472 84.0256 684.939 Q84.0256 680.069 80.5881 677.141 Q77.1188 674.181 71.3897 674.181 L70.0847 674.181 L70.0847 680.005 M67.6657 668.324 L88.0042 668.324 L88.0042 674.181 L82.5933 674.181 Q85.8398 676.186 87.3994 679.178 Q88.9272 682.17 88.9272 686.498 Q88.9272 691.973 85.8716 695.219 Q82.7843 698.434 77.6281 698.434 Q71.6125 698.434 68.5569 694.424 Q65.5014 690.381 65.5014 682.393 L65.5014 674.181 L64.9285 674.181 Q60.8862 674.181 58.6901 676.854 Q56.4621 679.496 56.4621 684.302 Q56.4621 687.358 57.1941 690.254 Q57.9262 693.151 59.3903 695.824 L53.9795 695.824 Q52.7381 692.609 52.1334 689.586 Q51.4968 686.562 51.4968 683.697 Q51.4968 675.963 55.5072 672.144 Q59.5176 668.324 67.6657 668.324 Z\" fill=\"#000000\" fill-rule=\"evenodd\" fill-opacity=\"1\" /><path clip-path=\"url(#clip910)\" d=\"M 0 0 M53.7248 636.528 L59.1993 636.528 Q57.8307 639.01 57.1623 641.525 Q56.4621 644.007 56.4621 646.554 Q56.4621 652.251 60.0905 655.402 Q63.6872 658.553 70.212 658.553 Q76.7369 658.553 80.3653 655.402 Q83.9619 652.251 83.9619 646.554 Q83.9619 644.007 83.2935 641.525 Q82.5933 639.01 81.2247 636.528 L86.6355 636.528 Q87.7814 638.978 88.3543 641.62 Q88.9272 644.23 88.9272 647.19 Q88.9272 655.243 83.8664 659.985 Q78.8057 664.728 70.212 664.728 Q61.491 664.728 56.4939 659.953 Q51.4968 655.147 51.4968 646.808 Q51.4968 644.103 52.0697 641.525 Q52.6108 638.947 53.7248 636.528 Z\" fill=\"#000000\" fill-rule=\"evenodd\" fill-opacity=\"1\" /><path clip-path=\"url(#clip910)\" d=\"M 0 0 M91.3143 615.553 Q97.68 618.035 99.6216 620.391 Q101.563 622.746 101.563 626.693 L101.563 631.371 L96.6615 631.371 L96.6615 627.934 Q96.6615 625.515 95.5157 624.178 Q94.3699 622.841 90.1048 621.218 L87.4312 620.168 L52.3562 634.586 L52.3562 628.379 L80.238 617.24 L52.3562 606.1 L52.3562 599.893 L91.3143 615.553 Z\" fill=\"#000000\" fill-rule=\"evenodd\" fill-opacity=\"1\" /><polyline clip-path=\"url(#clip912)\" style=\"stroke:#009af9; stroke-width:4; stroke-opacity:1; fill:none\" points=\"\n",
       "  271.639,86.1857 289.057,86.1857 306.475,86.1857 323.893,86.1857 341.311,86.1857 358.729,285.782 376.148,260.833 393.566,319.048 410.984,435.48 428.402,403.726 \n",
       "  445.82,493.696 463.238,462.349 480.656,585.177 498.074,691.629 515.492,697.45 532.911,620.4 550.329,823.584 567.747,748.006 585.165,819.703 602.583,818.04 \n",
       "  620.001,721.266 637.419,754.401 654.837,784.774 672.256,784.774 689.674,757.905 707.092,758.9 724.51,759.824 741.928,736.595 759.346,738.201 776.764,739.704 \n",
       "  794.182,741.112 811.601,742.435 829.019,743.681 846.437,784.774 863.855,784.774 881.273,765.893 898.691,803.158 916.109,748.949 933.527,732.38 950.946,716.619 \n",
       "  968.364,718.242 985.782,768.528 1003.2,721.266 1020.62,676.105 1038.04,769.587 1055.45,755.047 1072.87,668.343 1090.29,684.976 1107.71,700.943 1125.13,702.587 \n",
       "  1142.54,731.036 1159.96,745.231 1177.38,733.027 1194.8,733.968 1212.22,734.875 1229.64,711.238 1247.05,724.551 1264.47,737.412 1281.89,749.845 1299.31,693.156 \n",
       "  1316.73,683.366 1334.14,707.153 1351.56,697.45 1368.98,677.299 1386.4,689.512 1403.82,701.36 1421.23,702.587 1438.65,713.903 1456.07,704.935 1473.49,706.06 \n",
       "  1490.91,678.045 1508.33,736.925 1525.74,728.132 1543.16,756.83 1560.58,748.006 1578,766.629 1595.42,766.861 1612.83,767.088 1630.25,767.309 1647.67,767.525 \n",
       "  1665.09,776.255 1682.51,776.357 1699.92,776.457 1717.34,776.555 1734.76,776.651 1752.18,776.744 1769.6,768.897 1787.02,847.568 1804.43,777.012 1821.85,777.097 \n",
       "  1839.27,777.181 1856.69,717.169 1874.11,710.456 1891.52,770.067 1908.94,784.774 1926.36,777.572 1943.78,763.389 1961.2,756.548 1978.61,840.661 1996.03,840.108 \n",
       "  2013.45,736.832 2030.87,805.121 2048.29,751.188 2065.71,751.508 2083.12,758.412 2100.54,765.187 2117.96,758.9 2135.38,759.138 2152.8,753.02 2170.21,753.306 \n",
       "  2187.63,747.35 2205.05,747.681 2222.47,754.134 2239.89,748.326 2257.3,742.618 2274.72,742.978 2292.14,743.332 \n",
       "  \"/>\n",
       "<polyline clip-path=\"url(#clip912)\" style=\"stroke:#e26f46; stroke-width:4; stroke-opacity:1; fill:none\" points=\"\n",
       "  271.639,1384.24 289.057,1384.24 306.475,912.219 323.893,983.022 341.311,983.022 358.729,817.815 376.148,817.815 393.566,935.82 410.984,959.421 428.402,723.411 \n",
       "  445.82,794.214 463.238,794.214 480.656,1077.43 498.074,817.815 515.492,770.613 532.911,841.416 550.329,794.214 567.747,794.214 585.165,794.214 602.583,794.214 \n",
       "  620.001,817.815 637.419,817.815 654.837,817.815 672.256,817.815 689.674,817.815 707.092,817.815 724.51,817.815 741.928,817.815 759.346,794.214 776.764,794.214 \n",
       "  794.182,817.815 811.601,817.815 829.019,841.416 846.437,817.815 863.855,817.815 881.273,817.815 898.691,817.815 916.109,817.815 933.527,817.815 950.946,841.416 \n",
       "  968.364,841.416 985.782,794.214 1003.2,699.811 1020.62,747.012 1038.04,794.214 1055.45,794.214 1072.87,817.815 1090.29,817.815 1107.71,817.815 1125.13,794.214 \n",
       "  1142.54,794.214 1159.96,817.815 1177.38,817.815 1194.8,817.815 1212.22,747.012 1229.64,770.613 1247.05,770.613 1264.47,770.613 1281.89,770.613 1299.31,841.416 \n",
       "  1316.73,841.416 1334.14,841.416 1351.56,841.416 1368.98,817.815 1386.4,770.613 1403.82,794.214 1421.23,770.613 1438.65,817.815 1456.07,817.815 1473.49,817.815 \n",
       "  1490.91,912.219 1508.33,794.214 1525.74,865.017 1543.16,817.815 1560.58,794.214 1578,794.214 1595.42,817.815 1612.83,794.214 1630.25,817.815 1647.67,817.815 \n",
       "  1665.09,794.214 1682.51,794.214 1699.92,794.214 1717.34,794.214 1734.76,794.214 1752.18,794.214 1769.6,794.214 1787.02,841.416 1804.43,817.815 1821.85,817.815 \n",
       "  1839.27,817.815 1856.69,841.416 1874.11,841.416 1891.52,841.416 1908.94,794.214 1926.36,794.214 1943.78,747.012 1961.2,747.012 1978.61,817.815 1996.03,817.815 \n",
       "  2013.45,841.416 2030.87,817.815 2048.29,841.416 2065.71,841.416 2083.12,841.416 2100.54,841.416 2117.96,841.416 2135.38,841.416 2152.8,841.416 2170.21,841.416 \n",
       "  2187.63,841.416 2205.05,841.416 2222.47,841.416 2239.89,841.416 2257.3,865.017 2274.72,865.017 2292.14,865.017 \n",
       "  \"/>\n",
       "<path clip-path=\"url(#clip910)\" d=\"\n",
       "M1844.07 274.549 L2281.36 274.549 L2281.36 93.1086 L1844.07 93.1086  Z\n",
       "  \" fill=\"#ffffff\" fill-rule=\"evenodd\" fill-opacity=\"1\"/>\n",
       "<polyline clip-path=\"url(#clip910)\" style=\"stroke:#000000; stroke-width:4; stroke-opacity:1; fill:none\" points=\"\n",
       "  1844.07,274.549 2281.36,274.549 2281.36,93.1086 1844.07,93.1086 1844.07,274.549 \n",
       "  \"/>\n",
       "<polyline clip-path=\"url(#clip910)\" style=\"stroke:#009af9; stroke-width:4; stroke-opacity:1; fill:none\" points=\"\n",
       "  1867.86,153.589 2010.65,153.589 \n",
       "  \"/>\n",
       "<path clip-path=\"url(#clip910)\" d=\"M 0 0 M2034.44 136.309 L2063.68 136.309 L2063.68 140.244 L2051.41 140.244 L2051.41 170.869 L2046.71 170.869 L2046.71 140.244 L2034.44 140.244 L2034.44 136.309 Z\" fill=\"#000000\" fill-rule=\"evenodd\" fill-opacity=\"1\" /><path clip-path=\"url(#clip910)\" d=\"M 0 0 M2076.2 148.924 Q2075.48 148.508 2074.63 148.322 Q2073.79 148.114 2072.78 148.114 Q2069.17 148.114 2067.22 150.475 Q2065.3 152.813 2065.3 157.211 L2065.3 170.869 L2061.02 170.869 L2061.02 144.943 L2065.3 144.943 L2065.3 148.971 Q2066.64 146.609 2068.79 145.475 Q2070.95 144.318 2074.03 144.318 Q2074.47 144.318 2075 144.387 Q2075.53 144.434 2076.18 144.549 L2076.2 148.924 Z\" fill=\"#000000\" fill-rule=\"evenodd\" fill-opacity=\"1\" /><path clip-path=\"url(#clip910)\" d=\"M 0 0 M2092.45 157.836 Q2087.29 157.836 2085.3 159.017 Q2083.31 160.197 2083.31 163.045 Q2083.31 165.313 2084.79 166.656 Q2086.29 167.975 2088.86 167.975 Q2092.41 167.975 2094.54 165.475 Q2096.69 162.952 2096.69 158.785 L2096.69 157.836 L2092.45 157.836 M2100.95 156.077 L2100.95 170.869 L2096.69 170.869 L2096.69 166.933 Q2095.23 169.295 2093.05 170.429 Q2090.88 171.54 2087.73 171.54 Q2083.75 171.54 2081.39 169.318 Q2079.05 167.072 2079.05 163.322 Q2079.05 158.947 2081.97 156.725 Q2084.91 154.503 2090.72 154.503 L2096.69 154.503 L2096.69 154.086 Q2096.69 151.147 2094.74 149.549 Q2092.82 147.929 2089.33 147.929 Q2087.1 147.929 2085 148.461 Q2082.89 148.994 2080.95 150.059 L2080.95 146.123 Q2083.29 145.221 2085.48 144.781 Q2087.68 144.318 2089.77 144.318 Q2095.39 144.318 2098.17 147.234 Q2100.95 150.151 2100.95 156.077 Z\" fill=\"#000000\" fill-rule=\"evenodd\" fill-opacity=\"1\" /><path clip-path=\"url(#clip910)\" d=\"M 0 0 M2105.41 144.943 L2109.67 144.943 L2109.67 170.869 L2105.41 170.869 L2105.41 144.943 M2105.41 134.85 L2109.67 134.85 L2109.67 140.244 L2105.41 140.244 L2105.41 134.85 Z\" fill=\"#000000\" fill-rule=\"evenodd\" fill-opacity=\"1\" /><path clip-path=\"url(#clip910)\" d=\"M 0 0 M2135.69 155.221 L2135.69 170.869 L2131.43 170.869 L2131.43 155.359 Q2131.43 151.679 2130 149.85 Q2128.56 148.022 2125.69 148.022 Q2122.24 148.022 2120.25 150.221 Q2118.26 152.42 2118.26 156.216 L2118.26 170.869 L2113.98 170.869 L2113.98 144.943 L2118.26 144.943 L2118.26 148.971 Q2119.79 146.633 2121.85 145.475 Q2123.93 144.318 2126.64 144.318 Q2131.11 144.318 2133.4 147.096 Q2135.69 149.85 2135.69 155.221 Z\" fill=\"#000000\" fill-rule=\"evenodd\" fill-opacity=\"1\" /><path clip-path=\"url(#clip910)\" d=\"M 0 0 M2140.16 144.943 L2144.42 144.943 L2144.42 170.869 L2140.16 170.869 L2140.16 144.943 M2140.16 134.85 L2144.42 134.85 L2144.42 140.244 L2140.16 140.244 L2140.16 134.85 Z\" fill=\"#000000\" fill-rule=\"evenodd\" fill-opacity=\"1\" /><path clip-path=\"url(#clip910)\" d=\"M 0 0 M2170.44 155.221 L2170.44 170.869 L2166.18 170.869 L2166.18 155.359 Q2166.18 151.679 2164.74 149.85 Q2163.31 148.022 2160.44 148.022 Q2156.99 148.022 2155 150.221 Q2153.01 152.42 2153.01 156.216 L2153.01 170.869 L2148.72 170.869 L2148.72 144.943 L2153.01 144.943 L2153.01 148.971 Q2154.54 146.633 2156.6 145.475 Q2158.68 144.318 2161.39 144.318 Q2165.85 144.318 2168.15 147.096 Q2170.44 149.85 2170.44 155.221 Z\" fill=\"#000000\" fill-rule=\"evenodd\" fill-opacity=\"1\" /><path clip-path=\"url(#clip910)\" d=\"M 0 0 M2191.97 157.605 Q2191.97 152.975 2190.04 150.429 Q2188.15 147.883 2184.7 147.883 Q2181.27 147.883 2179.35 150.429 Q2177.45 152.975 2177.45 157.605 Q2177.45 162.211 2179.35 164.758 Q2181.27 167.304 2184.7 167.304 Q2188.15 167.304 2190.04 164.758 Q2191.97 162.211 2191.97 157.605 M2196.22 167.651 Q2196.22 174.271 2193.28 177.489 Q2190.35 180.73 2184.28 180.73 Q2182.03 180.73 2180.04 180.382 Q2178.05 180.058 2176.18 179.364 L2176.18 175.22 Q2178.05 176.239 2179.88 176.725 Q2181.71 177.211 2183.61 177.211 Q2187.8 177.211 2189.88 175.012 Q2191.97 172.836 2191.97 168.415 L2191.97 166.308 Q2190.65 168.6 2188.59 169.734 Q2186.53 170.869 2183.66 170.869 Q2178.89 170.869 2175.97 167.234 Q2173.05 163.6 2173.05 157.605 Q2173.05 151.586 2175.97 147.952 Q2178.89 144.318 2183.66 144.318 Q2186.53 144.318 2188.59 145.452 Q2190.65 146.586 2191.97 148.878 L2191.97 144.943 L2196.22 144.943 L2196.22 167.651 Z\" fill=\"#000000\" fill-rule=\"evenodd\" fill-opacity=\"1\" /><polyline clip-path=\"url(#clip910)\" style=\"stroke:#e26f46; stroke-width:4; stroke-opacity:1; fill:none\" points=\"\n",
       "  1867.86,214.069 2010.65,214.069 \n",
       "  \"/>\n",
       "<path clip-path=\"url(#clip910)\" d=\"M 0 0 M2047.64 231.349 L2034.44 196.789 L2039.33 196.789 L2050.28 225.886 L2061.25 196.789 L2066.11 196.789 L2052.94 231.349 L2047.64 231.349 Z\" fill=\"#000000\" fill-rule=\"evenodd\" fill-opacity=\"1\" /><path clip-path=\"url(#clip910)\" d=\"M 0 0 M2078.68 218.316 Q2073.52 218.316 2071.53 219.497 Q2069.54 220.677 2069.54 223.525 Q2069.54 225.793 2071.02 227.136 Q2072.52 228.455 2075.09 228.455 Q2078.63 228.455 2080.76 225.955 Q2082.92 223.432 2082.92 219.265 L2082.92 218.316 L2078.68 218.316 M2087.17 216.557 L2087.17 231.349 L2082.92 231.349 L2082.92 227.413 Q2081.46 229.775 2079.28 230.909 Q2077.1 232.02 2073.96 232.02 Q2069.98 232.02 2067.61 229.798 Q2065.28 227.552 2065.28 223.802 Q2065.28 219.427 2068.19 217.205 Q2071.13 214.983 2076.94 214.983 L2082.92 214.983 L2082.92 214.566 Q2082.92 211.627 2080.97 210.029 Q2079.05 208.409 2075.55 208.409 Q2073.33 208.409 2071.23 208.941 Q2069.12 209.474 2067.17 210.539 L2067.17 206.603 Q2069.51 205.701 2071.71 205.261 Q2073.91 204.798 2075.99 204.798 Q2081.62 204.798 2084.4 207.714 Q2087.17 210.631 2087.17 216.557 Z\" fill=\"#000000\" fill-rule=\"evenodd\" fill-opacity=\"1\" /><path clip-path=\"url(#clip910)\" d=\"M 0 0 M2091.64 195.33 L2095.9 195.33 L2095.9 231.349 L2091.64 231.349 L2091.64 195.33 Z\" fill=\"#000000\" fill-rule=\"evenodd\" fill-opacity=\"1\" /><path clip-path=\"url(#clip910)\" d=\"M 0 0 M2100.37 205.423 L2104.63 205.423 L2104.63 231.349 L2100.37 231.349 L2100.37 205.423 M2100.37 195.33 L2104.63 195.33 L2104.63 200.724 L2100.37 200.724 L2100.37 195.33 Z\" fill=\"#000000\" fill-rule=\"evenodd\" fill-opacity=\"1\" /><path clip-path=\"url(#clip910)\" d=\"M 0 0 M2126.16 209.358 L2126.16 195.33 L2130.41 195.33 L2130.41 231.349 L2126.16 231.349 L2126.16 227.46 Q2124.81 229.775 2122.75 230.909 Q2120.72 232.02 2117.85 232.02 Q2113.15 232.02 2110.18 228.27 Q2107.24 224.52 2107.24 218.409 Q2107.24 212.298 2110.18 208.548 Q2113.15 204.798 2117.85 204.798 Q2120.72 204.798 2122.75 205.932 Q2124.81 207.043 2126.16 209.358 M2111.64 218.409 Q2111.64 223.108 2113.56 225.793 Q2115.51 228.455 2118.89 228.455 Q2122.27 228.455 2124.21 225.793 Q2126.16 223.108 2126.16 218.409 Q2126.16 213.71 2124.21 211.048 Q2122.27 208.363 2118.89 208.363 Q2115.51 208.363 2113.56 211.048 Q2111.64 213.71 2111.64 218.409 Z\" fill=\"#000000\" fill-rule=\"evenodd\" fill-opacity=\"1\" /><path clip-path=\"url(#clip910)\" d=\"M 0 0 M2146.66 218.316 Q2141.5 218.316 2139.51 219.497 Q2137.52 220.677 2137.52 223.525 Q2137.52 225.793 2139 227.136 Q2140.51 228.455 2143.08 228.455 Q2146.62 228.455 2148.75 225.955 Q2150.9 223.432 2150.9 219.265 L2150.9 218.316 L2146.66 218.316 M2155.16 216.557 L2155.16 231.349 L2150.9 231.349 L2150.9 227.413 Q2149.44 229.775 2147.27 230.909 Q2145.09 232.02 2141.94 232.02 Q2137.96 232.02 2135.6 229.798 Q2133.26 227.552 2133.26 223.802 Q2133.26 219.427 2136.18 217.205 Q2139.12 214.983 2144.93 214.983 L2150.9 214.983 L2150.9 214.566 Q2150.9 211.627 2148.96 210.029 Q2147.04 208.409 2143.54 208.409 Q2141.32 208.409 2139.21 208.941 Q2137.1 209.474 2135.16 210.539 L2135.16 206.603 Q2137.5 205.701 2139.7 205.261 Q2141.9 204.798 2143.98 204.798 Q2149.6 204.798 2152.38 207.714 Q2155.16 210.631 2155.16 216.557 Z\" fill=\"#000000\" fill-rule=\"evenodd\" fill-opacity=\"1\" /><path clip-path=\"url(#clip910)\" d=\"M 0 0 M2163.84 198.062 L2163.84 205.423 L2172.61 205.423 L2172.61 208.733 L2163.84 208.733 L2163.84 222.807 Q2163.84 225.978 2164.7 226.881 Q2165.58 227.784 2168.24 227.784 L2172.61 227.784 L2172.61 231.349 L2168.24 231.349 Q2163.31 231.349 2161.43 229.52 Q2159.56 227.668 2159.56 222.807 L2159.56 208.733 L2156.43 208.733 L2156.43 205.423 L2159.56 205.423 L2159.56 198.062 L2163.84 198.062 Z\" fill=\"#000000\" fill-rule=\"evenodd\" fill-opacity=\"1\" /><path clip-path=\"url(#clip910)\" d=\"M 0 0 M2177.08 205.423 L2181.34 205.423 L2181.34 231.349 L2177.08 231.349 L2177.08 205.423 M2177.08 195.33 L2181.34 195.33 L2181.34 200.724 L2177.08 200.724 L2177.08 195.33 Z\" fill=\"#000000\" fill-rule=\"evenodd\" fill-opacity=\"1\" /><path clip-path=\"url(#clip910)\" d=\"M 0 0 M2195.85 208.409 Q2192.43 208.409 2190.44 211.094 Q2188.45 213.756 2188.45 218.409 Q2188.45 223.062 2190.41 225.747 Q2192.41 228.409 2195.85 228.409 Q2199.26 228.409 2201.25 225.724 Q2203.24 223.038 2203.24 218.409 Q2203.24 213.802 2201.25 211.117 Q2199.26 208.409 2195.85 208.409 M2195.85 204.798 Q2201.41 204.798 2204.58 208.409 Q2207.75 212.02 2207.75 218.409 Q2207.75 224.775 2204.58 228.409 Q2201.41 232.02 2195.85 232.02 Q2190.28 232.02 2187.1 228.409 Q2183.96 224.775 2183.96 218.409 Q2183.96 212.02 2187.1 208.409 Q2190.28 204.798 2195.85 204.798 Z\" fill=\"#000000\" fill-rule=\"evenodd\" fill-opacity=\"1\" /><path clip-path=\"url(#clip910)\" d=\"M 0 0 M2233.77 215.701 L2233.77 231.349 L2229.51 231.349 L2229.51 215.839 Q2229.51 212.159 2228.08 210.33 Q2226.64 208.502 2223.77 208.502 Q2220.32 208.502 2218.33 210.701 Q2216.34 212.9 2216.34 216.696 L2216.34 231.349 L2212.06 231.349 L2212.06 205.423 L2216.34 205.423 L2216.34 209.451 Q2217.87 207.113 2219.93 205.955 Q2222.01 204.798 2224.72 204.798 Q2229.19 204.798 2231.48 207.576 Q2233.77 210.33 2233.77 215.701 Z\" fill=\"#000000\" fill-rule=\"evenodd\" fill-opacity=\"1\" /></svg>\n"
      ]
     },
     "execution_count": 65,
     "metadata": {},
     "output_type": "execute_result"
    }
   ],
   "source": [
    "plot(data_schedule, training_losses, label=\"Training\")\n",
    "plot!(data_schedule, valid_losses, label=\"Validation\")\n",
    "xlabel!(\"Size of Training Dataset\")\n",
    "ylabel!(\"Accuracy\")"
   ]
  },
  {
   "cell_type": "code",
   "execution_count": 66,
   "metadata": {},
   "outputs": [],
   "source": [
    "fn = \"Figures/Dataset_size_Boost_nestimators:$(best_n)_lr:$(best_lr)_loss:$(best_loss)\"\n",
    "png(replace(fn,'.' => ','))"
   ]
  },
  {
   "cell_type": "markdown",
   "metadata": {},
   "source": [
    "# Final Results"
   ]
  },
  {
   "cell_type": "code",
   "execution_count": 67,
   "metadata": {},
   "outputs": [
    {
     "data": {
      "text/plain": [
       "AdaBoostClassifier(\n",
       "    base_estimator = nothing,\n",
       "    n_estimators = 5,\n",
       "    learning_rate = 0.16681005372000587,\n",
       "    algorithm = \"SAMME.R\",\n",
       "    random_state = nothing)\u001b[34m @456\u001b[39m"
      ]
     },
     "execution_count": 67,
     "metadata": {},
     "output_type": "execute_result"
    }
   ],
   "source": [
    "final_boost_model = best.best_model"
   ]
  },
  {
   "cell_type": "code",
   "execution_count": 68,
   "metadata": {},
   "outputs": [
    {
     "name": "stderr",
     "output_type": "stream",
     "text": [
      "┌ Warning: The scitype of `X`, in `machine(model, X, ...)` is incompatible with `model=\u001b[34mAdaBoostClassifier @456\u001b[39m`:\n",
      "│ scitype(X) = Table{Union{AbstractArray{Continuous,1}, AbstractArray{Count,1}}}\n",
      "│ input_scitype(model) = Table{var\"#s44\"} where var\"#s44\"<:(AbstractArray{var\"#s13\",1} where var\"#s13\"<:Continuous).\n",
      "└ @ MLJBase /home/andrew/.julia/packages/MLJBase/uKzAz/src/machines.jl:77\n"
     ]
    },
    {
     "data": {
      "text/plain": [
       "\u001b[34mMachine{AdaBoostClassifier} @108\u001b[39m trained 0 times.\n",
       "  args: \n",
       "    1:\t\u001b[34mSource @250\u001b[39m ⏎ `Table{Union{AbstractArray{Continuous,1}, AbstractArray{Count,1}}}`\n",
       "    2:\t\u001b[34mSource @663\u001b[39m ⏎ `AbstractArray{Multiclass{2},1}`\n"
      ]
     },
     "execution_count": 68,
     "metadata": {},
     "output_type": "execute_result"
    }
   ],
   "source": [
    "Final_Boost = machine(final_boost_model, X_stand, y)"
   ]
  },
  {
   "cell_type": "code",
   "execution_count": 69,
   "metadata": {},
   "outputs": [
    {
     "name": "stderr",
     "output_type": "stream",
     "text": [
      "┌ Info: Training \u001b[34mMachine{AdaBoostClassifier} @108\u001b[39m.\n",
      "└ @ MLJBase /home/andrew/.julia/packages/MLJBase/uKzAz/src/machines.jl:319\n"
     ]
    },
    {
     "data": {
      "text/plain": [
       "\u001b[34mMachine{AdaBoostClassifier} @108\u001b[39m trained 1 time.\n",
       "  args: \n",
       "    1:\t\u001b[34mSource @250\u001b[39m ⏎ `Table{Union{AbstractArray{Continuous,1}, AbstractArray{Count,1}}}`\n",
       "    2:\t\u001b[34mSource @663\u001b[39m ⏎ `AbstractArray{Multiclass{2},1}`\n"
      ]
     },
     "execution_count": 69,
     "metadata": {},
     "output_type": "execute_result"
    }
   ],
   "source": [
    "fit!(Final_Boost, rows=train, verbosity=2)"
   ]
  },
  {
   "cell_type": "code",
   "execution_count": 70,
   "metadata": {},
   "outputs": [],
   "source": [
    "ŷ2 = MLJ.predict(Final_Boost, X_stand[test,:]);"
   ]
  },
  {
   "cell_type": "code",
   "execution_count": 71,
   "metadata": {},
   "outputs": [
    {
     "data": {
      "text/plain": [
       "0.527541406686384"
      ]
     },
     "execution_count": 71,
     "metadata": {},
     "output_type": "execute_result"
    }
   ],
   "source": [
    "cross_entropy(ŷ2, y[test]) |> mean"
   ]
  },
  {
   "cell_type": "code",
   "execution_count": 72,
   "metadata": {},
   "outputs": [
    {
     "data": {
      "text/plain": [
       "0.7350157728706624"
      ]
     },
     "execution_count": 72,
     "metadata": {},
     "output_type": "execute_result"
    }
   ],
   "source": [
    "acc(ŷ2, y[test])"
   ]
  },
  {
   "cell_type": "code",
   "execution_count": 73,
   "metadata": {},
   "outputs": [
    {
     "name": "stderr",
     "output_type": "stream",
     "text": [
      "┌ Warning: The classes are un-ordered,\n",
      "│ using: negative='NRB' and positive='RB'.\n",
      "│ To suppress this warning, consider coercing to OrderedFactor.\n",
      "└ @ MLJBase /home/andrew/.julia/packages/MLJBase/uKzAz/src/measures/confusion_matrix.jl:83\n"
     ]
    },
    {
     "data": {
      "text/plain": [
       "              ┌───────────────────────────┐\n",
       "              │       Ground Truth        │\n",
       "┌─────────────┼─────────────┬─────────────┤\n",
       "│  Predicted  │     NRB     │     RB      │\n",
       "├─────────────┼─────────────┼─────────────┤\n",
       "│     NRB     │     166     │     40      │\n",
       "├─────────────┼─────────────┼─────────────┤\n",
       "│     RB      │     44      │     67      │\n",
       "└─────────────┴─────────────┴─────────────┘\n"
      ]
     },
     "execution_count": 73,
     "metadata": {},
     "output_type": "execute_result"
    }
   ],
   "source": [
    "confusion_matrix(mode.(ŷ2), y[test])"
   ]
  },
  {
   "cell_type": "code",
   "execution_count": null,
   "metadata": {},
   "outputs": [],
   "source": []
  }
 ],
 "metadata": {
  "kernelspec": {
   "display_name": "Julia 1.5.0",
   "language": "julia",
   "name": "julia-1.5"
  },
  "language_info": {
   "file_extension": ".jl",
   "mimetype": "application/julia",
   "name": "julia",
   "version": "1.5.0"
  }
 },
 "nbformat": 4,
 "nbformat_minor": 4
}
