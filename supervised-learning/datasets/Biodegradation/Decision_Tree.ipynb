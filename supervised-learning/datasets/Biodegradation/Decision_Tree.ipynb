{
 "cells": [
  {
   "cell_type": "markdown",
   "metadata": {},
   "source": [
    "# Imports"
   ]
  },
  {
   "cell_type": "code",
   "execution_count": 1,
   "metadata": {},
   "outputs": [
    {
     "data": {
      "text/plain": [
       "123"
      ]
     },
     "execution_count": 1,
     "metadata": {},
     "output_type": "execute_result"
    }
   ],
   "source": [
    "using DataFrames\n",
    "using CSV\n",
    "using MLJ\n",
    "using DecisionTree: print_tree\n",
    "using Plots\n",
    "using StatsBase\n",
    "\n",
    "include(\"../../lib.jl\")\n",
    "\n",
    "ENV[\"LINES\"]=30;\n",
    "random = 123"
   ]
  },
  {
   "cell_type": "code",
   "execution_count": 2,
   "metadata": {},
   "outputs": [
    {
     "ename": "LoadError",
     "evalue": "IOError: mkdir: file already exists (EEXIST)",
     "output_type": "error",
     "traceback": [
      "IOError: mkdir: file already exists (EEXIST)",
      "",
      "Stacktrace:",
      " [1] uv_error at ./libuv.jl:97 [inlined]",
      " [2] mkdir(::String; mode::UInt16) at ./file.jl:177",
      " [3] mkdir(::String) at ./file.jl:170",
      " [4] top-level scope at In[2]:1",
      " [5] include_string(::Function, ::Module, ::String, ::String) at ./loading.jl:1091"
     ]
    }
   ],
   "source": [
    "mkdir(\"Figures/\")"
   ]
  },
  {
   "cell_type": "markdown",
   "metadata": {},
   "source": [
    "# Data"
   ]
  },
  {
   "cell_type": "code",
   "execution_count": 3,
   "metadata": {
    "scrolled": true
   },
   "outputs": [
    {
     "data": {
      "text/html": [
       "<table class=\"data-frame\"><thead><tr><th></th><th>1</th><th>2</th><th>3</th><th>4</th><th>5</th><th>6</th><th>7</th><th>8</th><th>9</th><th>10</th><th>11</th></tr><tr><th></th><th>Float64</th><th>Float64</th><th>Int64</th><th>Int64</th><th>Int64</th><th>Int64</th><th>Int64</th><th>Float64</th><th>Int64</th><th>Int64</th><th>Int64</th></tr></thead><tbody><p>1,055 rows × 42 columns (omitted printing of 31 columns)</p><tr><th>1</th><td>3.919</td><td>2.6909</td><td>0</td><td>0</td><td>0</td><td>0</td><td>0</td><td>31.4</td><td>2</td><td>0</td><td>0</td></tr><tr><th>2</th><td>4.17</td><td>2.1144</td><td>0</td><td>0</td><td>0</td><td>0</td><td>0</td><td>30.8</td><td>1</td><td>1</td><td>0</td></tr><tr><th>3</th><td>3.932</td><td>3.2512</td><td>0</td><td>0</td><td>0</td><td>0</td><td>0</td><td>26.7</td><td>2</td><td>4</td><td>0</td></tr><tr><th>4</th><td>3.0</td><td>2.7098</td><td>0</td><td>0</td><td>0</td><td>0</td><td>0</td><td>20.0</td><td>0</td><td>2</td><td>0</td></tr><tr><th>5</th><td>4.236</td><td>3.3944</td><td>0</td><td>0</td><td>0</td><td>0</td><td>0</td><td>29.4</td><td>2</td><td>4</td><td>0</td></tr><tr><th>6</th><td>4.236</td><td>3.4286</td><td>0</td><td>0</td><td>0</td><td>0</td><td>0</td><td>28.6</td><td>2</td><td>4</td><td>0</td></tr><tr><th>7</th><td>5.0</td><td>5.0476</td><td>1</td><td>0</td><td>0</td><td>0</td><td>0</td><td>11.1</td><td>0</td><td>3</td><td>0</td></tr><tr><th>8</th><td>4.525</td><td>3.8301</td><td>0</td><td>0</td><td>0</td><td>0</td><td>0</td><td>31.6</td><td>3</td><td>2</td><td>0</td></tr><tr><th>9</th><td>4.596</td><td>3.0777</td><td>0</td><td>0</td><td>0</td><td>0</td><td>2</td><td>44.4</td><td>2</td><td>0</td><td>0</td></tr><tr><th>10</th><td>5.04</td><td>3.6112</td><td>0</td><td>0</td><td>1</td><td>0</td><td>2</td><td>41.2</td><td>0</td><td>4</td><td>3</td></tr><tr><th>11</th><td>4.91</td><td>2.7414</td><td>0</td><td>0</td><td>0</td><td>0</td><td>2</td><td>52.9</td><td>0</td><td>2</td><td>0</td></tr><tr><th>12</th><td>3.618</td><td>2.1906</td><td>0</td><td>0</td><td>0</td><td>0</td><td>0</td><td>29.4</td><td>2</td><td>0</td><td>0</td></tr><tr><th>13</th><td>4.214</td><td>2.6272</td><td>0</td><td>0</td><td>0</td><td>0</td><td>0</td><td>30.0</td><td>3</td><td>0</td><td>0</td></tr><tr><th>14</th><td>3.732</td><td>2.3391</td><td>0</td><td>0</td><td>0</td><td>0</td><td>0</td><td>30.0</td><td>2</td><td>0</td><td>0</td></tr><tr><th>15</th><td>3.879</td><td>2.5951</td><td>0</td><td>0</td><td>0</td><td>0</td><td>0</td><td>31.0</td><td>2</td><td>0</td><td>0</td></tr><tr><th>16</th><td>3.942</td><td>2.7719</td><td>1</td><td>0</td><td>0</td><td>0</td><td>0</td><td>31.6</td><td>2</td><td>0</td><td>0</td></tr><tr><th>17</th><td>3.966</td><td>2.852</td><td>1</td><td>0</td><td>0</td><td>0</td><td>0</td><td>32.0</td><td>2</td><td>0</td><td>0</td></tr><tr><th>18</th><td>3.732</td><td>2.3761</td><td>0</td><td>0</td><td>1</td><td>0</td><td>0</td><td>26.3</td><td>2</td><td>0</td><td>1</td></tr><tr><th>19</th><td>4.0</td><td>2.6264</td><td>0</td><td>0</td><td>0</td><td>0</td><td>0</td><td>23.1</td><td>0</td><td>0</td><td>0</td></tr><tr><th>20</th><td>2.0</td><td>1.1521</td><td>0</td><td>0</td><td>0</td><td>0</td><td>0</td><td>16.7</td><td>1</td><td>1</td><td>0</td></tr><tr><th>21</th><td>3.732</td><td>2.4062</td><td>0</td><td>0</td><td>0</td><td>0</td><td>0</td><td>27.8</td><td>2</td><td>1</td><td>0</td></tr><tr><th>22</th><td>4.0</td><td>2.3699</td><td>0</td><td>0</td><td>0</td><td>0</td><td>0</td><td>30.0</td><td>1</td><td>1</td><td>0</td></tr><tr><th>23</th><td>3.414</td><td>2.2525</td><td>0</td><td>0</td><td>0</td><td>0</td><td>0</td><td>20.0</td><td>2</td><td>2</td><td>0</td></tr><tr><th>24</th><td>4.17</td><td>2.8042</td><td>0</td><td>0</td><td>0</td><td>0</td><td>0</td><td>23.1</td><td>2</td><td>2</td><td>0</td></tr><tr><th>25</th><td>4.303</td><td>2.9558</td><td>0</td><td>0</td><td>0</td><td>0</td><td>0</td><td>25.0</td><td>2</td><td>2</td><td>0</td></tr><tr><th>26</th><td>3.414</td><td>2.6294</td><td>0</td><td>0</td><td>0</td><td>0</td><td>0</td><td>37.5</td><td>1</td><td>1</td><td>0</td></tr><tr><th>27</th><td>4.214</td><td>3.0057</td><td>0</td><td>0</td><td>0</td><td>0</td><td>0</td><td>25.0</td><td>1</td><td>2</td><td>0</td></tr><tr><th>28</th><td>3.848</td><td>2.8521</td><td>0</td><td>0</td><td>0</td><td>0</td><td>0</td><td>27.3</td><td>2</td><td>2</td><td>0</td></tr><tr><th>29</th><td>3.414</td><td>2.3729</td><td>0</td><td>0</td><td>0</td><td>0</td><td>0</td><td>30.0</td><td>1</td><td>1</td><td>0</td></tr><tr><th>30</th><td>4.393</td><td>3.6458</td><td>0</td><td>0</td><td>0</td><td>0</td><td>0</td><td>37.0</td><td>3</td><td>1</td><td>0</td></tr><tr><th>&vellip;</th><td>&vellip;</td><td>&vellip;</td><td>&vellip;</td><td>&vellip;</td><td>&vellip;</td><td>&vellip;</td><td>&vellip;</td><td>&vellip;</td><td>&vellip;</td><td>&vellip;</td><td>&vellip;</td></tr></tbody></table>"
      ],
      "text/latex": [
       "\\begin{tabular}{r|cccccccccccc}\n",
       "\t& 1 & 2 & 3 & 4 & 5 & 6 & 7 & 8 & 9 & 10 & 11 & \\\\\n",
       "\t\\hline\n",
       "\t& Float64 & Float64 & Int64 & Int64 & Int64 & Int64 & Int64 & Float64 & Int64 & Int64 & Int64 & \\\\\n",
       "\t\\hline\n",
       "\t1 & 3.919 & 2.6909 & 0 & 0 & 0 & 0 & 0 & 31.4 & 2 & 0 & 0 & $\\dots$ \\\\\n",
       "\t2 & 4.17 & 2.1144 & 0 & 0 & 0 & 0 & 0 & 30.8 & 1 & 1 & 0 & $\\dots$ \\\\\n",
       "\t3 & 3.932 & 3.2512 & 0 & 0 & 0 & 0 & 0 & 26.7 & 2 & 4 & 0 & $\\dots$ \\\\\n",
       "\t4 & 3.0 & 2.7098 & 0 & 0 & 0 & 0 & 0 & 20.0 & 0 & 2 & 0 & $\\dots$ \\\\\n",
       "\t5 & 4.236 & 3.3944 & 0 & 0 & 0 & 0 & 0 & 29.4 & 2 & 4 & 0 & $\\dots$ \\\\\n",
       "\t6 & 4.236 & 3.4286 & 0 & 0 & 0 & 0 & 0 & 28.6 & 2 & 4 & 0 & $\\dots$ \\\\\n",
       "\t7 & 5.0 & 5.0476 & 1 & 0 & 0 & 0 & 0 & 11.1 & 0 & 3 & 0 & $\\dots$ \\\\\n",
       "\t8 & 4.525 & 3.8301 & 0 & 0 & 0 & 0 & 0 & 31.6 & 3 & 2 & 0 & $\\dots$ \\\\\n",
       "\t9 & 4.596 & 3.0777 & 0 & 0 & 0 & 0 & 2 & 44.4 & 2 & 0 & 0 & $\\dots$ \\\\\n",
       "\t10 & 5.04 & 3.6112 & 0 & 0 & 1 & 0 & 2 & 41.2 & 0 & 4 & 3 & $\\dots$ \\\\\n",
       "\t11 & 4.91 & 2.7414 & 0 & 0 & 0 & 0 & 2 & 52.9 & 0 & 2 & 0 & $\\dots$ \\\\\n",
       "\t12 & 3.618 & 2.1906 & 0 & 0 & 0 & 0 & 0 & 29.4 & 2 & 0 & 0 & $\\dots$ \\\\\n",
       "\t13 & 4.214 & 2.6272 & 0 & 0 & 0 & 0 & 0 & 30.0 & 3 & 0 & 0 & $\\dots$ \\\\\n",
       "\t14 & 3.732 & 2.3391 & 0 & 0 & 0 & 0 & 0 & 30.0 & 2 & 0 & 0 & $\\dots$ \\\\\n",
       "\t15 & 3.879 & 2.5951 & 0 & 0 & 0 & 0 & 0 & 31.0 & 2 & 0 & 0 & $\\dots$ \\\\\n",
       "\t16 & 3.942 & 2.7719 & 1 & 0 & 0 & 0 & 0 & 31.6 & 2 & 0 & 0 & $\\dots$ \\\\\n",
       "\t17 & 3.966 & 2.852 & 1 & 0 & 0 & 0 & 0 & 32.0 & 2 & 0 & 0 & $\\dots$ \\\\\n",
       "\t18 & 3.732 & 2.3761 & 0 & 0 & 1 & 0 & 0 & 26.3 & 2 & 0 & 1 & $\\dots$ \\\\\n",
       "\t19 & 4.0 & 2.6264 & 0 & 0 & 0 & 0 & 0 & 23.1 & 0 & 0 & 0 & $\\dots$ \\\\\n",
       "\t20 & 2.0 & 1.1521 & 0 & 0 & 0 & 0 & 0 & 16.7 & 1 & 1 & 0 & $\\dots$ \\\\\n",
       "\t21 & 3.732 & 2.4062 & 0 & 0 & 0 & 0 & 0 & 27.8 & 2 & 1 & 0 & $\\dots$ \\\\\n",
       "\t22 & 4.0 & 2.3699 & 0 & 0 & 0 & 0 & 0 & 30.0 & 1 & 1 & 0 & $\\dots$ \\\\\n",
       "\t23 & 3.414 & 2.2525 & 0 & 0 & 0 & 0 & 0 & 20.0 & 2 & 2 & 0 & $\\dots$ \\\\\n",
       "\t24 & 4.17 & 2.8042 & 0 & 0 & 0 & 0 & 0 & 23.1 & 2 & 2 & 0 & $\\dots$ \\\\\n",
       "\t25 & 4.303 & 2.9558 & 0 & 0 & 0 & 0 & 0 & 25.0 & 2 & 2 & 0 & $\\dots$ \\\\\n",
       "\t26 & 3.414 & 2.6294 & 0 & 0 & 0 & 0 & 0 & 37.5 & 1 & 1 & 0 & $\\dots$ \\\\\n",
       "\t27 & 4.214 & 3.0057 & 0 & 0 & 0 & 0 & 0 & 25.0 & 1 & 2 & 0 & $\\dots$ \\\\\n",
       "\t28 & 3.848 & 2.8521 & 0 & 0 & 0 & 0 & 0 & 27.3 & 2 & 2 & 0 & $\\dots$ \\\\\n",
       "\t29 & 3.414 & 2.3729 & 0 & 0 & 0 & 0 & 0 & 30.0 & 1 & 1 & 0 & $\\dots$ \\\\\n",
       "\t30 & 4.393 & 3.6458 & 0 & 0 & 0 & 0 & 0 & 37.0 & 3 & 1 & 0 & $\\dots$ \\\\\n",
       "\t$\\dots$ & $\\dots$ & $\\dots$ & $\\dots$ & $\\dots$ & $\\dots$ & $\\dots$ & $\\dots$ & $\\dots$ & $\\dots$ & $\\dots$ & $\\dots$ &  \\\\\n",
       "\\end{tabular}\n"
      ],
      "text/plain": [
       "1055×42 DataFrame. Omitted printing of 34 columns\n",
       "│ Row  │ 1       │ 2       │ 3     │ 4     │ 5     │ 6     │ 7     │ 8       │\n",
       "│      │ \u001b[90mFloat64\u001b[39m │ \u001b[90mFloat64\u001b[39m │ \u001b[90mInt64\u001b[39m │ \u001b[90mInt64\u001b[39m │ \u001b[90mInt64\u001b[39m │ \u001b[90mInt64\u001b[39m │ \u001b[90mInt64\u001b[39m │ \u001b[90mFloat64\u001b[39m │\n",
       "├──────┼─────────┼─────────┼───────┼───────┼───────┼───────┼───────┼─────────┤\n",
       "│ 1    │ 3.919   │ 2.6909  │ 0     │ 0     │ 0     │ 0     │ 0     │ 31.4    │\n",
       "│ 2    │ 4.17    │ 2.1144  │ 0     │ 0     │ 0     │ 0     │ 0     │ 30.8    │\n",
       "│ 3    │ 3.932   │ 3.2512  │ 0     │ 0     │ 0     │ 0     │ 0     │ 26.7    │\n",
       "│ 4    │ 3.0     │ 2.7098  │ 0     │ 0     │ 0     │ 0     │ 0     │ 20.0    │\n",
       "│ 5    │ 4.236   │ 3.3944  │ 0     │ 0     │ 0     │ 0     │ 0     │ 29.4    │\n",
       "│ 6    │ 4.236   │ 3.4286  │ 0     │ 0     │ 0     │ 0     │ 0     │ 28.6    │\n",
       "│ 7    │ 5.0     │ 5.0476  │ 1     │ 0     │ 0     │ 0     │ 0     │ 11.1    │\n",
       "│ 8    │ 4.525   │ 3.8301  │ 0     │ 0     │ 0     │ 0     │ 0     │ 31.6    │\n",
       "│ 9    │ 4.596   │ 3.0777  │ 0     │ 0     │ 0     │ 0     │ 2     │ 44.4    │\n",
       "│ 10   │ 5.04    │ 3.6112  │ 0     │ 0     │ 1     │ 0     │ 2     │ 41.2    │\n",
       "⋮\n",
       "│ 1045 │ 4.807   │ 3.3179  │ 1     │ 0     │ 0     │ 0     │ 3     │ 43.8    │\n",
       "│ 1046 │ 4.607   │ 3.0008  │ 1     │ 0     │ 0     │ 0     │ 2     │ 41.2    │\n",
       "│ 1047 │ 5.313   │ 2.7782  │ 0     │ 0     │ 0     │ 1     │ 2     │ 40.0    │\n",
       "│ 1048 │ 5.103   │ 3.9184  │ 0     │ 0     │ 4     │ 0     │ 4     │ 35.0    │\n",
       "│ 1049 │ 5.265   │ 3.3444  │ 2     │ 0     │ 6     │ 0     │ 1     │ 35.3    │\n",
       "│ 1050 │ 5.029   │ 2.5966  │ 0     │ 0     │ 0     │ 0     │ 4     │ 46.7    │\n",
       "│ 1051 │ 5.431   │ 2.8955  │ 0     │ 0     │ 0     │ 2     │ 0     │ 32.1    │\n",
       "│ 1052 │ 5.287   │ 3.3732  │ 0     │ 0     │ 9     │ 0     │ 0     │ 35.3    │\n",
       "│ 1053 │ 4.869   │ 1.767   │ 0     │ 1     │ 9     │ 0     │ 5     │ 44.4    │\n",
       "│ 1054 │ 5.158   │ 1.6914  │ 2     │ 0     │ 36    │ 0     │ 9     │ 56.1    │\n",
       "│ 1055 │ 5.076   │ 2.6588  │ 2     │ 0     │ 0     │ 0     │ 4     │ 54.5    │"
      ]
     },
     "execution_count": 3,
     "metadata": {},
     "output_type": "execute_result"
    }
   ],
   "source": [
    "data = CSV.read(\"data.csv\")"
   ]
  },
  {
   "cell_type": "markdown",
   "metadata": {},
   "source": [
    "Look at class labels to see if dataset is imbalanced"
   ]
  },
  {
   "cell_type": "code",
   "execution_count": 4,
   "metadata": {},
   "outputs": [
    {
     "data": {
      "text/plain": [
       "Dict{String,Int64} with 2 entries:\n",
       "  \"RB\"  => 356\n",
       "  \"NRB\" => 699"
      ]
     },
     "execution_count": 4,
     "metadata": {},
     "output_type": "execute_result"
    }
   ],
   "source": [
    "label_counts = countmap(data[:(Class)])"
   ]
  },
  {
   "cell_type": "code",
   "execution_count": 5,
   "metadata": {},
   "outputs": [
    {
     "data": {
      "text/plain": [
       "2-element Array{Float64,1}:\n",
       " 0.33744075829383885\n",
       " 0.6625592417061611"
      ]
     },
     "execution_count": 5,
     "metadata": {},
     "output_type": "execute_result"
    }
   ],
   "source": [
    "collect(label_counts[i] / size(data)[1] for i in keys(label_counts))"
   ]
  },
  {
   "cell_type": "markdown",
   "metadata": {},
   "source": [
    "Get data ready for training"
   ]
  },
  {
   "cell_type": "code",
   "execution_count": 6,
   "metadata": {
    "scrolled": true
   },
   "outputs": [
    {
     "data": {
      "text/plain": [
       "┌\u001b[0m─────────\u001b[0m┬\u001b[0m─────────\u001b[0m┬\u001b[0m────────────\u001b[0m┐\u001b[0m\n",
       "│\u001b[0m\u001b[22m _.names \u001b[0m│\u001b[0m\u001b[22m _.types \u001b[0m│\u001b[0m\u001b[22m _.scitypes \u001b[0m│\u001b[0m\n",
       "├\u001b[0m─────────\u001b[0m┼\u001b[0m─────────\u001b[0m┼\u001b[0m────────────\u001b[0m┤\u001b[0m\n",
       "│\u001b[0m 1       \u001b[0m│\u001b[0m Float64 \u001b[0m│\u001b[0m Continuous \u001b[0m│\u001b[0m\n",
       "│\u001b[0m 2       \u001b[0m│\u001b[0m Float64 \u001b[0m│\u001b[0m Continuous \u001b[0m│\u001b[0m\n",
       "│\u001b[0m 3       \u001b[0m│\u001b[0m Int64   \u001b[0m│\u001b[0m Count      \u001b[0m│\u001b[0m\n",
       "│\u001b[0m 4       \u001b[0m│\u001b[0m Int64   \u001b[0m│\u001b[0m Count      \u001b[0m│\u001b[0m\n",
       "│\u001b[0m 5       \u001b[0m│\u001b[0m Int64   \u001b[0m│\u001b[0m Count      \u001b[0m│\u001b[0m\n",
       "│\u001b[0m 6       \u001b[0m│\u001b[0m Int64   \u001b[0m│\u001b[0m Count      \u001b[0m│\u001b[0m\n",
       "│\u001b[0m 7       \u001b[0m│\u001b[0m Int64   \u001b[0m│\u001b[0m Count      \u001b[0m│\u001b[0m\n",
       "│\u001b[0m 8       \u001b[0m│\u001b[0m Float64 \u001b[0m│\u001b[0m Continuous \u001b[0m│\u001b[0m\n",
       "│\u001b[0m 9       \u001b[0m│\u001b[0m Int64   \u001b[0m│\u001b[0m Count      \u001b[0m│\u001b[0m\n",
       "│\u001b[0m 10      \u001b[0m│\u001b[0m Int64   \u001b[0m│\u001b[0m Count      \u001b[0m│\u001b[0m\n",
       "│\u001b[0m 11      \u001b[0m│\u001b[0m Int64   \u001b[0m│\u001b[0m Count      \u001b[0m│\u001b[0m\n",
       "│\u001b[0m 12      \u001b[0m│\u001b[0m Float64 \u001b[0m│\u001b[0m Continuous \u001b[0m│\u001b[0m\n",
       "│\u001b[0m 13      \u001b[0m│\u001b[0m Float64 \u001b[0m│\u001b[0m Continuous \u001b[0m│\u001b[0m\n",
       "│\u001b[0m 14      \u001b[0m│\u001b[0m Float64 \u001b[0m│\u001b[0m Continuous \u001b[0m│\u001b[0m\n",
       "│\u001b[0m 15      \u001b[0m│\u001b[0m Float64 \u001b[0m│\u001b[0m Continuous \u001b[0m│\u001b[0m\n",
       "│\u001b[0m 16      \u001b[0m│\u001b[0m Int64   \u001b[0m│\u001b[0m Count      \u001b[0m│\u001b[0m\n",
       "│\u001b[0m 17      \u001b[0m│\u001b[0m Float64 \u001b[0m│\u001b[0m Continuous \u001b[0m│\u001b[0m\n",
       "│\u001b[0m 18      \u001b[0m│\u001b[0m Float64 \u001b[0m│\u001b[0m Continuous \u001b[0m│\u001b[0m\n",
       "│\u001b[0m 19      \u001b[0m│\u001b[0m Int64   \u001b[0m│\u001b[0m Count      \u001b[0m│\u001b[0m\n",
       "│\u001b[0m 20      \u001b[0m│\u001b[0m Int64   \u001b[0m│\u001b[0m Count      \u001b[0m│\u001b[0m\n",
       "│\u001b[0m 21      \u001b[0m│\u001b[0m Int64   \u001b[0m│\u001b[0m Count      \u001b[0m│\u001b[0m\n",
       "│\u001b[0m 22      \u001b[0m│\u001b[0m Float64 \u001b[0m│\u001b[0m Continuous \u001b[0m│\u001b[0m\n",
       "│\u001b[0m 23      \u001b[0m│\u001b[0m Int64   \u001b[0m│\u001b[0m Count      \u001b[0m│\u001b[0m\n",
       "│\u001b[0m 24      \u001b[0m│\u001b[0m Int64   \u001b[0m│\u001b[0m Count      \u001b[0m│\u001b[0m\n",
       "│\u001b[0m 25      \u001b[0m│\u001b[0m Int64   \u001b[0m│\u001b[0m Count      \u001b[0m│\u001b[0m\n",
       "│\u001b[0m 26      \u001b[0m│\u001b[0m Int64   \u001b[0m│\u001b[0m Count      \u001b[0m│\u001b[0m\n",
       "│\u001b[0m 27      \u001b[0m│\u001b[0m Float64 \u001b[0m│\u001b[0m Continuous \u001b[0m│\u001b[0m\n",
       "│\u001b[0m 28      \u001b[0m│\u001b[0m Float64 \u001b[0m│\u001b[0m Continuous \u001b[0m│\u001b[0m\n",
       "│\u001b[0m 29      \u001b[0m│\u001b[0m Int64   \u001b[0m│\u001b[0m Count      \u001b[0m│\u001b[0m\n",
       "│\u001b[0m 30      \u001b[0m│\u001b[0m Float64 \u001b[0m│\u001b[0m Continuous \u001b[0m│\u001b[0m\n",
       "│\u001b[0m 31      \u001b[0m│\u001b[0m Float64 \u001b[0m│\u001b[0m Continuous \u001b[0m│\u001b[0m\n",
       "│\u001b[0m 32      \u001b[0m│\u001b[0m Int64   \u001b[0m│\u001b[0m Count      \u001b[0m│\u001b[0m\n",
       "│\u001b[0m 33      \u001b[0m│\u001b[0m Int64   \u001b[0m│\u001b[0m Count      \u001b[0m│\u001b[0m\n",
       "│\u001b[0m 34      \u001b[0m│\u001b[0m Int64   \u001b[0m│\u001b[0m Count      \u001b[0m│\u001b[0m\n",
       "│\u001b[0m 35      \u001b[0m│\u001b[0m Int64   \u001b[0m│\u001b[0m Count      \u001b[0m│\u001b[0m\n",
       "│\u001b[0m 36      \u001b[0m│\u001b[0m Float64 \u001b[0m│\u001b[0m Continuous \u001b[0m│\u001b[0m\n",
       "│\u001b[0m 37      \u001b[0m│\u001b[0m Float64 \u001b[0m│\u001b[0m Continuous \u001b[0m│\u001b[0m\n",
       "│\u001b[0m 38      \u001b[0m│\u001b[0m Int64   \u001b[0m│\u001b[0m Count      \u001b[0m│\u001b[0m\n",
       "│\u001b[0m 39      \u001b[0m│\u001b[0m Float64 \u001b[0m│\u001b[0m Continuous \u001b[0m│\u001b[0m\n",
       "│\u001b[0m 40      \u001b[0m│\u001b[0m Int64   \u001b[0m│\u001b[0m Count      \u001b[0m│\u001b[0m\n",
       "│\u001b[0m 41      \u001b[0m│\u001b[0m Int64   \u001b[0m│\u001b[0m Count      \u001b[0m│\u001b[0m\n",
       "│\u001b[0m Class   \u001b[0m│\u001b[0m String  \u001b[0m│\u001b[0m Textual    \u001b[0m│\u001b[0m\n",
       "└\u001b[0m─────────\u001b[0m┴\u001b[0m─────────\u001b[0m┴\u001b[0m────────────\u001b[0m┘\u001b[0m\n",
       "_.nrows = 1055\n"
      ]
     },
     "execution_count": 6,
     "metadata": {},
     "output_type": "execute_result"
    }
   ],
   "source": [
    "schema(data)"
   ]
  },
  {
   "cell_type": "code",
   "execution_count": 7,
   "metadata": {
    "scrolled": true
   },
   "outputs": [
    {
     "data": {
      "text/plain": [
       "┌\u001b[0m─────────\u001b[0m┬\u001b[0m─────────────────────────────────\u001b[0m┬\u001b[0m───────────────\u001b[0m┐\u001b[0m\n",
       "│\u001b[0m\u001b[22m _.names \u001b[0m│\u001b[0m\u001b[22m _.types                         \u001b[0m│\u001b[0m\u001b[22m _.scitypes    \u001b[0m│\u001b[0m\n",
       "├\u001b[0m─────────\u001b[0m┼\u001b[0m─────────────────────────────────\u001b[0m┼\u001b[0m───────────────\u001b[0m┤\u001b[0m\n",
       "│\u001b[0m 1       \u001b[0m│\u001b[0m Float64                         \u001b[0m│\u001b[0m Continuous    \u001b[0m│\u001b[0m\n",
       "│\u001b[0m 2       \u001b[0m│\u001b[0m Float64                         \u001b[0m│\u001b[0m Continuous    \u001b[0m│\u001b[0m\n",
       "│\u001b[0m 3       \u001b[0m│\u001b[0m Int64                           \u001b[0m│\u001b[0m Count         \u001b[0m│\u001b[0m\n",
       "│\u001b[0m 4       \u001b[0m│\u001b[0m Int64                           \u001b[0m│\u001b[0m Count         \u001b[0m│\u001b[0m\n",
       "│\u001b[0m 5       \u001b[0m│\u001b[0m Int64                           \u001b[0m│\u001b[0m Count         \u001b[0m│\u001b[0m\n",
       "│\u001b[0m 6       \u001b[0m│\u001b[0m Int64                           \u001b[0m│\u001b[0m Count         \u001b[0m│\u001b[0m\n",
       "│\u001b[0m 7       \u001b[0m│\u001b[0m Int64                           \u001b[0m│\u001b[0m Count         \u001b[0m│\u001b[0m\n",
       "│\u001b[0m 8       \u001b[0m│\u001b[0m Float64                         \u001b[0m│\u001b[0m Continuous    \u001b[0m│\u001b[0m\n",
       "│\u001b[0m 9       \u001b[0m│\u001b[0m Int64                           \u001b[0m│\u001b[0m Count         \u001b[0m│\u001b[0m\n",
       "│\u001b[0m 10      \u001b[0m│\u001b[0m Int64                           \u001b[0m│\u001b[0m Count         \u001b[0m│\u001b[0m\n",
       "│\u001b[0m 11      \u001b[0m│\u001b[0m Int64                           \u001b[0m│\u001b[0m Count         \u001b[0m│\u001b[0m\n",
       "│\u001b[0m 12      \u001b[0m│\u001b[0m Float64                         \u001b[0m│\u001b[0m Continuous    \u001b[0m│\u001b[0m\n",
       "│\u001b[0m 13      \u001b[0m│\u001b[0m Float64                         \u001b[0m│\u001b[0m Continuous    \u001b[0m│\u001b[0m\n",
       "│\u001b[0m 14      \u001b[0m│\u001b[0m Float64                         \u001b[0m│\u001b[0m Continuous    \u001b[0m│\u001b[0m\n",
       "│\u001b[0m 15      \u001b[0m│\u001b[0m Float64                         \u001b[0m│\u001b[0m Continuous    \u001b[0m│\u001b[0m\n",
       "│\u001b[0m 16      \u001b[0m│\u001b[0m Int64                           \u001b[0m│\u001b[0m Count         \u001b[0m│\u001b[0m\n",
       "│\u001b[0m 17      \u001b[0m│\u001b[0m Float64                         \u001b[0m│\u001b[0m Continuous    \u001b[0m│\u001b[0m\n",
       "│\u001b[0m 18      \u001b[0m│\u001b[0m Float64                         \u001b[0m│\u001b[0m Continuous    \u001b[0m│\u001b[0m\n",
       "│\u001b[0m 19      \u001b[0m│\u001b[0m Int64                           \u001b[0m│\u001b[0m Count         \u001b[0m│\u001b[0m\n",
       "│\u001b[0m 20      \u001b[0m│\u001b[0m Int64                           \u001b[0m│\u001b[0m Count         \u001b[0m│\u001b[0m\n",
       "│\u001b[0m 21      \u001b[0m│\u001b[0m Int64                           \u001b[0m│\u001b[0m Count         \u001b[0m│\u001b[0m\n",
       "│\u001b[0m 22      \u001b[0m│\u001b[0m Float64                         \u001b[0m│\u001b[0m Continuous    \u001b[0m│\u001b[0m\n",
       "│\u001b[0m 23      \u001b[0m│\u001b[0m Int64                           \u001b[0m│\u001b[0m Count         \u001b[0m│\u001b[0m\n",
       "│\u001b[0m 24      \u001b[0m│\u001b[0m Int64                           \u001b[0m│\u001b[0m Count         \u001b[0m│\u001b[0m\n",
       "│\u001b[0m 25      \u001b[0m│\u001b[0m Int64                           \u001b[0m│\u001b[0m Count         \u001b[0m│\u001b[0m\n",
       "│\u001b[0m 26      \u001b[0m│\u001b[0m Int64                           \u001b[0m│\u001b[0m Count         \u001b[0m│\u001b[0m\n",
       "│\u001b[0m 27      \u001b[0m│\u001b[0m Float64                         \u001b[0m│\u001b[0m Continuous    \u001b[0m│\u001b[0m\n",
       "│\u001b[0m 28      \u001b[0m│\u001b[0m Float64                         \u001b[0m│\u001b[0m Continuous    \u001b[0m│\u001b[0m\n",
       "│\u001b[0m 29      \u001b[0m│\u001b[0m Int64                           \u001b[0m│\u001b[0m Count         \u001b[0m│\u001b[0m\n",
       "│\u001b[0m 30      \u001b[0m│\u001b[0m Float64                         \u001b[0m│\u001b[0m Continuous    \u001b[0m│\u001b[0m\n",
       "│\u001b[0m 31      \u001b[0m│\u001b[0m Float64                         \u001b[0m│\u001b[0m Continuous    \u001b[0m│\u001b[0m\n",
       "│\u001b[0m 32      \u001b[0m│\u001b[0m Int64                           \u001b[0m│\u001b[0m Count         \u001b[0m│\u001b[0m\n",
       "│\u001b[0m 33      \u001b[0m│\u001b[0m Int64                           \u001b[0m│\u001b[0m Count         \u001b[0m│\u001b[0m\n",
       "│\u001b[0m 34      \u001b[0m│\u001b[0m Int64                           \u001b[0m│\u001b[0m Count         \u001b[0m│\u001b[0m\n",
       "│\u001b[0m 35      \u001b[0m│\u001b[0m Int64                           \u001b[0m│\u001b[0m Count         \u001b[0m│\u001b[0m\n",
       "│\u001b[0m 36      \u001b[0m│\u001b[0m Float64                         \u001b[0m│\u001b[0m Continuous    \u001b[0m│\u001b[0m\n",
       "│\u001b[0m 37      \u001b[0m│\u001b[0m Float64                         \u001b[0m│\u001b[0m Continuous    \u001b[0m│\u001b[0m\n",
       "│\u001b[0m 38      \u001b[0m│\u001b[0m Int64                           \u001b[0m│\u001b[0m Count         \u001b[0m│\u001b[0m\n",
       "│\u001b[0m 39      \u001b[0m│\u001b[0m Float64                         \u001b[0m│\u001b[0m Continuous    \u001b[0m│\u001b[0m\n",
       "│\u001b[0m 40      \u001b[0m│\u001b[0m Int64                           \u001b[0m│\u001b[0m Count         \u001b[0m│\u001b[0m\n",
       "│\u001b[0m 41      \u001b[0m│\u001b[0m Int64                           \u001b[0m│\u001b[0m Count         \u001b[0m│\u001b[0m\n",
       "│\u001b[0m Class   \u001b[0m│\u001b[0m CategoricalValue{String,UInt32} \u001b[0m│\u001b[0m Multiclass{2} \u001b[0m│\u001b[0m\n",
       "└\u001b[0m─────────\u001b[0m┴\u001b[0m─────────────────────────────────\u001b[0m┴\u001b[0m───────────────\u001b[0m┘\u001b[0m\n",
       "_.nrows = 1055\n"
      ]
     },
     "execution_count": 7,
     "metadata": {},
     "output_type": "execute_result"
    }
   ],
   "source": [
    "coerce!(data, :Class=>Multiclass)\n",
    "schema(data)"
   ]
  },
  {
   "cell_type": "code",
   "execution_count": 8,
   "metadata": {
    "scrolled": false
   },
   "outputs": [
    {
     "data": {
      "text/plain": [
       "(CategoricalValue{String,UInt32}[\"RB\", \"RB\", \"RB\", \"RB\", \"RB\", \"RB\", \"RB\", \"RB\", \"RB\", \"RB\"  …  \"NRB\", \"NRB\", \"NRB\", \"NRB\", \"NRB\", \"NRB\", \"NRB\", \"NRB\", \"NRB\", \"NRB\"], 1055×41 DataFrame. Omitted printing of 33 columns\n",
       "│ Row  │ 1       │ 2       │ 3     │ 4     │ 5     │ 6     │ 7     │ 8       │\n",
       "│      │ \u001b[90mFloat64\u001b[39m │ \u001b[90mFloat64\u001b[39m │ \u001b[90mInt64\u001b[39m │ \u001b[90mInt64\u001b[39m │ \u001b[90mInt64\u001b[39m │ \u001b[90mInt64\u001b[39m │ \u001b[90mInt64\u001b[39m │ \u001b[90mFloat64\u001b[39m │\n",
       "├──────┼─────────┼─────────┼───────┼───────┼───────┼───────┼───────┼─────────┤\n",
       "│ 1    │ 3.919   │ 2.6909  │ 0     │ 0     │ 0     │ 0     │ 0     │ 31.4    │\n",
       "│ 2    │ 4.17    │ 2.1144  │ 0     │ 0     │ 0     │ 0     │ 0     │ 30.8    │\n",
       "│ 3    │ 3.932   │ 3.2512  │ 0     │ 0     │ 0     │ 0     │ 0     │ 26.7    │\n",
       "│ 4    │ 3.0     │ 2.7098  │ 0     │ 0     │ 0     │ 0     │ 0     │ 20.0    │\n",
       "│ 5    │ 4.236   │ 3.3944  │ 0     │ 0     │ 0     │ 0     │ 0     │ 29.4    │\n",
       "│ 6    │ 4.236   │ 3.4286  │ 0     │ 0     │ 0     │ 0     │ 0     │ 28.6    │\n",
       "│ 7    │ 5.0     │ 5.0476  │ 1     │ 0     │ 0     │ 0     │ 0     │ 11.1    │\n",
       "│ 8    │ 4.525   │ 3.8301  │ 0     │ 0     │ 0     │ 0     │ 0     │ 31.6    │\n",
       "│ 9    │ 4.596   │ 3.0777  │ 0     │ 0     │ 0     │ 0     │ 2     │ 44.4    │\n",
       "│ 10   │ 5.04    │ 3.6112  │ 0     │ 0     │ 1     │ 0     │ 2     │ 41.2    │\n",
       "⋮\n",
       "│ 1045 │ 4.807   │ 3.3179  │ 1     │ 0     │ 0     │ 0     │ 3     │ 43.8    │\n",
       "│ 1046 │ 4.607   │ 3.0008  │ 1     │ 0     │ 0     │ 0     │ 2     │ 41.2    │\n",
       "│ 1047 │ 5.313   │ 2.7782  │ 0     │ 0     │ 0     │ 1     │ 2     │ 40.0    │\n",
       "│ 1048 │ 5.103   │ 3.9184  │ 0     │ 0     │ 4     │ 0     │ 4     │ 35.0    │\n",
       "│ 1049 │ 5.265   │ 3.3444  │ 2     │ 0     │ 6     │ 0     │ 1     │ 35.3    │\n",
       "│ 1050 │ 5.029   │ 2.5966  │ 0     │ 0     │ 0     │ 0     │ 4     │ 46.7    │\n",
       "│ 1051 │ 5.431   │ 2.8955  │ 0     │ 0     │ 0     │ 2     │ 0     │ 32.1    │\n",
       "│ 1052 │ 5.287   │ 3.3732  │ 0     │ 0     │ 9     │ 0     │ 0     │ 35.3    │\n",
       "│ 1053 │ 4.869   │ 1.767   │ 0     │ 1     │ 9     │ 0     │ 5     │ 44.4    │\n",
       "│ 1054 │ 5.158   │ 1.6914  │ 2     │ 0     │ 36    │ 0     │ 9     │ 56.1    │\n",
       "│ 1055 │ 5.076   │ 2.6588  │ 2     │ 0     │ 0     │ 0     │ 4     │ 54.5    │)"
      ]
     },
     "execution_count": 8,
     "metadata": {},
     "output_type": "execute_result"
    }
   ],
   "source": [
    "y, X = unpack(data, ==(:Class), colname->true)"
   ]
  },
  {
   "cell_type": "markdown",
   "metadata": {},
   "source": [
    "Partition train and test data accoring to class labels"
   ]
  },
  {
   "cell_type": "code",
   "execution_count": 9,
   "metadata": {},
   "outputs": [
    {
     "data": {
      "text/plain": [
       "([465, 562, 278, 619, 161, 972, 782, 321, 537, 760  …  12, 913, 471, 13, 1006, 802, 112, 840, 744, 261], [196, 586, 245, 77, 1028, 432, 215, 987, 137, 411  …  975, 610, 886, 848, 731, 1024, 805, 500, 659, 415])"
      ]
     },
     "execution_count": 9,
     "metadata": {},
     "output_type": "execute_result"
    }
   ],
   "source": [
    "# data to use when trying to fit a single validation set\n",
    "train, test = partition(eachindex(y), 0.7, shuffle=true, rng=123, stratify=values(data[:Class])) # gives 70:30 split"
   ]
  },
  {
   "cell_type": "code",
   "execution_count": 10,
   "metadata": {},
   "outputs": [
    {
     "data": {
      "text/plain": [
       "2-element Array{Float64,1}:\n",
       " 0.33739837398373984\n",
       " 0.6626016260162602"
      ]
     },
     "execution_count": 10,
     "metadata": {},
     "output_type": "execute_result"
    }
   ],
   "source": [
    "train_counts = countmap(data[train,:Class])\n",
    "collect(train_counts[i] / size(train)[1] for i in keys(train_counts))"
   ]
  },
  {
   "cell_type": "code",
   "execution_count": 11,
   "metadata": {},
   "outputs": [
    {
     "data": {
      "text/plain": [
       "2-element Array{Float64,1}:\n",
       " 0.33753943217665616\n",
       " 0.6624605678233438"
      ]
     },
     "execution_count": 11,
     "metadata": {},
     "output_type": "execute_result"
    }
   ],
   "source": [
    "test_counts = countmap(data[test,:Class])\n",
    "collect(test_counts[i] / size(test)[1] for i in keys(test_counts))"
   ]
  },
  {
   "cell_type": "code",
   "execution_count": 12,
   "metadata": {},
   "outputs": [
    {
     "name": "stderr",
     "output_type": "stream",
     "text": [
      "┌ Info: Training \u001b[34mMachine{Standardizer} @167\u001b[39m.\n",
      "└ @ MLJBase /home/andrew/.julia/packages/MLJBase/uKzAz/src/machines.jl:319\n"
     ]
    }
   ],
   "source": [
    "standardizer = Standardizer()\n",
    "stand = machine(standardizer, X[train,:]) #only want to standardize on training distribution\n",
    "fit!(stand)\n",
    "X_stand = MLJ.transform(stand, X);"
   ]
  },
  {
   "cell_type": "markdown",
   "metadata": {},
   "source": [
    "# Five Learning Algorithms\n",
    "\n",
    "* Decision trees with some form of pruning\n",
    "* Neural networks\n",
    "* Boosting\n",
    "* Support Vector Machines\n",
    "* k-nearest neighbors\n",
    "\n",
    "\n",
    "##### Testing\n",
    "* Implement the algorithms\n",
    "* Design two *interesting* classification problems. For the purposes of this assignment, a classification problem is just a set of training examples and a set of test examples."
   ]
  },
  {
   "cell_type": "code",
   "execution_count": 13,
   "metadata": {
    "scrolled": true
   },
   "outputs": [
    {
     "data": {
      "text/plain": [
       "6-element Array{NamedTuple{(:name, :package_name, :is_supervised, :docstring, :hyperparameter_ranges, :hyperparameter_types, :hyperparameters, :implemented_methods, :is_pure_julia, :is_wrapper, :load_path, :package_license, :package_url, :package_uuid, :prediction_type, :supports_online, :supports_weights, :input_scitype, :target_scitype, :output_scitype),T} where T<:Tuple,1}:\n",
       " (name = AdaBoostStumpClassifier, package_name = DecisionTree, ... )\n",
       " (name = ConstantClassifier, package_name = MLJModels, ... )\n",
       " (name = DecisionTreeClassifier, package_name = DecisionTree, ... )\n",
       " (name = DeterministicConstantClassifier, package_name = MLJModels, ... )\n",
       " (name = RandomForestClassifier, package_name = DecisionTree, ... )\n",
       " (name = RandomForestClassifier, package_name = ScikitLearn, ... )"
      ]
     },
     "execution_count": 13,
     "metadata": {},
     "output_type": "execute_result"
    }
   ],
   "source": [
    "models(matching(X,y))"
   ]
  },
  {
   "cell_type": "code",
   "execution_count": 14,
   "metadata": {
    "scrolled": true
   },
   "outputs": [
    {
     "name": "stdout",
     "output_type": "stream",
     "text": [
      "import MLJModels ✔\n",
      "import DecisionTree ✔\n",
      "import MLJModels.DecisionTree_ ✔\n"
     ]
    },
    {
     "name": "stderr",
     "output_type": "stream",
     "text": [
      "┌ Info: Loading into module \"Main\": \n",
      "└ @ MLJModels /home/andrew/.julia/packages/MLJModels/mUBFt/src/loading.jl:70\n"
     ]
    },
    {
     "data": {
      "text/plain": [
       "DecisionTreeClassifier(\n",
       "    max_depth = -1,\n",
       "    min_samples_leaf = 1,\n",
       "    min_samples_split = 2,\n",
       "    min_purity_increase = 0.0,\n",
       "    n_subfeatures = 0,\n",
       "    post_prune = false,\n",
       "    merge_purity_threshold = 1.0,\n",
       "    pdf_smoothing = 0.0,\n",
       "    display_depth = 5)\u001b[34m @733\u001b[39m"
      ]
     },
     "execution_count": 14,
     "metadata": {},
     "output_type": "execute_result"
    }
   ],
   "source": [
    "@load DecisionTreeClassifier verbosity=2"
   ]
  },
  {
   "cell_type": "markdown",
   "metadata": {},
   "source": [
    "## Decision trees\n",
    "* Be sure to use some form of pruning. \n",
    "* You are not required to use information gain (for example, there is something called the GINI index that is sometimes used) to split attributes, but you should describe whatever it is that you do use.\n",
    "\n",
    "1. https://alan-turing-institute.github.io/MLJ.jl/dev/transformers/#MLJModels.UnivariateDiscretizer\n",
    "1. https://alan-turing-institute.github.io/MLJ.jl/dev/getting_started/#Getting-Started-1"
   ]
  },
  {
   "cell_type": "markdown",
   "metadata": {},
   "source": [
    "### No post-pruning"
   ]
  },
  {
   "cell_type": "code",
   "execution_count": 15,
   "metadata": {},
   "outputs": [
    {
     "data": {
      "text/plain": [
       "DecisionTreeClassifier(\n",
       "    max_depth = -1,\n",
       "    min_samples_leaf = 1,\n",
       "    min_samples_split = 2,\n",
       "    min_purity_increase = 0.0,\n",
       "    n_subfeatures = 0,\n",
       "    post_prune = false,\n",
       "    merge_purity_threshold = 1.0,\n",
       "    pdf_smoothing = 0.0,\n",
       "    display_depth = 14)\u001b[34m @751\u001b[39m"
      ]
     },
     "execution_count": 15,
     "metadata": {},
     "output_type": "execute_result"
    }
   ],
   "source": [
    "dt = DecisionTreeClassifier(post_prune=false, display_depth=14)"
   ]
  },
  {
   "cell_type": "code",
   "execution_count": 16,
   "metadata": {},
   "outputs": [
    {
     "data": {
      "text/plain": [
       "\u001b[34mMachine{DecisionTreeClassifier} @967\u001b[39m trained 0 times.\n",
       "  args: \n",
       "    1:\t\u001b[34mSource @925\u001b[39m ⏎ `Table{Union{AbstractArray{Continuous,1}, AbstractArray{Count,1}}}`\n",
       "    2:\t\u001b[34mSource @657\u001b[39m ⏎ `AbstractArray{Multiclass{2},1}`\n"
      ]
     },
     "execution_count": 16,
     "metadata": {},
     "output_type": "execute_result"
    }
   ],
   "source": [
    "Tree = machine(dt, X, y)"
   ]
  },
  {
   "cell_type": "code",
   "execution_count": 17,
   "metadata": {},
   "outputs": [
    {
     "name": "stderr",
     "output_type": "stream",
     "text": [
      "┌ Info: Training \u001b[34mMachine{DecisionTreeClassifier} @967\u001b[39m.\n",
      "└ @ MLJBase /home/andrew/.julia/packages/MLJBase/uKzAz/src/machines.jl:319\n"
     ]
    },
    {
     "name": "stdout",
     "output_type": "stream",
     "text": [
      "Feature 36, Threshold 3.8005\n",
      "L-> Feature 27, Threshold 2.2380000000000004\n",
      "    L-> Feature 34, Threshold 2.5\n",
      "        L-> Feature 9, Threshold 3.5\n",
      "            L-> Feature 10, Threshold 1.5\n",
      "                L-> Feature 36, Threshold 3.5940000000000003\n",
      "                    L-> Feature 9, Threshold 1.5\n",
      "                        L-> Feature 18, Threshold 1.1745\n",
      "                            L-> Feature 2, Threshold 2.9217500000000003\n",
      "                                L-> Feature 17, Threshold 0.9644999999999999\n",
      "                                    L-> 1 : 2/2\n",
      "                                    R-> Feature 30, Threshold 10.89\n",
      "                                        L-> Feature 36, Threshold 2.952\n",
      "                                            L-> Feature 2, Threshold 2.5458499999999997\n",
      "                                                L-> 2 : 2/2\n",
      "                                                R-> 1 : 1/1\n",
      "                                            R-> 2 : 21/21\n",
      "                                        R-> 1 : 1/1\n",
      "                                R-> Feature 15, Threshold 9.311499999999999\n",
      "                                    L-> Feature 13, Threshold 2.518\n",
      "                                        L-> 1 : 1/1\n",
      "                                        R-> Feature 18, Threshold 1.1275\n",
      "                                            L-> Feature 2, Threshold 3.1195500000000003\n",
      "                                                L-> Feature 18, Threshold 1.126\n",
      "                                                    L-> 2 : 3/3\n",
      "                                                    R-> 1 : 1/1\n",
      "                                                R-> 1 : 2/2\n",
      "                                            R-> 2 : 5/5\n",
      "                                    R-> Feature 39, Threshold 8.343499999999999\n",
      "                                        L-> 1 : 6/6\n",
      "                                        R-> 2 : 1/1\n",
      "                            R-> 1 : 5/5\n",
      "                        R-> Feature 14, Threshold 2.2089999999999996\n",
      "                            L-> 2 : 26/26\n",
      "                            R-> Feature 36, Threshold 3.1535\n",
      "                                L-> 2 : 9/9\n",
      "                                R-> Feature 36, Threshold 3.4455\n",
      "                                    L-> 1 : 2/2\n",
      "                                    R-> 2 : 1/1\n",
      "                    R-> Feature 16, Threshold 1.5\n",
      "                        L-> Feature 22, Threshold 1.334\n",
      "                            L-> Feature 9, Threshold 2.5\n",
      "                                L-> 1 : 15/15\n",
      "                                R-> 2 : 1/1\n",
      "                            R-> 2 : 1/1\n",
      "                        R-> Feature 31, Threshold 2.3345000000000002\n",
      "                            L-> Feature 2, Threshold 3.15435\n",
      "                                L-> 2 : 8/8\n",
      "                                R-> 1 : 2/2\n",
      "                            R-> 1 : 2/2\n",
      "                R-> Feature 18, Threshold 1.175\n",
      "                    L-> Feature 6, Threshold 0.5\n",
      "                        L-> Feature 3, Threshold 1.5\n",
      "                            L-> 2 : 92/92\n",
      "                            R-> 1 : 1/1\n",
      "                        R-> Feature 37, Threshold 2.542\n",
      "                            L-> 2 : 2/2\n",
      "                            R-> Feature 2, Threshold 3.6863\n",
      "                                L-> 2 : 1/1\n",
      "                                R-> 1 : 2/2\n",
      "                    R-> 1 : 3/3\n",
      "            R-> Feature 31, Threshold 5.761\n",
      "                L-> 1 : 13/13\n",
      "                R-> 2 : 2/2\n",
      "        R-> Feature 16, Threshold 1.5\n",
      "            L-> 1 : 27/27\n",
      "            R-> Feature 19, Threshold 0.5\n",
      "                L-> 2 : 5/5\n",
      "                R-> 1 : 2/2\n",
      "    R-> Feature 30, Threshold 5.1245\n",
      "        L-> Feature 8, Threshold 25.3\n",
      "            L-> 2 : 2/2\n",
      "            R-> Feature 28, Threshold -0.0015\n",
      "                L-> Feature 28, Threshold -0.006500000000000001\n",
      "                    L-> 1 : 14/14\n",
      "                    R-> Feature 8, Threshold 38.2\n",
      "                        L-> 1 : 3/3\n",
      "                        R-> Feature 36, Threshold 3.669\n",
      "                            L-> 1 : 1/1\n",
      "                            R-> 2 : 2/2\n",
      "                R-> 1 : 50/50\n",
      "        R-> Feature 38, Threshold 0.5\n",
      "            L-> Feature 1, Threshold 5.097\n",
      "                L-> Feature 2, Threshold 2.4012000000000002\n",
      "                    L-> Feature 32, Threshold 0.5\n",
      "                        L-> Feature 17, Threshold 0.991\n",
      "                            L-> Feature 27, Threshold 2.4130000000000003\n",
      "                                L-> 1 : 2/2\n",
      "                                R-> 2 : 1/1\n",
      "                            R-> 2 : 7/7\n",
      "                        R-> 1 : 4/4\n",
      "                    R-> 2 : 27/27\n",
      "                R-> Feature 1, Threshold 5.371\n",
      "                    L-> 1 : 12/12\n",
      "                    R-> 2 : 2/2\n",
      "            R-> Feature 17, Threshold 1.0225\n",
      "                L-> 1 : 19/19\n",
      "                R-> Feature 36, Threshold 3.7555\n",
      "                    L-> 2 : 3/3\n",
      "                    R-> Feature 11, Threshold 1.5\n",
      "                        L-> 2 : 1/1\n",
      "                        R-> 1 : 4/4\n",
      "R-> Feature 12, Threshold -0.5695\n",
      "    L-> Feature 22, Threshold 1.2275\n",
      "        L-> Feature 39, Threshold 9.043\n",
      "            L-> Feature 5, Threshold 1.5\n",
      "                L-> 2 : 8/8\n",
      "                R-> 1 : 1/1\n",
      "            R-> Feature 10, Threshold 9.0\n",
      "                L-> 1 : 6/6\n",
      "                R-> 2 : 1/1\n",
      "        R-> Feature 39, Threshold 8.599\n",
      "            L-> 2 : 2/2\n",
      "            R-> 1 : 26/26\n",
      "    R-> Feature 27, Threshold 2.3585000000000003\n",
      "        L-> Feature 17, Threshold 0.9935\n",
      "            L-> Feature 17, Threshold 0.9915\n",
      "                L-> Feature 22, Threshold 1.354\n",
      "                    L-> Feature 15, Threshold 10.886\n",
      "                        L-> 1 : 14/14\n",
      "                        R-> 2 : 1/1\n",
      "                    R-> Feature 37, Threshold 1.9740000000000002\n",
      "                        L-> 1 : 4/4\n",
      "                        R-> Feature 22, Threshold 1.3975\n",
      "                            L-> 2 : 3/3\n",
      "                            R-> Feature 9, Threshold 5.0\n",
      "                                L-> 1 : 2/2\n",
      "                                R-> 2 : 1/1\n",
      "                R-> 2 : 3/3\n",
      "            R-> Feature 18, Threshold 1.1185\n",
      "                L-> Feature 22, Threshold 1.274\n",
      "                    L-> 2 : 3/3\n",
      "                    R-> Feature 18, Threshold 1.1035\n",
      "                        L-> Feature 39, Threshold 8.783\n",
      "                            L-> 2 : 1/1\n",
      "                            R-> Feature 2, Threshold 3.5501\n",
      "                                L-> 1 : 23/23\n",
      "                                R-> Feature 41, Threshold 3.5\n",
      "                                    L-> 2 : 1/1\n",
      "                                    R-> 1 : 1/1\n",
      "                        R-> 1 : 25/25\n",
      "                R-> 1 : 72/72\n",
      "        R-> 1 : 118/118\n"
     ]
    },
    {
     "data": {
      "text/plain": [
       "\u001b[34mMachine{DecisionTreeClassifier} @967\u001b[39m trained 1 time.\n",
       "  args: \n",
       "    1:\t\u001b[34mSource @925\u001b[39m ⏎ `Table{Union{AbstractArray{Continuous,1}, AbstractArray{Count,1}}}`\n",
       "    2:\t\u001b[34mSource @657\u001b[39m ⏎ `AbstractArray{Multiclass{2},1}`\n"
      ]
     },
     "execution_count": 17,
     "metadata": {},
     "output_type": "execute_result"
    }
   ],
   "source": [
    "fit!(Tree, rows=train, verbosity=2)"
   ]
  },
  {
   "cell_type": "code",
   "execution_count": 18,
   "metadata": {},
   "outputs": [
    {
     "name": "stderr",
     "output_type": "stream",
     "text": [
      "\u001b[33mEvaluating over 6 folds: 100%[=========================] Time: 0:00:04\u001b[39m\n"
     ]
    },
    {
     "data": {
      "text/plain": [
       "┌\u001b[0m───────────────\u001b[0m┬\u001b[0m───────────────\u001b[0m┬\u001b[0m────────────────────────────────────────────\u001b[0m┐\u001b[0m\n",
       "│\u001b[0m\u001b[22m _.measure     \u001b[0m│\u001b[0m\u001b[22m _.measurement \u001b[0m│\u001b[0m\u001b[22m _.per_fold                                 \u001b[0m│\u001b[0m\n",
       "├\u001b[0m───────────────\u001b[0m┼\u001b[0m───────────────\u001b[0m┼\u001b[0m────────────────────────────────────────────\u001b[0m┤\u001b[0m\n",
       "│\u001b[0m cross_entropy \u001b[0m│\u001b[0m 6.25          \u001b[0m│\u001b[0m [6.55, 5.94, 6.55, 7.17, 5.94, 5.36]       \u001b[0m│\u001b[0m\n",
       "│\u001b[0m acc           \u001b[0m│\u001b[0m 0.827         \u001b[0m│\u001b[0m [0.818, 0.835, 0.818, 0.801, 0.835, 0.851] \u001b[0m│\u001b[0m\n",
       "└\u001b[0m───────────────\u001b[0m┴\u001b[0m───────────────\u001b[0m┴\u001b[0m────────────────────────────────────────────\u001b[0m┘\u001b[0m\n",
       "_.per_observation = [[[2.22e-16, 2.22e-16, ..., 2.22e-16], [2.22e-16, 2.22e-16, ..., 2.22e-16], [2.22e-16, 2.22e-16, ..., 36.0], [2.22e-16, 2.22e-16, ..., 2.22e-16], [36.0, 2.22e-16, ..., 2.22e-16], [2.22e-16, 36.0, ..., 2.22e-16]], missing]\n",
       "_.fitted_params_per_fold = [ … ]\n",
       "_.report_per_fold = [ … ]\n"
      ]
     },
     "execution_count": 18,
     "metadata": {},
     "output_type": "execute_result"
    }
   ],
   "source": [
    "dt_acc = evaluate!(Tree, resampling=CV(shuffle=true), measure=[cross_entropy, acc], verbosity=1)"
   ]
  },
  {
   "cell_type": "code",
   "execution_count": 19,
   "metadata": {
    "scrolled": true
   },
   "outputs": [
    {
     "name": "stdout",
     "output_type": "stream",
     "text": [
      "Feature 36, Threshold 3.6745\n",
      "L-> Feature 34, Threshold 2.5\n",
      "    L-> Feature 1, Threshold 4.984\n",
      "        L-> Feature 37, Threshold 2.7584999999999997\n",
      "            L-> Feature 30, Threshold 9.927\n",
      "                L-> Feature 36, Threshold 3.0015\n",
      "                    L-> Feature 10, Threshold 0.5\n",
      "                        L-> 2 : 16/16\n",
      "                        R-> Feature 35, Threshold 0.5\n",
      "                            L-> 1 : 2/2\n",
      "                            R-> Feature 11, Threshold 0.5\n",
      "                                L-> 2 : 6/6\n",
      "                                R-> 1 : 1/1\n",
      "                    R-> Feature 35, Threshold 0.5\n",
      "                        L-> Feature 39, Threshold 8.226500000000001\n",
      "                            L-> Feature 36, Threshold 3.2385\n",
      "                                L-> Feature 31, Threshold 0.5555\n",
      "                                    L-> 2 : 1/1\n",
      "                                    R-> 1 : 12/12\n",
      "                                R-> Feature 1, Threshold 4.7765\n",
      "                                    L-> Feature 28, Threshold 0.0455\n",
      "                                        L-> Feature 12, Threshold 1.808\n",
      "                                            L-> Feature 2, Threshold 3.11655\n",
      "                                                L-> Feature 39, Threshold 7.9515\n",
      "                                                    L-> Feature 9, Threshold 0.5\n",
      "                                                        L-> 1 : 1/1\n",
      "                                                        R-> 2 : 6/6\n",
      "                                                    R-> Feature 39, Threshold 8.0805\n",
      "                                                        L-> 1 : 7/7\n",
      "                                                        R-> Feature 17, Threshold 0.9644999999999999\n",
      "                                                            L-> 1 : 1/1\n",
      "                                                            R-> 2 : 4/4\n",
      "                                                R-> 1 : 3/3\n",
      "                                            R-> 2 : 4/4\n",
      "                                        R-> 2 : 4/4\n",
      "                                    R-> 1 : 6/6\n",
      "                            R-> 1 : 12/12\n",
      "                        R-> Feature 35, Threshold 1.5\n",
      "                            L-> Feature 1, Threshold 4.798\n",
      "                                L-> Feature 34, Threshold 1.5\n",
      "                                    L-> Feature 28, Threshold 0.1355\n",
      "                                        L-> 2 : 22/22\n",
      "                                        R-> Feature 13, Threshold 2.573\n",
      "                                            L-> 2 : 1/1\n",
      "                                            R-> 1 : 1/1\n",
      "                                    R-> Feature 14, Threshold 0.9635\n",
      "                                        L-> 2 : 3/3\n",
      "                                        R-> Feature 5, Threshold 1.5\n",
      "                                            L-> 1 : 3/3\n",
      "                                            R-> 2 : 1/1\n",
      "                                R-> 1 : 2/2\n",
      "                            R-> Feature 11, Threshold 0.5\n",
      "                                L-> 1 : 5/5\n",
      "                                R-> Feature 28, Threshold -0.006\n",
      "                                    L-> Feature 27, Threshold 2.197\n",
      "                                        L-> 2 : 3/3\n",
      "                                        R-> Feature 15, Threshold 9.6495\n",
      "                                            L-> 1 : 1/1\n",
      "                                            R-> 2 : 1/1\n",
      "                                    R-> Feature 15, Threshold 9.4645\n",
      "                                        L-> Feature 9, Threshold 0.5\n",
      "                                            L-> 1 : 1/1\n",
      "                                            R-> 2 : 2/2\n",
      "                                        R-> 1 : 5/5\n",
      "                R-> Feature 5, Threshold 0.5\n",
      "                    L-> Feature 36, Threshold 3.6015\n",
      "                        L-> Feature 28, Threshold 0.0085\n",
      "                            L-> 2 : 44/44\n",
      "                            R-> Feature 31, Threshold 3.891\n",
      "                                L-> 2 : 9/9\n",
      "                                R-> 1 : 1/1\n",
      "                        R-> Feature 2, Threshold 2.80975\n",
      "                            L-> 1 : 3/3\n",
      "                            R-> 2 : 7/7\n",
      "                    R-> Feature 2, Threshold 3.0194\n",
      "                        L-> Feature 28, Threshold -0.0075\n",
      "                            L-> 2 : 1/1\n",
      "                            R-> 1 : 6/6\n",
      "                        R-> 2 : 2/2\n",
      "            R-> Feature 38, Threshold 1.5\n",
      "                L-> 2 : 82/82\n",
      "                R-> Feature 18, Threshold 1.174\n",
      "                    L-> 2 : 2/2\n",
      "                    R-> 1 : 3/3\n",
      "        R-> Feature 15, Threshold 10.661999999999999\n",
      "            L-> Feature 14, Threshold 1.841\n",
      "                L-> Feature 15, Threshold 10.3615\n",
      "                    L-> Feature 28, Threshold -0.0775\n",
      "                        L-> Feature 16, Threshold 5.5\n",
      "                            L-> 2 : 1/1\n",
      "                            R-> 1 : 1/1\n",
      "                        R-> 1 : 19/19\n",
      "                    R-> Feature 36, Threshold 3.6455\n",
      "                        L-> 2 : 2/2\n",
      "                        R-> 1 : 1/1\n",
      "                R-> 2 : 5/5\n",
      "            R-> 1 : 14/14\n",
      "    R-> Feature 13, Threshold 3.183\n",
      "        L-> 1 : 26/26\n",
      "        R-> Feature 37, Threshold 2.274\n",
      "            L-> Feature 2, Threshold 1.7779\n",
      "                L-> 2 : 1/1\n",
      "                R-> 1 : 12/12\n",
      "            R-> Feature 2, Threshold 2.7893499999999998\n",
      "                L-> 2 : 4/4\n",
      "                R-> Feature 36, Threshold 3.615\n",
      "                    L-> Feature 16, Threshold 0.5\n",
      "                        L-> 1 : 2/2\n",
      "                        R-> Feature 19, Threshold 1.0\n",
      "                            L-> 2 : 5/5\n",
      "                            R-> 1 : 1/1\n",
      "                    R-> 1 : 5/5\n",
      "R-> Feature 12, Threshold -0.663\n",
      "    L-> Feature 27, Threshold 2.3745000000000003\n",
      "        L-> Feature 1, Threshold 5.117\n",
      "            L-> Feature 1, Threshold 4.898\n",
      "                L-> Feature 5, Threshold 1.5\n",
      "                    L-> Feature 33, Threshold 1.5\n",
      "                        L-> Feature 28, Threshold 0.08199999999999999\n",
      "                            L-> Feature 12, Threshold -2.277\n",
      "                                L-> Feature 27, Threshold 2.283\n",
      "                                    L-> 1 : 1/1\n",
      "                                    R-> 2 : 1/1\n",
      "                                R-> 2 : 14/14\n",
      "                            R-> 1 : 1/1\n",
      "                        R-> 1 : 2/2\n",
      "                    R-> 1 : 2/2\n",
      "                R-> 2 : 19/19\n",
      "            R-> 1 : 4/4\n",
      "        R-> Feature 22, Threshold 1.2145000000000001\n",
      "            L-> Feature 40, Threshold 1.0\n",
      "                L-> Feature 35, Threshold 4.0\n",
      "                    L-> 1 : 7/7\n",
      "                    R-> 2 : 1/1\n",
      "                R-> 2 : 2/2\n",
      "            R-> 1 : 23/23\n",
      "    R-> Feature 38, Threshold 0.5\n",
      "        L-> Feature 3, Threshold 1.5\n",
      "            L-> Feature 30, Threshold 10.24\n",
      "                L-> Feature 14, Threshold 3.1254999999999997\n",
      "                    L-> Feature 39, Threshold 8.068\n",
      "                        L-> 2 : 2/2\n",
      "                        R-> Feature 27, Threshold 2.3609999999999998\n",
      "                            L-> Feature 16, Threshold 11.5\n",
      "                                L-> Feature 8, Threshold 53.55\n",
      "                                    L-> Feature 39, Threshold 8.3895\n",
      "                                        L-> Feature 17, Threshold 0.9855\n",
      "                                            L-> 1 : 9/9\n",
      "                                            R-> Feature 2, Threshold 3.2492\n",
      "                                                L-> Feature 12, Threshold 0.507\n",
      "                                                    L-> 2 : 3/3\n",
      "                                                    R-> 1 : 1/1\n",
      "                                                R-> 1 : 3/3\n",
      "                                        R-> 1 : 33/33\n",
      "                                    R-> Feature 1, Threshold 4.8955\n",
      "                                        L-> 2 : 2/2\n",
      "                                        R-> 1 : 1/1\n",
      "                                R-> 2 : 2/2\n",
      "                            R-> 1 : 38/38\n",
      "                    R-> 2 : 2/2\n",
      "                R-> Feature 1, Threshold 5.008\n",
      "                    L-> 2 : 7/7\n",
      "                    R-> Feature 37, Threshold 3.0759999999999996\n",
      "                        L-> Feature 14, Threshold 0.6535\n",
      "                            L-> Feature 7, Threshold 5.0\n",
      "                                L-> 2 : 3/3\n",
      "                                R-> 1 : 2/2\n",
      "                            R-> Feature 16, Threshold 4.5\n",
      "                                L-> Feature 9, Threshold 3.5\n",
      "                                    L-> Feature 36, Threshold 4.555\n",
      "                                        L-> 2 : 2/2\n",
      "                                        R-> 1 : 1/1\n",
      "                                    R-> 1 : 2/2\n",
      "                                R-> 1 : 22/22\n",
      "                        R-> 2 : 4/4\n",
      "            R-> Feature 35, Threshold 0.5\n",
      "                L-> 1 : 72/72\n",
      "                R-> Feature 28, Threshold 0.0095\n",
      "                    L-> 1 : 14/14\n",
      "                    R-> Feature 2, Threshold 3.5501\n",
      "                        L-> 1 : 1/1\n",
      "                        R-> 2 : 1/1\n",
      "        R-> Feature 39, Threshold 8.4465\n",
      "            L-> Feature 27, Threshold 2.314\n",
      "                L-> 1 : 18/18\n",
      "                R-> Feature 4, Threshold 1.0\n",
      "                    L-> 2 : 2/2\n",
      "                    R-> 1 : 1/1\n",
      "            R-> 1 : 159/159\n"
     ]
    }
   ],
   "source": [
    "fitted_params(Tree) \n",
    "print_tree(Tree.fitresult[1])"
   ]
  },
  {
   "cell_type": "code",
   "execution_count": 20,
   "metadata": {},
   "outputs": [
    {
     "data": {
      "text/plain": [
       "(tree = Decision Tree\n",
       "Leaves: 95\n",
       "Depth:  16,\n",
       " encoding = Dict{CategoricalValue{String,UInt32},UInt32}(\"RB\" => 0x00000002,\"NRB\" => 0x00000001),)"
      ]
     },
     "execution_count": 20,
     "metadata": {},
     "output_type": "execute_result"
    }
   ],
   "source": [
    "fitted_params(Tree) \n",
    "# print_tree(Tree.fitresult[1])"
   ]
  },
  {
   "cell_type": "code",
   "execution_count": 21,
   "metadata": {
    "scrolled": false
   },
   "outputs": [
    {
     "data": {
      "text/plain": [
       "(classes_seen = CategoricalValue{String,UInt32}[\"NRB\", \"RB\"],\n",
       " print_tree = TreePrinter object (call with display depth),)"
      ]
     },
     "execution_count": 21,
     "metadata": {},
     "output_type": "execute_result"
    }
   ],
   "source": [
    "report(Tree)"
   ]
  },
  {
   "cell_type": "markdown",
   "metadata": {},
   "source": [
    "### Using Post-pruning"
   ]
  },
  {
   "cell_type": "code",
   "execution_count": 22,
   "metadata": {},
   "outputs": [
    {
     "data": {
      "text/plain": [
       "DecisionTreeClassifier(\n",
       "    max_depth = -1,\n",
       "    min_samples_leaf = 1,\n",
       "    min_samples_split = 2,\n",
       "    min_purity_increase = 0.0,\n",
       "    n_subfeatures = 0,\n",
       "    post_prune = true,\n",
       "    merge_purity_threshold = 0.7,\n",
       "    pdf_smoothing = 0.0,\n",
       "    display_depth = 14)\u001b[34m @296\u001b[39m"
      ]
     },
     "execution_count": 22,
     "metadata": {},
     "output_type": "execute_result"
    }
   ],
   "source": [
    "dt2 = DecisionTreeClassifier(post_prune=true, display_depth=14, merge_purity_threshold=0.7)"
   ]
  },
  {
   "cell_type": "code",
   "execution_count": 23,
   "metadata": {},
   "outputs": [
    {
     "data": {
      "text/plain": [
       "\u001b[34mMachine{DecisionTreeClassifier} @011\u001b[39m trained 0 times.\n",
       "  args: \n",
       "    1:\t\u001b[34mSource @172\u001b[39m ⏎ `Table{Union{AbstractArray{Continuous,1}, AbstractArray{Count,1}}}`\n",
       "    2:\t\u001b[34mSource @955\u001b[39m ⏎ `AbstractArray{Multiclass{2},1}`\n"
      ]
     },
     "execution_count": 23,
     "metadata": {},
     "output_type": "execute_result"
    }
   ],
   "source": [
    "Tree2 = machine(dt2, X, y)"
   ]
  },
  {
   "cell_type": "code",
   "execution_count": 24,
   "metadata": {
    "scrolled": true
   },
   "outputs": [
    {
     "name": "stderr",
     "output_type": "stream",
     "text": [
      "┌ Info: Training \u001b[34mMachine{DecisionTreeClassifier} @011\u001b[39m.\n",
      "└ @ MLJBase /home/andrew/.julia/packages/MLJBase/uKzAz/src/machines.jl:319\n"
     ]
    },
    {
     "name": "stdout",
     "output_type": "stream",
     "text": [
      "Feature 36, Threshold 3.8005\n",
      "L-> Feature 27, Threshold 2.2380000000000004\n",
      "    L-> Feature 34, Threshold 2.5\n",
      "        L-> Feature 9, Threshold 3.5\n",
      "            L-> Feature 10, Threshold 1.5\n",
      "                L-> Feature 36, Threshold 3.5940000000000003\n",
      "                    L-> Feature 9, Threshold 1.5\n",
      "                        L-> Feature 18, Threshold 1.1745\n",
      "                            L-> Feature 37, Threshold 2.1205\n",
      "                                L-> Feature 13, Threshold 2.6014999999999997\n",
      "                                    L-> 2 : 3/3\n",
      "                                    R-> Feature 28, Threshold 0.0005\n",
      "                                        L-> Feature 2, Threshold 2.9217500000000003\n",
      "                                            L-> 2 : 4/4\n",
      "                                            R-> Feature 22, Threshold 1.2080000000000002\n",
      "                                                L-> 1 : 4/4\n",
      "                                                R-> Feature 11, Threshold 1.5\n",
      "                                                    L-> 2 : 2/2\n",
      "                                                    R-> 1 : 1/1\n",
      "                                        R-> 1 : 5/5\n",
      "                                R-> Feature 2, Threshold 3.1746\n",
      "                                    L-> Feature 22, Threshold 1.112\n",
      "                                        L-> Feature 8, Threshold 26.05\n",
      "                                            L-> 1 : 1/1\n",
      "                                            R-> 2 : 1/1\n",
      "                                        R-> 2 : 18/18\n",
      "                                    R-> Feature 35, Threshold 0.5\n",
      "                                        L-> 1 : 3/4\n",
      "                                        R-> 2 : 3/3\n",
      "                            R-> 1 : 5/5\n",
      "                        R-> Feature 14, Threshold 2.2089999999999996\n",
      "                            L-> 2 : 26/26\n",
      "                            R-> Feature 36, Threshold 3.1535\n",
      "                                L-> 2 : 9/9\n",
      "                                R-> Feature 1, Threshold 3.9575\n",
      "                                    L-> 2 : 1/1\n",
      "                                    R-> 1 : 2/2\n",
      "                    R-> Feature 16, Threshold 1.5\n",
      "                        L-> 1 : 15/17\n",
      "                        R-> Feature 37, Threshold 2.2755\n",
      "                            L-> 1 : 2/2\n",
      "                            R-> 2 : 8/10\n",
      "                R-> Feature 18, Threshold 1.175\n",
      "                    L-> Feature 6, Threshold 0.5\n",
      "                        L-> 2 : 92/93\n",
      "                        R-> Feature 39, Threshold 7.898\n",
      "                            L-> Feature 2, Threshold 3.6863\n",
      "                                L-> 2 : 1/1\n",
      "                                R-> 1 : 2/2\n",
      "                            R-> 2 : 2/2\n",
      "                    R-> 1 : 3/3\n",
      "            R-> 1 : 13/15\n",
      "        R-> 1 : 29/34\n",
      "    R-> Feature 30, Threshold 5.1245\n",
      "        L-> Feature 8, Threshold 25.3\n",
      "            L-> 2 : 2/2\n",
      "            R-> Feature 28, Threshold -0.0015\n",
      "                L-> Feature 28, Threshold -0.006500000000000001\n",
      "                    L-> 1 : 14/14\n",
      "                    R-> Feature 18, Threshold 1.1284999999999998\n",
      "                        L-> Feature 39, Threshold 8.038\n",
      "                            L-> 1 : 1/1\n",
      "                            R-> 2 : 2/2\n",
      "                        R-> 1 : 3/3\n",
      "                R-> 1 : 50/50\n",
      "        R-> Feature 11, Threshold 0.5\n",
      "            L-> Feature 1, Threshold 5.097\n",
      "                L-> Feature 2, Threshold 2.4012000000000002\n",
      "                    L-> Feature 32, Threshold 0.5\n",
      "                        L-> Feature 17, Threshold 0.991\n",
      "                            L-> Feature 9, Threshold 2.5\n",
      "                                L-> 1 : 2/2\n",
      "                                R-> 2 : 1/1\n",
      "                            R-> 2 : 7/7\n",
      "                        R-> 1 : 4/4\n",
      "                    R-> 2 : 27/27\n",
      "                R-> 1 : 12/14\n",
      "            R-> Feature 17, Threshold 1.0225\n",
      "                L-> 1 : 19/19\n",
      "                R-> Feature 36, Threshold 3.7555\n",
      "                    L-> 2 : 3/3\n",
      "                    R-> 1 : 4/5\n",
      "R-> Feature 12, Threshold -0.5695\n",
      "    L-> Feature 22, Threshold 1.2275\n",
      "        L-> Feature 15, Threshold 10.858\n",
      "            L-> 2 : 8/9\n",
      "            R-> 1 : 6/7\n",
      "        R-> 1 : 26/28\n",
      "    R-> Feature 27, Threshold 2.3585000000000003\n",
      "        L-> Feature 17, Threshold 0.9935\n",
      "            L-> Feature 17, Threshold 0.9915\n",
      "                L-> Feature 22, Threshold 1.354\n",
      "                    L-> 1 : 14/15\n",
      "                    R-> Feature 37, Threshold 1.9740000000000002\n",
      "                        L-> 1 : 4/4\n",
      "                        R-> Feature 22, Threshold 1.3975\n",
      "                            L-> 2 : 3/3\n",
      "                            R-> Feature 27, Threshold 2.3455000000000004\n",
      "                                L-> 1 : 2/2\n",
      "                                R-> 2 : 1/1\n",
      "                R-> 2 : 3/3\n",
      "            R-> Feature 18, Threshold 1.1185\n",
      "                L-> Feature 22, Threshold 1.274\n",
      "                    L-> 2 : 3/3\n",
      "                    R-> Feature 18, Threshold 1.1035\n",
      "                        L-> Feature 39, Threshold 8.783\n",
      "                            L-> 2 : 1/1\n",
      "                            R-> Feature 2, Threshold 3.5501\n",
      "                                L-> 1 : 23/23\n",
      "                                R-> Feature 18, Threshold 1.092\n",
      "                                    L-> 1 : 1/1\n",
      "                                    R-> 2 : 1/1\n",
      "                        R-> 1 : 25/25\n",
      "                R-> 1 : 72/72\n",
      "        R-> 1 : 118/118\n"
     ]
    },
    {
     "data": {
      "text/plain": [
       "\u001b[34mMachine{DecisionTreeClassifier} @011\u001b[39m trained 1 time.\n",
       "  args: \n",
       "    1:\t\u001b[34mSource @172\u001b[39m ⏎ `Table{Union{AbstractArray{Continuous,1}, AbstractArray{Count,1}}}`\n",
       "    2:\t\u001b[34mSource @955\u001b[39m ⏎ `AbstractArray{Multiclass{2},1}`\n"
      ]
     },
     "execution_count": 24,
     "metadata": {},
     "output_type": "execute_result"
    }
   ],
   "source": [
    "fit!(Tree2, rows=train, verbosity=2, force=true)"
   ]
  },
  {
   "cell_type": "code",
   "execution_count": 25,
   "metadata": {},
   "outputs": [
    {
     "name": "stderr",
     "output_type": "stream",
     "text": [
      "\u001b[33mEvaluating over 6 folds: 100%[=========================] Time: 0:00:00\u001b[39m\n"
     ]
    },
    {
     "data": {
      "text/plain": [
       "┌\u001b[0m───────────────\u001b[0m┬\u001b[0m───────────────\u001b[0m┬\u001b[0m───────────────────────────────────────────\u001b[0m┐\u001b[0m\n",
       "│\u001b[0m\u001b[22m _.measure     \u001b[0m│\u001b[0m\u001b[22m _.measurement \u001b[0m│\u001b[0m\u001b[22m _.per_fold                                \u001b[0m│\u001b[0m\n",
       "├\u001b[0m───────────────\u001b[0m┼\u001b[0m───────────────\u001b[0m┼\u001b[0m───────────────────────────────────────────\u001b[0m┤\u001b[0m\n",
       "│\u001b[0m cross_entropy \u001b[0m│\u001b[0m 4.35          \u001b[0m│\u001b[0m [4.09, 3.8, 5.28, 3.31, 3.99, 5.61]       \u001b[0m│\u001b[0m\n",
       "│\u001b[0m acc           \u001b[0m│\u001b[0m 0.83          \u001b[0m│\u001b[0m [0.824, 0.841, 0.812, 0.83, 0.847, 0.829] \u001b[0m│\u001b[0m\n",
       "└\u001b[0m───────────────\u001b[0m┴\u001b[0m───────────────\u001b[0m┴\u001b[0m───────────────────────────────────────────\u001b[0m┘\u001b[0m\n",
       "_.per_observation = [[[2.22e-16, 0.0684, ..., 2.22e-16], [2.22e-16, 0.0299, ..., 2.22e-16], [0.0117, 0.0117, ..., 2.22e-16], [0.08, 36.0, ..., 2.22e-16], [2.22e-16, 1.85, ..., 36.0], [36.0, 2.22e-16, ..., 36.0]], missing]\n",
       "_.fitted_params_per_fold = [ … ]\n",
       "_.report_per_fold = [ … ]\n"
      ]
     },
     "execution_count": 25,
     "metadata": {},
     "output_type": "execute_result"
    }
   ],
   "source": [
    "dt_acc = evaluate!(Tree2, resampling=CV(shuffle=true), measure=[cross_entropy, acc], verbosity=1)"
   ]
  },
  {
   "cell_type": "code",
   "execution_count": 26,
   "metadata": {},
   "outputs": [],
   "source": [
    "# evaluate!(Tree2, resampling=CV(shuffle=true), measure=[tnr,tpr,fnr,fpr], verbosity=1, operation=predict_mode)"
   ]
  },
  {
   "cell_type": "code",
   "execution_count": 27,
   "metadata": {},
   "outputs": [
    {
     "data": {
      "text/plain": [
       "(tree = Decision Tree\n",
       "Leaves: 73\n",
       "Depth:  14,\n",
       " encoding = Dict{CategoricalValue{String,UInt32},UInt32}(\"RB\" => 0x00000002,\"NRB\" => 0x00000001),)"
      ]
     },
     "execution_count": 27,
     "metadata": {},
     "output_type": "execute_result"
    }
   ],
   "source": [
    "fitted_params(Tree2) \n",
    "# print_tree(Tree.fitresult[1])"
   ]
  },
  {
   "cell_type": "code",
   "execution_count": 28,
   "metadata": {
    "scrolled": false
   },
   "outputs": [
    {
     "data": {
      "text/plain": [
       "(classes_seen = CategoricalValue{String,UInt32}[\"NRB\", \"RB\"],\n",
       " print_tree = TreePrinter object (call with display depth),)"
      ]
     },
     "execution_count": 28,
     "metadata": {},
     "output_type": "execute_result"
    }
   ],
   "source": [
    "report(Tree2)"
   ]
  },
  {
   "cell_type": "markdown",
   "metadata": {},
   "source": [
    "### Standardized"
   ]
  },
  {
   "cell_type": "code",
   "execution_count": 29,
   "metadata": {},
   "outputs": [
    {
     "data": {
      "text/plain": [
       "\u001b[34mMachine{DecisionTreeClassifier} @317\u001b[39m trained 0 times.\n",
       "  args: \n",
       "    1:\t\u001b[34mSource @685\u001b[39m ⏎ `Table{Union{AbstractArray{Continuous,1}, AbstractArray{Count,1}}}`\n",
       "    2:\t\u001b[34mSource @389\u001b[39m ⏎ `AbstractArray{Multiclass{2},1}`\n"
      ]
     },
     "execution_count": 29,
     "metadata": {},
     "output_type": "execute_result"
    }
   ],
   "source": [
    "Tree2 = machine(dt2, X_stand, y)"
   ]
  },
  {
   "cell_type": "code",
   "execution_count": 30,
   "metadata": {
    "scrolled": true
   },
   "outputs": [
    {
     "name": "stdout",
     "output_type": "stream",
     "text": [
      "Feature 36, Threshold -0.12825137807558387\n",
      "L-> Feature 27, Threshold 0.07521584446798363\n",
      "    L-> Feature 34, Threshold 2.5\n",
      "        L-> Feature 9, Threshold 3.5\n",
      "            L-> Feature 10, Threshold 1.5\n",
      "                L-> Feature 36, Threshold -0.3354530367869534\n",
      "                    L-> Feature 9, Threshold 1.5\n",
      "                        L-> Feature 18, Threshold 1.3981920479364356\n",
      "                            L-> Feature 37, Threshold -0.7153635819025519\n",
      "                                L-> Feature 27, Threshold -0.350236603546389\n",
      "                                    L-> Feature 17, Threshold -0.8631916476700161\n",
      "                                        L-> Feature 28, Threshold -0.21039206558781268\n",
      "                                            L-> 2 : 3/3\n",
      "                                            R-> Feature 13, Threshold -1.5241871872903379\n",
      "                                                L-> 2 : 1/1\n",
      "                                                R-> Feature 22, Threshold -0.3134951059147333\n",
      "                                                    L-> 1 : 5/5\n",
      "                                                    R-> \n",
      "                                        R-> 1 : 4/4\n",
      "                                    R-> 2 : 3/3\n",
      "                                R-> Feature 2, Threshold 0.09920996622787498\n",
      "                                    L-> Feature 22, Threshold -1.3019024426530696\n",
      "                                        L-> Feature 35, Threshold 1.0\n",
      "                                            L-> 2 : 1/1\n",
      "                                            R-> 1 : 1/1\n",
      "                                        R-> 2 : 18/18\n",
      "                                    R-> Feature 35, Threshold 0.5\n",
      "                                        L-> 1 : 3/4\n",
      "                                        R-> 2 : 3/3\n",
      "                            R-> 1 : 5/5\n",
      "                        R-> Feature 13, Threshold -0.5835482182119496\n",
      "                            L-> 2 : 26/26\n",
      "                            R-> Feature 31, Threshold 0.23511275815156535\n",
      "                                L-> 1 : 1/1\n",
      "                                R-> Feature 13, Threshold 0.39303873694586733\n",
      "                                    L-> 2 : 9/9\n",
      "                                    R-> Feature 22, Threshold -0.21053600833782443\n",
      "                                        L-> 2 : 1/1\n",
      "                                        R-> 1 : 1/1\n",
      "                    R-> Feature 16, Threshold 1.5\n",
      "                        L-> 1 : 15/17\n",
      "                        R-> Feature 31, Threshold -0.16890426090011532\n",
      "                            L-> 2 : 8/10\n",
      "                            R-> 1 : 2/2\n",
      "                R-> Feature 18, Threshold 1.4144372970213754\n",
      "                    L-> Feature 6, Threshold 0.5\n",
      "                        L-> 2 : 92/93\n",
      "                        R-> Feature 2, Threshold 0.7043605695590951\n",
      "                            L-> 2 : 2/2\n",
      "                            R-> Feature 39, Threshold -0.618101225111293\n",
      "                                L-> 1 : 2/2\n",
      "                                R-> 2 : 1/1\n",
      "                    R-> 1 : 3/3\n",
      "            R-> 1 : 13/15\n",
      "        R-> 1 : 29/34\n",
      "    R-> Feature 30, Threshold -0.3357589809933843\n",
      "        L-> Feature 18, Threshold 0.8458535790485455\n",
      "            L-> Feature 28, Threshold -0.0009349274458750583\n",
      "                L-> Feature 28, Threshold -0.03173744776086588\n",
      "                    L-> 1 : 14/14\n",
      "                    R-> Feature 22, Threshold 0.005678096573686661\n",
      "                        L-> 1 : 3/3\n",
      "                        R-> Feature 22, Threshold 0.40207062224478973\n",
      "                            L-> 2 : 2/2\n",
      "                            R-> 1 : 1/1\n",
      "                R-> 1 : 50/50\n",
      "            R-> 2 : 2/2\n",
      "        R-> Feature 38, Threshold 0.5\n",
      "            L-> Feature 1, Threshold 0.5495250770015527\n",
      "                L-> Feature 2, Threshold -0.8154343109196046\n",
      "                    L-> Feature 13, Threshold 0.2518145059195397\n",
      "                        L-> 1 : 4/4\n",
      "                        R-> 2 : 8/10\n",
      "                    R-> 2 : 27/27\n",
      "                R-> 1 : 12/14\n",
      "            R-> Feature 17, Threshold 0.15868787400437176\n",
      "                L-> 1 : 19/19\n",
      "                R-> Feature 36, Threshold -0.17340428191099122\n",
      "                    L-> 2 : 3/3\n",
      "                    R-> 1 : 4/5\n",
      "R-> Feature 12, Threshold -0.41462228207904994\n",
      "    L-> Feature 22, Threshold -0.11272486563975931\n",
      "        L-> Feature 39, Threshold 0.3158111741421764\n",
      "            L-> 2 : 8/9\n",
      "            R-> 1 : 6/7\n",
      "        R-> 1 : 26/28\n",
      "    R-> Feature 27, Threshold 0.6120432788735517\n",
      "        L-> Feature 17, Threshold -0.4586976703405704\n",
      "            L-> Feature 17, Threshold -0.50127598374367\n",
      "                L-> Feature 37, Threshold -0.9385176382358512\n",
      "                    L-> 1 : 14/15\n",
      "                    R-> Feature 22, Threshold 1.189707718708151\n",
      "                        L-> 1 : 4/4\n",
      "                        R-> Feature 22, Threshold 1.637579793167709\n",
      "                            L-> 2 : 3/3\n",
      "                            R-> Feature 9, Threshold 5.0\n",
      "                                L-> 1 : 2/2\n",
      "                                R-> 2 : 1/1\n",
      "                R-> 2 : 3/3\n",
      "            R-> Feature 18, Threshold -0.4212758495766108\n",
      "                L-> Feature 1, Threshold 0.907077745694193\n",
      "                    L-> Feature 18, Threshold -0.9086333221247491\n",
      "                        L-> Feature 39, Threshold 0.10374372977020904\n",
      "                            L-> 2 : 1/1\n",
      "                            R-> Feature 2, Threshold 0.5432866743593447\n",
      "                                L-> 1 : 23/23\n",
      "                                R-> Feature 28, Threshold 0.09763313756209557\n",
      "                                    L-> 1 : 1/1\n",
      "                                    R-> 2 : 1/1\n",
      "                        R-> 1 : 25/25\n",
      "                    R-> 2 : 3/3\n",
      "                R-> 1 : 72/72\n",
      "        R-> 1 : 118/118\n"
     ]
    },
    {
     "name": "stderr",
     "output_type": "stream",
     "text": [
      "┌ Info: Training \u001b[34mMachine{DecisionTreeClassifier} @317\u001b[39m.\n",
      "└ @ MLJBase /home/andrew/.julia/packages/MLJBase/uKzAz/src/machines.jl:319\n"
     ]
    },
    {
     "data": {
      "text/plain": [
       "\u001b[34mMachine{DecisionTreeClassifier} @317\u001b[39m trained 1 time.\n",
       "  args: \n",
       "    1:\t\u001b[34mSource @685\u001b[39m ⏎ `Table{Union{AbstractArray{Continuous,1}, AbstractArray{Count,1}}}`\n",
       "    2:\t\u001b[34mSource @389\u001b[39m ⏎ `AbstractArray{Multiclass{2},1}`\n"
      ]
     },
     "execution_count": 30,
     "metadata": {},
     "output_type": "execute_result"
    }
   ],
   "source": [
    "fit!(Tree2, rows=train, verbosity=2)"
   ]
  },
  {
   "cell_type": "code",
   "execution_count": 31,
   "metadata": {},
   "outputs": [
    {
     "name": "stderr",
     "output_type": "stream",
     "text": [
      "\u001b[33mEvaluating over 6 folds: 100%[=========================] Time: 0:00:00\u001b[39m\n"
     ]
    },
    {
     "data": {
      "text/plain": [
       "┌\u001b[0m───────────────\u001b[0m┬\u001b[0m───────────────\u001b[0m┬\u001b[0m───────────────────────────────────────────\u001b[0m┐\u001b[0m\n",
       "│\u001b[0m\u001b[22m _.measure     \u001b[0m│\u001b[0m\u001b[22m _.measurement \u001b[0m│\u001b[0m\u001b[22m _.per_fold                                \u001b[0m│\u001b[0m\n",
       "├\u001b[0m───────────────\u001b[0m┼\u001b[0m───────────────\u001b[0m┼\u001b[0m───────────────────────────────────────────\u001b[0m┤\u001b[0m\n",
       "│\u001b[0m cross_entropy \u001b[0m│\u001b[0m 4.89          \u001b[0m│\u001b[0m [6.81, 3.17, 5.27, 5.28, 4.29, 4.53]      \u001b[0m│\u001b[0m\n",
       "│\u001b[0m acc           \u001b[0m│\u001b[0m 0.805         \u001b[0m│\u001b[0m [0.778, 0.869, 0.79, 0.784, 0.812, 0.794] \u001b[0m│\u001b[0m\n",
       "└\u001b[0m───────────────\u001b[0m┴\u001b[0m───────────────\u001b[0m┴\u001b[0m───────────────────────────────────────────\u001b[0m┘\u001b[0m\n",
       "_.per_observation = [[[2.22e-16, 2.22e-16, ..., 0.0229], [0.015, 0.087, ..., 0.00889], [0.251, 2.22e-16, ..., 36.0], [2.22e-16, 2.22e-16, ..., 36.0], [0.0339, 2.22e-16, ..., 36.0], [2.22e-16, 2.22e-16, ..., 2.22e-16]], missing]\n",
       "_.fitted_params_per_fold = [ … ]\n",
       "_.report_per_fold = [ … ]\n"
      ]
     },
     "execution_count": 31,
     "metadata": {},
     "output_type": "execute_result"
    }
   ],
   "source": [
    "dt_acc = evaluate!(Tree2, resampling=CV(nfolds=6, shuffle=true), measure=[cross_entropy, acc], verbosity=1)"
   ]
  },
  {
   "cell_type": "code",
   "execution_count": 32,
   "metadata": {},
   "outputs": [
    {
     "data": {
      "text/plain": [
       "(tree = Decision Tree\n",
       "Leaves: 79\n",
       "Depth:  13,\n",
       " encoding = Dict{CategoricalValue{String,UInt32},UInt32}(\"RB\" => 0x00000002,\"NRB\" => 0x00000001),)"
      ]
     },
     "execution_count": 32,
     "metadata": {},
     "output_type": "execute_result"
    }
   ],
   "source": [
    "fitted_params(Tree2) \n",
    "# print_tree(Tree.fitresult[1])"
   ]
  },
  {
   "cell_type": "code",
   "execution_count": 33,
   "metadata": {
    "scrolled": false
   },
   "outputs": [
    {
     "data": {
      "text/plain": [
       "(classes_seen = CategoricalValue{String,UInt32}[\"NRB\", \"RB\"],\n",
       " print_tree = TreePrinter object (call with display depth),)"
      ]
     },
     "execution_count": 33,
     "metadata": {},
     "output_type": "execute_result"
    }
   ],
   "source": [
    "report(Tree2)"
   ]
  },
  {
   "cell_type": "markdown",
   "metadata": {},
   "source": [
    "### GridSearch / RandomSearch"
   ]
  },
  {
   "cell_type": "code",
   "execution_count": 34,
   "metadata": {},
   "outputs": [
    {
     "data": {
      "text/plain": [
       "\u001b[34mMachine{DecisionTreeClassifier} @314\u001b[39m trained 0 times.\n",
       "  args: \n",
       "    1:\t\u001b[34mSource @544\u001b[39m ⏎ `Table{Union{AbstractArray{Continuous,1}, AbstractArray{Count,1}}}`\n",
       "    2:\t\u001b[34mSource @917\u001b[39m ⏎ `AbstractArray{Multiclass{2},1}`\n"
      ]
     },
     "execution_count": 34,
     "metadata": {},
     "output_type": "execute_result"
    }
   ],
   "source": [
    "dt = DecisionTreeClassifier(post_prune=true, display_depth=14)\n",
    "Tree = machine(dt, X_stand, y)"
   ]
  },
  {
   "cell_type": "code",
   "execution_count": 35,
   "metadata": {},
   "outputs": [
    {
     "name": "stderr",
     "output_type": "stream",
     "text": [
      "┌ Info: Training \u001b[34mMachine{ProbabilisticTunedModel{Grid,…}} @658\u001b[39m.\n",
      "└ @ MLJBase /home/andrew/.julia/packages/MLJBase/uKzAz/src/machines.jl:319\n",
      "┌ Info: Attempting to evaluate 1000 models.\n",
      "└ @ MLJTuning /home/andrew/.julia/packages/MLJTuning/Bbgvk/src/tuned_models.jl:494\n",
      "\u001b[33mEvaluating over 1000 metamodels: 100%[=========================] Time: 0:01:06\u001b[39m\n"
     ]
    },
    {
     "data": {
      "text/plain": [
       "(parameter_name = \"merge_purity_threshold\",\n",
       " parameter_scale = :linear,\n",
       " parameter_values = [0.50001, 0.5005104904904905, 0.501010980980981, 0.5015114714714715, 0.502011961961962, 0.5025124524524525, 0.503012942942943, 0.5035134334334335, 0.504013923923924, 0.5045144144144145  …  0.9954955855855856, 0.9959960760760761, 0.9964965665665666, 0.9969970570570571, 0.9974975475475476, 0.997998038038038, 0.9984985285285285, 0.998999019019019, 0.9994995095095095, 1.0],\n",
       " measurements = [2.283345137740369, 2.569099623480398, 2.0674293413945146, 1.6852806731915662, 2.151568742968663, 1.9030002579532719, 2.357952889422476, 2.205616232405042, 2.240772805589149, 1.9335963501748907  …  6.456650983730165, 7.141831472669388, 6.765401542793868, 6.491953479744397, 6.186323583311785, 6.28423437336231, 6.218310375280482, 6.013516890115043, 7.140856265597172, 5.9774342284430375],)"
      ]
     },
     "execution_count": 35,
     "metadata": {},
     "output_type": "execute_result"
    }
   ],
   "source": [
    "r = range(dt, :merge_purity_threshold, lower=0.50001, upper=1)\n",
    "curve = learning_curve(Tree, \n",
    "                        range=r, \n",
    "#                         resampling=Holdout(fraction_train=0.7), \n",
    "                        resampling=CV(nfolds=6, shuffle=true), \n",
    "                        measure=cross_entropy, \n",
    "                        acceleration=CPUThreads(),\n",
    "                        resolution = 1000)"
   ]
  },
  {
   "cell_type": "code",
   "execution_count": 36,
   "metadata": {},
   "outputs": [
    {
     "data": {
      "image/svg+xml": [
       "<?xml version=\"1.0\" encoding=\"utf-8\"?>\n",
       "<svg xmlns=\"http://www.w3.org/2000/svg\" xmlns:xlink=\"http://www.w3.org/1999/xlink\" width=\"600\" height=\"400\" viewBox=\"0 0 2400 1600\">\n",
       "<defs>\n",
       "  <clipPath id=\"clip280\">\n",
       "    <rect x=\"0\" y=\"0\" width=\"2400\" height=\"1600\"/>\n",
       "  </clipPath>\n",
       "</defs>\n",
       "<path clip-path=\"url(#clip280)\" d=\"\n",
       "M0 1600 L2400 1600 L2400 0 L0 0  Z\n",
       "  \" fill=\"#ffffff\" fill-rule=\"evenodd\" fill-opacity=\"1\"/>\n",
       "<defs>\n",
       "  <clipPath id=\"clip281\">\n",
       "    <rect x=\"480\" y=\"0\" width=\"1681\" height=\"1600\"/>\n",
       "  </clipPath>\n",
       "</defs>\n",
       "<path clip-path=\"url(#clip280)\" d=\"\n",
       "M175.445 1423.18 L2352.76 1423.18 L2352.76 47.2441 L175.445 47.2441  Z\n",
       "  \" fill=\"#ffffff\" fill-rule=\"evenodd\" fill-opacity=\"1\"/>\n",
       "<defs>\n",
       "  <clipPath id=\"clip282\">\n",
       "    <rect x=\"175\" y=\"47\" width=\"2178\" height=\"1377\"/>\n",
       "  </clipPath>\n",
       "</defs>\n",
       "<polyline clip-path=\"url(#clip282)\" style=\"stroke:#000000; stroke-width:2; stroke-opacity:0.1; fill:none\" points=\"\n",
       "  237.026,1423.18 237.026,47.2441 \n",
       "  \"/>\n",
       "<polyline clip-path=\"url(#clip282)\" style=\"stroke:#000000; stroke-width:2; stroke-opacity:0.1; fill:none\" points=\"\n",
       "  647.848,1423.18 647.848,47.2441 \n",
       "  \"/>\n",
       "<polyline clip-path=\"url(#clip282)\" style=\"stroke:#000000; stroke-width:2; stroke-opacity:0.1; fill:none\" points=\"\n",
       "  1058.67,1423.18 1058.67,47.2441 \n",
       "  \"/>\n",
       "<polyline clip-path=\"url(#clip282)\" style=\"stroke:#000000; stroke-width:2; stroke-opacity:0.1; fill:none\" points=\"\n",
       "  1469.49,1423.18 1469.49,47.2441 \n",
       "  \"/>\n",
       "<polyline clip-path=\"url(#clip282)\" style=\"stroke:#000000; stroke-width:2; stroke-opacity:0.1; fill:none\" points=\"\n",
       "  1880.31,1423.18 1880.31,47.2441 \n",
       "  \"/>\n",
       "<polyline clip-path=\"url(#clip282)\" style=\"stroke:#000000; stroke-width:2; stroke-opacity:0.1; fill:none\" points=\"\n",
       "  2291.13,1423.18 2291.13,47.2441 \n",
       "  \"/>\n",
       "<polyline clip-path=\"url(#clip282)\" style=\"stroke:#000000; stroke-width:2; stroke-opacity:0.1; fill:none\" points=\"\n",
       "  175.445,1251.64 2352.76,1251.64 \n",
       "  \"/>\n",
       "<polyline clip-path=\"url(#clip282)\" style=\"stroke:#000000; stroke-width:2; stroke-opacity:0.1; fill:none\" points=\"\n",
       "  175.445,1033.54 2352.76,1033.54 \n",
       "  \"/>\n",
       "<polyline clip-path=\"url(#clip282)\" style=\"stroke:#000000; stroke-width:2; stroke-opacity:0.1; fill:none\" points=\"\n",
       "  175.445,815.429 2352.76,815.429 \n",
       "  \"/>\n",
       "<polyline clip-path=\"url(#clip282)\" style=\"stroke:#000000; stroke-width:2; stroke-opacity:0.1; fill:none\" points=\"\n",
       "  175.445,597.322 2352.76,597.322 \n",
       "  \"/>\n",
       "<polyline clip-path=\"url(#clip282)\" style=\"stroke:#000000; stroke-width:2; stroke-opacity:0.1; fill:none\" points=\"\n",
       "  175.445,379.214 2352.76,379.214 \n",
       "  \"/>\n",
       "<polyline clip-path=\"url(#clip282)\" style=\"stroke:#000000; stroke-width:2; stroke-opacity:0.1; fill:none\" points=\"\n",
       "  175.445,161.107 2352.76,161.107 \n",
       "  \"/>\n",
       "<polyline clip-path=\"url(#clip280)\" style=\"stroke:#000000; stroke-width:4; stroke-opacity:1; fill:none\" points=\"\n",
       "  175.445,1423.18 2352.76,1423.18 \n",
       "  \"/>\n",
       "<polyline clip-path=\"url(#clip280)\" style=\"stroke:#000000; stroke-width:4; stroke-opacity:1; fill:none\" points=\"\n",
       "  175.445,1423.18 175.445,47.2441 \n",
       "  \"/>\n",
       "<polyline clip-path=\"url(#clip280)\" style=\"stroke:#000000; stroke-width:4; stroke-opacity:1; fill:none\" points=\"\n",
       "  237.026,1423.18 237.026,1406.67 \n",
       "  \"/>\n",
       "<polyline clip-path=\"url(#clip280)\" style=\"stroke:#000000; stroke-width:4; stroke-opacity:1; fill:none\" points=\"\n",
       "  647.848,1423.18 647.848,1406.67 \n",
       "  \"/>\n",
       "<polyline clip-path=\"url(#clip280)\" style=\"stroke:#000000; stroke-width:4; stroke-opacity:1; fill:none\" points=\"\n",
       "  1058.67,1423.18 1058.67,1406.67 \n",
       "  \"/>\n",
       "<polyline clip-path=\"url(#clip280)\" style=\"stroke:#000000; stroke-width:4; stroke-opacity:1; fill:none\" points=\"\n",
       "  1469.49,1423.18 1469.49,1406.67 \n",
       "  \"/>\n",
       "<polyline clip-path=\"url(#clip280)\" style=\"stroke:#000000; stroke-width:4; stroke-opacity:1; fill:none\" points=\"\n",
       "  1880.31,1423.18 1880.31,1406.67 \n",
       "  \"/>\n",
       "<polyline clip-path=\"url(#clip280)\" style=\"stroke:#000000; stroke-width:4; stroke-opacity:1; fill:none\" points=\"\n",
       "  2291.13,1423.18 2291.13,1406.67 \n",
       "  \"/>\n",
       "<polyline clip-path=\"url(#clip280)\" style=\"stroke:#000000; stroke-width:4; stroke-opacity:1; fill:none\" points=\"\n",
       "  175.445,1251.64 201.573,1251.64 \n",
       "  \"/>\n",
       "<polyline clip-path=\"url(#clip280)\" style=\"stroke:#000000; stroke-width:4; stroke-opacity:1; fill:none\" points=\"\n",
       "  175.445,1033.54 201.573,1033.54 \n",
       "  \"/>\n",
       "<polyline clip-path=\"url(#clip280)\" style=\"stroke:#000000; stroke-width:4; stroke-opacity:1; fill:none\" points=\"\n",
       "  175.445,815.429 201.573,815.429 \n",
       "  \"/>\n",
       "<polyline clip-path=\"url(#clip280)\" style=\"stroke:#000000; stroke-width:4; stroke-opacity:1; fill:none\" points=\"\n",
       "  175.445,597.322 201.573,597.322 \n",
       "  \"/>\n",
       "<polyline clip-path=\"url(#clip280)\" style=\"stroke:#000000; stroke-width:4; stroke-opacity:1; fill:none\" points=\"\n",
       "  175.445,379.214 201.573,379.214 \n",
       "  \"/>\n",
       "<polyline clip-path=\"url(#clip280)\" style=\"stroke:#000000; stroke-width:4; stroke-opacity:1; fill:none\" points=\"\n",
       "  175.445,161.107 201.573,161.107 \n",
       "  \"/>\n",
       "<path clip-path=\"url(#clip280)\" d=\"M 0 0 M219.04 1445.17 Q215.429 1445.17 213.6 1448.74 Q211.795 1452.28 211.795 1459.41 Q211.795 1466.51 213.6 1470.08 Q215.429 1473.62 219.04 1473.62 Q222.674 1473.62 224.48 1470.08 Q226.309 1466.51 226.309 1459.41 Q226.309 1452.28 224.48 1448.74 Q222.674 1445.17 219.04 1445.17 M219.04 1441.47 Q224.85 1441.47 227.906 1446.07 Q230.984 1450.66 230.984 1459.41 Q230.984 1468.13 227.906 1472.74 Q224.85 1477.32 219.04 1477.32 Q213.23 1477.32 210.151 1472.74 Q207.096 1468.13 207.096 1459.41 Q207.096 1450.66 210.151 1446.07 Q213.23 1441.47 219.04 1441.47 Z\" fill=\"#000000\" fill-rule=\"evenodd\" fill-opacity=\"1\" /><path clip-path=\"url(#clip280)\" d=\"M 0 0 M236.054 1470.77 L240.938 1470.77 L240.938 1476.65 L236.054 1476.65 L236.054 1470.77 Z\" fill=\"#000000\" fill-rule=\"evenodd\" fill-opacity=\"1\" /><path clip-path=\"url(#clip280)\" d=\"M 0 0 M246.054 1442.09 L264.41 1442.09 L264.41 1446.03 L250.336 1446.03 L250.336 1454.5 Q251.355 1454.15 252.373 1453.99 Q253.392 1453.8 254.41 1453.8 Q260.197 1453.8 263.577 1456.98 Q266.957 1460.15 266.957 1465.56 Q266.957 1471.14 263.484 1474.24 Q260.012 1477.32 253.693 1477.32 Q251.517 1477.32 249.248 1476.95 Q247.003 1476.58 244.596 1475.84 L244.596 1471.14 Q246.679 1472.28 248.901 1472.83 Q251.123 1473.39 253.6 1473.39 Q257.605 1473.39 259.943 1471.28 Q262.281 1469.18 262.281 1465.56 Q262.281 1461.95 259.943 1459.85 Q257.605 1457.74 253.6 1457.74 Q251.725 1457.74 249.85 1458.16 Q247.998 1458.57 246.054 1459.45 L246.054 1442.09 Z\" fill=\"#000000\" fill-rule=\"evenodd\" fill-opacity=\"1\" /><path clip-path=\"url(#clip280)\" d=\"M 0 0 M629.283 1445.17 Q625.672 1445.17 623.843 1448.74 Q622.038 1452.28 622.038 1459.41 Q622.038 1466.51 623.843 1470.08 Q625.672 1473.62 629.283 1473.62 Q632.917 1473.62 634.723 1470.08 Q636.551 1466.51 636.551 1459.41 Q636.551 1452.28 634.723 1448.74 Q632.917 1445.17 629.283 1445.17 M629.283 1441.47 Q635.093 1441.47 638.149 1446.07 Q641.227 1450.66 641.227 1459.41 Q641.227 1468.13 638.149 1472.74 Q635.093 1477.32 629.283 1477.32 Q623.473 1477.32 620.394 1472.74 Q617.339 1468.13 617.339 1459.41 Q617.339 1450.66 620.394 1446.07 Q623.473 1441.47 629.283 1441.47 Z\" fill=\"#000000\" fill-rule=\"evenodd\" fill-opacity=\"1\" /><path clip-path=\"url(#clip280)\" d=\"M 0 0 M646.297 1470.77 L651.181 1470.77 L651.181 1476.65 L646.297 1476.65 L646.297 1470.77 Z\" fill=\"#000000\" fill-rule=\"evenodd\" fill-opacity=\"1\" /><path clip-path=\"url(#clip280)\" d=\"M 0 0 M666.829 1457.51 Q663.681 1457.51 661.829 1459.66 Q660 1461.81 660 1465.56 Q660 1469.29 661.829 1471.47 Q663.681 1473.62 666.829 1473.62 Q669.977 1473.62 671.806 1471.47 Q673.658 1469.29 673.658 1465.56 Q673.658 1461.81 671.806 1459.66 Q669.977 1457.51 666.829 1457.51 M676.111 1442.86 L676.111 1447.11 Q674.352 1446.28 672.547 1445.84 Q670.764 1445.4 669.005 1445.4 Q664.375 1445.4 661.922 1448.53 Q659.491 1451.65 659.144 1457.97 Q660.51 1455.96 662.57 1454.89 Q664.63 1453.8 667.107 1453.8 Q672.315 1453.8 675.324 1456.98 Q678.357 1460.12 678.357 1465.56 Q678.357 1470.89 675.209 1474.11 Q672.061 1477.32 666.829 1477.32 Q660.834 1477.32 657.662 1472.74 Q654.491 1468.13 654.491 1459.41 Q654.491 1451.21 658.38 1446.35 Q662.269 1441.47 668.82 1441.47 Q670.579 1441.47 672.361 1441.81 Q674.167 1442.16 676.111 1442.86 Z\" fill=\"#000000\" fill-rule=\"evenodd\" fill-opacity=\"1\" /><path clip-path=\"url(#clip280)\" d=\"M 0 0 M1040.64 1445.17 Q1037.03 1445.17 1035.2 1448.74 Q1033.39 1452.28 1033.39 1459.41 Q1033.39 1466.51 1035.2 1470.08 Q1037.03 1473.62 1040.64 1473.62 Q1044.27 1473.62 1046.08 1470.08 Q1047.91 1466.51 1047.91 1459.41 Q1047.91 1452.28 1046.08 1448.74 Q1044.27 1445.17 1040.64 1445.17 M1040.64 1441.47 Q1046.45 1441.47 1049.5 1446.07 Q1052.58 1450.66 1052.58 1459.41 Q1052.58 1468.13 1049.5 1472.74 Q1046.45 1477.32 1040.64 1477.32 Q1034.83 1477.32 1031.75 1472.74 Q1028.69 1468.13 1028.69 1459.41 Q1028.69 1450.66 1031.75 1446.07 Q1034.83 1441.47 1040.64 1441.47 Z\" fill=\"#000000\" fill-rule=\"evenodd\" fill-opacity=\"1\" /><path clip-path=\"url(#clip280)\" d=\"M 0 0 M1057.65 1470.77 L1062.53 1470.77 L1062.53 1476.65 L1057.65 1476.65 L1057.65 1470.77 Z\" fill=\"#000000\" fill-rule=\"evenodd\" fill-opacity=\"1\" /><path clip-path=\"url(#clip280)\" d=\"M 0 0 M1066.42 1442.09 L1088.65 1442.09 L1088.65 1444.08 L1076.1 1476.65 L1071.22 1476.65 L1083.02 1446.03 L1066.42 1446.03 L1066.42 1442.09 Z\" fill=\"#000000\" fill-rule=\"evenodd\" fill-opacity=\"1\" /><path clip-path=\"url(#clip280)\" d=\"M 0 0 M1451.05 1445.17 Q1447.44 1445.17 1445.61 1448.74 Q1443.81 1452.28 1443.81 1459.41 Q1443.81 1466.51 1445.61 1470.08 Q1447.44 1473.62 1451.05 1473.62 Q1454.69 1473.62 1456.49 1470.08 Q1458.32 1466.51 1458.32 1459.41 Q1458.32 1452.28 1456.49 1448.74 Q1454.69 1445.17 1451.05 1445.17 M1451.05 1441.47 Q1456.86 1441.47 1459.92 1446.07 Q1463 1450.66 1463 1459.41 Q1463 1468.13 1459.92 1472.74 Q1456.86 1477.32 1451.05 1477.32 Q1445.24 1477.32 1442.16 1472.74 Q1439.11 1468.13 1439.11 1459.41 Q1439.11 1450.66 1442.16 1446.07 Q1445.24 1441.47 1451.05 1441.47 Z\" fill=\"#000000\" fill-rule=\"evenodd\" fill-opacity=\"1\" /><path clip-path=\"url(#clip280)\" d=\"M 0 0 M1468.07 1470.77 L1472.95 1470.77 L1472.95 1476.65 L1468.07 1476.65 L1468.07 1470.77 Z\" fill=\"#000000\" fill-rule=\"evenodd\" fill-opacity=\"1\" /><path clip-path=\"url(#clip280)\" d=\"M 0 0 M1488.02 1460.24 Q1484.69 1460.24 1482.77 1462.02 Q1480.87 1463.8 1480.87 1466.93 Q1480.87 1470.05 1482.77 1471.84 Q1484.69 1473.62 1488.02 1473.62 Q1491.35 1473.62 1493.28 1471.84 Q1495.2 1470.03 1495.2 1466.93 Q1495.2 1463.8 1493.28 1462.02 Q1491.38 1460.24 1488.02 1460.24 M1483.34 1458.25 Q1480.34 1457.51 1478.65 1455.45 Q1476.98 1453.39 1476.98 1450.43 Q1476.98 1446.28 1479.92 1443.87 Q1482.88 1441.47 1488.02 1441.47 Q1493.18 1441.47 1496.12 1443.87 Q1499.06 1446.28 1499.06 1450.43 Q1499.06 1453.39 1497.37 1455.45 Q1495.71 1457.51 1492.72 1458.25 Q1496.1 1459.04 1497.97 1461.33 Q1499.87 1463.62 1499.87 1466.93 Q1499.87 1471.95 1496.79 1474.64 Q1493.74 1477.32 1488.02 1477.32 Q1482.3 1477.32 1479.22 1474.64 Q1476.17 1471.95 1476.17 1466.93 Q1476.17 1463.62 1478.07 1461.33 Q1479.97 1459.04 1483.34 1458.25 M1481.63 1450.86 Q1481.63 1453.55 1483.3 1455.05 Q1484.99 1456.56 1488.02 1456.56 Q1491.03 1456.56 1492.72 1455.05 Q1494.43 1453.55 1494.43 1450.86 Q1494.43 1448.18 1492.72 1446.68 Q1491.03 1445.17 1488.02 1445.17 Q1484.99 1445.17 1483.3 1446.68 Q1481.63 1448.18 1481.63 1450.86 Z\" fill=\"#000000\" fill-rule=\"evenodd\" fill-opacity=\"1\" /><path clip-path=\"url(#clip280)\" d=\"M 0 0 M1861.92 1445.17 Q1858.31 1445.17 1856.48 1448.74 Q1854.68 1452.28 1854.68 1459.41 Q1854.68 1466.51 1856.48 1470.08 Q1858.31 1473.62 1861.92 1473.62 Q1865.56 1473.62 1867.36 1470.08 Q1869.19 1466.51 1869.19 1459.41 Q1869.19 1452.28 1867.36 1448.74 Q1865.56 1445.17 1861.92 1445.17 M1861.92 1441.47 Q1867.73 1441.47 1870.79 1446.07 Q1873.87 1450.66 1873.87 1459.41 Q1873.87 1468.13 1870.79 1472.74 Q1867.73 1477.32 1861.92 1477.32 Q1856.11 1477.32 1853.03 1472.74 Q1849.98 1468.13 1849.98 1459.41 Q1849.98 1450.66 1853.03 1446.07 Q1856.11 1441.47 1861.92 1441.47 Z\" fill=\"#000000\" fill-rule=\"evenodd\" fill-opacity=\"1\" /><path clip-path=\"url(#clip280)\" d=\"M 0 0 M1878.94 1470.77 L1883.82 1470.77 L1883.82 1476.65 L1878.94 1476.65 L1878.94 1470.77 Z\" fill=\"#000000\" fill-rule=\"evenodd\" fill-opacity=\"1\" /><path clip-path=\"url(#clip280)\" d=\"M 0 0 M1889.03 1475.93 L1889.03 1471.68 Q1890.79 1472.51 1892.59 1472.95 Q1894.4 1473.39 1896.13 1473.39 Q1900.76 1473.39 1903.19 1470.29 Q1905.65 1467.16 1906 1460.82 Q1904.65 1462.81 1902.59 1463.87 Q1900.53 1464.94 1898.03 1464.94 Q1892.85 1464.94 1889.81 1461.81 Q1886.81 1458.67 1886.81 1453.23 Q1886.81 1447.9 1889.95 1444.68 Q1893.1 1441.47 1898.33 1441.47 Q1904.33 1441.47 1907.48 1446.07 Q1910.65 1450.66 1910.65 1459.41 Q1910.65 1467.58 1906.76 1472.46 Q1902.89 1477.32 1896.34 1477.32 Q1894.58 1477.32 1892.78 1476.98 Q1890.97 1476.63 1889.03 1475.93 M1898.33 1461.28 Q1901.48 1461.28 1903.31 1459.13 Q1905.16 1456.98 1905.16 1453.23 Q1905.16 1449.5 1903.31 1447.35 Q1901.48 1445.17 1898.33 1445.17 Q1895.18 1445.17 1893.33 1447.35 Q1891.5 1449.5 1891.5 1453.23 Q1891.5 1456.98 1893.33 1459.13 Q1895.18 1461.28 1898.33 1461.28 Z\" fill=\"#000000\" fill-rule=\"evenodd\" fill-opacity=\"1\" /><path clip-path=\"url(#clip280)\" d=\"M 0 0 M2263.03 1472.72 L2270.67 1472.72 L2270.67 1446.35 L2262.36 1448.02 L2262.36 1443.76 L2270.62 1442.09 L2275.3 1442.09 L2275.3 1472.72 L2282.94 1472.72 L2282.94 1476.65 L2263.03 1476.65 L2263.03 1472.72 Z\" fill=\"#000000\" fill-rule=\"evenodd\" fill-opacity=\"1\" /><path clip-path=\"url(#clip280)\" d=\"M 0 0 M2288.01 1470.77 L2292.89 1470.77 L2292.89 1476.65 L2288.01 1476.65 L2288.01 1470.77 Z\" fill=\"#000000\" fill-rule=\"evenodd\" fill-opacity=\"1\" /><path clip-path=\"url(#clip280)\" d=\"M 0 0 M2307.96 1445.17 Q2304.35 1445.17 2302.52 1448.74 Q2300.72 1452.28 2300.72 1459.41 Q2300.72 1466.51 2302.52 1470.08 Q2304.35 1473.62 2307.96 1473.62 Q2311.6 1473.62 2313.4 1470.08 Q2315.23 1466.51 2315.23 1459.41 Q2315.23 1452.28 2313.4 1448.74 Q2311.6 1445.17 2307.96 1445.17 M2307.96 1441.47 Q2313.77 1441.47 2316.83 1446.07 Q2319.91 1450.66 2319.91 1459.41 Q2319.91 1468.13 2316.83 1472.74 Q2313.77 1477.32 2307.96 1477.32 Q2302.15 1477.32 2299.07 1472.74 Q2296.02 1468.13 2296.02 1459.41 Q2296.02 1450.66 2299.07 1446.07 Q2302.15 1441.47 2307.96 1441.47 Z\" fill=\"#000000\" fill-rule=\"evenodd\" fill-opacity=\"1\" /><path clip-path=\"url(#clip280)\" d=\"M 0 0 M135.126 1264.99 L151.445 1264.99 L151.445 1268.92 L129.501 1268.92 L129.501 1264.99 Q132.163 1262.23 136.746 1257.6 Q141.353 1252.95 142.533 1251.61 Q144.779 1249.09 145.658 1247.35 Q146.561 1245.59 146.561 1243.9 Q146.561 1241.15 144.617 1239.41 Q142.695 1237.67 139.593 1237.67 Q137.394 1237.67 134.941 1238.44 Q132.51 1239.2 129.732 1240.75 L129.732 1236.03 Q132.556 1234.9 135.01 1234.32 Q137.464 1233.74 139.501 1233.74 Q144.871 1233.74 148.066 1236.42 Q151.26 1239.11 151.26 1243.6 Q151.26 1245.73 150.45 1247.65 Q149.663 1249.55 147.556 1252.14 Q146.978 1252.81 143.876 1256.03 Q140.774 1259.23 135.126 1264.99 Z\" fill=\"#000000\" fill-rule=\"evenodd\" fill-opacity=\"1\" /><path clip-path=\"url(#clip280)\" d=\"M 0 0 M144.316 1032.18 Q147.672 1032.9 149.547 1035.17 Q151.445 1037.44 151.445 1040.77 Q151.445 1045.89 147.927 1048.69 Q144.408 1051.49 137.927 1051.49 Q135.751 1051.49 133.436 1051.05 Q131.144 1050.63 128.691 1049.78 L128.691 1045.26 Q130.635 1046.4 132.95 1046.97 Q135.265 1047.55 137.788 1047.55 Q142.186 1047.55 144.478 1045.82 Q146.792 1044.08 146.792 1040.77 Q146.792 1037.71 144.64 1036 Q142.51 1034.27 138.691 1034.27 L134.663 1034.27 L134.663 1030.42 L138.876 1030.42 Q142.325 1030.42 144.154 1029.06 Q145.982 1027.67 145.982 1025.08 Q145.982 1022.41 144.084 1021 Q142.209 1019.57 138.691 1019.57 Q136.769 1019.57 134.57 1019.98 Q132.371 1020.4 129.732 1021.28 L129.732 1017.11 Q132.394 1016.37 134.709 1016 Q137.047 1015.63 139.107 1015.63 Q144.431 1015.63 147.533 1018.06 Q150.635 1020.47 150.635 1024.59 Q150.635 1027.46 148.992 1029.45 Q147.348 1031.42 144.316 1032.18 Z\" fill=\"#000000\" fill-rule=\"evenodd\" fill-opacity=\"1\" /><path clip-path=\"url(#clip280)\" d=\"M 0 0 M141.862 802.223 L130.056 820.672 L141.862 820.672 L141.862 802.223 M140.635 798.149 L146.515 798.149 L146.515 820.672 L151.445 820.672 L151.445 824.561 L146.515 824.561 L146.515 832.709 L141.862 832.709 L141.862 824.561 L126.26 824.561 L126.26 820.047 L140.635 798.149 Z\" fill=\"#000000\" fill-rule=\"evenodd\" fill-opacity=\"1\" /><path clip-path=\"url(#clip280)\" d=\"M 0 0 M130.543 580.042 L148.899 580.042 L148.899 583.977 L134.825 583.977 L134.825 592.449 Q135.843 592.102 136.862 591.94 Q137.88 591.755 138.899 591.755 Q144.686 591.755 148.066 594.926 Q151.445 598.097 151.445 603.514 Q151.445 609.092 147.973 612.194 Q144.501 615.273 138.181 615.273 Q136.005 615.273 133.737 614.903 Q131.492 614.532 129.084 613.791 L129.084 609.092 Q131.168 610.227 133.39 610.782 Q135.612 611.338 138.089 611.338 Q142.093 611.338 144.431 609.231 Q146.769 607.125 146.769 603.514 Q146.769 599.903 144.431 597.796 Q142.093 595.69 138.089 595.69 Q136.214 595.69 134.339 596.106 Q132.487 596.523 130.543 597.403 L130.543 580.042 Z\" fill=\"#000000\" fill-rule=\"evenodd\" fill-opacity=\"1\" /><path clip-path=\"url(#clip280)\" d=\"M 0 0 M139.917 377.351 Q136.769 377.351 134.918 379.503 Q133.089 381.656 133.089 385.406 Q133.089 389.133 134.918 391.309 Q136.769 393.462 139.917 393.462 Q143.066 393.462 144.894 391.309 Q146.746 389.133 146.746 385.406 Q146.746 381.656 144.894 379.503 Q143.066 377.351 139.917 377.351 M149.2 362.698 L149.2 366.957 Q147.441 366.124 145.635 365.684 Q143.853 365.244 142.093 365.244 Q137.464 365.244 135.01 368.369 Q132.58 371.494 132.232 377.814 Q133.598 375.8 135.658 374.735 Q137.718 373.647 140.195 373.647 Q145.404 373.647 148.413 376.818 Q151.445 379.966 151.445 385.406 Q151.445 390.73 148.297 393.948 Q145.149 397.165 139.917 397.165 Q133.922 397.165 130.751 392.582 Q127.58 387.976 127.58 379.249 Q127.58 371.054 131.468 366.193 Q135.357 361.309 141.908 361.309 Q143.667 361.309 145.45 361.656 Q147.255 362.004 149.2 362.698 Z\" fill=\"#000000\" fill-rule=\"evenodd\" fill-opacity=\"1\" /><path clip-path=\"url(#clip280)\" d=\"M 0 0 M129.223 143.827 L151.445 143.827 L151.445 145.817 L138.899 178.387 L134.015 178.387 L145.82 147.762 L129.223 147.762 L129.223 143.827 Z\" fill=\"#000000\" fill-rule=\"evenodd\" fill-opacity=\"1\" /><path clip-path=\"url(#clip280)\" d=\"M 0 0 M943.269 1527.24 Q945.465 1523.29 948.521 1521.41 Q951.576 1519.54 955.714 1519.54 Q961.284 1519.54 964.308 1523.45 Q967.331 1527.33 967.331 1534.53 L967.331 1556.04 L961.443 1556.04 L961.443 1534.72 Q961.443 1529.59 959.629 1527.11 Q957.815 1524.63 954.091 1524.63 Q949.539 1524.63 946.897 1527.65 Q944.256 1530.68 944.256 1535.9 L944.256 1556.04 L938.367 1556.04 L938.367 1534.72 Q938.367 1529.56 936.553 1527.11 Q934.739 1524.63 930.951 1524.63 Q926.463 1524.63 923.822 1527.68 Q921.18 1530.71 921.18 1535.9 L921.18 1556.04 L915.292 1556.04 L915.292 1520.4 L921.18 1520.4 L921.18 1525.93 Q923.185 1522.66 925.986 1521.1 Q928.787 1519.54 932.638 1519.54 Q936.521 1519.54 939.227 1521.51 Q941.964 1523.48 943.269 1527.24 Z\" fill=\"#000000\" fill-rule=\"evenodd\" fill-opacity=\"1\" /><path clip-path=\"url(#clip280)\" d=\"M 0 0 M1003.97 1536.76 L1003.97 1539.62 L977.039 1539.62 Q977.421 1545.67 980.667 1548.85 Q983.946 1552 989.77 1552 Q993.144 1552 996.295 1551.17 Q999.478 1550.35 1002.6 1548.69 L1002.6 1554.23 Q999.446 1555.57 996.136 1556.27 Q992.826 1556.97 989.42 1556.97 Q980.89 1556.97 975.893 1552 Q970.928 1547.04 970.928 1538.57 Q970.928 1529.82 975.639 1524.69 Q980.381 1519.54 988.402 1519.54 Q995.595 1519.54 999.765 1524.18 Q1003.97 1528.8 1003.97 1536.76 M998.11 1535.04 Q998.046 1530.23 995.404 1527.37 Q992.794 1524.5 988.465 1524.5 Q983.564 1524.5 980.604 1527.27 Q977.676 1530.04 977.23 1535.07 L998.11 1535.04 Z\" fill=\"#000000\" fill-rule=\"evenodd\" fill-opacity=\"1\" /><path clip-path=\"url(#clip280)\" d=\"M 0 0 M1030.77 1525.87 Q1029.78 1525.3 1028.6 1525.04 Q1027.46 1524.76 1026.05 1524.76 Q1021.09 1524.76 1018.42 1528 Q1015.77 1531.22 1015.77 1537.27 L1015.77 1556.04 L1009.89 1556.04 L1009.89 1520.4 L1015.77 1520.4 L1015.77 1525.93 Q1017.62 1522.69 1020.58 1521.13 Q1023.54 1519.54 1027.77 1519.54 Q1028.38 1519.54 1029.11 1519.63 Q1029.84 1519.7 1030.73 1519.85 L1030.77 1525.87 Z\" fill=\"#000000\" fill-rule=\"evenodd\" fill-opacity=\"1\" /><path clip-path=\"url(#clip280)\" d=\"M 0 0 M1059.22 1537.81 Q1059.22 1531.44 1056.58 1527.94 Q1053.97 1524.44 1049.23 1524.44 Q1044.52 1524.44 1041.87 1527.94 Q1039.26 1531.44 1039.26 1537.81 Q1039.26 1544.14 1041.87 1547.64 Q1044.52 1551.14 1049.23 1551.14 Q1053.97 1551.14 1056.58 1547.64 Q1059.22 1544.14 1059.22 1537.81 M1065.08 1551.62 Q1065.08 1560.72 1061.03 1565.15 Q1056.99 1569.6 1048.65 1569.6 Q1045.57 1569.6 1042.83 1569.13 Q1040.09 1568.68 1037.51 1567.72 L1037.51 1562.03 Q1040.09 1563.43 1042.61 1564.1 Q1045.12 1564.76 1047.73 1564.76 Q1053.49 1564.76 1056.36 1561.74 Q1059.22 1558.75 1059.22 1552.67 L1059.22 1549.77 Q1057.41 1552.92 1054.57 1554.48 Q1051.74 1556.04 1047.79 1556.04 Q1041.24 1556.04 1037.23 1551.05 Q1033.22 1546.05 1033.22 1537.81 Q1033.22 1529.53 1037.23 1524.53 Q1041.24 1519.54 1047.79 1519.54 Q1051.74 1519.54 1054.57 1521.1 Q1057.41 1522.66 1059.22 1525.81 L1059.22 1520.4 L1065.08 1520.4 L1065.08 1551.62 Z\" fill=\"#000000\" fill-rule=\"evenodd\" fill-opacity=\"1\" /><path clip-path=\"url(#clip280)\" d=\"M 0 0 M1101.71 1536.76 L1101.71 1539.62 L1074.78 1539.62 Q1075.17 1545.67 1078.41 1548.85 Q1081.69 1552 1087.52 1552 Q1090.89 1552 1094.04 1551.17 Q1097.22 1550.35 1100.34 1548.69 L1100.34 1554.23 Q1097.19 1555.57 1093.88 1556.27 Q1090.57 1556.97 1087.17 1556.97 Q1078.64 1556.97 1073.64 1552 Q1068.67 1547.04 1068.67 1538.57 Q1068.67 1529.82 1073.38 1524.69 Q1078.13 1519.54 1086.15 1519.54 Q1093.34 1519.54 1097.51 1524.18 Q1101.71 1528.8 1101.71 1536.76 M1095.85 1535.04 Q1095.79 1530.23 1093.15 1527.37 Q1090.54 1524.5 1086.21 1524.5 Q1081.31 1524.5 1078.35 1527.27 Q1075.42 1530.04 1074.98 1535.07 L1095.85 1535.04 Z\" fill=\"#000000\" fill-rule=\"evenodd\" fill-opacity=\"1\" /><path clip-path=\"url(#clip280)\" d=\"M 0 0 M1134.94 1566.87 L1134.94 1571.42 L1101.07 1571.42 L1101.07 1566.87 L1134.94 1566.87 Z\" fill=\"#000000\" fill-rule=\"evenodd\" fill-opacity=\"1\" /><path clip-path=\"url(#clip280)\" d=\"M 0 0 M1146.75 1550.7 L1146.75 1569.6 L1140.86 1569.6 L1140.86 1520.4 L1146.75 1520.4 L1146.75 1525.81 Q1148.59 1522.62 1151.4 1521.1 Q1154.23 1519.54 1158.14 1519.54 Q1164.64 1519.54 1168.68 1524.69 Q1172.75 1529.85 1172.75 1538.25 Q1172.75 1546.65 1168.68 1551.81 Q1164.64 1556.97 1158.14 1556.97 Q1154.23 1556.97 1151.4 1555.44 Q1148.59 1553.88 1146.75 1550.7 M1166.67 1538.25 Q1166.67 1531.79 1164 1528.13 Q1161.36 1524.44 1156.71 1524.44 Q1152.06 1524.44 1149.39 1528.13 Q1146.75 1531.79 1146.75 1538.25 Q1146.75 1544.71 1149.39 1548.4 Q1152.06 1552.07 1156.71 1552.07 Q1161.36 1552.07 1164 1548.4 Q1166.67 1544.71 1166.67 1538.25 Z\" fill=\"#000000\" fill-rule=\"evenodd\" fill-opacity=\"1\" /><path clip-path=\"url(#clip280)\" d=\"M 0 0 M1178.29 1541.98 L1178.29 1520.4 L1184.15 1520.4 L1184.15 1541.75 Q1184.15 1546.81 1186.12 1549.36 Q1188.09 1551.87 1192.04 1551.87 Q1196.78 1551.87 1199.52 1548.85 Q1202.29 1545.83 1202.29 1540.61 L1202.29 1520.4 L1208.15 1520.4 L1208.15 1556.04 L1202.29 1556.04 L1202.29 1550.57 Q1200.16 1553.82 1197.32 1555.41 Q1194.52 1556.97 1190.8 1556.97 Q1184.66 1556.97 1181.47 1553.15 Q1178.29 1549.33 1178.29 1541.98 M1193.03 1519.54 L1193.03 1519.54 Z\" fill=\"#000000\" fill-rule=\"evenodd\" fill-opacity=\"1\" /><path clip-path=\"url(#clip280)\" d=\"M 0 0 M1234.95 1525.87 Q1233.96 1525.3 1232.78 1525.04 Q1231.64 1524.76 1230.23 1524.76 Q1225.27 1524.76 1222.6 1528 Q1219.95 1531.22 1219.95 1537.27 L1219.95 1556.04 L1214.07 1556.04 L1214.07 1520.4 L1219.95 1520.4 L1219.95 1525.93 Q1221.8 1522.69 1224.76 1521.13 Q1227.72 1519.54 1231.95 1519.54 Q1232.56 1519.54 1233.29 1519.63 Q1234.02 1519.7 1234.91 1519.85 L1234.95 1525.87 Z\" fill=\"#000000\" fill-rule=\"evenodd\" fill-opacity=\"1\" /><path clip-path=\"url(#clip280)\" d=\"M 0 0 M1241.09 1520.4 L1246.94 1520.4 L1246.94 1556.04 L1241.09 1556.04 L1241.09 1520.4 M1241.09 1506.52 L1246.94 1506.52 L1246.94 1513.93 L1241.09 1513.93 L1241.09 1506.52 Z\" fill=\"#000000\" fill-rule=\"evenodd\" fill-opacity=\"1\" /><path clip-path=\"url(#clip280)\" d=\"M 0 0 M1258.88 1510.27 L1258.88 1520.4 L1270.94 1520.4 L1270.94 1524.95 L1258.88 1524.95 L1258.88 1544.3 Q1258.88 1548.66 1260.06 1549.9 Q1261.27 1551.14 1264.93 1551.14 L1270.94 1551.14 L1270.94 1556.04 L1264.93 1556.04 Q1258.15 1556.04 1255.57 1553.53 Q1252.99 1550.98 1252.99 1544.3 L1252.99 1524.95 L1248.7 1524.95 L1248.7 1520.4 L1252.99 1520.4 L1252.99 1510.27 L1258.88 1510.27 Z\" fill=\"#000000\" fill-rule=\"evenodd\" fill-opacity=\"1\" /><path clip-path=\"url(#clip280)\" d=\"M 0 0 M1291.92 1559.35 Q1289.44 1565.72 1287.08 1567.66 Q1284.73 1569.6 1280.78 1569.6 L1276.1 1569.6 L1276.1 1564.7 L1279.54 1564.7 Q1281.96 1564.7 1283.29 1563.56 Q1284.63 1562.41 1286.25 1558.14 L1287.3 1555.47 L1272.89 1520.4 L1279.09 1520.4 L1290.23 1548.28 L1301.37 1520.4 L1307.58 1520.4 L1291.92 1559.35 Z\" fill=\"#000000\" fill-rule=\"evenodd\" fill-opacity=\"1\" /><path clip-path=\"url(#clip280)\" d=\"M 0 0 M1340.81 1566.87 L1340.81 1571.42 L1306.94 1571.42 L1306.94 1566.87 L1340.81 1566.87 Z\" fill=\"#000000\" fill-rule=\"evenodd\" fill-opacity=\"1\" /><path clip-path=\"url(#clip280)\" d=\"M 0 0 M1352.74 1510.27 L1352.74 1520.4 L1364.81 1520.4 L1364.81 1524.95 L1352.74 1524.95 L1352.74 1544.3 Q1352.74 1548.66 1353.92 1549.9 Q1355.13 1551.14 1358.79 1551.14 L1364.81 1551.14 L1364.81 1556.04 L1358.79 1556.04 Q1352.01 1556.04 1349.43 1553.53 Q1346.85 1550.98 1346.85 1544.3 L1346.85 1524.95 L1342.56 1524.95 L1342.56 1520.4 L1346.85 1520.4 L1346.85 1510.27 L1352.74 1510.27 Z\" fill=\"#000000\" fill-rule=\"evenodd\" fill-opacity=\"1\" /><path clip-path=\"url(#clip280)\" d=\"M 0 0 M1400.58 1534.53 L1400.58 1556.04 L1394.72 1556.04 L1394.72 1534.72 Q1394.72 1529.66 1392.75 1527.14 Q1390.78 1524.63 1386.83 1524.63 Q1382.09 1524.63 1379.35 1527.65 Q1376.61 1530.68 1376.61 1535.9 L1376.61 1556.04 L1370.73 1556.04 L1370.73 1506.52 L1376.61 1506.52 L1376.61 1525.93 Q1378.72 1522.72 1381.55 1521.13 Q1384.41 1519.54 1388.14 1519.54 Q1394.28 1519.54 1397.43 1523.36 Q1400.58 1527.14 1400.58 1534.53 Z\" fill=\"#000000\" fill-rule=\"evenodd\" fill-opacity=\"1\" /><path clip-path=\"url(#clip280)\" d=\"M 0 0 M1427.38 1525.87 Q1426.39 1525.3 1425.22 1525.04 Q1424.07 1524.76 1422.67 1524.76 Q1417.71 1524.76 1415.03 1528 Q1412.39 1531.22 1412.39 1537.27 L1412.39 1556.04 L1406.5 1556.04 L1406.5 1520.4 L1412.39 1520.4 L1412.39 1525.93 Q1414.24 1522.69 1417.2 1521.13 Q1420.16 1519.54 1424.39 1519.54 Q1424.99 1519.54 1425.73 1519.63 Q1426.46 1519.7 1427.35 1519.85 L1427.38 1525.87 Z\" fill=\"#000000\" fill-rule=\"evenodd\" fill-opacity=\"1\" /><path clip-path=\"url(#clip280)\" d=\"M 0 0 M1462.58 1536.76 L1462.58 1539.62 L1435.66 1539.62 Q1436.04 1545.67 1439.28 1548.85 Q1442.56 1552 1448.39 1552 Q1451.76 1552 1454.91 1551.17 Q1458.1 1550.35 1461.21 1548.69 L1461.21 1554.23 Q1458.06 1555.57 1454.75 1556.27 Q1451.44 1556.97 1448.04 1556.97 Q1439.51 1556.97 1434.51 1552 Q1429.55 1547.04 1429.55 1538.57 Q1429.55 1529.82 1434.26 1524.69 Q1439 1519.54 1447.02 1519.54 Q1454.21 1519.54 1458.38 1524.18 Q1462.58 1528.8 1462.58 1536.76 M1456.73 1535.04 Q1456.66 1530.23 1454.02 1527.37 Q1451.41 1524.5 1447.08 1524.5 Q1442.18 1524.5 1439.22 1527.27 Q1436.29 1530.04 1435.85 1535.07 L1456.73 1535.04 Z\" fill=\"#000000\" fill-rule=\"evenodd\" fill-opacity=\"1\" /><path clip-path=\"url(#clip280)\" d=\"M 0 0 M1491.45 1521.45 L1491.45 1526.98 Q1488.97 1525.71 1486.3 1525.07 Q1483.62 1524.44 1480.76 1524.44 Q1476.4 1524.44 1474.2 1525.77 Q1472.04 1527.11 1472.04 1529.79 Q1472.04 1531.82 1473.6 1533 Q1475.16 1534.15 1479.87 1535.2 L1481.87 1535.64 Q1488.11 1536.98 1490.72 1539.43 Q1493.36 1541.85 1493.36 1546.21 Q1493.36 1551.17 1489.41 1554.07 Q1485.5 1556.97 1478.62 1556.97 Q1475.76 1556.97 1472.64 1556.39 Q1469.55 1555.85 1466.12 1554.74 L1466.12 1548.69 Q1469.36 1550.38 1472.51 1551.24 Q1475.66 1552.07 1478.75 1552.07 Q1482.89 1552.07 1485.12 1550.66 Q1487.35 1549.23 1487.35 1546.65 Q1487.35 1544.27 1485.72 1542.99 Q1484.13 1541.72 1478.69 1540.54 L1476.65 1540.07 Q1471.21 1538.92 1468.79 1536.56 Q1466.37 1534.18 1466.37 1530.04 Q1466.37 1525.01 1469.94 1522.27 Q1473.5 1519.54 1480.06 1519.54 Q1483.3 1519.54 1486.17 1520.01 Q1489.03 1520.49 1491.45 1521.45 Z\" fill=\"#000000\" fill-rule=\"evenodd\" fill-opacity=\"1\" /><path clip-path=\"url(#clip280)\" d=\"M 0 0 M1529.14 1534.53 L1529.14 1556.04 L1523.28 1556.04 L1523.28 1534.72 Q1523.28 1529.66 1521.31 1527.14 Q1519.33 1524.63 1515.39 1524.63 Q1510.64 1524.63 1507.91 1527.65 Q1505.17 1530.68 1505.17 1535.9 L1505.17 1556.04 L1499.28 1556.04 L1499.28 1506.52 L1505.17 1506.52 L1505.17 1525.93 Q1507.27 1522.72 1510.1 1521.13 Q1512.97 1519.54 1516.69 1519.54 Q1522.83 1519.54 1525.99 1523.36 Q1529.14 1527.14 1529.14 1534.53 Z\" fill=\"#000000\" fill-rule=\"evenodd\" fill-opacity=\"1\" /><path clip-path=\"url(#clip280)\" d=\"M 0 0 M1549.09 1524.5 Q1544.38 1524.5 1541.65 1528.19 Q1538.91 1531.85 1538.91 1538.25 Q1538.91 1544.65 1541.61 1548.34 Q1544.35 1552 1549.09 1552 Q1553.77 1552 1556.51 1548.31 Q1559.25 1544.62 1559.25 1538.25 Q1559.25 1531.92 1556.51 1528.23 Q1553.77 1524.5 1549.09 1524.5 M1549.09 1519.54 Q1556.73 1519.54 1561.09 1524.5 Q1565.45 1529.47 1565.45 1538.25 Q1565.45 1547 1561.09 1552 Q1556.73 1556.97 1549.09 1556.97 Q1541.42 1556.97 1537.06 1552 Q1532.73 1547 1532.73 1538.25 Q1532.73 1529.47 1537.06 1524.5 Q1541.42 1519.54 1549.09 1519.54 Z\" fill=\"#000000\" fill-rule=\"evenodd\" fill-opacity=\"1\" /><path clip-path=\"url(#clip280)\" d=\"M 0 0 M1571.6 1506.52 L1577.45 1506.52 L1577.45 1556.04 L1571.6 1556.04 L1571.6 1506.52 Z\" fill=\"#000000\" fill-rule=\"evenodd\" fill-opacity=\"1\" /><path clip-path=\"url(#clip280)\" d=\"M 0 0 M1607.05 1525.81 L1607.05 1506.52 L1612.91 1506.52 L1612.91 1556.04 L1607.05 1556.04 L1607.05 1550.7 Q1605.21 1553.88 1602.37 1555.44 Q1599.57 1556.97 1595.63 1556.97 Q1589.17 1556.97 1585.09 1551.81 Q1581.05 1546.65 1581.05 1538.25 Q1581.05 1529.85 1585.09 1524.69 Q1589.17 1519.54 1595.63 1519.54 Q1599.57 1519.54 1602.37 1521.1 Q1605.21 1522.62 1607.05 1525.81 M1587.1 1538.25 Q1587.1 1544.71 1589.74 1548.4 Q1592.41 1552.07 1597.06 1552.07 Q1601.71 1552.07 1604.38 1548.4 Q1607.05 1544.71 1607.05 1538.25 Q1607.05 1531.79 1604.38 1528.13 Q1601.71 1524.44 1597.06 1524.44 Q1592.41 1524.44 1589.74 1528.13 Q1587.1 1531.79 1587.1 1538.25 Z\" fill=\"#000000\" fill-rule=\"evenodd\" fill-opacity=\"1\" /><path clip-path=\"url(#clip280)\" d=\"M 0 0 M44.1444 904.492 L50.9239 904.492 Q47.9002 907.739 46.4043 911.431 Q44.9083 915.091 44.9083 919.229 Q44.9083 927.377 49.9054 931.705 Q54.8707 936.034 64.2919 936.034 Q73.6813 936.034 78.6784 931.705 Q83.6436 927.377 83.6436 919.229 Q83.6436 915.091 82.1477 911.431 Q80.6518 907.739 77.6281 904.492 L84.3439 904.492 Q86.6355 907.866 87.7814 911.653 Q88.9272 915.409 88.9272 919.611 Q88.9272 930.4 82.3387 936.607 Q75.7183 942.814 64.2919 942.814 Q52.8336 942.814 46.2451 936.607 Q39.6248 930.4 39.6248 919.611 Q39.6248 915.346 40.7706 911.59 Q41.8846 907.802 44.1444 904.492 Z\" fill=\"#000000\" fill-rule=\"evenodd\" fill-opacity=\"1\" /><path clip-path=\"url(#clip280)\" d=\"M 0 0 M57.8307 877.692 Q57.2578 878.679 57.0032 879.857 Q56.7167 881.003 56.7167 882.403 Q56.7167 887.368 59.9632 890.042 Q63.1779 892.684 69.2253 892.684 L88.0042 892.684 L88.0042 898.572 L52.3562 898.572 L52.3562 892.684 L57.8944 892.684 Q54.6479 890.838 53.0883 887.878 Q51.4968 884.917 51.4968 880.684 Q51.4968 880.08 51.5923 879.347 Q51.656 878.615 51.8151 877.724 L57.8307 877.692 Z\" fill=\"#000000\" fill-rule=\"evenodd\" fill-opacity=\"1\" /><path clip-path=\"url(#clip280)\" d=\"M 0 0 M56.4621 859.168 Q56.4621 863.879 60.1542 866.616 Q63.8145 869.353 70.212 869.353 Q76.6095 869.353 80.3017 866.648 Q83.9619 863.911 83.9619 859.168 Q83.9619 854.489 80.2698 851.752 Q76.5777 849.015 70.212 849.015 Q63.8781 849.015 60.186 851.752 Q56.4621 854.489 56.4621 859.168 M51.4968 859.168 Q51.4968 851.529 56.4621 847.169 Q61.4273 842.808 70.212 842.808 Q78.9649 842.808 83.9619 847.169 Q88.9272 851.529 88.9272 859.168 Q88.9272 866.839 83.9619 871.199 Q78.9649 875.528 70.212 875.528 Q61.4273 875.528 56.4621 871.199 Q51.4968 866.839 51.4968 859.168 Z\" fill=\"#000000\" fill-rule=\"evenodd\" fill-opacity=\"1\" /><path clip-path=\"url(#clip280)\" d=\"M 0 0 M53.4065 813.94 L58.9447 813.94 Q57.6716 816.422 57.035 819.096 Q56.3984 821.77 56.3984 824.634 Q56.3984 828.995 57.7352 831.191 Q59.072 833.355 61.7456 833.355 Q63.7826 833.355 64.9603 831.796 Q66.1061 830.236 67.1565 825.525 L67.6021 823.52 Q68.9389 817.282 71.3897 814.672 Q73.8086 812.03 78.1691 812.03 Q83.1344 812.03 86.0308 815.977 Q88.9272 819.892 88.9272 826.767 Q88.9272 829.631 88.3543 832.751 Q87.8132 835.838 86.6992 839.275 L80.6518 839.275 Q82.3387 836.029 83.198 832.878 Q84.0256 829.727 84.0256 826.639 Q84.0256 822.502 82.6251 820.274 Q81.1929 818.046 78.6147 818.046 Q76.2276 818.046 74.9545 819.669 Q73.6813 821.26 72.5037 826.703 L72.0262 828.74 Q70.8804 834.183 68.5251 836.602 Q66.138 839.021 62.0002 839.021 Q56.9713 839.021 54.2341 835.456 Q51.4968 831.891 51.4968 825.334 Q51.4968 822.088 51.9743 819.223 Q52.4517 816.359 53.4065 813.94 Z\" fill=\"#000000\" fill-rule=\"evenodd\" fill-opacity=\"1\" /><path clip-path=\"url(#clip280)\" d=\"M 0 0 M53.4065 783.162 L58.9447 783.162 Q57.6716 785.644 57.035 788.318 Q56.3984 790.991 56.3984 793.856 Q56.3984 798.217 57.7352 800.413 Q59.072 802.577 61.7456 802.577 Q63.7826 802.577 64.9603 801.017 Q66.1061 799.458 67.1565 794.747 L67.6021 792.742 Q68.9389 786.504 71.3897 783.894 Q73.8086 781.252 78.1691 781.252 Q83.1344 781.252 86.0308 785.199 Q88.9272 789.114 88.9272 795.989 Q88.9272 798.853 88.3543 801.972 Q87.8132 805.06 86.6992 808.497 L80.6518 808.497 Q82.3387 805.251 83.198 802.1 Q84.0256 798.949 84.0256 795.861 Q84.0256 791.724 82.6251 789.496 Q81.1929 787.268 78.6147 787.268 Q76.2276 787.268 74.9545 788.891 Q73.6813 790.482 72.5037 795.925 L72.0262 797.962 Q70.8804 803.405 68.5251 805.824 Q66.138 808.243 62.0002 808.243 Q56.9713 808.243 54.2341 804.678 Q51.4968 801.113 51.4968 794.556 Q51.4968 791.31 51.9743 788.445 Q52.4517 785.581 53.4065 783.162 Z\" fill=\"#000000\" fill-rule=\"evenodd\" fill-opacity=\"1\" /><path clip-path=\"url(#clip280)\" d=\"M 0 0 M40.4842 754.134 L40.4842 724.088 L45.895 724.088 L45.895 747.705 L59.9632 747.705 L59.9632 725.075 L65.3741 725.075 L65.3741 747.705 L82.5933 747.705 L82.5933 723.515 L88.0042 723.515 L88.0042 754.134 L40.4842 754.134 Z\" fill=\"#000000\" fill-rule=\"evenodd\" fill-opacity=\"1\" /><path clip-path=\"url(#clip280)\" d=\"M 0 0 M66.4881 687.74 L88.0042 687.74 L88.0042 693.596 L66.679 693.596 Q61.6183 693.596 59.1038 695.57 Q56.5894 697.543 56.5894 701.49 Q56.5894 706.232 59.6131 708.969 Q62.6368 711.707 67.8567 711.707 L88.0042 711.707 L88.0042 717.595 L52.3562 717.595 L52.3562 711.707 L57.8944 711.707 Q54.6797 709.606 53.0883 706.773 Q51.4968 703.909 51.4968 700.185 Q51.4968 694.042 55.3163 690.891 Q59.1038 687.74 66.4881 687.74 Z\" fill=\"#000000\" fill-rule=\"evenodd\" fill-opacity=\"1\" /><path clip-path=\"url(#clip280)\" d=\"M 0 0 M42.2347 675.804 L52.3562 675.804 L52.3562 663.741 L56.9077 663.741 L56.9077 675.804 L76.2594 675.804 Q80.6199 675.804 81.8613 674.626 Q83.1026 673.417 83.1026 669.757 L83.1026 663.741 L88.0042 663.741 L88.0042 669.757 Q88.0042 676.536 85.4897 679.114 Q82.9434 681.692 76.2594 681.692 L56.9077 681.692 L56.9077 685.989 L52.3562 685.989 L52.3562 681.692 L42.2347 681.692 L42.2347 675.804 Z\" fill=\"#000000\" fill-rule=\"evenodd\" fill-opacity=\"1\" /><path clip-path=\"url(#clip280)\" d=\"M 0 0 M57.8307 636.941 Q57.2578 637.928 57.0032 639.106 Q56.7167 640.252 56.7167 641.652 Q56.7167 646.617 59.9632 649.291 Q63.1779 651.933 69.2253 651.933 L88.0042 651.933 L88.0042 657.821 L52.3562 657.821 L52.3562 651.933 L57.8944 651.933 Q54.6479 650.087 53.0883 647.127 Q51.4968 644.166 51.4968 639.933 Q51.4968 639.329 51.5923 638.596 Q51.656 637.864 51.8151 636.973 L57.8307 636.941 Z\" fill=\"#000000\" fill-rule=\"evenodd\" fill-opacity=\"1\" /><path clip-path=\"url(#clip280)\" d=\"M 0 0 M56.4621 618.417 Q56.4621 623.128 60.1542 625.865 Q63.8145 628.602 70.212 628.602 Q76.6095 628.602 80.3017 625.897 Q83.9619 623.16 83.9619 618.417 Q83.9619 613.738 80.2698 611.001 Q76.5777 608.264 70.212 608.264 Q63.8781 608.264 60.186 611.001 Q56.4621 613.738 56.4621 618.417 M51.4968 618.417 Q51.4968 610.778 56.4621 606.418 Q61.4273 602.057 70.212 602.057 Q78.9649 602.057 83.9619 606.418 Q88.9272 610.778 88.9272 618.417 Q88.9272 626.088 83.9619 630.448 Q78.9649 634.777 70.212 634.777 Q61.4273 634.777 56.4621 630.448 Q51.4968 626.088 51.4968 618.417 Z\" fill=\"#000000\" fill-rule=\"evenodd\" fill-opacity=\"1\" /><path clip-path=\"url(#clip280)\" d=\"M 0 0 M82.657 590.249 L101.563 590.249 L101.563 596.137 L52.3562 596.137 L52.3562 590.249 L57.7671 590.249 Q54.5842 588.403 53.0564 585.602 Q51.4968 582.769 51.4968 578.854 Q51.4968 572.361 56.6531 568.319 Q61.8093 564.245 70.212 564.245 Q78.6147 564.245 83.771 568.319 Q88.9272 572.361 88.9272 578.854 Q88.9272 582.769 87.3994 585.602 Q85.8398 588.403 82.657 590.249 M70.212 570.324 Q63.7508 570.324 60.0905 572.998 Q56.3984 575.64 56.3984 580.287 Q56.3984 584.934 60.0905 587.607 Q63.7508 590.249 70.212 590.249 Q76.6732 590.249 80.3653 587.607 Q84.0256 584.934 84.0256 580.287 Q84.0256 575.64 80.3653 572.998 Q76.6732 570.324 70.212 570.324 Z\" fill=\"#000000\" fill-rule=\"evenodd\" fill-opacity=\"1\" /><path clip-path=\"url(#clip280)\" d=\"M 0 0 M91.3143 543.27 Q97.68 545.753 99.6216 548.108 Q101.563 550.463 101.563 554.41 L101.563 559.089 L96.6615 559.089 L96.6615 555.651 Q96.6615 553.232 95.5157 551.896 Q94.3699 550.559 90.1048 548.935 L87.4312 547.885 L52.3562 562.303 L52.3562 556.097 L80.238 544.957 L52.3562 533.817 L52.3562 527.61 L91.3143 543.27 Z\" fill=\"#000000\" fill-rule=\"evenodd\" fill-opacity=\"1\" /><polyline clip-path=\"url(#clip282)\" style=\"stroke:#009af9; stroke-width:8; stroke-opacity:1; fill:none\" points=\"\n",
       "  237.067,1189.84 239.123,1127.52 241.179,1236.94 243.236,1320.29 245.292,1218.59 247.348,1272.8 249.404,1173.57 251.46,1206.8 253.516,1199.13 255.572,1266.13 \n",
       "  257.628,1105.31 259.685,1198.23 261.741,1201.22 263.797,1289.3 265.853,1117.12 267.909,1062.06 269.965,1236.33 272.021,1329.44 274.077,1287.21 276.134,1128.51 \n",
       "  278.19,1201.78 280.246,1313.85 282.302,1384.24 284.358,1159.42 286.414,1258.59 288.47,1273.94 290.526,1276.55 292.583,1280.69 294.639,1262 296.695,1217.84 \n",
       "  298.751,1263.35 300.807,1212.73 302.863,1332.02 304.919,1220.23 306.975,1268.49 309.032,1076.81 311.088,1148.31 313.144,1257.46 315.2,1191.58 317.256,1268.85 \n",
       "  319.312,1192.43 321.368,1234.48 323.424,1099.06 325.48,1259.02 327.537,1212.66 329.593,1319.88 331.649,1109.21 333.705,1049.24 335.761,1118.34 337.817,1184.95 \n",
       "  339.873,1255.49 341.929,1229.45 343.986,1201.23 346.042,1283.79 348.098,1374.82 350.154,1360.46 352.21,1150.71 354.266,1034.77 356.322,1115.15 358.378,1079.57 \n",
       "  360.435,1284.77 362.491,1231.21 364.547,1228.41 366.603,1155.42 368.659,1230.53 370.715,1221.61 372.771,1138.57 374.827,1251.66 376.884,1189.91 378.94,1173.32 \n",
       "  380.996,1182.13 383.052,1289.25 385.108,1163.58 387.164,1269.36 389.22,1271.8 391.276,1308.04 393.333,1146.81 395.389,1082.58 397.445,1115.6 399.501,1184.18 \n",
       "  401.557,1241.07 403.613,1223.87 405.669,1277.11 407.725,1230.07 409.782,1225.39 411.838,1101.59 413.894,1221.07 415.95,1095.65 418.006,1217.43 420.062,1214.15 \n",
       "  422.118,1240.21 424.174,1225.18 426.231,1207.79 428.287,998.447 430.343,1274.3 432.399,1182.12 434.455,1137.79 436.511,1327.7 438.567,1096.43 440.623,1078.31 \n",
       "  442.679,1244.56 444.736,1234.47 446.792,1262.45 448.848,1191.88 450.904,1142.36 452.96,1014.12 455.016,1226.23 457.072,1098.2 459.128,1232.01 461.185,1138.77 \n",
       "  463.241,1259.61 465.297,1147.92 467.353,1087.26 469.409,1218.73 471.465,1042.76 473.521,1106.02 475.577,1271.52 477.634,1226.77 479.69,1077.35 481.746,1136.1 \n",
       "  483.802,1139.93 485.858,1124.99 487.914,1056.75 489.97,1092.25 492.026,1181.31 494.083,1187.86 496.139,1096.23 498.195,1121.98 500.251,1122.9 502.307,1225.19 \n",
       "  504.363,1145.92 506.419,1193.14 508.475,1128.52 510.532,1006.02 512.588,1143.04 514.644,1026.14 516.7,1098.38 518.756,1008.25 520.812,1159.19 522.868,1042.22 \n",
       "  524.924,1187.44 526.981,1124.44 529.037,1046.41 531.093,1067.73 533.149,1133.77 535.205,1136.72 537.261,1109.84 539.317,1089.64 541.373,1003.08 543.43,1064.98 \n",
       "  545.486,1061.96 547.542,1093.22 549.598,1006.17 551.654,965.04 553.71,1062.39 555.766,1030.69 557.822,930.822 559.878,1130.34 561.935,1066.09 563.991,1062.25 \n",
       "  566.047,1169.35 568.103,1000.34 570.159,1120.38 572.215,1112.61 574.271,1160.61 576.327,1084.94 578.384,1173.83 580.44,1021.82 582.496,1143.33 584.552,1114.97 \n",
       "  586.608,996.694 588.664,917.505 590.72,1058.6 592.776,1002.64 594.833,1096.52 596.889,1094.17 598.945,1035.18 601.001,1046.96 603.057,947.391 605.113,1067.6 \n",
       "  607.169,1053.69 609.225,1106.94 611.282,996.28 613.338,1072.92 615.394,932.177 617.45,1082.04 619.506,1064.76 621.562,1161 623.618,1058.33 625.674,1137.63 \n",
       "  627.731,936.989 629.787,1018.46 631.843,1127.89 633.899,1063.97 635.955,1038.41 638.011,1027 640.067,1120.9 642.123,1177.9 644.18,1057.41 646.236,1042.5 \n",
       "  648.292,1021.32 650.348,1008.57 652.404,1018.73 654.46,998.279 656.516,861.982 658.572,970.33 660.629,980.138 662.685,1009.42 664.741,1015.69 666.797,981.427 \n",
       "  668.853,1020.16 670.909,978.69 672.965,922.236 675.021,988.611 677.077,877.03 679.134,973.719 681.19,960.904 683.246,934.134 685.302,988.083 687.358,873.453 \n",
       "  689.414,1002.54 691.47,1041.54 693.526,1019.26 695.583,1097.2 697.639,1008.43 699.695,969.873 701.751,994.615 703.807,938.742 705.863,1010.34 707.919,989.071 \n",
       "  709.975,920.164 712.032,833.915 714.088,855.143 716.144,1061.86 718.2,959.275 720.256,952.738 722.312,957.407 724.368,966.834 726.424,957.127 728.481,1013.32 \n",
       "  730.537,825.456 732.593,980.906 734.649,1019.84 736.705,820.629 738.761,859.664 740.817,755.869 742.873,940.758 744.93,1049.43 746.986,927.869 749.042,808.738 \n",
       "  751.098,864.392 753.154,748.029 755.21,853.15 757.266,906.272 759.322,1045.51 761.379,851.862 763.435,940.9 765.491,965.747 767.547,1020.74 769.603,894.998 \n",
       "  771.659,931.042 773.715,994.919 775.771,935.445 777.828,902.5 779.884,727.461 781.94,946.388 783.996,1019.9 786.052,1004.28 788.108,692.151 790.164,1066 \n",
       "  792.22,1016.1 794.276,865.649 796.333,907.804 798.389,838.046 800.445,928.45 802.501,883.684 804.557,928.176 806.613,969.814 808.669,851.346 810.725,958.172 \n",
       "  812.782,851.155 814.838,989.516 816.894,828.224 818.95,820.288 821.006,1014.26 823.062,912.957 825.118,709.817 827.174,883.118 829.231,1029.31 831.287,843.915 \n",
       "  833.343,1050.66 835.399,873.425 837.455,807.991 839.511,976.531 841.567,974.01 843.623,892.458 845.68,889.851 847.736,919.62 849.792,892.033 851.848,856.535 \n",
       "  853.904,1015.5 855.96,786.521 858.016,820.8 860.072,838.031 862.129,789.255 864.185,815.183 866.241,933.656 868.297,853.31 870.353,969.6 872.409,946.509 \n",
       "  874.465,717.88 876.521,925.871 878.578,958.435 880.634,910.012 882.69,913.403 884.746,1064.07 886.802,907.221 888.858,812.419 890.914,713.198 892.97,1015.21 \n",
       "  895.027,812.021 897.083,945.281 899.139,900.183 901.195,784.492 903.251,1064.04 905.307,870.447 907.363,867.627 909.419,833.281 911.475,971.884 913.532,899.892 \n",
       "  915.588,890.76 917.644,859.431 919.7,988.352 921.756,677.427 923.812,510.903 925.868,726.798 927.924,649.129 929.981,711.428 932.037,751.376 934.093,648.766 \n",
       "  936.149,967.412 938.205,817.215 940.261,709.709 942.317,635.84 944.373,547.488 946.43,735.767 948.486,668.49 950.542,705.66 952.598,879.285 954.654,616.035 \n",
       "  956.71,696.699 958.766,521.572 960.822,775.238 962.879,695.656 964.935,775.028 966.991,745.039 969.047,788.273 971.103,623.519 973.159,839.401 975.215,753.747 \n",
       "  977.271,712.018 979.328,699.122 981.384,699.578 983.44,628.302 985.496,500.931 987.552,790.373 989.608,768.297 991.664,670.391 993.72,757.483 995.777,697.247 \n",
       "  997.833,727.814 999.889,614.846 1001.94,679.084 1004,575.963 1006.06,674.987 1008.11,770.999 1010.17,708.829 1012.23,717.951 1014.28,623.241 1016.34,658.819 \n",
       "  1018.39,549.189 1020.45,777.562 1022.51,624.347 1024.56,679.186 1026.62,668.28 1028.67,726.428 1030.73,748.462 1032.79,718.638 1034.84,603.999 1036.9,680.35 \n",
       "  1038.96,679.786 1041.01,714.801 1043.07,595.424 1045.12,687.085 1047.18,668.912 1049.24,647.451 1051.29,669.211 1053.35,881.373 1055.4,726.612 1057.46,639.94 \n",
       "  1059.52,748.47 1061.57,792.487 1063.63,737.343 1065.68,591.754 1067.74,822.137 1069.8,628.328 1071.85,753.587 1073.91,736.124 1075.97,616.915 1078.02,623.463 \n",
       "  1080.08,709.417 1082.13,782.816 1084.19,734.899 1086.25,743.847 1088.3,649.539 1090.36,607.138 1092.41,634.29 1094.47,646.391 1096.53,756.468 1098.58,567.13 \n",
       "  1100.64,622.139 1102.69,699.567 1104.75,627.791 1106.81,663.504 1108.86,832.784 1110.92,854.933 1112.98,707.392 1115.03,595.302 1117.09,624.771 1119.14,848.647 \n",
       "  1121.2,738.666 1123.26,723.285 1125.31,550.332 1127.37,869.942 1129.42,652.625 1131.48,689.118 1133.54,666.467 1135.59,582 1137.65,620.349 1139.71,679.758 \n",
       "  1141.76,683.123 1143.82,610 1145.87,683.958 1147.93,654.094 1149.99,616.761 1152.04,668.909 1154.1,774.701 1156.15,599.392 1158.21,637.702 1160.27,723.56 \n",
       "  1162.32,701.659 1164.38,821.631 1166.43,723.834 1168.49,678.335 1170.55,667.826 1172.6,511.676 1174.66,693.677 1176.72,555.868 1178.77,740.973 1180.83,847.688 \n",
       "  1182.88,638.57 1184.94,759.302 1187,714.377 1189.05,713.563 1191.11,607.374 1193.16,524.269 1195.22,788.061 1197.28,631.28 1199.33,743.151 1201.39,619.823 \n",
       "  1203.44,681.126 1205.5,818.379 1207.56,683.19 1209.61,582.292 1211.67,824.509 1213.73,378.463 1215.78,660.389 1217.84,472.779 1219.89,556.609 1221.95,678.464 \n",
       "  1224.01,768.659 1226.06,600.744 1228.12,663.373 1230.17,559.457 1232.23,713.157 1234.29,780.194 1236.34,453.563 1238.4,568.218 1240.46,677.529 1242.51,699.467 \n",
       "  1244.57,569.875 1246.62,657.17 1248.68,645.884 1250.74,651.011 1252.79,812.937 1254.85,495.57 1256.9,593.982 1258.96,513.406 1261.02,684.61 1263.07,553.173 \n",
       "  1265.13,638.889 1267.18,480.575 1269.24,609.566 1271.3,501.89 1273.35,757.633 1275.41,522.633 1277.47,690.257 1279.52,472.257 1281.58,541.749 1283.63,648.398 \n",
       "  1285.69,391.613 1287.75,535.398 1289.8,453.445 1291.86,633.503 1293.91,635.367 1295.97,481.445 1298.03,652.097 1300.08,659.315 1302.14,436.698 1304.19,836.284 \n",
       "  1306.25,555.28 1308.31,657.087 1310.36,613.618 1312.42,595.447 1314.48,565.903 1316.53,630.4 1318.59,520.924 1320.64,541.05 1322.7,549.062 1324.76,559.305 \n",
       "  1326.81,583.329 1328.87,568.296 1330.92,609.98 1332.98,637.137 1335.04,492.923 1337.09,650.814 1339.15,628.129 1341.21,542.39 1343.26,512.802 1345.32,529.873 \n",
       "  1347.37,616.579 1349.43,560.342 1351.49,559.753 1353.54,595.304 1355.6,544.57 1357.65,432.832 1359.71,622.659 1361.77,620.474 1363.82,513.154 1365.88,621.4 \n",
       "  1367.93,408.452 1369.99,581.185 1372.05,638.704 1374.1,542.255 1376.16,631.475 1378.22,516.316 1380.27,531.847 1382.33,387.437 1384.38,520.155 1386.44,436.965 \n",
       "  1388.5,615.198 1390.55,746.095 1392.61,521.273 1394.66,529.356 1396.72,465.267 1398.78,450.012 1400.83,694.498 1402.89,518.561 1404.94,453.993 1407,619.578 \n",
       "  1409.06,493.971 1411.11,669.378 1413.17,495.29 1415.23,583.756 1417.28,711.492 1419.34,593.824 1421.39,415.513 1423.45,531.666 1425.51,661.384 1427.56,749.978 \n",
       "  1429.62,572.179 1431.67,465.958 1433.73,520.382 1435.79,517.932 1437.84,463.784 1439.9,543.383 1441.96,557.507 1444.01,625.465 1446.07,359.286 1448.12,623.894 \n",
       "  1450.18,502.65 1452.24,793.156 1454.29,535.493 1456.35,515.396 1458.4,523.185 1460.46,497.683 1462.52,596.33 1464.57,443.732 1466.63,683.743 1468.68,677.708 \n",
       "  1470.74,525.071 1472.8,534.379 1474.85,406.609 1476.91,543.364 1478.97,471.799 1481.02,506.689 1483.08,502.057 1485.13,577.347 1487.19,507.672 1489.25,465.987 \n",
       "  1491.3,574.362 1493.36,703.518 1495.41,474.589 1497.47,434.782 1499.53,507.401 1501.58,463.095 1503.64,448.131 1505.69,502.434 1507.75,639.6 1509.81,594.497 \n",
       "  1511.86,525.043 1513.92,542.664 1515.98,562.008 1518.03,280.387 1520.09,423.484 1522.14,579.073 1524.2,428.232 1526.26,593.031 1528.31,569.073 1530.37,412.374 \n",
       "  1532.42,493.12 1534.48,471.407 1536.54,433.053 1538.59,449.619 1540.65,544.385 1542.71,607.555 1544.76,470.89 1546.82,556.138 1548.87,636.408 1550.93,522.47 \n",
       "  1552.99,487.002 1555.04,491.726 1557.1,627.63 1559.15,675.063 1561.21,474.674 1563.27,310.793 1565.32,467.735 1567.38,366.355 1569.43,495.843 1571.49,450.27 \n",
       "  1573.55,466.509 1575.6,530.503 1577.66,554.745 1579.72,510.154 1581.77,534.601 1583.83,469.67 1585.88,484.963 1587.94,481.521 1590,515.466 1592.05,444.906 \n",
       "  1594.11,415.421 1596.16,607.379 1598.22,516.052 1600.28,552.023 1602.33,516.822 1604.39,647.742 1606.45,392.4 1608.5,385.399 1610.56,477.51 1612.61,508.254 \n",
       "  1614.67,584.509 1616.73,446.439 1618.78,522.301 1620.84,502.931 1622.89,518.242 1624.95,382.517 1627.01,464.229 1629.06,481.624 1631.12,465.069 1633.17,533.652 \n",
       "  1635.23,610.401 1637.29,621.427 1639.34,520.706 1641.4,530.534 1643.46,583.581 1645.51,412.7 1647.57,450.684 1649.62,339.974 1651.68,518.011 1653.74,523.495 \n",
       "  1655.79,452.139 1657.85,374.711 1659.9,545.805 1661.96,533.165 1664.02,550.376 1666.07,461.807 1668.13,440.936 1670.18,593.027 1672.24,490.391 1674.3,501.991 \n",
       "  1676.35,516.447 1678.41,385.286 1680.47,563.339 1682.52,368.288 1684.58,504.677 1686.63,510.709 1688.69,533.005 1690.75,400.227 1692.8,478.93 1694.86,528.711 \n",
       "  1696.91,513.109 1698.97,519.346 1701.03,347.668 1703.08,453.292 1705.14,563.819 1707.2,511.274 1709.25,496.446 1711.31,484.632 1713.36,584.77 1715.42,355.846 \n",
       "  1717.48,437.195 1719.53,602.672 1721.59,427.032 1723.64,444.556 1725.7,393.258 1727.76,480.385 1729.81,419.09 1731.87,490.304 1733.92,392.629 1735.98,293.402 \n",
       "  1738.04,580.403 1740.09,261.417 1742.15,419.774 1744.21,384.439 1746.26,508.931 1748.32,293.511 1750.37,484.748 1752.43,407.402 1754.49,462.995 1756.54,564.368 \n",
       "  1758.6,469.336 1760.65,407.885 1762.71,476.227 1764.77,425.669 1766.82,230.383 1768.88,452.632 1770.93,355.719 1772.99,467.177 1775.05,366.296 1777.1,455.014 \n",
       "  1779.16,397.546 1781.22,563.005 1783.27,532.655 1785.33,472.608 1787.38,431.75 1789.44,462.74 1791.5,568.232 1793.55,445.899 1795.61,374.81 1797.66,337.595 \n",
       "  1799.72,574.956 1801.78,493.102 1803.83,512.403 1805.89,406.711 1807.95,410.936 1810,407.458 1812.06,338.412 1814.11,362.032 1816.17,369.852 1818.23,465.273 \n",
       "  1820.28,493.15 1822.34,493.599 1824.39,426.535 1826.45,369.043 1828.51,366.892 1830.56,430.176 1832.62,316.262 1834.67,348.907 1836.73,477.198 1838.79,458.87 \n",
       "  1840.84,415.909 1842.9,497.371 1844.96,433.233 1847.01,373.275 1849.07,348.057 1851.12,414.911 1853.18,398.704 1855.24,490.648 1857.29,345.122 1859.35,509.566 \n",
       "  1861.4,295.433 1863.46,395.972 1865.52,395.451 1867.57,429.575 1869.63,468.752 1871.68,417.036 1873.74,408.447 1875.8,334.927 1877.85,446.285 1879.91,552.176 \n",
       "  1881.97,501.351 1884.02,472.491 1886.08,357.815 1888.13,468.253 1890.19,314.761 1892.25,454.703 1894.3,424.298 1896.36,593.092 1898.41,268.299 1900.47,407.536 \n",
       "  1902.53,359.859 1904.58,438.512 1906.64,425.612 1908.7,316.464 1910.75,264.297 1912.81,284.36 1914.86,388.67 1916.92,346.905 1918.98,396.996 1921.03,446.889 \n",
       "  1923.09,467.72 1925.14,318.777 1927.2,352.018 1929.26,385.301 1931.31,421.781 1933.37,290.734 1935.42,384.432 1937.48,391.584 1939.54,331.527 1941.59,327.161 \n",
       "  1943.65,432.826 1945.71,429.924 1947.76,281.569 1949.82,278.564 1951.87,424.126 1953.93,431.077 1955.99,298.188 1958.04,315.896 1960.1,302.957 1962.15,486.273 \n",
       "  1964.21,342.349 1966.27,270.658 1968.32,387.55 1970.38,371.556 1972.43,295.548 1974.49,329.09 1976.55,231.221 1978.6,322.234 1980.66,327.18 1982.72,276.805 \n",
       "  1984.77,489.35 1986.83,315.419 1988.88,423.355 1990.94,304.475 1993,418.564 1995.05,279.129 1997.11,355.252 1999.16,279.822 2001.22,265.853 2003.28,466.441 \n",
       "  2005.33,470.724 2007.39,282.939 2009.45,373.189 2011.5,314.98 2013.56,262.564 2015.61,292.93 2017.67,360.222 2019.73,397.954 2021.78,460.42 2023.84,369.075 \n",
       "  2025.89,250.925 2027.95,405.809 2030.01,381.595 2032.06,374.079 2034.12,464.12 2036.17,333.613 2038.23,340.452 2040.29,448.652 2042.34,309.644 2044.4,345.067 \n",
       "  2046.46,427.981 2048.51,311.777 2050.57,234.813 2052.62,438.35 2054.68,358.712 2056.74,320.19 2058.79,280.077 2060.85,296.649 2062.9,421.798 2064.96,286.809 \n",
       "  2067.02,277.675 2069.07,294.609 2071.13,465.689 2073.18,260.251 2075.24,283.997 2077.3,250.641 2079.35,232.178 2081.41,222.276 2083.47,316.482 2085.52,314.031 \n",
       "  2087.58,352.974 2089.63,250.723 2091.69,263.585 2093.75,284.32 2095.8,423.529 2097.86,380.988 2099.91,364.761 2101.97,285.897 2104.03,334.897 2106.08,333.61 \n",
       "  2108.14,95.192 2110.2,169.253 2112.25,430.559 2114.31,314.499 2116.36,297.065 2118.42,266.889 2120.48,221.646 2122.53,291.022 2124.59,432.269 2126.64,275.965 \n",
       "  2128.7,404.765 2130.76,415.952 2132.81,262.986 2134.87,151.829 2136.92,374.469 2138.98,370.958 2141.04,203.484 2143.09,238.374 2145.15,258.637 2147.21,261.282 \n",
       "  2149.26,343.386 2151.32,292.21 2153.37,419.508 2155.43,294.778 2157.49,194.869 2159.54,348.023 2161.6,217.409 2163.65,364.727 2165.71,248.875 2167.77,278.676 \n",
       "  2169.82,159.374 2171.88,247.357 2173.93,252.007 2175.99,266.721 2178.05,399.025 2180.1,257.021 2182.16,375.427 2184.22,314.097 2186.27,239.402 2188.33,137.787 \n",
       "  2190.38,262.224 2192.44,427.445 2194.5,211.638 2196.55,381.358 2198.61,211.818 2200.66,299.33 2202.72,247.345 2204.78,258.759 2206.83,357.294 2208.89,257.154 \n",
       "  2210.95,211.528 2213,86.1857 2215.06,227.291 2217.11,363.353 2219.17,227.418 2221.23,264.556 2223.28,279.275 2225.34,186.263 2227.39,231.4 2229.45,264.769 \n",
       "  2231.51,358.467 2233.56,212.402 2235.62,315.971 2237.67,272.043 2239.73,130.597 2241.79,264.471 2243.84,108.051 2245.9,346.492 2247.96,336.422 2250.01,249.582 \n",
       "  2252.07,302.204 2254.12,182.794 2256.18,174.201 2258.24,271.958 2260.29,234.608 2262.35,331.556 2264.4,264.471 2266.46,368.907 2268.52,331.514 2270.57,264.301 \n",
       "  2272.63,279.615 2274.68,130.172 2276.74,212.274 2278.8,271.915 2280.85,338.576 2282.91,317.22 2284.97,331.599 2287.02,376.266 2289.08,130.385 2291.13,384.136 \n",
       "  \n",
       "  \"/>\n",
       "<path clip-path=\"url(#clip280)\" d=\"\n",
       "M1838.93 1377.32 L2280.18 1377.32 L2280.18 1256.36 L1838.93 1256.36  Z\n",
       "  \" fill=\"#ffffff\" fill-rule=\"evenodd\" fill-opacity=\"1\"/>\n",
       "<polyline clip-path=\"url(#clip280)\" style=\"stroke:#000000; stroke-width:4; stroke-opacity:1; fill:none\" points=\"\n",
       "  1838.93,1377.32 2280.18,1377.32 2280.18,1256.36 1838.93,1256.36 1838.93,1377.32 \n",
       "  \"/>\n",
       "<polyline clip-path=\"url(#clip280)\" style=\"stroke:#009af9; stroke-width:4; stroke-opacity:1; fill:none\" points=\"\n",
       "  1863.12,1316.84 2008.27,1316.84 \n",
       "  \"/>\n",
       "<path clip-path=\"url(#clip280)\" d=\"M 0 0 M2045.66 1334.12 L2032.47 1299.56 L2037.35 1299.56 L2048.3 1328.65 L2059.27 1299.56 L2064.13 1299.56 L2050.96 1334.12 L2045.66 1334.12 Z\" fill=\"#000000\" fill-rule=\"evenodd\" fill-opacity=\"1\" /><path clip-path=\"url(#clip280)\" d=\"M 0 0 M2076.7 1321.08 Q2071.54 1321.08 2069.55 1322.26 Q2067.56 1323.44 2067.56 1326.29 Q2067.56 1328.56 2069.04 1329.9 Q2070.55 1331.22 2073.11 1331.22 Q2076.66 1331.22 2078.79 1328.72 Q2080.94 1326.2 2080.94 1322.03 L2080.94 1321.08 L2076.7 1321.08 M2085.2 1319.32 L2085.2 1334.12 L2080.94 1334.12 L2080.94 1330.18 Q2079.48 1332.54 2077.3 1333.68 Q2075.13 1334.79 2071.98 1334.79 Q2068 1334.79 2065.64 1332.56 Q2063.3 1330.32 2063.3 1326.57 Q2063.3 1322.19 2066.22 1319.97 Q2069.16 1317.75 2074.97 1317.75 L2080.94 1317.75 L2080.94 1317.33 Q2080.94 1314.39 2078.99 1312.8 Q2077.07 1311.18 2073.58 1311.18 Q2071.36 1311.18 2069.25 1311.71 Q2067.14 1312.24 2065.2 1313.31 L2065.2 1309.37 Q2067.54 1308.47 2069.73 1308.03 Q2071.93 1307.56 2074.02 1307.56 Q2079.64 1307.56 2082.42 1310.48 Q2085.2 1313.4 2085.2 1319.32 Z\" fill=\"#000000\" fill-rule=\"evenodd\" fill-opacity=\"1\" /><path clip-path=\"url(#clip280)\" d=\"M 0 0 M2089.67 1298.1 L2093.92 1298.1 L2093.92 1334.12 L2089.67 1334.12 L2089.67 1298.1 Z\" fill=\"#000000\" fill-rule=\"evenodd\" fill-opacity=\"1\" /><path clip-path=\"url(#clip280)\" d=\"M 0 0 M2098.39 1308.19 L2102.65 1308.19 L2102.65 1334.12 L2098.39 1334.12 L2098.39 1308.19 M2098.39 1298.1 L2102.65 1298.1 L2102.65 1303.49 L2098.39 1303.49 L2098.39 1298.1 Z\" fill=\"#000000\" fill-rule=\"evenodd\" fill-opacity=\"1\" /><path clip-path=\"url(#clip280)\" d=\"M 0 0 M2124.18 1312.12 L2124.18 1298.1 L2128.44 1298.1 L2128.44 1334.12 L2124.18 1334.12 L2124.18 1330.23 Q2122.84 1332.54 2120.78 1333.68 Q2118.74 1334.79 2115.87 1334.79 Q2111.17 1334.79 2108.21 1331.04 Q2105.27 1327.29 2105.27 1321.18 Q2105.27 1315.06 2108.21 1311.31 Q2111.17 1307.56 2115.87 1307.56 Q2118.74 1307.56 2120.78 1308.7 Q2122.84 1309.81 2124.18 1312.12 M2109.67 1321.18 Q2109.67 1325.87 2111.59 1328.56 Q2113.53 1331.22 2116.91 1331.22 Q2120.29 1331.22 2122.23 1328.56 Q2124.18 1325.87 2124.18 1321.18 Q2124.18 1316.48 2122.23 1313.81 Q2120.29 1311.13 2116.91 1311.13 Q2113.53 1311.13 2111.59 1313.81 Q2109.67 1316.48 2109.67 1321.18 Z\" fill=\"#000000\" fill-rule=\"evenodd\" fill-opacity=\"1\" /><path clip-path=\"url(#clip280)\" d=\"M 0 0 M2144.69 1321.08 Q2139.53 1321.08 2137.54 1322.26 Q2135.54 1323.44 2135.54 1326.29 Q2135.54 1328.56 2137.03 1329.9 Q2138.53 1331.22 2141.1 1331.22 Q2144.64 1331.22 2146.77 1328.72 Q2148.92 1326.2 2148.92 1322.03 L2148.92 1321.08 L2144.69 1321.08 M2153.18 1319.32 L2153.18 1334.12 L2148.92 1334.12 L2148.92 1330.18 Q2147.47 1332.54 2145.29 1333.68 Q2143.11 1334.79 2139.97 1334.79 Q2135.98 1334.79 2133.62 1332.56 Q2131.29 1330.32 2131.29 1326.57 Q2131.29 1322.19 2134.2 1319.97 Q2137.14 1317.75 2142.95 1317.75 L2148.92 1317.75 L2148.92 1317.33 Q2148.92 1314.39 2146.98 1312.8 Q2145.06 1311.18 2141.56 1311.18 Q2139.34 1311.18 2137.23 1311.71 Q2135.13 1312.24 2133.18 1313.31 L2133.18 1309.37 Q2135.52 1308.47 2137.72 1308.03 Q2139.92 1307.56 2142 1307.56 Q2147.63 1307.56 2150.41 1310.48 Q2153.18 1313.4 2153.18 1319.32 Z\" fill=\"#000000\" fill-rule=\"evenodd\" fill-opacity=\"1\" /><path clip-path=\"url(#clip280)\" d=\"M 0 0 M2161.86 1300.83 L2161.86 1308.19 L2170.64 1308.19 L2170.64 1311.5 L2161.86 1311.5 L2161.86 1325.57 Q2161.86 1328.74 2162.72 1329.65 Q2163.6 1330.55 2166.26 1330.55 L2170.64 1330.55 L2170.64 1334.12 L2166.26 1334.12 Q2161.33 1334.12 2159.46 1332.29 Q2157.58 1330.43 2157.58 1325.57 L2157.58 1311.5 L2154.46 1311.5 L2154.46 1308.19 L2157.58 1308.19 L2157.58 1300.83 L2161.86 1300.83 Z\" fill=\"#000000\" fill-rule=\"evenodd\" fill-opacity=\"1\" /><path clip-path=\"url(#clip280)\" d=\"M 0 0 M2175.1 1308.19 L2179.36 1308.19 L2179.36 1334.12 L2175.1 1334.12 L2175.1 1308.19 M2175.1 1298.1 L2179.36 1298.1 L2179.36 1303.49 L2175.1 1303.49 L2175.1 1298.1 Z\" fill=\"#000000\" fill-rule=\"evenodd\" fill-opacity=\"1\" /><path clip-path=\"url(#clip280)\" d=\"M 0 0 M2193.88 1311.18 Q2190.45 1311.18 2188.46 1313.86 Q2186.47 1316.52 2186.47 1321.18 Q2186.47 1325.83 2188.44 1328.51 Q2190.43 1331.18 2193.88 1331.18 Q2197.28 1331.18 2199.27 1328.49 Q2201.26 1325.81 2201.26 1321.18 Q2201.26 1316.57 2199.27 1313.88 Q2197.28 1311.18 2193.88 1311.18 M2193.88 1307.56 Q2199.43 1307.56 2202.6 1311.18 Q2205.78 1314.79 2205.78 1321.18 Q2205.78 1327.54 2202.6 1331.18 Q2199.43 1334.79 2193.88 1334.79 Q2188.3 1334.79 2185.13 1331.18 Q2181.98 1327.54 2181.98 1321.18 Q2181.98 1314.79 2185.13 1311.18 Q2188.3 1307.56 2193.88 1307.56 Z\" fill=\"#000000\" fill-rule=\"evenodd\" fill-opacity=\"1\" /><path clip-path=\"url(#clip280)\" d=\"M 0 0 M2231.79 1318.47 L2231.79 1334.12 L2227.53 1334.12 L2227.53 1318.61 Q2227.53 1314.93 2226.1 1313.1 Q2224.66 1311.27 2221.79 1311.27 Q2218.35 1311.27 2216.35 1313.47 Q2214.36 1315.67 2214.36 1319.46 L2214.36 1334.12 L2210.08 1334.12 L2210.08 1308.19 L2214.36 1308.19 L2214.36 1312.22 Q2215.89 1309.88 2217.95 1308.72 Q2220.04 1307.56 2222.74 1307.56 Q2227.21 1307.56 2229.5 1310.34 Q2231.79 1313.1 2231.79 1318.47 Z\" fill=\"#000000\" fill-rule=\"evenodd\" fill-opacity=\"1\" /></svg>\n"
      ]
     },
     "execution_count": 36,
     "metadata": {},
     "output_type": "execute_result"
    }
   ],
   "source": [
    "plot(curve.parameter_values,\n",
    "     curve.measurements,\n",
    "     xlab=curve.parameter_name,\n",
    "     ylab=\"Cross Entropy\",\n",
    "     label=\"Validation\", lw=2, legend=:bottomright)\n",
    "# plot!(Net2.report.training_losses, label=\"Training\", lw=2)"
   ]
  },
  {
   "cell_type": "code",
   "execution_count": 37,
   "metadata": {},
   "outputs": [
    {
     "data": {
      "text/plain": [
       "1.39207"
      ]
     },
     "execution_count": 37,
     "metadata": {},
     "output_type": "execute_result"
    }
   ],
   "source": [
    "a = round(minimum(curve.measurements), digits=5)"
   ]
  },
  {
   "cell_type": "code",
   "execution_count": 38,
   "metadata": {},
   "outputs": [
    {
     "data": {
      "text/plain": [
       "0.5110207907907908"
      ]
     },
     "execution_count": 38,
     "metadata": {},
     "output_type": "execute_result"
    }
   ],
   "source": [
    "a = curve.parameter_values[argmin(curve.measurements)]"
   ]
  },
  {
   "cell_type": "code",
   "execution_count": 39,
   "metadata": {},
   "outputs": [
    {
     "data": {
      "text/plain": [
       "MLJBase.NumericRange(Float64, :merge_purity_threshold, ... )"
      ]
     },
     "execution_count": 39,
     "metadata": {},
     "output_type": "execute_result"
    }
   ],
   "source": [
    "param1 = :merge_purity_threshold\n",
    "\n",
    "r1 = range(dt, param1, lower=0.50001, upper=1, scale=:linear)"
   ]
  },
  {
   "cell_type": "code",
   "execution_count": 40,
   "metadata": {
    "scrolled": true
   },
   "outputs": [
    {
     "data": {
      "text/plain": [
       "ProbabilisticTunedModel(\n",
       "    model = DecisionTreeClassifier(\n",
       "            max_depth = -1,\n",
       "            min_samples_leaf = 1,\n",
       "            min_samples_split = 2,\n",
       "            min_purity_increase = 0.0,\n",
       "            n_subfeatures = 0,\n",
       "            post_prune = true,\n",
       "            merge_purity_threshold = 1.0,\n",
       "            pdf_smoothing = 0.0,\n",
       "            display_depth = 14),\n",
       "    tuning = Grid(\n",
       "            goal = 1000,\n",
       "            resolution = 10,\n",
       "            shuffle = true,\n",
       "            rng = Random._GLOBAL_RNG()),\n",
       "    resampling = CV(\n",
       "            nfolds = 6,\n",
       "            shuffle = true,\n",
       "            rng = Random._GLOBAL_RNG()),\n",
       "    measure = cross_entropy(\n",
       "            eps = 2.220446049250313e-16),\n",
       "    weights = nothing,\n",
       "    operation = MLJModelInterface.predict,\n",
       "    range = MLJBase.NumericRange{Float64,MLJBase.Bounded,Symbol}[\u001b[34mNumericRange{Float64,…} @828\u001b[39m],\n",
       "    train_best = true,\n",
       "    repeats = 1,\n",
       "    n = nothing,\n",
       "    acceleration = CPUThreads{Int64}(1),\n",
       "    acceleration_resampling = CPU1{Nothing}(nothing),\n",
       "    check_measure = true)\u001b[34m @210\u001b[39m"
      ]
     },
     "execution_count": 40,
     "metadata": {},
     "output_type": "execute_result"
    }
   ],
   "source": [
    "self_tuning_dt_model = TunedModel(model=dt,\n",
    "                                    tuning=Grid(goal=1000),\n",
    "                                    resampling=CV(nfolds=6, shuffle=true), \n",
    "                                    measure=cross_entropy,\n",
    "                                    acceleration=CPUThreads(),\n",
    "                                    range=[r1])"
   ]
  },
  {
   "cell_type": "code",
   "execution_count": 41,
   "metadata": {},
   "outputs": [
    {
     "data": {
      "text/plain": [
       "\u001b[34mMachine{ProbabilisticTunedModel{Grid,…}} @076\u001b[39m trained 0 times.\n",
       "  args: \n",
       "    1:\t\u001b[34mSource @931\u001b[39m ⏎ `Table{Union{AbstractArray{Continuous,1}, AbstractArray{Count,1}}}`\n",
       "    2:\t\u001b[34mSource @130\u001b[39m ⏎ `AbstractArray{Multiclass{2},1}`\n"
      ]
     },
     "execution_count": 41,
     "metadata": {},
     "output_type": "execute_result"
    }
   ],
   "source": [
    "self_tuning_dt = machine(self_tuning_dt_model, X_stand, y)"
   ]
  },
  {
   "cell_type": "code",
   "execution_count": 42,
   "metadata": {},
   "outputs": [
    {
     "name": "stderr",
     "output_type": "stream",
     "text": [
      "┌ Info: Training \u001b[34mMachine{ProbabilisticTunedModel{Grid,…}} @076\u001b[39m.\n",
      "└ @ MLJBase /home/andrew/.julia/packages/MLJBase/uKzAz/src/machines.jl:319\n",
      "┌ Info: Attempting to evaluate 1000 models.\n",
      "└ @ MLJTuning /home/andrew/.julia/packages/MLJTuning/Bbgvk/src/tuned_models.jl:494\n",
      "\u001b[33mEvaluating over 1000 metamodels: 100%[=========================] Time: 0:00:45\u001b[39m\n"
     ]
    },
    {
     "data": {
      "text/plain": [
       "\u001b[34mMachine{ProbabilisticTunedModel{Grid,…}} @076\u001b[39m trained 1 time.\n",
       "  args: \n",
       "    1:\t\u001b[34mSource @931\u001b[39m ⏎ `Table{Union{AbstractArray{Continuous,1}, AbstractArray{Count,1}}}`\n",
       "    2:\t\u001b[34mSource @130\u001b[39m ⏎ `AbstractArray{Multiclass{2},1}`\n"
      ]
     },
     "execution_count": 42,
     "metadata": {},
     "output_type": "execute_result"
    }
   ],
   "source": [
    "z = fit!(self_tuning_dt, rows=train)"
   ]
  },
  {
   "cell_type": "code",
   "execution_count": 43,
   "metadata": {},
   "outputs": [
    {
     "data": {
      "text/plain": [
       "(best_model = \u001b[34mDecisionTreeClassifier @700\u001b[39m,\n",
       " best_fitted_params = (tree = Decision Tree\n",
       "Leaves: 31\n",
       "Depth:  13,\n",
       "                       encoding = Dict{CategoricalValue{String,UInt32},UInt32}(\"RB\" => 0x00000002,\"NRB\" => 0x00000001),),)"
      ]
     },
     "execution_count": 43,
     "metadata": {},
     "output_type": "execute_result"
    }
   ],
   "source": [
    "best = fitted_params(self_tuning_dt)\n",
    "best"
   ]
  },
  {
   "cell_type": "code",
   "execution_count": 44,
   "metadata": {},
   "outputs": [
    {
     "data": {
      "text/plain": [
       "DecisionTreeClassifier(\n",
       "    max_depth = -1,\n",
       "    min_samples_leaf = 1,\n",
       "    min_samples_split = 2,\n",
       "    min_purity_increase = 0.0,\n",
       "    n_subfeatures = 0,\n",
       "    post_prune = true,\n",
       "    merge_purity_threshold = 0.5385477677677678,\n",
       "    pdf_smoothing = 0.0,\n",
       "    display_depth = 14)\u001b[34m @700\u001b[39m"
      ]
     },
     "execution_count": 44,
     "metadata": {},
     "output_type": "execute_result"
    }
   ],
   "source": [
    "best.best_model"
   ]
  },
  {
   "cell_type": "code",
   "execution_count": 45,
   "metadata": {},
   "outputs": [
    {
     "data": {
      "text/plain": [
       "1.12331"
      ]
     },
     "execution_count": 45,
     "metadata": {},
     "output_type": "execute_result"
    }
   ],
   "source": [
    "best_loss = round(z.report.best_result.measurement[1],digits=5)"
   ]
  },
  {
   "cell_type": "code",
   "execution_count": 46,
   "metadata": {},
   "outputs": [
    {
     "data": {
      "text/plain": [
       "0.53855"
      ]
     },
     "execution_count": 46,
     "metadata": {},
     "output_type": "execute_result"
    }
   ],
   "source": [
    "best_mpt = round(best.best_model.merge_purity_threshold,digits=5)"
   ]
  },
  {
   "cell_type": "code",
   "execution_count": 47,
   "metadata": {},
   "outputs": [],
   "source": [
    "fn = \"Figures/MCC_DT_merge_purity_thresh:$(best_mpt)_loss:$(best_loss)\"\n",
    "png(replace(fn,'.' => ','))"
   ]
  },
  {
   "cell_type": "markdown",
   "metadata": {},
   "source": [
    "### Learning Curve"
   ]
  },
  {
   "cell_type": "code",
   "execution_count": 48,
   "metadata": {},
   "outputs": [
    {
     "data": {
      "text/plain": [
       "DecisionTreeClassifier(\n",
       "    max_depth = -1,\n",
       "    min_samples_leaf = 1,\n",
       "    min_samples_split = 2,\n",
       "    min_purity_increase = 0.0,\n",
       "    n_subfeatures = 0,\n",
       "    post_prune = true,\n",
       "    merge_purity_threshold = 0.53855,\n",
       "    pdf_smoothing = 0.0,\n",
       "    display_depth = 5)\u001b[34m @973\u001b[39m"
      ]
     },
     "execution_count": 48,
     "metadata": {},
     "output_type": "execute_result"
    }
   ],
   "source": [
    "dt = DecisionTreeClassifier(post_prune=true, merge_purity_threshold=best_mpt)"
   ]
  },
  {
   "cell_type": "code",
   "execution_count": 49,
   "metadata": {},
   "outputs": [
    {
     "name": "stdout",
     "output_type": "stream",
     "text": [
      "(d, train_metric, valid_metric) = (10, 0.9, 0.7027027027027027)\n",
      "(d, train_metric, valid_metric) = (15, 0.8666666666666667, 0.7027027027027027)\n",
      "(d, train_metric, valid_metric) = (20, 0.8, 0.7027027027027027)\n",
      "(d, train_metric, valid_metric) = (25, 1.0, 0.7297297297297297)\n",
      "(d, train_metric, valid_metric) = (30, 1.0, 0.7635135135135135)\n",
      "(d, train_metric, valid_metric) = (35, 1.0, 0.7162162162162162)\n",
      "(d, train_metric, valid_metric) = (40, 0.775, 0.7027027027027027)\n",
      "(d, train_metric, valid_metric) = (45, 0.8, 0.7027027027027027)\n",
      "(d, train_metric, valid_metric) = (50, 0.78, 0.7027027027027027)\n",
      "(d, train_metric, valid_metric) = (55, 0.7636363636363637, 0.7027027027027027)\n",
      "(d, train_metric, valid_metric) = (60, 0.9333333333333333, 0.7635135135135135)\n",
      "(d, train_metric, valid_metric) = (65, 0.9846153846153847, 0.7432432432432432)\n",
      "(d, train_metric, valid_metric) = (70, 0.8857142857142857, 0.7094594594594594)\n",
      "(d, train_metric, valid_metric) = (75, 0.8933333333333333, 0.75)\n",
      "(d, train_metric, valid_metric) = (80, 0.6875, 0.7027027027027027)\n",
      "(d, train_metric, valid_metric) = (85, 0.8588235294117647, 0.7094594594594594)\n",
      "(d, train_metric, valid_metric) = (90, 0.7111111111111111, 0.7027027027027027)\n",
      "(d, train_metric, valid_metric) = (95, 0.7684210526315789, 0.7432432432432432)\n",
      "(d, train_metric, valid_metric) = (100, 0.7, 0.7027027027027027)\n",
      "(d, train_metric, valid_metric) = (105, 0.7047619047619048, 0.7027027027027027)\n",
      "(d, train_metric, valid_metric) = (110, 0.8727272727272727, 0.7635135135135135)\n",
      "(d, train_metric, valid_metric) = (115, 0.8782608695652174, 0.7297297297297297)\n",
      "(d, train_metric, valid_metric) = (120, 0.875, 0.7297297297297297)\n",
      "(d, train_metric, valid_metric) = (125, 0.864, 0.7297297297297297)\n",
      "(d, train_metric, valid_metric) = (130, 0.8692307692307693, 0.7297297297297297)\n",
      "(d, train_metric, valid_metric) = (135, 0.8740740740740741, 0.7297297297297297)\n",
      "(d, train_metric, valid_metric) = (140, 0.8571428571428571, 0.7837837837837838)\n",
      "(d, train_metric, valid_metric) = (145, 0.8275862068965517, 0.7635135135135135)\n",
      "(d, train_metric, valid_metric) = (150, 0.8266666666666667, 0.7567567567567568)\n",
      "(d, train_metric, valid_metric) = (155, 0.8258064516129032, 0.75)\n",
      "(d, train_metric, valid_metric) = (160, 0.83125, 0.75)\n",
      "(d, train_metric, valid_metric) = (165, 0.8303030303030303, 0.7567567567567568)\n",
      "(d, train_metric, valid_metric) = (170, 0.8352941176470589, 0.7972972972972973)\n",
      "(d, train_metric, valid_metric) = (175, 0.8342857142857143, 0.7972972972972973)\n",
      "(d, train_metric, valid_metric) = (180, 0.6888888888888889, 0.7027027027027027)\n",
      "(d, train_metric, valid_metric) = (185, 0.6972972972972973, 0.7027027027027027)\n",
      "(d, train_metric, valid_metric) = (190, 0.6894736842105263, 0.7027027027027027)\n",
      "(d, train_metric, valid_metric) = (195, 0.6871794871794872, 0.7027027027027027)\n",
      "(d, train_metric, valid_metric) = (200, 0.88, 0.7837837837837838)\n",
      "(d, train_metric, valid_metric) = (205, 0.8829268292682927, 0.7837837837837838)\n",
      "(d, train_metric, valid_metric) = (210, 0.7047619047619048, 0.7027027027027027)\n",
      "(d, train_metric, valid_metric) = (215, 0.8465116279069768, 0.7905405405405406)\n",
      "(d, train_metric, valid_metric) = (220, 0.8863636363636364, 0.7635135135135135)\n",
      "(d, train_metric, valid_metric) = (225, 0.8444444444444444, 0.7702702702702703)\n",
      "(d, train_metric, valid_metric) = (230, 0.8434782608695652, 0.777027027027027)\n",
      "(d, train_metric, valid_metric) = (235, 0.7063829787234043, 0.7027027027027027)\n",
      "(d, train_metric, valid_metric) = (240, 0.8458333333333333, 0.7905405405405406)\n",
      "(d, train_metric, valid_metric) = (245, 0.7020408163265306, 0.7027027027027027)\n",
      "(d, train_metric, valid_metric) = (250, 0.904, 0.777027027027027)\n",
      "(d, train_metric, valid_metric) = (255, 0.9098039215686274, 0.8378378378378378)\n",
      "(d, train_metric, valid_metric) = (260, 0.9076923076923077, 0.831081081081081)\n",
      "(d, train_metric, valid_metric) = (265, 0.9056603773584906, 0.8243243243243243)\n",
      "(d, train_metric, valid_metric) = (270, 0.9148148148148149, 0.8243243243243243)\n",
      "(d, train_metric, valid_metric) = (275, 0.8981818181818182, 0.8175675675675675)\n",
      "(d, train_metric, valid_metric) = (280, 0.8964285714285715, 0.8108108108108109)\n",
      "(d, train_metric, valid_metric) = (285, 0.9157894736842105, 0.8040540540540541)\n",
      "(d, train_metric, valid_metric) = (290, 0.9172413793103448, 0.8243243243243243)\n",
      "(d, train_metric, valid_metric) = (295, 0.9016949152542373, 0.831081081081081)\n",
      "(d, train_metric, valid_metric) = (300, 0.8466666666666667, 0.7972972972972973)\n",
      "(d, train_metric, valid_metric) = (305, 0.8459016393442623, 0.8040540540540541)\n",
      "(d, train_metric, valid_metric) = (310, 0.9129032258064517, 0.8243243243243243)\n",
      "(d, train_metric, valid_metric) = (315, 0.8412698412698413, 0.7567567567567568)\n",
      "(d, train_metric, valid_metric) = (320, 0.896875, 0.7162162162162162)\n",
      "(d, train_metric, valid_metric) = (325, 0.9323076923076923, 0.7567567567567568)\n",
      "(d, train_metric, valid_metric) = (330, 0.9333333333333333, 0.7837837837837838)\n",
      "(d, train_metric, valid_metric) = (335, 0.9283582089552239, 0.7567567567567568)\n",
      "(d, train_metric, valid_metric) = (340, 0.9029411764705882, 0.7432432432432432)\n",
      "(d, train_metric, valid_metric) = (345, 0.9159420289855073, 0.7905405405405406)\n",
      "(d, train_metric, valid_metric) = (350, 0.9142857142857143, 0.777027027027027)\n",
      "(d, train_metric, valid_metric) = (355, 0.9014084507042254, 0.7972972972972973)\n",
      "(d, train_metric, valid_metric) = (360, 0.8916666666666667, 0.7837837837837838)\n",
      "(d, train_metric, valid_metric) = (365, 0.8849315068493151, 0.7702702702702703)\n",
      "(d, train_metric, valid_metric) = (370, 0.927027027027027, 0.7972972972972973)\n",
      "(d, train_metric, valid_metric) = (375, 0.896, 0.7972972972972973)\n",
      "(d, train_metric, valid_metric) = (380, 0.8578947368421053, 0.8108108108108109)\n",
      "(d, train_metric, valid_metric) = (385, 0.9090909090909091, 0.8175675675675675)\n",
      "(d, train_metric, valid_metric) = (390, 0.9076923076923077, 0.7837837837837838)\n",
      "(d, train_metric, valid_metric) = (395, 0.9113924050632911, 0.8445945945945946)\n",
      "(d, train_metric, valid_metric) = (400, 0.875, 0.831081081081081)\n",
      "(d, train_metric, valid_metric) = (405, 0.9111111111111111, 0.8445945945945946)\n",
      "(d, train_metric, valid_metric) = (410, 0.9390243902439024, 0.8851351351351351)\n",
      "(d, train_metric, valid_metric) = (415, 0.9349397590361446, 0.8783783783783784)\n",
      "(d, train_metric, valid_metric) = (420, 0.9071428571428571, 0.8445945945945946)\n",
      "(d, train_metric, valid_metric) = (425, 0.8329411764705882, 0.7972972972972973)\n",
      "(d, train_metric, valid_metric) = (430, 0.8325581395348837, 0.7972972972972973)\n",
      "(d, train_metric, valid_metric) = (435, 0.832183908045977, 0.7972972972972973)\n",
      "(d, train_metric, valid_metric) = (440, 0.8409090909090909, 0.7837837837837838)\n",
      "(d, train_metric, valid_metric) = (445, 0.8741573033707866, 0.7905405405405406)\n",
      "(d, train_metric, valid_metric) = (450, 0.8933333333333333, 0.7905405405405406)\n",
      "(d, train_metric, valid_metric) = (455, 0.8879120879120879, 0.7905405405405406)\n",
      "(d, train_metric, valid_metric) = (460, 0.8869565217391304, 0.7905405405405406)\n",
      "(d, train_metric, valid_metric) = (465, 0.8881720430107527, 0.777027027027027)\n",
      "(d, train_metric, valid_metric) = (470, 0.8893617021276595, 0.7702702702702703)\n",
      "(d, train_metric, valid_metric) = (475, 0.8863157894736842, 0.7905405405405406)\n",
      "(d, train_metric, valid_metric) = (480, 0.85625, 0.7702702702702703)\n",
      "(d, train_metric, valid_metric) = (485, 0.865979381443299, 0.777027027027027)\n",
      "(d, train_metric, valid_metric) = (490, 0.8653061224489796, 0.777027027027027)\n",
      "(d, train_metric, valid_metric) = (495, 0.8626262626262626, 0.777027027027027)\n",
      "(d, train_metric, valid_metric) = (500, 0.92, 0.7905405405405406)\n",
      "(d, train_metric, valid_metric) = (505, 0.906930693069307, 0.7635135135135135)\n",
      "(d, train_metric, valid_metric) = (510, 0.8960784313725491, 0.777027027027027)\n",
      "(d, train_metric, valid_metric) = (515, 0.8932038834951457, 0.75)\n",
      "(d, train_metric, valid_metric) = (520, 0.9153846153846154, 0.7972972972972973)\n",
      "(d, train_metric, valid_metric) = (525, 0.9219047619047619, 0.8040540540540541)\n",
      "(d, train_metric, valid_metric) = (530, 0.930188679245283, 0.777027027027027)\n",
      "(d, train_metric, valid_metric) = (535, 0.8934579439252337, 0.7905405405405406)\n",
      "(d, train_metric, valid_metric) = (540, 0.8907407407407407, 0.7837837837837838)\n",
      "(d, train_metric, valid_metric) = (545, 0.8990825688073395, 0.8243243243243243)\n",
      "(d, train_metric, valid_metric) = (550, 0.9327272727272727, 0.8108108108108109)\n",
      "(d, train_metric, valid_metric) = (555, 0.9279279279279279, 0.8040540540540541)\n",
      "(d, train_metric, valid_metric) = (560, 0.9535714285714286, 0.8445945945945946)\n",
      "(d, train_metric, valid_metric) = (565, 0.9274336283185841, 0.7972972972972973)\n"
     ]
    },
    {
     "name": "stdout",
     "output_type": "stream",
     "text": [
      "(d, train_metric, valid_metric) = (570, 0.9526315789473684, 0.8243243243243243)\n",
      "(d, train_metric, valid_metric) = (575, 0.92, 0.8243243243243243)\n",
      "(d, train_metric, valid_metric) = (580, 0.8948275862068965, 0.8040540540540541)\n",
      "(d, train_metric, valid_metric) = (585, 0.9179487179487179, 0.8175675675675675)\n",
      "(d, train_metric, valid_metric) = (590, 0.9203389830508475, 0.8175675675675675)\n"
     ]
    },
    {
     "data": {
      "text/plain": [
       "(10:5:590, Any[0.9, 0.8666666666666667, 0.8, 1.0, 1.0, 1.0, 0.775, 0.8, 0.78, 0.7636363636363637  …  0.8990825688073395, 0.9327272727272727, 0.9279279279279279, 0.9535714285714286, 0.9274336283185841, 0.9526315789473684, 0.92, 0.8948275862068965, 0.9179487179487179, 0.9203389830508475], Any[0.7027027027027027, 0.7027027027027027, 0.7027027027027027, 0.7297297297297297, 0.7635135135135135, 0.7162162162162162, 0.7027027027027027, 0.7027027027027027, 0.7027027027027027, 0.7027027027027027  …  0.8243243243243243, 0.8108108108108109, 0.8040540540540541, 0.8445945945945946, 0.7972972972972973, 0.8243243243243243, 0.8243243243243243, 0.8040540540540541, 0.8175675675675675, 0.8175675675675675])"
      ]
     },
     "execution_count": 49,
     "metadata": {},
     "output_type": "execute_result"
    }
   ],
   "source": [
    "data_schedule, training_losses, valid_losses = learn_curve(dt, X_stand[train,:], y[train], acc)"
   ]
  },
  {
   "cell_type": "code",
   "execution_count": 50,
   "metadata": {
    "scrolled": false
   },
   "outputs": [
    {
     "data": {
      "image/svg+xml": [
       "<?xml version=\"1.0\" encoding=\"utf-8\"?>\n",
       "<svg xmlns=\"http://www.w3.org/2000/svg\" xmlns:xlink=\"http://www.w3.org/1999/xlink\" width=\"600\" height=\"400\" viewBox=\"0 0 2400 1600\">\n",
       "<defs>\n",
       "  <clipPath id=\"clip330\">\n",
       "    <rect x=\"0\" y=\"0\" width=\"2400\" height=\"1600\"/>\n",
       "  </clipPath>\n",
       "</defs>\n",
       "<path clip-path=\"url(#clip330)\" d=\"\n",
       "M0 1600 L2400 1600 L2400 0 L0 0  Z\n",
       "  \" fill=\"#ffffff\" fill-rule=\"evenodd\" fill-opacity=\"1\"/>\n",
       "<defs>\n",
       "  <clipPath id=\"clip331\">\n",
       "    <rect x=\"480\" y=\"0\" width=\"1681\" height=\"1600\"/>\n",
       "  </clipPath>\n",
       "</defs>\n",
       "<path clip-path=\"url(#clip330)\" d=\"\n",
       "M211.024 1423.18 L2352.76 1423.18 L2352.76 47.2441 L211.024 47.2441  Z\n",
       "  \" fill=\"#ffffff\" fill-rule=\"evenodd\" fill-opacity=\"1\"/>\n",
       "<defs>\n",
       "  <clipPath id=\"clip332\">\n",
       "    <rect x=\"211\" y=\"47\" width=\"2143\" height=\"1377\"/>\n",
       "  </clipPath>\n",
       "</defs>\n",
       "<polyline clip-path=\"url(#clip332)\" style=\"stroke:#000000; stroke-width:2; stroke-opacity:0.1; fill:none\" points=\"\n",
       "  236.803,1423.18 236.803,47.2441 \n",
       "  \"/>\n",
       "<polyline clip-path=\"url(#clip332)\" style=\"stroke:#000000; stroke-width:2; stroke-opacity:0.1; fill:none\" points=\"\n",
       "  585.165,1423.18 585.165,47.2441 \n",
       "  \"/>\n",
       "<polyline clip-path=\"url(#clip332)\" style=\"stroke:#000000; stroke-width:2; stroke-opacity:0.1; fill:none\" points=\"\n",
       "  933.527,1423.18 933.527,47.2441 \n",
       "  \"/>\n",
       "<polyline clip-path=\"url(#clip332)\" style=\"stroke:#000000; stroke-width:2; stroke-opacity:0.1; fill:none\" points=\"\n",
       "  1281.89,1423.18 1281.89,47.2441 \n",
       "  \"/>\n",
       "<polyline clip-path=\"url(#clip332)\" style=\"stroke:#000000; stroke-width:2; stroke-opacity:0.1; fill:none\" points=\"\n",
       "  1630.25,1423.18 1630.25,47.2441 \n",
       "  \"/>\n",
       "<polyline clip-path=\"url(#clip332)\" style=\"stroke:#000000; stroke-width:2; stroke-opacity:0.1; fill:none\" points=\"\n",
       "  1978.61,1423.18 1978.61,47.2441 \n",
       "  \"/>\n",
       "<polyline clip-path=\"url(#clip332)\" style=\"stroke:#000000; stroke-width:2; stroke-opacity:0.1; fill:none\" points=\"\n",
       "  2326.98,1423.18 2326.98,47.2441 \n",
       "  \"/>\n",
       "<polyline clip-path=\"url(#clip332)\" style=\"stroke:#000000; stroke-width:2; stroke-opacity:0.1; fill:none\" points=\"\n",
       "  211.024,1331.04 2352.76,1331.04 \n",
       "  \"/>\n",
       "<polyline clip-path=\"url(#clip332)\" style=\"stroke:#000000; stroke-width:2; stroke-opacity:0.1; fill:none\" points=\"\n",
       "  211.024,916.088 2352.76,916.088 \n",
       "  \"/>\n",
       "<polyline clip-path=\"url(#clip332)\" style=\"stroke:#000000; stroke-width:2; stroke-opacity:0.1; fill:none\" points=\"\n",
       "  211.024,501.137 2352.76,501.137 \n",
       "  \"/>\n",
       "<polyline clip-path=\"url(#clip332)\" style=\"stroke:#000000; stroke-width:2; stroke-opacity:0.1; fill:none\" points=\"\n",
       "  211.024,86.1857 2352.76,86.1857 \n",
       "  \"/>\n",
       "<polyline clip-path=\"url(#clip330)\" style=\"stroke:#000000; stroke-width:4; stroke-opacity:1; fill:none\" points=\"\n",
       "  211.024,1423.18 2352.76,1423.18 \n",
       "  \"/>\n",
       "<polyline clip-path=\"url(#clip330)\" style=\"stroke:#000000; stroke-width:4; stroke-opacity:1; fill:none\" points=\"\n",
       "  211.024,1423.18 211.024,47.2441 \n",
       "  \"/>\n",
       "<polyline clip-path=\"url(#clip330)\" style=\"stroke:#000000; stroke-width:4; stroke-opacity:1; fill:none\" points=\"\n",
       "  236.803,1423.18 236.803,1406.67 \n",
       "  \"/>\n",
       "<polyline clip-path=\"url(#clip330)\" style=\"stroke:#000000; stroke-width:4; stroke-opacity:1; fill:none\" points=\"\n",
       "  585.165,1423.18 585.165,1406.67 \n",
       "  \"/>\n",
       "<polyline clip-path=\"url(#clip330)\" style=\"stroke:#000000; stroke-width:4; stroke-opacity:1; fill:none\" points=\"\n",
       "  933.527,1423.18 933.527,1406.67 \n",
       "  \"/>\n",
       "<polyline clip-path=\"url(#clip330)\" style=\"stroke:#000000; stroke-width:4; stroke-opacity:1; fill:none\" points=\"\n",
       "  1281.89,1423.18 1281.89,1406.67 \n",
       "  \"/>\n",
       "<polyline clip-path=\"url(#clip330)\" style=\"stroke:#000000; stroke-width:4; stroke-opacity:1; fill:none\" points=\"\n",
       "  1630.25,1423.18 1630.25,1406.67 \n",
       "  \"/>\n",
       "<polyline clip-path=\"url(#clip330)\" style=\"stroke:#000000; stroke-width:4; stroke-opacity:1; fill:none\" points=\"\n",
       "  1978.61,1423.18 1978.61,1406.67 \n",
       "  \"/>\n",
       "<polyline clip-path=\"url(#clip330)\" style=\"stroke:#000000; stroke-width:4; stroke-opacity:1; fill:none\" points=\"\n",
       "  2326.98,1423.18 2326.98,1406.67 \n",
       "  \"/>\n",
       "<polyline clip-path=\"url(#clip330)\" style=\"stroke:#000000; stroke-width:4; stroke-opacity:1; fill:none\" points=\"\n",
       "  211.024,1331.04 236.725,1331.04 \n",
       "  \"/>\n",
       "<polyline clip-path=\"url(#clip330)\" style=\"stroke:#000000; stroke-width:4; stroke-opacity:1; fill:none\" points=\"\n",
       "  211.024,916.088 236.725,916.088 \n",
       "  \"/>\n",
       "<polyline clip-path=\"url(#clip330)\" style=\"stroke:#000000; stroke-width:4; stroke-opacity:1; fill:none\" points=\"\n",
       "  211.024,501.137 236.725,501.137 \n",
       "  \"/>\n",
       "<polyline clip-path=\"url(#clip330)\" style=\"stroke:#000000; stroke-width:4; stroke-opacity:1; fill:none\" points=\"\n",
       "  211.024,86.1857 236.725,86.1857 \n",
       "  \"/>\n",
       "<path clip-path=\"url(#clip330)\" d=\"M 0 0 M236.803 1445.17 Q233.191 1445.17 231.363 1448.74 Q229.557 1452.28 229.557 1459.41 Q229.557 1466.51 231.363 1470.08 Q233.191 1473.62 236.803 1473.62 Q240.437 1473.62 242.242 1470.08 Q244.071 1466.51 244.071 1459.41 Q244.071 1452.28 242.242 1448.74 Q240.437 1445.17 236.803 1445.17 M236.803 1441.47 Q242.613 1441.47 245.668 1446.07 Q248.747 1450.66 248.747 1459.41 Q248.747 1468.13 245.668 1472.74 Q242.613 1477.32 236.803 1477.32 Q230.992 1477.32 227.914 1472.74 Q224.858 1468.13 224.858 1459.41 Q224.858 1450.66 227.914 1446.07 Q230.992 1441.47 236.803 1441.47 Z\" fill=\"#000000\" fill-rule=\"evenodd\" fill-opacity=\"1\" /><path clip-path=\"url(#clip330)\" d=\"M 0 0 M548.533 1472.72 L556.172 1472.72 L556.172 1446.35 L547.862 1448.02 L547.862 1443.76 L556.126 1442.09 L560.802 1442.09 L560.802 1472.72 L568.441 1472.72 L568.441 1476.65 L548.533 1476.65 L548.533 1472.72 Z\" fill=\"#000000\" fill-rule=\"evenodd\" fill-opacity=\"1\" /><path clip-path=\"url(#clip330)\" d=\"M 0 0 M583.51 1445.17 Q579.899 1445.17 578.07 1448.74 Q576.265 1452.28 576.265 1459.41 Q576.265 1466.51 578.07 1470.08 Q579.899 1473.62 583.51 1473.62 Q587.144 1473.62 588.95 1470.08 Q590.778 1466.51 590.778 1459.41 Q590.778 1452.28 588.95 1448.74 Q587.144 1445.17 583.51 1445.17 M583.51 1441.47 Q589.32 1441.47 592.376 1446.07 Q595.454 1450.66 595.454 1459.41 Q595.454 1468.13 592.376 1472.74 Q589.32 1477.32 583.51 1477.32 Q577.7 1477.32 574.621 1472.74 Q571.566 1468.13 571.566 1459.41 Q571.566 1450.66 574.621 1446.07 Q577.7 1441.47 583.51 1441.47 Z\" fill=\"#000000\" fill-rule=\"evenodd\" fill-opacity=\"1\" /><path clip-path=\"url(#clip330)\" d=\"M 0 0 M610.524 1445.17 Q606.913 1445.17 605.084 1448.74 Q603.278 1452.28 603.278 1459.41 Q603.278 1466.51 605.084 1470.08 Q606.913 1473.62 610.524 1473.62 Q614.158 1473.62 615.963 1470.08 Q617.792 1466.51 617.792 1459.41 Q617.792 1452.28 615.963 1448.74 Q614.158 1445.17 610.524 1445.17 M610.524 1441.47 Q616.334 1441.47 619.389 1446.07 Q622.468 1450.66 622.468 1459.41 Q622.468 1468.13 619.389 1472.74 Q616.334 1477.32 610.524 1477.32 Q604.713 1477.32 601.635 1472.74 Q598.579 1468.13 598.579 1459.41 Q598.579 1450.66 601.635 1446.07 Q604.713 1441.47 610.524 1441.47 Z\" fill=\"#000000\" fill-rule=\"evenodd\" fill-opacity=\"1\" /><path clip-path=\"url(#clip330)\" d=\"M 0 0 M901.166 1472.72 L917.486 1472.72 L917.486 1476.65 L895.541 1476.65 L895.541 1472.72 Q898.204 1469.96 902.787 1465.33 Q907.393 1460.68 908.574 1459.34 Q910.819 1456.81 911.699 1455.08 Q912.602 1453.32 912.602 1451.63 Q912.602 1448.87 910.657 1447.14 Q908.736 1445.4 905.634 1445.4 Q903.435 1445.4 900.981 1446.17 Q898.551 1446.93 895.773 1448.48 L895.773 1443.76 Q898.597 1442.62 901.051 1442.05 Q903.504 1441.47 905.541 1441.47 Q910.912 1441.47 914.106 1444.15 Q917.301 1446.84 917.301 1451.33 Q917.301 1453.46 916.49 1455.38 Q915.703 1457.28 913.597 1459.87 Q913.018 1460.54 909.916 1463.76 Q906.815 1466.95 901.166 1472.72 Z\" fill=\"#000000\" fill-rule=\"evenodd\" fill-opacity=\"1\" /><path clip-path=\"url(#clip330)\" d=\"M 0 0 M932.555 1445.17 Q928.944 1445.17 927.115 1448.74 Q925.31 1452.28 925.31 1459.41 Q925.31 1466.51 927.115 1470.08 Q928.944 1473.62 932.555 1473.62 Q936.189 1473.62 937.995 1470.08 Q939.824 1466.51 939.824 1459.41 Q939.824 1452.28 937.995 1448.74 Q936.189 1445.17 932.555 1445.17 M932.555 1441.47 Q938.365 1441.47 941.421 1446.07 Q944.5 1450.66 944.5 1459.41 Q944.5 1468.13 941.421 1472.74 Q938.365 1477.32 932.555 1477.32 Q926.745 1477.32 923.666 1472.74 Q920.611 1468.13 920.611 1459.41 Q920.611 1450.66 923.666 1446.07 Q926.745 1441.47 932.555 1441.47 Z\" fill=\"#000000\" fill-rule=\"evenodd\" fill-opacity=\"1\" /><path clip-path=\"url(#clip330)\" d=\"M 0 0 M959.569 1445.17 Q955.958 1445.17 954.129 1448.74 Q952.324 1452.28 952.324 1459.41 Q952.324 1466.51 954.129 1470.08 Q955.958 1473.62 959.569 1473.62 Q963.203 1473.62 965.009 1470.08 Q966.837 1466.51 966.837 1459.41 Q966.837 1452.28 965.009 1448.74 Q963.203 1445.17 959.569 1445.17 M959.569 1441.47 Q965.379 1441.47 968.435 1446.07 Q971.513 1450.66 971.513 1459.41 Q971.513 1468.13 968.435 1472.74 Q965.379 1477.32 959.569 1477.32 Q953.759 1477.32 950.68 1472.74 Q947.625 1468.13 947.625 1459.41 Q947.625 1450.66 950.68 1446.07 Q953.759 1441.47 959.569 1441.47 Z\" fill=\"#000000\" fill-rule=\"evenodd\" fill-opacity=\"1\" /><path clip-path=\"url(#clip330)\" d=\"M 0 0 M1259.12 1458.02 Q1262.48 1458.74 1264.36 1461 Q1266.25 1463.27 1266.25 1466.61 Q1266.25 1471.72 1262.73 1474.52 Q1259.22 1477.32 1252.73 1477.32 Q1250.56 1477.32 1248.24 1476.88 Q1245.95 1476.47 1243.5 1475.61 L1243.5 1471.1 Q1245.44 1472.23 1247.76 1472.81 Q1250.07 1473.39 1252.6 1473.39 Q1256.99 1473.39 1259.29 1471.65 Q1261.6 1469.92 1261.6 1466.61 Q1261.6 1463.55 1259.45 1461.84 Q1257.32 1460.1 1253.5 1460.1 L1249.47 1460.1 L1249.47 1456.26 L1253.68 1456.26 Q1257.13 1456.26 1258.96 1454.89 Q1260.79 1453.5 1260.79 1450.91 Q1260.79 1448.25 1258.89 1446.84 Q1257.02 1445.4 1253.5 1445.4 Q1251.58 1445.4 1249.38 1445.82 Q1247.18 1446.24 1244.54 1447.11 L1244.54 1442.95 Q1247.2 1442.21 1249.52 1441.84 Q1251.86 1441.47 1253.92 1441.47 Q1259.24 1441.47 1262.34 1443.9 Q1265.44 1446.3 1265.44 1450.43 Q1265.44 1453.3 1263.8 1455.29 Q1262.16 1457.25 1259.12 1458.02 Z\" fill=\"#000000\" fill-rule=\"evenodd\" fill-opacity=\"1\" /><path clip-path=\"url(#clip330)\" d=\"M 0 0 M1281.32 1445.17 Q1277.71 1445.17 1275.88 1448.74 Q1274.08 1452.28 1274.08 1459.41 Q1274.08 1466.51 1275.88 1470.08 Q1277.71 1473.62 1281.32 1473.62 Q1284.96 1473.62 1286.76 1470.08 Q1288.59 1466.51 1288.59 1459.41 Q1288.59 1452.28 1286.76 1448.74 Q1284.96 1445.17 1281.32 1445.17 M1281.32 1441.47 Q1287.13 1441.47 1290.19 1446.07 Q1293.27 1450.66 1293.27 1459.41 Q1293.27 1468.13 1290.19 1472.74 Q1287.13 1477.32 1281.32 1477.32 Q1275.51 1477.32 1272.43 1472.74 Q1269.38 1468.13 1269.38 1459.41 Q1269.38 1450.66 1272.43 1446.07 Q1275.51 1441.47 1281.32 1441.47 Z\" fill=\"#000000\" fill-rule=\"evenodd\" fill-opacity=\"1\" /><path clip-path=\"url(#clip330)\" d=\"M 0 0 M1308.34 1445.17 Q1304.73 1445.17 1302.9 1448.74 Q1301.09 1452.28 1301.09 1459.41 Q1301.09 1466.51 1302.9 1470.08 Q1304.73 1473.62 1308.34 1473.62 Q1311.97 1473.62 1313.78 1470.08 Q1315.6 1466.51 1315.6 1459.41 Q1315.6 1452.28 1313.78 1448.74 Q1311.97 1445.17 1308.34 1445.17 M1308.34 1441.47 Q1314.15 1441.47 1317.2 1446.07 Q1320.28 1450.66 1320.28 1459.41 Q1320.28 1468.13 1317.2 1472.74 Q1314.15 1477.32 1308.34 1477.32 Q1302.53 1477.32 1299.45 1472.74 Q1296.39 1468.13 1296.39 1459.41 Q1296.39 1450.66 1299.45 1446.07 Q1302.53 1441.47 1308.34 1441.47 Z\" fill=\"#000000\" fill-rule=\"evenodd\" fill-opacity=\"1\" /><path clip-path=\"url(#clip330)\" d=\"M 0 0 M1606.25 1446.17 L1594.44 1464.61 L1606.25 1464.61 L1606.25 1446.17 M1605.02 1442.09 L1610.9 1442.09 L1610.9 1464.61 L1615.83 1464.61 L1615.83 1468.5 L1610.9 1468.5 L1610.9 1476.65 L1606.25 1476.65 L1606.25 1468.5 L1590.65 1468.5 L1590.65 1463.99 L1605.02 1442.09 Z\" fill=\"#000000\" fill-rule=\"evenodd\" fill-opacity=\"1\" /><path clip-path=\"url(#clip330)\" d=\"M 0 0 M1630.9 1445.17 Q1627.29 1445.17 1625.46 1448.74 Q1623.66 1452.28 1623.66 1459.41 Q1623.66 1466.51 1625.46 1470.08 Q1627.29 1473.62 1630.9 1473.62 Q1634.53 1473.62 1636.34 1470.08 Q1638.17 1466.51 1638.17 1459.41 Q1638.17 1452.28 1636.34 1448.74 Q1634.53 1445.17 1630.9 1445.17 M1630.9 1441.47 Q1636.71 1441.47 1639.77 1446.07 Q1642.84 1450.66 1642.84 1459.41 Q1642.84 1468.13 1639.77 1472.74 Q1636.71 1477.32 1630.9 1477.32 Q1625.09 1477.32 1622.01 1472.74 Q1618.96 1468.13 1618.96 1459.41 Q1618.96 1450.66 1622.01 1446.07 Q1625.09 1441.47 1630.9 1441.47 Z\" fill=\"#000000\" fill-rule=\"evenodd\" fill-opacity=\"1\" /><path clip-path=\"url(#clip330)\" d=\"M 0 0 M1657.91 1445.17 Q1654.3 1445.17 1652.47 1448.74 Q1650.67 1452.28 1650.67 1459.41 Q1650.67 1466.51 1652.47 1470.08 Q1654.3 1473.62 1657.91 1473.62 Q1661.55 1473.62 1663.35 1470.08 Q1665.18 1466.51 1665.18 1459.41 Q1665.18 1452.28 1663.35 1448.74 Q1661.55 1445.17 1657.91 1445.17 M1657.91 1441.47 Q1663.72 1441.47 1666.78 1446.07 Q1669.86 1450.66 1669.86 1459.41 Q1669.86 1468.13 1666.78 1472.74 Q1663.72 1477.32 1657.91 1477.32 Q1652.1 1477.32 1649.03 1472.74 Q1645.97 1468.13 1645.97 1459.41 Q1645.97 1450.66 1649.03 1446.07 Q1652.1 1441.47 1657.91 1441.47 Z\" fill=\"#000000\" fill-rule=\"evenodd\" fill-opacity=\"1\" /><path clip-path=\"url(#clip330)\" d=\"M 0 0 M1941.88 1442.09 L1960.24 1442.09 L1960.24 1446.03 L1946.16 1446.03 L1946.16 1454.5 Q1947.18 1454.15 1948.2 1453.99 Q1949.22 1453.8 1950.24 1453.8 Q1956.02 1453.8 1959.4 1456.98 Q1962.78 1460.15 1962.78 1465.56 Q1962.78 1471.14 1959.31 1474.24 Q1955.84 1477.32 1949.52 1477.32 Q1947.34 1477.32 1945.07 1476.95 Q1942.83 1476.58 1940.42 1475.84 L1940.42 1471.14 Q1942.5 1472.28 1944.73 1472.83 Q1946.95 1473.39 1949.43 1473.39 Q1953.43 1473.39 1955.77 1471.28 Q1958.11 1469.18 1958.11 1465.56 Q1958.11 1461.95 1955.77 1459.85 Q1953.43 1457.74 1949.43 1457.74 Q1947.55 1457.74 1945.68 1458.16 Q1943.82 1458.57 1941.88 1459.45 L1941.88 1442.09 Z\" fill=\"#000000\" fill-rule=\"evenodd\" fill-opacity=\"1\" /><path clip-path=\"url(#clip330)\" d=\"M 0 0 M1977.85 1445.17 Q1974.24 1445.17 1972.41 1448.74 Q1970.61 1452.28 1970.61 1459.41 Q1970.61 1466.51 1972.41 1470.08 Q1974.24 1473.62 1977.85 1473.62 Q1981.49 1473.62 1983.29 1470.08 Q1985.12 1466.51 1985.12 1459.41 Q1985.12 1452.28 1983.29 1448.74 Q1981.49 1445.17 1977.85 1445.17 M1977.85 1441.47 Q1983.66 1441.47 1986.72 1446.07 Q1989.8 1450.66 1989.8 1459.41 Q1989.8 1468.13 1986.72 1472.74 Q1983.66 1477.32 1977.85 1477.32 Q1972.04 1477.32 1968.96 1472.74 Q1965.91 1468.13 1965.91 1459.41 Q1965.91 1450.66 1968.96 1446.07 Q1972.04 1441.47 1977.85 1441.47 Z\" fill=\"#000000\" fill-rule=\"evenodd\" fill-opacity=\"1\" /><path clip-path=\"url(#clip330)\" d=\"M 0 0 M2004.86 1445.17 Q2001.25 1445.17 1999.42 1448.74 Q1997.62 1452.28 1997.62 1459.41 Q1997.62 1466.51 1999.42 1470.08 Q2001.25 1473.62 2004.86 1473.62 Q2008.5 1473.62 2010.3 1470.08 Q2012.13 1466.51 2012.13 1459.41 Q2012.13 1452.28 2010.3 1448.74 Q2008.5 1445.17 2004.86 1445.17 M2004.86 1441.47 Q2010.67 1441.47 2013.73 1446.07 Q2016.81 1450.66 2016.81 1459.41 Q2016.81 1468.13 2013.73 1472.74 Q2010.67 1477.32 2004.86 1477.32 Q1999.05 1477.32 1995.98 1472.74 Q1992.92 1468.13 1992.92 1459.41 Q1992.92 1450.66 1995.98 1446.07 Q1999.05 1441.47 2004.86 1441.47 Z\" fill=\"#000000\" fill-rule=\"evenodd\" fill-opacity=\"1\" /><path clip-path=\"url(#clip330)\" d=\"M 0 0 M2300.37 1457.51 Q2297.22 1457.51 2295.37 1459.66 Q2293.54 1461.81 2293.54 1465.56 Q2293.54 1469.29 2295.37 1471.47 Q2297.22 1473.62 2300.37 1473.62 Q2303.52 1473.62 2305.35 1471.47 Q2307.2 1469.29 2307.2 1465.56 Q2307.2 1461.81 2305.35 1459.66 Q2303.52 1457.51 2300.37 1457.51 M2309.65 1442.86 L2309.65 1447.11 Q2307.89 1446.28 2306.09 1445.84 Q2304.3 1445.4 2302.54 1445.4 Q2297.91 1445.4 2295.46 1448.53 Q2293.03 1451.65 2292.68 1457.97 Q2294.05 1455.96 2296.11 1454.89 Q2298.17 1453.8 2300.65 1453.8 Q2305.85 1453.8 2308.86 1456.98 Q2311.9 1460.12 2311.9 1465.56 Q2311.9 1470.89 2308.75 1474.11 Q2305.6 1477.32 2300.37 1477.32 Q2294.37 1477.32 2291.2 1472.74 Q2288.03 1468.13 2288.03 1459.41 Q2288.03 1451.21 2291.92 1446.35 Q2295.81 1441.47 2302.36 1441.47 Q2304.12 1441.47 2305.9 1441.81 Q2307.71 1442.16 2309.65 1442.86 Z\" fill=\"#000000\" fill-rule=\"evenodd\" fill-opacity=\"1\" /><path clip-path=\"url(#clip330)\" d=\"M 0 0 M2326.97 1445.17 Q2323.35 1445.17 2321.53 1448.74 Q2319.72 1452.28 2319.72 1459.41 Q2319.72 1466.51 2321.53 1470.08 Q2323.35 1473.62 2326.97 1473.62 Q2330.6 1473.62 2332.41 1470.08 Q2334.23 1466.51 2334.23 1459.41 Q2334.23 1452.28 2332.41 1448.74 Q2330.6 1445.17 2326.97 1445.17 M2326.97 1441.47 Q2332.78 1441.47 2335.83 1446.07 Q2338.91 1450.66 2338.91 1459.41 Q2338.91 1468.13 2335.83 1472.74 Q2332.78 1477.32 2326.97 1477.32 Q2321.16 1477.32 2318.08 1472.74 Q2315.02 1468.13 2315.02 1459.41 Q2315.02 1450.66 2318.08 1446.07 Q2321.16 1441.47 2326.97 1441.47 Z\" fill=\"#000000\" fill-rule=\"evenodd\" fill-opacity=\"1\" /><path clip-path=\"url(#clip330)\" d=\"M 0 0 M2353.98 1445.17 Q2350.37 1445.17 2348.54 1448.74 Q2346.73 1452.28 2346.73 1459.41 Q2346.73 1466.51 2348.54 1470.08 Q2350.37 1473.62 2353.98 1473.62 Q2357.61 1473.62 2359.42 1470.08 Q2361.25 1466.51 2361.25 1459.41 Q2361.25 1452.28 2359.42 1448.74 Q2357.61 1445.17 2353.98 1445.17 M2353.98 1441.47 Q2359.79 1441.47 2362.84 1446.07 Q2365.92 1450.66 2365.92 1459.41 Q2365.92 1468.13 2362.84 1472.74 Q2359.79 1477.32 2353.98 1477.32 Q2348.17 1477.32 2345.09 1472.74 Q2342.03 1468.13 2342.03 1459.41 Q2342.03 1450.66 2345.09 1446.07 Q2348.17 1441.47 2353.98 1441.47 Z\" fill=\"#000000\" fill-rule=\"evenodd\" fill-opacity=\"1\" /><path clip-path=\"url(#clip330)\" d=\"M 0 0 M139.015 1316.84 Q135.404 1316.84 133.575 1320.4 Q131.769 1323.94 131.769 1331.07 Q131.769 1338.18 133.575 1341.75 Q135.404 1345.29 139.015 1345.29 Q142.649 1345.29 144.455 1341.75 Q146.283 1338.18 146.283 1331.07 Q146.283 1323.94 144.455 1320.4 Q142.649 1316.84 139.015 1316.84 M139.015 1313.13 Q144.825 1313.13 147.88 1317.74 Q150.959 1322.32 150.959 1331.07 Q150.959 1339.8 147.88 1344.41 Q144.825 1348.99 139.015 1348.99 Q133.205 1348.99 130.126 1344.41 Q127.07 1339.8 127.07 1331.07 Q127.07 1322.32 130.126 1317.74 Q133.205 1313.13 139.015 1313.13 Z\" fill=\"#000000\" fill-rule=\"evenodd\" fill-opacity=\"1\" /><path clip-path=\"url(#clip330)\" d=\"M 0 0 M156.029 1342.44 L160.913 1342.44 L160.913 1348.32 L156.029 1348.32 L156.029 1342.44 Z\" fill=\"#000000\" fill-rule=\"evenodd\" fill-opacity=\"1\" /><path clip-path=\"url(#clip330)\" d=\"M 0 0 M164.802 1313.76 L187.024 1313.76 L187.024 1315.75 L174.477 1348.32 L169.593 1348.32 L181.399 1317.69 L164.802 1317.69 L164.802 1313.76 Z\" fill=\"#000000\" fill-rule=\"evenodd\" fill-opacity=\"1\" /><path clip-path=\"url(#clip330)\" d=\"M 0 0 M138.205 901.887 Q134.593 901.887 132.765 905.452 Q130.959 908.993 130.959 916.123 Q130.959 923.229 132.765 926.794 Q134.593 930.336 138.205 930.336 Q141.839 930.336 143.644 926.794 Q145.473 923.229 145.473 916.123 Q145.473 908.993 143.644 905.452 Q141.839 901.887 138.205 901.887 M138.205 898.183 Q144.015 898.183 147.07 902.79 Q150.149 907.373 150.149 916.123 Q150.149 924.85 147.07 929.456 Q144.015 934.039 138.205 934.039 Q132.394 934.039 129.316 929.456 Q126.26 924.85 126.26 916.123 Q126.26 907.373 129.316 902.79 Q132.394 898.183 138.205 898.183 Z\" fill=\"#000000\" fill-rule=\"evenodd\" fill-opacity=\"1\" /><path clip-path=\"url(#clip330)\" d=\"M 0 0 M155.218 927.489 L160.103 927.489 L160.103 933.368 L155.218 933.368 L155.218 927.489 Z\" fill=\"#000000\" fill-rule=\"evenodd\" fill-opacity=\"1\" /><path clip-path=\"url(#clip330)\" d=\"M 0 0 M175.172 916.956 Q171.839 916.956 169.917 918.739 Q168.019 920.521 168.019 923.646 Q168.019 926.771 169.917 928.553 Q171.839 930.336 175.172 930.336 Q178.505 930.336 180.427 928.553 Q182.348 926.748 182.348 923.646 Q182.348 920.521 180.427 918.739 Q178.528 916.956 175.172 916.956 M170.496 914.965 Q167.487 914.225 165.797 912.165 Q164.13 910.104 164.13 907.141 Q164.13 902.998 167.07 900.591 Q170.033 898.183 175.172 898.183 Q180.334 898.183 183.274 900.591 Q186.214 902.998 186.214 907.141 Q186.214 910.104 184.524 912.165 Q182.857 914.225 179.871 914.965 Q183.251 915.753 185.126 918.044 Q187.024 920.336 187.024 923.646 Q187.024 928.669 183.945 931.354 Q180.889 934.039 175.172 934.039 Q169.454 934.039 166.376 931.354 Q163.32 928.669 163.32 923.646 Q163.32 920.336 165.218 918.044 Q167.116 915.753 170.496 914.965 M168.783 907.581 Q168.783 910.266 170.45 911.771 Q172.14 913.276 175.172 913.276 Q178.181 913.276 179.871 911.771 Q181.584 910.266 181.584 907.581 Q181.584 904.896 179.871 903.391 Q178.181 901.887 175.172 901.887 Q172.14 901.887 170.45 903.391 Q168.783 904.896 168.783 907.581 Z\" fill=\"#000000\" fill-rule=\"evenodd\" fill-opacity=\"1\" /><path clip-path=\"url(#clip330)\" d=\"M 0 0 M138.297 486.936 Q134.686 486.936 132.857 490.5 Q131.052 494.042 131.052 501.172 Q131.052 508.278 132.857 511.843 Q134.686 515.385 138.297 515.385 Q141.931 515.385 143.737 511.843 Q145.566 508.278 145.566 501.172 Q145.566 494.042 143.737 490.5 Q141.931 486.936 138.297 486.936 M138.297 483.232 Q144.107 483.232 147.163 487.838 Q150.242 492.422 150.242 501.172 Q150.242 509.898 147.163 514.505 Q144.107 519.088 138.297 519.088 Q132.487 519.088 129.408 514.505 Q126.353 509.898 126.353 501.172 Q126.353 492.422 129.408 487.838 Q132.487 483.232 138.297 483.232 Z\" fill=\"#000000\" fill-rule=\"evenodd\" fill-opacity=\"1\" /><path clip-path=\"url(#clip330)\" d=\"M 0 0 M155.311 512.537 L160.195 512.537 L160.195 518.417 L155.311 518.417 L155.311 512.537 Z\" fill=\"#000000\" fill-rule=\"evenodd\" fill-opacity=\"1\" /><path clip-path=\"url(#clip330)\" d=\"M 0 0 M165.403 517.699 L165.403 513.44 Q167.163 514.273 168.968 514.713 Q170.774 515.153 172.51 515.153 Q177.14 515.153 179.57 512.051 Q182.024 508.926 182.371 502.584 Q181.028 504.574 178.968 505.639 Q176.908 506.704 174.408 506.704 Q169.223 506.704 166.19 503.579 Q163.181 500.431 163.181 494.991 Q163.181 489.667 166.329 486.449 Q169.478 483.232 174.709 483.232 Q180.704 483.232 183.852 487.838 Q187.024 492.422 187.024 501.172 Q187.024 509.343 183.135 514.227 Q179.269 519.088 172.718 519.088 Q170.959 519.088 169.153 518.741 Q167.348 518.394 165.403 517.699 M174.709 503.047 Q177.857 503.047 179.686 500.894 Q181.538 498.741 181.538 494.991 Q181.538 491.264 179.686 489.112 Q177.857 486.936 174.709 486.936 Q171.561 486.936 169.709 489.112 Q167.88 491.264 167.88 494.991 Q167.88 498.741 169.709 500.894 Q171.561 503.047 174.709 503.047 Z\" fill=\"#000000\" fill-rule=\"evenodd\" fill-opacity=\"1\" /><path clip-path=\"url(#clip330)\" d=\"M 0 0 M130.149 99.5305 L137.788 99.5305 L137.788 73.1649 L129.478 74.8316 L129.478 70.5723 L137.742 68.9057 L142.417 68.9057 L142.417 99.5305 L150.056 99.5305 L150.056 103.466 L130.149 103.466 L130.149 99.5305 Z\" fill=\"#000000\" fill-rule=\"evenodd\" fill-opacity=\"1\" /><path clip-path=\"url(#clip330)\" d=\"M 0 0 M155.126 97.5861 L160.01 97.5861 L160.01 103.466 L155.126 103.466 L155.126 97.5861 Z\" fill=\"#000000\" fill-rule=\"evenodd\" fill-opacity=\"1\" /><path clip-path=\"url(#clip330)\" d=\"M 0 0 M175.079 71.9844 Q171.468 71.9844 169.64 75.5492 Q167.834 79.0908 167.834 86.2204 Q167.834 93.3268 169.64 96.8916 Q171.468 100.433 175.079 100.433 Q178.714 100.433 180.519 96.8916 Q182.348 93.3268 182.348 86.2204 Q182.348 79.0908 180.519 75.5492 Q178.714 71.9844 175.079 71.9844 M175.079 68.2807 Q180.889 68.2807 183.945 72.8871 Q187.024 77.4704 187.024 86.2204 Q187.024 94.9472 183.945 99.5537 Q180.889 104.137 175.079 104.137 Q169.269 104.137 166.19 99.5537 Q163.135 94.9472 163.135 86.2204 Q163.135 77.4704 166.19 72.8871 Q169.269 68.2807 175.079 68.2807 Z\" fill=\"#000000\" fill-rule=\"evenodd\" fill-opacity=\"1\" /><path clip-path=\"url(#clip330)\" d=\"M 0 0 M870.665 1508.52 L879.323 1508.52 L900.393 1548.28 L900.393 1508.52 L906.631 1508.52 L906.631 1556.04 L897.974 1556.04 L876.904 1516.29 L876.904 1556.04 L870.665 1556.04 L870.665 1508.52 Z\" fill=\"#000000\" fill-rule=\"evenodd\" fill-opacity=\"1\" /><path clip-path=\"url(#clip330)\" d=\"M 0 0 M912.17 1541.98 L912.17 1520.4 L918.026 1520.4 L918.026 1541.75 Q918.026 1546.81 919.999 1549.36 Q921.973 1551.87 925.919 1551.87 Q930.662 1551.87 933.399 1548.85 Q936.168 1545.83 936.168 1540.61 L936.168 1520.4 L942.025 1520.4 L942.025 1556.04 L936.168 1556.04 L936.168 1550.57 Q934.036 1553.82 931.203 1555.41 Q928.402 1556.97 924.678 1556.97 Q918.535 1556.97 915.352 1553.15 Q912.17 1549.33 912.17 1541.98 M926.906 1519.54 L926.906 1519.54 Z\" fill=\"#000000\" fill-rule=\"evenodd\" fill-opacity=\"1\" /><path clip-path=\"url(#clip330)\" d=\"M 0 0 M975.922 1527.24 Q978.118 1523.29 981.174 1521.41 Q984.229 1519.54 988.367 1519.54 Q993.937 1519.54 996.961 1523.45 Q999.984 1527.33 999.984 1534.53 L999.984 1556.04 L994.096 1556.04 L994.096 1534.72 Q994.096 1529.59 992.282 1527.11 Q990.468 1524.63 986.744 1524.63 Q982.192 1524.63 979.551 1527.65 Q976.909 1530.68 976.909 1535.9 L976.909 1556.04 L971.021 1556.04 L971.021 1534.72 Q971.021 1529.56 969.206 1527.11 Q967.392 1524.63 963.604 1524.63 Q959.117 1524.63 956.475 1527.68 Q953.833 1530.71 953.833 1535.9 L953.833 1556.04 L947.945 1556.04 L947.945 1520.4 L953.833 1520.4 L953.833 1525.93 Q955.838 1522.66 958.639 1521.1 Q961.44 1519.54 965.291 1519.54 Q969.174 1519.54 971.88 1521.51 Q974.617 1523.48 975.922 1527.24 Z\" fill=\"#000000\" fill-rule=\"evenodd\" fill-opacity=\"1\" /><path clip-path=\"url(#clip330)\" d=\"M 0 0 M1031.72 1538.25 Q1031.72 1531.79 1029.04 1528.13 Q1026.4 1524.44 1021.76 1524.44 Q1017.11 1524.44 1014.43 1528.13 Q1011.79 1531.79 1011.79 1538.25 Q1011.79 1544.71 1014.43 1548.4 Q1017.11 1552.07 1021.76 1552.07 Q1026.4 1552.07 1029.04 1548.4 Q1031.72 1544.71 1031.72 1538.25 M1011.79 1525.81 Q1013.64 1522.62 1016.44 1521.1 Q1019.27 1519.54 1023.19 1519.54 Q1029.68 1519.54 1033.72 1524.69 Q1037.8 1529.85 1037.8 1538.25 Q1037.8 1546.65 1033.72 1551.81 Q1029.68 1556.97 1023.19 1556.97 Q1019.27 1556.97 1016.44 1555.44 Q1013.64 1553.88 1011.79 1550.7 L1011.79 1556.04 L1005.9 1556.04 L1005.9 1506.52 L1011.79 1506.52 L1011.79 1525.81 Z\" fill=\"#000000\" fill-rule=\"evenodd\" fill-opacity=\"1\" /><path clip-path=\"url(#clip330)\" d=\"M 0 0 M1074.43 1536.76 L1074.43 1539.62 L1047.5 1539.62 Q1047.89 1545.67 1051.13 1548.85 Q1054.41 1552 1060.24 1552 Q1063.61 1552 1066.76 1551.17 Q1069.94 1550.35 1073.06 1548.69 L1073.06 1554.23 Q1069.91 1555.57 1066.6 1556.27 Q1063.29 1556.97 1059.89 1556.97 Q1051.36 1556.97 1046.36 1552 Q1041.39 1547.04 1041.39 1538.57 Q1041.39 1529.82 1046.1 1524.69 Q1050.85 1519.54 1058.87 1519.54 Q1066.06 1519.54 1070.23 1524.18 Q1074.43 1528.8 1074.43 1536.76 M1068.57 1535.04 Q1068.51 1530.23 1065.87 1527.37 Q1063.26 1524.5 1058.93 1524.5 Q1054.03 1524.5 1051.07 1527.27 Q1048.14 1530.04 1047.7 1535.07 L1068.57 1535.04 Z\" fill=\"#000000\" fill-rule=\"evenodd\" fill-opacity=\"1\" /><path clip-path=\"url(#clip330)\" d=\"M 0 0 M1101.23 1525.87 Q1100.24 1525.3 1099.07 1525.04 Q1097.92 1524.76 1096.52 1524.76 Q1091.56 1524.76 1088.88 1528 Q1086.24 1531.22 1086.24 1537.27 L1086.24 1556.04 L1080.35 1556.04 L1080.35 1520.4 L1086.24 1520.4 L1086.24 1525.93 Q1088.09 1522.69 1091.05 1521.13 Q1094.01 1519.54 1098.24 1519.54 Q1098.84 1519.54 1099.58 1519.63 Q1100.31 1519.7 1101.2 1519.85 L1101.23 1525.87 Z\" fill=\"#000000\" fill-rule=\"evenodd\" fill-opacity=\"1\" /><path clip-path=\"url(#clip330)\" d=\"M 0 0 M1141.91 1524.5 Q1137.2 1524.5 1134.46 1528.19 Q1131.72 1531.85 1131.72 1538.25 Q1131.72 1544.65 1134.43 1548.34 Q1137.17 1552 1141.91 1552 Q1146.59 1552 1149.32 1548.31 Q1152.06 1544.62 1152.06 1538.25 Q1152.06 1531.92 1149.32 1528.23 Q1146.59 1524.5 1141.91 1524.5 M1141.91 1519.54 Q1149.55 1519.54 1153.91 1524.5 Q1158.27 1529.47 1158.27 1538.25 Q1158.27 1547 1153.91 1552 Q1149.55 1556.97 1141.91 1556.97 Q1134.24 1556.97 1129.88 1552 Q1125.55 1547 1125.55 1538.25 Q1125.55 1529.47 1129.88 1524.5 Q1134.24 1519.54 1141.91 1519.54 Z\" fill=\"#000000\" fill-rule=\"evenodd\" fill-opacity=\"1\" /><path clip-path=\"url(#clip330)\" d=\"M 0 0 M1182.46 1506.52 L1182.46 1511.39 L1176.86 1511.39 Q1173.7 1511.39 1172.46 1512.66 Q1171.25 1513.93 1171.25 1517.24 L1171.25 1520.4 L1180.9 1520.4 L1180.9 1524.95 L1171.25 1524.95 L1171.25 1556.04 L1165.37 1556.04 L1165.37 1524.95 L1159.76 1524.95 L1159.76 1520.4 L1165.37 1520.4 L1165.37 1517.91 Q1165.37 1511.96 1168.13 1509.26 Q1170.9 1506.52 1176.92 1506.52 L1182.46 1506.52 Z\" fill=\"#000000\" fill-rule=\"evenodd\" fill-opacity=\"1\" /><path clip-path=\"url(#clip330)\" d=\"M 0 0 M1202.99 1508.52 L1243.19 1508.52 L1243.19 1513.93 L1226.32 1513.93 L1226.32 1556.04 L1219.86 1556.04 L1219.86 1513.93 L1202.99 1513.93 L1202.99 1508.52 Z\" fill=\"#000000\" fill-rule=\"evenodd\" fill-opacity=\"1\" /><path clip-path=\"url(#clip330)\" d=\"M 0 0 M1260.41 1525.87 Q1259.42 1525.3 1258.24 1525.04 Q1257.1 1524.76 1255.69 1524.76 Q1250.73 1524.76 1248.06 1528 Q1245.41 1531.22 1245.41 1537.27 L1245.41 1556.04 L1239.53 1556.04 L1239.53 1520.4 L1245.41 1520.4 L1245.41 1525.93 Q1247.26 1522.69 1250.22 1521.13 Q1253.18 1519.54 1257.41 1519.54 Q1258.02 1519.54 1258.75 1519.63 Q1259.48 1519.7 1260.37 1519.85 L1260.41 1525.87 Z\" fill=\"#000000\" fill-rule=\"evenodd\" fill-opacity=\"1\" /><path clip-path=\"url(#clip330)\" d=\"M 0 0 M1282.75 1538.12 Q1275.65 1538.12 1272.91 1539.75 Q1270.18 1541.37 1270.18 1545.29 Q1270.18 1548.4 1272.21 1550.25 Q1274.28 1552.07 1277.82 1552.07 Q1282.69 1552.07 1285.61 1548.63 Q1288.57 1545.16 1288.57 1539.43 L1288.57 1538.12 L1282.75 1538.12 M1294.43 1535.71 L1294.43 1556.04 L1288.57 1556.04 L1288.57 1550.63 Q1286.57 1553.88 1283.58 1555.44 Q1280.58 1556.97 1276.26 1556.97 Q1270.78 1556.97 1267.54 1553.91 Q1264.32 1550.82 1264.32 1545.67 Q1264.32 1539.65 1268.33 1536.6 Q1272.37 1533.54 1280.36 1533.54 L1288.57 1533.54 L1288.57 1532.97 Q1288.57 1528.93 1285.9 1526.73 Q1283.26 1524.5 1278.45 1524.5 Q1275.4 1524.5 1272.5 1525.23 Q1269.6 1525.97 1266.93 1527.43 L1266.93 1522.02 Q1270.15 1520.78 1273.17 1520.17 Q1276.19 1519.54 1279.06 1519.54 Q1286.79 1519.54 1290.61 1523.55 Q1294.43 1527.56 1294.43 1535.71 Z\" fill=\"#000000\" fill-rule=\"evenodd\" fill-opacity=\"1\" /><path clip-path=\"url(#clip330)\" d=\"M 0 0 M1300.57 1520.4 L1306.43 1520.4 L1306.43 1556.04 L1300.57 1556.04 L1300.57 1520.4 M1300.57 1506.52 L1306.43 1506.52 L1306.43 1513.93 L1300.57 1513.93 L1300.57 1506.52 Z\" fill=\"#000000\" fill-rule=\"evenodd\" fill-opacity=\"1\" /><path clip-path=\"url(#clip330)\" d=\"M 0 0 M1342.2 1534.53 L1342.2 1556.04 L1336.35 1556.04 L1336.35 1534.72 Q1336.35 1529.66 1334.38 1527.14 Q1332.4 1524.63 1328.45 1524.63 Q1323.71 1524.63 1320.98 1527.65 Q1318.24 1530.68 1318.24 1535.9 L1318.24 1556.04 L1312.35 1556.04 L1312.35 1520.4 L1318.24 1520.4 L1318.24 1525.93 Q1320.34 1522.72 1323.17 1521.13 Q1326.04 1519.54 1329.76 1519.54 Q1335.9 1519.54 1339.05 1523.36 Q1342.2 1527.14 1342.2 1534.53 Z\" fill=\"#000000\" fill-rule=\"evenodd\" fill-opacity=\"1\" /><path clip-path=\"url(#clip330)\" d=\"M 0 0 M1348.35 1520.4 L1354.2 1520.4 L1354.2 1556.04 L1348.35 1556.04 L1348.35 1520.4 M1348.35 1506.52 L1354.2 1506.52 L1354.2 1513.93 L1348.35 1513.93 L1348.35 1506.52 Z\" fill=\"#000000\" fill-rule=\"evenodd\" fill-opacity=\"1\" /><path clip-path=\"url(#clip330)\" d=\"M 0 0 M1389.98 1534.53 L1389.98 1556.04 L1384.12 1556.04 L1384.12 1534.72 Q1384.12 1529.66 1382.15 1527.14 Q1380.18 1524.63 1376.23 1524.63 Q1371.49 1524.63 1368.75 1527.65 Q1366.01 1530.68 1366.01 1535.9 L1366.01 1556.04 L1360.12 1556.04 L1360.12 1520.4 L1366.01 1520.4 L1366.01 1525.93 Q1368.11 1522.72 1370.95 1521.13 Q1373.81 1519.54 1377.53 1519.54 Q1383.68 1519.54 1386.83 1523.36 Q1389.98 1527.14 1389.98 1534.53 Z\" fill=\"#000000\" fill-rule=\"evenodd\" fill-opacity=\"1\" /><path clip-path=\"url(#clip330)\" d=\"M 0 0 M1419.58 1537.81 Q1419.58 1531.44 1416.94 1527.94 Q1414.33 1524.44 1409.59 1524.44 Q1404.88 1524.44 1402.23 1527.94 Q1399.62 1531.44 1399.62 1537.81 Q1399.62 1544.14 1402.23 1547.64 Q1404.88 1551.14 1409.59 1551.14 Q1414.33 1551.14 1416.94 1547.64 Q1419.58 1544.14 1419.58 1537.81 M1425.44 1551.62 Q1425.44 1560.72 1421.39 1565.15 Q1417.35 1569.6 1409.01 1569.6 Q1405.93 1569.6 1403.19 1569.13 Q1400.45 1568.68 1397.87 1567.72 L1397.87 1562.03 Q1400.45 1563.43 1402.97 1564.1 Q1405.48 1564.76 1408.09 1564.76 Q1413.85 1564.76 1416.72 1561.74 Q1419.58 1558.75 1419.58 1552.67 L1419.58 1549.77 Q1417.77 1552.92 1414.93 1554.48 Q1412.1 1556.04 1408.15 1556.04 Q1401.6 1556.04 1397.59 1551.05 Q1393.58 1546.05 1393.58 1537.81 Q1393.58 1529.53 1397.59 1524.53 Q1401.6 1519.54 1408.15 1519.54 Q1412.1 1519.54 1414.93 1521.1 Q1417.77 1522.66 1419.58 1525.81 L1419.58 1520.4 L1425.44 1520.4 L1425.44 1551.62 Z\" fill=\"#000000\" fill-rule=\"evenodd\" fill-opacity=\"1\" /><path clip-path=\"url(#clip330)\" d=\"M 0 0 M1481.04 1510.08 L1481.04 1516.35 Q1477.38 1514.6 1474.13 1513.74 Q1470.89 1512.88 1467.86 1512.88 Q1462.61 1512.88 1459.75 1514.92 Q1456.91 1516.96 1456.91 1520.71 Q1456.91 1523.87 1458.79 1525.49 Q1460.7 1527.08 1465.99 1528.07 L1469.87 1528.86 Q1477.06 1530.23 1480.47 1533.7 Q1483.91 1537.14 1483.91 1542.93 Q1483.91 1549.84 1479.26 1553.4 Q1474.64 1556.97 1465.7 1556.97 Q1462.33 1556.97 1458.51 1556.2 Q1454.72 1555.44 1450.64 1553.94 L1450.64 1547.32 Q1454.56 1549.52 1458.32 1550.63 Q1462.07 1551.75 1465.7 1551.75 Q1471.21 1551.75 1474.2 1549.58 Q1477.19 1547.42 1477.19 1543.41 Q1477.19 1539.91 1475.03 1537.93 Q1472.89 1535.96 1467.99 1534.97 L1464.08 1534.21 Q1456.88 1532.78 1453.67 1529.72 Q1450.45 1526.67 1450.45 1521.22 Q1450.45 1514.92 1454.88 1511.29 Q1459.33 1507.66 1467.13 1507.66 Q1470.47 1507.66 1473.94 1508.27 Q1477.41 1508.87 1481.04 1510.08 Z\" fill=\"#000000\" fill-rule=\"evenodd\" fill-opacity=\"1\" /><path clip-path=\"url(#clip330)\" d=\"M 0 0 M1506.25 1538.12 Q1499.15 1538.12 1496.41 1539.75 Q1493.68 1541.37 1493.68 1545.29 Q1493.68 1548.4 1495.71 1550.25 Q1497.78 1552.07 1501.32 1552.07 Q1506.19 1552.07 1509.11 1548.63 Q1512.07 1545.16 1512.07 1539.43 L1512.07 1538.12 L1506.25 1538.12 M1517.93 1535.71 L1517.93 1556.04 L1512.07 1556.04 L1512.07 1550.63 Q1510.07 1553.88 1507.08 1555.44 Q1504.08 1556.97 1499.76 1556.97 Q1494.28 1556.97 1491.04 1553.91 Q1487.82 1550.82 1487.82 1545.67 Q1487.82 1539.65 1491.83 1536.6 Q1495.87 1533.54 1503.86 1533.54 L1512.07 1533.54 L1512.07 1532.97 Q1512.07 1528.93 1509.4 1526.73 Q1506.76 1524.5 1501.95 1524.5 Q1498.9 1524.5 1496 1525.23 Q1493.1 1525.97 1490.43 1527.43 L1490.43 1522.02 Q1493.65 1520.78 1496.67 1520.17 Q1499.69 1519.54 1502.56 1519.54 Q1510.29 1519.54 1514.11 1523.55 Q1517.93 1527.56 1517.93 1535.71 Z\" fill=\"#000000\" fill-rule=\"evenodd\" fill-opacity=\"1\" /><path clip-path=\"url(#clip330)\" d=\"M 0 0 M1551.83 1527.24 Q1554.02 1523.29 1557.08 1521.41 Q1560.13 1519.54 1564.27 1519.54 Q1569.84 1519.54 1572.87 1523.45 Q1575.89 1527.33 1575.89 1534.53 L1575.89 1556.04 L1570 1556.04 L1570 1534.72 Q1570 1529.59 1568.19 1527.11 Q1566.37 1524.63 1562.65 1524.63 Q1558.1 1524.63 1555.46 1527.65 Q1552.81 1530.68 1552.81 1535.9 L1552.81 1556.04 L1546.93 1556.04 L1546.93 1534.72 Q1546.93 1529.56 1545.11 1527.11 Q1543.3 1524.63 1539.51 1524.63 Q1535.02 1524.63 1532.38 1527.68 Q1529.74 1530.71 1529.74 1535.9 L1529.74 1556.04 L1523.85 1556.04 L1523.85 1520.4 L1529.74 1520.4 L1529.74 1525.93 Q1531.74 1522.66 1534.54 1521.1 Q1537.35 1519.54 1541.2 1519.54 Q1545.08 1519.54 1547.79 1521.51 Q1550.52 1523.48 1551.83 1527.24 Z\" fill=\"#000000\" fill-rule=\"evenodd\" fill-opacity=\"1\" /><path clip-path=\"url(#clip330)\" d=\"M 0 0 M1587.7 1550.7 L1587.7 1569.6 L1581.81 1569.6 L1581.81 1520.4 L1587.7 1520.4 L1587.7 1525.81 Q1589.54 1522.62 1592.35 1521.1 Q1595.18 1519.54 1599.09 1519.54 Q1605.59 1519.54 1609.63 1524.69 Q1613.7 1529.85 1613.7 1538.25 Q1613.7 1546.65 1609.63 1551.81 Q1605.59 1556.97 1599.09 1556.97 Q1595.18 1556.97 1592.35 1555.44 Q1589.54 1553.88 1587.7 1550.7 M1607.62 1538.25 Q1607.62 1531.79 1604.95 1528.13 Q1602.31 1524.44 1597.66 1524.44 Q1593.01 1524.44 1590.34 1528.13 Q1587.7 1531.79 1587.7 1538.25 Q1587.7 1544.71 1590.34 1548.4 Q1593.01 1552.07 1597.66 1552.07 Q1602.31 1552.07 1604.95 1548.4 Q1607.62 1544.71 1607.62 1538.25 Z\" fill=\"#000000\" fill-rule=\"evenodd\" fill-opacity=\"1\" /><path clip-path=\"url(#clip330)\" d=\"M 0 0 M1619.85 1506.52 L1625.7 1506.52 L1625.7 1556.04 L1619.85 1556.04 L1619.85 1506.52 Z\" fill=\"#000000\" fill-rule=\"evenodd\" fill-opacity=\"1\" /><path clip-path=\"url(#clip330)\" d=\"M 0 0 M1662.34 1536.76 L1662.34 1539.62 L1635.41 1539.62 Q1635.79 1545.67 1639.04 1548.85 Q1642.32 1552 1648.14 1552 Q1651.51 1552 1654.67 1551.17 Q1657.85 1550.35 1660.97 1548.69 L1660.97 1554.23 Q1657.82 1555.57 1654.51 1556.27 Q1651.2 1556.97 1647.79 1556.97 Q1639.26 1556.97 1634.26 1552 Q1629.3 1547.04 1629.3 1538.57 Q1629.3 1529.82 1634.01 1524.69 Q1638.75 1519.54 1646.77 1519.54 Q1653.97 1519.54 1658.13 1524.18 Q1662.34 1528.8 1662.34 1536.76 M1656.48 1535.04 Q1656.42 1530.23 1653.77 1527.37 Q1651.16 1524.5 1646.84 1524.5 Q1641.93 1524.5 1638.97 1527.27 Q1636.05 1530.04 1635.6 1535.07 L1656.48 1535.04 Z\" fill=\"#000000\" fill-rule=\"evenodd\" fill-opacity=\"1\" /><path clip-path=\"url(#clip330)\" d=\"M 0 0 M1691.2 1521.45 L1691.2 1526.98 Q1688.72 1525.71 1686.05 1525.07 Q1683.37 1524.44 1680.51 1524.44 Q1676.15 1524.44 1673.95 1525.77 Q1671.79 1527.11 1671.79 1529.79 Q1671.79 1531.82 1673.35 1533 Q1674.91 1534.15 1679.62 1535.2 L1681.62 1535.64 Q1687.86 1536.98 1690.47 1539.43 Q1693.11 1541.85 1693.11 1546.21 Q1693.11 1551.17 1689.17 1554.07 Q1685.25 1556.97 1678.38 1556.97 Q1675.51 1556.97 1672.39 1556.39 Q1669.31 1555.85 1665.87 1554.74 L1665.87 1548.69 Q1669.12 1550.38 1672.27 1551.24 Q1675.42 1552.07 1678.51 1552.07 Q1682.64 1552.07 1684.87 1550.66 Q1687.1 1549.23 1687.1 1546.65 Q1687.1 1544.27 1685.48 1542.99 Q1683.88 1541.72 1678.44 1540.54 L1676.4 1540.07 Q1670.96 1538.92 1668.54 1536.56 Q1666.12 1534.18 1666.12 1530.04 Q1666.12 1525.01 1669.69 1522.27 Q1673.25 1519.54 1679.81 1519.54 Q1683.06 1519.54 1685.92 1520.01 Q1688.79 1520.49 1691.2 1521.45 Z\" fill=\"#000000\" fill-rule=\"evenodd\" fill-opacity=\"1\" /><path clip-path=\"url(#clip330)\" d=\"M 0 0 M44.1444 1026.82 L50.9239 1026.82 Q47.9002 1030.07 46.4043 1033.76 Q44.9083 1037.42 44.9083 1041.56 Q44.9083 1049.71 49.9054 1054.04 Q54.8707 1058.37 64.2919 1058.37 Q73.6813 1058.37 78.6784 1054.04 Q83.6436 1049.71 83.6436 1041.56 Q83.6436 1037.42 82.1477 1033.76 Q80.6518 1030.07 77.6281 1026.82 L84.3439 1026.82 Q86.6355 1030.2 87.7814 1033.99 Q88.9272 1037.74 88.9272 1041.94 Q88.9272 1052.73 82.3387 1058.94 Q75.7183 1065.15 64.2919 1065.15 Q52.8336 1065.15 46.2451 1058.94 Q39.6248 1052.73 39.6248 1041.94 Q39.6248 1037.68 40.7706 1033.92 Q41.8846 1030.14 44.1444 1026.82 Z\" fill=\"#000000\" fill-rule=\"evenodd\" fill-opacity=\"1\" /><path clip-path=\"url(#clip330)\" d=\"M 0 0 M38.479 1020.68 L38.479 1014.83 L88.0042 1014.83 L88.0042 1020.68 L38.479 1020.68 Z\" fill=\"#000000\" fill-rule=\"evenodd\" fill-opacity=\"1\" /><path clip-path=\"url(#clip330)\" d=\"M 0 0 M70.0847 992.482 Q70.0847 999.58 71.7079 1002.32 Q73.3312 1005.05 77.2461 1005.05 Q80.3653 1005.05 82.2114 1003.02 Q84.0256 1000.95 84.0256 997.415 Q84.0256 992.546 80.5881 989.617 Q77.1188 986.657 71.3897 986.657 L70.0847 986.657 L70.0847 992.482 M67.6657 980.801 L88.0042 980.801 L88.0042 986.657 L82.5933 986.657 Q85.8398 988.663 87.3994 991.654 Q88.9272 994.646 88.9272 998.975 Q88.9272 1004.45 85.8716 1007.7 Q82.7843 1010.91 77.6281 1010.91 Q71.6125 1010.91 68.5569 1006.9 Q65.5014 1002.86 65.5014 994.869 L65.5014 986.657 L64.9285 986.657 Q60.8862 986.657 58.6901 989.331 Q56.4621 991.973 56.4621 996.779 Q56.4621 999.834 57.1941 1002.73 Q57.9262 1005.63 59.3903 1008.3 L53.9795 1008.3 Q52.7381 1005.09 52.1334 1002.06 Q51.4968 999.039 51.4968 996.174 Q51.4968 988.44 55.5072 984.62 Q59.5176 980.801 67.6657 980.801 Z\" fill=\"#000000\" fill-rule=\"evenodd\" fill-opacity=\"1\" /><path clip-path=\"url(#clip330)\" d=\"M 0 0 M53.4065 951.932 L58.9447 951.932 Q57.6716 954.415 57.035 957.089 Q56.3984 959.762 56.3984 962.627 Q56.3984 966.987 57.7352 969.184 Q59.072 971.348 61.7456 971.348 Q63.7826 971.348 64.9603 969.788 Q66.1061 968.229 67.1565 963.518 L67.6021 961.513 Q68.9389 955.274 71.3897 952.665 Q73.8086 950.023 78.1691 950.023 Q83.1344 950.023 86.0308 953.969 Q88.9272 957.884 88.9272 964.759 Q88.9272 967.624 88.3543 970.743 Q87.8132 973.83 86.6992 977.268 L80.6518 977.268 Q82.3387 974.021 83.198 970.87 Q84.0256 967.719 84.0256 964.632 Q84.0256 960.494 82.6251 958.266 Q81.1929 956.038 78.6147 956.038 Q76.2276 956.038 74.9545 957.662 Q73.6813 959.253 72.5037 964.696 L72.0262 966.733 Q70.8804 972.175 68.5251 974.594 Q66.138 977.013 62.0002 977.013 Q56.9713 977.013 54.2341 973.449 Q51.4968 969.884 51.4968 963.327 Q51.4968 960.081 51.9743 957.216 Q52.4517 954.351 53.4065 951.932 Z\" fill=\"#000000\" fill-rule=\"evenodd\" fill-opacity=\"1\" /><path clip-path=\"url(#clip330)\" d=\"M 0 0 M53.4065 921.154 L58.9447 921.154 Q57.6716 923.637 57.035 926.31 Q56.3984 928.984 56.3984 931.849 Q56.3984 936.209 57.7352 938.405 Q59.072 940.57 61.7456 940.57 Q63.7826 940.57 64.9603 939.01 Q66.1061 937.45 67.1565 932.74 L67.6021 930.735 Q68.9389 924.496 71.3897 921.886 Q73.8086 919.245 78.1691 919.245 Q83.1344 919.245 86.0308 923.191 Q88.9272 927.106 88.9272 933.981 Q88.9272 936.846 88.3543 939.965 Q87.8132 943.052 86.6992 946.49 L80.6518 946.49 Q82.3387 943.243 83.198 940.092 Q84.0256 936.941 84.0256 933.854 Q84.0256 929.716 82.6251 927.488 Q81.1929 925.26 78.6147 925.26 Q76.2276 925.26 74.9545 926.883 Q73.6813 928.475 72.5037 933.918 L72.0262 935.955 Q70.8804 941.397 68.5251 943.816 Q66.138 946.235 62.0002 946.235 Q56.9713 946.235 54.2341 942.67 Q51.4968 939.106 51.4968 932.549 Q51.4968 929.302 51.9743 926.438 Q52.4517 923.573 53.4065 921.154 Z\" fill=\"#000000\" fill-rule=\"evenodd\" fill-opacity=\"1\" /><path clip-path=\"url(#clip330)\" d=\"M 0 0 M52.3562 913.102 L52.3562 907.245 L88.0042 907.245 L88.0042 913.102 L52.3562 913.102 M38.479 913.102 L38.479 907.245 L45.895 907.245 L45.895 913.102 L38.479 913.102 Z\" fill=\"#000000\" fill-rule=\"evenodd\" fill-opacity=\"1\" /><path clip-path=\"url(#clip330)\" d=\"M 0 0 M38.479 883.056 L43.3487 883.056 L43.3487 888.657 Q43.3487 891.808 44.6219 893.05 Q45.895 894.259 49.2052 894.259 L52.3562 894.259 L52.3562 884.615 L56.9077 884.615 L56.9077 894.259 L88.0042 894.259 L88.0042 900.147 L56.9077 900.147 L56.9077 905.749 L52.3562 905.749 L52.3562 900.147 L49.8736 900.147 Q43.9216 900.147 41.2162 897.378 Q38.479 894.609 38.479 888.594 L38.479 883.056 Z\" fill=\"#000000\" fill-rule=\"evenodd\" fill-opacity=\"1\" /><path clip-path=\"url(#clip330)\" d=\"M 0 0 M52.3562 876.913 L52.3562 871.056 L88.0042 871.056 L88.0042 876.913 L52.3562 876.913 M38.479 876.913 L38.479 871.056 L45.895 871.056 L45.895 876.913 L38.479 876.913 Z\" fill=\"#000000\" fill-rule=\"evenodd\" fill-opacity=\"1\" /><path clip-path=\"url(#clip330)\" d=\"M 0 0 M53.7248 839.259 L59.1993 839.259 Q57.8307 841.742 57.1623 844.257 Q56.4621 846.739 56.4621 849.285 Q56.4621 854.983 60.0905 858.134 Q63.6872 861.285 70.212 861.285 Q76.7369 861.285 80.3653 858.134 Q83.9619 854.983 83.9619 849.285 Q83.9619 846.739 83.2935 844.257 Q82.5933 841.742 81.2247 839.259 L86.6355 839.259 Q87.7814 841.71 88.3543 844.352 Q88.9272 846.962 88.9272 849.922 Q88.9272 857.975 83.8664 862.717 Q78.8057 867.46 70.212 867.46 Q61.491 867.46 56.4939 862.685 Q51.4968 857.879 51.4968 849.54 Q51.4968 846.835 52.0697 844.257 Q52.6108 841.678 53.7248 839.259 Z\" fill=\"#000000\" fill-rule=\"evenodd\" fill-opacity=\"1\" /><path clip-path=\"url(#clip330)\" d=\"M 0 0 M70.0847 816.916 Q70.0847 824.014 71.7079 826.751 Q73.3312 829.488 77.2461 829.488 Q80.3653 829.488 82.2114 827.451 Q84.0256 825.382 84.0256 821.849 Q84.0256 816.979 80.5881 814.051 Q77.1188 811.091 71.3897 811.091 L70.0847 811.091 L70.0847 816.916 M67.6657 805.235 L88.0042 805.235 L88.0042 811.091 L82.5933 811.091 Q85.8398 813.096 87.3994 816.088 Q88.9272 819.08 88.9272 823.409 Q88.9272 828.883 85.8716 832.13 Q82.7843 835.345 77.6281 835.345 Q71.6125 835.345 68.5569 831.334 Q65.5014 827.292 65.5014 819.303 L65.5014 811.091 L64.9285 811.091 Q60.8862 811.091 58.6901 813.765 Q56.4621 816.407 56.4621 821.213 Q56.4621 824.268 57.1941 827.165 Q57.9262 830.061 59.3903 832.735 L53.9795 832.735 Q52.7381 829.52 52.1334 826.496 Q51.4968 823.472 51.4968 820.608 Q51.4968 812.874 55.5072 809.054 Q59.5176 805.235 67.6657 805.235 Z\" fill=\"#000000\" fill-rule=\"evenodd\" fill-opacity=\"1\" /><path clip-path=\"url(#clip330)\" d=\"M 0 0 M42.2347 793.299 L52.3562 793.299 L52.3562 781.236 L56.9077 781.236 L56.9077 793.299 L76.2594 793.299 Q80.6199 793.299 81.8613 792.121 Q83.1026 790.912 83.1026 787.252 L83.1026 781.236 L88.0042 781.236 L88.0042 787.252 Q88.0042 794.031 85.4897 796.609 Q82.9434 799.187 76.2594 799.187 L56.9077 799.187 L56.9077 803.484 L52.3562 803.484 L52.3562 799.187 L42.2347 799.187 L42.2347 793.299 Z\" fill=\"#000000\" fill-rule=\"evenodd\" fill-opacity=\"1\" /><path clip-path=\"url(#clip330)\" d=\"M 0 0 M52.3562 775.093 L52.3562 769.237 L88.0042 769.237 L88.0042 775.093 L52.3562 775.093 M38.479 775.093 L38.479 769.237 L45.895 769.237 L45.895 775.093 L38.479 775.093 Z\" fill=\"#000000\" fill-rule=\"evenodd\" fill-opacity=\"1\" /><path clip-path=\"url(#clip330)\" d=\"M 0 0 M56.4621 749.28 Q56.4621 753.991 60.1542 756.728 Q63.8145 759.465 70.212 759.465 Q76.6095 759.465 80.3017 756.76 Q83.9619 754.023 83.9619 749.28 Q83.9619 744.601 80.2698 741.864 Q76.5777 739.127 70.212 739.127 Q63.8781 739.127 60.186 741.864 Q56.4621 744.601 56.4621 749.28 M51.4968 749.28 Q51.4968 741.641 56.4621 737.281 Q61.4273 732.92 70.212 732.92 Q78.9649 732.92 83.9619 737.281 Q88.9272 741.641 88.9272 749.28 Q88.9272 756.951 83.9619 761.311 Q78.9649 765.64 70.212 765.64 Q61.4273 765.64 56.4621 761.311 Q51.4968 756.951 51.4968 749.28 Z\" fill=\"#000000\" fill-rule=\"evenodd\" fill-opacity=\"1\" /><path clip-path=\"url(#clip330)\" d=\"M 0 0 M66.4881 697.145 L88.0042 697.145 L88.0042 703.001 L66.679 703.001 Q61.6183 703.001 59.1038 704.975 Q56.5894 706.948 56.5894 710.895 Q56.5894 715.637 59.6131 718.375 Q62.6368 721.112 67.8567 721.112 L88.0042 721.112 L88.0042 727 L52.3562 727 L52.3562 721.112 L57.8944 721.112 Q54.6797 719.011 53.0883 716.179 Q51.4968 713.314 51.4968 709.59 Q51.4968 703.447 55.3163 700.296 Q59.1038 697.145 66.4881 697.145 Z\" fill=\"#000000\" fill-rule=\"evenodd\" fill-opacity=\"1\" /><path clip-path=\"url(#clip330)\" d=\"M 0 0 M46.818 654.145 L70.4666 662.866 L70.4666 645.392 L46.818 654.145 M40.4842 657.773 L40.4842 650.484 L88.0042 632.374 L88.0042 639.058 L75.8138 643.387 L75.8138 664.807 L88.0042 669.136 L88.0042 675.915 L40.4842 657.773 Z\" fill=\"#000000\" fill-rule=\"evenodd\" fill-opacity=\"1\" /><path clip-path=\"url(#clip330)\" d=\"M 0 0 M53.7248 601.723 L59.1993 601.723 Q57.8307 604.206 57.1623 606.72 Q56.4621 609.203 56.4621 611.749 Q56.4621 617.446 60.0905 620.597 Q63.6872 623.748 70.212 623.748 Q76.7369 623.748 80.3653 620.597 Q83.9619 617.446 83.9619 611.749 Q83.9619 609.203 83.2935 606.72 Q82.5933 604.206 81.2247 601.723 L86.6355 601.723 Q87.7814 604.174 88.3543 606.816 Q88.9272 609.426 88.9272 612.386 Q88.9272 620.438 83.8664 625.181 Q78.8057 629.923 70.212 629.923 Q61.491 629.923 56.4939 625.149 Q51.4968 620.343 51.4968 612.004 Q51.4968 609.298 52.0697 606.72 Q52.6108 604.142 53.7248 601.723 Z\" fill=\"#000000\" fill-rule=\"evenodd\" fill-opacity=\"1\" /><path clip-path=\"url(#clip330)\" d=\"M 0 0 M53.7248 569.926 L59.1993 569.926 Q57.8307 572.409 57.1623 574.923 Q56.4621 577.406 56.4621 579.952 Q56.4621 585.65 60.0905 588.801 Q63.6872 591.952 70.212 591.952 Q76.7369 591.952 80.3653 588.801 Q83.9619 585.65 83.9619 579.952 Q83.9619 577.406 83.2935 574.923 Q82.5933 572.409 81.2247 569.926 L86.6355 569.926 Q87.7814 572.377 88.3543 575.019 Q88.9272 577.629 88.9272 580.589 Q88.9272 588.642 83.8664 593.384 Q78.8057 598.126 70.212 598.126 Q61.491 598.126 56.4939 593.352 Q51.4968 588.546 51.4968 580.207 Q51.4968 577.502 52.0697 574.923 Q52.6108 572.345 53.7248 569.926 Z\" fill=\"#000000\" fill-rule=\"evenodd\" fill-opacity=\"1\" /><path clip-path=\"url(#clip330)\" d=\"M 0 0 M73.9359 564.388 L52.3562 564.388 L52.3562 558.532 L73.7131 558.532 Q78.7739 558.532 81.3202 556.558 Q83.8346 554.585 83.8346 550.638 Q83.8346 545.896 80.8109 543.159 Q77.7872 540.39 72.5673 540.39 L52.3562 540.39 L52.3562 534.533 L88.0042 534.533 L88.0042 540.39 L82.5296 540.39 Q85.7762 542.522 87.3676 545.355 Q88.9272 548.156 88.9272 551.88 Q88.9272 558.023 85.1078 561.205 Q81.2883 564.388 73.9359 564.388 M51.4968 549.652 L51.4968 549.652 Z\" fill=\"#000000\" fill-rule=\"evenodd\" fill-opacity=\"1\" /><path clip-path=\"url(#clip330)\" d=\"M 0 0 M57.8307 507.733 Q57.2578 508.72 57.0032 509.898 Q56.7167 511.044 56.7167 512.444 Q56.7167 517.409 59.9632 520.083 Q63.1779 522.725 69.2253 522.725 L88.0042 522.725 L88.0042 528.613 L52.3562 528.613 L52.3562 522.725 L57.8944 522.725 Q54.6479 520.879 53.0883 517.919 Q51.4968 514.959 51.4968 510.725 Q51.4968 510.121 51.5923 509.389 Q51.656 508.656 51.8151 507.765 L57.8307 507.733 Z\" fill=\"#000000\" fill-rule=\"evenodd\" fill-opacity=\"1\" /><path clip-path=\"url(#clip330)\" d=\"M 0 0 M70.0847 485.39 Q70.0847 492.488 71.7079 495.225 Q73.3312 497.962 77.2461 497.962 Q80.3653 497.962 82.2114 495.925 Q84.0256 493.856 84.0256 490.323 Q84.0256 485.453 80.5881 482.525 Q77.1188 479.565 71.3897 479.565 L70.0847 479.565 L70.0847 485.39 M67.6657 473.709 L88.0042 473.709 L88.0042 479.565 L82.5933 479.565 Q85.8398 481.57 87.3994 484.562 Q88.9272 487.554 88.9272 491.883 Q88.9272 497.357 85.8716 500.604 Q82.7843 503.819 77.6281 503.819 Q71.6125 503.819 68.5569 499.808 Q65.5014 495.766 65.5014 487.777 L65.5014 479.565 L64.9285 479.565 Q60.8862 479.565 58.6901 482.239 Q56.4621 484.881 56.4621 489.687 Q56.4621 492.742 57.1941 495.639 Q57.9262 498.535 59.3903 501.209 L53.9795 501.209 Q52.7381 497.994 52.1334 494.97 Q51.4968 491.946 51.4968 489.082 Q51.4968 481.348 55.5072 477.528 Q59.5176 473.709 67.6657 473.709 Z\" fill=\"#000000\" fill-rule=\"evenodd\" fill-opacity=\"1\" /><path clip-path=\"url(#clip330)\" d=\"M 0 0 M53.7248 441.912 L59.1993 441.912 Q57.8307 444.395 57.1623 446.909 Q56.4621 449.392 56.4621 451.938 Q56.4621 457.635 60.0905 460.786 Q63.6872 463.937 70.212 463.937 Q76.7369 463.937 80.3653 460.786 Q83.9619 457.635 83.9619 451.938 Q83.9619 449.392 83.2935 446.909 Q82.5933 444.395 81.2247 441.912 L86.6355 441.912 Q87.7814 444.363 88.3543 447.005 Q88.9272 449.615 88.9272 452.575 Q88.9272 460.627 83.8664 465.37 Q78.8057 470.112 70.212 470.112 Q61.491 470.112 56.4939 465.338 Q51.4968 460.532 51.4968 452.193 Q51.4968 449.487 52.0697 446.909 Q52.6108 444.331 53.7248 441.912 Z\" fill=\"#000000\" fill-rule=\"evenodd\" fill-opacity=\"1\" /><path clip-path=\"url(#clip330)\" d=\"M 0 0 M91.3143 420.937 Q97.68 423.42 99.6216 425.775 Q101.563 428.13 101.563 432.077 L101.563 436.756 L96.6615 436.756 L96.6615 433.318 Q96.6615 430.899 95.5157 429.563 Q94.3699 428.226 90.1048 426.603 L87.4312 425.552 L52.3562 439.97 L52.3562 433.764 L80.238 422.624 L52.3562 411.484 L52.3562 405.277 L91.3143 420.937 Z\" fill=\"#000000\" fill-rule=\"evenodd\" fill-opacity=\"1\" /><polyline clip-path=\"url(#clip332)\" style=\"stroke:#009af9; stroke-width:4; stroke-opacity:1; fill:none\" points=\"\n",
       "  271.639,501.137 289.057,639.454 306.475,916.088 323.893,86.1857 341.311,86.1857 358.729,86.1857 376.148,1019.83 393.566,916.088 410.984,999.078 428.402,1066.98 \n",
       "  445.82,362.82 463.238,150.024 480.656,560.416 498.074,528.8 515.492,1382.91 532.911,671.999 550.329,1284.93 567.747,1047.13 585.165,1331.04 602.583,1311.28 \n",
       "  620.001,614.305 637.419,591.344 654.837,604.875 672.256,650.519 689.674,628.814 707.092,608.717 724.51,678.973 741.928,801.619 759.346,805.434 776.764,809.004 \n",
       "  794.182,786.416 811.601,790.345 829.019,769.635 846.437,773.819 863.855,1377.15 881.273,1342.25 898.691,1374.72 916.109,1384.24 933.527,584.127 950.946,571.982 \n",
       "  968.364,1311.28 985.782,723.088 1003.2,557.721 1020.62,731.665 1038.04,735.675 1055.45,1304.55 1072.87,725.902 1090.29,1322.57 1107.71,484.539 1125.13,460.455 \n",
       "  1142.54,469.218 1159.96,477.649 1177.38,439.663 1194.8,508.681 1212.22,515.957 1229.64,435.618 1247.05,429.594 1264.47,494.104 1281.89,722.444 1299.31,725.619 \n",
       "  1316.73,447.595 1334.14,744.838 1351.56,514.104 1368.98,367.076 1386.4,362.82 1403.82,383.464 1421.23,488.932 1438.65,434.985 1456.07,441.858 1473.49,495.293 \n",
       "  1490.91,535.716 1508.33,563.664 1525.74,388.988 1543.16,517.735 1560.58,675.853 1578,463.414 1595.42,469.218 1612.83,453.864 1630.25,604.875 1647.67,455.031 \n",
       "  1665.09,339.205 1682.51,356.154 1699.92,471.498 1717.34,779.398 1734.76,780.988 1752.18,782.541 1769.6,746.335 1787.02,608.372 1804.43,528.8 1821.85,551.296 \n",
       "  1839.27,555.261 1856.69,550.217 1874.11,545.281 1891.52,557.92 1908.94,682.678 1926.36,642.306 1943.78,645.1 1961.2,656.22 1978.61,418.147 1996.03,472.378 \n",
       "  2013.45,517.41 2030.87,529.337 2048.29,437.298 2065.71,410.243 2083.12,375.869 2100.54,528.283 2117.96,539.558 2135.38,504.944 2152.8,365.335 2170.21,385.25 \n",
       "  2187.63,278.842 2205.05,387.301 2222.47,282.742 2239.89,418.147 2257.3,522.6 2274.72,426.658 2292.14,416.74 \n",
       "  \"/>\n",
       "<polyline clip-path=\"url(#clip332)\" style=\"stroke:#e26f46; stroke-width:4; stroke-opacity:1; fill:none\" points=\"\n",
       "  271.639,1319.82 289.057,1319.82 306.475,1319.82 323.893,1207.68 341.311,1067.49 358.729,1263.75 376.148,1319.82 393.566,1319.82 410.984,1319.82 428.402,1319.82 \n",
       "  445.82,1067.49 463.238,1151.6 480.656,1291.79 498.074,1123.56 515.492,1319.82 532.911,1291.79 550.329,1319.82 567.747,1151.6 585.165,1319.82 602.583,1319.82 \n",
       "  620.001,1067.49 637.419,1207.68 654.837,1207.68 672.256,1207.68 689.674,1207.68 707.092,1207.68 724.51,983.378 741.928,1067.49 759.346,1095.53 776.764,1123.56 \n",
       "  794.182,1123.56 811.601,1095.53 829.019,927.303 846.437,927.303 863.855,1319.82 881.273,1319.82 898.691,1319.82 916.109,1319.82 933.527,983.378 950.946,983.378 \n",
       "  968.364,1319.82 985.782,955.34 1003.2,1067.49 1020.62,1039.45 1038.04,1011.41 1055.45,1319.82 1072.87,955.34 1090.29,1319.82 1107.71,1011.41 1125.13,759.08 \n",
       "  1142.54,787.117 1159.96,815.154 1177.38,815.154 1194.8,843.191 1212.22,871.229 1229.64,899.266 1247.05,815.154 1264.47,787.117 1281.89,927.303 1299.31,899.266 \n",
       "  1316.73,815.154 1334.14,1095.53 1351.56,1263.75 1368.98,1095.53 1386.4,983.378 1403.82,1095.53 1421.23,1151.6 1438.65,955.34 1456.07,1011.41 1473.49,927.303 \n",
       "  1490.91,983.378 1508.33,1039.45 1525.74,927.303 1543.16,927.303 1560.58,871.229 1578,843.191 1595.42,983.378 1612.83,731.042 1630.25,787.117 1647.67,731.042 \n",
       "  1665.09,562.819 1682.51,590.856 1699.92,731.042 1717.34,927.303 1734.76,927.303 1752.18,927.303 1769.6,983.378 1787.02,955.34 1804.43,955.34 1821.85,955.34 \n",
       "  1839.27,955.34 1856.69,1011.41 1874.11,1039.45 1891.52,955.34 1908.94,1039.45 1926.36,1011.41 1943.78,1011.41 1961.2,1011.41 1978.61,955.34 1996.03,1067.49 \n",
       "  2013.45,1011.41 2030.87,1123.56 2048.29,927.303 2065.71,899.266 2083.12,1011.41 2100.54,955.34 2117.96,983.378 2135.38,815.154 2152.8,871.229 2170.21,899.266 \n",
       "  2187.63,731.042 2205.05,927.303 2222.47,815.154 2239.89,815.154 2257.3,899.266 2274.72,843.191 2292.14,843.191 \n",
       "  \"/>\n",
       "<path clip-path=\"url(#clip330)\" d=\"\n",
       "M1844.07 1377.32 L2281.36 1377.32 L2281.36 1195.88 L1844.07 1195.88  Z\n",
       "  \" fill=\"#ffffff\" fill-rule=\"evenodd\" fill-opacity=\"1\"/>\n",
       "<polyline clip-path=\"url(#clip330)\" style=\"stroke:#000000; stroke-width:4; stroke-opacity:1; fill:none\" points=\"\n",
       "  1844.07,1377.32 2281.36,1377.32 2281.36,1195.88 1844.07,1195.88 1844.07,1377.32 \n",
       "  \"/>\n",
       "<polyline clip-path=\"url(#clip330)\" style=\"stroke:#009af9; stroke-width:4; stroke-opacity:1; fill:none\" points=\"\n",
       "  1867.86,1256.36 2010.65,1256.36 \n",
       "  \"/>\n",
       "<path clip-path=\"url(#clip330)\" d=\"M 0 0 M2034.44 1239.08 L2063.68 1239.08 L2063.68 1243.01 L2051.41 1243.01 L2051.41 1273.64 L2046.71 1273.64 L2046.71 1243.01 L2034.44 1243.01 L2034.44 1239.08 Z\" fill=\"#000000\" fill-rule=\"evenodd\" fill-opacity=\"1\" /><path clip-path=\"url(#clip330)\" d=\"M 0 0 M2076.2 1251.69 Q2075.48 1251.27 2074.63 1251.09 Q2073.79 1250.88 2072.78 1250.88 Q2069.17 1250.88 2067.22 1253.24 Q2065.3 1255.58 2065.3 1259.98 L2065.3 1273.64 L2061.02 1273.64 L2061.02 1247.71 L2065.3 1247.71 L2065.3 1251.74 Q2066.64 1249.38 2068.79 1248.24 Q2070.95 1247.08 2074.03 1247.08 Q2074.47 1247.08 2075 1247.15 Q2075.53 1247.2 2076.18 1247.32 L2076.2 1251.69 Z\" fill=\"#000000\" fill-rule=\"evenodd\" fill-opacity=\"1\" /><path clip-path=\"url(#clip330)\" d=\"M 0 0 M2092.45 1260.6 Q2087.29 1260.6 2085.3 1261.78 Q2083.31 1262.96 2083.31 1265.81 Q2083.31 1268.08 2084.79 1269.42 Q2086.29 1270.74 2088.86 1270.74 Q2092.41 1270.74 2094.54 1268.24 Q2096.69 1265.72 2096.69 1261.55 L2096.69 1260.6 L2092.45 1260.6 M2100.95 1258.84 L2100.95 1273.64 L2096.69 1273.64 L2096.69 1269.7 Q2095.23 1272.06 2093.05 1273.2 Q2090.88 1274.31 2087.73 1274.31 Q2083.75 1274.31 2081.39 1272.08 Q2079.05 1269.84 2079.05 1266.09 Q2079.05 1261.71 2081.97 1259.49 Q2084.91 1257.27 2090.72 1257.27 L2096.69 1257.27 L2096.69 1256.85 Q2096.69 1253.91 2094.74 1252.32 Q2092.82 1250.7 2089.33 1250.7 Q2087.1 1250.7 2085 1251.23 Q2082.89 1251.76 2080.95 1252.83 L2080.95 1248.89 Q2083.29 1247.99 2085.48 1247.55 Q2087.68 1247.08 2089.77 1247.08 Q2095.39 1247.08 2098.17 1250 Q2100.95 1252.92 2100.95 1258.84 Z\" fill=\"#000000\" fill-rule=\"evenodd\" fill-opacity=\"1\" /><path clip-path=\"url(#clip330)\" d=\"M 0 0 M2105.41 1247.71 L2109.67 1247.71 L2109.67 1273.64 L2105.41 1273.64 L2105.41 1247.71 M2105.41 1237.62 L2109.67 1237.62 L2109.67 1243.01 L2105.41 1243.01 L2105.41 1237.62 Z\" fill=\"#000000\" fill-rule=\"evenodd\" fill-opacity=\"1\" /><path clip-path=\"url(#clip330)\" d=\"M 0 0 M2135.69 1257.99 L2135.69 1273.64 L2131.43 1273.64 L2131.43 1258.13 Q2131.43 1254.45 2130 1252.62 Q2128.56 1250.79 2125.69 1250.79 Q2122.24 1250.79 2120.25 1252.99 Q2118.26 1255.19 2118.26 1258.98 L2118.26 1273.64 L2113.98 1273.64 L2113.98 1247.71 L2118.26 1247.71 L2118.26 1251.74 Q2119.79 1249.4 2121.85 1248.24 Q2123.93 1247.08 2126.64 1247.08 Q2131.11 1247.08 2133.4 1249.86 Q2135.69 1252.62 2135.69 1257.99 Z\" fill=\"#000000\" fill-rule=\"evenodd\" fill-opacity=\"1\" /><path clip-path=\"url(#clip330)\" d=\"M 0 0 M2140.16 1247.71 L2144.42 1247.71 L2144.42 1273.64 L2140.16 1273.64 L2140.16 1247.71 M2140.16 1237.62 L2144.42 1237.62 L2144.42 1243.01 L2140.16 1243.01 L2140.16 1237.62 Z\" fill=\"#000000\" fill-rule=\"evenodd\" fill-opacity=\"1\" /><path clip-path=\"url(#clip330)\" d=\"M 0 0 M2170.44 1257.99 L2170.44 1273.64 L2166.18 1273.64 L2166.18 1258.13 Q2166.18 1254.45 2164.74 1252.62 Q2163.31 1250.79 2160.44 1250.79 Q2156.99 1250.79 2155 1252.99 Q2153.01 1255.19 2153.01 1258.98 L2153.01 1273.64 L2148.72 1273.64 L2148.72 1247.71 L2153.01 1247.71 L2153.01 1251.74 Q2154.54 1249.4 2156.6 1248.24 Q2158.68 1247.08 2161.39 1247.08 Q2165.85 1247.08 2168.15 1249.86 Q2170.44 1252.62 2170.44 1257.99 Z\" fill=\"#000000\" fill-rule=\"evenodd\" fill-opacity=\"1\" /><path clip-path=\"url(#clip330)\" d=\"M 0 0 M2191.97 1260.37 Q2191.97 1255.74 2190.04 1253.2 Q2188.15 1250.65 2184.7 1250.65 Q2181.27 1250.65 2179.35 1253.2 Q2177.45 1255.74 2177.45 1260.37 Q2177.45 1264.98 2179.35 1267.52 Q2181.27 1270.07 2184.7 1270.07 Q2188.15 1270.07 2190.04 1267.52 Q2191.97 1264.98 2191.97 1260.37 M2196.22 1270.42 Q2196.22 1277.04 2193.28 1280.26 Q2190.35 1283.5 2184.28 1283.5 Q2182.03 1283.5 2180.04 1283.15 Q2178.05 1282.83 2176.18 1282.13 L2176.18 1277.99 Q2178.05 1279.01 2179.88 1279.49 Q2181.71 1279.98 2183.61 1279.98 Q2187.8 1279.98 2189.88 1277.78 Q2191.97 1275.6 2191.97 1271.18 L2191.97 1269.08 Q2190.65 1271.37 2188.59 1272.5 Q2186.53 1273.64 2183.66 1273.64 Q2178.89 1273.64 2175.97 1270 Q2173.05 1266.37 2173.05 1260.37 Q2173.05 1254.35 2175.97 1250.72 Q2178.89 1247.08 2183.66 1247.08 Q2186.53 1247.08 2188.59 1248.22 Q2190.65 1249.35 2191.97 1251.64 L2191.97 1247.71 L2196.22 1247.71 L2196.22 1270.42 Z\" fill=\"#000000\" fill-rule=\"evenodd\" fill-opacity=\"1\" /><polyline clip-path=\"url(#clip330)\" style=\"stroke:#e26f46; stroke-width:4; stroke-opacity:1; fill:none\" points=\"\n",
       "  1867.86,1316.84 2010.65,1316.84 \n",
       "  \"/>\n",
       "<path clip-path=\"url(#clip330)\" d=\"M 0 0 M2047.64 1334.12 L2034.44 1299.56 L2039.33 1299.56 L2050.28 1328.65 L2061.25 1299.56 L2066.11 1299.56 L2052.94 1334.12 L2047.64 1334.12 Z\" fill=\"#000000\" fill-rule=\"evenodd\" fill-opacity=\"1\" /><path clip-path=\"url(#clip330)\" d=\"M 0 0 M2078.68 1321.08 Q2073.52 1321.08 2071.53 1322.26 Q2069.54 1323.44 2069.54 1326.29 Q2069.54 1328.56 2071.02 1329.9 Q2072.52 1331.22 2075.09 1331.22 Q2078.63 1331.22 2080.76 1328.72 Q2082.92 1326.2 2082.92 1322.03 L2082.92 1321.08 L2078.68 1321.08 M2087.17 1319.32 L2087.17 1334.12 L2082.92 1334.12 L2082.92 1330.18 Q2081.46 1332.54 2079.28 1333.68 Q2077.1 1334.79 2073.96 1334.79 Q2069.98 1334.79 2067.61 1332.56 Q2065.28 1330.32 2065.28 1326.57 Q2065.28 1322.19 2068.19 1319.97 Q2071.13 1317.75 2076.94 1317.75 L2082.92 1317.75 L2082.92 1317.33 Q2082.92 1314.39 2080.97 1312.8 Q2079.05 1311.18 2075.55 1311.18 Q2073.33 1311.18 2071.23 1311.71 Q2069.12 1312.24 2067.17 1313.31 L2067.17 1309.37 Q2069.51 1308.47 2071.71 1308.03 Q2073.91 1307.56 2075.99 1307.56 Q2081.62 1307.56 2084.4 1310.48 Q2087.17 1313.4 2087.17 1319.32 Z\" fill=\"#000000\" fill-rule=\"evenodd\" fill-opacity=\"1\" /><path clip-path=\"url(#clip330)\" d=\"M 0 0 M2091.64 1298.1 L2095.9 1298.1 L2095.9 1334.12 L2091.64 1334.12 L2091.64 1298.1 Z\" fill=\"#000000\" fill-rule=\"evenodd\" fill-opacity=\"1\" /><path clip-path=\"url(#clip330)\" d=\"M 0 0 M2100.37 1308.19 L2104.63 1308.19 L2104.63 1334.12 L2100.37 1334.12 L2100.37 1308.19 M2100.37 1298.1 L2104.63 1298.1 L2104.63 1303.49 L2100.37 1303.49 L2100.37 1298.1 Z\" fill=\"#000000\" fill-rule=\"evenodd\" fill-opacity=\"1\" /><path clip-path=\"url(#clip330)\" d=\"M 0 0 M2126.16 1312.12 L2126.16 1298.1 L2130.41 1298.1 L2130.41 1334.12 L2126.16 1334.12 L2126.16 1330.23 Q2124.81 1332.54 2122.75 1333.68 Q2120.72 1334.79 2117.85 1334.79 Q2113.15 1334.79 2110.18 1331.04 Q2107.24 1327.29 2107.24 1321.18 Q2107.24 1315.06 2110.18 1311.31 Q2113.15 1307.56 2117.85 1307.56 Q2120.72 1307.56 2122.75 1308.7 Q2124.81 1309.81 2126.16 1312.12 M2111.64 1321.18 Q2111.64 1325.87 2113.56 1328.56 Q2115.51 1331.22 2118.89 1331.22 Q2122.27 1331.22 2124.21 1328.56 Q2126.16 1325.87 2126.16 1321.18 Q2126.16 1316.48 2124.21 1313.81 Q2122.27 1311.13 2118.89 1311.13 Q2115.51 1311.13 2113.56 1313.81 Q2111.64 1316.48 2111.64 1321.18 Z\" fill=\"#000000\" fill-rule=\"evenodd\" fill-opacity=\"1\" /><path clip-path=\"url(#clip330)\" d=\"M 0 0 M2146.66 1321.08 Q2141.5 1321.08 2139.51 1322.26 Q2137.52 1323.44 2137.52 1326.29 Q2137.52 1328.56 2139 1329.9 Q2140.51 1331.22 2143.08 1331.22 Q2146.62 1331.22 2148.75 1328.72 Q2150.9 1326.2 2150.9 1322.03 L2150.9 1321.08 L2146.66 1321.08 M2155.16 1319.32 L2155.16 1334.12 L2150.9 1334.12 L2150.9 1330.18 Q2149.44 1332.54 2147.27 1333.68 Q2145.09 1334.79 2141.94 1334.79 Q2137.96 1334.79 2135.6 1332.56 Q2133.26 1330.32 2133.26 1326.57 Q2133.26 1322.19 2136.18 1319.97 Q2139.12 1317.75 2144.93 1317.75 L2150.9 1317.75 L2150.9 1317.33 Q2150.9 1314.39 2148.96 1312.8 Q2147.04 1311.18 2143.54 1311.18 Q2141.32 1311.18 2139.21 1311.71 Q2137.1 1312.24 2135.16 1313.31 L2135.16 1309.37 Q2137.5 1308.47 2139.7 1308.03 Q2141.9 1307.56 2143.98 1307.56 Q2149.6 1307.56 2152.38 1310.48 Q2155.16 1313.4 2155.16 1319.32 Z\" fill=\"#000000\" fill-rule=\"evenodd\" fill-opacity=\"1\" /><path clip-path=\"url(#clip330)\" d=\"M 0 0 M2163.84 1300.83 L2163.84 1308.19 L2172.61 1308.19 L2172.61 1311.5 L2163.84 1311.5 L2163.84 1325.57 Q2163.84 1328.74 2164.7 1329.65 Q2165.58 1330.55 2168.24 1330.55 L2172.61 1330.55 L2172.61 1334.12 L2168.24 1334.12 Q2163.31 1334.12 2161.43 1332.29 Q2159.56 1330.43 2159.56 1325.57 L2159.56 1311.5 L2156.43 1311.5 L2156.43 1308.19 L2159.56 1308.19 L2159.56 1300.83 L2163.84 1300.83 Z\" fill=\"#000000\" fill-rule=\"evenodd\" fill-opacity=\"1\" /><path clip-path=\"url(#clip330)\" d=\"M 0 0 M2177.08 1308.19 L2181.34 1308.19 L2181.34 1334.12 L2177.08 1334.12 L2177.08 1308.19 M2177.08 1298.1 L2181.34 1298.1 L2181.34 1303.49 L2177.08 1303.49 L2177.08 1298.1 Z\" fill=\"#000000\" fill-rule=\"evenodd\" fill-opacity=\"1\" /><path clip-path=\"url(#clip330)\" d=\"M 0 0 M2195.85 1311.18 Q2192.43 1311.18 2190.44 1313.86 Q2188.45 1316.52 2188.45 1321.18 Q2188.45 1325.83 2190.41 1328.51 Q2192.41 1331.18 2195.85 1331.18 Q2199.26 1331.18 2201.25 1328.49 Q2203.24 1325.81 2203.24 1321.18 Q2203.24 1316.57 2201.25 1313.88 Q2199.26 1311.18 2195.85 1311.18 M2195.85 1307.56 Q2201.41 1307.56 2204.58 1311.18 Q2207.75 1314.79 2207.75 1321.18 Q2207.75 1327.54 2204.58 1331.18 Q2201.41 1334.79 2195.85 1334.79 Q2190.28 1334.79 2187.1 1331.18 Q2183.96 1327.54 2183.96 1321.18 Q2183.96 1314.79 2187.1 1311.18 Q2190.28 1307.56 2195.85 1307.56 Z\" fill=\"#000000\" fill-rule=\"evenodd\" fill-opacity=\"1\" /><path clip-path=\"url(#clip330)\" d=\"M 0 0 M2233.77 1318.47 L2233.77 1334.12 L2229.51 1334.12 L2229.51 1318.61 Q2229.51 1314.93 2228.08 1313.1 Q2226.64 1311.27 2223.77 1311.27 Q2220.32 1311.27 2218.33 1313.47 Q2216.34 1315.67 2216.34 1319.46 L2216.34 1334.12 L2212.06 1334.12 L2212.06 1308.19 L2216.34 1308.19 L2216.34 1312.22 Q2217.87 1309.88 2219.93 1308.72 Q2222.01 1307.56 2224.72 1307.56 Q2229.19 1307.56 2231.48 1310.34 Q2233.77 1313.1 2233.77 1318.47 Z\" fill=\"#000000\" fill-rule=\"evenodd\" fill-opacity=\"1\" /></svg>\n"
      ]
     },
     "execution_count": 50,
     "metadata": {},
     "output_type": "execute_result"
    }
   ],
   "source": [
    "plot(data_schedule, training_losses, label=\"Training\", legend=:bottomright)\n",
    "plot!(data_schedule, valid_losses, label=\"Validation\")\n",
    "xlabel!(\"Number of Training Samples\")\n",
    "ylabel!(\"Classification Accuracy\")"
   ]
  },
  {
   "cell_type": "code",
   "execution_count": 51,
   "metadata": {},
   "outputs": [],
   "source": [
    "fn = \"Figures/LearningCurve_DT_merge_purity_thresh:$(best_mpt)_loss:$(best_loss)\"\n",
    "png(replace(fn,'.' => ','))"
   ]
  },
  {
   "cell_type": "markdown",
   "metadata": {},
   "source": [
    "# Final Results"
   ]
  },
  {
   "cell_type": "code",
   "execution_count": 53,
   "metadata": {},
   "outputs": [
    {
     "data": {
      "text/plain": [
       "DecisionTreeClassifier(\n",
       "    max_depth = -1,\n",
       "    min_samples_leaf = 1,\n",
       "    min_samples_split = 2,\n",
       "    min_purity_increase = 0.0,\n",
       "    n_subfeatures = 0,\n",
       "    post_prune = true,\n",
       "    merge_purity_threshold = 0.5385477677677678,\n",
       "    pdf_smoothing = 0.0,\n",
       "    display_depth = 14)\u001b[34m @700\u001b[39m"
      ]
     },
     "execution_count": 53,
     "metadata": {},
     "output_type": "execute_result"
    }
   ],
   "source": [
    "final_dt = best.best_model"
   ]
  },
  {
   "cell_type": "code",
   "execution_count": 54,
   "metadata": {},
   "outputs": [
    {
     "data": {
      "text/plain": [
       "\u001b[34mMachine{DecisionTreeClassifier} @819\u001b[39m trained 0 times.\n",
       "  args: \n",
       "    1:\t\u001b[34mSource @159\u001b[39m ⏎ `Table{Union{AbstractArray{Continuous,1}, AbstractArray{Count,1}}}`\n",
       "    2:\t\u001b[34mSource @644\u001b[39m ⏎ `AbstractArray{Multiclass{2},1}`\n"
      ]
     },
     "execution_count": 54,
     "metadata": {},
     "output_type": "execute_result"
    }
   ],
   "source": [
    "Final_Tree = machine(final_dt, X_stand, y)"
   ]
  },
  {
   "cell_type": "code",
   "execution_count": 55,
   "metadata": {
    "scrolled": false
   },
   "outputs": [
    {
     "name": "stdout",
     "output_type": "stream",
     "text": [
      "Feature 36, Threshold -0.12825137807558387\n",
      "L-> Feature 27, Threshold 0.07521584446798363\n",
      "    L-> Feature 34, Threshold 2.5\n",
      "        L-> Feature 9, Threshold 3.5\n",
      "            L-> Feature 10, Threshold 1.5\n",
      "                L-> Feature 36, Threshold -0.3354530367869534\n",
      "                    L-> Feature 9, Threshold 1.5\n",
      "                        L-> Feature 18, Threshold 1.3981920479364356\n",
      "                            L-> Feature 2, Threshold -0.19981745228355516\n",
      "                                L-> 2 : 23/27\n",
      "                                R-> Feature 15, Threshold -0.7127284361817541\n",
      "                                    L-> Feature 13, Threshold -1.6671232271775904\n",
      "                                        L-> 1 : 1/1\n",
      "                                        R-> Feature 18, Threshold -0.1288613660477313\n",
      "                                            L-> Feature 2, Threshold 0.03410631034868103\n",
      "                                                L-> 2 : 3/4\n",
      "                                                R-> 1 : 2/2\n",
      "                                            R-> 2 : 5/5\n",
      "                                    R-> 1 : 6/7\n",
      "                            R-> 1 : 5/5\n",
      "                        R-> 2 : 36/38\n",
      "                    R-> 1 : 19/29\n",
      "                R-> 2 : 95/101\n",
      "            R-> 1 : 13/15\n",
      "        R-> 1 : 29/34\n",
      "    R-> Feature 30, Threshold -0.3357589809933843\n",
      "        L-> 1 : 68/72\n",
      "        R-> Feature 11, Threshold 0.5\n",
      "            L-> 2 : 37/55\n",
      "            R-> Feature 17, Threshold 0.15868787400437176\n",
      "                L-> 1 : 19/19\n",
      "                R-> Feature 2, Threshold 0.06107022232044529\n",
      "                    L-> 2 : 3/3\n",
      "                    R-> 1 : 4/5\n",
      "R-> Feature 12, Threshold -0.41462228207904994\n",
      "    L-> 1 : 33/44\n",
      "    R-> Feature 27, Threshold 0.6120432788735517\n",
      "        L-> Feature 17, Threshold -0.4586976703405704\n",
      "            L-> 1 : 20/28\n",
      "            R-> Feature 18, Threshold -0.4212758495766108\n",
      "                L-> Feature 22, Threshold 0.36603493809287063\n",
      "                    L-> 2 : 3/3\n",
      "                    R-> Feature 18, Threshold -0.9086333221247491\n",
      "                        L-> Feature 39, Threshold 0.10374372977020904\n",
      "                            L-> 2 : 1/1\n",
      "                            R-> Feature 2, Threshold 0.5432866743593447\n",
      "                                L-> 1 : 23/23\n",
      "                                R-> Feature 15, Threshold 0.10894408890600299\n",
      "                                    L-> 2 : 1/1\n",
      "                                    R-> 1 : 1/1\n",
      "                        R-> 1 : 25/25\n",
      "                R-> 1 : 72/72\n",
      "        R-> 1 : 118/118\n"
     ]
    },
    {
     "name": "stderr",
     "output_type": "stream",
     "text": [
      "┌ Info: Training \u001b[34mMachine{DecisionTreeClassifier} @819\u001b[39m.\n",
      "└ @ MLJBase /home/andrew/.julia/packages/MLJBase/uKzAz/src/machines.jl:319\n"
     ]
    },
    {
     "data": {
      "text/plain": [
       "\u001b[34mMachine{DecisionTreeClassifier} @819\u001b[39m trained 1 time.\n",
       "  args: \n",
       "    1:\t\u001b[34mSource @159\u001b[39m ⏎ `Table{Union{AbstractArray{Continuous,1}, AbstractArray{Count,1}}}`\n",
       "    2:\t\u001b[34mSource @644\u001b[39m ⏎ `AbstractArray{Multiclass{2},1}`\n"
      ]
     },
     "execution_count": 55,
     "metadata": {},
     "output_type": "execute_result"
    }
   ],
   "source": [
    "fit!(Final_Tree, rows=train, verbosity=2)"
   ]
  },
  {
   "cell_type": "code",
   "execution_count": 56,
   "metadata": {},
   "outputs": [
    {
     "data": {
      "text/plain": [
       "(tree = Decision Tree\n",
       "Leaves: 27\n",
       "Depth:  13,\n",
       " encoding = Dict{CategoricalValue{String,UInt32},UInt32}(\"RB\" => 0x00000002,\"NRB\" => 0x00000001),)"
      ]
     },
     "execution_count": 56,
     "metadata": {},
     "output_type": "execute_result"
    }
   ],
   "source": [
    "fitted_params(Final_Tree)"
   ]
  },
  {
   "cell_type": "code",
   "execution_count": 57,
   "metadata": {},
   "outputs": [],
   "source": [
    "ŷ = MLJ.predict(Final_Tree, X_stand[test,:]);"
   ]
  },
  {
   "cell_type": "code",
   "execution_count": 58,
   "metadata": {},
   "outputs": [
    {
     "data": {
      "text/plain": [
       "2.2492809689578297"
      ]
     },
     "execution_count": 58,
     "metadata": {},
     "output_type": "execute_result"
    }
   ],
   "source": [
    "cross_entropy(ŷ, y[test]) |> mean"
   ]
  },
  {
   "cell_type": "code",
   "execution_count": 59,
   "metadata": {},
   "outputs": [
    {
     "data": {
      "text/plain": [
       "0.7886435331230284"
      ]
     },
     "execution_count": 59,
     "metadata": {},
     "output_type": "execute_result"
    }
   ],
   "source": [
    "acc(ŷ, y[test])"
   ]
  },
  {
   "cell_type": "code",
   "execution_count": 60,
   "metadata": {},
   "outputs": [
    {
     "name": "stderr",
     "output_type": "stream",
     "text": [
      "┌ Warning: The classes are un-ordered,\n",
      "│ using: negative='NRB' and positive='RB'.\n",
      "│ To suppress this warning, consider coercing to OrderedFactor.\n",
      "└ @ MLJBase /home/andrew/.julia/packages/MLJBase/uKzAz/src/measures/confusion_matrix.jl:83\n"
     ]
    },
    {
     "data": {
      "text/plain": [
       "              ┌───────────────────────────┐\n",
       "              │       Ground Truth        │\n",
       "┌─────────────┼─────────────┬─────────────┤\n",
       "│  Predicted  │     NRB     │     RB      │\n",
       "├─────────────┼─────────────┼─────────────┤\n",
       "│     NRB     │     175     │     32      │\n",
       "├─────────────┼─────────────┼─────────────┤\n",
       "│     RB      │     35      │     75      │\n",
       "└─────────────┴─────────────┴─────────────┘\n"
      ]
     },
     "execution_count": 60,
     "metadata": {},
     "output_type": "execute_result"
    }
   ],
   "source": [
    "c = confusion_matrix(mode.(ŷ), y[test])"
   ]
  },
  {
   "cell_type": "code",
   "execution_count": 61,
   "metadata": {},
   "outputs": [
    {
     "data": {
      "text/plain": [
       "0.6818181818181819"
      ]
     },
     "execution_count": 61,
     "metadata": {},
     "output_type": "execute_result"
    }
   ],
   "source": [
    "precision(c)"
   ]
  },
  {
   "cell_type": "code",
   "execution_count": 62,
   "metadata": {},
   "outputs": [
    {
     "data": {
      "text/plain": [
       "0.7009345794392523"
      ]
     },
     "execution_count": 62,
     "metadata": {},
     "output_type": "execute_result"
    }
   ],
   "source": [
    "recall(c)"
   ]
  },
  {
   "cell_type": "code",
   "execution_count": 65,
   "metadata": {},
   "outputs": [
    {
     "data": {
      "text/plain": [
       "0.29906542056074764"
      ]
     },
     "execution_count": 65,
     "metadata": {},
     "output_type": "execute_result"
    }
   ],
   "source": [
    "32/(35+72)"
   ]
  },
  {
   "cell_type": "code",
   "execution_count": 66,
   "metadata": {},
   "outputs": [
    {
     "data": {
      "text/plain": [
       "0.16666666666666666"
      ]
     },
     "execution_count": 66,
     "metadata": {},
     "output_type": "execute_result"
    }
   ],
   "source": [
    "35/(175+35)"
   ]
  },
  {
   "cell_type": "code",
   "execution_count": null,
   "metadata": {},
   "outputs": [],
   "source": []
  }
 ],
 "metadata": {
  "kernelspec": {
   "display_name": "Julia 1.5.0",
   "language": "julia",
   "name": "julia-1.5"
  },
  "language_info": {
   "file_extension": ".jl",
   "mimetype": "application/julia",
   "name": "julia",
   "version": "1.5.0"
  }
 },
 "nbformat": 4,
 "nbformat_minor": 4
}
