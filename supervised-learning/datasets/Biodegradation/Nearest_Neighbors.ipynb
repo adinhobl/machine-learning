{
 "cells": [
  {
   "cell_type": "markdown",
   "metadata": {},
   "source": [
    "# Imports"
   ]
  },
  {
   "cell_type": "code",
   "execution_count": 1,
   "metadata": {
    "scrolled": true
   },
   "outputs": [],
   "source": [
    "using DataFrames\n",
    "using CSV\n",
    "using MLJ\n",
    "using Plots\n",
    "using StatsBase\n",
    "using Distances\n",
    "\n",
    "include(\"../../lib.jl\")\n",
    "\n",
    "ENV[\"LINES\"]=30;"
   ]
  },
  {
   "cell_type": "markdown",
   "metadata": {},
   "source": [
    "# Datasets"
   ]
  },
  {
   "cell_type": "code",
   "execution_count": 2,
   "metadata": {},
   "outputs": [
    {
     "data": {
      "text/html": [
       "<table class=\"data-frame\"><thead><tr><th></th><th>1</th><th>2</th><th>3</th><th>4</th><th>5</th><th>6</th><th>7</th><th>8</th><th>9</th><th>10</th><th>11</th></tr><tr><th></th><th>Float64</th><th>Float64</th><th>Int64</th><th>Int64</th><th>Int64</th><th>Int64</th><th>Int64</th><th>Float64</th><th>Int64</th><th>Int64</th><th>Int64</th></tr></thead><tbody><p>1,055 rows × 42 columns (omitted printing of 31 columns)</p><tr><th>1</th><td>3.919</td><td>2.6909</td><td>0</td><td>0</td><td>0</td><td>0</td><td>0</td><td>31.4</td><td>2</td><td>0</td><td>0</td></tr><tr><th>2</th><td>4.17</td><td>2.1144</td><td>0</td><td>0</td><td>0</td><td>0</td><td>0</td><td>30.8</td><td>1</td><td>1</td><td>0</td></tr><tr><th>3</th><td>3.932</td><td>3.2512</td><td>0</td><td>0</td><td>0</td><td>0</td><td>0</td><td>26.7</td><td>2</td><td>4</td><td>0</td></tr><tr><th>4</th><td>3.0</td><td>2.7098</td><td>0</td><td>0</td><td>0</td><td>0</td><td>0</td><td>20.0</td><td>0</td><td>2</td><td>0</td></tr><tr><th>5</th><td>4.236</td><td>3.3944</td><td>0</td><td>0</td><td>0</td><td>0</td><td>0</td><td>29.4</td><td>2</td><td>4</td><td>0</td></tr><tr><th>6</th><td>4.236</td><td>3.4286</td><td>0</td><td>0</td><td>0</td><td>0</td><td>0</td><td>28.6</td><td>2</td><td>4</td><td>0</td></tr><tr><th>7</th><td>5.0</td><td>5.0476</td><td>1</td><td>0</td><td>0</td><td>0</td><td>0</td><td>11.1</td><td>0</td><td>3</td><td>0</td></tr><tr><th>8</th><td>4.525</td><td>3.8301</td><td>0</td><td>0</td><td>0</td><td>0</td><td>0</td><td>31.6</td><td>3</td><td>2</td><td>0</td></tr><tr><th>9</th><td>4.596</td><td>3.0777</td><td>0</td><td>0</td><td>0</td><td>0</td><td>2</td><td>44.4</td><td>2</td><td>0</td><td>0</td></tr><tr><th>10</th><td>5.04</td><td>3.6112</td><td>0</td><td>0</td><td>1</td><td>0</td><td>2</td><td>41.2</td><td>0</td><td>4</td><td>3</td></tr><tr><th>11</th><td>4.91</td><td>2.7414</td><td>0</td><td>0</td><td>0</td><td>0</td><td>2</td><td>52.9</td><td>0</td><td>2</td><td>0</td></tr><tr><th>12</th><td>3.618</td><td>2.1906</td><td>0</td><td>0</td><td>0</td><td>0</td><td>0</td><td>29.4</td><td>2</td><td>0</td><td>0</td></tr><tr><th>13</th><td>4.214</td><td>2.6272</td><td>0</td><td>0</td><td>0</td><td>0</td><td>0</td><td>30.0</td><td>3</td><td>0</td><td>0</td></tr><tr><th>14</th><td>3.732</td><td>2.3391</td><td>0</td><td>0</td><td>0</td><td>0</td><td>0</td><td>30.0</td><td>2</td><td>0</td><td>0</td></tr><tr><th>15</th><td>3.879</td><td>2.5951</td><td>0</td><td>0</td><td>0</td><td>0</td><td>0</td><td>31.0</td><td>2</td><td>0</td><td>0</td></tr><tr><th>16</th><td>3.942</td><td>2.7719</td><td>1</td><td>0</td><td>0</td><td>0</td><td>0</td><td>31.6</td><td>2</td><td>0</td><td>0</td></tr><tr><th>17</th><td>3.966</td><td>2.852</td><td>1</td><td>0</td><td>0</td><td>0</td><td>0</td><td>32.0</td><td>2</td><td>0</td><td>0</td></tr><tr><th>18</th><td>3.732</td><td>2.3761</td><td>0</td><td>0</td><td>1</td><td>0</td><td>0</td><td>26.3</td><td>2</td><td>0</td><td>1</td></tr><tr><th>19</th><td>4.0</td><td>2.6264</td><td>0</td><td>0</td><td>0</td><td>0</td><td>0</td><td>23.1</td><td>0</td><td>0</td><td>0</td></tr><tr><th>20</th><td>2.0</td><td>1.1521</td><td>0</td><td>0</td><td>0</td><td>0</td><td>0</td><td>16.7</td><td>1</td><td>1</td><td>0</td></tr><tr><th>21</th><td>3.732</td><td>2.4062</td><td>0</td><td>0</td><td>0</td><td>0</td><td>0</td><td>27.8</td><td>2</td><td>1</td><td>0</td></tr><tr><th>22</th><td>4.0</td><td>2.3699</td><td>0</td><td>0</td><td>0</td><td>0</td><td>0</td><td>30.0</td><td>1</td><td>1</td><td>0</td></tr><tr><th>23</th><td>3.414</td><td>2.2525</td><td>0</td><td>0</td><td>0</td><td>0</td><td>0</td><td>20.0</td><td>2</td><td>2</td><td>0</td></tr><tr><th>24</th><td>4.17</td><td>2.8042</td><td>0</td><td>0</td><td>0</td><td>0</td><td>0</td><td>23.1</td><td>2</td><td>2</td><td>0</td></tr><tr><th>25</th><td>4.303</td><td>2.9558</td><td>0</td><td>0</td><td>0</td><td>0</td><td>0</td><td>25.0</td><td>2</td><td>2</td><td>0</td></tr><tr><th>26</th><td>3.414</td><td>2.6294</td><td>0</td><td>0</td><td>0</td><td>0</td><td>0</td><td>37.5</td><td>1</td><td>1</td><td>0</td></tr><tr><th>27</th><td>4.214</td><td>3.0057</td><td>0</td><td>0</td><td>0</td><td>0</td><td>0</td><td>25.0</td><td>1</td><td>2</td><td>0</td></tr><tr><th>28</th><td>3.848</td><td>2.8521</td><td>0</td><td>0</td><td>0</td><td>0</td><td>0</td><td>27.3</td><td>2</td><td>2</td><td>0</td></tr><tr><th>29</th><td>3.414</td><td>2.3729</td><td>0</td><td>0</td><td>0</td><td>0</td><td>0</td><td>30.0</td><td>1</td><td>1</td><td>0</td></tr><tr><th>30</th><td>4.393</td><td>3.6458</td><td>0</td><td>0</td><td>0</td><td>0</td><td>0</td><td>37.0</td><td>3</td><td>1</td><td>0</td></tr><tr><th>&vellip;</th><td>&vellip;</td><td>&vellip;</td><td>&vellip;</td><td>&vellip;</td><td>&vellip;</td><td>&vellip;</td><td>&vellip;</td><td>&vellip;</td><td>&vellip;</td><td>&vellip;</td><td>&vellip;</td></tr></tbody></table>"
      ],
      "text/latex": [
       "\\begin{tabular}{r|cccccccccccc}\n",
       "\t& 1 & 2 & 3 & 4 & 5 & 6 & 7 & 8 & 9 & 10 & 11 & \\\\\n",
       "\t\\hline\n",
       "\t& Float64 & Float64 & Int64 & Int64 & Int64 & Int64 & Int64 & Float64 & Int64 & Int64 & Int64 & \\\\\n",
       "\t\\hline\n",
       "\t1 & 3.919 & 2.6909 & 0 & 0 & 0 & 0 & 0 & 31.4 & 2 & 0 & 0 & $\\dots$ \\\\\n",
       "\t2 & 4.17 & 2.1144 & 0 & 0 & 0 & 0 & 0 & 30.8 & 1 & 1 & 0 & $\\dots$ \\\\\n",
       "\t3 & 3.932 & 3.2512 & 0 & 0 & 0 & 0 & 0 & 26.7 & 2 & 4 & 0 & $\\dots$ \\\\\n",
       "\t4 & 3.0 & 2.7098 & 0 & 0 & 0 & 0 & 0 & 20.0 & 0 & 2 & 0 & $\\dots$ \\\\\n",
       "\t5 & 4.236 & 3.3944 & 0 & 0 & 0 & 0 & 0 & 29.4 & 2 & 4 & 0 & $\\dots$ \\\\\n",
       "\t6 & 4.236 & 3.4286 & 0 & 0 & 0 & 0 & 0 & 28.6 & 2 & 4 & 0 & $\\dots$ \\\\\n",
       "\t7 & 5.0 & 5.0476 & 1 & 0 & 0 & 0 & 0 & 11.1 & 0 & 3 & 0 & $\\dots$ \\\\\n",
       "\t8 & 4.525 & 3.8301 & 0 & 0 & 0 & 0 & 0 & 31.6 & 3 & 2 & 0 & $\\dots$ \\\\\n",
       "\t9 & 4.596 & 3.0777 & 0 & 0 & 0 & 0 & 2 & 44.4 & 2 & 0 & 0 & $\\dots$ \\\\\n",
       "\t10 & 5.04 & 3.6112 & 0 & 0 & 1 & 0 & 2 & 41.2 & 0 & 4 & 3 & $\\dots$ \\\\\n",
       "\t11 & 4.91 & 2.7414 & 0 & 0 & 0 & 0 & 2 & 52.9 & 0 & 2 & 0 & $\\dots$ \\\\\n",
       "\t12 & 3.618 & 2.1906 & 0 & 0 & 0 & 0 & 0 & 29.4 & 2 & 0 & 0 & $\\dots$ \\\\\n",
       "\t13 & 4.214 & 2.6272 & 0 & 0 & 0 & 0 & 0 & 30.0 & 3 & 0 & 0 & $\\dots$ \\\\\n",
       "\t14 & 3.732 & 2.3391 & 0 & 0 & 0 & 0 & 0 & 30.0 & 2 & 0 & 0 & $\\dots$ \\\\\n",
       "\t15 & 3.879 & 2.5951 & 0 & 0 & 0 & 0 & 0 & 31.0 & 2 & 0 & 0 & $\\dots$ \\\\\n",
       "\t16 & 3.942 & 2.7719 & 1 & 0 & 0 & 0 & 0 & 31.6 & 2 & 0 & 0 & $\\dots$ \\\\\n",
       "\t17 & 3.966 & 2.852 & 1 & 0 & 0 & 0 & 0 & 32.0 & 2 & 0 & 0 & $\\dots$ \\\\\n",
       "\t18 & 3.732 & 2.3761 & 0 & 0 & 1 & 0 & 0 & 26.3 & 2 & 0 & 1 & $\\dots$ \\\\\n",
       "\t19 & 4.0 & 2.6264 & 0 & 0 & 0 & 0 & 0 & 23.1 & 0 & 0 & 0 & $\\dots$ \\\\\n",
       "\t20 & 2.0 & 1.1521 & 0 & 0 & 0 & 0 & 0 & 16.7 & 1 & 1 & 0 & $\\dots$ \\\\\n",
       "\t21 & 3.732 & 2.4062 & 0 & 0 & 0 & 0 & 0 & 27.8 & 2 & 1 & 0 & $\\dots$ \\\\\n",
       "\t22 & 4.0 & 2.3699 & 0 & 0 & 0 & 0 & 0 & 30.0 & 1 & 1 & 0 & $\\dots$ \\\\\n",
       "\t23 & 3.414 & 2.2525 & 0 & 0 & 0 & 0 & 0 & 20.0 & 2 & 2 & 0 & $\\dots$ \\\\\n",
       "\t24 & 4.17 & 2.8042 & 0 & 0 & 0 & 0 & 0 & 23.1 & 2 & 2 & 0 & $\\dots$ \\\\\n",
       "\t25 & 4.303 & 2.9558 & 0 & 0 & 0 & 0 & 0 & 25.0 & 2 & 2 & 0 & $\\dots$ \\\\\n",
       "\t26 & 3.414 & 2.6294 & 0 & 0 & 0 & 0 & 0 & 37.5 & 1 & 1 & 0 & $\\dots$ \\\\\n",
       "\t27 & 4.214 & 3.0057 & 0 & 0 & 0 & 0 & 0 & 25.0 & 1 & 2 & 0 & $\\dots$ \\\\\n",
       "\t28 & 3.848 & 2.8521 & 0 & 0 & 0 & 0 & 0 & 27.3 & 2 & 2 & 0 & $\\dots$ \\\\\n",
       "\t29 & 3.414 & 2.3729 & 0 & 0 & 0 & 0 & 0 & 30.0 & 1 & 1 & 0 & $\\dots$ \\\\\n",
       "\t30 & 4.393 & 3.6458 & 0 & 0 & 0 & 0 & 0 & 37.0 & 3 & 1 & 0 & $\\dots$ \\\\\n",
       "\t$\\dots$ & $\\dots$ & $\\dots$ & $\\dots$ & $\\dots$ & $\\dots$ & $\\dots$ & $\\dots$ & $\\dots$ & $\\dots$ & $\\dots$ & $\\dots$ &  \\\\\n",
       "\\end{tabular}\n"
      ],
      "text/plain": [
       "1055×42 DataFrame. Omitted printing of 34 columns\n",
       "│ Row  │ 1       │ 2       │ 3     │ 4     │ 5     │ 6     │ 7     │ 8       │\n",
       "│      │ \u001b[90mFloat64\u001b[39m │ \u001b[90mFloat64\u001b[39m │ \u001b[90mInt64\u001b[39m │ \u001b[90mInt64\u001b[39m │ \u001b[90mInt64\u001b[39m │ \u001b[90mInt64\u001b[39m │ \u001b[90mInt64\u001b[39m │ \u001b[90mFloat64\u001b[39m │\n",
       "├──────┼─────────┼─────────┼───────┼───────┼───────┼───────┼───────┼─────────┤\n",
       "│ 1    │ 3.919   │ 2.6909  │ 0     │ 0     │ 0     │ 0     │ 0     │ 31.4    │\n",
       "│ 2    │ 4.17    │ 2.1144  │ 0     │ 0     │ 0     │ 0     │ 0     │ 30.8    │\n",
       "│ 3    │ 3.932   │ 3.2512  │ 0     │ 0     │ 0     │ 0     │ 0     │ 26.7    │\n",
       "│ 4    │ 3.0     │ 2.7098  │ 0     │ 0     │ 0     │ 0     │ 0     │ 20.0    │\n",
       "│ 5    │ 4.236   │ 3.3944  │ 0     │ 0     │ 0     │ 0     │ 0     │ 29.4    │\n",
       "│ 6    │ 4.236   │ 3.4286  │ 0     │ 0     │ 0     │ 0     │ 0     │ 28.6    │\n",
       "│ 7    │ 5.0     │ 5.0476  │ 1     │ 0     │ 0     │ 0     │ 0     │ 11.1    │\n",
       "│ 8    │ 4.525   │ 3.8301  │ 0     │ 0     │ 0     │ 0     │ 0     │ 31.6    │\n",
       "│ 9    │ 4.596   │ 3.0777  │ 0     │ 0     │ 0     │ 0     │ 2     │ 44.4    │\n",
       "│ 10   │ 5.04    │ 3.6112  │ 0     │ 0     │ 1     │ 0     │ 2     │ 41.2    │\n",
       "⋮\n",
       "│ 1045 │ 4.807   │ 3.3179  │ 1     │ 0     │ 0     │ 0     │ 3     │ 43.8    │\n",
       "│ 1046 │ 4.607   │ 3.0008  │ 1     │ 0     │ 0     │ 0     │ 2     │ 41.2    │\n",
       "│ 1047 │ 5.313   │ 2.7782  │ 0     │ 0     │ 0     │ 1     │ 2     │ 40.0    │\n",
       "│ 1048 │ 5.103   │ 3.9184  │ 0     │ 0     │ 4     │ 0     │ 4     │ 35.0    │\n",
       "│ 1049 │ 5.265   │ 3.3444  │ 2     │ 0     │ 6     │ 0     │ 1     │ 35.3    │\n",
       "│ 1050 │ 5.029   │ 2.5966  │ 0     │ 0     │ 0     │ 0     │ 4     │ 46.7    │\n",
       "│ 1051 │ 5.431   │ 2.8955  │ 0     │ 0     │ 0     │ 2     │ 0     │ 32.1    │\n",
       "│ 1052 │ 5.287   │ 3.3732  │ 0     │ 0     │ 9     │ 0     │ 0     │ 35.3    │\n",
       "│ 1053 │ 4.869   │ 1.767   │ 0     │ 1     │ 9     │ 0     │ 5     │ 44.4    │\n",
       "│ 1054 │ 5.158   │ 1.6914  │ 2     │ 0     │ 36    │ 0     │ 9     │ 56.1    │\n",
       "│ 1055 │ 5.076   │ 2.6588  │ 2     │ 0     │ 0     │ 0     │ 4     │ 54.5    │"
      ]
     },
     "execution_count": 2,
     "metadata": {},
     "output_type": "execute_result"
    }
   ],
   "source": [
    "data = CSV.read(\"data.csv\")"
   ]
  },
  {
   "cell_type": "markdown",
   "metadata": {},
   "source": [
    "Look at class labels to see if dataset is imbalanced"
   ]
  },
  {
   "cell_type": "code",
   "execution_count": 3,
   "metadata": {},
   "outputs": [
    {
     "data": {
      "text/plain": [
       "Dict{String,Int64} with 2 entries:\n",
       "  \"RB\"  => 356\n",
       "  \"NRB\" => 699"
      ]
     },
     "execution_count": 3,
     "metadata": {},
     "output_type": "execute_result"
    }
   ],
   "source": [
    "label_counts = countmap(data[:Class])"
   ]
  },
  {
   "cell_type": "code",
   "execution_count": 4,
   "metadata": {},
   "outputs": [
    {
     "data": {
      "text/plain": [
       "2-element Array{Float64,1}:\n",
       " 0.33744075829383885\n",
       " 0.6625592417061611"
      ]
     },
     "execution_count": 4,
     "metadata": {},
     "output_type": "execute_result"
    }
   ],
   "source": [
    "collect(label_counts[i] / size(data)[1] for i in keys(label_counts))"
   ]
  },
  {
   "cell_type": "markdown",
   "metadata": {},
   "source": [
    "Get data ready for training"
   ]
  },
  {
   "cell_type": "code",
   "execution_count": 5,
   "metadata": {
    "scrolled": true
   },
   "outputs": [
    {
     "data": {
      "text/html": [
       "<table class=\"data-frame\"><thead><tr><th></th><th>variable</th><th>mean</th><th>min</th><th>median</th><th>max</th><th>nunique</th><th>nmissing</th><th>eltype</th></tr><tr><th></th><th>Symbol</th><th>Union…</th><th>Any</th><th>Union…</th><th>Any</th><th>Union…</th><th>Nothing</th><th>DataType</th></tr></thead><tbody><p>42 rows × 8 columns</p><tr><th>1</th><td>1</td><td>4.78264</td><td>2.0</td><td>4.828</td><td>6.496</td><td></td><td></td><td>Float64</td></tr><tr><th>2</th><td>2</td><td>3.06951</td><td>0.8039</td><td>3.0463</td><td>9.1775</td><td></td><td></td><td>Float64</td></tr><tr><th>3</th><td>3</td><td>0.716588</td><td>0</td><td>0.0</td><td>12</td><td></td><td></td><td>Int64</td></tr><tr><th>4</th><td>4</td><td>0.042654</td><td>0</td><td>0.0</td><td>3</td><td></td><td></td><td>Int64</td></tr><tr><th>5</th><td>5</td><td>0.980095</td><td>0</td><td>0.0</td><td>36</td><td></td><td></td><td>Int64</td></tr><tr><th>6</th><td>6</td><td>0.290047</td><td>0</td><td>0.0</td><td>13</td><td></td><td></td><td>Int64</td></tr><tr><th>7</th><td>7</td><td>1.64645</td><td>0</td><td>1.0</td><td>18</td><td></td><td></td><td>Int64</td></tr><tr><th>8</th><td>8</td><td>37.0556</td><td>0.0</td><td>37.5</td><td>60.7</td><td></td><td></td><td>Float64</td></tr><tr><th>9</th><td>9</td><td>1.3763</td><td>0</td><td>1.0</td><td>24</td><td></td><td></td><td>Int64</td></tr><tr><th>10</th><td>10</td><td>1.80379</td><td>0</td><td>2.0</td><td>12</td><td></td><td></td><td>Int64</td></tr><tr><th>11</th><td>11</td><td>1.43697</td><td>0</td><td>0.0</td><td>44</td><td></td><td></td><td>Int64</td></tr><tr><th>12</th><td>12</td><td>-0.197129</td><td>-5.256</td><td>0.0</td><td>4.722</td><td></td><td></td><td>Float64</td></tr><tr><th>13</th><td>13</td><td>3.47684</td><td>1.544</td><td>3.442</td><td>5.701</td><td></td><td></td><td>Float64</td></tr><tr><th>14</th><td>14</td><td>1.35072</td><td>0.0</td><td>1.187</td><td>4.491</td><td></td><td></td><td>Float64</td></tr><tr><th>15</th><td>15</td><td>9.93738</td><td>4.174</td><td>10.039</td><td>12.609</td><td></td><td></td><td>Float64</td></tr><tr><th>16</th><td>16</td><td>3.63033</td><td>0</td><td>2.0</td><td>40</td><td></td><td></td><td>Int64</td></tr><tr><th>17</th><td>17</td><td>1.0133</td><td>0.957</td><td>1.003</td><td>1.311</td><td></td><td></td><td>Float64</td></tr><tr><th>18</th><td>18</td><td>1.13111</td><td>1.022</td><td>1.13</td><td>1.377</td><td></td><td></td><td>Float64</td></tr><tr><th>19</th><td>19</td><td>0.00853081</td><td>0</td><td>0.0</td><td>2</td><td></td><td></td><td>Int64</td></tr><tr><th>20</th><td>20</td><td>0.0739336</td><td>0</td><td>0.0</td><td>3</td><td></td><td></td><td>Int64</td></tr><tr><th>21</th><td>21</td><td>0.0293839</td><td>0</td><td>0.0</td><td>3</td><td></td><td></td><td>Int64</td></tr><tr><th>22</th><td>22</td><td>1.23873</td><td>0.863</td><td>1.243</td><td>1.641</td><td></td><td></td><td>Float64</td></tr><tr><th>23</th><td>23</td><td>1.40569</td><td>0</td><td>1.0</td><td>147</td><td></td><td></td><td>Int64</td></tr><tr><th>24</th><td>24</td><td>0.0398104</td><td>0</td><td>0.0</td><td>1</td><td></td><td></td><td>Int64</td></tr><tr><th>25</th><td>25</td><td>0.147867</td><td>0</td><td>0.0</td><td>1</td><td></td><td></td><td>Int64</td></tr><tr><th>26</th><td>26</td><td>0.0312796</td><td>0</td><td>0.0</td><td>3</td><td></td><td></td><td>Int64</td></tr><tr><th>27</th><td>27</td><td>2.21564</td><td>1.0</td><td>2.247</td><td>2.859</td><td></td><td></td><td>Float64</td></tr><tr><th>28</th><td>28</td><td>-0.00120569</td><td>-1.099</td><td>0.0</td><td>1.073</td><td></td><td></td><td>Float64</td></tr><tr><th>29</th><td>29</td><td>0.0265403</td><td>0</td><td>0.0</td><td>1</td><td></td><td></td><td>Int64</td></tr><tr><th>30</th><td>30</td><td>8.78051</td><td>0.0</td><td>0.0</td><td>71.167</td><td></td><td></td><td>Float64</td></tr><tr><th>&vellip;</th><td>&vellip;</td><td>&vellip;</td><td>&vellip;</td><td>&vellip;</td><td>&vellip;</td><td>&vellip;</td><td>&vellip;</td><td>&vellip;</td></tr></tbody></table>"
      ],
      "text/latex": [
       "\\begin{tabular}{r|cccccccc}\n",
       "\t& variable & mean & min & median & max & nunique & nmissing & eltype\\\\\n",
       "\t\\hline\n",
       "\t& Symbol & Union… & Any & Union… & Any & Union… & Nothing & DataType\\\\\n",
       "\t\\hline\n",
       "\t1 & 1 & 4.78264 & 2.0 & 4.828 & 6.496 &  &  & Float64 \\\\\n",
       "\t2 & 2 & 3.06951 & 0.8039 & 3.0463 & 9.1775 &  &  & Float64 \\\\\n",
       "\t3 & 3 & 0.716588 & 0 & 0.0 & 12 &  &  & Int64 \\\\\n",
       "\t4 & 4 & 0.042654 & 0 & 0.0 & 3 &  &  & Int64 \\\\\n",
       "\t5 & 5 & 0.980095 & 0 & 0.0 & 36 &  &  & Int64 \\\\\n",
       "\t6 & 6 & 0.290047 & 0 & 0.0 & 13 &  &  & Int64 \\\\\n",
       "\t7 & 7 & 1.64645 & 0 & 1.0 & 18 &  &  & Int64 \\\\\n",
       "\t8 & 8 & 37.0556 & 0.0 & 37.5 & 60.7 &  &  & Float64 \\\\\n",
       "\t9 & 9 & 1.3763 & 0 & 1.0 & 24 &  &  & Int64 \\\\\n",
       "\t10 & 10 & 1.80379 & 0 & 2.0 & 12 &  &  & Int64 \\\\\n",
       "\t11 & 11 & 1.43697 & 0 & 0.0 & 44 &  &  & Int64 \\\\\n",
       "\t12 & 12 & -0.197129 & -5.256 & 0.0 & 4.722 &  &  & Float64 \\\\\n",
       "\t13 & 13 & 3.47684 & 1.544 & 3.442 & 5.701 &  &  & Float64 \\\\\n",
       "\t14 & 14 & 1.35072 & 0.0 & 1.187 & 4.491 &  &  & Float64 \\\\\n",
       "\t15 & 15 & 9.93738 & 4.174 & 10.039 & 12.609 &  &  & Float64 \\\\\n",
       "\t16 & 16 & 3.63033 & 0 & 2.0 & 40 &  &  & Int64 \\\\\n",
       "\t17 & 17 & 1.0133 & 0.957 & 1.003 & 1.311 &  &  & Float64 \\\\\n",
       "\t18 & 18 & 1.13111 & 1.022 & 1.13 & 1.377 &  &  & Float64 \\\\\n",
       "\t19 & 19 & 0.00853081 & 0 & 0.0 & 2 &  &  & Int64 \\\\\n",
       "\t20 & 20 & 0.0739336 & 0 & 0.0 & 3 &  &  & Int64 \\\\\n",
       "\t21 & 21 & 0.0293839 & 0 & 0.0 & 3 &  &  & Int64 \\\\\n",
       "\t22 & 22 & 1.23873 & 0.863 & 1.243 & 1.641 &  &  & Float64 \\\\\n",
       "\t23 & 23 & 1.40569 & 0 & 1.0 & 147 &  &  & Int64 \\\\\n",
       "\t24 & 24 & 0.0398104 & 0 & 0.0 & 1 &  &  & Int64 \\\\\n",
       "\t25 & 25 & 0.147867 & 0 & 0.0 & 1 &  &  & Int64 \\\\\n",
       "\t26 & 26 & 0.0312796 & 0 & 0.0 & 3 &  &  & Int64 \\\\\n",
       "\t27 & 27 & 2.21564 & 1.0 & 2.247 & 2.859 &  &  & Float64 \\\\\n",
       "\t28 & 28 & -0.00120569 & -1.099 & 0.0 & 1.073 &  &  & Float64 \\\\\n",
       "\t29 & 29 & 0.0265403 & 0 & 0.0 & 1 &  &  & Int64 \\\\\n",
       "\t30 & 30 & 8.78051 & 0.0 & 0.0 & 71.167 &  &  & Float64 \\\\\n",
       "\t$\\dots$ & $\\dots$ & $\\dots$ & $\\dots$ & $\\dots$ & $\\dots$ & $\\dots$ & $\\dots$ & $\\dots$ \\\\\n",
       "\\end{tabular}\n"
      ],
      "text/plain": [
       "42×8 DataFrame. Omitted printing of 1 columns\n",
       "│ Row │ variable │ mean      │ min    │ median │ max    │ nunique │ nmissing │\n",
       "│     │ \u001b[90mSymbol\u001b[39m   │ \u001b[90mUnion…\u001b[39m    │ \u001b[90mAny\u001b[39m    │ \u001b[90mUnion…\u001b[39m │ \u001b[90mAny\u001b[39m    │ \u001b[90mUnion…\u001b[39m  │ \u001b[90mNothing\u001b[39m  │\n",
       "├─────┼──────────┼───────────┼────────┼────────┼────────┼─────────┼──────────┤\n",
       "│ 1   │ 1        │ 4.78264   │ 2.0    │ 4.828  │ 6.496  │         │          │\n",
       "│ 2   │ 2        │ 3.06951   │ 0.8039 │ 3.0463 │ 9.1775 │         │          │\n",
       "│ 3   │ 3        │ 0.716588  │ 0      │ 0.0    │ 12     │         │          │\n",
       "│ 4   │ 4        │ 0.042654  │ 0      │ 0.0    │ 3      │         │          │\n",
       "│ 5   │ 5        │ 0.980095  │ 0      │ 0.0    │ 36     │         │          │\n",
       "│ 6   │ 6        │ 0.290047  │ 0      │ 0.0    │ 13     │         │          │\n",
       "│ 7   │ 7        │ 1.64645   │ 0      │ 1.0    │ 18     │         │          │\n",
       "│ 8   │ 8        │ 37.0556   │ 0.0    │ 37.5   │ 60.7   │         │          │\n",
       "│ 9   │ 9        │ 1.3763    │ 0      │ 1.0    │ 24     │         │          │\n",
       "│ 10  │ 10       │ 1.80379   │ 0      │ 2.0    │ 12     │         │          │\n",
       "⋮\n",
       "│ 32  │ 32       │ 0.129858  │ 0      │ 0.0    │ 8      │         │          │\n",
       "│ 33  │ 33       │ 0.883412  │ 0      │ 0.0    │ 12     │         │          │\n",
       "│ 34  │ 34       │ 1.27488   │ 0      │ 0.0    │ 18     │         │          │\n",
       "│ 35  │ 35       │ 0.961137  │ 0      │ 1.0    │ 7      │         │          │\n",
       "│ 36  │ 36       │ 3.91824   │ 2.267  │ 3.726  │ 10.695 │         │          │\n",
       "│ 37  │ 37       │ 2.55842   │ 1.467  │ 2.458  │ 5.825  │         │          │\n",
       "│ 38  │ 38       │ 0.686256  │ 0      │ 0.0    │ 8      │         │          │\n",
       "│ 39  │ 39       │ 8.62949   │ 4.917  │ 8.499  │ 14.7   │         │          │\n",
       "│ 40  │ 40       │ 0.0511848 │ 0      │ 0.0    │ 4      │         │          │\n",
       "│ 41  │ 41       │ 0.723223  │ 0      │ 0.0    │ 27     │         │          │\n",
       "│ 42  │ Class    │           │ NRB    │        │ RB     │ 2       │          │"
      ]
     },
     "execution_count": 5,
     "metadata": {},
     "output_type": "execute_result"
    }
   ],
   "source": [
    "describe(data)"
   ]
  },
  {
   "cell_type": "code",
   "execution_count": 6,
   "metadata": {
    "scrolled": true
   },
   "outputs": [
    {
     "data": {
      "text/plain": [
       "┌\u001b[0m─────────\u001b[0m┬\u001b[0m─────────────────────────────────\u001b[0m┬\u001b[0m───────────────\u001b[0m┐\u001b[0m\n",
       "│\u001b[0m\u001b[22m _.names \u001b[0m│\u001b[0m\u001b[22m _.types                         \u001b[0m│\u001b[0m\u001b[22m _.scitypes    \u001b[0m│\u001b[0m\n",
       "├\u001b[0m─────────\u001b[0m┼\u001b[0m─────────────────────────────────\u001b[0m┼\u001b[0m───────────────\u001b[0m┤\u001b[0m\n",
       "│\u001b[0m 1       \u001b[0m│\u001b[0m Float64                         \u001b[0m│\u001b[0m Continuous    \u001b[0m│\u001b[0m\n",
       "│\u001b[0m 2       \u001b[0m│\u001b[0m Float64                         \u001b[0m│\u001b[0m Continuous    \u001b[0m│\u001b[0m\n",
       "│\u001b[0m 3       \u001b[0m│\u001b[0m Int64                           \u001b[0m│\u001b[0m Count         \u001b[0m│\u001b[0m\n",
       "│\u001b[0m 4       \u001b[0m│\u001b[0m Int64                           \u001b[0m│\u001b[0m Count         \u001b[0m│\u001b[0m\n",
       "│\u001b[0m 5       \u001b[0m│\u001b[0m Int64                           \u001b[0m│\u001b[0m Count         \u001b[0m│\u001b[0m\n",
       "│\u001b[0m 6       \u001b[0m│\u001b[0m Int64                           \u001b[0m│\u001b[0m Count         \u001b[0m│\u001b[0m\n",
       "│\u001b[0m 7       \u001b[0m│\u001b[0m Int64                           \u001b[0m│\u001b[0m Count         \u001b[0m│\u001b[0m\n",
       "│\u001b[0m 8       \u001b[0m│\u001b[0m Float64                         \u001b[0m│\u001b[0m Continuous    \u001b[0m│\u001b[0m\n",
       "│\u001b[0m 9       \u001b[0m│\u001b[0m Int64                           \u001b[0m│\u001b[0m Count         \u001b[0m│\u001b[0m\n",
       "│\u001b[0m 10      \u001b[0m│\u001b[0m Int64                           \u001b[0m│\u001b[0m Count         \u001b[0m│\u001b[0m\n",
       "│\u001b[0m 11      \u001b[0m│\u001b[0m Int64                           \u001b[0m│\u001b[0m Count         \u001b[0m│\u001b[0m\n",
       "│\u001b[0m 12      \u001b[0m│\u001b[0m Float64                         \u001b[0m│\u001b[0m Continuous    \u001b[0m│\u001b[0m\n",
       "│\u001b[0m 13      \u001b[0m│\u001b[0m Float64                         \u001b[0m│\u001b[0m Continuous    \u001b[0m│\u001b[0m\n",
       "│\u001b[0m 14      \u001b[0m│\u001b[0m Float64                         \u001b[0m│\u001b[0m Continuous    \u001b[0m│\u001b[0m\n",
       "│\u001b[0m 15      \u001b[0m│\u001b[0m Float64                         \u001b[0m│\u001b[0m Continuous    \u001b[0m│\u001b[0m\n",
       "│\u001b[0m 16      \u001b[0m│\u001b[0m Int64                           \u001b[0m│\u001b[0m Count         \u001b[0m│\u001b[0m\n",
       "│\u001b[0m 17      \u001b[0m│\u001b[0m Float64                         \u001b[0m│\u001b[0m Continuous    \u001b[0m│\u001b[0m\n",
       "│\u001b[0m 18      \u001b[0m│\u001b[0m Float64                         \u001b[0m│\u001b[0m Continuous    \u001b[0m│\u001b[0m\n",
       "│\u001b[0m 19      \u001b[0m│\u001b[0m Int64                           \u001b[0m│\u001b[0m Count         \u001b[0m│\u001b[0m\n",
       "│\u001b[0m 20      \u001b[0m│\u001b[0m Int64                           \u001b[0m│\u001b[0m Count         \u001b[0m│\u001b[0m\n",
       "│\u001b[0m 21      \u001b[0m│\u001b[0m Int64                           \u001b[0m│\u001b[0m Count         \u001b[0m│\u001b[0m\n",
       "│\u001b[0m 22      \u001b[0m│\u001b[0m Float64                         \u001b[0m│\u001b[0m Continuous    \u001b[0m│\u001b[0m\n",
       "│\u001b[0m 23      \u001b[0m│\u001b[0m Int64                           \u001b[0m│\u001b[0m Count         \u001b[0m│\u001b[0m\n",
       "│\u001b[0m 24      \u001b[0m│\u001b[0m Int64                           \u001b[0m│\u001b[0m Count         \u001b[0m│\u001b[0m\n",
       "│\u001b[0m 25      \u001b[0m│\u001b[0m Int64                           \u001b[0m│\u001b[0m Count         \u001b[0m│\u001b[0m\n",
       "│\u001b[0m 26      \u001b[0m│\u001b[0m Int64                           \u001b[0m│\u001b[0m Count         \u001b[0m│\u001b[0m\n",
       "│\u001b[0m 27      \u001b[0m│\u001b[0m Float64                         \u001b[0m│\u001b[0m Continuous    \u001b[0m│\u001b[0m\n",
       "│\u001b[0m 28      \u001b[0m│\u001b[0m Float64                         \u001b[0m│\u001b[0m Continuous    \u001b[0m│\u001b[0m\n",
       "│\u001b[0m 29      \u001b[0m│\u001b[0m Int64                           \u001b[0m│\u001b[0m Count         \u001b[0m│\u001b[0m\n",
       "│\u001b[0m 30      \u001b[0m│\u001b[0m Float64                         \u001b[0m│\u001b[0m Continuous    \u001b[0m│\u001b[0m\n",
       "│\u001b[0m 31      \u001b[0m│\u001b[0m Float64                         \u001b[0m│\u001b[0m Continuous    \u001b[0m│\u001b[0m\n",
       "│\u001b[0m 32      \u001b[0m│\u001b[0m Int64                           \u001b[0m│\u001b[0m Count         \u001b[0m│\u001b[0m\n",
       "│\u001b[0m 33      \u001b[0m│\u001b[0m Int64                           \u001b[0m│\u001b[0m Count         \u001b[0m│\u001b[0m\n",
       "│\u001b[0m 34      \u001b[0m│\u001b[0m Int64                           \u001b[0m│\u001b[0m Count         \u001b[0m│\u001b[0m\n",
       "│\u001b[0m 35      \u001b[0m│\u001b[0m Int64                           \u001b[0m│\u001b[0m Count         \u001b[0m│\u001b[0m\n",
       "│\u001b[0m 36      \u001b[0m│\u001b[0m Float64                         \u001b[0m│\u001b[0m Continuous    \u001b[0m│\u001b[0m\n",
       "│\u001b[0m 37      \u001b[0m│\u001b[0m Float64                         \u001b[0m│\u001b[0m Continuous    \u001b[0m│\u001b[0m\n",
       "│\u001b[0m 38      \u001b[0m│\u001b[0m Int64                           \u001b[0m│\u001b[0m Count         \u001b[0m│\u001b[0m\n",
       "│\u001b[0m 39      \u001b[0m│\u001b[0m Float64                         \u001b[0m│\u001b[0m Continuous    \u001b[0m│\u001b[0m\n",
       "│\u001b[0m 40      \u001b[0m│\u001b[0m Int64                           \u001b[0m│\u001b[0m Count         \u001b[0m│\u001b[0m\n",
       "│\u001b[0m 41      \u001b[0m│\u001b[0m Int64                           \u001b[0m│\u001b[0m Count         \u001b[0m│\u001b[0m\n",
       "│\u001b[0m Class   \u001b[0m│\u001b[0m CategoricalValue{String,UInt32} \u001b[0m│\u001b[0m Multiclass{2} \u001b[0m│\u001b[0m\n",
       "└\u001b[0m─────────\u001b[0m┴\u001b[0m─────────────────────────────────\u001b[0m┴\u001b[0m───────────────\u001b[0m┘\u001b[0m\n",
       "_.nrows = 1055\n"
      ]
     },
     "execution_count": 6,
     "metadata": {},
     "output_type": "execute_result"
    }
   ],
   "source": [
    "coerce!(data, :Class=>Multiclass)\n",
    "schema(data)"
   ]
  },
  {
   "cell_type": "code",
   "execution_count": 7,
   "metadata": {
    "scrolled": true
   },
   "outputs": [
    {
     "data": {
      "text/plain": [
       "(CategoricalValue{String,UInt32}[\"RB\", \"RB\", \"RB\", \"RB\", \"RB\", \"RB\", \"RB\", \"RB\", \"RB\", \"RB\"  …  \"NRB\", \"NRB\", \"NRB\", \"NRB\", \"NRB\", \"NRB\", \"NRB\", \"NRB\", \"NRB\", \"NRB\"], 1055×41 DataFrame. Omitted printing of 33 columns\n",
       "│ Row  │ 1       │ 2       │ 3     │ 4     │ 5     │ 6     │ 7     │ 8       │\n",
       "│      │ \u001b[90mFloat64\u001b[39m │ \u001b[90mFloat64\u001b[39m │ \u001b[90mInt64\u001b[39m │ \u001b[90mInt64\u001b[39m │ \u001b[90mInt64\u001b[39m │ \u001b[90mInt64\u001b[39m │ \u001b[90mInt64\u001b[39m │ \u001b[90mFloat64\u001b[39m │\n",
       "├──────┼─────────┼─────────┼───────┼───────┼───────┼───────┼───────┼─────────┤\n",
       "│ 1    │ 3.919   │ 2.6909  │ 0     │ 0     │ 0     │ 0     │ 0     │ 31.4    │\n",
       "│ 2    │ 4.17    │ 2.1144  │ 0     │ 0     │ 0     │ 0     │ 0     │ 30.8    │\n",
       "│ 3    │ 3.932   │ 3.2512  │ 0     │ 0     │ 0     │ 0     │ 0     │ 26.7    │\n",
       "│ 4    │ 3.0     │ 2.7098  │ 0     │ 0     │ 0     │ 0     │ 0     │ 20.0    │\n",
       "│ 5    │ 4.236   │ 3.3944  │ 0     │ 0     │ 0     │ 0     │ 0     │ 29.4    │\n",
       "│ 6    │ 4.236   │ 3.4286  │ 0     │ 0     │ 0     │ 0     │ 0     │ 28.6    │\n",
       "│ 7    │ 5.0     │ 5.0476  │ 1     │ 0     │ 0     │ 0     │ 0     │ 11.1    │\n",
       "│ 8    │ 4.525   │ 3.8301  │ 0     │ 0     │ 0     │ 0     │ 0     │ 31.6    │\n",
       "│ 9    │ 4.596   │ 3.0777  │ 0     │ 0     │ 0     │ 0     │ 2     │ 44.4    │\n",
       "│ 10   │ 5.04    │ 3.6112  │ 0     │ 0     │ 1     │ 0     │ 2     │ 41.2    │\n",
       "⋮\n",
       "│ 1045 │ 4.807   │ 3.3179  │ 1     │ 0     │ 0     │ 0     │ 3     │ 43.8    │\n",
       "│ 1046 │ 4.607   │ 3.0008  │ 1     │ 0     │ 0     │ 0     │ 2     │ 41.2    │\n",
       "│ 1047 │ 5.313   │ 2.7782  │ 0     │ 0     │ 0     │ 1     │ 2     │ 40.0    │\n",
       "│ 1048 │ 5.103   │ 3.9184  │ 0     │ 0     │ 4     │ 0     │ 4     │ 35.0    │\n",
       "│ 1049 │ 5.265   │ 3.3444  │ 2     │ 0     │ 6     │ 0     │ 1     │ 35.3    │\n",
       "│ 1050 │ 5.029   │ 2.5966  │ 0     │ 0     │ 0     │ 0     │ 4     │ 46.7    │\n",
       "│ 1051 │ 5.431   │ 2.8955  │ 0     │ 0     │ 0     │ 2     │ 0     │ 32.1    │\n",
       "│ 1052 │ 5.287   │ 3.3732  │ 0     │ 0     │ 9     │ 0     │ 0     │ 35.3    │\n",
       "│ 1053 │ 4.869   │ 1.767   │ 0     │ 1     │ 9     │ 0     │ 5     │ 44.4    │\n",
       "│ 1054 │ 5.158   │ 1.6914  │ 2     │ 0     │ 36    │ 0     │ 9     │ 56.1    │\n",
       "│ 1055 │ 5.076   │ 2.6588  │ 2     │ 0     │ 0     │ 0     │ 4     │ 54.5    │)"
      ]
     },
     "execution_count": 7,
     "metadata": {},
     "output_type": "execute_result"
    }
   ],
   "source": [
    "y, X = unpack(data, ==(:Class), colname->true)"
   ]
  },
  {
   "cell_type": "markdown",
   "metadata": {},
   "source": [
    "Partition train and test data accoring to class labels"
   ]
  },
  {
   "cell_type": "code",
   "execution_count": 8,
   "metadata": {},
   "outputs": [
    {
     "data": {
      "text/plain": [
       "([465, 562, 278, 619, 161, 972, 782, 321, 537, 760  …  12, 913, 471, 13, 1006, 802, 112, 840, 744, 261], [196, 586, 245, 77, 1028, 432, 215, 987, 137, 411  …  975, 610, 886, 848, 731, 1024, 805, 500, 659, 415])"
      ]
     },
     "execution_count": 8,
     "metadata": {},
     "output_type": "execute_result"
    }
   ],
   "source": [
    "# data to use when trying to fit a single validation set\n",
    "train, test = partition(eachindex(y), 0.7, shuffle=true, rng=123, stratify=values(data[:Class])) # gives 70:30 split"
   ]
  },
  {
   "cell_type": "code",
   "execution_count": 9,
   "metadata": {},
   "outputs": [
    {
     "data": {
      "text/plain": [
       "2-element Array{Float64,1}:\n",
       " 0.33739837398373984\n",
       " 0.6626016260162602"
      ]
     },
     "execution_count": 9,
     "metadata": {},
     "output_type": "execute_result"
    }
   ],
   "source": [
    "train_counts = countmap(data[train,:Class])\n",
    "collect(train_counts[i] / size(train)[1] for i in keys(train_counts))"
   ]
  },
  {
   "cell_type": "code",
   "execution_count": 10,
   "metadata": {},
   "outputs": [
    {
     "data": {
      "text/plain": [
       "2-element Array{Float64,1}:\n",
       " 0.33753943217665616\n",
       " 0.6624605678233438"
      ]
     },
     "execution_count": 10,
     "metadata": {},
     "output_type": "execute_result"
    }
   ],
   "source": [
    "test_counts = countmap(data[test,:Class])\n",
    "collect(test_counts[i] / size(test)[1] for i in keys(test_counts))"
   ]
  },
  {
   "cell_type": "code",
   "execution_count": 11,
   "metadata": {},
   "outputs": [
    {
     "name": "stderr",
     "output_type": "stream",
     "text": [
      "┌ Info: Training \u001b[34mMachine{Standardizer} @005\u001b[39m.\n",
      "└ @ MLJBase /home/andrew/.julia/packages/MLJBase/uKzAz/src/machines.jl:319\n"
     ]
    }
   ],
   "source": [
    "standardizer = Standardizer()\n",
    "stand = machine(standardizer, X[train,:]) #only want to standardize on training distribution\n",
    "fit!(stand)\n",
    "X_stand = MLJ.transform(stand, X);"
   ]
  },
  {
   "cell_type": "markdown",
   "metadata": {},
   "source": [
    "# Five Learning Algorithms\n",
    "\n",
    "* Decision trees with some form of pruning\n",
    "* Neural networks\n",
    "* Boosting\n",
    "* Support Vector Machines\n",
    "* k-nearest neighbors\n",
    "\n",
    "\n",
    "##### Testing\n",
    "* Implement the algorithms\n",
    "* Design two *interesting* classification problems. For the purposes of this assignment, a classification problem is just a set of training examples and a set of test examples."
   ]
  },
  {
   "cell_type": "code",
   "execution_count": 12,
   "metadata": {
    "scrolled": true
   },
   "outputs": [
    {
     "data": {
      "text/plain": [
       "6-element Array{NamedTuple{(:name, :package_name, :is_supervised, :docstring, :hyperparameter_ranges, :hyperparameter_types, :hyperparameters, :implemented_methods, :is_pure_julia, :is_wrapper, :load_path, :package_license, :package_url, :package_uuid, :prediction_type, :supports_online, :supports_weights, :input_scitype, :target_scitype, :output_scitype),T} where T<:Tuple,1}:\n",
       " (name = AdaBoostStumpClassifier, package_name = DecisionTree, ... )\n",
       " (name = ConstantClassifier, package_name = MLJModels, ... )\n",
       " (name = DecisionTreeClassifier, package_name = DecisionTree, ... )\n",
       " (name = DeterministicConstantClassifier, package_name = MLJModels, ... )\n",
       " (name = RandomForestClassifier, package_name = DecisionTree, ... )\n",
       " (name = RandomForestClassifier, package_name = ScikitLearn, ... )"
      ]
     },
     "execution_count": 12,
     "metadata": {},
     "output_type": "execute_result"
    }
   ],
   "source": [
    "models(matching(X,y))"
   ]
  },
  {
   "cell_type": "code",
   "execution_count": 13,
   "metadata": {},
   "outputs": [
    {
     "data": {
      "text/plain": [
       "KNNClassifier(\n",
       "    K = 5,\n",
       "    algorithm = :kdtree,\n",
       "    metric = Euclidean(0.0),\n",
       "    leafsize = 10,\n",
       "    reorder = true,\n",
       "    weights = :uniform)\u001b[34m @220\u001b[39m"
      ]
     },
     "execution_count": 13,
     "metadata": {},
     "output_type": "execute_result"
    }
   ],
   "source": [
    "@load KNNClassifier"
   ]
  },
  {
   "cell_type": "markdown",
   "metadata": {},
   "source": [
    "## K Nearest Neighbors\n",
    "* Use different values of k.\n",
    "\n",
    "1. https://alan-turing-institute.github.io/MLJ.jl/dev/composing_models/\n",
    "1. https://github.com/KristofferC/NearestNeighbors.jl"
   ]
  },
  {
   "cell_type": "markdown",
   "metadata": {},
   "source": [
    "#### No Pre-Processing"
   ]
  },
  {
   "cell_type": "code",
   "execution_count": 14,
   "metadata": {},
   "outputs": [
    {
     "data": {
      "text/plain": [
       "KNNClassifier(\n",
       "    K = 5,\n",
       "    algorithm = :kdtree,\n",
       "    metric = Euclidean(0.0),\n",
       "    leafsize = 10,\n",
       "    reorder = true,\n",
       "    weights = :uniform)\u001b[34m @619\u001b[39m"
      ]
     },
     "execution_count": 14,
     "metadata": {},
     "output_type": "execute_result"
    }
   ],
   "source": [
    "knn = KNNClassifier(K=5)"
   ]
  },
  {
   "cell_type": "code",
   "execution_count": 15,
   "metadata": {},
   "outputs": [
    {
     "name": "stderr",
     "output_type": "stream",
     "text": [
      "┌ Warning: The scitype of `X`, in `machine(model, X, ...)` is incompatible with `model=\u001b[34mKNNClassifier @619\u001b[39m`:\n",
      "│ scitype(X) = Table{Union{AbstractArray{Continuous,1}, AbstractArray{Count,1}}}\n",
      "│ input_scitype(model) = Table{var\"#s44\"} where var\"#s44\"<:(AbstractArray{var\"#s13\",1} where var\"#s13\"<:Continuous).\n",
      "└ @ MLJBase /home/andrew/.julia/packages/MLJBase/uKzAz/src/machines.jl:77\n"
     ]
    },
    {
     "data": {
      "text/plain": [
       "\u001b[34mMachine{KNNClassifier} @137\u001b[39m trained 0 times.\n",
       "  args: \n",
       "    1:\t\u001b[34mSource @773\u001b[39m ⏎ `Table{Union{AbstractArray{Continuous,1}, AbstractArray{Count,1}}}`\n",
       "    2:\t\u001b[34mSource @251\u001b[39m ⏎ `AbstractArray{Multiclass{2},1}`\n"
      ]
     },
     "execution_count": 15,
     "metadata": {},
     "output_type": "execute_result"
    }
   ],
   "source": [
    "KNN = machine(knn, X, y)"
   ]
  },
  {
   "cell_type": "code",
   "execution_count": 16,
   "metadata": {},
   "outputs": [
    {
     "name": "stderr",
     "output_type": "stream",
     "text": [
      "┌ Info: Training \u001b[34mMachine{KNNClassifier} @137\u001b[39m.\n",
      "└ @ MLJBase /home/andrew/.julia/packages/MLJBase/uKzAz/src/machines.jl:319\n"
     ]
    },
    {
     "data": {
      "text/plain": [
       "\u001b[34mMachine{KNNClassifier} @137\u001b[39m trained 1 time.\n",
       "  args: \n",
       "    1:\t\u001b[34mSource @773\u001b[39m ⏎ `Table{Union{AbstractArray{Continuous,1}, AbstractArray{Count,1}}}`\n",
       "    2:\t\u001b[34mSource @251\u001b[39m ⏎ `AbstractArray{Multiclass{2},1}`\n"
      ]
     },
     "execution_count": 16,
     "metadata": {},
     "output_type": "execute_result"
    }
   ],
   "source": [
    "fit!(KNN, rows=train)"
   ]
  },
  {
   "cell_type": "code",
   "execution_count": 17,
   "metadata": {},
   "outputs": [
    {
     "name": "stderr",
     "output_type": "stream",
     "text": [
      "\u001b[33mEvaluating over 6 folds: 100%[=========================] Time: 0:00:04\u001b[39m\n"
     ]
    },
    {
     "data": {
      "text/plain": [
       "┌\u001b[0m───────────────\u001b[0m┬\u001b[0m───────────────\u001b[0m┬\u001b[0m──────────────────────────────────────────\u001b[0m┐\u001b[0m\n",
       "│\u001b[0m\u001b[22m _.measure     \u001b[0m│\u001b[0m\u001b[22m _.measurement \u001b[0m│\u001b[0m\u001b[22m _.per_fold                               \u001b[0m│\u001b[0m\n",
       "├\u001b[0m───────────────\u001b[0m┼\u001b[0m───────────────\u001b[0m┼\u001b[0m──────────────────────────────────────────\u001b[0m┤\u001b[0m\n",
       "│\u001b[0m cross_entropy \u001b[0m│\u001b[0m 1.72          \u001b[0m│\u001b[0m [1.49, 1.57, 0.68, 3.12, 2.37, 1.11]     \u001b[0m│\u001b[0m\n",
       "│\u001b[0m acc           \u001b[0m│\u001b[0m 0.812         \u001b[0m│\u001b[0m [0.852, 0.75, 0.869, 0.795, 0.79, 0.817] \u001b[0m│\u001b[0m\n",
       "└\u001b[0m───────────────\u001b[0m┴\u001b[0m───────────────\u001b[0m┴\u001b[0m──────────────────────────────────────────\u001b[0m┘\u001b[0m\n",
       "_.per_observation = [[[0.223, 0.511, ..., 0.916], [0.223, 0.916, ..., 0.916], [2.22e-16, 0.223, ..., 0.916], [2.22e-16, 0.916, ..., 2.22e-16], [0.916, 0.223, ..., 2.22e-16], [2.22e-16, 2.22e-16, ..., 0.223]], missing]\n",
       "_.fitted_params_per_fold = [ … ]\n",
       "_.report_per_fold = [ … ]\n"
      ]
     },
     "execution_count": 17,
     "metadata": {},
     "output_type": "execute_result"
    }
   ],
   "source": [
    "knn_acc = evaluate!(KNN, resampling=CV(shuffle=true), measure=[cross_entropy, acc], verbosity=1)"
   ]
  },
  {
   "cell_type": "code",
   "execution_count": 18,
   "metadata": {},
   "outputs": [
    {
     "data": {
      "text/plain": [
       "(tree = NearestNeighbors.KDTree{StaticArrays.SArray{Tuple{41},Float64,1,41},Euclidean,Float64}\n",
       "  Number of points: 880\n",
       "  Dimensions: 41\n",
       "  Metric: Euclidean(0.0)\n",
       "  Reordered: true,)"
      ]
     },
     "execution_count": 18,
     "metadata": {},
     "output_type": "execute_result"
    }
   ],
   "source": [
    "fitted_params(KNN)"
   ]
  },
  {
   "cell_type": "markdown",
   "metadata": {},
   "source": [
    "#### With Pre-Processing"
   ]
  },
  {
   "cell_type": "code",
   "execution_count": 19,
   "metadata": {},
   "outputs": [
    {
     "data": {
      "text/plain": [
       "KNNClassifier(\n",
       "    K = 5,\n",
       "    algorithm = :kdtree,\n",
       "    metric = Euclidean(0.0),\n",
       "    leafsize = 10,\n",
       "    reorder = true,\n",
       "    weights = :uniform)\u001b[34m @914\u001b[39m"
      ]
     },
     "execution_count": 19,
     "metadata": {},
     "output_type": "execute_result"
    }
   ],
   "source": [
    "knn = KNNClassifier(K=5)"
   ]
  },
  {
   "cell_type": "code",
   "execution_count": 20,
   "metadata": {},
   "outputs": [
    {
     "name": "stderr",
     "output_type": "stream",
     "text": [
      "┌ Warning: The scitype of `X`, in `machine(model, X, ...)` is incompatible with `model=\u001b[34mKNNClassifier @914\u001b[39m`:\n",
      "│ scitype(X) = Table{Union{AbstractArray{Continuous,1}, AbstractArray{Count,1}}}\n",
      "│ input_scitype(model) = Table{var\"#s44\"} where var\"#s44\"<:(AbstractArray{var\"#s13\",1} where var\"#s13\"<:Continuous).\n",
      "└ @ MLJBase /home/andrew/.julia/packages/MLJBase/uKzAz/src/machines.jl:77\n"
     ]
    },
    {
     "data": {
      "text/plain": [
       "\u001b[34mMachine{KNNClassifier} @349\u001b[39m trained 0 times.\n",
       "  args: \n",
       "    1:\t\u001b[34mSource @312\u001b[39m ⏎ `Table{Union{AbstractArray{Continuous,1}, AbstractArray{Count,1}}}`\n",
       "    2:\t\u001b[34mSource @246\u001b[39m ⏎ `AbstractArray{Multiclass{2},1}`\n"
      ]
     },
     "execution_count": 20,
     "metadata": {},
     "output_type": "execute_result"
    }
   ],
   "source": [
    "KNN = machine(knn, X_stand, y)"
   ]
  },
  {
   "cell_type": "code",
   "execution_count": 21,
   "metadata": {},
   "outputs": [
    {
     "name": "stderr",
     "output_type": "stream",
     "text": [
      "┌ Info: Training \u001b[34mMachine{KNNClassifier} @349\u001b[39m.\n",
      "└ @ MLJBase /home/andrew/.julia/packages/MLJBase/uKzAz/src/machines.jl:319\n"
     ]
    },
    {
     "data": {
      "text/plain": [
       "\u001b[34mMachine{KNNClassifier} @349\u001b[39m trained 1 time.\n",
       "  args: \n",
       "    1:\t\u001b[34mSource @312\u001b[39m ⏎ `Table{Union{AbstractArray{Continuous,1}, AbstractArray{Count,1}}}`\n",
       "    2:\t\u001b[34mSource @246\u001b[39m ⏎ `AbstractArray{Multiclass{2},1}`\n"
      ]
     },
     "execution_count": 21,
     "metadata": {},
     "output_type": "execute_result"
    }
   ],
   "source": [
    "fit!(KNN, rows=train)"
   ]
  },
  {
   "cell_type": "code",
   "execution_count": 22,
   "metadata": {},
   "outputs": [
    {
     "name": "stderr",
     "output_type": "stream",
     "text": [
      "\u001b[33mEvaluating over 6 folds: 100%[=========================] Time: 0:00:00\u001b[39m\n"
     ]
    },
    {
     "data": {
      "text/plain": [
       "┌\u001b[0m───────────────\u001b[0m┬\u001b[0m───────────────\u001b[0m┬\u001b[0m────────────────────────────────────────────\u001b[0m┐\u001b[0m\n",
       "│\u001b[0m\u001b[22m _.measure     \u001b[0m│\u001b[0m\u001b[22m _.measurement \u001b[0m│\u001b[0m\u001b[22m _.per_fold                                 \u001b[0m│\u001b[0m\n",
       "├\u001b[0m───────────────\u001b[0m┼\u001b[0m───────────────\u001b[0m┼\u001b[0m────────────────────────────────────────────\u001b[0m┤\u001b[0m\n",
       "│\u001b[0m cross_entropy \u001b[0m│\u001b[0m 1.47          \u001b[0m│\u001b[0m [1.1, 1.66, 1.29, 0.607, 1.66, 2.54]       \u001b[0m│\u001b[0m\n",
       "│\u001b[0m acc           \u001b[0m│\u001b[0m 0.856         \u001b[0m│\u001b[0m [0.852, 0.858, 0.864, 0.915, 0.835, 0.811] \u001b[0m│\u001b[0m\n",
       "└\u001b[0m───────────────\u001b[0m┴\u001b[0m───────────────\u001b[0m┴\u001b[0m────────────────────────────────────────────\u001b[0m┘\u001b[0m\n",
       "_.per_observation = [[[2.22e-16, 36.0, ..., 2.22e-16], [0.223, 0.916, ..., 0.916], [0.223, 0.916, ..., 0.223], [0.916, 2.22e-16, ..., 2.22e-16], [0.511, 2.22e-16, ..., 2.22e-16], [0.916, 0.223, ..., 0.223]], missing]\n",
       "_.fitted_params_per_fold = [ … ]\n",
       "_.report_per_fold = [ … ]\n"
      ]
     },
     "execution_count": 22,
     "metadata": {},
     "output_type": "execute_result"
    }
   ],
   "source": [
    "knn_acc = evaluate!(KNN, resampling=CV(shuffle=true), measure=[cross_entropy, acc], verbosity=1)"
   ]
  },
  {
   "cell_type": "code",
   "execution_count": 23,
   "metadata": {},
   "outputs": [],
   "source": [
    "# evaluate!(KNN, resampling=CV(shuffle=true), measure=[tnr,tpr,fnr,fpr], verbosity=1, operation=predict_mode)"
   ]
  },
  {
   "cell_type": "code",
   "execution_count": 24,
   "metadata": {},
   "outputs": [
    {
     "data": {
      "text/plain": [
       "(tree = NearestNeighbors.KDTree{StaticArrays.SArray{Tuple{41},Float64,1,41},Euclidean,Float64}\n",
       "  Number of points: 880\n",
       "  Dimensions: 41\n",
       "  Metric: Euclidean(0.0)\n",
       "  Reordered: true,)"
      ]
     },
     "execution_count": 24,
     "metadata": {},
     "output_type": "execute_result"
    }
   ],
   "source": [
    "fitted_params(KNN)"
   ]
  },
  {
   "cell_type": "markdown",
   "metadata": {},
   "source": [
    "### GridSearch / RandomSearch"
   ]
  },
  {
   "cell_type": "markdown",
   "metadata": {},
   "source": [
    "#### Euclidean"
   ]
  },
  {
   "cell_type": "code",
   "execution_count": 80,
   "metadata": {},
   "outputs": [
    {
     "data": {
      "text/plain": [
       "KNNClassifier(\n",
       "    K = 5,\n",
       "    algorithm = :kdtree,\n",
       "    metric = Euclidean(0.0),\n",
       "    leafsize = 10,\n",
       "    reorder = true,\n",
       "    weights = :uniform)\u001b[34m @788\u001b[39m"
      ]
     },
     "execution_count": 80,
     "metadata": {},
     "output_type": "execute_result"
    }
   ],
   "source": [
    "knn_grid = KNNClassifier()"
   ]
  },
  {
   "cell_type": "code",
   "execution_count": 81,
   "metadata": {},
   "outputs": [
    {
     "data": {
      "text/plain": [
       "MLJBase.NumericRange(Int64, :K, ... )"
      ]
     },
     "execution_count": 81,
     "metadata": {},
     "output_type": "execute_result"
    }
   ],
   "source": [
    "param1 = :K\n",
    "\n",
    "r1 = range(knn_grid, param1, lower=1, upper=15, scale=:linear)"
   ]
  },
  {
   "cell_type": "code",
   "execution_count": 82,
   "metadata": {},
   "outputs": [
    {
     "data": {
      "text/plain": [
       "ProbabilisticTunedModel(\n",
       "    model = KNNClassifier(\n",
       "            K = 5,\n",
       "            algorithm = :kdtree,\n",
       "            metric = Euclidean(0.0),\n",
       "            leafsize = 10,\n",
       "            reorder = true,\n",
       "            weights = :uniform),\n",
       "    tuning = Grid(\n",
       "            goal = 15,\n",
       "            resolution = 10,\n",
       "            shuffle = true,\n",
       "            rng = Random._GLOBAL_RNG()),\n",
       "    resampling = CV(\n",
       "            nfolds = 6,\n",
       "            shuffle = true,\n",
       "            rng = Random._GLOBAL_RNG()),\n",
       "    measure = accuracy(),\n",
       "    weights = nothing,\n",
       "    operation = MLJModelInterface.predict_mode,\n",
       "    range = MLJBase.NumericRange{Int64,MLJBase.Bounded,Symbol}[\u001b[34mNumericRange{Int64,…} @590\u001b[39m],\n",
       "    train_best = true,\n",
       "    repeats = 1,\n",
       "    n = nothing,\n",
       "    acceleration = CPUThreads{Int64}(1),\n",
       "    acceleration_resampling = CPU1{Nothing}(nothing),\n",
       "    check_measure = true)\u001b[34m @140\u001b[39m"
      ]
     },
     "execution_count": 82,
     "metadata": {},
     "output_type": "execute_result"
    }
   ],
   "source": [
    "self_tuning_knn_model = TunedModel(model=knn_grid,\n",
    "                                    tuning=Grid(goal=15),\n",
    "                                    resampling=CV(nfolds=6, shuffle=true), \n",
    "                                    measure=accuracy,\n",
    "                                    acceleration=CPUThreads(),\n",
    "                                    range=[r1],\n",
    "                                    operation=predict_mode)"
   ]
  },
  {
   "cell_type": "code",
   "execution_count": 83,
   "metadata": {},
   "outputs": [
    {
     "name": "stderr",
     "output_type": "stream",
     "text": [
      "┌ Warning: The scitype of `X`, in `machine(model, X, ...)` is incompatible with `model=\u001b[34mProbabilisticTunedModel{Grid,…} @140\u001b[39m`:\n",
      "│ scitype(X) = Table{Union{AbstractArray{Continuous,1}, AbstractArray{Count,1}}}\n",
      "│ input_scitype(model) = Table{var\"#s44\"} where var\"#s44\"<:(AbstractArray{var\"#s13\",1} where var\"#s13\"<:Continuous).\n",
      "└ @ MLJBase /home/andrew/.julia/packages/MLJBase/uKzAz/src/machines.jl:77\n"
     ]
    },
    {
     "data": {
      "text/plain": [
       "\u001b[34mMachine{ProbabilisticTunedModel{Grid,…}} @226\u001b[39m trained 0 times.\n",
       "  args: \n",
       "    1:\t\u001b[34mSource @543\u001b[39m ⏎ `Table{Union{AbstractArray{Continuous,1}, AbstractArray{Count,1}}}`\n",
       "    2:\t\u001b[34mSource @589\u001b[39m ⏎ `AbstractArray{Multiclass{2},1}`\n"
      ]
     },
     "execution_count": 83,
     "metadata": {},
     "output_type": "execute_result"
    }
   ],
   "source": [
    "self_tuning_knn = machine(self_tuning_knn_model, X_stand, y)"
   ]
  },
  {
   "cell_type": "code",
   "execution_count": 84,
   "metadata": {
    "scrolled": true
   },
   "outputs": [
    {
     "name": "stderr",
     "output_type": "stream",
     "text": [
      "┌ Info: Training \u001b[34mMachine{ProbabilisticTunedModel{Grid,…}} @226\u001b[39m.\n",
      "└ @ MLJBase /home/andrew/.julia/packages/MLJBase/uKzAz/src/machines.jl:319\n",
      "┌ Info: Attempting to evaluate 15 models.\n",
      "└ @ MLJTuning /home/andrew/.julia/packages/MLJTuning/Bbgvk/src/tuned_models.jl:494\n",
      "┌ Warning: The scitype of `X`, in `machine(model, X, ...)` is incompatible with `model=\u001b[34mResampler{CV,…} @712\u001b[39m`:\n",
      "│ scitype(X) = Table{Union{AbstractArray{Continuous,1}, AbstractArray{Count,1}}}\n",
      "│ input_scitype(model) = Table{var\"#s44\"} where var\"#s44\"<:(AbstractArray{var\"#s13\",1} where var\"#s13\"<:Continuous).\n",
      "└ @ MLJBase /home/andrew/.julia/packages/MLJBase/uKzAz/src/machines.jl:77\n",
      "\u001b[33mEvaluating over 15 metamodels:   0%[>                        ]  ETA: N/A\u001b[39m┌ Warning: The scitype of `X`, in `machine(model, X, ...)` is incompatible with `model=\u001b[34mKNNClassifier @142\u001b[39m`:\n",
      "│ scitype(X) = Table{Union{AbstractArray{Continuous,1}, AbstractArray{Count,1}}}\n",
      "│ input_scitype(model) = Table{var\"#s44\"} where var\"#s44\"<:(AbstractArray{var\"#s13\",1} where var\"#s13\"<:Continuous).\n",
      "└ @ MLJBase /home/andrew/.julia/packages/MLJBase/uKzAz/src/machines.jl:77\n",
      "\u001b[33mEvaluating over 15 metamodels:   7%[=>                       ]  ETA: 0:00:00\u001b[39m┌ Warning: The scitype of `X`, in `machine(model, X, ...)` is incompatible with `model=\u001b[34mKNNClassifier @458\u001b[39m`:\n",
      "│ scitype(X) = Table{Union{AbstractArray{Continuous,1}, AbstractArray{Count,1}}}\n",
      "│ input_scitype(model) = Table{var\"#s44\"} where var\"#s44\"<:(AbstractArray{var\"#s13\",1} where var\"#s13\"<:Continuous).\n",
      "└ @ MLJBase /home/andrew/.julia/packages/MLJBase/uKzAz/src/machines.jl:77\n",
      "\u001b[33mEvaluating over 15 metamodels:  13%[===>                     ]  ETA: 0:00:00\u001b[39m┌ Warning: The scitype of `X`, in `machine(model, X, ...)` is incompatible with `model=\u001b[34mKNNClassifier @796\u001b[39m`:\n",
      "│ scitype(X) = Table{Union{AbstractArray{Continuous,1}, AbstractArray{Count,1}}}\n",
      "│ input_scitype(model) = Table{var\"#s44\"} where var\"#s44\"<:(AbstractArray{var\"#s13\",1} where var\"#s13\"<:Continuous).\n",
      "└ @ MLJBase /home/andrew/.julia/packages/MLJBase/uKzAz/src/machines.jl:77\n",
      "\u001b[33mEvaluating over 15 metamodels:  20%[=====>                   ]  ETA: 0:00:00\u001b[39m┌ Warning: The scitype of `X`, in `machine(model, X, ...)` is incompatible with `model=\u001b[34mKNNClassifier @694\u001b[39m`:\n",
      "│ scitype(X) = Table{Union{AbstractArray{Continuous,1}, AbstractArray{Count,1}}}\n",
      "│ input_scitype(model) = Table{var\"#s44\"} where var\"#s44\"<:(AbstractArray{var\"#s13\",1} where var\"#s13\"<:Continuous).\n",
      "└ @ MLJBase /home/andrew/.julia/packages/MLJBase/uKzAz/src/machines.jl:77\n",
      "\u001b[33mEvaluating over 15 metamodels:  27%[======>                  ]  ETA: 0:00:00\u001b[39m┌ Warning: The scitype of `X`, in `machine(model, X, ...)` is incompatible with `model=\u001b[34mKNNClassifier @040\u001b[39m`:\n",
      "│ scitype(X) = Table{Union{AbstractArray{Continuous,1}, AbstractArray{Count,1}}}\n",
      "│ input_scitype(model) = Table{var\"#s44\"} where var\"#s44\"<:(AbstractArray{var\"#s13\",1} where var\"#s13\"<:Continuous).\n",
      "└ @ MLJBase /home/andrew/.julia/packages/MLJBase/uKzAz/src/machines.jl:77\n",
      "\u001b[33mEvaluating over 15 metamodels:  33%[========>                ]  ETA: 0:00:00\u001b[39m┌ Warning: The scitype of `X`, in `machine(model, X, ...)` is incompatible with `model=\u001b[34mKNNClassifier @118\u001b[39m`:\n",
      "│ scitype(X) = Table{Union{AbstractArray{Continuous,1}, AbstractArray{Count,1}}}\n",
      "│ input_scitype(model) = Table{var\"#s44\"} where var\"#s44\"<:(AbstractArray{var\"#s13\",1} where var\"#s13\"<:Continuous).\n",
      "└ @ MLJBase /home/andrew/.julia/packages/MLJBase/uKzAz/src/machines.jl:77\n",
      "\u001b[33mEvaluating over 15 metamodels:  40%[==========>              ]  ETA: 0:00:00\u001b[39m┌ Warning: The scitype of `X`, in `machine(model, X, ...)` is incompatible with `model=\u001b[34mKNNClassifier @424\u001b[39m`:\n",
      "│ scitype(X) = Table{Union{AbstractArray{Continuous,1}, AbstractArray{Count,1}}}\n",
      "│ input_scitype(model) = Table{var\"#s44\"} where var\"#s44\"<:(AbstractArray{var\"#s13\",1} where var\"#s13\"<:Continuous).\n",
      "└ @ MLJBase /home/andrew/.julia/packages/MLJBase/uKzAz/src/machines.jl:77\n",
      "\u001b[33mEvaluating over 15 metamodels:  47%[===========>             ]  ETA: 0:00:00\u001b[39m┌ Warning: The scitype of `X`, in `machine(model, X, ...)` is incompatible with `model=\u001b[34mKNNClassifier @287\u001b[39m`:\n",
      "│ scitype(X) = Table{Union{AbstractArray{Continuous,1}, AbstractArray{Count,1}}}\n",
      "│ input_scitype(model) = Table{var\"#s44\"} where var\"#s44\"<:(AbstractArray{var\"#s13\",1} where var\"#s13\"<:Continuous).\n",
      "└ @ MLJBase /home/andrew/.julia/packages/MLJBase/uKzAz/src/machines.jl:77\n",
      "\u001b[33mEvaluating over 15 metamodels:  53%[=============>           ]  ETA: 0:00:00\u001b[39m┌ Warning: The scitype of `X`, in `machine(model, X, ...)` is incompatible with `model=\u001b[34mKNNClassifier @219\u001b[39m`:\n",
      "│ scitype(X) = Table{Union{AbstractArray{Continuous,1}, AbstractArray{Count,1}}}\n",
      "│ input_scitype(model) = Table{var\"#s44\"} where var\"#s44\"<:(AbstractArray{var\"#s13\",1} where var\"#s13\"<:Continuous).\n",
      "└ @ MLJBase /home/andrew/.julia/packages/MLJBase/uKzAz/src/machines.jl:77\n",
      "\u001b[33mEvaluating over 15 metamodels:  60%[===============>         ]  ETA: 0:00:00\u001b[39m┌ Warning: The scitype of `X`, in `machine(model, X, ...)` is incompatible with `model=\u001b[34mKNNClassifier @526\u001b[39m`:\n",
      "│ scitype(X) = Table{Union{AbstractArray{Continuous,1}, AbstractArray{Count,1}}}\n",
      "│ input_scitype(model) = Table{var\"#s44\"} where var\"#s44\"<:(AbstractArray{var\"#s13\",1} where var\"#s13\"<:Continuous).\n",
      "└ @ MLJBase /home/andrew/.julia/packages/MLJBase/uKzAz/src/machines.jl:77\n",
      "\u001b[33mEvaluating over 15 metamodels:  67%[================>        ]  ETA: 0:00:00\u001b[39m┌ Warning: The scitype of `X`, in `machine(model, X, ...)` is incompatible with `model=\u001b[34mKNNClassifier @021\u001b[39m`:\n",
      "│ scitype(X) = Table{Union{AbstractArray{Continuous,1}, AbstractArray{Count,1}}}\n",
      "│ input_scitype(model) = Table{var\"#s44\"} where var\"#s44\"<:(AbstractArray{var\"#s13\",1} where var\"#s13\"<:Continuous).\n",
      "└ @ MLJBase /home/andrew/.julia/packages/MLJBase/uKzAz/src/machines.jl:77\n",
      "\u001b[33mEvaluating over 15 metamodels:  73%[==================>      ]  ETA: 0:00:00\u001b[39m┌ Warning: The scitype of `X`, in `machine(model, X, ...)` is incompatible with `model=\u001b[34mKNNClassifier @454\u001b[39m`:\n",
      "│ scitype(X) = Table{Union{AbstractArray{Continuous,1}, AbstractArray{Count,1}}}\n",
      "│ input_scitype(model) = Table{var\"#s44\"} where var\"#s44\"<:(AbstractArray{var\"#s13\",1} where var\"#s13\"<:Continuous).\n",
      "└ @ MLJBase /home/andrew/.julia/packages/MLJBase/uKzAz/src/machines.jl:77\n",
      "\u001b[33mEvaluating over 15 metamodels:  80%[====================>    ]  ETA: 0:00:00\u001b[39m┌ Warning: The scitype of `X`, in `machine(model, X, ...)` is incompatible with `model=\u001b[34mKNNClassifier @353\u001b[39m`:\n",
      "│ scitype(X) = Table{Union{AbstractArray{Continuous,1}, AbstractArray{Count,1}}}\n",
      "│ input_scitype(model) = Table{var\"#s44\"} where var\"#s44\"<:(AbstractArray{var\"#s13\",1} where var\"#s13\"<:Continuous).\n",
      "└ @ MLJBase /home/andrew/.julia/packages/MLJBase/uKzAz/src/machines.jl:77\n",
      "\u001b[33mEvaluating over 15 metamodels:  87%[=====================>   ]  ETA: 0:00:00\u001b[39m┌ Warning: The scitype of `X`, in `machine(model, X, ...)` is incompatible with `model=\u001b[34mKNNClassifier @087\u001b[39m`:\n",
      "│ scitype(X) = Table{Union{AbstractArray{Continuous,1}, AbstractArray{Count,1}}}\n",
      "│ input_scitype(model) = Table{var\"#s44\"} where var\"#s44\"<:(AbstractArray{var\"#s13\",1} where var\"#s13\"<:Continuous).\n",
      "└ @ MLJBase /home/andrew/.julia/packages/MLJBase/uKzAz/src/machines.jl:77\n",
      "\u001b[33mEvaluating over 15 metamodels:  93%[=======================> ]  ETA: 0:00:00\u001b[39m┌ Warning: The scitype of `X`, in `machine(model, X, ...)` is incompatible with `model=\u001b[34mKNNClassifier @629\u001b[39m`:\n",
      "│ scitype(X) = Table{Union{AbstractArray{Continuous,1}, AbstractArray{Count,1}}}\n",
      "│ input_scitype(model) = Table{var\"#s44\"} where var\"#s44\"<:(AbstractArray{var\"#s13\",1} where var\"#s13\"<:Continuous).\n",
      "└ @ MLJBase /home/andrew/.julia/packages/MLJBase/uKzAz/src/machines.jl:77\n",
      "\u001b[33mEvaluating over 15 metamodels: 100%[=========================] Time: 0:00:00\u001b[39m\n",
      "┌ Warning: The scitype of `X`, in `machine(model, X, ...)` is incompatible with `model=\u001b[34mKNNClassifier @021\u001b[39m`:\n",
      "│ scitype(X) = Table{Union{AbstractArray{Continuous,1}, AbstractArray{Count,1}}}\n",
      "│ input_scitype(model) = Table{var\"#s44\"} where var\"#s44\"<:(AbstractArray{var\"#s13\",1} where var\"#s13\"<:Continuous).\n",
      "└ @ MLJBase /home/andrew/.julia/packages/MLJBase/uKzAz/src/machines.jl:77\n"
     ]
    },
    {
     "data": {
      "text/plain": [
       "\u001b[34mMachine{ProbabilisticTunedModel{Grid,…}} @226\u001b[39m trained 1 time.\n",
       "  args: \n",
       "    1:\t\u001b[34mSource @543\u001b[39m ⏎ `Table{Union{AbstractArray{Continuous,1}, AbstractArray{Count,1}}}`\n",
       "    2:\t\u001b[34mSource @589\u001b[39m ⏎ `AbstractArray{Multiclass{2},1}`\n"
      ]
     },
     "execution_count": 84,
     "metadata": {},
     "output_type": "execute_result"
    }
   ],
   "source": [
    "z = fit!(self_tuning_knn, rows=train)"
   ]
  },
  {
   "cell_type": "code",
   "execution_count": 85,
   "metadata": {},
   "outputs": [
    {
     "data": {
      "text/plain": [
       "(best_model = \u001b[34mKNNClassifier @021\u001b[39m,\n",
       " best_fitted_params = (tree = NearestNeighbors.KDTree{StaticArrays.SArray{Tuple{41},Float64,1,41},Euclidean,Float64}\n",
       "  Number of points: 738\n",
       "  Dimensions: 41\n",
       "  Metric: Euclidean(0.0)\n",
       "  Reordered: true,),)"
      ]
     },
     "execution_count": 85,
     "metadata": {},
     "output_type": "execute_result"
    }
   ],
   "source": [
    "best = fitted_params(self_tuning_knn)\n",
    "best"
   ]
  },
  {
   "cell_type": "code",
   "execution_count": 86,
   "metadata": {
    "scrolled": true
   },
   "outputs": [
    {
     "data": {
      "text/plain": [
       "KNNClassifier(\n",
       "    K = 4,\n",
       "    algorithm = :kdtree,\n",
       "    metric = Euclidean(0.0),\n",
       "    leafsize = 10,\n",
       "    reorder = true,\n",
       "    weights = :uniform)\u001b[34m @021\u001b[39m"
      ]
     },
     "execution_count": 86,
     "metadata": {},
     "output_type": "execute_result"
    }
   ],
   "source": [
    "best.best_model"
   ]
  },
  {
   "cell_type": "markdown",
   "metadata": {},
   "source": [
    "**Learning Curves**"
   ]
  },
  {
   "cell_type": "code",
   "execution_count": 87,
   "metadata": {
    "scrolled": true
   },
   "outputs": [
    {
     "name": "stderr",
     "output_type": "stream",
     "text": [
      "┌ Warning: The scitype of `X`, in `machine(model, X, ...)` is incompatible with `model=\u001b[34mKNNClassifier @021\u001b[39m`:\n",
      "│ scitype(X) = Table{Union{AbstractArray{Continuous,1}, AbstractArray{Count,1}}}\n",
      "│ input_scitype(model) = Table{var\"#s44\"} where var\"#s44\"<:(AbstractArray{var\"#s13\",1} where var\"#s13\"<:Continuous).\n",
      "└ @ MLJBase /home/andrew/.julia/packages/MLJBase/uKzAz/src/machines.jl:77\n",
      "┌ Warning: The scitype of `X`, in `machine(model, X, ...)` is incompatible with `model=\u001b[34mKNNClassifier @021\u001b[39m`:\n",
      "│ scitype(X) = Table{Union{AbstractArray{Continuous,1}, AbstractArray{Count,1}}}\n",
      "│ input_scitype(model) = Table{var\"#s44\"} where var\"#s44\"<:(AbstractArray{var\"#s13\",1} where var\"#s13\"<:Continuous).\n",
      "└ @ MLJBase /home/andrew/.julia/packages/MLJBase/uKzAz/src/machines.jl:77\n",
      "┌ Warning: The scitype of `X`, in `machine(model, X, ...)` is incompatible with `model=\u001b[34mKNNClassifier @021\u001b[39m`:\n",
      "│ scitype(X) = Table{Union{AbstractArray{Continuous,1}, AbstractArray{Count,1}}}\n",
      "│ input_scitype(model) = Table{var\"#s44\"} where var\"#s44\"<:(AbstractArray{var\"#s13\",1} where var\"#s13\"<:Continuous).\n",
      "└ @ MLJBase /home/andrew/.julia/packages/MLJBase/uKzAz/src/machines.jl:77\n",
      "┌ Warning: The scitype of `X`, in `machine(model, X, ...)` is incompatible with `model=\u001b[34mKNNClassifier @021\u001b[39m`:\n",
      "│ scitype(X) = Table{Union{AbstractArray{Continuous,1}, AbstractArray{Count,1}}}\n",
      "│ input_scitype(model) = Table{var\"#s44\"} where var\"#s44\"<:(AbstractArray{var\"#s13\",1} where var\"#s13\"<:Continuous).\n",
      "└ @ MLJBase /home/andrew/.julia/packages/MLJBase/uKzAz/src/machines.jl:77\n",
      "┌ Warning: The scitype of `X`, in `machine(model, X, ...)` is incompatible with `model=\u001b[34mKNNClassifier @021\u001b[39m`:\n",
      "│ scitype(X) = Table{Union{AbstractArray{Continuous,1}, AbstractArray{Count,1}}}\n",
      "│ input_scitype(model) = Table{var\"#s44\"} where var\"#s44\"<:(AbstractArray{var\"#s13\",1} where var\"#s13\"<:Continuous).\n",
      "└ @ MLJBase /home/andrew/.julia/packages/MLJBase/uKzAz/src/machines.jl:77\n",
      "┌ Warning: The scitype of `X`, in `machine(model, X, ...)` is incompatible with `model=\u001b[34mKNNClassifier @021\u001b[39m`:\n",
      "│ scitype(X) = Table{Union{AbstractArray{Continuous,1}, AbstractArray{Count,1}}}\n",
      "│ input_scitype(model) = Table{var\"#s44\"} where var\"#s44\"<:(AbstractArray{var\"#s13\",1} where var\"#s13\"<:Continuous).\n",
      "└ @ MLJBase /home/andrew/.julia/packages/MLJBase/uKzAz/src/machines.jl:77\n",
      "┌ Warning: The scitype of `X`, in `machine(model, X, ...)` is incompatible with `model=\u001b[34mKNNClassifier @021\u001b[39m`:\n",
      "│ scitype(X) = Table{Union{AbstractArray{Continuous,1}, AbstractArray{Count,1}}}\n",
      "│ input_scitype(model) = Table{var\"#s44\"} where var\"#s44\"<:(AbstractArray{var\"#s13\",1} where var\"#s13\"<:Continuous).\n",
      "└ @ MLJBase /home/andrew/.julia/packages/MLJBase/uKzAz/src/machines.jl:77\n",
      "┌ Warning: The scitype of `X`, in `machine(model, X, ...)` is incompatible with `model=\u001b[34mKNNClassifier @021\u001b[39m`:\n",
      "│ scitype(X) = Table{Union{AbstractArray{Continuous,1}, AbstractArray{Count,1}}}\n",
      "│ input_scitype(model) = Table{var\"#s44\"} where var\"#s44\"<:(AbstractArray{var\"#s13\",1} where var\"#s13\"<:Continuous).\n",
      "└ @ MLJBase /home/andrew/.julia/packages/MLJBase/uKzAz/src/machines.jl:77\n",
      "┌ Warning: The scitype of `X`, in `machine(model, X, ...)` is incompatible with `model=\u001b[34mKNNClassifier @021\u001b[39m`:\n",
      "│ scitype(X) = Table{Union{AbstractArray{Continuous,1}, AbstractArray{Count,1}}}\n",
      "│ input_scitype(model) = Table{var\"#s44\"} where var\"#s44\"<:(AbstractArray{var\"#s13\",1} where var\"#s13\"<:Continuous).\n",
      "└ @ MLJBase /home/andrew/.julia/packages/MLJBase/uKzAz/src/machines.jl:77\n",
      "┌ Warning: The scitype of `X`, in `machine(model, X, ...)` is incompatible with `model=\u001b[34mKNNClassifier @021\u001b[39m`:\n",
      "│ scitype(X) = Table{Union{AbstractArray{Continuous,1}, AbstractArray{Count,1}}}\n",
      "│ input_scitype(model) = Table{var\"#s44\"} where var\"#s44\"<:(AbstractArray{var\"#s13\",1} where var\"#s13\"<:Continuous).\n",
      "└ @ MLJBase /home/andrew/.julia/packages/MLJBase/uKzAz/src/machines.jl:77\n",
      "┌ Warning: The scitype of `X`, in `machine(model, X, ...)` is incompatible with `model=\u001b[34mKNNClassifier @021\u001b[39m`:\n",
      "│ scitype(X) = Table{Union{AbstractArray{Continuous,1}, AbstractArray{Count,1}}}\n",
      "│ input_scitype(model) = Table{var\"#s44\"} where var\"#s44\"<:(AbstractArray{var\"#s13\",1} where var\"#s13\"<:Continuous).\n",
      "└ @ MLJBase /home/andrew/.julia/packages/MLJBase/uKzAz/src/machines.jl:77\n",
      "┌ Warning: The scitype of `X`, in `machine(model, X, ...)` is incompatible with `model=\u001b[34mKNNClassifier @021\u001b[39m`:\n",
      "│ scitype(X) = Table{Union{AbstractArray{Continuous,1}, AbstractArray{Count,1}}}\n",
      "│ input_scitype(model) = Table{var\"#s44\"} where var\"#s44\"<:(AbstractArray{var\"#s13\",1} where var\"#s13\"<:Continuous).\n",
      "└ @ MLJBase /home/andrew/.julia/packages/MLJBase/uKzAz/src/machines.jl:77\n",
      "┌ Warning: The scitype of `X`, in `machine(model, X, ...)` is incompatible with `model=\u001b[34mKNNClassifier @021\u001b[39m`:\n",
      "│ scitype(X) = Table{Union{AbstractArray{Continuous,1}, AbstractArray{Count,1}}}\n",
      "│ input_scitype(model) = Table{var\"#s44\"} where var\"#s44\"<:(AbstractArray{var\"#s13\",1} where var\"#s13\"<:Continuous).\n",
      "└ @ MLJBase /home/andrew/.julia/packages/MLJBase/uKzAz/src/machines.jl:77\n",
      "┌ Warning: The scitype of `X`, in `machine(model, X, ...)` is incompatible with `model=\u001b[34mKNNClassifier @021\u001b[39m`:\n",
      "│ scitype(X) = Table{Union{AbstractArray{Continuous,1}, AbstractArray{Count,1}}}\n",
      "│ input_scitype(model) = Table{var\"#s44\"} where var\"#s44\"<:(AbstractArray{var\"#s13\",1} where var\"#s13\"<:Continuous).\n",
      "└ @ MLJBase /home/andrew/.julia/packages/MLJBase/uKzAz/src/machines.jl:77\n",
      "┌ Warning: The scitype of `X`, in `machine(model, X, ...)` is incompatible with `model=\u001b[34mKNNClassifier @021\u001b[39m`:\n",
      "│ scitype(X) = Table{Union{AbstractArray{Continuous,1}, AbstractArray{Count,1}}}\n",
      "│ input_scitype(model) = Table{var\"#s44\"} where var\"#s44\"<:(AbstractArray{var\"#s13\",1} where var\"#s13\"<:Continuous).\n",
      "└ @ MLJBase /home/andrew/.julia/packages/MLJBase/uKzAz/src/machines.jl:77\n",
      "┌ Warning: The scitype of `X`, in `machine(model, X, ...)` is incompatible with `model=\u001b[34mKNNClassifier @021\u001b[39m`:\n",
      "│ scitype(X) = Table{Union{AbstractArray{Continuous,1}, AbstractArray{Count,1}}}\n",
      "│ input_scitype(model) = Table{var\"#s44\"} where var\"#s44\"<:(AbstractArray{var\"#s13\",1} where var\"#s13\"<:Continuous).\n",
      "└ @ MLJBase /home/andrew/.julia/packages/MLJBase/uKzAz/src/machines.jl:77\n",
      "┌ Warning: The scitype of `X`, in `machine(model, X, ...)` is incompatible with `model=\u001b[34mKNNClassifier @021\u001b[39m`:\n",
      "│ scitype(X) = Table{Union{AbstractArray{Continuous,1}, AbstractArray{Count,1}}}\n",
      "│ input_scitype(model) = Table{var\"#s44\"} where var\"#s44\"<:(AbstractArray{var\"#s13\",1} where var\"#s13\"<:Continuous).\n",
      "└ @ MLJBase /home/andrew/.julia/packages/MLJBase/uKzAz/src/machines.jl:77\n",
      "┌ Warning: The scitype of `X`, in `machine(model, X, ...)` is incompatible with `model=\u001b[34mKNNClassifier @021\u001b[39m`:\n",
      "│ scitype(X) = Table{Union{AbstractArray{Continuous,1}, AbstractArray{Count,1}}}\n",
      "│ input_scitype(model) = Table{var\"#s44\"} where var\"#s44\"<:(AbstractArray{var\"#s13\",1} where var\"#s13\"<:Continuous).\n",
      "└ @ MLJBase /home/andrew/.julia/packages/MLJBase/uKzAz/src/machines.jl:77\n",
      "┌ Warning: The scitype of `X`, in `machine(model, X, ...)` is incompatible with `model=\u001b[34mKNNClassifier @021\u001b[39m`:\n",
      "│ scitype(X) = Table{Union{AbstractArray{Continuous,1}, AbstractArray{Count,1}}}\n",
      "│ input_scitype(model) = Table{var\"#s44\"} where var\"#s44\"<:(AbstractArray{var\"#s13\",1} where var\"#s13\"<:Continuous).\n",
      "└ @ MLJBase /home/andrew/.julia/packages/MLJBase/uKzAz/src/machines.jl:77\n",
      "┌ Warning: The scitype of `X`, in `machine(model, X, ...)` is incompatible with `model=\u001b[34mKNNClassifier @021\u001b[39m`:\n",
      "│ scitype(X) = Table{Union{AbstractArray{Continuous,1}, AbstractArray{Count,1}}}\n",
      "│ input_scitype(model) = Table{var\"#s44\"} where var\"#s44\"<:(AbstractArray{var\"#s13\",1} where var\"#s13\"<:Continuous).\n",
      "└ @ MLJBase /home/andrew/.julia/packages/MLJBase/uKzAz/src/machines.jl:77\n",
      "┌ Warning: The scitype of `X`, in `machine(model, X, ...)` is incompatible with `model=\u001b[34mKNNClassifier @021\u001b[39m`:\n",
      "│ scitype(X) = Table{Union{AbstractArray{Continuous,1}, AbstractArray{Count,1}}}\n",
      "│ input_scitype(model) = Table{var\"#s44\"} where var\"#s44\"<:(AbstractArray{var\"#s13\",1} where var\"#s13\"<:Continuous).\n",
      "└ @ MLJBase /home/andrew/.julia/packages/MLJBase/uKzAz/src/machines.jl:77\n",
      "┌ Warning: The scitype of `X`, in `machine(model, X, ...)` is incompatible with `model=\u001b[34mKNNClassifier @021\u001b[39m`:\n",
      "│ scitype(X) = Table{Union{AbstractArray{Continuous,1}, AbstractArray{Count,1}}}\n",
      "│ input_scitype(model) = Table{var\"#s44\"} where var\"#s44\"<:(AbstractArray{var\"#s13\",1} where var\"#s13\"<:Continuous).\n",
      "└ @ MLJBase /home/andrew/.julia/packages/MLJBase/uKzAz/src/machines.jl:77\n",
      "┌ Warning: The scitype of `X`, in `machine(model, X, ...)` is incompatible with `model=\u001b[34mKNNClassifier @021\u001b[39m`:\n",
      "│ scitype(X) = Table{Union{AbstractArray{Continuous,1}, AbstractArray{Count,1}}}\n",
      "│ input_scitype(model) = Table{var\"#s44\"} where var\"#s44\"<:(AbstractArray{var\"#s13\",1} where var\"#s13\"<:Continuous).\n",
      "└ @ MLJBase /home/andrew/.julia/packages/MLJBase/uKzAz/src/machines.jl:77\n",
      "┌ Warning: The scitype of `X`, in `machine(model, X, ...)` is incompatible with `model=\u001b[34mKNNClassifier @021\u001b[39m`:\n",
      "│ scitype(X) = Table{Union{AbstractArray{Continuous,1}, AbstractArray{Count,1}}}\n",
      "│ input_scitype(model) = Table{var\"#s44\"} where var\"#s44\"<:(AbstractArray{var\"#s13\",1} where var\"#s13\"<:Continuous).\n",
      "└ @ MLJBase /home/andrew/.julia/packages/MLJBase/uKzAz/src/machines.jl:77\n",
      "┌ Warning: The scitype of `X`, in `machine(model, X, ...)` is incompatible with `model=\u001b[34mKNNClassifier @021\u001b[39m`:\n",
      "│ scitype(X) = Table{Union{AbstractArray{Continuous,1}, AbstractArray{Count,1}}}\n",
      "│ input_scitype(model) = Table{var\"#s44\"} where var\"#s44\"<:(AbstractArray{var\"#s13\",1} where var\"#s13\"<:Continuous).\n",
      "└ @ MLJBase /home/andrew/.julia/packages/MLJBase/uKzAz/src/machines.jl:77\n",
      "┌ Warning: The scitype of `X`, in `machine(model, X, ...)` is incompatible with `model=\u001b[34mKNNClassifier @021\u001b[39m`:\n",
      "│ scitype(X) = Table{Union{AbstractArray{Continuous,1}, AbstractArray{Count,1}}}\n",
      "│ input_scitype(model) = Table{var\"#s44\"} where var\"#s44\"<:(AbstractArray{var\"#s13\",1} where var\"#s13\"<:Continuous).\n",
      "└ @ MLJBase /home/andrew/.julia/packages/MLJBase/uKzAz/src/machines.jl:77\n"
     ]
    },
    {
     "name": "stdout",
     "output_type": "stream",
     "text": [
      "(d, train_metric, valid_metric) = (10, 0.9, 0.7027027027027027)\n",
      "(d, train_metric, valid_metric) = (15, 0.8666666666666667, 0.7027027027027027)\n",
      "(d, train_metric, valid_metric) = (20, 0.9, 0.7297297297297297)\n",
      "(d, train_metric, valid_metric) = (25, 0.96, 0.7972972972972973)\n",
      "(d, train_metric, valid_metric) = (30, 0.9666666666666667, 0.8040540540540541)\n",
      "(d, train_metric, valid_metric) = (35, 0.9714285714285714, 0.8040540540540541)\n",
      "(d, train_metric, valid_metric) = (40, 0.9, 0.8108108108108109)\n",
      "(d, train_metric, valid_metric) = (45, 0.8888888888888888, 0.8243243243243243)\n",
      "(d, train_metric, valid_metric) = (50, 0.86, 0.8108108108108109)\n",
      "(d, train_metric, valid_metric) = (55, 0.8909090909090909, 0.8108108108108109)\n",
      "(d, train_metric, valid_metric) = (60, 0.8666666666666667, 0.7972972972972973)\n",
      "(d, train_metric, valid_metric) = (65, 0.8307692307692308, 0.7837837837837838)\n",
      "(d, train_metric, valid_metric) = (70, 0.8142857142857143, 0.7972972972972973)\n",
      "(d, train_metric, valid_metric) = (75, 0.8133333333333334, 0.7635135135135135)\n",
      "(d, train_metric, valid_metric) = (80, 0.7875, 0.75)\n",
      "(d, train_metric, valid_metric) = (85, 0.7647058823529411, 0.7432432432432432)\n",
      "(d, train_metric, valid_metric) = (90, 0.7777777777777778, 0.7567567567567568)\n",
      "(d, train_metric, valid_metric) = (95, 0.7894736842105263, 0.7297297297297297)\n",
      "(d, train_metric, valid_metric) = (100, 0.8, 0.7432432432432432)\n",
      "(d, train_metric, valid_metric) = (105, 0.8285714285714286, 0.75)\n",
      "(d, train_metric, valid_metric) = (110, 0.8454545454545455, 0.7297297297297297)\n",
      "(d, train_metric, valid_metric) = (115, 0.8608695652173913, 0.7297297297297297)\n",
      "(d, train_metric, valid_metric) = (120, 0.8583333333333333, 0.7162162162162162)\n",
      "(d, train_metric, valid_metric) = (125, 0.872, 0.7567567567567568)\n",
      "(d, train_metric, valid_metric) = (130, 0.8769230769230769, 0.7567567567567568)\n",
      "(d, train_metric, valid_metric) = (135, 0.8814814814814815, 0.7567567567567568)\n"
     ]
    },
    {
     "name": "stderr",
     "output_type": "stream",
     "text": [
      "┌ Warning: The scitype of `X`, in `machine(model, X, ...)` is incompatible with `model=\u001b[34mKNNClassifier @021\u001b[39m`:\n",
      "│ scitype(X) = Table{Union{AbstractArray{Continuous,1}, AbstractArray{Count,1}}}\n",
      "│ input_scitype(model) = Table{var\"#s44\"} where var\"#s44\"<:(AbstractArray{var\"#s13\",1} where var\"#s13\"<:Continuous).\n",
      "└ @ MLJBase /home/andrew/.julia/packages/MLJBase/uKzAz/src/machines.jl:77\n"
     ]
    },
    {
     "name": "stdout",
     "output_type": "stream",
     "text": [
      "(d, train_metric, valid_metric) = (140, 0.8785714285714286, 0.7567567567567568)\n",
      "(d, train_metric, valid_metric) = (145, 0.8827586206896552, 0.7837837837837838)\n",
      "(d, train_metric, valid_metric) = (150, 0.8733333333333333, 0.7905405405405406)\n",
      "(d, train_metric, valid_metric) = (155, 0.8709677419354839, 0.7837837837837838)\n",
      "(d, train_metric, valid_metric) = (160, 0.875, 0.8040540540540541)\n",
      "(d, train_metric, valid_metric) = (165, 0.8787878787878788, 0.777027027027027)\n",
      "(d, train_metric, valid_metric) = (170, 0.8823529411764706, 0.777027027027027)\n",
      "(d, train_metric, valid_metric) = (175, 0.8857142857142857, 0.7905405405405406)\n",
      "(d, train_metric, valid_metric) = (180, 0.8888888888888888, 0.7905405405405406)\n",
      "(d, train_metric, valid_metric) = (185, 0.8918918918918919, 0.7837837837837838)\n",
      "(d, train_metric, valid_metric) = (190, 0.8894736842105263, 0.7837837837837838)\n",
      "(d, train_metric, valid_metric) = (195, 0.8923076923076924, 0.7905405405405406)\n",
      "(d, train_metric, valid_metric) = (200, 0.9, 0.7905405405405406)\n",
      "(d, train_metric, valid_metric) = (205, 0.9024390243902439, 0.7905405405405406)\n",
      "(d, train_metric, valid_metric) = (210, 0.9095238095238095, 0.7837837837837838)\n",
      "(d, train_metric, valid_metric) = (215, 0.9023255813953488, 0.777027027027027)\n",
      "(d, train_metric, valid_metric) = (220, 0.9090909090909091, 0.7702702702702703)\n",
      "(d, train_metric, valid_metric) = (225, 0.9022222222222223, 0.7837837837837838)\n",
      "(d, train_metric, valid_metric) = (230, 0.9043478260869565, 0.7837837837837838)\n",
      "(d, train_metric, valid_metric) = (235, 0.9063829787234042, 0.7905405405405406)\n",
      "(d, train_metric, valid_metric) = (240, 0.9041666666666667, 0.7905405405405406)\n"
     ]
    },
    {
     "name": "stderr",
     "output_type": "stream",
     "text": [
      "┌ Warning: The scitype of `X`, in `machine(model, X, ...)` is incompatible with `model=\u001b[34mKNNClassifier @021\u001b[39m`:\n",
      "│ scitype(X) = Table{Union{AbstractArray{Continuous,1}, AbstractArray{Count,1}}}\n",
      "│ input_scitype(model) = Table{var\"#s44\"} where var\"#s44\"<:(AbstractArray{var\"#s13\",1} where var\"#s13\"<:Continuous).\n",
      "└ @ MLJBase /home/andrew/.julia/packages/MLJBase/uKzAz/src/machines.jl:77\n",
      "┌ Warning: The scitype of `X`, in `machine(model, X, ...)` is incompatible with `model=\u001b[34mKNNClassifier @021\u001b[39m`:\n",
      "│ scitype(X) = Table{Union{AbstractArray{Continuous,1}, AbstractArray{Count,1}}}\n",
      "│ input_scitype(model) = Table{var\"#s44\"} where var\"#s44\"<:(AbstractArray{var\"#s13\",1} where var\"#s13\"<:Continuous).\n",
      "└ @ MLJBase /home/andrew/.julia/packages/MLJBase/uKzAz/src/machines.jl:77\n",
      "┌ Warning: The scitype of `X`, in `machine(model, X, ...)` is incompatible with `model=\u001b[34mKNNClassifier @021\u001b[39m`:\n",
      "│ scitype(X) = Table{Union{AbstractArray{Continuous,1}, AbstractArray{Count,1}}}\n",
      "│ input_scitype(model) = Table{var\"#s44\"} where var\"#s44\"<:(AbstractArray{var\"#s13\",1} where var\"#s13\"<:Continuous).\n",
      "└ @ MLJBase /home/andrew/.julia/packages/MLJBase/uKzAz/src/machines.jl:77\n",
      "┌ Warning: The scitype of `X`, in `machine(model, X, ...)` is incompatible with `model=\u001b[34mKNNClassifier @021\u001b[39m`:\n",
      "│ scitype(X) = Table{Union{AbstractArray{Continuous,1}, AbstractArray{Count,1}}}\n",
      "│ input_scitype(model) = Table{var\"#s44\"} where var\"#s44\"<:(AbstractArray{var\"#s13\",1} where var\"#s13\"<:Continuous).\n",
      "└ @ MLJBase /home/andrew/.julia/packages/MLJBase/uKzAz/src/machines.jl:77\n",
      "┌ Warning: The scitype of `X`, in `machine(model, X, ...)` is incompatible with `model=\u001b[34mKNNClassifier @021\u001b[39m`:\n",
      "│ scitype(X) = Table{Union{AbstractArray{Continuous,1}, AbstractArray{Count,1}}}\n",
      "│ input_scitype(model) = Table{var\"#s44\"} where var\"#s44\"<:(AbstractArray{var\"#s13\",1} where var\"#s13\"<:Continuous).\n",
      "└ @ MLJBase /home/andrew/.julia/packages/MLJBase/uKzAz/src/machines.jl:77\n",
      "┌ Warning: The scitype of `X`, in `machine(model, X, ...)` is incompatible with `model=\u001b[34mKNNClassifier @021\u001b[39m`:\n",
      "│ scitype(X) = Table{Union{AbstractArray{Continuous,1}, AbstractArray{Count,1}}}\n",
      "│ input_scitype(model) = Table{var\"#s44\"} where var\"#s44\"<:(AbstractArray{var\"#s13\",1} where var\"#s13\"<:Continuous).\n",
      "└ @ MLJBase /home/andrew/.julia/packages/MLJBase/uKzAz/src/machines.jl:77\n",
      "┌ Warning: The scitype of `X`, in `machine(model, X, ...)` is incompatible with `model=\u001b[34mKNNClassifier @021\u001b[39m`:\n",
      "│ scitype(X) = Table{Union{AbstractArray{Continuous,1}, AbstractArray{Count,1}}}\n",
      "│ input_scitype(model) = Table{var\"#s44\"} where var\"#s44\"<:(AbstractArray{var\"#s13\",1} where var\"#s13\"<:Continuous).\n",
      "└ @ MLJBase /home/andrew/.julia/packages/MLJBase/uKzAz/src/machines.jl:77\n",
      "┌ Warning: The scitype of `X`, in `machine(model, X, ...)` is incompatible with `model=\u001b[34mKNNClassifier @021\u001b[39m`:\n",
      "│ scitype(X) = Table{Union{AbstractArray{Continuous,1}, AbstractArray{Count,1}}}\n",
      "│ input_scitype(model) = Table{var\"#s44\"} where var\"#s44\"<:(AbstractArray{var\"#s13\",1} where var\"#s13\"<:Continuous).\n",
      "└ @ MLJBase /home/andrew/.julia/packages/MLJBase/uKzAz/src/machines.jl:77\n",
      "┌ Warning: The scitype of `X`, in `machine(model, X, ...)` is incompatible with `model=\u001b[34mKNNClassifier @021\u001b[39m`:\n",
      "│ scitype(X) = Table{Union{AbstractArray{Continuous,1}, AbstractArray{Count,1}}}\n",
      "│ input_scitype(model) = Table{var\"#s44\"} where var\"#s44\"<:(AbstractArray{var\"#s13\",1} where var\"#s13\"<:Continuous).\n",
      "└ @ MLJBase /home/andrew/.julia/packages/MLJBase/uKzAz/src/machines.jl:77\n",
      "┌ Warning: The scitype of `X`, in `machine(model, X, ...)` is incompatible with `model=\u001b[34mKNNClassifier @021\u001b[39m`:\n",
      "│ scitype(X) = Table{Union{AbstractArray{Continuous,1}, AbstractArray{Count,1}}}\n",
      "│ input_scitype(model) = Table{var\"#s44\"} where var\"#s44\"<:(AbstractArray{var\"#s13\",1} where var\"#s13\"<:Continuous).\n",
      "└ @ MLJBase /home/andrew/.julia/packages/MLJBase/uKzAz/src/machines.jl:77\n",
      "┌ Warning: The scitype of `X`, in `machine(model, X, ...)` is incompatible with `model=\u001b[34mKNNClassifier @021\u001b[39m`:\n",
      "│ scitype(X) = Table{Union{AbstractArray{Continuous,1}, AbstractArray{Count,1}}}\n",
      "│ input_scitype(model) = Table{var\"#s44\"} where var\"#s44\"<:(AbstractArray{var\"#s13\",1} where var\"#s13\"<:Continuous).\n",
      "└ @ MLJBase /home/andrew/.julia/packages/MLJBase/uKzAz/src/machines.jl:77\n",
      "┌ Warning: The scitype of `X`, in `machine(model, X, ...)` is incompatible with `model=\u001b[34mKNNClassifier @021\u001b[39m`:\n",
      "│ scitype(X) = Table{Union{AbstractArray{Continuous,1}, AbstractArray{Count,1}}}\n",
      "│ input_scitype(model) = Table{var\"#s44\"} where var\"#s44\"<:(AbstractArray{var\"#s13\",1} where var\"#s13\"<:Continuous).\n",
      "└ @ MLJBase /home/andrew/.julia/packages/MLJBase/uKzAz/src/machines.jl:77\n",
      "┌ Warning: The scitype of `X`, in `machine(model, X, ...)` is incompatible with `model=\u001b[34mKNNClassifier @021\u001b[39m`:\n",
      "│ scitype(X) = Table{Union{AbstractArray{Continuous,1}, AbstractArray{Count,1}}}\n",
      "│ input_scitype(model) = Table{var\"#s44\"} where var\"#s44\"<:(AbstractArray{var\"#s13\",1} where var\"#s13\"<:Continuous).\n",
      "└ @ MLJBase /home/andrew/.julia/packages/MLJBase/uKzAz/src/machines.jl:77\n",
      "┌ Warning: The scitype of `X`, in `machine(model, X, ...)` is incompatible with `model=\u001b[34mKNNClassifier @021\u001b[39m`:\n",
      "│ scitype(X) = Table{Union{AbstractArray{Continuous,1}, AbstractArray{Count,1}}}\n",
      "│ input_scitype(model) = Table{var\"#s44\"} where var\"#s44\"<:(AbstractArray{var\"#s13\",1} where var\"#s13\"<:Continuous).\n",
      "└ @ MLJBase /home/andrew/.julia/packages/MLJBase/uKzAz/src/machines.jl:77\n",
      "┌ Warning: The scitype of `X`, in `machine(model, X, ...)` is incompatible with `model=\u001b[34mKNNClassifier @021\u001b[39m`:\n",
      "│ scitype(X) = Table{Union{AbstractArray{Continuous,1}, AbstractArray{Count,1}}}\n",
      "│ input_scitype(model) = Table{var\"#s44\"} where var\"#s44\"<:(AbstractArray{var\"#s13\",1} where var\"#s13\"<:Continuous).\n",
      "└ @ MLJBase /home/andrew/.julia/packages/MLJBase/uKzAz/src/machines.jl:77\n",
      "┌ Warning: The scitype of `X`, in `machine(model, X, ...)` is incompatible with `model=\u001b[34mKNNClassifier @021\u001b[39m`:\n",
      "│ scitype(X) = Table{Union{AbstractArray{Continuous,1}, AbstractArray{Count,1}}}\n",
      "│ input_scitype(model) = Table{var\"#s44\"} where var\"#s44\"<:(AbstractArray{var\"#s13\",1} where var\"#s13\"<:Continuous).\n",
      "└ @ MLJBase /home/andrew/.julia/packages/MLJBase/uKzAz/src/machines.jl:77\n",
      "┌ Warning: The scitype of `X`, in `machine(model, X, ...)` is incompatible with `model=\u001b[34mKNNClassifier @021\u001b[39m`:\n",
      "│ scitype(X) = Table{Union{AbstractArray{Continuous,1}, AbstractArray{Count,1}}}\n",
      "│ input_scitype(model) = Table{var\"#s44\"} where var\"#s44\"<:(AbstractArray{var\"#s13\",1} where var\"#s13\"<:Continuous).\n",
      "└ @ MLJBase /home/andrew/.julia/packages/MLJBase/uKzAz/src/machines.jl:77\n",
      "┌ Warning: The scitype of `X`, in `machine(model, X, ...)` is incompatible with `model=\u001b[34mKNNClassifier @021\u001b[39m`:\n",
      "│ scitype(X) = Table{Union{AbstractArray{Continuous,1}, AbstractArray{Count,1}}}\n",
      "│ input_scitype(model) = Table{var\"#s44\"} where var\"#s44\"<:(AbstractArray{var\"#s13\",1} where var\"#s13\"<:Continuous).\n",
      "└ @ MLJBase /home/andrew/.julia/packages/MLJBase/uKzAz/src/machines.jl:77\n",
      "┌ Warning: The scitype of `X`, in `machine(model, X, ...)` is incompatible with `model=\u001b[34mKNNClassifier @021\u001b[39m`:\n",
      "│ scitype(X) = Table{Union{AbstractArray{Continuous,1}, AbstractArray{Count,1}}}\n",
      "│ input_scitype(model) = Table{var\"#s44\"} where var\"#s44\"<:(AbstractArray{var\"#s13\",1} where var\"#s13\"<:Continuous).\n",
      "└ @ MLJBase /home/andrew/.julia/packages/MLJBase/uKzAz/src/machines.jl:77\n",
      "┌ Warning: The scitype of `X`, in `machine(model, X, ...)` is incompatible with `model=\u001b[34mKNNClassifier @021\u001b[39m`:\n",
      "│ scitype(X) = Table{Union{AbstractArray{Continuous,1}, AbstractArray{Count,1}}}\n",
      "│ input_scitype(model) = Table{var\"#s44\"} where var\"#s44\"<:(AbstractArray{var\"#s13\",1} where var\"#s13\"<:Continuous).\n",
      "└ @ MLJBase /home/andrew/.julia/packages/MLJBase/uKzAz/src/machines.jl:77\n",
      "┌ Warning: The scitype of `X`, in `machine(model, X, ...)` is incompatible with `model=\u001b[34mKNNClassifier @021\u001b[39m`:\n",
      "│ scitype(X) = Table{Union{AbstractArray{Continuous,1}, AbstractArray{Count,1}}}\n",
      "│ input_scitype(model) = Table{var\"#s44\"} where var\"#s44\"<:(AbstractArray{var\"#s13\",1} where var\"#s13\"<:Continuous).\n",
      "└ @ MLJBase /home/andrew/.julia/packages/MLJBase/uKzAz/src/machines.jl:77\n"
     ]
    },
    {
     "name": "stdout",
     "output_type": "stream",
     "text": [
      "(d, train_metric, valid_metric) = (245, 0.9061224489795918, 0.7905405405405406)\n",
      "(d, train_metric, valid_metric) = (250, 0.912, 0.777027027027027)\n",
      "(d, train_metric, valid_metric) = (255, 0.9137254901960784, 0.7702702702702703)\n",
      "(d, train_metric, valid_metric) = (260, 0.9, 0.7702702702702703)\n",
      "(d, train_metric, valid_metric) = (265, 0.8905660377358491, 0.777027027027027)\n",
      "(d, train_metric, valid_metric) = (270, 0.8925925925925926, 0.777027027027027)\n",
      "(d, train_metric, valid_metric) = (275, 0.8909090909090909, 0.777027027027027)\n",
      "(d, train_metric, valid_metric) = (280, 0.8857142857142857, 0.7702702702702703)\n",
      "(d, train_metric, valid_metric) = (285, 0.8842105263157894, 0.7702702702702703)\n",
      "(d, train_metric, valid_metric) = (290, 0.8862068965517241, 0.7702702702702703)\n",
      "(d, train_metric, valid_metric) = (295, 0.8813559322033898, 0.7702702702702703)\n",
      "(d, train_metric, valid_metric) = (300, 0.88, 0.7702702702702703)\n",
      "(d, train_metric, valid_metric) = (305, 0.8819672131147541, 0.777027027027027)\n",
      "(d, train_metric, valid_metric) = (310, 0.8838709677419355, 0.777027027027027)\n",
      "(d, train_metric, valid_metric) = (315, 0.8793650793650793, 0.7837837837837838)\n",
      "(d, train_metric, valid_metric) = (320, 0.88125, 0.777027027027027)\n"
     ]
    },
    {
     "name": "stderr",
     "output_type": "stream",
     "text": [
      "┌ Warning: The scitype of `X`, in `machine(model, X, ...)` is incompatible with `model=\u001b[34mKNNClassifier @021\u001b[39m`:\n",
      "│ scitype(X) = Table{Union{AbstractArray{Continuous,1}, AbstractArray{Count,1}}}\n",
      "│ input_scitype(model) = Table{var\"#s44\"} where var\"#s44\"<:(AbstractArray{var\"#s13\",1} where var\"#s13\"<:Continuous).\n",
      "└ @ MLJBase /home/andrew/.julia/packages/MLJBase/uKzAz/src/machines.jl:77\n",
      "┌ Warning: The scitype of `X`, in `machine(model, X, ...)` is incompatible with `model=\u001b[34mKNNClassifier @021\u001b[39m`:\n",
      "│ scitype(X) = Table{Union{AbstractArray{Continuous,1}, AbstractArray{Count,1}}}\n",
      "│ input_scitype(model) = Table{var\"#s44\"} where var\"#s44\"<:(AbstractArray{var\"#s13\",1} where var\"#s13\"<:Continuous).\n",
      "└ @ MLJBase /home/andrew/.julia/packages/MLJBase/uKzAz/src/machines.jl:77\n",
      "┌ Warning: The scitype of `X`, in `machine(model, X, ...)` is incompatible with `model=\u001b[34mKNNClassifier @021\u001b[39m`:\n",
      "│ scitype(X) = Table{Union{AbstractArray{Continuous,1}, AbstractArray{Count,1}}}\n",
      "│ input_scitype(model) = Table{var\"#s44\"} where var\"#s44\"<:(AbstractArray{var\"#s13\",1} where var\"#s13\"<:Continuous).\n",
      "└ @ MLJBase /home/andrew/.julia/packages/MLJBase/uKzAz/src/machines.jl:77\n",
      "┌ Warning: The scitype of `X`, in `machine(model, X, ...)` is incompatible with `model=\u001b[34mKNNClassifier @021\u001b[39m`:\n",
      "│ scitype(X) = Table{Union{AbstractArray{Continuous,1}, AbstractArray{Count,1}}}\n",
      "│ input_scitype(model) = Table{var\"#s44\"} where var\"#s44\"<:(AbstractArray{var\"#s13\",1} where var\"#s13\"<:Continuous).\n",
      "└ @ MLJBase /home/andrew/.julia/packages/MLJBase/uKzAz/src/machines.jl:77\n",
      "┌ Warning: The scitype of `X`, in `machine(model, X, ...)` is incompatible with `model=\u001b[34mKNNClassifier @021\u001b[39m`:\n",
      "│ scitype(X) = Table{Union{AbstractArray{Continuous,1}, AbstractArray{Count,1}}}\n",
      "│ input_scitype(model) = Table{var\"#s44\"} where var\"#s44\"<:(AbstractArray{var\"#s13\",1} where var\"#s13\"<:Continuous).\n",
      "└ @ MLJBase /home/andrew/.julia/packages/MLJBase/uKzAz/src/machines.jl:77\n",
      "┌ Warning: The scitype of `X`, in `machine(model, X, ...)` is incompatible with `model=\u001b[34mKNNClassifier @021\u001b[39m`:\n",
      "│ scitype(X) = Table{Union{AbstractArray{Continuous,1}, AbstractArray{Count,1}}}\n",
      "│ input_scitype(model) = Table{var\"#s44\"} where var\"#s44\"<:(AbstractArray{var\"#s13\",1} where var\"#s13\"<:Continuous).\n",
      "└ @ MLJBase /home/andrew/.julia/packages/MLJBase/uKzAz/src/machines.jl:77\n",
      "┌ Warning: The scitype of `X`, in `machine(model, X, ...)` is incompatible with `model=\u001b[34mKNNClassifier @021\u001b[39m`:\n",
      "│ scitype(X) = Table{Union{AbstractArray{Continuous,1}, AbstractArray{Count,1}}}\n",
      "│ input_scitype(model) = Table{var\"#s44\"} where var\"#s44\"<:(AbstractArray{var\"#s13\",1} where var\"#s13\"<:Continuous).\n",
      "└ @ MLJBase /home/andrew/.julia/packages/MLJBase/uKzAz/src/machines.jl:77\n",
      "┌ Warning: The scitype of `X`, in `machine(model, X, ...)` is incompatible with `model=\u001b[34mKNNClassifier @021\u001b[39m`:\n",
      "│ scitype(X) = Table{Union{AbstractArray{Continuous,1}, AbstractArray{Count,1}}}\n",
      "│ input_scitype(model) = Table{var\"#s44\"} where var\"#s44\"<:(AbstractArray{var\"#s13\",1} where var\"#s13\"<:Continuous).\n",
      "└ @ MLJBase /home/andrew/.julia/packages/MLJBase/uKzAz/src/machines.jl:77\n",
      "┌ Warning: The scitype of `X`, in `machine(model, X, ...)` is incompatible with `model=\u001b[34mKNNClassifier @021\u001b[39m`:\n",
      "│ scitype(X) = Table{Union{AbstractArray{Continuous,1}, AbstractArray{Count,1}}}\n",
      "│ input_scitype(model) = Table{var\"#s44\"} where var\"#s44\"<:(AbstractArray{var\"#s13\",1} where var\"#s13\"<:Continuous).\n",
      "└ @ MLJBase /home/andrew/.julia/packages/MLJBase/uKzAz/src/machines.jl:77\n",
      "┌ Warning: The scitype of `X`, in `machine(model, X, ...)` is incompatible with `model=\u001b[34mKNNClassifier @021\u001b[39m`:\n",
      "│ scitype(X) = Table{Union{AbstractArray{Continuous,1}, AbstractArray{Count,1}}}\n",
      "│ input_scitype(model) = Table{var\"#s44\"} where var\"#s44\"<:(AbstractArray{var\"#s13\",1} where var\"#s13\"<:Continuous).\n",
      "└ @ MLJBase /home/andrew/.julia/packages/MLJBase/uKzAz/src/machines.jl:77\n",
      "┌ Warning: The scitype of `X`, in `machine(model, X, ...)` is incompatible with `model=\u001b[34mKNNClassifier @021\u001b[39m`:\n",
      "│ scitype(X) = Table{Union{AbstractArray{Continuous,1}, AbstractArray{Count,1}}}\n",
      "│ input_scitype(model) = Table{var\"#s44\"} where var\"#s44\"<:(AbstractArray{var\"#s13\",1} where var\"#s13\"<:Continuous).\n",
      "└ @ MLJBase /home/andrew/.julia/packages/MLJBase/uKzAz/src/machines.jl:77\n",
      "┌ Warning: The scitype of `X`, in `machine(model, X, ...)` is incompatible with `model=\u001b[34mKNNClassifier @021\u001b[39m`:\n",
      "│ scitype(X) = Table{Union{AbstractArray{Continuous,1}, AbstractArray{Count,1}}}\n",
      "│ input_scitype(model) = Table{var\"#s44\"} where var\"#s44\"<:(AbstractArray{var\"#s13\",1} where var\"#s13\"<:Continuous).\n",
      "└ @ MLJBase /home/andrew/.julia/packages/MLJBase/uKzAz/src/machines.jl:77\n",
      "┌ Warning: The scitype of `X`, in `machine(model, X, ...)` is incompatible with `model=\u001b[34mKNNClassifier @021\u001b[39m`:\n",
      "│ scitype(X) = Table{Union{AbstractArray{Continuous,1}, AbstractArray{Count,1}}}\n",
      "│ input_scitype(model) = Table{var\"#s44\"} where var\"#s44\"<:(AbstractArray{var\"#s13\",1} where var\"#s13\"<:Continuous).\n",
      "└ @ MLJBase /home/andrew/.julia/packages/MLJBase/uKzAz/src/machines.jl:77\n",
      "┌ Warning: The scitype of `X`, in `machine(model, X, ...)` is incompatible with `model=\u001b[34mKNNClassifier @021\u001b[39m`:\n",
      "│ scitype(X) = Table{Union{AbstractArray{Continuous,1}, AbstractArray{Count,1}}}\n",
      "│ input_scitype(model) = Table{var\"#s44\"} where var\"#s44\"<:(AbstractArray{var\"#s13\",1} where var\"#s13\"<:Continuous).\n",
      "└ @ MLJBase /home/andrew/.julia/packages/MLJBase/uKzAz/src/machines.jl:77\n",
      "┌ Warning: The scitype of `X`, in `machine(model, X, ...)` is incompatible with `model=\u001b[34mKNNClassifier @021\u001b[39m`:\n",
      "│ scitype(X) = Table{Union{AbstractArray{Continuous,1}, AbstractArray{Count,1}}}\n",
      "│ input_scitype(model) = Table{var\"#s44\"} where var\"#s44\"<:(AbstractArray{var\"#s13\",1} where var\"#s13\"<:Continuous).\n",
      "└ @ MLJBase /home/andrew/.julia/packages/MLJBase/uKzAz/src/machines.jl:77\n",
      "┌ Warning: The scitype of `X`, in `machine(model, X, ...)` is incompatible with `model=\u001b[34mKNNClassifier @021\u001b[39m`:\n",
      "│ scitype(X) = Table{Union{AbstractArray{Continuous,1}, AbstractArray{Count,1}}}\n",
      "│ input_scitype(model) = Table{var\"#s44\"} where var\"#s44\"<:(AbstractArray{var\"#s13\",1} where var\"#s13\"<:Continuous).\n",
      "└ @ MLJBase /home/andrew/.julia/packages/MLJBase/uKzAz/src/machines.jl:77\n"
     ]
    },
    {
     "name": "stdout",
     "output_type": "stream",
     "text": [
      "(d, train_metric, valid_metric) = (325, 0.8861538461538462, 0.7905405405405406)\n",
      "(d, train_metric, valid_metric) = (330, 0.8878787878787879, 0.7972972972972973)\n",
      "(d, train_metric, valid_metric) = (335, 0.8835820895522388, 0.7972972972972973)\n",
      "(d, train_metric, valid_metric) = (340, 0.8823529411764706, 0.7972972972972973)\n",
      "(d, train_metric, valid_metric) = (345, 0.8782608695652174, 0.7905405405405406)\n",
      "(d, train_metric, valid_metric) = (350, 0.8828571428571429, 0.7905405405405406)\n",
      "(d, train_metric, valid_metric) = (355, 0.8816901408450705, 0.7972972972972973)\n",
      "(d, train_metric, valid_metric) = (360, 0.8805555555555555, 0.8040540540540541)\n",
      "(d, train_metric, valid_metric) = (365, 0.8767123287671232, 0.8108108108108109)\n",
      "(d, train_metric, valid_metric) = (370, 0.8837837837837837, 0.8108108108108109)\n",
      "(d, train_metric, valid_metric) = (375, 0.8906666666666667, 0.8243243243243243)\n",
      "(d, train_metric, valid_metric) = (380, 0.8947368421052632, 0.8243243243243243)\n",
      "(d, train_metric, valid_metric) = (385, 0.8909090909090909, 0.8243243243243243)\n",
      "(d, train_metric, valid_metric) = (390, 0.8948717948717949, 0.8175675675675675)\n",
      "(d, train_metric, valid_metric) = (395, 0.8911392405063291, 0.8243243243243243)\n",
      "(d, train_metric, valid_metric) = (400, 0.895, 0.8243243243243243)\n"
     ]
    },
    {
     "name": "stderr",
     "output_type": "stream",
     "text": [
      "┌ Warning: The scitype of `X`, in `machine(model, X, ...)` is incompatible with `model=\u001b[34mKNNClassifier @021\u001b[39m`:\n",
      "│ scitype(X) = Table{Union{AbstractArray{Continuous,1}, AbstractArray{Count,1}}}\n",
      "│ input_scitype(model) = Table{var\"#s44\"} where var\"#s44\"<:(AbstractArray{var\"#s13\",1} where var\"#s13\"<:Continuous).\n",
      "└ @ MLJBase /home/andrew/.julia/packages/MLJBase/uKzAz/src/machines.jl:77\n",
      "┌ Warning: The scitype of `X`, in `machine(model, X, ...)` is incompatible with `model=\u001b[34mKNNClassifier @021\u001b[39m`:\n",
      "│ scitype(X) = Table{Union{AbstractArray{Continuous,1}, AbstractArray{Count,1}}}\n",
      "│ input_scitype(model) = Table{var\"#s44\"} where var\"#s44\"<:(AbstractArray{var\"#s13\",1} where var\"#s13\"<:Continuous).\n",
      "└ @ MLJBase /home/andrew/.julia/packages/MLJBase/uKzAz/src/machines.jl:77\n",
      "┌ Warning: The scitype of `X`, in `machine(model, X, ...)` is incompatible with `model=\u001b[34mKNNClassifier @021\u001b[39m`:\n",
      "│ scitype(X) = Table{Union{AbstractArray{Continuous,1}, AbstractArray{Count,1}}}\n",
      "│ input_scitype(model) = Table{var\"#s44\"} where var\"#s44\"<:(AbstractArray{var\"#s13\",1} where var\"#s13\"<:Continuous).\n",
      "└ @ MLJBase /home/andrew/.julia/packages/MLJBase/uKzAz/src/machines.jl:77\n",
      "┌ Warning: The scitype of `X`, in `machine(model, X, ...)` is incompatible with `model=\u001b[34mKNNClassifier @021\u001b[39m`:\n",
      "│ scitype(X) = Table{Union{AbstractArray{Continuous,1}, AbstractArray{Count,1}}}\n",
      "│ input_scitype(model) = Table{var\"#s44\"} where var\"#s44\"<:(AbstractArray{var\"#s13\",1} where var\"#s13\"<:Continuous).\n",
      "└ @ MLJBase /home/andrew/.julia/packages/MLJBase/uKzAz/src/machines.jl:77\n",
      "┌ Warning: The scitype of `X`, in `machine(model, X, ...)` is incompatible with `model=\u001b[34mKNNClassifier @021\u001b[39m`:\n",
      "│ scitype(X) = Table{Union{AbstractArray{Continuous,1}, AbstractArray{Count,1}}}\n",
      "│ input_scitype(model) = Table{var\"#s44\"} where var\"#s44\"<:(AbstractArray{var\"#s13\",1} where var\"#s13\"<:Continuous).\n",
      "└ @ MLJBase /home/andrew/.julia/packages/MLJBase/uKzAz/src/machines.jl:77\n",
      "┌ Warning: The scitype of `X`, in `machine(model, X, ...)` is incompatible with `model=\u001b[34mKNNClassifier @021\u001b[39m`:\n",
      "│ scitype(X) = Table{Union{AbstractArray{Continuous,1}, AbstractArray{Count,1}}}\n",
      "│ input_scitype(model) = Table{var\"#s44\"} where var\"#s44\"<:(AbstractArray{var\"#s13\",1} where var\"#s13\"<:Continuous).\n",
      "└ @ MLJBase /home/andrew/.julia/packages/MLJBase/uKzAz/src/machines.jl:77\n",
      "┌ Warning: The scitype of `X`, in `machine(model, X, ...)` is incompatible with `model=\u001b[34mKNNClassifier @021\u001b[39m`:\n",
      "│ scitype(X) = Table{Union{AbstractArray{Continuous,1}, AbstractArray{Count,1}}}\n",
      "│ input_scitype(model) = Table{var\"#s44\"} where var\"#s44\"<:(AbstractArray{var\"#s13\",1} where var\"#s13\"<:Continuous).\n",
      "└ @ MLJBase /home/andrew/.julia/packages/MLJBase/uKzAz/src/machines.jl:77\n",
      "┌ Warning: The scitype of `X`, in `machine(model, X, ...)` is incompatible with `model=\u001b[34mKNNClassifier @021\u001b[39m`:\n",
      "│ scitype(X) = Table{Union{AbstractArray{Continuous,1}, AbstractArray{Count,1}}}\n",
      "│ input_scitype(model) = Table{var\"#s44\"} where var\"#s44\"<:(AbstractArray{var\"#s13\",1} where var\"#s13\"<:Continuous).\n",
      "└ @ MLJBase /home/andrew/.julia/packages/MLJBase/uKzAz/src/machines.jl:77\n",
      "┌ Warning: The scitype of `X`, in `machine(model, X, ...)` is incompatible with `model=\u001b[34mKNNClassifier @021\u001b[39m`:\n",
      "│ scitype(X) = Table{Union{AbstractArray{Continuous,1}, AbstractArray{Count,1}}}\n",
      "│ input_scitype(model) = Table{var\"#s44\"} where var\"#s44\"<:(AbstractArray{var\"#s13\",1} where var\"#s13\"<:Continuous).\n",
      "└ @ MLJBase /home/andrew/.julia/packages/MLJBase/uKzAz/src/machines.jl:77\n",
      "┌ Warning: The scitype of `X`, in `machine(model, X, ...)` is incompatible with `model=\u001b[34mKNNClassifier @021\u001b[39m`:\n",
      "│ scitype(X) = Table{Union{AbstractArray{Continuous,1}, AbstractArray{Count,1}}}\n",
      "│ input_scitype(model) = Table{var\"#s44\"} where var\"#s44\"<:(AbstractArray{var\"#s13\",1} where var\"#s13\"<:Continuous).\n",
      "└ @ MLJBase /home/andrew/.julia/packages/MLJBase/uKzAz/src/machines.jl:77\n",
      "┌ Warning: The scitype of `X`, in `machine(model, X, ...)` is incompatible with `model=\u001b[34mKNNClassifier @021\u001b[39m`:\n",
      "│ scitype(X) = Table{Union{AbstractArray{Continuous,1}, AbstractArray{Count,1}}}\n",
      "│ input_scitype(model) = Table{var\"#s44\"} where var\"#s44\"<:(AbstractArray{var\"#s13\",1} where var\"#s13\"<:Continuous).\n",
      "└ @ MLJBase /home/andrew/.julia/packages/MLJBase/uKzAz/src/machines.jl:77\n",
      "┌ Warning: The scitype of `X`, in `machine(model, X, ...)` is incompatible with `model=\u001b[34mKNNClassifier @021\u001b[39m`:\n",
      "│ scitype(X) = Table{Union{AbstractArray{Continuous,1}, AbstractArray{Count,1}}}\n",
      "│ input_scitype(model) = Table{var\"#s44\"} where var\"#s44\"<:(AbstractArray{var\"#s13\",1} where var\"#s13\"<:Continuous).\n",
      "└ @ MLJBase /home/andrew/.julia/packages/MLJBase/uKzAz/src/machines.jl:77\n",
      "┌ Warning: The scitype of `X`, in `machine(model, X, ...)` is incompatible with `model=\u001b[34mKNNClassifier @021\u001b[39m`:\n",
      "│ scitype(X) = Table{Union{AbstractArray{Continuous,1}, AbstractArray{Count,1}}}\n",
      "│ input_scitype(model) = Table{var\"#s44\"} where var\"#s44\"<:(AbstractArray{var\"#s13\",1} where var\"#s13\"<:Continuous).\n",
      "└ @ MLJBase /home/andrew/.julia/packages/MLJBase/uKzAz/src/machines.jl:77\n",
      "┌ Warning: The scitype of `X`, in `machine(model, X, ...)` is incompatible with `model=\u001b[34mKNNClassifier @021\u001b[39m`:\n",
      "│ scitype(X) = Table{Union{AbstractArray{Continuous,1}, AbstractArray{Count,1}}}\n",
      "│ input_scitype(model) = Table{var\"#s44\"} where var\"#s44\"<:(AbstractArray{var\"#s13\",1} where var\"#s13\"<:Continuous).\n",
      "└ @ MLJBase /home/andrew/.julia/packages/MLJBase/uKzAz/src/machines.jl:77\n",
      "┌ Warning: The scitype of `X`, in `machine(model, X, ...)` is incompatible with `model=\u001b[34mKNNClassifier @021\u001b[39m`:\n",
      "│ scitype(X) = Table{Union{AbstractArray{Continuous,1}, AbstractArray{Count,1}}}\n",
      "│ input_scitype(model) = Table{var\"#s44\"} where var\"#s44\"<:(AbstractArray{var\"#s13\",1} where var\"#s13\"<:Continuous).\n",
      "└ @ MLJBase /home/andrew/.julia/packages/MLJBase/uKzAz/src/machines.jl:77\n",
      "┌ Warning: The scitype of `X`, in `machine(model, X, ...)` is incompatible with `model=\u001b[34mKNNClassifier @021\u001b[39m`:\n",
      "│ scitype(X) = Table{Union{AbstractArray{Continuous,1}, AbstractArray{Count,1}}}\n",
      "│ input_scitype(model) = Table{var\"#s44\"} where var\"#s44\"<:(AbstractArray{var\"#s13\",1} where var\"#s13\"<:Continuous).\n",
      "└ @ MLJBase /home/andrew/.julia/packages/MLJBase/uKzAz/src/machines.jl:77\n"
     ]
    },
    {
     "name": "stdout",
     "output_type": "stream",
     "text": [
      "(d, train_metric, valid_metric) = (405, 0.891358024691358, 0.831081081081081)\n",
      "(d, train_metric, valid_metric) = (410, 0.8926829268292683, 0.831081081081081)\n",
      "(d, train_metric, valid_metric) = (415, 0.8939759036144578, 0.831081081081081)\n",
      "(d, train_metric, valid_metric) = (420, 0.8928571428571429, 0.831081081081081)\n",
      "(d, train_metric, valid_metric) = (425, 0.8894117647058823, 0.831081081081081)\n",
      "(d, train_metric, valid_metric) = (430, 0.8906976744186047, 0.831081081081081)\n",
      "(d, train_metric, valid_metric) = (435, 0.896551724137931, 0.8445945945945946)\n",
      "(d, train_metric, valid_metric) = (440, 0.9, 0.8378378378378378)\n",
      "(d, train_metric, valid_metric) = (445, 0.9011235955056179, 0.8378378378378378)\n",
      "(d, train_metric, valid_metric) = (450, 0.9022222222222223, 0.8513513513513513)\n",
      "(d, train_metric, valid_metric) = (455, 0.9032967032967033, 0.8513513513513513)\n",
      "(d, train_metric, valid_metric) = (460, 0.9, 0.8513513513513513)\n",
      "(d, train_metric, valid_metric) = (465, 0.9010752688172043, 0.8513513513513513)\n",
      "(d, train_metric, valid_metric) = (470, 0.8978723404255319, 0.831081081081081)\n"
     ]
    },
    {
     "name": "stderr",
     "output_type": "stream",
     "text": [
      "┌ Warning: The scitype of `X`, in `machine(model, X, ...)` is incompatible with `model=\u001b[34mKNNClassifier @021\u001b[39m`:\n",
      "│ scitype(X) = Table{Union{AbstractArray{Continuous,1}, AbstractArray{Count,1}}}\n",
      "│ input_scitype(model) = Table{var\"#s44\"} where var\"#s44\"<:(AbstractArray{var\"#s13\",1} where var\"#s13\"<:Continuous).\n",
      "└ @ MLJBase /home/andrew/.julia/packages/MLJBase/uKzAz/src/machines.jl:77\n",
      "┌ Warning: The scitype of `X`, in `machine(model, X, ...)` is incompatible with `model=\u001b[34mKNNClassifier @021\u001b[39m`:\n",
      "│ scitype(X) = Table{Union{AbstractArray{Continuous,1}, AbstractArray{Count,1}}}\n",
      "│ input_scitype(model) = Table{var\"#s44\"} where var\"#s44\"<:(AbstractArray{var\"#s13\",1} where var\"#s13\"<:Continuous).\n",
      "└ @ MLJBase /home/andrew/.julia/packages/MLJBase/uKzAz/src/machines.jl:77\n",
      "┌ Warning: The scitype of `X`, in `machine(model, X, ...)` is incompatible with `model=\u001b[34mKNNClassifier @021\u001b[39m`:\n",
      "│ scitype(X) = Table{Union{AbstractArray{Continuous,1}, AbstractArray{Count,1}}}\n",
      "│ input_scitype(model) = Table{var\"#s44\"} where var\"#s44\"<:(AbstractArray{var\"#s13\",1} where var\"#s13\"<:Continuous).\n",
      "└ @ MLJBase /home/andrew/.julia/packages/MLJBase/uKzAz/src/machines.jl:77\n",
      "┌ Warning: The scitype of `X`, in `machine(model, X, ...)` is incompatible with `model=\u001b[34mKNNClassifier @021\u001b[39m`:\n",
      "│ scitype(X) = Table{Union{AbstractArray{Continuous,1}, AbstractArray{Count,1}}}\n",
      "│ input_scitype(model) = Table{var\"#s44\"} where var\"#s44\"<:(AbstractArray{var\"#s13\",1} where var\"#s13\"<:Continuous).\n",
      "└ @ MLJBase /home/andrew/.julia/packages/MLJBase/uKzAz/src/machines.jl:77\n",
      "┌ Warning: The scitype of `X`, in `machine(model, X, ...)` is incompatible with `model=\u001b[34mKNNClassifier @021\u001b[39m`:\n",
      "│ scitype(X) = Table{Union{AbstractArray{Continuous,1}, AbstractArray{Count,1}}}\n",
      "│ input_scitype(model) = Table{var\"#s44\"} where var\"#s44\"<:(AbstractArray{var\"#s13\",1} where var\"#s13\"<:Continuous).\n",
      "└ @ MLJBase /home/andrew/.julia/packages/MLJBase/uKzAz/src/machines.jl:77\n",
      "┌ Warning: The scitype of `X`, in `machine(model, X, ...)` is incompatible with `model=\u001b[34mKNNClassifier @021\u001b[39m`:\n",
      "│ scitype(X) = Table{Union{AbstractArray{Continuous,1}, AbstractArray{Count,1}}}\n",
      "│ input_scitype(model) = Table{var\"#s44\"} where var\"#s44\"<:(AbstractArray{var\"#s13\",1} where var\"#s13\"<:Continuous).\n",
      "└ @ MLJBase /home/andrew/.julia/packages/MLJBase/uKzAz/src/machines.jl:77\n",
      "┌ Warning: The scitype of `X`, in `machine(model, X, ...)` is incompatible with `model=\u001b[34mKNNClassifier @021\u001b[39m`:\n",
      "│ scitype(X) = Table{Union{AbstractArray{Continuous,1}, AbstractArray{Count,1}}}\n",
      "│ input_scitype(model) = Table{var\"#s44\"} where var\"#s44\"<:(AbstractArray{var\"#s13\",1} where var\"#s13\"<:Continuous).\n",
      "└ @ MLJBase /home/andrew/.julia/packages/MLJBase/uKzAz/src/machines.jl:77\n",
      "┌ Warning: The scitype of `X`, in `machine(model, X, ...)` is incompatible with `model=\u001b[34mKNNClassifier @021\u001b[39m`:\n",
      "│ scitype(X) = Table{Union{AbstractArray{Continuous,1}, AbstractArray{Count,1}}}\n",
      "│ input_scitype(model) = Table{var\"#s44\"} where var\"#s44\"<:(AbstractArray{var\"#s13\",1} where var\"#s13\"<:Continuous).\n",
      "└ @ MLJBase /home/andrew/.julia/packages/MLJBase/uKzAz/src/machines.jl:77\n",
      "┌ Warning: The scitype of `X`, in `machine(model, X, ...)` is incompatible with `model=\u001b[34mKNNClassifier @021\u001b[39m`:\n",
      "│ scitype(X) = Table{Union{AbstractArray{Continuous,1}, AbstractArray{Count,1}}}\n",
      "│ input_scitype(model) = Table{var\"#s44\"} where var\"#s44\"<:(AbstractArray{var\"#s13\",1} where var\"#s13\"<:Continuous).\n",
      "└ @ MLJBase /home/andrew/.julia/packages/MLJBase/uKzAz/src/machines.jl:77\n",
      "┌ Warning: The scitype of `X`, in `machine(model, X, ...)` is incompatible with `model=\u001b[34mKNNClassifier @021\u001b[39m`:\n",
      "│ scitype(X) = Table{Union{AbstractArray{Continuous,1}, AbstractArray{Count,1}}}\n",
      "│ input_scitype(model) = Table{var\"#s44\"} where var\"#s44\"<:(AbstractArray{var\"#s13\",1} where var\"#s13\"<:Continuous).\n",
      "└ @ MLJBase /home/andrew/.julia/packages/MLJBase/uKzAz/src/machines.jl:77\n",
      "┌ Warning: The scitype of `X`, in `machine(model, X, ...)` is incompatible with `model=\u001b[34mKNNClassifier @021\u001b[39m`:\n",
      "│ scitype(X) = Table{Union{AbstractArray{Continuous,1}, AbstractArray{Count,1}}}\n",
      "│ input_scitype(model) = Table{var\"#s44\"} where var\"#s44\"<:(AbstractArray{var\"#s13\",1} where var\"#s13\"<:Continuous).\n",
      "└ @ MLJBase /home/andrew/.julia/packages/MLJBase/uKzAz/src/machines.jl:77\n",
      "┌ Warning: The scitype of `X`, in `machine(model, X, ...)` is incompatible with `model=\u001b[34mKNNClassifier @021\u001b[39m`:\n",
      "│ scitype(X) = Table{Union{AbstractArray{Continuous,1}, AbstractArray{Count,1}}}\n",
      "│ input_scitype(model) = Table{var\"#s44\"} where var\"#s44\"<:(AbstractArray{var\"#s13\",1} where var\"#s13\"<:Continuous).\n",
      "└ @ MLJBase /home/andrew/.julia/packages/MLJBase/uKzAz/src/machines.jl:77\n",
      "┌ Warning: The scitype of `X`, in `machine(model, X, ...)` is incompatible with `model=\u001b[34mKNNClassifier @021\u001b[39m`:\n",
      "│ scitype(X) = Table{Union{AbstractArray{Continuous,1}, AbstractArray{Count,1}}}\n",
      "│ input_scitype(model) = Table{var\"#s44\"} where var\"#s44\"<:(AbstractArray{var\"#s13\",1} where var\"#s13\"<:Continuous).\n",
      "└ @ MLJBase /home/andrew/.julia/packages/MLJBase/uKzAz/src/machines.jl:77\n",
      "┌ Warning: The scitype of `X`, in `machine(model, X, ...)` is incompatible with `model=\u001b[34mKNNClassifier @021\u001b[39m`:\n",
      "│ scitype(X) = Table{Union{AbstractArray{Continuous,1}, AbstractArray{Count,1}}}\n",
      "│ input_scitype(model) = Table{var\"#s44\"} where var\"#s44\"<:(AbstractArray{var\"#s13\",1} where var\"#s13\"<:Continuous).\n",
      "└ @ MLJBase /home/andrew/.julia/packages/MLJBase/uKzAz/src/machines.jl:77\n"
     ]
    },
    {
     "name": "stdout",
     "output_type": "stream",
     "text": [
      "(d, train_metric, valid_metric) = (475, 0.8989473684210526, 0.8378378378378378)\n",
      "(d, train_metric, valid_metric) = (480, 0.8979166666666667, 0.8378378378378378)\n",
      "(d, train_metric, valid_metric) = (485, 0.8969072164948454, 0.8378378378378378)\n",
      "(d, train_metric, valid_metric) = (490, 0.8959183673469387, 0.8378378378378378)\n",
      "(d, train_metric, valid_metric) = (495, 0.896969696969697, 0.8378378378378378)\n",
      "(d, train_metric, valid_metric) = (500, 0.898, 0.831081081081081)\n",
      "(d, train_metric, valid_metric) = (505, 0.899009900990099, 0.831081081081081)\n",
      "(d, train_metric, valid_metric) = (510, 0.903921568627451, 0.8378378378378378)\n",
      "(d, train_metric, valid_metric) = (515, 0.9009708737864077, 0.8378378378378378)\n",
      "(d, train_metric, valid_metric) = (520, 0.9019230769230769, 0.8378378378378378)\n",
      "(d, train_metric, valid_metric) = (525, 0.9028571428571428, 0.8581081081081081)\n",
      "(d, train_metric, valid_metric) = (530, 0.9018867924528302, 0.8581081081081081)\n"
     ]
    },
    {
     "name": "stderr",
     "output_type": "stream",
     "text": [
      "┌ Warning: The scitype of `X`, in `machine(model, X, ...)` is incompatible with `model=\u001b[34mKNNClassifier @021\u001b[39m`:\n",
      "│ scitype(X) = Table{Union{AbstractArray{Continuous,1}, AbstractArray{Count,1}}}\n",
      "│ input_scitype(model) = Table{var\"#s44\"} where var\"#s44\"<:(AbstractArray{var\"#s13\",1} where var\"#s13\"<:Continuous).\n",
      "└ @ MLJBase /home/andrew/.julia/packages/MLJBase/uKzAz/src/machines.jl:77\n",
      "┌ Warning: The scitype of `X`, in `machine(model, X, ...)` is incompatible with `model=\u001b[34mKNNClassifier @021\u001b[39m`:\n",
      "│ scitype(X) = Table{Union{AbstractArray{Continuous,1}, AbstractArray{Count,1}}}\n",
      "│ input_scitype(model) = Table{var\"#s44\"} where var\"#s44\"<:(AbstractArray{var\"#s13\",1} where var\"#s13\"<:Continuous).\n",
      "└ @ MLJBase /home/andrew/.julia/packages/MLJBase/uKzAz/src/machines.jl:77\n",
      "┌ Warning: The scitype of `X`, in `machine(model, X, ...)` is incompatible with `model=\u001b[34mKNNClassifier @021\u001b[39m`:\n",
      "│ scitype(X) = Table{Union{AbstractArray{Continuous,1}, AbstractArray{Count,1}}}\n",
      "│ input_scitype(model) = Table{var\"#s44\"} where var\"#s44\"<:(AbstractArray{var\"#s13\",1} where var\"#s13\"<:Continuous).\n",
      "└ @ MLJBase /home/andrew/.julia/packages/MLJBase/uKzAz/src/machines.jl:77\n",
      "┌ Warning: The scitype of `X`, in `machine(model, X, ...)` is incompatible with `model=\u001b[34mKNNClassifier @021\u001b[39m`:\n",
      "│ scitype(X) = Table{Union{AbstractArray{Continuous,1}, AbstractArray{Count,1}}}\n",
      "│ input_scitype(model) = Table{var\"#s44\"} where var\"#s44\"<:(AbstractArray{var\"#s13\",1} where var\"#s13\"<:Continuous).\n",
      "└ @ MLJBase /home/andrew/.julia/packages/MLJBase/uKzAz/src/machines.jl:77\n",
      "┌ Warning: The scitype of `X`, in `machine(model, X, ...)` is incompatible with `model=\u001b[34mKNNClassifier @021\u001b[39m`:\n",
      "│ scitype(X) = Table{Union{AbstractArray{Continuous,1}, AbstractArray{Count,1}}}\n",
      "│ input_scitype(model) = Table{var\"#s44\"} where var\"#s44\"<:(AbstractArray{var\"#s13\",1} where var\"#s13\"<:Continuous).\n",
      "└ @ MLJBase /home/andrew/.julia/packages/MLJBase/uKzAz/src/machines.jl:77\n",
      "┌ Warning: The scitype of `X`, in `machine(model, X, ...)` is incompatible with `model=\u001b[34mKNNClassifier @021\u001b[39m`:\n",
      "│ scitype(X) = Table{Union{AbstractArray{Continuous,1}, AbstractArray{Count,1}}}\n",
      "│ input_scitype(model) = Table{var\"#s44\"} where var\"#s44\"<:(AbstractArray{var\"#s13\",1} where var\"#s13\"<:Continuous).\n",
      "└ @ MLJBase /home/andrew/.julia/packages/MLJBase/uKzAz/src/machines.jl:77\n",
      "┌ Warning: The scitype of `X`, in `machine(model, X, ...)` is incompatible with `model=\u001b[34mKNNClassifier @021\u001b[39m`:\n",
      "│ scitype(X) = Table{Union{AbstractArray{Continuous,1}, AbstractArray{Count,1}}}\n",
      "│ input_scitype(model) = Table{var\"#s44\"} where var\"#s44\"<:(AbstractArray{var\"#s13\",1} where var\"#s13\"<:Continuous).\n",
      "└ @ MLJBase /home/andrew/.julia/packages/MLJBase/uKzAz/src/machines.jl:77\n",
      "┌ Warning: The scitype of `X`, in `machine(model, X, ...)` is incompatible with `model=\u001b[34mKNNClassifier @021\u001b[39m`:\n",
      "│ scitype(X) = Table{Union{AbstractArray{Continuous,1}, AbstractArray{Count,1}}}\n",
      "│ input_scitype(model) = Table{var\"#s44\"} where var\"#s44\"<:(AbstractArray{var\"#s13\",1} where var\"#s13\"<:Continuous).\n",
      "└ @ MLJBase /home/andrew/.julia/packages/MLJBase/uKzAz/src/machines.jl:77\n",
      "┌ Warning: The scitype of `X`, in `machine(model, X, ...)` is incompatible with `model=\u001b[34mKNNClassifier @021\u001b[39m`:\n",
      "│ scitype(X) = Table{Union{AbstractArray{Continuous,1}, AbstractArray{Count,1}}}\n",
      "│ input_scitype(model) = Table{var\"#s44\"} where var\"#s44\"<:(AbstractArray{var\"#s13\",1} where var\"#s13\"<:Continuous).\n",
      "└ @ MLJBase /home/andrew/.julia/packages/MLJBase/uKzAz/src/machines.jl:77\n",
      "┌ Warning: The scitype of `X`, in `machine(model, X, ...)` is incompatible with `model=\u001b[34mKNNClassifier @021\u001b[39m`:\n",
      "│ scitype(X) = Table{Union{AbstractArray{Continuous,1}, AbstractArray{Count,1}}}\n",
      "│ input_scitype(model) = Table{var\"#s44\"} where var\"#s44\"<:(AbstractArray{var\"#s13\",1} where var\"#s13\"<:Continuous).\n",
      "└ @ MLJBase /home/andrew/.julia/packages/MLJBase/uKzAz/src/machines.jl:77\n",
      "┌ Warning: The scitype of `X`, in `machine(model, X, ...)` is incompatible with `model=\u001b[34mKNNClassifier @021\u001b[39m`:\n",
      "│ scitype(X) = Table{Union{AbstractArray{Continuous,1}, AbstractArray{Count,1}}}\n",
      "│ input_scitype(model) = Table{var\"#s44\"} where var\"#s44\"<:(AbstractArray{var\"#s13\",1} where var\"#s13\"<:Continuous).\n",
      "└ @ MLJBase /home/andrew/.julia/packages/MLJBase/uKzAz/src/machines.jl:77\n",
      "┌ Warning: The scitype of `X`, in `machine(model, X, ...)` is incompatible with `model=\u001b[34mKNNClassifier @021\u001b[39m`:\n",
      "│ scitype(X) = Table{Union{AbstractArray{Continuous,1}, AbstractArray{Count,1}}}\n",
      "│ input_scitype(model) = Table{var\"#s44\"} where var\"#s44\"<:(AbstractArray{var\"#s13\",1} where var\"#s13\"<:Continuous).\n",
      "└ @ MLJBase /home/andrew/.julia/packages/MLJBase/uKzAz/src/machines.jl:77\n"
     ]
    },
    {
     "name": "stdout",
     "output_type": "stream",
     "text": [
      "(d, train_metric, valid_metric) = (535, 0.9009345794392524, 0.8581081081081081)\n",
      "(d, train_metric, valid_metric) = (540, 0.9, 0.8581081081081081)\n",
      "(d, train_metric, valid_metric) = (545, 0.9027522935779817, 0.8581081081081081)\n",
      "(d, train_metric, valid_metric) = (550, 0.9054545454545454, 0.8581081081081081)\n",
      "(d, train_metric, valid_metric) = (555, 0.9045045045045045, 0.8581081081081081)\n",
      "(d, train_metric, valid_metric) = (560, 0.9071428571428571, 0.8581081081081081)\n",
      "(d, train_metric, valid_metric) = (565, 0.9061946902654867, 0.8648648648648649)\n",
      "(d, train_metric, valid_metric) = (570, 0.9070175438596492, 0.8581081081081081)\n"
     ]
    },
    {
     "name": "stderr",
     "output_type": "stream",
     "text": [
      "┌ Warning: The scitype of `X`, in `machine(model, X, ...)` is incompatible with `model=\u001b[34mKNNClassifier @021\u001b[39m`:\n",
      "│ scitype(X) = Table{Union{AbstractArray{Continuous,1}, AbstractArray{Count,1}}}\n",
      "│ input_scitype(model) = Table{var\"#s44\"} where var\"#s44\"<:(AbstractArray{var\"#s13\",1} where var\"#s13\"<:Continuous).\n",
      "└ @ MLJBase /home/andrew/.julia/packages/MLJBase/uKzAz/src/machines.jl:77\n",
      "┌ Warning: The scitype of `X`, in `machine(model, X, ...)` is incompatible with `model=\u001b[34mKNNClassifier @021\u001b[39m`:\n",
      "│ scitype(X) = Table{Union{AbstractArray{Continuous,1}, AbstractArray{Count,1}}}\n",
      "│ input_scitype(model) = Table{var\"#s44\"} where var\"#s44\"<:(AbstractArray{var\"#s13\",1} where var\"#s13\"<:Continuous).\n",
      "└ @ MLJBase /home/andrew/.julia/packages/MLJBase/uKzAz/src/machines.jl:77\n",
      "┌ Warning: The scitype of `X`, in `machine(model, X, ...)` is incompatible with `model=\u001b[34mKNNClassifier @021\u001b[39m`:\n",
      "│ scitype(X) = Table{Union{AbstractArray{Continuous,1}, AbstractArray{Count,1}}}\n",
      "│ input_scitype(model) = Table{var\"#s44\"} where var\"#s44\"<:(AbstractArray{var\"#s13\",1} where var\"#s13\"<:Continuous).\n",
      "└ @ MLJBase /home/andrew/.julia/packages/MLJBase/uKzAz/src/machines.jl:77\n",
      "┌ Warning: The scitype of `X`, in `machine(model, X, ...)` is incompatible with `model=\u001b[34mKNNClassifier @021\u001b[39m`:\n",
      "│ scitype(X) = Table{Union{AbstractArray{Continuous,1}, AbstractArray{Count,1}}}\n",
      "│ input_scitype(model) = Table{var\"#s44\"} where var\"#s44\"<:(AbstractArray{var\"#s13\",1} where var\"#s13\"<:Continuous).\n",
      "└ @ MLJBase /home/andrew/.julia/packages/MLJBase/uKzAz/src/machines.jl:77\n",
      "┌ Warning: The scitype of `X`, in `machine(model, X, ...)` is incompatible with `model=\u001b[34mKNNClassifier @021\u001b[39m`:\n",
      "│ scitype(X) = Table{Union{AbstractArray{Continuous,1}, AbstractArray{Count,1}}}\n",
      "│ input_scitype(model) = Table{var\"#s44\"} where var\"#s44\"<:(AbstractArray{var\"#s13\",1} where var\"#s13\"<:Continuous).\n",
      "└ @ MLJBase /home/andrew/.julia/packages/MLJBase/uKzAz/src/machines.jl:77\n",
      "┌ Warning: The scitype of `X`, in `machine(model, X, ...)` is incompatible with `model=\u001b[34mKNNClassifier @021\u001b[39m`:\n",
      "│ scitype(X) = Table{Union{AbstractArray{Continuous,1}, AbstractArray{Count,1}}}\n",
      "│ input_scitype(model) = Table{var\"#s44\"} where var\"#s44\"<:(AbstractArray{var\"#s13\",1} where var\"#s13\"<:Continuous).\n",
      "└ @ MLJBase /home/andrew/.julia/packages/MLJBase/uKzAz/src/machines.jl:77\n",
      "┌ Warning: The scitype of `X`, in `machine(model, X, ...)` is incompatible with `model=\u001b[34mKNNClassifier @021\u001b[39m`:\n",
      "│ scitype(X) = Table{Union{AbstractArray{Continuous,1}, AbstractArray{Count,1}}}\n",
      "│ input_scitype(model) = Table{var\"#s44\"} where var\"#s44\"<:(AbstractArray{var\"#s13\",1} where var\"#s13\"<:Continuous).\n",
      "└ @ MLJBase /home/andrew/.julia/packages/MLJBase/uKzAz/src/machines.jl:77\n",
      "┌ Warning: The scitype of `X`, in `machine(model, X, ...)` is incompatible with `model=\u001b[34mKNNClassifier @021\u001b[39m`:\n",
      "│ scitype(X) = Table{Union{AbstractArray{Continuous,1}, AbstractArray{Count,1}}}\n",
      "│ input_scitype(model) = Table{var\"#s44\"} where var\"#s44\"<:(AbstractArray{var\"#s13\",1} where var\"#s13\"<:Continuous).\n",
      "└ @ MLJBase /home/andrew/.julia/packages/MLJBase/uKzAz/src/machines.jl:77\n"
     ]
    },
    {
     "name": "stdout",
     "output_type": "stream",
     "text": [
      "(d, train_metric, valid_metric) = (575, 0.9078260869565218, 0.8581081081081081)\n",
      "(d, train_metric, valid_metric) = (580, 0.9086206896551724, 0.8581081081081081)\n",
      "(d, train_metric, valid_metric) = (585, 0.905982905982906, 0.8581081081081081)\n",
      "(d, train_metric, valid_metric) = (590, 0.9084745762711864, 0.8648648648648649)\n"
     ]
    },
    {
     "name": "stderr",
     "output_type": "stream",
     "text": [
      "┌ Warning: The scitype of `X`, in `machine(model, X, ...)` is incompatible with `model=\u001b[34mKNNClassifier @021\u001b[39m`:\n",
      "│ scitype(X) = Table{Union{AbstractArray{Continuous,1}, AbstractArray{Count,1}}}\n",
      "│ input_scitype(model) = Table{var\"#s44\"} where var\"#s44\"<:(AbstractArray{var\"#s13\",1} where var\"#s13\"<:Continuous).\n",
      "└ @ MLJBase /home/andrew/.julia/packages/MLJBase/uKzAz/src/machines.jl:77\n",
      "┌ Warning: The scitype of `X`, in `machine(model, X, ...)` is incompatible with `model=\u001b[34mKNNClassifier @021\u001b[39m`:\n",
      "│ scitype(X) = Table{Union{AbstractArray{Continuous,1}, AbstractArray{Count,1}}}\n",
      "│ input_scitype(model) = Table{var\"#s44\"} where var\"#s44\"<:(AbstractArray{var\"#s13\",1} where var\"#s13\"<:Continuous).\n",
      "└ @ MLJBase /home/andrew/.julia/packages/MLJBase/uKzAz/src/machines.jl:77\n",
      "┌ Warning: The scitype of `X`, in `machine(model, X, ...)` is incompatible with `model=\u001b[34mKNNClassifier @021\u001b[39m`:\n",
      "│ scitype(X) = Table{Union{AbstractArray{Continuous,1}, AbstractArray{Count,1}}}\n",
      "│ input_scitype(model) = Table{var\"#s44\"} where var\"#s44\"<:(AbstractArray{var\"#s13\",1} where var\"#s13\"<:Continuous).\n",
      "└ @ MLJBase /home/andrew/.julia/packages/MLJBase/uKzAz/src/machines.jl:77\n"
     ]
    },
    {
     "data": {
      "text/plain": [
       "(10:5:590, Any[0.9, 0.8666666666666667, 0.9, 0.96, 0.9666666666666667, 0.9714285714285714, 0.9, 0.8888888888888888, 0.86, 0.8909090909090909  …  0.9027522935779817, 0.9054545454545454, 0.9045045045045045, 0.9071428571428571, 0.9061946902654867, 0.9070175438596492, 0.9078260869565218, 0.9086206896551724, 0.905982905982906, 0.9084745762711864], Any[0.7027027027027027, 0.7027027027027027, 0.7297297297297297, 0.7972972972972973, 0.8040540540540541, 0.8040540540540541, 0.8108108108108109, 0.8243243243243243, 0.8108108108108109, 0.8108108108108109  …  0.8581081081081081, 0.8581081081081081, 0.8581081081081081, 0.8581081081081081, 0.8648648648648649, 0.8581081081081081, 0.8581081081081081, 0.8581081081081081, 0.8581081081081081, 0.8648648648648649])"
      ]
     },
     "execution_count": 87,
     "metadata": {},
     "output_type": "execute_result"
    }
   ],
   "source": [
    "data_schedule, training_losses, valid_losses = learn_curve(best.best_model, X_stand[train,:], y[train], acc)"
   ]
  },
  {
   "cell_type": "code",
   "execution_count": 88,
   "metadata": {},
   "outputs": [
    {
     "data": {
      "image/svg+xml": [
       "<?xml version=\"1.0\" encoding=\"utf-8\"?>\n",
       "<svg xmlns=\"http://www.w3.org/2000/svg\" xmlns:xlink=\"http://www.w3.org/1999/xlink\" width=\"600\" height=\"400\" viewBox=\"0 0 2400 1600\">\n",
       "<defs>\n",
       "  <clipPath id=\"clip010\">\n",
       "    <rect x=\"0\" y=\"0\" width=\"2400\" height=\"1600\"/>\n",
       "  </clipPath>\n",
       "</defs>\n",
       "<path clip-path=\"url(#clip010)\" d=\"\n",
       "M0 1600 L2400 1600 L2400 0 L0 0  Z\n",
       "  \" fill=\"#ffffff\" fill-rule=\"evenodd\" fill-opacity=\"1\"/>\n",
       "<defs>\n",
       "  <clipPath id=\"clip011\">\n",
       "    <rect x=\"480\" y=\"0\" width=\"1681\" height=\"1600\"/>\n",
       "  </clipPath>\n",
       "</defs>\n",
       "<path clip-path=\"url(#clip010)\" d=\"\n",
       "M238.037 1423.18 L2352.76 1423.18 L2352.76 47.2441 L238.037 47.2441  Z\n",
       "  \" fill=\"#ffffff\" fill-rule=\"evenodd\" fill-opacity=\"1\"/>\n",
       "<defs>\n",
       "  <clipPath id=\"clip012\">\n",
       "    <rect x=\"238\" y=\"47\" width=\"2116\" height=\"1377\"/>\n",
       "  </clipPath>\n",
       "</defs>\n",
       "<polyline clip-path=\"url(#clip012)\" style=\"stroke:#000000; stroke-width:2; stroke-opacity:0.1; fill:none\" points=\"\n",
       "  263.491,1423.18 263.491,47.2441 \n",
       "  \"/>\n",
       "<polyline clip-path=\"url(#clip012)\" style=\"stroke:#000000; stroke-width:2; stroke-opacity:0.1; fill:none\" points=\"\n",
       "  607.46,1423.18 607.46,47.2441 \n",
       "  \"/>\n",
       "<polyline clip-path=\"url(#clip012)\" style=\"stroke:#000000; stroke-width:2; stroke-opacity:0.1; fill:none\" points=\"\n",
       "  951.428,1423.18 951.428,47.2441 \n",
       "  \"/>\n",
       "<polyline clip-path=\"url(#clip012)\" style=\"stroke:#000000; stroke-width:2; stroke-opacity:0.1; fill:none\" points=\"\n",
       "  1295.4,1423.18 1295.4,47.2441 \n",
       "  \"/>\n",
       "<polyline clip-path=\"url(#clip012)\" style=\"stroke:#000000; stroke-width:2; stroke-opacity:0.1; fill:none\" points=\"\n",
       "  1639.37,1423.18 1639.37,47.2441 \n",
       "  \"/>\n",
       "<polyline clip-path=\"url(#clip012)\" style=\"stroke:#000000; stroke-width:2; stroke-opacity:0.1; fill:none\" points=\"\n",
       "  1983.33,1423.18 1983.33,47.2441 \n",
       "  \"/>\n",
       "<polyline clip-path=\"url(#clip012)\" style=\"stroke:#000000; stroke-width:2; stroke-opacity:0.1; fill:none\" points=\"\n",
       "  2327.3,1423.18 2327.3,47.2441 \n",
       "  \"/>\n",
       "<polyline clip-path=\"url(#clip012)\" style=\"stroke:#000000; stroke-width:2; stroke-opacity:0.1; fill:none\" points=\"\n",
       "  238.037,1397.29 2352.76,1397.29 \n",
       "  \"/>\n",
       "<polyline clip-path=\"url(#clip012)\" style=\"stroke:#000000; stroke-width:2; stroke-opacity:0.1; fill:none\" points=\"\n",
       "  238.037,1155.77 2352.76,1155.77 \n",
       "  \"/>\n",
       "<polyline clip-path=\"url(#clip012)\" style=\"stroke:#000000; stroke-width:2; stroke-opacity:0.1; fill:none\" points=\"\n",
       "  238.037,914.254 2352.76,914.254 \n",
       "  \"/>\n",
       "<polyline clip-path=\"url(#clip012)\" style=\"stroke:#000000; stroke-width:2; stroke-opacity:0.1; fill:none\" points=\"\n",
       "  238.037,672.734 2352.76,672.734 \n",
       "  \"/>\n",
       "<polyline clip-path=\"url(#clip012)\" style=\"stroke:#000000; stroke-width:2; stroke-opacity:0.1; fill:none\" points=\"\n",
       "  238.037,431.214 2352.76,431.214 \n",
       "  \"/>\n",
       "<polyline clip-path=\"url(#clip012)\" style=\"stroke:#000000; stroke-width:2; stroke-opacity:0.1; fill:none\" points=\"\n",
       "  238.037,189.694 2352.76,189.694 \n",
       "  \"/>\n",
       "<polyline clip-path=\"url(#clip010)\" style=\"stroke:#000000; stroke-width:4; stroke-opacity:1; fill:none\" points=\"\n",
       "  238.037,1423.18 2352.76,1423.18 \n",
       "  \"/>\n",
       "<polyline clip-path=\"url(#clip010)\" style=\"stroke:#000000; stroke-width:4; stroke-opacity:1; fill:none\" points=\"\n",
       "  238.037,1423.18 238.037,47.2441 \n",
       "  \"/>\n",
       "<polyline clip-path=\"url(#clip010)\" style=\"stroke:#000000; stroke-width:4; stroke-opacity:1; fill:none\" points=\"\n",
       "  263.491,1423.18 263.491,1406.67 \n",
       "  \"/>\n",
       "<polyline clip-path=\"url(#clip010)\" style=\"stroke:#000000; stroke-width:4; stroke-opacity:1; fill:none\" points=\"\n",
       "  607.46,1423.18 607.46,1406.67 \n",
       "  \"/>\n",
       "<polyline clip-path=\"url(#clip010)\" style=\"stroke:#000000; stroke-width:4; stroke-opacity:1; fill:none\" points=\"\n",
       "  951.428,1423.18 951.428,1406.67 \n",
       "  \"/>\n",
       "<polyline clip-path=\"url(#clip010)\" style=\"stroke:#000000; stroke-width:4; stroke-opacity:1; fill:none\" points=\"\n",
       "  1295.4,1423.18 1295.4,1406.67 \n",
       "  \"/>\n",
       "<polyline clip-path=\"url(#clip010)\" style=\"stroke:#000000; stroke-width:4; stroke-opacity:1; fill:none\" points=\"\n",
       "  1639.37,1423.18 1639.37,1406.67 \n",
       "  \"/>\n",
       "<polyline clip-path=\"url(#clip010)\" style=\"stroke:#000000; stroke-width:4; stroke-opacity:1; fill:none\" points=\"\n",
       "  1983.33,1423.18 1983.33,1406.67 \n",
       "  \"/>\n",
       "<polyline clip-path=\"url(#clip010)\" style=\"stroke:#000000; stroke-width:4; stroke-opacity:1; fill:none\" points=\"\n",
       "  2327.3,1423.18 2327.3,1406.67 \n",
       "  \"/>\n",
       "<polyline clip-path=\"url(#clip010)\" style=\"stroke:#000000; stroke-width:4; stroke-opacity:1; fill:none\" points=\"\n",
       "  238.037,1397.29 263.414,1397.29 \n",
       "  \"/>\n",
       "<polyline clip-path=\"url(#clip010)\" style=\"stroke:#000000; stroke-width:4; stroke-opacity:1; fill:none\" points=\"\n",
       "  238.037,1155.77 263.414,1155.77 \n",
       "  \"/>\n",
       "<polyline clip-path=\"url(#clip010)\" style=\"stroke:#000000; stroke-width:4; stroke-opacity:1; fill:none\" points=\"\n",
       "  238.037,914.254 263.414,914.254 \n",
       "  \"/>\n",
       "<polyline clip-path=\"url(#clip010)\" style=\"stroke:#000000; stroke-width:4; stroke-opacity:1; fill:none\" points=\"\n",
       "  238.037,672.734 263.414,672.734 \n",
       "  \"/>\n",
       "<polyline clip-path=\"url(#clip010)\" style=\"stroke:#000000; stroke-width:4; stroke-opacity:1; fill:none\" points=\"\n",
       "  238.037,431.214 263.414,431.214 \n",
       "  \"/>\n",
       "<polyline clip-path=\"url(#clip010)\" style=\"stroke:#000000; stroke-width:4; stroke-opacity:1; fill:none\" points=\"\n",
       "  238.037,189.694 263.414,189.694 \n",
       "  \"/>\n",
       "<path clip-path=\"url(#clip010)\" d=\"M 0 0 M263.491 1445.17 Q259.88 1445.17 258.051 1448.74 Q256.246 1452.28 256.246 1459.41 Q256.246 1466.51 258.051 1470.08 Q259.88 1473.62 263.491 1473.62 Q267.125 1473.62 268.931 1470.08 Q270.76 1466.51 270.76 1459.41 Q270.76 1452.28 268.931 1448.74 Q267.125 1445.17 263.491 1445.17 M263.491 1441.47 Q269.301 1441.47 272.357 1446.07 Q275.436 1450.66 275.436 1459.41 Q275.436 1468.13 272.357 1472.74 Q269.301 1477.32 263.491 1477.32 Q257.681 1477.32 254.602 1472.74 Q251.547 1468.13 251.547 1459.41 Q251.547 1450.66 254.602 1446.07 Q257.681 1441.47 263.491 1441.47 Z\" fill=\"#000000\" fill-rule=\"evenodd\" fill-opacity=\"1\" /><path clip-path=\"url(#clip010)\" d=\"M 0 0 M570.828 1472.72 L578.467 1472.72 L578.467 1446.35 L570.157 1448.02 L570.157 1443.76 L578.42 1442.09 L583.096 1442.09 L583.096 1472.72 L590.735 1472.72 L590.735 1476.65 L570.828 1476.65 L570.828 1472.72 Z\" fill=\"#000000\" fill-rule=\"evenodd\" fill-opacity=\"1\" /><path clip-path=\"url(#clip010)\" d=\"M 0 0 M605.805 1445.17 Q602.193 1445.17 600.365 1448.74 Q598.559 1452.28 598.559 1459.41 Q598.559 1466.51 600.365 1470.08 Q602.193 1473.62 605.805 1473.62 Q609.439 1473.62 611.244 1470.08 Q613.073 1466.51 613.073 1459.41 Q613.073 1452.28 611.244 1448.74 Q609.439 1445.17 605.805 1445.17 M605.805 1441.47 Q611.615 1441.47 614.67 1446.07 Q617.749 1450.66 617.749 1459.41 Q617.749 1468.13 614.67 1472.74 Q611.615 1477.32 605.805 1477.32 Q599.994 1477.32 596.916 1472.74 Q593.86 1468.13 593.86 1459.41 Q593.86 1450.66 596.916 1446.07 Q599.994 1441.47 605.805 1441.47 Z\" fill=\"#000000\" fill-rule=\"evenodd\" fill-opacity=\"1\" /><path clip-path=\"url(#clip010)\" d=\"M 0 0 M632.818 1445.17 Q629.207 1445.17 627.379 1448.74 Q625.573 1452.28 625.573 1459.41 Q625.573 1466.51 627.379 1470.08 Q629.207 1473.62 632.818 1473.62 Q636.453 1473.62 638.258 1470.08 Q640.087 1466.51 640.087 1459.41 Q640.087 1452.28 638.258 1448.74 Q636.453 1445.17 632.818 1445.17 M632.818 1441.47 Q638.628 1441.47 641.684 1446.07 Q644.763 1450.66 644.763 1459.41 Q644.763 1468.13 641.684 1472.74 Q638.628 1477.32 632.818 1477.32 Q627.008 1477.32 623.929 1472.74 Q620.874 1468.13 620.874 1459.41 Q620.874 1450.66 623.929 1446.07 Q627.008 1441.47 632.818 1441.47 Z\" fill=\"#000000\" fill-rule=\"evenodd\" fill-opacity=\"1\" /><path clip-path=\"url(#clip010)\" d=\"M 0 0 M919.067 1472.72 L935.387 1472.72 L935.387 1476.65 L913.442 1476.65 L913.442 1472.72 Q916.104 1469.96 920.688 1465.33 Q925.294 1460.68 926.475 1459.34 Q928.72 1456.81 929.6 1455.08 Q930.502 1453.32 930.502 1451.63 Q930.502 1448.87 928.558 1447.14 Q926.637 1445.4 923.535 1445.4 Q921.336 1445.4 918.882 1446.17 Q916.452 1446.93 913.674 1448.48 L913.674 1443.76 Q916.498 1442.62 918.951 1442.05 Q921.405 1441.47 923.442 1441.47 Q928.813 1441.47 932.007 1444.15 Q935.201 1446.84 935.201 1451.33 Q935.201 1453.46 934.391 1455.38 Q933.604 1457.28 931.498 1459.87 Q930.919 1460.54 927.817 1463.76 Q924.715 1466.95 919.067 1472.72 Z\" fill=\"#000000\" fill-rule=\"evenodd\" fill-opacity=\"1\" /><path clip-path=\"url(#clip010)\" d=\"M 0 0 M950.456 1445.17 Q946.845 1445.17 945.016 1448.74 Q943.211 1452.28 943.211 1459.41 Q943.211 1466.51 945.016 1470.08 Q946.845 1473.62 950.456 1473.62 Q954.09 1473.62 955.896 1470.08 Q957.724 1466.51 957.724 1459.41 Q957.724 1452.28 955.896 1448.74 Q954.09 1445.17 950.456 1445.17 M950.456 1441.47 Q956.266 1441.47 959.322 1446.07 Q962.4 1450.66 962.4 1459.41 Q962.4 1468.13 959.322 1472.74 Q956.266 1477.32 950.456 1477.32 Q944.646 1477.32 941.567 1472.74 Q938.512 1468.13 938.512 1459.41 Q938.512 1450.66 941.567 1446.07 Q944.646 1441.47 950.456 1441.47 Z\" fill=\"#000000\" fill-rule=\"evenodd\" fill-opacity=\"1\" /><path clip-path=\"url(#clip010)\" d=\"M 0 0 M977.47 1445.17 Q973.859 1445.17 972.03 1448.74 Q970.224 1452.28 970.224 1459.41 Q970.224 1466.51 972.03 1470.08 Q973.859 1473.62 977.47 1473.62 Q981.104 1473.62 982.909 1470.08 Q984.738 1466.51 984.738 1459.41 Q984.738 1452.28 982.909 1448.74 Q981.104 1445.17 977.47 1445.17 M977.47 1441.47 Q983.28 1441.47 986.335 1446.07 Q989.414 1450.66 989.414 1459.41 Q989.414 1468.13 986.335 1472.74 Q983.28 1477.32 977.47 1477.32 Q971.66 1477.32 968.581 1472.74 Q965.525 1468.13 965.525 1459.41 Q965.525 1450.66 968.581 1446.07 Q971.66 1441.47 977.47 1441.47 Z\" fill=\"#000000\" fill-rule=\"evenodd\" fill-opacity=\"1\" /><path clip-path=\"url(#clip010)\" d=\"M 0 0 M1272.63 1458.02 Q1275.99 1458.74 1277.86 1461 Q1279.76 1463.27 1279.76 1466.61 Q1279.76 1471.72 1276.24 1474.52 Q1272.72 1477.32 1266.24 1477.32 Q1264.07 1477.32 1261.75 1476.88 Q1259.46 1476.47 1257.01 1475.61 L1257.01 1471.1 Q1258.95 1472.23 1261.26 1472.81 Q1263.58 1473.39 1266.1 1473.39 Q1270.5 1473.39 1272.79 1471.65 Q1275.11 1469.92 1275.11 1466.61 Q1275.11 1463.55 1272.95 1461.84 Q1270.83 1460.1 1267.01 1460.1 L1262.98 1460.1 L1262.98 1456.26 L1267.19 1456.26 Q1270.64 1456.26 1272.47 1454.89 Q1274.3 1453.5 1274.3 1450.91 Q1274.3 1448.25 1272.4 1446.84 Q1270.52 1445.4 1267.01 1445.4 Q1265.08 1445.4 1262.89 1445.82 Q1260.69 1446.24 1258.05 1447.11 L1258.05 1442.95 Q1260.71 1442.21 1263.02 1441.84 Q1265.36 1441.47 1267.42 1441.47 Q1272.75 1441.47 1275.85 1443.9 Q1278.95 1446.3 1278.95 1450.43 Q1278.95 1453.3 1277.31 1455.29 Q1275.66 1457.25 1272.63 1458.02 Z\" fill=\"#000000\" fill-rule=\"evenodd\" fill-opacity=\"1\" /><path clip-path=\"url(#clip010)\" d=\"M 0 0 M1294.83 1445.17 Q1291.22 1445.17 1289.39 1448.74 Q1287.58 1452.28 1287.58 1459.41 Q1287.58 1466.51 1289.39 1470.08 Q1291.22 1473.62 1294.83 1473.62 Q1298.46 1473.62 1300.27 1470.08 Q1302.1 1466.51 1302.1 1459.41 Q1302.1 1452.28 1300.27 1448.74 Q1298.46 1445.17 1294.83 1445.17 M1294.83 1441.47 Q1300.64 1441.47 1303.7 1446.07 Q1306.77 1450.66 1306.77 1459.41 Q1306.77 1468.13 1303.7 1472.74 Q1300.64 1477.32 1294.83 1477.32 Q1289.02 1477.32 1285.94 1472.74 Q1282.89 1468.13 1282.89 1459.41 Q1282.89 1450.66 1285.94 1446.07 Q1289.02 1441.47 1294.83 1441.47 Z\" fill=\"#000000\" fill-rule=\"evenodd\" fill-opacity=\"1\" /><path clip-path=\"url(#clip010)\" d=\"M 0 0 M1321.84 1445.17 Q1318.23 1445.17 1316.4 1448.74 Q1314.6 1452.28 1314.6 1459.41 Q1314.6 1466.51 1316.4 1470.08 Q1318.23 1473.62 1321.84 1473.62 Q1325.48 1473.62 1327.28 1470.08 Q1329.11 1466.51 1329.11 1459.41 Q1329.11 1452.28 1327.28 1448.74 Q1325.48 1445.17 1321.84 1445.17 M1321.84 1441.47 Q1327.65 1441.47 1330.71 1446.07 Q1333.79 1450.66 1333.79 1459.41 Q1333.79 1468.13 1330.71 1472.74 Q1327.65 1477.32 1321.84 1477.32 Q1316.03 1477.32 1312.95 1472.74 Q1309.9 1468.13 1309.9 1459.41 Q1309.9 1450.66 1312.95 1446.07 Q1316.03 1441.47 1321.84 1441.47 Z\" fill=\"#000000\" fill-rule=\"evenodd\" fill-opacity=\"1\" /><path clip-path=\"url(#clip010)\" d=\"M 0 0 M1615.36 1446.17 L1603.56 1464.61 L1615.36 1464.61 L1615.36 1446.17 M1614.13 1442.09 L1620.01 1442.09 L1620.01 1464.61 L1624.94 1464.61 L1624.94 1468.5 L1620.01 1468.5 L1620.01 1476.65 L1615.36 1476.65 L1615.36 1468.5 L1599.76 1468.5 L1599.76 1463.99 L1614.13 1442.09 Z\" fill=\"#000000\" fill-rule=\"evenodd\" fill-opacity=\"1\" /><path clip-path=\"url(#clip010)\" d=\"M 0 0 M1640.01 1445.17 Q1636.4 1445.17 1634.57 1448.74 Q1632.77 1452.28 1632.77 1459.41 Q1632.77 1466.51 1634.57 1470.08 Q1636.4 1473.62 1640.01 1473.62 Q1643.65 1473.62 1645.45 1470.08 Q1647.28 1466.51 1647.28 1459.41 Q1647.28 1452.28 1645.45 1448.74 Q1643.65 1445.17 1640.01 1445.17 M1640.01 1441.47 Q1645.82 1441.47 1648.88 1446.07 Q1651.96 1450.66 1651.96 1459.41 Q1651.96 1468.13 1648.88 1472.74 Q1645.82 1477.32 1640.01 1477.32 Q1634.2 1477.32 1631.12 1472.74 Q1628.07 1468.13 1628.07 1459.41 Q1628.07 1450.66 1631.12 1446.07 Q1634.2 1441.47 1640.01 1441.47 Z\" fill=\"#000000\" fill-rule=\"evenodd\" fill-opacity=\"1\" /><path clip-path=\"url(#clip010)\" d=\"M 0 0 M1667.03 1445.17 Q1663.42 1445.17 1661.59 1448.74 Q1659.78 1452.28 1659.78 1459.41 Q1659.78 1466.51 1661.59 1470.08 Q1663.42 1473.62 1667.03 1473.62 Q1670.66 1473.62 1672.47 1470.08 Q1674.3 1466.51 1674.3 1459.41 Q1674.3 1452.28 1672.47 1448.74 Q1670.66 1445.17 1667.03 1445.17 M1667.03 1441.47 Q1672.84 1441.47 1675.89 1446.07 Q1678.97 1450.66 1678.97 1459.41 Q1678.97 1468.13 1675.89 1472.74 Q1672.84 1477.32 1667.03 1477.32 Q1661.22 1477.32 1658.14 1472.74 Q1655.08 1468.13 1655.08 1459.41 Q1655.08 1450.66 1658.14 1446.07 Q1661.22 1441.47 1667.03 1441.47 Z\" fill=\"#000000\" fill-rule=\"evenodd\" fill-opacity=\"1\" /><path clip-path=\"url(#clip010)\" d=\"M 0 0 M1946.6 1442.09 L1964.95 1442.09 L1964.95 1446.03 L1950.88 1446.03 L1950.88 1454.5 Q1951.9 1454.15 1952.92 1453.99 Q1953.94 1453.8 1954.95 1453.8 Q1960.74 1453.8 1964.12 1456.98 Q1967.5 1460.15 1967.5 1465.56 Q1967.5 1471.14 1964.03 1474.24 Q1960.56 1477.32 1954.24 1477.32 Q1952.06 1477.32 1949.79 1476.95 Q1947.55 1476.58 1945.14 1475.84 L1945.14 1471.14 Q1947.22 1472.28 1949.45 1472.83 Q1951.67 1473.39 1954.14 1473.39 Q1958.15 1473.39 1960.49 1471.28 Q1962.82 1469.18 1962.82 1465.56 Q1962.82 1461.95 1960.49 1459.85 Q1958.15 1457.74 1954.14 1457.74 Q1952.27 1457.74 1950.39 1458.16 Q1948.54 1458.57 1946.6 1459.45 L1946.6 1442.09 Z\" fill=\"#000000\" fill-rule=\"evenodd\" fill-opacity=\"1\" /><path clip-path=\"url(#clip010)\" d=\"M 0 0 M1982.57 1445.17 Q1978.96 1445.17 1977.13 1448.74 Q1975.32 1452.28 1975.32 1459.41 Q1975.32 1466.51 1977.13 1470.08 Q1978.96 1473.62 1982.57 1473.62 Q1986.2 1473.62 1988.01 1470.08 Q1989.84 1466.51 1989.84 1459.41 Q1989.84 1452.28 1988.01 1448.74 Q1986.2 1445.17 1982.57 1445.17 M1982.57 1441.47 Q1988.38 1441.47 1991.44 1446.07 Q1994.51 1450.66 1994.51 1459.41 Q1994.51 1468.13 1991.44 1472.74 Q1988.38 1477.32 1982.57 1477.32 Q1976.76 1477.32 1973.68 1472.74 Q1970.63 1468.13 1970.63 1459.41 Q1970.63 1450.66 1973.68 1446.07 Q1976.76 1441.47 1982.57 1441.47 Z\" fill=\"#000000\" fill-rule=\"evenodd\" fill-opacity=\"1\" /><path clip-path=\"url(#clip010)\" d=\"M 0 0 M2009.58 1445.17 Q2005.97 1445.17 2004.14 1448.74 Q2002.34 1452.28 2002.34 1459.41 Q2002.34 1466.51 2004.14 1470.08 Q2005.97 1473.62 2009.58 1473.62 Q2013.22 1473.62 2015.02 1470.08 Q2016.85 1466.51 2016.85 1459.41 Q2016.85 1452.28 2015.02 1448.74 Q2013.22 1445.17 2009.58 1445.17 M2009.58 1441.47 Q2015.39 1441.47 2018.45 1446.07 Q2021.53 1450.66 2021.53 1459.41 Q2021.53 1468.13 2018.45 1472.74 Q2015.39 1477.32 2009.58 1477.32 Q2003.77 1477.32 2000.69 1472.74 Q1997.64 1468.13 1997.64 1459.41 Q1997.64 1450.66 2000.69 1446.07 Q2003.77 1441.47 2009.58 1441.47 Z\" fill=\"#000000\" fill-rule=\"evenodd\" fill-opacity=\"1\" /><path clip-path=\"url(#clip010)\" d=\"M 0 0 M2300.69 1457.51 Q2297.55 1457.51 2295.69 1459.66 Q2293.86 1461.81 2293.86 1465.56 Q2293.86 1469.29 2295.69 1471.47 Q2297.55 1473.62 2300.69 1473.62 Q2303.84 1473.62 2305.67 1471.47 Q2307.52 1469.29 2307.52 1465.56 Q2307.52 1461.81 2305.67 1459.66 Q2303.84 1457.51 2300.69 1457.51 M2309.98 1442.86 L2309.98 1447.11 Q2308.22 1446.28 2306.41 1445.84 Q2304.63 1445.4 2302.87 1445.4 Q2298.24 1445.4 2295.79 1448.53 Q2293.36 1451.65 2293.01 1457.97 Q2294.37 1455.96 2296.43 1454.89 Q2298.49 1453.8 2300.97 1453.8 Q2306.18 1453.8 2309.19 1456.98 Q2312.22 1460.12 2312.22 1465.56 Q2312.22 1470.89 2309.07 1474.11 Q2305.93 1477.32 2300.69 1477.32 Q2294.7 1477.32 2291.53 1472.74 Q2288.36 1468.13 2288.36 1459.41 Q2288.36 1451.21 2292.24 1446.35 Q2296.13 1441.47 2302.68 1441.47 Q2304.44 1441.47 2306.23 1441.81 Q2308.03 1442.16 2309.98 1442.86 Z\" fill=\"#000000\" fill-rule=\"evenodd\" fill-opacity=\"1\" /><path clip-path=\"url(#clip010)\" d=\"M 0 0 M2327.29 1445.17 Q2323.68 1445.17 2321.85 1448.74 Q2320.05 1452.28 2320.05 1459.41 Q2320.05 1466.51 2321.85 1470.08 Q2323.68 1473.62 2327.29 1473.62 Q2330.92 1473.62 2332.73 1470.08 Q2334.56 1466.51 2334.56 1459.41 Q2334.56 1452.28 2332.73 1448.74 Q2330.92 1445.17 2327.29 1445.17 M2327.29 1441.47 Q2333.1 1441.47 2336.16 1446.07 Q2339.24 1450.66 2339.24 1459.41 Q2339.24 1468.13 2336.16 1472.74 Q2333.1 1477.32 2327.29 1477.32 Q2321.48 1477.32 2318.4 1472.74 Q2315.35 1468.13 2315.35 1459.41 Q2315.35 1450.66 2318.4 1446.07 Q2321.48 1441.47 2327.29 1441.47 Z\" fill=\"#000000\" fill-rule=\"evenodd\" fill-opacity=\"1\" /><path clip-path=\"url(#clip010)\" d=\"M 0 0 M2354.3 1445.17 Q2350.69 1445.17 2348.86 1448.74 Q2347.06 1452.28 2347.06 1459.41 Q2347.06 1466.51 2348.86 1470.08 Q2350.69 1473.62 2354.3 1473.62 Q2357.94 1473.62 2359.74 1470.08 Q2361.57 1466.51 2361.57 1459.41 Q2361.57 1452.28 2359.74 1448.74 Q2357.94 1445.17 2354.3 1445.17 M2354.3 1441.47 Q2360.11 1441.47 2363.17 1446.07 Q2366.25 1450.66 2366.25 1459.41 Q2366.25 1468.13 2363.17 1472.74 Q2360.11 1477.32 2354.3 1477.32 Q2348.49 1477.32 2345.42 1472.74 Q2342.36 1468.13 2342.36 1459.41 Q2342.36 1450.66 2345.42 1446.07 Q2348.49 1441.47 2354.3 1441.47 Z\" fill=\"#000000\" fill-rule=\"evenodd\" fill-opacity=\"1\" /><path clip-path=\"url(#clip010)\" d=\"M 0 0 M139.015 1383.09 Q135.404 1383.09 133.575 1386.66 Q131.769 1390.2 131.769 1397.33 Q131.769 1404.43 133.575 1408 Q135.404 1411.54 139.015 1411.54 Q142.649 1411.54 144.455 1408 Q146.283 1404.43 146.283 1397.33 Q146.283 1390.2 144.455 1386.66 Q142.649 1383.09 139.015 1383.09 M139.015 1379.39 Q144.825 1379.39 147.88 1383.99 Q150.959 1388.58 150.959 1397.33 Q150.959 1406.05 147.88 1410.66 Q144.825 1415.24 139.015 1415.24 Q133.205 1415.24 130.126 1410.66 Q127.07 1406.05 127.07 1397.33 Q127.07 1388.58 130.126 1383.99 Q133.205 1379.39 139.015 1379.39 Z\" fill=\"#000000\" fill-rule=\"evenodd\" fill-opacity=\"1\" /><path clip-path=\"url(#clip010)\" d=\"M 0 0 M156.029 1408.69 L160.913 1408.69 L160.913 1414.57 L156.029 1414.57 L156.029 1408.69 Z\" fill=\"#000000\" fill-rule=\"evenodd\" fill-opacity=\"1\" /><path clip-path=\"url(#clip010)\" d=\"M 0 0 M164.802 1380.01 L187.024 1380.01 L187.024 1382 L174.477 1414.57 L169.593 1414.57 L181.399 1383.95 L164.802 1383.95 L164.802 1380.01 Z\" fill=\"#000000\" fill-rule=\"evenodd\" fill-opacity=\"1\" /><path clip-path=\"url(#clip010)\" d=\"M 0 0 M202.093 1383.09 Q198.482 1383.09 196.653 1386.66 Q194.848 1390.2 194.848 1397.33 Q194.848 1404.43 196.653 1408 Q198.482 1411.54 202.093 1411.54 Q205.727 1411.54 207.533 1408 Q209.362 1404.43 209.362 1397.33 Q209.362 1390.2 207.533 1386.66 Q205.727 1383.09 202.093 1383.09 M202.093 1379.39 Q207.903 1379.39 210.959 1383.99 Q214.037 1388.58 214.037 1397.33 Q214.037 1406.05 210.959 1410.66 Q207.903 1415.24 202.093 1415.24 Q196.283 1415.24 193.204 1410.66 Q190.149 1406.05 190.149 1397.33 Q190.149 1388.58 193.204 1383.99 Q196.283 1379.39 202.093 1379.39 Z\" fill=\"#000000\" fill-rule=\"evenodd\" fill-opacity=\"1\" /><path clip-path=\"url(#clip010)\" d=\"M 0 0 M140.01 1141.57 Q136.399 1141.57 134.57 1145.14 Q132.765 1148.68 132.765 1155.81 Q132.765 1162.91 134.57 1166.48 Q136.399 1170.02 140.01 1170.02 Q143.644 1170.02 145.45 1166.48 Q147.279 1162.91 147.279 1155.81 Q147.279 1148.68 145.45 1145.14 Q143.644 1141.57 140.01 1141.57 M140.01 1137.87 Q145.82 1137.87 148.876 1142.48 Q151.954 1147.06 151.954 1155.81 Q151.954 1164.54 148.876 1169.14 Q145.82 1173.72 140.01 1173.72 Q134.2 1173.72 131.121 1169.14 Q128.066 1164.54 128.066 1155.81 Q128.066 1147.06 131.121 1142.48 Q134.2 1137.87 140.01 1137.87 Z\" fill=\"#000000\" fill-rule=\"evenodd\" fill-opacity=\"1\" /><path clip-path=\"url(#clip010)\" d=\"M 0 0 M157.024 1167.17 L161.908 1167.17 L161.908 1173.05 L157.024 1173.05 L157.024 1167.17 Z\" fill=\"#000000\" fill-rule=\"evenodd\" fill-opacity=\"1\" /><path clip-path=\"url(#clip010)\" d=\"M 0 0 M165.797 1138.49 L188.019 1138.49 L188.019 1140.48 L175.473 1173.05 L170.589 1173.05 L182.394 1142.43 L165.797 1142.43 L165.797 1138.49 Z\" fill=\"#000000\" fill-rule=\"evenodd\" fill-opacity=\"1\" /><path clip-path=\"url(#clip010)\" d=\"M 0 0 M193.135 1138.49 L211.491 1138.49 L211.491 1142.43 L197.417 1142.43 L197.417 1150.9 Q198.436 1150.55 199.454 1150.39 Q200.473 1150.21 201.491 1150.21 Q207.278 1150.21 210.658 1153.38 Q214.037 1156.55 214.037 1161.97 Q214.037 1167.54 210.565 1170.65 Q207.093 1173.72 200.774 1173.72 Q198.598 1173.72 196.329 1173.35 Q194.084 1172.98 191.676 1172.24 L191.676 1167.54 Q193.76 1168.68 195.982 1169.23 Q198.204 1169.79 200.681 1169.79 Q204.686 1169.79 207.024 1167.68 Q209.362 1165.58 209.362 1161.97 Q209.362 1158.35 207.024 1156.25 Q204.686 1154.14 200.681 1154.14 Q198.806 1154.14 196.931 1154.56 Q195.079 1154.97 193.135 1155.85 L193.135 1138.49 Z\" fill=\"#000000\" fill-rule=\"evenodd\" fill-opacity=\"1\" /><path clip-path=\"url(#clip010)\" d=\"M 0 0 M138.205 900.052 Q134.593 900.052 132.765 903.617 Q130.959 907.159 130.959 914.288 Q130.959 921.395 132.765 924.96 Q134.593 928.501 138.205 928.501 Q141.839 928.501 143.644 924.96 Q145.473 921.395 145.473 914.288 Q145.473 907.159 143.644 903.617 Q141.839 900.052 138.205 900.052 M138.205 896.349 Q144.015 896.349 147.07 900.955 Q150.149 905.538 150.149 914.288 Q150.149 923.015 147.07 927.622 Q144.015 932.205 138.205 932.205 Q132.394 932.205 129.316 927.622 Q126.26 923.015 126.26 914.288 Q126.26 905.538 129.316 900.955 Q132.394 896.349 138.205 896.349 Z\" fill=\"#000000\" fill-rule=\"evenodd\" fill-opacity=\"1\" /><path clip-path=\"url(#clip010)\" d=\"M 0 0 M155.218 925.654 L160.103 925.654 L160.103 931.534 L155.218 931.534 L155.218 925.654 Z\" fill=\"#000000\" fill-rule=\"evenodd\" fill-opacity=\"1\" /><path clip-path=\"url(#clip010)\" d=\"M 0 0 M175.172 915.122 Q171.839 915.122 169.917 916.904 Q168.019 918.687 168.019 921.812 Q168.019 924.937 169.917 926.719 Q171.839 928.501 175.172 928.501 Q178.505 928.501 180.427 926.719 Q182.348 924.913 182.348 921.812 Q182.348 918.687 180.427 916.904 Q178.528 915.122 175.172 915.122 M170.496 913.131 Q167.487 912.39 165.797 910.33 Q164.13 908.27 164.13 905.307 Q164.13 901.163 167.07 898.756 Q170.033 896.349 175.172 896.349 Q180.334 896.349 183.274 898.756 Q186.214 901.163 186.214 905.307 Q186.214 908.27 184.524 910.33 Q182.857 912.39 179.871 913.131 Q183.251 913.918 185.126 916.21 Q187.024 918.501 187.024 921.812 Q187.024 926.835 183.945 929.52 Q180.889 932.205 175.172 932.205 Q169.454 932.205 166.376 929.52 Q163.32 926.835 163.32 921.812 Q163.32 918.501 165.218 916.21 Q167.116 913.918 170.496 913.131 M168.783 905.747 Q168.783 908.432 170.45 909.937 Q172.14 911.441 175.172 911.441 Q178.181 911.441 179.871 909.937 Q181.584 908.432 181.584 905.747 Q181.584 903.062 179.871 901.557 Q178.181 900.052 175.172 900.052 Q172.14 900.052 170.45 901.557 Q168.783 903.062 168.783 905.747 Z\" fill=\"#000000\" fill-rule=\"evenodd\" fill-opacity=\"1\" /><path clip-path=\"url(#clip010)\" d=\"M 0 0 M202.093 900.052 Q198.482 900.052 196.653 903.617 Q194.848 907.159 194.848 914.288 Q194.848 921.395 196.653 924.96 Q198.482 928.501 202.093 928.501 Q205.727 928.501 207.533 924.96 Q209.362 921.395 209.362 914.288 Q209.362 907.159 207.533 903.617 Q205.727 900.052 202.093 900.052 M202.093 896.349 Q207.903 896.349 210.959 900.955 Q214.037 905.538 214.037 914.288 Q214.037 923.015 210.959 927.622 Q207.903 932.205 202.093 932.205 Q196.283 932.205 193.204 927.622 Q190.149 923.015 190.149 914.288 Q190.149 905.538 193.204 900.955 Q196.283 896.349 202.093 896.349 Z\" fill=\"#000000\" fill-rule=\"evenodd\" fill-opacity=\"1\" /><path clip-path=\"url(#clip010)\" d=\"M 0 0 M139.2 658.533 Q135.589 658.533 133.76 662.097 Q131.955 665.639 131.955 672.769 Q131.955 679.875 133.76 683.44 Q135.589 686.981 139.2 686.981 Q142.834 686.981 144.64 683.44 Q146.468 679.875 146.468 672.769 Q146.468 665.639 144.64 662.097 Q142.834 658.533 139.2 658.533 M139.2 654.829 Q145.01 654.829 148.066 659.435 Q151.144 664.019 151.144 672.769 Q151.144 681.495 148.066 686.102 Q145.01 690.685 139.2 690.685 Q133.39 690.685 130.311 686.102 Q127.256 681.495 127.256 672.769 Q127.256 664.019 130.311 659.435 Q133.39 654.829 139.2 654.829 Z\" fill=\"#000000\" fill-rule=\"evenodd\" fill-opacity=\"1\" /><path clip-path=\"url(#clip010)\" d=\"M 0 0 M156.214 684.134 L161.098 684.134 L161.098 690.014 L156.214 690.014 L156.214 684.134 Z\" fill=\"#000000\" fill-rule=\"evenodd\" fill-opacity=\"1\" /><path clip-path=\"url(#clip010)\" d=\"M 0 0 M176.167 673.602 Q172.834 673.602 170.913 675.384 Q169.015 677.167 169.015 680.292 Q169.015 683.417 170.913 685.199 Q172.834 686.981 176.167 686.981 Q179.501 686.981 181.422 685.199 Q183.343 683.394 183.343 680.292 Q183.343 677.167 181.422 675.384 Q179.524 673.602 176.167 673.602 M171.491 671.611 Q168.482 670.87 166.792 668.81 Q165.126 666.75 165.126 663.787 Q165.126 659.644 168.065 657.236 Q171.028 654.829 176.167 654.829 Q181.329 654.829 184.269 657.236 Q187.209 659.644 187.209 663.787 Q187.209 666.75 185.519 668.81 Q183.852 670.87 180.866 671.611 Q184.246 672.398 186.121 674.69 Q188.019 676.982 188.019 680.292 Q188.019 685.315 184.94 688 Q181.885 690.685 176.167 690.685 Q170.45 690.685 167.371 688 Q164.316 685.315 164.316 680.292 Q164.316 676.982 166.214 674.69 Q168.112 672.398 171.491 671.611 M169.778 664.227 Q169.778 666.912 171.445 668.417 Q173.135 669.921 176.167 669.921 Q179.177 669.921 180.866 668.417 Q182.579 666.912 182.579 664.227 Q182.579 661.542 180.866 660.037 Q179.177 658.533 176.167 658.533 Q173.135 658.533 171.445 660.037 Q169.778 661.542 169.778 664.227 Z\" fill=\"#000000\" fill-rule=\"evenodd\" fill-opacity=\"1\" /><path clip-path=\"url(#clip010)\" d=\"M 0 0 M193.135 655.454 L211.491 655.454 L211.491 659.389 L197.417 659.389 L197.417 667.861 Q198.436 667.514 199.454 667.352 Q200.473 667.167 201.491 667.167 Q207.278 667.167 210.658 670.338 Q214.037 673.509 214.037 678.926 Q214.037 684.505 210.565 687.606 Q207.093 690.685 200.774 690.685 Q198.598 690.685 196.329 690.315 Q194.084 689.944 191.676 689.204 L191.676 684.505 Q193.76 685.639 195.982 686.194 Q198.204 686.75 200.681 686.75 Q204.686 686.75 207.024 684.644 Q209.362 682.537 209.362 678.926 Q209.362 675.315 207.024 673.208 Q204.686 671.102 200.681 671.102 Q198.806 671.102 196.931 671.519 Q195.079 671.935 193.135 672.815 L193.135 655.454 Z\" fill=\"#000000\" fill-rule=\"evenodd\" fill-opacity=\"1\" /><path clip-path=\"url(#clip010)\" d=\"M 0 0 M138.297 417.013 Q134.686 417.013 132.857 420.578 Q131.052 424.119 131.052 431.249 Q131.052 438.355 132.857 441.92 Q134.686 445.462 138.297 445.462 Q141.931 445.462 143.737 441.92 Q145.566 438.355 145.566 431.249 Q145.566 424.119 143.737 420.578 Q141.931 417.013 138.297 417.013 M138.297 413.309 Q144.107 413.309 147.163 417.915 Q150.242 422.499 150.242 431.249 Q150.242 439.976 147.163 444.582 Q144.107 449.165 138.297 449.165 Q132.487 449.165 129.408 444.582 Q126.353 439.976 126.353 431.249 Q126.353 422.499 129.408 417.915 Q132.487 413.309 138.297 413.309 Z\" fill=\"#000000\" fill-rule=\"evenodd\" fill-opacity=\"1\" /><path clip-path=\"url(#clip010)\" d=\"M 0 0 M155.311 442.614 L160.195 442.614 L160.195 448.494 L155.311 448.494 L155.311 442.614 Z\" fill=\"#000000\" fill-rule=\"evenodd\" fill-opacity=\"1\" /><path clip-path=\"url(#clip010)\" d=\"M 0 0 M165.403 447.776 L165.403 443.517 Q167.163 444.351 168.968 444.79 Q170.774 445.23 172.51 445.23 Q177.14 445.23 179.57 442.128 Q182.024 439.003 182.371 432.661 Q181.028 434.652 178.968 435.716 Q176.908 436.781 174.408 436.781 Q169.223 436.781 166.19 433.656 Q163.181 430.508 163.181 425.068 Q163.181 419.744 166.329 416.527 Q169.478 413.309 174.709 413.309 Q180.704 413.309 183.852 417.915 Q187.024 422.499 187.024 431.249 Q187.024 439.42 183.135 444.304 Q179.269 449.165 172.718 449.165 Q170.959 449.165 169.153 448.818 Q167.348 448.471 165.403 447.776 M174.709 433.124 Q177.857 433.124 179.686 430.971 Q181.538 428.818 181.538 425.068 Q181.538 421.341 179.686 419.189 Q177.857 417.013 174.709 417.013 Q171.561 417.013 169.709 419.189 Q167.88 421.341 167.88 425.068 Q167.88 428.818 169.709 430.971 Q171.561 433.124 174.709 433.124 Z\" fill=\"#000000\" fill-rule=\"evenodd\" fill-opacity=\"1\" /><path clip-path=\"url(#clip010)\" d=\"M 0 0 M202.093 417.013 Q198.482 417.013 196.653 420.578 Q194.848 424.119 194.848 431.249 Q194.848 438.355 196.653 441.92 Q198.482 445.462 202.093 445.462 Q205.727 445.462 207.533 441.92 Q209.362 438.355 209.362 431.249 Q209.362 424.119 207.533 420.578 Q205.727 417.013 202.093 417.013 M202.093 413.309 Q207.903 413.309 210.959 417.915 Q214.037 422.499 214.037 431.249 Q214.037 439.976 210.959 444.582 Q207.903 449.165 202.093 449.165 Q196.283 449.165 193.204 444.582 Q190.149 439.976 190.149 431.249 Q190.149 422.499 193.204 417.915 Q196.283 413.309 202.093 413.309 Z\" fill=\"#000000\" fill-rule=\"evenodd\" fill-opacity=\"1\" /><path clip-path=\"url(#clip010)\" d=\"M 0 0 M139.292 175.493 Q135.681 175.493 133.853 179.058 Q132.047 182.599 132.047 189.729 Q132.047 196.835 133.853 200.4 Q135.681 203.942 139.292 203.942 Q142.927 203.942 144.732 200.4 Q146.561 196.835 146.561 189.729 Q146.561 182.599 144.732 179.058 Q142.927 175.493 139.292 175.493 M139.292 171.789 Q145.103 171.789 148.158 176.396 Q151.237 180.979 151.237 189.729 Q151.237 198.456 148.158 203.062 Q145.103 207.645 139.292 207.645 Q133.482 207.645 130.404 203.062 Q127.348 198.456 127.348 189.729 Q127.348 180.979 130.404 176.396 Q133.482 171.789 139.292 171.789 Z\" fill=\"#000000\" fill-rule=\"evenodd\" fill-opacity=\"1\" /><path clip-path=\"url(#clip010)\" d=\"M 0 0 M156.306 201.095 L161.191 201.095 L161.191 206.974 L156.306 206.974 L156.306 201.095 Z\" fill=\"#000000\" fill-rule=\"evenodd\" fill-opacity=\"1\" /><path clip-path=\"url(#clip010)\" d=\"M 0 0 M166.399 206.257 L166.399 201.997 Q168.158 202.831 169.964 203.27 Q171.769 203.71 173.505 203.71 Q178.135 203.71 180.565 200.608 Q183.019 197.483 183.366 191.141 Q182.024 193.132 179.964 194.196 Q177.903 195.261 175.403 195.261 Q170.218 195.261 167.186 192.136 Q164.177 188.988 164.177 183.548 Q164.177 178.224 167.325 175.007 Q170.473 171.789 175.704 171.789 Q181.7 171.789 184.848 176.396 Q188.019 180.979 188.019 189.729 Q188.019 197.9 184.13 202.784 Q180.264 207.645 173.714 207.645 Q171.954 207.645 170.149 207.298 Q168.343 206.951 166.399 206.257 M175.704 191.604 Q178.852 191.604 180.681 189.451 Q182.533 187.298 182.533 183.548 Q182.533 179.822 180.681 177.669 Q178.852 175.493 175.704 175.493 Q172.556 175.493 170.704 177.669 Q168.876 179.822 168.876 183.548 Q168.876 187.298 170.704 189.451 Q172.556 191.604 175.704 191.604 Z\" fill=\"#000000\" fill-rule=\"evenodd\" fill-opacity=\"1\" /><path clip-path=\"url(#clip010)\" d=\"M 0 0 M193.135 172.414 L211.491 172.414 L211.491 176.349 L197.417 176.349 L197.417 184.822 Q198.436 184.474 199.454 184.312 Q200.473 184.127 201.491 184.127 Q207.278 184.127 210.658 187.298 Q214.037 190.47 214.037 195.886 Q214.037 201.465 210.565 204.567 Q207.093 207.645 200.774 207.645 Q198.598 207.645 196.329 207.275 Q194.084 206.905 191.676 206.164 L191.676 201.465 Q193.76 202.599 195.982 203.155 Q198.204 203.71 200.681 203.71 Q204.686 203.71 207.024 201.604 Q209.362 199.497 209.362 195.886 Q209.362 192.275 207.024 190.169 Q204.686 188.062 200.681 188.062 Q198.806 188.062 196.931 188.479 Q195.079 188.896 193.135 189.775 L193.135 172.414 Z\" fill=\"#000000\" fill-rule=\"evenodd\" fill-opacity=\"1\" /><path clip-path=\"url(#clip010)\" d=\"M 0 0 M884.172 1508.52 L892.829 1508.52 L913.9 1548.28 L913.9 1508.52 L920.138 1508.52 L920.138 1556.04 L911.481 1556.04 L890.41 1516.29 L890.41 1556.04 L884.172 1556.04 L884.172 1508.52 Z\" fill=\"#000000\" fill-rule=\"evenodd\" fill-opacity=\"1\" /><path clip-path=\"url(#clip010)\" d=\"M 0 0 M925.676 1541.98 L925.676 1520.4 L931.533 1520.4 L931.533 1541.75 Q931.533 1546.81 933.506 1549.36 Q935.48 1551.87 939.426 1551.87 Q944.169 1551.87 946.906 1548.85 Q949.675 1545.83 949.675 1540.61 L949.675 1520.4 L955.532 1520.4 L955.532 1556.04 L949.675 1556.04 L949.675 1550.57 Q947.543 1553.82 944.71 1555.41 Q941.909 1556.97 938.185 1556.97 Q932.042 1556.97 928.859 1553.15 Q925.676 1549.33 925.676 1541.98 M940.413 1519.54 L940.413 1519.54 Z\" fill=\"#000000\" fill-rule=\"evenodd\" fill-opacity=\"1\" /><path clip-path=\"url(#clip010)\" d=\"M 0 0 M989.429 1527.24 Q991.625 1523.29 994.681 1521.41 Q997.736 1519.54 1001.87 1519.54 Q1007.44 1519.54 1010.47 1523.45 Q1013.49 1527.33 1013.49 1534.53 L1013.49 1556.04 L1007.6 1556.04 L1007.6 1534.72 Q1007.6 1529.59 1005.79 1527.11 Q1003.97 1524.63 1000.25 1524.63 Q995.699 1524.63 993.057 1527.65 Q990.416 1530.68 990.416 1535.9 L990.416 1556.04 L984.527 1556.04 L984.527 1534.72 Q984.527 1529.56 982.713 1527.11 Q980.899 1524.63 977.111 1524.63 Q972.624 1524.63 969.982 1527.68 Q967.34 1530.71 967.34 1535.9 L967.34 1556.04 L961.452 1556.04 L961.452 1520.4 L967.34 1520.4 L967.34 1525.93 Q969.345 1522.66 972.146 1521.1 Q974.947 1519.54 978.798 1519.54 Q982.681 1519.54 985.387 1521.51 Q988.124 1523.48 989.429 1527.24 Z\" fill=\"#000000\" fill-rule=\"evenodd\" fill-opacity=\"1\" /><path clip-path=\"url(#clip010)\" d=\"M 0 0 M1045.22 1538.25 Q1045.22 1531.79 1042.55 1528.13 Q1039.91 1524.44 1035.26 1524.44 Q1030.62 1524.44 1027.94 1528.13 Q1025.3 1531.79 1025.3 1538.25 Q1025.3 1544.71 1027.94 1548.4 Q1030.62 1552.07 1035.26 1552.07 Q1039.91 1552.07 1042.55 1548.4 Q1045.22 1544.71 1045.22 1538.25 M1025.3 1525.81 Q1027.15 1522.62 1029.95 1521.1 Q1032.78 1519.54 1036.69 1519.54 Q1043.19 1519.54 1047.23 1524.69 Q1051.3 1529.85 1051.3 1538.25 Q1051.3 1546.65 1047.23 1551.81 Q1043.19 1556.97 1036.69 1556.97 Q1032.78 1556.97 1029.95 1555.44 Q1027.15 1553.88 1025.3 1550.7 L1025.3 1556.04 L1019.41 1556.04 L1019.41 1506.52 L1025.3 1506.52 L1025.3 1525.81 Z\" fill=\"#000000\" fill-rule=\"evenodd\" fill-opacity=\"1\" /><path clip-path=\"url(#clip010)\" d=\"M 0 0 M1087.94 1536.76 L1087.94 1539.62 L1061.01 1539.62 Q1061.39 1545.67 1064.64 1548.85 Q1067.92 1552 1073.74 1552 Q1077.12 1552 1080.27 1551.17 Q1083.45 1550.35 1086.57 1548.69 L1086.57 1554.23 Q1083.42 1555.57 1080.11 1556.27 Q1076.8 1556.97 1073.39 1556.97 Q1064.86 1556.97 1059.87 1552 Q1054.9 1547.04 1054.9 1538.57 Q1054.9 1529.82 1059.61 1524.69 Q1064.35 1519.54 1072.37 1519.54 Q1079.57 1519.54 1083.74 1524.18 Q1087.94 1528.8 1087.94 1536.76 M1082.08 1535.04 Q1082.02 1530.23 1079.38 1527.37 Q1076.77 1524.5 1072.44 1524.5 Q1067.54 1524.5 1064.58 1527.27 Q1061.65 1530.04 1061.2 1535.07 L1082.08 1535.04 Z\" fill=\"#000000\" fill-rule=\"evenodd\" fill-opacity=\"1\" /><path clip-path=\"url(#clip010)\" d=\"M 0 0 M1114.74 1525.87 Q1113.75 1525.3 1112.57 1525.04 Q1111.43 1524.76 1110.03 1524.76 Q1105.06 1524.76 1102.39 1528 Q1099.75 1531.22 1099.75 1537.27 L1099.75 1556.04 L1093.86 1556.04 L1093.86 1520.4 L1099.75 1520.4 L1099.75 1525.93 Q1101.59 1522.69 1104.55 1521.13 Q1107.51 1519.54 1111.75 1519.54 Q1112.35 1519.54 1113.08 1519.63 Q1113.81 1519.7 1114.71 1519.85 L1114.74 1525.87 Z\" fill=\"#000000\" fill-rule=\"evenodd\" fill-opacity=\"1\" /><path clip-path=\"url(#clip010)\" d=\"M 0 0 M1155.41 1524.5 Q1150.7 1524.5 1147.97 1528.19 Q1145.23 1531.85 1145.23 1538.25 Q1145.23 1544.65 1147.94 1548.34 Q1150.67 1552 1155.41 1552 Q1160.09 1552 1162.83 1548.31 Q1165.57 1544.62 1165.57 1538.25 Q1165.57 1531.92 1162.83 1528.23 Q1160.09 1524.5 1155.41 1524.5 M1155.41 1519.54 Q1163.05 1519.54 1167.41 1524.5 Q1171.77 1529.47 1171.77 1538.25 Q1171.77 1547 1167.41 1552 Q1163.05 1556.97 1155.41 1556.97 Q1147.74 1556.97 1143.38 1552 Q1139.05 1547 1139.05 1538.25 Q1139.05 1529.47 1143.38 1524.5 Q1147.74 1519.54 1155.41 1519.54 Z\" fill=\"#000000\" fill-rule=\"evenodd\" fill-opacity=\"1\" /><path clip-path=\"url(#clip010)\" d=\"M 0 0 M1195.96 1506.52 L1195.96 1511.39 L1190.36 1511.39 Q1187.21 1511.39 1185.97 1512.66 Q1184.76 1513.93 1184.76 1517.24 L1184.76 1520.4 L1194.4 1520.4 L1194.4 1524.95 L1184.76 1524.95 L1184.76 1556.04 L1178.87 1556.04 L1178.87 1524.95 L1173.27 1524.95 L1173.27 1520.4 L1178.87 1520.4 L1178.87 1517.91 Q1178.87 1511.96 1181.64 1509.26 Q1184.41 1506.52 1190.43 1506.52 L1195.96 1506.52 Z\" fill=\"#000000\" fill-rule=\"evenodd\" fill-opacity=\"1\" /><path clip-path=\"url(#clip010)\" d=\"M 0 0 M1216.49 1508.52 L1256.69 1508.52 L1256.69 1513.93 L1239.82 1513.93 L1239.82 1556.04 L1233.36 1556.04 L1233.36 1513.93 L1216.49 1513.93 L1216.49 1508.52 Z\" fill=\"#000000\" fill-rule=\"evenodd\" fill-opacity=\"1\" /><path clip-path=\"url(#clip010)\" d=\"M 0 0 M1273.91 1525.87 Q1272.93 1525.3 1271.75 1525.04 Q1270.6 1524.76 1269.2 1524.76 Q1264.24 1524.76 1261.56 1528 Q1258.92 1531.22 1258.92 1537.27 L1258.92 1556.04 L1253.03 1556.04 L1253.03 1520.4 L1258.92 1520.4 L1258.92 1525.93 Q1260.77 1522.69 1263.73 1521.13 Q1266.69 1519.54 1270.92 1519.54 Q1271.53 1519.54 1272.26 1519.63 Q1272.99 1519.7 1273.88 1519.85 L1273.91 1525.87 Z\" fill=\"#000000\" fill-rule=\"evenodd\" fill-opacity=\"1\" /><path clip-path=\"url(#clip010)\" d=\"M 0 0 M1296.26 1538.12 Q1289.16 1538.12 1286.42 1539.75 Q1283.68 1541.37 1283.68 1545.29 Q1283.68 1548.4 1285.72 1550.25 Q1287.79 1552.07 1291.32 1552.07 Q1296.19 1552.07 1299.12 1548.63 Q1302.08 1545.16 1302.08 1539.43 L1302.08 1538.12 L1296.26 1538.12 M1307.94 1535.71 L1307.94 1556.04 L1302.08 1556.04 L1302.08 1550.63 Q1300.08 1553.88 1297.08 1555.44 Q1294.09 1556.97 1289.76 1556.97 Q1284.29 1556.97 1281.04 1553.91 Q1277.83 1550.82 1277.83 1545.67 Q1277.83 1539.65 1281.84 1536.6 Q1285.88 1533.54 1293.87 1533.54 L1302.08 1533.54 L1302.08 1532.97 Q1302.08 1528.93 1299.41 1526.73 Q1296.77 1524.5 1291.96 1524.5 Q1288.9 1524.5 1286.01 1525.23 Q1283.11 1525.97 1280.44 1527.43 L1280.44 1522.02 Q1283.65 1520.78 1286.68 1520.17 Q1289.7 1519.54 1292.56 1519.54 Q1300.3 1519.54 1304.12 1523.55 Q1307.94 1527.56 1307.94 1535.71 Z\" fill=\"#000000\" fill-rule=\"evenodd\" fill-opacity=\"1\" /><path clip-path=\"url(#clip010)\" d=\"M 0 0 M1314.08 1520.4 L1319.94 1520.4 L1319.94 1556.04 L1314.08 1556.04 L1314.08 1520.4 M1314.08 1506.52 L1319.94 1506.52 L1319.94 1513.93 L1314.08 1513.93 L1314.08 1506.52 Z\" fill=\"#000000\" fill-rule=\"evenodd\" fill-opacity=\"1\" /><path clip-path=\"url(#clip010)\" d=\"M 0 0 M1355.71 1534.53 L1355.71 1556.04 L1349.86 1556.04 L1349.86 1534.72 Q1349.86 1529.66 1347.88 1527.14 Q1345.91 1524.63 1341.96 1524.63 Q1337.22 1524.63 1334.48 1527.65 Q1331.74 1530.68 1331.74 1535.9 L1331.74 1556.04 L1325.86 1556.04 L1325.86 1520.4 L1331.74 1520.4 L1331.74 1525.93 Q1333.85 1522.72 1336.68 1521.13 Q1339.54 1519.54 1343.27 1519.54 Q1349.41 1519.54 1352.56 1523.36 Q1355.71 1527.14 1355.71 1534.53 Z\" fill=\"#000000\" fill-rule=\"evenodd\" fill-opacity=\"1\" /><path clip-path=\"url(#clip010)\" d=\"M 0 0 M1361.85 1520.4 L1367.71 1520.4 L1367.71 1556.04 L1361.85 1556.04 L1361.85 1520.4 M1361.85 1506.52 L1367.71 1506.52 L1367.71 1513.93 L1361.85 1513.93 L1361.85 1506.52 Z\" fill=\"#000000\" fill-rule=\"evenodd\" fill-opacity=\"1\" /><path clip-path=\"url(#clip010)\" d=\"M 0 0 M1403.49 1534.53 L1403.49 1556.04 L1397.63 1556.04 L1397.63 1534.72 Q1397.63 1529.66 1395.66 1527.14 Q1393.68 1524.63 1389.74 1524.63 Q1384.99 1524.63 1382.26 1527.65 Q1379.52 1530.68 1379.52 1535.9 L1379.52 1556.04 L1373.63 1556.04 L1373.63 1520.4 L1379.52 1520.4 L1379.52 1525.93 Q1381.62 1522.72 1384.45 1521.13 Q1387.32 1519.54 1391.04 1519.54 Q1397.18 1519.54 1400.34 1523.36 Q1403.49 1527.14 1403.49 1534.53 Z\" fill=\"#000000\" fill-rule=\"evenodd\" fill-opacity=\"1\" /><path clip-path=\"url(#clip010)\" d=\"M 0 0 M1433.09 1537.81 Q1433.09 1531.44 1430.45 1527.94 Q1427.84 1524.44 1423.09 1524.44 Q1418.38 1524.44 1415.74 1527.94 Q1413.13 1531.44 1413.13 1537.81 Q1413.13 1544.14 1415.74 1547.64 Q1418.38 1551.14 1423.09 1551.14 Q1427.84 1551.14 1430.45 1547.64 Q1433.09 1544.14 1433.09 1537.81 M1438.94 1551.62 Q1438.94 1560.72 1434.9 1565.15 Q1430.86 1569.6 1422.52 1569.6 Q1419.43 1569.6 1416.7 1569.13 Q1413.96 1568.68 1411.38 1567.72 L1411.38 1562.03 Q1413.96 1563.43 1416.47 1564.1 Q1418.99 1564.76 1421.6 1564.76 Q1427.36 1564.76 1430.22 1561.74 Q1433.09 1558.75 1433.09 1552.67 L1433.09 1549.77 Q1431.27 1552.92 1428.44 1554.48 Q1425.61 1556.04 1421.66 1556.04 Q1415.1 1556.04 1411.09 1551.05 Q1407.08 1546.05 1407.08 1537.81 Q1407.08 1529.53 1411.09 1524.53 Q1415.1 1519.54 1421.66 1519.54 Q1425.61 1519.54 1428.44 1521.1 Q1431.27 1522.66 1433.09 1525.81 L1433.09 1520.4 L1438.94 1520.4 L1438.94 1551.62 Z\" fill=\"#000000\" fill-rule=\"evenodd\" fill-opacity=\"1\" /><path clip-path=\"url(#clip010)\" d=\"M 0 0 M1494.55 1510.08 L1494.55 1516.35 Q1490.89 1514.6 1487.64 1513.74 Q1484.39 1512.88 1481.37 1512.88 Q1476.12 1512.88 1473.25 1514.92 Q1470.42 1516.96 1470.42 1520.71 Q1470.42 1523.87 1472.3 1525.49 Q1474.21 1527.08 1479.49 1528.07 L1483.38 1528.86 Q1490.57 1530.23 1493.97 1533.7 Q1497.41 1537.14 1497.41 1542.93 Q1497.41 1549.84 1492.77 1553.4 Q1488.15 1556.97 1479.21 1556.97 Q1475.83 1556.97 1472.01 1556.2 Q1468.23 1555.44 1464.15 1553.94 L1464.15 1547.32 Q1468.07 1549.52 1471.82 1550.63 Q1475.58 1551.75 1479.21 1551.75 Q1484.71 1551.75 1487.7 1549.58 Q1490.7 1547.42 1490.7 1543.41 Q1490.7 1539.91 1488.53 1537.93 Q1486.4 1535.96 1481.5 1534.97 L1477.58 1534.21 Q1470.39 1532.78 1467.18 1529.72 Q1463.96 1526.67 1463.96 1521.22 Q1463.96 1514.92 1468.38 1511.29 Q1472.84 1507.66 1480.64 1507.66 Q1483.98 1507.66 1487.45 1508.27 Q1490.92 1508.87 1494.55 1510.08 Z\" fill=\"#000000\" fill-rule=\"evenodd\" fill-opacity=\"1\" /><path clip-path=\"url(#clip010)\" d=\"M 0 0 M1519.76 1538.12 Q1512.66 1538.12 1509.92 1539.75 Q1507.18 1541.37 1507.18 1545.29 Q1507.18 1548.4 1509.22 1550.25 Q1511.29 1552.07 1514.82 1552.07 Q1519.69 1552.07 1522.62 1548.63 Q1525.58 1545.16 1525.58 1539.43 L1525.58 1538.12 L1519.76 1538.12 M1531.44 1535.71 L1531.44 1556.04 L1525.58 1556.04 L1525.58 1550.63 Q1523.58 1553.88 1520.58 1555.44 Q1517.59 1556.97 1513.26 1556.97 Q1507.79 1556.97 1504.54 1553.91 Q1501.33 1550.82 1501.33 1545.67 Q1501.33 1539.65 1505.34 1536.6 Q1509.38 1533.54 1517.37 1533.54 L1525.58 1533.54 L1525.58 1532.97 Q1525.58 1528.93 1522.91 1526.73 Q1520.27 1524.5 1515.46 1524.5 Q1512.4 1524.5 1509.51 1525.23 Q1506.61 1525.97 1503.94 1527.43 L1503.94 1522.02 Q1507.15 1520.78 1510.18 1520.17 Q1513.2 1519.54 1516.06 1519.54 Q1523.8 1519.54 1527.62 1523.55 Q1531.44 1527.56 1531.44 1535.71 Z\" fill=\"#000000\" fill-rule=\"evenodd\" fill-opacity=\"1\" /><path clip-path=\"url(#clip010)\" d=\"M 0 0 M1565.33 1527.24 Q1567.53 1523.29 1570.59 1521.41 Q1573.64 1519.54 1577.78 1519.54 Q1583.35 1519.54 1586.37 1523.45 Q1589.4 1527.33 1589.4 1534.53 L1589.4 1556.04 L1583.51 1556.04 L1583.51 1534.72 Q1583.51 1529.59 1581.69 1527.11 Q1579.88 1524.63 1576.16 1524.63 Q1571.6 1524.63 1568.96 1527.65 Q1566.32 1530.68 1566.32 1535.9 L1566.32 1556.04 L1560.43 1556.04 L1560.43 1534.72 Q1560.43 1529.56 1558.62 1527.11 Q1556.8 1524.63 1553.02 1524.63 Q1548.53 1524.63 1545.89 1527.68 Q1543.25 1530.71 1543.25 1535.9 L1543.25 1556.04 L1537.36 1556.04 L1537.36 1520.4 L1543.25 1520.4 L1543.25 1525.93 Q1545.25 1522.66 1548.05 1521.1 Q1550.85 1519.54 1554.7 1519.54 Q1558.59 1519.54 1561.29 1521.51 Q1564.03 1523.48 1565.33 1527.24 Z\" fill=\"#000000\" fill-rule=\"evenodd\" fill-opacity=\"1\" /><path clip-path=\"url(#clip010)\" d=\"M 0 0 M1601.21 1550.7 L1601.21 1569.6 L1595.32 1569.6 L1595.32 1520.4 L1601.21 1520.4 L1601.21 1525.81 Q1603.05 1522.62 1605.85 1521.1 Q1608.68 1519.54 1612.6 1519.54 Q1619.09 1519.54 1623.14 1524.69 Q1627.21 1529.85 1627.21 1538.25 Q1627.21 1546.65 1623.14 1551.81 Q1619.09 1556.97 1612.6 1556.97 Q1608.68 1556.97 1605.85 1555.44 Q1603.05 1553.88 1601.21 1550.7 M1621.13 1538.25 Q1621.13 1531.79 1618.46 1528.13 Q1615.81 1524.44 1611.17 1524.44 Q1606.52 1524.44 1603.85 1528.13 Q1601.21 1531.79 1601.21 1538.25 Q1601.21 1544.71 1603.85 1548.4 Q1606.52 1552.07 1611.17 1552.07 Q1615.81 1552.07 1618.46 1548.4 Q1621.13 1544.71 1621.13 1538.25 Z\" fill=\"#000000\" fill-rule=\"evenodd\" fill-opacity=\"1\" /><path clip-path=\"url(#clip010)\" d=\"M 0 0 M1633.35 1506.52 L1639.21 1506.52 L1639.21 1556.04 L1633.35 1556.04 L1633.35 1506.52 Z\" fill=\"#000000\" fill-rule=\"evenodd\" fill-opacity=\"1\" /><path clip-path=\"url(#clip010)\" d=\"M 0 0 M1675.84 1536.76 L1675.84 1539.62 L1648.92 1539.62 Q1649.3 1545.67 1652.54 1548.85 Q1655.82 1552 1661.65 1552 Q1665.02 1552 1668.17 1551.17 Q1671.36 1550.35 1674.47 1548.69 L1674.47 1554.23 Q1671.32 1555.57 1668.01 1556.27 Q1664.7 1556.97 1661.3 1556.97 Q1652.77 1556.97 1647.77 1552 Q1642.81 1547.04 1642.81 1538.57 Q1642.81 1529.82 1647.52 1524.69 Q1652.26 1519.54 1660.28 1519.54 Q1667.47 1519.54 1671.64 1524.18 Q1675.84 1528.8 1675.84 1536.76 M1669.99 1535.04 Q1669.92 1530.23 1667.28 1527.37 Q1664.67 1524.5 1660.34 1524.5 Q1655.44 1524.5 1652.48 1527.27 Q1649.55 1530.04 1649.11 1535.07 L1669.99 1535.04 Z\" fill=\"#000000\" fill-rule=\"evenodd\" fill-opacity=\"1\" /><path clip-path=\"url(#clip010)\" d=\"M 0 0 M1704.71 1521.45 L1704.71 1526.98 Q1702.23 1525.71 1699.56 1525.07 Q1696.88 1524.44 1694.02 1524.44 Q1689.66 1524.44 1687.46 1525.77 Q1685.3 1527.11 1685.3 1529.79 Q1685.3 1531.82 1686.86 1533 Q1688.42 1534.15 1693.13 1535.2 L1695.13 1535.64 Q1701.37 1536.98 1703.98 1539.43 Q1706.62 1541.85 1706.62 1546.21 Q1706.62 1551.17 1702.67 1554.07 Q1698.76 1556.97 1691.88 1556.97 Q1689.02 1556.97 1685.9 1556.39 Q1682.81 1555.85 1679.38 1554.74 L1679.38 1548.69 Q1682.62 1550.38 1685.77 1551.24 Q1688.92 1552.07 1692.01 1552.07 Q1696.15 1552.07 1698.38 1550.66 Q1700.61 1549.23 1700.61 1546.65 Q1700.61 1544.27 1698.98 1542.99 Q1697.39 1541.72 1691.95 1540.54 L1689.91 1540.07 Q1684.47 1538.92 1682.05 1536.56 Q1679.63 1534.18 1679.63 1530.04 Q1679.63 1525.01 1683.2 1522.27 Q1686.76 1519.54 1693.32 1519.54 Q1696.56 1519.54 1699.43 1520.01 Q1702.29 1520.49 1704.71 1521.45 Z\" fill=\"#000000\" fill-rule=\"evenodd\" fill-opacity=\"1\" /><path clip-path=\"url(#clip010)\" d=\"M 0 0 M44.1444 1026.82 L50.9239 1026.82 Q47.9002 1030.07 46.4043 1033.76 Q44.9083 1037.42 44.9083 1041.56 Q44.9083 1049.71 49.9054 1054.04 Q54.8707 1058.37 64.2919 1058.37 Q73.6813 1058.37 78.6784 1054.04 Q83.6436 1049.71 83.6436 1041.56 Q83.6436 1037.42 82.1477 1033.76 Q80.6518 1030.07 77.6281 1026.82 L84.3439 1026.82 Q86.6355 1030.2 87.7814 1033.99 Q88.9272 1037.74 88.9272 1041.94 Q88.9272 1052.73 82.3387 1058.94 Q75.7183 1065.15 64.2919 1065.15 Q52.8336 1065.15 46.2451 1058.94 Q39.6248 1052.73 39.6248 1041.94 Q39.6248 1037.68 40.7706 1033.92 Q41.8846 1030.14 44.1444 1026.82 Z\" fill=\"#000000\" fill-rule=\"evenodd\" fill-opacity=\"1\" /><path clip-path=\"url(#clip010)\" d=\"M 0 0 M38.479 1020.68 L38.479 1014.83 L88.0042 1014.83 L88.0042 1020.68 L38.479 1020.68 Z\" fill=\"#000000\" fill-rule=\"evenodd\" fill-opacity=\"1\" /><path clip-path=\"url(#clip010)\" d=\"M 0 0 M70.0847 992.482 Q70.0847 999.58 71.7079 1002.32 Q73.3312 1005.05 77.2461 1005.05 Q80.3653 1005.05 82.2114 1003.02 Q84.0256 1000.95 84.0256 997.415 Q84.0256 992.546 80.5881 989.617 Q77.1188 986.657 71.3897 986.657 L70.0847 986.657 L70.0847 992.482 M67.6657 980.801 L88.0042 980.801 L88.0042 986.657 L82.5933 986.657 Q85.8398 988.663 87.3994 991.654 Q88.9272 994.646 88.9272 998.975 Q88.9272 1004.45 85.8716 1007.7 Q82.7843 1010.91 77.6281 1010.91 Q71.6125 1010.91 68.5569 1006.9 Q65.5014 1002.86 65.5014 994.869 L65.5014 986.657 L64.9285 986.657 Q60.8862 986.657 58.6901 989.331 Q56.4621 991.973 56.4621 996.779 Q56.4621 999.834 57.1941 1002.73 Q57.9262 1005.63 59.3903 1008.3 L53.9795 1008.3 Q52.7381 1005.09 52.1334 1002.06 Q51.4968 999.039 51.4968 996.174 Q51.4968 988.44 55.5072 984.62 Q59.5176 980.801 67.6657 980.801 Z\" fill=\"#000000\" fill-rule=\"evenodd\" fill-opacity=\"1\" /><path clip-path=\"url(#clip010)\" d=\"M 0 0 M53.4065 951.932 L58.9447 951.932 Q57.6716 954.415 57.035 957.089 Q56.3984 959.762 56.3984 962.627 Q56.3984 966.987 57.7352 969.184 Q59.072 971.348 61.7456 971.348 Q63.7826 971.348 64.9603 969.788 Q66.1061 968.229 67.1565 963.518 L67.6021 961.513 Q68.9389 955.274 71.3897 952.665 Q73.8086 950.023 78.1691 950.023 Q83.1344 950.023 86.0308 953.969 Q88.9272 957.884 88.9272 964.759 Q88.9272 967.624 88.3543 970.743 Q87.8132 973.83 86.6992 977.268 L80.6518 977.268 Q82.3387 974.021 83.198 970.87 Q84.0256 967.719 84.0256 964.632 Q84.0256 960.494 82.6251 958.266 Q81.1929 956.038 78.6147 956.038 Q76.2276 956.038 74.9545 957.662 Q73.6813 959.253 72.5037 964.696 L72.0262 966.733 Q70.8804 972.175 68.5251 974.594 Q66.138 977.013 62.0002 977.013 Q56.9713 977.013 54.2341 973.449 Q51.4968 969.884 51.4968 963.327 Q51.4968 960.081 51.9743 957.216 Q52.4517 954.351 53.4065 951.932 Z\" fill=\"#000000\" fill-rule=\"evenodd\" fill-opacity=\"1\" /><path clip-path=\"url(#clip010)\" d=\"M 0 0 M53.4065 921.154 L58.9447 921.154 Q57.6716 923.637 57.035 926.31 Q56.3984 928.984 56.3984 931.849 Q56.3984 936.209 57.7352 938.405 Q59.072 940.57 61.7456 940.57 Q63.7826 940.57 64.9603 939.01 Q66.1061 937.45 67.1565 932.74 L67.6021 930.735 Q68.9389 924.496 71.3897 921.886 Q73.8086 919.245 78.1691 919.245 Q83.1344 919.245 86.0308 923.191 Q88.9272 927.106 88.9272 933.981 Q88.9272 936.846 88.3543 939.965 Q87.8132 943.052 86.6992 946.49 L80.6518 946.49 Q82.3387 943.243 83.198 940.092 Q84.0256 936.941 84.0256 933.854 Q84.0256 929.716 82.6251 927.488 Q81.1929 925.26 78.6147 925.26 Q76.2276 925.26 74.9545 926.883 Q73.6813 928.475 72.5037 933.918 L72.0262 935.955 Q70.8804 941.397 68.5251 943.816 Q66.138 946.235 62.0002 946.235 Q56.9713 946.235 54.2341 942.67 Q51.4968 939.106 51.4968 932.549 Q51.4968 929.302 51.9743 926.438 Q52.4517 923.573 53.4065 921.154 Z\" fill=\"#000000\" fill-rule=\"evenodd\" fill-opacity=\"1\" /><path clip-path=\"url(#clip010)\" d=\"M 0 0 M52.3562 913.102 L52.3562 907.245 L88.0042 907.245 L88.0042 913.102 L52.3562 913.102 M38.479 913.102 L38.479 907.245 L45.895 907.245 L45.895 913.102 L38.479 913.102 Z\" fill=\"#000000\" fill-rule=\"evenodd\" fill-opacity=\"1\" /><path clip-path=\"url(#clip010)\" d=\"M 0 0 M38.479 883.056 L43.3487 883.056 L43.3487 888.657 Q43.3487 891.808 44.6219 893.05 Q45.895 894.259 49.2052 894.259 L52.3562 894.259 L52.3562 884.615 L56.9077 884.615 L56.9077 894.259 L88.0042 894.259 L88.0042 900.147 L56.9077 900.147 L56.9077 905.749 L52.3562 905.749 L52.3562 900.147 L49.8736 900.147 Q43.9216 900.147 41.2162 897.378 Q38.479 894.609 38.479 888.594 L38.479 883.056 Z\" fill=\"#000000\" fill-rule=\"evenodd\" fill-opacity=\"1\" /><path clip-path=\"url(#clip010)\" d=\"M 0 0 M52.3562 876.913 L52.3562 871.056 L88.0042 871.056 L88.0042 876.913 L52.3562 876.913 M38.479 876.913 L38.479 871.056 L45.895 871.056 L45.895 876.913 L38.479 876.913 Z\" fill=\"#000000\" fill-rule=\"evenodd\" fill-opacity=\"1\" /><path clip-path=\"url(#clip010)\" d=\"M 0 0 M53.7248 839.259 L59.1993 839.259 Q57.8307 841.742 57.1623 844.257 Q56.4621 846.739 56.4621 849.285 Q56.4621 854.983 60.0905 858.134 Q63.6872 861.285 70.212 861.285 Q76.7369 861.285 80.3653 858.134 Q83.9619 854.983 83.9619 849.285 Q83.9619 846.739 83.2935 844.257 Q82.5933 841.742 81.2247 839.259 L86.6355 839.259 Q87.7814 841.71 88.3543 844.352 Q88.9272 846.962 88.9272 849.922 Q88.9272 857.975 83.8664 862.717 Q78.8057 867.46 70.212 867.46 Q61.491 867.46 56.4939 862.685 Q51.4968 857.879 51.4968 849.54 Q51.4968 846.835 52.0697 844.257 Q52.6108 841.678 53.7248 839.259 Z\" fill=\"#000000\" fill-rule=\"evenodd\" fill-opacity=\"1\" /><path clip-path=\"url(#clip010)\" d=\"M 0 0 M70.0847 816.916 Q70.0847 824.014 71.7079 826.751 Q73.3312 829.488 77.2461 829.488 Q80.3653 829.488 82.2114 827.451 Q84.0256 825.382 84.0256 821.849 Q84.0256 816.979 80.5881 814.051 Q77.1188 811.091 71.3897 811.091 L70.0847 811.091 L70.0847 816.916 M67.6657 805.235 L88.0042 805.235 L88.0042 811.091 L82.5933 811.091 Q85.8398 813.096 87.3994 816.088 Q88.9272 819.08 88.9272 823.409 Q88.9272 828.883 85.8716 832.13 Q82.7843 835.345 77.6281 835.345 Q71.6125 835.345 68.5569 831.334 Q65.5014 827.292 65.5014 819.303 L65.5014 811.091 L64.9285 811.091 Q60.8862 811.091 58.6901 813.765 Q56.4621 816.407 56.4621 821.213 Q56.4621 824.268 57.1941 827.165 Q57.9262 830.061 59.3903 832.735 L53.9795 832.735 Q52.7381 829.52 52.1334 826.496 Q51.4968 823.472 51.4968 820.608 Q51.4968 812.874 55.5072 809.054 Q59.5176 805.235 67.6657 805.235 Z\" fill=\"#000000\" fill-rule=\"evenodd\" fill-opacity=\"1\" /><path clip-path=\"url(#clip010)\" d=\"M 0 0 M42.2347 793.299 L52.3562 793.299 L52.3562 781.236 L56.9077 781.236 L56.9077 793.299 L76.2594 793.299 Q80.6199 793.299 81.8613 792.121 Q83.1026 790.912 83.1026 787.252 L83.1026 781.236 L88.0042 781.236 L88.0042 787.252 Q88.0042 794.031 85.4897 796.609 Q82.9434 799.187 76.2594 799.187 L56.9077 799.187 L56.9077 803.484 L52.3562 803.484 L52.3562 799.187 L42.2347 799.187 L42.2347 793.299 Z\" fill=\"#000000\" fill-rule=\"evenodd\" fill-opacity=\"1\" /><path clip-path=\"url(#clip010)\" d=\"M 0 0 M52.3562 775.093 L52.3562 769.237 L88.0042 769.237 L88.0042 775.093 L52.3562 775.093 M38.479 775.093 L38.479 769.237 L45.895 769.237 L45.895 775.093 L38.479 775.093 Z\" fill=\"#000000\" fill-rule=\"evenodd\" fill-opacity=\"1\" /><path clip-path=\"url(#clip010)\" d=\"M 0 0 M56.4621 749.28 Q56.4621 753.991 60.1542 756.728 Q63.8145 759.465 70.212 759.465 Q76.6095 759.465 80.3017 756.76 Q83.9619 754.023 83.9619 749.28 Q83.9619 744.601 80.2698 741.864 Q76.5777 739.127 70.212 739.127 Q63.8781 739.127 60.186 741.864 Q56.4621 744.601 56.4621 749.28 M51.4968 749.28 Q51.4968 741.641 56.4621 737.281 Q61.4273 732.92 70.212 732.92 Q78.9649 732.92 83.9619 737.281 Q88.9272 741.641 88.9272 749.28 Q88.9272 756.951 83.9619 761.311 Q78.9649 765.64 70.212 765.64 Q61.4273 765.64 56.4621 761.311 Q51.4968 756.951 51.4968 749.28 Z\" fill=\"#000000\" fill-rule=\"evenodd\" fill-opacity=\"1\" /><path clip-path=\"url(#clip010)\" d=\"M 0 0 M66.4881 697.145 L88.0042 697.145 L88.0042 703.001 L66.679 703.001 Q61.6183 703.001 59.1038 704.975 Q56.5894 706.948 56.5894 710.895 Q56.5894 715.637 59.6131 718.375 Q62.6368 721.112 67.8567 721.112 L88.0042 721.112 L88.0042 727 L52.3562 727 L52.3562 721.112 L57.8944 721.112 Q54.6797 719.011 53.0883 716.179 Q51.4968 713.314 51.4968 709.59 Q51.4968 703.447 55.3163 700.296 Q59.1038 697.145 66.4881 697.145 Z\" fill=\"#000000\" fill-rule=\"evenodd\" fill-opacity=\"1\" /><path clip-path=\"url(#clip010)\" d=\"M 0 0 M46.818 654.145 L70.4666 662.866 L70.4666 645.392 L46.818 654.145 M40.4842 657.773 L40.4842 650.484 L88.0042 632.374 L88.0042 639.058 L75.8138 643.387 L75.8138 664.807 L88.0042 669.136 L88.0042 675.915 L40.4842 657.773 Z\" fill=\"#000000\" fill-rule=\"evenodd\" fill-opacity=\"1\" /><path clip-path=\"url(#clip010)\" d=\"M 0 0 M53.7248 601.723 L59.1993 601.723 Q57.8307 604.206 57.1623 606.72 Q56.4621 609.203 56.4621 611.749 Q56.4621 617.446 60.0905 620.597 Q63.6872 623.748 70.212 623.748 Q76.7369 623.748 80.3653 620.597 Q83.9619 617.446 83.9619 611.749 Q83.9619 609.203 83.2935 606.72 Q82.5933 604.206 81.2247 601.723 L86.6355 601.723 Q87.7814 604.174 88.3543 606.816 Q88.9272 609.426 88.9272 612.386 Q88.9272 620.438 83.8664 625.181 Q78.8057 629.923 70.212 629.923 Q61.491 629.923 56.4939 625.149 Q51.4968 620.343 51.4968 612.004 Q51.4968 609.298 52.0697 606.72 Q52.6108 604.142 53.7248 601.723 Z\" fill=\"#000000\" fill-rule=\"evenodd\" fill-opacity=\"1\" /><path clip-path=\"url(#clip010)\" d=\"M 0 0 M53.7248 569.926 L59.1993 569.926 Q57.8307 572.409 57.1623 574.923 Q56.4621 577.406 56.4621 579.952 Q56.4621 585.65 60.0905 588.801 Q63.6872 591.952 70.212 591.952 Q76.7369 591.952 80.3653 588.801 Q83.9619 585.65 83.9619 579.952 Q83.9619 577.406 83.2935 574.923 Q82.5933 572.409 81.2247 569.926 L86.6355 569.926 Q87.7814 572.377 88.3543 575.019 Q88.9272 577.629 88.9272 580.589 Q88.9272 588.642 83.8664 593.384 Q78.8057 598.126 70.212 598.126 Q61.491 598.126 56.4939 593.352 Q51.4968 588.546 51.4968 580.207 Q51.4968 577.502 52.0697 574.923 Q52.6108 572.345 53.7248 569.926 Z\" fill=\"#000000\" fill-rule=\"evenodd\" fill-opacity=\"1\" /><path clip-path=\"url(#clip010)\" d=\"M 0 0 M73.9359 564.388 L52.3562 564.388 L52.3562 558.532 L73.7131 558.532 Q78.7739 558.532 81.3202 556.558 Q83.8346 554.585 83.8346 550.638 Q83.8346 545.896 80.8109 543.159 Q77.7872 540.39 72.5673 540.39 L52.3562 540.39 L52.3562 534.533 L88.0042 534.533 L88.0042 540.39 L82.5296 540.39 Q85.7762 542.522 87.3676 545.355 Q88.9272 548.156 88.9272 551.88 Q88.9272 558.023 85.1078 561.205 Q81.2883 564.388 73.9359 564.388 M51.4968 549.652 L51.4968 549.652 Z\" fill=\"#000000\" fill-rule=\"evenodd\" fill-opacity=\"1\" /><path clip-path=\"url(#clip010)\" d=\"M 0 0 M57.8307 507.733 Q57.2578 508.72 57.0032 509.898 Q56.7167 511.044 56.7167 512.444 Q56.7167 517.409 59.9632 520.083 Q63.1779 522.725 69.2253 522.725 L88.0042 522.725 L88.0042 528.613 L52.3562 528.613 L52.3562 522.725 L57.8944 522.725 Q54.6479 520.879 53.0883 517.919 Q51.4968 514.959 51.4968 510.725 Q51.4968 510.121 51.5923 509.389 Q51.656 508.656 51.8151 507.765 L57.8307 507.733 Z\" fill=\"#000000\" fill-rule=\"evenodd\" fill-opacity=\"1\" /><path clip-path=\"url(#clip010)\" d=\"M 0 0 M70.0847 485.39 Q70.0847 492.488 71.7079 495.225 Q73.3312 497.962 77.2461 497.962 Q80.3653 497.962 82.2114 495.925 Q84.0256 493.856 84.0256 490.323 Q84.0256 485.453 80.5881 482.525 Q77.1188 479.565 71.3897 479.565 L70.0847 479.565 L70.0847 485.39 M67.6657 473.709 L88.0042 473.709 L88.0042 479.565 L82.5933 479.565 Q85.8398 481.57 87.3994 484.562 Q88.9272 487.554 88.9272 491.883 Q88.9272 497.357 85.8716 500.604 Q82.7843 503.819 77.6281 503.819 Q71.6125 503.819 68.5569 499.808 Q65.5014 495.766 65.5014 487.777 L65.5014 479.565 L64.9285 479.565 Q60.8862 479.565 58.6901 482.239 Q56.4621 484.881 56.4621 489.687 Q56.4621 492.742 57.1941 495.639 Q57.9262 498.535 59.3903 501.209 L53.9795 501.209 Q52.7381 497.994 52.1334 494.97 Q51.4968 491.946 51.4968 489.082 Q51.4968 481.348 55.5072 477.528 Q59.5176 473.709 67.6657 473.709 Z\" fill=\"#000000\" fill-rule=\"evenodd\" fill-opacity=\"1\" /><path clip-path=\"url(#clip010)\" d=\"M 0 0 M53.7248 441.912 L59.1993 441.912 Q57.8307 444.395 57.1623 446.909 Q56.4621 449.392 56.4621 451.938 Q56.4621 457.635 60.0905 460.786 Q63.6872 463.937 70.212 463.937 Q76.7369 463.937 80.3653 460.786 Q83.9619 457.635 83.9619 451.938 Q83.9619 449.392 83.2935 446.909 Q82.5933 444.395 81.2247 441.912 L86.6355 441.912 Q87.7814 444.363 88.3543 447.005 Q88.9272 449.615 88.9272 452.575 Q88.9272 460.627 83.8664 465.37 Q78.8057 470.112 70.212 470.112 Q61.491 470.112 56.4939 465.338 Q51.4968 460.532 51.4968 452.193 Q51.4968 449.487 52.0697 446.909 Q52.6108 444.331 53.7248 441.912 Z\" fill=\"#000000\" fill-rule=\"evenodd\" fill-opacity=\"1\" /><path clip-path=\"url(#clip010)\" d=\"M 0 0 M91.3143 420.937 Q97.68 423.42 99.6216 425.775 Q101.563 428.13 101.563 432.077 L101.563 436.756 L96.6615 436.756 L96.6615 433.318 Q96.6615 430.899 95.5157 429.563 Q94.3699 428.226 90.1048 426.603 L87.4312 425.552 L52.3562 439.97 L52.3562 433.764 L80.238 422.624 L52.3562 411.484 L52.3562 405.277 L91.3143 420.937 Z\" fill=\"#000000\" fill-rule=\"evenodd\" fill-opacity=\"1\" /><polyline clip-path=\"url(#clip012)\" style=\"stroke:#009af9; stroke-width:4; stroke-opacity:1; fill:none\" points=\"\n",
       "  297.888,431.214 315.086,592.227 332.285,431.214 349.483,141.39 366.682,109.188 383.88,86.1857 401.079,431.214 418.277,484.885 435.475,624.43 452.674,475.127 \n",
       "  469.872,592.227 487.071,765.626 504.269,845.248 521.468,849.848 538.666,974.634 555.864,1084.74 573.063,1021.6 590.261,965.1 607.46,914.254 624.658,776.242 \n",
       "  641.857,694.69 659.055,620.23 676.253,632.481 693.452,566.465 710.65,542.685 727.849,520.666 745.047,534.723 762.245,514.497 779.444,560.025 796.642,571.451 \n",
       "  813.841,551.974 831.039,533.677 848.238,516.456 865.436,500.22 882.634,484.885 899.833,470.379 917.031,482.06 934.23,468.371 951.428,431.214 968.627,419.433 \n",
       "  985.825,385.21 1003.02,419.981 1020.22,387.301 1037.42,420.48 1054.62,410.212 1071.82,400.382 1089.02,411.087 1106.21,401.64 1123.41,373.249 1140.61,364.914 \n",
       "  1157.81,431.214 1175.01,476.784 1192.21,466.995 1209.4,475.127 1226.6,500.22 1243.8,507.483 1261,497.84 1278.2,521.272 1295.4,527.822 1312.6,518.32 \n",
       "  1329.79,509.124 1346.99,530.889 1364.19,521.784 1381.39,498.096 1398.59,489.764 1415.79,510.519 1432.98,516.456 1450.18,536.223 1467.38,514.021 1484.58,519.658 \n",
       "  1501.78,525.138 1518.98,543.703 1536.17,509.545 1553.37,476.298 1570.57,456.637 1587.77,475.127 1604.97,455.985 1622.17,474.015 1639.37,455.366 1656.56,472.958 \n",
       "  1673.76,466.558 1690.96,460.313 1708.16,465.717 1725.36,482.359 1742.56,476.148 1759.75,447.871 1776.95,431.214 1794.15,425.787 1811.35,420.48 1828.55,415.29 \n",
       "  1845.75,431.214 1862.94,426.02 1880.14,441.491 1897.34,436.299 1914.54,441.277 1931.74,446.153 1948.94,450.93 1966.14,445.852 1983.33,440.875 2000.53,435.997 \n",
       "  2017.73,412.271 2034.93,426.524 2052.13,421.925 2069.33,417.413 2086.52,422.1 2103.72,426.7 2120.92,431.214 2138.12,417.919 2155.32,404.866 2172.52,409.455 \n",
       "  2189.71,396.711 2206.91,401.291 2224.11,397.316 2241.31,393.411 2258.51,389.573 2275.71,402.314 2292.91,390.278 \n",
       "  \"/>\n",
       "<polyline clip-path=\"url(#clip012)\" style=\"stroke:#e26f46; stroke-width:4; stroke-opacity:1; fill:none\" points=\"\n",
       "  297.888,1384.24 315.086,1384.24 332.285,1253.69 349.483,927.309 366.682,894.671 383.88,894.671 401.079,862.033 418.277,796.758 435.475,862.033 452.674,862.033 \n",
       "  469.872,927.309 487.071,992.584 504.269,927.309 521.468,1090.5 538.666,1155.77 555.864,1188.41 573.063,1123.14 590.261,1253.69 607.46,1188.41 624.658,1155.77 \n",
       "  641.857,1253.69 659.055,1253.69 676.253,1318.96 693.452,1123.14 710.65,1123.14 727.849,1123.14 745.047,1123.14 762.245,992.584 779.444,959.947 796.642,992.584 \n",
       "  813.841,894.671 831.039,1025.22 848.238,1025.22 865.436,959.947 882.634,959.947 899.833,992.584 917.031,992.584 934.23,959.947 951.428,959.947 968.627,959.947 \n",
       "  985.825,992.584 1003.02,1025.22 1020.22,1057.86 1037.42,992.584 1054.62,992.584 1071.82,959.947 1089.02,959.947 1106.21,959.947 1123.41,1025.22 1140.61,1057.86 \n",
       "  1157.81,1057.86 1175.01,1025.22 1192.21,1025.22 1209.4,1025.22 1226.6,1057.86 1243.8,1057.86 1261,1057.86 1278.2,1057.86 1295.4,1057.86 1312.6,1025.22 \n",
       "  1329.79,1025.22 1346.99,992.584 1364.19,1025.22 1381.39,959.947 1398.59,927.309 1415.79,927.309 1432.98,927.309 1450.18,959.947 1467.38,959.947 1484.58,927.309 \n",
       "  1501.78,894.671 1518.98,862.033 1536.17,862.033 1553.37,796.758 1570.57,796.758 1587.77,796.758 1604.97,829.395 1622.17,796.758 1639.37,796.758 1656.56,764.12 \n",
       "  1673.76,764.12 1690.96,764.12 1708.16,764.12 1725.36,764.12 1742.56,764.12 1759.75,698.844 1776.95,731.482 1794.15,731.482 1811.35,666.206 1828.55,666.206 \n",
       "  1845.75,666.206 1862.94,666.206 1880.14,764.12 1897.34,731.482 1914.54,731.482 1931.74,731.482 1948.94,731.482 1966.14,731.482 1983.33,764.12 2000.53,764.12 \n",
       "  2017.73,731.482 2034.93,731.482 2052.13,731.482 2069.33,633.568 2086.52,633.568 2103.72,633.568 2120.92,633.568 2138.12,633.568 2155.32,633.568 2172.52,633.568 \n",
       "  2189.71,633.568 2206.91,600.931 2224.11,633.568 2241.31,633.568 2258.51,633.568 2275.71,633.568 2292.91,600.931 \n",
       "  \"/>\n",
       "<path clip-path=\"url(#clip010)\" d=\"\n",
       "M1847.97 1377.32 L2282.27 1377.32 L2282.27 1195.88 L1847.97 1195.88  Z\n",
       "  \" fill=\"#ffffff\" fill-rule=\"evenodd\" fill-opacity=\"1\"/>\n",
       "<polyline clip-path=\"url(#clip010)\" style=\"stroke:#000000; stroke-width:4; stroke-opacity:1; fill:none\" points=\"\n",
       "  1847.97,1377.32 2282.27,1377.32 2282.27,1195.88 1847.97,1195.88 1847.97,1377.32 \n",
       "  \"/>\n",
       "<polyline clip-path=\"url(#clip010)\" style=\"stroke:#009af9; stroke-width:4; stroke-opacity:1; fill:none\" points=\"\n",
       "  1871.47,1256.36 2012.45,1256.36 \n",
       "  \"/>\n",
       "<path clip-path=\"url(#clip010)\" d=\"M 0 0 M2035.94 1239.08 L2065.18 1239.08 L2065.18 1243.01 L2052.91 1243.01 L2052.91 1273.64 L2048.21 1273.64 L2048.21 1243.01 L2035.94 1243.01 L2035.94 1239.08 Z\" fill=\"#000000\" fill-rule=\"evenodd\" fill-opacity=\"1\" /><path clip-path=\"url(#clip010)\" d=\"M 0 0 M2077.7 1251.69 Q2076.99 1251.27 2076.13 1251.09 Q2075.3 1250.88 2074.28 1250.88 Q2070.67 1250.88 2068.72 1253.24 Q2066.8 1255.58 2066.8 1259.98 L2066.8 1273.64 L2062.52 1273.64 L2062.52 1247.71 L2066.8 1247.71 L2066.8 1251.74 Q2068.14 1249.38 2070.3 1248.24 Q2072.45 1247.08 2075.53 1247.08 Q2075.97 1247.08 2076.5 1247.15 Q2077.03 1247.2 2077.68 1247.32 L2077.7 1251.69 Z\" fill=\"#000000\" fill-rule=\"evenodd\" fill-opacity=\"1\" /><path clip-path=\"url(#clip010)\" d=\"M 0 0 M2093.95 1260.6 Q2088.79 1260.6 2086.8 1261.78 Q2084.81 1262.96 2084.81 1265.81 Q2084.81 1268.08 2086.29 1269.42 Q2087.8 1270.74 2090.36 1270.74 Q2093.91 1270.74 2096.04 1268.24 Q2098.19 1265.72 2098.19 1261.55 L2098.19 1260.6 L2093.95 1260.6 M2102.45 1258.84 L2102.45 1273.64 L2098.19 1273.64 L2098.19 1269.7 Q2096.73 1272.06 2094.55 1273.2 Q2092.38 1274.31 2089.23 1274.31 Q2085.25 1274.31 2082.89 1272.08 Q2080.55 1269.84 2080.55 1266.09 Q2080.55 1261.71 2083.47 1259.49 Q2086.41 1257.27 2092.22 1257.27 L2098.19 1257.27 L2098.19 1256.85 Q2098.19 1253.91 2096.24 1252.32 Q2094.32 1250.7 2090.83 1250.7 Q2088.61 1250.7 2086.5 1251.23 Q2084.39 1251.76 2082.45 1252.83 L2082.45 1248.89 Q2084.79 1247.99 2086.99 1247.55 Q2089.18 1247.08 2091.27 1247.08 Q2096.89 1247.08 2099.67 1250 Q2102.45 1252.92 2102.45 1258.84 Z\" fill=\"#000000\" fill-rule=\"evenodd\" fill-opacity=\"1\" /><path clip-path=\"url(#clip010)\" d=\"M 0 0 M2106.92 1247.71 L2111.17 1247.71 L2111.17 1273.64 L2106.92 1273.64 L2106.92 1247.71 M2106.92 1237.62 L2111.17 1237.62 L2111.17 1243.01 L2106.92 1243.01 L2106.92 1237.62 Z\" fill=\"#000000\" fill-rule=\"evenodd\" fill-opacity=\"1\" /><path clip-path=\"url(#clip010)\" d=\"M 0 0 M2137.19 1257.99 L2137.19 1273.64 L2132.93 1273.64 L2132.93 1258.13 Q2132.93 1254.45 2131.5 1252.62 Q2130.06 1250.79 2127.19 1250.79 Q2123.74 1250.79 2121.75 1252.99 Q2119.76 1255.19 2119.76 1258.98 L2119.76 1273.64 L2115.48 1273.64 L2115.48 1247.71 L2119.76 1247.71 L2119.76 1251.74 Q2121.29 1249.4 2123.35 1248.24 Q2125.43 1247.08 2128.14 1247.08 Q2132.61 1247.08 2134.9 1249.86 Q2137.19 1252.62 2137.19 1257.99 Z\" fill=\"#000000\" fill-rule=\"evenodd\" fill-opacity=\"1\" /><path clip-path=\"url(#clip010)\" d=\"M 0 0 M2141.66 1247.71 L2145.92 1247.71 L2145.92 1273.64 L2141.66 1273.64 L2141.66 1247.71 M2141.66 1237.62 L2145.92 1237.62 L2145.92 1243.01 L2141.66 1243.01 L2141.66 1237.62 Z\" fill=\"#000000\" fill-rule=\"evenodd\" fill-opacity=\"1\" /><path clip-path=\"url(#clip010)\" d=\"M 0 0 M2171.94 1257.99 L2171.94 1273.64 L2167.68 1273.64 L2167.68 1258.13 Q2167.68 1254.45 2166.24 1252.62 Q2164.81 1250.79 2161.94 1250.79 Q2158.49 1250.79 2156.5 1252.99 Q2154.51 1255.19 2154.51 1258.98 L2154.51 1273.64 L2150.23 1273.64 L2150.23 1247.71 L2154.51 1247.71 L2154.51 1251.74 Q2156.04 1249.4 2158.1 1248.24 Q2160.18 1247.08 2162.89 1247.08 Q2167.36 1247.08 2169.65 1249.86 Q2171.94 1252.62 2171.94 1257.99 Z\" fill=\"#000000\" fill-rule=\"evenodd\" fill-opacity=\"1\" /><path clip-path=\"url(#clip010)\" d=\"M 0 0 M2193.47 1260.37 Q2193.47 1255.74 2191.54 1253.2 Q2189.65 1250.65 2186.2 1250.65 Q2182.77 1250.65 2180.85 1253.2 Q2178.95 1255.74 2178.95 1260.37 Q2178.95 1264.98 2180.85 1267.52 Q2182.77 1270.07 2186.2 1270.07 Q2189.65 1270.07 2191.54 1267.52 Q2193.47 1264.98 2193.47 1260.37 M2197.73 1270.42 Q2197.73 1277.04 2194.79 1280.26 Q2191.85 1283.5 2185.78 1283.5 Q2183.54 1283.5 2181.54 1283.15 Q2179.55 1282.83 2177.68 1282.13 L2177.68 1277.99 Q2179.55 1279.01 2181.38 1279.49 Q2183.21 1279.98 2185.11 1279.98 Q2189.3 1279.98 2191.38 1277.78 Q2193.47 1275.6 2193.47 1271.18 L2193.47 1269.08 Q2192.15 1271.37 2190.09 1272.5 Q2188.03 1273.64 2185.16 1273.64 Q2180.39 1273.64 2177.47 1270 Q2174.55 1266.37 2174.55 1260.37 Q2174.55 1254.35 2177.47 1250.72 Q2180.39 1247.08 2185.16 1247.08 Q2188.03 1247.08 2190.09 1248.22 Q2192.15 1249.35 2193.47 1251.64 L2193.47 1247.71 L2197.73 1247.71 L2197.73 1270.42 Z\" fill=\"#000000\" fill-rule=\"evenodd\" fill-opacity=\"1\" /><polyline clip-path=\"url(#clip010)\" style=\"stroke:#e26f46; stroke-width:4; stroke-opacity:1; fill:none\" points=\"\n",
       "  1871.47,1316.84 2012.45,1316.84 \n",
       "  \"/>\n",
       "<path clip-path=\"url(#clip010)\" d=\"M 0 0 M2049.14 1334.12 L2035.94 1299.56 L2040.83 1299.56 L2051.78 1328.65 L2062.75 1299.56 L2067.61 1299.56 L2054.44 1334.12 L2049.14 1334.12 Z\" fill=\"#000000\" fill-rule=\"evenodd\" fill-opacity=\"1\" /><path clip-path=\"url(#clip010)\" d=\"M 0 0 M2080.18 1321.08 Q2075.02 1321.08 2073.03 1322.26 Q2071.04 1323.44 2071.04 1326.29 Q2071.04 1328.56 2072.52 1329.9 Q2074.02 1331.22 2076.59 1331.22 Q2080.13 1331.22 2082.26 1328.72 Q2084.42 1326.2 2084.42 1322.03 L2084.42 1321.08 L2080.18 1321.08 M2088.68 1319.32 L2088.68 1334.12 L2084.42 1334.12 L2084.42 1330.18 Q2082.96 1332.54 2080.78 1333.68 Q2078.61 1334.79 2075.46 1334.79 Q2071.48 1334.79 2069.12 1332.56 Q2066.78 1330.32 2066.78 1326.57 Q2066.78 1322.19 2069.69 1319.97 Q2072.63 1317.75 2078.44 1317.75 L2084.42 1317.75 L2084.42 1317.33 Q2084.42 1314.39 2082.47 1312.8 Q2080.55 1311.18 2077.05 1311.18 Q2074.83 1311.18 2072.73 1311.71 Q2070.62 1312.24 2068.68 1313.31 L2068.68 1309.37 Q2071.01 1308.47 2073.21 1308.03 Q2075.41 1307.56 2077.49 1307.56 Q2083.12 1307.56 2085.9 1310.48 Q2088.68 1313.4 2088.68 1319.32 Z\" fill=\"#000000\" fill-rule=\"evenodd\" fill-opacity=\"1\" /><path clip-path=\"url(#clip010)\" d=\"M 0 0 M2093.14 1298.1 L2097.4 1298.1 L2097.4 1334.12 L2093.14 1334.12 L2093.14 1298.1 Z\" fill=\"#000000\" fill-rule=\"evenodd\" fill-opacity=\"1\" /><path clip-path=\"url(#clip010)\" d=\"M 0 0 M2101.87 1308.19 L2106.13 1308.19 L2106.13 1334.12 L2101.87 1334.12 L2101.87 1308.19 M2101.87 1298.1 L2106.13 1298.1 L2106.13 1303.49 L2101.87 1303.49 L2101.87 1298.1 Z\" fill=\"#000000\" fill-rule=\"evenodd\" fill-opacity=\"1\" /><path clip-path=\"url(#clip010)\" d=\"M 0 0 M2127.66 1312.12 L2127.66 1298.1 L2131.92 1298.1 L2131.92 1334.12 L2127.66 1334.12 L2127.66 1330.23 Q2126.31 1332.54 2124.25 1333.68 Q2122.22 1334.79 2119.35 1334.79 Q2114.65 1334.79 2111.68 1331.04 Q2108.74 1327.29 2108.74 1321.18 Q2108.74 1315.06 2111.68 1311.31 Q2114.65 1307.56 2119.35 1307.56 Q2122.22 1307.56 2124.25 1308.7 Q2126.31 1309.81 2127.66 1312.12 M2113.14 1321.18 Q2113.14 1325.87 2115.06 1328.56 Q2117.01 1331.22 2120.39 1331.22 Q2123.77 1331.22 2125.71 1328.56 Q2127.66 1325.87 2127.66 1321.18 Q2127.66 1316.48 2125.71 1313.81 Q2123.77 1311.13 2120.39 1311.13 Q2117.01 1311.13 2115.06 1313.81 Q2113.14 1316.48 2113.14 1321.18 Z\" fill=\"#000000\" fill-rule=\"evenodd\" fill-opacity=\"1\" /><path clip-path=\"url(#clip010)\" d=\"M 0 0 M2148.17 1321.08 Q2143 1321.08 2141.01 1322.26 Q2139.02 1323.44 2139.02 1326.29 Q2139.02 1328.56 2140.5 1329.9 Q2142.01 1331.22 2144.58 1331.22 Q2148.12 1331.22 2150.25 1328.72 Q2152.4 1326.2 2152.4 1322.03 L2152.4 1321.08 L2148.17 1321.08 M2156.66 1319.32 L2156.66 1334.12 L2152.4 1334.12 L2152.4 1330.18 Q2150.94 1332.54 2148.77 1333.68 Q2146.59 1334.79 2143.44 1334.79 Q2139.46 1334.79 2137.1 1332.56 Q2134.76 1330.32 2134.76 1326.57 Q2134.76 1322.19 2137.68 1319.97 Q2140.62 1317.75 2146.43 1317.75 L2152.4 1317.75 L2152.4 1317.33 Q2152.4 1314.39 2150.46 1312.8 Q2148.54 1311.18 2145.04 1311.18 Q2142.82 1311.18 2140.71 1311.71 Q2138.61 1312.24 2136.66 1313.31 L2136.66 1309.37 Q2139 1308.47 2141.2 1308.03 Q2143.4 1307.56 2145.48 1307.56 Q2151.11 1307.56 2153.88 1310.48 Q2156.66 1313.4 2156.66 1319.32 Z\" fill=\"#000000\" fill-rule=\"evenodd\" fill-opacity=\"1\" /><path clip-path=\"url(#clip010)\" d=\"M 0 0 M2165.34 1300.83 L2165.34 1308.19 L2174.11 1308.19 L2174.11 1311.5 L2165.34 1311.5 L2165.34 1325.57 Q2165.34 1328.74 2166.2 1329.65 Q2167.08 1330.55 2169.74 1330.55 L2174.11 1330.55 L2174.11 1334.12 L2169.74 1334.12 Q2164.81 1334.12 2162.93 1332.29 Q2161.06 1330.43 2161.06 1325.57 L2161.06 1311.5 L2157.93 1311.5 L2157.93 1308.19 L2161.06 1308.19 L2161.06 1300.83 L2165.34 1300.83 Z\" fill=\"#000000\" fill-rule=\"evenodd\" fill-opacity=\"1\" /><path clip-path=\"url(#clip010)\" d=\"M 0 0 M2178.58 1308.19 L2182.84 1308.19 L2182.84 1334.12 L2178.58 1334.12 L2178.58 1308.19 M2178.58 1298.1 L2182.84 1298.1 L2182.84 1303.49 L2178.58 1303.49 L2178.58 1298.1 Z\" fill=\"#000000\" fill-rule=\"evenodd\" fill-opacity=\"1\" /><path clip-path=\"url(#clip010)\" d=\"M 0 0 M2197.36 1311.18 Q2193.93 1311.18 2191.94 1313.86 Q2189.95 1316.52 2189.95 1321.18 Q2189.95 1325.83 2191.92 1328.51 Q2193.91 1331.18 2197.36 1331.18 Q2200.76 1331.18 2202.75 1328.49 Q2204.74 1325.81 2204.74 1321.18 Q2204.74 1316.57 2202.75 1313.88 Q2200.76 1311.18 2197.36 1311.18 M2197.36 1307.56 Q2202.91 1307.56 2206.08 1311.18 Q2209.25 1314.79 2209.25 1321.18 Q2209.25 1327.54 2206.08 1331.18 Q2202.91 1334.79 2197.36 1334.79 Q2191.78 1334.79 2188.61 1331.18 Q2185.46 1327.54 2185.46 1321.18 Q2185.46 1314.79 2188.61 1311.18 Q2191.78 1307.56 2197.36 1307.56 Z\" fill=\"#000000\" fill-rule=\"evenodd\" fill-opacity=\"1\" /><path clip-path=\"url(#clip010)\" d=\"M 0 0 M2235.27 1318.47 L2235.27 1334.12 L2231.01 1334.12 L2231.01 1318.61 Q2231.01 1314.93 2229.58 1313.1 Q2228.14 1311.27 2225.27 1311.27 Q2221.82 1311.27 2219.83 1313.47 Q2217.84 1315.67 2217.84 1319.46 L2217.84 1334.12 L2213.56 1334.12 L2213.56 1308.19 L2217.84 1308.19 L2217.84 1312.22 Q2219.37 1309.88 2221.43 1308.72 Q2223.51 1307.56 2226.22 1307.56 Q2230.69 1307.56 2232.98 1310.34 Q2235.27 1313.1 2235.27 1318.47 Z\" fill=\"#000000\" fill-rule=\"evenodd\" fill-opacity=\"1\" /></svg>\n"
      ]
     },
     "execution_count": 88,
     "metadata": {},
     "output_type": "execute_result"
    }
   ],
   "source": [
    "plot(data_schedule, training_losses, label=\"Training\", legend=:bottomright)\n",
    "plot!(data_schedule, valid_losses, label=\"Validation\")\n",
    "xlabel!(\"Number of Training Samples\")\n",
    "ylabel!(\"Classification Accuracy\")"
   ]
  },
  {
   "cell_type": "code",
   "execution_count": 89,
   "metadata": {},
   "outputs": [],
   "source": [
    "fn = \"Figures/KNN_Learning_Curve\"\n",
    "png(replace(fn,'.' => ','))"
   ]
  },
  {
   "cell_type": "code",
   "execution_count": 90,
   "metadata": {},
   "outputs": [
    {
     "data": {
      "text/plain": [
       "(parameter_names = [\"K\"],\n",
       " parameter_scales = [:linear],\n",
       " parameter_values = Any[13; 11; … ; 14; 2],\n",
       " measurements = [0.821138211382114, 0.8211382113821136, 0.8441734417344174, 0.8509485094850948, 0.8536585365853658, 0.8482384823848238, 0.8373983739837398, 0.8265582655826558, 0.8590785907859079, 0.8468834688346883, 0.8631436314363145, 0.8441734417344174, 0.8252032520325203, 0.8279132791327912, 0.8631436314363145],)"
      ]
     },
     "execution_count": 90,
     "metadata": {},
     "output_type": "execute_result"
    }
   ],
   "source": [
    "self_tuning_knn.report.plotting"
   ]
  },
  {
   "cell_type": "code",
   "execution_count": 91,
   "metadata": {},
   "outputs": [
    {
     "data": {
      "image/svg+xml": [
       "<?xml version=\"1.0\" encoding=\"utf-8\"?>\n",
       "<svg xmlns=\"http://www.w3.org/2000/svg\" xmlns:xlink=\"http://www.w3.org/1999/xlink\" width=\"600\" height=\"400\" viewBox=\"0 0 2400 1600\">\n",
       "<defs>\n",
       "  <clipPath id=\"clip060\">\n",
       "    <rect x=\"0\" y=\"0\" width=\"2400\" height=\"1600\"/>\n",
       "  </clipPath>\n",
       "</defs>\n",
       "<path clip-path=\"url(#clip060)\" d=\"\n",
       "M0 1600 L2400 1600 L2400 0 L0 0  Z\n",
       "  \" fill=\"#ffffff\" fill-rule=\"evenodd\" fill-opacity=\"1\"/>\n",
       "<defs>\n",
       "  <clipPath id=\"clip061\">\n",
       "    <rect x=\"480\" y=\"0\" width=\"1681\" height=\"1600\"/>\n",
       "  </clipPath>\n",
       "</defs>\n",
       "<path clip-path=\"url(#clip060)\" d=\"\n",
       "M238.037 1423.18 L2352.76 1423.18 L2352.76 47.2441 L238.037 47.2441  Z\n",
       "  \" fill=\"#ffffff\" fill-rule=\"evenodd\" fill-opacity=\"1\"/>\n",
       "<defs>\n",
       "  <clipPath id=\"clip062\">\n",
       "    <rect x=\"238\" y=\"47\" width=\"2116\" height=\"1377\"/>\n",
       "  </clipPath>\n",
       "</defs>\n",
       "<polyline clip-path=\"url(#clip062)\" style=\"stroke:#000000; stroke-width:2; stroke-opacity:0.1; fill:none\" points=\"\n",
       "  264.113,1423.18 264.113,47.2441 \n",
       "  \"/>\n",
       "<polyline clip-path=\"url(#clip062)\" style=\"stroke:#000000; stroke-width:2; stroke-opacity:0.1; fill:none\" points=\"\n",
       "  908.665,1423.18 908.665,47.2441 \n",
       "  \"/>\n",
       "<polyline clip-path=\"url(#clip062)\" style=\"stroke:#000000; stroke-width:2; stroke-opacity:0.1; fill:none\" points=\"\n",
       "  1553.22,1423.18 1553.22,47.2441 \n",
       "  \"/>\n",
       "<polyline clip-path=\"url(#clip062)\" style=\"stroke:#000000; stroke-width:2; stroke-opacity:0.1; fill:none\" points=\"\n",
       "  2197.77,1423.18 2197.77,47.2441 \n",
       "  \"/>\n",
       "<polyline clip-path=\"url(#clip062)\" style=\"stroke:#000000; stroke-width:2; stroke-opacity:0.1; fill:none\" points=\"\n",
       "  238.037,1384.24 2352.76,1384.24 \n",
       "  \"/>\n",
       "<polyline clip-path=\"url(#clip062)\" style=\"stroke:#000000; stroke-width:2; stroke-opacity:0.1; fill:none\" points=\"\n",
       "  238.037,951.554 2352.76,951.554 \n",
       "  \"/>\n",
       "<polyline clip-path=\"url(#clip062)\" style=\"stroke:#000000; stroke-width:2; stroke-opacity:0.1; fill:none\" points=\"\n",
       "  238.037,518.87 2352.76,518.87 \n",
       "  \"/>\n",
       "<polyline clip-path=\"url(#clip062)\" style=\"stroke:#000000; stroke-width:2; stroke-opacity:0.1; fill:none\" points=\"\n",
       "  238.037,86.1857 2352.76,86.1857 \n",
       "  \"/>\n",
       "<polyline clip-path=\"url(#clip060)\" style=\"stroke:#000000; stroke-width:4; stroke-opacity:1; fill:none\" points=\"\n",
       "  238.037,1423.18 2352.76,1423.18 \n",
       "  \"/>\n",
       "<polyline clip-path=\"url(#clip060)\" style=\"stroke:#000000; stroke-width:4; stroke-opacity:1; fill:none\" points=\"\n",
       "  238.037,1423.18 238.037,47.2441 \n",
       "  \"/>\n",
       "<polyline clip-path=\"url(#clip060)\" style=\"stroke:#000000; stroke-width:4; stroke-opacity:1; fill:none\" points=\"\n",
       "  264.113,1423.18 264.113,1406.67 \n",
       "  \"/>\n",
       "<polyline clip-path=\"url(#clip060)\" style=\"stroke:#000000; stroke-width:4; stroke-opacity:1; fill:none\" points=\"\n",
       "  908.665,1423.18 908.665,1406.67 \n",
       "  \"/>\n",
       "<polyline clip-path=\"url(#clip060)\" style=\"stroke:#000000; stroke-width:4; stroke-opacity:1; fill:none\" points=\"\n",
       "  1553.22,1423.18 1553.22,1406.67 \n",
       "  \"/>\n",
       "<polyline clip-path=\"url(#clip060)\" style=\"stroke:#000000; stroke-width:4; stroke-opacity:1; fill:none\" points=\"\n",
       "  2197.77,1423.18 2197.77,1406.67 \n",
       "  \"/>\n",
       "<polyline clip-path=\"url(#clip060)\" style=\"stroke:#000000; stroke-width:4; stroke-opacity:1; fill:none\" points=\"\n",
       "  238.037,1384.24 263.414,1384.24 \n",
       "  \"/>\n",
       "<polyline clip-path=\"url(#clip060)\" style=\"stroke:#000000; stroke-width:4; stroke-opacity:1; fill:none\" points=\"\n",
       "  238.037,951.554 263.414,951.554 \n",
       "  \"/>\n",
       "<polyline clip-path=\"url(#clip060)\" style=\"stroke:#000000; stroke-width:4; stroke-opacity:1; fill:none\" points=\"\n",
       "  238.037,518.87 263.414,518.87 \n",
       "  \"/>\n",
       "<polyline clip-path=\"url(#clip060)\" style=\"stroke:#000000; stroke-width:4; stroke-opacity:1; fill:none\" points=\"\n",
       "  238.037,86.1857 263.414,86.1857 \n",
       "  \"/>\n",
       "<path clip-path=\"url(#clip060)\" d=\"M 0 0 M264.113 1445.17 Q260.502 1445.17 258.674 1448.74 Q256.868 1452.28 256.868 1459.41 Q256.868 1466.51 258.674 1470.08 Q260.502 1473.62 264.113 1473.62 Q267.748 1473.62 269.553 1470.08 Q271.382 1466.51 271.382 1459.41 Q271.382 1452.28 269.553 1448.74 Q267.748 1445.17 264.113 1445.17 M264.113 1441.47 Q269.924 1441.47 272.979 1446.07 Q276.058 1450.66 276.058 1459.41 Q276.058 1468.13 272.979 1472.74 Q269.924 1477.32 264.113 1477.32 Q258.303 1477.32 255.225 1472.74 Q252.169 1468.13 252.169 1459.41 Q252.169 1450.66 255.225 1446.07 Q258.303 1441.47 264.113 1441.47 Z\" fill=\"#000000\" fill-rule=\"evenodd\" fill-opacity=\"1\" /><path clip-path=\"url(#clip060)\" d=\"M 0 0 M898.943 1442.09 L917.3 1442.09 L917.3 1446.03 L903.226 1446.03 L903.226 1454.5 Q904.244 1454.15 905.263 1453.99 Q906.281 1453.8 907.3 1453.8 Q913.087 1453.8 916.466 1456.98 Q919.846 1460.15 919.846 1465.56 Q919.846 1471.14 916.374 1474.24 Q912.902 1477.32 906.582 1477.32 Q904.406 1477.32 902.138 1476.95 Q899.892 1476.58 897.485 1475.84 L897.485 1471.14 Q899.568 1472.28 901.791 1472.83 Q904.013 1473.39 906.49 1473.39 Q910.494 1473.39 912.832 1471.28 Q915.17 1469.18 915.17 1465.56 Q915.17 1461.95 912.832 1459.85 Q910.494 1457.74 906.49 1457.74 Q904.615 1457.74 902.74 1458.16 Q900.888 1458.57 898.943 1459.45 L898.943 1442.09 Z\" fill=\"#000000\" fill-rule=\"evenodd\" fill-opacity=\"1\" /><path clip-path=\"url(#clip060)\" d=\"M 0 0 M1530.09 1472.72 L1537.73 1472.72 L1537.73 1446.35 L1529.42 1448.02 L1529.42 1443.76 L1537.69 1442.09 L1542.36 1442.09 L1542.36 1472.72 L1550 1472.72 L1550 1476.65 L1530.09 1476.65 L1530.09 1472.72 Z\" fill=\"#000000\" fill-rule=\"evenodd\" fill-opacity=\"1\" /><path clip-path=\"url(#clip060)\" d=\"M 0 0 M1565.07 1445.17 Q1561.46 1445.17 1559.63 1448.74 Q1557.82 1452.28 1557.82 1459.41 Q1557.82 1466.51 1559.63 1470.08 Q1561.46 1473.62 1565.07 1473.62 Q1568.7 1473.62 1570.51 1470.08 Q1572.34 1466.51 1572.34 1459.41 Q1572.34 1452.28 1570.51 1448.74 Q1568.7 1445.17 1565.07 1445.17 M1565.07 1441.47 Q1570.88 1441.47 1573.93 1446.07 Q1577.01 1450.66 1577.01 1459.41 Q1577.01 1468.13 1573.93 1472.74 Q1570.88 1477.32 1565.07 1477.32 Q1559.26 1477.32 1556.18 1472.74 Q1553.12 1468.13 1553.12 1459.41 Q1553.12 1450.66 1556.18 1446.07 Q1559.26 1441.47 1565.07 1441.47 Z\" fill=\"#000000\" fill-rule=\"evenodd\" fill-opacity=\"1\" /><path clip-path=\"url(#clip060)\" d=\"M 0 0 M2175.14 1472.72 L2182.78 1472.72 L2182.78 1446.35 L2174.47 1448.02 L2174.47 1443.76 L2182.73 1442.09 L2187.41 1442.09 L2187.41 1472.72 L2195.05 1472.72 L2195.05 1476.65 L2175.14 1476.65 L2175.14 1472.72 Z\" fill=\"#000000\" fill-rule=\"evenodd\" fill-opacity=\"1\" /><path clip-path=\"url(#clip060)\" d=\"M 0 0 M2200.17 1442.09 L2218.52 1442.09 L2218.52 1446.03 L2204.45 1446.03 L2204.45 1454.5 Q2205.47 1454.15 2206.48 1453.99 Q2207.5 1453.8 2208.52 1453.8 Q2214.31 1453.8 2217.69 1456.98 Q2221.07 1460.15 2221.07 1465.56 Q2221.07 1471.14 2217.6 1474.24 Q2214.12 1477.32 2207.8 1477.32 Q2205.63 1477.32 2203.36 1476.95 Q2201.11 1476.58 2198.71 1475.84 L2198.71 1471.14 Q2200.79 1472.28 2203.01 1472.83 Q2205.23 1473.39 2207.71 1473.39 Q2211.72 1473.39 2214.05 1471.28 Q2216.39 1469.18 2216.39 1465.56 Q2216.39 1461.95 2214.05 1459.85 Q2211.72 1457.74 2207.71 1457.74 Q2205.84 1457.74 2203.96 1458.16 Q2202.11 1458.57 2200.17 1459.45 L2200.17 1442.09 Z\" fill=\"#000000\" fill-rule=\"evenodd\" fill-opacity=\"1\" /><path clip-path=\"url(#clip060)\" d=\"M 0 0 M140.01 1370.04 Q136.399 1370.04 134.57 1373.6 Q132.765 1377.14 132.765 1384.27 Q132.765 1391.38 134.57 1394.94 Q136.399 1398.49 140.01 1398.49 Q143.644 1398.49 145.45 1394.94 Q147.279 1391.38 147.279 1384.27 Q147.279 1377.14 145.45 1373.6 Q143.644 1370.04 140.01 1370.04 M140.01 1366.33 Q145.82 1366.33 148.876 1370.94 Q151.954 1375.52 151.954 1384.27 Q151.954 1393 148.876 1397.61 Q145.82 1402.19 140.01 1402.19 Q134.2 1402.19 131.121 1397.61 Q128.066 1393 128.066 1384.27 Q128.066 1375.52 131.121 1370.94 Q134.2 1366.33 140.01 1366.33 Z\" fill=\"#000000\" fill-rule=\"evenodd\" fill-opacity=\"1\" /><path clip-path=\"url(#clip060)\" d=\"M 0 0 M157.024 1395.64 L161.908 1395.64 L161.908 1401.52 L157.024 1401.52 L157.024 1395.64 Z\" fill=\"#000000\" fill-rule=\"evenodd\" fill-opacity=\"1\" /><path clip-path=\"url(#clip060)\" d=\"M 0 0 M165.797 1366.96 L188.019 1366.96 L188.019 1368.95 L175.473 1401.52 L170.589 1401.52 L182.394 1370.89 L165.797 1370.89 L165.797 1366.96 Z\" fill=\"#000000\" fill-rule=\"evenodd\" fill-opacity=\"1\" /><path clip-path=\"url(#clip060)\" d=\"M 0 0 M193.135 1366.96 L211.491 1366.96 L211.491 1370.89 L197.417 1370.89 L197.417 1379.37 Q198.436 1379.02 199.454 1378.86 Q200.473 1378.67 201.491 1378.67 Q207.278 1378.67 210.658 1381.84 Q214.037 1385.01 214.037 1390.43 Q214.037 1396.01 210.565 1399.11 Q207.093 1402.19 200.774 1402.19 Q198.598 1402.19 196.329 1401.82 Q194.084 1401.45 191.676 1400.71 L191.676 1396.01 Q193.76 1397.14 195.982 1397.7 Q198.204 1398.25 200.681 1398.25 Q204.686 1398.25 207.024 1396.15 Q209.362 1394.04 209.362 1390.43 Q209.362 1386.82 207.024 1384.71 Q204.686 1382.61 200.681 1382.61 Q198.806 1382.61 196.931 1383.02 Q195.079 1383.44 193.135 1384.32 L193.135 1366.96 Z\" fill=\"#000000\" fill-rule=\"evenodd\" fill-opacity=\"1\" /><path clip-path=\"url(#clip060)\" d=\"M 0 0 M138.205 937.353 Q134.593 937.353 132.765 940.918 Q130.959 944.459 130.959 951.589 Q130.959 958.695 132.765 962.26 Q134.593 965.802 138.205 965.802 Q141.839 965.802 143.644 962.26 Q145.473 958.695 145.473 951.589 Q145.473 944.459 143.644 940.918 Q141.839 937.353 138.205 937.353 M138.205 933.649 Q144.015 933.649 147.07 938.256 Q150.149 942.839 150.149 951.589 Q150.149 960.316 147.07 964.922 Q144.015 969.505 138.205 969.505 Q132.394 969.505 129.316 964.922 Q126.26 960.316 126.26 951.589 Q126.26 942.839 129.316 938.256 Q132.394 933.649 138.205 933.649 Z\" fill=\"#000000\" fill-rule=\"evenodd\" fill-opacity=\"1\" /><path clip-path=\"url(#clip060)\" d=\"M 0 0 M155.218 962.954 L160.103 962.954 L160.103 968.834 L155.218 968.834 L155.218 962.954 Z\" fill=\"#000000\" fill-rule=\"evenodd\" fill-opacity=\"1\" /><path clip-path=\"url(#clip060)\" d=\"M 0 0 M175.172 952.422 Q171.839 952.422 169.917 954.205 Q168.019 955.987 168.019 959.112 Q168.019 962.237 169.917 964.019 Q171.839 965.802 175.172 965.802 Q178.505 965.802 180.427 964.019 Q182.348 962.214 182.348 959.112 Q182.348 955.987 180.427 954.205 Q178.528 952.422 175.172 952.422 M170.496 950.431 Q167.487 949.691 165.797 947.63 Q164.13 945.57 164.13 942.607 Q164.13 938.464 167.07 936.056 Q170.033 933.649 175.172 933.649 Q180.334 933.649 183.274 936.056 Q186.214 938.464 186.214 942.607 Q186.214 945.57 184.524 947.63 Q182.857 949.691 179.871 950.431 Q183.251 951.218 185.126 953.51 Q187.024 955.802 187.024 959.112 Q187.024 964.135 183.945 966.82 Q180.889 969.505 175.172 969.505 Q169.454 969.505 166.376 966.82 Q163.32 964.135 163.32 959.112 Q163.32 955.802 165.218 953.51 Q167.116 951.218 170.496 950.431 M168.783 943.047 Q168.783 945.732 170.45 947.237 Q172.14 948.742 175.172 948.742 Q178.181 948.742 179.871 947.237 Q181.584 945.732 181.584 943.047 Q181.584 940.362 179.871 938.857 Q178.181 937.353 175.172 937.353 Q172.14 937.353 170.45 938.857 Q168.783 940.362 168.783 943.047 Z\" fill=\"#000000\" fill-rule=\"evenodd\" fill-opacity=\"1\" /><path clip-path=\"url(#clip060)\" d=\"M 0 0 M202.093 937.353 Q198.482 937.353 196.653 940.918 Q194.848 944.459 194.848 951.589 Q194.848 958.695 196.653 962.26 Q198.482 965.802 202.093 965.802 Q205.727 965.802 207.533 962.26 Q209.362 958.695 209.362 951.589 Q209.362 944.459 207.533 940.918 Q205.727 937.353 202.093 937.353 M202.093 933.649 Q207.903 933.649 210.959 938.256 Q214.037 942.839 214.037 951.589 Q214.037 960.316 210.959 964.922 Q207.903 969.505 202.093 969.505 Q196.283 969.505 193.204 964.922 Q190.149 960.316 190.149 951.589 Q190.149 942.839 193.204 938.256 Q196.283 933.649 202.093 933.649 Z\" fill=\"#000000\" fill-rule=\"evenodd\" fill-opacity=\"1\" /><path clip-path=\"url(#clip060)\" d=\"M 0 0 M139.2 504.669 Q135.589 504.669 133.76 508.233 Q131.955 511.775 131.955 518.905 Q131.955 526.011 133.76 529.576 Q135.589 533.117 139.2 533.117 Q142.834 533.117 144.64 529.576 Q146.468 526.011 146.468 518.905 Q146.468 511.775 144.64 508.233 Q142.834 504.669 139.2 504.669 M139.2 500.965 Q145.01 500.965 148.066 505.571 Q151.144 510.155 151.144 518.905 Q151.144 527.631 148.066 532.238 Q145.01 536.821 139.2 536.821 Q133.39 536.821 130.311 532.238 Q127.256 527.631 127.256 518.905 Q127.256 510.155 130.311 505.571 Q133.39 500.965 139.2 500.965 Z\" fill=\"#000000\" fill-rule=\"evenodd\" fill-opacity=\"1\" /><path clip-path=\"url(#clip060)\" d=\"M 0 0 M156.214 530.27 L161.098 530.27 L161.098 536.15 L156.214 536.15 L156.214 530.27 Z\" fill=\"#000000\" fill-rule=\"evenodd\" fill-opacity=\"1\" /><path clip-path=\"url(#clip060)\" d=\"M 0 0 M176.167 519.738 Q172.834 519.738 170.913 521.52 Q169.015 523.303 169.015 526.428 Q169.015 529.553 170.913 531.335 Q172.834 533.117 176.167 533.117 Q179.501 533.117 181.422 531.335 Q183.343 529.53 183.343 526.428 Q183.343 523.303 181.422 521.52 Q179.524 519.738 176.167 519.738 M171.491 517.747 Q168.482 517.006 166.792 514.946 Q165.126 512.886 165.126 509.923 Q165.126 505.78 168.065 503.372 Q171.028 500.965 176.167 500.965 Q181.329 500.965 184.269 503.372 Q187.209 505.78 187.209 509.923 Q187.209 512.886 185.519 514.946 Q183.852 517.006 180.866 517.747 Q184.246 518.534 186.121 520.826 Q188.019 523.118 188.019 526.428 Q188.019 531.451 184.94 534.136 Q181.885 536.821 176.167 536.821 Q170.45 536.821 167.371 534.136 Q164.316 531.451 164.316 526.428 Q164.316 523.118 166.214 520.826 Q168.112 518.534 171.491 517.747 M169.778 510.363 Q169.778 513.048 171.445 514.553 Q173.135 516.057 176.167 516.057 Q179.177 516.057 180.866 514.553 Q182.579 513.048 182.579 510.363 Q182.579 507.678 180.866 506.173 Q179.177 504.669 176.167 504.669 Q173.135 504.669 171.445 506.173 Q169.778 507.678 169.778 510.363 Z\" fill=\"#000000\" fill-rule=\"evenodd\" fill-opacity=\"1\" /><path clip-path=\"url(#clip060)\" d=\"M 0 0 M193.135 501.59 L211.491 501.59 L211.491 505.525 L197.417 505.525 L197.417 513.997 Q198.436 513.65 199.454 513.488 Q200.473 513.303 201.491 513.303 Q207.278 513.303 210.658 516.474 Q214.037 519.645 214.037 525.062 Q214.037 530.641 210.565 533.742 Q207.093 536.821 200.774 536.821 Q198.598 536.821 196.329 536.451 Q194.084 536.08 191.676 535.34 L191.676 530.641 Q193.76 531.775 195.982 532.33 Q198.204 532.886 200.681 532.886 Q204.686 532.886 207.024 530.78 Q209.362 528.673 209.362 525.062 Q209.362 521.451 207.024 519.344 Q204.686 517.238 200.681 517.238 Q198.806 517.238 196.931 517.655 Q195.079 518.071 193.135 518.951 L193.135 501.59 Z\" fill=\"#000000\" fill-rule=\"evenodd\" fill-opacity=\"1\" /><path clip-path=\"url(#clip060)\" d=\"M 0 0 M138.297 71.9844 Q134.686 71.9844 132.857 75.5492 Q131.052 79.0908 131.052 86.2204 Q131.052 93.3268 132.857 96.8916 Q134.686 100.433 138.297 100.433 Q141.931 100.433 143.737 96.8916 Q145.566 93.3268 145.566 86.2204 Q145.566 79.0908 143.737 75.5492 Q141.931 71.9844 138.297 71.9844 M138.297 68.2807 Q144.107 68.2807 147.163 72.8871 Q150.242 77.4704 150.242 86.2204 Q150.242 94.9472 147.163 99.5537 Q144.107 104.137 138.297 104.137 Q132.487 104.137 129.408 99.5537 Q126.353 94.9472 126.353 86.2204 Q126.353 77.4704 129.408 72.8871 Q132.487 68.2807 138.297 68.2807 Z\" fill=\"#000000\" fill-rule=\"evenodd\" fill-opacity=\"1\" /><path clip-path=\"url(#clip060)\" d=\"M 0 0 M155.311 97.5861 L160.195 97.5861 L160.195 103.466 L155.311 103.466 L155.311 97.5861 Z\" fill=\"#000000\" fill-rule=\"evenodd\" fill-opacity=\"1\" /><path clip-path=\"url(#clip060)\" d=\"M 0 0 M165.403 102.748 L165.403 98.4888 Q167.163 99.3222 168.968 99.762 Q170.774 100.202 172.51 100.202 Q177.14 100.202 179.57 97.1 Q182.024 93.975 182.371 87.6324 Q181.028 89.6232 178.968 90.688 Q176.908 91.7528 174.408 91.7528 Q169.223 91.7528 166.19 88.6278 Q163.181 85.4797 163.181 80.0399 Q163.181 74.7158 166.329 71.4983 Q169.478 68.2807 174.709 68.2807 Q180.704 68.2807 183.852 72.8871 Q187.024 77.4704 187.024 86.2204 Q187.024 94.3916 183.135 99.2759 Q179.269 104.137 172.718 104.137 Q170.959 104.137 169.153 103.79 Q167.348 103.443 165.403 102.748 M174.709 88.0954 Q177.857 88.0954 179.686 85.9426 Q181.538 83.7899 181.538 80.0399 Q181.538 76.313 179.686 74.1603 Q177.857 71.9844 174.709 71.9844 Q171.561 71.9844 169.709 74.1603 Q167.88 76.313 167.88 80.0399 Q167.88 83.7899 169.709 85.9426 Q171.561 88.0954 174.709 88.0954 Z\" fill=\"#000000\" fill-rule=\"evenodd\" fill-opacity=\"1\" /><path clip-path=\"url(#clip060)\" d=\"M 0 0 M202.093 71.9844 Q198.482 71.9844 196.653 75.5492 Q194.848 79.0908 194.848 86.2204 Q194.848 93.3268 196.653 96.8916 Q198.482 100.433 202.093 100.433 Q205.727 100.433 207.533 96.8916 Q209.362 93.3268 209.362 86.2204 Q209.362 79.0908 207.533 75.5492 Q205.727 71.9844 202.093 71.9844 M202.093 68.2807 Q207.903 68.2807 210.959 72.8871 Q214.037 77.4704 214.037 86.2204 Q214.037 94.9472 210.959 99.5537 Q207.903 104.137 202.093 104.137 Q196.283 104.137 193.204 99.5537 Q190.149 94.9472 190.149 86.2204 Q190.149 77.4704 193.204 72.8871 Q196.283 68.2807 202.093 68.2807 Z\" fill=\"#000000\" fill-rule=\"evenodd\" fill-opacity=\"1\" /><path clip-path=\"url(#clip060)\" d=\"M 0 0 M1276.54 1508.52 L1282.97 1508.52 L1282.97 1528.61 L1304.29 1508.52 L1312.57 1508.52 L1288.98 1530.68 L1314.26 1556.04 L1305.79 1556.04 L1282.97 1533.16 L1282.97 1556.04 L1276.54 1556.04 L1276.54 1508.52 Z\" fill=\"#000000\" fill-rule=\"evenodd\" fill-opacity=\"1\" /><path clip-path=\"url(#clip060)\" d=\"M 0 0 M44.1444 1071.26 L50.9239 1071.26 Q47.9002 1074.5 46.4043 1078.2 Q44.9083 1081.86 44.9083 1085.99 Q44.9083 1094.14 49.9054 1098.47 Q54.8707 1102.8 64.2919 1102.8 Q73.6813 1102.8 78.6784 1098.47 Q83.6436 1094.14 83.6436 1085.99 Q83.6436 1081.86 82.1477 1078.2 Q80.6518 1074.5 77.6281 1071.26 L84.3439 1071.26 Q86.6355 1074.63 87.7814 1078.42 Q88.9272 1082.17 88.9272 1086.38 Q88.9272 1097.17 82.3387 1103.37 Q75.7183 1109.58 64.2919 1109.58 Q52.8336 1109.58 46.2451 1103.37 Q39.6248 1097.17 39.6248 1086.38 Q39.6248 1082.11 40.7706 1078.36 Q41.8846 1074.57 44.1444 1071.26 Z\" fill=\"#000000\" fill-rule=\"evenodd\" fill-opacity=\"1\" /><path clip-path=\"url(#clip060)\" d=\"M 0 0 M57.8307 1044.46 Q57.2578 1045.44 57.0032 1046.62 Q56.7167 1047.77 56.7167 1049.17 Q56.7167 1054.13 59.9632 1056.81 Q63.1779 1059.45 69.2253 1059.45 L88.0042 1059.45 L88.0042 1065.34 L52.3562 1065.34 L52.3562 1059.45 L57.8944 1059.45 Q54.6479 1057.6 53.0883 1054.64 Q51.4968 1051.68 51.4968 1047.45 Q51.4968 1046.85 51.5923 1046.11 Q51.656 1045.38 51.8151 1044.49 L57.8307 1044.46 Z\" fill=\"#000000\" fill-rule=\"evenodd\" fill-opacity=\"1\" /><path clip-path=\"url(#clip060)\" d=\"M 0 0 M56.4621 1025.93 Q56.4621 1030.64 60.1542 1033.38 Q63.8145 1036.12 70.212 1036.12 Q76.6095 1036.12 80.3017 1033.41 Q83.9619 1030.68 83.9619 1025.93 Q83.9619 1021.25 80.2698 1018.52 Q76.5777 1015.78 70.212 1015.78 Q63.8781 1015.78 60.186 1018.52 Q56.4621 1021.25 56.4621 1025.93 M51.4968 1025.93 Q51.4968 1018.29 56.4621 1013.93 Q61.4273 1009.57 70.212 1009.57 Q78.9649 1009.57 83.9619 1013.93 Q88.9272 1018.29 88.9272 1025.93 Q88.9272 1033.6 83.9619 1037.96 Q78.9649 1042.29 70.212 1042.29 Q61.4273 1042.29 56.4621 1037.96 Q51.4968 1033.6 51.4968 1025.93 Z\" fill=\"#000000\" fill-rule=\"evenodd\" fill-opacity=\"1\" /><path clip-path=\"url(#clip060)\" d=\"M 0 0 M53.4065 980.705 L58.9447 980.705 Q57.6716 983.188 57.035 985.862 Q56.3984 988.535 56.3984 991.4 Q56.3984 995.76 57.7352 997.957 Q59.072 1000.12 61.7456 1000.12 Q63.7826 1000.12 64.9603 998.561 Q66.1061 997.002 67.1565 992.291 L67.6021 990.286 Q68.9389 984.047 71.3897 981.438 Q73.8086 978.796 78.1691 978.796 Q83.1344 978.796 86.0308 982.742 Q88.9272 986.657 88.9272 993.532 Q88.9272 996.397 88.3543 999.516 Q87.8132 1002.6 86.6992 1006.04 L80.6518 1006.04 Q82.3387 1002.79 83.198 999.643 Q84.0256 996.492 84.0256 993.405 Q84.0256 989.267 82.6251 987.039 Q81.1929 984.811 78.6147 984.811 Q76.2276 984.811 74.9545 986.435 Q73.6813 988.026 72.5037 993.469 L72.0262 995.506 Q70.8804 1000.95 68.5251 1003.37 Q66.138 1005.79 62.0002 1005.79 Q56.9713 1005.79 54.2341 1002.22 Q51.4968 998.657 51.4968 992.1 Q51.4968 988.854 51.9743 985.989 Q52.4517 983.124 53.4065 980.705 Z\" fill=\"#000000\" fill-rule=\"evenodd\" fill-opacity=\"1\" /><path clip-path=\"url(#clip060)\" d=\"M 0 0 M53.4065 949.927 L58.9447 949.927 Q57.6716 952.41 57.035 955.083 Q56.3984 957.757 56.3984 960.622 Q56.3984 964.982 57.7352 967.178 Q59.072 969.343 61.7456 969.343 Q63.7826 969.343 64.9603 967.783 Q66.1061 966.223 67.1565 961.513 L67.6021 959.508 Q68.9389 953.269 71.3897 950.659 Q73.8086 948.018 78.1691 948.018 Q83.1344 948.018 86.0308 951.964 Q88.9272 955.879 88.9272 962.754 Q88.9272 965.619 88.3543 968.738 Q87.8132 971.825 86.6992 975.263 L80.6518 975.263 Q82.3387 972.016 83.198 968.865 Q84.0256 965.714 84.0256 962.627 Q84.0256 958.489 82.6251 956.261 Q81.1929 954.033 78.6147 954.033 Q76.2276 954.033 74.9545 955.656 Q73.6813 957.248 72.5037 962.69 L72.0262 964.728 Q70.8804 970.17 68.5251 972.589 Q66.138 975.008 62.0002 975.008 Q56.9713 975.008 54.2341 971.443 Q51.4968 967.879 51.4968 961.322 Q51.4968 958.075 51.9743 955.211 Q52.4517 952.346 53.4065 949.927 Z\" fill=\"#000000\" fill-rule=\"evenodd\" fill-opacity=\"1\" /><path clip-path=\"url(#clip060)\" d=\"M 0 0 M88.0042 908.646 L40.4842 926.788 L40.4842 920.072 L80.4926 905.017 L40.4842 889.93 L40.4842 883.246 L88.0042 901.357 L88.0042 908.646 Z\" fill=\"#000000\" fill-rule=\"evenodd\" fill-opacity=\"1\" /><path clip-path=\"url(#clip060)\" d=\"M 0 0 M70.0847 865.964 Q70.0847 873.061 71.7079 875.799 Q73.3312 878.536 77.2461 878.536 Q80.3653 878.536 82.2114 876.499 Q84.0256 874.43 84.0256 870.897 Q84.0256 866.027 80.5881 863.099 Q77.1188 860.139 71.3897 860.139 L70.0847 860.139 L70.0847 865.964 M67.6657 854.283 L88.0042 854.283 L88.0042 860.139 L82.5933 860.139 Q85.8398 862.144 87.3994 865.136 Q88.9272 868.128 88.9272 872.457 Q88.9272 877.931 85.8716 881.178 Q82.7843 884.392 77.6281 884.392 Q71.6125 884.392 68.5569 880.382 Q65.5014 876.34 65.5014 868.351 L65.5014 860.139 L64.9285 860.139 Q60.8862 860.139 58.6901 862.813 Q56.4621 865.454 56.4621 870.26 Q56.4621 873.316 57.1941 876.212 Q57.9262 879.109 59.3903 881.782 L53.9795 881.782 Q52.7381 878.568 52.1334 875.544 Q51.4968 872.52 51.4968 869.656 Q51.4968 861.921 55.5072 858.102 Q59.5176 854.283 67.6657 854.283 Z\" fill=\"#000000\" fill-rule=\"evenodd\" fill-opacity=\"1\" /><path clip-path=\"url(#clip060)\" d=\"M 0 0 M38.479 848.14 L38.479 842.283 L88.0042 842.283 L88.0042 848.14 L38.479 848.14 Z\" fill=\"#000000\" fill-rule=\"evenodd\" fill-opacity=\"1\" /><path clip-path=\"url(#clip060)\" d=\"M 0 0 M52.3562 836.14 L52.3562 830.284 L88.0042 830.284 L88.0042 836.14 L52.3562 836.14 M38.479 836.14 L38.479 830.284 L45.895 830.284 L45.895 836.14 L38.479 836.14 Z\" fill=\"#000000\" fill-rule=\"evenodd\" fill-opacity=\"1\" /><path clip-path=\"url(#clip060)\" d=\"M 0 0 M57.7671 800.683 L38.479 800.683 L38.479 794.827 L88.0042 794.827 L88.0042 800.683 L82.657 800.683 Q85.8398 802.529 87.3994 805.362 Q88.9272 808.163 88.9272 812.11 Q88.9272 818.571 83.771 822.645 Q78.6147 826.687 70.212 826.687 Q61.8093 826.687 56.6531 822.645 Q51.4968 818.571 51.4968 812.11 Q51.4968 808.163 53.0564 805.362 Q54.5842 802.529 57.7671 800.683 M70.212 820.64 Q76.6732 820.64 80.3653 817.998 Q84.0256 815.324 84.0256 810.677 Q84.0256 806.03 80.3653 803.357 Q76.6732 800.683 70.212 800.683 Q63.7508 800.683 60.0905 803.357 Q56.3984 806.03 56.3984 810.677 Q56.3984 815.324 60.0905 817.998 Q63.7508 820.64 70.212 820.64 Z\" fill=\"#000000\" fill-rule=\"evenodd\" fill-opacity=\"1\" /><path clip-path=\"url(#clip060)\" d=\"M 0 0 M70.0847 772.483 Q70.0847 779.581 71.7079 782.318 Q73.3312 785.055 77.2461 785.055 Q80.3653 785.055 82.2114 783.018 Q84.0256 780.95 84.0256 777.417 Q84.0256 772.547 80.5881 769.619 Q77.1188 766.659 71.3897 766.659 L70.0847 766.659 L70.0847 772.483 M67.6657 760.802 L88.0042 760.802 L88.0042 766.659 L82.5933 766.659 Q85.8398 768.664 87.3994 771.656 Q88.9272 774.648 88.9272 778.976 Q88.9272 784.451 85.8716 787.697 Q82.7843 790.912 77.6281 790.912 Q71.6125 790.912 68.5569 786.902 Q65.5014 782.859 65.5014 774.87 L65.5014 766.659 L64.9285 766.659 Q60.8862 766.659 58.6901 769.332 Q56.4621 771.974 56.4621 776.78 Q56.4621 779.836 57.1941 782.732 Q57.9262 785.628 59.3903 788.302 L53.9795 788.302 Q52.7381 785.087 52.1334 782.064 Q51.4968 779.04 51.4968 776.175 Q51.4968 768.441 55.5072 764.622 Q59.5176 760.802 67.6657 760.802 Z\" fill=\"#000000\" fill-rule=\"evenodd\" fill-opacity=\"1\" /><path clip-path=\"url(#clip060)\" d=\"M 0 0 M42.2347 748.866 L52.3562 748.866 L52.3562 736.803 L56.9077 736.803 L56.9077 748.866 L76.2594 748.866 Q80.6199 748.866 81.8613 747.689 Q83.1026 746.479 83.1026 742.819 L83.1026 736.803 L88.0042 736.803 L88.0042 742.819 Q88.0042 749.598 85.4897 752.177 Q82.9434 754.755 76.2594 754.755 L56.9077 754.755 L56.9077 759.052 L52.3562 759.052 L52.3562 754.755 L42.2347 754.755 L42.2347 748.866 Z\" fill=\"#000000\" fill-rule=\"evenodd\" fill-opacity=\"1\" /><path clip-path=\"url(#clip060)\" d=\"M 0 0 M52.3562 730.66 L52.3562 724.804 L88.0042 724.804 L88.0042 730.66 L52.3562 730.66 M38.479 730.66 L38.479 724.804 L45.895 724.804 L45.895 730.66 L38.479 730.66 Z\" fill=\"#000000\" fill-rule=\"evenodd\" fill-opacity=\"1\" /><path clip-path=\"url(#clip060)\" d=\"M 0 0 M56.4621 704.848 Q56.4621 709.558 60.1542 712.295 Q63.8145 715.033 70.212 715.033 Q76.6095 715.033 80.3017 712.327 Q83.9619 709.59 83.9619 704.848 Q83.9619 700.169 80.2698 697.431 Q76.5777 694.694 70.212 694.694 Q63.8781 694.694 60.186 697.431 Q56.4621 700.169 56.4621 704.848 M51.4968 704.848 Q51.4968 697.209 56.4621 692.848 Q61.4273 688.488 70.212 688.488 Q78.9649 688.488 83.9619 692.848 Q88.9272 697.209 88.9272 704.848 Q88.9272 712.518 83.9619 716.879 Q78.9649 721.207 70.212 721.207 Q61.4273 721.207 56.4621 716.879 Q51.4968 712.518 51.4968 704.848 Z\" fill=\"#000000\" fill-rule=\"evenodd\" fill-opacity=\"1\" /><path clip-path=\"url(#clip060)\" d=\"M 0 0 M66.4881 652.712 L88.0042 652.712 L88.0042 658.569 L66.679 658.569 Q61.6183 658.569 59.1038 660.542 Q56.5894 662.516 56.5894 666.462 Q56.5894 671.205 59.6131 673.942 Q62.6368 676.679 67.8567 676.679 L88.0042 676.679 L88.0042 682.568 L52.3562 682.568 L52.3562 676.679 L57.8944 676.679 Q54.6797 674.579 53.0883 671.746 Q51.4968 668.881 51.4968 665.157 Q51.4968 659.014 55.3163 655.863 Q59.1038 652.712 66.4881 652.712 Z\" fill=\"#000000\" fill-rule=\"evenodd\" fill-opacity=\"1\" /><path clip-path=\"url(#clip060)\" d=\"M 0 0 M46.818 609.712 L70.4666 618.433 L70.4666 600.959 L46.818 609.712 M40.4842 613.341 L40.4842 606.052 L88.0042 587.941 L88.0042 594.625 L75.8138 598.954 L75.8138 620.375 L88.0042 624.703 L88.0042 631.483 L40.4842 613.341 Z\" fill=\"#000000\" fill-rule=\"evenodd\" fill-opacity=\"1\" /><path clip-path=\"url(#clip060)\" d=\"M 0 0 M53.7248 557.29 L59.1993 557.29 Q57.8307 559.773 57.1623 562.288 Q56.4621 564.77 56.4621 567.316 Q56.4621 573.014 60.0905 576.165 Q63.6872 579.316 70.212 579.316 Q76.7369 579.316 80.3653 576.165 Q83.9619 573.014 83.9619 567.316 Q83.9619 564.77 83.2935 562.288 Q82.5933 559.773 81.2247 557.29 L86.6355 557.29 Q87.7814 559.741 88.3543 562.383 Q88.9272 564.993 88.9272 567.953 Q88.9272 576.006 83.8664 580.748 Q78.8057 585.491 70.212 585.491 Q61.491 585.491 56.4939 580.716 Q51.4968 575.91 51.4968 567.571 Q51.4968 564.866 52.0697 562.288 Q52.6108 559.709 53.7248 557.29 Z\" fill=\"#000000\" fill-rule=\"evenodd\" fill-opacity=\"1\" /><path clip-path=\"url(#clip060)\" d=\"M 0 0 M53.7248 525.494 L59.1993 525.494 Q57.8307 527.976 57.1623 530.491 Q56.4621 532.973 56.4621 535.52 Q56.4621 541.217 60.0905 544.368 Q63.6872 547.519 70.212 547.519 Q76.7369 547.519 80.3653 544.368 Q83.9619 541.217 83.9619 535.52 Q83.9619 532.973 83.2935 530.491 Q82.5933 527.976 81.2247 525.494 L86.6355 525.494 Q87.7814 527.945 88.3543 530.586 Q88.9272 533.196 88.9272 536.156 Q88.9272 544.209 83.8664 548.951 Q78.8057 553.694 70.212 553.694 Q61.491 553.694 56.4939 548.92 Q51.4968 544.113 51.4968 535.774 Q51.4968 533.069 52.0697 530.491 Q52.6108 527.913 53.7248 525.494 Z\" fill=\"#000000\" fill-rule=\"evenodd\" fill-opacity=\"1\" /><path clip-path=\"url(#clip060)\" d=\"M 0 0 M73.9359 519.956 L52.3562 519.956 L52.3562 514.099 L73.7131 514.099 Q78.7739 514.099 81.3202 512.126 Q83.8346 510.152 83.8346 506.206 Q83.8346 501.463 80.8109 498.726 Q77.7872 495.957 72.5673 495.957 L52.3562 495.957 L52.3562 490.1 L88.0042 490.1 L88.0042 495.957 L82.5296 495.957 Q85.7762 498.089 87.3676 500.922 Q88.9272 503.723 88.9272 507.447 Q88.9272 513.59 85.1078 516.773 Q81.2883 519.956 73.9359 519.956 M51.4968 505.219 L51.4968 505.219 Z\" fill=\"#000000\" fill-rule=\"evenodd\" fill-opacity=\"1\" /><path clip-path=\"url(#clip060)\" d=\"M 0 0 M57.8307 463.301 Q57.2578 464.287 57.0032 465.465 Q56.7167 466.611 56.7167 468.011 Q56.7167 472.977 59.9632 475.65 Q63.1779 478.292 69.2253 478.292 L88.0042 478.292 L88.0042 484.18 L52.3562 484.18 L52.3562 478.292 L57.8944 478.292 Q54.6479 476.446 53.0883 473.486 Q51.4968 470.526 51.4968 466.293 Q51.4968 465.688 51.5923 464.956 Q51.656 464.224 51.8151 463.333 L57.8307 463.301 Z\" fill=\"#000000\" fill-rule=\"evenodd\" fill-opacity=\"1\" /><path clip-path=\"url(#clip060)\" d=\"M 0 0 M70.0847 440.957 Q70.0847 448.055 71.7079 450.792 Q73.3312 453.529 77.2461 453.529 Q80.3653 453.529 82.2114 451.492 Q84.0256 449.424 84.0256 445.891 Q84.0256 441.021 80.5881 438.093 Q77.1188 435.133 71.3897 435.133 L70.0847 435.133 L70.0847 440.957 M67.6657 429.276 L88.0042 429.276 L88.0042 435.133 L82.5933 435.133 Q85.8398 437.138 87.3994 440.13 Q88.9272 443.122 88.9272 447.45 Q88.9272 452.925 85.8716 456.171 Q82.7843 459.386 77.6281 459.386 Q71.6125 459.386 68.5569 455.376 Q65.5014 451.333 65.5014 443.344 L65.5014 435.133 L64.9285 435.133 Q60.8862 435.133 58.6901 437.806 Q56.4621 440.448 56.4621 445.254 Q56.4621 448.31 57.1941 451.206 Q57.9262 454.102 59.3903 456.776 L53.9795 456.776 Q52.7381 453.561 52.1334 450.538 Q51.4968 447.514 51.4968 444.649 Q51.4968 436.915 55.5072 433.096 Q59.5176 429.276 67.6657 429.276 Z\" fill=\"#000000\" fill-rule=\"evenodd\" fill-opacity=\"1\" /><path clip-path=\"url(#clip060)\" d=\"M 0 0 M53.7248 397.479 L59.1993 397.479 Q57.8307 399.962 57.1623 402.476 Q56.4621 404.959 56.4621 407.505 Q56.4621 413.203 60.0905 416.354 Q63.6872 419.505 70.212 419.505 Q76.7369 419.505 80.3653 416.354 Q83.9619 413.203 83.9619 407.505 Q83.9619 404.959 83.2935 402.476 Q82.5933 399.962 81.2247 397.479 L86.6355 397.479 Q87.7814 399.93 88.3543 402.572 Q88.9272 405.182 88.9272 408.142 Q88.9272 416.195 83.8664 420.937 Q78.8057 425.679 70.212 425.679 Q61.491 425.679 56.4939 420.905 Q51.4968 416.099 51.4968 407.76 Q51.4968 405.055 52.0697 402.476 Q52.6108 399.898 53.7248 397.479 Z\" fill=\"#000000\" fill-rule=\"evenodd\" fill-opacity=\"1\" /><path clip-path=\"url(#clip060)\" d=\"M 0 0 M91.3143 376.504 Q97.68 378.987 99.6216 381.342 Q101.563 383.698 101.563 387.644 L101.563 392.323 L96.6615 392.323 L96.6615 388.886 Q96.6615 386.467 95.5157 385.13 Q94.3699 383.793 90.1048 382.17 L87.4312 381.12 L52.3562 395.538 L52.3562 389.331 L80.238 378.191 L52.3562 367.051 L52.3562 360.845 L91.3143 376.504 Z\" fill=\"#000000\" fill-rule=\"evenodd\" fill-opacity=\"1\" /><path clip-path=\"url(#clip062)\" d=\"\n",
       "M1901.28 768.631 L1901.28 7874.5 L1978.62 7874.5 L1978.62 768.631 L1901.28 768.631 L1901.28 768.631  Z\n",
       "  \" fill=\"#009af9\" fill-rule=\"evenodd\" fill-opacity=\"1\"/>\n",
       "<polyline clip-path=\"url(#clip062)\" style=\"stroke:#000000; stroke-width:4; stroke-opacity:1; fill:none\" points=\"\n",
       "  1901.28,768.631 1901.28,7874.5 1978.62,7874.5 1978.62,768.631 1901.28,768.631 \n",
       "  \"/>\n",
       "<path clip-path=\"url(#clip062)\" d=\"\n",
       "M1643.45 768.631 L1643.45 7874.5 L1720.8 7874.5 L1720.8 768.631 L1643.45 768.631 L1643.45 768.631  Z\n",
       "  \" fill=\"#009af9\" fill-rule=\"evenodd\" fill-opacity=\"1\"/>\n",
       "<polyline clip-path=\"url(#clip062)\" style=\"stroke:#000000; stroke-width:4; stroke-opacity:1; fill:none\" points=\"\n",
       "  1643.45,768.631 1643.45,7874.5 1720.8,7874.5 1720.8,768.631 1643.45,768.631 \n",
       "  \"/>\n",
       "<path clip-path=\"url(#clip062)\" d=\"\n",
       "M1127.81 569.291 L1127.81 7874.5 L1205.16 7874.5 L1205.16 569.291 L1127.81 569.291 L1127.81 569.291  Z\n",
       "  \" fill=\"#009af9\" fill-rule=\"evenodd\" fill-opacity=\"1\"/>\n",
       "<polyline clip-path=\"url(#clip062)\" style=\"stroke:#000000; stroke-width:4; stroke-opacity:1; fill:none\" points=\"\n",
       "  1127.81,569.291 1127.81,7874.5 1205.16,7874.5 1205.16,569.291 1127.81,569.291 \n",
       "  \"/>\n",
       "<path clip-path=\"url(#clip062)\" d=\"\n",
       "M998.903 510.662 L998.903 7874.5 L1076.25 7874.5 L1076.25 510.662 L998.903 510.662 L998.903 510.662  Z\n",
       "  \" fill=\"#009af9\" fill-rule=\"evenodd\" fill-opacity=\"1\"/>\n",
       "<polyline clip-path=\"url(#clip062)\" style=\"stroke:#000000; stroke-width:4; stroke-opacity:1; fill:none\" points=\"\n",
       "  998.903,510.662 998.903,7874.5 1076.25,7874.5 1076.25,510.662 998.903,510.662 \n",
       "  \"/>\n",
       "<path clip-path=\"url(#clip062)\" d=\"\n",
       "M869.992 487.21 L869.992 7874.5 L947.339 7874.5 L947.339 487.21 L869.992 487.21 L869.992 487.21  Z\n",
       "  \" fill=\"#009af9\" fill-rule=\"evenodd\" fill-opacity=\"1\"/>\n",
       "<polyline clip-path=\"url(#clip062)\" style=\"stroke:#000000; stroke-width:4; stroke-opacity:1; fill:none\" points=\"\n",
       "  869.992,487.21 869.992,7874.5 947.339,7874.5 947.339,487.21 869.992,487.21 \n",
       "  \"/>\n",
       "<path clip-path=\"url(#clip062)\" d=\"\n",
       "M612.172 534.113 L612.172 7874.5 L689.518 7874.5 L689.518 534.113 L612.172 534.113 L612.172 534.113  Z\n",
       "  \" fill=\"#009af9\" fill-rule=\"evenodd\" fill-opacity=\"1\"/>\n",
       "<polyline clip-path=\"url(#clip062)\" style=\"stroke:#000000; stroke-width:4; stroke-opacity:1; fill:none\" points=\"\n",
       "  612.172,534.113 612.172,7874.5 689.518,7874.5 689.518,534.113 612.172,534.113 \n",
       "  \"/>\n",
       "<path clip-path=\"url(#clip062)\" d=\"\n",
       "M1385.63 627.92 L1385.63 7874.5 L1462.98 7874.5 L1462.98 627.92 L1385.63 627.92 L1385.63 627.92  Z\n",
       "  \" fill=\"#009af9\" fill-rule=\"evenodd\" fill-opacity=\"1\"/>\n",
       "<polyline clip-path=\"url(#clip062)\" style=\"stroke:#000000; stroke-width:4; stroke-opacity:1; fill:none\" points=\"\n",
       "  1385.63,627.92 1385.63,7874.5 1462.98,7874.5 1462.98,627.92 1385.63,627.92 \n",
       "  \"/>\n",
       "<path clip-path=\"url(#clip062)\" d=\"\n",
       "M1772.37 721.727 L1772.37 7874.5 L1849.71 7874.5 L1849.71 721.727 L1772.37 721.727 L1772.37 721.727  Z\n",
       "  \" fill=\"#009af9\" fill-rule=\"evenodd\" fill-opacity=\"1\"/>\n",
       "<polyline clip-path=\"url(#clip062)\" style=\"stroke:#000000; stroke-width:4; stroke-opacity:1; fill:none\" points=\"\n",
       "  1772.37,721.727 1772.37,7874.5 1849.71,7874.5 1849.71,721.727 1772.37,721.727 \n",
       "  \"/>\n",
       "<path clip-path=\"url(#clip062)\" d=\"\n",
       "M1256.72 440.307 L1256.72 7874.5 L1334.07 7874.5 L1334.07 440.307 L1256.72 440.307 L1256.72 440.307  Z\n",
       "  \" fill=\"#009af9\" fill-rule=\"evenodd\" fill-opacity=\"1\"/>\n",
       "<polyline clip-path=\"url(#clip062)\" style=\"stroke:#000000; stroke-width:4; stroke-opacity:1; fill:none\" points=\"\n",
       "  1256.72,440.307 1256.72,7874.5 1334.07,7874.5 1334.07,440.307 1256.72,440.307 \n",
       "  \"/>\n",
       "<path clip-path=\"url(#clip062)\" d=\"\n",
       "M1514.54 545.839 L1514.54 7874.5 L1591.89 7874.5 L1591.89 545.839 L1514.54 545.839 L1514.54 545.839  Z\n",
       "  \" fill=\"#009af9\" fill-rule=\"evenodd\" fill-opacity=\"1\"/>\n",
       "<polyline clip-path=\"url(#clip062)\" style=\"stroke:#000000; stroke-width:4; stroke-opacity:1; fill:none\" points=\"\n",
       "  1514.54,545.839 1514.54,7874.5 1591.89,7874.5 1591.89,545.839 1514.54,545.839 \n",
       "  \"/>\n",
       "<path clip-path=\"url(#clip062)\" d=\"\n",
       "M741.082 405.129 L741.082 7874.5 L818.428 7874.5 L818.428 405.129 L741.082 405.129 L741.082 405.129  Z\n",
       "  \" fill=\"#009af9\" fill-rule=\"evenodd\" fill-opacity=\"1\"/>\n",
       "<polyline clip-path=\"url(#clip062)\" style=\"stroke:#000000; stroke-width:4; stroke-opacity:1; fill:none\" points=\"\n",
       "  741.082,405.129 741.082,7874.5 818.428,7874.5 818.428,405.129 741.082,405.129 \n",
       "  \"/>\n",
       "<path clip-path=\"url(#clip062)\" d=\"\n",
       "M354.351 569.291 L354.351 7874.5 L431.697 7874.5 L431.697 569.291 L354.351 569.291 L354.351 569.291  Z\n",
       "  \" fill=\"#009af9\" fill-rule=\"evenodd\" fill-opacity=\"1\"/>\n",
       "<polyline clip-path=\"url(#clip062)\" style=\"stroke:#000000; stroke-width:4; stroke-opacity:1; fill:none\" points=\"\n",
       "  354.351,569.291 354.351,7874.5 431.697,7874.5 431.697,569.291 354.351,569.291 \n",
       "  \"/>\n",
       "<path clip-path=\"url(#clip062)\" d=\"\n",
       "M2159.1 733.453 L2159.1 7874.5 L2236.44 7874.5 L2236.44 733.453 L2159.1 733.453 L2159.1 733.453  Z\n",
       "  \" fill=\"#009af9\" fill-rule=\"evenodd\" fill-opacity=\"1\"/>\n",
       "<polyline clip-path=\"url(#clip062)\" style=\"stroke:#000000; stroke-width:4; stroke-opacity:1; fill:none\" points=\"\n",
       "  2159.1,733.453 2159.1,7874.5 2236.44,7874.5 2236.44,733.453 2159.1,733.453 \n",
       "  \"/>\n",
       "<path clip-path=\"url(#clip062)\" d=\"\n",
       "M2030.19 710.001 L2030.19 7874.5 L2107.53 7874.5 L2107.53 710.001 L2030.19 710.001 L2030.19 710.001  Z\n",
       "  \" fill=\"#009af9\" fill-rule=\"evenodd\" fill-opacity=\"1\"/>\n",
       "<polyline clip-path=\"url(#clip062)\" style=\"stroke:#000000; stroke-width:4; stroke-opacity:1; fill:none\" points=\"\n",
       "  2030.19,710.001 2030.19,7874.5 2107.53,7874.5 2107.53,710.001 2030.19,710.001 \n",
       "  \"/>\n",
       "<path clip-path=\"url(#clip062)\" d=\"\n",
       "M483.261 405.129 L483.261 7874.5 L560.607 7874.5 L560.607 405.129 L483.261 405.129 L483.261 405.129  Z\n",
       "  \" fill=\"#009af9\" fill-rule=\"evenodd\" fill-opacity=\"1\"/>\n",
       "<polyline clip-path=\"url(#clip062)\" style=\"stroke:#000000; stroke-width:4; stroke-opacity:1; fill:none\" points=\"\n",
       "  483.261,405.129 483.261,7874.5 560.607,7874.5 560.607,405.129 483.261,405.129 \n",
       "  \"/>\n",
       "<path clip-path=\"url(#clip060)\" d=\"\n",
       "M1996.28 214.069 L2282.27 214.069 L2282.27 93.1086 L1996.28 93.1086  Z\n",
       "  \" fill=\"#ffffff\" fill-rule=\"evenodd\" fill-opacity=\"1\"/>\n",
       "<polyline clip-path=\"url(#clip060)\" style=\"stroke:#000000; stroke-width:4; stroke-opacity:1; fill:none\" points=\"\n",
       "  1996.28,214.069 2282.27,214.069 2282.27,93.1086 1996.28,93.1086 1996.28,214.069 \n",
       "  \"/>\n",
       "<path clip-path=\"url(#clip060)\" d=\"\n",
       "M2019.78 177.781 L2160.76 177.781 L2160.76 129.397 L2019.78 129.397 L2019.78 177.781  Z\n",
       "  \" fill=\"#009af9\" fill-rule=\"evenodd\" fill-opacity=\"1\"/>\n",
       "<polyline clip-path=\"url(#clip060)\" style=\"stroke:#000000; stroke-width:4; stroke-opacity:1; fill:none\" points=\"\n",
       "  2019.78,177.781 2160.76,177.781 2160.76,129.397 2019.78,129.397 2019.78,177.781 \n",
       "  \"/>\n",
       "<path clip-path=\"url(#clip060)\" d=\"M 0 0 M2198.1 173.276 Q2196.29 177.906 2194.58 179.318 Q2192.86 180.73 2189.99 180.73 L2186.59 180.73 L2186.59 177.165 L2189.09 177.165 Q2190.85 177.165 2191.82 176.332 Q2192.79 175.498 2193.98 172.396 L2194.74 170.452 L2184.25 144.943 L2188.77 144.943 L2196.87 165.221 L2204.97 144.943 L2209.48 144.943 L2198.1 173.276 Z\" fill=\"#000000\" fill-rule=\"evenodd\" fill-opacity=\"1\" /><path clip-path=\"url(#clip060)\" d=\"M 0 0 M2215.36 166.933 L2223 166.933 L2223 140.568 L2214.69 142.235 L2214.69 137.975 L2222.96 136.309 L2227.63 136.309 L2227.63 166.933 L2235.27 166.933 L2235.27 170.869 L2215.36 170.869 L2215.36 166.933 Z\" fill=\"#000000\" fill-rule=\"evenodd\" fill-opacity=\"1\" /></svg>\n"
      ]
     },
     "execution_count": 91,
     "metadata": {},
     "output_type": "execute_result"
    }
   ],
   "source": [
    "bar(self_tuning_knn.report.plotting.parameter_values[:,1], \n",
    "    self_tuning_knn.report.plotting.measurements,\n",
    "    bar_width=0.6,\n",
    "    ylims=[0.75, 0.9])\n",
    "    fillcolor=:red\n",
    "    fillalpha=0.2\n",
    "xlabel!(\"K\")\n",
    "ylabel!(\"Cross Validation Accuracy\")"
   ]
  },
  {
   "cell_type": "code",
   "execution_count": 92,
   "metadata": {},
   "outputs": [],
   "source": [
    "fn = \"Figures/KNN_MCC\"\n",
    "png(replace(fn,'.' => ','))"
   ]
  },
  {
   "cell_type": "markdown",
   "metadata": {},
   "source": [
    "#### Manhattan"
   ]
  },
  {
   "cell_type": "code",
   "execution_count": 114,
   "metadata": {},
   "outputs": [
    {
     "data": {
      "text/plain": [
       "KNNClassifier(\n",
       "    K = 5,\n",
       "    algorithm = :kdtree,\n",
       "    metric = Chebyshev(),\n",
       "    leafsize = 10,\n",
       "    reorder = true,\n",
       "    weights = :uniform)\u001b[34m @382\u001b[39m"
      ]
     },
     "execution_count": 114,
     "metadata": {},
     "output_type": "execute_result"
    }
   ],
   "source": [
    "knn_grid = KNNClassifier(metric=Cityblock())"
   ]
  },
  {
   "cell_type": "code",
   "execution_count": 115,
   "metadata": {},
   "outputs": [
    {
     "data": {
      "text/plain": [
       "MLJBase.NumericRange(Int64, :K, ... )"
      ]
     },
     "execution_count": 115,
     "metadata": {},
     "output_type": "execute_result"
    }
   ],
   "source": [
    "param1 = :K\n",
    "\n",
    "r1 = range(knn_grid, param1, lower=1, upper=15, scale=:linear)"
   ]
  },
  {
   "cell_type": "code",
   "execution_count": 116,
   "metadata": {
    "scrolled": true
   },
   "outputs": [
    {
     "data": {
      "text/plain": [
       "ProbabilisticTunedModel(\n",
       "    model = KNNClassifier(\n",
       "            K = 5,\n",
       "            algorithm = :kdtree,\n",
       "            metric = Chebyshev(),\n",
       "            leafsize = 10,\n",
       "            reorder = true,\n",
       "            weights = :uniform),\n",
       "    tuning = Grid(\n",
       "            goal = 15,\n",
       "            resolution = 10,\n",
       "            shuffle = true,\n",
       "            rng = Random._GLOBAL_RNG()),\n",
       "    resampling = CV(\n",
       "            nfolds = 6,\n",
       "            shuffle = true,\n",
       "            rng = Random._GLOBAL_RNG()),\n",
       "    measure = accuracy(),\n",
       "    weights = nothing,\n",
       "    operation = MLJModelInterface.predict_mode,\n",
       "    range = MLJBase.NumericRange{Int64,MLJBase.Bounded,Symbol}[\u001b[34mNumericRange{Int64,…} @590\u001b[39m],\n",
       "    train_best = true,\n",
       "    repeats = 1,\n",
       "    n = nothing,\n",
       "    acceleration = CPUThreads{Int64}(1),\n",
       "    acceleration_resampling = CPU1{Nothing}(nothing),\n",
       "    check_measure = true)\u001b[34m @170\u001b[39m"
      ]
     },
     "execution_count": 116,
     "metadata": {},
     "output_type": "execute_result"
    }
   ],
   "source": [
    "self_tuning_knn_model = TunedModel(model=knn_grid,\n",
    "                                    tuning=Grid(goal=15),\n",
    "                                    resampling=CV(nfolds=6, shuffle=true), \n",
    "                                    measure=accuracy,\n",
    "                                    acceleration=CPUThreads(),\n",
    "                                    range=[r1], \n",
    "                                    operation=predict_mode)"
   ]
  },
  {
   "cell_type": "code",
   "execution_count": 117,
   "metadata": {},
   "outputs": [
    {
     "name": "stderr",
     "output_type": "stream",
     "text": [
      "┌ Warning: The scitype of `X`, in `machine(model, X, ...)` is incompatible with `model=\u001b[34mProbabilisticTunedModel{Grid,…} @170\u001b[39m`:\n",
      "│ scitype(X) = Table{Union{AbstractArray{Continuous,1}, AbstractArray{Count,1}}}\n",
      "│ input_scitype(model) = Table{var\"#s44\"} where var\"#s44\"<:(AbstractArray{var\"#s13\",1} where var\"#s13\"<:Continuous).\n",
      "└ @ MLJBase /home/andrew/.julia/packages/MLJBase/uKzAz/src/machines.jl:77\n"
     ]
    },
    {
     "data": {
      "text/plain": [
       "\u001b[34mMachine{ProbabilisticTunedModel{Grid,…}} @500\u001b[39m trained 0 times.\n",
       "  args: \n",
       "    1:\t\u001b[34mSource @804\u001b[39m ⏎ `Table{Union{AbstractArray{Continuous,1}, AbstractArray{Count,1}}}`\n",
       "    2:\t\u001b[34mSource @516\u001b[39m ⏎ `AbstractArray{Multiclass{2},1}`\n"
      ]
     },
     "execution_count": 117,
     "metadata": {},
     "output_type": "execute_result"
    }
   ],
   "source": [
    "self_tuning_knn = machine(self_tuning_knn_model, X_stand, y)"
   ]
  },
  {
   "cell_type": "code",
   "execution_count": 118,
   "metadata": {
    "scrolled": true
   },
   "outputs": [
    {
     "name": "stderr",
     "output_type": "stream",
     "text": [
      "┌ Info: Training \u001b[34mMachine{ProbabilisticTunedModel{Grid,…}} @500\u001b[39m.\n",
      "└ @ MLJBase /home/andrew/.julia/packages/MLJBase/uKzAz/src/machines.jl:319\n",
      "┌ Info: Attempting to evaluate 15 models.\n",
      "└ @ MLJTuning /home/andrew/.julia/packages/MLJTuning/Bbgvk/src/tuned_models.jl:494\n",
      "┌ Warning: The scitype of `X`, in `machine(model, X, ...)` is incompatible with `model=\u001b[34mResampler{CV,…} @179\u001b[39m`:\n",
      "│ scitype(X) = Table{Union{AbstractArray{Continuous,1}, AbstractArray{Count,1}}}\n",
      "│ input_scitype(model) = Table{var\"#s44\"} where var\"#s44\"<:(AbstractArray{var\"#s13\",1} where var\"#s13\"<:Continuous).\n",
      "└ @ MLJBase /home/andrew/.julia/packages/MLJBase/uKzAz/src/machines.jl:77\n",
      "\u001b[33mEvaluating over 15 metamodels:   0%[>                        ]  ETA: N/A\u001b[39m┌ Warning: The scitype of `X`, in `machine(model, X, ...)` is incompatible with `model=\u001b[34mKNNClassifier @521\u001b[39m`:\n",
      "│ scitype(X) = Table{Union{AbstractArray{Continuous,1}, AbstractArray{Count,1}}}\n",
      "│ input_scitype(model) = Table{var\"#s44\"} where var\"#s44\"<:(AbstractArray{var\"#s13\",1} where var\"#s13\"<:Continuous).\n",
      "└ @ MLJBase /home/andrew/.julia/packages/MLJBase/uKzAz/src/machines.jl:77\n",
      "\u001b[33mEvaluating over 15 metamodels:   7%[=>                       ]  ETA: 0:00:00\u001b[39m┌ Warning: The scitype of `X`, in `machine(model, X, ...)` is incompatible with `model=\u001b[34mKNNClassifier @444\u001b[39m`:\n",
      "│ scitype(X) = Table{Union{AbstractArray{Continuous,1}, AbstractArray{Count,1}}}\n",
      "│ input_scitype(model) = Table{var\"#s44\"} where var\"#s44\"<:(AbstractArray{var\"#s13\",1} where var\"#s13\"<:Continuous).\n",
      "└ @ MLJBase /home/andrew/.julia/packages/MLJBase/uKzAz/src/machines.jl:77\n",
      "\u001b[33mEvaluating over 15 metamodels:  13%[===>                     ]  ETA: 0:00:00\u001b[39m┌ Warning: The scitype of `X`, in `machine(model, X, ...)` is incompatible with `model=\u001b[34mKNNClassifier @878\u001b[39m`:\n",
      "│ scitype(X) = Table{Union{AbstractArray{Continuous,1}, AbstractArray{Count,1}}}\n",
      "│ input_scitype(model) = Table{var\"#s44\"} where var\"#s44\"<:(AbstractArray{var\"#s13\",1} where var\"#s13\"<:Continuous).\n",
      "└ @ MLJBase /home/andrew/.julia/packages/MLJBase/uKzAz/src/machines.jl:77\n",
      "\u001b[33mEvaluating over 15 metamodels:  20%[=====>                   ]  ETA: 0:00:00\u001b[39m┌ Warning: The scitype of `X`, in `machine(model, X, ...)` is incompatible with `model=\u001b[34mKNNClassifier @190\u001b[39m`:\n",
      "│ scitype(X) = Table{Union{AbstractArray{Continuous,1}, AbstractArray{Count,1}}}\n",
      "│ input_scitype(model) = Table{var\"#s44\"} where var\"#s44\"<:(AbstractArray{var\"#s13\",1} where var\"#s13\"<:Continuous).\n",
      "└ @ MLJBase /home/andrew/.julia/packages/MLJBase/uKzAz/src/machines.jl:77\n",
      "\u001b[33mEvaluating over 15 metamodels:  27%[======>                  ]  ETA: 0:00:00\u001b[39m┌ Warning: The scitype of `X`, in `machine(model, X, ...)` is incompatible with `model=\u001b[34mKNNClassifier @987\u001b[39m`:\n",
      "│ scitype(X) = Table{Union{AbstractArray{Continuous,1}, AbstractArray{Count,1}}}\n",
      "│ input_scitype(model) = Table{var\"#s44\"} where var\"#s44\"<:(AbstractArray{var\"#s13\",1} where var\"#s13\"<:Continuous).\n",
      "└ @ MLJBase /home/andrew/.julia/packages/MLJBase/uKzAz/src/machines.jl:77\n",
      "\u001b[33mEvaluating over 15 metamodels:  33%[========>                ]  ETA: 0:00:00\u001b[39m┌ Warning: The scitype of `X`, in `machine(model, X, ...)` is incompatible with `model=\u001b[34mKNNClassifier @275\u001b[39m`:\n",
      "│ scitype(X) = Table{Union{AbstractArray{Continuous,1}, AbstractArray{Count,1}}}\n",
      "│ input_scitype(model) = Table{var\"#s44\"} where var\"#s44\"<:(AbstractArray{var\"#s13\",1} where var\"#s13\"<:Continuous).\n",
      "└ @ MLJBase /home/andrew/.julia/packages/MLJBase/uKzAz/src/machines.jl:77\n",
      "\u001b[33mEvaluating over 15 metamodels:  40%[==========>              ]  ETA: 0:00:00\u001b[39m┌ Warning: The scitype of `X`, in `machine(model, X, ...)` is incompatible with `model=\u001b[34mKNNClassifier @530\u001b[39m`:\n",
      "│ scitype(X) = Table{Union{AbstractArray{Continuous,1}, AbstractArray{Count,1}}}\n",
      "│ input_scitype(model) = Table{var\"#s44\"} where var\"#s44\"<:(AbstractArray{var\"#s13\",1} where var\"#s13\"<:Continuous).\n",
      "└ @ MLJBase /home/andrew/.julia/packages/MLJBase/uKzAz/src/machines.jl:77\n",
      "\u001b[33mEvaluating over 15 metamodels:  47%[===========>             ]  ETA: 0:00:00\u001b[39m┌ Warning: The scitype of `X`, in `machine(model, X, ...)` is incompatible with `model=\u001b[34mKNNClassifier @813\u001b[39m`:\n",
      "│ scitype(X) = Table{Union{AbstractArray{Continuous,1}, AbstractArray{Count,1}}}\n",
      "│ input_scitype(model) = Table{var\"#s44\"} where var\"#s44\"<:(AbstractArray{var\"#s13\",1} where var\"#s13\"<:Continuous).\n",
      "└ @ MLJBase /home/andrew/.julia/packages/MLJBase/uKzAz/src/machines.jl:77\n",
      "\u001b[33mEvaluating over 15 metamodels:  53%[=============>           ]  ETA: 0:00:00\u001b[39m┌ Warning: The scitype of `X`, in `machine(model, X, ...)` is incompatible with `model=\u001b[34mKNNClassifier @004\u001b[39m`:\n",
      "│ scitype(X) = Table{Union{AbstractArray{Continuous,1}, AbstractArray{Count,1}}}\n",
      "│ input_scitype(model) = Table{var\"#s44\"} where var\"#s44\"<:(AbstractArray{var\"#s13\",1} where var\"#s13\"<:Continuous).\n",
      "└ @ MLJBase /home/andrew/.julia/packages/MLJBase/uKzAz/src/machines.jl:77\n",
      "\u001b[33mEvaluating over 15 metamodels:  60%[===============>         ]  ETA: 0:00:00\u001b[39m┌ Warning: The scitype of `X`, in `machine(model, X, ...)` is incompatible with `model=\u001b[34mKNNClassifier @039\u001b[39m`:\n",
      "│ scitype(X) = Table{Union{AbstractArray{Continuous,1}, AbstractArray{Count,1}}}\n",
      "│ input_scitype(model) = Table{var\"#s44\"} where var\"#s44\"<:(AbstractArray{var\"#s13\",1} where var\"#s13\"<:Continuous).\n",
      "└ @ MLJBase /home/andrew/.julia/packages/MLJBase/uKzAz/src/machines.jl:77\n",
      "\u001b[33mEvaluating over 15 metamodels:  67%[================>        ]  ETA: 0:00:00\u001b[39m┌ Warning: The scitype of `X`, in `machine(model, X, ...)` is incompatible with `model=\u001b[34mKNNClassifier @872\u001b[39m`:\n",
      "│ scitype(X) = Table{Union{AbstractArray{Continuous,1}, AbstractArray{Count,1}}}\n",
      "│ input_scitype(model) = Table{var\"#s44\"} where var\"#s44\"<:(AbstractArray{var\"#s13\",1} where var\"#s13\"<:Continuous).\n",
      "└ @ MLJBase /home/andrew/.julia/packages/MLJBase/uKzAz/src/machines.jl:77\n",
      "\u001b[33mEvaluating over 15 metamodels:  73%[==================>      ]  ETA: 0:00:00\u001b[39m┌ Warning: The scitype of `X`, in `machine(model, X, ...)` is incompatible with `model=\u001b[34mKNNClassifier @369\u001b[39m`:\n",
      "│ scitype(X) = Table{Union{AbstractArray{Continuous,1}, AbstractArray{Count,1}}}\n",
      "│ input_scitype(model) = Table{var\"#s44\"} where var\"#s44\"<:(AbstractArray{var\"#s13\",1} where var\"#s13\"<:Continuous).\n",
      "└ @ MLJBase /home/andrew/.julia/packages/MLJBase/uKzAz/src/machines.jl:77\n",
      "\u001b[33mEvaluating over 15 metamodels:  80%[====================>    ]  ETA: 0:00:00\u001b[39m┌ Warning: The scitype of `X`, in `machine(model, X, ...)` is incompatible with `model=\u001b[34mKNNClassifier @715\u001b[39m`:\n",
      "│ scitype(X) = Table{Union{AbstractArray{Continuous,1}, AbstractArray{Count,1}}}\n",
      "│ input_scitype(model) = Table{var\"#s44\"} where var\"#s44\"<:(AbstractArray{var\"#s13\",1} where var\"#s13\"<:Continuous).\n",
      "└ @ MLJBase /home/andrew/.julia/packages/MLJBase/uKzAz/src/machines.jl:77\n",
      "\u001b[33mEvaluating over 15 metamodels:  87%[=====================>   ]  ETA: 0:00:00\u001b[39m┌ Warning: The scitype of `X`, in `machine(model, X, ...)` is incompatible with `model=\u001b[34mKNNClassifier @888\u001b[39m`:\n",
      "│ scitype(X) = Table{Union{AbstractArray{Continuous,1}, AbstractArray{Count,1}}}\n",
      "│ input_scitype(model) = Table{var\"#s44\"} where var\"#s44\"<:(AbstractArray{var\"#s13\",1} where var\"#s13\"<:Continuous).\n",
      "└ @ MLJBase /home/andrew/.julia/packages/MLJBase/uKzAz/src/machines.jl:77\n",
      "\u001b[33mEvaluating over 15 metamodels:  93%[=======================> ]  ETA: 0:00:00\u001b[39m┌ Warning: The scitype of `X`, in `machine(model, X, ...)` is incompatible with `model=\u001b[34mKNNClassifier @598\u001b[39m`:\n",
      "│ scitype(X) = Table{Union{AbstractArray{Continuous,1}, AbstractArray{Count,1}}}\n",
      "│ input_scitype(model) = Table{var\"#s44\"} where var\"#s44\"<:(AbstractArray{var\"#s13\",1} where var\"#s13\"<:Continuous).\n",
      "└ @ MLJBase /home/andrew/.julia/packages/MLJBase/uKzAz/src/machines.jl:77\n",
      "\u001b[33mEvaluating over 15 metamodels: 100%[=========================] Time: 0:00:00\u001b[39m\n",
      "┌ Warning: The scitype of `X`, in `machine(model, X, ...)` is incompatible with `model=\u001b[34mKNNClassifier @872\u001b[39m`:\n",
      "│ scitype(X) = Table{Union{AbstractArray{Continuous,1}, AbstractArray{Count,1}}}\n",
      "│ input_scitype(model) = Table{var\"#s44\"} where var\"#s44\"<:(AbstractArray{var\"#s13\",1} where var\"#s13\"<:Continuous).\n",
      "└ @ MLJBase /home/andrew/.julia/packages/MLJBase/uKzAz/src/machines.jl:77\n"
     ]
    },
    {
     "data": {
      "text/plain": [
       "\u001b[34mMachine{ProbabilisticTunedModel{Grid,…}} @500\u001b[39m trained 1 time.\n",
       "  args: \n",
       "    1:\t\u001b[34mSource @804\u001b[39m ⏎ `Table{Union{AbstractArray{Continuous,1}, AbstractArray{Count,1}}}`\n",
       "    2:\t\u001b[34mSource @516\u001b[39m ⏎ `AbstractArray{Multiclass{2},1}`\n"
      ]
     },
     "execution_count": 118,
     "metadata": {},
     "output_type": "execute_result"
    }
   ],
   "source": [
    "z = fit!(self_tuning_knn, rows=train)"
   ]
  },
  {
   "cell_type": "code",
   "execution_count": 119,
   "metadata": {},
   "outputs": [
    {
     "data": {
      "text/plain": [
       "(best_model = \u001b[34mKNNClassifier @872\u001b[39m,\n",
       " best_fitted_params = (tree = NearestNeighbors.KDTree{StaticArrays.SArray{Tuple{41},Float64,1,41},Euclidean,Float64}\n",
       "  Number of points: 738\n",
       "  Dimensions: 41\n",
       "  Metric: Euclidean(0.0)\n",
       "  Reordered: true,),)"
      ]
     },
     "execution_count": 119,
     "metadata": {},
     "output_type": "execute_result"
    }
   ],
   "source": [
    "best_Man = fitted_params(self_tuning_knn)\n",
    "best_Man"
   ]
  },
  {
   "cell_type": "code",
   "execution_count": 120,
   "metadata": {},
   "outputs": [
    {
     "data": {
      "text/plain": [
       "KNNClassifier(\n",
       "    K = 2,\n",
       "    algorithm = :kdtree,\n",
       "    metric = Chebyshev(),\n",
       "    leafsize = 10,\n",
       "    reorder = true,\n",
       "    weights = :uniform)\u001b[34m @872\u001b[39m"
      ]
     },
     "execution_count": 120,
     "metadata": {},
     "output_type": "execute_result"
    }
   ],
   "source": [
    "best_Man.best_model"
   ]
  },
  {
   "cell_type": "markdown",
   "metadata": {},
   "source": [
    "**Learning Curves**"
   ]
  },
  {
   "cell_type": "code",
   "execution_count": 121,
   "metadata": {
    "scrolled": true
   },
   "outputs": [
    {
     "name": "stdout",
     "output_type": "stream",
     "text": [
      "(d, train_metric, valid_metric) = (10, 0.9, 0.7027027027027027)\n",
      "(d, train_metric, valid_metric) = (15, 1.0, 0.75)\n",
      "(d, train_metric, valid_metric) = (20, 0.95, 0.7905405405405406)\n",
      "(d, train_metric, valid_metric) = (25, 0.96, 0.7635135135135135)\n",
      "(d, train_metric, valid_metric) = (30, 0.9666666666666667, 0.7702702702702703)\n",
      "(d, train_metric, valid_metric) = (35, 0.9714285714285714, 0.777027027027027)\n",
      "(d, train_metric, valid_metric) = (40, 0.925, 0.7905405405405406)\n",
      "(d, train_metric, valid_metric) = (45, 0.9333333333333333, 0.7905405405405406)\n",
      "(d, train_metric, valid_metric) = (50, 0.92, 0.7905405405405406)\n",
      "(d, train_metric, valid_metric) = (55, 0.8909090909090909, 0.7972972972972973)\n",
      "(d, train_metric, valid_metric) = (60, 0.8666666666666667, 0.7972972972972973)\n",
      "(d, train_metric, valid_metric) = (65, 0.8923076923076924, 0.8040540540540541)\n",
      "(d, train_metric, valid_metric) = (70, 0.8714285714285714, 0.777027027027027)\n",
      "(d, train_metric, valid_metric) = (75, 0.88, 0.7567567567567568)\n",
      "(d, train_metric, valid_metric) = (80, 0.8875, 0.7837837837837838)\n",
      "(d, train_metric, valid_metric) = (85, 0.8823529411764706, 0.7837837837837838)\n",
      "(d, train_metric, valid_metric) = (90, 0.8888888888888888, 0.777027027027027)\n",
      "(d, train_metric, valid_metric) = (95, 0.8842105263157894, 0.7905405405405406)\n",
      "(d, train_metric, valid_metric) = (100, 0.88, 0.8108108108108109)\n",
      "(d, train_metric, valid_metric) = (105, 0.8952380952380953, 0.8040540540540541)\n",
      "(d, train_metric, valid_metric) = (110, 0.9, 0.8175675675675675)\n",
      "(d, train_metric, valid_metric) = (115, 0.9043478260869565, 0.8175675675675675)\n",
      "(d, train_metric, valid_metric) = (120, 0.9, 0.8108108108108109)\n",
      "(d, train_metric, valid_metric) = (125, 0.904, 0.8108108108108109)\n"
     ]
    },
    {
     "name": "stderr",
     "output_type": "stream",
     "text": [
      "┌ Warning: The scitype of `X`, in `machine(model, X, ...)` is incompatible with `model=\u001b[34mKNNClassifier @872\u001b[39m`:\n",
      "│ scitype(X) = Table{Union{AbstractArray{Continuous,1}, AbstractArray{Count,1}}}\n",
      "│ input_scitype(model) = Table{var\"#s44\"} where var\"#s44\"<:(AbstractArray{var\"#s13\",1} where var\"#s13\"<:Continuous).\n",
      "└ @ MLJBase /home/andrew/.julia/packages/MLJBase/uKzAz/src/machines.jl:77\n",
      "┌ Warning: The scitype of `X`, in `machine(model, X, ...)` is incompatible with `model=\u001b[34mKNNClassifier @872\u001b[39m`:\n",
      "│ scitype(X) = Table{Union{AbstractArray{Continuous,1}, AbstractArray{Count,1}}}\n",
      "│ input_scitype(model) = Table{var\"#s44\"} where var\"#s44\"<:(AbstractArray{var\"#s13\",1} where var\"#s13\"<:Continuous).\n",
      "└ @ MLJBase /home/andrew/.julia/packages/MLJBase/uKzAz/src/machines.jl:77\n",
      "┌ Warning: The scitype of `X`, in `machine(model, X, ...)` is incompatible with `model=\u001b[34mKNNClassifier @872\u001b[39m`:\n",
      "│ scitype(X) = Table{Union{AbstractArray{Continuous,1}, AbstractArray{Count,1}}}\n",
      "│ input_scitype(model) = Table{var\"#s44\"} where var\"#s44\"<:(AbstractArray{var\"#s13\",1} where var\"#s13\"<:Continuous).\n",
      "└ @ MLJBase /home/andrew/.julia/packages/MLJBase/uKzAz/src/machines.jl:77\n",
      "┌ Warning: The scitype of `X`, in `machine(model, X, ...)` is incompatible with `model=\u001b[34mKNNClassifier @872\u001b[39m`:\n",
      "│ scitype(X) = Table{Union{AbstractArray{Continuous,1}, AbstractArray{Count,1}}}\n",
      "│ input_scitype(model) = Table{var\"#s44\"} where var\"#s44\"<:(AbstractArray{var\"#s13\",1} where var\"#s13\"<:Continuous).\n",
      "└ @ MLJBase /home/andrew/.julia/packages/MLJBase/uKzAz/src/machines.jl:77\n",
      "┌ Warning: The scitype of `X`, in `machine(model, X, ...)` is incompatible with `model=\u001b[34mKNNClassifier @872\u001b[39m`:\n",
      "│ scitype(X) = Table{Union{AbstractArray{Continuous,1}, AbstractArray{Count,1}}}\n",
      "│ input_scitype(model) = Table{var\"#s44\"} where var\"#s44\"<:(AbstractArray{var\"#s13\",1} where var\"#s13\"<:Continuous).\n",
      "└ @ MLJBase /home/andrew/.julia/packages/MLJBase/uKzAz/src/machines.jl:77\n",
      "┌ Warning: The scitype of `X`, in `machine(model, X, ...)` is incompatible with `model=\u001b[34mKNNClassifier @872\u001b[39m`:\n",
      "│ scitype(X) = Table{Union{AbstractArray{Continuous,1}, AbstractArray{Count,1}}}\n",
      "│ input_scitype(model) = Table{var\"#s44\"} where var\"#s44\"<:(AbstractArray{var\"#s13\",1} where var\"#s13\"<:Continuous).\n",
      "└ @ MLJBase /home/andrew/.julia/packages/MLJBase/uKzAz/src/machines.jl:77\n",
      "┌ Warning: The scitype of `X`, in `machine(model, X, ...)` is incompatible with `model=\u001b[34mKNNClassifier @872\u001b[39m`:\n",
      "│ scitype(X) = Table{Union{AbstractArray{Continuous,1}, AbstractArray{Count,1}}}\n",
      "│ input_scitype(model) = Table{var\"#s44\"} where var\"#s44\"<:(AbstractArray{var\"#s13\",1} where var\"#s13\"<:Continuous).\n",
      "└ @ MLJBase /home/andrew/.julia/packages/MLJBase/uKzAz/src/machines.jl:77\n",
      "┌ Warning: The scitype of `X`, in `machine(model, X, ...)` is incompatible with `model=\u001b[34mKNNClassifier @872\u001b[39m`:\n",
      "│ scitype(X) = Table{Union{AbstractArray{Continuous,1}, AbstractArray{Count,1}}}\n",
      "│ input_scitype(model) = Table{var\"#s44\"} where var\"#s44\"<:(AbstractArray{var\"#s13\",1} where var\"#s13\"<:Continuous).\n",
      "└ @ MLJBase /home/andrew/.julia/packages/MLJBase/uKzAz/src/machines.jl:77\n",
      "┌ Warning: The scitype of `X`, in `machine(model, X, ...)` is incompatible with `model=\u001b[34mKNNClassifier @872\u001b[39m`:\n",
      "│ scitype(X) = Table{Union{AbstractArray{Continuous,1}, AbstractArray{Count,1}}}\n",
      "│ input_scitype(model) = Table{var\"#s44\"} where var\"#s44\"<:(AbstractArray{var\"#s13\",1} where var\"#s13\"<:Continuous).\n",
      "└ @ MLJBase /home/andrew/.julia/packages/MLJBase/uKzAz/src/machines.jl:77\n",
      "┌ Warning: The scitype of `X`, in `machine(model, X, ...)` is incompatible with `model=\u001b[34mKNNClassifier @872\u001b[39m`:\n",
      "│ scitype(X) = Table{Union{AbstractArray{Continuous,1}, AbstractArray{Count,1}}}\n",
      "│ input_scitype(model) = Table{var\"#s44\"} where var\"#s44\"<:(AbstractArray{var\"#s13\",1} where var\"#s13\"<:Continuous).\n",
      "└ @ MLJBase /home/andrew/.julia/packages/MLJBase/uKzAz/src/machines.jl:77\n",
      "┌ Warning: The scitype of `X`, in `machine(model, X, ...)` is incompatible with `model=\u001b[34mKNNClassifier @872\u001b[39m`:\n",
      "│ scitype(X) = Table{Union{AbstractArray{Continuous,1}, AbstractArray{Count,1}}}\n",
      "│ input_scitype(model) = Table{var\"#s44\"} where var\"#s44\"<:(AbstractArray{var\"#s13\",1} where var\"#s13\"<:Continuous).\n",
      "└ @ MLJBase /home/andrew/.julia/packages/MLJBase/uKzAz/src/machines.jl:77\n",
      "┌ Warning: The scitype of `X`, in `machine(model, X, ...)` is incompatible with `model=\u001b[34mKNNClassifier @872\u001b[39m`:\n",
      "│ scitype(X) = Table{Union{AbstractArray{Continuous,1}, AbstractArray{Count,1}}}\n",
      "│ input_scitype(model) = Table{var\"#s44\"} where var\"#s44\"<:(AbstractArray{var\"#s13\",1} where var\"#s13\"<:Continuous).\n",
      "└ @ MLJBase /home/andrew/.julia/packages/MLJBase/uKzAz/src/machines.jl:77\n",
      "┌ Warning: The scitype of `X`, in `machine(model, X, ...)` is incompatible with `model=\u001b[34mKNNClassifier @872\u001b[39m`:\n",
      "│ scitype(X) = Table{Union{AbstractArray{Continuous,1}, AbstractArray{Count,1}}}\n",
      "│ input_scitype(model) = Table{var\"#s44\"} where var\"#s44\"<:(AbstractArray{var\"#s13\",1} where var\"#s13\"<:Continuous).\n",
      "└ @ MLJBase /home/andrew/.julia/packages/MLJBase/uKzAz/src/machines.jl:77\n",
      "┌ Warning: The scitype of `X`, in `machine(model, X, ...)` is incompatible with `model=\u001b[34mKNNClassifier @872\u001b[39m`:\n",
      "│ scitype(X) = Table{Union{AbstractArray{Continuous,1}, AbstractArray{Count,1}}}\n",
      "│ input_scitype(model) = Table{var\"#s44\"} where var\"#s44\"<:(AbstractArray{var\"#s13\",1} where var\"#s13\"<:Continuous).\n",
      "└ @ MLJBase /home/andrew/.julia/packages/MLJBase/uKzAz/src/machines.jl:77\n",
      "┌ Warning: The scitype of `X`, in `machine(model, X, ...)` is incompatible with `model=\u001b[34mKNNClassifier @872\u001b[39m`:\n",
      "│ scitype(X) = Table{Union{AbstractArray{Continuous,1}, AbstractArray{Count,1}}}\n",
      "│ input_scitype(model) = Table{var\"#s44\"} where var\"#s44\"<:(AbstractArray{var\"#s13\",1} where var\"#s13\"<:Continuous).\n",
      "└ @ MLJBase /home/andrew/.julia/packages/MLJBase/uKzAz/src/machines.jl:77\n",
      "┌ Warning: The scitype of `X`, in `machine(model, X, ...)` is incompatible with `model=\u001b[34mKNNClassifier @872\u001b[39m`:\n",
      "│ scitype(X) = Table{Union{AbstractArray{Continuous,1}, AbstractArray{Count,1}}}\n",
      "│ input_scitype(model) = Table{var\"#s44\"} where var\"#s44\"<:(AbstractArray{var\"#s13\",1} where var\"#s13\"<:Continuous).\n",
      "└ @ MLJBase /home/andrew/.julia/packages/MLJBase/uKzAz/src/machines.jl:77\n",
      "┌ Warning: The scitype of `X`, in `machine(model, X, ...)` is incompatible with `model=\u001b[34mKNNClassifier @872\u001b[39m`:\n",
      "│ scitype(X) = Table{Union{AbstractArray{Continuous,1}, AbstractArray{Count,1}}}\n",
      "│ input_scitype(model) = Table{var\"#s44\"} where var\"#s44\"<:(AbstractArray{var\"#s13\",1} where var\"#s13\"<:Continuous).\n",
      "└ @ MLJBase /home/andrew/.julia/packages/MLJBase/uKzAz/src/machines.jl:77\n",
      "┌ Warning: The scitype of `X`, in `machine(model, X, ...)` is incompatible with `model=\u001b[34mKNNClassifier @872\u001b[39m`:\n",
      "│ scitype(X) = Table{Union{AbstractArray{Continuous,1}, AbstractArray{Count,1}}}\n",
      "│ input_scitype(model) = Table{var\"#s44\"} where var\"#s44\"<:(AbstractArray{var\"#s13\",1} where var\"#s13\"<:Continuous).\n",
      "└ @ MLJBase /home/andrew/.julia/packages/MLJBase/uKzAz/src/machines.jl:77\n",
      "┌ Warning: The scitype of `X`, in `machine(model, X, ...)` is incompatible with `model=\u001b[34mKNNClassifier @872\u001b[39m`:\n",
      "│ scitype(X) = Table{Union{AbstractArray{Continuous,1}, AbstractArray{Count,1}}}\n",
      "│ input_scitype(model) = Table{var\"#s44\"} where var\"#s44\"<:(AbstractArray{var\"#s13\",1} where var\"#s13\"<:Continuous).\n",
      "└ @ MLJBase /home/andrew/.julia/packages/MLJBase/uKzAz/src/machines.jl:77\n",
      "┌ Warning: The scitype of `X`, in `machine(model, X, ...)` is incompatible with `model=\u001b[34mKNNClassifier @872\u001b[39m`:\n",
      "│ scitype(X) = Table{Union{AbstractArray{Continuous,1}, AbstractArray{Count,1}}}\n",
      "│ input_scitype(model) = Table{var\"#s44\"} where var\"#s44\"<:(AbstractArray{var\"#s13\",1} where var\"#s13\"<:Continuous).\n",
      "└ @ MLJBase /home/andrew/.julia/packages/MLJBase/uKzAz/src/machines.jl:77\n",
      "┌ Warning: The scitype of `X`, in `machine(model, X, ...)` is incompatible with `model=\u001b[34mKNNClassifier @872\u001b[39m`:\n",
      "│ scitype(X) = Table{Union{AbstractArray{Continuous,1}, AbstractArray{Count,1}}}\n",
      "│ input_scitype(model) = Table{var\"#s44\"} where var\"#s44\"<:(AbstractArray{var\"#s13\",1} where var\"#s13\"<:Continuous).\n",
      "└ @ MLJBase /home/andrew/.julia/packages/MLJBase/uKzAz/src/machines.jl:77\n",
      "┌ Warning: The scitype of `X`, in `machine(model, X, ...)` is incompatible with `model=\u001b[34mKNNClassifier @872\u001b[39m`:\n",
      "│ scitype(X) = Table{Union{AbstractArray{Continuous,1}, AbstractArray{Count,1}}}\n",
      "│ input_scitype(model) = Table{var\"#s44\"} where var\"#s44\"<:(AbstractArray{var\"#s13\",1} where var\"#s13\"<:Continuous).\n",
      "└ @ MLJBase /home/andrew/.julia/packages/MLJBase/uKzAz/src/machines.jl:77\n",
      "┌ Warning: The scitype of `X`, in `machine(model, X, ...)` is incompatible with `model=\u001b[34mKNNClassifier @872\u001b[39m`:\n",
      "│ scitype(X) = Table{Union{AbstractArray{Continuous,1}, AbstractArray{Count,1}}}\n",
      "│ input_scitype(model) = Table{var\"#s44\"} where var\"#s44\"<:(AbstractArray{var\"#s13\",1} where var\"#s13\"<:Continuous).\n",
      "└ @ MLJBase /home/andrew/.julia/packages/MLJBase/uKzAz/src/machines.jl:77\n",
      "┌ Warning: The scitype of `X`, in `machine(model, X, ...)` is incompatible with `model=\u001b[34mKNNClassifier @872\u001b[39m`:\n",
      "│ scitype(X) = Table{Union{AbstractArray{Continuous,1}, AbstractArray{Count,1}}}\n",
      "│ input_scitype(model) = Table{var\"#s44\"} where var\"#s44\"<:(AbstractArray{var\"#s13\",1} where var\"#s13\"<:Continuous).\n",
      "└ @ MLJBase /home/andrew/.julia/packages/MLJBase/uKzAz/src/machines.jl:77\n",
      "┌ Warning: The scitype of `X`, in `machine(model, X, ...)` is incompatible with `model=\u001b[34mKNNClassifier @872\u001b[39m`:\n",
      "│ scitype(X) = Table{Union{AbstractArray{Continuous,1}, AbstractArray{Count,1}}}\n",
      "│ input_scitype(model) = Table{var\"#s44\"} where var\"#s44\"<:(AbstractArray{var\"#s13\",1} where var\"#s13\"<:Continuous).\n",
      "└ @ MLJBase /home/andrew/.julia/packages/MLJBase/uKzAz/src/machines.jl:77\n"
     ]
    },
    {
     "name": "stdout",
     "output_type": "stream",
     "text": [
      "(d, train_metric, valid_metric) = (130, 0.9076923076923077, 0.8108108108108109)\n",
      "(d, train_metric, valid_metric) = (135, 0.9111111111111111, 0.8243243243243243)\n",
      "(d, train_metric, valid_metric) = (140, 0.9071428571428571, 0.8175675675675675)\n",
      "(d, train_metric, valid_metric) = (145, 0.9172413793103448, 0.8040540540540541)\n",
      "(d, train_metric, valid_metric) = (150, 0.9133333333333333, 0.8108108108108109)\n",
      "(d, train_metric, valid_metric) = (155, 0.9032258064516129, 0.8108108108108109)\n",
      "(d, train_metric, valid_metric) = (160, 0.9125, 0.8175675675675675)\n",
      "(d, train_metric, valid_metric) = (165, 0.9151515151515152, 0.8243243243243243)\n",
      "(d, train_metric, valid_metric) = (170, 0.9117647058823529, 0.8243243243243243)\n",
      "(d, train_metric, valid_metric) = (175, 0.9142857142857143, 0.8243243243243243)\n",
      "(d, train_metric, valid_metric) = (180, 0.9166666666666666, 0.8243243243243243)\n",
      "(d, train_metric, valid_metric) = (185, 0.918918918918919, 0.8243243243243243)\n",
      "(d, train_metric, valid_metric) = (190, 0.9210526315789473, 0.8243243243243243)\n",
      "(d, train_metric, valid_metric) = (195, 0.9230769230769231, 0.8243243243243243)\n",
      "(d, train_metric, valid_metric) = (200, 0.925, 0.8243243243243243)\n",
      "(d, train_metric, valid_metric) = (205, 0.9219512195121952, 0.8243243243243243)\n",
      "(d, train_metric, valid_metric) = (210, 0.9238095238095239, 0.8243243243243243)\n",
      "(d, train_metric, valid_metric) = (215, 0.9209302325581395, 0.831081081081081)\n",
      "(d, train_metric, valid_metric) = (220, 0.9227272727272727, 0.8378378378378378)\n",
      "(d, train_metric, valid_metric) = (225, 0.9244444444444444, 0.8378378378378378)\n",
      "(d, train_metric, valid_metric) = (230, 0.9260869565217391, 0.8378378378378378)\n",
      "(d, train_metric, valid_metric) = (235, 0.9276595744680851, 0.8378378378378378)\n",
      "(d, train_metric, valid_metric) = (240, 0.9291666666666667, 0.8445945945945946)\n",
      "(d, train_metric, valid_metric) = (245, 0.926530612244898, 0.8445945945945946)\n",
      "(d, train_metric, valid_metric) = (250, 0.932, 0.8378378378378378)\n"
     ]
    },
    {
     "name": "stderr",
     "output_type": "stream",
     "text": [
      "┌ Warning: The scitype of `X`, in `machine(model, X, ...)` is incompatible with `model=\u001b[34mKNNClassifier @872\u001b[39m`:\n",
      "│ scitype(X) = Table{Union{AbstractArray{Continuous,1}, AbstractArray{Count,1}}}\n",
      "│ input_scitype(model) = Table{var\"#s44\"} where var\"#s44\"<:(AbstractArray{var\"#s13\",1} where var\"#s13\"<:Continuous).\n",
      "└ @ MLJBase /home/andrew/.julia/packages/MLJBase/uKzAz/src/machines.jl:77\n",
      "┌ Warning: The scitype of `X`, in `machine(model, X, ...)` is incompatible with `model=\u001b[34mKNNClassifier @872\u001b[39m`:\n",
      "│ scitype(X) = Table{Union{AbstractArray{Continuous,1}, AbstractArray{Count,1}}}\n",
      "│ input_scitype(model) = Table{var\"#s44\"} where var\"#s44\"<:(AbstractArray{var\"#s13\",1} where var\"#s13\"<:Continuous).\n",
      "└ @ MLJBase /home/andrew/.julia/packages/MLJBase/uKzAz/src/machines.jl:77\n",
      "┌ Warning: The scitype of `X`, in `machine(model, X, ...)` is incompatible with `model=\u001b[34mKNNClassifier @872\u001b[39m`:\n",
      "│ scitype(X) = Table{Union{AbstractArray{Continuous,1}, AbstractArray{Count,1}}}\n",
      "│ input_scitype(model) = Table{var\"#s44\"} where var\"#s44\"<:(AbstractArray{var\"#s13\",1} where var\"#s13\"<:Continuous).\n",
      "└ @ MLJBase /home/andrew/.julia/packages/MLJBase/uKzAz/src/machines.jl:77\n",
      "┌ Warning: The scitype of `X`, in `machine(model, X, ...)` is incompatible with `model=\u001b[34mKNNClassifier @872\u001b[39m`:\n",
      "│ scitype(X) = Table{Union{AbstractArray{Continuous,1}, AbstractArray{Count,1}}}\n",
      "│ input_scitype(model) = Table{var\"#s44\"} where var\"#s44\"<:(AbstractArray{var\"#s13\",1} where var\"#s13\"<:Continuous).\n",
      "└ @ MLJBase /home/andrew/.julia/packages/MLJBase/uKzAz/src/machines.jl:77\n",
      "┌ Warning: The scitype of `X`, in `machine(model, X, ...)` is incompatible with `model=\u001b[34mKNNClassifier @872\u001b[39m`:\n",
      "│ scitype(X) = Table{Union{AbstractArray{Continuous,1}, AbstractArray{Count,1}}}\n",
      "│ input_scitype(model) = Table{var\"#s44\"} where var\"#s44\"<:(AbstractArray{var\"#s13\",1} where var\"#s13\"<:Continuous).\n",
      "└ @ MLJBase /home/andrew/.julia/packages/MLJBase/uKzAz/src/machines.jl:77\n",
      "┌ Warning: The scitype of `X`, in `machine(model, X, ...)` is incompatible with `model=\u001b[34mKNNClassifier @872\u001b[39m`:\n",
      "│ scitype(X) = Table{Union{AbstractArray{Continuous,1}, AbstractArray{Count,1}}}\n",
      "│ input_scitype(model) = Table{var\"#s44\"} where var\"#s44\"<:(AbstractArray{var\"#s13\",1} where var\"#s13\"<:Continuous).\n",
      "└ @ MLJBase /home/andrew/.julia/packages/MLJBase/uKzAz/src/machines.jl:77\n",
      "┌ Warning: The scitype of `X`, in `machine(model, X, ...)` is incompatible with `model=\u001b[34mKNNClassifier @872\u001b[39m`:\n",
      "│ scitype(X) = Table{Union{AbstractArray{Continuous,1}, AbstractArray{Count,1}}}\n",
      "│ input_scitype(model) = Table{var\"#s44\"} where var\"#s44\"<:(AbstractArray{var\"#s13\",1} where var\"#s13\"<:Continuous).\n",
      "└ @ MLJBase /home/andrew/.julia/packages/MLJBase/uKzAz/src/machines.jl:77\n",
      "┌ Warning: The scitype of `X`, in `machine(model, X, ...)` is incompatible with `model=\u001b[34mKNNClassifier @872\u001b[39m`:\n",
      "│ scitype(X) = Table{Union{AbstractArray{Continuous,1}, AbstractArray{Count,1}}}\n",
      "│ input_scitype(model) = Table{var\"#s44\"} where var\"#s44\"<:(AbstractArray{var\"#s13\",1} where var\"#s13\"<:Continuous).\n",
      "└ @ MLJBase /home/andrew/.julia/packages/MLJBase/uKzAz/src/machines.jl:77\n",
      "┌ Warning: The scitype of `X`, in `machine(model, X, ...)` is incompatible with `model=\u001b[34mKNNClassifier @872\u001b[39m`:\n",
      "│ scitype(X) = Table{Union{AbstractArray{Continuous,1}, AbstractArray{Count,1}}}\n",
      "│ input_scitype(model) = Table{var\"#s44\"} where var\"#s44\"<:(AbstractArray{var\"#s13\",1} where var\"#s13\"<:Continuous).\n",
      "└ @ MLJBase /home/andrew/.julia/packages/MLJBase/uKzAz/src/machines.jl:77\n",
      "┌ Warning: The scitype of `X`, in `machine(model, X, ...)` is incompatible with `model=\u001b[34mKNNClassifier @872\u001b[39m`:\n",
      "│ scitype(X) = Table{Union{AbstractArray{Continuous,1}, AbstractArray{Count,1}}}\n",
      "│ input_scitype(model) = Table{var\"#s44\"} where var\"#s44\"<:(AbstractArray{var\"#s13\",1} where var\"#s13\"<:Continuous).\n",
      "└ @ MLJBase /home/andrew/.julia/packages/MLJBase/uKzAz/src/machines.jl:77\n",
      "┌ Warning: The scitype of `X`, in `machine(model, X, ...)` is incompatible with `model=\u001b[34mKNNClassifier @872\u001b[39m`:\n",
      "│ scitype(X) = Table{Union{AbstractArray{Continuous,1}, AbstractArray{Count,1}}}\n",
      "│ input_scitype(model) = Table{var\"#s44\"} where var\"#s44\"<:(AbstractArray{var\"#s13\",1} where var\"#s13\"<:Continuous).\n",
      "└ @ MLJBase /home/andrew/.julia/packages/MLJBase/uKzAz/src/machines.jl:77\n",
      "┌ Warning: The scitype of `X`, in `machine(model, X, ...)` is incompatible with `model=\u001b[34mKNNClassifier @872\u001b[39m`:\n",
      "│ scitype(X) = Table{Union{AbstractArray{Continuous,1}, AbstractArray{Count,1}}}\n",
      "│ input_scitype(model) = Table{var\"#s44\"} where var\"#s44\"<:(AbstractArray{var\"#s13\",1} where var\"#s13\"<:Continuous).\n",
      "└ @ MLJBase /home/andrew/.julia/packages/MLJBase/uKzAz/src/machines.jl:77\n",
      "┌ Warning: The scitype of `X`, in `machine(model, X, ...)` is incompatible with `model=\u001b[34mKNNClassifier @872\u001b[39m`:\n",
      "│ scitype(X) = Table{Union{AbstractArray{Continuous,1}, AbstractArray{Count,1}}}\n",
      "│ input_scitype(model) = Table{var\"#s44\"} where var\"#s44\"<:(AbstractArray{var\"#s13\",1} where var\"#s13\"<:Continuous).\n",
      "└ @ MLJBase /home/andrew/.julia/packages/MLJBase/uKzAz/src/machines.jl:77\n",
      "┌ Warning: The scitype of `X`, in `machine(model, X, ...)` is incompatible with `model=\u001b[34mKNNClassifier @872\u001b[39m`:\n",
      "│ scitype(X) = Table{Union{AbstractArray{Continuous,1}, AbstractArray{Count,1}}}\n",
      "│ input_scitype(model) = Table{var\"#s44\"} where var\"#s44\"<:(AbstractArray{var\"#s13\",1} where var\"#s13\"<:Continuous).\n",
      "└ @ MLJBase /home/andrew/.julia/packages/MLJBase/uKzAz/src/machines.jl:77\n",
      "┌ Warning: The scitype of `X`, in `machine(model, X, ...)` is incompatible with `model=\u001b[34mKNNClassifier @872\u001b[39m`:\n",
      "│ scitype(X) = Table{Union{AbstractArray{Continuous,1}, AbstractArray{Count,1}}}\n",
      "│ input_scitype(model) = Table{var\"#s44\"} where var\"#s44\"<:(AbstractArray{var\"#s13\",1} where var\"#s13\"<:Continuous).\n",
      "└ @ MLJBase /home/andrew/.julia/packages/MLJBase/uKzAz/src/machines.jl:77\n",
      "┌ Warning: The scitype of `X`, in `machine(model, X, ...)` is incompatible with `model=\u001b[34mKNNClassifier @872\u001b[39m`:\n",
      "│ scitype(X) = Table{Union{AbstractArray{Continuous,1}, AbstractArray{Count,1}}}\n",
      "│ input_scitype(model) = Table{var\"#s44\"} where var\"#s44\"<:(AbstractArray{var\"#s13\",1} where var\"#s13\"<:Continuous).\n",
      "└ @ MLJBase /home/andrew/.julia/packages/MLJBase/uKzAz/src/machines.jl:77\n",
      "┌ Warning: The scitype of `X`, in `machine(model, X, ...)` is incompatible with `model=\u001b[34mKNNClassifier @872\u001b[39m`:\n",
      "│ scitype(X) = Table{Union{AbstractArray{Continuous,1}, AbstractArray{Count,1}}}\n",
      "│ input_scitype(model) = Table{var\"#s44\"} where var\"#s44\"<:(AbstractArray{var\"#s13\",1} where var\"#s13\"<:Continuous).\n",
      "└ @ MLJBase /home/andrew/.julia/packages/MLJBase/uKzAz/src/machines.jl:77\n",
      "┌ Warning: The scitype of `X`, in `machine(model, X, ...)` is incompatible with `model=\u001b[34mKNNClassifier @872\u001b[39m`:\n",
      "│ scitype(X) = Table{Union{AbstractArray{Continuous,1}, AbstractArray{Count,1}}}\n",
      "│ input_scitype(model) = Table{var\"#s44\"} where var\"#s44\"<:(AbstractArray{var\"#s13\",1} where var\"#s13\"<:Continuous).\n",
      "└ @ MLJBase /home/andrew/.julia/packages/MLJBase/uKzAz/src/machines.jl:77\n",
      "┌ Warning: The scitype of `X`, in `machine(model, X, ...)` is incompatible with `model=\u001b[34mKNNClassifier @872\u001b[39m`:\n",
      "│ scitype(X) = Table{Union{AbstractArray{Continuous,1}, AbstractArray{Count,1}}}\n",
      "│ input_scitype(model) = Table{var\"#s44\"} where var\"#s44\"<:(AbstractArray{var\"#s13\",1} where var\"#s13\"<:Continuous).\n",
      "└ @ MLJBase /home/andrew/.julia/packages/MLJBase/uKzAz/src/machines.jl:77\n",
      "┌ Warning: The scitype of `X`, in `machine(model, X, ...)` is incompatible with `model=\u001b[34mKNNClassifier @872\u001b[39m`:\n",
      "│ scitype(X) = Table{Union{AbstractArray{Continuous,1}, AbstractArray{Count,1}}}\n",
      "│ input_scitype(model) = Table{var\"#s44\"} where var\"#s44\"<:(AbstractArray{var\"#s13\",1} where var\"#s13\"<:Continuous).\n",
      "└ @ MLJBase /home/andrew/.julia/packages/MLJBase/uKzAz/src/machines.jl:77\n",
      "┌ Warning: The scitype of `X`, in `machine(model, X, ...)` is incompatible with `model=\u001b[34mKNNClassifier @872\u001b[39m`:\n",
      "│ scitype(X) = Table{Union{AbstractArray{Continuous,1}, AbstractArray{Count,1}}}\n",
      "│ input_scitype(model) = Table{var\"#s44\"} where var\"#s44\"<:(AbstractArray{var\"#s13\",1} where var\"#s13\"<:Continuous).\n",
      "└ @ MLJBase /home/andrew/.julia/packages/MLJBase/uKzAz/src/machines.jl:77\n",
      "┌ Warning: The scitype of `X`, in `machine(model, X, ...)` is incompatible with `model=\u001b[34mKNNClassifier @872\u001b[39m`:\n",
      "│ scitype(X) = Table{Union{AbstractArray{Continuous,1}, AbstractArray{Count,1}}}\n",
      "│ input_scitype(model) = Table{var\"#s44\"} where var\"#s44\"<:(AbstractArray{var\"#s13\",1} where var\"#s13\"<:Continuous).\n",
      "└ @ MLJBase /home/andrew/.julia/packages/MLJBase/uKzAz/src/machines.jl:77\n",
      "┌ Warning: The scitype of `X`, in `machine(model, X, ...)` is incompatible with `model=\u001b[34mKNNClassifier @872\u001b[39m`:\n",
      "│ scitype(X) = Table{Union{AbstractArray{Continuous,1}, AbstractArray{Count,1}}}\n",
      "│ input_scitype(model) = Table{var\"#s44\"} where var\"#s44\"<:(AbstractArray{var\"#s13\",1} where var\"#s13\"<:Continuous).\n",
      "└ @ MLJBase /home/andrew/.julia/packages/MLJBase/uKzAz/src/machines.jl:77\n",
      "┌ Warning: The scitype of `X`, in `machine(model, X, ...)` is incompatible with `model=\u001b[34mKNNClassifier @872\u001b[39m`:\n",
      "│ scitype(X) = Table{Union{AbstractArray{Continuous,1}, AbstractArray{Count,1}}}\n",
      "│ input_scitype(model) = Table{var\"#s44\"} where var\"#s44\"<:(AbstractArray{var\"#s13\",1} where var\"#s13\"<:Continuous).\n",
      "└ @ MLJBase /home/andrew/.julia/packages/MLJBase/uKzAz/src/machines.jl:77\n",
      "┌ Warning: The scitype of `X`, in `machine(model, X, ...)` is incompatible with `model=\u001b[34mKNNClassifier @872\u001b[39m`:\n",
      "│ scitype(X) = Table{Union{AbstractArray{Continuous,1}, AbstractArray{Count,1}}}\n",
      "│ input_scitype(model) = Table{var\"#s44\"} where var\"#s44\"<:(AbstractArray{var\"#s13\",1} where var\"#s13\"<:Continuous).\n",
      "└ @ MLJBase /home/andrew/.julia/packages/MLJBase/uKzAz/src/machines.jl:77\n"
     ]
    },
    {
     "name": "stdout",
     "output_type": "stream",
     "text": [
      "(d, train_metric, valid_metric) = (255, 0.9333333333333333, 0.8243243243243243)\n",
      "(d, train_metric, valid_metric) = (260, 0.9346153846153846, 0.831081081081081)\n",
      "(d, train_metric, valid_metric) = (265, 0.9358490566037736, 0.8243243243243243)\n",
      "(d, train_metric, valid_metric) = (270, 0.9407407407407408, 0.8175675675675675)\n",
      "(d, train_metric, valid_metric) = (275, 0.9381818181818182, 0.8175675675675675)\n",
      "(d, train_metric, valid_metric) = (280, 0.9357142857142857, 0.8108108108108109)\n",
      "(d, train_metric, valid_metric) = (285, 0.9333333333333333, 0.8108108108108109)\n",
      "(d, train_metric, valid_metric) = (290, 0.9344827586206896, 0.8108108108108109)\n",
      "(d, train_metric, valid_metric) = (295, 0.9254237288135593, 0.8108108108108109)\n",
      "(d, train_metric, valid_metric) = (300, 0.9266666666666666, 0.8108108108108109)\n",
      "(d, train_metric, valid_metric) = (305, 0.9245901639344263, 0.8175675675675675)\n",
      "(d, train_metric, valid_metric) = (310, 0.9258064516129032, 0.8175675675675675)\n",
      "(d, train_metric, valid_metric) = (315, 0.9301587301587302, 0.8243243243243243)\n",
      "(d, train_metric, valid_metric) = (320, 0.928125, 0.8243243243243243)\n",
      "(d, train_metric, valid_metric) = (325, 0.9261538461538461, 0.8445945945945946)\n",
      "(d, train_metric, valid_metric) = (330, 0.9242424242424242, 0.8445945945945946)\n",
      "(d, train_metric, valid_metric) = (335, 0.9194029850746268, 0.8445945945945946)\n",
      "(d, train_metric, valid_metric) = (340, 0.9205882352941176, 0.8445945945945946)\n",
      "(d, train_metric, valid_metric) = (345, 0.9217391304347826, 0.8445945945945946)\n",
      "(d, train_metric, valid_metric) = (350, 0.9228571428571428, 0.8445945945945946)\n",
      "(d, train_metric, valid_metric) = (355, 0.923943661971831, 0.8445945945945946)\n",
      "(d, train_metric, valid_metric) = (360, 0.9222222222222223, 0.8445945945945946)\n"
     ]
    },
    {
     "name": "stderr",
     "output_type": "stream",
     "text": [
      "┌ Warning: The scitype of `X`, in `machine(model, X, ...)` is incompatible with `model=\u001b[34mKNNClassifier @872\u001b[39m`:\n",
      "│ scitype(X) = Table{Union{AbstractArray{Continuous,1}, AbstractArray{Count,1}}}\n",
      "│ input_scitype(model) = Table{var\"#s44\"} where var\"#s44\"<:(AbstractArray{var\"#s13\",1} where var\"#s13\"<:Continuous).\n",
      "└ @ MLJBase /home/andrew/.julia/packages/MLJBase/uKzAz/src/machines.jl:77\n",
      "┌ Warning: The scitype of `X`, in `machine(model, X, ...)` is incompatible with `model=\u001b[34mKNNClassifier @872\u001b[39m`:\n",
      "│ scitype(X) = Table{Union{AbstractArray{Continuous,1}, AbstractArray{Count,1}}}\n",
      "│ input_scitype(model) = Table{var\"#s44\"} where var\"#s44\"<:(AbstractArray{var\"#s13\",1} where var\"#s13\"<:Continuous).\n",
      "└ @ MLJBase /home/andrew/.julia/packages/MLJBase/uKzAz/src/machines.jl:77\n",
      "┌ Warning: The scitype of `X`, in `machine(model, X, ...)` is incompatible with `model=\u001b[34mKNNClassifier @872\u001b[39m`:\n",
      "│ scitype(X) = Table{Union{AbstractArray{Continuous,1}, AbstractArray{Count,1}}}\n",
      "│ input_scitype(model) = Table{var\"#s44\"} where var\"#s44\"<:(AbstractArray{var\"#s13\",1} where var\"#s13\"<:Continuous).\n",
      "└ @ MLJBase /home/andrew/.julia/packages/MLJBase/uKzAz/src/machines.jl:77\n",
      "┌ Warning: The scitype of `X`, in `machine(model, X, ...)` is incompatible with `model=\u001b[34mKNNClassifier @872\u001b[39m`:\n",
      "│ scitype(X) = Table{Union{AbstractArray{Continuous,1}, AbstractArray{Count,1}}}\n",
      "│ input_scitype(model) = Table{var\"#s44\"} where var\"#s44\"<:(AbstractArray{var\"#s13\",1} where var\"#s13\"<:Continuous).\n",
      "└ @ MLJBase /home/andrew/.julia/packages/MLJBase/uKzAz/src/machines.jl:77\n",
      "┌ Warning: The scitype of `X`, in `machine(model, X, ...)` is incompatible with `model=\u001b[34mKNNClassifier @872\u001b[39m`:\n",
      "│ scitype(X) = Table{Union{AbstractArray{Continuous,1}, AbstractArray{Count,1}}}\n",
      "│ input_scitype(model) = Table{var\"#s44\"} where var\"#s44\"<:(AbstractArray{var\"#s13\",1} where var\"#s13\"<:Continuous).\n",
      "└ @ MLJBase /home/andrew/.julia/packages/MLJBase/uKzAz/src/machines.jl:77\n",
      "┌ Warning: The scitype of `X`, in `machine(model, X, ...)` is incompatible with `model=\u001b[34mKNNClassifier @872\u001b[39m`:\n",
      "│ scitype(X) = Table{Union{AbstractArray{Continuous,1}, AbstractArray{Count,1}}}\n",
      "│ input_scitype(model) = Table{var\"#s44\"} where var\"#s44\"<:(AbstractArray{var\"#s13\",1} where var\"#s13\"<:Continuous).\n",
      "└ @ MLJBase /home/andrew/.julia/packages/MLJBase/uKzAz/src/machines.jl:77\n",
      "┌ Warning: The scitype of `X`, in `machine(model, X, ...)` is incompatible with `model=\u001b[34mKNNClassifier @872\u001b[39m`:\n",
      "│ scitype(X) = Table{Union{AbstractArray{Continuous,1}, AbstractArray{Count,1}}}\n",
      "│ input_scitype(model) = Table{var\"#s44\"} where var\"#s44\"<:(AbstractArray{var\"#s13\",1} where var\"#s13\"<:Continuous).\n",
      "└ @ MLJBase /home/andrew/.julia/packages/MLJBase/uKzAz/src/machines.jl:77\n",
      "┌ Warning: The scitype of `X`, in `machine(model, X, ...)` is incompatible with `model=\u001b[34mKNNClassifier @872\u001b[39m`:\n",
      "│ scitype(X) = Table{Union{AbstractArray{Continuous,1}, AbstractArray{Count,1}}}\n",
      "│ input_scitype(model) = Table{var\"#s44\"} where var\"#s44\"<:(AbstractArray{var\"#s13\",1} where var\"#s13\"<:Continuous).\n",
      "└ @ MLJBase /home/andrew/.julia/packages/MLJBase/uKzAz/src/machines.jl:77\n",
      "┌ Warning: The scitype of `X`, in `machine(model, X, ...)` is incompatible with `model=\u001b[34mKNNClassifier @872\u001b[39m`:\n",
      "│ scitype(X) = Table{Union{AbstractArray{Continuous,1}, AbstractArray{Count,1}}}\n",
      "│ input_scitype(model) = Table{var\"#s44\"} where var\"#s44\"<:(AbstractArray{var\"#s13\",1} where var\"#s13\"<:Continuous).\n",
      "└ @ MLJBase /home/andrew/.julia/packages/MLJBase/uKzAz/src/machines.jl:77\n",
      "┌ Warning: The scitype of `X`, in `machine(model, X, ...)` is incompatible with `model=\u001b[34mKNNClassifier @872\u001b[39m`:\n",
      "│ scitype(X) = Table{Union{AbstractArray{Continuous,1}, AbstractArray{Count,1}}}\n",
      "│ input_scitype(model) = Table{var\"#s44\"} where var\"#s44\"<:(AbstractArray{var\"#s13\",1} where var\"#s13\"<:Continuous).\n",
      "└ @ MLJBase /home/andrew/.julia/packages/MLJBase/uKzAz/src/machines.jl:77\n",
      "┌ Warning: The scitype of `X`, in `machine(model, X, ...)` is incompatible with `model=\u001b[34mKNNClassifier @872\u001b[39m`:\n",
      "│ scitype(X) = Table{Union{AbstractArray{Continuous,1}, AbstractArray{Count,1}}}\n",
      "│ input_scitype(model) = Table{var\"#s44\"} where var\"#s44\"<:(AbstractArray{var\"#s13\",1} where var\"#s13\"<:Continuous).\n",
      "└ @ MLJBase /home/andrew/.julia/packages/MLJBase/uKzAz/src/machines.jl:77\n",
      "┌ Warning: The scitype of `X`, in `machine(model, X, ...)` is incompatible with `model=\u001b[34mKNNClassifier @872\u001b[39m`:\n",
      "│ scitype(X) = Table{Union{AbstractArray{Continuous,1}, AbstractArray{Count,1}}}\n",
      "│ input_scitype(model) = Table{var\"#s44\"} where var\"#s44\"<:(AbstractArray{var\"#s13\",1} where var\"#s13\"<:Continuous).\n",
      "└ @ MLJBase /home/andrew/.julia/packages/MLJBase/uKzAz/src/machines.jl:77\n",
      "┌ Warning: The scitype of `X`, in `machine(model, X, ...)` is incompatible with `model=\u001b[34mKNNClassifier @872\u001b[39m`:\n",
      "│ scitype(X) = Table{Union{AbstractArray{Continuous,1}, AbstractArray{Count,1}}}\n",
      "│ input_scitype(model) = Table{var\"#s44\"} where var\"#s44\"<:(AbstractArray{var\"#s13\",1} where var\"#s13\"<:Continuous).\n",
      "└ @ MLJBase /home/andrew/.julia/packages/MLJBase/uKzAz/src/machines.jl:77\n",
      "┌ Warning: The scitype of `X`, in `machine(model, X, ...)` is incompatible with `model=\u001b[34mKNNClassifier @872\u001b[39m`:\n",
      "│ scitype(X) = Table{Union{AbstractArray{Continuous,1}, AbstractArray{Count,1}}}\n",
      "│ input_scitype(model) = Table{var\"#s44\"} where var\"#s44\"<:(AbstractArray{var\"#s13\",1} where var\"#s13\"<:Continuous).\n",
      "└ @ MLJBase /home/andrew/.julia/packages/MLJBase/uKzAz/src/machines.jl:77\n",
      "┌ Warning: The scitype of `X`, in `machine(model, X, ...)` is incompatible with `model=\u001b[34mKNNClassifier @872\u001b[39m`:\n",
      "│ scitype(X) = Table{Union{AbstractArray{Continuous,1}, AbstractArray{Count,1}}}\n",
      "│ input_scitype(model) = Table{var\"#s44\"} where var\"#s44\"<:(AbstractArray{var\"#s13\",1} where var\"#s13\"<:Continuous).\n",
      "└ @ MLJBase /home/andrew/.julia/packages/MLJBase/uKzAz/src/machines.jl:77\n",
      "┌ Warning: The scitype of `X`, in `machine(model, X, ...)` is incompatible with `model=\u001b[34mKNNClassifier @872\u001b[39m`:\n",
      "│ scitype(X) = Table{Union{AbstractArray{Continuous,1}, AbstractArray{Count,1}}}\n",
      "│ input_scitype(model) = Table{var\"#s44\"} where var\"#s44\"<:(AbstractArray{var\"#s13\",1} where var\"#s13\"<:Continuous).\n",
      "└ @ MLJBase /home/andrew/.julia/packages/MLJBase/uKzAz/src/machines.jl:77\n",
      "┌ Warning: The scitype of `X`, in `machine(model, X, ...)` is incompatible with `model=\u001b[34mKNNClassifier @872\u001b[39m`:\n",
      "│ scitype(X) = Table{Union{AbstractArray{Continuous,1}, AbstractArray{Count,1}}}\n",
      "│ input_scitype(model) = Table{var\"#s44\"} where var\"#s44\"<:(AbstractArray{var\"#s13\",1} where var\"#s13\"<:Continuous).\n",
      "└ @ MLJBase /home/andrew/.julia/packages/MLJBase/uKzAz/src/machines.jl:77\n",
      "┌ Warning: The scitype of `X`, in `machine(model, X, ...)` is incompatible with `model=\u001b[34mKNNClassifier @872\u001b[39m`:\n",
      "│ scitype(X) = Table{Union{AbstractArray{Continuous,1}, AbstractArray{Count,1}}}\n",
      "│ input_scitype(model) = Table{var\"#s44\"} where var\"#s44\"<:(AbstractArray{var\"#s13\",1} where var\"#s13\"<:Continuous).\n",
      "└ @ MLJBase /home/andrew/.julia/packages/MLJBase/uKzAz/src/machines.jl:77\n",
      "┌ Warning: The scitype of `X`, in `machine(model, X, ...)` is incompatible with `model=\u001b[34mKNNClassifier @872\u001b[39m`:\n",
      "│ scitype(X) = Table{Union{AbstractArray{Continuous,1}, AbstractArray{Count,1}}}\n",
      "│ input_scitype(model) = Table{var\"#s44\"} where var\"#s44\"<:(AbstractArray{var\"#s13\",1} where var\"#s13\"<:Continuous).\n",
      "└ @ MLJBase /home/andrew/.julia/packages/MLJBase/uKzAz/src/machines.jl:77\n",
      "┌ Warning: The scitype of `X`, in `machine(model, X, ...)` is incompatible with `model=\u001b[34mKNNClassifier @872\u001b[39m`:\n",
      "│ scitype(X) = Table{Union{AbstractArray{Continuous,1}, AbstractArray{Count,1}}}\n",
      "│ input_scitype(model) = Table{var\"#s44\"} where var\"#s44\"<:(AbstractArray{var\"#s13\",1} where var\"#s13\"<:Continuous).\n",
      "└ @ MLJBase /home/andrew/.julia/packages/MLJBase/uKzAz/src/machines.jl:77\n",
      "┌ Warning: The scitype of `X`, in `machine(model, X, ...)` is incompatible with `model=\u001b[34mKNNClassifier @872\u001b[39m`:\n",
      "│ scitype(X) = Table{Union{AbstractArray{Continuous,1}, AbstractArray{Count,1}}}\n",
      "│ input_scitype(model) = Table{var\"#s44\"} where var\"#s44\"<:(AbstractArray{var\"#s13\",1} where var\"#s13\"<:Continuous).\n",
      "└ @ MLJBase /home/andrew/.julia/packages/MLJBase/uKzAz/src/machines.jl:77\n"
     ]
    },
    {
     "name": "stdout",
     "output_type": "stream",
     "text": [
      "(d, train_metric, valid_metric) = (365, 0.9205479452054794, 0.831081081081081)\n",
      "(d, train_metric, valid_metric) = (370, 0.9243243243243243, 0.831081081081081)\n",
      "(d, train_metric, valid_metric) = (375, 0.92, 0.831081081081081)\n",
      "(d, train_metric, valid_metric) = (380, 0.9210526315789473, 0.831081081081081)\n",
      "(d, train_metric, valid_metric) = (385, 0.9194805194805195, 0.831081081081081)\n",
      "(d, train_metric, valid_metric) = (390, 0.9230769230769231, 0.831081081081081)\n",
      "(d, train_metric, valid_metric) = (395, 0.9189873417721519, 0.831081081081081)\n",
      "(d, train_metric, valid_metric) = (400, 0.9175, 0.831081081081081)\n",
      "(d, train_metric, valid_metric) = (405, 0.9209876543209876, 0.831081081081081)\n",
      "(d, train_metric, valid_metric) = (410, 0.9219512195121952, 0.831081081081081)\n",
      "(d, train_metric, valid_metric) = (415, 0.9228915662650602, 0.831081081081081)\n",
      "(d, train_metric, valid_metric) = (420, 0.9214285714285714, 0.8243243243243243)\n",
      "(d, train_metric, valid_metric) = (425, 0.9176470588235294, 0.8243243243243243)\n",
      "(d, train_metric, valid_metric) = (430, 0.9186046511627907, 0.8243243243243243)\n",
      "(d, train_metric, valid_metric) = (435, 0.9218390804597701, 0.8243243243243243)\n",
      "(d, train_metric, valid_metric) = (440, 0.925, 0.8175675675675675)\n",
      "(d, train_metric, valid_metric) = (445, 0.9280898876404494, 0.8175675675675675)\n"
     ]
    },
    {
     "name": "stderr",
     "output_type": "stream",
     "text": [
      "┌ Warning: The scitype of `X`, in `machine(model, X, ...)` is incompatible with `model=\u001b[34mKNNClassifier @872\u001b[39m`:\n",
      "│ scitype(X) = Table{Union{AbstractArray{Continuous,1}, AbstractArray{Count,1}}}\n",
      "│ input_scitype(model) = Table{var\"#s44\"} where var\"#s44\"<:(AbstractArray{var\"#s13\",1} where var\"#s13\"<:Continuous).\n",
      "└ @ MLJBase /home/andrew/.julia/packages/MLJBase/uKzAz/src/machines.jl:77\n",
      "┌ Warning: The scitype of `X`, in `machine(model, X, ...)` is incompatible with `model=\u001b[34mKNNClassifier @872\u001b[39m`:\n",
      "│ scitype(X) = Table{Union{AbstractArray{Continuous,1}, AbstractArray{Count,1}}}\n",
      "│ input_scitype(model) = Table{var\"#s44\"} where var\"#s44\"<:(AbstractArray{var\"#s13\",1} where var\"#s13\"<:Continuous).\n",
      "└ @ MLJBase /home/andrew/.julia/packages/MLJBase/uKzAz/src/machines.jl:77\n",
      "┌ Warning: The scitype of `X`, in `machine(model, X, ...)` is incompatible with `model=\u001b[34mKNNClassifier @872\u001b[39m`:\n",
      "│ scitype(X) = Table{Union{AbstractArray{Continuous,1}, AbstractArray{Count,1}}}\n",
      "│ input_scitype(model) = Table{var\"#s44\"} where var\"#s44\"<:(AbstractArray{var\"#s13\",1} where var\"#s13\"<:Continuous).\n",
      "└ @ MLJBase /home/andrew/.julia/packages/MLJBase/uKzAz/src/machines.jl:77\n",
      "┌ Warning: The scitype of `X`, in `machine(model, X, ...)` is incompatible with `model=\u001b[34mKNNClassifier @872\u001b[39m`:\n",
      "│ scitype(X) = Table{Union{AbstractArray{Continuous,1}, AbstractArray{Count,1}}}\n",
      "│ input_scitype(model) = Table{var\"#s44\"} where var\"#s44\"<:(AbstractArray{var\"#s13\",1} where var\"#s13\"<:Continuous).\n",
      "└ @ MLJBase /home/andrew/.julia/packages/MLJBase/uKzAz/src/machines.jl:77\n",
      "┌ Warning: The scitype of `X`, in `machine(model, X, ...)` is incompatible with `model=\u001b[34mKNNClassifier @872\u001b[39m`:\n",
      "│ scitype(X) = Table{Union{AbstractArray{Continuous,1}, AbstractArray{Count,1}}}\n",
      "│ input_scitype(model) = Table{var\"#s44\"} where var\"#s44\"<:(AbstractArray{var\"#s13\",1} where var\"#s13\"<:Continuous).\n",
      "└ @ MLJBase /home/andrew/.julia/packages/MLJBase/uKzAz/src/machines.jl:77\n",
      "┌ Warning: The scitype of `X`, in `machine(model, X, ...)` is incompatible with `model=\u001b[34mKNNClassifier @872\u001b[39m`:\n",
      "│ scitype(X) = Table{Union{AbstractArray{Continuous,1}, AbstractArray{Count,1}}}\n",
      "│ input_scitype(model) = Table{var\"#s44\"} where var\"#s44\"<:(AbstractArray{var\"#s13\",1} where var\"#s13\"<:Continuous).\n",
      "└ @ MLJBase /home/andrew/.julia/packages/MLJBase/uKzAz/src/machines.jl:77\n",
      "┌ Warning: The scitype of `X`, in `machine(model, X, ...)` is incompatible with `model=\u001b[34mKNNClassifier @872\u001b[39m`:\n",
      "│ scitype(X) = Table{Union{AbstractArray{Continuous,1}, AbstractArray{Count,1}}}\n",
      "│ input_scitype(model) = Table{var\"#s44\"} where var\"#s44\"<:(AbstractArray{var\"#s13\",1} where var\"#s13\"<:Continuous).\n",
      "└ @ MLJBase /home/andrew/.julia/packages/MLJBase/uKzAz/src/machines.jl:77\n",
      "┌ Warning: The scitype of `X`, in `machine(model, X, ...)` is incompatible with `model=\u001b[34mKNNClassifier @872\u001b[39m`:\n",
      "│ scitype(X) = Table{Union{AbstractArray{Continuous,1}, AbstractArray{Count,1}}}\n",
      "│ input_scitype(model) = Table{var\"#s44\"} where var\"#s44\"<:(AbstractArray{var\"#s13\",1} where var\"#s13\"<:Continuous).\n",
      "└ @ MLJBase /home/andrew/.julia/packages/MLJBase/uKzAz/src/machines.jl:77\n",
      "┌ Warning: The scitype of `X`, in `machine(model, X, ...)` is incompatible with `model=\u001b[34mKNNClassifier @872\u001b[39m`:\n",
      "│ scitype(X) = Table{Union{AbstractArray{Continuous,1}, AbstractArray{Count,1}}}\n",
      "│ input_scitype(model) = Table{var\"#s44\"} where var\"#s44\"<:(AbstractArray{var\"#s13\",1} where var\"#s13\"<:Continuous).\n",
      "└ @ MLJBase /home/andrew/.julia/packages/MLJBase/uKzAz/src/machines.jl:77\n",
      "┌ Warning: The scitype of `X`, in `machine(model, X, ...)` is incompatible with `model=\u001b[34mKNNClassifier @872\u001b[39m`:\n",
      "│ scitype(X) = Table{Union{AbstractArray{Continuous,1}, AbstractArray{Count,1}}}\n",
      "│ input_scitype(model) = Table{var\"#s44\"} where var\"#s44\"<:(AbstractArray{var\"#s13\",1} where var\"#s13\"<:Continuous).\n",
      "└ @ MLJBase /home/andrew/.julia/packages/MLJBase/uKzAz/src/machines.jl:77\n",
      "┌ Warning: The scitype of `X`, in `machine(model, X, ...)` is incompatible with `model=\u001b[34mKNNClassifier @872\u001b[39m`:\n",
      "│ scitype(X) = Table{Union{AbstractArray{Continuous,1}, AbstractArray{Count,1}}}\n",
      "│ input_scitype(model) = Table{var\"#s44\"} where var\"#s44\"<:(AbstractArray{var\"#s13\",1} where var\"#s13\"<:Continuous).\n",
      "└ @ MLJBase /home/andrew/.julia/packages/MLJBase/uKzAz/src/machines.jl:77\n",
      "┌ Warning: The scitype of `X`, in `machine(model, X, ...)` is incompatible with `model=\u001b[34mKNNClassifier @872\u001b[39m`:\n",
      "│ scitype(X) = Table{Union{AbstractArray{Continuous,1}, AbstractArray{Count,1}}}\n",
      "│ input_scitype(model) = Table{var\"#s44\"} where var\"#s44\"<:(AbstractArray{var\"#s13\",1} where var\"#s13\"<:Continuous).\n",
      "└ @ MLJBase /home/andrew/.julia/packages/MLJBase/uKzAz/src/machines.jl:77\n",
      "┌ Warning: The scitype of `X`, in `machine(model, X, ...)` is incompatible with `model=\u001b[34mKNNClassifier @872\u001b[39m`:\n",
      "│ scitype(X) = Table{Union{AbstractArray{Continuous,1}, AbstractArray{Count,1}}}\n",
      "│ input_scitype(model) = Table{var\"#s44\"} where var\"#s44\"<:(AbstractArray{var\"#s13\",1} where var\"#s13\"<:Continuous).\n",
      "└ @ MLJBase /home/andrew/.julia/packages/MLJBase/uKzAz/src/machines.jl:77\n",
      "┌ Warning: The scitype of `X`, in `machine(model, X, ...)` is incompatible with `model=\u001b[34mKNNClassifier @872\u001b[39m`:\n",
      "│ scitype(X) = Table{Union{AbstractArray{Continuous,1}, AbstractArray{Count,1}}}\n",
      "│ input_scitype(model) = Table{var\"#s44\"} where var\"#s44\"<:(AbstractArray{var\"#s13\",1} where var\"#s13\"<:Continuous).\n",
      "└ @ MLJBase /home/andrew/.julia/packages/MLJBase/uKzAz/src/machines.jl:77\n",
      "┌ Warning: The scitype of `X`, in `machine(model, X, ...)` is incompatible with `model=\u001b[34mKNNClassifier @872\u001b[39m`:\n",
      "│ scitype(X) = Table{Union{AbstractArray{Continuous,1}, AbstractArray{Count,1}}}\n",
      "│ input_scitype(model) = Table{var\"#s44\"} where var\"#s44\"<:(AbstractArray{var\"#s13\",1} where var\"#s13\"<:Continuous).\n",
      "└ @ MLJBase /home/andrew/.julia/packages/MLJBase/uKzAz/src/machines.jl:77\n",
      "┌ Warning: The scitype of `X`, in `machine(model, X, ...)` is incompatible with `model=\u001b[34mKNNClassifier @872\u001b[39m`:\n",
      "│ scitype(X) = Table{Union{AbstractArray{Continuous,1}, AbstractArray{Count,1}}}\n",
      "│ input_scitype(model) = Table{var\"#s44\"} where var\"#s44\"<:(AbstractArray{var\"#s13\",1} where var\"#s13\"<:Continuous).\n",
      "└ @ MLJBase /home/andrew/.julia/packages/MLJBase/uKzAz/src/machines.jl:77\n",
      "┌ Warning: The scitype of `X`, in `machine(model, X, ...)` is incompatible with `model=\u001b[34mKNNClassifier @872\u001b[39m`:\n",
      "│ scitype(X) = Table{Union{AbstractArray{Continuous,1}, AbstractArray{Count,1}}}\n",
      "│ input_scitype(model) = Table{var\"#s44\"} where var\"#s44\"<:(AbstractArray{var\"#s13\",1} where var\"#s13\"<:Continuous).\n",
      "└ @ MLJBase /home/andrew/.julia/packages/MLJBase/uKzAz/src/machines.jl:77\n",
      "┌ Warning: The scitype of `X`, in `machine(model, X, ...)` is incompatible with `model=\u001b[34mKNNClassifier @872\u001b[39m`:\n",
      "│ scitype(X) = Table{Union{AbstractArray{Continuous,1}, AbstractArray{Count,1}}}\n",
      "│ input_scitype(model) = Table{var\"#s44\"} where var\"#s44\"<:(AbstractArray{var\"#s13\",1} where var\"#s13\"<:Continuous).\n",
      "└ @ MLJBase /home/andrew/.julia/packages/MLJBase/uKzAz/src/machines.jl:77\n"
     ]
    },
    {
     "name": "stdout",
     "output_type": "stream",
     "text": [
      "(d, train_metric, valid_metric) = (450, 0.9288888888888889, 0.8243243243243243)\n",
      "(d, train_metric, valid_metric) = (455, 0.9296703296703297, 0.8243243243243243)\n",
      "(d, train_metric, valid_metric) = (460, 0.9326086956521739, 0.831081081081081)\n",
      "(d, train_metric, valid_metric) = (465, 0.9333333333333333, 0.831081081081081)\n",
      "(d, train_metric, valid_metric) = (470, 0.9319148936170213, 0.831081081081081)\n",
      "(d, train_metric, valid_metric) = (475, 0.9305263157894736, 0.831081081081081)\n",
      "(d, train_metric, valid_metric) = (480, 0.93125, 0.8243243243243243)\n",
      "(d, train_metric, valid_metric) = (485, 0.9298969072164949, 0.8243243243243243)\n",
      "(d, train_metric, valid_metric) = (490, 0.9285714285714286, 0.8243243243243243)\n",
      "(d, train_metric, valid_metric) = (495, 0.9292929292929293, 0.831081081081081)\n",
      "(d, train_metric, valid_metric) = (500, 0.928, 0.831081081081081)\n",
      "(d, train_metric, valid_metric) = (505, 0.9287128712871288, 0.831081081081081)\n",
      "(d, train_metric, valid_metric) = (510, 0.9274509803921569, 0.831081081081081)\n",
      "(d, train_metric, valid_metric) = (515, 0.9262135922330097, 0.831081081081081)\n",
      "(d, train_metric, valid_metric) = (520, 0.926923076923077, 0.831081081081081)\n",
      "(d, train_metric, valid_metric) = (525, 0.9276190476190476, 0.831081081081081)\n"
     ]
    },
    {
     "name": "stderr",
     "output_type": "stream",
     "text": [
      "┌ Warning: The scitype of `X`, in `machine(model, X, ...)` is incompatible with `model=\u001b[34mKNNClassifier @872\u001b[39m`:\n",
      "│ scitype(X) = Table{Union{AbstractArray{Continuous,1}, AbstractArray{Count,1}}}\n",
      "│ input_scitype(model) = Table{var\"#s44\"} where var\"#s44\"<:(AbstractArray{var\"#s13\",1} where var\"#s13\"<:Continuous).\n",
      "└ @ MLJBase /home/andrew/.julia/packages/MLJBase/uKzAz/src/machines.jl:77\n",
      "┌ Warning: The scitype of `X`, in `machine(model, X, ...)` is incompatible with `model=\u001b[34mKNNClassifier @872\u001b[39m`:\n",
      "│ scitype(X) = Table{Union{AbstractArray{Continuous,1}, AbstractArray{Count,1}}}\n",
      "│ input_scitype(model) = Table{var\"#s44\"} where var\"#s44\"<:(AbstractArray{var\"#s13\",1} where var\"#s13\"<:Continuous).\n",
      "└ @ MLJBase /home/andrew/.julia/packages/MLJBase/uKzAz/src/machines.jl:77\n",
      "┌ Warning: The scitype of `X`, in `machine(model, X, ...)` is incompatible with `model=\u001b[34mKNNClassifier @872\u001b[39m`:\n",
      "│ scitype(X) = Table{Union{AbstractArray{Continuous,1}, AbstractArray{Count,1}}}\n",
      "│ input_scitype(model) = Table{var\"#s44\"} where var\"#s44\"<:(AbstractArray{var\"#s13\",1} where var\"#s13\"<:Continuous).\n",
      "└ @ MLJBase /home/andrew/.julia/packages/MLJBase/uKzAz/src/machines.jl:77\n",
      "┌ Warning: The scitype of `X`, in `machine(model, X, ...)` is incompatible with `model=\u001b[34mKNNClassifier @872\u001b[39m`:\n",
      "│ scitype(X) = Table{Union{AbstractArray{Continuous,1}, AbstractArray{Count,1}}}\n",
      "│ input_scitype(model) = Table{var\"#s44\"} where var\"#s44\"<:(AbstractArray{var\"#s13\",1} where var\"#s13\"<:Continuous).\n",
      "└ @ MLJBase /home/andrew/.julia/packages/MLJBase/uKzAz/src/machines.jl:77\n",
      "┌ Warning: The scitype of `X`, in `machine(model, X, ...)` is incompatible with `model=\u001b[34mKNNClassifier @872\u001b[39m`:\n",
      "│ scitype(X) = Table{Union{AbstractArray{Continuous,1}, AbstractArray{Count,1}}}\n",
      "│ input_scitype(model) = Table{var\"#s44\"} where var\"#s44\"<:(AbstractArray{var\"#s13\",1} where var\"#s13\"<:Continuous).\n",
      "└ @ MLJBase /home/andrew/.julia/packages/MLJBase/uKzAz/src/machines.jl:77\n",
      "┌ Warning: The scitype of `X`, in `machine(model, X, ...)` is incompatible with `model=\u001b[34mKNNClassifier @872\u001b[39m`:\n",
      "│ scitype(X) = Table{Union{AbstractArray{Continuous,1}, AbstractArray{Count,1}}}\n",
      "│ input_scitype(model) = Table{var\"#s44\"} where var\"#s44\"<:(AbstractArray{var\"#s13\",1} where var\"#s13\"<:Continuous).\n",
      "└ @ MLJBase /home/andrew/.julia/packages/MLJBase/uKzAz/src/machines.jl:77\n",
      "┌ Warning: The scitype of `X`, in `machine(model, X, ...)` is incompatible with `model=\u001b[34mKNNClassifier @872\u001b[39m`:\n",
      "│ scitype(X) = Table{Union{AbstractArray{Continuous,1}, AbstractArray{Count,1}}}\n",
      "│ input_scitype(model) = Table{var\"#s44\"} where var\"#s44\"<:(AbstractArray{var\"#s13\",1} where var\"#s13\"<:Continuous).\n",
      "└ @ MLJBase /home/andrew/.julia/packages/MLJBase/uKzAz/src/machines.jl:77\n",
      "┌ Warning: The scitype of `X`, in `machine(model, X, ...)` is incompatible with `model=\u001b[34mKNNClassifier @872\u001b[39m`:\n",
      "│ scitype(X) = Table{Union{AbstractArray{Continuous,1}, AbstractArray{Count,1}}}\n",
      "│ input_scitype(model) = Table{var\"#s44\"} where var\"#s44\"<:(AbstractArray{var\"#s13\",1} where var\"#s13\"<:Continuous).\n",
      "└ @ MLJBase /home/andrew/.julia/packages/MLJBase/uKzAz/src/machines.jl:77\n",
      "┌ Warning: The scitype of `X`, in `machine(model, X, ...)` is incompatible with `model=\u001b[34mKNNClassifier @872\u001b[39m`:\n",
      "│ scitype(X) = Table{Union{AbstractArray{Continuous,1}, AbstractArray{Count,1}}}\n",
      "│ input_scitype(model) = Table{var\"#s44\"} where var\"#s44\"<:(AbstractArray{var\"#s13\",1} where var\"#s13\"<:Continuous).\n",
      "└ @ MLJBase /home/andrew/.julia/packages/MLJBase/uKzAz/src/machines.jl:77\n",
      "┌ Warning: The scitype of `X`, in `machine(model, X, ...)` is incompatible with `model=\u001b[34mKNNClassifier @872\u001b[39m`:\n",
      "│ scitype(X) = Table{Union{AbstractArray{Continuous,1}, AbstractArray{Count,1}}}\n",
      "│ input_scitype(model) = Table{var\"#s44\"} where var\"#s44\"<:(AbstractArray{var\"#s13\",1} where var\"#s13\"<:Continuous).\n",
      "└ @ MLJBase /home/andrew/.julia/packages/MLJBase/uKzAz/src/machines.jl:77\n",
      "┌ Warning: The scitype of `X`, in `machine(model, X, ...)` is incompatible with `model=\u001b[34mKNNClassifier @872\u001b[39m`:\n",
      "│ scitype(X) = Table{Union{AbstractArray{Continuous,1}, AbstractArray{Count,1}}}\n",
      "│ input_scitype(model) = Table{var\"#s44\"} where var\"#s44\"<:(AbstractArray{var\"#s13\",1} where var\"#s13\"<:Continuous).\n",
      "└ @ MLJBase /home/andrew/.julia/packages/MLJBase/uKzAz/src/machines.jl:77\n",
      "┌ Warning: The scitype of `X`, in `machine(model, X, ...)` is incompatible with `model=\u001b[34mKNNClassifier @872\u001b[39m`:\n",
      "│ scitype(X) = Table{Union{AbstractArray{Continuous,1}, AbstractArray{Count,1}}}\n",
      "│ input_scitype(model) = Table{var\"#s44\"} where var\"#s44\"<:(AbstractArray{var\"#s13\",1} where var\"#s13\"<:Continuous).\n",
      "└ @ MLJBase /home/andrew/.julia/packages/MLJBase/uKzAz/src/machines.jl:77\n",
      "┌ Warning: The scitype of `X`, in `machine(model, X, ...)` is incompatible with `model=\u001b[34mKNNClassifier @872\u001b[39m`:\n",
      "│ scitype(X) = Table{Union{AbstractArray{Continuous,1}, AbstractArray{Count,1}}}\n",
      "│ input_scitype(model) = Table{var\"#s44\"} where var\"#s44\"<:(AbstractArray{var\"#s13\",1} where var\"#s13\"<:Continuous).\n",
      "└ @ MLJBase /home/andrew/.julia/packages/MLJBase/uKzAz/src/machines.jl:77\n",
      "┌ Warning: The scitype of `X`, in `machine(model, X, ...)` is incompatible with `model=\u001b[34mKNNClassifier @872\u001b[39m`:\n",
      "│ scitype(X) = Table{Union{AbstractArray{Continuous,1}, AbstractArray{Count,1}}}\n",
      "│ input_scitype(model) = Table{var\"#s44\"} where var\"#s44\"<:(AbstractArray{var\"#s13\",1} where var\"#s13\"<:Continuous).\n",
      "└ @ MLJBase /home/andrew/.julia/packages/MLJBase/uKzAz/src/machines.jl:77\n",
      "┌ Warning: The scitype of `X`, in `machine(model, X, ...)` is incompatible with `model=\u001b[34mKNNClassifier @872\u001b[39m`:\n",
      "│ scitype(X) = Table{Union{AbstractArray{Continuous,1}, AbstractArray{Count,1}}}\n",
      "│ input_scitype(model) = Table{var\"#s44\"} where var\"#s44\"<:(AbstractArray{var\"#s13\",1} where var\"#s13\"<:Continuous).\n",
      "└ @ MLJBase /home/andrew/.julia/packages/MLJBase/uKzAz/src/machines.jl:77\n",
      "┌ Warning: The scitype of `X`, in `machine(model, X, ...)` is incompatible with `model=\u001b[34mKNNClassifier @872\u001b[39m`:\n",
      "│ scitype(X) = Table{Union{AbstractArray{Continuous,1}, AbstractArray{Count,1}}}\n",
      "│ input_scitype(model) = Table{var\"#s44\"} where var\"#s44\"<:(AbstractArray{var\"#s13\",1} where var\"#s13\"<:Continuous).\n",
      "└ @ MLJBase /home/andrew/.julia/packages/MLJBase/uKzAz/src/machines.jl:77\n"
     ]
    },
    {
     "name": "stdout",
     "output_type": "stream",
     "text": [
      "(d, train_metric, valid_metric) = (530, 0.9283018867924528, 0.831081081081081)\n",
      "(d, train_metric, valid_metric) = (535, 0.9327102803738317, 0.8243243243243243)\n",
      "(d, train_metric, valid_metric) = (540, 0.9296296296296296, 0.8243243243243243)\n",
      "(d, train_metric, valid_metric) = (545, 0.9302752293577982, 0.8243243243243243)\n",
      "(d, train_metric, valid_metric) = (550, 0.9309090909090909, 0.8243243243243243)\n",
      "(d, train_metric, valid_metric) = (555, 0.9315315315315316, 0.831081081081081)\n",
      "(d, train_metric, valid_metric) = (560, 0.9321428571428572, 0.831081081081081)\n",
      "(d, train_metric, valid_metric) = (565, 0.9327433628318584, 0.8445945945945946)\n",
      "(d, train_metric, valid_metric) = (570, 0.9315789473684211, 0.8445945945945946)\n",
      "(d, train_metric, valid_metric) = (575, 0.9356521739130435, 0.8445945945945946)\n",
      "(d, train_metric, valid_metric) = (580, 0.9362068965517242, 0.8445945945945946)\n",
      "(d, train_metric, valid_metric) = (585, 0.935042735042735, 0.8445945945945946)\n"
     ]
    },
    {
     "name": "stderr",
     "output_type": "stream",
     "text": [
      "┌ Warning: The scitype of `X`, in `machine(model, X, ...)` is incompatible with `model=\u001b[34mKNNClassifier @872\u001b[39m`:\n",
      "│ scitype(X) = Table{Union{AbstractArray{Continuous,1}, AbstractArray{Count,1}}}\n",
      "│ input_scitype(model) = Table{var\"#s44\"} where var\"#s44\"<:(AbstractArray{var\"#s13\",1} where var\"#s13\"<:Continuous).\n",
      "└ @ MLJBase /home/andrew/.julia/packages/MLJBase/uKzAz/src/machines.jl:77\n",
      "┌ Warning: The scitype of `X`, in `machine(model, X, ...)` is incompatible with `model=\u001b[34mKNNClassifier @872\u001b[39m`:\n",
      "│ scitype(X) = Table{Union{AbstractArray{Continuous,1}, AbstractArray{Count,1}}}\n",
      "│ input_scitype(model) = Table{var\"#s44\"} where var\"#s44\"<:(AbstractArray{var\"#s13\",1} where var\"#s13\"<:Continuous).\n",
      "└ @ MLJBase /home/andrew/.julia/packages/MLJBase/uKzAz/src/machines.jl:77\n",
      "┌ Warning: The scitype of `X`, in `machine(model, X, ...)` is incompatible with `model=\u001b[34mKNNClassifier @872\u001b[39m`:\n",
      "│ scitype(X) = Table{Union{AbstractArray{Continuous,1}, AbstractArray{Count,1}}}\n",
      "│ input_scitype(model) = Table{var\"#s44\"} where var\"#s44\"<:(AbstractArray{var\"#s13\",1} where var\"#s13\"<:Continuous).\n",
      "└ @ MLJBase /home/andrew/.julia/packages/MLJBase/uKzAz/src/machines.jl:77\n",
      "┌ Warning: The scitype of `X`, in `machine(model, X, ...)` is incompatible with `model=\u001b[34mKNNClassifier @872\u001b[39m`:\n",
      "│ scitype(X) = Table{Union{AbstractArray{Continuous,1}, AbstractArray{Count,1}}}\n",
      "│ input_scitype(model) = Table{var\"#s44\"} where var\"#s44\"<:(AbstractArray{var\"#s13\",1} where var\"#s13\"<:Continuous).\n",
      "└ @ MLJBase /home/andrew/.julia/packages/MLJBase/uKzAz/src/machines.jl:77\n",
      "┌ Warning: The scitype of `X`, in `machine(model, X, ...)` is incompatible with `model=\u001b[34mKNNClassifier @872\u001b[39m`:\n",
      "│ scitype(X) = Table{Union{AbstractArray{Continuous,1}, AbstractArray{Count,1}}}\n",
      "│ input_scitype(model) = Table{var\"#s44\"} where var\"#s44\"<:(AbstractArray{var\"#s13\",1} where var\"#s13\"<:Continuous).\n",
      "└ @ MLJBase /home/andrew/.julia/packages/MLJBase/uKzAz/src/machines.jl:77\n",
      "┌ Warning: The scitype of `X`, in `machine(model, X, ...)` is incompatible with `model=\u001b[34mKNNClassifier @872\u001b[39m`:\n",
      "│ scitype(X) = Table{Union{AbstractArray{Continuous,1}, AbstractArray{Count,1}}}\n",
      "│ input_scitype(model) = Table{var\"#s44\"} where var\"#s44\"<:(AbstractArray{var\"#s13\",1} where var\"#s13\"<:Continuous).\n",
      "└ @ MLJBase /home/andrew/.julia/packages/MLJBase/uKzAz/src/machines.jl:77\n",
      "┌ Warning: The scitype of `X`, in `machine(model, X, ...)` is incompatible with `model=\u001b[34mKNNClassifier @872\u001b[39m`:\n",
      "│ scitype(X) = Table{Union{AbstractArray{Continuous,1}, AbstractArray{Count,1}}}\n",
      "│ input_scitype(model) = Table{var\"#s44\"} where var\"#s44\"<:(AbstractArray{var\"#s13\",1} where var\"#s13\"<:Continuous).\n",
      "└ @ MLJBase /home/andrew/.julia/packages/MLJBase/uKzAz/src/machines.jl:77\n",
      "┌ Warning: The scitype of `X`, in `machine(model, X, ...)` is incompatible with `model=\u001b[34mKNNClassifier @872\u001b[39m`:\n",
      "│ scitype(X) = Table{Union{AbstractArray{Continuous,1}, AbstractArray{Count,1}}}\n",
      "│ input_scitype(model) = Table{var\"#s44\"} where var\"#s44\"<:(AbstractArray{var\"#s13\",1} where var\"#s13\"<:Continuous).\n",
      "└ @ MLJBase /home/andrew/.julia/packages/MLJBase/uKzAz/src/machines.jl:77\n",
      "┌ Warning: The scitype of `X`, in `machine(model, X, ...)` is incompatible with `model=\u001b[34mKNNClassifier @872\u001b[39m`:\n",
      "│ scitype(X) = Table{Union{AbstractArray{Continuous,1}, AbstractArray{Count,1}}}\n",
      "│ input_scitype(model) = Table{var\"#s44\"} where var\"#s44\"<:(AbstractArray{var\"#s13\",1} where var\"#s13\"<:Continuous).\n",
      "└ @ MLJBase /home/andrew/.julia/packages/MLJBase/uKzAz/src/machines.jl:77\n",
      "┌ Warning: The scitype of `X`, in `machine(model, X, ...)` is incompatible with `model=\u001b[34mKNNClassifier @872\u001b[39m`:\n",
      "│ scitype(X) = Table{Union{AbstractArray{Continuous,1}, AbstractArray{Count,1}}}\n",
      "│ input_scitype(model) = Table{var\"#s44\"} where var\"#s44\"<:(AbstractArray{var\"#s13\",1} where var\"#s13\"<:Continuous).\n",
      "└ @ MLJBase /home/andrew/.julia/packages/MLJBase/uKzAz/src/machines.jl:77\n",
      "┌ Warning: The scitype of `X`, in `machine(model, X, ...)` is incompatible with `model=\u001b[34mKNNClassifier @872\u001b[39m`:\n",
      "│ scitype(X) = Table{Union{AbstractArray{Continuous,1}, AbstractArray{Count,1}}}\n",
      "│ input_scitype(model) = Table{var\"#s44\"} where var\"#s44\"<:(AbstractArray{var\"#s13\",1} where var\"#s13\"<:Continuous).\n",
      "└ @ MLJBase /home/andrew/.julia/packages/MLJBase/uKzAz/src/machines.jl:77\n",
      "┌ Warning: The scitype of `X`, in `machine(model, X, ...)` is incompatible with `model=\u001b[34mKNNClassifier @872\u001b[39m`:\n",
      "│ scitype(X) = Table{Union{AbstractArray{Continuous,1}, AbstractArray{Count,1}}}\n",
      "│ input_scitype(model) = Table{var\"#s44\"} where var\"#s44\"<:(AbstractArray{var\"#s13\",1} where var\"#s13\"<:Continuous).\n",
      "└ @ MLJBase /home/andrew/.julia/packages/MLJBase/uKzAz/src/machines.jl:77\n"
     ]
    },
    {
     "name": "stdout",
     "output_type": "stream",
     "text": [
      "(d, train_metric, valid_metric) = (590, 0.9355932203389831, 0.8445945945945946)\n"
     ]
    },
    {
     "data": {
      "text/plain": [
       "(10:5:590, Any[0.9, 1.0, 0.95, 0.96, 0.9666666666666667, 0.9714285714285714, 0.925, 0.9333333333333333, 0.92, 0.8909090909090909  …  0.9302752293577982, 0.9309090909090909, 0.9315315315315316, 0.9321428571428572, 0.9327433628318584, 0.9315789473684211, 0.9356521739130435, 0.9362068965517242, 0.935042735042735, 0.9355932203389831], Any[0.7027027027027027, 0.75, 0.7905405405405406, 0.7635135135135135, 0.7702702702702703, 0.777027027027027, 0.7905405405405406, 0.7905405405405406, 0.7905405405405406, 0.7972972972972973  …  0.8243243243243243, 0.8243243243243243, 0.831081081081081, 0.831081081081081, 0.8445945945945946, 0.8445945945945946, 0.8445945945945946, 0.8445945945945946, 0.8445945945945946, 0.8445945945945946])"
      ]
     },
     "execution_count": 121,
     "metadata": {},
     "output_type": "execute_result"
    }
   ],
   "source": [
    "data_schedule, training_losses, valid_losses = learn_curve(best_Man.best_model, X_stand[train,:], y[train], acc)"
   ]
  },
  {
   "cell_type": "code",
   "execution_count": 122,
   "metadata": {},
   "outputs": [
    {
     "data": {
      "image/svg+xml": [
       "<?xml version=\"1.0\" encoding=\"utf-8\"?>\n",
       "<svg xmlns=\"http://www.w3.org/2000/svg\" xmlns:xlink=\"http://www.w3.org/1999/xlink\" width=\"600\" height=\"400\" viewBox=\"0 0 2400 1600\">\n",
       "<defs>\n",
       "  <clipPath id=\"clip190\">\n",
       "    <rect x=\"0\" y=\"0\" width=\"2400\" height=\"1600\"/>\n",
       "  </clipPath>\n",
       "</defs>\n",
       "<path clip-path=\"url(#clip190)\" d=\"\n",
       "M0 1600 L2400 1600 L2400 0 L0 0  Z\n",
       "  \" fill=\"#ffffff\" fill-rule=\"evenodd\" fill-opacity=\"1\"/>\n",
       "<defs>\n",
       "  <clipPath id=\"clip191\">\n",
       "    <rect x=\"480\" y=\"0\" width=\"1681\" height=\"1600\"/>\n",
       "  </clipPath>\n",
       "</defs>\n",
       "<path clip-path=\"url(#clip190)\" d=\"\n",
       "M211.024 1423.18 L2352.76 1423.18 L2352.76 47.2441 L211.024 47.2441  Z\n",
       "  \" fill=\"#ffffff\" fill-rule=\"evenodd\" fill-opacity=\"1\"/>\n",
       "<defs>\n",
       "  <clipPath id=\"clip192\">\n",
       "    <rect x=\"211\" y=\"47\" width=\"2143\" height=\"1377\"/>\n",
       "  </clipPath>\n",
       "</defs>\n",
       "<polyline clip-path=\"url(#clip192)\" style=\"stroke:#000000; stroke-width:2; stroke-opacity:0.1; fill:none\" points=\"\n",
       "  236.803,1423.18 236.803,47.2441 \n",
       "  \"/>\n",
       "<polyline clip-path=\"url(#clip192)\" style=\"stroke:#000000; stroke-width:2; stroke-opacity:0.1; fill:none\" points=\"\n",
       "  585.165,1423.18 585.165,47.2441 \n",
       "  \"/>\n",
       "<polyline clip-path=\"url(#clip192)\" style=\"stroke:#000000; stroke-width:2; stroke-opacity:0.1; fill:none\" points=\"\n",
       "  933.527,1423.18 933.527,47.2441 \n",
       "  \"/>\n",
       "<polyline clip-path=\"url(#clip192)\" style=\"stroke:#000000; stroke-width:2; stroke-opacity:0.1; fill:none\" points=\"\n",
       "  1281.89,1423.18 1281.89,47.2441 \n",
       "  \"/>\n",
       "<polyline clip-path=\"url(#clip192)\" style=\"stroke:#000000; stroke-width:2; stroke-opacity:0.1; fill:none\" points=\"\n",
       "  1630.25,1423.18 1630.25,47.2441 \n",
       "  \"/>\n",
       "<polyline clip-path=\"url(#clip192)\" style=\"stroke:#000000; stroke-width:2; stroke-opacity:0.1; fill:none\" points=\"\n",
       "  1978.61,1423.18 1978.61,47.2441 \n",
       "  \"/>\n",
       "<polyline clip-path=\"url(#clip192)\" style=\"stroke:#000000; stroke-width:2; stroke-opacity:0.1; fill:none\" points=\"\n",
       "  2326.98,1423.18 2326.98,47.2441 \n",
       "  \"/>\n",
       "<polyline clip-path=\"url(#clip192)\" style=\"stroke:#000000; stroke-width:2; stroke-opacity:0.1; fill:none\" points=\"\n",
       "  211.024,1396.04 2352.76,1396.04 \n",
       "  \"/>\n",
       "<polyline clip-path=\"url(#clip192)\" style=\"stroke:#000000; stroke-width:2; stroke-opacity:0.1; fill:none\" points=\"\n",
       "  211.024,959.421 2352.76,959.421 \n",
       "  \"/>\n",
       "<polyline clip-path=\"url(#clip192)\" style=\"stroke:#000000; stroke-width:2; stroke-opacity:0.1; fill:none\" points=\"\n",
       "  211.024,522.803 2352.76,522.803 \n",
       "  \"/>\n",
       "<polyline clip-path=\"url(#clip192)\" style=\"stroke:#000000; stroke-width:2; stroke-opacity:0.1; fill:none\" points=\"\n",
       "  211.024,86.1857 2352.76,86.1857 \n",
       "  \"/>\n",
       "<polyline clip-path=\"url(#clip190)\" style=\"stroke:#000000; stroke-width:4; stroke-opacity:1; fill:none\" points=\"\n",
       "  211.024,1423.18 2352.76,1423.18 \n",
       "  \"/>\n",
       "<polyline clip-path=\"url(#clip190)\" style=\"stroke:#000000; stroke-width:4; stroke-opacity:1; fill:none\" points=\"\n",
       "  211.024,1423.18 211.024,47.2441 \n",
       "  \"/>\n",
       "<polyline clip-path=\"url(#clip190)\" style=\"stroke:#000000; stroke-width:4; stroke-opacity:1; fill:none\" points=\"\n",
       "  236.803,1423.18 236.803,1406.67 \n",
       "  \"/>\n",
       "<polyline clip-path=\"url(#clip190)\" style=\"stroke:#000000; stroke-width:4; stroke-opacity:1; fill:none\" points=\"\n",
       "  585.165,1423.18 585.165,1406.67 \n",
       "  \"/>\n",
       "<polyline clip-path=\"url(#clip190)\" style=\"stroke:#000000; stroke-width:4; stroke-opacity:1; fill:none\" points=\"\n",
       "  933.527,1423.18 933.527,1406.67 \n",
       "  \"/>\n",
       "<polyline clip-path=\"url(#clip190)\" style=\"stroke:#000000; stroke-width:4; stroke-opacity:1; fill:none\" points=\"\n",
       "  1281.89,1423.18 1281.89,1406.67 \n",
       "  \"/>\n",
       "<polyline clip-path=\"url(#clip190)\" style=\"stroke:#000000; stroke-width:4; stroke-opacity:1; fill:none\" points=\"\n",
       "  1630.25,1423.18 1630.25,1406.67 \n",
       "  \"/>\n",
       "<polyline clip-path=\"url(#clip190)\" style=\"stroke:#000000; stroke-width:4; stroke-opacity:1; fill:none\" points=\"\n",
       "  1978.61,1423.18 1978.61,1406.67 \n",
       "  \"/>\n",
       "<polyline clip-path=\"url(#clip190)\" style=\"stroke:#000000; stroke-width:4; stroke-opacity:1; fill:none\" points=\"\n",
       "  2326.98,1423.18 2326.98,1406.67 \n",
       "  \"/>\n",
       "<polyline clip-path=\"url(#clip190)\" style=\"stroke:#000000; stroke-width:4; stroke-opacity:1; fill:none\" points=\"\n",
       "  211.024,1396.04 236.725,1396.04 \n",
       "  \"/>\n",
       "<polyline clip-path=\"url(#clip190)\" style=\"stroke:#000000; stroke-width:4; stroke-opacity:1; fill:none\" points=\"\n",
       "  211.024,959.421 236.725,959.421 \n",
       "  \"/>\n",
       "<polyline clip-path=\"url(#clip190)\" style=\"stroke:#000000; stroke-width:4; stroke-opacity:1; fill:none\" points=\"\n",
       "  211.024,522.803 236.725,522.803 \n",
       "  \"/>\n",
       "<polyline clip-path=\"url(#clip190)\" style=\"stroke:#000000; stroke-width:4; stroke-opacity:1; fill:none\" points=\"\n",
       "  211.024,86.1857 236.725,86.1857 \n",
       "  \"/>\n",
       "<path clip-path=\"url(#clip190)\" d=\"M 0 0 M236.803 1445.17 Q233.191 1445.17 231.363 1448.74 Q229.557 1452.28 229.557 1459.41 Q229.557 1466.51 231.363 1470.08 Q233.191 1473.62 236.803 1473.62 Q240.437 1473.62 242.242 1470.08 Q244.071 1466.51 244.071 1459.41 Q244.071 1452.28 242.242 1448.74 Q240.437 1445.17 236.803 1445.17 M236.803 1441.47 Q242.613 1441.47 245.668 1446.07 Q248.747 1450.66 248.747 1459.41 Q248.747 1468.13 245.668 1472.74 Q242.613 1477.32 236.803 1477.32 Q230.992 1477.32 227.914 1472.74 Q224.858 1468.13 224.858 1459.41 Q224.858 1450.66 227.914 1446.07 Q230.992 1441.47 236.803 1441.47 Z\" fill=\"#000000\" fill-rule=\"evenodd\" fill-opacity=\"1\" /><path clip-path=\"url(#clip190)\" d=\"M 0 0 M548.533 1472.72 L556.172 1472.72 L556.172 1446.35 L547.862 1448.02 L547.862 1443.76 L556.126 1442.09 L560.802 1442.09 L560.802 1472.72 L568.441 1472.72 L568.441 1476.65 L548.533 1476.65 L548.533 1472.72 Z\" fill=\"#000000\" fill-rule=\"evenodd\" fill-opacity=\"1\" /><path clip-path=\"url(#clip190)\" d=\"M 0 0 M583.51 1445.17 Q579.899 1445.17 578.07 1448.74 Q576.265 1452.28 576.265 1459.41 Q576.265 1466.51 578.07 1470.08 Q579.899 1473.62 583.51 1473.62 Q587.144 1473.62 588.95 1470.08 Q590.778 1466.51 590.778 1459.41 Q590.778 1452.28 588.95 1448.74 Q587.144 1445.17 583.51 1445.17 M583.51 1441.47 Q589.32 1441.47 592.376 1446.07 Q595.454 1450.66 595.454 1459.41 Q595.454 1468.13 592.376 1472.74 Q589.32 1477.32 583.51 1477.32 Q577.7 1477.32 574.621 1472.74 Q571.566 1468.13 571.566 1459.41 Q571.566 1450.66 574.621 1446.07 Q577.7 1441.47 583.51 1441.47 Z\" fill=\"#000000\" fill-rule=\"evenodd\" fill-opacity=\"1\" /><path clip-path=\"url(#clip190)\" d=\"M 0 0 M610.524 1445.17 Q606.913 1445.17 605.084 1448.74 Q603.278 1452.28 603.278 1459.41 Q603.278 1466.51 605.084 1470.08 Q606.913 1473.62 610.524 1473.62 Q614.158 1473.62 615.963 1470.08 Q617.792 1466.51 617.792 1459.41 Q617.792 1452.28 615.963 1448.74 Q614.158 1445.17 610.524 1445.17 M610.524 1441.47 Q616.334 1441.47 619.389 1446.07 Q622.468 1450.66 622.468 1459.41 Q622.468 1468.13 619.389 1472.74 Q616.334 1477.32 610.524 1477.32 Q604.713 1477.32 601.635 1472.74 Q598.579 1468.13 598.579 1459.41 Q598.579 1450.66 601.635 1446.07 Q604.713 1441.47 610.524 1441.47 Z\" fill=\"#000000\" fill-rule=\"evenodd\" fill-opacity=\"1\" /><path clip-path=\"url(#clip190)\" d=\"M 0 0 M901.166 1472.72 L917.486 1472.72 L917.486 1476.65 L895.541 1476.65 L895.541 1472.72 Q898.204 1469.96 902.787 1465.33 Q907.393 1460.68 908.574 1459.34 Q910.819 1456.81 911.699 1455.08 Q912.602 1453.32 912.602 1451.63 Q912.602 1448.87 910.657 1447.14 Q908.736 1445.4 905.634 1445.4 Q903.435 1445.4 900.981 1446.17 Q898.551 1446.93 895.773 1448.48 L895.773 1443.76 Q898.597 1442.62 901.051 1442.05 Q903.504 1441.47 905.541 1441.47 Q910.912 1441.47 914.106 1444.15 Q917.301 1446.84 917.301 1451.33 Q917.301 1453.46 916.49 1455.38 Q915.703 1457.28 913.597 1459.87 Q913.018 1460.54 909.916 1463.76 Q906.815 1466.95 901.166 1472.72 Z\" fill=\"#000000\" fill-rule=\"evenodd\" fill-opacity=\"1\" /><path clip-path=\"url(#clip190)\" d=\"M 0 0 M932.555 1445.17 Q928.944 1445.17 927.115 1448.74 Q925.31 1452.28 925.31 1459.41 Q925.31 1466.51 927.115 1470.08 Q928.944 1473.62 932.555 1473.62 Q936.189 1473.62 937.995 1470.08 Q939.824 1466.51 939.824 1459.41 Q939.824 1452.28 937.995 1448.74 Q936.189 1445.17 932.555 1445.17 M932.555 1441.47 Q938.365 1441.47 941.421 1446.07 Q944.5 1450.66 944.5 1459.41 Q944.5 1468.13 941.421 1472.74 Q938.365 1477.32 932.555 1477.32 Q926.745 1477.32 923.666 1472.74 Q920.611 1468.13 920.611 1459.41 Q920.611 1450.66 923.666 1446.07 Q926.745 1441.47 932.555 1441.47 Z\" fill=\"#000000\" fill-rule=\"evenodd\" fill-opacity=\"1\" /><path clip-path=\"url(#clip190)\" d=\"M 0 0 M959.569 1445.17 Q955.958 1445.17 954.129 1448.74 Q952.324 1452.28 952.324 1459.41 Q952.324 1466.51 954.129 1470.08 Q955.958 1473.62 959.569 1473.62 Q963.203 1473.62 965.009 1470.08 Q966.837 1466.51 966.837 1459.41 Q966.837 1452.28 965.009 1448.74 Q963.203 1445.17 959.569 1445.17 M959.569 1441.47 Q965.379 1441.47 968.435 1446.07 Q971.513 1450.66 971.513 1459.41 Q971.513 1468.13 968.435 1472.74 Q965.379 1477.32 959.569 1477.32 Q953.759 1477.32 950.68 1472.74 Q947.625 1468.13 947.625 1459.41 Q947.625 1450.66 950.68 1446.07 Q953.759 1441.47 959.569 1441.47 Z\" fill=\"#000000\" fill-rule=\"evenodd\" fill-opacity=\"1\" /><path clip-path=\"url(#clip190)\" d=\"M 0 0 M1259.12 1458.02 Q1262.48 1458.74 1264.36 1461 Q1266.25 1463.27 1266.25 1466.61 Q1266.25 1471.72 1262.73 1474.52 Q1259.22 1477.32 1252.73 1477.32 Q1250.56 1477.32 1248.24 1476.88 Q1245.95 1476.47 1243.5 1475.61 L1243.5 1471.1 Q1245.44 1472.23 1247.76 1472.81 Q1250.07 1473.39 1252.6 1473.39 Q1256.99 1473.39 1259.29 1471.65 Q1261.6 1469.92 1261.6 1466.61 Q1261.6 1463.55 1259.45 1461.84 Q1257.32 1460.1 1253.5 1460.1 L1249.47 1460.1 L1249.47 1456.26 L1253.68 1456.26 Q1257.13 1456.26 1258.96 1454.89 Q1260.79 1453.5 1260.79 1450.91 Q1260.79 1448.25 1258.89 1446.84 Q1257.02 1445.4 1253.5 1445.4 Q1251.58 1445.4 1249.38 1445.82 Q1247.18 1446.24 1244.54 1447.11 L1244.54 1442.95 Q1247.2 1442.21 1249.52 1441.84 Q1251.86 1441.47 1253.92 1441.47 Q1259.24 1441.47 1262.34 1443.9 Q1265.44 1446.3 1265.44 1450.43 Q1265.44 1453.3 1263.8 1455.29 Q1262.16 1457.25 1259.12 1458.02 Z\" fill=\"#000000\" fill-rule=\"evenodd\" fill-opacity=\"1\" /><path clip-path=\"url(#clip190)\" d=\"M 0 0 M1281.32 1445.17 Q1277.71 1445.17 1275.88 1448.74 Q1274.08 1452.28 1274.08 1459.41 Q1274.08 1466.51 1275.88 1470.08 Q1277.71 1473.62 1281.32 1473.62 Q1284.96 1473.62 1286.76 1470.08 Q1288.59 1466.51 1288.59 1459.41 Q1288.59 1452.28 1286.76 1448.74 Q1284.96 1445.17 1281.32 1445.17 M1281.32 1441.47 Q1287.13 1441.47 1290.19 1446.07 Q1293.27 1450.66 1293.27 1459.41 Q1293.27 1468.13 1290.19 1472.74 Q1287.13 1477.32 1281.32 1477.32 Q1275.51 1477.32 1272.43 1472.74 Q1269.38 1468.13 1269.38 1459.41 Q1269.38 1450.66 1272.43 1446.07 Q1275.51 1441.47 1281.32 1441.47 Z\" fill=\"#000000\" fill-rule=\"evenodd\" fill-opacity=\"1\" /><path clip-path=\"url(#clip190)\" d=\"M 0 0 M1308.34 1445.17 Q1304.73 1445.17 1302.9 1448.74 Q1301.09 1452.28 1301.09 1459.41 Q1301.09 1466.51 1302.9 1470.08 Q1304.73 1473.62 1308.34 1473.62 Q1311.97 1473.62 1313.78 1470.08 Q1315.6 1466.51 1315.6 1459.41 Q1315.6 1452.28 1313.78 1448.74 Q1311.97 1445.17 1308.34 1445.17 M1308.34 1441.47 Q1314.15 1441.47 1317.2 1446.07 Q1320.28 1450.66 1320.28 1459.41 Q1320.28 1468.13 1317.2 1472.74 Q1314.15 1477.32 1308.34 1477.32 Q1302.53 1477.32 1299.45 1472.74 Q1296.39 1468.13 1296.39 1459.41 Q1296.39 1450.66 1299.45 1446.07 Q1302.53 1441.47 1308.34 1441.47 Z\" fill=\"#000000\" fill-rule=\"evenodd\" fill-opacity=\"1\" /><path clip-path=\"url(#clip190)\" d=\"M 0 0 M1606.25 1446.17 L1594.44 1464.61 L1606.25 1464.61 L1606.25 1446.17 M1605.02 1442.09 L1610.9 1442.09 L1610.9 1464.61 L1615.83 1464.61 L1615.83 1468.5 L1610.9 1468.5 L1610.9 1476.65 L1606.25 1476.65 L1606.25 1468.5 L1590.65 1468.5 L1590.65 1463.99 L1605.02 1442.09 Z\" fill=\"#000000\" fill-rule=\"evenodd\" fill-opacity=\"1\" /><path clip-path=\"url(#clip190)\" d=\"M 0 0 M1630.9 1445.17 Q1627.29 1445.17 1625.46 1448.74 Q1623.66 1452.28 1623.66 1459.41 Q1623.66 1466.51 1625.46 1470.08 Q1627.29 1473.62 1630.9 1473.62 Q1634.53 1473.62 1636.34 1470.08 Q1638.17 1466.51 1638.17 1459.41 Q1638.17 1452.28 1636.34 1448.74 Q1634.53 1445.17 1630.9 1445.17 M1630.9 1441.47 Q1636.71 1441.47 1639.77 1446.07 Q1642.84 1450.66 1642.84 1459.41 Q1642.84 1468.13 1639.77 1472.74 Q1636.71 1477.32 1630.9 1477.32 Q1625.09 1477.32 1622.01 1472.74 Q1618.96 1468.13 1618.96 1459.41 Q1618.96 1450.66 1622.01 1446.07 Q1625.09 1441.47 1630.9 1441.47 Z\" fill=\"#000000\" fill-rule=\"evenodd\" fill-opacity=\"1\" /><path clip-path=\"url(#clip190)\" d=\"M 0 0 M1657.91 1445.17 Q1654.3 1445.17 1652.47 1448.74 Q1650.67 1452.28 1650.67 1459.41 Q1650.67 1466.51 1652.47 1470.08 Q1654.3 1473.62 1657.91 1473.62 Q1661.55 1473.62 1663.35 1470.08 Q1665.18 1466.51 1665.18 1459.41 Q1665.18 1452.28 1663.35 1448.74 Q1661.55 1445.17 1657.91 1445.17 M1657.91 1441.47 Q1663.72 1441.47 1666.78 1446.07 Q1669.86 1450.66 1669.86 1459.41 Q1669.86 1468.13 1666.78 1472.74 Q1663.72 1477.32 1657.91 1477.32 Q1652.1 1477.32 1649.03 1472.74 Q1645.97 1468.13 1645.97 1459.41 Q1645.97 1450.66 1649.03 1446.07 Q1652.1 1441.47 1657.91 1441.47 Z\" fill=\"#000000\" fill-rule=\"evenodd\" fill-opacity=\"1\" /><path clip-path=\"url(#clip190)\" d=\"M 0 0 M1941.88 1442.09 L1960.24 1442.09 L1960.24 1446.03 L1946.16 1446.03 L1946.16 1454.5 Q1947.18 1454.15 1948.2 1453.99 Q1949.22 1453.8 1950.24 1453.8 Q1956.02 1453.8 1959.4 1456.98 Q1962.78 1460.15 1962.78 1465.56 Q1962.78 1471.14 1959.31 1474.24 Q1955.84 1477.32 1949.52 1477.32 Q1947.34 1477.32 1945.07 1476.95 Q1942.83 1476.58 1940.42 1475.84 L1940.42 1471.14 Q1942.5 1472.28 1944.73 1472.83 Q1946.95 1473.39 1949.43 1473.39 Q1953.43 1473.39 1955.77 1471.28 Q1958.11 1469.18 1958.11 1465.56 Q1958.11 1461.95 1955.77 1459.85 Q1953.43 1457.74 1949.43 1457.74 Q1947.55 1457.74 1945.68 1458.16 Q1943.82 1458.57 1941.88 1459.45 L1941.88 1442.09 Z\" fill=\"#000000\" fill-rule=\"evenodd\" fill-opacity=\"1\" /><path clip-path=\"url(#clip190)\" d=\"M 0 0 M1977.85 1445.17 Q1974.24 1445.17 1972.41 1448.74 Q1970.61 1452.28 1970.61 1459.41 Q1970.61 1466.51 1972.41 1470.08 Q1974.24 1473.62 1977.85 1473.62 Q1981.49 1473.62 1983.29 1470.08 Q1985.12 1466.51 1985.12 1459.41 Q1985.12 1452.28 1983.29 1448.74 Q1981.49 1445.17 1977.85 1445.17 M1977.85 1441.47 Q1983.66 1441.47 1986.72 1446.07 Q1989.8 1450.66 1989.8 1459.41 Q1989.8 1468.13 1986.72 1472.74 Q1983.66 1477.32 1977.85 1477.32 Q1972.04 1477.32 1968.96 1472.74 Q1965.91 1468.13 1965.91 1459.41 Q1965.91 1450.66 1968.96 1446.07 Q1972.04 1441.47 1977.85 1441.47 Z\" fill=\"#000000\" fill-rule=\"evenodd\" fill-opacity=\"1\" /><path clip-path=\"url(#clip190)\" d=\"M 0 0 M2004.86 1445.17 Q2001.25 1445.17 1999.42 1448.74 Q1997.62 1452.28 1997.62 1459.41 Q1997.62 1466.51 1999.42 1470.08 Q2001.25 1473.62 2004.86 1473.62 Q2008.5 1473.62 2010.3 1470.08 Q2012.13 1466.51 2012.13 1459.41 Q2012.13 1452.28 2010.3 1448.74 Q2008.5 1445.17 2004.86 1445.17 M2004.86 1441.47 Q2010.67 1441.47 2013.73 1446.07 Q2016.81 1450.66 2016.81 1459.41 Q2016.81 1468.13 2013.73 1472.74 Q2010.67 1477.32 2004.86 1477.32 Q1999.05 1477.32 1995.98 1472.74 Q1992.92 1468.13 1992.92 1459.41 Q1992.92 1450.66 1995.98 1446.07 Q1999.05 1441.47 2004.86 1441.47 Z\" fill=\"#000000\" fill-rule=\"evenodd\" fill-opacity=\"1\" /><path clip-path=\"url(#clip190)\" d=\"M 0 0 M2300.37 1457.51 Q2297.22 1457.51 2295.37 1459.66 Q2293.54 1461.81 2293.54 1465.56 Q2293.54 1469.29 2295.37 1471.47 Q2297.22 1473.62 2300.37 1473.62 Q2303.52 1473.62 2305.35 1471.47 Q2307.2 1469.29 2307.2 1465.56 Q2307.2 1461.81 2305.35 1459.66 Q2303.52 1457.51 2300.37 1457.51 M2309.65 1442.86 L2309.65 1447.11 Q2307.89 1446.28 2306.09 1445.84 Q2304.3 1445.4 2302.54 1445.4 Q2297.91 1445.4 2295.46 1448.53 Q2293.03 1451.65 2292.68 1457.97 Q2294.05 1455.96 2296.11 1454.89 Q2298.17 1453.8 2300.65 1453.8 Q2305.85 1453.8 2308.86 1456.98 Q2311.9 1460.12 2311.9 1465.56 Q2311.9 1470.89 2308.75 1474.11 Q2305.6 1477.32 2300.37 1477.32 Q2294.37 1477.32 2291.2 1472.74 Q2288.03 1468.13 2288.03 1459.41 Q2288.03 1451.21 2291.92 1446.35 Q2295.81 1441.47 2302.36 1441.47 Q2304.12 1441.47 2305.9 1441.81 Q2307.71 1442.16 2309.65 1442.86 Z\" fill=\"#000000\" fill-rule=\"evenodd\" fill-opacity=\"1\" /><path clip-path=\"url(#clip190)\" d=\"M 0 0 M2326.97 1445.17 Q2323.35 1445.17 2321.53 1448.74 Q2319.72 1452.28 2319.72 1459.41 Q2319.72 1466.51 2321.53 1470.08 Q2323.35 1473.62 2326.97 1473.62 Q2330.6 1473.62 2332.41 1470.08 Q2334.23 1466.51 2334.23 1459.41 Q2334.23 1452.28 2332.41 1448.74 Q2330.6 1445.17 2326.97 1445.17 M2326.97 1441.47 Q2332.78 1441.47 2335.83 1446.07 Q2338.91 1450.66 2338.91 1459.41 Q2338.91 1468.13 2335.83 1472.74 Q2332.78 1477.32 2326.97 1477.32 Q2321.16 1477.32 2318.08 1472.74 Q2315.02 1468.13 2315.02 1459.41 Q2315.02 1450.66 2318.08 1446.07 Q2321.16 1441.47 2326.97 1441.47 Z\" fill=\"#000000\" fill-rule=\"evenodd\" fill-opacity=\"1\" /><path clip-path=\"url(#clip190)\" d=\"M 0 0 M2353.98 1445.17 Q2350.37 1445.17 2348.54 1448.74 Q2346.73 1452.28 2346.73 1459.41 Q2346.73 1466.51 2348.54 1470.08 Q2350.37 1473.62 2353.98 1473.62 Q2357.61 1473.62 2359.42 1470.08 Q2361.25 1466.51 2361.25 1459.41 Q2361.25 1452.28 2359.42 1448.74 Q2357.61 1445.17 2353.98 1445.17 M2353.98 1441.47 Q2359.79 1441.47 2362.84 1446.07 Q2365.92 1450.66 2365.92 1459.41 Q2365.92 1468.13 2362.84 1472.74 Q2359.79 1477.32 2353.98 1477.32 Q2348.17 1477.32 2345.09 1472.74 Q2342.03 1468.13 2342.03 1459.41 Q2342.03 1450.66 2345.09 1446.07 Q2348.17 1441.47 2353.98 1441.47 Z\" fill=\"#000000\" fill-rule=\"evenodd\" fill-opacity=\"1\" /><path clip-path=\"url(#clip190)\" d=\"M 0 0 M139.015 1381.84 Q135.404 1381.84 133.575 1385.4 Q131.769 1388.94 131.769 1396.07 Q131.769 1403.18 133.575 1406.74 Q135.404 1410.29 139.015 1410.29 Q142.649 1410.29 144.455 1406.74 Q146.283 1403.18 146.283 1396.07 Q146.283 1388.94 144.455 1385.4 Q142.649 1381.84 139.015 1381.84 M139.015 1378.13 Q144.825 1378.13 147.88 1382.74 Q150.959 1387.32 150.959 1396.07 Q150.959 1404.8 147.88 1409.41 Q144.825 1413.99 139.015 1413.99 Q133.205 1413.99 130.126 1409.41 Q127.07 1404.8 127.07 1396.07 Q127.07 1387.32 130.126 1382.74 Q133.205 1378.13 139.015 1378.13 Z\" fill=\"#000000\" fill-rule=\"evenodd\" fill-opacity=\"1\" /><path clip-path=\"url(#clip190)\" d=\"M 0 0 M156.029 1407.44 L160.913 1407.44 L160.913 1413.32 L156.029 1413.32 L156.029 1407.44 Z\" fill=\"#000000\" fill-rule=\"evenodd\" fill-opacity=\"1\" /><path clip-path=\"url(#clip190)\" d=\"M 0 0 M164.802 1378.76 L187.024 1378.76 L187.024 1380.75 L174.477 1413.32 L169.593 1413.32 L181.399 1382.69 L164.802 1382.69 L164.802 1378.76 Z\" fill=\"#000000\" fill-rule=\"evenodd\" fill-opacity=\"1\" /><path clip-path=\"url(#clip190)\" d=\"M 0 0 M138.205 945.22 Q134.593 945.22 132.765 948.785 Q130.959 952.326 130.959 959.456 Q130.959 966.562 132.765 970.127 Q134.593 973.669 138.205 973.669 Q141.839 973.669 143.644 970.127 Q145.473 966.562 145.473 959.456 Q145.473 952.326 143.644 948.785 Q141.839 945.22 138.205 945.22 M138.205 941.516 Q144.015 941.516 147.07 946.123 Q150.149 950.706 150.149 959.456 Q150.149 968.183 147.07 972.789 Q144.015 977.372 138.205 977.372 Q132.394 977.372 129.316 972.789 Q126.26 968.183 126.26 959.456 Q126.26 950.706 129.316 946.123 Q132.394 941.516 138.205 941.516 Z\" fill=\"#000000\" fill-rule=\"evenodd\" fill-opacity=\"1\" /><path clip-path=\"url(#clip190)\" d=\"M 0 0 M155.218 970.821 L160.103 970.821 L160.103 976.701 L155.218 976.701 L155.218 970.821 Z\" fill=\"#000000\" fill-rule=\"evenodd\" fill-opacity=\"1\" /><path clip-path=\"url(#clip190)\" d=\"M 0 0 M175.172 960.289 Q171.839 960.289 169.917 962.072 Q168.019 963.854 168.019 966.979 Q168.019 970.104 169.917 971.886 Q171.839 973.669 175.172 973.669 Q178.505 973.669 180.427 971.886 Q182.348 970.081 182.348 966.979 Q182.348 963.854 180.427 962.072 Q178.528 960.289 175.172 960.289 M170.496 958.298 Q167.487 957.558 165.797 955.497 Q164.13 953.437 164.13 950.474 Q164.13 946.331 167.07 943.923 Q170.033 941.516 175.172 941.516 Q180.334 941.516 183.274 943.923 Q186.214 946.331 186.214 950.474 Q186.214 953.437 184.524 955.497 Q182.857 957.558 179.871 958.298 Q183.251 959.085 185.126 961.377 Q187.024 963.669 187.024 966.979 Q187.024 972.002 183.945 974.687 Q180.889 977.372 175.172 977.372 Q169.454 977.372 166.376 974.687 Q163.32 972.002 163.32 966.979 Q163.32 963.669 165.218 961.377 Q167.116 959.085 170.496 958.298 M168.783 950.914 Q168.783 953.599 170.45 955.104 Q172.14 956.609 175.172 956.609 Q178.181 956.609 179.871 955.104 Q181.584 953.599 181.584 950.914 Q181.584 948.229 179.871 946.724 Q178.181 945.22 175.172 945.22 Q172.14 945.22 170.45 946.724 Q168.783 948.229 168.783 950.914 Z\" fill=\"#000000\" fill-rule=\"evenodd\" fill-opacity=\"1\" /><path clip-path=\"url(#clip190)\" d=\"M 0 0 M138.297 508.602 Q134.686 508.602 132.857 512.167 Q131.052 515.708 131.052 522.838 Q131.052 529.945 132.857 533.509 Q134.686 537.051 138.297 537.051 Q141.931 537.051 143.737 533.509 Q145.566 529.945 145.566 522.838 Q145.566 515.708 143.737 512.167 Q141.931 508.602 138.297 508.602 M138.297 504.898 Q144.107 504.898 147.163 509.505 Q150.242 514.088 150.242 522.838 Q150.242 531.565 147.163 536.171 Q144.107 540.755 138.297 540.755 Q132.487 540.755 129.408 536.171 Q126.353 531.565 126.353 522.838 Q126.353 514.088 129.408 509.505 Q132.487 504.898 138.297 504.898 Z\" fill=\"#000000\" fill-rule=\"evenodd\" fill-opacity=\"1\" /><path clip-path=\"url(#clip190)\" d=\"M 0 0 M155.311 534.204 L160.195 534.204 L160.195 540.083 L155.311 540.083 L155.311 534.204 Z\" fill=\"#000000\" fill-rule=\"evenodd\" fill-opacity=\"1\" /><path clip-path=\"url(#clip190)\" d=\"M 0 0 M165.403 539.366 L165.403 535.107 Q167.163 535.94 168.968 536.38 Q170.774 536.819 172.51 536.819 Q177.14 536.819 179.57 533.718 Q182.024 530.593 182.371 524.25 Q181.028 526.241 178.968 527.306 Q176.908 528.37 174.408 528.37 Q169.223 528.37 166.19 525.245 Q163.181 522.097 163.181 516.658 Q163.181 511.334 166.329 508.116 Q169.478 504.898 174.709 504.898 Q180.704 504.898 183.852 509.505 Q187.024 514.088 187.024 522.838 Q187.024 531.009 183.135 535.894 Q179.269 540.755 172.718 540.755 Q170.959 540.755 169.153 540.407 Q167.348 540.06 165.403 539.366 M174.709 524.713 Q177.857 524.713 179.686 522.56 Q181.538 520.408 181.538 516.658 Q181.538 512.931 179.686 510.778 Q177.857 508.602 174.709 508.602 Q171.561 508.602 169.709 510.778 Q167.88 512.931 167.88 516.658 Q167.88 520.408 169.709 522.56 Q171.561 524.713 174.709 524.713 Z\" fill=\"#000000\" fill-rule=\"evenodd\" fill-opacity=\"1\" /><path clip-path=\"url(#clip190)\" d=\"M 0 0 M130.149 99.5305 L137.788 99.5305 L137.788 73.1649 L129.478 74.8316 L129.478 70.5723 L137.742 68.9057 L142.417 68.9057 L142.417 99.5305 L150.056 99.5305 L150.056 103.466 L130.149 103.466 L130.149 99.5305 Z\" fill=\"#000000\" fill-rule=\"evenodd\" fill-opacity=\"1\" /><path clip-path=\"url(#clip190)\" d=\"M 0 0 M155.126 97.5861 L160.01 97.5861 L160.01 103.466 L155.126 103.466 L155.126 97.5861 Z\" fill=\"#000000\" fill-rule=\"evenodd\" fill-opacity=\"1\" /><path clip-path=\"url(#clip190)\" d=\"M 0 0 M175.079 71.9844 Q171.468 71.9844 169.64 75.5492 Q167.834 79.0908 167.834 86.2204 Q167.834 93.3268 169.64 96.8916 Q171.468 100.433 175.079 100.433 Q178.714 100.433 180.519 96.8916 Q182.348 93.3268 182.348 86.2204 Q182.348 79.0908 180.519 75.5492 Q178.714 71.9844 175.079 71.9844 M175.079 68.2807 Q180.889 68.2807 183.945 72.8871 Q187.024 77.4704 187.024 86.2204 Q187.024 94.9472 183.945 99.5537 Q180.889 104.137 175.079 104.137 Q169.269 104.137 166.19 99.5537 Q163.135 94.9472 163.135 86.2204 Q163.135 77.4704 166.19 72.8871 Q169.269 68.2807 175.079 68.2807 Z\" fill=\"#000000\" fill-rule=\"evenodd\" fill-opacity=\"1\" /><path clip-path=\"url(#clip190)\" d=\"M 0 0 M870.665 1508.52 L879.323 1508.52 L900.393 1548.28 L900.393 1508.52 L906.631 1508.52 L906.631 1556.04 L897.974 1556.04 L876.904 1516.29 L876.904 1556.04 L870.665 1556.04 L870.665 1508.52 Z\" fill=\"#000000\" fill-rule=\"evenodd\" fill-opacity=\"1\" /><path clip-path=\"url(#clip190)\" d=\"M 0 0 M912.17 1541.98 L912.17 1520.4 L918.026 1520.4 L918.026 1541.75 Q918.026 1546.81 919.999 1549.36 Q921.973 1551.87 925.919 1551.87 Q930.662 1551.87 933.399 1548.85 Q936.168 1545.83 936.168 1540.61 L936.168 1520.4 L942.025 1520.4 L942.025 1556.04 L936.168 1556.04 L936.168 1550.57 Q934.036 1553.82 931.203 1555.41 Q928.402 1556.97 924.678 1556.97 Q918.535 1556.97 915.352 1553.15 Q912.17 1549.33 912.17 1541.98 M926.906 1519.54 L926.906 1519.54 Z\" fill=\"#000000\" fill-rule=\"evenodd\" fill-opacity=\"1\" /><path clip-path=\"url(#clip190)\" d=\"M 0 0 M975.922 1527.24 Q978.118 1523.29 981.174 1521.41 Q984.229 1519.54 988.367 1519.54 Q993.937 1519.54 996.961 1523.45 Q999.984 1527.33 999.984 1534.53 L999.984 1556.04 L994.096 1556.04 L994.096 1534.72 Q994.096 1529.59 992.282 1527.11 Q990.468 1524.63 986.744 1524.63 Q982.192 1524.63 979.551 1527.65 Q976.909 1530.68 976.909 1535.9 L976.909 1556.04 L971.021 1556.04 L971.021 1534.72 Q971.021 1529.56 969.206 1527.11 Q967.392 1524.63 963.604 1524.63 Q959.117 1524.63 956.475 1527.68 Q953.833 1530.71 953.833 1535.9 L953.833 1556.04 L947.945 1556.04 L947.945 1520.4 L953.833 1520.4 L953.833 1525.93 Q955.838 1522.66 958.639 1521.1 Q961.44 1519.54 965.291 1519.54 Q969.174 1519.54 971.88 1521.51 Q974.617 1523.48 975.922 1527.24 Z\" fill=\"#000000\" fill-rule=\"evenodd\" fill-opacity=\"1\" /><path clip-path=\"url(#clip190)\" d=\"M 0 0 M1031.72 1538.25 Q1031.72 1531.79 1029.04 1528.13 Q1026.4 1524.44 1021.76 1524.44 Q1017.11 1524.44 1014.43 1528.13 Q1011.79 1531.79 1011.79 1538.25 Q1011.79 1544.71 1014.43 1548.4 Q1017.11 1552.07 1021.76 1552.07 Q1026.4 1552.07 1029.04 1548.4 Q1031.72 1544.71 1031.72 1538.25 M1011.79 1525.81 Q1013.64 1522.62 1016.44 1521.1 Q1019.27 1519.54 1023.19 1519.54 Q1029.68 1519.54 1033.72 1524.69 Q1037.8 1529.85 1037.8 1538.25 Q1037.8 1546.65 1033.72 1551.81 Q1029.68 1556.97 1023.19 1556.97 Q1019.27 1556.97 1016.44 1555.44 Q1013.64 1553.88 1011.79 1550.7 L1011.79 1556.04 L1005.9 1556.04 L1005.9 1506.52 L1011.79 1506.52 L1011.79 1525.81 Z\" fill=\"#000000\" fill-rule=\"evenodd\" fill-opacity=\"1\" /><path clip-path=\"url(#clip190)\" d=\"M 0 0 M1074.43 1536.76 L1074.43 1539.62 L1047.5 1539.62 Q1047.89 1545.67 1051.13 1548.85 Q1054.41 1552 1060.24 1552 Q1063.61 1552 1066.76 1551.17 Q1069.94 1550.35 1073.06 1548.69 L1073.06 1554.23 Q1069.91 1555.57 1066.6 1556.27 Q1063.29 1556.97 1059.89 1556.97 Q1051.36 1556.97 1046.36 1552 Q1041.39 1547.04 1041.39 1538.57 Q1041.39 1529.82 1046.1 1524.69 Q1050.85 1519.54 1058.87 1519.54 Q1066.06 1519.54 1070.23 1524.18 Q1074.43 1528.8 1074.43 1536.76 M1068.57 1535.04 Q1068.51 1530.23 1065.87 1527.37 Q1063.26 1524.5 1058.93 1524.5 Q1054.03 1524.5 1051.07 1527.27 Q1048.14 1530.04 1047.7 1535.07 L1068.57 1535.04 Z\" fill=\"#000000\" fill-rule=\"evenodd\" fill-opacity=\"1\" /><path clip-path=\"url(#clip190)\" d=\"M 0 0 M1101.23 1525.87 Q1100.24 1525.3 1099.07 1525.04 Q1097.92 1524.76 1096.52 1524.76 Q1091.56 1524.76 1088.88 1528 Q1086.24 1531.22 1086.24 1537.27 L1086.24 1556.04 L1080.35 1556.04 L1080.35 1520.4 L1086.24 1520.4 L1086.24 1525.93 Q1088.09 1522.69 1091.05 1521.13 Q1094.01 1519.54 1098.24 1519.54 Q1098.84 1519.54 1099.58 1519.63 Q1100.31 1519.7 1101.2 1519.85 L1101.23 1525.87 Z\" fill=\"#000000\" fill-rule=\"evenodd\" fill-opacity=\"1\" /><path clip-path=\"url(#clip190)\" d=\"M 0 0 M1141.91 1524.5 Q1137.2 1524.5 1134.46 1528.19 Q1131.72 1531.85 1131.72 1538.25 Q1131.72 1544.65 1134.43 1548.34 Q1137.17 1552 1141.91 1552 Q1146.59 1552 1149.32 1548.31 Q1152.06 1544.62 1152.06 1538.25 Q1152.06 1531.92 1149.32 1528.23 Q1146.59 1524.5 1141.91 1524.5 M1141.91 1519.54 Q1149.55 1519.54 1153.91 1524.5 Q1158.27 1529.47 1158.27 1538.25 Q1158.27 1547 1153.91 1552 Q1149.55 1556.97 1141.91 1556.97 Q1134.24 1556.97 1129.88 1552 Q1125.55 1547 1125.55 1538.25 Q1125.55 1529.47 1129.88 1524.5 Q1134.24 1519.54 1141.91 1519.54 Z\" fill=\"#000000\" fill-rule=\"evenodd\" fill-opacity=\"1\" /><path clip-path=\"url(#clip190)\" d=\"M 0 0 M1182.46 1506.52 L1182.46 1511.39 L1176.86 1511.39 Q1173.7 1511.39 1172.46 1512.66 Q1171.25 1513.93 1171.25 1517.24 L1171.25 1520.4 L1180.9 1520.4 L1180.9 1524.95 L1171.25 1524.95 L1171.25 1556.04 L1165.37 1556.04 L1165.37 1524.95 L1159.76 1524.95 L1159.76 1520.4 L1165.37 1520.4 L1165.37 1517.91 Q1165.37 1511.96 1168.13 1509.26 Q1170.9 1506.52 1176.92 1506.52 L1182.46 1506.52 Z\" fill=\"#000000\" fill-rule=\"evenodd\" fill-opacity=\"1\" /><path clip-path=\"url(#clip190)\" d=\"M 0 0 M1202.99 1508.52 L1243.19 1508.52 L1243.19 1513.93 L1226.32 1513.93 L1226.32 1556.04 L1219.86 1556.04 L1219.86 1513.93 L1202.99 1513.93 L1202.99 1508.52 Z\" fill=\"#000000\" fill-rule=\"evenodd\" fill-opacity=\"1\" /><path clip-path=\"url(#clip190)\" d=\"M 0 0 M1260.41 1525.87 Q1259.42 1525.3 1258.24 1525.04 Q1257.1 1524.76 1255.69 1524.76 Q1250.73 1524.76 1248.06 1528 Q1245.41 1531.22 1245.41 1537.27 L1245.41 1556.04 L1239.53 1556.04 L1239.53 1520.4 L1245.41 1520.4 L1245.41 1525.93 Q1247.26 1522.69 1250.22 1521.13 Q1253.18 1519.54 1257.41 1519.54 Q1258.02 1519.54 1258.75 1519.63 Q1259.48 1519.7 1260.37 1519.85 L1260.41 1525.87 Z\" fill=\"#000000\" fill-rule=\"evenodd\" fill-opacity=\"1\" /><path clip-path=\"url(#clip190)\" d=\"M 0 0 M1282.75 1538.12 Q1275.65 1538.12 1272.91 1539.75 Q1270.18 1541.37 1270.18 1545.29 Q1270.18 1548.4 1272.21 1550.25 Q1274.28 1552.07 1277.82 1552.07 Q1282.69 1552.07 1285.61 1548.63 Q1288.57 1545.16 1288.57 1539.43 L1288.57 1538.12 L1282.75 1538.12 M1294.43 1535.71 L1294.43 1556.04 L1288.57 1556.04 L1288.57 1550.63 Q1286.57 1553.88 1283.58 1555.44 Q1280.58 1556.97 1276.26 1556.97 Q1270.78 1556.97 1267.54 1553.91 Q1264.32 1550.82 1264.32 1545.67 Q1264.32 1539.65 1268.33 1536.6 Q1272.37 1533.54 1280.36 1533.54 L1288.57 1533.54 L1288.57 1532.97 Q1288.57 1528.93 1285.9 1526.73 Q1283.26 1524.5 1278.45 1524.5 Q1275.4 1524.5 1272.5 1525.23 Q1269.6 1525.97 1266.93 1527.43 L1266.93 1522.02 Q1270.15 1520.78 1273.17 1520.17 Q1276.19 1519.54 1279.06 1519.54 Q1286.79 1519.54 1290.61 1523.55 Q1294.43 1527.56 1294.43 1535.71 Z\" fill=\"#000000\" fill-rule=\"evenodd\" fill-opacity=\"1\" /><path clip-path=\"url(#clip190)\" d=\"M 0 0 M1300.57 1520.4 L1306.43 1520.4 L1306.43 1556.04 L1300.57 1556.04 L1300.57 1520.4 M1300.57 1506.52 L1306.43 1506.52 L1306.43 1513.93 L1300.57 1513.93 L1300.57 1506.52 Z\" fill=\"#000000\" fill-rule=\"evenodd\" fill-opacity=\"1\" /><path clip-path=\"url(#clip190)\" d=\"M 0 0 M1342.2 1534.53 L1342.2 1556.04 L1336.35 1556.04 L1336.35 1534.72 Q1336.35 1529.66 1334.38 1527.14 Q1332.4 1524.63 1328.45 1524.63 Q1323.71 1524.63 1320.98 1527.65 Q1318.24 1530.68 1318.24 1535.9 L1318.24 1556.04 L1312.35 1556.04 L1312.35 1520.4 L1318.24 1520.4 L1318.24 1525.93 Q1320.34 1522.72 1323.17 1521.13 Q1326.04 1519.54 1329.76 1519.54 Q1335.9 1519.54 1339.05 1523.36 Q1342.2 1527.14 1342.2 1534.53 Z\" fill=\"#000000\" fill-rule=\"evenodd\" fill-opacity=\"1\" /><path clip-path=\"url(#clip190)\" d=\"M 0 0 M1348.35 1520.4 L1354.2 1520.4 L1354.2 1556.04 L1348.35 1556.04 L1348.35 1520.4 M1348.35 1506.52 L1354.2 1506.52 L1354.2 1513.93 L1348.35 1513.93 L1348.35 1506.52 Z\" fill=\"#000000\" fill-rule=\"evenodd\" fill-opacity=\"1\" /><path clip-path=\"url(#clip190)\" d=\"M 0 0 M1389.98 1534.53 L1389.98 1556.04 L1384.12 1556.04 L1384.12 1534.72 Q1384.12 1529.66 1382.15 1527.14 Q1380.18 1524.63 1376.23 1524.63 Q1371.49 1524.63 1368.75 1527.65 Q1366.01 1530.68 1366.01 1535.9 L1366.01 1556.04 L1360.12 1556.04 L1360.12 1520.4 L1366.01 1520.4 L1366.01 1525.93 Q1368.11 1522.72 1370.95 1521.13 Q1373.81 1519.54 1377.53 1519.54 Q1383.68 1519.54 1386.83 1523.36 Q1389.98 1527.14 1389.98 1534.53 Z\" fill=\"#000000\" fill-rule=\"evenodd\" fill-opacity=\"1\" /><path clip-path=\"url(#clip190)\" d=\"M 0 0 M1419.58 1537.81 Q1419.58 1531.44 1416.94 1527.94 Q1414.33 1524.44 1409.59 1524.44 Q1404.88 1524.44 1402.23 1527.94 Q1399.62 1531.44 1399.62 1537.81 Q1399.62 1544.14 1402.23 1547.64 Q1404.88 1551.14 1409.59 1551.14 Q1414.33 1551.14 1416.94 1547.64 Q1419.58 1544.14 1419.58 1537.81 M1425.44 1551.62 Q1425.44 1560.72 1421.39 1565.15 Q1417.35 1569.6 1409.01 1569.6 Q1405.93 1569.6 1403.19 1569.13 Q1400.45 1568.68 1397.87 1567.72 L1397.87 1562.03 Q1400.45 1563.43 1402.97 1564.1 Q1405.48 1564.76 1408.09 1564.76 Q1413.85 1564.76 1416.72 1561.74 Q1419.58 1558.75 1419.58 1552.67 L1419.58 1549.77 Q1417.77 1552.92 1414.93 1554.48 Q1412.1 1556.04 1408.15 1556.04 Q1401.6 1556.04 1397.59 1551.05 Q1393.58 1546.05 1393.58 1537.81 Q1393.58 1529.53 1397.59 1524.53 Q1401.6 1519.54 1408.15 1519.54 Q1412.1 1519.54 1414.93 1521.1 Q1417.77 1522.66 1419.58 1525.81 L1419.58 1520.4 L1425.44 1520.4 L1425.44 1551.62 Z\" fill=\"#000000\" fill-rule=\"evenodd\" fill-opacity=\"1\" /><path clip-path=\"url(#clip190)\" d=\"M 0 0 M1481.04 1510.08 L1481.04 1516.35 Q1477.38 1514.6 1474.13 1513.74 Q1470.89 1512.88 1467.86 1512.88 Q1462.61 1512.88 1459.75 1514.92 Q1456.91 1516.96 1456.91 1520.71 Q1456.91 1523.87 1458.79 1525.49 Q1460.7 1527.08 1465.99 1528.07 L1469.87 1528.86 Q1477.06 1530.23 1480.47 1533.7 Q1483.91 1537.14 1483.91 1542.93 Q1483.91 1549.84 1479.26 1553.4 Q1474.64 1556.97 1465.7 1556.97 Q1462.33 1556.97 1458.51 1556.2 Q1454.72 1555.44 1450.64 1553.94 L1450.64 1547.32 Q1454.56 1549.52 1458.32 1550.63 Q1462.07 1551.75 1465.7 1551.75 Q1471.21 1551.75 1474.2 1549.58 Q1477.19 1547.42 1477.19 1543.41 Q1477.19 1539.91 1475.03 1537.93 Q1472.89 1535.96 1467.99 1534.97 L1464.08 1534.21 Q1456.88 1532.78 1453.67 1529.72 Q1450.45 1526.67 1450.45 1521.22 Q1450.45 1514.92 1454.88 1511.29 Q1459.33 1507.66 1467.13 1507.66 Q1470.47 1507.66 1473.94 1508.27 Q1477.41 1508.87 1481.04 1510.08 Z\" fill=\"#000000\" fill-rule=\"evenodd\" fill-opacity=\"1\" /><path clip-path=\"url(#clip190)\" d=\"M 0 0 M1506.25 1538.12 Q1499.15 1538.12 1496.41 1539.75 Q1493.68 1541.37 1493.68 1545.29 Q1493.68 1548.4 1495.71 1550.25 Q1497.78 1552.07 1501.32 1552.07 Q1506.19 1552.07 1509.11 1548.63 Q1512.07 1545.16 1512.07 1539.43 L1512.07 1538.12 L1506.25 1538.12 M1517.93 1535.71 L1517.93 1556.04 L1512.07 1556.04 L1512.07 1550.63 Q1510.07 1553.88 1507.08 1555.44 Q1504.08 1556.97 1499.76 1556.97 Q1494.28 1556.97 1491.04 1553.91 Q1487.82 1550.82 1487.82 1545.67 Q1487.82 1539.65 1491.83 1536.6 Q1495.87 1533.54 1503.86 1533.54 L1512.07 1533.54 L1512.07 1532.97 Q1512.07 1528.93 1509.4 1526.73 Q1506.76 1524.5 1501.95 1524.5 Q1498.9 1524.5 1496 1525.23 Q1493.1 1525.97 1490.43 1527.43 L1490.43 1522.02 Q1493.65 1520.78 1496.67 1520.17 Q1499.69 1519.54 1502.56 1519.54 Q1510.29 1519.54 1514.11 1523.55 Q1517.93 1527.56 1517.93 1535.71 Z\" fill=\"#000000\" fill-rule=\"evenodd\" fill-opacity=\"1\" /><path clip-path=\"url(#clip190)\" d=\"M 0 0 M1551.83 1527.24 Q1554.02 1523.29 1557.08 1521.41 Q1560.13 1519.54 1564.27 1519.54 Q1569.84 1519.54 1572.87 1523.45 Q1575.89 1527.33 1575.89 1534.53 L1575.89 1556.04 L1570 1556.04 L1570 1534.72 Q1570 1529.59 1568.19 1527.11 Q1566.37 1524.63 1562.65 1524.63 Q1558.1 1524.63 1555.46 1527.65 Q1552.81 1530.68 1552.81 1535.9 L1552.81 1556.04 L1546.93 1556.04 L1546.93 1534.72 Q1546.93 1529.56 1545.11 1527.11 Q1543.3 1524.63 1539.51 1524.63 Q1535.02 1524.63 1532.38 1527.68 Q1529.74 1530.71 1529.74 1535.9 L1529.74 1556.04 L1523.85 1556.04 L1523.85 1520.4 L1529.74 1520.4 L1529.74 1525.93 Q1531.74 1522.66 1534.54 1521.1 Q1537.35 1519.54 1541.2 1519.54 Q1545.08 1519.54 1547.79 1521.51 Q1550.52 1523.48 1551.83 1527.24 Z\" fill=\"#000000\" fill-rule=\"evenodd\" fill-opacity=\"1\" /><path clip-path=\"url(#clip190)\" d=\"M 0 0 M1587.7 1550.7 L1587.7 1569.6 L1581.81 1569.6 L1581.81 1520.4 L1587.7 1520.4 L1587.7 1525.81 Q1589.54 1522.62 1592.35 1521.1 Q1595.18 1519.54 1599.09 1519.54 Q1605.59 1519.54 1609.63 1524.69 Q1613.7 1529.85 1613.7 1538.25 Q1613.7 1546.65 1609.63 1551.81 Q1605.59 1556.97 1599.09 1556.97 Q1595.18 1556.97 1592.35 1555.44 Q1589.54 1553.88 1587.7 1550.7 M1607.62 1538.25 Q1607.62 1531.79 1604.95 1528.13 Q1602.31 1524.44 1597.66 1524.44 Q1593.01 1524.44 1590.34 1528.13 Q1587.7 1531.79 1587.7 1538.25 Q1587.7 1544.71 1590.34 1548.4 Q1593.01 1552.07 1597.66 1552.07 Q1602.31 1552.07 1604.95 1548.4 Q1607.62 1544.71 1607.62 1538.25 Z\" fill=\"#000000\" fill-rule=\"evenodd\" fill-opacity=\"1\" /><path clip-path=\"url(#clip190)\" d=\"M 0 0 M1619.85 1506.52 L1625.7 1506.52 L1625.7 1556.04 L1619.85 1556.04 L1619.85 1506.52 Z\" fill=\"#000000\" fill-rule=\"evenodd\" fill-opacity=\"1\" /><path clip-path=\"url(#clip190)\" d=\"M 0 0 M1662.34 1536.76 L1662.34 1539.62 L1635.41 1539.62 Q1635.79 1545.67 1639.04 1548.85 Q1642.32 1552 1648.14 1552 Q1651.51 1552 1654.67 1551.17 Q1657.85 1550.35 1660.97 1548.69 L1660.97 1554.23 Q1657.82 1555.57 1654.51 1556.27 Q1651.2 1556.97 1647.79 1556.97 Q1639.26 1556.97 1634.26 1552 Q1629.3 1547.04 1629.3 1538.57 Q1629.3 1529.82 1634.01 1524.69 Q1638.75 1519.54 1646.77 1519.54 Q1653.97 1519.54 1658.13 1524.18 Q1662.34 1528.8 1662.34 1536.76 M1656.48 1535.04 Q1656.42 1530.23 1653.77 1527.37 Q1651.16 1524.5 1646.84 1524.5 Q1641.93 1524.5 1638.97 1527.27 Q1636.05 1530.04 1635.6 1535.07 L1656.48 1535.04 Z\" fill=\"#000000\" fill-rule=\"evenodd\" fill-opacity=\"1\" /><path clip-path=\"url(#clip190)\" d=\"M 0 0 M1691.2 1521.45 L1691.2 1526.98 Q1688.72 1525.71 1686.05 1525.07 Q1683.37 1524.44 1680.51 1524.44 Q1676.15 1524.44 1673.95 1525.77 Q1671.79 1527.11 1671.79 1529.79 Q1671.79 1531.82 1673.35 1533 Q1674.91 1534.15 1679.62 1535.2 L1681.62 1535.64 Q1687.86 1536.98 1690.47 1539.43 Q1693.11 1541.85 1693.11 1546.21 Q1693.11 1551.17 1689.17 1554.07 Q1685.25 1556.97 1678.38 1556.97 Q1675.51 1556.97 1672.39 1556.39 Q1669.31 1555.85 1665.87 1554.74 L1665.87 1548.69 Q1669.12 1550.38 1672.27 1551.24 Q1675.42 1552.07 1678.51 1552.07 Q1682.64 1552.07 1684.87 1550.66 Q1687.1 1549.23 1687.1 1546.65 Q1687.1 1544.27 1685.48 1542.99 Q1683.88 1541.72 1678.44 1540.54 L1676.4 1540.07 Q1670.96 1538.92 1668.54 1536.56 Q1666.12 1534.18 1666.12 1530.04 Q1666.12 1525.01 1669.69 1522.27 Q1673.25 1519.54 1679.81 1519.54 Q1683.06 1519.54 1685.92 1520.01 Q1688.79 1520.49 1691.2 1521.45 Z\" fill=\"#000000\" fill-rule=\"evenodd\" fill-opacity=\"1\" /><path clip-path=\"url(#clip190)\" d=\"M 0 0 M44.1444 1026.82 L50.9239 1026.82 Q47.9002 1030.07 46.4043 1033.76 Q44.9083 1037.42 44.9083 1041.56 Q44.9083 1049.71 49.9054 1054.04 Q54.8707 1058.37 64.2919 1058.37 Q73.6813 1058.37 78.6784 1054.04 Q83.6436 1049.71 83.6436 1041.56 Q83.6436 1037.42 82.1477 1033.76 Q80.6518 1030.07 77.6281 1026.82 L84.3439 1026.82 Q86.6355 1030.2 87.7814 1033.99 Q88.9272 1037.74 88.9272 1041.94 Q88.9272 1052.73 82.3387 1058.94 Q75.7183 1065.15 64.2919 1065.15 Q52.8336 1065.15 46.2451 1058.94 Q39.6248 1052.73 39.6248 1041.94 Q39.6248 1037.68 40.7706 1033.92 Q41.8846 1030.14 44.1444 1026.82 Z\" fill=\"#000000\" fill-rule=\"evenodd\" fill-opacity=\"1\" /><path clip-path=\"url(#clip190)\" d=\"M 0 0 M38.479 1020.68 L38.479 1014.83 L88.0042 1014.83 L88.0042 1020.68 L38.479 1020.68 Z\" fill=\"#000000\" fill-rule=\"evenodd\" fill-opacity=\"1\" /><path clip-path=\"url(#clip190)\" d=\"M 0 0 M70.0847 992.482 Q70.0847 999.58 71.7079 1002.32 Q73.3312 1005.05 77.2461 1005.05 Q80.3653 1005.05 82.2114 1003.02 Q84.0256 1000.95 84.0256 997.415 Q84.0256 992.546 80.5881 989.617 Q77.1188 986.657 71.3897 986.657 L70.0847 986.657 L70.0847 992.482 M67.6657 980.801 L88.0042 980.801 L88.0042 986.657 L82.5933 986.657 Q85.8398 988.663 87.3994 991.654 Q88.9272 994.646 88.9272 998.975 Q88.9272 1004.45 85.8716 1007.7 Q82.7843 1010.91 77.6281 1010.91 Q71.6125 1010.91 68.5569 1006.9 Q65.5014 1002.86 65.5014 994.869 L65.5014 986.657 L64.9285 986.657 Q60.8862 986.657 58.6901 989.331 Q56.4621 991.973 56.4621 996.779 Q56.4621 999.834 57.1941 1002.73 Q57.9262 1005.63 59.3903 1008.3 L53.9795 1008.3 Q52.7381 1005.09 52.1334 1002.06 Q51.4968 999.039 51.4968 996.174 Q51.4968 988.44 55.5072 984.62 Q59.5176 980.801 67.6657 980.801 Z\" fill=\"#000000\" fill-rule=\"evenodd\" fill-opacity=\"1\" /><path clip-path=\"url(#clip190)\" d=\"M 0 0 M53.4065 951.932 L58.9447 951.932 Q57.6716 954.415 57.035 957.089 Q56.3984 959.762 56.3984 962.627 Q56.3984 966.987 57.7352 969.184 Q59.072 971.348 61.7456 971.348 Q63.7826 971.348 64.9603 969.788 Q66.1061 968.229 67.1565 963.518 L67.6021 961.513 Q68.9389 955.274 71.3897 952.665 Q73.8086 950.023 78.1691 950.023 Q83.1344 950.023 86.0308 953.969 Q88.9272 957.884 88.9272 964.759 Q88.9272 967.624 88.3543 970.743 Q87.8132 973.83 86.6992 977.268 L80.6518 977.268 Q82.3387 974.021 83.198 970.87 Q84.0256 967.719 84.0256 964.632 Q84.0256 960.494 82.6251 958.266 Q81.1929 956.038 78.6147 956.038 Q76.2276 956.038 74.9545 957.662 Q73.6813 959.253 72.5037 964.696 L72.0262 966.733 Q70.8804 972.175 68.5251 974.594 Q66.138 977.013 62.0002 977.013 Q56.9713 977.013 54.2341 973.449 Q51.4968 969.884 51.4968 963.327 Q51.4968 960.081 51.9743 957.216 Q52.4517 954.351 53.4065 951.932 Z\" fill=\"#000000\" fill-rule=\"evenodd\" fill-opacity=\"1\" /><path clip-path=\"url(#clip190)\" d=\"M 0 0 M53.4065 921.154 L58.9447 921.154 Q57.6716 923.637 57.035 926.31 Q56.3984 928.984 56.3984 931.849 Q56.3984 936.209 57.7352 938.405 Q59.072 940.57 61.7456 940.57 Q63.7826 940.57 64.9603 939.01 Q66.1061 937.45 67.1565 932.74 L67.6021 930.735 Q68.9389 924.496 71.3897 921.886 Q73.8086 919.245 78.1691 919.245 Q83.1344 919.245 86.0308 923.191 Q88.9272 927.106 88.9272 933.981 Q88.9272 936.846 88.3543 939.965 Q87.8132 943.052 86.6992 946.49 L80.6518 946.49 Q82.3387 943.243 83.198 940.092 Q84.0256 936.941 84.0256 933.854 Q84.0256 929.716 82.6251 927.488 Q81.1929 925.26 78.6147 925.26 Q76.2276 925.26 74.9545 926.883 Q73.6813 928.475 72.5037 933.918 L72.0262 935.955 Q70.8804 941.397 68.5251 943.816 Q66.138 946.235 62.0002 946.235 Q56.9713 946.235 54.2341 942.67 Q51.4968 939.106 51.4968 932.549 Q51.4968 929.302 51.9743 926.438 Q52.4517 923.573 53.4065 921.154 Z\" fill=\"#000000\" fill-rule=\"evenodd\" fill-opacity=\"1\" /><path clip-path=\"url(#clip190)\" d=\"M 0 0 M52.3562 913.102 L52.3562 907.245 L88.0042 907.245 L88.0042 913.102 L52.3562 913.102 M38.479 913.102 L38.479 907.245 L45.895 907.245 L45.895 913.102 L38.479 913.102 Z\" fill=\"#000000\" fill-rule=\"evenodd\" fill-opacity=\"1\" /><path clip-path=\"url(#clip190)\" d=\"M 0 0 M38.479 883.056 L43.3487 883.056 L43.3487 888.657 Q43.3487 891.808 44.6219 893.05 Q45.895 894.259 49.2052 894.259 L52.3562 894.259 L52.3562 884.615 L56.9077 884.615 L56.9077 894.259 L88.0042 894.259 L88.0042 900.147 L56.9077 900.147 L56.9077 905.749 L52.3562 905.749 L52.3562 900.147 L49.8736 900.147 Q43.9216 900.147 41.2162 897.378 Q38.479 894.609 38.479 888.594 L38.479 883.056 Z\" fill=\"#000000\" fill-rule=\"evenodd\" fill-opacity=\"1\" /><path clip-path=\"url(#clip190)\" d=\"M 0 0 M52.3562 876.913 L52.3562 871.056 L88.0042 871.056 L88.0042 876.913 L52.3562 876.913 M38.479 876.913 L38.479 871.056 L45.895 871.056 L45.895 876.913 L38.479 876.913 Z\" fill=\"#000000\" fill-rule=\"evenodd\" fill-opacity=\"1\" /><path clip-path=\"url(#clip190)\" d=\"M 0 0 M53.7248 839.259 L59.1993 839.259 Q57.8307 841.742 57.1623 844.257 Q56.4621 846.739 56.4621 849.285 Q56.4621 854.983 60.0905 858.134 Q63.6872 861.285 70.212 861.285 Q76.7369 861.285 80.3653 858.134 Q83.9619 854.983 83.9619 849.285 Q83.9619 846.739 83.2935 844.257 Q82.5933 841.742 81.2247 839.259 L86.6355 839.259 Q87.7814 841.71 88.3543 844.352 Q88.9272 846.962 88.9272 849.922 Q88.9272 857.975 83.8664 862.717 Q78.8057 867.46 70.212 867.46 Q61.491 867.46 56.4939 862.685 Q51.4968 857.879 51.4968 849.54 Q51.4968 846.835 52.0697 844.257 Q52.6108 841.678 53.7248 839.259 Z\" fill=\"#000000\" fill-rule=\"evenodd\" fill-opacity=\"1\" /><path clip-path=\"url(#clip190)\" d=\"M 0 0 M70.0847 816.916 Q70.0847 824.014 71.7079 826.751 Q73.3312 829.488 77.2461 829.488 Q80.3653 829.488 82.2114 827.451 Q84.0256 825.382 84.0256 821.849 Q84.0256 816.979 80.5881 814.051 Q77.1188 811.091 71.3897 811.091 L70.0847 811.091 L70.0847 816.916 M67.6657 805.235 L88.0042 805.235 L88.0042 811.091 L82.5933 811.091 Q85.8398 813.096 87.3994 816.088 Q88.9272 819.08 88.9272 823.409 Q88.9272 828.883 85.8716 832.13 Q82.7843 835.345 77.6281 835.345 Q71.6125 835.345 68.5569 831.334 Q65.5014 827.292 65.5014 819.303 L65.5014 811.091 L64.9285 811.091 Q60.8862 811.091 58.6901 813.765 Q56.4621 816.407 56.4621 821.213 Q56.4621 824.268 57.1941 827.165 Q57.9262 830.061 59.3903 832.735 L53.9795 832.735 Q52.7381 829.52 52.1334 826.496 Q51.4968 823.472 51.4968 820.608 Q51.4968 812.874 55.5072 809.054 Q59.5176 805.235 67.6657 805.235 Z\" fill=\"#000000\" fill-rule=\"evenodd\" fill-opacity=\"1\" /><path clip-path=\"url(#clip190)\" d=\"M 0 0 M42.2347 793.299 L52.3562 793.299 L52.3562 781.236 L56.9077 781.236 L56.9077 793.299 L76.2594 793.299 Q80.6199 793.299 81.8613 792.121 Q83.1026 790.912 83.1026 787.252 L83.1026 781.236 L88.0042 781.236 L88.0042 787.252 Q88.0042 794.031 85.4897 796.609 Q82.9434 799.187 76.2594 799.187 L56.9077 799.187 L56.9077 803.484 L52.3562 803.484 L52.3562 799.187 L42.2347 799.187 L42.2347 793.299 Z\" fill=\"#000000\" fill-rule=\"evenodd\" fill-opacity=\"1\" /><path clip-path=\"url(#clip190)\" d=\"M 0 0 M52.3562 775.093 L52.3562 769.237 L88.0042 769.237 L88.0042 775.093 L52.3562 775.093 M38.479 775.093 L38.479 769.237 L45.895 769.237 L45.895 775.093 L38.479 775.093 Z\" fill=\"#000000\" fill-rule=\"evenodd\" fill-opacity=\"1\" /><path clip-path=\"url(#clip190)\" d=\"M 0 0 M56.4621 749.28 Q56.4621 753.991 60.1542 756.728 Q63.8145 759.465 70.212 759.465 Q76.6095 759.465 80.3017 756.76 Q83.9619 754.023 83.9619 749.28 Q83.9619 744.601 80.2698 741.864 Q76.5777 739.127 70.212 739.127 Q63.8781 739.127 60.186 741.864 Q56.4621 744.601 56.4621 749.28 M51.4968 749.28 Q51.4968 741.641 56.4621 737.281 Q61.4273 732.92 70.212 732.92 Q78.9649 732.92 83.9619 737.281 Q88.9272 741.641 88.9272 749.28 Q88.9272 756.951 83.9619 761.311 Q78.9649 765.64 70.212 765.64 Q61.4273 765.64 56.4621 761.311 Q51.4968 756.951 51.4968 749.28 Z\" fill=\"#000000\" fill-rule=\"evenodd\" fill-opacity=\"1\" /><path clip-path=\"url(#clip190)\" d=\"M 0 0 M66.4881 697.145 L88.0042 697.145 L88.0042 703.001 L66.679 703.001 Q61.6183 703.001 59.1038 704.975 Q56.5894 706.948 56.5894 710.895 Q56.5894 715.637 59.6131 718.375 Q62.6368 721.112 67.8567 721.112 L88.0042 721.112 L88.0042 727 L52.3562 727 L52.3562 721.112 L57.8944 721.112 Q54.6797 719.011 53.0883 716.179 Q51.4968 713.314 51.4968 709.59 Q51.4968 703.447 55.3163 700.296 Q59.1038 697.145 66.4881 697.145 Z\" fill=\"#000000\" fill-rule=\"evenodd\" fill-opacity=\"1\" /><path clip-path=\"url(#clip190)\" d=\"M 0 0 M46.818 654.145 L70.4666 662.866 L70.4666 645.392 L46.818 654.145 M40.4842 657.773 L40.4842 650.484 L88.0042 632.374 L88.0042 639.058 L75.8138 643.387 L75.8138 664.807 L88.0042 669.136 L88.0042 675.915 L40.4842 657.773 Z\" fill=\"#000000\" fill-rule=\"evenodd\" fill-opacity=\"1\" /><path clip-path=\"url(#clip190)\" d=\"M 0 0 M53.7248 601.723 L59.1993 601.723 Q57.8307 604.206 57.1623 606.72 Q56.4621 609.203 56.4621 611.749 Q56.4621 617.446 60.0905 620.597 Q63.6872 623.748 70.212 623.748 Q76.7369 623.748 80.3653 620.597 Q83.9619 617.446 83.9619 611.749 Q83.9619 609.203 83.2935 606.72 Q82.5933 604.206 81.2247 601.723 L86.6355 601.723 Q87.7814 604.174 88.3543 606.816 Q88.9272 609.426 88.9272 612.386 Q88.9272 620.438 83.8664 625.181 Q78.8057 629.923 70.212 629.923 Q61.491 629.923 56.4939 625.149 Q51.4968 620.343 51.4968 612.004 Q51.4968 609.298 52.0697 606.72 Q52.6108 604.142 53.7248 601.723 Z\" fill=\"#000000\" fill-rule=\"evenodd\" fill-opacity=\"1\" /><path clip-path=\"url(#clip190)\" d=\"M 0 0 M53.7248 569.926 L59.1993 569.926 Q57.8307 572.409 57.1623 574.923 Q56.4621 577.406 56.4621 579.952 Q56.4621 585.65 60.0905 588.801 Q63.6872 591.952 70.212 591.952 Q76.7369 591.952 80.3653 588.801 Q83.9619 585.65 83.9619 579.952 Q83.9619 577.406 83.2935 574.923 Q82.5933 572.409 81.2247 569.926 L86.6355 569.926 Q87.7814 572.377 88.3543 575.019 Q88.9272 577.629 88.9272 580.589 Q88.9272 588.642 83.8664 593.384 Q78.8057 598.126 70.212 598.126 Q61.491 598.126 56.4939 593.352 Q51.4968 588.546 51.4968 580.207 Q51.4968 577.502 52.0697 574.923 Q52.6108 572.345 53.7248 569.926 Z\" fill=\"#000000\" fill-rule=\"evenodd\" fill-opacity=\"1\" /><path clip-path=\"url(#clip190)\" d=\"M 0 0 M73.9359 564.388 L52.3562 564.388 L52.3562 558.532 L73.7131 558.532 Q78.7739 558.532 81.3202 556.558 Q83.8346 554.585 83.8346 550.638 Q83.8346 545.896 80.8109 543.159 Q77.7872 540.39 72.5673 540.39 L52.3562 540.39 L52.3562 534.533 L88.0042 534.533 L88.0042 540.39 L82.5296 540.39 Q85.7762 542.522 87.3676 545.355 Q88.9272 548.156 88.9272 551.88 Q88.9272 558.023 85.1078 561.205 Q81.2883 564.388 73.9359 564.388 M51.4968 549.652 L51.4968 549.652 Z\" fill=\"#000000\" fill-rule=\"evenodd\" fill-opacity=\"1\" /><path clip-path=\"url(#clip190)\" d=\"M 0 0 M57.8307 507.733 Q57.2578 508.72 57.0032 509.898 Q56.7167 511.044 56.7167 512.444 Q56.7167 517.409 59.9632 520.083 Q63.1779 522.725 69.2253 522.725 L88.0042 522.725 L88.0042 528.613 L52.3562 528.613 L52.3562 522.725 L57.8944 522.725 Q54.6479 520.879 53.0883 517.919 Q51.4968 514.959 51.4968 510.725 Q51.4968 510.121 51.5923 509.389 Q51.656 508.656 51.8151 507.765 L57.8307 507.733 Z\" fill=\"#000000\" fill-rule=\"evenodd\" fill-opacity=\"1\" /><path clip-path=\"url(#clip190)\" d=\"M 0 0 M70.0847 485.39 Q70.0847 492.488 71.7079 495.225 Q73.3312 497.962 77.2461 497.962 Q80.3653 497.962 82.2114 495.925 Q84.0256 493.856 84.0256 490.323 Q84.0256 485.453 80.5881 482.525 Q77.1188 479.565 71.3897 479.565 L70.0847 479.565 L70.0847 485.39 M67.6657 473.709 L88.0042 473.709 L88.0042 479.565 L82.5933 479.565 Q85.8398 481.57 87.3994 484.562 Q88.9272 487.554 88.9272 491.883 Q88.9272 497.357 85.8716 500.604 Q82.7843 503.819 77.6281 503.819 Q71.6125 503.819 68.5569 499.808 Q65.5014 495.766 65.5014 487.777 L65.5014 479.565 L64.9285 479.565 Q60.8862 479.565 58.6901 482.239 Q56.4621 484.881 56.4621 489.687 Q56.4621 492.742 57.1941 495.639 Q57.9262 498.535 59.3903 501.209 L53.9795 501.209 Q52.7381 497.994 52.1334 494.97 Q51.4968 491.946 51.4968 489.082 Q51.4968 481.348 55.5072 477.528 Q59.5176 473.709 67.6657 473.709 Z\" fill=\"#000000\" fill-rule=\"evenodd\" fill-opacity=\"1\" /><path clip-path=\"url(#clip190)\" d=\"M 0 0 M53.7248 441.912 L59.1993 441.912 Q57.8307 444.395 57.1623 446.909 Q56.4621 449.392 56.4621 451.938 Q56.4621 457.635 60.0905 460.786 Q63.6872 463.937 70.212 463.937 Q76.7369 463.937 80.3653 460.786 Q83.9619 457.635 83.9619 451.938 Q83.9619 449.392 83.2935 446.909 Q82.5933 444.395 81.2247 441.912 L86.6355 441.912 Q87.7814 444.363 88.3543 447.005 Q88.9272 449.615 88.9272 452.575 Q88.9272 460.627 83.8664 465.37 Q78.8057 470.112 70.212 470.112 Q61.491 470.112 56.4939 465.338 Q51.4968 460.532 51.4968 452.193 Q51.4968 449.487 52.0697 446.909 Q52.6108 444.331 53.7248 441.912 Z\" fill=\"#000000\" fill-rule=\"evenodd\" fill-opacity=\"1\" /><path clip-path=\"url(#clip190)\" d=\"M 0 0 M91.3143 420.937 Q97.68 423.42 99.6216 425.775 Q101.563 428.13 101.563 432.077 L101.563 436.756 L96.6615 436.756 L96.6615 433.318 Q96.6615 430.899 95.5157 429.563 Q94.3699 428.226 90.1048 426.603 L87.4312 425.552 L52.3562 439.97 L52.3562 433.764 L80.238 422.624 L52.3562 411.484 L52.3562 405.277 L91.3143 420.937 Z\" fill=\"#000000\" fill-rule=\"evenodd\" fill-opacity=\"1\" /><polyline clip-path=\"url(#clip192)\" style=\"stroke:#009af9; stroke-width:4; stroke-opacity:1; fill:none\" points=\"\n",
       "  271.639,522.803 289.057,86.1857 306.475,304.495 323.893,260.833 341.311,231.725 358.729,210.934 376.148,413.649 393.566,377.264 410.984,435.48 428.402,562.496 \n",
       "  445.82,668.343 463.238,556.389 480.656,647.551 498.074,610.127 515.492,577.381 532.911,599.854 550.329,571.316 567.747,591.743 585.165,610.127 602.583,543.595 \n",
       "  620.001,522.803 637.419,503.82 654.837,522.803 672.256,505.339 689.674,489.217 707.092,474.29 724.51,491.616 741.928,447.524 759.346,464.588 776.764,508.719 \n",
       "  794.182,468.226 811.601,456.649 829.019,471.437 846.437,460.429 863.855,450.034 881.273,440.2 898.691,430.884 916.109,422.045 933.527,413.649 950.946,426.96 \n",
       "  968.364,418.847 985.782,431.418 1003.2,423.572 1020.62,416.075 1038.04,408.903 1055.45,402.037 1072.87,395.457 1090.29,406.966 1107.71,383.086 1125.13,377.264 \n",
       "  1142.54,371.666 1159.96,366.28 1177.38,344.922 1194.8,356.095 1212.22,366.868 1229.64,377.264 1247.05,372.246 1264.47,411.799 1281.89,406.372 1299.31,415.438 \n",
       "  1316.73,410.128 1334.14,391.125 1351.56,400.005 1368.98,408.611 1386.4,416.957 1403.82,438.086 1421.23,432.911 1438.65,427.886 1456.07,423.005 1473.49,418.261 \n",
       "  1490.91,425.777 1508.33,433.087 1525.74,416.599 1543.16,435.48 1560.58,430.884 1578,437.748 1595.42,422.045 1612.83,439.901 1630.25,446.395 1647.67,431.168 \n",
       "  1665.09,426.96 1682.51,422.855 1699.92,429.242 1717.34,445.753 1734.76,441.572 1752.18,427.45 1769.6,413.649 1787.02,400.158 1804.43,396.669 1821.85,393.257 \n",
       "  1839.27,380.428 1856.69,377.264 1874.11,383.457 1891.52,389.52 1908.94,386.36 1926.36,392.268 1943.78,398.055 1961.2,394.905 1978.61,400.55 1996.03,397.438 \n",
       "  2013.45,402.948 2030.87,408.35 2048.29,405.252 2065.71,402.214 2083.12,399.232 2100.54,379.984 2117.96,393.435 2135.38,390.616 2152.8,387.849 2170.21,385.131 \n",
       "  2187.63,382.462 2205.05,379.84 2222.47,384.924 2239.89,367.14 2257.3,364.718 2274.72,369.801 2292.14,367.397 \n",
       "  \"/>\n",
       "<polyline clip-path=\"url(#clip192)\" style=\"stroke:#e26f46; stroke-width:4; stroke-opacity:1; fill:none\" points=\"\n",
       "  271.639,1384.24 289.057,1177.73 306.475,1000.72 323.893,1118.73 341.311,1089.23 358.729,1059.73 376.148,1000.72 393.566,1000.72 410.984,1000.72 428.402,971.222 \n",
       "  445.82,971.222 463.238,941.72 480.656,1059.73 498.074,1148.23 515.492,1030.22 532.911,1030.22 550.329,1059.73 567.747,1000.72 585.165,912.219 602.583,941.72 \n",
       "  620.001,882.718 637.419,882.718 654.837,912.219 672.256,912.219 689.674,912.219 707.092,853.217 724.51,882.718 741.928,941.72 759.346,912.219 776.764,912.219 \n",
       "  794.182,882.718 811.601,853.217 829.019,853.217 846.437,853.217 863.855,853.217 881.273,853.217 898.691,853.217 916.109,853.217 933.527,853.217 950.946,853.217 \n",
       "  968.364,853.217 985.782,823.716 1003.2,794.214 1020.62,794.214 1038.04,794.214 1055.45,794.214 1072.87,764.713 1090.29,764.713 1107.71,794.214 1125.13,853.217 \n",
       "  1142.54,823.716 1159.96,853.217 1177.38,882.718 1194.8,882.718 1212.22,912.219 1229.64,912.219 1247.05,912.219 1264.47,912.219 1281.89,912.219 1299.31,882.718 \n",
       "  1316.73,882.718 1334.14,853.217 1351.56,853.217 1368.98,764.713 1386.4,764.713 1403.82,764.713 1421.23,764.713 1438.65,764.713 1456.07,764.713 1473.49,764.713 \n",
       "  1490.91,764.713 1508.33,823.716 1525.74,823.716 1543.16,823.716 1560.58,823.716 1578,823.716 1595.42,823.716 1612.83,823.716 1630.25,823.716 1647.67,823.716 \n",
       "  1665.09,823.716 1682.51,823.716 1699.92,853.217 1717.34,853.217 1734.76,853.217 1752.18,853.217 1769.6,882.718 1787.02,882.718 1804.43,853.217 1821.85,853.217 \n",
       "  1839.27,823.716 1856.69,823.716 1874.11,823.716 1891.52,823.716 1908.94,853.217 1926.36,853.217 1943.78,853.217 1961.2,823.716 1978.61,823.716 1996.03,823.716 \n",
       "  2013.45,823.716 2030.87,823.716 2048.29,823.716 2065.71,823.716 2083.12,823.716 2100.54,853.217 2117.96,853.217 2135.38,853.217 2152.8,853.217 2170.21,823.716 \n",
       "  2187.63,823.716 2205.05,764.713 2222.47,764.713 2239.89,764.713 2257.3,764.713 2274.72,764.713 2292.14,764.713 \n",
       "  \"/>\n",
       "<path clip-path=\"url(#clip190)\" d=\"\n",
       "M1844.07 1377.32 L2281.36 1377.32 L2281.36 1195.88 L1844.07 1195.88  Z\n",
       "  \" fill=\"#ffffff\" fill-rule=\"evenodd\" fill-opacity=\"1\"/>\n",
       "<polyline clip-path=\"url(#clip190)\" style=\"stroke:#000000; stroke-width:4; stroke-opacity:1; fill:none\" points=\"\n",
       "  1844.07,1377.32 2281.36,1377.32 2281.36,1195.88 1844.07,1195.88 1844.07,1377.32 \n",
       "  \"/>\n",
       "<polyline clip-path=\"url(#clip190)\" style=\"stroke:#009af9; stroke-width:4; stroke-opacity:1; fill:none\" points=\"\n",
       "  1867.86,1256.36 2010.65,1256.36 \n",
       "  \"/>\n",
       "<path clip-path=\"url(#clip190)\" d=\"M 0 0 M2034.44 1239.08 L2063.68 1239.08 L2063.68 1243.01 L2051.41 1243.01 L2051.41 1273.64 L2046.71 1273.64 L2046.71 1243.01 L2034.44 1243.01 L2034.44 1239.08 Z\" fill=\"#000000\" fill-rule=\"evenodd\" fill-opacity=\"1\" /><path clip-path=\"url(#clip190)\" d=\"M 0 0 M2076.2 1251.69 Q2075.48 1251.27 2074.63 1251.09 Q2073.79 1250.88 2072.78 1250.88 Q2069.17 1250.88 2067.22 1253.24 Q2065.3 1255.58 2065.3 1259.98 L2065.3 1273.64 L2061.02 1273.64 L2061.02 1247.71 L2065.3 1247.71 L2065.3 1251.74 Q2066.64 1249.38 2068.79 1248.24 Q2070.95 1247.08 2074.03 1247.08 Q2074.47 1247.08 2075 1247.15 Q2075.53 1247.2 2076.18 1247.32 L2076.2 1251.69 Z\" fill=\"#000000\" fill-rule=\"evenodd\" fill-opacity=\"1\" /><path clip-path=\"url(#clip190)\" d=\"M 0 0 M2092.45 1260.6 Q2087.29 1260.6 2085.3 1261.78 Q2083.31 1262.96 2083.31 1265.81 Q2083.31 1268.08 2084.79 1269.42 Q2086.29 1270.74 2088.86 1270.74 Q2092.41 1270.74 2094.54 1268.24 Q2096.69 1265.72 2096.69 1261.55 L2096.69 1260.6 L2092.45 1260.6 M2100.95 1258.84 L2100.95 1273.64 L2096.69 1273.64 L2096.69 1269.7 Q2095.23 1272.06 2093.05 1273.2 Q2090.88 1274.31 2087.73 1274.31 Q2083.75 1274.31 2081.39 1272.08 Q2079.05 1269.84 2079.05 1266.09 Q2079.05 1261.71 2081.97 1259.49 Q2084.91 1257.27 2090.72 1257.27 L2096.69 1257.27 L2096.69 1256.85 Q2096.69 1253.91 2094.74 1252.32 Q2092.82 1250.7 2089.33 1250.7 Q2087.1 1250.7 2085 1251.23 Q2082.89 1251.76 2080.95 1252.83 L2080.95 1248.89 Q2083.29 1247.99 2085.48 1247.55 Q2087.68 1247.08 2089.77 1247.08 Q2095.39 1247.08 2098.17 1250 Q2100.95 1252.92 2100.95 1258.84 Z\" fill=\"#000000\" fill-rule=\"evenodd\" fill-opacity=\"1\" /><path clip-path=\"url(#clip190)\" d=\"M 0 0 M2105.41 1247.71 L2109.67 1247.71 L2109.67 1273.64 L2105.41 1273.64 L2105.41 1247.71 M2105.41 1237.62 L2109.67 1237.62 L2109.67 1243.01 L2105.41 1243.01 L2105.41 1237.62 Z\" fill=\"#000000\" fill-rule=\"evenodd\" fill-opacity=\"1\" /><path clip-path=\"url(#clip190)\" d=\"M 0 0 M2135.69 1257.99 L2135.69 1273.64 L2131.43 1273.64 L2131.43 1258.13 Q2131.43 1254.45 2130 1252.62 Q2128.56 1250.79 2125.69 1250.79 Q2122.24 1250.79 2120.25 1252.99 Q2118.26 1255.19 2118.26 1258.98 L2118.26 1273.64 L2113.98 1273.64 L2113.98 1247.71 L2118.26 1247.71 L2118.26 1251.74 Q2119.79 1249.4 2121.85 1248.24 Q2123.93 1247.08 2126.64 1247.08 Q2131.11 1247.08 2133.4 1249.86 Q2135.69 1252.62 2135.69 1257.99 Z\" fill=\"#000000\" fill-rule=\"evenodd\" fill-opacity=\"1\" /><path clip-path=\"url(#clip190)\" d=\"M 0 0 M2140.16 1247.71 L2144.42 1247.71 L2144.42 1273.64 L2140.16 1273.64 L2140.16 1247.71 M2140.16 1237.62 L2144.42 1237.62 L2144.42 1243.01 L2140.16 1243.01 L2140.16 1237.62 Z\" fill=\"#000000\" fill-rule=\"evenodd\" fill-opacity=\"1\" /><path clip-path=\"url(#clip190)\" d=\"M 0 0 M2170.44 1257.99 L2170.44 1273.64 L2166.18 1273.64 L2166.18 1258.13 Q2166.18 1254.45 2164.74 1252.62 Q2163.31 1250.79 2160.44 1250.79 Q2156.99 1250.79 2155 1252.99 Q2153.01 1255.19 2153.01 1258.98 L2153.01 1273.64 L2148.72 1273.64 L2148.72 1247.71 L2153.01 1247.71 L2153.01 1251.74 Q2154.54 1249.4 2156.6 1248.24 Q2158.68 1247.08 2161.39 1247.08 Q2165.85 1247.08 2168.15 1249.86 Q2170.44 1252.62 2170.44 1257.99 Z\" fill=\"#000000\" fill-rule=\"evenodd\" fill-opacity=\"1\" /><path clip-path=\"url(#clip190)\" d=\"M 0 0 M2191.97 1260.37 Q2191.97 1255.74 2190.04 1253.2 Q2188.15 1250.65 2184.7 1250.65 Q2181.27 1250.65 2179.35 1253.2 Q2177.45 1255.74 2177.45 1260.37 Q2177.45 1264.98 2179.35 1267.52 Q2181.27 1270.07 2184.7 1270.07 Q2188.15 1270.07 2190.04 1267.52 Q2191.97 1264.98 2191.97 1260.37 M2196.22 1270.42 Q2196.22 1277.04 2193.28 1280.26 Q2190.35 1283.5 2184.28 1283.5 Q2182.03 1283.5 2180.04 1283.15 Q2178.05 1282.83 2176.18 1282.13 L2176.18 1277.99 Q2178.05 1279.01 2179.88 1279.49 Q2181.71 1279.98 2183.61 1279.98 Q2187.8 1279.98 2189.88 1277.78 Q2191.97 1275.6 2191.97 1271.18 L2191.97 1269.08 Q2190.65 1271.37 2188.59 1272.5 Q2186.53 1273.64 2183.66 1273.64 Q2178.89 1273.64 2175.97 1270 Q2173.05 1266.37 2173.05 1260.37 Q2173.05 1254.35 2175.97 1250.72 Q2178.89 1247.08 2183.66 1247.08 Q2186.53 1247.08 2188.59 1248.22 Q2190.65 1249.35 2191.97 1251.64 L2191.97 1247.71 L2196.22 1247.71 L2196.22 1270.42 Z\" fill=\"#000000\" fill-rule=\"evenodd\" fill-opacity=\"1\" /><polyline clip-path=\"url(#clip190)\" style=\"stroke:#e26f46; stroke-width:4; stroke-opacity:1; fill:none\" points=\"\n",
       "  1867.86,1316.84 2010.65,1316.84 \n",
       "  \"/>\n",
       "<path clip-path=\"url(#clip190)\" d=\"M 0 0 M2047.64 1334.12 L2034.44 1299.56 L2039.33 1299.56 L2050.28 1328.65 L2061.25 1299.56 L2066.11 1299.56 L2052.94 1334.12 L2047.64 1334.12 Z\" fill=\"#000000\" fill-rule=\"evenodd\" fill-opacity=\"1\" /><path clip-path=\"url(#clip190)\" d=\"M 0 0 M2078.68 1321.08 Q2073.52 1321.08 2071.53 1322.26 Q2069.54 1323.44 2069.54 1326.29 Q2069.54 1328.56 2071.02 1329.9 Q2072.52 1331.22 2075.09 1331.22 Q2078.63 1331.22 2080.76 1328.72 Q2082.92 1326.2 2082.92 1322.03 L2082.92 1321.08 L2078.68 1321.08 M2087.17 1319.32 L2087.17 1334.12 L2082.92 1334.12 L2082.92 1330.18 Q2081.46 1332.54 2079.28 1333.68 Q2077.1 1334.79 2073.96 1334.79 Q2069.98 1334.79 2067.61 1332.56 Q2065.28 1330.32 2065.28 1326.57 Q2065.28 1322.19 2068.19 1319.97 Q2071.13 1317.75 2076.94 1317.75 L2082.92 1317.75 L2082.92 1317.33 Q2082.92 1314.39 2080.97 1312.8 Q2079.05 1311.18 2075.55 1311.18 Q2073.33 1311.18 2071.23 1311.71 Q2069.12 1312.24 2067.17 1313.31 L2067.17 1309.37 Q2069.51 1308.47 2071.71 1308.03 Q2073.91 1307.56 2075.99 1307.56 Q2081.62 1307.56 2084.4 1310.48 Q2087.17 1313.4 2087.17 1319.32 Z\" fill=\"#000000\" fill-rule=\"evenodd\" fill-opacity=\"1\" /><path clip-path=\"url(#clip190)\" d=\"M 0 0 M2091.64 1298.1 L2095.9 1298.1 L2095.9 1334.12 L2091.64 1334.12 L2091.64 1298.1 Z\" fill=\"#000000\" fill-rule=\"evenodd\" fill-opacity=\"1\" /><path clip-path=\"url(#clip190)\" d=\"M 0 0 M2100.37 1308.19 L2104.63 1308.19 L2104.63 1334.12 L2100.37 1334.12 L2100.37 1308.19 M2100.37 1298.1 L2104.63 1298.1 L2104.63 1303.49 L2100.37 1303.49 L2100.37 1298.1 Z\" fill=\"#000000\" fill-rule=\"evenodd\" fill-opacity=\"1\" /><path clip-path=\"url(#clip190)\" d=\"M 0 0 M2126.16 1312.12 L2126.16 1298.1 L2130.41 1298.1 L2130.41 1334.12 L2126.16 1334.12 L2126.16 1330.23 Q2124.81 1332.54 2122.75 1333.68 Q2120.72 1334.79 2117.85 1334.79 Q2113.15 1334.79 2110.18 1331.04 Q2107.24 1327.29 2107.24 1321.18 Q2107.24 1315.06 2110.18 1311.31 Q2113.15 1307.56 2117.85 1307.56 Q2120.72 1307.56 2122.75 1308.7 Q2124.81 1309.81 2126.16 1312.12 M2111.64 1321.18 Q2111.64 1325.87 2113.56 1328.56 Q2115.51 1331.22 2118.89 1331.22 Q2122.27 1331.22 2124.21 1328.56 Q2126.16 1325.87 2126.16 1321.18 Q2126.16 1316.48 2124.21 1313.81 Q2122.27 1311.13 2118.89 1311.13 Q2115.51 1311.13 2113.56 1313.81 Q2111.64 1316.48 2111.64 1321.18 Z\" fill=\"#000000\" fill-rule=\"evenodd\" fill-opacity=\"1\" /><path clip-path=\"url(#clip190)\" d=\"M 0 0 M2146.66 1321.08 Q2141.5 1321.08 2139.51 1322.26 Q2137.52 1323.44 2137.52 1326.29 Q2137.52 1328.56 2139 1329.9 Q2140.51 1331.22 2143.08 1331.22 Q2146.62 1331.22 2148.75 1328.72 Q2150.9 1326.2 2150.9 1322.03 L2150.9 1321.08 L2146.66 1321.08 M2155.16 1319.32 L2155.16 1334.12 L2150.9 1334.12 L2150.9 1330.18 Q2149.44 1332.54 2147.27 1333.68 Q2145.09 1334.79 2141.94 1334.79 Q2137.96 1334.79 2135.6 1332.56 Q2133.26 1330.32 2133.26 1326.57 Q2133.26 1322.19 2136.18 1319.97 Q2139.12 1317.75 2144.93 1317.75 L2150.9 1317.75 L2150.9 1317.33 Q2150.9 1314.39 2148.96 1312.8 Q2147.04 1311.18 2143.54 1311.18 Q2141.32 1311.18 2139.21 1311.71 Q2137.1 1312.24 2135.16 1313.31 L2135.16 1309.37 Q2137.5 1308.47 2139.7 1308.03 Q2141.9 1307.56 2143.98 1307.56 Q2149.6 1307.56 2152.38 1310.48 Q2155.16 1313.4 2155.16 1319.32 Z\" fill=\"#000000\" fill-rule=\"evenodd\" fill-opacity=\"1\" /><path clip-path=\"url(#clip190)\" d=\"M 0 0 M2163.84 1300.83 L2163.84 1308.19 L2172.61 1308.19 L2172.61 1311.5 L2163.84 1311.5 L2163.84 1325.57 Q2163.84 1328.74 2164.7 1329.65 Q2165.58 1330.55 2168.24 1330.55 L2172.61 1330.55 L2172.61 1334.12 L2168.24 1334.12 Q2163.31 1334.12 2161.43 1332.29 Q2159.56 1330.43 2159.56 1325.57 L2159.56 1311.5 L2156.43 1311.5 L2156.43 1308.19 L2159.56 1308.19 L2159.56 1300.83 L2163.84 1300.83 Z\" fill=\"#000000\" fill-rule=\"evenodd\" fill-opacity=\"1\" /><path clip-path=\"url(#clip190)\" d=\"M 0 0 M2177.08 1308.19 L2181.34 1308.19 L2181.34 1334.12 L2177.08 1334.12 L2177.08 1308.19 M2177.08 1298.1 L2181.34 1298.1 L2181.34 1303.49 L2177.08 1303.49 L2177.08 1298.1 Z\" fill=\"#000000\" fill-rule=\"evenodd\" fill-opacity=\"1\" /><path clip-path=\"url(#clip190)\" d=\"M 0 0 M2195.85 1311.18 Q2192.43 1311.18 2190.44 1313.86 Q2188.45 1316.52 2188.45 1321.18 Q2188.45 1325.83 2190.41 1328.51 Q2192.41 1331.18 2195.85 1331.18 Q2199.26 1331.18 2201.25 1328.49 Q2203.24 1325.81 2203.24 1321.18 Q2203.24 1316.57 2201.25 1313.88 Q2199.26 1311.18 2195.85 1311.18 M2195.85 1307.56 Q2201.41 1307.56 2204.58 1311.18 Q2207.75 1314.79 2207.75 1321.18 Q2207.75 1327.54 2204.58 1331.18 Q2201.41 1334.79 2195.85 1334.79 Q2190.28 1334.79 2187.1 1331.18 Q2183.96 1327.54 2183.96 1321.18 Q2183.96 1314.79 2187.1 1311.18 Q2190.28 1307.56 2195.85 1307.56 Z\" fill=\"#000000\" fill-rule=\"evenodd\" fill-opacity=\"1\" /><path clip-path=\"url(#clip190)\" d=\"M 0 0 M2233.77 1318.47 L2233.77 1334.12 L2229.51 1334.12 L2229.51 1318.61 Q2229.51 1314.93 2228.08 1313.1 Q2226.64 1311.27 2223.77 1311.27 Q2220.32 1311.27 2218.33 1313.47 Q2216.34 1315.67 2216.34 1319.46 L2216.34 1334.12 L2212.06 1334.12 L2212.06 1308.19 L2216.34 1308.19 L2216.34 1312.22 Q2217.87 1309.88 2219.93 1308.72 Q2222.01 1307.56 2224.72 1307.56 Q2229.19 1307.56 2231.48 1310.34 Q2233.77 1313.1 2233.77 1318.47 Z\" fill=\"#000000\" fill-rule=\"evenodd\" fill-opacity=\"1\" /></svg>\n"
      ]
     },
     "execution_count": 122,
     "metadata": {},
     "output_type": "execute_result"
    }
   ],
   "source": [
    "plot(data_schedule, training_losses, label=\"Training\", legend=:bottomright)\n",
    "plot!(data_schedule, valid_losses, label=\"Validation\")\n",
    "xlabel!(\"Number of Training Samples\")\n",
    "ylabel!(\"Classification Accuracy\")"
   ]
  },
  {
   "cell_type": "code",
   "execution_count": 123,
   "metadata": {},
   "outputs": [
    {
     "data": {
      "image/svg+xml": [
       "<?xml version=\"1.0\" encoding=\"utf-8\"?>\n",
       "<svg xmlns=\"http://www.w3.org/2000/svg\" xmlns:xlink=\"http://www.w3.org/1999/xlink\" width=\"600\" height=\"400\" viewBox=\"0 0 2400 1600\">\n",
       "<defs>\n",
       "  <clipPath id=\"clip230\">\n",
       "    <rect x=\"0\" y=\"0\" width=\"2400\" height=\"1600\"/>\n",
       "  </clipPath>\n",
       "</defs>\n",
       "<path clip-path=\"url(#clip230)\" d=\"\n",
       "M0 1600 L2400 1600 L2400 0 L0 0  Z\n",
       "  \" fill=\"#ffffff\" fill-rule=\"evenodd\" fill-opacity=\"1\"/>\n",
       "<defs>\n",
       "  <clipPath id=\"clip231\">\n",
       "    <rect x=\"480\" y=\"0\" width=\"1681\" height=\"1600\"/>\n",
       "  </clipPath>\n",
       "</defs>\n",
       "<path clip-path=\"url(#clip230)\" d=\"\n",
       "M238.037 1423.18 L2352.76 1423.18 L2352.76 47.2441 L238.037 47.2441  Z\n",
       "  \" fill=\"#ffffff\" fill-rule=\"evenodd\" fill-opacity=\"1\"/>\n",
       "<defs>\n",
       "  <clipPath id=\"clip232\">\n",
       "    <rect x=\"238\" y=\"47\" width=\"2116\" height=\"1377\"/>\n",
       "  </clipPath>\n",
       "</defs>\n",
       "<polyline clip-path=\"url(#clip232)\" style=\"stroke:#000000; stroke-width:2; stroke-opacity:0.1; fill:none\" points=\"\n",
       "  264.113,1423.18 264.113,47.2441 \n",
       "  \"/>\n",
       "<polyline clip-path=\"url(#clip232)\" style=\"stroke:#000000; stroke-width:2; stroke-opacity:0.1; fill:none\" points=\"\n",
       "  908.665,1423.18 908.665,47.2441 \n",
       "  \"/>\n",
       "<polyline clip-path=\"url(#clip232)\" style=\"stroke:#000000; stroke-width:2; stroke-opacity:0.1; fill:none\" points=\"\n",
       "  1553.22,1423.18 1553.22,47.2441 \n",
       "  \"/>\n",
       "<polyline clip-path=\"url(#clip232)\" style=\"stroke:#000000; stroke-width:2; stroke-opacity:0.1; fill:none\" points=\"\n",
       "  2197.77,1423.18 2197.77,47.2441 \n",
       "  \"/>\n",
       "<polyline clip-path=\"url(#clip232)\" style=\"stroke:#000000; stroke-width:2; stroke-opacity:0.1; fill:none\" points=\"\n",
       "  238.037,1384.24 2352.76,1384.24 \n",
       "  \"/>\n",
       "<polyline clip-path=\"url(#clip232)\" style=\"stroke:#000000; stroke-width:2; stroke-opacity:0.1; fill:none\" points=\"\n",
       "  238.037,951.554 2352.76,951.554 \n",
       "  \"/>\n",
       "<polyline clip-path=\"url(#clip232)\" style=\"stroke:#000000; stroke-width:2; stroke-opacity:0.1; fill:none\" points=\"\n",
       "  238.037,518.87 2352.76,518.87 \n",
       "  \"/>\n",
       "<polyline clip-path=\"url(#clip232)\" style=\"stroke:#000000; stroke-width:2; stroke-opacity:0.1; fill:none\" points=\"\n",
       "  238.037,86.1857 2352.76,86.1857 \n",
       "  \"/>\n",
       "<polyline clip-path=\"url(#clip230)\" style=\"stroke:#000000; stroke-width:4; stroke-opacity:1; fill:none\" points=\"\n",
       "  238.037,1423.18 2352.76,1423.18 \n",
       "  \"/>\n",
       "<polyline clip-path=\"url(#clip230)\" style=\"stroke:#000000; stroke-width:4; stroke-opacity:1; fill:none\" points=\"\n",
       "  238.037,1423.18 238.037,47.2441 \n",
       "  \"/>\n",
       "<polyline clip-path=\"url(#clip230)\" style=\"stroke:#000000; stroke-width:4; stroke-opacity:1; fill:none\" points=\"\n",
       "  264.113,1423.18 264.113,1406.67 \n",
       "  \"/>\n",
       "<polyline clip-path=\"url(#clip230)\" style=\"stroke:#000000; stroke-width:4; stroke-opacity:1; fill:none\" points=\"\n",
       "  908.665,1423.18 908.665,1406.67 \n",
       "  \"/>\n",
       "<polyline clip-path=\"url(#clip230)\" style=\"stroke:#000000; stroke-width:4; stroke-opacity:1; fill:none\" points=\"\n",
       "  1553.22,1423.18 1553.22,1406.67 \n",
       "  \"/>\n",
       "<polyline clip-path=\"url(#clip230)\" style=\"stroke:#000000; stroke-width:4; stroke-opacity:1; fill:none\" points=\"\n",
       "  2197.77,1423.18 2197.77,1406.67 \n",
       "  \"/>\n",
       "<polyline clip-path=\"url(#clip230)\" style=\"stroke:#000000; stroke-width:4; stroke-opacity:1; fill:none\" points=\"\n",
       "  238.037,1384.24 263.414,1384.24 \n",
       "  \"/>\n",
       "<polyline clip-path=\"url(#clip230)\" style=\"stroke:#000000; stroke-width:4; stroke-opacity:1; fill:none\" points=\"\n",
       "  238.037,951.554 263.414,951.554 \n",
       "  \"/>\n",
       "<polyline clip-path=\"url(#clip230)\" style=\"stroke:#000000; stroke-width:4; stroke-opacity:1; fill:none\" points=\"\n",
       "  238.037,518.87 263.414,518.87 \n",
       "  \"/>\n",
       "<polyline clip-path=\"url(#clip230)\" style=\"stroke:#000000; stroke-width:4; stroke-opacity:1; fill:none\" points=\"\n",
       "  238.037,86.1857 263.414,86.1857 \n",
       "  \"/>\n",
       "<path clip-path=\"url(#clip230)\" d=\"M 0 0 M264.113 1445.17 Q260.502 1445.17 258.674 1448.74 Q256.868 1452.28 256.868 1459.41 Q256.868 1466.51 258.674 1470.08 Q260.502 1473.62 264.113 1473.62 Q267.748 1473.62 269.553 1470.08 Q271.382 1466.51 271.382 1459.41 Q271.382 1452.28 269.553 1448.74 Q267.748 1445.17 264.113 1445.17 M264.113 1441.47 Q269.924 1441.47 272.979 1446.07 Q276.058 1450.66 276.058 1459.41 Q276.058 1468.13 272.979 1472.74 Q269.924 1477.32 264.113 1477.32 Q258.303 1477.32 255.225 1472.74 Q252.169 1468.13 252.169 1459.41 Q252.169 1450.66 255.225 1446.07 Q258.303 1441.47 264.113 1441.47 Z\" fill=\"#000000\" fill-rule=\"evenodd\" fill-opacity=\"1\" /><path clip-path=\"url(#clip230)\" d=\"M 0 0 M898.943 1442.09 L917.3 1442.09 L917.3 1446.03 L903.226 1446.03 L903.226 1454.5 Q904.244 1454.15 905.263 1453.99 Q906.281 1453.8 907.3 1453.8 Q913.087 1453.8 916.466 1456.98 Q919.846 1460.15 919.846 1465.56 Q919.846 1471.14 916.374 1474.24 Q912.902 1477.32 906.582 1477.32 Q904.406 1477.32 902.138 1476.95 Q899.892 1476.58 897.485 1475.84 L897.485 1471.14 Q899.568 1472.28 901.791 1472.83 Q904.013 1473.39 906.49 1473.39 Q910.494 1473.39 912.832 1471.28 Q915.17 1469.18 915.17 1465.56 Q915.17 1461.95 912.832 1459.85 Q910.494 1457.74 906.49 1457.74 Q904.615 1457.74 902.74 1458.16 Q900.888 1458.57 898.943 1459.45 L898.943 1442.09 Z\" fill=\"#000000\" fill-rule=\"evenodd\" fill-opacity=\"1\" /><path clip-path=\"url(#clip230)\" d=\"M 0 0 M1530.09 1472.72 L1537.73 1472.72 L1537.73 1446.35 L1529.42 1448.02 L1529.42 1443.76 L1537.69 1442.09 L1542.36 1442.09 L1542.36 1472.72 L1550 1472.72 L1550 1476.65 L1530.09 1476.65 L1530.09 1472.72 Z\" fill=\"#000000\" fill-rule=\"evenodd\" fill-opacity=\"1\" /><path clip-path=\"url(#clip230)\" d=\"M 0 0 M1565.07 1445.17 Q1561.46 1445.17 1559.63 1448.74 Q1557.82 1452.28 1557.82 1459.41 Q1557.82 1466.51 1559.63 1470.08 Q1561.46 1473.62 1565.07 1473.62 Q1568.7 1473.62 1570.51 1470.08 Q1572.34 1466.51 1572.34 1459.41 Q1572.34 1452.28 1570.51 1448.74 Q1568.7 1445.17 1565.07 1445.17 M1565.07 1441.47 Q1570.88 1441.47 1573.93 1446.07 Q1577.01 1450.66 1577.01 1459.41 Q1577.01 1468.13 1573.93 1472.74 Q1570.88 1477.32 1565.07 1477.32 Q1559.26 1477.32 1556.18 1472.74 Q1553.12 1468.13 1553.12 1459.41 Q1553.12 1450.66 1556.18 1446.07 Q1559.26 1441.47 1565.07 1441.47 Z\" fill=\"#000000\" fill-rule=\"evenodd\" fill-opacity=\"1\" /><path clip-path=\"url(#clip230)\" d=\"M 0 0 M2175.14 1472.72 L2182.78 1472.72 L2182.78 1446.35 L2174.47 1448.02 L2174.47 1443.76 L2182.73 1442.09 L2187.41 1442.09 L2187.41 1472.72 L2195.05 1472.72 L2195.05 1476.65 L2175.14 1476.65 L2175.14 1472.72 Z\" fill=\"#000000\" fill-rule=\"evenodd\" fill-opacity=\"1\" /><path clip-path=\"url(#clip230)\" d=\"M 0 0 M2200.17 1442.09 L2218.52 1442.09 L2218.52 1446.03 L2204.45 1446.03 L2204.45 1454.5 Q2205.47 1454.15 2206.48 1453.99 Q2207.5 1453.8 2208.52 1453.8 Q2214.31 1453.8 2217.69 1456.98 Q2221.07 1460.15 2221.07 1465.56 Q2221.07 1471.14 2217.6 1474.24 Q2214.12 1477.32 2207.8 1477.32 Q2205.63 1477.32 2203.36 1476.95 Q2201.11 1476.58 2198.71 1475.84 L2198.71 1471.14 Q2200.79 1472.28 2203.01 1472.83 Q2205.23 1473.39 2207.71 1473.39 Q2211.72 1473.39 2214.05 1471.28 Q2216.39 1469.18 2216.39 1465.56 Q2216.39 1461.95 2214.05 1459.85 Q2211.72 1457.74 2207.71 1457.74 Q2205.84 1457.74 2203.96 1458.16 Q2202.11 1458.57 2200.17 1459.45 L2200.17 1442.09 Z\" fill=\"#000000\" fill-rule=\"evenodd\" fill-opacity=\"1\" /><path clip-path=\"url(#clip230)\" d=\"M 0 0 M140.01 1370.04 Q136.399 1370.04 134.57 1373.6 Q132.765 1377.14 132.765 1384.27 Q132.765 1391.38 134.57 1394.94 Q136.399 1398.49 140.01 1398.49 Q143.644 1398.49 145.45 1394.94 Q147.279 1391.38 147.279 1384.27 Q147.279 1377.14 145.45 1373.6 Q143.644 1370.04 140.01 1370.04 M140.01 1366.33 Q145.82 1366.33 148.876 1370.94 Q151.954 1375.52 151.954 1384.27 Q151.954 1393 148.876 1397.61 Q145.82 1402.19 140.01 1402.19 Q134.2 1402.19 131.121 1397.61 Q128.066 1393 128.066 1384.27 Q128.066 1375.52 131.121 1370.94 Q134.2 1366.33 140.01 1366.33 Z\" fill=\"#000000\" fill-rule=\"evenodd\" fill-opacity=\"1\" /><path clip-path=\"url(#clip230)\" d=\"M 0 0 M157.024 1395.64 L161.908 1395.64 L161.908 1401.52 L157.024 1401.52 L157.024 1395.64 Z\" fill=\"#000000\" fill-rule=\"evenodd\" fill-opacity=\"1\" /><path clip-path=\"url(#clip230)\" d=\"M 0 0 M165.797 1366.96 L188.019 1366.96 L188.019 1368.95 L175.473 1401.52 L170.589 1401.52 L182.394 1370.89 L165.797 1370.89 L165.797 1366.96 Z\" fill=\"#000000\" fill-rule=\"evenodd\" fill-opacity=\"1\" /><path clip-path=\"url(#clip230)\" d=\"M 0 0 M193.135 1366.96 L211.491 1366.96 L211.491 1370.89 L197.417 1370.89 L197.417 1379.37 Q198.436 1379.02 199.454 1378.86 Q200.473 1378.67 201.491 1378.67 Q207.278 1378.67 210.658 1381.84 Q214.037 1385.01 214.037 1390.43 Q214.037 1396.01 210.565 1399.11 Q207.093 1402.19 200.774 1402.19 Q198.598 1402.19 196.329 1401.82 Q194.084 1401.45 191.676 1400.71 L191.676 1396.01 Q193.76 1397.14 195.982 1397.7 Q198.204 1398.25 200.681 1398.25 Q204.686 1398.25 207.024 1396.15 Q209.362 1394.04 209.362 1390.43 Q209.362 1386.82 207.024 1384.71 Q204.686 1382.61 200.681 1382.61 Q198.806 1382.61 196.931 1383.02 Q195.079 1383.44 193.135 1384.32 L193.135 1366.96 Z\" fill=\"#000000\" fill-rule=\"evenodd\" fill-opacity=\"1\" /><path clip-path=\"url(#clip230)\" d=\"M 0 0 M138.205 937.353 Q134.593 937.353 132.765 940.918 Q130.959 944.459 130.959 951.589 Q130.959 958.695 132.765 962.26 Q134.593 965.802 138.205 965.802 Q141.839 965.802 143.644 962.26 Q145.473 958.695 145.473 951.589 Q145.473 944.459 143.644 940.918 Q141.839 937.353 138.205 937.353 M138.205 933.649 Q144.015 933.649 147.07 938.256 Q150.149 942.839 150.149 951.589 Q150.149 960.316 147.07 964.922 Q144.015 969.505 138.205 969.505 Q132.394 969.505 129.316 964.922 Q126.26 960.316 126.26 951.589 Q126.26 942.839 129.316 938.256 Q132.394 933.649 138.205 933.649 Z\" fill=\"#000000\" fill-rule=\"evenodd\" fill-opacity=\"1\" /><path clip-path=\"url(#clip230)\" d=\"M 0 0 M155.218 962.954 L160.103 962.954 L160.103 968.834 L155.218 968.834 L155.218 962.954 Z\" fill=\"#000000\" fill-rule=\"evenodd\" fill-opacity=\"1\" /><path clip-path=\"url(#clip230)\" d=\"M 0 0 M175.172 952.422 Q171.839 952.422 169.917 954.205 Q168.019 955.987 168.019 959.112 Q168.019 962.237 169.917 964.019 Q171.839 965.802 175.172 965.802 Q178.505 965.802 180.427 964.019 Q182.348 962.214 182.348 959.112 Q182.348 955.987 180.427 954.205 Q178.528 952.422 175.172 952.422 M170.496 950.431 Q167.487 949.691 165.797 947.63 Q164.13 945.57 164.13 942.607 Q164.13 938.464 167.07 936.056 Q170.033 933.649 175.172 933.649 Q180.334 933.649 183.274 936.056 Q186.214 938.464 186.214 942.607 Q186.214 945.57 184.524 947.63 Q182.857 949.691 179.871 950.431 Q183.251 951.218 185.126 953.51 Q187.024 955.802 187.024 959.112 Q187.024 964.135 183.945 966.82 Q180.889 969.505 175.172 969.505 Q169.454 969.505 166.376 966.82 Q163.32 964.135 163.32 959.112 Q163.32 955.802 165.218 953.51 Q167.116 951.218 170.496 950.431 M168.783 943.047 Q168.783 945.732 170.45 947.237 Q172.14 948.742 175.172 948.742 Q178.181 948.742 179.871 947.237 Q181.584 945.732 181.584 943.047 Q181.584 940.362 179.871 938.857 Q178.181 937.353 175.172 937.353 Q172.14 937.353 170.45 938.857 Q168.783 940.362 168.783 943.047 Z\" fill=\"#000000\" fill-rule=\"evenodd\" fill-opacity=\"1\" /><path clip-path=\"url(#clip230)\" d=\"M 0 0 M202.093 937.353 Q198.482 937.353 196.653 940.918 Q194.848 944.459 194.848 951.589 Q194.848 958.695 196.653 962.26 Q198.482 965.802 202.093 965.802 Q205.727 965.802 207.533 962.26 Q209.362 958.695 209.362 951.589 Q209.362 944.459 207.533 940.918 Q205.727 937.353 202.093 937.353 M202.093 933.649 Q207.903 933.649 210.959 938.256 Q214.037 942.839 214.037 951.589 Q214.037 960.316 210.959 964.922 Q207.903 969.505 202.093 969.505 Q196.283 969.505 193.204 964.922 Q190.149 960.316 190.149 951.589 Q190.149 942.839 193.204 938.256 Q196.283 933.649 202.093 933.649 Z\" fill=\"#000000\" fill-rule=\"evenodd\" fill-opacity=\"1\" /><path clip-path=\"url(#clip230)\" d=\"M 0 0 M139.2 504.669 Q135.589 504.669 133.76 508.233 Q131.955 511.775 131.955 518.905 Q131.955 526.011 133.76 529.576 Q135.589 533.117 139.2 533.117 Q142.834 533.117 144.64 529.576 Q146.468 526.011 146.468 518.905 Q146.468 511.775 144.64 508.233 Q142.834 504.669 139.2 504.669 M139.2 500.965 Q145.01 500.965 148.066 505.571 Q151.144 510.155 151.144 518.905 Q151.144 527.631 148.066 532.238 Q145.01 536.821 139.2 536.821 Q133.39 536.821 130.311 532.238 Q127.256 527.631 127.256 518.905 Q127.256 510.155 130.311 505.571 Q133.39 500.965 139.2 500.965 Z\" fill=\"#000000\" fill-rule=\"evenodd\" fill-opacity=\"1\" /><path clip-path=\"url(#clip230)\" d=\"M 0 0 M156.214 530.27 L161.098 530.27 L161.098 536.15 L156.214 536.15 L156.214 530.27 Z\" fill=\"#000000\" fill-rule=\"evenodd\" fill-opacity=\"1\" /><path clip-path=\"url(#clip230)\" d=\"M 0 0 M176.167 519.738 Q172.834 519.738 170.913 521.52 Q169.015 523.303 169.015 526.428 Q169.015 529.553 170.913 531.335 Q172.834 533.117 176.167 533.117 Q179.501 533.117 181.422 531.335 Q183.343 529.53 183.343 526.428 Q183.343 523.303 181.422 521.52 Q179.524 519.738 176.167 519.738 M171.491 517.747 Q168.482 517.006 166.792 514.946 Q165.126 512.886 165.126 509.923 Q165.126 505.78 168.065 503.372 Q171.028 500.965 176.167 500.965 Q181.329 500.965 184.269 503.372 Q187.209 505.78 187.209 509.923 Q187.209 512.886 185.519 514.946 Q183.852 517.006 180.866 517.747 Q184.246 518.534 186.121 520.826 Q188.019 523.118 188.019 526.428 Q188.019 531.451 184.94 534.136 Q181.885 536.821 176.167 536.821 Q170.45 536.821 167.371 534.136 Q164.316 531.451 164.316 526.428 Q164.316 523.118 166.214 520.826 Q168.112 518.534 171.491 517.747 M169.778 510.363 Q169.778 513.048 171.445 514.553 Q173.135 516.057 176.167 516.057 Q179.177 516.057 180.866 514.553 Q182.579 513.048 182.579 510.363 Q182.579 507.678 180.866 506.173 Q179.177 504.669 176.167 504.669 Q173.135 504.669 171.445 506.173 Q169.778 507.678 169.778 510.363 Z\" fill=\"#000000\" fill-rule=\"evenodd\" fill-opacity=\"1\" /><path clip-path=\"url(#clip230)\" d=\"M 0 0 M193.135 501.59 L211.491 501.59 L211.491 505.525 L197.417 505.525 L197.417 513.997 Q198.436 513.65 199.454 513.488 Q200.473 513.303 201.491 513.303 Q207.278 513.303 210.658 516.474 Q214.037 519.645 214.037 525.062 Q214.037 530.641 210.565 533.742 Q207.093 536.821 200.774 536.821 Q198.598 536.821 196.329 536.451 Q194.084 536.08 191.676 535.34 L191.676 530.641 Q193.76 531.775 195.982 532.33 Q198.204 532.886 200.681 532.886 Q204.686 532.886 207.024 530.78 Q209.362 528.673 209.362 525.062 Q209.362 521.451 207.024 519.344 Q204.686 517.238 200.681 517.238 Q198.806 517.238 196.931 517.655 Q195.079 518.071 193.135 518.951 L193.135 501.59 Z\" fill=\"#000000\" fill-rule=\"evenodd\" fill-opacity=\"1\" /><path clip-path=\"url(#clip230)\" d=\"M 0 0 M138.297 71.9844 Q134.686 71.9844 132.857 75.5492 Q131.052 79.0908 131.052 86.2204 Q131.052 93.3268 132.857 96.8916 Q134.686 100.433 138.297 100.433 Q141.931 100.433 143.737 96.8916 Q145.566 93.3268 145.566 86.2204 Q145.566 79.0908 143.737 75.5492 Q141.931 71.9844 138.297 71.9844 M138.297 68.2807 Q144.107 68.2807 147.163 72.8871 Q150.242 77.4704 150.242 86.2204 Q150.242 94.9472 147.163 99.5537 Q144.107 104.137 138.297 104.137 Q132.487 104.137 129.408 99.5537 Q126.353 94.9472 126.353 86.2204 Q126.353 77.4704 129.408 72.8871 Q132.487 68.2807 138.297 68.2807 Z\" fill=\"#000000\" fill-rule=\"evenodd\" fill-opacity=\"1\" /><path clip-path=\"url(#clip230)\" d=\"M 0 0 M155.311 97.5861 L160.195 97.5861 L160.195 103.466 L155.311 103.466 L155.311 97.5861 Z\" fill=\"#000000\" fill-rule=\"evenodd\" fill-opacity=\"1\" /><path clip-path=\"url(#clip230)\" d=\"M 0 0 M165.403 102.748 L165.403 98.4888 Q167.163 99.3222 168.968 99.762 Q170.774 100.202 172.51 100.202 Q177.14 100.202 179.57 97.1 Q182.024 93.975 182.371 87.6324 Q181.028 89.6232 178.968 90.688 Q176.908 91.7528 174.408 91.7528 Q169.223 91.7528 166.19 88.6278 Q163.181 85.4797 163.181 80.0399 Q163.181 74.7158 166.329 71.4983 Q169.478 68.2807 174.709 68.2807 Q180.704 68.2807 183.852 72.8871 Q187.024 77.4704 187.024 86.2204 Q187.024 94.3916 183.135 99.2759 Q179.269 104.137 172.718 104.137 Q170.959 104.137 169.153 103.79 Q167.348 103.443 165.403 102.748 M174.709 88.0954 Q177.857 88.0954 179.686 85.9426 Q181.538 83.7899 181.538 80.0399 Q181.538 76.313 179.686 74.1603 Q177.857 71.9844 174.709 71.9844 Q171.561 71.9844 169.709 74.1603 Q167.88 76.313 167.88 80.0399 Q167.88 83.7899 169.709 85.9426 Q171.561 88.0954 174.709 88.0954 Z\" fill=\"#000000\" fill-rule=\"evenodd\" fill-opacity=\"1\" /><path clip-path=\"url(#clip230)\" d=\"M 0 0 M202.093 71.9844 Q198.482 71.9844 196.653 75.5492 Q194.848 79.0908 194.848 86.2204 Q194.848 93.3268 196.653 96.8916 Q198.482 100.433 202.093 100.433 Q205.727 100.433 207.533 96.8916 Q209.362 93.3268 209.362 86.2204 Q209.362 79.0908 207.533 75.5492 Q205.727 71.9844 202.093 71.9844 M202.093 68.2807 Q207.903 68.2807 210.959 72.8871 Q214.037 77.4704 214.037 86.2204 Q214.037 94.9472 210.959 99.5537 Q207.903 104.137 202.093 104.137 Q196.283 104.137 193.204 99.5537 Q190.149 94.9472 190.149 86.2204 Q190.149 77.4704 193.204 72.8871 Q196.283 68.2807 202.093 68.2807 Z\" fill=\"#000000\" fill-rule=\"evenodd\" fill-opacity=\"1\" /><path clip-path=\"url(#clip230)\" d=\"M 0 0 M1276.54 1508.52 L1282.97 1508.52 L1282.97 1528.61 L1304.29 1508.52 L1312.57 1508.52 L1288.98 1530.68 L1314.26 1556.04 L1305.79 1556.04 L1282.97 1533.16 L1282.97 1556.04 L1276.54 1556.04 L1276.54 1508.52 Z\" fill=\"#000000\" fill-rule=\"evenodd\" fill-opacity=\"1\" /><path clip-path=\"url(#clip230)\" d=\"M 0 0 M44.1444 1071.26 L50.9239 1071.26 Q47.9002 1074.5 46.4043 1078.2 Q44.9083 1081.86 44.9083 1085.99 Q44.9083 1094.14 49.9054 1098.47 Q54.8707 1102.8 64.2919 1102.8 Q73.6813 1102.8 78.6784 1098.47 Q83.6436 1094.14 83.6436 1085.99 Q83.6436 1081.86 82.1477 1078.2 Q80.6518 1074.5 77.6281 1071.26 L84.3439 1071.26 Q86.6355 1074.63 87.7814 1078.42 Q88.9272 1082.17 88.9272 1086.38 Q88.9272 1097.17 82.3387 1103.37 Q75.7183 1109.58 64.2919 1109.58 Q52.8336 1109.58 46.2451 1103.37 Q39.6248 1097.17 39.6248 1086.38 Q39.6248 1082.11 40.7706 1078.36 Q41.8846 1074.57 44.1444 1071.26 Z\" fill=\"#000000\" fill-rule=\"evenodd\" fill-opacity=\"1\" /><path clip-path=\"url(#clip230)\" d=\"M 0 0 M57.8307 1044.46 Q57.2578 1045.44 57.0032 1046.62 Q56.7167 1047.77 56.7167 1049.17 Q56.7167 1054.13 59.9632 1056.81 Q63.1779 1059.45 69.2253 1059.45 L88.0042 1059.45 L88.0042 1065.34 L52.3562 1065.34 L52.3562 1059.45 L57.8944 1059.45 Q54.6479 1057.6 53.0883 1054.64 Q51.4968 1051.68 51.4968 1047.45 Q51.4968 1046.85 51.5923 1046.11 Q51.656 1045.38 51.8151 1044.49 L57.8307 1044.46 Z\" fill=\"#000000\" fill-rule=\"evenodd\" fill-opacity=\"1\" /><path clip-path=\"url(#clip230)\" d=\"M 0 0 M56.4621 1025.93 Q56.4621 1030.64 60.1542 1033.38 Q63.8145 1036.12 70.212 1036.12 Q76.6095 1036.12 80.3017 1033.41 Q83.9619 1030.68 83.9619 1025.93 Q83.9619 1021.25 80.2698 1018.52 Q76.5777 1015.78 70.212 1015.78 Q63.8781 1015.78 60.186 1018.52 Q56.4621 1021.25 56.4621 1025.93 M51.4968 1025.93 Q51.4968 1018.29 56.4621 1013.93 Q61.4273 1009.57 70.212 1009.57 Q78.9649 1009.57 83.9619 1013.93 Q88.9272 1018.29 88.9272 1025.93 Q88.9272 1033.6 83.9619 1037.96 Q78.9649 1042.29 70.212 1042.29 Q61.4273 1042.29 56.4621 1037.96 Q51.4968 1033.6 51.4968 1025.93 Z\" fill=\"#000000\" fill-rule=\"evenodd\" fill-opacity=\"1\" /><path clip-path=\"url(#clip230)\" d=\"M 0 0 M53.4065 980.705 L58.9447 980.705 Q57.6716 983.188 57.035 985.862 Q56.3984 988.535 56.3984 991.4 Q56.3984 995.76 57.7352 997.957 Q59.072 1000.12 61.7456 1000.12 Q63.7826 1000.12 64.9603 998.561 Q66.1061 997.002 67.1565 992.291 L67.6021 990.286 Q68.9389 984.047 71.3897 981.438 Q73.8086 978.796 78.1691 978.796 Q83.1344 978.796 86.0308 982.742 Q88.9272 986.657 88.9272 993.532 Q88.9272 996.397 88.3543 999.516 Q87.8132 1002.6 86.6992 1006.04 L80.6518 1006.04 Q82.3387 1002.79 83.198 999.643 Q84.0256 996.492 84.0256 993.405 Q84.0256 989.267 82.6251 987.039 Q81.1929 984.811 78.6147 984.811 Q76.2276 984.811 74.9545 986.435 Q73.6813 988.026 72.5037 993.469 L72.0262 995.506 Q70.8804 1000.95 68.5251 1003.37 Q66.138 1005.79 62.0002 1005.79 Q56.9713 1005.79 54.2341 1002.22 Q51.4968 998.657 51.4968 992.1 Q51.4968 988.854 51.9743 985.989 Q52.4517 983.124 53.4065 980.705 Z\" fill=\"#000000\" fill-rule=\"evenodd\" fill-opacity=\"1\" /><path clip-path=\"url(#clip230)\" d=\"M 0 0 M53.4065 949.927 L58.9447 949.927 Q57.6716 952.41 57.035 955.083 Q56.3984 957.757 56.3984 960.622 Q56.3984 964.982 57.7352 967.178 Q59.072 969.343 61.7456 969.343 Q63.7826 969.343 64.9603 967.783 Q66.1061 966.223 67.1565 961.513 L67.6021 959.508 Q68.9389 953.269 71.3897 950.659 Q73.8086 948.018 78.1691 948.018 Q83.1344 948.018 86.0308 951.964 Q88.9272 955.879 88.9272 962.754 Q88.9272 965.619 88.3543 968.738 Q87.8132 971.825 86.6992 975.263 L80.6518 975.263 Q82.3387 972.016 83.198 968.865 Q84.0256 965.714 84.0256 962.627 Q84.0256 958.489 82.6251 956.261 Q81.1929 954.033 78.6147 954.033 Q76.2276 954.033 74.9545 955.656 Q73.6813 957.248 72.5037 962.69 L72.0262 964.728 Q70.8804 970.17 68.5251 972.589 Q66.138 975.008 62.0002 975.008 Q56.9713 975.008 54.2341 971.443 Q51.4968 967.879 51.4968 961.322 Q51.4968 958.075 51.9743 955.211 Q52.4517 952.346 53.4065 949.927 Z\" fill=\"#000000\" fill-rule=\"evenodd\" fill-opacity=\"1\" /><path clip-path=\"url(#clip230)\" d=\"M 0 0 M88.0042 908.646 L40.4842 926.788 L40.4842 920.072 L80.4926 905.017 L40.4842 889.93 L40.4842 883.246 L88.0042 901.357 L88.0042 908.646 Z\" fill=\"#000000\" fill-rule=\"evenodd\" fill-opacity=\"1\" /><path clip-path=\"url(#clip230)\" d=\"M 0 0 M70.0847 865.964 Q70.0847 873.061 71.7079 875.799 Q73.3312 878.536 77.2461 878.536 Q80.3653 878.536 82.2114 876.499 Q84.0256 874.43 84.0256 870.897 Q84.0256 866.027 80.5881 863.099 Q77.1188 860.139 71.3897 860.139 L70.0847 860.139 L70.0847 865.964 M67.6657 854.283 L88.0042 854.283 L88.0042 860.139 L82.5933 860.139 Q85.8398 862.144 87.3994 865.136 Q88.9272 868.128 88.9272 872.457 Q88.9272 877.931 85.8716 881.178 Q82.7843 884.392 77.6281 884.392 Q71.6125 884.392 68.5569 880.382 Q65.5014 876.34 65.5014 868.351 L65.5014 860.139 L64.9285 860.139 Q60.8862 860.139 58.6901 862.813 Q56.4621 865.454 56.4621 870.26 Q56.4621 873.316 57.1941 876.212 Q57.9262 879.109 59.3903 881.782 L53.9795 881.782 Q52.7381 878.568 52.1334 875.544 Q51.4968 872.52 51.4968 869.656 Q51.4968 861.921 55.5072 858.102 Q59.5176 854.283 67.6657 854.283 Z\" fill=\"#000000\" fill-rule=\"evenodd\" fill-opacity=\"1\" /><path clip-path=\"url(#clip230)\" d=\"M 0 0 M38.479 848.14 L38.479 842.283 L88.0042 842.283 L88.0042 848.14 L38.479 848.14 Z\" fill=\"#000000\" fill-rule=\"evenodd\" fill-opacity=\"1\" /><path clip-path=\"url(#clip230)\" d=\"M 0 0 M52.3562 836.14 L52.3562 830.284 L88.0042 830.284 L88.0042 836.14 L52.3562 836.14 M38.479 836.14 L38.479 830.284 L45.895 830.284 L45.895 836.14 L38.479 836.14 Z\" fill=\"#000000\" fill-rule=\"evenodd\" fill-opacity=\"1\" /><path clip-path=\"url(#clip230)\" d=\"M 0 0 M57.7671 800.683 L38.479 800.683 L38.479 794.827 L88.0042 794.827 L88.0042 800.683 L82.657 800.683 Q85.8398 802.529 87.3994 805.362 Q88.9272 808.163 88.9272 812.11 Q88.9272 818.571 83.771 822.645 Q78.6147 826.687 70.212 826.687 Q61.8093 826.687 56.6531 822.645 Q51.4968 818.571 51.4968 812.11 Q51.4968 808.163 53.0564 805.362 Q54.5842 802.529 57.7671 800.683 M70.212 820.64 Q76.6732 820.64 80.3653 817.998 Q84.0256 815.324 84.0256 810.677 Q84.0256 806.03 80.3653 803.357 Q76.6732 800.683 70.212 800.683 Q63.7508 800.683 60.0905 803.357 Q56.3984 806.03 56.3984 810.677 Q56.3984 815.324 60.0905 817.998 Q63.7508 820.64 70.212 820.64 Z\" fill=\"#000000\" fill-rule=\"evenodd\" fill-opacity=\"1\" /><path clip-path=\"url(#clip230)\" d=\"M 0 0 M70.0847 772.483 Q70.0847 779.581 71.7079 782.318 Q73.3312 785.055 77.2461 785.055 Q80.3653 785.055 82.2114 783.018 Q84.0256 780.95 84.0256 777.417 Q84.0256 772.547 80.5881 769.619 Q77.1188 766.659 71.3897 766.659 L70.0847 766.659 L70.0847 772.483 M67.6657 760.802 L88.0042 760.802 L88.0042 766.659 L82.5933 766.659 Q85.8398 768.664 87.3994 771.656 Q88.9272 774.648 88.9272 778.976 Q88.9272 784.451 85.8716 787.697 Q82.7843 790.912 77.6281 790.912 Q71.6125 790.912 68.5569 786.902 Q65.5014 782.859 65.5014 774.87 L65.5014 766.659 L64.9285 766.659 Q60.8862 766.659 58.6901 769.332 Q56.4621 771.974 56.4621 776.78 Q56.4621 779.836 57.1941 782.732 Q57.9262 785.628 59.3903 788.302 L53.9795 788.302 Q52.7381 785.087 52.1334 782.064 Q51.4968 779.04 51.4968 776.175 Q51.4968 768.441 55.5072 764.622 Q59.5176 760.802 67.6657 760.802 Z\" fill=\"#000000\" fill-rule=\"evenodd\" fill-opacity=\"1\" /><path clip-path=\"url(#clip230)\" d=\"M 0 0 M42.2347 748.866 L52.3562 748.866 L52.3562 736.803 L56.9077 736.803 L56.9077 748.866 L76.2594 748.866 Q80.6199 748.866 81.8613 747.689 Q83.1026 746.479 83.1026 742.819 L83.1026 736.803 L88.0042 736.803 L88.0042 742.819 Q88.0042 749.598 85.4897 752.177 Q82.9434 754.755 76.2594 754.755 L56.9077 754.755 L56.9077 759.052 L52.3562 759.052 L52.3562 754.755 L42.2347 754.755 L42.2347 748.866 Z\" fill=\"#000000\" fill-rule=\"evenodd\" fill-opacity=\"1\" /><path clip-path=\"url(#clip230)\" d=\"M 0 0 M52.3562 730.66 L52.3562 724.804 L88.0042 724.804 L88.0042 730.66 L52.3562 730.66 M38.479 730.66 L38.479 724.804 L45.895 724.804 L45.895 730.66 L38.479 730.66 Z\" fill=\"#000000\" fill-rule=\"evenodd\" fill-opacity=\"1\" /><path clip-path=\"url(#clip230)\" d=\"M 0 0 M56.4621 704.848 Q56.4621 709.558 60.1542 712.295 Q63.8145 715.033 70.212 715.033 Q76.6095 715.033 80.3017 712.327 Q83.9619 709.59 83.9619 704.848 Q83.9619 700.169 80.2698 697.431 Q76.5777 694.694 70.212 694.694 Q63.8781 694.694 60.186 697.431 Q56.4621 700.169 56.4621 704.848 M51.4968 704.848 Q51.4968 697.209 56.4621 692.848 Q61.4273 688.488 70.212 688.488 Q78.9649 688.488 83.9619 692.848 Q88.9272 697.209 88.9272 704.848 Q88.9272 712.518 83.9619 716.879 Q78.9649 721.207 70.212 721.207 Q61.4273 721.207 56.4621 716.879 Q51.4968 712.518 51.4968 704.848 Z\" fill=\"#000000\" fill-rule=\"evenodd\" fill-opacity=\"1\" /><path clip-path=\"url(#clip230)\" d=\"M 0 0 M66.4881 652.712 L88.0042 652.712 L88.0042 658.569 L66.679 658.569 Q61.6183 658.569 59.1038 660.542 Q56.5894 662.516 56.5894 666.462 Q56.5894 671.205 59.6131 673.942 Q62.6368 676.679 67.8567 676.679 L88.0042 676.679 L88.0042 682.568 L52.3562 682.568 L52.3562 676.679 L57.8944 676.679 Q54.6797 674.579 53.0883 671.746 Q51.4968 668.881 51.4968 665.157 Q51.4968 659.014 55.3163 655.863 Q59.1038 652.712 66.4881 652.712 Z\" fill=\"#000000\" fill-rule=\"evenodd\" fill-opacity=\"1\" /><path clip-path=\"url(#clip230)\" d=\"M 0 0 M46.818 609.712 L70.4666 618.433 L70.4666 600.959 L46.818 609.712 M40.4842 613.341 L40.4842 606.052 L88.0042 587.941 L88.0042 594.625 L75.8138 598.954 L75.8138 620.375 L88.0042 624.703 L88.0042 631.483 L40.4842 613.341 Z\" fill=\"#000000\" fill-rule=\"evenodd\" fill-opacity=\"1\" /><path clip-path=\"url(#clip230)\" d=\"M 0 0 M53.7248 557.29 L59.1993 557.29 Q57.8307 559.773 57.1623 562.288 Q56.4621 564.77 56.4621 567.316 Q56.4621 573.014 60.0905 576.165 Q63.6872 579.316 70.212 579.316 Q76.7369 579.316 80.3653 576.165 Q83.9619 573.014 83.9619 567.316 Q83.9619 564.77 83.2935 562.288 Q82.5933 559.773 81.2247 557.29 L86.6355 557.29 Q87.7814 559.741 88.3543 562.383 Q88.9272 564.993 88.9272 567.953 Q88.9272 576.006 83.8664 580.748 Q78.8057 585.491 70.212 585.491 Q61.491 585.491 56.4939 580.716 Q51.4968 575.91 51.4968 567.571 Q51.4968 564.866 52.0697 562.288 Q52.6108 559.709 53.7248 557.29 Z\" fill=\"#000000\" fill-rule=\"evenodd\" fill-opacity=\"1\" /><path clip-path=\"url(#clip230)\" d=\"M 0 0 M53.7248 525.494 L59.1993 525.494 Q57.8307 527.976 57.1623 530.491 Q56.4621 532.973 56.4621 535.52 Q56.4621 541.217 60.0905 544.368 Q63.6872 547.519 70.212 547.519 Q76.7369 547.519 80.3653 544.368 Q83.9619 541.217 83.9619 535.52 Q83.9619 532.973 83.2935 530.491 Q82.5933 527.976 81.2247 525.494 L86.6355 525.494 Q87.7814 527.945 88.3543 530.586 Q88.9272 533.196 88.9272 536.156 Q88.9272 544.209 83.8664 548.951 Q78.8057 553.694 70.212 553.694 Q61.491 553.694 56.4939 548.92 Q51.4968 544.113 51.4968 535.774 Q51.4968 533.069 52.0697 530.491 Q52.6108 527.913 53.7248 525.494 Z\" fill=\"#000000\" fill-rule=\"evenodd\" fill-opacity=\"1\" /><path clip-path=\"url(#clip230)\" d=\"M 0 0 M73.9359 519.956 L52.3562 519.956 L52.3562 514.099 L73.7131 514.099 Q78.7739 514.099 81.3202 512.126 Q83.8346 510.152 83.8346 506.206 Q83.8346 501.463 80.8109 498.726 Q77.7872 495.957 72.5673 495.957 L52.3562 495.957 L52.3562 490.1 L88.0042 490.1 L88.0042 495.957 L82.5296 495.957 Q85.7762 498.089 87.3676 500.922 Q88.9272 503.723 88.9272 507.447 Q88.9272 513.59 85.1078 516.773 Q81.2883 519.956 73.9359 519.956 M51.4968 505.219 L51.4968 505.219 Z\" fill=\"#000000\" fill-rule=\"evenodd\" fill-opacity=\"1\" /><path clip-path=\"url(#clip230)\" d=\"M 0 0 M57.8307 463.301 Q57.2578 464.287 57.0032 465.465 Q56.7167 466.611 56.7167 468.011 Q56.7167 472.977 59.9632 475.65 Q63.1779 478.292 69.2253 478.292 L88.0042 478.292 L88.0042 484.18 L52.3562 484.18 L52.3562 478.292 L57.8944 478.292 Q54.6479 476.446 53.0883 473.486 Q51.4968 470.526 51.4968 466.293 Q51.4968 465.688 51.5923 464.956 Q51.656 464.224 51.8151 463.333 L57.8307 463.301 Z\" fill=\"#000000\" fill-rule=\"evenodd\" fill-opacity=\"1\" /><path clip-path=\"url(#clip230)\" d=\"M 0 0 M70.0847 440.957 Q70.0847 448.055 71.7079 450.792 Q73.3312 453.529 77.2461 453.529 Q80.3653 453.529 82.2114 451.492 Q84.0256 449.424 84.0256 445.891 Q84.0256 441.021 80.5881 438.093 Q77.1188 435.133 71.3897 435.133 L70.0847 435.133 L70.0847 440.957 M67.6657 429.276 L88.0042 429.276 L88.0042 435.133 L82.5933 435.133 Q85.8398 437.138 87.3994 440.13 Q88.9272 443.122 88.9272 447.45 Q88.9272 452.925 85.8716 456.171 Q82.7843 459.386 77.6281 459.386 Q71.6125 459.386 68.5569 455.376 Q65.5014 451.333 65.5014 443.344 L65.5014 435.133 L64.9285 435.133 Q60.8862 435.133 58.6901 437.806 Q56.4621 440.448 56.4621 445.254 Q56.4621 448.31 57.1941 451.206 Q57.9262 454.102 59.3903 456.776 L53.9795 456.776 Q52.7381 453.561 52.1334 450.538 Q51.4968 447.514 51.4968 444.649 Q51.4968 436.915 55.5072 433.096 Q59.5176 429.276 67.6657 429.276 Z\" fill=\"#000000\" fill-rule=\"evenodd\" fill-opacity=\"1\" /><path clip-path=\"url(#clip230)\" d=\"M 0 0 M53.7248 397.479 L59.1993 397.479 Q57.8307 399.962 57.1623 402.476 Q56.4621 404.959 56.4621 407.505 Q56.4621 413.203 60.0905 416.354 Q63.6872 419.505 70.212 419.505 Q76.7369 419.505 80.3653 416.354 Q83.9619 413.203 83.9619 407.505 Q83.9619 404.959 83.2935 402.476 Q82.5933 399.962 81.2247 397.479 L86.6355 397.479 Q87.7814 399.93 88.3543 402.572 Q88.9272 405.182 88.9272 408.142 Q88.9272 416.195 83.8664 420.937 Q78.8057 425.679 70.212 425.679 Q61.491 425.679 56.4939 420.905 Q51.4968 416.099 51.4968 407.76 Q51.4968 405.055 52.0697 402.476 Q52.6108 399.898 53.7248 397.479 Z\" fill=\"#000000\" fill-rule=\"evenodd\" fill-opacity=\"1\" /><path clip-path=\"url(#clip230)\" d=\"M 0 0 M91.3143 376.504 Q97.68 378.987 99.6216 381.342 Q101.563 383.698 101.563 387.644 L101.563 392.323 L96.6615 392.323 L96.6615 388.886 Q96.6615 386.467 95.5157 385.13 Q94.3699 383.793 90.1048 382.17 L87.4312 381.12 L52.3562 395.538 L52.3562 389.331 L80.238 378.191 L52.3562 367.051 L52.3562 360.845 L91.3143 376.504 Z\" fill=\"#000000\" fill-rule=\"evenodd\" fill-opacity=\"1\" /><path clip-path=\"url(#clip232)\" d=\"\n",
       "M2030.19 639.646 L2030.19 7874.5 L2107.53 7874.5 L2107.53 639.646 L2030.19 639.646 L2030.19 639.646  Z\n",
       "  \" fill=\"#009af9\" fill-rule=\"evenodd\" fill-opacity=\"1\"/>\n",
       "<polyline clip-path=\"url(#clip232)\" style=\"stroke:#000000; stroke-width:4; stroke-opacity:1; fill:none\" points=\"\n",
       "  2030.19,639.646 2030.19,7874.5 2107.53,7874.5 2107.53,639.646 2030.19,639.646 \n",
       "  \"/>\n",
       "<path clip-path=\"url(#clip232)\" d=\"\n",
       "M1385.63 604.469 L1385.63 7874.5 L1462.98 7874.5 L1462.98 604.469 L1385.63 604.469 L1385.63 604.469  Z\n",
       "  \" fill=\"#009af9\" fill-rule=\"evenodd\" fill-opacity=\"1\"/>\n",
       "<polyline clip-path=\"url(#clip232)\" style=\"stroke:#000000; stroke-width:4; stroke-opacity:1; fill:none\" points=\"\n",
       "  1385.63,604.469 1385.63,7874.5 1462.98,7874.5 1462.98,604.469 1385.63,604.469 \n",
       "  \"/>\n",
       "<path clip-path=\"url(#clip232)\" d=\"\n",
       "M998.903 452.032 L998.903 7874.5 L1076.25 7874.5 L1076.25 452.032 L998.903 452.032 L998.903 452.032  Z\n",
       "  \" fill=\"#009af9\" fill-rule=\"evenodd\" fill-opacity=\"1\"/>\n",
       "<polyline clip-path=\"url(#clip232)\" style=\"stroke:#000000; stroke-width:4; stroke-opacity:1; fill:none\" points=\"\n",
       "  998.903,452.032 998.903,7874.5 1076.25,7874.5 1076.25,452.032 998.903,452.032 \n",
       "  \"/>\n",
       "<path clip-path=\"url(#clip232)\" d=\"\n",
       "M869.992 534.113 L869.992 7874.5 L947.339 7874.5 L947.339 534.113 L869.992 534.113 L869.992 534.113  Z\n",
       "  \" fill=\"#009af9\" fill-rule=\"evenodd\" fill-opacity=\"1\"/>\n",
       "<polyline clip-path=\"url(#clip232)\" style=\"stroke:#000000; stroke-width:4; stroke-opacity:1; fill:none\" points=\"\n",
       "  869.992,534.113 869.992,7874.5 947.339,7874.5 947.339,534.113 869.992,534.113 \n",
       "  \"/>\n",
       "<path clip-path=\"url(#clip232)\" d=\"\n",
       "M1772.37 557.565 L1772.37 7874.5 L1849.71 7874.5 L1849.71 557.565 L1772.37 557.565 L1772.37 557.565  Z\n",
       "  \" fill=\"#009af9\" fill-rule=\"evenodd\" fill-opacity=\"1\"/>\n",
       "<polyline clip-path=\"url(#clip232)\" style=\"stroke:#000000; stroke-width:4; stroke-opacity:1; fill:none\" points=\"\n",
       "  1772.37,557.565 1772.37,7874.5 1849.71,7874.5 1849.71,557.565 1772.37,557.565 \n",
       "  \"/>\n",
       "<path clip-path=\"url(#clip232)\" d=\"\n",
       "M1514.54 616.194 L1514.54 7874.5 L1591.89 7874.5 L1591.89 616.194 L1514.54 616.194 L1514.54 616.194  Z\n",
       "  \" fill=\"#009af9\" fill-rule=\"evenodd\" fill-opacity=\"1\"/>\n",
       "<polyline clip-path=\"url(#clip232)\" style=\"stroke:#000000; stroke-width:4; stroke-opacity:1; fill:none\" points=\"\n",
       "  1514.54,616.194 1514.54,7874.5 1591.89,7874.5 1591.89,616.194 1514.54,616.194 \n",
       "  \"/>\n",
       "<path clip-path=\"url(#clip232)\" d=\"\n",
       "M612.172 440.307 L612.172 7874.5 L689.518 7874.5 L689.518 440.307 L612.172 440.307 L612.172 440.307  Z\n",
       "  \" fill=\"#009af9\" fill-rule=\"evenodd\" fill-opacity=\"1\"/>\n",
       "<polyline clip-path=\"url(#clip232)\" style=\"stroke:#000000; stroke-width:4; stroke-opacity:1; fill:none\" points=\"\n",
       "  612.172,440.307 612.172,7874.5 689.518,7874.5 689.518,440.307 612.172,440.307 \n",
       "  \"/>\n",
       "<path clip-path=\"url(#clip232)\" d=\"\n",
       "M1901.28 698.276 L1901.28 7874.5 L1978.62 7874.5 L1978.62 698.276 L1901.28 698.276 L1901.28 698.276  Z\n",
       "  \" fill=\"#009af9\" fill-rule=\"evenodd\" fill-opacity=\"1\"/>\n",
       "<polyline clip-path=\"url(#clip232)\" style=\"stroke:#000000; stroke-width:4; stroke-opacity:1; fill:none\" points=\"\n",
       "  1901.28,698.276 1901.28,7874.5 1978.62,7874.5 1978.62,698.276 1901.28,698.276 \n",
       "  \"/>\n",
       "<path clip-path=\"url(#clip232)\" d=\"\n",
       "M354.351 545.839 L354.351 7874.5 L431.697 7874.5 L431.697 545.839 L354.351 545.839 L354.351 545.839  Z\n",
       "  \" fill=\"#009af9\" fill-rule=\"evenodd\" fill-opacity=\"1\"/>\n",
       "<polyline clip-path=\"url(#clip232)\" style=\"stroke:#000000; stroke-width:4; stroke-opacity:1; fill:none\" points=\"\n",
       "  354.351,545.839 354.351,7874.5 431.697,7874.5 431.697,545.839 354.351,545.839 \n",
       "  \"/>\n",
       "<path clip-path=\"url(#clip232)\" d=\"\n",
       "M1643.45 581.017 L1643.45 7874.5 L1720.8 7874.5 L1720.8 581.017 L1643.45 581.017 L1643.45 581.017  Z\n",
       "  \" fill=\"#009af9\" fill-rule=\"evenodd\" fill-opacity=\"1\"/>\n",
       "<polyline clip-path=\"url(#clip232)\" style=\"stroke:#000000; stroke-width:4; stroke-opacity:1; fill:none\" points=\"\n",
       "  1643.45,581.017 1643.45,7874.5 1720.8,7874.5 1720.8,581.017 1643.45,581.017 \n",
       "  \"/>\n",
       "<path clip-path=\"url(#clip232)\" d=\"\n",
       "M483.261 428.581 L483.261 7874.5 L560.607 7874.5 L560.607 428.581 L483.261 428.581 L483.261 428.581  Z\n",
       "  \" fill=\"#009af9\" fill-rule=\"evenodd\" fill-opacity=\"1\"/>\n",
       "<polyline clip-path=\"url(#clip232)\" style=\"stroke:#000000; stroke-width:4; stroke-opacity:1; fill:none\" points=\"\n",
       "  483.261,428.581 483.261,7874.5 560.607,7874.5 560.607,428.581 483.261,428.581 \n",
       "  \"/>\n",
       "<path clip-path=\"url(#clip232)\" d=\"\n",
       "M1256.72 534.113 L1256.72 7874.5 L1334.07 7874.5 L1334.07 534.113 L1256.72 534.113 L1256.72 534.113  Z\n",
       "  \" fill=\"#009af9\" fill-rule=\"evenodd\" fill-opacity=\"1\"/>\n",
       "<polyline clip-path=\"url(#clip232)\" style=\"stroke:#000000; stroke-width:4; stroke-opacity:1; fill:none\" points=\"\n",
       "  1256.72,534.113 1256.72,7874.5 1334.07,7874.5 1334.07,534.113 1256.72,534.113 \n",
       "  \"/>\n",
       "<path clip-path=\"url(#clip232)\" d=\"\n",
       "M741.082 545.839 L741.082 7874.5 L818.428 7874.5 L818.428 545.839 L741.082 545.839 L741.082 545.839  Z\n",
       "  \" fill=\"#009af9\" fill-rule=\"evenodd\" fill-opacity=\"1\"/>\n",
       "<polyline clip-path=\"url(#clip232)\" style=\"stroke:#000000; stroke-width:4; stroke-opacity:1; fill:none\" points=\"\n",
       "  741.082,545.839 741.082,7874.5 818.428,7874.5 818.428,545.839 741.082,545.839 \n",
       "  \"/>\n",
       "<path clip-path=\"url(#clip232)\" d=\"\n",
       "M2159.1 698.276 L2159.1 7874.5 L2236.44 7874.5 L2236.44 698.276 L2159.1 698.276 L2159.1 698.276  Z\n",
       "  \" fill=\"#009af9\" fill-rule=\"evenodd\" fill-opacity=\"1\"/>\n",
       "<polyline clip-path=\"url(#clip232)\" style=\"stroke:#000000; stroke-width:4; stroke-opacity:1; fill:none\" points=\"\n",
       "  2159.1,698.276 2159.1,7874.5 2236.44,7874.5 2236.44,698.276 2159.1,698.276 \n",
       "  \"/>\n",
       "<path clip-path=\"url(#clip232)\" d=\"\n",
       "M1127.81 627.92 L1127.81 7874.5 L1205.16 7874.5 L1205.16 627.92 L1127.81 627.92 L1127.81 627.92  Z\n",
       "  \" fill=\"#009af9\" fill-rule=\"evenodd\" fill-opacity=\"1\"/>\n",
       "<polyline clip-path=\"url(#clip232)\" style=\"stroke:#000000; stroke-width:4; stroke-opacity:1; fill:none\" points=\"\n",
       "  1127.81,627.92 1127.81,7874.5 1205.16,7874.5 1205.16,627.92 1127.81,627.92 \n",
       "  \"/>\n",
       "<path clip-path=\"url(#clip230)\" d=\"\n",
       "M1996.28 214.069 L2282.27 214.069 L2282.27 93.1086 L1996.28 93.1086  Z\n",
       "  \" fill=\"#ffffff\" fill-rule=\"evenodd\" fill-opacity=\"1\"/>\n",
       "<polyline clip-path=\"url(#clip230)\" style=\"stroke:#000000; stroke-width:4; stroke-opacity:1; fill:none\" points=\"\n",
       "  1996.28,214.069 2282.27,214.069 2282.27,93.1086 1996.28,93.1086 1996.28,214.069 \n",
       "  \"/>\n",
       "<path clip-path=\"url(#clip230)\" d=\"\n",
       "M2019.78 177.781 L2160.76 177.781 L2160.76 129.397 L2019.78 129.397 L2019.78 177.781  Z\n",
       "  \" fill=\"#009af9\" fill-rule=\"evenodd\" fill-opacity=\"1\"/>\n",
       "<polyline clip-path=\"url(#clip230)\" style=\"stroke:#000000; stroke-width:4; stroke-opacity:1; fill:none\" points=\"\n",
       "  2019.78,177.781 2160.76,177.781 2160.76,129.397 2019.78,129.397 2019.78,177.781 \n",
       "  \"/>\n",
       "<path clip-path=\"url(#clip230)\" d=\"M 0 0 M2198.1 173.276 Q2196.29 177.906 2194.58 179.318 Q2192.86 180.73 2189.99 180.73 L2186.59 180.73 L2186.59 177.165 L2189.09 177.165 Q2190.85 177.165 2191.82 176.332 Q2192.79 175.498 2193.98 172.396 L2194.74 170.452 L2184.25 144.943 L2188.77 144.943 L2196.87 165.221 L2204.97 144.943 L2209.48 144.943 L2198.1 173.276 Z\" fill=\"#000000\" fill-rule=\"evenodd\" fill-opacity=\"1\" /><path clip-path=\"url(#clip230)\" d=\"M 0 0 M2215.36 166.933 L2223 166.933 L2223 140.568 L2214.69 142.235 L2214.69 137.975 L2222.96 136.309 L2227.63 136.309 L2227.63 166.933 L2235.27 166.933 L2235.27 170.869 L2215.36 170.869 L2215.36 166.933 Z\" fill=\"#000000\" fill-rule=\"evenodd\" fill-opacity=\"1\" /></svg>\n"
      ]
     },
     "execution_count": 123,
     "metadata": {},
     "output_type": "execute_result"
    }
   ],
   "source": [
    "bar(self_tuning_knn.report.plotting.parameter_values[:,1], \n",
    "    self_tuning_knn.report.plotting.measurements,\n",
    "    bar_width=0.6,\n",
    "    ylims=[0.75, 0.9])\n",
    "    fillcolor=:red\n",
    "    fillalpha=0.2\n",
    "xlabel!(\"K\")\n",
    "ylabel!(\"Cross Validation Accuracy\")"
   ]
  },
  {
   "cell_type": "markdown",
   "metadata": {},
   "source": [
    "# Final Results"
   ]
  },
  {
   "cell_type": "code",
   "execution_count": 48,
   "metadata": {},
   "outputs": [
    {
     "data": {
      "text/plain": [
       "KNNClassifier(\n",
       "    K = 8,\n",
       "    algorithm = :kdtree,\n",
       "    metric = Euclidean(0.0),\n",
       "    leafsize = 10,\n",
       "    reorder = true,\n",
       "    weights = :uniform)\u001b[34m @894\u001b[39m"
      ]
     },
     "execution_count": 48,
     "metadata": {},
     "output_type": "execute_result"
    }
   ],
   "source": [
    "knn_final = KNNClassifier(K=best.best_model.K)"
   ]
  },
  {
   "cell_type": "code",
   "execution_count": 49,
   "metadata": {},
   "outputs": [
    {
     "name": "stderr",
     "output_type": "stream",
     "text": [
      "┌ Warning: The scitype of `X`, in `machine(model, X, ...)` is incompatible with `model=\u001b[34mKNNClassifier @894\u001b[39m`:\n",
      "│ scitype(X) = Table{Union{AbstractArray{Continuous,1}, AbstractArray{Count,1}}}\n",
      "│ input_scitype(model) = Table{var\"#s44\"} where var\"#s44\"<:(AbstractArray{var\"#s13\",1} where var\"#s13\"<:Continuous).\n",
      "└ @ MLJBase /home/andrew/.julia/packages/MLJBase/uKzAz/src/machines.jl:77\n"
     ]
    },
    {
     "data": {
      "text/plain": [
       "\u001b[34mMachine{KNNClassifier} @502\u001b[39m trained 0 times.\n",
       "  args: \n",
       "    1:\t\u001b[34mSource @055\u001b[39m ⏎ `Table{Union{AbstractArray{Continuous,1}, AbstractArray{Count,1}}}`\n",
       "    2:\t\u001b[34mSource @616\u001b[39m ⏎ `AbstractArray{Multiclass{2},1}`\n"
      ]
     },
     "execution_count": 49,
     "metadata": {},
     "output_type": "execute_result"
    }
   ],
   "source": [
    "KNN_Final = machine(knn_final, X_stand, y)"
   ]
  },
  {
   "cell_type": "code",
   "execution_count": 50,
   "metadata": {},
   "outputs": [
    {
     "name": "stderr",
     "output_type": "stream",
     "text": [
      "┌ Info: Training \u001b[34mMachine{KNNClassifier} @349\u001b[39m.\n",
      "└ @ MLJBase /home/andrew/.julia/packages/MLJBase/uKzAz/src/machines.jl:319\n"
     ]
    },
    {
     "data": {
      "text/plain": [
       "\u001b[34mMachine{KNNClassifier} @349\u001b[39m trained 8 times.\n",
       "  args: \n",
       "    1:\t\u001b[34mSource @312\u001b[39m ⏎ `Table{Union{AbstractArray{Continuous,1}, AbstractArray{Count,1}}}`\n",
       "    2:\t\u001b[34mSource @246\u001b[39m ⏎ `AbstractArray{Multiclass{2},1}`\n"
      ]
     },
     "execution_count": 50,
     "metadata": {},
     "output_type": "execute_result"
    }
   ],
   "source": [
    "fit!(KNN, rows=train)"
   ]
  },
  {
   "cell_type": "code",
   "execution_count": 51,
   "metadata": {},
   "outputs": [],
   "source": [
    "ŷ = MLJ.predict(KNN, X_stand[test,:]);"
   ]
  },
  {
   "cell_type": "code",
   "execution_count": 52,
   "metadata": {},
   "outputs": [
    {
     "data": {
      "text/plain": [
       "1.3989417665622235"
      ]
     },
     "execution_count": 52,
     "metadata": {},
     "output_type": "execute_result"
    }
   ],
   "source": [
    "cross_entropy(ŷ, y[test]) |> mean"
   ]
  },
  {
   "cell_type": "code",
   "execution_count": 53,
   "metadata": {},
   "outputs": [
    {
     "data": {
      "text/plain": [
       "0.8485804416403786"
      ]
     },
     "execution_count": 53,
     "metadata": {},
     "output_type": "execute_result"
    }
   ],
   "source": [
    "acc(ŷ, y[test])"
   ]
  },
  {
   "cell_type": "code",
   "execution_count": 93,
   "metadata": {},
   "outputs": [
    {
     "name": "stderr",
     "output_type": "stream",
     "text": [
      "┌ Warning: The classes are un-ordered,\n",
      "│ using: negative='NRB' and positive='RB'.\n",
      "│ To suppress this warning, consider coercing to OrderedFactor.\n",
      "└ @ MLJBase /home/andrew/.julia/packages/MLJBase/uKzAz/src/measures/confusion_matrix.jl:83\n"
     ]
    },
    {
     "data": {
      "text/plain": [
       "              ┌───────────────────────────┐\n",
       "              │       Ground Truth        │\n",
       "┌─────────────┼─────────────┬─────────────┤\n",
       "│  Predicted  │     NRB     │     RB      │\n",
       "├─────────────┼─────────────┼─────────────┤\n",
       "│     NRB     │     185     │     23      │\n",
       "├─────────────┼─────────────┼─────────────┤\n",
       "│     RB      │     25      │     84      │\n",
       "└─────────────┴─────────────┴─────────────┘\n"
      ]
     },
     "execution_count": 93,
     "metadata": {},
     "output_type": "execute_result"
    }
   ],
   "source": [
    "c = confusion_matrix(mode.(ŷ), y[test])"
   ]
  },
  {
   "cell_type": "code",
   "execution_count": 94,
   "metadata": {},
   "outputs": [
    {
     "data": {
      "text/plain": [
       "0.7706422018348624"
      ]
     },
     "execution_count": 94,
     "metadata": {},
     "output_type": "execute_result"
    }
   ],
   "source": [
    "precision(c)"
   ]
  },
  {
   "cell_type": "code",
   "execution_count": 95,
   "metadata": {},
   "outputs": [
    {
     "data": {
      "text/plain": [
       "0.7850467289719626"
      ]
     },
     "execution_count": 95,
     "metadata": {},
     "output_type": "execute_result"
    }
   ],
   "source": [
    "recall(c)"
   ]
  },
  {
   "cell_type": "code",
   "execution_count": 98,
   "metadata": {},
   "outputs": [
    {
     "data": {
      "text/plain": [
       "0.11904761904761904"
      ]
     },
     "execution_count": 98,
     "metadata": {},
     "output_type": "execute_result"
    }
   ],
   "source": [
    "25/(185+25)"
   ]
  },
  {
   "cell_type": "code",
   "execution_count": 99,
   "metadata": {},
   "outputs": [
    {
     "data": {
      "text/plain": [
       "0.21495327102803738"
      ]
     },
     "execution_count": 99,
     "metadata": {},
     "output_type": "execute_result"
    }
   ],
   "source": [
    "23/(23+84)"
   ]
  },
  {
   "cell_type": "code",
   "execution_count": 100,
   "metadata": {},
   "outputs": [
    {
     "data": {
      "text/plain": [
       "0.1514195583596214"
      ]
     },
     "execution_count": 100,
     "metadata": {},
     "output_type": "execute_result"
    }
   ],
   "source": [
    "misclassification_rate(c)"
   ]
  },
  {
   "cell_type": "code",
   "execution_count": null,
   "metadata": {},
   "outputs": [],
   "source": []
  }
 ],
 "metadata": {
  "kernelspec": {
   "display_name": "Julia 1.5.0",
   "language": "julia",
   "name": "julia-1.5"
  },
  "language_info": {
   "file_extension": ".jl",
   "mimetype": "application/julia",
   "name": "julia",
   "version": "1.5.0"
  }
 },
 "nbformat": 4,
 "nbformat_minor": 4
}
