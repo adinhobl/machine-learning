{
 "cells": [
  {
   "cell_type": "markdown",
   "metadata": {},
   "source": [
    "# Imports"
   ]
  },
  {
   "cell_type": "code",
   "execution_count": 1,
   "metadata": {},
   "outputs": [],
   "source": [
    "using DataFrames\n",
    "using CSV\n",
    "using MLJ\n",
    "using Flux\n",
    "using Plots\n",
    "using StatsBase\n",
    "using MLJ: confusion_matrix\n",
    "\n",
    "include(\"../../lib.jl\")\n",
    "\n",
    "ENV[\"LINES\"]=30;"
   ]
  },
  {
   "cell_type": "code",
   "execution_count": 2,
   "metadata": {},
   "outputs": [
    {
     "ename": "LoadError",
     "evalue": "IOError: mkdir: file already exists (EEXIST)",
     "output_type": "error",
     "traceback": [
      "IOError: mkdir: file already exists (EEXIST)",
      "",
      "Stacktrace:",
      " [1] uv_error at ./libuv.jl:97 [inlined]",
      " [2] mkdir(::String; mode::UInt16) at ./file.jl:177",
      " [3] mkdir(::String) at ./file.jl:170",
      " [4] top-level scope at In[2]:1",
      " [5] include_string(::Function, ::Module, ::String, ::String) at ./loading.jl:1091"
     ]
    }
   ],
   "source": [
    "mkdir(\"./Figures\")"
   ]
  },
  {
   "cell_type": "markdown",
   "metadata": {},
   "source": [
    "# Datasets"
   ]
  },
  {
   "cell_type": "code",
   "execution_count": 3,
   "metadata": {},
   "outputs": [
    {
     "data": {
      "text/html": [
       "<table class=\"data-frame\"><thead><tr><th></th><th>1</th><th>2</th><th>3</th><th>4</th><th>5</th><th>6</th><th>7</th><th>8</th><th>9</th><th>10</th><th>11</th></tr><tr><th></th><th>Float64</th><th>Float64</th><th>Int64</th><th>Int64</th><th>Int64</th><th>Int64</th><th>Int64</th><th>Float64</th><th>Int64</th><th>Int64</th><th>Int64</th></tr></thead><tbody><p>1,055 rows × 42 columns (omitted printing of 31 columns)</p><tr><th>1</th><td>3.919</td><td>2.6909</td><td>0</td><td>0</td><td>0</td><td>0</td><td>0</td><td>31.4</td><td>2</td><td>0</td><td>0</td></tr><tr><th>2</th><td>4.17</td><td>2.1144</td><td>0</td><td>0</td><td>0</td><td>0</td><td>0</td><td>30.8</td><td>1</td><td>1</td><td>0</td></tr><tr><th>3</th><td>3.932</td><td>3.2512</td><td>0</td><td>0</td><td>0</td><td>0</td><td>0</td><td>26.7</td><td>2</td><td>4</td><td>0</td></tr><tr><th>4</th><td>3.0</td><td>2.7098</td><td>0</td><td>0</td><td>0</td><td>0</td><td>0</td><td>20.0</td><td>0</td><td>2</td><td>0</td></tr><tr><th>5</th><td>4.236</td><td>3.3944</td><td>0</td><td>0</td><td>0</td><td>0</td><td>0</td><td>29.4</td><td>2</td><td>4</td><td>0</td></tr><tr><th>6</th><td>4.236</td><td>3.4286</td><td>0</td><td>0</td><td>0</td><td>0</td><td>0</td><td>28.6</td><td>2</td><td>4</td><td>0</td></tr><tr><th>7</th><td>5.0</td><td>5.0476</td><td>1</td><td>0</td><td>0</td><td>0</td><td>0</td><td>11.1</td><td>0</td><td>3</td><td>0</td></tr><tr><th>8</th><td>4.525</td><td>3.8301</td><td>0</td><td>0</td><td>0</td><td>0</td><td>0</td><td>31.6</td><td>3</td><td>2</td><td>0</td></tr><tr><th>9</th><td>4.596</td><td>3.0777</td><td>0</td><td>0</td><td>0</td><td>0</td><td>2</td><td>44.4</td><td>2</td><td>0</td><td>0</td></tr><tr><th>10</th><td>5.04</td><td>3.6112</td><td>0</td><td>0</td><td>1</td><td>0</td><td>2</td><td>41.2</td><td>0</td><td>4</td><td>3</td></tr><tr><th>11</th><td>4.91</td><td>2.7414</td><td>0</td><td>0</td><td>0</td><td>0</td><td>2</td><td>52.9</td><td>0</td><td>2</td><td>0</td></tr><tr><th>12</th><td>3.618</td><td>2.1906</td><td>0</td><td>0</td><td>0</td><td>0</td><td>0</td><td>29.4</td><td>2</td><td>0</td><td>0</td></tr><tr><th>13</th><td>4.214</td><td>2.6272</td><td>0</td><td>0</td><td>0</td><td>0</td><td>0</td><td>30.0</td><td>3</td><td>0</td><td>0</td></tr><tr><th>14</th><td>3.732</td><td>2.3391</td><td>0</td><td>0</td><td>0</td><td>0</td><td>0</td><td>30.0</td><td>2</td><td>0</td><td>0</td></tr><tr><th>15</th><td>3.879</td><td>2.5951</td><td>0</td><td>0</td><td>0</td><td>0</td><td>0</td><td>31.0</td><td>2</td><td>0</td><td>0</td></tr><tr><th>16</th><td>3.942</td><td>2.7719</td><td>1</td><td>0</td><td>0</td><td>0</td><td>0</td><td>31.6</td><td>2</td><td>0</td><td>0</td></tr><tr><th>17</th><td>3.966</td><td>2.852</td><td>1</td><td>0</td><td>0</td><td>0</td><td>0</td><td>32.0</td><td>2</td><td>0</td><td>0</td></tr><tr><th>18</th><td>3.732</td><td>2.3761</td><td>0</td><td>0</td><td>1</td><td>0</td><td>0</td><td>26.3</td><td>2</td><td>0</td><td>1</td></tr><tr><th>19</th><td>4.0</td><td>2.6264</td><td>0</td><td>0</td><td>0</td><td>0</td><td>0</td><td>23.1</td><td>0</td><td>0</td><td>0</td></tr><tr><th>20</th><td>2.0</td><td>1.1521</td><td>0</td><td>0</td><td>0</td><td>0</td><td>0</td><td>16.7</td><td>1</td><td>1</td><td>0</td></tr><tr><th>21</th><td>3.732</td><td>2.4062</td><td>0</td><td>0</td><td>0</td><td>0</td><td>0</td><td>27.8</td><td>2</td><td>1</td><td>0</td></tr><tr><th>22</th><td>4.0</td><td>2.3699</td><td>0</td><td>0</td><td>0</td><td>0</td><td>0</td><td>30.0</td><td>1</td><td>1</td><td>0</td></tr><tr><th>23</th><td>3.414</td><td>2.2525</td><td>0</td><td>0</td><td>0</td><td>0</td><td>0</td><td>20.0</td><td>2</td><td>2</td><td>0</td></tr><tr><th>24</th><td>4.17</td><td>2.8042</td><td>0</td><td>0</td><td>0</td><td>0</td><td>0</td><td>23.1</td><td>2</td><td>2</td><td>0</td></tr><tr><th>25</th><td>4.303</td><td>2.9558</td><td>0</td><td>0</td><td>0</td><td>0</td><td>0</td><td>25.0</td><td>2</td><td>2</td><td>0</td></tr><tr><th>26</th><td>3.414</td><td>2.6294</td><td>0</td><td>0</td><td>0</td><td>0</td><td>0</td><td>37.5</td><td>1</td><td>1</td><td>0</td></tr><tr><th>27</th><td>4.214</td><td>3.0057</td><td>0</td><td>0</td><td>0</td><td>0</td><td>0</td><td>25.0</td><td>1</td><td>2</td><td>0</td></tr><tr><th>28</th><td>3.848</td><td>2.8521</td><td>0</td><td>0</td><td>0</td><td>0</td><td>0</td><td>27.3</td><td>2</td><td>2</td><td>0</td></tr><tr><th>29</th><td>3.414</td><td>2.3729</td><td>0</td><td>0</td><td>0</td><td>0</td><td>0</td><td>30.0</td><td>1</td><td>1</td><td>0</td></tr><tr><th>30</th><td>4.393</td><td>3.6458</td><td>0</td><td>0</td><td>0</td><td>0</td><td>0</td><td>37.0</td><td>3</td><td>1</td><td>0</td></tr><tr><th>&vellip;</th><td>&vellip;</td><td>&vellip;</td><td>&vellip;</td><td>&vellip;</td><td>&vellip;</td><td>&vellip;</td><td>&vellip;</td><td>&vellip;</td><td>&vellip;</td><td>&vellip;</td><td>&vellip;</td></tr></tbody></table>"
      ],
      "text/latex": [
       "\\begin{tabular}{r|cccccccccccc}\n",
       "\t& 1 & 2 & 3 & 4 & 5 & 6 & 7 & 8 & 9 & 10 & 11 & \\\\\n",
       "\t\\hline\n",
       "\t& Float64 & Float64 & Int64 & Int64 & Int64 & Int64 & Int64 & Float64 & Int64 & Int64 & Int64 & \\\\\n",
       "\t\\hline\n",
       "\t1 & 3.919 & 2.6909 & 0 & 0 & 0 & 0 & 0 & 31.4 & 2 & 0 & 0 & $\\dots$ \\\\\n",
       "\t2 & 4.17 & 2.1144 & 0 & 0 & 0 & 0 & 0 & 30.8 & 1 & 1 & 0 & $\\dots$ \\\\\n",
       "\t3 & 3.932 & 3.2512 & 0 & 0 & 0 & 0 & 0 & 26.7 & 2 & 4 & 0 & $\\dots$ \\\\\n",
       "\t4 & 3.0 & 2.7098 & 0 & 0 & 0 & 0 & 0 & 20.0 & 0 & 2 & 0 & $\\dots$ \\\\\n",
       "\t5 & 4.236 & 3.3944 & 0 & 0 & 0 & 0 & 0 & 29.4 & 2 & 4 & 0 & $\\dots$ \\\\\n",
       "\t6 & 4.236 & 3.4286 & 0 & 0 & 0 & 0 & 0 & 28.6 & 2 & 4 & 0 & $\\dots$ \\\\\n",
       "\t7 & 5.0 & 5.0476 & 1 & 0 & 0 & 0 & 0 & 11.1 & 0 & 3 & 0 & $\\dots$ \\\\\n",
       "\t8 & 4.525 & 3.8301 & 0 & 0 & 0 & 0 & 0 & 31.6 & 3 & 2 & 0 & $\\dots$ \\\\\n",
       "\t9 & 4.596 & 3.0777 & 0 & 0 & 0 & 0 & 2 & 44.4 & 2 & 0 & 0 & $\\dots$ \\\\\n",
       "\t10 & 5.04 & 3.6112 & 0 & 0 & 1 & 0 & 2 & 41.2 & 0 & 4 & 3 & $\\dots$ \\\\\n",
       "\t11 & 4.91 & 2.7414 & 0 & 0 & 0 & 0 & 2 & 52.9 & 0 & 2 & 0 & $\\dots$ \\\\\n",
       "\t12 & 3.618 & 2.1906 & 0 & 0 & 0 & 0 & 0 & 29.4 & 2 & 0 & 0 & $\\dots$ \\\\\n",
       "\t13 & 4.214 & 2.6272 & 0 & 0 & 0 & 0 & 0 & 30.0 & 3 & 0 & 0 & $\\dots$ \\\\\n",
       "\t14 & 3.732 & 2.3391 & 0 & 0 & 0 & 0 & 0 & 30.0 & 2 & 0 & 0 & $\\dots$ \\\\\n",
       "\t15 & 3.879 & 2.5951 & 0 & 0 & 0 & 0 & 0 & 31.0 & 2 & 0 & 0 & $\\dots$ \\\\\n",
       "\t16 & 3.942 & 2.7719 & 1 & 0 & 0 & 0 & 0 & 31.6 & 2 & 0 & 0 & $\\dots$ \\\\\n",
       "\t17 & 3.966 & 2.852 & 1 & 0 & 0 & 0 & 0 & 32.0 & 2 & 0 & 0 & $\\dots$ \\\\\n",
       "\t18 & 3.732 & 2.3761 & 0 & 0 & 1 & 0 & 0 & 26.3 & 2 & 0 & 1 & $\\dots$ \\\\\n",
       "\t19 & 4.0 & 2.6264 & 0 & 0 & 0 & 0 & 0 & 23.1 & 0 & 0 & 0 & $\\dots$ \\\\\n",
       "\t20 & 2.0 & 1.1521 & 0 & 0 & 0 & 0 & 0 & 16.7 & 1 & 1 & 0 & $\\dots$ \\\\\n",
       "\t21 & 3.732 & 2.4062 & 0 & 0 & 0 & 0 & 0 & 27.8 & 2 & 1 & 0 & $\\dots$ \\\\\n",
       "\t22 & 4.0 & 2.3699 & 0 & 0 & 0 & 0 & 0 & 30.0 & 1 & 1 & 0 & $\\dots$ \\\\\n",
       "\t23 & 3.414 & 2.2525 & 0 & 0 & 0 & 0 & 0 & 20.0 & 2 & 2 & 0 & $\\dots$ \\\\\n",
       "\t24 & 4.17 & 2.8042 & 0 & 0 & 0 & 0 & 0 & 23.1 & 2 & 2 & 0 & $\\dots$ \\\\\n",
       "\t25 & 4.303 & 2.9558 & 0 & 0 & 0 & 0 & 0 & 25.0 & 2 & 2 & 0 & $\\dots$ \\\\\n",
       "\t26 & 3.414 & 2.6294 & 0 & 0 & 0 & 0 & 0 & 37.5 & 1 & 1 & 0 & $\\dots$ \\\\\n",
       "\t27 & 4.214 & 3.0057 & 0 & 0 & 0 & 0 & 0 & 25.0 & 1 & 2 & 0 & $\\dots$ \\\\\n",
       "\t28 & 3.848 & 2.8521 & 0 & 0 & 0 & 0 & 0 & 27.3 & 2 & 2 & 0 & $\\dots$ \\\\\n",
       "\t29 & 3.414 & 2.3729 & 0 & 0 & 0 & 0 & 0 & 30.0 & 1 & 1 & 0 & $\\dots$ \\\\\n",
       "\t30 & 4.393 & 3.6458 & 0 & 0 & 0 & 0 & 0 & 37.0 & 3 & 1 & 0 & $\\dots$ \\\\\n",
       "\t$\\dots$ & $\\dots$ & $\\dots$ & $\\dots$ & $\\dots$ & $\\dots$ & $\\dots$ & $\\dots$ & $\\dots$ & $\\dots$ & $\\dots$ & $\\dots$ &  \\\\\n",
       "\\end{tabular}\n"
      ],
      "text/plain": [
       "1055×42 DataFrame. Omitted printing of 34 columns\n",
       "│ Row  │ 1       │ 2       │ 3     │ 4     │ 5     │ 6     │ 7     │ 8       │\n",
       "│      │ \u001b[90mFloat64\u001b[39m │ \u001b[90mFloat64\u001b[39m │ \u001b[90mInt64\u001b[39m │ \u001b[90mInt64\u001b[39m │ \u001b[90mInt64\u001b[39m │ \u001b[90mInt64\u001b[39m │ \u001b[90mInt64\u001b[39m │ \u001b[90mFloat64\u001b[39m │\n",
       "├──────┼─────────┼─────────┼───────┼───────┼───────┼───────┼───────┼─────────┤\n",
       "│ 1    │ 3.919   │ 2.6909  │ 0     │ 0     │ 0     │ 0     │ 0     │ 31.4    │\n",
       "│ 2    │ 4.17    │ 2.1144  │ 0     │ 0     │ 0     │ 0     │ 0     │ 30.8    │\n",
       "│ 3    │ 3.932   │ 3.2512  │ 0     │ 0     │ 0     │ 0     │ 0     │ 26.7    │\n",
       "│ 4    │ 3.0     │ 2.7098  │ 0     │ 0     │ 0     │ 0     │ 0     │ 20.0    │\n",
       "│ 5    │ 4.236   │ 3.3944  │ 0     │ 0     │ 0     │ 0     │ 0     │ 29.4    │\n",
       "│ 6    │ 4.236   │ 3.4286  │ 0     │ 0     │ 0     │ 0     │ 0     │ 28.6    │\n",
       "│ 7    │ 5.0     │ 5.0476  │ 1     │ 0     │ 0     │ 0     │ 0     │ 11.1    │\n",
       "│ 8    │ 4.525   │ 3.8301  │ 0     │ 0     │ 0     │ 0     │ 0     │ 31.6    │\n",
       "│ 9    │ 4.596   │ 3.0777  │ 0     │ 0     │ 0     │ 0     │ 2     │ 44.4    │\n",
       "│ 10   │ 5.04    │ 3.6112  │ 0     │ 0     │ 1     │ 0     │ 2     │ 41.2    │\n",
       "⋮\n",
       "│ 1045 │ 4.807   │ 3.3179  │ 1     │ 0     │ 0     │ 0     │ 3     │ 43.8    │\n",
       "│ 1046 │ 4.607   │ 3.0008  │ 1     │ 0     │ 0     │ 0     │ 2     │ 41.2    │\n",
       "│ 1047 │ 5.313   │ 2.7782  │ 0     │ 0     │ 0     │ 1     │ 2     │ 40.0    │\n",
       "│ 1048 │ 5.103   │ 3.9184  │ 0     │ 0     │ 4     │ 0     │ 4     │ 35.0    │\n",
       "│ 1049 │ 5.265   │ 3.3444  │ 2     │ 0     │ 6     │ 0     │ 1     │ 35.3    │\n",
       "│ 1050 │ 5.029   │ 2.5966  │ 0     │ 0     │ 0     │ 0     │ 4     │ 46.7    │\n",
       "│ 1051 │ 5.431   │ 2.8955  │ 0     │ 0     │ 0     │ 2     │ 0     │ 32.1    │\n",
       "│ 1052 │ 5.287   │ 3.3732  │ 0     │ 0     │ 9     │ 0     │ 0     │ 35.3    │\n",
       "│ 1053 │ 4.869   │ 1.767   │ 0     │ 1     │ 9     │ 0     │ 5     │ 44.4    │\n",
       "│ 1054 │ 5.158   │ 1.6914  │ 2     │ 0     │ 36    │ 0     │ 9     │ 56.1    │\n",
       "│ 1055 │ 5.076   │ 2.6588  │ 2     │ 0     │ 0     │ 0     │ 4     │ 54.5    │"
      ]
     },
     "execution_count": 3,
     "metadata": {},
     "output_type": "execute_result"
    }
   ],
   "source": [
    "data = CSV.read(\"data.csv\")"
   ]
  },
  {
   "cell_type": "code",
   "execution_count": 4,
   "metadata": {},
   "outputs": [
    {
     "data": {
      "text/html": [
       "<table class=\"data-frame\"><thead><tr><th></th><th>variable</th><th>mean</th><th>min</th><th>median</th><th>max</th><th>nunique</th><th>nmissing</th><th>eltype</th></tr><tr><th></th><th>Symbol</th><th>Union…</th><th>Any</th><th>Union…</th><th>Any</th><th>Union…</th><th>Nothing</th><th>DataType</th></tr></thead><tbody><p>42 rows × 8 columns</p><tr><th>1</th><td>1</td><td>4.78264</td><td>2.0</td><td>4.828</td><td>6.496</td><td></td><td></td><td>Float64</td></tr><tr><th>2</th><td>2</td><td>3.06951</td><td>0.8039</td><td>3.0463</td><td>9.1775</td><td></td><td></td><td>Float64</td></tr><tr><th>3</th><td>3</td><td>0.716588</td><td>0</td><td>0.0</td><td>12</td><td></td><td></td><td>Int64</td></tr><tr><th>4</th><td>4</td><td>0.042654</td><td>0</td><td>0.0</td><td>3</td><td></td><td></td><td>Int64</td></tr><tr><th>5</th><td>5</td><td>0.980095</td><td>0</td><td>0.0</td><td>36</td><td></td><td></td><td>Int64</td></tr><tr><th>6</th><td>6</td><td>0.290047</td><td>0</td><td>0.0</td><td>13</td><td></td><td></td><td>Int64</td></tr><tr><th>7</th><td>7</td><td>1.64645</td><td>0</td><td>1.0</td><td>18</td><td></td><td></td><td>Int64</td></tr><tr><th>8</th><td>8</td><td>37.0556</td><td>0.0</td><td>37.5</td><td>60.7</td><td></td><td></td><td>Float64</td></tr><tr><th>9</th><td>9</td><td>1.3763</td><td>0</td><td>1.0</td><td>24</td><td></td><td></td><td>Int64</td></tr><tr><th>10</th><td>10</td><td>1.80379</td><td>0</td><td>2.0</td><td>12</td><td></td><td></td><td>Int64</td></tr><tr><th>11</th><td>11</td><td>1.43697</td><td>0</td><td>0.0</td><td>44</td><td></td><td></td><td>Int64</td></tr><tr><th>12</th><td>12</td><td>-0.197129</td><td>-5.256</td><td>0.0</td><td>4.722</td><td></td><td></td><td>Float64</td></tr><tr><th>13</th><td>13</td><td>3.47684</td><td>1.544</td><td>3.442</td><td>5.701</td><td></td><td></td><td>Float64</td></tr><tr><th>14</th><td>14</td><td>1.35072</td><td>0.0</td><td>1.187</td><td>4.491</td><td></td><td></td><td>Float64</td></tr><tr><th>15</th><td>15</td><td>9.93738</td><td>4.174</td><td>10.039</td><td>12.609</td><td></td><td></td><td>Float64</td></tr><tr><th>16</th><td>16</td><td>3.63033</td><td>0</td><td>2.0</td><td>40</td><td></td><td></td><td>Int64</td></tr><tr><th>17</th><td>17</td><td>1.0133</td><td>0.957</td><td>1.003</td><td>1.311</td><td></td><td></td><td>Float64</td></tr><tr><th>18</th><td>18</td><td>1.13111</td><td>1.022</td><td>1.13</td><td>1.377</td><td></td><td></td><td>Float64</td></tr><tr><th>19</th><td>19</td><td>0.00853081</td><td>0</td><td>0.0</td><td>2</td><td></td><td></td><td>Int64</td></tr><tr><th>20</th><td>20</td><td>0.0739336</td><td>0</td><td>0.0</td><td>3</td><td></td><td></td><td>Int64</td></tr><tr><th>21</th><td>21</td><td>0.0293839</td><td>0</td><td>0.0</td><td>3</td><td></td><td></td><td>Int64</td></tr><tr><th>22</th><td>22</td><td>1.23873</td><td>0.863</td><td>1.243</td><td>1.641</td><td></td><td></td><td>Float64</td></tr><tr><th>23</th><td>23</td><td>1.40569</td><td>0</td><td>1.0</td><td>147</td><td></td><td></td><td>Int64</td></tr><tr><th>24</th><td>24</td><td>0.0398104</td><td>0</td><td>0.0</td><td>1</td><td></td><td></td><td>Int64</td></tr><tr><th>25</th><td>25</td><td>0.147867</td><td>0</td><td>0.0</td><td>1</td><td></td><td></td><td>Int64</td></tr><tr><th>26</th><td>26</td><td>0.0312796</td><td>0</td><td>0.0</td><td>3</td><td></td><td></td><td>Int64</td></tr><tr><th>27</th><td>27</td><td>2.21564</td><td>1.0</td><td>2.247</td><td>2.859</td><td></td><td></td><td>Float64</td></tr><tr><th>28</th><td>28</td><td>-0.00120569</td><td>-1.099</td><td>0.0</td><td>1.073</td><td></td><td></td><td>Float64</td></tr><tr><th>29</th><td>29</td><td>0.0265403</td><td>0</td><td>0.0</td><td>1</td><td></td><td></td><td>Int64</td></tr><tr><th>30</th><td>30</td><td>8.78051</td><td>0.0</td><td>0.0</td><td>71.167</td><td></td><td></td><td>Float64</td></tr><tr><th>&vellip;</th><td>&vellip;</td><td>&vellip;</td><td>&vellip;</td><td>&vellip;</td><td>&vellip;</td><td>&vellip;</td><td>&vellip;</td><td>&vellip;</td></tr></tbody></table>"
      ],
      "text/latex": [
       "\\begin{tabular}{r|cccccccc}\n",
       "\t& variable & mean & min & median & max & nunique & nmissing & eltype\\\\\n",
       "\t\\hline\n",
       "\t& Symbol & Union… & Any & Union… & Any & Union… & Nothing & DataType\\\\\n",
       "\t\\hline\n",
       "\t1 & 1 & 4.78264 & 2.0 & 4.828 & 6.496 &  &  & Float64 \\\\\n",
       "\t2 & 2 & 3.06951 & 0.8039 & 3.0463 & 9.1775 &  &  & Float64 \\\\\n",
       "\t3 & 3 & 0.716588 & 0 & 0.0 & 12 &  &  & Int64 \\\\\n",
       "\t4 & 4 & 0.042654 & 0 & 0.0 & 3 &  &  & Int64 \\\\\n",
       "\t5 & 5 & 0.980095 & 0 & 0.0 & 36 &  &  & Int64 \\\\\n",
       "\t6 & 6 & 0.290047 & 0 & 0.0 & 13 &  &  & Int64 \\\\\n",
       "\t7 & 7 & 1.64645 & 0 & 1.0 & 18 &  &  & Int64 \\\\\n",
       "\t8 & 8 & 37.0556 & 0.0 & 37.5 & 60.7 &  &  & Float64 \\\\\n",
       "\t9 & 9 & 1.3763 & 0 & 1.0 & 24 &  &  & Int64 \\\\\n",
       "\t10 & 10 & 1.80379 & 0 & 2.0 & 12 &  &  & Int64 \\\\\n",
       "\t11 & 11 & 1.43697 & 0 & 0.0 & 44 &  &  & Int64 \\\\\n",
       "\t12 & 12 & -0.197129 & -5.256 & 0.0 & 4.722 &  &  & Float64 \\\\\n",
       "\t13 & 13 & 3.47684 & 1.544 & 3.442 & 5.701 &  &  & Float64 \\\\\n",
       "\t14 & 14 & 1.35072 & 0.0 & 1.187 & 4.491 &  &  & Float64 \\\\\n",
       "\t15 & 15 & 9.93738 & 4.174 & 10.039 & 12.609 &  &  & Float64 \\\\\n",
       "\t16 & 16 & 3.63033 & 0 & 2.0 & 40 &  &  & Int64 \\\\\n",
       "\t17 & 17 & 1.0133 & 0.957 & 1.003 & 1.311 &  &  & Float64 \\\\\n",
       "\t18 & 18 & 1.13111 & 1.022 & 1.13 & 1.377 &  &  & Float64 \\\\\n",
       "\t19 & 19 & 0.00853081 & 0 & 0.0 & 2 &  &  & Int64 \\\\\n",
       "\t20 & 20 & 0.0739336 & 0 & 0.0 & 3 &  &  & Int64 \\\\\n",
       "\t21 & 21 & 0.0293839 & 0 & 0.0 & 3 &  &  & Int64 \\\\\n",
       "\t22 & 22 & 1.23873 & 0.863 & 1.243 & 1.641 &  &  & Float64 \\\\\n",
       "\t23 & 23 & 1.40569 & 0 & 1.0 & 147 &  &  & Int64 \\\\\n",
       "\t24 & 24 & 0.0398104 & 0 & 0.0 & 1 &  &  & Int64 \\\\\n",
       "\t25 & 25 & 0.147867 & 0 & 0.0 & 1 &  &  & Int64 \\\\\n",
       "\t26 & 26 & 0.0312796 & 0 & 0.0 & 3 &  &  & Int64 \\\\\n",
       "\t27 & 27 & 2.21564 & 1.0 & 2.247 & 2.859 &  &  & Float64 \\\\\n",
       "\t28 & 28 & -0.00120569 & -1.099 & 0.0 & 1.073 &  &  & Float64 \\\\\n",
       "\t29 & 29 & 0.0265403 & 0 & 0.0 & 1 &  &  & Int64 \\\\\n",
       "\t30 & 30 & 8.78051 & 0.0 & 0.0 & 71.167 &  &  & Float64 \\\\\n",
       "\t$\\dots$ & $\\dots$ & $\\dots$ & $\\dots$ & $\\dots$ & $\\dots$ & $\\dots$ & $\\dots$ & $\\dots$ \\\\\n",
       "\\end{tabular}\n"
      ],
      "text/plain": [
       "42×8 DataFrame. Omitted printing of 1 columns\n",
       "│ Row │ variable │ mean      │ min    │ median │ max    │ nunique │ nmissing │\n",
       "│     │ \u001b[90mSymbol\u001b[39m   │ \u001b[90mUnion…\u001b[39m    │ \u001b[90mAny\u001b[39m    │ \u001b[90mUnion…\u001b[39m │ \u001b[90mAny\u001b[39m    │ \u001b[90mUnion…\u001b[39m  │ \u001b[90mNothing\u001b[39m  │\n",
       "├─────┼──────────┼───────────┼────────┼────────┼────────┼─────────┼──────────┤\n",
       "│ 1   │ 1        │ 4.78264   │ 2.0    │ 4.828  │ 6.496  │         │          │\n",
       "│ 2   │ 2        │ 3.06951   │ 0.8039 │ 3.0463 │ 9.1775 │         │          │\n",
       "│ 3   │ 3        │ 0.716588  │ 0      │ 0.0    │ 12     │         │          │\n",
       "│ 4   │ 4        │ 0.042654  │ 0      │ 0.0    │ 3      │         │          │\n",
       "│ 5   │ 5        │ 0.980095  │ 0      │ 0.0    │ 36     │         │          │\n",
       "│ 6   │ 6        │ 0.290047  │ 0      │ 0.0    │ 13     │         │          │\n",
       "│ 7   │ 7        │ 1.64645   │ 0      │ 1.0    │ 18     │         │          │\n",
       "│ 8   │ 8        │ 37.0556   │ 0.0    │ 37.5   │ 60.7   │         │          │\n",
       "│ 9   │ 9        │ 1.3763    │ 0      │ 1.0    │ 24     │         │          │\n",
       "│ 10  │ 10       │ 1.80379   │ 0      │ 2.0    │ 12     │         │          │\n",
       "⋮\n",
       "│ 32  │ 32       │ 0.129858  │ 0      │ 0.0    │ 8      │         │          │\n",
       "│ 33  │ 33       │ 0.883412  │ 0      │ 0.0    │ 12     │         │          │\n",
       "│ 34  │ 34       │ 1.27488   │ 0      │ 0.0    │ 18     │         │          │\n",
       "│ 35  │ 35       │ 0.961137  │ 0      │ 1.0    │ 7      │         │          │\n",
       "│ 36  │ 36       │ 3.91824   │ 2.267  │ 3.726  │ 10.695 │         │          │\n",
       "│ 37  │ 37       │ 2.55842   │ 1.467  │ 2.458  │ 5.825  │         │          │\n",
       "│ 38  │ 38       │ 0.686256  │ 0      │ 0.0    │ 8      │         │          │\n",
       "│ 39  │ 39       │ 8.62949   │ 4.917  │ 8.499  │ 14.7   │         │          │\n",
       "│ 40  │ 40       │ 0.0511848 │ 0      │ 0.0    │ 4      │         │          │\n",
       "│ 41  │ 41       │ 0.723223  │ 0      │ 0.0    │ 27     │         │          │\n",
       "│ 42  │ Class    │           │ NRB    │        │ RB     │ 2       │          │"
      ]
     },
     "execution_count": 4,
     "metadata": {},
     "output_type": "execute_result"
    }
   ],
   "source": [
    "describe(data)"
   ]
  },
  {
   "cell_type": "markdown",
   "metadata": {},
   "source": [
    "Look at class labels to see if dataset is imbalanced"
   ]
  },
  {
   "cell_type": "code",
   "execution_count": 5,
   "metadata": {},
   "outputs": [
    {
     "data": {
      "text/plain": [
       "Dict{String,Int64} with 2 entries:\n",
       "  \"RB\"  => 356\n",
       "  \"NRB\" => 699"
      ]
     },
     "execution_count": 5,
     "metadata": {},
     "output_type": "execute_result"
    }
   ],
   "source": [
    "label_counts = countmap(data[:Class])"
   ]
  },
  {
   "cell_type": "code",
   "execution_count": 6,
   "metadata": {},
   "outputs": [
    {
     "data": {
      "text/plain": [
       "2-element Array{Float64,1}:\n",
       " 0.33744075829383885\n",
       " 0.6625592417061611"
      ]
     },
     "execution_count": 6,
     "metadata": {},
     "output_type": "execute_result"
    }
   ],
   "source": [
    "collect(label_counts[i] / size(data)[1] for i in keys(label_counts))"
   ]
  },
  {
   "cell_type": "markdown",
   "metadata": {},
   "source": [
    "Get data ready for training"
   ]
  },
  {
   "cell_type": "code",
   "execution_count": 7,
   "metadata": {},
   "outputs": [
    {
     "data": {
      "text/plain": [
       "┌\u001b[0m─────────\u001b[0m┬\u001b[0m─────────────────────────────────\u001b[0m┬\u001b[0m───────────────\u001b[0m┐\u001b[0m\n",
       "│\u001b[0m\u001b[22m _.names \u001b[0m│\u001b[0m\u001b[22m _.types                         \u001b[0m│\u001b[0m\u001b[22m _.scitypes    \u001b[0m│\u001b[0m\n",
       "├\u001b[0m─────────\u001b[0m┼\u001b[0m─────────────────────────────────\u001b[0m┼\u001b[0m───────────────\u001b[0m┤\u001b[0m\n",
       "│\u001b[0m 1       \u001b[0m│\u001b[0m Float64                         \u001b[0m│\u001b[0m Continuous    \u001b[0m│\u001b[0m\n",
       "│\u001b[0m 2       \u001b[0m│\u001b[0m Float64                         \u001b[0m│\u001b[0m Continuous    \u001b[0m│\u001b[0m\n",
       "│\u001b[0m 3       \u001b[0m│\u001b[0m Int64                           \u001b[0m│\u001b[0m Count         \u001b[0m│\u001b[0m\n",
       "│\u001b[0m 4       \u001b[0m│\u001b[0m Int64                           \u001b[0m│\u001b[0m Count         \u001b[0m│\u001b[0m\n",
       "│\u001b[0m 5       \u001b[0m│\u001b[0m Int64                           \u001b[0m│\u001b[0m Count         \u001b[0m│\u001b[0m\n",
       "│\u001b[0m 6       \u001b[0m│\u001b[0m Int64                           \u001b[0m│\u001b[0m Count         \u001b[0m│\u001b[0m\n",
       "│\u001b[0m 7       \u001b[0m│\u001b[0m Int64                           \u001b[0m│\u001b[0m Count         \u001b[0m│\u001b[0m\n",
       "│\u001b[0m 8       \u001b[0m│\u001b[0m Float64                         \u001b[0m│\u001b[0m Continuous    \u001b[0m│\u001b[0m\n",
       "│\u001b[0m 9       \u001b[0m│\u001b[0m Int64                           \u001b[0m│\u001b[0m Count         \u001b[0m│\u001b[0m\n",
       "│\u001b[0m 10      \u001b[0m│\u001b[0m Int64                           \u001b[0m│\u001b[0m Count         \u001b[0m│\u001b[0m\n",
       "│\u001b[0m 11      \u001b[0m│\u001b[0m Int64                           \u001b[0m│\u001b[0m Count         \u001b[0m│\u001b[0m\n",
       "│\u001b[0m 12      \u001b[0m│\u001b[0m Float64                         \u001b[0m│\u001b[0m Continuous    \u001b[0m│\u001b[0m\n",
       "│\u001b[0m 13      \u001b[0m│\u001b[0m Float64                         \u001b[0m│\u001b[0m Continuous    \u001b[0m│\u001b[0m\n",
       "│\u001b[0m 14      \u001b[0m│\u001b[0m Float64                         \u001b[0m│\u001b[0m Continuous    \u001b[0m│\u001b[0m\n",
       "│\u001b[0m 15      \u001b[0m│\u001b[0m Float64                         \u001b[0m│\u001b[0m Continuous    \u001b[0m│\u001b[0m\n",
       "│\u001b[0m 16      \u001b[0m│\u001b[0m Int64                           \u001b[0m│\u001b[0m Count         \u001b[0m│\u001b[0m\n",
       "│\u001b[0m 17      \u001b[0m│\u001b[0m Float64                         \u001b[0m│\u001b[0m Continuous    \u001b[0m│\u001b[0m\n",
       "│\u001b[0m 18      \u001b[0m│\u001b[0m Float64                         \u001b[0m│\u001b[0m Continuous    \u001b[0m│\u001b[0m\n",
       "│\u001b[0m 19      \u001b[0m│\u001b[0m Int64                           \u001b[0m│\u001b[0m Count         \u001b[0m│\u001b[0m\n",
       "│\u001b[0m 20      \u001b[0m│\u001b[0m Int64                           \u001b[0m│\u001b[0m Count         \u001b[0m│\u001b[0m\n",
       "│\u001b[0m 21      \u001b[0m│\u001b[0m Int64                           \u001b[0m│\u001b[0m Count         \u001b[0m│\u001b[0m\n",
       "│\u001b[0m 22      \u001b[0m│\u001b[0m Float64                         \u001b[0m│\u001b[0m Continuous    \u001b[0m│\u001b[0m\n",
       "│\u001b[0m 23      \u001b[0m│\u001b[0m Int64                           \u001b[0m│\u001b[0m Count         \u001b[0m│\u001b[0m\n",
       "│\u001b[0m 24      \u001b[0m│\u001b[0m Int64                           \u001b[0m│\u001b[0m Count         \u001b[0m│\u001b[0m\n",
       "│\u001b[0m 25      \u001b[0m│\u001b[0m Int64                           \u001b[0m│\u001b[0m Count         \u001b[0m│\u001b[0m\n",
       "│\u001b[0m 26      \u001b[0m│\u001b[0m Int64                           \u001b[0m│\u001b[0m Count         \u001b[0m│\u001b[0m\n",
       "│\u001b[0m 27      \u001b[0m│\u001b[0m Float64                         \u001b[0m│\u001b[0m Continuous    \u001b[0m│\u001b[0m\n",
       "│\u001b[0m 28      \u001b[0m│\u001b[0m Float64                         \u001b[0m│\u001b[0m Continuous    \u001b[0m│\u001b[0m\n",
       "│\u001b[0m 29      \u001b[0m│\u001b[0m Int64                           \u001b[0m│\u001b[0m Count         \u001b[0m│\u001b[0m\n",
       "│\u001b[0m 30      \u001b[0m│\u001b[0m Float64                         \u001b[0m│\u001b[0m Continuous    \u001b[0m│\u001b[0m\n",
       "│\u001b[0m 31      \u001b[0m│\u001b[0m Float64                         \u001b[0m│\u001b[0m Continuous    \u001b[0m│\u001b[0m\n",
       "│\u001b[0m 32      \u001b[0m│\u001b[0m Int64                           \u001b[0m│\u001b[0m Count         \u001b[0m│\u001b[0m\n",
       "│\u001b[0m 33      \u001b[0m│\u001b[0m Int64                           \u001b[0m│\u001b[0m Count         \u001b[0m│\u001b[0m\n",
       "│\u001b[0m 34      \u001b[0m│\u001b[0m Int64                           \u001b[0m│\u001b[0m Count         \u001b[0m│\u001b[0m\n",
       "│\u001b[0m 35      \u001b[0m│\u001b[0m Int64                           \u001b[0m│\u001b[0m Count         \u001b[0m│\u001b[0m\n",
       "│\u001b[0m 36      \u001b[0m│\u001b[0m Float64                         \u001b[0m│\u001b[0m Continuous    \u001b[0m│\u001b[0m\n",
       "│\u001b[0m 37      \u001b[0m│\u001b[0m Float64                         \u001b[0m│\u001b[0m Continuous    \u001b[0m│\u001b[0m\n",
       "│\u001b[0m 38      \u001b[0m│\u001b[0m Int64                           \u001b[0m│\u001b[0m Count         \u001b[0m│\u001b[0m\n",
       "│\u001b[0m 39      \u001b[0m│\u001b[0m Float64                         \u001b[0m│\u001b[0m Continuous    \u001b[0m│\u001b[0m\n",
       "│\u001b[0m 40      \u001b[0m│\u001b[0m Int64                           \u001b[0m│\u001b[0m Count         \u001b[0m│\u001b[0m\n",
       "│\u001b[0m 41      \u001b[0m│\u001b[0m Int64                           \u001b[0m│\u001b[0m Count         \u001b[0m│\u001b[0m\n",
       "│\u001b[0m Class   \u001b[0m│\u001b[0m CategoricalValue{String,UInt32} \u001b[0m│\u001b[0m Multiclass{2} \u001b[0m│\u001b[0m\n",
       "└\u001b[0m─────────\u001b[0m┴\u001b[0m─────────────────────────────────\u001b[0m┴\u001b[0m───────────────\u001b[0m┘\u001b[0m\n",
       "_.nrows = 1055\n"
      ]
     },
     "execution_count": 7,
     "metadata": {},
     "output_type": "execute_result"
    }
   ],
   "source": [
    "coerce!(data, :Class=>Multiclass)\n",
    "schema(data)"
   ]
  },
  {
   "cell_type": "code",
   "execution_count": 8,
   "metadata": {
    "scrolled": false
   },
   "outputs": [
    {
     "data": {
      "text/plain": [
       "(CategoricalValue{String,UInt32}[\"RB\", \"RB\", \"RB\", \"RB\", \"RB\", \"RB\", \"RB\", \"RB\", \"RB\", \"RB\"  …  \"NRB\", \"NRB\", \"NRB\", \"NRB\", \"NRB\", \"NRB\", \"NRB\", \"NRB\", \"NRB\", \"NRB\"], 1055×41 DataFrame. Omitted printing of 33 columns\n",
       "│ Row  │ 1       │ 2       │ 3     │ 4     │ 5     │ 6     │ 7     │ 8       │\n",
       "│      │ \u001b[90mFloat64\u001b[39m │ \u001b[90mFloat64\u001b[39m │ \u001b[90mInt64\u001b[39m │ \u001b[90mInt64\u001b[39m │ \u001b[90mInt64\u001b[39m │ \u001b[90mInt64\u001b[39m │ \u001b[90mInt64\u001b[39m │ \u001b[90mFloat64\u001b[39m │\n",
       "├──────┼─────────┼─────────┼───────┼───────┼───────┼───────┼───────┼─────────┤\n",
       "│ 1    │ 3.919   │ 2.6909  │ 0     │ 0     │ 0     │ 0     │ 0     │ 31.4    │\n",
       "│ 2    │ 4.17    │ 2.1144  │ 0     │ 0     │ 0     │ 0     │ 0     │ 30.8    │\n",
       "│ 3    │ 3.932   │ 3.2512  │ 0     │ 0     │ 0     │ 0     │ 0     │ 26.7    │\n",
       "│ 4    │ 3.0     │ 2.7098  │ 0     │ 0     │ 0     │ 0     │ 0     │ 20.0    │\n",
       "│ 5    │ 4.236   │ 3.3944  │ 0     │ 0     │ 0     │ 0     │ 0     │ 29.4    │\n",
       "│ 6    │ 4.236   │ 3.4286  │ 0     │ 0     │ 0     │ 0     │ 0     │ 28.6    │\n",
       "│ 7    │ 5.0     │ 5.0476  │ 1     │ 0     │ 0     │ 0     │ 0     │ 11.1    │\n",
       "│ 8    │ 4.525   │ 3.8301  │ 0     │ 0     │ 0     │ 0     │ 0     │ 31.6    │\n",
       "│ 9    │ 4.596   │ 3.0777  │ 0     │ 0     │ 0     │ 0     │ 2     │ 44.4    │\n",
       "│ 10   │ 5.04    │ 3.6112  │ 0     │ 0     │ 1     │ 0     │ 2     │ 41.2    │\n",
       "⋮\n",
       "│ 1045 │ 4.807   │ 3.3179  │ 1     │ 0     │ 0     │ 0     │ 3     │ 43.8    │\n",
       "│ 1046 │ 4.607   │ 3.0008  │ 1     │ 0     │ 0     │ 0     │ 2     │ 41.2    │\n",
       "│ 1047 │ 5.313   │ 2.7782  │ 0     │ 0     │ 0     │ 1     │ 2     │ 40.0    │\n",
       "│ 1048 │ 5.103   │ 3.9184  │ 0     │ 0     │ 4     │ 0     │ 4     │ 35.0    │\n",
       "│ 1049 │ 5.265   │ 3.3444  │ 2     │ 0     │ 6     │ 0     │ 1     │ 35.3    │\n",
       "│ 1050 │ 5.029   │ 2.5966  │ 0     │ 0     │ 0     │ 0     │ 4     │ 46.7    │\n",
       "│ 1051 │ 5.431   │ 2.8955  │ 0     │ 0     │ 0     │ 2     │ 0     │ 32.1    │\n",
       "│ 1052 │ 5.287   │ 3.3732  │ 0     │ 0     │ 9     │ 0     │ 0     │ 35.3    │\n",
       "│ 1053 │ 4.869   │ 1.767   │ 0     │ 1     │ 9     │ 0     │ 5     │ 44.4    │\n",
       "│ 1054 │ 5.158   │ 1.6914  │ 2     │ 0     │ 36    │ 0     │ 9     │ 56.1    │\n",
       "│ 1055 │ 5.076   │ 2.6588  │ 2     │ 0     │ 0     │ 0     │ 4     │ 54.5    │)"
      ]
     },
     "execution_count": 8,
     "metadata": {},
     "output_type": "execute_result"
    }
   ],
   "source": [
    "y, X = unpack(data, ==(:Class), colname->true)"
   ]
  },
  {
   "cell_type": "markdown",
   "metadata": {},
   "source": [
    "Partition train and test data accoring to class labels"
   ]
  },
  {
   "cell_type": "code",
   "execution_count": 9,
   "metadata": {},
   "outputs": [
    {
     "data": {
      "text/plain": [
       "([465, 562, 278, 619, 161, 972, 782, 321, 537, 760  …  12, 913, 471, 13, 1006, 802, 112, 840, 744, 261], [196, 586, 245, 77, 1028, 432, 215, 987, 137, 411  …  975, 610, 886, 848, 731, 1024, 805, 500, 659, 415])"
      ]
     },
     "execution_count": 9,
     "metadata": {},
     "output_type": "execute_result"
    }
   ],
   "source": [
    "# data to use when trying to fit a single validation set\n",
    "train, test = partition(eachindex(y), 0.7, shuffle=true, rng=123, stratify=values(data[:Class])) # gives 70:30 split"
   ]
  },
  {
   "cell_type": "code",
   "execution_count": 10,
   "metadata": {
    "scrolled": false
   },
   "outputs": [
    {
     "data": {
      "text/plain": [
       "2-element Array{Float64,1}:\n",
       " 0.33739837398373984\n",
       " 0.6626016260162602"
      ]
     },
     "execution_count": 10,
     "metadata": {},
     "output_type": "execute_result"
    }
   ],
   "source": [
    "train_counts = countmap(data[train,:Class])\n",
    "collect(train_counts[i] / size(train)[1] for i in keys(train_counts))"
   ]
  },
  {
   "cell_type": "code",
   "execution_count": 11,
   "metadata": {
    "scrolled": false
   },
   "outputs": [
    {
     "data": {
      "text/plain": [
       "2-element Array{Float64,1}:\n",
       " 0.33753943217665616\n",
       " 0.6624605678233438"
      ]
     },
     "execution_count": 11,
     "metadata": {},
     "output_type": "execute_result"
    }
   ],
   "source": [
    "test_counts = countmap(data[test,:Class])\n",
    "collect(test_counts[i] / size(test)[1] for i in keys(test_counts))"
   ]
  },
  {
   "cell_type": "code",
   "execution_count": 12,
   "metadata": {},
   "outputs": [
    {
     "name": "stderr",
     "output_type": "stream",
     "text": [
      "┌ Info: Training \u001b[34mMachine{Standardizer} @670\u001b[39m.\n",
      "└ @ MLJBase /home/andrew/.julia/packages/MLJBase/uKzAz/src/machines.jl:319\n"
     ]
    }
   ],
   "source": [
    "standardizer = Standardizer()\n",
    "stand = machine(standardizer, X[train,:]) #only want to standardize on training distribution\n",
    "fit!(stand)\n",
    "X_stand = MLJ.transform(stand, X);"
   ]
  },
  {
   "cell_type": "markdown",
   "metadata": {},
   "source": [
    "# Five Learning Algorithms\n",
    "\n",
    "* Decision trees with some form of pruning\n",
    "* Neural networks\n",
    "* Boosting\n",
    "* Support Vector Machines\n",
    "* k-nearest neighbors\n",
    "\n",
    "\n",
    "##### Testing\n",
    "* Implement the algorithms\n",
    "* Design two *interesting* classification problems. For the purposes of this assignment, a classification problem is just a set of training examples and a set of test examples."
   ]
  },
  {
   "cell_type": "code",
   "execution_count": 13,
   "metadata": {
    "scrolled": true
   },
   "outputs": [
    {
     "data": {
      "text/plain": [
       "6-element Array{NamedTuple{(:name, :package_name, :is_supervised, :docstring, :hyperparameter_ranges, :hyperparameter_types, :hyperparameters, :implemented_methods, :is_pure_julia, :is_wrapper, :load_path, :package_license, :package_url, :package_uuid, :prediction_type, :supports_online, :supports_weights, :input_scitype, :target_scitype, :output_scitype),T} where T<:Tuple,1}:\n",
       " (name = AdaBoostStumpClassifier, package_name = DecisionTree, ... )\n",
       " (name = ConstantClassifier, package_name = MLJModels, ... )\n",
       " (name = DecisionTreeClassifier, package_name = DecisionTree, ... )\n",
       " (name = DeterministicConstantClassifier, package_name = MLJModels, ... )\n",
       " (name = RandomForestClassifier, package_name = DecisionTree, ... )\n",
       " (name = RandomForestClassifier, package_name = ScikitLearn, ... )"
      ]
     },
     "execution_count": 13,
     "metadata": {},
     "output_type": "execute_result"
    }
   ],
   "source": [
    "models(matching(X,y))"
   ]
  },
  {
   "cell_type": "code",
   "execution_count": 14,
   "metadata": {},
   "outputs": [
    {
     "name": "stdout",
     "output_type": "stream",
     "text": [
      "import MLJFlux "
     ]
    },
    {
     "name": "stderr",
     "output_type": "stream",
     "text": [
      "┌ Info: Loading into module \"Main\": \n",
      "└ @ MLJModels /home/andrew/.julia/packages/MLJModels/mUBFt/src/loading.jl:70\n"
     ]
    },
    {
     "name": "stdout",
     "output_type": "stream",
     "text": [
      "✔\n",
      "import MLJFlux ✔\n"
     ]
    },
    {
     "data": {
      "text/plain": [
       "NeuralNetworkClassifier(\n",
       "    builder = Short(\n",
       "            n_hidden = 0,\n",
       "            dropout = 0.5,\n",
       "            σ = NNlib.σ),\n",
       "    finaliser = NNlib.softmax,\n",
       "    optimiser = ADAM(0.001, (0.9, 0.999), IdDict{Any,Any}()),\n",
       "    loss = Flux.crossentropy,\n",
       "    epochs = 10,\n",
       "    batch_size = 1,\n",
       "    lambda = 0.0,\n",
       "    alpha = 0.0,\n",
       "    optimiser_changes_trigger_retraining = false)\u001b[34m @274\u001b[39m"
      ]
     },
     "execution_count": 14,
     "metadata": {},
     "output_type": "execute_result"
    }
   ],
   "source": [
    "@load NeuralNetworkClassifier verbosity=2"
   ]
  },
  {
   "cell_type": "markdown",
   "metadata": {},
   "source": [
    "## Neural networks\n",
    "* Use favorite kind of network and training algorithm. \n",
    "* You may use networks of nodes with as many layers as you like and any activation function you see fit.\n",
    "\n",
    "1. https://github.com/alan-turing-institute/MLJFlux.jl/blob/master/examples/boston.ipynb\n",
    "1. https://github.com/alan-turing-institute/MLJFlux.jl\n",
    "1. https://alan-turing-institute.github.io/MLJ.jl/dev/transformers/"
   ]
  },
  {
   "cell_type": "code",
   "execution_count": 15,
   "metadata": {},
   "outputs": [],
   "source": [
    "# Define a custom network\n",
    "mutable struct CustomNN <:MLJFlux.Builder\n",
    "    n1 ::Int\n",
    "end"
   ]
  },
  {
   "cell_type": "code",
   "execution_count": 16,
   "metadata": {},
   "outputs": [],
   "source": [
    "function MLJFlux.build(nn::CustomNN, n_in, n_out)\n",
    "    return Chain(\n",
    "        Flux.Dense(n_in, nn.n1, σ),\n",
    "        Flux.Dense(nn.n1, n_out, σ)\n",
    "    )\n",
    "end"
   ]
  },
  {
   "cell_type": "code",
   "execution_count": 17,
   "metadata": {},
   "outputs": [
    {
     "data": {
      "text/plain": [
       "80"
      ]
     },
     "execution_count": 17,
     "metadata": {},
     "output_type": "execute_result"
    }
   ],
   "source": [
    "layer1 = 80"
   ]
  },
  {
   "cell_type": "code",
   "execution_count": 18,
   "metadata": {},
   "outputs": [],
   "source": [
    "batch_sz = 16;"
   ]
  },
  {
   "cell_type": "code",
   "execution_count": 19,
   "metadata": {},
   "outputs": [],
   "source": [
    "max_epochs = 2000;"
   ]
  },
  {
   "cell_type": "markdown",
   "metadata": {},
   "source": [
    "### No-preprocessing"
   ]
  },
  {
   "cell_type": "code",
   "execution_count": 20,
   "metadata": {},
   "outputs": [
    {
     "data": {
      "text/plain": [
       "NeuralNetworkClassifier(\n",
       "    builder = CustomNN(\n",
       "            n1 = 80),\n",
       "    finaliser = NNlib.softmax,\n",
       "    optimiser = ADAM(0.001, (0.9, 0.999), IdDict{Any,Any}()),\n",
       "    loss = Flux.crossentropy,\n",
       "    epochs = 10,\n",
       "    batch_size = 1,\n",
       "    lambda = 0.0,\n",
       "    alpha = 0.0,\n",
       "    optimiser_changes_trigger_retraining = false)\u001b[34m @209\u001b[39m"
      ]
     },
     "execution_count": 20,
     "metadata": {},
     "output_type": "execute_result"
    }
   ],
   "source": [
    "nn = NeuralNetworkClassifier(builder=CustomNN(layer1))"
   ]
  },
  {
   "cell_type": "code",
   "execution_count": 21,
   "metadata": {},
   "outputs": [
    {
     "name": "stderr",
     "output_type": "stream",
     "text": [
      "┌ Warning: The scitype of `X`, in `machine(model, X, ...)` is incompatible with `model=\u001b[34mNeuralNetworkClassifier{CustomNN,…} @209\u001b[39m`:\n",
      "│ scitype(X) = Table{Union{AbstractArray{Continuous,1}, AbstractArray{Count,1}}}\n",
      "│ input_scitype(model) = Table{var\"#s44\"} where var\"#s44\"<:(AbstractArray{var\"#s13\",1} where var\"#s13\"<:Continuous).\n",
      "└ @ MLJBase /home/andrew/.julia/packages/MLJBase/uKzAz/src/machines.jl:77\n"
     ]
    },
    {
     "data": {
      "text/plain": [
       "\u001b[34mMachine{NeuralNetworkClassifier{CustomNN,…}} @146\u001b[39m trained 0 times.\n",
       "  args: \n",
       "    1:\t\u001b[34mSource @968\u001b[39m ⏎ `Table{Union{AbstractArray{Continuous,1}, AbstractArray{Count,1}}}`\n",
       "    2:\t\u001b[34mSource @334\u001b[39m ⏎ `AbstractArray{Multiclass{2},1}`\n"
      ]
     },
     "execution_count": 21,
     "metadata": {},
     "output_type": "execute_result"
    }
   ],
   "source": [
    "Net = machine(nn, X, y)"
   ]
  },
  {
   "cell_type": "code",
   "execution_count": 22,
   "metadata": {},
   "outputs": [
    {
     "data": {
      "text/plain": [
       "0.01"
      ]
     },
     "execution_count": 22,
     "metadata": {},
     "output_type": "execute_result"
    }
   ],
   "source": [
    "nn.optimiser.eta = 0.001\n",
    "nn.epochs = 60\n",
    "nn.batch_size = batch_sz\n",
    "nn.lambda = 0.01"
   ]
  },
  {
   "cell_type": "code",
   "execution_count": 23,
   "metadata": {
    "scrolled": true
   },
   "outputs": [
    {
     "name": "stderr",
     "output_type": "stream",
     "text": [
      "┌ Info: Training \u001b[34mMachine{NeuralNetworkClassifier{CustomNN,…}} @146\u001b[39m.\n",
      "└ @ MLJBase /home/andrew/.julia/packages/MLJBase/uKzAz/src/machines.jl:319\n",
      "┌ Info: Loss is 0.6174\n",
      "└ @ MLJFlux /home/andrew/.julia/packages/MLJFlux/rYILg/src/core.jl:95\n",
      "┌ Info: Loss is 0.5807\n",
      "└ @ MLJFlux /home/andrew/.julia/packages/MLJFlux/rYILg/src/core.jl:95\n",
      "┌ Info: Loss is 0.5504\n",
      "└ @ MLJFlux /home/andrew/.julia/packages/MLJFlux/rYILg/src/core.jl:95\n",
      "┌ Info: Loss is 0.5292\n",
      "└ @ MLJFlux /home/andrew/.julia/packages/MLJFlux/rYILg/src/core.jl:95\n",
      "┌ Info: Loss is 0.5129\n",
      "└ @ MLJFlux /home/andrew/.julia/packages/MLJFlux/rYILg/src/core.jl:95\n",
      "┌ Info: Loss is 0.5006\n",
      "└ @ MLJFlux /home/andrew/.julia/packages/MLJFlux/rYILg/src/core.jl:95\n",
      "┌ Info: Loss is 0.4914\n",
      "└ @ MLJFlux /home/andrew/.julia/packages/MLJFlux/rYILg/src/core.jl:95\n",
      "┌ Info: Loss is 0.484\n",
      "└ @ MLJFlux /home/andrew/.julia/packages/MLJFlux/rYILg/src/core.jl:95\n",
      "┌ Info: Loss is 0.4782\n",
      "└ @ MLJFlux /home/andrew/.julia/packages/MLJFlux/rYILg/src/core.jl:95\n",
      "┌ Info: Loss is 0.4733\n",
      "└ @ MLJFlux /home/andrew/.julia/packages/MLJFlux/rYILg/src/core.jl:95\n",
      "┌ Info: Loss is 0.4689\n",
      "└ @ MLJFlux /home/andrew/.julia/packages/MLJFlux/rYILg/src/core.jl:95\n",
      "┌ Info: Loss is 0.465\n",
      "└ @ MLJFlux /home/andrew/.julia/packages/MLJFlux/rYILg/src/core.jl:95\n",
      "┌ Info: Loss is 0.4615\n",
      "└ @ MLJFlux /home/andrew/.julia/packages/MLJFlux/rYILg/src/core.jl:95\n",
      "┌ Info: Loss is 0.4584\n",
      "└ @ MLJFlux /home/andrew/.julia/packages/MLJFlux/rYILg/src/core.jl:95\n",
      "┌ Info: Loss is 0.4556\n",
      "└ @ MLJFlux /home/andrew/.julia/packages/MLJFlux/rYILg/src/core.jl:95\n",
      "┌ Info: Loss is 0.4531\n",
      "└ @ MLJFlux /home/andrew/.julia/packages/MLJFlux/rYILg/src/core.jl:95\n",
      "┌ Info: Loss is 0.4508\n",
      "└ @ MLJFlux /home/andrew/.julia/packages/MLJFlux/rYILg/src/core.jl:95\n",
      "┌ Info: Loss is 0.4487\n",
      "└ @ MLJFlux /home/andrew/.julia/packages/MLJFlux/rYILg/src/core.jl:95\n",
      "┌ Info: Loss is 0.4468\n",
      "└ @ MLJFlux /home/andrew/.julia/packages/MLJFlux/rYILg/src/core.jl:95\n",
      "┌ Info: Loss is 0.445\n",
      "└ @ MLJFlux /home/andrew/.julia/packages/MLJFlux/rYILg/src/core.jl:95\n",
      "┌ Info: Loss is 0.4433\n",
      "└ @ MLJFlux /home/andrew/.julia/packages/MLJFlux/rYILg/src/core.jl:95\n",
      "┌ Info: Loss is 0.4418\n",
      "└ @ MLJFlux /home/andrew/.julia/packages/MLJFlux/rYILg/src/core.jl:95\n",
      "┌ Info: Loss is 0.4404\n",
      "└ @ MLJFlux /home/andrew/.julia/packages/MLJFlux/rYILg/src/core.jl:95\n",
      "┌ Info: Loss is 0.4391\n",
      "└ @ MLJFlux /home/andrew/.julia/packages/MLJFlux/rYILg/src/core.jl:95\n",
      "┌ Info: Loss is 0.4378\n",
      "└ @ MLJFlux /home/andrew/.julia/packages/MLJFlux/rYILg/src/core.jl:95\n",
      "┌ Info: Loss is 0.4367\n",
      "└ @ MLJFlux /home/andrew/.julia/packages/MLJFlux/rYILg/src/core.jl:95\n",
      "┌ Info: Loss is 0.4356\n",
      "└ @ MLJFlux /home/andrew/.julia/packages/MLJFlux/rYILg/src/core.jl:95\n",
      "┌ Info: Loss is 0.4346\n",
      "└ @ MLJFlux /home/andrew/.julia/packages/MLJFlux/rYILg/src/core.jl:95\n",
      "┌ Info: Loss is 0.4337\n",
      "└ @ MLJFlux /home/andrew/.julia/packages/MLJFlux/rYILg/src/core.jl:95\n",
      "┌ Info: Loss is 0.4328\n",
      "└ @ MLJFlux /home/andrew/.julia/packages/MLJFlux/rYILg/src/core.jl:95\n",
      "┌ Info: Loss is 0.432\n",
      "└ @ MLJFlux /home/andrew/.julia/packages/MLJFlux/rYILg/src/core.jl:95\n",
      "┌ Info: Loss is 0.4313\n",
      "└ @ MLJFlux /home/andrew/.julia/packages/MLJFlux/rYILg/src/core.jl:95\n",
      "┌ Info: Loss is 0.4306\n",
      "└ @ MLJFlux /home/andrew/.julia/packages/MLJFlux/rYILg/src/core.jl:95\n",
      "┌ Info: Loss is 0.43\n",
      "└ @ MLJFlux /home/andrew/.julia/packages/MLJFlux/rYILg/src/core.jl:95\n",
      "┌ Info: Loss is 0.4295\n",
      "└ @ MLJFlux /home/andrew/.julia/packages/MLJFlux/rYILg/src/core.jl:95\n",
      "┌ Info: Loss is 0.429\n",
      "└ @ MLJFlux /home/andrew/.julia/packages/MLJFlux/rYILg/src/core.jl:95\n",
      "┌ Info: Loss is 0.4285\n",
      "└ @ MLJFlux /home/andrew/.julia/packages/MLJFlux/rYILg/src/core.jl:95\n",
      "┌ Info: Loss is 0.4281\n",
      "└ @ MLJFlux /home/andrew/.julia/packages/MLJFlux/rYILg/src/core.jl:95\n",
      "┌ Info: Loss is 0.4277\n",
      "└ @ MLJFlux /home/andrew/.julia/packages/MLJFlux/rYILg/src/core.jl:95\n",
      "┌ Info: Loss is 0.4273\n",
      "└ @ MLJFlux /home/andrew/.julia/packages/MLJFlux/rYILg/src/core.jl:95\n",
      "┌ Info: Loss is 0.427\n",
      "└ @ MLJFlux /home/andrew/.julia/packages/MLJFlux/rYILg/src/core.jl:95\n",
      "┌ Info: Loss is 0.4267\n",
      "└ @ MLJFlux /home/andrew/.julia/packages/MLJFlux/rYILg/src/core.jl:95\n",
      "┌ Info: Loss is 0.4264\n",
      "└ @ MLJFlux /home/andrew/.julia/packages/MLJFlux/rYILg/src/core.jl:95\n",
      "┌ Info: Loss is 0.4261\n",
      "└ @ MLJFlux /home/andrew/.julia/packages/MLJFlux/rYILg/src/core.jl:95\n",
      "┌ Info: Loss is 0.4258\n",
      "└ @ MLJFlux /home/andrew/.julia/packages/MLJFlux/rYILg/src/core.jl:95\n",
      "┌ Info: Loss is 0.4255\n",
      "└ @ MLJFlux /home/andrew/.julia/packages/MLJFlux/rYILg/src/core.jl:95\n",
      "┌ Info: Loss is 0.4253\n",
      "└ @ MLJFlux /home/andrew/.julia/packages/MLJFlux/rYILg/src/core.jl:95\n",
      "┌ Info: Loss is 0.425\n",
      "└ @ MLJFlux /home/andrew/.julia/packages/MLJFlux/rYILg/src/core.jl:95\n",
      "┌ Info: Loss is 0.4248\n",
      "└ @ MLJFlux /home/andrew/.julia/packages/MLJFlux/rYILg/src/core.jl:95\n",
      "┌ Info: Loss is 0.4245\n",
      "└ @ MLJFlux /home/andrew/.julia/packages/MLJFlux/rYILg/src/core.jl:95\n",
      "┌ Info: Loss is 0.4242\n",
      "└ @ MLJFlux /home/andrew/.julia/packages/MLJFlux/rYILg/src/core.jl:95\n",
      "┌ Info: Loss is 0.424\n",
      "└ @ MLJFlux /home/andrew/.julia/packages/MLJFlux/rYILg/src/core.jl:95\n",
      "┌ Info: Loss is 0.4237\n",
      "└ @ MLJFlux /home/andrew/.julia/packages/MLJFlux/rYILg/src/core.jl:95\n",
      "┌ Info: Loss is 0.4234\n",
      "└ @ MLJFlux /home/andrew/.julia/packages/MLJFlux/rYILg/src/core.jl:95\n",
      "┌ Info: Loss is 0.4232\n",
      "└ @ MLJFlux /home/andrew/.julia/packages/MLJFlux/rYILg/src/core.jl:95\n",
      "┌ Info: Loss is 0.4229\n",
      "└ @ MLJFlux /home/andrew/.julia/packages/MLJFlux/rYILg/src/core.jl:95\n",
      "┌ Info: Loss is 0.4226\n",
      "└ @ MLJFlux /home/andrew/.julia/packages/MLJFlux/rYILg/src/core.jl:95\n",
      "┌ Info: Loss is 0.4223\n",
      "└ @ MLJFlux /home/andrew/.julia/packages/MLJFlux/rYILg/src/core.jl:95\n",
      "┌ Info: Loss is 0.422\n",
      "└ @ MLJFlux /home/andrew/.julia/packages/MLJFlux/rYILg/src/core.jl:95\n",
      "┌ Info: Loss is 0.4218\n",
      "└ @ MLJFlux /home/andrew/.julia/packages/MLJFlux/rYILg/src/core.jl:95\n"
     ]
    },
    {
     "data": {
      "text/plain": [
       "\u001b[34mMachine{NeuralNetworkClassifier{CustomNN,…}} @146\u001b[39m trained 1 time.\n",
       "  args: \n",
       "    1:\t\u001b[34mSource @968\u001b[39m ⏎ `Table{Union{AbstractArray{Continuous,1}, AbstractArray{Count,1}}}`\n",
       "    2:\t\u001b[34mSource @334\u001b[39m ⏎ `AbstractArray{Multiclass{2},1}`\n"
      ]
     },
     "execution_count": 23,
     "metadata": {},
     "output_type": "execute_result"
    }
   ],
   "source": [
    "fit!(Net, rows=train, verbosity=2)"
   ]
  },
  {
   "cell_type": "code",
   "execution_count": 24,
   "metadata": {},
   "outputs": [
    {
     "data": {
      "text/plain": [
       "100"
      ]
     },
     "execution_count": 24,
     "metadata": {},
     "output_type": "execute_result"
    }
   ],
   "source": [
    "nn.optimiser.eta = nn.optimiser.eta / 3\n",
    "nn.epochs = nn.epochs + 40"
   ]
  },
  {
   "cell_type": "code",
   "execution_count": 25,
   "metadata": {
    "scrolled": true
   },
   "outputs": [
    {
     "name": "stderr",
     "output_type": "stream",
     "text": [
      "┌ Info: Updating \u001b[34mMachine{NeuralNetworkClassifier{CustomNN,…}} @146\u001b[39m.\n",
      "└ @ MLJBase /home/andrew/.julia/packages/MLJBase/uKzAz/src/machines.jl:320\n",
      "┌ Info: Loss is 0.4204\n",
      "└ @ MLJFlux /home/andrew/.julia/packages/MLJFlux/rYILg/src/core.jl:95\n",
      "┌ Info: Loss is 0.4193\n",
      "└ @ MLJFlux /home/andrew/.julia/packages/MLJFlux/rYILg/src/core.jl:95\n",
      "┌ Info: Loss is 0.4191\n",
      "└ @ MLJFlux /home/andrew/.julia/packages/MLJFlux/rYILg/src/core.jl:95\n",
      "┌ Info: Loss is 0.4189\n",
      "└ @ MLJFlux /home/andrew/.julia/packages/MLJFlux/rYILg/src/core.jl:95\n",
      "┌ Info: Loss is 0.4187\n",
      "└ @ MLJFlux /home/andrew/.julia/packages/MLJFlux/rYILg/src/core.jl:95\n",
      "┌ Info: Loss is 0.4186\n",
      "└ @ MLJFlux /home/andrew/.julia/packages/MLJFlux/rYILg/src/core.jl:95\n",
      "┌ Info: Loss is 0.4184\n",
      "└ @ MLJFlux /home/andrew/.julia/packages/MLJFlux/rYILg/src/core.jl:95\n",
      "┌ Info: Loss is 0.4182\n",
      "└ @ MLJFlux /home/andrew/.julia/packages/MLJFlux/rYILg/src/core.jl:95\n",
      "┌ Info: Loss is 0.418\n",
      "└ @ MLJFlux /home/andrew/.julia/packages/MLJFlux/rYILg/src/core.jl:95\n",
      "┌ Info: Loss is 0.4179\n",
      "└ @ MLJFlux /home/andrew/.julia/packages/MLJFlux/rYILg/src/core.jl:95\n",
      "┌ Info: Loss is 0.4177\n",
      "└ @ MLJFlux /home/andrew/.julia/packages/MLJFlux/rYILg/src/core.jl:95\n",
      "┌ Info: Loss is 0.4176\n",
      "└ @ MLJFlux /home/andrew/.julia/packages/MLJFlux/rYILg/src/core.jl:95\n",
      "┌ Info: Loss is 0.4174\n",
      "└ @ MLJFlux /home/andrew/.julia/packages/MLJFlux/rYILg/src/core.jl:95\n",
      "┌ Info: Loss is 0.4173\n",
      "└ @ MLJFlux /home/andrew/.julia/packages/MLJFlux/rYILg/src/core.jl:95\n",
      "┌ Info: Loss is 0.4171\n",
      "└ @ MLJFlux /home/andrew/.julia/packages/MLJFlux/rYILg/src/core.jl:95\n",
      "┌ Info: Loss is 0.4169\n",
      "└ @ MLJFlux /home/andrew/.julia/packages/MLJFlux/rYILg/src/core.jl:95\n",
      "┌ Info: Loss is 0.4168\n",
      "└ @ MLJFlux /home/andrew/.julia/packages/MLJFlux/rYILg/src/core.jl:95\n",
      "┌ Info: Loss is 0.4166\n",
      "└ @ MLJFlux /home/andrew/.julia/packages/MLJFlux/rYILg/src/core.jl:95\n",
      "┌ Info: Loss is 0.4165\n",
      "└ @ MLJFlux /home/andrew/.julia/packages/MLJFlux/rYILg/src/core.jl:95\n",
      "┌ Info: Loss is 0.4164\n",
      "└ @ MLJFlux /home/andrew/.julia/packages/MLJFlux/rYILg/src/core.jl:95\n",
      "┌ Info: Loss is 0.4162\n",
      "└ @ MLJFlux /home/andrew/.julia/packages/MLJFlux/rYILg/src/core.jl:95\n",
      "┌ Info: Loss is 0.4161\n",
      "└ @ MLJFlux /home/andrew/.julia/packages/MLJFlux/rYILg/src/core.jl:95\n",
      "┌ Info: Loss is 0.4159\n",
      "└ @ MLJFlux /home/andrew/.julia/packages/MLJFlux/rYILg/src/core.jl:95\n",
      "┌ Info: Loss is 0.4158\n",
      "└ @ MLJFlux /home/andrew/.julia/packages/MLJFlux/rYILg/src/core.jl:95\n",
      "┌ Info: Loss is 0.4157\n",
      "└ @ MLJFlux /home/andrew/.julia/packages/MLJFlux/rYILg/src/core.jl:95\n",
      "┌ Info: Loss is 0.4155\n",
      "└ @ MLJFlux /home/andrew/.julia/packages/MLJFlux/rYILg/src/core.jl:95\n",
      "┌ Info: Loss is 0.4154\n",
      "└ @ MLJFlux /home/andrew/.julia/packages/MLJFlux/rYILg/src/core.jl:95\n",
      "┌ Info: Loss is 0.4152\n",
      "└ @ MLJFlux /home/andrew/.julia/packages/MLJFlux/rYILg/src/core.jl:95\n",
      "┌ Info: Loss is 0.4151\n",
      "└ @ MLJFlux /home/andrew/.julia/packages/MLJFlux/rYILg/src/core.jl:95\n",
      "┌ Info: Loss is 0.415\n",
      "└ @ MLJFlux /home/andrew/.julia/packages/MLJFlux/rYILg/src/core.jl:95\n",
      "┌ Info: Loss is 0.4149\n",
      "└ @ MLJFlux /home/andrew/.julia/packages/MLJFlux/rYILg/src/core.jl:95\n",
      "┌ Info: Loss is 0.4147\n",
      "└ @ MLJFlux /home/andrew/.julia/packages/MLJFlux/rYILg/src/core.jl:95\n",
      "┌ Info: Loss is 0.4146\n",
      "└ @ MLJFlux /home/andrew/.julia/packages/MLJFlux/rYILg/src/core.jl:95\n",
      "┌ Info: Loss is 0.4145\n",
      "└ @ MLJFlux /home/andrew/.julia/packages/MLJFlux/rYILg/src/core.jl:95\n",
      "┌ Info: Loss is 0.4143\n",
      "└ @ MLJFlux /home/andrew/.julia/packages/MLJFlux/rYILg/src/core.jl:95\n",
      "┌ Info: Loss is 0.4142\n",
      "└ @ MLJFlux /home/andrew/.julia/packages/MLJFlux/rYILg/src/core.jl:95\n",
      "┌ Info: Loss is 0.4141\n",
      "└ @ MLJFlux /home/andrew/.julia/packages/MLJFlux/rYILg/src/core.jl:95\n",
      "┌ Info: Loss is 0.414\n",
      "└ @ MLJFlux /home/andrew/.julia/packages/MLJFlux/rYILg/src/core.jl:95\n",
      "┌ Info: Loss is 0.4138\n",
      "└ @ MLJFlux /home/andrew/.julia/packages/MLJFlux/rYILg/src/core.jl:95\n",
      "┌ Info: Loss is 0.4137\n",
      "└ @ MLJFlux /home/andrew/.julia/packages/MLJFlux/rYILg/src/core.jl:95\n"
     ]
    },
    {
     "data": {
      "text/plain": [
       "\u001b[34mMachine{NeuralNetworkClassifier{CustomNN,…}} @146\u001b[39m trained 2 times.\n",
       "  args: \n",
       "    1:\t\u001b[34mSource @968\u001b[39m ⏎ `Table{Union{AbstractArray{Continuous,1}, AbstractArray{Count,1}}}`\n",
       "    2:\t\u001b[34mSource @334\u001b[39m ⏎ `AbstractArray{Multiclass{2},1}`\n"
      ]
     },
     "execution_count": 25,
     "metadata": {},
     "output_type": "execute_result"
    }
   ],
   "source": [
    "fit!(Net, rows=train, verbosity=2)"
   ]
  },
  {
   "cell_type": "code",
   "execution_count": 26,
   "metadata": {},
   "outputs": [
    {
     "name": "stderr",
     "output_type": "stream",
     "text": [
      "\u001b[33mEvaluating over 6 folds: 100%[=========================] Time: 0:00:14\u001b[39m\n"
     ]
    },
    {
     "data": {
      "text/plain": [
       "┌\u001b[0m───────────────\u001b[0m┬\u001b[0m───────────────\u001b[0m┬\u001b[0m────────────────────────────────────────────────\u001b[0m┐\u001b[0m\n",
       "│\u001b[0m\u001b[22m _.measure     \u001b[0m│\u001b[0m\u001b[22m _.measurement \u001b[0m│\u001b[0m\u001b[22m _.per_fold                                     \u001b[0m│\u001b[0m\n",
       "├\u001b[0m───────────────\u001b[0m┼\u001b[0m───────────────\u001b[0m┼\u001b[0m────────────────────────────────────────────────\u001b[0m┤\u001b[0m\n",
       "│\u001b[0m cross_entropy \u001b[0m│\u001b[0m 0.446         \u001b[0m│\u001b[0m Float32[0.45, 0.45, 0.44, 0.439, 0.432, 0.463] \u001b[0m│\u001b[0m\n",
       "│\u001b[0m acc           \u001b[0m│\u001b[0m 0.865         \u001b[0m│\u001b[0m [0.858, 0.858, 0.864, 0.875, 0.898, 0.84]      \u001b[0m│\u001b[0m\n",
       "└\u001b[0m───────────────\u001b[0m┴\u001b[0m───────────────\u001b[0m┴\u001b[0m────────────────────────────────────────────────\u001b[0m┘\u001b[0m\n",
       "_.per_observation = [[[0.316, 0.337, ..., 1.05], [1.29, 1.25, ..., 0.356], [0.315, 0.314, ..., 0.319], [0.76, 0.368, ..., 1.29], [1.01, 0.39, ..., 0.358], [0.418, 1.24, ..., 0.315]], missing]\n",
       "_.fitted_params_per_fold = [ … ]\n",
       "_.report_per_fold = [ … ]\n"
      ]
     },
     "execution_count": 26,
     "metadata": {},
     "output_type": "execute_result"
    }
   ],
   "source": [
    "nn_acc = evaluate!(Net, resampling=CV(shuffle=true), measure=[cross_entropy, acc], verbosity=1)"
   ]
  },
  {
   "cell_type": "code",
   "execution_count": 27,
   "metadata": {},
   "outputs": [
    {
     "data": {
      "text/plain": [
       "(chain = Chain(Chain(Dense(41, 80, σ), Dense(80, 2, σ)), softmax),)"
      ]
     },
     "execution_count": 27,
     "metadata": {},
     "output_type": "execute_result"
    }
   ],
   "source": [
    "fitted_params(Net)"
   ]
  },
  {
   "cell_type": "code",
   "execution_count": 28,
   "metadata": {
    "scrolled": true
   },
   "outputs": [
    {
     "data": {
      "text/plain": [
       "(training_losses = Any[0.6350107f0, 0.62078077f0, 0.60927504f0, 0.596392f0, 0.5836051f0, 0.5685957f0, 0.552864f0, 0.53834724f0, 0.5267126f0, 0.51728207f0  …  0.42623112f0, 0.42599493f0, 0.4257624f0, 0.42553344f0, 0.42530817f0, 0.42508635f0, 0.42486772f0, 0.42465237f0, 0.42443994f0, 0.42423016f0],)"
      ]
     },
     "execution_count": 28,
     "metadata": {},
     "output_type": "execute_result"
    }
   ],
   "source": [
    "report(Net)"
   ]
  },
  {
   "cell_type": "markdown",
   "metadata": {},
   "source": [
    "### With Preprocessing"
   ]
  },
  {
   "cell_type": "markdown",
   "metadata": {},
   "source": [
    "Standardizing Inputs makes a huge difference.\n",
    "Before, I could only barely break below 0.4 training loss, but by standardizing inputs, I can easily get near 0.3."
   ]
  },
  {
   "cell_type": "code",
   "execution_count": 29,
   "metadata": {},
   "outputs": [
    {
     "name": "stderr",
     "output_type": "stream",
     "text": [
      "┌ Warning: The scitype of `X`, in `machine(model, X, ...)` is incompatible with `model=\u001b[34mNeuralNetworkClassifier{CustomNN,…} @209\u001b[39m`:\n",
      "│ scitype(X) = Table{Union{AbstractArray{Continuous,1}, AbstractArray{Count,1}}}\n",
      "│ input_scitype(model) = Table{var\"#s44\"} where var\"#s44\"<:(AbstractArray{var\"#s13\",1} where var\"#s13\"<:Continuous).\n",
      "└ @ MLJBase /home/andrew/.julia/packages/MLJBase/uKzAz/src/machines.jl:77\n"
     ]
    },
    {
     "data": {
      "text/plain": [
       "\u001b[34mMachine{NeuralNetworkClassifier{CustomNN,…}} @976\u001b[39m trained 0 times.\n",
       "  args: \n",
       "    1:\t\u001b[34mSource @027\u001b[39m ⏎ `Table{Union{AbstractArray{Continuous,1}, AbstractArray{Count,1}}}`\n",
       "    2:\t\u001b[34mSource @745\u001b[39m ⏎ `AbstractArray{Multiclass{2},1}`\n"
      ]
     },
     "execution_count": 29,
     "metadata": {},
     "output_type": "execute_result"
    }
   ],
   "source": [
    "Net = machine(nn, X_stand, y)"
   ]
  },
  {
   "cell_type": "markdown",
   "metadata": {},
   "source": [
    "### Learning Curve"
   ]
  },
  {
   "cell_type": "code",
   "execution_count": 30,
   "metadata": {},
   "outputs": [
    {
     "name": "stderr",
     "output_type": "stream",
     "text": [
      "┌ Info: Training \u001b[34mMachine{NeuralNetworkClassifier{CustomNN,…}} @976\u001b[39m.\n",
      "└ @ MLJBase /home/andrew/.julia/packages/MLJBase/uKzAz/src/machines.jl:319\n",
      "\u001b[33mOptimising neural net:100%[=========================] Time: 0:00:31\u001b[39m\n"
     ]
    },
    {
     "data": {
      "text/plain": [
       "\u001b[34mMachine{NeuralNetworkClassifier{CustomNN,…}} @976\u001b[39m trained 1 time.\n",
       "  args: \n",
       "    1:\t\u001b[34mSource @027\u001b[39m ⏎ `Table{Union{AbstractArray{Continuous,1}, AbstractArray{Count,1}}}`\n",
       "    2:\t\u001b[34mSource @745\u001b[39m ⏎ `AbstractArray{Multiclass{2},1}`\n"
      ]
     },
     "execution_count": 30,
     "metadata": {},
     "output_type": "execute_result"
    }
   ],
   "source": [
    "Net.model.epochs = max_epochs\n",
    "fit!(Net, rows=train, verbosity=1, force=true)"
   ]
  },
  {
   "cell_type": "code",
   "execution_count": 36,
   "metadata": {},
   "outputs": [
    {
     "data": {
      "text/plain": [
       "┌\u001b[0m───────────────\u001b[0m┬\u001b[0m───────────────\u001b[0m┬\u001b[0m────────────────\u001b[0m┐\u001b[0m\n",
       "│\u001b[0m\u001b[22m _.measure     \u001b[0m│\u001b[0m\u001b[22m _.measurement \u001b[0m│\u001b[0m\u001b[22m _.per_fold     \u001b[0m│\u001b[0m\n",
       "├\u001b[0m───────────────\u001b[0m┼\u001b[0m───────────────\u001b[0m┼\u001b[0m────────────────\u001b[0m┤\u001b[0m\n",
       "│\u001b[0m cross_entropy \u001b[0m│\u001b[0m 0.473         \u001b[0m│\u001b[0m Float32[0.473] \u001b[0m│\u001b[0m\n",
       "│\u001b[0m acc           \u001b[0m│\u001b[0m 0.839         \u001b[0m│\u001b[0m [0.839]        \u001b[0m│\u001b[0m\n",
       "└\u001b[0m───────────────\u001b[0m┴\u001b[0m───────────────\u001b[0m┴\u001b[0m────────────────\u001b[0m┘\u001b[0m\n",
       "_.per_observation = [[[0.313, 0.313, ..., 0.313]], missing]\n",
       "_.fitted_params_per_fold = [ … ]\n",
       "_.report_per_fold = [ … ]\n"
      ]
     },
     "execution_count": 36,
     "metadata": {},
     "output_type": "execute_result"
    }
   ],
   "source": [
    "nn_acc = evaluate!(Net, resampling=Holdout(), measure=[cross_entropy, acc], verbosity=1)"
   ]
  },
  {
   "cell_type": "code",
   "execution_count": 37,
   "metadata": {
    "scrolled": true
   },
   "outputs": [
    {
     "data": {
      "text/plain": [
       "MLJBase.NumericRange(Int64, :epochs, ... )"
      ]
     },
     "execution_count": 37,
     "metadata": {},
     "output_type": "execute_result"
    }
   ],
   "source": [
    "vals = collect(0:5:max_epochs)\n",
    "r = range(nn, :epochs, lower=1, upper=max_epochs, scale=:log10)"
   ]
  },
  {
   "cell_type": "code",
   "execution_count": 38,
   "metadata": {},
   "outputs": [
    {
     "name": "stderr",
     "output_type": "stream",
     "text": [
      "┌ Info: Training \u001b[34mMachine{ProbabilisticTunedModel{Grid,…}} @023\u001b[39m.\n",
      "└ @ MLJBase /home/andrew/.julia/packages/MLJBase/uKzAz/src/machines.jl:319\n",
      "┌ Info: Attempting to evaluate 28 models.\n",
      "└ @ MLJTuning /home/andrew/.julia/packages/MLJTuning/Bbgvk/src/tuned_models.jl:494\n",
      "┌ Warning: The scitype of `X`, in `machine(model, X, ...)` is incompatible with `model=\u001b[34mResampler{Holdout,…} @997\u001b[39m`:\n",
      "│ scitype(X) = Table{Union{AbstractArray{Continuous,1}, AbstractArray{Count,1}}}\n",
      "│ input_scitype(model) = Table{var\"#s44\"} where var\"#s44\"<:(AbstractArray{var\"#s13\",1} where var\"#s13\"<:Continuous).\n",
      "└ @ MLJBase /home/andrew/.julia/packages/MLJBase/uKzAz/src/machines.jl:77\n",
      "\u001b[33mEvaluating over 28 metamodels:   0%[>                        ]  ETA: N/A\u001b[39m┌ Warning: The scitype of `X`, in `machine(model, X, ...)` is incompatible with `model=\u001b[34mNeuralNetworkClassifier{CustomNN,…} @224\u001b[39m`:\n",
      "│ scitype(X) = Table{Union{AbstractArray{Continuous,1}, AbstractArray{Count,1}}}\n",
      "│ input_scitype(model) = Table{var\"#s44\"} where var\"#s44\"<:(AbstractArray{var\"#s13\",1} where var\"#s13\"<:Continuous).\n",
      "└ @ MLJBase /home/andrew/.julia/packages/MLJBase/uKzAz/src/machines.jl:77\n",
      "\u001b[33mEvaluating over 28 metamodels: 100%[=========================] Time: 0:00:29\u001b[39m\n",
      "┌ Warning: The scitype of `X`, in `machine(model, X, ...)` is incompatible with `model=\u001b[34mNeuralNetworkClassifier{CustomNN,…} @303\u001b[39m`:\n",
      "│ scitype(X) = Table{Union{AbstractArray{Continuous,1}, AbstractArray{Count,1}}}\n",
      "│ input_scitype(model) = Table{var\"#s44\"} where var\"#s44\"<:(AbstractArray{var\"#s13\",1} where var\"#s13\"<:Continuous).\n",
      "└ @ MLJBase /home/andrew/.julia/packages/MLJBase/uKzAz/src/machines.jl:77\n"
     ]
    },
    {
     "data": {
      "text/plain": [
       "(parameter_name = \"epochs\",\n",
       " parameter_scale = :log10,\n",
       " parameter_values = [1, 2, 3, 4, 5, 6, 8, 11, 14, 18  …  189, 246, 319, 415, 539, 701, 911, 1184, 1539, 2000],\n",
       " measurements = [0.7326091527938843, 0.719550609588623, 0.7058663368225098, 0.6920397281646729, 0.6785441637039185, 0.6657504439353943, 0.6060373783111572, 0.5556014180183411, 0.5349774956703186, 0.5191981792449951  …  0.45828694105148315, 0.45744097232818604, 0.45737987756729126, 0.4571854770183563, 0.4537372887134552, 0.45832568407058716, 0.4612329602241516, 0.4578856825828552, 0.46304070949554443, 0.4692853093147278],)"
      ]
     },
     "execution_count": 38,
     "metadata": {},
     "output_type": "execute_result"
    }
   ],
   "source": [
    "curve = MLJ.learning_curve(Net, \n",
    "                        range=r, \n",
    "                        resampling=Holdout(fraction_train=0.7), \n",
    "#                         resampling=CV(nfolds=4), \n",
    "                        measure=cross_entropy, \n",
    "                        acceleration=CPUProcesses()\n",
    ")"
   ]
  },
  {
   "cell_type": "code",
   "execution_count": 39,
   "metadata": {},
   "outputs": [
    {
     "data": {
      "image/svg+xml": [
       "<?xml version=\"1.0\" encoding=\"utf-8\"?>\n",
       "<svg xmlns=\"http://www.w3.org/2000/svg\" xmlns:xlink=\"http://www.w3.org/1999/xlink\" width=\"600\" height=\"400\" viewBox=\"0 0 2400 1600\">\n",
       "<defs>\n",
       "  <clipPath id=\"clip680\">\n",
       "    <rect x=\"0\" y=\"0\" width=\"2400\" height=\"1600\"/>\n",
       "  </clipPath>\n",
       "</defs>\n",
       "<path clip-path=\"url(#clip680)\" d=\"\n",
       "M0 1600 L2400 1600 L2400 0 L0 0  Z\n",
       "  \" fill=\"#ffffff\" fill-rule=\"evenodd\" fill-opacity=\"1\"/>\n",
       "<defs>\n",
       "  <clipPath id=\"clip681\">\n",
       "    <rect x=\"480\" y=\"0\" width=\"1681\" height=\"1600\"/>\n",
       "  </clipPath>\n",
       "</defs>\n",
       "<path clip-path=\"url(#clip680)\" d=\"\n",
       "M211.602 1423.18 L2352.76 1423.18 L2352.76 47.2441 L211.602 47.2441  Z\n",
       "  \" fill=\"#ffffff\" fill-rule=\"evenodd\" fill-opacity=\"1\"/>\n",
       "<defs>\n",
       "  <clipPath id=\"clip682\">\n",
       "    <rect x=\"211\" y=\"47\" width=\"2142\" height=\"1377\"/>\n",
       "  </clipPath>\n",
       "</defs>\n",
       "<polyline clip-path=\"url(#clip682)\" style=\"stroke:#000000; stroke-width:2; stroke-opacity:0.1; fill:none\" points=\"\n",
       "  271.191,1423.18 271.191,47.2441 \n",
       "  \"/>\n",
       "<polyline clip-path=\"url(#clip682)\" style=\"stroke:#000000; stroke-width:2; stroke-opacity:0.1; fill:none\" points=\"\n",
       "  776.432,1423.18 776.432,47.2441 \n",
       "  \"/>\n",
       "<polyline clip-path=\"url(#clip682)\" style=\"stroke:#000000; stroke-width:2; stroke-opacity:0.1; fill:none\" points=\"\n",
       "  1281.67,1423.18 1281.67,47.2441 \n",
       "  \"/>\n",
       "<polyline clip-path=\"url(#clip682)\" style=\"stroke:#000000; stroke-width:2; stroke-opacity:0.1; fill:none\" points=\"\n",
       "  1786.92,1423.18 1786.92,47.2441 \n",
       "  \"/>\n",
       "<polyline clip-path=\"url(#clip682)\" style=\"stroke:#000000; stroke-width:2; stroke-opacity:0.1; fill:none\" points=\"\n",
       "  2292.16,1423.18 2292.16,47.2441 \n",
       "  \"/>\n",
       "<polyline clip-path=\"url(#clip682)\" style=\"stroke:#000000; stroke-width:2; stroke-opacity:0.1; fill:none\" points=\"\n",
       "  211.602,1240.55 2352.76,1240.55 \n",
       "  \"/>\n",
       "<polyline clip-path=\"url(#clip682)\" style=\"stroke:#000000; stroke-width:2; stroke-opacity:0.1; fill:none\" points=\"\n",
       "  211.602,893.483 2352.76,893.483 \n",
       "  \"/>\n",
       "<polyline clip-path=\"url(#clip682)\" style=\"stroke:#000000; stroke-width:2; stroke-opacity:0.1; fill:none\" points=\"\n",
       "  211.602,546.421 2352.76,546.421 \n",
       "  \"/>\n",
       "<polyline clip-path=\"url(#clip682)\" style=\"stroke:#000000; stroke-width:2; stroke-opacity:0.1; fill:none\" points=\"\n",
       "  211.602,199.36 2352.76,199.36 \n",
       "  \"/>\n",
       "<polyline clip-path=\"url(#clip680)\" style=\"stroke:#000000; stroke-width:4; stroke-opacity:1; fill:none\" points=\"\n",
       "  211.602,1423.18 2352.76,1423.18 \n",
       "  \"/>\n",
       "<polyline clip-path=\"url(#clip680)\" style=\"stroke:#000000; stroke-width:4; stroke-opacity:1; fill:none\" points=\"\n",
       "  211.602,1423.18 211.602,47.2441 \n",
       "  \"/>\n",
       "<polyline clip-path=\"url(#clip680)\" style=\"stroke:#000000; stroke-width:4; stroke-opacity:1; fill:none\" points=\"\n",
       "  271.191,1423.18 271.191,1406.67 \n",
       "  \"/>\n",
       "<polyline clip-path=\"url(#clip680)\" style=\"stroke:#000000; stroke-width:4; stroke-opacity:1; fill:none\" points=\"\n",
       "  776.432,1423.18 776.432,1406.67 \n",
       "  \"/>\n",
       "<polyline clip-path=\"url(#clip680)\" style=\"stroke:#000000; stroke-width:4; stroke-opacity:1; fill:none\" points=\"\n",
       "  1281.67,1423.18 1281.67,1406.67 \n",
       "  \"/>\n",
       "<polyline clip-path=\"url(#clip680)\" style=\"stroke:#000000; stroke-width:4; stroke-opacity:1; fill:none\" points=\"\n",
       "  1786.92,1423.18 1786.92,1406.67 \n",
       "  \"/>\n",
       "<polyline clip-path=\"url(#clip680)\" style=\"stroke:#000000; stroke-width:4; stroke-opacity:1; fill:none\" points=\"\n",
       "  2292.16,1423.18 2292.16,1406.67 \n",
       "  \"/>\n",
       "<polyline clip-path=\"url(#clip680)\" style=\"stroke:#000000; stroke-width:4; stroke-opacity:1; fill:none\" points=\"\n",
       "  211.602,1240.55 237.296,1240.55 \n",
       "  \"/>\n",
       "<polyline clip-path=\"url(#clip680)\" style=\"stroke:#000000; stroke-width:4; stroke-opacity:1; fill:none\" points=\"\n",
       "  211.602,893.483 237.296,893.483 \n",
       "  \"/>\n",
       "<polyline clip-path=\"url(#clip680)\" style=\"stroke:#000000; stroke-width:4; stroke-opacity:1; fill:none\" points=\"\n",
       "  211.602,546.421 237.296,546.421 \n",
       "  \"/>\n",
       "<polyline clip-path=\"url(#clip680)\" style=\"stroke:#000000; stroke-width:4; stroke-opacity:1; fill:none\" points=\"\n",
       "  211.602,199.36 237.296,199.36 \n",
       "  \"/>\n",
       "<path clip-path=\"url(#clip680)\" d=\"M 0 0 M271.191 1445.17 Q267.58 1445.17 265.751 1448.74 Q263.945 1452.28 263.945 1459.41 Q263.945 1466.51 265.751 1470.08 Q267.58 1473.62 271.191 1473.62 Q274.825 1473.62 276.63 1470.08 Q278.459 1466.51 278.459 1459.41 Q278.459 1452.28 276.63 1448.74 Q274.825 1445.17 271.191 1445.17 M271.191 1441.47 Q277.001 1441.47 280.056 1446.07 Q283.135 1450.66 283.135 1459.41 Q283.135 1468.13 280.056 1472.74 Q277.001 1477.32 271.191 1477.32 Q265.38 1477.32 262.302 1472.74 Q259.246 1468.13 259.246 1459.41 Q259.246 1450.66 262.302 1446.07 Q265.38 1441.47 271.191 1441.47 Z\" fill=\"#000000\" fill-rule=\"evenodd\" fill-opacity=\"1\" /><path clip-path=\"url(#clip680)\" d=\"M 0 0 M739.696 1442.09 L758.053 1442.09 L758.053 1446.03 L743.979 1446.03 L743.979 1454.5 Q744.997 1454.15 746.016 1453.99 Q747.034 1453.8 748.053 1453.8 Q753.84 1453.8 757.219 1456.98 Q760.599 1460.15 760.599 1465.56 Q760.599 1471.14 757.127 1474.24 Q753.655 1477.32 747.335 1477.32 Q745.159 1477.32 742.891 1476.95 Q740.645 1476.58 738.238 1475.84 L738.238 1471.14 Q740.321 1472.28 742.544 1472.83 Q744.766 1473.39 747.243 1473.39 Q751.247 1473.39 753.585 1471.28 Q755.923 1469.18 755.923 1465.56 Q755.923 1461.95 753.585 1459.85 Q751.247 1457.74 747.243 1457.74 Q745.368 1457.74 743.493 1458.16 Q741.641 1458.57 739.696 1459.45 L739.696 1442.09 Z\" fill=\"#000000\" fill-rule=\"evenodd\" fill-opacity=\"1\" /><path clip-path=\"url(#clip680)\" d=\"M 0 0 M775.668 1445.17 Q772.057 1445.17 770.229 1448.74 Q768.423 1452.28 768.423 1459.41 Q768.423 1466.51 770.229 1470.08 Q772.057 1473.62 775.668 1473.62 Q779.303 1473.62 781.108 1470.08 Q782.937 1466.51 782.937 1459.41 Q782.937 1452.28 781.108 1448.74 Q779.303 1445.17 775.668 1445.17 M775.668 1441.47 Q781.479 1441.47 784.534 1446.07 Q787.613 1450.66 787.613 1459.41 Q787.613 1468.13 784.534 1472.74 Q781.479 1477.32 775.668 1477.32 Q769.858 1477.32 766.78 1472.74 Q763.724 1468.13 763.724 1459.41 Q763.724 1450.66 766.78 1446.07 Q769.858 1441.47 775.668 1441.47 Z\" fill=\"#000000\" fill-rule=\"evenodd\" fill-opacity=\"1\" /><path clip-path=\"url(#clip680)\" d=\"M 0 0 M802.682 1445.17 Q799.071 1445.17 797.242 1448.74 Q795.437 1452.28 795.437 1459.41 Q795.437 1466.51 797.242 1470.08 Q799.071 1473.62 802.682 1473.62 Q806.316 1473.62 808.122 1470.08 Q809.951 1466.51 809.951 1459.41 Q809.951 1452.28 808.122 1448.74 Q806.316 1445.17 802.682 1445.17 M802.682 1441.47 Q808.492 1441.47 811.548 1446.07 Q814.627 1450.66 814.627 1459.41 Q814.627 1468.13 811.548 1472.74 Q808.492 1477.32 802.682 1477.32 Q796.872 1477.32 793.793 1472.74 Q790.738 1468.13 790.738 1459.41 Q790.738 1450.66 793.793 1446.07 Q796.872 1441.47 802.682 1441.47 Z\" fill=\"#000000\" fill-rule=\"evenodd\" fill-opacity=\"1\" /><path clip-path=\"url(#clip680)\" d=\"M 0 0 M1231.54 1472.72 L1239.17 1472.72 L1239.17 1446.35 L1230.86 1448.02 L1230.86 1443.76 L1239.13 1442.09 L1243.8 1442.09 L1243.8 1472.72 L1251.44 1472.72 L1251.44 1476.65 L1231.54 1476.65 L1231.54 1472.72 Z\" fill=\"#000000\" fill-rule=\"evenodd\" fill-opacity=\"1\" /><path clip-path=\"url(#clip680)\" d=\"M 0 0 M1266.51 1445.17 Q1262.9 1445.17 1261.07 1448.74 Q1259.27 1452.28 1259.27 1459.41 Q1259.27 1466.51 1261.07 1470.08 Q1262.9 1473.62 1266.51 1473.62 Q1270.15 1473.62 1271.95 1470.08 Q1273.78 1466.51 1273.78 1459.41 Q1273.78 1452.28 1271.95 1448.74 Q1270.15 1445.17 1266.51 1445.17 M1266.51 1441.47 Q1272.32 1441.47 1275.38 1446.07 Q1278.46 1450.66 1278.46 1459.41 Q1278.46 1468.13 1275.38 1472.74 Q1272.32 1477.32 1266.51 1477.32 Q1260.7 1477.32 1257.62 1472.74 Q1254.57 1468.13 1254.57 1459.41 Q1254.57 1450.66 1257.62 1446.07 Q1260.7 1441.47 1266.51 1441.47 Z\" fill=\"#000000\" fill-rule=\"evenodd\" fill-opacity=\"1\" /><path clip-path=\"url(#clip680)\" d=\"M 0 0 M1293.53 1445.17 Q1289.91 1445.17 1288.09 1448.74 Q1286.28 1452.28 1286.28 1459.41 Q1286.28 1466.51 1288.09 1470.08 Q1289.91 1473.62 1293.53 1473.62 Q1297.16 1473.62 1298.97 1470.08 Q1300.79 1466.51 1300.79 1459.41 Q1300.79 1452.28 1298.97 1448.74 Q1297.16 1445.17 1293.53 1445.17 M1293.53 1441.47 Q1299.34 1441.47 1302.39 1446.07 Q1305.47 1450.66 1305.47 1459.41 Q1305.47 1468.13 1302.39 1472.74 Q1299.34 1477.32 1293.53 1477.32 Q1287.72 1477.32 1284.64 1472.74 Q1281.58 1468.13 1281.58 1459.41 Q1281.58 1450.66 1284.64 1446.07 Q1287.72 1441.47 1293.53 1441.47 Z\" fill=\"#000000\" fill-rule=\"evenodd\" fill-opacity=\"1\" /><path clip-path=\"url(#clip680)\" d=\"M 0 0 M1320.54 1445.17 Q1316.93 1445.17 1315.1 1448.74 Q1313.29 1452.28 1313.29 1459.41 Q1313.29 1466.51 1315.1 1470.08 Q1316.93 1473.62 1320.54 1473.62 Q1324.17 1473.62 1325.98 1470.08 Q1327.81 1466.51 1327.81 1459.41 Q1327.81 1452.28 1325.98 1448.74 Q1324.17 1445.17 1320.54 1445.17 M1320.54 1441.47 Q1326.35 1441.47 1329.41 1446.07 Q1332.48 1450.66 1332.48 1459.41 Q1332.48 1468.13 1329.41 1472.74 Q1326.35 1477.32 1320.54 1477.32 Q1314.73 1477.32 1311.65 1472.74 Q1308.6 1468.13 1308.6 1459.41 Q1308.6 1450.66 1311.65 1446.07 Q1314.73 1441.47 1320.54 1441.47 Z\" fill=\"#000000\" fill-rule=\"evenodd\" fill-opacity=\"1\" /><path clip-path=\"url(#clip680)\" d=\"M 0 0 M1737.27 1472.72 L1744.91 1472.72 L1744.91 1446.35 L1736.6 1448.02 L1736.6 1443.76 L1744.87 1442.09 L1749.54 1442.09 L1749.54 1472.72 L1757.18 1472.72 L1757.18 1476.65 L1737.27 1476.65 L1737.27 1472.72 Z\" fill=\"#000000\" fill-rule=\"evenodd\" fill-opacity=\"1\" /><path clip-path=\"url(#clip680)\" d=\"M 0 0 M1762.3 1442.09 L1780.65 1442.09 L1780.65 1446.03 L1766.58 1446.03 L1766.58 1454.5 Q1767.6 1454.15 1768.62 1453.99 Q1769.64 1453.8 1770.65 1453.8 Q1776.44 1453.8 1779.82 1456.98 Q1783.2 1460.15 1783.2 1465.56 Q1783.2 1471.14 1779.73 1474.24 Q1776.26 1477.32 1769.94 1477.32 Q1767.76 1477.32 1765.49 1476.95 Q1763.25 1476.58 1760.84 1475.84 L1760.84 1471.14 Q1762.92 1472.28 1765.14 1472.83 Q1767.37 1473.39 1769.84 1473.39 Q1773.85 1473.39 1776.19 1471.28 Q1778.52 1469.18 1778.52 1465.56 Q1778.52 1461.95 1776.19 1459.85 Q1773.85 1457.74 1769.84 1457.74 Q1767.97 1457.74 1766.09 1458.16 Q1764.24 1458.57 1762.3 1459.45 L1762.3 1442.09 Z\" fill=\"#000000\" fill-rule=\"evenodd\" fill-opacity=\"1\" /><path clip-path=\"url(#clip680)\" d=\"M 0 0 M1798.27 1445.17 Q1794.66 1445.17 1792.83 1448.74 Q1791.02 1452.28 1791.02 1459.41 Q1791.02 1466.51 1792.83 1470.08 Q1794.66 1473.62 1798.27 1473.62 Q1801.9 1473.62 1803.71 1470.08 Q1805.54 1466.51 1805.54 1459.41 Q1805.54 1452.28 1803.71 1448.74 Q1801.9 1445.17 1798.27 1445.17 M1798.27 1441.47 Q1804.08 1441.47 1807.14 1446.07 Q1810.21 1450.66 1810.21 1459.41 Q1810.21 1468.13 1807.14 1472.74 Q1804.08 1477.32 1798.27 1477.32 Q1792.46 1477.32 1789.38 1472.74 Q1786.33 1468.13 1786.33 1459.41 Q1786.33 1450.66 1789.38 1446.07 Q1792.46 1441.47 1798.27 1441.47 Z\" fill=\"#000000\" fill-rule=\"evenodd\" fill-opacity=\"1\" /><path clip-path=\"url(#clip680)\" d=\"M 0 0 M1825.28 1445.17 Q1821.67 1445.17 1819.84 1448.74 Q1818.04 1452.28 1818.04 1459.41 Q1818.04 1466.51 1819.84 1470.08 Q1821.67 1473.62 1825.28 1473.62 Q1828.92 1473.62 1830.72 1470.08 Q1832.55 1466.51 1832.55 1459.41 Q1832.55 1452.28 1830.72 1448.74 Q1828.92 1445.17 1825.28 1445.17 M1825.28 1441.47 Q1831.09 1441.47 1834.15 1446.07 Q1837.23 1450.66 1837.23 1459.41 Q1837.23 1468.13 1834.15 1472.74 Q1831.09 1477.32 1825.28 1477.32 Q1819.47 1477.32 1816.39 1472.74 Q1813.34 1468.13 1813.34 1459.41 Q1813.34 1450.66 1816.39 1446.07 Q1819.47 1441.47 1825.28 1441.47 Z\" fill=\"#000000\" fill-rule=\"evenodd\" fill-opacity=\"1\" /><path clip-path=\"url(#clip680)\" d=\"M 0 0 M2246.29 1472.72 L2262.61 1472.72 L2262.61 1476.65 L2240.66 1476.65 L2240.66 1472.72 Q2243.33 1469.96 2247.91 1465.33 Q2252.52 1460.68 2253.7 1459.34 Q2255.94 1456.81 2256.82 1455.08 Q2257.72 1453.32 2257.72 1451.63 Q2257.72 1448.87 2255.78 1447.14 Q2253.86 1445.4 2250.76 1445.4 Q2248.56 1445.4 2246.1 1446.17 Q2243.67 1446.93 2240.9 1448.48 L2240.9 1443.76 Q2243.72 1442.62 2246.17 1442.05 Q2248.63 1441.47 2250.66 1441.47 Q2256.03 1441.47 2259.23 1444.15 Q2262.42 1446.84 2262.42 1451.33 Q2262.42 1453.46 2261.61 1455.38 Q2260.83 1457.28 2258.72 1459.87 Q2258.14 1460.54 2255.04 1463.76 Q2251.94 1466.95 2246.29 1472.72 Z\" fill=\"#000000\" fill-rule=\"evenodd\" fill-opacity=\"1\" /><path clip-path=\"url(#clip680)\" d=\"M 0 0 M2277.68 1445.17 Q2274.07 1445.17 2272.24 1448.74 Q2270.43 1452.28 2270.43 1459.41 Q2270.43 1466.51 2272.24 1470.08 Q2274.07 1473.62 2277.68 1473.62 Q2281.31 1473.62 2283.12 1470.08 Q2284.95 1466.51 2284.95 1459.41 Q2284.95 1452.28 2283.12 1448.74 Q2281.31 1445.17 2277.68 1445.17 M2277.68 1441.47 Q2283.49 1441.47 2286.54 1446.07 Q2289.62 1450.66 2289.62 1459.41 Q2289.62 1468.13 2286.54 1472.74 Q2283.49 1477.32 2277.68 1477.32 Q2271.87 1477.32 2268.79 1472.74 Q2265.73 1468.13 2265.73 1459.41 Q2265.73 1450.66 2268.79 1446.07 Q2271.87 1441.47 2277.68 1441.47 Z\" fill=\"#000000\" fill-rule=\"evenodd\" fill-opacity=\"1\" /><path clip-path=\"url(#clip680)\" d=\"M 0 0 M2304.69 1445.17 Q2301.08 1445.17 2299.25 1448.74 Q2297.45 1452.28 2297.45 1459.41 Q2297.45 1466.51 2299.25 1470.08 Q2301.08 1473.62 2304.69 1473.62 Q2308.33 1473.62 2310.13 1470.08 Q2311.96 1466.51 2311.96 1459.41 Q2311.96 1452.28 2310.13 1448.74 Q2308.33 1445.17 2304.69 1445.17 M2304.69 1441.47 Q2310.5 1441.47 2313.56 1446.07 Q2316.64 1450.66 2316.64 1459.41 Q2316.64 1468.13 2313.56 1472.74 Q2310.5 1477.32 2304.69 1477.32 Q2298.88 1477.32 2295.8 1472.74 Q2292.75 1468.13 2292.75 1459.41 Q2292.75 1450.66 2295.8 1446.07 Q2298.88 1441.47 2304.69 1441.47 Z\" fill=\"#000000\" fill-rule=\"evenodd\" fill-opacity=\"1\" /><path clip-path=\"url(#clip680)\" d=\"M 0 0 M2331.71 1445.17 Q2328.09 1445.17 2326.27 1448.74 Q2324.46 1452.28 2324.46 1459.41 Q2324.46 1466.51 2326.27 1470.08 Q2328.09 1473.62 2331.71 1473.62 Q2335.34 1473.62 2337.15 1470.08 Q2338.97 1466.51 2338.97 1459.41 Q2338.97 1452.28 2337.15 1448.74 Q2335.34 1445.17 2331.71 1445.17 M2331.71 1441.47 Q2337.52 1441.47 2340.57 1446.07 Q2343.65 1450.66 2343.65 1459.41 Q2343.65 1468.13 2340.57 1472.74 Q2337.52 1477.32 2331.71 1477.32 Q2325.9 1477.32 2322.82 1472.74 Q2319.76 1468.13 2319.76 1459.41 Q2319.76 1450.66 2322.82 1446.07 Q2325.9 1441.47 2331.71 1441.47 Z\" fill=\"#000000\" fill-rule=\"evenodd\" fill-opacity=\"1\" /><path clip-path=\"url(#clip680)\" d=\"M 0 0 M138.205 1226.34 Q134.593 1226.34 132.765 1229.91 Q130.959 1233.45 130.959 1240.58 Q130.959 1247.69 132.765 1251.25 Q134.593 1254.79 138.205 1254.79 Q141.839 1254.79 143.644 1251.25 Q145.473 1247.69 145.473 1240.58 Q145.473 1233.45 143.644 1229.91 Q141.839 1226.34 138.205 1226.34 M138.205 1222.64 Q144.015 1222.64 147.07 1227.25 Q150.149 1231.83 150.149 1240.58 Q150.149 1249.31 147.07 1253.91 Q144.015 1258.5 138.205 1258.5 Q132.394 1258.5 129.316 1253.91 Q126.26 1249.31 126.26 1240.58 Q126.26 1231.83 129.316 1227.25 Q132.394 1222.64 138.205 1222.64 Z\" fill=\"#000000\" fill-rule=\"evenodd\" fill-opacity=\"1\" /><path clip-path=\"url(#clip680)\" d=\"M 0 0 M155.218 1251.95 L160.103 1251.95 L160.103 1257.83 L155.218 1257.83 L155.218 1251.95 Z\" fill=\"#000000\" fill-rule=\"evenodd\" fill-opacity=\"1\" /><path clip-path=\"url(#clip680)\" d=\"M 0 0 M178.019 1227.34 L166.214 1245.79 L178.019 1245.79 L178.019 1227.34 M176.792 1223.27 L182.672 1223.27 L182.672 1245.79 L187.602 1245.79 L187.602 1249.68 L182.672 1249.68 L182.672 1257.83 L178.019 1257.83 L178.019 1249.68 L162.417 1249.68 L162.417 1245.16 L176.792 1223.27 Z\" fill=\"#000000\" fill-rule=\"evenodd\" fill-opacity=\"1\" /><path clip-path=\"url(#clip680)\" d=\"M 0 0 M139.686 879.282 Q136.075 879.282 134.246 882.847 Q132.441 886.388 132.441 893.518 Q132.441 900.624 134.246 904.189 Q136.075 907.731 139.686 907.731 Q143.32 907.731 145.126 904.189 Q146.954 900.624 146.954 893.518 Q146.954 886.388 145.126 882.847 Q143.32 879.282 139.686 879.282 M139.686 875.578 Q145.496 875.578 148.552 880.185 Q151.63 884.768 151.63 893.518 Q151.63 902.245 148.552 906.851 Q145.496 911.435 139.686 911.435 Q133.876 911.435 130.797 906.851 Q127.742 902.245 127.742 893.518 Q127.742 884.768 130.797 880.185 Q133.876 875.578 139.686 875.578 Z\" fill=\"#000000\" fill-rule=\"evenodd\" fill-opacity=\"1\" /><path clip-path=\"url(#clip680)\" d=\"M 0 0 M156.7 904.884 L161.584 904.884 L161.584 910.763 L156.7 910.763 L156.7 904.884 Z\" fill=\"#000000\" fill-rule=\"evenodd\" fill-opacity=\"1\" /><path clip-path=\"url(#clip680)\" d=\"M 0 0 M166.7 876.203 L185.056 876.203 L185.056 880.138 L170.982 880.138 L170.982 888.611 Q172.001 888.263 173.019 888.101 Q174.038 887.916 175.056 887.916 Q180.843 887.916 184.223 891.087 Q187.602 894.259 187.602 899.675 Q187.602 905.254 184.13 908.356 Q180.658 911.435 174.339 911.435 Q172.163 911.435 169.894 911.064 Q167.649 910.694 165.241 909.953 L165.241 905.254 Q167.325 906.388 169.547 906.944 Q171.769 907.499 174.246 907.499 Q178.251 907.499 180.589 905.393 Q182.927 903.286 182.927 899.675 Q182.927 896.064 180.589 893.958 Q178.251 891.851 174.246 891.851 Q172.371 891.851 170.496 892.268 Q168.644 892.685 166.7 893.564 L166.7 876.203 Z\" fill=\"#000000\" fill-rule=\"evenodd\" fill-opacity=\"1\" /><path clip-path=\"url(#clip680)\" d=\"M 0 0 M138.529 532.22 Q134.918 532.22 133.089 535.785 Q131.283 539.327 131.283 546.456 Q131.283 553.563 133.089 557.127 Q134.918 560.669 138.529 560.669 Q142.163 560.669 143.968 557.127 Q145.797 553.563 145.797 546.456 Q145.797 539.327 143.968 535.785 Q142.163 532.22 138.529 532.22 M138.529 528.516 Q144.339 528.516 147.394 533.123 Q150.473 537.706 150.473 546.456 Q150.473 555.183 147.394 559.789 Q144.339 564.373 138.529 564.373 Q132.718 564.373 129.64 559.789 Q126.584 555.183 126.584 546.456 Q126.584 537.706 129.64 533.123 Q132.718 528.516 138.529 528.516 Z\" fill=\"#000000\" fill-rule=\"evenodd\" fill-opacity=\"1\" /><path clip-path=\"url(#clip680)\" d=\"M 0 0 M155.542 557.822 L160.427 557.822 L160.427 563.701 L155.542 563.701 L155.542 557.822 Z\" fill=\"#000000\" fill-rule=\"evenodd\" fill-opacity=\"1\" /><path clip-path=\"url(#clip680)\" d=\"M 0 0 M176.075 544.558 Q172.927 544.558 171.075 546.711 Q169.246 548.864 169.246 552.613 Q169.246 556.34 171.075 558.516 Q172.927 560.669 176.075 560.669 Q179.223 560.669 181.052 558.516 Q182.903 556.34 182.903 552.613 Q182.903 548.864 181.052 546.711 Q179.223 544.558 176.075 544.558 M185.357 529.905 L185.357 534.165 Q183.598 533.331 181.792 532.891 Q180.01 532.452 178.251 532.452 Q173.621 532.452 171.167 535.577 Q168.737 538.702 168.39 545.021 Q169.755 543.007 171.815 541.942 Q173.876 540.854 176.352 540.854 Q181.561 540.854 184.57 544.026 Q187.602 547.174 187.602 552.613 Q187.602 557.938 184.454 561.155 Q181.306 564.373 176.075 564.373 Q170.079 564.373 166.908 559.789 Q163.737 555.183 163.737 546.456 Q163.737 538.262 167.626 533.401 Q171.515 528.516 178.065 528.516 Q179.825 528.516 181.607 528.864 Q183.413 529.211 185.357 529.905 Z\" fill=\"#000000\" fill-rule=\"evenodd\" fill-opacity=\"1\" /><path clip-path=\"url(#clip680)\" d=\"M 0 0 M139.593 185.158 Q135.982 185.158 134.154 188.723 Q132.348 192.265 132.348 199.394 Q132.348 206.501 134.154 210.066 Q135.982 213.607 139.593 213.607 Q143.228 213.607 145.033 210.066 Q146.862 206.501 146.862 199.394 Q146.862 192.265 145.033 188.723 Q143.228 185.158 139.593 185.158 M139.593 181.455 Q145.404 181.455 148.459 186.061 Q151.538 190.644 151.538 199.394 Q151.538 208.121 148.459 212.728 Q145.404 217.311 139.593 217.311 Q133.783 217.311 130.705 212.728 Q127.649 208.121 127.649 199.394 Q127.649 190.644 130.705 186.061 Q133.783 181.455 139.593 181.455 Z\" fill=\"#000000\" fill-rule=\"evenodd\" fill-opacity=\"1\" /><path clip-path=\"url(#clip680)\" d=\"M 0 0 M156.607 210.76 L161.491 210.76 L161.491 216.64 L156.607 216.64 L156.607 210.76 Z\" fill=\"#000000\" fill-rule=\"evenodd\" fill-opacity=\"1\" /><path clip-path=\"url(#clip680)\" d=\"M 0 0 M165.38 182.08 L187.602 182.08 L187.602 184.07 L175.056 216.64 L170.172 216.64 L181.977 186.015 L165.38 186.015 L165.38 182.08 Z\" fill=\"#000000\" fill-rule=\"evenodd\" fill-opacity=\"1\" /><path clip-path=\"url(#clip680)\" d=\"M 0 0 M1212.46 1536.76 L1212.46 1539.62 L1185.53 1539.62 Q1185.91 1545.67 1189.16 1548.85 Q1192.44 1552 1198.26 1552 Q1201.64 1552 1204.79 1551.17 Q1207.97 1550.35 1211.09 1548.69 L1211.09 1554.23 Q1207.94 1555.57 1204.63 1556.27 Q1201.32 1556.97 1197.91 1556.97 Q1189.38 1556.97 1184.39 1552 Q1179.42 1547.04 1179.42 1538.57 Q1179.42 1529.82 1184.13 1524.69 Q1188.87 1519.54 1196.89 1519.54 Q1204.09 1519.54 1208.26 1524.18 Q1212.46 1528.8 1212.46 1536.76 M1206.6 1535.04 Q1206.54 1530.23 1203.9 1527.37 Q1201.29 1524.5 1196.96 1524.5 Q1192.06 1524.5 1189.1 1527.27 Q1186.17 1530.04 1185.72 1535.07 L1206.6 1535.04 Z\" fill=\"#000000\" fill-rule=\"evenodd\" fill-opacity=\"1\" /><path clip-path=\"url(#clip680)\" d=\"M 0 0 M1224.27 1550.7 L1224.27 1569.6 L1218.38 1569.6 L1218.38 1520.4 L1224.27 1520.4 L1224.27 1525.81 Q1226.11 1522.62 1228.91 1521.1 Q1231.75 1519.54 1235.66 1519.54 Q1242.15 1519.54 1246.2 1524.69 Q1250.27 1529.85 1250.27 1538.25 Q1250.27 1546.65 1246.2 1551.81 Q1242.15 1556.97 1235.66 1556.97 Q1231.75 1556.97 1228.91 1555.44 Q1226.11 1553.88 1224.27 1550.7 M1244.19 1538.25 Q1244.19 1531.79 1241.52 1528.13 Q1238.88 1524.44 1234.23 1524.44 Q1229.58 1524.44 1226.91 1528.13 Q1224.27 1531.79 1224.27 1538.25 Q1224.27 1544.71 1226.91 1548.4 Q1229.58 1552.07 1234.23 1552.07 Q1238.88 1552.07 1241.52 1548.4 Q1244.19 1544.71 1244.19 1538.25 Z\" fill=\"#000000\" fill-rule=\"evenodd\" fill-opacity=\"1\" /><path clip-path=\"url(#clip680)\" d=\"M 0 0 M1270.23 1524.5 Q1265.52 1524.5 1262.78 1528.19 Q1260.04 1531.85 1260.04 1538.25 Q1260.04 1544.65 1262.75 1548.34 Q1265.49 1552 1270.23 1552 Q1274.91 1552 1277.64 1548.31 Q1280.38 1544.62 1280.38 1538.25 Q1280.38 1531.92 1277.64 1528.23 Q1274.91 1524.5 1270.23 1524.5 M1270.23 1519.54 Q1277.87 1519.54 1282.23 1524.5 Q1286.59 1529.47 1286.59 1538.25 Q1286.59 1547 1282.23 1552 Q1277.87 1556.97 1270.23 1556.97 Q1262.56 1556.97 1258.2 1552 Q1253.87 1547 1253.87 1538.25 Q1253.87 1529.47 1258.2 1524.5 Q1262.56 1519.54 1270.23 1519.54 Z\" fill=\"#000000\" fill-rule=\"evenodd\" fill-opacity=\"1\" /><path clip-path=\"url(#clip680)\" d=\"M 0 0 M1318.38 1521.76 L1318.38 1527.24 Q1315.9 1525.87 1313.39 1525.2 Q1310.9 1524.5 1308.36 1524.5 Q1302.66 1524.5 1299.51 1528.13 Q1296.36 1531.73 1296.36 1538.25 Q1296.36 1544.78 1299.51 1548.4 Q1302.66 1552 1308.36 1552 Q1310.9 1552 1313.39 1551.33 Q1315.9 1550.63 1318.38 1549.26 L1318.38 1554.68 Q1315.93 1555.82 1313.29 1556.39 Q1310.68 1556.97 1307.72 1556.97 Q1299.67 1556.97 1294.93 1551.91 Q1290.18 1546.85 1290.18 1538.25 Q1290.18 1529.53 1294.96 1524.53 Q1299.76 1519.54 1308.1 1519.54 Q1310.81 1519.54 1313.39 1520.11 Q1315.97 1520.65 1318.38 1521.76 Z\" fill=\"#000000\" fill-rule=\"evenodd\" fill-opacity=\"1\" /><path clip-path=\"url(#clip680)\" d=\"M 0 0 M1354.16 1534.53 L1354.16 1556.04 L1348.3 1556.04 L1348.3 1534.72 Q1348.3 1529.66 1346.33 1527.14 Q1344.36 1524.63 1340.41 1524.63 Q1335.67 1524.63 1332.93 1527.65 Q1330.19 1530.68 1330.19 1535.9 L1330.19 1556.04 L1324.3 1556.04 L1324.3 1506.52 L1330.19 1506.52 L1330.19 1525.93 Q1332.29 1522.72 1335.13 1521.13 Q1337.99 1519.54 1341.71 1519.54 Q1347.86 1519.54 1351.01 1523.36 Q1354.16 1527.14 1354.16 1534.53 Z\" fill=\"#000000\" fill-rule=\"evenodd\" fill-opacity=\"1\" /><path clip-path=\"url(#clip680)\" d=\"M 0 0 M1383.03 1521.45 L1383.03 1526.98 Q1380.55 1525.71 1377.87 1525.07 Q1375.2 1524.44 1372.33 1524.44 Q1367.97 1524.44 1365.78 1525.77 Q1363.61 1527.11 1363.61 1529.79 Q1363.61 1531.82 1365.17 1533 Q1366.73 1534.15 1371.44 1535.2 L1373.45 1535.64 Q1379.69 1536.98 1382.3 1539.43 Q1384.94 1541.85 1384.94 1546.21 Q1384.94 1551.17 1380.99 1554.07 Q1377.08 1556.97 1370.2 1556.97 Q1367.34 1556.97 1364.22 1556.39 Q1361.13 1555.85 1357.69 1554.74 L1357.69 1548.69 Q1360.94 1550.38 1364.09 1551.24 Q1367.24 1552.07 1370.33 1552.07 Q1374.47 1552.07 1376.69 1550.66 Q1378.92 1549.23 1378.92 1546.65 Q1378.92 1544.27 1377.3 1542.99 Q1375.71 1541.72 1370.26 1540.54 L1368.23 1540.07 Q1362.78 1538.92 1360.37 1536.56 Q1357.95 1534.18 1357.95 1530.04 Q1357.95 1525.01 1361.51 1522.27 Q1365.08 1519.54 1371.63 1519.54 Q1374.88 1519.54 1377.74 1520.01 Q1380.61 1520.49 1383.03 1521.45 Z\" fill=\"#000000\" fill-rule=\"evenodd\" fill-opacity=\"1\" /><path clip-path=\"url(#clip680)\" d=\"M 0 0 M44.1444 904.492 L50.9239 904.492 Q47.9002 907.739 46.4043 911.431 Q44.9083 915.091 44.9083 919.229 Q44.9083 927.377 49.9054 931.705 Q54.8707 936.034 64.2919 936.034 Q73.6813 936.034 78.6784 931.705 Q83.6436 927.377 83.6436 919.229 Q83.6436 915.091 82.1477 911.431 Q80.6518 907.739 77.6281 904.492 L84.3439 904.492 Q86.6355 907.866 87.7814 911.653 Q88.9272 915.409 88.9272 919.611 Q88.9272 930.4 82.3387 936.607 Q75.7183 942.814 64.2919 942.814 Q52.8336 942.814 46.2451 936.607 Q39.6248 930.4 39.6248 919.611 Q39.6248 915.346 40.7706 911.59 Q41.8846 907.802 44.1444 904.492 Z\" fill=\"#000000\" fill-rule=\"evenodd\" fill-opacity=\"1\" /><path clip-path=\"url(#clip680)\" d=\"M 0 0 M57.8307 877.692 Q57.2578 878.679 57.0032 879.857 Q56.7167 881.003 56.7167 882.403 Q56.7167 887.368 59.9632 890.042 Q63.1779 892.684 69.2253 892.684 L88.0042 892.684 L88.0042 898.572 L52.3562 898.572 L52.3562 892.684 L57.8944 892.684 Q54.6479 890.838 53.0883 887.878 Q51.4968 884.917 51.4968 880.684 Q51.4968 880.08 51.5923 879.347 Q51.656 878.615 51.8151 877.724 L57.8307 877.692 Z\" fill=\"#000000\" fill-rule=\"evenodd\" fill-opacity=\"1\" /><path clip-path=\"url(#clip680)\" d=\"M 0 0 M56.4621 859.168 Q56.4621 863.879 60.1542 866.616 Q63.8145 869.353 70.212 869.353 Q76.6095 869.353 80.3017 866.648 Q83.9619 863.911 83.9619 859.168 Q83.9619 854.489 80.2698 851.752 Q76.5777 849.015 70.212 849.015 Q63.8781 849.015 60.186 851.752 Q56.4621 854.489 56.4621 859.168 M51.4968 859.168 Q51.4968 851.529 56.4621 847.169 Q61.4273 842.808 70.212 842.808 Q78.9649 842.808 83.9619 847.169 Q88.9272 851.529 88.9272 859.168 Q88.9272 866.839 83.9619 871.199 Q78.9649 875.528 70.212 875.528 Q61.4273 875.528 56.4621 871.199 Q51.4968 866.839 51.4968 859.168 Z\" fill=\"#000000\" fill-rule=\"evenodd\" fill-opacity=\"1\" /><path clip-path=\"url(#clip680)\" d=\"M 0 0 M53.4065 813.94 L58.9447 813.94 Q57.6716 816.422 57.035 819.096 Q56.3984 821.77 56.3984 824.634 Q56.3984 828.995 57.7352 831.191 Q59.072 833.355 61.7456 833.355 Q63.7826 833.355 64.9603 831.796 Q66.1061 830.236 67.1565 825.525 L67.6021 823.52 Q68.9389 817.282 71.3897 814.672 Q73.8086 812.03 78.1691 812.03 Q83.1344 812.03 86.0308 815.977 Q88.9272 819.892 88.9272 826.767 Q88.9272 829.631 88.3543 832.751 Q87.8132 835.838 86.6992 839.275 L80.6518 839.275 Q82.3387 836.029 83.198 832.878 Q84.0256 829.727 84.0256 826.639 Q84.0256 822.502 82.6251 820.274 Q81.1929 818.046 78.6147 818.046 Q76.2276 818.046 74.9545 819.669 Q73.6813 821.26 72.5037 826.703 L72.0262 828.74 Q70.8804 834.183 68.5251 836.602 Q66.138 839.021 62.0002 839.021 Q56.9713 839.021 54.2341 835.456 Q51.4968 831.891 51.4968 825.334 Q51.4968 822.088 51.9743 819.223 Q52.4517 816.359 53.4065 813.94 Z\" fill=\"#000000\" fill-rule=\"evenodd\" fill-opacity=\"1\" /><path clip-path=\"url(#clip680)\" d=\"M 0 0 M53.4065 783.162 L58.9447 783.162 Q57.6716 785.644 57.035 788.318 Q56.3984 790.991 56.3984 793.856 Q56.3984 798.217 57.7352 800.413 Q59.072 802.577 61.7456 802.577 Q63.7826 802.577 64.9603 801.017 Q66.1061 799.458 67.1565 794.747 L67.6021 792.742 Q68.9389 786.504 71.3897 783.894 Q73.8086 781.252 78.1691 781.252 Q83.1344 781.252 86.0308 785.199 Q88.9272 789.114 88.9272 795.989 Q88.9272 798.853 88.3543 801.972 Q87.8132 805.06 86.6992 808.497 L80.6518 808.497 Q82.3387 805.251 83.198 802.1 Q84.0256 798.949 84.0256 795.861 Q84.0256 791.724 82.6251 789.496 Q81.1929 787.268 78.6147 787.268 Q76.2276 787.268 74.9545 788.891 Q73.6813 790.482 72.5037 795.925 L72.0262 797.962 Q70.8804 803.405 68.5251 805.824 Q66.138 808.243 62.0002 808.243 Q56.9713 808.243 54.2341 804.678 Q51.4968 801.113 51.4968 794.556 Q51.4968 791.31 51.9743 788.445 Q52.4517 785.581 53.4065 783.162 Z\" fill=\"#000000\" fill-rule=\"evenodd\" fill-opacity=\"1\" /><path clip-path=\"url(#clip680)\" d=\"M 0 0 M40.4842 754.134 L40.4842 724.088 L45.895 724.088 L45.895 747.705 L59.9632 747.705 L59.9632 725.075 L65.3741 725.075 L65.3741 747.705 L82.5933 747.705 L82.5933 723.515 L88.0042 723.515 L88.0042 754.134 L40.4842 754.134 Z\" fill=\"#000000\" fill-rule=\"evenodd\" fill-opacity=\"1\" /><path clip-path=\"url(#clip680)\" d=\"M 0 0 M66.4881 687.74 L88.0042 687.74 L88.0042 693.596 L66.679 693.596 Q61.6183 693.596 59.1038 695.57 Q56.5894 697.543 56.5894 701.49 Q56.5894 706.232 59.6131 708.969 Q62.6368 711.707 67.8567 711.707 L88.0042 711.707 L88.0042 717.595 L52.3562 717.595 L52.3562 711.707 L57.8944 711.707 Q54.6797 709.606 53.0883 706.773 Q51.4968 703.909 51.4968 700.185 Q51.4968 694.042 55.3163 690.891 Q59.1038 687.74 66.4881 687.74 Z\" fill=\"#000000\" fill-rule=\"evenodd\" fill-opacity=\"1\" /><path clip-path=\"url(#clip680)\" d=\"M 0 0 M42.2347 675.804 L52.3562 675.804 L52.3562 663.741 L56.9077 663.741 L56.9077 675.804 L76.2594 675.804 Q80.6199 675.804 81.8613 674.626 Q83.1026 673.417 83.1026 669.757 L83.1026 663.741 L88.0042 663.741 L88.0042 669.757 Q88.0042 676.536 85.4897 679.114 Q82.9434 681.692 76.2594 681.692 L56.9077 681.692 L56.9077 685.989 L52.3562 685.989 L52.3562 681.692 L42.2347 681.692 L42.2347 675.804 Z\" fill=\"#000000\" fill-rule=\"evenodd\" fill-opacity=\"1\" /><path clip-path=\"url(#clip680)\" d=\"M 0 0 M57.8307 636.941 Q57.2578 637.928 57.0032 639.106 Q56.7167 640.252 56.7167 641.652 Q56.7167 646.617 59.9632 649.291 Q63.1779 651.933 69.2253 651.933 L88.0042 651.933 L88.0042 657.821 L52.3562 657.821 L52.3562 651.933 L57.8944 651.933 Q54.6479 650.087 53.0883 647.127 Q51.4968 644.166 51.4968 639.933 Q51.4968 639.329 51.5923 638.596 Q51.656 637.864 51.8151 636.973 L57.8307 636.941 Z\" fill=\"#000000\" fill-rule=\"evenodd\" fill-opacity=\"1\" /><path clip-path=\"url(#clip680)\" d=\"M 0 0 M56.4621 618.417 Q56.4621 623.128 60.1542 625.865 Q63.8145 628.602 70.212 628.602 Q76.6095 628.602 80.3017 625.897 Q83.9619 623.16 83.9619 618.417 Q83.9619 613.738 80.2698 611.001 Q76.5777 608.264 70.212 608.264 Q63.8781 608.264 60.186 611.001 Q56.4621 613.738 56.4621 618.417 M51.4968 618.417 Q51.4968 610.778 56.4621 606.418 Q61.4273 602.057 70.212 602.057 Q78.9649 602.057 83.9619 606.418 Q88.9272 610.778 88.9272 618.417 Q88.9272 626.088 83.9619 630.448 Q78.9649 634.777 70.212 634.777 Q61.4273 634.777 56.4621 630.448 Q51.4968 626.088 51.4968 618.417 Z\" fill=\"#000000\" fill-rule=\"evenodd\" fill-opacity=\"1\" /><path clip-path=\"url(#clip680)\" d=\"M 0 0 M82.657 590.249 L101.563 590.249 L101.563 596.137 L52.3562 596.137 L52.3562 590.249 L57.7671 590.249 Q54.5842 588.403 53.0564 585.602 Q51.4968 582.769 51.4968 578.854 Q51.4968 572.361 56.6531 568.319 Q61.8093 564.245 70.212 564.245 Q78.6147 564.245 83.771 568.319 Q88.9272 572.361 88.9272 578.854 Q88.9272 582.769 87.3994 585.602 Q85.8398 588.403 82.657 590.249 M70.212 570.324 Q63.7508 570.324 60.0905 572.998 Q56.3984 575.64 56.3984 580.287 Q56.3984 584.934 60.0905 587.607 Q63.7508 590.249 70.212 590.249 Q76.6732 590.249 80.3653 587.607 Q84.0256 584.934 84.0256 580.287 Q84.0256 575.64 80.3653 572.998 Q76.6732 570.324 70.212 570.324 Z\" fill=\"#000000\" fill-rule=\"evenodd\" fill-opacity=\"1\" /><path clip-path=\"url(#clip680)\" d=\"M 0 0 M91.3143 543.27 Q97.68 545.753 99.6216 548.108 Q101.563 550.463 101.563 554.41 L101.563 559.089 L96.6615 559.089 L96.6615 555.651 Q96.6615 553.232 95.5157 551.896 Q94.3699 550.559 90.1048 548.935 L87.4312 547.885 L52.3562 562.303 L52.3562 556.097 L80.238 544.957 L52.3562 533.817 L52.3562 527.61 L91.3143 543.27 Z\" fill=\"#000000\" fill-rule=\"evenodd\" fill-opacity=\"1\" /><polyline clip-path=\"url(#clip682)\" style=\"stroke:#009af9; stroke-width:8; stroke-opacity:1; fill:none\" points=\"\n",
       "  272.201,86.1857 273.212,131.507 274.222,179 275.233,226.987 276.243,273.825 277.254,318.227 279.274,525.468 282.306,700.512 285.337,772.09 289.379,826.854 \n",
       "  294.432,864.821 301.505,899.073 310.599,929.326 322.725,960.622 337.883,988.446 358.092,1008.77 384.365,1021 417.711,1030.13 462.172,1038.25 519.77,1041.19 \n",
       "  593.535,1041.4 690.541,1042.08 815.841,1054.04 979.539,1038.12 1191.74,1028.03 1467.6,1039.65 1826.32,1021.75 2292.16,1000.08 \n",
       "  \"/>\n",
       "<polyline clip-path=\"url(#clip682)\" style=\"stroke:#e26f46; stroke-width:8; stroke-opacity:1; fill:none\" points=\"\n",
       "  272.201,384.154 273.212,447.298 274.222,495.474 275.233,535.237 276.243,570.17 277.254,601.925 278.264,631.156 279.274,658.048 280.285,682.619 281.295,704.903 \n",
       "  282.306,725.013 283.316,743.134 284.327,759.484 285.337,774.283 286.348,787.734 287.358,800.016 288.369,811.282 289.379,821.662 290.39,831.265 291.4,840.186 \n",
       "  292.411,848.505 293.421,856.289 294.432,863.599 295.442,870.484 296.453,876.99 297.463,883.155 298.474,889.012 299.484,894.592 300.495,899.919 301.505,905.018 \n",
       "  302.516,909.908 303.526,914.609 304.537,919.136 305.547,923.503 306.558,927.725 307.568,931.813 308.579,935.777 309.589,939.627 310.599,943.373 311.61,947.021 \n",
       "  312.62,950.578 313.631,954.052 314.641,957.446 315.652,960.768 316.662,964.021 317.673,967.21 318.683,970.338 319.694,973.409 320.704,976.425 321.715,979.389 \n",
       "  322.725,982.304 323.736,985.171 324.746,987.992 325.757,990.769 326.767,993.504 327.778,996.196 328.788,998.849 329.799,1001.46 330.809,1004.04 331.82,1006.57 \n",
       "  332.83,1009.07 333.841,1011.53 334.851,1013.96 335.862,1016.35 336.872,1018.7 337.883,1021.02 338.893,1023.3 339.903,1025.55 340.914,1027.76 341.924,1029.94 \n",
       "  342.935,1032.09 343.945,1034.21 344.956,1036.29 345.966,1038.34 346.977,1040.35 347.987,1042.34 348.998,1044.3 350.008,1046.22 351.019,1048.12 352.029,1049.98 \n",
       "  353.04,1051.82 354.05,1053.62 355.061,1055.4 356.071,1057.16 357.082,1058.88 358.092,1060.58 359.103,1062.26 360.113,1063.91 361.124,1065.53 362.134,1067.13 \n",
       "  363.145,1068.71 364.155,1070.27 365.166,1071.8 366.176,1073.31 367.187,1074.8 368.197,1076.27 369.208,1077.72 370.218,1079.14 371.228,1080.55 372.239,1081.94 \n",
       "  373.249,1083.32 374.26,1084.67 375.27,1086 376.281,1087.32 377.291,1088.62 378.302,1089.9 379.312,1091.17 380.323,1092.42 381.333,1093.65 382.344,1094.87 \n",
       "  383.354,1096.07 384.365,1097.25 385.375,1098.42 386.386,1099.57 387.396,1100.71 388.407,1101.84 389.417,1102.95 390.428,1104.04 391.438,1105.12 392.449,1106.19 \n",
       "  393.459,1107.25 394.47,1108.29 395.48,1109.32 396.491,1110.33 397.501,1111.34 398.512,1112.33 399.522,1113.31 400.532,1114.28 401.543,1115.24 402.553,1116.19 \n",
       "  403.564,1117.13 404.574,1118.05 405.585,1118.97 406.595,1119.88 407.606,1120.78 408.616,1121.67 409.627,1122.54 410.637,1123.41 411.648,1124.28 412.658,1125.13 \n",
       "  413.669,1125.97 414.679,1126.81 415.69,1127.63 416.7,1128.45 417.711,1129.26 418.721,1130.07 419.732,1130.86 420.742,1131.65 421.753,1132.43 422.763,1133.21 \n",
       "  423.774,1133.97 424.784,1134.73 425.795,1135.48 426.805,1136.23 427.816,1136.96 428.826,1137.69 429.836,1138.42 430.847,1139.13 431.857,1139.84 432.868,1140.55 \n",
       "  433.878,1141.24 434.889,1141.93 435.899,1142.61 436.91,1143.29 437.92,1143.96 438.931,1144.62 439.941,1145.28 440.952,1145.93 441.962,1146.58 442.973,1147.22 \n",
       "  443.983,1147.85 444.994,1148.47 446.004,1149.09 447.015,1149.71 448.025,1150.32 449.036,1150.92 450.046,1151.51 451.057,1152.1 452.067,1152.69 453.078,1153.27 \n",
       "  454.088,1153.84 455.099,1154.41 456.109,1154.97 457.12,1155.53 458.13,1156.08 459.141,1156.62 460.151,1157.16 461.161,1157.69 462.172,1158.22 463.182,1158.75 \n",
       "  464.193,1159.26 465.203,1159.78 466.214,1160.29 467.224,1160.79 468.235,1161.29 469.245,1161.78 470.256,1162.27 471.266,1162.75 472.277,1163.23 473.287,1163.7 \n",
       "  474.298,1164.17 475.308,1164.63 476.319,1165.09 477.329,1165.55 478.34,1166 479.35,1166.44 480.361,1166.88 481.371,1167.32 482.382,1167.75 483.392,1168.18 \n",
       "  484.403,1168.6 485.413,1169.02 486.424,1169.44 487.434,1169.85 488.445,1170.26 489.455,1170.67 490.465,1171.07 491.476,1171.46 492.486,1171.86 493.497,1172.25 \n",
       "  494.507,1172.63 495.518,1173.01 496.528,1173.39 497.539,1173.77 498.549,1174.14 499.56,1174.51 500.57,1174.87 501.581,1175.23 502.591,1175.59 503.602,1175.95 \n",
       "  504.612,1176.3 505.623,1176.65 506.633,1177 507.644,1177.34 508.654,1177.68 509.665,1178.02 510.675,1178.36 511.686,1178.69 512.696,1179.02 513.707,1179.34 \n",
       "  514.717,1179.67 515.728,1179.99 516.738,1180.31 517.749,1180.63 518.759,1180.94 519.77,1181.25 520.78,1181.56 521.79,1181.87 522.801,1182.17 523.811,1182.48 \n",
       "  524.822,1182.78 525.832,1183.08 526.843,1183.37 527.853,1183.67 528.864,1183.96 529.874,1184.25 530.885,1184.54 531.895,1184.82 532.906,1185.11 533.916,1185.39 \n",
       "  534.927,1185.67 535.937,1185.95 536.948,1186.22 537.958,1186.5 538.969,1186.77 539.979,1187.04 540.99,1187.31 542,1187.58 543.011,1187.84 544.021,1188.11 \n",
       "  545.032,1188.37 546.042,1188.63 547.053,1188.89 548.063,1189.15 549.074,1189.41 550.084,1189.66 551.094,1189.92 552.105,1190.17 553.115,1190.42 554.126,1190.67 \n",
       "  555.136,1190.92 556.147,1191.16 557.157,1191.41 558.168,1191.65 559.178,1191.9 560.189,1192.14 561.199,1192.38 562.21,1192.62 563.22,1192.85 564.231,1193.09 \n",
       "  565.241,1193.33 566.252,1193.56 567.262,1193.79 568.273,1194.03 569.283,1194.26 570.294,1194.49 571.304,1194.72 572.315,1194.94 573.325,1195.17 574.336,1195.4 \n",
       "  575.346,1195.62 576.357,1195.85 577.367,1196.07 578.378,1196.29 579.388,1196.51 580.399,1196.73 581.409,1196.95 582.419,1197.17 583.43,1197.39 584.44,1197.6 \n",
       "  585.451,1197.82 586.461,1198.03 587.472,1198.25 588.482,1198.46 589.493,1198.67 590.503,1198.88 591.514,1199.09 592.524,1199.3 593.535,1199.51 594.545,1199.72 \n",
       "  595.556,1199.93 596.566,1200.13 597.577,1200.34 598.587,1200.54 599.598,1200.75 600.608,1200.95 601.619,1201.15 602.629,1201.36 603.64,1201.56 604.65,1201.76 \n",
       "  605.661,1201.96 606.671,1202.16 607.682,1202.36 608.692,1202.55 609.703,1202.75 610.713,1202.95 611.723,1203.14 612.734,1203.34 613.744,1203.53 614.755,1203.73 \n",
       "  615.765,1203.92 616.776,1204.12 617.786,1204.31 618.797,1204.5 619.807,1204.69 620.818,1204.88 621.828,1205.07 622.839,1205.26 623.849,1205.45 624.86,1205.64 \n",
       "  625.87,1205.83 626.881,1206.02 627.891,1206.21 628.902,1206.4 629.912,1206.58 630.923,1206.77 631.933,1206.96 632.944,1207.14 633.954,1207.33 634.965,1207.51 \n",
       "  635.975,1207.7 636.986,1207.88 637.996,1208.07 639.007,1208.25 640.017,1208.44 641.028,1208.62 642.038,1208.81 643.048,1208.99 644.059,1209.18 645.069,1209.36 \n",
       "  646.08,1209.55 647.09,1209.73 648.101,1209.92 649.111,1210.1 650.122,1210.29 651.132,1210.47 652.143,1210.66 653.153,1210.85 654.164,1211.04 655.174,1211.23 \n",
       "  656.185,1211.42 657.195,1211.61 658.206,1211.8 659.216,1212 660.227,1212.2 661.237,1212.4 662.248,1212.6 663.258,1212.81 664.269,1213.02 665.279,1213.24 \n",
       "  666.29,1213.47 667.3,1213.7 668.311,1213.94 669.321,1214.19 670.332,1214.45 671.342,1214.73 672.352,1215.02 673.363,1215.33 674.373,1215.65 675.384,1215.99 \n",
       "  676.394,1216.33 677.405,1216.69 678.415,1217.04 679.426,1217.4 680.436,1217.74 681.447,1218.07 682.457,1218.38 683.468,1218.68 684.478,1218.97 685.489,1219.25 \n",
       "  686.499,1219.51 687.51,1219.77 688.52,1220.02 689.531,1220.26 690.541,1220.5 691.552,1220.73 692.562,1220.95 693.573,1221.18 694.583,1221.4 695.594,1221.61 \n",
       "  696.604,1221.83 697.615,1222.04 698.625,1222.25 699.636,1222.46 700.646,1222.66 701.657,1222.87 702.667,1223.08 703.677,1223.28 704.688,1223.49 705.698,1223.69 \n",
       "  706.709,1223.9 707.719,1224.1 708.73,1224.31 709.74,1224.52 710.751,1224.72 711.761,1224.93 712.772,1225.14 713.782,1225.35 714.793,1225.57 715.803,1225.78 \n",
       "  716.814,1226 717.824,1226.22 718.835,1226.44 719.845,1226.66 720.856,1226.88 721.866,1227.11 722.877,1227.34 723.887,1227.58 724.898,1227.81 725.908,1228.05 \n",
       "  726.919,1228.29 727.929,1228.54 728.94,1228.79 729.95,1229.04 730.961,1229.29 731.971,1229.54 732.981,1229.8 733.992,1230.06 735.002,1230.32 736.013,1230.58 \n",
       "  737.023,1230.84 738.034,1231.11 739.044,1231.37 740.055,1231.63 741.065,1231.9 742.076,1232.16 743.086,1232.42 744.097,1232.68 745.107,1232.94 746.118,1233.2 \n",
       "  747.128,1233.46 748.139,1233.72 749.149,1233.97 750.16,1234.22 751.17,1234.47 752.181,1234.72 753.191,1234.97 754.202,1235.22 755.212,1235.46 756.223,1235.7 \n",
       "  757.233,1235.94 758.244,1236.18 759.254,1236.41 760.265,1236.65 761.275,1236.88 762.286,1237.11 763.296,1237.34 764.306,1237.57 765.317,1237.8 766.327,1238.02 \n",
       "  767.338,1238.25 768.348,1238.47 769.359,1238.69 770.369,1238.91 771.38,1239.13 772.39,1239.35 773.401,1239.57 774.411,1239.79 775.422,1240 776.432,1240.22 \n",
       "  777.443,1240.44 778.453,1240.65 779.464,1240.87 780.474,1241.08 781.485,1241.29 782.495,1241.51 783.506,1241.72 784.516,1241.93 785.527,1242.15 786.537,1242.36 \n",
       "  787.548,1242.57 788.558,1242.79 789.569,1243 790.579,1243.21 791.59,1243.42 792.6,1243.63 793.61,1243.84 794.621,1244.05 795.631,1244.26 796.642,1244.47 \n",
       "  797.652,1244.68 798.663,1244.89 799.673,1245.1 800.684,1245.31 801.694,1245.51 802.705,1245.72 803.715,1245.93 804.726,1246.13 805.736,1246.34 806.747,1246.54 \n",
       "  807.757,1246.75 808.768,1246.95 809.778,1247.15 810.789,1247.36 811.799,1247.56 812.81,1247.76 813.82,1247.96 814.831,1248.16 815.841,1248.36 816.852,1248.56 \n",
       "  817.862,1248.75 818.873,1248.95 819.883,1249.15 820.894,1249.34 821.904,1249.54 822.915,1249.73 823.925,1249.92 824.935,1250.12 825.946,1250.31 826.956,1250.5 \n",
       "  827.967,1250.69 828.977,1250.88 829.988,1251.07 830.998,1251.26 832.009,1251.45 833.019,1251.64 834.03,1251.82 835.04,1252.01 836.051,1252.2 837.061,1252.38 \n",
       "  838.072,1252.57 839.082,1252.75 840.093,1252.94 841.103,1253.12 842.114,1253.3 843.124,1253.49 844.135,1253.67 845.145,1253.85 846.156,1254.03 847.166,1254.22 \n",
       "  848.177,1254.4 849.187,1254.58 850.198,1254.76 851.208,1254.94 852.219,1255.12 853.229,1255.3 854.239,1255.48 855.25,1255.66 856.26,1255.84 857.271,1256.02 \n",
       "  858.281,1256.2 859.292,1256.38 860.302,1256.56 861.313,1256.74 862.323,1256.92 863.334,1257.1 864.344,1257.28 865.355,1257.46 866.365,1257.64 867.376,1257.82 \n",
       "  868.386,1258 869.397,1258.18 870.407,1258.36 871.418,1258.54 872.428,1258.72 873.439,1258.9 874.449,1259.08 875.46,1259.26 876.47,1259.45 877.481,1259.63 \n",
       "  878.491,1259.81 879.502,1259.99 880.512,1260.17 881.523,1260.36 882.533,1260.54 883.544,1260.72 884.554,1260.91 885.564,1261.09 886.575,1261.28 887.585,1261.47 \n",
       "  888.596,1261.65 889.606,1261.84 890.617,1262.03 891.627,1262.21 892.638,1262.4 893.648,1262.59 894.659,1262.78 895.669,1262.97 896.68,1263.17 897.69,1263.36 \n",
       "  898.701,1263.55 899.711,1263.75 900.722,1263.94 901.732,1264.14 902.743,1264.33 903.753,1264.53 904.764,1264.73 905.774,1264.93 906.785,1265.13 907.795,1265.33 \n",
       "  908.806,1265.53 909.816,1265.73 910.827,1265.93 911.837,1266.14 912.848,1266.34 913.858,1266.55 914.868,1266.75 915.879,1266.96 916.889,1267.17 917.9,1267.37 \n",
       "  918.91,1267.58 919.921,1267.79 920.931,1268 921.942,1268.21 922.952,1268.42 923.963,1268.64 924.973,1268.85 925.984,1269.06 926.994,1269.27 928.005,1269.49 \n",
       "  929.015,1269.7 930.026,1269.91 931.036,1270.13 932.047,1270.34 933.057,1270.56 934.068,1270.77 935.078,1270.99 936.089,1271.2 937.099,1271.42 938.11,1271.63 \n",
       "  939.12,1271.85 940.131,1272.06 941.141,1272.27 942.152,1272.49 943.162,1272.7 944.172,1272.91 945.183,1273.13 946.193,1273.34 947.204,1273.55 948.214,1273.76 \n",
       "  949.225,1273.98 950.235,1274.19 951.246,1274.4 952.256,1274.61 953.267,1274.82 954.277,1275.03 955.288,1275.24 956.298,1275.44 957.309,1275.65 958.319,1275.86 \n",
       "  959.33,1276.07 960.34,1276.27 961.351,1276.48 962.361,1276.68 963.372,1276.89 964.382,1277.09 965.393,1277.3 966.403,1277.5 967.414,1277.7 968.424,1277.9 \n",
       "  969.435,1278.1 970.445,1278.3 971.456,1278.5 972.466,1278.7 973.477,1278.9 974.487,1279.1 975.497,1279.3 976.508,1279.49 977.518,1279.69 978.529,1279.89 \n",
       "  979.539,1280.08 980.55,1280.28 981.56,1280.47 982.571,1280.67 983.581,1280.86 984.592,1281.05 985.602,1281.24 986.613,1281.44 987.623,1281.63 988.634,1281.82 \n",
       "  989.644,1282.01 990.655,1282.2 991.665,1282.39 992.676,1282.57 993.686,1282.76 994.697,1282.95 995.707,1283.14 996.718,1283.32 997.728,1283.51 998.739,1283.69 \n",
       "  999.749,1283.88 1000.76,1284.06 1001.77,1284.24 1002.78,1284.43 1003.79,1284.61 1004.8,1284.79 1005.81,1284.97 1006.82,1285.15 1007.83,1285.34 1008.84,1285.52 \n",
       "  1009.85,1285.7 1010.86,1285.87 1011.87,1286.05 1012.89,1286.23 1013.9,1286.41 1014.91,1286.59 1015.92,1286.76 1016.93,1286.94 1017.94,1287.11 1018.95,1287.29 \n",
       "  1019.96,1287.46 1020.97,1287.64 1021.98,1287.81 1022.99,1287.98 1024,1288.16 1025.01,1288.33 1026.02,1288.5 1027.03,1288.67 1028.04,1288.84 1029.05,1289.01 \n",
       "  1030.06,1289.18 1031.07,1289.35 1032.08,1289.52 1033.1,1289.69 1034.11,1289.86 1035.12,1290.03 1036.13,1290.19 1037.14,1290.36 1038.15,1290.53 1039.16,1290.69 \n",
       "  1040.17,1290.86 1041.18,1291.02 1042.19,1291.19 1043.2,1291.35 1044.21,1291.51 1045.22,1291.68 1046.23,1291.84 1047.24,1292 1048.25,1292.16 1049.26,1292.33 \n",
       "  1050.27,1292.49 1051.28,1292.65 1052.29,1292.81 1053.3,1292.97 1054.32,1293.13 1055.33,1293.28 1056.34,1293.44 1057.35,1293.6 1058.36,1293.76 1059.37,1293.91 \n",
       "  1060.38,1294.07 1061.39,1294.23 1062.4,1294.38 1063.41,1294.54 1064.42,1294.69 1065.43,1294.85 1066.44,1295 1067.45,1295.15 1068.46,1295.31 1069.47,1295.46 \n",
       "  1070.48,1295.61 1071.49,1295.76 1072.5,1295.92 1073.51,1296.07 1074.52,1296.22 1075.54,1296.37 1076.55,1296.52 1077.56,1296.67 1078.57,1296.82 1079.58,1296.96 \n",
       "  1080.59,1297.11 1081.6,1297.26 1082.61,1297.41 1083.62,1297.55 1084.63,1297.7 1085.64,1297.85 1086.65,1297.99 1087.66,1298.14 1088.67,1298.28 1089.68,1298.43 \n",
       "  1090.69,1298.57 1091.7,1298.72 1092.71,1298.86 1093.72,1299 1094.73,1299.15 1095.74,1299.29 1096.76,1299.43 1097.77,1299.57 1098.78,1299.72 1099.79,1299.86 \n",
       "  1100.8,1300 1101.81,1300.14 1102.82,1300.28 1103.83,1300.42 1104.84,1300.56 1105.85,1300.7 1106.86,1300.84 1107.87,1300.98 1108.88,1301.11 1109.89,1301.25 \n",
       "  1110.9,1301.39 1111.91,1301.53 1112.92,1301.67 1113.93,1301.8 1114.94,1301.94 1115.95,1302.08 1116.97,1302.21 1117.98,1302.35 1118.99,1302.48 1120,1302.62 \n",
       "  1121.01,1302.76 1122.02,1302.89 1123.03,1303.02 1124.04,1303.16 1125.05,1303.29 1126.06,1303.43 1127.07,1303.56 1128.08,1303.7 1129.09,1303.83 1130.1,1303.96 \n",
       "  1131.11,1304.1 1132.12,1304.23 1133.13,1304.36 1134.14,1304.5 1135.15,1304.63 1136.16,1304.76 1137.17,1304.9 1138.19,1305.03 1139.2,1305.16 1140.21,1305.29 \n",
       "  1141.22,1305.43 1142.23,1305.56 1143.24,1305.69 1144.25,1305.83 1145.26,1305.96 1146.27,1306.09 1147.28,1306.23 1148.29,1306.36 1149.3,1306.49 1150.31,1306.63 \n",
       "  1151.32,1306.76 1152.33,1306.89 1153.34,1307.03 1154.35,1307.16 1155.36,1307.3 1156.37,1307.43 1157.38,1307.57 1158.39,1307.71 1159.41,1307.85 1160.42,1307.98 \n",
       "  1161.43,1308.12 1162.44,1308.26 1163.45,1308.41 1164.46,1308.55 1165.47,1308.69 1166.48,1308.84 1167.49,1308.99 1168.5,1309.14 1169.51,1309.29 1170.52,1309.45 \n",
       "  1171.53,1309.61 1172.54,1309.78 1173.55,1309.95 1174.56,1310.12 1175.57,1310.31 1176.58,1310.49 1177.59,1310.69 1178.6,1310.9 1179.62,1311.11 1180.63,1311.33 \n",
       "  1181.64,1311.56 1182.65,1311.79 1183.66,1312.03 1184.67,1312.27 1185.68,1312.5 1186.69,1312.74 1187.7,1312.97 1188.71,1313.19 1189.72,1313.4 1190.73,1313.61 \n",
       "  1191.74,1313.81 1192.75,1314 1193.76,1314.18 1194.77,1314.36 1195.78,1314.53 1196.79,1314.7 1197.8,1314.86 1198.81,1315.02 1199.82,1315.17 1200.84,1315.33 \n",
       "  1201.85,1315.47 1202.86,1315.62 1203.87,1315.76 1204.88,1315.9 1205.89,1316.04 1206.9,1316.18 1207.91,1316.32 1208.92,1316.45 1209.93,1316.58 1210.94,1316.71 \n",
       "  1211.95,1316.84 1212.96,1316.97 1213.97,1317.1 1214.98,1317.22 1215.99,1317.35 1217,1317.47 1218.01,1317.59 1219.02,1317.72 1220.03,1317.84 1221.04,1317.96 \n",
       "  1222.06,1318.07 1223.07,1318.19 1224.08,1318.31 1225.09,1318.42 1226.1,1318.54 1227.11,1318.65 1228.12,1318.77 1229.13,1318.88 1230.14,1318.99 1231.15,1319.1 \n",
       "  1232.16,1319.21 1233.17,1319.32 1234.18,1319.43 1235.19,1319.54 1236.2,1319.65 1237.21,1319.75 1238.22,1319.86 1239.23,1319.97 1240.24,1320.07 1241.25,1320.18 \n",
       "  1242.27,1320.28 1243.28,1320.38 1244.29,1320.48 1245.3,1320.59 1246.31,1320.69 1247.32,1320.79 1248.33,1320.89 1249.34,1320.99 1250.35,1321.09 1251.36,1321.19 \n",
       "  1252.37,1321.28 1253.38,1321.38 1254.39,1321.48 1255.4,1321.57 1256.41,1321.67 1257.42,1321.77 1258.43,1321.86 1259.44,1321.96 1260.45,1322.05 1261.46,1322.14 \n",
       "  1262.47,1322.24 1263.49,1322.33 1264.5,1322.42 1265.51,1322.51 1266.52,1322.6 1267.53,1322.7 1268.54,1322.79 1269.55,1322.88 1270.56,1322.96 1271.57,1323.05 \n",
       "  1272.58,1323.14 1273.59,1323.23 1274.6,1323.32 1275.61,1323.41 1276.62,1323.49 1277.63,1323.58 1278.64,1323.67 1279.65,1323.75 1280.66,1323.84 1281.67,1323.92 \n",
       "  1282.68,1324.01 1283.69,1324.09 1284.71,1324.18 1285.72,1324.26 1286.73,1324.34 1287.74,1324.42 1288.75,1324.51 1289.76,1324.59 1290.77,1324.67 1291.78,1324.75 \n",
       "  1292.79,1324.83 1293.8,1324.91 1294.81,1324.99 1295.82,1325.07 1296.83,1325.15 1297.84,1325.23 1298.85,1325.31 1299.86,1325.39 1300.87,1325.47 1301.88,1325.55 \n",
       "  1302.89,1325.62 1303.9,1325.7 1304.92,1325.78 1305.93,1325.85 1306.94,1325.93 1307.95,1326.01 1308.96,1326.08 1309.97,1326.16 1310.98,1326.23 1311.99,1326.31 \n",
       "  1313,1326.38 1314.01,1326.46 1315.02,1326.53 1316.03,1326.6 1317.04,1326.68 1318.05,1326.75 1319.06,1326.82 1320.07,1326.89 1321.08,1326.97 1322.09,1327.04 \n",
       "  1323.1,1327.11 1324.11,1327.18 1325.12,1327.25 1326.14,1327.32 1327.15,1327.39 1328.16,1327.46 1329.17,1327.53 1330.18,1327.6 1331.19,1327.67 1332.2,1327.74 \n",
       "  1333.21,1327.8 1334.22,1327.87 1335.23,1327.94 1336.24,1328.01 1337.25,1328.08 1338.26,1328.14 1339.27,1328.21 1340.28,1328.28 1341.29,1328.34 1342.3,1328.41 \n",
       "  1343.31,1328.47 1344.32,1328.54 1345.33,1328.61 1346.34,1328.67 1347.36,1328.74 1348.37,1328.8 1349.38,1328.86 1350.39,1328.93 1351.4,1328.99 1352.41,1329.06 \n",
       "  1353.42,1329.12 1354.43,1329.18 1355.44,1329.24 1356.45,1329.31 1357.46,1329.37 1358.47,1329.43 1359.48,1329.49 1360.49,1329.56 1361.5,1329.62 1362.51,1329.68 \n",
       "  1363.52,1329.74 1364.53,1329.8 1365.54,1329.86 1366.55,1329.92 1367.57,1329.98 1368.58,1330.04 1369.59,1330.1 1370.6,1330.16 1371.61,1330.22 1372.62,1330.28 \n",
       "  1373.63,1330.34 1374.64,1330.4 1375.65,1330.46 1376.66,1330.52 1377.67,1330.58 1378.68,1330.63 1379.69,1330.69 1380.7,1330.75 1381.71,1330.81 1382.72,1330.87 \n",
       "  1383.73,1330.93 1384.74,1330.98 1385.75,1331.04 1386.76,1331.1 1387.77,1331.16 1388.79,1331.22 1389.8,1331.27 1390.81,1331.33 1391.82,1331.39 1392.83,1331.45 \n",
       "  1393.84,1331.51 1394.85,1331.57 1395.86,1331.62 1396.87,1331.68 1397.88,1331.74 1398.89,1331.8 1399.9,1331.86 1400.91,1331.92 1401.92,1331.99 1402.93,1332.05 \n",
       "  1403.94,1332.11 1404.95,1332.18 1405.96,1332.24 1406.97,1332.31 1407.98,1332.38 1408.99,1332.45 1410.01,1332.53 1411.02,1332.61 1412.03,1332.69 1413.04,1332.77 \n",
       "  1414.05,1332.87 1415.06,1332.97 1416.07,1333.07 1417.08,1333.19 1418.09,1333.31 1419.1,1333.45 1420.11,1333.6 1421.12,1333.76 1422.13,1333.94 1423.14,1334.12 \n",
       "  1424.15,1334.31 1425.16,1334.5 1426.17,1334.68 1427.18,1334.86 1428.19,1335.03 1429.2,1335.19 1430.21,1335.33 1431.23,1335.47 1432.24,1335.6 1433.25,1335.72 \n",
       "  1434.26,1335.83 1435.27,1335.93 1436.28,1336.03 1437.29,1336.13 1438.3,1336.22 1439.31,1336.31 1440.32,1336.39 1441.33,1336.47 1442.34,1336.55 1443.35,1336.63 \n",
       "  1444.36,1336.71 1445.37,1336.78 1446.38,1336.86 1447.39,1336.93 1448.4,1337 1449.41,1337.07 1450.42,1337.14 1451.44,1337.21 1452.45,1337.28 1453.46,1337.34 \n",
       "  1454.47,1337.41 1455.48,1337.48 1456.49,1337.55 1457.5,1337.61 1458.51,1337.68 1459.52,1337.74 1460.53,1337.81 1461.54,1337.88 1462.55,1337.94 1463.56,1338.01 \n",
       "  1464.57,1338.07 1465.58,1338.14 1466.59,1338.21 1467.6,1338.28 1468.61,1338.34 1469.62,1338.41 1470.63,1338.48 1471.64,1338.55 1472.66,1338.62 1473.67,1338.69 \n",
       "  1474.68,1338.76 1475.69,1338.84 1476.7,1338.91 1477.71,1338.99 1478.72,1339.06 1479.73,1339.14 1480.74,1339.22 1481.75,1339.31 1482.76,1339.39 1483.77,1339.48 \n",
       "  1484.78,1339.56 1485.79,1339.65 1486.8,1339.75 1487.81,1339.84 1488.82,1339.94 1489.83,1340.04 1490.84,1340.14 1491.85,1340.25 1492.86,1340.35 1493.88,1340.46 \n",
       "  1494.89,1340.58 1495.9,1340.69 1496.91,1340.81 1497.92,1340.94 1498.93,1341.07 1499.94,1341.2 1500.95,1341.34 1501.96,1341.49 1502.97,1341.66 1503.98,1341.83 \n",
       "  1504.99,1342.01 1506,1342.21 1507.01,1342.43 1508.02,1342.66 1509.03,1342.9 1510.04,1343.14 1511.05,1343.38 1512.06,1343.62 1513.07,1343.84 1514.09,1344.05 \n",
       "  1515.1,1344.24 1516.11,1344.42 1517.12,1344.58 1518.13,1344.73 1519.14,1344.88 1520.15,1345.01 1521.16,1345.14 1522.17,1345.26 1523.18,1345.37 1524.19,1345.48 \n",
       "  1525.2,1345.59 1526.21,1345.69 1527.22,1345.79 1528.23,1345.89 1529.24,1345.98 1530.25,1346.08 1531.26,1346.17 1532.27,1346.25 1533.28,1346.34 1534.29,1346.43 \n",
       "  1535.31,1346.51 1536.32,1346.59 1537.33,1346.67 1538.34,1346.75 1539.35,1346.83 1540.36,1346.91 1541.37,1346.99 1542.38,1347.07 1543.39,1347.15 1544.4,1347.22 \n",
       "  1545.41,1347.3 1546.42,1347.38 1547.43,1347.46 1548.44,1347.53 1549.45,1347.61 1550.46,1347.69 1551.47,1347.77 1552.48,1347.85 1553.49,1347.93 1554.5,1348.02 \n",
       "  1555.51,1348.1 1556.53,1348.19 1557.54,1348.28 1558.55,1348.38 1559.56,1348.48 1560.57,1348.58 1561.58,1348.69 1562.59,1348.81 1563.6,1348.93 1564.61,1349.06 \n",
       "  1565.62,1349.2 1566.63,1349.35 1567.64,1349.5 1568.65,1349.65 1569.66,1349.81 1570.67,1349.96 1571.68,1350.12 1572.69,1350.27 1573.7,1350.41 1574.71,1350.55 \n",
       "  1575.72,1350.67 1576.74,1350.8 1577.75,1350.91 1578.76,1351.02 1579.77,1351.12 1580.78,1351.22 1581.79,1351.32 1582.8,1351.41 1583.81,1351.5 1584.82,1351.59 \n",
       "  1585.83,1351.67 1586.84,1351.76 1587.85,1351.84 1588.86,1351.92 1589.87,1351.99 1590.88,1352.07 1591.89,1352.15 1592.9,1352.22 1593.91,1352.29 1594.92,1352.37 \n",
       "  1595.93,1352.44 1596.94,1352.51 1597.96,1352.58 1598.97,1352.65 1599.98,1352.72 1600.99,1352.79 1602,1352.86 1603.01,1352.93 1604.02,1353 1605.03,1353.08 \n",
       "  1606.04,1353.15 1607.05,1353.22 1608.06,1353.29 1609.07,1353.37 1610.08,1353.44 1611.09,1353.52 1612.1,1353.59 1613.11,1353.67 1614.12,1353.76 1615.13,1353.84 \n",
       "  1616.14,1353.92 1617.15,1354.01 1618.16,1354.11 1619.18,1354.2 1620.19,1354.3 1621.2,1354.41 1622.21,1354.52 1623.22,1354.64 1624.23,1354.76 1625.24,1354.9 \n",
       "  1626.25,1355.04 1627.26,1355.19 1628.27,1355.36 1629.28,1355.53 1630.29,1355.71 1631.3,1355.91 1632.31,1356.11 1633.32,1356.32 1634.33,1356.54 1635.34,1356.75 \n",
       "  1636.35,1356.97 1637.36,1357.19 1638.37,1357.4 1639.39,1357.61 1640.4,1357.81 1641.41,1358.01 1642.42,1358.21 1643.43,1358.4 1644.44,1358.59 1645.45,1358.79 \n",
       "  1646.46,1358.99 1647.47,1359.19 1648.48,1359.4 1649.49,1359.62 1650.5,1359.85 1651.51,1360.09 1652.52,1360.34 1653.53,1360.59 1654.54,1360.85 1655.55,1361.1 \n",
       "  1656.56,1361.35 1657.57,1361.58 1658.58,1361.79 1659.59,1361.99 1660.61,1362.18 1661.62,1362.35 1662.63,1362.51 1663.64,1362.66 1664.65,1362.8 1665.66,1362.94 \n",
       "  1666.67,1363.06 1667.68,1363.18 1668.69,1363.29 1669.7,1363.4 1670.71,1363.51 1671.72,1363.61 1672.73,1363.7 1673.74,1363.79 1674.75,1363.88 1675.76,1363.97 \n",
       "  1676.77,1364.06 1677.78,1364.14 1678.79,1364.22 1679.8,1364.3 1680.81,1364.38 1681.83,1364.45 1682.84,1364.52 1683.85,1364.6 1684.86,1364.67 1685.87,1364.74 \n",
       "  1686.88,1364.81 1687.89,1364.88 1688.9,1364.94 1689.91,1365.01 1690.92,1365.07 1691.93,1365.14 1692.94,1365.2 1693.95,1365.26 1694.96,1365.32 1695.97,1365.38 \n",
       "  1696.98,1365.44 1697.99,1365.5 1699,1365.56 1700.01,1365.62 1701.02,1365.68 1702.03,1365.74 1703.05,1365.79 1704.06,1365.85 1705.07,1365.9 1706.08,1365.96 \n",
       "  1707.09,1366.01 1708.1,1366.07 1709.11,1366.12 1710.12,1366.17 1711.13,1366.22 1712.14,1366.28 1713.15,1366.33 1714.16,1366.38 1715.17,1366.43 1716.18,1366.48 \n",
       "  1717.19,1366.53 1718.2,1366.58 1719.21,1366.63 1720.22,1366.68 1721.23,1366.72 1722.24,1366.77 1723.26,1366.82 1724.27,1366.87 1725.28,1366.91 1726.29,1366.96 \n",
       "  1727.3,1367.01 1728.31,1367.05 1729.32,1367.1 1730.33,1367.14 1731.34,1367.19 1732.35,1367.23 1733.36,1367.28 1734.37,1367.32 1735.38,1367.37 1736.39,1367.41 \n",
       "  1737.4,1367.45 1738.41,1367.5 1739.42,1367.54 1740.43,1367.58 1741.44,1367.63 1742.45,1367.67 1743.46,1367.71 1744.48,1367.75 1745.49,1367.8 1746.5,1367.84 \n",
       "  1747.51,1367.88 1748.52,1367.92 1749.53,1367.96 1750.54,1368 1751.55,1368.04 1752.56,1368.08 1753.57,1368.13 1754.58,1368.17 1755.59,1368.21 1756.6,1368.25 \n",
       "  1757.61,1368.29 1758.62,1368.33 1759.63,1368.37 1760.64,1368.41 1761.65,1368.44 1762.66,1368.48 1763.67,1368.52 1764.68,1368.56 1765.7,1368.6 1766.71,1368.64 \n",
       "  1767.72,1368.68 1768.73,1368.72 1769.74,1368.76 1770.75,1368.79 1771.76,1368.83 1772.77,1368.87 1773.78,1368.91 1774.79,1368.95 1775.8,1368.99 1776.81,1369.03 \n",
       "  1777.82,1369.06 1778.83,1369.1 1779.84,1369.14 1780.85,1369.18 1781.86,1369.21 1782.87,1369.25 1783.88,1369.29 1784.89,1369.33 1785.91,1369.37 1786.92,1369.4 \n",
       "  1787.93,1369.44 1788.94,1369.48 1789.95,1369.52 1790.96,1369.56 1791.97,1369.59 1792.98,1369.63 1793.99,1369.67 1795,1369.71 1796.01,1369.75 1797.02,1369.79 \n",
       "  1798.03,1369.83 1799.04,1369.87 1800.05,1369.91 1801.06,1369.94 1802.07,1369.98 1803.08,1370.02 1804.09,1370.06 1805.1,1370.1 1806.11,1370.14 1807.13,1370.19 \n",
       "  1808.14,1370.23 1809.15,1370.27 1810.16,1370.31 1811.17,1370.35 1812.18,1370.39 1813.19,1370.44 1814.2,1370.48 1815.21,1370.52 1816.22,1370.56 1817.23,1370.61 \n",
       "  1818.24,1370.65 1819.25,1370.69 1820.26,1370.74 1821.27,1370.78 1822.28,1370.83 1823.29,1370.87 1824.3,1370.92 1825.31,1370.96 1826.32,1371 1827.33,1371.05 \n",
       "  1828.35,1371.09 1829.36,1371.14 1830.37,1371.18 1831.38,1371.23 1832.39,1371.27 1833.4,1371.32 1834.41,1371.36 1835.42,1371.4 1836.43,1371.45 1837.44,1371.49 \n",
       "  1838.45,1371.53 1839.46,1371.58 1840.47,1371.62 1841.48,1371.66 1842.49,1371.7 1843.5,1371.75 1844.51,1371.79 1845.52,1371.83 1846.53,1371.87 1847.54,1371.91 \n",
       "  1848.56,1371.95 1849.57,1371.99 1850.58,1372.03 1851.59,1372.06 1852.6,1372.1 1853.61,1372.14 1854.62,1372.18 1855.63,1372.21 1856.64,1372.25 1857.65,1372.29 \n",
       "  1858.66,1372.32 1859.67,1372.36 1860.68,1372.4 1861.69,1372.43 1862.7,1372.47 1863.71,1372.5 1864.72,1372.53 1865.73,1372.57 1866.74,1372.6 1867.75,1372.64 \n",
       "  1868.76,1372.67 1869.78,1372.7 1870.79,1372.73 1871.8,1372.77 1872.81,1372.8 1873.82,1372.83 1874.83,1372.86 1875.84,1372.9 1876.85,1372.93 1877.86,1372.96 \n",
       "  1878.87,1372.99 1879.88,1373.02 1880.89,1373.05 1881.9,1373.08 1882.91,1373.11 1883.92,1373.14 1884.93,1373.17 1885.94,1373.2 1886.95,1373.23 1887.96,1373.26 \n",
       "  1888.97,1373.29 1889.98,1373.32 1891,1373.35 1892.01,1373.38 1893.02,1373.41 1894.03,1373.44 1895.04,1373.46 1896.05,1373.49 1897.06,1373.52 1898.07,1373.55 \n",
       "  1899.08,1373.58 1900.09,1373.61 1901.1,1373.63 1902.11,1373.66 1903.12,1373.69 1904.13,1373.72 1905.14,1373.74 1906.15,1373.77 1907.16,1373.8 1908.17,1373.83 \n",
       "  1909.18,1373.85 1910.19,1373.88 1911.21,1373.91 1912.22,1373.93 1913.23,1373.96 1914.24,1373.99 1915.25,1374.01 1916.26,1374.04 1917.27,1374.06 1918.28,1374.09 \n",
       "  1919.29,1374.12 1920.3,1374.14 1921.31,1374.17 1922.32,1374.19 1923.33,1374.22 1924.34,1374.24 1925.35,1374.27 1926.36,1374.29 1927.37,1374.32 1928.38,1374.35 \n",
       "  1929.39,1374.37 1930.4,1374.4 1931.41,1374.42 1932.43,1374.45 1933.44,1374.47 1934.45,1374.49 1935.46,1374.52 1936.47,1374.54 1937.48,1374.57 1938.49,1374.59 \n",
       "  1939.5,1374.62 1940.51,1374.64 1941.52,1374.66 1942.53,1374.69 1943.54,1374.71 1944.55,1374.74 1945.56,1374.76 1946.57,1374.78 1947.58,1374.81 1948.59,1374.83 \n",
       "  1949.6,1374.86 1950.61,1374.88 1951.62,1374.9 1952.63,1374.93 1953.65,1374.95 1954.66,1374.97 1955.67,1374.99 1956.68,1375.02 1957.69,1375.04 1958.7,1375.06 \n",
       "  1959.71,1375.09 1960.72,1375.11 1961.73,1375.13 1962.74,1375.15 1963.75,1375.18 1964.76,1375.2 1965.77,1375.22 1966.78,1375.24 1967.79,1375.27 1968.8,1375.29 \n",
       "  1969.81,1375.31 1970.82,1375.33 1971.83,1375.36 1972.84,1375.38 1973.85,1375.4 1974.87,1375.42 1975.88,1375.44 1976.89,1375.47 1977.9,1375.49 1978.91,1375.51 \n",
       "  1979.92,1375.53 1980.93,1375.55 1981.94,1375.57 1982.95,1375.59 1983.96,1375.62 1984.97,1375.64 1985.98,1375.66 1986.99,1375.68 1988,1375.7 1989.01,1375.72 \n",
       "  1990.02,1375.74 1991.03,1375.76 1992.04,1375.79 1993.05,1375.81 1994.06,1375.83 1995.08,1375.85 1996.09,1375.87 1997.1,1375.89 1998.11,1375.91 1999.12,1375.93 \n",
       "  2000.13,1375.95 2001.14,1375.97 2002.15,1375.99 2003.16,1376.01 2004.17,1376.03 2005.18,1376.05 2006.19,1376.08 2007.2,1376.1 2008.21,1376.12 2009.22,1376.14 \n",
       "  2010.23,1376.16 2011.24,1376.18 2012.25,1376.2 2013.26,1376.22 2014.27,1376.24 2015.28,1376.26 2016.3,1376.28 2017.31,1376.3 2018.32,1376.32 2019.33,1376.34 \n",
       "  2020.34,1376.36 2021.35,1376.38 2022.36,1376.4 2023.37,1376.42 2024.38,1376.44 2025.39,1376.46 2026.4,1376.48 2027.41,1376.5 2028.42,1376.52 2029.43,1376.54 \n",
       "  2030.44,1376.56 2031.45,1376.58 2032.46,1376.6 2033.47,1376.62 2034.48,1376.65 2035.49,1376.67 2036.5,1376.69 2037.52,1376.71 2038.53,1376.73 2039.54,1376.75 \n",
       "  2040.55,1376.78 2041.56,1376.8 2042.57,1376.82 2043.58,1376.85 2044.59,1376.87 2045.6,1376.9 2046.61,1376.93 2047.62,1376.96 2048.63,1376.99 2049.64,1377.02 \n",
       "  2050.65,1377.06 2051.66,1377.1 2052.67,1377.14 2053.68,1377.19 2054.69,1377.25 2055.7,1377.32 2056.71,1377.4 2057.73,1377.5 2058.74,1377.61 2059.75,1377.76 \n",
       "  2060.76,1377.94 2061.77,1378.15 2062.78,1378.39 2063.79,1378.66 2064.8,1378.93 2065.81,1379.19 2066.82,1379.43 2067.83,1379.64 2068.84,1379.82 2069.85,1379.97 \n",
       "  2070.86,1380.1 2071.87,1380.22 2072.88,1380.32 2073.89,1380.41 2074.9,1380.49 2075.91,1380.56 2076.92,1380.63 2077.93,1380.69 2078.95,1380.74 2079.96,1380.8 \n",
       "  2080.97,1380.85 2081.98,1380.89 2082.99,1380.94 2084,1380.98 2085.01,1381.02 2086.02,1381.06 2087.03,1381.09 2088.04,1381.13 2089.05,1381.16 2090.06,1381.2 \n",
       "  2091.07,1381.23 2092.08,1381.26 2093.09,1381.29 2094.1,1381.32 2095.11,1381.35 2096.12,1381.38 2097.13,1381.41 2098.14,1381.44 2099.15,1381.46 2100.17,1381.49 \n",
       "  2101.18,1381.51 2102.19,1381.54 2103.2,1381.56 2104.21,1381.59 2105.22,1381.61 2106.23,1381.64 2107.24,1381.66 2108.25,1381.68 2109.26,1381.71 2110.27,1381.73 \n",
       "  2111.28,1381.75 2112.29,1381.77 2113.3,1381.8 2114.31,1381.82 2115.32,1381.84 2116.33,1381.86 2117.34,1381.88 2118.35,1381.9 2119.36,1381.92 2120.38,1381.94 \n",
       "  2121.39,1381.96 2122.4,1381.98 2123.41,1382 2124.42,1382.02 2125.43,1382.04 2126.44,1382.06 2127.45,1382.08 2128.46,1382.1 2129.47,1382.12 2130.48,1382.14 \n",
       "  2131.49,1382.16 2132.5,1382.18 2133.51,1382.19 2134.52,1382.21 2135.53,1382.23 2136.54,1382.25 2137.55,1382.27 2138.56,1382.28 2139.57,1382.3 2140.58,1382.32 \n",
       "  2141.6,1382.34 2142.61,1382.35 2143.62,1382.37 2144.63,1382.39 2145.64,1382.41 2146.65,1382.42 2147.66,1382.44 2148.67,1382.46 2149.68,1382.47 2150.69,1382.49 \n",
       "  2151.7,1382.51 2152.71,1382.52 2153.72,1382.54 2154.73,1382.56 2155.74,1382.57 2156.75,1382.59 2157.76,1382.6 2158.77,1382.62 2159.78,1382.64 2160.79,1382.65 \n",
       "  2161.8,1382.67 2162.82,1382.68 2163.83,1382.7 2164.84,1382.71 2165.85,1382.73 2166.86,1382.75 2167.87,1382.76 2168.88,1382.78 2169.89,1382.79 2170.9,1382.81 \n",
       "  2171.91,1382.82 2172.92,1382.84 2173.93,1382.85 2174.94,1382.87 2175.95,1382.88 2176.96,1382.9 2177.97,1382.91 2178.98,1382.92 2179.99,1382.94 2181,1382.95 \n",
       "  2182.01,1382.97 2183.03,1382.98 2184.04,1383 2185.05,1383.01 2186.06,1383.03 2187.07,1383.04 2188.08,1383.05 2189.09,1383.07 2190.1,1383.08 2191.11,1383.09 \n",
       "  2192.12,1383.11 2193.13,1383.12 2194.14,1383.14 2195.15,1383.15 2196.16,1383.16 2197.17,1383.18 2198.18,1383.19 2199.19,1383.2 2200.2,1383.22 2201.21,1383.23 \n",
       "  2202.22,1383.24 2203.23,1383.26 2204.25,1383.27 2205.26,1383.28 2206.27,1383.3 2207.28,1383.31 2208.29,1383.32 2209.3,1383.33 2210.31,1383.35 2211.32,1383.36 \n",
       "  2212.33,1383.37 2213.34,1383.39 2214.35,1383.4 2215.36,1383.41 2216.37,1383.42 2217.38,1383.44 2218.39,1383.45 2219.4,1383.46 2220.41,1383.47 2221.42,1383.48 \n",
       "  2222.43,1383.5 2223.44,1383.51 2224.45,1383.52 2225.47,1383.53 2226.48,1383.55 2227.49,1383.56 2228.5,1383.57 2229.51,1383.58 2230.52,1383.59 2231.53,1383.61 \n",
       "  2232.54,1383.62 2233.55,1383.63 2234.56,1383.64 2235.57,1383.65 2236.58,1383.66 2237.59,1383.68 2238.6,1383.69 2239.61,1383.7 2240.62,1383.71 2241.63,1383.72 \n",
       "  2242.64,1383.73 2243.65,1383.74 2244.66,1383.75 2245.67,1383.77 2246.69,1383.78 2247.7,1383.79 2248.71,1383.8 2249.72,1383.81 2250.73,1383.82 2251.74,1383.83 \n",
       "  2252.75,1383.84 2253.76,1383.85 2254.77,1383.86 2255.78,1383.88 2256.79,1383.89 2257.8,1383.9 2258.81,1383.91 2259.82,1383.92 2260.83,1383.93 2261.84,1383.94 \n",
       "  2262.85,1383.95 2263.86,1383.96 2264.87,1383.97 2265.88,1383.98 2266.9,1383.99 2267.91,1384 2268.92,1384.01 2269.93,1384.02 2270.94,1384.03 2271.95,1384.04 \n",
       "  2272.96,1384.05 2273.97,1384.06 2274.98,1384.07 2275.99,1384.08 2277,1384.09 2278.01,1384.1 2279.02,1384.11 2280.03,1384.12 2281.04,1384.13 2282.05,1384.14 \n",
       "  2283.06,1384.15 2284.07,1384.16 2285.08,1384.17 2286.09,1384.18 2287.1,1384.19 2288.12,1384.2 2289.13,1384.21 2290.14,1384.22 2291.15,1384.23 2292.16,1384.24 \n",
       "  \n",
       "  \"/>\n",
       "<path clip-path=\"url(#clip680)\" d=\"\n",
       "M1844.15 274.549 L2281.38 274.549 L2281.38 93.1086 L1844.15 93.1086  Z\n",
       "  \" fill=\"#ffffff\" fill-rule=\"evenodd\" fill-opacity=\"1\"/>\n",
       "<polyline clip-path=\"url(#clip680)\" style=\"stroke:#000000; stroke-width:4; stroke-opacity:1; fill:none\" points=\"\n",
       "  1844.15,274.549 2281.38,274.549 2281.38,93.1086 1844.15,93.1086 1844.15,274.549 \n",
       "  \"/>\n",
       "<polyline clip-path=\"url(#clip680)\" style=\"stroke:#009af9; stroke-width:4; stroke-opacity:1; fill:none\" points=\"\n",
       "  1867.94,153.589 2010.68,153.589 \n",
       "  \"/>\n",
       "<path clip-path=\"url(#clip680)\" d=\"M 0 0 M2047.67 170.869 L2034.48 136.309 L2039.36 136.309 L2050.31 165.406 L2061.28 136.309 L2066.14 136.309 L2052.97 170.869 L2047.67 170.869 Z\" fill=\"#000000\" fill-rule=\"evenodd\" fill-opacity=\"1\" /><path clip-path=\"url(#clip680)\" d=\"M 0 0 M2078.71 157.836 Q2073.55 157.836 2071.56 159.017 Q2069.57 160.197 2069.57 163.045 Q2069.57 165.313 2071.05 166.656 Q2072.55 167.975 2075.12 167.975 Q2078.66 167.975 2080.79 165.475 Q2082.95 162.952 2082.95 158.785 L2082.95 157.836 L2078.71 157.836 M2087.21 156.077 L2087.21 170.869 L2082.95 170.869 L2082.95 166.933 Q2081.49 169.295 2079.31 170.429 Q2077.14 171.54 2073.99 171.54 Q2070.01 171.54 2067.65 169.318 Q2065.31 167.072 2065.31 163.322 Q2065.31 158.947 2068.23 156.725 Q2071.16 154.503 2076.98 154.503 L2082.95 154.503 L2082.95 154.086 Q2082.95 151.147 2081 149.549 Q2079.08 147.929 2075.59 147.929 Q2073.36 147.929 2071.26 148.461 Q2069.15 148.994 2067.21 150.059 L2067.21 146.123 Q2069.54 145.221 2071.74 144.781 Q2073.94 144.318 2076.03 144.318 Q2081.65 144.318 2084.43 147.234 Q2087.21 150.151 2087.21 156.077 Z\" fill=\"#000000\" fill-rule=\"evenodd\" fill-opacity=\"1\" /><path clip-path=\"url(#clip680)\" d=\"M 0 0 M2091.67 134.85 L2095.93 134.85 L2095.93 170.869 L2091.67 170.869 L2091.67 134.85 Z\" fill=\"#000000\" fill-rule=\"evenodd\" fill-opacity=\"1\" /><path clip-path=\"url(#clip680)\" d=\"M 0 0 M2100.4 144.943 L2104.66 144.943 L2104.66 170.869 L2100.4 170.869 L2100.4 144.943 M2100.4 134.85 L2104.66 134.85 L2104.66 140.244 L2100.4 140.244 L2100.4 134.85 Z\" fill=\"#000000\" fill-rule=\"evenodd\" fill-opacity=\"1\" /><path clip-path=\"url(#clip680)\" d=\"M 0 0 M2126.19 148.878 L2126.19 134.85 L2130.45 134.85 L2130.45 170.869 L2126.19 170.869 L2126.19 166.98 Q2124.85 169.295 2122.79 170.429 Q2120.75 171.54 2117.88 171.54 Q2113.18 171.54 2110.22 167.79 Q2107.28 164.04 2107.28 157.929 Q2107.28 151.818 2110.22 148.068 Q2113.18 144.318 2117.88 144.318 Q2120.75 144.318 2122.79 145.452 Q2124.85 146.563 2126.19 148.878 M2111.67 157.929 Q2111.67 162.628 2113.6 165.313 Q2115.54 167.975 2118.92 167.975 Q2122.3 167.975 2124.24 165.313 Q2126.19 162.628 2126.19 157.929 Q2126.19 153.23 2124.24 150.568 Q2122.3 147.883 2118.92 147.883 Q2115.54 147.883 2113.6 150.568 Q2111.67 153.23 2111.67 157.929 Z\" fill=\"#000000\" fill-rule=\"evenodd\" fill-opacity=\"1\" /><path clip-path=\"url(#clip680)\" d=\"M 0 0 M2146.7 157.836 Q2141.53 157.836 2139.54 159.017 Q2137.55 160.197 2137.55 163.045 Q2137.55 165.313 2139.03 166.656 Q2140.54 167.975 2143.11 167.975 Q2146.65 167.975 2148.78 165.475 Q2150.93 162.952 2150.93 158.785 L2150.93 157.836 L2146.7 157.836 M2155.19 156.077 L2155.19 170.869 L2150.93 170.869 L2150.93 166.933 Q2149.47 169.295 2147.3 170.429 Q2145.12 171.54 2141.97 171.54 Q2137.99 171.54 2135.63 169.318 Q2133.29 167.072 2133.29 163.322 Q2133.29 158.947 2136.21 156.725 Q2139.15 154.503 2144.96 154.503 L2150.93 154.503 L2150.93 154.086 Q2150.93 151.147 2148.99 149.549 Q2147.07 147.929 2143.57 147.929 Q2141.35 147.929 2139.24 148.461 Q2137.14 148.994 2135.19 150.059 L2135.19 146.123 Q2137.53 145.221 2139.73 144.781 Q2141.93 144.318 2144.01 144.318 Q2149.64 144.318 2152.41 147.234 Q2155.19 150.151 2155.19 156.077 Z\" fill=\"#000000\" fill-rule=\"evenodd\" fill-opacity=\"1\" /><path clip-path=\"url(#clip680)\" d=\"M 0 0 M2163.87 137.582 L2163.87 144.943 L2172.65 144.943 L2172.65 148.253 L2163.87 148.253 L2163.87 162.327 Q2163.87 165.498 2164.73 166.401 Q2165.61 167.304 2168.27 167.304 L2172.65 167.304 L2172.65 170.869 L2168.27 170.869 Q2163.34 170.869 2161.47 169.04 Q2159.59 167.188 2159.59 162.327 L2159.59 148.253 L2156.47 148.253 L2156.47 144.943 L2159.59 144.943 L2159.59 137.582 L2163.87 137.582 Z\" fill=\"#000000\" fill-rule=\"evenodd\" fill-opacity=\"1\" /><path clip-path=\"url(#clip680)\" d=\"M 0 0 M2177.11 144.943 L2181.37 144.943 L2181.37 170.869 L2177.11 170.869 L2177.11 144.943 M2177.11 134.85 L2181.37 134.85 L2181.37 140.244 L2177.11 140.244 L2177.11 134.85 Z\" fill=\"#000000\" fill-rule=\"evenodd\" fill-opacity=\"1\" /><path clip-path=\"url(#clip680)\" d=\"M 0 0 M2195.89 147.929 Q2192.46 147.929 2190.47 150.614 Q2188.48 153.276 2188.48 157.929 Q2188.48 162.582 2190.45 165.267 Q2192.44 167.929 2195.89 167.929 Q2199.29 167.929 2201.28 165.244 Q2203.27 162.558 2203.27 157.929 Q2203.27 153.322 2201.28 150.637 Q2199.29 147.929 2195.89 147.929 M2195.89 144.318 Q2201.44 144.318 2204.61 147.929 Q2207.78 151.54 2207.78 157.929 Q2207.78 164.295 2204.61 167.929 Q2201.44 171.54 2195.89 171.54 Q2190.31 171.54 2187.14 167.929 Q2183.99 164.295 2183.99 157.929 Q2183.99 151.54 2187.14 147.929 Q2190.31 144.318 2195.89 144.318 Z\" fill=\"#000000\" fill-rule=\"evenodd\" fill-opacity=\"1\" /><path clip-path=\"url(#clip680)\" d=\"M 0 0 M2233.8 155.221 L2233.8 170.869 L2229.54 170.869 L2229.54 155.359 Q2229.54 151.679 2228.11 149.85 Q2226.67 148.022 2223.8 148.022 Q2220.35 148.022 2218.36 150.221 Q2216.37 152.42 2216.37 156.216 L2216.37 170.869 L2212.09 170.869 L2212.09 144.943 L2216.37 144.943 L2216.37 148.971 Q2217.9 146.633 2219.96 145.475 Q2222.04 144.318 2224.75 144.318 Q2229.22 144.318 2231.51 147.096 Q2233.8 149.85 2233.8 155.221 Z\" fill=\"#000000\" fill-rule=\"evenodd\" fill-opacity=\"1\" /><polyline clip-path=\"url(#clip680)\" style=\"stroke:#e26f46; stroke-width:4; stroke-opacity:1; fill:none\" points=\"\n",
       "  1867.94,214.069 2010.68,214.069 \n",
       "  \"/>\n",
       "<path clip-path=\"url(#clip680)\" d=\"M 0 0 M2034.48 196.789 L2063.71 196.789 L2063.71 200.724 L2051.44 200.724 L2051.44 231.349 L2046.74 231.349 L2046.74 200.724 L2034.48 200.724 L2034.48 196.789 Z\" fill=\"#000000\" fill-rule=\"evenodd\" fill-opacity=\"1\" /><path clip-path=\"url(#clip680)\" d=\"M 0 0 M2076.23 209.404 Q2075.52 208.988 2074.66 208.802 Q2073.83 208.594 2072.81 208.594 Q2069.2 208.594 2067.25 210.955 Q2065.33 213.293 2065.33 217.691 L2065.33 231.349 L2061.05 231.349 L2061.05 205.423 L2065.33 205.423 L2065.33 209.451 Q2066.67 207.089 2068.83 205.955 Q2070.98 204.798 2074.06 204.798 Q2074.5 204.798 2075.03 204.867 Q2075.56 204.914 2076.21 205.029 L2076.23 209.404 Z\" fill=\"#000000\" fill-rule=\"evenodd\" fill-opacity=\"1\" /><path clip-path=\"url(#clip680)\" d=\"M 0 0 M2092.48 218.316 Q2087.32 218.316 2085.33 219.497 Q2083.34 220.677 2083.34 223.525 Q2083.34 225.793 2084.82 227.136 Q2086.33 228.455 2088.9 228.455 Q2092.44 228.455 2094.57 225.955 Q2096.72 223.432 2096.72 219.265 L2096.72 218.316 L2092.48 218.316 M2100.98 216.557 L2100.98 231.349 L2096.72 231.349 L2096.72 227.413 Q2095.26 229.775 2093.09 230.909 Q2090.91 232.02 2087.76 232.02 Q2083.78 232.02 2081.42 229.798 Q2079.08 227.552 2079.08 223.802 Q2079.08 219.427 2082 217.205 Q2084.94 214.983 2090.75 214.983 L2096.72 214.983 L2096.72 214.566 Q2096.72 211.627 2094.78 210.029 Q2092.85 208.409 2089.36 208.409 Q2087.14 208.409 2085.03 208.941 Q2082.92 209.474 2080.98 210.539 L2080.98 206.603 Q2083.32 205.701 2085.52 205.261 Q2087.72 204.798 2089.8 204.798 Q2095.42 204.798 2098.2 207.714 Q2100.98 210.631 2100.98 216.557 Z\" fill=\"#000000\" fill-rule=\"evenodd\" fill-opacity=\"1\" /><path clip-path=\"url(#clip680)\" d=\"M 0 0 M2105.45 205.423 L2109.71 205.423 L2109.71 231.349 L2105.45 231.349 L2105.45 205.423 M2105.45 195.33 L2109.71 195.33 L2109.71 200.724 L2105.45 200.724 L2105.45 195.33 Z\" fill=\"#000000\" fill-rule=\"evenodd\" fill-opacity=\"1\" /><path clip-path=\"url(#clip680)\" d=\"M 0 0 M2135.72 215.701 L2135.72 231.349 L2131.47 231.349 L2131.47 215.839 Q2131.47 212.159 2130.03 210.33 Q2128.6 208.502 2125.72 208.502 Q2122.28 208.502 2120.29 210.701 Q2118.29 212.9 2118.29 216.696 L2118.29 231.349 L2114.01 231.349 L2114.01 205.423 L2118.29 205.423 L2118.29 209.451 Q2119.82 207.113 2121.88 205.955 Q2123.97 204.798 2126.67 204.798 Q2131.14 204.798 2133.43 207.576 Q2135.72 210.33 2135.72 215.701 Z\" fill=\"#000000\" fill-rule=\"evenodd\" fill-opacity=\"1\" /><path clip-path=\"url(#clip680)\" d=\"M 0 0 M2140.19 205.423 L2144.45 205.423 L2144.45 231.349 L2140.19 231.349 L2140.19 205.423 M2140.19 195.33 L2144.45 195.33 L2144.45 200.724 L2140.19 200.724 L2140.19 195.33 Z\" fill=\"#000000\" fill-rule=\"evenodd\" fill-opacity=\"1\" /><path clip-path=\"url(#clip680)\" d=\"M 0 0 M2170.47 215.701 L2170.47 231.349 L2166.21 231.349 L2166.21 215.839 Q2166.21 212.159 2164.78 210.33 Q2163.34 208.502 2160.47 208.502 Q2157.02 208.502 2155.03 210.701 Q2153.04 212.9 2153.04 216.696 L2153.04 231.349 L2148.76 231.349 L2148.76 205.423 L2153.04 205.423 L2153.04 209.451 Q2154.57 207.113 2156.63 205.955 Q2158.71 204.798 2161.42 204.798 Q2165.89 204.798 2168.18 207.576 Q2170.47 210.33 2170.47 215.701 Z\" fill=\"#000000\" fill-rule=\"evenodd\" fill-opacity=\"1\" /><path clip-path=\"url(#clip680)\" d=\"M 0 0 M2192 218.085 Q2192 213.455 2190.08 210.909 Q2188.18 208.363 2184.73 208.363 Q2181.3 208.363 2179.38 210.909 Q2177.48 213.455 2177.48 218.085 Q2177.48 222.691 2179.38 225.238 Q2181.3 227.784 2184.73 227.784 Q2188.18 227.784 2190.08 225.238 Q2192 222.691 2192 218.085 M2196.26 228.131 Q2196.26 234.751 2193.32 237.969 Q2190.38 241.21 2184.31 241.21 Q2182.07 241.21 2180.08 240.862 Q2178.09 240.538 2176.21 239.844 L2176.21 235.7 Q2178.09 236.719 2179.91 237.205 Q2181.74 237.691 2183.64 237.691 Q2187.83 237.691 2189.91 235.492 Q2192 233.316 2192 228.895 L2192 226.788 Q2190.68 229.08 2188.62 230.214 Q2186.56 231.349 2183.69 231.349 Q2178.92 231.349 2176 227.714 Q2173.09 224.08 2173.09 218.085 Q2173.09 212.066 2176 208.432 Q2178.92 204.798 2183.69 204.798 Q2186.56 204.798 2188.62 205.932 Q2190.68 207.066 2192 209.358 L2192 205.423 L2196.26 205.423 L2196.26 228.131 Z\" fill=\"#000000\" fill-rule=\"evenodd\" fill-opacity=\"1\" /></svg>\n"
      ]
     },
     "execution_count": 39,
     "metadata": {},
     "output_type": "execute_result"
    }
   ],
   "source": [
    "plot(curve.parameter_values,\n",
    "     curve.measurements,\n",
    "     xlab=curve.parameter_name,\n",
    "     ylab=\"Cross Entropy\",\n",
    "     label=\"Validation\", lw=2)\n",
    "plot!(Net.report.training_losses, label=\"Training\", lw=2)"
   ]
  },
  {
   "cell_type": "code",
   "execution_count": 40,
   "metadata": {},
   "outputs": [
    {
     "data": {
      "text/plain": [
       "(0.00033, 0.45374, 539)"
      ]
     },
     "execution_count": 40,
     "metadata": {},
     "output_type": "execute_result"
    }
   ],
   "source": [
    "a = round(nn.optimiser.eta, digits=5)\n",
    "b = round(minimum(curve.measurements), digits=5)\n",
    "best_epochs = curve.parameter_values[argmin(curve.measurements)]\n",
    "a,b, best_epochs"
   ]
  },
  {
   "cell_type": "code",
   "execution_count": 42,
   "metadata": {},
   "outputs": [],
   "source": [
    "fn = \"Figures/LearningCurve_NN_hidden:$(layer1)_epochs:$(nn.epochs)_lr:$(a)_loss:$(b)_labmda:$(nn.lambda)\"\n",
    "png(replace(fn,'.' => ','))"
   ]
  },
  {
   "cell_type": "markdown",
   "metadata": {},
   "source": [
    "### GridSearch for Hidden Layer Size 1"
   ]
  },
  {
   "cell_type": "code",
   "execution_count": 43,
   "metadata": {},
   "outputs": [
    {
     "name": "stderr",
     "output_type": "stream",
     "text": [
      "┌ Warning: The scitype of `X`, in `machine(model, X, ...)` is incompatible with `model=\u001b[34mNeuralNetworkClassifier{CustomNN,…} @209\u001b[39m`:\n",
      "│ scitype(X) = Table{Union{AbstractArray{Continuous,1}, AbstractArray{Count,1}}}\n",
      "│ input_scitype(model) = Table{var\"#s44\"} where var\"#s44\"<:(AbstractArray{var\"#s13\",1} where var\"#s13\"<:Continuous).\n",
      "└ @ MLJBase /home/andrew/.julia/packages/MLJBase/uKzAz/src/machines.jl:77\n"
     ]
    },
    {
     "data": {
      "text/plain": [
       "\u001b[34mMachine{NeuralNetworkClassifier{CustomNN,…}} @522\u001b[39m trained 0 times.\n",
       "  args: \n",
       "    1:\t\u001b[34mSource @985\u001b[39m ⏎ `Table{Union{AbstractArray{Continuous,1}, AbstractArray{Count,1}}}`\n",
       "    2:\t\u001b[34mSource @588\u001b[39m ⏎ `AbstractArray{Multiclass{2},1}`\n"
      ]
     },
     "execution_count": 43,
     "metadata": {},
     "output_type": "execute_result"
    }
   ],
   "source": [
    "Net = machine(nn, X_stand, y)"
   ]
  },
  {
   "cell_type": "code",
   "execution_count": 44,
   "metadata": {},
   "outputs": [
    {
     "data": {
      "text/plain": [
       "MLJBase.NumericRange(Int64, :(builder.n1), ... )"
      ]
     },
     "execution_count": 44,
     "metadata": {},
     "output_type": "execute_result"
    }
   ],
   "source": [
    "param1 = :epochs\n",
    "param2 = :(builder.n1)\n",
    "# param2 = :(builder.n2)\n",
    "\n",
    "r1 = range(nn, param1, lower=10, upper=4000, scale=:log10)\n",
    "# r1 = range(nn, param1, lower=1, upper=100, scale=:linear)\n",
    "r2 = range(nn, param2, lower=10, upper=100, scale=:linear)"
   ]
  },
  {
   "cell_type": "code",
   "execution_count": 45,
   "metadata": {
    "scrolled": true
   },
   "outputs": [
    {
     "data": {
      "text/plain": [
       "ProbabilisticTunedModel(\n",
       "    model = NeuralNetworkClassifier(\n",
       "            builder = \u001b[34mCustomNN @981\u001b[39m,\n",
       "            finaliser = NNlib.softmax,\n",
       "            optimiser = ADAM(0.0003333333333333333, (0.9, 0.999), IdDict{Any,Any}()),\n",
       "            loss = Flux.crossentropy,\n",
       "            epochs = 2000,\n",
       "            batch_size = 16,\n",
       "            lambda = 0.01,\n",
       "            alpha = 0.0,\n",
       "            optimiser_changes_trigger_retraining = false),\n",
       "    tuning = Grid(\n",
       "            goal = 64,\n",
       "            resolution = 10,\n",
       "            shuffle = true,\n",
       "            rng = Random._GLOBAL_RNG()),\n",
       "    resampling = Holdout(\n",
       "            fraction_train = 0.7,\n",
       "            shuffle = false,\n",
       "            rng = Random._GLOBAL_RNG()),\n",
       "    measure = cross_entropy(\n",
       "            eps = 2.220446049250313e-16),\n",
       "    weights = nothing,\n",
       "    operation = MLJModelInterface.predict,\n",
       "    range = MLJBase.NumericRange{Int64,MLJBase.Bounded,Symbol}[\u001b[34mNumericRange{Int64,…} @681\u001b[39m, \u001b[34mNumericRange{Int64,…} @791\u001b[39m],\n",
       "    train_best = true,\n",
       "    repeats = 1,\n",
       "    n = nothing,\n",
       "    acceleration = CPUThreads{Int64}(1),\n",
       "    acceleration_resampling = CPU1{Nothing}(nothing),\n",
       "    check_measure = true)\u001b[34m @397\u001b[39m"
      ]
     },
     "execution_count": 45,
     "metadata": {},
     "output_type": "execute_result"
    }
   ],
   "source": [
    "self_tuning_nn_model = TunedModel(model=nn,\n",
    "                                    tuning=Grid(goal=64),\n",
    "                                    resampling=Holdout(fraction_train=0.7), \n",
    "                                    measure=cross_entropy,\n",
    "                                    acceleration=CPUThreads(),\n",
    "                                    range=[r1, r2])"
   ]
  },
  {
   "cell_type": "code",
   "execution_count": 46,
   "metadata": {},
   "outputs": [
    {
     "name": "stderr",
     "output_type": "stream",
     "text": [
      "┌ Warning: The scitype of `X`, in `machine(model, X, ...)` is incompatible with `model=\u001b[34mProbabilisticTunedModel{Grid,…} @397\u001b[39m`:\n",
      "│ scitype(X) = Table{Union{AbstractArray{Continuous,1}, AbstractArray{Count,1}}}\n",
      "│ input_scitype(model) = Table{var\"#s44\"} where var\"#s44\"<:(AbstractArray{var\"#s13\",1} where var\"#s13\"<:Continuous).\n",
      "└ @ MLJBase /home/andrew/.julia/packages/MLJBase/uKzAz/src/machines.jl:77\n"
     ]
    },
    {
     "data": {
      "text/plain": [
       "\u001b[34mMachine{ProbabilisticTunedModel{Grid,…}} @521\u001b[39m trained 0 times.\n",
       "  args: \n",
       "    1:\t\u001b[34mSource @156\u001b[39m ⏎ `Table{Union{AbstractArray{Continuous,1}, AbstractArray{Count,1}}}`\n",
       "    2:\t\u001b[34mSource @844\u001b[39m ⏎ `AbstractArray{Multiclass{2},1}`\n"
      ]
     },
     "execution_count": 46,
     "metadata": {},
     "output_type": "execute_result"
    }
   ],
   "source": [
    "self_tuning_nn = machine(self_tuning_nn_model, X_stand, y)"
   ]
  },
  {
   "cell_type": "code",
   "execution_count": 47,
   "metadata": {
    "scrolled": true
   },
   "outputs": [
    {
     "name": "stderr",
     "output_type": "stream",
     "text": [
      "┌ Info: Training \u001b[34mMachine{ProbabilisticTunedModel{Grid,…}} @521\u001b[39m.\n",
      "└ @ MLJBase /home/andrew/.julia/packages/MLJBase/uKzAz/src/machines.jl:319\n",
      "┌ Info: Attempting to evaluate 64 models.\n",
      "└ @ MLJTuning /home/andrew/.julia/packages/MLJTuning/Bbgvk/src/tuned_models.jl:494\n",
      "┌ Warning: The scitype of `X`, in `machine(model, X, ...)` is incompatible with `model=\u001b[34mResampler{Holdout,…} @420\u001b[39m`:\n",
      "│ scitype(X) = Table{Union{AbstractArray{Continuous,1}, AbstractArray{Count,1}}}\n",
      "│ input_scitype(model) = Table{var\"#s44\"} where var\"#s44\"<:(AbstractArray{var\"#s13\",1} where var\"#s13\"<:Continuous).\n",
      "└ @ MLJBase /home/andrew/.julia/packages/MLJBase/uKzAz/src/machines.jl:77\n",
      "\u001b[33mEvaluating over 64 metamodels:   0%[>                        ]  ETA: N/A\u001b[39m┌ Warning: The scitype of `X`, in `machine(model, X, ...)` is incompatible with `model=\u001b[34mNeuralNetworkClassifier{CustomNN,…} @199\u001b[39m`:\n",
      "│ scitype(X) = Table{Union{AbstractArray{Continuous,1}, AbstractArray{Count,1}}}\n",
      "│ input_scitype(model) = Table{var\"#s44\"} where var\"#s44\"<:(AbstractArray{var\"#s13\",1} where var\"#s13\"<:Continuous).\n",
      "└ @ MLJBase /home/andrew/.julia/packages/MLJBase/uKzAz/src/machines.jl:77\n",
      "\u001b[33mEvaluating over 64 metamodels: 100%[=========================] Time: 0:07:56\u001b[39m\n",
      "┌ Warning: The scitype of `X`, in `machine(model, X, ...)` is incompatible with `model=\u001b[34mNeuralNetworkClassifier{CustomNN,…} @362\u001b[39m`:\n",
      "│ scitype(X) = Table{Union{AbstractArray{Continuous,1}, AbstractArray{Count,1}}}\n",
      "│ input_scitype(model) = Table{var\"#s44\"} where var\"#s44\"<:(AbstractArray{var\"#s13\",1} where var\"#s13\"<:Continuous).\n",
      "└ @ MLJBase /home/andrew/.julia/packages/MLJBase/uKzAz/src/machines.jl:77\n"
     ]
    },
    {
     "data": {
      "text/plain": [
       "\u001b[34mMachine{ProbabilisticTunedModel{Grid,…}} @521\u001b[39m trained 1 time.\n",
       "  args: \n",
       "    1:\t\u001b[34mSource @156\u001b[39m ⏎ `Table{Union{AbstractArray{Continuous,1}, AbstractArray{Count,1}}}`\n",
       "    2:\t\u001b[34mSource @844\u001b[39m ⏎ `AbstractArray{Multiclass{2},1}`\n"
      ]
     },
     "execution_count": 47,
     "metadata": {},
     "output_type": "execute_result"
    }
   ],
   "source": [
    "z = fit!(self_tuning_nn, rows=train)"
   ]
  },
  {
   "cell_type": "code",
   "execution_count": 48,
   "metadata": {
    "scrolled": true
   },
   "outputs": [
    {
     "data": {
      "image/svg+xml": [
       "<?xml version=\"1.0\" encoding=\"utf-8\"?>\n",
       "<svg xmlns=\"http://www.w3.org/2000/svg\" xmlns:xlink=\"http://www.w3.org/1999/xlink\" width=\"600\" height=\"400\" viewBox=\"0 0 2400 1600\">\n",
       "<defs>\n",
       "  <clipPath id=\"clip730\">\n",
       "    <rect x=\"0\" y=\"0\" width=\"2400\" height=\"1600\"/>\n",
       "  </clipPath>\n",
       "</defs>\n",
       "<path clip-path=\"url(#clip730)\" d=\"\n",
       "M0 1600 L2400 1600 L2400 0 L0 0  Z\n",
       "  \" fill=\"#ffffff\" fill-rule=\"evenodd\" fill-opacity=\"1\"/>\n",
       "<defs>\n",
       "  <clipPath id=\"clip731\">\n",
       "    <rect x=\"480\" y=\"0\" width=\"1681\" height=\"1600\"/>\n",
       "  </clipPath>\n",
       "</defs>\n",
       "<path clip-path=\"url(#clip730)\" d=\"\n",
       "M224.866 1410.9 L2112.76 1410.9 L2112.76 47.2441 L224.866 47.2441  Z\n",
       "  \" fill=\"#ffffff\" fill-rule=\"evenodd\" fill-opacity=\"1\"/>\n",
       "<defs>\n",
       "  <clipPath id=\"clip732\">\n",
       "    <rect x=\"224\" y=\"47\" width=\"1889\" height=\"1365\"/>\n",
       "  </clipPath>\n",
       "</defs>\n",
       "<polyline clip-path=\"url(#clip732)\" style=\"stroke:#000000; stroke-width:2; stroke-opacity:0.1; fill:none\" points=\"\n",
       "  278.297,1410.9 278.297,47.2441 \n",
       "  \"/>\n",
       "<polyline clip-path=\"url(#clip732)\" style=\"stroke:#000000; stroke-width:2; stroke-opacity:0.1; fill:none\" points=\"\n",
       "  620.531,1410.9 620.531,47.2441 \n",
       "  \"/>\n",
       "<polyline clip-path=\"url(#clip732)\" style=\"stroke:#000000; stroke-width:2; stroke-opacity:0.1; fill:none\" points=\"\n",
       "  962.766,1410.9 962.766,47.2441 \n",
       "  \"/>\n",
       "<polyline clip-path=\"url(#clip732)\" style=\"stroke:#000000; stroke-width:2; stroke-opacity:0.1; fill:none\" points=\"\n",
       "  1305,1410.9 1305,47.2441 \n",
       "  \"/>\n",
       "<polyline clip-path=\"url(#clip732)\" style=\"stroke:#000000; stroke-width:2; stroke-opacity:0.1; fill:none\" points=\"\n",
       "  1647.23,1410.9 1647.23,47.2441 \n",
       "  \"/>\n",
       "<polyline clip-path=\"url(#clip732)\" style=\"stroke:#000000; stroke-width:2; stroke-opacity:0.1; fill:none\" points=\"\n",
       "  1989.47,1410.9 1989.47,47.2441 \n",
       "  \"/>\n",
       "<polyline clip-path=\"url(#clip732)\" style=\"stroke:#000000; stroke-width:2; stroke-opacity:0.1; fill:none\" points=\"\n",
       "  224.866,1229.36 2112.76,1229.36 \n",
       "  \"/>\n",
       "<polyline clip-path=\"url(#clip732)\" style=\"stroke:#000000; stroke-width:2; stroke-opacity:0.1; fill:none\" points=\"\n",
       "  224.866,943.481 2112.76,943.481 \n",
       "  \"/>\n",
       "<polyline clip-path=\"url(#clip732)\" style=\"stroke:#000000; stroke-width:2; stroke-opacity:0.1; fill:none\" points=\"\n",
       "  224.866,657.6 2112.76,657.6 \n",
       "  \"/>\n",
       "<polyline clip-path=\"url(#clip732)\" style=\"stroke:#000000; stroke-width:2; stroke-opacity:0.1; fill:none\" points=\"\n",
       "  224.866,371.719 2112.76,371.719 \n",
       "  \"/>\n",
       "<polyline clip-path=\"url(#clip732)\" style=\"stroke:#000000; stroke-width:2; stroke-opacity:0.1; fill:none\" points=\"\n",
       "  224.866,85.838 2112.76,85.838 \n",
       "  \"/>\n",
       "<polyline clip-path=\"url(#clip730)\" style=\"stroke:#000000; stroke-width:4; stroke-opacity:1; fill:none\" points=\"\n",
       "  224.866,1410.9 2112.76,1410.9 \n",
       "  \"/>\n",
       "<polyline clip-path=\"url(#clip730)\" style=\"stroke:#000000; stroke-width:4; stroke-opacity:1; fill:none\" points=\"\n",
       "  224.866,1410.9 224.866,47.2441 \n",
       "  \"/>\n",
       "<polyline clip-path=\"url(#clip730)\" style=\"stroke:#000000; stroke-width:4; stroke-opacity:1; fill:none\" points=\"\n",
       "  278.297,1410.9 278.297,1394.53 \n",
       "  \"/>\n",
       "<polyline clip-path=\"url(#clip730)\" style=\"stroke:#000000; stroke-width:4; stroke-opacity:1; fill:none\" points=\"\n",
       "  620.531,1410.9 620.531,1394.53 \n",
       "  \"/>\n",
       "<polyline clip-path=\"url(#clip730)\" style=\"stroke:#000000; stroke-width:4; stroke-opacity:1; fill:none\" points=\"\n",
       "  962.766,1410.9 962.766,1394.53 \n",
       "  \"/>\n",
       "<polyline clip-path=\"url(#clip730)\" style=\"stroke:#000000; stroke-width:4; stroke-opacity:1; fill:none\" points=\"\n",
       "  1305,1410.9 1305,1394.53 \n",
       "  \"/>\n",
       "<polyline clip-path=\"url(#clip730)\" style=\"stroke:#000000; stroke-width:4; stroke-opacity:1; fill:none\" points=\"\n",
       "  1647.23,1410.9 1647.23,1394.53 \n",
       "  \"/>\n",
       "<polyline clip-path=\"url(#clip730)\" style=\"stroke:#000000; stroke-width:4; stroke-opacity:1; fill:none\" points=\"\n",
       "  1989.47,1410.9 1989.47,1394.53 \n",
       "  \"/>\n",
       "<polyline clip-path=\"url(#clip730)\" style=\"stroke:#000000; stroke-width:4; stroke-opacity:1; fill:none\" points=\"\n",
       "  224.866,1229.36 247.521,1229.36 \n",
       "  \"/>\n",
       "<polyline clip-path=\"url(#clip730)\" style=\"stroke:#000000; stroke-width:4; stroke-opacity:1; fill:none\" points=\"\n",
       "  224.866,943.481 247.521,943.481 \n",
       "  \"/>\n",
       "<polyline clip-path=\"url(#clip730)\" style=\"stroke:#000000; stroke-width:4; stroke-opacity:1; fill:none\" points=\"\n",
       "  224.866,657.6 247.521,657.6 \n",
       "  \"/>\n",
       "<polyline clip-path=\"url(#clip730)\" style=\"stroke:#000000; stroke-width:4; stroke-opacity:1; fill:none\" points=\"\n",
       "  224.866,371.719 247.521,371.719 \n",
       "  \"/>\n",
       "<polyline clip-path=\"url(#clip730)\" style=\"stroke:#000000; stroke-width:4; stroke-opacity:1; fill:none\" points=\"\n",
       "  224.866,85.838 247.521,85.838 \n",
       "  \"/>\n",
       "<path clip-path=\"url(#clip730)\" d=\"M 0 0 M231.794 1481.97 L239.433 1481.97 L239.433 1455.6 L231.123 1457.27 L231.123 1453.01 L239.387 1451.34 L244.063 1451.34 L244.063 1481.97 L251.701 1481.97 L251.701 1485.9 L231.794 1485.9 L231.794 1481.97 Z\" fill=\"#000000\" fill-rule=\"evenodd\" fill-opacity=\"1\" /><path clip-path=\"url(#clip730)\" d=\"M 0 0 M266.771 1454.42 Q263.16 1454.42 261.331 1457.99 Q259.525 1461.53 259.525 1468.66 Q259.525 1475.77 261.331 1479.33 Q263.16 1482.87 266.771 1482.87 Q270.405 1482.87 272.211 1479.33 Q274.039 1475.77 274.039 1468.66 Q274.039 1461.53 272.211 1457.99 Q270.405 1454.42 266.771 1454.42 M266.771 1450.72 Q272.581 1450.72 275.637 1455.33 Q278.715 1459.91 278.715 1468.66 Q278.715 1477.39 275.637 1481.99 Q272.581 1486.58 266.771 1486.58 Q260.961 1486.58 257.882 1481.99 Q254.826 1477.39 254.826 1468.66 Q254.826 1459.91 257.882 1455.33 Q260.961 1450.72 266.771 1450.72 Z\" fill=\"#000000\" fill-rule=\"evenodd\" fill-opacity=\"1\" /><path clip-path=\"url(#clip730)\" d=\"M 0 0 M279.261 1455.3 L285.467 1455.3 L285.467 1433.87 L278.715 1435.23 L278.715 1431.77 L285.43 1430.41 L289.229 1430.41 L289.229 1455.3 L295.435 1455.3 L295.435 1458.49 L279.261 1458.49 L279.261 1455.3 Z\" fill=\"#000000\" fill-rule=\"evenodd\" fill-opacity=\"1\" /><path clip-path=\"url(#clip730)\" d=\"M 0 0 M299.554 1453.72 L303.523 1453.72 L303.523 1458.49 L299.554 1458.49 L299.554 1453.72 Z\" fill=\"#000000\" fill-rule=\"evenodd\" fill-opacity=\"1\" /><path clip-path=\"url(#clip730)\" d=\"M 0 0 M315.766 1432.91 Q312.832 1432.91 311.347 1435.81 Q309.88 1438.69 309.88 1444.48 Q309.88 1450.26 311.347 1453.15 Q312.832 1456.03 315.766 1456.03 Q318.719 1456.03 320.186 1453.15 Q321.672 1450.26 321.672 1444.48 Q321.672 1438.69 320.186 1435.81 Q318.719 1432.91 315.766 1432.91 M315.766 1429.91 Q320.487 1429.91 322.97 1433.65 Q325.471 1437.37 325.471 1444.48 Q325.471 1451.57 322.97 1455.31 Q320.487 1459.04 315.766 1459.04 Q311.046 1459.04 308.544 1455.31 Q306.062 1451.57 306.062 1444.48 Q306.062 1437.37 308.544 1433.65 Q311.046 1429.91 315.766 1429.91 Z\" fill=\"#000000\" fill-rule=\"evenodd\" fill-opacity=\"1\" /><path clip-path=\"url(#clip730)\" d=\"M 0 0 M574.433 1481.97 L582.072 1481.97 L582.072 1455.6 L573.761 1457.27 L573.761 1453.01 L582.025 1451.34 L586.701 1451.34 L586.701 1481.97 L594.34 1481.97 L594.34 1485.9 L574.433 1485.9 L574.433 1481.97 Z\" fill=\"#000000\" fill-rule=\"evenodd\" fill-opacity=\"1\" /><path clip-path=\"url(#clip730)\" d=\"M 0 0 M609.409 1454.42 Q605.798 1454.42 603.97 1457.99 Q602.164 1461.53 602.164 1468.66 Q602.164 1475.77 603.97 1479.33 Q605.798 1482.87 609.409 1482.87 Q613.044 1482.87 614.849 1479.33 Q616.678 1475.77 616.678 1468.66 Q616.678 1461.53 614.849 1457.99 Q613.044 1454.42 609.409 1454.42 M609.409 1450.72 Q615.22 1450.72 618.275 1455.33 Q621.354 1459.91 621.354 1468.66 Q621.354 1477.39 618.275 1481.99 Q615.22 1486.58 609.409 1486.58 Q603.599 1486.58 600.521 1481.99 Q597.465 1477.39 597.465 1468.66 Q597.465 1459.91 600.521 1455.33 Q603.599 1450.72 609.409 1450.72 Z\" fill=\"#000000\" fill-rule=\"evenodd\" fill-opacity=\"1\" /><path clip-path=\"url(#clip730)\" d=\"M 0 0 M621.899 1455.3 L628.106 1455.3 L628.106 1433.87 L621.354 1435.23 L621.354 1431.77 L628.068 1430.41 L631.867 1430.41 L631.867 1455.3 L638.074 1455.3 L638.074 1458.49 L621.899 1458.49 L621.899 1455.3 Z\" fill=\"#000000\" fill-rule=\"evenodd\" fill-opacity=\"1\" /><path clip-path=\"url(#clip730)\" d=\"M 0 0 M642.193 1453.72 L646.161 1453.72 L646.161 1458.49 L642.193 1458.49 L642.193 1453.72 Z\" fill=\"#000000\" fill-rule=\"evenodd\" fill-opacity=\"1\" /><path clip-path=\"url(#clip730)\" d=\"M 0 0 M650.318 1430.41 L665.232 1430.41 L665.232 1433.61 L653.797 1433.61 L653.797 1440.49 Q654.625 1440.21 655.452 1440.08 Q656.28 1439.93 657.107 1439.93 Q661.809 1439.93 664.555 1442.51 Q667.301 1445.08 667.301 1449.48 Q667.301 1454.02 664.48 1456.54 Q661.659 1459.04 656.524 1459.04 Q654.756 1459.04 652.913 1458.74 Q651.089 1458.44 649.133 1457.84 L649.133 1454.02 Q650.826 1454.94 652.631 1455.39 Q654.437 1455.84 656.449 1455.84 Q659.703 1455.84 661.602 1454.13 Q663.502 1452.42 663.502 1449.48 Q663.502 1446.55 661.602 1444.84 Q659.703 1443.13 656.449 1443.13 Q654.926 1443.13 653.402 1443.47 Q651.898 1443.8 650.318 1444.52 L650.318 1430.41 Z\" fill=\"#000000\" fill-rule=\"evenodd\" fill-opacity=\"1\" /><path clip-path=\"url(#clip730)\" d=\"M 0 0 M915.708 1481.97 L923.347 1481.97 L923.347 1455.6 L915.036 1457.27 L915.036 1453.01 L923.3 1451.34 L927.976 1451.34 L927.976 1481.97 L935.615 1481.97 L935.615 1485.9 L915.708 1485.9 L915.708 1481.97 Z\" fill=\"#000000\" fill-rule=\"evenodd\" fill-opacity=\"1\" /><path clip-path=\"url(#clip730)\" d=\"M 0 0 M950.684 1454.42 Q947.073 1454.42 945.245 1457.99 Q943.439 1461.53 943.439 1468.66 Q943.439 1475.77 945.245 1479.33 Q947.073 1482.87 950.684 1482.87 Q954.319 1482.87 956.124 1479.33 Q957.953 1475.77 957.953 1468.66 Q957.953 1461.53 956.124 1457.99 Q954.319 1454.42 950.684 1454.42 M950.684 1450.72 Q956.495 1450.72 959.55 1455.33 Q962.629 1459.91 962.629 1468.66 Q962.629 1477.39 959.55 1481.99 Q956.495 1486.58 950.684 1486.58 Q944.874 1486.58 941.796 1481.99 Q938.74 1477.39 938.74 1468.66 Q938.74 1459.91 941.796 1455.33 Q944.874 1450.72 950.684 1450.72 Z\" fill=\"#000000\" fill-rule=\"evenodd\" fill-opacity=\"1\" /><path clip-path=\"url(#clip730)\" d=\"M 0 0 M967.199 1455.3 L980.459 1455.3 L980.459 1458.49 L962.629 1458.49 L962.629 1455.3 Q964.792 1453.06 968.516 1449.3 Q972.258 1445.52 973.218 1444.43 Q975.042 1442.38 975.757 1440.96 Q976.49 1439.54 976.49 1438.16 Q976.49 1435.92 974.91 1434.51 Q973.349 1433.1 970.829 1433.1 Q969.042 1433.1 967.049 1433.72 Q965.074 1434.34 962.817 1435.6 L962.817 1431.77 Q965.111 1430.85 967.105 1430.38 Q969.099 1429.91 970.754 1429.91 Q975.117 1429.91 977.713 1432.09 Q980.308 1434.27 980.308 1437.92 Q980.308 1439.65 979.65 1441.21 Q979.01 1442.75 977.299 1444.86 Q976.829 1445.4 974.308 1448.02 Q971.788 1450.61 967.199 1455.3 Z\" fill=\"#000000\" fill-rule=\"evenodd\" fill-opacity=\"1\" /><path clip-path=\"url(#clip730)\" d=\"M 0 0 M984.577 1453.72 L988.546 1453.72 L988.546 1458.49 L984.577 1458.49 L984.577 1453.72 Z\" fill=\"#000000\" fill-rule=\"evenodd\" fill-opacity=\"1\" /><path clip-path=\"url(#clip730)\" d=\"M 0 0 M1000.79 1432.91 Q997.856 1432.91 996.37 1435.81 Q994.903 1438.69 994.903 1444.48 Q994.903 1450.26 996.37 1453.15 Q997.856 1456.03 1000.79 1456.03 Q1003.74 1456.03 1005.21 1453.15 Q1006.7 1450.26 1006.7 1444.48 Q1006.7 1438.69 1005.21 1435.81 Q1003.74 1432.91 1000.79 1432.91 M1000.79 1429.91 Q1005.51 1429.91 1007.99 1433.65 Q1010.49 1437.37 1010.49 1444.48 Q1010.49 1451.57 1007.99 1455.31 Q1005.51 1459.04 1000.79 1459.04 Q996.069 1459.04 993.568 1455.31 Q991.085 1451.57 991.085 1444.48 Q991.085 1437.37 993.568 1433.65 Q996.069 1429.91 1000.79 1429.91 Z\" fill=\"#000000\" fill-rule=\"evenodd\" fill-opacity=\"1\" /><path clip-path=\"url(#clip730)\" d=\"M 0 0 M1258.35 1481.97 L1265.99 1481.97 L1265.99 1455.6 L1257.68 1457.27 L1257.68 1453.01 L1265.94 1451.34 L1270.61 1451.34 L1270.61 1481.97 L1278.25 1481.97 L1278.25 1485.9 L1258.35 1485.9 L1258.35 1481.97 Z\" fill=\"#000000\" fill-rule=\"evenodd\" fill-opacity=\"1\" /><path clip-path=\"url(#clip730)\" d=\"M 0 0 M1293.32 1454.42 Q1289.71 1454.42 1287.88 1457.99 Q1286.08 1461.53 1286.08 1468.66 Q1286.08 1475.77 1287.88 1479.33 Q1289.71 1482.87 1293.32 1482.87 Q1296.96 1482.87 1298.76 1479.33 Q1300.59 1475.77 1300.59 1468.66 Q1300.59 1461.53 1298.76 1457.99 Q1296.96 1454.42 1293.32 1454.42 M1293.32 1450.72 Q1299.13 1450.72 1302.19 1455.33 Q1305.27 1459.91 1305.27 1468.66 Q1305.27 1477.39 1302.19 1481.99 Q1299.13 1486.58 1293.32 1486.58 Q1287.51 1486.58 1284.43 1481.99 Q1281.38 1477.39 1281.38 1468.66 Q1281.38 1459.91 1284.43 1455.33 Q1287.51 1450.72 1293.32 1450.72 Z\" fill=\"#000000\" fill-rule=\"evenodd\" fill-opacity=\"1\" /><path clip-path=\"url(#clip730)\" d=\"M 0 0 M1309.84 1455.3 L1323.1 1455.3 L1323.1 1458.49 L1305.27 1458.49 L1305.27 1455.3 Q1307.43 1453.06 1311.15 1449.3 Q1314.9 1445.52 1315.86 1444.43 Q1317.68 1442.38 1318.4 1440.96 Q1319.13 1439.54 1319.13 1438.16 Q1319.13 1435.92 1317.55 1434.51 Q1315.99 1433.1 1313.47 1433.1 Q1311.68 1433.1 1309.69 1433.72 Q1307.71 1434.34 1305.46 1435.6 L1305.46 1431.77 Q1307.75 1430.85 1309.74 1430.38 Q1311.74 1429.91 1313.39 1429.91 Q1317.76 1429.91 1320.35 1432.09 Q1322.95 1434.27 1322.95 1437.92 Q1322.95 1439.65 1322.29 1441.21 Q1321.65 1442.75 1319.94 1444.86 Q1319.47 1445.4 1316.95 1448.02 Q1314.43 1450.61 1309.84 1455.3 Z\" fill=\"#000000\" fill-rule=\"evenodd\" fill-opacity=\"1\" /><path clip-path=\"url(#clip730)\" d=\"M 0 0 M1327.22 1453.72 L1331.18 1453.72 L1331.18 1458.49 L1327.22 1458.49 L1327.22 1453.72 Z\" fill=\"#000000\" fill-rule=\"evenodd\" fill-opacity=\"1\" /><path clip-path=\"url(#clip730)\" d=\"M 0 0 M1335.34 1430.41 L1350.26 1430.41 L1350.26 1433.61 L1338.82 1433.61 L1338.82 1440.49 Q1339.65 1440.21 1340.48 1440.08 Q1341.3 1439.93 1342.13 1439.93 Q1346.83 1439.93 1349.58 1442.51 Q1352.32 1445.08 1352.32 1449.48 Q1352.32 1454.02 1349.5 1456.54 Q1346.68 1459.04 1341.55 1459.04 Q1339.78 1459.04 1337.94 1458.74 Q1336.11 1458.44 1334.16 1457.84 L1334.16 1454.02 Q1335.85 1454.94 1337.65 1455.39 Q1339.46 1455.84 1341.47 1455.84 Q1344.73 1455.84 1346.63 1454.13 Q1348.53 1452.42 1348.53 1449.48 Q1348.53 1446.55 1346.63 1444.84 Q1344.73 1443.13 1341.47 1443.13 Q1339.95 1443.13 1338.43 1443.47 Q1336.92 1443.8 1335.34 1444.52 L1335.34 1430.41 Z\" fill=\"#000000\" fill-rule=\"evenodd\" fill-opacity=\"1\" /><path clip-path=\"url(#clip730)\" d=\"M 0 0 M1599.85 1481.97 L1607.49 1481.97 L1607.49 1455.6 L1599.18 1457.27 L1599.18 1453.01 L1607.44 1451.34 L1612.12 1451.34 L1612.12 1481.97 L1619.75 1481.97 L1619.75 1485.9 L1599.85 1485.9 L1599.85 1481.97 Z\" fill=\"#000000\" fill-rule=\"evenodd\" fill-opacity=\"1\" /><path clip-path=\"url(#clip730)\" d=\"M 0 0 M1634.82 1454.42 Q1631.21 1454.42 1629.38 1457.99 Q1627.58 1461.53 1627.58 1468.66 Q1627.58 1475.77 1629.38 1479.33 Q1631.21 1482.87 1634.82 1482.87 Q1638.46 1482.87 1640.26 1479.33 Q1642.09 1475.77 1642.09 1468.66 Q1642.09 1461.53 1640.26 1457.99 Q1638.46 1454.42 1634.82 1454.42 M1634.82 1450.72 Q1640.63 1450.72 1643.69 1455.33 Q1646.77 1459.91 1646.77 1468.66 Q1646.77 1477.39 1643.69 1481.99 Q1640.63 1486.58 1634.82 1486.58 Q1629.01 1486.58 1625.93 1481.99 Q1622.88 1477.39 1622.88 1468.66 Q1622.88 1459.91 1625.93 1455.33 Q1629.01 1450.72 1634.82 1450.72 Z\" fill=\"#000000\" fill-rule=\"evenodd\" fill-opacity=\"1\" /><path clip-path=\"url(#clip730)\" d=\"M 0 0 M1659.46 1443.35 Q1662.19 1443.94 1663.71 1445.78 Q1665.26 1447.62 1665.26 1450.33 Q1665.26 1454.49 1662.4 1456.76 Q1659.54 1459.04 1654.27 1459.04 Q1652.5 1459.04 1650.62 1458.68 Q1648.76 1458.34 1646.77 1457.65 L1646.77 1453.98 Q1648.35 1454.9 1650.23 1455.37 Q1652.11 1455.84 1654.16 1455.84 Q1657.73 1455.84 1659.6 1454.43 Q1661.48 1453.02 1661.48 1450.33 Q1661.48 1447.85 1659.73 1446.46 Q1658 1445.05 1654.89 1445.05 L1651.62 1445.05 L1651.62 1441.92 L1655.04 1441.92 Q1657.85 1441.92 1659.33 1440.81 Q1660.82 1439.69 1660.82 1437.58 Q1660.82 1435.42 1659.28 1434.27 Q1657.75 1433.1 1654.89 1433.1 Q1653.33 1433.1 1651.55 1433.44 Q1649.76 1433.78 1647.61 1434.49 L1647.61 1431.11 Q1649.78 1430.51 1651.66 1430.21 Q1653.56 1429.91 1655.23 1429.91 Q1659.56 1429.91 1662.08 1431.88 Q1664.6 1433.84 1664.6 1437.18 Q1664.6 1439.52 1663.26 1441.13 Q1661.93 1442.73 1659.46 1443.35 Z\" fill=\"#000000\" fill-rule=\"evenodd\" fill-opacity=\"1\" /><path clip-path=\"url(#clip730)\" d=\"M 0 0 M1669.38 1453.72 L1673.34 1453.72 L1673.34 1458.49 L1669.38 1458.49 L1669.38 1453.72 Z\" fill=\"#000000\" fill-rule=\"evenodd\" fill-opacity=\"1\" /><path clip-path=\"url(#clip730)\" d=\"M 0 0 M1685.59 1432.91 Q1682.65 1432.91 1681.17 1435.81 Q1679.7 1438.69 1679.7 1444.48 Q1679.7 1450.26 1681.17 1453.15 Q1682.65 1456.03 1685.59 1456.03 Q1688.54 1456.03 1690.01 1453.15 Q1691.49 1450.26 1691.49 1444.48 Q1691.49 1438.69 1690.01 1435.81 Q1688.54 1432.91 1685.59 1432.91 M1685.59 1429.91 Q1690.31 1429.91 1692.79 1433.65 Q1695.29 1437.37 1695.29 1444.48 Q1695.29 1451.57 1692.79 1455.31 Q1690.31 1459.04 1685.59 1459.04 Q1680.87 1459.04 1678.37 1455.31 Q1675.88 1451.57 1675.88 1444.48 Q1675.88 1437.37 1678.37 1433.65 Q1680.87 1429.91 1685.59 1429.91 Z\" fill=\"#000000\" fill-rule=\"evenodd\" fill-opacity=\"1\" /><path clip-path=\"url(#clip730)\" d=\"M 0 0 M1942.49 1481.97 L1950.12 1481.97 L1950.12 1455.6 L1941.81 1457.27 L1941.81 1453.01 L1950.08 1451.34 L1954.75 1451.34 L1954.75 1481.97 L1962.39 1481.97 L1962.39 1485.9 L1942.49 1485.9 L1942.49 1481.97 Z\" fill=\"#000000\" fill-rule=\"evenodd\" fill-opacity=\"1\" /><path clip-path=\"url(#clip730)\" d=\"M 0 0 M1977.46 1454.42 Q1973.85 1454.42 1972.02 1457.99 Q1970.22 1461.53 1970.22 1468.66 Q1970.22 1475.77 1972.02 1479.33 Q1973.85 1482.87 1977.46 1482.87 Q1981.1 1482.87 1982.9 1479.33 Q1984.73 1475.77 1984.73 1468.66 Q1984.73 1461.53 1982.9 1457.99 Q1981.1 1454.42 1977.46 1454.42 M1977.46 1450.72 Q1983.27 1450.72 1986.33 1455.33 Q1989.41 1459.91 1989.41 1468.66 Q1989.41 1477.39 1986.33 1481.99 Q1983.27 1486.58 1977.46 1486.58 Q1971.65 1486.58 1968.57 1481.99 Q1965.52 1477.39 1965.52 1468.66 Q1965.52 1459.91 1968.57 1455.33 Q1971.65 1450.72 1977.46 1450.72 Z\" fill=\"#000000\" fill-rule=\"evenodd\" fill-opacity=\"1\" /><path clip-path=\"url(#clip730)\" d=\"M 0 0 M2002.1 1443.35 Q2004.83 1443.94 2006.35 1445.78 Q2007.89 1447.62 2007.89 1450.33 Q2007.89 1454.49 2005.04 1456.76 Q2002.18 1459.04 1996.91 1459.04 Q1995.14 1459.04 1993.26 1458.68 Q1991.4 1458.34 1989.41 1457.65 L1989.41 1453.98 Q1990.99 1454.9 1992.87 1455.37 Q1994.75 1455.84 1996.8 1455.84 Q2000.37 1455.84 2002.23 1454.43 Q2004.11 1453.02 2004.11 1450.33 Q2004.11 1447.85 2002.37 1446.46 Q2000.63 1445.05 1997.53 1445.05 L1994.26 1445.05 L1994.26 1441.92 L1997.68 1441.92 Q2000.48 1441.92 2001.97 1440.81 Q2003.46 1439.69 2003.46 1437.58 Q2003.46 1435.42 2001.91 1434.27 Q2000.39 1433.1 1997.53 1433.1 Q1995.97 1433.1 1994.18 1433.44 Q1992.4 1433.78 1990.25 1434.49 L1990.25 1431.11 Q1992.42 1430.51 1994.3 1430.21 Q1996.2 1429.91 1997.87 1429.91 Q2002.2 1429.91 2004.72 1431.88 Q2007.24 1433.84 2007.24 1437.18 Q2007.24 1439.52 2005.9 1441.13 Q2004.57 1442.73 2002.1 1443.35 Z\" fill=\"#000000\" fill-rule=\"evenodd\" fill-opacity=\"1\" /><path clip-path=\"url(#clip730)\" d=\"M 0 0 M2012.01 1453.72 L2015.98 1453.72 L2015.98 1458.49 L2012.01 1458.49 L2012.01 1453.72 Z\" fill=\"#000000\" fill-rule=\"evenodd\" fill-opacity=\"1\" /><path clip-path=\"url(#clip730)\" d=\"M 0 0 M2020.14 1430.41 L2035.05 1430.41 L2035.05 1433.61 L2023.62 1433.61 L2023.62 1440.49 Q2024.45 1440.21 2025.27 1440.08 Q2026.1 1439.93 2026.93 1439.93 Q2031.63 1439.93 2034.38 1442.51 Q2037.12 1445.08 2037.12 1449.48 Q2037.12 1454.02 2034.3 1456.54 Q2031.48 1459.04 2026.35 1459.04 Q2024.58 1459.04 2022.73 1458.74 Q2020.91 1458.44 2018.95 1457.84 L2018.95 1454.02 Q2020.65 1454.94 2022.45 1455.39 Q2024.26 1455.84 2026.27 1455.84 Q2029.52 1455.84 2031.42 1454.13 Q2033.32 1452.42 2033.32 1449.48 Q2033.32 1446.55 2031.42 1444.84 Q2029.52 1443.13 2026.27 1443.13 Q2024.75 1443.13 2023.22 1443.47 Q2021.72 1443.8 2020.14 1444.52 L2020.14 1430.41 Z\" fill=\"#000000\" fill-rule=\"evenodd\" fill-opacity=\"1\" /><path clip-path=\"url(#clip730)\" d=\"M 0 0 M157.533 1242.71 L173.852 1242.71 L173.852 1246.64 L151.908 1246.64 L151.908 1242.71 Q154.57 1239.95 159.153 1235.32 Q163.76 1230.67 164.941 1229.33 Q167.186 1226.8 168.065 1225.07 Q168.968 1223.31 168.968 1221.62 Q168.968 1218.86 167.024 1217.13 Q165.103 1215.39 162.001 1215.39 Q159.802 1215.39 157.348 1216.16 Q154.917 1216.92 152.14 1218.47 L152.14 1213.75 Q154.964 1212.61 157.417 1212.04 Q159.871 1211.46 161.908 1211.46 Q167.278 1211.46 170.473 1214.14 Q173.667 1216.83 173.667 1221.32 Q173.667 1223.45 172.857 1225.37 Q172.07 1227.27 169.964 1229.86 Q169.385 1230.53 166.283 1233.75 Q163.181 1236.94 157.533 1242.71 Z\" fill=\"#000000\" fill-rule=\"evenodd\" fill-opacity=\"1\" /><path clip-path=\"url(#clip730)\" d=\"M 0 0 M188.922 1215.16 Q185.311 1215.16 183.482 1218.73 Q181.677 1222.27 181.677 1229.4 Q181.677 1236.5 183.482 1240.07 Q185.311 1243.61 188.922 1243.61 Q192.556 1243.61 194.362 1240.07 Q196.19 1236.5 196.19 1229.4 Q196.19 1222.27 194.362 1218.73 Q192.556 1215.16 188.922 1215.16 M188.922 1211.46 Q194.732 1211.46 197.788 1216.06 Q200.866 1220.65 200.866 1229.4 Q200.866 1238.12 197.788 1242.73 Q194.732 1247.31 188.922 1247.31 Q183.112 1247.31 180.033 1242.73 Q176.977 1238.12 176.977 1229.4 Q176.977 1220.65 180.033 1216.06 Q183.112 1211.46 188.922 1211.46 Z\" fill=\"#000000\" fill-rule=\"evenodd\" fill-opacity=\"1\" /><path clip-path=\"url(#clip730)\" d=\"M 0 0 M164.269 930.275 L152.464 948.724 L164.269 948.724 L164.269 930.275 M163.042 926.201 L168.922 926.201 L168.922 948.724 L173.852 948.724 L173.852 952.613 L168.922 952.613 L168.922 960.761 L164.269 960.761 L164.269 952.613 L148.667 952.613 L148.667 948.099 L163.042 926.201 Z\" fill=\"#000000\" fill-rule=\"evenodd\" fill-opacity=\"1\" /><path clip-path=\"url(#clip730)\" d=\"M 0 0 M188.922 929.28 Q185.311 929.28 183.482 932.845 Q181.677 936.386 181.677 943.516 Q181.677 950.622 183.482 954.187 Q185.311 957.729 188.922 957.729 Q192.556 957.729 194.362 954.187 Q196.19 950.622 196.19 943.516 Q196.19 936.386 194.362 932.845 Q192.556 929.28 188.922 929.28 M188.922 925.576 Q194.732 925.576 197.788 930.183 Q200.866 934.766 200.866 943.516 Q200.866 952.243 197.788 956.849 Q194.732 961.432 188.922 961.432 Q183.112 961.432 180.033 956.849 Q176.977 952.243 176.977 943.516 Q176.977 934.766 180.033 930.183 Q183.112 925.576 188.922 925.576 Z\" fill=\"#000000\" fill-rule=\"evenodd\" fill-opacity=\"1\" /><path clip-path=\"url(#clip730)\" d=\"M 0 0 M162.325 655.737 Q159.177 655.737 157.325 657.889 Q155.496 660.042 155.496 663.792 Q155.496 667.519 157.325 669.695 Q159.177 671.848 162.325 671.848 Q165.473 671.848 167.302 669.695 Q169.153 667.519 169.153 663.792 Q169.153 660.042 167.302 657.889 Q165.473 655.737 162.325 655.737 M171.607 641.084 L171.607 645.343 Q169.848 644.51 168.042 644.07 Q166.26 643.63 164.501 643.63 Q159.871 643.63 157.417 646.755 Q154.987 649.88 154.64 656.2 Q156.005 654.186 158.066 653.121 Q160.126 652.033 162.603 652.033 Q167.811 652.033 170.82 655.204 Q173.852 658.352 173.852 663.792 Q173.852 669.116 170.704 672.334 Q167.556 675.551 162.325 675.551 Q156.329 675.551 153.158 670.968 Q149.987 666.362 149.987 657.635 Q149.987 649.44 153.876 644.579 Q157.765 639.695 164.316 639.695 Q166.075 639.695 167.857 640.042 Q169.663 640.39 171.607 641.084 Z\" fill=\"#000000\" fill-rule=\"evenodd\" fill-opacity=\"1\" /><path clip-path=\"url(#clip730)\" d=\"M 0 0 M188.922 643.399 Q185.311 643.399 183.482 646.964 Q181.677 650.505 181.677 657.635 Q181.677 664.741 183.482 668.306 Q185.311 671.848 188.922 671.848 Q192.556 671.848 194.362 668.306 Q196.19 664.741 196.19 657.635 Q196.19 650.505 194.362 646.964 Q192.556 643.399 188.922 643.399 M188.922 639.695 Q194.732 639.695 197.788 644.302 Q200.866 648.885 200.866 657.635 Q200.866 666.362 197.788 670.968 Q194.732 675.551 188.922 675.551 Q183.112 675.551 180.033 670.968 Q176.977 666.362 176.977 657.635 Q176.977 648.885 180.033 644.302 Q183.112 639.695 188.922 639.695 Z\" fill=\"#000000\" fill-rule=\"evenodd\" fill-opacity=\"1\" /><path clip-path=\"url(#clip730)\" d=\"M 0 0 M162.001 372.587 Q158.667 372.587 156.746 374.37 Q154.848 376.152 154.848 379.277 Q154.848 382.402 156.746 384.184 Q158.667 385.967 162.001 385.967 Q165.334 385.967 167.255 384.184 Q169.177 382.379 169.177 379.277 Q169.177 376.152 167.255 374.37 Q165.357 372.587 162.001 372.587 M157.325 370.596 Q154.316 369.856 152.626 367.795 Q150.959 365.735 150.959 362.772 Q150.959 358.629 153.899 356.221 Q156.862 353.814 162.001 353.814 Q167.163 353.814 170.103 356.221 Q173.042 358.629 173.042 362.772 Q173.042 365.735 171.353 367.795 Q169.686 369.856 166.7 370.596 Q170.079 371.383 171.954 373.675 Q173.852 375.967 173.852 379.277 Q173.852 384.3 170.774 386.985 Q167.718 389.67 162.001 389.67 Q156.283 389.67 153.204 386.985 Q150.149 384.3 150.149 379.277 Q150.149 375.967 152.047 373.675 Q153.945 371.383 157.325 370.596 M155.612 363.212 Q155.612 365.897 157.279 367.402 Q158.968 368.907 162.001 368.907 Q165.01 368.907 166.7 367.402 Q168.413 365.897 168.413 363.212 Q168.413 360.527 166.7 359.022 Q165.01 357.518 162.001 357.518 Q158.968 357.518 157.279 359.022 Q155.612 360.527 155.612 363.212 Z\" fill=\"#000000\" fill-rule=\"evenodd\" fill-opacity=\"1\" /><path clip-path=\"url(#clip730)\" d=\"M 0 0 M188.922 357.518 Q185.311 357.518 183.482 361.083 Q181.677 364.624 181.677 371.754 Q181.677 378.86 183.482 382.425 Q185.311 385.967 188.922 385.967 Q192.556 385.967 194.362 382.425 Q196.19 378.86 196.19 371.754 Q196.19 364.624 194.362 361.083 Q192.556 357.518 188.922 357.518 M188.922 353.814 Q194.732 353.814 197.788 358.421 Q200.866 363.004 200.866 371.754 Q200.866 380.481 197.788 385.087 Q194.732 389.67 188.922 389.67 Q183.112 389.67 180.033 385.087 Q176.977 380.481 176.977 371.754 Q176.977 363.004 180.033 358.421 Q183.112 353.814 188.922 353.814 Z\" fill=\"#000000\" fill-rule=\"evenodd\" fill-opacity=\"1\" /><path clip-path=\"url(#clip730)\" d=\"M 0 0 M126.931 99.1829 L134.57 99.1829 L134.57 72.8173 L126.26 74.4839 L126.26 70.2247 L134.524 68.558 L139.2 68.558 L139.2 99.1829 L146.839 99.1829 L146.839 103.118 L126.931 103.118 L126.931 99.1829 Z\" fill=\"#000000\" fill-rule=\"evenodd\" fill-opacity=\"1\" /><path clip-path=\"url(#clip730)\" d=\"M 0 0 M161.908 71.6367 Q158.297 71.6367 156.468 75.2015 Q154.663 78.7432 154.663 85.8728 Q154.663 92.9792 156.468 96.544 Q158.297 100.086 161.908 100.086 Q165.542 100.086 167.348 96.544 Q169.177 92.9792 169.177 85.8728 Q169.177 78.7432 167.348 75.2015 Q165.542 71.6367 161.908 71.6367 M161.908 67.933 Q167.718 67.933 170.774 72.5395 Q173.852 77.1228 173.852 85.8728 Q173.852 94.5996 170.774 99.206 Q167.718 103.789 161.908 103.789 Q156.098 103.789 153.019 99.206 Q149.964 94.5996 149.964 85.8728 Q149.964 77.1228 153.019 72.5395 Q156.098 67.933 161.908 67.933 Z\" fill=\"#000000\" fill-rule=\"evenodd\" fill-opacity=\"1\" /><path clip-path=\"url(#clip730)\" d=\"M 0 0 M188.922 71.6367 Q185.311 71.6367 183.482 75.2015 Q181.677 78.7432 181.677 85.8728 Q181.677 92.9792 183.482 96.544 Q185.311 100.086 188.922 100.086 Q192.556 100.086 194.362 96.544 Q196.19 92.9792 196.19 85.8728 Q196.19 78.7432 194.362 75.2015 Q192.556 71.6367 188.922 71.6367 M188.922 67.933 Q194.732 67.933 197.788 72.5395 Q200.866 77.1228 200.866 85.8728 Q200.866 94.5996 197.788 99.206 Q194.732 103.789 188.922 103.789 Q183.112 103.789 180.033 99.206 Q176.977 94.5996 176.977 85.8728 Q176.977 77.1228 180.033 72.5395 Q183.112 67.933 188.922 67.933 Z\" fill=\"#000000\" fill-rule=\"evenodd\" fill-opacity=\"1\" /><path clip-path=\"url(#clip730)\" d=\"M 0 0 M1099.09 1542.9 L1099.09 1545.76 L1072.16 1545.76 Q1072.55 1551.81 1075.79 1554.99 Q1079.07 1558.14 1084.9 1558.14 Q1088.27 1558.14 1091.42 1557.32 Q1094.6 1556.49 1097.72 1554.83 L1097.72 1560.37 Q1094.57 1561.71 1091.26 1562.41 Q1087.95 1563.11 1084.55 1563.11 Q1076.01 1563.11 1071.02 1558.14 Q1066.05 1553.18 1066.05 1544.71 Q1066.05 1535.96 1070.76 1530.83 Q1075.51 1525.68 1083.53 1525.68 Q1090.72 1525.68 1094.89 1530.33 Q1099.09 1534.94 1099.09 1542.9 M1093.23 1541.18 Q1093.17 1536.37 1090.53 1533.51 Q1087.92 1530.64 1083.59 1530.64 Q1078.69 1530.64 1075.73 1533.41 Q1072.8 1536.18 1072.35 1541.21 L1093.23 1541.18 Z\" fill=\"#000000\" fill-rule=\"evenodd\" fill-opacity=\"1\" /><path clip-path=\"url(#clip730)\" d=\"M 0 0 M1110.9 1556.84 L1110.9 1575.74 L1105.01 1575.74 L1105.01 1526.54 L1110.9 1526.54 L1110.9 1531.95 Q1112.75 1528.77 1115.55 1527.24 Q1118.38 1525.68 1122.29 1525.68 Q1128.79 1525.68 1132.83 1530.83 Q1136.9 1535.99 1136.9 1544.39 Q1136.9 1552.8 1132.83 1557.95 Q1128.79 1563.11 1122.29 1563.11 Q1118.38 1563.11 1115.55 1561.58 Q1112.75 1560.02 1110.9 1556.84 M1130.82 1544.39 Q1130.82 1537.93 1128.15 1534.27 Q1125.51 1530.58 1120.86 1530.58 Q1116.21 1530.58 1113.54 1534.27 Q1110.9 1537.93 1110.9 1544.39 Q1110.9 1550.85 1113.54 1554.55 Q1116.21 1558.21 1120.86 1558.21 Q1125.51 1558.21 1128.15 1554.55 Q1130.82 1550.85 1130.82 1544.39 Z\" fill=\"#000000\" fill-rule=\"evenodd\" fill-opacity=\"1\" /><path clip-path=\"url(#clip730)\" d=\"M 0 0 M1156.86 1530.64 Q1152.15 1530.64 1149.41 1534.34 Q1146.67 1538 1146.67 1544.39 Q1146.67 1550.79 1149.38 1554.48 Q1152.12 1558.14 1156.86 1558.14 Q1161.54 1558.14 1164.28 1554.45 Q1167.01 1550.76 1167.01 1544.39 Q1167.01 1538.06 1164.28 1534.37 Q1161.54 1530.64 1156.86 1530.64 M1156.86 1525.68 Q1164.5 1525.68 1168.86 1530.64 Q1173.22 1535.61 1173.22 1544.39 Q1173.22 1553.15 1168.86 1558.14 Q1164.5 1563.11 1156.86 1563.11 Q1149.19 1563.11 1144.83 1558.14 Q1140.5 1553.15 1140.5 1544.39 Q1140.5 1535.61 1144.83 1530.64 Q1149.19 1525.68 1156.86 1525.68 Z\" fill=\"#000000\" fill-rule=\"evenodd\" fill-opacity=\"1\" /><path clip-path=\"url(#clip730)\" d=\"M 0 0 M1205.02 1527.91 L1205.02 1533.38 Q1202.53 1532.01 1200.02 1531.34 Q1197.54 1530.64 1194.99 1530.64 Q1189.29 1530.64 1186.14 1534.27 Q1182.99 1537.87 1182.99 1544.39 Q1182.99 1550.92 1186.14 1554.55 Q1189.29 1558.14 1194.99 1558.14 Q1197.54 1558.14 1200.02 1557.47 Q1202.53 1556.77 1205.02 1555.41 L1205.02 1560.82 Q1202.57 1561.96 1199.92 1562.54 Q1197.31 1563.11 1194.35 1563.11 Q1186.3 1563.11 1181.56 1558.05 Q1176.82 1552.99 1176.82 1544.39 Q1176.82 1535.67 1181.59 1530.68 Q1186.4 1525.68 1194.74 1525.68 Q1197.44 1525.68 1200.02 1526.25 Q1202.6 1526.79 1205.02 1527.91 Z\" fill=\"#000000\" fill-rule=\"evenodd\" fill-opacity=\"1\" /><path clip-path=\"url(#clip730)\" d=\"M 0 0 M1240.79 1540.67 L1240.79 1562.19 L1234.93 1562.19 L1234.93 1540.86 Q1234.93 1535.8 1232.96 1533.29 Q1230.99 1530.77 1227.04 1530.77 Q1222.3 1530.77 1219.56 1533.79 Q1216.82 1536.82 1216.82 1542.04 L1216.82 1562.19 L1210.94 1562.19 L1210.94 1512.66 L1216.82 1512.66 L1216.82 1532.08 Q1218.93 1528.86 1221.76 1527.27 Q1224.62 1525.68 1228.35 1525.68 Q1234.49 1525.68 1237.64 1529.5 Q1240.79 1533.29 1240.79 1540.67 Z\" fill=\"#000000\" fill-rule=\"evenodd\" fill-opacity=\"1\" /><path clip-path=\"url(#clip730)\" d=\"M 0 0 M1269.66 1527.59 L1269.66 1533.13 Q1267.18 1531.85 1264.5 1531.22 Q1261.83 1530.58 1258.97 1530.58 Q1254.6 1530.58 1252.41 1531.92 Q1250.24 1533.25 1250.24 1535.93 Q1250.24 1537.96 1251.8 1539.14 Q1253.36 1540.29 1258.07 1541.34 L1260.08 1541.78 Q1266.32 1543.12 1268.93 1545.57 Q1271.57 1547.99 1271.57 1552.35 Q1271.57 1557.32 1267.62 1560.21 Q1263.71 1563.11 1256.83 1563.11 Q1253.97 1563.11 1250.85 1562.54 Q1247.76 1561.99 1244.32 1560.88 L1244.32 1554.83 Q1247.57 1556.52 1250.72 1557.38 Q1253.87 1558.21 1256.96 1558.21 Q1261.1 1558.21 1263.33 1556.81 Q1265.55 1555.37 1265.55 1552.8 Q1265.55 1550.41 1263.93 1549.14 Q1262.34 1547.86 1256.9 1546.68 L1254.86 1546.21 Q1249.42 1545.06 1247 1542.71 Q1244.58 1540.32 1244.58 1536.18 Q1244.58 1531.15 1248.14 1528.42 Q1251.71 1525.68 1258.27 1525.68 Q1261.51 1525.68 1264.38 1526.16 Q1267.24 1526.63 1269.66 1527.59 Z\" fill=\"#000000\" fill-rule=\"evenodd\" fill-opacity=\"1\" /><path clip-path=\"url(#clip730)\" d=\"M 0 0 M70.212 837.813 Q63.7508 837.813 60.0905 840.486 Q56.3984 843.128 56.3984 847.775 Q56.3984 852.422 60.0905 855.095 Q63.7508 857.737 70.212 857.737 Q76.6732 857.737 80.3653 855.095 Q84.0256 852.422 84.0256 847.775 Q84.0256 843.128 80.3653 840.486 Q76.6732 837.813 70.212 837.813 M57.7671 857.737 Q54.5842 855.891 53.0564 853.09 Q51.4968 850.258 51.4968 846.343 Q51.4968 839.85 56.6531 835.807 Q61.8093 831.733 70.212 831.733 Q78.6147 831.733 83.771 835.807 Q88.9272 839.85 88.9272 846.343 Q88.9272 850.258 87.3994 853.09 Q85.8398 855.891 82.657 857.737 L88.0042 857.737 L88.0042 863.625 L38.479 863.625 L38.479 857.737 L57.7671 857.737 Z\" fill=\"#000000\" fill-rule=\"evenodd\" fill-opacity=\"1\" /><path clip-path=\"url(#clip730)\" d=\"M 0 0 M73.9359 826.195 L52.3562 826.195 L52.3562 820.339 L73.7131 820.339 Q78.7739 820.339 81.3202 818.365 Q83.8346 816.392 83.8346 812.445 Q83.8346 807.703 80.8109 804.966 Q77.7872 802.196 72.5673 802.196 L52.3562 802.196 L52.3562 796.34 L88.0042 796.34 L88.0042 802.196 L82.5296 802.196 Q85.7762 804.329 87.3676 807.162 Q88.9272 809.963 88.9272 813.687 Q88.9272 819.829 85.1078 823.012 Q81.2883 826.195 73.9359 826.195 M51.4968 811.459 L51.4968 811.459 Z\" fill=\"#000000\" fill-rule=\"evenodd\" fill-opacity=\"1\" /><path clip-path=\"url(#clip730)\" d=\"M 0 0 M52.3562 790.197 L52.3562 784.341 L88.0042 784.341 L88.0042 790.197 L52.3562 790.197 M38.479 790.197 L38.479 784.341 L45.895 784.341 L45.895 790.197 L38.479 790.197 Z\" fill=\"#000000\" fill-rule=\"evenodd\" fill-opacity=\"1\" /><path clip-path=\"url(#clip730)\" d=\"M 0 0 M38.479 778.198 L38.479 772.341 L88.0042 772.341 L88.0042 778.198 L38.479 778.198 Z\" fill=\"#000000\" fill-rule=\"evenodd\" fill-opacity=\"1\" /><path clip-path=\"url(#clip730)\" d=\"M 0 0 M57.7671 742.741 L38.479 742.741 L38.479 736.884 L88.0042 736.884 L88.0042 742.741 L82.657 742.741 Q85.8398 744.587 87.3994 747.42 Q88.9272 750.22 88.9272 754.167 Q88.9272 760.628 83.771 764.702 Q78.6147 768.745 70.212 768.745 Q61.8093 768.745 56.6531 764.702 Q51.4968 760.628 51.4968 754.167 Q51.4968 750.22 53.0564 747.42 Q54.5842 744.587 57.7671 742.741 M70.212 762.697 Q76.6732 762.697 80.3653 760.055 Q84.0256 757.382 84.0256 752.735 Q84.0256 748.088 80.3653 745.414 Q76.6732 742.741 70.212 742.741 Q63.7508 742.741 60.0905 745.414 Q56.3984 748.088 56.3984 752.735 Q56.3984 757.382 60.0905 760.055 Q63.7508 762.697 70.212 762.697 Z\" fill=\"#000000\" fill-rule=\"evenodd\" fill-opacity=\"1\" /><path clip-path=\"url(#clip730)\" d=\"M 0 0 M68.7161 700.25 L71.5806 700.25 L71.5806 727.177 Q77.6281 726.795 80.8109 723.548 Q83.9619 720.27 83.9619 714.445 Q83.9619 711.071 83.1344 707.92 Q82.3069 704.737 80.6518 701.618 L86.1899 701.618 Q87.5267 704.769 88.227 708.079 Q88.9272 711.39 88.9272 714.795 Q88.9272 723.325 83.9619 728.322 Q78.9967 733.288 70.5303 733.288 Q61.7774 733.288 56.6531 728.577 Q51.4968 723.835 51.4968 715.814 Q51.4968 708.621 56.1438 704.451 Q60.7589 700.25 68.7161 700.25 M66.9973 706.106 Q62.1912 706.17 59.3266 708.812 Q56.4621 711.421 56.4621 715.75 Q56.4621 720.652 59.2312 723.612 Q62.0002 726.54 67.0292 726.986 L66.9973 706.106 Z\" fill=\"#000000\" fill-rule=\"evenodd\" fill-opacity=\"1\" /><path clip-path=\"url(#clip730)\" d=\"M 0 0 M57.8307 673.45 Q57.2578 674.437 57.0032 675.614 Q56.7167 676.76 56.7167 678.161 Q56.7167 683.126 59.9632 685.799 Q63.1779 688.441 69.2253 688.441 L88.0042 688.441 L88.0042 694.33 L52.3562 694.33 L52.3562 688.441 L57.8944 688.441 Q54.6479 686.595 53.0883 683.635 Q51.4968 680.675 51.4968 676.442 Q51.4968 675.837 51.5923 675.105 Q51.656 674.373 51.8151 673.482 L57.8307 673.45 Z\" fill=\"#000000\" fill-rule=\"evenodd\" fill-opacity=\"1\" /><path clip-path=\"url(#clip730)\" d=\"M 0 0 M79.9197 672.463 L79.9197 665.748 L88.0042 665.748 L88.0042 672.463 L79.9197 672.463 Z\" fill=\"#000000\" fill-rule=\"evenodd\" fill-opacity=\"1\" /><path clip-path=\"url(#clip730)\" d=\"M 0 0 M66.4881 629.972 L88.0042 629.972 L88.0042 635.829 L66.679 635.829 Q61.6183 635.829 59.1038 637.802 Q56.5894 639.775 56.5894 643.722 Q56.5894 648.465 59.6131 651.202 Q62.6368 653.939 67.8567 653.939 L88.0042 653.939 L88.0042 659.827 L52.3562 659.827 L52.3562 653.939 L57.8944 653.939 Q54.6797 651.838 53.0883 649.006 Q51.4968 646.141 51.4968 642.417 Q51.4968 636.274 55.3163 633.123 Q59.1038 629.972 66.4881 629.972 Z\" fill=\"#000000\" fill-rule=\"evenodd\" fill-opacity=\"1\" /><path clip-path=\"url(#clip730)\" d=\"M 0 0 M82.5933 621.888 L82.5933 611.384 L46.3406 611.384 L48.6323 622.811 L42.7758 622.811 L40.4842 611.448 L40.4842 605.019 L82.5933 605.019 L82.5933 594.515 L88.0042 594.515 L88.0042 621.888 L82.5933 621.888 Z\" fill=\"#000000\" fill-rule=\"evenodd\" fill-opacity=\"1\" /><circle clip-path=\"url(#clip732)\" cx=\"1804.97\" cy=\"1372.3\" r=\"10\" fill=\"#190b3e\" fill-rule=\"evenodd\" fill-opacity=\"1\" stroke=\"#000000\" stroke-opacity=\"1\" stroke-width=\"3.2\"/>\n",
       "<circle clip-path=\"url(#clip732)\" cx=\"785.052\" cy=\"85.838\" r=\"19\" fill=\"#550f6d\" fill-rule=\"evenodd\" fill-opacity=\"1\" stroke=\"#000000\" stroke-opacity=\"1\" stroke-width=\"3.2\"/>\n",
       "<circle clip-path=\"url(#clip732)\" cx=\"1804.97\" cy=\"1000.66\" r=\"8\" fill=\"#0d0828\" fill-rule=\"evenodd\" fill-opacity=\"1\" stroke=\"#000000\" stroke-opacity=\"1\" stroke-width=\"3.2\"/>\n",
       "<circle clip-path=\"url(#clip732)\" cx=\"1040.76\" cy=\"85.838\" r=\"13\" fill=\"#2f0a5b\" fill-rule=\"evenodd\" fill-opacity=\"1\" stroke=\"#000000\" stroke-opacity=\"1\" stroke-width=\"3.2\"/>\n",
       "<circle clip-path=\"url(#clip732)\" cx=\"538.54\" cy=\"1000.66\" r=\"33\" fill=\"#b53457\" fill-rule=\"evenodd\" fill-opacity=\"1\" stroke=\"#000000\" stroke-opacity=\"1\" stroke-width=\"3.2\"/>\n",
       "<circle clip-path=\"url(#clip732)\" cx=\"1296.2\" cy=\"1372.3\" r=\"15\" fill=\"#390963\" fill-rule=\"evenodd\" fill-opacity=\"1\" stroke=\"#000000\" stroke-opacity=\"1\" stroke-width=\"3.2\"/>\n",
       "<circle clip-path=\"url(#clip732)\" cx=\"1550.41\" cy=\"457.483\" r=\"6\" fill=\"#06041a\" fill-rule=\"evenodd\" fill-opacity=\"1\" stroke=\"#000000\" stroke-opacity=\"1\" stroke-width=\"3.2\"/>\n",
       "<circle clip-path=\"url(#clip732)\" cx=\"1040.76\" cy=\"1186.48\" r=\"17\" fill=\"#470b69\" fill-rule=\"evenodd\" fill-opacity=\"1\" stroke=\"#000000\" stroke-opacity=\"1\" stroke-width=\"3.2\"/>\n",
       "<circle clip-path=\"url(#clip732)\" cx=\"538.54\" cy=\"1186.48\" r=\"38\" fill=\"#d54940\" fill-rule=\"evenodd\" fill-opacity=\"1\" stroke=\"#000000\" stroke-opacity=\"1\" stroke-width=\"3.2\"/>\n",
       "<circle clip-path=\"url(#clip732)\" cx=\"278.297\" cy=\"85.838\" r=\"37\" fill=\"#cf4445\" fill-rule=\"evenodd\" fill-opacity=\"1\" stroke=\"#000000\" stroke-opacity=\"1\" stroke-width=\"3.2\"/>\n",
       "<circle clip-path=\"url(#clip732)\" cx=\"1040.76\" cy=\"457.483\" r=\"13\" fill=\"#300a5c\" fill-rule=\"evenodd\" fill-opacity=\"1\" stroke=\"#000000\" stroke-opacity=\"1\" stroke-width=\"3.2\"/>\n",
       "<circle clip-path=\"url(#clip732)\" cx=\"785.052\" cy=\"457.483\" r=\"20\" fill=\"#5d126e\" fill-rule=\"evenodd\" fill-opacity=\"1\" stroke=\"#000000\" stroke-opacity=\"1\" stroke-width=\"3.2\"/>\n",
       "<circle clip-path=\"url(#clip732)\" cx=\"1296.2\" cy=\"271.661\" r=\"8\" fill=\"#0f092c\" fill-rule=\"evenodd\" fill-opacity=\"1\" stroke=\"#000000\" stroke-opacity=\"1\" stroke-width=\"3.2\"/>\n",
       "<circle clip-path=\"url(#clip732)\" cx=\"278.297\" cy=\"1000.66\" r=\"51\" fill=\"#fbaa0e\" fill-rule=\"evenodd\" fill-opacity=\"1\" stroke=\"#000000\" stroke-opacity=\"1\" stroke-width=\"3.2\"/>\n",
       "<circle clip-path=\"url(#clip732)\" cx=\"1550.41\" cy=\"643.306\" r=\"6\" fill=\"#050418\" fill-rule=\"evenodd\" fill-opacity=\"1\" stroke=\"#000000\" stroke-opacity=\"1\" stroke-width=\"3.2\"/>\n",
       "<circle clip-path=\"url(#clip732)\" cx=\"1040.76\" cy=\"643.306\" r=\"14\" fill=\"#34095f\" fill-rule=\"evenodd\" fill-opacity=\"1\" stroke=\"#000000\" stroke-opacity=\"1\" stroke-width=\"3.2\"/>\n",
       "<circle clip-path=\"url(#clip732)\" cx=\"1040.76\" cy=\"1000.66\" r=\"15\" fill=\"#3b0964\" fill-rule=\"evenodd\" fill-opacity=\"1\" stroke=\"#000000\" stroke-opacity=\"1\" stroke-width=\"3.2\"/>\n",
       "<circle clip-path=\"url(#clip732)\" cx=\"1040.76\" cy=\"1372.3\" r=\"22\" fill=\"#69166e\" fill-rule=\"evenodd\" fill-opacity=\"1\" stroke=\"#000000\" stroke-opacity=\"1\" stroke-width=\"3.2\"/>\n",
       "<circle clip-path=\"url(#clip732)\" cx=\"278.297\" cy=\"271.661\" r=\"38\" fill=\"#d34841\" fill-rule=\"evenodd\" fill-opacity=\"1\" stroke=\"#000000\" stroke-opacity=\"1\" stroke-width=\"3.2\"/>\n",
       "<circle clip-path=\"url(#clip732)\" cx=\"538.54\" cy=\"271.661\" r=\"26\" fill=\"#84206b\" fill-rule=\"evenodd\" fill-opacity=\"1\" stroke=\"#000000\" stroke-opacity=\"1\" stroke-width=\"3.2\"/>\n",
       "<circle clip-path=\"url(#clip732)\" cx=\"2059.33\" cy=\"1372.3\" r=\"6\" fill=\"#040315\" fill-rule=\"evenodd\" fill-opacity=\"1\" stroke=\"#000000\" stroke-opacity=\"1\" stroke-width=\"3.2\"/>\n",
       "<circle clip-path=\"url(#clip732)\" cx=\"1296.2\" cy=\"85.838\" r=\"9\" fill=\"#130a34\" fill-rule=\"evenodd\" fill-opacity=\"1\" stroke=\"#000000\" stroke-opacity=\"1\" stroke-width=\"3.2\"/>\n",
       "<circle clip-path=\"url(#clip732)\" cx=\"785.052\" cy=\"643.306\" r=\"21\" fill=\"#67166e\" fill-rule=\"evenodd\" fill-opacity=\"1\" stroke=\"#000000\" stroke-opacity=\"1\" stroke-width=\"3.2\"/>\n",
       "<circle clip-path=\"url(#clip732)\" cx=\"278.297\" cy=\"1372.3\" r=\"61\" fill=\"#fcfea4\" fill-rule=\"evenodd\" fill-opacity=\"1\" stroke=\"#000000\" stroke-opacity=\"1\" stroke-width=\"3.2\"/>\n",
       "<circle clip-path=\"url(#clip732)\" cx=\"1804.97\" cy=\"85.838\" r=\"3\" fill=\"#000003\" fill-rule=\"evenodd\" fill-opacity=\"1\" stroke=\"#000000\" stroke-opacity=\"1\" stroke-width=\"3.2\"/>\n",
       "<circle clip-path=\"url(#clip732)\" cx=\"2059.33\" cy=\"85.838\" r=\"11\" fill=\"#1e0c46\" fill-rule=\"evenodd\" fill-opacity=\"1\" stroke=\"#000000\" stroke-opacity=\"1\" stroke-width=\"3.2\"/>\n",
       "<circle clip-path=\"url(#clip732)\" cx=\"1296.2\" cy=\"1186.48\" r=\"11\" fill=\"#1f0c47\" fill-rule=\"evenodd\" fill-opacity=\"1\" stroke=\"#000000\" stroke-opacity=\"1\" stroke-width=\"3.2\"/>\n",
       "<circle clip-path=\"url(#clip732)\" cx=\"1550.41\" cy=\"271.661\" r=\"8\" fill=\"#0d0829\" fill-rule=\"evenodd\" fill-opacity=\"1\" stroke=\"#000000\" stroke-opacity=\"1\" stroke-width=\"3.2\"/>\n",
       "<circle clip-path=\"url(#clip732)\" cx=\"1550.41\" cy=\"1372.3\" r=\"9\" fill=\"#130a33\" fill-rule=\"evenodd\" fill-opacity=\"1\" stroke=\"#000000\" stroke-opacity=\"1\" stroke-width=\"3.2\"/>\n",
       "<circle clip-path=\"url(#clip732)\" cx=\"1040.76\" cy=\"814.835\" r=\"14\" fill=\"#380962\" fill-rule=\"evenodd\" fill-opacity=\"1\" stroke=\"#000000\" stroke-opacity=\"1\" stroke-width=\"3.2\"/>\n",
       "<circle clip-path=\"url(#clip732)\" cx=\"278.297\" cy=\"1186.48\" r=\"55\" fill=\"#f6d543\" fill-rule=\"evenodd\" fill-opacity=\"1\" stroke=\"#000000\" stroke-opacity=\"1\" stroke-width=\"3.2\"/>\n",
       "<circle clip-path=\"url(#clip732)\" cx=\"1550.41\" cy=\"85.838\" r=\"8\" fill=\"#0d0828\" fill-rule=\"evenodd\" fill-opacity=\"1\" stroke=\"#000000\" stroke-opacity=\"1\" stroke-width=\"3.2\"/>\n",
       "<circle clip-path=\"url(#clip732)\" cx=\"2059.33\" cy=\"457.483\" r=\"5\" fill=\"#02020f\" fill-rule=\"evenodd\" fill-opacity=\"1\" stroke=\"#000000\" stroke-opacity=\"1\" stroke-width=\"3.2\"/>\n",
       "<circle clip-path=\"url(#clip732)\" cx=\"785.052\" cy=\"1000.66\" r=\"22\" fill=\"#6d186e\" fill-rule=\"evenodd\" fill-opacity=\"1\" stroke=\"#000000\" stroke-opacity=\"1\" stroke-width=\"3.2\"/>\n",
       "<circle clip-path=\"url(#clip732)\" cx=\"1804.97\" cy=\"814.835\" r=\"7\" fill=\"#08051e\" fill-rule=\"evenodd\" fill-opacity=\"1\" stroke=\"#000000\" stroke-opacity=\"1\" stroke-width=\"3.2\"/>\n",
       "<circle clip-path=\"url(#clip732)\" cx=\"2059.33\" cy=\"1000.66\" r=\"11\" fill=\"#220b4c\" fill-rule=\"evenodd\" fill-opacity=\"1\" stroke=\"#000000\" stroke-opacity=\"1\" stroke-width=\"3.2\"/>\n",
       "<circle clip-path=\"url(#clip732)\" cx=\"278.297\" cy=\"643.306\" r=\"41\" fill=\"#e75e2d\" fill-rule=\"evenodd\" fill-opacity=\"1\" stroke=\"#000000\" stroke-opacity=\"1\" stroke-width=\"3.2\"/>\n",
       "<circle clip-path=\"url(#clip732)\" cx=\"1296.2\" cy=\"643.306\" r=\"9\" fill=\"#120a32\" fill-rule=\"evenodd\" fill-opacity=\"1\" stroke=\"#000000\" stroke-opacity=\"1\" stroke-width=\"3.2\"/>\n",
       "<circle clip-path=\"url(#clip732)\" cx=\"1804.97\" cy=\"271.661\" r=\"5\" fill=\"#02020e\" fill-rule=\"evenodd\" fill-opacity=\"1\" stroke=\"#000000\" stroke-opacity=\"1\" stroke-width=\"3.2\"/>\n",
       "<circle clip-path=\"url(#clip732)\" cx=\"1296.2\" cy=\"457.483\" r=\"10\" fill=\"#190b3f\" fill-rule=\"evenodd\" fill-opacity=\"1\" stroke=\"#000000\" stroke-opacity=\"1\" stroke-width=\"3.2\"/>\n",
       "<circle clip-path=\"url(#clip732)\" cx=\"538.54\" cy=\"643.306\" r=\"29\" fill=\"#9d2963\" fill-rule=\"evenodd\" fill-opacity=\"1\" stroke=\"#000000\" stroke-opacity=\"1\" stroke-width=\"3.2\"/>\n",
       "<circle clip-path=\"url(#clip732)\" cx=\"278.297\" cy=\"814.835\" r=\"43\" fill=\"#ed6924\" fill-rule=\"evenodd\" fill-opacity=\"1\" stroke=\"#000000\" stroke-opacity=\"1\" stroke-width=\"3.2\"/>\n",
       "<circle clip-path=\"url(#clip732)\" cx=\"2059.33\" cy=\"643.306\" r=\"4\" fill=\"#01010b\" fill-rule=\"evenodd\" fill-opacity=\"1\" stroke=\"#000000\" stroke-opacity=\"1\" stroke-width=\"3.2\"/>\n",
       "<circle clip-path=\"url(#clip732)\" cx=\"1804.97\" cy=\"643.306\" r=\"7\" fill=\"#090621\" fill-rule=\"evenodd\" fill-opacity=\"1\" stroke=\"#000000\" stroke-opacity=\"1\" stroke-width=\"3.2\"/>\n",
       "<circle clip-path=\"url(#clip732)\" cx=\"1804.97\" cy=\"1186.48\" r=\"8\" fill=\"#110930\" fill-rule=\"evenodd\" fill-opacity=\"1\" stroke=\"#000000\" stroke-opacity=\"1\" stroke-width=\"3.2\"/>\n",
       "<circle clip-path=\"url(#clip732)\" cx=\"785.052\" cy=\"814.835\" r=\"21\" fill=\"#63146e\" fill-rule=\"evenodd\" fill-opacity=\"1\" stroke=\"#000000\" stroke-opacity=\"1\" stroke-width=\"3.2\"/>\n",
       "<circle clip-path=\"url(#clip732)\" cx=\"1550.41\" cy=\"1000.66\" r=\"7\" fill=\"#090621\" fill-rule=\"evenodd\" fill-opacity=\"1\" stroke=\"#000000\" stroke-opacity=\"1\" stroke-width=\"3.2\"/>\n",
       "<circle clip-path=\"url(#clip732)\" cx=\"1040.76\" cy=\"271.661\" r=\"14\" fill=\"#34095f\" fill-rule=\"evenodd\" fill-opacity=\"1\" stroke=\"#000000\" stroke-opacity=\"1\" stroke-width=\"3.2\"/>\n",
       "<circle clip-path=\"url(#clip732)\" cx=\"2059.33\" cy=\"271.661\" r=\"12\" fill=\"#230b4e\" fill-rule=\"evenodd\" fill-opacity=\"1\" stroke=\"#000000\" stroke-opacity=\"1\" stroke-width=\"3.2\"/>\n",
       "<circle clip-path=\"url(#clip732)\" cx=\"1296.2\" cy=\"814.835\" r=\"11\" fill=\"#1d0c45\" fill-rule=\"evenodd\" fill-opacity=\"1\" stroke=\"#000000\" stroke-opacity=\"1\" stroke-width=\"3.2\"/>\n",
       "<circle clip-path=\"url(#clip732)\" cx=\"785.052\" cy=\"271.661\" r=\"19\" fill=\"#57106d\" fill-rule=\"evenodd\" fill-opacity=\"1\" stroke=\"#000000\" stroke-opacity=\"1\" stroke-width=\"3.2\"/>\n",
       "<circle clip-path=\"url(#clip732)\" cx=\"1550.41\" cy=\"814.835\" r=\"8\" fill=\"#0d0828\" fill-rule=\"evenodd\" fill-opacity=\"1\" stroke=\"#000000\" stroke-opacity=\"1\" stroke-width=\"3.2\"/>\n",
       "<circle clip-path=\"url(#clip732)\" cx=\"1804.97\" cy=\"457.483\" r=\"5\" fill=\"#030210\" fill-rule=\"evenodd\" fill-opacity=\"1\" stroke=\"#000000\" stroke-opacity=\"1\" stroke-width=\"3.2\"/>\n",
       "<circle clip-path=\"url(#clip732)\" cx=\"785.052\" cy=\"1372.3\" r=\"34\" fill=\"#c03951\" fill-rule=\"evenodd\" fill-opacity=\"1\" stroke=\"#000000\" stroke-opacity=\"1\" stroke-width=\"3.2\"/>\n",
       "<circle clip-path=\"url(#clip732)\" cx=\"1550.41\" cy=\"1186.48\" r=\"7\" fill=\"#0a0622\" fill-rule=\"evenodd\" fill-opacity=\"1\" stroke=\"#000000\" stroke-opacity=\"1\" stroke-width=\"3.2\"/>\n",
       "<circle clip-path=\"url(#clip732)\" cx=\"2059.33\" cy=\"1186.48\" r=\"9\" fill=\"#120a31\" fill-rule=\"evenodd\" fill-opacity=\"1\" stroke=\"#000000\" stroke-opacity=\"1\" stroke-width=\"3.2\"/>\n",
       "<circle clip-path=\"url(#clip732)\" cx=\"2059.33\" cy=\"814.835\" r=\"6\" fill=\"#060419\" fill-rule=\"evenodd\" fill-opacity=\"1\" stroke=\"#000000\" stroke-opacity=\"1\" stroke-width=\"3.2\"/>\n",
       "<circle clip-path=\"url(#clip732)\" cx=\"538.54\" cy=\"1372.3\" r=\"46\" fill=\"#f68012\" fill-rule=\"evenodd\" fill-opacity=\"1\" stroke=\"#000000\" stroke-opacity=\"1\" stroke-width=\"3.2\"/>\n",
       "<circle clip-path=\"url(#clip732)\" cx=\"1296.2\" cy=\"1000.66\" r=\"10\" fill=\"#1a0b3f\" fill-rule=\"evenodd\" fill-opacity=\"1\" stroke=\"#000000\" stroke-opacity=\"1\" stroke-width=\"3.2\"/>\n",
       "<circle clip-path=\"url(#clip732)\" cx=\"785.052\" cy=\"1186.48\" r=\"25\" fill=\"#7f1e6c\" fill-rule=\"evenodd\" fill-opacity=\"1\" stroke=\"#000000\" stroke-opacity=\"1\" stroke-width=\"3.2\"/>\n",
       "<circle clip-path=\"url(#clip732)\" cx=\"278.297\" cy=\"457.483\" r=\"40\" fill=\"#e25833\" fill-rule=\"evenodd\" fill-opacity=\"1\" stroke=\"#000000\" stroke-opacity=\"1\" stroke-width=\"3.2\"/>\n",
       "<circle clip-path=\"url(#clip732)\" cx=\"538.54\" cy=\"457.483\" r=\"27\" fill=\"#8d2368\" fill-rule=\"evenodd\" fill-opacity=\"1\" stroke=\"#000000\" stroke-opacity=\"1\" stroke-width=\"3.2\"/>\n",
       "<circle clip-path=\"url(#clip732)\" cx=\"538.54\" cy=\"814.835\" r=\"29\" fill=\"#9b2864\" fill-rule=\"evenodd\" fill-opacity=\"1\" stroke=\"#000000\" stroke-opacity=\"1\" stroke-width=\"3.2\"/>\n",
       "<circle clip-path=\"url(#clip732)\" cx=\"538.54\" cy=\"85.838\" r=\"25\" fill=\"#821f6b\" fill-rule=\"evenodd\" fill-opacity=\"1\" stroke=\"#000000\" stroke-opacity=\"1\" stroke-width=\"3.2\"/>\n",
       "<defs>\n",
       "  <clipPath id=\"clip733\">\n",
       "    <rect x=\"2160\" y=\"47\" width=\"73\" height=\"1365\"/>\n",
       "  </clipPath>\n",
       "</defs>\n",
       "<g clip-path=\"url(#clip733)\">\n",
       "<image width=\"72\" height=\"1364\" xlink:href=\"data:image/png;base64,\n",
       "iVBORw0KGgoAAAANSUhEUgAAAEgAAAVUCAYAAABzwV4AAAAL0klEQVR4nO3dwY3sRhAFQY5Q/lsh\n",
       "L6XfLQtUeSQPERYsEg+zZJM7+/v3/H0f/tdfb/8AXydQECgIFAQKc+6/b/8Mn2ZBQaAgUBAozL1/\n",
       "3v4ZPs2CgkBBoCBQcCUdLCgIFAQKAgWBwly/xVYWFAQKAgWBwtzjQ3pjQUGgIFAQKLiSDhYUBAoC\n",
       "BYGCQMFvsWBBQaAgUBAoOA8KFhQECgIFgcI8rqRXFhQECgIFgYJAwXlQsKAgUBAoCBTmcR60sqAg\n",
       "UBAoCBTmOf+8/TN8mgUFgYJAQaAgUPBUI1hQECgIFAQKzoOCBQWBgkBBoOBDOlhQECgIFAQKAgXn\n",
       "QcGCgkBBoCBQmJ9bjZUFBYGCQEGgMM/xpf8bCwoCBYGCQEGg4FYjWFAQKAgUBApuNYIFBYGCQEGg\n",
       "4P2gYEFBoCBQECgIFObnVmNlQUGgIFAQKHiJM1hQECgIFAQKrqSDBQWBgkBBoCBQ8Og5WFAQKAgU\n",
       "BApuNYIFBYGCQEGg4Eo6WFAQKAgUBAoCBbcawYKCQEGgIFCY55y3f4ZPs6AgUBAoCBRcSQcLCgIF\n",
       "gYJAQaDgqUawoCBQECgIFHxIBwsKAgWBgkBhfg7tVxYUBAoCBYGCQMGtRrCgIFAQKAgUvB8ULCgI\n",
       "FAQKAgXnQcGCgkBBoCBQECg4DwoWFAQKAgWBgvOgYEFBoCBQECj4kA4WFAQKAgWBgkDBXz0HCwoC\n",
       "BYGCQMGtRrCgIFAQKAgUfEgHCwoCBYGCQEGg4LdYsKAgUBAoCBR8SAcLCgIFgYJAYZ7rQ3pjQUGg\n",
       "IFAQKAgU3GoECwoCBYGCQMGHdLCgIFAQKAgUfEgHCwoCBYGCQEGgMM+5b/8Mn2ZBQaAgUBAouNUI\n",
       "FhQECgIFgYIr6WBBQaAgUBAoCBTcagQLCgIFgYJAwa1GsKAgUBAoCBTmcSG9sqAgUBAoCBQECvNc\n",
       "txobCwoCBYGCQMGtRrCgIFAQKAgUfEgHCwoCBYGCQEGgML4Eb2dBQaAgUBAouNUIFhQECgIFgYIP\n",
       "6WBBQaAgUBAoCBTmOb+3f4ZPs6AgUBAoCBTmXh/SGwsKAgWBgkDBeVCwoCBQECgIFBx3BAsKAgWB\n",
       "gkBBoDD3aLRRJwgUBAoCBbcawYKCQEGgIFCYx5PVlQUFgYJAQaAgUJjrVmNlQUGgIFAQKMzj0H6l\n",
       "ThAoCBQECq6kgwUFgYJAQaAgUPBUI1hQECgIFAQKXuIM6gSBgkBBoOAlzmBBQaAgUBAoCBQ81QgW\n",
       "FAQKAgWBwtyr0UadIFAQKAgUnAcFCwoCBYGCQEGg4DwoWFAQKAgUBArzOA9aqRMECgIFgYIr6WBB\n",
       "QaAgUBAoCBT8FgsWFAQKAgWBgj/qDRYUBAoCBYGCP+oN6gSBgkBBoCBQ8P/mgwUFgYJAQaDg0D5Y\n",
       "UBAoCBQECr70P6gTBAoCBYGCQMF5ULCgIFAQKAgUnAcFCwoCBYGCQMGVdLCgIFAQKAgUBArecg3q\n",
       "BIGCQEGg4FYjWFAQKAgUBAoO7YMFBYGCQEGgIFBwqxEsKAgUBAoCBf+6JlhQECgIFAQK/glkUCcI\n",
       "FAQKAgWBgvOgYEFBoCBQECh49BwsKAgUBAoCBVfSwYKCQEGgIFAQKMzxW2xlQUGgIFAQKPij3qBO\n",
       "ECgIFAQKzoOCBQWBgkBBoCBQ8FssWFAQKAgUBAreDwoWFAQKAgWBgivpYEFBoCBQECgIFPwWCxYU\n",
       "BAoCBYGCr6YI6gSBgkBBoDDHof3KgoJAQaAgUBAoOA8KFhQECgIFgYIP6WBBQaAgUBAo+JAOFhQE\n",
       "CgIFgYJAwfcHBQsKAgWBgkDBrUawoCBQECgIFHxIBwsKAgWBgkBBoOBPEYI6QaAgUBAo+FOEYEFB\n",
       "oCBQECg4DwoWFAQKAgWBgkDBb7FgQUGgIFAQKHiJM1hQECgIFAQKrqSDBQWBgkBBoCBQmPv4Lbax\n",
       "oCBQECgIFJwHBQsKAgWBgkDBeVCwoCBQECgIFAQKbjWCBQWBgkBBoOBWI1hQECgIFAQKrqSDBQWB\n",
       "gkBBoCBQcKsRLCgIFAQKAgUf0sGCgkBBoCBQmONN+5UFBYGCQEGg4Eo6WFAQKAgUBAoCBY+egwUF\n",
       "gYJAQaAw9779I3ybBQWBgkBBoOBKOlhQECgIFAQKAgVf8hYsKAgUBAoCBbcawYKCQEGgIFDwflCw\n",
       "oCBQECgIFAQK/hQhWFAQKAgUBAreDwoWFAQKAgWBgkP7YEFBoCBQECgIFDzVCBYUBAoCBYGCQ/tg\n",
       "QUGgIFAQKDgPChYUBAoCBYGCQMGj52BBQaAgUBAoOA8KFhQECgIFgYInq8GCgkBBoCBQECjMefsn\n",
       "+DgLCgIFgYJAwa1GsKAgUBAoCBS8HxQsKAgUBAoCBYGC86BgQUGgIFAQKDgPChYUBAoCBYGCK+lg\n",
       "QUGgIFAQKAgU3GoECwoCBYGCQMGj52BBQaAgUBAojC9e2FlQECgIFAQKAgW3GsGCgkBBoCBQ8Og5\n",
       "WFAQKAgUBAqerAYLCgIFgYJAQaDgViNYUBAoCBQECm41ggUFgYJAQaAwxwtCKwsKAgWBgkBBoOA8\n",
       "KFhQECgIFAQKzoOCBQWBgkBBoOBKOlhQECgIFAQKAgX/bz5YUBAoCBQECv7ffLCgIFAQKAgUvB8U\n",
       "LCgIFAQKAgWBgm/BCxYUBAoCBYGCL3kLFhQECgIFgYInq8GCgkBBoCBQECh4yzVYUBAoCBQECv5e\n",
       "LFhQECgIFAQKrqSDBQWBgkBBoCBQ8JZrsKAgUBAoCBS8xBksKAgUBAoCBVfSwYKCQEGgIFAQKHjL\n",
       "NVhQECgIFAQKvj8oWFAQKAgUBArOg4IFBYGCQEGgIFDw6DlYUBAoCBQECm41ggUFgYJAQaDgSjpY\n",
       "UBAoCBQECgIFtxrBgoJAQaAgUPAhHSwoCBQECgIF50HBgoJAQaAgUBAouNUIFhQECgIFgYJbjWBB\n",
       "QaAgUBAouJIOFhQECgIFgYJAwfcHBQsKAgWBgkDBv64JFhQECgIFgYLzoGBBQaAgUBAoCBTmPn6N\n",
       "bSwoCBQECgIFtxrBgoJAQaAgUPBkNVhQECgIFAQKnqwGCwoCBYGCQEGg4DwoWFAQKAgUBAqerAYL\n",
       "CgIFgYJAwZV0sKAgUBAoCBQECr4/KFhQECgIFAQKc7wgtLKgIFAQKAgUvB8ULCgIFAQKAgWBwly3\n",
       "GisLCgIFgYJAwa1GsKAgUBAoCBQc2gcLCgIFgYJAQaDg/aBgQUGgIFAQKMzx92IrCwoCBYGCQMF5\n",
       "ULCgIFAQKAgUBAq+miJYUBAoCBQECt4PChYUBAoCBYGCQ/tgQUGgIFAQKAgUnAcFCwoCBYGCQGHO\n",
       "40RoY0FBoCBQECg4DwoWFAQKAgWBgkDBb7FgQUGgIFAQKDi0DxYUBAoCBYGCQ/tgQUGgIFAQKAgU\n",
       "5vzcamwsKAgUBAoCBbcawYKCQEGgIFCY60N6ZUFBoCBQECgIFNxqBAsKAgWBgkBhzs+H9MaCgkBB\n",
       "oCBQcCUdLCgIFAQKAgWBgqcawYKCQEGgIFBwqxEsKAgUBAoCBR/SwYKCQEGgIFAQKHj0HCwoCBQE\n",
       "CgKFuc+ft3+GT7OgIFAQKAgUnAcFCwoCBYGCQEGg4P2gYEFBoCBQECjMuc6DNhYUBAoCBYGCK+lg\n",
       "QUGgIFAQKAgU5nj0vLKgIFAQKAgU3GoECwoCBYGCQMGVdLCgIFAQKAgUBApzr1uNjQUFgYJAQaDg\n",
       "PChYUBAoCBQECl7iDBYUBAoCBYGCQMGtRrCgIFAQKAgU5rrVWFlQECgIFAQKrqSDBQWBgkBBoCBQ\n",
       "mOP9oJUFBYGCQEGg4PukgwUFgYJAQaDgTftgQUGgIFAQKAgUPNUIFhQECgIFgYJbjWBBQaAgUBAo\n",
       "+JAOFhQECgIFgYJAwaPnYEFBoCBQECi41QgWFAQKAgWBwjyerK4sKAgUBAoCBYGCW41gQUGgIFAQ\n",
       "KHiJM1hQECgIFAQK87iSXllQECgIFAQKAgXvBwULCgIFgYJAwaPnYEFBoCBQECg4DwoWFAQKAgWB\n",
       "gkBh7nPf/hk+zYKCQEGgIFBwHhQsKAgUBAoChXlcSa8sKAgUBAoChf8AJ8ztt7m0cDkAAAAASUVO\n",
       "RK5CYII=\n",
       "\" transform=\"translate(2161, 47)\"/>\n",
       "</g>\n",
       "<path clip-path=\"url(#clip730)\" d=\"M 0 0 M2280.7 1348.77 Q2277.09 1348.77 2275.26 1352.34 Q2273.45 1355.88 2273.45 1363.01 Q2273.45 1370.12 2275.26 1373.68 Q2277.09 1377.22 2280.7 1377.22 Q2284.33 1377.22 2286.14 1373.68 Q2287.97 1370.12 2287.97 1363.01 Q2287.97 1355.88 2286.14 1352.34 Q2284.33 1348.77 2280.7 1348.77 M2280.7 1345.07 Q2286.51 1345.07 2289.57 1349.68 Q2292.64 1354.26 2292.64 1363.01 Q2292.64 1371.74 2289.57 1376.34 Q2286.51 1380.93 2280.7 1380.93 Q2274.89 1380.93 2271.81 1376.34 Q2268.76 1371.74 2268.76 1363.01 Q2268.76 1354.26 2271.81 1349.68 Q2274.89 1345.07 2280.7 1345.07 Z\" fill=\"#000000\" fill-rule=\"evenodd\" fill-opacity=\"1\" /><path clip-path=\"url(#clip730)\" d=\"M 0 0 M2297.71 1374.38 L2302.6 1374.38 L2302.6 1380.26 L2297.71 1380.26 L2297.71 1374.38 Z\" fill=\"#000000\" fill-rule=\"evenodd\" fill-opacity=\"1\" /><path clip-path=\"url(#clip730)\" d=\"M 0 0 M2320.51 1349.77 L2308.71 1368.22 L2320.51 1368.22 L2320.51 1349.77 M2319.29 1345.7 L2325.17 1345.7 L2325.17 1368.22 L2330.1 1368.22 L2330.1 1372.11 L2325.17 1372.11 L2325.17 1380.26 L2320.51 1380.26 L2320.51 1372.11 L2304.91 1372.11 L2304.91 1367.59 L2319.29 1345.7 Z\" fill=\"#000000\" fill-rule=\"evenodd\" fill-opacity=\"1\" /><path clip-path=\"url(#clip730)\" d=\"M 0 0 M2345.17 1348.77 Q2341.56 1348.77 2339.73 1352.34 Q2337.92 1355.88 2337.92 1363.01 Q2337.92 1370.12 2339.73 1373.68 Q2341.56 1377.22 2345.17 1377.22 Q2348.8 1377.22 2350.61 1373.68 Q2352.44 1370.12 2352.44 1363.01 Q2352.44 1355.88 2350.61 1352.34 Q2348.8 1348.77 2345.17 1348.77 M2345.17 1345.07 Q2350.98 1345.07 2354.03 1349.68 Q2357.11 1354.26 2357.11 1363.01 Q2357.11 1371.74 2354.03 1376.34 Q2350.98 1380.93 2345.17 1380.93 Q2339.36 1380.93 2336.28 1376.34 Q2333.22 1371.74 2333.22 1363.01 Q2333.22 1354.26 2336.28 1349.68 Q2339.36 1345.07 2345.17 1345.07 Z\" fill=\"#000000\" fill-rule=\"evenodd\" fill-opacity=\"1\" /><path clip-path=\"url(#clip730)\" d=\"M 0 0 M2372.18 1348.77 Q2368.57 1348.77 2366.74 1352.34 Q2364.94 1355.88 2364.94 1363.01 Q2364.94 1370.12 2366.74 1373.68 Q2368.57 1377.22 2372.18 1377.22 Q2375.82 1377.22 2377.62 1373.68 Q2379.45 1370.12 2379.45 1363.01 Q2379.45 1355.88 2377.62 1352.34 Q2375.82 1348.77 2372.18 1348.77 M2372.18 1345.07 Q2377.99 1345.07 2381.05 1349.68 Q2384.13 1354.26 2384.13 1363.01 Q2384.13 1371.74 2381.05 1376.34 Q2377.99 1380.93 2372.18 1380.93 Q2366.37 1380.93 2363.29 1376.34 Q2360.24 1371.74 2360.24 1363.01 Q2360.24 1354.26 2363.29 1349.68 Q2366.37 1345.07 2372.18 1345.07 Z\" fill=\"#000000\" fill-rule=\"evenodd\" fill-opacity=\"1\" /><path clip-path=\"url(#clip730)\" d=\"M 0 0 M2280.7 1189.35 Q2277.09 1189.35 2275.26 1192.91 Q2273.45 1196.45 2273.45 1203.58 Q2273.45 1210.69 2275.26 1214.25 Q2277.09 1217.79 2280.7 1217.79 Q2284.33 1217.79 2286.14 1214.25 Q2287.97 1210.69 2287.97 1203.58 Q2287.97 1196.45 2286.14 1192.91 Q2284.33 1189.35 2280.7 1189.35 M2280.7 1185.64 Q2286.51 1185.64 2289.57 1190.25 Q2292.64 1194.83 2292.64 1203.58 Q2292.64 1212.31 2289.57 1216.91 Q2286.51 1221.5 2280.7 1221.5 Q2274.89 1221.5 2271.81 1216.91 Q2268.76 1212.31 2268.76 1203.58 Q2268.76 1194.83 2271.81 1190.25 Q2274.89 1185.64 2280.7 1185.64 Z\" fill=\"#000000\" fill-rule=\"evenodd\" fill-opacity=\"1\" /><path clip-path=\"url(#clip730)\" d=\"M 0 0 M2297.71 1214.95 L2302.6 1214.95 L2302.6 1220.83 L2297.71 1220.83 L2297.71 1214.95 Z\" fill=\"#000000\" fill-rule=\"evenodd\" fill-opacity=\"1\" /><path clip-path=\"url(#clip730)\" d=\"M 0 0 M2320.51 1190.34 L2308.71 1208.79 L2320.51 1208.79 L2320.51 1190.34 M2319.29 1186.27 L2325.17 1186.27 L2325.17 1208.79 L2330.1 1208.79 L2330.1 1212.68 L2325.17 1212.68 L2325.17 1220.83 L2320.51 1220.83 L2320.51 1212.68 L2304.91 1212.68 L2304.91 1208.16 L2319.29 1186.27 Z\" fill=\"#000000\" fill-rule=\"evenodd\" fill-opacity=\"1\" /><path clip-path=\"url(#clip730)\" d=\"M 0 0 M2339.2 1216.89 L2355.51 1216.89 L2355.51 1220.83 L2333.57 1220.83 L2333.57 1216.89 Q2336.23 1214.14 2340.82 1209.51 Q2345.42 1204.85 2346.6 1203.51 Q2348.85 1200.99 2349.73 1199.25 Q2350.63 1197.49 2350.63 1195.8 Q2350.63 1193.05 2348.69 1191.31 Q2346.76 1189.58 2343.66 1189.58 Q2341.46 1189.58 2339.01 1190.34 Q2336.58 1191.1 2333.8 1192.66 L2333.8 1187.93 Q2336.63 1186.8 2339.08 1186.22 Q2341.53 1185.64 2343.57 1185.64 Q2348.94 1185.64 2352.14 1188.33 Q2355.33 1191.01 2355.33 1195.5 Q2355.33 1197.63 2354.52 1199.55 Q2353.73 1201.45 2351.63 1204.04 Q2351.05 1204.72 2347.95 1207.93 Q2344.84 1211.13 2339.2 1216.89 Z\" fill=\"#000000\" fill-rule=\"evenodd\" fill-opacity=\"1\" /><path clip-path=\"url(#clip730)\" d=\"M 0 0 M2360.63 1186.27 L2378.99 1186.27 L2378.99 1190.2 L2364.91 1190.2 L2364.91 1198.67 Q2365.93 1198.33 2366.95 1198.16 Q2367.97 1197.98 2368.99 1197.98 Q2374.77 1197.98 2378.15 1201.15 Q2381.53 1204.32 2381.53 1209.74 Q2381.53 1215.32 2378.06 1218.42 Q2374.59 1221.5 2368.27 1221.5 Q2366.09 1221.5 2363.82 1221.13 Q2361.58 1220.76 2359.17 1220.02 L2359.17 1215.32 Q2361.26 1216.45 2363.48 1217.01 Q2365.7 1217.56 2368.18 1217.56 Q2372.18 1217.56 2374.52 1215.46 Q2376.86 1213.35 2376.86 1209.74 Q2376.86 1206.13 2374.52 1204.02 Q2372.18 1201.91 2368.18 1201.91 Q2366.3 1201.91 2364.43 1202.33 Q2362.57 1202.75 2360.63 1203.63 L2360.63 1186.27 Z\" fill=\"#000000\" fill-rule=\"evenodd\" fill-opacity=\"1\" /><path clip-path=\"url(#clip730)\" d=\"M 0 0 M2280.7 1029.92 Q2277.09 1029.92 2275.26 1033.48 Q2273.45 1037.02 2273.45 1044.15 Q2273.45 1051.26 2275.26 1054.82 Q2277.09 1058.37 2280.7 1058.37 Q2284.33 1058.37 2286.14 1054.82 Q2287.97 1051.26 2287.97 1044.15 Q2287.97 1037.02 2286.14 1033.48 Q2284.33 1029.92 2280.7 1029.92 M2280.7 1026.21 Q2286.51 1026.21 2289.57 1030.82 Q2292.64 1035.4 2292.64 1044.15 Q2292.64 1052.88 2289.57 1057.49 Q2286.51 1062.07 2280.7 1062.07 Q2274.89 1062.07 2271.81 1057.49 Q2268.76 1052.88 2268.76 1044.15 Q2268.76 1035.4 2271.81 1030.82 Q2274.89 1026.21 2280.7 1026.21 Z\" fill=\"#000000\" fill-rule=\"evenodd\" fill-opacity=\"1\" /><path clip-path=\"url(#clip730)\" d=\"M 0 0 M2297.71 1055.52 L2302.6 1055.52 L2302.6 1061.4 L2297.71 1061.4 L2297.71 1055.52 Z\" fill=\"#000000\" fill-rule=\"evenodd\" fill-opacity=\"1\" /><path clip-path=\"url(#clip730)\" d=\"M 0 0 M2320.51 1030.91 L2308.71 1049.36 L2320.51 1049.36 L2320.51 1030.91 M2319.29 1026.84 L2325.17 1026.84 L2325.17 1049.36 L2330.1 1049.36 L2330.1 1053.25 L2325.17 1053.25 L2325.17 1061.4 L2320.51 1061.4 L2320.51 1053.25 L2304.91 1053.25 L2304.91 1048.74 L2319.29 1026.84 Z\" fill=\"#000000\" fill-rule=\"evenodd\" fill-opacity=\"1\" /><path clip-path=\"url(#clip730)\" d=\"M 0 0 M2335.21 1026.84 L2353.57 1026.84 L2353.57 1030.77 L2339.5 1030.77 L2339.5 1039.25 Q2340.51 1038.9 2341.53 1038.74 Q2342.55 1038.55 2343.57 1038.55 Q2349.36 1038.55 2352.74 1041.72 Q2356.12 1044.89 2356.12 1050.31 Q2356.12 1055.89 2352.64 1058.99 Q2349.17 1062.07 2342.85 1062.07 Q2340.68 1062.07 2338.41 1061.7 Q2336.16 1061.33 2333.76 1060.59 L2333.76 1055.89 Q2335.84 1057.02 2338.06 1057.58 Q2340.28 1058.13 2342.76 1058.13 Q2346.76 1058.13 2349.1 1056.03 Q2351.44 1053.92 2351.44 1050.31 Q2351.44 1046.7 2349.1 1044.59 Q2346.76 1042.49 2342.76 1042.49 Q2340.89 1042.49 2339.01 1042.9 Q2337.16 1043.32 2335.21 1044.2 L2335.21 1026.84 Z\" fill=\"#000000\" fill-rule=\"evenodd\" fill-opacity=\"1\" /><path clip-path=\"url(#clip730)\" d=\"M 0 0 M2371.19 1029.92 Q2367.57 1029.92 2365.75 1033.48 Q2363.94 1037.02 2363.94 1044.15 Q2363.94 1051.26 2365.75 1054.82 Q2367.57 1058.37 2371.19 1058.37 Q2374.82 1058.37 2376.63 1054.82 Q2378.45 1051.26 2378.45 1044.15 Q2378.45 1037.02 2376.63 1033.48 Q2374.82 1029.92 2371.19 1029.92 M2371.19 1026.21 Q2377 1026.21 2380.05 1030.82 Q2383.13 1035.4 2383.13 1044.15 Q2383.13 1052.88 2380.05 1057.49 Q2377 1062.07 2371.19 1062.07 Q2365.38 1062.07 2362.3 1057.49 Q2359.24 1052.88 2359.24 1044.15 Q2359.24 1035.4 2362.3 1030.82 Q2365.38 1026.21 2371.19 1026.21 Z\" fill=\"#000000\" fill-rule=\"evenodd\" fill-opacity=\"1\" /><path clip-path=\"url(#clip730)\" d=\"M 0 0 M2280.7 870.487 Q2277.09 870.487 2275.26 874.052 Q2273.45 877.594 2273.45 884.723 Q2273.45 891.83 2275.26 895.395 Q2277.09 898.936 2280.7 898.936 Q2284.33 898.936 2286.14 895.395 Q2287.97 891.83 2287.97 884.723 Q2287.97 877.594 2286.14 874.052 Q2284.33 870.487 2280.7 870.487 M2280.7 866.784 Q2286.51 866.784 2289.57 871.39 Q2292.64 875.973 2292.64 884.723 Q2292.64 893.45 2289.57 898.057 Q2286.51 902.64 2280.7 902.64 Q2274.89 902.64 2271.81 898.057 Q2268.76 893.45 2268.76 884.723 Q2268.76 875.973 2271.81 871.39 Q2274.89 866.784 2280.7 866.784 Z\" fill=\"#000000\" fill-rule=\"evenodd\" fill-opacity=\"1\" /><path clip-path=\"url(#clip730)\" d=\"M 0 0 M2297.71 896.089 L2302.6 896.089 L2302.6 901.969 L2297.71 901.969 L2297.71 896.089 Z\" fill=\"#000000\" fill-rule=\"evenodd\" fill-opacity=\"1\" /><path clip-path=\"url(#clip730)\" d=\"M 0 0 M2320.51 871.483 L2308.71 889.932 L2320.51 889.932 L2320.51 871.483 M2319.29 867.409 L2325.17 867.409 L2325.17 889.932 L2330.1 889.932 L2330.1 893.821 L2325.17 893.821 L2325.17 901.969 L2320.51 901.969 L2320.51 893.821 L2304.91 893.821 L2304.91 889.307 L2319.29 867.409 Z\" fill=\"#000000\" fill-rule=\"evenodd\" fill-opacity=\"1\" /><path clip-path=\"url(#clip730)\" d=\"M 0 0 M2333.99 867.409 L2356.21 867.409 L2356.21 869.399 L2343.66 901.969 L2338.78 901.969 L2350.58 871.344 L2333.99 871.344 L2333.99 867.409 Z\" fill=\"#000000\" fill-rule=\"evenodd\" fill-opacity=\"1\" /><path clip-path=\"url(#clip730)\" d=\"M 0 0 M2361.32 867.409 L2379.68 867.409 L2379.68 871.344 L2365.61 871.344 L2365.61 879.816 Q2366.63 879.469 2367.64 879.307 Q2368.66 879.122 2369.68 879.122 Q2375.47 879.122 2378.85 882.293 Q2382.23 885.464 2382.23 890.881 Q2382.23 896.459 2378.76 899.561 Q2375.28 902.64 2368.96 902.64 Q2366.79 902.64 2364.52 902.27 Q2362.27 901.899 2359.87 901.158 L2359.87 896.459 Q2361.95 897.594 2364.17 898.149 Q2366.39 898.705 2368.87 898.705 Q2372.88 898.705 2375.21 896.598 Q2377.55 894.492 2377.55 890.881 Q2377.55 887.27 2375.21 885.163 Q2372.88 883.057 2368.87 883.057 Q2367 883.057 2365.12 883.473 Q2363.27 883.89 2361.32 884.77 L2361.32 867.409 Z\" fill=\"#000000\" fill-rule=\"evenodd\" fill-opacity=\"1\" /><path clip-path=\"url(#clip730)\" d=\"M 0 0 M2280.7 711.058 Q2277.09 711.058 2275.26 714.623 Q2273.45 718.165 2273.45 725.294 Q2273.45 732.401 2275.26 735.966 Q2277.09 739.507 2280.7 739.507 Q2284.33 739.507 2286.14 735.966 Q2287.97 732.401 2287.97 725.294 Q2287.97 718.165 2286.14 714.623 Q2284.33 711.058 2280.7 711.058 M2280.7 707.355 Q2286.51 707.355 2289.57 711.961 Q2292.64 716.544 2292.64 725.294 Q2292.64 734.021 2289.57 738.628 Q2286.51 743.211 2280.7 743.211 Q2274.89 743.211 2271.81 738.628 Q2268.76 734.021 2268.76 725.294 Q2268.76 716.544 2271.81 711.961 Q2274.89 707.355 2280.7 707.355 Z\" fill=\"#000000\" fill-rule=\"evenodd\" fill-opacity=\"1\" /><path clip-path=\"url(#clip730)\" d=\"M 0 0 M2297.71 736.66 L2302.6 736.66 L2302.6 742.54 L2297.71 742.54 L2297.71 736.66 Z\" fill=\"#000000\" fill-rule=\"evenodd\" fill-opacity=\"1\" /><path clip-path=\"url(#clip730)\" d=\"M 0 0 M2307.71 707.98 L2326.07 707.98 L2326.07 711.915 L2312 711.915 L2312 720.387 Q2313.01 720.04 2314.03 719.878 Q2315.05 719.692 2316.07 719.692 Q2321.86 719.692 2325.24 722.864 Q2328.62 726.035 2328.62 731.452 Q2328.62 737.03 2325.14 740.132 Q2321.67 743.211 2315.35 743.211 Q2313.18 743.211 2310.91 742.841 Q2308.66 742.47 2306.26 741.729 L2306.26 737.03 Q2308.34 738.165 2310.56 738.72 Q2312.78 739.276 2315.26 739.276 Q2319.26 739.276 2321.6 737.169 Q2323.94 735.063 2323.94 731.452 Q2323.94 727.841 2321.6 725.734 Q2319.26 723.628 2315.26 723.628 Q2313.39 723.628 2311.51 724.044 Q2309.66 724.461 2307.71 725.341 L2307.71 707.98 Z\" fill=\"#000000\" fill-rule=\"evenodd\" fill-opacity=\"1\" /><path clip-path=\"url(#clip730)\" d=\"M 0 0 M2343.69 711.058 Q2340.07 711.058 2338.25 714.623 Q2336.44 718.165 2336.44 725.294 Q2336.44 732.401 2338.25 735.966 Q2340.07 739.507 2343.69 739.507 Q2347.32 739.507 2349.13 735.966 Q2350.95 732.401 2350.95 725.294 Q2350.95 718.165 2349.13 714.623 Q2347.32 711.058 2343.69 711.058 M2343.69 707.355 Q2349.5 707.355 2352.55 711.961 Q2355.63 716.544 2355.63 725.294 Q2355.63 734.021 2352.55 738.628 Q2349.5 743.211 2343.69 743.211 Q2337.88 743.211 2334.8 738.628 Q2331.74 734.021 2331.74 725.294 Q2331.74 716.544 2334.8 711.961 Q2337.88 707.355 2343.69 707.355 Z\" fill=\"#000000\" fill-rule=\"evenodd\" fill-opacity=\"1\" /><path clip-path=\"url(#clip730)\" d=\"M 0 0 M2370.7 711.058 Q2367.09 711.058 2365.26 714.623 Q2363.45 718.165 2363.45 725.294 Q2363.45 732.401 2365.26 735.966 Q2367.09 739.507 2370.7 739.507 Q2374.33 739.507 2376.14 735.966 Q2377.97 732.401 2377.97 725.294 Q2377.97 718.165 2376.14 714.623 Q2374.33 711.058 2370.7 711.058 M2370.7 707.355 Q2376.51 707.355 2379.57 711.961 Q2382.64 716.544 2382.64 725.294 Q2382.64 734.021 2379.57 738.628 Q2376.51 743.211 2370.7 743.211 Q2364.89 743.211 2361.81 738.628 Q2358.76 734.021 2358.76 725.294 Q2358.76 716.544 2361.81 711.961 Q2364.89 707.355 2370.7 707.355 Z\" fill=\"#000000\" fill-rule=\"evenodd\" fill-opacity=\"1\" /><path clip-path=\"url(#clip730)\" d=\"M 0 0 M2280.7 551.629 Q2277.09 551.629 2275.26 555.194 Q2273.45 558.736 2273.45 565.865 Q2273.45 572.972 2275.26 576.537 Q2277.09 580.078 2280.7 580.078 Q2284.33 580.078 2286.14 576.537 Q2287.97 572.972 2287.97 565.865 Q2287.97 558.736 2286.14 555.194 Q2284.33 551.629 2280.7 551.629 M2280.7 547.926 Q2286.51 547.926 2289.57 552.532 Q2292.64 557.115 2292.64 565.865 Q2292.64 574.592 2289.57 579.199 Q2286.51 583.782 2280.7 583.782 Q2274.89 583.782 2271.81 579.199 Q2268.76 574.592 2268.76 565.865 Q2268.76 557.115 2271.81 552.532 Q2274.89 547.926 2280.7 547.926 Z\" fill=\"#000000\" fill-rule=\"evenodd\" fill-opacity=\"1\" /><path clip-path=\"url(#clip730)\" d=\"M 0 0 M2297.71 577.231 L2302.6 577.231 L2302.6 583.111 L2297.71 583.111 L2297.71 577.231 Z\" fill=\"#000000\" fill-rule=\"evenodd\" fill-opacity=\"1\" /><path clip-path=\"url(#clip730)\" d=\"M 0 0 M2307.71 548.551 L2326.07 548.551 L2326.07 552.486 L2312 552.486 L2312 560.958 Q2313.01 560.611 2314.03 560.449 Q2315.05 560.263 2316.07 560.263 Q2321.86 560.263 2325.24 563.435 Q2328.62 566.606 2328.62 572.023 Q2328.62 577.601 2325.14 580.703 Q2321.67 583.782 2315.35 583.782 Q2313.18 583.782 2310.91 583.411 Q2308.66 583.041 2306.26 582.3 L2306.26 577.601 Q2308.34 578.736 2310.56 579.291 Q2312.78 579.847 2315.26 579.847 Q2319.26 579.847 2321.6 577.74 Q2323.94 575.634 2323.94 572.023 Q2323.94 568.412 2321.6 566.305 Q2319.26 564.199 2315.26 564.199 Q2313.39 564.199 2311.51 564.615 Q2309.66 565.032 2307.71 565.912 L2307.71 548.551 Z\" fill=\"#000000\" fill-rule=\"evenodd\" fill-opacity=\"1\" /><path clip-path=\"url(#clip730)\" d=\"M 0 0 M2337.71 579.175 L2354.03 579.175 L2354.03 583.111 L2332.09 583.111 L2332.09 579.175 Q2334.75 576.421 2339.33 571.791 Q2343.94 567.138 2345.12 565.796 Q2347.37 563.273 2348.25 561.537 Q2349.15 559.777 2349.15 558.088 Q2349.15 555.333 2347.2 553.597 Q2345.28 551.861 2342.18 551.861 Q2339.98 551.861 2337.53 552.625 Q2335.1 553.388 2332.32 554.939 L2332.32 550.217 Q2335.14 549.083 2337.6 548.504 Q2340.05 547.926 2342.09 547.926 Q2347.46 547.926 2350.65 550.611 Q2353.85 553.296 2353.85 557.787 Q2353.85 559.916 2353.04 561.838 Q2352.25 563.736 2350.14 566.328 Q2349.57 567 2346.46 570.217 Q2343.36 573.412 2337.71 579.175 Z\" fill=\"#000000\" fill-rule=\"evenodd\" fill-opacity=\"1\" /><path clip-path=\"url(#clip730)\" d=\"M 0 0 M2359.15 548.551 L2377.51 548.551 L2377.51 552.486 L2363.43 552.486 L2363.43 560.958 Q2364.45 560.611 2365.47 560.449 Q2366.49 560.263 2367.51 560.263 Q2373.29 560.263 2376.67 563.435 Q2380.05 566.606 2380.05 572.023 Q2380.05 577.601 2376.58 580.703 Q2373.11 583.782 2366.79 583.782 Q2364.61 583.782 2362.34 583.411 Q2360.1 583.041 2357.69 582.3 L2357.69 577.601 Q2359.77 578.736 2362 579.291 Q2364.22 579.847 2366.7 579.847 Q2370.7 579.847 2373.04 577.74 Q2375.38 575.634 2375.38 572.023 Q2375.38 568.412 2373.04 566.305 Q2370.7 564.199 2366.7 564.199 Q2364.82 564.199 2362.95 564.615 Q2361.09 565.032 2359.15 565.912 L2359.15 548.551 Z\" fill=\"#000000\" fill-rule=\"evenodd\" fill-opacity=\"1\" /><path clip-path=\"url(#clip730)\" d=\"M 0 0 M2280.7 392.2 Q2277.09 392.2 2275.26 395.765 Q2273.45 399.307 2273.45 406.436 Q2273.45 413.543 2275.26 417.107 Q2277.09 420.649 2280.7 420.649 Q2284.33 420.649 2286.14 417.107 Q2287.97 413.543 2287.97 406.436 Q2287.97 399.307 2286.14 395.765 Q2284.33 392.2 2280.7 392.2 M2280.7 388.497 Q2286.51 388.497 2289.57 393.103 Q2292.64 397.686 2292.64 406.436 Q2292.64 415.163 2289.57 419.769 Q2286.51 424.353 2280.7 424.353 Q2274.89 424.353 2271.81 419.769 Q2268.76 415.163 2268.76 406.436 Q2268.76 397.686 2271.81 393.103 Q2274.89 388.497 2280.7 388.497 Z\" fill=\"#000000\" fill-rule=\"evenodd\" fill-opacity=\"1\" /><path clip-path=\"url(#clip730)\" d=\"M 0 0 M2297.71 417.802 L2302.6 417.802 L2302.6 423.682 L2297.71 423.682 L2297.71 417.802 Z\" fill=\"#000000\" fill-rule=\"evenodd\" fill-opacity=\"1\" /><path clip-path=\"url(#clip730)\" d=\"M 0 0 M2307.71 389.122 L2326.07 389.122 L2326.07 393.057 L2312 393.057 L2312 401.529 Q2313.01 401.182 2314.03 401.02 Q2315.05 400.834 2316.07 400.834 Q2321.86 400.834 2325.24 404.006 Q2328.62 407.177 2328.62 412.594 Q2328.62 418.172 2325.14 421.274 Q2321.67 424.353 2315.35 424.353 Q2313.18 424.353 2310.91 423.982 Q2308.66 423.612 2306.26 422.871 L2306.26 418.172 Q2308.34 419.307 2310.56 419.862 Q2312.78 420.418 2315.26 420.418 Q2319.26 420.418 2321.6 418.311 Q2323.94 416.205 2323.94 412.594 Q2323.94 408.983 2321.6 406.876 Q2319.26 404.77 2315.26 404.77 Q2313.39 404.77 2311.51 405.186 Q2309.66 405.603 2307.71 406.483 L2307.71 389.122 Z\" fill=\"#000000\" fill-rule=\"evenodd\" fill-opacity=\"1\" /><path clip-path=\"url(#clip730)\" d=\"M 0 0 M2333.73 389.122 L2352.09 389.122 L2352.09 393.057 L2338.01 393.057 L2338.01 401.529 Q2339.03 401.182 2340.05 401.02 Q2341.07 400.834 2342.09 400.834 Q2347.88 400.834 2351.26 404.006 Q2354.64 407.177 2354.64 412.594 Q2354.64 418.172 2351.16 421.274 Q2347.69 424.353 2341.37 424.353 Q2339.2 424.353 2336.93 423.982 Q2334.68 423.612 2332.27 422.871 L2332.27 418.172 Q2334.36 419.307 2336.58 419.862 Q2338.8 420.418 2341.28 420.418 Q2345.28 420.418 2347.62 418.311 Q2349.96 416.205 2349.96 412.594 Q2349.96 408.983 2347.62 406.876 Q2345.28 404.77 2341.28 404.77 Q2339.4 404.77 2337.53 405.186 Q2335.68 405.603 2333.73 406.483 L2333.73 389.122 Z\" fill=\"#000000\" fill-rule=\"evenodd\" fill-opacity=\"1\" /><path clip-path=\"url(#clip730)\" d=\"M 0 0 M2369.7 392.2 Q2366.09 392.2 2364.26 395.765 Q2362.46 399.307 2362.46 406.436 Q2362.46 413.543 2364.26 417.107 Q2366.09 420.649 2369.7 420.649 Q2373.34 420.649 2375.14 417.107 Q2376.97 413.543 2376.97 406.436 Q2376.97 399.307 2375.14 395.765 Q2373.34 392.2 2369.7 392.2 M2369.7 388.497 Q2375.51 388.497 2378.57 393.103 Q2381.65 397.686 2381.65 406.436 Q2381.65 415.163 2378.57 419.769 Q2375.51 424.353 2369.7 424.353 Q2363.89 424.353 2360.82 419.769 Q2357.76 415.163 2357.76 406.436 Q2357.76 397.686 2360.82 393.103 Q2363.89 388.497 2369.7 388.497 Z\" fill=\"#000000\" fill-rule=\"evenodd\" fill-opacity=\"1\" /><path clip-path=\"url(#clip730)\" d=\"M 0 0 M2280.7 232.771 Q2277.09 232.771 2275.26 236.336 Q2273.45 239.878 2273.45 247.007 Q2273.45 254.114 2275.26 257.678 Q2277.09 261.22 2280.7 261.22 Q2284.33 261.22 2286.14 257.678 Q2287.97 254.114 2287.97 247.007 Q2287.97 239.878 2286.14 236.336 Q2284.33 232.771 2280.7 232.771 M2280.7 229.067 Q2286.51 229.067 2289.57 233.674 Q2292.64 238.257 2292.64 247.007 Q2292.64 255.734 2289.57 260.34 Q2286.51 264.924 2280.7 264.924 Q2274.89 264.924 2271.81 260.34 Q2268.76 255.734 2268.76 247.007 Q2268.76 238.257 2271.81 233.674 Q2274.89 229.067 2280.7 229.067 Z\" fill=\"#000000\" fill-rule=\"evenodd\" fill-opacity=\"1\" /><path clip-path=\"url(#clip730)\" d=\"M 0 0 M2297.71 258.373 L2302.6 258.373 L2302.6 264.252 L2297.71 264.252 L2297.71 258.373 Z\" fill=\"#000000\" fill-rule=\"evenodd\" fill-opacity=\"1\" /><path clip-path=\"url(#clip730)\" d=\"M 0 0 M2307.71 229.692 L2326.07 229.692 L2326.07 233.628 L2312 233.628 L2312 242.1 Q2313.01 241.753 2314.03 241.591 Q2315.05 241.405 2316.07 241.405 Q2321.86 241.405 2325.24 244.577 Q2328.62 247.748 2328.62 253.165 Q2328.62 258.743 2325.14 261.845 Q2321.67 264.924 2315.35 264.924 Q2313.18 264.924 2310.91 264.553 Q2308.66 264.183 2306.26 263.442 L2306.26 258.743 Q2308.34 259.878 2310.56 260.433 Q2312.78 260.989 2315.26 260.989 Q2319.26 260.989 2321.6 258.882 Q2323.94 256.776 2323.94 253.165 Q2323.94 249.553 2321.6 247.447 Q2319.26 245.341 2315.26 245.341 Q2313.39 245.341 2311.51 245.757 Q2309.66 246.174 2307.71 247.053 L2307.71 229.692 Z\" fill=\"#000000\" fill-rule=\"evenodd\" fill-opacity=\"1\" /><path clip-path=\"url(#clip730)\" d=\"M 0 0 M2332.51 229.692 L2354.73 229.692 L2354.73 231.683 L2342.18 264.252 L2337.3 264.252 L2349.1 233.628 L2332.51 233.628 L2332.51 229.692 Z\" fill=\"#000000\" fill-rule=\"evenodd\" fill-opacity=\"1\" /><path clip-path=\"url(#clip730)\" d=\"M 0 0 M2359.84 229.692 L2378.2 229.692 L2378.2 233.628 L2364.13 233.628 L2364.13 242.1 Q2365.14 241.753 2366.16 241.591 Q2367.18 241.405 2368.2 241.405 Q2373.99 241.405 2377.37 244.577 Q2380.75 247.748 2380.75 253.165 Q2380.75 258.743 2377.27 261.845 Q2373.8 264.924 2367.48 264.924 Q2365.31 264.924 2363.04 264.553 Q2360.79 264.183 2358.39 263.442 L2358.39 258.743 Q2360.47 259.878 2362.69 260.433 Q2364.91 260.989 2367.39 260.989 Q2371.39 260.989 2373.73 258.882 Q2376.07 256.776 2376.07 253.165 Q2376.07 249.553 2373.73 247.447 Q2371.39 245.341 2367.39 245.341 Q2365.51 245.341 2363.64 245.757 Q2361.79 246.174 2359.84 247.053 L2359.84 229.692 Z\" fill=\"#000000\" fill-rule=\"evenodd\" fill-opacity=\"1\" /><path clip-path=\"url(#clip730)\" d=\"M 0 0 M2280.7 73.3421 Q2277.09 73.3421 2275.26 76.9069 Q2273.45 80.4486 2273.45 87.5782 Q2273.45 94.6846 2275.26 98.2494 Q2277.09 101.791 2280.7 101.791 Q2284.33 101.791 2286.14 98.2494 Q2287.97 94.6846 2287.97 87.5782 Q2287.97 80.4486 2286.14 76.9069 Q2284.33 73.3421 2280.7 73.3421 M2280.7 69.6384 Q2286.51 69.6384 2289.57 74.2449 Q2292.64 78.8282 2292.64 87.5782 Q2292.64 96.305 2289.57 100.911 Q2286.51 105.495 2280.7 105.495 Q2274.89 105.495 2271.81 100.911 Q2268.76 96.305 2268.76 87.5782 Q2268.76 78.8282 2271.81 74.2449 Q2274.89 69.6384 2280.7 69.6384 Z\" fill=\"#000000\" fill-rule=\"evenodd\" fill-opacity=\"1\" /><path clip-path=\"url(#clip730)\" d=\"M 0 0 M2297.71 98.9438 L2302.6 98.9438 L2302.6 104.823 L2297.71 104.823 L2297.71 98.9438 Z\" fill=\"#000000\" fill-rule=\"evenodd\" fill-opacity=\"1\" /><path clip-path=\"url(#clip730)\" d=\"M 0 0 M2318.25 85.68 Q2315.1 85.68 2313.25 87.8328 Q2311.42 89.9856 2311.42 93.7355 Q2311.42 97.4624 2313.25 99.6383 Q2315.1 101.791 2318.25 101.791 Q2321.39 101.791 2323.22 99.6383 Q2325.08 97.4624 2325.08 93.7355 Q2325.08 89.9856 2323.22 87.8328 Q2321.39 85.68 2318.25 85.68 M2327.53 71.0273 L2327.53 75.2866 Q2325.77 74.4532 2323.96 74.0134 Q2322.18 73.5736 2320.42 73.5736 Q2315.79 73.5736 2313.34 76.6986 Q2310.91 79.8236 2310.56 86.143 Q2311.93 84.1291 2313.99 83.0643 Q2316.05 81.9763 2318.52 81.9763 Q2323.73 81.9763 2326.74 85.1476 Q2329.77 88.2958 2329.77 93.7355 Q2329.77 99.0596 2326.63 102.277 Q2323.48 105.495 2318.25 105.495 Q2312.25 105.495 2309.08 100.911 Q2305.91 96.305 2305.91 87.5782 Q2305.91 79.3838 2309.8 74.5227 Q2313.69 69.6384 2320.24 69.6384 Q2322 69.6384 2323.78 69.9857 Q2325.58 70.3329 2327.53 71.0273 Z\" fill=\"#000000\" fill-rule=\"evenodd\" fill-opacity=\"1\" /><path clip-path=\"url(#clip730)\" d=\"M 0 0 M2344.84 73.3421 Q2341.23 73.3421 2339.4 76.9069 Q2337.6 80.4486 2337.6 87.5782 Q2337.6 94.6846 2339.4 98.2494 Q2341.23 101.791 2344.84 101.791 Q2348.48 101.791 2350.28 98.2494 Q2352.11 94.6846 2352.11 87.5782 Q2352.11 80.4486 2350.28 76.9069 Q2348.48 73.3421 2344.84 73.3421 M2344.84 69.6384 Q2350.65 69.6384 2353.71 74.2449 Q2356.79 78.8282 2356.79 87.5782 Q2356.79 96.305 2353.71 100.911 Q2350.65 105.495 2344.84 105.495 Q2339.03 105.495 2335.95 100.911 Q2332.9 96.305 2332.9 87.5782 Q2332.9 78.8282 2335.95 74.2449 Q2339.03 69.6384 2344.84 69.6384 Z\" fill=\"#000000\" fill-rule=\"evenodd\" fill-opacity=\"1\" /><path clip-path=\"url(#clip730)\" d=\"M 0 0 M2371.86 73.3421 Q2368.25 73.3421 2366.42 76.9069 Q2364.61 80.4486 2364.61 87.5782 Q2364.61 94.6846 2366.42 98.2494 Q2368.25 101.791 2371.86 101.791 Q2375.49 101.791 2377.3 98.2494 Q2379.13 94.6846 2379.13 87.5782 Q2379.13 80.4486 2377.3 76.9069 Q2375.49 73.3421 2371.86 73.3421 M2371.86 69.6384 Q2377.67 69.6384 2380.72 74.2449 Q2383.8 78.8282 2383.8 87.5782 Q2383.8 96.305 2380.72 100.911 Q2377.67 105.495 2371.86 105.495 Q2366.05 105.495 2362.97 100.911 Q2359.91 96.305 2359.91 87.5782 Q2359.91 78.8282 2362.97 74.2449 Q2366.05 69.6384 2371.86 69.6384 Z\" fill=\"#000000\" fill-rule=\"evenodd\" fill-opacity=\"1\" /><polyline clip-path=\"url(#clip730)\" style=\"stroke:#000000; stroke-width:4; stroke-opacity:1; fill:none\" points=\"\n",
       "  2232.76,1410.9 2232.76,1366.6 2256.76,1366.6 2232.76,1366.6 2232.76,1207.18 2256.76,1207.18 2232.76,1207.18 2232.76,1047.75 2256.76,1047.75 2232.76,1047.75 \n",
       "  2232.76,888.317 2256.76,888.317 2232.76,888.317 2232.76,728.888 2256.76,728.888 2232.76,728.888 2232.76,569.459 2256.76,569.459 2232.76,569.459 2232.76,410.03 \n",
       "  2256.76,410.03 2232.76,410.03 2232.76,250.601 2256.76,250.601 2232.76,250.601 2232.76,91.1722 2256.76,91.1722 2232.76,91.1722 2232.76,47.2441 \n",
       "  \"/>\n",
       "</svg>\n"
      ]
     },
     "execution_count": 48,
     "metadata": {},
     "output_type": "execute_result"
    }
   ],
   "source": [
    "plot(self_tuning_nn)"
   ]
  },
  {
   "cell_type": "code",
   "execution_count": 49,
   "metadata": {},
   "outputs": [
    {
     "data": {
      "text/plain": [
       "(best_model = \u001b[34mNeuralNetworkClassifier{CustomNN,…} @362\u001b[39m,\n",
       " best_fitted_params = (chain = Chain(Chain(Dense(41, 100, σ), Dense(100, 2, σ)), softmax),),)"
      ]
     },
     "execution_count": 49,
     "metadata": {},
     "output_type": "execute_result"
    }
   ],
   "source": [
    "best = fitted_params(self_tuning_nn)\n",
    "best"
   ]
  },
  {
   "cell_type": "code",
   "execution_count": 50,
   "metadata": {},
   "outputs": [
    {
     "data": {
      "text/plain": [
       "NeuralNetworkClassifier(\n",
       "    builder = CustomNN(\n",
       "            n1 = 100),\n",
       "    finaliser = NNlib.softmax,\n",
       "    optimiser = ADAM(0.0003333333333333333, (0.9, 0.999), IdDict{Any,Any}()),\n",
       "    loss = Flux.crossentropy,\n",
       "    epochs = 1700,\n",
       "    batch_size = 16,\n",
       "    lambda = 0.01,\n",
       "    alpha = 0.0,\n",
       "    optimiser_changes_trigger_retraining = false)\u001b[34m @362\u001b[39m"
      ]
     },
     "execution_count": 50,
     "metadata": {},
     "output_type": "execute_result"
    }
   ],
   "source": [
    "best.best_model"
   ]
  },
  {
   "cell_type": "code",
   "execution_count": 51,
   "metadata": {
    "scrolled": true
   },
   "outputs": [
    {
     "data": {
      "text/plain": [
       "0.39305457f0"
      ]
     },
     "execution_count": 51,
     "metadata": {},
     "output_type": "execute_result"
    }
   ],
   "source": [
    "best_loss = z.report.best_result.measurement[1]"
   ]
  },
  {
   "cell_type": "code",
   "execution_count": 52,
   "metadata": {
    "scrolled": true
   },
   "outputs": [
    {
     "data": {
      "text/plain": [
       "100"
      ]
     },
     "execution_count": 52,
     "metadata": {},
     "output_type": "execute_result"
    }
   ],
   "source": [
    "best_n1 = best.best_model.builder.n1"
   ]
  },
  {
   "cell_type": "code",
   "execution_count": 53,
   "metadata": {},
   "outputs": [],
   "source": [
    "fn = \"Figures/Grid_NN_$(param1):$(best.best_model.epochs)_x_$(param2):$(best_n1)_bestloss:$(best_loss)\"\n",
    "f = replace(fn,'.' => ',')\n",
    "png(f)"
   ]
  },
  {
   "cell_type": "markdown",
   "metadata": {},
   "source": [
    "### GridSearch for Learning Rate"
   ]
  },
  {
   "cell_type": "code",
   "execution_count": 58,
   "metadata": {
    "scrolled": true
   },
   "outputs": [
    {
     "data": {
      "text/plain": [
       "NeuralNetworkClassifier(\n",
       "    builder = CustomNN(\n",
       "            n1 = 100),\n",
       "    finaliser = NNlib.softmax,\n",
       "    optimiser = ADAM(0.001, (0.9, 0.999), IdDict{Any,Any}()),\n",
       "    loss = Flux.crossentropy,\n",
       "    epochs = 10,\n",
       "    batch_size = 1,\n",
       "    lambda = 0.0,\n",
       "    alpha = 0.0,\n",
       "    optimiser_changes_trigger_retraining = false)\u001b[34m @361\u001b[39m"
      ]
     },
     "execution_count": 58,
     "metadata": {},
     "output_type": "execute_result"
    }
   ],
   "source": [
    "nn = NeuralNetworkClassifier(builder=CustomNN(best_n1))"
   ]
  },
  {
   "cell_type": "code",
   "execution_count": 59,
   "metadata": {},
   "outputs": [
    {
     "data": {
      "text/plain": [
       "0.01"
      ]
     },
     "execution_count": 59,
     "metadata": {},
     "output_type": "execute_result"
    }
   ],
   "source": [
    "nn.optimiser.eta = 0.001\n",
    "nn.epochs = 60\n",
    "nn.batch_size = batch_sz\n",
    "nn.lambda = 0.01"
   ]
  },
  {
   "cell_type": "code",
   "execution_count": 60,
   "metadata": {},
   "outputs": [
    {
     "name": "stderr",
     "output_type": "stream",
     "text": [
      "┌ Warning: The scitype of `X`, in `machine(model, X, ...)` is incompatible with `model=\u001b[34mNeuralNetworkClassifier{CustomNN,…} @361\u001b[39m`:\n",
      "│ scitype(X) = Table{Union{AbstractArray{Continuous,1}, AbstractArray{Count,1}}}\n",
      "│ input_scitype(model) = Table{var\"#s44\"} where var\"#s44\"<:(AbstractArray{var\"#s13\",1} where var\"#s13\"<:Continuous).\n",
      "└ @ MLJBase /home/andrew/.julia/packages/MLJBase/uKzAz/src/machines.jl:77\n"
     ]
    },
    {
     "data": {
      "text/plain": [
       "\u001b[34mMachine{NeuralNetworkClassifier{CustomNN,…}} @572\u001b[39m trained 0 times.\n",
       "  args: \n",
       "    1:\t\u001b[34mSource @961\u001b[39m ⏎ `Table{Union{AbstractArray{Continuous,1}, AbstractArray{Count,1}}}`\n",
       "    2:\t\u001b[34mSource @784\u001b[39m ⏎ `AbstractArray{Multiclass{2},1}`\n"
      ]
     },
     "execution_count": 60,
     "metadata": {},
     "output_type": "execute_result"
    }
   ],
   "source": [
    "Net = machine(nn, X_stand, y)"
   ]
  },
  {
   "cell_type": "code",
   "execution_count": 61,
   "metadata": {},
   "outputs": [
    {
     "name": "stderr",
     "output_type": "stream",
     "text": [
      "┌ Info: Training \u001b[34mMachine{NeuralNetworkClassifier{CustomNN,…}} @572\u001b[39m.\n",
      "└ @ MLJBase /home/andrew/.julia/packages/MLJBase/uKzAz/src/machines.jl:319\n",
      "\u001b[33mOptimising neural net:100%[=========================] Time: 0:00:01\u001b[39m\n"
     ]
    },
    {
     "data": {
      "text/plain": [
       "\u001b[34mMachine{NeuralNetworkClassifier{CustomNN,…}} @572\u001b[39m trained 1 time.\n",
       "  args: \n",
       "    1:\t\u001b[34mSource @961\u001b[39m ⏎ `Table{Union{AbstractArray{Continuous,1}, AbstractArray{Count,1}}}`\n",
       "    2:\t\u001b[34mSource @784\u001b[39m ⏎ `AbstractArray{Multiclass{2},1}`\n"
      ]
     },
     "execution_count": 61,
     "metadata": {},
     "output_type": "execute_result"
    }
   ],
   "source": [
    "fit!(Net, rows=train, verbosity=1, force=true)"
   ]
  },
  {
   "cell_type": "code",
   "execution_count": 63,
   "metadata": {},
   "outputs": [
    {
     "data": {
      "text/plain": [
       "MLJBase.NumericRange(Float64, :(optimiser.eta), ... )"
      ]
     },
     "execution_count": 63,
     "metadata": {},
     "output_type": "execute_result"
    }
   ],
   "source": [
    "param1 = :epochs\n",
    "param2 = :(optimiser.eta)\n",
    "\n",
    "r1 = range(nn, param1, lower=10, upper=2000, scale=:linear)\n",
    "r2 = range(nn, param2, lower=0.0001, upper=0.1, scale=:log10)"
   ]
  },
  {
   "cell_type": "code",
   "execution_count": 64,
   "metadata": {
    "scrolled": true
   },
   "outputs": [
    {
     "data": {
      "text/plain": [
       "ProbabilisticTunedModel(\n",
       "    model = NeuralNetworkClassifier(\n",
       "            builder = \u001b[34mCustomNN @024\u001b[39m,\n",
       "            finaliser = NNlib.softmax,\n",
       "            optimiser = ADAM(0.001, (0.9, 0.999), IdDict{Any,Any}()),\n",
       "            loss = Flux.crossentropy,\n",
       "            epochs = 60,\n",
       "            batch_size = 16,\n",
       "            lambda = 0.01,\n",
       "            alpha = 0.0,\n",
       "            optimiser_changes_trigger_retraining = false),\n",
       "    tuning = Grid(\n",
       "            goal = 50,\n",
       "            resolution = 10,\n",
       "            shuffle = true,\n",
       "            rng = Random._GLOBAL_RNG()),\n",
       "    resampling = Holdout(\n",
       "            fraction_train = 0.7,\n",
       "            shuffle = false,\n",
       "            rng = Random._GLOBAL_RNG()),\n",
       "    measure = cross_entropy(\n",
       "            eps = 2.220446049250313e-16),\n",
       "    weights = nothing,\n",
       "    operation = MLJModelInterface.predict,\n",
       "    range = MLJBase.NumericRange{T,MLJBase.Bounded,Symbol} where T[\u001b[34mNumericRange{Int64,…} @209\u001b[39m, \u001b[34mNumericRange{Float64,…} @977\u001b[39m],\n",
       "    train_best = true,\n",
       "    repeats = 1,\n",
       "    n = nothing,\n",
       "    acceleration = CPUThreads{Int64}(1),\n",
       "    acceleration_resampling = CPU1{Nothing}(nothing),\n",
       "    check_measure = true)\u001b[34m @865\u001b[39m"
      ]
     },
     "execution_count": 64,
     "metadata": {},
     "output_type": "execute_result"
    }
   ],
   "source": [
    "self_tuning_nn_model = TunedModel(model=nn,\n",
    "                                    tuning=Grid(goal=50),\n",
    "                                    resampling=Holdout(fraction_train=0.7), \n",
    "                                    measure=cross_entropy,\n",
    "                                    acceleration=CPUThreads(),\n",
    "                                    range=[r1, r2])"
   ]
  },
  {
   "cell_type": "code",
   "execution_count": 65,
   "metadata": {},
   "outputs": [
    {
     "name": "stderr",
     "output_type": "stream",
     "text": [
      "┌ Warning: The scitype of `X`, in `machine(model, X, ...)` is incompatible with `model=\u001b[34mProbabilisticTunedModel{Grid,…} @865\u001b[39m`:\n",
      "│ scitype(X) = Table{Union{AbstractArray{Continuous,1}, AbstractArray{Count,1}}}\n",
      "│ input_scitype(model) = Table{var\"#s44\"} where var\"#s44\"<:(AbstractArray{var\"#s13\",1} where var\"#s13\"<:Continuous).\n",
      "└ @ MLJBase /home/andrew/.julia/packages/MLJBase/uKzAz/src/machines.jl:77\n"
     ]
    },
    {
     "data": {
      "text/plain": [
       "\u001b[34mMachine{ProbabilisticTunedModel{Grid,…}} @547\u001b[39m trained 0 times.\n",
       "  args: \n",
       "    1:\t\u001b[34mSource @421\u001b[39m ⏎ `Table{Union{AbstractArray{Continuous,1}, AbstractArray{Count,1}}}`\n",
       "    2:\t\u001b[34mSource @260\u001b[39m ⏎ `AbstractArray{Multiclass{2},1}`\n"
      ]
     },
     "execution_count": 65,
     "metadata": {},
     "output_type": "execute_result"
    }
   ],
   "source": [
    "self_tuning_nn = machine(self_tuning_nn_model, X_stand, y)"
   ]
  },
  {
   "cell_type": "code",
   "execution_count": 66,
   "metadata": {
    "scrolled": true
   },
   "outputs": [
    {
     "name": "stderr",
     "output_type": "stream",
     "text": [
      "┌ Info: Training \u001b[34mMachine{ProbabilisticTunedModel{Grid,…}} @547\u001b[39m.\n",
      "└ @ MLJBase /home/andrew/.julia/packages/MLJBase/uKzAz/src/machines.jl:319\n",
      "┌ Info: Attempting to evaluate 49 models.\n",
      "└ @ MLJTuning /home/andrew/.julia/packages/MLJTuning/Bbgvk/src/tuned_models.jl:494\n",
      "┌ Warning: The scitype of `X`, in `machine(model, X, ...)` is incompatible with `model=\u001b[34mResampler{Holdout,…} @831\u001b[39m`:\n",
      "│ scitype(X) = Table{Union{AbstractArray{Continuous,1}, AbstractArray{Count,1}}}\n",
      "│ input_scitype(model) = Table{var\"#s44\"} where var\"#s44\"<:(AbstractArray{var\"#s13\",1} where var\"#s13\"<:Continuous).\n",
      "└ @ MLJBase /home/andrew/.julia/packages/MLJBase/uKzAz/src/machines.jl:77\n",
      "\u001b[33mEvaluating over 49 metamodels:   0%[>                        ]  ETA: N/A\u001b[39m┌ Warning: The scitype of `X`, in `machine(model, X, ...)` is incompatible with `model=\u001b[34mNeuralNetworkClassifier{CustomNN,…} @257\u001b[39m`:\n",
      "│ scitype(X) = Table{Union{AbstractArray{Continuous,1}, AbstractArray{Count,1}}}\n",
      "│ input_scitype(model) = Table{var\"#s44\"} where var\"#s44\"<:(AbstractArray{var\"#s13\",1} where var\"#s13\"<:Continuous).\n",
      "└ @ MLJBase /home/andrew/.julia/packages/MLJBase/uKzAz/src/machines.jl:77\n",
      "\u001b[33mEvaluating over 49 metamodels: 100%[=========================] Time: 0:05:24\u001b[39m\n",
      "┌ Warning: The scitype of `X`, in `machine(model, X, ...)` is incompatible with `model=\u001b[34mNeuralNetworkClassifier{CustomNN,…} @803\u001b[39m`:\n",
      "│ scitype(X) = Table{Union{AbstractArray{Continuous,1}, AbstractArray{Count,1}}}\n",
      "│ input_scitype(model) = Table{var\"#s44\"} where var\"#s44\"<:(AbstractArray{var\"#s13\",1} where var\"#s13\"<:Continuous).\n",
      "└ @ MLJBase /home/andrew/.julia/packages/MLJBase/uKzAz/src/machines.jl:77\n"
     ]
    },
    {
     "data": {
      "text/plain": [
       "\u001b[34mMachine{ProbabilisticTunedModel{Grid,…}} @547\u001b[39m trained 1 time.\n",
       "  args: \n",
       "    1:\t\u001b[34mSource @421\u001b[39m ⏎ `Table{Union{AbstractArray{Continuous,1}, AbstractArray{Count,1}}}`\n",
       "    2:\t\u001b[34mSource @260\u001b[39m ⏎ `AbstractArray{Multiclass{2},1}`\n"
      ]
     },
     "execution_count": 66,
     "metadata": {},
     "output_type": "execute_result"
    }
   ],
   "source": [
    "z = fit!(self_tuning_nn, rows=train)"
   ]
  },
  {
   "cell_type": "code",
   "execution_count": 67,
   "metadata": {
    "scrolled": false
   },
   "outputs": [
    {
     "data": {
      "image/svg+xml": [
       "<?xml version=\"1.0\" encoding=\"utf-8\"?>\n",
       "<svg xmlns=\"http://www.w3.org/2000/svg\" xmlns:xlink=\"http://www.w3.org/1999/xlink\" width=\"600\" height=\"400\" viewBox=\"0 0 2400 1600\">\n",
       "<defs>\n",
       "  <clipPath id=\"clip780\">\n",
       "    <rect x=\"0\" y=\"0\" width=\"2400\" height=\"1600\"/>\n",
       "  </clipPath>\n",
       "</defs>\n",
       "<path clip-path=\"url(#clip780)\" d=\"\n",
       "M0 1600 L2400 1600 L2400 0 L0 0  Z\n",
       "  \" fill=\"#ffffff\" fill-rule=\"evenodd\" fill-opacity=\"1\"/>\n",
       "<defs>\n",
       "  <clipPath id=\"clip781\">\n",
       "    <rect x=\"480\" y=\"0\" width=\"1681\" height=\"1600\"/>\n",
       "  </clipPath>\n",
       "</defs>\n",
       "<path clip-path=\"url(#clip780)\" d=\"\n",
       "M244.308 1423.18 L2112.76 1423.18 L2112.76 47.2441 L244.308 47.2441  Z\n",
       "  \" fill=\"#ffffff\" fill-rule=\"evenodd\" fill-opacity=\"1\"/>\n",
       "<defs>\n",
       "  <clipPath id=\"clip782\">\n",
       "    <rect x=\"244\" y=\"47\" width=\"1869\" height=\"1377\"/>\n",
       "  </clipPath>\n",
       "</defs>\n",
       "<polyline clip-path=\"url(#clip782)\" style=\"stroke:#000000; stroke-width:2; stroke-opacity:0.1; fill:none\" points=\"\n",
       "  288.331,1423.18 288.331,47.2441 \n",
       "  \"/>\n",
       "<polyline clip-path=\"url(#clip782)\" style=\"stroke:#000000; stroke-width:2; stroke-opacity:0.1; fill:none\" points=\"\n",
       "  731.217,1423.18 731.217,47.2441 \n",
       "  \"/>\n",
       "<polyline clip-path=\"url(#clip782)\" style=\"stroke:#000000; stroke-width:2; stroke-opacity:0.1; fill:none\" points=\"\n",
       "  1174.1,1423.18 1174.1,47.2441 \n",
       "  \"/>\n",
       "<polyline clip-path=\"url(#clip782)\" style=\"stroke:#000000; stroke-width:2; stroke-opacity:0.1; fill:none\" points=\"\n",
       "  1616.99,1423.18 1616.99,47.2441 \n",
       "  \"/>\n",
       "<polyline clip-path=\"url(#clip782)\" style=\"stroke:#000000; stroke-width:2; stroke-opacity:0.1; fill:none\" points=\"\n",
       "  2059.88,1423.18 2059.88,47.2441 \n",
       "  \"/>\n",
       "<polyline clip-path=\"url(#clip782)\" style=\"stroke:#000000; stroke-width:2; stroke-opacity:0.1; fill:none\" points=\"\n",
       "  244.308,1384.24 2112.76,1384.24 \n",
       "  \"/>\n",
       "<polyline clip-path=\"url(#clip782)\" style=\"stroke:#000000; stroke-width:2; stroke-opacity:0.1; fill:none\" points=\"\n",
       "  244.308,951.554 2112.76,951.554 \n",
       "  \"/>\n",
       "<polyline clip-path=\"url(#clip782)\" style=\"stroke:#000000; stroke-width:2; stroke-opacity:0.1; fill:none\" points=\"\n",
       "  244.308,518.87 2112.76,518.87 \n",
       "  \"/>\n",
       "<polyline clip-path=\"url(#clip782)\" style=\"stroke:#000000; stroke-width:2; stroke-opacity:0.1; fill:none\" points=\"\n",
       "  244.308,86.1857 2112.76,86.1857 \n",
       "  \"/>\n",
       "<polyline clip-path=\"url(#clip780)\" style=\"stroke:#000000; stroke-width:4; stroke-opacity:1; fill:none\" points=\"\n",
       "  244.308,1423.18 2112.76,1423.18 \n",
       "  \"/>\n",
       "<polyline clip-path=\"url(#clip780)\" style=\"stroke:#000000; stroke-width:4; stroke-opacity:1; fill:none\" points=\"\n",
       "  244.308,1423.18 244.308,47.2441 \n",
       "  \"/>\n",
       "<polyline clip-path=\"url(#clip780)\" style=\"stroke:#000000; stroke-width:4; stroke-opacity:1; fill:none\" points=\"\n",
       "  288.331,1423.18 288.331,1406.67 \n",
       "  \"/>\n",
       "<polyline clip-path=\"url(#clip780)\" style=\"stroke:#000000; stroke-width:4; stroke-opacity:1; fill:none\" points=\"\n",
       "  731.217,1423.18 731.217,1406.67 \n",
       "  \"/>\n",
       "<polyline clip-path=\"url(#clip780)\" style=\"stroke:#000000; stroke-width:4; stroke-opacity:1; fill:none\" points=\"\n",
       "  1174.1,1423.18 1174.1,1406.67 \n",
       "  \"/>\n",
       "<polyline clip-path=\"url(#clip780)\" style=\"stroke:#000000; stroke-width:4; stroke-opacity:1; fill:none\" points=\"\n",
       "  1616.99,1423.18 1616.99,1406.67 \n",
       "  \"/>\n",
       "<polyline clip-path=\"url(#clip780)\" style=\"stroke:#000000; stroke-width:4; stroke-opacity:1; fill:none\" points=\"\n",
       "  2059.88,1423.18 2059.88,1406.67 \n",
       "  \"/>\n",
       "<polyline clip-path=\"url(#clip780)\" style=\"stroke:#000000; stroke-width:4; stroke-opacity:1; fill:none\" points=\"\n",
       "  244.308,1384.24 266.729,1384.24 \n",
       "  \"/>\n",
       "<polyline clip-path=\"url(#clip780)\" style=\"stroke:#000000; stroke-width:4; stroke-opacity:1; fill:none\" points=\"\n",
       "  244.308,951.554 266.729,951.554 \n",
       "  \"/>\n",
       "<polyline clip-path=\"url(#clip780)\" style=\"stroke:#000000; stroke-width:4; stroke-opacity:1; fill:none\" points=\"\n",
       "  244.308,518.87 266.729,518.87 \n",
       "  \"/>\n",
       "<polyline clip-path=\"url(#clip780)\" style=\"stroke:#000000; stroke-width:4; stroke-opacity:1; fill:none\" points=\"\n",
       "  244.308,86.1857 266.729,86.1857 \n",
       "  \"/>\n",
       "<path clip-path=\"url(#clip780)\" d=\"M 0 0 M288.331 1445.17 Q284.719 1445.17 282.891 1448.74 Q281.085 1452.28 281.085 1459.41 Q281.085 1466.51 282.891 1470.08 Q284.719 1473.62 288.331 1473.62 Q291.965 1473.62 293.77 1470.08 Q295.599 1466.51 295.599 1459.41 Q295.599 1452.28 293.77 1448.74 Q291.965 1445.17 288.331 1445.17 M288.331 1441.47 Q294.141 1441.47 297.196 1446.07 Q300.275 1450.66 300.275 1459.41 Q300.275 1468.13 297.196 1472.74 Q294.141 1477.32 288.331 1477.32 Q282.52 1477.32 279.442 1472.74 Q276.386 1468.13 276.386 1459.41 Q276.386 1450.66 279.442 1446.07 Q282.52 1441.47 288.331 1441.47 Z\" fill=\"#000000\" fill-rule=\"evenodd\" fill-opacity=\"1\" /><path clip-path=\"url(#clip780)\" d=\"M 0 0 M694.481 1442.09 L712.837 1442.09 L712.837 1446.03 L698.763 1446.03 L698.763 1454.5 Q699.782 1454.15 700.8 1453.99 Q701.819 1453.8 702.837 1453.8 Q708.624 1453.8 712.004 1456.98 Q715.384 1460.15 715.384 1465.56 Q715.384 1471.14 711.911 1474.24 Q708.439 1477.32 702.12 1477.32 Q699.944 1477.32 697.675 1476.95 Q695.43 1476.58 693.023 1475.84 L693.023 1471.14 Q695.106 1472.28 697.328 1472.83 Q699.55 1473.39 702.027 1473.39 Q706.032 1473.39 708.37 1471.28 Q710.708 1469.18 710.708 1465.56 Q710.708 1461.95 708.37 1459.85 Q706.032 1457.74 702.027 1457.74 Q700.152 1457.74 698.277 1458.16 Q696.425 1458.57 694.481 1459.45 L694.481 1442.09 Z\" fill=\"#000000\" fill-rule=\"evenodd\" fill-opacity=\"1\" /><path clip-path=\"url(#clip780)\" d=\"M 0 0 M730.453 1445.17 Q726.842 1445.17 725.013 1448.74 Q723.208 1452.28 723.208 1459.41 Q723.208 1466.51 725.013 1470.08 Q726.842 1473.62 730.453 1473.62 Q734.087 1473.62 735.893 1470.08 Q737.721 1466.51 737.721 1459.41 Q737.721 1452.28 735.893 1448.74 Q734.087 1445.17 730.453 1445.17 M730.453 1441.47 Q736.263 1441.47 739.319 1446.07 Q742.397 1450.66 742.397 1459.41 Q742.397 1468.13 739.319 1472.74 Q736.263 1477.32 730.453 1477.32 Q724.643 1477.32 721.564 1472.74 Q718.508 1468.13 718.508 1459.41 Q718.508 1450.66 721.564 1446.07 Q724.643 1441.47 730.453 1441.47 Z\" fill=\"#000000\" fill-rule=\"evenodd\" fill-opacity=\"1\" /><path clip-path=\"url(#clip780)\" d=\"M 0 0 M757.467 1445.17 Q753.856 1445.17 752.027 1448.74 Q750.221 1452.28 750.221 1459.41 Q750.221 1466.51 752.027 1470.08 Q753.856 1473.62 757.467 1473.62 Q761.101 1473.62 762.906 1470.08 Q764.735 1466.51 764.735 1459.41 Q764.735 1452.28 762.906 1448.74 Q761.101 1445.17 757.467 1445.17 M757.467 1441.47 Q763.277 1441.47 766.332 1446.07 Q769.411 1450.66 769.411 1459.41 Q769.411 1468.13 766.332 1472.74 Q763.277 1477.32 757.467 1477.32 Q751.656 1477.32 748.578 1472.74 Q745.522 1468.13 745.522 1459.41 Q745.522 1450.66 748.578 1446.07 Q751.656 1441.47 757.467 1441.47 Z\" fill=\"#000000\" fill-rule=\"evenodd\" fill-opacity=\"1\" /><path clip-path=\"url(#clip780)\" d=\"M 0 0 M1123.96 1472.72 L1131.6 1472.72 L1131.6 1446.35 L1123.29 1448.02 L1123.29 1443.76 L1131.56 1442.09 L1136.23 1442.09 L1136.23 1472.72 L1143.87 1472.72 L1143.87 1476.65 L1123.96 1476.65 L1123.96 1472.72 Z\" fill=\"#000000\" fill-rule=\"evenodd\" fill-opacity=\"1\" /><path clip-path=\"url(#clip780)\" d=\"M 0 0 M1158.94 1445.17 Q1155.33 1445.17 1153.5 1448.74 Q1151.7 1452.28 1151.7 1459.41 Q1151.7 1466.51 1153.5 1470.08 Q1155.33 1473.62 1158.94 1473.62 Q1162.58 1473.62 1164.38 1470.08 Q1166.21 1466.51 1166.21 1459.41 Q1166.21 1452.28 1164.38 1448.74 Q1162.58 1445.17 1158.94 1445.17 M1158.94 1441.47 Q1164.75 1441.47 1167.81 1446.07 Q1170.89 1450.66 1170.89 1459.41 Q1170.89 1468.13 1167.81 1472.74 Q1164.75 1477.32 1158.94 1477.32 Q1153.13 1477.32 1150.05 1472.74 Q1147 1468.13 1147 1459.41 Q1147 1450.66 1150.05 1446.07 Q1153.13 1441.47 1158.94 1441.47 Z\" fill=\"#000000\" fill-rule=\"evenodd\" fill-opacity=\"1\" /><path clip-path=\"url(#clip780)\" d=\"M 0 0 M1185.95 1445.17 Q1182.34 1445.17 1180.51 1448.74 Q1178.71 1452.28 1178.71 1459.41 Q1178.71 1466.51 1180.51 1470.08 Q1182.34 1473.62 1185.95 1473.62 Q1189.59 1473.62 1191.39 1470.08 Q1193.22 1466.51 1193.22 1459.41 Q1193.22 1452.28 1191.39 1448.74 Q1189.59 1445.17 1185.95 1445.17 M1185.95 1441.47 Q1191.76 1441.47 1194.82 1446.07 Q1197.9 1450.66 1197.9 1459.41 Q1197.9 1468.13 1194.82 1472.74 Q1191.76 1477.32 1185.95 1477.32 Q1180.14 1477.32 1177.07 1472.74 Q1174.01 1468.13 1174.01 1459.41 Q1174.01 1450.66 1177.07 1446.07 Q1180.14 1441.47 1185.95 1441.47 Z\" fill=\"#000000\" fill-rule=\"evenodd\" fill-opacity=\"1\" /><path clip-path=\"url(#clip780)\" d=\"M 0 0 M1212.97 1445.17 Q1209.36 1445.17 1207.53 1448.74 Q1205.72 1452.28 1205.72 1459.41 Q1205.72 1466.51 1207.53 1470.08 Q1209.36 1473.62 1212.97 1473.62 Q1216.6 1473.62 1218.41 1470.08 Q1220.24 1466.51 1220.24 1459.41 Q1220.24 1452.28 1218.41 1448.74 Q1216.6 1445.17 1212.97 1445.17 M1212.97 1441.47 Q1218.78 1441.47 1221.83 1446.07 Q1224.91 1450.66 1224.91 1459.41 Q1224.91 1468.13 1221.83 1472.74 Q1218.78 1477.32 1212.97 1477.32 Q1207.16 1477.32 1204.08 1472.74 Q1201.02 1468.13 1201.02 1459.41 Q1201.02 1450.66 1204.08 1446.07 Q1207.16 1441.47 1212.97 1441.47 Z\" fill=\"#000000\" fill-rule=\"evenodd\" fill-opacity=\"1\" /><path clip-path=\"url(#clip780)\" d=\"M 0 0 M1567.35 1472.72 L1574.99 1472.72 L1574.99 1446.35 L1566.68 1448.02 L1566.68 1443.76 L1574.94 1442.09 L1579.62 1442.09 L1579.62 1472.72 L1587.26 1472.72 L1587.26 1476.65 L1567.35 1476.65 L1567.35 1472.72 Z\" fill=\"#000000\" fill-rule=\"evenodd\" fill-opacity=\"1\" /><path clip-path=\"url(#clip780)\" d=\"M 0 0 M1592.37 1442.09 L1610.73 1442.09 L1610.73 1446.03 L1596.65 1446.03 L1596.65 1454.5 Q1597.67 1454.15 1598.69 1453.99 Q1599.71 1453.8 1600.73 1453.8 Q1606.51 1453.8 1609.89 1456.98 Q1613.27 1460.15 1613.27 1465.56 Q1613.27 1471.14 1609.8 1474.24 Q1606.33 1477.32 1600.01 1477.32 Q1597.83 1477.32 1595.57 1476.95 Q1593.32 1476.58 1590.91 1475.84 L1590.91 1471.14 Q1593 1472.28 1595.22 1472.83 Q1597.44 1473.39 1599.92 1473.39 Q1603.92 1473.39 1606.26 1471.28 Q1608.6 1469.18 1608.6 1465.56 Q1608.6 1461.95 1606.26 1459.85 Q1603.92 1457.74 1599.92 1457.74 Q1598.04 1457.74 1596.17 1458.16 Q1594.32 1458.57 1592.37 1459.45 L1592.37 1442.09 Z\" fill=\"#000000\" fill-rule=\"evenodd\" fill-opacity=\"1\" /><path clip-path=\"url(#clip780)\" d=\"M 0 0 M1628.34 1445.17 Q1624.73 1445.17 1622.9 1448.74 Q1621.1 1452.28 1621.1 1459.41 Q1621.1 1466.51 1622.9 1470.08 Q1624.73 1473.62 1628.34 1473.62 Q1631.98 1473.62 1633.78 1470.08 Q1635.61 1466.51 1635.61 1459.41 Q1635.61 1452.28 1633.78 1448.74 Q1631.98 1445.17 1628.34 1445.17 M1628.34 1441.47 Q1634.15 1441.47 1637.21 1446.07 Q1640.29 1450.66 1640.29 1459.41 Q1640.29 1468.13 1637.21 1472.74 Q1634.15 1477.32 1628.34 1477.32 Q1622.53 1477.32 1619.45 1472.74 Q1616.4 1468.13 1616.4 1459.41 Q1616.4 1450.66 1619.45 1446.07 Q1622.53 1441.47 1628.34 1441.47 Z\" fill=\"#000000\" fill-rule=\"evenodd\" fill-opacity=\"1\" /><path clip-path=\"url(#clip780)\" d=\"M 0 0 M1655.36 1445.17 Q1651.75 1445.17 1649.92 1448.74 Q1648.11 1452.28 1648.11 1459.41 Q1648.11 1466.51 1649.92 1470.08 Q1651.75 1473.62 1655.36 1473.62 Q1658.99 1473.62 1660.8 1470.08 Q1662.63 1466.51 1662.63 1459.41 Q1662.63 1452.28 1660.8 1448.74 Q1658.99 1445.17 1655.36 1445.17 M1655.36 1441.47 Q1661.17 1441.47 1664.22 1446.07 Q1667.3 1450.66 1667.3 1459.41 Q1667.3 1468.13 1664.22 1472.74 Q1661.17 1477.32 1655.36 1477.32 Q1649.55 1477.32 1646.47 1472.74 Q1643.41 1468.13 1643.41 1459.41 Q1643.41 1450.66 1646.47 1446.07 Q1649.55 1441.47 1655.36 1441.47 Z\" fill=\"#000000\" fill-rule=\"evenodd\" fill-opacity=\"1\" /><path clip-path=\"url(#clip780)\" d=\"M 0 0 M2014.01 1472.72 L2030.33 1472.72 L2030.33 1476.65 L2008.38 1476.65 L2008.38 1472.72 Q2011.04 1469.96 2015.63 1465.33 Q2020.23 1460.68 2021.41 1459.34 Q2023.66 1456.81 2024.54 1455.08 Q2025.44 1453.32 2025.44 1451.63 Q2025.44 1448.87 2023.5 1447.14 Q2021.58 1445.4 2018.48 1445.4 Q2016.28 1445.4 2013.82 1446.17 Q2011.39 1446.93 2008.61 1448.48 L2008.61 1443.76 Q2011.44 1442.62 2013.89 1442.05 Q2016.35 1441.47 2018.38 1441.47 Q2023.75 1441.47 2026.95 1444.15 Q2030.14 1446.84 2030.14 1451.33 Q2030.14 1453.46 2029.33 1455.38 Q2028.54 1457.28 2026.44 1459.87 Q2025.86 1460.54 2022.76 1463.76 Q2019.66 1466.95 2014.01 1472.72 Z\" fill=\"#000000\" fill-rule=\"evenodd\" fill-opacity=\"1\" /><path clip-path=\"url(#clip780)\" d=\"M 0 0 M2045.4 1445.17 Q2041.79 1445.17 2039.96 1448.74 Q2038.15 1452.28 2038.15 1459.41 Q2038.15 1466.51 2039.96 1470.08 Q2041.79 1473.62 2045.4 1473.62 Q2049.03 1473.62 2050.84 1470.08 Q2052.66 1466.51 2052.66 1459.41 Q2052.66 1452.28 2050.84 1448.74 Q2049.03 1445.17 2045.4 1445.17 M2045.4 1441.47 Q2051.21 1441.47 2054.26 1446.07 Q2057.34 1450.66 2057.34 1459.41 Q2057.34 1468.13 2054.26 1472.74 Q2051.21 1477.32 2045.4 1477.32 Q2039.59 1477.32 2036.51 1472.74 Q2033.45 1468.13 2033.45 1459.41 Q2033.45 1450.66 2036.51 1446.07 Q2039.59 1441.47 2045.4 1441.47 Z\" fill=\"#000000\" fill-rule=\"evenodd\" fill-opacity=\"1\" /><path clip-path=\"url(#clip780)\" d=\"M 0 0 M2072.41 1445.17 Q2068.8 1445.17 2066.97 1448.74 Q2065.16 1452.28 2065.16 1459.41 Q2065.16 1466.51 2066.97 1470.08 Q2068.8 1473.62 2072.41 1473.62 Q2076.04 1473.62 2077.85 1470.08 Q2079.68 1466.51 2079.68 1459.41 Q2079.68 1452.28 2077.85 1448.74 Q2076.04 1445.17 2072.41 1445.17 M2072.41 1441.47 Q2078.22 1441.47 2081.28 1446.07 Q2084.35 1450.66 2084.35 1459.41 Q2084.35 1468.13 2081.28 1472.74 Q2078.22 1477.32 2072.41 1477.32 Q2066.6 1477.32 2063.52 1472.74 Q2060.47 1468.13 2060.47 1459.41 Q2060.47 1450.66 2063.52 1446.07 Q2066.6 1441.47 2072.41 1441.47 Z\" fill=\"#000000\" fill-rule=\"evenodd\" fill-opacity=\"1\" /><path clip-path=\"url(#clip780)\" d=\"M 0 0 M2099.42 1445.17 Q2095.81 1445.17 2093.98 1448.74 Q2092.18 1452.28 2092.18 1459.41 Q2092.18 1466.51 2093.98 1470.08 Q2095.81 1473.62 2099.42 1473.62 Q2103.06 1473.62 2104.86 1470.08 Q2106.69 1466.51 2106.69 1459.41 Q2106.69 1452.28 2104.86 1448.74 Q2103.06 1445.17 2099.42 1445.17 M2099.42 1441.47 Q2105.23 1441.47 2108.29 1446.07 Q2111.37 1450.66 2111.37 1459.41 Q2111.37 1468.13 2108.29 1472.74 Q2105.23 1477.32 2099.42 1477.32 Q2093.61 1477.32 2090.53 1472.74 Q2087.48 1468.13 2087.48 1459.41 Q2087.48 1450.66 2090.53 1446.07 Q2093.61 1441.47 2099.42 1441.47 Z\" fill=\"#000000\" fill-rule=\"evenodd\" fill-opacity=\"1\" /><path clip-path=\"url(#clip780)\" d=\"M 0 0 M126.931 1404.03 L134.57 1404.03 L134.57 1377.67 L126.26 1379.33 L126.26 1375.07 L134.524 1373.41 L139.2 1373.41 L139.2 1404.03 L146.839 1404.03 L146.839 1407.97 L126.931 1407.97 L126.931 1404.03 Z\" fill=\"#000000\" fill-rule=\"evenodd\" fill-opacity=\"1\" /><path clip-path=\"url(#clip780)\" d=\"M 0 0 M161.908 1376.48 Q158.297 1376.48 156.468 1380.05 Q154.663 1383.59 154.663 1390.72 Q154.663 1397.83 156.468 1401.39 Q158.297 1404.93 161.908 1404.93 Q165.542 1404.93 167.348 1401.39 Q169.177 1397.83 169.177 1390.72 Q169.177 1383.59 167.348 1380.05 Q165.542 1376.48 161.908 1376.48 M161.908 1372.78 Q167.718 1372.78 170.774 1377.39 Q173.852 1381.97 173.852 1390.72 Q173.852 1399.45 170.774 1404.05 Q167.718 1408.64 161.908 1408.64 Q156.098 1408.64 153.019 1404.05 Q149.964 1399.45 149.964 1390.72 Q149.964 1381.97 153.019 1377.39 Q156.098 1372.78 161.908 1372.78 Z\" fill=\"#000000\" fill-rule=\"evenodd\" fill-opacity=\"1\" /><path clip-path=\"url(#clip780)\" d=\"M 0 0 M173.852 1366.88 L197.964 1366.88 L197.964 1370.08 L173.852 1370.08 L173.852 1366.88 Z\" fill=\"#000000\" fill-rule=\"evenodd\" fill-opacity=\"1\" /><path clip-path=\"url(#clip780)\" d=\"M 0 0 M212.521 1355.79 L202.929 1370.78 L212.521 1370.78 L212.521 1355.79 M211.524 1352.48 L216.302 1352.48 L216.302 1370.78 L220.308 1370.78 L220.308 1373.94 L216.302 1373.94 L216.302 1380.56 L212.521 1380.56 L212.521 1373.94 L199.845 1373.94 L199.845 1370.27 L211.524 1352.48 Z\" fill=\"#000000\" fill-rule=\"evenodd\" fill-opacity=\"1\" /><path clip-path=\"url(#clip780)\" d=\"M 0 0 M127.853 971.347 L135.492 971.347 L135.492 944.981 L127.182 946.648 L127.182 942.388 L135.446 940.722 L140.121 940.722 L140.121 971.347 L147.76 971.347 L147.76 975.282 L127.853 975.282 L127.853 971.347 Z\" fill=\"#000000\" fill-rule=\"evenodd\" fill-opacity=\"1\" /><path clip-path=\"url(#clip780)\" d=\"M 0 0 M162.83 943.8 Q159.219 943.8 157.39 947.365 Q155.584 950.907 155.584 958.036 Q155.584 965.143 157.39 968.708 Q159.219 972.249 162.83 972.249 Q166.464 972.249 168.269 968.708 Q170.098 965.143 170.098 958.036 Q170.098 950.907 168.269 947.365 Q166.464 943.8 162.83 943.8 M162.83 940.097 Q168.64 940.097 171.695 944.703 Q174.774 949.286 174.774 958.036 Q174.774 966.763 171.695 971.37 Q168.64 975.953 162.83 975.953 Q157.02 975.953 153.941 971.37 Q150.885 966.763 150.885 958.036 Q150.885 949.286 153.941 944.703 Q157.02 940.097 162.83 940.097 Z\" fill=\"#000000\" fill-rule=\"evenodd\" fill-opacity=\"1\" /><path clip-path=\"url(#clip780)\" d=\"M 0 0 M174.774 934.198 L198.886 934.198 L198.886 937.395 L174.774 937.395 L174.774 934.198 Z\" fill=\"#000000\" fill-rule=\"evenodd\" fill-opacity=\"1\" /><path clip-path=\"url(#clip780)\" d=\"M 0 0 M214.515 932.731 Q217.242 933.314 218.765 935.157 Q220.308 937 220.308 939.709 Q220.308 943.865 217.449 946.141 Q214.59 948.417 209.324 948.417 Q207.556 948.417 205.675 948.059 Q203.813 947.721 201.82 947.025 L201.82 943.357 Q203.4 944.279 205.28 944.749 Q207.161 945.219 209.211 945.219 Q212.785 945.219 214.647 943.809 Q216.527 942.398 216.527 939.709 Q216.527 937.226 214.778 935.834 Q213.048 934.424 209.945 934.424 L206.672 934.424 L206.672 931.302 L210.095 931.302 Q212.897 931.302 214.383 930.192 Q215.869 929.063 215.869 926.957 Q215.869 924.794 214.327 923.647 Q212.803 922.481 209.945 922.481 Q208.384 922.481 206.597 922.819 Q204.81 923.158 202.666 923.873 L202.666 920.487 Q204.829 919.885 206.71 919.584 Q208.609 919.283 210.283 919.283 Q214.609 919.283 217.129 921.258 Q219.649 923.214 219.649 926.562 Q219.649 928.894 218.314 930.512 Q216.979 932.11 214.515 932.731 Z\" fill=\"#000000\" fill-rule=\"evenodd\" fill-opacity=\"1\" /><path clip-path=\"url(#clip780)\" d=\"M 0 0 M128.624 538.662 L136.263 538.662 L136.263 512.297 L127.953 513.963 L127.953 509.704 L136.217 508.037 L140.893 508.037 L140.893 538.662 L148.531 538.662 L148.531 542.597 L128.624 542.597 L128.624 538.662 Z\" fill=\"#000000\" fill-rule=\"evenodd\" fill-opacity=\"1\" /><path clip-path=\"url(#clip780)\" d=\"M 0 0 M163.601 511.116 Q159.99 511.116 158.161 514.681 Q156.355 518.223 156.355 525.352 Q156.355 532.459 158.161 536.023 Q159.99 539.565 163.601 539.565 Q167.235 539.565 169.041 536.023 Q170.869 532.459 170.869 525.352 Q170.869 518.223 169.041 514.681 Q167.235 511.116 163.601 511.116 M163.601 507.412 Q169.411 507.412 172.467 512.019 Q175.545 516.602 175.545 525.352 Q175.545 534.079 172.467 538.685 Q169.411 543.269 163.601 543.269 Q157.791 543.269 154.712 538.685 Q151.656 534.079 151.656 525.352 Q151.656 516.602 154.712 512.019 Q157.791 507.412 163.601 507.412 Z\" fill=\"#000000\" fill-rule=\"evenodd\" fill-opacity=\"1\" /><path clip-path=\"url(#clip780)\" d=\"M 0 0 M175.545 501.514 L199.657 501.514 L199.657 504.711 L175.545 504.711 L175.545 501.514 Z\" fill=\"#000000\" fill-rule=\"evenodd\" fill-opacity=\"1\" /><path clip-path=\"url(#clip780)\" d=\"M 0 0 M207.048 511.99 L220.308 511.99 L220.308 515.187 L202.478 515.187 L202.478 511.99 Q204.641 509.752 208.365 505.99 Q212.107 502.21 213.067 501.119 Q214.891 499.069 215.606 497.658 Q216.339 496.229 216.339 494.856 Q216.339 492.618 214.759 491.207 Q213.198 489.797 210.678 489.797 Q208.891 489.797 206.898 490.417 Q204.923 491.038 202.666 492.298 L202.666 488.461 Q204.961 487.54 206.954 487.069 Q208.948 486.599 210.603 486.599 Q214.966 486.599 217.562 488.781 Q220.157 490.963 220.157 494.611 Q220.157 496.342 219.499 497.903 Q218.859 499.445 217.148 501.551 Q216.678 502.097 214.158 504.711 Q211.637 507.307 207.048 511.99 Z\" fill=\"#000000\" fill-rule=\"evenodd\" fill-opacity=\"1\" /><path clip-path=\"url(#clip780)\" d=\"M 0 0 M128.323 105.978 L135.962 105.978 L135.962 79.6125 L127.652 81.2792 L127.652 77.0199 L135.916 75.3533 L140.592 75.3533 L140.592 105.978 L148.231 105.978 L148.231 109.913 L128.323 109.913 L128.323 105.978 Z\" fill=\"#000000\" fill-rule=\"evenodd\" fill-opacity=\"1\" /><path clip-path=\"url(#clip780)\" d=\"M 0 0 M163.3 78.432 Q159.689 78.432 157.86 81.9968 Q156.055 85.5384 156.055 92.668 Q156.055 99.7744 157.86 103.339 Q159.689 106.881 163.3 106.881 Q166.934 106.881 168.74 103.339 Q170.568 99.7744 170.568 92.668 Q170.568 85.5384 168.74 81.9968 Q166.934 78.432 163.3 78.432 M163.3 74.7283 Q169.11 74.7283 172.166 79.3347 Q175.244 83.918 175.244 92.668 Q175.244 101.395 172.166 106.001 Q169.11 110.585 163.3 110.585 Q157.49 110.585 154.411 106.001 Q151.356 101.395 151.356 92.668 Q151.356 83.918 154.411 79.3347 Q157.49 74.7283 163.3 74.7283 Z\" fill=\"#000000\" fill-rule=\"evenodd\" fill-opacity=\"1\" /><path clip-path=\"url(#clip780)\" d=\"M 0 0 M175.244 68.8296 L199.356 68.8296 L199.356 72.0269 L175.244 72.0269 L175.244 68.8296 Z\" fill=\"#000000\" fill-rule=\"evenodd\" fill-opacity=\"1\" /><path clip-path=\"url(#clip780)\" d=\"M 0 0 M204.133 79.3056 L210.34 79.3056 L210.34 57.8835 L203.588 59.2377 L203.588 55.777 L210.302 54.4229 L214.101 54.4229 L214.101 79.3056 L220.308 79.3056 L220.308 82.5029 L204.133 82.5029 L204.133 79.3056 Z\" fill=\"#000000\" fill-rule=\"evenodd\" fill-opacity=\"1\" /><path clip-path=\"url(#clip780)\" d=\"M 0 0 M1108.81 1536.76 L1108.81 1539.62 L1081.88 1539.62 Q1082.27 1545.67 1085.51 1548.85 Q1088.79 1552 1094.62 1552 Q1097.99 1552 1101.14 1551.17 Q1104.32 1550.35 1107.44 1548.69 L1107.44 1554.23 Q1104.29 1555.57 1100.98 1556.27 Q1097.67 1556.97 1094.27 1556.97 Q1085.74 1556.97 1080.74 1552 Q1075.77 1547.04 1075.77 1538.57 Q1075.77 1529.82 1080.48 1524.69 Q1085.23 1519.54 1093.25 1519.54 Q1100.44 1519.54 1104.61 1524.18 Q1108.81 1528.8 1108.81 1536.76 M1102.95 1535.04 Q1102.89 1530.23 1100.25 1527.37 Q1097.64 1524.5 1093.31 1524.5 Q1088.41 1524.5 1085.45 1527.27 Q1082.52 1530.04 1082.08 1535.07 L1102.95 1535.04 Z\" fill=\"#000000\" fill-rule=\"evenodd\" fill-opacity=\"1\" /><path clip-path=\"url(#clip780)\" d=\"M 0 0 M1120.62 1550.7 L1120.62 1569.6 L1114.73 1569.6 L1114.73 1520.4 L1120.62 1520.4 L1120.62 1525.81 Q1122.47 1522.62 1125.27 1521.1 Q1128.1 1519.54 1132.01 1519.54 Q1138.51 1519.54 1142.55 1524.69 Q1146.62 1529.85 1146.62 1538.25 Q1146.62 1546.65 1142.55 1551.81 Q1138.51 1556.97 1132.01 1556.97 Q1128.1 1556.97 1125.27 1555.44 Q1122.47 1553.88 1120.62 1550.7 M1140.54 1538.25 Q1140.54 1531.79 1137.87 1528.13 Q1135.23 1524.44 1130.58 1524.44 Q1125.94 1524.44 1123.26 1528.13 Q1120.62 1531.79 1120.62 1538.25 Q1120.62 1544.71 1123.26 1548.4 Q1125.94 1552.07 1130.58 1552.07 Q1135.23 1552.07 1137.87 1548.4 Q1140.54 1544.71 1140.54 1538.25 Z\" fill=\"#000000\" fill-rule=\"evenodd\" fill-opacity=\"1\" /><path clip-path=\"url(#clip780)\" d=\"M 0 0 M1166.58 1524.5 Q1161.87 1524.5 1159.13 1528.19 Q1156.4 1531.85 1156.4 1538.25 Q1156.4 1544.65 1159.1 1548.34 Q1161.84 1552 1166.58 1552 Q1171.26 1552 1174 1548.31 Q1176.73 1544.62 1176.73 1538.25 Q1176.73 1531.92 1174 1528.23 Q1171.26 1524.5 1166.58 1524.5 M1166.58 1519.54 Q1174.22 1519.54 1178.58 1524.5 Q1182.94 1529.47 1182.94 1538.25 Q1182.94 1547 1178.58 1552 Q1174.22 1556.97 1166.58 1556.97 Q1158.91 1556.97 1154.55 1552 Q1150.22 1547 1150.22 1538.25 Q1150.22 1529.47 1154.55 1524.5 Q1158.91 1519.54 1166.58 1519.54 Z\" fill=\"#000000\" fill-rule=\"evenodd\" fill-opacity=\"1\" /><path clip-path=\"url(#clip780)\" d=\"M 0 0 M1214.74 1521.76 L1214.74 1527.24 Q1212.25 1525.87 1209.74 1525.2 Q1207.26 1524.5 1204.71 1524.5 Q1199.01 1524.5 1195.86 1528.13 Q1192.71 1531.73 1192.71 1538.25 Q1192.71 1544.78 1195.86 1548.4 Q1199.01 1552 1204.71 1552 Q1207.26 1552 1209.74 1551.33 Q1212.25 1550.63 1214.74 1549.26 L1214.74 1554.68 Q1212.29 1555.82 1209.64 1556.39 Q1207.03 1556.97 1204.07 1556.97 Q1196.02 1556.97 1191.28 1551.91 Q1186.54 1546.85 1186.54 1538.25 Q1186.54 1529.53 1191.31 1524.53 Q1196.12 1519.54 1204.46 1519.54 Q1207.16 1519.54 1209.74 1520.11 Q1212.32 1520.65 1214.74 1521.76 Z\" fill=\"#000000\" fill-rule=\"evenodd\" fill-opacity=\"1\" /><path clip-path=\"url(#clip780)\" d=\"M 0 0 M1250.51 1534.53 L1250.51 1556.04 L1244.66 1556.04 L1244.66 1534.72 Q1244.66 1529.66 1242.68 1527.14 Q1240.71 1524.63 1236.76 1524.63 Q1232.02 1524.63 1229.28 1527.65 Q1226.55 1530.68 1226.55 1535.9 L1226.55 1556.04 L1220.66 1556.04 L1220.66 1506.52 L1226.55 1506.52 L1226.55 1525.93 Q1228.65 1522.72 1231.48 1521.13 Q1234.34 1519.54 1238.07 1519.54 Q1244.21 1519.54 1247.36 1523.36 Q1250.51 1527.14 1250.51 1534.53 Z\" fill=\"#000000\" fill-rule=\"evenodd\" fill-opacity=\"1\" /><path clip-path=\"url(#clip780)\" d=\"M 0 0 M1279.38 1521.45 L1279.38 1526.98 Q1276.9 1525.71 1274.22 1525.07 Q1271.55 1524.44 1268.69 1524.44 Q1264.33 1524.44 1262.13 1525.77 Q1259.97 1527.11 1259.97 1529.79 Q1259.97 1531.82 1261.52 1533 Q1263.08 1534.15 1267.79 1535.2 L1269.8 1535.64 Q1276.04 1536.98 1278.65 1539.43 Q1281.29 1541.85 1281.29 1546.21 Q1281.29 1551.17 1277.34 1554.07 Q1273.43 1556.97 1266.55 1556.97 Q1263.69 1556.97 1260.57 1556.39 Q1257.48 1555.85 1254.04 1554.74 L1254.04 1548.69 Q1257.29 1550.38 1260.44 1551.24 Q1263.59 1552.07 1266.68 1552.07 Q1270.82 1552.07 1273.05 1550.66 Q1275.27 1549.23 1275.27 1546.65 Q1275.27 1544.27 1273.65 1542.99 Q1272.06 1541.72 1266.62 1540.54 L1264.58 1540.07 Q1259.14 1538.92 1256.72 1536.56 Q1254.3 1534.18 1254.3 1530.04 Q1254.3 1525.01 1257.86 1522.27 Q1261.43 1519.54 1267.99 1519.54 Q1271.23 1519.54 1274.1 1520.01 Q1276.96 1520.49 1279.38 1521.45 Z\" fill=\"#000000\" fill-rule=\"evenodd\" fill-opacity=\"1\" /><path clip-path=\"url(#clip780)\" d=\"M 0 0 M56.4621 905.383 Q56.4621 910.094 60.1542 912.831 Q63.8145 915.568 70.212 915.568 Q76.6095 915.568 80.3017 912.863 Q83.9619 910.126 83.9619 905.383 Q83.9619 900.704 80.2698 897.967 Q76.5777 895.23 70.212 895.23 Q63.8781 895.23 60.186 897.967 Q56.4621 900.704 56.4621 905.383 M51.4968 905.383 Q51.4968 897.744 56.4621 893.384 Q61.4273 889.023 70.212 889.023 Q78.9649 889.023 83.9619 893.384 Q88.9272 897.744 88.9272 905.383 Q88.9272 913.054 83.9619 917.414 Q78.9649 921.743 70.212 921.743 Q61.4273 921.743 56.4621 917.414 Q51.4968 913.054 51.4968 905.383 Z\" fill=\"#000000\" fill-rule=\"evenodd\" fill-opacity=\"1\" /><path clip-path=\"url(#clip780)\" d=\"M 0 0 M82.657 877.215 L101.563 877.215 L101.563 883.103 L52.3562 883.103 L52.3562 877.215 L57.7671 877.215 Q54.5842 875.369 53.0564 872.568 Q51.4968 869.735 51.4968 865.82 Q51.4968 859.327 56.6531 855.285 Q61.8093 851.211 70.212 851.211 Q78.6147 851.211 83.771 855.285 Q88.9272 859.327 88.9272 865.82 Q88.9272 869.735 87.3994 872.568 Q85.8398 875.369 82.657 877.215 M70.212 857.29 Q63.7508 857.29 60.0905 859.964 Q56.3984 862.606 56.3984 867.253 Q56.3984 871.9 60.0905 874.573 Q63.7508 877.215 70.212 877.215 Q76.6732 877.215 80.3653 874.573 Q84.0256 871.9 84.0256 867.253 Q84.0256 862.606 80.3653 859.964 Q76.6732 857.29 70.212 857.29 Z\" fill=\"#000000\" fill-rule=\"evenodd\" fill-opacity=\"1\" /><path clip-path=\"url(#clip780)\" d=\"M 0 0 M42.2347 839.275 L52.3562 839.275 L52.3562 827.212 L56.9077 827.212 L56.9077 839.275 L76.2594 839.275 Q80.6199 839.275 81.8613 838.098 Q83.1026 836.888 83.1026 833.228 L83.1026 827.212 L88.0042 827.212 L88.0042 833.228 Q88.0042 840.007 85.4897 842.586 Q82.9434 845.164 76.2594 845.164 L56.9077 845.164 L56.9077 849.46 L52.3562 849.46 L52.3562 845.164 L42.2347 845.164 L42.2347 839.275 Z\" fill=\"#000000\" fill-rule=\"evenodd\" fill-opacity=\"1\" /><path clip-path=\"url(#clip780)\" d=\"M 0 0 M52.3562 821.069 L52.3562 815.213 L88.0042 815.213 L88.0042 821.069 L52.3562 821.069 M38.479 821.069 L38.479 815.213 L45.895 815.213 L45.895 821.069 L38.479 821.069 Z\" fill=\"#000000\" fill-rule=\"evenodd\" fill-opacity=\"1\" /><path clip-path=\"url(#clip780)\" d=\"M 0 0 M59.1993 781.316 Q55.2526 779.119 53.3747 776.064 Q51.4968 773.008 51.4968 768.871 Q51.4968 763.301 55.4117 760.277 Q59.2948 757.253 66.4881 757.253 L88.0042 757.253 L88.0042 763.142 L66.679 763.142 Q61.5546 763.142 59.072 764.956 Q56.5894 766.77 56.5894 770.494 Q56.5894 775.045 59.6131 777.687 Q62.6368 780.329 67.8567 780.329 L88.0042 780.329 L88.0042 786.217 L66.679 786.217 Q61.5228 786.217 59.072 788.031 Q56.5894 789.846 56.5894 793.633 Q56.5894 798.121 59.6449 800.763 Q62.6686 803.405 67.8567 803.405 L88.0042 803.405 L88.0042 809.293 L52.3562 809.293 L52.3562 803.405 L57.8944 803.405 Q54.616 801.399 53.0564 798.598 Q51.4968 795.798 51.4968 791.946 Q51.4968 788.063 53.4702 785.358 Q55.4436 782.621 59.1993 781.316 Z\" fill=\"#000000\" fill-rule=\"evenodd\" fill-opacity=\"1\" /><path clip-path=\"url(#clip780)\" d=\"M 0 0 M52.3562 751.11 L52.3562 745.254 L88.0042 745.254 L88.0042 751.11 L52.3562 751.11 M38.479 751.11 L38.479 745.254 L45.895 745.254 L45.895 751.11 L38.479 751.11 Z\" fill=\"#000000\" fill-rule=\"evenodd\" fill-opacity=\"1\" /><path clip-path=\"url(#clip780)\" d=\"M 0 0 M53.4065 716.385 L58.9447 716.385 Q57.6716 718.868 57.035 721.542 Q56.3984 724.215 56.3984 727.08 Q56.3984 731.44 57.7352 733.636 Q59.072 735.801 61.7456 735.801 Q63.7826 735.801 64.9603 734.241 Q66.1061 732.682 67.1565 727.971 L67.6021 725.966 Q68.9389 719.727 71.3897 717.117 Q73.8086 714.476 78.1691 714.476 Q83.1344 714.476 86.0308 718.422 Q88.9272 722.337 88.9272 729.212 Q88.9272 732.077 88.3543 735.196 Q87.8132 738.283 86.6992 741.721 L80.6518 741.721 Q82.3387 738.474 83.198 735.323 Q84.0256 732.172 84.0256 729.085 Q84.0256 724.947 82.6251 722.719 Q81.1929 720.491 78.6147 720.491 Q76.2276 720.491 74.9545 722.115 Q73.6813 723.706 72.5037 729.149 L72.0262 731.186 Q70.8804 736.628 68.5251 739.047 Q66.138 741.466 62.0002 741.466 Q56.9713 741.466 54.2341 737.901 Q51.4968 734.337 51.4968 727.78 Q51.4968 724.533 51.9743 721.669 Q52.4517 718.804 53.4065 716.385 Z\" fill=\"#000000\" fill-rule=\"evenodd\" fill-opacity=\"1\" /><path clip-path=\"url(#clip780)\" d=\"M 0 0 M68.7161 677.841 L71.5806 677.841 L71.5806 704.768 Q77.6281 704.386 80.8109 701.14 Q83.9619 697.861 83.9619 692.037 Q83.9619 688.663 83.1344 685.512 Q82.3069 682.329 80.6518 679.21 L86.1899 679.21 Q87.5267 682.361 88.227 685.671 Q88.9272 688.981 88.9272 692.387 Q88.9272 700.917 83.9619 705.914 Q78.9967 710.879 70.5303 710.879 Q61.7774 710.879 56.6531 706.168 Q51.4968 701.426 51.4968 693.405 Q51.4968 686.212 56.1438 682.042 Q60.7589 677.841 68.7161 677.841 M66.9973 683.697 Q62.1912 683.761 59.3266 686.403 Q56.4621 689.013 56.4621 693.342 Q56.4621 698.243 59.2312 701.203 Q62.0002 704.131 67.0292 704.577 L66.9973 683.697 Z\" fill=\"#000000\" fill-rule=\"evenodd\" fill-opacity=\"1\" /><path clip-path=\"url(#clip780)\" d=\"M 0 0 M57.8307 651.041 Q57.2578 652.028 57.0032 653.206 Q56.7167 654.352 56.7167 655.752 Q56.7167 660.717 59.9632 663.391 Q63.1779 666.033 69.2253 666.033 L88.0042 666.033 L88.0042 671.921 L52.3562 671.921 L52.3562 666.033 L57.8944 666.033 Q54.6479 664.187 53.0883 661.227 Q51.4968 658.266 51.4968 654.033 Q51.4968 653.429 51.5923 652.696 Q51.656 651.964 51.8151 651.073 L57.8307 651.041 Z\" fill=\"#000000\" fill-rule=\"evenodd\" fill-opacity=\"1\" /><path clip-path=\"url(#clip780)\" d=\"M 0 0 M79.9197 650.055 L79.9197 643.339 L88.0042 643.339 L88.0042 650.055 L79.9197 650.055 Z\" fill=\"#000000\" fill-rule=\"evenodd\" fill-opacity=\"1\" /><path clip-path=\"url(#clip780)\" d=\"M 0 0 M68.7161 606.704 L71.5806 606.704 L71.5806 633.631 Q77.6281 633.249 80.8109 630.003 Q83.9619 626.724 83.9619 620.9 Q83.9619 617.526 83.1344 614.375 Q82.3069 611.192 80.6518 608.073 L86.1899 608.073 Q87.5267 611.224 88.227 614.534 Q88.9272 617.844 88.9272 621.25 Q88.9272 629.78 83.9619 634.777 Q78.9967 639.742 70.5303 639.742 Q61.7774 639.742 56.6531 635.032 Q51.4968 630.289 51.4968 622.268 Q51.4968 615.075 56.1438 610.906 Q60.7589 606.704 68.7161 606.704 M66.9973 612.561 Q62.1912 612.624 59.3266 615.266 Q56.4621 617.876 56.4621 622.205 Q56.4621 627.106 59.2312 630.066 Q62.0002 632.995 67.0292 633.44 L66.9973 612.561 Z\" fill=\"#000000\" fill-rule=\"evenodd\" fill-opacity=\"1\" /><path clip-path=\"url(#clip780)\" d=\"M 0 0 M42.2347 594.769 L52.3562 594.769 L52.3562 582.706 L56.9077 582.706 L56.9077 594.769 L76.2594 594.769 Q80.6199 594.769 81.8613 593.591 Q83.1026 592.381 83.1026 588.721 L83.1026 582.706 L88.0042 582.706 L88.0042 588.721 Q88.0042 595.501 85.4897 598.079 Q82.9434 600.657 76.2594 600.657 L56.9077 600.657 L56.9077 604.954 L52.3562 604.954 L52.3562 600.657 L42.2347 600.657 L42.2347 594.769 Z\" fill=\"#000000\" fill-rule=\"evenodd\" fill-opacity=\"1\" /><path clip-path=\"url(#clip780)\" d=\"M 0 0 M70.0847 560.362 Q70.0847 567.46 71.7079 570.197 Q73.3312 572.934 77.2461 572.934 Q80.3653 572.934 82.2114 570.897 Q84.0256 568.828 84.0256 565.295 Q84.0256 560.426 80.5881 557.497 Q77.1188 554.537 71.3897 554.537 L70.0847 554.537 L70.0847 560.362 M67.6657 548.681 L88.0042 548.681 L88.0042 554.537 L82.5933 554.537 Q85.8398 556.542 87.3994 559.534 Q88.9272 562.526 88.9272 566.855 Q88.9272 572.329 85.8716 575.576 Q82.7843 578.791 77.6281 578.791 Q71.6125 578.791 68.5569 574.78 Q65.5014 570.738 65.5014 562.749 L65.5014 554.537 L64.9285 554.537 Q60.8862 554.537 58.6901 557.211 Q56.4621 559.853 56.4621 564.659 Q56.4621 567.714 57.1941 570.611 Q57.9262 573.507 59.3903 576.181 L53.9795 576.181 Q52.7381 572.966 52.1334 569.942 Q51.4968 566.919 51.4968 564.054 Q51.4968 556.32 55.5072 552.5 Q59.5176 548.681 67.6657 548.681 Z\" fill=\"#000000\" fill-rule=\"evenodd\" fill-opacity=\"1\" /><circle clip-path=\"url(#clip782)\" cx=\"1472.61\" cy=\"735.212\" r=\"15\" fill=\"#410967\" fill-rule=\"evenodd\" fill-opacity=\"1\" stroke=\"#000000\" stroke-opacity=\"1\" stroke-width=\"3.2\"/>\n",
       "<circle clip-path=\"url(#clip782)\" cx=\"1472.61\" cy=\"518.87\" r=\"15\" fill=\"#410967\" fill-rule=\"evenodd\" fill-opacity=\"1\" stroke=\"#000000\" stroke-opacity=\"1\" stroke-width=\"3.2\"/>\n",
       "<circle clip-path=\"url(#clip782)\" cx=\"1765.8\" cy=\"302.528\" r=\"17\" fill=\"#500d6c\" fill-rule=\"evenodd\" fill-opacity=\"1\" stroke=\"#000000\" stroke-opacity=\"1\" stroke-width=\"3.2\"/>\n",
       "<circle clip-path=\"url(#clip782)\" cx=\"1472.61\" cy=\"86.1857\" r=\"16\" fill=\"#490b6a\" fill-rule=\"evenodd\" fill-opacity=\"1\" stroke=\"#000000\" stroke-opacity=\"1\" stroke-width=\"3.2\"/>\n",
       "<circle clip-path=\"url(#clip782)\" cx=\"591.265\" cy=\"86.1857\" r=\"19\" fill=\"#5c126e\" fill-rule=\"evenodd\" fill-opacity=\"1\" stroke=\"#000000\" stroke-opacity=\"1\" stroke-width=\"3.2\"/>\n",
       "<circle clip-path=\"url(#clip782)\" cx=\"591.265\" cy=\"302.528\" r=\"19\" fill=\"#5c126e\" fill-rule=\"evenodd\" fill-opacity=\"1\" stroke=\"#000000\" stroke-opacity=\"1\" stroke-width=\"3.2\"/>\n",
       "<circle clip-path=\"url(#clip782)\" cx=\"297.188\" cy=\"1167.9\" r=\"61\" fill=\"#fcfea4\" fill-rule=\"evenodd\" fill-opacity=\"1\" stroke=\"#000000\" stroke-opacity=\"1\" stroke-width=\"3.2\"/>\n",
       "<circle clip-path=\"url(#clip782)\" cx=\"1472.61\" cy=\"302.528\" r=\"4\" fill=\"#010109\" fill-rule=\"evenodd\" fill-opacity=\"1\" stroke=\"#000000\" stroke-opacity=\"1\" stroke-width=\"3.2\"/>\n",
       "<circle clip-path=\"url(#clip782)\" cx=\"1472.61\" cy=\"951.554\" r=\"4\" fill=\"#010109\" fill-rule=\"evenodd\" fill-opacity=\"1\" stroke=\"#000000\" stroke-opacity=\"1\" stroke-width=\"3.2\"/>\n",
       "<circle clip-path=\"url(#clip782)\" cx=\"884.455\" cy=\"1167.9\" r=\"7\" fill=\"#0b0725\" fill-rule=\"evenodd\" fill-opacity=\"1\" stroke=\"#000000\" stroke-opacity=\"1\" stroke-width=\"3.2\"/>\n",
       "<circle clip-path=\"url(#clip782)\" cx=\"884.455\" cy=\"518.87\" r=\"7\" fill=\"#0b0725\" fill-rule=\"evenodd\" fill-opacity=\"1\" stroke=\"#000000\" stroke-opacity=\"1\" stroke-width=\"3.2\"/>\n",
       "<circle clip-path=\"url(#clip782)\" cx=\"884.455\" cy=\"86.1857\" r=\"7\" fill=\"#0b0725\" fill-rule=\"evenodd\" fill-opacity=\"1\" stroke=\"#000000\" stroke-opacity=\"1\" stroke-width=\"3.2\"/>\n",
       "<circle clip-path=\"url(#clip782)\" cx=\"591.265\" cy=\"1167.9\" r=\"11\" fill=\"#210c4a\" fill-rule=\"evenodd\" fill-opacity=\"1\" stroke=\"#000000\" stroke-opacity=\"1\" stroke-width=\"3.2\"/>\n",
       "<circle clip-path=\"url(#clip782)\" cx=\"591.265\" cy=\"518.87\" r=\"11\" fill=\"#210c4a\" fill-rule=\"evenodd\" fill-opacity=\"1\" stroke=\"#000000\" stroke-opacity=\"1\" stroke-width=\"3.2\"/>\n",
       "<circle clip-path=\"url(#clip782)\" cx=\"1178.53\" cy=\"518.87\" r=\"5\" fill=\"#02020f\" fill-rule=\"evenodd\" fill-opacity=\"1\" stroke=\"#000000\" stroke-opacity=\"1\" stroke-width=\"3.2\"/>\n",
       "<circle clip-path=\"url(#clip782)\" cx=\"2059.88\" cy=\"86.1857\" r=\"13\" fill=\"#34095f\" fill-rule=\"evenodd\" fill-opacity=\"1\" stroke=\"#000000\" stroke-opacity=\"1\" stroke-width=\"3.2\"/>\n",
       "<circle clip-path=\"url(#clip782)\" cx=\"2059.88\" cy=\"1384.24\" r=\"13\" fill=\"#34095f\" fill-rule=\"evenodd\" fill-opacity=\"1\" stroke=\"#000000\" stroke-opacity=\"1\" stroke-width=\"3.2\"/>\n",
       "<circle clip-path=\"url(#clip782)\" cx=\"1178.53\" cy=\"1167.9\" r=\"7\" fill=\"#0a0723\" fill-rule=\"evenodd\" fill-opacity=\"1\" stroke=\"#000000\" stroke-opacity=\"1\" stroke-width=\"3.2\"/>\n",
       "<circle clip-path=\"url(#clip782)\" cx=\"1765.8\" cy=\"735.212\" r=\"9\" fill=\"#180b3c\" fill-rule=\"evenodd\" fill-opacity=\"1\" stroke=\"#000000\" stroke-opacity=\"1\" stroke-width=\"3.2\"/>\n",
       "<circle clip-path=\"url(#clip782)\" cx=\"884.455\" cy=\"302.528\" r=\"22\" fill=\"#731a6d\" fill-rule=\"evenodd\" fill-opacity=\"1\" stroke=\"#000000\" stroke-opacity=\"1\" stroke-width=\"3.2\"/>\n",
       "<circle clip-path=\"url(#clip782)\" cx=\"1178.53\" cy=\"302.528\" r=\"19\" fill=\"#5a116d\" fill-rule=\"evenodd\" fill-opacity=\"1\" stroke=\"#000000\" stroke-opacity=\"1\" stroke-width=\"3.2\"/>\n",
       "<circle clip-path=\"url(#clip782)\" cx=\"1178.53\" cy=\"735.212\" r=\"19\" fill=\"#5a116d\" fill-rule=\"evenodd\" fill-opacity=\"1\" stroke=\"#000000\" stroke-opacity=\"1\" stroke-width=\"3.2\"/>\n",
       "<circle clip-path=\"url(#clip782)\" cx=\"1472.61\" cy=\"1167.9\" r=\"18\" fill=\"#560f6d\" fill-rule=\"evenodd\" fill-opacity=\"1\" stroke=\"#000000\" stroke-opacity=\"1\" stroke-width=\"3.2\"/>\n",
       "<circle clip-path=\"url(#clip782)\" cx=\"2059.88\" cy=\"1167.9\" r=\"19\" fill=\"#59106d\" fill-rule=\"evenodd\" fill-opacity=\"1\" stroke=\"#000000\" stroke-opacity=\"1\" stroke-width=\"3.2\"/>\n",
       "<circle clip-path=\"url(#clip782)\" cx=\"297.188\" cy=\"951.554\" r=\"37\" fill=\"#d24643\" fill-rule=\"evenodd\" fill-opacity=\"1\" stroke=\"#000000\" stroke-opacity=\"1\" stroke-width=\"3.2\"/>\n",
       "<circle clip-path=\"url(#clip782)\" cx=\"591.265\" cy=\"951.554\" r=\"9\" fill=\"#130a34\" fill-rule=\"evenodd\" fill-opacity=\"1\" stroke=\"#000000\" stroke-opacity=\"1\" stroke-width=\"3.2\"/>\n",
       "<circle clip-path=\"url(#clip782)\" cx=\"1472.61\" cy=\"1384.24\" r=\"5\" fill=\"#040316\" fill-rule=\"evenodd\" fill-opacity=\"1\" stroke=\"#000000\" stroke-opacity=\"1\" stroke-width=\"3.2\"/>\n",
       "<circle clip-path=\"url(#clip782)\" cx=\"2059.88\" cy=\"735.212\" r=\"9\" fill=\"#160b39\" fill-rule=\"evenodd\" fill-opacity=\"1\" stroke=\"#000000\" stroke-opacity=\"1\" stroke-width=\"3.2\"/>\n",
       "<circle clip-path=\"url(#clip782)\" cx=\"884.455\" cy=\"735.212\" r=\"6\" fill=\"#050418\" fill-rule=\"evenodd\" fill-opacity=\"1\" stroke=\"#000000\" stroke-opacity=\"1\" stroke-width=\"3.2\"/>\n",
       "<circle clip-path=\"url(#clip782)\" cx=\"2059.88\" cy=\"518.87\" r=\"11\" fill=\"#220b4b\" fill-rule=\"evenodd\" fill-opacity=\"1\" stroke=\"#000000\" stroke-opacity=\"1\" stroke-width=\"3.2\"/>\n",
       "<circle clip-path=\"url(#clip782)\" cx=\"297.188\" cy=\"302.528\" r=\"19\" fill=\"#59106d\" fill-rule=\"evenodd\" fill-opacity=\"1\" stroke=\"#000000\" stroke-opacity=\"1\" stroke-width=\"3.2\"/>\n",
       "<circle clip-path=\"url(#clip782)\" cx=\"1765.8\" cy=\"1384.24\" r=\"10\" fill=\"#1c0c42\" fill-rule=\"evenodd\" fill-opacity=\"1\" stroke=\"#000000\" stroke-opacity=\"1\" stroke-width=\"3.2\"/>\n",
       "<circle clip-path=\"url(#clip782)\" cx=\"297.188\" cy=\"86.1857\" r=\"22\" fill=\"#6d186e\" fill-rule=\"evenodd\" fill-opacity=\"1\" stroke=\"#000000\" stroke-opacity=\"1\" stroke-width=\"3.2\"/>\n",
       "<circle clip-path=\"url(#clip782)\" cx=\"297.188\" cy=\"1384.24\" r=\"22\" fill=\"#6d186e\" fill-rule=\"evenodd\" fill-opacity=\"1\" stroke=\"#000000\" stroke-opacity=\"1\" stroke-width=\"3.2\"/>\n",
       "<circle clip-path=\"url(#clip782)\" cx=\"2059.88\" cy=\"951.554\" r=\"25\" fill=\"#811f6b\" fill-rule=\"evenodd\" fill-opacity=\"1\" stroke=\"#000000\" stroke-opacity=\"1\" stroke-width=\"3.2\"/>\n",
       "<circle clip-path=\"url(#clip782)\" cx=\"2059.88\" cy=\"302.528\" r=\"25\" fill=\"#811f6b\" fill-rule=\"evenodd\" fill-opacity=\"1\" stroke=\"#000000\" stroke-opacity=\"1\" stroke-width=\"3.2\"/>\n",
       "<circle clip-path=\"url(#clip782)\" cx=\"884.455\" cy=\"951.554\" r=\"4\" fill=\"#02010d\" fill-rule=\"evenodd\" fill-opacity=\"1\" stroke=\"#000000\" stroke-opacity=\"1\" stroke-width=\"3.2\"/>\n",
       "<circle clip-path=\"url(#clip782)\" cx=\"1178.53\" cy=\"951.554\" r=\"3\" fill=\"#000003\" fill-rule=\"evenodd\" fill-opacity=\"1\" stroke=\"#000000\" stroke-opacity=\"1\" stroke-width=\"3.2\"/>\n",
       "<circle clip-path=\"url(#clip782)\" cx=\"591.265\" cy=\"735.212\" r=\"8\" fill=\"#0d082a\" fill-rule=\"evenodd\" fill-opacity=\"1\" stroke=\"#000000\" stroke-opacity=\"1\" stroke-width=\"3.2\"/>\n",
       "<circle clip-path=\"url(#clip782)\" cx=\"297.188\" cy=\"518.87\" r=\"31\" fill=\"#ad2f5c\" fill-rule=\"evenodd\" fill-opacity=\"1\" stroke=\"#000000\" stroke-opacity=\"1\" stroke-width=\"3.2\"/>\n",
       "<circle clip-path=\"url(#clip782)\" cx=\"1765.8\" cy=\"86.1857\" r=\"19\" fill=\"#5e126e\" fill-rule=\"evenodd\" fill-opacity=\"1\" stroke=\"#000000\" stroke-opacity=\"1\" stroke-width=\"3.2\"/>\n",
       "<circle clip-path=\"url(#clip782)\" cx=\"1178.53\" cy=\"86.1857\" r=\"24\" fill=\"#7c1d6c\" fill-rule=\"evenodd\" fill-opacity=\"1\" stroke=\"#000000\" stroke-opacity=\"1\" stroke-width=\"3.2\"/>\n",
       "<circle clip-path=\"url(#clip782)\" cx=\"884.455\" cy=\"1384.24\" r=\"15\" fill=\"#3e0965\" fill-rule=\"evenodd\" fill-opacity=\"1\" stroke=\"#000000\" stroke-opacity=\"1\" stroke-width=\"3.2\"/>\n",
       "<circle clip-path=\"url(#clip782)\" cx=\"1765.8\" cy=\"518.87\" r=\"9\" fill=\"#180b3c\" fill-rule=\"evenodd\" fill-opacity=\"1\" stroke=\"#000000\" stroke-opacity=\"1\" stroke-width=\"3.2\"/>\n",
       "<circle clip-path=\"url(#clip782)\" cx=\"297.188\" cy=\"735.212\" r=\"23\" fill=\"#7a1c6c\" fill-rule=\"evenodd\" fill-opacity=\"1\" stroke=\"#000000\" stroke-opacity=\"1\" stroke-width=\"3.2\"/>\n",
       "<circle clip-path=\"url(#clip782)\" cx=\"1765.8\" cy=\"951.554\" r=\"10\" fill=\"#1a0b3f\" fill-rule=\"evenodd\" fill-opacity=\"1\" stroke=\"#000000\" stroke-opacity=\"1\" stroke-width=\"3.2\"/>\n",
       "<circle clip-path=\"url(#clip782)\" cx=\"1178.53\" cy=\"1384.24\" r=\"11\" fill=\"#220b4b\" fill-rule=\"evenodd\" fill-opacity=\"1\" stroke=\"#000000\" stroke-opacity=\"1\" stroke-width=\"3.2\"/>\n",
       "<circle clip-path=\"url(#clip782)\" cx=\"1765.8\" cy=\"1167.9\" r=\"4\" fill=\"#000006\" fill-rule=\"evenodd\" fill-opacity=\"1\" stroke=\"#000000\" stroke-opacity=\"1\" stroke-width=\"3.2\"/>\n",
       "<circle clip-path=\"url(#clip782)\" cx=\"591.265\" cy=\"1384.24\" r=\"20\" fill=\"#64146e\" fill-rule=\"evenodd\" fill-opacity=\"1\" stroke=\"#000000\" stroke-opacity=\"1\" stroke-width=\"3.2\"/>\n",
       "<defs>\n",
       "  <clipPath id=\"clip783\">\n",
       "    <rect x=\"2160\" y=\"47\" width=\"73\" height=\"1377\"/>\n",
       "  </clipPath>\n",
       "</defs>\n",
       "<g clip-path=\"url(#clip783)\">\n",
       "<image width=\"72\" height=\"1376\" xlink:href=\"data:image/png;base64,\n",
       "iVBORw0KGgoAAAANSUhEUgAAAEgAAAVgCAYAAADsKhu7AAAL6UlEQVR4nO3dwZEjNxBFQVBR/lsh\n",
       "L6UFZIHqHclDpgUTL35wCXTP7Off+/c7/K+/vv0D/DqBgkBBoCBQmPv+/fbP8NMsKAgUBAoChXnv\n",
       "z7d/hp9mQUGgIFAQKAgUHDWCBQWBgkBBoDDPh/TKgoJAQaAgUJh3fUhvLCgIFAQKAgWBgqNGsKAg\n",
       "UBAoCBR8SAcLCgIFgYJAwX1QsKAgUBAoCBQECnMcNVYWFAQKAgWBgvugYEFBoCBQECgIFOa4MFtZ\n",
       "UBAoCBQECnPuP9/+GX6aBQWBgkBBoODSPlhQECgIFAQKAgX3QcGCgkBBoCBQ8CEdLCgIFAQKAgX3\n",
       "QcGCgkBBoCBQECjMx1FjZUFBoCBQECjMuf5XhI0FBYGCQEGgIFBw1AgWFAQKAgWBgqNGsKAgUBAo\n",
       "CBS8HxQsKAgUBAoCBYHCfBw1VhYUBAoCBYGCt1yDBQWBgkBBoOCbdLCgIFAQKAgUBAoePQcLCgIF\n",
       "gYJAwVEjWFAQKAgUBAoCBUeNYEFBoCBQECg4agQLCgIFgYJAYc693/4ZfpoFBYGCQEGgIFBw1AgW\n",
       "FAQKAgWBgkv7YEFBoCBQECj4kA4WFAQKAgWBgkBhPp5qrCwoCBQECgIFR41gQUGgIFAQKAgUvEAV\n",
       "LCgIFAQKAgX3QcGCgkBBoCBQcB8ULCgIFAQKAgWBgvugYEFBoCBQECj4kA4WFAQKAgWBgl/qDRYU\n",
       "BAoCBYGCQMFRI1hQECgIFAQKPqSDBQWBgkBBoCBQ8K9YsKAgUBAoCBR8SAcLCgIFgYJAYc7zIb2x\n",
       "oCBQECgIFAQKjhrBgoJAQaAgUPAhHSwoCBQECgIFH9LBgoJAQaAgUBAozLnv2z/DT7OgIFAQKAgU\n",
       "HDWCBQWBgkBBoCBQcNQIFhQECgIFgYKjRrCgIFAQKAgUfJMOFhQECgIFgYJAYY6TxsqCgkBBoCBQ\n",
       "mPMcNTYWFAQKAgWBgm/SwYKCQEGgIFAQKPhXLFhQECgIFAQK44/g7SwoCBQECgIFgYKjRrCgIFAQ\n",
       "KAgUfEgHCwoCBYGCQGHO/Xz7Z/hpFhQECgIFgYJAYd7zr9jGgoJAQaAgUHAfFCwoCBQECgIF90HB\n",
       "goJAQaAgUBAozLsabdQJAgWBgkDBUSNYUBAoCBQECgKFOR49rywoCBQECgKFeY4aKwsKAgWBgkBh\n",
       "jkv7lTpBoCBQECgIFBw1ggUFgYJAQaDg0j5YUBAoCBQECl7iDOoEgYJAQaAgUPCWa7CgIFAQKAgU\n",
       "XNoHCwoCBYGCQEGgMO9ptFEnCBQECgIF90HBgoJAQaAgUHAfFCwoCBQECgIFgcIc90ErdYJAQaAg\n",
       "UHDUCBYUBAoCBYGCD+lgQUGgIFAQKAgU/NZzsKAgUBAoCBT81nNQJwgUBAoCBYHCPEeNlQUFgYJA\n",
       "QaDgqUawoCBQECgIFPyvCEGdIFAQKAgUBArug4IFBYGCQEGg4D4oWFAQKAgUBAq+SQcLCgIFgYJA\n",
       "QaDgLdegThAoCBQECo4awYKCQEGgIFAQKHiqESwoCBQECgIFR41gQUGgIFAQKPiva4IFBYGCQEGg\n",
       "IFDwv2QGdYJAQaAgUHAfFCwoCBQECgIFT1aDBQWBgkBBoCBQcNQIFhQECgIFgcJcH9IrCwoCBYGC\n",
       "QEGg4LeegzpBoCBQECi4DwoWFAQKAgWBgg/pYEFBoCBQECgIFLxAFSwoCBQECgIFR41gQUGgIFAQ\n",
       "KPiQDhYUBAoCBYGCQMGfpgjqBIGCQEGgMNel/cqCgkBBoCBQECi4MAsWFAQKAgWBgg/pYEFBoCBQ\n",
       "ECj4kA4WFAQKAgWBgkDBH1gKFhQECgIFgYKjRrCgIFAQKAgUfEgHCwoCBYGCQEGg4FcRgjpBoCBQ\n",
       "ECj4VYRgQUGgIFAQKAgUXJgFCwoCBYGCQMGHdLCgIFAQKAgUvMQZLCgIFAQKAgWBgqNGsKAgUBAo\n",
       "CBTmHR/SGwsKAgWBgkDBfVCwoCBQECgIFAQK7oOCBQWBgkBBoOCoESwoCBQECgIFgYKjRrCgIFAQ\n",
       "KAgUHDWCBQWBgkBBoOCbdLCgIFAQKAgUBAr+FQsWFAQKAgWBwly/irCyoCBQECgIFHyTDhYUBAoC\n",
       "BYGCQMGj52BBQaAgUBAozHvf/hF+mwUFgYJAQaAgUHDUCBYUBAoCBYGCv4IXLCgIFAQKAgXfpIMF\n",
       "BYGCQEGgIFDwAlWwoCBQECgIFPwqQrCgIFAQKAgUvB8ULCgIFAQKAgWBgqcawYKCQEGgIFBwaR8s\n",
       "KAgUBAoCBYGCpxrBgoJAQaAgUHAfFCwoCBQECgIFj56DBQWBgkBBoCBQcB8ULCgIFAQKAgWPnoMF\n",
       "BYGCQEGgMPfbP8GPs6AgUBAoCBQECo4awYKCQEGgIFDwflCwoCBQECgIFAQKLsyCBQWBgkBBoOA+\n",
       "KFhQECgIFAQKvkkHCwoCBYGCQEGg4KgRLCgIFAQKAgWPnoMFBYGCQEGgMP4yxc6CgkBBoCBQECg4\n",
       "agQLCgIFgYJAwaPnYEFBoCBQECgIFDx6DhYUBAoCBYGCo0awoCBQECgIFHyTDhYUBAoCBYGCQGGu\n",
       "N6hWFhQECgIFgYL7oGBBQaAgUBAouA8KFhQECgIFgYJAwVEjWFAQKAgUBArzXNqvLCgIFAQKAgWB\n",
       "wtzjwmxjQUGgIFAQKHg/KFhQECgIFAQK/gpesKAgUBAoCBQECv4KXrCgIFAQKAgUPHoOFhQECgIF\n",
       "gYKXOIMFBYGCQEGgIFDwC3XBgoJAQaAgUHDUCBYUBAoCBYGCQMFbrsGCgkBBoCBQ8JZrsKAgUBAo\n",
       "CBR8kw4WFAQKAgWBgkDBW67BgoJAQaAgUPD3g4IFBYGCQEGg4D4oWFAQKAgUBAoCBY+egwUFgYJA\n",
       "QaDgqBEsKAgUBAoCBYGCo0awoCBQECgIFBw1ggUFgYJAQaDgQzpYUBAoCBQECgIF90HBgoJAQaAg\n",
       "UHDUCBYUBAoCBYGCb9LBgoJAQaAgUBAoOGoECwoCBYGCQMHfDwoWFAQKAgWBgkDB/+0TLCgIFAQK\n",
       "AgX3QcGCgkBBoCBQmHd8Sm8sKAgUBAoCBYGCo0awoCBQECgIFDx6DhYUBAoCBYGCJ6vBgoJAQaAg\n",
       "UBAouA8KFhQECgIFgYJHz8GCgkBBoCBQECg4agQLCgIFgYJAwR9YChYUBAoCBYHCXC8IrSwoCBQE\n",
       "CgIFgYIXqIIFBYGCQEGgMM9RY2VBQaAgUBAo+CYdLCgIFAQKAgWBgqcawYKCQEGgIFDwflCwoCBQ\n",
       "ECgIFAQKc/1C3cqCgkBBoCBQcB8ULCgIFAQKAgV/miJYUBAoCBQECgIFL1AFCwoCBYGCQMGlfbCg\n",
       "IFAQKAgU3AcFCwoCBYGCQEGgMPe4EdpYUBAoCBQECu6DggUFgYJAQaAgUPCvWLCgIFAQKAgUPNUI\n",
       "FhQECgIFgYJL+2BBQaAgUBAoCBTmfhw1NhYUBAoCBYGCo0awoCBQECgIFOb5kF5ZUBAoCBQECgIF\n",
       "R41gQUGgIFAQKMz9+JDeWFAQKAgUBAoCBUeNYEFBoCBQECh4qhEsKAgUBAoCBd+kgwUFgYJAQaAg\n",
       "UPCvWLCgIFAQKAgUPHoOFhQECgIFgcK88+fbP8NPs6AgUBAoCBQECu6DggUFgYJAQaDg/aBgQUGg\n",
       "IFAQKAgU5j4XZhsLCgIFgYJAwVEjWFAQKAgUBApzPXpeWVAQKAgUBAoCBUeNYEFBoCBQECg4agQL\n",
       "CgIFgYJAYd7zTXpjQUGgIFAQKAgU3AcFCwoCBYGCQMFLnMGCgkBBoCBQECg4agQLCgIFgYJAYZ6j\n",
       "xsqCgkBBoCBQ8E06WFAQKAgUBAoChbleoFpZUBAoCBQECv7gdrCgIFAQKAgU/CpCsKAgUBAoCBQE\n",
       "Cp5qBAsKAgWBgkDBUSNYUBAoCBQECgIF/4oFCwoCBYGCQMGj52BBQaAgUBAo+CYdLCgIFAQKAgWB\n",
       "whyPnlcWFAQKAgWBgqNGsKAgUBAoCBS8xBksKAgUBAoCBYHCHEeNlQUFgYJAQaDg/aBgQUGgIFAQ\n",
       "KAgUPHoOFhQECgIFgYL7oGBBQaAgUBAozDvv2z/DT7OgIFAQKAgUBArug4IFBYGCQEGgMMdRY2VB\n",
       "QaAgUBAo/AdhU+3PqlcPeQAAAABJRU5ErkJggg==\n",
       "\" transform=\"translate(2161, 47)\"/>\n",
       "</g>\n",
       "<path clip-path=\"url(#clip780)\" d=\"M 0 0 M2280.7 1357.24 Q2277.09 1357.24 2275.26 1360.81 Q2273.45 1364.35 2273.45 1371.48 Q2273.45 1378.58 2275.26 1382.15 Q2277.09 1385.69 2280.7 1385.69 Q2284.33 1385.69 2286.14 1382.15 Q2287.97 1378.58 2287.97 1371.48 Q2287.97 1364.35 2286.14 1360.81 Q2284.33 1357.24 2280.7 1357.24 M2280.7 1353.54 Q2286.51 1353.54 2289.57 1358.15 Q2292.64 1362.73 2292.64 1371.48 Q2292.64 1380.21 2289.57 1384.81 Q2286.51 1389.4 2280.7 1389.4 Q2274.89 1389.4 2271.81 1384.81 Q2268.76 1380.21 2268.76 1371.48 Q2268.76 1362.73 2271.81 1358.15 Q2274.89 1353.54 2280.7 1353.54 Z\" fill=\"#000000\" fill-rule=\"evenodd\" fill-opacity=\"1\" /><path clip-path=\"url(#clip780)\" d=\"M 0 0 M2297.71 1382.84 L2302.6 1382.84 L2302.6 1388.72 L2297.71 1388.72 L2297.71 1382.84 Z\" fill=\"#000000\" fill-rule=\"evenodd\" fill-opacity=\"1\" /><path clip-path=\"url(#clip780)\" d=\"M 0 0 M2320.51 1358.24 L2308.71 1376.69 L2320.51 1376.69 L2320.51 1358.24 M2319.29 1354.16 L2325.17 1354.16 L2325.17 1376.69 L2330.1 1376.69 L2330.1 1380.58 L2325.17 1380.58 L2325.17 1388.72 L2320.51 1388.72 L2320.51 1380.58 L2304.91 1380.58 L2304.91 1376.06 L2319.29 1354.16 Z\" fill=\"#000000\" fill-rule=\"evenodd\" fill-opacity=\"1\" /><path clip-path=\"url(#clip780)\" d=\"M 0 0 M2345.17 1357.24 Q2341.56 1357.24 2339.73 1360.81 Q2337.92 1364.35 2337.92 1371.48 Q2337.92 1378.58 2339.73 1382.15 Q2341.56 1385.69 2345.17 1385.69 Q2348.8 1385.69 2350.61 1382.15 Q2352.44 1378.58 2352.44 1371.48 Q2352.44 1364.35 2350.61 1360.81 Q2348.8 1357.24 2345.17 1357.24 M2345.17 1353.54 Q2350.98 1353.54 2354.03 1358.15 Q2357.11 1362.73 2357.11 1371.48 Q2357.11 1380.21 2354.03 1384.81 Q2350.98 1389.4 2345.17 1389.4 Q2339.36 1389.4 2336.28 1384.81 Q2333.22 1380.21 2333.22 1371.48 Q2333.22 1362.73 2336.28 1358.15 Q2339.36 1353.54 2345.17 1353.54 Z\" fill=\"#000000\" fill-rule=\"evenodd\" fill-opacity=\"1\" /><path clip-path=\"url(#clip780)\" d=\"M 0 0 M2372.18 1357.24 Q2368.57 1357.24 2366.74 1360.81 Q2364.94 1364.35 2364.94 1371.48 Q2364.94 1378.58 2366.74 1382.15 Q2368.57 1385.69 2372.18 1385.69 Q2375.82 1385.69 2377.62 1382.15 Q2379.45 1378.58 2379.45 1371.48 Q2379.45 1364.35 2377.62 1360.81 Q2375.82 1357.24 2372.18 1357.24 M2372.18 1353.54 Q2377.99 1353.54 2381.05 1358.15 Q2384.13 1362.73 2384.13 1371.48 Q2384.13 1380.21 2381.05 1384.81 Q2377.99 1389.4 2372.18 1389.4 Q2366.37 1389.4 2363.29 1384.81 Q2360.24 1380.21 2360.24 1371.48 Q2360.24 1362.73 2363.29 1358.15 Q2366.37 1353.54 2372.18 1353.54 Z\" fill=\"#000000\" fill-rule=\"evenodd\" fill-opacity=\"1\" /><path clip-path=\"url(#clip780)\" d=\"M 0 0 M2280.7 1074.5 Q2277.09 1074.5 2275.26 1078.07 Q2273.45 1081.61 2273.45 1088.74 Q2273.45 1095.85 2275.26 1099.41 Q2277.09 1102.95 2280.7 1102.95 Q2284.33 1102.95 2286.14 1099.41 Q2287.97 1095.85 2287.97 1088.74 Q2287.97 1081.61 2286.14 1078.07 Q2284.33 1074.5 2280.7 1074.5 M2280.7 1070.8 Q2286.51 1070.8 2289.57 1075.41 Q2292.64 1079.99 2292.64 1088.74 Q2292.64 1097.47 2289.57 1102.07 Q2286.51 1106.66 2280.7 1106.66 Q2274.89 1106.66 2271.81 1102.07 Q2268.76 1097.47 2268.76 1088.74 Q2268.76 1079.99 2271.81 1075.41 Q2274.89 1070.8 2280.7 1070.8 Z\" fill=\"#000000\" fill-rule=\"evenodd\" fill-opacity=\"1\" /><path clip-path=\"url(#clip780)\" d=\"M 0 0 M2297.71 1100.11 L2302.6 1100.11 L2302.6 1105.99 L2297.71 1105.99 L2297.71 1100.11 Z\" fill=\"#000000\" fill-rule=\"evenodd\" fill-opacity=\"1\" /><path clip-path=\"url(#clip780)\" d=\"M 0 0 M2320.51 1075.5 L2308.71 1093.95 L2320.51 1093.95 L2320.51 1075.5 M2319.29 1071.43 L2325.17 1071.43 L2325.17 1093.95 L2330.1 1093.95 L2330.1 1097.84 L2325.17 1097.84 L2325.17 1105.99 L2320.51 1105.99 L2320.51 1097.84 L2304.91 1097.84 L2304.91 1093.32 L2319.29 1071.43 Z\" fill=\"#000000\" fill-rule=\"evenodd\" fill-opacity=\"1\" /><path clip-path=\"url(#clip780)\" d=\"M 0 0 M2339.2 1102.05 L2355.51 1102.05 L2355.51 1105.99 L2333.57 1105.99 L2333.57 1102.05 Q2336.23 1099.3 2340.82 1094.67 Q2345.42 1090.01 2346.6 1088.67 Q2348.85 1086.15 2349.73 1084.41 Q2350.63 1082.65 2350.63 1080.96 Q2350.63 1078.21 2348.69 1076.47 Q2346.76 1074.74 2343.66 1074.74 Q2341.46 1074.74 2339.01 1075.5 Q2336.58 1076.26 2333.8 1077.82 L2333.8 1073.09 Q2336.63 1071.96 2339.08 1071.38 Q2341.53 1070.8 2343.57 1070.8 Q2348.94 1070.8 2352.14 1073.49 Q2355.33 1076.17 2355.33 1080.66 Q2355.33 1082.79 2354.52 1084.71 Q2353.73 1086.61 2351.63 1089.2 Q2351.05 1089.88 2347.95 1093.09 Q2344.84 1096.29 2339.2 1102.05 Z\" fill=\"#000000\" fill-rule=\"evenodd\" fill-opacity=\"1\" /><path clip-path=\"url(#clip780)\" d=\"M 0 0 M2360.63 1071.43 L2378.99 1071.43 L2378.99 1075.36 L2364.91 1075.36 L2364.91 1083.83 Q2365.93 1083.49 2366.95 1083.32 Q2367.97 1083.14 2368.99 1083.14 Q2374.77 1083.14 2378.15 1086.31 Q2381.53 1089.48 2381.53 1094.9 Q2381.53 1100.48 2378.06 1103.58 Q2374.59 1106.66 2368.27 1106.66 Q2366.09 1106.66 2363.82 1106.29 Q2361.58 1105.92 2359.17 1105.18 L2359.17 1100.48 Q2361.26 1101.61 2363.48 1102.17 Q2365.7 1102.72 2368.18 1102.72 Q2372.18 1102.72 2374.52 1100.62 Q2376.86 1098.51 2376.86 1094.9 Q2376.86 1091.29 2374.52 1089.18 Q2372.18 1087.07 2368.18 1087.07 Q2366.3 1087.07 2364.43 1087.49 Q2362.57 1087.91 2360.63 1088.79 L2360.63 1071.43 Z\" fill=\"#000000\" fill-rule=\"evenodd\" fill-opacity=\"1\" /><path clip-path=\"url(#clip780)\" d=\"M 0 0 M2280.7 791.767 Q2277.09 791.767 2275.26 795.332 Q2273.45 798.874 2273.45 806.004 Q2273.45 813.11 2275.26 816.675 Q2277.09 820.216 2280.7 820.216 Q2284.33 820.216 2286.14 816.675 Q2287.97 813.11 2287.97 806.004 Q2287.97 798.874 2286.14 795.332 Q2284.33 791.767 2280.7 791.767 M2280.7 788.064 Q2286.51 788.064 2289.57 792.67 Q2292.64 797.254 2292.64 806.004 Q2292.64 814.73 2289.57 819.337 Q2286.51 823.92 2280.7 823.92 Q2274.89 823.92 2271.81 819.337 Q2268.76 814.73 2268.76 806.004 Q2268.76 797.254 2271.81 792.67 Q2274.89 788.064 2280.7 788.064 Z\" fill=\"#000000\" fill-rule=\"evenodd\" fill-opacity=\"1\" /><path clip-path=\"url(#clip780)\" d=\"M 0 0 M2297.71 817.369 L2302.6 817.369 L2302.6 823.249 L2297.71 823.249 L2297.71 817.369 Z\" fill=\"#000000\" fill-rule=\"evenodd\" fill-opacity=\"1\" /><path clip-path=\"url(#clip780)\" d=\"M 0 0 M2320.51 792.763 L2308.71 811.212 L2320.51 811.212 L2320.51 792.763 M2319.29 788.689 L2325.17 788.689 L2325.17 811.212 L2330.1 811.212 L2330.1 815.101 L2325.17 815.101 L2325.17 823.249 L2320.51 823.249 L2320.51 815.101 L2304.91 815.101 L2304.91 810.587 L2319.29 788.689 Z\" fill=\"#000000\" fill-rule=\"evenodd\" fill-opacity=\"1\" /><path clip-path=\"url(#clip780)\" d=\"M 0 0 M2335.21 788.689 L2353.57 788.689 L2353.57 792.624 L2339.5 792.624 L2339.5 801.096 Q2340.51 800.749 2341.53 800.587 Q2342.55 800.402 2343.57 800.402 Q2349.36 800.402 2352.74 803.573 Q2356.12 806.744 2356.12 812.161 Q2356.12 817.74 2352.64 820.841 Q2349.17 823.92 2342.85 823.92 Q2340.68 823.92 2338.41 823.55 Q2336.16 823.179 2333.76 822.439 L2333.76 817.74 Q2335.84 818.874 2338.06 819.429 Q2340.28 819.985 2342.76 819.985 Q2346.76 819.985 2349.1 817.878 Q2351.44 815.772 2351.44 812.161 Q2351.44 808.55 2349.1 806.443 Q2346.76 804.337 2342.76 804.337 Q2340.89 804.337 2339.01 804.754 Q2337.16 805.17 2335.21 806.05 L2335.21 788.689 Z\" fill=\"#000000\" fill-rule=\"evenodd\" fill-opacity=\"1\" /><path clip-path=\"url(#clip780)\" d=\"M 0 0 M2371.19 791.767 Q2367.57 791.767 2365.75 795.332 Q2363.94 798.874 2363.94 806.004 Q2363.94 813.11 2365.75 816.675 Q2367.57 820.216 2371.19 820.216 Q2374.82 820.216 2376.63 816.675 Q2378.45 813.11 2378.45 806.004 Q2378.45 798.874 2376.63 795.332 Q2374.82 791.767 2371.19 791.767 M2371.19 788.064 Q2377 788.064 2380.05 792.67 Q2383.13 797.254 2383.13 806.004 Q2383.13 814.73 2380.05 819.337 Q2377 823.92 2371.19 823.92 Q2365.38 823.92 2362.3 819.337 Q2359.24 814.73 2359.24 806.004 Q2359.24 797.254 2362.3 792.67 Q2365.38 788.064 2371.19 788.064 Z\" fill=\"#000000\" fill-rule=\"evenodd\" fill-opacity=\"1\" /><path clip-path=\"url(#clip780)\" d=\"M 0 0 M2280.7 509.03 Q2277.09 509.03 2275.26 512.595 Q2273.45 516.136 2273.45 523.266 Q2273.45 530.373 2275.26 533.937 Q2277.09 537.479 2280.7 537.479 Q2284.33 537.479 2286.14 533.937 Q2287.97 530.373 2287.97 523.266 Q2287.97 516.136 2286.14 512.595 Q2284.33 509.03 2280.7 509.03 M2280.7 505.326 Q2286.51 505.326 2289.57 509.933 Q2292.64 514.516 2292.64 523.266 Q2292.64 531.993 2289.57 536.599 Q2286.51 541.183 2280.7 541.183 Q2274.89 541.183 2271.81 536.599 Q2268.76 531.993 2268.76 523.266 Q2268.76 514.516 2271.81 509.933 Q2274.89 505.326 2280.7 505.326 Z\" fill=\"#000000\" fill-rule=\"evenodd\" fill-opacity=\"1\" /><path clip-path=\"url(#clip780)\" d=\"M 0 0 M2297.71 534.632 L2302.6 534.632 L2302.6 540.511 L2297.71 540.511 L2297.71 534.632 Z\" fill=\"#000000\" fill-rule=\"evenodd\" fill-opacity=\"1\" /><path clip-path=\"url(#clip780)\" d=\"M 0 0 M2320.51 510.025 L2308.71 528.474 L2320.51 528.474 L2320.51 510.025 M2319.29 505.951 L2325.17 505.951 L2325.17 528.474 L2330.1 528.474 L2330.1 532.363 L2325.17 532.363 L2325.17 540.511 L2320.51 540.511 L2320.51 532.363 L2304.91 532.363 L2304.91 527.849 L2319.29 505.951 Z\" fill=\"#000000\" fill-rule=\"evenodd\" fill-opacity=\"1\" /><path clip-path=\"url(#clip780)\" d=\"M 0 0 M2333.99 505.951 L2356.21 505.951 L2356.21 507.942 L2343.66 540.511 L2338.78 540.511 L2350.58 509.887 L2333.99 509.887 L2333.99 505.951 Z\" fill=\"#000000\" fill-rule=\"evenodd\" fill-opacity=\"1\" /><path clip-path=\"url(#clip780)\" d=\"M 0 0 M2361.32 505.951 L2379.68 505.951 L2379.68 509.887 L2365.61 509.887 L2365.61 518.359 Q2366.63 518.011 2367.64 517.849 Q2368.66 517.664 2369.68 517.664 Q2375.47 517.664 2378.85 520.836 Q2382.23 524.007 2382.23 529.423 Q2382.23 535.002 2378.76 538.104 Q2375.28 541.183 2368.96 541.183 Q2366.79 541.183 2364.52 540.812 Q2362.27 540.442 2359.87 539.701 L2359.87 535.002 Q2361.95 536.136 2364.17 536.692 Q2366.39 537.247 2368.87 537.247 Q2372.88 537.247 2375.21 535.141 Q2377.55 533.035 2377.55 529.423 Q2377.55 525.812 2375.21 523.706 Q2372.88 521.599 2368.87 521.599 Q2367 521.599 2365.12 522.016 Q2363.27 522.433 2361.32 523.312 L2361.32 505.951 Z\" fill=\"#000000\" fill-rule=\"evenodd\" fill-opacity=\"1\" /><path clip-path=\"url(#clip780)\" d=\"M 0 0 M2280.7 226.293 Q2277.09 226.293 2275.26 229.857 Q2273.45 233.399 2273.45 240.529 Q2273.45 247.635 2275.26 251.2 Q2277.09 254.741 2280.7 254.741 Q2284.33 254.741 2286.14 251.2 Q2287.97 247.635 2287.97 240.529 Q2287.97 233.399 2286.14 229.857 Q2284.33 226.293 2280.7 226.293 M2280.7 222.589 Q2286.51 222.589 2289.57 227.195 Q2292.64 231.779 2292.64 240.529 Q2292.64 249.255 2289.57 253.862 Q2286.51 258.445 2280.7 258.445 Q2274.89 258.445 2271.81 253.862 Q2268.76 249.255 2268.76 240.529 Q2268.76 231.779 2271.81 227.195 Q2274.89 222.589 2280.7 222.589 Z\" fill=\"#000000\" fill-rule=\"evenodd\" fill-opacity=\"1\" /><path clip-path=\"url(#clip780)\" d=\"M 0 0 M2297.71 251.894 L2302.6 251.894 L2302.6 257.774 L2297.71 257.774 L2297.71 251.894 Z\" fill=\"#000000\" fill-rule=\"evenodd\" fill-opacity=\"1\" /><path clip-path=\"url(#clip780)\" d=\"M 0 0 M2307.71 223.214 L2326.07 223.214 L2326.07 227.149 L2312 227.149 L2312 235.621 Q2313.01 235.274 2314.03 235.112 Q2315.05 234.927 2316.07 234.927 Q2321.86 234.927 2325.24 238.098 Q2328.62 241.269 2328.62 246.686 Q2328.62 252.265 2325.14 255.366 Q2321.67 258.445 2315.35 258.445 Q2313.18 258.445 2310.91 258.075 Q2308.66 257.704 2306.26 256.964 L2306.26 252.265 Q2308.34 253.399 2310.56 253.954 Q2312.78 254.51 2315.26 254.51 Q2319.26 254.51 2321.6 252.404 Q2323.94 250.297 2323.94 246.686 Q2323.94 243.075 2321.6 240.968 Q2319.26 238.862 2315.26 238.862 Q2313.39 238.862 2311.51 239.279 Q2309.66 239.695 2307.71 240.575 L2307.71 223.214 Z\" fill=\"#000000\" fill-rule=\"evenodd\" fill-opacity=\"1\" /><path clip-path=\"url(#clip780)\" d=\"M 0 0 M2343.69 226.293 Q2340.07 226.293 2338.25 229.857 Q2336.44 233.399 2336.44 240.529 Q2336.44 247.635 2338.25 251.2 Q2340.07 254.741 2343.69 254.741 Q2347.32 254.741 2349.13 251.2 Q2350.95 247.635 2350.95 240.529 Q2350.95 233.399 2349.13 229.857 Q2347.32 226.293 2343.69 226.293 M2343.69 222.589 Q2349.5 222.589 2352.55 227.195 Q2355.63 231.779 2355.63 240.529 Q2355.63 249.255 2352.55 253.862 Q2349.5 258.445 2343.69 258.445 Q2337.88 258.445 2334.8 253.862 Q2331.74 249.255 2331.74 240.529 Q2331.74 231.779 2334.8 227.195 Q2337.88 222.589 2343.69 222.589 Z\" fill=\"#000000\" fill-rule=\"evenodd\" fill-opacity=\"1\" /><path clip-path=\"url(#clip780)\" d=\"M 0 0 M2370.7 226.293 Q2367.09 226.293 2365.26 229.857 Q2363.45 233.399 2363.45 240.529 Q2363.45 247.635 2365.26 251.2 Q2367.09 254.741 2370.7 254.741 Q2374.33 254.741 2376.14 251.2 Q2377.97 247.635 2377.97 240.529 Q2377.97 233.399 2376.14 229.857 Q2374.33 226.293 2370.7 226.293 M2370.7 222.589 Q2376.51 222.589 2379.57 227.195 Q2382.64 231.779 2382.64 240.529 Q2382.64 249.255 2379.57 253.862 Q2376.51 258.445 2370.7 258.445 Q2364.89 258.445 2361.81 253.862 Q2358.76 249.255 2358.76 240.529 Q2358.76 231.779 2361.81 227.195 Q2364.89 222.589 2370.7 222.589 Z\" fill=\"#000000\" fill-rule=\"evenodd\" fill-opacity=\"1\" /><polyline clip-path=\"url(#clip780)\" style=\"stroke:#000000; stroke-width:4; stroke-opacity:1; fill:none\" points=\"\n",
       "  2232.76,1423.18 2232.76,1375.07 2256.76,1375.07 2232.76,1375.07 2232.76,1092.34 2256.76,1092.34 2232.76,1092.34 2232.76,809.598 2256.76,809.598 2232.76,809.598 \n",
       "  2232.76,526.86 2256.76,526.86 2232.76,526.86 2232.76,244.123 2256.76,244.123 2232.76,244.123 2232.76,47.2441 \n",
       "  \"/>\n",
       "</svg>\n"
      ]
     },
     "execution_count": 67,
     "metadata": {},
     "output_type": "execute_result"
    }
   ],
   "source": [
    "plot(self_tuning_nn)"
   ]
  },
  {
   "cell_type": "code",
   "execution_count": 68,
   "metadata": {},
   "outputs": [
    {
     "data": {
      "text/plain": [
       "(best_model = \u001b[34mNeuralNetworkClassifier{CustomNN,…} @803\u001b[39m,\n",
       " best_fitted_params = (chain = Chain(Chain(Dense(41, 100, σ), Dense(100, 2, σ)), softmax),),)"
      ]
     },
     "execution_count": 68,
     "metadata": {},
     "output_type": "execute_result"
    }
   ],
   "source": [
    "best = fitted_params(self_tuning_nn)\n",
    "best"
   ]
  },
  {
   "cell_type": "code",
   "execution_count": 69,
   "metadata": {},
   "outputs": [
    {
     "data": {
      "text/plain": [
       "NeuralNetworkClassifier(\n",
       "    builder = CustomNN(\n",
       "            n1 = 100),\n",
       "    finaliser = NNlib.softmax,\n",
       "    optimiser = ADAM(0.001, (0.9, 0.999), IdDict{Any,Any}()),\n",
       "    loss = Flux.crossentropy,\n",
       "    epochs = 1005,\n",
       "    batch_size = 16,\n",
       "    lambda = 0.01,\n",
       "    alpha = 0.0,\n",
       "    optimiser_changes_trigger_retraining = false)\u001b[34m @803\u001b[39m"
      ]
     },
     "execution_count": 69,
     "metadata": {},
     "output_type": "execute_result"
    }
   ],
   "source": [
    "best.best_model"
   ]
  },
  {
   "cell_type": "code",
   "execution_count": 70,
   "metadata": {
    "scrolled": true
   },
   "outputs": [
    {
     "data": {
      "text/plain": [
       "0.3957463f0"
      ]
     },
     "execution_count": 70,
     "metadata": {},
     "output_type": "execute_result"
    }
   ],
   "source": [
    "best_loss = z.report.best_result.measurement[1]"
   ]
  },
  {
   "cell_type": "code",
   "execution_count": 71,
   "metadata": {},
   "outputs": [
    {
     "data": {
      "text/plain": [
       "0.001"
      ]
     },
     "execution_count": 71,
     "metadata": {},
     "output_type": "execute_result"
    }
   ],
   "source": [
    "best_eta = round(best.best_model.optimiser.eta, digits=5)"
   ]
  },
  {
   "cell_type": "code",
   "execution_count": 72,
   "metadata": {},
   "outputs": [],
   "source": [
    "fn = \"Figures/Grid_NN_$(param1):$(best.best_model.epochs)_x_$(param2):$(best_eta)_bestloss:$(best_loss)_hidden:$b\"\n",
    "png(replace(fn,'.' => ','))"
   ]
  },
  {
   "cell_type": "markdown",
   "metadata": {},
   "source": [
    "### GridSearch for Regularization"
   ]
  },
  {
   "cell_type": "code",
   "execution_count": 73,
   "metadata": {
    "scrolled": true
   },
   "outputs": [
    {
     "data": {
      "text/plain": [
       "NeuralNetworkClassifier(\n",
       "    builder = CustomNN(\n",
       "            n1 = 100),\n",
       "    finaliser = NNlib.softmax,\n",
       "    optimiser = ADAM(0.001, (0.9, 0.999), IdDict{Any,Any}()),\n",
       "    loss = Flux.crossentropy,\n",
       "    epochs = 10,\n",
       "    batch_size = 1,\n",
       "    lambda = 0.0,\n",
       "    alpha = 0.0,\n",
       "    optimiser_changes_trigger_retraining = false)\u001b[34m @210\u001b[39m"
      ]
     },
     "execution_count": 73,
     "metadata": {},
     "output_type": "execute_result"
    }
   ],
   "source": [
    "nn = NeuralNetworkClassifier(builder=CustomNN(best_n1))"
   ]
  },
  {
   "cell_type": "code",
   "execution_count": 74,
   "metadata": {},
   "outputs": [
    {
     "data": {
      "text/plain": [
       "0.01"
      ]
     },
     "execution_count": 74,
     "metadata": {},
     "output_type": "execute_result"
    }
   ],
   "source": [
    "nn.optimiser.eta = best_eta\n",
    "nn.epochs = 60\n",
    "nn.batch_size = batch_sz\n",
    "nn.lambda = 0.01"
   ]
  },
  {
   "cell_type": "code",
   "execution_count": 75,
   "metadata": {},
   "outputs": [
    {
     "name": "stderr",
     "output_type": "stream",
     "text": [
      "┌ Warning: The scitype of `X`, in `machine(model, X, ...)` is incompatible with `model=\u001b[34mNeuralNetworkClassifier{CustomNN,…} @210\u001b[39m`:\n",
      "│ scitype(X) = Table{Union{AbstractArray{Continuous,1}, AbstractArray{Count,1}}}\n",
      "│ input_scitype(model) = Table{var\"#s44\"} where var\"#s44\"<:(AbstractArray{var\"#s13\",1} where var\"#s13\"<:Continuous).\n",
      "└ @ MLJBase /home/andrew/.julia/packages/MLJBase/uKzAz/src/machines.jl:77\n"
     ]
    },
    {
     "data": {
      "text/plain": [
       "\u001b[34mMachine{NeuralNetworkClassifier{CustomNN,…}} @812\u001b[39m trained 0 times.\n",
       "  args: \n",
       "    1:\t\u001b[34mSource @594\u001b[39m ⏎ `Table{Union{AbstractArray{Continuous,1}, AbstractArray{Count,1}}}`\n",
       "    2:\t\u001b[34mSource @284\u001b[39m ⏎ `AbstractArray{Multiclass{2},1}`\n"
      ]
     },
     "execution_count": 75,
     "metadata": {},
     "output_type": "execute_result"
    }
   ],
   "source": [
    "Net = machine(nn, X_stand, y)"
   ]
  },
  {
   "cell_type": "code",
   "execution_count": 76,
   "metadata": {},
   "outputs": [
    {
     "data": {
      "text/plain": [
       "MLJBase.NumericRange(Float64, :lambda, ... )"
      ]
     },
     "execution_count": 76,
     "metadata": {},
     "output_type": "execute_result"
    }
   ],
   "source": [
    "param1 = :epochs\n",
    "param2 = :lambda\n",
    "\n",
    "r1 = range(nn, param1, lower=100, upper=2000, scale=:linear)\n",
    "r2 = range(nn, param2, lower=0.0001, upper=10, scale=:log10)"
   ]
  },
  {
   "cell_type": "code",
   "execution_count": 77,
   "metadata": {
    "scrolled": true
   },
   "outputs": [
    {
     "data": {
      "text/plain": [
       "ProbabilisticTunedModel(\n",
       "    model = NeuralNetworkClassifier(\n",
       "            builder = \u001b[34mCustomNN @302\u001b[39m,\n",
       "            finaliser = NNlib.softmax,\n",
       "            optimiser = ADAM(0.001, (0.9, 0.999), IdDict{Any,Any}()),\n",
       "            loss = Flux.crossentropy,\n",
       "            epochs = 60,\n",
       "            batch_size = 16,\n",
       "            lambda = 0.01,\n",
       "            alpha = 0.0,\n",
       "            optimiser_changes_trigger_retraining = false),\n",
       "    tuning = Grid(\n",
       "            goal = 50,\n",
       "            resolution = 10,\n",
       "            shuffle = true,\n",
       "            rng = Random._GLOBAL_RNG()),\n",
       "    resampling = Holdout(\n",
       "            fraction_train = 0.7,\n",
       "            shuffle = false,\n",
       "            rng = Random._GLOBAL_RNG()),\n",
       "    measure = cross_entropy(\n",
       "            eps = 2.220446049250313e-16),\n",
       "    weights = nothing,\n",
       "    operation = MLJModelInterface.predict,\n",
       "    range = MLJBase.NumericRange{T,MLJBase.Bounded,Symbol} where T[\u001b[34mNumericRange{Int64,…} @132\u001b[39m, \u001b[34mNumericRange{Float64,…} @932\u001b[39m],\n",
       "    train_best = true,\n",
       "    repeats = 1,\n",
       "    n = nothing,\n",
       "    acceleration = CPUThreads{Int64}(1),\n",
       "    acceleration_resampling = CPU1{Nothing}(nothing),\n",
       "    check_measure = true)\u001b[34m @139\u001b[39m"
      ]
     },
     "execution_count": 77,
     "metadata": {},
     "output_type": "execute_result"
    }
   ],
   "source": [
    "self_tuning_nn_model = TunedModel(model=nn,\n",
    "                                    tuning=Grid(goal=50),\n",
    "                                    resampling=Holdout(fraction_train=0.7), \n",
    "                                    measure=cross_entropy,\n",
    "                                    acceleration=CPUThreads(),\n",
    "                                    range=[r1, r2])"
   ]
  },
  {
   "cell_type": "code",
   "execution_count": 78,
   "metadata": {},
   "outputs": [
    {
     "name": "stderr",
     "output_type": "stream",
     "text": [
      "┌ Warning: The scitype of `X`, in `machine(model, X, ...)` is incompatible with `model=\u001b[34mProbabilisticTunedModel{Grid,…} @139\u001b[39m`:\n",
      "│ scitype(X) = Table{Union{AbstractArray{Continuous,1}, AbstractArray{Count,1}}}\n",
      "│ input_scitype(model) = Table{var\"#s44\"} where var\"#s44\"<:(AbstractArray{var\"#s13\",1} where var\"#s13\"<:Continuous).\n",
      "└ @ MLJBase /home/andrew/.julia/packages/MLJBase/uKzAz/src/machines.jl:77\n"
     ]
    },
    {
     "data": {
      "text/plain": [
       "\u001b[34mMachine{ProbabilisticTunedModel{Grid,…}} @148\u001b[39m trained 0 times.\n",
       "  args: \n",
       "    1:\t\u001b[34mSource @043\u001b[39m ⏎ `Table{Union{AbstractArray{Continuous,1}, AbstractArray{Count,1}}}`\n",
       "    2:\t\u001b[34mSource @048\u001b[39m ⏎ `AbstractArray{Multiclass{2},1}`\n"
      ]
     },
     "execution_count": 78,
     "metadata": {},
     "output_type": "execute_result"
    }
   ],
   "source": [
    "self_tuning_nn = machine(self_tuning_nn_model, X_stand, y)"
   ]
  },
  {
   "cell_type": "code",
   "execution_count": 79,
   "metadata": {
    "scrolled": true
   },
   "outputs": [
    {
     "name": "stderr",
     "output_type": "stream",
     "text": [
      "┌ Info: Training \u001b[34mMachine{ProbabilisticTunedModel{Grid,…}} @148\u001b[39m.\n",
      "└ @ MLJBase /home/andrew/.julia/packages/MLJBase/uKzAz/src/machines.jl:319\n",
      "┌ Info: Attempting to evaluate 49 models.\n",
      "└ @ MLJTuning /home/andrew/.julia/packages/MLJTuning/Bbgvk/src/tuned_models.jl:494\n",
      "┌ Warning: The scitype of `X`, in `machine(model, X, ...)` is incompatible with `model=\u001b[34mResampler{Holdout,…} @569\u001b[39m`:\n",
      "│ scitype(X) = Table{Union{AbstractArray{Continuous,1}, AbstractArray{Count,1}}}\n",
      "│ input_scitype(model) = Table{var\"#s44\"} where var\"#s44\"<:(AbstractArray{var\"#s13\",1} where var\"#s13\"<:Continuous).\n",
      "└ @ MLJBase /home/andrew/.julia/packages/MLJBase/uKzAz/src/machines.jl:77\n",
      "\u001b[33mEvaluating over 49 metamodels:   0%[>                        ]  ETA: N/A\u001b[39m┌ Warning: The scitype of `X`, in `machine(model, X, ...)` is incompatible with `model=\u001b[34mNeuralNetworkClassifier{CustomNN,…} @040\u001b[39m`:\n",
      "│ scitype(X) = Table{Union{AbstractArray{Continuous,1}, AbstractArray{Count,1}}}\n",
      "│ input_scitype(model) = Table{var\"#s44\"} where var\"#s44\"<:(AbstractArray{var\"#s13\",1} where var\"#s13\"<:Continuous).\n",
      "└ @ MLJBase /home/andrew/.julia/packages/MLJBase/uKzAz/src/machines.jl:77\n",
      "\u001b[33mEvaluating over 49 metamodels: 100%[=========================] Time: 0:08:38\u001b[39m\n",
      "┌ Warning: The scitype of `X`, in `machine(model, X, ...)` is incompatible with `model=\u001b[34mNeuralNetworkClassifier{CustomNN,…} @239\u001b[39m`:\n",
      "│ scitype(X) = Table{Union{AbstractArray{Continuous,1}, AbstractArray{Count,1}}}\n",
      "│ input_scitype(model) = Table{var\"#s44\"} where var\"#s44\"<:(AbstractArray{var\"#s13\",1} where var\"#s13\"<:Continuous).\n",
      "└ @ MLJBase /home/andrew/.julia/packages/MLJBase/uKzAz/src/machines.jl:77\n"
     ]
    },
    {
     "data": {
      "text/plain": [
       "\u001b[34mMachine{ProbabilisticTunedModel{Grid,…}} @148\u001b[39m trained 1 time.\n",
       "  args: \n",
       "    1:\t\u001b[34mSource @043\u001b[39m ⏎ `Table{Union{AbstractArray{Continuous,1}, AbstractArray{Count,1}}}`\n",
       "    2:\t\u001b[34mSource @048\u001b[39m ⏎ `AbstractArray{Multiclass{2},1}`\n"
      ]
     },
     "execution_count": 79,
     "metadata": {},
     "output_type": "execute_result"
    }
   ],
   "source": [
    "z = fit!(self_tuning_nn, rows=train)"
   ]
  },
  {
   "cell_type": "code",
   "execution_count": 80,
   "metadata": {
    "scrolled": false
   },
   "outputs": [
    {
     "data": {
      "image/svg+xml": [
       "<?xml version=\"1.0\" encoding=\"utf-8\"?>\n",
       "<svg xmlns=\"http://www.w3.org/2000/svg\" xmlns:xlink=\"http://www.w3.org/1999/xlink\" width=\"600\" height=\"400\" viewBox=\"0 0 2400 1600\">\n",
       "<defs>\n",
       "  <clipPath id=\"clip830\">\n",
       "    <rect x=\"0\" y=\"0\" width=\"2400\" height=\"1600\"/>\n",
       "  </clipPath>\n",
       "</defs>\n",
       "<path clip-path=\"url(#clip830)\" d=\"\n",
       "M0 1600 L2400 1600 L2400 0 L0 0  Z\n",
       "  \" fill=\"#ffffff\" fill-rule=\"evenodd\" fill-opacity=\"1\"/>\n",
       "<defs>\n",
       "  <clipPath id=\"clip831\">\n",
       "    <rect x=\"480\" y=\"0\" width=\"1681\" height=\"1600\"/>\n",
       "  </clipPath>\n",
       "</defs>\n",
       "<path clip-path=\"url(#clip830)\" d=\"\n",
       "M244.308 1423.18 L2112.76 1423.18 L2112.76 47.2441 L244.308 47.2441  Z\n",
       "  \" fill=\"#ffffff\" fill-rule=\"evenodd\" fill-opacity=\"1\"/>\n",
       "<defs>\n",
       "  <clipPath id=\"clip832\">\n",
       "    <rect x=\"244\" y=\"47\" width=\"1869\" height=\"1377\"/>\n",
       "  </clipPath>\n",
       "</defs>\n",
       "<polyline clip-path=\"url(#clip832)\" style=\"stroke:#000000; stroke-width:2; stroke-opacity:0.1; fill:none\" points=\"\n",
       "  668.28,1423.18 668.28,47.2441 \n",
       "  \"/>\n",
       "<polyline clip-path=\"url(#clip832)\" style=\"stroke:#000000; stroke-width:2; stroke-opacity:0.1; fill:none\" points=\"\n",
       "  1132.15,1423.18 1132.15,47.2441 \n",
       "  \"/>\n",
       "<polyline clip-path=\"url(#clip832)\" style=\"stroke:#000000; stroke-width:2; stroke-opacity:0.1; fill:none\" points=\"\n",
       "  1596.01,1423.18 1596.01,47.2441 \n",
       "  \"/>\n",
       "<polyline clip-path=\"url(#clip832)\" style=\"stroke:#000000; stroke-width:2; stroke-opacity:0.1; fill:none\" points=\"\n",
       "  2059.88,1423.18 2059.88,47.2441 \n",
       "  \"/>\n",
       "<polyline clip-path=\"url(#clip832)\" style=\"stroke:#000000; stroke-width:2; stroke-opacity:0.1; fill:none\" points=\"\n",
       "  244.308,1384.24 2112.76,1384.24 \n",
       "  \"/>\n",
       "<polyline clip-path=\"url(#clip832)\" style=\"stroke:#000000; stroke-width:2; stroke-opacity:0.1; fill:none\" points=\"\n",
       "  244.308,1124.63 2112.76,1124.63 \n",
       "  \"/>\n",
       "<polyline clip-path=\"url(#clip832)\" style=\"stroke:#000000; stroke-width:2; stroke-opacity:0.1; fill:none\" points=\"\n",
       "  244.308,865.017 2112.76,865.017 \n",
       "  \"/>\n",
       "<polyline clip-path=\"url(#clip832)\" style=\"stroke:#000000; stroke-width:2; stroke-opacity:0.1; fill:none\" points=\"\n",
       "  244.308,605.407 2112.76,605.407 \n",
       "  \"/>\n",
       "<polyline clip-path=\"url(#clip832)\" style=\"stroke:#000000; stroke-width:2; stroke-opacity:0.1; fill:none\" points=\"\n",
       "  244.308,345.796 2112.76,345.796 \n",
       "  \"/>\n",
       "<polyline clip-path=\"url(#clip832)\" style=\"stroke:#000000; stroke-width:2; stroke-opacity:0.1; fill:none\" points=\"\n",
       "  244.308,86.1857 2112.76,86.1857 \n",
       "  \"/>\n",
       "<polyline clip-path=\"url(#clip830)\" style=\"stroke:#000000; stroke-width:4; stroke-opacity:1; fill:none\" points=\"\n",
       "  244.308,1423.18 2112.76,1423.18 \n",
       "  \"/>\n",
       "<polyline clip-path=\"url(#clip830)\" style=\"stroke:#000000; stroke-width:4; stroke-opacity:1; fill:none\" points=\"\n",
       "  244.308,1423.18 244.308,47.2441 \n",
       "  \"/>\n",
       "<polyline clip-path=\"url(#clip830)\" style=\"stroke:#000000; stroke-width:4; stroke-opacity:1; fill:none\" points=\"\n",
       "  668.28,1423.18 668.28,1406.67 \n",
       "  \"/>\n",
       "<polyline clip-path=\"url(#clip830)\" style=\"stroke:#000000; stroke-width:4; stroke-opacity:1; fill:none\" points=\"\n",
       "  1132.15,1423.18 1132.15,1406.67 \n",
       "  \"/>\n",
       "<polyline clip-path=\"url(#clip830)\" style=\"stroke:#000000; stroke-width:4; stroke-opacity:1; fill:none\" points=\"\n",
       "  1596.01,1423.18 1596.01,1406.67 \n",
       "  \"/>\n",
       "<polyline clip-path=\"url(#clip830)\" style=\"stroke:#000000; stroke-width:4; stroke-opacity:1; fill:none\" points=\"\n",
       "  2059.88,1423.18 2059.88,1406.67 \n",
       "  \"/>\n",
       "<polyline clip-path=\"url(#clip830)\" style=\"stroke:#000000; stroke-width:4; stroke-opacity:1; fill:none\" points=\"\n",
       "  244.308,1384.24 266.729,1384.24 \n",
       "  \"/>\n",
       "<polyline clip-path=\"url(#clip830)\" style=\"stroke:#000000; stroke-width:4; stroke-opacity:1; fill:none\" points=\"\n",
       "  244.308,1124.63 266.729,1124.63 \n",
       "  \"/>\n",
       "<polyline clip-path=\"url(#clip830)\" style=\"stroke:#000000; stroke-width:4; stroke-opacity:1; fill:none\" points=\"\n",
       "  244.308,865.017 266.729,865.017 \n",
       "  \"/>\n",
       "<polyline clip-path=\"url(#clip830)\" style=\"stroke:#000000; stroke-width:4; stroke-opacity:1; fill:none\" points=\"\n",
       "  244.308,605.407 266.729,605.407 \n",
       "  \"/>\n",
       "<polyline clip-path=\"url(#clip830)\" style=\"stroke:#000000; stroke-width:4; stroke-opacity:1; fill:none\" points=\"\n",
       "  244.308,345.796 266.729,345.796 \n",
       "  \"/>\n",
       "<polyline clip-path=\"url(#clip830)\" style=\"stroke:#000000; stroke-width:4; stroke-opacity:1; fill:none\" points=\"\n",
       "  244.308,86.1857 266.729,86.1857 \n",
       "  \"/>\n",
       "<path clip-path=\"url(#clip830)\" d=\"M 0 0 M631.544 1442.09 L649.901 1442.09 L649.901 1446.03 L635.827 1446.03 L635.827 1454.5 Q636.845 1454.15 637.864 1453.99 Q638.882 1453.8 639.901 1453.8 Q645.688 1453.8 649.067 1456.98 Q652.447 1460.15 652.447 1465.56 Q652.447 1471.14 648.975 1474.24 Q645.503 1477.32 639.183 1477.32 Q637.007 1477.32 634.739 1476.95 Q632.493 1476.58 630.086 1475.84 L630.086 1471.14 Q632.169 1472.28 634.392 1472.83 Q636.614 1473.39 639.091 1473.39 Q643.095 1473.39 645.433 1471.28 Q647.771 1469.18 647.771 1465.56 Q647.771 1461.95 645.433 1459.85 Q643.095 1457.74 639.091 1457.74 Q637.216 1457.74 635.341 1458.16 Q633.489 1458.57 631.544 1459.45 L631.544 1442.09 Z\" fill=\"#000000\" fill-rule=\"evenodd\" fill-opacity=\"1\" /><path clip-path=\"url(#clip830)\" d=\"M 0 0 M667.516 1445.17 Q663.905 1445.17 662.077 1448.74 Q660.271 1452.28 660.271 1459.41 Q660.271 1466.51 662.077 1470.08 Q663.905 1473.62 667.516 1473.62 Q671.151 1473.62 672.956 1470.08 Q674.785 1466.51 674.785 1459.41 Q674.785 1452.28 672.956 1448.74 Q671.151 1445.17 667.516 1445.17 M667.516 1441.47 Q673.327 1441.47 676.382 1446.07 Q679.461 1450.66 679.461 1459.41 Q679.461 1468.13 676.382 1472.74 Q673.327 1477.32 667.516 1477.32 Q661.706 1477.32 658.628 1472.74 Q655.572 1468.13 655.572 1459.41 Q655.572 1450.66 658.628 1446.07 Q661.706 1441.47 667.516 1441.47 Z\" fill=\"#000000\" fill-rule=\"evenodd\" fill-opacity=\"1\" /><path clip-path=\"url(#clip830)\" d=\"M 0 0 M694.53 1445.17 Q690.919 1445.17 689.09 1448.74 Q687.285 1452.28 687.285 1459.41 Q687.285 1466.51 689.09 1470.08 Q690.919 1473.62 694.53 1473.62 Q698.164 1473.62 699.97 1470.08 Q701.799 1466.51 701.799 1459.41 Q701.799 1452.28 699.97 1448.74 Q698.164 1445.17 694.53 1445.17 M694.53 1441.47 Q700.34 1441.47 703.396 1446.07 Q706.475 1450.66 706.475 1459.41 Q706.475 1468.13 703.396 1472.74 Q700.34 1477.32 694.53 1477.32 Q688.72 1477.32 685.641 1472.74 Q682.586 1468.13 682.586 1459.41 Q682.586 1450.66 685.641 1446.07 Q688.72 1441.47 694.53 1441.47 Z\" fill=\"#000000\" fill-rule=\"evenodd\" fill-opacity=\"1\" /><path clip-path=\"url(#clip830)\" d=\"M 0 0 M1082.01 1472.72 L1089.65 1472.72 L1089.65 1446.35 L1081.34 1448.02 L1081.34 1443.76 L1089.6 1442.09 L1094.28 1442.09 L1094.28 1472.72 L1101.91 1472.72 L1101.91 1476.65 L1082.01 1476.65 L1082.01 1472.72 Z\" fill=\"#000000\" fill-rule=\"evenodd\" fill-opacity=\"1\" /><path clip-path=\"url(#clip830)\" d=\"M 0 0 M1116.98 1445.17 Q1113.37 1445.17 1111.54 1448.74 Q1109.74 1452.28 1109.74 1459.41 Q1109.74 1466.51 1111.54 1470.08 Q1113.37 1473.62 1116.98 1473.62 Q1120.62 1473.62 1122.42 1470.08 Q1124.25 1466.51 1124.25 1459.41 Q1124.25 1452.28 1122.42 1448.74 Q1120.62 1445.17 1116.98 1445.17 M1116.98 1441.47 Q1122.79 1441.47 1125.85 1446.07 Q1128.93 1450.66 1128.93 1459.41 Q1128.93 1468.13 1125.85 1472.74 Q1122.79 1477.32 1116.98 1477.32 Q1111.17 1477.32 1108.09 1472.74 Q1105.04 1468.13 1105.04 1459.41 Q1105.04 1450.66 1108.09 1446.07 Q1111.17 1441.47 1116.98 1441.47 Z\" fill=\"#000000\" fill-rule=\"evenodd\" fill-opacity=\"1\" /><path clip-path=\"url(#clip830)\" d=\"M 0 0 M1144 1445.17 Q1140.39 1445.17 1138.56 1448.74 Q1136.75 1452.28 1136.75 1459.41 Q1136.75 1466.51 1138.56 1470.08 Q1140.39 1473.62 1144 1473.62 Q1147.63 1473.62 1149.44 1470.08 Q1151.27 1466.51 1151.27 1459.41 Q1151.27 1452.28 1149.44 1448.74 Q1147.63 1445.17 1144 1445.17 M1144 1441.47 Q1149.81 1441.47 1152.86 1446.07 Q1155.94 1450.66 1155.94 1459.41 Q1155.94 1468.13 1152.86 1472.74 Q1149.81 1477.32 1144 1477.32 Q1138.19 1477.32 1135.11 1472.74 Q1132.05 1468.13 1132.05 1459.41 Q1132.05 1450.66 1135.11 1446.07 Q1138.19 1441.47 1144 1441.47 Z\" fill=\"#000000\" fill-rule=\"evenodd\" fill-opacity=\"1\" /><path clip-path=\"url(#clip830)\" d=\"M 0 0 M1171.01 1445.17 Q1167.4 1445.17 1165.57 1448.74 Q1163.77 1452.28 1163.77 1459.41 Q1163.77 1466.51 1165.57 1470.08 Q1167.4 1473.62 1171.01 1473.62 Q1174.65 1473.62 1176.45 1470.08 Q1178.28 1466.51 1178.28 1459.41 Q1178.28 1452.28 1176.45 1448.74 Q1174.65 1445.17 1171.01 1445.17 M1171.01 1441.47 Q1176.82 1441.47 1179.88 1446.07 Q1182.96 1450.66 1182.96 1459.41 Q1182.96 1468.13 1179.88 1472.74 Q1176.82 1477.32 1171.01 1477.32 Q1165.2 1477.32 1162.12 1472.74 Q1159.07 1468.13 1159.07 1459.41 Q1159.07 1450.66 1162.12 1446.07 Q1165.2 1441.47 1171.01 1441.47 Z\" fill=\"#000000\" fill-rule=\"evenodd\" fill-opacity=\"1\" /><path clip-path=\"url(#clip830)\" d=\"M 0 0 M1546.37 1472.72 L1554.01 1472.72 L1554.01 1446.35 L1545.7 1448.02 L1545.7 1443.76 L1553.96 1442.09 L1558.64 1442.09 L1558.64 1472.72 L1566.28 1472.72 L1566.28 1476.65 L1546.37 1476.65 L1546.37 1472.72 Z\" fill=\"#000000\" fill-rule=\"evenodd\" fill-opacity=\"1\" /><path clip-path=\"url(#clip830)\" d=\"M 0 0 M1571.39 1442.09 L1589.75 1442.09 L1589.75 1446.03 L1575.67 1446.03 L1575.67 1454.5 Q1576.69 1454.15 1577.71 1453.99 Q1578.73 1453.8 1579.75 1453.8 Q1585.54 1453.8 1588.92 1456.98 Q1592.3 1460.15 1592.3 1465.56 Q1592.3 1471.14 1588.82 1474.24 Q1585.35 1477.32 1579.03 1477.32 Q1576.86 1477.32 1574.59 1476.95 Q1572.34 1476.58 1569.93 1475.84 L1569.93 1471.14 Q1572.02 1472.28 1574.24 1472.83 Q1576.46 1473.39 1578.94 1473.39 Q1582.94 1473.39 1585.28 1471.28 Q1587.62 1469.18 1587.62 1465.56 Q1587.62 1461.95 1585.28 1459.85 Q1582.94 1457.74 1578.94 1457.74 Q1577.06 1457.74 1575.19 1458.16 Q1573.34 1458.57 1571.39 1459.45 L1571.39 1442.09 Z\" fill=\"#000000\" fill-rule=\"evenodd\" fill-opacity=\"1\" /><path clip-path=\"url(#clip830)\" d=\"M 0 0 M1607.36 1445.17 Q1603.75 1445.17 1601.92 1448.74 Q1600.12 1452.28 1600.12 1459.41 Q1600.12 1466.51 1601.92 1470.08 Q1603.75 1473.62 1607.36 1473.62 Q1611 1473.62 1612.8 1470.08 Q1614.63 1466.51 1614.63 1459.41 Q1614.63 1452.28 1612.8 1448.74 Q1611 1445.17 1607.36 1445.17 M1607.36 1441.47 Q1613.17 1441.47 1616.23 1446.07 Q1619.31 1450.66 1619.31 1459.41 Q1619.31 1468.13 1616.23 1472.74 Q1613.17 1477.32 1607.36 1477.32 Q1601.55 1477.32 1598.48 1472.74 Q1595.42 1468.13 1595.42 1459.41 Q1595.42 1450.66 1598.48 1446.07 Q1601.55 1441.47 1607.36 1441.47 Z\" fill=\"#000000\" fill-rule=\"evenodd\" fill-opacity=\"1\" /><path clip-path=\"url(#clip830)\" d=\"M 0 0 M1634.38 1445.17 Q1630.77 1445.17 1628.94 1448.74 Q1627.13 1452.28 1627.13 1459.41 Q1627.13 1466.51 1628.94 1470.08 Q1630.77 1473.62 1634.38 1473.62 Q1638.01 1473.62 1639.82 1470.08 Q1641.65 1466.51 1641.65 1459.41 Q1641.65 1452.28 1639.82 1448.74 Q1638.01 1445.17 1634.38 1445.17 M1634.38 1441.47 Q1640.19 1441.47 1643.24 1446.07 Q1646.32 1450.66 1646.32 1459.41 Q1646.32 1468.13 1643.24 1472.74 Q1640.19 1477.32 1634.38 1477.32 Q1628.57 1477.32 1625.49 1472.74 Q1622.43 1468.13 1622.43 1459.41 Q1622.43 1450.66 1625.49 1446.07 Q1628.57 1441.47 1634.38 1441.47 Z\" fill=\"#000000\" fill-rule=\"evenodd\" fill-opacity=\"1\" /><path clip-path=\"url(#clip830)\" d=\"M 0 0 M2014.01 1472.72 L2030.33 1472.72 L2030.33 1476.65 L2008.38 1476.65 L2008.38 1472.72 Q2011.04 1469.96 2015.63 1465.33 Q2020.23 1460.68 2021.41 1459.34 Q2023.66 1456.81 2024.54 1455.08 Q2025.44 1453.32 2025.44 1451.63 Q2025.44 1448.87 2023.5 1447.14 Q2021.58 1445.4 2018.48 1445.4 Q2016.28 1445.4 2013.82 1446.17 Q2011.39 1446.93 2008.61 1448.48 L2008.61 1443.76 Q2011.44 1442.62 2013.89 1442.05 Q2016.35 1441.47 2018.38 1441.47 Q2023.75 1441.47 2026.95 1444.15 Q2030.14 1446.84 2030.14 1451.33 Q2030.14 1453.46 2029.33 1455.38 Q2028.54 1457.28 2026.44 1459.87 Q2025.86 1460.54 2022.76 1463.76 Q2019.66 1466.95 2014.01 1472.72 Z\" fill=\"#000000\" fill-rule=\"evenodd\" fill-opacity=\"1\" /><path clip-path=\"url(#clip830)\" d=\"M 0 0 M2045.4 1445.17 Q2041.79 1445.17 2039.96 1448.74 Q2038.15 1452.28 2038.15 1459.41 Q2038.15 1466.51 2039.96 1470.08 Q2041.79 1473.62 2045.4 1473.62 Q2049.03 1473.62 2050.84 1470.08 Q2052.66 1466.51 2052.66 1459.41 Q2052.66 1452.28 2050.84 1448.74 Q2049.03 1445.17 2045.4 1445.17 M2045.4 1441.47 Q2051.21 1441.47 2054.26 1446.07 Q2057.34 1450.66 2057.34 1459.41 Q2057.34 1468.13 2054.26 1472.74 Q2051.21 1477.32 2045.4 1477.32 Q2039.59 1477.32 2036.51 1472.74 Q2033.45 1468.13 2033.45 1459.41 Q2033.45 1450.66 2036.51 1446.07 Q2039.59 1441.47 2045.4 1441.47 Z\" fill=\"#000000\" fill-rule=\"evenodd\" fill-opacity=\"1\" /><path clip-path=\"url(#clip830)\" d=\"M 0 0 M2072.41 1445.17 Q2068.8 1445.17 2066.97 1448.74 Q2065.16 1452.28 2065.16 1459.41 Q2065.16 1466.51 2066.97 1470.08 Q2068.8 1473.62 2072.41 1473.62 Q2076.04 1473.62 2077.85 1470.08 Q2079.68 1466.51 2079.68 1459.41 Q2079.68 1452.28 2077.85 1448.74 Q2076.04 1445.17 2072.41 1445.17 M2072.41 1441.47 Q2078.22 1441.47 2081.28 1446.07 Q2084.35 1450.66 2084.35 1459.41 Q2084.35 1468.13 2081.28 1472.74 Q2078.22 1477.32 2072.41 1477.32 Q2066.6 1477.32 2063.52 1472.74 Q2060.47 1468.13 2060.47 1459.41 Q2060.47 1450.66 2063.52 1446.07 Q2066.6 1441.47 2072.41 1441.47 Z\" fill=\"#000000\" fill-rule=\"evenodd\" fill-opacity=\"1\" /><path clip-path=\"url(#clip830)\" d=\"M 0 0 M2099.42 1445.17 Q2095.81 1445.17 2093.98 1448.74 Q2092.18 1452.28 2092.18 1459.41 Q2092.18 1466.51 2093.98 1470.08 Q2095.81 1473.62 2099.42 1473.62 Q2103.06 1473.62 2104.86 1470.08 Q2106.69 1466.51 2106.69 1459.41 Q2106.69 1452.28 2104.86 1448.74 Q2103.06 1445.17 2099.42 1445.17 M2099.42 1441.47 Q2105.23 1441.47 2108.29 1446.07 Q2111.37 1450.66 2111.37 1459.41 Q2111.37 1468.13 2108.29 1472.74 Q2105.23 1477.32 2099.42 1477.32 Q2093.61 1477.32 2090.53 1472.74 Q2087.48 1468.13 2087.48 1459.41 Q2087.48 1450.66 2090.53 1446.07 Q2093.61 1441.47 2099.42 1441.47 Z\" fill=\"#000000\" fill-rule=\"evenodd\" fill-opacity=\"1\" /><path clip-path=\"url(#clip830)\" d=\"M 0 0 M126.931 1404.03 L134.57 1404.03 L134.57 1377.67 L126.26 1379.33 L126.26 1375.07 L134.524 1373.41 L139.2 1373.41 L139.2 1404.03 L146.839 1404.03 L146.839 1407.97 L126.931 1407.97 L126.931 1404.03 Z\" fill=\"#000000\" fill-rule=\"evenodd\" fill-opacity=\"1\" /><path clip-path=\"url(#clip830)\" d=\"M 0 0 M161.908 1376.48 Q158.297 1376.48 156.468 1380.05 Q154.663 1383.59 154.663 1390.72 Q154.663 1397.83 156.468 1401.39 Q158.297 1404.93 161.908 1404.93 Q165.542 1404.93 167.348 1401.39 Q169.177 1397.83 169.177 1390.72 Q169.177 1383.59 167.348 1380.05 Q165.542 1376.48 161.908 1376.48 M161.908 1372.78 Q167.718 1372.78 170.774 1377.39 Q173.852 1381.97 173.852 1390.72 Q173.852 1399.45 170.774 1404.05 Q167.718 1408.64 161.908 1408.64 Q156.098 1408.64 153.019 1404.05 Q149.964 1399.45 149.964 1390.72 Q149.964 1381.97 153.019 1377.39 Q156.098 1372.78 161.908 1372.78 Z\" fill=\"#000000\" fill-rule=\"evenodd\" fill-opacity=\"1\" /><path clip-path=\"url(#clip830)\" d=\"M 0 0 M173.852 1366.88 L197.964 1366.88 L197.964 1370.08 L173.852 1370.08 L173.852 1366.88 Z\" fill=\"#000000\" fill-rule=\"evenodd\" fill-opacity=\"1\" /><path clip-path=\"url(#clip830)\" d=\"M 0 0 M212.521 1355.79 L202.929 1370.78 L212.521 1370.78 L212.521 1355.79 M211.524 1352.48 L216.302 1352.48 L216.302 1370.78 L220.308 1370.78 L220.308 1373.94 L216.302 1373.94 L216.302 1380.56 L212.521 1380.56 L212.521 1373.94 L199.845 1373.94 L199.845 1370.27 L211.524 1352.48 Z\" fill=\"#000000\" fill-rule=\"evenodd\" fill-opacity=\"1\" /><path clip-path=\"url(#clip830)\" d=\"M 0 0 M127.853 1144.42 L135.492 1144.42 L135.492 1118.05 L127.182 1119.72 L127.182 1115.46 L135.446 1113.8 L140.121 1113.8 L140.121 1144.42 L147.76 1144.42 L147.76 1148.36 L127.853 1148.36 L127.853 1144.42 Z\" fill=\"#000000\" fill-rule=\"evenodd\" fill-opacity=\"1\" /><path clip-path=\"url(#clip830)\" d=\"M 0 0 M162.83 1116.87 Q159.219 1116.87 157.39 1120.44 Q155.584 1123.98 155.584 1131.11 Q155.584 1138.22 157.39 1141.78 Q159.219 1145.32 162.83 1145.32 Q166.464 1145.32 168.269 1141.78 Q170.098 1138.22 170.098 1131.11 Q170.098 1123.98 168.269 1120.44 Q166.464 1116.87 162.83 1116.87 M162.83 1113.17 Q168.64 1113.17 171.695 1117.78 Q174.774 1122.36 174.774 1131.11 Q174.774 1139.84 171.695 1144.44 Q168.64 1149.03 162.83 1149.03 Q157.02 1149.03 153.941 1144.44 Q150.885 1139.84 150.885 1131.11 Q150.885 1122.36 153.941 1117.78 Q157.02 1113.17 162.83 1113.17 Z\" fill=\"#000000\" fill-rule=\"evenodd\" fill-opacity=\"1\" /><path clip-path=\"url(#clip830)\" d=\"M 0 0 M174.774 1107.27 L198.886 1107.27 L198.886 1110.47 L174.774 1110.47 L174.774 1107.27 Z\" fill=\"#000000\" fill-rule=\"evenodd\" fill-opacity=\"1\" /><path clip-path=\"url(#clip830)\" d=\"M 0 0 M214.515 1105.8 Q217.242 1106.39 218.765 1108.23 Q220.308 1110.07 220.308 1112.78 Q220.308 1116.94 217.449 1119.21 Q214.59 1121.49 209.324 1121.49 Q207.556 1121.49 205.675 1121.13 Q203.813 1120.79 201.82 1120.1 L201.82 1116.43 Q203.4 1117.35 205.28 1117.82 Q207.161 1118.29 209.211 1118.29 Q212.785 1118.29 214.647 1116.88 Q216.527 1115.47 216.527 1112.78 Q216.527 1110.3 214.778 1108.91 Q213.048 1107.5 209.945 1107.5 L206.672 1107.5 L206.672 1104.38 L210.095 1104.38 Q212.897 1104.38 214.383 1103.27 Q215.869 1102.14 215.869 1100.03 Q215.869 1097.87 214.327 1096.72 Q212.803 1095.55 209.945 1095.55 Q208.384 1095.55 206.597 1095.89 Q204.81 1096.23 202.666 1096.95 L202.666 1093.56 Q204.829 1092.96 206.71 1092.66 Q208.609 1092.36 210.283 1092.36 Q214.609 1092.36 217.129 1094.33 Q219.649 1096.29 219.649 1099.64 Q219.649 1101.97 218.314 1103.59 Q216.979 1105.18 214.515 1105.8 Z\" fill=\"#000000\" fill-rule=\"evenodd\" fill-opacity=\"1\" /><path clip-path=\"url(#clip830)\" d=\"M 0 0 M128.624 884.81 L136.263 884.81 L136.263 858.444 L127.953 860.111 L127.953 855.851 L136.217 854.185 L140.893 854.185 L140.893 884.81 L148.531 884.81 L148.531 888.745 L128.624 888.745 L128.624 884.81 Z\" fill=\"#000000\" fill-rule=\"evenodd\" fill-opacity=\"1\" /><path clip-path=\"url(#clip830)\" d=\"M 0 0 M163.601 857.264 Q159.99 857.264 158.161 860.828 Q156.355 864.37 156.355 871.5 Q156.355 878.606 158.161 882.171 Q159.99 885.712 163.601 885.712 Q167.235 885.712 169.041 882.171 Q170.869 878.606 170.869 871.5 Q170.869 864.37 169.041 860.828 Q167.235 857.264 163.601 857.264 M163.601 853.56 Q169.411 853.56 172.467 858.166 Q175.545 862.75 175.545 871.5 Q175.545 880.226 172.467 884.833 Q169.411 889.416 163.601 889.416 Q157.791 889.416 154.712 884.833 Q151.656 880.226 151.656 871.5 Q151.656 862.75 154.712 858.166 Q157.791 853.56 163.601 853.56 Z\" fill=\"#000000\" fill-rule=\"evenodd\" fill-opacity=\"1\" /><path clip-path=\"url(#clip830)\" d=\"M 0 0 M175.545 847.661 L199.657 847.661 L199.657 850.859 L175.545 850.859 L175.545 847.661 Z\" fill=\"#000000\" fill-rule=\"evenodd\" fill-opacity=\"1\" /><path clip-path=\"url(#clip830)\" d=\"M 0 0 M207.048 858.137 L220.308 858.137 L220.308 861.334 L202.478 861.334 L202.478 858.137 Q204.641 855.899 208.365 852.137 Q212.107 848.357 213.067 847.266 Q214.891 845.216 215.606 843.806 Q216.339 842.376 216.339 841.003 Q216.339 838.765 214.759 837.355 Q213.198 835.944 210.678 835.944 Q208.891 835.944 206.898 836.565 Q204.923 837.185 202.666 838.445 L202.666 834.609 Q204.961 833.687 206.954 833.217 Q208.948 832.747 210.603 832.747 Q214.966 832.747 217.562 834.928 Q220.157 837.11 220.157 840.759 Q220.157 842.489 219.499 844.05 Q218.859 845.592 217.148 847.699 Q216.678 848.244 214.158 850.859 Q211.637 853.454 207.048 858.137 Z\" fill=\"#000000\" fill-rule=\"evenodd\" fill-opacity=\"1\" /><path clip-path=\"url(#clip830)\" d=\"M 0 0 M128.323 625.199 L135.962 625.199 L135.962 598.834 L127.652 600.5 L127.652 596.241 L135.916 594.574 L140.592 594.574 L140.592 625.199 L148.231 625.199 L148.231 629.134 L128.323 629.134 L128.323 625.199 Z\" fill=\"#000000\" fill-rule=\"evenodd\" fill-opacity=\"1\" /><path clip-path=\"url(#clip830)\" d=\"M 0 0 M163.3 597.653 Q159.689 597.653 157.86 601.218 Q156.055 604.759 156.055 611.889 Q156.055 618.995 157.86 622.56 Q159.689 626.102 163.3 626.102 Q166.934 626.102 168.74 622.56 Q170.568 618.995 170.568 611.889 Q170.568 604.759 168.74 601.218 Q166.934 597.653 163.3 597.653 M163.3 593.949 Q169.11 593.949 172.166 598.556 Q175.244 603.139 175.244 611.889 Q175.244 620.616 172.166 625.222 Q169.11 629.806 163.3 629.806 Q157.49 629.806 154.411 625.222 Q151.356 620.616 151.356 611.889 Q151.356 603.139 154.411 598.556 Q157.49 593.949 163.3 593.949 Z\" fill=\"#000000\" fill-rule=\"evenodd\" fill-opacity=\"1\" /><path clip-path=\"url(#clip830)\" d=\"M 0 0 M175.244 588.051 L199.356 588.051 L199.356 591.248 L175.244 591.248 L175.244 588.051 Z\" fill=\"#000000\" fill-rule=\"evenodd\" fill-opacity=\"1\" /><path clip-path=\"url(#clip830)\" d=\"M 0 0 M204.133 598.527 L210.34 598.527 L210.34 577.105 L203.588 578.459 L203.588 574.998 L210.302 573.644 L214.101 573.644 L214.101 598.527 L220.308 598.527 L220.308 601.724 L204.133 601.724 L204.133 598.527 Z\" fill=\"#000000\" fill-rule=\"evenodd\" fill-opacity=\"1\" /><path clip-path=\"url(#clip830)\" d=\"M 0 0 M153.977 365.589 L161.616 365.589 L161.616 339.223 L153.306 340.89 L153.306 336.63 L161.57 334.964 L166.245 334.964 L166.245 365.589 L173.884 365.589 L173.884 369.524 L153.977 369.524 L153.977 365.589 Z\" fill=\"#000000\" fill-rule=\"evenodd\" fill-opacity=\"1\" /><path clip-path=\"url(#clip830)\" d=\"M 0 0 M188.954 338.042 Q185.343 338.042 183.514 341.607 Q181.708 345.149 181.708 352.279 Q181.708 359.385 183.514 362.95 Q185.343 366.491 188.954 366.491 Q192.588 366.491 194.393 362.95 Q196.222 359.385 196.222 352.279 Q196.222 345.149 194.393 341.607 Q192.588 338.042 188.954 338.042 M188.954 334.339 Q194.764 334.339 197.819 338.945 Q200.898 343.529 200.898 352.279 Q200.898 361.005 197.819 365.612 Q194.764 370.195 188.954 370.195 Q183.144 370.195 180.065 365.612 Q177.009 361.005 177.009 352.279 Q177.009 343.529 180.065 338.945 Q183.144 334.339 188.954 334.339 Z\" fill=\"#000000\" fill-rule=\"evenodd\" fill-opacity=\"1\" /><path clip-path=\"url(#clip830)\" d=\"M 0 0 M210.603 316.535 Q207.669 316.535 206.183 319.431 Q204.716 322.309 204.716 328.102 Q204.716 333.876 206.183 336.772 Q207.669 339.65 210.603 339.65 Q213.556 339.65 215.023 336.772 Q216.509 333.876 216.509 328.102 Q216.509 322.309 215.023 319.431 Q213.556 316.535 210.603 316.535 M210.603 313.526 Q215.324 313.526 217.806 317.268 Q220.308 320.992 220.308 328.102 Q220.308 335.192 217.806 338.935 Q215.324 342.659 210.603 342.659 Q205.882 342.659 203.381 338.935 Q200.898 335.192 200.898 328.102 Q200.898 320.992 203.381 317.268 Q205.882 313.526 210.603 313.526 Z\" fill=\"#000000\" fill-rule=\"evenodd\" fill-opacity=\"1\" /><path clip-path=\"url(#clip830)\" d=\"M 0 0 M156.667 105.978 L164.305 105.978 L164.305 79.6125 L155.995 81.2792 L155.995 77.0199 L164.259 75.3533 L168.935 75.3533 L168.935 105.978 L176.574 105.978 L176.574 109.913 L156.667 109.913 L156.667 105.978 Z\" fill=\"#000000\" fill-rule=\"evenodd\" fill-opacity=\"1\" /><path clip-path=\"url(#clip830)\" d=\"M 0 0 M191.643 78.432 Q188.032 78.432 186.203 81.9968 Q184.398 85.5384 184.398 92.668 Q184.398 99.7744 186.203 103.339 Q188.032 106.881 191.643 106.881 Q195.277 106.881 197.083 103.339 Q198.912 99.7744 198.912 92.668 Q198.912 85.5384 197.083 81.9968 Q195.277 78.432 191.643 78.432 M191.643 74.7283 Q197.453 74.7283 200.509 79.3347 Q203.588 83.918 203.588 92.668 Q203.588 101.395 200.509 106.001 Q197.453 110.585 191.643 110.585 Q185.833 110.585 182.754 106.001 Q179.699 101.395 179.699 92.668 Q179.699 83.918 182.754 79.3347 Q185.833 74.7283 191.643 74.7283 Z\" fill=\"#000000\" fill-rule=\"evenodd\" fill-opacity=\"1\" /><path clip-path=\"url(#clip830)\" d=\"M 0 0 M204.133 79.3056 L210.34 79.3056 L210.34 57.8835 L203.588 59.2377 L203.588 55.777 L210.302 54.4229 L214.101 54.4229 L214.101 79.3056 L220.308 79.3056 L220.308 82.5029 L204.133 82.5029 L204.133 79.3056 Z\" fill=\"#000000\" fill-rule=\"evenodd\" fill-opacity=\"1\" /><path clip-path=\"url(#clip830)\" d=\"M 0 0 M1108.81 1536.76 L1108.81 1539.62 L1081.88 1539.62 Q1082.27 1545.67 1085.51 1548.85 Q1088.79 1552 1094.62 1552 Q1097.99 1552 1101.14 1551.17 Q1104.32 1550.35 1107.44 1548.69 L1107.44 1554.23 Q1104.29 1555.57 1100.98 1556.27 Q1097.67 1556.97 1094.27 1556.97 Q1085.74 1556.97 1080.74 1552 Q1075.77 1547.04 1075.77 1538.57 Q1075.77 1529.82 1080.48 1524.69 Q1085.23 1519.54 1093.25 1519.54 Q1100.44 1519.54 1104.61 1524.18 Q1108.81 1528.8 1108.81 1536.76 M1102.95 1535.04 Q1102.89 1530.23 1100.25 1527.37 Q1097.64 1524.5 1093.31 1524.5 Q1088.41 1524.5 1085.45 1527.27 Q1082.52 1530.04 1082.08 1535.07 L1102.95 1535.04 Z\" fill=\"#000000\" fill-rule=\"evenodd\" fill-opacity=\"1\" /><path clip-path=\"url(#clip830)\" d=\"M 0 0 M1120.62 1550.7 L1120.62 1569.6 L1114.73 1569.6 L1114.73 1520.4 L1120.62 1520.4 L1120.62 1525.81 Q1122.47 1522.62 1125.27 1521.1 Q1128.1 1519.54 1132.01 1519.54 Q1138.51 1519.54 1142.55 1524.69 Q1146.62 1529.85 1146.62 1538.25 Q1146.62 1546.65 1142.55 1551.81 Q1138.51 1556.97 1132.01 1556.97 Q1128.1 1556.97 1125.27 1555.44 Q1122.47 1553.88 1120.62 1550.7 M1140.54 1538.25 Q1140.54 1531.79 1137.87 1528.13 Q1135.23 1524.44 1130.58 1524.44 Q1125.94 1524.44 1123.26 1528.13 Q1120.62 1531.79 1120.62 1538.25 Q1120.62 1544.71 1123.26 1548.4 Q1125.94 1552.07 1130.58 1552.07 Q1135.23 1552.07 1137.87 1548.4 Q1140.54 1544.71 1140.54 1538.25 Z\" fill=\"#000000\" fill-rule=\"evenodd\" fill-opacity=\"1\" /><path clip-path=\"url(#clip830)\" d=\"M 0 0 M1166.58 1524.5 Q1161.87 1524.5 1159.13 1528.19 Q1156.4 1531.85 1156.4 1538.25 Q1156.4 1544.65 1159.1 1548.34 Q1161.84 1552 1166.58 1552 Q1171.26 1552 1174 1548.31 Q1176.73 1544.62 1176.73 1538.25 Q1176.73 1531.92 1174 1528.23 Q1171.26 1524.5 1166.58 1524.5 M1166.58 1519.54 Q1174.22 1519.54 1178.58 1524.5 Q1182.94 1529.47 1182.94 1538.25 Q1182.94 1547 1178.58 1552 Q1174.22 1556.97 1166.58 1556.97 Q1158.91 1556.97 1154.55 1552 Q1150.22 1547 1150.22 1538.25 Q1150.22 1529.47 1154.55 1524.5 Q1158.91 1519.54 1166.58 1519.54 Z\" fill=\"#000000\" fill-rule=\"evenodd\" fill-opacity=\"1\" /><path clip-path=\"url(#clip830)\" d=\"M 0 0 M1214.74 1521.76 L1214.74 1527.24 Q1212.25 1525.87 1209.74 1525.2 Q1207.26 1524.5 1204.71 1524.5 Q1199.01 1524.5 1195.86 1528.13 Q1192.71 1531.73 1192.71 1538.25 Q1192.71 1544.78 1195.86 1548.4 Q1199.01 1552 1204.71 1552 Q1207.26 1552 1209.74 1551.33 Q1212.25 1550.63 1214.74 1549.26 L1214.74 1554.68 Q1212.29 1555.82 1209.64 1556.39 Q1207.03 1556.97 1204.07 1556.97 Q1196.02 1556.97 1191.28 1551.91 Q1186.54 1546.85 1186.54 1538.25 Q1186.54 1529.53 1191.31 1524.53 Q1196.12 1519.54 1204.46 1519.54 Q1207.16 1519.54 1209.74 1520.11 Q1212.32 1520.65 1214.74 1521.76 Z\" fill=\"#000000\" fill-rule=\"evenodd\" fill-opacity=\"1\" /><path clip-path=\"url(#clip830)\" d=\"M 0 0 M1250.51 1534.53 L1250.51 1556.04 L1244.66 1556.04 L1244.66 1534.72 Q1244.66 1529.66 1242.68 1527.14 Q1240.71 1524.63 1236.76 1524.63 Q1232.02 1524.63 1229.28 1527.65 Q1226.55 1530.68 1226.55 1535.9 L1226.55 1556.04 L1220.66 1556.04 L1220.66 1506.52 L1226.55 1506.52 L1226.55 1525.93 Q1228.65 1522.72 1231.48 1521.13 Q1234.34 1519.54 1238.07 1519.54 Q1244.21 1519.54 1247.36 1523.36 Q1250.51 1527.14 1250.51 1534.53 Z\" fill=\"#000000\" fill-rule=\"evenodd\" fill-opacity=\"1\" /><path clip-path=\"url(#clip830)\" d=\"M 0 0 M1279.38 1521.45 L1279.38 1526.98 Q1276.9 1525.71 1274.22 1525.07 Q1271.55 1524.44 1268.69 1524.44 Q1264.33 1524.44 1262.13 1525.77 Q1259.97 1527.11 1259.97 1529.79 Q1259.97 1531.82 1261.52 1533 Q1263.08 1534.15 1267.79 1535.2 L1269.8 1535.64 Q1276.04 1536.98 1278.65 1539.43 Q1281.29 1541.85 1281.29 1546.21 Q1281.29 1551.17 1277.34 1554.07 Q1273.43 1556.97 1266.55 1556.97 Q1263.69 1556.97 1260.57 1556.39 Q1257.48 1555.85 1254.04 1554.74 L1254.04 1548.69 Q1257.29 1550.38 1260.44 1551.24 Q1263.59 1552.07 1266.68 1552.07 Q1270.82 1552.07 1273.05 1550.66 Q1275.27 1549.23 1275.27 1546.65 Q1275.27 1544.27 1273.65 1542.99 Q1272.06 1541.72 1266.62 1540.54 L1264.58 1540.07 Q1259.14 1538.92 1256.72 1536.56 Q1254.3 1534.18 1254.3 1530.04 Q1254.3 1525.01 1257.86 1522.27 Q1261.43 1519.54 1267.99 1519.54 Q1271.23 1519.54 1274.1 1520.01 Q1276.96 1520.49 1279.38 1521.45 Z\" fill=\"#000000\" fill-rule=\"evenodd\" fill-opacity=\"1\" /><path clip-path=\"url(#clip830)\" d=\"M 0 0 M38.479 837.779 L38.479 831.923 L88.0042 831.923 L88.0042 837.779 L38.479 837.779 Z\" fill=\"#000000\" fill-rule=\"evenodd\" fill-opacity=\"1\" /><path clip-path=\"url(#clip830)\" d=\"M 0 0 M70.0847 809.579 Q70.0847 816.677 71.7079 819.414 Q73.3312 822.152 77.2461 822.152 Q80.3653 822.152 82.2114 820.115 Q84.0256 818.046 84.0256 814.513 Q84.0256 809.643 80.5881 806.715 Q77.1188 803.755 71.3897 803.755 L70.0847 803.755 L70.0847 809.579 M67.6657 797.898 L88.0042 797.898 L88.0042 803.755 L82.5933 803.755 Q85.8398 805.76 87.3994 808.752 Q88.9272 811.744 88.9272 816.072 Q88.9272 821.547 85.8716 824.793 Q82.7843 828.008 77.6281 828.008 Q71.6125 828.008 68.5569 823.998 Q65.5014 819.955 65.5014 811.966 L65.5014 803.755 L64.9285 803.755 Q60.8862 803.755 58.6901 806.428 Q56.4621 809.07 56.4621 813.876 Q56.4621 816.932 57.1941 819.828 Q57.9262 822.725 59.3903 825.398 L53.9795 825.398 Q52.7381 822.183 52.1334 819.16 Q51.4968 816.136 51.4968 813.271 Q51.4968 805.537 55.5072 801.718 Q59.5176 797.898 67.6657 797.898 Z\" fill=\"#000000\" fill-rule=\"evenodd\" fill-opacity=\"1\" /><path clip-path=\"url(#clip830)\" d=\"M 0 0 M59.1993 764.001 Q55.2526 761.805 53.3747 758.749 Q51.4968 755.694 51.4968 751.556 Q51.4968 745.986 55.4117 742.962 Q59.2948 739.939 66.4881 739.939 L88.0042 739.939 L88.0042 745.827 L66.679 745.827 Q61.5546 745.827 59.072 747.641 Q56.5894 749.455 56.5894 753.179 Q56.5894 757.731 59.6131 760.372 Q62.6368 763.014 67.8567 763.014 L88.0042 763.014 L88.0042 768.902 L66.679 768.902 Q61.5228 768.902 59.072 770.717 Q56.5894 772.531 56.5894 776.319 Q56.5894 780.806 59.6449 783.448 Q62.6686 786.09 67.8567 786.09 L88.0042 786.09 L88.0042 791.978 L52.3562 791.978 L52.3562 786.09 L57.8944 786.09 Q54.616 784.085 53.0564 781.284 Q51.4968 778.483 51.4968 774.632 Q51.4968 770.749 53.4702 768.043 Q55.4436 765.306 59.1993 764.001 Z\" fill=\"#000000\" fill-rule=\"evenodd\" fill-opacity=\"1\" /><path clip-path=\"url(#clip830)\" d=\"M 0 0 M70.212 708.205 Q63.7508 708.205 60.0905 710.879 Q56.3984 713.521 56.3984 718.168 Q56.3984 722.815 60.0905 725.488 Q63.7508 728.13 70.212 728.13 Q76.6732 728.13 80.3653 725.488 Q84.0256 722.815 84.0256 718.168 Q84.0256 713.521 80.3653 710.879 Q76.6732 708.205 70.212 708.205 M57.7671 728.13 Q54.5842 726.284 53.0564 723.483 Q51.4968 720.65 51.4968 716.736 Q51.4968 710.242 56.6531 706.2 Q61.8093 702.126 70.212 702.126 Q78.6147 702.126 83.771 706.2 Q88.9272 710.242 88.9272 716.736 Q88.9272 720.65 87.3994 723.483 Q85.8398 726.284 82.657 728.13 L88.0042 728.13 L88.0042 734.018 L38.479 734.018 L38.479 728.13 L57.7671 728.13 Z\" fill=\"#000000\" fill-rule=\"evenodd\" fill-opacity=\"1\" /><path clip-path=\"url(#clip830)\" d=\"M 0 0 M57.7671 672.526 L38.479 672.526 L38.479 666.669 L88.0042 666.669 L88.0042 672.526 L82.657 672.526 Q85.8398 674.372 87.3994 677.204 Q88.9272 680.005 88.9272 683.952 Q88.9272 690.413 83.771 694.487 Q78.6147 698.53 70.212 698.53 Q61.8093 698.53 56.6531 694.487 Q51.4968 690.413 51.4968 683.952 Q51.4968 680.005 53.0564 677.204 Q54.5842 674.372 57.7671 672.526 M70.212 692.482 Q76.6732 692.482 80.3653 689.84 Q84.0256 687.167 84.0256 682.52 Q84.0256 677.873 80.3653 675.199 Q76.6732 672.526 70.212 672.526 Q63.7508 672.526 60.0905 675.199 Q56.3984 677.873 56.3984 682.52 Q56.3984 687.167 60.0905 689.84 Q63.7508 692.482 70.212 692.482 Z\" fill=\"#000000\" fill-rule=\"evenodd\" fill-opacity=\"1\" /><path clip-path=\"url(#clip830)\" d=\"M 0 0 M70.0847 644.326 Q70.0847 651.423 71.7079 654.161 Q73.3312 656.898 77.2461 656.898 Q80.3653 656.898 82.2114 654.861 Q84.0256 652.792 84.0256 649.259 Q84.0256 644.389 80.5881 641.461 Q77.1188 638.501 71.3897 638.501 L70.0847 638.501 L70.0847 644.326 M67.6657 632.645 L88.0042 632.645 L88.0042 638.501 L82.5933 638.501 Q85.8398 640.506 87.3994 643.498 Q88.9272 646.49 88.9272 650.819 Q88.9272 656.293 85.8716 659.54 Q82.7843 662.754 77.6281 662.754 Q71.6125 662.754 68.5569 658.744 Q65.5014 654.702 65.5014 646.713 L65.5014 638.501 L64.9285 638.501 Q60.8862 638.501 58.6901 641.175 Q56.4621 643.816 56.4621 648.622 Q56.4621 651.678 57.1941 654.574 Q57.9262 657.471 59.3903 660.144 L53.9795 660.144 Q52.7381 656.93 52.1334 653.906 Q51.4968 650.882 51.4968 648.018 Q51.4968 640.283 55.5072 636.464 Q59.5176 632.645 67.6657 632.645 Z\" fill=\"#000000\" fill-rule=\"evenodd\" fill-opacity=\"1\" /><circle clip-path=\"url(#clip832)\" cx=\"884.441\" cy=\"518.87\" r=\"28\" fill=\"#9e2963\" fill-rule=\"evenodd\" fill-opacity=\"1\" stroke=\"#000000\" stroke-opacity=\"1\" stroke-width=\"3.2\"/>\n",
       "<circle clip-path=\"url(#clip832)\" cx=\"1765.78\" cy=\"1167.9\" r=\"33\" fill=\"#bf3951\" fill-rule=\"evenodd\" fill-opacity=\"1\" stroke=\"#000000\" stroke-opacity=\"1\" stroke-width=\"3.2\"/>\n",
       "<circle clip-path=\"url(#clip832)\" cx=\"1178.53\" cy=\"1384.24\" r=\"37\" fill=\"#d84c3d\" fill-rule=\"evenodd\" fill-opacity=\"1\" stroke=\"#000000\" stroke-opacity=\"1\" stroke-width=\"3.2\"/>\n",
       "<circle clip-path=\"url(#clip832)\" cx=\"2059.88\" cy=\"951.554\" r=\"19\" fill=\"#63146e\" fill-rule=\"evenodd\" fill-opacity=\"1\" stroke=\"#000000\" stroke-opacity=\"1\" stroke-width=\"3.2\"/>\n",
       "<circle clip-path=\"url(#clip832)\" cx=\"591.279\" cy=\"1167.9\" r=\"24\" fill=\"#821f6b\" fill-rule=\"evenodd\" fill-opacity=\"1\" stroke=\"#000000\" stroke-opacity=\"1\" stroke-width=\"3.2\"/>\n",
       "<circle clip-path=\"url(#clip832)\" cx=\"1472.62\" cy=\"1384.24\" r=\"27\" fill=\"#952666\" fill-rule=\"evenodd\" fill-opacity=\"1\" stroke=\"#000000\" stroke-opacity=\"1\" stroke-width=\"3.2\"/>\n",
       "<circle clip-path=\"url(#clip832)\" cx=\"1178.53\" cy=\"518.87\" r=\"41\" fill=\"#ec6726\" fill-rule=\"evenodd\" fill-opacity=\"1\" stroke=\"#000000\" stroke-opacity=\"1\" stroke-width=\"3.2\"/>\n",
       "<circle clip-path=\"url(#clip832)\" cx=\"1178.53\" cy=\"1167.9\" r=\"16\" fill=\"#4b0b6b\" fill-rule=\"evenodd\" fill-opacity=\"1\" stroke=\"#000000\" stroke-opacity=\"1\" stroke-width=\"3.2\"/>\n",
       "<circle clip-path=\"url(#clip832)\" cx=\"1765.78\" cy=\"951.554\" r=\"24\" fill=\"#85206a\" fill-rule=\"evenodd\" fill-opacity=\"1\" stroke=\"#000000\" stroke-opacity=\"1\" stroke-width=\"3.2\"/>\n",
       "<circle clip-path=\"url(#clip832)\" cx=\"1472.62\" cy=\"86.1857\" r=\"30\" fill=\"#af315b\" fill-rule=\"evenodd\" fill-opacity=\"1\" stroke=\"#000000\" stroke-opacity=\"1\" stroke-width=\"3.2\"/>\n",
       "<circle clip-path=\"url(#clip832)\" cx=\"1472.62\" cy=\"735.212\" r=\"47\" fill=\"#f99007\" fill-rule=\"evenodd\" fill-opacity=\"1\" stroke=\"#000000\" stroke-opacity=\"1\" stroke-width=\"3.2\"/>\n",
       "<circle clip-path=\"url(#clip832)\" cx=\"297.188\" cy=\"1384.24\" r=\"57\" fill=\"#f1e865\" fill-rule=\"evenodd\" fill-opacity=\"1\" stroke=\"#000000\" stroke-opacity=\"1\" stroke-width=\"3.2\"/>\n",
       "<circle clip-path=\"url(#clip832)\" cx=\"591.279\" cy=\"518.87\" r=\"22\" fill=\"#731a6d\" fill-rule=\"evenodd\" fill-opacity=\"1\" stroke=\"#000000\" stroke-opacity=\"1\" stroke-width=\"3.2\"/>\n",
       "<circle clip-path=\"url(#clip832)\" cx=\"884.441\" cy=\"951.554\" r=\"27\" fill=\"#952666\" fill-rule=\"evenodd\" fill-opacity=\"1\" stroke=\"#000000\" stroke-opacity=\"1\" stroke-width=\"3.2\"/>\n",
       "<circle clip-path=\"url(#clip832)\" cx=\"1765.78\" cy=\"518.87\" r=\"32\" fill=\"#bb3754\" fill-rule=\"evenodd\" fill-opacity=\"1\" stroke=\"#000000\" stroke-opacity=\"1\" stroke-width=\"3.2\"/>\n",
       "<circle clip-path=\"url(#clip832)\" cx=\"884.441\" cy=\"1384.24\" r=\"3\" fill=\"#000003\" fill-rule=\"evenodd\" fill-opacity=\"1\" stroke=\"#000000\" stroke-opacity=\"1\" stroke-width=\"3.2\"/>\n",
       "<circle clip-path=\"url(#clip832)\" cx=\"591.279\" cy=\"1384.24\" r=\"24\" fill=\"#83206b\" fill-rule=\"evenodd\" fill-opacity=\"1\" stroke=\"#000000\" stroke-opacity=\"1\" stroke-width=\"3.2\"/>\n",
       "<circle clip-path=\"url(#clip832)\" cx=\"2059.88\" cy=\"1384.24\" r=\"20\" fill=\"#64146e\" fill-rule=\"evenodd\" fill-opacity=\"1\" stroke=\"#000000\" stroke-opacity=\"1\" stroke-width=\"3.2\"/>\n",
       "<circle clip-path=\"url(#clip832)\" cx=\"1178.53\" cy=\"735.212\" r=\"11\" fill=\"#280b54\" fill-rule=\"evenodd\" fill-opacity=\"1\" stroke=\"#000000\" stroke-opacity=\"1\" stroke-width=\"3.2\"/>\n",
       "<circle clip-path=\"url(#clip832)\" cx=\"297.188\" cy=\"302.528\" r=\"57\" fill=\"#f2e661\" fill-rule=\"evenodd\" fill-opacity=\"1\" stroke=\"#000000\" stroke-opacity=\"1\" stroke-width=\"3.2\"/>\n",
       "<circle clip-path=\"url(#clip832)\" cx=\"1765.78\" cy=\"86.1857\" r=\"36\" fill=\"#d04544\" fill-rule=\"evenodd\" fill-opacity=\"1\" stroke=\"#000000\" stroke-opacity=\"1\" stroke-width=\"3.2\"/>\n",
       "<circle clip-path=\"url(#clip832)\" cx=\"2059.88\" cy=\"1167.9\" r=\"14\" fill=\"#3a0963\" fill-rule=\"evenodd\" fill-opacity=\"1\" stroke=\"#000000\" stroke-opacity=\"1\" stroke-width=\"3.2\"/>\n",
       "<circle clip-path=\"url(#clip832)\" cx=\"1472.62\" cy=\"1167.9\" r=\"31\" fill=\"#b0315a\" fill-rule=\"evenodd\" fill-opacity=\"1\" stroke=\"#000000\" stroke-opacity=\"1\" stroke-width=\"3.2\"/>\n",
       "<circle clip-path=\"url(#clip832)\" cx=\"2059.88\" cy=\"735.212\" r=\"20\" fill=\"#66156e\" fill-rule=\"evenodd\" fill-opacity=\"1\" stroke=\"#000000\" stroke-opacity=\"1\" stroke-width=\"3.2\"/>\n",
       "<circle clip-path=\"url(#clip832)\" cx=\"1472.62\" cy=\"951.554\" r=\"44\" fill=\"#f47917\" fill-rule=\"evenodd\" fill-opacity=\"1\" stroke=\"#000000\" stroke-opacity=\"1\" stroke-width=\"3.2\"/>\n",
       "<circle clip-path=\"url(#clip832)\" cx=\"1178.53\" cy=\"302.528\" r=\"39\" fill=\"#e05535\" fill-rule=\"evenodd\" fill-opacity=\"1\" stroke=\"#000000\" stroke-opacity=\"1\" stroke-width=\"3.2\"/>\n",
       "<circle clip-path=\"url(#clip832)\" cx=\"884.441\" cy=\"86.1857\" r=\"13\" fill=\"#370961\" fill-rule=\"evenodd\" fill-opacity=\"1\" stroke=\"#000000\" stroke-opacity=\"1\" stroke-width=\"3.2\"/>\n",
       "<circle clip-path=\"url(#clip832)\" cx=\"591.279\" cy=\"86.1857\" r=\"22\" fill=\"#751b6d\" fill-rule=\"evenodd\" fill-opacity=\"1\" stroke=\"#000000\" stroke-opacity=\"1\" stroke-width=\"3.2\"/>\n",
       "<circle clip-path=\"url(#clip832)\" cx=\"2059.88\" cy=\"86.1857\" r=\"47\" fill=\"#f98e08\" fill-rule=\"evenodd\" fill-opacity=\"1\" stroke=\"#000000\" stroke-opacity=\"1\" stroke-width=\"3.2\"/>\n",
       "<circle clip-path=\"url(#clip832)\" cx=\"591.279\" cy=\"735.212\" r=\"22\" fill=\"#761b6d\" fill-rule=\"evenodd\" fill-opacity=\"1\" stroke=\"#000000\" stroke-opacity=\"1\" stroke-width=\"3.2\"/>\n",
       "<circle clip-path=\"url(#clip832)\" cx=\"297.188\" cy=\"1167.9\" r=\"54\" fill=\"#f8ca33\" fill-rule=\"evenodd\" fill-opacity=\"1\" stroke=\"#000000\" stroke-opacity=\"1\" stroke-width=\"3.2\"/>\n",
       "<circle clip-path=\"url(#clip832)\" cx=\"297.188\" cy=\"518.87\" r=\"54\" fill=\"#f8c932\" fill-rule=\"evenodd\" fill-opacity=\"1\" stroke=\"#000000\" stroke-opacity=\"1\" stroke-width=\"3.2\"/>\n",
       "<circle clip-path=\"url(#clip832)\" cx=\"297.188\" cy=\"735.212\" r=\"54\" fill=\"#f8ca33\" fill-rule=\"evenodd\" fill-opacity=\"1\" stroke=\"#000000\" stroke-opacity=\"1\" stroke-width=\"3.2\"/>\n",
       "<circle clip-path=\"url(#clip832)\" cx=\"1765.78\" cy=\"1384.24\" r=\"61\" fill=\"#fcfea4\" fill-rule=\"evenodd\" fill-opacity=\"1\" stroke=\"#000000\" stroke-opacity=\"1\" stroke-width=\"3.2\"/>\n",
       "<circle clip-path=\"url(#clip832)\" cx=\"1765.78\" cy=\"735.212\" r=\"36\" fill=\"#d24742\" fill-rule=\"evenodd\" fill-opacity=\"1\" stroke=\"#000000\" stroke-opacity=\"1\" stroke-width=\"3.2\"/>\n",
       "<circle clip-path=\"url(#clip832)\" cx=\"1472.62\" cy=\"518.87\" r=\"37\" fill=\"#d74b3e\" fill-rule=\"evenodd\" fill-opacity=\"1\" stroke=\"#000000\" stroke-opacity=\"1\" stroke-width=\"3.2\"/>\n",
       "<circle clip-path=\"url(#clip832)\" cx=\"884.441\" cy=\"1167.9\" r=\"21\" fill=\"#6d186e\" fill-rule=\"evenodd\" fill-opacity=\"1\" stroke=\"#000000\" stroke-opacity=\"1\" stroke-width=\"3.2\"/>\n",
       "<circle clip-path=\"url(#clip832)\" cx=\"1472.62\" cy=\"302.528\" r=\"51\" fill=\"#fbb217\" fill-rule=\"evenodd\" fill-opacity=\"1\" stroke=\"#000000\" stroke-opacity=\"1\" stroke-width=\"3.2\"/>\n",
       "<circle clip-path=\"url(#clip832)\" cx=\"591.279\" cy=\"302.528\" r=\"35\" fill=\"#cc4148\" fill-rule=\"evenodd\" fill-opacity=\"1\" stroke=\"#000000\" stroke-opacity=\"1\" stroke-width=\"3.2\"/>\n",
       "<circle clip-path=\"url(#clip832)\" cx=\"884.441\" cy=\"302.528\" r=\"20\" fill=\"#67166e\" fill-rule=\"evenodd\" fill-opacity=\"1\" stroke=\"#000000\" stroke-opacity=\"1\" stroke-width=\"3.2\"/>\n",
       "<circle clip-path=\"url(#clip832)\" cx=\"297.188\" cy=\"951.554\" r=\"54\" fill=\"#f8ca32\" fill-rule=\"evenodd\" fill-opacity=\"1\" stroke=\"#000000\" stroke-opacity=\"1\" stroke-width=\"3.2\"/>\n",
       "<circle clip-path=\"url(#clip832)\" cx=\"1765.78\" cy=\"302.528\" r=\"29\" fill=\"#a82d5e\" fill-rule=\"evenodd\" fill-opacity=\"1\" stroke=\"#000000\" stroke-opacity=\"1\" stroke-width=\"3.2\"/>\n",
       "<circle clip-path=\"url(#clip832)\" cx=\"2059.88\" cy=\"518.87\" r=\"34\" fill=\"#c63d4d\" fill-rule=\"evenodd\" fill-opacity=\"1\" stroke=\"#000000\" stroke-opacity=\"1\" stroke-width=\"3.2\"/>\n",
       "<circle clip-path=\"url(#clip832)\" cx=\"884.441\" cy=\"735.212\" r=\"22\" fill=\"#731a6d\" fill-rule=\"evenodd\" fill-opacity=\"1\" stroke=\"#000000\" stroke-opacity=\"1\" stroke-width=\"3.2\"/>\n",
       "<circle clip-path=\"url(#clip832)\" cx=\"297.188\" cy=\"86.1857\" r=\"61\" fill=\"#fbfda2\" fill-rule=\"evenodd\" fill-opacity=\"1\" stroke=\"#000000\" stroke-opacity=\"1\" stroke-width=\"3.2\"/>\n",
       "<circle clip-path=\"url(#clip832)\" cx=\"591.279\" cy=\"951.554\" r=\"35\" fill=\"#cc4148\" fill-rule=\"evenodd\" fill-opacity=\"1\" stroke=\"#000000\" stroke-opacity=\"1\" stroke-width=\"3.2\"/>\n",
       "<circle clip-path=\"url(#clip832)\" cx=\"2059.88\" cy=\"302.528\" r=\"38\" fill=\"#dd5138\" fill-rule=\"evenodd\" fill-opacity=\"1\" stroke=\"#000000\" stroke-opacity=\"1\" stroke-width=\"3.2\"/>\n",
       "<circle clip-path=\"url(#clip832)\" cx=\"1178.53\" cy=\"951.554\" r=\"30\" fill=\"#ad2f5c\" fill-rule=\"evenodd\" fill-opacity=\"1\" stroke=\"#000000\" stroke-opacity=\"1\" stroke-width=\"3.2\"/>\n",
       "<circle clip-path=\"url(#clip832)\" cx=\"1178.53\" cy=\"86.1857\" r=\"26\" fill=\"#8e2368\" fill-rule=\"evenodd\" fill-opacity=\"1\" stroke=\"#000000\" stroke-opacity=\"1\" stroke-width=\"3.2\"/>\n",
       "<defs>\n",
       "  <clipPath id=\"clip833\">\n",
       "    <rect x=\"2160\" y=\"47\" width=\"73\" height=\"1377\"/>\n",
       "  </clipPath>\n",
       "</defs>\n",
       "<g clip-path=\"url(#clip833)\">\n",
       "<image width=\"72\" height=\"1376\" xlink:href=\"data:image/png;base64,\n",
       "iVBORw0KGgoAAAANSUhEUgAAAEgAAAVgCAYAAADsKhu7AAAL6UlEQVR4nO3dwZEjNxBFQVBR/lsh\n",
       "L6UFZIHqHclDpgUTL35wCXTP7Off+/c7/K+/vv0D/DqBgkBBoCBQmPv+/fbP8NMsKAgUBAoChXnv\n",
       "z7d/hp9mQUGgIFAQKAgUHDWCBQWBgkBBoDDPh/TKgoJAQaAgUJh3fUhvLCgIFAQKAgWBgqNGsKAg\n",
       "UBAoCBR8SAcLCgIFgYJAwX1QsKAgUBAoCBQECnMcNVYWFAQKAgWBgvugYEFBoCBQECgIFOa4MFtZ\n",
       "UBAoCBQECnPuP9/+GX6aBQWBgkBBoODSPlhQECgIFAQKAgX3QcGCgkBBoCBQ8CEdLCgIFAQKAgX3\n",
       "QcGCgkBBoCBQECjMx1FjZUFBoCBQECjMuf5XhI0FBYGCQEGgIFBw1AgWFAQKAgWBgqNGsKAgUBAo\n",
       "CBS8HxQsKAgUBAoCBYHCfBw1VhYUBAoCBYGCt1yDBQWBgkBBoOCbdLCgIFAQKAgUBAoePQcLCgIF\n",
       "gYJAwVEjWFAQKAgUBAoCBUeNYEFBoCBQECg4agQLCgIFgYJAYc693/4ZfpoFBYGCQEGgIFBw1AgW\n",
       "FAQKAgWBgkv7YEFBoCBQECj4kA4WFAQKAgWBgkBhPp5qrCwoCBQECgIFR41gQUGgIFAQKAgUvEAV\n",
       "LCgIFAQKAgX3QcGCgkBBoCBQcB8ULCgIFAQKAgWBgvugYEFBoCBQECj4kA4WFAQKAgWBgl/qDRYU\n",
       "BAoCBYGCQMFRI1hQECgIFAQKPqSDBQWBgkBBoCBQ8K9YsKAgUBAoCBR8SAcLCgIFgYJAYc7zIb2x\n",
       "oCBQECgIFAQKjhrBgoJAQaAgUPAhHSwoCBQECgIFH9LBgoJAQaAgUBAozLnv2z/DT7OgIFAQKAgU\n",
       "HDWCBQWBgkBBoCBQcNQIFhQECgIFgYKjRrCgIFAQKAgUfJMOFhQECgIFgYJAYY6TxsqCgkBBoCBQ\n",
       "mPMcNTYWFAQKAgWBgm/SwYKCQEGgIFAQKPhXLFhQECgIFAQK44/g7SwoCBQECgIFgYKjRrCgIFAQ\n",
       "KAgUfEgHCwoCBYGCQGHO/Xz7Z/hpFhQECgIFgYJAYd7zr9jGgoJAQaAgUHAfFCwoCBQECgIF90HB\n",
       "goJAQaAgUBAozLsabdQJAgWBgkDBUSNYUBAoCBQECgKFOR49rywoCBQECgKFeY4aKwsKAgWBgkBh\n",
       "jkv7lTpBoCBQECgIFBw1ggUFgYJAQaDg0j5YUBAoCBQECl7iDOoEgYJAQaAgUPCWa7CgIFAQKAgU\n",
       "XNoHCwoCBYGCQEGgMO9ptFEnCBQECgIF90HBgoJAQaAgUHAfFCwoCBQECgIFgcIc90ErdYJAQaAg\n",
       "UHDUCBYUBAoCBYGCD+lgQUGgIFAQKAgU/NZzsKAgUBAoCBT81nNQJwgUBAoCBYHCPEeNlQUFgYJA\n",
       "QaDgqUawoCBQECgIFPyvCEGdIFAQKAgUBArug4IFBYGCQEGg4D4oWFAQKAgUBAq+SQcLCgIFgYJA\n",
       "QaDgLdegThAoCBQECo4awYKCQEGgIFAQKHiqESwoCBQECgIFR41gQUGgIFAQKPiva4IFBYGCQEGg\n",
       "IFDwv2QGdYJAQaAgUHAfFCwoCBQECgIFT1aDBQWBgkBBoCBQcNQIFhQECgIFgcJcH9IrCwoCBYGC\n",
       "QEGg4LeegzpBoCBQECi4DwoWFAQKAgWBgg/pYEFBoCBQECgIFLxAFSwoCBQECgIFR41gQUGgIFAQ\n",
       "KPiQDhYUBAoCBYGCQMGfpgjqBIGCQEGgMNel/cqCgkBBoCBQECi4MAsWFAQKAgWBgg/pYEFBoCBQ\n",
       "ECj4kA4WFAQKAgWBgkDBH1gKFhQECgIFgYKjRrCgIFAQKAgUfEgHCwoCBYGCQEGg4FcRgjpBoCBQ\n",
       "ECj4VYRgQUGgIFAQKAgUXJgFCwoCBYGCQMGHdLCgIFAQKAgUvMQZLCgIFAQKAgWBgqNGsKAgUBAo\n",
       "CBTmHR/SGwsKAgWBgkDBfVCwoCBQECgIFAQK7oOCBQWBgkBBoOCoESwoCBQECgIFgYKjRrCgIFAQ\n",
       "KAgUHDWCBQWBgkBBoOCbdLCgIFAQKAgUBAr+FQsWFAQKAgWBwly/irCyoCBQECgIFHyTDhYUBAoC\n",
       "BYGCQMGj52BBQaAgUBAozHvf/hF+mwUFgYJAQaAgUHDUCBYUBAoCBYGCv4IXLCgIFAQKAgXfpIMF\n",
       "BYGCQEGgIFDwAlWwoCBQECgIFPwqQrCgIFAQKAgUvB8ULCgIFAQKAgWBgqcawYKCQEGgIFBwaR8s\n",
       "KAgUBAoCBYGCpxrBgoJAQaAgUHAfFCwoCBQECgIFj56DBQWBgkBBoCBQcB8ULCgIFAQKAgWPnoMF\n",
       "BYGCQEGgMPfbP8GPs6AgUBAoCBQECo4awYKCQEGgIFDwflCwoCBQECgIFAQKLsyCBQWBgkBBoOA+\n",
       "KFhQECgIFAQKvkkHCwoCBYGCQEGg4KgRLCgIFAQKAgWPnoMFBYGCQEGgMP4yxc6CgkBBoCBQECg4\n",
       "agQLCgIFgYJAwaPnYEFBoCBQECgIFDx6DhYUBAoCBYGCo0awoCBQECgIFHyTDhYUBAoCBYGCQGGu\n",
       "N6hWFhQECgIFgYL7oGBBQaAgUBAouA8KFhQECgIFgYJAwVEjWFAQKAgUBArzXNqvLCgIFAQKAgWB\n",
       "wtzjwmxjQUGgIFAQKHg/KFhQECgIFAQK/gpesKAgUBAoCBQECv4KXrCgIFAQKAgUPHoOFhQECgIF\n",
       "gYKXOIMFBYGCQEGgIFDwC3XBgoJAQaAgUHDUCBYUBAoCBYGCQMFbrsGCgkBBoCBQ8JZrsKAgUBAo\n",
       "CBR8kw4WFAQKAgWBgkDBW67BgoJAQaAgUPD3g4IFBYGCQEGg4D4oWFAQKAgUBAoCBY+egwUFgYJA\n",
       "QaDgqBEsKAgUBAoCBYGCo0awoCBQECgIFBw1ggUFgYJAQaDgQzpYUBAoCBQECgIF90HBgoJAQaAg\n",
       "UHDUCBYUBAoCBYGCb9LBgoJAQaAgUBAoOGoECwoCBYGCQMHfDwoWFAQKAgWBgkDB/+0TLCgIFAQK\n",
       "AgX3QcGCgkBBoCBQmHd8Sm8sKAgUBAoCBYGCo0awoCBQECgIFDx6DhYUBAoCBYGCJ6vBgoJAQaAg\n",
       "UBAouA8KFhQECgIFgYJHz8GCgkBBoCBQECg4agQLCgIFgYJAwR9YChYUBAoCBYHCXC8IrSwoCBQE\n",
       "CgIFgYIXqIIFBYGCQEGgMM9RY2VBQaAgUBAo+CYdLCgIFAQKAgWBgqcawYKCQEGgIFDwflCwoCBQ\n",
       "ECgIFAQKc/1C3cqCgkBBoCBQcB8ULCgIFAQKAgV/miJYUBAoCBQECgIFL1AFCwoCBYGCQMGlfbCg\n",
       "IFAQKAgU3AcFCwoCBYGCQEGgMPe4EdpYUBAoCBQECu6DggUFgYJAQaAgUPCvWLCgIFAQKAgUPNUI\n",
       "FhQECgIFgYJL+2BBQaAgUBAoCBTmfhw1NhYUBAoCBYGCo0awoCBQECgIFOb5kF5ZUBAoCBQECgIF\n",
       "R41gQUGgIFAQKMz9+JDeWFAQKAgUBAoCBUeNYEFBoCBQECh4qhEsKAgUBAoCBd+kgwUFgYJAQaAg\n",
       "UPCvWLCgIFAQKAgUPHoOFhQECgIFgcK88+fbP8NPs6AgUBAoCBQECu6DggUFgYJAQaDg/aBgQUGg\n",
       "IFAQKAgU5j4XZhsLCgIFgYJAwVEjWFAQKAgUBApzPXpeWVAQKAgUBAoCBUeNYEFBoCBQECg4agQL\n",
       "CgIFgYJAYd7zTXpjQUGgIFAQKAgU3AcFCwoCBYGCQMFLnMGCgkBBoCBQECg4agQLCgIFgYJAYZ6j\n",
       "xsqCgkBBoCBQ8E06WFAQKAgUBAoChbleoFpZUBAoCBQECv7gdrCgIFAQKAgU/CpCsKAgUBAoCBQE\n",
       "Cp5qBAsKAgWBgkDBUSNYUBAoCBQECgIF/4oFCwoCBYGCQMGj52BBQaAgUBAo+CYdLCgIFAQKAgWB\n",
       "whyPnlcWFAQKAgWBgqNGsKAgUBAoCBS8xBksKAgUBAoCBYHCHEeNlQUFgYJAQaDg/aBgQUGgIFAQ\n",
       "KAgUPHoOFhQECgIFgYL7oGBBQaAgUBAozDvv2z/DT7OgIFAQKAgUBArug4IFBYGCQEGgMMdRY2VB\n",
       "QaAgUBAo/AdhU+3PqlcPeQAAAABJRU5ErkJggg==\n",
       "\" transform=\"translate(2161, 47)\"/>\n",
       "</g>\n",
       "<path clip-path=\"url(#clip830)\" d=\"M 0 0 M2280.7 1285.22 Q2277.09 1285.22 2275.26 1288.78 Q2273.45 1292.33 2273.45 1299.46 Q2273.45 1306.56 2275.26 1310.13 Q2277.09 1313.67 2280.7 1313.67 Q2284.33 1313.67 2286.14 1310.13 Q2287.97 1306.56 2287.97 1299.46 Q2287.97 1292.33 2286.14 1288.78 Q2284.33 1285.22 2280.7 1285.22 M2280.7 1281.52 Q2286.51 1281.52 2289.57 1286.12 Q2292.64 1290.71 2292.64 1299.46 Q2292.64 1308.18 2289.57 1312.79 Q2286.51 1317.37 2280.7 1317.37 Q2274.89 1317.37 2271.81 1312.79 Q2268.76 1308.18 2268.76 1299.46 Q2268.76 1290.71 2271.81 1286.12 Q2274.89 1281.52 2280.7 1281.52 Z\" fill=\"#000000\" fill-rule=\"evenodd\" fill-opacity=\"1\" /><path clip-path=\"url(#clip830)\" d=\"M 0 0 M2297.71 1310.82 L2302.6 1310.82 L2302.6 1316.7 L2297.71 1316.7 L2297.71 1310.82 Z\" fill=\"#000000\" fill-rule=\"evenodd\" fill-opacity=\"1\" /><path clip-path=\"url(#clip830)\" d=\"M 0 0 M2321.83 1298.07 Q2325.19 1298.78 2327.07 1301.05 Q2328.96 1303.32 2328.96 1306.65 Q2328.96 1311.77 2325.45 1314.57 Q2321.93 1317.37 2315.45 1317.37 Q2313.27 1317.37 2310.95 1316.93 Q2308.66 1316.52 2306.21 1315.66 L2306.21 1311.14 Q2308.15 1312.28 2310.47 1312.86 Q2312.78 1313.44 2315.31 1313.44 Q2319.7 1313.44 2322 1311.7 Q2324.31 1309.96 2324.31 1306.65 Q2324.31 1303.6 2322.16 1301.89 Q2320.03 1300.15 2316.21 1300.15 L2312.18 1300.15 L2312.18 1296.31 L2316.39 1296.31 Q2319.84 1296.31 2321.67 1294.94 Q2323.5 1293.55 2323.5 1290.96 Q2323.5 1288.3 2321.6 1286.89 Q2319.73 1285.45 2316.21 1285.45 Q2314.29 1285.45 2312.09 1285.87 Q2309.89 1286.28 2307.25 1287.16 L2307.25 1283 Q2309.91 1282.26 2312.23 1281.89 Q2314.57 1281.52 2316.63 1281.52 Q2321.95 1281.52 2325.05 1283.95 Q2328.15 1286.35 2328.15 1290.47 Q2328.15 1293.34 2326.51 1295.33 Q2324.87 1297.3 2321.83 1298.07 Z\" fill=\"#000000\" fill-rule=\"evenodd\" fill-opacity=\"1\" /><path clip-path=\"url(#clip830)\" d=\"M 0 0 M2334.17 1315.98 L2334.17 1311.72 Q2335.93 1312.56 2337.74 1313 Q2339.54 1313.44 2341.28 1313.44 Q2345.91 1313.44 2348.34 1310.33 Q2350.79 1307.21 2351.14 1300.87 Q2349.8 1302.86 2347.74 1303.92 Q2345.68 1304.99 2343.18 1304.99 Q2337.99 1304.99 2334.96 1301.86 Q2331.95 1298.71 2331.95 1293.27 Q2331.95 1287.95 2335.1 1284.73 Q2338.25 1281.52 2343.48 1281.52 Q2349.47 1281.52 2352.62 1286.12 Q2355.79 1290.71 2355.79 1299.46 Q2355.79 1307.63 2351.9 1312.51 Q2348.04 1317.37 2341.49 1317.37 Q2339.73 1317.37 2337.92 1317.02 Q2336.12 1316.68 2334.17 1315.98 M2343.48 1301.33 Q2346.63 1301.33 2348.45 1299.18 Q2350.31 1297.02 2350.31 1293.27 Q2350.31 1289.55 2348.45 1287.39 Q2346.63 1285.22 2343.48 1285.22 Q2340.33 1285.22 2338.48 1287.39 Q2336.65 1289.55 2336.65 1293.27 Q2336.65 1297.02 2338.48 1299.18 Q2340.33 1301.33 2343.48 1301.33 Z\" fill=\"#000000\" fill-rule=\"evenodd\" fill-opacity=\"1\" /><path clip-path=\"url(#clip830)\" d=\"M 0 0 M2360.91 1282.14 L2379.26 1282.14 L2379.26 1286.08 L2365.19 1286.08 L2365.19 1294.55 Q2366.21 1294.2 2367.23 1294.04 Q2368.25 1293.85 2369.26 1293.85 Q2375.05 1293.85 2378.43 1297.02 Q2381.81 1300.2 2381.81 1305.61 Q2381.81 1311.19 2378.34 1314.29 Q2374.87 1317.37 2368.55 1317.37 Q2366.37 1317.37 2364.1 1317 Q2361.86 1316.63 2359.45 1315.89 L2359.45 1311.19 Q2361.53 1312.33 2363.76 1312.88 Q2365.98 1313.44 2368.45 1313.44 Q2372.46 1313.44 2374.8 1311.33 Q2377.13 1309.22 2377.13 1305.61 Q2377.13 1302 2374.8 1299.89 Q2372.46 1297.79 2368.45 1297.79 Q2366.58 1297.79 2364.7 1298.21 Q2362.85 1298.62 2360.91 1299.5 L2360.91 1282.14 Z\" fill=\"#000000\" fill-rule=\"evenodd\" fill-opacity=\"1\" /><path clip-path=\"url(#clip830)\" d=\"M 0 0 M2396.88 1285.22 Q2393.27 1285.22 2391.44 1288.78 Q2389.63 1292.33 2389.63 1299.46 Q2389.63 1306.56 2391.44 1310.13 Q2393.27 1313.67 2396.88 1313.67 Q2400.51 1313.67 2402.32 1310.13 Q2404.15 1306.56 2404.15 1299.46 Q2404.15 1292.33 2402.32 1288.78 Q2400.51 1285.22 2396.88 1285.22 M2396.88 1281.52 Q2402.69 1281.52 2405.75 1286.12 Q2408.82 1290.71 2408.82 1299.46 Q2408.82 1308.18 2405.75 1312.79 Q2402.69 1317.37 2396.88 1317.37 Q2391.07 1317.37 2387.99 1312.79 Q2384.94 1308.18 2384.94 1299.46 Q2384.94 1290.71 2387.99 1286.12 Q2391.07 1281.52 2396.88 1281.52 Z\" fill=\"#000000\" fill-rule=\"evenodd\" fill-opacity=\"1\" /><path clip-path=\"url(#clip830)\" d=\"M 0 0 M2280.7 1136.76 Q2277.09 1136.76 2275.26 1140.33 Q2273.45 1143.87 2273.45 1151 Q2273.45 1158.1 2275.26 1161.67 Q2277.09 1165.21 2280.7 1165.21 Q2284.33 1165.21 2286.14 1161.67 Q2287.97 1158.1 2287.97 1151 Q2287.97 1143.87 2286.14 1140.33 Q2284.33 1136.76 2280.7 1136.76 M2280.7 1133.06 Q2286.51 1133.06 2289.57 1137.66 Q2292.64 1142.25 2292.64 1151 Q2292.64 1159.72 2289.57 1164.33 Q2286.51 1168.91 2280.7 1168.91 Q2274.89 1168.91 2271.81 1164.33 Q2268.76 1159.72 2268.76 1151 Q2268.76 1142.25 2271.81 1137.66 Q2274.89 1133.06 2280.7 1133.06 Z\" fill=\"#000000\" fill-rule=\"evenodd\" fill-opacity=\"1\" /><path clip-path=\"url(#clip830)\" d=\"M 0 0 M2297.71 1162.36 L2302.6 1162.36 L2302.6 1168.24 L2297.71 1168.24 L2297.71 1162.36 Z\" fill=\"#000000\" fill-rule=\"evenodd\" fill-opacity=\"1\" /><path clip-path=\"url(#clip830)\" d=\"M 0 0 M2321.83 1149.61 Q2325.19 1150.33 2327.07 1152.59 Q2328.96 1154.86 2328.96 1158.2 Q2328.96 1163.31 2325.45 1166.11 Q2321.93 1168.91 2315.45 1168.91 Q2313.27 1168.91 2310.95 1168.47 Q2308.66 1168.06 2306.21 1167.2 L2306.21 1162.69 Q2308.15 1163.82 2310.47 1164.4 Q2312.78 1164.98 2315.31 1164.98 Q2319.7 1164.98 2322 1163.24 Q2324.31 1161.51 2324.31 1158.2 Q2324.31 1155.14 2322.16 1153.43 Q2320.03 1151.69 2316.21 1151.69 L2312.18 1151.69 L2312.18 1147.85 L2316.39 1147.85 Q2319.84 1147.85 2321.67 1146.48 Q2323.5 1145.09 2323.5 1142.5 Q2323.5 1139.84 2321.6 1138.43 Q2319.73 1136.99 2316.21 1136.99 Q2314.29 1136.99 2312.09 1137.41 Q2309.89 1137.83 2307.25 1138.71 L2307.25 1134.54 Q2309.91 1133.8 2312.23 1133.43 Q2314.57 1133.06 2316.63 1133.06 Q2321.95 1133.06 2325.05 1135.49 Q2328.15 1137.89 2328.15 1142.02 Q2328.15 1144.89 2326.51 1146.88 Q2324.87 1148.84 2321.83 1149.61 Z\" fill=\"#000000\" fill-rule=\"evenodd\" fill-opacity=\"1\" /><path clip-path=\"url(#clip830)\" d=\"M 0 0 M2334.17 1167.52 L2334.17 1163.27 Q2335.93 1164.1 2337.74 1164.54 Q2339.54 1164.98 2341.28 1164.98 Q2345.91 1164.98 2348.34 1161.88 Q2350.79 1158.75 2351.14 1152.41 Q2349.8 1154.4 2347.74 1155.46 Q2345.68 1156.53 2343.18 1156.53 Q2337.99 1156.53 2334.96 1153.4 Q2331.95 1150.26 2331.95 1144.82 Q2331.95 1139.49 2335.1 1136.27 Q2338.25 1133.06 2343.48 1133.06 Q2349.47 1133.06 2352.62 1137.66 Q2355.79 1142.25 2355.79 1151 Q2355.79 1159.17 2351.9 1164.05 Q2348.04 1168.91 2341.49 1168.91 Q2339.73 1168.91 2337.92 1168.57 Q2336.12 1168.22 2334.17 1167.52 M2343.48 1152.87 Q2346.63 1152.87 2348.45 1150.72 Q2350.31 1148.57 2350.31 1144.82 Q2350.31 1141.09 2348.45 1138.94 Q2346.63 1136.76 2343.48 1136.76 Q2340.33 1136.76 2338.48 1138.94 Q2336.65 1141.09 2336.65 1144.82 Q2336.65 1148.57 2338.48 1150.72 Q2340.33 1152.87 2343.48 1152.87 Z\" fill=\"#000000\" fill-rule=\"evenodd\" fill-opacity=\"1\" /><path clip-path=\"url(#clip830)\" d=\"M 0 0 M2359.68 1133.68 L2381.9 1133.68 L2381.9 1135.67 L2369.36 1168.24 L2364.47 1168.24 L2376.28 1137.62 L2359.68 1137.62 L2359.68 1133.68 Z\" fill=\"#000000\" fill-rule=\"evenodd\" fill-opacity=\"1\" /><path clip-path=\"url(#clip830)\" d=\"M 0 0 M2387.02 1133.68 L2405.38 1133.68 L2405.38 1137.62 L2391.3 1137.62 L2391.3 1146.09 Q2392.32 1145.74 2393.34 1145.58 Q2394.36 1145.39 2395.38 1145.39 Q2401.16 1145.39 2404.54 1148.57 Q2407.92 1151.74 2407.92 1157.15 Q2407.92 1162.73 2404.45 1165.83 Q2400.98 1168.91 2394.66 1168.91 Q2392.48 1168.91 2390.21 1168.54 Q2387.97 1168.17 2385.56 1167.43 L2385.56 1162.73 Q2387.64 1163.87 2389.87 1164.42 Q2392.09 1164.98 2394.57 1164.98 Q2398.57 1164.98 2400.91 1162.87 Q2403.25 1160.77 2403.25 1157.15 Q2403.25 1153.54 2400.91 1151.44 Q2398.57 1149.33 2394.57 1149.33 Q2392.69 1149.33 2390.82 1149.75 Q2388.96 1150.16 2387.02 1151.04 L2387.02 1133.68 Z\" fill=\"#000000\" fill-rule=\"evenodd\" fill-opacity=\"1\" /><path clip-path=\"url(#clip830)\" d=\"M 0 0 M2280.7 988.302 Q2277.09 988.302 2275.26 991.867 Q2273.45 995.409 2273.45 1002.54 Q2273.45 1009.64 2275.26 1013.21 Q2277.09 1016.75 2280.7 1016.75 Q2284.33 1016.75 2286.14 1013.21 Q2287.97 1009.64 2287.97 1002.54 Q2287.97 995.409 2286.14 991.867 Q2284.33 988.302 2280.7 988.302 M2280.7 984.599 Q2286.51 984.599 2289.57 989.205 Q2292.64 993.789 2292.64 1002.54 Q2292.64 1011.27 2289.57 1015.87 Q2286.51 1020.46 2280.7 1020.46 Q2274.89 1020.46 2271.81 1015.87 Q2268.76 1011.27 2268.76 1002.54 Q2268.76 993.789 2271.81 989.205 Q2274.89 984.599 2280.7 984.599 Z\" fill=\"#000000\" fill-rule=\"evenodd\" fill-opacity=\"1\" /><path clip-path=\"url(#clip830)\" d=\"M 0 0 M2297.71 1013.9 L2302.6 1013.9 L2302.6 1019.78 L2297.71 1019.78 L2297.71 1013.9 Z\" fill=\"#000000\" fill-rule=\"evenodd\" fill-opacity=\"1\" /><path clip-path=\"url(#clip830)\" d=\"M 0 0 M2320.51 989.298 L2308.71 1007.75 L2320.51 1007.75 L2320.51 989.298 M2319.29 985.224 L2325.17 985.224 L2325.17 1007.75 L2330.1 1007.75 L2330.1 1011.64 L2325.17 1011.64 L2325.17 1019.78 L2320.51 1019.78 L2320.51 1011.64 L2304.91 1011.64 L2304.91 1007.12 L2319.29 985.224 Z\" fill=\"#000000\" fill-rule=\"evenodd\" fill-opacity=\"1\" /><path clip-path=\"url(#clip830)\" d=\"M 0 0 M2345.17 988.302 Q2341.56 988.302 2339.73 991.867 Q2337.92 995.409 2337.92 1002.54 Q2337.92 1009.64 2339.73 1013.21 Q2341.56 1016.75 2345.17 1016.75 Q2348.8 1016.75 2350.61 1013.21 Q2352.44 1009.64 2352.44 1002.54 Q2352.44 995.409 2350.61 991.867 Q2348.8 988.302 2345.17 988.302 M2345.17 984.599 Q2350.98 984.599 2354.03 989.205 Q2357.11 993.789 2357.11 1002.54 Q2357.11 1011.27 2354.03 1015.87 Q2350.98 1020.46 2345.17 1020.46 Q2339.36 1020.46 2336.28 1015.87 Q2333.22 1011.27 2333.22 1002.54 Q2333.22 993.789 2336.28 989.205 Q2339.36 984.599 2345.17 984.599 Z\" fill=\"#000000\" fill-rule=\"evenodd\" fill-opacity=\"1\" /><path clip-path=\"url(#clip830)\" d=\"M 0 0 M2372.18 988.302 Q2368.57 988.302 2366.74 991.867 Q2364.94 995.409 2364.94 1002.54 Q2364.94 1009.64 2366.74 1013.21 Q2368.57 1016.75 2372.18 1016.75 Q2375.82 1016.75 2377.62 1013.21 Q2379.45 1009.64 2379.45 1002.54 Q2379.45 995.409 2377.62 991.867 Q2375.82 988.302 2372.18 988.302 M2372.18 984.599 Q2377.99 984.599 2381.05 989.205 Q2384.13 993.789 2384.13 1002.54 Q2384.13 1011.27 2381.05 1015.87 Q2377.99 1020.46 2372.18 1020.46 Q2366.37 1020.46 2363.29 1015.87 Q2360.24 1011.27 2360.24 1002.54 Q2360.24 993.789 2363.29 989.205 Q2366.37 984.599 2372.18 984.599 Z\" fill=\"#000000\" fill-rule=\"evenodd\" fill-opacity=\"1\" /><path clip-path=\"url(#clip830)\" d=\"M 0 0 M2399.2 988.302 Q2395.58 988.302 2393.76 991.867 Q2391.95 995.409 2391.95 1002.54 Q2391.95 1009.64 2393.76 1013.21 Q2395.58 1016.75 2399.2 1016.75 Q2402.83 1016.75 2404.63 1013.21 Q2406.46 1009.64 2406.46 1002.54 Q2406.46 995.409 2404.63 991.867 Q2402.83 988.302 2399.2 988.302 M2399.2 984.599 Q2405.01 984.599 2408.06 989.205 Q2411.14 993.789 2411.14 1002.54 Q2411.14 1011.27 2408.06 1015.87 Q2405.01 1020.46 2399.2 1020.46 Q2393.38 1020.46 2390.31 1015.87 Q2387.25 1011.27 2387.25 1002.54 Q2387.25 993.789 2390.31 989.205 Q2393.38 984.599 2399.2 984.599 Z\" fill=\"#000000\" fill-rule=\"evenodd\" fill-opacity=\"1\" /><path clip-path=\"url(#clip830)\" d=\"M 0 0 M2280.7 839.844 Q2277.09 839.844 2275.26 843.409 Q2273.45 846.951 2273.45 854.08 Q2273.45 861.187 2275.26 864.751 Q2277.09 868.293 2280.7 868.293 Q2284.33 868.293 2286.14 864.751 Q2287.97 861.187 2287.97 854.08 Q2287.97 846.951 2286.14 843.409 Q2284.33 839.844 2280.7 839.844 M2280.7 836.141 Q2286.51 836.141 2289.57 840.747 Q2292.64 845.33 2292.64 854.08 Q2292.64 862.807 2289.57 867.413 Q2286.51 871.997 2280.7 871.997 Q2274.89 871.997 2271.81 867.413 Q2268.76 862.807 2268.76 854.08 Q2268.76 845.33 2271.81 840.747 Q2274.89 836.141 2280.7 836.141 Z\" fill=\"#000000\" fill-rule=\"evenodd\" fill-opacity=\"1\" /><path clip-path=\"url(#clip830)\" d=\"M 0 0 M2297.71 865.446 L2302.6 865.446 L2302.6 871.326 L2297.71 871.326 L2297.71 865.446 Z\" fill=\"#000000\" fill-rule=\"evenodd\" fill-opacity=\"1\" /><path clip-path=\"url(#clip830)\" d=\"M 0 0 M2320.51 840.84 L2308.71 859.289 L2320.51 859.289 L2320.51 840.84 M2319.29 836.766 L2325.17 836.766 L2325.17 859.289 L2330.1 859.289 L2330.1 863.177 L2325.17 863.177 L2325.17 871.326 L2320.51 871.326 L2320.51 863.177 L2304.91 863.177 L2304.91 858.664 L2319.29 836.766 Z\" fill=\"#000000\" fill-rule=\"evenodd\" fill-opacity=\"1\" /><path clip-path=\"url(#clip830)\" d=\"M 0 0 M2345.17 839.844 Q2341.56 839.844 2339.73 843.409 Q2337.92 846.951 2337.92 854.08 Q2337.92 861.187 2339.73 864.751 Q2341.56 868.293 2345.17 868.293 Q2348.8 868.293 2350.61 864.751 Q2352.44 861.187 2352.44 854.08 Q2352.44 846.951 2350.61 843.409 Q2348.8 839.844 2345.17 839.844 M2345.17 836.141 Q2350.98 836.141 2354.03 840.747 Q2357.11 845.33 2357.11 854.08 Q2357.11 862.807 2354.03 867.413 Q2350.98 871.997 2345.17 871.997 Q2339.36 871.997 2336.28 867.413 Q2333.22 862.807 2333.22 854.08 Q2333.22 845.33 2336.28 840.747 Q2339.36 836.141 2345.17 836.141 Z\" fill=\"#000000\" fill-rule=\"evenodd\" fill-opacity=\"1\" /><path clip-path=\"url(#clip830)\" d=\"M 0 0 M2366.21 867.39 L2382.53 867.39 L2382.53 871.326 L2360.58 871.326 L2360.58 867.39 Q2363.25 864.636 2367.83 860.006 Q2372.44 855.353 2373.62 854.011 Q2375.86 851.488 2376.74 849.752 Q2377.64 847.992 2377.64 846.302 Q2377.64 843.548 2375.7 841.812 Q2373.78 840.076 2370.68 840.076 Q2368.48 840.076 2366.02 840.84 Q2363.59 841.603 2360.82 843.154 L2360.82 838.432 Q2363.64 837.298 2366.09 836.719 Q2368.55 836.141 2370.58 836.141 Q2375.95 836.141 2379.15 838.826 Q2382.34 841.511 2382.34 846.002 Q2382.34 848.131 2381.53 850.052 Q2380.75 851.951 2378.64 854.543 Q2378.06 855.214 2374.96 858.432 Q2371.86 861.626 2366.21 867.39 Z\" fill=\"#000000\" fill-rule=\"evenodd\" fill-opacity=\"1\" /><path clip-path=\"url(#clip830)\" d=\"M 0 0 M2387.64 836.766 L2406 836.766 L2406 840.701 L2391.93 840.701 L2391.93 849.173 Q2392.95 848.826 2393.96 848.664 Q2394.98 848.478 2396 848.478 Q2401.79 848.478 2405.17 851.65 Q2408.55 854.821 2408.55 860.238 Q2408.55 865.816 2405.07 868.918 Q2401.6 871.997 2395.28 871.997 Q2393.11 871.997 2390.84 871.626 Q2388.59 871.256 2386.19 870.515 L2386.19 865.816 Q2388.27 866.951 2390.49 867.506 Q2392.71 868.062 2395.19 868.062 Q2399.2 868.062 2401.53 865.955 Q2403.87 863.849 2403.87 860.238 Q2403.87 856.627 2401.53 854.52 Q2399.2 852.414 2395.19 852.414 Q2393.32 852.414 2391.44 852.83 Q2389.59 853.247 2387.64 854.127 L2387.64 836.766 Z\" fill=\"#000000\" fill-rule=\"evenodd\" fill-opacity=\"1\" /><path clip-path=\"url(#clip830)\" d=\"M 0 0 M2280.7 691.386 Q2277.09 691.386 2275.26 694.951 Q2273.45 698.492 2273.45 705.622 Q2273.45 712.728 2275.26 716.293 Q2277.09 719.835 2280.7 719.835 Q2284.33 719.835 2286.14 716.293 Q2287.97 712.728 2287.97 705.622 Q2287.97 698.492 2286.14 694.951 Q2284.33 691.386 2280.7 691.386 M2280.7 687.682 Q2286.51 687.682 2289.57 692.289 Q2292.64 696.872 2292.64 705.622 Q2292.64 714.349 2289.57 718.955 Q2286.51 723.539 2280.7 723.539 Q2274.89 723.539 2271.81 718.955 Q2268.76 714.349 2268.76 705.622 Q2268.76 696.872 2271.81 692.289 Q2274.89 687.682 2280.7 687.682 Z\" fill=\"#000000\" fill-rule=\"evenodd\" fill-opacity=\"1\" /><path clip-path=\"url(#clip830)\" d=\"M 0 0 M2297.71 716.988 L2302.6 716.988 L2302.6 722.867 L2297.71 722.867 L2297.71 716.988 Z\" fill=\"#000000\" fill-rule=\"evenodd\" fill-opacity=\"1\" /><path clip-path=\"url(#clip830)\" d=\"M 0 0 M2320.51 692.381 L2308.71 710.83 L2320.51 710.83 L2320.51 692.381 M2319.29 688.307 L2325.17 688.307 L2325.17 710.83 L2330.1 710.83 L2330.1 714.719 L2325.17 714.719 L2325.17 722.867 L2320.51 722.867 L2320.51 714.719 L2304.91 714.719 L2304.91 710.205 L2319.29 688.307 Z\" fill=\"#000000\" fill-rule=\"evenodd\" fill-opacity=\"1\" /><path clip-path=\"url(#clip830)\" d=\"M 0 0 M2345.17 691.386 Q2341.56 691.386 2339.73 694.951 Q2337.92 698.492 2337.92 705.622 Q2337.92 712.728 2339.73 716.293 Q2341.56 719.835 2345.17 719.835 Q2348.8 719.835 2350.61 716.293 Q2352.44 712.728 2352.44 705.622 Q2352.44 698.492 2350.61 694.951 Q2348.8 691.386 2345.17 691.386 M2345.17 687.682 Q2350.98 687.682 2354.03 692.289 Q2357.11 696.872 2357.11 705.622 Q2357.11 714.349 2354.03 718.955 Q2350.98 723.539 2345.17 723.539 Q2339.36 723.539 2336.28 718.955 Q2333.22 714.349 2333.22 705.622 Q2333.22 696.872 2336.28 692.289 Q2339.36 687.682 2345.17 687.682 Z\" fill=\"#000000\" fill-rule=\"evenodd\" fill-opacity=\"1\" /><path clip-path=\"url(#clip830)\" d=\"M 0 0 M2362.23 688.307 L2380.58 688.307 L2380.58 692.242 L2366.51 692.242 L2366.51 700.715 Q2367.53 700.367 2368.55 700.205 Q2369.57 700.02 2370.58 700.02 Q2376.37 700.02 2379.75 703.191 Q2383.13 706.363 2383.13 711.779 Q2383.13 717.358 2379.66 720.46 Q2376.19 723.539 2369.87 723.539 Q2367.69 723.539 2365.42 723.168 Q2363.18 722.798 2360.77 722.057 L2360.77 717.358 Q2362.85 718.492 2365.07 719.048 Q2367.3 719.603 2369.77 719.603 Q2373.78 719.603 2376.12 717.497 Q2378.45 715.39 2378.45 711.779 Q2378.45 708.168 2376.12 706.062 Q2373.78 703.955 2369.77 703.955 Q2367.9 703.955 2366.02 704.372 Q2364.17 704.789 2362.23 705.668 L2362.23 688.307 Z\" fill=\"#000000\" fill-rule=\"evenodd\" fill-opacity=\"1\" /><path clip-path=\"url(#clip830)\" d=\"M 0 0 M2398.2 691.386 Q2394.59 691.386 2392.76 694.951 Q2390.95 698.492 2390.95 705.622 Q2390.95 712.728 2392.76 716.293 Q2394.59 719.835 2398.2 719.835 Q2401.83 719.835 2403.64 716.293 Q2405.47 712.728 2405.47 705.622 Q2405.47 698.492 2403.64 694.951 Q2401.83 691.386 2398.2 691.386 M2398.2 687.682 Q2404.01 687.682 2407.07 692.289 Q2410.14 696.872 2410.14 705.622 Q2410.14 714.349 2407.07 718.955 Q2404.01 723.539 2398.2 723.539 Q2392.39 723.539 2389.31 718.955 Q2386.26 714.349 2386.26 705.622 Q2386.26 696.872 2389.31 692.289 Q2392.39 687.682 2398.2 687.682 Z\" fill=\"#000000\" fill-rule=\"evenodd\" fill-opacity=\"1\" /><path clip-path=\"url(#clip830)\" d=\"M 0 0 M2280.7 542.928 Q2277.09 542.928 2275.26 546.492 Q2273.45 550.034 2273.45 557.164 Q2273.45 564.27 2275.26 567.835 Q2277.09 571.377 2280.7 571.377 Q2284.33 571.377 2286.14 567.835 Q2287.97 564.27 2287.97 557.164 Q2287.97 550.034 2286.14 546.492 Q2284.33 542.928 2280.7 542.928 M2280.7 539.224 Q2286.51 539.224 2289.57 543.83 Q2292.64 548.414 2292.64 557.164 Q2292.64 565.89 2289.57 570.497 Q2286.51 575.08 2280.7 575.08 Q2274.89 575.08 2271.81 570.497 Q2268.76 565.89 2268.76 557.164 Q2268.76 548.414 2271.81 543.83 Q2274.89 539.224 2280.7 539.224 Z\" fill=\"#000000\" fill-rule=\"evenodd\" fill-opacity=\"1\" /><path clip-path=\"url(#clip830)\" d=\"M 0 0 M2297.71 568.529 L2302.6 568.529 L2302.6 574.409 L2297.71 574.409 L2297.71 568.529 Z\" fill=\"#000000\" fill-rule=\"evenodd\" fill-opacity=\"1\" /><path clip-path=\"url(#clip830)\" d=\"M 0 0 M2320.51 543.923 L2308.71 562.372 L2320.51 562.372 L2320.51 543.923 M2319.29 539.849 L2325.17 539.849 L2325.17 562.372 L2330.1 562.372 L2330.1 566.261 L2325.17 566.261 L2325.17 574.409 L2320.51 574.409 L2320.51 566.261 L2304.91 566.261 L2304.91 561.747 L2319.29 539.849 Z\" fill=\"#000000\" fill-rule=\"evenodd\" fill-opacity=\"1\" /><path clip-path=\"url(#clip830)\" d=\"M 0 0 M2345.17 542.928 Q2341.56 542.928 2339.73 546.492 Q2337.92 550.034 2337.92 557.164 Q2337.92 564.27 2339.73 567.835 Q2341.56 571.377 2345.17 571.377 Q2348.8 571.377 2350.61 567.835 Q2352.44 564.27 2352.44 557.164 Q2352.44 550.034 2350.61 546.492 Q2348.8 542.928 2345.17 542.928 M2345.17 539.224 Q2350.98 539.224 2354.03 543.83 Q2357.11 548.414 2357.11 557.164 Q2357.11 565.89 2354.03 570.497 Q2350.98 575.08 2345.17 575.08 Q2339.36 575.08 2336.28 570.497 Q2333.22 565.89 2333.22 557.164 Q2333.22 548.414 2336.28 543.83 Q2339.36 539.224 2345.17 539.224 Z\" fill=\"#000000\" fill-rule=\"evenodd\" fill-opacity=\"1\" /><path clip-path=\"url(#clip830)\" d=\"M 0 0 M2361 539.849 L2383.22 539.849 L2383.22 541.84 L2370.68 574.409 L2365.79 574.409 L2377.6 543.784 L2361 543.784 L2361 539.849 Z\" fill=\"#000000\" fill-rule=\"evenodd\" fill-opacity=\"1\" /><path clip-path=\"url(#clip830)\" d=\"M 0 0 M2388.34 539.849 L2406.69 539.849 L2406.69 543.784 L2392.62 543.784 L2392.62 552.256 Q2393.64 551.909 2394.66 551.747 Q2395.68 551.562 2396.7 551.562 Q2402.48 551.562 2405.86 554.733 Q2409.24 557.904 2409.24 563.321 Q2409.24 568.9 2405.77 572.002 Q2402.3 575.08 2395.98 575.08 Q2393.8 575.08 2391.53 574.71 Q2389.29 574.34 2386.88 573.599 L2386.88 568.9 Q2388.96 570.034 2391.19 570.59 Q2393.41 571.145 2395.88 571.145 Q2399.89 571.145 2402.23 569.039 Q2404.57 566.932 2404.57 563.321 Q2404.57 559.71 2402.23 557.603 Q2399.89 555.497 2395.88 555.497 Q2394.01 555.497 2392.13 555.914 Q2390.28 556.33 2388.34 557.21 L2388.34 539.849 Z\" fill=\"#000000\" fill-rule=\"evenodd\" fill-opacity=\"1\" /><path clip-path=\"url(#clip830)\" d=\"M 0 0 M2280.7 394.469 Q2277.09 394.469 2275.26 398.034 Q2273.45 401.576 2273.45 408.705 Q2273.45 415.812 2275.26 419.377 Q2277.09 422.918 2280.7 422.918 Q2284.33 422.918 2286.14 419.377 Q2287.97 415.812 2287.97 408.705 Q2287.97 401.576 2286.14 398.034 Q2284.33 394.469 2280.7 394.469 M2280.7 390.766 Q2286.51 390.766 2289.57 395.372 Q2292.64 399.955 2292.64 408.705 Q2292.64 417.432 2289.57 422.039 Q2286.51 426.622 2280.7 426.622 Q2274.89 426.622 2271.81 422.039 Q2268.76 417.432 2268.76 408.705 Q2268.76 399.955 2271.81 395.372 Q2274.89 390.766 2280.7 390.766 Z\" fill=\"#000000\" fill-rule=\"evenodd\" fill-opacity=\"1\" /><path clip-path=\"url(#clip830)\" d=\"M 0 0 M2297.71 420.071 L2302.6 420.071 L2302.6 425.951 L2297.71 425.951 L2297.71 420.071 Z\" fill=\"#000000\" fill-rule=\"evenodd\" fill-opacity=\"1\" /><path clip-path=\"url(#clip830)\" d=\"M 0 0 M2320.51 395.465 L2308.71 413.914 L2320.51 413.914 L2320.51 395.465 M2319.29 391.391 L2325.17 391.391 L2325.17 413.914 L2330.1 413.914 L2330.1 417.803 L2325.17 417.803 L2325.17 425.951 L2320.51 425.951 L2320.51 417.803 L2304.91 417.803 L2304.91 413.289 L2319.29 391.391 Z\" fill=\"#000000\" fill-rule=\"evenodd\" fill-opacity=\"1\" /><path clip-path=\"url(#clip830)\" d=\"M 0 0 M2335.98 422.016 L2343.62 422.016 L2343.62 395.65 L2335.31 397.317 L2335.31 393.057 L2343.57 391.391 L2348.25 391.391 L2348.25 422.016 L2355.89 422.016 L2355.89 425.951 L2335.98 425.951 L2335.98 422.016 Z\" fill=\"#000000\" fill-rule=\"evenodd\" fill-opacity=\"1\" /><path clip-path=\"url(#clip830)\" d=\"M 0 0 M2370.95 394.469 Q2367.34 394.469 2365.51 398.034 Q2363.71 401.576 2363.71 408.705 Q2363.71 415.812 2365.51 419.377 Q2367.34 422.918 2370.95 422.918 Q2374.59 422.918 2376.39 419.377 Q2378.22 415.812 2378.22 408.705 Q2378.22 401.576 2376.39 398.034 Q2374.59 394.469 2370.95 394.469 M2370.95 390.766 Q2376.76 390.766 2379.82 395.372 Q2382.9 399.955 2382.9 408.705 Q2382.9 417.432 2379.82 422.039 Q2376.76 426.622 2370.95 426.622 Q2365.14 426.622 2362.07 422.039 Q2359.01 417.432 2359.01 408.705 Q2359.01 399.955 2362.07 395.372 Q2365.14 390.766 2370.95 390.766 Z\" fill=\"#000000\" fill-rule=\"evenodd\" fill-opacity=\"1\" /><path clip-path=\"url(#clip830)\" d=\"M 0 0 M2397.97 394.469 Q2394.36 394.469 2392.53 398.034 Q2390.72 401.576 2390.72 408.705 Q2390.72 415.812 2392.53 419.377 Q2394.36 422.918 2397.97 422.918 Q2401.6 422.918 2403.41 419.377 Q2405.24 415.812 2405.24 408.705 Q2405.24 401.576 2403.41 398.034 Q2401.6 394.469 2397.97 394.469 M2397.97 390.766 Q2403.78 390.766 2406.83 395.372 Q2409.91 399.955 2409.91 408.705 Q2409.91 417.432 2406.83 422.039 Q2403.78 426.622 2397.97 426.622 Q2392.16 426.622 2389.08 422.039 Q2386.02 417.432 2386.02 408.705 Q2386.02 399.955 2389.08 395.372 Q2392.16 390.766 2397.97 390.766 Z\" fill=\"#000000\" fill-rule=\"evenodd\" fill-opacity=\"1\" /><path clip-path=\"url(#clip830)\" d=\"M 0 0 M2280.7 246.011 Q2277.09 246.011 2275.26 249.576 Q2273.45 253.118 2273.45 260.247 Q2273.45 267.354 2275.26 270.918 Q2277.09 274.46 2280.7 274.46 Q2284.33 274.46 2286.14 270.918 Q2287.97 267.354 2287.97 260.247 Q2287.97 253.118 2286.14 249.576 Q2284.33 246.011 2280.7 246.011 M2280.7 242.307 Q2286.51 242.307 2289.57 246.914 Q2292.64 251.497 2292.64 260.247 Q2292.64 268.974 2289.57 273.58 Q2286.51 278.164 2280.7 278.164 Q2274.89 278.164 2271.81 273.58 Q2268.76 268.974 2268.76 260.247 Q2268.76 251.497 2271.81 246.914 Q2274.89 242.307 2280.7 242.307 Z\" fill=\"#000000\" fill-rule=\"evenodd\" fill-opacity=\"1\" /><path clip-path=\"url(#clip830)\" d=\"M 0 0 M2297.71 271.613 L2302.6 271.613 L2302.6 277.492 L2297.71 277.492 L2297.71 271.613 Z\" fill=\"#000000\" fill-rule=\"evenodd\" fill-opacity=\"1\" /><path clip-path=\"url(#clip830)\" d=\"M 0 0 M2320.51 247.006 L2308.71 265.455 L2320.51 265.455 L2320.51 247.006 M2319.29 242.932 L2325.17 242.932 L2325.17 265.455 L2330.1 265.455 L2330.1 269.344 L2325.17 269.344 L2325.17 277.492 L2320.51 277.492 L2320.51 269.344 L2304.91 269.344 L2304.91 264.83 L2319.29 242.932 Z\" fill=\"#000000\" fill-rule=\"evenodd\" fill-opacity=\"1\" /><path clip-path=\"url(#clip830)\" d=\"M 0 0 M2335.98 273.557 L2343.62 273.557 L2343.62 247.192 L2335.31 248.858 L2335.31 244.599 L2343.57 242.932 L2348.25 242.932 L2348.25 273.557 L2355.89 273.557 L2355.89 277.492 L2335.98 277.492 L2335.98 273.557 Z\" fill=\"#000000\" fill-rule=\"evenodd\" fill-opacity=\"1\" /><path clip-path=\"url(#clip830)\" d=\"M 0 0 M2364.98 273.557 L2381.3 273.557 L2381.3 277.492 L2359.36 277.492 L2359.36 273.557 Q2362.02 270.803 2366.6 266.173 Q2371.21 261.52 2372.39 260.178 Q2374.63 257.655 2375.51 255.918 Q2376.42 254.159 2376.42 252.469 Q2376.42 249.715 2374.47 247.979 Q2372.55 246.243 2369.45 246.243 Q2367.25 246.243 2364.8 247.006 Q2362.37 247.77 2359.59 249.321 L2359.59 244.599 Q2362.41 243.465 2364.87 242.886 Q2367.32 242.307 2369.36 242.307 Q2374.73 242.307 2377.92 244.993 Q2381.12 247.678 2381.12 252.168 Q2381.12 254.298 2380.31 256.219 Q2379.52 258.118 2377.41 260.71 Q2376.83 261.381 2373.73 264.599 Q2370.63 267.793 2364.98 273.557 Z\" fill=\"#000000\" fill-rule=\"evenodd\" fill-opacity=\"1\" /><path clip-path=\"url(#clip830)\" d=\"M 0 0 M2386.42 242.932 L2404.77 242.932 L2404.77 246.868 L2390.7 246.868 L2390.7 255.34 Q2391.72 254.993 2392.74 254.83 Q2393.76 254.645 2394.77 254.645 Q2400.56 254.645 2403.94 257.817 Q2407.32 260.988 2407.32 266.404 Q2407.32 271.983 2403.85 275.085 Q2400.38 278.164 2394.06 278.164 Q2391.88 278.164 2389.61 277.793 Q2387.37 277.423 2384.96 276.682 L2384.96 271.983 Q2387.04 273.117 2389.26 273.673 Q2391.49 274.229 2393.96 274.229 Q2397.97 274.229 2400.31 272.122 Q2402.64 270.016 2402.64 266.404 Q2402.64 262.793 2400.31 260.687 Q2397.97 258.58 2393.96 258.58 Q2392.09 258.58 2390.21 258.997 Q2388.36 259.414 2386.42 260.293 L2386.42 242.932 Z\" fill=\"#000000\" fill-rule=\"evenodd\" fill-opacity=\"1\" /><path clip-path=\"url(#clip830)\" d=\"M 0 0 M2280.7 97.5528 Q2277.09 97.5528 2275.26 101.118 Q2273.45 104.659 2273.45 111.789 Q2273.45 118.895 2275.26 122.46 Q2277.09 126.002 2280.7 126.002 Q2284.33 126.002 2286.14 122.46 Q2287.97 118.895 2287.97 111.789 Q2287.97 104.659 2286.14 101.118 Q2284.33 97.5528 2280.7 97.5528 M2280.7 93.8491 Q2286.51 93.8491 2289.57 98.4556 Q2292.64 103.039 2292.64 111.789 Q2292.64 120.516 2289.57 125.122 Q2286.51 129.705 2280.7 129.705 Q2274.89 129.705 2271.81 125.122 Q2268.76 120.516 2268.76 111.789 Q2268.76 103.039 2271.81 98.4556 Q2274.89 93.8491 2280.7 93.8491 Z\" fill=\"#000000\" fill-rule=\"evenodd\" fill-opacity=\"1\" /><path clip-path=\"url(#clip830)\" d=\"M 0 0 M2297.71 123.155 L2302.6 123.155 L2302.6 129.034 L2297.71 129.034 L2297.71 123.155 Z\" fill=\"#000000\" fill-rule=\"evenodd\" fill-opacity=\"1\" /><path clip-path=\"url(#clip830)\" d=\"M 0 0 M2320.51 98.5482 L2308.71 116.997 L2320.51 116.997 L2320.51 98.5482 M2319.29 94.4741 L2325.17 94.4741 L2325.17 116.997 L2330.1 116.997 L2330.1 120.886 L2325.17 120.886 L2325.17 129.034 L2320.51 129.034 L2320.51 120.886 L2304.91 120.886 L2304.91 116.372 L2319.29 94.4741 Z\" fill=\"#000000\" fill-rule=\"evenodd\" fill-opacity=\"1\" /><path clip-path=\"url(#clip830)\" d=\"M 0 0 M2335.98 125.099 L2343.62 125.099 L2343.62 98.7334 L2335.31 100.4 L2335.31 96.1408 L2343.57 94.4741 L2348.25 94.4741 L2348.25 125.099 L2355.89 125.099 L2355.89 129.034 L2335.98 129.034 L2335.98 125.099 Z\" fill=\"#000000\" fill-rule=\"evenodd\" fill-opacity=\"1\" /><path clip-path=\"url(#clip830)\" d=\"M 0 0 M2361 94.4741 L2379.36 94.4741 L2379.36 98.4093 L2365.28 98.4093 L2365.28 106.881 Q2366.3 106.534 2367.32 106.372 Q2368.34 106.187 2369.36 106.187 Q2375.14 106.187 2378.52 109.358 Q2381.9 112.53 2381.9 117.946 Q2381.9 123.525 2378.43 126.627 Q2374.96 129.705 2368.64 129.705 Q2366.46 129.705 2364.2 129.335 Q2361.95 128.965 2359.54 128.224 L2359.54 123.525 Q2361.63 124.659 2363.85 125.215 Q2366.07 125.77 2368.55 125.77 Q2372.55 125.77 2374.89 123.664 Q2377.23 121.557 2377.23 117.946 Q2377.23 114.335 2374.89 112.229 Q2372.55 110.122 2368.55 110.122 Q2366.67 110.122 2364.8 110.539 Q2362.95 110.956 2361 111.835 L2361 94.4741 Z\" fill=\"#000000\" fill-rule=\"evenodd\" fill-opacity=\"1\" /><path clip-path=\"url(#clip830)\" d=\"M 0 0 M2396.97 97.5528 Q2393.36 97.5528 2391.53 101.118 Q2389.73 104.659 2389.73 111.789 Q2389.73 118.895 2391.53 122.46 Q2393.36 126.002 2396.97 126.002 Q2400.61 126.002 2402.41 122.46 Q2404.24 118.895 2404.24 111.789 Q2404.24 104.659 2402.41 101.118 Q2400.61 97.5528 2396.97 97.5528 M2396.97 93.8491 Q2402.78 93.8491 2405.84 98.4556 Q2408.92 103.039 2408.92 111.789 Q2408.92 120.516 2405.84 125.122 Q2402.78 129.705 2396.97 129.705 Q2391.16 129.705 2388.08 125.122 Q2385.03 120.516 2385.03 111.789 Q2385.03 103.039 2388.08 98.4556 Q2391.16 93.8491 2396.97 93.8491 Z\" fill=\"#000000\" fill-rule=\"evenodd\" fill-opacity=\"1\" /><polyline clip-path=\"url(#clip830)\" style=\"stroke:#000000; stroke-width:4; stroke-opacity:1; fill:none\" points=\"\n",
       "  2232.76,1423.18 2232.76,1303.05 2256.76,1303.05 2232.76,1303.05 2232.76,1154.59 2256.76,1154.59 2232.76,1154.59 2232.76,1006.13 2256.76,1006.13 2232.76,1006.13 \n",
       "  2232.76,857.674 2256.76,857.674 2232.76,857.674 2232.76,709.216 2256.76,709.216 2232.76,709.216 2232.76,560.758 2256.76,560.758 2232.76,560.758 2232.76,412.299 \n",
       "  2256.76,412.299 2232.76,412.299 2232.76,263.841 2256.76,263.841 2232.76,263.841 2232.76,115.383 2256.76,115.383 2232.76,115.383 2232.76,47.2441 \n",
       "  \"/>\n",
       "</svg>\n"
      ]
     },
     "execution_count": 80,
     "metadata": {},
     "output_type": "execute_result"
    }
   ],
   "source": [
    "plot(self_tuning_nn)"
   ]
  },
  {
   "cell_type": "code",
   "execution_count": 81,
   "metadata": {},
   "outputs": [
    {
     "data": {
      "text/plain": [
       "(best_model = \u001b[34mNeuralNetworkClassifier{CustomNN,…} @239\u001b[39m,\n",
       " best_fitted_params = (chain = Chain(Chain(Dense(41, 100, σ), Dense(100, 2, σ)), softmax),),)"
      ]
     },
     "execution_count": 81,
     "metadata": {},
     "output_type": "execute_result"
    }
   ],
   "source": [
    "best = fitted_params(self_tuning_nn)\n",
    "best"
   ]
  },
  {
   "cell_type": "code",
   "execution_count": 82,
   "metadata": {},
   "outputs": [
    {
     "data": {
      "text/plain": [
       "NeuralNetworkClassifier(\n",
       "    builder = CustomNN(\n",
       "            n1 = 100),\n",
       "    finaliser = NNlib.softmax,\n",
       "    optimiser = ADAM(0.001, (0.9, 0.999), IdDict{Any,Any}()),\n",
       "    loss = Flux.crossentropy,\n",
       "    epochs = 733,\n",
       "    batch_size = 16,\n",
       "    lambda = 0.0001,\n",
       "    alpha = 0.0,\n",
       "    optimiser_changes_trigger_retraining = false)\u001b[34m @239\u001b[39m"
      ]
     },
     "execution_count": 82,
     "metadata": {},
     "output_type": "execute_result"
    }
   ],
   "source": [
    "best.best_model"
   ]
  },
  {
   "cell_type": "code",
   "execution_count": 83,
   "metadata": {
    "scrolled": true
   },
   "outputs": [
    {
     "data": {
      "text/plain": [
       "0.39297703f0"
      ]
     },
     "execution_count": 83,
     "metadata": {},
     "output_type": "execute_result"
    }
   ],
   "source": [
    "best_loss = z.report.best_result.measurement[1]"
   ]
  },
  {
   "cell_type": "code",
   "execution_count": 84,
   "metadata": {},
   "outputs": [
    {
     "data": {
      "text/plain": [
       "0.0001"
      ]
     },
     "execution_count": 84,
     "metadata": {},
     "output_type": "execute_result"
    }
   ],
   "source": [
    "best_lambda = best.best_model.lambda"
   ]
  },
  {
   "cell_type": "code",
   "execution_count": 85,
   "metadata": {},
   "outputs": [],
   "source": [
    "fn = \"Figures/Grid_NN_$(param1):$(best.best_model.epochs)_x_$(param2):$(best_lambda)_bestloss:$(best_loss)\"\n",
    "png(replace(fn,'.' => ','))"
   ]
  },
  {
   "cell_type": "markdown",
   "metadata": {},
   "source": [
    "### Learning Curve"
   ]
  },
  {
   "cell_type": "code",
   "execution_count": 86,
   "metadata": {},
   "outputs": [
    {
     "data": {
      "text/plain": [
       "NeuralNetworkClassifier(\n",
       "    builder = CustomNN(\n",
       "            n1 = 100),\n",
       "    finaliser = NNlib.softmax,\n",
       "    optimiser = ADAM(0.001, (0.9, 0.999), IdDict{Any,Any}()),\n",
       "    loss = Flux.crossentropy,\n",
       "    epochs = 2000,\n",
       "    batch_size = 16,\n",
       "    lambda = 0.0001,\n",
       "    alpha = 0.0,\n",
       "    optimiser_changes_trigger_retraining = false)\u001b[34m @779\u001b[39m"
      ]
     },
     "execution_count": 86,
     "metadata": {},
     "output_type": "execute_result"
    }
   ],
   "source": [
    "lc_model = NeuralNetworkClassifier(builder=CustomNN(best_n1))\n",
    "lc_model.optimiser.eta = best_eta;\n",
    "lc_model.lambda = best_lambda\n",
    "lc_model.epochs = max_epochs\n",
    "lc_model.batch_size = batch_sz\n",
    "lc_model"
   ]
  },
  {
   "cell_type": "code",
   "execution_count": 87,
   "metadata": {},
   "outputs": [],
   "source": [
    "# lc_model = NeuralNetworkClassifier(builder=CustomNN(80,80))\n",
    "# lc_model.optimiser.eta = 0.001;\n",
    "# lc_model.lambda = best_lambda\n",
    "# lc_model.epochs = 3000\n",
    "# lc_model.batch_size = 8"
   ]
  },
  {
   "cell_type": "code",
   "execution_count": 88,
   "metadata": {},
   "outputs": [
    {
     "data": {
      "text/plain": [
       "mce (generic function with 1 method)"
      ]
     },
     "execution_count": 88,
     "metadata": {},
     "output_type": "execute_result"
    }
   ],
   "source": [
    "mce(x,y) = mean(cross_entropy(x,y))"
   ]
  },
  {
   "cell_type": "code",
   "execution_count": 90,
   "metadata": {
    "scrolled": true
   },
   "outputs": [
    {
     "name": "stderr",
     "output_type": "stream",
     "text": [
      "┌ Warning: The scitype of `X`, in `machine(model, X, ...)` is incompatible with `model=\u001b[34mNeuralNetworkClassifier{CustomNN,…} @779\u001b[39m`:\n",
      "│ scitype(X) = Table{Union{AbstractArray{Continuous,1}, AbstractArray{Count,1}}}\n",
      "│ input_scitype(model) = Table{var\"#s44\"} where var\"#s44\"<:(AbstractArray{var\"#s13\",1} where var\"#s13\"<:Continuous).\n",
      "└ @ MLJBase /home/andrew/.julia/packages/MLJBase/uKzAz/src/machines.jl:77\n"
     ]
    },
    {
     "name": "stdout",
     "output_type": "stream",
     "text": [
      "(d, train_metric, valid_metric) = (10, 0.31339258f0, 0.5995752f0)\n"
     ]
    },
    {
     "name": "stderr",
     "output_type": "stream",
     "text": [
      "┌ Warning: The scitype of `X`, in `machine(model, X, ...)` is incompatible with `model=\u001b[34mNeuralNetworkClassifier{CustomNN,…} @779\u001b[39m`:\n",
      "│ scitype(X) = Table{Union{AbstractArray{Continuous,1}, AbstractArray{Count,1}}}\n",
      "│ input_scitype(model) = Table{var\"#s44\"} where var\"#s44\"<:(AbstractArray{var\"#s13\",1} where var\"#s13\"<:Continuous).\n",
      "└ @ MLJBase /home/andrew/.julia/packages/MLJBase/uKzAz/src/machines.jl:77\n"
     ]
    },
    {
     "name": "stdout",
     "output_type": "stream",
     "text": [
      "(d, train_metric, valid_metric) = (20, 0.31336236f0, 0.57163495f0)\n"
     ]
    },
    {
     "name": "stderr",
     "output_type": "stream",
     "text": [
      "┌ Warning: The scitype of `X`, in `machine(model, X, ...)` is incompatible with `model=\u001b[34mNeuralNetworkClassifier{CustomNN,…} @779\u001b[39m`:\n",
      "│ scitype(X) = Table{Union{AbstractArray{Continuous,1}, AbstractArray{Count,1}}}\n",
      "│ input_scitype(model) = Table{var\"#s44\"} where var\"#s44\"<:(AbstractArray{var\"#s13\",1} where var\"#s13\"<:Continuous).\n",
      "└ @ MLJBase /home/andrew/.julia/packages/MLJBase/uKzAz/src/machines.jl:77\n"
     ]
    },
    {
     "name": "stdout",
     "output_type": "stream",
     "text": [
      "(d, train_metric, valid_metric) = (30, 0.31331408f0, 0.5532242f0)\n"
     ]
    },
    {
     "name": "stderr",
     "output_type": "stream",
     "text": [
      "┌ Warning: The scitype of `X`, in `machine(model, X, ...)` is incompatible with `model=\u001b[34mNeuralNetworkClassifier{CustomNN,…} @779\u001b[39m`:\n",
      "│ scitype(X) = Table{Union{AbstractArray{Continuous,1}, AbstractArray{Count,1}}}\n",
      "│ input_scitype(model) = Table{var\"#s44\"} where var\"#s44\"<:(AbstractArray{var\"#s13\",1} where var\"#s13\"<:Continuous).\n",
      "└ @ MLJBase /home/andrew/.julia/packages/MLJBase/uKzAz/src/machines.jl:77\n"
     ]
    },
    {
     "name": "stdout",
     "output_type": "stream",
     "text": [
      "(d, train_metric, valid_metric) = (40, 0.3142717f0, 0.5336073f0)\n"
     ]
    },
    {
     "name": "stderr",
     "output_type": "stream",
     "text": [
      "┌ Warning: The scitype of `X`, in `machine(model, X, ...)` is incompatible with `model=\u001b[34mNeuralNetworkClassifier{CustomNN,…} @779\u001b[39m`:\n",
      "│ scitype(X) = Table{Union{AbstractArray{Continuous,1}, AbstractArray{Count,1}}}\n",
      "│ input_scitype(model) = Table{var\"#s44\"} where var\"#s44\"<:(AbstractArray{var\"#s13\",1} where var\"#s13\"<:Continuous).\n",
      "└ @ MLJBase /home/andrew/.julia/packages/MLJBase/uKzAz/src/machines.jl:77\n"
     ]
    },
    {
     "name": "stdout",
     "output_type": "stream",
     "text": [
      "(d, train_metric, valid_metric) = (50, 0.31401017f0, 0.5616377f0)\n"
     ]
    },
    {
     "name": "stderr",
     "output_type": "stream",
     "text": [
      "┌ Warning: The scitype of `X`, in `machine(model, X, ...)` is incompatible with `model=\u001b[34mNeuralNetworkClassifier{CustomNN,…} @779\u001b[39m`:\n",
      "│ scitype(X) = Table{Union{AbstractArray{Continuous,1}, AbstractArray{Count,1}}}\n",
      "│ input_scitype(model) = Table{var\"#s44\"} where var\"#s44\"<:(AbstractArray{var\"#s13\",1} where var\"#s13\"<:Continuous).\n",
      "└ @ MLJBase /home/andrew/.julia/packages/MLJBase/uKzAz/src/machines.jl:77\n"
     ]
    },
    {
     "name": "stdout",
     "output_type": "stream",
     "text": [
      "(d, train_metric, valid_metric) = (60, 0.33051202f0, 0.5327568f0)\n"
     ]
    },
    {
     "name": "stderr",
     "output_type": "stream",
     "text": [
      "┌ Warning: The scitype of `X`, in `machine(model, X, ...)` is incompatible with `model=\u001b[34mNeuralNetworkClassifier{CustomNN,…} @779\u001b[39m`:\n",
      "│ scitype(X) = Table{Union{AbstractArray{Continuous,1}, AbstractArray{Count,1}}}\n",
      "│ input_scitype(model) = Table{var\"#s44\"} where var\"#s44\"<:(AbstractArray{var\"#s13\",1} where var\"#s13\"<:Continuous).\n",
      "└ @ MLJBase /home/andrew/.julia/packages/MLJBase/uKzAz/src/machines.jl:77\n"
     ]
    },
    {
     "name": "stdout",
     "output_type": "stream",
     "text": [
      "(d, train_metric, valid_metric) = (70, 0.34195313f0, 0.5514258f0)\n"
     ]
    },
    {
     "name": "stderr",
     "output_type": "stream",
     "text": [
      "┌ Warning: The scitype of `X`, in `machine(model, X, ...)` is incompatible with `model=\u001b[34mNeuralNetworkClassifier{CustomNN,…} @779\u001b[39m`:\n",
      "│ scitype(X) = Table{Union{AbstractArray{Continuous,1}, AbstractArray{Count,1}}}\n",
      "│ input_scitype(model) = Table{var\"#s44\"} where var\"#s44\"<:(AbstractArray{var\"#s13\",1} where var\"#s13\"<:Continuous).\n",
      "└ @ MLJBase /home/andrew/.julia/packages/MLJBase/uKzAz/src/machines.jl:77\n"
     ]
    },
    {
     "name": "stdout",
     "output_type": "stream",
     "text": [
      "(d, train_metric, valid_metric) = (80, 0.35098657f0, 0.5303565f0)\n"
     ]
    },
    {
     "name": "stderr",
     "output_type": "stream",
     "text": [
      "┌ Warning: The scitype of `X`, in `machine(model, X, ...)` is incompatible with `model=\u001b[34mNeuralNetworkClassifier{CustomNN,…} @779\u001b[39m`:\n",
      "│ scitype(X) = Table{Union{AbstractArray{Continuous,1}, AbstractArray{Count,1}}}\n",
      "│ input_scitype(model) = Table{var\"#s44\"} where var\"#s44\"<:(AbstractArray{var\"#s13\",1} where var\"#s13\"<:Continuous).\n",
      "└ @ MLJBase /home/andrew/.julia/packages/MLJBase/uKzAz/src/machines.jl:77\n"
     ]
    },
    {
     "name": "stdout",
     "output_type": "stream",
     "text": [
      "(d, train_metric, valid_metric) = (90, 0.34661934f0, 0.5393594f0)\n"
     ]
    },
    {
     "name": "stderr",
     "output_type": "stream",
     "text": [
      "┌ Warning: The scitype of `X`, in `machine(model, X, ...)` is incompatible with `model=\u001b[34mNeuralNetworkClassifier{CustomNN,…} @779\u001b[39m`:\n",
      "│ scitype(X) = Table{Union{AbstractArray{Continuous,1}, AbstractArray{Count,1}}}\n",
      "│ input_scitype(model) = Table{var\"#s44\"} where var\"#s44\"<:(AbstractArray{var\"#s13\",1} where var\"#s13\"<:Continuous).\n",
      "└ @ MLJBase /home/andrew/.julia/packages/MLJBase/uKzAz/src/machines.jl:77\n"
     ]
    },
    {
     "name": "stdout",
     "output_type": "stream",
     "text": [
      "(d, train_metric, valid_metric) = (100, 0.35334337f0, 0.507861f0)\n"
     ]
    },
    {
     "name": "stderr",
     "output_type": "stream",
     "text": [
      "┌ Warning: The scitype of `X`, in `machine(model, X, ...)` is incompatible with `model=\u001b[34mNeuralNetworkClassifier{CustomNN,…} @779\u001b[39m`:\n",
      "│ scitype(X) = Table{Union{AbstractArray{Continuous,1}, AbstractArray{Count,1}}}\n",
      "│ input_scitype(model) = Table{var\"#s44\"} where var\"#s44\"<:(AbstractArray{var\"#s13\",1} where var\"#s13\"<:Continuous).\n",
      "└ @ MLJBase /home/andrew/.julia/packages/MLJBase/uKzAz/src/machines.jl:77\n"
     ]
    },
    {
     "name": "stdout",
     "output_type": "stream",
     "text": [
      "(d, train_metric, valid_metric) = (110, 0.34970933f0, 0.49409914f0)\n"
     ]
    },
    {
     "name": "stderr",
     "output_type": "stream",
     "text": [
      "┌ Warning: The scitype of `X`, in `machine(model, X, ...)` is incompatible with `model=\u001b[34mNeuralNetworkClassifier{CustomNN,…} @779\u001b[39m`:\n",
      "│ scitype(X) = Table{Union{AbstractArray{Continuous,1}, AbstractArray{Count,1}}}\n",
      "│ input_scitype(model) = Table{var\"#s44\"} where var\"#s44\"<:(AbstractArray{var\"#s13\",1} where var\"#s13\"<:Continuous).\n",
      "└ @ MLJBase /home/andrew/.julia/packages/MLJBase/uKzAz/src/machines.jl:77\n"
     ]
    },
    {
     "name": "stdout",
     "output_type": "stream",
     "text": [
      "(d, train_metric, valid_metric) = (120, 0.35496676f0, 0.48743424f0)\n"
     ]
    },
    {
     "name": "stderr",
     "output_type": "stream",
     "text": [
      "┌ Warning: The scitype of `X`, in `machine(model, X, ...)` is incompatible with `model=\u001b[34mNeuralNetworkClassifier{CustomNN,…} @779\u001b[39m`:\n",
      "│ scitype(X) = Table{Union{AbstractArray{Continuous,1}, AbstractArray{Count,1}}}\n",
      "│ input_scitype(model) = Table{var\"#s44\"} where var\"#s44\"<:(AbstractArray{var\"#s13\",1} where var\"#s13\"<:Continuous).\n",
      "└ @ MLJBase /home/andrew/.julia/packages/MLJBase/uKzAz/src/machines.jl:77\n"
     ]
    },
    {
     "name": "stdout",
     "output_type": "stream",
     "text": [
      "(d, train_metric, valid_metric) = (130, 0.35173973f0, 0.4953111f0)\n"
     ]
    },
    {
     "name": "stderr",
     "output_type": "stream",
     "text": [
      "┌ Warning: The scitype of `X`, in `machine(model, X, ...)` is incompatible with `model=\u001b[34mNeuralNetworkClassifier{CustomNN,…} @779\u001b[39m`:\n",
      "│ scitype(X) = Table{Union{AbstractArray{Continuous,1}, AbstractArray{Count,1}}}\n",
      "│ input_scitype(model) = Table{var\"#s44\"} where var\"#s44\"<:(AbstractArray{var\"#s13\",1} where var\"#s13\"<:Continuous).\n",
      "└ @ MLJBase /home/andrew/.julia/packages/MLJBase/uKzAz/src/machines.jl:77\n"
     ]
    },
    {
     "name": "stdout",
     "output_type": "stream",
     "text": [
      "(d, train_metric, valid_metric) = (140, 0.34901357f0, 0.5032582f0)\n"
     ]
    },
    {
     "name": "stderr",
     "output_type": "stream",
     "text": [
      "┌ Warning: The scitype of `X`, in `machine(model, X, ...)` is incompatible with `model=\u001b[34mNeuralNetworkClassifier{CustomNN,…} @779\u001b[39m`:\n",
      "│ scitype(X) = Table{Union{AbstractArray{Continuous,1}, AbstractArray{Count,1}}}\n",
      "│ input_scitype(model) = Table{var\"#s44\"} where var\"#s44\"<:(AbstractArray{var\"#s13\",1} where var\"#s13\"<:Continuous).\n",
      "└ @ MLJBase /home/andrew/.julia/packages/MLJBase/uKzAz/src/machines.jl:77\n"
     ]
    },
    {
     "name": "stdout",
     "output_type": "stream",
     "text": [
      "(d, train_metric, valid_metric) = (150, 0.34664077f0, 0.45610437f0)\n"
     ]
    },
    {
     "name": "stderr",
     "output_type": "stream",
     "text": [
      "┌ Warning: The scitype of `X`, in `machine(model, X, ...)` is incompatible with `model=\u001b[34mNeuralNetworkClassifier{CustomNN,…} @779\u001b[39m`:\n",
      "│ scitype(X) = Table{Union{AbstractArray{Continuous,1}, AbstractArray{Count,1}}}\n",
      "│ input_scitype(model) = Table{var\"#s44\"} where var\"#s44\"<:(AbstractArray{var\"#s13\",1} where var\"#s13\"<:Continuous).\n",
      "└ @ MLJBase /home/andrew/.julia/packages/MLJBase/uKzAz/src/machines.jl:77\n"
     ]
    },
    {
     "name": "stdout",
     "output_type": "stream",
     "text": [
      "(d, train_metric, valid_metric) = (160, 0.3447063f0, 0.47773707f0)\n"
     ]
    },
    {
     "name": "stderr",
     "output_type": "stream",
     "text": [
      "┌ Warning: The scitype of `X`, in `machine(model, X, ...)` is incompatible with `model=\u001b[34mNeuralNetworkClassifier{CustomNN,…} @779\u001b[39m`:\n",
      "│ scitype(X) = Table{Union{AbstractArray{Continuous,1}, AbstractArray{Count,1}}}\n",
      "│ input_scitype(model) = Table{var\"#s44\"} where var\"#s44\"<:(AbstractArray{var\"#s13\",1} where var\"#s13\"<:Continuous).\n",
      "└ @ MLJBase /home/andrew/.julia/packages/MLJBase/uKzAz/src/machines.jl:77\n"
     ]
    },
    {
     "name": "stdout",
     "output_type": "stream",
     "text": [
      "(d, train_metric, valid_metric) = (170, 0.34860063f0, 0.48240337f0)\n"
     ]
    },
    {
     "name": "stderr",
     "output_type": "stream",
     "text": [
      "┌ Warning: The scitype of `X`, in `machine(model, X, ...)` is incompatible with `model=\u001b[34mNeuralNetworkClassifier{CustomNN,…} @779\u001b[39m`:\n",
      "│ scitype(X) = Table{Union{AbstractArray{Continuous,1}, AbstractArray{Count,1}}}\n",
      "│ input_scitype(model) = Table{var\"#s44\"} where var\"#s44\"<:(AbstractArray{var\"#s13\",1} where var\"#s13\"<:Continuous).\n",
      "└ @ MLJBase /home/andrew/.julia/packages/MLJBase/uKzAz/src/machines.jl:77\n"
     ]
    },
    {
     "name": "stdout",
     "output_type": "stream",
     "text": [
      "(d, train_metric, valid_metric) = (180, 0.3466258f0, 0.48533368f0)\n"
     ]
    },
    {
     "name": "stderr",
     "output_type": "stream",
     "text": [
      "┌ Warning: The scitype of `X`, in `machine(model, X, ...)` is incompatible with `model=\u001b[34mNeuralNetworkClassifier{CustomNN,…} @779\u001b[39m`:\n",
      "│ scitype(X) = Table{Union{AbstractArray{Continuous,1}, AbstractArray{Count,1}}}\n",
      "│ input_scitype(model) = Table{var\"#s44\"} where var\"#s44\"<:(AbstractArray{var\"#s13\",1} where var\"#s13\"<:Continuous).\n",
      "└ @ MLJBase /home/andrew/.julia/packages/MLJBase/uKzAz/src/machines.jl:77\n"
     ]
    },
    {
     "name": "stdout",
     "output_type": "stream",
     "text": [
      "(d, train_metric, valid_metric) = (190, 0.34485948f0, 0.4838639f0)\n"
     ]
    },
    {
     "name": "stderr",
     "output_type": "stream",
     "text": [
      "┌ Warning: The scitype of `X`, in `machine(model, X, ...)` is incompatible with `model=\u001b[34mNeuralNetworkClassifier{CustomNN,…} @779\u001b[39m`:\n",
      "│ scitype(X) = Table{Union{AbstractArray{Continuous,1}, AbstractArray{Count,1}}}\n",
      "│ input_scitype(model) = Table{var\"#s44\"} where var\"#s44\"<:(AbstractArray{var\"#s13\",1} where var\"#s13\"<:Continuous).\n",
      "└ @ MLJBase /home/andrew/.julia/packages/MLJBase/uKzAz/src/machines.jl:77\n"
     ]
    },
    {
     "name": "stdout",
     "output_type": "stream",
     "text": [
      "(d, train_metric, valid_metric) = (200, 0.35828575f0, 0.4774353f0)\n"
     ]
    },
    {
     "name": "stderr",
     "output_type": "stream",
     "text": [
      "┌ Warning: The scitype of `X`, in `machine(model, X, ...)` is incompatible with `model=\u001b[34mNeuralNetworkClassifier{CustomNN,…} @779\u001b[39m`:\n",
      "│ scitype(X) = Table{Union{AbstractArray{Continuous,1}, AbstractArray{Count,1}}}\n",
      "│ input_scitype(model) = Table{var\"#s44\"} where var\"#s44\"<:(AbstractArray{var\"#s13\",1} where var\"#s13\"<:Continuous).\n",
      "└ @ MLJBase /home/andrew/.julia/packages/MLJBase/uKzAz/src/machines.jl:77\n"
     ]
    },
    {
     "name": "stdout",
     "output_type": "stream",
     "text": [
      "(d, train_metric, valid_metric) = (210, 0.3466128f0, 0.4717099f0)\n"
     ]
    },
    {
     "name": "stderr",
     "output_type": "stream",
     "text": [
      "┌ Warning: The scitype of `X`, in `machine(model, X, ...)` is incompatible with `model=\u001b[34mNeuralNetworkClassifier{CustomNN,…} @779\u001b[39m`:\n",
      "│ scitype(X) = Table{Union{AbstractArray{Continuous,1}, AbstractArray{Count,1}}}\n",
      "│ input_scitype(model) = Table{var\"#s44\"} where var\"#s44\"<:(AbstractArray{var\"#s13\",1} where var\"#s13\"<:Continuous).\n",
      "└ @ MLJBase /home/andrew/.julia/packages/MLJBase/uKzAz/src/machines.jl:77\n"
     ]
    },
    {
     "name": "stdout",
     "output_type": "stream",
     "text": [
      "(d, train_metric, valid_metric) = (220, 0.35588056f0, 0.487019f0)\n"
     ]
    },
    {
     "name": "stderr",
     "output_type": "stream",
     "text": [
      "┌ Warning: The scitype of `X`, in `machine(model, X, ...)` is incompatible with `model=\u001b[34mNeuralNetworkClassifier{CustomNN,…} @779\u001b[39m`:\n",
      "│ scitype(X) = Table{Union{AbstractArray{Continuous,1}, AbstractArray{Count,1}}}\n",
      "│ input_scitype(model) = Table{var\"#s44\"} where var\"#s44\"<:(AbstractArray{var\"#s13\",1} where var\"#s13\"<:Continuous).\n",
      "└ @ MLJBase /home/andrew/.julia/packages/MLJBase/uKzAz/src/machines.jl:77\n"
     ]
    },
    {
     "name": "stdout",
     "output_type": "stream",
     "text": [
      "(d, train_metric, valid_metric) = (230, 0.34964287f0, 0.5079548f0)\n"
     ]
    },
    {
     "name": "stderr",
     "output_type": "stream",
     "text": [
      "┌ Warning: The scitype of `X`, in `machine(model, X, ...)` is incompatible with `model=\u001b[34mNeuralNetworkClassifier{CustomNN,…} @779\u001b[39m`:\n",
      "│ scitype(X) = Table{Union{AbstractArray{Continuous,1}, AbstractArray{Count,1}}}\n",
      "│ input_scitype(model) = Table{var\"#s44\"} where var\"#s44\"<:(AbstractArray{var\"#s13\",1} where var\"#s13\"<:Continuous).\n",
      "└ @ MLJBase /home/andrew/.julia/packages/MLJBase/uKzAz/src/machines.jl:77\n"
     ]
    },
    {
     "name": "stdout",
     "output_type": "stream",
     "text": [
      "(d, train_metric, valid_metric) = (240, 0.3571147f0, 0.4759903f0)\n"
     ]
    },
    {
     "name": "stderr",
     "output_type": "stream",
     "text": [
      "┌ Warning: The scitype of `X`, in `machine(model, X, ...)` is incompatible with `model=\u001b[34mNeuralNetworkClassifier{CustomNN,…} @779\u001b[39m`:\n",
      "│ scitype(X) = Table{Union{AbstractArray{Continuous,1}, AbstractArray{Count,1}}}\n",
      "│ input_scitype(model) = Table{var\"#s44\"} where var\"#s44\"<:(AbstractArray{var\"#s13\",1} where var\"#s13\"<:Continuous).\n",
      "└ @ MLJBase /home/andrew/.julia/packages/MLJBase/uKzAz/src/machines.jl:77\n"
     ]
    },
    {
     "name": "stdout",
     "output_type": "stream",
     "text": [
      "(d, train_metric, valid_metric) = (250, 0.35072118f0, 0.48063397f0)\n"
     ]
    },
    {
     "name": "stderr",
     "output_type": "stream",
     "text": [
      "┌ Warning: The scitype of `X`, in `machine(model, X, ...)` is incompatible with `model=\u001b[34mNeuralNetworkClassifier{CustomNN,…} @779\u001b[39m`:\n",
      "│ scitype(X) = Table{Union{AbstractArray{Continuous,1}, AbstractArray{Count,1}}}\n",
      "│ input_scitype(model) = Table{var\"#s44\"} where var\"#s44\"<:(AbstractArray{var\"#s13\",1} where var\"#s13\"<:Continuous).\n",
      "└ @ MLJBase /home/andrew/.julia/packages/MLJBase/uKzAz/src/machines.jl:77\n"
     ]
    },
    {
     "name": "stdout",
     "output_type": "stream",
     "text": [
      "(d, train_metric, valid_metric) = (260, 0.3632617f0, 0.41656846f0)\n"
     ]
    },
    {
     "name": "stderr",
     "output_type": "stream",
     "text": [
      "┌ Warning: The scitype of `X`, in `machine(model, X, ...)` is incompatible with `model=\u001b[34mNeuralNetworkClassifier{CustomNN,…} @779\u001b[39m`:\n",
      "│ scitype(X) = Table{Union{AbstractArray{Continuous,1}, AbstractArray{Count,1}}}\n",
      "│ input_scitype(model) = Table{var\"#s44\"} where var\"#s44\"<:(AbstractArray{var\"#s13\",1} where var\"#s13\"<:Continuous).\n",
      "└ @ MLJBase /home/andrew/.julia/packages/MLJBase/uKzAz/src/machines.jl:77\n"
     ]
    },
    {
     "name": "stdout",
     "output_type": "stream",
     "text": [
      "(d, train_metric, valid_metric) = (270, 0.36140993f0, 0.4310151f0)\n"
     ]
    },
    {
     "name": "stderr",
     "output_type": "stream",
     "text": [
      "┌ Warning: The scitype of `X`, in `machine(model, X, ...)` is incompatible with `model=\u001b[34mNeuralNetworkClassifier{CustomNN,…} @779\u001b[39m`:\n",
      "│ scitype(X) = Table{Union{AbstractArray{Continuous,1}, AbstractArray{Count,1}}}\n",
      "│ input_scitype(model) = Table{var\"#s44\"} where var\"#s44\"<:(AbstractArray{var\"#s13\",1} where var\"#s13\"<:Continuous).\n",
      "└ @ MLJBase /home/andrew/.julia/packages/MLJBase/uKzAz/src/machines.jl:77\n"
     ]
    },
    {
     "name": "stdout",
     "output_type": "stream",
     "text": [
      "(d, train_metric, valid_metric) = (280, 0.33112153f0, 0.45159835f0)\n"
     ]
    },
    {
     "name": "stderr",
     "output_type": "stream",
     "text": [
      "┌ Warning: The scitype of `X`, in `machine(model, X, ...)` is incompatible with `model=\u001b[34mNeuralNetworkClassifier{CustomNN,…} @779\u001b[39m`:\n",
      "│ scitype(X) = Table{Union{AbstractArray{Continuous,1}, AbstractArray{Count,1}}}\n",
      "│ input_scitype(model) = Table{var\"#s44\"} where var\"#s44\"<:(AbstractArray{var\"#s13\",1} where var\"#s13\"<:Continuous).\n",
      "└ @ MLJBase /home/andrew/.julia/packages/MLJBase/uKzAz/src/machines.jl:77\n"
     ]
    },
    {
     "name": "stdout",
     "output_type": "stream",
     "text": [
      "(d, train_metric, valid_metric) = (290, 0.37188238f0, 0.4320263f0)\n"
     ]
    },
    {
     "name": "stderr",
     "output_type": "stream",
     "text": [
      "┌ Warning: The scitype of `X`, in `machine(model, X, ...)` is incompatible with `model=\u001b[34mNeuralNetworkClassifier{CustomNN,…} @779\u001b[39m`:\n",
      "│ scitype(X) = Table{Union{AbstractArray{Continuous,1}, AbstractArray{Count,1}}}\n",
      "│ input_scitype(model) = Table{var\"#s44\"} where var\"#s44\"<:(AbstractArray{var\"#s13\",1} where var\"#s13\"<:Continuous).\n",
      "└ @ MLJBase /home/andrew/.julia/packages/MLJBase/uKzAz/src/machines.jl:77\n"
     ]
    },
    {
     "name": "stdout",
     "output_type": "stream",
     "text": [
      "(d, train_metric, valid_metric) = (300, 0.34326956f0, 0.44655502f0)\n"
     ]
    },
    {
     "name": "stderr",
     "output_type": "stream",
     "text": [
      "┌ Warning: The scitype of `X`, in `machine(model, X, ...)` is incompatible with `model=\u001b[34mNeuralNetworkClassifier{CustomNN,…} @779\u001b[39m`:\n",
      "│ scitype(X) = Table{Union{AbstractArray{Continuous,1}, AbstractArray{Count,1}}}\n",
      "│ input_scitype(model) = Table{var\"#s44\"} where var\"#s44\"<:(AbstractArray{var\"#s13\",1} where var\"#s13\"<:Continuous).\n",
      "└ @ MLJBase /home/andrew/.julia/packages/MLJBase/uKzAz/src/machines.jl:77\n"
     ]
    },
    {
     "name": "stdout",
     "output_type": "stream",
     "text": [
      "(d, train_metric, valid_metric) = (310, 0.36810055f0, 0.41113964f0)\n"
     ]
    },
    {
     "name": "stderr",
     "output_type": "stream",
     "text": [
      "┌ Warning: The scitype of `X`, in `machine(model, X, ...)` is incompatible with `model=\u001b[34mNeuralNetworkClassifier{CustomNN,…} @779\u001b[39m`:\n",
      "│ scitype(X) = Table{Union{AbstractArray{Continuous,1}, AbstractArray{Count,1}}}\n",
      "│ input_scitype(model) = Table{var\"#s44\"} where var\"#s44\"<:(AbstractArray{var\"#s13\",1} where var\"#s13\"<:Continuous).\n",
      "└ @ MLJBase /home/andrew/.julia/packages/MLJBase/uKzAz/src/machines.jl:77\n"
     ]
    },
    {
     "name": "stdout",
     "output_type": "stream",
     "text": [
      "(d, train_metric, valid_metric) = (320, 0.34765047f0, 0.43670702f0)\n"
     ]
    },
    {
     "name": "stderr",
     "output_type": "stream",
     "text": [
      "┌ Warning: The scitype of `X`, in `machine(model, X, ...)` is incompatible with `model=\u001b[34mNeuralNetworkClassifier{CustomNN,…} @779\u001b[39m`:\n",
      "│ scitype(X) = Table{Union{AbstractArray{Continuous,1}, AbstractArray{Count,1}}}\n",
      "│ input_scitype(model) = Table{var\"#s44\"} where var\"#s44\"<:(AbstractArray{var\"#s13\",1} where var\"#s13\"<:Continuous).\n",
      "└ @ MLJBase /home/andrew/.julia/packages/MLJBase/uKzAz/src/machines.jl:77\n"
     ]
    },
    {
     "name": "stdout",
     "output_type": "stream",
     "text": [
      "(d, train_metric, valid_metric) = (330, 0.36174718f0, 0.4250276f0)\n"
     ]
    },
    {
     "name": "stderr",
     "output_type": "stream",
     "text": [
      "┌ Warning: The scitype of `X`, in `machine(model, X, ...)` is incompatible with `model=\u001b[34mNeuralNetworkClassifier{CustomNN,…} @779\u001b[39m`:\n",
      "│ scitype(X) = Table{Union{AbstractArray{Continuous,1}, AbstractArray{Count,1}}}\n",
      "│ input_scitype(model) = Table{var\"#s44\"} where var\"#s44\"<:(AbstractArray{var\"#s13\",1} where var\"#s13\"<:Continuous).\n",
      "└ @ MLJBase /home/andrew/.julia/packages/MLJBase/uKzAz/src/machines.jl:77\n"
     ]
    },
    {
     "name": "stdout",
     "output_type": "stream",
     "text": [
      "(d, train_metric, valid_metric) = (340, 0.34561476f0, 0.44075245f0)\n"
     ]
    },
    {
     "name": "stderr",
     "output_type": "stream",
     "text": [
      "┌ Warning: The scitype of `X`, in `machine(model, X, ...)` is incompatible with `model=\u001b[34mNeuralNetworkClassifier{CustomNN,…} @779\u001b[39m`:\n",
      "│ scitype(X) = Table{Union{AbstractArray{Continuous,1}, AbstractArray{Count,1}}}\n",
      "│ input_scitype(model) = Table{var\"#s44\"} where var\"#s44\"<:(AbstractArray{var\"#s13\",1} where var\"#s13\"<:Continuous).\n",
      "└ @ MLJBase /home/andrew/.julia/packages/MLJBase/uKzAz/src/machines.jl:77\n"
     ]
    },
    {
     "name": "stdout",
     "output_type": "stream",
     "text": [
      "(d, train_metric, valid_metric) = (350, 0.3589772f0, 0.41923496f0)\n"
     ]
    },
    {
     "name": "stderr",
     "output_type": "stream",
     "text": [
      "┌ Warning: The scitype of `X`, in `machine(model, X, ...)` is incompatible with `model=\u001b[34mNeuralNetworkClassifier{CustomNN,…} @779\u001b[39m`:\n",
      "│ scitype(X) = Table{Union{AbstractArray{Continuous,1}, AbstractArray{Count,1}}}\n",
      "│ input_scitype(model) = Table{var\"#s44\"} where var\"#s44\"<:(AbstractArray{var\"#s13\",1} where var\"#s13\"<:Continuous).\n",
      "└ @ MLJBase /home/andrew/.julia/packages/MLJBase/uKzAz/src/machines.jl:77\n"
     ]
    },
    {
     "name": "stdout",
     "output_type": "stream",
     "text": [
      "(d, train_metric, valid_metric) = (360, 0.330832f0, 0.49478784f0)\n"
     ]
    },
    {
     "name": "stderr",
     "output_type": "stream",
     "text": [
      "┌ Warning: The scitype of `X`, in `machine(model, X, ...)` is incompatible with `model=\u001b[34mNeuralNetworkClassifier{CustomNN,…} @779\u001b[39m`:\n",
      "│ scitype(X) = Table{Union{AbstractArray{Continuous,1}, AbstractArray{Count,1}}}\n",
      "│ input_scitype(model) = Table{var\"#s44\"} where var\"#s44\"<:(AbstractArray{var\"#s13\",1} where var\"#s13\"<:Continuous).\n",
      "└ @ MLJBase /home/andrew/.julia/packages/MLJBase/uKzAz/src/machines.jl:77\n"
     ]
    },
    {
     "name": "stdout",
     "output_type": "stream",
     "text": [
      "(d, train_metric, valid_metric) = (370, 0.35248545f0, 0.48646715f0)\n"
     ]
    },
    {
     "name": "stderr",
     "output_type": "stream",
     "text": [
      "┌ Warning: The scitype of `X`, in `machine(model, X, ...)` is incompatible with `model=\u001b[34mNeuralNetworkClassifier{CustomNN,…} @779\u001b[39m`:\n",
      "│ scitype(X) = Table{Union{AbstractArray{Continuous,1}, AbstractArray{Count,1}}}\n",
      "│ input_scitype(model) = Table{var\"#s44\"} where var\"#s44\"<:(AbstractArray{var\"#s13\",1} where var\"#s13\"<:Continuous).\n",
      "└ @ MLJBase /home/andrew/.julia/packages/MLJBase/uKzAz/src/machines.jl:77\n"
     ]
    },
    {
     "name": "stdout",
     "output_type": "stream",
     "text": [
      "(d, train_metric, valid_metric) = (380, 0.36063173f0, 0.44724366f0)\n"
     ]
    },
    {
     "name": "stderr",
     "output_type": "stream",
     "text": [
      "┌ Warning: The scitype of `X`, in `machine(model, X, ...)` is incompatible with `model=\u001b[34mNeuralNetworkClassifier{CustomNN,…} @779\u001b[39m`:\n",
      "│ scitype(X) = Table{Union{AbstractArray{Continuous,1}, AbstractArray{Count,1}}}\n",
      "│ input_scitype(model) = Table{var\"#s44\"} where var\"#s44\"<:(AbstractArray{var\"#s13\",1} where var\"#s13\"<:Continuous).\n",
      "└ @ MLJBase /home/andrew/.julia/packages/MLJBase/uKzAz/src/machines.jl:77\n"
     ]
    },
    {
     "name": "stdout",
     "output_type": "stream",
     "text": [
      "(d, train_metric, valid_metric) = (390, 0.36267388f0, 0.5219776f0)\n"
     ]
    },
    {
     "name": "stderr",
     "output_type": "stream",
     "text": [
      "┌ Warning: The scitype of `X`, in `machine(model, X, ...)` is incompatible with `model=\u001b[34mNeuralNetworkClassifier{CustomNN,…} @779\u001b[39m`:\n",
      "│ scitype(X) = Table{Union{AbstractArray{Continuous,1}, AbstractArray{Count,1}}}\n",
      "│ input_scitype(model) = Table{var\"#s44\"} where var\"#s44\"<:(AbstractArray{var\"#s13\",1} where var\"#s13\"<:Continuous).\n",
      "└ @ MLJBase /home/andrew/.julia/packages/MLJBase/uKzAz/src/machines.jl:77\n"
     ]
    },
    {
     "name": "stdout",
     "output_type": "stream",
     "text": [
      "(d, train_metric, valid_metric) = (400, 0.35076427f0, 0.45734292f0)\n"
     ]
    },
    {
     "name": "stderr",
     "output_type": "stream",
     "text": [
      "┌ Warning: The scitype of `X`, in `machine(model, X, ...)` is incompatible with `model=\u001b[34mNeuralNetworkClassifier{CustomNN,…} @779\u001b[39m`:\n",
      "│ scitype(X) = Table{Union{AbstractArray{Continuous,1}, AbstractArray{Count,1}}}\n",
      "│ input_scitype(model) = Table{var\"#s44\"} where var\"#s44\"<:(AbstractArray{var\"#s13\",1} where var\"#s13\"<:Continuous).\n",
      "└ @ MLJBase /home/andrew/.julia/packages/MLJBase/uKzAz/src/machines.jl:77\n"
     ]
    },
    {
     "name": "stdout",
     "output_type": "stream",
     "text": [
      "(d, train_metric, valid_metric) = (410, 0.3376525f0, 0.47788224f0)\n"
     ]
    },
    {
     "name": "stderr",
     "output_type": "stream",
     "text": [
      "┌ Warning: The scitype of `X`, in `machine(model, X, ...)` is incompatible with `model=\u001b[34mNeuralNetworkClassifier{CustomNN,…} @779\u001b[39m`:\n",
      "│ scitype(X) = Table{Union{AbstractArray{Continuous,1}, AbstractArray{Count,1}}}\n",
      "│ input_scitype(model) = Table{var\"#s44\"} where var\"#s44\"<:(AbstractArray{var\"#s13\",1} where var\"#s13\"<:Continuous).\n",
      "└ @ MLJBase /home/andrew/.julia/packages/MLJBase/uKzAz/src/machines.jl:77\n"
     ]
    },
    {
     "name": "stdout",
     "output_type": "stream",
     "text": [
      "(d, train_metric, valid_metric) = (420, 0.3346903f0, 0.48616797f0)\n"
     ]
    },
    {
     "name": "stderr",
     "output_type": "stream",
     "text": [
      "┌ Warning: The scitype of `X`, in `machine(model, X, ...)` is incompatible with `model=\u001b[34mNeuralNetworkClassifier{CustomNN,…} @779\u001b[39m`:\n",
      "│ scitype(X) = Table{Union{AbstractArray{Continuous,1}, AbstractArray{Count,1}}}\n",
      "│ input_scitype(model) = Table{var\"#s44\"} where var\"#s44\"<:(AbstractArray{var\"#s13\",1} where var\"#s13\"<:Continuous).\n",
      "└ @ MLJBase /home/andrew/.julia/packages/MLJBase/uKzAz/src/machines.jl:77\n"
     ]
    },
    {
     "name": "stdout",
     "output_type": "stream",
     "text": [
      "(d, train_metric, valid_metric) = (430, 0.35530183f0, 0.43064567f0)\n"
     ]
    },
    {
     "name": "stderr",
     "output_type": "stream",
     "text": [
      "┌ Warning: The scitype of `X`, in `machine(model, X, ...)` is incompatible with `model=\u001b[34mNeuralNetworkClassifier{CustomNN,…} @779\u001b[39m`:\n",
      "│ scitype(X) = Table{Union{AbstractArray{Continuous,1}, AbstractArray{Count,1}}}\n",
      "│ input_scitype(model) = Table{var\"#s44\"} where var\"#s44\"<:(AbstractArray{var\"#s13\",1} where var\"#s13\"<:Continuous).\n",
      "└ @ MLJBase /home/andrew/.julia/packages/MLJBase/uKzAz/src/machines.jl:77\n"
     ]
    },
    {
     "name": "stdout",
     "output_type": "stream",
     "text": [
      "(d, train_metric, valid_metric) = (440, 0.3291406f0, 0.5013344f0)\n"
     ]
    },
    {
     "name": "stderr",
     "output_type": "stream",
     "text": [
      "┌ Warning: The scitype of `X`, in `machine(model, X, ...)` is incompatible with `model=\u001b[34mNeuralNetworkClassifier{CustomNN,…} @779\u001b[39m`:\n",
      "│ scitype(X) = Table{Union{AbstractArray{Continuous,1}, AbstractArray{Count,1}}}\n",
      "│ input_scitype(model) = Table{var\"#s44\"} where var\"#s44\"<:(AbstractArray{var\"#s13\",1} where var\"#s13\"<:Continuous).\n",
      "└ @ MLJBase /home/andrew/.julia/packages/MLJBase/uKzAz/src/machines.jl:77\n"
     ]
    },
    {
     "name": "stdout",
     "output_type": "stream",
     "text": [
      "(d, train_metric, valid_metric) = (450, 0.33548224f0, 0.4546352f0)\n"
     ]
    },
    {
     "name": "stderr",
     "output_type": "stream",
     "text": [
      "┌ Warning: The scitype of `X`, in `machine(model, X, ...)` is incompatible with `model=\u001b[34mNeuralNetworkClassifier{CustomNN,…} @779\u001b[39m`:\n",
      "│ scitype(X) = Table{Union{AbstractArray{Continuous,1}, AbstractArray{Count,1}}}\n",
      "│ input_scitype(model) = Table{var\"#s44\"} where var\"#s44\"<:(AbstractArray{var\"#s13\",1} where var\"#s13\"<:Continuous).\n",
      "└ @ MLJBase /home/andrew/.julia/packages/MLJBase/uKzAz/src/machines.jl:77\n"
     ]
    },
    {
     "name": "stdout",
     "output_type": "stream",
     "text": [
      "(d, train_metric, valid_metric) = (460, 0.33563605f0, 0.47492358f0)\n"
     ]
    },
    {
     "name": "stderr",
     "output_type": "stream",
     "text": [
      "┌ Warning: The scitype of `X`, in `machine(model, X, ...)` is incompatible with `model=\u001b[34mNeuralNetworkClassifier{CustomNN,…} @779\u001b[39m`:\n",
      "│ scitype(X) = Table{Union{AbstractArray{Continuous,1}, AbstractArray{Count,1}}}\n",
      "│ input_scitype(model) = Table{var\"#s44\"} where var\"#s44\"<:(AbstractArray{var\"#s13\",1} where var\"#s13\"<:Continuous).\n",
      "└ @ MLJBase /home/andrew/.julia/packages/MLJBase/uKzAz/src/machines.jl:77\n"
     ]
    },
    {
     "name": "stdout",
     "output_type": "stream",
     "text": [
      "(d, train_metric, valid_metric) = (470, 0.3408973f0, 0.47408548f0)\n"
     ]
    },
    {
     "name": "stderr",
     "output_type": "stream",
     "text": [
      "┌ Warning: The scitype of `X`, in `machine(model, X, ...)` is incompatible with `model=\u001b[34mNeuralNetworkClassifier{CustomNN,…} @779\u001b[39m`:\n",
      "│ scitype(X) = Table{Union{AbstractArray{Continuous,1}, AbstractArray{Count,1}}}\n",
      "│ input_scitype(model) = Table{var\"#s44\"} where var\"#s44\"<:(AbstractArray{var\"#s13\",1} where var\"#s13\"<:Continuous).\n",
      "└ @ MLJBase /home/andrew/.julia/packages/MLJBase/uKzAz/src/machines.jl:77\n"
     ]
    },
    {
     "name": "stdout",
     "output_type": "stream",
     "text": [
      "(d, train_metric, valid_metric) = (480, 0.33409554f0, 0.44677013f0)\n"
     ]
    },
    {
     "name": "stderr",
     "output_type": "stream",
     "text": [
      "┌ Warning: The scitype of `X`, in `machine(model, X, ...)` is incompatible with `model=\u001b[34mNeuralNetworkClassifier{CustomNN,…} @779\u001b[39m`:\n",
      "│ scitype(X) = Table{Union{AbstractArray{Continuous,1}, AbstractArray{Count,1}}}\n",
      "│ input_scitype(model) = Table{var\"#s44\"} where var\"#s44\"<:(AbstractArray{var\"#s13\",1} where var\"#s13\"<:Continuous).\n",
      "└ @ MLJBase /home/andrew/.julia/packages/MLJBase/uKzAz/src/machines.jl:77\n"
     ]
    },
    {
     "name": "stdout",
     "output_type": "stream",
     "text": [
      "(d, train_metric, valid_metric) = (490, 0.35862944f0, 0.4473726f0)\n"
     ]
    },
    {
     "name": "stderr",
     "output_type": "stream",
     "text": [
      "┌ Warning: The scitype of `X`, in `machine(model, X, ...)` is incompatible with `model=\u001b[34mNeuralNetworkClassifier{CustomNN,…} @779\u001b[39m`:\n",
      "│ scitype(X) = Table{Union{AbstractArray{Continuous,1}, AbstractArray{Count,1}}}\n",
      "│ input_scitype(model) = Table{var\"#s44\"} where var\"#s44\"<:(AbstractArray{var\"#s13\",1} where var\"#s13\"<:Continuous).\n",
      "└ @ MLJBase /home/andrew/.julia/packages/MLJBase/uKzAz/src/machines.jl:77\n"
     ]
    },
    {
     "name": "stdout",
     "output_type": "stream",
     "text": [
      "(d, train_metric, valid_metric) = (500, 0.33811864f0, 0.45810333f0)\n"
     ]
    },
    {
     "name": "stderr",
     "output_type": "stream",
     "text": [
      "┌ Warning: The scitype of `X`, in `machine(model, X, ...)` is incompatible with `model=\u001b[34mNeuralNetworkClassifier{CustomNN,…} @779\u001b[39m`:\n",
      "│ scitype(X) = Table{Union{AbstractArray{Continuous,1}, AbstractArray{Count,1}}}\n",
      "│ input_scitype(model) = Table{var\"#s44\"} where var\"#s44\"<:(AbstractArray{var\"#s13\",1} where var\"#s13\"<:Continuous).\n",
      "└ @ MLJBase /home/andrew/.julia/packages/MLJBase/uKzAz/src/machines.jl:77\n"
     ]
    },
    {
     "name": "stdout",
     "output_type": "stream",
     "text": [
      "(d, train_metric, valid_metric) = (510, 0.34020314f0, 0.46077305f0)\n"
     ]
    },
    {
     "name": "stderr",
     "output_type": "stream",
     "text": [
      "┌ Warning: The scitype of `X`, in `machine(model, X, ...)` is incompatible with `model=\u001b[34mNeuralNetworkClassifier{CustomNN,…} @779\u001b[39m`:\n",
      "│ scitype(X) = Table{Union{AbstractArray{Continuous,1}, AbstractArray{Count,1}}}\n",
      "│ input_scitype(model) = Table{var\"#s44\"} where var\"#s44\"<:(AbstractArray{var\"#s13\",1} where var\"#s13\"<:Continuous).\n",
      "└ @ MLJBase /home/andrew/.julia/packages/MLJBase/uKzAz/src/machines.jl:77\n"
     ]
    },
    {
     "name": "stdout",
     "output_type": "stream",
     "text": [
      "(d, train_metric, valid_metric) = (520, 0.34210804f0, 0.4428296f0)\n"
     ]
    },
    {
     "name": "stderr",
     "output_type": "stream",
     "text": [
      "┌ Warning: The scitype of `X`, in `machine(model, X, ...)` is incompatible with `model=\u001b[34mNeuralNetworkClassifier{CustomNN,…} @779\u001b[39m`:\n",
      "│ scitype(X) = Table{Union{AbstractArray{Continuous,1}, AbstractArray{Count,1}}}\n",
      "│ input_scitype(model) = Table{var\"#s44\"} where var\"#s44\"<:(AbstractArray{var\"#s13\",1} where var\"#s13\"<:Continuous).\n",
      "└ @ MLJBase /home/andrew/.julia/packages/MLJBase/uKzAz/src/machines.jl:77\n"
     ]
    },
    {
     "name": "stdout",
     "output_type": "stream",
     "text": [
      "(d, train_metric, valid_metric) = (530, 0.34084594f0, 0.4505219f0)\n"
     ]
    },
    {
     "name": "stderr",
     "output_type": "stream",
     "text": [
      "┌ Warning: The scitype of `X`, in `machine(model, X, ...)` is incompatible with `model=\u001b[34mNeuralNetworkClassifier{CustomNN,…} @779\u001b[39m`:\n",
      "│ scitype(X) = Table{Union{AbstractArray{Continuous,1}, AbstractArray{Count,1}}}\n",
      "│ input_scitype(model) = Table{var\"#s44\"} where var\"#s44\"<:(AbstractArray{var\"#s13\",1} where var\"#s13\"<:Continuous).\n",
      "└ @ MLJBase /home/andrew/.julia/packages/MLJBase/uKzAz/src/machines.jl:77\n"
     ]
    },
    {
     "name": "stdout",
     "output_type": "stream",
     "text": [
      "(d, train_metric, valid_metric) = (540, 0.34135148f0, 0.47168398f0)\n"
     ]
    },
    {
     "name": "stderr",
     "output_type": "stream",
     "text": [
      "┌ Warning: The scitype of `X`, in `machine(model, X, ...)` is incompatible with `model=\u001b[34mNeuralNetworkClassifier{CustomNN,…} @779\u001b[39m`:\n",
      "│ scitype(X) = Table{Union{AbstractArray{Continuous,1}, AbstractArray{Count,1}}}\n",
      "│ input_scitype(model) = Table{var\"#s44\"} where var\"#s44\"<:(AbstractArray{var\"#s13\",1} where var\"#s13\"<:Continuous).\n",
      "└ @ MLJBase /home/andrew/.julia/packages/MLJBase/uKzAz/src/machines.jl:77\n"
     ]
    },
    {
     "name": "stdout",
     "output_type": "stream",
     "text": [
      "(d, train_metric, valid_metric) = (550, 0.3354369f0, 0.45738417f0)\n"
     ]
    },
    {
     "name": "stderr",
     "output_type": "stream",
     "text": [
      "┌ Warning: The scitype of `X`, in `machine(model, X, ...)` is incompatible with `model=\u001b[34mNeuralNetworkClassifier{CustomNN,…} @779\u001b[39m`:\n",
      "│ scitype(X) = Table{Union{AbstractArray{Continuous,1}, AbstractArray{Count,1}}}\n",
      "│ input_scitype(model) = Table{var\"#s44\"} where var\"#s44\"<:(AbstractArray{var\"#s13\",1} where var\"#s13\"<:Continuous).\n",
      "└ @ MLJBase /home/andrew/.julia/packages/MLJBase/uKzAz/src/machines.jl:77\n"
     ]
    },
    {
     "name": "stdout",
     "output_type": "stream",
     "text": [
      "(d, train_metric, valid_metric) = (560, 0.3396188f0, 0.46004802f0)\n"
     ]
    },
    {
     "name": "stderr",
     "output_type": "stream",
     "text": [
      "┌ Warning: The scitype of `X`, in `machine(model, X, ...)` is incompatible with `model=\u001b[34mNeuralNetworkClassifier{CustomNN,…} @779\u001b[39m`:\n",
      "│ scitype(X) = Table{Union{AbstractArray{Continuous,1}, AbstractArray{Count,1}}}\n",
      "│ input_scitype(model) = Table{var\"#s44\"} where var\"#s44\"<:(AbstractArray{var\"#s13\",1} where var\"#s13\"<:Continuous).\n",
      "└ @ MLJBase /home/andrew/.julia/packages/MLJBase/uKzAz/src/machines.jl:77\n"
     ]
    },
    {
     "name": "stdout",
     "output_type": "stream",
     "text": [
      "(d, train_metric, valid_metric) = (570, 0.33915785f0, 0.45436668f0)\n"
     ]
    },
    {
     "name": "stderr",
     "output_type": "stream",
     "text": [
      "┌ Warning: The scitype of `X`, in `machine(model, X, ...)` is incompatible with `model=\u001b[34mNeuralNetworkClassifier{CustomNN,…} @779\u001b[39m`:\n",
      "│ scitype(X) = Table{Union{AbstractArray{Continuous,1}, AbstractArray{Count,1}}}\n",
      "│ input_scitype(model) = Table{var\"#s44\"} where var\"#s44\"<:(AbstractArray{var\"#s13\",1} where var\"#s13\"<:Continuous).\n",
      "└ @ MLJBase /home/andrew/.julia/packages/MLJBase/uKzAz/src/machines.jl:77\n"
     ]
    },
    {
     "name": "stdout",
     "output_type": "stream",
     "text": [
      "(d, train_metric, valid_metric) = (580, 0.34037465f0, 0.45579213f0)\n"
     ]
    },
    {
     "name": "stderr",
     "output_type": "stream",
     "text": [
      "┌ Warning: The scitype of `X`, in `machine(model, X, ...)` is incompatible with `model=\u001b[34mNeuralNetworkClassifier{CustomNN,…} @779\u001b[39m`:\n",
      "│ scitype(X) = Table{Union{AbstractArray{Continuous,1}, AbstractArray{Count,1}}}\n",
      "│ input_scitype(model) = Table{var\"#s44\"} where var\"#s44\"<:(AbstractArray{var\"#s13\",1} where var\"#s13\"<:Continuous).\n",
      "└ @ MLJBase /home/andrew/.julia/packages/MLJBase/uKzAz/src/machines.jl:77\n"
     ]
    },
    {
     "name": "stdout",
     "output_type": "stream",
     "text": [
      "(d, train_metric, valid_metric) = (590, 0.33490008f0, 0.4600797f0)\n"
     ]
    },
    {
     "data": {
      "text/plain": [
       "(10:10:590, Any[0.31339258f0, 0.31336236f0, 0.31331408f0, 0.3142717f0, 0.31401017f0, 0.33051202f0, 0.34195313f0, 0.35098657f0, 0.34661934f0, 0.35334337f0  …  0.33811864f0, 0.34020314f0, 0.34210804f0, 0.34084594f0, 0.34135148f0, 0.3354369f0, 0.3396188f0, 0.33915785f0, 0.34037465f0, 0.33490008f0], Any[0.5995752f0, 0.57163495f0, 0.5532242f0, 0.5336073f0, 0.5616377f0, 0.5327568f0, 0.5514258f0, 0.5303565f0, 0.5393594f0, 0.507861f0  …  0.45810333f0, 0.46077305f0, 0.4428296f0, 0.4505219f0, 0.47168398f0, 0.45738417f0, 0.46004802f0, 0.45436668f0, 0.45579213f0, 0.4600797f0])"
      ]
     },
     "execution_count": 90,
     "metadata": {},
     "output_type": "execute_result"
    }
   ],
   "source": [
    "data_schedule, training_losses, valid_losses = learn_curve(lc_model, X[train,:], y[train], mce, step=10)"
   ]
  },
  {
   "cell_type": "code",
   "execution_count": 91,
   "metadata": {
    "scrolled": false
   },
   "outputs": [
    {
     "data": {
      "image/svg+xml": [
       "<?xml version=\"1.0\" encoding=\"utf-8\"?>\n",
       "<svg xmlns=\"http://www.w3.org/2000/svg\" xmlns:xlink=\"http://www.w3.org/1999/xlink\" width=\"600\" height=\"400\" viewBox=\"0 0 2400 1600\">\n",
       "<defs>\n",
       "  <clipPath id=\"clip880\">\n",
       "    <rect x=\"0\" y=\"0\" width=\"2400\" height=\"1600\"/>\n",
       "  </clipPath>\n",
       "</defs>\n",
       "<path clip-path=\"url(#clip880)\" d=\"\n",
       "M0 1600 L2400 1600 L2400 0 L0 0  Z\n",
       "  \" fill=\"#ffffff\" fill-rule=\"evenodd\" fill-opacity=\"1\"/>\n",
       "<defs>\n",
       "  <clipPath id=\"clip881\">\n",
       "    <rect x=\"480\" y=\"0\" width=\"1681\" height=\"1600\"/>\n",
       "  </clipPath>\n",
       "</defs>\n",
       "<path clip-path=\"url(#clip880)\" d=\"\n",
       "M238.616 1423.18 L2352.76 1423.18 L2352.76 47.2441 L238.616 47.2441  Z\n",
       "  \" fill=\"#ffffff\" fill-rule=\"evenodd\" fill-opacity=\"1\"/>\n",
       "<defs>\n",
       "  <clipPath id=\"clip882\">\n",
       "    <rect x=\"238\" y=\"47\" width=\"2115\" height=\"1377\"/>\n",
       "  </clipPath>\n",
       "</defs>\n",
       "<polyline clip-path=\"url(#clip882)\" style=\"stroke:#000000; stroke-width:2; stroke-opacity:0.1; fill:none\" points=\"\n",
       "  264.063,1423.18 264.063,47.2441 \n",
       "  \"/>\n",
       "<polyline clip-path=\"url(#clip882)\" style=\"stroke:#000000; stroke-width:2; stroke-opacity:0.1; fill:none\" points=\"\n",
       "  607.937,1423.18 607.937,47.2441 \n",
       "  \"/>\n",
       "<polyline clip-path=\"url(#clip882)\" style=\"stroke:#000000; stroke-width:2; stroke-opacity:0.1; fill:none\" points=\"\n",
       "  951.812,1423.18 951.812,47.2441 \n",
       "  \"/>\n",
       "<polyline clip-path=\"url(#clip882)\" style=\"stroke:#000000; stroke-width:2; stroke-opacity:0.1; fill:none\" points=\"\n",
       "  1295.69,1423.18 1295.69,47.2441 \n",
       "  \"/>\n",
       "<polyline clip-path=\"url(#clip882)\" style=\"stroke:#000000; stroke-width:2; stroke-opacity:0.1; fill:none\" points=\"\n",
       "  1639.56,1423.18 1639.56,47.2441 \n",
       "  \"/>\n",
       "<polyline clip-path=\"url(#clip882)\" style=\"stroke:#000000; stroke-width:2; stroke-opacity:0.1; fill:none\" points=\"\n",
       "  1983.43,1423.18 1983.43,47.2441 \n",
       "  \"/>\n",
       "<polyline clip-path=\"url(#clip882)\" style=\"stroke:#000000; stroke-width:2; stroke-opacity:0.1; fill:none\" points=\"\n",
       "  2327.31,1423.18 2327.31,47.2441 \n",
       "  \"/>\n",
       "<polyline clip-path=\"url(#clip882)\" style=\"stroke:#000000; stroke-width:2; stroke-opacity:0.1; fill:none\" points=\"\n",
       "  238.616,1217.89 2352.76,1217.89 \n",
       "  \"/>\n",
       "<polyline clip-path=\"url(#clip882)\" style=\"stroke:#000000; stroke-width:2; stroke-opacity:0.1; fill:none\" points=\"\n",
       "  238.616,991.161 2352.76,991.161 \n",
       "  \"/>\n",
       "<polyline clip-path=\"url(#clip882)\" style=\"stroke:#000000; stroke-width:2; stroke-opacity:0.1; fill:none\" points=\"\n",
       "  238.616,764.435 2352.76,764.435 \n",
       "  \"/>\n",
       "<polyline clip-path=\"url(#clip882)\" style=\"stroke:#000000; stroke-width:2; stroke-opacity:0.1; fill:none\" points=\"\n",
       "  238.616,537.71 2352.76,537.71 \n",
       "  \"/>\n",
       "<polyline clip-path=\"url(#clip882)\" style=\"stroke:#000000; stroke-width:2; stroke-opacity:0.1; fill:none\" points=\"\n",
       "  238.616,310.985 2352.76,310.985 \n",
       "  \"/>\n",
       "<polyline clip-path=\"url(#clip882)\" style=\"stroke:#000000; stroke-width:2; stroke-opacity:0.1; fill:none\" points=\"\n",
       "  238.616,84.2595 2352.76,84.2595 \n",
       "  \"/>\n",
       "<polyline clip-path=\"url(#clip880)\" style=\"stroke:#000000; stroke-width:4; stroke-opacity:1; fill:none\" points=\"\n",
       "  238.616,1423.18 2352.76,1423.18 \n",
       "  \"/>\n",
       "<polyline clip-path=\"url(#clip880)\" style=\"stroke:#000000; stroke-width:4; stroke-opacity:1; fill:none\" points=\"\n",
       "  238.616,1423.18 238.616,47.2441 \n",
       "  \"/>\n",
       "<polyline clip-path=\"url(#clip880)\" style=\"stroke:#000000; stroke-width:4; stroke-opacity:1; fill:none\" points=\"\n",
       "  264.063,1423.18 264.063,1406.67 \n",
       "  \"/>\n",
       "<polyline clip-path=\"url(#clip880)\" style=\"stroke:#000000; stroke-width:4; stroke-opacity:1; fill:none\" points=\"\n",
       "  607.937,1423.18 607.937,1406.67 \n",
       "  \"/>\n",
       "<polyline clip-path=\"url(#clip880)\" style=\"stroke:#000000; stroke-width:4; stroke-opacity:1; fill:none\" points=\"\n",
       "  951.812,1423.18 951.812,1406.67 \n",
       "  \"/>\n",
       "<polyline clip-path=\"url(#clip880)\" style=\"stroke:#000000; stroke-width:4; stroke-opacity:1; fill:none\" points=\"\n",
       "  1295.69,1423.18 1295.69,1406.67 \n",
       "  \"/>\n",
       "<polyline clip-path=\"url(#clip880)\" style=\"stroke:#000000; stroke-width:4; stroke-opacity:1; fill:none\" points=\"\n",
       "  1639.56,1423.18 1639.56,1406.67 \n",
       "  \"/>\n",
       "<polyline clip-path=\"url(#clip880)\" style=\"stroke:#000000; stroke-width:4; stroke-opacity:1; fill:none\" points=\"\n",
       "  1983.43,1423.18 1983.43,1406.67 \n",
       "  \"/>\n",
       "<polyline clip-path=\"url(#clip880)\" style=\"stroke:#000000; stroke-width:4; stroke-opacity:1; fill:none\" points=\"\n",
       "  2327.31,1423.18 2327.31,1406.67 \n",
       "  \"/>\n",
       "<polyline clip-path=\"url(#clip880)\" style=\"stroke:#000000; stroke-width:4; stroke-opacity:1; fill:none\" points=\"\n",
       "  238.616,1217.89 263.986,1217.89 \n",
       "  \"/>\n",
       "<polyline clip-path=\"url(#clip880)\" style=\"stroke:#000000; stroke-width:4; stroke-opacity:1; fill:none\" points=\"\n",
       "  238.616,991.161 263.986,991.161 \n",
       "  \"/>\n",
       "<polyline clip-path=\"url(#clip880)\" style=\"stroke:#000000; stroke-width:4; stroke-opacity:1; fill:none\" points=\"\n",
       "  238.616,764.435 263.986,764.435 \n",
       "  \"/>\n",
       "<polyline clip-path=\"url(#clip880)\" style=\"stroke:#000000; stroke-width:4; stroke-opacity:1; fill:none\" points=\"\n",
       "  238.616,537.71 263.986,537.71 \n",
       "  \"/>\n",
       "<polyline clip-path=\"url(#clip880)\" style=\"stroke:#000000; stroke-width:4; stroke-opacity:1; fill:none\" points=\"\n",
       "  238.616,310.985 263.986,310.985 \n",
       "  \"/>\n",
       "<polyline clip-path=\"url(#clip880)\" style=\"stroke:#000000; stroke-width:4; stroke-opacity:1; fill:none\" points=\"\n",
       "  238.616,84.2595 263.986,84.2595 \n",
       "  \"/>\n",
       "<path clip-path=\"url(#clip880)\" d=\"M 0 0 M264.063 1445.17 Q260.452 1445.17 258.623 1448.74 Q256.818 1452.28 256.818 1459.41 Q256.818 1466.51 258.623 1470.08 Q260.452 1473.62 264.063 1473.62 Q267.697 1473.62 269.503 1470.08 Q271.331 1466.51 271.331 1459.41 Q271.331 1452.28 269.503 1448.74 Q267.697 1445.17 264.063 1445.17 M264.063 1441.47 Q269.873 1441.47 272.929 1446.07 Q276.007 1450.66 276.007 1459.41 Q276.007 1468.13 272.929 1472.74 Q269.873 1477.32 264.063 1477.32 Q258.253 1477.32 255.174 1472.74 Q252.118 1468.13 252.118 1459.41 Q252.118 1450.66 255.174 1446.07 Q258.253 1441.47 264.063 1441.47 Z\" fill=\"#000000\" fill-rule=\"evenodd\" fill-opacity=\"1\" /><path clip-path=\"url(#clip880)\" d=\"M 0 0 M571.306 1472.72 L578.944 1472.72 L578.944 1446.35 L570.634 1448.02 L570.634 1443.76 L578.898 1442.09 L583.574 1442.09 L583.574 1472.72 L591.213 1472.72 L591.213 1476.65 L571.306 1476.65 L571.306 1472.72 Z\" fill=\"#000000\" fill-rule=\"evenodd\" fill-opacity=\"1\" /><path clip-path=\"url(#clip880)\" d=\"M 0 0 M606.282 1445.17 Q602.671 1445.17 600.842 1448.74 Q599.037 1452.28 599.037 1459.41 Q599.037 1466.51 600.842 1470.08 Q602.671 1473.62 606.282 1473.62 Q609.916 1473.62 611.722 1470.08 Q613.551 1466.51 613.551 1459.41 Q613.551 1452.28 611.722 1448.74 Q609.916 1445.17 606.282 1445.17 M606.282 1441.47 Q612.092 1441.47 615.148 1446.07 Q618.227 1450.66 618.227 1459.41 Q618.227 1468.13 615.148 1472.74 Q612.092 1477.32 606.282 1477.32 Q600.472 1477.32 597.393 1472.74 Q594.338 1468.13 594.338 1459.41 Q594.338 1450.66 597.393 1446.07 Q600.472 1441.47 606.282 1441.47 Z\" fill=\"#000000\" fill-rule=\"evenodd\" fill-opacity=\"1\" /><path clip-path=\"url(#clip880)\" d=\"M 0 0 M633.296 1445.17 Q629.685 1445.17 627.856 1448.74 Q626.051 1452.28 626.051 1459.41 Q626.051 1466.51 627.856 1470.08 Q629.685 1473.62 633.296 1473.62 Q636.93 1473.62 638.736 1470.08 Q640.564 1466.51 640.564 1459.41 Q640.564 1452.28 638.736 1448.74 Q636.93 1445.17 633.296 1445.17 M633.296 1441.47 Q639.106 1441.47 642.162 1446.07 Q645.24 1450.66 645.24 1459.41 Q645.24 1468.13 642.162 1472.74 Q639.106 1477.32 633.296 1477.32 Q627.486 1477.32 624.407 1472.74 Q621.352 1468.13 621.352 1459.41 Q621.352 1450.66 624.407 1446.07 Q627.486 1441.47 633.296 1441.47 Z\" fill=\"#000000\" fill-rule=\"evenodd\" fill-opacity=\"1\" /><path clip-path=\"url(#clip880)\" d=\"M 0 0 M919.451 1472.72 L935.77 1472.72 L935.77 1476.65 L913.826 1476.65 L913.826 1472.72 Q916.488 1469.96 921.071 1465.33 Q925.678 1460.68 926.858 1459.34 Q929.103 1456.81 929.983 1455.08 Q930.886 1453.32 930.886 1451.63 Q930.886 1448.87 928.941 1447.14 Q927.02 1445.4 923.918 1445.4 Q921.719 1445.4 919.266 1446.17 Q916.835 1446.93 914.057 1448.48 L914.057 1443.76 Q916.881 1442.62 919.335 1442.05 Q921.789 1441.47 923.826 1441.47 Q929.196 1441.47 932.39 1444.15 Q935.585 1446.84 935.585 1451.33 Q935.585 1453.46 934.775 1455.38 Q933.988 1457.28 931.881 1459.87 Q931.302 1460.54 928.201 1463.76 Q925.099 1466.95 919.451 1472.72 Z\" fill=\"#000000\" fill-rule=\"evenodd\" fill-opacity=\"1\" /><path clip-path=\"url(#clip880)\" d=\"M 0 0 M950.839 1445.17 Q947.228 1445.17 945.4 1448.74 Q943.594 1452.28 943.594 1459.41 Q943.594 1466.51 945.4 1470.08 Q947.228 1473.62 950.839 1473.62 Q954.474 1473.62 956.279 1470.08 Q958.108 1466.51 958.108 1459.41 Q958.108 1452.28 956.279 1448.74 Q954.474 1445.17 950.839 1445.17 M950.839 1441.47 Q956.65 1441.47 959.705 1446.07 Q962.784 1450.66 962.784 1459.41 Q962.784 1468.13 959.705 1472.74 Q956.65 1477.32 950.839 1477.32 Q945.029 1477.32 941.951 1472.74 Q938.895 1468.13 938.895 1459.41 Q938.895 1450.66 941.951 1446.07 Q945.029 1441.47 950.839 1441.47 Z\" fill=\"#000000\" fill-rule=\"evenodd\" fill-opacity=\"1\" /><path clip-path=\"url(#clip880)\" d=\"M 0 0 M977.853 1445.17 Q974.242 1445.17 972.413 1448.74 Q970.608 1452.28 970.608 1459.41 Q970.608 1466.51 972.413 1470.08 Q974.242 1473.62 977.853 1473.62 Q981.487 1473.62 983.293 1470.08 Q985.122 1466.51 985.122 1459.41 Q985.122 1452.28 983.293 1448.74 Q981.487 1445.17 977.853 1445.17 M977.853 1441.47 Q983.663 1441.47 986.719 1446.07 Q989.798 1450.66 989.798 1459.41 Q989.798 1468.13 986.719 1472.74 Q983.663 1477.32 977.853 1477.32 Q972.043 1477.32 968.964 1472.74 Q965.909 1468.13 965.909 1459.41 Q965.909 1450.66 968.964 1446.07 Q972.043 1441.47 977.853 1441.47 Z\" fill=\"#000000\" fill-rule=\"evenodd\" fill-opacity=\"1\" /><path clip-path=\"url(#clip880)\" d=\"M 0 0 M1272.92 1458.02 Q1276.28 1458.74 1278.15 1461 Q1280.05 1463.27 1280.05 1466.61 Q1280.05 1471.72 1276.53 1474.52 Q1273.01 1477.32 1266.53 1477.32 Q1264.36 1477.32 1262.04 1476.88 Q1259.75 1476.47 1257.3 1475.61 L1257.3 1471.1 Q1259.24 1472.23 1261.55 1472.81 Q1263.87 1473.39 1266.39 1473.39 Q1270.79 1473.39 1273.08 1471.65 Q1275.4 1469.92 1275.4 1466.61 Q1275.4 1463.55 1273.24 1461.84 Q1271.11 1460.1 1267.29 1460.1 L1263.27 1460.1 L1263.27 1456.26 L1267.48 1456.26 Q1270.93 1456.26 1272.76 1454.89 Q1274.59 1453.5 1274.59 1450.91 Q1274.59 1448.25 1272.69 1446.84 Q1270.81 1445.4 1267.29 1445.4 Q1265.37 1445.4 1263.17 1445.82 Q1260.98 1446.24 1258.34 1447.11 L1258.34 1442.95 Q1261 1442.21 1263.31 1441.84 Q1265.65 1441.47 1267.71 1441.47 Q1273.04 1441.47 1276.14 1443.9 Q1279.24 1446.3 1279.24 1450.43 Q1279.24 1453.3 1277.6 1455.29 Q1275.95 1457.25 1272.92 1458.02 Z\" fill=\"#000000\" fill-rule=\"evenodd\" fill-opacity=\"1\" /><path clip-path=\"url(#clip880)\" d=\"M 0 0 M1295.12 1445.17 Q1291.51 1445.17 1289.68 1448.74 Q1287.87 1452.28 1287.87 1459.41 Q1287.87 1466.51 1289.68 1470.08 Q1291.51 1473.62 1295.12 1473.62 Q1298.75 1473.62 1300.56 1470.08 Q1302.39 1466.51 1302.39 1459.41 Q1302.39 1452.28 1300.56 1448.74 Q1298.75 1445.17 1295.12 1445.17 M1295.12 1441.47 Q1300.93 1441.47 1303.98 1446.07 Q1307.06 1450.66 1307.06 1459.41 Q1307.06 1468.13 1303.98 1472.74 Q1300.93 1477.32 1295.12 1477.32 Q1289.31 1477.32 1286.23 1472.74 Q1283.17 1468.13 1283.17 1459.41 Q1283.17 1450.66 1286.23 1446.07 Q1289.31 1441.47 1295.12 1441.47 Z\" fill=\"#000000\" fill-rule=\"evenodd\" fill-opacity=\"1\" /><path clip-path=\"url(#clip880)\" d=\"M 0 0 M1322.13 1445.17 Q1318.52 1445.17 1316.69 1448.74 Q1314.89 1452.28 1314.89 1459.41 Q1314.89 1466.51 1316.69 1470.08 Q1318.52 1473.62 1322.13 1473.62 Q1325.77 1473.62 1327.57 1470.08 Q1329.4 1466.51 1329.4 1459.41 Q1329.4 1452.28 1327.57 1448.74 Q1325.77 1445.17 1322.13 1445.17 M1322.13 1441.47 Q1327.94 1441.47 1331 1446.07 Q1334.08 1450.66 1334.08 1459.41 Q1334.08 1468.13 1331 1472.74 Q1327.94 1477.32 1322.13 1477.32 Q1316.32 1477.32 1313.24 1472.74 Q1310.19 1468.13 1310.19 1459.41 Q1310.19 1450.66 1313.24 1446.07 Q1316.32 1441.47 1322.13 1441.47 Z\" fill=\"#000000\" fill-rule=\"evenodd\" fill-opacity=\"1\" /><path clip-path=\"url(#clip880)\" d=\"M 0 0 M1615.56 1446.17 L1603.75 1464.61 L1615.56 1464.61 L1615.56 1446.17 M1614.33 1442.09 L1620.21 1442.09 L1620.21 1464.61 L1625.14 1464.61 L1625.14 1468.5 L1620.21 1468.5 L1620.21 1476.65 L1615.56 1476.65 L1615.56 1468.5 L1599.95 1468.5 L1599.95 1463.99 L1614.33 1442.09 Z\" fill=\"#000000\" fill-rule=\"evenodd\" fill-opacity=\"1\" /><path clip-path=\"url(#clip880)\" d=\"M 0 0 M1640.21 1445.17 Q1636.6 1445.17 1634.77 1448.74 Q1632.96 1452.28 1632.96 1459.41 Q1632.96 1466.51 1634.77 1470.08 Q1636.6 1473.62 1640.21 1473.62 Q1643.84 1473.62 1645.65 1470.08 Q1647.48 1466.51 1647.48 1459.41 Q1647.48 1452.28 1645.65 1448.74 Q1643.84 1445.17 1640.21 1445.17 M1640.21 1441.47 Q1646.02 1441.47 1649.07 1446.07 Q1652.15 1450.66 1652.15 1459.41 Q1652.15 1468.13 1649.07 1472.74 Q1646.02 1477.32 1640.21 1477.32 Q1634.4 1477.32 1631.32 1472.74 Q1628.26 1468.13 1628.26 1459.41 Q1628.26 1450.66 1631.32 1446.07 Q1634.4 1441.47 1640.21 1441.47 Z\" fill=\"#000000\" fill-rule=\"evenodd\" fill-opacity=\"1\" /><path clip-path=\"url(#clip880)\" d=\"M 0 0 M1667.22 1445.17 Q1663.61 1445.17 1661.78 1448.74 Q1659.98 1452.28 1659.98 1459.41 Q1659.98 1466.51 1661.78 1470.08 Q1663.61 1473.62 1667.22 1473.62 Q1670.86 1473.62 1672.66 1470.08 Q1674.49 1466.51 1674.49 1459.41 Q1674.49 1452.28 1672.66 1448.74 Q1670.86 1445.17 1667.22 1445.17 M1667.22 1441.47 Q1673.03 1441.47 1676.09 1446.07 Q1679.17 1450.66 1679.17 1459.41 Q1679.17 1468.13 1676.09 1472.74 Q1673.03 1477.32 1667.22 1477.32 Q1661.41 1477.32 1658.33 1472.74 Q1655.28 1468.13 1655.28 1459.41 Q1655.28 1450.66 1658.33 1446.07 Q1661.41 1441.47 1667.22 1441.47 Z\" fill=\"#000000\" fill-rule=\"evenodd\" fill-opacity=\"1\" /><path clip-path=\"url(#clip880)\" d=\"M 0 0 M1946.7 1442.09 L1965.06 1442.09 L1965.06 1446.03 L1950.98 1446.03 L1950.98 1454.5 Q1952 1454.15 1953.02 1453.99 Q1954.04 1453.8 1955.06 1453.8 Q1960.84 1453.8 1964.22 1456.98 Q1967.6 1460.15 1967.6 1465.56 Q1967.6 1471.14 1964.13 1474.24 Q1960.66 1477.32 1954.34 1477.32 Q1952.16 1477.32 1949.89 1476.95 Q1947.65 1476.58 1945.24 1475.84 L1945.24 1471.14 Q1947.32 1472.28 1949.55 1472.83 Q1951.77 1473.39 1954.25 1473.39 Q1958.25 1473.39 1960.59 1471.28 Q1962.93 1469.18 1962.93 1465.56 Q1962.93 1461.95 1960.59 1459.85 Q1958.25 1457.74 1954.25 1457.74 Q1952.37 1457.74 1950.5 1458.16 Q1948.64 1458.57 1946.7 1459.45 L1946.7 1442.09 Z\" fill=\"#000000\" fill-rule=\"evenodd\" fill-opacity=\"1\" /><path clip-path=\"url(#clip880)\" d=\"M 0 0 M1982.67 1445.17 Q1979.06 1445.17 1977.23 1448.74 Q1975.43 1452.28 1975.43 1459.41 Q1975.43 1466.51 1977.23 1470.08 Q1979.06 1473.62 1982.67 1473.62 Q1986.31 1473.62 1988.11 1470.08 Q1989.94 1466.51 1989.94 1459.41 Q1989.94 1452.28 1988.11 1448.74 Q1986.31 1445.17 1982.67 1445.17 M1982.67 1441.47 Q1988.48 1441.47 1991.54 1446.07 Q1994.62 1450.66 1994.62 1459.41 Q1994.62 1468.13 1991.54 1472.74 Q1988.48 1477.32 1982.67 1477.32 Q1976.86 1477.32 1973.78 1472.74 Q1970.73 1468.13 1970.73 1459.41 Q1970.73 1450.66 1973.78 1446.07 Q1976.86 1441.47 1982.67 1441.47 Z\" fill=\"#000000\" fill-rule=\"evenodd\" fill-opacity=\"1\" /><path clip-path=\"url(#clip880)\" d=\"M 0 0 M2009.68 1445.17 Q2006.07 1445.17 2004.24 1448.74 Q2002.44 1452.28 2002.44 1459.41 Q2002.44 1466.51 2004.24 1470.08 Q2006.07 1473.62 2009.68 1473.62 Q2013.32 1473.62 2015.12 1470.08 Q2016.95 1466.51 2016.95 1459.41 Q2016.95 1452.28 2015.12 1448.74 Q2013.32 1445.17 2009.68 1445.17 M2009.68 1441.47 Q2015.49 1441.47 2018.55 1446.07 Q2021.63 1450.66 2021.63 1459.41 Q2021.63 1468.13 2018.55 1472.74 Q2015.49 1477.32 2009.68 1477.32 Q2003.87 1477.32 2000.8 1472.74 Q1997.74 1468.13 1997.74 1459.41 Q1997.74 1450.66 2000.8 1446.07 Q2003.87 1441.47 2009.68 1441.47 Z\" fill=\"#000000\" fill-rule=\"evenodd\" fill-opacity=\"1\" /><path clip-path=\"url(#clip880)\" d=\"M 0 0 M2300.7 1457.51 Q2297.55 1457.51 2295.7 1459.66 Q2293.87 1461.81 2293.87 1465.56 Q2293.87 1469.29 2295.7 1471.47 Q2297.55 1473.62 2300.7 1473.62 Q2303.85 1473.62 2305.68 1471.47 Q2307.53 1469.29 2307.53 1465.56 Q2307.53 1461.81 2305.68 1459.66 Q2303.85 1457.51 2300.7 1457.51 M2309.98 1442.86 L2309.98 1447.11 Q2308.22 1446.28 2306.42 1445.84 Q2304.64 1445.4 2302.88 1445.4 Q2298.25 1445.4 2295.79 1448.53 Q2293.36 1451.65 2293.02 1457.97 Q2294.38 1455.96 2296.44 1454.89 Q2298.5 1453.8 2300.98 1453.8 Q2306.19 1453.8 2309.2 1456.98 Q2312.23 1460.12 2312.23 1465.56 Q2312.23 1470.89 2309.08 1474.11 Q2305.93 1477.32 2300.7 1477.32 Q2294.71 1477.32 2291.53 1472.74 Q2288.36 1468.13 2288.36 1459.41 Q2288.36 1451.21 2292.25 1446.35 Q2296.14 1441.47 2302.69 1441.47 Q2304.45 1441.47 2306.23 1441.81 Q2308.04 1442.16 2309.98 1442.86 Z\" fill=\"#000000\" fill-rule=\"evenodd\" fill-opacity=\"1\" /><path clip-path=\"url(#clip880)\" d=\"M 0 0 M2327.3 1445.17 Q2323.69 1445.17 2321.86 1448.74 Q2320.05 1452.28 2320.05 1459.41 Q2320.05 1466.51 2321.86 1470.08 Q2323.69 1473.62 2327.3 1473.62 Q2330.93 1473.62 2332.74 1470.08 Q2334.57 1466.51 2334.57 1459.41 Q2334.57 1452.28 2332.74 1448.74 Q2330.93 1445.17 2327.3 1445.17 M2327.3 1441.47 Q2333.11 1441.47 2336.16 1446.07 Q2339.24 1450.66 2339.24 1459.41 Q2339.24 1468.13 2336.16 1472.74 Q2333.11 1477.32 2327.3 1477.32 Q2321.49 1477.32 2318.41 1472.74 Q2315.35 1468.13 2315.35 1459.41 Q2315.35 1450.66 2318.41 1446.07 Q2321.49 1441.47 2327.3 1441.47 Z\" fill=\"#000000\" fill-rule=\"evenodd\" fill-opacity=\"1\" /><path clip-path=\"url(#clip880)\" d=\"M 0 0 M2354.31 1445.17 Q2350.7 1445.17 2348.87 1448.74 Q2347.07 1452.28 2347.07 1459.41 Q2347.07 1466.51 2348.87 1470.08 Q2350.7 1473.62 2354.31 1473.62 Q2357.95 1473.62 2359.75 1470.08 Q2361.58 1466.51 2361.58 1459.41 Q2361.58 1452.28 2359.75 1448.74 Q2357.95 1445.17 2354.31 1445.17 M2354.31 1441.47 Q2360.12 1441.47 2363.18 1446.07 Q2366.26 1450.66 2366.26 1459.41 Q2366.26 1468.13 2363.18 1472.74 Q2360.12 1477.32 2354.31 1477.32 Q2348.5 1477.32 2345.42 1472.74 Q2342.37 1468.13 2342.37 1459.41 Q2342.37 1450.66 2345.42 1446.07 Q2348.5 1441.47 2354.31 1441.47 Z\" fill=\"#000000\" fill-rule=\"evenodd\" fill-opacity=\"1\" /><path clip-path=\"url(#clip880)\" d=\"M 0 0 M140.334 1203.68 Q136.723 1203.68 134.894 1207.25 Q133.089 1210.79 133.089 1217.92 Q133.089 1225.03 134.894 1228.59 Q136.723 1232.13 140.334 1232.13 Q143.968 1232.13 145.774 1228.59 Q147.603 1225.03 147.603 1217.92 Q147.603 1210.79 145.774 1207.25 Q143.968 1203.68 140.334 1203.68 M140.334 1199.98 Q146.144 1199.98 149.2 1204.59 Q152.279 1209.17 152.279 1217.92 Q152.279 1226.65 149.2 1231.25 Q146.144 1235.84 140.334 1235.84 Q134.524 1235.84 131.445 1231.25 Q128.39 1226.65 128.39 1217.92 Q128.39 1209.17 131.445 1204.59 Q134.524 1199.98 140.334 1199.98 Z\" fill=\"#000000\" fill-rule=\"evenodd\" fill-opacity=\"1\" /><path clip-path=\"url(#clip880)\" d=\"M 0 0 M157.348 1229.29 L162.232 1229.29 L162.232 1235.17 L157.348 1235.17 L157.348 1229.29 Z\" fill=\"#000000\" fill-rule=\"evenodd\" fill-opacity=\"1\" /><path clip-path=\"url(#clip880)\" d=\"M 0 0 M181.468 1216.53 Q184.825 1217.25 186.7 1219.52 Q188.598 1221.79 188.598 1225.12 Q188.598 1230.24 185.079 1233.04 Q181.561 1235.84 175.079 1235.84 Q172.903 1235.84 170.589 1235.4 Q168.297 1234.98 165.843 1234.12 L165.843 1229.61 Q167.788 1230.74 170.103 1231.32 Q172.417 1231.9 174.94 1231.9 Q179.339 1231.9 181.63 1230.17 Q183.945 1228.43 183.945 1225.12 Q183.945 1222.06 181.792 1220.35 Q179.663 1218.61 175.843 1218.61 L171.815 1218.61 L171.815 1214.77 L176.028 1214.77 Q179.477 1214.77 181.306 1213.41 Q183.135 1212.02 183.135 1209.43 Q183.135 1206.76 181.237 1205.35 Q179.362 1203.92 175.843 1203.92 Q173.922 1203.92 171.723 1204.33 Q169.524 1204.75 166.885 1205.63 L166.885 1201.46 Q169.547 1200.72 171.862 1200.35 Q174.2 1199.98 176.26 1199.98 Q181.584 1199.98 184.686 1202.41 Q187.788 1204.82 187.788 1208.94 Q187.788 1211.81 186.144 1213.8 Q184.501 1215.77 181.468 1216.53 Z\" fill=\"#000000\" fill-rule=\"evenodd\" fill-opacity=\"1\" /><path clip-path=\"url(#clip880)\" d=\"M 0 0 M193.713 1200.61 L212.07 1200.61 L212.07 1204.54 L197.996 1204.54 L197.996 1213.01 Q199.014 1212.67 200.033 1212.5 Q201.051 1212.32 202.07 1212.32 Q207.857 1212.32 211.237 1215.49 Q214.616 1218.66 214.616 1224.08 Q214.616 1229.66 211.144 1232.76 Q207.672 1235.84 201.352 1235.84 Q199.176 1235.84 196.908 1235.47 Q194.663 1235.1 192.255 1234.36 L192.255 1229.66 Q194.338 1230.79 196.561 1231.35 Q198.783 1231.9 201.26 1231.9 Q205.264 1231.9 207.602 1229.8 Q209.94 1227.69 209.94 1224.08 Q209.94 1220.47 207.602 1218.36 Q205.264 1216.25 201.26 1216.25 Q199.385 1216.25 197.51 1216.67 Q195.658 1217.09 193.713 1217.97 L193.713 1200.61 Z\" fill=\"#000000\" fill-rule=\"evenodd\" fill-opacity=\"1\" /><path clip-path=\"url(#clip880)\" d=\"M 0 0 M138.205 976.959 Q134.593 976.959 132.765 980.524 Q130.959 984.066 130.959 991.195 Q130.959 998.302 132.765 1001.87 Q134.593 1005.41 138.205 1005.41 Q141.839 1005.41 143.644 1001.87 Q145.473 998.302 145.473 991.195 Q145.473 984.066 143.644 980.524 Q141.839 976.959 138.205 976.959 M138.205 973.256 Q144.015 973.256 147.07 977.862 Q150.149 982.445 150.149 991.195 Q150.149 999.922 147.07 1004.53 Q144.015 1009.11 138.205 1009.11 Q132.394 1009.11 129.316 1004.53 Q126.26 999.922 126.26 991.195 Q126.26 982.445 129.316 977.862 Q132.394 973.256 138.205 973.256 Z\" fill=\"#000000\" fill-rule=\"evenodd\" fill-opacity=\"1\" /><path clip-path=\"url(#clip880)\" d=\"M 0 0 M155.218 1002.56 L160.103 1002.56 L160.103 1008.44 L155.218 1008.44 L155.218 1002.56 Z\" fill=\"#000000\" fill-rule=\"evenodd\" fill-opacity=\"1\" /><path clip-path=\"url(#clip880)\" d=\"M 0 0 M178.019 977.955 L166.214 996.404 L178.019 996.404 L178.019 977.955 M176.792 973.881 L182.672 973.881 L182.672 996.404 L187.602 996.404 L187.602 1000.29 L182.672 1000.29 L182.672 1008.44 L178.019 1008.44 L178.019 1000.29 L162.417 1000.29 L162.417 995.779 L176.792 973.881 Z\" fill=\"#000000\" fill-rule=\"evenodd\" fill-opacity=\"1\" /><path clip-path=\"url(#clip880)\" d=\"M 0 0 M202.672 976.959 Q199.061 976.959 197.232 980.524 Q195.426 984.066 195.426 991.195 Q195.426 998.302 197.232 1001.87 Q199.061 1005.41 202.672 1005.41 Q206.306 1005.41 208.112 1001.87 Q209.94 998.302 209.94 991.195 Q209.94 984.066 208.112 980.524 Q206.306 976.959 202.672 976.959 M202.672 973.256 Q208.482 973.256 211.537 977.862 Q214.616 982.445 214.616 991.195 Q214.616 999.922 211.537 1004.53 Q208.482 1009.11 202.672 1009.11 Q196.862 1009.11 193.783 1004.53 Q190.727 999.922 190.727 991.195 Q190.727 982.445 193.783 977.862 Q196.862 973.256 202.672 973.256 Z\" fill=\"#000000\" fill-rule=\"evenodd\" fill-opacity=\"1\" /><path clip-path=\"url(#clip880)\" d=\"M 0 0 M139.2 750.234 Q135.589 750.234 133.76 753.799 Q131.955 757.34 131.955 764.47 Q131.955 771.576 133.76 775.141 Q135.589 778.683 139.2 778.683 Q142.834 778.683 144.64 775.141 Q146.468 771.576 146.468 764.47 Q146.468 757.34 144.64 753.799 Q142.834 750.234 139.2 750.234 M139.2 746.53 Q145.01 746.53 148.066 751.137 Q151.144 755.72 151.144 764.47 Q151.144 773.197 148.066 777.803 Q145.01 782.387 139.2 782.387 Q133.39 782.387 130.311 777.803 Q127.256 773.197 127.256 764.47 Q127.256 755.72 130.311 751.137 Q133.39 746.53 139.2 746.53 Z\" fill=\"#000000\" fill-rule=\"evenodd\" fill-opacity=\"1\" /><path clip-path=\"url(#clip880)\" d=\"M 0 0 M156.214 775.836 L161.098 775.836 L161.098 781.715 L156.214 781.715 L156.214 775.836 Z\" fill=\"#000000\" fill-rule=\"evenodd\" fill-opacity=\"1\" /><path clip-path=\"url(#clip880)\" d=\"M 0 0 M179.015 751.229 L167.209 769.678 L179.015 769.678 L179.015 751.229 M177.788 747.155 L183.667 747.155 L183.667 769.678 L188.598 769.678 L188.598 773.567 L183.667 773.567 L183.667 781.715 L179.015 781.715 L179.015 773.567 L163.413 773.567 L163.413 769.053 L177.788 747.155 Z\" fill=\"#000000\" fill-rule=\"evenodd\" fill-opacity=\"1\" /><path clip-path=\"url(#clip880)\" d=\"M 0 0 M193.713 747.155 L212.07 747.155 L212.07 751.09 L197.996 751.09 L197.996 759.563 Q199.014 759.215 200.033 759.053 Q201.051 758.868 202.07 758.868 Q207.857 758.868 211.237 762.039 Q214.616 765.211 214.616 770.627 Q214.616 776.206 211.144 779.308 Q207.672 782.387 201.352 782.387 Q199.176 782.387 196.908 782.016 Q194.663 781.646 192.255 780.905 L192.255 776.206 Q194.338 777.34 196.561 777.896 Q198.783 778.451 201.26 778.451 Q205.264 778.451 207.602 776.345 Q209.94 774.238 209.94 770.627 Q209.94 767.016 207.602 764.91 Q205.264 762.803 201.26 762.803 Q199.385 762.803 197.51 763.22 Q195.658 763.637 193.713 764.516 L193.713 747.155 Z\" fill=\"#000000\" fill-rule=\"evenodd\" fill-opacity=\"1\" /><path clip-path=\"url(#clip880)\" d=\"M 0 0 M139.686 523.509 Q136.075 523.509 134.246 527.074 Q132.441 530.615 132.441 537.745 Q132.441 544.851 134.246 548.416 Q136.075 551.958 139.686 551.958 Q143.32 551.958 145.126 548.416 Q146.954 544.851 146.954 537.745 Q146.954 530.615 145.126 527.074 Q143.32 523.509 139.686 523.509 M139.686 519.805 Q145.496 519.805 148.552 524.411 Q151.63 528.995 151.63 537.745 Q151.63 546.472 148.552 551.078 Q145.496 555.661 139.686 555.661 Q133.876 555.661 130.797 551.078 Q127.742 546.472 127.742 537.745 Q127.742 528.995 130.797 524.411 Q133.876 519.805 139.686 519.805 Z\" fill=\"#000000\" fill-rule=\"evenodd\" fill-opacity=\"1\" /><path clip-path=\"url(#clip880)\" d=\"M 0 0 M156.7 549.11 L161.584 549.11 L161.584 554.99 L156.7 554.99 L156.7 549.11 Z\" fill=\"#000000\" fill-rule=\"evenodd\" fill-opacity=\"1\" /><path clip-path=\"url(#clip880)\" d=\"M 0 0 M166.7 520.43 L185.056 520.43 L185.056 524.365 L170.982 524.365 L170.982 532.837 Q172.001 532.49 173.019 532.328 Q174.038 532.143 175.056 532.143 Q180.843 532.143 184.223 535.314 Q187.602 538.485 187.602 543.902 Q187.602 549.481 184.13 552.583 Q180.658 555.661 174.339 555.661 Q172.163 555.661 169.894 555.291 Q167.649 554.921 165.241 554.18 L165.241 549.481 Q167.325 550.615 169.547 551.171 Q171.769 551.726 174.246 551.726 Q178.251 551.726 180.589 549.62 Q182.927 547.513 182.927 543.902 Q182.927 540.291 180.589 538.185 Q178.251 536.078 174.246 536.078 Q172.371 536.078 170.496 536.495 Q168.644 536.911 166.7 537.791 L166.7 520.43 Z\" fill=\"#000000\" fill-rule=\"evenodd\" fill-opacity=\"1\" /><path clip-path=\"url(#clip880)\" d=\"M 0 0 M202.672 523.509 Q199.061 523.509 197.232 527.074 Q195.426 530.615 195.426 537.745 Q195.426 544.851 197.232 548.416 Q199.061 551.958 202.672 551.958 Q206.306 551.958 208.112 548.416 Q209.94 544.851 209.94 537.745 Q209.94 530.615 208.112 527.074 Q206.306 523.509 202.672 523.509 M202.672 519.805 Q208.482 519.805 211.537 524.411 Q214.616 528.995 214.616 537.745 Q214.616 546.472 211.537 551.078 Q208.482 555.661 202.672 555.661 Q196.862 555.661 193.783 551.078 Q190.727 546.472 190.727 537.745 Q190.727 528.995 193.783 524.411 Q196.862 519.805 202.672 519.805 Z\" fill=\"#000000\" fill-rule=\"evenodd\" fill-opacity=\"1\" /><path clip-path=\"url(#clip880)\" d=\"M 0 0 M140.681 296.783 Q137.07 296.783 135.242 300.348 Q133.436 303.89 133.436 311.019 Q133.436 318.126 135.242 321.691 Q137.07 325.232 140.681 325.232 Q144.316 325.232 146.121 321.691 Q147.95 318.126 147.95 311.019 Q147.95 303.89 146.121 300.348 Q144.316 296.783 140.681 296.783 M140.681 293.08 Q146.492 293.08 149.547 297.686 Q152.626 302.27 152.626 311.019 Q152.626 319.746 149.547 324.353 Q146.492 328.936 140.681 328.936 Q134.871 328.936 131.793 324.353 Q128.737 319.746 128.737 311.019 Q128.737 302.27 131.793 297.686 Q134.871 293.08 140.681 293.08 Z\" fill=\"#000000\" fill-rule=\"evenodd\" fill-opacity=\"1\" /><path clip-path=\"url(#clip880)\" d=\"M 0 0 M157.695 322.385 L162.579 322.385 L162.579 328.265 L157.695 328.265 L157.695 322.385 Z\" fill=\"#000000\" fill-rule=\"evenodd\" fill-opacity=\"1\" /><path clip-path=\"url(#clip880)\" d=\"M 0 0 M167.695 293.705 L186.052 293.705 L186.052 297.64 L171.978 297.64 L171.978 306.112 Q172.996 305.765 174.015 305.603 Q175.033 305.418 176.052 305.418 Q181.839 305.418 185.218 308.589 Q188.598 311.76 188.598 317.177 Q188.598 322.756 185.126 325.857 Q181.653 328.936 175.334 328.936 Q173.158 328.936 170.89 328.566 Q168.644 328.195 166.237 327.455 L166.237 322.756 Q168.32 323.89 170.542 324.445 Q172.765 325.001 175.241 325.001 Q179.246 325.001 181.584 322.894 Q183.922 320.788 183.922 317.177 Q183.922 313.566 181.584 311.459 Q179.246 309.353 175.241 309.353 Q173.366 309.353 171.491 309.769 Q169.64 310.186 167.695 311.066 L167.695 293.705 Z\" fill=\"#000000\" fill-rule=\"evenodd\" fill-opacity=\"1\" /><path clip-path=\"url(#clip880)\" d=\"M 0 0 M193.713 293.705 L212.07 293.705 L212.07 297.64 L197.996 297.64 L197.996 306.112 Q199.014 305.765 200.033 305.603 Q201.051 305.418 202.07 305.418 Q207.857 305.418 211.237 308.589 Q214.616 311.76 214.616 317.177 Q214.616 322.756 211.144 325.857 Q207.672 328.936 201.352 328.936 Q199.176 328.936 196.908 328.566 Q194.663 328.195 192.255 327.455 L192.255 322.756 Q194.338 323.89 196.561 324.445 Q198.783 325.001 201.26 325.001 Q205.264 325.001 207.602 322.894 Q209.94 320.788 209.94 317.177 Q209.94 313.566 207.602 311.459 Q205.264 309.353 201.26 309.353 Q199.385 309.353 197.51 309.769 Q195.658 310.186 193.713 311.066 L193.713 293.705 Z\" fill=\"#000000\" fill-rule=\"evenodd\" fill-opacity=\"1\" /><path clip-path=\"url(#clip880)\" d=\"M 0 0 M138.529 70.0582 Q134.918 70.0582 133.089 73.623 Q131.283 77.1646 131.283 84.2942 Q131.283 91.4007 133.089 94.9655 Q134.918 98.5071 138.529 98.5071 Q142.163 98.5071 143.968 94.9655 Q145.797 91.4007 145.797 84.2942 Q145.797 77.1646 143.968 73.623 Q142.163 70.0582 138.529 70.0582 M138.529 66.3545 Q144.339 66.3545 147.394 70.961 Q150.473 75.5443 150.473 84.2942 Q150.473 93.021 147.394 97.6275 Q144.339 102.211 138.529 102.211 Q132.718 102.211 129.64 97.6275 Q126.584 93.021 126.584 84.2942 Q126.584 75.5443 129.64 70.961 Q132.718 66.3545 138.529 66.3545 Z\" fill=\"#000000\" fill-rule=\"evenodd\" fill-opacity=\"1\" /><path clip-path=\"url(#clip880)\" d=\"M 0 0 M155.542 95.6599 L160.427 95.6599 L160.427 101.54 L155.542 101.54 L155.542 95.6599 Z\" fill=\"#000000\" fill-rule=\"evenodd\" fill-opacity=\"1\" /><path clip-path=\"url(#clip880)\" d=\"M 0 0 M176.075 82.3961 Q172.927 82.3961 171.075 84.5489 Q169.246 86.7016 169.246 90.4516 Q169.246 94.1784 171.075 96.3544 Q172.927 98.5071 176.075 98.5071 Q179.223 98.5071 181.052 96.3544 Q182.903 94.1784 182.903 90.4516 Q182.903 86.7016 181.052 84.5489 Q179.223 82.3961 176.075 82.3961 M185.357 67.7434 L185.357 72.0026 Q183.598 71.1693 181.792 70.7295 Q180.01 70.2897 178.251 70.2897 Q173.621 70.2897 171.167 73.4147 Q168.737 76.5396 168.39 82.8591 Q169.755 80.8452 171.815 79.7804 Q173.876 78.6924 176.352 78.6924 Q181.561 78.6924 184.57 81.8637 Q187.602 85.0118 187.602 90.4516 Q187.602 95.7757 184.454 98.9932 Q181.306 102.211 176.075 102.211 Q170.079 102.211 166.908 97.6275 Q163.737 93.021 163.737 84.2942 Q163.737 76.0998 167.626 71.2387 Q171.515 66.3545 178.065 66.3545 Q179.825 66.3545 181.607 66.7017 Q183.413 67.049 185.357 67.7434 Z\" fill=\"#000000\" fill-rule=\"evenodd\" fill-opacity=\"1\" /><path clip-path=\"url(#clip880)\" d=\"M 0 0 M202.672 70.0582 Q199.061 70.0582 197.232 73.623 Q195.426 77.1646 195.426 84.2942 Q195.426 91.4007 197.232 94.9655 Q199.061 98.5071 202.672 98.5071 Q206.306 98.5071 208.112 94.9655 Q209.94 91.4007 209.94 84.2942 Q209.94 77.1646 208.112 73.623 Q206.306 70.0582 202.672 70.0582 M202.672 66.3545 Q208.482 66.3545 211.537 70.961 Q214.616 75.5443 214.616 84.2942 Q214.616 93.021 211.537 97.6275 Q208.482 102.211 202.672 102.211 Q196.862 102.211 193.783 97.6275 Q190.727 93.021 190.727 84.2942 Q190.727 75.5443 193.783 70.961 Q196.862 66.3545 202.672 66.3545 Z\" fill=\"#000000\" fill-rule=\"evenodd\" fill-opacity=\"1\" /><path clip-path=\"url(#clip880)\" d=\"M 0 0 M884.461 1508.52 L893.119 1508.52 L914.189 1548.28 L914.189 1508.52 L920.428 1508.52 L920.428 1556.04 L911.77 1556.04 L890.7 1516.29 L890.7 1556.04 L884.461 1556.04 L884.461 1508.52 Z\" fill=\"#000000\" fill-rule=\"evenodd\" fill-opacity=\"1\" /><path clip-path=\"url(#clip880)\" d=\"M 0 0 M925.966 1541.98 L925.966 1520.4 L931.822 1520.4 L931.822 1541.75 Q931.822 1546.81 933.796 1549.36 Q935.769 1551.87 939.716 1551.87 Q944.458 1551.87 947.195 1548.85 Q949.965 1545.83 949.965 1540.61 L949.965 1520.4 L955.821 1520.4 L955.821 1556.04 L949.965 1556.04 L949.965 1550.57 Q947.832 1553.82 944.999 1555.41 Q942.198 1556.97 938.474 1556.97 Q932.332 1556.97 929.149 1553.15 Q925.966 1549.33 925.966 1541.98 M940.702 1519.54 L940.702 1519.54 Z\" fill=\"#000000\" fill-rule=\"evenodd\" fill-opacity=\"1\" /><path clip-path=\"url(#clip880)\" d=\"M 0 0 M989.718 1527.24 Q991.915 1523.29 994.97 1521.41 Q998.026 1519.54 1002.16 1519.54 Q1007.73 1519.54 1010.76 1523.45 Q1013.78 1527.33 1013.78 1534.53 L1013.78 1556.04 L1007.89 1556.04 L1007.89 1534.72 Q1007.89 1529.59 1006.08 1527.11 Q1004.26 1524.63 1000.54 1524.63 Q995.989 1524.63 993.347 1527.65 Q990.705 1530.68 990.705 1535.9 L990.705 1556.04 L984.817 1556.04 L984.817 1534.72 Q984.817 1529.56 983.003 1527.11 Q981.188 1524.63 977.401 1524.63 Q972.913 1524.63 970.271 1527.68 Q967.629 1530.71 967.629 1535.9 L967.629 1556.04 L961.741 1556.04 L961.741 1520.4 L967.629 1520.4 L967.629 1525.93 Q969.635 1522.66 972.435 1521.1 Q975.236 1519.54 979.088 1519.54 Q982.971 1519.54 985.676 1521.51 Q988.413 1523.48 989.718 1527.24 Z\" fill=\"#000000\" fill-rule=\"evenodd\" fill-opacity=\"1\" /><path clip-path=\"url(#clip880)\" d=\"M 0 0 M1045.51 1538.25 Q1045.51 1531.79 1042.84 1528.13 Q1040.2 1524.44 1035.55 1524.44 Q1030.9 1524.44 1028.23 1528.13 Q1025.59 1531.79 1025.59 1538.25 Q1025.59 1544.71 1028.23 1548.4 Q1030.9 1552.07 1035.55 1552.07 Q1040.2 1552.07 1042.84 1548.4 Q1045.51 1544.71 1045.51 1538.25 M1025.59 1525.81 Q1027.44 1522.62 1030.24 1521.1 Q1033.07 1519.54 1036.98 1519.54 Q1043.48 1519.54 1047.52 1524.69 Q1051.59 1529.85 1051.59 1538.25 Q1051.59 1546.65 1047.52 1551.81 Q1043.48 1556.97 1036.98 1556.97 Q1033.07 1556.97 1030.24 1555.44 Q1027.44 1553.88 1025.59 1550.7 L1025.59 1556.04 L1019.7 1556.04 L1019.7 1506.52 L1025.59 1506.52 L1025.59 1525.81 Z\" fill=\"#000000\" fill-rule=\"evenodd\" fill-opacity=\"1\" /><path clip-path=\"url(#clip880)\" d=\"M 0 0 M1088.23 1536.76 L1088.23 1539.62 L1061.3 1539.62 Q1061.68 1545.67 1064.93 1548.85 Q1068.21 1552 1074.03 1552 Q1077.41 1552 1080.56 1551.17 Q1083.74 1550.35 1086.86 1548.69 L1086.86 1554.23 Q1083.71 1555.57 1080.4 1556.27 Q1077.09 1556.97 1073.68 1556.97 Q1065.15 1556.97 1060.15 1552 Q1055.19 1547.04 1055.19 1538.57 Q1055.19 1529.82 1059.9 1524.69 Q1064.64 1519.54 1072.66 1519.54 Q1079.86 1519.54 1084.03 1524.18 Q1088.23 1528.8 1088.23 1536.76 M1082.37 1535.04 Q1082.31 1530.23 1079.67 1527.37 Q1077.06 1524.5 1072.73 1524.5 Q1067.83 1524.5 1064.87 1527.27 Q1061.94 1530.04 1061.49 1535.07 L1082.37 1535.04 Z\" fill=\"#000000\" fill-rule=\"evenodd\" fill-opacity=\"1\" /><path clip-path=\"url(#clip880)\" d=\"M 0 0 M1115.03 1525.87 Q1114.04 1525.3 1112.86 1525.04 Q1111.72 1524.76 1110.32 1524.76 Q1105.35 1524.76 1102.68 1528 Q1100.04 1531.22 1100.04 1537.27 L1100.04 1556.04 L1094.15 1556.04 L1094.15 1520.4 L1100.04 1520.4 L1100.04 1525.93 Q1101.88 1522.69 1104.84 1521.13 Q1107.8 1519.54 1112.04 1519.54 Q1112.64 1519.54 1113.37 1519.63 Q1114.1 1519.7 1115 1519.85 L1115.03 1525.87 Z\" fill=\"#000000\" fill-rule=\"evenodd\" fill-opacity=\"1\" /><path clip-path=\"url(#clip880)\" d=\"M 0 0 M1155.7 1524.5 Q1150.99 1524.5 1148.26 1528.19 Q1145.52 1531.85 1145.52 1538.25 Q1145.52 1544.65 1148.22 1548.34 Q1150.96 1552 1155.7 1552 Q1160.38 1552 1163.12 1548.31 Q1165.86 1544.62 1165.86 1538.25 Q1165.86 1531.92 1163.12 1528.23 Q1160.38 1524.5 1155.7 1524.5 M1155.7 1519.54 Q1163.34 1519.54 1167.7 1524.5 Q1172.06 1529.47 1172.06 1538.25 Q1172.06 1547 1167.7 1552 Q1163.34 1556.97 1155.7 1556.97 Q1148.03 1556.97 1143.67 1552 Q1139.34 1547 1139.34 1538.25 Q1139.34 1529.47 1143.67 1524.5 Q1148.03 1519.54 1155.7 1519.54 Z\" fill=\"#000000\" fill-rule=\"evenodd\" fill-opacity=\"1\" /><path clip-path=\"url(#clip880)\" d=\"M 0 0 M1196.25 1506.52 L1196.25 1511.39 L1190.65 1511.39 Q1187.5 1511.39 1186.26 1512.66 Q1185.05 1513.93 1185.05 1517.24 L1185.05 1520.4 L1194.69 1520.4 L1194.69 1524.95 L1185.05 1524.95 L1185.05 1556.04 L1179.16 1556.04 L1179.16 1524.95 L1173.56 1524.95 L1173.56 1520.4 L1179.16 1520.4 L1179.16 1517.91 Q1179.16 1511.96 1181.93 1509.26 Q1184.7 1506.52 1190.72 1506.52 L1196.25 1506.52 Z\" fill=\"#000000\" fill-rule=\"evenodd\" fill-opacity=\"1\" /><path clip-path=\"url(#clip880)\" d=\"M 0 0 M1216.78 1508.52 L1256.98 1508.52 L1256.98 1513.93 L1240.11 1513.93 L1240.11 1556.04 L1233.65 1556.04 L1233.65 1513.93 L1216.78 1513.93 L1216.78 1508.52 Z\" fill=\"#000000\" fill-rule=\"evenodd\" fill-opacity=\"1\" /><path clip-path=\"url(#clip880)\" d=\"M 0 0 M1274.2 1525.87 Q1273.22 1525.3 1272.04 1525.04 Q1270.89 1524.76 1269.49 1524.76 Q1264.53 1524.76 1261.85 1528 Q1259.21 1531.22 1259.21 1537.27 L1259.21 1556.04 L1253.32 1556.04 L1253.32 1520.4 L1259.21 1520.4 L1259.21 1525.93 Q1261.06 1522.69 1264.02 1521.13 Q1266.98 1519.54 1271.21 1519.54 Q1271.81 1519.54 1272.55 1519.63 Q1273.28 1519.7 1274.17 1519.85 L1274.2 1525.87 Z\" fill=\"#000000\" fill-rule=\"evenodd\" fill-opacity=\"1\" /><path clip-path=\"url(#clip880)\" d=\"M 0 0 M1296.55 1538.12 Q1289.45 1538.12 1286.71 1539.75 Q1283.97 1541.37 1283.97 1545.29 Q1283.97 1548.4 1286.01 1550.25 Q1288.08 1552.07 1291.61 1552.07 Q1296.48 1552.07 1299.41 1548.63 Q1302.37 1545.16 1302.37 1539.43 L1302.37 1538.12 L1296.55 1538.12 M1308.23 1535.71 L1308.23 1556.04 L1302.37 1556.04 L1302.37 1550.63 Q1300.36 1553.88 1297.37 1555.44 Q1294.38 1556.97 1290.05 1556.97 Q1284.58 1556.97 1281.33 1553.91 Q1278.12 1550.82 1278.12 1545.67 Q1278.12 1539.65 1282.13 1536.6 Q1286.17 1533.54 1294.16 1533.54 L1302.37 1533.54 L1302.37 1532.97 Q1302.37 1528.93 1299.7 1526.73 Q1297.05 1524.5 1292.25 1524.5 Q1289.19 1524.5 1286.3 1525.23 Q1283.4 1525.97 1280.73 1527.43 L1280.73 1522.02 Q1283.94 1520.78 1286.97 1520.17 Q1289.99 1519.54 1292.85 1519.54 Q1300.59 1519.54 1304.41 1523.55 Q1308.23 1527.56 1308.23 1535.71 Z\" fill=\"#000000\" fill-rule=\"evenodd\" fill-opacity=\"1\" /><path clip-path=\"url(#clip880)\" d=\"M 0 0 M1314.37 1520.4 L1320.23 1520.4 L1320.23 1556.04 L1314.37 1556.04 L1314.37 1520.4 M1314.37 1506.52 L1320.23 1506.52 L1320.23 1513.93 L1314.37 1513.93 L1314.37 1506.52 Z\" fill=\"#000000\" fill-rule=\"evenodd\" fill-opacity=\"1\" /><path clip-path=\"url(#clip880)\" d=\"M 0 0 M1356 1534.53 L1356 1556.04 L1350.14 1556.04 L1350.14 1534.72 Q1350.14 1529.66 1348.17 1527.14 Q1346.2 1524.63 1342.25 1524.63 Q1337.51 1524.63 1334.77 1527.65 Q1332.03 1530.68 1332.03 1535.9 L1332.03 1556.04 L1326.15 1556.04 L1326.15 1520.4 L1332.03 1520.4 L1332.03 1525.93 Q1334.13 1522.72 1336.97 1521.13 Q1339.83 1519.54 1343.56 1519.54 Q1349.7 1519.54 1352.85 1523.36 Q1356 1527.14 1356 1534.53 Z\" fill=\"#000000\" fill-rule=\"evenodd\" fill-opacity=\"1\" /><path clip-path=\"url(#clip880)\" d=\"M 0 0 M1362.14 1520.4 L1368 1520.4 L1368 1556.04 L1362.14 1556.04 L1362.14 1520.4 M1362.14 1506.52 L1368 1506.52 L1368 1513.93 L1362.14 1513.93 L1362.14 1506.52 Z\" fill=\"#000000\" fill-rule=\"evenodd\" fill-opacity=\"1\" /><path clip-path=\"url(#clip880)\" d=\"M 0 0 M1403.78 1534.53 L1403.78 1556.04 L1397.92 1556.04 L1397.92 1534.72 Q1397.92 1529.66 1395.95 1527.14 Q1393.97 1524.63 1390.03 1524.63 Q1385.28 1524.63 1382.55 1527.65 Q1379.81 1530.68 1379.81 1535.9 L1379.81 1556.04 L1373.92 1556.04 L1373.92 1520.4 L1379.81 1520.4 L1379.81 1525.93 Q1381.91 1522.72 1384.74 1521.13 Q1387.61 1519.54 1391.33 1519.54 Q1397.47 1519.54 1400.62 1523.36 Q1403.78 1527.14 1403.78 1534.53 Z\" fill=\"#000000\" fill-rule=\"evenodd\" fill-opacity=\"1\" /><path clip-path=\"url(#clip880)\" d=\"M 0 0 M1433.38 1537.81 Q1433.38 1531.44 1430.73 1527.94 Q1428.12 1524.44 1423.38 1524.44 Q1418.67 1524.44 1416.03 1527.94 Q1413.42 1531.44 1413.42 1537.81 Q1413.42 1544.14 1416.03 1547.64 Q1418.67 1551.14 1423.38 1551.14 Q1428.12 1551.14 1430.73 1547.64 Q1433.38 1544.14 1433.38 1537.81 M1439.23 1551.62 Q1439.23 1560.72 1435.19 1565.15 Q1431.15 1569.6 1422.81 1569.6 Q1419.72 1569.6 1416.98 1569.13 Q1414.25 1568.68 1411.67 1567.72 L1411.67 1562.03 Q1414.25 1563.43 1416.76 1564.1 Q1419.28 1564.76 1421.89 1564.76 Q1427.65 1564.76 1430.51 1561.74 Q1433.38 1558.75 1433.38 1552.67 L1433.38 1549.77 Q1431.56 1552.92 1428.73 1554.48 Q1425.9 1556.04 1421.95 1556.04 Q1415.39 1556.04 1411.38 1551.05 Q1407.37 1546.05 1407.37 1537.81 Q1407.37 1529.53 1411.38 1524.53 Q1415.39 1519.54 1421.95 1519.54 Q1425.9 1519.54 1428.73 1521.1 Q1431.56 1522.66 1433.38 1525.81 L1433.38 1520.4 L1439.23 1520.4 L1439.23 1551.62 Z\" fill=\"#000000\" fill-rule=\"evenodd\" fill-opacity=\"1\" /><path clip-path=\"url(#clip880)\" d=\"M 0 0 M1494.84 1510.08 L1494.84 1516.35 Q1491.18 1514.6 1487.93 1513.74 Q1484.68 1512.88 1481.66 1512.88 Q1476.41 1512.88 1473.54 1514.92 Q1470.71 1516.96 1470.71 1520.71 Q1470.71 1523.87 1472.59 1525.49 Q1474.5 1527.08 1479.78 1528.07 L1483.67 1528.86 Q1490.86 1530.23 1494.26 1533.7 Q1497.7 1537.14 1497.7 1542.93 Q1497.7 1549.84 1493.05 1553.4 Q1488.44 1556.97 1479.5 1556.97 Q1476.12 1556.97 1472.3 1556.2 Q1468.51 1555.44 1464.44 1553.94 L1464.44 1547.32 Q1468.36 1549.52 1472.11 1550.63 Q1475.87 1551.75 1479.5 1551.75 Q1485 1551.75 1487.99 1549.58 Q1490.99 1547.42 1490.99 1543.41 Q1490.99 1539.91 1488.82 1537.93 Q1486.69 1535.96 1481.79 1534.97 L1477.87 1534.21 Q1470.68 1532.78 1467.46 1529.72 Q1464.25 1526.67 1464.25 1521.22 Q1464.25 1514.92 1468.67 1511.29 Q1473.13 1507.66 1480.93 1507.66 Q1484.27 1507.66 1487.74 1508.27 Q1491.21 1508.87 1494.84 1510.08 Z\" fill=\"#000000\" fill-rule=\"evenodd\" fill-opacity=\"1\" /><path clip-path=\"url(#clip880)\" d=\"M 0 0 M1520.05 1538.12 Q1512.95 1538.12 1510.21 1539.75 Q1507.47 1541.37 1507.47 1545.29 Q1507.47 1548.4 1509.51 1550.25 Q1511.58 1552.07 1515.11 1552.07 Q1519.98 1552.07 1522.91 1548.63 Q1525.87 1545.16 1525.87 1539.43 L1525.87 1538.12 L1520.05 1538.12 M1531.73 1535.71 L1531.73 1556.04 L1525.87 1556.04 L1525.87 1550.63 Q1523.86 1553.88 1520.87 1555.44 Q1517.88 1556.97 1513.55 1556.97 Q1508.08 1556.97 1504.83 1553.91 Q1501.62 1550.82 1501.62 1545.67 Q1501.62 1539.65 1505.63 1536.6 Q1509.67 1533.54 1517.66 1533.54 L1525.87 1533.54 L1525.87 1532.97 Q1525.87 1528.93 1523.2 1526.73 Q1520.55 1524.5 1515.75 1524.5 Q1512.69 1524.5 1509.8 1525.23 Q1506.9 1525.97 1504.23 1527.43 L1504.23 1522.02 Q1507.44 1520.78 1510.46 1520.17 Q1513.49 1519.54 1516.35 1519.54 Q1524.09 1519.54 1527.91 1523.55 Q1531.73 1527.56 1531.73 1535.71 Z\" fill=\"#000000\" fill-rule=\"evenodd\" fill-opacity=\"1\" /><path clip-path=\"url(#clip880)\" d=\"M 0 0 M1565.62 1527.24 Q1567.82 1523.29 1570.88 1521.41 Q1573.93 1519.54 1578.07 1519.54 Q1583.64 1519.54 1586.66 1523.45 Q1589.69 1527.33 1589.69 1534.53 L1589.69 1556.04 L1583.8 1556.04 L1583.8 1534.72 Q1583.8 1529.59 1581.98 1527.11 Q1580.17 1524.63 1576.45 1524.63 Q1571.89 1524.63 1569.25 1527.65 Q1566.61 1530.68 1566.61 1535.9 L1566.61 1556.04 L1560.72 1556.04 L1560.72 1534.72 Q1560.72 1529.56 1558.91 1527.11 Q1557.09 1524.63 1553.31 1524.63 Q1548.82 1524.63 1546.18 1527.68 Q1543.53 1530.71 1543.53 1535.9 L1543.53 1556.04 L1537.65 1556.04 L1537.65 1520.4 L1543.53 1520.4 L1543.53 1525.93 Q1545.54 1522.66 1548.34 1521.1 Q1551.14 1519.54 1554.99 1519.54 Q1558.88 1519.54 1561.58 1521.51 Q1564.32 1523.48 1565.62 1527.24 Z\" fill=\"#000000\" fill-rule=\"evenodd\" fill-opacity=\"1\" /><path clip-path=\"url(#clip880)\" d=\"M 0 0 M1601.49 1550.7 L1601.49 1569.6 L1595.61 1569.6 L1595.61 1520.4 L1601.49 1520.4 L1601.49 1525.81 Q1603.34 1522.62 1606.14 1521.1 Q1608.97 1519.54 1612.89 1519.54 Q1619.38 1519.54 1623.42 1524.69 Q1627.5 1529.85 1627.5 1538.25 Q1627.5 1546.65 1623.42 1551.81 Q1619.38 1556.97 1612.89 1556.97 Q1608.97 1556.97 1606.14 1555.44 Q1603.34 1553.88 1601.49 1550.7 M1621.42 1538.25 Q1621.42 1531.79 1618.75 1528.13 Q1616.1 1524.44 1611.46 1524.44 Q1606.81 1524.44 1604.14 1528.13 Q1601.49 1531.79 1601.49 1538.25 Q1601.49 1544.71 1604.14 1548.4 Q1606.81 1552.07 1611.46 1552.07 Q1616.1 1552.07 1618.75 1548.4 Q1621.42 1544.71 1621.42 1538.25 Z\" fill=\"#000000\" fill-rule=\"evenodd\" fill-opacity=\"1\" /><path clip-path=\"url(#clip880)\" d=\"M 0 0 M1633.64 1506.52 L1639.5 1506.52 L1639.5 1556.04 L1633.64 1556.04 L1633.64 1506.52 Z\" fill=\"#000000\" fill-rule=\"evenodd\" fill-opacity=\"1\" /><path clip-path=\"url(#clip880)\" d=\"M 0 0 M1676.13 1536.76 L1676.13 1539.62 L1649.21 1539.62 Q1649.59 1545.67 1652.83 1548.85 Q1656.11 1552 1661.94 1552 Q1665.31 1552 1668.46 1551.17 Q1671.64 1550.35 1674.76 1548.69 L1674.76 1554.23 Q1671.61 1555.57 1668.3 1556.27 Q1664.99 1556.97 1661.59 1556.97 Q1653.06 1556.97 1648.06 1552 Q1643.09 1547.04 1643.09 1538.57 Q1643.09 1529.82 1647.81 1524.69 Q1652.55 1519.54 1660.57 1519.54 Q1667.76 1519.54 1671.93 1524.18 Q1676.13 1528.8 1676.13 1536.76 M1670.28 1535.04 Q1670.21 1530.23 1667.57 1527.37 Q1664.96 1524.5 1660.63 1524.5 Q1655.73 1524.5 1652.77 1527.27 Q1649.84 1530.04 1649.4 1535.07 L1670.28 1535.04 Z\" fill=\"#000000\" fill-rule=\"evenodd\" fill-opacity=\"1\" /><path clip-path=\"url(#clip880)\" d=\"M 0 0 M1705 1521.45 L1705 1526.98 Q1702.52 1525.71 1699.84 1525.07 Q1697.17 1524.44 1694.31 1524.44 Q1689.95 1524.44 1687.75 1525.77 Q1685.59 1527.11 1685.59 1529.79 Q1685.59 1531.82 1687.15 1533 Q1688.7 1534.15 1693.42 1535.2 L1695.42 1535.64 Q1701.66 1536.98 1704.27 1539.43 Q1706.91 1541.85 1706.91 1546.21 Q1706.91 1551.17 1702.96 1554.07 Q1699.05 1556.97 1692.17 1556.97 Q1689.31 1556.97 1686.19 1556.39 Q1683.1 1555.85 1679.67 1554.74 L1679.67 1548.69 Q1682.91 1550.38 1686.06 1551.24 Q1689.21 1552.07 1692.3 1552.07 Q1696.44 1552.07 1698.67 1550.66 Q1700.9 1549.23 1700.9 1546.65 Q1700.9 1544.27 1699.27 1542.99 Q1697.68 1541.72 1692.24 1540.54 L1690.2 1540.07 Q1684.76 1538.92 1682.34 1536.56 Q1679.92 1534.18 1679.92 1530.04 Q1679.92 1525.01 1683.48 1522.27 Q1687.05 1519.54 1693.61 1519.54 Q1696.85 1519.54 1699.72 1520.01 Q1702.58 1520.49 1705 1521.45 Z\" fill=\"#000000\" fill-rule=\"evenodd\" fill-opacity=\"1\" /><path clip-path=\"url(#clip880)\" d=\"M 0 0 M44.1444 904.492 L50.9239 904.492 Q47.9002 907.739 46.4043 911.431 Q44.9083 915.091 44.9083 919.229 Q44.9083 927.377 49.9054 931.705 Q54.8707 936.034 64.2919 936.034 Q73.6813 936.034 78.6784 931.705 Q83.6436 927.377 83.6436 919.229 Q83.6436 915.091 82.1477 911.431 Q80.6518 907.739 77.6281 904.492 L84.3439 904.492 Q86.6355 907.866 87.7814 911.653 Q88.9272 915.409 88.9272 919.611 Q88.9272 930.4 82.3387 936.607 Q75.7183 942.814 64.2919 942.814 Q52.8336 942.814 46.2451 936.607 Q39.6248 930.4 39.6248 919.611 Q39.6248 915.346 40.7706 911.59 Q41.8846 907.802 44.1444 904.492 Z\" fill=\"#000000\" fill-rule=\"evenodd\" fill-opacity=\"1\" /><path clip-path=\"url(#clip880)\" d=\"M 0 0 M57.8307 877.692 Q57.2578 878.679 57.0032 879.857 Q56.7167 881.003 56.7167 882.403 Q56.7167 887.368 59.9632 890.042 Q63.1779 892.684 69.2253 892.684 L88.0042 892.684 L88.0042 898.572 L52.3562 898.572 L52.3562 892.684 L57.8944 892.684 Q54.6479 890.838 53.0883 887.878 Q51.4968 884.917 51.4968 880.684 Q51.4968 880.08 51.5923 879.347 Q51.656 878.615 51.8151 877.724 L57.8307 877.692 Z\" fill=\"#000000\" fill-rule=\"evenodd\" fill-opacity=\"1\" /><path clip-path=\"url(#clip880)\" d=\"M 0 0 M56.4621 859.168 Q56.4621 863.879 60.1542 866.616 Q63.8145 869.353 70.212 869.353 Q76.6095 869.353 80.3017 866.648 Q83.9619 863.911 83.9619 859.168 Q83.9619 854.489 80.2698 851.752 Q76.5777 849.015 70.212 849.015 Q63.8781 849.015 60.186 851.752 Q56.4621 854.489 56.4621 859.168 M51.4968 859.168 Q51.4968 851.529 56.4621 847.169 Q61.4273 842.808 70.212 842.808 Q78.9649 842.808 83.9619 847.169 Q88.9272 851.529 88.9272 859.168 Q88.9272 866.839 83.9619 871.199 Q78.9649 875.528 70.212 875.528 Q61.4273 875.528 56.4621 871.199 Q51.4968 866.839 51.4968 859.168 Z\" fill=\"#000000\" fill-rule=\"evenodd\" fill-opacity=\"1\" /><path clip-path=\"url(#clip880)\" d=\"M 0 0 M53.4065 813.94 L58.9447 813.94 Q57.6716 816.422 57.035 819.096 Q56.3984 821.77 56.3984 824.634 Q56.3984 828.995 57.7352 831.191 Q59.072 833.355 61.7456 833.355 Q63.7826 833.355 64.9603 831.796 Q66.1061 830.236 67.1565 825.525 L67.6021 823.52 Q68.9389 817.282 71.3897 814.672 Q73.8086 812.03 78.1691 812.03 Q83.1344 812.03 86.0308 815.977 Q88.9272 819.892 88.9272 826.767 Q88.9272 829.631 88.3543 832.751 Q87.8132 835.838 86.6992 839.275 L80.6518 839.275 Q82.3387 836.029 83.198 832.878 Q84.0256 829.727 84.0256 826.639 Q84.0256 822.502 82.6251 820.274 Q81.1929 818.046 78.6147 818.046 Q76.2276 818.046 74.9545 819.669 Q73.6813 821.26 72.5037 826.703 L72.0262 828.74 Q70.8804 834.183 68.5251 836.602 Q66.138 839.021 62.0002 839.021 Q56.9713 839.021 54.2341 835.456 Q51.4968 831.891 51.4968 825.334 Q51.4968 822.088 51.9743 819.223 Q52.4517 816.359 53.4065 813.94 Z\" fill=\"#000000\" fill-rule=\"evenodd\" fill-opacity=\"1\" /><path clip-path=\"url(#clip880)\" d=\"M 0 0 M53.4065 783.162 L58.9447 783.162 Q57.6716 785.644 57.035 788.318 Q56.3984 790.991 56.3984 793.856 Q56.3984 798.217 57.7352 800.413 Q59.072 802.577 61.7456 802.577 Q63.7826 802.577 64.9603 801.017 Q66.1061 799.458 67.1565 794.747 L67.6021 792.742 Q68.9389 786.504 71.3897 783.894 Q73.8086 781.252 78.1691 781.252 Q83.1344 781.252 86.0308 785.199 Q88.9272 789.114 88.9272 795.989 Q88.9272 798.853 88.3543 801.972 Q87.8132 805.06 86.6992 808.497 L80.6518 808.497 Q82.3387 805.251 83.198 802.1 Q84.0256 798.949 84.0256 795.861 Q84.0256 791.724 82.6251 789.496 Q81.1929 787.268 78.6147 787.268 Q76.2276 787.268 74.9545 788.891 Q73.6813 790.482 72.5037 795.925 L72.0262 797.962 Q70.8804 803.405 68.5251 805.824 Q66.138 808.243 62.0002 808.243 Q56.9713 808.243 54.2341 804.678 Q51.4968 801.113 51.4968 794.556 Q51.4968 791.31 51.9743 788.445 Q52.4517 785.581 53.4065 783.162 Z\" fill=\"#000000\" fill-rule=\"evenodd\" fill-opacity=\"1\" /><path clip-path=\"url(#clip880)\" d=\"M 0 0 M40.4842 754.134 L40.4842 724.088 L45.895 724.088 L45.895 747.705 L59.9632 747.705 L59.9632 725.075 L65.3741 725.075 L65.3741 747.705 L82.5933 747.705 L82.5933 723.515 L88.0042 723.515 L88.0042 754.134 L40.4842 754.134 Z\" fill=\"#000000\" fill-rule=\"evenodd\" fill-opacity=\"1\" /><path clip-path=\"url(#clip880)\" d=\"M 0 0 M66.4881 687.74 L88.0042 687.74 L88.0042 693.596 L66.679 693.596 Q61.6183 693.596 59.1038 695.57 Q56.5894 697.543 56.5894 701.49 Q56.5894 706.232 59.6131 708.969 Q62.6368 711.707 67.8567 711.707 L88.0042 711.707 L88.0042 717.595 L52.3562 717.595 L52.3562 711.707 L57.8944 711.707 Q54.6797 709.606 53.0883 706.773 Q51.4968 703.909 51.4968 700.185 Q51.4968 694.042 55.3163 690.891 Q59.1038 687.74 66.4881 687.74 Z\" fill=\"#000000\" fill-rule=\"evenodd\" fill-opacity=\"1\" /><path clip-path=\"url(#clip880)\" d=\"M 0 0 M42.2347 675.804 L52.3562 675.804 L52.3562 663.741 L56.9077 663.741 L56.9077 675.804 L76.2594 675.804 Q80.6199 675.804 81.8613 674.626 Q83.1026 673.417 83.1026 669.757 L83.1026 663.741 L88.0042 663.741 L88.0042 669.757 Q88.0042 676.536 85.4897 679.114 Q82.9434 681.692 76.2594 681.692 L56.9077 681.692 L56.9077 685.989 L52.3562 685.989 L52.3562 681.692 L42.2347 681.692 L42.2347 675.804 Z\" fill=\"#000000\" fill-rule=\"evenodd\" fill-opacity=\"1\" /><path clip-path=\"url(#clip880)\" d=\"M 0 0 M57.8307 636.941 Q57.2578 637.928 57.0032 639.106 Q56.7167 640.252 56.7167 641.652 Q56.7167 646.617 59.9632 649.291 Q63.1779 651.933 69.2253 651.933 L88.0042 651.933 L88.0042 657.821 L52.3562 657.821 L52.3562 651.933 L57.8944 651.933 Q54.6479 650.087 53.0883 647.127 Q51.4968 644.166 51.4968 639.933 Q51.4968 639.329 51.5923 638.596 Q51.656 637.864 51.8151 636.973 L57.8307 636.941 Z\" fill=\"#000000\" fill-rule=\"evenodd\" fill-opacity=\"1\" /><path clip-path=\"url(#clip880)\" d=\"M 0 0 M56.4621 618.417 Q56.4621 623.128 60.1542 625.865 Q63.8145 628.602 70.212 628.602 Q76.6095 628.602 80.3017 625.897 Q83.9619 623.16 83.9619 618.417 Q83.9619 613.738 80.2698 611.001 Q76.5777 608.264 70.212 608.264 Q63.8781 608.264 60.186 611.001 Q56.4621 613.738 56.4621 618.417 M51.4968 618.417 Q51.4968 610.778 56.4621 606.418 Q61.4273 602.057 70.212 602.057 Q78.9649 602.057 83.9619 606.418 Q88.9272 610.778 88.9272 618.417 Q88.9272 626.088 83.9619 630.448 Q78.9649 634.777 70.212 634.777 Q61.4273 634.777 56.4621 630.448 Q51.4968 626.088 51.4968 618.417 Z\" fill=\"#000000\" fill-rule=\"evenodd\" fill-opacity=\"1\" /><path clip-path=\"url(#clip880)\" d=\"M 0 0 M82.657 590.249 L101.563 590.249 L101.563 596.137 L52.3562 596.137 L52.3562 590.249 L57.7671 590.249 Q54.5842 588.403 53.0564 585.602 Q51.4968 582.769 51.4968 578.854 Q51.4968 572.361 56.6531 568.319 Q61.8093 564.245 70.212 564.245 Q78.6147 564.245 83.771 568.319 Q88.9272 572.361 88.9272 578.854 Q88.9272 582.769 87.3994 585.602 Q85.8398 588.403 82.657 590.249 M70.212 570.324 Q63.7508 570.324 60.0905 572.998 Q56.3984 575.64 56.3984 580.287 Q56.3984 584.934 60.0905 587.607 Q63.7508 590.249 70.212 590.249 Q76.6732 590.249 80.3653 587.607 Q84.0256 584.934 84.0256 580.287 Q84.0256 575.64 80.3653 572.998 Q76.6732 570.324 70.212 570.324 Z\" fill=\"#000000\" fill-rule=\"evenodd\" fill-opacity=\"1\" /><path clip-path=\"url(#clip880)\" d=\"M 0 0 M91.3143 543.27 Q97.68 545.753 99.6216 548.108 Q101.563 550.463 101.563 554.41 L101.563 559.089 L96.6615 559.089 L96.6615 555.651 Q96.6615 553.232 95.5157 551.896 Q94.3699 550.559 90.1048 548.935 L87.4312 547.885 L52.3562 562.303 L52.3562 556.097 L80.238 544.957 L52.3562 533.817 L52.3562 527.61 L91.3143 543.27 Z\" fill=\"#000000\" fill-rule=\"evenodd\" fill-opacity=\"1\" /><polyline clip-path=\"url(#clip882)\" style=\"stroke:#009af9; stroke-width:4; stroke-opacity:1; fill:none\" points=\"\n",
       "  298.45,1383.88 332.838,1384.02 367.225,1384.24 401.613,1379.9 436,1381.08 470.388,1306.25 504.775,1254.37 539.162,1213.41 573.55,1233.22 607.937,1202.73 \n",
       "  642.325,1219.2 676.712,1195.36 711.1,1210 745.487,1222.36 779.874,1233.12 814.262,1241.89 848.649,1224.23 883.037,1233.19 917.424,1241.2 951.812,1180.31 \n",
       "  986.199,1233.25 1020.59,1191.22 1054.97,1219.51 1089.36,1185.62 1123.75,1214.62 1158.14,1157.75 1192.52,1166.15 1226.91,1303.49 1261.3,1118.66 1295.69,1248.41 \n",
       "  1330.07,1135.81 1364.46,1228.54 1398.85,1164.62 1433.24,1237.77 1467.62,1177.18 1502.01,1304.8 1536.4,1206.62 1570.79,1169.68 1605.17,1160.42 1639.56,1214.42 \n",
       "  1673.95,1273.88 1708.34,1287.31 1742.72,1193.84 1777.11,1312.47 1811.5,1283.72 1845.89,1283.02 1880.27,1259.16 1914.66,1290 1949.05,1178.76 1983.43,1271.76 \n",
       "  2017.82,1262.31 2052.21,1253.67 2086.6,1259.39 2120.98,1257.1 2155.37,1283.92 2189.76,1264.96 2224.15,1267.05 2258.53,1261.53 2292.92,1286.36 \n",
       "  \"/>\n",
       "<polyline clip-path=\"url(#clip882)\" style=\"stroke:#e26f46; stroke-width:4; stroke-opacity:1; fill:none\" points=\"\n",
       "  298.45,86.1857 332.838,212.881 367.225,296.365 401.613,385.318 436,258.214 470.388,389.174 504.775,304.519 539.162,400.058 573.55,359.235 607.937,502.064 \n",
       "  642.325,564.467 676.712,594.69 711.1,558.972 745.487,522.936 779.874,736.755 814.262,638.661 848.649,617.502 883.037,604.215 917.424,610.879 951.812,640.03 \n",
       "  986.199,665.992 1020.59,596.572 1054.97,501.639 1089.36,646.582 1123.75,625.525 1158.14,916.031 1192.52,850.522 1226.91,757.188 1261.3,845.937 1295.69,780.057 \n",
       "  1330.07,940.648 1364.46,824.712 1398.85,877.673 1433.24,806.368 1467.62,903.939 1502.01,561.345 1536.4,599.075 1570.79,776.934 1605.17,438.052 1639.56,731.139 \n",
       "  1673.95,638.003 1708.34,600.431 1742.72,852.198 1777.11,531.659 1811.5,743.417 1845.89,651.419 1880.27,655.22 1914.66,779.081 1949.05,776.349 1983.43,727.691 \n",
       "  2017.82,715.585 2052.21,796.949 2086.6,762.069 2120.98,666.109 2155.37,730.952 2189.76,718.872 2224.15,744.635 2258.53,738.171 2292.92,718.729 \n",
       "  \"/>\n",
       "<path clip-path=\"url(#clip880)\" d=\"\n",
       "M1848.05 274.549 L2282.28 274.549 L2282.28 93.1086 L1848.05 93.1086  Z\n",
       "  \" fill=\"#ffffff\" fill-rule=\"evenodd\" fill-opacity=\"1\"/>\n",
       "<polyline clip-path=\"url(#clip880)\" style=\"stroke:#000000; stroke-width:4; stroke-opacity:1; fill:none\" points=\"\n",
       "  1848.05,274.549 2282.28,274.549 2282.28,93.1086 1848.05,93.1086 1848.05,274.549 \n",
       "  \"/>\n",
       "<polyline clip-path=\"url(#clip880)\" style=\"stroke:#009af9; stroke-width:4; stroke-opacity:1; fill:none\" points=\"\n",
       "  1871.54,153.589 2012.49,153.589 \n",
       "  \"/>\n",
       "<path clip-path=\"url(#clip880)\" d=\"M 0 0 M2035.98 136.309 L2065.21 136.309 L2065.21 140.244 L2052.94 140.244 L2052.94 170.869 L2048.24 170.869 L2048.24 140.244 L2035.98 140.244 L2035.98 136.309 Z\" fill=\"#000000\" fill-rule=\"evenodd\" fill-opacity=\"1\" /><path clip-path=\"url(#clip880)\" d=\"M 0 0 M2077.74 148.924 Q2077.02 148.508 2076.16 148.322 Q2075.33 148.114 2074.31 148.114 Q2070.7 148.114 2068.75 150.475 Q2066.83 152.813 2066.83 157.211 L2066.83 170.869 L2062.55 170.869 L2062.55 144.943 L2066.83 144.943 L2066.83 148.971 Q2068.17 146.609 2070.33 145.475 Q2072.48 144.318 2075.56 144.318 Q2076 144.318 2076.53 144.387 Q2077.06 144.434 2077.71 144.549 L2077.74 148.924 Z\" fill=\"#000000\" fill-rule=\"evenodd\" fill-opacity=\"1\" /><path clip-path=\"url(#clip880)\" d=\"M 0 0 M2093.99 157.836 Q2088.82 157.836 2086.83 159.017 Q2084.84 160.197 2084.84 163.045 Q2084.84 165.313 2086.32 166.656 Q2087.83 167.975 2090.4 167.975 Q2093.94 167.975 2096.07 165.475 Q2098.22 162.952 2098.22 158.785 L2098.22 157.836 L2093.99 157.836 M2102.48 156.077 L2102.48 170.869 L2098.22 170.869 L2098.22 166.933 Q2096.76 169.295 2094.59 170.429 Q2092.41 171.54 2089.26 171.54 Q2085.28 171.54 2082.92 169.318 Q2080.58 167.072 2080.58 163.322 Q2080.58 158.947 2083.5 156.725 Q2086.44 154.503 2092.25 154.503 L2098.22 154.503 L2098.22 154.086 Q2098.22 151.147 2096.28 149.549 Q2094.36 147.929 2090.86 147.929 Q2088.64 147.929 2086.53 148.461 Q2084.42 148.994 2082.48 150.059 L2082.48 146.123 Q2084.82 145.221 2087.02 144.781 Q2089.22 144.318 2091.3 144.318 Q2096.92 144.318 2099.7 147.234 Q2102.48 150.151 2102.48 156.077 Z\" fill=\"#000000\" fill-rule=\"evenodd\" fill-opacity=\"1\" /><path clip-path=\"url(#clip880)\" d=\"M 0 0 M2106.95 144.943 L2111.21 144.943 L2111.21 170.869 L2106.95 170.869 L2106.95 144.943 M2106.95 134.85 L2111.21 134.85 L2111.21 140.244 L2106.95 140.244 L2106.95 134.85 Z\" fill=\"#000000\" fill-rule=\"evenodd\" fill-opacity=\"1\" /><path clip-path=\"url(#clip880)\" d=\"M 0 0 M2137.23 155.221 L2137.23 170.869 L2132.97 170.869 L2132.97 155.359 Q2132.97 151.679 2131.53 149.85 Q2130.1 148.022 2127.23 148.022 Q2123.78 148.022 2121.79 150.221 Q2119.8 152.42 2119.8 156.216 L2119.8 170.869 L2115.51 170.869 L2115.51 144.943 L2119.8 144.943 L2119.8 148.971 Q2121.32 146.633 2123.38 145.475 Q2125.47 144.318 2128.17 144.318 Q2132.64 144.318 2134.93 147.096 Q2137.23 149.85 2137.23 155.221 Z\" fill=\"#000000\" fill-rule=\"evenodd\" fill-opacity=\"1\" /><path clip-path=\"url(#clip880)\" d=\"M 0 0 M2141.69 144.943 L2145.95 144.943 L2145.95 170.869 L2141.69 170.869 L2141.69 144.943 M2141.69 134.85 L2145.95 134.85 L2145.95 140.244 L2141.69 140.244 L2141.69 134.85 Z\" fill=\"#000000\" fill-rule=\"evenodd\" fill-opacity=\"1\" /><path clip-path=\"url(#clip880)\" d=\"M 0 0 M2171.97 155.221 L2171.97 170.869 L2167.71 170.869 L2167.71 155.359 Q2167.71 151.679 2166.28 149.85 Q2164.84 148.022 2161.97 148.022 Q2158.52 148.022 2156.53 150.221 Q2154.54 152.42 2154.54 156.216 L2154.54 170.869 L2150.26 170.869 L2150.26 144.943 L2154.54 144.943 L2154.54 148.971 Q2156.07 146.633 2158.13 145.475 Q2160.21 144.318 2162.92 144.318 Q2167.39 144.318 2169.68 147.096 Q2171.97 149.85 2171.97 155.221 Z\" fill=\"#000000\" fill-rule=\"evenodd\" fill-opacity=\"1\" /><path clip-path=\"url(#clip880)\" d=\"M 0 0 M2193.5 157.605 Q2193.5 152.975 2191.58 150.429 Q2189.68 147.883 2186.23 147.883 Q2182.8 147.883 2180.88 150.429 Q2178.98 152.975 2178.98 157.605 Q2178.98 162.211 2180.88 164.758 Q2182.8 167.304 2186.23 167.304 Q2189.68 167.304 2191.58 164.758 Q2193.5 162.211 2193.5 157.605 M2197.76 167.651 Q2197.76 174.271 2194.82 177.489 Q2191.88 180.73 2185.81 180.73 Q2183.57 180.73 2181.58 180.382 Q2179.59 180.058 2177.71 179.364 L2177.71 175.22 Q2179.59 176.239 2181.42 176.725 Q2183.24 177.211 2185.14 177.211 Q2189.33 177.211 2191.42 175.012 Q2193.5 172.836 2193.5 168.415 L2193.5 166.308 Q2192.18 168.6 2190.12 169.734 Q2188.06 170.869 2185.19 170.869 Q2180.42 170.869 2177.5 167.234 Q2174.59 163.6 2174.59 157.605 Q2174.59 151.586 2177.5 147.952 Q2180.42 144.318 2185.19 144.318 Q2188.06 144.318 2190.12 145.452 Q2192.18 146.586 2193.5 148.878 L2193.5 144.943 L2197.76 144.943 L2197.76 167.651 Z\" fill=\"#000000\" fill-rule=\"evenodd\" fill-opacity=\"1\" /><polyline clip-path=\"url(#clip880)\" style=\"stroke:#e26f46; stroke-width:4; stroke-opacity:1; fill:none\" points=\"\n",
       "  1871.54,214.069 2012.49,214.069 \n",
       "  \"/>\n",
       "<path clip-path=\"url(#clip880)\" d=\"M 0 0 M2049.17 231.349 L2035.98 196.789 L2040.86 196.789 L2051.81 225.886 L2062.78 196.789 L2067.64 196.789 L2054.47 231.349 L2049.17 231.349 Z\" fill=\"#000000\" fill-rule=\"evenodd\" fill-opacity=\"1\" /><path clip-path=\"url(#clip880)\" d=\"M 0 0 M2080.21 218.316 Q2075.05 218.316 2073.06 219.497 Q2071.07 220.677 2071.07 223.525 Q2071.07 225.793 2072.55 227.136 Q2074.05 228.455 2076.62 228.455 Q2080.17 228.455 2082.3 225.955 Q2084.45 223.432 2084.45 219.265 L2084.45 218.316 L2080.21 218.316 M2088.71 216.557 L2088.71 231.349 L2084.45 231.349 L2084.45 227.413 Q2082.99 229.775 2080.81 230.909 Q2078.64 232.02 2075.49 232.02 Q2071.51 232.02 2069.15 229.798 Q2066.81 227.552 2066.81 223.802 Q2066.81 219.427 2069.73 217.205 Q2072.67 214.983 2078.48 214.983 L2084.45 214.983 L2084.45 214.566 Q2084.45 211.627 2082.5 210.029 Q2080.58 208.409 2077.09 208.409 Q2074.86 208.409 2072.76 208.941 Q2070.65 209.474 2068.71 210.539 L2068.71 206.603 Q2071.05 205.701 2073.24 205.261 Q2075.44 204.798 2077.53 204.798 Q2083.15 204.798 2085.93 207.714 Q2088.71 210.631 2088.71 216.557 Z\" fill=\"#000000\" fill-rule=\"evenodd\" fill-opacity=\"1\" /><path clip-path=\"url(#clip880)\" d=\"M 0 0 M2093.17 195.33 L2097.43 195.33 L2097.43 231.349 L2093.17 231.349 L2093.17 195.33 Z\" fill=\"#000000\" fill-rule=\"evenodd\" fill-opacity=\"1\" /><path clip-path=\"url(#clip880)\" d=\"M 0 0 M2101.9 205.423 L2106.16 205.423 L2106.16 231.349 L2101.9 231.349 L2101.9 205.423 M2101.9 195.33 L2106.16 195.33 L2106.16 200.724 L2101.9 200.724 L2101.9 195.33 Z\" fill=\"#000000\" fill-rule=\"evenodd\" fill-opacity=\"1\" /><path clip-path=\"url(#clip880)\" d=\"M 0 0 M2127.69 209.358 L2127.69 195.33 L2131.95 195.33 L2131.95 231.349 L2127.69 231.349 L2127.69 227.46 Q2126.35 229.775 2124.29 230.909 Q2122.25 232.02 2119.38 232.02 Q2114.68 232.02 2111.72 228.27 Q2108.78 224.52 2108.78 218.409 Q2108.78 212.298 2111.72 208.548 Q2114.68 204.798 2119.38 204.798 Q2122.25 204.798 2124.29 205.932 Q2126.35 207.043 2127.69 209.358 M2113.17 218.409 Q2113.17 223.108 2115.1 225.793 Q2117.04 228.455 2120.42 228.455 Q2123.8 228.455 2125.74 225.793 Q2127.69 223.108 2127.69 218.409 Q2127.69 213.71 2125.74 211.048 Q2123.8 208.363 2120.42 208.363 Q2117.04 208.363 2115.1 211.048 Q2113.17 213.71 2113.17 218.409 Z\" fill=\"#000000\" fill-rule=\"evenodd\" fill-opacity=\"1\" /><path clip-path=\"url(#clip880)\" d=\"M 0 0 M2148.2 218.316 Q2143.04 218.316 2141.04 219.497 Q2139.05 220.677 2139.05 223.525 Q2139.05 225.793 2140.54 227.136 Q2142.04 228.455 2144.61 228.455 Q2148.15 228.455 2150.28 225.955 Q2152.43 223.432 2152.43 219.265 L2152.43 218.316 L2148.2 218.316 M2156.69 216.557 L2156.69 231.349 L2152.43 231.349 L2152.43 227.413 Q2150.98 229.775 2148.8 230.909 Q2146.62 232.02 2143.48 232.02 Q2139.49 232.02 2137.13 229.798 Q2134.79 227.552 2134.79 223.802 Q2134.79 219.427 2137.71 217.205 Q2140.65 214.983 2146.46 214.983 L2152.43 214.983 L2152.43 214.566 Q2152.43 211.627 2150.49 210.029 Q2148.57 208.409 2145.07 208.409 Q2142.85 208.409 2140.74 208.941 Q2138.64 209.474 2136.69 210.539 L2136.69 206.603 Q2139.03 205.701 2141.23 205.261 Q2143.43 204.798 2145.51 204.798 Q2151.14 204.798 2153.92 207.714 Q2156.69 210.631 2156.69 216.557 Z\" fill=\"#000000\" fill-rule=\"evenodd\" fill-opacity=\"1\" /><path clip-path=\"url(#clip880)\" d=\"M 0 0 M2165.37 198.062 L2165.37 205.423 L2174.15 205.423 L2174.15 208.733 L2165.37 208.733 L2165.37 222.807 Q2165.37 225.978 2166.23 226.881 Q2167.11 227.784 2169.77 227.784 L2174.15 227.784 L2174.15 231.349 L2169.77 231.349 Q2164.84 231.349 2162.97 229.52 Q2161.09 227.668 2161.09 222.807 L2161.09 208.733 L2157.97 208.733 L2157.97 205.423 L2161.09 205.423 L2161.09 198.062 L2165.37 198.062 Z\" fill=\"#000000\" fill-rule=\"evenodd\" fill-opacity=\"1\" /><path clip-path=\"url(#clip880)\" d=\"M 0 0 M2178.61 205.423 L2182.87 205.423 L2182.87 231.349 L2178.61 231.349 L2178.61 205.423 M2178.61 195.33 L2182.87 195.33 L2182.87 200.724 L2178.61 200.724 L2178.61 195.33 Z\" fill=\"#000000\" fill-rule=\"evenodd\" fill-opacity=\"1\" /><path clip-path=\"url(#clip880)\" d=\"M 0 0 M2197.39 208.409 Q2193.96 208.409 2191.97 211.094 Q2189.98 213.756 2189.98 218.409 Q2189.98 223.062 2191.95 225.747 Q2193.94 228.409 2197.39 228.409 Q2200.79 228.409 2202.78 225.724 Q2204.77 223.038 2204.77 218.409 Q2204.77 213.802 2202.78 211.117 Q2200.79 208.409 2197.39 208.409 M2197.39 204.798 Q2202.94 204.798 2206.11 208.409 Q2209.29 212.02 2209.29 218.409 Q2209.29 224.775 2206.11 228.409 Q2202.94 232.02 2197.39 232.02 Q2191.81 232.02 2188.64 228.409 Q2185.49 224.775 2185.49 218.409 Q2185.49 212.02 2188.64 208.409 Q2191.81 204.798 2197.39 204.798 Z\" fill=\"#000000\" fill-rule=\"evenodd\" fill-opacity=\"1\" /><path clip-path=\"url(#clip880)\" d=\"M 0 0 M2235.3 215.701 L2235.3 231.349 L2231.04 231.349 L2231.04 215.839 Q2231.04 212.159 2229.61 210.33 Q2228.17 208.502 2225.3 208.502 Q2221.85 208.502 2219.86 210.701 Q2217.87 212.9 2217.87 216.696 L2217.87 231.349 L2213.59 231.349 L2213.59 205.423 L2217.87 205.423 L2217.87 209.451 Q2219.4 207.113 2221.46 205.955 Q2223.54 204.798 2226.25 204.798 Q2230.72 204.798 2233.01 207.576 Q2235.3 210.33 2235.3 215.701 Z\" fill=\"#000000\" fill-rule=\"evenodd\" fill-opacity=\"1\" /></svg>\n"
      ]
     },
     "execution_count": 91,
     "metadata": {},
     "output_type": "execute_result"
    }
   ],
   "source": [
    "plot(data_schedule, training_losses, label=\"Training\")\n",
    "plot!(data_schedule, valid_losses, label=\"Validation\")\n",
    "xlabel!(\"Number of Training Samples\")\n",
    "ylabel!(\"Cross Entropy\")"
   ]
  },
  {
   "cell_type": "code",
   "execution_count": 92,
   "metadata": {},
   "outputs": [],
   "source": [
    "png(\"Figures/loss_curve_NN\")"
   ]
  },
  {
   "cell_type": "markdown",
   "metadata": {},
   "source": [
    "#### Learning Curve"
   ]
  },
  {
   "cell_type": "code",
   "execution_count": 93,
   "metadata": {},
   "outputs": [
    {
     "name": "stderr",
     "output_type": "stream",
     "text": [
      "┌ Warning: The scitype of `X`, in `machine(model, X, ...)` is incompatible with `model=\u001b[34mNeuralNetworkClassifier{CustomNN,…} @779\u001b[39m`:\n",
      "│ scitype(X) = Table{Union{AbstractArray{Continuous,1}, AbstractArray{Count,1}}}\n",
      "│ input_scitype(model) = Table{var\"#s44\"} where var\"#s44\"<:(AbstractArray{var\"#s13\",1} where var\"#s13\"<:Continuous).\n",
      "└ @ MLJBase /home/andrew/.julia/packages/MLJBase/uKzAz/src/machines.jl:77\n",
      "┌ Info: Training \u001b[34mMachine{NeuralNetworkClassifier{CustomNN,…}} @518\u001b[39m.\n",
      "└ @ MLJBase /home/andrew/.julia/packages/MLJBase/uKzAz/src/machines.jl:319\n",
      "\u001b[33mOptimising neural net:100%[=========================] Time: 0:00:35\u001b[39m\n"
     ]
    },
    {
     "data": {
      "text/plain": [
       "\u001b[34mMachine{NeuralNetworkClassifier{CustomNN,…}} @518\u001b[39m trained 1 time.\n",
       "  args: \n",
       "    1:\t\u001b[34mSource @295\u001b[39m ⏎ `Table{Union{AbstractArray{Continuous,1}, AbstractArray{Count,1}}}`\n",
       "    2:\t\u001b[34mSource @952\u001b[39m ⏎ `AbstractArray{Multiclass{2},1}`\n"
      ]
     },
     "execution_count": 93,
     "metadata": {},
     "output_type": "execute_result"
    }
   ],
   "source": [
    "Net = machine(lc_model, X_stand, y)\n",
    "Net.model.epochs = max_epochs\n",
    "fit!(Net, rows=train, verbosity=1, force=true)"
   ]
  },
  {
   "cell_type": "code",
   "execution_count": 94,
   "metadata": {},
   "outputs": [
    {
     "name": "stderr",
     "output_type": "stream",
     "text": [
      "\u001b[33mEvaluating over 6 folds: 100%[=========================] Time: 0:03:31\u001b[39m\n"
     ]
    },
    {
     "data": {
      "text/plain": [
       "┌\u001b[0m───────────────\u001b[0m┬\u001b[0m───────────────\u001b[0m┬\u001b[0m──────────────────────────────────────────────────\u001b[0m┐\u001b[0m\n",
       "│\u001b[0m\u001b[22m _.measure     \u001b[0m│\u001b[0m\u001b[22m _.measurement \u001b[0m│\u001b[0m\u001b[22m _.per_fold                                       \u001b[0m│\u001b[0m\n",
       "├\u001b[0m───────────────\u001b[0m┼\u001b[0m───────────────\u001b[0m┼\u001b[0m──────────────────────────────────────────────────\u001b[0m┤\u001b[0m\n",
       "│\u001b[0m cross_entropy \u001b[0m│\u001b[0m 0.45          \u001b[0m│\u001b[0m Float32[0.42, 0.478, 0.443, 0.458, 0.438, 0.461] \u001b[0m│\u001b[0m\n",
       "│\u001b[0m acc           \u001b[0m│\u001b[0m 0.861         \u001b[0m│\u001b[0m [0.886, 0.835, 0.869, 0.841, 0.869, 0.863]       \u001b[0m│\u001b[0m\n",
       "└\u001b[0m───────────────\u001b[0m┴\u001b[0m───────────────\u001b[0m┴\u001b[0m──────────────────────────────────────────────────\u001b[0m┘\u001b[0m\n",
       "_.per_observation = [[[0.313, 0.313, ..., 0.313], [0.313, 0.313, ..., 0.313], [0.313, 0.313, ..., 1.31], [0.314, 0.313, ..., 0.313], [1.11, 1.31, ..., 0.313], [1.31, 0.313, ..., 0.313]], missing]\n",
       "_.fitted_params_per_fold = [ … ]\n",
       "_.report_per_fold = [ … ]\n"
      ]
     },
     "execution_count": 94,
     "metadata": {},
     "output_type": "execute_result"
    }
   ],
   "source": [
    "nn_acc = evaluate!(Net, resampling=CV(shuffle=true), measure=[cross_entropy, acc], verbosity=1)"
   ]
  },
  {
   "cell_type": "code",
   "execution_count": 134,
   "metadata": {
    "scrolled": true
   },
   "outputs": [
    {
     "data": {
      "text/plain": [
       "MLJBase.NumericRange(Int64, :epochs, ... )"
      ]
     },
     "execution_count": 134,
     "metadata": {},
     "output_type": "execute_result"
    }
   ],
   "source": [
    "r = range(nn, :epochs, lower=1, upper=2000, scale=:log10)"
   ]
  },
  {
   "cell_type": "code",
   "execution_count": 139,
   "metadata": {
    "scrolled": true
   },
   "outputs": [
    {
     "name": "stderr",
     "output_type": "stream",
     "text": [
      "┌ Info: Training \u001b[34mMachine{ProbabilisticTunedModel{Grid,…}} @127\u001b[39m.\n",
      "└ @ MLJBase /home/andrew/.julia/packages/MLJBase/uKzAz/src/machines.jl:319\n",
      "┌ Info: Attempting to evaluate 140 models.\n",
      "└ @ MLJTuning /home/andrew/.julia/packages/MLJTuning/Bbgvk/src/tuned_models.jl:494\n",
      "┌ Warning: The scitype of `X`, in `machine(model, X, ...)` is incompatible with `model=\u001b[34mResampler{CV,…} @820\u001b[39m`:\n",
      "│ scitype(X) = Table{Union{AbstractArray{Continuous,1}, AbstractArray{Count,1}}}\n",
      "│ input_scitype(model) = Table{var\"#s44\"} where var\"#s44\"<:(AbstractArray{var\"#s13\",1} where var\"#s13\"<:Continuous).\n",
      "└ @ MLJBase /home/andrew/.julia/packages/MLJBase/uKzAz/src/machines.jl:77\n",
      "\u001b[33mEvaluating over 140 metamodels:   0%[>                        ]  ETA: N/A\u001b[39m┌ Warning: The scitype of `X`, in `machine(model, X, ...)` is incompatible with `model=\u001b[34mNeuralNetworkClassifier{CustomNN,…} @441\u001b[39m`:\n",
      "│ scitype(X) = Table{Union{AbstractArray{Continuous,1}, AbstractArray{Count,1}}}\n",
      "│ input_scitype(model) = Table{var\"#s44\"} where var\"#s44\"<:(AbstractArray{var\"#s13\",1} where var\"#s13\"<:Continuous).\n",
      "└ @ MLJBase /home/andrew/.julia/packages/MLJBase/uKzAz/src/machines.jl:77\n",
      "\u001b[33mEvaluating over 140 metamodels:   1%[>                        ]  ETA: 0:00:11\u001b[39m┌ Warning: The scitype of `X`, in `machine(model, X, ...)` is incompatible with `model=\u001b[34mNeuralNetworkClassifier{CustomNN,…} @143\u001b[39m`:\n",
      "│ scitype(X) = Table{Union{AbstractArray{Continuous,1}, AbstractArray{Count,1}}}\n",
      "│ input_scitype(model) = Table{var\"#s44\"} where var\"#s44\"<:(AbstractArray{var\"#s13\",1} where var\"#s13\"<:Continuous).\n",
      "└ @ MLJBase /home/andrew/.julia/packages/MLJBase/uKzAz/src/machines.jl:77\n",
      "\u001b[33mEvaluating over 140 metamodels:   1%[>                        ]  ETA: 0:00:15\u001b[39m┌ Warning: The scitype of `X`, in `machine(model, X, ...)` is incompatible with `model=\u001b[34mNeuralNetworkClassifier{CustomNN,…} @690\u001b[39m`:\n",
      "│ scitype(X) = Table{Union{AbstractArray{Continuous,1}, AbstractArray{Count,1}}}\n",
      "│ input_scitype(model) = Table{var\"#s44\"} where var\"#s44\"<:(AbstractArray{var\"#s13\",1} where var\"#s13\"<:Continuous).\n",
      "└ @ MLJBase /home/andrew/.julia/packages/MLJBase/uKzAz/src/machines.jl:77\n",
      "\u001b[33mEvaluating over 140 metamodels:   2%[>                        ]  ETA: 0:00:19\u001b[39m┌ Warning: The scitype of `X`, in `machine(model, X, ...)` is incompatible with `model=\u001b[34mNeuralNetworkClassifier{CustomNN,…} @375\u001b[39m`:\n",
      "│ scitype(X) = Table{Union{AbstractArray{Continuous,1}, AbstractArray{Count,1}}}\n",
      "│ input_scitype(model) = Table{var\"#s44\"} where var\"#s44\"<:(AbstractArray{var\"#s13\",1} where var\"#s13\"<:Continuous).\n",
      "└ @ MLJBase /home/andrew/.julia/packages/MLJBase/uKzAz/src/machines.jl:77\n",
      "\u001b[33mEvaluating over 140 metamodels:   3%[>                        ]  ETA: 0:00:23\u001b[39m┌ Warning: The scitype of `X`, in `machine(model, X, ...)` is incompatible with `model=\u001b[34mNeuralNetworkClassifier{CustomNN,…} @319\u001b[39m`:\n",
      "│ scitype(X) = Table{Union{AbstractArray{Continuous,1}, AbstractArray{Count,1}}}\n",
      "│ input_scitype(model) = Table{var\"#s44\"} where var\"#s44\"<:(AbstractArray{var\"#s13\",1} where var\"#s13\"<:Continuous).\n",
      "└ @ MLJBase /home/andrew/.julia/packages/MLJBase/uKzAz/src/machines.jl:77\n",
      "\u001b[33mEvaluating over 140 metamodels:   4%[>                        ]  ETA: 0:00:27\u001b[39m┌ Warning: The scitype of `X`, in `machine(model, X, ...)` is incompatible with `model=\u001b[34mNeuralNetworkClassifier{CustomNN,…} @335\u001b[39m`:\n",
      "│ scitype(X) = Table{Union{AbstractArray{Continuous,1}, AbstractArray{Count,1}}}\n",
      "│ input_scitype(model) = Table{var\"#s44\"} where var\"#s44\"<:(AbstractArray{var\"#s13\",1} where var\"#s13\"<:Continuous).\n",
      "└ @ MLJBase /home/andrew/.julia/packages/MLJBase/uKzAz/src/machines.jl:77\n",
      "\u001b[33mEvaluating over 140 metamodels:   4%[=>                       ]  ETA: 0:00:31\u001b[39m┌ Warning: The scitype of `X`, in `machine(model, X, ...)` is incompatible with `model=\u001b[34mNeuralNetworkClassifier{CustomNN,…} @959\u001b[39m`:\n",
      "│ scitype(X) = Table{Union{AbstractArray{Continuous,1}, AbstractArray{Count,1}}}\n",
      "│ input_scitype(model) = Table{var\"#s44\"} where var\"#s44\"<:(AbstractArray{var\"#s13\",1} where var\"#s13\"<:Continuous).\n",
      "└ @ MLJBase /home/andrew/.julia/packages/MLJBase/uKzAz/src/machines.jl:77\n",
      "\u001b[33mEvaluating over 140 metamodels:   5%[=>                       ]  ETA: 0:00:36\u001b[39m┌ Warning: The scitype of `X`, in `machine(model, X, ...)` is incompatible with `model=\u001b[34mNeuralNetworkClassifier{CustomNN,…} @337\u001b[39m`:\n",
      "│ scitype(X) = Table{Union{AbstractArray{Continuous,1}, AbstractArray{Count,1}}}\n",
      "│ input_scitype(model) = Table{var\"#s44\"} where var\"#s44\"<:(AbstractArray{var\"#s13\",1} where var\"#s13\"<:Continuous).\n",
      "└ @ MLJBase /home/andrew/.julia/packages/MLJBase/uKzAz/src/machines.jl:77\n",
      "\u001b[33mEvaluating over 140 metamodels:   6%[=>                       ]  ETA: 0:00:39\u001b[39m┌ Warning: The scitype of `X`, in `machine(model, X, ...)` is incompatible with `model=\u001b[34mNeuralNetworkClassifier{CustomNN,…} @694\u001b[39m`:\n",
      "│ scitype(X) = Table{Union{AbstractArray{Continuous,1}, AbstractArray{Count,1}}}\n",
      "│ input_scitype(model) = Table{var\"#s44\"} where var\"#s44\"<:(AbstractArray{var\"#s13\",1} where var\"#s13\"<:Continuous).\n",
      "└ @ MLJBase /home/andrew/.julia/packages/MLJBase/uKzAz/src/machines.jl:77\n",
      "\u001b[33mEvaluating over 140 metamodels:   6%[=>                       ]  ETA: 0:00:43\u001b[39m┌ Warning: The scitype of `X`, in `machine(model, X, ...)` is incompatible with `model=\u001b[34mNeuralNetworkClassifier{CustomNN,…} @008\u001b[39m`:\n",
      "│ scitype(X) = Table{Union{AbstractArray{Continuous,1}, AbstractArray{Count,1}}}\n",
      "│ input_scitype(model) = Table{var\"#s44\"} where var\"#s44\"<:(AbstractArray{var\"#s13\",1} where var\"#s13\"<:Continuous).\n",
      "└ @ MLJBase /home/andrew/.julia/packages/MLJBase/uKzAz/src/machines.jl:77\n",
      "\u001b[33mEvaluating over 140 metamodels:   7%[=>                       ]  ETA: 0:00:47\u001b[39m┌ Warning: The scitype of `X`, in `machine(model, X, ...)` is incompatible with `model=\u001b[34mNeuralNetworkClassifier{CustomNN,…} @867\u001b[39m`:\n",
      "│ scitype(X) = Table{Union{AbstractArray{Continuous,1}, AbstractArray{Count,1}}}\n",
      "│ input_scitype(model) = Table{var\"#s44\"} where var\"#s44\"<:(AbstractArray{var\"#s13\",1} where var\"#s13\"<:Continuous).\n",
      "└ @ MLJBase /home/andrew/.julia/packages/MLJBase/uKzAz/src/machines.jl:77\n",
      "\u001b[33mEvaluating over 140 metamodels:   8%[=>                       ]  ETA: 0:00:50\u001b[39m┌ Warning: The scitype of `X`, in `machine(model, X, ...)` is incompatible with `model=\u001b[34mNeuralNetworkClassifier{CustomNN,…} @815\u001b[39m`:\n",
      "│ scitype(X) = Table{Union{AbstractArray{Continuous,1}, AbstractArray{Count,1}}}\n",
      "│ input_scitype(model) = Table{var\"#s44\"} where var\"#s44\"<:(AbstractArray{var\"#s13\",1} where var\"#s13\"<:Continuous).\n",
      "└ @ MLJBase /home/andrew/.julia/packages/MLJBase/uKzAz/src/machines.jl:77\n",
      "\u001b[33mEvaluating over 140 metamodels:   9%[==>                      ]  ETA: 0:00:55\u001b[39m┌ Warning: The scitype of `X`, in `machine(model, X, ...)` is incompatible with `model=\u001b[34mNeuralNetworkClassifier{CustomNN,…} @806\u001b[39m`:\n",
      "│ scitype(X) = Table{Union{AbstractArray{Continuous,1}, AbstractArray{Count,1}}}\n",
      "│ input_scitype(model) = Table{var\"#s44\"} where var\"#s44\"<:(AbstractArray{var\"#s13\",1} where var\"#s13\"<:Continuous).\n",
      "└ @ MLJBase /home/andrew/.julia/packages/MLJBase/uKzAz/src/machines.jl:77\n",
      "\u001b[33mEvaluating over 140 metamodels:   9%[==>                      ]  ETA: 0:00:59\u001b[39m┌ Warning: The scitype of `X`, in `machine(model, X, ...)` is incompatible with `model=\u001b[34mNeuralNetworkClassifier{CustomNN,…} @625\u001b[39m`:\n",
      "│ scitype(X) = Table{Union{AbstractArray{Continuous,1}, AbstractArray{Count,1}}}\n",
      "│ input_scitype(model) = Table{var\"#s44\"} where var\"#s44\"<:(AbstractArray{var\"#s13\",1} where var\"#s13\"<:Continuous).\n",
      "└ @ MLJBase /home/andrew/.julia/packages/MLJBase/uKzAz/src/machines.jl:77\n",
      "\u001b[33mEvaluating over 140 metamodels:  10%[==>                      ]  ETA: 0:01:04\u001b[39m┌ Warning: The scitype of `X`, in `machine(model, X, ...)` is incompatible with `model=\u001b[34mNeuralNetworkClassifier{CustomNN,…} @306\u001b[39m`:\n",
      "│ scitype(X) = Table{Union{AbstractArray{Continuous,1}, AbstractArray{Count,1}}}\n",
      "│ input_scitype(model) = Table{var\"#s44\"} where var\"#s44\"<:(AbstractArray{var\"#s13\",1} where var\"#s13\"<:Continuous).\n",
      "└ @ MLJBase /home/andrew/.julia/packages/MLJBase/uKzAz/src/machines.jl:77\n"
     ]
    },
    {
     "name": "stderr",
     "output_type": "stream",
     "text": [
      "\u001b[33mEvaluating over 140 metamodels:  11%[==>                      ]  ETA: 0:01:08\u001b[39m┌ Warning: The scitype of `X`, in `machine(model, X, ...)` is incompatible with `model=\u001b[34mNeuralNetworkClassifier{CustomNN,…} @716\u001b[39m`:\n",
      "│ scitype(X) = Table{Union{AbstractArray{Continuous,1}, AbstractArray{Count,1}}}\n",
      "│ input_scitype(model) = Table{var\"#s44\"} where var\"#s44\"<:(AbstractArray{var\"#s13\",1} where var\"#s13\"<:Continuous).\n",
      "└ @ MLJBase /home/andrew/.julia/packages/MLJBase/uKzAz/src/machines.jl:77\n",
      "\u001b[33mEvaluating over 140 metamodels:  11%[==>                      ]  ETA: 0:01:12\u001b[39m┌ Warning: The scitype of `X`, in `machine(model, X, ...)` is incompatible with `model=\u001b[34mNeuralNetworkClassifier{CustomNN,…} @748\u001b[39m`:\n",
      "│ scitype(X) = Table{Union{AbstractArray{Continuous,1}, AbstractArray{Count,1}}}\n",
      "│ input_scitype(model) = Table{var\"#s44\"} where var\"#s44\"<:(AbstractArray{var\"#s13\",1} where var\"#s13\"<:Continuous).\n",
      "└ @ MLJBase /home/andrew/.julia/packages/MLJBase/uKzAz/src/machines.jl:77\n",
      "\u001b[33mEvaluating over 140 metamodels:  12%[===>                     ]  ETA: 0:01:16\u001b[39m┌ Warning: The scitype of `X`, in `machine(model, X, ...)` is incompatible with `model=\u001b[34mNeuralNetworkClassifier{CustomNN,…} @215\u001b[39m`:\n",
      "│ scitype(X) = Table{Union{AbstractArray{Continuous,1}, AbstractArray{Count,1}}}\n",
      "│ input_scitype(model) = Table{var\"#s44\"} where var\"#s44\"<:(AbstractArray{var\"#s13\",1} where var\"#s13\"<:Continuous).\n",
      "└ @ MLJBase /home/andrew/.julia/packages/MLJBase/uKzAz/src/machines.jl:77\n",
      "\u001b[33mEvaluating over 140 metamodels:  13%[===>                     ]  ETA: 0:01:19\u001b[39m┌ Warning: The scitype of `X`, in `machine(model, X, ...)` is incompatible with `model=\u001b[34mNeuralNetworkClassifier{CustomNN,…} @768\u001b[39m`:\n",
      "│ scitype(X) = Table{Union{AbstractArray{Continuous,1}, AbstractArray{Count,1}}}\n",
      "│ input_scitype(model) = Table{var\"#s44\"} where var\"#s44\"<:(AbstractArray{var\"#s13\",1} where var\"#s13\"<:Continuous).\n",
      "└ @ MLJBase /home/andrew/.julia/packages/MLJBase/uKzAz/src/machines.jl:77\n",
      "\u001b[33mEvaluating over 140 metamodels:  14%[===>                     ]  ETA: 0:01:23\u001b[39m┌ Warning: The scitype of `X`, in `machine(model, X, ...)` is incompatible with `model=\u001b[34mNeuralNetworkClassifier{CustomNN,…} @183\u001b[39m`:\n",
      "│ scitype(X) = Table{Union{AbstractArray{Continuous,1}, AbstractArray{Count,1}}}\n",
      "│ input_scitype(model) = Table{var\"#s44\"} where var\"#s44\"<:(AbstractArray{var\"#s13\",1} where var\"#s13\"<:Continuous).\n",
      "└ @ MLJBase /home/andrew/.julia/packages/MLJBase/uKzAz/src/machines.jl:77\n",
      "\u001b[33mEvaluating over 140 metamodels:  14%[===>                     ]  ETA: 0:01:27\u001b[39m┌ Warning: The scitype of `X`, in `machine(model, X, ...)` is incompatible with `model=\u001b[34mNeuralNetworkClassifier{CustomNN,…} @998\u001b[39m`:\n",
      "│ scitype(X) = Table{Union{AbstractArray{Continuous,1}, AbstractArray{Count,1}}}\n",
      "│ input_scitype(model) = Table{var\"#s44\"} where var\"#s44\"<:(AbstractArray{var\"#s13\",1} where var\"#s13\"<:Continuous).\n",
      "└ @ MLJBase /home/andrew/.julia/packages/MLJBase/uKzAz/src/machines.jl:77\n",
      "\u001b[33mEvaluating over 140 metamodels:  15%[===>                     ]  ETA: 0:01:31\u001b[39m┌ Warning: The scitype of `X`, in `machine(model, X, ...)` is incompatible with `model=\u001b[34mNeuralNetworkClassifier{CustomNN,…} @535\u001b[39m`:\n",
      "│ scitype(X) = Table{Union{AbstractArray{Continuous,1}, AbstractArray{Count,1}}}\n",
      "│ input_scitype(model) = Table{var\"#s44\"} where var\"#s44\"<:(AbstractArray{var\"#s13\",1} where var\"#s13\"<:Continuous).\n",
      "└ @ MLJBase /home/andrew/.julia/packages/MLJBase/uKzAz/src/machines.jl:77\n",
      "\u001b[33mEvaluating over 140 metamodels:  16%[===>                     ]  ETA: 0:01:33\u001b[39m┌ Warning: The scitype of `X`, in `machine(model, X, ...)` is incompatible with `model=\u001b[34mNeuralNetworkClassifier{CustomNN,…} @328\u001b[39m`:\n",
      "│ scitype(X) = Table{Union{AbstractArray{Continuous,1}, AbstractArray{Count,1}}}\n",
      "│ input_scitype(model) = Table{var\"#s44\"} where var\"#s44\"<:(AbstractArray{var\"#s13\",1} where var\"#s13\"<:Continuous).\n",
      "└ @ MLJBase /home/andrew/.julia/packages/MLJBase/uKzAz/src/machines.jl:77\n",
      "\u001b[33mEvaluating over 140 metamodels:  16%[====>                    ]  ETA: 0:01:36\u001b[39m┌ Warning: The scitype of `X`, in `machine(model, X, ...)` is incompatible with `model=\u001b[34mNeuralNetworkClassifier{CustomNN,…} @691\u001b[39m`:\n",
      "│ scitype(X) = Table{Union{AbstractArray{Continuous,1}, AbstractArray{Count,1}}}\n",
      "│ input_scitype(model) = Table{var\"#s44\"} where var\"#s44\"<:(AbstractArray{var\"#s13\",1} where var\"#s13\"<:Continuous).\n",
      "└ @ MLJBase /home/andrew/.julia/packages/MLJBase/uKzAz/src/machines.jl:77\n",
      "\u001b[33mEvaluating over 140 metamodels:  17%[====>                    ]  ETA: 0:01:38\u001b[39m┌ Warning: The scitype of `X`, in `machine(model, X, ...)` is incompatible with `model=\u001b[34mNeuralNetworkClassifier{CustomNN,…} @541\u001b[39m`:\n",
      "│ scitype(X) = Table{Union{AbstractArray{Continuous,1}, AbstractArray{Count,1}}}\n",
      "│ input_scitype(model) = Table{var\"#s44\"} where var\"#s44\"<:(AbstractArray{var\"#s13\",1} where var\"#s13\"<:Continuous).\n",
      "└ @ MLJBase /home/andrew/.julia/packages/MLJBase/uKzAz/src/machines.jl:77\n",
      "\u001b[33mEvaluating over 140 metamodels:  18%[====>                    ]  ETA: 0:01:41\u001b[39m┌ Warning: The scitype of `X`, in `machine(model, X, ...)` is incompatible with `model=\u001b[34mNeuralNetworkClassifier{CustomNN,…} @849\u001b[39m`:\n",
      "│ scitype(X) = Table{Union{AbstractArray{Continuous,1}, AbstractArray{Count,1}}}\n",
      "│ input_scitype(model) = Table{var\"#s44\"} where var\"#s44\"<:(AbstractArray{var\"#s13\",1} where var\"#s13\"<:Continuous).\n",
      "└ @ MLJBase /home/andrew/.julia/packages/MLJBase/uKzAz/src/machines.jl:77\n",
      "\u001b[33mEvaluating over 140 metamodels:  19%[====>                    ]  ETA: 0:01:43\u001b[39m┌ Warning: The scitype of `X`, in `machine(model, X, ...)` is incompatible with `model=\u001b[34mNeuralNetworkClassifier{CustomNN,…} @629\u001b[39m`:\n",
      "│ scitype(X) = Table{Union{AbstractArray{Continuous,1}, AbstractArray{Count,1}}}\n",
      "│ input_scitype(model) = Table{var\"#s44\"} where var\"#s44\"<:(AbstractArray{var\"#s13\",1} where var\"#s13\"<:Continuous).\n",
      "└ @ MLJBase /home/andrew/.julia/packages/MLJBase/uKzAz/src/machines.jl:77\n",
      "\u001b[33mEvaluating over 140 metamodels:  19%[====>                    ]  ETA: 0:01:45\u001b[39m┌ Warning: The scitype of `X`, in `machine(model, X, ...)` is incompatible with `model=\u001b[34mNeuralNetworkClassifier{CustomNN,…} @566\u001b[39m`:\n",
      "│ scitype(X) = Table{Union{AbstractArray{Continuous,1}, AbstractArray{Count,1}}}\n",
      "│ input_scitype(model) = Table{var\"#s44\"} where var\"#s44\"<:(AbstractArray{var\"#s13\",1} where var\"#s13\"<:Continuous).\n",
      "└ @ MLJBase /home/andrew/.julia/packages/MLJBase/uKzAz/src/machines.jl:77\n",
      "\u001b[33mEvaluating over 140 metamodels:  20%[=====>                   ]  ETA: 0:01:47\u001b[39m┌ Warning: The scitype of `X`, in `machine(model, X, ...)` is incompatible with `model=\u001b[34mNeuralNetworkClassifier{CustomNN,…} @806\u001b[39m`:\n",
      "│ scitype(X) = Table{Union{AbstractArray{Continuous,1}, AbstractArray{Count,1}}}\n",
      "│ input_scitype(model) = Table{var\"#s44\"} where var\"#s44\"<:(AbstractArray{var\"#s13\",1} where var\"#s13\"<:Continuous).\n",
      "└ @ MLJBase /home/andrew/.julia/packages/MLJBase/uKzAz/src/machines.jl:77\n",
      "\u001b[33mEvaluating over 140 metamodels:  21%[=====>                   ]  ETA: 0:01:50\u001b[39m┌ Warning: The scitype of `X`, in `machine(model, X, ...)` is incompatible with `model=\u001b[34mNeuralNetworkClassifier{CustomNN,…} @653\u001b[39m`:\n",
      "│ scitype(X) = Table{Union{AbstractArray{Continuous,1}, AbstractArray{Count,1}}}\n",
      "│ input_scitype(model) = Table{var\"#s44\"} where var\"#s44\"<:(AbstractArray{var\"#s13\",1} where var\"#s13\"<:Continuous).\n",
      "└ @ MLJBase /home/andrew/.julia/packages/MLJBase/uKzAz/src/machines.jl:77\n",
      "\u001b[33mEvaluating over 140 metamodels:  21%[=====>                   ]  ETA: 0:01:52\u001b[39m┌ Warning: The scitype of `X`, in `machine(model, X, ...)` is incompatible with `model=\u001b[34mNeuralNetworkClassifier{CustomNN,…} @491\u001b[39m`:\n",
      "│ scitype(X) = Table{Union{AbstractArray{Continuous,1}, AbstractArray{Count,1}}}\n",
      "│ input_scitype(model) = Table{var\"#s44\"} where var\"#s44\"<:(AbstractArray{var\"#s13\",1} where var\"#s13\"<:Continuous).\n",
      "└ @ MLJBase /home/andrew/.julia/packages/MLJBase/uKzAz/src/machines.jl:77\n",
      "\u001b[33mEvaluating over 140 metamodels:  22%[=====>                   ]  ETA: 0:01:54\u001b[39m┌ Warning: The scitype of `X`, in `machine(model, X, ...)` is incompatible with `model=\u001b[34mNeuralNetworkClassifier{CustomNN,…} @548\u001b[39m`:\n",
      "│ scitype(X) = Table{Union{AbstractArray{Continuous,1}, AbstractArray{Count,1}}}\n",
      "│ input_scitype(model) = Table{var\"#s44\"} where var\"#s44\"<:(AbstractArray{var\"#s13\",1} where var\"#s13\"<:Continuous).\n",
      "└ @ MLJBase /home/andrew/.julia/packages/MLJBase/uKzAz/src/machines.jl:77\n"
     ]
    },
    {
     "name": "stderr",
     "output_type": "stream",
     "text": [
      "\u001b[33mEvaluating over 140 metamodels:  23%[=====>                   ]  ETA: 0:01:56\u001b[39m┌ Warning: The scitype of `X`, in `machine(model, X, ...)` is incompatible with `model=\u001b[34mNeuralNetworkClassifier{CustomNN,…} @421\u001b[39m`:\n",
      "│ scitype(X) = Table{Union{AbstractArray{Continuous,1}, AbstractArray{Count,1}}}\n",
      "│ input_scitype(model) = Table{var\"#s44\"} where var\"#s44\"<:(AbstractArray{var\"#s13\",1} where var\"#s13\"<:Continuous).\n",
      "└ @ MLJBase /home/andrew/.julia/packages/MLJBase/uKzAz/src/machines.jl:77\n",
      "\u001b[33mEvaluating over 140 metamodels:  24%[=====>                   ]  ETA: 0:01:58\u001b[39m┌ Warning: The scitype of `X`, in `machine(model, X, ...)` is incompatible with `model=\u001b[34mNeuralNetworkClassifier{CustomNN,…} @255\u001b[39m`:\n",
      "│ scitype(X) = Table{Union{AbstractArray{Continuous,1}, AbstractArray{Count,1}}}\n",
      "│ input_scitype(model) = Table{var\"#s44\"} where var\"#s44\"<:(AbstractArray{var\"#s13\",1} where var\"#s13\"<:Continuous).\n",
      "└ @ MLJBase /home/andrew/.julia/packages/MLJBase/uKzAz/src/machines.jl:77\n",
      "\u001b[33mEvaluating over 140 metamodels:  24%[======>                  ]  ETA: 0:02:00\u001b[39m┌ Warning: The scitype of `X`, in `machine(model, X, ...)` is incompatible with `model=\u001b[34mNeuralNetworkClassifier{CustomNN,…} @006\u001b[39m`:\n",
      "│ scitype(X) = Table{Union{AbstractArray{Continuous,1}, AbstractArray{Count,1}}}\n",
      "│ input_scitype(model) = Table{var\"#s44\"} where var\"#s44\"<:(AbstractArray{var\"#s13\",1} where var\"#s13\"<:Continuous).\n",
      "└ @ MLJBase /home/andrew/.julia/packages/MLJBase/uKzAz/src/machines.jl:77\n",
      "\u001b[33mEvaluating over 140 metamodels:  25%[======>                  ]  ETA: 0:02:02\u001b[39m┌ Warning: The scitype of `X`, in `machine(model, X, ...)` is incompatible with `model=\u001b[34mNeuralNetworkClassifier{CustomNN,…} @095\u001b[39m`:\n",
      "│ scitype(X) = Table{Union{AbstractArray{Continuous,1}, AbstractArray{Count,1}}}\n",
      "│ input_scitype(model) = Table{var\"#s44\"} where var\"#s44\"<:(AbstractArray{var\"#s13\",1} where var\"#s13\"<:Continuous).\n",
      "└ @ MLJBase /home/andrew/.julia/packages/MLJBase/uKzAz/src/machines.jl:77\n",
      "\u001b[33mEvaluating over 140 metamodels:  26%[======>                  ]  ETA: 0:02:04\u001b[39m┌ Warning: The scitype of `X`, in `machine(model, X, ...)` is incompatible with `model=\u001b[34mNeuralNetworkClassifier{CustomNN,…} @799\u001b[39m`:\n",
      "│ scitype(X) = Table{Union{AbstractArray{Continuous,1}, AbstractArray{Count,1}}}\n",
      "│ input_scitype(model) = Table{var\"#s44\"} where var\"#s44\"<:(AbstractArray{var\"#s13\",1} where var\"#s13\"<:Continuous).\n",
      "└ @ MLJBase /home/andrew/.julia/packages/MLJBase/uKzAz/src/machines.jl:77\n",
      "\u001b[33mEvaluating over 140 metamodels:  26%[======>                  ]  ETA: 0:02:06\u001b[39m┌ Warning: The scitype of `X`, in `machine(model, X, ...)` is incompatible with `model=\u001b[34mNeuralNetworkClassifier{CustomNN,…} @967\u001b[39m`:\n",
      "│ scitype(X) = Table{Union{AbstractArray{Continuous,1}, AbstractArray{Count,1}}}\n",
      "│ input_scitype(model) = Table{var\"#s44\"} where var\"#s44\"<:(AbstractArray{var\"#s13\",1} where var\"#s13\"<:Continuous).\n",
      "└ @ MLJBase /home/andrew/.julia/packages/MLJBase/uKzAz/src/machines.jl:77\n",
      "\u001b[33mEvaluating over 140 metamodels:  27%[======>                  ]  ETA: 0:02:08\u001b[39m┌ Warning: The scitype of `X`, in `machine(model, X, ...)` is incompatible with `model=\u001b[34mNeuralNetworkClassifier{CustomNN,…} @903\u001b[39m`:\n",
      "│ scitype(X) = Table{Union{AbstractArray{Continuous,1}, AbstractArray{Count,1}}}\n",
      "│ input_scitype(model) = Table{var\"#s44\"} where var\"#s44\"<:(AbstractArray{var\"#s13\",1} where var\"#s13\"<:Continuous).\n",
      "└ @ MLJBase /home/andrew/.julia/packages/MLJBase/uKzAz/src/machines.jl:77\n",
      "\u001b[33mEvaluating over 140 metamodels:  28%[======>                  ]  ETA: 0:02:11\u001b[39m┌ Warning: The scitype of `X`, in `machine(model, X, ...)` is incompatible with `model=\u001b[34mNeuralNetworkClassifier{CustomNN,…} @711\u001b[39m`:\n",
      "│ scitype(X) = Table{Union{AbstractArray{Continuous,1}, AbstractArray{Count,1}}}\n",
      "│ input_scitype(model) = Table{var\"#s44\"} where var\"#s44\"<:(AbstractArray{var\"#s13\",1} where var\"#s13\"<:Continuous).\n",
      "└ @ MLJBase /home/andrew/.julia/packages/MLJBase/uKzAz/src/machines.jl:77\n",
      "\u001b[33mEvaluating over 140 metamodels:  29%[=======>                 ]  ETA: 0:02:13\u001b[39m┌ Warning: The scitype of `X`, in `machine(model, X, ...)` is incompatible with `model=\u001b[34mNeuralNetworkClassifier{CustomNN,…} @418\u001b[39m`:\n",
      "│ scitype(X) = Table{Union{AbstractArray{Continuous,1}, AbstractArray{Count,1}}}\n",
      "│ input_scitype(model) = Table{var\"#s44\"} where var\"#s44\"<:(AbstractArray{var\"#s13\",1} where var\"#s13\"<:Continuous).\n",
      "└ @ MLJBase /home/andrew/.julia/packages/MLJBase/uKzAz/src/machines.jl:77\n",
      "\u001b[33mEvaluating over 140 metamodels:  29%[=======>                 ]  ETA: 0:02:15\u001b[39m┌ Warning: The scitype of `X`, in `machine(model, X, ...)` is incompatible with `model=\u001b[34mNeuralNetworkClassifier{CustomNN,…} @111\u001b[39m`:\n",
      "│ scitype(X) = Table{Union{AbstractArray{Continuous,1}, AbstractArray{Count,1}}}\n",
      "│ input_scitype(model) = Table{var\"#s44\"} where var\"#s44\"<:(AbstractArray{var\"#s13\",1} where var\"#s13\"<:Continuous).\n",
      "└ @ MLJBase /home/andrew/.julia/packages/MLJBase/uKzAz/src/machines.jl:77\n",
      "\u001b[33mEvaluating over 140 metamodels:  30%[=======>                 ]  ETA: 0:02:17\u001b[39m┌ Warning: The scitype of `X`, in `machine(model, X, ...)` is incompatible with `model=\u001b[34mNeuralNetworkClassifier{CustomNN,…} @481\u001b[39m`:\n",
      "│ scitype(X) = Table{Union{AbstractArray{Continuous,1}, AbstractArray{Count,1}}}\n",
      "│ input_scitype(model) = Table{var\"#s44\"} where var\"#s44\"<:(AbstractArray{var\"#s13\",1} where var\"#s13\"<:Continuous).\n",
      "└ @ MLJBase /home/andrew/.julia/packages/MLJBase/uKzAz/src/machines.jl:77\n",
      "\u001b[33mEvaluating over 140 metamodels:  31%[=======>                 ]  ETA: 0:02:19\u001b[39m┌ Warning: The scitype of `X`, in `machine(model, X, ...)` is incompatible with `model=\u001b[34mNeuralNetworkClassifier{CustomNN,…} @242\u001b[39m`:\n",
      "│ scitype(X) = Table{Union{AbstractArray{Continuous,1}, AbstractArray{Count,1}}}\n",
      "│ input_scitype(model) = Table{var\"#s44\"} where var\"#s44\"<:(AbstractArray{var\"#s13\",1} where var\"#s13\"<:Continuous).\n",
      "└ @ MLJBase /home/andrew/.julia/packages/MLJBase/uKzAz/src/machines.jl:77\n",
      "\u001b[33mEvaluating over 140 metamodels:  31%[=======>                 ]  ETA: 0:02:21\u001b[39m┌ Warning: The scitype of `X`, in `machine(model, X, ...)` is incompatible with `model=\u001b[34mNeuralNetworkClassifier{CustomNN,…} @824\u001b[39m`:\n",
      "│ scitype(X) = Table{Union{AbstractArray{Continuous,1}, AbstractArray{Count,1}}}\n",
      "│ input_scitype(model) = Table{var\"#s44\"} where var\"#s44\"<:(AbstractArray{var\"#s13\",1} where var\"#s13\"<:Continuous).\n",
      "└ @ MLJBase /home/andrew/.julia/packages/MLJBase/uKzAz/src/machines.jl:77\n",
      "\u001b[33mEvaluating over 140 metamodels:  32%[========>                ]  ETA: 0:02:24\u001b[39m┌ Warning: The scitype of `X`, in `machine(model, X, ...)` is incompatible with `model=\u001b[34mNeuralNetworkClassifier{CustomNN,…} @815\u001b[39m`:\n",
      "│ scitype(X) = Table{Union{AbstractArray{Continuous,1}, AbstractArray{Count,1}}}\n",
      "│ input_scitype(model) = Table{var\"#s44\"} where var\"#s44\"<:(AbstractArray{var\"#s13\",1} where var\"#s13\"<:Continuous).\n",
      "└ @ MLJBase /home/andrew/.julia/packages/MLJBase/uKzAz/src/machines.jl:77\n",
      "\u001b[33mEvaluating over 140 metamodels:  33%[========>                ]  ETA: 0:02:26\u001b[39m┌ Warning: The scitype of `X`, in `machine(model, X, ...)` is incompatible with `model=\u001b[34mNeuralNetworkClassifier{CustomNN,…} @779\u001b[39m`:\n",
      "│ scitype(X) = Table{Union{AbstractArray{Continuous,1}, AbstractArray{Count,1}}}\n",
      "│ input_scitype(model) = Table{var\"#s44\"} where var\"#s44\"<:(AbstractArray{var\"#s13\",1} where var\"#s13\"<:Continuous).\n",
      "└ @ MLJBase /home/andrew/.julia/packages/MLJBase/uKzAz/src/machines.jl:77\n",
      "\u001b[33mEvaluating over 140 metamodels:  34%[========>                ]  ETA: 0:02:28\u001b[39m┌ Warning: The scitype of `X`, in `machine(model, X, ...)` is incompatible with `model=\u001b[34mNeuralNetworkClassifier{CustomNN,…} @279\u001b[39m`:\n",
      "│ scitype(X) = Table{Union{AbstractArray{Continuous,1}, AbstractArray{Count,1}}}\n",
      "│ input_scitype(model) = Table{var\"#s44\"} where var\"#s44\"<:(AbstractArray{var\"#s13\",1} where var\"#s13\"<:Continuous).\n",
      "└ @ MLJBase /home/andrew/.julia/packages/MLJBase/uKzAz/src/machines.jl:77\n",
      "\u001b[33mEvaluating over 140 metamodels:  34%[========>                ]  ETA: 0:02:31\u001b[39m┌ Warning: The scitype of `X`, in `machine(model, X, ...)` is incompatible with `model=\u001b[34mNeuralNetworkClassifier{CustomNN,…} @641\u001b[39m`:\n",
      "│ scitype(X) = Table{Union{AbstractArray{Continuous,1}, AbstractArray{Count,1}}}\n",
      "│ input_scitype(model) = Table{var\"#s44\"} where var\"#s44\"<:(AbstractArray{var\"#s13\",1} where var\"#s13\"<:Continuous).\n",
      "└ @ MLJBase /home/andrew/.julia/packages/MLJBase/uKzAz/src/machines.jl:77\n"
     ]
    },
    {
     "name": "stderr",
     "output_type": "stream",
     "text": [
      "\u001b[33mEvaluating over 140 metamodels:  35%[========>                ]  ETA: 0:02:33\u001b[39m┌ Warning: The scitype of `X`, in `machine(model, X, ...)` is incompatible with `model=\u001b[34mNeuralNetworkClassifier{CustomNN,…} @037\u001b[39m`:\n",
      "│ scitype(X) = Table{Union{AbstractArray{Continuous,1}, AbstractArray{Count,1}}}\n",
      "│ input_scitype(model) = Table{var\"#s44\"} where var\"#s44\"<:(AbstractArray{var\"#s13\",1} where var\"#s13\"<:Continuous).\n",
      "└ @ MLJBase /home/andrew/.julia/packages/MLJBase/uKzAz/src/machines.jl:77\n",
      "\u001b[33mEvaluating over 140 metamodels:  36%[========>                ]  ETA: 0:02:35\u001b[39m┌ Warning: The scitype of `X`, in `machine(model, X, ...)` is incompatible with `model=\u001b[34mNeuralNetworkClassifier{CustomNN,…} @410\u001b[39m`:\n",
      "│ scitype(X) = Table{Union{AbstractArray{Continuous,1}, AbstractArray{Count,1}}}\n",
      "│ input_scitype(model) = Table{var\"#s44\"} where var\"#s44\"<:(AbstractArray{var\"#s13\",1} where var\"#s13\"<:Continuous).\n",
      "└ @ MLJBase /home/andrew/.julia/packages/MLJBase/uKzAz/src/machines.jl:77\n",
      "\u001b[33mEvaluating over 140 metamodels:  36%[=========>               ]  ETA: 0:02:37\u001b[39m┌ Warning: The scitype of `X`, in `machine(model, X, ...)` is incompatible with `model=\u001b[34mNeuralNetworkClassifier{CustomNN,…} @533\u001b[39m`:\n",
      "│ scitype(X) = Table{Union{AbstractArray{Continuous,1}, AbstractArray{Count,1}}}\n",
      "│ input_scitype(model) = Table{var\"#s44\"} where var\"#s44\"<:(AbstractArray{var\"#s13\",1} where var\"#s13\"<:Continuous).\n",
      "└ @ MLJBase /home/andrew/.julia/packages/MLJBase/uKzAz/src/machines.jl:77\n",
      "\u001b[33mEvaluating over 140 metamodels:  37%[=========>               ]  ETA: 0:02:40\u001b[39m┌ Warning: The scitype of `X`, in `machine(model, X, ...)` is incompatible with `model=\u001b[34mNeuralNetworkClassifier{CustomNN,…} @255\u001b[39m`:\n",
      "│ scitype(X) = Table{Union{AbstractArray{Continuous,1}, AbstractArray{Count,1}}}\n",
      "│ input_scitype(model) = Table{var\"#s44\"} where var\"#s44\"<:(AbstractArray{var\"#s13\",1} where var\"#s13\"<:Continuous).\n",
      "└ @ MLJBase /home/andrew/.julia/packages/MLJBase/uKzAz/src/machines.jl:77\n",
      "\u001b[33mEvaluating over 140 metamodels:  38%[=========>               ]  ETA: 0:02:42\u001b[39m┌ Warning: The scitype of `X`, in `machine(model, X, ...)` is incompatible with `model=\u001b[34mNeuralNetworkClassifier{CustomNN,…} @018\u001b[39m`:\n",
      "│ scitype(X) = Table{Union{AbstractArray{Continuous,1}, AbstractArray{Count,1}}}\n",
      "│ input_scitype(model) = Table{var\"#s44\"} where var\"#s44\"<:(AbstractArray{var\"#s13\",1} where var\"#s13\"<:Continuous).\n",
      "└ @ MLJBase /home/andrew/.julia/packages/MLJBase/uKzAz/src/machines.jl:77\n",
      "\u001b[33mEvaluating over 140 metamodels:  39%[=========>               ]  ETA: 0:02:45\u001b[39m┌ Warning: The scitype of `X`, in `machine(model, X, ...)` is incompatible with `model=\u001b[34mNeuralNetworkClassifier{CustomNN,…} @498\u001b[39m`:\n",
      "│ scitype(X) = Table{Union{AbstractArray{Continuous,1}, AbstractArray{Count,1}}}\n",
      "│ input_scitype(model) = Table{var\"#s44\"} where var\"#s44\"<:(AbstractArray{var\"#s13\",1} where var\"#s13\"<:Continuous).\n",
      "└ @ MLJBase /home/andrew/.julia/packages/MLJBase/uKzAz/src/machines.jl:77\n",
      "\u001b[33mEvaluating over 140 metamodels:  39%[=========>               ]  ETA: 0:02:47\u001b[39m┌ Warning: The scitype of `X`, in `machine(model, X, ...)` is incompatible with `model=\u001b[34mNeuralNetworkClassifier{CustomNN,…} @381\u001b[39m`:\n",
      "│ scitype(X) = Table{Union{AbstractArray{Continuous,1}, AbstractArray{Count,1}}}\n",
      "│ input_scitype(model) = Table{var\"#s44\"} where var\"#s44\"<:(AbstractArray{var\"#s13\",1} where var\"#s13\"<:Continuous).\n",
      "└ @ MLJBase /home/andrew/.julia/packages/MLJBase/uKzAz/src/machines.jl:77\n",
      "\u001b[33mEvaluating over 140 metamodels:  40%[==========>              ]  ETA: 0:02:49\u001b[39m┌ Warning: The scitype of `X`, in `machine(model, X, ...)` is incompatible with `model=\u001b[34mNeuralNetworkClassifier{CustomNN,…} @658\u001b[39m`:\n",
      "│ scitype(X) = Table{Union{AbstractArray{Continuous,1}, AbstractArray{Count,1}}}\n",
      "│ input_scitype(model) = Table{var\"#s44\"} where var\"#s44\"<:(AbstractArray{var\"#s13\",1} where var\"#s13\"<:Continuous).\n",
      "└ @ MLJBase /home/andrew/.julia/packages/MLJBase/uKzAz/src/machines.jl:77\n",
      "\u001b[33mEvaluating over 140 metamodels:  41%[==========>              ]  ETA: 0:02:52\u001b[39m┌ Warning: The scitype of `X`, in `machine(model, X, ...)` is incompatible with `model=\u001b[34mNeuralNetworkClassifier{CustomNN,…} @479\u001b[39m`:\n",
      "│ scitype(X) = Table{Union{AbstractArray{Continuous,1}, AbstractArray{Count,1}}}\n",
      "│ input_scitype(model) = Table{var\"#s44\"} where var\"#s44\"<:(AbstractArray{var\"#s13\",1} where var\"#s13\"<:Continuous).\n",
      "└ @ MLJBase /home/andrew/.julia/packages/MLJBase/uKzAz/src/machines.jl:77\n",
      "\u001b[33mEvaluating over 140 metamodels:  41%[==========>              ]  ETA: 0:02:54\u001b[39m┌ Warning: The scitype of `X`, in `machine(model, X, ...)` is incompatible with `model=\u001b[34mNeuralNetworkClassifier{CustomNN,…} @456\u001b[39m`:\n",
      "│ scitype(X) = Table{Union{AbstractArray{Continuous,1}, AbstractArray{Count,1}}}\n",
      "│ input_scitype(model) = Table{var\"#s44\"} where var\"#s44\"<:(AbstractArray{var\"#s13\",1} where var\"#s13\"<:Continuous).\n",
      "└ @ MLJBase /home/andrew/.julia/packages/MLJBase/uKzAz/src/machines.jl:77\n",
      "\u001b[33mEvaluating over 140 metamodels:  42%[==========>              ]  ETA: 0:02:57\u001b[39m┌ Warning: The scitype of `X`, in `machine(model, X, ...)` is incompatible with `model=\u001b[34mNeuralNetworkClassifier{CustomNN,…} @474\u001b[39m`:\n",
      "│ scitype(X) = Table{Union{AbstractArray{Continuous,1}, AbstractArray{Count,1}}}\n",
      "│ input_scitype(model) = Table{var\"#s44\"} where var\"#s44\"<:(AbstractArray{var\"#s13\",1} where var\"#s13\"<:Continuous).\n",
      "└ @ MLJBase /home/andrew/.julia/packages/MLJBase/uKzAz/src/machines.jl:77\n",
      "\u001b[33mEvaluating over 140 metamodels:  43%[==========>              ]  ETA: 0:02:59\u001b[39m┌ Warning: The scitype of `X`, in `machine(model, X, ...)` is incompatible with `model=\u001b[34mNeuralNetworkClassifier{CustomNN,…} @745\u001b[39m`:\n",
      "│ scitype(X) = Table{Union{AbstractArray{Continuous,1}, AbstractArray{Count,1}}}\n",
      "│ input_scitype(model) = Table{var\"#s44\"} where var\"#s44\"<:(AbstractArray{var\"#s13\",1} where var\"#s13\"<:Continuous).\n",
      "└ @ MLJBase /home/andrew/.julia/packages/MLJBase/uKzAz/src/machines.jl:77\n",
      "\u001b[33mEvaluating over 140 metamodels:  44%[==========>              ]  ETA: 0:03:02\u001b[39m┌ Warning: The scitype of `X`, in `machine(model, X, ...)` is incompatible with `model=\u001b[34mNeuralNetworkClassifier{CustomNN,…} @682\u001b[39m`:\n",
      "│ scitype(X) = Table{Union{AbstractArray{Continuous,1}, AbstractArray{Count,1}}}\n",
      "│ input_scitype(model) = Table{var\"#s44\"} where var\"#s44\"<:(AbstractArray{var\"#s13\",1} where var\"#s13\"<:Continuous).\n",
      "└ @ MLJBase /home/andrew/.julia/packages/MLJBase/uKzAz/src/machines.jl:77\n",
      "\u001b[33mEvaluating over 140 metamodels:  44%[===========>             ]  ETA: 0:03:04\u001b[39m┌ Warning: The scitype of `X`, in `machine(model, X, ...)` is incompatible with `model=\u001b[34mNeuralNetworkClassifier{CustomNN,…} @490\u001b[39m`:\n",
      "│ scitype(X) = Table{Union{AbstractArray{Continuous,1}, AbstractArray{Count,1}}}\n",
      "│ input_scitype(model) = Table{var\"#s44\"} where var\"#s44\"<:(AbstractArray{var\"#s13\",1} where var\"#s13\"<:Continuous).\n",
      "└ @ MLJBase /home/andrew/.julia/packages/MLJBase/uKzAz/src/machines.jl:77\n",
      "\u001b[33mEvaluating over 140 metamodels:  45%[===========>             ]  ETA: 0:03:07\u001b[39m┌ Warning: The scitype of `X`, in `machine(model, X, ...)` is incompatible with `model=\u001b[34mNeuralNetworkClassifier{CustomNN,…} @203\u001b[39m`:\n",
      "│ scitype(X) = Table{Union{AbstractArray{Continuous,1}, AbstractArray{Count,1}}}\n",
      "│ input_scitype(model) = Table{var\"#s44\"} where var\"#s44\"<:(AbstractArray{var\"#s13\",1} where var\"#s13\"<:Continuous).\n",
      "└ @ MLJBase /home/andrew/.julia/packages/MLJBase/uKzAz/src/machines.jl:77\n",
      "\u001b[33mEvaluating over 140 metamodels:  46%[===========>             ]  ETA: 0:03:09\u001b[39m┌ Warning: The scitype of `X`, in `machine(model, X, ...)` is incompatible with `model=\u001b[34mNeuralNetworkClassifier{CustomNN,…} @586\u001b[39m`:\n",
      "│ scitype(X) = Table{Union{AbstractArray{Continuous,1}, AbstractArray{Count,1}}}\n",
      "│ input_scitype(model) = Table{var\"#s44\"} where var\"#s44\"<:(AbstractArray{var\"#s13\",1} where var\"#s13\"<:Continuous).\n",
      "└ @ MLJBase /home/andrew/.julia/packages/MLJBase/uKzAz/src/machines.jl:77\n",
      "\u001b[33mEvaluating over 140 metamodels:  46%[===========>             ]  ETA: 0:03:12\u001b[39m┌ Warning: The scitype of `X`, in `machine(model, X, ...)` is incompatible with `model=\u001b[34mNeuralNetworkClassifier{CustomNN,…} @105\u001b[39m`:\n",
      "│ scitype(X) = Table{Union{AbstractArray{Continuous,1}, AbstractArray{Count,1}}}\n",
      "│ input_scitype(model) = Table{var\"#s44\"} where var\"#s44\"<:(AbstractArray{var\"#s13\",1} where var\"#s13\"<:Continuous).\n",
      "└ @ MLJBase /home/andrew/.julia/packages/MLJBase/uKzAz/src/machines.jl:77\n"
     ]
    },
    {
     "name": "stderr",
     "output_type": "stream",
     "text": [
      "\u001b[33mEvaluating over 140 metamodels:  47%[===========>             ]  ETA: 0:03:15\u001b[39m┌ Warning: The scitype of `X`, in `machine(model, X, ...)` is incompatible with `model=\u001b[34mNeuralNetworkClassifier{CustomNN,…} @129\u001b[39m`:\n",
      "│ scitype(X) = Table{Union{AbstractArray{Continuous,1}, AbstractArray{Count,1}}}\n",
      "│ input_scitype(model) = Table{var\"#s44\"} where var\"#s44\"<:(AbstractArray{var\"#s13\",1} where var\"#s13\"<:Continuous).\n",
      "└ @ MLJBase /home/andrew/.julia/packages/MLJBase/uKzAz/src/machines.jl:77\n",
      "\u001b[33mEvaluating over 140 metamodels:  48%[===========>             ]  ETA: 0:03:17\u001b[39m┌ Warning: The scitype of `X`, in `machine(model, X, ...)` is incompatible with `model=\u001b[34mNeuralNetworkClassifier{CustomNN,…} @577\u001b[39m`:\n",
      "│ scitype(X) = Table{Union{AbstractArray{Continuous,1}, AbstractArray{Count,1}}}\n",
      "│ input_scitype(model) = Table{var\"#s44\"} where var\"#s44\"<:(AbstractArray{var\"#s13\",1} where var\"#s13\"<:Continuous).\n",
      "└ @ MLJBase /home/andrew/.julia/packages/MLJBase/uKzAz/src/machines.jl:77\n",
      "\u001b[33mEvaluating over 140 metamodels:  49%[============>            ]  ETA: 0:03:21\u001b[39m┌ Warning: The scitype of `X`, in `machine(model, X, ...)` is incompatible with `model=\u001b[34mNeuralNetworkClassifier{CustomNN,…} @813\u001b[39m`:\n",
      "│ scitype(X) = Table{Union{AbstractArray{Continuous,1}, AbstractArray{Count,1}}}\n",
      "│ input_scitype(model) = Table{var\"#s44\"} where var\"#s44\"<:(AbstractArray{var\"#s13\",1} where var\"#s13\"<:Continuous).\n",
      "└ @ MLJBase /home/andrew/.julia/packages/MLJBase/uKzAz/src/machines.jl:77\n",
      "\u001b[33mEvaluating over 140 metamodels:  49%[============>            ]  ETA: 0:03:23\u001b[39m┌ Warning: The scitype of `X`, in `machine(model, X, ...)` is incompatible with `model=\u001b[34mNeuralNetworkClassifier{CustomNN,…} @568\u001b[39m`:\n",
      "│ scitype(X) = Table{Union{AbstractArray{Continuous,1}, AbstractArray{Count,1}}}\n",
      "│ input_scitype(model) = Table{var\"#s44\"} where var\"#s44\"<:(AbstractArray{var\"#s13\",1} where var\"#s13\"<:Continuous).\n",
      "└ @ MLJBase /home/andrew/.julia/packages/MLJBase/uKzAz/src/machines.jl:77\n",
      "\u001b[33mEvaluating over 140 metamodels:  50%[============>            ]  ETA: 0:03:26\u001b[39m┌ Warning: The scitype of `X`, in `machine(model, X, ...)` is incompatible with `model=\u001b[34mNeuralNetworkClassifier{CustomNN,…} @150\u001b[39m`:\n",
      "│ scitype(X) = Table{Union{AbstractArray{Continuous,1}, AbstractArray{Count,1}}}\n",
      "│ input_scitype(model) = Table{var\"#s44\"} where var\"#s44\"<:(AbstractArray{var\"#s13\",1} where var\"#s13\"<:Continuous).\n",
      "└ @ MLJBase /home/andrew/.julia/packages/MLJBase/uKzAz/src/machines.jl:77\n",
      "\u001b[33mEvaluating over 140 metamodels:  51%[============>            ]  ETA: 0:03:29\u001b[39m┌ Warning: The scitype of `X`, in `machine(model, X, ...)` is incompatible with `model=\u001b[34mNeuralNetworkClassifier{CustomNN,…} @139\u001b[39m`:\n",
      "│ scitype(X) = Table{Union{AbstractArray{Continuous,1}, AbstractArray{Count,1}}}\n",
      "│ input_scitype(model) = Table{var\"#s44\"} where var\"#s44\"<:(AbstractArray{var\"#s13\",1} where var\"#s13\"<:Continuous).\n",
      "└ @ MLJBase /home/andrew/.julia/packages/MLJBase/uKzAz/src/machines.jl:77\n",
      "\u001b[33mEvaluating over 140 metamodels:  51%[============>            ]  ETA: 0:03:31\u001b[39m┌ Warning: The scitype of `X`, in `machine(model, X, ...)` is incompatible with `model=\u001b[34mNeuralNetworkClassifier{CustomNN,…} @163\u001b[39m`:\n",
      "│ scitype(X) = Table{Union{AbstractArray{Continuous,1}, AbstractArray{Count,1}}}\n",
      "│ input_scitype(model) = Table{var\"#s44\"} where var\"#s44\"<:(AbstractArray{var\"#s13\",1} where var\"#s13\"<:Continuous).\n",
      "└ @ MLJBase /home/andrew/.julia/packages/MLJBase/uKzAz/src/machines.jl:77\n",
      "\u001b[33mEvaluating over 140 metamodels:  52%[=============>           ]  ETA: 0:03:34\u001b[39m┌ Warning: The scitype of `X`, in `machine(model, X, ...)` is incompatible with `model=\u001b[34mNeuralNetworkClassifier{CustomNN,…} @818\u001b[39m`:\n",
      "│ scitype(X) = Table{Union{AbstractArray{Continuous,1}, AbstractArray{Count,1}}}\n",
      "│ input_scitype(model) = Table{var\"#s44\"} where var\"#s44\"<:(AbstractArray{var\"#s13\",1} where var\"#s13\"<:Continuous).\n",
      "└ @ MLJBase /home/andrew/.julia/packages/MLJBase/uKzAz/src/machines.jl:77\n",
      "\u001b[33mEvaluating over 140 metamodels:  53%[=============>           ]  ETA: 0:03:36\u001b[39m┌ Warning: The scitype of `X`, in `machine(model, X, ...)` is incompatible with `model=\u001b[34mNeuralNetworkClassifier{CustomNN,…} @596\u001b[39m`:\n",
      "│ scitype(X) = Table{Union{AbstractArray{Continuous,1}, AbstractArray{Count,1}}}\n",
      "│ input_scitype(model) = Table{var\"#s44\"} where var\"#s44\"<:(AbstractArray{var\"#s13\",1} where var\"#s13\"<:Continuous).\n",
      "└ @ MLJBase /home/andrew/.julia/packages/MLJBase/uKzAz/src/machines.jl:77\n",
      "\u001b[33mEvaluating over 140 metamodels:  54%[=============>           ]  ETA: 0:03:39\u001b[39m┌ Warning: The scitype of `X`, in `machine(model, X, ...)` is incompatible with `model=\u001b[34mNeuralNetworkClassifier{CustomNN,…} @478\u001b[39m`:\n",
      "│ scitype(X) = Table{Union{AbstractArray{Continuous,1}, AbstractArray{Count,1}}}\n",
      "│ input_scitype(model) = Table{var\"#s44\"} where var\"#s44\"<:(AbstractArray{var\"#s13\",1} where var\"#s13\"<:Continuous).\n",
      "└ @ MLJBase /home/andrew/.julia/packages/MLJBase/uKzAz/src/machines.jl:77\n",
      "\u001b[33mEvaluating over 140 metamodels:  54%[=============>           ]  ETA: 0:03:42\u001b[39m┌ Warning: The scitype of `X`, in `machine(model, X, ...)` is incompatible with `model=\u001b[34mNeuralNetworkClassifier{CustomNN,…} @958\u001b[39m`:\n",
      "│ scitype(X) = Table{Union{AbstractArray{Continuous,1}, AbstractArray{Count,1}}}\n",
      "│ input_scitype(model) = Table{var\"#s44\"} where var\"#s44\"<:(AbstractArray{var\"#s13\",1} where var\"#s13\"<:Continuous).\n",
      "└ @ MLJBase /home/andrew/.julia/packages/MLJBase/uKzAz/src/machines.jl:77\n",
      "\u001b[33mEvaluating over 140 metamodels:  55%[=============>           ]  ETA: 0:03:44\u001b[39m┌ Warning: The scitype of `X`, in `machine(model, X, ...)` is incompatible with `model=\u001b[34mNeuralNetworkClassifier{CustomNN,…} @939\u001b[39m`:\n",
      "│ scitype(X) = Table{Union{AbstractArray{Continuous,1}, AbstractArray{Count,1}}}\n",
      "│ input_scitype(model) = Table{var\"#s44\"} where var\"#s44\"<:(AbstractArray{var\"#s13\",1} where var\"#s13\"<:Continuous).\n",
      "└ @ MLJBase /home/andrew/.julia/packages/MLJBase/uKzAz/src/machines.jl:77\n",
      "\u001b[33mEvaluating over 140 metamodels:  56%[=============>           ]  ETA: 0:03:47\u001b[39m┌ Warning: The scitype of `X`, in `machine(model, X, ...)` is incompatible with `model=\u001b[34mNeuralNetworkClassifier{CustomNN,…} @330\u001b[39m`:\n",
      "│ scitype(X) = Table{Union{AbstractArray{Continuous,1}, AbstractArray{Count,1}}}\n",
      "│ input_scitype(model) = Table{var\"#s44\"} where var\"#s44\"<:(AbstractArray{var\"#s13\",1} where var\"#s13\"<:Continuous).\n",
      "└ @ MLJBase /home/andrew/.julia/packages/MLJBase/uKzAz/src/machines.jl:77\n",
      "\u001b[33mEvaluating over 140 metamodels:  56%[==============>          ]  ETA: 0:03:49\u001b[39m┌ Warning: The scitype of `X`, in `machine(model, X, ...)` is incompatible with `model=\u001b[34mNeuralNetworkClassifier{CustomNN,…} @141\u001b[39m`:\n",
      "│ scitype(X) = Table{Union{AbstractArray{Continuous,1}, AbstractArray{Count,1}}}\n",
      "│ input_scitype(model) = Table{var\"#s44\"} where var\"#s44\"<:(AbstractArray{var\"#s13\",1} where var\"#s13\"<:Continuous).\n",
      "└ @ MLJBase /home/andrew/.julia/packages/MLJBase/uKzAz/src/machines.jl:77\n",
      "\u001b[33mEvaluating over 140 metamodels:  57%[==============>          ]  ETA: 0:03:52\u001b[39m┌ Warning: The scitype of `X`, in `machine(model, X, ...)` is incompatible with `model=\u001b[34mNeuralNetworkClassifier{CustomNN,…} @847\u001b[39m`:\n",
      "│ scitype(X) = Table{Union{AbstractArray{Continuous,1}, AbstractArray{Count,1}}}\n",
      "│ input_scitype(model) = Table{var\"#s44\"} where var\"#s44\"<:(AbstractArray{var\"#s13\",1} where var\"#s13\"<:Continuous).\n",
      "└ @ MLJBase /home/andrew/.julia/packages/MLJBase/uKzAz/src/machines.jl:77\n",
      "\u001b[33mEvaluating over 140 metamodels:  58%[==============>          ]  ETA: 0:03:54\u001b[39m┌ Warning: The scitype of `X`, in `machine(model, X, ...)` is incompatible with `model=\u001b[34mNeuralNetworkClassifier{CustomNN,…} @628\u001b[39m`:\n",
      "│ scitype(X) = Table{Union{AbstractArray{Continuous,1}, AbstractArray{Count,1}}}\n",
      "│ input_scitype(model) = Table{var\"#s44\"} where var\"#s44\"<:(AbstractArray{var\"#s13\",1} where var\"#s13\"<:Continuous).\n",
      "└ @ MLJBase /home/andrew/.julia/packages/MLJBase/uKzAz/src/machines.jl:77\n",
      "\u001b[33mEvaluating over 140 metamodels:  59%[==============>          ]  ETA: 0:03:57\u001b[39m┌ Warning: The scitype of `X`, in `machine(model, X, ...)` is incompatible with `model=\u001b[34mNeuralNetworkClassifier{CustomNN,…} @866\u001b[39m`:\n",
      "│ scitype(X) = Table{Union{AbstractArray{Continuous,1}, AbstractArray{Count,1}}}\n",
      "│ input_scitype(model) = Table{var\"#s44\"} where var\"#s44\"<:(AbstractArray{var\"#s13\",1} where var\"#s13\"<:Continuous).\n",
      "└ @ MLJBase /home/andrew/.julia/packages/MLJBase/uKzAz/src/machines.jl:77\n"
     ]
    },
    {
     "name": "stderr",
     "output_type": "stream",
     "text": [
      "\u001b[33mEvaluating over 140 metamodels:  59%[==============>          ]  ETA: 0:03:59\u001b[39m┌ Warning: The scitype of `X`, in `machine(model, X, ...)` is incompatible with `model=\u001b[34mNeuralNetworkClassifier{CustomNN,…} @913\u001b[39m`:\n",
      "│ scitype(X) = Table{Union{AbstractArray{Continuous,1}, AbstractArray{Count,1}}}\n",
      "│ input_scitype(model) = Table{var\"#s44\"} where var\"#s44\"<:(AbstractArray{var\"#s13\",1} where var\"#s13\"<:Continuous).\n",
      "└ @ MLJBase /home/andrew/.julia/packages/MLJBase/uKzAz/src/machines.jl:77\n",
      "\u001b[33mEvaluating over 140 metamodels:  60%[===============>         ]  ETA: 0:04:02\u001b[39m┌ Warning: The scitype of `X`, in `machine(model, X, ...)` is incompatible with `model=\u001b[34mNeuralNetworkClassifier{CustomNN,…} @926\u001b[39m`:\n",
      "│ scitype(X) = Table{Union{AbstractArray{Continuous,1}, AbstractArray{Count,1}}}\n",
      "│ input_scitype(model) = Table{var\"#s44\"} where var\"#s44\"<:(AbstractArray{var\"#s13\",1} where var\"#s13\"<:Continuous).\n",
      "└ @ MLJBase /home/andrew/.julia/packages/MLJBase/uKzAz/src/machines.jl:77\n",
      "\u001b[33mEvaluating over 140 metamodels:  61%[===============>         ]  ETA: 0:04:04\u001b[39m┌ Warning: The scitype of `X`, in `machine(model, X, ...)` is incompatible with `model=\u001b[34mNeuralNetworkClassifier{CustomNN,…} @485\u001b[39m`:\n",
      "│ scitype(X) = Table{Union{AbstractArray{Continuous,1}, AbstractArray{Count,1}}}\n",
      "│ input_scitype(model) = Table{var\"#s44\"} where var\"#s44\"<:(AbstractArray{var\"#s13\",1} where var\"#s13\"<:Continuous).\n",
      "└ @ MLJBase /home/andrew/.julia/packages/MLJBase/uKzAz/src/machines.jl:77\n",
      "\u001b[33mEvaluating over 140 metamodels:  61%[===============>         ]  ETA: 0:04:06\u001b[39m┌ Warning: The scitype of `X`, in `machine(model, X, ...)` is incompatible with `model=\u001b[34mNeuralNetworkClassifier{CustomNN,…} @062\u001b[39m`:\n",
      "│ scitype(X) = Table{Union{AbstractArray{Continuous,1}, AbstractArray{Count,1}}}\n",
      "│ input_scitype(model) = Table{var\"#s44\"} where var\"#s44\"<:(AbstractArray{var\"#s13\",1} where var\"#s13\"<:Continuous).\n",
      "└ @ MLJBase /home/andrew/.julia/packages/MLJBase/uKzAz/src/machines.jl:77\n",
      "\u001b[33mEvaluating over 140 metamodels:  62%[===============>         ]  ETA: 0:04:09\u001b[39m┌ Warning: The scitype of `X`, in `machine(model, X, ...)` is incompatible with `model=\u001b[34mNeuralNetworkClassifier{CustomNN,…} @376\u001b[39m`:\n",
      "│ scitype(X) = Table{Union{AbstractArray{Continuous,1}, AbstractArray{Count,1}}}\n",
      "│ input_scitype(model) = Table{var\"#s44\"} where var\"#s44\"<:(AbstractArray{var\"#s13\",1} where var\"#s13\"<:Continuous).\n",
      "└ @ MLJBase /home/andrew/.julia/packages/MLJBase/uKzAz/src/machines.jl:77\n",
      "\u001b[33mEvaluating over 140 metamodels:  63%[===============>         ]  ETA: 0:04:11\u001b[39m┌ Warning: The scitype of `X`, in `machine(model, X, ...)` is incompatible with `model=\u001b[34mNeuralNetworkClassifier{CustomNN,…} @188\u001b[39m`:\n",
      "│ scitype(X) = Table{Union{AbstractArray{Continuous,1}, AbstractArray{Count,1}}}\n",
      "│ input_scitype(model) = Table{var\"#s44\"} where var\"#s44\"<:(AbstractArray{var\"#s13\",1} where var\"#s13\"<:Continuous).\n",
      "└ @ MLJBase /home/andrew/.julia/packages/MLJBase/uKzAz/src/machines.jl:77\n",
      "\u001b[33mEvaluating over 140 metamodels:  64%[===============>         ]  ETA: 0:04:13\u001b[39m┌ Warning: The scitype of `X`, in `machine(model, X, ...)` is incompatible with `model=\u001b[34mNeuralNetworkClassifier{CustomNN,…} @310\u001b[39m`:\n",
      "│ scitype(X) = Table{Union{AbstractArray{Continuous,1}, AbstractArray{Count,1}}}\n",
      "│ input_scitype(model) = Table{var\"#s44\"} where var\"#s44\"<:(AbstractArray{var\"#s13\",1} where var\"#s13\"<:Continuous).\n",
      "└ @ MLJBase /home/andrew/.julia/packages/MLJBase/uKzAz/src/machines.jl:77\n",
      "\u001b[33mEvaluating over 140 metamodels:  64%[================>        ]  ETA: 0:04:15\u001b[39m┌ Warning: The scitype of `X`, in `machine(model, X, ...)` is incompatible with `model=\u001b[34mNeuralNetworkClassifier{CustomNN,…} @453\u001b[39m`:\n",
      "│ scitype(X) = Table{Union{AbstractArray{Continuous,1}, AbstractArray{Count,1}}}\n",
      "│ input_scitype(model) = Table{var\"#s44\"} where var\"#s44\"<:(AbstractArray{var\"#s13\",1} where var\"#s13\"<:Continuous).\n",
      "└ @ MLJBase /home/andrew/.julia/packages/MLJBase/uKzAz/src/machines.jl:77\n",
      "\u001b[33mEvaluating over 140 metamodels:  65%[================>        ]  ETA: 0:04:17\u001b[39m┌ Warning: The scitype of `X`, in `machine(model, X, ...)` is incompatible with `model=\u001b[34mNeuralNetworkClassifier{CustomNN,…} @951\u001b[39m`:\n",
      "│ scitype(X) = Table{Union{AbstractArray{Continuous,1}, AbstractArray{Count,1}}}\n",
      "│ input_scitype(model) = Table{var\"#s44\"} where var\"#s44\"<:(AbstractArray{var\"#s13\",1} where var\"#s13\"<:Continuous).\n",
      "└ @ MLJBase /home/andrew/.julia/packages/MLJBase/uKzAz/src/machines.jl:77\n",
      "\u001b[33mEvaluating over 140 metamodels:  66%[================>        ]  ETA: 0:04:19\u001b[39m┌ Warning: The scitype of `X`, in `machine(model, X, ...)` is incompatible with `model=\u001b[34mNeuralNetworkClassifier{CustomNN,…} @913\u001b[39m`:\n",
      "│ scitype(X) = Table{Union{AbstractArray{Continuous,1}, AbstractArray{Count,1}}}\n",
      "│ input_scitype(model) = Table{var\"#s44\"} where var\"#s44\"<:(AbstractArray{var\"#s13\",1} where var\"#s13\"<:Continuous).\n",
      "└ @ MLJBase /home/andrew/.julia/packages/MLJBase/uKzAz/src/machines.jl:77\n",
      "\u001b[33mEvaluating over 140 metamodels:  66%[================>        ]  ETA: 0:04:21\u001b[39m┌ Warning: The scitype of `X`, in `machine(model, X, ...)` is incompatible with `model=\u001b[34mNeuralNetworkClassifier{CustomNN,…} @823\u001b[39m`:\n",
      "│ scitype(X) = Table{Union{AbstractArray{Continuous,1}, AbstractArray{Count,1}}}\n",
      "│ input_scitype(model) = Table{var\"#s44\"} where var\"#s44\"<:(AbstractArray{var\"#s13\",1} where var\"#s13\"<:Continuous).\n",
      "└ @ MLJBase /home/andrew/.julia/packages/MLJBase/uKzAz/src/machines.jl:77\n",
      "\u001b[33mEvaluating over 140 metamodels:  67%[================>        ]  ETA: 0:04:23\u001b[39m┌ Warning: The scitype of `X`, in `machine(model, X, ...)` is incompatible with `model=\u001b[34mNeuralNetworkClassifier{CustomNN,…} @904\u001b[39m`:\n",
      "│ scitype(X) = Table{Union{AbstractArray{Continuous,1}, AbstractArray{Count,1}}}\n",
      "│ input_scitype(model) = Table{var\"#s44\"} where var\"#s44\"<:(AbstractArray{var\"#s13\",1} where var\"#s13\"<:Continuous).\n",
      "└ @ MLJBase /home/andrew/.julia/packages/MLJBase/uKzAz/src/machines.jl:77\n",
      "\u001b[33mEvaluating over 140 metamodels:  68%[================>        ]  ETA: 0:04:25\u001b[39m┌ Warning: The scitype of `X`, in `machine(model, X, ...)` is incompatible with `model=\u001b[34mNeuralNetworkClassifier{CustomNN,…} @341\u001b[39m`:\n",
      "│ scitype(X) = Table{Union{AbstractArray{Continuous,1}, AbstractArray{Count,1}}}\n",
      "│ input_scitype(model) = Table{var\"#s44\"} where var\"#s44\"<:(AbstractArray{var\"#s13\",1} where var\"#s13\"<:Continuous).\n",
      "└ @ MLJBase /home/andrew/.julia/packages/MLJBase/uKzAz/src/machines.jl:77\n",
      "\u001b[33mEvaluating over 140 metamodels:  69%[=================>       ]  ETA: 0:04:27\u001b[39m┌ Warning: The scitype of `X`, in `machine(model, X, ...)` is incompatible with `model=\u001b[34mNeuralNetworkClassifier{CustomNN,…} @420\u001b[39m`:\n",
      "│ scitype(X) = Table{Union{AbstractArray{Continuous,1}, AbstractArray{Count,1}}}\n",
      "│ input_scitype(model) = Table{var\"#s44\"} where var\"#s44\"<:(AbstractArray{var\"#s13\",1} where var\"#s13\"<:Continuous).\n",
      "└ @ MLJBase /home/andrew/.julia/packages/MLJBase/uKzAz/src/machines.jl:77\n",
      "\u001b[33mEvaluating over 140 metamodels:  69%[=================>       ]  ETA: 0:04:28\u001b[39m┌ Warning: The scitype of `X`, in `machine(model, X, ...)` is incompatible with `model=\u001b[34mNeuralNetworkClassifier{CustomNN,…} @743\u001b[39m`:\n",
      "│ scitype(X) = Table{Union{AbstractArray{Continuous,1}, AbstractArray{Count,1}}}\n",
      "│ input_scitype(model) = Table{var\"#s44\"} where var\"#s44\"<:(AbstractArray{var\"#s13\",1} where var\"#s13\"<:Continuous).\n",
      "└ @ MLJBase /home/andrew/.julia/packages/MLJBase/uKzAz/src/machines.jl:77\n",
      "\u001b[33mEvaluating over 140 metamodels:  70%[=================>       ]  ETA: 0:04:30\u001b[39m┌ Warning: The scitype of `X`, in `machine(model, X, ...)` is incompatible with `model=\u001b[34mNeuralNetworkClassifier{CustomNN,…} @594\u001b[39m`:\n",
      "│ scitype(X) = Table{Union{AbstractArray{Continuous,1}, AbstractArray{Count,1}}}\n",
      "│ input_scitype(model) = Table{var\"#s44\"} where var\"#s44\"<:(AbstractArray{var\"#s13\",1} where var\"#s13\"<:Continuous).\n",
      "└ @ MLJBase /home/andrew/.julia/packages/MLJBase/uKzAz/src/machines.jl:77\n",
      "\u001b[33mEvaluating over 140 metamodels:  71%[=================>       ]  ETA: 0:04:31\u001b[39m┌ Warning: The scitype of `X`, in `machine(model, X, ...)` is incompatible with `model=\u001b[34mNeuralNetworkClassifier{CustomNN,…} @041\u001b[39m`:\n",
      "│ scitype(X) = Table{Union{AbstractArray{Continuous,1}, AbstractArray{Count,1}}}\n",
      "│ input_scitype(model) = Table{var\"#s44\"} where var\"#s44\"<:(AbstractArray{var\"#s13\",1} where var\"#s13\"<:Continuous).\n",
      "└ @ MLJBase /home/andrew/.julia/packages/MLJBase/uKzAz/src/machines.jl:77\n"
     ]
    },
    {
     "name": "stderr",
     "output_type": "stream",
     "text": [
      "\u001b[33mEvaluating over 140 metamodels:  71%[=================>       ]  ETA: 0:04:32\u001b[39m┌ Warning: The scitype of `X`, in `machine(model, X, ...)` is incompatible with `model=\u001b[34mNeuralNetworkClassifier{CustomNN,…} @133\u001b[39m`:\n",
      "│ scitype(X) = Table{Union{AbstractArray{Continuous,1}, AbstractArray{Count,1}}}\n",
      "│ input_scitype(model) = Table{var\"#s44\"} where var\"#s44\"<:(AbstractArray{var\"#s13\",1} where var\"#s13\"<:Continuous).\n",
      "└ @ MLJBase /home/andrew/.julia/packages/MLJBase/uKzAz/src/machines.jl:77\n",
      "\u001b[33mEvaluating over 140 metamodels:  72%[==================>      ]  ETA: 0:04:33\u001b[39m┌ Warning: The scitype of `X`, in `machine(model, X, ...)` is incompatible with `model=\u001b[34mNeuralNetworkClassifier{CustomNN,…} @686\u001b[39m`:\n",
      "│ scitype(X) = Table{Union{AbstractArray{Continuous,1}, AbstractArray{Count,1}}}\n",
      "│ input_scitype(model) = Table{var\"#s44\"} where var\"#s44\"<:(AbstractArray{var\"#s13\",1} where var\"#s13\"<:Continuous).\n",
      "└ @ MLJBase /home/andrew/.julia/packages/MLJBase/uKzAz/src/machines.jl:77\n",
      "\u001b[33mEvaluating over 140 metamodels:  73%[==================>      ]  ETA: 0:04:34\u001b[39m┌ Warning: The scitype of `X`, in `machine(model, X, ...)` is incompatible with `model=\u001b[34mNeuralNetworkClassifier{CustomNN,…} @941\u001b[39m`:\n",
      "│ scitype(X) = Table{Union{AbstractArray{Continuous,1}, AbstractArray{Count,1}}}\n",
      "│ input_scitype(model) = Table{var\"#s44\"} where var\"#s44\"<:(AbstractArray{var\"#s13\",1} where var\"#s13\"<:Continuous).\n",
      "└ @ MLJBase /home/andrew/.julia/packages/MLJBase/uKzAz/src/machines.jl:77\n",
      "\u001b[33mEvaluating over 140 metamodels:  74%[==================>      ]  ETA: 0:04:35\u001b[39m┌ Warning: The scitype of `X`, in `machine(model, X, ...)` is incompatible with `model=\u001b[34mNeuralNetworkClassifier{CustomNN,…} @893\u001b[39m`:\n",
      "│ scitype(X) = Table{Union{AbstractArray{Continuous,1}, AbstractArray{Count,1}}}\n",
      "│ input_scitype(model) = Table{var\"#s44\"} where var\"#s44\"<:(AbstractArray{var\"#s13\",1} where var\"#s13\"<:Continuous).\n",
      "└ @ MLJBase /home/andrew/.julia/packages/MLJBase/uKzAz/src/machines.jl:77\n",
      "\u001b[33mEvaluating over 140 metamodels:  74%[==================>      ]  ETA: 0:04:35\u001b[39m┌ Warning: The scitype of `X`, in `machine(model, X, ...)` is incompatible with `model=\u001b[34mNeuralNetworkClassifier{CustomNN,…} @089\u001b[39m`:\n",
      "│ scitype(X) = Table{Union{AbstractArray{Continuous,1}, AbstractArray{Count,1}}}\n",
      "│ input_scitype(model) = Table{var\"#s44\"} where var\"#s44\"<:(AbstractArray{var\"#s13\",1} where var\"#s13\"<:Continuous).\n",
      "└ @ MLJBase /home/andrew/.julia/packages/MLJBase/uKzAz/src/machines.jl:77\n",
      "\u001b[33mEvaluating over 140 metamodels:  75%[==================>      ]  ETA: 0:04:36\u001b[39m┌ Warning: The scitype of `X`, in `machine(model, X, ...)` is incompatible with `model=\u001b[34mNeuralNetworkClassifier{CustomNN,…} @502\u001b[39m`:\n",
      "│ scitype(X) = Table{Union{AbstractArray{Continuous,1}, AbstractArray{Count,1}}}\n",
      "│ input_scitype(model) = Table{var\"#s44\"} where var\"#s44\"<:(AbstractArray{var\"#s13\",1} where var\"#s13\"<:Continuous).\n",
      "└ @ MLJBase /home/andrew/.julia/packages/MLJBase/uKzAz/src/machines.jl:77\n",
      "\u001b[33mEvaluating over 140 metamodels:  76%[==================>      ]  ETA: 0:04:36\u001b[39m┌ Warning: The scitype of `X`, in `machine(model, X, ...)` is incompatible with `model=\u001b[34mNeuralNetworkClassifier{CustomNN,…} @041\u001b[39m`:\n",
      "│ scitype(X) = Table{Union{AbstractArray{Continuous,1}, AbstractArray{Count,1}}}\n",
      "│ input_scitype(model) = Table{var\"#s44\"} where var\"#s44\"<:(AbstractArray{var\"#s13\",1} where var\"#s13\"<:Continuous).\n",
      "└ @ MLJBase /home/andrew/.julia/packages/MLJBase/uKzAz/src/machines.jl:77\n",
      "\u001b[33mEvaluating over 140 metamodels:  76%[===================>     ]  ETA: 0:04:36\u001b[39m┌ Warning: The scitype of `X`, in `machine(model, X, ...)` is incompatible with `model=\u001b[34mNeuralNetworkClassifier{CustomNN,…} @107\u001b[39m`:\n",
      "│ scitype(X) = Table{Union{AbstractArray{Continuous,1}, AbstractArray{Count,1}}}\n",
      "│ input_scitype(model) = Table{var\"#s44\"} where var\"#s44\"<:(AbstractArray{var\"#s13\",1} where var\"#s13\"<:Continuous).\n",
      "└ @ MLJBase /home/andrew/.julia/packages/MLJBase/uKzAz/src/machines.jl:77\n",
      "\u001b[33mEvaluating over 140 metamodels:  77%[===================>     ]  ETA: 0:04:36\u001b[39m┌ Warning: The scitype of `X`, in `machine(model, X, ...)` is incompatible with `model=\u001b[34mNeuralNetworkClassifier{CustomNN,…} @303\u001b[39m`:\n",
      "│ scitype(X) = Table{Union{AbstractArray{Continuous,1}, AbstractArray{Count,1}}}\n",
      "│ input_scitype(model) = Table{var\"#s44\"} where var\"#s44\"<:(AbstractArray{var\"#s13\",1} where var\"#s13\"<:Continuous).\n",
      "└ @ MLJBase /home/andrew/.julia/packages/MLJBase/uKzAz/src/machines.jl:77\n",
      "\u001b[33mEvaluating over 140 metamodels:  78%[===================>     ]  ETA: 0:04:35\u001b[39m┌ Warning: The scitype of `X`, in `machine(model, X, ...)` is incompatible with `model=\u001b[34mNeuralNetworkClassifier{CustomNN,…} @327\u001b[39m`:\n",
      "│ scitype(X) = Table{Union{AbstractArray{Continuous,1}, AbstractArray{Count,1}}}\n",
      "│ input_scitype(model) = Table{var\"#s44\"} where var\"#s44\"<:(AbstractArray{var\"#s13\",1} where var\"#s13\"<:Continuous).\n",
      "└ @ MLJBase /home/andrew/.julia/packages/MLJBase/uKzAz/src/machines.jl:77\n",
      "\u001b[33mEvaluating over 140 metamodels:  79%[===================>     ]  ETA: 0:04:35\u001b[39m┌ Warning: The scitype of `X`, in `machine(model, X, ...)` is incompatible with `model=\u001b[34mNeuralNetworkClassifier{CustomNN,…} @088\u001b[39m`:\n",
      "│ scitype(X) = Table{Union{AbstractArray{Continuous,1}, AbstractArray{Count,1}}}\n",
      "│ input_scitype(model) = Table{var\"#s44\"} where var\"#s44\"<:(AbstractArray{var\"#s13\",1} where var\"#s13\"<:Continuous).\n",
      "└ @ MLJBase /home/andrew/.julia/packages/MLJBase/uKzAz/src/machines.jl:77\n",
      "\u001b[33mEvaluating over 140 metamodels:  79%[===================>     ]  ETA: 0:04:34\u001b[39m┌ Warning: The scitype of `X`, in `machine(model, X, ...)` is incompatible with `model=\u001b[34mNeuralNetworkClassifier{CustomNN,…} @665\u001b[39m`:\n",
      "│ scitype(X) = Table{Union{AbstractArray{Continuous,1}, AbstractArray{Count,1}}}\n",
      "│ input_scitype(model) = Table{var\"#s44\"} where var\"#s44\"<:(AbstractArray{var\"#s13\",1} where var\"#s13\"<:Continuous).\n",
      "└ @ MLJBase /home/andrew/.julia/packages/MLJBase/uKzAz/src/machines.jl:77\n",
      "\u001b[33mEvaluating over 140 metamodels:  80%[====================>    ]  ETA: 0:04:33\u001b[39m┌ Warning: The scitype of `X`, in `machine(model, X, ...)` is incompatible with `model=\u001b[34mNeuralNetworkClassifier{CustomNN,…} @744\u001b[39m`:\n",
      "│ scitype(X) = Table{Union{AbstractArray{Continuous,1}, AbstractArray{Count,1}}}\n",
      "│ input_scitype(model) = Table{var\"#s44\"} where var\"#s44\"<:(AbstractArray{var\"#s13\",1} where var\"#s13\"<:Continuous).\n",
      "└ @ MLJBase /home/andrew/.julia/packages/MLJBase/uKzAz/src/machines.jl:77\n",
      "\u001b[33mEvaluating over 140 metamodels:  81%[====================>    ]  ETA: 0:04:32\u001b[39m┌ Warning: The scitype of `X`, in `machine(model, X, ...)` is incompatible with `model=\u001b[34mNeuralNetworkClassifier{CustomNN,…} @581\u001b[39m`:\n",
      "│ scitype(X) = Table{Union{AbstractArray{Continuous,1}, AbstractArray{Count,1}}}\n",
      "│ input_scitype(model) = Table{var\"#s44\"} where var\"#s44\"<:(AbstractArray{var\"#s13\",1} where var\"#s13\"<:Continuous).\n",
      "└ @ MLJBase /home/andrew/.julia/packages/MLJBase/uKzAz/src/machines.jl:77\n",
      "\u001b[33mEvaluating over 140 metamodels:  81%[====================>    ]  ETA: 0:04:32\u001b[39m┌ Warning: The scitype of `X`, in `machine(model, X, ...)` is incompatible with `model=\u001b[34mNeuralNetworkClassifier{CustomNN,…} @797\u001b[39m`:\n",
      "│ scitype(X) = Table{Union{AbstractArray{Continuous,1}, AbstractArray{Count,1}}}\n",
      "│ input_scitype(model) = Table{var\"#s44\"} where var\"#s44\"<:(AbstractArray{var\"#s13\",1} where var\"#s13\"<:Continuous).\n",
      "└ @ MLJBase /home/andrew/.julia/packages/MLJBase/uKzAz/src/machines.jl:77\n",
      "\u001b[33mEvaluating over 140 metamodels:  82%[====================>    ]  ETA: 0:04:31\u001b[39m┌ Warning: The scitype of `X`, in `machine(model, X, ...)` is incompatible with `model=\u001b[34mNeuralNetworkClassifier{CustomNN,…} @205\u001b[39m`:\n",
      "│ scitype(X) = Table{Union{AbstractArray{Continuous,1}, AbstractArray{Count,1}}}\n",
      "│ input_scitype(model) = Table{var\"#s44\"} where var\"#s44\"<:(AbstractArray{var\"#s13\",1} where var\"#s13\"<:Continuous).\n",
      "└ @ MLJBase /home/andrew/.julia/packages/MLJBase/uKzAz/src/machines.jl:77\n",
      "\u001b[33mEvaluating over 140 metamodels:  83%[====================>    ]  ETA: 0:04:29\u001b[39m┌ Warning: The scitype of `X`, in `machine(model, X, ...)` is incompatible with `model=\u001b[34mNeuralNetworkClassifier{CustomNN,…} @450\u001b[39m`:\n",
      "│ scitype(X) = Table{Union{AbstractArray{Continuous,1}, AbstractArray{Count,1}}}\n",
      "│ input_scitype(model) = Table{var\"#s44\"} where var\"#s44\"<:(AbstractArray{var\"#s13\",1} where var\"#s13\"<:Continuous).\n",
      "└ @ MLJBase /home/andrew/.julia/packages/MLJBase/uKzAz/src/machines.jl:77\n"
     ]
    },
    {
     "name": "stderr",
     "output_type": "stream",
     "text": [
      "\u001b[33mEvaluating over 140 metamodels:  84%[====================>    ]  ETA: 0:04:27\u001b[39m┌ Warning: The scitype of `X`, in `machine(model, X, ...)` is incompatible with `model=\u001b[34mNeuralNetworkClassifier{CustomNN,…} @600\u001b[39m`:\n",
      "│ scitype(X) = Table{Union{AbstractArray{Continuous,1}, AbstractArray{Count,1}}}\n",
      "│ input_scitype(model) = Table{var\"#s44\"} where var\"#s44\"<:(AbstractArray{var\"#s13\",1} where var\"#s13\"<:Continuous).\n",
      "└ @ MLJBase /home/andrew/.julia/packages/MLJBase/uKzAz/src/machines.jl:77\n",
      "\u001b[33mEvaluating over 140 metamodels:  84%[=====================>   ]  ETA: 0:04:25\u001b[39m┌ Warning: The scitype of `X`, in `machine(model, X, ...)` is incompatible with `model=\u001b[34mNeuralNetworkClassifier{CustomNN,…} @115\u001b[39m`:\n",
      "│ scitype(X) = Table{Union{AbstractArray{Continuous,1}, AbstractArray{Count,1}}}\n",
      "│ input_scitype(model) = Table{var\"#s44\"} where var\"#s44\"<:(AbstractArray{var\"#s13\",1} where var\"#s13\"<:Continuous).\n",
      "└ @ MLJBase /home/andrew/.julia/packages/MLJBase/uKzAz/src/machines.jl:77\n",
      "\u001b[33mEvaluating over 140 metamodels:  85%[=====================>   ]  ETA: 0:04:22\u001b[39m┌ Warning: The scitype of `X`, in `machine(model, X, ...)` is incompatible with `model=\u001b[34mNeuralNetworkClassifier{CustomNN,…} @247\u001b[39m`:\n",
      "│ scitype(X) = Table{Union{AbstractArray{Continuous,1}, AbstractArray{Count,1}}}\n",
      "│ input_scitype(model) = Table{var\"#s44\"} where var\"#s44\"<:(AbstractArray{var\"#s13\",1} where var\"#s13\"<:Continuous).\n",
      "└ @ MLJBase /home/andrew/.julia/packages/MLJBase/uKzAz/src/machines.jl:77\n",
      "\u001b[33mEvaluating over 140 metamodels:  86%[=====================>   ]  ETA: 0:04:18\u001b[39m┌ Warning: The scitype of `X`, in `machine(model, X, ...)` is incompatible with `model=\u001b[34mNeuralNetworkClassifier{CustomNN,…} @760\u001b[39m`:\n",
      "│ scitype(X) = Table{Union{AbstractArray{Continuous,1}, AbstractArray{Count,1}}}\n",
      "│ input_scitype(model) = Table{var\"#s44\"} where var\"#s44\"<:(AbstractArray{var\"#s13\",1} where var\"#s13\"<:Continuous).\n",
      "└ @ MLJBase /home/andrew/.julia/packages/MLJBase/uKzAz/src/machines.jl:77\n",
      "\u001b[33mEvaluating over 140 metamodels:  86%[=====================>   ]  ETA: 0:04:14\u001b[39m┌ Warning: The scitype of `X`, in `machine(model, X, ...)` is incompatible with `model=\u001b[34mNeuralNetworkClassifier{CustomNN,…} @078\u001b[39m`:\n",
      "│ scitype(X) = Table{Union{AbstractArray{Continuous,1}, AbstractArray{Count,1}}}\n",
      "│ input_scitype(model) = Table{var\"#s44\"} where var\"#s44\"<:(AbstractArray{var\"#s13\",1} where var\"#s13\"<:Continuous).\n",
      "└ @ MLJBase /home/andrew/.julia/packages/MLJBase/uKzAz/src/machines.jl:77\n",
      "\u001b[33mEvaluating over 140 metamodels:  87%[=====================>   ]  ETA: 0:04:09\u001b[39m┌ Warning: The scitype of `X`, in `machine(model, X, ...)` is incompatible with `model=\u001b[34mNeuralNetworkClassifier{CustomNN,…} @949\u001b[39m`:\n",
      "│ scitype(X) = Table{Union{AbstractArray{Continuous,1}, AbstractArray{Count,1}}}\n",
      "│ input_scitype(model) = Table{var\"#s44\"} where var\"#s44\"<:(AbstractArray{var\"#s13\",1} where var\"#s13\"<:Continuous).\n",
      "└ @ MLJBase /home/andrew/.julia/packages/MLJBase/uKzAz/src/machines.jl:77\n",
      "\u001b[33mEvaluating over 140 metamodels:  88%[=====================>   ]  ETA: 0:04:03\u001b[39m┌ Warning: The scitype of `X`, in `machine(model, X, ...)` is incompatible with `model=\u001b[34mNeuralNetworkClassifier{CustomNN,…} @234\u001b[39m`:\n",
      "│ scitype(X) = Table{Union{AbstractArray{Continuous,1}, AbstractArray{Count,1}}}\n",
      "│ input_scitype(model) = Table{var\"#s44\"} where var\"#s44\"<:(AbstractArray{var\"#s13\",1} where var\"#s13\"<:Continuous).\n",
      "└ @ MLJBase /home/andrew/.julia/packages/MLJBase/uKzAz/src/machines.jl:77\n",
      "\u001b[33mEvaluating over 140 metamodels:  89%[======================>  ]  ETA: 0:03:57\u001b[39m┌ Warning: The scitype of `X`, in `machine(model, X, ...)` is incompatible with `model=\u001b[34mNeuralNetworkClassifier{CustomNN,…} @265\u001b[39m`:\n",
      "│ scitype(X) = Table{Union{AbstractArray{Continuous,1}, AbstractArray{Count,1}}}\n",
      "│ input_scitype(model) = Table{var\"#s44\"} where var\"#s44\"<:(AbstractArray{var\"#s13\",1} where var\"#s13\"<:Continuous).\n",
      "└ @ MLJBase /home/andrew/.julia/packages/MLJBase/uKzAz/src/machines.jl:77\n",
      "\u001b[33mEvaluating over 140 metamodels:  89%[======================>  ]  ETA: 0:03:50\u001b[39m┌ Warning: The scitype of `X`, in `machine(model, X, ...)` is incompatible with `model=\u001b[34mNeuralNetworkClassifier{CustomNN,…} @230\u001b[39m`:\n",
      "│ scitype(X) = Table{Union{AbstractArray{Continuous,1}, AbstractArray{Count,1}}}\n",
      "│ input_scitype(model) = Table{var\"#s44\"} where var\"#s44\"<:(AbstractArray{var\"#s13\",1} where var\"#s13\"<:Continuous).\n",
      "└ @ MLJBase /home/andrew/.julia/packages/MLJBase/uKzAz/src/machines.jl:77\n",
      "\u001b[33mEvaluating over 140 metamodels:  90%[======================>  ]  ETA: 0:03:42\u001b[39m┌ Warning: The scitype of `X`, in `machine(model, X, ...)` is incompatible with `model=\u001b[34mNeuralNetworkClassifier{CustomNN,…} @788\u001b[39m`:\n",
      "│ scitype(X) = Table{Union{AbstractArray{Continuous,1}, AbstractArray{Count,1}}}\n",
      "│ input_scitype(model) = Table{var\"#s44\"} where var\"#s44\"<:(AbstractArray{var\"#s13\",1} where var\"#s13\"<:Continuous).\n",
      "└ @ MLJBase /home/andrew/.julia/packages/MLJBase/uKzAz/src/machines.jl:77\n",
      "\u001b[33mEvaluating over 140 metamodels:  91%[======================>  ]  ETA: 0:03:34\u001b[39m┌ Warning: The scitype of `X`, in `machine(model, X, ...)` is incompatible with `model=\u001b[34mNeuralNetworkClassifier{CustomNN,…} @806\u001b[39m`:\n",
      "│ scitype(X) = Table{Union{AbstractArray{Continuous,1}, AbstractArray{Count,1}}}\n",
      "│ input_scitype(model) = Table{var\"#s44\"} where var\"#s44\"<:(AbstractArray{var\"#s13\",1} where var\"#s13\"<:Continuous).\n",
      "└ @ MLJBase /home/andrew/.julia/packages/MLJBase/uKzAz/src/machines.jl:77\n",
      "\u001b[33mEvaluating over 140 metamodels:  91%[======================>  ]  ETA: 0:03:24\u001b[39m┌ Warning: The scitype of `X`, in `machine(model, X, ...)` is incompatible with `model=\u001b[34mNeuralNetworkClassifier{CustomNN,…} @036\u001b[39m`:\n",
      "│ scitype(X) = Table{Union{AbstractArray{Continuous,1}, AbstractArray{Count,1}}}\n",
      "│ input_scitype(model) = Table{var\"#s44\"} where var\"#s44\"<:(AbstractArray{var\"#s13\",1} where var\"#s13\"<:Continuous).\n",
      "└ @ MLJBase /home/andrew/.julia/packages/MLJBase/uKzAz/src/machines.jl:77\n",
      "\u001b[33mEvaluating over 140 metamodels:  92%[=======================> ]  ETA: 0:03:14\u001b[39m┌ Warning: The scitype of `X`, in `machine(model, X, ...)` is incompatible with `model=\u001b[34mNeuralNetworkClassifier{CustomNN,…} @283\u001b[39m`:\n",
      "│ scitype(X) = Table{Union{AbstractArray{Continuous,1}, AbstractArray{Count,1}}}\n",
      "│ input_scitype(model) = Table{var\"#s44\"} where var\"#s44\"<:(AbstractArray{var\"#s13\",1} where var\"#s13\"<:Continuous).\n",
      "└ @ MLJBase /home/andrew/.julia/packages/MLJBase/uKzAz/src/machines.jl:77\n",
      "\u001b[33mEvaluating over 140 metamodels:  93%[=======================> ]  ETA: 0:03:02\u001b[39m┌ Warning: The scitype of `X`, in `machine(model, X, ...)` is incompatible with `model=\u001b[34mNeuralNetworkClassifier{CustomNN,…} @877\u001b[39m`:\n",
      "│ scitype(X) = Table{Union{AbstractArray{Continuous,1}, AbstractArray{Count,1}}}\n",
      "│ input_scitype(model) = Table{var\"#s44\"} where var\"#s44\"<:(AbstractArray{var\"#s13\",1} where var\"#s13\"<:Continuous).\n",
      "└ @ MLJBase /home/andrew/.julia/packages/MLJBase/uKzAz/src/machines.jl:77\n",
      "\u001b[33mEvaluating over 140 metamodels:  94%[=======================> ]  ETA: 0:02:50\u001b[39m┌ Warning: The scitype of `X`, in `machine(model, X, ...)` is incompatible with `model=\u001b[34mNeuralNetworkClassifier{CustomNN,…} @662\u001b[39m`:\n",
      "│ scitype(X) = Table{Union{AbstractArray{Continuous,1}, AbstractArray{Count,1}}}\n",
      "│ input_scitype(model) = Table{var\"#s44\"} where var\"#s44\"<:(AbstractArray{var\"#s13\",1} where var\"#s13\"<:Continuous).\n",
      "└ @ MLJBase /home/andrew/.julia/packages/MLJBase/uKzAz/src/machines.jl:77\n",
      "\u001b[33mEvaluating over 140 metamodels:  94%[=======================> ]  ETA: 0:02:36\u001b[39m┌ Warning: The scitype of `X`, in `machine(model, X, ...)` is incompatible with `model=\u001b[34mNeuralNetworkClassifier{CustomNN,…} @396\u001b[39m`:\n",
      "│ scitype(X) = Table{Union{AbstractArray{Continuous,1}, AbstractArray{Count,1}}}\n",
      "│ input_scitype(model) = Table{var\"#s44\"} where var\"#s44\"<:(AbstractArray{var\"#s13\",1} where var\"#s13\"<:Continuous).\n",
      "└ @ MLJBase /home/andrew/.julia/packages/MLJBase/uKzAz/src/machines.jl:77\n",
      "\u001b[33mEvaluating over 140 metamodels:  95%[=======================> ]  ETA: 0:02:21\u001b[39m┌ Warning: The scitype of `X`, in `machine(model, X, ...)` is incompatible with `model=\u001b[34mNeuralNetworkClassifier{CustomNN,…} @152\u001b[39m`:\n",
      "│ scitype(X) = Table{Union{AbstractArray{Continuous,1}, AbstractArray{Count,1}}}\n",
      "│ input_scitype(model) = Table{var\"#s44\"} where var\"#s44\"<:(AbstractArray{var\"#s13\",1} where var\"#s13\"<:Continuous).\n",
      "└ @ MLJBase /home/andrew/.julia/packages/MLJBase/uKzAz/src/machines.jl:77\n"
     ]
    },
    {
     "name": "stderr",
     "output_type": "stream",
     "text": [
      "\u001b[33mEvaluating over 140 metamodels:  96%[=======================> ]  ETA: 0:02:05\u001b[39m┌ Warning: The scitype of `X`, in `machine(model, X, ...)` is incompatible with `model=\u001b[34mNeuralNetworkClassifier{CustomNN,…} @018\u001b[39m`:\n",
      "│ scitype(X) = Table{Union{AbstractArray{Continuous,1}, AbstractArray{Count,1}}}\n",
      "│ input_scitype(model) = Table{var\"#s44\"} where var\"#s44\"<:(AbstractArray{var\"#s13\",1} where var\"#s13\"<:Continuous).\n",
      "└ @ MLJBase /home/andrew/.julia/packages/MLJBase/uKzAz/src/machines.jl:77\n",
      "\u001b[33mEvaluating over 140 metamodels:  96%[========================>]  ETA: 0:01:48\u001b[39m┌ Warning: The scitype of `X`, in `machine(model, X, ...)` is incompatible with `model=\u001b[34mNeuralNetworkClassifier{CustomNN,…} @945\u001b[39m`:\n",
      "│ scitype(X) = Table{Union{AbstractArray{Continuous,1}, AbstractArray{Count,1}}}\n",
      "│ input_scitype(model) = Table{var\"#s44\"} where var\"#s44\"<:(AbstractArray{var\"#s13\",1} where var\"#s13\"<:Continuous).\n",
      "└ @ MLJBase /home/andrew/.julia/packages/MLJBase/uKzAz/src/machines.jl:77\n",
      "\u001b[33mEvaluating over 140 metamodels:  97%[========================>]  ETA: 0:01:30\u001b[39m┌ Warning: The scitype of `X`, in `machine(model, X, ...)` is incompatible with `model=\u001b[34mNeuralNetworkClassifier{CustomNN,…} @597\u001b[39m`:\n",
      "│ scitype(X) = Table{Union{AbstractArray{Continuous,1}, AbstractArray{Count,1}}}\n",
      "│ input_scitype(model) = Table{var\"#s44\"} where var\"#s44\"<:(AbstractArray{var\"#s13\",1} where var\"#s13\"<:Continuous).\n",
      "└ @ MLJBase /home/andrew/.julia/packages/MLJBase/uKzAz/src/machines.jl:77\n",
      "\u001b[33mEvaluating over 140 metamodels:  98%[========================>]  ETA: 0:01:10\u001b[39m┌ Warning: The scitype of `X`, in `machine(model, X, ...)` is incompatible with `model=\u001b[34mNeuralNetworkClassifier{CustomNN,…} @093\u001b[39m`:\n",
      "│ scitype(X) = Table{Union{AbstractArray{Continuous,1}, AbstractArray{Count,1}}}\n",
      "│ input_scitype(model) = Table{var\"#s44\"} where var\"#s44\"<:(AbstractArray{var\"#s13\",1} where var\"#s13\"<:Continuous).\n",
      "└ @ MLJBase /home/andrew/.julia/packages/MLJBase/uKzAz/src/machines.jl:77\n",
      "\u001b[33mEvaluating over 140 metamodels:  99%[========================>]  ETA: 0:00:48\u001b[39m┌ Warning: The scitype of `X`, in `machine(model, X, ...)` is incompatible with `model=\u001b[34mNeuralNetworkClassifier{CustomNN,…} @602\u001b[39m`:\n",
      "│ scitype(X) = Table{Union{AbstractArray{Continuous,1}, AbstractArray{Count,1}}}\n",
      "│ input_scitype(model) = Table{var\"#s44\"} where var\"#s44\"<:(AbstractArray{var\"#s13\",1} where var\"#s13\"<:Continuous).\n",
      "└ @ MLJBase /home/andrew/.julia/packages/MLJBase/uKzAz/src/machines.jl:77\n",
      "\u001b[33mEvaluating over 140 metamodels:  99%[========================>]  ETA: 0:00:25\u001b[39m┌ Warning: The scitype of `X`, in `machine(model, X, ...)` is incompatible with `model=\u001b[34mNeuralNetworkClassifier{CustomNN,…} @308\u001b[39m`:\n",
      "│ scitype(X) = Table{Union{AbstractArray{Continuous,1}, AbstractArray{Count,1}}}\n",
      "│ input_scitype(model) = Table{var\"#s44\"} where var\"#s44\"<:(AbstractArray{var\"#s13\",1} where var\"#s13\"<:Continuous).\n",
      "└ @ MLJBase /home/andrew/.julia/packages/MLJBase/uKzAz/src/machines.jl:77\n",
      "\u001b[33mEvaluating over 140 metamodels: 100%[=========================] Time: 1:00:01\u001b[39m\n",
      "┌ Warning: The scitype of `X`, in `machine(model, X, ...)` is incompatible with `model=\u001b[34mNeuralNetworkClassifier{CustomNN,…} @913\u001b[39m`:\n",
      "│ scitype(X) = Table{Union{AbstractArray{Continuous,1}, AbstractArray{Count,1}}}\n",
      "│ input_scitype(model) = Table{var\"#s44\"} where var\"#s44\"<:(AbstractArray{var\"#s13\",1} where var\"#s13\"<:Continuous).\n",
      "└ @ MLJBase /home/andrew/.julia/packages/MLJBase/uKzAz/src/machines.jl:77\n"
     ]
    },
    {
     "data": {
      "text/plain": [
       "(parameter_name = \"epochs\",\n",
       " parameter_scale = :log10,\n",
       " parameter_values = [1, 2, 3, 4, 5, 6, 7, 8, 9, 10  …  1418, 1473, 1531, 1590, 1652, 1717, 1783, 1853, 1925, 2000],\n",
       " measurements = [0.783231258392334, 0.685908854007721, 0.6785063743591309, 0.6733691692352295, 0.677566409111023, 0.6619722247123718, 0.6616408824920654, 0.6446560025215149, 0.6581064462661743, 0.6322696208953857  …  0.5266512036323547, 0.5254709720611572, 0.5278550386428833, 0.5248357653617859, 0.5253816246986389, 0.5276788473129272, 0.5320039987564087, 0.5175420641899109, 0.5371153354644775, 0.5389817357063293],)"
      ]
     },
     "execution_count": 139,
     "metadata": {},
     "output_type": "execute_result"
    }
   ],
   "source": [
    "curve = MLJ.learning_curve(Net, \n",
    "                        range=r, \n",
    "#                         resampling=Holdout(fraction_train=0.7), \n",
    "                        resampling=CV(nfolds=4), \n",
    "                        measure=cross_entropy, \n",
    "                        acceleration=CPUProcesses(),\n",
    "                        resolution=200\n",
    ")"
   ]
  },
  {
   "cell_type": "code",
   "execution_count": 140,
   "metadata": {},
   "outputs": [
    {
     "data": {
      "image/svg+xml": [
       "<?xml version=\"1.0\" encoding=\"utf-8\"?>\n",
       "<svg xmlns=\"http://www.w3.org/2000/svg\" xmlns:xlink=\"http://www.w3.org/1999/xlink\" width=\"600\" height=\"400\" viewBox=\"0 0 2400 1600\">\n",
       "<defs>\n",
       "  <clipPath id=\"clip070\">\n",
       "    <rect x=\"0\" y=\"0\" width=\"2400\" height=\"1600\"/>\n",
       "  </clipPath>\n",
       "</defs>\n",
       "<path clip-path=\"url(#clip070)\" d=\"\n",
       "M0 1600 L2400 1600 L2400 0 L0 0  Z\n",
       "  \" fill=\"#ffffff\" fill-rule=\"evenodd\" fill-opacity=\"1\"/>\n",
       "<defs>\n",
       "  <clipPath id=\"clip071\">\n",
       "    <rect x=\"480\" y=\"0\" width=\"1681\" height=\"1600\"/>\n",
       "  </clipPath>\n",
       "</defs>\n",
       "<path clip-path=\"url(#clip070)\" d=\"\n",
       "M211.602 1423.18 L2352.76 1423.18 L2352.76 47.2441 L211.602 47.2441  Z\n",
       "  \" fill=\"#ffffff\" fill-rule=\"evenodd\" fill-opacity=\"1\"/>\n",
       "<defs>\n",
       "  <clipPath id=\"clip072\">\n",
       "    <rect x=\"211\" y=\"47\" width=\"2142\" height=\"1377\"/>\n",
       "  </clipPath>\n",
       "</defs>\n",
       "<polyline clip-path=\"url(#clip072)\" style=\"stroke:#000000; stroke-width:2; stroke-opacity:0.1; fill:none\" points=\"\n",
       "  271.191,1423.18 271.191,47.2441 \n",
       "  \"/>\n",
       "<polyline clip-path=\"url(#clip072)\" style=\"stroke:#000000; stroke-width:2; stroke-opacity:0.1; fill:none\" points=\"\n",
       "  776.432,1423.18 776.432,47.2441 \n",
       "  \"/>\n",
       "<polyline clip-path=\"url(#clip072)\" style=\"stroke:#000000; stroke-width:2; stroke-opacity:0.1; fill:none\" points=\"\n",
       "  1281.67,1423.18 1281.67,47.2441 \n",
       "  \"/>\n",
       "<polyline clip-path=\"url(#clip072)\" style=\"stroke:#000000; stroke-width:2; stroke-opacity:0.1; fill:none\" points=\"\n",
       "  1786.92,1423.18 1786.92,47.2441 \n",
       "  \"/>\n",
       "<polyline clip-path=\"url(#clip072)\" style=\"stroke:#000000; stroke-width:2; stroke-opacity:0.1; fill:none\" points=\"\n",
       "  2292.16,1423.18 2292.16,47.2441 \n",
       "  \"/>\n",
       "<polyline clip-path=\"url(#clip072)\" style=\"stroke:#000000; stroke-width:2; stroke-opacity:0.1; fill:none\" points=\"\n",
       "  211.602,1223.83 2352.76,1223.83 \n",
       "  \"/>\n",
       "<polyline clip-path=\"url(#clip072)\" style=\"stroke:#000000; stroke-width:2; stroke-opacity:0.1; fill:none\" points=\"\n",
       "  211.602,926.972 2352.76,926.972 \n",
       "  \"/>\n",
       "<polyline clip-path=\"url(#clip072)\" style=\"stroke:#000000; stroke-width:2; stroke-opacity:0.1; fill:none\" points=\"\n",
       "  211.602,630.117 2352.76,630.117 \n",
       "  \"/>\n",
       "<polyline clip-path=\"url(#clip072)\" style=\"stroke:#000000; stroke-width:2; stroke-opacity:0.1; fill:none\" points=\"\n",
       "  211.602,333.262 2352.76,333.262 \n",
       "  \"/>\n",
       "<polyline clip-path=\"url(#clip070)\" style=\"stroke:#000000; stroke-width:4; stroke-opacity:1; fill:none\" points=\"\n",
       "  211.602,1423.18 2352.76,1423.18 \n",
       "  \"/>\n",
       "<polyline clip-path=\"url(#clip070)\" style=\"stroke:#000000; stroke-width:4; stroke-opacity:1; fill:none\" points=\"\n",
       "  211.602,1423.18 211.602,47.2441 \n",
       "  \"/>\n",
       "<polyline clip-path=\"url(#clip070)\" style=\"stroke:#000000; stroke-width:4; stroke-opacity:1; fill:none\" points=\"\n",
       "  271.191,1423.18 271.191,1406.67 \n",
       "  \"/>\n",
       "<polyline clip-path=\"url(#clip070)\" style=\"stroke:#000000; stroke-width:4; stroke-opacity:1; fill:none\" points=\"\n",
       "  776.432,1423.18 776.432,1406.67 \n",
       "  \"/>\n",
       "<polyline clip-path=\"url(#clip070)\" style=\"stroke:#000000; stroke-width:4; stroke-opacity:1; fill:none\" points=\"\n",
       "  1281.67,1423.18 1281.67,1406.67 \n",
       "  \"/>\n",
       "<polyline clip-path=\"url(#clip070)\" style=\"stroke:#000000; stroke-width:4; stroke-opacity:1; fill:none\" points=\"\n",
       "  1786.92,1423.18 1786.92,1406.67 \n",
       "  \"/>\n",
       "<polyline clip-path=\"url(#clip070)\" style=\"stroke:#000000; stroke-width:4; stroke-opacity:1; fill:none\" points=\"\n",
       "  2292.16,1423.18 2292.16,1406.67 \n",
       "  \"/>\n",
       "<polyline clip-path=\"url(#clip070)\" style=\"stroke:#000000; stroke-width:4; stroke-opacity:1; fill:none\" points=\"\n",
       "  211.602,1223.83 237.296,1223.83 \n",
       "  \"/>\n",
       "<polyline clip-path=\"url(#clip070)\" style=\"stroke:#000000; stroke-width:4; stroke-opacity:1; fill:none\" points=\"\n",
       "  211.602,926.972 237.296,926.972 \n",
       "  \"/>\n",
       "<polyline clip-path=\"url(#clip070)\" style=\"stroke:#000000; stroke-width:4; stroke-opacity:1; fill:none\" points=\"\n",
       "  211.602,630.117 237.296,630.117 \n",
       "  \"/>\n",
       "<polyline clip-path=\"url(#clip070)\" style=\"stroke:#000000; stroke-width:4; stroke-opacity:1; fill:none\" points=\"\n",
       "  211.602,333.262 237.296,333.262 \n",
       "  \"/>\n",
       "<path clip-path=\"url(#clip070)\" d=\"M 0 0 M271.191 1445.17 Q267.58 1445.17 265.751 1448.74 Q263.945 1452.28 263.945 1459.41 Q263.945 1466.51 265.751 1470.08 Q267.58 1473.62 271.191 1473.62 Q274.825 1473.62 276.63 1470.08 Q278.459 1466.51 278.459 1459.41 Q278.459 1452.28 276.63 1448.74 Q274.825 1445.17 271.191 1445.17 M271.191 1441.47 Q277.001 1441.47 280.056 1446.07 Q283.135 1450.66 283.135 1459.41 Q283.135 1468.13 280.056 1472.74 Q277.001 1477.32 271.191 1477.32 Q265.38 1477.32 262.302 1472.74 Q259.246 1468.13 259.246 1459.41 Q259.246 1450.66 262.302 1446.07 Q265.38 1441.47 271.191 1441.47 Z\" fill=\"#000000\" fill-rule=\"evenodd\" fill-opacity=\"1\" /><path clip-path=\"url(#clip070)\" d=\"M 0 0 M739.696 1442.09 L758.053 1442.09 L758.053 1446.03 L743.979 1446.03 L743.979 1454.5 Q744.997 1454.15 746.016 1453.99 Q747.034 1453.8 748.053 1453.8 Q753.84 1453.8 757.219 1456.98 Q760.599 1460.15 760.599 1465.56 Q760.599 1471.14 757.127 1474.24 Q753.655 1477.32 747.335 1477.32 Q745.159 1477.32 742.891 1476.95 Q740.645 1476.58 738.238 1475.84 L738.238 1471.14 Q740.321 1472.28 742.544 1472.83 Q744.766 1473.39 747.243 1473.39 Q751.247 1473.39 753.585 1471.28 Q755.923 1469.18 755.923 1465.56 Q755.923 1461.95 753.585 1459.85 Q751.247 1457.74 747.243 1457.74 Q745.368 1457.74 743.493 1458.16 Q741.641 1458.57 739.696 1459.45 L739.696 1442.09 Z\" fill=\"#000000\" fill-rule=\"evenodd\" fill-opacity=\"1\" /><path clip-path=\"url(#clip070)\" d=\"M 0 0 M775.668 1445.17 Q772.057 1445.17 770.229 1448.74 Q768.423 1452.28 768.423 1459.41 Q768.423 1466.51 770.229 1470.08 Q772.057 1473.62 775.668 1473.62 Q779.303 1473.62 781.108 1470.08 Q782.937 1466.51 782.937 1459.41 Q782.937 1452.28 781.108 1448.74 Q779.303 1445.17 775.668 1445.17 M775.668 1441.47 Q781.479 1441.47 784.534 1446.07 Q787.613 1450.66 787.613 1459.41 Q787.613 1468.13 784.534 1472.74 Q781.479 1477.32 775.668 1477.32 Q769.858 1477.32 766.78 1472.74 Q763.724 1468.13 763.724 1459.41 Q763.724 1450.66 766.78 1446.07 Q769.858 1441.47 775.668 1441.47 Z\" fill=\"#000000\" fill-rule=\"evenodd\" fill-opacity=\"1\" /><path clip-path=\"url(#clip070)\" d=\"M 0 0 M802.682 1445.17 Q799.071 1445.17 797.242 1448.74 Q795.437 1452.28 795.437 1459.41 Q795.437 1466.51 797.242 1470.08 Q799.071 1473.62 802.682 1473.62 Q806.316 1473.62 808.122 1470.08 Q809.951 1466.51 809.951 1459.41 Q809.951 1452.28 808.122 1448.74 Q806.316 1445.17 802.682 1445.17 M802.682 1441.47 Q808.492 1441.47 811.548 1446.07 Q814.627 1450.66 814.627 1459.41 Q814.627 1468.13 811.548 1472.74 Q808.492 1477.32 802.682 1477.32 Q796.872 1477.32 793.793 1472.74 Q790.738 1468.13 790.738 1459.41 Q790.738 1450.66 793.793 1446.07 Q796.872 1441.47 802.682 1441.47 Z\" fill=\"#000000\" fill-rule=\"evenodd\" fill-opacity=\"1\" /><path clip-path=\"url(#clip070)\" d=\"M 0 0 M1231.54 1472.72 L1239.17 1472.72 L1239.17 1446.35 L1230.86 1448.02 L1230.86 1443.76 L1239.13 1442.09 L1243.8 1442.09 L1243.8 1472.72 L1251.44 1472.72 L1251.44 1476.65 L1231.54 1476.65 L1231.54 1472.72 Z\" fill=\"#000000\" fill-rule=\"evenodd\" fill-opacity=\"1\" /><path clip-path=\"url(#clip070)\" d=\"M 0 0 M1266.51 1445.17 Q1262.9 1445.17 1261.07 1448.74 Q1259.27 1452.28 1259.27 1459.41 Q1259.27 1466.51 1261.07 1470.08 Q1262.9 1473.62 1266.51 1473.62 Q1270.15 1473.62 1271.95 1470.08 Q1273.78 1466.51 1273.78 1459.41 Q1273.78 1452.28 1271.95 1448.74 Q1270.15 1445.17 1266.51 1445.17 M1266.51 1441.47 Q1272.32 1441.47 1275.38 1446.07 Q1278.46 1450.66 1278.46 1459.41 Q1278.46 1468.13 1275.38 1472.74 Q1272.32 1477.32 1266.51 1477.32 Q1260.7 1477.32 1257.62 1472.74 Q1254.57 1468.13 1254.57 1459.41 Q1254.57 1450.66 1257.62 1446.07 Q1260.7 1441.47 1266.51 1441.47 Z\" fill=\"#000000\" fill-rule=\"evenodd\" fill-opacity=\"1\" /><path clip-path=\"url(#clip070)\" d=\"M 0 0 M1293.53 1445.17 Q1289.91 1445.17 1288.09 1448.74 Q1286.28 1452.28 1286.28 1459.41 Q1286.28 1466.51 1288.09 1470.08 Q1289.91 1473.62 1293.53 1473.62 Q1297.16 1473.62 1298.97 1470.08 Q1300.79 1466.51 1300.79 1459.41 Q1300.79 1452.28 1298.97 1448.74 Q1297.16 1445.17 1293.53 1445.17 M1293.53 1441.47 Q1299.34 1441.47 1302.39 1446.07 Q1305.47 1450.66 1305.47 1459.41 Q1305.47 1468.13 1302.39 1472.74 Q1299.34 1477.32 1293.53 1477.32 Q1287.72 1477.32 1284.64 1472.74 Q1281.58 1468.13 1281.58 1459.41 Q1281.58 1450.66 1284.64 1446.07 Q1287.72 1441.47 1293.53 1441.47 Z\" fill=\"#000000\" fill-rule=\"evenodd\" fill-opacity=\"1\" /><path clip-path=\"url(#clip070)\" d=\"M 0 0 M1320.54 1445.17 Q1316.93 1445.17 1315.1 1448.74 Q1313.29 1452.28 1313.29 1459.41 Q1313.29 1466.51 1315.1 1470.08 Q1316.93 1473.62 1320.54 1473.62 Q1324.17 1473.62 1325.98 1470.08 Q1327.81 1466.51 1327.81 1459.41 Q1327.81 1452.28 1325.98 1448.74 Q1324.17 1445.17 1320.54 1445.17 M1320.54 1441.47 Q1326.35 1441.47 1329.41 1446.07 Q1332.48 1450.66 1332.48 1459.41 Q1332.48 1468.13 1329.41 1472.74 Q1326.35 1477.32 1320.54 1477.32 Q1314.73 1477.32 1311.65 1472.74 Q1308.6 1468.13 1308.6 1459.41 Q1308.6 1450.66 1311.65 1446.07 Q1314.73 1441.47 1320.54 1441.47 Z\" fill=\"#000000\" fill-rule=\"evenodd\" fill-opacity=\"1\" /><path clip-path=\"url(#clip070)\" d=\"M 0 0 M1737.27 1472.72 L1744.91 1472.72 L1744.91 1446.35 L1736.6 1448.02 L1736.6 1443.76 L1744.87 1442.09 L1749.54 1442.09 L1749.54 1472.72 L1757.18 1472.72 L1757.18 1476.65 L1737.27 1476.65 L1737.27 1472.72 Z\" fill=\"#000000\" fill-rule=\"evenodd\" fill-opacity=\"1\" /><path clip-path=\"url(#clip070)\" d=\"M 0 0 M1762.3 1442.09 L1780.65 1442.09 L1780.65 1446.03 L1766.58 1446.03 L1766.58 1454.5 Q1767.6 1454.15 1768.62 1453.99 Q1769.64 1453.8 1770.65 1453.8 Q1776.44 1453.8 1779.82 1456.98 Q1783.2 1460.15 1783.2 1465.56 Q1783.2 1471.14 1779.73 1474.24 Q1776.26 1477.32 1769.94 1477.32 Q1767.76 1477.32 1765.49 1476.95 Q1763.25 1476.58 1760.84 1475.84 L1760.84 1471.14 Q1762.92 1472.28 1765.14 1472.83 Q1767.37 1473.39 1769.84 1473.39 Q1773.85 1473.39 1776.19 1471.28 Q1778.52 1469.18 1778.52 1465.56 Q1778.52 1461.95 1776.19 1459.85 Q1773.85 1457.74 1769.84 1457.74 Q1767.97 1457.74 1766.09 1458.16 Q1764.24 1458.57 1762.3 1459.45 L1762.3 1442.09 Z\" fill=\"#000000\" fill-rule=\"evenodd\" fill-opacity=\"1\" /><path clip-path=\"url(#clip070)\" d=\"M 0 0 M1798.27 1445.17 Q1794.66 1445.17 1792.83 1448.74 Q1791.02 1452.28 1791.02 1459.41 Q1791.02 1466.51 1792.83 1470.08 Q1794.66 1473.62 1798.27 1473.62 Q1801.9 1473.62 1803.71 1470.08 Q1805.54 1466.51 1805.54 1459.41 Q1805.54 1452.28 1803.71 1448.74 Q1801.9 1445.17 1798.27 1445.17 M1798.27 1441.47 Q1804.08 1441.47 1807.14 1446.07 Q1810.21 1450.66 1810.21 1459.41 Q1810.21 1468.13 1807.14 1472.74 Q1804.08 1477.32 1798.27 1477.32 Q1792.46 1477.32 1789.38 1472.74 Q1786.33 1468.13 1786.33 1459.41 Q1786.33 1450.66 1789.38 1446.07 Q1792.46 1441.47 1798.27 1441.47 Z\" fill=\"#000000\" fill-rule=\"evenodd\" fill-opacity=\"1\" /><path clip-path=\"url(#clip070)\" d=\"M 0 0 M1825.28 1445.17 Q1821.67 1445.17 1819.84 1448.74 Q1818.04 1452.28 1818.04 1459.41 Q1818.04 1466.51 1819.84 1470.08 Q1821.67 1473.62 1825.28 1473.62 Q1828.92 1473.62 1830.72 1470.08 Q1832.55 1466.51 1832.55 1459.41 Q1832.55 1452.28 1830.72 1448.74 Q1828.92 1445.17 1825.28 1445.17 M1825.28 1441.47 Q1831.09 1441.47 1834.15 1446.07 Q1837.23 1450.66 1837.23 1459.41 Q1837.23 1468.13 1834.15 1472.74 Q1831.09 1477.32 1825.28 1477.32 Q1819.47 1477.32 1816.39 1472.74 Q1813.34 1468.13 1813.34 1459.41 Q1813.34 1450.66 1816.39 1446.07 Q1819.47 1441.47 1825.28 1441.47 Z\" fill=\"#000000\" fill-rule=\"evenodd\" fill-opacity=\"1\" /><path clip-path=\"url(#clip070)\" d=\"M 0 0 M2246.29 1472.72 L2262.61 1472.72 L2262.61 1476.65 L2240.66 1476.65 L2240.66 1472.72 Q2243.33 1469.96 2247.91 1465.33 Q2252.52 1460.68 2253.7 1459.34 Q2255.94 1456.81 2256.82 1455.08 Q2257.72 1453.32 2257.72 1451.63 Q2257.72 1448.87 2255.78 1447.14 Q2253.86 1445.4 2250.76 1445.4 Q2248.56 1445.4 2246.1 1446.17 Q2243.67 1446.93 2240.9 1448.48 L2240.9 1443.76 Q2243.72 1442.62 2246.17 1442.05 Q2248.63 1441.47 2250.66 1441.47 Q2256.03 1441.47 2259.23 1444.15 Q2262.42 1446.84 2262.42 1451.33 Q2262.42 1453.46 2261.61 1455.38 Q2260.83 1457.28 2258.72 1459.87 Q2258.14 1460.54 2255.04 1463.76 Q2251.94 1466.95 2246.29 1472.72 Z\" fill=\"#000000\" fill-rule=\"evenodd\" fill-opacity=\"1\" /><path clip-path=\"url(#clip070)\" d=\"M 0 0 M2277.68 1445.17 Q2274.07 1445.17 2272.24 1448.74 Q2270.43 1452.28 2270.43 1459.41 Q2270.43 1466.51 2272.24 1470.08 Q2274.07 1473.62 2277.68 1473.62 Q2281.31 1473.62 2283.12 1470.08 Q2284.95 1466.51 2284.95 1459.41 Q2284.95 1452.28 2283.12 1448.74 Q2281.31 1445.17 2277.68 1445.17 M2277.68 1441.47 Q2283.49 1441.47 2286.54 1446.07 Q2289.62 1450.66 2289.62 1459.41 Q2289.62 1468.13 2286.54 1472.74 Q2283.49 1477.32 2277.68 1477.32 Q2271.87 1477.32 2268.79 1472.74 Q2265.73 1468.13 2265.73 1459.41 Q2265.73 1450.66 2268.79 1446.07 Q2271.87 1441.47 2277.68 1441.47 Z\" fill=\"#000000\" fill-rule=\"evenodd\" fill-opacity=\"1\" /><path clip-path=\"url(#clip070)\" d=\"M 0 0 M2304.69 1445.17 Q2301.08 1445.17 2299.25 1448.74 Q2297.45 1452.28 2297.45 1459.41 Q2297.45 1466.51 2299.25 1470.08 Q2301.08 1473.62 2304.69 1473.62 Q2308.33 1473.62 2310.13 1470.08 Q2311.96 1466.51 2311.96 1459.41 Q2311.96 1452.28 2310.13 1448.74 Q2308.33 1445.17 2304.69 1445.17 M2304.69 1441.47 Q2310.5 1441.47 2313.56 1446.07 Q2316.64 1450.66 2316.64 1459.41 Q2316.64 1468.13 2313.56 1472.74 Q2310.5 1477.32 2304.69 1477.32 Q2298.88 1477.32 2295.8 1472.74 Q2292.75 1468.13 2292.75 1459.41 Q2292.75 1450.66 2295.8 1446.07 Q2298.88 1441.47 2304.69 1441.47 Z\" fill=\"#000000\" fill-rule=\"evenodd\" fill-opacity=\"1\" /><path clip-path=\"url(#clip070)\" d=\"M 0 0 M2331.71 1445.17 Q2328.09 1445.17 2326.27 1448.74 Q2324.46 1452.28 2324.46 1459.41 Q2324.46 1466.51 2326.27 1470.08 Q2328.09 1473.62 2331.71 1473.62 Q2335.34 1473.62 2337.15 1470.08 Q2338.97 1466.51 2338.97 1459.41 Q2338.97 1452.28 2337.15 1448.74 Q2335.34 1445.17 2331.71 1445.17 M2331.71 1441.47 Q2337.52 1441.47 2340.57 1446.07 Q2343.65 1450.66 2343.65 1459.41 Q2343.65 1468.13 2340.57 1472.74 Q2337.52 1477.32 2331.71 1477.32 Q2325.9 1477.32 2322.82 1472.74 Q2319.76 1468.13 2319.76 1459.41 Q2319.76 1450.66 2322.82 1446.07 Q2325.9 1441.47 2331.71 1441.47 Z\" fill=\"#000000\" fill-rule=\"evenodd\" fill-opacity=\"1\" /><path clip-path=\"url(#clip070)\" d=\"M 0 0 M138.205 1209.63 Q134.593 1209.63 132.765 1213.19 Q130.959 1216.73 130.959 1223.86 Q130.959 1230.97 132.765 1234.53 Q134.593 1238.07 138.205 1238.07 Q141.839 1238.07 143.644 1234.53 Q145.473 1230.97 145.473 1223.86 Q145.473 1216.73 143.644 1213.19 Q141.839 1209.63 138.205 1209.63 M138.205 1205.92 Q144.015 1205.92 147.07 1210.53 Q150.149 1215.11 150.149 1223.86 Q150.149 1232.59 147.07 1237.2 Q144.015 1241.78 138.205 1241.78 Q132.394 1241.78 129.316 1237.2 Q126.26 1232.59 126.26 1223.86 Q126.26 1215.11 129.316 1210.53 Q132.394 1205.92 138.205 1205.92 Z\" fill=\"#000000\" fill-rule=\"evenodd\" fill-opacity=\"1\" /><path clip-path=\"url(#clip070)\" d=\"M 0 0 M155.218 1235.23 L160.103 1235.23 L160.103 1241.11 L155.218 1241.11 L155.218 1235.23 Z\" fill=\"#000000\" fill-rule=\"evenodd\" fill-opacity=\"1\" /><path clip-path=\"url(#clip070)\" d=\"M 0 0 M178.019 1210.62 L166.214 1229.07 L178.019 1229.07 L178.019 1210.62 M176.792 1206.55 L182.672 1206.55 L182.672 1229.07 L187.602 1229.07 L187.602 1232.96 L182.672 1232.96 L182.672 1241.11 L178.019 1241.11 L178.019 1232.96 L162.417 1232.96 L162.417 1228.45 L176.792 1206.55 Z\" fill=\"#000000\" fill-rule=\"evenodd\" fill-opacity=\"1\" /><path clip-path=\"url(#clip070)\" d=\"M 0 0 M139.686 912.771 Q136.075 912.771 134.246 916.336 Q132.441 919.877 132.441 927.007 Q132.441 934.113 134.246 937.678 Q136.075 941.22 139.686 941.22 Q143.32 941.22 145.126 937.678 Q146.954 934.113 146.954 927.007 Q146.954 919.877 145.126 916.336 Q143.32 912.771 139.686 912.771 M139.686 909.067 Q145.496 909.067 148.552 913.674 Q151.63 918.257 151.63 927.007 Q151.63 935.734 148.552 940.34 Q145.496 944.923 139.686 944.923 Q133.876 944.923 130.797 940.34 Q127.742 935.734 127.742 927.007 Q127.742 918.257 130.797 913.674 Q133.876 909.067 139.686 909.067 Z\" fill=\"#000000\" fill-rule=\"evenodd\" fill-opacity=\"1\" /><path clip-path=\"url(#clip070)\" d=\"M 0 0 M156.7 938.373 L161.584 938.373 L161.584 944.252 L156.7 944.252 L156.7 938.373 Z\" fill=\"#000000\" fill-rule=\"evenodd\" fill-opacity=\"1\" /><path clip-path=\"url(#clip070)\" d=\"M 0 0 M166.7 909.692 L185.056 909.692 L185.056 913.627 L170.982 913.627 L170.982 922.099 Q172.001 921.752 173.019 921.59 Q174.038 921.405 175.056 921.405 Q180.843 921.405 184.223 924.576 Q187.602 927.748 187.602 933.164 Q187.602 938.743 184.13 941.845 Q180.658 944.923 174.339 944.923 Q172.163 944.923 169.894 944.553 Q167.649 944.183 165.241 943.442 L165.241 938.743 Q167.325 939.877 169.547 940.433 Q171.769 940.988 174.246 940.988 Q178.251 940.988 180.589 938.882 Q182.927 936.775 182.927 933.164 Q182.927 929.553 180.589 927.447 Q178.251 925.34 174.246 925.34 Q172.371 925.34 170.496 925.757 Q168.644 926.174 166.7 927.053 L166.7 909.692 Z\" fill=\"#000000\" fill-rule=\"evenodd\" fill-opacity=\"1\" /><path clip-path=\"url(#clip070)\" d=\"M 0 0 M138.529 615.916 Q134.918 615.916 133.089 619.48 Q131.283 623.022 131.283 630.152 Q131.283 637.258 133.089 640.823 Q134.918 644.365 138.529 644.365 Q142.163 644.365 143.968 640.823 Q145.797 637.258 145.797 630.152 Q145.797 623.022 143.968 619.48 Q142.163 615.916 138.529 615.916 M138.529 612.212 Q144.339 612.212 147.394 616.818 Q150.473 621.402 150.473 630.152 Q150.473 638.879 147.394 643.485 Q144.339 648.068 138.529 648.068 Q132.718 648.068 129.64 643.485 Q126.584 638.879 126.584 630.152 Q126.584 621.402 129.64 616.818 Q132.718 612.212 138.529 612.212 Z\" fill=\"#000000\" fill-rule=\"evenodd\" fill-opacity=\"1\" /><path clip-path=\"url(#clip070)\" d=\"M 0 0 M155.542 641.517 L160.427 641.517 L160.427 647.397 L155.542 647.397 L155.542 641.517 Z\" fill=\"#000000\" fill-rule=\"evenodd\" fill-opacity=\"1\" /><path clip-path=\"url(#clip070)\" d=\"M 0 0 M176.075 628.254 Q172.927 628.254 171.075 630.406 Q169.246 632.559 169.246 636.309 Q169.246 640.036 171.075 642.212 Q172.927 644.365 176.075 644.365 Q179.223 644.365 181.052 642.212 Q182.903 640.036 182.903 636.309 Q182.903 632.559 181.052 630.406 Q179.223 628.254 176.075 628.254 M185.357 613.601 L185.357 617.86 Q183.598 617.027 181.792 616.587 Q180.01 616.147 178.251 616.147 Q173.621 616.147 171.167 619.272 Q168.737 622.397 168.39 628.717 Q169.755 626.703 171.815 625.638 Q173.876 624.55 176.352 624.55 Q181.561 624.55 184.57 627.721 Q187.602 630.869 187.602 636.309 Q187.602 641.633 184.454 644.851 Q181.306 648.068 176.075 648.068 Q170.079 648.068 166.908 643.485 Q163.737 638.879 163.737 630.152 Q163.737 621.957 167.626 617.096 Q171.515 612.212 178.065 612.212 Q179.825 612.212 181.607 612.559 Q183.413 612.906 185.357 613.601 Z\" fill=\"#000000\" fill-rule=\"evenodd\" fill-opacity=\"1\" /><path clip-path=\"url(#clip070)\" d=\"M 0 0 M139.593 319.061 Q135.982 319.061 134.154 322.625 Q132.348 326.167 132.348 333.297 Q132.348 340.403 134.154 343.968 Q135.982 347.51 139.593 347.51 Q143.228 347.51 145.033 343.968 Q146.862 340.403 146.862 333.297 Q146.862 326.167 145.033 322.625 Q143.228 319.061 139.593 319.061 M139.593 315.357 Q145.404 315.357 148.459 319.963 Q151.538 324.547 151.538 333.297 Q151.538 342.023 148.459 346.63 Q145.404 351.213 139.593 351.213 Q133.783 351.213 130.705 346.63 Q127.649 342.023 127.649 333.297 Q127.649 324.547 130.705 319.963 Q133.783 315.357 139.593 315.357 Z\" fill=\"#000000\" fill-rule=\"evenodd\" fill-opacity=\"1\" /><path clip-path=\"url(#clip070)\" d=\"M 0 0 M156.607 344.662 L161.491 344.662 L161.491 350.542 L156.607 350.542 L156.607 344.662 Z\" fill=\"#000000\" fill-rule=\"evenodd\" fill-opacity=\"1\" /><path clip-path=\"url(#clip070)\" d=\"M 0 0 M165.38 315.982 L187.602 315.982 L187.602 317.973 L175.056 350.542 L170.172 350.542 L181.977 319.917 L165.38 319.917 L165.38 315.982 Z\" fill=\"#000000\" fill-rule=\"evenodd\" fill-opacity=\"1\" /><path clip-path=\"url(#clip070)\" d=\"M 0 0 M1212.46 1536.76 L1212.46 1539.62 L1185.53 1539.62 Q1185.91 1545.67 1189.16 1548.85 Q1192.44 1552 1198.26 1552 Q1201.64 1552 1204.79 1551.17 Q1207.97 1550.35 1211.09 1548.69 L1211.09 1554.23 Q1207.94 1555.57 1204.63 1556.27 Q1201.32 1556.97 1197.91 1556.97 Q1189.38 1556.97 1184.39 1552 Q1179.42 1547.04 1179.42 1538.57 Q1179.42 1529.82 1184.13 1524.69 Q1188.87 1519.54 1196.89 1519.54 Q1204.09 1519.54 1208.26 1524.18 Q1212.46 1528.8 1212.46 1536.76 M1206.6 1535.04 Q1206.54 1530.23 1203.9 1527.37 Q1201.29 1524.5 1196.96 1524.5 Q1192.06 1524.5 1189.1 1527.27 Q1186.17 1530.04 1185.72 1535.07 L1206.6 1535.04 Z\" fill=\"#000000\" fill-rule=\"evenodd\" fill-opacity=\"1\" /><path clip-path=\"url(#clip070)\" d=\"M 0 0 M1224.27 1550.7 L1224.27 1569.6 L1218.38 1569.6 L1218.38 1520.4 L1224.27 1520.4 L1224.27 1525.81 Q1226.11 1522.62 1228.91 1521.1 Q1231.75 1519.54 1235.66 1519.54 Q1242.15 1519.54 1246.2 1524.69 Q1250.27 1529.85 1250.27 1538.25 Q1250.27 1546.65 1246.2 1551.81 Q1242.15 1556.97 1235.66 1556.97 Q1231.75 1556.97 1228.91 1555.44 Q1226.11 1553.88 1224.27 1550.7 M1244.19 1538.25 Q1244.19 1531.79 1241.52 1528.13 Q1238.88 1524.44 1234.23 1524.44 Q1229.58 1524.44 1226.91 1528.13 Q1224.27 1531.79 1224.27 1538.25 Q1224.27 1544.71 1226.91 1548.4 Q1229.58 1552.07 1234.23 1552.07 Q1238.88 1552.07 1241.52 1548.4 Q1244.19 1544.71 1244.19 1538.25 Z\" fill=\"#000000\" fill-rule=\"evenodd\" fill-opacity=\"1\" /><path clip-path=\"url(#clip070)\" d=\"M 0 0 M1270.23 1524.5 Q1265.52 1524.5 1262.78 1528.19 Q1260.04 1531.85 1260.04 1538.25 Q1260.04 1544.65 1262.75 1548.34 Q1265.49 1552 1270.23 1552 Q1274.91 1552 1277.64 1548.31 Q1280.38 1544.62 1280.38 1538.25 Q1280.38 1531.92 1277.64 1528.23 Q1274.91 1524.5 1270.23 1524.5 M1270.23 1519.54 Q1277.87 1519.54 1282.23 1524.5 Q1286.59 1529.47 1286.59 1538.25 Q1286.59 1547 1282.23 1552 Q1277.87 1556.97 1270.23 1556.97 Q1262.56 1556.97 1258.2 1552 Q1253.87 1547 1253.87 1538.25 Q1253.87 1529.47 1258.2 1524.5 Q1262.56 1519.54 1270.23 1519.54 Z\" fill=\"#000000\" fill-rule=\"evenodd\" fill-opacity=\"1\" /><path clip-path=\"url(#clip070)\" d=\"M 0 0 M1318.38 1521.76 L1318.38 1527.24 Q1315.9 1525.87 1313.39 1525.2 Q1310.9 1524.5 1308.36 1524.5 Q1302.66 1524.5 1299.51 1528.13 Q1296.36 1531.73 1296.36 1538.25 Q1296.36 1544.78 1299.51 1548.4 Q1302.66 1552 1308.36 1552 Q1310.9 1552 1313.39 1551.33 Q1315.9 1550.63 1318.38 1549.26 L1318.38 1554.68 Q1315.93 1555.82 1313.29 1556.39 Q1310.68 1556.97 1307.72 1556.97 Q1299.67 1556.97 1294.93 1551.91 Q1290.18 1546.85 1290.18 1538.25 Q1290.18 1529.53 1294.96 1524.53 Q1299.76 1519.54 1308.1 1519.54 Q1310.81 1519.54 1313.39 1520.11 Q1315.97 1520.65 1318.38 1521.76 Z\" fill=\"#000000\" fill-rule=\"evenodd\" fill-opacity=\"1\" /><path clip-path=\"url(#clip070)\" d=\"M 0 0 M1354.16 1534.53 L1354.16 1556.04 L1348.3 1556.04 L1348.3 1534.72 Q1348.3 1529.66 1346.33 1527.14 Q1344.36 1524.63 1340.41 1524.63 Q1335.67 1524.63 1332.93 1527.65 Q1330.19 1530.68 1330.19 1535.9 L1330.19 1556.04 L1324.3 1556.04 L1324.3 1506.52 L1330.19 1506.52 L1330.19 1525.93 Q1332.29 1522.72 1335.13 1521.13 Q1337.99 1519.54 1341.71 1519.54 Q1347.86 1519.54 1351.01 1523.36 Q1354.16 1527.14 1354.16 1534.53 Z\" fill=\"#000000\" fill-rule=\"evenodd\" fill-opacity=\"1\" /><path clip-path=\"url(#clip070)\" d=\"M 0 0 M1383.03 1521.45 L1383.03 1526.98 Q1380.55 1525.71 1377.87 1525.07 Q1375.2 1524.44 1372.33 1524.44 Q1367.97 1524.44 1365.78 1525.77 Q1363.61 1527.11 1363.61 1529.79 Q1363.61 1531.82 1365.17 1533 Q1366.73 1534.15 1371.44 1535.2 L1373.45 1535.64 Q1379.69 1536.98 1382.3 1539.43 Q1384.94 1541.85 1384.94 1546.21 Q1384.94 1551.17 1380.99 1554.07 Q1377.08 1556.97 1370.2 1556.97 Q1367.34 1556.97 1364.22 1556.39 Q1361.13 1555.85 1357.69 1554.74 L1357.69 1548.69 Q1360.94 1550.38 1364.09 1551.24 Q1367.24 1552.07 1370.33 1552.07 Q1374.47 1552.07 1376.69 1550.66 Q1378.92 1549.23 1378.92 1546.65 Q1378.92 1544.27 1377.3 1542.99 Q1375.71 1541.72 1370.26 1540.54 L1368.23 1540.07 Q1362.78 1538.92 1360.37 1536.56 Q1357.95 1534.18 1357.95 1530.04 Q1357.95 1525.01 1361.51 1522.27 Q1365.08 1519.54 1371.63 1519.54 Q1374.88 1519.54 1377.74 1520.01 Q1380.61 1520.49 1383.03 1521.45 Z\" fill=\"#000000\" fill-rule=\"evenodd\" fill-opacity=\"1\" /><path clip-path=\"url(#clip070)\" d=\"M 0 0 M44.1444 904.492 L50.9239 904.492 Q47.9002 907.739 46.4043 911.431 Q44.9083 915.091 44.9083 919.229 Q44.9083 927.377 49.9054 931.705 Q54.8707 936.034 64.2919 936.034 Q73.6813 936.034 78.6784 931.705 Q83.6436 927.377 83.6436 919.229 Q83.6436 915.091 82.1477 911.431 Q80.6518 907.739 77.6281 904.492 L84.3439 904.492 Q86.6355 907.866 87.7814 911.653 Q88.9272 915.409 88.9272 919.611 Q88.9272 930.4 82.3387 936.607 Q75.7183 942.814 64.2919 942.814 Q52.8336 942.814 46.2451 936.607 Q39.6248 930.4 39.6248 919.611 Q39.6248 915.346 40.7706 911.59 Q41.8846 907.802 44.1444 904.492 Z\" fill=\"#000000\" fill-rule=\"evenodd\" fill-opacity=\"1\" /><path clip-path=\"url(#clip070)\" d=\"M 0 0 M57.8307 877.692 Q57.2578 878.679 57.0032 879.857 Q56.7167 881.003 56.7167 882.403 Q56.7167 887.368 59.9632 890.042 Q63.1779 892.684 69.2253 892.684 L88.0042 892.684 L88.0042 898.572 L52.3562 898.572 L52.3562 892.684 L57.8944 892.684 Q54.6479 890.838 53.0883 887.878 Q51.4968 884.917 51.4968 880.684 Q51.4968 880.08 51.5923 879.347 Q51.656 878.615 51.8151 877.724 L57.8307 877.692 Z\" fill=\"#000000\" fill-rule=\"evenodd\" fill-opacity=\"1\" /><path clip-path=\"url(#clip070)\" d=\"M 0 0 M56.4621 859.168 Q56.4621 863.879 60.1542 866.616 Q63.8145 869.353 70.212 869.353 Q76.6095 869.353 80.3017 866.648 Q83.9619 863.911 83.9619 859.168 Q83.9619 854.489 80.2698 851.752 Q76.5777 849.015 70.212 849.015 Q63.8781 849.015 60.186 851.752 Q56.4621 854.489 56.4621 859.168 M51.4968 859.168 Q51.4968 851.529 56.4621 847.169 Q61.4273 842.808 70.212 842.808 Q78.9649 842.808 83.9619 847.169 Q88.9272 851.529 88.9272 859.168 Q88.9272 866.839 83.9619 871.199 Q78.9649 875.528 70.212 875.528 Q61.4273 875.528 56.4621 871.199 Q51.4968 866.839 51.4968 859.168 Z\" fill=\"#000000\" fill-rule=\"evenodd\" fill-opacity=\"1\" /><path clip-path=\"url(#clip070)\" d=\"M 0 0 M53.4065 813.94 L58.9447 813.94 Q57.6716 816.422 57.035 819.096 Q56.3984 821.77 56.3984 824.634 Q56.3984 828.995 57.7352 831.191 Q59.072 833.355 61.7456 833.355 Q63.7826 833.355 64.9603 831.796 Q66.1061 830.236 67.1565 825.525 L67.6021 823.52 Q68.9389 817.282 71.3897 814.672 Q73.8086 812.03 78.1691 812.03 Q83.1344 812.03 86.0308 815.977 Q88.9272 819.892 88.9272 826.767 Q88.9272 829.631 88.3543 832.751 Q87.8132 835.838 86.6992 839.275 L80.6518 839.275 Q82.3387 836.029 83.198 832.878 Q84.0256 829.727 84.0256 826.639 Q84.0256 822.502 82.6251 820.274 Q81.1929 818.046 78.6147 818.046 Q76.2276 818.046 74.9545 819.669 Q73.6813 821.26 72.5037 826.703 L72.0262 828.74 Q70.8804 834.183 68.5251 836.602 Q66.138 839.021 62.0002 839.021 Q56.9713 839.021 54.2341 835.456 Q51.4968 831.891 51.4968 825.334 Q51.4968 822.088 51.9743 819.223 Q52.4517 816.359 53.4065 813.94 Z\" fill=\"#000000\" fill-rule=\"evenodd\" fill-opacity=\"1\" /><path clip-path=\"url(#clip070)\" d=\"M 0 0 M53.4065 783.162 L58.9447 783.162 Q57.6716 785.644 57.035 788.318 Q56.3984 790.991 56.3984 793.856 Q56.3984 798.217 57.7352 800.413 Q59.072 802.577 61.7456 802.577 Q63.7826 802.577 64.9603 801.017 Q66.1061 799.458 67.1565 794.747 L67.6021 792.742 Q68.9389 786.504 71.3897 783.894 Q73.8086 781.252 78.1691 781.252 Q83.1344 781.252 86.0308 785.199 Q88.9272 789.114 88.9272 795.989 Q88.9272 798.853 88.3543 801.972 Q87.8132 805.06 86.6992 808.497 L80.6518 808.497 Q82.3387 805.251 83.198 802.1 Q84.0256 798.949 84.0256 795.861 Q84.0256 791.724 82.6251 789.496 Q81.1929 787.268 78.6147 787.268 Q76.2276 787.268 74.9545 788.891 Q73.6813 790.482 72.5037 795.925 L72.0262 797.962 Q70.8804 803.405 68.5251 805.824 Q66.138 808.243 62.0002 808.243 Q56.9713 808.243 54.2341 804.678 Q51.4968 801.113 51.4968 794.556 Q51.4968 791.31 51.9743 788.445 Q52.4517 785.581 53.4065 783.162 Z\" fill=\"#000000\" fill-rule=\"evenodd\" fill-opacity=\"1\" /><path clip-path=\"url(#clip070)\" d=\"M 0 0 M40.4842 754.134 L40.4842 724.088 L45.895 724.088 L45.895 747.705 L59.9632 747.705 L59.9632 725.075 L65.3741 725.075 L65.3741 747.705 L82.5933 747.705 L82.5933 723.515 L88.0042 723.515 L88.0042 754.134 L40.4842 754.134 Z\" fill=\"#000000\" fill-rule=\"evenodd\" fill-opacity=\"1\" /><path clip-path=\"url(#clip070)\" d=\"M 0 0 M66.4881 687.74 L88.0042 687.74 L88.0042 693.596 L66.679 693.596 Q61.6183 693.596 59.1038 695.57 Q56.5894 697.543 56.5894 701.49 Q56.5894 706.232 59.6131 708.969 Q62.6368 711.707 67.8567 711.707 L88.0042 711.707 L88.0042 717.595 L52.3562 717.595 L52.3562 711.707 L57.8944 711.707 Q54.6797 709.606 53.0883 706.773 Q51.4968 703.909 51.4968 700.185 Q51.4968 694.042 55.3163 690.891 Q59.1038 687.74 66.4881 687.74 Z\" fill=\"#000000\" fill-rule=\"evenodd\" fill-opacity=\"1\" /><path clip-path=\"url(#clip070)\" d=\"M 0 0 M42.2347 675.804 L52.3562 675.804 L52.3562 663.741 L56.9077 663.741 L56.9077 675.804 L76.2594 675.804 Q80.6199 675.804 81.8613 674.626 Q83.1026 673.417 83.1026 669.757 L83.1026 663.741 L88.0042 663.741 L88.0042 669.757 Q88.0042 676.536 85.4897 679.114 Q82.9434 681.692 76.2594 681.692 L56.9077 681.692 L56.9077 685.989 L52.3562 685.989 L52.3562 681.692 L42.2347 681.692 L42.2347 675.804 Z\" fill=\"#000000\" fill-rule=\"evenodd\" fill-opacity=\"1\" /><path clip-path=\"url(#clip070)\" d=\"M 0 0 M57.8307 636.941 Q57.2578 637.928 57.0032 639.106 Q56.7167 640.252 56.7167 641.652 Q56.7167 646.617 59.9632 649.291 Q63.1779 651.933 69.2253 651.933 L88.0042 651.933 L88.0042 657.821 L52.3562 657.821 L52.3562 651.933 L57.8944 651.933 Q54.6479 650.087 53.0883 647.127 Q51.4968 644.166 51.4968 639.933 Q51.4968 639.329 51.5923 638.596 Q51.656 637.864 51.8151 636.973 L57.8307 636.941 Z\" fill=\"#000000\" fill-rule=\"evenodd\" fill-opacity=\"1\" /><path clip-path=\"url(#clip070)\" d=\"M 0 0 M56.4621 618.417 Q56.4621 623.128 60.1542 625.865 Q63.8145 628.602 70.212 628.602 Q76.6095 628.602 80.3017 625.897 Q83.9619 623.16 83.9619 618.417 Q83.9619 613.738 80.2698 611.001 Q76.5777 608.264 70.212 608.264 Q63.8781 608.264 60.186 611.001 Q56.4621 613.738 56.4621 618.417 M51.4968 618.417 Q51.4968 610.778 56.4621 606.418 Q61.4273 602.057 70.212 602.057 Q78.9649 602.057 83.9619 606.418 Q88.9272 610.778 88.9272 618.417 Q88.9272 626.088 83.9619 630.448 Q78.9649 634.777 70.212 634.777 Q61.4273 634.777 56.4621 630.448 Q51.4968 626.088 51.4968 618.417 Z\" fill=\"#000000\" fill-rule=\"evenodd\" fill-opacity=\"1\" /><path clip-path=\"url(#clip070)\" d=\"M 0 0 M82.657 590.249 L101.563 590.249 L101.563 596.137 L52.3562 596.137 L52.3562 590.249 L57.7671 590.249 Q54.5842 588.403 53.0564 585.602 Q51.4968 582.769 51.4968 578.854 Q51.4968 572.361 56.6531 568.319 Q61.8093 564.245 70.212 564.245 Q78.6147 564.245 83.771 568.319 Q88.9272 572.361 88.9272 578.854 Q88.9272 582.769 87.3994 585.602 Q85.8398 588.403 82.657 590.249 M70.212 570.324 Q63.7508 570.324 60.0905 572.998 Q56.3984 575.64 56.3984 580.287 Q56.3984 584.934 60.0905 587.607 Q63.7508 590.249 70.212 590.249 Q76.6732 590.249 80.3653 587.607 Q84.0256 584.934 84.0256 580.287 Q84.0256 575.64 80.3653 572.998 Q76.6732 570.324 70.212 570.324 Z\" fill=\"#000000\" fill-rule=\"evenodd\" fill-opacity=\"1\" /><path clip-path=\"url(#clip070)\" d=\"M 0 0 M91.3143 543.27 Q97.68 545.753 99.6216 548.108 Q101.563 550.463 101.563 554.41 L101.563 559.089 L96.6615 559.089 L96.6615 555.651 Q96.6615 553.232 95.5157 551.896 Q94.3699 550.559 90.1048 548.935 L87.4312 547.885 L52.3562 562.303 L52.3562 556.097 L80.238 544.957 L52.3562 533.817 L52.3562 527.61 L91.3143 543.27 Z\" fill=\"#000000\" fill-rule=\"evenodd\" fill-opacity=\"1\" /><polyline clip-path=\"url(#clip072)\" style=\"stroke:#009af9; stroke-width:8; stroke-opacity:1; fill:none\" points=\"\n",
       "  272.201,86.1857 273.212,375.092 274.222,397.067 275.233,412.317 276.243,399.857 277.254,446.149 278.264,447.133 279.274,497.553 280.285,457.625 281.295,534.323 \n",
       "  282.306,551.035 283.316,580.899 284.327,593.995 285.337,623.496 286.348,597.538 287.358,602.95 288.369,592.081 289.379,605.075 290.39,591.37 291.4,613.41 \n",
       "  292.411,674.41 293.421,676.196 294.432,613.426 295.442,696.932 296.453,623.131 297.463,702.906 298.474,630.154 299.484,699.636 300.495,674.648 301.505,715.417 \n",
       "  302.516,672.381 303.526,723.543 305.547,730.413 306.558,738.966 307.568,751.086 309.589,744.776 310.599,748.34 312.62,763.197 313.631,755.677 315.652,759.788 \n",
       "  317.673,780.558 318.683,781.657 320.704,784.359 322.725,789.721 324.746,792.704 326.767,818.569 328.788,810.247 331.82,822.519 333.841,826.181 335.862,832.893 \n",
       "  338.893,839.644 340.914,849.417 343.945,845.894 346.977,854.154 350.008,853.294 353.04,857.367 356.071,861.184 359.103,858.291 363.145,866.771 366.176,871.12 \n",
       "  370.218,869.788 374.26,867.279 378.302,869.716 382.344,871.077 386.386,870.807 390.428,874.567 395.48,875.579 400.532,876.212 405.585,869.482 410.637,875.894 \n",
       "  415.69,875.708 421.753,875.846 427.816,888.911 433.878,891.103 439.941,888.478 447.015,894.526 453.078,890.381 460.151,893.477 468.235,902.183 475.308,896.838 \n",
       "  483.392,890.016 491.476,887.415 500.57,896.522 509.665,903.746 518.759,891.413 527.853,884.094 537.958,903.025 548.063,891.653 559.178,889.978 570.294,883.39 \n",
       "  582.419,886.276 594.545,860.912 606.671,876.713 619.807,871.134 633.954,855.236 648.101,874.118 662.248,861.103 677.405,863.801 693.573,859.044 709.74,857.713 \n",
       "  726.919,862.582 744.097,848.089 763.296,858.315 782.495,868.248 801.694,862.093 822.915,853.536 844.135,870.676 866.365,843.555 889.606,858.557 913.858,883.141 \n",
       "  939.12,879.222 964.382,857.012 991.665,865.398 1019.96,862.575 1049.26,850.577 1079.58,869.635 1110.9,873.096 1143.24,853.47 1177.59,879.207 1212.96,849.167 \n",
       "  1249.34,857.329 1287.74,843.191 1327.15,868.683 1367.57,848.257 1411.02,859.648 1455.48,854.689 1500.95,850.007 1549.45,877.516 1598.97,826.609 1650.5,863.661 \n",
       "  1704.06,847.857 1759.63,851.36 1818.24,844.283 1877.86,853.246 1940.51,851.625 2006.19,844.806 2072.88,831.967 2143.62,874.898 2216.37,816.793 2292.16,811.253 \n",
       "  \n",
       "  \"/>\n",
       "<polyline clip-path=\"url(#clip072)\" style=\"stroke:#e26f46; stroke-width:8; stroke-opacity:1; fill:none\" points=\"\n",
       "  272.201,710.642 273.212,839.065 274.222,906.607 275.233,948.296 276.243,977.682 277.254,1000.03 278.264,1017.7 279.274,1032 280.285,1043.83 281.295,1053.87 \n",
       "  282.306,1062.58 283.316,1070.31 284.327,1077.29 285.337,1083.69 286.348,1089.64 287.358,1095.24 288.369,1100.56 289.379,1105.67 290.39,1110.6 291.4,1115.37 \n",
       "  292.411,1119.97 293.421,1124.36 294.432,1128.52 295.442,1132.43 296.453,1136.09 297.463,1139.51 298.474,1142.72 299.484,1145.73 300.495,1148.55 301.505,1151.19 \n",
       "  302.516,1153.67 303.526,1156 304.537,1158.19 305.547,1160.26 306.558,1162.21 307.568,1164.07 308.579,1165.83 309.589,1167.51 310.599,1169.12 311.61,1170.65 \n",
       "  312.62,1172.12 313.631,1173.53 314.641,1174.89 315.652,1176.2 316.662,1177.47 317.673,1178.69 318.683,1179.88 319.694,1181.03 320.704,1182.16 321.715,1183.25 \n",
       "  322.725,1184.32 323.736,1185.36 324.746,1186.38 325.757,1187.38 326.767,1188.36 327.778,1189.33 328.788,1190.27 329.799,1191.2 330.809,1192.11 331.82,1193 \n",
       "  332.83,1193.89 333.841,1194.75 334.851,1195.6 335.862,1196.44 336.872,1197.27 337.883,1198.08 338.893,1198.89 339.903,1199.68 340.914,1200.47 341.924,1201.24 \n",
       "  342.935,1202.01 343.945,1202.77 344.956,1203.52 345.966,1204.26 346.977,1205 347.987,1205.73 348.998,1206.45 350.008,1207.16 351.019,1207.86 352.029,1208.55 \n",
       "  353.04,1209.24 354.05,1209.91 355.061,1210.58 356.071,1211.24 357.082,1211.9 358.092,1212.55 359.103,1213.2 360.113,1213.86 361.124,1214.53 362.134,1215.22 \n",
       "  363.145,1215.98 364.155,1216.86 365.166,1217.95 366.176,1219.13 367.187,1220.08 368.197,1220.84 369.208,1221.53 370.218,1222.18 371.228,1222.81 372.239,1223.41 \n",
       "  373.249,1224.01 374.26,1224.59 375.27,1225.17 376.281,1225.73 377.291,1226.3 378.302,1226.85 379.312,1227.41 380.323,1227.96 381.333,1228.5 382.344,1229.05 \n",
       "  383.354,1229.59 384.365,1230.13 385.375,1230.67 386.386,1231.21 387.396,1231.75 388.407,1232.29 389.417,1232.84 390.428,1233.38 391.438,1233.93 392.449,1234.48 \n",
       "  393.459,1235.03 394.47,1235.59 395.48,1236.15 396.491,1236.71 397.501,1237.27 398.512,1237.84 399.522,1238.41 400.532,1238.98 401.543,1239.55 402.553,1240.12 \n",
       "  403.564,1240.7 404.574,1241.27 405.585,1241.84 406.595,1242.41 407.606,1242.98 408.616,1243.55 409.627,1244.12 410.637,1244.69 411.648,1245.26 412.658,1245.83 \n",
       "  413.669,1246.39 414.679,1246.95 415.69,1247.52 416.7,1248.08 417.711,1248.64 418.721,1249.2 419.732,1249.76 420.742,1250.32 421.753,1250.89 422.763,1251.45 \n",
       "  423.774,1252.03 424.784,1252.6 425.795,1253.18 426.805,1253.77 427.816,1254.36 428.826,1254.96 429.836,1255.57 430.847,1256.19 431.857,1256.81 432.868,1257.43 \n",
       "  433.878,1258.06 434.889,1258.68 435.899,1259.3 436.91,1259.91 437.92,1260.51 438.931,1261.11 439.941,1261.69 440.952,1262.26 441.962,1262.82 442.973,1263.38 \n",
       "  443.983,1263.92 444.994,1264.46 446.004,1264.98 447.015,1265.5 448.025,1266.02 449.036,1266.52 450.046,1267.03 451.057,1267.52 452.067,1268.02 453.078,1268.51 \n",
       "  454.088,1269 455.099,1269.49 456.109,1269.99 457.12,1270.49 458.13,1270.99 459.141,1271.51 460.151,1272.04 461.161,1272.58 462.172,1273.15 463.182,1273.75 \n",
       "  464.193,1274.36 465.203,1274.99 466.214,1275.61 467.224,1276.21 468.235,1276.78 469.245,1277.33 470.256,1277.86 471.266,1278.37 472.277,1278.86 473.287,1279.35 \n",
       "  474.298,1279.82 475.308,1280.29 476.319,1280.75 477.329,1281.2 478.34,1281.65 479.35,1282.09 480.361,1282.53 481.371,1282.97 482.382,1283.41 483.392,1283.84 \n",
       "  484.403,1284.28 485.413,1284.72 486.424,1285.16 487.434,1285.6 488.445,1286.04 489.455,1286.48 490.465,1286.92 491.476,1287.36 492.486,1287.8 493.497,1288.22 \n",
       "  494.507,1288.64 495.518,1289.06 496.528,1289.46 497.539,1289.86 498.549,1290.24 499.56,1290.62 500.57,1291 501.581,1291.36 502.591,1291.72 503.602,1292.08 \n",
       "  504.612,1292.43 505.623,1292.77 506.633,1293.11 507.644,1293.44 508.654,1293.77 509.665,1294.09 510.675,1294.41 511.686,1294.72 512.696,1295.03 513.707,1295.34 \n",
       "  514.717,1295.64 515.728,1295.94 516.738,1296.23 517.749,1296.52 518.759,1296.8 519.77,1297.09 520.78,1297.37 521.79,1297.64 522.801,1297.92 523.811,1298.19 \n",
       "  524.822,1298.46 525.832,1298.73 526.843,1299 527.853,1299.27 528.864,1299.54 529.874,1299.82 530.885,1300.1 531.895,1300.39 532.906,1300.7 533.916,1301.03 \n",
       "  534.927,1301.39 535.937,1301.77 536.948,1302.17 537.958,1302.57 538.969,1302.96 539.979,1303.33 540.99,1303.68 542,1304.01 543.011,1304.32 544.021,1304.61 \n",
       "  545.032,1304.89 546.042,1305.16 547.053,1305.42 548.063,1305.68 549.074,1305.92 550.084,1306.16 551.094,1306.39 552.105,1306.62 553.115,1306.84 554.126,1307.06 \n",
       "  555.136,1307.27 556.147,1307.48 557.157,1307.68 558.168,1307.88 559.178,1308.08 560.189,1308.27 561.199,1308.47 562.21,1308.65 563.22,1308.84 564.231,1309.02 \n",
       "  565.241,1309.2 566.252,1309.38 567.262,1309.56 568.273,1309.73 569.283,1309.9 570.294,1310.07 571.304,1310.24 572.315,1310.4 573.325,1310.57 574.336,1310.73 \n",
       "  575.346,1310.89 576.357,1311.04 577.367,1311.2 578.378,1311.35 579.388,1311.51 580.399,1311.66 581.409,1311.81 582.419,1311.96 583.43,1312.11 584.44,1312.25 \n",
       "  585.451,1312.4 586.461,1312.54 587.472,1312.69 588.482,1312.83 589.493,1312.98 590.503,1313.13 591.514,1313.27 592.524,1313.42 593.535,1313.58 594.545,1313.74 \n",
       "  595.556,1313.91 596.566,1314.09 597.577,1314.29 598.587,1314.51 599.598,1314.75 600.608,1315.02 601.619,1315.29 602.629,1315.57 603.64,1315.83 604.65,1316.08 \n",
       "  605.661,1316.31 606.671,1316.52 607.682,1316.71 608.692,1316.89 609.703,1317.06 610.713,1317.22 611.723,1317.37 612.734,1317.52 613.744,1317.66 614.755,1317.79 \n",
       "  615.765,1317.92 616.776,1318.05 617.786,1318.18 618.797,1318.3 619.807,1318.42 620.818,1318.54 621.828,1318.66 622.839,1318.78 623.849,1318.9 624.86,1319.01 \n",
       "  625.87,1319.13 626.881,1319.24 627.891,1319.35 628.902,1319.46 629.912,1319.57 630.923,1319.68 631.933,1319.79 632.944,1319.89 633.954,1319.99 634.965,1320.1 \n",
       "  635.975,1320.2 636.986,1320.3 637.996,1320.4 639.007,1320.49 640.017,1320.59 641.028,1320.68 642.038,1320.78 643.048,1320.87 644.059,1320.96 645.069,1321.06 \n",
       "  646.08,1321.15 647.09,1321.24 648.101,1321.33 649.111,1321.41 650.122,1321.5 651.132,1321.59 652.143,1321.68 653.153,1321.77 654.164,1321.85 655.174,1321.94 \n",
       "  656.185,1322.03 657.195,1322.12 658.206,1322.2 659.216,1322.29 660.227,1322.39 661.237,1322.48 662.248,1322.58 663.258,1322.68 664.269,1322.78 665.279,1322.9 \n",
       "  666.29,1323.02 667.3,1323.16 668.311,1323.31 669.321,1323.47 670.332,1323.65 671.342,1323.85 672.352,1324.05 673.363,1324.25 674.373,1324.45 675.384,1324.64 \n",
       "  676.394,1324.81 677.405,1324.98 678.415,1325.13 679.426,1325.27 680.436,1325.41 681.447,1325.53 682.457,1325.65 683.468,1325.77 684.478,1325.88 685.489,1325.99 \n",
       "  686.499,1326.1 687.51,1326.21 688.52,1326.32 689.531,1326.43 690.541,1326.55 691.552,1326.68 692.562,1326.84 693.573,1327.02 694.583,1327.27 695.594,1327.6 \n",
       "  696.604,1327.99 697.615,1328.34 698.625,1328.61 699.636,1328.84 700.646,1329.05 701.657,1329.22 702.667,1329.37 703.677,1329.5 704.688,1329.63 705.698,1329.74 \n",
       "  706.709,1329.85 707.719,1329.95 708.73,1330.05 709.74,1330.15 710.751,1330.24 711.761,1330.33 712.772,1330.42 713.782,1330.51 714.793,1330.59 715.803,1330.67 \n",
       "  716.814,1330.75 717.824,1330.83 718.835,1330.91 719.845,1330.99 720.856,1331.06 721.866,1331.14 722.877,1331.21 723.887,1331.29 724.898,1331.36 725.908,1331.43 \n",
       "  726.919,1331.51 727.929,1331.58 728.94,1331.65 729.95,1331.73 730.961,1331.8 731.971,1331.88 732.981,1331.96 733.992,1332.04 735.002,1332.12 736.013,1332.21 \n",
       "  737.023,1332.31 738.034,1332.42 739.044,1332.54 740.055,1332.68 741.065,1332.84 742.076,1333.03 743.086,1333.26 744.097,1333.55 745.107,1333.91 746.118,1334.36 \n",
       "  747.128,1334.87 748.139,1335.39 749.149,1335.84 750.16,1336.21 751.17,1336.49 752.181,1336.71 753.191,1336.88 754.202,1337.04 755.212,1337.19 756.223,1337.32 \n",
       "  757.233,1337.45 758.244,1337.57 759.254,1337.68 760.265,1337.78 761.275,1337.88 762.286,1337.98 763.296,1338.07 764.306,1338.16 765.317,1338.24 766.327,1338.33 \n",
       "  767.338,1338.4 768.348,1338.48 769.359,1338.56 770.369,1338.63 771.38,1338.71 772.39,1338.78 773.401,1338.86 774.411,1338.94 775.422,1339.03 776.432,1339.15 \n",
       "  777.443,1339.28 778.453,1339.45 779.464,1339.65 780.474,1339.85 781.485,1340.07 782.495,1340.29 783.506,1340.51 784.516,1340.71 785.527,1340.88 786.537,1341.04 \n",
       "  787.548,1341.18 788.558,1341.31 789.569,1341.43 790.579,1341.54 791.59,1341.64 792.6,1341.74 793.61,1341.83 794.621,1341.92 795.631,1342.01 796.642,1342.09 \n",
       "  797.652,1342.17 798.663,1342.24 799.673,1342.32 800.684,1342.39 801.694,1342.46 802.705,1342.53 803.715,1342.6 804.726,1342.67 805.736,1342.74 806.747,1342.81 \n",
       "  807.757,1342.88 808.768,1342.94 809.778,1343.01 810.789,1343.08 811.799,1343.16 812.81,1343.23 813.82,1343.31 814.831,1343.4 815.841,1343.49 816.852,1343.59 \n",
       "  817.862,1343.7 818.873,1343.83 819.883,1343.98 820.894,1344.16 821.904,1344.38 822.915,1344.64 823.925,1344.91 824.935,1345.18 825.946,1345.41 826.956,1345.59 \n",
       "  827.967,1345.74 828.977,1345.86 829.988,1345.97 830.998,1346.07 832.009,1346.15 833.019,1346.24 834.03,1346.31 835.04,1346.39 836.051,1346.46 837.061,1346.53 \n",
       "  838.072,1346.6 839.082,1346.67 840.093,1346.74 841.103,1346.81 842.114,1346.87 843.124,1346.95 844.135,1347.02 845.145,1347.1 846.156,1347.19 847.166,1347.29 \n",
       "  848.177,1347.4 849.187,1347.53 850.198,1347.69 851.208,1347.88 852.219,1348.12 853.229,1348.43 854.239,1348.89 855.25,1349.54 856.26,1350.31 857.271,1350.99 \n",
       "  858.281,1351.39 859.292,1351.63 860.302,1351.8 861.313,1351.95 862.323,1352.07 863.334,1352.18 864.344,1352.28 865.355,1352.37 866.365,1352.46 867.376,1352.54 \n",
       "  868.386,1352.62 869.397,1352.69 870.407,1352.76 871.418,1352.83 872.428,1352.9 873.439,1352.96 874.449,1353.02 875.46,1353.08 876.47,1353.14 877.481,1353.19 \n",
       "  878.491,1353.25 879.502,1353.3 880.512,1353.35 881.523,1353.4 882.533,1353.45 883.544,1353.5 884.554,1353.55 885.564,1353.59 886.575,1353.64 887.585,1353.68 \n",
       "  888.596,1353.73 889.606,1353.77 890.617,1353.81 891.627,1353.85 892.638,1353.89 893.648,1353.93 894.659,1353.97 895.669,1354.01 896.68,1354.05 897.69,1354.08 \n",
       "  898.701,1354.12 899.711,1354.16 900.722,1354.19 901.732,1354.23 902.743,1354.26 903.753,1354.29 904.764,1354.33 905.774,1354.36 906.785,1354.39 907.795,1354.42 \n",
       "  908.806,1354.45 909.816,1354.48 910.827,1354.51 911.837,1354.54 912.848,1354.57 913.858,1354.6 914.868,1354.63 915.879,1354.66 916.889,1354.69 917.9,1354.71 \n",
       "  918.91,1354.74 919.921,1354.77 920.931,1354.79 921.942,1354.82 922.952,1354.85 923.963,1354.87 924.973,1354.9 925.984,1354.92 926.994,1354.94 928.005,1354.97 \n",
       "  929.015,1354.99 930.026,1355.01 931.036,1355.04 932.047,1355.06 933.057,1355.08 934.068,1355.1 935.078,1355.13 936.089,1355.15 937.099,1355.17 938.11,1355.19 \n",
       "  939.12,1355.21 940.131,1355.23 941.141,1355.25 942.152,1355.27 943.162,1355.29 944.172,1355.31 945.183,1355.33 946.193,1355.35 947.204,1355.37 948.214,1355.39 \n",
       "  949.225,1355.41 950.235,1355.42 951.246,1355.44 952.256,1355.46 953.267,1355.48 954.277,1355.49 955.288,1355.51 956.298,1355.53 957.309,1355.55 958.319,1355.56 \n",
       "  959.33,1355.58 960.34,1355.59 961.351,1355.61 962.361,1355.63 963.372,1355.64 964.382,1355.66 965.393,1355.67 966.403,1355.69 967.414,1355.7 968.424,1355.72 \n",
       "  969.435,1355.73 970.445,1355.75 971.456,1355.76 972.466,1355.78 973.477,1355.79 974.487,1355.81 975.497,1355.82 976.508,1355.83 977.518,1355.85 978.529,1355.86 \n",
       "  979.539,1355.88 980.55,1355.89 981.56,1355.9 982.571,1355.92 983.581,1355.93 984.592,1355.94 985.602,1355.96 986.613,1355.97 987.623,1355.98 988.634,1356 \n",
       "  989.644,1356.01 990.655,1356.03 991.665,1356.04 992.676,1356.06 993.686,1356.07 994.697,1356.09 995.707,1356.11 996.718,1356.13 997.728,1356.15 998.739,1356.18 \n",
       "  999.749,1356.23 1000.76,1356.3 1001.77,1356.42 1002.78,1356.65 1003.79,1357.07 1004.8,1357.57 1005.81,1357.94 1006.82,1358.25 1007.83,1358.47 1008.84,1358.63 \n",
       "  1009.85,1358.74 1010.86,1358.83 1011.87,1358.91 1012.89,1358.97 1013.9,1359.02 1014.91,1359.07 1015.92,1359.11 1016.93,1359.15 1017.94,1359.19 1018.95,1359.22 \n",
       "  1019.96,1359.25 1020.97,1359.28 1021.98,1359.31 1022.99,1359.34 1024,1359.36 1025.01,1359.39 1026.02,1359.41 1027.03,1359.44 1028.04,1359.46 1029.05,1359.49 \n",
       "  1030.06,1359.52 1031.07,1359.55 1032.08,1359.58 1033.1,1359.63 1034.11,1359.68 1035.12,1359.77 1036.13,1359.89 1037.14,1360.1 1038.15,1360.41 1039.16,1360.75 \n",
       "  1040.17,1361.04 1041.18,1361.32 1042.19,1361.56 1043.2,1361.74 1044.21,1361.88 1045.22,1362 1046.23,1362.09 1047.24,1362.17 1048.25,1362.24 1049.26,1362.3 \n",
       "  1050.27,1362.35 1051.28,1362.39 1052.29,1362.44 1053.3,1362.47 1054.32,1362.51 1055.33,1362.54 1056.34,1362.58 1057.35,1362.61 1058.36,1362.65 1059.37,1362.69 \n",
       "  1060.38,1362.74 1061.39,1362.81 1062.4,1362.95 1063.41,1363.28 1064.42,1364.08 1065.43,1365.06 1066.44,1365.5 1067.45,1365.66 1068.46,1365.76 1069.47,1365.85 \n",
       "  1070.48,1365.93 1071.49,1366.03 1072.5,1366.2 1073.51,1366.63 1074.52,1367.74 1075.54,1368.73 1076.55,1368.98 1077.56,1369.07 1078.57,1369.14 1079.58,1369.19 \n",
       "  1080.59,1369.23 1081.6,1369.27 1082.61,1369.3 1083.62,1369.33 1084.63,1369.36 1085.64,1369.39 1086.65,1369.41 1087.66,1369.44 1088.67,1369.46 1089.68,1369.48 \n",
       "  1090.69,1369.5 1091.7,1369.52 1092.71,1369.54 1093.72,1369.56 1094.73,1369.58 1095.74,1369.6 1096.76,1369.61 1097.77,1369.63 1098.78,1369.65 1099.79,1369.66 \n",
       "  1100.8,1369.68 1101.81,1369.69 1102.82,1369.71 1103.83,1369.72 1104.84,1369.74 1105.85,1369.75 1106.86,1369.77 1107.87,1369.78 1108.88,1369.79 1109.89,1369.81 \n",
       "  1110.9,1369.82 1111.91,1369.83 1112.92,1369.84 1113.93,1369.86 1114.94,1369.87 1115.95,1369.88 1116.97,1369.89 1117.98,1369.9 1118.99,1369.92 1120,1369.93 \n",
       "  1121.01,1369.94 1122.02,1369.95 1123.03,1369.96 1124.04,1369.97 1125.05,1369.98 1126.06,1369.99 1127.07,1370 1128.08,1370.01 1129.09,1370.02 1130.1,1370.03 \n",
       "  1131.11,1370.04 1132.12,1370.05 1133.13,1370.06 1134.14,1370.07 1135.15,1370.08 1136.16,1370.09 1137.17,1370.1 1138.19,1370.1 1139.2,1370.11 1140.21,1370.12 \n",
       "  1141.22,1370.13 1142.23,1370.14 1143.24,1370.14 1144.25,1370.15 1145.26,1370.16 1146.27,1370.17 1147.28,1370.17 1148.29,1370.18 1149.3,1370.19 1150.31,1370.19 \n",
       "  1151.32,1370.2 1152.33,1370.21 1153.34,1370.21 1154.35,1370.22 1155.36,1370.23 1156.37,1370.23 1157.38,1370.24 1158.39,1370.25 1159.41,1370.25 1160.42,1370.26 \n",
       "  1161.43,1370.26 1162.44,1370.27 1163.45,1370.27 1164.46,1370.28 1165.47,1370.28 1166.48,1370.29 1167.49,1370.3 1168.5,1370.3 1169.51,1370.31 1170.52,1370.31 \n",
       "  1171.53,1370.32 1172.54,1370.32 1173.55,1370.33 1174.56,1370.33 1175.57,1370.33 1176.58,1370.34 1177.59,1370.34 1178.6,1370.35 1179.62,1370.35 1180.63,1370.36 \n",
       "  1181.64,1370.36 1182.65,1370.37 1183.66,1370.37 1184.67,1370.38 1185.68,1370.38 1186.69,1370.38 1187.7,1370.39 1188.71,1370.39 1189.72,1370.4 1190.73,1370.4 \n",
       "  1191.74,1370.4 1192.75,1370.41 1193.76,1370.41 1194.77,1370.42 1195.78,1370.42 1196.79,1370.42 1197.8,1370.43 1198.81,1370.43 1199.82,1370.43 1200.84,1370.44 \n",
       "  1201.85,1370.44 1202.86,1370.45 1203.87,1370.45 1204.88,1370.45 1205.89,1370.46 1206.9,1370.46 1207.91,1370.46 1208.92,1370.47 1209.93,1370.47 1210.94,1370.47 \n",
       "  1211.95,1370.48 1212.96,1370.48 1213.97,1370.48 1214.98,1370.49 1215.99,1370.49 1217,1370.49 1218.01,1370.5 1219.02,1370.5 1220.03,1370.5 1221.04,1370.51 \n",
       "  1222.06,1370.51 1223.07,1370.51 1224.08,1370.51 1225.09,1370.52 1226.1,1370.52 1227.11,1370.52 1228.12,1370.53 1229.13,1370.53 1230.14,1370.53 1231.15,1370.53 \n",
       "  1232.16,1370.54 1233.17,1370.54 1234.18,1370.54 1235.19,1370.55 1236.2,1370.55 1237.21,1370.55 1238.22,1370.55 1239.23,1370.56 1240.24,1370.56 1241.25,1370.56 \n",
       "  1242.27,1370.56 1243.28,1370.57 1244.29,1370.57 1245.3,1370.57 1246.31,1370.57 1247.32,1370.58 1248.33,1370.58 1249.34,1370.58 1250.35,1370.58 1251.36,1370.59 \n",
       "  1252.37,1370.59 1253.38,1370.59 1254.39,1370.59 1255.4,1370.6 1256.41,1370.6 1257.42,1370.6 1258.43,1370.6 1259.44,1370.6 1260.45,1370.61 1261.46,1370.61 \n",
       "  1262.47,1370.61 1263.49,1370.61 1264.5,1370.61 1265.51,1370.62 1266.52,1370.62 1267.53,1370.62 1268.54,1370.62 1269.55,1370.62 1270.56,1370.63 1271.57,1370.63 \n",
       "  1272.58,1370.63 1273.59,1370.63 1274.6,1370.63 1275.61,1370.64 1276.62,1370.64 1277.63,1370.64 1278.64,1370.64 1279.65,1370.64 1280.66,1370.64 1281.67,1370.65 \n",
       "  1282.68,1370.65 1283.69,1370.65 1284.71,1370.65 1285.72,1370.65 1286.73,1370.65 1287.74,1370.66 1288.75,1370.66 1289.76,1370.66 1290.77,1370.66 1291.78,1370.66 \n",
       "  1292.79,1370.67 1293.8,1370.67 1294.81,1370.67 1295.82,1370.67 1296.83,1370.67 1297.84,1370.67 1298.85,1370.67 1299.86,1370.68 1300.87,1370.68 1301.88,1370.68 \n",
       "  1302.89,1370.68 1303.9,1370.68 1304.92,1370.68 1305.93,1370.68 1306.94,1370.69 1307.95,1370.69 1308.96,1370.69 1309.97,1370.69 1310.98,1370.69 1311.99,1370.69 \n",
       "  1313,1370.69 1314.01,1370.69 1315.02,1370.7 1316.03,1370.7 1317.04,1370.7 1318.05,1370.7 1319.06,1370.7 1320.07,1370.7 1321.08,1370.7 1322.09,1370.7 \n",
       "  1323.1,1370.71 1324.11,1370.71 1325.12,1370.71 1326.14,1370.71 1327.15,1370.71 1328.16,1370.71 1329.17,1370.71 1330.18,1370.71 1331.19,1370.71 1332.2,1370.72 \n",
       "  1333.21,1370.72 1334.22,1370.72 1335.23,1370.72 1336.24,1370.72 1337.25,1370.72 1338.26,1370.72 1339.27,1370.72 1340.28,1370.72 1341.29,1370.73 1342.3,1370.73 \n",
       "  1343.31,1370.73 1344.32,1370.73 1345.33,1370.73 1346.34,1370.73 1347.36,1370.73 1348.37,1370.73 1349.38,1370.73 1350.39,1370.73 1351.4,1370.74 1352.41,1370.74 \n",
       "  1353.42,1370.74 1354.43,1370.74 1355.44,1370.74 1356.45,1370.74 1357.46,1370.74 1358.47,1370.74 1359.48,1370.74 1360.49,1370.74 1361.5,1370.74 1362.51,1370.75 \n",
       "  1363.52,1370.75 1364.53,1370.75 1365.54,1370.75 1366.55,1370.75 1367.57,1370.75 1368.58,1370.75 1369.59,1370.75 1370.6,1370.76 1371.61,1370.76 1372.62,1370.76 \n",
       "  1373.63,1370.77 1374.64,1370.77 1375.65,1370.78 1376.66,1370.8 1377.67,1370.85 1378.68,1370.99 1379.69,1371.45 1380.7,1372.51 1381.71,1373.4 1382.72,1373.38 \n",
       "  1383.73,1373.2 1384.74,1373.88 1385.75,1373.95 1386.76,1373.99 1387.77,1374 1388.79,1374.01 1389.8,1374.01 1390.81,1374.02 1391.82,1374.02 1392.83,1374.03 \n",
       "  1393.84,1374.03 1394.85,1374.04 1395.86,1374.04 1396.87,1374.04 1397.88,1374.05 1398.89,1374.05 1399.9,1374.05 1400.91,1374.06 1401.92,1374.06 1402.93,1374.06 \n",
       "  1403.94,1374.06 1404.95,1374.07 1405.96,1374.07 1406.97,1374.07 1407.98,1374.07 1408.99,1374.08 1410.01,1374.08 1411.02,1374.08 1412.03,1374.08 1413.04,1374.08 \n",
       "  1414.05,1374.08 1415.06,1374.09 1416.07,1374.09 1417.08,1374.09 1418.09,1374.09 1419.1,1374.09 1420.11,1374.09 1421.12,1374.09 1422.13,1374.1 1423.14,1374.1 \n",
       "  1424.15,1374.1 1425.16,1374.1 1426.17,1374.1 1427.18,1374.1 1428.19,1374.1 1429.2,1374.1 1430.21,1374.1 1431.23,1374.11 1432.24,1374.11 1433.25,1374.11 \n",
       "  1434.26,1374.11 1435.27,1374.11 1436.28,1374.11 1437.29,1374.11 1438.3,1374.11 1439.31,1374.11 1440.32,1374.11 1441.33,1374.11 1442.34,1374.12 1443.35,1374.12 \n",
       "  1444.36,1374.12 1445.37,1374.12 1446.38,1374.12 1447.39,1374.12 1448.4,1374.12 1449.41,1374.12 1450.42,1374.12 1451.44,1374.12 1452.45,1374.12 1453.46,1374.12 \n",
       "  1454.47,1374.12 1455.48,1374.13 1456.49,1374.13 1457.5,1374.13 1458.51,1374.13 1459.52,1374.13 1460.53,1374.13 1461.54,1374.13 1462.55,1374.13 1463.56,1374.13 \n",
       "  1464.57,1374.13 1465.58,1374.13 1466.59,1374.13 1467.6,1374.13 1468.61,1374.13 1469.62,1374.13 1470.63,1374.13 1471.64,1374.13 1472.66,1374.14 1473.67,1374.14 \n",
       "  1474.68,1374.14 1475.69,1374.14 1476.7,1374.14 1477.71,1374.14 1478.72,1374.14 1479.73,1374.14 1480.74,1374.14 1481.75,1374.14 1482.76,1374.14 1483.77,1374.14 \n",
       "  1484.78,1374.14 1485.79,1374.14 1486.8,1374.14 1487.81,1374.14 1488.82,1374.14 1489.83,1374.14 1490.84,1374.14 1491.85,1374.14 1492.86,1374.14 1493.88,1374.14 \n",
       "  1494.89,1374.15 1495.9,1374.15 1496.91,1374.15 1497.92,1374.15 1498.93,1374.15 1499.94,1374.15 1500.95,1374.15 1501.96,1374.15 1502.97,1374.15 1503.98,1374.15 \n",
       "  1504.99,1374.15 1506,1374.15 1507.01,1374.15 1508.02,1374.15 1509.03,1374.15 1510.04,1374.15 1511.05,1374.15 1512.06,1374.15 1513.07,1374.15 1514.09,1374.15 \n",
       "  1515.1,1374.15 1516.11,1374.15 1517.12,1374.15 1518.13,1374.15 1519.14,1374.15 1520.15,1374.15 1521.16,1374.15 1522.17,1374.15 1523.18,1374.16 1524.19,1374.16 \n",
       "  1525.2,1374.16 1526.21,1374.16 1527.22,1374.16 1528.23,1374.16 1529.24,1374.16 1530.25,1374.16 1531.26,1374.16 1532.27,1374.16 1533.28,1374.16 1534.29,1374.16 \n",
       "  1535.31,1374.16 1536.32,1374.16 1537.33,1374.16 1538.34,1374.16 1539.35,1374.16 1540.36,1374.16 1541.37,1374.16 1542.38,1374.16 1543.39,1374.16 1544.4,1374.16 \n",
       "  1545.41,1374.16 1546.42,1374.16 1547.43,1374.16 1548.44,1374.16 1549.45,1374.16 1550.46,1374.16 1551.47,1374.16 1552.48,1374.16 1553.49,1374.16 1554.5,1374.16 \n",
       "  1555.51,1374.16 1556.53,1374.16 1557.54,1374.16 1558.55,1374.16 1559.56,1374.16 1560.57,1374.16 1561.58,1374.16 1562.59,1374.16 1563.6,1374.16 1564.61,1374.16 \n",
       "  1565.62,1374.16 1566.63,1374.16 1567.64,1374.17 1568.65,1374.17 1569.66,1374.17 1570.67,1374.17 1571.68,1374.17 1572.69,1374.17 1573.7,1374.17 1574.71,1374.17 \n",
       "  1575.72,1374.17 1576.74,1374.17 1577.75,1374.17 1578.76,1374.17 1579.77,1374.17 1580.78,1374.17 1581.79,1374.17 1582.8,1374.17 1583.81,1374.17 1584.82,1374.17 \n",
       "  1585.83,1374.17 1586.84,1374.17 1587.85,1374.17 1588.86,1374.17 1589.87,1374.17 1590.88,1374.17 1591.89,1374.17 1592.9,1374.17 1593.91,1374.17 1594.92,1374.17 \n",
       "  1595.93,1374.17 1596.94,1374.17 1597.96,1374.17 1598.97,1374.17 1599.98,1374.17 1600.99,1374.17 1602,1374.17 1603.01,1374.17 1604.02,1374.17 1605.03,1374.17 \n",
       "  1606.04,1374.17 1607.05,1374.17 1608.06,1374.17 1609.07,1374.17 1610.08,1374.17 1611.09,1374.17 1612.1,1374.17 1613.11,1374.17 1614.12,1374.17 1615.13,1374.17 \n",
       "  1616.14,1374.17 1617.15,1374.17 1618.16,1374.17 1619.18,1374.17 1620.19,1374.17 1621.2,1374.17 1622.21,1374.17 1623.22,1374.17 1624.23,1374.17 1625.24,1374.17 \n",
       "  1626.25,1374.17 1627.26,1374.17 1628.27,1374.17 1629.28,1374.17 1630.29,1374.17 1631.3,1374.17 1632.31,1374.17 1633.32,1374.17 1634.33,1374.17 1635.34,1374.17 \n",
       "  1636.35,1374.17 1637.36,1374.17 1638.37,1374.17 1639.39,1374.17 1640.4,1374.17 1641.41,1374.17 1642.42,1374.17 1643.43,1374.17 1644.44,1374.17 1645.45,1374.17 \n",
       "  1646.46,1374.17 1647.47,1374.17 1648.48,1374.17 1649.49,1374.17 1650.5,1374.17 1651.51,1374.17 1652.52,1374.17 1653.53,1374.17 1654.54,1374.17 1655.55,1374.17 \n",
       "  1656.56,1374.17 1657.57,1374.17 1658.58,1374.17 1659.59,1374.17 1660.61,1374.17 1661.62,1374.17 1662.63,1374.17 1663.64,1374.17 1664.65,1374.17 1665.66,1374.17 \n",
       "  1666.67,1374.17 1667.68,1374.17 1668.69,1374.17 1669.7,1374.17 1670.71,1374.17 1671.72,1374.17 1672.73,1374.17 1673.74,1374.17 1674.75,1374.17 1675.76,1374.17 \n",
       "  1676.77,1374.17 1677.78,1374.17 1678.79,1374.17 1679.8,1374.17 1680.81,1374.17 1681.83,1374.17 1682.84,1374.18 1683.85,1374.18 1684.86,1374.18 1685.87,1374.18 \n",
       "  1686.88,1374.18 1687.89,1374.18 1688.9,1374.18 1689.91,1374.18 1690.92,1374.18 1691.93,1374.18 1692.94,1374.18 1693.95,1374.18 1694.96,1374.18 1695.97,1374.18 \n",
       "  1696.98,1374.18 1697.99,1374.18 1699,1374.18 1700.01,1374.18 1701.02,1374.18 1702.03,1374.18 1703.05,1374.18 1704.06,1374.18 1705.07,1374.18 1706.08,1374.18 \n",
       "  1707.09,1374.18 1708.1,1374.18 1709.11,1374.18 1710.12,1374.18 1711.13,1374.18 1712.14,1374.18 1713.15,1374.18 1714.16,1374.18 1715.17,1374.18 1716.18,1374.18 \n",
       "  1717.19,1374.18 1718.2,1374.18 1719.21,1374.18 1720.22,1374.18 1721.23,1374.18 1722.24,1374.18 1723.26,1374.18 1724.27,1374.18 1725.28,1374.18 1726.29,1374.18 \n",
       "  1727.3,1374.18 1728.31,1374.18 1729.32,1374.18 1730.33,1374.18 1731.34,1374.18 1732.35,1374.18 1733.36,1374.18 1734.37,1374.18 1735.38,1374.18 1736.39,1374.18 \n",
       "  1737.4,1374.18 1738.41,1374.18 1739.42,1374.18 1740.43,1374.18 1741.44,1374.18 1742.45,1374.18 1743.46,1374.18 1744.48,1374.18 1745.49,1374.18 1746.5,1374.18 \n",
       "  1747.51,1374.18 1748.52,1374.18 1749.53,1374.18 1750.54,1374.18 1751.55,1374.18 1752.56,1374.18 1753.57,1374.18 1754.58,1374.18 1755.59,1374.18 1756.6,1374.18 \n",
       "  1757.61,1374.18 1758.62,1374.18 1759.63,1374.18 1760.64,1374.18 1761.65,1374.18 1762.66,1374.18 1763.67,1374.18 1764.68,1374.18 1765.7,1374.18 1766.71,1374.18 \n",
       "  1767.72,1374.18 1768.73,1374.18 1769.74,1374.18 1770.75,1374.18 1771.76,1374.18 1772.77,1374.18 1773.78,1374.18 1774.79,1374.18 1775.8,1374.18 1776.81,1374.18 \n",
       "  1777.82,1374.18 1778.83,1374.18 1779.84,1374.18 1780.85,1374.18 1781.86,1374.18 1782.87,1374.18 1783.88,1374.18 1784.89,1374.18 1785.91,1374.18 1786.92,1374.18 \n",
       "  1787.93,1374.18 1788.94,1374.18 1789.95,1374.18 1790.96,1374.18 1791.97,1374.18 1792.98,1374.18 1793.99,1374.18 1795,1374.18 1796.01,1374.18 1797.02,1374.18 \n",
       "  1798.03,1374.18 1799.04,1374.18 1800.05,1374.18 1801.06,1374.18 1802.07,1374.18 1803.08,1374.18 1804.09,1374.18 1805.1,1374.18 1806.11,1374.18 1807.13,1374.18 \n",
       "  1808.14,1374.18 1809.15,1374.18 1810.16,1374.18 1811.17,1374.18 1812.18,1374.18 1813.19,1374.18 1814.2,1374.18 1815.21,1374.18 1816.22,1374.18 1817.23,1374.18 \n",
       "  1818.24,1374.18 1819.25,1374.18 1820.26,1374.18 1821.27,1374.18 1822.28,1374.18 1823.29,1374.18 1824.3,1374.18 1825.31,1374.18 1826.32,1374.18 1827.33,1374.18 \n",
       "  1828.35,1374.18 1829.36,1374.18 1830.37,1374.18 1831.38,1374.18 1832.39,1374.18 1833.4,1374.18 1834.41,1374.18 1835.42,1374.18 1836.43,1374.18 1837.44,1374.18 \n",
       "  1838.45,1374.18 1839.46,1374.18 1840.47,1374.18 1841.48,1374.18 1842.49,1374.18 1843.5,1374.18 1844.51,1374.18 1845.52,1374.18 1846.53,1374.18 1847.54,1374.18 \n",
       "  1848.56,1374.18 1849.57,1374.18 1850.58,1374.18 1851.59,1374.18 1852.6,1374.18 1853.61,1374.18 1854.62,1374.18 1855.63,1374.18 1856.64,1374.18 1857.65,1374.18 \n",
       "  1858.66,1374.18 1859.67,1374.18 1860.68,1374.18 1861.69,1374.18 1862.7,1374.18 1863.71,1374.18 1864.72,1374.18 1865.73,1374.18 1866.74,1374.18 1867.75,1374.18 \n",
       "  1868.76,1374.18 1869.78,1374.18 1870.79,1374.18 1871.8,1374.18 1872.81,1374.18 1873.82,1374.18 1874.83,1374.18 1875.84,1374.18 1876.85,1374.18 1877.86,1374.18 \n",
       "  1878.87,1374.18 1879.88,1374.18 1880.89,1374.18 1881.9,1374.18 1882.91,1374.18 1883.92,1374.18 1884.93,1374.18 1885.94,1374.18 1886.95,1374.18 1887.96,1374.18 \n",
       "  1888.97,1374.18 1889.98,1374.18 1891,1374.18 1892.01,1374.18 1893.02,1374.18 1894.03,1374.18 1895.04,1374.18 1896.05,1374.18 1897.06,1374.18 1898.07,1374.18 \n",
       "  1899.08,1374.18 1900.09,1374.18 1901.1,1374.18 1902.11,1374.18 1903.12,1374.18 1904.13,1374.18 1905.14,1374.18 1906.15,1374.18 1907.16,1374.18 1908.17,1374.18 \n",
       "  1909.18,1374.18 1910.19,1374.18 1911.21,1374.18 1912.22,1374.18 1913.23,1374.18 1914.24,1374.18 1915.25,1374.18 1916.26,1374.18 1917.27,1374.18 1918.28,1374.18 \n",
       "  1919.29,1374.18 1920.3,1374.18 1921.31,1374.18 1922.32,1374.18 1923.33,1374.18 1924.34,1374.18 1925.35,1374.18 1926.36,1374.18 1927.37,1374.18 1928.38,1374.18 \n",
       "  1929.39,1374.18 1930.4,1374.18 1931.41,1374.18 1932.43,1374.18 1933.44,1374.18 1934.45,1374.18 1935.46,1374.18 1936.47,1374.18 1937.48,1374.18 1938.49,1374.18 \n",
       "  1939.5,1374.18 1940.51,1374.18 1941.52,1374.18 1942.53,1374.18 1943.54,1374.18 1944.55,1374.18 1945.56,1374.18 1946.57,1374.18 1947.58,1374.18 1948.59,1374.18 \n",
       "  1949.6,1374.18 1950.61,1374.18 1951.62,1374.18 1952.63,1374.18 1953.65,1374.18 1954.66,1374.18 1955.67,1374.18 1956.68,1374.18 1957.69,1374.18 1958.7,1374.18 \n",
       "  1959.71,1374.18 1960.72,1374.18 1961.73,1374.18 1962.74,1374.18 1963.75,1374.18 1964.76,1374.18 1965.77,1374.18 1966.78,1374.18 1967.79,1374.18 1968.8,1374.18 \n",
       "  1969.81,1374.18 1970.82,1374.18 1971.83,1374.18 1972.84,1374.18 1973.85,1374.18 1974.87,1374.18 1975.88,1374.18 1976.89,1374.18 1977.9,1374.18 1978.91,1374.18 \n",
       "  1979.92,1374.18 1980.93,1374.18 1981.94,1374.18 1982.95,1374.18 1983.96,1374.18 1984.97,1374.18 1985.98,1374.18 1986.99,1374.18 1988,1374.18 1989.01,1374.18 \n",
       "  1990.02,1374.18 1991.03,1374.18 1992.04,1374.18 1993.05,1374.18 1994.06,1374.18 1995.08,1374.18 1996.09,1374.18 1997.1,1374.18 1998.11,1374.18 1999.12,1374.18 \n",
       "  2000.13,1374.18 2001.14,1374.18 2002.15,1374.18 2003.16,1374.18 2004.17,1374.18 2005.18,1374.18 2006.19,1374.18 2007.2,1374.18 2008.21,1374.18 2009.22,1374.18 \n",
       "  2010.23,1374.18 2011.24,1374.18 2012.25,1374.18 2013.26,1374.18 2014.27,1374.18 2015.28,1374.18 2016.3,1374.18 2017.31,1374.18 2018.32,1374.18 2019.33,1374.18 \n",
       "  2020.34,1374.18 2021.35,1374.18 2022.36,1374.18 2023.37,1374.18 2024.38,1374.18 2025.39,1374.18 2026.4,1374.18 2027.41,1374.18 2028.42,1374.18 2029.43,1374.18 \n",
       "  2030.44,1374.18 2031.45,1374.18 2032.46,1374.18 2033.47,1374.18 2034.48,1374.18 2035.49,1374.18 2036.5,1374.18 2037.52,1374.18 2038.53,1374.18 2039.54,1374.18 \n",
       "  2040.55,1374.18 2041.56,1374.18 2042.57,1374.18 2043.58,1374.18 2044.59,1374.18 2045.6,1374.18 2046.61,1374.18 2047.62,1374.18 2048.63,1374.18 2049.64,1374.18 \n",
       "  2050.65,1374.18 2051.66,1374.18 2052.67,1374.18 2053.68,1374.18 2054.69,1374.18 2055.7,1374.18 2056.71,1374.18 2057.73,1374.18 2058.74,1374.18 2059.75,1374.18 \n",
       "  2060.76,1374.18 2061.77,1374.18 2062.78,1374.18 2063.79,1374.18 2064.8,1374.18 2065.81,1374.18 2066.82,1374.18 2067.83,1374.18 2068.84,1374.18 2069.85,1374.18 \n",
       "  2070.86,1374.18 2071.87,1374.18 2072.88,1374.18 2073.89,1374.18 2074.9,1374.18 2075.91,1374.18 2076.92,1374.18 2077.93,1374.18 2078.95,1374.18 2079.96,1374.18 \n",
       "  2080.97,1374.18 2081.98,1374.18 2082.99,1374.18 2084,1374.18 2085.01,1374.18 2086.02,1374.18 2087.03,1374.18 2088.04,1374.18 2089.05,1374.18 2090.06,1374.18 \n",
       "  2091.07,1374.18 2092.08,1374.18 2093.09,1374.18 2094.1,1374.18 2095.11,1374.18 2096.12,1374.18 2097.13,1374.18 2098.14,1374.18 2099.15,1374.18 2100.17,1374.18 \n",
       "  2101.18,1374.18 2102.19,1374.18 2103.2,1374.18 2104.21,1374.18 2105.22,1374.18 2106.23,1374.18 2107.24,1374.22 2108.25,1374.18 2109.26,1374.18 2110.27,1374.18 \n",
       "  2111.28,1374.18 2112.29,1374.18 2113.3,1374.18 2114.31,1374.18 2115.32,1374.18 2116.33,1374.18 2117.34,1374.18 2118.35,1374.18 2119.36,1374.31 2120.38,1374.18 \n",
       "  2121.39,1374.18 2122.4,1374.18 2123.41,1374.18 2124.42,1374.25 2125.43,1374.83 2126.44,1374.18 2127.45,1374.18 2128.46,1374.18 2129.47,1374.19 2130.48,1374.24 \n",
       "  2131.49,1375.42 2132.5,1374.24 2133.51,1374.56 2134.52,1374.93 2135.53,1375.15 2136.54,1375.31 2137.55,1375.53 2138.56,1375.58 2139.57,1375.66 2140.58,1375.73 \n",
       "  2141.6,1375.82 2142.61,1375.96 2143.62,1376.19 2144.63,1376.46 2145.64,1376.55 2146.65,1376.6 2147.66,1376.63 2148.67,1376.71 2149.68,1376.77 2150.69,1376.83 \n",
       "  2151.7,1376.87 2152.71,1376.9 2153.72,1376.92 2154.73,1376.95 2155.74,1376.97 2156.75,1376.99 2157.76,1377 2158.77,1377.02 2159.78,1377.04 2160.79,1377.05 \n",
       "  2161.8,1377.06 2162.82,1377.08 2163.83,1377.09 2164.84,1377.1 2165.85,1377.11 2166.86,1377.13 2167.87,1377.14 2168.88,1377.15 2169.89,1377.16 2170.9,1377.17 \n",
       "  2171.91,1377.18 2172.92,1377.19 2173.93,1377.2 2174.94,1377.21 2175.95,1377.21 2176.96,1377.22 2177.97,1377.23 2178.98,1377.24 2179.99,1377.25 2181,1377.26 \n",
       "  2182.01,1377.26 2183.03,1377.27 2184.04,1377.28 2185.05,1377.28 2186.06,1377.29 2187.07,1377.3 2188.08,1377.3 2189.09,1377.31 2190.1,1377.32 2191.11,1377.32 \n",
       "  2192.12,1377.33 2193.13,1377.34 2194.14,1377.34 2195.15,1377.35 2196.16,1377.35 2197.17,1377.36 2198.18,1377.36 2199.19,1377.37 2200.2,1377.37 2201.21,1377.38 \n",
       "  2202.22,1377.38 2203.23,1377.39 2204.25,1377.39 2205.26,1377.39 2206.27,1377.4 2207.28,1377.4 2208.29,1377.41 2209.3,1377.41 2210.31,1377.41 2211.32,1377.42 \n",
       "  2212.33,1377.42 2213.34,1377.42 2214.35,1377.43 2215.36,1377.43 2216.37,1377.43 2217.38,1377.44 2218.39,1377.44 2219.4,1377.44 2220.41,1377.45 2221.42,1377.45 \n",
       "  2222.43,1377.45 2223.44,1377.46 2224.45,1377.46 2225.47,1377.47 2226.48,1377.48 2227.49,1377.51 2228.5,1377.64 2229.51,1378.56 2230.52,1379.4 2231.53,1379.87 \n",
       "  2232.54,1380.47 2233.55,1380.72 2234.56,1380.78 2235.57,1380.81 2236.58,1380.82 2237.59,1380.83 2238.6,1380.84 2239.61,1380.85 2240.62,1380.85 2241.63,1380.86 \n",
       "  2242.64,1380.86 2243.65,1380.86 2244.66,1380.87 2245.67,1380.87 2246.69,1380.87 2247.7,1380.87 2248.71,1380.87 2249.72,1380.88 2250.73,1380.88 2251.74,1380.88 \n",
       "  2252.75,1380.88 2253.76,1380.88 2254.77,1380.88 2255.78,1380.88 2256.79,1380.88 2257.8,1380.88 2258.81,1380.88 2259.82,1380.89 2260.83,1380.89 2261.84,1380.89 \n",
       "  2262.85,1380.89 2263.86,1380.89 2264.87,1380.89 2265.88,1380.89 2266.9,1380.89 2267.91,1380.89 2268.92,1380.89 2269.93,1380.89 2270.94,1380.89 2271.95,1380.89 \n",
       "  2272.96,1380.89 2273.97,1380.89 2274.98,1380.89 2275.99,1380.89 2277,1380.89 2278.01,1380.89 2279.02,1380.89 2280.03,1380.89 2281.04,1380.9 2282.05,1380.9 \n",
       "  2283.06,1380.9 2284.07,1380.9 2285.08,1380.9 2286.09,1380.9 2287.1,1380.9 2288.12,1380.9 2289.13,1380.9 2290.14,1380.92 2291.15,1382.77 2292.16,1384.24 \n",
       "  \n",
       "  \"/>\n",
       "<path clip-path=\"url(#clip070)\" d=\"\n",
       "M1844.15 274.549 L2281.38 274.549 L2281.38 93.1086 L1844.15 93.1086  Z\n",
       "  \" fill=\"#ffffff\" fill-rule=\"evenodd\" fill-opacity=\"1\"/>\n",
       "<polyline clip-path=\"url(#clip070)\" style=\"stroke:#000000; stroke-width:4; stroke-opacity:1; fill:none\" points=\"\n",
       "  1844.15,274.549 2281.38,274.549 2281.38,93.1086 1844.15,93.1086 1844.15,274.549 \n",
       "  \"/>\n",
       "<polyline clip-path=\"url(#clip070)\" style=\"stroke:#009af9; stroke-width:4; stroke-opacity:1; fill:none\" points=\"\n",
       "  1867.94,153.589 2010.68,153.589 \n",
       "  \"/>\n",
       "<path clip-path=\"url(#clip070)\" d=\"M 0 0 M2047.67 170.869 L2034.48 136.309 L2039.36 136.309 L2050.31 165.406 L2061.28 136.309 L2066.14 136.309 L2052.97 170.869 L2047.67 170.869 Z\" fill=\"#000000\" fill-rule=\"evenodd\" fill-opacity=\"1\" /><path clip-path=\"url(#clip070)\" d=\"M 0 0 M2078.71 157.836 Q2073.55 157.836 2071.56 159.017 Q2069.57 160.197 2069.57 163.045 Q2069.57 165.313 2071.05 166.656 Q2072.55 167.975 2075.12 167.975 Q2078.66 167.975 2080.79 165.475 Q2082.95 162.952 2082.95 158.785 L2082.95 157.836 L2078.71 157.836 M2087.21 156.077 L2087.21 170.869 L2082.95 170.869 L2082.95 166.933 Q2081.49 169.295 2079.31 170.429 Q2077.14 171.54 2073.99 171.54 Q2070.01 171.54 2067.65 169.318 Q2065.31 167.072 2065.31 163.322 Q2065.31 158.947 2068.23 156.725 Q2071.16 154.503 2076.98 154.503 L2082.95 154.503 L2082.95 154.086 Q2082.95 151.147 2081 149.549 Q2079.08 147.929 2075.59 147.929 Q2073.36 147.929 2071.26 148.461 Q2069.15 148.994 2067.21 150.059 L2067.21 146.123 Q2069.54 145.221 2071.74 144.781 Q2073.94 144.318 2076.03 144.318 Q2081.65 144.318 2084.43 147.234 Q2087.21 150.151 2087.21 156.077 Z\" fill=\"#000000\" fill-rule=\"evenodd\" fill-opacity=\"1\" /><path clip-path=\"url(#clip070)\" d=\"M 0 0 M2091.67 134.85 L2095.93 134.85 L2095.93 170.869 L2091.67 170.869 L2091.67 134.85 Z\" fill=\"#000000\" fill-rule=\"evenodd\" fill-opacity=\"1\" /><path clip-path=\"url(#clip070)\" d=\"M 0 0 M2100.4 144.943 L2104.66 144.943 L2104.66 170.869 L2100.4 170.869 L2100.4 144.943 M2100.4 134.85 L2104.66 134.85 L2104.66 140.244 L2100.4 140.244 L2100.4 134.85 Z\" fill=\"#000000\" fill-rule=\"evenodd\" fill-opacity=\"1\" /><path clip-path=\"url(#clip070)\" d=\"M 0 0 M2126.19 148.878 L2126.19 134.85 L2130.45 134.85 L2130.45 170.869 L2126.19 170.869 L2126.19 166.98 Q2124.85 169.295 2122.79 170.429 Q2120.75 171.54 2117.88 171.54 Q2113.18 171.54 2110.22 167.79 Q2107.28 164.04 2107.28 157.929 Q2107.28 151.818 2110.22 148.068 Q2113.18 144.318 2117.88 144.318 Q2120.75 144.318 2122.79 145.452 Q2124.85 146.563 2126.19 148.878 M2111.67 157.929 Q2111.67 162.628 2113.6 165.313 Q2115.54 167.975 2118.92 167.975 Q2122.3 167.975 2124.24 165.313 Q2126.19 162.628 2126.19 157.929 Q2126.19 153.23 2124.24 150.568 Q2122.3 147.883 2118.92 147.883 Q2115.54 147.883 2113.6 150.568 Q2111.67 153.23 2111.67 157.929 Z\" fill=\"#000000\" fill-rule=\"evenodd\" fill-opacity=\"1\" /><path clip-path=\"url(#clip070)\" d=\"M 0 0 M2146.7 157.836 Q2141.53 157.836 2139.54 159.017 Q2137.55 160.197 2137.55 163.045 Q2137.55 165.313 2139.03 166.656 Q2140.54 167.975 2143.11 167.975 Q2146.65 167.975 2148.78 165.475 Q2150.93 162.952 2150.93 158.785 L2150.93 157.836 L2146.7 157.836 M2155.19 156.077 L2155.19 170.869 L2150.93 170.869 L2150.93 166.933 Q2149.47 169.295 2147.3 170.429 Q2145.12 171.54 2141.97 171.54 Q2137.99 171.54 2135.63 169.318 Q2133.29 167.072 2133.29 163.322 Q2133.29 158.947 2136.21 156.725 Q2139.15 154.503 2144.96 154.503 L2150.93 154.503 L2150.93 154.086 Q2150.93 151.147 2148.99 149.549 Q2147.07 147.929 2143.57 147.929 Q2141.35 147.929 2139.24 148.461 Q2137.14 148.994 2135.19 150.059 L2135.19 146.123 Q2137.53 145.221 2139.73 144.781 Q2141.93 144.318 2144.01 144.318 Q2149.64 144.318 2152.41 147.234 Q2155.19 150.151 2155.19 156.077 Z\" fill=\"#000000\" fill-rule=\"evenodd\" fill-opacity=\"1\" /><path clip-path=\"url(#clip070)\" d=\"M 0 0 M2163.87 137.582 L2163.87 144.943 L2172.65 144.943 L2172.65 148.253 L2163.87 148.253 L2163.87 162.327 Q2163.87 165.498 2164.73 166.401 Q2165.61 167.304 2168.27 167.304 L2172.65 167.304 L2172.65 170.869 L2168.27 170.869 Q2163.34 170.869 2161.47 169.04 Q2159.59 167.188 2159.59 162.327 L2159.59 148.253 L2156.47 148.253 L2156.47 144.943 L2159.59 144.943 L2159.59 137.582 L2163.87 137.582 Z\" fill=\"#000000\" fill-rule=\"evenodd\" fill-opacity=\"1\" /><path clip-path=\"url(#clip070)\" d=\"M 0 0 M2177.11 144.943 L2181.37 144.943 L2181.37 170.869 L2177.11 170.869 L2177.11 144.943 M2177.11 134.85 L2181.37 134.85 L2181.37 140.244 L2177.11 140.244 L2177.11 134.85 Z\" fill=\"#000000\" fill-rule=\"evenodd\" fill-opacity=\"1\" /><path clip-path=\"url(#clip070)\" d=\"M 0 0 M2195.89 147.929 Q2192.46 147.929 2190.47 150.614 Q2188.48 153.276 2188.48 157.929 Q2188.48 162.582 2190.45 165.267 Q2192.44 167.929 2195.89 167.929 Q2199.29 167.929 2201.28 165.244 Q2203.27 162.558 2203.27 157.929 Q2203.27 153.322 2201.28 150.637 Q2199.29 147.929 2195.89 147.929 M2195.89 144.318 Q2201.44 144.318 2204.61 147.929 Q2207.78 151.54 2207.78 157.929 Q2207.78 164.295 2204.61 167.929 Q2201.44 171.54 2195.89 171.54 Q2190.31 171.54 2187.14 167.929 Q2183.99 164.295 2183.99 157.929 Q2183.99 151.54 2187.14 147.929 Q2190.31 144.318 2195.89 144.318 Z\" fill=\"#000000\" fill-rule=\"evenodd\" fill-opacity=\"1\" /><path clip-path=\"url(#clip070)\" d=\"M 0 0 M2233.8 155.221 L2233.8 170.869 L2229.54 170.869 L2229.54 155.359 Q2229.54 151.679 2228.11 149.85 Q2226.67 148.022 2223.8 148.022 Q2220.35 148.022 2218.36 150.221 Q2216.37 152.42 2216.37 156.216 L2216.37 170.869 L2212.09 170.869 L2212.09 144.943 L2216.37 144.943 L2216.37 148.971 Q2217.9 146.633 2219.96 145.475 Q2222.04 144.318 2224.75 144.318 Q2229.22 144.318 2231.51 147.096 Q2233.8 149.85 2233.8 155.221 Z\" fill=\"#000000\" fill-rule=\"evenodd\" fill-opacity=\"1\" /><polyline clip-path=\"url(#clip070)\" style=\"stroke:#e26f46; stroke-width:4; stroke-opacity:1; fill:none\" points=\"\n",
       "  1867.94,214.069 2010.68,214.069 \n",
       "  \"/>\n",
       "<path clip-path=\"url(#clip070)\" d=\"M 0 0 M2034.48 196.789 L2063.71 196.789 L2063.71 200.724 L2051.44 200.724 L2051.44 231.349 L2046.74 231.349 L2046.74 200.724 L2034.48 200.724 L2034.48 196.789 Z\" fill=\"#000000\" fill-rule=\"evenodd\" fill-opacity=\"1\" /><path clip-path=\"url(#clip070)\" d=\"M 0 0 M2076.23 209.404 Q2075.52 208.988 2074.66 208.802 Q2073.83 208.594 2072.81 208.594 Q2069.2 208.594 2067.25 210.955 Q2065.33 213.293 2065.33 217.691 L2065.33 231.349 L2061.05 231.349 L2061.05 205.423 L2065.33 205.423 L2065.33 209.451 Q2066.67 207.089 2068.83 205.955 Q2070.98 204.798 2074.06 204.798 Q2074.5 204.798 2075.03 204.867 Q2075.56 204.914 2076.21 205.029 L2076.23 209.404 Z\" fill=\"#000000\" fill-rule=\"evenodd\" fill-opacity=\"1\" /><path clip-path=\"url(#clip070)\" d=\"M 0 0 M2092.48 218.316 Q2087.32 218.316 2085.33 219.497 Q2083.34 220.677 2083.34 223.525 Q2083.34 225.793 2084.82 227.136 Q2086.33 228.455 2088.9 228.455 Q2092.44 228.455 2094.57 225.955 Q2096.72 223.432 2096.72 219.265 L2096.72 218.316 L2092.48 218.316 M2100.98 216.557 L2100.98 231.349 L2096.72 231.349 L2096.72 227.413 Q2095.26 229.775 2093.09 230.909 Q2090.91 232.02 2087.76 232.02 Q2083.78 232.02 2081.42 229.798 Q2079.08 227.552 2079.08 223.802 Q2079.08 219.427 2082 217.205 Q2084.94 214.983 2090.75 214.983 L2096.72 214.983 L2096.72 214.566 Q2096.72 211.627 2094.78 210.029 Q2092.85 208.409 2089.36 208.409 Q2087.14 208.409 2085.03 208.941 Q2082.92 209.474 2080.98 210.539 L2080.98 206.603 Q2083.32 205.701 2085.52 205.261 Q2087.72 204.798 2089.8 204.798 Q2095.42 204.798 2098.2 207.714 Q2100.98 210.631 2100.98 216.557 Z\" fill=\"#000000\" fill-rule=\"evenodd\" fill-opacity=\"1\" /><path clip-path=\"url(#clip070)\" d=\"M 0 0 M2105.45 205.423 L2109.71 205.423 L2109.71 231.349 L2105.45 231.349 L2105.45 205.423 M2105.45 195.33 L2109.71 195.33 L2109.71 200.724 L2105.45 200.724 L2105.45 195.33 Z\" fill=\"#000000\" fill-rule=\"evenodd\" fill-opacity=\"1\" /><path clip-path=\"url(#clip070)\" d=\"M 0 0 M2135.72 215.701 L2135.72 231.349 L2131.47 231.349 L2131.47 215.839 Q2131.47 212.159 2130.03 210.33 Q2128.6 208.502 2125.72 208.502 Q2122.28 208.502 2120.29 210.701 Q2118.29 212.9 2118.29 216.696 L2118.29 231.349 L2114.01 231.349 L2114.01 205.423 L2118.29 205.423 L2118.29 209.451 Q2119.82 207.113 2121.88 205.955 Q2123.97 204.798 2126.67 204.798 Q2131.14 204.798 2133.43 207.576 Q2135.72 210.33 2135.72 215.701 Z\" fill=\"#000000\" fill-rule=\"evenodd\" fill-opacity=\"1\" /><path clip-path=\"url(#clip070)\" d=\"M 0 0 M2140.19 205.423 L2144.45 205.423 L2144.45 231.349 L2140.19 231.349 L2140.19 205.423 M2140.19 195.33 L2144.45 195.33 L2144.45 200.724 L2140.19 200.724 L2140.19 195.33 Z\" fill=\"#000000\" fill-rule=\"evenodd\" fill-opacity=\"1\" /><path clip-path=\"url(#clip070)\" d=\"M 0 0 M2170.47 215.701 L2170.47 231.349 L2166.21 231.349 L2166.21 215.839 Q2166.21 212.159 2164.78 210.33 Q2163.34 208.502 2160.47 208.502 Q2157.02 208.502 2155.03 210.701 Q2153.04 212.9 2153.04 216.696 L2153.04 231.349 L2148.76 231.349 L2148.76 205.423 L2153.04 205.423 L2153.04 209.451 Q2154.57 207.113 2156.63 205.955 Q2158.71 204.798 2161.42 204.798 Q2165.89 204.798 2168.18 207.576 Q2170.47 210.33 2170.47 215.701 Z\" fill=\"#000000\" fill-rule=\"evenodd\" fill-opacity=\"1\" /><path clip-path=\"url(#clip070)\" d=\"M 0 0 M2192 218.085 Q2192 213.455 2190.08 210.909 Q2188.18 208.363 2184.73 208.363 Q2181.3 208.363 2179.38 210.909 Q2177.48 213.455 2177.48 218.085 Q2177.48 222.691 2179.38 225.238 Q2181.3 227.784 2184.73 227.784 Q2188.18 227.784 2190.08 225.238 Q2192 222.691 2192 218.085 M2196.26 228.131 Q2196.26 234.751 2193.32 237.969 Q2190.38 241.21 2184.31 241.21 Q2182.07 241.21 2180.08 240.862 Q2178.09 240.538 2176.21 239.844 L2176.21 235.7 Q2178.09 236.719 2179.91 237.205 Q2181.74 237.691 2183.64 237.691 Q2187.83 237.691 2189.91 235.492 Q2192 233.316 2192 228.895 L2192 226.788 Q2190.68 229.08 2188.62 230.214 Q2186.56 231.349 2183.69 231.349 Q2178.92 231.349 2176 227.714 Q2173.09 224.08 2173.09 218.085 Q2173.09 212.066 2176 208.432 Q2178.92 204.798 2183.69 204.798 Q2186.56 204.798 2188.62 205.932 Q2190.68 207.066 2192 209.358 L2192 205.423 L2196.26 205.423 L2196.26 228.131 Z\" fill=\"#000000\" fill-rule=\"evenodd\" fill-opacity=\"1\" /></svg>\n"
      ]
     },
     "execution_count": 140,
     "metadata": {},
     "output_type": "execute_result"
    }
   ],
   "source": [
    "plot(curve.parameter_values,\n",
    "     curve.measurements,\n",
    "     xlab=curve.parameter_name,\n",
    "     ylab=\"Cross Entropy\",\n",
    "     label=\"Validation\", lw=2)\n",
    "plot!(Net.report.training_losses, label=\"Training\", lw=2)"
   ]
  },
  {
   "cell_type": "code",
   "execution_count": 141,
   "metadata": {},
   "outputs": [
    {
     "data": {
      "text/plain": [
       "236"
      ]
     },
     "execution_count": 141,
     "metadata": {},
     "output_type": "execute_result"
    }
   ],
   "source": [
    "best_epochs = curve.parameter_values[argmin(curve.measurements)]"
   ]
  },
  {
   "cell_type": "code",
   "execution_count": 142,
   "metadata": {},
   "outputs": [],
   "source": [
    "png(\"Figures/learning_curve_nn_$(best_epochs)epochs_balance\")"
   ]
  },
  {
   "cell_type": "markdown",
   "metadata": {},
   "source": [
    "# Final Results"
   ]
  },
  {
   "cell_type": "code",
   "execution_count": 143,
   "metadata": {
    "scrolled": true
   },
   "outputs": [
    {
     "data": {
      "text/plain": [
       "NeuralNetworkClassifier(\n",
       "    builder = CustomNN(\n",
       "            n1 = 100),\n",
       "    finaliser = NNlib.softmax,\n",
       "    optimiser = ADAM(0.001, (0.9, 0.999), IdDict{Any,Any}()),\n",
       "    loss = Flux.crossentropy,\n",
       "    epochs = 10,\n",
       "    batch_size = 1,\n",
       "    lambda = 0.0,\n",
       "    alpha = 0.0,\n",
       "    optimiser_changes_trigger_retraining = false)\u001b[34m @051\u001b[39m"
      ]
     },
     "execution_count": 143,
     "metadata": {},
     "output_type": "execute_result"
    }
   ],
   "source": [
    "final_model = NeuralNetworkClassifier(builder=CustomNN(best_n1))"
   ]
  },
  {
   "cell_type": "code",
   "execution_count": 159,
   "metadata": {},
   "outputs": [
    {
     "data": {
      "text/plain": [
       "236"
      ]
     },
     "execution_count": 159,
     "metadata": {},
     "output_type": "execute_result"
    }
   ],
   "source": [
    "final_model.optimiser.eta = lc_model.optimiser.eta = best_eta;\n",
    "final_model.batch_size = batch_sz\n",
    "final_model.lambda = best_lambda\n",
    "final_model.epochs = best_epochs"
   ]
  },
  {
   "cell_type": "markdown",
   "metadata": {},
   "source": [
    "### Test Performance"
   ]
  },
  {
   "cell_type": "code",
   "execution_count": 153,
   "metadata": {},
   "outputs": [
    {
     "name": "stderr",
     "output_type": "stream",
     "text": [
      "┌ Warning: The scitype of `X`, in `machine(model, X, ...)` is incompatible with `model=\u001b[34mNeuralNetworkClassifier{CustomNN,…} @051\u001b[39m`:\n",
      "│ scitype(X) = Table{Union{AbstractArray{Continuous,1}, AbstractArray{Count,1}}}\n",
      "│ input_scitype(model) = Table{var\"#s44\"} where var\"#s44\"<:(AbstractArray{var\"#s13\",1} where var\"#s13\"<:Continuous).\n",
      "└ @ MLJBase /home/andrew/.julia/packages/MLJBase/uKzAz/src/machines.jl:77\n"
     ]
    },
    {
     "data": {
      "text/plain": [
       "\u001b[34mMachine{NeuralNetworkClassifier{CustomNN,…}} @206\u001b[39m trained 0 times.\n",
       "  args: \n",
       "    1:\t\u001b[34mSource @858\u001b[39m ⏎ `Table{Union{AbstractArray{Continuous,1}, AbstractArray{Count,1}}}`\n",
       "    2:\t\u001b[34mSource @715\u001b[39m ⏎ `AbstractArray{Multiclass{2},1}`\n"
      ]
     },
     "execution_count": 153,
     "metadata": {},
     "output_type": "execute_result"
    }
   ],
   "source": [
    "Final_Net = machine(final_model, X_stand, y)"
   ]
  },
  {
   "cell_type": "code",
   "execution_count": 154,
   "metadata": {
    "scrolled": false
   },
   "outputs": [
    {
     "name": "stderr",
     "output_type": "stream",
     "text": [
      "┌ Info: Training \u001b[34mMachine{NeuralNetworkClassifier{CustomNN,…}} @206\u001b[39m.\n",
      "└ @ MLJBase /home/andrew/.julia/packages/MLJBase/uKzAz/src/machines.jl:319\n",
      "\u001b[33mOptimising neural net:100%[=========================] Time: 0:00:05\u001b[39m\n"
     ]
    },
    {
     "data": {
      "text/plain": [
       "\u001b[34mMachine{NeuralNetworkClassifier{CustomNN,…}} @206\u001b[39m trained 1 time.\n",
       "  args: \n",
       "    1:\t\u001b[34mSource @858\u001b[39m ⏎ `Table{Union{AbstractArray{Continuous,1}, AbstractArray{Count,1}}}`\n",
       "    2:\t\u001b[34mSource @715\u001b[39m ⏎ `AbstractArray{Multiclass{2},1}`\n"
      ]
     },
     "execution_count": 154,
     "metadata": {},
     "output_type": "execute_result"
    }
   ],
   "source": [
    "fit!(Final_Net, rows=train, force=true, verbosity=1)"
   ]
  },
  {
   "cell_type": "code",
   "execution_count": 155,
   "metadata": {},
   "outputs": [
    {
     "name": "stderr",
     "output_type": "stream",
     "text": [
      "\u001b[33mEvaluating over 6 folds: 100%[=========================] Time: 0:00:38\u001b[39m\n"
     ]
    },
    {
     "data": {
      "text/plain": [
       "┌\u001b[0m───────────────\u001b[0m┬\u001b[0m───────────────\u001b[0m┬\u001b[0m────────────────────────────────────────────────\u001b[0m┐\u001b[0m\n",
       "│\u001b[0m\u001b[22m _.measure     \u001b[0m│\u001b[0m\u001b[22m _.measurement \u001b[0m│\u001b[0m\u001b[22m _.per_fold                                     \u001b[0m│\u001b[0m\n",
       "├\u001b[0m───────────────\u001b[0m┼\u001b[0m───────────────\u001b[0m┼\u001b[0m────────────────────────────────────────────────\u001b[0m┤\u001b[0m\n",
       "│\u001b[0m cross_entropy \u001b[0m│\u001b[0m 0.427         \u001b[0m│\u001b[0m Float32[0.411, 0.42, 0.424, 0.42, 0.443, 0.44] \u001b[0m│\u001b[0m\n",
       "│\u001b[0m acc           \u001b[0m│\u001b[0m 0.883         \u001b[0m│\u001b[0m [0.903, 0.892, 0.892, 0.886, 0.852, 0.874]     \u001b[0m│\u001b[0m\n",
       "└\u001b[0m───────────────\u001b[0m┴\u001b[0m───────────────\u001b[0m┴\u001b[0m────────────────────────────────────────────────\u001b[0m┘\u001b[0m\n",
       "_.per_observation = [[[1.3, 0.332, ..., 0.313], [0.313, 1.31, ..., 0.313], [0.313, 0.313, ..., 0.313], [1.07, 0.313, ..., 0.341], [0.317, 0.313, ..., 0.937], [0.337, 0.313, ..., 0.313]], missing]\n",
       "_.fitted_params_per_fold = [ … ]\n",
       "_.report_per_fold = [ … ]\n"
      ]
     },
     "execution_count": 155,
     "metadata": {},
     "output_type": "execute_result"
    }
   ],
   "source": [
    "nn_acc = evaluate!(Final_Net, resampling=CV(shuffle=true), measure=[cross_entropy, acc], verbosity=1)"
   ]
  },
  {
   "cell_type": "code",
   "execution_count": 156,
   "metadata": {},
   "outputs": [],
   "source": [
    "ŷ = MLJ.predict(Final_Net, X_stand[test,:]);"
   ]
  },
  {
   "cell_type": "code",
   "execution_count": 157,
   "metadata": {},
   "outputs": [
    {
     "data": {
      "text/plain": [
       "0.38565686f0"
      ]
     },
     "execution_count": 157,
     "metadata": {},
     "output_type": "execute_result"
    }
   ],
   "source": [
    "cross_entropy(ŷ, y[test]) |> mean"
   ]
  },
  {
   "cell_type": "code",
   "execution_count": 158,
   "metadata": {},
   "outputs": [
    {
     "data": {
      "text/plain": [
       "0.9305993690851735"
      ]
     },
     "execution_count": 158,
     "metadata": {},
     "output_type": "execute_result"
    }
   ],
   "source": [
    "acc(ŷ, y[test])"
   ]
  },
  {
   "cell_type": "code",
   "execution_count": 151,
   "metadata": {},
   "outputs": [
    {
     "name": "stderr",
     "output_type": "stream",
     "text": [
      "┌ Warning: The classes are un-ordered,\n",
      "│ using: negative='NRB' and positive='RB'.\n",
      "│ To suppress this warning, consider coercing to OrderedFactor.\n",
      "└ @ MLJBase /home/andrew/.julia/packages/MLJBase/uKzAz/src/measures/confusion_matrix.jl:83\n"
     ]
    },
    {
     "data": {
      "text/plain": [
       "              ┌───────────────────────────┐\n",
       "              │       Ground Truth        │\n",
       "┌─────────────┼─────────────┬─────────────┤\n",
       "│  Predicted  │     NRB     │     RB      │\n",
       "├─────────────┼─────────────┼─────────────┤\n",
       "│     NRB     │     197     │     14      │\n",
       "├─────────────┼─────────────┼─────────────┤\n",
       "│     RB      │     13      │     93      │\n",
       "└─────────────┴─────────────┴─────────────┘\n"
      ]
     },
     "execution_count": 151,
     "metadata": {},
     "output_type": "execute_result"
    }
   ],
   "source": [
    "confusion_matrix(mode.(ŷ), y[test])"
   ]
  },
  {
   "cell_type": "code",
   "execution_count": 132,
   "metadata": {},
   "outputs": [
    {
     "data": {
      "text/plain": [
       "(chain = Chain(Chain(Dense(41, 100, σ), Dense(100, 2, σ)), softmax),)"
      ]
     },
     "execution_count": 132,
     "metadata": {},
     "output_type": "execute_result"
    }
   ],
   "source": [
    "fitted_params(Final_Net)"
   ]
  },
  {
   "cell_type": "code",
   "execution_count": 133,
   "metadata": {
    "scrolled": true
   },
   "outputs": [
    {
     "data": {
      "text/plain": [
       "(training_losses = Any[0.55796397f0, 0.5163652f0, 0.4968598f0, 0.48419076f0, 0.47470143f0, 0.46723196f0, 0.46123686f0, 0.45635614f0, 0.4523221f0, 0.44893408f0  …  0.36555973f0, 0.3653956f0, 0.365235f0, 0.36507797f0, 0.36492455f0, 0.36477432f0, 0.36462715f0, 0.36448264f0, 0.3643408f0, 0.3642014f0],)"
      ]
     },
     "execution_count": 133,
     "metadata": {},
     "output_type": "execute_result"
    }
   ],
   "source": [
    "report(Final_Net)"
   ]
  },
  {
   "cell_type": "code",
   "execution_count": null,
   "metadata": {},
   "outputs": [],
   "source": []
  }
 ],
 "metadata": {
  "kernelspec": {
   "display_name": "Julia 1.5.0",
   "language": "julia",
   "name": "julia-1.5"
  },
  "language_info": {
   "file_extension": ".jl",
   "mimetype": "application/julia",
   "name": "julia",
   "version": "1.5.0"
  }
 },
 "nbformat": 4,
 "nbformat_minor": 4
}
