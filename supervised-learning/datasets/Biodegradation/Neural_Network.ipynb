{
 "cells": [
  {
   "cell_type": "markdown",
   "metadata": {},
   "source": [
    "# Imports"
   ]
  },
  {
   "cell_type": "code",
   "execution_count": 1,
   "metadata": {},
   "outputs": [],
   "source": [
    "using DataFrames\n",
    "using CSV\n",
    "using MLJ\n",
    "using Flux\n",
    "using Plots\n",
    "using StatsBase\n",
    "using MLJ: confusion_matrix\n",
    "\n",
    "include(\"../../lib.jl\")\n",
    "\n",
    "ENV[\"LINES\"]=30;"
   ]
  },
  {
   "cell_type": "code",
   "execution_count": 2,
   "metadata": {},
   "outputs": [
    {
     "ename": "LoadError",
     "evalue": "IOError: mkdir: file already exists (EEXIST)",
     "output_type": "error",
     "traceback": [
      "IOError: mkdir: file already exists (EEXIST)",
      "",
      "Stacktrace:",
      " [1] uv_error at ./libuv.jl:97 [inlined]",
      " [2] mkdir(::String; mode::UInt16) at ./file.jl:177",
      " [3] mkdir(::String) at ./file.jl:170",
      " [4] top-level scope at In[2]:1",
      " [5] include_string(::Function, ::Module, ::String, ::String) at ./loading.jl:1091"
     ]
    }
   ],
   "source": [
    "mkdir(\"./Figures\")"
   ]
  },
  {
   "cell_type": "markdown",
   "metadata": {},
   "source": [
    "# Datasets"
   ]
  },
  {
   "cell_type": "code",
   "execution_count": 3,
   "metadata": {
    "scrolled": true
   },
   "outputs": [
    {
     "data": {
      "text/html": [
       "<table class=\"data-frame\"><thead><tr><th></th><th>1</th><th>2</th><th>3</th><th>4</th><th>5</th><th>6</th><th>7</th><th>8</th><th>9</th><th>10</th><th>11</th></tr><tr><th></th><th>Float64</th><th>Float64</th><th>Int64</th><th>Int64</th><th>Int64</th><th>Int64</th><th>Int64</th><th>Float64</th><th>Int64</th><th>Int64</th><th>Int64</th></tr></thead><tbody><p>1,055 rows × 42 columns (omitted printing of 31 columns)</p><tr><th>1</th><td>3.919</td><td>2.6909</td><td>0</td><td>0</td><td>0</td><td>0</td><td>0</td><td>31.4</td><td>2</td><td>0</td><td>0</td></tr><tr><th>2</th><td>4.17</td><td>2.1144</td><td>0</td><td>0</td><td>0</td><td>0</td><td>0</td><td>30.8</td><td>1</td><td>1</td><td>0</td></tr><tr><th>3</th><td>3.932</td><td>3.2512</td><td>0</td><td>0</td><td>0</td><td>0</td><td>0</td><td>26.7</td><td>2</td><td>4</td><td>0</td></tr><tr><th>4</th><td>3.0</td><td>2.7098</td><td>0</td><td>0</td><td>0</td><td>0</td><td>0</td><td>20.0</td><td>0</td><td>2</td><td>0</td></tr><tr><th>5</th><td>4.236</td><td>3.3944</td><td>0</td><td>0</td><td>0</td><td>0</td><td>0</td><td>29.4</td><td>2</td><td>4</td><td>0</td></tr><tr><th>6</th><td>4.236</td><td>3.4286</td><td>0</td><td>0</td><td>0</td><td>0</td><td>0</td><td>28.6</td><td>2</td><td>4</td><td>0</td></tr><tr><th>7</th><td>5.0</td><td>5.0476</td><td>1</td><td>0</td><td>0</td><td>0</td><td>0</td><td>11.1</td><td>0</td><td>3</td><td>0</td></tr><tr><th>8</th><td>4.525</td><td>3.8301</td><td>0</td><td>0</td><td>0</td><td>0</td><td>0</td><td>31.6</td><td>3</td><td>2</td><td>0</td></tr><tr><th>9</th><td>4.596</td><td>3.0777</td><td>0</td><td>0</td><td>0</td><td>0</td><td>2</td><td>44.4</td><td>2</td><td>0</td><td>0</td></tr><tr><th>10</th><td>5.04</td><td>3.6112</td><td>0</td><td>0</td><td>1</td><td>0</td><td>2</td><td>41.2</td><td>0</td><td>4</td><td>3</td></tr><tr><th>11</th><td>4.91</td><td>2.7414</td><td>0</td><td>0</td><td>0</td><td>0</td><td>2</td><td>52.9</td><td>0</td><td>2</td><td>0</td></tr><tr><th>12</th><td>3.618</td><td>2.1906</td><td>0</td><td>0</td><td>0</td><td>0</td><td>0</td><td>29.4</td><td>2</td><td>0</td><td>0</td></tr><tr><th>13</th><td>4.214</td><td>2.6272</td><td>0</td><td>0</td><td>0</td><td>0</td><td>0</td><td>30.0</td><td>3</td><td>0</td><td>0</td></tr><tr><th>14</th><td>3.732</td><td>2.3391</td><td>0</td><td>0</td><td>0</td><td>0</td><td>0</td><td>30.0</td><td>2</td><td>0</td><td>0</td></tr><tr><th>15</th><td>3.879</td><td>2.5951</td><td>0</td><td>0</td><td>0</td><td>0</td><td>0</td><td>31.0</td><td>2</td><td>0</td><td>0</td></tr><tr><th>16</th><td>3.942</td><td>2.7719</td><td>1</td><td>0</td><td>0</td><td>0</td><td>0</td><td>31.6</td><td>2</td><td>0</td><td>0</td></tr><tr><th>17</th><td>3.966</td><td>2.852</td><td>1</td><td>0</td><td>0</td><td>0</td><td>0</td><td>32.0</td><td>2</td><td>0</td><td>0</td></tr><tr><th>18</th><td>3.732</td><td>2.3761</td><td>0</td><td>0</td><td>1</td><td>0</td><td>0</td><td>26.3</td><td>2</td><td>0</td><td>1</td></tr><tr><th>19</th><td>4.0</td><td>2.6264</td><td>0</td><td>0</td><td>0</td><td>0</td><td>0</td><td>23.1</td><td>0</td><td>0</td><td>0</td></tr><tr><th>20</th><td>2.0</td><td>1.1521</td><td>0</td><td>0</td><td>0</td><td>0</td><td>0</td><td>16.7</td><td>1</td><td>1</td><td>0</td></tr><tr><th>21</th><td>3.732</td><td>2.4062</td><td>0</td><td>0</td><td>0</td><td>0</td><td>0</td><td>27.8</td><td>2</td><td>1</td><td>0</td></tr><tr><th>22</th><td>4.0</td><td>2.3699</td><td>0</td><td>0</td><td>0</td><td>0</td><td>0</td><td>30.0</td><td>1</td><td>1</td><td>0</td></tr><tr><th>23</th><td>3.414</td><td>2.2525</td><td>0</td><td>0</td><td>0</td><td>0</td><td>0</td><td>20.0</td><td>2</td><td>2</td><td>0</td></tr><tr><th>24</th><td>4.17</td><td>2.8042</td><td>0</td><td>0</td><td>0</td><td>0</td><td>0</td><td>23.1</td><td>2</td><td>2</td><td>0</td></tr><tr><th>25</th><td>4.303</td><td>2.9558</td><td>0</td><td>0</td><td>0</td><td>0</td><td>0</td><td>25.0</td><td>2</td><td>2</td><td>0</td></tr><tr><th>26</th><td>3.414</td><td>2.6294</td><td>0</td><td>0</td><td>0</td><td>0</td><td>0</td><td>37.5</td><td>1</td><td>1</td><td>0</td></tr><tr><th>27</th><td>4.214</td><td>3.0057</td><td>0</td><td>0</td><td>0</td><td>0</td><td>0</td><td>25.0</td><td>1</td><td>2</td><td>0</td></tr><tr><th>28</th><td>3.848</td><td>2.8521</td><td>0</td><td>0</td><td>0</td><td>0</td><td>0</td><td>27.3</td><td>2</td><td>2</td><td>0</td></tr><tr><th>29</th><td>3.414</td><td>2.3729</td><td>0</td><td>0</td><td>0</td><td>0</td><td>0</td><td>30.0</td><td>1</td><td>1</td><td>0</td></tr><tr><th>30</th><td>4.393</td><td>3.6458</td><td>0</td><td>0</td><td>0</td><td>0</td><td>0</td><td>37.0</td><td>3</td><td>1</td><td>0</td></tr><tr><th>&vellip;</th><td>&vellip;</td><td>&vellip;</td><td>&vellip;</td><td>&vellip;</td><td>&vellip;</td><td>&vellip;</td><td>&vellip;</td><td>&vellip;</td><td>&vellip;</td><td>&vellip;</td><td>&vellip;</td></tr></tbody></table>"
      ],
      "text/latex": [
       "\\begin{tabular}{r|cccccccccccc}\n",
       "\t& 1 & 2 & 3 & 4 & 5 & 6 & 7 & 8 & 9 & 10 & 11 & \\\\\n",
       "\t\\hline\n",
       "\t& Float64 & Float64 & Int64 & Int64 & Int64 & Int64 & Int64 & Float64 & Int64 & Int64 & Int64 & \\\\\n",
       "\t\\hline\n",
       "\t1 & 3.919 & 2.6909 & 0 & 0 & 0 & 0 & 0 & 31.4 & 2 & 0 & 0 & $\\dots$ \\\\\n",
       "\t2 & 4.17 & 2.1144 & 0 & 0 & 0 & 0 & 0 & 30.8 & 1 & 1 & 0 & $\\dots$ \\\\\n",
       "\t3 & 3.932 & 3.2512 & 0 & 0 & 0 & 0 & 0 & 26.7 & 2 & 4 & 0 & $\\dots$ \\\\\n",
       "\t4 & 3.0 & 2.7098 & 0 & 0 & 0 & 0 & 0 & 20.0 & 0 & 2 & 0 & $\\dots$ \\\\\n",
       "\t5 & 4.236 & 3.3944 & 0 & 0 & 0 & 0 & 0 & 29.4 & 2 & 4 & 0 & $\\dots$ \\\\\n",
       "\t6 & 4.236 & 3.4286 & 0 & 0 & 0 & 0 & 0 & 28.6 & 2 & 4 & 0 & $\\dots$ \\\\\n",
       "\t7 & 5.0 & 5.0476 & 1 & 0 & 0 & 0 & 0 & 11.1 & 0 & 3 & 0 & $\\dots$ \\\\\n",
       "\t8 & 4.525 & 3.8301 & 0 & 0 & 0 & 0 & 0 & 31.6 & 3 & 2 & 0 & $\\dots$ \\\\\n",
       "\t9 & 4.596 & 3.0777 & 0 & 0 & 0 & 0 & 2 & 44.4 & 2 & 0 & 0 & $\\dots$ \\\\\n",
       "\t10 & 5.04 & 3.6112 & 0 & 0 & 1 & 0 & 2 & 41.2 & 0 & 4 & 3 & $\\dots$ \\\\\n",
       "\t11 & 4.91 & 2.7414 & 0 & 0 & 0 & 0 & 2 & 52.9 & 0 & 2 & 0 & $\\dots$ \\\\\n",
       "\t12 & 3.618 & 2.1906 & 0 & 0 & 0 & 0 & 0 & 29.4 & 2 & 0 & 0 & $\\dots$ \\\\\n",
       "\t13 & 4.214 & 2.6272 & 0 & 0 & 0 & 0 & 0 & 30.0 & 3 & 0 & 0 & $\\dots$ \\\\\n",
       "\t14 & 3.732 & 2.3391 & 0 & 0 & 0 & 0 & 0 & 30.0 & 2 & 0 & 0 & $\\dots$ \\\\\n",
       "\t15 & 3.879 & 2.5951 & 0 & 0 & 0 & 0 & 0 & 31.0 & 2 & 0 & 0 & $\\dots$ \\\\\n",
       "\t16 & 3.942 & 2.7719 & 1 & 0 & 0 & 0 & 0 & 31.6 & 2 & 0 & 0 & $\\dots$ \\\\\n",
       "\t17 & 3.966 & 2.852 & 1 & 0 & 0 & 0 & 0 & 32.0 & 2 & 0 & 0 & $\\dots$ \\\\\n",
       "\t18 & 3.732 & 2.3761 & 0 & 0 & 1 & 0 & 0 & 26.3 & 2 & 0 & 1 & $\\dots$ \\\\\n",
       "\t19 & 4.0 & 2.6264 & 0 & 0 & 0 & 0 & 0 & 23.1 & 0 & 0 & 0 & $\\dots$ \\\\\n",
       "\t20 & 2.0 & 1.1521 & 0 & 0 & 0 & 0 & 0 & 16.7 & 1 & 1 & 0 & $\\dots$ \\\\\n",
       "\t21 & 3.732 & 2.4062 & 0 & 0 & 0 & 0 & 0 & 27.8 & 2 & 1 & 0 & $\\dots$ \\\\\n",
       "\t22 & 4.0 & 2.3699 & 0 & 0 & 0 & 0 & 0 & 30.0 & 1 & 1 & 0 & $\\dots$ \\\\\n",
       "\t23 & 3.414 & 2.2525 & 0 & 0 & 0 & 0 & 0 & 20.0 & 2 & 2 & 0 & $\\dots$ \\\\\n",
       "\t24 & 4.17 & 2.8042 & 0 & 0 & 0 & 0 & 0 & 23.1 & 2 & 2 & 0 & $\\dots$ \\\\\n",
       "\t25 & 4.303 & 2.9558 & 0 & 0 & 0 & 0 & 0 & 25.0 & 2 & 2 & 0 & $\\dots$ \\\\\n",
       "\t26 & 3.414 & 2.6294 & 0 & 0 & 0 & 0 & 0 & 37.5 & 1 & 1 & 0 & $\\dots$ \\\\\n",
       "\t27 & 4.214 & 3.0057 & 0 & 0 & 0 & 0 & 0 & 25.0 & 1 & 2 & 0 & $\\dots$ \\\\\n",
       "\t28 & 3.848 & 2.8521 & 0 & 0 & 0 & 0 & 0 & 27.3 & 2 & 2 & 0 & $\\dots$ \\\\\n",
       "\t29 & 3.414 & 2.3729 & 0 & 0 & 0 & 0 & 0 & 30.0 & 1 & 1 & 0 & $\\dots$ \\\\\n",
       "\t30 & 4.393 & 3.6458 & 0 & 0 & 0 & 0 & 0 & 37.0 & 3 & 1 & 0 & $\\dots$ \\\\\n",
       "\t$\\dots$ & $\\dots$ & $\\dots$ & $\\dots$ & $\\dots$ & $\\dots$ & $\\dots$ & $\\dots$ & $\\dots$ & $\\dots$ & $\\dots$ & $\\dots$ &  \\\\\n",
       "\\end{tabular}\n"
      ],
      "text/plain": [
       "1055×42 DataFrame. Omitted printing of 34 columns\n",
       "│ Row  │ 1       │ 2       │ 3     │ 4     │ 5     │ 6     │ 7     │ 8       │\n",
       "│      │ \u001b[90mFloat64\u001b[39m │ \u001b[90mFloat64\u001b[39m │ \u001b[90mInt64\u001b[39m │ \u001b[90mInt64\u001b[39m │ \u001b[90mInt64\u001b[39m │ \u001b[90mInt64\u001b[39m │ \u001b[90mInt64\u001b[39m │ \u001b[90mFloat64\u001b[39m │\n",
       "├──────┼─────────┼─────────┼───────┼───────┼───────┼───────┼───────┼─────────┤\n",
       "│ 1    │ 3.919   │ 2.6909  │ 0     │ 0     │ 0     │ 0     │ 0     │ 31.4    │\n",
       "│ 2    │ 4.17    │ 2.1144  │ 0     │ 0     │ 0     │ 0     │ 0     │ 30.8    │\n",
       "│ 3    │ 3.932   │ 3.2512  │ 0     │ 0     │ 0     │ 0     │ 0     │ 26.7    │\n",
       "│ 4    │ 3.0     │ 2.7098  │ 0     │ 0     │ 0     │ 0     │ 0     │ 20.0    │\n",
       "│ 5    │ 4.236   │ 3.3944  │ 0     │ 0     │ 0     │ 0     │ 0     │ 29.4    │\n",
       "│ 6    │ 4.236   │ 3.4286  │ 0     │ 0     │ 0     │ 0     │ 0     │ 28.6    │\n",
       "│ 7    │ 5.0     │ 5.0476  │ 1     │ 0     │ 0     │ 0     │ 0     │ 11.1    │\n",
       "│ 8    │ 4.525   │ 3.8301  │ 0     │ 0     │ 0     │ 0     │ 0     │ 31.6    │\n",
       "│ 9    │ 4.596   │ 3.0777  │ 0     │ 0     │ 0     │ 0     │ 2     │ 44.4    │\n",
       "│ 10   │ 5.04    │ 3.6112  │ 0     │ 0     │ 1     │ 0     │ 2     │ 41.2    │\n",
       "⋮\n",
       "│ 1045 │ 4.807   │ 3.3179  │ 1     │ 0     │ 0     │ 0     │ 3     │ 43.8    │\n",
       "│ 1046 │ 4.607   │ 3.0008  │ 1     │ 0     │ 0     │ 0     │ 2     │ 41.2    │\n",
       "│ 1047 │ 5.313   │ 2.7782  │ 0     │ 0     │ 0     │ 1     │ 2     │ 40.0    │\n",
       "│ 1048 │ 5.103   │ 3.9184  │ 0     │ 0     │ 4     │ 0     │ 4     │ 35.0    │\n",
       "│ 1049 │ 5.265   │ 3.3444  │ 2     │ 0     │ 6     │ 0     │ 1     │ 35.3    │\n",
       "│ 1050 │ 5.029   │ 2.5966  │ 0     │ 0     │ 0     │ 0     │ 4     │ 46.7    │\n",
       "│ 1051 │ 5.431   │ 2.8955  │ 0     │ 0     │ 0     │ 2     │ 0     │ 32.1    │\n",
       "│ 1052 │ 5.287   │ 3.3732  │ 0     │ 0     │ 9     │ 0     │ 0     │ 35.3    │\n",
       "│ 1053 │ 4.869   │ 1.767   │ 0     │ 1     │ 9     │ 0     │ 5     │ 44.4    │\n",
       "│ 1054 │ 5.158   │ 1.6914  │ 2     │ 0     │ 36    │ 0     │ 9     │ 56.1    │\n",
       "│ 1055 │ 5.076   │ 2.6588  │ 2     │ 0     │ 0     │ 0     │ 4     │ 54.5    │"
      ]
     },
     "execution_count": 3,
     "metadata": {},
     "output_type": "execute_result"
    }
   ],
   "source": [
    "data = CSV.read(\"data.csv\")"
   ]
  },
  {
   "cell_type": "code",
   "execution_count": 4,
   "metadata": {
    "scrolled": true
   },
   "outputs": [
    {
     "data": {
      "text/html": [
       "<table class=\"data-frame\"><thead><tr><th></th><th>variable</th><th>mean</th><th>min</th><th>median</th><th>max</th><th>nunique</th><th>nmissing</th><th>eltype</th></tr><tr><th></th><th>Symbol</th><th>Union…</th><th>Any</th><th>Union…</th><th>Any</th><th>Union…</th><th>Nothing</th><th>DataType</th></tr></thead><tbody><p>42 rows × 8 columns</p><tr><th>1</th><td>1</td><td>4.78264</td><td>2.0</td><td>4.828</td><td>6.496</td><td></td><td></td><td>Float64</td></tr><tr><th>2</th><td>2</td><td>3.06951</td><td>0.8039</td><td>3.0463</td><td>9.1775</td><td></td><td></td><td>Float64</td></tr><tr><th>3</th><td>3</td><td>0.716588</td><td>0</td><td>0.0</td><td>12</td><td></td><td></td><td>Int64</td></tr><tr><th>4</th><td>4</td><td>0.042654</td><td>0</td><td>0.0</td><td>3</td><td></td><td></td><td>Int64</td></tr><tr><th>5</th><td>5</td><td>0.980095</td><td>0</td><td>0.0</td><td>36</td><td></td><td></td><td>Int64</td></tr><tr><th>6</th><td>6</td><td>0.290047</td><td>0</td><td>0.0</td><td>13</td><td></td><td></td><td>Int64</td></tr><tr><th>7</th><td>7</td><td>1.64645</td><td>0</td><td>1.0</td><td>18</td><td></td><td></td><td>Int64</td></tr><tr><th>8</th><td>8</td><td>37.0556</td><td>0.0</td><td>37.5</td><td>60.7</td><td></td><td></td><td>Float64</td></tr><tr><th>9</th><td>9</td><td>1.3763</td><td>0</td><td>1.0</td><td>24</td><td></td><td></td><td>Int64</td></tr><tr><th>10</th><td>10</td><td>1.80379</td><td>0</td><td>2.0</td><td>12</td><td></td><td></td><td>Int64</td></tr><tr><th>11</th><td>11</td><td>1.43697</td><td>0</td><td>0.0</td><td>44</td><td></td><td></td><td>Int64</td></tr><tr><th>12</th><td>12</td><td>-0.197129</td><td>-5.256</td><td>0.0</td><td>4.722</td><td></td><td></td><td>Float64</td></tr><tr><th>13</th><td>13</td><td>3.47684</td><td>1.544</td><td>3.442</td><td>5.701</td><td></td><td></td><td>Float64</td></tr><tr><th>14</th><td>14</td><td>1.35072</td><td>0.0</td><td>1.187</td><td>4.491</td><td></td><td></td><td>Float64</td></tr><tr><th>15</th><td>15</td><td>9.93738</td><td>4.174</td><td>10.039</td><td>12.609</td><td></td><td></td><td>Float64</td></tr><tr><th>16</th><td>16</td><td>3.63033</td><td>0</td><td>2.0</td><td>40</td><td></td><td></td><td>Int64</td></tr><tr><th>17</th><td>17</td><td>1.0133</td><td>0.957</td><td>1.003</td><td>1.311</td><td></td><td></td><td>Float64</td></tr><tr><th>18</th><td>18</td><td>1.13111</td><td>1.022</td><td>1.13</td><td>1.377</td><td></td><td></td><td>Float64</td></tr><tr><th>19</th><td>19</td><td>0.00853081</td><td>0</td><td>0.0</td><td>2</td><td></td><td></td><td>Int64</td></tr><tr><th>20</th><td>20</td><td>0.0739336</td><td>0</td><td>0.0</td><td>3</td><td></td><td></td><td>Int64</td></tr><tr><th>21</th><td>21</td><td>0.0293839</td><td>0</td><td>0.0</td><td>3</td><td></td><td></td><td>Int64</td></tr><tr><th>22</th><td>22</td><td>1.23873</td><td>0.863</td><td>1.243</td><td>1.641</td><td></td><td></td><td>Float64</td></tr><tr><th>23</th><td>23</td><td>1.40569</td><td>0</td><td>1.0</td><td>147</td><td></td><td></td><td>Int64</td></tr><tr><th>24</th><td>24</td><td>0.0398104</td><td>0</td><td>0.0</td><td>1</td><td></td><td></td><td>Int64</td></tr><tr><th>25</th><td>25</td><td>0.147867</td><td>0</td><td>0.0</td><td>1</td><td></td><td></td><td>Int64</td></tr><tr><th>26</th><td>26</td><td>0.0312796</td><td>0</td><td>0.0</td><td>3</td><td></td><td></td><td>Int64</td></tr><tr><th>27</th><td>27</td><td>2.21564</td><td>1.0</td><td>2.247</td><td>2.859</td><td></td><td></td><td>Float64</td></tr><tr><th>28</th><td>28</td><td>-0.00120569</td><td>-1.099</td><td>0.0</td><td>1.073</td><td></td><td></td><td>Float64</td></tr><tr><th>29</th><td>29</td><td>0.0265403</td><td>0</td><td>0.0</td><td>1</td><td></td><td></td><td>Int64</td></tr><tr><th>30</th><td>30</td><td>8.78051</td><td>0.0</td><td>0.0</td><td>71.167</td><td></td><td></td><td>Float64</td></tr><tr><th>&vellip;</th><td>&vellip;</td><td>&vellip;</td><td>&vellip;</td><td>&vellip;</td><td>&vellip;</td><td>&vellip;</td><td>&vellip;</td><td>&vellip;</td></tr></tbody></table>"
      ],
      "text/latex": [
       "\\begin{tabular}{r|cccccccc}\n",
       "\t& variable & mean & min & median & max & nunique & nmissing & eltype\\\\\n",
       "\t\\hline\n",
       "\t& Symbol & Union… & Any & Union… & Any & Union… & Nothing & DataType\\\\\n",
       "\t\\hline\n",
       "\t1 & 1 & 4.78264 & 2.0 & 4.828 & 6.496 &  &  & Float64 \\\\\n",
       "\t2 & 2 & 3.06951 & 0.8039 & 3.0463 & 9.1775 &  &  & Float64 \\\\\n",
       "\t3 & 3 & 0.716588 & 0 & 0.0 & 12 &  &  & Int64 \\\\\n",
       "\t4 & 4 & 0.042654 & 0 & 0.0 & 3 &  &  & Int64 \\\\\n",
       "\t5 & 5 & 0.980095 & 0 & 0.0 & 36 &  &  & Int64 \\\\\n",
       "\t6 & 6 & 0.290047 & 0 & 0.0 & 13 &  &  & Int64 \\\\\n",
       "\t7 & 7 & 1.64645 & 0 & 1.0 & 18 &  &  & Int64 \\\\\n",
       "\t8 & 8 & 37.0556 & 0.0 & 37.5 & 60.7 &  &  & Float64 \\\\\n",
       "\t9 & 9 & 1.3763 & 0 & 1.0 & 24 &  &  & Int64 \\\\\n",
       "\t10 & 10 & 1.80379 & 0 & 2.0 & 12 &  &  & Int64 \\\\\n",
       "\t11 & 11 & 1.43697 & 0 & 0.0 & 44 &  &  & Int64 \\\\\n",
       "\t12 & 12 & -0.197129 & -5.256 & 0.0 & 4.722 &  &  & Float64 \\\\\n",
       "\t13 & 13 & 3.47684 & 1.544 & 3.442 & 5.701 &  &  & Float64 \\\\\n",
       "\t14 & 14 & 1.35072 & 0.0 & 1.187 & 4.491 &  &  & Float64 \\\\\n",
       "\t15 & 15 & 9.93738 & 4.174 & 10.039 & 12.609 &  &  & Float64 \\\\\n",
       "\t16 & 16 & 3.63033 & 0 & 2.0 & 40 &  &  & Int64 \\\\\n",
       "\t17 & 17 & 1.0133 & 0.957 & 1.003 & 1.311 &  &  & Float64 \\\\\n",
       "\t18 & 18 & 1.13111 & 1.022 & 1.13 & 1.377 &  &  & Float64 \\\\\n",
       "\t19 & 19 & 0.00853081 & 0 & 0.0 & 2 &  &  & Int64 \\\\\n",
       "\t20 & 20 & 0.0739336 & 0 & 0.0 & 3 &  &  & Int64 \\\\\n",
       "\t21 & 21 & 0.0293839 & 0 & 0.0 & 3 &  &  & Int64 \\\\\n",
       "\t22 & 22 & 1.23873 & 0.863 & 1.243 & 1.641 &  &  & Float64 \\\\\n",
       "\t23 & 23 & 1.40569 & 0 & 1.0 & 147 &  &  & Int64 \\\\\n",
       "\t24 & 24 & 0.0398104 & 0 & 0.0 & 1 &  &  & Int64 \\\\\n",
       "\t25 & 25 & 0.147867 & 0 & 0.0 & 1 &  &  & Int64 \\\\\n",
       "\t26 & 26 & 0.0312796 & 0 & 0.0 & 3 &  &  & Int64 \\\\\n",
       "\t27 & 27 & 2.21564 & 1.0 & 2.247 & 2.859 &  &  & Float64 \\\\\n",
       "\t28 & 28 & -0.00120569 & -1.099 & 0.0 & 1.073 &  &  & Float64 \\\\\n",
       "\t29 & 29 & 0.0265403 & 0 & 0.0 & 1 &  &  & Int64 \\\\\n",
       "\t30 & 30 & 8.78051 & 0.0 & 0.0 & 71.167 &  &  & Float64 \\\\\n",
       "\t$\\dots$ & $\\dots$ & $\\dots$ & $\\dots$ & $\\dots$ & $\\dots$ & $\\dots$ & $\\dots$ & $\\dots$ \\\\\n",
       "\\end{tabular}\n"
      ],
      "text/plain": [
       "42×8 DataFrame. Omitted printing of 1 columns\n",
       "│ Row │ variable │ mean      │ min    │ median │ max    │ nunique │ nmissing │\n",
       "│     │ \u001b[90mSymbol\u001b[39m   │ \u001b[90mUnion…\u001b[39m    │ \u001b[90mAny\u001b[39m    │ \u001b[90mUnion…\u001b[39m │ \u001b[90mAny\u001b[39m    │ \u001b[90mUnion…\u001b[39m  │ \u001b[90mNothing\u001b[39m  │\n",
       "├─────┼──────────┼───────────┼────────┼────────┼────────┼─────────┼──────────┤\n",
       "│ 1   │ 1        │ 4.78264   │ 2.0    │ 4.828  │ 6.496  │         │          │\n",
       "│ 2   │ 2        │ 3.06951   │ 0.8039 │ 3.0463 │ 9.1775 │         │          │\n",
       "│ 3   │ 3        │ 0.716588  │ 0      │ 0.0    │ 12     │         │          │\n",
       "│ 4   │ 4        │ 0.042654  │ 0      │ 0.0    │ 3      │         │          │\n",
       "│ 5   │ 5        │ 0.980095  │ 0      │ 0.0    │ 36     │         │          │\n",
       "│ 6   │ 6        │ 0.290047  │ 0      │ 0.0    │ 13     │         │          │\n",
       "│ 7   │ 7        │ 1.64645   │ 0      │ 1.0    │ 18     │         │          │\n",
       "│ 8   │ 8        │ 37.0556   │ 0.0    │ 37.5   │ 60.7   │         │          │\n",
       "│ 9   │ 9        │ 1.3763    │ 0      │ 1.0    │ 24     │         │          │\n",
       "│ 10  │ 10       │ 1.80379   │ 0      │ 2.0    │ 12     │         │          │\n",
       "⋮\n",
       "│ 32  │ 32       │ 0.129858  │ 0      │ 0.0    │ 8      │         │          │\n",
       "│ 33  │ 33       │ 0.883412  │ 0      │ 0.0    │ 12     │         │          │\n",
       "│ 34  │ 34       │ 1.27488   │ 0      │ 0.0    │ 18     │         │          │\n",
       "│ 35  │ 35       │ 0.961137  │ 0      │ 1.0    │ 7      │         │          │\n",
       "│ 36  │ 36       │ 3.91824   │ 2.267  │ 3.726  │ 10.695 │         │          │\n",
       "│ 37  │ 37       │ 2.55842   │ 1.467  │ 2.458  │ 5.825  │         │          │\n",
       "│ 38  │ 38       │ 0.686256  │ 0      │ 0.0    │ 8      │         │          │\n",
       "│ 39  │ 39       │ 8.62949   │ 4.917  │ 8.499  │ 14.7   │         │          │\n",
       "│ 40  │ 40       │ 0.0511848 │ 0      │ 0.0    │ 4      │         │          │\n",
       "│ 41  │ 41       │ 0.723223  │ 0      │ 0.0    │ 27     │         │          │\n",
       "│ 42  │ Class    │           │ NRB    │        │ RB     │ 2       │          │"
      ]
     },
     "execution_count": 4,
     "metadata": {},
     "output_type": "execute_result"
    }
   ],
   "source": [
    "describe(data)"
   ]
  },
  {
   "cell_type": "markdown",
   "metadata": {},
   "source": [
    "Look at class labels to see if dataset is imbalanced"
   ]
  },
  {
   "cell_type": "code",
   "execution_count": 5,
   "metadata": {},
   "outputs": [
    {
     "data": {
      "text/plain": [
       "Dict{String,Int64} with 2 entries:\n",
       "  \"RB\"  => 356\n",
       "  \"NRB\" => 699"
      ]
     },
     "execution_count": 5,
     "metadata": {},
     "output_type": "execute_result"
    }
   ],
   "source": [
    "label_counts = countmap(data[:Class])"
   ]
  },
  {
   "cell_type": "code",
   "execution_count": 6,
   "metadata": {},
   "outputs": [
    {
     "data": {
      "text/plain": [
       "2-element Array{Float64,1}:\n",
       " 0.33744075829383885\n",
       " 0.6625592417061611"
      ]
     },
     "execution_count": 6,
     "metadata": {},
     "output_type": "execute_result"
    }
   ],
   "source": [
    "collect(label_counts[i] / size(data)[1] for i in keys(label_counts))"
   ]
  },
  {
   "cell_type": "markdown",
   "metadata": {},
   "source": [
    "Get data ready for training"
   ]
  },
  {
   "cell_type": "code",
   "execution_count": 7,
   "metadata": {
    "scrolled": true
   },
   "outputs": [
    {
     "data": {
      "text/plain": [
       "┌\u001b[0m─────────\u001b[0m┬\u001b[0m─────────────────────────────────\u001b[0m┬\u001b[0m───────────────\u001b[0m┐\u001b[0m\n",
       "│\u001b[0m\u001b[22m _.names \u001b[0m│\u001b[0m\u001b[22m _.types                         \u001b[0m│\u001b[0m\u001b[22m _.scitypes    \u001b[0m│\u001b[0m\n",
       "├\u001b[0m─────────\u001b[0m┼\u001b[0m─────────────────────────────────\u001b[0m┼\u001b[0m───────────────\u001b[0m┤\u001b[0m\n",
       "│\u001b[0m 1       \u001b[0m│\u001b[0m Float64                         \u001b[0m│\u001b[0m Continuous    \u001b[0m│\u001b[0m\n",
       "│\u001b[0m 2       \u001b[0m│\u001b[0m Float64                         \u001b[0m│\u001b[0m Continuous    \u001b[0m│\u001b[0m\n",
       "│\u001b[0m 3       \u001b[0m│\u001b[0m Int64                           \u001b[0m│\u001b[0m Count         \u001b[0m│\u001b[0m\n",
       "│\u001b[0m 4       \u001b[0m│\u001b[0m Int64                           \u001b[0m│\u001b[0m Count         \u001b[0m│\u001b[0m\n",
       "│\u001b[0m 5       \u001b[0m│\u001b[0m Int64                           \u001b[0m│\u001b[0m Count         \u001b[0m│\u001b[0m\n",
       "│\u001b[0m 6       \u001b[0m│\u001b[0m Int64                           \u001b[0m│\u001b[0m Count         \u001b[0m│\u001b[0m\n",
       "│\u001b[0m 7       \u001b[0m│\u001b[0m Int64                           \u001b[0m│\u001b[0m Count         \u001b[0m│\u001b[0m\n",
       "│\u001b[0m 8       \u001b[0m│\u001b[0m Float64                         \u001b[0m│\u001b[0m Continuous    \u001b[0m│\u001b[0m\n",
       "│\u001b[0m 9       \u001b[0m│\u001b[0m Int64                           \u001b[0m│\u001b[0m Count         \u001b[0m│\u001b[0m\n",
       "│\u001b[0m 10      \u001b[0m│\u001b[0m Int64                           \u001b[0m│\u001b[0m Count         \u001b[0m│\u001b[0m\n",
       "│\u001b[0m 11      \u001b[0m│\u001b[0m Int64                           \u001b[0m│\u001b[0m Count         \u001b[0m│\u001b[0m\n",
       "│\u001b[0m 12      \u001b[0m│\u001b[0m Float64                         \u001b[0m│\u001b[0m Continuous    \u001b[0m│\u001b[0m\n",
       "│\u001b[0m 13      \u001b[0m│\u001b[0m Float64                         \u001b[0m│\u001b[0m Continuous    \u001b[0m│\u001b[0m\n",
       "│\u001b[0m 14      \u001b[0m│\u001b[0m Float64                         \u001b[0m│\u001b[0m Continuous    \u001b[0m│\u001b[0m\n",
       "│\u001b[0m 15      \u001b[0m│\u001b[0m Float64                         \u001b[0m│\u001b[0m Continuous    \u001b[0m│\u001b[0m\n",
       "│\u001b[0m 16      \u001b[0m│\u001b[0m Int64                           \u001b[0m│\u001b[0m Count         \u001b[0m│\u001b[0m\n",
       "│\u001b[0m 17      \u001b[0m│\u001b[0m Float64                         \u001b[0m│\u001b[0m Continuous    \u001b[0m│\u001b[0m\n",
       "│\u001b[0m 18      \u001b[0m│\u001b[0m Float64                         \u001b[0m│\u001b[0m Continuous    \u001b[0m│\u001b[0m\n",
       "│\u001b[0m 19      \u001b[0m│\u001b[0m Int64                           \u001b[0m│\u001b[0m Count         \u001b[0m│\u001b[0m\n",
       "│\u001b[0m 20      \u001b[0m│\u001b[0m Int64                           \u001b[0m│\u001b[0m Count         \u001b[0m│\u001b[0m\n",
       "│\u001b[0m 21      \u001b[0m│\u001b[0m Int64                           \u001b[0m│\u001b[0m Count         \u001b[0m│\u001b[0m\n",
       "│\u001b[0m 22      \u001b[0m│\u001b[0m Float64                         \u001b[0m│\u001b[0m Continuous    \u001b[0m│\u001b[0m\n",
       "│\u001b[0m 23      \u001b[0m│\u001b[0m Int64                           \u001b[0m│\u001b[0m Count         \u001b[0m│\u001b[0m\n",
       "│\u001b[0m 24      \u001b[0m│\u001b[0m Int64                           \u001b[0m│\u001b[0m Count         \u001b[0m│\u001b[0m\n",
       "│\u001b[0m 25      \u001b[0m│\u001b[0m Int64                           \u001b[0m│\u001b[0m Count         \u001b[0m│\u001b[0m\n",
       "│\u001b[0m 26      \u001b[0m│\u001b[0m Int64                           \u001b[0m│\u001b[0m Count         \u001b[0m│\u001b[0m\n",
       "│\u001b[0m 27      \u001b[0m│\u001b[0m Float64                         \u001b[0m│\u001b[0m Continuous    \u001b[0m│\u001b[0m\n",
       "│\u001b[0m 28      \u001b[0m│\u001b[0m Float64                         \u001b[0m│\u001b[0m Continuous    \u001b[0m│\u001b[0m\n",
       "│\u001b[0m 29      \u001b[0m│\u001b[0m Int64                           \u001b[0m│\u001b[0m Count         \u001b[0m│\u001b[0m\n",
       "│\u001b[0m 30      \u001b[0m│\u001b[0m Float64                         \u001b[0m│\u001b[0m Continuous    \u001b[0m│\u001b[0m\n",
       "│\u001b[0m 31      \u001b[0m│\u001b[0m Float64                         \u001b[0m│\u001b[0m Continuous    \u001b[0m│\u001b[0m\n",
       "│\u001b[0m 32      \u001b[0m│\u001b[0m Int64                           \u001b[0m│\u001b[0m Count         \u001b[0m│\u001b[0m\n",
       "│\u001b[0m 33      \u001b[0m│\u001b[0m Int64                           \u001b[0m│\u001b[0m Count         \u001b[0m│\u001b[0m\n",
       "│\u001b[0m 34      \u001b[0m│\u001b[0m Int64                           \u001b[0m│\u001b[0m Count         \u001b[0m│\u001b[0m\n",
       "│\u001b[0m 35      \u001b[0m│\u001b[0m Int64                           \u001b[0m│\u001b[0m Count         \u001b[0m│\u001b[0m\n",
       "│\u001b[0m 36      \u001b[0m│\u001b[0m Float64                         \u001b[0m│\u001b[0m Continuous    \u001b[0m│\u001b[0m\n",
       "│\u001b[0m 37      \u001b[0m│\u001b[0m Float64                         \u001b[0m│\u001b[0m Continuous    \u001b[0m│\u001b[0m\n",
       "│\u001b[0m 38      \u001b[0m│\u001b[0m Int64                           \u001b[0m│\u001b[0m Count         \u001b[0m│\u001b[0m\n",
       "│\u001b[0m 39      \u001b[0m│\u001b[0m Float64                         \u001b[0m│\u001b[0m Continuous    \u001b[0m│\u001b[0m\n",
       "│\u001b[0m 40      \u001b[0m│\u001b[0m Int64                           \u001b[0m│\u001b[0m Count         \u001b[0m│\u001b[0m\n",
       "│\u001b[0m 41      \u001b[0m│\u001b[0m Int64                           \u001b[0m│\u001b[0m Count         \u001b[0m│\u001b[0m\n",
       "│\u001b[0m Class   \u001b[0m│\u001b[0m CategoricalValue{String,UInt32} \u001b[0m│\u001b[0m Multiclass{2} \u001b[0m│\u001b[0m\n",
       "└\u001b[0m─────────\u001b[0m┴\u001b[0m─────────────────────────────────\u001b[0m┴\u001b[0m───────────────\u001b[0m┘\u001b[0m\n",
       "_.nrows = 1055\n"
      ]
     },
     "execution_count": 7,
     "metadata": {},
     "output_type": "execute_result"
    }
   ],
   "source": [
    "coerce!(data, :Class=>Multiclass)\n",
    "schema(data)"
   ]
  },
  {
   "cell_type": "code",
   "execution_count": 8,
   "metadata": {
    "scrolled": true
   },
   "outputs": [
    {
     "data": {
      "text/plain": [
       "(CategoricalValue{String,UInt32}[\"RB\", \"RB\", \"RB\", \"RB\", \"RB\", \"RB\", \"RB\", \"RB\", \"RB\", \"RB\"  …  \"NRB\", \"NRB\", \"NRB\", \"NRB\", \"NRB\", \"NRB\", \"NRB\", \"NRB\", \"NRB\", \"NRB\"], 1055×41 DataFrame. Omitted printing of 33 columns\n",
       "│ Row  │ 1       │ 2       │ 3     │ 4     │ 5     │ 6     │ 7     │ 8       │\n",
       "│      │ \u001b[90mFloat64\u001b[39m │ \u001b[90mFloat64\u001b[39m │ \u001b[90mInt64\u001b[39m │ \u001b[90mInt64\u001b[39m │ \u001b[90mInt64\u001b[39m │ \u001b[90mInt64\u001b[39m │ \u001b[90mInt64\u001b[39m │ \u001b[90mFloat64\u001b[39m │\n",
       "├──────┼─────────┼─────────┼───────┼───────┼───────┼───────┼───────┼─────────┤\n",
       "│ 1    │ 3.919   │ 2.6909  │ 0     │ 0     │ 0     │ 0     │ 0     │ 31.4    │\n",
       "│ 2    │ 4.17    │ 2.1144  │ 0     │ 0     │ 0     │ 0     │ 0     │ 30.8    │\n",
       "│ 3    │ 3.932   │ 3.2512  │ 0     │ 0     │ 0     │ 0     │ 0     │ 26.7    │\n",
       "│ 4    │ 3.0     │ 2.7098  │ 0     │ 0     │ 0     │ 0     │ 0     │ 20.0    │\n",
       "│ 5    │ 4.236   │ 3.3944  │ 0     │ 0     │ 0     │ 0     │ 0     │ 29.4    │\n",
       "│ 6    │ 4.236   │ 3.4286  │ 0     │ 0     │ 0     │ 0     │ 0     │ 28.6    │\n",
       "│ 7    │ 5.0     │ 5.0476  │ 1     │ 0     │ 0     │ 0     │ 0     │ 11.1    │\n",
       "│ 8    │ 4.525   │ 3.8301  │ 0     │ 0     │ 0     │ 0     │ 0     │ 31.6    │\n",
       "│ 9    │ 4.596   │ 3.0777  │ 0     │ 0     │ 0     │ 0     │ 2     │ 44.4    │\n",
       "│ 10   │ 5.04    │ 3.6112  │ 0     │ 0     │ 1     │ 0     │ 2     │ 41.2    │\n",
       "⋮\n",
       "│ 1045 │ 4.807   │ 3.3179  │ 1     │ 0     │ 0     │ 0     │ 3     │ 43.8    │\n",
       "│ 1046 │ 4.607   │ 3.0008  │ 1     │ 0     │ 0     │ 0     │ 2     │ 41.2    │\n",
       "│ 1047 │ 5.313   │ 2.7782  │ 0     │ 0     │ 0     │ 1     │ 2     │ 40.0    │\n",
       "│ 1048 │ 5.103   │ 3.9184  │ 0     │ 0     │ 4     │ 0     │ 4     │ 35.0    │\n",
       "│ 1049 │ 5.265   │ 3.3444  │ 2     │ 0     │ 6     │ 0     │ 1     │ 35.3    │\n",
       "│ 1050 │ 5.029   │ 2.5966  │ 0     │ 0     │ 0     │ 0     │ 4     │ 46.7    │\n",
       "│ 1051 │ 5.431   │ 2.8955  │ 0     │ 0     │ 0     │ 2     │ 0     │ 32.1    │\n",
       "│ 1052 │ 5.287   │ 3.3732  │ 0     │ 0     │ 9     │ 0     │ 0     │ 35.3    │\n",
       "│ 1053 │ 4.869   │ 1.767   │ 0     │ 1     │ 9     │ 0     │ 5     │ 44.4    │\n",
       "│ 1054 │ 5.158   │ 1.6914  │ 2     │ 0     │ 36    │ 0     │ 9     │ 56.1    │\n",
       "│ 1055 │ 5.076   │ 2.6588  │ 2     │ 0     │ 0     │ 0     │ 4     │ 54.5    │)"
      ]
     },
     "execution_count": 8,
     "metadata": {},
     "output_type": "execute_result"
    }
   ],
   "source": [
    "y, X = unpack(data, ==(:Class), colname->true)"
   ]
  },
  {
   "cell_type": "markdown",
   "metadata": {},
   "source": [
    "Partition train and test data accoring to class labels"
   ]
  },
  {
   "cell_type": "code",
   "execution_count": 9,
   "metadata": {},
   "outputs": [
    {
     "data": {
      "text/plain": [
       "([465, 562, 278, 619, 161, 972, 782, 321, 537, 760  …  12, 913, 471, 13, 1006, 802, 112, 840, 744, 261], [196, 586, 245, 77, 1028, 432, 215, 987, 137, 411  …  975, 610, 886, 848, 731, 1024, 805, 500, 659, 415])"
      ]
     },
     "execution_count": 9,
     "metadata": {},
     "output_type": "execute_result"
    }
   ],
   "source": [
    "# data to use when trying to fit a single validation set\n",
    "train, test = partition(eachindex(y), 0.7, shuffle=true, rng=123, stratify=values(data[:Class])) # gives 70:30 split"
   ]
  },
  {
   "cell_type": "code",
   "execution_count": 10,
   "metadata": {
    "scrolled": false
   },
   "outputs": [
    {
     "data": {
      "text/plain": [
       "2-element Array{Float64,1}:\n",
       " 0.33739837398373984\n",
       " 0.6626016260162602"
      ]
     },
     "execution_count": 10,
     "metadata": {},
     "output_type": "execute_result"
    }
   ],
   "source": [
    "train_counts = countmap(data[train,:Class])\n",
    "collect(train_counts[i] / size(train)[1] for i in keys(train_counts))"
   ]
  },
  {
   "cell_type": "code",
   "execution_count": 11,
   "metadata": {
    "scrolled": false
   },
   "outputs": [
    {
     "data": {
      "text/plain": [
       "2-element Array{Float64,1}:\n",
       " 0.33753943217665616\n",
       " 0.6624605678233438"
      ]
     },
     "execution_count": 11,
     "metadata": {},
     "output_type": "execute_result"
    }
   ],
   "source": [
    "test_counts = countmap(data[test,:Class])\n",
    "collect(test_counts[i] / size(test)[1] for i in keys(test_counts))"
   ]
  },
  {
   "cell_type": "code",
   "execution_count": 12,
   "metadata": {},
   "outputs": [
    {
     "name": "stderr",
     "output_type": "stream",
     "text": [
      "┌ Info: Training \u001b[34mMachine{Standardizer} @560\u001b[39m.\n",
      "└ @ MLJBase /home/andrew/.julia/packages/MLJBase/uKzAz/src/machines.jl:319\n"
     ]
    }
   ],
   "source": [
    "standardizer = Standardizer()\n",
    "stand = machine(standardizer, X[train,:]) #only want to standardize on training distribution\n",
    "fit!(stand)\n",
    "X_stand = MLJ.transform(stand, X);"
   ]
  },
  {
   "cell_type": "markdown",
   "metadata": {},
   "source": [
    "# Five Learning Algorithms\n",
    "\n",
    "* Decision trees with some form of pruning\n",
    "* Neural networks\n",
    "* Boosting\n",
    "* Support Vector Machines\n",
    "* k-nearest neighbors\n",
    "\n",
    "\n",
    "##### Testing\n",
    "* Implement the algorithms\n",
    "* Design two *interesting* classification problems. For the purposes of this assignment, a classification problem is just a set of training examples and a set of test examples."
   ]
  },
  {
   "cell_type": "code",
   "execution_count": 13,
   "metadata": {
    "scrolled": true
   },
   "outputs": [
    {
     "data": {
      "text/plain": [
       "6-element Array{NamedTuple{(:name, :package_name, :is_supervised, :docstring, :hyperparameter_ranges, :hyperparameter_types, :hyperparameters, :implemented_methods, :is_pure_julia, :is_wrapper, :load_path, :package_license, :package_url, :package_uuid, :prediction_type, :supports_online, :supports_weights, :input_scitype, :target_scitype, :output_scitype),T} where T<:Tuple,1}:\n",
       " (name = AdaBoostStumpClassifier, package_name = DecisionTree, ... )\n",
       " (name = ConstantClassifier, package_name = MLJModels, ... )\n",
       " (name = DecisionTreeClassifier, package_name = DecisionTree, ... )\n",
       " (name = DeterministicConstantClassifier, package_name = MLJModels, ... )\n",
       " (name = RandomForestClassifier, package_name = DecisionTree, ... )\n",
       " (name = RandomForestClassifier, package_name = ScikitLearn, ... )"
      ]
     },
     "execution_count": 13,
     "metadata": {},
     "output_type": "execute_result"
    }
   ],
   "source": [
    "models(matching(X,y))"
   ]
  },
  {
   "cell_type": "code",
   "execution_count": 14,
   "metadata": {},
   "outputs": [
    {
     "name": "stdout",
     "output_type": "stream",
     "text": [
      "import MLJFlux ✔\n",
      "import "
     ]
    },
    {
     "name": "stderr",
     "output_type": "stream",
     "text": [
      "┌ Info: Loading into module \"Main\": \n",
      "└ @ MLJModels /home/andrew/.julia/packages/MLJModels/mUBFt/src/loading.jl:70\n"
     ]
    },
    {
     "name": "stdout",
     "output_type": "stream",
     "text": [
      "MLJFlux ✔\n"
     ]
    },
    {
     "data": {
      "text/plain": [
       "NeuralNetworkClassifier(\n",
       "    builder = Short(\n",
       "            n_hidden = 0,\n",
       "            dropout = 0.5,\n",
       "            σ = NNlib.σ),\n",
       "    finaliser = NNlib.softmax,\n",
       "    optimiser = ADAM(0.001, (0.9, 0.999), IdDict{Any,Any}()),\n",
       "    loss = Flux.crossentropy,\n",
       "    epochs = 10,\n",
       "    batch_size = 1,\n",
       "    lambda = 0.0,\n",
       "    alpha = 0.0,\n",
       "    optimiser_changes_trigger_retraining = false)\u001b[34m @433\u001b[39m"
      ]
     },
     "execution_count": 14,
     "metadata": {},
     "output_type": "execute_result"
    }
   ],
   "source": [
    "@load NeuralNetworkClassifier verbosity=2"
   ]
  },
  {
   "cell_type": "markdown",
   "metadata": {},
   "source": [
    "## Neural networks\n",
    "* Use favorite kind of network and training algorithm. \n",
    "* You may use networks of nodes with as many layers as you like and any activation function you see fit.\n",
    "\n",
    "1. https://github.com/alan-turing-institute/MLJFlux.jl/blob/master/examples/boston.ipynb\n",
    "1. https://github.com/alan-turing-institute/MLJFlux.jl\n",
    "1. https://alan-turing-institute.github.io/MLJ.jl/dev/transformers/"
   ]
  },
  {
   "cell_type": "code",
   "execution_count": 15,
   "metadata": {},
   "outputs": [],
   "source": [
    "# Define a custom network\n",
    "mutable struct CustomNN <:MLJFlux.Builder\n",
    "    n1 ::Int\n",
    "end"
   ]
  },
  {
   "cell_type": "code",
   "execution_count": 16,
   "metadata": {},
   "outputs": [],
   "source": [
    "function MLJFlux.build(nn::CustomNN, n_in, n_out)\n",
    "    return Chain(\n",
    "        Flux.Dense(n_in, nn.n1, σ),\n",
    "        Flux.Dense(nn.n1, n_out, σ)\n",
    "    )\n",
    "end"
   ]
  },
  {
   "cell_type": "code",
   "execution_count": 17,
   "metadata": {},
   "outputs": [
    {
     "data": {
      "text/plain": [
       "80"
      ]
     },
     "execution_count": 17,
     "metadata": {},
     "output_type": "execute_result"
    }
   ],
   "source": [
    "layer1 = 80"
   ]
  },
  {
   "cell_type": "code",
   "execution_count": 18,
   "metadata": {},
   "outputs": [],
   "source": [
    "batch_sz = 16;"
   ]
  },
  {
   "cell_type": "code",
   "execution_count": 19,
   "metadata": {},
   "outputs": [],
   "source": [
    "max_epochs = 1000;"
   ]
  },
  {
   "cell_type": "markdown",
   "metadata": {},
   "source": [
    "### No-preprocessing"
   ]
  },
  {
   "cell_type": "code",
   "execution_count": 20,
   "metadata": {},
   "outputs": [
    {
     "data": {
      "text/plain": [
       "NeuralNetworkClassifier(\n",
       "    builder = CustomNN(\n",
       "            n1 = 80),\n",
       "    finaliser = NNlib.softmax,\n",
       "    optimiser = ADAM(0.001, (0.9, 0.999), IdDict{Any,Any}()),\n",
       "    loss = Flux.crossentropy,\n",
       "    epochs = 10,\n",
       "    batch_size = 1,\n",
       "    lambda = 0.0,\n",
       "    alpha = 0.0,\n",
       "    optimiser_changes_trigger_retraining = false)\u001b[34m @814\u001b[39m"
      ]
     },
     "execution_count": 20,
     "metadata": {},
     "output_type": "execute_result"
    }
   ],
   "source": [
    "nn = NeuralNetworkClassifier(builder=CustomNN(layer1))"
   ]
  },
  {
   "cell_type": "code",
   "execution_count": 21,
   "metadata": {},
   "outputs": [
    {
     "name": "stderr",
     "output_type": "stream",
     "text": [
      "┌ Warning: The scitype of `X`, in `machine(model, X, ...)` is incompatible with `model=\u001b[34mNeuralNetworkClassifier{CustomNN,…} @814\u001b[39m`:\n",
      "│ scitype(X) = Table{Union{AbstractArray{Continuous,1}, AbstractArray{Count,1}}}\n",
      "│ input_scitype(model) = Table{var\"#s44\"} where var\"#s44\"<:(AbstractArray{var\"#s13\",1} where var\"#s13\"<:Continuous).\n",
      "└ @ MLJBase /home/andrew/.julia/packages/MLJBase/uKzAz/src/machines.jl:77\n"
     ]
    },
    {
     "data": {
      "text/plain": [
       "\u001b[34mMachine{NeuralNetworkClassifier{CustomNN,…}} @590\u001b[39m trained 0 times.\n",
       "  args: \n",
       "    1:\t\u001b[34mSource @144\u001b[39m ⏎ `Table{Union{AbstractArray{Continuous,1}, AbstractArray{Count,1}}}`\n",
       "    2:\t\u001b[34mSource @632\u001b[39m ⏎ `AbstractArray{Multiclass{2},1}`\n"
      ]
     },
     "execution_count": 21,
     "metadata": {},
     "output_type": "execute_result"
    }
   ],
   "source": [
    "Net = machine(nn, X, y)"
   ]
  },
  {
   "cell_type": "code",
   "execution_count": 22,
   "metadata": {},
   "outputs": [
    {
     "data": {
      "text/plain": [
       "0.01"
      ]
     },
     "execution_count": 22,
     "metadata": {},
     "output_type": "execute_result"
    }
   ],
   "source": [
    "nn.optimiser.eta = 0.001\n",
    "nn.epochs = 60\n",
    "nn.batch_size = batch_sz\n",
    "nn.lambda = 0.01"
   ]
  },
  {
   "cell_type": "code",
   "execution_count": 23,
   "metadata": {
    "scrolled": true
   },
   "outputs": [
    {
     "name": "stderr",
     "output_type": "stream",
     "text": [
      "┌ Info: Training \u001b[34mMachine{NeuralNetworkClassifier{CustomNN,…}} @590\u001b[39m.\n",
      "└ @ MLJBase /home/andrew/.julia/packages/MLJBase/uKzAz/src/machines.jl:319\n",
      "┌ Info: Loss is 0.6156\n",
      "└ @ MLJFlux /home/andrew/.julia/packages/MLJFlux/rYILg/src/core.jl:95\n",
      "┌ Info: Loss is 0.5825\n",
      "└ @ MLJFlux /home/andrew/.julia/packages/MLJFlux/rYILg/src/core.jl:95\n",
      "┌ Info: Loss is 0.5458\n",
      "└ @ MLJFlux /home/andrew/.julia/packages/MLJFlux/rYILg/src/core.jl:95\n",
      "┌ Info: Loss is 0.5216\n",
      "└ @ MLJFlux /home/andrew/.julia/packages/MLJFlux/rYILg/src/core.jl:95\n",
      "┌ Info: Loss is 0.5052\n",
      "└ @ MLJFlux /home/andrew/.julia/packages/MLJFlux/rYILg/src/core.jl:95\n",
      "┌ Info: Loss is 0.4937\n",
      "└ @ MLJFlux /home/andrew/.julia/packages/MLJFlux/rYILg/src/core.jl:95\n",
      "┌ Info: Loss is 0.4848\n",
      "└ @ MLJFlux /home/andrew/.julia/packages/MLJFlux/rYILg/src/core.jl:95\n",
      "┌ Info: Loss is 0.4782\n",
      "└ @ MLJFlux /home/andrew/.julia/packages/MLJFlux/rYILg/src/core.jl:95\n",
      "┌ Info: Loss is 0.4727\n",
      "└ @ MLJFlux /home/andrew/.julia/packages/MLJFlux/rYILg/src/core.jl:95\n",
      "┌ Info: Loss is 0.4681\n",
      "└ @ MLJFlux /home/andrew/.julia/packages/MLJFlux/rYILg/src/core.jl:95\n",
      "┌ Info: Loss is 0.4641\n",
      "└ @ MLJFlux /home/andrew/.julia/packages/MLJFlux/rYILg/src/core.jl:95\n",
      "┌ Info: Loss is 0.4605\n",
      "└ @ MLJFlux /home/andrew/.julia/packages/MLJFlux/rYILg/src/core.jl:95\n",
      "┌ Info: Loss is 0.4574\n",
      "└ @ MLJFlux /home/andrew/.julia/packages/MLJFlux/rYILg/src/core.jl:95\n",
      "┌ Info: Loss is 0.4546\n",
      "└ @ MLJFlux /home/andrew/.julia/packages/MLJFlux/rYILg/src/core.jl:95\n",
      "┌ Info: Loss is 0.4521\n",
      "└ @ MLJFlux /home/andrew/.julia/packages/MLJFlux/rYILg/src/core.jl:95\n",
      "┌ Info: Loss is 0.4498\n",
      "└ @ MLJFlux /home/andrew/.julia/packages/MLJFlux/rYILg/src/core.jl:95\n",
      "┌ Info: Loss is 0.4477\n",
      "└ @ MLJFlux /home/andrew/.julia/packages/MLJFlux/rYILg/src/core.jl:95\n",
      "┌ Info: Loss is 0.4457\n",
      "└ @ MLJFlux /home/andrew/.julia/packages/MLJFlux/rYILg/src/core.jl:95\n",
      "┌ Info: Loss is 0.444\n",
      "└ @ MLJFlux /home/andrew/.julia/packages/MLJFlux/rYILg/src/core.jl:95\n",
      "┌ Info: Loss is 0.4423\n",
      "└ @ MLJFlux /home/andrew/.julia/packages/MLJFlux/rYILg/src/core.jl:95\n",
      "┌ Info: Loss is 0.4408\n",
      "└ @ MLJFlux /home/andrew/.julia/packages/MLJFlux/rYILg/src/core.jl:95\n",
      "┌ Info: Loss is 0.4394\n",
      "└ @ MLJFlux /home/andrew/.julia/packages/MLJFlux/rYILg/src/core.jl:95\n",
      "┌ Info: Loss is 0.438\n",
      "└ @ MLJFlux /home/andrew/.julia/packages/MLJFlux/rYILg/src/core.jl:95\n",
      "┌ Info: Loss is 0.4368\n",
      "└ @ MLJFlux /home/andrew/.julia/packages/MLJFlux/rYILg/src/core.jl:95\n",
      "┌ Info: Loss is 0.4356\n",
      "└ @ MLJFlux /home/andrew/.julia/packages/MLJFlux/rYILg/src/core.jl:95\n",
      "┌ Info: Loss is 0.4345\n",
      "└ @ MLJFlux /home/andrew/.julia/packages/MLJFlux/rYILg/src/core.jl:95\n",
      "┌ Info: Loss is 0.4335\n",
      "└ @ MLJFlux /home/andrew/.julia/packages/MLJFlux/rYILg/src/core.jl:95\n",
      "┌ Info: Loss is 0.4326\n",
      "└ @ MLJFlux /home/andrew/.julia/packages/MLJFlux/rYILg/src/core.jl:95\n",
      "┌ Info: Loss is 0.4317\n",
      "└ @ MLJFlux /home/andrew/.julia/packages/MLJFlux/rYILg/src/core.jl:95\n",
      "┌ Info: Loss is 0.4309\n",
      "└ @ MLJFlux /home/andrew/.julia/packages/MLJFlux/rYILg/src/core.jl:95\n",
      "┌ Info: Loss is 0.4301\n",
      "└ @ MLJFlux /home/andrew/.julia/packages/MLJFlux/rYILg/src/core.jl:95\n",
      "┌ Info: Loss is 0.4295\n",
      "└ @ MLJFlux /home/andrew/.julia/packages/MLJFlux/rYILg/src/core.jl:95\n",
      "┌ Info: Loss is 0.4289\n",
      "└ @ MLJFlux /home/andrew/.julia/packages/MLJFlux/rYILg/src/core.jl:95\n",
      "┌ Info: Loss is 0.4283\n",
      "└ @ MLJFlux /home/andrew/.julia/packages/MLJFlux/rYILg/src/core.jl:95\n",
      "┌ Info: Loss is 0.4278\n",
      "└ @ MLJFlux /home/andrew/.julia/packages/MLJFlux/rYILg/src/core.jl:95\n",
      "┌ Info: Loss is 0.4273\n",
      "└ @ MLJFlux /home/andrew/.julia/packages/MLJFlux/rYILg/src/core.jl:95\n",
      "┌ Info: Loss is 0.4269\n",
      "└ @ MLJFlux /home/andrew/.julia/packages/MLJFlux/rYILg/src/core.jl:95\n",
      "┌ Info: Loss is 0.4265\n",
      "└ @ MLJFlux /home/andrew/.julia/packages/MLJFlux/rYILg/src/core.jl:95\n",
      "┌ Info: Loss is 0.4261\n",
      "└ @ MLJFlux /home/andrew/.julia/packages/MLJFlux/rYILg/src/core.jl:95\n",
      "┌ Info: Loss is 0.4258\n",
      "└ @ MLJFlux /home/andrew/.julia/packages/MLJFlux/rYILg/src/core.jl:95\n",
      "┌ Info: Loss is 0.4254\n",
      "└ @ MLJFlux /home/andrew/.julia/packages/MLJFlux/rYILg/src/core.jl:95\n",
      "┌ Info: Loss is 0.4251\n",
      "└ @ MLJFlux /home/andrew/.julia/packages/MLJFlux/rYILg/src/core.jl:95\n",
      "┌ Info: Loss is 0.4248\n",
      "└ @ MLJFlux /home/andrew/.julia/packages/MLJFlux/rYILg/src/core.jl:95\n",
      "┌ Info: Loss is 0.4245\n",
      "└ @ MLJFlux /home/andrew/.julia/packages/MLJFlux/rYILg/src/core.jl:95\n",
      "┌ Info: Loss is 0.4242\n",
      "└ @ MLJFlux /home/andrew/.julia/packages/MLJFlux/rYILg/src/core.jl:95\n",
      "┌ Info: Loss is 0.4239\n",
      "└ @ MLJFlux /home/andrew/.julia/packages/MLJFlux/rYILg/src/core.jl:95\n",
      "┌ Info: Loss is 0.4236\n",
      "└ @ MLJFlux /home/andrew/.julia/packages/MLJFlux/rYILg/src/core.jl:95\n",
      "┌ Info: Loss is 0.4232\n",
      "└ @ MLJFlux /home/andrew/.julia/packages/MLJFlux/rYILg/src/core.jl:95\n",
      "┌ Info: Loss is 0.4229\n",
      "└ @ MLJFlux /home/andrew/.julia/packages/MLJFlux/rYILg/src/core.jl:95\n",
      "┌ Info: Loss is 0.4226\n",
      "└ @ MLJFlux /home/andrew/.julia/packages/MLJFlux/rYILg/src/core.jl:95\n",
      "┌ Info: Loss is 0.4223\n",
      "└ @ MLJFlux /home/andrew/.julia/packages/MLJFlux/rYILg/src/core.jl:95\n",
      "┌ Info: Loss is 0.422\n",
      "└ @ MLJFlux /home/andrew/.julia/packages/MLJFlux/rYILg/src/core.jl:95\n",
      "┌ Info: Loss is 0.4217\n",
      "└ @ MLJFlux /home/andrew/.julia/packages/MLJFlux/rYILg/src/core.jl:95\n",
      "┌ Info: Loss is 0.4214\n",
      "└ @ MLJFlux /home/andrew/.julia/packages/MLJFlux/rYILg/src/core.jl:95\n",
      "┌ Info: Loss is 0.4211\n",
      "└ @ MLJFlux /home/andrew/.julia/packages/MLJFlux/rYILg/src/core.jl:95\n",
      "┌ Info: Loss is 0.4207\n",
      "└ @ MLJFlux /home/andrew/.julia/packages/MLJFlux/rYILg/src/core.jl:95\n",
      "┌ Info: Loss is 0.4204\n",
      "└ @ MLJFlux /home/andrew/.julia/packages/MLJFlux/rYILg/src/core.jl:95\n",
      "┌ Info: Loss is 0.4201\n",
      "└ @ MLJFlux /home/andrew/.julia/packages/MLJFlux/rYILg/src/core.jl:95\n",
      "┌ Info: Loss is 0.4198\n",
      "└ @ MLJFlux /home/andrew/.julia/packages/MLJFlux/rYILg/src/core.jl:95\n",
      "┌ Info: Loss is 0.4195\n",
      "└ @ MLJFlux /home/andrew/.julia/packages/MLJFlux/rYILg/src/core.jl:95\n"
     ]
    },
    {
     "data": {
      "text/plain": [
       "\u001b[34mMachine{NeuralNetworkClassifier{CustomNN,…}} @590\u001b[39m trained 1 time.\n",
       "  args: \n",
       "    1:\t\u001b[34mSource @144\u001b[39m ⏎ `Table{Union{AbstractArray{Continuous,1}, AbstractArray{Count,1}}}`\n",
       "    2:\t\u001b[34mSource @632\u001b[39m ⏎ `AbstractArray{Multiclass{2},1}`\n"
      ]
     },
     "execution_count": 23,
     "metadata": {},
     "output_type": "execute_result"
    }
   ],
   "source": [
    "fit!(Net, rows=train, verbosity=2)"
   ]
  },
  {
   "cell_type": "code",
   "execution_count": 24,
   "metadata": {},
   "outputs": [
    {
     "data": {
      "text/plain": [
       "100"
      ]
     },
     "execution_count": 24,
     "metadata": {},
     "output_type": "execute_result"
    }
   ],
   "source": [
    "nn.optimiser.eta = nn.optimiser.eta / 3\n",
    "nn.epochs = nn.epochs + 40"
   ]
  },
  {
   "cell_type": "code",
   "execution_count": 25,
   "metadata": {
    "scrolled": true
   },
   "outputs": [
    {
     "name": "stderr",
     "output_type": "stream",
     "text": [
      "┌ Info: Updating \u001b[34mMachine{NeuralNetworkClassifier{CustomNN,…}} @590\u001b[39m.\n",
      "└ @ MLJBase /home/andrew/.julia/packages/MLJBase/uKzAz/src/machines.jl:320\n",
      "┌ Info: Loss is 0.4185\n",
      "└ @ MLJFlux /home/andrew/.julia/packages/MLJFlux/rYILg/src/core.jl:95\n",
      "┌ Info: Loss is 0.4175\n",
      "└ @ MLJFlux /home/andrew/.julia/packages/MLJFlux/rYILg/src/core.jl:95\n",
      "┌ Info: Loss is 0.4173\n",
      "└ @ MLJFlux /home/andrew/.julia/packages/MLJFlux/rYILg/src/core.jl:95\n",
      "┌ Info: Loss is 0.4171\n",
      "└ @ MLJFlux /home/andrew/.julia/packages/MLJFlux/rYILg/src/core.jl:95\n",
      "┌ Info: Loss is 0.4169\n",
      "└ @ MLJFlux /home/andrew/.julia/packages/MLJFlux/rYILg/src/core.jl:95\n",
      "┌ Info: Loss is 0.4167\n",
      "└ @ MLJFlux /home/andrew/.julia/packages/MLJFlux/rYILg/src/core.jl:95\n",
      "┌ Info: Loss is 0.4166\n",
      "└ @ MLJFlux /home/andrew/.julia/packages/MLJFlux/rYILg/src/core.jl:95\n",
      "┌ Info: Loss is 0.4164\n",
      "└ @ MLJFlux /home/andrew/.julia/packages/MLJFlux/rYILg/src/core.jl:95\n",
      "┌ Info: Loss is 0.4162\n",
      "└ @ MLJFlux /home/andrew/.julia/packages/MLJFlux/rYILg/src/core.jl:95\n",
      "┌ Info: Loss is 0.4161\n",
      "└ @ MLJFlux /home/andrew/.julia/packages/MLJFlux/rYILg/src/core.jl:95\n",
      "┌ Info: Loss is 0.4159\n",
      "└ @ MLJFlux /home/andrew/.julia/packages/MLJFlux/rYILg/src/core.jl:95\n",
      "┌ Info: Loss is 0.4158\n",
      "└ @ MLJFlux /home/andrew/.julia/packages/MLJFlux/rYILg/src/core.jl:95\n",
      "┌ Info: Loss is 0.4156\n",
      "└ @ MLJFlux /home/andrew/.julia/packages/MLJFlux/rYILg/src/core.jl:95\n",
      "┌ Info: Loss is 0.4155\n",
      "└ @ MLJFlux /home/andrew/.julia/packages/MLJFlux/rYILg/src/core.jl:95\n",
      "┌ Info: Loss is 0.4153\n",
      "└ @ MLJFlux /home/andrew/.julia/packages/MLJFlux/rYILg/src/core.jl:95\n",
      "┌ Info: Loss is 0.4152\n",
      "└ @ MLJFlux /home/andrew/.julia/packages/MLJFlux/rYILg/src/core.jl:95\n",
      "┌ Info: Loss is 0.415\n",
      "└ @ MLJFlux /home/andrew/.julia/packages/MLJFlux/rYILg/src/core.jl:95\n",
      "┌ Info: Loss is 0.4149\n",
      "└ @ MLJFlux /home/andrew/.julia/packages/MLJFlux/rYILg/src/core.jl:95\n",
      "┌ Info: Loss is 0.4147\n",
      "└ @ MLJFlux /home/andrew/.julia/packages/MLJFlux/rYILg/src/core.jl:95\n",
      "┌ Info: Loss is 0.4146\n",
      "└ @ MLJFlux /home/andrew/.julia/packages/MLJFlux/rYILg/src/core.jl:95\n",
      "┌ Info: Loss is 0.4145\n",
      "└ @ MLJFlux /home/andrew/.julia/packages/MLJFlux/rYILg/src/core.jl:95\n",
      "┌ Info: Loss is 0.4143\n",
      "└ @ MLJFlux /home/andrew/.julia/packages/MLJFlux/rYILg/src/core.jl:95\n",
      "┌ Info: Loss is 0.4142\n",
      "└ @ MLJFlux /home/andrew/.julia/packages/MLJFlux/rYILg/src/core.jl:95\n",
      "┌ Info: Loss is 0.4141\n",
      "└ @ MLJFlux /home/andrew/.julia/packages/MLJFlux/rYILg/src/core.jl:95\n",
      "┌ Info: Loss is 0.4139\n",
      "└ @ MLJFlux /home/andrew/.julia/packages/MLJFlux/rYILg/src/core.jl:95\n",
      "┌ Info: Loss is 0.4138\n",
      "└ @ MLJFlux /home/andrew/.julia/packages/MLJFlux/rYILg/src/core.jl:95\n",
      "┌ Info: Loss is 0.4137\n",
      "└ @ MLJFlux /home/andrew/.julia/packages/MLJFlux/rYILg/src/core.jl:95\n",
      "┌ Info: Loss is 0.4135\n",
      "└ @ MLJFlux /home/andrew/.julia/packages/MLJFlux/rYILg/src/core.jl:95\n",
      "┌ Info: Loss is 0.4134\n",
      "└ @ MLJFlux /home/andrew/.julia/packages/MLJFlux/rYILg/src/core.jl:95\n",
      "┌ Info: Loss is 0.4133\n",
      "└ @ MLJFlux /home/andrew/.julia/packages/MLJFlux/rYILg/src/core.jl:95\n",
      "┌ Info: Loss is 0.4131\n",
      "└ @ MLJFlux /home/andrew/.julia/packages/MLJFlux/rYILg/src/core.jl:95\n",
      "┌ Info: Loss is 0.413\n",
      "└ @ MLJFlux /home/andrew/.julia/packages/MLJFlux/rYILg/src/core.jl:95\n",
      "┌ Info: Loss is 0.4129\n",
      "└ @ MLJFlux /home/andrew/.julia/packages/MLJFlux/rYILg/src/core.jl:95\n",
      "┌ Info: Loss is 0.4127\n",
      "└ @ MLJFlux /home/andrew/.julia/packages/MLJFlux/rYILg/src/core.jl:95\n",
      "┌ Info: Loss is 0.4126\n",
      "└ @ MLJFlux /home/andrew/.julia/packages/MLJFlux/rYILg/src/core.jl:95\n",
      "┌ Info: Loss is 0.4125\n",
      "└ @ MLJFlux /home/andrew/.julia/packages/MLJFlux/rYILg/src/core.jl:95\n",
      "┌ Info: Loss is 0.4124\n",
      "└ @ MLJFlux /home/andrew/.julia/packages/MLJFlux/rYILg/src/core.jl:95\n",
      "┌ Info: Loss is 0.4122\n",
      "└ @ MLJFlux /home/andrew/.julia/packages/MLJFlux/rYILg/src/core.jl:95\n",
      "┌ Info: Loss is 0.4121\n",
      "└ @ MLJFlux /home/andrew/.julia/packages/MLJFlux/rYILg/src/core.jl:95\n",
      "┌ Info: Loss is 0.412\n",
      "└ @ MLJFlux /home/andrew/.julia/packages/MLJFlux/rYILg/src/core.jl:95\n"
     ]
    },
    {
     "data": {
      "text/plain": [
       "\u001b[34mMachine{NeuralNetworkClassifier{CustomNN,…}} @590\u001b[39m trained 2 times.\n",
       "  args: \n",
       "    1:\t\u001b[34mSource @144\u001b[39m ⏎ `Table{Union{AbstractArray{Continuous,1}, AbstractArray{Count,1}}}`\n",
       "    2:\t\u001b[34mSource @632\u001b[39m ⏎ `AbstractArray{Multiclass{2},1}`\n"
      ]
     },
     "execution_count": 25,
     "metadata": {},
     "output_type": "execute_result"
    }
   ],
   "source": [
    "fit!(Net, rows=train, verbosity=2)"
   ]
  },
  {
   "cell_type": "code",
   "execution_count": 26,
   "metadata": {},
   "outputs": [
    {
     "name": "stderr",
     "output_type": "stream",
     "text": [
      "\u001b[33mEvaluating over 6 folds: 100%[=========================] Time: 0:00:15\u001b[39m\n"
     ]
    },
    {
     "data": {
      "text/plain": [
       "┌\u001b[0m───────────────\u001b[0m┬\u001b[0m───────────────\u001b[0m┬\u001b[0m──────────────────────────────────────────────────\u001b[0m┐\u001b[0m\n",
       "│\u001b[0m\u001b[22m _.measure     \u001b[0m│\u001b[0m\u001b[22m _.measurement \u001b[0m│\u001b[0m\u001b[22m _.per_fold                                       \u001b[0m│\u001b[0m\n",
       "├\u001b[0m───────────────\u001b[0m┼\u001b[0m───────────────\u001b[0m┼\u001b[0m──────────────────────────────────────────────────\u001b[0m┤\u001b[0m\n",
       "│\u001b[0m cross_entropy \u001b[0m│\u001b[0m 0.443         \u001b[0m│\u001b[0m Float32[0.442, 0.456, 0.43, 0.434, 0.455, 0.441] \u001b[0m│\u001b[0m\n",
       "│\u001b[0m acc           \u001b[0m│\u001b[0m 0.864         \u001b[0m│\u001b[0m [0.869, 0.83, 0.892, 0.892, 0.852, 0.851]        \u001b[0m│\u001b[0m\n",
       "└\u001b[0m───────────────\u001b[0m┴\u001b[0m───────────────\u001b[0m┴\u001b[0m──────────────────────────────────────────────────\u001b[0m┘\u001b[0m\n",
       "_.per_observation = [[[0.39, 0.313, ..., 0.313], [0.347, 0.315, ..., 0.314], [0.316, 0.362, ..., 0.365], [0.959, 0.757, ..., 0.485], [0.317, 0.314, ..., 1.11], [0.493, 1.31, ..., 0.322]], missing]\n",
       "_.fitted_params_per_fold = [ … ]\n",
       "_.report_per_fold = [ … ]\n"
      ]
     },
     "execution_count": 26,
     "metadata": {},
     "output_type": "execute_result"
    }
   ],
   "source": [
    "nn_acc = evaluate!(Net, resampling=CV(shuffle=true), measure=[cross_entropy, acc], verbosity=1)"
   ]
  },
  {
   "cell_type": "code",
   "execution_count": 27,
   "metadata": {},
   "outputs": [
    {
     "data": {
      "text/plain": [
       "(chain = Chain(Chain(Dense(41, 80, σ), Dense(80, 2, σ)), softmax),)"
      ]
     },
     "execution_count": 27,
     "metadata": {},
     "output_type": "execute_result"
    }
   ],
   "source": [
    "fitted_params(Net)"
   ]
  },
  {
   "cell_type": "code",
   "execution_count": 28,
   "metadata": {
    "scrolled": true
   },
   "outputs": [
    {
     "data": {
      "text/plain": [
       "(training_losses = Any[0.6406213f0, 0.6206517f0, 0.6049803f0, 0.5884907f0, 0.57458246f0, 0.5601256f0, 0.548999f0, 0.53952265f0, 0.5310291f0, 0.5234257f0  …  0.42942345f0, 0.42916226f0, 0.42890486f0, 0.42865133f0, 0.42840067f0, 0.42815146f0, 0.42790288f0, 0.4276587f0, 0.4274199f0, 0.42718524f0],)"
      ]
     },
     "execution_count": 28,
     "metadata": {},
     "output_type": "execute_result"
    }
   ],
   "source": [
    "report(Net)"
   ]
  },
  {
   "cell_type": "markdown",
   "metadata": {},
   "source": [
    "### With Preprocessing"
   ]
  },
  {
   "cell_type": "markdown",
   "metadata": {},
   "source": [
    "Standardizing Inputs makes a huge difference.\n",
    "Before, I could only barely break below 0.4 training loss, but by standardizing inputs, I can easily get near 0.3."
   ]
  },
  {
   "cell_type": "code",
   "execution_count": 29,
   "metadata": {},
   "outputs": [
    {
     "name": "stderr",
     "output_type": "stream",
     "text": [
      "┌ Warning: The scitype of `X`, in `machine(model, X, ...)` is incompatible with `model=\u001b[34mNeuralNetworkClassifier{CustomNN,…} @814\u001b[39m`:\n",
      "│ scitype(X) = Table{Union{AbstractArray{Continuous,1}, AbstractArray{Count,1}}}\n",
      "│ input_scitype(model) = Table{var\"#s44\"} where var\"#s44\"<:(AbstractArray{var\"#s13\",1} where var\"#s13\"<:Continuous).\n",
      "└ @ MLJBase /home/andrew/.julia/packages/MLJBase/uKzAz/src/machines.jl:77\n"
     ]
    },
    {
     "data": {
      "text/plain": [
       "\u001b[34mMachine{NeuralNetworkClassifier{CustomNN,…}} @236\u001b[39m trained 0 times.\n",
       "  args: \n",
       "    1:\t\u001b[34mSource @122\u001b[39m ⏎ `Table{Union{AbstractArray{Continuous,1}, AbstractArray{Count,1}}}`\n",
       "    2:\t\u001b[34mSource @923\u001b[39m ⏎ `AbstractArray{Multiclass{2},1}`\n"
      ]
     },
     "execution_count": 29,
     "metadata": {},
     "output_type": "execute_result"
    }
   ],
   "source": [
    "Net = machine(nn, X_stand, y)"
   ]
  },
  {
   "cell_type": "markdown",
   "metadata": {},
   "source": [
    "### Learning Curve"
   ]
  },
  {
   "cell_type": "code",
   "execution_count": 30,
   "metadata": {},
   "outputs": [
    {
     "name": "stderr",
     "output_type": "stream",
     "text": [
      "┌ Info: Training \u001b[34mMachine{NeuralNetworkClassifier{CustomNN,…}} @236\u001b[39m.\n",
      "└ @ MLJBase /home/andrew/.julia/packages/MLJBase/uKzAz/src/machines.jl:319\n",
      "\u001b[33mOptimising neural net:100%[=========================] Time: 0:00:14\u001b[39m\n"
     ]
    },
    {
     "data": {
      "text/plain": [
       "\u001b[34mMachine{NeuralNetworkClassifier{CustomNN,…}} @236\u001b[39m trained 1 time.\n",
       "  args: \n",
       "    1:\t\u001b[34mSource @122\u001b[39m ⏎ `Table{Union{AbstractArray{Continuous,1}, AbstractArray{Count,1}}}`\n",
       "    2:\t\u001b[34mSource @923\u001b[39m ⏎ `AbstractArray{Multiclass{2},1}`\n"
      ]
     },
     "execution_count": 30,
     "metadata": {},
     "output_type": "execute_result"
    }
   ],
   "source": [
    "Net.model.epochs = max_epochs\n",
    "fit!(Net, rows=train, verbosity=1, force=true)"
   ]
  },
  {
   "cell_type": "code",
   "execution_count": 31,
   "metadata": {},
   "outputs": [
    {
     "data": {
      "text/plain": [
       "┌\u001b[0m───────────────\u001b[0m┬\u001b[0m───────────────\u001b[0m┬\u001b[0m────────────────\u001b[0m┐\u001b[0m\n",
       "│\u001b[0m\u001b[22m _.measure     \u001b[0m│\u001b[0m\u001b[22m _.measurement \u001b[0m│\u001b[0m\u001b[22m _.per_fold     \u001b[0m│\u001b[0m\n",
       "├\u001b[0m───────────────\u001b[0m┼\u001b[0m───────────────\u001b[0m┼\u001b[0m────────────────\u001b[0m┤\u001b[0m\n",
       "│\u001b[0m cross_entropy \u001b[0m│\u001b[0m 0.465         \u001b[0m│\u001b[0m Float32[0.465] \u001b[0m│\u001b[0m\n",
       "│\u001b[0m acc           \u001b[0m│\u001b[0m 0.845         \u001b[0m│\u001b[0m [0.845]        \u001b[0m│\u001b[0m\n",
       "└\u001b[0m───────────────\u001b[0m┴\u001b[0m───────────────\u001b[0m┴\u001b[0m────────────────\u001b[0m┘\u001b[0m\n",
       "_.per_observation = [[[0.313, 0.313, ..., 0.313]], missing]\n",
       "_.fitted_params_per_fold = [ … ]\n",
       "_.report_per_fold = [ … ]\n"
      ]
     },
     "execution_count": 31,
     "metadata": {},
     "output_type": "execute_result"
    }
   ],
   "source": [
    "nn_acc = evaluate!(Net, resampling=Holdout(), measure=[cross_entropy, acc], verbosity=1)"
   ]
  },
  {
   "cell_type": "code",
   "execution_count": 32,
   "metadata": {
    "scrolled": true
   },
   "outputs": [
    {
     "data": {
      "text/plain": [
       "MLJBase.NumericRange(Int64, :epochs, ... )"
      ]
     },
     "execution_count": 32,
     "metadata": {},
     "output_type": "execute_result"
    }
   ],
   "source": [
    "vals = collect(0:5:max_epochs)\n",
    "r = range(nn, :epochs, lower=1, upper=max_epochs, scale=:log10)"
   ]
  },
  {
   "cell_type": "code",
   "execution_count": 33,
   "metadata": {},
   "outputs": [
    {
     "name": "stderr",
     "output_type": "stream",
     "text": [
      "┌ Info: Training \u001b[34mMachine{ProbabilisticTunedModel{Grid,…}} @842\u001b[39m.\n",
      "└ @ MLJBase /home/andrew/.julia/packages/MLJBase/uKzAz/src/machines.jl:319\n",
      "┌ Info: Attempting to evaluate 27 models.\n",
      "└ @ MLJTuning /home/andrew/.julia/packages/MLJTuning/Bbgvk/src/tuned_models.jl:494\n",
      "┌ Warning: The scitype of `X`, in `machine(model, X, ...)` is incompatible with `model=\u001b[34mResampler{Holdout,…} @747\u001b[39m`:\n",
      "│ scitype(X) = Table{Union{AbstractArray{Continuous,1}, AbstractArray{Count,1}}}\n",
      "│ input_scitype(model) = Table{var\"#s44\"} where var\"#s44\"<:(AbstractArray{var\"#s13\",1} where var\"#s13\"<:Continuous).\n",
      "└ @ MLJBase /home/andrew/.julia/packages/MLJBase/uKzAz/src/machines.jl:77\n",
      "\u001b[33mEvaluating over 27 metamodels:   0%[>                        ]  ETA: N/A\u001b[39m┌ Warning: The scitype of `X`, in `machine(model, X, ...)` is incompatible with `model=\u001b[34mNeuralNetworkClassifier{CustomNN,…} @061\u001b[39m`:\n",
      "│ scitype(X) = Table{Union{AbstractArray{Continuous,1}, AbstractArray{Count,1}}}\n",
      "│ input_scitype(model) = Table{var\"#s44\"} where var\"#s44\"<:(AbstractArray{var\"#s13\",1} where var\"#s13\"<:Continuous).\n",
      "└ @ MLJBase /home/andrew/.julia/packages/MLJBase/uKzAz/src/machines.jl:77\n",
      "\u001b[33mEvaluating over 27 metamodels: 100%[=========================] Time: 0:00:14\u001b[39m\n",
      "┌ Warning: The scitype of `X`, in `machine(model, X, ...)` is incompatible with `model=\u001b[34mNeuralNetworkClassifier{CustomNN,…} @658\u001b[39m`:\n",
      "│ scitype(X) = Table{Union{AbstractArray{Continuous,1}, AbstractArray{Count,1}}}\n",
      "│ input_scitype(model) = Table{var\"#s44\"} where var\"#s44\"<:(AbstractArray{var\"#s13\",1} where var\"#s13\"<:Continuous).\n",
      "└ @ MLJBase /home/andrew/.julia/packages/MLJBase/uKzAz/src/machines.jl:77\n"
     ]
    },
    {
     "data": {
      "text/plain": [
       "(parameter_name = \"epochs\",\n",
       " parameter_scale = :log10,\n",
       " parameter_values = [1, 2, 3, 4, 5, 7, 9, 11, 14, 17  …  117, 149, 189, 240, 304, 386, 489, 621, 788, 1000],\n",
       " measurements = [0.7376055717468262, 0.7221724390983582, 0.7065893411636353, 0.6914002299308777, 0.6770412921905518, 0.6132303476333618, 0.5784444808959961, 0.5588062405586243, 0.5359548926353455, 0.5247332453727722  …  0.46344730257987976, 0.4609600305557251, 0.45896366238594055, 0.4574935734272003, 0.45691561698913574, 0.4564707279205322, 0.4541047513484955, 0.4534625709056854, 0.457048237323761, 0.46283984184265137],)"
      ]
     },
     "execution_count": 33,
     "metadata": {},
     "output_type": "execute_result"
    }
   ],
   "source": [
    "curve = MLJ.learning_curve(Net, \n",
    "                        range=r, \n",
    "                        resampling=Holdout(fraction_train=0.7), \n",
    "#                         resampling=CV(nfolds=4), \n",
    "                        measure=cross_entropy, \n",
    "                        acceleration=CPUProcesses()\n",
    ")"
   ]
  },
  {
   "cell_type": "code",
   "execution_count": 34,
   "metadata": {},
   "outputs": [
    {
     "data": {
      "image/svg+xml": [
       "<?xml version=\"1.0\" encoding=\"utf-8\"?>\n",
       "<svg xmlns=\"http://www.w3.org/2000/svg\" xmlns:xlink=\"http://www.w3.org/1999/xlink\" width=\"600\" height=\"400\" viewBox=\"0 0 2400 1600\">\n",
       "<defs>\n",
       "  <clipPath id=\"clip060\">\n",
       "    <rect x=\"0\" y=\"0\" width=\"2400\" height=\"1600\"/>\n",
       "  </clipPath>\n",
       "</defs>\n",
       "<path clip-path=\"url(#clip060)\" d=\"\n",
       "M0 1600 L2400 1600 L2400 0 L0 0  Z\n",
       "  \" fill=\"#ffffff\" fill-rule=\"evenodd\" fill-opacity=\"1\"/>\n",
       "<defs>\n",
       "  <clipPath id=\"clip061\">\n",
       "    <rect x=\"480\" y=\"0\" width=\"1681\" height=\"1600\"/>\n",
       "  </clipPath>\n",
       "</defs>\n",
       "<path clip-path=\"url(#clip060)\" d=\"\n",
       "M238.616 1423.18 L2352.76 1423.18 L2352.76 47.2441 L238.616 47.2441  Z\n",
       "  \" fill=\"#ffffff\" fill-rule=\"evenodd\" fill-opacity=\"1\"/>\n",
       "<defs>\n",
       "  <clipPath id=\"clip062\">\n",
       "    <rect x=\"238\" y=\"47\" width=\"2115\" height=\"1377\"/>\n",
       "  </clipPath>\n",
       "</defs>\n",
       "<polyline clip-path=\"url(#clip062)\" style=\"stroke:#000000; stroke-width:2; stroke-opacity:0.1; fill:none\" points=\"\n",
       "  296.454,1423.18 296.454,47.2441 \n",
       "  \"/>\n",
       "<polyline clip-path=\"url(#clip062)\" style=\"stroke:#000000; stroke-width:2; stroke-opacity:0.1; fill:none\" points=\"\n",
       "  795.571,1423.18 795.571,47.2441 \n",
       "  \"/>\n",
       "<polyline clip-path=\"url(#clip062)\" style=\"stroke:#000000; stroke-width:2; stroke-opacity:0.1; fill:none\" points=\"\n",
       "  1294.69,1423.18 1294.69,47.2441 \n",
       "  \"/>\n",
       "<polyline clip-path=\"url(#clip062)\" style=\"stroke:#000000; stroke-width:2; stroke-opacity:0.1; fill:none\" points=\"\n",
       "  1793.8,1423.18 1793.8,47.2441 \n",
       "  \"/>\n",
       "<polyline clip-path=\"url(#clip062)\" style=\"stroke:#000000; stroke-width:2; stroke-opacity:0.1; fill:none\" points=\"\n",
       "  2292.92,1423.18 2292.92,47.2441 \n",
       "  \"/>\n",
       "<polyline clip-path=\"url(#clip062)\" style=\"stroke:#000000; stroke-width:2; stroke-opacity:0.1; fill:none\" points=\"\n",
       "  238.616,1298.77 2352.76,1298.77 \n",
       "  \"/>\n",
       "<polyline clip-path=\"url(#clip062)\" style=\"stroke:#000000; stroke-width:2; stroke-opacity:0.1; fill:none\" points=\"\n",
       "  238.616,1119.18 2352.76,1119.18 \n",
       "  \"/>\n",
       "<polyline clip-path=\"url(#clip062)\" style=\"stroke:#000000; stroke-width:2; stroke-opacity:0.1; fill:none\" points=\"\n",
       "  238.616,939.598 2352.76,939.598 \n",
       "  \"/>\n",
       "<polyline clip-path=\"url(#clip062)\" style=\"stroke:#000000; stroke-width:2; stroke-opacity:0.1; fill:none\" points=\"\n",
       "  238.616,760.012 2352.76,760.012 \n",
       "  \"/>\n",
       "<polyline clip-path=\"url(#clip062)\" style=\"stroke:#000000; stroke-width:2; stroke-opacity:0.1; fill:none\" points=\"\n",
       "  238.616,580.426 2352.76,580.426 \n",
       "  \"/>\n",
       "<polyline clip-path=\"url(#clip062)\" style=\"stroke:#000000; stroke-width:2; stroke-opacity:0.1; fill:none\" points=\"\n",
       "  238.616,400.84 2352.76,400.84 \n",
       "  \"/>\n",
       "<polyline clip-path=\"url(#clip062)\" style=\"stroke:#000000; stroke-width:2; stroke-opacity:0.1; fill:none\" points=\"\n",
       "  238.616,221.254 2352.76,221.254 \n",
       "  \"/>\n",
       "<polyline clip-path=\"url(#clip060)\" style=\"stroke:#000000; stroke-width:4; stroke-opacity:1; fill:none\" points=\"\n",
       "  238.616,1423.18 2352.76,1423.18 \n",
       "  \"/>\n",
       "<polyline clip-path=\"url(#clip060)\" style=\"stroke:#000000; stroke-width:4; stroke-opacity:1; fill:none\" points=\"\n",
       "  238.616,1423.18 238.616,47.2441 \n",
       "  \"/>\n",
       "<polyline clip-path=\"url(#clip060)\" style=\"stroke:#000000; stroke-width:4; stroke-opacity:1; fill:none\" points=\"\n",
       "  296.454,1423.18 296.454,1406.67 \n",
       "  \"/>\n",
       "<polyline clip-path=\"url(#clip060)\" style=\"stroke:#000000; stroke-width:4; stroke-opacity:1; fill:none\" points=\"\n",
       "  795.571,1423.18 795.571,1406.67 \n",
       "  \"/>\n",
       "<polyline clip-path=\"url(#clip060)\" style=\"stroke:#000000; stroke-width:4; stroke-opacity:1; fill:none\" points=\"\n",
       "  1294.69,1423.18 1294.69,1406.67 \n",
       "  \"/>\n",
       "<polyline clip-path=\"url(#clip060)\" style=\"stroke:#000000; stroke-width:4; stroke-opacity:1; fill:none\" points=\"\n",
       "  1793.8,1423.18 1793.8,1406.67 \n",
       "  \"/>\n",
       "<polyline clip-path=\"url(#clip060)\" style=\"stroke:#000000; stroke-width:4; stroke-opacity:1; fill:none\" points=\"\n",
       "  2292.92,1423.18 2292.92,1406.67 \n",
       "  \"/>\n",
       "<polyline clip-path=\"url(#clip060)\" style=\"stroke:#000000; stroke-width:4; stroke-opacity:1; fill:none\" points=\"\n",
       "  238.616,1298.77 263.986,1298.77 \n",
       "  \"/>\n",
       "<polyline clip-path=\"url(#clip060)\" style=\"stroke:#000000; stroke-width:4; stroke-opacity:1; fill:none\" points=\"\n",
       "  238.616,1119.18 263.986,1119.18 \n",
       "  \"/>\n",
       "<polyline clip-path=\"url(#clip060)\" style=\"stroke:#000000; stroke-width:4; stroke-opacity:1; fill:none\" points=\"\n",
       "  238.616,939.598 263.986,939.598 \n",
       "  \"/>\n",
       "<polyline clip-path=\"url(#clip060)\" style=\"stroke:#000000; stroke-width:4; stroke-opacity:1; fill:none\" points=\"\n",
       "  238.616,760.012 263.986,760.012 \n",
       "  \"/>\n",
       "<polyline clip-path=\"url(#clip060)\" style=\"stroke:#000000; stroke-width:4; stroke-opacity:1; fill:none\" points=\"\n",
       "  238.616,580.426 263.986,580.426 \n",
       "  \"/>\n",
       "<polyline clip-path=\"url(#clip060)\" style=\"stroke:#000000; stroke-width:4; stroke-opacity:1; fill:none\" points=\"\n",
       "  238.616,400.84 263.986,400.84 \n",
       "  \"/>\n",
       "<polyline clip-path=\"url(#clip060)\" style=\"stroke:#000000; stroke-width:4; stroke-opacity:1; fill:none\" points=\"\n",
       "  238.616,221.254 263.986,221.254 \n",
       "  \"/>\n",
       "<path clip-path=\"url(#clip060)\" d=\"M 0 0 M296.454 1445.17 Q292.843 1445.17 291.014 1448.74 Q289.209 1452.28 289.209 1459.41 Q289.209 1466.51 291.014 1470.08 Q292.843 1473.62 296.454 1473.62 Q300.088 1473.62 301.894 1470.08 Q303.722 1466.51 303.722 1459.41 Q303.722 1452.28 301.894 1448.74 Q300.088 1445.17 296.454 1445.17 M296.454 1441.47 Q302.264 1441.47 305.32 1446.07 Q308.398 1450.66 308.398 1459.41 Q308.398 1468.13 305.32 1472.74 Q302.264 1477.32 296.454 1477.32 Q290.644 1477.32 287.565 1472.74 Q284.509 1468.13 284.509 1459.41 Q284.509 1450.66 287.565 1446.07 Q290.644 1441.47 296.454 1441.47 Z\" fill=\"#000000\" fill-rule=\"evenodd\" fill-opacity=\"1\" /><path clip-path=\"url(#clip060)\" d=\"M 0 0 M763.708 1472.72 L780.027 1472.72 L780.027 1476.65 L758.083 1476.65 L758.083 1472.72 Q760.745 1469.96 765.328 1465.33 Q769.934 1460.68 771.115 1459.34 Q773.36 1456.81 774.24 1455.08 Q775.143 1453.32 775.143 1451.63 Q775.143 1448.87 773.198 1447.14 Q771.277 1445.4 768.175 1445.4 Q765.976 1445.4 763.522 1446.17 Q761.092 1446.93 758.314 1448.48 L758.314 1443.76 Q761.138 1442.62 763.592 1442.05 Q766.046 1441.47 768.083 1441.47 Q773.453 1441.47 776.647 1444.15 Q779.842 1446.84 779.842 1451.33 Q779.842 1453.46 779.032 1455.38 Q778.245 1457.28 776.138 1459.87 Q775.559 1460.54 772.458 1463.76 Q769.356 1466.95 763.708 1472.72 Z\" fill=\"#000000\" fill-rule=\"evenodd\" fill-opacity=\"1\" /><path clip-path=\"url(#clip060)\" d=\"M 0 0 M785.143 1442.09 L803.499 1442.09 L803.499 1446.03 L789.425 1446.03 L789.425 1454.5 Q790.444 1454.15 791.462 1453.99 Q792.481 1453.8 793.499 1453.8 Q799.286 1453.8 802.666 1456.98 Q806.045 1460.15 806.045 1465.56 Q806.045 1471.14 802.573 1474.24 Q799.101 1477.32 792.781 1477.32 Q790.606 1477.32 788.337 1476.95 Q786.092 1476.58 783.684 1475.84 L783.684 1471.14 Q785.768 1472.28 787.99 1472.83 Q790.212 1473.39 792.689 1473.39 Q796.694 1473.39 799.031 1471.28 Q801.369 1469.18 801.369 1465.56 Q801.369 1461.95 799.031 1459.85 Q796.694 1457.74 792.689 1457.74 Q790.814 1457.74 788.939 1458.16 Q787.087 1458.57 785.143 1459.45 L785.143 1442.09 Z\" fill=\"#000000\" fill-rule=\"evenodd\" fill-opacity=\"1\" /><path clip-path=\"url(#clip060)\" d=\"M 0 0 M821.115 1445.17 Q817.504 1445.17 815.675 1448.74 Q813.869 1452.28 813.869 1459.41 Q813.869 1466.51 815.675 1470.08 Q817.504 1473.62 821.115 1473.62 Q824.749 1473.62 826.554 1470.08 Q828.383 1466.51 828.383 1459.41 Q828.383 1452.28 826.554 1448.74 Q824.749 1445.17 821.115 1445.17 M821.115 1441.47 Q826.925 1441.47 829.98 1446.07 Q833.059 1450.66 833.059 1459.41 Q833.059 1468.13 829.98 1472.74 Q826.925 1477.32 821.115 1477.32 Q815.305 1477.32 812.226 1472.74 Q809.17 1468.13 809.17 1459.41 Q809.17 1450.66 812.226 1446.07 Q815.305 1441.47 821.115 1441.47 Z\" fill=\"#000000\" fill-rule=\"evenodd\" fill-opacity=\"1\" /><path clip-path=\"url(#clip060)\" d=\"M 0 0 M1257.95 1442.09 L1276.31 1442.09 L1276.31 1446.03 L1262.23 1446.03 L1262.23 1454.5 Q1263.25 1454.15 1264.27 1453.99 Q1265.29 1453.8 1266.31 1453.8 Q1272.1 1453.8 1275.47 1456.98 Q1278.85 1460.15 1278.85 1465.56 Q1278.85 1471.14 1275.38 1474.24 Q1271.91 1477.32 1265.59 1477.32 Q1263.41 1477.32 1261.15 1476.95 Q1258.9 1476.58 1256.49 1475.84 L1256.49 1471.14 Q1258.58 1472.28 1260.8 1472.83 Q1263.02 1473.39 1265.5 1473.39 Q1269.5 1473.39 1271.84 1471.28 Q1274.18 1469.18 1274.18 1465.56 Q1274.18 1461.95 1271.84 1459.85 Q1269.5 1457.74 1265.5 1457.74 Q1263.62 1457.74 1261.75 1458.16 Q1259.9 1458.57 1257.95 1459.45 L1257.95 1442.09 Z\" fill=\"#000000\" fill-rule=\"evenodd\" fill-opacity=\"1\" /><path clip-path=\"url(#clip060)\" d=\"M 0 0 M1293.92 1445.17 Q1290.31 1445.17 1288.48 1448.74 Q1286.68 1452.28 1286.68 1459.41 Q1286.68 1466.51 1288.48 1470.08 Q1290.31 1473.62 1293.92 1473.62 Q1297.56 1473.62 1299.36 1470.08 Q1301.19 1466.51 1301.19 1459.41 Q1301.19 1452.28 1299.36 1448.74 Q1297.56 1445.17 1293.92 1445.17 M1293.92 1441.47 Q1299.73 1441.47 1302.79 1446.07 Q1305.87 1450.66 1305.87 1459.41 Q1305.87 1468.13 1302.79 1472.74 Q1299.73 1477.32 1293.92 1477.32 Q1288.11 1477.32 1285.04 1472.74 Q1281.98 1468.13 1281.98 1459.41 Q1281.98 1450.66 1285.04 1446.07 Q1288.11 1441.47 1293.92 1441.47 Z\" fill=\"#000000\" fill-rule=\"evenodd\" fill-opacity=\"1\" /><path clip-path=\"url(#clip060)\" d=\"M 0 0 M1320.94 1445.17 Q1317.33 1445.17 1315.5 1448.74 Q1313.69 1452.28 1313.69 1459.41 Q1313.69 1466.51 1315.5 1470.08 Q1317.33 1473.62 1320.94 1473.62 Q1324.57 1473.62 1326.38 1470.08 Q1328.21 1466.51 1328.21 1459.41 Q1328.21 1452.28 1326.38 1448.74 Q1324.57 1445.17 1320.94 1445.17 M1320.94 1441.47 Q1326.75 1441.47 1329.8 1446.07 Q1332.88 1450.66 1332.88 1459.41 Q1332.88 1468.13 1329.8 1472.74 Q1326.75 1477.32 1320.94 1477.32 Q1315.13 1477.32 1312.05 1472.74 Q1308.99 1468.13 1308.99 1459.41 Q1308.99 1450.66 1312.05 1446.07 Q1315.13 1441.47 1320.94 1441.47 Z\" fill=\"#000000\" fill-rule=\"evenodd\" fill-opacity=\"1\" /><path clip-path=\"url(#clip060)\" d=\"M 0 0 M1756.18 1442.09 L1778.4 1442.09 L1778.4 1444.08 L1765.85 1476.65 L1760.97 1476.65 L1772.77 1446.03 L1756.18 1446.03 L1756.18 1442.09 Z\" fill=\"#000000\" fill-rule=\"evenodd\" fill-opacity=\"1\" /><path clip-path=\"url(#clip060)\" d=\"M 0 0 M1783.52 1442.09 L1801.87 1442.09 L1801.87 1446.03 L1787.8 1446.03 L1787.8 1454.5 Q1788.82 1454.15 1789.83 1453.99 Q1790.85 1453.8 1791.87 1453.8 Q1797.66 1453.8 1801.04 1456.98 Q1804.42 1460.15 1804.42 1465.56 Q1804.42 1471.14 1800.95 1474.24 Q1797.47 1477.32 1791.15 1477.32 Q1788.98 1477.32 1786.71 1476.95 Q1784.46 1476.58 1782.06 1475.84 L1782.06 1471.14 Q1784.14 1472.28 1786.36 1472.83 Q1788.58 1473.39 1791.06 1473.39 Q1795.07 1473.39 1797.4 1471.28 Q1799.74 1469.18 1799.74 1465.56 Q1799.74 1461.95 1797.4 1459.85 Q1795.07 1457.74 1791.06 1457.74 Q1789.19 1457.74 1787.31 1458.16 Q1785.46 1458.57 1783.52 1459.45 L1783.52 1442.09 Z\" fill=\"#000000\" fill-rule=\"evenodd\" fill-opacity=\"1\" /><path clip-path=\"url(#clip060)\" d=\"M 0 0 M1819.49 1445.17 Q1815.88 1445.17 1814.05 1448.74 Q1812.24 1452.28 1812.24 1459.41 Q1812.24 1466.51 1814.05 1470.08 Q1815.88 1473.62 1819.49 1473.62 Q1823.12 1473.62 1824.93 1470.08 Q1826.76 1466.51 1826.76 1459.41 Q1826.76 1452.28 1824.93 1448.74 Q1823.12 1445.17 1819.49 1445.17 M1819.49 1441.47 Q1825.3 1441.47 1828.35 1446.07 Q1831.43 1450.66 1831.43 1459.41 Q1831.43 1468.13 1828.35 1472.74 Q1825.3 1477.32 1819.49 1477.32 Q1813.68 1477.32 1810.6 1472.74 Q1807.54 1468.13 1807.54 1459.41 Q1807.54 1450.66 1810.6 1446.07 Q1813.68 1441.47 1819.49 1441.47 Z\" fill=\"#000000\" fill-rule=\"evenodd\" fill-opacity=\"1\" /><path clip-path=\"url(#clip060)\" d=\"M 0 0 M2242.78 1472.72 L2250.42 1472.72 L2250.42 1446.35 L2242.11 1448.02 L2242.11 1443.76 L2250.38 1442.09 L2255.05 1442.09 L2255.05 1472.72 L2262.69 1472.72 L2262.69 1476.65 L2242.78 1476.65 L2242.78 1472.72 Z\" fill=\"#000000\" fill-rule=\"evenodd\" fill-opacity=\"1\" /><path clip-path=\"url(#clip060)\" d=\"M 0 0 M2277.76 1445.17 Q2274.15 1445.17 2272.32 1448.74 Q2270.51 1452.28 2270.51 1459.41 Q2270.51 1466.51 2272.32 1470.08 Q2274.15 1473.62 2277.76 1473.62 Q2281.39 1473.62 2283.2 1470.08 Q2285.03 1466.51 2285.03 1459.41 Q2285.03 1452.28 2283.2 1448.74 Q2281.39 1445.17 2277.76 1445.17 M2277.76 1441.47 Q2283.57 1441.47 2286.63 1446.07 Q2289.7 1450.66 2289.7 1459.41 Q2289.7 1468.13 2286.63 1472.74 Q2283.57 1477.32 2277.76 1477.32 Q2271.95 1477.32 2268.87 1472.74 Q2265.82 1468.13 2265.82 1459.41 Q2265.82 1450.66 2268.87 1446.07 Q2271.95 1441.47 2277.76 1441.47 Z\" fill=\"#000000\" fill-rule=\"evenodd\" fill-opacity=\"1\" /><path clip-path=\"url(#clip060)\" d=\"M 0 0 M2304.77 1445.17 Q2301.16 1445.17 2299.33 1448.74 Q2297.53 1452.28 2297.53 1459.41 Q2297.53 1466.51 2299.33 1470.08 Q2301.16 1473.62 2304.77 1473.62 Q2308.41 1473.62 2310.21 1470.08 Q2312.04 1466.51 2312.04 1459.41 Q2312.04 1452.28 2310.21 1448.74 Q2308.41 1445.17 2304.77 1445.17 M2304.77 1441.47 Q2310.58 1441.47 2313.64 1446.07 Q2316.72 1450.66 2316.72 1459.41 Q2316.72 1468.13 2313.64 1472.74 Q2310.58 1477.32 2304.77 1477.32 Q2298.96 1477.32 2295.88 1472.74 Q2292.83 1468.13 2292.83 1459.41 Q2292.83 1450.66 2295.88 1446.07 Q2298.96 1441.47 2304.77 1441.47 Z\" fill=\"#000000\" fill-rule=\"evenodd\" fill-opacity=\"1\" /><path clip-path=\"url(#clip060)\" d=\"M 0 0 M2331.79 1445.17 Q2328.18 1445.17 2326.35 1448.74 Q2324.54 1452.28 2324.54 1459.41 Q2324.54 1466.51 2326.35 1470.08 Q2328.18 1473.62 2331.79 1473.62 Q2335.42 1473.62 2337.23 1470.08 Q2339.06 1466.51 2339.06 1459.41 Q2339.06 1452.28 2337.23 1448.74 Q2335.42 1445.17 2331.79 1445.17 M2331.79 1441.47 Q2337.6 1441.47 2340.65 1446.07 Q2343.73 1450.66 2343.73 1459.41 Q2343.73 1468.13 2340.65 1472.74 Q2337.6 1477.32 2331.79 1477.32 Q2325.98 1477.32 2322.9 1472.74 Q2319.84 1468.13 2319.84 1459.41 Q2319.84 1450.66 2322.9 1446.07 Q2325.98 1441.47 2331.79 1441.47 Z\" fill=\"#000000\" fill-rule=\"evenodd\" fill-opacity=\"1\" /><path clip-path=\"url(#clip060)\" d=\"M 0 0 M138.205 1284.57 Q134.593 1284.57 132.765 1288.13 Q130.959 1291.67 130.959 1298.8 Q130.959 1305.91 132.765 1309.48 Q134.593 1313.02 138.205 1313.02 Q141.839 1313.02 143.644 1309.48 Q145.473 1305.91 145.473 1298.8 Q145.473 1291.67 143.644 1288.13 Q141.839 1284.57 138.205 1284.57 M138.205 1280.86 Q144.015 1280.86 147.07 1285.47 Q150.149 1290.05 150.149 1298.8 Q150.149 1307.53 147.07 1312.14 Q144.015 1316.72 138.205 1316.72 Q132.394 1316.72 129.316 1312.14 Q126.26 1307.53 126.26 1298.8 Q126.26 1290.05 129.316 1285.47 Q132.394 1280.86 138.205 1280.86 Z\" fill=\"#000000\" fill-rule=\"evenodd\" fill-opacity=\"1\" /><path clip-path=\"url(#clip060)\" d=\"M 0 0 M155.218 1310.17 L160.103 1310.17 L160.103 1316.05 L155.218 1316.05 L155.218 1310.17 Z\" fill=\"#000000\" fill-rule=\"evenodd\" fill-opacity=\"1\" /><path clip-path=\"url(#clip060)\" d=\"M 0 0 M178.019 1285.56 L166.214 1304.01 L178.019 1304.01 L178.019 1285.56 M176.792 1281.49 L182.672 1281.49 L182.672 1304.01 L187.602 1304.01 L187.602 1307.9 L182.672 1307.9 L182.672 1316.05 L178.019 1316.05 L178.019 1307.9 L162.417 1307.9 L162.417 1303.39 L176.792 1281.49 Z\" fill=\"#000000\" fill-rule=\"evenodd\" fill-opacity=\"1\" /><path clip-path=\"url(#clip060)\" d=\"M 0 0 M202.672 1284.57 Q199.061 1284.57 197.232 1288.13 Q195.426 1291.67 195.426 1298.8 Q195.426 1305.91 197.232 1309.48 Q199.061 1313.02 202.672 1313.02 Q206.306 1313.02 208.112 1309.48 Q209.94 1305.91 209.94 1298.8 Q209.94 1291.67 208.112 1288.13 Q206.306 1284.57 202.672 1284.57 M202.672 1280.86 Q208.482 1280.86 211.537 1285.47 Q214.616 1290.05 214.616 1298.8 Q214.616 1307.53 211.537 1312.14 Q208.482 1316.72 202.672 1316.72 Q196.862 1316.72 193.783 1312.14 Q190.727 1307.53 190.727 1298.8 Q190.727 1290.05 193.783 1285.47 Q196.862 1280.86 202.672 1280.86 Z\" fill=\"#000000\" fill-rule=\"evenodd\" fill-opacity=\"1\" /><path clip-path=\"url(#clip060)\" d=\"M 0 0 M139.2 1104.98 Q135.589 1104.98 133.76 1108.55 Q131.955 1112.09 131.955 1119.22 Q131.955 1126.32 133.76 1129.89 Q135.589 1133.43 139.2 1133.43 Q142.834 1133.43 144.64 1129.89 Q146.468 1126.32 146.468 1119.22 Q146.468 1112.09 144.64 1108.55 Q142.834 1104.98 139.2 1104.98 M139.2 1101.28 Q145.01 1101.28 148.066 1105.89 Q151.144 1110.47 151.144 1119.22 Q151.144 1127.95 148.066 1132.55 Q145.01 1137.13 139.2 1137.13 Q133.39 1137.13 130.311 1132.55 Q127.256 1127.95 127.256 1119.22 Q127.256 1110.47 130.311 1105.89 Q133.39 1101.28 139.2 1101.28 Z\" fill=\"#000000\" fill-rule=\"evenodd\" fill-opacity=\"1\" /><path clip-path=\"url(#clip060)\" d=\"M 0 0 M156.214 1130.58 L161.098 1130.58 L161.098 1136.46 L156.214 1136.46 L156.214 1130.58 Z\" fill=\"#000000\" fill-rule=\"evenodd\" fill-opacity=\"1\" /><path clip-path=\"url(#clip060)\" d=\"M 0 0 M179.015 1105.98 L167.209 1124.43 L179.015 1124.43 L179.015 1105.98 M177.788 1101.9 L183.667 1101.9 L183.667 1124.43 L188.598 1124.43 L188.598 1128.32 L183.667 1128.32 L183.667 1136.46 L179.015 1136.46 L179.015 1128.32 L163.413 1128.32 L163.413 1123.8 L177.788 1101.9 Z\" fill=\"#000000\" fill-rule=\"evenodd\" fill-opacity=\"1\" /><path clip-path=\"url(#clip060)\" d=\"M 0 0 M193.713 1101.9 L212.07 1101.9 L212.07 1105.84 L197.996 1105.84 L197.996 1114.31 Q199.014 1113.96 200.033 1113.8 Q201.051 1113.62 202.07 1113.62 Q207.857 1113.62 211.237 1116.79 Q214.616 1119.96 214.616 1125.38 Q214.616 1130.95 211.144 1134.06 Q207.672 1137.13 201.352 1137.13 Q199.176 1137.13 196.908 1136.76 Q194.663 1136.39 192.255 1135.65 L192.255 1130.95 Q194.338 1132.09 196.561 1132.64 Q198.783 1133.2 201.26 1133.2 Q205.264 1133.2 207.602 1131.09 Q209.94 1128.99 209.94 1125.38 Q209.94 1121.76 207.602 1119.66 Q205.264 1117.55 201.26 1117.55 Q199.385 1117.55 197.51 1117.97 Q195.658 1118.39 193.713 1119.26 L193.713 1101.9 Z\" fill=\"#000000\" fill-rule=\"evenodd\" fill-opacity=\"1\" /><path clip-path=\"url(#clip060)\" d=\"M 0 0 M139.686 925.397 Q136.075 925.397 134.246 928.961 Q132.441 932.503 132.441 939.633 Q132.441 946.739 134.246 950.304 Q136.075 953.845 139.686 953.845 Q143.32 953.845 145.126 950.304 Q146.954 946.739 146.954 939.633 Q146.954 932.503 145.126 928.961 Q143.32 925.397 139.686 925.397 M139.686 921.693 Q145.496 921.693 148.552 926.299 Q151.63 930.883 151.63 939.633 Q151.63 948.359 148.552 952.966 Q145.496 957.549 139.686 957.549 Q133.876 957.549 130.797 952.966 Q127.742 948.359 127.742 939.633 Q127.742 930.883 130.797 926.299 Q133.876 921.693 139.686 921.693 Z\" fill=\"#000000\" fill-rule=\"evenodd\" fill-opacity=\"1\" /><path clip-path=\"url(#clip060)\" d=\"M 0 0 M156.7 950.998 L161.584 950.998 L161.584 956.878 L156.7 956.878 L156.7 950.998 Z\" fill=\"#000000\" fill-rule=\"evenodd\" fill-opacity=\"1\" /><path clip-path=\"url(#clip060)\" d=\"M 0 0 M166.7 922.318 L185.056 922.318 L185.056 926.253 L170.982 926.253 L170.982 934.725 Q172.001 934.378 173.019 934.216 Q174.038 934.031 175.056 934.031 Q180.843 934.031 184.223 937.202 Q187.602 940.373 187.602 945.79 Q187.602 951.369 184.13 954.47 Q180.658 957.549 174.339 957.549 Q172.163 957.549 169.894 957.179 Q167.649 956.808 165.241 956.068 L165.241 951.369 Q167.325 952.503 169.547 953.058 Q171.769 953.614 174.246 953.614 Q178.251 953.614 180.589 951.507 Q182.927 949.401 182.927 945.79 Q182.927 942.179 180.589 940.072 Q178.251 937.966 174.246 937.966 Q172.371 937.966 170.496 938.383 Q168.644 938.799 166.7 939.679 L166.7 922.318 Z\" fill=\"#000000\" fill-rule=\"evenodd\" fill-opacity=\"1\" /><path clip-path=\"url(#clip060)\" d=\"M 0 0 M202.672 925.397 Q199.061 925.397 197.232 928.961 Q195.426 932.503 195.426 939.633 Q195.426 946.739 197.232 950.304 Q199.061 953.845 202.672 953.845 Q206.306 953.845 208.112 950.304 Q209.94 946.739 209.94 939.633 Q209.94 932.503 208.112 928.961 Q206.306 925.397 202.672 925.397 M202.672 921.693 Q208.482 921.693 211.537 926.299 Q214.616 930.883 214.616 939.633 Q214.616 948.359 211.537 952.966 Q208.482 957.549 202.672 957.549 Q196.862 957.549 193.783 952.966 Q190.727 948.359 190.727 939.633 Q190.727 930.883 193.783 926.299 Q196.862 921.693 202.672 921.693 Z\" fill=\"#000000\" fill-rule=\"evenodd\" fill-opacity=\"1\" /><path clip-path=\"url(#clip060)\" d=\"M 0 0 M140.681 745.811 Q137.07 745.811 135.242 749.375 Q133.436 752.917 133.436 760.047 Q133.436 767.153 135.242 770.718 Q137.07 774.26 140.681 774.26 Q144.316 774.26 146.121 770.718 Q147.95 767.153 147.95 760.047 Q147.95 752.917 146.121 749.375 Q144.316 745.811 140.681 745.811 M140.681 742.107 Q146.492 742.107 149.547 746.713 Q152.626 751.297 152.626 760.047 Q152.626 768.773 149.547 773.38 Q146.492 777.963 140.681 777.963 Q134.871 777.963 131.793 773.38 Q128.737 768.773 128.737 760.047 Q128.737 751.297 131.793 746.713 Q134.871 742.107 140.681 742.107 Z\" fill=\"#000000\" fill-rule=\"evenodd\" fill-opacity=\"1\" /><path clip-path=\"url(#clip060)\" d=\"M 0 0 M157.695 771.412 L162.579 771.412 L162.579 777.292 L157.695 777.292 L157.695 771.412 Z\" fill=\"#000000\" fill-rule=\"evenodd\" fill-opacity=\"1\" /><path clip-path=\"url(#clip060)\" d=\"M 0 0 M167.695 742.732 L186.052 742.732 L186.052 746.667 L171.978 746.667 L171.978 755.139 Q172.996 754.792 174.015 754.63 Q175.033 754.445 176.052 754.445 Q181.839 754.445 185.218 757.616 Q188.598 760.787 188.598 766.204 Q188.598 771.783 185.126 774.885 Q181.653 777.963 175.334 777.963 Q173.158 777.963 170.89 777.593 Q168.644 777.222 166.237 776.482 L166.237 771.783 Q168.32 772.917 170.542 773.473 Q172.765 774.028 175.241 774.028 Q179.246 774.028 181.584 771.922 Q183.922 769.815 183.922 766.204 Q183.922 762.593 181.584 760.486 Q179.246 758.38 175.241 758.38 Q173.366 758.38 171.491 758.797 Q169.64 759.213 167.695 760.093 L167.695 742.732 Z\" fill=\"#000000\" fill-rule=\"evenodd\" fill-opacity=\"1\" /><path clip-path=\"url(#clip060)\" d=\"M 0 0 M193.713 742.732 L212.07 742.732 L212.07 746.667 L197.996 746.667 L197.996 755.139 Q199.014 754.792 200.033 754.63 Q201.051 754.445 202.07 754.445 Q207.857 754.445 211.237 757.616 Q214.616 760.787 214.616 766.204 Q214.616 771.783 211.144 774.885 Q207.672 777.963 201.352 777.963 Q199.176 777.963 196.908 777.593 Q194.663 777.222 192.255 776.482 L192.255 771.783 Q194.338 772.917 196.561 773.473 Q198.783 774.028 201.26 774.028 Q205.264 774.028 207.602 771.922 Q209.94 769.815 209.94 766.204 Q209.94 762.593 207.602 760.486 Q205.264 758.38 201.26 758.38 Q199.385 758.38 197.51 758.797 Q195.658 759.213 193.713 760.093 L193.713 742.732 Z\" fill=\"#000000\" fill-rule=\"evenodd\" fill-opacity=\"1\" /><path clip-path=\"url(#clip060)\" d=\"M 0 0 M138.529 566.225 Q134.918 566.225 133.089 569.79 Q131.283 573.331 131.283 580.461 Q131.283 587.567 133.089 591.132 Q134.918 594.674 138.529 594.674 Q142.163 594.674 143.968 591.132 Q145.797 587.567 145.797 580.461 Q145.797 573.331 143.968 569.79 Q142.163 566.225 138.529 566.225 M138.529 562.521 Q144.339 562.521 147.394 567.128 Q150.473 571.711 150.473 580.461 Q150.473 589.188 147.394 593.794 Q144.339 598.377 138.529 598.377 Q132.718 598.377 129.64 593.794 Q126.584 589.188 126.584 580.461 Q126.584 571.711 129.64 567.128 Q132.718 562.521 138.529 562.521 Z\" fill=\"#000000\" fill-rule=\"evenodd\" fill-opacity=\"1\" /><path clip-path=\"url(#clip060)\" d=\"M 0 0 M155.542 591.826 L160.427 591.826 L160.427 597.706 L155.542 597.706 L155.542 591.826 Z\" fill=\"#000000\" fill-rule=\"evenodd\" fill-opacity=\"1\" /><path clip-path=\"url(#clip060)\" d=\"M 0 0 M176.075 578.563 Q172.927 578.563 171.075 580.715 Q169.246 582.868 169.246 586.618 Q169.246 590.345 171.075 592.521 Q172.927 594.674 176.075 594.674 Q179.223 594.674 181.052 592.521 Q182.903 590.345 182.903 586.618 Q182.903 582.868 181.052 580.715 Q179.223 578.563 176.075 578.563 M185.357 563.91 L185.357 568.169 Q183.598 567.336 181.792 566.896 Q180.01 566.456 178.251 566.456 Q173.621 566.456 171.167 569.581 Q168.737 572.706 168.39 579.026 Q169.755 577.012 171.815 575.947 Q173.876 574.859 176.352 574.859 Q181.561 574.859 184.57 578.03 Q187.602 581.178 187.602 586.618 Q187.602 591.942 184.454 595.16 Q181.306 598.377 176.075 598.377 Q170.079 598.377 166.908 593.794 Q163.737 589.188 163.737 580.461 Q163.737 572.266 167.626 567.405 Q171.515 562.521 178.065 562.521 Q179.825 562.521 181.607 562.868 Q183.413 563.215 185.357 563.91 Z\" fill=\"#000000\" fill-rule=\"evenodd\" fill-opacity=\"1\" /><path clip-path=\"url(#clip060)\" d=\"M 0 0 M202.672 566.225 Q199.061 566.225 197.232 569.79 Q195.426 573.331 195.426 580.461 Q195.426 587.567 197.232 591.132 Q199.061 594.674 202.672 594.674 Q206.306 594.674 208.112 591.132 Q209.94 587.567 209.94 580.461 Q209.94 573.331 208.112 569.79 Q206.306 566.225 202.672 566.225 M202.672 562.521 Q208.482 562.521 211.537 567.128 Q214.616 571.711 214.616 580.461 Q214.616 589.188 211.537 593.794 Q208.482 598.377 202.672 598.377 Q196.862 598.377 193.783 593.794 Q190.727 589.188 190.727 580.461 Q190.727 571.711 193.783 567.128 Q196.862 562.521 202.672 562.521 Z\" fill=\"#000000\" fill-rule=\"evenodd\" fill-opacity=\"1\" /><path clip-path=\"url(#clip060)\" d=\"M 0 0 M139.524 386.639 Q135.913 386.639 134.084 390.204 Q132.279 393.745 132.279 400.875 Q132.279 407.981 134.084 411.546 Q135.913 415.088 139.524 415.088 Q143.158 415.088 144.964 411.546 Q146.792 407.981 146.792 400.875 Q146.792 393.745 144.964 390.204 Q143.158 386.639 139.524 386.639 M139.524 382.935 Q145.334 382.935 148.39 387.542 Q151.468 392.125 151.468 400.875 Q151.468 409.602 148.39 414.208 Q145.334 418.791 139.524 418.791 Q133.714 418.791 130.635 414.208 Q127.58 409.602 127.58 400.875 Q127.58 392.125 130.635 387.542 Q133.714 382.935 139.524 382.935 Z\" fill=\"#000000\" fill-rule=\"evenodd\" fill-opacity=\"1\" /><path clip-path=\"url(#clip060)\" d=\"M 0 0 M156.538 412.241 L161.422 412.241 L161.422 418.12 L156.538 418.12 L156.538 412.241 Z\" fill=\"#000000\" fill-rule=\"evenodd\" fill-opacity=\"1\" /><path clip-path=\"url(#clip060)\" d=\"M 0 0 M177.07 398.977 Q173.922 398.977 172.07 401.13 Q170.241 403.282 170.241 407.032 Q170.241 410.759 172.07 412.935 Q173.922 415.088 177.07 415.088 Q180.218 415.088 182.047 412.935 Q183.899 410.759 183.899 407.032 Q183.899 403.282 182.047 401.13 Q180.218 398.977 177.07 398.977 M186.352 384.324 L186.352 388.583 Q184.593 387.75 182.788 387.31 Q181.005 386.87 179.246 386.87 Q174.616 386.87 172.163 389.995 Q169.732 393.12 169.385 399.44 Q170.751 397.426 172.811 396.361 Q174.871 395.273 177.348 395.273 Q182.556 395.273 185.565 398.444 Q188.598 401.592 188.598 407.032 Q188.598 412.356 185.45 415.574 Q182.302 418.791 177.07 418.791 Q171.075 418.791 167.903 414.208 Q164.732 409.602 164.732 400.875 Q164.732 392.68 168.621 387.819 Q172.51 382.935 179.061 382.935 Q180.82 382.935 182.602 383.282 Q184.408 383.63 186.352 384.324 Z\" fill=\"#000000\" fill-rule=\"evenodd\" fill-opacity=\"1\" /><path clip-path=\"url(#clip060)\" d=\"M 0 0 M193.713 383.56 L212.07 383.56 L212.07 387.495 L197.996 387.495 L197.996 395.967 Q199.014 395.62 200.033 395.458 Q201.051 395.273 202.07 395.273 Q207.857 395.273 211.237 398.444 Q214.616 401.616 214.616 407.032 Q214.616 412.611 211.144 415.713 Q207.672 418.791 201.352 418.791 Q199.176 418.791 196.908 418.421 Q194.663 418.051 192.255 417.31 L192.255 412.611 Q194.338 413.745 196.561 414.301 Q198.783 414.856 201.26 414.856 Q205.264 414.856 207.602 412.75 Q209.94 410.643 209.94 407.032 Q209.94 403.421 207.602 401.315 Q205.264 399.208 201.26 399.208 Q199.385 399.208 197.51 399.625 Q195.658 400.042 193.713 400.921 L193.713 383.56 Z\" fill=\"#000000\" fill-rule=\"evenodd\" fill-opacity=\"1\" /><path clip-path=\"url(#clip060)\" d=\"M 0 0 M139.593 207.053 Q135.982 207.053 134.154 210.618 Q132.348 214.159 132.348 221.289 Q132.348 228.395 134.154 231.96 Q135.982 235.502 139.593 235.502 Q143.228 235.502 145.033 231.96 Q146.862 228.395 146.862 221.289 Q146.862 214.159 145.033 210.618 Q143.228 207.053 139.593 207.053 M139.593 203.349 Q145.404 203.349 148.459 207.956 Q151.538 212.539 151.538 221.289 Q151.538 230.016 148.459 234.622 Q145.404 239.206 139.593 239.206 Q133.783 239.206 130.705 234.622 Q127.649 230.016 127.649 221.289 Q127.649 212.539 130.705 207.956 Q133.783 203.349 139.593 203.349 Z\" fill=\"#000000\" fill-rule=\"evenodd\" fill-opacity=\"1\" /><path clip-path=\"url(#clip060)\" d=\"M 0 0 M156.607 232.655 L161.491 232.655 L161.491 238.534 L156.607 238.534 L156.607 232.655 Z\" fill=\"#000000\" fill-rule=\"evenodd\" fill-opacity=\"1\" /><path clip-path=\"url(#clip060)\" d=\"M 0 0 M165.38 203.974 L187.602 203.974 L187.602 205.965 L175.056 238.534 L170.172 238.534 L181.977 207.909 L165.38 207.909 L165.38 203.974 Z\" fill=\"#000000\" fill-rule=\"evenodd\" fill-opacity=\"1\" /><path clip-path=\"url(#clip060)\" d=\"M 0 0 M202.672 207.053 Q199.061 207.053 197.232 210.618 Q195.426 214.159 195.426 221.289 Q195.426 228.395 197.232 231.96 Q199.061 235.502 202.672 235.502 Q206.306 235.502 208.112 231.96 Q209.94 228.395 209.94 221.289 Q209.94 214.159 208.112 210.618 Q206.306 207.053 202.672 207.053 M202.672 203.349 Q208.482 203.349 211.537 207.956 Q214.616 212.539 214.616 221.289 Q214.616 230.016 211.537 234.622 Q208.482 239.206 202.672 239.206 Q196.862 239.206 193.783 234.622 Q190.727 230.016 190.727 221.289 Q190.727 212.539 193.783 207.956 Q196.862 203.349 202.672 203.349 Z\" fill=\"#000000\" fill-rule=\"evenodd\" fill-opacity=\"1\" /><path clip-path=\"url(#clip060)\" d=\"M 0 0 M1225.97 1536.76 L1225.97 1539.62 L1199.04 1539.62 Q1199.42 1545.67 1202.67 1548.85 Q1205.95 1552 1211.77 1552 Q1215.14 1552 1218.29 1551.17 Q1221.48 1550.35 1224.6 1548.69 L1224.6 1554.23 Q1221.45 1555.57 1218.14 1556.27 Q1214.83 1556.97 1211.42 1556.97 Q1202.89 1556.97 1197.89 1552 Q1192.93 1547.04 1192.93 1538.57 Q1192.93 1529.82 1197.64 1524.69 Q1202.38 1519.54 1210.4 1519.54 Q1217.59 1519.54 1221.76 1524.18 Q1225.97 1528.8 1225.97 1536.76 M1220.11 1535.04 Q1220.05 1530.23 1217.4 1527.37 Q1214.79 1524.5 1210.47 1524.5 Q1205.56 1524.5 1202.6 1527.27 Q1199.68 1530.04 1199.23 1535.07 L1220.11 1535.04 Z\" fill=\"#000000\" fill-rule=\"evenodd\" fill-opacity=\"1\" /><path clip-path=\"url(#clip060)\" d=\"M 0 0 M1237.77 1550.7 L1237.77 1569.6 L1231.89 1569.6 L1231.89 1520.4 L1237.77 1520.4 L1237.77 1525.81 Q1239.62 1522.62 1242.42 1521.1 Q1245.25 1519.54 1249.17 1519.54 Q1255.66 1519.54 1259.7 1524.69 Q1263.78 1529.85 1263.78 1538.25 Q1263.78 1546.65 1259.7 1551.81 Q1255.66 1556.97 1249.17 1556.97 Q1245.25 1556.97 1242.42 1555.44 Q1239.62 1553.88 1237.77 1550.7 M1257.7 1538.25 Q1257.7 1531.79 1255.03 1528.13 Q1252.38 1524.44 1247.74 1524.44 Q1243.09 1524.44 1240.42 1528.13 Q1237.77 1531.79 1237.77 1538.25 Q1237.77 1544.71 1240.42 1548.4 Q1243.09 1552.07 1247.74 1552.07 Q1252.38 1552.07 1255.03 1548.4 Q1257.7 1544.71 1257.7 1538.25 Z\" fill=\"#000000\" fill-rule=\"evenodd\" fill-opacity=\"1\" /><path clip-path=\"url(#clip060)\" d=\"M 0 0 M1283.73 1524.5 Q1279.02 1524.5 1276.29 1528.19 Q1273.55 1531.85 1273.55 1538.25 Q1273.55 1544.65 1276.25 1548.34 Q1278.99 1552 1283.73 1552 Q1288.41 1552 1291.15 1548.31 Q1293.89 1544.62 1293.89 1538.25 Q1293.89 1531.92 1291.15 1528.23 Q1288.41 1524.5 1283.73 1524.5 M1283.73 1519.54 Q1291.37 1519.54 1295.73 1524.5 Q1300.09 1529.47 1300.09 1538.25 Q1300.09 1547 1295.73 1552 Q1291.37 1556.97 1283.73 1556.97 Q1276.06 1556.97 1271.7 1552 Q1267.37 1547 1267.37 1538.25 Q1267.37 1529.47 1271.7 1524.5 Q1276.06 1519.54 1283.73 1519.54 Z\" fill=\"#000000\" fill-rule=\"evenodd\" fill-opacity=\"1\" /><path clip-path=\"url(#clip060)\" d=\"M 0 0 M1331.89 1521.76 L1331.89 1527.24 Q1329.41 1525.87 1326.89 1525.2 Q1324.41 1524.5 1321.87 1524.5 Q1316.17 1524.5 1313.02 1528.13 Q1309.87 1531.73 1309.87 1538.25 Q1309.87 1544.78 1313.02 1548.4 Q1316.17 1552 1321.87 1552 Q1324.41 1552 1326.89 1551.33 Q1329.41 1550.63 1331.89 1549.26 L1331.89 1554.68 Q1329.44 1555.82 1326.8 1556.39 Q1324.19 1556.97 1321.23 1556.97 Q1313.18 1556.97 1308.43 1551.91 Q1303.69 1546.85 1303.69 1538.25 Q1303.69 1529.53 1308.47 1524.53 Q1313.27 1519.54 1321.61 1519.54 Q1324.32 1519.54 1326.89 1520.11 Q1329.47 1520.65 1331.89 1521.76 Z\" fill=\"#000000\" fill-rule=\"evenodd\" fill-opacity=\"1\" /><path clip-path=\"url(#clip060)\" d=\"M 0 0 M1367.67 1534.53 L1367.67 1556.04 L1361.81 1556.04 L1361.81 1534.72 Q1361.81 1529.66 1359.84 1527.14 Q1357.86 1524.63 1353.92 1524.63 Q1349.17 1524.63 1346.44 1527.65 Q1343.7 1530.68 1343.7 1535.9 L1343.7 1556.04 L1337.81 1556.04 L1337.81 1506.52 L1343.7 1506.52 L1343.7 1525.93 Q1345.8 1522.72 1348.63 1521.13 Q1351.5 1519.54 1355.22 1519.54 Q1361.36 1519.54 1364.52 1523.36 Q1367.67 1527.14 1367.67 1534.53 Z\" fill=\"#000000\" fill-rule=\"evenodd\" fill-opacity=\"1\" /><path clip-path=\"url(#clip060)\" d=\"M 0 0 M1396.53 1521.45 L1396.53 1526.98 Q1394.05 1525.71 1391.38 1525.07 Q1388.7 1524.44 1385.84 1524.44 Q1381.48 1524.44 1379.28 1525.77 Q1377.12 1527.11 1377.12 1529.79 Q1377.12 1531.82 1378.68 1533 Q1380.24 1534.15 1384.95 1535.2 L1386.95 1535.64 Q1393.19 1536.98 1395.8 1539.43 Q1398.44 1541.85 1398.44 1546.21 Q1398.44 1551.17 1394.5 1554.07 Q1390.58 1556.97 1383.71 1556.97 Q1380.84 1556.97 1377.72 1556.39 Q1374.64 1555.85 1371.2 1554.74 L1371.2 1548.69 Q1374.45 1550.38 1377.6 1551.24 Q1380.75 1552.07 1383.84 1552.07 Q1387.97 1552.07 1390.2 1550.66 Q1392.43 1549.23 1392.43 1546.65 Q1392.43 1544.27 1390.81 1542.99 Q1389.21 1541.72 1383.77 1540.54 L1381.73 1540.07 Q1376.29 1538.92 1373.87 1536.56 Q1371.45 1534.18 1371.45 1530.04 Q1371.45 1525.01 1375.02 1522.27 Q1378.58 1519.54 1385.14 1519.54 Q1388.39 1519.54 1391.25 1520.01 Q1394.12 1520.49 1396.53 1521.45 Z\" fill=\"#000000\" fill-rule=\"evenodd\" fill-opacity=\"1\" /><path clip-path=\"url(#clip060)\" d=\"M 0 0 M44.1444 904.492 L50.9239 904.492 Q47.9002 907.739 46.4043 911.431 Q44.9083 915.091 44.9083 919.229 Q44.9083 927.377 49.9054 931.705 Q54.8707 936.034 64.2919 936.034 Q73.6813 936.034 78.6784 931.705 Q83.6436 927.377 83.6436 919.229 Q83.6436 915.091 82.1477 911.431 Q80.6518 907.739 77.6281 904.492 L84.3439 904.492 Q86.6355 907.866 87.7814 911.653 Q88.9272 915.409 88.9272 919.611 Q88.9272 930.4 82.3387 936.607 Q75.7183 942.814 64.2919 942.814 Q52.8336 942.814 46.2451 936.607 Q39.6248 930.4 39.6248 919.611 Q39.6248 915.346 40.7706 911.59 Q41.8846 907.802 44.1444 904.492 Z\" fill=\"#000000\" fill-rule=\"evenodd\" fill-opacity=\"1\" /><path clip-path=\"url(#clip060)\" d=\"M 0 0 M57.8307 877.692 Q57.2578 878.679 57.0032 879.857 Q56.7167 881.003 56.7167 882.403 Q56.7167 887.368 59.9632 890.042 Q63.1779 892.684 69.2253 892.684 L88.0042 892.684 L88.0042 898.572 L52.3562 898.572 L52.3562 892.684 L57.8944 892.684 Q54.6479 890.838 53.0883 887.878 Q51.4968 884.917 51.4968 880.684 Q51.4968 880.08 51.5923 879.347 Q51.656 878.615 51.8151 877.724 L57.8307 877.692 Z\" fill=\"#000000\" fill-rule=\"evenodd\" fill-opacity=\"1\" /><path clip-path=\"url(#clip060)\" d=\"M 0 0 M56.4621 859.168 Q56.4621 863.879 60.1542 866.616 Q63.8145 869.353 70.212 869.353 Q76.6095 869.353 80.3017 866.648 Q83.9619 863.911 83.9619 859.168 Q83.9619 854.489 80.2698 851.752 Q76.5777 849.015 70.212 849.015 Q63.8781 849.015 60.186 851.752 Q56.4621 854.489 56.4621 859.168 M51.4968 859.168 Q51.4968 851.529 56.4621 847.169 Q61.4273 842.808 70.212 842.808 Q78.9649 842.808 83.9619 847.169 Q88.9272 851.529 88.9272 859.168 Q88.9272 866.839 83.9619 871.199 Q78.9649 875.528 70.212 875.528 Q61.4273 875.528 56.4621 871.199 Q51.4968 866.839 51.4968 859.168 Z\" fill=\"#000000\" fill-rule=\"evenodd\" fill-opacity=\"1\" /><path clip-path=\"url(#clip060)\" d=\"M 0 0 M53.4065 813.94 L58.9447 813.94 Q57.6716 816.422 57.035 819.096 Q56.3984 821.77 56.3984 824.634 Q56.3984 828.995 57.7352 831.191 Q59.072 833.355 61.7456 833.355 Q63.7826 833.355 64.9603 831.796 Q66.1061 830.236 67.1565 825.525 L67.6021 823.52 Q68.9389 817.282 71.3897 814.672 Q73.8086 812.03 78.1691 812.03 Q83.1344 812.03 86.0308 815.977 Q88.9272 819.892 88.9272 826.767 Q88.9272 829.631 88.3543 832.751 Q87.8132 835.838 86.6992 839.275 L80.6518 839.275 Q82.3387 836.029 83.198 832.878 Q84.0256 829.727 84.0256 826.639 Q84.0256 822.502 82.6251 820.274 Q81.1929 818.046 78.6147 818.046 Q76.2276 818.046 74.9545 819.669 Q73.6813 821.26 72.5037 826.703 L72.0262 828.74 Q70.8804 834.183 68.5251 836.602 Q66.138 839.021 62.0002 839.021 Q56.9713 839.021 54.2341 835.456 Q51.4968 831.891 51.4968 825.334 Q51.4968 822.088 51.9743 819.223 Q52.4517 816.359 53.4065 813.94 Z\" fill=\"#000000\" fill-rule=\"evenodd\" fill-opacity=\"1\" /><path clip-path=\"url(#clip060)\" d=\"M 0 0 M53.4065 783.162 L58.9447 783.162 Q57.6716 785.644 57.035 788.318 Q56.3984 790.991 56.3984 793.856 Q56.3984 798.217 57.7352 800.413 Q59.072 802.577 61.7456 802.577 Q63.7826 802.577 64.9603 801.017 Q66.1061 799.458 67.1565 794.747 L67.6021 792.742 Q68.9389 786.504 71.3897 783.894 Q73.8086 781.252 78.1691 781.252 Q83.1344 781.252 86.0308 785.199 Q88.9272 789.114 88.9272 795.989 Q88.9272 798.853 88.3543 801.972 Q87.8132 805.06 86.6992 808.497 L80.6518 808.497 Q82.3387 805.251 83.198 802.1 Q84.0256 798.949 84.0256 795.861 Q84.0256 791.724 82.6251 789.496 Q81.1929 787.268 78.6147 787.268 Q76.2276 787.268 74.9545 788.891 Q73.6813 790.482 72.5037 795.925 L72.0262 797.962 Q70.8804 803.405 68.5251 805.824 Q66.138 808.243 62.0002 808.243 Q56.9713 808.243 54.2341 804.678 Q51.4968 801.113 51.4968 794.556 Q51.4968 791.31 51.9743 788.445 Q52.4517 785.581 53.4065 783.162 Z\" fill=\"#000000\" fill-rule=\"evenodd\" fill-opacity=\"1\" /><path clip-path=\"url(#clip060)\" d=\"M 0 0 M40.4842 754.134 L40.4842 724.088 L45.895 724.088 L45.895 747.705 L59.9632 747.705 L59.9632 725.075 L65.3741 725.075 L65.3741 747.705 L82.5933 747.705 L82.5933 723.515 L88.0042 723.515 L88.0042 754.134 L40.4842 754.134 Z\" fill=\"#000000\" fill-rule=\"evenodd\" fill-opacity=\"1\" /><path clip-path=\"url(#clip060)\" d=\"M 0 0 M66.4881 687.74 L88.0042 687.74 L88.0042 693.596 L66.679 693.596 Q61.6183 693.596 59.1038 695.57 Q56.5894 697.543 56.5894 701.49 Q56.5894 706.232 59.6131 708.969 Q62.6368 711.707 67.8567 711.707 L88.0042 711.707 L88.0042 717.595 L52.3562 717.595 L52.3562 711.707 L57.8944 711.707 Q54.6797 709.606 53.0883 706.773 Q51.4968 703.909 51.4968 700.185 Q51.4968 694.042 55.3163 690.891 Q59.1038 687.74 66.4881 687.74 Z\" fill=\"#000000\" fill-rule=\"evenodd\" fill-opacity=\"1\" /><path clip-path=\"url(#clip060)\" d=\"M 0 0 M42.2347 675.804 L52.3562 675.804 L52.3562 663.741 L56.9077 663.741 L56.9077 675.804 L76.2594 675.804 Q80.6199 675.804 81.8613 674.626 Q83.1026 673.417 83.1026 669.757 L83.1026 663.741 L88.0042 663.741 L88.0042 669.757 Q88.0042 676.536 85.4897 679.114 Q82.9434 681.692 76.2594 681.692 L56.9077 681.692 L56.9077 685.989 L52.3562 685.989 L52.3562 681.692 L42.2347 681.692 L42.2347 675.804 Z\" fill=\"#000000\" fill-rule=\"evenodd\" fill-opacity=\"1\" /><path clip-path=\"url(#clip060)\" d=\"M 0 0 M57.8307 636.941 Q57.2578 637.928 57.0032 639.106 Q56.7167 640.252 56.7167 641.652 Q56.7167 646.617 59.9632 649.291 Q63.1779 651.933 69.2253 651.933 L88.0042 651.933 L88.0042 657.821 L52.3562 657.821 L52.3562 651.933 L57.8944 651.933 Q54.6479 650.087 53.0883 647.127 Q51.4968 644.166 51.4968 639.933 Q51.4968 639.329 51.5923 638.596 Q51.656 637.864 51.8151 636.973 L57.8307 636.941 Z\" fill=\"#000000\" fill-rule=\"evenodd\" fill-opacity=\"1\" /><path clip-path=\"url(#clip060)\" d=\"M 0 0 M56.4621 618.417 Q56.4621 623.128 60.1542 625.865 Q63.8145 628.602 70.212 628.602 Q76.6095 628.602 80.3017 625.897 Q83.9619 623.16 83.9619 618.417 Q83.9619 613.738 80.2698 611.001 Q76.5777 608.264 70.212 608.264 Q63.8781 608.264 60.186 611.001 Q56.4621 613.738 56.4621 618.417 M51.4968 618.417 Q51.4968 610.778 56.4621 606.418 Q61.4273 602.057 70.212 602.057 Q78.9649 602.057 83.9619 606.418 Q88.9272 610.778 88.9272 618.417 Q88.9272 626.088 83.9619 630.448 Q78.9649 634.777 70.212 634.777 Q61.4273 634.777 56.4621 630.448 Q51.4968 626.088 51.4968 618.417 Z\" fill=\"#000000\" fill-rule=\"evenodd\" fill-opacity=\"1\" /><path clip-path=\"url(#clip060)\" d=\"M 0 0 M82.657 590.249 L101.563 590.249 L101.563 596.137 L52.3562 596.137 L52.3562 590.249 L57.7671 590.249 Q54.5842 588.403 53.0564 585.602 Q51.4968 582.769 51.4968 578.854 Q51.4968 572.361 56.6531 568.319 Q61.8093 564.245 70.212 564.245 Q78.6147 564.245 83.771 568.319 Q88.9272 572.361 88.9272 578.854 Q88.9272 582.769 87.3994 585.602 Q85.8398 588.403 82.657 590.249 M70.212 570.324 Q63.7508 570.324 60.0905 572.998 Q56.3984 575.64 56.3984 580.287 Q56.3984 584.934 60.0905 587.607 Q63.7508 590.249 70.212 590.249 Q76.6732 590.249 80.3653 587.607 Q84.0256 584.934 84.0256 580.287 Q84.0256 575.64 80.3653 572.998 Q76.6732 570.324 70.212 570.324 Z\" fill=\"#000000\" fill-rule=\"evenodd\" fill-opacity=\"1\" /><path clip-path=\"url(#clip060)\" d=\"M 0 0 M91.3143 543.27 Q97.68 545.753 99.6216 548.108 Q101.563 550.463 101.563 554.41 L101.563 559.089 L96.6615 559.089 L96.6615 555.651 Q96.6615 553.232 95.5157 551.896 Q94.3699 550.559 90.1048 548.935 L87.4312 547.885 L52.3562 562.303 L52.3562 556.097 L80.238 544.957 L52.3562 533.817 L52.3562 527.61 L91.3143 543.27 Z\" fill=\"#000000\" fill-rule=\"evenodd\" fill-opacity=\"1\" /><polyline clip-path=\"url(#clip062)\" style=\"stroke:#009af9; stroke-width:8; stroke-opacity:1; fill:none\" points=\"\n",
       "  298.45,162.731 300.447,327.566 302.443,446.231 304.44,525.866 306.436,581.998 308.433,624.977 310.429,660.257 312.426,690.561 314.422,717.273 316.419,741.143 \n",
       "  318.415,762.623 320.411,782.032 322.408,799.619 324.404,815.599 326.401,830.159 328.397,843.466 330.394,855.668 332.39,866.895 334.387,877.261 336.383,886.864 \n",
       "  338.38,895.793 340.376,904.121 342.373,911.913 344.369,919.229 346.366,926.116 348.362,932.62 350.358,938.78 352.355,944.628 354.351,950.196 356.348,955.511 \n",
       "  358.344,960.595 360.341,965.471 362.337,970.157 364.334,974.671 366.33,979.026 368.327,983.237 370.323,987.315 372.32,991.271 374.316,995.114 376.313,998.854 \n",
       "  378.309,1002.5 380.305,1006.05 382.302,1009.52 384.298,1012.91 386.295,1016.23 388.291,1019.48 390.288,1022.66 392.284,1025.78 394.281,1028.84 396.277,1031.85 \n",
       "  398.274,1034.8 400.27,1037.7 402.267,1040.55 404.263,1043.35 406.26,1046.1 408.256,1048.81 410.253,1051.47 412.249,1054.09 414.245,1056.67 416.242,1059.21 \n",
       "  418.238,1061.7 420.235,1064.16 422.231,1066.57 424.228,1068.95 426.224,1071.29 428.221,1073.59 430.217,1075.86 432.214,1078.09 434.21,1080.28 436.207,1082.44 \n",
       "  438.203,1084.57 440.2,1086.66 442.196,1088.72 444.192,1090.74 446.189,1092.74 448.185,1094.7 450.182,1096.64 452.178,1098.54 454.175,1100.42 456.171,1102.26 \n",
       "  458.168,1104.08 460.164,1105.87 462.161,1107.64 464.157,1109.38 466.154,1111.09 468.15,1112.78 470.147,1114.44 472.143,1116.08 474.139,1117.7 476.136,1119.3 \n",
       "  478.132,1120.87 480.129,1122.42 482.125,1123.96 484.122,1125.47 486.118,1126.96 488.115,1128.43 490.111,1129.89 492.108,1131.33 494.104,1132.75 496.101,1134.15 \n",
       "  498.097,1135.53 500.094,1136.9 502.09,1138.25 504.087,1139.59 506.083,1140.91 508.079,1142.21 510.076,1143.5 512.072,1144.78 514.069,1146.03 516.065,1147.28 \n",
       "  518.062,1148.51 520.058,1149.72 522.055,1150.92 524.051,1152.11 526.048,1153.28 528.044,1154.44 530.041,1155.59 532.037,1156.72 534.034,1157.84 536.03,1158.94 \n",
       "  538.026,1160.04 540.023,1161.12 542.019,1162.19 544.016,1163.24 546.012,1164.29 548.009,1165.32 550.005,1166.34 552.002,1167.35 553.998,1168.35 555.995,1169.34 \n",
       "  557.991,1170.32 559.988,1171.29 561.984,1172.25 563.981,1173.2 565.977,1174.14 567.973,1175.06 569.97,1175.98 571.966,1176.9 573.963,1177.8 575.959,1178.69 \n",
       "  577.956,1179.58 579.952,1180.45 581.949,1181.32 583.945,1182.18 585.942,1183.03 587.938,1183.88 589.935,1184.72 591.931,1185.54 593.928,1186.37 595.924,1187.18 \n",
       "  597.92,1187.99 599.917,1188.79 601.913,1189.58 603.91,1190.36 605.906,1191.14 607.903,1191.91 609.899,1192.67 611.896,1193.43 613.892,1194.18 615.889,1194.92 \n",
       "  617.885,1195.65 619.882,1196.38 621.878,1197.1 623.875,1197.82 625.871,1198.53 627.868,1199.23 629.864,1199.92 631.86,1200.61 633.857,1201.29 635.853,1201.97 \n",
       "  637.85,1202.63 639.846,1203.29 641.843,1203.95 643.839,1204.6 645.836,1205.24 647.832,1205.87 649.829,1206.5 651.825,1207.12 653.822,1207.74 655.818,1208.35 \n",
       "  657.815,1208.95 659.811,1209.55 661.807,1210.14 663.804,1210.73 665.8,1211.3 667.797,1211.88 669.793,1212.44 671.79,1213.01 673.786,1213.56 675.783,1214.11 \n",
       "  677.779,1214.65 679.776,1215.19 681.772,1215.72 683.769,1216.25 685.765,1216.77 687.762,1217.29 689.758,1217.8 691.754,1218.3 693.751,1218.8 695.747,1219.3 \n",
       "  697.744,1219.79 699.74,1220.27 701.737,1220.75 703.733,1221.22 705.73,1221.69 707.726,1222.16 709.723,1222.62 711.719,1223.07 713.716,1223.52 715.712,1223.97 \n",
       "  717.709,1224.41 719.705,1224.84 721.702,1225.28 723.698,1225.7 725.694,1226.13 727.691,1226.55 729.687,1226.96 731.684,1227.37 733.68,1227.78 735.677,1228.18 \n",
       "  737.673,1228.58 739.67,1228.98 741.666,1229.37 743.663,1229.75 745.659,1230.14 747.656,1230.52 749.652,1230.89 751.649,1231.27 753.645,1231.64 755.641,1232 \n",
       "  757.638,1232.36 759.634,1232.72 761.631,1233.08 763.627,1233.43 765.624,1233.78 767.62,1234.12 769.617,1234.47 771.613,1234.81 773.61,1235.14 775.606,1235.48 \n",
       "  777.603,1235.81 779.599,1236.14 781.596,1236.46 783.592,1236.78 785.588,1237.1 787.585,1237.42 789.581,1237.73 791.578,1238.04 793.574,1238.35 795.571,1238.66 \n",
       "  797.567,1238.96 799.564,1239.26 801.56,1239.56 803.557,1239.86 805.553,1240.15 807.55,1240.44 809.546,1240.73 811.543,1241.02 813.539,1241.3 815.536,1241.59 \n",
       "  817.532,1241.87 819.528,1242.15 821.525,1242.42 823.521,1242.7 825.518,1242.97 827.514,1243.24 829.511,1243.51 831.507,1243.77 833.504,1244.04 835.5,1244.3 \n",
       "  837.497,1244.56 839.493,1244.82 841.49,1245.08 843.486,1245.33 845.483,1245.59 847.479,1245.84 849.475,1246.09 851.472,1246.34 853.468,1246.59 855.465,1246.83 \n",
       "  857.461,1247.08 859.458,1247.32 861.454,1247.56 863.451,1247.8 865.447,1248.04 867.444,1248.28 869.44,1248.51 871.437,1248.75 873.433,1248.98 875.43,1249.21 \n",
       "  877.426,1249.44 879.422,1249.67 881.419,1249.9 883.415,1250.12 885.412,1250.35 887.408,1250.57 889.405,1250.8 891.401,1251.02 893.398,1251.24 895.394,1251.46 \n",
       "  897.391,1251.68 899.387,1251.9 901.384,1252.11 903.38,1252.33 905.377,1252.54 907.373,1252.76 909.369,1252.97 911.366,1253.18 913.362,1253.4 915.359,1253.61 \n",
       "  917.355,1253.82 919.352,1254.03 921.348,1254.24 923.345,1254.44 925.341,1254.65 927.338,1254.86 929.334,1255.06 931.331,1255.27 933.327,1255.48 935.324,1255.68 \n",
       "  937.32,1255.89 939.317,1256.09 941.313,1256.29 943.309,1256.5 945.306,1256.7 947.302,1256.91 949.299,1257.11 951.295,1257.31 953.292,1257.52 955.288,1257.72 \n",
       "  957.285,1257.93 959.281,1258.13 961.278,1258.34 963.274,1258.54 965.271,1258.75 967.267,1258.96 969.264,1259.17 971.26,1259.38 973.256,1259.59 975.253,1259.81 \n",
       "  977.249,1260.03 979.246,1260.25 981.242,1260.47 983.239,1260.7 985.235,1260.93 987.232,1261.17 989.228,1261.42 991.225,1261.67 993.221,1261.94 995.218,1262.21 \n",
       "  997.214,1262.5 999.211,1262.8 1001.21,1263.12 1003.2,1263.45 1005.2,1263.8 1007.2,1264.18 1009.19,1264.56 1011.19,1264.96 1013.19,1265.36 1015.18,1265.76 \n",
       "  1017.18,1266.16 1019.18,1266.54 1021.17,1266.9 1023.17,1267.26 1025.16,1267.59 1027.16,1267.92 1029.16,1268.24 1031.15,1268.55 1033.15,1268.85 1035.15,1269.15 \n",
       "  1037.14,1269.44 1039.14,1269.74 1041.14,1270.03 1043.13,1270.32 1045.13,1270.6 1047.13,1270.89 1049.12,1271.18 1051.12,1271.46 1053.12,1271.75 1055.11,1272.04 \n",
       "  1057.11,1272.32 1059.1,1272.6 1061.1,1272.89 1063.1,1273.17 1065.09,1273.45 1067.09,1273.73 1069.09,1274.01 1071.08,1274.28 1073.08,1274.55 1075.08,1274.83 \n",
       "  1077.07,1275.09 1079.07,1275.36 1081.07,1275.62 1083.06,1275.89 1085.06,1276.14 1087.06,1276.4 1089.05,1276.65 1091.05,1276.9 1093.04,1277.15 1095.04,1277.4 \n",
       "  1097.04,1277.64 1099.03,1277.88 1101.03,1278.12 1103.03,1278.35 1105.02,1278.58 1107.02,1278.81 1109.02,1279.04 1111.01,1279.26 1113.01,1279.49 1115.01,1279.71 \n",
       "  1117,1279.92 1119,1280.14 1121,1280.36 1122.99,1280.57 1124.99,1280.78 1126.98,1280.99 1128.98,1281.2 1130.98,1281.4 1132.97,1281.61 1134.97,1281.81 \n",
       "  1136.97,1282.01 1138.96,1282.21 1140.96,1282.41 1142.96,1282.61 1144.95,1282.81 1146.95,1283 1148.95,1283.2 1150.94,1283.39 1152.94,1283.59 1154.94,1283.78 \n",
       "  1156.93,1283.97 1158.93,1284.16 1160.92,1284.35 1162.92,1284.54 1164.92,1284.73 1166.91,1284.92 1168.91,1285.11 1170.91,1285.3 1172.9,1285.48 1174.9,1285.67 \n",
       "  1176.9,1285.86 1178.89,1286.04 1180.89,1286.23 1182.89,1286.41 1184.88,1286.6 1186.88,1286.78 1188.88,1286.97 1190.87,1287.15 1192.87,1287.34 1194.86,1287.52 \n",
       "  1196.86,1287.7 1198.86,1287.89 1200.85,1288.07 1202.85,1288.25 1204.85,1288.44 1206.84,1288.62 1208.84,1288.8 1210.84,1288.99 1212.83,1289.17 1214.83,1289.35 \n",
       "  1216.83,1289.53 1218.82,1289.72 1220.82,1289.9 1222.81,1290.08 1224.81,1290.27 1226.81,1290.45 1228.8,1290.63 1230.8,1290.82 1232.8,1291 1234.79,1291.18 \n",
       "  1236.79,1291.37 1238.79,1291.55 1240.78,1291.74 1242.78,1291.92 1244.78,1292.1 1246.77,1292.29 1248.77,1292.47 1250.77,1292.66 1252.76,1292.84 1254.76,1293.02 \n",
       "  1256.75,1293.21 1258.75,1293.39 1260.75,1293.58 1262.74,1293.76 1264.74,1293.95 1266.74,1294.13 1268.73,1294.32 1270.73,1294.5 1272.73,1294.69 1274.72,1294.87 \n",
       "  1276.72,1295.06 1278.72,1295.24 1280.71,1295.42 1282.71,1295.61 1284.71,1295.79 1286.7,1295.98 1288.7,1296.16 1290.69,1296.35 1292.69,1296.53 1294.69,1296.71 \n",
       "  1296.68,1296.9 1298.68,1297.08 1300.68,1297.26 1302.67,1297.45 1304.67,1297.63 1306.67,1297.81 1308.66,1297.99 1310.66,1298.17 1312.66,1298.35 1314.65,1298.54 \n",
       "  1316.65,1298.72 1318.65,1298.9 1320.64,1299.08 1322.64,1299.26 1324.63,1299.44 1326.63,1299.62 1328.63,1299.79 1330.62,1299.97 1332.62,1300.15 1334.62,1300.33 \n",
       "  1336.61,1300.51 1338.61,1300.68 1340.61,1300.86 1342.6,1301.03 1344.6,1301.21 1346.6,1301.39 1348.59,1301.56 1350.59,1301.74 1352.59,1301.91 1354.58,1302.08 \n",
       "  1356.58,1302.26 1358.57,1302.43 1360.57,1302.6 1362.57,1302.78 1364.56,1302.95 1366.56,1303.12 1368.56,1303.29 1370.55,1303.46 1372.55,1303.64 1374.55,1303.81 \n",
       "  1376.54,1303.98 1378.54,1304.15 1380.54,1304.32 1382.53,1304.49 1384.53,1304.66 1386.53,1304.82 1388.52,1304.99 1390.52,1305.16 1392.51,1305.33 1394.51,1305.5 \n",
       "  1396.51,1305.67 1398.5,1305.83 1400.5,1306 1402.5,1306.17 1404.49,1306.33 1406.49,1306.5 1408.49,1306.67 1410.48,1306.83 1412.48,1307 1414.48,1307.17 \n",
       "  1416.47,1307.33 1418.47,1307.5 1420.47,1307.66 1422.46,1307.83 1424.46,1307.99 1426.45,1308.16 1428.45,1308.32 1430.45,1308.48 1432.44,1308.65 1434.44,1308.81 \n",
       "  1436.44,1308.98 1438.43,1309.14 1440.43,1309.3 1442.43,1309.47 1444.42,1309.63 1446.42,1309.79 1448.42,1309.96 1450.41,1310.12 1452.41,1310.28 1454.41,1310.44 \n",
       "  1456.4,1310.61 1458.4,1310.77 1460.39,1310.93 1462.39,1311.09 1464.39,1311.25 1466.38,1311.42 1468.38,1311.58 1470.38,1311.74 1472.37,1311.9 1474.37,1312.06 \n",
       "  1476.37,1312.22 1478.36,1312.39 1480.36,1312.55 1482.36,1312.71 1484.35,1312.87 1486.35,1313.03 1488.35,1313.19 1490.34,1313.35 1492.34,1313.51 1494.33,1313.67 \n",
       "  1496.33,1313.83 1498.33,1313.99 1500.32,1314.15 1502.32,1314.31 1504.32,1314.47 1506.31,1314.63 1508.31,1314.79 1510.31,1314.95 1512.3,1315.11 1514.3,1315.27 \n",
       "  1516.3,1315.43 1518.29,1315.59 1520.29,1315.75 1522.29,1315.91 1524.28,1316.07 1526.28,1316.23 1528.27,1316.39 1530.27,1316.55 1532.27,1316.71 1534.26,1316.87 \n",
       "  1536.26,1317.03 1538.26,1317.19 1540.25,1317.35 1542.25,1317.51 1544.25,1317.67 1546.24,1317.83 1548.24,1317.99 1550.24,1318.15 1552.23,1318.31 1554.23,1318.46 \n",
       "  1556.23,1318.62 1558.22,1318.78 1560.22,1318.94 1562.21,1319.1 1564.21,1319.26 1566.21,1319.42 1568.2,1319.58 1570.2,1319.74 1572.2,1319.91 1574.19,1320.07 \n",
       "  1576.19,1320.23 1578.19,1320.39 1580.18,1320.55 1582.18,1320.71 1584.18,1320.87 1586.17,1321.03 1588.17,1321.19 1590.17,1321.35 1592.16,1321.52 1594.16,1321.68 \n",
       "  1596.15,1321.84 1598.15,1322 1600.15,1322.17 1602.14,1322.33 1604.14,1322.49 1606.14,1322.66 1608.13,1322.82 1610.13,1322.98 1612.13,1323.15 1614.12,1323.31 \n",
       "  1616.12,1323.48 1618.12,1323.64 1620.11,1323.81 1622.11,1323.97 1624.11,1324.14 1626.1,1324.31 1628.1,1324.48 1630.09,1324.64 1632.09,1324.81 1634.09,1324.98 \n",
       "  1636.08,1325.15 1638.08,1325.32 1640.08,1325.49 1642.07,1325.66 1644.07,1325.84 1646.07,1326.01 1648.06,1326.18 1650.06,1326.36 1652.06,1326.53 1654.05,1326.71 \n",
       "  1656.05,1326.88 1658.04,1327.06 1660.04,1327.24 1662.04,1327.42 1664.03,1327.6 1666.03,1327.78 1668.03,1327.96 1670.02,1328.15 1672.02,1328.33 1674.02,1328.52 \n",
       "  1676.01,1328.71 1678.01,1328.89 1680.01,1329.08 1682,1329.27 1684,1329.46 1686,1329.66 1687.99,1329.85 1689.99,1330.05 1691.98,1330.24 1693.98,1330.44 \n",
       "  1695.98,1330.64 1697.97,1330.84 1699.97,1331.04 1701.97,1331.25 1703.96,1331.45 1705.96,1331.66 1707.96,1331.86 1709.95,1332.07 1711.95,1332.28 1713.95,1332.49 \n",
       "  1715.94,1332.7 1717.94,1332.92 1719.94,1333.13 1721.93,1333.34 1723.93,1333.56 1725.92,1333.77 1727.92,1333.99 1729.92,1334.21 1731.91,1334.43 1733.91,1334.64 \n",
       "  1735.91,1334.86 1737.9,1335.08 1739.9,1335.3 1741.9,1335.52 1743.89,1335.74 1745.89,1335.96 1747.89,1336.18 1749.88,1336.4 1751.88,1336.61 1753.88,1336.83 \n",
       "  1755.87,1337.05 1757.87,1337.27 1759.86,1337.48 1761.86,1337.7 1763.86,1337.92 1765.85,1338.13 1767.85,1338.35 1769.85,1338.56 1771.84,1338.78 1773.84,1338.99 \n",
       "  1775.84,1339.2 1777.83,1339.42 1779.83,1339.63 1781.83,1339.84 1783.82,1340.05 1785.82,1340.26 1787.82,1340.47 1789.81,1340.68 1791.81,1340.88 1793.8,1341.09 \n",
       "  1795.8,1341.3 1797.8,1341.5 1799.79,1341.71 1801.79,1341.91 1803.79,1342.12 1805.78,1342.32 1807.78,1342.53 1809.78,1342.73 1811.77,1342.93 1813.77,1343.13 \n",
       "  1815.77,1343.33 1817.76,1343.53 1819.76,1343.74 1821.76,1343.94 1823.75,1344.13 1825.75,1344.33 1827.74,1344.53 1829.74,1344.73 1831.74,1344.93 1833.73,1345.13 \n",
       "  1835.73,1345.32 1837.73,1345.52 1839.72,1345.72 1841.72,1345.92 1843.72,1346.11 1845.71,1346.31 1847.71,1346.5 1849.71,1346.7 1851.7,1346.89 1853.7,1347.09 \n",
       "  1855.7,1347.28 1857.69,1347.48 1859.69,1347.67 1861.68,1347.87 1863.68,1348.06 1865.68,1348.25 1867.67,1348.45 1869.67,1348.64 1871.67,1348.84 1873.66,1349.03 \n",
       "  1875.66,1349.22 1877.66,1349.42 1879.65,1349.61 1881.65,1349.8 1883.65,1349.99 1885.64,1350.19 1887.64,1350.38 1889.64,1350.57 1891.63,1350.76 1893.63,1350.95 \n",
       "  1895.62,1351.15 1897.62,1351.34 1899.62,1351.53 1901.61,1351.72 1903.61,1351.91 1905.61,1352.1 1907.6,1352.3 1909.6,1352.49 1911.6,1352.68 1913.59,1352.87 \n",
       "  1915.59,1353.06 1917.59,1353.25 1919.58,1353.44 1921.58,1353.63 1923.58,1353.82 1925.57,1354.01 1927.57,1354.2 1929.56,1354.38 1931.56,1354.57 1933.56,1354.76 \n",
       "  1935.55,1354.95 1937.55,1355.14 1939.55,1355.32 1941.54,1355.51 1943.54,1355.7 1945.54,1355.88 1947.53,1356.07 1949.53,1356.26 1951.53,1356.44 1953.52,1356.63 \n",
       "  1955.52,1356.81 1957.52,1357 1959.51,1357.18 1961.51,1357.36 1963.5,1357.55 1965.5,1357.73 1967.5,1357.91 1969.49,1358.09 1971.49,1358.27 1973.49,1358.45 \n",
       "  1975.48,1358.63 1977.48,1358.81 1979.48,1358.99 1981.47,1359.17 1983.47,1359.35 1985.47,1359.53 1987.46,1359.7 1989.46,1359.88 1991.46,1360.06 1993.45,1360.23 \n",
       "  1995.45,1360.41 1997.44,1360.58 1999.44,1360.76 2001.44,1360.93 2003.43,1361.11 2005.43,1361.28 2007.43,1361.45 2009.42,1361.62 2011.42,1361.79 2013.42,1361.97 \n",
       "  2015.41,1362.14 2017.41,1362.31 2019.41,1362.48 2021.4,1362.64 2023.4,1362.81 2025.4,1362.98 2027.39,1363.15 2029.39,1363.32 2031.38,1363.48 2033.38,1363.65 \n",
       "  2035.38,1363.82 2037.37,1363.98 2039.37,1364.15 2041.37,1364.31 2043.36,1364.47 2045.36,1364.64 2047.36,1364.8 2049.35,1364.96 2051.35,1365.13 2053.35,1365.29 \n",
       "  2055.34,1365.45 2057.34,1365.61 2059.34,1365.77 2061.33,1365.93 2063.33,1366.09 2065.32,1366.25 2067.32,1366.41 2069.32,1366.58 2071.31,1366.73 2073.31,1366.89 \n",
       "  2075.31,1367.05 2077.3,1367.21 2079.3,1367.37 2081.3,1367.53 2083.29,1367.7 2085.29,1367.86 2087.29,1368.02 2089.28,1368.18 2091.28,1368.34 2093.27,1368.51 \n",
       "  2095.27,1368.67 2097.27,1368.84 2099.26,1369.01 2101.26,1369.18 2103.26,1369.36 2105.25,1369.54 2107.25,1369.72 2109.25,1369.9 2111.24,1370.1 2113.24,1370.3 \n",
       "  2115.24,1370.51 2117.23,1370.72 2119.23,1370.95 2121.23,1371.19 2123.22,1371.44 2125.22,1371.7 2127.21,1371.98 2129.21,1372.26 2131.21,1372.55 2133.2,1372.85 \n",
       "  2135.2,1373.14 2137.2,1373.42 2139.19,1373.7 2141.19,1373.96 2143.19,1374.21 2145.18,1374.44 2147.18,1374.66 2149.18,1374.88 2151.17,1375.08 2153.17,1375.28 \n",
       "  2155.17,1375.46 2157.16,1375.64 2159.16,1375.82 2161.15,1375.99 2163.15,1376.16 2165.15,1376.32 2167.14,1376.48 2169.14,1376.64 2171.14,1376.79 2173.13,1376.94 \n",
       "  2175.13,1377.09 2177.13,1377.24 2179.12,1377.39 2181.12,1377.53 2183.12,1377.67 2185.11,1377.81 2187.11,1377.95 2189.11,1378.09 2191.1,1378.23 2193.1,1378.36 \n",
       "  2195.09,1378.5 2197.09,1378.63 2199.09,1378.77 2201.08,1378.9 2203.08,1379.03 2205.08,1379.16 2207.07,1379.29 2209.07,1379.42 2211.07,1379.54 2213.06,1379.67 \n",
       "  2215.06,1379.8 2217.06,1379.92 2219.05,1380.05 2221.05,1380.17 2223.05,1380.29 2225.04,1380.42 2227.04,1380.54 2229.03,1380.66 2231.03,1380.78 2233.03,1380.9 \n",
       "  2235.02,1381.02 2237.02,1381.14 2239.02,1381.25 2241.01,1381.37 2243.01,1381.49 2245.01,1381.6 2247,1381.72 2249,1381.83 2251,1381.95 2252.99,1382.06 \n",
       "  2254.99,1382.18 2256.99,1382.29 2258.98,1382.4 2260.98,1382.51 2262.97,1382.62 2264.97,1382.73 2266.97,1382.85 2268.96,1382.95 2270.96,1383.06 2272.96,1383.17 \n",
       "  2274.95,1383.28 2276.95,1383.39 2278.95,1383.5 2280.94,1383.6 2282.94,1383.71 2284.94,1383.82 2286.93,1383.92 2288.93,1384.03 2290.93,1384.13 2292.92,1384.24 \n",
       "  \n",
       "  \"/>\n",
       "<polyline clip-path=\"url(#clip062)\" style=\"stroke:#e26f46; stroke-width:8; stroke-opacity:1; fill:none\" points=\"\n",
       "  298.45,86.1857 300.447,141.617 302.443,197.587 304.44,252.142 306.436,303.715 310.429,532.906 314.422,657.847 318.415,728.382 324.404,810.458 330.394,850.763 \n",
       "  340.376,901.722 352.355,933.756 368.327,963.384 386.295,988.309 410.253,1015.92 442.196,1041.25 480.129,1058.56 530.041,1070.88 593.928,1079.82 673.786,1086.99 \n",
       "  775.606,1092.27 903.38,1094.34 1067.09,1095.94 1272.73,1104.44 1536.26,1106.75 1869.67,1093.87 2292.92,1073.07 \n",
       "  \"/>\n",
       "<path clip-path=\"url(#clip060)\" d=\"\n",
       "M1848.05 274.549 L2282.28 274.549 L2282.28 93.1086 L1848.05 93.1086  Z\n",
       "  \" fill=\"#ffffff\" fill-rule=\"evenodd\" fill-opacity=\"1\"/>\n",
       "<polyline clip-path=\"url(#clip060)\" style=\"stroke:#000000; stroke-width:4; stroke-opacity:1; fill:none\" points=\"\n",
       "  1848.05,274.549 2282.28,274.549 2282.28,93.1086 1848.05,93.1086 1848.05,274.549 \n",
       "  \"/>\n",
       "<polyline clip-path=\"url(#clip060)\" style=\"stroke:#009af9; stroke-width:4; stroke-opacity:1; fill:none\" points=\"\n",
       "  1871.54,153.589 2012.49,153.589 \n",
       "  \"/>\n",
       "<path clip-path=\"url(#clip060)\" d=\"M 0 0 M2035.98 136.309 L2065.21 136.309 L2065.21 140.244 L2052.94 140.244 L2052.94 170.869 L2048.24 170.869 L2048.24 140.244 L2035.98 140.244 L2035.98 136.309 Z\" fill=\"#000000\" fill-rule=\"evenodd\" fill-opacity=\"1\" /><path clip-path=\"url(#clip060)\" d=\"M 0 0 M2077.74 148.924 Q2077.02 148.508 2076.16 148.322 Q2075.33 148.114 2074.31 148.114 Q2070.7 148.114 2068.75 150.475 Q2066.83 152.813 2066.83 157.211 L2066.83 170.869 L2062.55 170.869 L2062.55 144.943 L2066.83 144.943 L2066.83 148.971 Q2068.17 146.609 2070.33 145.475 Q2072.48 144.318 2075.56 144.318 Q2076 144.318 2076.53 144.387 Q2077.06 144.434 2077.71 144.549 L2077.74 148.924 Z\" fill=\"#000000\" fill-rule=\"evenodd\" fill-opacity=\"1\" /><path clip-path=\"url(#clip060)\" d=\"M 0 0 M2093.99 157.836 Q2088.82 157.836 2086.83 159.017 Q2084.84 160.197 2084.84 163.045 Q2084.84 165.313 2086.32 166.656 Q2087.83 167.975 2090.4 167.975 Q2093.94 167.975 2096.07 165.475 Q2098.22 162.952 2098.22 158.785 L2098.22 157.836 L2093.99 157.836 M2102.48 156.077 L2102.48 170.869 L2098.22 170.869 L2098.22 166.933 Q2096.76 169.295 2094.59 170.429 Q2092.41 171.54 2089.26 171.54 Q2085.28 171.54 2082.92 169.318 Q2080.58 167.072 2080.58 163.322 Q2080.58 158.947 2083.5 156.725 Q2086.44 154.503 2092.25 154.503 L2098.22 154.503 L2098.22 154.086 Q2098.22 151.147 2096.28 149.549 Q2094.36 147.929 2090.86 147.929 Q2088.64 147.929 2086.53 148.461 Q2084.42 148.994 2082.48 150.059 L2082.48 146.123 Q2084.82 145.221 2087.02 144.781 Q2089.22 144.318 2091.3 144.318 Q2096.92 144.318 2099.7 147.234 Q2102.48 150.151 2102.48 156.077 Z\" fill=\"#000000\" fill-rule=\"evenodd\" fill-opacity=\"1\" /><path clip-path=\"url(#clip060)\" d=\"M 0 0 M2106.95 144.943 L2111.21 144.943 L2111.21 170.869 L2106.95 170.869 L2106.95 144.943 M2106.95 134.85 L2111.21 134.85 L2111.21 140.244 L2106.95 140.244 L2106.95 134.85 Z\" fill=\"#000000\" fill-rule=\"evenodd\" fill-opacity=\"1\" /><path clip-path=\"url(#clip060)\" d=\"M 0 0 M2137.23 155.221 L2137.23 170.869 L2132.97 170.869 L2132.97 155.359 Q2132.97 151.679 2131.53 149.85 Q2130.1 148.022 2127.23 148.022 Q2123.78 148.022 2121.79 150.221 Q2119.8 152.42 2119.8 156.216 L2119.8 170.869 L2115.51 170.869 L2115.51 144.943 L2119.8 144.943 L2119.8 148.971 Q2121.32 146.633 2123.38 145.475 Q2125.47 144.318 2128.17 144.318 Q2132.64 144.318 2134.93 147.096 Q2137.23 149.85 2137.23 155.221 Z\" fill=\"#000000\" fill-rule=\"evenodd\" fill-opacity=\"1\" /><path clip-path=\"url(#clip060)\" d=\"M 0 0 M2141.69 144.943 L2145.95 144.943 L2145.95 170.869 L2141.69 170.869 L2141.69 144.943 M2141.69 134.85 L2145.95 134.85 L2145.95 140.244 L2141.69 140.244 L2141.69 134.85 Z\" fill=\"#000000\" fill-rule=\"evenodd\" fill-opacity=\"1\" /><path clip-path=\"url(#clip060)\" d=\"M 0 0 M2171.97 155.221 L2171.97 170.869 L2167.71 170.869 L2167.71 155.359 Q2167.71 151.679 2166.28 149.85 Q2164.84 148.022 2161.97 148.022 Q2158.52 148.022 2156.53 150.221 Q2154.54 152.42 2154.54 156.216 L2154.54 170.869 L2150.26 170.869 L2150.26 144.943 L2154.54 144.943 L2154.54 148.971 Q2156.07 146.633 2158.13 145.475 Q2160.21 144.318 2162.92 144.318 Q2167.39 144.318 2169.68 147.096 Q2171.97 149.85 2171.97 155.221 Z\" fill=\"#000000\" fill-rule=\"evenodd\" fill-opacity=\"1\" /><path clip-path=\"url(#clip060)\" d=\"M 0 0 M2193.5 157.605 Q2193.5 152.975 2191.58 150.429 Q2189.68 147.883 2186.23 147.883 Q2182.8 147.883 2180.88 150.429 Q2178.98 152.975 2178.98 157.605 Q2178.98 162.211 2180.88 164.758 Q2182.8 167.304 2186.23 167.304 Q2189.68 167.304 2191.58 164.758 Q2193.5 162.211 2193.5 157.605 M2197.76 167.651 Q2197.76 174.271 2194.82 177.489 Q2191.88 180.73 2185.81 180.73 Q2183.57 180.73 2181.58 180.382 Q2179.59 180.058 2177.71 179.364 L2177.71 175.22 Q2179.59 176.239 2181.42 176.725 Q2183.24 177.211 2185.14 177.211 Q2189.33 177.211 2191.42 175.012 Q2193.5 172.836 2193.5 168.415 L2193.5 166.308 Q2192.18 168.6 2190.12 169.734 Q2188.06 170.869 2185.19 170.869 Q2180.42 170.869 2177.5 167.234 Q2174.59 163.6 2174.59 157.605 Q2174.59 151.586 2177.5 147.952 Q2180.42 144.318 2185.19 144.318 Q2188.06 144.318 2190.12 145.452 Q2192.18 146.586 2193.5 148.878 L2193.5 144.943 L2197.76 144.943 L2197.76 167.651 Z\" fill=\"#000000\" fill-rule=\"evenodd\" fill-opacity=\"1\" /><polyline clip-path=\"url(#clip060)\" style=\"stroke:#e26f46; stroke-width:4; stroke-opacity:1; fill:none\" points=\"\n",
       "  1871.54,214.069 2012.49,214.069 \n",
       "  \"/>\n",
       "<path clip-path=\"url(#clip060)\" d=\"M 0 0 M2049.17 231.349 L2035.98 196.789 L2040.86 196.789 L2051.81 225.886 L2062.78 196.789 L2067.64 196.789 L2054.47 231.349 L2049.17 231.349 Z\" fill=\"#000000\" fill-rule=\"evenodd\" fill-opacity=\"1\" /><path clip-path=\"url(#clip060)\" d=\"M 0 0 M2080.21 218.316 Q2075.05 218.316 2073.06 219.497 Q2071.07 220.677 2071.07 223.525 Q2071.07 225.793 2072.55 227.136 Q2074.05 228.455 2076.62 228.455 Q2080.17 228.455 2082.3 225.955 Q2084.45 223.432 2084.45 219.265 L2084.45 218.316 L2080.21 218.316 M2088.71 216.557 L2088.71 231.349 L2084.45 231.349 L2084.45 227.413 Q2082.99 229.775 2080.81 230.909 Q2078.64 232.02 2075.49 232.02 Q2071.51 232.02 2069.15 229.798 Q2066.81 227.552 2066.81 223.802 Q2066.81 219.427 2069.73 217.205 Q2072.67 214.983 2078.48 214.983 L2084.45 214.983 L2084.45 214.566 Q2084.45 211.627 2082.5 210.029 Q2080.58 208.409 2077.09 208.409 Q2074.86 208.409 2072.76 208.941 Q2070.65 209.474 2068.71 210.539 L2068.71 206.603 Q2071.05 205.701 2073.24 205.261 Q2075.44 204.798 2077.53 204.798 Q2083.15 204.798 2085.93 207.714 Q2088.71 210.631 2088.71 216.557 Z\" fill=\"#000000\" fill-rule=\"evenodd\" fill-opacity=\"1\" /><path clip-path=\"url(#clip060)\" d=\"M 0 0 M2093.17 195.33 L2097.43 195.33 L2097.43 231.349 L2093.17 231.349 L2093.17 195.33 Z\" fill=\"#000000\" fill-rule=\"evenodd\" fill-opacity=\"1\" /><path clip-path=\"url(#clip060)\" d=\"M 0 0 M2101.9 205.423 L2106.16 205.423 L2106.16 231.349 L2101.9 231.349 L2101.9 205.423 M2101.9 195.33 L2106.16 195.33 L2106.16 200.724 L2101.9 200.724 L2101.9 195.33 Z\" fill=\"#000000\" fill-rule=\"evenodd\" fill-opacity=\"1\" /><path clip-path=\"url(#clip060)\" d=\"M 0 0 M2127.69 209.358 L2127.69 195.33 L2131.95 195.33 L2131.95 231.349 L2127.69 231.349 L2127.69 227.46 Q2126.35 229.775 2124.29 230.909 Q2122.25 232.02 2119.38 232.02 Q2114.68 232.02 2111.72 228.27 Q2108.78 224.52 2108.78 218.409 Q2108.78 212.298 2111.72 208.548 Q2114.68 204.798 2119.38 204.798 Q2122.25 204.798 2124.29 205.932 Q2126.35 207.043 2127.69 209.358 M2113.17 218.409 Q2113.17 223.108 2115.1 225.793 Q2117.04 228.455 2120.42 228.455 Q2123.8 228.455 2125.74 225.793 Q2127.69 223.108 2127.69 218.409 Q2127.69 213.71 2125.74 211.048 Q2123.8 208.363 2120.42 208.363 Q2117.04 208.363 2115.1 211.048 Q2113.17 213.71 2113.17 218.409 Z\" fill=\"#000000\" fill-rule=\"evenodd\" fill-opacity=\"1\" /><path clip-path=\"url(#clip060)\" d=\"M 0 0 M2148.2 218.316 Q2143.04 218.316 2141.04 219.497 Q2139.05 220.677 2139.05 223.525 Q2139.05 225.793 2140.54 227.136 Q2142.04 228.455 2144.61 228.455 Q2148.15 228.455 2150.28 225.955 Q2152.43 223.432 2152.43 219.265 L2152.43 218.316 L2148.2 218.316 M2156.69 216.557 L2156.69 231.349 L2152.43 231.349 L2152.43 227.413 Q2150.98 229.775 2148.8 230.909 Q2146.62 232.02 2143.48 232.02 Q2139.49 232.02 2137.13 229.798 Q2134.79 227.552 2134.79 223.802 Q2134.79 219.427 2137.71 217.205 Q2140.65 214.983 2146.46 214.983 L2152.43 214.983 L2152.43 214.566 Q2152.43 211.627 2150.49 210.029 Q2148.57 208.409 2145.07 208.409 Q2142.85 208.409 2140.74 208.941 Q2138.64 209.474 2136.69 210.539 L2136.69 206.603 Q2139.03 205.701 2141.23 205.261 Q2143.43 204.798 2145.51 204.798 Q2151.14 204.798 2153.92 207.714 Q2156.69 210.631 2156.69 216.557 Z\" fill=\"#000000\" fill-rule=\"evenodd\" fill-opacity=\"1\" /><path clip-path=\"url(#clip060)\" d=\"M 0 0 M2165.37 198.062 L2165.37 205.423 L2174.15 205.423 L2174.15 208.733 L2165.37 208.733 L2165.37 222.807 Q2165.37 225.978 2166.23 226.881 Q2167.11 227.784 2169.77 227.784 L2174.15 227.784 L2174.15 231.349 L2169.77 231.349 Q2164.84 231.349 2162.97 229.52 Q2161.09 227.668 2161.09 222.807 L2161.09 208.733 L2157.97 208.733 L2157.97 205.423 L2161.09 205.423 L2161.09 198.062 L2165.37 198.062 Z\" fill=\"#000000\" fill-rule=\"evenodd\" fill-opacity=\"1\" /><path clip-path=\"url(#clip060)\" d=\"M 0 0 M2178.61 205.423 L2182.87 205.423 L2182.87 231.349 L2178.61 231.349 L2178.61 205.423 M2178.61 195.33 L2182.87 195.33 L2182.87 200.724 L2178.61 200.724 L2178.61 195.33 Z\" fill=\"#000000\" fill-rule=\"evenodd\" fill-opacity=\"1\" /><path clip-path=\"url(#clip060)\" d=\"M 0 0 M2197.39 208.409 Q2193.96 208.409 2191.97 211.094 Q2189.98 213.756 2189.98 218.409 Q2189.98 223.062 2191.95 225.747 Q2193.94 228.409 2197.39 228.409 Q2200.79 228.409 2202.78 225.724 Q2204.77 223.038 2204.77 218.409 Q2204.77 213.802 2202.78 211.117 Q2200.79 208.409 2197.39 208.409 M2197.39 204.798 Q2202.94 204.798 2206.11 208.409 Q2209.29 212.02 2209.29 218.409 Q2209.29 224.775 2206.11 228.409 Q2202.94 232.02 2197.39 232.02 Q2191.81 232.02 2188.64 228.409 Q2185.49 224.775 2185.49 218.409 Q2185.49 212.02 2188.64 208.409 Q2191.81 204.798 2197.39 204.798 Z\" fill=\"#000000\" fill-rule=\"evenodd\" fill-opacity=\"1\" /><path clip-path=\"url(#clip060)\" d=\"M 0 0 M2235.3 215.701 L2235.3 231.349 L2231.04 231.349 L2231.04 215.839 Q2231.04 212.159 2229.61 210.33 Q2228.17 208.502 2225.3 208.502 Q2221.85 208.502 2219.86 210.701 Q2217.87 212.9 2217.87 216.696 L2217.87 231.349 L2213.59 231.349 L2213.59 205.423 L2217.87 205.423 L2217.87 209.451 Q2219.4 207.113 2221.46 205.955 Q2223.54 204.798 2226.25 204.798 Q2230.72 204.798 2233.01 207.576 Q2235.3 210.33 2235.3 215.701 Z\" fill=\"#000000\" fill-rule=\"evenodd\" fill-opacity=\"1\" /></svg>\n"
      ]
     },
     "execution_count": 34,
     "metadata": {},
     "output_type": "execute_result"
    }
   ],
   "source": [
    "plot(Net.report.training_losses, label=\"Training\", lw=2)\n",
    "plot!(curve.parameter_values,\n",
    "     curve.measurements,\n",
    "     xlab=curve.parameter_name,\n",
    "     ylab=\"Cross Entropy\",\n",
    "     label=\"Validation\", lw=2)\n"
   ]
  },
  {
   "cell_type": "code",
   "execution_count": 35,
   "metadata": {},
   "outputs": [
    {
     "data": {
      "text/plain": [
       "(0.00033, 0.45346, 621)"
      ]
     },
     "execution_count": 35,
     "metadata": {},
     "output_type": "execute_result"
    }
   ],
   "source": [
    "a = round(nn.optimiser.eta, digits=5)\n",
    "b = round(minimum(curve.measurements), digits=5)\n",
    "best_epochs = curve.parameter_values[argmin(curve.measurements)]\n",
    "a,b, best_epochs"
   ]
  },
  {
   "cell_type": "markdown",
   "metadata": {},
   "source": [
    "### GridSearch for Hidden Layer Size 1"
   ]
  },
  {
   "cell_type": "code",
   "execution_count": 36,
   "metadata": {},
   "outputs": [
    {
     "name": "stderr",
     "output_type": "stream",
     "text": [
      "┌ Warning: The scitype of `X`, in `machine(model, X, ...)` is incompatible with `model=\u001b[34mNeuralNetworkClassifier{CustomNN,…} @814\u001b[39m`:\n",
      "│ scitype(X) = Table{Union{AbstractArray{Continuous,1}, AbstractArray{Count,1}}}\n",
      "│ input_scitype(model) = Table{var\"#s44\"} where var\"#s44\"<:(AbstractArray{var\"#s13\",1} where var\"#s13\"<:Continuous).\n",
      "└ @ MLJBase /home/andrew/.julia/packages/MLJBase/uKzAz/src/machines.jl:77\n"
     ]
    },
    {
     "data": {
      "text/plain": [
       "\u001b[34mMachine{NeuralNetworkClassifier{CustomNN,…}} @742\u001b[39m trained 0 times.\n",
       "  args: \n",
       "    1:\t\u001b[34mSource @187\u001b[39m ⏎ `Table{Union{AbstractArray{Continuous,1}, AbstractArray{Count,1}}}`\n",
       "    2:\t\u001b[34mSource @581\u001b[39m ⏎ `AbstractArray{Multiclass{2},1}`\n"
      ]
     },
     "execution_count": 36,
     "metadata": {},
     "output_type": "execute_result"
    }
   ],
   "source": [
    "Net = machine(nn, X_stand, y)"
   ]
  },
  {
   "cell_type": "code",
   "execution_count": 37,
   "metadata": {},
   "outputs": [
    {
     "data": {
      "text/plain": [
       "MLJBase.NumericRange(Int64, :(builder.n1), ... )"
      ]
     },
     "execution_count": 37,
     "metadata": {},
     "output_type": "execute_result"
    }
   ],
   "source": [
    "param1 = :epochs\n",
    "param2 = :(builder.n1)\n",
    "\n",
    "r1 = range(nn, param1, lower=10, upper=max_epochs, scale=:log10)\n",
    "# r1 = range(nn, param1, lower=1, upper=100, scale=:linear)\n",
    "r2 = range(nn, param2, lower=50, upper=150, scale=:linear)"
   ]
  },
  {
   "cell_type": "code",
   "execution_count": 38,
   "metadata": {
    "scrolled": true
   },
   "outputs": [
    {
     "data": {
      "text/plain": [
       "ProbabilisticTunedModel(\n",
       "    model = NeuralNetworkClassifier(\n",
       "            builder = \u001b[34mCustomNN @787\u001b[39m,\n",
       "            finaliser = NNlib.softmax,\n",
       "            optimiser = ADAM(0.0003333333333333333, (0.9, 0.999), IdDict{Any,Any}()),\n",
       "            loss = Flux.crossentropy,\n",
       "            epochs = 1000,\n",
       "            batch_size = 16,\n",
       "            lambda = 0.01,\n",
       "            alpha = 0.0,\n",
       "            optimiser_changes_trigger_retraining = false),\n",
       "    tuning = Grid(\n",
       "            goal = 144,\n",
       "            resolution = 10,\n",
       "            shuffle = true,\n",
       "            rng = Random._GLOBAL_RNG()),\n",
       "    resampling = Holdout(\n",
       "            fraction_train = 0.7,\n",
       "            shuffle = false,\n",
       "            rng = Random._GLOBAL_RNG()),\n",
       "    measure = cross_entropy(\n",
       "            eps = 2.220446049250313e-16),\n",
       "    weights = nothing,\n",
       "    operation = MLJModelInterface.predict,\n",
       "    range = MLJBase.NumericRange{Int64,MLJBase.Bounded,Symbol}[\u001b[34mNumericRange{Int64,…} @416\u001b[39m, \u001b[34mNumericRange{Int64,…} @159\u001b[39m],\n",
       "    train_best = true,\n",
       "    repeats = 1,\n",
       "    n = nothing,\n",
       "    acceleration = CPUThreads{Int64}(1),\n",
       "    acceleration_resampling = CPU1{Nothing}(nothing),\n",
       "    check_measure = true)\u001b[34m @863\u001b[39m"
      ]
     },
     "execution_count": 38,
     "metadata": {},
     "output_type": "execute_result"
    }
   ],
   "source": [
    "self_tuning_nn_model = TunedModel(model=nn,\n",
    "                                    tuning=Grid(goal=144),\n",
    "                                    resampling=Holdout(fraction_train=0.7), \n",
    "                                    measure=cross_entropy,\n",
    "                                    acceleration=CPUThreads(),\n",
    "                                    range=[r1, r2])"
   ]
  },
  {
   "cell_type": "code",
   "execution_count": 39,
   "metadata": {},
   "outputs": [
    {
     "name": "stderr",
     "output_type": "stream",
     "text": [
      "┌ Warning: The scitype of `X`, in `machine(model, X, ...)` is incompatible with `model=\u001b[34mProbabilisticTunedModel{Grid,…} @863\u001b[39m`:\n",
      "│ scitype(X) = Table{Union{AbstractArray{Continuous,1}, AbstractArray{Count,1}}}\n",
      "│ input_scitype(model) = Table{var\"#s44\"} where var\"#s44\"<:(AbstractArray{var\"#s13\",1} where var\"#s13\"<:Continuous).\n",
      "└ @ MLJBase /home/andrew/.julia/packages/MLJBase/uKzAz/src/machines.jl:77\n"
     ]
    },
    {
     "data": {
      "text/plain": [
       "\u001b[34mMachine{ProbabilisticTunedModel{Grid,…}} @428\u001b[39m trained 0 times.\n",
       "  args: \n",
       "    1:\t\u001b[34mSource @127\u001b[39m ⏎ `Table{Union{AbstractArray{Continuous,1}, AbstractArray{Count,1}}}`\n",
       "    2:\t\u001b[34mSource @006\u001b[39m ⏎ `AbstractArray{Multiclass{2},1}`\n"
      ]
     },
     "execution_count": 39,
     "metadata": {},
     "output_type": "execute_result"
    }
   ],
   "source": [
    "self_tuning_nn = machine(self_tuning_nn_model, X_stand, y)"
   ]
  },
  {
   "cell_type": "code",
   "execution_count": 40,
   "metadata": {
    "scrolled": true
   },
   "outputs": [
    {
     "name": "stderr",
     "output_type": "stream",
     "text": [
      "┌ Info: Training \u001b[34mMachine{ProbabilisticTunedModel{Grid,…}} @428\u001b[39m.\n",
      "└ @ MLJBase /home/andrew/.julia/packages/MLJBase/uKzAz/src/machines.jl:319\n",
      "┌ Info: Attempting to evaluate 144 models.\n",
      "└ @ MLJTuning /home/andrew/.julia/packages/MLJTuning/Bbgvk/src/tuned_models.jl:494\n",
      "┌ Warning: The scitype of `X`, in `machine(model, X, ...)` is incompatible with `model=\u001b[34mResampler{Holdout,…} @693\u001b[39m`:\n",
      "│ scitype(X) = Table{Union{AbstractArray{Continuous,1}, AbstractArray{Count,1}}}\n",
      "│ input_scitype(model) = Table{var\"#s44\"} where var\"#s44\"<:(AbstractArray{var\"#s13\",1} where var\"#s13\"<:Continuous).\n",
      "└ @ MLJBase /home/andrew/.julia/packages/MLJBase/uKzAz/src/machines.jl:77\n",
      "\u001b[33mEvaluating over 144 metamodels:   0%[>                        ]  ETA: N/A\u001b[39m┌ Warning: The scitype of `X`, in `machine(model, X, ...)` is incompatible with `model=\u001b[34mNeuralNetworkClassifier{CustomNN,…} @432\u001b[39m`:\n",
      "│ scitype(X) = Table{Union{AbstractArray{Continuous,1}, AbstractArray{Count,1}}}\n",
      "│ input_scitype(model) = Table{var\"#s44\"} where var\"#s44\"<:(AbstractArray{var\"#s13\",1} where var\"#s13\"<:Continuous).\n",
      "└ @ MLJBase /home/andrew/.julia/packages/MLJBase/uKzAz/src/machines.jl:77\n",
      "\u001b[33mEvaluating over 144 metamodels: 100%[=========================] Time: 0:06:07\u001b[39m\n",
      "┌ Warning: The scitype of `X`, in `machine(model, X, ...)` is incompatible with `model=\u001b[34mNeuralNetworkClassifier{CustomNN,…} @694\u001b[39m`:\n",
      "│ scitype(X) = Table{Union{AbstractArray{Continuous,1}, AbstractArray{Count,1}}}\n",
      "│ input_scitype(model) = Table{var\"#s44\"} where var\"#s44\"<:(AbstractArray{var\"#s13\",1} where var\"#s13\"<:Continuous).\n",
      "└ @ MLJBase /home/andrew/.julia/packages/MLJBase/uKzAz/src/machines.jl:77\n"
     ]
    },
    {
     "data": {
      "text/plain": [
       "\u001b[34mMachine{ProbabilisticTunedModel{Grid,…}} @428\u001b[39m trained 1 time.\n",
       "  args: \n",
       "    1:\t\u001b[34mSource @127\u001b[39m ⏎ `Table{Union{AbstractArray{Continuous,1}, AbstractArray{Count,1}}}`\n",
       "    2:\t\u001b[34mSource @006\u001b[39m ⏎ `AbstractArray{Multiclass{2},1}`\n"
      ]
     },
     "execution_count": 40,
     "metadata": {},
     "output_type": "execute_result"
    }
   ],
   "source": [
    "z = fit!(self_tuning_nn, rows=train)"
   ]
  },
  {
   "cell_type": "code",
   "execution_count": 41,
   "metadata": {
    "scrolled": false
   },
   "outputs": [
    {
     "data": {
      "image/svg+xml": [
       "<?xml version=\"1.0\" encoding=\"utf-8\"?>\n",
       "<svg xmlns=\"http://www.w3.org/2000/svg\" xmlns:xlink=\"http://www.w3.org/1999/xlink\" width=\"600\" height=\"400\" viewBox=\"0 0 2400 1600\">\n",
       "<defs>\n",
       "  <clipPath id=\"clip100\">\n",
       "    <rect x=\"0\" y=\"0\" width=\"2400\" height=\"1600\"/>\n",
       "  </clipPath>\n",
       "</defs>\n",
       "<path clip-path=\"url(#clip100)\" d=\"\n",
       "M0 1600 L2400 1600 L2400 0 L0 0  Z\n",
       "  \" fill=\"#ffffff\" fill-rule=\"evenodd\" fill-opacity=\"1\"/>\n",
       "<defs>\n",
       "  <clipPath id=\"clip101\">\n",
       "    <rect x=\"480\" y=\"0\" width=\"1681\" height=\"1600\"/>\n",
       "  </clipPath>\n",
       "</defs>\n",
       "<path clip-path=\"url(#clip100)\" d=\"\n",
       "M225.352 1410.9 L2112.76 1410.9 L2112.76 47.2441 L225.352 47.2441  Z\n",
       "  \" fill=\"#ffffff\" fill-rule=\"evenodd\" fill-opacity=\"1\"/>\n",
       "<defs>\n",
       "  <clipPath id=\"clip102\">\n",
       "    <rect x=\"225\" y=\"47\" width=\"1888\" height=\"1365\"/>\n",
       "  </clipPath>\n",
       "</defs>\n",
       "<polyline clip-path=\"url(#clip102)\" style=\"stroke:#000000; stroke-width:2; stroke-opacity:0.1; fill:none\" points=\"\n",
       "  278.769,1410.9 278.769,47.2441 \n",
       "  \"/>\n",
       "<polyline clip-path=\"url(#clip102)\" style=\"stroke:#000000; stroke-width:2; stroke-opacity:0.1; fill:none\" points=\"\n",
       "  723.912,1410.9 723.912,47.2441 \n",
       "  \"/>\n",
       "<polyline clip-path=\"url(#clip102)\" style=\"stroke:#000000; stroke-width:2; stroke-opacity:0.1; fill:none\" points=\"\n",
       "  1169.05,1410.9 1169.05,47.2441 \n",
       "  \"/>\n",
       "<polyline clip-path=\"url(#clip102)\" style=\"stroke:#000000; stroke-width:2; stroke-opacity:0.1; fill:none\" points=\"\n",
       "  1614.2,1410.9 1614.2,47.2441 \n",
       "  \"/>\n",
       "<polyline clip-path=\"url(#clip102)\" style=\"stroke:#000000; stroke-width:2; stroke-opacity:0.1; fill:none\" points=\"\n",
       "  2059.34,1410.9 2059.34,47.2441 \n",
       "  \"/>\n",
       "<polyline clip-path=\"url(#clip102)\" style=\"stroke:#000000; stroke-width:2; stroke-opacity:0.1; fill:none\" points=\"\n",
       "  225.352,1243.66 2112.76,1243.66 \n",
       "  \"/>\n",
       "<polyline clip-path=\"url(#clip102)\" style=\"stroke:#000000; stroke-width:2; stroke-opacity:0.1; fill:none\" points=\"\n",
       "  225.352,986.363 2112.76,986.363 \n",
       "  \"/>\n",
       "<polyline clip-path=\"url(#clip102)\" style=\"stroke:#000000; stroke-width:2; stroke-opacity:0.1; fill:none\" points=\"\n",
       "  225.352,729.07 2112.76,729.07 \n",
       "  \"/>\n",
       "<polyline clip-path=\"url(#clip102)\" style=\"stroke:#000000; stroke-width:2; stroke-opacity:0.1; fill:none\" points=\"\n",
       "  225.352,471.777 2112.76,471.777 \n",
       "  \"/>\n",
       "<polyline clip-path=\"url(#clip102)\" style=\"stroke:#000000; stroke-width:2; stroke-opacity:0.1; fill:none\" points=\"\n",
       "  225.352,214.485 2112.76,214.485 \n",
       "  \"/>\n",
       "<polyline clip-path=\"url(#clip100)\" style=\"stroke:#000000; stroke-width:4; stroke-opacity:1; fill:none\" points=\"\n",
       "  225.352,1410.9 2112.76,1410.9 \n",
       "  \"/>\n",
       "<polyline clip-path=\"url(#clip100)\" style=\"stroke:#000000; stroke-width:4; stroke-opacity:1; fill:none\" points=\"\n",
       "  225.352,1410.9 225.352,47.2441 \n",
       "  \"/>\n",
       "<polyline clip-path=\"url(#clip100)\" style=\"stroke:#000000; stroke-width:4; stroke-opacity:1; fill:none\" points=\"\n",
       "  278.769,1410.9 278.769,1394.53 \n",
       "  \"/>\n",
       "<polyline clip-path=\"url(#clip100)\" style=\"stroke:#000000; stroke-width:4; stroke-opacity:1; fill:none\" points=\"\n",
       "  723.912,1410.9 723.912,1394.53 \n",
       "  \"/>\n",
       "<polyline clip-path=\"url(#clip100)\" style=\"stroke:#000000; stroke-width:4; stroke-opacity:1; fill:none\" points=\"\n",
       "  1169.05,1410.9 1169.05,1394.53 \n",
       "  \"/>\n",
       "<polyline clip-path=\"url(#clip100)\" style=\"stroke:#000000; stroke-width:4; stroke-opacity:1; fill:none\" points=\"\n",
       "  1614.2,1410.9 1614.2,1394.53 \n",
       "  \"/>\n",
       "<polyline clip-path=\"url(#clip100)\" style=\"stroke:#000000; stroke-width:4; stroke-opacity:1; fill:none\" points=\"\n",
       "  2059.34,1410.9 2059.34,1394.53 \n",
       "  \"/>\n",
       "<polyline clip-path=\"url(#clip100)\" style=\"stroke:#000000; stroke-width:4; stroke-opacity:1; fill:none\" points=\"\n",
       "  225.352,1243.66 248.001,1243.66 \n",
       "  \"/>\n",
       "<polyline clip-path=\"url(#clip100)\" style=\"stroke:#000000; stroke-width:4; stroke-opacity:1; fill:none\" points=\"\n",
       "  225.352,986.363 248.001,986.363 \n",
       "  \"/>\n",
       "<polyline clip-path=\"url(#clip100)\" style=\"stroke:#000000; stroke-width:4; stroke-opacity:1; fill:none\" points=\"\n",
       "  225.352,729.07 248.001,729.07 \n",
       "  \"/>\n",
       "<polyline clip-path=\"url(#clip100)\" style=\"stroke:#000000; stroke-width:4; stroke-opacity:1; fill:none\" points=\"\n",
       "  225.352,471.777 248.001,471.777 \n",
       "  \"/>\n",
       "<polyline clip-path=\"url(#clip100)\" style=\"stroke:#000000; stroke-width:4; stroke-opacity:1; fill:none\" points=\"\n",
       "  225.352,214.485 248.001,214.485 \n",
       "  \"/>\n",
       "<path clip-path=\"url(#clip100)\" d=\"M 0 0 M232.266 1481.97 L239.905 1481.97 L239.905 1455.6 L231.595 1457.27 L231.595 1453.01 L239.859 1451.34 L244.535 1451.34 L244.535 1481.97 L252.174 1481.97 L252.174 1485.9 L232.266 1485.9 L232.266 1481.97 Z\" fill=\"#000000\" fill-rule=\"evenodd\" fill-opacity=\"1\" /><path clip-path=\"url(#clip100)\" d=\"M 0 0 M267.243 1454.42 Q263.632 1454.42 261.803 1457.99 Q259.998 1461.53 259.998 1468.66 Q259.998 1475.77 261.803 1479.33 Q263.632 1482.87 267.243 1482.87 Q270.877 1482.87 272.683 1479.33 Q274.512 1475.77 274.512 1468.66 Q274.512 1461.53 272.683 1457.99 Q270.877 1454.42 267.243 1454.42 M267.243 1450.72 Q273.053 1450.72 276.109 1455.33 Q279.188 1459.91 279.188 1468.66 Q279.188 1477.39 276.109 1481.99 Q273.053 1486.58 267.243 1486.58 Q261.433 1486.58 258.354 1481.99 Q255.299 1477.39 255.299 1468.66 Q255.299 1459.91 258.354 1455.33 Q261.433 1450.72 267.243 1450.72 Z\" fill=\"#000000\" fill-rule=\"evenodd\" fill-opacity=\"1\" /><path clip-path=\"url(#clip100)\" d=\"M 0 0 M279.733 1455.3 L285.94 1455.3 L285.94 1433.87 L279.188 1435.23 L279.188 1431.77 L285.902 1430.41 L289.701 1430.41 L289.701 1455.3 L295.908 1455.3 L295.908 1458.49 L279.733 1458.49 L279.733 1455.3 Z\" fill=\"#000000\" fill-rule=\"evenodd\" fill-opacity=\"1\" /><path clip-path=\"url(#clip100)\" d=\"M 0 0 M300.027 1453.72 L303.995 1453.72 L303.995 1458.49 L300.027 1458.49 L300.027 1453.72 Z\" fill=\"#000000\" fill-rule=\"evenodd\" fill-opacity=\"1\" /><path clip-path=\"url(#clip100)\" d=\"M 0 0 M316.239 1432.91 Q313.305 1432.91 311.819 1435.81 Q310.352 1438.69 310.352 1444.48 Q310.352 1450.26 311.819 1453.15 Q313.305 1456.03 316.239 1456.03 Q319.192 1456.03 320.659 1453.15 Q322.144 1450.26 322.144 1444.48 Q322.144 1438.69 320.659 1435.81 Q319.192 1432.91 316.239 1432.91 M316.239 1429.91 Q320.96 1429.91 323.442 1433.65 Q325.944 1437.37 325.944 1444.48 Q325.944 1451.57 323.442 1455.31 Q320.96 1459.04 316.239 1459.04 Q311.518 1459.04 309.017 1455.31 Q306.534 1451.57 306.534 1444.48 Q306.534 1437.37 309.017 1433.65 Q311.518 1429.91 316.239 1429.91 Z\" fill=\"#000000\" fill-rule=\"evenodd\" fill-opacity=\"1\" /><path clip-path=\"url(#clip100)\" d=\"M 0 0 M677.813 1481.97 L685.452 1481.97 L685.452 1455.6 L677.142 1457.27 L677.142 1453.01 L685.406 1451.34 L690.082 1451.34 L690.082 1481.97 L697.721 1481.97 L697.721 1485.9 L677.813 1485.9 L677.813 1481.97 Z\" fill=\"#000000\" fill-rule=\"evenodd\" fill-opacity=\"1\" /><path clip-path=\"url(#clip100)\" d=\"M 0 0 M712.79 1454.42 Q709.179 1454.42 707.35 1457.99 Q705.545 1461.53 705.545 1468.66 Q705.545 1475.77 707.35 1479.33 Q709.179 1482.87 712.79 1482.87 Q716.424 1482.87 718.23 1479.33 Q720.058 1475.77 720.058 1468.66 Q720.058 1461.53 718.23 1457.99 Q716.424 1454.42 712.79 1454.42 M712.79 1450.72 Q718.6 1450.72 721.656 1455.33 Q724.734 1459.91 724.734 1468.66 Q724.734 1477.39 721.656 1481.99 Q718.6 1486.58 712.79 1486.58 Q706.98 1486.58 703.901 1481.99 Q700.845 1477.39 700.845 1468.66 Q700.845 1459.91 703.901 1455.33 Q706.98 1450.72 712.79 1450.72 Z\" fill=\"#000000\" fill-rule=\"evenodd\" fill-opacity=\"1\" /><path clip-path=\"url(#clip100)\" d=\"M 0 0 M725.28 1455.3 L731.486 1455.3 L731.486 1433.87 L724.734 1435.23 L724.734 1431.77 L731.449 1430.41 L735.248 1430.41 L735.248 1455.3 L741.454 1455.3 L741.454 1458.49 L725.28 1458.49 L725.28 1455.3 Z\" fill=\"#000000\" fill-rule=\"evenodd\" fill-opacity=\"1\" /><path clip-path=\"url(#clip100)\" d=\"M 0 0 M745.573 1453.72 L749.542 1453.72 L749.542 1458.49 L745.573 1458.49 L745.573 1453.72 Z\" fill=\"#000000\" fill-rule=\"evenodd\" fill-opacity=\"1\" /><path clip-path=\"url(#clip100)\" d=\"M 0 0 M753.698 1430.41 L768.613 1430.41 L768.613 1433.61 L757.178 1433.61 L757.178 1440.49 Q758.005 1440.21 758.833 1440.08 Q759.66 1439.93 760.488 1439.93 Q765.19 1439.93 767.936 1442.51 Q770.682 1445.08 770.682 1449.48 Q770.682 1454.02 767.86 1456.54 Q765.039 1459.04 759.905 1459.04 Q758.137 1459.04 756.294 1458.74 Q754.469 1458.44 752.513 1457.84 L752.513 1454.02 Q754.206 1454.94 756.012 1455.39 Q757.817 1455.84 759.83 1455.84 Q763.083 1455.84 764.983 1454.13 Q766.882 1452.42 766.882 1449.48 Q766.882 1446.55 764.983 1444.84 Q763.083 1443.13 759.83 1443.13 Q758.306 1443.13 756.783 1443.47 Q755.278 1443.8 753.698 1444.52 L753.698 1430.41 Z\" fill=\"#000000\" fill-rule=\"evenodd\" fill-opacity=\"1\" /><path clip-path=\"url(#clip100)\" d=\"M 0 0 M1122 1481.97 L1129.64 1481.97 L1129.64 1455.6 L1121.33 1457.27 L1121.33 1453.01 L1129.59 1451.34 L1134.26 1451.34 L1134.26 1481.97 L1141.9 1481.97 L1141.9 1485.9 L1122 1485.9 L1122 1481.97 Z\" fill=\"#000000\" fill-rule=\"evenodd\" fill-opacity=\"1\" /><path clip-path=\"url(#clip100)\" d=\"M 0 0 M1156.97 1454.42 Q1153.36 1454.42 1151.53 1457.99 Q1149.73 1461.53 1149.73 1468.66 Q1149.73 1475.77 1151.53 1479.33 Q1153.36 1482.87 1156.97 1482.87 Q1160.61 1482.87 1162.41 1479.33 Q1164.24 1475.77 1164.24 1468.66 Q1164.24 1461.53 1162.41 1457.99 Q1160.61 1454.42 1156.97 1454.42 M1156.97 1450.72 Q1162.78 1450.72 1165.84 1455.33 Q1168.92 1459.91 1168.92 1468.66 Q1168.92 1477.39 1165.84 1481.99 Q1162.78 1486.58 1156.97 1486.58 Q1151.16 1486.58 1148.08 1481.99 Q1145.03 1477.39 1145.03 1468.66 Q1145.03 1459.91 1148.08 1455.33 Q1151.16 1450.72 1156.97 1450.72 Z\" fill=\"#000000\" fill-rule=\"evenodd\" fill-opacity=\"1\" /><path clip-path=\"url(#clip100)\" d=\"M 0 0 M1173.49 1455.3 L1186.75 1455.3 L1186.75 1458.49 L1168.92 1458.49 L1168.92 1455.3 Q1171.08 1453.06 1174.8 1449.3 Q1178.55 1445.52 1179.51 1444.43 Q1181.33 1442.38 1182.05 1440.96 Q1182.78 1439.54 1182.78 1438.16 Q1182.78 1435.92 1181.2 1434.51 Q1179.64 1433.1 1177.12 1433.1 Q1175.33 1433.1 1173.34 1433.72 Q1171.36 1434.34 1169.11 1435.6 L1169.11 1431.77 Q1171.4 1430.85 1173.39 1430.38 Q1175.39 1429.91 1177.04 1429.91 Q1181.41 1429.91 1184 1432.09 Q1186.6 1434.27 1186.6 1437.92 Q1186.6 1439.65 1185.94 1441.21 Q1185.3 1442.75 1183.59 1444.86 Q1183.12 1445.4 1180.6 1448.02 Q1178.08 1450.61 1173.49 1455.3 Z\" fill=\"#000000\" fill-rule=\"evenodd\" fill-opacity=\"1\" /><path clip-path=\"url(#clip100)\" d=\"M 0 0 M1190.87 1453.72 L1194.83 1453.72 L1194.83 1458.49 L1190.87 1458.49 L1190.87 1453.72 Z\" fill=\"#000000\" fill-rule=\"evenodd\" fill-opacity=\"1\" /><path clip-path=\"url(#clip100)\" d=\"M 0 0 M1207.08 1432.91 Q1204.14 1432.91 1202.66 1435.81 Q1201.19 1438.69 1201.19 1444.48 Q1201.19 1450.26 1202.66 1453.15 Q1204.14 1456.03 1207.08 1456.03 Q1210.03 1456.03 1211.5 1453.15 Q1212.98 1450.26 1212.98 1444.48 Q1212.98 1438.69 1211.5 1435.81 Q1210.03 1432.91 1207.08 1432.91 M1207.08 1429.91 Q1211.8 1429.91 1214.28 1433.65 Q1216.78 1437.37 1216.78 1444.48 Q1216.78 1451.57 1214.28 1455.31 Q1211.8 1459.04 1207.08 1459.04 Q1202.36 1459.04 1199.86 1455.31 Q1197.37 1451.57 1197.37 1444.48 Q1197.37 1437.37 1199.86 1433.65 Q1202.36 1429.91 1207.08 1429.91 Z\" fill=\"#000000\" fill-rule=\"evenodd\" fill-opacity=\"1\" /><path clip-path=\"url(#clip100)\" d=\"M 0 0 M1567.54 1481.97 L1575.18 1481.97 L1575.18 1455.6 L1566.87 1457.27 L1566.87 1453.01 L1575.14 1451.34 L1579.81 1451.34 L1579.81 1481.97 L1587.45 1481.97 L1587.45 1485.9 L1567.54 1485.9 L1567.54 1481.97 Z\" fill=\"#000000\" fill-rule=\"evenodd\" fill-opacity=\"1\" /><path clip-path=\"url(#clip100)\" d=\"M 0 0 M1602.52 1454.42 Q1598.91 1454.42 1597.08 1457.99 Q1595.27 1461.53 1595.27 1468.66 Q1595.27 1475.77 1597.08 1479.33 Q1598.91 1482.87 1602.52 1482.87 Q1606.15 1482.87 1607.96 1479.33 Q1609.79 1475.77 1609.79 1468.66 Q1609.79 1461.53 1607.96 1457.99 Q1606.15 1454.42 1602.52 1454.42 M1602.52 1450.72 Q1608.33 1450.72 1611.39 1455.33 Q1614.46 1459.91 1614.46 1468.66 Q1614.46 1477.39 1611.39 1481.99 Q1608.33 1486.58 1602.52 1486.58 Q1596.71 1486.58 1593.63 1481.99 Q1590.58 1477.39 1590.58 1468.66 Q1590.58 1459.91 1593.63 1455.33 Q1596.71 1450.72 1602.52 1450.72 Z\" fill=\"#000000\" fill-rule=\"evenodd\" fill-opacity=\"1\" /><path clip-path=\"url(#clip100)\" d=\"M 0 0 M1619.03 1455.3 L1632.29 1455.3 L1632.29 1458.49 L1614.46 1458.49 L1614.46 1455.3 Q1616.63 1453.06 1620.35 1449.3 Q1624.09 1445.52 1625.05 1444.43 Q1626.88 1442.38 1627.59 1440.96 Q1628.33 1439.54 1628.33 1438.16 Q1628.33 1435.92 1626.75 1434.51 Q1625.18 1433.1 1622.66 1433.1 Q1620.88 1433.1 1618.88 1433.72 Q1616.91 1434.34 1614.65 1435.6 L1614.65 1431.77 Q1616.95 1430.85 1618.94 1430.38 Q1620.93 1429.91 1622.59 1429.91 Q1626.95 1429.91 1629.55 1432.09 Q1632.14 1434.27 1632.14 1437.92 Q1632.14 1439.65 1631.49 1441.21 Q1630.85 1442.75 1629.13 1444.86 Q1628.66 1445.4 1626.14 1448.02 Q1623.62 1450.61 1619.03 1455.3 Z\" fill=\"#000000\" fill-rule=\"evenodd\" fill-opacity=\"1\" /><path clip-path=\"url(#clip100)\" d=\"M 0 0 M1636.41 1453.72 L1640.38 1453.72 L1640.38 1458.49 L1636.41 1458.49 L1636.41 1453.72 Z\" fill=\"#000000\" fill-rule=\"evenodd\" fill-opacity=\"1\" /><path clip-path=\"url(#clip100)\" d=\"M 0 0 M1644.54 1430.41 L1659.45 1430.41 L1659.45 1433.61 L1648.02 1433.61 L1648.02 1440.49 Q1648.84 1440.21 1649.67 1440.08 Q1650.5 1439.93 1651.33 1439.93 Q1656.03 1439.93 1658.78 1442.51 Q1661.52 1445.08 1661.52 1449.48 Q1661.52 1454.02 1658.7 1456.54 Q1655.88 1459.04 1650.74 1459.04 Q1648.98 1459.04 1647.13 1458.74 Q1645.31 1458.44 1643.35 1457.84 L1643.35 1454.02 Q1645.05 1454.94 1646.85 1455.39 Q1648.66 1455.84 1650.67 1455.84 Q1653.92 1455.84 1655.82 1454.13 Q1657.72 1452.42 1657.72 1449.48 Q1657.72 1446.55 1655.82 1444.84 Q1653.92 1443.13 1650.67 1443.13 Q1649.15 1443.13 1647.62 1443.47 Q1646.12 1443.8 1644.54 1444.52 L1644.54 1430.41 Z\" fill=\"#000000\" fill-rule=\"evenodd\" fill-opacity=\"1\" /><path clip-path=\"url(#clip100)\" d=\"M 0 0 M2011.95 1481.97 L2019.59 1481.97 L2019.59 1455.6 L2011.28 1457.27 L2011.28 1453.01 L2019.54 1451.34 L2024.22 1451.34 L2024.22 1481.97 L2031.86 1481.97 L2031.86 1485.9 L2011.95 1485.9 L2011.95 1481.97 Z\" fill=\"#000000\" fill-rule=\"evenodd\" fill-opacity=\"1\" /><path clip-path=\"url(#clip100)\" d=\"M 0 0 M2046.93 1454.42 Q2043.32 1454.42 2041.49 1457.99 Q2039.68 1461.53 2039.68 1468.66 Q2039.68 1475.77 2041.49 1479.33 Q2043.32 1482.87 2046.93 1482.87 Q2050.56 1482.87 2052.37 1479.33 Q2054.2 1475.77 2054.2 1468.66 Q2054.2 1461.53 2052.37 1457.99 Q2050.56 1454.42 2046.93 1454.42 M2046.93 1450.72 Q2052.74 1450.72 2055.79 1455.33 Q2058.87 1459.91 2058.87 1468.66 Q2058.87 1477.39 2055.79 1481.99 Q2052.74 1486.58 2046.93 1486.58 Q2041.12 1486.58 2038.04 1481.99 Q2034.98 1477.39 2034.98 1468.66 Q2034.98 1459.91 2038.04 1455.33 Q2041.12 1450.72 2046.93 1450.72 Z\" fill=\"#000000\" fill-rule=\"evenodd\" fill-opacity=\"1\" /><path clip-path=\"url(#clip100)\" d=\"M 0 0 M2071.57 1443.35 Q2074.3 1443.94 2075.82 1445.78 Q2077.36 1447.62 2077.36 1450.33 Q2077.36 1454.49 2074.5 1456.76 Q2071.64 1459.04 2066.38 1459.04 Q2064.61 1459.04 2062.73 1458.68 Q2060.87 1458.34 2058.87 1457.65 L2058.87 1453.98 Q2060.45 1454.9 2062.33 1455.37 Q2064.21 1455.84 2066.26 1455.84 Q2069.84 1455.84 2071.7 1454.43 Q2073.58 1453.02 2073.58 1450.33 Q2073.58 1447.85 2071.83 1446.46 Q2070.1 1445.05 2067 1445.05 L2063.73 1445.05 L2063.73 1441.92 L2067.15 1441.92 Q2069.95 1441.92 2071.44 1440.81 Q2072.92 1439.69 2072.92 1437.58 Q2072.92 1435.42 2071.38 1434.27 Q2069.86 1433.1 2067 1433.1 Q2065.44 1433.1 2063.65 1433.44 Q2061.86 1433.78 2059.72 1434.49 L2059.72 1431.11 Q2061.88 1430.51 2063.76 1430.21 Q2065.66 1429.91 2067.34 1429.91 Q2071.66 1429.91 2074.18 1431.88 Q2076.7 1433.84 2076.7 1437.18 Q2076.7 1439.52 2075.37 1441.13 Q2074.03 1442.73 2071.57 1443.35 Z\" fill=\"#000000\" fill-rule=\"evenodd\" fill-opacity=\"1\" /><path clip-path=\"url(#clip100)\" d=\"M 0 0 M2081.48 1453.72 L2085.45 1453.72 L2085.45 1458.49 L2081.48 1458.49 L2081.48 1453.72 Z\" fill=\"#000000\" fill-rule=\"evenodd\" fill-opacity=\"1\" /><path clip-path=\"url(#clip100)\" d=\"M 0 0 M2097.69 1432.91 Q2094.76 1432.91 2093.27 1435.81 Q2091.81 1438.69 2091.81 1444.48 Q2091.81 1450.26 2093.27 1453.15 Q2094.76 1456.03 2097.69 1456.03 Q2100.65 1456.03 2102.11 1453.15 Q2103.6 1450.26 2103.6 1444.48 Q2103.6 1438.69 2102.11 1435.81 Q2100.65 1432.91 2097.69 1432.91 M2097.69 1429.91 Q2102.41 1429.91 2104.9 1433.65 Q2107.4 1437.37 2107.4 1444.48 Q2107.4 1451.57 2104.9 1455.31 Q2102.41 1459.04 2097.69 1459.04 Q2092.97 1459.04 2090.47 1455.31 Q2087.99 1451.57 2087.99 1444.48 Q2087.99 1437.37 2090.47 1433.65 Q2092.97 1429.91 2097.69 1429.91 Z\" fill=\"#000000\" fill-rule=\"evenodd\" fill-opacity=\"1\" /><path clip-path=\"url(#clip100)\" d=\"M 0 0 M162.811 1241.79 Q159.663 1241.79 157.811 1243.95 Q155.982 1246.1 155.982 1249.85 Q155.982 1253.58 157.811 1255.75 Q159.663 1257.9 162.811 1257.9 Q165.959 1257.9 167.788 1255.75 Q169.64 1253.58 169.64 1249.85 Q169.64 1246.1 167.788 1243.95 Q165.959 1241.79 162.811 1241.79 M172.093 1227.14 L172.093 1231.4 Q170.334 1230.57 168.528 1230.13 Q166.746 1229.69 164.987 1229.69 Q160.357 1229.69 157.904 1232.81 Q155.473 1235.94 155.126 1242.26 Q156.491 1240.24 158.552 1239.18 Q160.612 1238.09 163.089 1238.09 Q168.297 1238.09 171.306 1241.26 Q174.339 1244.41 174.339 1249.85 Q174.339 1255.17 171.19 1258.39 Q168.042 1261.61 162.811 1261.61 Q156.816 1261.61 153.644 1257.02 Q150.473 1252.42 150.473 1243.69 Q150.473 1235.5 154.362 1230.64 Q158.251 1225.75 164.802 1225.75 Q166.561 1225.75 168.343 1226.1 Q170.149 1226.45 172.093 1227.14 Z\" fill=\"#000000\" fill-rule=\"evenodd\" fill-opacity=\"1\" /><path clip-path=\"url(#clip100)\" d=\"M 0 0 M189.408 1229.45 Q185.797 1229.45 183.968 1233.02 Q182.163 1236.56 182.163 1243.69 Q182.163 1250.8 183.968 1254.36 Q185.797 1257.9 189.408 1257.9 Q193.042 1257.9 194.848 1254.36 Q196.676 1250.8 196.676 1243.69 Q196.676 1236.56 194.848 1233.02 Q193.042 1229.45 189.408 1229.45 M189.408 1225.75 Q195.218 1225.75 198.274 1230.36 Q201.352 1234.94 201.352 1243.69 Q201.352 1252.42 198.274 1257.02 Q195.218 1261.61 189.408 1261.61 Q183.598 1261.61 180.519 1257.02 Q177.464 1252.42 177.464 1243.69 Q177.464 1234.94 180.519 1230.36 Q183.598 1225.75 189.408 1225.75 Z\" fill=\"#000000\" fill-rule=\"evenodd\" fill-opacity=\"1\" /><path clip-path=\"url(#clip100)\" d=\"M 0 0 M162.487 987.231 Q159.153 987.231 157.232 989.014 Q155.334 990.796 155.334 993.921 Q155.334 997.046 157.232 998.829 Q159.153 1000.61 162.487 1000.61 Q165.82 1000.61 167.741 998.829 Q169.663 997.023 169.663 993.921 Q169.663 990.796 167.741 989.014 Q165.843 987.231 162.487 987.231 M157.811 985.241 Q154.802 984.5 153.112 982.44 Q151.445 980.38 151.445 977.417 Q151.445 973.273 154.385 970.866 Q157.348 968.458 162.487 968.458 Q167.649 968.458 170.589 970.866 Q173.528 973.273 173.528 977.417 Q173.528 980.38 171.839 982.44 Q170.172 984.5 167.186 985.241 Q170.565 986.028 172.44 988.319 Q174.339 990.611 174.339 993.921 Q174.339 998.944 171.26 1001.63 Q168.204 1004.31 162.487 1004.31 Q156.769 1004.31 153.691 1001.63 Q150.635 998.944 150.635 993.921 Q150.635 990.611 152.533 988.319 Q154.431 986.028 157.811 985.241 M156.098 977.856 Q156.098 980.542 157.765 982.046 Q159.454 983.551 162.487 983.551 Q165.496 983.551 167.186 982.046 Q168.899 980.542 168.899 977.856 Q168.899 975.171 167.186 973.667 Q165.496 972.162 162.487 972.162 Q159.454 972.162 157.765 973.667 Q156.098 975.171 156.098 977.856 Z\" fill=\"#000000\" fill-rule=\"evenodd\" fill-opacity=\"1\" /><path clip-path=\"url(#clip100)\" d=\"M 0 0 M189.408 972.162 Q185.797 972.162 183.968 975.727 Q182.163 979.268 182.163 986.398 Q182.163 993.504 183.968 997.069 Q185.797 1000.61 189.408 1000.61 Q193.042 1000.61 194.848 997.069 Q196.676 993.504 196.676 986.398 Q196.676 979.268 194.848 975.727 Q193.042 972.162 189.408 972.162 M189.408 968.458 Q195.218 968.458 198.274 973.065 Q201.352 977.648 201.352 986.398 Q201.352 995.125 198.274 999.731 Q195.218 1004.31 189.408 1004.31 Q183.598 1004.31 180.519 999.731 Q177.464 995.125 177.464 986.398 Q177.464 977.648 180.519 973.065 Q183.598 968.458 189.408 968.458 Z\" fill=\"#000000\" fill-rule=\"evenodd\" fill-opacity=\"1\" /><path clip-path=\"url(#clip100)\" d=\"M 0 0 M127.418 742.415 L135.056 742.415 L135.056 716.05 L126.746 717.716 L126.746 713.457 L135.01 711.79 L139.686 711.79 L139.686 742.415 L147.325 742.415 L147.325 746.35 L127.418 746.35 L127.418 742.415 Z\" fill=\"#000000\" fill-rule=\"evenodd\" fill-opacity=\"1\" /><path clip-path=\"url(#clip100)\" d=\"M 0 0 M162.394 714.869 Q158.783 714.869 156.954 718.434 Q155.149 721.975 155.149 729.105 Q155.149 736.212 156.954 739.776 Q158.783 743.318 162.394 743.318 Q166.028 743.318 167.834 739.776 Q169.663 736.212 169.663 729.105 Q169.663 721.975 167.834 718.434 Q166.028 714.869 162.394 714.869 M162.394 711.165 Q168.204 711.165 171.26 715.772 Q174.339 720.355 174.339 729.105 Q174.339 737.832 171.26 742.438 Q168.204 747.022 162.394 747.022 Q156.584 747.022 153.505 742.438 Q150.45 737.832 150.45 729.105 Q150.45 720.355 153.505 715.772 Q156.584 711.165 162.394 711.165 Z\" fill=\"#000000\" fill-rule=\"evenodd\" fill-opacity=\"1\" /><path clip-path=\"url(#clip100)\" d=\"M 0 0 M189.408 714.869 Q185.797 714.869 183.968 718.434 Q182.163 721.975 182.163 729.105 Q182.163 736.212 183.968 739.776 Q185.797 743.318 189.408 743.318 Q193.042 743.318 194.848 739.776 Q196.676 736.212 196.676 729.105 Q196.676 721.975 194.848 718.434 Q193.042 714.869 189.408 714.869 M189.408 711.165 Q195.218 711.165 198.274 715.772 Q201.352 720.355 201.352 729.105 Q201.352 737.832 198.274 742.438 Q195.218 747.022 189.408 747.022 Q183.598 747.022 180.519 742.438 Q177.464 737.832 177.464 729.105 Q177.464 720.355 180.519 715.772 Q183.598 711.165 189.408 711.165 Z\" fill=\"#000000\" fill-rule=\"evenodd\" fill-opacity=\"1\" /><path clip-path=\"url(#clip100)\" d=\"M 0 0 M129.015 485.122 L136.654 485.122 L136.654 458.757 L128.343 460.423 L128.343 456.164 L136.607 454.497 L141.283 454.497 L141.283 485.122 L148.922 485.122 L148.922 489.057 L129.015 489.057 L129.015 485.122 Z\" fill=\"#000000\" fill-rule=\"evenodd\" fill-opacity=\"1\" /><path clip-path=\"url(#clip100)\" d=\"M 0 0 M158.019 485.122 L174.339 485.122 L174.339 489.057 L152.394 489.057 L152.394 485.122 Q155.056 482.368 159.64 477.738 Q164.246 473.085 165.427 471.743 Q167.672 469.22 168.552 467.483 Q169.454 465.724 169.454 464.034 Q169.454 461.28 167.51 459.544 Q165.589 457.808 162.487 457.808 Q160.288 457.808 157.834 458.571 Q155.404 459.335 152.626 460.886 L152.626 456.164 Q155.45 455.03 157.904 454.451 Q160.357 453.872 162.394 453.872 Q167.765 453.872 170.959 456.558 Q174.153 459.243 174.153 463.733 Q174.153 465.863 173.343 467.784 Q172.556 469.683 170.45 472.275 Q169.871 472.946 166.769 476.164 Q163.667 479.358 158.019 485.122 Z\" fill=\"#000000\" fill-rule=\"evenodd\" fill-opacity=\"1\" /><path clip-path=\"url(#clip100)\" d=\"M 0 0 M189.408 457.576 Q185.797 457.576 183.968 461.141 Q182.163 464.683 182.163 471.812 Q182.163 478.919 183.968 482.483 Q185.797 486.025 189.408 486.025 Q193.042 486.025 194.848 482.483 Q196.676 478.919 196.676 471.812 Q196.676 464.683 194.848 461.141 Q193.042 457.576 189.408 457.576 M189.408 453.872 Q195.218 453.872 198.274 458.479 Q201.352 463.062 201.352 471.812 Q201.352 480.539 198.274 485.145 Q195.218 489.729 189.408 489.729 Q183.598 489.729 180.519 485.145 Q177.464 480.539 177.464 471.812 Q177.464 463.062 180.519 458.479 Q183.598 453.872 189.408 453.872 Z\" fill=\"#000000\" fill-rule=\"evenodd\" fill-opacity=\"1\" /><path clip-path=\"url(#clip100)\" d=\"M 0 0 M126.931 227.829 L134.57 227.829 L134.57 201.464 L126.26 203.13 L126.26 198.871 L134.524 197.205 L139.2 197.205 L139.2 227.829 L146.839 227.829 L146.839 231.765 L126.931 231.765 L126.931 227.829 Z\" fill=\"#000000\" fill-rule=\"evenodd\" fill-opacity=\"1\" /><path clip-path=\"url(#clip100)\" d=\"M 0 0 M164.755 201.279 L152.95 219.728 L164.755 219.728 L164.755 201.279 M163.528 197.205 L169.408 197.205 L169.408 219.728 L174.339 219.728 L174.339 223.616 L169.408 223.616 L169.408 231.765 L164.755 231.765 L164.755 223.616 L149.154 223.616 L149.154 219.103 L163.528 197.205 Z\" fill=\"#000000\" fill-rule=\"evenodd\" fill-opacity=\"1\" /><path clip-path=\"url(#clip100)\" d=\"M 0 0 M189.408 200.283 Q185.797 200.283 183.968 203.848 Q182.163 207.39 182.163 214.519 Q182.163 221.626 183.968 225.19 Q185.797 228.732 189.408 228.732 Q193.042 228.732 194.848 225.19 Q196.676 221.626 196.676 214.519 Q196.676 207.39 194.848 203.848 Q193.042 200.283 189.408 200.283 M189.408 196.58 Q195.218 196.58 198.274 201.186 Q201.352 205.769 201.352 214.519 Q201.352 223.246 198.274 227.852 Q195.218 232.436 189.408 232.436 Q183.598 232.436 180.519 227.852 Q177.464 223.246 177.464 214.519 Q177.464 205.769 180.519 201.186 Q183.598 196.58 189.408 196.58 Z\" fill=\"#000000\" fill-rule=\"evenodd\" fill-opacity=\"1\" /><path clip-path=\"url(#clip100)\" d=\"M 0 0 M1099.33 1542.9 L1099.33 1545.76 L1072.41 1545.76 Q1072.79 1551.81 1076.04 1554.99 Q1079.31 1558.14 1085.14 1558.14 Q1088.51 1558.14 1091.66 1557.32 Q1094.85 1556.49 1097.97 1554.83 L1097.97 1560.37 Q1094.81 1561.71 1091.5 1562.41 Q1088.19 1563.11 1084.79 1563.11 Q1076.26 1563.11 1071.26 1558.14 Q1066.3 1553.18 1066.3 1544.71 Q1066.3 1535.96 1071.01 1530.83 Q1075.75 1525.68 1083.77 1525.68 Q1090.96 1525.68 1095.13 1530.33 Q1099.33 1534.94 1099.33 1542.9 M1093.48 1541.18 Q1093.41 1536.37 1090.77 1533.51 Q1088.16 1530.64 1083.83 1530.64 Q1078.93 1530.64 1075.97 1533.41 Q1073.04 1536.18 1072.6 1541.21 L1093.48 1541.18 Z\" fill=\"#000000\" fill-rule=\"evenodd\" fill-opacity=\"1\" /><path clip-path=\"url(#clip100)\" d=\"M 0 0 M1111.14 1556.84 L1111.14 1575.74 L1105.25 1575.74 L1105.25 1526.54 L1111.14 1526.54 L1111.14 1531.95 Q1112.99 1528.77 1115.79 1527.24 Q1118.62 1525.68 1122.54 1525.68 Q1129.03 1525.68 1133.07 1530.83 Q1137.15 1535.99 1137.15 1544.39 Q1137.15 1552.8 1133.07 1557.95 Q1129.03 1563.11 1122.54 1563.11 Q1118.62 1563.11 1115.79 1561.58 Q1112.99 1560.02 1111.14 1556.84 M1131.07 1544.39 Q1131.07 1537.93 1128.39 1534.27 Q1125.75 1530.58 1121.1 1530.58 Q1116.46 1530.58 1113.78 1534.27 Q1111.14 1537.93 1111.14 1544.39 Q1111.14 1550.85 1113.78 1554.55 Q1116.46 1558.21 1121.1 1558.21 Q1125.75 1558.21 1128.39 1554.55 Q1131.07 1550.85 1131.07 1544.39 Z\" fill=\"#000000\" fill-rule=\"evenodd\" fill-opacity=\"1\" /><path clip-path=\"url(#clip100)\" d=\"M 0 0 M1157.1 1530.64 Q1152.39 1530.64 1149.65 1534.34 Q1146.92 1538 1146.92 1544.39 Q1146.92 1550.79 1149.62 1554.48 Q1152.36 1558.14 1157.1 1558.14 Q1161.78 1558.14 1164.52 1554.45 Q1167.26 1550.76 1167.26 1544.39 Q1167.26 1538.06 1164.52 1534.37 Q1161.78 1530.64 1157.1 1530.64 M1157.1 1525.68 Q1164.74 1525.68 1169.1 1530.64 Q1173.46 1535.61 1173.46 1544.39 Q1173.46 1553.15 1169.1 1558.14 Q1164.74 1563.11 1157.1 1563.11 Q1149.43 1563.11 1145.07 1558.14 Q1140.74 1553.15 1140.74 1544.39 Q1140.74 1535.61 1145.07 1530.64 Q1149.43 1525.68 1157.1 1525.68 Z\" fill=\"#000000\" fill-rule=\"evenodd\" fill-opacity=\"1\" /><path clip-path=\"url(#clip100)\" d=\"M 0 0 M1205.26 1527.91 L1205.26 1533.38 Q1202.78 1532.01 1200.26 1531.34 Q1197.78 1530.64 1195.23 1530.64 Q1189.54 1530.64 1186.38 1534.27 Q1183.23 1537.87 1183.23 1544.39 Q1183.23 1550.92 1186.38 1554.55 Q1189.54 1558.14 1195.23 1558.14 Q1197.78 1558.14 1200.26 1557.47 Q1202.78 1556.77 1205.26 1555.41 L1205.26 1560.82 Q1202.81 1561.96 1200.17 1562.54 Q1197.56 1563.11 1194.6 1563.11 Q1186.54 1563.11 1181.8 1558.05 Q1177.06 1552.99 1177.06 1544.39 Q1177.06 1535.67 1181.83 1530.68 Q1186.64 1525.68 1194.98 1525.68 Q1197.68 1525.68 1200.26 1526.25 Q1202.84 1526.79 1205.26 1527.91 Z\" fill=\"#000000\" fill-rule=\"evenodd\" fill-opacity=\"1\" /><path clip-path=\"url(#clip100)\" d=\"M 0 0 M1241.03 1540.67 L1241.03 1562.19 L1235.18 1562.19 L1235.18 1540.86 Q1235.18 1535.8 1233.2 1533.29 Q1231.23 1530.77 1227.28 1530.77 Q1222.54 1530.77 1219.8 1533.79 Q1217.07 1536.82 1217.07 1542.04 L1217.07 1562.19 L1211.18 1562.19 L1211.18 1512.66 L1217.07 1512.66 L1217.07 1532.08 Q1219.17 1528.86 1222 1527.27 Q1224.87 1525.68 1228.59 1525.68 Q1234.73 1525.68 1237.88 1529.5 Q1241.03 1533.29 1241.03 1540.67 Z\" fill=\"#000000\" fill-rule=\"evenodd\" fill-opacity=\"1\" /><path clip-path=\"url(#clip100)\" d=\"M 0 0 M1269.9 1527.59 L1269.9 1533.13 Q1267.42 1531.85 1264.75 1531.22 Q1262.07 1530.58 1259.21 1530.58 Q1254.85 1530.58 1252.65 1531.92 Q1250.49 1533.25 1250.49 1535.93 Q1250.49 1537.96 1252.05 1539.14 Q1253.61 1540.29 1258.32 1541.34 L1260.32 1541.78 Q1266.56 1543.12 1269.17 1545.57 Q1271.81 1547.99 1271.81 1552.35 Q1271.81 1557.32 1267.87 1560.21 Q1263.95 1563.11 1257.08 1563.11 Q1254.21 1563.11 1251.09 1562.54 Q1248 1561.99 1244.57 1560.88 L1244.57 1554.83 Q1247.81 1556.52 1250.96 1557.38 Q1254.12 1558.21 1257.2 1558.21 Q1261.34 1558.21 1263.57 1556.81 Q1265.8 1555.37 1265.8 1552.8 Q1265.8 1550.41 1264.17 1549.14 Q1262.58 1547.86 1257.14 1546.68 L1255.1 1546.21 Q1249.66 1545.06 1247.24 1542.71 Q1244.82 1540.32 1244.82 1536.18 Q1244.82 1531.15 1248.39 1528.42 Q1251.95 1525.68 1258.51 1525.68 Q1261.75 1525.68 1264.62 1526.16 Q1267.48 1526.63 1269.9 1527.59 Z\" fill=\"#000000\" fill-rule=\"evenodd\" fill-opacity=\"1\" /><path clip-path=\"url(#clip100)\" d=\"M 0 0 M70.212 837.813 Q63.7508 837.813 60.0905 840.486 Q56.3984 843.128 56.3984 847.775 Q56.3984 852.422 60.0905 855.095 Q63.7508 857.737 70.212 857.737 Q76.6732 857.737 80.3653 855.095 Q84.0256 852.422 84.0256 847.775 Q84.0256 843.128 80.3653 840.486 Q76.6732 837.813 70.212 837.813 M57.7671 857.737 Q54.5842 855.891 53.0564 853.09 Q51.4968 850.258 51.4968 846.343 Q51.4968 839.85 56.6531 835.807 Q61.8093 831.733 70.212 831.733 Q78.6147 831.733 83.771 835.807 Q88.9272 839.85 88.9272 846.343 Q88.9272 850.258 87.3994 853.09 Q85.8398 855.891 82.657 857.737 L88.0042 857.737 L88.0042 863.625 L38.479 863.625 L38.479 857.737 L57.7671 857.737 Z\" fill=\"#000000\" fill-rule=\"evenodd\" fill-opacity=\"1\" /><path clip-path=\"url(#clip100)\" d=\"M 0 0 M73.9359 826.195 L52.3562 826.195 L52.3562 820.339 L73.7131 820.339 Q78.7739 820.339 81.3202 818.365 Q83.8346 816.392 83.8346 812.445 Q83.8346 807.703 80.8109 804.966 Q77.7872 802.196 72.5673 802.196 L52.3562 802.196 L52.3562 796.34 L88.0042 796.34 L88.0042 802.196 L82.5296 802.196 Q85.7762 804.329 87.3676 807.162 Q88.9272 809.963 88.9272 813.687 Q88.9272 819.829 85.1078 823.012 Q81.2883 826.195 73.9359 826.195 M51.4968 811.459 L51.4968 811.459 Z\" fill=\"#000000\" fill-rule=\"evenodd\" fill-opacity=\"1\" /><path clip-path=\"url(#clip100)\" d=\"M 0 0 M52.3562 790.197 L52.3562 784.341 L88.0042 784.341 L88.0042 790.197 L52.3562 790.197 M38.479 790.197 L38.479 784.341 L45.895 784.341 L45.895 790.197 L38.479 790.197 Z\" fill=\"#000000\" fill-rule=\"evenodd\" fill-opacity=\"1\" /><path clip-path=\"url(#clip100)\" d=\"M 0 0 M38.479 778.198 L38.479 772.341 L88.0042 772.341 L88.0042 778.198 L38.479 778.198 Z\" fill=\"#000000\" fill-rule=\"evenodd\" fill-opacity=\"1\" /><path clip-path=\"url(#clip100)\" d=\"M 0 0 M57.7671 742.741 L38.479 742.741 L38.479 736.884 L88.0042 736.884 L88.0042 742.741 L82.657 742.741 Q85.8398 744.587 87.3994 747.42 Q88.9272 750.22 88.9272 754.167 Q88.9272 760.628 83.771 764.702 Q78.6147 768.745 70.212 768.745 Q61.8093 768.745 56.6531 764.702 Q51.4968 760.628 51.4968 754.167 Q51.4968 750.22 53.0564 747.42 Q54.5842 744.587 57.7671 742.741 M70.212 762.697 Q76.6732 762.697 80.3653 760.055 Q84.0256 757.382 84.0256 752.735 Q84.0256 748.088 80.3653 745.414 Q76.6732 742.741 70.212 742.741 Q63.7508 742.741 60.0905 745.414 Q56.3984 748.088 56.3984 752.735 Q56.3984 757.382 60.0905 760.055 Q63.7508 762.697 70.212 762.697 Z\" fill=\"#000000\" fill-rule=\"evenodd\" fill-opacity=\"1\" /><path clip-path=\"url(#clip100)\" d=\"M 0 0 M68.7161 700.25 L71.5806 700.25 L71.5806 727.177 Q77.6281 726.795 80.8109 723.548 Q83.9619 720.27 83.9619 714.445 Q83.9619 711.071 83.1344 707.92 Q82.3069 704.737 80.6518 701.618 L86.1899 701.618 Q87.5267 704.769 88.227 708.079 Q88.9272 711.39 88.9272 714.795 Q88.9272 723.325 83.9619 728.322 Q78.9967 733.288 70.5303 733.288 Q61.7774 733.288 56.6531 728.577 Q51.4968 723.835 51.4968 715.814 Q51.4968 708.621 56.1438 704.451 Q60.7589 700.25 68.7161 700.25 M66.9973 706.106 Q62.1912 706.17 59.3266 708.812 Q56.4621 711.421 56.4621 715.75 Q56.4621 720.652 59.2312 723.612 Q62.0002 726.54 67.0292 726.986 L66.9973 706.106 Z\" fill=\"#000000\" fill-rule=\"evenodd\" fill-opacity=\"1\" /><path clip-path=\"url(#clip100)\" d=\"M 0 0 M57.8307 673.45 Q57.2578 674.437 57.0032 675.614 Q56.7167 676.76 56.7167 678.161 Q56.7167 683.126 59.9632 685.799 Q63.1779 688.441 69.2253 688.441 L88.0042 688.441 L88.0042 694.33 L52.3562 694.33 L52.3562 688.441 L57.8944 688.441 Q54.6479 686.595 53.0883 683.635 Q51.4968 680.675 51.4968 676.442 Q51.4968 675.837 51.5923 675.105 Q51.656 674.373 51.8151 673.482 L57.8307 673.45 Z\" fill=\"#000000\" fill-rule=\"evenodd\" fill-opacity=\"1\" /><path clip-path=\"url(#clip100)\" d=\"M 0 0 M79.9197 672.463 L79.9197 665.748 L88.0042 665.748 L88.0042 672.463 L79.9197 672.463 Z\" fill=\"#000000\" fill-rule=\"evenodd\" fill-opacity=\"1\" /><path clip-path=\"url(#clip100)\" d=\"M 0 0 M66.4881 629.972 L88.0042 629.972 L88.0042 635.829 L66.679 635.829 Q61.6183 635.829 59.1038 637.802 Q56.5894 639.775 56.5894 643.722 Q56.5894 648.465 59.6131 651.202 Q62.6368 653.939 67.8567 653.939 L88.0042 653.939 L88.0042 659.827 L52.3562 659.827 L52.3562 653.939 L57.8944 653.939 Q54.6797 651.838 53.0883 649.006 Q51.4968 646.141 51.4968 642.417 Q51.4968 636.274 55.3163 633.123 Q59.1038 629.972 66.4881 629.972 Z\" fill=\"#000000\" fill-rule=\"evenodd\" fill-opacity=\"1\" /><path clip-path=\"url(#clip100)\" d=\"M 0 0 M82.5933 621.888 L82.5933 611.384 L46.3406 611.384 L48.6323 622.811 L42.7758 622.811 L40.4842 611.448 L40.4842 605.019 L82.5933 605.019 L82.5933 594.515 L88.0042 594.515 L88.0042 621.888 L82.5933 621.888 Z\" fill=\"#000000\" fill-rule=\"evenodd\" fill-opacity=\"1\" /><circle clip-path=\"url(#clip102)\" cx=\"763.145\" cy=\"664.747\" r=\"29\" fill=\"#9e2963\" fill-rule=\"evenodd\" fill-opacity=\"1\" stroke=\"#000000\" stroke-opacity=\"1\" stroke-width=\"3.2\"/>\n",
       "<circle clip-path=\"url(#clip102)\" cx=\"2059.34\" cy=\"1024.96\" r=\"5\" fill=\"#02020f\" fill-rule=\"evenodd\" fill-opacity=\"1\" stroke=\"#000000\" stroke-opacity=\"1\" stroke-width=\"3.2\"/>\n",
       "<circle clip-path=\"url(#clip102)\" cx=\"435.541\" cy=\"909.175\" r=\"47\" fill=\"#f98c0a\" fill-rule=\"evenodd\" fill-opacity=\"1\" stroke=\"#000000\" stroke-opacity=\"1\" stroke-width=\"3.2\"/>\n",
       "<circle clip-path=\"url(#clip102)\" cx=\"763.145\" cy=\"1024.96\" r=\"33\" fill=\"#b83555\" fill-rule=\"evenodd\" fill-opacity=\"1\" stroke=\"#000000\" stroke-opacity=\"1\" stroke-width=\"3.2\"/>\n",
       "<circle clip-path=\"url(#clip102)\" cx=\"600.81\" cy=\"548.965\" r=\"36\" fill=\"#cd4347\" fill-rule=\"evenodd\" fill-opacity=\"1\" stroke=\"#000000\" stroke-opacity=\"1\" stroke-width=\"3.2\"/>\n",
       "<circle clip-path=\"url(#clip102)\" cx=\"1249.1\" cy=\"1140.74\" r=\"18\" fill=\"#560f6d\" fill-rule=\"evenodd\" fill-opacity=\"1\" stroke=\"#000000\" stroke-opacity=\"1\" stroke-width=\"3.2\"/>\n",
       "<circle clip-path=\"url(#clip102)\" cx=\"1897.51\" cy=\"201.62\" r=\"7\" fill=\"#0b0725\" fill-rule=\"evenodd\" fill-opacity=\"1\" stroke=\"#000000\" stroke-opacity=\"1\" stroke-width=\"3.2\"/>\n",
       "<circle clip-path=\"url(#clip102)\" cx=\"1574\" cy=\"433.183\" r=\"11\" fill=\"#1e0c47\" fill-rule=\"evenodd\" fill-opacity=\"1\" stroke=\"#000000\" stroke-opacity=\"1\" stroke-width=\"3.2\"/>\n",
       "<circle clip-path=\"url(#clip102)\" cx=\"923.581\" cy=\"1256.52\" r=\"29\" fill=\"#9e2963\" fill-rule=\"evenodd\" fill-opacity=\"1\" stroke=\"#000000\" stroke-opacity=\"1\" stroke-width=\"3.2\"/>\n",
       "<circle clip-path=\"url(#clip102)\" cx=\"278.769\" cy=\"664.747\" r=\"54\" fill=\"#f7ce38\" fill-rule=\"evenodd\" fill-opacity=\"1\" stroke=\"#000000\" stroke-opacity=\"1\" stroke-width=\"3.2\"/>\n",
       "<circle clip-path=\"url(#clip102)\" cx=\"1411.07\" cy=\"433.183\" r=\"12\" fill=\"#290b55\" fill-rule=\"evenodd\" fill-opacity=\"1\" stroke=\"#000000\" stroke-opacity=\"1\" stroke-width=\"3.2\"/>\n",
       "<circle clip-path=\"url(#clip102)\" cx=\"1735.71\" cy=\"1140.74\" r=\"9\" fill=\"#140b36\" fill-rule=\"evenodd\" fill-opacity=\"1\" stroke=\"#000000\" stroke-opacity=\"1\" stroke-width=\"3.2\"/>\n",
       "<circle clip-path=\"url(#clip102)\" cx=\"1735.71\" cy=\"909.175\" r=\"8\" fill=\"#0e082a\" fill-rule=\"evenodd\" fill-opacity=\"1\" stroke=\"#000000\" stroke-opacity=\"1\" stroke-width=\"3.2\"/>\n",
       "<circle clip-path=\"url(#clip102)\" cx=\"600.81\" cy=\"1372.3\" r=\"45\" fill=\"#f57d14\" fill-rule=\"evenodd\" fill-opacity=\"1\" stroke=\"#000000\" stroke-opacity=\"1\" stroke-width=\"3.2\"/>\n",
       "<circle clip-path=\"url(#clip102)\" cx=\"1249.1\" cy=\"664.747\" r=\"16\" fill=\"#450a69\" fill-rule=\"evenodd\" fill-opacity=\"1\" stroke=\"#000000\" stroke-opacity=\"1\" stroke-width=\"3.2\"/>\n",
       "<circle clip-path=\"url(#clip102)\" cx=\"763.145\" cy=\"201.62\" r=\"28\" fill=\"#9a2864\" fill-rule=\"evenodd\" fill-opacity=\"1\" stroke=\"#000000\" stroke-opacity=\"1\" stroke-width=\"3.2\"/>\n",
       "<circle clip-path=\"url(#clip102)\" cx=\"763.145\" cy=\"1256.52\" r=\"35\" fill=\"#c53d4d\" fill-rule=\"evenodd\" fill-opacity=\"1\" stroke=\"#000000\" stroke-opacity=\"1\" stroke-width=\"3.2\"/>\n",
       "<circle clip-path=\"url(#clip102)\" cx=\"600.81\" cy=\"1140.74\" r=\"42\" fill=\"#ea6329\" fill-rule=\"evenodd\" fill-opacity=\"1\" stroke=\"#000000\" stroke-opacity=\"1\" stroke-width=\"3.2\"/>\n",
       "<circle clip-path=\"url(#clip102)\" cx=\"763.145\" cy=\"793.394\" r=\"30\" fill=\"#a52c60\" fill-rule=\"evenodd\" fill-opacity=\"1\" stroke=\"#000000\" stroke-opacity=\"1\" stroke-width=\"3.2\"/>\n",
       "<circle clip-path=\"url(#clip102)\" cx=\"600.81\" cy=\"317.402\" r=\"36\" fill=\"#cb4049\" fill-rule=\"evenodd\" fill-opacity=\"1\" stroke=\"#000000\" stroke-opacity=\"1\" stroke-width=\"3.2\"/>\n",
       "<circle clip-path=\"url(#clip102)\" cx=\"923.581\" cy=\"548.965\" r=\"25\" fill=\"#86216a\" fill-rule=\"evenodd\" fill-opacity=\"1\" stroke=\"#000000\" stroke-opacity=\"1\" stroke-width=\"3.2\"/>\n",
       "<circle clip-path=\"url(#clip102)\" cx=\"1087.58\" cy=\"433.183\" r=\"20\" fill=\"#60136e\" fill-rule=\"evenodd\" fill-opacity=\"1\" stroke=\"#000000\" stroke-opacity=\"1\" stroke-width=\"3.2\"/>\n",
       "<circle clip-path=\"url(#clip102)\" cx=\"2059.34\" cy=\"909.175\" r=\"4\" fill=\"#010109\" fill-rule=\"evenodd\" fill-opacity=\"1\" stroke=\"#000000\" stroke-opacity=\"1\" stroke-width=\"3.2\"/>\n",
       "<circle clip-path=\"url(#clip102)\" cx=\"1087.58\" cy=\"548.965\" r=\"20\" fill=\"#62146e\" fill-rule=\"evenodd\" fill-opacity=\"1\" stroke=\"#000000\" stroke-opacity=\"1\" stroke-width=\"3.2\"/>\n",
       "<circle clip-path=\"url(#clip102)\" cx=\"1249.1\" cy=\"433.183\" r=\"16\" fill=\"#470a69\" fill-rule=\"evenodd\" fill-opacity=\"1\" stroke=\"#000000\" stroke-opacity=\"1\" stroke-width=\"3.2\"/>\n",
       "<circle clip-path=\"url(#clip102)\" cx=\"763.145\" cy=\"1140.74\" r=\"33\" fill=\"#bc3753\" fill-rule=\"evenodd\" fill-opacity=\"1\" stroke=\"#000000\" stroke-opacity=\"1\" stroke-width=\"3.2\"/>\n",
       "<circle clip-path=\"url(#clip102)\" cx=\"1897.51\" cy=\"1024.96\" r=\"8\" fill=\"#0e092b\" fill-rule=\"evenodd\" fill-opacity=\"1\" stroke=\"#000000\" stroke-opacity=\"1\" stroke-width=\"3.2\"/>\n",
       "<circle clip-path=\"url(#clip102)\" cx=\"1574\" cy=\"664.747\" r=\"11\" fill=\"#210c4a\" fill-rule=\"evenodd\" fill-opacity=\"1\" stroke=\"#000000\" stroke-opacity=\"1\" stroke-width=\"3.2\"/>\n",
       "<circle clip-path=\"url(#clip102)\" cx=\"1574\" cy=\"317.402\" r=\"10\" fill=\"#1d0c44\" fill-rule=\"evenodd\" fill-opacity=\"1\" stroke=\"#000000\" stroke-opacity=\"1\" stroke-width=\"3.2\"/>\n",
       "<circle clip-path=\"url(#clip102)\" cx=\"1087.58\" cy=\"1140.74\" r=\"23\" fill=\"#751b6d\" fill-rule=\"evenodd\" fill-opacity=\"1\" stroke=\"#000000\" stroke-opacity=\"1\" stroke-width=\"3.2\"/>\n",
       "<circle clip-path=\"url(#clip102)\" cx=\"1735.71\" cy=\"201.62\" r=\"7\" fill=\"#0c0827\" fill-rule=\"evenodd\" fill-opacity=\"1\" stroke=\"#000000\" stroke-opacity=\"1\" stroke-width=\"3.2\"/>\n",
       "<circle clip-path=\"url(#clip102)\" cx=\"1411.07\" cy=\"909.175\" r=\"14\" fill=\"#3a0963\" fill-rule=\"evenodd\" fill-opacity=\"1\" stroke=\"#000000\" stroke-opacity=\"1\" stroke-width=\"3.2\"/>\n",
       "<circle clip-path=\"url(#clip102)\" cx=\"435.541\" cy=\"201.62\" r=\"43\" fill=\"#ed6a24\" fill-rule=\"evenodd\" fill-opacity=\"1\" stroke=\"#000000\" stroke-opacity=\"1\" stroke-width=\"3.2\"/>\n",
       "<circle clip-path=\"url(#clip102)\" cx=\"2059.34\" cy=\"201.62\" r=\"7\" fill=\"#0b0725\" fill-rule=\"evenodd\" fill-opacity=\"1\" stroke=\"#000000\" stroke-opacity=\"1\" stroke-width=\"3.2\"/>\n",
       "<circle clip-path=\"url(#clip102)\" cx=\"1411.07\" cy=\"1024.96\" r=\"14\" fill=\"#3a0963\" fill-rule=\"evenodd\" fill-opacity=\"1\" stroke=\"#000000\" stroke-opacity=\"1\" stroke-width=\"3.2\"/>\n",
       "<circle clip-path=\"url(#clip102)\" cx=\"1897.51\" cy=\"85.838\" r=\"8\" fill=\"#0d0829\" fill-rule=\"evenodd\" fill-opacity=\"1\" stroke=\"#000000\" stroke-opacity=\"1\" stroke-width=\"3.2\"/>\n",
       "<circle clip-path=\"url(#clip102)\" cx=\"1735.71\" cy=\"433.183\" r=\"7\" fill=\"#0d0828\" fill-rule=\"evenodd\" fill-opacity=\"1\" stroke=\"#000000\" stroke-opacity=\"1\" stroke-width=\"3.2\"/>\n",
       "<circle clip-path=\"url(#clip102)\" cx=\"1087.58\" cy=\"909.175\" r=\"22\" fill=\"#6e186e\" fill-rule=\"evenodd\" fill-opacity=\"1\" stroke=\"#000000\" stroke-opacity=\"1\" stroke-width=\"3.2\"/>\n",
       "<circle clip-path=\"url(#clip102)\" cx=\"1411.07\" cy=\"201.62\" r=\"13\" fill=\"#300a5c\" fill-rule=\"evenodd\" fill-opacity=\"1\" stroke=\"#000000\" stroke-opacity=\"1\" stroke-width=\"3.2\"/>\n",
       "<circle clip-path=\"url(#clip102)\" cx=\"1897.51\" cy=\"433.183\" r=\"8\" fill=\"#110a31\" fill-rule=\"evenodd\" fill-opacity=\"1\" stroke=\"#000000\" stroke-opacity=\"1\" stroke-width=\"3.2\"/>\n",
       "<circle clip-path=\"url(#clip102)\" cx=\"435.541\" cy=\"664.747\" r=\"42\" fill=\"#ec6825\" fill-rule=\"evenodd\" fill-opacity=\"1\" stroke=\"#000000\" stroke-opacity=\"1\" stroke-width=\"3.2\"/>\n",
       "<circle clip-path=\"url(#clip102)\" cx=\"1411.07\" cy=\"1140.74\" r=\"14\" fill=\"#35095f\" fill-rule=\"evenodd\" fill-opacity=\"1\" stroke=\"#000000\" stroke-opacity=\"1\" stroke-width=\"3.2\"/>\n",
       "<circle clip-path=\"url(#clip102)\" cx=\"1735.71\" cy=\"317.402\" r=\"7\" fill=\"#0c0828\" fill-rule=\"evenodd\" fill-opacity=\"1\" stroke=\"#000000\" stroke-opacity=\"1\" stroke-width=\"3.2\"/>\n",
       "<circle clip-path=\"url(#clip102)\" cx=\"435.541\" cy=\"793.394\" r=\"48\" fill=\"#fa9107\" fill-rule=\"evenodd\" fill-opacity=\"1\" stroke=\"#000000\" stroke-opacity=\"1\" stroke-width=\"3.2\"/>\n",
       "<circle clip-path=\"url(#clip102)\" cx=\"1574\" cy=\"793.394\" r=\"11\" fill=\"#240b4f\" fill-rule=\"evenodd\" fill-opacity=\"1\" stroke=\"#000000\" stroke-opacity=\"1\" stroke-width=\"3.2\"/>\n",
       "<circle clip-path=\"url(#clip102)\" cx=\"2059.34\" cy=\"85.838\" r=\"6\" fill=\"#08051f\" fill-rule=\"evenodd\" fill-opacity=\"1\" stroke=\"#000000\" stroke-opacity=\"1\" stroke-width=\"3.2\"/>\n",
       "<circle clip-path=\"url(#clip102)\" cx=\"923.581\" cy=\"793.394\" r=\"26\" fill=\"#88216a\" fill-rule=\"evenodd\" fill-opacity=\"1\" stroke=\"#000000\" stroke-opacity=\"1\" stroke-width=\"3.2\"/>\n",
       "<circle clip-path=\"url(#clip102)\" cx=\"435.541\" cy=\"548.965\" r=\"44\" fill=\"#f2741c\" fill-rule=\"evenodd\" fill-opacity=\"1\" stroke=\"#000000\" stroke-opacity=\"1\" stroke-width=\"3.2\"/>\n",
       "<circle clip-path=\"url(#clip102)\" cx=\"1574\" cy=\"85.838\" r=\"11\" fill=\"#220b4c\" fill-rule=\"evenodd\" fill-opacity=\"1\" stroke=\"#000000\" stroke-opacity=\"1\" stroke-width=\"3.2\"/>\n",
       "<circle clip-path=\"url(#clip102)\" cx=\"1087.58\" cy=\"664.747\" r=\"21\" fill=\"#67166e\" fill-rule=\"evenodd\" fill-opacity=\"1\" stroke=\"#000000\" stroke-opacity=\"1\" stroke-width=\"3.2\"/>\n",
       "<circle clip-path=\"url(#clip102)\" cx=\"1087.58\" cy=\"1024.96\" r=\"22\" fill=\"#6e186e\" fill-rule=\"evenodd\" fill-opacity=\"1\" stroke=\"#000000\" stroke-opacity=\"1\" stroke-width=\"3.2\"/>\n",
       "<circle clip-path=\"url(#clip102)\" cx=\"763.145\" cy=\"433.183\" r=\"29\" fill=\"#a02a62\" fill-rule=\"evenodd\" fill-opacity=\"1\" stroke=\"#000000\" stroke-opacity=\"1\" stroke-width=\"3.2\"/>\n",
       "<circle clip-path=\"url(#clip102)\" cx=\"763.145\" cy=\"85.838\" r=\"29\" fill=\"#9d2963\" fill-rule=\"evenodd\" fill-opacity=\"1\" stroke=\"#000000\" stroke-opacity=\"1\" stroke-width=\"3.2\"/>\n",
       "<circle clip-path=\"url(#clip102)\" cx=\"923.581\" cy=\"1140.74\" r=\"28\" fill=\"#962665\" fill-rule=\"evenodd\" fill-opacity=\"1\" stroke=\"#000000\" stroke-opacity=\"1\" stroke-width=\"3.2\"/>\n",
       "<circle clip-path=\"url(#clip102)\" cx=\"600.81\" cy=\"85.838\" r=\"35\" fill=\"#c63d4d\" fill-rule=\"evenodd\" fill-opacity=\"1\" stroke=\"#000000\" stroke-opacity=\"1\" stroke-width=\"3.2\"/>\n",
       "<circle clip-path=\"url(#clip102)\" cx=\"2059.34\" cy=\"1256.52\" r=\"8\" fill=\"#0d0829\" fill-rule=\"evenodd\" fill-opacity=\"1\" stroke=\"#000000\" stroke-opacity=\"1\" stroke-width=\"3.2\"/>\n",
       "<circle clip-path=\"url(#clip102)\" cx=\"923.581\" cy=\"1024.96\" r=\"27\" fill=\"#912467\" fill-rule=\"evenodd\" fill-opacity=\"1\" stroke=\"#000000\" stroke-opacity=\"1\" stroke-width=\"3.2\"/>\n",
       "<circle clip-path=\"url(#clip102)\" cx=\"1249.1\" cy=\"548.965\" r=\"17\" fill=\"#4e0c6b\" fill-rule=\"evenodd\" fill-opacity=\"1\" stroke=\"#000000\" stroke-opacity=\"1\" stroke-width=\"3.2\"/>\n",
       "<circle clip-path=\"url(#clip102)\" cx=\"2059.34\" cy=\"1372.3\" r=\"5\" fill=\"#040314\" fill-rule=\"evenodd\" fill-opacity=\"1\" stroke=\"#000000\" stroke-opacity=\"1\" stroke-width=\"3.2\"/>\n",
       "<circle clip-path=\"url(#clip102)\" cx=\"1411.07\" cy=\"317.402\" r=\"13\" fill=\"#31095c\" fill-rule=\"evenodd\" fill-opacity=\"1\" stroke=\"#000000\" stroke-opacity=\"1\" stroke-width=\"3.2\"/>\n",
       "<circle clip-path=\"url(#clip102)\" cx=\"1249.1\" cy=\"201.62\" r=\"16\" fill=\"#480b6a\" fill-rule=\"evenodd\" fill-opacity=\"1\" stroke=\"#000000\" stroke-opacity=\"1\" stroke-width=\"3.2\"/>\n",
       "<circle clip-path=\"url(#clip102)\" cx=\"923.581\" cy=\"433.183\" r=\"25\" fill=\"#83206b\" fill-rule=\"evenodd\" fill-opacity=\"1\" stroke=\"#000000\" stroke-opacity=\"1\" stroke-width=\"3.2\"/>\n",
       "<circle clip-path=\"url(#clip102)\" cx=\"923.581\" cy=\"85.838\" r=\"24\" fill=\"#7b1d6c\" fill-rule=\"evenodd\" fill-opacity=\"1\" stroke=\"#000000\" stroke-opacity=\"1\" stroke-width=\"3.2\"/>\n",
       "<circle clip-path=\"url(#clip102)\" cx=\"1249.1\" cy=\"1372.3\" r=\"19\" fill=\"#5d126e\" fill-rule=\"evenodd\" fill-opacity=\"1\" stroke=\"#000000\" stroke-opacity=\"1\" stroke-width=\"3.2\"/>\n",
       "<circle clip-path=\"url(#clip102)\" cx=\"278.769\" cy=\"1024.96\" r=\"56\" fill=\"#f4de52\" fill-rule=\"evenodd\" fill-opacity=\"1\" stroke=\"#000000\" stroke-opacity=\"1\" stroke-width=\"3.2\"/>\n",
       "<circle clip-path=\"url(#clip102)\" cx=\"435.541\" cy=\"1140.74\" r=\"51\" fill=\"#fbad12\" fill-rule=\"evenodd\" fill-opacity=\"1\" stroke=\"#000000\" stroke-opacity=\"1\" stroke-width=\"3.2\"/>\n",
       "<circle clip-path=\"url(#clip102)\" cx=\"278.769\" cy=\"317.402\" r=\"50\" fill=\"#fba70c\" fill-rule=\"evenodd\" fill-opacity=\"1\" stroke=\"#000000\" stroke-opacity=\"1\" stroke-width=\"3.2\"/>\n",
       "<circle clip-path=\"url(#clip102)\" cx=\"923.581\" cy=\"909.175\" r=\"26\" fill=\"#8b2269\" fill-rule=\"evenodd\" fill-opacity=\"1\" stroke=\"#000000\" stroke-opacity=\"1\" stroke-width=\"3.2\"/>\n",
       "<circle clip-path=\"url(#clip102)\" cx=\"278.769\" cy=\"548.965\" r=\"54\" fill=\"#f9c72f\" fill-rule=\"evenodd\" fill-opacity=\"1\" stroke=\"#000000\" stroke-opacity=\"1\" stroke-width=\"3.2\"/>\n",
       "<circle clip-path=\"url(#clip102)\" cx=\"600.81\" cy=\"664.747\" r=\"38\" fill=\"#d84c3e\" fill-rule=\"evenodd\" fill-opacity=\"1\" stroke=\"#000000\" stroke-opacity=\"1\" stroke-width=\"3.2\"/>\n",
       "<circle clip-path=\"url(#clip102)\" cx=\"435.541\" cy=\"1024.96\" r=\"49\" fill=\"#fb9b06\" fill-rule=\"evenodd\" fill-opacity=\"1\" stroke=\"#000000\" stroke-opacity=\"1\" stroke-width=\"3.2\"/>\n",
       "<circle clip-path=\"url(#clip102)\" cx=\"1087.58\" cy=\"1256.52\" r=\"23\" fill=\"#781c6d\" fill-rule=\"evenodd\" fill-opacity=\"1\" stroke=\"#000000\" stroke-opacity=\"1\" stroke-width=\"3.2\"/>\n",
       "<circle clip-path=\"url(#clip102)\" cx=\"1897.51\" cy=\"1140.74\" r=\"6\" fill=\"#06041a\" fill-rule=\"evenodd\" fill-opacity=\"1\" stroke=\"#000000\" stroke-opacity=\"1\" stroke-width=\"3.2\"/>\n",
       "<circle clip-path=\"url(#clip102)\" cx=\"1897.51\" cy=\"664.747\" r=\"8\" fill=\"#110930\" fill-rule=\"evenodd\" fill-opacity=\"1\" stroke=\"#000000\" stroke-opacity=\"1\" stroke-width=\"3.2\"/>\n",
       "<circle clip-path=\"url(#clip102)\" cx=\"1897.51\" cy=\"1256.52\" r=\"7\" fill=\"#090622\" fill-rule=\"evenodd\" fill-opacity=\"1\" stroke=\"#000000\" stroke-opacity=\"1\" stroke-width=\"3.2\"/>\n",
       "<circle clip-path=\"url(#clip102)\" cx=\"2059.34\" cy=\"664.747\" r=\"4\" fill=\"#010109\" fill-rule=\"evenodd\" fill-opacity=\"1\" stroke=\"#000000\" stroke-opacity=\"1\" stroke-width=\"3.2\"/>\n",
       "<circle clip-path=\"url(#clip102)\" cx=\"1574\" cy=\"1024.96\" r=\"11\" fill=\"#210c4a\" fill-rule=\"evenodd\" fill-opacity=\"1\" stroke=\"#000000\" stroke-opacity=\"1\" stroke-width=\"3.2\"/>\n",
       "<circle clip-path=\"url(#clip102)\" cx=\"600.81\" cy=\"1256.52\" r=\"44\" fill=\"#f0711e\" fill-rule=\"evenodd\" fill-opacity=\"1\" stroke=\"#000000\" stroke-opacity=\"1\" stroke-width=\"3.2\"/>\n",
       "<circle clip-path=\"url(#clip102)\" cx=\"1087.58\" cy=\"85.838\" r=\"19\" fill=\"#5c126e\" fill-rule=\"evenodd\" fill-opacity=\"1\" stroke=\"#000000\" stroke-opacity=\"1\" stroke-width=\"3.2\"/>\n",
       "<circle clip-path=\"url(#clip102)\" cx=\"278.769\" cy=\"85.838\" r=\"48\" fill=\"#fa9506\" fill-rule=\"evenodd\" fill-opacity=\"1\" stroke=\"#000000\" stroke-opacity=\"1\" stroke-width=\"3.2\"/>\n",
       "<circle clip-path=\"url(#clip102)\" cx=\"1574\" cy=\"909.175\" r=\"10\" fill=\"#1a0c40\" fill-rule=\"evenodd\" fill-opacity=\"1\" stroke=\"#000000\" stroke-opacity=\"1\" stroke-width=\"3.2\"/>\n",
       "<circle clip-path=\"url(#clip102)\" cx=\"1574\" cy=\"548.965\" r=\"10\" fill=\"#1c0c43\" fill-rule=\"evenodd\" fill-opacity=\"1\" stroke=\"#000000\" stroke-opacity=\"1\" stroke-width=\"3.2\"/>\n",
       "<circle clip-path=\"url(#clip102)\" cx=\"1249.1\" cy=\"317.402\" r=\"16\" fill=\"#480b6a\" fill-rule=\"evenodd\" fill-opacity=\"1\" stroke=\"#000000\" stroke-opacity=\"1\" stroke-width=\"3.2\"/>\n",
       "<circle clip-path=\"url(#clip102)\" cx=\"278.769\" cy=\"201.62\" r=\"49\" fill=\"#fba108\" fill-rule=\"evenodd\" fill-opacity=\"1\" stroke=\"#000000\" stroke-opacity=\"1\" stroke-width=\"3.2\"/>\n",
       "<circle clip-path=\"url(#clip102)\" cx=\"600.81\" cy=\"909.175\" r=\"40\" fill=\"#e35931\" fill-rule=\"evenodd\" fill-opacity=\"1\" stroke=\"#000000\" stroke-opacity=\"1\" stroke-width=\"3.2\"/>\n",
       "<circle clip-path=\"url(#clip102)\" cx=\"600.81\" cy=\"1024.96\" r=\"38\" fill=\"#d94d3c\" fill-rule=\"evenodd\" fill-opacity=\"1\" stroke=\"#000000\" stroke-opacity=\"1\" stroke-width=\"3.2\"/>\n",
       "<circle clip-path=\"url(#clip102)\" cx=\"278.769\" cy=\"1372.3\" r=\"61\" fill=\"#fcfea4\" fill-rule=\"evenodd\" fill-opacity=\"1\" stroke=\"#000000\" stroke-opacity=\"1\" stroke-width=\"3.2\"/>\n",
       "<circle clip-path=\"url(#clip102)\" cx=\"1735.71\" cy=\"1372.3\" r=\"8\" fill=\"#0f092d\" fill-rule=\"evenodd\" fill-opacity=\"1\" stroke=\"#000000\" stroke-opacity=\"1\" stroke-width=\"3.2\"/>\n",
       "<circle clip-path=\"url(#clip102)\" cx=\"600.81\" cy=\"433.183\" r=\"36\" fill=\"#cd4247\" fill-rule=\"evenodd\" fill-opacity=\"1\" stroke=\"#000000\" stroke-opacity=\"1\" stroke-width=\"3.2\"/>\n",
       "<circle clip-path=\"url(#clip102)\" cx=\"1735.71\" cy=\"1024.96\" r=\"7\" fill=\"#0c0727\" fill-rule=\"evenodd\" fill-opacity=\"1\" stroke=\"#000000\" stroke-opacity=\"1\" stroke-width=\"3.2\"/>\n",
       "<circle clip-path=\"url(#clip102)\" cx=\"2059.34\" cy=\"1140.74\" r=\"6\" fill=\"#07051d\" fill-rule=\"evenodd\" fill-opacity=\"1\" stroke=\"#000000\" stroke-opacity=\"1\" stroke-width=\"3.2\"/>\n",
       "<circle clip-path=\"url(#clip102)\" cx=\"2059.34\" cy=\"793.394\" r=\"8\" fill=\"#0e082a\" fill-rule=\"evenodd\" fill-opacity=\"1\" stroke=\"#000000\" stroke-opacity=\"1\" stroke-width=\"3.2\"/>\n",
       "<circle clip-path=\"url(#clip102)\" cx=\"2059.34\" cy=\"317.402\" r=\"3\" fill=\"#000003\" fill-rule=\"evenodd\" fill-opacity=\"1\" stroke=\"#000000\" stroke-opacity=\"1\" stroke-width=\"3.2\"/>\n",
       "<circle clip-path=\"url(#clip102)\" cx=\"1735.71\" cy=\"664.747\" r=\"8\" fill=\"#0e082a\" fill-rule=\"evenodd\" fill-opacity=\"1\" stroke=\"#000000\" stroke-opacity=\"1\" stroke-width=\"3.2\"/>\n",
       "<circle clip-path=\"url(#clip102)\" cx=\"1574\" cy=\"1372.3\" r=\"13\" fill=\"#2d0a59\" fill-rule=\"evenodd\" fill-opacity=\"1\" stroke=\"#000000\" stroke-opacity=\"1\" stroke-width=\"3.2\"/>\n",
       "<circle clip-path=\"url(#clip102)\" cx=\"1411.07\" cy=\"1256.52\" r=\"14\" fill=\"#390963\" fill-rule=\"evenodd\" fill-opacity=\"1\" stroke=\"#000000\" stroke-opacity=\"1\" stroke-width=\"3.2\"/>\n",
       "<circle clip-path=\"url(#clip102)\" cx=\"2059.34\" cy=\"433.183\" r=\"8\" fill=\"#110a30\" fill-rule=\"evenodd\" fill-opacity=\"1\" stroke=\"#000000\" stroke-opacity=\"1\" stroke-width=\"3.2\"/>\n",
       "<circle clip-path=\"url(#clip102)\" cx=\"923.581\" cy=\"664.747\" r=\"24\" fill=\"#7e1e6c\" fill-rule=\"evenodd\" fill-opacity=\"1\" stroke=\"#000000\" stroke-opacity=\"1\" stroke-width=\"3.2\"/>\n",
       "<circle clip-path=\"url(#clip102)\" cx=\"1897.51\" cy=\"793.394\" r=\"7\" fill=\"#0a0622\" fill-rule=\"evenodd\" fill-opacity=\"1\" stroke=\"#000000\" stroke-opacity=\"1\" stroke-width=\"3.2\"/>\n",
       "<circle clip-path=\"url(#clip102)\" cx=\"1411.07\" cy=\"793.394\" r=\"14\" fill=\"#3b0964\" fill-rule=\"evenodd\" fill-opacity=\"1\" stroke=\"#000000\" stroke-opacity=\"1\" stroke-width=\"3.2\"/>\n",
       "<circle clip-path=\"url(#clip102)\" cx=\"600.81\" cy=\"793.394\" r=\"37\" fill=\"#d54940\" fill-rule=\"evenodd\" fill-opacity=\"1\" stroke=\"#000000\" stroke-opacity=\"1\" stroke-width=\"3.2\"/>\n",
       "<circle clip-path=\"url(#clip102)\" cx=\"923.581\" cy=\"317.402\" r=\"24\" fill=\"#7f1e6c\" fill-rule=\"evenodd\" fill-opacity=\"1\" stroke=\"#000000\" stroke-opacity=\"1\" stroke-width=\"3.2\"/>\n",
       "<circle clip-path=\"url(#clip102)\" cx=\"600.81\" cy=\"201.62\" r=\"34\" fill=\"#c23a4f\" fill-rule=\"evenodd\" fill-opacity=\"1\" stroke=\"#000000\" stroke-opacity=\"1\" stroke-width=\"3.2\"/>\n",
       "<circle clip-path=\"url(#clip102)\" cx=\"435.541\" cy=\"1372.3\" r=\"55\" fill=\"#f6d542\" fill-rule=\"evenodd\" fill-opacity=\"1\" stroke=\"#000000\" stroke-opacity=\"1\" stroke-width=\"3.2\"/>\n",
       "<circle clip-path=\"url(#clip102)\" cx=\"1249.1\" cy=\"1024.96\" r=\"18\" fill=\"#560f6d\" fill-rule=\"evenodd\" fill-opacity=\"1\" stroke=\"#000000\" stroke-opacity=\"1\" stroke-width=\"3.2\"/>\n",
       "<circle clip-path=\"url(#clip102)\" cx=\"1897.51\" cy=\"317.402\" r=\"7\" fill=\"#0c0726\" fill-rule=\"evenodd\" fill-opacity=\"1\" stroke=\"#000000\" stroke-opacity=\"1\" stroke-width=\"3.2\"/>\n",
       "<circle clip-path=\"url(#clip102)\" cx=\"1574\" cy=\"1256.52\" r=\"11\" fill=\"#200c49\" fill-rule=\"evenodd\" fill-opacity=\"1\" stroke=\"#000000\" stroke-opacity=\"1\" stroke-width=\"3.2\"/>\n",
       "<circle clip-path=\"url(#clip102)\" cx=\"435.541\" cy=\"433.183\" r=\"45\" fill=\"#f57d14\" fill-rule=\"evenodd\" fill-opacity=\"1\" stroke=\"#000000\" stroke-opacity=\"1\" stroke-width=\"3.2\"/>\n",
       "<circle clip-path=\"url(#clip102)\" cx=\"1249.1\" cy=\"909.175\" r=\"16\" fill=\"#490b6a\" fill-rule=\"evenodd\" fill-opacity=\"1\" stroke=\"#000000\" stroke-opacity=\"1\" stroke-width=\"3.2\"/>\n",
       "<circle clip-path=\"url(#clip102)\" cx=\"1087.58\" cy=\"201.62\" r=\"20\" fill=\"#5f126e\" fill-rule=\"evenodd\" fill-opacity=\"1\" stroke=\"#000000\" stroke-opacity=\"1\" stroke-width=\"3.2\"/>\n",
       "<circle clip-path=\"url(#clip102)\" cx=\"763.145\" cy=\"1372.3\" r=\"35\" fill=\"#c9404a\" fill-rule=\"evenodd\" fill-opacity=\"1\" stroke=\"#000000\" stroke-opacity=\"1\" stroke-width=\"3.2\"/>\n",
       "<circle clip-path=\"url(#clip102)\" cx=\"435.541\" cy=\"85.838\" r=\"42\" fill=\"#e9622a\" fill-rule=\"evenodd\" fill-opacity=\"1\" stroke=\"#000000\" stroke-opacity=\"1\" stroke-width=\"3.2\"/>\n",
       "<circle clip-path=\"url(#clip102)\" cx=\"1574\" cy=\"1140.74\" r=\"10\" fill=\"#1c0c44\" fill-rule=\"evenodd\" fill-opacity=\"1\" stroke=\"#000000\" stroke-opacity=\"1\" stroke-width=\"3.2\"/>\n",
       "<circle clip-path=\"url(#clip102)\" cx=\"278.769\" cy=\"1140.74\" r=\"56\" fill=\"#f3e055\" fill-rule=\"evenodd\" fill-opacity=\"1\" stroke=\"#000000\" stroke-opacity=\"1\" stroke-width=\"3.2\"/>\n",
       "<circle clip-path=\"url(#clip102)\" cx=\"1897.51\" cy=\"1372.3\" r=\"7\" fill=\"#0b0725\" fill-rule=\"evenodd\" fill-opacity=\"1\" stroke=\"#000000\" stroke-opacity=\"1\" stroke-width=\"3.2\"/>\n",
       "<circle clip-path=\"url(#clip102)\" cx=\"1897.51\" cy=\"909.175\" r=\"6\" fill=\"#06041b\" fill-rule=\"evenodd\" fill-opacity=\"1\" stroke=\"#000000\" stroke-opacity=\"1\" stroke-width=\"3.2\"/>\n",
       "<circle clip-path=\"url(#clip102)\" cx=\"763.145\" cy=\"909.175\" r=\"31\" fill=\"#b0315a\" fill-rule=\"evenodd\" fill-opacity=\"1\" stroke=\"#000000\" stroke-opacity=\"1\" stroke-width=\"3.2\"/>\n",
       "<circle clip-path=\"url(#clip102)\" cx=\"1249.1\" cy=\"793.394\" r=\"17\" fill=\"#4b0b6b\" fill-rule=\"evenodd\" fill-opacity=\"1\" stroke=\"#000000\" stroke-opacity=\"1\" stroke-width=\"3.2\"/>\n",
       "<circle clip-path=\"url(#clip102)\" cx=\"1411.07\" cy=\"1372.3\" r=\"15\" fill=\"#410967\" fill-rule=\"evenodd\" fill-opacity=\"1\" stroke=\"#000000\" stroke-opacity=\"1\" stroke-width=\"3.2\"/>\n",
       "<circle clip-path=\"url(#clip102)\" cx=\"923.581\" cy=\"201.62\" r=\"25\" fill=\"#821f6b\" fill-rule=\"evenodd\" fill-opacity=\"1\" stroke=\"#000000\" stroke-opacity=\"1\" stroke-width=\"3.2\"/>\n",
       "<circle clip-path=\"url(#clip102)\" cx=\"1087.58\" cy=\"1372.3\" r=\"23\" fill=\"#751b6d\" fill-rule=\"evenodd\" fill-opacity=\"1\" stroke=\"#000000\" stroke-opacity=\"1\" stroke-width=\"3.2\"/>\n",
       "<circle clip-path=\"url(#clip102)\" cx=\"1735.71\" cy=\"1256.52\" r=\"8\" fill=\"#0f092c\" fill-rule=\"evenodd\" fill-opacity=\"1\" stroke=\"#000000\" stroke-opacity=\"1\" stroke-width=\"3.2\"/>\n",
       "<circle clip-path=\"url(#clip102)\" cx=\"1735.71\" cy=\"85.838\" r=\"8\" fill=\"#0d0829\" fill-rule=\"evenodd\" fill-opacity=\"1\" stroke=\"#000000\" stroke-opacity=\"1\" stroke-width=\"3.2\"/>\n",
       "<circle clip-path=\"url(#clip102)\" cx=\"1249.1\" cy=\"1256.52\" r=\"19\" fill=\"#5d126e\" fill-rule=\"evenodd\" fill-opacity=\"1\" stroke=\"#000000\" stroke-opacity=\"1\" stroke-width=\"3.2\"/>\n",
       "<circle clip-path=\"url(#clip102)\" cx=\"923.581\" cy=\"1372.3\" r=\"29\" fill=\"#9f2a62\" fill-rule=\"evenodd\" fill-opacity=\"1\" stroke=\"#000000\" stroke-opacity=\"1\" stroke-width=\"3.2\"/>\n",
       "<circle clip-path=\"url(#clip102)\" cx=\"2059.34\" cy=\"548.965\" r=\"5\" fill=\"#02020f\" fill-rule=\"evenodd\" fill-opacity=\"1\" stroke=\"#000000\" stroke-opacity=\"1\" stroke-width=\"3.2\"/>\n",
       "<circle clip-path=\"url(#clip102)\" cx=\"278.769\" cy=\"793.394\" r=\"56\" fill=\"#f4de51\" fill-rule=\"evenodd\" fill-opacity=\"1\" stroke=\"#000000\" stroke-opacity=\"1\" stroke-width=\"3.2\"/>\n",
       "<circle clip-path=\"url(#clip102)\" cx=\"1735.71\" cy=\"548.965\" r=\"8\" fill=\"#0f092d\" fill-rule=\"evenodd\" fill-opacity=\"1\" stroke=\"#000000\" stroke-opacity=\"1\" stroke-width=\"3.2\"/>\n",
       "<circle clip-path=\"url(#clip102)\" cx=\"1411.07\" cy=\"664.747\" r=\"14\" fill=\"#370961\" fill-rule=\"evenodd\" fill-opacity=\"1\" stroke=\"#000000\" stroke-opacity=\"1\" stroke-width=\"3.2\"/>\n",
       "<circle clip-path=\"url(#clip102)\" cx=\"278.769\" cy=\"433.183\" r=\"53\" fill=\"#fabe24\" fill-rule=\"evenodd\" fill-opacity=\"1\" stroke=\"#000000\" stroke-opacity=\"1\" stroke-width=\"3.2\"/>\n",
       "<circle clip-path=\"url(#clip102)\" cx=\"1411.07\" cy=\"548.965\" r=\"13\" fill=\"#2e0a5a\" fill-rule=\"evenodd\" fill-opacity=\"1\" stroke=\"#000000\" stroke-opacity=\"1\" stroke-width=\"3.2\"/>\n",
       "<circle clip-path=\"url(#clip102)\" cx=\"1249.1\" cy=\"85.838\" r=\"16\" fill=\"#480b6a\" fill-rule=\"evenodd\" fill-opacity=\"1\" stroke=\"#000000\" stroke-opacity=\"1\" stroke-width=\"3.2\"/>\n",
       "<circle clip-path=\"url(#clip102)\" cx=\"278.769\" cy=\"1256.52\" r=\"58\" fill=\"#f1ed70\" fill-rule=\"evenodd\" fill-opacity=\"1\" stroke=\"#000000\" stroke-opacity=\"1\" stroke-width=\"3.2\"/>\n",
       "<circle clip-path=\"url(#clip102)\" cx=\"1411.07\" cy=\"85.838\" r=\"12\" fill=\"#2b0a57\" fill-rule=\"evenodd\" fill-opacity=\"1\" stroke=\"#000000\" stroke-opacity=\"1\" stroke-width=\"3.2\"/>\n",
       "<circle clip-path=\"url(#clip102)\" cx=\"763.145\" cy=\"548.965\" r=\"30\" fill=\"#aa2e5e\" fill-rule=\"evenodd\" fill-opacity=\"1\" stroke=\"#000000\" stroke-opacity=\"1\" stroke-width=\"3.2\"/>\n",
       "<circle clip-path=\"url(#clip102)\" cx=\"1735.71\" cy=\"793.394\" r=\"9\" fill=\"#130a33\" fill-rule=\"evenodd\" fill-opacity=\"1\" stroke=\"#000000\" stroke-opacity=\"1\" stroke-width=\"3.2\"/>\n",
       "<circle clip-path=\"url(#clip102)\" cx=\"435.541\" cy=\"1256.52\" r=\"51\" fill=\"#fbac10\" fill-rule=\"evenodd\" fill-opacity=\"1\" stroke=\"#000000\" stroke-opacity=\"1\" stroke-width=\"3.2\"/>\n",
       "<circle clip-path=\"url(#clip102)\" cx=\"1087.58\" cy=\"317.402\" r=\"20\" fill=\"#5f136e\" fill-rule=\"evenodd\" fill-opacity=\"1\" stroke=\"#000000\" stroke-opacity=\"1\" stroke-width=\"3.2\"/>\n",
       "<circle clip-path=\"url(#clip102)\" cx=\"1897.51\" cy=\"548.965\" r=\"8\" fill=\"#0d0829\" fill-rule=\"evenodd\" fill-opacity=\"1\" stroke=\"#000000\" stroke-opacity=\"1\" stroke-width=\"3.2\"/>\n",
       "<circle clip-path=\"url(#clip102)\" cx=\"278.769\" cy=\"909.175\" r=\"56\" fill=\"#f3e055\" fill-rule=\"evenodd\" fill-opacity=\"1\" stroke=\"#000000\" stroke-opacity=\"1\" stroke-width=\"3.2\"/>\n",
       "<circle clip-path=\"url(#clip102)\" cx=\"435.541\" cy=\"317.402\" r=\"42\" fill=\"#eb6626\" fill-rule=\"evenodd\" fill-opacity=\"1\" stroke=\"#000000\" stroke-opacity=\"1\" stroke-width=\"3.2\"/>\n",
       "<circle clip-path=\"url(#clip102)\" cx=\"1574\" cy=\"201.62\" r=\"9\" fill=\"#130a35\" fill-rule=\"evenodd\" fill-opacity=\"1\" stroke=\"#000000\" stroke-opacity=\"1\" stroke-width=\"3.2\"/>\n",
       "<circle clip-path=\"url(#clip102)\" cx=\"1087.58\" cy=\"793.394\" r=\"21\" fill=\"#65156e\" fill-rule=\"evenodd\" fill-opacity=\"1\" stroke=\"#000000\" stroke-opacity=\"1\" stroke-width=\"3.2\"/>\n",
       "<circle clip-path=\"url(#clip102)\" cx=\"763.145\" cy=\"317.402\" r=\"29\" fill=\"#9d2963\" fill-rule=\"evenodd\" fill-opacity=\"1\" stroke=\"#000000\" stroke-opacity=\"1\" stroke-width=\"3.2\"/>\n",
       "<defs>\n",
       "  <clipPath id=\"clip103\">\n",
       "    <rect x=\"2160\" y=\"47\" width=\"73\" height=\"1365\"/>\n",
       "  </clipPath>\n",
       "</defs>\n",
       "<g clip-path=\"url(#clip103)\">\n",
       "<image width=\"72\" height=\"1364\" xlink:href=\"data:image/png;base64,\n",
       "iVBORw0KGgoAAAANSUhEUgAAAEgAAAVUCAYAAABzwV4AAAAL0klEQVR4nO3dwY3sRhAFQY5Q/lsh\n",
       "L6XfLQtUeSQPERYsEg+zZJM7+/v3/H0f/tdfb/8AXydQECgIFAQKc+6/b/8Mn2ZBQaAgUBAozL1/\n",
       "3v4ZPs2CgkBBoCBQcCUdLCgIFAQKAgWBwly/xVYWFAQKAgWBwtzjQ3pjQUGgIFAQKLiSDhYUBAoC\n",
       "BYGCQMFvsWBBQaAgUBAoOA8KFhQECgIFgcI8rqRXFhQECgIFgYJAwXlQsKAgUBAoCBTmcR60sqAg\n",
       "UBAoCBTmOf+8/TN8mgUFgYJAQaAgUPBUI1hQECgIFAQKzoOCBQWBgkBBoOBDOlhQECgIFAQKAgXn\n",
       "QcGCgkBBoCBQmJ9bjZUFBYGCQEGgMM/xpf8bCwoCBYGCQEGg4FYjWFAQKAgUBApuNYIFBYGCQEGg\n",
       "4P2gYEFBoCBQECgIFObnVmNlQUGgIFAQKHiJM1hQECgIFAQKrqSDBQWBgkBBoCBQ8Og5WFAQKAgU\n",
       "BApuNYIFBYGCQEGg4Eo6WFAQKAgUBAoCBbcawYKCQEGgIFCY55y3f4ZPs6AgUBAoCBRcSQcLCgIF\n",
       "gYJAQaDgqUawoCBQECgIFHxIBwsKAgWBgkBhfg7tVxYUBAoCBYGCQMGtRrCgIFAQKAgUvB8ULCgI\n",
       "FAQKAgXnQcGCgkBBoCBQECg4DwoWFAQKAgWBgvOgYEFBoCBQECj4kA4WFAQKAgWBgkDBXz0HCwoC\n",
       "BYGCQMGtRrCgIFAQKAgUfEgHCwoCBYGCQEGg4LdYsKAgUBAoCBR8SAcLCgIFgYJAYZ7rQ3pjQUGg\n",
       "IFAQKAgU3GoECwoCBYGCQMGHdLCgIFAQKAgUfEgHCwoCBYGCQEGgMM+5b/8Mn2ZBQaAgUBAouNUI\n",
       "FhQECgIFgYIr6WBBQaAgUBAoCBTcagQLCgIFgYJAwa1GsKAgUBAoCBTmcSG9sqAgUBAoCBQECvNc\n",
       "txobCwoCBYGCQMGtRrCgIFAQKAgUfEgHCwoCBYGCQEGgML4Eb2dBQaAgUBAouNUIFhQECgIFgYIP\n",
       "6WBBQaAgUBAoCBTmOb+3f4ZPs6AgUBAoCBTmXh/SGwsKAgWBgkDBeVCwoCBQECgIFBx3BAsKAgWB\n",
       "gkBBoDD3aLRRJwgUBAoCBbcawYKCQEGgIFCYx5PVlQUFgYJAQaAgUJjrVmNlQUGgIFAQKMzj0H6l\n",
       "ThAoCBQECq6kgwUFgYJAQaAgUPBUI1hQECgIFAQKXuIM6gSBgkBBoOAlzmBBQaAgUBAoCBQ81QgW\n",
       "FAQKAgWBwtyr0UadIFAQKAgUnAcFCwoCBYGCQEGg4DwoWFAQKAgUBArzOA9aqRMECgIFgYIr6WBB\n",
       "QaAgUBAoCBT8FgsWFAQKAgWBgj/qDRYUBAoCBYGCP+oN6gSBgkBBoCBQ8P/mgwUFgYJAQaDg0D5Y\n",
       "UBAoCBQECr70P6gTBAoCBYGCQMF5ULCgIFAQKAgUnAcFCwoCBYGCQMGVdLCgIFAQKAgUBArecg3q\n",
       "BIGCQEGg4FYjWFAQKAgUBAoO7YMFBYGCQEGgIFBwqxEsKAgUBAoCBf+6JlhQECgIFAQK/glkUCcI\n",
       "FAQKAgWBgvOgYEFBoCBQECh49BwsKAgUBAoCBVfSwYKCQEGgIFAQKMzxW2xlQUGgIFAQKPij3qBO\n",
       "ECgIFAQKzoOCBQWBgkBBoCBQ8FssWFAQKAgUBAreDwoWFAQKAgWBgivpYEFBoCBQECgIFPwWCxYU\n",
       "BAoCBYGCr6YI6gSBgkBBoDDHof3KgoJAQaAgUBAoOA8KFhQECgIFgYIP6WBBQaAgUBAo+JAOFhQE\n",
       "CgIFgYJAwfcHBQsKAgWBgkDBrUawoCBQECgIFHxIBwsKAgWBgkBBoOBPEYI6QaAgUBAo+FOEYEFB\n",
       "oCBQECg4DwoWFAQKAgWBgkDBb7FgQUGgIFAQKHiJM1hQECgIFAQKrqSDBQWBgkBBoCBQmPv4Lbax\n",
       "oCBQECgIFJwHBQsKAgWBgkDBeVCwoCBQECgIFAQKbjWCBQWBgkBBoOBWI1hQECgIFAQKrqSDBQWB\n",
       "gkBBoCBQcKsRLCgIFAQKAgUf0sGCgkBBoCBQmONN+5UFBYGCQEGg4Eo6WFAQKAgUBAoCBY+egwUF\n",
       "gYJAQaAw9779I3ybBQWBgkBBoOBKOlhQECgIFAQKAgVf8hYsKAgUBAoCBbcawYKCQEGgIFDwflCw\n",
       "oCBQECgIFAQK/hQhWFAQKAgUBAreDwoWFAQKAgWBgkP7YEFBoCBQECgIFDzVCBYUBAoCBYGCQ/tg\n",
       "QUGgIFAQKDgPChYUBAoCBYGCQMGj52BBQaAgUBAoOA8KFhQECgIFgYInq8GCgkBBoCBQECjMefsn\n",
       "+DgLCgIFgYJAwa1GsKAgUBAoCBS8HxQsKAgUBAoCBYGC86BgQUGgIFAQKDgPChYUBAoCBYGCK+lg\n",
       "QUGgIFAQKAgU3GoECwoCBYGCQMGj52BBQaAgUBAojC9e2FlQECgIFAQKAgW3GsGCgkBBoCBQ8Og5\n",
       "WFAQKAgUBAqerAYLCgIFgYJAQaDgViNYUBAoCBQECm41ggUFgYJAQaAwxwtCKwsKAgWBgkBBoOA8\n",
       "KFhQECgIFAQKzoOCBQWBgkBBoOBKOlhQECgIFAQKAgX/bz5YUBAoCBQECv7ffLCgIFAQKAgUvB8U\n",
       "LCgIFAQKAgWBgm/BCxYUBAoCBYGCL3kLFhQECgIFgYInq8GCgkBBoCBQECh4yzVYUBAoCBQECv5e\n",
       "LFhQECgIFAQKrqSDBQWBgkBBoCBQ8JZrsKAgUBAoCBS8xBksKAgUBAoCBVfSwYKCQEGgIFAQKHjL\n",
       "NVhQECgIFAQKvj8oWFAQKAgUBArOg4IFBYGCQEGgIFDw6DlYUBAoCBQECm41ggUFgYJAQaDgSjpY\n",
       "UBAoCBQECgIFtxrBgoJAQaAgUPAhHSwoCBQECgIF50HBgoJAQaAgUBAouNUIFhQECgIFgYJbjWBB\n",
       "QaAgUBAouJIOFhQECgIFgYJAwfcHBQsKAgWBgkDBv64JFhQECgIFgYLzoGBBQaAgUBAoCBTmPn6N\n",
       "bSwoCBQECgIFtxrBgoJAQaAgUPBkNVhQECgIFAQKnqwGCwoCBYGCQEGg4DwoWFAQKAgUBAqerAYL\n",
       "CgIFgYJAwZV0sKAgUBAoCBQECr4/KFhQECgIFAQKc7wgtLKgIFAQKAgUvB8ULCgIFAQKAgWBwly3\n",
       "GisLCgIFgYJAwa1GsKAgUBAoCBQc2gcLCgIFgYJAQaDg/aBgQUGgIFAQKMzx92IrCwoCBYGCQMF5\n",
       "ULCgIFAQKAgUBAq+miJYUBAoCBQECt4PChYUBAoCBYGCQ/tgQUGgIFAQKAgUnAcFCwoCBYGCQGHO\n",
       "40RoY0FBoCBQECg4DwoWFAQKAgWBgkDBb7FgQUGgIFAQKDi0DxYUBAoCBYGCQ/tgQUGgIFAQKAgU\n",
       "5vzcamwsKAgUBAoCBbcawYKCQEGgIFCY60N6ZUFBoCBQECgIFNxqBAsKAgWBgkBhzs+H9MaCgkBB\n",
       "oCBQcCUdLCgIFAQKAgWBgqcawYKCQEGgIFBwqxEsKAgUBAoCBR/SwYKCQEGgIFAQKHj0HCwoCBQE\n",
       "CgKFuc+ft3+GT7OgIFAQKAgUnAcFCwoCBYGCQEGg4P2gYEFBoCBQECjMuc6DNhYUBAoCBYGCK+lg\n",
       "QUGgIFAQKAgU5nj0vLKgIFAQKAgU3GoECwoCBYGCQMGVdLCgIFAQKAgUBApzr1uNjQUFgYJAQaDg\n",
       "PChYUBAoCBQECl7iDBYUBAoCBYGCQMGtRrCgIFAQKAgU5rrVWFlQECgIFAQKrqSDBQWBgkBBoCBQ\n",
       "mOP9oJUFBYGCQEGg4PukgwUFgYJAQaDgTftgQUGgIFAQKAgUPNUIFhQECgIFgYJbjWBBQaAgUBAo\n",
       "+JAOFhQECgIFgYJAwaPnYEFBoCBQECi41QgWFAQKAgWBwjyerK4sKAgUBAoCBYGCW41gQUGgIFAQ\n",
       "KHiJM1hQECgIFAQK87iSXllQECgIFAQKAgXvBwULCgIFgYJAwaPnYEFBoCBQECg4DwoWFAQKAgWB\n",
       "gkBh7nPf/hk+zYKCQEGgIFBwHhQsKAgUBAoChXlcSa8sKAgUBAoChf8AJ8ztt7m0cDkAAAAASUVO\n",
       "RK5CYII=\n",
       "\" transform=\"translate(2161, 47)\"/>\n",
       "</g>\n",
       "<path clip-path=\"url(#clip100)\" d=\"M 0 0 M2280.7 1363.78 Q2277.09 1363.78 2275.26 1367.34 Q2273.45 1370.88 2273.45 1378.01 Q2273.45 1385.12 2275.26 1388.69 Q2277.09 1392.23 2280.7 1392.23 Q2284.33 1392.23 2286.14 1388.69 Q2287.97 1385.12 2287.97 1378.01 Q2287.97 1370.88 2286.14 1367.34 Q2284.33 1363.78 2280.7 1363.78 M2280.7 1360.07 Q2286.51 1360.07 2289.57 1364.68 Q2292.64 1369.26 2292.64 1378.01 Q2292.64 1386.74 2289.57 1391.35 Q2286.51 1395.93 2280.7 1395.93 Q2274.89 1395.93 2271.81 1391.35 Q2268.76 1386.74 2268.76 1378.01 Q2268.76 1369.26 2271.81 1364.68 Q2274.89 1360.07 2280.7 1360.07 Z\" fill=\"#000000\" fill-rule=\"evenodd\" fill-opacity=\"1\" /><path clip-path=\"url(#clip100)\" d=\"M 0 0 M2297.71 1389.38 L2302.6 1389.38 L2302.6 1395.26 L2297.71 1395.26 L2297.71 1389.38 Z\" fill=\"#000000\" fill-rule=\"evenodd\" fill-opacity=\"1\" /><path clip-path=\"url(#clip100)\" d=\"M 0 0 M2320.51 1364.77 L2308.71 1383.22 L2320.51 1383.22 L2320.51 1364.77 M2319.29 1360.7 L2325.17 1360.7 L2325.17 1383.22 L2330.1 1383.22 L2330.1 1387.11 L2325.17 1387.11 L2325.17 1395.26 L2320.51 1395.26 L2320.51 1387.11 L2304.91 1387.11 L2304.91 1382.6 L2319.29 1360.7 Z\" fill=\"#000000\" fill-rule=\"evenodd\" fill-opacity=\"1\" /><path clip-path=\"url(#clip100)\" d=\"M 0 0 M2345.17 1363.78 Q2341.56 1363.78 2339.73 1367.34 Q2337.92 1370.88 2337.92 1378.01 Q2337.92 1385.12 2339.73 1388.69 Q2341.56 1392.23 2345.17 1392.23 Q2348.8 1392.23 2350.61 1388.69 Q2352.44 1385.12 2352.44 1378.01 Q2352.44 1370.88 2350.61 1367.34 Q2348.8 1363.78 2345.17 1363.78 M2345.17 1360.07 Q2350.98 1360.07 2354.03 1364.68 Q2357.11 1369.26 2357.11 1378.01 Q2357.11 1386.74 2354.03 1391.35 Q2350.98 1395.93 2345.17 1395.93 Q2339.36 1395.93 2336.28 1391.35 Q2333.22 1386.74 2333.22 1378.01 Q2333.22 1369.26 2336.28 1364.68 Q2339.36 1360.07 2345.17 1360.07 Z\" fill=\"#000000\" fill-rule=\"evenodd\" fill-opacity=\"1\" /><path clip-path=\"url(#clip100)\" d=\"M 0 0 M2372.18 1363.78 Q2368.57 1363.78 2366.74 1367.34 Q2364.94 1370.88 2364.94 1378.01 Q2364.94 1385.12 2366.74 1388.69 Q2368.57 1392.23 2372.18 1392.23 Q2375.82 1392.23 2377.62 1388.69 Q2379.45 1385.12 2379.45 1378.01 Q2379.45 1370.88 2377.62 1367.34 Q2375.82 1363.78 2372.18 1363.78 M2372.18 1360.07 Q2377.99 1360.07 2381.05 1364.68 Q2384.13 1369.26 2384.13 1378.01 Q2384.13 1386.74 2381.05 1391.35 Q2377.99 1395.93 2372.18 1395.93 Q2366.37 1395.93 2363.29 1391.35 Q2360.24 1386.74 2360.24 1378.01 Q2360.24 1369.26 2363.29 1364.68 Q2366.37 1360.07 2372.18 1360.07 Z\" fill=\"#000000\" fill-rule=\"evenodd\" fill-opacity=\"1\" /><path clip-path=\"url(#clip100)\" d=\"M 0 0 M2280.7 1112.16 Q2277.09 1112.16 2275.26 1115.72 Q2273.45 1119.27 2273.45 1126.4 Q2273.45 1133.5 2275.26 1137.07 Q2277.09 1140.61 2280.7 1140.61 Q2284.33 1140.61 2286.14 1137.07 Q2287.97 1133.5 2287.97 1126.4 Q2287.97 1119.27 2286.14 1115.72 Q2284.33 1112.16 2280.7 1112.16 M2280.7 1108.46 Q2286.51 1108.46 2289.57 1113.06 Q2292.64 1117.65 2292.64 1126.4 Q2292.64 1135.12 2289.57 1139.73 Q2286.51 1144.31 2280.7 1144.31 Q2274.89 1144.31 2271.81 1139.73 Q2268.76 1135.12 2268.76 1126.4 Q2268.76 1117.65 2271.81 1113.06 Q2274.89 1108.46 2280.7 1108.46 Z\" fill=\"#000000\" fill-rule=\"evenodd\" fill-opacity=\"1\" /><path clip-path=\"url(#clip100)\" d=\"M 0 0 M2297.71 1137.76 L2302.6 1137.76 L2302.6 1143.64 L2297.71 1143.64 L2297.71 1137.76 Z\" fill=\"#000000\" fill-rule=\"evenodd\" fill-opacity=\"1\" /><path clip-path=\"url(#clip100)\" d=\"M 0 0 M2320.51 1113.15 L2308.71 1131.6 L2320.51 1131.6 L2320.51 1113.15 M2319.29 1109.08 L2325.17 1109.08 L2325.17 1131.6 L2330.1 1131.6 L2330.1 1135.49 L2325.17 1135.49 L2325.17 1143.64 L2320.51 1143.64 L2320.51 1135.49 L2304.91 1135.49 L2304.91 1130.98 L2319.29 1109.08 Z\" fill=\"#000000\" fill-rule=\"evenodd\" fill-opacity=\"1\" /><path clip-path=\"url(#clip100)\" d=\"M 0 0 M2339.2 1139.71 L2355.51 1139.71 L2355.51 1143.64 L2333.57 1143.64 L2333.57 1139.71 Q2336.23 1136.95 2340.82 1132.32 Q2345.42 1127.67 2346.6 1126.33 Q2348.85 1123.8 2349.73 1122.07 Q2350.63 1120.31 2350.63 1118.62 Q2350.63 1115.86 2348.69 1114.13 Q2346.76 1112.39 2343.66 1112.39 Q2341.46 1112.39 2339.01 1113.15 Q2336.58 1113.92 2333.8 1115.47 L2333.8 1110.75 Q2336.63 1109.61 2339.08 1109.03 Q2341.53 1108.46 2343.57 1108.46 Q2348.94 1108.46 2352.14 1111.14 Q2355.33 1113.83 2355.33 1118.32 Q2355.33 1120.45 2354.52 1122.37 Q2353.73 1124.27 2351.63 1126.86 Q2351.05 1127.53 2347.95 1130.75 Q2344.84 1133.94 2339.2 1139.71 Z\" fill=\"#000000\" fill-rule=\"evenodd\" fill-opacity=\"1\" /><path clip-path=\"url(#clip100)\" d=\"M 0 0 M2360.63 1109.08 L2378.99 1109.08 L2378.99 1113.02 L2364.91 1113.02 L2364.91 1121.49 Q2365.93 1121.14 2366.95 1120.98 Q2367.97 1120.79 2368.99 1120.79 Q2374.77 1120.79 2378.15 1123.97 Q2381.53 1127.14 2381.53 1132.55 Q2381.53 1138.13 2378.06 1141.23 Q2374.59 1144.31 2368.27 1144.31 Q2366.09 1144.31 2363.82 1143.94 Q2361.58 1143.57 2359.17 1142.83 L2359.17 1138.13 Q2361.26 1139.27 2363.48 1139.82 Q2365.7 1140.38 2368.18 1140.38 Q2372.18 1140.38 2374.52 1138.27 Q2376.86 1136.16 2376.86 1132.55 Q2376.86 1128.94 2374.52 1126.84 Q2372.18 1124.73 2368.18 1124.73 Q2366.3 1124.73 2364.43 1125.15 Q2362.57 1125.56 2360.63 1126.44 L2360.63 1109.08 Z\" fill=\"#000000\" fill-rule=\"evenodd\" fill-opacity=\"1\" /><path clip-path=\"url(#clip100)\" d=\"M 0 0 M2280.7 860.541 Q2277.09 860.541 2275.26 864.106 Q2273.45 867.648 2273.45 874.777 Q2273.45 881.884 2275.26 885.449 Q2277.09 888.99 2280.7 888.99 Q2284.33 888.99 2286.14 885.449 Q2287.97 881.884 2287.97 874.777 Q2287.97 867.648 2286.14 864.106 Q2284.33 860.541 2280.7 860.541 M2280.7 856.838 Q2286.51 856.838 2289.57 861.444 Q2292.64 866.027 2292.64 874.777 Q2292.64 883.504 2289.57 888.111 Q2286.51 892.694 2280.7 892.694 Q2274.89 892.694 2271.81 888.111 Q2268.76 883.504 2268.76 874.777 Q2268.76 866.027 2271.81 861.444 Q2274.89 856.838 2280.7 856.838 Z\" fill=\"#000000\" fill-rule=\"evenodd\" fill-opacity=\"1\" /><path clip-path=\"url(#clip100)\" d=\"M 0 0 M2297.71 886.143 L2302.6 886.143 L2302.6 892.023 L2297.71 892.023 L2297.71 886.143 Z\" fill=\"#000000\" fill-rule=\"evenodd\" fill-opacity=\"1\" /><path clip-path=\"url(#clip100)\" d=\"M 0 0 M2320.51 861.537 L2308.71 879.986 L2320.51 879.986 L2320.51 861.537 M2319.29 857.463 L2325.17 857.463 L2325.17 879.986 L2330.1 879.986 L2330.1 883.875 L2325.17 883.875 L2325.17 892.023 L2320.51 892.023 L2320.51 883.875 L2304.91 883.875 L2304.91 879.361 L2319.29 857.463 Z\" fill=\"#000000\" fill-rule=\"evenodd\" fill-opacity=\"1\" /><path clip-path=\"url(#clip100)\" d=\"M 0 0 M2335.21 857.463 L2353.57 857.463 L2353.57 861.398 L2339.5 861.398 L2339.5 869.87 Q2340.51 869.523 2341.53 869.361 Q2342.55 869.176 2343.57 869.176 Q2349.36 869.176 2352.74 872.347 Q2356.12 875.518 2356.12 880.935 Q2356.12 886.513 2352.64 889.615 Q2349.17 892.694 2342.85 892.694 Q2340.68 892.694 2338.41 892.324 Q2336.16 891.953 2333.76 891.213 L2333.76 886.513 Q2335.84 887.648 2338.06 888.203 Q2340.28 888.759 2342.76 888.759 Q2346.76 888.759 2349.1 886.652 Q2351.44 884.546 2351.44 880.935 Q2351.44 877.324 2349.1 875.217 Q2346.76 873.111 2342.76 873.111 Q2340.89 873.111 2339.01 873.527 Q2337.16 873.944 2335.21 874.824 L2335.21 857.463 Z\" fill=\"#000000\" fill-rule=\"evenodd\" fill-opacity=\"1\" /><path clip-path=\"url(#clip100)\" d=\"M 0 0 M2371.19 860.541 Q2367.57 860.541 2365.75 864.106 Q2363.94 867.648 2363.94 874.777 Q2363.94 881.884 2365.75 885.449 Q2367.57 888.99 2371.19 888.99 Q2374.82 888.99 2376.63 885.449 Q2378.45 881.884 2378.45 874.777 Q2378.45 867.648 2376.63 864.106 Q2374.82 860.541 2371.19 860.541 M2371.19 856.838 Q2377 856.838 2380.05 861.444 Q2383.13 866.027 2383.13 874.777 Q2383.13 883.504 2380.05 888.111 Q2377 892.694 2371.19 892.694 Q2365.38 892.694 2362.3 888.111 Q2359.24 883.504 2359.24 874.777 Q2359.24 866.027 2362.3 861.444 Q2365.38 856.838 2371.19 856.838 Z\" fill=\"#000000\" fill-rule=\"evenodd\" fill-opacity=\"1\" /><path clip-path=\"url(#clip100)\" d=\"M 0 0 M2280.7 608.923 Q2277.09 608.923 2275.26 612.488 Q2273.45 616.03 2273.45 623.159 Q2273.45 630.266 2275.26 633.83 Q2277.09 637.372 2280.7 637.372 Q2284.33 637.372 2286.14 633.83 Q2287.97 630.266 2287.97 623.159 Q2287.97 616.03 2286.14 612.488 Q2284.33 608.923 2280.7 608.923 M2280.7 605.219 Q2286.51 605.219 2289.57 609.826 Q2292.64 614.409 2292.64 623.159 Q2292.64 631.886 2289.57 636.492 Q2286.51 641.076 2280.7 641.076 Q2274.89 641.076 2271.81 636.492 Q2268.76 631.886 2268.76 623.159 Q2268.76 614.409 2271.81 609.826 Q2274.89 605.219 2280.7 605.219 Z\" fill=\"#000000\" fill-rule=\"evenodd\" fill-opacity=\"1\" /><path clip-path=\"url(#clip100)\" d=\"M 0 0 M2297.71 634.525 L2302.6 634.525 L2302.6 640.404 L2297.71 640.404 L2297.71 634.525 Z\" fill=\"#000000\" fill-rule=\"evenodd\" fill-opacity=\"1\" /><path clip-path=\"url(#clip100)\" d=\"M 0 0 M2320.51 609.919 L2308.71 628.368 L2320.51 628.368 L2320.51 609.919 M2319.29 605.844 L2325.17 605.844 L2325.17 628.368 L2330.1 628.368 L2330.1 632.256 L2325.17 632.256 L2325.17 640.404 L2320.51 640.404 L2320.51 632.256 L2304.91 632.256 L2304.91 627.743 L2319.29 605.844 Z\" fill=\"#000000\" fill-rule=\"evenodd\" fill-opacity=\"1\" /><path clip-path=\"url(#clip100)\" d=\"M 0 0 M2333.99 605.844 L2356.21 605.844 L2356.21 607.835 L2343.66 640.404 L2338.78 640.404 L2350.58 609.78 L2333.99 609.78 L2333.99 605.844 Z\" fill=\"#000000\" fill-rule=\"evenodd\" fill-opacity=\"1\" /><path clip-path=\"url(#clip100)\" d=\"M 0 0 M2361.32 605.844 L2379.68 605.844 L2379.68 609.78 L2365.61 609.78 L2365.61 618.252 Q2366.63 617.905 2367.64 617.743 Q2368.66 617.557 2369.68 617.557 Q2375.47 617.557 2378.85 620.729 Q2382.23 623.9 2382.23 629.317 Q2382.23 634.895 2378.76 637.997 Q2375.28 641.076 2368.96 641.076 Q2366.79 641.076 2364.52 640.705 Q2362.27 640.335 2359.87 639.594 L2359.87 634.895 Q2361.95 636.03 2364.17 636.585 Q2366.39 637.141 2368.87 637.141 Q2372.88 637.141 2375.21 635.034 Q2377.55 632.928 2377.55 629.317 Q2377.55 625.705 2375.21 623.599 Q2372.88 621.493 2368.87 621.493 Q2367 621.493 2365.12 621.909 Q2363.27 622.326 2361.32 623.206 L2361.32 605.844 Z\" fill=\"#000000\" fill-rule=\"evenodd\" fill-opacity=\"1\" /><path clip-path=\"url(#clip100)\" d=\"M 0 0 M2280.7 357.305 Q2277.09 357.305 2275.26 360.87 Q2273.45 364.411 2273.45 371.541 Q2273.45 378.647 2275.26 382.212 Q2277.09 385.754 2280.7 385.754 Q2284.33 385.754 2286.14 382.212 Q2287.97 378.647 2287.97 371.541 Q2287.97 364.411 2286.14 360.87 Q2284.33 357.305 2280.7 357.305 M2280.7 353.601 Q2286.51 353.601 2289.57 358.208 Q2292.64 362.791 2292.64 371.541 Q2292.64 380.268 2289.57 384.874 Q2286.51 389.458 2280.7 389.458 Q2274.89 389.458 2271.81 384.874 Q2268.76 380.268 2268.76 371.541 Q2268.76 362.791 2271.81 358.208 Q2274.89 353.601 2280.7 353.601 Z\" fill=\"#000000\" fill-rule=\"evenodd\" fill-opacity=\"1\" /><path clip-path=\"url(#clip100)\" d=\"M 0 0 M2297.71 382.907 L2302.6 382.907 L2302.6 388.786 L2297.71 388.786 L2297.71 382.907 Z\" fill=\"#000000\" fill-rule=\"evenodd\" fill-opacity=\"1\" /><path clip-path=\"url(#clip100)\" d=\"M 0 0 M2307.71 354.226 L2326.07 354.226 L2326.07 358.161 L2312 358.161 L2312 366.634 Q2313.01 366.286 2314.03 366.124 Q2315.05 365.939 2316.07 365.939 Q2321.86 365.939 2325.24 369.11 Q2328.62 372.282 2328.62 377.698 Q2328.62 383.277 2325.14 386.379 Q2321.67 389.458 2315.35 389.458 Q2313.18 389.458 2310.91 389.087 Q2308.66 388.717 2306.26 387.976 L2306.26 383.277 Q2308.34 384.411 2310.56 384.967 Q2312.78 385.522 2315.26 385.522 Q2319.26 385.522 2321.6 383.416 Q2323.94 381.309 2323.94 377.698 Q2323.94 374.087 2321.6 371.981 Q2319.26 369.874 2315.26 369.874 Q2313.39 369.874 2311.51 370.291 Q2309.66 370.708 2307.71 371.587 L2307.71 354.226 Z\" fill=\"#000000\" fill-rule=\"evenodd\" fill-opacity=\"1\" /><path clip-path=\"url(#clip100)\" d=\"M 0 0 M2343.69 357.305 Q2340.07 357.305 2338.25 360.87 Q2336.44 364.411 2336.44 371.541 Q2336.44 378.647 2338.25 382.212 Q2340.07 385.754 2343.69 385.754 Q2347.32 385.754 2349.13 382.212 Q2350.95 378.647 2350.95 371.541 Q2350.95 364.411 2349.13 360.87 Q2347.32 357.305 2343.69 357.305 M2343.69 353.601 Q2349.5 353.601 2352.55 358.208 Q2355.63 362.791 2355.63 371.541 Q2355.63 380.268 2352.55 384.874 Q2349.5 389.458 2343.69 389.458 Q2337.88 389.458 2334.8 384.874 Q2331.74 380.268 2331.74 371.541 Q2331.74 362.791 2334.8 358.208 Q2337.88 353.601 2343.69 353.601 Z\" fill=\"#000000\" fill-rule=\"evenodd\" fill-opacity=\"1\" /><path clip-path=\"url(#clip100)\" d=\"M 0 0 M2370.7 357.305 Q2367.09 357.305 2365.26 360.87 Q2363.45 364.411 2363.45 371.541 Q2363.45 378.647 2365.26 382.212 Q2367.09 385.754 2370.7 385.754 Q2374.33 385.754 2376.14 382.212 Q2377.97 378.647 2377.97 371.541 Q2377.97 364.411 2376.14 360.87 Q2374.33 357.305 2370.7 357.305 M2370.7 353.601 Q2376.51 353.601 2379.57 358.208 Q2382.64 362.791 2382.64 371.541 Q2382.64 380.268 2379.57 384.874 Q2376.51 389.458 2370.7 389.458 Q2364.89 389.458 2361.81 384.874 Q2358.76 380.268 2358.76 371.541 Q2358.76 362.791 2361.81 358.208 Q2364.89 353.601 2370.7 353.601 Z\" fill=\"#000000\" fill-rule=\"evenodd\" fill-opacity=\"1\" /><path clip-path=\"url(#clip100)\" d=\"M 0 0 M2280.7 105.687 Q2277.09 105.687 2275.26 109.252 Q2273.45 112.793 2273.45 119.923 Q2273.45 127.029 2275.26 130.594 Q2277.09 134.136 2280.7 134.136 Q2284.33 134.136 2286.14 130.594 Q2287.97 127.029 2287.97 119.923 Q2287.97 112.793 2286.14 109.252 Q2284.33 105.687 2280.7 105.687 M2280.7 101.983 Q2286.51 101.983 2289.57 106.59 Q2292.64 111.173 2292.64 119.923 Q2292.64 128.65 2289.57 133.256 Q2286.51 137.839 2280.7 137.839 Q2274.89 137.839 2271.81 133.256 Q2268.76 128.65 2268.76 119.923 Q2268.76 111.173 2271.81 106.59 Q2274.89 101.983 2280.7 101.983 Z\" fill=\"#000000\" fill-rule=\"evenodd\" fill-opacity=\"1\" /><path clip-path=\"url(#clip100)\" d=\"M 0 0 M2297.71 131.289 L2302.6 131.289 L2302.6 137.168 L2297.71 137.168 L2297.71 131.289 Z\" fill=\"#000000\" fill-rule=\"evenodd\" fill-opacity=\"1\" /><path clip-path=\"url(#clip100)\" d=\"M 0 0 M2307.71 102.608 L2326.07 102.608 L2326.07 106.543 L2312 106.543 L2312 115.015 Q2313.01 114.668 2314.03 114.506 Q2315.05 114.321 2316.07 114.321 Q2321.86 114.321 2325.24 117.492 Q2328.62 120.664 2328.62 126.08 Q2328.62 131.659 2325.14 134.761 Q2321.67 137.839 2315.35 137.839 Q2313.18 137.839 2310.91 137.469 Q2308.66 137.099 2306.26 136.358 L2306.26 131.659 Q2308.34 132.793 2310.56 133.349 Q2312.78 133.904 2315.26 133.904 Q2319.26 133.904 2321.6 131.798 Q2323.94 129.691 2323.94 126.08 Q2323.94 122.469 2321.6 120.363 Q2319.26 118.256 2315.26 118.256 Q2313.39 118.256 2311.51 118.673 Q2309.66 119.09 2307.71 119.969 L2307.71 102.608 Z\" fill=\"#000000\" fill-rule=\"evenodd\" fill-opacity=\"1\" /><path clip-path=\"url(#clip100)\" d=\"M 0 0 M2337.71 133.233 L2354.03 133.233 L2354.03 137.168 L2332.09 137.168 L2332.09 133.233 Q2334.75 130.478 2339.33 125.849 Q2343.94 121.196 2345.12 119.853 Q2347.37 117.33 2348.25 115.594 Q2349.15 113.835 2349.15 112.145 Q2349.15 109.39 2347.2 107.654 Q2345.28 105.918 2342.18 105.918 Q2339.98 105.918 2337.53 106.682 Q2335.1 107.446 2332.32 108.997 L2332.32 104.275 Q2335.14 103.141 2337.6 102.562 Q2340.05 101.983 2342.09 101.983 Q2347.46 101.983 2350.65 104.668 Q2353.85 107.353 2353.85 111.844 Q2353.85 113.974 2353.04 115.895 Q2352.25 117.793 2350.14 120.386 Q2349.57 121.057 2346.46 124.275 Q2343.36 127.469 2337.71 133.233 Z\" fill=\"#000000\" fill-rule=\"evenodd\" fill-opacity=\"1\" /><path clip-path=\"url(#clip100)\" d=\"M 0 0 M2359.15 102.608 L2377.51 102.608 L2377.51 106.543 L2363.43 106.543 L2363.43 115.015 Q2364.45 114.668 2365.47 114.506 Q2366.49 114.321 2367.51 114.321 Q2373.29 114.321 2376.67 117.492 Q2380.05 120.664 2380.05 126.08 Q2380.05 131.659 2376.58 134.761 Q2373.11 137.839 2366.79 137.839 Q2364.61 137.839 2362.34 137.469 Q2360.1 137.099 2357.69 136.358 L2357.69 131.659 Q2359.77 132.793 2362 133.349 Q2364.22 133.904 2366.7 133.904 Q2370.7 133.904 2373.04 131.798 Q2375.38 129.691 2375.38 126.08 Q2375.38 122.469 2373.04 120.363 Q2370.7 118.256 2366.7 118.256 Q2364.82 118.256 2362.95 118.673 Q2361.09 119.09 2359.15 119.969 L2359.15 102.608 Z\" fill=\"#000000\" fill-rule=\"evenodd\" fill-opacity=\"1\" /><polyline clip-path=\"url(#clip100)\" style=\"stroke:#000000; stroke-width:4; stroke-opacity:1; fill:none\" points=\"\n",
       "  2232.76,1410.9 2232.76,1381.61 2256.76,1381.61 2232.76,1381.61 2232.76,1129.99 2256.76,1129.99 2232.76,1129.99 2232.76,878.371 2256.76,878.371 2232.76,878.371 \n",
       "  2232.76,626.753 2256.76,626.753 2232.76,626.753 2232.76,375.135 2256.76,375.135 2232.76,375.135 2232.76,123.517 2256.76,123.517 2232.76,123.517 2232.76,47.2441 \n",
       "  \n",
       "  \"/>\n",
       "</svg>\n"
      ]
     },
     "execution_count": 41,
     "metadata": {},
     "output_type": "execute_result"
    }
   ],
   "source": [
    "plot(self_tuning_nn)"
   ]
  },
  {
   "cell_type": "code",
   "execution_count": 42,
   "metadata": {},
   "outputs": [
    {
     "data": {
      "text/plain": [
       "(best_model = \u001b[34mNeuralNetworkClassifier{CustomNN,…} @694\u001b[39m,\n",
       " best_fitted_params = (chain = Chain(Chain(Dense(41, 132, σ), Dense(132, 2, σ)), softmax),),)"
      ]
     },
     "execution_count": 42,
     "metadata": {},
     "output_type": "execute_result"
    }
   ],
   "source": [
    "best = fitted_params(self_tuning_nn)\n",
    "best"
   ]
  },
  {
   "cell_type": "code",
   "execution_count": 43,
   "metadata": {},
   "outputs": [
    {
     "data": {
      "text/plain": [
       "NeuralNetworkClassifier(\n",
       "    builder = CustomNN(\n",
       "            n1 = 132),\n",
       "    finaliser = NNlib.softmax,\n",
       "    optimiser = ADAM(0.0003333333333333333, (0.9, 0.999), IdDict{Any,Any}()),\n",
       "    loss = Flux.crossentropy,\n",
       "    epochs = 1000,\n",
       "    batch_size = 16,\n",
       "    lambda = 0.01,\n",
       "    alpha = 0.0,\n",
       "    optimiser_changes_trigger_retraining = false)\u001b[34m @694\u001b[39m"
      ]
     },
     "execution_count": 43,
     "metadata": {},
     "output_type": "execute_result"
    }
   ],
   "source": [
    "best.best_model"
   ]
  },
  {
   "cell_type": "code",
   "execution_count": 44,
   "metadata": {
    "scrolled": true
   },
   "outputs": [
    {
     "data": {
      "text/plain": [
       "0.39708996f0"
      ]
     },
     "execution_count": 44,
     "metadata": {},
     "output_type": "execute_result"
    }
   ],
   "source": [
    "best_loss = z.report.best_result.measurement[1]"
   ]
  },
  {
   "cell_type": "code",
   "execution_count": 45,
   "metadata": {
    "scrolled": true
   },
   "outputs": [
    {
     "data": {
      "text/plain": [
       "132"
      ]
     },
     "execution_count": 45,
     "metadata": {},
     "output_type": "execute_result"
    }
   ],
   "source": [
    "best_n1 = best.best_model.builder.n1"
   ]
  },
  {
   "cell_type": "markdown",
   "metadata": {},
   "source": [
    "### GridSearch for Learning Rate"
   ]
  },
  {
   "cell_type": "code",
   "execution_count": 46,
   "metadata": {
    "scrolled": true
   },
   "outputs": [
    {
     "data": {
      "text/plain": [
       "NeuralNetworkClassifier(\n",
       "    builder = CustomNN(\n",
       "            n1 = 132),\n",
       "    finaliser = NNlib.softmax,\n",
       "    optimiser = ADAM(0.001, (0.9, 0.999), IdDict{Any,Any}()),\n",
       "    loss = Flux.crossentropy,\n",
       "    epochs = 10,\n",
       "    batch_size = 1,\n",
       "    lambda = 0.0,\n",
       "    alpha = 0.0,\n",
       "    optimiser_changes_trigger_retraining = false)\u001b[34m @730\u001b[39m"
      ]
     },
     "execution_count": 46,
     "metadata": {},
     "output_type": "execute_result"
    }
   ],
   "source": [
    "nn = NeuralNetworkClassifier(builder=CustomNN(best_n1))"
   ]
  },
  {
   "cell_type": "code",
   "execution_count": 47,
   "metadata": {},
   "outputs": [
    {
     "data": {
      "text/plain": [
       "0.01"
      ]
     },
     "execution_count": 47,
     "metadata": {},
     "output_type": "execute_result"
    }
   ],
   "source": [
    "nn.optimiser.eta = 0.001\n",
    "nn.epochs = 60\n",
    "nn.batch_size = batch_sz\n",
    "nn.lambda = 0.01"
   ]
  },
  {
   "cell_type": "code",
   "execution_count": 48,
   "metadata": {},
   "outputs": [
    {
     "name": "stderr",
     "output_type": "stream",
     "text": [
      "┌ Warning: The scitype of `X`, in `machine(model, X, ...)` is incompatible with `model=\u001b[34mNeuralNetworkClassifier{CustomNN,…} @730\u001b[39m`:\n",
      "│ scitype(X) = Table{Union{AbstractArray{Continuous,1}, AbstractArray{Count,1}}}\n",
      "│ input_scitype(model) = Table{var\"#s44\"} where var\"#s44\"<:(AbstractArray{var\"#s13\",1} where var\"#s13\"<:Continuous).\n",
      "└ @ MLJBase /home/andrew/.julia/packages/MLJBase/uKzAz/src/machines.jl:77\n"
     ]
    },
    {
     "data": {
      "text/plain": [
       "\u001b[34mMachine{NeuralNetworkClassifier{CustomNN,…}} @345\u001b[39m trained 0 times.\n",
       "  args: \n",
       "    1:\t\u001b[34mSource @665\u001b[39m ⏎ `Table{Union{AbstractArray{Continuous,1}, AbstractArray{Count,1}}}`\n",
       "    2:\t\u001b[34mSource @703\u001b[39m ⏎ `AbstractArray{Multiclass{2},1}`\n"
      ]
     },
     "execution_count": 48,
     "metadata": {},
     "output_type": "execute_result"
    }
   ],
   "source": [
    "Net = machine(nn, X_stand, y)"
   ]
  },
  {
   "cell_type": "code",
   "execution_count": 49,
   "metadata": {},
   "outputs": [
    {
     "name": "stderr",
     "output_type": "stream",
     "text": [
      "┌ Info: Training \u001b[34mMachine{NeuralNetworkClassifier{CustomNN,…}} @345\u001b[39m.\n",
      "└ @ MLJBase /home/andrew/.julia/packages/MLJBase/uKzAz/src/machines.jl:319\n",
      "\u001b[33mOptimising neural net:100%[=========================] Time: 0:00:01\u001b[39m\n"
     ]
    },
    {
     "data": {
      "text/plain": [
       "\u001b[34mMachine{NeuralNetworkClassifier{CustomNN,…}} @345\u001b[39m trained 1 time.\n",
       "  args: \n",
       "    1:\t\u001b[34mSource @665\u001b[39m ⏎ `Table{Union{AbstractArray{Continuous,1}, AbstractArray{Count,1}}}`\n",
       "    2:\t\u001b[34mSource @703\u001b[39m ⏎ `AbstractArray{Multiclass{2},1}`\n"
      ]
     },
     "execution_count": 49,
     "metadata": {},
     "output_type": "execute_result"
    }
   ],
   "source": [
    "fit!(Net, rows=train, verbosity=1, force=true)"
   ]
  },
  {
   "cell_type": "code",
   "execution_count": 50,
   "metadata": {},
   "outputs": [
    {
     "data": {
      "text/plain": [
       "MLJBase.NumericRange(Float64, :(optimiser.eta), ... )"
      ]
     },
     "execution_count": 50,
     "metadata": {},
     "output_type": "execute_result"
    }
   ],
   "source": [
    "param1 = :epochs\n",
    "param2 = :(optimiser.eta)\n",
    "\n",
    "r1 = range(nn, param1, lower=10, upper=max_epochs, scale=:linear)\n",
    "r2 = range(nn, param2, lower=0.0001, upper=1, scale=:log10)"
   ]
  },
  {
   "cell_type": "code",
   "execution_count": 51,
   "metadata": {
    "scrolled": true
   },
   "outputs": [
    {
     "data": {
      "text/plain": [
       "ProbabilisticTunedModel(\n",
       "    model = NeuralNetworkClassifier(\n",
       "            builder = \u001b[34mCustomNN @874\u001b[39m,\n",
       "            finaliser = NNlib.softmax,\n",
       "            optimiser = ADAM(0.001, (0.9, 0.999), IdDict{Any,Any}()),\n",
       "            loss = Flux.crossentropy,\n",
       "            epochs = 60,\n",
       "            batch_size = 16,\n",
       "            lambda = 0.01,\n",
       "            alpha = 0.0,\n",
       "            optimiser_changes_trigger_retraining = false),\n",
       "    tuning = Grid(\n",
       "            goal = 300,\n",
       "            resolution = 10,\n",
       "            shuffle = true,\n",
       "            rng = Random._GLOBAL_RNG()),\n",
       "    resampling = Holdout(\n",
       "            fraction_train = 0.7,\n",
       "            shuffle = false,\n",
       "            rng = Random._GLOBAL_RNG()),\n",
       "    measure = cross_entropy(\n",
       "            eps = 2.220446049250313e-16),\n",
       "    weights = nothing,\n",
       "    operation = MLJModelInterface.predict,\n",
       "    range = MLJBase.NumericRange{T,MLJBase.Bounded,Symbol} where T[\u001b[34mNumericRange{Int64,…} @024\u001b[39m, \u001b[34mNumericRange{Float64,…} @275\u001b[39m],\n",
       "    train_best = true,\n",
       "    repeats = 1,\n",
       "    n = nothing,\n",
       "    acceleration = CPUThreads{Int64}(1),\n",
       "    acceleration_resampling = CPU1{Nothing}(nothing),\n",
       "    check_measure = true)\u001b[34m @974\u001b[39m"
      ]
     },
     "execution_count": 51,
     "metadata": {},
     "output_type": "execute_result"
    }
   ],
   "source": [
    "self_tuning_nn_model = TunedModel(model=nn,\n",
    "                                    tuning=Grid(goal=300),\n",
    "                                    resampling=Holdout(fraction_train=0.7), \n",
    "                                    measure=cross_entropy,\n",
    "                                    acceleration=CPUThreads(),\n",
    "                                    range=[r1, r2])"
   ]
  },
  {
   "cell_type": "code",
   "execution_count": 52,
   "metadata": {},
   "outputs": [
    {
     "name": "stderr",
     "output_type": "stream",
     "text": [
      "┌ Warning: The scitype of `X`, in `machine(model, X, ...)` is incompatible with `model=\u001b[34mProbabilisticTunedModel{Grid,…} @974\u001b[39m`:\n",
      "│ scitype(X) = Table{Union{AbstractArray{Continuous,1}, AbstractArray{Count,1}}}\n",
      "│ input_scitype(model) = Table{var\"#s44\"} where var\"#s44\"<:(AbstractArray{var\"#s13\",1} where var\"#s13\"<:Continuous).\n",
      "└ @ MLJBase /home/andrew/.julia/packages/MLJBase/uKzAz/src/machines.jl:77\n"
     ]
    },
    {
     "data": {
      "text/plain": [
       "\u001b[34mMachine{ProbabilisticTunedModel{Grid,…}} @482\u001b[39m trained 0 times.\n",
       "  args: \n",
       "    1:\t\u001b[34mSource @281\u001b[39m ⏎ `Table{Union{AbstractArray{Continuous,1}, AbstractArray{Count,1}}}`\n",
       "    2:\t\u001b[34mSource @305\u001b[39m ⏎ `AbstractArray{Multiclass{2},1}`\n"
      ]
     },
     "execution_count": 52,
     "metadata": {},
     "output_type": "execute_result"
    }
   ],
   "source": [
    "self_tuning_nn = machine(self_tuning_nn_model, X_stand, y)"
   ]
  },
  {
   "cell_type": "code",
   "execution_count": 53,
   "metadata": {
    "scrolled": false
   },
   "outputs": [
    {
     "name": "stderr",
     "output_type": "stream",
     "text": [
      "┌ Info: Training \u001b[34mMachine{ProbabilisticTunedModel{Grid,…}} @482\u001b[39m.\n",
      "└ @ MLJBase /home/andrew/.julia/packages/MLJBase/uKzAz/src/machines.jl:319\n",
      "┌ Info: Attempting to evaluate 289 models.\n",
      "└ @ MLJTuning /home/andrew/.julia/packages/MLJTuning/Bbgvk/src/tuned_models.jl:494\n",
      "┌ Warning: The scitype of `X`, in `machine(model, X, ...)` is incompatible with `model=\u001b[34mResampler{Holdout,…} @858\u001b[39m`:\n",
      "│ scitype(X) = Table{Union{AbstractArray{Continuous,1}, AbstractArray{Count,1}}}\n",
      "│ input_scitype(model) = Table{var\"#s44\"} where var\"#s44\"<:(AbstractArray{var\"#s13\",1} where var\"#s13\"<:Continuous).\n",
      "└ @ MLJBase /home/andrew/.julia/packages/MLJBase/uKzAz/src/machines.jl:77\n",
      "\u001b[33mEvaluating over 289 metamodels:   0%[>                        ]  ETA: N/A\u001b[39m┌ Warning: The scitype of `X`, in `machine(model, X, ...)` is incompatible with `model=\u001b[34mNeuralNetworkClassifier{CustomNN,…} @497\u001b[39m`:\n",
      "│ scitype(X) = Table{Union{AbstractArray{Continuous,1}, AbstractArray{Count,1}}}\n",
      "│ input_scitype(model) = Table{var\"#s44\"} where var\"#s44\"<:(AbstractArray{var\"#s13\",1} where var\"#s13\"<:Continuous).\n",
      "└ @ MLJBase /home/andrew/.julia/packages/MLJBase/uKzAz/src/machines.jl:77\n",
      "\u001b[33mEvaluating over 289 metamodels: 100%[=========================] Time: 0:20:39\u001b[39m\n",
      "┌ Warning: The scitype of `X`, in `machine(model, X, ...)` is incompatible with `model=\u001b[34mNeuralNetworkClassifier{CustomNN,…} @741\u001b[39m`:\n",
      "│ scitype(X) = Table{Union{AbstractArray{Continuous,1}, AbstractArray{Count,1}}}\n",
      "│ input_scitype(model) = Table{var\"#s44\"} where var\"#s44\"<:(AbstractArray{var\"#s13\",1} where var\"#s13\"<:Continuous).\n",
      "└ @ MLJBase /home/andrew/.julia/packages/MLJBase/uKzAz/src/machines.jl:77\n"
     ]
    },
    {
     "data": {
      "text/plain": [
       "\u001b[34mMachine{ProbabilisticTunedModel{Grid,…}} @482\u001b[39m trained 1 time.\n",
       "  args: \n",
       "    1:\t\u001b[34mSource @281\u001b[39m ⏎ `Table{Union{AbstractArray{Continuous,1}, AbstractArray{Count,1}}}`\n",
       "    2:\t\u001b[34mSource @305\u001b[39m ⏎ `AbstractArray{Multiclass{2},1}`\n"
      ]
     },
     "execution_count": 53,
     "metadata": {},
     "output_type": "execute_result"
    }
   ],
   "source": [
    "z = fit!(self_tuning_nn, rows=train)"
   ]
  },
  {
   "cell_type": "code",
   "execution_count": 54,
   "metadata": {
    "scrolled": false
   },
   "outputs": [
    {
     "data": {
      "image/svg+xml": [
       "<?xml version=\"1.0\" encoding=\"utf-8\"?>\n",
       "<svg xmlns=\"http://www.w3.org/2000/svg\" xmlns:xlink=\"http://www.w3.org/1999/xlink\" width=\"600\" height=\"400\" viewBox=\"0 0 2400 1600\">\n",
       "<defs>\n",
       "  <clipPath id=\"clip140\">\n",
       "    <rect x=\"0\" y=\"0\" width=\"2400\" height=\"1600\"/>\n",
       "  </clipPath>\n",
       "</defs>\n",
       "<path clip-path=\"url(#clip140)\" d=\"\n",
       "M0 1600 L2400 1600 L2400 0 L0 0  Z\n",
       "  \" fill=\"#ffffff\" fill-rule=\"evenodd\" fill-opacity=\"1\"/>\n",
       "<defs>\n",
       "  <clipPath id=\"clip141\">\n",
       "    <rect x=\"480\" y=\"0\" width=\"1681\" height=\"1600\"/>\n",
       "  </clipPath>\n",
       "</defs>\n",
       "<path clip-path=\"url(#clip140)\" d=\"\n",
       "M244.308 1423.18 L2112.76 1423.18 L2112.76 47.2441 L244.308 47.2441  Z\n",
       "  \" fill=\"#ffffff\" fill-rule=\"evenodd\" fill-opacity=\"1\"/>\n",
       "<defs>\n",
       "  <clipPath id=\"clip142\">\n",
       "    <rect x=\"244\" y=\"47\" width=\"1869\" height=\"1377\"/>\n",
       "  </clipPath>\n",
       "</defs>\n",
       "<polyline clip-path=\"url(#clip142)\" style=\"stroke:#000000; stroke-width:2; stroke-opacity:0.1; fill:none\" points=\"\n",
       "  279.383,1423.18 279.383,47.2441 \n",
       "  \"/>\n",
       "<polyline clip-path=\"url(#clip142)\" style=\"stroke:#000000; stroke-width:2; stroke-opacity:0.1; fill:none\" points=\"\n",
       "  724.506,1423.18 724.506,47.2441 \n",
       "  \"/>\n",
       "<polyline clip-path=\"url(#clip142)\" style=\"stroke:#000000; stroke-width:2; stroke-opacity:0.1; fill:none\" points=\"\n",
       "  1169.63,1423.18 1169.63,47.2441 \n",
       "  \"/>\n",
       "<polyline clip-path=\"url(#clip142)\" style=\"stroke:#000000; stroke-width:2; stroke-opacity:0.1; fill:none\" points=\"\n",
       "  1614.75,1423.18 1614.75,47.2441 \n",
       "  \"/>\n",
       "<polyline clip-path=\"url(#clip142)\" style=\"stroke:#000000; stroke-width:2; stroke-opacity:0.1; fill:none\" points=\"\n",
       "  2059.88,1423.18 2059.88,47.2441 \n",
       "  \"/>\n",
       "<polyline clip-path=\"url(#clip142)\" style=\"stroke:#000000; stroke-width:2; stroke-opacity:0.1; fill:none\" points=\"\n",
       "  244.308,1384.24 2112.76,1384.24 \n",
       "  \"/>\n",
       "<polyline clip-path=\"url(#clip142)\" style=\"stroke:#000000; stroke-width:2; stroke-opacity:0.1; fill:none\" points=\"\n",
       "  244.308,1059.73 2112.76,1059.73 \n",
       "  \"/>\n",
       "<polyline clip-path=\"url(#clip142)\" style=\"stroke:#000000; stroke-width:2; stroke-opacity:0.1; fill:none\" points=\"\n",
       "  244.308,735.212 2112.76,735.212 \n",
       "  \"/>\n",
       "<polyline clip-path=\"url(#clip142)\" style=\"stroke:#000000; stroke-width:2; stroke-opacity:0.1; fill:none\" points=\"\n",
       "  244.308,410.699 2112.76,410.699 \n",
       "  \"/>\n",
       "<polyline clip-path=\"url(#clip142)\" style=\"stroke:#000000; stroke-width:2; stroke-opacity:0.1; fill:none\" points=\"\n",
       "  244.308,86.1857 2112.76,86.1857 \n",
       "  \"/>\n",
       "<polyline clip-path=\"url(#clip140)\" style=\"stroke:#000000; stroke-width:4; stroke-opacity:1; fill:none\" points=\"\n",
       "  244.308,1423.18 2112.76,1423.18 \n",
       "  \"/>\n",
       "<polyline clip-path=\"url(#clip140)\" style=\"stroke:#000000; stroke-width:4; stroke-opacity:1; fill:none\" points=\"\n",
       "  244.308,1423.18 244.308,47.2441 \n",
       "  \"/>\n",
       "<polyline clip-path=\"url(#clip140)\" style=\"stroke:#000000; stroke-width:4; stroke-opacity:1; fill:none\" points=\"\n",
       "  279.383,1423.18 279.383,1406.67 \n",
       "  \"/>\n",
       "<polyline clip-path=\"url(#clip140)\" style=\"stroke:#000000; stroke-width:4; stroke-opacity:1; fill:none\" points=\"\n",
       "  724.506,1423.18 724.506,1406.67 \n",
       "  \"/>\n",
       "<polyline clip-path=\"url(#clip140)\" style=\"stroke:#000000; stroke-width:4; stroke-opacity:1; fill:none\" points=\"\n",
       "  1169.63,1423.18 1169.63,1406.67 \n",
       "  \"/>\n",
       "<polyline clip-path=\"url(#clip140)\" style=\"stroke:#000000; stroke-width:4; stroke-opacity:1; fill:none\" points=\"\n",
       "  1614.75,1423.18 1614.75,1406.67 \n",
       "  \"/>\n",
       "<polyline clip-path=\"url(#clip140)\" style=\"stroke:#000000; stroke-width:4; stroke-opacity:1; fill:none\" points=\"\n",
       "  2059.88,1423.18 2059.88,1406.67 \n",
       "  \"/>\n",
       "<polyline clip-path=\"url(#clip140)\" style=\"stroke:#000000; stroke-width:4; stroke-opacity:1; fill:none\" points=\"\n",
       "  244.308,1384.24 266.729,1384.24 \n",
       "  \"/>\n",
       "<polyline clip-path=\"url(#clip140)\" style=\"stroke:#000000; stroke-width:4; stroke-opacity:1; fill:none\" points=\"\n",
       "  244.308,1059.73 266.729,1059.73 \n",
       "  \"/>\n",
       "<polyline clip-path=\"url(#clip140)\" style=\"stroke:#000000; stroke-width:4; stroke-opacity:1; fill:none\" points=\"\n",
       "  244.308,735.212 266.729,735.212 \n",
       "  \"/>\n",
       "<polyline clip-path=\"url(#clip140)\" style=\"stroke:#000000; stroke-width:4; stroke-opacity:1; fill:none\" points=\"\n",
       "  244.308,410.699 266.729,410.699 \n",
       "  \"/>\n",
       "<polyline clip-path=\"url(#clip140)\" style=\"stroke:#000000; stroke-width:4; stroke-opacity:1; fill:none\" points=\"\n",
       "  244.308,86.1857 266.729,86.1857 \n",
       "  \"/>\n",
       "<path clip-path=\"url(#clip140)\" d=\"M 0 0 M279.383 1445.17 Q275.772 1445.17 273.944 1448.74 Q272.138 1452.28 272.138 1459.41 Q272.138 1466.51 273.944 1470.08 Q275.772 1473.62 279.383 1473.62 Q283.018 1473.62 284.823 1470.08 Q286.652 1466.51 286.652 1459.41 Q286.652 1452.28 284.823 1448.74 Q283.018 1445.17 279.383 1445.17 M279.383 1441.47 Q285.194 1441.47 288.249 1446.07 Q291.328 1450.66 291.328 1459.41 Q291.328 1468.13 288.249 1472.74 Q285.194 1477.32 279.383 1477.32 Q273.573 1477.32 270.495 1472.74 Q267.439 1468.13 267.439 1459.41 Q267.439 1450.66 270.495 1446.07 Q273.573 1441.47 279.383 1441.47 Z\" fill=\"#000000\" fill-rule=\"evenodd\" fill-opacity=\"1\" /><path clip-path=\"url(#clip140)\" d=\"M 0 0 M692.643 1472.72 L708.962 1472.72 L708.962 1476.65 L687.018 1476.65 L687.018 1472.72 Q689.68 1469.96 694.263 1465.33 Q698.87 1460.68 700.05 1459.34 Q702.296 1456.81 703.175 1455.08 Q704.078 1453.32 704.078 1451.63 Q704.078 1448.87 702.134 1447.14 Q700.213 1445.4 697.111 1445.4 Q694.912 1445.4 692.458 1446.17 Q690.027 1446.93 687.25 1448.48 L687.25 1443.76 Q690.074 1442.62 692.527 1442.05 Q694.981 1441.47 697.018 1441.47 Q702.388 1441.47 705.583 1444.15 Q708.777 1446.84 708.777 1451.33 Q708.777 1453.46 707.967 1455.38 Q707.18 1457.28 705.074 1459.87 Q704.495 1460.54 701.393 1463.76 Q698.291 1466.95 692.643 1472.72 Z\" fill=\"#000000\" fill-rule=\"evenodd\" fill-opacity=\"1\" /><path clip-path=\"url(#clip140)\" d=\"M 0 0 M714.078 1442.09 L732.435 1442.09 L732.435 1446.03 L718.361 1446.03 L718.361 1454.5 Q719.379 1454.15 720.398 1453.99 Q721.416 1453.8 722.435 1453.8 Q728.222 1453.8 731.601 1456.98 Q734.981 1460.15 734.981 1465.56 Q734.981 1471.14 731.509 1474.24 Q728.036 1477.32 721.717 1477.32 Q719.541 1477.32 717.273 1476.95 Q715.027 1476.58 712.62 1475.84 L712.62 1471.14 Q714.703 1472.28 716.925 1472.83 Q719.148 1473.39 721.624 1473.39 Q725.629 1473.39 727.967 1471.28 Q730.305 1469.18 730.305 1465.56 Q730.305 1461.95 727.967 1459.85 Q725.629 1457.74 721.624 1457.74 Q719.749 1457.74 717.874 1458.16 Q716.023 1458.57 714.078 1459.45 L714.078 1442.09 Z\" fill=\"#000000\" fill-rule=\"evenodd\" fill-opacity=\"1\" /><path clip-path=\"url(#clip140)\" d=\"M 0 0 M750.05 1445.17 Q746.439 1445.17 744.61 1448.74 Q742.805 1452.28 742.805 1459.41 Q742.805 1466.51 744.61 1470.08 Q746.439 1473.62 750.05 1473.62 Q753.684 1473.62 755.49 1470.08 Q757.319 1466.51 757.319 1459.41 Q757.319 1452.28 755.49 1448.74 Q753.684 1445.17 750.05 1445.17 M750.05 1441.47 Q755.86 1441.47 758.916 1446.07 Q761.995 1450.66 761.995 1459.41 Q761.995 1468.13 758.916 1472.74 Q755.86 1477.32 750.05 1477.32 Q744.24 1477.32 741.161 1472.74 Q738.106 1468.13 738.106 1459.41 Q738.106 1450.66 741.161 1446.07 Q744.24 1441.47 750.05 1441.47 Z\" fill=\"#000000\" fill-rule=\"evenodd\" fill-opacity=\"1\" /><path clip-path=\"url(#clip140)\" d=\"M 0 0 M1132.89 1442.09 L1151.25 1442.09 L1151.25 1446.03 L1137.18 1446.03 L1137.18 1454.5 Q1138.19 1454.15 1139.21 1453.99 Q1140.23 1453.8 1141.25 1453.8 Q1147.04 1453.8 1150.42 1456.98 Q1153.8 1460.15 1153.8 1465.56 Q1153.8 1471.14 1150.32 1474.24 Q1146.85 1477.32 1140.53 1477.32 Q1138.36 1477.32 1136.09 1476.95 Q1133.84 1476.58 1131.44 1475.84 L1131.44 1471.14 Q1133.52 1472.28 1135.74 1472.83 Q1137.96 1473.39 1140.44 1473.39 Q1144.44 1473.39 1146.78 1471.28 Q1149.12 1469.18 1149.12 1465.56 Q1149.12 1461.95 1146.78 1459.85 Q1144.44 1457.74 1140.44 1457.74 Q1138.56 1457.74 1136.69 1458.16 Q1134.84 1458.57 1132.89 1459.45 L1132.89 1442.09 Z\" fill=\"#000000\" fill-rule=\"evenodd\" fill-opacity=\"1\" /><path clip-path=\"url(#clip140)\" d=\"M 0 0 M1168.87 1445.17 Q1165.25 1445.17 1163.43 1448.74 Q1161.62 1452.28 1161.62 1459.41 Q1161.62 1466.51 1163.43 1470.08 Q1165.25 1473.62 1168.87 1473.62 Q1172.5 1473.62 1174.31 1470.08 Q1176.13 1466.51 1176.13 1459.41 Q1176.13 1452.28 1174.31 1448.74 Q1172.5 1445.17 1168.87 1445.17 M1168.87 1441.47 Q1174.68 1441.47 1177.73 1446.07 Q1180.81 1450.66 1180.81 1459.41 Q1180.81 1468.13 1177.73 1472.74 Q1174.68 1477.32 1168.87 1477.32 Q1163.06 1477.32 1159.98 1472.74 Q1156.92 1468.13 1156.92 1459.41 Q1156.92 1450.66 1159.98 1446.07 Q1163.06 1441.47 1168.87 1441.47 Z\" fill=\"#000000\" fill-rule=\"evenodd\" fill-opacity=\"1\" /><path clip-path=\"url(#clip140)\" d=\"M 0 0 M1195.88 1445.17 Q1192.27 1445.17 1190.44 1448.74 Q1188.63 1452.28 1188.63 1459.41 Q1188.63 1466.51 1190.44 1470.08 Q1192.27 1473.62 1195.88 1473.62 Q1199.51 1473.62 1201.32 1470.08 Q1203.15 1466.51 1203.15 1459.41 Q1203.15 1452.28 1201.32 1448.74 Q1199.51 1445.17 1195.88 1445.17 M1195.88 1441.47 Q1201.69 1441.47 1204.74 1446.07 Q1207.82 1450.66 1207.82 1459.41 Q1207.82 1468.13 1204.74 1472.74 Q1201.69 1477.32 1195.88 1477.32 Q1190.07 1477.32 1186.99 1472.74 Q1183.93 1468.13 1183.93 1459.41 Q1183.93 1450.66 1186.99 1446.07 Q1190.07 1441.47 1195.88 1441.47 Z\" fill=\"#000000\" fill-rule=\"evenodd\" fill-opacity=\"1\" /><path clip-path=\"url(#clip140)\" d=\"M 0 0 M1577.13 1442.09 L1599.35 1442.09 L1599.35 1444.08 L1586.8 1476.65 L1581.92 1476.65 L1593.72 1446.03 L1577.13 1446.03 L1577.13 1442.09 Z\" fill=\"#000000\" fill-rule=\"evenodd\" fill-opacity=\"1\" /><path clip-path=\"url(#clip140)\" d=\"M 0 0 M1604.46 1442.09 L1622.82 1442.09 L1622.82 1446.03 L1608.75 1446.03 L1608.75 1454.5 Q1609.76 1454.15 1610.78 1453.99 Q1611.8 1453.8 1612.82 1453.8 Q1618.61 1453.8 1621.99 1456.98 Q1625.37 1460.15 1625.37 1465.56 Q1625.37 1471.14 1621.89 1474.24 Q1618.42 1477.32 1612.1 1477.32 Q1609.93 1477.32 1607.66 1476.95 Q1605.41 1476.58 1603 1475.84 L1603 1471.14 Q1605.09 1472.28 1607.31 1472.83 Q1609.53 1473.39 1612.01 1473.39 Q1616.01 1473.39 1618.35 1471.28 Q1620.69 1469.18 1620.69 1465.56 Q1620.69 1461.95 1618.35 1459.85 Q1616.01 1457.74 1612.01 1457.74 Q1610.13 1457.74 1608.26 1458.16 Q1606.41 1458.57 1604.46 1459.45 L1604.46 1442.09 Z\" fill=\"#000000\" fill-rule=\"evenodd\" fill-opacity=\"1\" /><path clip-path=\"url(#clip140)\" d=\"M 0 0 M1640.44 1445.17 Q1636.82 1445.17 1635 1448.74 Q1633.19 1452.28 1633.19 1459.41 Q1633.19 1466.51 1635 1470.08 Q1636.82 1473.62 1640.44 1473.62 Q1644.07 1473.62 1645.87 1470.08 Q1647.7 1466.51 1647.7 1459.41 Q1647.7 1452.28 1645.87 1448.74 Q1644.07 1445.17 1640.44 1445.17 M1640.44 1441.47 Q1646.25 1441.47 1649.3 1446.07 Q1652.38 1450.66 1652.38 1459.41 Q1652.38 1468.13 1649.3 1472.74 Q1646.25 1477.32 1640.44 1477.32 Q1634.62 1477.32 1631.55 1472.74 Q1628.49 1468.13 1628.49 1459.41 Q1628.49 1450.66 1631.55 1446.07 Q1634.62 1441.47 1640.44 1441.47 Z\" fill=\"#000000\" fill-rule=\"evenodd\" fill-opacity=\"1\" /><path clip-path=\"url(#clip140)\" d=\"M 0 0 M2009.74 1472.72 L2017.38 1472.72 L2017.38 1446.35 L2009.07 1448.02 L2009.07 1443.76 L2017.33 1442.09 L2022.01 1442.09 L2022.01 1472.72 L2029.64 1472.72 L2029.64 1476.65 L2009.74 1476.65 L2009.74 1472.72 Z\" fill=\"#000000\" fill-rule=\"evenodd\" fill-opacity=\"1\" /><path clip-path=\"url(#clip140)\" d=\"M 0 0 M2044.71 1445.17 Q2041.1 1445.17 2039.27 1448.74 Q2037.47 1452.28 2037.47 1459.41 Q2037.47 1466.51 2039.27 1470.08 Q2041.1 1473.62 2044.71 1473.62 Q2048.35 1473.62 2050.15 1470.08 Q2051.98 1466.51 2051.98 1459.41 Q2051.98 1452.28 2050.15 1448.74 Q2048.35 1445.17 2044.71 1445.17 M2044.71 1441.47 Q2050.52 1441.47 2053.58 1446.07 Q2056.66 1450.66 2056.66 1459.41 Q2056.66 1468.13 2053.58 1472.74 Q2050.52 1477.32 2044.71 1477.32 Q2038.9 1477.32 2035.82 1472.74 Q2032.77 1468.13 2032.77 1459.41 Q2032.77 1450.66 2035.82 1446.07 Q2038.9 1441.47 2044.71 1441.47 Z\" fill=\"#000000\" fill-rule=\"evenodd\" fill-opacity=\"1\" /><path clip-path=\"url(#clip140)\" d=\"M 0 0 M2071.73 1445.17 Q2068.12 1445.17 2066.29 1448.74 Q2064.48 1452.28 2064.48 1459.41 Q2064.48 1466.51 2066.29 1470.08 Q2068.12 1473.62 2071.73 1473.62 Q2075.36 1473.62 2077.17 1470.08 Q2079 1466.51 2079 1459.41 Q2079 1452.28 2077.17 1448.74 Q2075.36 1445.17 2071.73 1445.17 M2071.73 1441.47 Q2077.54 1441.47 2080.59 1446.07 Q2083.67 1450.66 2083.67 1459.41 Q2083.67 1468.13 2080.59 1472.74 Q2077.54 1477.32 2071.73 1477.32 Q2065.92 1477.32 2062.84 1472.74 Q2059.78 1468.13 2059.78 1459.41 Q2059.78 1450.66 2062.84 1446.07 Q2065.92 1441.47 2071.73 1441.47 Z\" fill=\"#000000\" fill-rule=\"evenodd\" fill-opacity=\"1\" /><path clip-path=\"url(#clip140)\" d=\"M 0 0 M2098.74 1445.17 Q2095.13 1445.17 2093.3 1448.74 Q2091.5 1452.28 2091.5 1459.41 Q2091.5 1466.51 2093.3 1470.08 Q2095.13 1473.62 2098.74 1473.62 Q2102.38 1473.62 2104.18 1470.08 Q2106.01 1466.51 2106.01 1459.41 Q2106.01 1452.28 2104.18 1448.74 Q2102.38 1445.17 2098.74 1445.17 M2098.74 1441.47 Q2104.55 1441.47 2107.61 1446.07 Q2110.69 1450.66 2110.69 1459.41 Q2110.69 1468.13 2107.61 1472.74 Q2104.55 1477.32 2098.74 1477.32 Q2092.93 1477.32 2089.85 1472.74 Q2086.8 1468.13 2086.8 1459.41 Q2086.8 1450.66 2089.85 1446.07 Q2092.93 1441.47 2098.74 1441.47 Z\" fill=\"#000000\" fill-rule=\"evenodd\" fill-opacity=\"1\" /><path clip-path=\"url(#clip140)\" d=\"M 0 0 M126.931 1404.03 L134.57 1404.03 L134.57 1377.67 L126.26 1379.33 L126.26 1375.07 L134.524 1373.41 L139.2 1373.41 L139.2 1404.03 L146.839 1404.03 L146.839 1407.97 L126.931 1407.97 L126.931 1404.03 Z\" fill=\"#000000\" fill-rule=\"evenodd\" fill-opacity=\"1\" /><path clip-path=\"url(#clip140)\" d=\"M 0 0 M161.908 1376.48 Q158.297 1376.48 156.468 1380.05 Q154.663 1383.59 154.663 1390.72 Q154.663 1397.83 156.468 1401.39 Q158.297 1404.93 161.908 1404.93 Q165.542 1404.93 167.348 1401.39 Q169.177 1397.83 169.177 1390.72 Q169.177 1383.59 167.348 1380.05 Q165.542 1376.48 161.908 1376.48 M161.908 1372.78 Q167.718 1372.78 170.774 1377.39 Q173.852 1381.97 173.852 1390.72 Q173.852 1399.45 170.774 1404.05 Q167.718 1408.64 161.908 1408.64 Q156.098 1408.64 153.019 1404.05 Q149.964 1399.45 149.964 1390.72 Q149.964 1381.97 153.019 1377.39 Q156.098 1372.78 161.908 1372.78 Z\" fill=\"#000000\" fill-rule=\"evenodd\" fill-opacity=\"1\" /><path clip-path=\"url(#clip140)\" d=\"M 0 0 M173.852 1366.88 L197.964 1366.88 L197.964 1370.08 L173.852 1370.08 L173.852 1366.88 Z\" fill=\"#000000\" fill-rule=\"evenodd\" fill-opacity=\"1\" /><path clip-path=\"url(#clip140)\" d=\"M 0 0 M212.521 1355.79 L202.929 1370.78 L212.521 1370.78 L212.521 1355.79 M211.524 1352.48 L216.302 1352.48 L216.302 1370.78 L220.308 1370.78 L220.308 1373.94 L216.302 1373.94 L216.302 1380.56 L212.521 1380.56 L212.521 1373.94 L199.845 1373.94 L199.845 1370.27 L211.524 1352.48 Z\" fill=\"#000000\" fill-rule=\"evenodd\" fill-opacity=\"1\" /><path clip-path=\"url(#clip140)\" d=\"M 0 0 M127.853 1079.52 L135.492 1079.52 L135.492 1053.15 L127.182 1054.82 L127.182 1050.56 L135.446 1048.89 L140.121 1048.89 L140.121 1079.52 L147.76 1079.52 L147.76 1083.45 L127.853 1083.45 L127.853 1079.52 Z\" fill=\"#000000\" fill-rule=\"evenodd\" fill-opacity=\"1\" /><path clip-path=\"url(#clip140)\" d=\"M 0 0 M162.83 1051.97 Q159.219 1051.97 157.39 1055.54 Q155.584 1059.08 155.584 1066.21 Q155.584 1073.31 157.39 1076.88 Q159.219 1080.42 162.83 1080.42 Q166.464 1080.42 168.269 1076.88 Q170.098 1073.31 170.098 1066.21 Q170.098 1059.08 168.269 1055.54 Q166.464 1051.97 162.83 1051.97 M162.83 1048.27 Q168.64 1048.27 171.695 1052.87 Q174.774 1057.46 174.774 1066.21 Q174.774 1074.93 171.695 1079.54 Q168.64 1084.12 162.83 1084.12 Q157.02 1084.12 153.941 1079.54 Q150.885 1074.93 150.885 1066.21 Q150.885 1057.46 153.941 1052.87 Q157.02 1048.27 162.83 1048.27 Z\" fill=\"#000000\" fill-rule=\"evenodd\" fill-opacity=\"1\" /><path clip-path=\"url(#clip140)\" d=\"M 0 0 M174.774 1042.37 L198.886 1042.37 L198.886 1045.57 L174.774 1045.57 L174.774 1042.37 Z\" fill=\"#000000\" fill-rule=\"evenodd\" fill-opacity=\"1\" /><path clip-path=\"url(#clip140)\" d=\"M 0 0 M214.515 1040.9 Q217.242 1041.49 218.765 1043.33 Q220.308 1045.17 220.308 1047.88 Q220.308 1052.04 217.449 1054.31 Q214.59 1056.59 209.324 1056.59 Q207.556 1056.59 205.675 1056.23 Q203.813 1055.89 201.82 1055.2 L201.82 1051.53 Q203.4 1052.45 205.28 1052.92 Q207.161 1053.39 209.211 1053.39 Q212.785 1053.39 214.647 1051.98 Q216.527 1050.57 216.527 1047.88 Q216.527 1045.4 214.778 1044.01 Q213.048 1042.59 209.945 1042.59 L206.672 1042.59 L206.672 1039.47 L210.095 1039.47 Q212.897 1039.47 214.383 1038.36 Q215.869 1037.23 215.869 1035.13 Q215.869 1032.97 214.327 1031.82 Q212.803 1030.65 209.945 1030.65 Q208.384 1030.65 206.597 1030.99 Q204.81 1031.33 202.666 1032.04 L202.666 1028.66 Q204.829 1028.06 206.71 1027.76 Q208.609 1027.45 210.283 1027.45 Q214.609 1027.45 217.129 1029.43 Q219.649 1031.39 219.649 1034.73 Q219.649 1037.07 218.314 1038.68 Q216.979 1040.28 214.515 1040.9 Z\" fill=\"#000000\" fill-rule=\"evenodd\" fill-opacity=\"1\" /><path clip-path=\"url(#clip140)\" d=\"M 0 0 M128.624 755.004 L136.263 755.004 L136.263 728.639 L127.953 730.305 L127.953 726.046 L136.217 724.38 L140.893 724.38 L140.893 755.004 L148.531 755.004 L148.531 758.94 L128.624 758.94 L128.624 755.004 Z\" fill=\"#000000\" fill-rule=\"evenodd\" fill-opacity=\"1\" /><path clip-path=\"url(#clip140)\" d=\"M 0 0 M163.601 727.458 Q159.99 727.458 158.161 731.023 Q156.355 734.565 156.355 741.694 Q156.355 748.801 158.161 752.366 Q159.99 755.907 163.601 755.907 Q167.235 755.907 169.041 752.366 Q170.869 748.801 170.869 741.694 Q170.869 734.565 169.041 731.023 Q167.235 727.458 163.601 727.458 M163.601 723.755 Q169.411 723.755 172.467 728.361 Q175.545 732.944 175.545 741.694 Q175.545 750.421 172.467 755.028 Q169.411 759.611 163.601 759.611 Q157.791 759.611 154.712 755.028 Q151.656 750.421 151.656 741.694 Q151.656 732.944 154.712 728.361 Q157.791 723.755 163.601 723.755 Z\" fill=\"#000000\" fill-rule=\"evenodd\" fill-opacity=\"1\" /><path clip-path=\"url(#clip140)\" d=\"M 0 0 M175.545 717.856 L199.657 717.856 L199.657 721.053 L175.545 721.053 L175.545 717.856 Z\" fill=\"#000000\" fill-rule=\"evenodd\" fill-opacity=\"1\" /><path clip-path=\"url(#clip140)\" d=\"M 0 0 M207.048 728.332 L220.308 728.332 L220.308 731.529 L202.478 731.529 L202.478 728.332 Q204.641 726.094 208.365 722.332 Q212.107 718.552 213.067 717.461 Q214.891 715.411 215.606 714 Q216.339 712.571 216.339 711.198 Q216.339 708.96 214.759 707.549 Q213.198 706.139 210.678 706.139 Q208.891 706.139 206.898 706.759 Q204.923 707.38 202.666 708.64 L202.666 704.803 Q204.961 703.882 206.954 703.412 Q208.948 702.941 210.603 702.941 Q214.966 702.941 217.562 705.123 Q220.157 707.305 220.157 710.953 Q220.157 712.684 219.499 714.245 Q218.859 715.787 217.148 717.894 Q216.678 718.439 214.158 721.053 Q211.637 723.649 207.048 728.332 Z\" fill=\"#000000\" fill-rule=\"evenodd\" fill-opacity=\"1\" /><path clip-path=\"url(#clip140)\" d=\"M 0 0 M128.323 430.491 L135.962 430.491 L135.962 404.126 L127.652 405.792 L127.652 401.533 L135.916 399.866 L140.592 399.866 L140.592 430.491 L148.231 430.491 L148.231 434.426 L128.323 434.426 L128.323 430.491 Z\" fill=\"#000000\" fill-rule=\"evenodd\" fill-opacity=\"1\" /><path clip-path=\"url(#clip140)\" d=\"M 0 0 M163.3 402.945 Q159.689 402.945 157.86 406.51 Q156.055 410.052 156.055 417.181 Q156.055 424.288 157.86 427.852 Q159.689 431.394 163.3 431.394 Q166.934 431.394 168.74 427.852 Q170.568 424.288 170.568 417.181 Q170.568 410.052 168.74 406.51 Q166.934 402.945 163.3 402.945 M163.3 399.241 Q169.11 399.241 172.166 403.848 Q175.244 408.431 175.244 417.181 Q175.244 425.908 172.166 430.514 Q169.11 435.098 163.3 435.098 Q157.49 435.098 154.411 430.514 Q151.356 425.908 151.356 417.181 Q151.356 408.431 154.411 403.848 Q157.49 399.241 163.3 399.241 Z\" fill=\"#000000\" fill-rule=\"evenodd\" fill-opacity=\"1\" /><path clip-path=\"url(#clip140)\" d=\"M 0 0 M175.244 393.343 L199.356 393.343 L199.356 396.54 L175.244 396.54 L175.244 393.343 Z\" fill=\"#000000\" fill-rule=\"evenodd\" fill-opacity=\"1\" /><path clip-path=\"url(#clip140)\" d=\"M 0 0 M204.133 403.819 L210.34 403.819 L210.34 382.397 L203.588 383.751 L203.588 380.29 L210.302 378.936 L214.101 378.936 L214.101 403.819 L220.308 403.819 L220.308 407.016 L204.133 407.016 L204.133 403.819 Z\" fill=\"#000000\" fill-rule=\"evenodd\" fill-opacity=\"1\" /><path clip-path=\"url(#clip140)\" d=\"M 0 0 M153.977 105.978 L161.616 105.978 L161.616 79.6125 L153.306 81.2792 L153.306 77.0199 L161.57 75.3533 L166.245 75.3533 L166.245 105.978 L173.884 105.978 L173.884 109.913 L153.977 109.913 L153.977 105.978 Z\" fill=\"#000000\" fill-rule=\"evenodd\" fill-opacity=\"1\" /><path clip-path=\"url(#clip140)\" d=\"M 0 0 M188.954 78.432 Q185.343 78.432 183.514 81.9968 Q181.708 85.5384 181.708 92.668 Q181.708 99.7744 183.514 103.339 Q185.343 106.881 188.954 106.881 Q192.588 106.881 194.393 103.339 Q196.222 99.7744 196.222 92.668 Q196.222 85.5384 194.393 81.9968 Q192.588 78.432 188.954 78.432 M188.954 74.7283 Q194.764 74.7283 197.819 79.3347 Q200.898 83.918 200.898 92.668 Q200.898 101.395 197.819 106.001 Q194.764 110.585 188.954 110.585 Q183.144 110.585 180.065 106.001 Q177.009 101.395 177.009 92.668 Q177.009 83.918 180.065 79.3347 Q183.144 74.7283 188.954 74.7283 Z\" fill=\"#000000\" fill-rule=\"evenodd\" fill-opacity=\"1\" /><path clip-path=\"url(#clip140)\" d=\"M 0 0 M210.603 56.9243 Q207.669 56.9243 206.183 59.8207 Q204.716 62.6983 204.716 68.4911 Q204.716 74.2651 206.183 77.1615 Q207.669 80.0391 210.603 80.0391 Q213.556 80.0391 215.023 77.1615 Q216.509 74.2651 216.509 68.4911 Q216.509 62.6983 215.023 59.8207 Q213.556 56.9243 210.603 56.9243 M210.603 53.9151 Q215.324 53.9151 217.806 57.6578 Q220.308 61.3817 220.308 68.4911 Q220.308 75.5816 217.806 79.3244 Q215.324 83.0483 210.603 83.0483 Q205.882 83.0483 203.381 79.3244 Q200.898 75.5816 200.898 68.4911 Q200.898 61.3817 203.381 57.6578 Q205.882 53.9151 210.603 53.9151 Z\" fill=\"#000000\" fill-rule=\"evenodd\" fill-opacity=\"1\" /><path clip-path=\"url(#clip140)\" d=\"M 0 0 M1108.81 1536.76 L1108.81 1539.62 L1081.88 1539.62 Q1082.27 1545.67 1085.51 1548.85 Q1088.79 1552 1094.62 1552 Q1097.99 1552 1101.14 1551.17 Q1104.32 1550.35 1107.44 1548.69 L1107.44 1554.23 Q1104.29 1555.57 1100.98 1556.27 Q1097.67 1556.97 1094.27 1556.97 Q1085.74 1556.97 1080.74 1552 Q1075.77 1547.04 1075.77 1538.57 Q1075.77 1529.82 1080.48 1524.69 Q1085.23 1519.54 1093.25 1519.54 Q1100.44 1519.54 1104.61 1524.18 Q1108.81 1528.8 1108.81 1536.76 M1102.95 1535.04 Q1102.89 1530.23 1100.25 1527.37 Q1097.64 1524.5 1093.31 1524.5 Q1088.41 1524.5 1085.45 1527.27 Q1082.52 1530.04 1082.08 1535.07 L1102.95 1535.04 Z\" fill=\"#000000\" fill-rule=\"evenodd\" fill-opacity=\"1\" /><path clip-path=\"url(#clip140)\" d=\"M 0 0 M1120.62 1550.7 L1120.62 1569.6 L1114.73 1569.6 L1114.73 1520.4 L1120.62 1520.4 L1120.62 1525.81 Q1122.47 1522.62 1125.27 1521.1 Q1128.1 1519.54 1132.01 1519.54 Q1138.51 1519.54 1142.55 1524.69 Q1146.62 1529.85 1146.62 1538.25 Q1146.62 1546.65 1142.55 1551.81 Q1138.51 1556.97 1132.01 1556.97 Q1128.1 1556.97 1125.27 1555.44 Q1122.47 1553.88 1120.62 1550.7 M1140.54 1538.25 Q1140.54 1531.79 1137.87 1528.13 Q1135.23 1524.44 1130.58 1524.44 Q1125.94 1524.44 1123.26 1528.13 Q1120.62 1531.79 1120.62 1538.25 Q1120.62 1544.71 1123.26 1548.4 Q1125.94 1552.07 1130.58 1552.07 Q1135.23 1552.07 1137.87 1548.4 Q1140.54 1544.71 1140.54 1538.25 Z\" fill=\"#000000\" fill-rule=\"evenodd\" fill-opacity=\"1\" /><path clip-path=\"url(#clip140)\" d=\"M 0 0 M1166.58 1524.5 Q1161.87 1524.5 1159.13 1528.19 Q1156.4 1531.85 1156.4 1538.25 Q1156.4 1544.65 1159.1 1548.34 Q1161.84 1552 1166.58 1552 Q1171.26 1552 1174 1548.31 Q1176.73 1544.62 1176.73 1538.25 Q1176.73 1531.92 1174 1528.23 Q1171.26 1524.5 1166.58 1524.5 M1166.58 1519.54 Q1174.22 1519.54 1178.58 1524.5 Q1182.94 1529.47 1182.94 1538.25 Q1182.94 1547 1178.58 1552 Q1174.22 1556.97 1166.58 1556.97 Q1158.91 1556.97 1154.55 1552 Q1150.22 1547 1150.22 1538.25 Q1150.22 1529.47 1154.55 1524.5 Q1158.91 1519.54 1166.58 1519.54 Z\" fill=\"#000000\" fill-rule=\"evenodd\" fill-opacity=\"1\" /><path clip-path=\"url(#clip140)\" d=\"M 0 0 M1214.74 1521.76 L1214.74 1527.24 Q1212.25 1525.87 1209.74 1525.2 Q1207.26 1524.5 1204.71 1524.5 Q1199.01 1524.5 1195.86 1528.13 Q1192.71 1531.73 1192.71 1538.25 Q1192.71 1544.78 1195.86 1548.4 Q1199.01 1552 1204.71 1552 Q1207.26 1552 1209.74 1551.33 Q1212.25 1550.63 1214.74 1549.26 L1214.74 1554.68 Q1212.29 1555.82 1209.64 1556.39 Q1207.03 1556.97 1204.07 1556.97 Q1196.02 1556.97 1191.28 1551.91 Q1186.54 1546.85 1186.54 1538.25 Q1186.54 1529.53 1191.31 1524.53 Q1196.12 1519.54 1204.46 1519.54 Q1207.16 1519.54 1209.74 1520.11 Q1212.32 1520.65 1214.74 1521.76 Z\" fill=\"#000000\" fill-rule=\"evenodd\" fill-opacity=\"1\" /><path clip-path=\"url(#clip140)\" d=\"M 0 0 M1250.51 1534.53 L1250.51 1556.04 L1244.66 1556.04 L1244.66 1534.72 Q1244.66 1529.66 1242.68 1527.14 Q1240.71 1524.63 1236.76 1524.63 Q1232.02 1524.63 1229.28 1527.65 Q1226.55 1530.68 1226.55 1535.9 L1226.55 1556.04 L1220.66 1556.04 L1220.66 1506.52 L1226.55 1506.52 L1226.55 1525.93 Q1228.65 1522.72 1231.48 1521.13 Q1234.34 1519.54 1238.07 1519.54 Q1244.21 1519.54 1247.36 1523.36 Q1250.51 1527.14 1250.51 1534.53 Z\" fill=\"#000000\" fill-rule=\"evenodd\" fill-opacity=\"1\" /><path clip-path=\"url(#clip140)\" d=\"M 0 0 M1279.38 1521.45 L1279.38 1526.98 Q1276.9 1525.71 1274.22 1525.07 Q1271.55 1524.44 1268.69 1524.44 Q1264.33 1524.44 1262.13 1525.77 Q1259.97 1527.11 1259.97 1529.79 Q1259.97 1531.82 1261.52 1533 Q1263.08 1534.15 1267.79 1535.2 L1269.8 1535.64 Q1276.04 1536.98 1278.65 1539.43 Q1281.29 1541.85 1281.29 1546.21 Q1281.29 1551.17 1277.34 1554.07 Q1273.43 1556.97 1266.55 1556.97 Q1263.69 1556.97 1260.57 1556.39 Q1257.48 1555.85 1254.04 1554.74 L1254.04 1548.69 Q1257.29 1550.38 1260.44 1551.24 Q1263.59 1552.07 1266.68 1552.07 Q1270.82 1552.07 1273.05 1550.66 Q1275.27 1549.23 1275.27 1546.65 Q1275.27 1544.27 1273.65 1542.99 Q1272.06 1541.72 1266.62 1540.54 L1264.58 1540.07 Q1259.14 1538.92 1256.72 1536.56 Q1254.3 1534.18 1254.3 1530.04 Q1254.3 1525.01 1257.86 1522.27 Q1261.43 1519.54 1267.99 1519.54 Q1271.23 1519.54 1274.1 1520.01 Q1276.96 1520.49 1279.38 1521.45 Z\" fill=\"#000000\" fill-rule=\"evenodd\" fill-opacity=\"1\" /><path clip-path=\"url(#clip140)\" d=\"M 0 0 M56.4621 905.383 Q56.4621 910.094 60.1542 912.831 Q63.8145 915.568 70.212 915.568 Q76.6095 915.568 80.3017 912.863 Q83.9619 910.126 83.9619 905.383 Q83.9619 900.704 80.2698 897.967 Q76.5777 895.23 70.212 895.23 Q63.8781 895.23 60.186 897.967 Q56.4621 900.704 56.4621 905.383 M51.4968 905.383 Q51.4968 897.744 56.4621 893.384 Q61.4273 889.023 70.212 889.023 Q78.9649 889.023 83.9619 893.384 Q88.9272 897.744 88.9272 905.383 Q88.9272 913.054 83.9619 917.414 Q78.9649 921.743 70.212 921.743 Q61.4273 921.743 56.4621 917.414 Q51.4968 913.054 51.4968 905.383 Z\" fill=\"#000000\" fill-rule=\"evenodd\" fill-opacity=\"1\" /><path clip-path=\"url(#clip140)\" d=\"M 0 0 M82.657 877.215 L101.563 877.215 L101.563 883.103 L52.3562 883.103 L52.3562 877.215 L57.7671 877.215 Q54.5842 875.369 53.0564 872.568 Q51.4968 869.735 51.4968 865.82 Q51.4968 859.327 56.6531 855.285 Q61.8093 851.211 70.212 851.211 Q78.6147 851.211 83.771 855.285 Q88.9272 859.327 88.9272 865.82 Q88.9272 869.735 87.3994 872.568 Q85.8398 875.369 82.657 877.215 M70.212 857.29 Q63.7508 857.29 60.0905 859.964 Q56.3984 862.606 56.3984 867.253 Q56.3984 871.9 60.0905 874.573 Q63.7508 877.215 70.212 877.215 Q76.6732 877.215 80.3653 874.573 Q84.0256 871.9 84.0256 867.253 Q84.0256 862.606 80.3653 859.964 Q76.6732 857.29 70.212 857.29 Z\" fill=\"#000000\" fill-rule=\"evenodd\" fill-opacity=\"1\" /><path clip-path=\"url(#clip140)\" d=\"M 0 0 M42.2347 839.275 L52.3562 839.275 L52.3562 827.212 L56.9077 827.212 L56.9077 839.275 L76.2594 839.275 Q80.6199 839.275 81.8613 838.098 Q83.1026 836.888 83.1026 833.228 L83.1026 827.212 L88.0042 827.212 L88.0042 833.228 Q88.0042 840.007 85.4897 842.586 Q82.9434 845.164 76.2594 845.164 L56.9077 845.164 L56.9077 849.46 L52.3562 849.46 L52.3562 845.164 L42.2347 845.164 L42.2347 839.275 Z\" fill=\"#000000\" fill-rule=\"evenodd\" fill-opacity=\"1\" /><path clip-path=\"url(#clip140)\" d=\"M 0 0 M52.3562 821.069 L52.3562 815.213 L88.0042 815.213 L88.0042 821.069 L52.3562 821.069 M38.479 821.069 L38.479 815.213 L45.895 815.213 L45.895 821.069 L38.479 821.069 Z\" fill=\"#000000\" fill-rule=\"evenodd\" fill-opacity=\"1\" /><path clip-path=\"url(#clip140)\" d=\"M 0 0 M59.1993 781.316 Q55.2526 779.119 53.3747 776.064 Q51.4968 773.008 51.4968 768.871 Q51.4968 763.301 55.4117 760.277 Q59.2948 757.253 66.4881 757.253 L88.0042 757.253 L88.0042 763.142 L66.679 763.142 Q61.5546 763.142 59.072 764.956 Q56.5894 766.77 56.5894 770.494 Q56.5894 775.045 59.6131 777.687 Q62.6368 780.329 67.8567 780.329 L88.0042 780.329 L88.0042 786.217 L66.679 786.217 Q61.5228 786.217 59.072 788.031 Q56.5894 789.846 56.5894 793.633 Q56.5894 798.121 59.6449 800.763 Q62.6686 803.405 67.8567 803.405 L88.0042 803.405 L88.0042 809.293 L52.3562 809.293 L52.3562 803.405 L57.8944 803.405 Q54.616 801.399 53.0564 798.598 Q51.4968 795.798 51.4968 791.946 Q51.4968 788.063 53.4702 785.358 Q55.4436 782.621 59.1993 781.316 Z\" fill=\"#000000\" fill-rule=\"evenodd\" fill-opacity=\"1\" /><path clip-path=\"url(#clip140)\" d=\"M 0 0 M52.3562 751.11 L52.3562 745.254 L88.0042 745.254 L88.0042 751.11 L52.3562 751.11 M38.479 751.11 L38.479 745.254 L45.895 745.254 L45.895 751.11 L38.479 751.11 Z\" fill=\"#000000\" fill-rule=\"evenodd\" fill-opacity=\"1\" /><path clip-path=\"url(#clip140)\" d=\"M 0 0 M53.4065 716.385 L58.9447 716.385 Q57.6716 718.868 57.035 721.542 Q56.3984 724.215 56.3984 727.08 Q56.3984 731.44 57.7352 733.636 Q59.072 735.801 61.7456 735.801 Q63.7826 735.801 64.9603 734.241 Q66.1061 732.682 67.1565 727.971 L67.6021 725.966 Q68.9389 719.727 71.3897 717.117 Q73.8086 714.476 78.1691 714.476 Q83.1344 714.476 86.0308 718.422 Q88.9272 722.337 88.9272 729.212 Q88.9272 732.077 88.3543 735.196 Q87.8132 738.283 86.6992 741.721 L80.6518 741.721 Q82.3387 738.474 83.198 735.323 Q84.0256 732.172 84.0256 729.085 Q84.0256 724.947 82.6251 722.719 Q81.1929 720.491 78.6147 720.491 Q76.2276 720.491 74.9545 722.115 Q73.6813 723.706 72.5037 729.149 L72.0262 731.186 Q70.8804 736.628 68.5251 739.047 Q66.138 741.466 62.0002 741.466 Q56.9713 741.466 54.2341 737.901 Q51.4968 734.337 51.4968 727.78 Q51.4968 724.533 51.9743 721.669 Q52.4517 718.804 53.4065 716.385 Z\" fill=\"#000000\" fill-rule=\"evenodd\" fill-opacity=\"1\" /><path clip-path=\"url(#clip140)\" d=\"M 0 0 M68.7161 677.841 L71.5806 677.841 L71.5806 704.768 Q77.6281 704.386 80.8109 701.14 Q83.9619 697.861 83.9619 692.037 Q83.9619 688.663 83.1344 685.512 Q82.3069 682.329 80.6518 679.21 L86.1899 679.21 Q87.5267 682.361 88.227 685.671 Q88.9272 688.981 88.9272 692.387 Q88.9272 700.917 83.9619 705.914 Q78.9967 710.879 70.5303 710.879 Q61.7774 710.879 56.6531 706.168 Q51.4968 701.426 51.4968 693.405 Q51.4968 686.212 56.1438 682.042 Q60.7589 677.841 68.7161 677.841 M66.9973 683.697 Q62.1912 683.761 59.3266 686.403 Q56.4621 689.013 56.4621 693.342 Q56.4621 698.243 59.2312 701.203 Q62.0002 704.131 67.0292 704.577 L66.9973 683.697 Z\" fill=\"#000000\" fill-rule=\"evenodd\" fill-opacity=\"1\" /><path clip-path=\"url(#clip140)\" d=\"M 0 0 M57.8307 651.041 Q57.2578 652.028 57.0032 653.206 Q56.7167 654.352 56.7167 655.752 Q56.7167 660.717 59.9632 663.391 Q63.1779 666.033 69.2253 666.033 L88.0042 666.033 L88.0042 671.921 L52.3562 671.921 L52.3562 666.033 L57.8944 666.033 Q54.6479 664.187 53.0883 661.227 Q51.4968 658.266 51.4968 654.033 Q51.4968 653.429 51.5923 652.696 Q51.656 651.964 51.8151 651.073 L57.8307 651.041 Z\" fill=\"#000000\" fill-rule=\"evenodd\" fill-opacity=\"1\" /><path clip-path=\"url(#clip140)\" d=\"M 0 0 M79.9197 650.055 L79.9197 643.339 L88.0042 643.339 L88.0042 650.055 L79.9197 650.055 Z\" fill=\"#000000\" fill-rule=\"evenodd\" fill-opacity=\"1\" /><path clip-path=\"url(#clip140)\" d=\"M 0 0 M68.7161 606.704 L71.5806 606.704 L71.5806 633.631 Q77.6281 633.249 80.8109 630.003 Q83.9619 626.724 83.9619 620.9 Q83.9619 617.526 83.1344 614.375 Q82.3069 611.192 80.6518 608.073 L86.1899 608.073 Q87.5267 611.224 88.227 614.534 Q88.9272 617.844 88.9272 621.25 Q88.9272 629.78 83.9619 634.777 Q78.9967 639.742 70.5303 639.742 Q61.7774 639.742 56.6531 635.032 Q51.4968 630.289 51.4968 622.268 Q51.4968 615.075 56.1438 610.906 Q60.7589 606.704 68.7161 606.704 M66.9973 612.561 Q62.1912 612.624 59.3266 615.266 Q56.4621 617.876 56.4621 622.205 Q56.4621 627.106 59.2312 630.066 Q62.0002 632.995 67.0292 633.44 L66.9973 612.561 Z\" fill=\"#000000\" fill-rule=\"evenodd\" fill-opacity=\"1\" /><path clip-path=\"url(#clip140)\" d=\"M 0 0 M42.2347 594.769 L52.3562 594.769 L52.3562 582.706 L56.9077 582.706 L56.9077 594.769 L76.2594 594.769 Q80.6199 594.769 81.8613 593.591 Q83.1026 592.381 83.1026 588.721 L83.1026 582.706 L88.0042 582.706 L88.0042 588.721 Q88.0042 595.501 85.4897 598.079 Q82.9434 600.657 76.2594 600.657 L56.9077 600.657 L56.9077 604.954 L52.3562 604.954 L52.3562 600.657 L42.2347 600.657 L42.2347 594.769 Z\" fill=\"#000000\" fill-rule=\"evenodd\" fill-opacity=\"1\" /><path clip-path=\"url(#clip140)\" d=\"M 0 0 M70.0847 560.362 Q70.0847 567.46 71.7079 570.197 Q73.3312 572.934 77.2461 572.934 Q80.3653 572.934 82.2114 570.897 Q84.0256 568.828 84.0256 565.295 Q84.0256 560.426 80.5881 557.497 Q77.1188 554.537 71.3897 554.537 L70.0847 554.537 L70.0847 560.362 M67.6657 548.681 L88.0042 548.681 L88.0042 554.537 L82.5933 554.537 Q85.8398 556.542 87.3994 559.534 Q88.9272 562.526 88.9272 566.855 Q88.9272 572.329 85.8716 575.576 Q82.7843 578.791 77.6281 578.791 Q71.6125 578.791 68.5569 574.78 Q65.5014 570.738 65.5014 562.749 L65.5014 554.537 L64.9285 554.537 Q60.8862 554.537 58.6901 557.211 Q56.4621 559.853 56.4621 564.659 Q56.4621 567.714 57.1941 570.611 Q57.9262 573.507 59.3903 576.181 L53.9795 576.181 Q52.7381 572.966 52.1334 569.942 Q51.4968 566.919 51.4968 564.054 Q51.4968 556.32 55.5072 552.5 Q59.5176 548.681 67.6657 548.681 Z\" fill=\"#000000\" fill-rule=\"evenodd\" fill-opacity=\"1\" /><circle clip-path=\"url(#clip142)\" cx=\"1178.53\" cy=\"248.442\" r=\"30\" fill=\"#982765\" fill-rule=\"evenodd\" fill-opacity=\"1\" stroke=\"#000000\" stroke-opacity=\"1\" stroke-width=\"3.2\"/>\n",
       "<circle clip-path=\"url(#clip142)\" cx=\"1618.31\" cy=\"410.699\" r=\"30\" fill=\"#982765\" fill-rule=\"evenodd\" fill-opacity=\"1\" stroke=\"#000000\" stroke-opacity=\"1\" stroke-width=\"3.2\"/>\n",
       "<circle clip-path=\"url(#clip142)\" cx=\"2059.88\" cy=\"897.469\" r=\"30\" fill=\"#982765\" fill-rule=\"evenodd\" fill-opacity=\"1\" stroke=\"#000000\" stroke-opacity=\"1\" stroke-width=\"3.2\"/>\n",
       "<circle clip-path=\"url(#clip142)\" cx=\"407.579\" cy=\"654.084\" r=\"5\" fill=\"#030211\" fill-rule=\"evenodd\" fill-opacity=\"1\" stroke=\"#000000\" stroke-opacity=\"1\" stroke-width=\"3.2\"/>\n",
       "<circle clip-path=\"url(#clip142)\" cx=\"1288.92\" cy=\"1303.11\" r=\"6\" fill=\"#050419\" fill-rule=\"evenodd\" fill-opacity=\"1\" stroke=\"#000000\" stroke-opacity=\"1\" stroke-width=\"3.2\"/>\n",
       "<circle clip-path=\"url(#clip142)\" cx=\"1839.09\" cy=\"491.827\" r=\"6\" fill=\"#040316\" fill-rule=\"evenodd\" fill-opacity=\"1\" stroke=\"#000000\" stroke-opacity=\"1\" stroke-width=\"3.2\"/>\n",
       "<circle clip-path=\"url(#clip142)\" cx=\"738.75\" cy=\"86.1857\" r=\"30\" fill=\"#982765\" fill-rule=\"evenodd\" fill-opacity=\"1\" stroke=\"#000000\" stroke-opacity=\"1\" stroke-width=\"3.2\"/>\n",
       "<circle clip-path=\"url(#clip142)\" cx=\"517.969\" cy=\"1221.98\" r=\"7\" fill=\"#07051d\" fill-rule=\"evenodd\" fill-opacity=\"1\" stroke=\"#000000\" stroke-opacity=\"1\" stroke-width=\"3.2\"/>\n",
       "<circle clip-path=\"url(#clip142)\" cx=\"957.751\" cy=\"654.084\" r=\"5\" fill=\"#02010d\" fill-rule=\"evenodd\" fill-opacity=\"1\" stroke=\"#000000\" stroke-opacity=\"1\" stroke-width=\"3.2\"/>\n",
       "<circle clip-path=\"url(#clip142)\" cx=\"1839.09\" cy=\"816.34\" r=\"5\" fill=\"#01010b\" fill-rule=\"evenodd\" fill-opacity=\"1\" stroke=\"#000000\" stroke-opacity=\"1\" stroke-width=\"3.2\"/>\n",
       "<circle clip-path=\"url(#clip142)\" cx=\"847.36\" cy=\"86.1857\" r=\"30\" fill=\"#982765\" fill-rule=\"evenodd\" fill-opacity=\"1\" stroke=\"#000000\" stroke-opacity=\"1\" stroke-width=\"3.2\"/>\n",
       "<circle clip-path=\"url(#clip142)\" cx=\"2059.88\" cy=\"248.442\" r=\"30\" fill=\"#982765\" fill-rule=\"evenodd\" fill-opacity=\"1\" stroke=\"#000000\" stroke-opacity=\"1\" stroke-width=\"3.2\"/>\n",
       "<circle clip-path=\"url(#clip142)\" cx=\"1509.7\" cy=\"572.955\" r=\"8\" fill=\"#0b0724\" fill-rule=\"evenodd\" fill-opacity=\"1\" stroke=\"#000000\" stroke-opacity=\"1\" stroke-width=\"3.2\"/>\n",
       "<circle clip-path=\"url(#clip142)\" cx=\"1178.53\" cy=\"86.1857\" r=\"30\" fill=\"#982765\" fill-rule=\"evenodd\" fill-opacity=\"1\" stroke=\"#000000\" stroke-opacity=\"1\" stroke-width=\"3.2\"/>\n",
       "<circle clip-path=\"url(#clip142)\" cx=\"297.188\" cy=\"1384.24\" r=\"25\" fill=\"#741a6d\" fill-rule=\"evenodd\" fill-opacity=\"1\" stroke=\"#000000\" stroke-opacity=\"1\" stroke-width=\"3.2\"/>\n",
       "<circle clip-path=\"url(#clip142)\" cx=\"2059.88\" cy=\"654.084\" r=\"7\" fill=\"#090621\" fill-rule=\"evenodd\" fill-opacity=\"1\" stroke=\"#000000\" stroke-opacity=\"1\" stroke-width=\"3.2\"/>\n",
       "<circle clip-path=\"url(#clip142)\" cx=\"1618.31\" cy=\"1303.11\" r=\"5\" fill=\"#02010d\" fill-rule=\"evenodd\" fill-opacity=\"1\" stroke=\"#000000\" stroke-opacity=\"1\" stroke-width=\"3.2\"/>\n",
       "<circle clip-path=\"url(#clip142)\" cx=\"1178.53\" cy=\"897.469\" r=\"3\" fill=\"#000004\" fill-rule=\"evenodd\" fill-opacity=\"1\" stroke=\"#000000\" stroke-opacity=\"1\" stroke-width=\"3.2\"/>\n",
       "<circle clip-path=\"url(#clip142)\" cx=\"407.579\" cy=\"1303.11\" r=\"10\" fill=\"#160b39\" fill-rule=\"evenodd\" fill-opacity=\"1\" stroke=\"#000000\" stroke-opacity=\"1\" stroke-width=\"3.2\"/>\n",
       "<circle clip-path=\"url(#clip142)\" cx=\"628.36\" cy=\"1140.85\" r=\"6\" fill=\"#040313\" fill-rule=\"evenodd\" fill-opacity=\"1\" stroke=\"#000000\" stroke-opacity=\"1\" stroke-width=\"3.2\"/>\n",
       "<circle clip-path=\"url(#clip142)\" cx=\"628.36\" cy=\"1303.11\" r=\"6\" fill=\"#040313\" fill-rule=\"evenodd\" fill-opacity=\"1\" stroke=\"#000000\" stroke-opacity=\"1\" stroke-width=\"3.2\"/>\n",
       "<circle clip-path=\"url(#clip142)\" cx=\"1509.7\" cy=\"1303.11\" r=\"5\" fill=\"#02020e\" fill-rule=\"evenodd\" fill-opacity=\"1\" stroke=\"#000000\" stroke-opacity=\"1\" stroke-width=\"3.2\"/>\n",
       "<circle clip-path=\"url(#clip142)\" cx=\"628.36\" cy=\"248.442\" r=\"30\" fill=\"#982765\" fill-rule=\"evenodd\" fill-opacity=\"1\" stroke=\"#000000\" stroke-opacity=\"1\" stroke-width=\"3.2\"/>\n",
       "<circle clip-path=\"url(#clip142)\" cx=\"1178.53\" cy=\"978.597\" r=\"30\" fill=\"#982765\" fill-rule=\"evenodd\" fill-opacity=\"1\" stroke=\"#000000\" stroke-opacity=\"1\" stroke-width=\"3.2\"/>\n",
       "<circle clip-path=\"url(#clip142)\" cx=\"1618.31\" cy=\"572.955\" r=\"30\" fill=\"#982765\" fill-rule=\"evenodd\" fill-opacity=\"1\" stroke=\"#000000\" stroke-opacity=\"1\" stroke-width=\"3.2\"/>\n",
       "<circle clip-path=\"url(#clip142)\" cx=\"738.75\" cy=\"897.469\" r=\"4\" fill=\"#010108\" fill-rule=\"evenodd\" fill-opacity=\"1\" stroke=\"#000000\" stroke-opacity=\"1\" stroke-width=\"3.2\"/>\n",
       "<circle clip-path=\"url(#clip142)\" cx=\"1068.14\" cy=\"897.469\" r=\"4\" fill=\"#010007\" fill-rule=\"evenodd\" fill-opacity=\"1\" stroke=\"#000000\" stroke-opacity=\"1\" stroke-width=\"3.2\"/>\n",
       "<circle clip-path=\"url(#clip142)\" cx=\"1288.92\" cy=\"491.827\" r=\"5\" fill=\"#02020e\" fill-rule=\"evenodd\" fill-opacity=\"1\" stroke=\"#000000\" stroke-opacity=\"1\" stroke-width=\"3.2\"/>\n",
       "<circle clip-path=\"url(#clip142)\" cx=\"1178.53\" cy=\"410.699\" r=\"30\" fill=\"#982765\" fill-rule=\"evenodd\" fill-opacity=\"1\" stroke=\"#000000\" stroke-opacity=\"1\" stroke-width=\"3.2\"/>\n",
       "<circle clip-path=\"url(#clip142)\" cx=\"1399.31\" cy=\"1140.85\" r=\"30\" fill=\"#982765\" fill-rule=\"evenodd\" fill-opacity=\"1\" stroke=\"#000000\" stroke-opacity=\"1\" stroke-width=\"3.2\"/>\n",
       "<circle clip-path=\"url(#clip142)\" cx=\"1178.53\" cy=\"654.084\" r=\"7\" fill=\"#090620\" fill-rule=\"evenodd\" fill-opacity=\"1\" stroke=\"#000000\" stroke-opacity=\"1\" stroke-width=\"3.2\"/>\n",
       "<circle clip-path=\"url(#clip142)\" cx=\"628.36\" cy=\"572.955\" r=\"6\" fill=\"#040314\" fill-rule=\"evenodd\" fill-opacity=\"1\" stroke=\"#000000\" stroke-opacity=\"1\" stroke-width=\"3.2\"/>\n",
       "<circle clip-path=\"url(#clip142)\" cx=\"2059.88\" cy=\"410.699\" r=\"6\" fill=\"#050418\" fill-rule=\"evenodd\" fill-opacity=\"1\" stroke=\"#000000\" stroke-opacity=\"1\" stroke-width=\"3.2\"/>\n",
       "<circle clip-path=\"url(#clip142)\" cx=\"407.579\" cy=\"248.442\" r=\"30\" fill=\"#982765\" fill-rule=\"evenodd\" fill-opacity=\"1\" stroke=\"#000000\" stroke-opacity=\"1\" stroke-width=\"3.2\"/>\n",
       "<circle clip-path=\"url(#clip142)\" cx=\"1288.92\" cy=\"167.314\" r=\"30\" fill=\"#982765\" fill-rule=\"evenodd\" fill-opacity=\"1\" stroke=\"#000000\" stroke-opacity=\"1\" stroke-width=\"3.2\"/>\n",
       "<circle clip-path=\"url(#clip142)\" cx=\"628.36\" cy=\"897.469\" r=\"4\" fill=\"#010109\" fill-rule=\"evenodd\" fill-opacity=\"1\" stroke=\"#000000\" stroke-opacity=\"1\" stroke-width=\"3.2\"/>\n",
       "<circle clip-path=\"url(#clip142)\" cx=\"738.75\" cy=\"167.314\" r=\"23\" fill=\"#6a176e\" fill-rule=\"evenodd\" fill-opacity=\"1\" stroke=\"#000000\" stroke-opacity=\"1\" stroke-width=\"3.2\"/>\n",
       "<circle clip-path=\"url(#clip142)\" cx=\"1288.92\" cy=\"978.597\" r=\"24\" fill=\"#6c176e\" fill-rule=\"evenodd\" fill-opacity=\"1\" stroke=\"#000000\" stroke-opacity=\"1\" stroke-width=\"3.2\"/>\n",
       "<circle clip-path=\"url(#clip142)\" cx=\"2059.88\" cy=\"1221.98\" r=\"23\" fill=\"#69166e\" fill-rule=\"evenodd\" fill-opacity=\"1\" stroke=\"#000000\" stroke-opacity=\"1\" stroke-width=\"3.2\"/>\n",
       "<circle clip-path=\"url(#clip142)\" cx=\"1068.14\" cy=\"410.699\" r=\"30\" fill=\"#982765\" fill-rule=\"evenodd\" fill-opacity=\"1\" stroke=\"#000000\" stroke-opacity=\"1\" stroke-width=\"3.2\"/>\n",
       "<circle clip-path=\"url(#clip142)\" cx=\"1288.92\" cy=\"1140.85\" r=\"30\" fill=\"#982765\" fill-rule=\"evenodd\" fill-opacity=\"1\" stroke=\"#000000\" stroke-opacity=\"1\" stroke-width=\"3.2\"/>\n",
       "<circle clip-path=\"url(#clip142)\" cx=\"517.969\" cy=\"816.34\" r=\"5\" fill=\"#02010c\" fill-rule=\"evenodd\" fill-opacity=\"1\" stroke=\"#000000\" stroke-opacity=\"1\" stroke-width=\"3.2\"/>\n",
       "<circle clip-path=\"url(#clip142)\" cx=\"1728.7\" cy=\"1059.73\" r=\"6\" fill=\"#040315\" fill-rule=\"evenodd\" fill-opacity=\"1\" stroke=\"#000000\" stroke-opacity=\"1\" stroke-width=\"3.2\"/>\n",
       "<circle clip-path=\"url(#clip142)\" cx=\"957.751\" cy=\"897.469\" r=\"4\" fill=\"#01010b\" fill-rule=\"evenodd\" fill-opacity=\"1\" stroke=\"#000000\" stroke-opacity=\"1\" stroke-width=\"3.2\"/>\n",
       "<circle clip-path=\"url(#clip142)\" cx=\"297.188\" cy=\"167.314\" r=\"30\" fill=\"#982765\" fill-rule=\"evenodd\" fill-opacity=\"1\" stroke=\"#000000\" stroke-opacity=\"1\" stroke-width=\"3.2\"/>\n",
       "<circle clip-path=\"url(#clip142)\" cx=\"738.75\" cy=\"1384.24\" r=\"30\" fill=\"#982765\" fill-rule=\"evenodd\" fill-opacity=\"1\" stroke=\"#000000\" stroke-opacity=\"1\" stroke-width=\"3.2\"/>\n",
       "<circle clip-path=\"url(#clip142)\" cx=\"1399.31\" cy=\"1384.24\" r=\"30\" fill=\"#982765\" fill-rule=\"evenodd\" fill-opacity=\"1\" stroke=\"#000000\" stroke-opacity=\"1\" stroke-width=\"3.2\"/>\n",
       "<circle clip-path=\"url(#clip142)\" cx=\"628.36\" cy=\"654.084\" r=\"5\" fill=\"#030212\" fill-rule=\"evenodd\" fill-opacity=\"1\" stroke=\"#000000\" stroke-opacity=\"1\" stroke-width=\"3.2\"/>\n",
       "<circle clip-path=\"url(#clip142)\" cx=\"517.969\" cy=\"572.955\" r=\"6\" fill=\"#050317\" fill-rule=\"evenodd\" fill-opacity=\"1\" stroke=\"#000000\" stroke-opacity=\"1\" stroke-width=\"3.2\"/>\n",
       "<circle clip-path=\"url(#clip142)\" cx=\"1399.31\" cy=\"167.314\" r=\"17\" fill=\"#420968\" fill-rule=\"evenodd\" fill-opacity=\"1\" stroke=\"#000000\" stroke-opacity=\"1\" stroke-width=\"3.2\"/>\n",
       "<circle clip-path=\"url(#clip142)\" cx=\"847.36\" cy=\"654.084\" r=\"6\" fill=\"#040313\" fill-rule=\"evenodd\" fill-opacity=\"1\" stroke=\"#000000\" stroke-opacity=\"1\" stroke-width=\"3.2\"/>\n",
       "<circle clip-path=\"url(#clip142)\" cx=\"847.36\" cy=\"1303.11\" r=\"6\" fill=\"#040313\" fill-rule=\"evenodd\" fill-opacity=\"1\" stroke=\"#000000\" stroke-opacity=\"1\" stroke-width=\"3.2\"/>\n",
       "<circle clip-path=\"url(#clip142)\" cx=\"1068.14\" cy=\"1303.11\" r=\"6\" fill=\"#040314\" fill-rule=\"evenodd\" fill-opacity=\"1\" stroke=\"#000000\" stroke-opacity=\"1\" stroke-width=\"3.2\"/>\n",
       "<circle clip-path=\"url(#clip142)\" cx=\"1288.92\" cy=\"410.699\" r=\"8\" fill=\"#0a0622\" fill-rule=\"evenodd\" fill-opacity=\"1\" stroke=\"#000000\" stroke-opacity=\"1\" stroke-width=\"3.2\"/>\n",
       "<circle clip-path=\"url(#clip142)\" cx=\"1068.14\" cy=\"1221.98\" r=\"5\" fill=\"#02010d\" fill-rule=\"evenodd\" fill-opacity=\"1\" stroke=\"#000000\" stroke-opacity=\"1\" stroke-width=\"3.2\"/>\n",
       "<circle clip-path=\"url(#clip142)\" cx=\"1068.14\" cy=\"654.084\" r=\"5\" fill=\"#02010d\" fill-rule=\"evenodd\" fill-opacity=\"1\" stroke=\"#000000\" stroke-opacity=\"1\" stroke-width=\"3.2\"/>\n",
       "<circle clip-path=\"url(#clip142)\" cx=\"1728.7\" cy=\"1140.85\" r=\"4\" fill=\"#01010b\" fill-rule=\"evenodd\" fill-opacity=\"1\" stroke=\"#000000\" stroke-opacity=\"1\" stroke-width=\"3.2\"/>\n",
       "<circle clip-path=\"url(#clip142)\" cx=\"1178.53\" cy=\"1384.24\" r=\"7\" fill=\"#06051b\" fill-rule=\"evenodd\" fill-opacity=\"1\" stroke=\"#000000\" stroke-opacity=\"1\" stroke-width=\"3.2\"/>\n",
       "<circle clip-path=\"url(#clip142)\" cx=\"1728.7\" cy=\"978.597\" r=\"4\" fill=\"#010007\" fill-rule=\"evenodd\" fill-opacity=\"1\" stroke=\"#000000\" stroke-opacity=\"1\" stroke-width=\"3.2\"/>\n",
       "<circle clip-path=\"url(#clip142)\" cx=\"1399.31\" cy=\"1221.98\" r=\"4\" fill=\"#01010b\" fill-rule=\"evenodd\" fill-opacity=\"1\" stroke=\"#000000\" stroke-opacity=\"1\" stroke-width=\"3.2\"/>\n",
       "<circle clip-path=\"url(#clip142)\" cx=\"407.579\" cy=\"978.597\" r=\"5\" fill=\"#030211\" fill-rule=\"evenodd\" fill-opacity=\"1\" stroke=\"#000000\" stroke-opacity=\"1\" stroke-width=\"3.2\"/>\n",
       "<circle clip-path=\"url(#clip142)\" cx=\"1618.31\" cy=\"248.442\" r=\"16\" fill=\"#3c0965\" fill-rule=\"evenodd\" fill-opacity=\"1\" stroke=\"#000000\" stroke-opacity=\"1\" stroke-width=\"3.2\"/>\n",
       "<circle clip-path=\"url(#clip142)\" cx=\"297.188\" cy=\"654.084\" r=\"7\" fill=\"#0a0622\" fill-rule=\"evenodd\" fill-opacity=\"1\" stroke=\"#000000\" stroke-opacity=\"1\" stroke-width=\"3.2\"/>\n",
       "<circle clip-path=\"url(#clip142)\" cx=\"1068.14\" cy=\"572.955\" r=\"5\" fill=\"#02020e\" fill-rule=\"evenodd\" fill-opacity=\"1\" stroke=\"#000000\" stroke-opacity=\"1\" stroke-width=\"3.2\"/>\n",
       "<circle clip-path=\"url(#clip142)\" cx=\"1399.31\" cy=\"86.1857\" r=\"18\" fill=\"#490b6a\" fill-rule=\"evenodd\" fill-opacity=\"1\" stroke=\"#000000\" stroke-opacity=\"1\" stroke-width=\"3.2\"/>\n",
       "<circle clip-path=\"url(#clip142)\" cx=\"847.36\" cy=\"410.699\" r=\"30\" fill=\"#982765\" fill-rule=\"evenodd\" fill-opacity=\"1\" stroke=\"#000000\" stroke-opacity=\"1\" stroke-width=\"3.2\"/>\n",
       "<circle clip-path=\"url(#clip142)\" cx=\"628.36\" cy=\"816.34\" r=\"4\" fill=\"#010007\" fill-rule=\"evenodd\" fill-opacity=\"1\" stroke=\"#000000\" stroke-opacity=\"1\" stroke-width=\"3.2\"/>\n",
       "<circle clip-path=\"url(#clip142)\" cx=\"1618.31\" cy=\"1059.73\" r=\"4\" fill=\"#000006\" fill-rule=\"evenodd\" fill-opacity=\"1\" stroke=\"#000000\" stroke-opacity=\"1\" stroke-width=\"3.2\"/>\n",
       "<circle clip-path=\"url(#clip142)\" cx=\"1839.09\" cy=\"897.469\" r=\"4\" fill=\"#010007\" fill-rule=\"evenodd\" fill-opacity=\"1\" stroke=\"#000000\" stroke-opacity=\"1\" stroke-width=\"3.2\"/>\n",
       "<circle clip-path=\"url(#clip142)\" cx=\"957.751\" cy=\"735.212\" r=\"5\" fill=\"#030212\" fill-rule=\"evenodd\" fill-opacity=\"1\" stroke=\"#000000\" stroke-opacity=\"1\" stroke-width=\"3.2\"/>\n",
       "<circle clip-path=\"url(#clip142)\" cx=\"1949.48\" cy=\"1221.98\" r=\"5\" fill=\"#02020e\" fill-rule=\"evenodd\" fill-opacity=\"1\" stroke=\"#000000\" stroke-opacity=\"1\" stroke-width=\"3.2\"/>\n",
       "<circle clip-path=\"url(#clip142)\" cx=\"847.36\" cy=\"329.571\" r=\"30\" fill=\"#982765\" fill-rule=\"evenodd\" fill-opacity=\"1\" stroke=\"#000000\" stroke-opacity=\"1\" stroke-width=\"3.2\"/>\n",
       "<circle clip-path=\"url(#clip142)\" cx=\"1728.7\" cy=\"248.442\" r=\"30\" fill=\"#982765\" fill-rule=\"evenodd\" fill-opacity=\"1\" stroke=\"#000000\" stroke-opacity=\"1\" stroke-width=\"3.2\"/>\n",
       "<circle clip-path=\"url(#clip142)\" cx=\"628.36\" cy=\"167.314\" r=\"30\" fill=\"#982765\" fill-rule=\"evenodd\" fill-opacity=\"1\" stroke=\"#000000\" stroke-opacity=\"1\" stroke-width=\"3.2\"/>\n",
       "<circle clip-path=\"url(#clip142)\" cx=\"1728.7\" cy=\"1303.11\" r=\"30\" fill=\"#982765\" fill-rule=\"evenodd\" fill-opacity=\"1\" stroke=\"#000000\" stroke-opacity=\"1\" stroke-width=\"3.2\"/>\n",
       "<circle clip-path=\"url(#clip142)\" cx=\"2059.88\" cy=\"1140.85\" r=\"30\" fill=\"#982765\" fill-rule=\"evenodd\" fill-opacity=\"1\" stroke=\"#000000\" stroke-opacity=\"1\" stroke-width=\"3.2\"/>\n",
       "<circle clip-path=\"url(#clip142)\" cx=\"1839.09\" cy=\"654.084\" r=\"5\" fill=\"#020210\" fill-rule=\"evenodd\" fill-opacity=\"1\" stroke=\"#000000\" stroke-opacity=\"1\" stroke-width=\"3.2\"/>\n",
       "<circle clip-path=\"url(#clip142)\" cx=\"1399.31\" cy=\"410.699\" r=\"30\" fill=\"#982765\" fill-rule=\"evenodd\" fill-opacity=\"1\" stroke=\"#000000\" stroke-opacity=\"1\" stroke-width=\"3.2\"/>\n",
       "<circle clip-path=\"url(#clip142)\" cx=\"847.36\" cy=\"816.34\" r=\"4\" fill=\"#000006\" fill-rule=\"evenodd\" fill-opacity=\"1\" stroke=\"#000000\" stroke-opacity=\"1\" stroke-width=\"3.2\"/>\n",
       "<circle clip-path=\"url(#clip142)\" cx=\"738.75\" cy=\"1059.73\" r=\"5\" fill=\"#01010b\" fill-rule=\"evenodd\" fill-opacity=\"1\" stroke=\"#000000\" stroke-opacity=\"1\" stroke-width=\"3.2\"/>\n",
       "<circle clip-path=\"url(#clip142)\" cx=\"957.751\" cy=\"410.699\" r=\"8\" fill=\"#0c0827\" fill-rule=\"evenodd\" fill-opacity=\"1\" stroke=\"#000000\" stroke-opacity=\"1\" stroke-width=\"3.2\"/>\n",
       "<circle clip-path=\"url(#clip142)\" cx=\"847.36\" cy=\"897.469\" r=\"4\" fill=\"#010007\" fill-rule=\"evenodd\" fill-opacity=\"1\" stroke=\"#000000\" stroke-opacity=\"1\" stroke-width=\"3.2\"/>\n",
       "<circle clip-path=\"url(#clip142)\" cx=\"1399.31\" cy=\"1303.11\" r=\"4\" fill=\"#000006\" fill-rule=\"evenodd\" fill-opacity=\"1\" stroke=\"#000000\" stroke-opacity=\"1\" stroke-width=\"3.2\"/>\n",
       "<circle clip-path=\"url(#clip142)\" cx=\"957.751\" cy=\"1221.98\" r=\"5\" fill=\"#02020f\" fill-rule=\"evenodd\" fill-opacity=\"1\" stroke=\"#000000\" stroke-opacity=\"1\" stroke-width=\"3.2\"/>\n",
       "<circle clip-path=\"url(#clip142)\" cx=\"2059.88\" cy=\"86.1857\" r=\"61\" fill=\"#fcfea4\" fill-rule=\"evenodd\" fill-opacity=\"1\" stroke=\"#000000\" stroke-opacity=\"1\" stroke-width=\"3.2\"/>\n",
       "<circle clip-path=\"url(#clip142)\" cx=\"1178.53\" cy=\"572.955\" r=\"8\" fill=\"#0d0829\" fill-rule=\"evenodd\" fill-opacity=\"1\" stroke=\"#000000\" stroke-opacity=\"1\" stroke-width=\"3.2\"/>\n",
       "<circle clip-path=\"url(#clip142)\" cx=\"1399.31\" cy=\"329.571\" r=\"9\" fill=\"#10092e\" fill-rule=\"evenodd\" fill-opacity=\"1\" stroke=\"#000000\" stroke-opacity=\"1\" stroke-width=\"3.2\"/>\n",
       "<circle clip-path=\"url(#clip142)\" cx=\"1949.48\" cy=\"410.699\" r=\"8\" fill=\"#0d0828\" fill-rule=\"evenodd\" fill-opacity=\"1\" stroke=\"#000000\" stroke-opacity=\"1\" stroke-width=\"3.2\"/>\n",
       "<circle clip-path=\"url(#clip142)\" cx=\"847.36\" cy=\"572.955\" r=\"7\" fill=\"#07051c\" fill-rule=\"evenodd\" fill-opacity=\"1\" stroke=\"#000000\" stroke-opacity=\"1\" stroke-width=\"3.2\"/>\n",
       "<circle clip-path=\"url(#clip142)\" cx=\"1728.7\" cy=\"572.955\" r=\"7\" fill=\"#07051e\" fill-rule=\"evenodd\" fill-opacity=\"1\" stroke=\"#000000\" stroke-opacity=\"1\" stroke-width=\"3.2\"/>\n",
       "<circle clip-path=\"url(#clip142)\" cx=\"517.969\" cy=\"897.469\" r=\"5\" fill=\"#02010c\" fill-rule=\"evenodd\" fill-opacity=\"1\" stroke=\"#000000\" stroke-opacity=\"1\" stroke-width=\"3.2\"/>\n",
       "<circle clip-path=\"url(#clip142)\" cx=\"407.579\" cy=\"816.34\" r=\"4\" fill=\"#010109\" fill-rule=\"evenodd\" fill-opacity=\"1\" stroke=\"#000000\" stroke-opacity=\"1\" stroke-width=\"3.2\"/>\n",
       "<circle clip-path=\"url(#clip142)\" cx=\"1839.09\" cy=\"248.442\" r=\"12\" fill=\"#200c49\" fill-rule=\"evenodd\" fill-opacity=\"1\" stroke=\"#000000\" stroke-opacity=\"1\" stroke-width=\"3.2\"/>\n",
       "<circle clip-path=\"url(#clip142)\" cx=\"1839.09\" cy=\"410.699\" r=\"12\" fill=\"#200c49\" fill-rule=\"evenodd\" fill-opacity=\"1\" stroke=\"#000000\" stroke-opacity=\"1\" stroke-width=\"3.2\"/>\n",
       "<circle clip-path=\"url(#clip142)\" cx=\"847.36\" cy=\"491.827\" r=\"7\" fill=\"#090621\" fill-rule=\"evenodd\" fill-opacity=\"1\" stroke=\"#000000\" stroke-opacity=\"1\" stroke-width=\"3.2\"/>\n",
       "<circle clip-path=\"url(#clip142)\" cx=\"1949.48\" cy=\"248.442\" r=\"12\" fill=\"#230b4d\" fill-rule=\"evenodd\" fill-opacity=\"1\" stroke=\"#000000\" stroke-opacity=\"1\" stroke-width=\"3.2\"/>\n",
       "<circle clip-path=\"url(#clip142)\" cx=\"297.188\" cy=\"1059.73\" r=\"11\" fill=\"#1b0c41\" fill-rule=\"evenodd\" fill-opacity=\"1\" stroke=\"#000000\" stroke-opacity=\"1\" stroke-width=\"3.2\"/>\n",
       "<circle clip-path=\"url(#clip142)\" cx=\"1618.31\" cy=\"735.212\" r=\"6\" fill=\"#030313\" fill-rule=\"evenodd\" fill-opacity=\"1\" stroke=\"#000000\" stroke-opacity=\"1\" stroke-width=\"3.2\"/>\n",
       "<circle clip-path=\"url(#clip142)\" cx=\"1178.53\" cy=\"1221.98\" r=\"5\" fill=\"#01010b\" fill-rule=\"evenodd\" fill-opacity=\"1\" stroke=\"#000000\" stroke-opacity=\"1\" stroke-width=\"3.2\"/>\n",
       "<circle clip-path=\"url(#clip142)\" cx=\"738.75\" cy=\"1303.11\" r=\"7\" fill=\"#06051b\" fill-rule=\"evenodd\" fill-opacity=\"1\" stroke=\"#000000\" stroke-opacity=\"1\" stroke-width=\"3.2\"/>\n",
       "<circle clip-path=\"url(#clip142)\" cx=\"517.969\" cy=\"1140.85\" r=\"6\" fill=\"#040316\" fill-rule=\"evenodd\" fill-opacity=\"1\" stroke=\"#000000\" stroke-opacity=\"1\" stroke-width=\"3.2\"/>\n",
       "<circle clip-path=\"url(#clip142)\" cx=\"738.75\" cy=\"978.597\" r=\"5\" fill=\"#02020e\" fill-rule=\"evenodd\" fill-opacity=\"1\" stroke=\"#000000\" stroke-opacity=\"1\" stroke-width=\"3.2\"/>\n",
       "<circle clip-path=\"url(#clip142)\" cx=\"407.579\" cy=\"1059.73\" r=\"6\" fill=\"#050418\" fill-rule=\"evenodd\" fill-opacity=\"1\" stroke=\"#000000\" stroke-opacity=\"1\" stroke-width=\"3.2\"/>\n",
       "<circle clip-path=\"url(#clip142)\" cx=\"297.188\" cy=\"410.699\" r=\"30\" fill=\"#982765\" fill-rule=\"evenodd\" fill-opacity=\"1\" stroke=\"#000000\" stroke-opacity=\"1\" stroke-width=\"3.2\"/>\n",
       "<circle clip-path=\"url(#clip142)\" cx=\"1618.31\" cy=\"1384.24\" r=\"30\" fill=\"#982765\" fill-rule=\"evenodd\" fill-opacity=\"1\" stroke=\"#000000\" stroke-opacity=\"1\" stroke-width=\"3.2\"/>\n",
       "<circle clip-path=\"url(#clip142)\" cx=\"1509.7\" cy=\"410.699\" r=\"30\" fill=\"#982765\" fill-rule=\"evenodd\" fill-opacity=\"1\" stroke=\"#000000\" stroke-opacity=\"1\" stroke-width=\"3.2\"/>\n",
       "<circle clip-path=\"url(#clip142)\" cx=\"2059.88\" cy=\"816.34\" r=\"30\" fill=\"#982765\" fill-rule=\"evenodd\" fill-opacity=\"1\" stroke=\"#000000\" stroke-opacity=\"1\" stroke-width=\"3.2\"/>\n",
       "<circle clip-path=\"url(#clip142)\" cx=\"1949.48\" cy=\"491.827\" r=\"9\" fill=\"#10092e\" fill-rule=\"evenodd\" fill-opacity=\"1\" stroke=\"#000000\" stroke-opacity=\"1\" stroke-width=\"3.2\"/>\n",
       "<circle clip-path=\"url(#clip142)\" cx=\"1399.31\" cy=\"897.469\" r=\"4\" fill=\"#000006\" fill-rule=\"evenodd\" fill-opacity=\"1\" stroke=\"#000000\" stroke-opacity=\"1\" stroke-width=\"3.2\"/>\n",
       "<circle clip-path=\"url(#clip142)\" cx=\"1509.7\" cy=\"248.442\" r=\"16\" fill=\"#3e0965\" fill-rule=\"evenodd\" fill-opacity=\"1\" stroke=\"#000000\" stroke-opacity=\"1\" stroke-width=\"3.2\"/>\n",
       "<circle clip-path=\"url(#clip142)\" cx=\"957.751\" cy=\"978.597\" r=\"3\" fill=\"#000004\" fill-rule=\"evenodd\" fill-opacity=\"1\" stroke=\"#000000\" stroke-opacity=\"1\" stroke-width=\"3.2\"/>\n",
       "<circle clip-path=\"url(#clip142)\" cx=\"847.36\" cy=\"248.442\" r=\"30\" fill=\"#982765\" fill-rule=\"evenodd\" fill-opacity=\"1\" stroke=\"#000000\" stroke-opacity=\"1\" stroke-width=\"3.2\"/>\n",
       "<circle clip-path=\"url(#clip142)\" cx=\"2059.88\" cy=\"1384.24\" r=\"30\" fill=\"#982765\" fill-rule=\"evenodd\" fill-opacity=\"1\" stroke=\"#000000\" stroke-opacity=\"1\" stroke-width=\"3.2\"/>\n",
       "<circle clip-path=\"url(#clip142)\" cx=\"1618.31\" cy=\"897.469\" r=\"5\" fill=\"#02010c\" fill-rule=\"evenodd\" fill-opacity=\"1\" stroke=\"#000000\" stroke-opacity=\"1\" stroke-width=\"3.2\"/>\n",
       "<circle clip-path=\"url(#clip142)\" cx=\"1949.48\" cy=\"1140.85\" r=\"5\" fill=\"#02020f\" fill-rule=\"evenodd\" fill-opacity=\"1\" stroke=\"#000000\" stroke-opacity=\"1\" stroke-width=\"3.2\"/>\n",
       "<circle clip-path=\"url(#clip142)\" cx=\"1288.92\" cy=\"654.084\" r=\"5\" fill=\"#030212\" fill-rule=\"evenodd\" fill-opacity=\"1\" stroke=\"#000000\" stroke-opacity=\"1\" stroke-width=\"3.2\"/>\n",
       "<circle clip-path=\"url(#clip142)\" cx=\"407.579\" cy=\"1140.85\" r=\"7\" fill=\"#07051d\" fill-rule=\"evenodd\" fill-opacity=\"1\" stroke=\"#000000\" stroke-opacity=\"1\" stroke-width=\"3.2\"/>\n",
       "<circle clip-path=\"url(#clip142)\" cx=\"1728.7\" cy=\"1384.24\" r=\"5\" fill=\"#02010e\" fill-rule=\"evenodd\" fill-opacity=\"1\" stroke=\"#000000\" stroke-opacity=\"1\" stroke-width=\"3.2\"/>\n",
       "<circle clip-path=\"url(#clip142)\" cx=\"1399.31\" cy=\"491.827\" r=\"8\" fill=\"#0d0829\" fill-rule=\"evenodd\" fill-opacity=\"1\" stroke=\"#000000\" stroke-opacity=\"1\" stroke-width=\"3.2\"/>\n",
       "<circle clip-path=\"url(#clip142)\" cx=\"957.751\" cy=\"329.571\" r=\"30\" fill=\"#982765\" fill-rule=\"evenodd\" fill-opacity=\"1\" stroke=\"#000000\" stroke-opacity=\"1\" stroke-width=\"3.2\"/>\n",
       "<circle clip-path=\"url(#clip142)\" cx=\"1509.7\" cy=\"1059.73\" r=\"30\" fill=\"#982765\" fill-rule=\"evenodd\" fill-opacity=\"1\" stroke=\"#000000\" stroke-opacity=\"1\" stroke-width=\"3.2\"/>\n",
       "<circle clip-path=\"url(#clip142)\" cx=\"738.75\" cy=\"572.955\" r=\"6\" fill=\"#040314\" fill-rule=\"evenodd\" fill-opacity=\"1\" stroke=\"#000000\" stroke-opacity=\"1\" stroke-width=\"3.2\"/>\n",
       "<circle clip-path=\"url(#clip142)\" cx=\"1509.7\" cy=\"491.827\" r=\"13\" fill=\"#2a0b55\" fill-rule=\"evenodd\" fill-opacity=\"1\" stroke=\"#000000\" stroke-opacity=\"1\" stroke-width=\"3.2\"/>\n",
       "<circle clip-path=\"url(#clip142)\" cx=\"1618.31\" cy=\"491.827\" r=\"8\" fill=\"#0a0724\" fill-rule=\"evenodd\" fill-opacity=\"1\" stroke=\"#000000\" stroke-opacity=\"1\" stroke-width=\"3.2\"/>\n",
       "<circle clip-path=\"url(#clip142)\" cx=\"847.36\" cy=\"1384.24\" r=\"7\" fill=\"#090621\" fill-rule=\"evenodd\" fill-opacity=\"1\" stroke=\"#000000\" stroke-opacity=\"1\" stroke-width=\"3.2\"/>\n",
       "<circle clip-path=\"url(#clip142)\" cx=\"1288.92\" cy=\"572.955\" r=\"6\" fill=\"#06041a\" fill-rule=\"evenodd\" fill-opacity=\"1\" stroke=\"#000000\" stroke-opacity=\"1\" stroke-width=\"3.2\"/>\n",
       "<circle clip-path=\"url(#clip142)\" cx=\"407.579\" cy=\"897.469\" r=\"5\" fill=\"#01010b\" fill-rule=\"evenodd\" fill-opacity=\"1\" stroke=\"#000000\" stroke-opacity=\"1\" stroke-width=\"3.2\"/>\n",
       "<circle clip-path=\"url(#clip142)\" cx=\"1399.31\" cy=\"654.084\" r=\"6\" fill=\"#030313\" fill-rule=\"evenodd\" fill-opacity=\"1\" stroke=\"#000000\" stroke-opacity=\"1\" stroke-width=\"3.2\"/>\n",
       "<circle clip-path=\"url(#clip142)\" cx=\"1949.48\" cy=\"1384.24\" r=\"6\" fill=\"#030313\" fill-rule=\"evenodd\" fill-opacity=\"1\" stroke=\"#000000\" stroke-opacity=\"1\" stroke-width=\"3.2\"/>\n",
       "<circle clip-path=\"url(#clip142)\" cx=\"1949.48\" cy=\"329.571\" r=\"6\" fill=\"#030313\" fill-rule=\"evenodd\" fill-opacity=\"1\" stroke=\"#000000\" stroke-opacity=\"1\" stroke-width=\"3.2\"/>\n",
       "<circle clip-path=\"url(#clip142)\" cx=\"628.36\" cy=\"735.212\" r=\"4\" fill=\"#000006\" fill-rule=\"evenodd\" fill-opacity=\"1\" stroke=\"#000000\" stroke-opacity=\"1\" stroke-width=\"3.2\"/>\n",
       "<circle clip-path=\"url(#clip142)\" cx=\"1288.92\" cy=\"1059.73\" r=\"4\" fill=\"#010109\" fill-rule=\"evenodd\" fill-opacity=\"1\" stroke=\"#000000\" stroke-opacity=\"1\" stroke-width=\"3.2\"/>\n",
       "<circle clip-path=\"url(#clip142)\" cx=\"957.751\" cy=\"1384.24\" r=\"7\" fill=\"#07051d\" fill-rule=\"evenodd\" fill-opacity=\"1\" stroke=\"#000000\" stroke-opacity=\"1\" stroke-width=\"3.2\"/>\n",
       "<circle clip-path=\"url(#clip142)\" cx=\"847.36\" cy=\"1140.85\" r=\"5\" fill=\"#01010b\" fill-rule=\"evenodd\" fill-opacity=\"1\" stroke=\"#000000\" stroke-opacity=\"1\" stroke-width=\"3.2\"/>\n",
       "<circle clip-path=\"url(#clip142)\" cx=\"738.75\" cy=\"735.212\" r=\"7\" fill=\"#06051b\" fill-rule=\"evenodd\" fill-opacity=\"1\" stroke=\"#000000\" stroke-opacity=\"1\" stroke-width=\"3.2\"/>\n",
       "<circle clip-path=\"url(#clip142)\" cx=\"517.969\" cy=\"978.597\" r=\"5\" fill=\"#02010c\" fill-rule=\"evenodd\" fill-opacity=\"1\" stroke=\"#000000\" stroke-opacity=\"1\" stroke-width=\"3.2\"/>\n",
       "<circle clip-path=\"url(#clip142)\" cx=\"738.75\" cy=\"329.571\" r=\"9\" fill=\"#0f092c\" fill-rule=\"evenodd\" fill-opacity=\"1\" stroke=\"#000000\" stroke-opacity=\"1\" stroke-width=\"3.2\"/>\n",
       "<circle clip-path=\"url(#clip142)\" cx=\"1399.31\" cy=\"248.442\" r=\"10\" fill=\"#160b39\" fill-rule=\"evenodd\" fill-opacity=\"1\" stroke=\"#000000\" stroke-opacity=\"1\" stroke-width=\"3.2\"/>\n",
       "<circle clip-path=\"url(#clip142)\" cx=\"1839.09\" cy=\"167.314\" r=\"11\" fill=\"#1c0c43\" fill-rule=\"evenodd\" fill-opacity=\"1\" stroke=\"#000000\" stroke-opacity=\"1\" stroke-width=\"3.2\"/>\n",
       "<circle clip-path=\"url(#clip142)\" cx=\"847.36\" cy=\"978.597\" r=\"4\" fill=\"#010007\" fill-rule=\"evenodd\" fill-opacity=\"1\" stroke=\"#000000\" stroke-opacity=\"1\" stroke-width=\"3.2\"/>\n",
       "<circle clip-path=\"url(#clip142)\" cx=\"1728.7\" cy=\"897.469\" r=\"5\" fill=\"#01010b\" fill-rule=\"evenodd\" fill-opacity=\"1\" stroke=\"#000000\" stroke-opacity=\"1\" stroke-width=\"3.2\"/>\n",
       "<circle clip-path=\"url(#clip142)\" cx=\"517.969\" cy=\"1059.73\" r=\"5\" fill=\"#02020f\" fill-rule=\"evenodd\" fill-opacity=\"1\" stroke=\"#000000\" stroke-opacity=\"1\" stroke-width=\"3.2\"/>\n",
       "<circle clip-path=\"url(#clip142)\" cx=\"1839.09\" cy=\"1059.73\" r=\"5\" fill=\"#02010d\" fill-rule=\"evenodd\" fill-opacity=\"1\" stroke=\"#000000\" stroke-opacity=\"1\" stroke-width=\"3.2\"/>\n",
       "<circle clip-path=\"url(#clip142)\" cx=\"1288.92\" cy=\"1221.98\" r=\"5\" fill=\"#01010c\" fill-rule=\"evenodd\" fill-opacity=\"1\" stroke=\"#000000\" stroke-opacity=\"1\" stroke-width=\"3.2\"/>\n",
       "<circle clip-path=\"url(#clip142)\" cx=\"297.188\" cy=\"329.571\" r=\"30\" fill=\"#982765\" fill-rule=\"evenodd\" fill-opacity=\"1\" stroke=\"#000000\" stroke-opacity=\"1\" stroke-width=\"3.2\"/>\n",
       "<circle clip-path=\"url(#clip142)\" cx=\"738.75\" cy=\"491.827\" r=\"30\" fill=\"#982765\" fill-rule=\"evenodd\" fill-opacity=\"1\" stroke=\"#000000\" stroke-opacity=\"1\" stroke-width=\"3.2\"/>\n",
       "<circle clip-path=\"url(#clip142)\" cx=\"1509.7\" cy=\"654.084\" r=\"30\" fill=\"#982765\" fill-rule=\"evenodd\" fill-opacity=\"1\" stroke=\"#000000\" stroke-opacity=\"1\" stroke-width=\"3.2\"/>\n",
       "<circle clip-path=\"url(#clip142)\" cx=\"1949.48\" cy=\"1303.11\" r=\"30\" fill=\"#982765\" fill-rule=\"evenodd\" fill-opacity=\"1\" stroke=\"#000000\" stroke-opacity=\"1\" stroke-width=\"3.2\"/>\n",
       "<circle clip-path=\"url(#clip142)\" cx=\"1068.14\" cy=\"978.597\" r=\"4\" fill=\"#010007\" fill-rule=\"evenodd\" fill-opacity=\"1\" stroke=\"#000000\" stroke-opacity=\"1\" stroke-width=\"3.2\"/>\n",
       "<circle clip-path=\"url(#clip142)\" cx=\"1509.7\" cy=\"735.212\" r=\"4\" fill=\"#01010a\" fill-rule=\"evenodd\" fill-opacity=\"1\" stroke=\"#000000\" stroke-opacity=\"1\" stroke-width=\"3.2\"/>\n",
       "<circle clip-path=\"url(#clip142)\" cx=\"1728.7\" cy=\"816.34\" r=\"4\" fill=\"#000006\" fill-rule=\"evenodd\" fill-opacity=\"1\" stroke=\"#000000\" stroke-opacity=\"1\" stroke-width=\"3.2\"/>\n",
       "<circle clip-path=\"url(#clip142)\" cx=\"407.579\" cy=\"86.1857\" r=\"30\" fill=\"#982765\" fill-rule=\"evenodd\" fill-opacity=\"1\" stroke=\"#000000\" stroke-opacity=\"1\" stroke-width=\"3.2\"/>\n",
       "<circle clip-path=\"url(#clip142)\" cx=\"1839.09\" cy=\"329.571\" r=\"30\" fill=\"#982765\" fill-rule=\"evenodd\" fill-opacity=\"1\" stroke=\"#000000\" stroke-opacity=\"1\" stroke-width=\"3.2\"/>\n",
       "<circle clip-path=\"url(#clip142)\" cx=\"517.969\" cy=\"86.1857\" r=\"30\" fill=\"#982765\" fill-rule=\"evenodd\" fill-opacity=\"1\" stroke=\"#000000\" stroke-opacity=\"1\" stroke-width=\"3.2\"/>\n",
       "<circle clip-path=\"url(#clip142)\" cx=\"738.75\" cy=\"410.699\" r=\"30\" fill=\"#982765\" fill-rule=\"evenodd\" fill-opacity=\"1\" stroke=\"#000000\" stroke-opacity=\"1\" stroke-width=\"3.2\"/>\n",
       "<circle clip-path=\"url(#clip142)\" cx=\"1728.7\" cy=\"1221.98\" r=\"30\" fill=\"#982765\" fill-rule=\"evenodd\" fill-opacity=\"1\" stroke=\"#000000\" stroke-opacity=\"1\" stroke-width=\"3.2\"/>\n",
       "<circle clip-path=\"url(#clip142)\" cx=\"1068.14\" cy=\"167.314\" r=\"30\" fill=\"#982765\" fill-rule=\"evenodd\" fill-opacity=\"1\" stroke=\"#000000\" stroke-opacity=\"1\" stroke-width=\"3.2\"/>\n",
       "<circle clip-path=\"url(#clip142)\" cx=\"957.751\" cy=\"1140.85\" r=\"5\" fill=\"#02010d\" fill-rule=\"evenodd\" fill-opacity=\"1\" stroke=\"#000000\" stroke-opacity=\"1\" stroke-width=\"3.2\"/>\n",
       "<circle clip-path=\"url(#clip142)\" cx=\"1949.48\" cy=\"735.212\" r=\"5\" fill=\"#01010b\" fill-rule=\"evenodd\" fill-opacity=\"1\" stroke=\"#000000\" stroke-opacity=\"1\" stroke-width=\"3.2\"/>\n",
       "<circle clip-path=\"url(#clip142)\" cx=\"1618.31\" cy=\"167.314\" r=\"30\" fill=\"#982765\" fill-rule=\"evenodd\" fill-opacity=\"1\" stroke=\"#000000\" stroke-opacity=\"1\" stroke-width=\"3.2\"/>\n",
       "<circle clip-path=\"url(#clip142)\" cx=\"517.969\" cy=\"410.699\" r=\"30\" fill=\"#982765\" fill-rule=\"evenodd\" fill-opacity=\"1\" stroke=\"#000000\" stroke-opacity=\"1\" stroke-width=\"3.2\"/>\n",
       "<circle clip-path=\"url(#clip142)\" cx=\"628.36\" cy=\"491.827\" r=\"30\" fill=\"#982765\" fill-rule=\"evenodd\" fill-opacity=\"1\" stroke=\"#000000\" stroke-opacity=\"1\" stroke-width=\"3.2\"/>\n",
       "<circle clip-path=\"url(#clip142)\" cx=\"297.188\" cy=\"86.1857\" r=\"30\" fill=\"#982765\" fill-rule=\"evenodd\" fill-opacity=\"1\" stroke=\"#000000\" stroke-opacity=\"1\" stroke-width=\"3.2\"/>\n",
       "<circle clip-path=\"url(#clip142)\" cx=\"517.969\" cy=\"654.084\" r=\"30\" fill=\"#982765\" fill-rule=\"evenodd\" fill-opacity=\"1\" stroke=\"#000000\" stroke-opacity=\"1\" stroke-width=\"3.2\"/>\n",
       "<circle clip-path=\"url(#clip142)\" cx=\"1399.31\" cy=\"816.34\" r=\"30\" fill=\"#982765\" fill-rule=\"evenodd\" fill-opacity=\"1\" stroke=\"#000000\" stroke-opacity=\"1\" stroke-width=\"3.2\"/>\n",
       "<circle clip-path=\"url(#clip142)\" cx=\"517.969\" cy=\"248.442\" r=\"30\" fill=\"#982765\" fill-rule=\"evenodd\" fill-opacity=\"1\" stroke=\"#000000\" stroke-opacity=\"1\" stroke-width=\"3.2\"/>\n",
       "<circle clip-path=\"url(#clip142)\" cx=\"1509.7\" cy=\"1221.98\" r=\"30\" fill=\"#982765\" fill-rule=\"evenodd\" fill-opacity=\"1\" stroke=\"#000000\" stroke-opacity=\"1\" stroke-width=\"3.2\"/>\n",
       "<circle clip-path=\"url(#clip142)\" cx=\"1399.31\" cy=\"735.212\" r=\"4\" fill=\"#01010b\" fill-rule=\"evenodd\" fill-opacity=\"1\" stroke=\"#000000\" stroke-opacity=\"1\" stroke-width=\"3.2\"/>\n",
       "<circle clip-path=\"url(#clip142)\" cx=\"1288.92\" cy=\"735.212\" r=\"5\" fill=\"#030210\" fill-rule=\"evenodd\" fill-opacity=\"1\" stroke=\"#000000\" stroke-opacity=\"1\" stroke-width=\"3.2\"/>\n",
       "<circle clip-path=\"url(#clip142)\" cx=\"1509.7\" cy=\"167.314\" r=\"18\" fill=\"#470b6a\" fill-rule=\"evenodd\" fill-opacity=\"1\" stroke=\"#000000\" stroke-opacity=\"1\" stroke-width=\"3.2\"/>\n",
       "<circle clip-path=\"url(#clip142)\" cx=\"1509.7\" cy=\"1140.85\" r=\"18\" fill=\"#470b6a\" fill-rule=\"evenodd\" fill-opacity=\"1\" stroke=\"#000000\" stroke-opacity=\"1\" stroke-width=\"3.2\"/>\n",
       "<circle clip-path=\"url(#clip142)\" cx=\"957.751\" cy=\"816.34\" r=\"4\" fill=\"#010007\" fill-rule=\"evenodd\" fill-opacity=\"1\" stroke=\"#000000\" stroke-opacity=\"1\" stroke-width=\"3.2\"/>\n",
       "<circle clip-path=\"url(#clip142)\" cx=\"738.75\" cy=\"1221.98\" r=\"6\" fill=\"#040316\" fill-rule=\"evenodd\" fill-opacity=\"1\" stroke=\"#000000\" stroke-opacity=\"1\" stroke-width=\"3.2\"/>\n",
       "<circle clip-path=\"url(#clip142)\" cx=\"1949.48\" cy=\"1059.73\" r=\"4\" fill=\"#010007\" fill-rule=\"evenodd\" fill-opacity=\"1\" stroke=\"#000000\" stroke-opacity=\"1\" stroke-width=\"3.2\"/>\n",
       "<circle clip-path=\"url(#clip142)\" cx=\"2059.88\" cy=\"491.827\" r=\"6\" fill=\"#030313\" fill-rule=\"evenodd\" fill-opacity=\"1\" stroke=\"#000000\" stroke-opacity=\"1\" stroke-width=\"3.2\"/>\n",
       "<circle clip-path=\"url(#clip142)\" cx=\"738.75\" cy=\"654.084\" r=\"6\" fill=\"#040314\" fill-rule=\"evenodd\" fill-opacity=\"1\" stroke=\"#000000\" stroke-opacity=\"1\" stroke-width=\"3.2\"/>\n",
       "<circle clip-path=\"url(#clip142)\" cx=\"1728.7\" cy=\"167.314\" r=\"23\" fill=\"#65156e\" fill-rule=\"evenodd\" fill-opacity=\"1\" stroke=\"#000000\" stroke-opacity=\"1\" stroke-width=\"3.2\"/>\n",
       "<circle clip-path=\"url(#clip142)\" cx=\"1839.09\" cy=\"1221.98\" r=\"23\" fill=\"#65156e\" fill-rule=\"evenodd\" fill-opacity=\"1\" stroke=\"#000000\" stroke-opacity=\"1\" stroke-width=\"3.2\"/>\n",
       "<circle clip-path=\"url(#clip142)\" cx=\"1839.09\" cy=\"735.212\" r=\"23\" fill=\"#65156e\" fill-rule=\"evenodd\" fill-opacity=\"1\" stroke=\"#000000\" stroke-opacity=\"1\" stroke-width=\"3.2\"/>\n",
       "<circle clip-path=\"url(#clip142)\" cx=\"1949.48\" cy=\"86.1857\" r=\"18\" fill=\"#490b6a\" fill-rule=\"evenodd\" fill-opacity=\"1\" stroke=\"#000000\" stroke-opacity=\"1\" stroke-width=\"3.2\"/>\n",
       "<circle clip-path=\"url(#clip142)\" cx=\"1618.31\" cy=\"816.34\" r=\"4\" fill=\"#010008\" fill-rule=\"evenodd\" fill-opacity=\"1\" stroke=\"#000000\" stroke-opacity=\"1\" stroke-width=\"3.2\"/>\n",
       "<circle clip-path=\"url(#clip142)\" cx=\"1728.7\" cy=\"491.827\" r=\"6\" fill=\"#040315\" fill-rule=\"evenodd\" fill-opacity=\"1\" stroke=\"#000000\" stroke-opacity=\"1\" stroke-width=\"3.2\"/>\n",
       "<circle clip-path=\"url(#clip142)\" cx=\"1839.09\" cy=\"572.955\" r=\"4\" fill=\"#010109\" fill-rule=\"evenodd\" fill-opacity=\"1\" stroke=\"#000000\" stroke-opacity=\"1\" stroke-width=\"3.2\"/>\n",
       "<circle clip-path=\"url(#clip142)\" cx=\"1728.7\" cy=\"654.084\" r=\"7\" fill=\"#090621\" fill-rule=\"evenodd\" fill-opacity=\"1\" stroke=\"#000000\" stroke-opacity=\"1\" stroke-width=\"3.2\"/>\n",
       "<circle clip-path=\"url(#clip142)\" cx=\"2059.88\" cy=\"329.571\" r=\"9\" fill=\"#10092e\" fill-rule=\"evenodd\" fill-opacity=\"1\" stroke=\"#000000\" stroke-opacity=\"1\" stroke-width=\"3.2\"/>\n",
       "<circle clip-path=\"url(#clip142)\" cx=\"738.75\" cy=\"248.442\" r=\"30\" fill=\"#982765\" fill-rule=\"evenodd\" fill-opacity=\"1\" stroke=\"#000000\" stroke-opacity=\"1\" stroke-width=\"3.2\"/>\n",
       "<circle clip-path=\"url(#clip142)\" cx=\"1288.92\" cy=\"1384.24\" r=\"30\" fill=\"#982765\" fill-rule=\"evenodd\" fill-opacity=\"1\" stroke=\"#000000\" stroke-opacity=\"1\" stroke-width=\"3.2\"/>\n",
       "<circle clip-path=\"url(#clip142)\" cx=\"1178.53\" cy=\"1140.85\" r=\"5\" fill=\"#02010c\" fill-rule=\"evenodd\" fill-opacity=\"1\" stroke=\"#000000\" stroke-opacity=\"1\" stroke-width=\"3.2\"/>\n",
       "<circle clip-path=\"url(#clip142)\" cx=\"628.36\" cy=\"329.571\" r=\"30\" fill=\"#982765\" fill-rule=\"evenodd\" fill-opacity=\"1\" stroke=\"#000000\" stroke-opacity=\"1\" stroke-width=\"3.2\"/>\n",
       "<circle clip-path=\"url(#clip142)\" cx=\"1509.7\" cy=\"816.34\" r=\"30\" fill=\"#982765\" fill-rule=\"evenodd\" fill-opacity=\"1\" stroke=\"#000000\" stroke-opacity=\"1\" stroke-width=\"3.2\"/>\n",
       "<circle clip-path=\"url(#clip142)\" cx=\"1068.14\" cy=\"491.827\" r=\"8\" fill=\"#0c0726\" fill-rule=\"evenodd\" fill-opacity=\"1\" stroke=\"#000000\" stroke-opacity=\"1\" stroke-width=\"3.2\"/>\n",
       "<circle clip-path=\"url(#clip142)\" cx=\"2059.88\" cy=\"572.955\" r=\"8\" fill=\"#0d0828\" fill-rule=\"evenodd\" fill-opacity=\"1\" stroke=\"#000000\" stroke-opacity=\"1\" stroke-width=\"3.2\"/>\n",
       "<circle clip-path=\"url(#clip142)\" cx=\"2059.88\" cy=\"1303.11\" r=\"8\" fill=\"#0d0828\" fill-rule=\"evenodd\" fill-opacity=\"1\" stroke=\"#000000\" stroke-opacity=\"1\" stroke-width=\"3.2\"/>\n",
       "<circle clip-path=\"url(#clip142)\" cx=\"628.36\" cy=\"1384.24\" r=\"9\" fill=\"#0e082b\" fill-rule=\"evenodd\" fill-opacity=\"1\" stroke=\"#000000\" stroke-opacity=\"1\" stroke-width=\"3.2\"/>\n",
       "<circle clip-path=\"url(#clip142)\" cx=\"1509.7\" cy=\"897.469\" r=\"4\" fill=\"#000005\" fill-rule=\"evenodd\" fill-opacity=\"1\" stroke=\"#000000\" stroke-opacity=\"1\" stroke-width=\"3.2\"/>\n",
       "<circle clip-path=\"url(#clip142)\" cx=\"1068.14\" cy=\"816.34\" r=\"6\" fill=\"#050418\" fill-rule=\"evenodd\" fill-opacity=\"1\" stroke=\"#000000\" stroke-opacity=\"1\" stroke-width=\"3.2\"/>\n",
       "<circle clip-path=\"url(#clip142)\" cx=\"847.36\" cy=\"735.212\" r=\"3\" fill=\"#000003\" fill-rule=\"evenodd\" fill-opacity=\"1\" stroke=\"#000000\" stroke-opacity=\"1\" stroke-width=\"3.2\"/>\n",
       "<circle clip-path=\"url(#clip142)\" cx=\"1509.7\" cy=\"1384.24\" r=\"5\" fill=\"#020210\" fill-rule=\"evenodd\" fill-opacity=\"1\" stroke=\"#000000\" stroke-opacity=\"1\" stroke-width=\"3.2\"/>\n",
       "<circle clip-path=\"url(#clip142)\" cx=\"1068.14\" cy=\"735.212\" r=\"4\" fill=\"#010007\" fill-rule=\"evenodd\" fill-opacity=\"1\" stroke=\"#000000\" stroke-opacity=\"1\" stroke-width=\"3.2\"/>\n",
       "<circle clip-path=\"url(#clip142)\" cx=\"517.969\" cy=\"1384.24\" r=\"10\" fill=\"#150b37\" fill-rule=\"evenodd\" fill-opacity=\"1\" stroke=\"#000000\" stroke-opacity=\"1\" stroke-width=\"3.2\"/>\n",
       "<circle clip-path=\"url(#clip142)\" cx=\"297.188\" cy=\"248.442\" r=\"30\" fill=\"#982765\" fill-rule=\"evenodd\" fill-opacity=\"1\" stroke=\"#000000\" stroke-opacity=\"1\" stroke-width=\"3.2\"/>\n",
       "<circle clip-path=\"url(#clip142)\" cx=\"517.969\" cy=\"1303.11\" r=\"30\" fill=\"#982765\" fill-rule=\"evenodd\" fill-opacity=\"1\" stroke=\"#000000\" stroke-opacity=\"1\" stroke-width=\"3.2\"/>\n",
       "<circle clip-path=\"url(#clip142)\" cx=\"1288.92\" cy=\"816.34\" r=\"30\" fill=\"#982765\" fill-rule=\"evenodd\" fill-opacity=\"1\" stroke=\"#000000\" stroke-opacity=\"1\" stroke-width=\"3.2\"/>\n",
       "<circle clip-path=\"url(#clip142)\" cx=\"1728.7\" cy=\"329.571\" r=\"30\" fill=\"#982765\" fill-rule=\"evenodd\" fill-opacity=\"1\" stroke=\"#000000\" stroke-opacity=\"1\" stroke-width=\"3.2\"/>\n",
       "<circle clip-path=\"url(#clip142)\" cx=\"957.751\" cy=\"1303.11\" r=\"6\" fill=\"#040315\" fill-rule=\"evenodd\" fill-opacity=\"1\" stroke=\"#000000\" stroke-opacity=\"1\" stroke-width=\"3.2\"/>\n",
       "<circle clip-path=\"url(#clip142)\" cx=\"957.751\" cy=\"491.827\" r=\"6\" fill=\"#040315\" fill-rule=\"evenodd\" fill-opacity=\"1\" stroke=\"#000000\" stroke-opacity=\"1\" stroke-width=\"3.2\"/>\n",
       "<circle clip-path=\"url(#clip142)\" cx=\"1288.92\" cy=\"329.571\" r=\"7\" fill=\"#090621\" fill-rule=\"evenodd\" fill-opacity=\"1\" stroke=\"#000000\" stroke-opacity=\"1\" stroke-width=\"3.2\"/>\n",
       "<circle clip-path=\"url(#clip142)\" cx=\"628.36\" cy=\"410.699\" r=\"30\" fill=\"#982765\" fill-rule=\"evenodd\" fill-opacity=\"1\" stroke=\"#000000\" stroke-opacity=\"1\" stroke-width=\"3.2\"/>\n",
       "<circle clip-path=\"url(#clip142)\" cx=\"297.188\" cy=\"1140.85\" r=\"14\" fill=\"#2f0a5b\" fill-rule=\"evenodd\" fill-opacity=\"1\" stroke=\"#000000\" stroke-opacity=\"1\" stroke-width=\"3.2\"/>\n",
       "<circle clip-path=\"url(#clip142)\" cx=\"2059.88\" cy=\"978.597\" r=\"4\" fill=\"#010109\" fill-rule=\"evenodd\" fill-opacity=\"1\" stroke=\"#000000\" stroke-opacity=\"1\" stroke-width=\"3.2\"/>\n",
       "<circle clip-path=\"url(#clip142)\" cx=\"1509.7\" cy=\"329.571\" r=\"30\" fill=\"#982765\" fill-rule=\"evenodd\" fill-opacity=\"1\" stroke=\"#000000\" stroke-opacity=\"1\" stroke-width=\"3.2\"/>\n",
       "<circle clip-path=\"url(#clip142)\" cx=\"1068.14\" cy=\"248.442\" r=\"30\" fill=\"#982765\" fill-rule=\"evenodd\" fill-opacity=\"1\" stroke=\"#000000\" stroke-opacity=\"1\" stroke-width=\"3.2\"/>\n",
       "<circle clip-path=\"url(#clip142)\" cx=\"1068.14\" cy=\"329.571\" r=\"30\" fill=\"#982765\" fill-rule=\"evenodd\" fill-opacity=\"1\" stroke=\"#000000\" stroke-opacity=\"1\" stroke-width=\"3.2\"/>\n",
       "<circle clip-path=\"url(#clip142)\" cx=\"1288.92\" cy=\"897.469\" r=\"30\" fill=\"#982765\" fill-rule=\"evenodd\" fill-opacity=\"1\" stroke=\"#000000\" stroke-opacity=\"1\" stroke-width=\"3.2\"/>\n",
       "<circle clip-path=\"url(#clip142)\" cx=\"407.579\" cy=\"410.699\" r=\"30\" fill=\"#982765\" fill-rule=\"evenodd\" fill-opacity=\"1\" stroke=\"#000000\" stroke-opacity=\"1\" stroke-width=\"3.2\"/>\n",
       "<circle clip-path=\"url(#clip142)\" cx=\"847.36\" cy=\"167.314\" r=\"30\" fill=\"#982765\" fill-rule=\"evenodd\" fill-opacity=\"1\" stroke=\"#000000\" stroke-opacity=\"1\" stroke-width=\"3.2\"/>\n",
       "<circle clip-path=\"url(#clip142)\" cx=\"1288.92\" cy=\"86.1857\" r=\"30\" fill=\"#982765\" fill-rule=\"evenodd\" fill-opacity=\"1\" stroke=\"#000000\" stroke-opacity=\"1\" stroke-width=\"3.2\"/>\n",
       "<circle clip-path=\"url(#clip142)\" cx=\"1949.48\" cy=\"167.314\" r=\"30\" fill=\"#982765\" fill-rule=\"evenodd\" fill-opacity=\"1\" stroke=\"#000000\" stroke-opacity=\"1\" stroke-width=\"3.2\"/>\n",
       "<circle clip-path=\"url(#clip142)\" cx=\"1618.31\" cy=\"86.1857\" r=\"30\" fill=\"#982765\" fill-rule=\"evenodd\" fill-opacity=\"1\" stroke=\"#000000\" stroke-opacity=\"1\" stroke-width=\"3.2\"/>\n",
       "<circle clip-path=\"url(#clip142)\" cx=\"1618.31\" cy=\"978.597\" r=\"30\" fill=\"#982765\" fill-rule=\"evenodd\" fill-opacity=\"1\" stroke=\"#000000\" stroke-opacity=\"1\" stroke-width=\"3.2\"/>\n",
       "<circle clip-path=\"url(#clip142)\" cx=\"517.969\" cy=\"735.212\" r=\"5\" fill=\"#01010b\" fill-rule=\"evenodd\" fill-opacity=\"1\" stroke=\"#000000\" stroke-opacity=\"1\" stroke-width=\"3.2\"/>\n",
       "<circle clip-path=\"url(#clip142)\" cx=\"1068.14\" cy=\"86.1857\" r=\"30\" fill=\"#982765\" fill-rule=\"evenodd\" fill-opacity=\"1\" stroke=\"#000000\" stroke-opacity=\"1\" stroke-width=\"3.2\"/>\n",
       "<circle clip-path=\"url(#clip142)\" cx=\"517.969\" cy=\"167.314\" r=\"30\" fill=\"#982765\" fill-rule=\"evenodd\" fill-opacity=\"1\" stroke=\"#000000\" stroke-opacity=\"1\" stroke-width=\"3.2\"/>\n",
       "<circle clip-path=\"url(#clip142)\" cx=\"2059.88\" cy=\"1059.73\" r=\"30\" fill=\"#982765\" fill-rule=\"evenodd\" fill-opacity=\"1\" stroke=\"#000000\" stroke-opacity=\"1\" stroke-width=\"3.2\"/>\n",
       "<circle clip-path=\"url(#clip142)\" cx=\"1618.31\" cy=\"1221.98\" r=\"5\" fill=\"#02010c\" fill-rule=\"evenodd\" fill-opacity=\"1\" stroke=\"#000000\" stroke-opacity=\"1\" stroke-width=\"3.2\"/>\n",
       "<circle clip-path=\"url(#clip142)\" cx=\"1068.14\" cy=\"1384.24\" r=\"7\" fill=\"#06051b\" fill-rule=\"evenodd\" fill-opacity=\"1\" stroke=\"#000000\" stroke-opacity=\"1\" stroke-width=\"3.2\"/>\n",
       "<circle clip-path=\"url(#clip142)\" cx=\"628.36\" cy=\"978.597\" r=\"5\" fill=\"#02010d\" fill-rule=\"evenodd\" fill-opacity=\"1\" stroke=\"#000000\" stroke-opacity=\"1\" stroke-width=\"3.2\"/>\n",
       "<circle clip-path=\"url(#clip142)\" cx=\"407.579\" cy=\"1221.98\" r=\"8\" fill=\"#0d0829\" fill-rule=\"evenodd\" fill-opacity=\"1\" stroke=\"#000000\" stroke-opacity=\"1\" stroke-width=\"3.2\"/>\n",
       "<circle clip-path=\"url(#clip142)\" cx=\"517.969\" cy=\"491.827\" r=\"9\" fill=\"#0e082b\" fill-rule=\"evenodd\" fill-opacity=\"1\" stroke=\"#000000\" stroke-opacity=\"1\" stroke-width=\"3.2\"/>\n",
       "<circle clip-path=\"url(#clip142)\" cx=\"407.579\" cy=\"1384.24\" r=\"12\" fill=\"#230b4d\" fill-rule=\"evenodd\" fill-opacity=\"1\" stroke=\"#000000\" stroke-opacity=\"1\" stroke-width=\"3.2\"/>\n",
       "<circle clip-path=\"url(#clip142)\" cx=\"1839.09\" cy=\"1140.85\" r=\"4\" fill=\"#010108\" fill-rule=\"evenodd\" fill-opacity=\"1\" stroke=\"#000000\" stroke-opacity=\"1\" stroke-width=\"3.2\"/>\n",
       "<circle clip-path=\"url(#clip142)\" cx=\"1399.31\" cy=\"978.597\" r=\"4\" fill=\"#01010a\" fill-rule=\"evenodd\" fill-opacity=\"1\" stroke=\"#000000\" stroke-opacity=\"1\" stroke-width=\"3.2\"/>\n",
       "<circle clip-path=\"url(#clip142)\" cx=\"517.969\" cy=\"329.571\" r=\"30\" fill=\"#982765\" fill-rule=\"evenodd\" fill-opacity=\"1\" stroke=\"#000000\" stroke-opacity=\"1\" stroke-width=\"3.2\"/>\n",
       "<circle clip-path=\"url(#clip142)\" cx=\"407.579\" cy=\"329.571\" r=\"30\" fill=\"#982765\" fill-rule=\"evenodd\" fill-opacity=\"1\" stroke=\"#000000\" stroke-opacity=\"1\" stroke-width=\"3.2\"/>\n",
       "<circle clip-path=\"url(#clip142)\" cx=\"1949.48\" cy=\"654.084\" r=\"30\" fill=\"#982765\" fill-rule=\"evenodd\" fill-opacity=\"1\" stroke=\"#000000\" stroke-opacity=\"1\" stroke-width=\"3.2\"/>\n",
       "<circle clip-path=\"url(#clip142)\" cx=\"297.188\" cy=\"978.597\" r=\"9\" fill=\"#120a33\" fill-rule=\"evenodd\" fill-opacity=\"1\" stroke=\"#000000\" stroke-opacity=\"1\" stroke-width=\"3.2\"/>\n",
       "<circle clip-path=\"url(#clip142)\" cx=\"957.751\" cy=\"86.1857\" r=\"61\" fill=\"#fcfea4\" fill-rule=\"evenodd\" fill-opacity=\"1\" stroke=\"#000000\" stroke-opacity=\"1\" stroke-width=\"3.2\"/>\n",
       "<circle clip-path=\"url(#clip142)\" cx=\"1178.53\" cy=\"1059.73\" r=\"61\" fill=\"#fcfea4\" fill-rule=\"evenodd\" fill-opacity=\"1\" stroke=\"#000000\" stroke-opacity=\"1\" stroke-width=\"3.2\"/>\n",
       "<circle clip-path=\"url(#clip142)\" cx=\"297.188\" cy=\"1221.98\" r=\"17\" fill=\"#440a68\" fill-rule=\"evenodd\" fill-opacity=\"1\" stroke=\"#000000\" stroke-opacity=\"1\" stroke-width=\"3.2\"/>\n",
       "<circle clip-path=\"url(#clip142)\" cx=\"847.36\" cy=\"1059.73\" r=\"4\" fill=\"#01010b\" fill-rule=\"evenodd\" fill-opacity=\"1\" stroke=\"#000000\" stroke-opacity=\"1\" stroke-width=\"3.2\"/>\n",
       "<circle clip-path=\"url(#clip142)\" cx=\"297.188\" cy=\"735.212\" r=\"10\" fill=\"#150b38\" fill-rule=\"evenodd\" fill-opacity=\"1\" stroke=\"#000000\" stroke-opacity=\"1\" stroke-width=\"3.2\"/>\n",
       "<circle clip-path=\"url(#clip142)\" cx=\"1399.31\" cy=\"572.955\" r=\"6\" fill=\"#06041a\" fill-rule=\"evenodd\" fill-opacity=\"1\" stroke=\"#000000\" stroke-opacity=\"1\" stroke-width=\"3.2\"/>\n",
       "<circle clip-path=\"url(#clip142)\" cx=\"628.36\" cy=\"1221.98\" r=\"6\" fill=\"#040315\" fill-rule=\"evenodd\" fill-opacity=\"1\" stroke=\"#000000\" stroke-opacity=\"1\" stroke-width=\"3.2\"/>\n",
       "<circle clip-path=\"url(#clip142)\" cx=\"1618.31\" cy=\"329.571\" r=\"8\" fill=\"#0c0727\" fill-rule=\"evenodd\" fill-opacity=\"1\" stroke=\"#000000\" stroke-opacity=\"1\" stroke-width=\"3.2\"/>\n",
       "<circle clip-path=\"url(#clip142)\" cx=\"1728.7\" cy=\"86.1857\" r=\"14\" fill=\"#2f0a5b\" fill-rule=\"evenodd\" fill-opacity=\"1\" stroke=\"#000000\" stroke-opacity=\"1\" stroke-width=\"3.2\"/>\n",
       "<circle clip-path=\"url(#clip142)\" cx=\"1068.14\" cy=\"1059.73\" r=\"4\" fill=\"#010109\" fill-rule=\"evenodd\" fill-opacity=\"1\" stroke=\"#000000\" stroke-opacity=\"1\" stroke-width=\"3.2\"/>\n",
       "<circle clip-path=\"url(#clip142)\" cx=\"1728.7\" cy=\"410.699\" r=\"10\" fill=\"#140a36\" fill-rule=\"evenodd\" fill-opacity=\"1\" stroke=\"#000000\" stroke-opacity=\"1\" stroke-width=\"3.2\"/>\n",
       "<circle clip-path=\"url(#clip142)\" cx=\"628.36\" cy=\"86.1857\" r=\"30\" fill=\"#982765\" fill-rule=\"evenodd\" fill-opacity=\"1\" stroke=\"#000000\" stroke-opacity=\"1\" stroke-width=\"3.2\"/>\n",
       "<circle clip-path=\"url(#clip142)\" cx=\"1178.53\" cy=\"816.34\" r=\"30\" fill=\"#982765\" fill-rule=\"evenodd\" fill-opacity=\"1\" stroke=\"#000000\" stroke-opacity=\"1\" stroke-width=\"3.2\"/>\n",
       "<circle clip-path=\"url(#clip142)\" cx=\"1839.09\" cy=\"1384.24\" r=\"30\" fill=\"#982765\" fill-rule=\"evenodd\" fill-opacity=\"1\" stroke=\"#000000\" stroke-opacity=\"1\" stroke-width=\"3.2\"/>\n",
       "<circle clip-path=\"url(#clip142)\" cx=\"738.75\" cy=\"1140.85\" r=\"5\" fill=\"#02010d\" fill-rule=\"evenodd\" fill-opacity=\"1\" stroke=\"#000000\" stroke-opacity=\"1\" stroke-width=\"3.2\"/>\n",
       "<circle clip-path=\"url(#clip142)\" cx=\"297.188\" cy=\"897.469\" r=\"8\" fill=\"#0c0727\" fill-rule=\"evenodd\" fill-opacity=\"1\" stroke=\"#000000\" stroke-opacity=\"1\" stroke-width=\"3.2\"/>\n",
       "<circle clip-path=\"url(#clip142)\" cx=\"297.188\" cy=\"816.34\" r=\"8\" fill=\"#0c0727\" fill-rule=\"evenodd\" fill-opacity=\"1\" stroke=\"#000000\" stroke-opacity=\"1\" stroke-width=\"3.2\"/>\n",
       "<circle clip-path=\"url(#clip142)\" cx=\"1178.53\" cy=\"329.571\" r=\"19\" fill=\"#4d0c6b\" fill-rule=\"evenodd\" fill-opacity=\"1\" stroke=\"#000000\" stroke-opacity=\"1\" stroke-width=\"3.2\"/>\n",
       "<circle clip-path=\"url(#clip142)\" cx=\"2059.88\" cy=\"167.314\" r=\"18\" fill=\"#460a69\" fill-rule=\"evenodd\" fill-opacity=\"1\" stroke=\"#000000\" stroke-opacity=\"1\" stroke-width=\"3.2\"/>\n",
       "<circle clip-path=\"url(#clip142)\" cx=\"1949.48\" cy=\"897.469\" r=\"4\" fill=\"#01010b\" fill-rule=\"evenodd\" fill-opacity=\"1\" stroke=\"#000000\" stroke-opacity=\"1\" stroke-width=\"3.2\"/>\n",
       "<circle clip-path=\"url(#clip142)\" cx=\"1399.31\" cy=\"1059.73\" r=\"4\" fill=\"#000006\" fill-rule=\"evenodd\" fill-opacity=\"1\" stroke=\"#000000\" stroke-opacity=\"1\" stroke-width=\"3.2\"/>\n",
       "<circle clip-path=\"url(#clip142)\" cx=\"1949.48\" cy=\"572.955\" r=\"6\" fill=\"#050317\" fill-rule=\"evenodd\" fill-opacity=\"1\" stroke=\"#000000\" stroke-opacity=\"1\" stroke-width=\"3.2\"/>\n",
       "<circle clip-path=\"url(#clip142)\" cx=\"1509.7\" cy=\"978.597\" r=\"4\" fill=\"#010007\" fill-rule=\"evenodd\" fill-opacity=\"1\" stroke=\"#000000\" stroke-opacity=\"1\" stroke-width=\"3.2\"/>\n",
       "<circle clip-path=\"url(#clip142)\" cx=\"407.579\" cy=\"735.212\" r=\"4\" fill=\"#010109\" fill-rule=\"evenodd\" fill-opacity=\"1\" stroke=\"#000000\" stroke-opacity=\"1\" stroke-width=\"3.2\"/>\n",
       "<circle clip-path=\"url(#clip142)\" cx=\"1178.53\" cy=\"1303.11\" r=\"4\" fill=\"#01010a\" fill-rule=\"evenodd\" fill-opacity=\"1\" stroke=\"#000000\" stroke-opacity=\"1\" stroke-width=\"3.2\"/>\n",
       "<circle clip-path=\"url(#clip142)\" cx=\"738.75\" cy=\"816.34\" r=\"4\" fill=\"#010109\" fill-rule=\"evenodd\" fill-opacity=\"1\" stroke=\"#000000\" stroke-opacity=\"1\" stroke-width=\"3.2\"/>\n",
       "<circle clip-path=\"url(#clip142)\" cx=\"1839.09\" cy=\"1303.11\" r=\"5\" fill=\"#02010d\" fill-rule=\"evenodd\" fill-opacity=\"1\" stroke=\"#000000\" stroke-opacity=\"1\" stroke-width=\"3.2\"/>\n",
       "<circle clip-path=\"url(#clip142)\" cx=\"1618.31\" cy=\"1140.85\" r=\"4\" fill=\"#010007\" fill-rule=\"evenodd\" fill-opacity=\"1\" stroke=\"#000000\" stroke-opacity=\"1\" stroke-width=\"3.2\"/>\n",
       "<circle clip-path=\"url(#clip142)\" cx=\"1509.7\" cy=\"86.1857\" r=\"30\" fill=\"#982765\" fill-rule=\"evenodd\" fill-opacity=\"1\" stroke=\"#000000\" stroke-opacity=\"1\" stroke-width=\"3.2\"/>\n",
       "<circle clip-path=\"url(#clip142)\" cx=\"1728.7\" cy=\"735.212\" r=\"30\" fill=\"#982765\" fill-rule=\"evenodd\" fill-opacity=\"1\" stroke=\"#000000\" stroke-opacity=\"1\" stroke-width=\"3.2\"/>\n",
       "<circle clip-path=\"url(#clip142)\" cx=\"297.188\" cy=\"572.955\" r=\"10\" fill=\"#160b39\" fill-rule=\"evenodd\" fill-opacity=\"1\" stroke=\"#000000\" stroke-opacity=\"1\" stroke-width=\"3.2\"/>\n",
       "<circle clip-path=\"url(#clip142)\" cx=\"407.579\" cy=\"572.955\" r=\"7\" fill=\"#07051c\" fill-rule=\"evenodd\" fill-opacity=\"1\" stroke=\"#000000\" stroke-opacity=\"1\" stroke-width=\"3.2\"/>\n",
       "<circle clip-path=\"url(#clip142)\" cx=\"957.751\" cy=\"248.442\" r=\"16\" fill=\"#3e0965\" fill-rule=\"evenodd\" fill-opacity=\"1\" stroke=\"#000000\" stroke-opacity=\"1\" stroke-width=\"3.2\"/>\n",
       "<circle clip-path=\"url(#clip142)\" cx=\"1178.53\" cy=\"491.827\" r=\"17\" fill=\"#430a68\" fill-rule=\"evenodd\" fill-opacity=\"1\" stroke=\"#000000\" stroke-opacity=\"1\" stroke-width=\"3.2\"/>\n",
       "<circle clip-path=\"url(#clip142)\" cx=\"1949.48\" cy=\"978.597\" r=\"17\" fill=\"#420967\" fill-rule=\"evenodd\" fill-opacity=\"1\" stroke=\"#000000\" stroke-opacity=\"1\" stroke-width=\"3.2\"/>\n",
       "<circle clip-path=\"url(#clip142)\" cx=\"407.579\" cy=\"167.314\" r=\"30\" fill=\"#982765\" fill-rule=\"evenodd\" fill-opacity=\"1\" stroke=\"#000000\" stroke-opacity=\"1\" stroke-width=\"3.2\"/>\n",
       "<circle clip-path=\"url(#clip142)\" cx=\"1068.14\" cy=\"1140.85\" r=\"30\" fill=\"#982765\" fill-rule=\"evenodd\" fill-opacity=\"1\" stroke=\"#000000\" stroke-opacity=\"1\" stroke-width=\"3.2\"/>\n",
       "<circle clip-path=\"url(#clip142)\" cx=\"297.188\" cy=\"1303.11\" r=\"20\" fill=\"#570f6d\" fill-rule=\"evenodd\" fill-opacity=\"1\" stroke=\"#000000\" stroke-opacity=\"1\" stroke-width=\"3.2\"/>\n",
       "<circle clip-path=\"url(#clip142)\" cx=\"1178.53\" cy=\"735.212\" r=\"5\" fill=\"#02010d\" fill-rule=\"evenodd\" fill-opacity=\"1\" stroke=\"#000000\" stroke-opacity=\"1\" stroke-width=\"3.2\"/>\n",
       "<circle clip-path=\"url(#clip142)\" cx=\"1618.31\" cy=\"654.084\" r=\"5\" fill=\"#030212\" fill-rule=\"evenodd\" fill-opacity=\"1\" stroke=\"#000000\" stroke-opacity=\"1\" stroke-width=\"3.2\"/>\n",
       "<circle clip-path=\"url(#clip142)\" cx=\"1839.09\" cy=\"978.597\" r=\"6\" fill=\"#060419\" fill-rule=\"evenodd\" fill-opacity=\"1\" stroke=\"#000000\" stroke-opacity=\"1\" stroke-width=\"3.2\"/>\n",
       "<circle clip-path=\"url(#clip142)\" cx=\"1178.53\" cy=\"167.314\" r=\"30\" fill=\"#982765\" fill-rule=\"evenodd\" fill-opacity=\"1\" stroke=\"#000000\" stroke-opacity=\"1\" stroke-width=\"3.2\"/>\n",
       "<circle clip-path=\"url(#clip142)\" cx=\"847.36\" cy=\"1221.98\" r=\"6\" fill=\"#040314\" fill-rule=\"evenodd\" fill-opacity=\"1\" stroke=\"#000000\" stroke-opacity=\"1\" stroke-width=\"3.2\"/>\n",
       "<circle clip-path=\"url(#clip142)\" cx=\"1288.92\" cy=\"248.442\" r=\"16\" fill=\"#3d0965\" fill-rule=\"evenodd\" fill-opacity=\"1\" stroke=\"#000000\" stroke-opacity=\"1\" stroke-width=\"3.2\"/>\n",
       "<circle clip-path=\"url(#clip142)\" cx=\"1839.09\" cy=\"86.1857\" r=\"28\" fill=\"#88226a\" fill-rule=\"evenodd\" fill-opacity=\"1\" stroke=\"#000000\" stroke-opacity=\"1\" stroke-width=\"3.2\"/>\n",
       "<circle clip-path=\"url(#clip142)\" cx=\"407.579\" cy=\"491.827\" r=\"6\" fill=\"#050418\" fill-rule=\"evenodd\" fill-opacity=\"1\" stroke=\"#000000\" stroke-opacity=\"1\" stroke-width=\"3.2\"/>\n",
       "<circle clip-path=\"url(#clip142)\" cx=\"297.188\" cy=\"491.827\" r=\"9\" fill=\"#120a33\" fill-rule=\"evenodd\" fill-opacity=\"1\" stroke=\"#000000\" stroke-opacity=\"1\" stroke-width=\"3.2\"/>\n",
       "<circle clip-path=\"url(#clip142)\" cx=\"1949.48\" cy=\"816.34\" r=\"9\" fill=\"#10092e\" fill-rule=\"evenodd\" fill-opacity=\"1\" stroke=\"#000000\" stroke-opacity=\"1\" stroke-width=\"3.2\"/>\n",
       "<circle clip-path=\"url(#clip142)\" cx=\"957.751\" cy=\"572.955\" r=\"6\" fill=\"#040315\" fill-rule=\"evenodd\" fill-opacity=\"1\" stroke=\"#000000\" stroke-opacity=\"1\" stroke-width=\"3.2\"/>\n",
       "<circle clip-path=\"url(#clip142)\" cx=\"957.751\" cy=\"1059.73\" r=\"6\" fill=\"#040315\" fill-rule=\"evenodd\" fill-opacity=\"1\" stroke=\"#000000\" stroke-opacity=\"1\" stroke-width=\"3.2\"/>\n",
       "<circle clip-path=\"url(#clip142)\" cx=\"628.36\" cy=\"1059.73\" r=\"5\" fill=\"#02010c\" fill-rule=\"evenodd\" fill-opacity=\"1\" stroke=\"#000000\" stroke-opacity=\"1\" stroke-width=\"3.2\"/>\n",
       "<circle clip-path=\"url(#clip142)\" cx=\"2059.88\" cy=\"735.212\" r=\"4\" fill=\"#010109\" fill-rule=\"evenodd\" fill-opacity=\"1\" stroke=\"#000000\" stroke-opacity=\"1\" stroke-width=\"3.2\"/>\n",
       "<circle clip-path=\"url(#clip142)\" cx=\"957.751\" cy=\"167.314\" r=\"30\" fill=\"#982765\" fill-rule=\"evenodd\" fill-opacity=\"1\" stroke=\"#000000\" stroke-opacity=\"1\" stroke-width=\"3.2\"/>\n",
       "<defs>\n",
       "  <clipPath id=\"clip143\">\n",
       "    <rect x=\"2160\" y=\"47\" width=\"73\" height=\"1377\"/>\n",
       "  </clipPath>\n",
       "</defs>\n",
       "<g clip-path=\"url(#clip143)\">\n",
       "<image width=\"72\" height=\"1376\" xlink:href=\"data:image/png;base64,\n",
       "iVBORw0KGgoAAAANSUhEUgAAAEgAAAVgCAYAAADsKhu7AAAL6UlEQVR4nO3dwZEjNxBFQVBR/lsh\n",
       "L6UFZIHqHclDpgUTL35wCXTP7Off+/c7/K+/vv0D/DqBgkBBoCBQmPv+/fbP8NMsKAgUBAoChXnv\n",
       "z7d/hp9mQUGgIFAQKAgUHDWCBQWBgkBBoDDPh/TKgoJAQaAgUJh3fUhvLCgIFAQKAgWBgqNGsKAg\n",
       "UBAoCBR8SAcLCgIFgYJAwX1QsKAgUBAoCBQECnMcNVYWFAQKAgWBgvugYEFBoCBQECgIFOa4MFtZ\n",
       "UBAoCBQECnPuP9/+GX6aBQWBgkBBoODSPlhQECgIFAQKAgX3QcGCgkBBoCBQ8CEdLCgIFAQKAgX3\n",
       "QcGCgkBBoCBQECjMx1FjZUFBoCBQECjMuf5XhI0FBYGCQEGgIFBw1AgWFAQKAgWBgqNGsKAgUBAo\n",
       "CBS8HxQsKAgUBAoCBYHCfBw1VhYUBAoCBYGCt1yDBQWBgkBBoOCbdLCgIFAQKAgUBAoePQcLCgIF\n",
       "gYJAwVEjWFAQKAgUBAoCBUeNYEFBoCBQECg4agQLCgIFgYJAYc693/4ZfpoFBYGCQEGgIFBw1AgW\n",
       "FAQKAgWBgkv7YEFBoCBQECj4kA4WFAQKAgWBgkBhPp5qrCwoCBQECgIFR41gQUGgIFAQKAgUvEAV\n",
       "LCgIFAQKAgX3QcGCgkBBoCBQcB8ULCgIFAQKAgWBgvugYEFBoCBQECj4kA4WFAQKAgWBgl/qDRYU\n",
       "BAoCBYGCQMFRI1hQECgIFAQKPqSDBQWBgkBBoCBQ8K9YsKAgUBAoCBR8SAcLCgIFgYJAYc7zIb2x\n",
       "oCBQECgIFAQKjhrBgoJAQaAgUPAhHSwoCBQECgIFH9LBgoJAQaAgUBAozLnv2z/DT7OgIFAQKAgU\n",
       "HDWCBQWBgkBBoCBQcNQIFhQECgIFgYKjRrCgIFAQKAgUfJMOFhQECgIFgYJAYY6TxsqCgkBBoCBQ\n",
       "mPMcNTYWFAQKAgWBgm/SwYKCQEGgIFAQKPhXLFhQECgIFAQK44/g7SwoCBQECgIFgYKjRrCgIFAQ\n",
       "KAgUfEgHCwoCBYGCQGHO/Xz7Z/hpFhQECgIFgYJAYd7zr9jGgoJAQaAgUHAfFCwoCBQECgIF90HB\n",
       "goJAQaAgUBAozLsabdQJAgWBgkDBUSNYUBAoCBQECgKFOR49rywoCBQECgKFeY4aKwsKAgWBgkBh\n",
       "jkv7lTpBoCBQECgIFBw1ggUFgYJAQaDg0j5YUBAoCBQECl7iDOoEgYJAQaAgUPCWa7CgIFAQKAgU\n",
       "XNoHCwoCBYGCQEGgMO9ptFEnCBQECgIF90HBgoJAQaAgUHAfFCwoCBQECgIFgcIc90ErdYJAQaAg\n",
       "UHDUCBYUBAoCBYGCD+lgQUGgIFAQKAgU/NZzsKAgUBAoCBT81nNQJwgUBAoCBYHCPEeNlQUFgYJA\n",
       "QaDgqUawoCBQECgIFPyvCEGdIFAQKAgUBArug4IFBYGCQEGg4D4oWFAQKAgUBAq+SQcLCgIFgYJA\n",
       "QaDgLdegThAoCBQECo4awYKCQEGgIFAQKHiqESwoCBQECgIFR41gQUGgIFAQKPiva4IFBYGCQEGg\n",
       "IFDwv2QGdYJAQaAgUHAfFCwoCBQECgIFT1aDBQWBgkBBoCBQcNQIFhQECgIFgcJcH9IrCwoCBYGC\n",
       "QEGg4LeegzpBoCBQECi4DwoWFAQKAgWBgg/pYEFBoCBQECgIFLxAFSwoCBQECgIFR41gQUGgIFAQ\n",
       "KPiQDhYUBAoCBYGCQMGfpgjqBIGCQEGgMNel/cqCgkBBoCBQECi4MAsWFAQKAgWBgg/pYEFBoCBQ\n",
       "ECj4kA4WFAQKAgWBgkDBH1gKFhQECgIFgYKjRrCgIFAQKAgUfEgHCwoCBYGCQEGg4FcRgjpBoCBQ\n",
       "ECj4VYRgQUGgIFAQKAgUXJgFCwoCBYGCQMGHdLCgIFAQKAgUvMQZLCgIFAQKAgWBgqNGsKAgUBAo\n",
       "CBTmHR/SGwsKAgWBgkDBfVCwoCBQECgIFAQK7oOCBQWBgkBBoOCoESwoCBQECgIFgYKjRrCgIFAQ\n",
       "KAgUHDWCBQWBgkBBoOCbdLCgIFAQKAgUBAr+FQsWFAQKAgWBwly/irCyoCBQECgIFHyTDhYUBAoC\n",
       "BYGCQMGj52BBQaAgUBAozHvf/hF+mwUFgYJAQaAgUHDUCBYUBAoCBYGCv4IXLCgIFAQKAgXfpIMF\n",
       "BYGCQEGgIFDwAlWwoCBQECgIFPwqQrCgIFAQKAgUvB8ULCgIFAQKAgWBgqcawYKCQEGgIFBwaR8s\n",
       "KAgUBAoCBYGCpxrBgoJAQaAgUHAfFCwoCBQECgIFj56DBQWBgkBBoCBQcB8ULCgIFAQKAgWPnoMF\n",
       "BYGCQEGgMPfbP8GPs6AgUBAoCBQECo4awYKCQEGgIFDwflCwoCBQECgIFAQKLsyCBQWBgkBBoOA+\n",
       "KFhQECgIFAQKvkkHCwoCBYGCQEGg4KgRLCgIFAQKAgWPnoMFBYGCQEGgMP4yxc6CgkBBoCBQECg4\n",
       "agQLCgIFgYJAwaPnYEFBoCBQECgIFDx6DhYUBAoCBYGCo0awoCBQECgIFHyTDhYUBAoCBYGCQGGu\n",
       "N6hWFhQECgIFgYL7oGBBQaAgUBAouA8KFhQECgIFgYJAwVEjWFAQKAgUBArzXNqvLCgIFAQKAgWB\n",
       "wtzjwmxjQUGgIFAQKHg/KFhQECgIFAQK/gpesKAgUBAoCBQECv4KXrCgIFAQKAgUPHoOFhQECgIF\n",
       "gYKXOIMFBYGCQEGgIFDwC3XBgoJAQaAgUHDUCBYUBAoCBYGCQMFbrsGCgkBBoCBQ8JZrsKAgUBAo\n",
       "CBR8kw4WFAQKAgWBgkDBW67BgoJAQaAgUPD3g4IFBYGCQEGg4D4oWFAQKAgUBAoCBY+egwUFgYJA\n",
       "QaDgqBEsKAgUBAoCBYGCo0awoCBQECgIFBw1ggUFgYJAQaDgQzpYUBAoCBQECgIF90HBgoJAQaAg\n",
       "UHDUCBYUBAoCBYGCb9LBgoJAQaAgUBAoOGoECwoCBYGCQMHfDwoWFAQKAgWBgkDB/+0TLCgIFAQK\n",
       "AgX3QcGCgkBBoCBQmHd8Sm8sKAgUBAoCBYGCo0awoCBQECgIFDx6DhYUBAoCBYGCJ6vBgoJAQaAg\n",
       "UBAouA8KFhQECgIFgYJHz8GCgkBBoCBQECg4agQLCgIFgYJAwR9YChYUBAoCBYHCXC8IrSwoCBQE\n",
       "CgIFgYIXqIIFBYGCQEGgMM9RY2VBQaAgUBAo+CYdLCgIFAQKAgWBgqcawYKCQEGgIFDwflCwoCBQ\n",
       "ECgIFAQKc/1C3cqCgkBBoCBQcB8ULCgIFAQKAgV/miJYUBAoCBQECgIFL1AFCwoCBYGCQMGlfbCg\n",
       "IFAQKAgU3AcFCwoCBYGCQEGgMPe4EdpYUBAoCBQECu6DggUFgYJAQaAgUPCvWLCgIFAQKAgUPNUI\n",
       "FhQECgIFgYJL+2BBQaAgUBAoCBTmfhw1NhYUBAoCBYGCo0awoCBQECgIFOb5kF5ZUBAoCBQECgIF\n",
       "R41gQUGgIFAQKMz9+JDeWFAQKAgUBAoCBUeNYEFBoCBQECh4qhEsKAgUBAoCBd+kgwUFgYJAQaAg\n",
       "UPCvWLCgIFAQKAgUPHoOFhQECgIFgcK88+fbP8NPs6AgUBAoCBQECu6DggUFgYJAQaDg/aBgQUGg\n",
       "IFAQKAgU5j4XZhsLCgIFgYJAwVEjWFAQKAgUBApzPXpeWVAQKAgUBAoCBUeNYEFBoCBQECg4agQL\n",
       "CgIFgYJAYd7zTXpjQUGgIFAQKAgU3AcFCwoCBYGCQMFLnMGCgkBBoCBQECg4agQLCgIFgYJAYZ6j\n",
       "xsqCgkBBoCBQ8E06WFAQKAgUBAoChbleoFpZUBAoCBQECv7gdrCgIFAQKAgU/CpCsKAgUBAoCBQE\n",
       "Cp5qBAsKAgWBgkDBUSNYUBAoCBQECgIF/4oFCwoCBYGCQMGj52BBQaAgUBAo+CYdLCgIFAQKAgWB\n",
       "whyPnlcWFAQKAgWBgqNGsKAgUBAoCBS8xBksKAgUBAoCBYHCHEeNlQUFgYJAQaDg/aBgQUGgIFAQ\n",
       "KAgUPHoOFhQECgIFgYL7oGBBQaAgUBAozDvv2z/DT7OgIFAQKAgUBArug4IFBYGCQEGgMMdRY2VB\n",
       "QaAgUBAo/AdhU+3PqlcPeQAAAABJRU5ErkJggg==\n",
       "\" transform=\"translate(2161, 47)\"/>\n",
       "</g>\n",
       "<path clip-path=\"url(#clip140)\" d=\"M 0 0 M2280.7 1392 Q2277.09 1392 2275.26 1395.57 Q2273.45 1399.11 2273.45 1406.24 Q2273.45 1413.35 2275.26 1416.91 Q2277.09 1420.45 2280.7 1420.45 Q2284.33 1420.45 2286.14 1416.91 Q2287.97 1413.35 2287.97 1406.24 Q2287.97 1399.11 2286.14 1395.57 Q2284.33 1392 2280.7 1392 M2280.7 1388.3 Q2286.51 1388.3 2289.57 1392.91 Q2292.64 1397.49 2292.64 1406.24 Q2292.64 1414.97 2289.57 1419.57 Q2286.51 1424.16 2280.7 1424.16 Q2274.89 1424.16 2271.81 1419.57 Q2268.76 1414.97 2268.76 1406.24 Q2268.76 1397.49 2271.81 1392.91 Q2274.89 1388.3 2280.7 1388.3 Z\" fill=\"#000000\" fill-rule=\"evenodd\" fill-opacity=\"1\" /><path clip-path=\"url(#clip140)\" d=\"M 0 0 M2297.71 1417.6 L2302.6 1417.6 L2302.6 1423.48 L2297.71 1423.48 L2297.71 1417.6 Z\" fill=\"#000000\" fill-rule=\"evenodd\" fill-opacity=\"1\" /><path clip-path=\"url(#clip140)\" d=\"M 0 0 M2320.51 1393 L2308.71 1411.45 L2320.51 1411.45 L2320.51 1393 M2319.29 1388.92 L2325.17 1388.92 L2325.17 1411.45 L2330.1 1411.45 L2330.1 1415.34 L2325.17 1415.34 L2325.17 1423.48 L2320.51 1423.48 L2320.51 1415.34 L2304.91 1415.34 L2304.91 1410.82 L2319.29 1388.92 Z\" fill=\"#000000\" fill-rule=\"evenodd\" fill-opacity=\"1\" /><path clip-path=\"url(#clip140)\" d=\"M 0 0 M2280.7 1160.06 Q2277.09 1160.06 2275.26 1163.63 Q2273.45 1167.17 2273.45 1174.3 Q2273.45 1181.4 2275.26 1184.97 Q2277.09 1188.51 2280.7 1188.51 Q2284.33 1188.51 2286.14 1184.97 Q2287.97 1181.4 2287.97 1174.3 Q2287.97 1167.17 2286.14 1163.63 Q2284.33 1160.06 2280.7 1160.06 M2280.7 1156.36 Q2286.51 1156.36 2289.57 1160.96 Q2292.64 1165.55 2292.64 1174.3 Q2292.64 1183.02 2289.57 1187.63 Q2286.51 1192.21 2280.7 1192.21 Q2274.89 1192.21 2271.81 1187.63 Q2268.76 1183.02 2268.76 1174.3 Q2268.76 1165.55 2271.81 1160.96 Q2274.89 1156.36 2280.7 1156.36 Z\" fill=\"#000000\" fill-rule=\"evenodd\" fill-opacity=\"1\" /><path clip-path=\"url(#clip140)\" d=\"M 0 0 M2297.71 1185.66 L2302.6 1185.66 L2302.6 1191.54 L2297.71 1191.54 L2297.71 1185.66 Z\" fill=\"#000000\" fill-rule=\"evenodd\" fill-opacity=\"1\" /><path clip-path=\"url(#clip140)\" d=\"M 0 0 M2307.71 1156.98 L2326.07 1156.98 L2326.07 1160.92 L2312 1160.92 L2312 1169.39 Q2313.01 1169.04 2314.03 1168.88 Q2315.05 1168.7 2316.07 1168.7 Q2321.86 1168.7 2325.24 1171.87 Q2328.62 1175.04 2328.62 1180.45 Q2328.62 1186.03 2325.14 1189.13 Q2321.67 1192.21 2315.35 1192.21 Q2313.18 1192.21 2310.91 1191.84 Q2308.66 1191.47 2306.26 1190.73 L2306.26 1186.03 Q2308.34 1187.17 2310.56 1187.72 Q2312.78 1188.28 2315.26 1188.28 Q2319.26 1188.28 2321.6 1186.17 Q2323.94 1184.07 2323.94 1180.45 Q2323.94 1176.84 2321.6 1174.74 Q2319.26 1172.63 2315.26 1172.63 Q2313.39 1172.63 2311.51 1173.05 Q2309.66 1173.46 2307.71 1174.34 L2307.71 1156.98 Z\" fill=\"#000000\" fill-rule=\"evenodd\" fill-opacity=\"1\" /><path clip-path=\"url(#clip140)\" d=\"M 0 0 M2280.7 928.119 Q2277.09 928.119 2275.26 931.684 Q2273.45 935.226 2273.45 942.355 Q2273.45 949.462 2275.26 953.026 Q2277.09 956.568 2280.7 956.568 Q2284.33 956.568 2286.14 953.026 Q2287.97 949.462 2287.97 942.355 Q2287.97 935.226 2286.14 931.684 Q2284.33 928.119 2280.7 928.119 M2280.7 924.415 Q2286.51 924.415 2289.57 929.022 Q2292.64 933.605 2292.64 942.355 Q2292.64 951.082 2289.57 955.688 Q2286.51 960.272 2280.7 960.272 Q2274.89 960.272 2271.81 955.688 Q2268.76 951.082 2268.76 942.355 Q2268.76 933.605 2271.81 929.022 Q2274.89 924.415 2280.7 924.415 Z\" fill=\"#000000\" fill-rule=\"evenodd\" fill-opacity=\"1\" /><path clip-path=\"url(#clip140)\" d=\"M 0 0 M2297.71 953.721 L2302.6 953.721 L2302.6 959.6 L2297.71 959.6 L2297.71 953.721 Z\" fill=\"#000000\" fill-rule=\"evenodd\" fill-opacity=\"1\" /><path clip-path=\"url(#clip140)\" d=\"M 0 0 M2318.25 940.457 Q2315.1 940.457 2313.25 942.61 Q2311.42 944.763 2311.42 948.513 Q2311.42 952.239 2313.25 954.415 Q2315.1 956.568 2318.25 956.568 Q2321.39 956.568 2323.22 954.415 Q2325.08 952.239 2325.08 948.513 Q2325.08 944.763 2323.22 942.61 Q2321.39 940.457 2318.25 940.457 M2327.53 925.804 L2327.53 930.064 Q2325.77 929.23 2323.96 928.79 Q2322.18 928.351 2320.42 928.351 Q2315.79 928.351 2313.34 931.476 Q2310.91 934.601 2310.56 940.92 Q2311.93 938.906 2313.99 937.841 Q2316.05 936.753 2318.52 936.753 Q2323.73 936.753 2326.74 939.925 Q2329.77 943.073 2329.77 948.513 Q2329.77 953.837 2326.63 957.054 Q2323.48 960.272 2318.25 960.272 Q2312.25 960.272 2309.08 955.688 Q2305.91 951.082 2305.91 942.355 Q2305.91 934.161 2309.8 929.3 Q2313.69 924.415 2320.24 924.415 Q2322 924.415 2323.78 924.763 Q2325.58 925.11 2327.53 925.804 Z\" fill=\"#000000\" fill-rule=\"evenodd\" fill-opacity=\"1\" /><path clip-path=\"url(#clip140)\" d=\"M 0 0 M2280.7 696.177 Q2277.09 696.177 2275.26 699.742 Q2273.45 703.284 2273.45 710.413 Q2273.45 717.52 2275.26 721.085 Q2277.09 724.626 2280.7 724.626 Q2284.33 724.626 2286.14 721.085 Q2287.97 717.52 2287.97 710.413 Q2287.97 703.284 2286.14 699.742 Q2284.33 696.177 2280.7 696.177 M2280.7 692.474 Q2286.51 692.474 2289.57 697.08 Q2292.64 701.663 2292.64 710.413 Q2292.64 719.14 2289.57 723.747 Q2286.51 728.33 2280.7 728.33 Q2274.89 728.33 2271.81 723.747 Q2268.76 719.14 2268.76 710.413 Q2268.76 701.663 2271.81 697.08 Q2274.89 692.474 2280.7 692.474 Z\" fill=\"#000000\" fill-rule=\"evenodd\" fill-opacity=\"1\" /><path clip-path=\"url(#clip140)\" d=\"M 0 0 M2297.71 721.779 L2302.6 721.779 L2302.6 727.659 L2297.71 727.659 L2297.71 721.779 Z\" fill=\"#000000\" fill-rule=\"evenodd\" fill-opacity=\"1\" /><path clip-path=\"url(#clip140)\" d=\"M 0 0 M2306.49 693.099 L2328.71 693.099 L2328.71 695.089 L2316.16 727.659 L2311.28 727.659 L2323.08 697.034 L2306.49 697.034 L2306.49 693.099 Z\" fill=\"#000000\" fill-rule=\"evenodd\" fill-opacity=\"1\" /><path clip-path=\"url(#clip140)\" d=\"M 0 0 M2280.7 464.235 Q2277.09 464.235 2275.26 467.8 Q2273.45 471.342 2273.45 478.471 Q2273.45 485.578 2275.26 489.143 Q2277.09 492.684 2280.7 492.684 Q2284.33 492.684 2286.14 489.143 Q2287.97 485.578 2287.97 478.471 Q2287.97 471.342 2286.14 467.8 Q2284.33 464.235 2280.7 464.235 M2280.7 460.532 Q2286.51 460.532 2289.57 465.138 Q2292.64 469.721 2292.64 478.471 Q2292.64 487.198 2289.57 491.805 Q2286.51 496.388 2280.7 496.388 Q2274.89 496.388 2271.81 491.805 Q2268.76 487.198 2268.76 478.471 Q2268.76 469.721 2271.81 465.138 Q2274.89 460.532 2280.7 460.532 Z\" fill=\"#000000\" fill-rule=\"evenodd\" fill-opacity=\"1\" /><path clip-path=\"url(#clip140)\" d=\"M 0 0 M2297.71 489.837 L2302.6 489.837 L2302.6 495.717 L2297.71 495.717 L2297.71 489.837 Z\" fill=\"#000000\" fill-rule=\"evenodd\" fill-opacity=\"1\" /><path clip-path=\"url(#clip140)\" d=\"M 0 0 M2317.67 479.305 Q2314.33 479.305 2312.41 481.087 Q2310.51 482.87 2310.51 485.995 Q2310.51 489.119 2312.41 490.902 Q2314.33 492.684 2317.67 492.684 Q2321 492.684 2322.92 490.902 Q2324.84 489.096 2324.84 485.995 Q2324.84 482.87 2322.92 481.087 Q2321.02 479.305 2317.67 479.305 M2312.99 477.314 Q2309.98 476.573 2308.29 474.513 Q2306.63 472.453 2306.63 469.49 Q2306.63 465.346 2309.57 462.939 Q2312.53 460.532 2317.67 460.532 Q2322.83 460.532 2325.77 462.939 Q2328.71 465.346 2328.71 469.49 Q2328.71 472.453 2327.02 474.513 Q2325.35 476.573 2322.37 477.314 Q2325.75 478.101 2327.62 480.393 Q2329.52 482.684 2329.52 485.995 Q2329.52 491.018 2326.44 493.703 Q2323.39 496.388 2317.67 496.388 Q2311.95 496.388 2308.87 493.703 Q2305.82 491.018 2305.82 485.995 Q2305.82 482.684 2307.71 480.393 Q2309.61 478.101 2312.99 477.314 M2311.28 469.93 Q2311.28 472.615 2312.95 474.12 Q2314.64 475.624 2317.67 475.624 Q2320.68 475.624 2322.37 474.12 Q2324.08 472.615 2324.08 469.93 Q2324.08 467.245 2322.37 465.74 Q2320.68 464.235 2317.67 464.235 Q2314.64 464.235 2312.95 465.74 Q2311.28 467.245 2311.28 469.93 Z\" fill=\"#000000\" fill-rule=\"evenodd\" fill-opacity=\"1\" /><path clip-path=\"url(#clip140)\" d=\"M 0 0 M2280.7 232.293 Q2277.09 232.293 2275.26 235.858 Q2273.45 239.4 2273.45 246.53 Q2273.45 253.636 2275.26 257.201 Q2277.09 260.742 2280.7 260.742 Q2284.33 260.742 2286.14 257.201 Q2287.97 253.636 2287.97 246.53 Q2287.97 239.4 2286.14 235.858 Q2284.33 232.293 2280.7 232.293 M2280.7 228.59 Q2286.51 228.59 2289.57 233.196 Q2292.64 237.78 2292.64 246.53 Q2292.64 255.256 2289.57 259.863 Q2286.51 264.446 2280.7 264.446 Q2274.89 264.446 2271.81 259.863 Q2268.76 255.256 2268.76 246.53 Q2268.76 237.78 2271.81 233.196 Q2274.89 228.59 2280.7 228.59 Z\" fill=\"#000000\" fill-rule=\"evenodd\" fill-opacity=\"1\" /><path clip-path=\"url(#clip140)\" d=\"M 0 0 M2297.71 257.895 L2302.6 257.895 L2302.6 263.775 L2297.71 263.775 L2297.71 257.895 Z\" fill=\"#000000\" fill-rule=\"evenodd\" fill-opacity=\"1\" /><path clip-path=\"url(#clip140)\" d=\"M 0 0 M2307.81 263.057 L2307.81 258.798 Q2309.57 259.631 2311.37 260.071 Q2313.18 260.511 2314.91 260.511 Q2319.54 260.511 2321.97 257.409 Q2324.43 254.284 2324.77 247.942 Q2323.43 249.932 2321.37 250.997 Q2319.31 252.062 2316.81 252.062 Q2311.63 252.062 2308.59 248.937 Q2305.58 245.789 2305.58 240.349 Q2305.58 235.025 2308.73 231.807 Q2311.88 228.59 2317.11 228.59 Q2323.11 228.59 2326.26 233.196 Q2329.43 237.78 2329.43 246.53 Q2329.43 254.701 2325.54 259.585 Q2321.67 264.446 2315.12 264.446 Q2313.36 264.446 2311.56 264.099 Q2309.75 263.752 2307.81 263.057 M2317.11 248.405 Q2320.26 248.405 2322.09 246.252 Q2323.94 244.099 2323.94 240.349 Q2323.94 236.622 2322.09 234.469 Q2320.26 232.293 2317.11 232.293 Q2313.96 232.293 2312.11 234.469 Q2310.28 236.622 2310.28 240.349 Q2310.28 244.099 2312.11 246.252 Q2313.96 248.405 2317.11 248.405 Z\" fill=\"#000000\" fill-rule=\"evenodd\" fill-opacity=\"1\" /><polyline clip-path=\"url(#clip140)\" style=\"stroke:#000000; stroke-width:4; stroke-opacity:1; fill:none\" points=\"\n",
       "  2232.76,1423.18 2232.76,1409.83 2256.76,1409.83 2232.76,1409.83 2232.76,1177.89 2256.76,1177.89 2232.76,1177.89 2232.76,945.949 2256.76,945.949 2232.76,945.949 \n",
       "  2232.76,714.007 2256.76,714.007 2232.76,714.007 2232.76,482.065 2256.76,482.065 2232.76,482.065 2232.76,250.124 2256.76,250.124 2232.76,250.124 2232.76,47.2441 \n",
       "  \n",
       "  \"/>\n",
       "</svg>\n"
      ]
     },
     "execution_count": 54,
     "metadata": {},
     "output_type": "execute_result"
    }
   ],
   "source": [
    "plot(self_tuning_nn)"
   ]
  },
  {
   "cell_type": "code",
   "execution_count": 55,
   "metadata": {},
   "outputs": [],
   "source": [
    "fn = \"Figures/NN_MCC_LR\"\n",
    "png(replace(fn,'.' => ','))"
   ]
  },
  {
   "cell_type": "code",
   "execution_count": 56,
   "metadata": {},
   "outputs": [
    {
     "data": {
      "text/plain": [
       "(best_model = \u001b[34mNeuralNetworkClassifier{CustomNN,…} @741\u001b[39m,\n",
       " best_fitted_params = (chain = Chain(Chain(Dense(41, 132, σ), Dense(132, 2, σ)), softmax),),)"
      ]
     },
     "execution_count": 56,
     "metadata": {},
     "output_type": "execute_result"
    }
   ],
   "source": [
    "best = fitted_params(self_tuning_nn)\n",
    "best"
   ]
  },
  {
   "cell_type": "code",
   "execution_count": 57,
   "metadata": {},
   "outputs": [
    {
     "data": {
      "text/plain": [
       "NeuralNetworkClassifier(\n",
       "    builder = CustomNN(\n",
       "            n1 = 132),\n",
       "    finaliser = NNlib.softmax,\n",
       "    optimiser = ADAM(0.01, (0.9, 0.999), IdDict{Any,Any}()),\n",
       "    loss = Flux.crossentropy,\n",
       "    epochs = 319,\n",
       "    batch_size = 16,\n",
       "    lambda = 0.01,\n",
       "    alpha = 0.0,\n",
       "    optimiser_changes_trigger_retraining = false)\u001b[34m @741\u001b[39m"
      ]
     },
     "execution_count": 57,
     "metadata": {},
     "output_type": "execute_result"
    }
   ],
   "source": [
    "best.best_model"
   ]
  },
  {
   "cell_type": "code",
   "execution_count": 58,
   "metadata": {
    "scrolled": true
   },
   "outputs": [
    {
     "data": {
      "text/plain": [
       "0.39424562f0"
      ]
     },
     "execution_count": 58,
     "metadata": {},
     "output_type": "execute_result"
    }
   ],
   "source": [
    "best_loss = z.report.best_result.measurement[1]"
   ]
  },
  {
   "cell_type": "code",
   "execution_count": 59,
   "metadata": {},
   "outputs": [
    {
     "data": {
      "text/plain": [
       "0.01"
      ]
     },
     "execution_count": 59,
     "metadata": {},
     "output_type": "execute_result"
    }
   ],
   "source": [
    "best_eta = round(best.best_model.optimiser.eta, digits=5)"
   ]
  },
  {
   "cell_type": "code",
   "execution_count": 60,
   "metadata": {},
   "outputs": [
    {
     "data": {
      "text/plain": [
       "319"
      ]
     },
     "execution_count": 60,
     "metadata": {},
     "output_type": "execute_result"
    }
   ],
   "source": [
    "best_epochs = best.best_model.epochs"
   ]
  },
  {
   "cell_type": "markdown",
   "metadata": {},
   "source": [
    "### GridSearch for Regularization"
   ]
  },
  {
   "cell_type": "code",
   "execution_count": 61,
   "metadata": {
    "scrolled": true
   },
   "outputs": [
    {
     "data": {
      "text/plain": [
       "NeuralNetworkClassifier(\n",
       "    builder = CustomNN(\n",
       "            n1 = 132),\n",
       "    finaliser = NNlib.softmax,\n",
       "    optimiser = ADAM(0.001, (0.9, 0.999), IdDict{Any,Any}()),\n",
       "    loss = Flux.crossentropy,\n",
       "    epochs = 10,\n",
       "    batch_size = 1,\n",
       "    lambda = 0.0,\n",
       "    alpha = 0.0,\n",
       "    optimiser_changes_trigger_retraining = false)\u001b[34m @819\u001b[39m"
      ]
     },
     "execution_count": 61,
     "metadata": {},
     "output_type": "execute_result"
    }
   ],
   "source": [
    "nn = NeuralNetworkClassifier(builder=CustomNN(best_n1))"
   ]
  },
  {
   "cell_type": "code",
   "execution_count": 62,
   "metadata": {},
   "outputs": [
    {
     "data": {
      "text/plain": [
       "0.01"
      ]
     },
     "execution_count": 62,
     "metadata": {},
     "output_type": "execute_result"
    }
   ],
   "source": [
    "nn.optimiser.eta = best_eta\n",
    "nn.epochs = 60\n",
    "nn.batch_size = batch_sz\n",
    "nn.lambda = 0.01"
   ]
  },
  {
   "cell_type": "code",
   "execution_count": 63,
   "metadata": {},
   "outputs": [
    {
     "name": "stderr",
     "output_type": "stream",
     "text": [
      "┌ Warning: The scitype of `X`, in `machine(model, X, ...)` is incompatible with `model=\u001b[34mNeuralNetworkClassifier{CustomNN,…} @819\u001b[39m`:\n",
      "│ scitype(X) = Table{Union{AbstractArray{Continuous,1}, AbstractArray{Count,1}}}\n",
      "│ input_scitype(model) = Table{var\"#s44\"} where var\"#s44\"<:(AbstractArray{var\"#s13\",1} where var\"#s13\"<:Continuous).\n",
      "└ @ MLJBase /home/andrew/.julia/packages/MLJBase/uKzAz/src/machines.jl:77\n"
     ]
    },
    {
     "data": {
      "text/plain": [
       "\u001b[34mMachine{NeuralNetworkClassifier{CustomNN,…}} @729\u001b[39m trained 0 times.\n",
       "  args: \n",
       "    1:\t\u001b[34mSource @455\u001b[39m ⏎ `Table{Union{AbstractArray{Continuous,1}, AbstractArray{Count,1}}}`\n",
       "    2:\t\u001b[34mSource @742\u001b[39m ⏎ `AbstractArray{Multiclass{2},1}`\n"
      ]
     },
     "execution_count": 63,
     "metadata": {},
     "output_type": "execute_result"
    }
   ],
   "source": [
    "Net = machine(nn, X_stand, y)"
   ]
  },
  {
   "cell_type": "code",
   "execution_count": 64,
   "metadata": {},
   "outputs": [
    {
     "data": {
      "text/plain": [
       "MLJBase.NumericRange(Float64, :lambda, ... )"
      ]
     },
     "execution_count": 64,
     "metadata": {},
     "output_type": "execute_result"
    }
   ],
   "source": [
    "param1 = :epochs\n",
    "param2 = :lambda\n",
    "\n",
    "r1 = range(nn, param1, lower=100, upper=max_epochs, scale=:linear)\n",
    "r2 = range(nn, param2, lower=0.0001, upper=1, scale=:log10)"
   ]
  },
  {
   "cell_type": "code",
   "execution_count": 65,
   "metadata": {
    "scrolled": true
   },
   "outputs": [
    {
     "data": {
      "text/plain": [
       "ProbabilisticTunedModel(\n",
       "    model = NeuralNetworkClassifier(\n",
       "            builder = \u001b[34mCustomNN @468\u001b[39m,\n",
       "            finaliser = NNlib.softmax,\n",
       "            optimiser = ADAM(0.01, (0.9, 0.999), IdDict{Any,Any}()),\n",
       "            loss = Flux.crossentropy,\n",
       "            epochs = 60,\n",
       "            batch_size = 16,\n",
       "            lambda = 0.01,\n",
       "            alpha = 0.0,\n",
       "            optimiser_changes_trigger_retraining = false),\n",
       "    tuning = Grid(\n",
       "            goal = 100,\n",
       "            resolution = 10,\n",
       "            shuffle = true,\n",
       "            rng = Random._GLOBAL_RNG()),\n",
       "    resampling = Holdout(\n",
       "            fraction_train = 0.7,\n",
       "            shuffle = false,\n",
       "            rng = Random._GLOBAL_RNG()),\n",
       "    measure = cross_entropy(\n",
       "            eps = 2.220446049250313e-16),\n",
       "    weights = nothing,\n",
       "    operation = MLJModelInterface.predict,\n",
       "    range = MLJBase.NumericRange{T,MLJBase.Bounded,Symbol} where T[\u001b[34mNumericRange{Int64,…} @034\u001b[39m, \u001b[34mNumericRange{Float64,…} @889\u001b[39m],\n",
       "    train_best = true,\n",
       "    repeats = 1,\n",
       "    n = nothing,\n",
       "    acceleration = CPUThreads{Int64}(1),\n",
       "    acceleration_resampling = CPU1{Nothing}(nothing),\n",
       "    check_measure = true)\u001b[34m @343\u001b[39m"
      ]
     },
     "execution_count": 65,
     "metadata": {},
     "output_type": "execute_result"
    }
   ],
   "source": [
    "self_tuning_nn_model = TunedModel(model=nn,\n",
    "                                    tuning=Grid(goal=100),\n",
    "                                    resampling=Holdout(fraction_train=0.7), \n",
    "                                    measure=cross_entropy,\n",
    "                                    acceleration=CPUThreads(),\n",
    "                                    range=[r1, r2])"
   ]
  },
  {
   "cell_type": "code",
   "execution_count": 66,
   "metadata": {},
   "outputs": [
    {
     "name": "stderr",
     "output_type": "stream",
     "text": [
      "┌ Warning: The scitype of `X`, in `machine(model, X, ...)` is incompatible with `model=\u001b[34mProbabilisticTunedModel{Grid,…} @343\u001b[39m`:\n",
      "│ scitype(X) = Table{Union{AbstractArray{Continuous,1}, AbstractArray{Count,1}}}\n",
      "│ input_scitype(model) = Table{var\"#s44\"} where var\"#s44\"<:(AbstractArray{var\"#s13\",1} where var\"#s13\"<:Continuous).\n",
      "└ @ MLJBase /home/andrew/.julia/packages/MLJBase/uKzAz/src/machines.jl:77\n"
     ]
    },
    {
     "data": {
      "text/plain": [
       "\u001b[34mMachine{ProbabilisticTunedModel{Grid,…}} @969\u001b[39m trained 0 times.\n",
       "  args: \n",
       "    1:\t\u001b[34mSource @308\u001b[39m ⏎ `Table{Union{AbstractArray{Continuous,1}, AbstractArray{Count,1}}}`\n",
       "    2:\t\u001b[34mSource @492\u001b[39m ⏎ `AbstractArray{Multiclass{2},1}`\n"
      ]
     },
     "execution_count": 66,
     "metadata": {},
     "output_type": "execute_result"
    }
   ],
   "source": [
    "self_tuning_nn = machine(self_tuning_nn_model, X_stand, y)"
   ]
  },
  {
   "cell_type": "code",
   "execution_count": 67,
   "metadata": {
    "scrolled": true
   },
   "outputs": [
    {
     "name": "stderr",
     "output_type": "stream",
     "text": [
      "┌ Info: Training \u001b[34mMachine{ProbabilisticTunedModel{Grid,…}} @969\u001b[39m.\n",
      "└ @ MLJBase /home/andrew/.julia/packages/MLJBase/uKzAz/src/machines.jl:319\n",
      "┌ Info: Attempting to evaluate 100 models.\n",
      "└ @ MLJTuning /home/andrew/.julia/packages/MLJTuning/Bbgvk/src/tuned_models.jl:494\n",
      "┌ Warning: The scitype of `X`, in `machine(model, X, ...)` is incompatible with `model=\u001b[34mResampler{Holdout,…} @679\u001b[39m`:\n",
      "│ scitype(X) = Table{Union{AbstractArray{Continuous,1}, AbstractArray{Count,1}}}\n",
      "│ input_scitype(model) = Table{var\"#s44\"} where var\"#s44\"<:(AbstractArray{var\"#s13\",1} where var\"#s13\"<:Continuous).\n",
      "└ @ MLJBase /home/andrew/.julia/packages/MLJBase/uKzAz/src/machines.jl:77\n",
      "\u001b[33mEvaluating over 100 metamodels:   0%[>                        ]  ETA: N/A\u001b[39m┌ Warning: The scitype of `X`, in `machine(model, X, ...)` is incompatible with `model=\u001b[34mNeuralNetworkClassifier{CustomNN,…} @101\u001b[39m`:\n",
      "│ scitype(X) = Table{Union{AbstractArray{Continuous,1}, AbstractArray{Count,1}}}\n",
      "│ input_scitype(model) = Table{var\"#s44\"} where var\"#s44\"<:(AbstractArray{var\"#s13\",1} where var\"#s13\"<:Continuous).\n",
      "└ @ MLJBase /home/andrew/.julia/packages/MLJBase/uKzAz/src/machines.jl:77\n",
      "\u001b[33mEvaluating over 100 metamodels: 100%[=========================] Time: 0:10:44\u001b[39m\n",
      "┌ Warning: The scitype of `X`, in `machine(model, X, ...)` is incompatible with `model=\u001b[34mNeuralNetworkClassifier{CustomNN,…} @622\u001b[39m`:\n",
      "│ scitype(X) = Table{Union{AbstractArray{Continuous,1}, AbstractArray{Count,1}}}\n",
      "│ input_scitype(model) = Table{var\"#s44\"} where var\"#s44\"<:(AbstractArray{var\"#s13\",1} where var\"#s13\"<:Continuous).\n",
      "└ @ MLJBase /home/andrew/.julia/packages/MLJBase/uKzAz/src/machines.jl:77\n"
     ]
    },
    {
     "data": {
      "text/plain": [
       "\u001b[34mMachine{ProbabilisticTunedModel{Grid,…}} @969\u001b[39m trained 1 time.\n",
       "  args: \n",
       "    1:\t\u001b[34mSource @308\u001b[39m ⏎ `Table{Union{AbstractArray{Continuous,1}, AbstractArray{Count,1}}}`\n",
       "    2:\t\u001b[34mSource @492\u001b[39m ⏎ `AbstractArray{Multiclass{2},1}`\n"
      ]
     },
     "execution_count": 67,
     "metadata": {},
     "output_type": "execute_result"
    }
   ],
   "source": [
    "z = fit!(self_tuning_nn, rows=train)"
   ]
  },
  {
   "cell_type": "code",
   "execution_count": 68,
   "metadata": {
    "scrolled": false
   },
   "outputs": [
    {
     "data": {
      "image/svg+xml": [
       "<?xml version=\"1.0\" encoding=\"utf-8\"?>\n",
       "<svg xmlns=\"http://www.w3.org/2000/svg\" xmlns:xlink=\"http://www.w3.org/1999/xlink\" width=\"600\" height=\"400\" viewBox=\"0 0 2400 1600\">\n",
       "<defs>\n",
       "  <clipPath id=\"clip190\">\n",
       "    <rect x=\"0\" y=\"0\" width=\"2400\" height=\"1600\"/>\n",
       "  </clipPath>\n",
       "</defs>\n",
       "<path clip-path=\"url(#clip190)\" d=\"\n",
       "M0 1600 L2400 1600 L2400 0 L0 0  Z\n",
       "  \" fill=\"#ffffff\" fill-rule=\"evenodd\" fill-opacity=\"1\"/>\n",
       "<defs>\n",
       "  <clipPath id=\"clip191\">\n",
       "    <rect x=\"480\" y=\"0\" width=\"1681\" height=\"1600\"/>\n",
       "  </clipPath>\n",
       "</defs>\n",
       "<path clip-path=\"url(#clip190)\" d=\"\n",
       "M244.308 1423.18 L2112.76 1423.18 L2112.76 47.2441 L244.308 47.2441  Z\n",
       "  \" fill=\"#ffffff\" fill-rule=\"evenodd\" fill-opacity=\"1\"/>\n",
       "<defs>\n",
       "  <clipPath id=\"clip192\">\n",
       "    <rect x=\"244\" y=\"47\" width=\"1869\" height=\"1377\"/>\n",
       "  </clipPath>\n",
       "</defs>\n",
       "<polyline clip-path=\"url(#clip192)\" style=\"stroke:#000000; stroke-width:2; stroke-opacity:0.1; fill:none\" points=\"\n",
       "  493.042,1423.18 493.042,47.2441 \n",
       "  \"/>\n",
       "<polyline clip-path=\"url(#clip192)\" style=\"stroke:#000000; stroke-width:2; stroke-opacity:0.1; fill:none\" points=\"\n",
       "  884.751,1423.18 884.751,47.2441 \n",
       "  \"/>\n",
       "<polyline clip-path=\"url(#clip192)\" style=\"stroke:#000000; stroke-width:2; stroke-opacity:0.1; fill:none\" points=\"\n",
       "  1276.46,1423.18 1276.46,47.2441 \n",
       "  \"/>\n",
       "<polyline clip-path=\"url(#clip192)\" style=\"stroke:#000000; stroke-width:2; stroke-opacity:0.1; fill:none\" points=\"\n",
       "  1668.17,1423.18 1668.17,47.2441 \n",
       "  \"/>\n",
       "<polyline clip-path=\"url(#clip192)\" style=\"stroke:#000000; stroke-width:2; stroke-opacity:0.1; fill:none\" points=\"\n",
       "  2059.88,1423.18 2059.88,47.2441 \n",
       "  \"/>\n",
       "<polyline clip-path=\"url(#clip192)\" style=\"stroke:#000000; stroke-width:2; stroke-opacity:0.1; fill:none\" points=\"\n",
       "  244.308,1384.24 2112.76,1384.24 \n",
       "  \"/>\n",
       "<polyline clip-path=\"url(#clip192)\" style=\"stroke:#000000; stroke-width:2; stroke-opacity:0.1; fill:none\" points=\"\n",
       "  244.308,1059.73 2112.76,1059.73 \n",
       "  \"/>\n",
       "<polyline clip-path=\"url(#clip192)\" style=\"stroke:#000000; stroke-width:2; stroke-opacity:0.1; fill:none\" points=\"\n",
       "  244.308,735.212 2112.76,735.212 \n",
       "  \"/>\n",
       "<polyline clip-path=\"url(#clip192)\" style=\"stroke:#000000; stroke-width:2; stroke-opacity:0.1; fill:none\" points=\"\n",
       "  244.308,410.699 2112.76,410.699 \n",
       "  \"/>\n",
       "<polyline clip-path=\"url(#clip192)\" style=\"stroke:#000000; stroke-width:2; stroke-opacity:0.1; fill:none\" points=\"\n",
       "  244.308,86.1857 2112.76,86.1857 \n",
       "  \"/>\n",
       "<polyline clip-path=\"url(#clip190)\" style=\"stroke:#000000; stroke-width:4; stroke-opacity:1; fill:none\" points=\"\n",
       "  244.308,1423.18 2112.76,1423.18 \n",
       "  \"/>\n",
       "<polyline clip-path=\"url(#clip190)\" style=\"stroke:#000000; stroke-width:4; stroke-opacity:1; fill:none\" points=\"\n",
       "  244.308,1423.18 244.308,47.2441 \n",
       "  \"/>\n",
       "<polyline clip-path=\"url(#clip190)\" style=\"stroke:#000000; stroke-width:4; stroke-opacity:1; fill:none\" points=\"\n",
       "  493.042,1423.18 493.042,1406.67 \n",
       "  \"/>\n",
       "<polyline clip-path=\"url(#clip190)\" style=\"stroke:#000000; stroke-width:4; stroke-opacity:1; fill:none\" points=\"\n",
       "  884.751,1423.18 884.751,1406.67 \n",
       "  \"/>\n",
       "<polyline clip-path=\"url(#clip190)\" style=\"stroke:#000000; stroke-width:4; stroke-opacity:1; fill:none\" points=\"\n",
       "  1276.46,1423.18 1276.46,1406.67 \n",
       "  \"/>\n",
       "<polyline clip-path=\"url(#clip190)\" style=\"stroke:#000000; stroke-width:4; stroke-opacity:1; fill:none\" points=\"\n",
       "  1668.17,1423.18 1668.17,1406.67 \n",
       "  \"/>\n",
       "<polyline clip-path=\"url(#clip190)\" style=\"stroke:#000000; stroke-width:4; stroke-opacity:1; fill:none\" points=\"\n",
       "  2059.88,1423.18 2059.88,1406.67 \n",
       "  \"/>\n",
       "<polyline clip-path=\"url(#clip190)\" style=\"stroke:#000000; stroke-width:4; stroke-opacity:1; fill:none\" points=\"\n",
       "  244.308,1384.24 266.729,1384.24 \n",
       "  \"/>\n",
       "<polyline clip-path=\"url(#clip190)\" style=\"stroke:#000000; stroke-width:4; stroke-opacity:1; fill:none\" points=\"\n",
       "  244.308,1059.73 266.729,1059.73 \n",
       "  \"/>\n",
       "<polyline clip-path=\"url(#clip190)\" style=\"stroke:#000000; stroke-width:4; stroke-opacity:1; fill:none\" points=\"\n",
       "  244.308,735.212 266.729,735.212 \n",
       "  \"/>\n",
       "<polyline clip-path=\"url(#clip190)\" style=\"stroke:#000000; stroke-width:4; stroke-opacity:1; fill:none\" points=\"\n",
       "  244.308,410.699 266.729,410.699 \n",
       "  \"/>\n",
       "<polyline clip-path=\"url(#clip190)\" style=\"stroke:#000000; stroke-width:4; stroke-opacity:1; fill:none\" points=\"\n",
       "  244.308,86.1857 266.729,86.1857 \n",
       "  \"/>\n",
       "<path clip-path=\"url(#clip190)\" d=\"M 0 0 M460.681 1472.72 L477.001 1472.72 L477.001 1476.65 L455.056 1476.65 L455.056 1472.72 Q457.719 1469.96 462.302 1465.33 Q466.908 1460.68 468.089 1459.34 Q470.334 1456.81 471.214 1455.08 Q472.117 1453.32 472.117 1451.63 Q472.117 1448.87 470.172 1447.14 Q468.251 1445.4 465.149 1445.4 Q462.95 1445.4 460.496 1446.17 Q458.066 1446.93 455.288 1448.48 L455.288 1443.76 Q458.112 1442.62 460.566 1442.05 Q463.019 1441.47 465.056 1441.47 Q470.427 1441.47 473.621 1444.15 Q476.816 1446.84 476.816 1451.33 Q476.816 1453.46 476.005 1455.38 Q475.218 1457.28 473.112 1459.87 Q472.533 1460.54 469.431 1463.76 Q466.33 1466.95 460.681 1472.72 Z\" fill=\"#000000\" fill-rule=\"evenodd\" fill-opacity=\"1\" /><path clip-path=\"url(#clip190)\" d=\"M 0 0 M492.07 1445.17 Q488.459 1445.17 486.63 1448.74 Q484.825 1452.28 484.825 1459.41 Q484.825 1466.51 486.63 1470.08 Q488.459 1473.62 492.07 1473.62 Q495.704 1473.62 497.51 1470.08 Q499.339 1466.51 499.339 1459.41 Q499.339 1452.28 497.51 1448.74 Q495.704 1445.17 492.07 1445.17 M492.07 1441.47 Q497.88 1441.47 500.936 1446.07 Q504.015 1450.66 504.015 1459.41 Q504.015 1468.13 500.936 1472.74 Q497.88 1477.32 492.07 1477.32 Q486.26 1477.32 483.181 1472.74 Q480.126 1468.13 480.126 1459.41 Q480.126 1450.66 483.181 1446.07 Q486.26 1441.47 492.07 1441.47 Z\" fill=\"#000000\" fill-rule=\"evenodd\" fill-opacity=\"1\" /><path clip-path=\"url(#clip190)\" d=\"M 0 0 M519.084 1445.17 Q515.473 1445.17 513.644 1448.74 Q511.839 1452.28 511.839 1459.41 Q511.839 1466.51 513.644 1470.08 Q515.473 1473.62 519.084 1473.62 Q522.718 1473.62 524.524 1470.08 Q526.352 1466.51 526.352 1459.41 Q526.352 1452.28 524.524 1448.74 Q522.718 1445.17 519.084 1445.17 M519.084 1441.47 Q524.894 1441.47 527.95 1446.07 Q531.028 1450.66 531.028 1459.41 Q531.028 1468.13 527.95 1472.74 Q524.894 1477.32 519.084 1477.32 Q513.274 1477.32 510.195 1472.74 Q507.14 1468.13 507.14 1459.41 Q507.14 1450.66 510.195 1446.07 Q513.274 1441.47 519.084 1441.47 Z\" fill=\"#000000\" fill-rule=\"evenodd\" fill-opacity=\"1\" /><path clip-path=\"url(#clip190)\" d=\"M 0 0 M860.746 1446.17 L848.941 1464.61 L860.746 1464.61 L860.746 1446.17 M859.519 1442.09 L865.399 1442.09 L865.399 1464.61 L870.329 1464.61 L870.329 1468.5 L865.399 1468.5 L865.399 1476.65 L860.746 1476.65 L860.746 1468.5 L845.144 1468.5 L845.144 1463.99 L859.519 1442.09 Z\" fill=\"#000000\" fill-rule=\"evenodd\" fill-opacity=\"1\" /><path clip-path=\"url(#clip190)\" d=\"M 0 0 M885.399 1445.17 Q881.788 1445.17 879.959 1448.74 Q878.153 1452.28 878.153 1459.41 Q878.153 1466.51 879.959 1470.08 Q881.788 1473.62 885.399 1473.62 Q889.033 1473.62 890.839 1470.08 Q892.667 1466.51 892.667 1459.41 Q892.667 1452.28 890.839 1448.74 Q889.033 1445.17 885.399 1445.17 M885.399 1441.47 Q891.209 1441.47 894.264 1446.07 Q897.343 1450.66 897.343 1459.41 Q897.343 1468.13 894.264 1472.74 Q891.209 1477.32 885.399 1477.32 Q879.589 1477.32 876.51 1472.74 Q873.454 1468.13 873.454 1459.41 Q873.454 1450.66 876.51 1446.07 Q879.589 1441.47 885.399 1441.47 Z\" fill=\"#000000\" fill-rule=\"evenodd\" fill-opacity=\"1\" /><path clip-path=\"url(#clip190)\" d=\"M 0 0 M912.413 1445.17 Q908.801 1445.17 906.973 1448.74 Q905.167 1452.28 905.167 1459.41 Q905.167 1466.51 906.973 1470.08 Q908.801 1473.62 912.413 1473.62 Q916.047 1473.62 917.852 1470.08 Q919.681 1466.51 919.681 1459.41 Q919.681 1452.28 917.852 1448.74 Q916.047 1445.17 912.413 1445.17 M912.413 1441.47 Q918.223 1441.47 921.278 1446.07 Q924.357 1450.66 924.357 1459.41 Q924.357 1468.13 921.278 1472.74 Q918.223 1477.32 912.413 1477.32 Q906.602 1477.32 903.524 1472.74 Q900.468 1468.13 900.468 1459.41 Q900.468 1450.66 903.524 1446.07 Q906.602 1441.47 912.413 1441.47 Z\" fill=\"#000000\" fill-rule=\"evenodd\" fill-opacity=\"1\" /><path clip-path=\"url(#clip190)\" d=\"M 0 0 M1249.85 1457.51 Q1246.7 1457.51 1244.85 1459.66 Q1243.02 1461.81 1243.02 1465.56 Q1243.02 1469.29 1244.85 1471.47 Q1246.7 1473.62 1249.85 1473.62 Q1253 1473.62 1254.83 1471.47 Q1256.68 1469.29 1256.68 1465.56 Q1256.68 1461.81 1254.83 1459.66 Q1253 1457.51 1249.85 1457.51 M1259.13 1442.86 L1259.13 1447.11 Q1257.37 1446.28 1255.57 1445.84 Q1253.79 1445.4 1252.03 1445.4 Q1247.4 1445.4 1244.94 1448.53 Q1242.51 1451.65 1242.17 1457.97 Q1243.53 1455.96 1245.59 1454.89 Q1247.65 1453.8 1250.13 1453.8 Q1255.34 1453.8 1258.35 1456.98 Q1261.38 1460.12 1261.38 1465.56 Q1261.38 1470.89 1258.23 1474.11 Q1255.08 1477.32 1249.85 1477.32 Q1243.85 1477.32 1240.68 1472.74 Q1237.51 1468.13 1237.51 1459.41 Q1237.51 1451.21 1241.4 1446.35 Q1245.29 1441.47 1251.84 1441.47 Q1253.6 1441.47 1255.38 1441.81 Q1257.19 1442.16 1259.13 1442.86 Z\" fill=\"#000000\" fill-rule=\"evenodd\" fill-opacity=\"1\" /><path clip-path=\"url(#clip190)\" d=\"M 0 0 M1276.45 1445.17 Q1272.84 1445.17 1271.01 1448.74 Q1269.2 1452.28 1269.2 1459.41 Q1269.2 1466.51 1271.01 1470.08 Q1272.84 1473.62 1276.45 1473.62 Q1280.08 1473.62 1281.89 1470.08 Q1283.72 1466.51 1283.72 1459.41 Q1283.72 1452.28 1281.89 1448.74 Q1280.08 1445.17 1276.45 1445.17 M1276.45 1441.47 Q1282.26 1441.47 1285.31 1446.07 Q1288.39 1450.66 1288.39 1459.41 Q1288.39 1468.13 1285.31 1472.74 Q1282.26 1477.32 1276.45 1477.32 Q1270.64 1477.32 1267.56 1472.74 Q1264.5 1468.13 1264.5 1459.41 Q1264.5 1450.66 1267.56 1446.07 Q1270.64 1441.47 1276.45 1441.47 Z\" fill=\"#000000\" fill-rule=\"evenodd\" fill-opacity=\"1\" /><path clip-path=\"url(#clip190)\" d=\"M 0 0 M1303.46 1445.17 Q1299.85 1445.17 1298.02 1448.74 Q1296.22 1452.28 1296.22 1459.41 Q1296.22 1466.51 1298.02 1470.08 Q1299.85 1473.62 1303.46 1473.62 Q1307.1 1473.62 1308.9 1470.08 Q1310.73 1466.51 1310.73 1459.41 Q1310.73 1452.28 1308.9 1448.74 Q1307.1 1445.17 1303.46 1445.17 M1303.46 1441.47 Q1309.27 1441.47 1312.33 1446.07 Q1315.41 1450.66 1315.41 1459.41 Q1315.41 1468.13 1312.33 1472.74 Q1309.27 1477.32 1303.46 1477.32 Q1297.65 1477.32 1294.57 1472.74 Q1291.52 1468.13 1291.52 1459.41 Q1291.52 1450.66 1294.57 1446.07 Q1297.65 1441.47 1303.46 1441.47 Z\" fill=\"#000000\" fill-rule=\"evenodd\" fill-opacity=\"1\" /><path clip-path=\"url(#clip190)\" d=\"M 0 0 M1641.15 1460.24 Q1637.82 1460.24 1635.9 1462.02 Q1634 1463.8 1634 1466.93 Q1634 1470.05 1635.9 1471.84 Q1637.82 1473.62 1641.15 1473.62 Q1644.49 1473.62 1646.41 1471.84 Q1648.33 1470.03 1648.33 1466.93 Q1648.33 1463.8 1646.41 1462.02 Q1644.51 1460.24 1641.15 1460.24 M1636.48 1458.25 Q1633.47 1457.51 1631.78 1455.45 Q1630.11 1453.39 1630.11 1450.43 Q1630.11 1446.28 1633.05 1443.87 Q1636.01 1441.47 1641.15 1441.47 Q1646.32 1441.47 1649.26 1443.87 Q1652.19 1446.28 1652.19 1450.43 Q1652.19 1453.39 1650.51 1455.45 Q1648.84 1457.51 1645.85 1458.25 Q1649.23 1459.04 1651.11 1461.33 Q1653.01 1463.62 1653.01 1466.93 Q1653.01 1471.95 1649.93 1474.64 Q1646.87 1477.32 1641.15 1477.32 Q1635.44 1477.32 1632.36 1474.64 Q1629.3 1471.95 1629.3 1466.93 Q1629.3 1463.62 1631.2 1461.33 Q1633.1 1459.04 1636.48 1458.25 M1634.76 1450.86 Q1634.76 1453.55 1636.43 1455.05 Q1638.12 1456.56 1641.15 1456.56 Q1644.16 1456.56 1645.85 1455.05 Q1647.57 1453.55 1647.57 1450.86 Q1647.57 1448.18 1645.85 1446.68 Q1644.16 1445.17 1641.15 1445.17 Q1638.12 1445.17 1636.43 1446.68 Q1634.76 1448.18 1634.76 1450.86 Z\" fill=\"#000000\" fill-rule=\"evenodd\" fill-opacity=\"1\" /><path clip-path=\"url(#clip190)\" d=\"M 0 0 M1668.07 1445.17 Q1664.46 1445.17 1662.63 1448.74 Q1660.83 1452.28 1660.83 1459.41 Q1660.83 1466.51 1662.63 1470.08 Q1664.46 1473.62 1668.07 1473.62 Q1671.71 1473.62 1673.51 1470.08 Q1675.34 1466.51 1675.34 1459.41 Q1675.34 1452.28 1673.51 1448.74 Q1671.71 1445.17 1668.07 1445.17 M1668.07 1441.47 Q1673.88 1441.47 1676.94 1446.07 Q1680.02 1450.66 1680.02 1459.41 Q1680.02 1468.13 1676.94 1472.74 Q1673.88 1477.32 1668.07 1477.32 Q1662.26 1477.32 1659.19 1472.74 Q1656.13 1468.13 1656.13 1459.41 Q1656.13 1450.66 1659.19 1446.07 Q1662.26 1441.47 1668.07 1441.47 Z\" fill=\"#000000\" fill-rule=\"evenodd\" fill-opacity=\"1\" /><path clip-path=\"url(#clip190)\" d=\"M 0 0 M1695.09 1445.17 Q1691.48 1445.17 1689.65 1448.74 Q1687.84 1452.28 1687.84 1459.41 Q1687.84 1466.51 1689.65 1470.08 Q1691.48 1473.62 1695.09 1473.62 Q1698.72 1473.62 1700.53 1470.08 Q1702.36 1466.51 1702.36 1459.41 Q1702.36 1452.28 1700.53 1448.74 Q1698.72 1445.17 1695.09 1445.17 M1695.09 1441.47 Q1700.9 1441.47 1703.95 1446.07 Q1707.03 1450.66 1707.03 1459.41 Q1707.03 1468.13 1703.95 1472.74 Q1700.9 1477.32 1695.09 1477.32 Q1689.28 1477.32 1686.2 1472.74 Q1683.14 1468.13 1683.14 1459.41 Q1683.14 1450.66 1686.2 1446.07 Q1689.28 1441.47 1695.09 1441.47 Z\" fill=\"#000000\" fill-rule=\"evenodd\" fill-opacity=\"1\" /><path clip-path=\"url(#clip190)\" d=\"M 0 0 M2009.74 1472.72 L2017.38 1472.72 L2017.38 1446.35 L2009.07 1448.02 L2009.07 1443.76 L2017.33 1442.09 L2022.01 1442.09 L2022.01 1472.72 L2029.64 1472.72 L2029.64 1476.65 L2009.74 1476.65 L2009.74 1472.72 Z\" fill=\"#000000\" fill-rule=\"evenodd\" fill-opacity=\"1\" /><path clip-path=\"url(#clip190)\" d=\"M 0 0 M2044.71 1445.17 Q2041.1 1445.17 2039.27 1448.74 Q2037.47 1452.28 2037.47 1459.41 Q2037.47 1466.51 2039.27 1470.08 Q2041.1 1473.62 2044.71 1473.62 Q2048.35 1473.62 2050.15 1470.08 Q2051.98 1466.51 2051.98 1459.41 Q2051.98 1452.28 2050.15 1448.74 Q2048.35 1445.17 2044.71 1445.17 M2044.71 1441.47 Q2050.52 1441.47 2053.58 1446.07 Q2056.66 1450.66 2056.66 1459.41 Q2056.66 1468.13 2053.58 1472.74 Q2050.52 1477.32 2044.71 1477.32 Q2038.9 1477.32 2035.82 1472.74 Q2032.77 1468.13 2032.77 1459.41 Q2032.77 1450.66 2035.82 1446.07 Q2038.9 1441.47 2044.71 1441.47 Z\" fill=\"#000000\" fill-rule=\"evenodd\" fill-opacity=\"1\" /><path clip-path=\"url(#clip190)\" d=\"M 0 0 M2071.73 1445.17 Q2068.12 1445.17 2066.29 1448.74 Q2064.48 1452.28 2064.48 1459.41 Q2064.48 1466.51 2066.29 1470.08 Q2068.12 1473.62 2071.73 1473.62 Q2075.36 1473.62 2077.17 1470.08 Q2079 1466.51 2079 1459.41 Q2079 1452.28 2077.17 1448.74 Q2075.36 1445.17 2071.73 1445.17 M2071.73 1441.47 Q2077.54 1441.47 2080.59 1446.07 Q2083.67 1450.66 2083.67 1459.41 Q2083.67 1468.13 2080.59 1472.74 Q2077.54 1477.32 2071.73 1477.32 Q2065.92 1477.32 2062.84 1472.74 Q2059.78 1468.13 2059.78 1459.41 Q2059.78 1450.66 2062.84 1446.07 Q2065.92 1441.47 2071.73 1441.47 Z\" fill=\"#000000\" fill-rule=\"evenodd\" fill-opacity=\"1\" /><path clip-path=\"url(#clip190)\" d=\"M 0 0 M2098.74 1445.17 Q2095.13 1445.17 2093.3 1448.74 Q2091.5 1452.28 2091.5 1459.41 Q2091.5 1466.51 2093.3 1470.08 Q2095.13 1473.62 2098.74 1473.62 Q2102.38 1473.62 2104.18 1470.08 Q2106.01 1466.51 2106.01 1459.41 Q2106.01 1452.28 2104.18 1448.74 Q2102.38 1445.17 2098.74 1445.17 M2098.74 1441.47 Q2104.55 1441.47 2107.61 1446.07 Q2110.69 1450.66 2110.69 1459.41 Q2110.69 1468.13 2107.61 1472.74 Q2104.55 1477.32 2098.74 1477.32 Q2092.93 1477.32 2089.85 1472.74 Q2086.8 1468.13 2086.8 1459.41 Q2086.8 1450.66 2089.85 1446.07 Q2092.93 1441.47 2098.74 1441.47 Z\" fill=\"#000000\" fill-rule=\"evenodd\" fill-opacity=\"1\" /><path clip-path=\"url(#clip190)\" d=\"M 0 0 M126.931 1404.03 L134.57 1404.03 L134.57 1377.67 L126.26 1379.33 L126.26 1375.07 L134.524 1373.41 L139.2 1373.41 L139.2 1404.03 L146.839 1404.03 L146.839 1407.97 L126.931 1407.97 L126.931 1404.03 Z\" fill=\"#000000\" fill-rule=\"evenodd\" fill-opacity=\"1\" /><path clip-path=\"url(#clip190)\" d=\"M 0 0 M161.908 1376.48 Q158.297 1376.48 156.468 1380.05 Q154.663 1383.59 154.663 1390.72 Q154.663 1397.83 156.468 1401.39 Q158.297 1404.93 161.908 1404.93 Q165.542 1404.93 167.348 1401.39 Q169.177 1397.83 169.177 1390.72 Q169.177 1383.59 167.348 1380.05 Q165.542 1376.48 161.908 1376.48 M161.908 1372.78 Q167.718 1372.78 170.774 1377.39 Q173.852 1381.97 173.852 1390.72 Q173.852 1399.45 170.774 1404.05 Q167.718 1408.64 161.908 1408.64 Q156.098 1408.64 153.019 1404.05 Q149.964 1399.45 149.964 1390.72 Q149.964 1381.97 153.019 1377.39 Q156.098 1372.78 161.908 1372.78 Z\" fill=\"#000000\" fill-rule=\"evenodd\" fill-opacity=\"1\" /><path clip-path=\"url(#clip190)\" d=\"M 0 0 M173.852 1366.88 L197.964 1366.88 L197.964 1370.08 L173.852 1370.08 L173.852 1366.88 Z\" fill=\"#000000\" fill-rule=\"evenodd\" fill-opacity=\"1\" /><path clip-path=\"url(#clip190)\" d=\"M 0 0 M212.521 1355.79 L202.929 1370.78 L212.521 1370.78 L212.521 1355.79 M211.524 1352.48 L216.302 1352.48 L216.302 1370.78 L220.308 1370.78 L220.308 1373.94 L216.302 1373.94 L216.302 1380.56 L212.521 1380.56 L212.521 1373.94 L199.845 1373.94 L199.845 1370.27 L211.524 1352.48 Z\" fill=\"#000000\" fill-rule=\"evenodd\" fill-opacity=\"1\" /><path clip-path=\"url(#clip190)\" d=\"M 0 0 M127.853 1079.52 L135.492 1079.52 L135.492 1053.15 L127.182 1054.82 L127.182 1050.56 L135.446 1048.89 L140.121 1048.89 L140.121 1079.52 L147.76 1079.52 L147.76 1083.45 L127.853 1083.45 L127.853 1079.52 Z\" fill=\"#000000\" fill-rule=\"evenodd\" fill-opacity=\"1\" /><path clip-path=\"url(#clip190)\" d=\"M 0 0 M162.83 1051.97 Q159.219 1051.97 157.39 1055.54 Q155.584 1059.08 155.584 1066.21 Q155.584 1073.31 157.39 1076.88 Q159.219 1080.42 162.83 1080.42 Q166.464 1080.42 168.269 1076.88 Q170.098 1073.31 170.098 1066.21 Q170.098 1059.08 168.269 1055.54 Q166.464 1051.97 162.83 1051.97 M162.83 1048.27 Q168.64 1048.27 171.695 1052.87 Q174.774 1057.46 174.774 1066.21 Q174.774 1074.93 171.695 1079.54 Q168.64 1084.12 162.83 1084.12 Q157.02 1084.12 153.941 1079.54 Q150.885 1074.93 150.885 1066.21 Q150.885 1057.46 153.941 1052.87 Q157.02 1048.27 162.83 1048.27 Z\" fill=\"#000000\" fill-rule=\"evenodd\" fill-opacity=\"1\" /><path clip-path=\"url(#clip190)\" d=\"M 0 0 M174.774 1042.37 L198.886 1042.37 L198.886 1045.57 L174.774 1045.57 L174.774 1042.37 Z\" fill=\"#000000\" fill-rule=\"evenodd\" fill-opacity=\"1\" /><path clip-path=\"url(#clip190)\" d=\"M 0 0 M214.515 1040.9 Q217.242 1041.49 218.765 1043.33 Q220.308 1045.17 220.308 1047.88 Q220.308 1052.04 217.449 1054.31 Q214.59 1056.59 209.324 1056.59 Q207.556 1056.59 205.675 1056.23 Q203.813 1055.89 201.82 1055.2 L201.82 1051.53 Q203.4 1052.45 205.28 1052.92 Q207.161 1053.39 209.211 1053.39 Q212.785 1053.39 214.647 1051.98 Q216.527 1050.57 216.527 1047.88 Q216.527 1045.4 214.778 1044.01 Q213.048 1042.59 209.945 1042.59 L206.672 1042.59 L206.672 1039.47 L210.095 1039.47 Q212.897 1039.47 214.383 1038.36 Q215.869 1037.23 215.869 1035.13 Q215.869 1032.97 214.327 1031.82 Q212.803 1030.65 209.945 1030.65 Q208.384 1030.65 206.597 1030.99 Q204.81 1031.33 202.666 1032.04 L202.666 1028.66 Q204.829 1028.06 206.71 1027.76 Q208.609 1027.45 210.283 1027.45 Q214.609 1027.45 217.129 1029.43 Q219.649 1031.39 219.649 1034.73 Q219.649 1037.07 218.314 1038.68 Q216.979 1040.28 214.515 1040.9 Z\" fill=\"#000000\" fill-rule=\"evenodd\" fill-opacity=\"1\" /><path clip-path=\"url(#clip190)\" d=\"M 0 0 M128.624 755.004 L136.263 755.004 L136.263 728.639 L127.953 730.305 L127.953 726.046 L136.217 724.38 L140.893 724.38 L140.893 755.004 L148.531 755.004 L148.531 758.94 L128.624 758.94 L128.624 755.004 Z\" fill=\"#000000\" fill-rule=\"evenodd\" fill-opacity=\"1\" /><path clip-path=\"url(#clip190)\" d=\"M 0 0 M163.601 727.458 Q159.99 727.458 158.161 731.023 Q156.355 734.565 156.355 741.694 Q156.355 748.801 158.161 752.366 Q159.99 755.907 163.601 755.907 Q167.235 755.907 169.041 752.366 Q170.869 748.801 170.869 741.694 Q170.869 734.565 169.041 731.023 Q167.235 727.458 163.601 727.458 M163.601 723.755 Q169.411 723.755 172.467 728.361 Q175.545 732.944 175.545 741.694 Q175.545 750.421 172.467 755.028 Q169.411 759.611 163.601 759.611 Q157.791 759.611 154.712 755.028 Q151.656 750.421 151.656 741.694 Q151.656 732.944 154.712 728.361 Q157.791 723.755 163.601 723.755 Z\" fill=\"#000000\" fill-rule=\"evenodd\" fill-opacity=\"1\" /><path clip-path=\"url(#clip190)\" d=\"M 0 0 M175.545 717.856 L199.657 717.856 L199.657 721.053 L175.545 721.053 L175.545 717.856 Z\" fill=\"#000000\" fill-rule=\"evenodd\" fill-opacity=\"1\" /><path clip-path=\"url(#clip190)\" d=\"M 0 0 M207.048 728.332 L220.308 728.332 L220.308 731.529 L202.478 731.529 L202.478 728.332 Q204.641 726.094 208.365 722.332 Q212.107 718.552 213.067 717.461 Q214.891 715.411 215.606 714 Q216.339 712.571 216.339 711.198 Q216.339 708.96 214.759 707.549 Q213.198 706.139 210.678 706.139 Q208.891 706.139 206.898 706.759 Q204.923 707.38 202.666 708.64 L202.666 704.803 Q204.961 703.882 206.954 703.412 Q208.948 702.941 210.603 702.941 Q214.966 702.941 217.562 705.123 Q220.157 707.305 220.157 710.953 Q220.157 712.684 219.499 714.245 Q218.859 715.787 217.148 717.894 Q216.678 718.439 214.158 721.053 Q211.637 723.649 207.048 728.332 Z\" fill=\"#000000\" fill-rule=\"evenodd\" fill-opacity=\"1\" /><path clip-path=\"url(#clip190)\" d=\"M 0 0 M128.323 430.491 L135.962 430.491 L135.962 404.126 L127.652 405.792 L127.652 401.533 L135.916 399.866 L140.592 399.866 L140.592 430.491 L148.231 430.491 L148.231 434.426 L128.323 434.426 L128.323 430.491 Z\" fill=\"#000000\" fill-rule=\"evenodd\" fill-opacity=\"1\" /><path clip-path=\"url(#clip190)\" d=\"M 0 0 M163.3 402.945 Q159.689 402.945 157.86 406.51 Q156.055 410.052 156.055 417.181 Q156.055 424.288 157.86 427.852 Q159.689 431.394 163.3 431.394 Q166.934 431.394 168.74 427.852 Q170.568 424.288 170.568 417.181 Q170.568 410.052 168.74 406.51 Q166.934 402.945 163.3 402.945 M163.3 399.241 Q169.11 399.241 172.166 403.848 Q175.244 408.431 175.244 417.181 Q175.244 425.908 172.166 430.514 Q169.11 435.098 163.3 435.098 Q157.49 435.098 154.411 430.514 Q151.356 425.908 151.356 417.181 Q151.356 408.431 154.411 403.848 Q157.49 399.241 163.3 399.241 Z\" fill=\"#000000\" fill-rule=\"evenodd\" fill-opacity=\"1\" /><path clip-path=\"url(#clip190)\" d=\"M 0 0 M175.244 393.343 L199.356 393.343 L199.356 396.54 L175.244 396.54 L175.244 393.343 Z\" fill=\"#000000\" fill-rule=\"evenodd\" fill-opacity=\"1\" /><path clip-path=\"url(#clip190)\" d=\"M 0 0 M204.133 403.819 L210.34 403.819 L210.34 382.397 L203.588 383.751 L203.588 380.29 L210.302 378.936 L214.101 378.936 L214.101 403.819 L220.308 403.819 L220.308 407.016 L204.133 407.016 L204.133 403.819 Z\" fill=\"#000000\" fill-rule=\"evenodd\" fill-opacity=\"1\" /><path clip-path=\"url(#clip190)\" d=\"M 0 0 M153.977 105.978 L161.616 105.978 L161.616 79.6125 L153.306 81.2792 L153.306 77.0199 L161.57 75.3533 L166.245 75.3533 L166.245 105.978 L173.884 105.978 L173.884 109.913 L153.977 109.913 L153.977 105.978 Z\" fill=\"#000000\" fill-rule=\"evenodd\" fill-opacity=\"1\" /><path clip-path=\"url(#clip190)\" d=\"M 0 0 M188.954 78.432 Q185.343 78.432 183.514 81.9968 Q181.708 85.5384 181.708 92.668 Q181.708 99.7744 183.514 103.339 Q185.343 106.881 188.954 106.881 Q192.588 106.881 194.393 103.339 Q196.222 99.7744 196.222 92.668 Q196.222 85.5384 194.393 81.9968 Q192.588 78.432 188.954 78.432 M188.954 74.7283 Q194.764 74.7283 197.819 79.3347 Q200.898 83.918 200.898 92.668 Q200.898 101.395 197.819 106.001 Q194.764 110.585 188.954 110.585 Q183.144 110.585 180.065 106.001 Q177.009 101.395 177.009 92.668 Q177.009 83.918 180.065 79.3347 Q183.144 74.7283 188.954 74.7283 Z\" fill=\"#000000\" fill-rule=\"evenodd\" fill-opacity=\"1\" /><path clip-path=\"url(#clip190)\" d=\"M 0 0 M210.603 56.9243 Q207.669 56.9243 206.183 59.8207 Q204.716 62.6983 204.716 68.4911 Q204.716 74.2651 206.183 77.1615 Q207.669 80.0391 210.603 80.0391 Q213.556 80.0391 215.023 77.1615 Q216.509 74.2651 216.509 68.4911 Q216.509 62.6983 215.023 59.8207 Q213.556 56.9243 210.603 56.9243 M210.603 53.9151 Q215.324 53.9151 217.806 57.6578 Q220.308 61.3817 220.308 68.4911 Q220.308 75.5816 217.806 79.3244 Q215.324 83.0483 210.603 83.0483 Q205.882 83.0483 203.381 79.3244 Q200.898 75.5816 200.898 68.4911 Q200.898 61.3817 203.381 57.6578 Q205.882 53.9151 210.603 53.9151 Z\" fill=\"#000000\" fill-rule=\"evenodd\" fill-opacity=\"1\" /><path clip-path=\"url(#clip190)\" d=\"M 0 0 M1108.81 1536.76 L1108.81 1539.62 L1081.88 1539.62 Q1082.27 1545.67 1085.51 1548.85 Q1088.79 1552 1094.62 1552 Q1097.99 1552 1101.14 1551.17 Q1104.32 1550.35 1107.44 1548.69 L1107.44 1554.23 Q1104.29 1555.57 1100.98 1556.27 Q1097.67 1556.97 1094.27 1556.97 Q1085.74 1556.97 1080.74 1552 Q1075.77 1547.04 1075.77 1538.57 Q1075.77 1529.82 1080.48 1524.69 Q1085.23 1519.54 1093.25 1519.54 Q1100.44 1519.54 1104.61 1524.18 Q1108.81 1528.8 1108.81 1536.76 M1102.95 1535.04 Q1102.89 1530.23 1100.25 1527.37 Q1097.64 1524.5 1093.31 1524.5 Q1088.41 1524.5 1085.45 1527.27 Q1082.52 1530.04 1082.08 1535.07 L1102.95 1535.04 Z\" fill=\"#000000\" fill-rule=\"evenodd\" fill-opacity=\"1\" /><path clip-path=\"url(#clip190)\" d=\"M 0 0 M1120.62 1550.7 L1120.62 1569.6 L1114.73 1569.6 L1114.73 1520.4 L1120.62 1520.4 L1120.62 1525.81 Q1122.47 1522.62 1125.27 1521.1 Q1128.1 1519.54 1132.01 1519.54 Q1138.51 1519.54 1142.55 1524.69 Q1146.62 1529.85 1146.62 1538.25 Q1146.62 1546.65 1142.55 1551.81 Q1138.51 1556.97 1132.01 1556.97 Q1128.1 1556.97 1125.27 1555.44 Q1122.47 1553.88 1120.62 1550.7 M1140.54 1538.25 Q1140.54 1531.79 1137.87 1528.13 Q1135.23 1524.44 1130.58 1524.44 Q1125.94 1524.44 1123.26 1528.13 Q1120.62 1531.79 1120.62 1538.25 Q1120.62 1544.71 1123.26 1548.4 Q1125.94 1552.07 1130.58 1552.07 Q1135.23 1552.07 1137.87 1548.4 Q1140.54 1544.71 1140.54 1538.25 Z\" fill=\"#000000\" fill-rule=\"evenodd\" fill-opacity=\"1\" /><path clip-path=\"url(#clip190)\" d=\"M 0 0 M1166.58 1524.5 Q1161.87 1524.5 1159.13 1528.19 Q1156.4 1531.85 1156.4 1538.25 Q1156.4 1544.65 1159.1 1548.34 Q1161.84 1552 1166.58 1552 Q1171.26 1552 1174 1548.31 Q1176.73 1544.62 1176.73 1538.25 Q1176.73 1531.92 1174 1528.23 Q1171.26 1524.5 1166.58 1524.5 M1166.58 1519.54 Q1174.22 1519.54 1178.58 1524.5 Q1182.94 1529.47 1182.94 1538.25 Q1182.94 1547 1178.58 1552 Q1174.22 1556.97 1166.58 1556.97 Q1158.91 1556.97 1154.55 1552 Q1150.22 1547 1150.22 1538.25 Q1150.22 1529.47 1154.55 1524.5 Q1158.91 1519.54 1166.58 1519.54 Z\" fill=\"#000000\" fill-rule=\"evenodd\" fill-opacity=\"1\" /><path clip-path=\"url(#clip190)\" d=\"M 0 0 M1214.74 1521.76 L1214.74 1527.24 Q1212.25 1525.87 1209.74 1525.2 Q1207.26 1524.5 1204.71 1524.5 Q1199.01 1524.5 1195.86 1528.13 Q1192.71 1531.73 1192.71 1538.25 Q1192.71 1544.78 1195.86 1548.4 Q1199.01 1552 1204.71 1552 Q1207.26 1552 1209.74 1551.33 Q1212.25 1550.63 1214.74 1549.26 L1214.74 1554.68 Q1212.29 1555.82 1209.64 1556.39 Q1207.03 1556.97 1204.07 1556.97 Q1196.02 1556.97 1191.28 1551.91 Q1186.54 1546.85 1186.54 1538.25 Q1186.54 1529.53 1191.31 1524.53 Q1196.12 1519.54 1204.46 1519.54 Q1207.16 1519.54 1209.74 1520.11 Q1212.32 1520.65 1214.74 1521.76 Z\" fill=\"#000000\" fill-rule=\"evenodd\" fill-opacity=\"1\" /><path clip-path=\"url(#clip190)\" d=\"M 0 0 M1250.51 1534.53 L1250.51 1556.04 L1244.66 1556.04 L1244.66 1534.72 Q1244.66 1529.66 1242.68 1527.14 Q1240.71 1524.63 1236.76 1524.63 Q1232.02 1524.63 1229.28 1527.65 Q1226.55 1530.68 1226.55 1535.9 L1226.55 1556.04 L1220.66 1556.04 L1220.66 1506.52 L1226.55 1506.52 L1226.55 1525.93 Q1228.65 1522.72 1231.48 1521.13 Q1234.34 1519.54 1238.07 1519.54 Q1244.21 1519.54 1247.36 1523.36 Q1250.51 1527.14 1250.51 1534.53 Z\" fill=\"#000000\" fill-rule=\"evenodd\" fill-opacity=\"1\" /><path clip-path=\"url(#clip190)\" d=\"M 0 0 M1279.38 1521.45 L1279.38 1526.98 Q1276.9 1525.71 1274.22 1525.07 Q1271.55 1524.44 1268.69 1524.44 Q1264.33 1524.44 1262.13 1525.77 Q1259.97 1527.11 1259.97 1529.79 Q1259.97 1531.82 1261.52 1533 Q1263.08 1534.15 1267.79 1535.2 L1269.8 1535.64 Q1276.04 1536.98 1278.65 1539.43 Q1281.29 1541.85 1281.29 1546.21 Q1281.29 1551.17 1277.34 1554.07 Q1273.43 1556.97 1266.55 1556.97 Q1263.69 1556.97 1260.57 1556.39 Q1257.48 1555.85 1254.04 1554.74 L1254.04 1548.69 Q1257.29 1550.38 1260.44 1551.24 Q1263.59 1552.07 1266.68 1552.07 Q1270.82 1552.07 1273.05 1550.66 Q1275.27 1549.23 1275.27 1546.65 Q1275.27 1544.27 1273.65 1542.99 Q1272.06 1541.72 1266.62 1540.54 L1264.58 1540.07 Q1259.14 1538.92 1256.72 1536.56 Q1254.3 1534.18 1254.3 1530.04 Q1254.3 1525.01 1257.86 1522.27 Q1261.43 1519.54 1267.99 1519.54 Q1271.23 1519.54 1274.1 1520.01 Q1276.96 1520.49 1279.38 1521.45 Z\" fill=\"#000000\" fill-rule=\"evenodd\" fill-opacity=\"1\" /><path clip-path=\"url(#clip190)\" d=\"M 0 0 M38.479 837.779 L38.479 831.923 L88.0042 831.923 L88.0042 837.779 L38.479 837.779 Z\" fill=\"#000000\" fill-rule=\"evenodd\" fill-opacity=\"1\" /><path clip-path=\"url(#clip190)\" d=\"M 0 0 M70.0847 809.579 Q70.0847 816.677 71.7079 819.414 Q73.3312 822.152 77.2461 822.152 Q80.3653 822.152 82.2114 820.115 Q84.0256 818.046 84.0256 814.513 Q84.0256 809.643 80.5881 806.715 Q77.1188 803.755 71.3897 803.755 L70.0847 803.755 L70.0847 809.579 M67.6657 797.898 L88.0042 797.898 L88.0042 803.755 L82.5933 803.755 Q85.8398 805.76 87.3994 808.752 Q88.9272 811.744 88.9272 816.072 Q88.9272 821.547 85.8716 824.793 Q82.7843 828.008 77.6281 828.008 Q71.6125 828.008 68.5569 823.998 Q65.5014 819.955 65.5014 811.966 L65.5014 803.755 L64.9285 803.755 Q60.8862 803.755 58.6901 806.428 Q56.4621 809.07 56.4621 813.876 Q56.4621 816.932 57.1941 819.828 Q57.9262 822.725 59.3903 825.398 L53.9795 825.398 Q52.7381 822.183 52.1334 819.16 Q51.4968 816.136 51.4968 813.271 Q51.4968 805.537 55.5072 801.718 Q59.5176 797.898 67.6657 797.898 Z\" fill=\"#000000\" fill-rule=\"evenodd\" fill-opacity=\"1\" /><path clip-path=\"url(#clip190)\" d=\"M 0 0 M59.1993 764.001 Q55.2526 761.805 53.3747 758.749 Q51.4968 755.694 51.4968 751.556 Q51.4968 745.986 55.4117 742.962 Q59.2948 739.939 66.4881 739.939 L88.0042 739.939 L88.0042 745.827 L66.679 745.827 Q61.5546 745.827 59.072 747.641 Q56.5894 749.455 56.5894 753.179 Q56.5894 757.731 59.6131 760.372 Q62.6368 763.014 67.8567 763.014 L88.0042 763.014 L88.0042 768.902 L66.679 768.902 Q61.5228 768.902 59.072 770.717 Q56.5894 772.531 56.5894 776.319 Q56.5894 780.806 59.6449 783.448 Q62.6686 786.09 67.8567 786.09 L88.0042 786.09 L88.0042 791.978 L52.3562 791.978 L52.3562 786.09 L57.8944 786.09 Q54.616 784.085 53.0564 781.284 Q51.4968 778.483 51.4968 774.632 Q51.4968 770.749 53.4702 768.043 Q55.4436 765.306 59.1993 764.001 Z\" fill=\"#000000\" fill-rule=\"evenodd\" fill-opacity=\"1\" /><path clip-path=\"url(#clip190)\" d=\"M 0 0 M70.212 708.205 Q63.7508 708.205 60.0905 710.879 Q56.3984 713.521 56.3984 718.168 Q56.3984 722.815 60.0905 725.488 Q63.7508 728.13 70.212 728.13 Q76.6732 728.13 80.3653 725.488 Q84.0256 722.815 84.0256 718.168 Q84.0256 713.521 80.3653 710.879 Q76.6732 708.205 70.212 708.205 M57.7671 728.13 Q54.5842 726.284 53.0564 723.483 Q51.4968 720.65 51.4968 716.736 Q51.4968 710.242 56.6531 706.2 Q61.8093 702.126 70.212 702.126 Q78.6147 702.126 83.771 706.2 Q88.9272 710.242 88.9272 716.736 Q88.9272 720.65 87.3994 723.483 Q85.8398 726.284 82.657 728.13 L88.0042 728.13 L88.0042 734.018 L38.479 734.018 L38.479 728.13 L57.7671 728.13 Z\" fill=\"#000000\" fill-rule=\"evenodd\" fill-opacity=\"1\" /><path clip-path=\"url(#clip190)\" d=\"M 0 0 M57.7671 672.526 L38.479 672.526 L38.479 666.669 L88.0042 666.669 L88.0042 672.526 L82.657 672.526 Q85.8398 674.372 87.3994 677.204 Q88.9272 680.005 88.9272 683.952 Q88.9272 690.413 83.771 694.487 Q78.6147 698.53 70.212 698.53 Q61.8093 698.53 56.6531 694.487 Q51.4968 690.413 51.4968 683.952 Q51.4968 680.005 53.0564 677.204 Q54.5842 674.372 57.7671 672.526 M70.212 692.482 Q76.6732 692.482 80.3653 689.84 Q84.0256 687.167 84.0256 682.52 Q84.0256 677.873 80.3653 675.199 Q76.6732 672.526 70.212 672.526 Q63.7508 672.526 60.0905 675.199 Q56.3984 677.873 56.3984 682.52 Q56.3984 687.167 60.0905 689.84 Q63.7508 692.482 70.212 692.482 Z\" fill=\"#000000\" fill-rule=\"evenodd\" fill-opacity=\"1\" /><path clip-path=\"url(#clip190)\" d=\"M 0 0 M70.0847 644.326 Q70.0847 651.423 71.7079 654.161 Q73.3312 656.898 77.2461 656.898 Q80.3653 656.898 82.2114 654.861 Q84.0256 652.792 84.0256 649.259 Q84.0256 644.389 80.5881 641.461 Q77.1188 638.501 71.3897 638.501 L70.0847 638.501 L70.0847 644.326 M67.6657 632.645 L88.0042 632.645 L88.0042 638.501 L82.5933 638.501 Q85.8398 640.506 87.3994 643.498 Q88.9272 646.49 88.9272 650.819 Q88.9272 656.293 85.8716 659.54 Q82.7843 662.754 77.6281 662.754 Q71.6125 662.754 68.5569 658.744 Q65.5014 654.702 65.5014 646.713 L65.5014 638.501 L64.9285 638.501 Q60.8862 638.501 58.6901 641.175 Q56.4621 643.816 56.4621 648.622 Q56.4621 651.678 57.1941 654.574 Q57.9262 657.471 59.3903 660.144 L53.9795 660.144 Q52.7381 656.93 52.1334 653.906 Q51.4968 650.882 51.4968 648.018 Q51.4968 640.283 55.5072 636.464 Q59.5176 632.645 67.6657 632.645 Z\" fill=\"#000000\" fill-rule=\"evenodd\" fill-opacity=\"1\" /><circle clip-path=\"url(#clip192)\" cx=\"2059.88\" cy=\"230.414\" r=\"46\" fill=\"#f7850e\" fill-rule=\"evenodd\" fill-opacity=\"1\" stroke=\"#000000\" stroke-opacity=\"1\" stroke-width=\"3.2\"/>\n",
       "<circle clip-path=\"url(#clip192)\" cx=\"688.897\" cy=\"1240.01\" r=\"9\" fill=\"#190b3e\" fill-rule=\"evenodd\" fill-opacity=\"1\" stroke=\"#000000\" stroke-opacity=\"1\" stroke-width=\"3.2\"/>\n",
       "<circle clip-path=\"url(#clip192)\" cx=\"688.897\" cy=\"663.098\" r=\"16\" fill=\"#470a69\" fill-rule=\"evenodd\" fill-opacity=\"1\" stroke=\"#000000\" stroke-opacity=\"1\" stroke-width=\"3.2\"/>\n",
       "<circle clip-path=\"url(#clip192)\" cx=\"688.897\" cy=\"1095.78\" r=\"46\" fill=\"#f88b0a\" fill-rule=\"evenodd\" fill-opacity=\"1\" stroke=\"#000000\" stroke-opacity=\"1\" stroke-width=\"3.2\"/>\n",
       "<circle clip-path=\"url(#clip192)\" cx=\"688.897\" cy=\"374.642\" r=\"42\" fill=\"#ef6d21\" fill-rule=\"evenodd\" fill-opacity=\"1\" stroke=\"#000000\" stroke-opacity=\"1\" stroke-width=\"3.2\"/>\n",
       "<circle clip-path=\"url(#clip192)\" cx=\"1472.31\" cy=\"807.326\" r=\"25\" fill=\"#86216a\" fill-rule=\"evenodd\" fill-opacity=\"1\" stroke=\"#000000\" stroke-opacity=\"1\" stroke-width=\"3.2\"/>\n",
       "<circle clip-path=\"url(#clip192)\" cx=\"1864.02\" cy=\"807.326\" r=\"27\" fill=\"#992865\" fill-rule=\"evenodd\" fill-opacity=\"1\" stroke=\"#000000\" stroke-opacity=\"1\" stroke-width=\"3.2\"/>\n",
       "<circle clip-path=\"url(#clip192)\" cx=\"493.042\" cy=\"1240.01\" r=\"5\" fill=\"#030211\" fill-rule=\"evenodd\" fill-opacity=\"1\" stroke=\"#000000\" stroke-opacity=\"1\" stroke-width=\"3.2\"/>\n",
       "<circle clip-path=\"url(#clip192)\" cx=\"1864.02\" cy=\"518.87\" r=\"22\" fill=\"#781c6d\" fill-rule=\"evenodd\" fill-opacity=\"1\" stroke=\"#000000\" stroke-opacity=\"1\" stroke-width=\"3.2\"/>\n",
       "<circle clip-path=\"url(#clip192)\" cx=\"1080.6\" cy=\"1095.78\" r=\"27\" fill=\"#972765\" fill-rule=\"evenodd\" fill-opacity=\"1\" stroke=\"#000000\" stroke-opacity=\"1\" stroke-width=\"3.2\"/>\n",
       "<circle clip-path=\"url(#clip192)\" cx=\"297.188\" cy=\"1240.01\" r=\"61\" fill=\"#fcfea4\" fill-rule=\"evenodd\" fill-opacity=\"1\" stroke=\"#000000\" stroke-opacity=\"1\" stroke-width=\"3.2\"/>\n",
       "<circle clip-path=\"url(#clip192)\" cx=\"884.751\" cy=\"951.554\" r=\"15\" fill=\"#460a69\" fill-rule=\"evenodd\" fill-opacity=\"1\" stroke=\"#000000\" stroke-opacity=\"1\" stroke-width=\"3.2\"/>\n",
       "<circle clip-path=\"url(#clip192)\" cx=\"1276.46\" cy=\"951.554\" r=\"28\" fill=\"#a12b61\" fill-rule=\"evenodd\" fill-opacity=\"1\" stroke=\"#000000\" stroke-opacity=\"1\" stroke-width=\"3.2\"/>\n",
       "<circle clip-path=\"url(#clip192)\" cx=\"884.751\" cy=\"1384.24\" r=\"27\" fill=\"#962666\" fill-rule=\"evenodd\" fill-opacity=\"1\" stroke=\"#000000\" stroke-opacity=\"1\" stroke-width=\"3.2\"/>\n",
       "<circle clip-path=\"url(#clip192)\" cx=\"1668.17\" cy=\"374.642\" r=\"32\" fill=\"#b83556\" fill-rule=\"evenodd\" fill-opacity=\"1\" stroke=\"#000000\" stroke-opacity=\"1\" stroke-width=\"3.2\"/>\n",
       "<circle clip-path=\"url(#clip192)\" cx=\"1080.6\" cy=\"518.87\" r=\"35\" fill=\"#ca4049\" fill-rule=\"evenodd\" fill-opacity=\"1\" stroke=\"#000000\" stroke-opacity=\"1\" stroke-width=\"3.2\"/>\n",
       "<circle clip-path=\"url(#clip192)\" cx=\"493.042\" cy=\"374.642\" r=\"20\" fill=\"#64146e\" fill-rule=\"evenodd\" fill-opacity=\"1\" stroke=\"#000000\" stroke-opacity=\"1\" stroke-width=\"3.2\"/>\n",
       "<circle clip-path=\"url(#clip192)\" cx=\"493.042\" cy=\"230.414\" r=\"5\" fill=\"#030210\" fill-rule=\"evenodd\" fill-opacity=\"1\" stroke=\"#000000\" stroke-opacity=\"1\" stroke-width=\"3.2\"/>\n",
       "<circle clip-path=\"url(#clip192)\" cx=\"1080.6\" cy=\"663.098\" r=\"43\" fill=\"#f2741c\" fill-rule=\"evenodd\" fill-opacity=\"1\" stroke=\"#000000\" stroke-opacity=\"1\" stroke-width=\"3.2\"/>\n",
       "<circle clip-path=\"url(#clip192)\" cx=\"688.897\" cy=\"807.326\" r=\"7\" fill=\"#0b0725\" fill-rule=\"evenodd\" fill-opacity=\"1\" stroke=\"#000000\" stroke-opacity=\"1\" stroke-width=\"3.2\"/>\n",
       "<circle clip-path=\"url(#clip192)\" cx=\"297.188\" cy=\"374.642\" r=\"22\" fill=\"#741a6d\" fill-rule=\"evenodd\" fill-opacity=\"1\" stroke=\"#000000\" stroke-opacity=\"1\" stroke-width=\"3.2\"/>\n",
       "<circle clip-path=\"url(#clip192)\" cx=\"1080.6\" cy=\"807.326\" r=\"20\" fill=\"#67156e\" fill-rule=\"evenodd\" fill-opacity=\"1\" stroke=\"#000000\" stroke-opacity=\"1\" stroke-width=\"3.2\"/>\n",
       "<circle clip-path=\"url(#clip192)\" cx=\"1668.17\" cy=\"951.554\" r=\"33\" fill=\"#bf3951\" fill-rule=\"evenodd\" fill-opacity=\"1\" stroke=\"#000000\" stroke-opacity=\"1\" stroke-width=\"3.2\"/>\n",
       "<circle clip-path=\"url(#clip192)\" cx=\"493.042\" cy=\"663.098\" r=\"13\" fill=\"#33095e\" fill-rule=\"evenodd\" fill-opacity=\"1\" stroke=\"#000000\" stroke-opacity=\"1\" stroke-width=\"3.2\"/>\n",
       "<circle clip-path=\"url(#clip192)\" cx=\"1864.02\" cy=\"1095.78\" r=\"15\" fill=\"#440a68\" fill-rule=\"evenodd\" fill-opacity=\"1\" stroke=\"#000000\" stroke-opacity=\"1\" stroke-width=\"3.2\"/>\n",
       "<circle clip-path=\"url(#clip192)\" cx=\"688.897\" cy=\"518.87\" r=\"14\" fill=\"#390963\" fill-rule=\"evenodd\" fill-opacity=\"1\" stroke=\"#000000\" stroke-opacity=\"1\" stroke-width=\"3.2\"/>\n",
       "<circle clip-path=\"url(#clip192)\" cx=\"1080.6\" cy=\"951.554\" r=\"27\" fill=\"#972765\" fill-rule=\"evenodd\" fill-opacity=\"1\" stroke=\"#000000\" stroke-opacity=\"1\" stroke-width=\"3.2\"/>\n",
       "<circle clip-path=\"url(#clip192)\" cx=\"2059.88\" cy=\"86.1857\" r=\"60\" fill=\"#f4f890\" fill-rule=\"evenodd\" fill-opacity=\"1\" stroke=\"#000000\" stroke-opacity=\"1\" stroke-width=\"3.2\"/>\n",
       "<circle clip-path=\"url(#clip192)\" cx=\"2059.88\" cy=\"807.326\" r=\"16\" fill=\"#490b6a\" fill-rule=\"evenodd\" fill-opacity=\"1\" stroke=\"#000000\" stroke-opacity=\"1\" stroke-width=\"3.2\"/>\n",
       "<circle clip-path=\"url(#clip192)\" cx=\"1668.17\" cy=\"1095.78\" r=\"23\" fill=\"#791c6d\" fill-rule=\"evenodd\" fill-opacity=\"1\" stroke=\"#000000\" stroke-opacity=\"1\" stroke-width=\"3.2\"/>\n",
       "<circle clip-path=\"url(#clip192)\" cx=\"1276.46\" cy=\"663.098\" r=\"18\" fill=\"#560f6d\" fill-rule=\"evenodd\" fill-opacity=\"1\" stroke=\"#000000\" stroke-opacity=\"1\" stroke-width=\"3.2\"/>\n",
       "<circle clip-path=\"url(#clip192)\" cx=\"297.188\" cy=\"1384.24\" r=\"23\" fill=\"#791c6d\" fill-rule=\"evenodd\" fill-opacity=\"1\" stroke=\"#000000\" stroke-opacity=\"1\" stroke-width=\"3.2\"/>\n",
       "<circle clip-path=\"url(#clip192)\" cx=\"1864.02\" cy=\"1240.01\" r=\"10\" fill=\"#1d0c44\" fill-rule=\"evenodd\" fill-opacity=\"1\" stroke=\"#000000\" stroke-opacity=\"1\" stroke-width=\"3.2\"/>\n",
       "<circle clip-path=\"url(#clip192)\" cx=\"2059.88\" cy=\"951.554\" r=\"11\" fill=\"#280b53\" fill-rule=\"evenodd\" fill-opacity=\"1\" stroke=\"#000000\" stroke-opacity=\"1\" stroke-width=\"3.2\"/>\n",
       "<circle clip-path=\"url(#clip192)\" cx=\"1472.31\" cy=\"518.87\" r=\"33\" fill=\"#c33b4f\" fill-rule=\"evenodd\" fill-opacity=\"1\" stroke=\"#000000\" stroke-opacity=\"1\" stroke-width=\"3.2\"/>\n",
       "<circle clip-path=\"url(#clip192)\" cx=\"1080.6\" cy=\"374.642\" r=\"54\" fill=\"#f7ce39\" fill-rule=\"evenodd\" fill-opacity=\"1\" stroke=\"#000000\" stroke-opacity=\"1\" stroke-width=\"3.2\"/>\n",
       "<circle clip-path=\"url(#clip192)\" cx=\"1276.46\" cy=\"518.87\" r=\"19\" fill=\"#62146e\" fill-rule=\"evenodd\" fill-opacity=\"1\" stroke=\"#000000\" stroke-opacity=\"1\" stroke-width=\"3.2\"/>\n",
       "<circle clip-path=\"url(#clip192)\" cx=\"1864.02\" cy=\"951.554\" r=\"30\" fill=\"#ad305c\" fill-rule=\"evenodd\" fill-opacity=\"1\" stroke=\"#000000\" stroke-opacity=\"1\" stroke-width=\"3.2\"/>\n",
       "<circle clip-path=\"url(#clip192)\" cx=\"1472.31\" cy=\"374.642\" r=\"39\" fill=\"#e15634\" fill-rule=\"evenodd\" fill-opacity=\"1\" stroke=\"#000000\" stroke-opacity=\"1\" stroke-width=\"3.2\"/>\n",
       "<circle clip-path=\"url(#clip192)\" cx=\"1472.31\" cy=\"1384.24\" r=\"43\" fill=\"#ef6f20\" fill-rule=\"evenodd\" fill-opacity=\"1\" stroke=\"#000000\" stroke-opacity=\"1\" stroke-width=\"3.2\"/>\n",
       "<circle clip-path=\"url(#clip192)\" cx=\"2059.88\" cy=\"374.642\" r=\"24\" fill=\"#831f6b\" fill-rule=\"evenodd\" fill-opacity=\"1\" stroke=\"#000000\" stroke-opacity=\"1\" stroke-width=\"3.2\"/>\n",
       "<circle clip-path=\"url(#clip192)\" cx=\"884.751\" cy=\"374.642\" r=\"13\" fill=\"#370962\" fill-rule=\"evenodd\" fill-opacity=\"1\" stroke=\"#000000\" stroke-opacity=\"1\" stroke-width=\"3.2\"/>\n",
       "<circle clip-path=\"url(#clip192)\" cx=\"2059.88\" cy=\"1095.78\" r=\"32\" fill=\"#ba3655\" fill-rule=\"evenodd\" fill-opacity=\"1\" stroke=\"#000000\" stroke-opacity=\"1\" stroke-width=\"3.2\"/>\n",
       "<circle clip-path=\"url(#clip192)\" cx=\"1668.17\" cy=\"663.098\" r=\"39\" fill=\"#e15634\" fill-rule=\"evenodd\" fill-opacity=\"1\" stroke=\"#000000\" stroke-opacity=\"1\" stroke-width=\"3.2\"/>\n",
       "<circle clip-path=\"url(#clip192)\" cx=\"884.751\" cy=\"1095.78\" r=\"46\" fill=\"#f7850e\" fill-rule=\"evenodd\" fill-opacity=\"1\" stroke=\"#000000\" stroke-opacity=\"1\" stroke-width=\"3.2\"/>\n",
       "<circle clip-path=\"url(#clip192)\" cx=\"1472.31\" cy=\"663.098\" r=\"9\" fill=\"#150b38\" fill-rule=\"evenodd\" fill-opacity=\"1\" stroke=\"#000000\" stroke-opacity=\"1\" stroke-width=\"3.2\"/>\n",
       "<circle clip-path=\"url(#clip192)\" cx=\"688.897\" cy=\"1384.24\" r=\"19\" fill=\"#5e126e\" fill-rule=\"evenodd\" fill-opacity=\"1\" stroke=\"#000000\" stroke-opacity=\"1\" stroke-width=\"3.2\"/>\n",
       "<circle clip-path=\"url(#clip192)\" cx=\"1472.31\" cy=\"951.554\" r=\"14\" fill=\"#390963\" fill-rule=\"evenodd\" fill-opacity=\"1\" stroke=\"#000000\" stroke-opacity=\"1\" stroke-width=\"3.2\"/>\n",
       "<circle clip-path=\"url(#clip192)\" cx=\"493.042\" cy=\"1384.24\" r=\"11\" fill=\"#230b4d\" fill-rule=\"evenodd\" fill-opacity=\"1\" stroke=\"#000000\" stroke-opacity=\"1\" stroke-width=\"3.2\"/>\n",
       "<circle clip-path=\"url(#clip192)\" cx=\"1080.6\" cy=\"230.414\" r=\"25\" fill=\"#8a2269\" fill-rule=\"evenodd\" fill-opacity=\"1\" stroke=\"#000000\" stroke-opacity=\"1\" stroke-width=\"3.2\"/>\n",
       "<circle clip-path=\"url(#clip192)\" cx=\"1472.31\" cy=\"86.1857\" r=\"57\" fill=\"#f2e35b\" fill-rule=\"evenodd\" fill-opacity=\"1\" stroke=\"#000000\" stroke-opacity=\"1\" stroke-width=\"3.2\"/>\n",
       "<circle clip-path=\"url(#clip192)\" cx=\"2059.88\" cy=\"1384.24\" r=\"15\" fill=\"#400966\" fill-rule=\"evenodd\" fill-opacity=\"1\" stroke=\"#000000\" stroke-opacity=\"1\" stroke-width=\"3.2\"/>\n",
       "<circle clip-path=\"url(#clip192)\" cx=\"297.188\" cy=\"1095.78\" r=\"11\" fill=\"#220b4b\" fill-rule=\"evenodd\" fill-opacity=\"1\" stroke=\"#000000\" stroke-opacity=\"1\" stroke-width=\"3.2\"/>\n",
       "<circle clip-path=\"url(#clip192)\" cx=\"884.751\" cy=\"230.414\" r=\"15\" fill=\"#400966\" fill-rule=\"evenodd\" fill-opacity=\"1\" stroke=\"#000000\" stroke-opacity=\"1\" stroke-width=\"3.2\"/>\n",
       "<circle clip-path=\"url(#clip192)\" cx=\"1080.6\" cy=\"1384.24\" r=\"18\" fill=\"#58106d\" fill-rule=\"evenodd\" fill-opacity=\"1\" stroke=\"#000000\" stroke-opacity=\"1\" stroke-width=\"3.2\"/>\n",
       "<circle clip-path=\"url(#clip192)\" cx=\"297.188\" cy=\"807.326\" r=\"20\" fill=\"#66156e\" fill-rule=\"evenodd\" fill-opacity=\"1\" stroke=\"#000000\" stroke-opacity=\"1\" stroke-width=\"3.2\"/>\n",
       "<circle clip-path=\"url(#clip192)\" cx=\"1276.46\" cy=\"374.642\" r=\"22\" fill=\"#781c6d\" fill-rule=\"evenodd\" fill-opacity=\"1\" stroke=\"#000000\" stroke-opacity=\"1\" stroke-width=\"3.2\"/>\n",
       "<circle clip-path=\"url(#clip192)\" cx=\"297.188\" cy=\"951.554\" r=\"23\" fill=\"#7c1d6c\" fill-rule=\"evenodd\" fill-opacity=\"1\" stroke=\"#000000\" stroke-opacity=\"1\" stroke-width=\"3.2\"/>\n",
       "<circle clip-path=\"url(#clip192)\" cx=\"1472.31\" cy=\"230.414\" r=\"48\" fill=\"#fa9606\" fill-rule=\"evenodd\" fill-opacity=\"1\" stroke=\"#000000\" stroke-opacity=\"1\" stroke-width=\"3.2\"/>\n",
       "<circle clip-path=\"url(#clip192)\" cx=\"688.897\" cy=\"86.1857\" r=\"10\" fill=\"#1c0c43\" fill-rule=\"evenodd\" fill-opacity=\"1\" stroke=\"#000000\" stroke-opacity=\"1\" stroke-width=\"3.2\"/>\n",
       "<circle clip-path=\"url(#clip192)\" cx=\"1080.6\" cy=\"86.1857\" r=\"18\" fill=\"#550f6d\" fill-rule=\"evenodd\" fill-opacity=\"1\" stroke=\"#000000\" stroke-opacity=\"1\" stroke-width=\"3.2\"/>\n",
       "<circle clip-path=\"url(#clip192)\" cx=\"1276.46\" cy=\"86.1857\" r=\"18\" fill=\"#58106d\" fill-rule=\"evenodd\" fill-opacity=\"1\" stroke=\"#000000\" stroke-opacity=\"1\" stroke-width=\"3.2\"/>\n",
       "<circle clip-path=\"url(#clip192)\" cx=\"493.042\" cy=\"807.326\" r=\"17\" fill=\"#540e6d\" fill-rule=\"evenodd\" fill-opacity=\"1\" stroke=\"#000000\" stroke-opacity=\"1\" stroke-width=\"3.2\"/>\n",
       "<circle clip-path=\"url(#clip192)\" cx=\"884.751\" cy=\"86.1857\" r=\"11\" fill=\"#250b50\" fill-rule=\"evenodd\" fill-opacity=\"1\" stroke=\"#000000\" stroke-opacity=\"1\" stroke-width=\"3.2\"/>\n",
       "<circle clip-path=\"url(#clip192)\" cx=\"2059.88\" cy=\"518.87\" r=\"50\" fill=\"#fba90e\" fill-rule=\"evenodd\" fill-opacity=\"1\" stroke=\"#000000\" stroke-opacity=\"1\" stroke-width=\"3.2\"/>\n",
       "<circle clip-path=\"url(#clip192)\" cx=\"297.188\" cy=\"663.098\" r=\"14\" fill=\"#3c0965\" fill-rule=\"evenodd\" fill-opacity=\"1\" stroke=\"#000000\" stroke-opacity=\"1\" stroke-width=\"3.2\"/>\n",
       "<circle clip-path=\"url(#clip192)\" cx=\"1668.17\" cy=\"230.414\" r=\"27\" fill=\"#9a2864\" fill-rule=\"evenodd\" fill-opacity=\"1\" stroke=\"#000000\" stroke-opacity=\"1\" stroke-width=\"3.2\"/>\n",
       "<circle clip-path=\"url(#clip192)\" cx=\"1276.46\" cy=\"1384.24\" r=\"20\" fill=\"#68166e\" fill-rule=\"evenodd\" fill-opacity=\"1\" stroke=\"#000000\" stroke-opacity=\"1\" stroke-width=\"3.2\"/>\n",
       "<circle clip-path=\"url(#clip192)\" cx=\"1668.17\" cy=\"807.326\" r=\"35\" fill=\"#cb4148\" fill-rule=\"evenodd\" fill-opacity=\"1\" stroke=\"#000000\" stroke-opacity=\"1\" stroke-width=\"3.2\"/>\n",
       "<circle clip-path=\"url(#clip192)\" cx=\"1276.46\" cy=\"230.414\" r=\"15\" fill=\"#460a69\" fill-rule=\"evenodd\" fill-opacity=\"1\" stroke=\"#000000\" stroke-opacity=\"1\" stroke-width=\"3.2\"/>\n",
       "<circle clip-path=\"url(#clip192)\" cx=\"1276.46\" cy=\"807.326\" r=\"44\" fill=\"#f47b16\" fill-rule=\"evenodd\" fill-opacity=\"1\" stroke=\"#000000\" stroke-opacity=\"1\" stroke-width=\"3.2\"/>\n",
       "<circle clip-path=\"url(#clip192)\" cx=\"884.751\" cy=\"1240.01\" r=\"39\" fill=\"#e15733\" fill-rule=\"evenodd\" fill-opacity=\"1\" stroke=\"#000000\" stroke-opacity=\"1\" stroke-width=\"3.2\"/>\n",
       "<circle clip-path=\"url(#clip192)\" cx=\"1472.31\" cy=\"1095.78\" r=\"15\" fill=\"#440a68\" fill-rule=\"evenodd\" fill-opacity=\"1\" stroke=\"#000000\" stroke-opacity=\"1\" stroke-width=\"3.2\"/>\n",
       "<circle clip-path=\"url(#clip192)\" cx=\"493.042\" cy=\"951.554\" r=\"32\" fill=\"#bb3654\" fill-rule=\"evenodd\" fill-opacity=\"1\" stroke=\"#000000\" stroke-opacity=\"1\" stroke-width=\"3.2\"/>\n",
       "<circle clip-path=\"url(#clip192)\" cx=\"493.042\" cy=\"1095.78\" r=\"10\" fill=\"#200c49\" fill-rule=\"evenodd\" fill-opacity=\"1\" stroke=\"#000000\" stroke-opacity=\"1\" stroke-width=\"3.2\"/>\n",
       "<circle clip-path=\"url(#clip192)\" cx=\"1080.6\" cy=\"1240.01\" r=\"16\" fill=\"#4a0b6a\" fill-rule=\"evenodd\" fill-opacity=\"1\" stroke=\"#000000\" stroke-opacity=\"1\" stroke-width=\"3.2\"/>\n",
       "<circle clip-path=\"url(#clip192)\" cx=\"493.042\" cy=\"518.87\" r=\"19\" fill=\"#5e126e\" fill-rule=\"evenodd\" fill-opacity=\"1\" stroke=\"#000000\" stroke-opacity=\"1\" stroke-width=\"3.2\"/>\n",
       "<circle clip-path=\"url(#clip192)\" cx=\"1276.46\" cy=\"1240.01\" r=\"32\" fill=\"#b63457\" fill-rule=\"evenodd\" fill-opacity=\"1\" stroke=\"#000000\" stroke-opacity=\"1\" stroke-width=\"3.2\"/>\n",
       "<circle clip-path=\"url(#clip192)\" cx=\"884.751\" cy=\"663.098\" r=\"14\" fill=\"#3b0964\" fill-rule=\"evenodd\" fill-opacity=\"1\" stroke=\"#000000\" stroke-opacity=\"1\" stroke-width=\"3.2\"/>\n",
       "<circle clip-path=\"url(#clip192)\" cx=\"1668.17\" cy=\"1240.01\" r=\"17\" fill=\"#510d6c\" fill-rule=\"evenodd\" fill-opacity=\"1\" stroke=\"#000000\" stroke-opacity=\"1\" stroke-width=\"3.2\"/>\n",
       "<circle clip-path=\"url(#clip192)\" cx=\"1864.02\" cy=\"374.642\" r=\"25\" fill=\"#87216a\" fill-rule=\"evenodd\" fill-opacity=\"1\" stroke=\"#000000\" stroke-opacity=\"1\" stroke-width=\"3.2\"/>\n",
       "<circle clip-path=\"url(#clip192)\" cx=\"688.897\" cy=\"230.414\" r=\"16\" fill=\"#4c0c6b\" fill-rule=\"evenodd\" fill-opacity=\"1\" stroke=\"#000000\" stroke-opacity=\"1\" stroke-width=\"3.2\"/>\n",
       "<circle clip-path=\"url(#clip192)\" cx=\"1864.02\" cy=\"86.1857\" r=\"35\" fill=\"#ca4049\" fill-rule=\"evenodd\" fill-opacity=\"1\" stroke=\"#000000\" stroke-opacity=\"1\" stroke-width=\"3.2\"/>\n",
       "<circle clip-path=\"url(#clip192)\" cx=\"1276.46\" cy=\"1095.78\" r=\"24\" fill=\"#821f6b\" fill-rule=\"evenodd\" fill-opacity=\"1\" stroke=\"#000000\" stroke-opacity=\"1\" stroke-width=\"3.2\"/>\n",
       "<circle clip-path=\"url(#clip192)\" cx=\"1472.31\" cy=\"1240.01\" r=\"13\" fill=\"#350960\" fill-rule=\"evenodd\" fill-opacity=\"1\" stroke=\"#000000\" stroke-opacity=\"1\" stroke-width=\"3.2\"/>\n",
       "<circle clip-path=\"url(#clip192)\" cx=\"884.751\" cy=\"807.326\" r=\"12\" fill=\"#2e0a5a\" fill-rule=\"evenodd\" fill-opacity=\"1\" stroke=\"#000000\" stroke-opacity=\"1\" stroke-width=\"3.2\"/>\n",
       "<circle clip-path=\"url(#clip192)\" cx=\"1668.17\" cy=\"518.87\" r=\"10\" fill=\"#1c0c42\" fill-rule=\"evenodd\" fill-opacity=\"1\" stroke=\"#000000\" stroke-opacity=\"1\" stroke-width=\"3.2\"/>\n",
       "<circle clip-path=\"url(#clip192)\" cx=\"493.042\" cy=\"86.1857\" r=\"24\" fill=\"#83206b\" fill-rule=\"evenodd\" fill-opacity=\"1\" stroke=\"#000000\" stroke-opacity=\"1\" stroke-width=\"3.2\"/>\n",
       "<circle clip-path=\"url(#clip192)\" cx=\"2059.88\" cy=\"1240.01\" r=\"8\" fill=\"#0e092c\" fill-rule=\"evenodd\" fill-opacity=\"1\" stroke=\"#000000\" stroke-opacity=\"1\" stroke-width=\"3.2\"/>\n",
       "<circle clip-path=\"url(#clip192)\" cx=\"1668.17\" cy=\"1384.24\" r=\"29\" fill=\"#a82d5e\" fill-rule=\"evenodd\" fill-opacity=\"1\" stroke=\"#000000\" stroke-opacity=\"1\" stroke-width=\"3.2\"/>\n",
       "<circle clip-path=\"url(#clip192)\" cx=\"297.188\" cy=\"518.87\" r=\"9\" fill=\"#180b3c\" fill-rule=\"evenodd\" fill-opacity=\"1\" stroke=\"#000000\" stroke-opacity=\"1\" stroke-width=\"3.2\"/>\n",
       "<circle clip-path=\"url(#clip192)\" cx=\"688.897\" cy=\"951.554\" r=\"26\" fill=\"#8e2368\" fill-rule=\"evenodd\" fill-opacity=\"1\" stroke=\"#000000\" stroke-opacity=\"1\" stroke-width=\"3.2\"/>\n",
       "<circle clip-path=\"url(#clip192)\" cx=\"884.751\" cy=\"518.87\" r=\"7\" fill=\"#0c0828\" fill-rule=\"evenodd\" fill-opacity=\"1\" stroke=\"#000000\" stroke-opacity=\"1\" stroke-width=\"3.2\"/>\n",
       "<circle clip-path=\"url(#clip192)\" cx=\"1864.02\" cy=\"230.414\" r=\"56\" fill=\"#f4dd50\" fill-rule=\"evenodd\" fill-opacity=\"1\" stroke=\"#000000\" stroke-opacity=\"1\" stroke-width=\"3.2\"/>\n",
       "<circle clip-path=\"url(#clip192)\" cx=\"1864.02\" cy=\"1384.24\" r=\"24\" fill=\"#821f6b\" fill-rule=\"evenodd\" fill-opacity=\"1\" stroke=\"#000000\" stroke-opacity=\"1\" stroke-width=\"3.2\"/>\n",
       "<circle clip-path=\"url(#clip192)\" cx=\"297.188\" cy=\"86.1857\" r=\"3\" fill=\"#000003\" fill-rule=\"evenodd\" fill-opacity=\"1\" stroke=\"#000000\" stroke-opacity=\"1\" stroke-width=\"3.2\"/>\n",
       "<circle clip-path=\"url(#clip192)\" cx=\"297.188\" cy=\"230.414\" r=\"15\" fill=\"#410967\" fill-rule=\"evenodd\" fill-opacity=\"1\" stroke=\"#000000\" stroke-opacity=\"1\" stroke-width=\"3.2\"/>\n",
       "<circle clip-path=\"url(#clip192)\" cx=\"1668.17\" cy=\"86.1857\" r=\"36\" fill=\"#d04544\" fill-rule=\"evenodd\" fill-opacity=\"1\" stroke=\"#000000\" stroke-opacity=\"1\" stroke-width=\"3.2\"/>\n",
       "<circle clip-path=\"url(#clip192)\" cx=\"1864.02\" cy=\"663.098\" r=\"40\" fill=\"#e55c2f\" fill-rule=\"evenodd\" fill-opacity=\"1\" stroke=\"#000000\" stroke-opacity=\"1\" stroke-width=\"3.2\"/>\n",
       "<circle clip-path=\"url(#clip192)\" cx=\"2059.88\" cy=\"663.098\" r=\"47\" fill=\"#f98f08\" fill-rule=\"evenodd\" fill-opacity=\"1\" stroke=\"#000000\" stroke-opacity=\"1\" stroke-width=\"3.2\"/>\n",
       "<defs>\n",
       "  <clipPath id=\"clip193\">\n",
       "    <rect x=\"2160\" y=\"47\" width=\"73\" height=\"1377\"/>\n",
       "  </clipPath>\n",
       "</defs>\n",
       "<g clip-path=\"url(#clip193)\">\n",
       "<image width=\"72\" height=\"1376\" xlink:href=\"data:image/png;base64,\n",
       "iVBORw0KGgoAAAANSUhEUgAAAEgAAAVgCAYAAADsKhu7AAAL6UlEQVR4nO3dwZEjNxBFQVBR/lsh\n",
       "L6UFZIHqHclDpgUTL35wCXTP7Off+/c7/K+/vv0D/DqBgkBBoCBQmPv+/fbP8NMsKAgUBAoChXnv\n",
       "z7d/hp9mQUGgIFAQKAgUHDWCBQWBgkBBoDDPh/TKgoJAQaAgUJh3fUhvLCgIFAQKAgWBgqNGsKAg\n",
       "UBAoCBR8SAcLCgIFgYJAwX1QsKAgUBAoCBQECnMcNVYWFAQKAgWBgvugYEFBoCBQECgIFOa4MFtZ\n",
       "UBAoCBQECnPuP9/+GX6aBQWBgkBBoODSPlhQECgIFAQKAgX3QcGCgkBBoCBQ8CEdLCgIFAQKAgX3\n",
       "QcGCgkBBoCBQECjMx1FjZUFBoCBQECjMuf5XhI0FBYGCQEGgIFBw1AgWFAQKAgWBgqNGsKAgUBAo\n",
       "CBS8HxQsKAgUBAoCBYHCfBw1VhYUBAoCBYGCt1yDBQWBgkBBoOCbdLCgIFAQKAgUBAoePQcLCgIF\n",
       "gYJAwVEjWFAQKAgUBAoCBUeNYEFBoCBQECg4agQLCgIFgYJAYc693/4ZfpoFBYGCQEGgIFBw1AgW\n",
       "FAQKAgWBgkv7YEFBoCBQECj4kA4WFAQKAgWBgkBhPp5qrCwoCBQECgIFR41gQUGgIFAQKAgUvEAV\n",
       "LCgIFAQKAgX3QcGCgkBBoCBQcB8ULCgIFAQKAgWBgvugYEFBoCBQECj4kA4WFAQKAgWBgl/qDRYU\n",
       "BAoCBYGCQMFRI1hQECgIFAQKPqSDBQWBgkBBoCBQ8K9YsKAgUBAoCBR8SAcLCgIFgYJAYc7zIb2x\n",
       "oCBQECgIFAQKjhrBgoJAQaAgUPAhHSwoCBQECgIFH9LBgoJAQaAgUBAozLnv2z/DT7OgIFAQKAgU\n",
       "HDWCBQWBgkBBoCBQcNQIFhQECgIFgYKjRrCgIFAQKAgUfJMOFhQECgIFgYJAYY6TxsqCgkBBoCBQ\n",
       "mPMcNTYWFAQKAgWBgm/SwYKCQEGgIFAQKPhXLFhQECgIFAQK44/g7SwoCBQECgIFgYKjRrCgIFAQ\n",
       "KAgUfEgHCwoCBYGCQGHO/Xz7Z/hpFhQECgIFgYJAYd7zr9jGgoJAQaAgUHAfFCwoCBQECgIF90HB\n",
       "goJAQaAgUBAozLsabdQJAgWBgkDBUSNYUBAoCBQECgKFOR49rywoCBQECgKFeY4aKwsKAgWBgkBh\n",
       "jkv7lTpBoCBQECgIFBw1ggUFgYJAQaDg0j5YUBAoCBQECl7iDOoEgYJAQaAgUPCWa7CgIFAQKAgU\n",
       "XNoHCwoCBYGCQEGgMO9ptFEnCBQECgIF90HBgoJAQaAgUHAfFCwoCBQECgIFgcIc90ErdYJAQaAg\n",
       "UHDUCBYUBAoCBYGCD+lgQUGgIFAQKAgU/NZzsKAgUBAoCBT81nNQJwgUBAoCBYHCPEeNlQUFgYJA\n",
       "QaDgqUawoCBQECgIFPyvCEGdIFAQKAgUBArug4IFBYGCQEGg4D4oWFAQKAgUBAq+SQcLCgIFgYJA\n",
       "QaDgLdegThAoCBQECo4awYKCQEGgIFAQKHiqESwoCBQECgIFR41gQUGgIFAQKPiva4IFBYGCQEGg\n",
       "IFDwv2QGdYJAQaAgUHAfFCwoCBQECgIFT1aDBQWBgkBBoCBQcNQIFhQECgIFgcJcH9IrCwoCBYGC\n",
       "QEGg4LeegzpBoCBQECi4DwoWFAQKAgWBgg/pYEFBoCBQECgIFLxAFSwoCBQECgIFR41gQUGgIFAQ\n",
       "KPiQDhYUBAoCBYGCQMGfpgjqBIGCQEGgMNel/cqCgkBBoCBQECi4MAsWFAQKAgWBgg/pYEFBoCBQ\n",
       "ECj4kA4WFAQKAgWBgkDBH1gKFhQECgIFgYKjRrCgIFAQKAgUfEgHCwoCBYGCQEGg4FcRgjpBoCBQ\n",
       "ECj4VYRgQUGgIFAQKAgUXJgFCwoCBYGCQMGHdLCgIFAQKAgUvMQZLCgIFAQKAgWBgqNGsKAgUBAo\n",
       "CBTmHR/SGwsKAgWBgkDBfVCwoCBQECgIFAQK7oOCBQWBgkBBoOCoESwoCBQECgIFgYKjRrCgIFAQ\n",
       "KAgUHDWCBQWBgkBBoOCbdLCgIFAQKAgUBAr+FQsWFAQKAgWBwly/irCyoCBQECgIFHyTDhYUBAoC\n",
       "BYGCQMGj52BBQaAgUBAozHvf/hF+mwUFgYJAQaAgUHDUCBYUBAoCBYGCv4IXLCgIFAQKAgXfpIMF\n",
       "BYGCQEGgIFDwAlWwoCBQECgIFPwqQrCgIFAQKAgUvB8ULCgIFAQKAgWBgqcawYKCQEGgIFBwaR8s\n",
       "KAgUBAoCBYGCpxrBgoJAQaAgUHAfFCwoCBQECgIFj56DBQWBgkBBoCBQcB8ULCgIFAQKAgWPnoMF\n",
       "BYGCQEGgMPfbP8GPs6AgUBAoCBQECo4awYKCQEGgIFDwflCwoCBQECgIFAQKLsyCBQWBgkBBoOA+\n",
       "KFhQECgIFAQKvkkHCwoCBYGCQEGg4KgRLCgIFAQKAgWPnoMFBYGCQEGgMP4yxc6CgkBBoCBQECg4\n",
       "agQLCgIFgYJAwaPnYEFBoCBQECgIFDx6DhYUBAoCBYGCo0awoCBQECgIFHyTDhYUBAoCBYGCQGGu\n",
       "N6hWFhQECgIFgYL7oGBBQaAgUBAouA8KFhQECgIFgYJAwVEjWFAQKAgUBArzXNqvLCgIFAQKAgWB\n",
       "wtzjwmxjQUGgIFAQKHg/KFhQECgIFAQK/gpesKAgUBAoCBQECv4KXrCgIFAQKAgUPHoOFhQECgIF\n",
       "gYKXOIMFBYGCQEGgIFDwC3XBgoJAQaAgUHDUCBYUBAoCBYGCQMFbrsGCgkBBoCBQ8JZrsKAgUBAo\n",
       "CBR8kw4WFAQKAgWBgkDBW67BgoJAQaAgUPD3g4IFBYGCQEGg4D4oWFAQKAgUBAoCBY+egwUFgYJA\n",
       "QaDgqBEsKAgUBAoCBYGCo0awoCBQECgIFBw1ggUFgYJAQaDgQzpYUBAoCBQECgIF90HBgoJAQaAg\n",
       "UHDUCBYUBAoCBYGCb9LBgoJAQaAgUBAoOGoECwoCBYGCQMHfDwoWFAQKAgWBgkDB/+0TLCgIFAQK\n",
       "AgX3QcGCgkBBoCBQmHd8Sm8sKAgUBAoCBYGCo0awoCBQECgIFDx6DhYUBAoCBYGCJ6vBgoJAQaAg\n",
       "UBAouA8KFhQECgIFgYJHz8GCgkBBoCBQECg4agQLCgIFgYJAwR9YChYUBAoCBYHCXC8IrSwoCBQE\n",
       "CgIFgYIXqIIFBYGCQEGgMM9RY2VBQaAgUBAo+CYdLCgIFAQKAgWBgqcawYKCQEGgIFDwflCwoCBQ\n",
       "ECgIFAQKc/1C3cqCgkBBoCBQcB8ULCgIFAQKAgV/miJYUBAoCBQECgIFL1AFCwoCBYGCQMGlfbCg\n",
       "IFAQKAgU3AcFCwoCBYGCQEGgMPe4EdpYUBAoCBQECu6DggUFgYJAQaAgUPCvWLCgIFAQKAgUPNUI\n",
       "FhQECgIFgYJL+2BBQaAgUBAoCBTmfhw1NhYUBAoCBYGCo0awoCBQECgIFOb5kF5ZUBAoCBQECgIF\n",
       "R41gQUGgIFAQKMz9+JDeWFAQKAgUBAoCBUeNYEFBoCBQECh4qhEsKAgUBAoCBd+kgwUFgYJAQaAg\n",
       "UPCvWLCgIFAQKAgUPHoOFhQECgIFgcK88+fbP8NPs6AgUBAoCBQECu6DggUFgYJAQaDg/aBgQUGg\n",
       "IFAQKAgU5j4XZhsLCgIFgYJAwVEjWFAQKAgUBApzPXpeWVAQKAgUBAoCBUeNYEFBoCBQECg4agQL\n",
       "CgIFgYJAYd7zTXpjQUGgIFAQKAgU3AcFCwoCBYGCQMFLnMGCgkBBoCBQECg4agQLCgIFgYJAYZ6j\n",
       "xsqCgkBBoCBQ8E06WFAQKAgUBAoChbleoFpZUBAoCBQECv7gdrCgIFAQKAgU/CpCsKAgUBAoCBQE\n",
       "Cp5qBAsKAgWBgkDBUSNYUBAoCBQECgIF/4oFCwoCBYGCQMGj52BBQaAgUBAo+CYdLCgIFAQKAgWB\n",
       "whyPnlcWFAQKAgWBgqNGsKAgUBAoCBS8xBksKAgUBAoCBYHCHEeNlQUFgYJAQaDg/aBgQUGgIFAQ\n",
       "KAgUPHoOFhQECgIFgYL7oGBBQaAgUBAozDvv2z/DT7OgIFAQKAgUBArug4IFBYGCQEGgMMdRY2VB\n",
       "QaAgUBAo/AdhU+3PqlcPeQAAAABJRU5ErkJggg==\n",
       "\" transform=\"translate(2161, 47)\"/>\n",
       "</g>\n",
       "<path clip-path=\"url(#clip190)\" d=\"M 0 0 M2280.7 1253.91 Q2277.09 1253.91 2275.26 1257.47 Q2273.45 1261.01 2273.45 1268.14 Q2273.45 1275.25 2275.26 1278.81 Q2277.09 1282.36 2280.7 1282.36 Q2284.33 1282.36 2286.14 1278.81 Q2287.97 1275.25 2287.97 1268.14 Q2287.97 1261.01 2286.14 1257.47 Q2284.33 1253.91 2280.7 1253.91 M2280.7 1250.2 Q2286.51 1250.2 2289.57 1254.81 Q2292.64 1259.39 2292.64 1268.14 Q2292.64 1276.87 2289.57 1281.48 Q2286.51 1286.06 2280.7 1286.06 Q2274.89 1286.06 2271.81 1281.48 Q2268.76 1276.87 2268.76 1268.14 Q2268.76 1259.39 2271.81 1254.81 Q2274.89 1250.2 2280.7 1250.2 Z\" fill=\"#000000\" fill-rule=\"evenodd\" fill-opacity=\"1\" /><path clip-path=\"url(#clip190)\" d=\"M 0 0 M2297.71 1279.51 L2302.6 1279.51 L2302.6 1285.39 L2297.71 1285.39 L2297.71 1279.51 Z\" fill=\"#000000\" fill-rule=\"evenodd\" fill-opacity=\"1\" /><path clip-path=\"url(#clip190)\" d=\"M 0 0 M2320.51 1254.9 L2308.71 1273.35 L2320.51 1273.35 L2320.51 1254.9 M2319.29 1250.83 L2325.17 1250.83 L2325.17 1273.35 L2330.1 1273.35 L2330.1 1277.24 L2325.17 1277.24 L2325.17 1285.39 L2320.51 1285.39 L2320.51 1277.24 L2304.91 1277.24 L2304.91 1272.73 L2319.29 1250.83 Z\" fill=\"#000000\" fill-rule=\"evenodd\" fill-opacity=\"1\" /><path clip-path=\"url(#clip190)\" d=\"M 0 0 M2345.17 1253.91 Q2341.56 1253.91 2339.73 1257.47 Q2337.92 1261.01 2337.92 1268.14 Q2337.92 1275.25 2339.73 1278.81 Q2341.56 1282.36 2345.17 1282.36 Q2348.8 1282.36 2350.61 1278.81 Q2352.44 1275.25 2352.44 1268.14 Q2352.44 1261.01 2350.61 1257.47 Q2348.8 1253.91 2345.17 1253.91 M2345.17 1250.2 Q2350.98 1250.2 2354.03 1254.81 Q2357.11 1259.39 2357.11 1268.14 Q2357.11 1276.87 2354.03 1281.48 Q2350.98 1286.06 2345.17 1286.06 Q2339.36 1286.06 2336.28 1281.48 Q2333.22 1276.87 2333.22 1268.14 Q2333.22 1259.39 2336.28 1254.81 Q2339.36 1250.2 2345.17 1250.2 Z\" fill=\"#000000\" fill-rule=\"evenodd\" fill-opacity=\"1\" /><path clip-path=\"url(#clip190)\" d=\"M 0 0 M2372.18 1253.91 Q2368.57 1253.91 2366.74 1257.47 Q2364.94 1261.01 2364.94 1268.14 Q2364.94 1275.25 2366.74 1278.81 Q2368.57 1282.36 2372.18 1282.36 Q2375.82 1282.36 2377.62 1278.81 Q2379.45 1275.25 2379.45 1268.14 Q2379.45 1261.01 2377.62 1257.47 Q2375.82 1253.91 2372.18 1253.91 M2372.18 1250.2 Q2377.99 1250.2 2381.05 1254.81 Q2384.13 1259.39 2384.13 1268.14 Q2384.13 1276.87 2381.05 1281.48 Q2377.99 1286.06 2372.18 1286.06 Q2366.37 1286.06 2363.29 1281.48 Q2360.24 1276.87 2360.24 1268.14 Q2360.24 1259.39 2363.29 1254.81 Q2366.37 1250.2 2372.18 1250.2 Z\" fill=\"#000000\" fill-rule=\"evenodd\" fill-opacity=\"1\" /><path clip-path=\"url(#clip190)\" d=\"M 0 0 M2280.7 1032.44 Q2277.09 1032.44 2275.26 1036 Q2273.45 1039.54 2273.45 1046.67 Q2273.45 1053.78 2275.26 1057.34 Q2277.09 1060.88 2280.7 1060.88 Q2284.33 1060.88 2286.14 1057.34 Q2287.97 1053.78 2287.97 1046.67 Q2287.97 1039.54 2286.14 1036 Q2284.33 1032.44 2280.7 1032.44 M2280.7 1028.73 Q2286.51 1028.73 2289.57 1033.34 Q2292.64 1037.92 2292.64 1046.67 Q2292.64 1055.4 2289.57 1060.01 Q2286.51 1064.59 2280.7 1064.59 Q2274.89 1064.59 2271.81 1060.01 Q2268.76 1055.4 2268.76 1046.67 Q2268.76 1037.92 2271.81 1033.34 Q2274.89 1028.73 2280.7 1028.73 Z\" fill=\"#000000\" fill-rule=\"evenodd\" fill-opacity=\"1\" /><path clip-path=\"url(#clip190)\" d=\"M 0 0 M2297.71 1058.04 L2302.6 1058.04 L2302.6 1063.92 L2297.71 1063.92 L2297.71 1058.04 Z\" fill=\"#000000\" fill-rule=\"evenodd\" fill-opacity=\"1\" /><path clip-path=\"url(#clip190)\" d=\"M 0 0 M2320.51 1033.43 L2308.71 1051.88 L2320.51 1051.88 L2320.51 1033.43 M2319.29 1029.36 L2325.17 1029.36 L2325.17 1051.88 L2330.1 1051.88 L2330.1 1055.77 L2325.17 1055.77 L2325.17 1063.92 L2320.51 1063.92 L2320.51 1055.77 L2304.91 1055.77 L2304.91 1051.26 L2319.29 1029.36 Z\" fill=\"#000000\" fill-rule=\"evenodd\" fill-opacity=\"1\" /><path clip-path=\"url(#clip190)\" d=\"M 0 0 M2345.17 1032.44 Q2341.56 1032.44 2339.73 1036 Q2337.92 1039.54 2337.92 1046.67 Q2337.92 1053.78 2339.73 1057.34 Q2341.56 1060.88 2345.17 1060.88 Q2348.8 1060.88 2350.61 1057.34 Q2352.44 1053.78 2352.44 1046.67 Q2352.44 1039.54 2350.61 1036 Q2348.8 1032.44 2345.17 1032.44 M2345.17 1028.73 Q2350.98 1028.73 2354.03 1033.34 Q2357.11 1037.92 2357.11 1046.67 Q2357.11 1055.4 2354.03 1060.01 Q2350.98 1064.59 2345.17 1064.59 Q2339.36 1064.59 2336.28 1060.01 Q2333.22 1055.4 2333.22 1046.67 Q2333.22 1037.92 2336.28 1033.34 Q2339.36 1028.73 2345.17 1028.73 Z\" fill=\"#000000\" fill-rule=\"evenodd\" fill-opacity=\"1\" /><path clip-path=\"url(#clip190)\" d=\"M 0 0 M2362.23 1029.36 L2380.58 1029.36 L2380.58 1033.29 L2366.51 1033.29 L2366.51 1041.76 Q2367.53 1041.42 2368.55 1041.26 Q2369.57 1041.07 2370.58 1041.07 Q2376.37 1041.07 2379.75 1044.24 Q2383.13 1047.41 2383.13 1052.83 Q2383.13 1058.41 2379.66 1061.51 Q2376.19 1064.59 2369.87 1064.59 Q2367.69 1064.59 2365.42 1064.22 Q2363.18 1063.85 2360.77 1063.11 L2360.77 1058.41 Q2362.85 1059.54 2365.07 1060.1 Q2367.3 1060.65 2369.77 1060.65 Q2373.78 1060.65 2376.12 1058.55 Q2378.45 1056.44 2378.45 1052.83 Q2378.45 1049.22 2376.12 1047.11 Q2373.78 1045.01 2369.77 1045.01 Q2367.9 1045.01 2366.02 1045.42 Q2364.17 1045.84 2362.23 1046.72 L2362.23 1029.36 Z\" fill=\"#000000\" fill-rule=\"evenodd\" fill-opacity=\"1\" /><path clip-path=\"url(#clip190)\" d=\"M 0 0 M2280.7 810.964 Q2277.09 810.964 2275.26 814.529 Q2273.45 818.071 2273.45 825.2 Q2273.45 832.307 2275.26 835.872 Q2277.09 839.413 2280.7 839.413 Q2284.33 839.413 2286.14 835.872 Q2287.97 832.307 2287.97 825.2 Q2287.97 818.071 2286.14 814.529 Q2284.33 810.964 2280.7 810.964 M2280.7 807.261 Q2286.51 807.261 2289.57 811.867 Q2292.64 816.45 2292.64 825.2 Q2292.64 833.927 2289.57 838.534 Q2286.51 843.117 2280.7 843.117 Q2274.89 843.117 2271.81 838.534 Q2268.76 833.927 2268.76 825.2 Q2268.76 816.45 2271.81 811.867 Q2274.89 807.261 2280.7 807.261 Z\" fill=\"#000000\" fill-rule=\"evenodd\" fill-opacity=\"1\" /><path clip-path=\"url(#clip190)\" d=\"M 0 0 M2297.71 836.566 L2302.6 836.566 L2302.6 842.446 L2297.71 842.446 L2297.71 836.566 Z\" fill=\"#000000\" fill-rule=\"evenodd\" fill-opacity=\"1\" /><path clip-path=\"url(#clip190)\" d=\"M 0 0 M2320.51 811.96 L2308.71 830.409 L2320.51 830.409 L2320.51 811.96 M2319.29 807.886 L2325.17 807.886 L2325.17 830.409 L2330.1 830.409 L2330.1 834.298 L2325.17 834.298 L2325.17 842.446 L2320.51 842.446 L2320.51 834.298 L2304.91 834.298 L2304.91 829.784 L2319.29 807.886 Z\" fill=\"#000000\" fill-rule=\"evenodd\" fill-opacity=\"1\" /><path clip-path=\"url(#clip190)\" d=\"M 0 0 M2335.98 838.51 L2343.62 838.51 L2343.62 812.145 L2335.31 813.812 L2335.31 809.552 L2343.57 807.886 L2348.25 807.886 L2348.25 838.51 L2355.89 838.51 L2355.89 842.446 L2335.98 842.446 L2335.98 838.51 Z\" fill=\"#000000\" fill-rule=\"evenodd\" fill-opacity=\"1\" /><path clip-path=\"url(#clip190)\" d=\"M 0 0 M2370.95 810.964 Q2367.34 810.964 2365.51 814.529 Q2363.71 818.071 2363.71 825.2 Q2363.71 832.307 2365.51 835.872 Q2367.34 839.413 2370.95 839.413 Q2374.59 839.413 2376.39 835.872 Q2378.22 832.307 2378.22 825.2 Q2378.22 818.071 2376.39 814.529 Q2374.59 810.964 2370.95 810.964 M2370.95 807.261 Q2376.76 807.261 2379.82 811.867 Q2382.9 816.45 2382.9 825.2 Q2382.9 833.927 2379.82 838.534 Q2376.76 843.117 2370.95 843.117 Q2365.14 843.117 2362.07 838.534 Q2359.01 833.927 2359.01 825.2 Q2359.01 816.45 2362.07 811.867 Q2365.14 807.261 2370.95 807.261 Z\" fill=\"#000000\" fill-rule=\"evenodd\" fill-opacity=\"1\" /><path clip-path=\"url(#clip190)\" d=\"M 0 0 M2280.7 589.493 Q2277.09 589.493 2275.26 593.058 Q2273.45 596.599 2273.45 603.729 Q2273.45 610.835 2275.26 614.4 Q2277.09 617.942 2280.7 617.942 Q2284.33 617.942 2286.14 614.4 Q2287.97 610.835 2287.97 603.729 Q2287.97 596.599 2286.14 593.058 Q2284.33 589.493 2280.7 589.493 M2280.7 585.789 Q2286.51 585.789 2289.57 590.396 Q2292.64 594.979 2292.64 603.729 Q2292.64 612.456 2289.57 617.062 Q2286.51 621.645 2280.7 621.645 Q2274.89 621.645 2271.81 617.062 Q2268.76 612.456 2268.76 603.729 Q2268.76 594.979 2271.81 590.396 Q2274.89 585.789 2280.7 585.789 Z\" fill=\"#000000\" fill-rule=\"evenodd\" fill-opacity=\"1\" /><path clip-path=\"url(#clip190)\" d=\"M 0 0 M2297.71 615.095 L2302.6 615.095 L2302.6 620.974 L2297.71 620.974 L2297.71 615.095 Z\" fill=\"#000000\" fill-rule=\"evenodd\" fill-opacity=\"1\" /><path clip-path=\"url(#clip190)\" d=\"M 0 0 M2320.51 590.488 L2308.71 608.937 L2320.51 608.937 L2320.51 590.488 M2319.29 586.414 L2325.17 586.414 L2325.17 608.937 L2330.1 608.937 L2330.1 612.826 L2325.17 612.826 L2325.17 620.974 L2320.51 620.974 L2320.51 612.826 L2304.91 612.826 L2304.91 608.312 L2319.29 586.414 Z\" fill=\"#000000\" fill-rule=\"evenodd\" fill-opacity=\"1\" /><path clip-path=\"url(#clip190)\" d=\"M 0 0 M2335.98 617.039 L2343.62 617.039 L2343.62 590.673 L2335.31 592.34 L2335.31 588.081 L2343.57 586.414 L2348.25 586.414 L2348.25 617.039 L2355.89 617.039 L2355.89 620.974 L2335.98 620.974 L2335.98 617.039 Z\" fill=\"#000000\" fill-rule=\"evenodd\" fill-opacity=\"1\" /><path clip-path=\"url(#clip190)\" d=\"M 0 0 M2361 586.414 L2379.36 586.414 L2379.36 590.349 L2365.28 590.349 L2365.28 598.821 Q2366.3 598.474 2367.32 598.312 Q2368.34 598.127 2369.36 598.127 Q2375.14 598.127 2378.52 601.298 Q2381.9 604.47 2381.9 609.886 Q2381.9 615.465 2378.43 618.567 Q2374.96 621.645 2368.64 621.645 Q2366.46 621.645 2364.2 621.275 Q2361.95 620.905 2359.54 620.164 L2359.54 615.465 Q2361.63 616.599 2363.85 617.155 Q2366.07 617.71 2368.55 617.71 Q2372.55 617.71 2374.89 615.604 Q2377.23 613.497 2377.23 609.886 Q2377.23 606.275 2374.89 604.169 Q2372.55 602.062 2368.55 602.062 Q2366.67 602.062 2364.8 602.479 Q2362.95 602.896 2361 603.775 L2361 586.414 Z\" fill=\"#000000\" fill-rule=\"evenodd\" fill-opacity=\"1\" /><path clip-path=\"url(#clip190)\" d=\"M 0 0 M2280.7 368.021 Q2277.09 368.021 2275.26 371.586 Q2273.45 375.128 2273.45 382.257 Q2273.45 389.364 2275.26 392.929 Q2277.09 396.47 2280.7 396.47 Q2284.33 396.47 2286.14 392.929 Q2287.97 389.364 2287.97 382.257 Q2287.97 375.128 2286.14 371.586 Q2284.33 368.021 2280.7 368.021 M2280.7 364.318 Q2286.51 364.318 2289.57 368.924 Q2292.64 373.507 2292.64 382.257 Q2292.64 390.984 2289.57 395.591 Q2286.51 400.174 2280.7 400.174 Q2274.89 400.174 2271.81 395.591 Q2268.76 390.984 2268.76 382.257 Q2268.76 373.507 2271.81 368.924 Q2274.89 364.318 2280.7 364.318 Z\" fill=\"#000000\" fill-rule=\"evenodd\" fill-opacity=\"1\" /><path clip-path=\"url(#clip190)\" d=\"M 0 0 M2297.71 393.623 L2302.6 393.623 L2302.6 399.503 L2297.71 399.503 L2297.71 393.623 Z\" fill=\"#000000\" fill-rule=\"evenodd\" fill-opacity=\"1\" /><path clip-path=\"url(#clip190)\" d=\"M 0 0 M2320.51 369.017 L2308.71 387.466 L2320.51 387.466 L2320.51 369.017 M2319.29 364.943 L2325.17 364.943 L2325.17 387.466 L2330.1 387.466 L2330.1 391.355 L2325.17 391.355 L2325.17 399.503 L2320.51 399.503 L2320.51 391.355 L2304.91 391.355 L2304.91 386.841 L2319.29 364.943 Z\" fill=\"#000000\" fill-rule=\"evenodd\" fill-opacity=\"1\" /><path clip-path=\"url(#clip190)\" d=\"M 0 0 M2339.2 395.567 L2355.51 395.567 L2355.51 399.503 L2333.57 399.503 L2333.57 395.567 Q2336.23 392.813 2340.82 388.183 Q2345.42 383.531 2346.6 382.188 Q2348.85 379.665 2349.73 377.929 Q2350.63 376.169 2350.63 374.48 Q2350.63 371.725 2348.69 369.989 Q2346.76 368.253 2343.66 368.253 Q2341.46 368.253 2339.01 369.017 Q2336.58 369.781 2333.8 371.332 L2333.8 366.609 Q2336.63 365.475 2339.08 364.896 Q2341.53 364.318 2343.57 364.318 Q2348.94 364.318 2352.14 367.003 Q2355.33 369.688 2355.33 374.179 Q2355.33 376.308 2354.52 378.23 Q2353.73 380.128 2351.63 382.72 Q2351.05 383.392 2347.95 386.609 Q2344.84 389.804 2339.2 395.567 Z\" fill=\"#000000\" fill-rule=\"evenodd\" fill-opacity=\"1\" /><path clip-path=\"url(#clip190)\" d=\"M 0 0 M2370.58 368.021 Q2366.97 368.021 2365.14 371.586 Q2363.34 375.128 2363.34 382.257 Q2363.34 389.364 2365.14 392.929 Q2366.97 396.47 2370.58 396.47 Q2374.22 396.47 2376.02 392.929 Q2377.85 389.364 2377.85 382.257 Q2377.85 375.128 2376.02 371.586 Q2374.22 368.021 2370.58 368.021 M2370.58 364.318 Q2376.39 364.318 2379.45 368.924 Q2382.53 373.507 2382.53 382.257 Q2382.53 390.984 2379.45 395.591 Q2376.39 400.174 2370.58 400.174 Q2364.77 400.174 2361.7 395.591 Q2358.64 390.984 2358.64 382.257 Q2358.64 373.507 2361.7 368.924 Q2364.77 364.318 2370.58 364.318 Z\" fill=\"#000000\" fill-rule=\"evenodd\" fill-opacity=\"1\" /><path clip-path=\"url(#clip190)\" d=\"M 0 0 M2280.7 146.55 Q2277.09 146.55 2275.26 150.115 Q2273.45 153.656 2273.45 160.786 Q2273.45 167.892 2275.26 171.457 Q2277.09 174.999 2280.7 174.999 Q2284.33 174.999 2286.14 171.457 Q2287.97 167.892 2287.97 160.786 Q2287.97 153.656 2286.14 150.115 Q2284.33 146.55 2280.7 146.55 M2280.7 142.846 Q2286.51 142.846 2289.57 147.453 Q2292.64 152.036 2292.64 160.786 Q2292.64 169.513 2289.57 174.119 Q2286.51 178.702 2280.7 178.702 Q2274.89 178.702 2271.81 174.119 Q2268.76 169.513 2268.76 160.786 Q2268.76 152.036 2271.81 147.453 Q2274.89 142.846 2280.7 142.846 Z\" fill=\"#000000\" fill-rule=\"evenodd\" fill-opacity=\"1\" /><path clip-path=\"url(#clip190)\" d=\"M 0 0 M2297.71 172.152 L2302.6 172.152 L2302.6 178.031 L2297.71 178.031 L2297.71 172.152 Z\" fill=\"#000000\" fill-rule=\"evenodd\" fill-opacity=\"1\" /><path clip-path=\"url(#clip190)\" d=\"M 0 0 M2320.51 147.545 L2308.71 165.994 L2320.51 165.994 L2320.51 147.545 M2319.29 143.471 L2325.17 143.471 L2325.17 165.994 L2330.1 165.994 L2330.1 169.883 L2325.17 169.883 L2325.17 178.031 L2320.51 178.031 L2320.51 169.883 L2304.91 169.883 L2304.91 165.369 L2319.29 143.471 Z\" fill=\"#000000\" fill-rule=\"evenodd\" fill-opacity=\"1\" /><path clip-path=\"url(#clip190)\" d=\"M 0 0 M2339.2 174.096 L2355.51 174.096 L2355.51 178.031 L2333.57 178.031 L2333.57 174.096 Q2336.23 171.341 2340.82 166.712 Q2345.42 162.059 2346.6 160.716 Q2348.85 158.193 2349.73 156.457 Q2350.63 154.698 2350.63 153.008 Q2350.63 150.254 2348.69 148.517 Q2346.76 146.781 2343.66 146.781 Q2341.46 146.781 2339.01 147.545 Q2336.58 148.309 2333.8 149.86 L2333.8 145.138 Q2336.63 144.004 2339.08 143.425 Q2341.53 142.846 2343.57 142.846 Q2348.94 142.846 2352.14 145.531 Q2355.33 148.217 2355.33 152.707 Q2355.33 154.837 2354.52 156.758 Q2353.73 158.656 2351.63 161.249 Q2351.05 161.92 2347.95 165.138 Q2344.84 168.332 2339.2 174.096 Z\" fill=\"#000000\" fill-rule=\"evenodd\" fill-opacity=\"1\" /><path clip-path=\"url(#clip190)\" d=\"M 0 0 M2360.63 143.471 L2378.99 143.471 L2378.99 147.406 L2364.91 147.406 L2364.91 155.879 Q2365.93 155.531 2366.95 155.369 Q2367.97 155.184 2368.99 155.184 Q2374.77 155.184 2378.15 158.355 Q2381.53 161.527 2381.53 166.943 Q2381.53 172.522 2378.06 175.624 Q2374.59 178.702 2368.27 178.702 Q2366.09 178.702 2363.82 178.332 Q2361.58 177.962 2359.17 177.221 L2359.17 172.522 Q2361.26 173.656 2363.48 174.212 Q2365.7 174.767 2368.18 174.767 Q2372.18 174.767 2374.52 172.661 Q2376.86 170.554 2376.86 166.943 Q2376.86 163.332 2374.52 161.226 Q2372.18 159.119 2368.18 159.119 Q2366.3 159.119 2364.43 159.536 Q2362.57 159.953 2360.63 160.832 L2360.63 143.471 Z\" fill=\"#000000\" fill-rule=\"evenodd\" fill-opacity=\"1\" /><polyline clip-path=\"url(#clip190)\" style=\"stroke:#000000; stroke-width:4; stroke-opacity:1; fill:none\" points=\"\n",
       "  2232.76,1423.18 2232.76,1271.74 2256.76,1271.74 2232.76,1271.74 2232.76,1050.27 2256.76,1050.27 2232.76,1050.27 2232.76,828.794 2256.76,828.794 2232.76,828.794 \n",
       "  2232.76,607.323 2256.76,607.323 2232.76,607.323 2232.76,385.851 2256.76,385.851 2232.76,385.851 2232.76,164.38 2256.76,164.38 2232.76,164.38 2232.76,47.2441 \n",
       "  \n",
       "  \"/>\n",
       "</svg>\n"
      ]
     },
     "execution_count": 68,
     "metadata": {},
     "output_type": "execute_result"
    }
   ],
   "source": [
    "plot(self_tuning_nn)"
   ]
  },
  {
   "cell_type": "code",
   "execution_count": 69,
   "metadata": {},
   "outputs": [
    {
     "data": {
      "text/plain": [
       "(best_model = \u001b[34mNeuralNetworkClassifier{CustomNN,…} @622\u001b[39m,\n",
       " best_fitted_params = (chain = Chain(Chain(Dense(41, 132, σ), Dense(132, 2, σ)), softmax),),)"
      ]
     },
     "execution_count": 69,
     "metadata": {},
     "output_type": "execute_result"
    }
   ],
   "source": [
    "best = fitted_params(self_tuning_nn)\n",
    "best"
   ]
  },
  {
   "cell_type": "code",
   "execution_count": 70,
   "metadata": {},
   "outputs": [
    {
     "data": {
      "text/plain": [
       "NeuralNetworkClassifier(\n",
       "    builder = CustomNN(\n",
       "            n1 = 132),\n",
       "    finaliser = NNlib.softmax,\n",
       "    optimiser = ADAM(0.01, (0.9, 0.999), IdDict{Any,Any}()),\n",
       "    loss = Flux.crossentropy,\n",
       "    epochs = 100,\n",
       "    batch_size = 16,\n",
       "    lambda = 1.0,\n",
       "    alpha = 0.0,\n",
       "    optimiser_changes_trigger_retraining = false)\u001b[34m @622\u001b[39m"
      ]
     },
     "execution_count": 70,
     "metadata": {},
     "output_type": "execute_result"
    }
   ],
   "source": [
    "best.best_model"
   ]
  },
  {
   "cell_type": "code",
   "execution_count": 71,
   "metadata": {
    "scrolled": true
   },
   "outputs": [
    {
     "data": {
      "text/plain": [
       "0.396581f0"
      ]
     },
     "execution_count": 71,
     "metadata": {},
     "output_type": "execute_result"
    }
   ],
   "source": [
    "best_loss = z.report.best_result.measurement[1]"
   ]
  },
  {
   "cell_type": "code",
   "execution_count": 72,
   "metadata": {},
   "outputs": [
    {
     "data": {
      "text/plain": [
       "1.0"
      ]
     },
     "execution_count": 72,
     "metadata": {},
     "output_type": "execute_result"
    }
   ],
   "source": [
    "best_lambda = best.best_model.lambda"
   ]
  },
  {
   "cell_type": "markdown",
   "metadata": {},
   "source": [
    "### Learning Curve"
   ]
  },
  {
   "cell_type": "code",
   "execution_count": 115,
   "metadata": {},
   "outputs": [
    {
     "data": {
      "text/plain": [
       "NeuralNetworkClassifier(\n",
       "    builder = CustomNN(\n",
       "            n1 = 132),\n",
       "    finaliser = NNlib.softmax,\n",
       "    optimiser = ADAM(0.01, (0.9, 0.999), IdDict{Any,Any}()),\n",
       "    loss = Flux.crossentropy,\n",
       "    epochs = 210,\n",
       "    batch_size = 16,\n",
       "    lambda = 1.0,\n",
       "    alpha = 0.0,\n",
       "    optimiser_changes_trigger_retraining = false)\u001b[34m @717\u001b[39m"
      ]
     },
     "execution_count": 115,
     "metadata": {},
     "output_type": "execute_result"
    }
   ],
   "source": [
    "lc_model = NeuralNetworkClassifier(builder=CustomNN(best_n1)) #70\n",
    "lc_model.optimiser.eta = best_eta; #0.003\n",
    "lc_model.lambda = best_lambda #0.01\n",
    "lc_model.epochs = best_epochs #130\n",
    "lc_model.batch_size = batch_sz #32\n",
    "lc_model"
   ]
  },
  {
   "cell_type": "code",
   "execution_count": 116,
   "metadata": {
    "scrolled": true
   },
   "outputs": [
    {
     "name": "stderr",
     "output_type": "stream",
     "text": [
      "┌ Warning: The scitype of `X`, in `machine(model, X, ...)` is incompatible with `model=\u001b[34mNeuralNetworkClassifier{CustomNN,…} @717\u001b[39m`:\n",
      "│ scitype(X) = Table{Union{AbstractArray{Continuous,1}, AbstractArray{Count,1}}}\n",
      "│ input_scitype(model) = Table{var\"#s44\"} where var\"#s44\"<:(AbstractArray{var\"#s13\",1} where var\"#s13\"<:Continuous).\n",
      "└ @ MLJBase /home/andrew/.julia/packages/MLJBase/uKzAz/src/machines.jl:77\n"
     ]
    },
    {
     "name": "stdout",
     "output_type": "stream",
     "text": [
      "(d, train_metric, valid_metric) = (10, 0.9, 0.7027027027027027)\n",
      "(d, train_metric, valid_metric) = (15, 1.0, 0.722972972972973)\n"
     ]
    },
    {
     "name": "stderr",
     "output_type": "stream",
     "text": [
      "┌ Warning: The scitype of `X`, in `machine(model, X, ...)` is incompatible with `model=\u001b[34mNeuralNetworkClassifier{CustomNN,…} @717\u001b[39m`:\n",
      "│ scitype(X) = Table{Union{AbstractArray{Continuous,1}, AbstractArray{Count,1}}}\n",
      "│ input_scitype(model) = Table{var\"#s44\"} where var\"#s44\"<:(AbstractArray{var\"#s13\",1} where var\"#s13\"<:Continuous).\n",
      "└ @ MLJBase /home/andrew/.julia/packages/MLJBase/uKzAz/src/machines.jl:77\n",
      "┌ Warning: The scitype of `X`, in `machine(model, X, ...)` is incompatible with `model=\u001b[34mNeuralNetworkClassifier{CustomNN,…} @717\u001b[39m`:\n",
      "│ scitype(X) = Table{Union{AbstractArray{Continuous,1}, AbstractArray{Count,1}}}\n",
      "│ input_scitype(model) = Table{var\"#s44\"} where var\"#s44\"<:(AbstractArray{var\"#s13\",1} where var\"#s13\"<:Continuous).\n",
      "└ @ MLJBase /home/andrew/.julia/packages/MLJBase/uKzAz/src/machines.jl:77\n"
     ]
    },
    {
     "name": "stdout",
     "output_type": "stream",
     "text": [
      "(d, train_metric, valid_metric) = (20, 1.0, 0.722972972972973)\n"
     ]
    },
    {
     "name": "stderr",
     "output_type": "stream",
     "text": [
      "┌ Warning: The scitype of `X`, in `machine(model, X, ...)` is incompatible with `model=\u001b[34mNeuralNetworkClassifier{CustomNN,…} @717\u001b[39m`:\n",
      "│ scitype(X) = Table{Union{AbstractArray{Continuous,1}, AbstractArray{Count,1}}}\n",
      "│ input_scitype(model) = Table{var\"#s44\"} where var\"#s44\"<:(AbstractArray{var\"#s13\",1} where var\"#s13\"<:Continuous).\n",
      "└ @ MLJBase /home/andrew/.julia/packages/MLJBase/uKzAz/src/machines.jl:77\n"
     ]
    },
    {
     "name": "stdout",
     "output_type": "stream",
     "text": [
      "(d, train_metric, valid_metric) = (25, 1.0, 0.7297297297297297)\n"
     ]
    },
    {
     "name": "stderr",
     "output_type": "stream",
     "text": [
      "┌ Warning: The scitype of `X`, in `machine(model, X, ...)` is incompatible with `model=\u001b[34mNeuralNetworkClassifier{CustomNN,…} @717\u001b[39m`:\n",
      "│ scitype(X) = Table{Union{AbstractArray{Continuous,1}, AbstractArray{Count,1}}}\n",
      "│ input_scitype(model) = Table{var\"#s44\"} where var\"#s44\"<:(AbstractArray{var\"#s13\",1} where var\"#s13\"<:Continuous).\n",
      "└ @ MLJBase /home/andrew/.julia/packages/MLJBase/uKzAz/src/machines.jl:77\n"
     ]
    },
    {
     "name": "stdout",
     "output_type": "stream",
     "text": [
      "(d, train_metric, valid_metric) = (30, 1.0, 0.7567567567567568)\n"
     ]
    },
    {
     "name": "stderr",
     "output_type": "stream",
     "text": [
      "┌ Warning: The scitype of `X`, in `machine(model, X, ...)` is incompatible with `model=\u001b[34mNeuralNetworkClassifier{CustomNN,…} @717\u001b[39m`:\n",
      "│ scitype(X) = Table{Union{AbstractArray{Continuous,1}, AbstractArray{Count,1}}}\n",
      "│ input_scitype(model) = Table{var\"#s44\"} where var\"#s44\"<:(AbstractArray{var\"#s13\",1} where var\"#s13\"<:Continuous).\n",
      "└ @ MLJBase /home/andrew/.julia/packages/MLJBase/uKzAz/src/machines.jl:77\n"
     ]
    },
    {
     "name": "stdout",
     "output_type": "stream",
     "text": [
      "(d, train_metric, valid_metric) = (35, 1.0, 0.7567567567567568)\n"
     ]
    },
    {
     "name": "stderr",
     "output_type": "stream",
     "text": [
      "┌ Warning: The scitype of `X`, in `machine(model, X, ...)` is incompatible with `model=\u001b[34mNeuralNetworkClassifier{CustomNN,…} @717\u001b[39m`:\n",
      "│ scitype(X) = Table{Union{AbstractArray{Continuous,1}, AbstractArray{Count,1}}}\n",
      "│ input_scitype(model) = Table{var\"#s44\"} where var\"#s44\"<:(AbstractArray{var\"#s13\",1} where var\"#s13\"<:Continuous).\n",
      "└ @ MLJBase /home/andrew/.julia/packages/MLJBase/uKzAz/src/machines.jl:77\n"
     ]
    },
    {
     "name": "stdout",
     "output_type": "stream",
     "text": [
      "(d, train_metric, valid_metric) = (40, 1.0, 0.7702702702702703)\n"
     ]
    },
    {
     "name": "stderr",
     "output_type": "stream",
     "text": [
      "┌ Warning: The scitype of `X`, in `machine(model, X, ...)` is incompatible with `model=\u001b[34mNeuralNetworkClassifier{CustomNN,…} @717\u001b[39m`:\n",
      "│ scitype(X) = Table{Union{AbstractArray{Continuous,1}, AbstractArray{Count,1}}}\n",
      "│ input_scitype(model) = Table{var\"#s44\"} where var\"#s44\"<:(AbstractArray{var\"#s13\",1} where var\"#s13\"<:Continuous).\n",
      "└ @ MLJBase /home/andrew/.julia/packages/MLJBase/uKzAz/src/machines.jl:77\n"
     ]
    },
    {
     "name": "stdout",
     "output_type": "stream",
     "text": [
      "(d, train_metric, valid_metric) = (45, 1.0, 0.7702702702702703)\n"
     ]
    },
    {
     "name": "stderr",
     "output_type": "stream",
     "text": [
      "┌ Warning: The scitype of `X`, in `machine(model, X, ...)` is incompatible with `model=\u001b[34mNeuralNetworkClassifier{CustomNN,…} @717\u001b[39m`:\n",
      "│ scitype(X) = Table{Union{AbstractArray{Continuous,1}, AbstractArray{Count,1}}}\n",
      "│ input_scitype(model) = Table{var\"#s44\"} where var\"#s44\"<:(AbstractArray{var\"#s13\",1} where var\"#s13\"<:Continuous).\n",
      "└ @ MLJBase /home/andrew/.julia/packages/MLJBase/uKzAz/src/machines.jl:77\n"
     ]
    },
    {
     "name": "stdout",
     "output_type": "stream",
     "text": [
      "(d, train_metric, valid_metric) = (50, 1.0, 0.75)\n"
     ]
    },
    {
     "name": "stderr",
     "output_type": "stream",
     "text": [
      "┌ Warning: The scitype of `X`, in `machine(model, X, ...)` is incompatible with `model=\u001b[34mNeuralNetworkClassifier{CustomNN,…} @717\u001b[39m`:\n",
      "│ scitype(X) = Table{Union{AbstractArray{Continuous,1}, AbstractArray{Count,1}}}\n",
      "│ input_scitype(model) = Table{var\"#s44\"} where var\"#s44\"<:(AbstractArray{var\"#s13\",1} where var\"#s13\"<:Continuous).\n",
      "└ @ MLJBase /home/andrew/.julia/packages/MLJBase/uKzAz/src/machines.jl:77\n"
     ]
    },
    {
     "name": "stdout",
     "output_type": "stream",
     "text": [
      "(d, train_metric, valid_metric) = (55, 0.9818181818181818, 0.777027027027027)\n"
     ]
    },
    {
     "name": "stderr",
     "output_type": "stream",
     "text": [
      "┌ Warning: The scitype of `X`, in `machine(model, X, ...)` is incompatible with `model=\u001b[34mNeuralNetworkClassifier{CustomNN,…} @717\u001b[39m`:\n",
      "│ scitype(X) = Table{Union{AbstractArray{Continuous,1}, AbstractArray{Count,1}}}\n",
      "│ input_scitype(model) = Table{var\"#s44\"} where var\"#s44\"<:(AbstractArray{var\"#s13\",1} where var\"#s13\"<:Continuous).\n",
      "└ @ MLJBase /home/andrew/.julia/packages/MLJBase/uKzAz/src/machines.jl:77\n"
     ]
    },
    {
     "name": "stdout",
     "output_type": "stream",
     "text": [
      "(d, train_metric, valid_metric) = (60, 1.0, 0.7702702702702703)\n"
     ]
    },
    {
     "name": "stderr",
     "output_type": "stream",
     "text": [
      "┌ Warning: The scitype of `X`, in `machine(model, X, ...)` is incompatible with `model=\u001b[34mNeuralNetworkClassifier{CustomNN,…} @717\u001b[39m`:\n",
      "│ scitype(X) = Table{Union{AbstractArray{Continuous,1}, AbstractArray{Count,1}}}\n",
      "│ input_scitype(model) = Table{var\"#s44\"} where var\"#s44\"<:(AbstractArray{var\"#s13\",1} where var\"#s13\"<:Continuous).\n",
      "└ @ MLJBase /home/andrew/.julia/packages/MLJBase/uKzAz/src/machines.jl:77\n"
     ]
    },
    {
     "name": "stdout",
     "output_type": "stream",
     "text": [
      "(d, train_metric, valid_metric) = (65, 0.9846153846153847, 0.777027027027027)\n"
     ]
    },
    {
     "name": "stderr",
     "output_type": "stream",
     "text": [
      "┌ Warning: The scitype of `X`, in `machine(model, X, ...)` is incompatible with `model=\u001b[34mNeuralNetworkClassifier{CustomNN,…} @717\u001b[39m`:\n",
      "│ scitype(X) = Table{Union{AbstractArray{Continuous,1}, AbstractArray{Count,1}}}\n",
      "│ input_scitype(model) = Table{var\"#s44\"} where var\"#s44\"<:(AbstractArray{var\"#s13\",1} where var\"#s13\"<:Continuous).\n",
      "└ @ MLJBase /home/andrew/.julia/packages/MLJBase/uKzAz/src/machines.jl:77\n"
     ]
    },
    {
     "name": "stdout",
     "output_type": "stream",
     "text": [
      "(d, train_metric, valid_metric) = (70, 0.9571428571428572, 0.7567567567567568)\n"
     ]
    },
    {
     "name": "stderr",
     "output_type": "stream",
     "text": [
      "┌ Warning: The scitype of `X`, in `machine(model, X, ...)` is incompatible with `model=\u001b[34mNeuralNetworkClassifier{CustomNN,…} @717\u001b[39m`:\n",
      "│ scitype(X) = Table{Union{AbstractArray{Continuous,1}, AbstractArray{Count,1}}}\n",
      "│ input_scitype(model) = Table{var\"#s44\"} where var\"#s44\"<:(AbstractArray{var\"#s13\",1} where var\"#s13\"<:Continuous).\n",
      "└ @ MLJBase /home/andrew/.julia/packages/MLJBase/uKzAz/src/machines.jl:77\n"
     ]
    },
    {
     "name": "stdout",
     "output_type": "stream",
     "text": [
      "(d, train_metric, valid_metric) = (75, 0.96, 0.7702702702702703)\n"
     ]
    },
    {
     "name": "stderr",
     "output_type": "stream",
     "text": [
      "┌ Warning: The scitype of `X`, in `machine(model, X, ...)` is incompatible with `model=\u001b[34mNeuralNetworkClassifier{CustomNN,…} @717\u001b[39m`:\n",
      "│ scitype(X) = Table{Union{AbstractArray{Continuous,1}, AbstractArray{Count,1}}}\n",
      "│ input_scitype(model) = Table{var\"#s44\"} where var\"#s44\"<:(AbstractArray{var\"#s13\",1} where var\"#s13\"<:Continuous).\n",
      "└ @ MLJBase /home/andrew/.julia/packages/MLJBase/uKzAz/src/machines.jl:77\n"
     ]
    },
    {
     "name": "stdout",
     "output_type": "stream",
     "text": [
      "(d, train_metric, valid_metric) = (80, 0.9625, 0.7837837837837838)\n"
     ]
    },
    {
     "name": "stderr",
     "output_type": "stream",
     "text": [
      "┌ Warning: The scitype of `X`, in `machine(model, X, ...)` is incompatible with `model=\u001b[34mNeuralNetworkClassifier{CustomNN,…} @717\u001b[39m`:\n",
      "│ scitype(X) = Table{Union{AbstractArray{Continuous,1}, AbstractArray{Count,1}}}\n",
      "│ input_scitype(model) = Table{var\"#s44\"} where var\"#s44\"<:(AbstractArray{var\"#s13\",1} where var\"#s13\"<:Continuous).\n",
      "└ @ MLJBase /home/andrew/.julia/packages/MLJBase/uKzAz/src/machines.jl:77\n"
     ]
    },
    {
     "name": "stdout",
     "output_type": "stream",
     "text": [
      "(d, train_metric, valid_metric) = (85, 0.9647058823529412, 0.7297297297297297)\n"
     ]
    },
    {
     "name": "stderr",
     "output_type": "stream",
     "text": [
      "┌ Warning: The scitype of `X`, in `machine(model, X, ...)` is incompatible with `model=\u001b[34mNeuralNetworkClassifier{CustomNN,…} @717\u001b[39m`:\n",
      "│ scitype(X) = Table{Union{AbstractArray{Continuous,1}, AbstractArray{Count,1}}}\n",
      "│ input_scitype(model) = Table{var\"#s44\"} where var\"#s44\"<:(AbstractArray{var\"#s13\",1} where var\"#s13\"<:Continuous).\n",
      "└ @ MLJBase /home/andrew/.julia/packages/MLJBase/uKzAz/src/machines.jl:77\n"
     ]
    },
    {
     "name": "stdout",
     "output_type": "stream",
     "text": [
      "(d, train_metric, valid_metric) = (90, 0.9555555555555556, 0.7972972972972973)\n"
     ]
    },
    {
     "name": "stderr",
     "output_type": "stream",
     "text": [
      "┌ Warning: The scitype of `X`, in `machine(model, X, ...)` is incompatible with `model=\u001b[34mNeuralNetworkClassifier{CustomNN,…} @717\u001b[39m`:\n",
      "│ scitype(X) = Table{Union{AbstractArray{Continuous,1}, AbstractArray{Count,1}}}\n",
      "│ input_scitype(model) = Table{var\"#s44\"} where var\"#s44\"<:(AbstractArray{var\"#s13\",1} where var\"#s13\"<:Continuous).\n",
      "└ @ MLJBase /home/andrew/.julia/packages/MLJBase/uKzAz/src/machines.jl:77\n"
     ]
    },
    {
     "name": "stdout",
     "output_type": "stream",
     "text": [
      "(d, train_metric, valid_metric) = (95, 0.9578947368421052, 0.7905405405405406)\n"
     ]
    },
    {
     "name": "stderr",
     "output_type": "stream",
     "text": [
      "┌ Warning: The scitype of `X`, in `machine(model, X, ...)` is incompatible with `model=\u001b[34mNeuralNetworkClassifier{CustomNN,…} @717\u001b[39m`:\n",
      "│ scitype(X) = Table{Union{AbstractArray{Continuous,1}, AbstractArray{Count,1}}}\n",
      "│ input_scitype(model) = Table{var\"#s44\"} where var\"#s44\"<:(AbstractArray{var\"#s13\",1} where var\"#s13\"<:Continuous).\n",
      "└ @ MLJBase /home/andrew/.julia/packages/MLJBase/uKzAz/src/machines.jl:77\n"
     ]
    },
    {
     "name": "stdout",
     "output_type": "stream",
     "text": [
      "(d, train_metric, valid_metric) = (100, 0.96, 0.7972972972972973)\n"
     ]
    },
    {
     "name": "stderr",
     "output_type": "stream",
     "text": [
      "┌ Warning: The scitype of `X`, in `machine(model, X, ...)` is incompatible with `model=\u001b[34mNeuralNetworkClassifier{CustomNN,…} @717\u001b[39m`:\n",
      "│ scitype(X) = Table{Union{AbstractArray{Continuous,1}, AbstractArray{Count,1}}}\n",
      "│ input_scitype(model) = Table{var\"#s44\"} where var\"#s44\"<:(AbstractArray{var\"#s13\",1} where var\"#s13\"<:Continuous).\n",
      "└ @ MLJBase /home/andrew/.julia/packages/MLJBase/uKzAz/src/machines.jl:77\n"
     ]
    },
    {
     "name": "stdout",
     "output_type": "stream",
     "text": [
      "(d, train_metric, valid_metric) = (105, 0.9619047619047619, 0.7972972972972973)\n"
     ]
    },
    {
     "name": "stderr",
     "output_type": "stream",
     "text": [
      "┌ Warning: The scitype of `X`, in `machine(model, X, ...)` is incompatible with `model=\u001b[34mNeuralNetworkClassifier{CustomNN,…} @717\u001b[39m`:\n",
      "│ scitype(X) = Table{Union{AbstractArray{Continuous,1}, AbstractArray{Count,1}}}\n",
      "│ input_scitype(model) = Table{var\"#s44\"} where var\"#s44\"<:(AbstractArray{var\"#s13\",1} where var\"#s13\"<:Continuous).\n",
      "└ @ MLJBase /home/andrew/.julia/packages/MLJBase/uKzAz/src/machines.jl:77\n"
     ]
    },
    {
     "name": "stdout",
     "output_type": "stream",
     "text": [
      "(d, train_metric, valid_metric) = (110, 0.9636363636363636, 0.7837837837837838)\n"
     ]
    },
    {
     "name": "stderr",
     "output_type": "stream",
     "text": [
      "┌ Warning: The scitype of `X`, in `machine(model, X, ...)` is incompatible with `model=\u001b[34mNeuralNetworkClassifier{CustomNN,…} @717\u001b[39m`:\n",
      "│ scitype(X) = Table{Union{AbstractArray{Continuous,1}, AbstractArray{Count,1}}}\n",
      "│ input_scitype(model) = Table{var\"#s44\"} where var\"#s44\"<:(AbstractArray{var\"#s13\",1} where var\"#s13\"<:Continuous).\n",
      "└ @ MLJBase /home/andrew/.julia/packages/MLJBase/uKzAz/src/machines.jl:77\n"
     ]
    },
    {
     "name": "stdout",
     "output_type": "stream",
     "text": [
      "(d, train_metric, valid_metric) = (115, 0.9652173913043478, 0.777027027027027)\n"
     ]
    },
    {
     "name": "stderr",
     "output_type": "stream",
     "text": [
      "┌ Warning: The scitype of `X`, in `machine(model, X, ...)` is incompatible with `model=\u001b[34mNeuralNetworkClassifier{CustomNN,…} @717\u001b[39m`:\n",
      "│ scitype(X) = Table{Union{AbstractArray{Continuous,1}, AbstractArray{Count,1}}}\n",
      "│ input_scitype(model) = Table{var\"#s44\"} where var\"#s44\"<:(AbstractArray{var\"#s13\",1} where var\"#s13\"<:Continuous).\n",
      "└ @ MLJBase /home/andrew/.julia/packages/MLJBase/uKzAz/src/machines.jl:77\n"
     ]
    },
    {
     "name": "stdout",
     "output_type": "stream",
     "text": [
      "(d, train_metric, valid_metric) = (120, 0.9583333333333334, 0.7972972972972973)\n"
     ]
    },
    {
     "name": "stderr",
     "output_type": "stream",
     "text": [
      "┌ Warning: The scitype of `X`, in `machine(model, X, ...)` is incompatible with `model=\u001b[34mNeuralNetworkClassifier{CustomNN,…} @717\u001b[39m`:\n",
      "│ scitype(X) = Table{Union{AbstractArray{Continuous,1}, AbstractArray{Count,1}}}\n",
      "│ input_scitype(model) = Table{var\"#s44\"} where var\"#s44\"<:(AbstractArray{var\"#s13\",1} where var\"#s13\"<:Continuous).\n",
      "└ @ MLJBase /home/andrew/.julia/packages/MLJBase/uKzAz/src/machines.jl:77\n"
     ]
    },
    {
     "name": "stdout",
     "output_type": "stream",
     "text": [
      "(d, train_metric, valid_metric) = (125, 0.952, 0.8040540540540541)\n"
     ]
    },
    {
     "name": "stderr",
     "output_type": "stream",
     "text": [
      "┌ Warning: The scitype of `X`, in `machine(model, X, ...)` is incompatible with `model=\u001b[34mNeuralNetworkClassifier{CustomNN,…} @717\u001b[39m`:\n",
      "│ scitype(X) = Table{Union{AbstractArray{Continuous,1}, AbstractArray{Count,1}}}\n",
      "│ input_scitype(model) = Table{var\"#s44\"} where var\"#s44\"<:(AbstractArray{var\"#s13\",1} where var\"#s13\"<:Continuous).\n",
      "└ @ MLJBase /home/andrew/.julia/packages/MLJBase/uKzAz/src/machines.jl:77\n"
     ]
    },
    {
     "name": "stdout",
     "output_type": "stream",
     "text": [
      "(d, train_metric, valid_metric) = (130, 0.9538461538461539, 0.8378378378378378)\n"
     ]
    },
    {
     "name": "stderr",
     "output_type": "stream",
     "text": [
      "┌ Warning: The scitype of `X`, in `machine(model, X, ...)` is incompatible with `model=\u001b[34mNeuralNetworkClassifier{CustomNN,…} @717\u001b[39m`:\n",
      "│ scitype(X) = Table{Union{AbstractArray{Continuous,1}, AbstractArray{Count,1}}}\n",
      "│ input_scitype(model) = Table{var\"#s44\"} where var\"#s44\"<:(AbstractArray{var\"#s13\",1} where var\"#s13\"<:Continuous).\n",
      "└ @ MLJBase /home/andrew/.julia/packages/MLJBase/uKzAz/src/machines.jl:77\n"
     ]
    },
    {
     "name": "stdout",
     "output_type": "stream",
     "text": [
      "(d, train_metric, valid_metric) = (135, 0.9629629629629629, 0.8040540540540541)\n"
     ]
    },
    {
     "name": "stderr",
     "output_type": "stream",
     "text": [
      "┌ Warning: The scitype of `X`, in `machine(model, X, ...)` is incompatible with `model=\u001b[34mNeuralNetworkClassifier{CustomNN,…} @717\u001b[39m`:\n",
      "│ scitype(X) = Table{Union{AbstractArray{Continuous,1}, AbstractArray{Count,1}}}\n",
      "│ input_scitype(model) = Table{var\"#s44\"} where var\"#s44\"<:(AbstractArray{var\"#s13\",1} where var\"#s13\"<:Continuous).\n",
      "└ @ MLJBase /home/andrew/.julia/packages/MLJBase/uKzAz/src/machines.jl:77\n"
     ]
    },
    {
     "name": "stdout",
     "output_type": "stream",
     "text": [
      "(d, train_metric, valid_metric) = (140, 0.9642857142857143, 0.7972972972972973)\n"
     ]
    },
    {
     "name": "stderr",
     "output_type": "stream",
     "text": [
      "┌ Warning: The scitype of `X`, in `machine(model, X, ...)` is incompatible with `model=\u001b[34mNeuralNetworkClassifier{CustomNN,…} @717\u001b[39m`:\n",
      "│ scitype(X) = Table{Union{AbstractArray{Continuous,1}, AbstractArray{Count,1}}}\n",
      "│ input_scitype(model) = Table{var\"#s44\"} where var\"#s44\"<:(AbstractArray{var\"#s13\",1} where var\"#s13\"<:Continuous).\n",
      "└ @ MLJBase /home/andrew/.julia/packages/MLJBase/uKzAz/src/machines.jl:77\n"
     ]
    },
    {
     "name": "stdout",
     "output_type": "stream",
     "text": [
      "(d, train_metric, valid_metric) = (145, 0.9655172413793104, 0.8243243243243243)\n"
     ]
    },
    {
     "name": "stderr",
     "output_type": "stream",
     "text": [
      "┌ Warning: The scitype of `X`, in `machine(model, X, ...)` is incompatible with `model=\u001b[34mNeuralNetworkClassifier{CustomNN,…} @717\u001b[39m`:\n",
      "│ scitype(X) = Table{Union{AbstractArray{Continuous,1}, AbstractArray{Count,1}}}\n",
      "│ input_scitype(model) = Table{var\"#s44\"} where var\"#s44\"<:(AbstractArray{var\"#s13\",1} where var\"#s13\"<:Continuous).\n",
      "└ @ MLJBase /home/andrew/.julia/packages/MLJBase/uKzAz/src/machines.jl:77\n"
     ]
    },
    {
     "name": "stdout",
     "output_type": "stream",
     "text": [
      "(d, train_metric, valid_metric) = (150, 0.96, 0.8581081081081081)\n"
     ]
    },
    {
     "name": "stderr",
     "output_type": "stream",
     "text": [
      "┌ Warning: The scitype of `X`, in `machine(model, X, ...)` is incompatible with `model=\u001b[34mNeuralNetworkClassifier{CustomNN,…} @717\u001b[39m`:\n",
      "│ scitype(X) = Table{Union{AbstractArray{Continuous,1}, AbstractArray{Count,1}}}\n",
      "│ input_scitype(model) = Table{var\"#s44\"} where var\"#s44\"<:(AbstractArray{var\"#s13\",1} where var\"#s13\"<:Continuous).\n",
      "└ @ MLJBase /home/andrew/.julia/packages/MLJBase/uKzAz/src/machines.jl:77\n"
     ]
    },
    {
     "name": "stdout",
     "output_type": "stream",
     "text": [
      "(d, train_metric, valid_metric) = (155, 0.9548387096774194, 0.8040540540540541)\n"
     ]
    },
    {
     "name": "stderr",
     "output_type": "stream",
     "text": [
      "┌ Warning: The scitype of `X`, in `machine(model, X, ...)` is incompatible with `model=\u001b[34mNeuralNetworkClassifier{CustomNN,…} @717\u001b[39m`:\n",
      "│ scitype(X) = Table{Union{AbstractArray{Continuous,1}, AbstractArray{Count,1}}}\n",
      "│ input_scitype(model) = Table{var\"#s44\"} where var\"#s44\"<:(AbstractArray{var\"#s13\",1} where var\"#s13\"<:Continuous).\n",
      "└ @ MLJBase /home/andrew/.julia/packages/MLJBase/uKzAz/src/machines.jl:77\n"
     ]
    },
    {
     "name": "stdout",
     "output_type": "stream",
     "text": [
      "(d, train_metric, valid_metric) = (160, 0.95625, 0.8175675675675675)\n"
     ]
    },
    {
     "name": "stderr",
     "output_type": "stream",
     "text": [
      "┌ Warning: The scitype of `X`, in `machine(model, X, ...)` is incompatible with `model=\u001b[34mNeuralNetworkClassifier{CustomNN,…} @717\u001b[39m`:\n",
      "│ scitype(X) = Table{Union{AbstractArray{Continuous,1}, AbstractArray{Count,1}}}\n",
      "│ input_scitype(model) = Table{var\"#s44\"} where var\"#s44\"<:(AbstractArray{var\"#s13\",1} where var\"#s13\"<:Continuous).\n",
      "└ @ MLJBase /home/andrew/.julia/packages/MLJBase/uKzAz/src/machines.jl:77\n"
     ]
    },
    {
     "name": "stdout",
     "output_type": "stream",
     "text": [
      "(d, train_metric, valid_metric) = (165, 0.9575757575757575, 0.8175675675675675)\n"
     ]
    },
    {
     "name": "stderr",
     "output_type": "stream",
     "text": [
      "┌ Warning: The scitype of `X`, in `machine(model, X, ...)` is incompatible with `model=\u001b[34mNeuralNetworkClassifier{CustomNN,…} @717\u001b[39m`:\n",
      "│ scitype(X) = Table{Union{AbstractArray{Continuous,1}, AbstractArray{Count,1}}}\n",
      "│ input_scitype(model) = Table{var\"#s44\"} where var\"#s44\"<:(AbstractArray{var\"#s13\",1} where var\"#s13\"<:Continuous).\n",
      "└ @ MLJBase /home/andrew/.julia/packages/MLJBase/uKzAz/src/machines.jl:77\n"
     ]
    },
    {
     "name": "stdout",
     "output_type": "stream",
     "text": [
      "(d, train_metric, valid_metric) = (170, 0.9647058823529412, 0.7905405405405406)\n"
     ]
    },
    {
     "name": "stderr",
     "output_type": "stream",
     "text": [
      "┌ Warning: The scitype of `X`, in `machine(model, X, ...)` is incompatible with `model=\u001b[34mNeuralNetworkClassifier{CustomNN,…} @717\u001b[39m`:\n",
      "│ scitype(X) = Table{Union{AbstractArray{Continuous,1}, AbstractArray{Count,1}}}\n",
      "│ input_scitype(model) = Table{var\"#s44\"} where var\"#s44\"<:(AbstractArray{var\"#s13\",1} where var\"#s13\"<:Continuous).\n",
      "└ @ MLJBase /home/andrew/.julia/packages/MLJBase/uKzAz/src/machines.jl:77\n"
     ]
    },
    {
     "name": "stdout",
     "output_type": "stream",
     "text": [
      "(d, train_metric, valid_metric) = (175, 0.9485714285714286, 0.831081081081081)\n"
     ]
    },
    {
     "name": "stderr",
     "output_type": "stream",
     "text": [
      "┌ Warning: The scitype of `X`, in `machine(model, X, ...)` is incompatible with `model=\u001b[34mNeuralNetworkClassifier{CustomNN,…} @717\u001b[39m`:\n",
      "│ scitype(X) = Table{Union{AbstractArray{Continuous,1}, AbstractArray{Count,1}}}\n",
      "│ input_scitype(model) = Table{var\"#s44\"} where var\"#s44\"<:(AbstractArray{var\"#s13\",1} where var\"#s13\"<:Continuous).\n",
      "└ @ MLJBase /home/andrew/.julia/packages/MLJBase/uKzAz/src/machines.jl:77\n"
     ]
    },
    {
     "name": "stdout",
     "output_type": "stream",
     "text": [
      "(d, train_metric, valid_metric) = (180, 0.9666666666666667, 0.8040540540540541)\n"
     ]
    },
    {
     "name": "stderr",
     "output_type": "stream",
     "text": [
      "┌ Warning: The scitype of `X`, in `machine(model, X, ...)` is incompatible with `model=\u001b[34mNeuralNetworkClassifier{CustomNN,…} @717\u001b[39m`:\n",
      "│ scitype(X) = Table{Union{AbstractArray{Continuous,1}, AbstractArray{Count,1}}}\n",
      "│ input_scitype(model) = Table{var\"#s44\"} where var\"#s44\"<:(AbstractArray{var\"#s13\",1} where var\"#s13\"<:Continuous).\n",
      "└ @ MLJBase /home/andrew/.julia/packages/MLJBase/uKzAz/src/machines.jl:77\n"
     ]
    },
    {
     "name": "stdout",
     "output_type": "stream",
     "text": [
      "(d, train_metric, valid_metric) = (185, 0.9567567567567568, 0.8040540540540541)\n"
     ]
    },
    {
     "name": "stderr",
     "output_type": "stream",
     "text": [
      "┌ Warning: The scitype of `X`, in `machine(model, X, ...)` is incompatible with `model=\u001b[34mNeuralNetworkClassifier{CustomNN,…} @717\u001b[39m`:\n",
      "│ scitype(X) = Table{Union{AbstractArray{Continuous,1}, AbstractArray{Count,1}}}\n",
      "│ input_scitype(model) = Table{var\"#s44\"} where var\"#s44\"<:(AbstractArray{var\"#s13\",1} where var\"#s13\"<:Continuous).\n",
      "└ @ MLJBase /home/andrew/.julia/packages/MLJBase/uKzAz/src/machines.jl:77\n"
     ]
    },
    {
     "name": "stdout",
     "output_type": "stream",
     "text": [
      "(d, train_metric, valid_metric) = (190, 0.9578947368421052, 0.8175675675675675)\n"
     ]
    },
    {
     "name": "stderr",
     "output_type": "stream",
     "text": [
      "┌ Warning: The scitype of `X`, in `machine(model, X, ...)` is incompatible with `model=\u001b[34mNeuralNetworkClassifier{CustomNN,…} @717\u001b[39m`:\n",
      "│ scitype(X) = Table{Union{AbstractArray{Continuous,1}, AbstractArray{Count,1}}}\n",
      "│ input_scitype(model) = Table{var\"#s44\"} where var\"#s44\"<:(AbstractArray{var\"#s13\",1} where var\"#s13\"<:Continuous).\n",
      "└ @ MLJBase /home/andrew/.julia/packages/MLJBase/uKzAz/src/machines.jl:77\n"
     ]
    },
    {
     "name": "stdout",
     "output_type": "stream",
     "text": [
      "(d, train_metric, valid_metric) = (195, 0.9487179487179487, 0.831081081081081)\n"
     ]
    },
    {
     "name": "stderr",
     "output_type": "stream",
     "text": [
      "┌ Warning: The scitype of `X`, in `machine(model, X, ...)` is incompatible with `model=\u001b[34mNeuralNetworkClassifier{CustomNN,…} @717\u001b[39m`:\n",
      "│ scitype(X) = Table{Union{AbstractArray{Continuous,1}, AbstractArray{Count,1}}}\n",
      "│ input_scitype(model) = Table{var\"#s44\"} where var\"#s44\"<:(AbstractArray{var\"#s13\",1} where var\"#s13\"<:Continuous).\n",
      "└ @ MLJBase /home/andrew/.julia/packages/MLJBase/uKzAz/src/machines.jl:77\n"
     ]
    },
    {
     "name": "stdout",
     "output_type": "stream",
     "text": [
      "(d, train_metric, valid_metric) = (200, 0.955, 0.8243243243243243)\n"
     ]
    },
    {
     "name": "stderr",
     "output_type": "stream",
     "text": [
      "┌ Warning: The scitype of `X`, in `machine(model, X, ...)` is incompatible with `model=\u001b[34mNeuralNetworkClassifier{CustomNN,…} @717\u001b[39m`:\n",
      "│ scitype(X) = Table{Union{AbstractArray{Continuous,1}, AbstractArray{Count,1}}}\n",
      "│ input_scitype(model) = Table{var\"#s44\"} where var\"#s44\"<:(AbstractArray{var\"#s13\",1} where var\"#s13\"<:Continuous).\n",
      "└ @ MLJBase /home/andrew/.julia/packages/MLJBase/uKzAz/src/machines.jl:77\n"
     ]
    },
    {
     "name": "stdout",
     "output_type": "stream",
     "text": [
      "(d, train_metric, valid_metric) = (205, 0.9609756097560975, 0.831081081081081)\n"
     ]
    },
    {
     "name": "stderr",
     "output_type": "stream",
     "text": [
      "┌ Warning: The scitype of `X`, in `machine(model, X, ...)` is incompatible with `model=\u001b[34mNeuralNetworkClassifier{CustomNN,…} @717\u001b[39m`:\n",
      "│ scitype(X) = Table{Union{AbstractArray{Continuous,1}, AbstractArray{Count,1}}}\n",
      "│ input_scitype(model) = Table{var\"#s44\"} where var\"#s44\"<:(AbstractArray{var\"#s13\",1} where var\"#s13\"<:Continuous).\n",
      "└ @ MLJBase /home/andrew/.julia/packages/MLJBase/uKzAz/src/machines.jl:77\n"
     ]
    },
    {
     "name": "stdout",
     "output_type": "stream",
     "text": [
      "(d, train_metric, valid_metric) = (210, 0.9571428571428572, 0.8378378378378378)\n"
     ]
    },
    {
     "name": "stderr",
     "output_type": "stream",
     "text": [
      "┌ Warning: The scitype of `X`, in `machine(model, X, ...)` is incompatible with `model=\u001b[34mNeuralNetworkClassifier{CustomNN,…} @717\u001b[39m`:\n",
      "│ scitype(X) = Table{Union{AbstractArray{Continuous,1}, AbstractArray{Count,1}}}\n",
      "│ input_scitype(model) = Table{var\"#s44\"} where var\"#s44\"<:(AbstractArray{var\"#s13\",1} where var\"#s13\"<:Continuous).\n",
      "└ @ MLJBase /home/andrew/.julia/packages/MLJBase/uKzAz/src/machines.jl:77\n"
     ]
    },
    {
     "name": "stdout",
     "output_type": "stream",
     "text": [
      "(d, train_metric, valid_metric) = (215, 0.9441860465116279, 0.8175675675675675)\n"
     ]
    },
    {
     "name": "stderr",
     "output_type": "stream",
     "text": [
      "┌ Warning: The scitype of `X`, in `machine(model, X, ...)` is incompatible with `model=\u001b[34mNeuralNetworkClassifier{CustomNN,…} @717\u001b[39m`:\n",
      "│ scitype(X) = Table{Union{AbstractArray{Continuous,1}, AbstractArray{Count,1}}}\n",
      "│ input_scitype(model) = Table{var\"#s44\"} where var\"#s44\"<:(AbstractArray{var\"#s13\",1} where var\"#s13\"<:Continuous).\n",
      "└ @ MLJBase /home/andrew/.julia/packages/MLJBase/uKzAz/src/machines.jl:77\n"
     ]
    },
    {
     "name": "stdout",
     "output_type": "stream",
     "text": [
      "(d, train_metric, valid_metric) = (220, 0.9545454545454546, 0.8378378378378378)\n"
     ]
    },
    {
     "name": "stderr",
     "output_type": "stream",
     "text": [
      "┌ Warning: The scitype of `X`, in `machine(model, X, ...)` is incompatible with `model=\u001b[34mNeuralNetworkClassifier{CustomNN,…} @717\u001b[39m`:\n",
      "│ scitype(X) = Table{Union{AbstractArray{Continuous,1}, AbstractArray{Count,1}}}\n",
      "│ input_scitype(model) = Table{var\"#s44\"} where var\"#s44\"<:(AbstractArray{var\"#s13\",1} where var\"#s13\"<:Continuous).\n",
      "└ @ MLJBase /home/andrew/.julia/packages/MLJBase/uKzAz/src/machines.jl:77\n"
     ]
    },
    {
     "name": "stdout",
     "output_type": "stream",
     "text": [
      "(d, train_metric, valid_metric) = (225, 0.9555555555555556, 0.8378378378378378)\n"
     ]
    },
    {
     "name": "stderr",
     "output_type": "stream",
     "text": [
      "┌ Warning: The scitype of `X`, in `machine(model, X, ...)` is incompatible with `model=\u001b[34mNeuralNetworkClassifier{CustomNN,…} @717\u001b[39m`:\n",
      "│ scitype(X) = Table{Union{AbstractArray{Continuous,1}, AbstractArray{Count,1}}}\n",
      "│ input_scitype(model) = Table{var\"#s44\"} where var\"#s44\"<:(AbstractArray{var\"#s13\",1} where var\"#s13\"<:Continuous).\n",
      "└ @ MLJBase /home/andrew/.julia/packages/MLJBase/uKzAz/src/machines.jl:77\n"
     ]
    },
    {
     "name": "stdout",
     "output_type": "stream",
     "text": [
      "(d, train_metric, valid_metric) = (230, 0.9478260869565217, 0.8243243243243243)\n"
     ]
    },
    {
     "name": "stderr",
     "output_type": "stream",
     "text": [
      "┌ Warning: The scitype of `X`, in `machine(model, X, ...)` is incompatible with `model=\u001b[34mNeuralNetworkClassifier{CustomNN,…} @717\u001b[39m`:\n",
      "│ scitype(X) = Table{Union{AbstractArray{Continuous,1}, AbstractArray{Count,1}}}\n",
      "│ input_scitype(model) = Table{var\"#s44\"} where var\"#s44\"<:(AbstractArray{var\"#s13\",1} where var\"#s13\"<:Continuous).\n",
      "└ @ MLJBase /home/andrew/.julia/packages/MLJBase/uKzAz/src/machines.jl:77\n"
     ]
    },
    {
     "name": "stdout",
     "output_type": "stream",
     "text": [
      "(d, train_metric, valid_metric) = (235, 0.9531914893617022, 0.8445945945945946)\n"
     ]
    },
    {
     "name": "stderr",
     "output_type": "stream",
     "text": [
      "┌ Warning: The scitype of `X`, in `machine(model, X, ...)` is incompatible with `model=\u001b[34mNeuralNetworkClassifier{CustomNN,…} @717\u001b[39m`:\n",
      "│ scitype(X) = Table{Union{AbstractArray{Continuous,1}, AbstractArray{Count,1}}}\n",
      "│ input_scitype(model) = Table{var\"#s44\"} where var\"#s44\"<:(AbstractArray{var\"#s13\",1} where var\"#s13\"<:Continuous).\n",
      "└ @ MLJBase /home/andrew/.julia/packages/MLJBase/uKzAz/src/machines.jl:77\n"
     ]
    },
    {
     "name": "stdout",
     "output_type": "stream",
     "text": [
      "(d, train_metric, valid_metric) = (240, 0.9083333333333333, 0.777027027027027)\n"
     ]
    },
    {
     "name": "stderr",
     "output_type": "stream",
     "text": [
      "┌ Warning: The scitype of `X`, in `machine(model, X, ...)` is incompatible with `model=\u001b[34mNeuralNetworkClassifier{CustomNN,…} @717\u001b[39m`:\n",
      "│ scitype(X) = Table{Union{AbstractArray{Continuous,1}, AbstractArray{Count,1}}}\n",
      "│ input_scitype(model) = Table{var\"#s44\"} where var\"#s44\"<:(AbstractArray{var\"#s13\",1} where var\"#s13\"<:Continuous).\n",
      "└ @ MLJBase /home/andrew/.julia/packages/MLJBase/uKzAz/src/machines.jl:77\n"
     ]
    },
    {
     "name": "stdout",
     "output_type": "stream",
     "text": [
      "(d, train_metric, valid_metric) = (245, 0.9591836734693877, 0.8175675675675675)\n"
     ]
    },
    {
     "name": "stderr",
     "output_type": "stream",
     "text": [
      "┌ Warning: The scitype of `X`, in `machine(model, X, ...)` is incompatible with `model=\u001b[34mNeuralNetworkClassifier{CustomNN,…} @717\u001b[39m`:\n",
      "│ scitype(X) = Table{Union{AbstractArray{Continuous,1}, AbstractArray{Count,1}}}\n",
      "│ input_scitype(model) = Table{var\"#s44\"} where var\"#s44\"<:(AbstractArray{var\"#s13\",1} where var\"#s13\"<:Continuous).\n",
      "└ @ MLJBase /home/andrew/.julia/packages/MLJBase/uKzAz/src/machines.jl:77\n"
     ]
    },
    {
     "name": "stdout",
     "output_type": "stream",
     "text": [
      "(d, train_metric, valid_metric) = (250, 0.952, 0.8581081081081081)\n"
     ]
    },
    {
     "name": "stderr",
     "output_type": "stream",
     "text": [
      "┌ Warning: The scitype of `X`, in `machine(model, X, ...)` is incompatible with `model=\u001b[34mNeuralNetworkClassifier{CustomNN,…} @717\u001b[39m`:\n",
      "│ scitype(X) = Table{Union{AbstractArray{Continuous,1}, AbstractArray{Count,1}}}\n",
      "│ input_scitype(model) = Table{var\"#s44\"} where var\"#s44\"<:(AbstractArray{var\"#s13\",1} where var\"#s13\"<:Continuous).\n",
      "└ @ MLJBase /home/andrew/.julia/packages/MLJBase/uKzAz/src/machines.jl:77\n"
     ]
    },
    {
     "name": "stdout",
     "output_type": "stream",
     "text": [
      "(d, train_metric, valid_metric) = (255, 0.9568627450980393, 0.8716216216216216)\n"
     ]
    },
    {
     "name": "stderr",
     "output_type": "stream",
     "text": [
      "┌ Warning: The scitype of `X`, in `machine(model, X, ...)` is incompatible with `model=\u001b[34mNeuralNetworkClassifier{CustomNN,…} @717\u001b[39m`:\n",
      "│ scitype(X) = Table{Union{AbstractArray{Continuous,1}, AbstractArray{Count,1}}}\n",
      "│ input_scitype(model) = Table{var\"#s44\"} where var\"#s44\"<:(AbstractArray{var\"#s13\",1} where var\"#s13\"<:Continuous).\n",
      "└ @ MLJBase /home/andrew/.julia/packages/MLJBase/uKzAz/src/machines.jl:77\n"
     ]
    },
    {
     "name": "stdout",
     "output_type": "stream",
     "text": [
      "(d, train_metric, valid_metric) = (260, 0.9653846153846154, 0.8513513513513513)\n"
     ]
    },
    {
     "name": "stderr",
     "output_type": "stream",
     "text": [
      "┌ Warning: The scitype of `X`, in `machine(model, X, ...)` is incompatible with `model=\u001b[34mNeuralNetworkClassifier{CustomNN,…} @717\u001b[39m`:\n",
      "│ scitype(X) = Table{Union{AbstractArray{Continuous,1}, AbstractArray{Count,1}}}\n",
      "│ input_scitype(model) = Table{var\"#s44\"} where var\"#s44\"<:(AbstractArray{var\"#s13\",1} where var\"#s13\"<:Continuous).\n",
      "└ @ MLJBase /home/andrew/.julia/packages/MLJBase/uKzAz/src/machines.jl:77\n"
     ]
    },
    {
     "name": "stdout",
     "output_type": "stream",
     "text": [
      "(d, train_metric, valid_metric) = (265, 0.9547169811320755, 0.8513513513513513)\n"
     ]
    },
    {
     "name": "stderr",
     "output_type": "stream",
     "text": [
      "┌ Warning: The scitype of `X`, in `machine(model, X, ...)` is incompatible with `model=\u001b[34mNeuralNetworkClassifier{CustomNN,…} @717\u001b[39m`:\n",
      "│ scitype(X) = Table{Union{AbstractArray{Continuous,1}, AbstractArray{Count,1}}}\n",
      "│ input_scitype(model) = Table{var\"#s44\"} where var\"#s44\"<:(AbstractArray{var\"#s13\",1} where var\"#s13\"<:Continuous).\n",
      "└ @ MLJBase /home/andrew/.julia/packages/MLJBase/uKzAz/src/machines.jl:77\n"
     ]
    },
    {
     "name": "stdout",
     "output_type": "stream",
     "text": [
      "(d, train_metric, valid_metric) = (270, 0.9555555555555556, 0.8783783783783784)\n"
     ]
    },
    {
     "name": "stderr",
     "output_type": "stream",
     "text": [
      "┌ Warning: The scitype of `X`, in `machine(model, X, ...)` is incompatible with `model=\u001b[34mNeuralNetworkClassifier{CustomNN,…} @717\u001b[39m`:\n",
      "│ scitype(X) = Table{Union{AbstractArray{Continuous,1}, AbstractArray{Count,1}}}\n",
      "│ input_scitype(model) = Table{var\"#s44\"} where var\"#s44\"<:(AbstractArray{var\"#s13\",1} where var\"#s13\"<:Continuous).\n",
      "└ @ MLJBase /home/andrew/.julia/packages/MLJBase/uKzAz/src/machines.jl:77\n"
     ]
    },
    {
     "name": "stdout",
     "output_type": "stream",
     "text": [
      "(d, train_metric, valid_metric) = (275, 0.9672727272727273, 0.8581081081081081)\n"
     ]
    },
    {
     "name": "stderr",
     "output_type": "stream",
     "text": [
      "┌ Warning: The scitype of `X`, in `machine(model, X, ...)` is incompatible with `model=\u001b[34mNeuralNetworkClassifier{CustomNN,…} @717\u001b[39m`:\n",
      "│ scitype(X) = Table{Union{AbstractArray{Continuous,1}, AbstractArray{Count,1}}}\n",
      "│ input_scitype(model) = Table{var\"#s44\"} where var\"#s44\"<:(AbstractArray{var\"#s13\",1} where var\"#s13\"<:Continuous).\n",
      "└ @ MLJBase /home/andrew/.julia/packages/MLJBase/uKzAz/src/machines.jl:77\n"
     ]
    },
    {
     "name": "stdout",
     "output_type": "stream",
     "text": [
      "(d, train_metric, valid_metric) = (280, 0.9678571428571429, 0.831081081081081)\n"
     ]
    },
    {
     "name": "stderr",
     "output_type": "stream",
     "text": [
      "┌ Warning: The scitype of `X`, in `machine(model, X, ...)` is incompatible with `model=\u001b[34mNeuralNetworkClassifier{CustomNN,…} @717\u001b[39m`:\n",
      "│ scitype(X) = Table{Union{AbstractArray{Continuous,1}, AbstractArray{Count,1}}}\n",
      "│ input_scitype(model) = Table{var\"#s44\"} where var\"#s44\"<:(AbstractArray{var\"#s13\",1} where var\"#s13\"<:Continuous).\n",
      "└ @ MLJBase /home/andrew/.julia/packages/MLJBase/uKzAz/src/machines.jl:77\n"
     ]
    },
    {
     "name": "stdout",
     "output_type": "stream",
     "text": [
      "(d, train_metric, valid_metric) = (285, 0.9649122807017544, 0.8445945945945946)\n"
     ]
    },
    {
     "name": "stderr",
     "output_type": "stream",
     "text": [
      "┌ Warning: The scitype of `X`, in `machine(model, X, ...)` is incompatible with `model=\u001b[34mNeuralNetworkClassifier{CustomNN,…} @717\u001b[39m`:\n",
      "│ scitype(X) = Table{Union{AbstractArray{Continuous,1}, AbstractArray{Count,1}}}\n",
      "│ input_scitype(model) = Table{var\"#s44\"} where var\"#s44\"<:(AbstractArray{var\"#s13\",1} where var\"#s13\"<:Continuous).\n",
      "└ @ MLJBase /home/andrew/.julia/packages/MLJBase/uKzAz/src/machines.jl:77\n"
     ]
    },
    {
     "name": "stdout",
     "output_type": "stream",
     "text": [
      "(d, train_metric, valid_metric) = (290, 0.9551724137931035, 0.8648648648648649)\n"
     ]
    },
    {
     "name": "stderr",
     "output_type": "stream",
     "text": [
      "┌ Warning: The scitype of `X`, in `machine(model, X, ...)` is incompatible with `model=\u001b[34mNeuralNetworkClassifier{CustomNN,…} @717\u001b[39m`:\n",
      "│ scitype(X) = Table{Union{AbstractArray{Continuous,1}, AbstractArray{Count,1}}}\n",
      "│ input_scitype(model) = Table{var\"#s44\"} where var\"#s44\"<:(AbstractArray{var\"#s13\",1} where var\"#s13\"<:Continuous).\n",
      "└ @ MLJBase /home/andrew/.julia/packages/MLJBase/uKzAz/src/machines.jl:77\n"
     ]
    },
    {
     "name": "stdout",
     "output_type": "stream",
     "text": [
      "(d, train_metric, valid_metric) = (295, 0.9457627118644067, 0.8175675675675675)\n"
     ]
    },
    {
     "name": "stderr",
     "output_type": "stream",
     "text": [
      "┌ Warning: The scitype of `X`, in `machine(model, X, ...)` is incompatible with `model=\u001b[34mNeuralNetworkClassifier{CustomNN,…} @717\u001b[39m`:\n",
      "│ scitype(X) = Table{Union{AbstractArray{Continuous,1}, AbstractArray{Count,1}}}\n",
      "│ input_scitype(model) = Table{var\"#s44\"} where var\"#s44\"<:(AbstractArray{var\"#s13\",1} where var\"#s13\"<:Continuous).\n",
      "└ @ MLJBase /home/andrew/.julia/packages/MLJBase/uKzAz/src/machines.jl:77\n"
     ]
    },
    {
     "name": "stdout",
     "output_type": "stream",
     "text": [
      "(d, train_metric, valid_metric) = (300, 0.97, 0.8716216216216216)\n"
     ]
    },
    {
     "name": "stderr",
     "output_type": "stream",
     "text": [
      "┌ Warning: The scitype of `X`, in `machine(model, X, ...)` is incompatible with `model=\u001b[34mNeuralNetworkClassifier{CustomNN,…} @717\u001b[39m`:\n",
      "│ scitype(X) = Table{Union{AbstractArray{Continuous,1}, AbstractArray{Count,1}}}\n",
      "│ input_scitype(model) = Table{var\"#s44\"} where var\"#s44\"<:(AbstractArray{var\"#s13\",1} where var\"#s13\"<:Continuous).\n",
      "└ @ MLJBase /home/andrew/.julia/packages/MLJBase/uKzAz/src/machines.jl:77\n"
     ]
    },
    {
     "name": "stdout",
     "output_type": "stream",
     "text": [
      "(d, train_metric, valid_metric) = (305, 0.9606557377049181, 0.8716216216216216)\n"
     ]
    },
    {
     "name": "stderr",
     "output_type": "stream",
     "text": [
      "┌ Warning: The scitype of `X`, in `machine(model, X, ...)` is incompatible with `model=\u001b[34mNeuralNetworkClassifier{CustomNN,…} @717\u001b[39m`:\n",
      "│ scitype(X) = Table{Union{AbstractArray{Continuous,1}, AbstractArray{Count,1}}}\n",
      "│ input_scitype(model) = Table{var\"#s44\"} where var\"#s44\"<:(AbstractArray{var\"#s13\",1} where var\"#s13\"<:Continuous).\n",
      "└ @ MLJBase /home/andrew/.julia/packages/MLJBase/uKzAz/src/machines.jl:77\n"
     ]
    },
    {
     "name": "stdout",
     "output_type": "stream",
     "text": [
      "(d, train_metric, valid_metric) = (310, 0.967741935483871, 0.8513513513513513)\n"
     ]
    },
    {
     "name": "stderr",
     "output_type": "stream",
     "text": [
      "┌ Warning: The scitype of `X`, in `machine(model, X, ...)` is incompatible with `model=\u001b[34mNeuralNetworkClassifier{CustomNN,…} @717\u001b[39m`:\n",
      "│ scitype(X) = Table{Union{AbstractArray{Continuous,1}, AbstractArray{Count,1}}}\n",
      "│ input_scitype(model) = Table{var\"#s44\"} where var\"#s44\"<:(AbstractArray{var\"#s13\",1} where var\"#s13\"<:Continuous).\n",
      "└ @ MLJBase /home/andrew/.julia/packages/MLJBase/uKzAz/src/machines.jl:77\n"
     ]
    },
    {
     "name": "stdout",
     "output_type": "stream",
     "text": [
      "(d, train_metric, valid_metric) = (315, 0.9714285714285714, 0.8581081081081081)\n"
     ]
    },
    {
     "name": "stderr",
     "output_type": "stream",
     "text": [
      "┌ Warning: The scitype of `X`, in `machine(model, X, ...)` is incompatible with `model=\u001b[34mNeuralNetworkClassifier{CustomNN,…} @717\u001b[39m`:\n",
      "│ scitype(X) = Table{Union{AbstractArray{Continuous,1}, AbstractArray{Count,1}}}\n",
      "│ input_scitype(model) = Table{var\"#s44\"} where var\"#s44\"<:(AbstractArray{var\"#s13\",1} where var\"#s13\"<:Continuous).\n",
      "└ @ MLJBase /home/andrew/.julia/packages/MLJBase/uKzAz/src/machines.jl:77\n"
     ]
    },
    {
     "name": "stdout",
     "output_type": "stream",
     "text": [
      "(d, train_metric, valid_metric) = (320, 0.975, 0.8648648648648649)\n"
     ]
    },
    {
     "name": "stderr",
     "output_type": "stream",
     "text": [
      "┌ Warning: The scitype of `X`, in `machine(model, X, ...)` is incompatible with `model=\u001b[34mNeuralNetworkClassifier{CustomNN,…} @717\u001b[39m`:\n",
      "│ scitype(X) = Table{Union{AbstractArray{Continuous,1}, AbstractArray{Count,1}}}\n",
      "│ input_scitype(model) = Table{var\"#s44\"} where var\"#s44\"<:(AbstractArray{var\"#s13\",1} where var\"#s13\"<:Continuous).\n",
      "└ @ MLJBase /home/andrew/.julia/packages/MLJBase/uKzAz/src/machines.jl:77\n"
     ]
    },
    {
     "name": "stdout",
     "output_type": "stream",
     "text": [
      "(d, train_metric, valid_metric) = (325, 0.9661538461538461, 0.8648648648648649)\n"
     ]
    },
    {
     "name": "stderr",
     "output_type": "stream",
     "text": [
      "┌ Warning: The scitype of `X`, in `machine(model, X, ...)` is incompatible with `model=\u001b[34mNeuralNetworkClassifier{CustomNN,…} @717\u001b[39m`:\n",
      "│ scitype(X) = Table{Union{AbstractArray{Continuous,1}, AbstractArray{Count,1}}}\n",
      "│ input_scitype(model) = Table{var\"#s44\"} where var\"#s44\"<:(AbstractArray{var\"#s13\",1} where var\"#s13\"<:Continuous).\n",
      "└ @ MLJBase /home/andrew/.julia/packages/MLJBase/uKzAz/src/machines.jl:77\n"
     ]
    },
    {
     "name": "stdout",
     "output_type": "stream",
     "text": [
      "(d, train_metric, valid_metric) = (330, 0.9606060606060606, 0.8918918918918919)\n"
     ]
    },
    {
     "name": "stderr",
     "output_type": "stream",
     "text": [
      "┌ Warning: The scitype of `X`, in `machine(model, X, ...)` is incompatible with `model=\u001b[34mNeuralNetworkClassifier{CustomNN,…} @717\u001b[39m`:\n",
      "│ scitype(X) = Table{Union{AbstractArray{Continuous,1}, AbstractArray{Count,1}}}\n",
      "│ input_scitype(model) = Table{var\"#s44\"} where var\"#s44\"<:(AbstractArray{var\"#s13\",1} where var\"#s13\"<:Continuous).\n",
      "└ @ MLJBase /home/andrew/.julia/packages/MLJBase/uKzAz/src/machines.jl:77\n"
     ]
    },
    {
     "name": "stdout",
     "output_type": "stream",
     "text": [
      "(d, train_metric, valid_metric) = (335, 0.9641791044776119, 0.8648648648648649)\n"
     ]
    },
    {
     "name": "stderr",
     "output_type": "stream",
     "text": [
      "┌ Warning: The scitype of `X`, in `machine(model, X, ...)` is incompatible with `model=\u001b[34mNeuralNetworkClassifier{CustomNN,…} @717\u001b[39m`:\n",
      "│ scitype(X) = Table{Union{AbstractArray{Continuous,1}, AbstractArray{Count,1}}}\n",
      "│ input_scitype(model) = Table{var\"#s44\"} where var\"#s44\"<:(AbstractArray{var\"#s13\",1} where var\"#s13\"<:Continuous).\n",
      "└ @ MLJBase /home/andrew/.julia/packages/MLJBase/uKzAz/src/machines.jl:77\n"
     ]
    },
    {
     "name": "stdout",
     "output_type": "stream",
     "text": [
      "(d, train_metric, valid_metric) = (340, 0.9735294117647059, 0.8851351351351351)\n"
     ]
    },
    {
     "name": "stderr",
     "output_type": "stream",
     "text": [
      "┌ Warning: The scitype of `X`, in `machine(model, X, ...)` is incompatible with `model=\u001b[34mNeuralNetworkClassifier{CustomNN,…} @717\u001b[39m`:\n",
      "│ scitype(X) = Table{Union{AbstractArray{Continuous,1}, AbstractArray{Count,1}}}\n",
      "│ input_scitype(model) = Table{var\"#s44\"} where var\"#s44\"<:(AbstractArray{var\"#s13\",1} where var\"#s13\"<:Continuous).\n",
      "└ @ MLJBase /home/andrew/.julia/packages/MLJBase/uKzAz/src/machines.jl:77\n"
     ]
    },
    {
     "name": "stdout",
     "output_type": "stream",
     "text": [
      "(d, train_metric, valid_metric) = (345, 0.9710144927536232, 0.8648648648648649)\n"
     ]
    },
    {
     "name": "stderr",
     "output_type": "stream",
     "text": [
      "┌ Warning: The scitype of `X`, in `machine(model, X, ...)` is incompatible with `model=\u001b[34mNeuralNetworkClassifier{CustomNN,…} @717\u001b[39m`:\n",
      "│ scitype(X) = Table{Union{AbstractArray{Continuous,1}, AbstractArray{Count,1}}}\n",
      "│ input_scitype(model) = Table{var\"#s44\"} where var\"#s44\"<:(AbstractArray{var\"#s13\",1} where var\"#s13\"<:Continuous).\n",
      "└ @ MLJBase /home/andrew/.julia/packages/MLJBase/uKzAz/src/machines.jl:77\n"
     ]
    },
    {
     "name": "stdout",
     "output_type": "stream",
     "text": [
      "(d, train_metric, valid_metric) = (350, 0.9628571428571429, 0.8513513513513513)\n"
     ]
    },
    {
     "name": "stderr",
     "output_type": "stream",
     "text": [
      "┌ Warning: The scitype of `X`, in `machine(model, X, ...)` is incompatible with `model=\u001b[34mNeuralNetworkClassifier{CustomNN,…} @717\u001b[39m`:\n",
      "│ scitype(X) = Table{Union{AbstractArray{Continuous,1}, AbstractArray{Count,1}}}\n",
      "│ input_scitype(model) = Table{var\"#s44\"} where var\"#s44\"<:(AbstractArray{var\"#s13\",1} where var\"#s13\"<:Continuous).\n",
      "└ @ MLJBase /home/andrew/.julia/packages/MLJBase/uKzAz/src/machines.jl:77\n"
     ]
    },
    {
     "name": "stdout",
     "output_type": "stream",
     "text": [
      "(d, train_metric, valid_metric) = (355, 0.971830985915493, 0.8851351351351351)\n"
     ]
    },
    {
     "name": "stderr",
     "output_type": "stream",
     "text": [
      "┌ Warning: The scitype of `X`, in `machine(model, X, ...)` is incompatible with `model=\u001b[34mNeuralNetworkClassifier{CustomNN,…} @717\u001b[39m`:\n",
      "│ scitype(X) = Table{Union{AbstractArray{Continuous,1}, AbstractArray{Count,1}}}\n",
      "│ input_scitype(model) = Table{var\"#s44\"} where var\"#s44\"<:(AbstractArray{var\"#s13\",1} where var\"#s13\"<:Continuous).\n",
      "└ @ MLJBase /home/andrew/.julia/packages/MLJBase/uKzAz/src/machines.jl:77\n"
     ]
    },
    {
     "name": "stdout",
     "output_type": "stream",
     "text": [
      "(d, train_metric, valid_metric) = (360, 0.9694444444444444, 0.8648648648648649)\n"
     ]
    },
    {
     "name": "stderr",
     "output_type": "stream",
     "text": [
      "┌ Warning: The scitype of `X`, in `machine(model, X, ...)` is incompatible with `model=\u001b[34mNeuralNetworkClassifier{CustomNN,…} @717\u001b[39m`:\n",
      "│ scitype(X) = Table{Union{AbstractArray{Continuous,1}, AbstractArray{Count,1}}}\n",
      "│ input_scitype(model) = Table{var\"#s44\"} where var\"#s44\"<:(AbstractArray{var\"#s13\",1} where var\"#s13\"<:Continuous).\n",
      "└ @ MLJBase /home/andrew/.julia/packages/MLJBase/uKzAz/src/machines.jl:77\n"
     ]
    },
    {
     "name": "stdout",
     "output_type": "stream",
     "text": [
      "(d, train_metric, valid_metric) = (365, 0.9698630136986301, 0.8378378378378378)\n"
     ]
    },
    {
     "name": "stderr",
     "output_type": "stream",
     "text": [
      "┌ Warning: The scitype of `X`, in `machine(model, X, ...)` is incompatible with `model=\u001b[34mNeuralNetworkClassifier{CustomNN,…} @717\u001b[39m`:\n",
      "│ scitype(X) = Table{Union{AbstractArray{Continuous,1}, AbstractArray{Count,1}}}\n",
      "│ input_scitype(model) = Table{var\"#s44\"} where var\"#s44\"<:(AbstractArray{var\"#s13\",1} where var\"#s13\"<:Continuous).\n",
      "└ @ MLJBase /home/andrew/.julia/packages/MLJBase/uKzAz/src/machines.jl:77\n"
     ]
    },
    {
     "name": "stdout",
     "output_type": "stream",
     "text": [
      "(d, train_metric, valid_metric) = (370, 0.9702702702702702, 0.831081081081081)\n"
     ]
    },
    {
     "name": "stderr",
     "output_type": "stream",
     "text": [
      "┌ Warning: The scitype of `X`, in `machine(model, X, ...)` is incompatible with `model=\u001b[34mNeuralNetworkClassifier{CustomNN,…} @717\u001b[39m`:\n",
      "│ scitype(X) = Table{Union{AbstractArray{Continuous,1}, AbstractArray{Count,1}}}\n",
      "│ input_scitype(model) = Table{var\"#s44\"} where var\"#s44\"<:(AbstractArray{var\"#s13\",1} where var\"#s13\"<:Continuous).\n",
      "└ @ MLJBase /home/andrew/.julia/packages/MLJBase/uKzAz/src/machines.jl:77\n"
     ]
    },
    {
     "name": "stdout",
     "output_type": "stream",
     "text": [
      "(d, train_metric, valid_metric) = (375, 0.9546666666666667, 0.8716216216216216)\n"
     ]
    },
    {
     "name": "stderr",
     "output_type": "stream",
     "text": [
      "┌ Warning: The scitype of `X`, in `machine(model, X, ...)` is incompatible with `model=\u001b[34mNeuralNetworkClassifier{CustomNN,…} @717\u001b[39m`:\n",
      "│ scitype(X) = Table{Union{AbstractArray{Continuous,1}, AbstractArray{Count,1}}}\n",
      "│ input_scitype(model) = Table{var\"#s44\"} where var\"#s44\"<:(AbstractArray{var\"#s13\",1} where var\"#s13\"<:Continuous).\n",
      "└ @ MLJBase /home/andrew/.julia/packages/MLJBase/uKzAz/src/machines.jl:77\n"
     ]
    },
    {
     "name": "stdout",
     "output_type": "stream",
     "text": [
      "(d, train_metric, valid_metric) = (380, 0.9421052631578948, 0.8581081081081081)\n"
     ]
    },
    {
     "name": "stderr",
     "output_type": "stream",
     "text": [
      "┌ Warning: The scitype of `X`, in `machine(model, X, ...)` is incompatible with `model=\u001b[34mNeuralNetworkClassifier{CustomNN,…} @717\u001b[39m`:\n",
      "│ scitype(X) = Table{Union{AbstractArray{Continuous,1}, AbstractArray{Count,1}}}\n",
      "│ input_scitype(model) = Table{var\"#s44\"} where var\"#s44\"<:(AbstractArray{var\"#s13\",1} where var\"#s13\"<:Continuous).\n",
      "└ @ MLJBase /home/andrew/.julia/packages/MLJBase/uKzAz/src/machines.jl:77\n"
     ]
    },
    {
     "name": "stdout",
     "output_type": "stream",
     "text": [
      "(d, train_metric, valid_metric) = (385, 0.9688311688311688, 0.8378378378378378)\n"
     ]
    },
    {
     "name": "stderr",
     "output_type": "stream",
     "text": [
      "┌ Warning: The scitype of `X`, in `machine(model, X, ...)` is incompatible with `model=\u001b[34mNeuralNetworkClassifier{CustomNN,…} @717\u001b[39m`:\n",
      "│ scitype(X) = Table{Union{AbstractArray{Continuous,1}, AbstractArray{Count,1}}}\n",
      "│ input_scitype(model) = Table{var\"#s44\"} where var\"#s44\"<:(AbstractArray{var\"#s13\",1} where var\"#s13\"<:Continuous).\n",
      "└ @ MLJBase /home/andrew/.julia/packages/MLJBase/uKzAz/src/machines.jl:77\n"
     ]
    },
    {
     "name": "stdout",
     "output_type": "stream",
     "text": [
      "(d, train_metric, valid_metric) = (390, 0.9717948717948718, 0.8445945945945946)\n"
     ]
    },
    {
     "name": "stderr",
     "output_type": "stream",
     "text": [
      "┌ Warning: The scitype of `X`, in `machine(model, X, ...)` is incompatible with `model=\u001b[34mNeuralNetworkClassifier{CustomNN,…} @717\u001b[39m`:\n",
      "│ scitype(X) = Table{Union{AbstractArray{Continuous,1}, AbstractArray{Count,1}}}\n",
      "│ input_scitype(model) = Table{var\"#s44\"} where var\"#s44\"<:(AbstractArray{var\"#s13\",1} where var\"#s13\"<:Continuous).\n",
      "└ @ MLJBase /home/andrew/.julia/packages/MLJBase/uKzAz/src/machines.jl:77\n"
     ]
    },
    {
     "name": "stdout",
     "output_type": "stream",
     "text": [
      "(d, train_metric, valid_metric) = (395, 0.959493670886076, 0.8445945945945946)\n"
     ]
    },
    {
     "name": "stderr",
     "output_type": "stream",
     "text": [
      "┌ Warning: The scitype of `X`, in `machine(model, X, ...)` is incompatible with `model=\u001b[34mNeuralNetworkClassifier{CustomNN,…} @717\u001b[39m`:\n",
      "│ scitype(X) = Table{Union{AbstractArray{Continuous,1}, AbstractArray{Count,1}}}\n",
      "│ input_scitype(model) = Table{var\"#s44\"} where var\"#s44\"<:(AbstractArray{var\"#s13\",1} where var\"#s13\"<:Continuous).\n",
      "└ @ MLJBase /home/andrew/.julia/packages/MLJBase/uKzAz/src/machines.jl:77\n"
     ]
    },
    {
     "name": "stdout",
     "output_type": "stream",
     "text": [
      "(d, train_metric, valid_metric) = (400, 0.97, 0.8445945945945946)\n"
     ]
    },
    {
     "name": "stderr",
     "output_type": "stream",
     "text": [
      "┌ Warning: The scitype of `X`, in `machine(model, X, ...)` is incompatible with `model=\u001b[34mNeuralNetworkClassifier{CustomNN,…} @717\u001b[39m`:\n",
      "│ scitype(X) = Table{Union{AbstractArray{Continuous,1}, AbstractArray{Count,1}}}\n",
      "│ input_scitype(model) = Table{var\"#s44\"} where var\"#s44\"<:(AbstractArray{var\"#s13\",1} where var\"#s13\"<:Continuous).\n",
      "└ @ MLJBase /home/andrew/.julia/packages/MLJBase/uKzAz/src/machines.jl:77\n"
     ]
    },
    {
     "name": "stdout",
     "output_type": "stream",
     "text": [
      "(d, train_metric, valid_metric) = (405, 0.9679012345679012, 0.8581081081081081)\n"
     ]
    },
    {
     "name": "stderr",
     "output_type": "stream",
     "text": [
      "┌ Warning: The scitype of `X`, in `machine(model, X, ...)` is incompatible with `model=\u001b[34mNeuralNetworkClassifier{CustomNN,…} @717\u001b[39m`:\n",
      "│ scitype(X) = Table{Union{AbstractArray{Continuous,1}, AbstractArray{Count,1}}}\n",
      "│ input_scitype(model) = Table{var\"#s44\"} where var\"#s44\"<:(AbstractArray{var\"#s13\",1} where var\"#s13\"<:Continuous).\n",
      "└ @ MLJBase /home/andrew/.julia/packages/MLJBase/uKzAz/src/machines.jl:77\n"
     ]
    },
    {
     "name": "stdout",
     "output_type": "stream",
     "text": [
      "(d, train_metric, valid_metric) = (410, 0.9439024390243902, 0.8445945945945946)\n"
     ]
    },
    {
     "name": "stderr",
     "output_type": "stream",
     "text": [
      "┌ Warning: The scitype of `X`, in `machine(model, X, ...)` is incompatible with `model=\u001b[34mNeuralNetworkClassifier{CustomNN,…} @717\u001b[39m`:\n",
      "│ scitype(X) = Table{Union{AbstractArray{Continuous,1}, AbstractArray{Count,1}}}\n",
      "│ input_scitype(model) = Table{var\"#s44\"} where var\"#s44\"<:(AbstractArray{var\"#s13\",1} where var\"#s13\"<:Continuous).\n",
      "└ @ MLJBase /home/andrew/.julia/packages/MLJBase/uKzAz/src/machines.jl:77\n"
     ]
    },
    {
     "name": "stdout",
     "output_type": "stream",
     "text": [
      "(d, train_metric, valid_metric) = (415, 0.9253012048192771, 0.8648648648648649)\n"
     ]
    },
    {
     "name": "stderr",
     "output_type": "stream",
     "text": [
      "┌ Warning: The scitype of `X`, in `machine(model, X, ...)` is incompatible with `model=\u001b[34mNeuralNetworkClassifier{CustomNN,…} @717\u001b[39m`:\n",
      "│ scitype(X) = Table{Union{AbstractArray{Continuous,1}, AbstractArray{Count,1}}}\n",
      "│ input_scitype(model) = Table{var\"#s44\"} where var\"#s44\"<:(AbstractArray{var\"#s13\",1} where var\"#s13\"<:Continuous).\n",
      "└ @ MLJBase /home/andrew/.julia/packages/MLJBase/uKzAz/src/machines.jl:77\n"
     ]
    },
    {
     "name": "stdout",
     "output_type": "stream",
     "text": [
      "(d, train_metric, valid_metric) = (420, 0.9714285714285714, 0.8445945945945946)\n"
     ]
    },
    {
     "name": "stderr",
     "output_type": "stream",
     "text": [
      "┌ Warning: The scitype of `X`, in `machine(model, X, ...)` is incompatible with `model=\u001b[34mNeuralNetworkClassifier{CustomNN,…} @717\u001b[39m`:\n",
      "│ scitype(X) = Table{Union{AbstractArray{Continuous,1}, AbstractArray{Count,1}}}\n",
      "│ input_scitype(model) = Table{var\"#s44\"} where var\"#s44\"<:(AbstractArray{var\"#s13\",1} where var\"#s13\"<:Continuous).\n",
      "└ @ MLJBase /home/andrew/.julia/packages/MLJBase/uKzAz/src/machines.jl:77\n"
     ]
    },
    {
     "name": "stdout",
     "output_type": "stream",
     "text": [
      "(d, train_metric, valid_metric) = (425, 0.8423529411764706, 0.8243243243243243)\n"
     ]
    },
    {
     "name": "stderr",
     "output_type": "stream",
     "text": [
      "┌ Warning: The scitype of `X`, in `machine(model, X, ...)` is incompatible with `model=\u001b[34mNeuralNetworkClassifier{CustomNN,…} @717\u001b[39m`:\n",
      "│ scitype(X) = Table{Union{AbstractArray{Continuous,1}, AbstractArray{Count,1}}}\n",
      "│ input_scitype(model) = Table{var\"#s44\"} where var\"#s44\"<:(AbstractArray{var\"#s13\",1} where var\"#s13\"<:Continuous).\n",
      "└ @ MLJBase /home/andrew/.julia/packages/MLJBase/uKzAz/src/machines.jl:77\n"
     ]
    },
    {
     "name": "stdout",
     "output_type": "stream",
     "text": [
      "(d, train_metric, valid_metric) = (430, 0.9604651162790697, 0.9121621621621622)\n"
     ]
    },
    {
     "name": "stderr",
     "output_type": "stream",
     "text": [
      "┌ Warning: The scitype of `X`, in `machine(model, X, ...)` is incompatible with `model=\u001b[34mNeuralNetworkClassifier{CustomNN,…} @717\u001b[39m`:\n",
      "│ scitype(X) = Table{Union{AbstractArray{Continuous,1}, AbstractArray{Count,1}}}\n",
      "│ input_scitype(model) = Table{var\"#s44\"} where var\"#s44\"<:(AbstractArray{var\"#s13\",1} where var\"#s13\"<:Continuous).\n",
      "└ @ MLJBase /home/andrew/.julia/packages/MLJBase/uKzAz/src/machines.jl:77\n"
     ]
    },
    {
     "name": "stdout",
     "output_type": "stream",
     "text": [
      "(d, train_metric, valid_metric) = (435, 0.9724137931034482, 0.8445945945945946)\n"
     ]
    },
    {
     "name": "stderr",
     "output_type": "stream",
     "text": [
      "┌ Warning: The scitype of `X`, in `machine(model, X, ...)` is incompatible with `model=\u001b[34mNeuralNetworkClassifier{CustomNN,…} @717\u001b[39m`:\n",
      "│ scitype(X) = Table{Union{AbstractArray{Continuous,1}, AbstractArray{Count,1}}}\n",
      "│ input_scitype(model) = Table{var\"#s44\"} where var\"#s44\"<:(AbstractArray{var\"#s13\",1} where var\"#s13\"<:Continuous).\n",
      "└ @ MLJBase /home/andrew/.julia/packages/MLJBase/uKzAz/src/machines.jl:77\n"
     ]
    },
    {
     "name": "stdout",
     "output_type": "stream",
     "text": [
      "(d, train_metric, valid_metric) = (440, 0.9409090909090909, 0.8783783783783784)\n"
     ]
    },
    {
     "name": "stderr",
     "output_type": "stream",
     "text": [
      "┌ Warning: The scitype of `X`, in `machine(model, X, ...)` is incompatible with `model=\u001b[34mNeuralNetworkClassifier{CustomNN,…} @717\u001b[39m`:\n",
      "│ scitype(X) = Table{Union{AbstractArray{Continuous,1}, AbstractArray{Count,1}}}\n",
      "│ input_scitype(model) = Table{var\"#s44\"} where var\"#s44\"<:(AbstractArray{var\"#s13\",1} where var\"#s13\"<:Continuous).\n",
      "└ @ MLJBase /home/andrew/.julia/packages/MLJBase/uKzAz/src/machines.jl:77\n"
     ]
    },
    {
     "name": "stdout",
     "output_type": "stream",
     "text": [
      "(d, train_metric, valid_metric) = (445, 0.9617977528089887, 0.8851351351351351)\n"
     ]
    },
    {
     "name": "stderr",
     "output_type": "stream",
     "text": [
      "┌ Warning: The scitype of `X`, in `machine(model, X, ...)` is incompatible with `model=\u001b[34mNeuralNetworkClassifier{CustomNN,…} @717\u001b[39m`:\n",
      "│ scitype(X) = Table{Union{AbstractArray{Continuous,1}, AbstractArray{Count,1}}}\n",
      "│ input_scitype(model) = Table{var\"#s44\"} where var\"#s44\"<:(AbstractArray{var\"#s13\",1} where var\"#s13\"<:Continuous).\n",
      "└ @ MLJBase /home/andrew/.julia/packages/MLJBase/uKzAz/src/machines.jl:77\n"
     ]
    },
    {
     "name": "stdout",
     "output_type": "stream",
     "text": [
      "(d, train_metric, valid_metric) = (450, 0.9511111111111111, 0.8716216216216216)\n"
     ]
    },
    {
     "name": "stderr",
     "output_type": "stream",
     "text": [
      "┌ Warning: The scitype of `X`, in `machine(model, X, ...)` is incompatible with `model=\u001b[34mNeuralNetworkClassifier{CustomNN,…} @717\u001b[39m`:\n",
      "│ scitype(X) = Table{Union{AbstractArray{Continuous,1}, AbstractArray{Count,1}}}\n",
      "│ input_scitype(model) = Table{var\"#s44\"} where var\"#s44\"<:(AbstractArray{var\"#s13\",1} where var\"#s13\"<:Continuous).\n",
      "└ @ MLJBase /home/andrew/.julia/packages/MLJBase/uKzAz/src/machines.jl:77\n"
     ]
    },
    {
     "name": "stdout",
     "output_type": "stream",
     "text": [
      "(d, train_metric, valid_metric) = (455, 0.9758241758241758, 0.8648648648648649)\n"
     ]
    },
    {
     "name": "stderr",
     "output_type": "stream",
     "text": [
      "┌ Warning: The scitype of `X`, in `machine(model, X, ...)` is incompatible with `model=\u001b[34mNeuralNetworkClassifier{CustomNN,…} @717\u001b[39m`:\n",
      "│ scitype(X) = Table{Union{AbstractArray{Continuous,1}, AbstractArray{Count,1}}}\n",
      "│ input_scitype(model) = Table{var\"#s44\"} where var\"#s44\"<:(AbstractArray{var\"#s13\",1} where var\"#s13\"<:Continuous).\n",
      "└ @ MLJBase /home/andrew/.julia/packages/MLJBase/uKzAz/src/machines.jl:77\n"
     ]
    },
    {
     "name": "stdout",
     "output_type": "stream",
     "text": [
      "(d, train_metric, valid_metric) = (460, 0.9760869565217392, 0.8581081081081081)\n"
     ]
    },
    {
     "name": "stderr",
     "output_type": "stream",
     "text": [
      "┌ Warning: The scitype of `X`, in `machine(model, X, ...)` is incompatible with `model=\u001b[34mNeuralNetworkClassifier{CustomNN,…} @717\u001b[39m`:\n",
      "│ scitype(X) = Table{Union{AbstractArray{Continuous,1}, AbstractArray{Count,1}}}\n",
      "│ input_scitype(model) = Table{var\"#s44\"} where var\"#s44\"<:(AbstractArray{var\"#s13\",1} where var\"#s13\"<:Continuous).\n",
      "└ @ MLJBase /home/andrew/.julia/packages/MLJBase/uKzAz/src/machines.jl:77\n"
     ]
    },
    {
     "name": "stdout",
     "output_type": "stream",
     "text": [
      "(d, train_metric, valid_metric) = (465, 0.978494623655914, 0.8581081081081081)\n"
     ]
    },
    {
     "name": "stderr",
     "output_type": "stream",
     "text": [
      "┌ Warning: The scitype of `X`, in `machine(model, X, ...)` is incompatible with `model=\u001b[34mNeuralNetworkClassifier{CustomNN,…} @717\u001b[39m`:\n",
      "│ scitype(X) = Table{Union{AbstractArray{Continuous,1}, AbstractArray{Count,1}}}\n",
      "│ input_scitype(model) = Table{var\"#s44\"} where var\"#s44\"<:(AbstractArray{var\"#s13\",1} where var\"#s13\"<:Continuous).\n",
      "└ @ MLJBase /home/andrew/.julia/packages/MLJBase/uKzAz/src/machines.jl:77\n"
     ]
    },
    {
     "name": "stdout",
     "output_type": "stream",
     "text": [
      "(d, train_metric, valid_metric) = (470, 0.9702127659574468, 0.8175675675675675)\n"
     ]
    },
    {
     "name": "stderr",
     "output_type": "stream",
     "text": [
      "┌ Warning: The scitype of `X`, in `machine(model, X, ...)` is incompatible with `model=\u001b[34mNeuralNetworkClassifier{CustomNN,…} @717\u001b[39m`:\n",
      "│ scitype(X) = Table{Union{AbstractArray{Continuous,1}, AbstractArray{Count,1}}}\n",
      "│ input_scitype(model) = Table{var\"#s44\"} where var\"#s44\"<:(AbstractArray{var\"#s13\",1} where var\"#s13\"<:Continuous).\n",
      "└ @ MLJBase /home/andrew/.julia/packages/MLJBase/uKzAz/src/machines.jl:77\n"
     ]
    },
    {
     "name": "stdout",
     "output_type": "stream",
     "text": [
      "(d, train_metric, valid_metric) = (475, 0.9578947368421052, 0.8918918918918919)\n"
     ]
    },
    {
     "name": "stderr",
     "output_type": "stream",
     "text": [
      "┌ Warning: The scitype of `X`, in `machine(model, X, ...)` is incompatible with `model=\u001b[34mNeuralNetworkClassifier{CustomNN,…} @717\u001b[39m`:\n",
      "│ scitype(X) = Table{Union{AbstractArray{Continuous,1}, AbstractArray{Count,1}}}\n",
      "│ input_scitype(model) = Table{var\"#s44\"} where var\"#s44\"<:(AbstractArray{var\"#s13\",1} where var\"#s13\"<:Continuous).\n",
      "└ @ MLJBase /home/andrew/.julia/packages/MLJBase/uKzAz/src/machines.jl:77\n"
     ]
    },
    {
     "name": "stdout",
     "output_type": "stream",
     "text": [
      "(d, train_metric, valid_metric) = (480, 0.9604166666666667, 0.8648648648648649)\n"
     ]
    },
    {
     "name": "stderr",
     "output_type": "stream",
     "text": [
      "┌ Warning: The scitype of `X`, in `machine(model, X, ...)` is incompatible with `model=\u001b[34mNeuralNetworkClassifier{CustomNN,…} @717\u001b[39m`:\n",
      "│ scitype(X) = Table{Union{AbstractArray{Continuous,1}, AbstractArray{Count,1}}}\n",
      "│ input_scitype(model) = Table{var\"#s44\"} where var\"#s44\"<:(AbstractArray{var\"#s13\",1} where var\"#s13\"<:Continuous).\n",
      "└ @ MLJBase /home/andrew/.julia/packages/MLJBase/uKzAz/src/machines.jl:77\n"
     ]
    },
    {
     "name": "stdout",
     "output_type": "stream",
     "text": [
      "(d, train_metric, valid_metric) = (485, 0.9463917525773196, 0.831081081081081)\n"
     ]
    },
    {
     "name": "stderr",
     "output_type": "stream",
     "text": [
      "┌ Warning: The scitype of `X`, in `machine(model, X, ...)` is incompatible with `model=\u001b[34mNeuralNetworkClassifier{CustomNN,…} @717\u001b[39m`:\n",
      "│ scitype(X) = Table{Union{AbstractArray{Continuous,1}, AbstractArray{Count,1}}}\n",
      "│ input_scitype(model) = Table{var\"#s44\"} where var\"#s44\"<:(AbstractArray{var\"#s13\",1} where var\"#s13\"<:Continuous).\n",
      "└ @ MLJBase /home/andrew/.julia/packages/MLJBase/uKzAz/src/machines.jl:77\n"
     ]
    },
    {
     "name": "stdout",
     "output_type": "stream",
     "text": [
      "(d, train_metric, valid_metric) = (490, 0.9285714285714286, 0.8175675675675675)\n"
     ]
    },
    {
     "name": "stderr",
     "output_type": "stream",
     "text": [
      "┌ Warning: The scitype of `X`, in `machine(model, X, ...)` is incompatible with `model=\u001b[34mNeuralNetworkClassifier{CustomNN,…} @717\u001b[39m`:\n",
      "│ scitype(X) = Table{Union{AbstractArray{Continuous,1}, AbstractArray{Count,1}}}\n",
      "│ input_scitype(model) = Table{var\"#s44\"} where var\"#s44\"<:(AbstractArray{var\"#s13\",1} where var\"#s13\"<:Continuous).\n",
      "└ @ MLJBase /home/andrew/.julia/packages/MLJBase/uKzAz/src/machines.jl:77\n"
     ]
    },
    {
     "name": "stdout",
     "output_type": "stream",
     "text": [
      "(d, train_metric, valid_metric) = (495, 0.9212121212121213, 0.8581081081081081)\n"
     ]
    },
    {
     "name": "stderr",
     "output_type": "stream",
     "text": [
      "┌ Warning: The scitype of `X`, in `machine(model, X, ...)` is incompatible with `model=\u001b[34mNeuralNetworkClassifier{CustomNN,…} @717\u001b[39m`:\n",
      "│ scitype(X) = Table{Union{AbstractArray{Continuous,1}, AbstractArray{Count,1}}}\n",
      "│ input_scitype(model) = Table{var\"#s44\"} where var\"#s44\"<:(AbstractArray{var\"#s13\",1} where var\"#s13\"<:Continuous).\n",
      "└ @ MLJBase /home/andrew/.julia/packages/MLJBase/uKzAz/src/machines.jl:77\n"
     ]
    },
    {
     "name": "stdout",
     "output_type": "stream",
     "text": [
      "(d, train_metric, valid_metric) = (500, 0.94, 0.8581081081081081)\n"
     ]
    },
    {
     "name": "stderr",
     "output_type": "stream",
     "text": [
      "┌ Warning: The scitype of `X`, in `machine(model, X, ...)` is incompatible with `model=\u001b[34mNeuralNetworkClassifier{CustomNN,…} @717\u001b[39m`:\n",
      "│ scitype(X) = Table{Union{AbstractArray{Continuous,1}, AbstractArray{Count,1}}}\n",
      "│ input_scitype(model) = Table{var\"#s44\"} where var\"#s44\"<:(AbstractArray{var\"#s13\",1} where var\"#s13\"<:Continuous).\n",
      "└ @ MLJBase /home/andrew/.julia/packages/MLJBase/uKzAz/src/machines.jl:77\n"
     ]
    },
    {
     "name": "stdout",
     "output_type": "stream",
     "text": [
      "(d, train_metric, valid_metric) = (505, 0.9623762376237623, 0.8513513513513513)\n"
     ]
    },
    {
     "name": "stderr",
     "output_type": "stream",
     "text": [
      "┌ Warning: The scitype of `X`, in `machine(model, X, ...)` is incompatible with `model=\u001b[34mNeuralNetworkClassifier{CustomNN,…} @717\u001b[39m`:\n",
      "│ scitype(X) = Table{Union{AbstractArray{Continuous,1}, AbstractArray{Count,1}}}\n",
      "│ input_scitype(model) = Table{var\"#s44\"} where var\"#s44\"<:(AbstractArray{var\"#s13\",1} where var\"#s13\"<:Continuous).\n",
      "└ @ MLJBase /home/andrew/.julia/packages/MLJBase/uKzAz/src/machines.jl:77\n"
     ]
    },
    {
     "name": "stdout",
     "output_type": "stream",
     "text": [
      "(d, train_metric, valid_metric) = (510, 0.9568627450980393, 0.8918918918918919)\n"
     ]
    },
    {
     "name": "stderr",
     "output_type": "stream",
     "text": [
      "┌ Warning: The scitype of `X`, in `machine(model, X, ...)` is incompatible with `model=\u001b[34mNeuralNetworkClassifier{CustomNN,…} @717\u001b[39m`:\n",
      "│ scitype(X) = Table{Union{AbstractArray{Continuous,1}, AbstractArray{Count,1}}}\n",
      "│ input_scitype(model) = Table{var\"#s44\"} where var\"#s44\"<:(AbstractArray{var\"#s13\",1} where var\"#s13\"<:Continuous).\n",
      "└ @ MLJBase /home/andrew/.julia/packages/MLJBase/uKzAz/src/machines.jl:77\n"
     ]
    },
    {
     "name": "stdout",
     "output_type": "stream",
     "text": [
      "(d, train_metric, valid_metric) = (515, 0.9553398058252427, 0.7905405405405406)\n"
     ]
    },
    {
     "name": "stderr",
     "output_type": "stream",
     "text": [
      "┌ Warning: The scitype of `X`, in `machine(model, X, ...)` is incompatible with `model=\u001b[34mNeuralNetworkClassifier{CustomNN,…} @717\u001b[39m`:\n",
      "│ scitype(X) = Table{Union{AbstractArray{Continuous,1}, AbstractArray{Count,1}}}\n",
      "│ input_scitype(model) = Table{var\"#s44\"} where var\"#s44\"<:(AbstractArray{var\"#s13\",1} where var\"#s13\"<:Continuous).\n",
      "└ @ MLJBase /home/andrew/.julia/packages/MLJBase/uKzAz/src/machines.jl:77\n"
     ]
    },
    {
     "name": "stdout",
     "output_type": "stream",
     "text": [
      "(d, train_metric, valid_metric) = (520, 0.9615384615384616, 0.8378378378378378)\n"
     ]
    },
    {
     "name": "stderr",
     "output_type": "stream",
     "text": [
      "┌ Warning: The scitype of `X`, in `machine(model, X, ...)` is incompatible with `model=\u001b[34mNeuralNetworkClassifier{CustomNN,…} @717\u001b[39m`:\n",
      "│ scitype(X) = Table{Union{AbstractArray{Continuous,1}, AbstractArray{Count,1}}}\n",
      "│ input_scitype(model) = Table{var\"#s44\"} where var\"#s44\"<:(AbstractArray{var\"#s13\",1} where var\"#s13\"<:Continuous).\n",
      "└ @ MLJBase /home/andrew/.julia/packages/MLJBase/uKzAz/src/machines.jl:77\n"
     ]
    },
    {
     "name": "stdout",
     "output_type": "stream",
     "text": [
      "(d, train_metric, valid_metric) = (525, 0.9676190476190476, 0.8716216216216216)\n"
     ]
    },
    {
     "name": "stderr",
     "output_type": "stream",
     "text": [
      "┌ Warning: The scitype of `X`, in `machine(model, X, ...)` is incompatible with `model=\u001b[34mNeuralNetworkClassifier{CustomNN,…} @717\u001b[39m`:\n",
      "│ scitype(X) = Table{Union{AbstractArray{Continuous,1}, AbstractArray{Count,1}}}\n",
      "│ input_scitype(model) = Table{var\"#s44\"} where var\"#s44\"<:(AbstractArray{var\"#s13\",1} where var\"#s13\"<:Continuous).\n",
      "└ @ MLJBase /home/andrew/.julia/packages/MLJBase/uKzAz/src/machines.jl:77\n"
     ]
    },
    {
     "name": "stdout",
     "output_type": "stream",
     "text": [
      "(d, train_metric, valid_metric) = (530, 0.9641509433962264, 0.8378378378378378)\n"
     ]
    },
    {
     "name": "stderr",
     "output_type": "stream",
     "text": [
      "┌ Warning: The scitype of `X`, in `machine(model, X, ...)` is incompatible with `model=\u001b[34mNeuralNetworkClassifier{CustomNN,…} @717\u001b[39m`:\n",
      "│ scitype(X) = Table{Union{AbstractArray{Continuous,1}, AbstractArray{Count,1}}}\n",
      "│ input_scitype(model) = Table{var\"#s44\"} where var\"#s44\"<:(AbstractArray{var\"#s13\",1} where var\"#s13\"<:Continuous).\n",
      "└ @ MLJBase /home/andrew/.julia/packages/MLJBase/uKzAz/src/machines.jl:77\n"
     ]
    },
    {
     "name": "stdout",
     "output_type": "stream",
     "text": [
      "(d, train_metric, valid_metric) = (535, 0.9532710280373832, 0.8716216216216216)\n"
     ]
    },
    {
     "name": "stderr",
     "output_type": "stream",
     "text": [
      "┌ Warning: The scitype of `X`, in `machine(model, X, ...)` is incompatible with `model=\u001b[34mNeuralNetworkClassifier{CustomNN,…} @717\u001b[39m`:\n",
      "│ scitype(X) = Table{Union{AbstractArray{Continuous,1}, AbstractArray{Count,1}}}\n",
      "│ input_scitype(model) = Table{var\"#s44\"} where var\"#s44\"<:(AbstractArray{var\"#s13\",1} where var\"#s13\"<:Continuous).\n",
      "└ @ MLJBase /home/andrew/.julia/packages/MLJBase/uKzAz/src/machines.jl:77\n"
     ]
    },
    {
     "name": "stdout",
     "output_type": "stream",
     "text": [
      "(d, train_metric, valid_metric) = (540, 0.9574074074074074, 0.8378378378378378)\n"
     ]
    },
    {
     "name": "stderr",
     "output_type": "stream",
     "text": [
      "┌ Warning: The scitype of `X`, in `machine(model, X, ...)` is incompatible with `model=\u001b[34mNeuralNetworkClassifier{CustomNN,…} @717\u001b[39m`:\n",
      "│ scitype(X) = Table{Union{AbstractArray{Continuous,1}, AbstractArray{Count,1}}}\n",
      "│ input_scitype(model) = Table{var\"#s44\"} where var\"#s44\"<:(AbstractArray{var\"#s13\",1} where var\"#s13\"<:Continuous).\n",
      "└ @ MLJBase /home/andrew/.julia/packages/MLJBase/uKzAz/src/machines.jl:77\n"
     ]
    },
    {
     "name": "stdout",
     "output_type": "stream",
     "text": [
      "(d, train_metric, valid_metric) = (545, 0.9596330275229358, 0.8716216216216216)\n"
     ]
    },
    {
     "name": "stderr",
     "output_type": "stream",
     "text": [
      "┌ Warning: The scitype of `X`, in `machine(model, X, ...)` is incompatible with `model=\u001b[34mNeuralNetworkClassifier{CustomNN,…} @717\u001b[39m`:\n",
      "│ scitype(X) = Table{Union{AbstractArray{Continuous,1}, AbstractArray{Count,1}}}\n",
      "│ input_scitype(model) = Table{var\"#s44\"} where var\"#s44\"<:(AbstractArray{var\"#s13\",1} where var\"#s13\"<:Continuous).\n",
      "└ @ MLJBase /home/andrew/.julia/packages/MLJBase/uKzAz/src/machines.jl:77\n"
     ]
    },
    {
     "name": "stdout",
     "output_type": "stream",
     "text": [
      "(d, train_metric, valid_metric) = (550, 0.9563636363636364, 0.8648648648648649)\n"
     ]
    },
    {
     "name": "stderr",
     "output_type": "stream",
     "text": [
      "┌ Warning: The scitype of `X`, in `machine(model, X, ...)` is incompatible with `model=\u001b[34mNeuralNetworkClassifier{CustomNN,…} @717\u001b[39m`:\n",
      "│ scitype(X) = Table{Union{AbstractArray{Continuous,1}, AbstractArray{Count,1}}}\n",
      "│ input_scitype(model) = Table{var\"#s44\"} where var\"#s44\"<:(AbstractArray{var\"#s13\",1} where var\"#s13\"<:Continuous).\n",
      "└ @ MLJBase /home/andrew/.julia/packages/MLJBase/uKzAz/src/machines.jl:77\n"
     ]
    },
    {
     "name": "stdout",
     "output_type": "stream",
     "text": [
      "(d, train_metric, valid_metric) = (555, 0.963963963963964, 0.8513513513513513)\n"
     ]
    },
    {
     "name": "stderr",
     "output_type": "stream",
     "text": [
      "┌ Warning: The scitype of `X`, in `machine(model, X, ...)` is incompatible with `model=\u001b[34mNeuralNetworkClassifier{CustomNN,…} @717\u001b[39m`:\n",
      "│ scitype(X) = Table{Union{AbstractArray{Continuous,1}, AbstractArray{Count,1}}}\n",
      "│ input_scitype(model) = Table{var\"#s44\"} where var\"#s44\"<:(AbstractArray{var\"#s13\",1} where var\"#s13\"<:Continuous).\n",
      "└ @ MLJBase /home/andrew/.julia/packages/MLJBase/uKzAz/src/machines.jl:77\n"
     ]
    },
    {
     "name": "stdout",
     "output_type": "stream",
     "text": [
      "(d, train_metric, valid_metric) = (560, 0.9357142857142857, 0.8513513513513513)\n"
     ]
    },
    {
     "name": "stderr",
     "output_type": "stream",
     "text": [
      "┌ Warning: The scitype of `X`, in `machine(model, X, ...)` is incompatible with `model=\u001b[34mNeuralNetworkClassifier{CustomNN,…} @717\u001b[39m`:\n",
      "│ scitype(X) = Table{Union{AbstractArray{Continuous,1}, AbstractArray{Count,1}}}\n",
      "│ input_scitype(model) = Table{var\"#s44\"} where var\"#s44\"<:(AbstractArray{var\"#s13\",1} where var\"#s13\"<:Continuous).\n",
      "└ @ MLJBase /home/andrew/.julia/packages/MLJBase/uKzAz/src/machines.jl:77\n"
     ]
    },
    {
     "name": "stdout",
     "output_type": "stream",
     "text": [
      "(d, train_metric, valid_metric) = (565, 0.9451327433628318, 0.8648648648648649)\n"
     ]
    },
    {
     "name": "stderr",
     "output_type": "stream",
     "text": [
      "┌ Warning: The scitype of `X`, in `machine(model, X, ...)` is incompatible with `model=\u001b[34mNeuralNetworkClassifier{CustomNN,…} @717\u001b[39m`:\n",
      "│ scitype(X) = Table{Union{AbstractArray{Continuous,1}, AbstractArray{Count,1}}}\n",
      "│ input_scitype(model) = Table{var\"#s44\"} where var\"#s44\"<:(AbstractArray{var\"#s13\",1} where var\"#s13\"<:Continuous).\n",
      "└ @ MLJBase /home/andrew/.julia/packages/MLJBase/uKzAz/src/machines.jl:77\n"
     ]
    },
    {
     "name": "stdout",
     "output_type": "stream",
     "text": [
      "(d, train_metric, valid_metric) = (570, 0.968421052631579, 0.8445945945945946)\n"
     ]
    },
    {
     "name": "stderr",
     "output_type": "stream",
     "text": [
      "┌ Warning: The scitype of `X`, in `machine(model, X, ...)` is incompatible with `model=\u001b[34mNeuralNetworkClassifier{CustomNN,…} @717\u001b[39m`:\n",
      "│ scitype(X) = Table{Union{AbstractArray{Continuous,1}, AbstractArray{Count,1}}}\n",
      "│ input_scitype(model) = Table{var\"#s44\"} where var\"#s44\"<:(AbstractArray{var\"#s13\",1} where var\"#s13\"<:Continuous).\n",
      "└ @ MLJBase /home/andrew/.julia/packages/MLJBase/uKzAz/src/machines.jl:77\n"
     ]
    },
    {
     "name": "stdout",
     "output_type": "stream",
     "text": [
      "(d, train_metric, valid_metric) = (575, 0.9686956521739131, 0.8716216216216216)\n"
     ]
    },
    {
     "name": "stderr",
     "output_type": "stream",
     "text": [
      "┌ Warning: The scitype of `X`, in `machine(model, X, ...)` is incompatible with `model=\u001b[34mNeuralNetworkClassifier{CustomNN,…} @717\u001b[39m`:\n",
      "│ scitype(X) = Table{Union{AbstractArray{Continuous,1}, AbstractArray{Count,1}}}\n",
      "│ input_scitype(model) = Table{var\"#s44\"} where var\"#s44\"<:(AbstractArray{var\"#s13\",1} where var\"#s13\"<:Continuous).\n",
      "└ @ MLJBase /home/andrew/.julia/packages/MLJBase/uKzAz/src/machines.jl:77\n"
     ]
    },
    {
     "name": "stdout",
     "output_type": "stream",
     "text": [
      "(d, train_metric, valid_metric) = (580, 0.9586206896551724, 0.8783783783783784)\n"
     ]
    },
    {
     "name": "stderr",
     "output_type": "stream",
     "text": [
      "┌ Warning: The scitype of `X`, in `machine(model, X, ...)` is incompatible with `model=\u001b[34mNeuralNetworkClassifier{CustomNN,…} @717\u001b[39m`:\n",
      "│ scitype(X) = Table{Union{AbstractArray{Continuous,1}, AbstractArray{Count,1}}}\n",
      "│ input_scitype(model) = Table{var\"#s44\"} where var\"#s44\"<:(AbstractArray{var\"#s13\",1} where var\"#s13\"<:Continuous).\n",
      "└ @ MLJBase /home/andrew/.julia/packages/MLJBase/uKzAz/src/machines.jl:77\n"
     ]
    },
    {
     "name": "stdout",
     "output_type": "stream",
     "text": [
      "(d, train_metric, valid_metric) = (585, 0.9504273504273504, 0.8513513513513513)\n"
     ]
    },
    {
     "name": "stderr",
     "output_type": "stream",
     "text": [
      "┌ Warning: The scitype of `X`, in `machine(model, X, ...)` is incompatible with `model=\u001b[34mNeuralNetworkClassifier{CustomNN,…} @717\u001b[39m`:\n",
      "│ scitype(X) = Table{Union{AbstractArray{Continuous,1}, AbstractArray{Count,1}}}\n",
      "│ input_scitype(model) = Table{var\"#s44\"} where var\"#s44\"<:(AbstractArray{var\"#s13\",1} where var\"#s13\"<:Continuous).\n",
      "└ @ MLJBase /home/andrew/.julia/packages/MLJBase/uKzAz/src/machines.jl:77\n"
     ]
    },
    {
     "name": "stdout",
     "output_type": "stream",
     "text": [
      "(d, train_metric, valid_metric) = (590, 0.9576271186440678, 0.8783783783783784)\n"
     ]
    },
    {
     "data": {
      "text/plain": [
       "(10:5:590, Any[0.9, 1.0, 1.0, 1.0, 1.0, 1.0, 1.0, 1.0, 1.0, 0.9818181818181818  …  0.9596330275229358, 0.9563636363636364, 0.963963963963964, 0.9357142857142857, 0.9451327433628318, 0.968421052631579, 0.9686956521739131, 0.9586206896551724, 0.9504273504273504, 0.9576271186440678], Any[0.7027027027027027, 0.722972972972973, 0.722972972972973, 0.7297297297297297, 0.7567567567567568, 0.7567567567567568, 0.7702702702702703, 0.7702702702702703, 0.75, 0.777027027027027  …  0.8716216216216216, 0.8648648648648649, 0.8513513513513513, 0.8513513513513513, 0.8648648648648649, 0.8445945945945946, 0.8716216216216216, 0.8783783783783784, 0.8513513513513513, 0.8783783783783784])"
      ]
     },
     "execution_count": 116,
     "metadata": {},
     "output_type": "execute_result"
    }
   ],
   "source": [
    "data_schedule, training_losses, valid_losses = learn_curve(lc_model, X[train,:], y[train], acc, step=5)"
   ]
  },
  {
   "cell_type": "code",
   "execution_count": 117,
   "metadata": {
    "scrolled": false
   },
   "outputs": [
    {
     "data": {
      "image/svg+xml": [
       "<?xml version=\"1.0\" encoding=\"utf-8\"?>\n",
       "<svg xmlns=\"http://www.w3.org/2000/svg\" xmlns:xlink=\"http://www.w3.org/1999/xlink\" width=\"600\" height=\"400\" viewBox=\"0 0 2400 1600\">\n",
       "<defs>\n",
       "  <clipPath id=\"clip430\">\n",
       "    <rect x=\"0\" y=\"0\" width=\"2400\" height=\"1600\"/>\n",
       "  </clipPath>\n",
       "</defs>\n",
       "<path clip-path=\"url(#clip430)\" d=\"\n",
       "M0 1600 L2400 1600 L2400 0 L0 0  Z\n",
       "  \" fill=\"#ffffff\" fill-rule=\"evenodd\" fill-opacity=\"1\"/>\n",
       "<defs>\n",
       "  <clipPath id=\"clip431\">\n",
       "    <rect x=\"480\" y=\"0\" width=\"1681\" height=\"1600\"/>\n",
       "  </clipPath>\n",
       "</defs>\n",
       "<path clip-path=\"url(#clip430)\" d=\"\n",
       "M211.024 1423.18 L2352.76 1423.18 L2352.76 47.2441 L211.024 47.2441  Z\n",
       "  \" fill=\"#ffffff\" fill-rule=\"evenodd\" fill-opacity=\"1\"/>\n",
       "<defs>\n",
       "  <clipPath id=\"clip432\">\n",
       "    <rect x=\"211\" y=\"47\" width=\"2143\" height=\"1377\"/>\n",
       "  </clipPath>\n",
       "</defs>\n",
       "<polyline clip-path=\"url(#clip432)\" style=\"stroke:#000000; stroke-width:2; stroke-opacity:0.1; fill:none\" points=\"\n",
       "  236.803,1423.18 236.803,47.2441 \n",
       "  \"/>\n",
       "<polyline clip-path=\"url(#clip432)\" style=\"stroke:#000000; stroke-width:2; stroke-opacity:0.1; fill:none\" points=\"\n",
       "  585.165,1423.18 585.165,47.2441 \n",
       "  \"/>\n",
       "<polyline clip-path=\"url(#clip432)\" style=\"stroke:#000000; stroke-width:2; stroke-opacity:0.1; fill:none\" points=\"\n",
       "  933.527,1423.18 933.527,47.2441 \n",
       "  \"/>\n",
       "<polyline clip-path=\"url(#clip432)\" style=\"stroke:#000000; stroke-width:2; stroke-opacity:0.1; fill:none\" points=\"\n",
       "  1281.89,1423.18 1281.89,47.2441 \n",
       "  \"/>\n",
       "<polyline clip-path=\"url(#clip432)\" style=\"stroke:#000000; stroke-width:2; stroke-opacity:0.1; fill:none\" points=\"\n",
       "  1630.25,1423.18 1630.25,47.2441 \n",
       "  \"/>\n",
       "<polyline clip-path=\"url(#clip432)\" style=\"stroke:#000000; stroke-width:2; stroke-opacity:0.1; fill:none\" points=\"\n",
       "  1978.61,1423.18 1978.61,47.2441 \n",
       "  \"/>\n",
       "<polyline clip-path=\"url(#clip432)\" style=\"stroke:#000000; stroke-width:2; stroke-opacity:0.1; fill:none\" points=\"\n",
       "  2326.98,1423.18 2326.98,47.2441 \n",
       "  \"/>\n",
       "<polyline clip-path=\"url(#clip432)\" style=\"stroke:#000000; stroke-width:2; stroke-opacity:0.1; fill:none\" points=\"\n",
       "  211.024,1396.04 2352.76,1396.04 \n",
       "  \"/>\n",
       "<polyline clip-path=\"url(#clip432)\" style=\"stroke:#000000; stroke-width:2; stroke-opacity:0.1; fill:none\" points=\"\n",
       "  211.024,959.421 2352.76,959.421 \n",
       "  \"/>\n",
       "<polyline clip-path=\"url(#clip432)\" style=\"stroke:#000000; stroke-width:2; stroke-opacity:0.1; fill:none\" points=\"\n",
       "  211.024,522.803 2352.76,522.803 \n",
       "  \"/>\n",
       "<polyline clip-path=\"url(#clip432)\" style=\"stroke:#000000; stroke-width:2; stroke-opacity:0.1; fill:none\" points=\"\n",
       "  211.024,86.1857 2352.76,86.1857 \n",
       "  \"/>\n",
       "<polyline clip-path=\"url(#clip430)\" style=\"stroke:#000000; stroke-width:4; stroke-opacity:1; fill:none\" points=\"\n",
       "  211.024,1423.18 2352.76,1423.18 \n",
       "  \"/>\n",
       "<polyline clip-path=\"url(#clip430)\" style=\"stroke:#000000; stroke-width:4; stroke-opacity:1; fill:none\" points=\"\n",
       "  211.024,1423.18 211.024,47.2441 \n",
       "  \"/>\n",
       "<polyline clip-path=\"url(#clip430)\" style=\"stroke:#000000; stroke-width:4; stroke-opacity:1; fill:none\" points=\"\n",
       "  236.803,1423.18 236.803,1406.67 \n",
       "  \"/>\n",
       "<polyline clip-path=\"url(#clip430)\" style=\"stroke:#000000; stroke-width:4; stroke-opacity:1; fill:none\" points=\"\n",
       "  585.165,1423.18 585.165,1406.67 \n",
       "  \"/>\n",
       "<polyline clip-path=\"url(#clip430)\" style=\"stroke:#000000; stroke-width:4; stroke-opacity:1; fill:none\" points=\"\n",
       "  933.527,1423.18 933.527,1406.67 \n",
       "  \"/>\n",
       "<polyline clip-path=\"url(#clip430)\" style=\"stroke:#000000; stroke-width:4; stroke-opacity:1; fill:none\" points=\"\n",
       "  1281.89,1423.18 1281.89,1406.67 \n",
       "  \"/>\n",
       "<polyline clip-path=\"url(#clip430)\" style=\"stroke:#000000; stroke-width:4; stroke-opacity:1; fill:none\" points=\"\n",
       "  1630.25,1423.18 1630.25,1406.67 \n",
       "  \"/>\n",
       "<polyline clip-path=\"url(#clip430)\" style=\"stroke:#000000; stroke-width:4; stroke-opacity:1; fill:none\" points=\"\n",
       "  1978.61,1423.18 1978.61,1406.67 \n",
       "  \"/>\n",
       "<polyline clip-path=\"url(#clip430)\" style=\"stroke:#000000; stroke-width:4; stroke-opacity:1; fill:none\" points=\"\n",
       "  2326.98,1423.18 2326.98,1406.67 \n",
       "  \"/>\n",
       "<polyline clip-path=\"url(#clip430)\" style=\"stroke:#000000; stroke-width:4; stroke-opacity:1; fill:none\" points=\"\n",
       "  211.024,1396.04 236.725,1396.04 \n",
       "  \"/>\n",
       "<polyline clip-path=\"url(#clip430)\" style=\"stroke:#000000; stroke-width:4; stroke-opacity:1; fill:none\" points=\"\n",
       "  211.024,959.421 236.725,959.421 \n",
       "  \"/>\n",
       "<polyline clip-path=\"url(#clip430)\" style=\"stroke:#000000; stroke-width:4; stroke-opacity:1; fill:none\" points=\"\n",
       "  211.024,522.803 236.725,522.803 \n",
       "  \"/>\n",
       "<polyline clip-path=\"url(#clip430)\" style=\"stroke:#000000; stroke-width:4; stroke-opacity:1; fill:none\" points=\"\n",
       "  211.024,86.1857 236.725,86.1857 \n",
       "  \"/>\n",
       "<path clip-path=\"url(#clip430)\" d=\"M 0 0 M236.803 1445.17 Q233.191 1445.17 231.363 1448.74 Q229.557 1452.28 229.557 1459.41 Q229.557 1466.51 231.363 1470.08 Q233.191 1473.62 236.803 1473.62 Q240.437 1473.62 242.242 1470.08 Q244.071 1466.51 244.071 1459.41 Q244.071 1452.28 242.242 1448.74 Q240.437 1445.17 236.803 1445.17 M236.803 1441.47 Q242.613 1441.47 245.668 1446.07 Q248.747 1450.66 248.747 1459.41 Q248.747 1468.13 245.668 1472.74 Q242.613 1477.32 236.803 1477.32 Q230.992 1477.32 227.914 1472.74 Q224.858 1468.13 224.858 1459.41 Q224.858 1450.66 227.914 1446.07 Q230.992 1441.47 236.803 1441.47 Z\" fill=\"#000000\" fill-rule=\"evenodd\" fill-opacity=\"1\" /><path clip-path=\"url(#clip430)\" d=\"M 0 0 M548.533 1472.72 L556.172 1472.72 L556.172 1446.35 L547.862 1448.02 L547.862 1443.76 L556.126 1442.09 L560.802 1442.09 L560.802 1472.72 L568.441 1472.72 L568.441 1476.65 L548.533 1476.65 L548.533 1472.72 Z\" fill=\"#000000\" fill-rule=\"evenodd\" fill-opacity=\"1\" /><path clip-path=\"url(#clip430)\" d=\"M 0 0 M583.51 1445.17 Q579.899 1445.17 578.07 1448.74 Q576.265 1452.28 576.265 1459.41 Q576.265 1466.51 578.07 1470.08 Q579.899 1473.62 583.51 1473.62 Q587.144 1473.62 588.95 1470.08 Q590.778 1466.51 590.778 1459.41 Q590.778 1452.28 588.95 1448.74 Q587.144 1445.17 583.51 1445.17 M583.51 1441.47 Q589.32 1441.47 592.376 1446.07 Q595.454 1450.66 595.454 1459.41 Q595.454 1468.13 592.376 1472.74 Q589.32 1477.32 583.51 1477.32 Q577.7 1477.32 574.621 1472.74 Q571.566 1468.13 571.566 1459.41 Q571.566 1450.66 574.621 1446.07 Q577.7 1441.47 583.51 1441.47 Z\" fill=\"#000000\" fill-rule=\"evenodd\" fill-opacity=\"1\" /><path clip-path=\"url(#clip430)\" d=\"M 0 0 M610.524 1445.17 Q606.913 1445.17 605.084 1448.74 Q603.278 1452.28 603.278 1459.41 Q603.278 1466.51 605.084 1470.08 Q606.913 1473.62 610.524 1473.62 Q614.158 1473.62 615.963 1470.08 Q617.792 1466.51 617.792 1459.41 Q617.792 1452.28 615.963 1448.74 Q614.158 1445.17 610.524 1445.17 M610.524 1441.47 Q616.334 1441.47 619.389 1446.07 Q622.468 1450.66 622.468 1459.41 Q622.468 1468.13 619.389 1472.74 Q616.334 1477.32 610.524 1477.32 Q604.713 1477.32 601.635 1472.74 Q598.579 1468.13 598.579 1459.41 Q598.579 1450.66 601.635 1446.07 Q604.713 1441.47 610.524 1441.47 Z\" fill=\"#000000\" fill-rule=\"evenodd\" fill-opacity=\"1\" /><path clip-path=\"url(#clip430)\" d=\"M 0 0 M901.166 1472.72 L917.486 1472.72 L917.486 1476.65 L895.541 1476.65 L895.541 1472.72 Q898.204 1469.96 902.787 1465.33 Q907.393 1460.68 908.574 1459.34 Q910.819 1456.81 911.699 1455.08 Q912.602 1453.32 912.602 1451.63 Q912.602 1448.87 910.657 1447.14 Q908.736 1445.4 905.634 1445.4 Q903.435 1445.4 900.981 1446.17 Q898.551 1446.93 895.773 1448.48 L895.773 1443.76 Q898.597 1442.62 901.051 1442.05 Q903.504 1441.47 905.541 1441.47 Q910.912 1441.47 914.106 1444.15 Q917.301 1446.84 917.301 1451.33 Q917.301 1453.46 916.49 1455.38 Q915.703 1457.28 913.597 1459.87 Q913.018 1460.54 909.916 1463.76 Q906.815 1466.95 901.166 1472.72 Z\" fill=\"#000000\" fill-rule=\"evenodd\" fill-opacity=\"1\" /><path clip-path=\"url(#clip430)\" d=\"M 0 0 M932.555 1445.17 Q928.944 1445.17 927.115 1448.74 Q925.31 1452.28 925.31 1459.41 Q925.31 1466.51 927.115 1470.08 Q928.944 1473.62 932.555 1473.62 Q936.189 1473.62 937.995 1470.08 Q939.824 1466.51 939.824 1459.41 Q939.824 1452.28 937.995 1448.74 Q936.189 1445.17 932.555 1445.17 M932.555 1441.47 Q938.365 1441.47 941.421 1446.07 Q944.5 1450.66 944.5 1459.41 Q944.5 1468.13 941.421 1472.74 Q938.365 1477.32 932.555 1477.32 Q926.745 1477.32 923.666 1472.74 Q920.611 1468.13 920.611 1459.41 Q920.611 1450.66 923.666 1446.07 Q926.745 1441.47 932.555 1441.47 Z\" fill=\"#000000\" fill-rule=\"evenodd\" fill-opacity=\"1\" /><path clip-path=\"url(#clip430)\" d=\"M 0 0 M959.569 1445.17 Q955.958 1445.17 954.129 1448.74 Q952.324 1452.28 952.324 1459.41 Q952.324 1466.51 954.129 1470.08 Q955.958 1473.62 959.569 1473.62 Q963.203 1473.62 965.009 1470.08 Q966.837 1466.51 966.837 1459.41 Q966.837 1452.28 965.009 1448.74 Q963.203 1445.17 959.569 1445.17 M959.569 1441.47 Q965.379 1441.47 968.435 1446.07 Q971.513 1450.66 971.513 1459.41 Q971.513 1468.13 968.435 1472.74 Q965.379 1477.32 959.569 1477.32 Q953.759 1477.32 950.68 1472.74 Q947.625 1468.13 947.625 1459.41 Q947.625 1450.66 950.68 1446.07 Q953.759 1441.47 959.569 1441.47 Z\" fill=\"#000000\" fill-rule=\"evenodd\" fill-opacity=\"1\" /><path clip-path=\"url(#clip430)\" d=\"M 0 0 M1259.12 1458.02 Q1262.48 1458.74 1264.36 1461 Q1266.25 1463.27 1266.25 1466.61 Q1266.25 1471.72 1262.73 1474.52 Q1259.22 1477.32 1252.73 1477.32 Q1250.56 1477.32 1248.24 1476.88 Q1245.95 1476.47 1243.5 1475.61 L1243.5 1471.1 Q1245.44 1472.23 1247.76 1472.81 Q1250.07 1473.39 1252.6 1473.39 Q1256.99 1473.39 1259.29 1471.65 Q1261.6 1469.92 1261.6 1466.61 Q1261.6 1463.55 1259.45 1461.84 Q1257.32 1460.1 1253.5 1460.1 L1249.47 1460.1 L1249.47 1456.26 L1253.68 1456.26 Q1257.13 1456.26 1258.96 1454.89 Q1260.79 1453.5 1260.79 1450.91 Q1260.79 1448.25 1258.89 1446.84 Q1257.02 1445.4 1253.5 1445.4 Q1251.58 1445.4 1249.38 1445.82 Q1247.18 1446.24 1244.54 1447.11 L1244.54 1442.95 Q1247.2 1442.21 1249.52 1441.84 Q1251.86 1441.47 1253.92 1441.47 Q1259.24 1441.47 1262.34 1443.9 Q1265.44 1446.3 1265.44 1450.43 Q1265.44 1453.3 1263.8 1455.29 Q1262.16 1457.25 1259.12 1458.02 Z\" fill=\"#000000\" fill-rule=\"evenodd\" fill-opacity=\"1\" /><path clip-path=\"url(#clip430)\" d=\"M 0 0 M1281.32 1445.17 Q1277.71 1445.17 1275.88 1448.74 Q1274.08 1452.28 1274.08 1459.41 Q1274.08 1466.51 1275.88 1470.08 Q1277.71 1473.62 1281.32 1473.62 Q1284.96 1473.62 1286.76 1470.08 Q1288.59 1466.51 1288.59 1459.41 Q1288.59 1452.28 1286.76 1448.74 Q1284.96 1445.17 1281.32 1445.17 M1281.32 1441.47 Q1287.13 1441.47 1290.19 1446.07 Q1293.27 1450.66 1293.27 1459.41 Q1293.27 1468.13 1290.19 1472.74 Q1287.13 1477.32 1281.32 1477.32 Q1275.51 1477.32 1272.43 1472.74 Q1269.38 1468.13 1269.38 1459.41 Q1269.38 1450.66 1272.43 1446.07 Q1275.51 1441.47 1281.32 1441.47 Z\" fill=\"#000000\" fill-rule=\"evenodd\" fill-opacity=\"1\" /><path clip-path=\"url(#clip430)\" d=\"M 0 0 M1308.34 1445.17 Q1304.73 1445.17 1302.9 1448.74 Q1301.09 1452.28 1301.09 1459.41 Q1301.09 1466.51 1302.9 1470.08 Q1304.73 1473.62 1308.34 1473.62 Q1311.97 1473.62 1313.78 1470.08 Q1315.6 1466.51 1315.6 1459.41 Q1315.6 1452.28 1313.78 1448.74 Q1311.97 1445.17 1308.34 1445.17 M1308.34 1441.47 Q1314.15 1441.47 1317.2 1446.07 Q1320.28 1450.66 1320.28 1459.41 Q1320.28 1468.13 1317.2 1472.74 Q1314.15 1477.32 1308.34 1477.32 Q1302.53 1477.32 1299.45 1472.74 Q1296.39 1468.13 1296.39 1459.41 Q1296.39 1450.66 1299.45 1446.07 Q1302.53 1441.47 1308.34 1441.47 Z\" fill=\"#000000\" fill-rule=\"evenodd\" fill-opacity=\"1\" /><path clip-path=\"url(#clip430)\" d=\"M 0 0 M1606.25 1446.17 L1594.44 1464.61 L1606.25 1464.61 L1606.25 1446.17 M1605.02 1442.09 L1610.9 1442.09 L1610.9 1464.61 L1615.83 1464.61 L1615.83 1468.5 L1610.9 1468.5 L1610.9 1476.65 L1606.25 1476.65 L1606.25 1468.5 L1590.65 1468.5 L1590.65 1463.99 L1605.02 1442.09 Z\" fill=\"#000000\" fill-rule=\"evenodd\" fill-opacity=\"1\" /><path clip-path=\"url(#clip430)\" d=\"M 0 0 M1630.9 1445.17 Q1627.29 1445.17 1625.46 1448.74 Q1623.66 1452.28 1623.66 1459.41 Q1623.66 1466.51 1625.46 1470.08 Q1627.29 1473.62 1630.9 1473.62 Q1634.53 1473.62 1636.34 1470.08 Q1638.17 1466.51 1638.17 1459.41 Q1638.17 1452.28 1636.34 1448.74 Q1634.53 1445.17 1630.9 1445.17 M1630.9 1441.47 Q1636.71 1441.47 1639.77 1446.07 Q1642.84 1450.66 1642.84 1459.41 Q1642.84 1468.13 1639.77 1472.74 Q1636.71 1477.32 1630.9 1477.32 Q1625.09 1477.32 1622.01 1472.74 Q1618.96 1468.13 1618.96 1459.41 Q1618.96 1450.66 1622.01 1446.07 Q1625.09 1441.47 1630.9 1441.47 Z\" fill=\"#000000\" fill-rule=\"evenodd\" fill-opacity=\"1\" /><path clip-path=\"url(#clip430)\" d=\"M 0 0 M1657.91 1445.17 Q1654.3 1445.17 1652.47 1448.74 Q1650.67 1452.28 1650.67 1459.41 Q1650.67 1466.51 1652.47 1470.08 Q1654.3 1473.62 1657.91 1473.62 Q1661.55 1473.62 1663.35 1470.08 Q1665.18 1466.51 1665.18 1459.41 Q1665.18 1452.28 1663.35 1448.74 Q1661.55 1445.17 1657.91 1445.17 M1657.91 1441.47 Q1663.72 1441.47 1666.78 1446.07 Q1669.86 1450.66 1669.86 1459.41 Q1669.86 1468.13 1666.78 1472.74 Q1663.72 1477.32 1657.91 1477.32 Q1652.1 1477.32 1649.03 1472.74 Q1645.97 1468.13 1645.97 1459.41 Q1645.97 1450.66 1649.03 1446.07 Q1652.1 1441.47 1657.91 1441.47 Z\" fill=\"#000000\" fill-rule=\"evenodd\" fill-opacity=\"1\" /><path clip-path=\"url(#clip430)\" d=\"M 0 0 M1941.88 1442.09 L1960.24 1442.09 L1960.24 1446.03 L1946.16 1446.03 L1946.16 1454.5 Q1947.18 1454.15 1948.2 1453.99 Q1949.22 1453.8 1950.24 1453.8 Q1956.02 1453.8 1959.4 1456.98 Q1962.78 1460.15 1962.78 1465.56 Q1962.78 1471.14 1959.31 1474.24 Q1955.84 1477.32 1949.52 1477.32 Q1947.34 1477.32 1945.07 1476.95 Q1942.83 1476.58 1940.42 1475.84 L1940.42 1471.14 Q1942.5 1472.28 1944.73 1472.83 Q1946.95 1473.39 1949.43 1473.39 Q1953.43 1473.39 1955.77 1471.28 Q1958.11 1469.18 1958.11 1465.56 Q1958.11 1461.95 1955.77 1459.85 Q1953.43 1457.74 1949.43 1457.74 Q1947.55 1457.74 1945.68 1458.16 Q1943.82 1458.57 1941.88 1459.45 L1941.88 1442.09 Z\" fill=\"#000000\" fill-rule=\"evenodd\" fill-opacity=\"1\" /><path clip-path=\"url(#clip430)\" d=\"M 0 0 M1977.85 1445.17 Q1974.24 1445.17 1972.41 1448.74 Q1970.61 1452.28 1970.61 1459.41 Q1970.61 1466.51 1972.41 1470.08 Q1974.24 1473.62 1977.85 1473.62 Q1981.49 1473.62 1983.29 1470.08 Q1985.12 1466.51 1985.12 1459.41 Q1985.12 1452.28 1983.29 1448.74 Q1981.49 1445.17 1977.85 1445.17 M1977.85 1441.47 Q1983.66 1441.47 1986.72 1446.07 Q1989.8 1450.66 1989.8 1459.41 Q1989.8 1468.13 1986.72 1472.74 Q1983.66 1477.32 1977.85 1477.32 Q1972.04 1477.32 1968.96 1472.74 Q1965.91 1468.13 1965.91 1459.41 Q1965.91 1450.66 1968.96 1446.07 Q1972.04 1441.47 1977.85 1441.47 Z\" fill=\"#000000\" fill-rule=\"evenodd\" fill-opacity=\"1\" /><path clip-path=\"url(#clip430)\" d=\"M 0 0 M2004.86 1445.17 Q2001.25 1445.17 1999.42 1448.74 Q1997.62 1452.28 1997.62 1459.41 Q1997.62 1466.51 1999.42 1470.08 Q2001.25 1473.62 2004.86 1473.62 Q2008.5 1473.62 2010.3 1470.08 Q2012.13 1466.51 2012.13 1459.41 Q2012.13 1452.28 2010.3 1448.74 Q2008.5 1445.17 2004.86 1445.17 M2004.86 1441.47 Q2010.67 1441.47 2013.73 1446.07 Q2016.81 1450.66 2016.81 1459.41 Q2016.81 1468.13 2013.73 1472.74 Q2010.67 1477.32 2004.86 1477.32 Q1999.05 1477.32 1995.98 1472.74 Q1992.92 1468.13 1992.92 1459.41 Q1992.92 1450.66 1995.98 1446.07 Q1999.05 1441.47 2004.86 1441.47 Z\" fill=\"#000000\" fill-rule=\"evenodd\" fill-opacity=\"1\" /><path clip-path=\"url(#clip430)\" d=\"M 0 0 M2300.37 1457.51 Q2297.22 1457.51 2295.37 1459.66 Q2293.54 1461.81 2293.54 1465.56 Q2293.54 1469.29 2295.37 1471.47 Q2297.22 1473.62 2300.37 1473.62 Q2303.52 1473.62 2305.35 1471.47 Q2307.2 1469.29 2307.2 1465.56 Q2307.2 1461.81 2305.35 1459.66 Q2303.52 1457.51 2300.37 1457.51 M2309.65 1442.86 L2309.65 1447.11 Q2307.89 1446.28 2306.09 1445.84 Q2304.3 1445.4 2302.54 1445.4 Q2297.91 1445.4 2295.46 1448.53 Q2293.03 1451.65 2292.68 1457.97 Q2294.05 1455.96 2296.11 1454.89 Q2298.17 1453.8 2300.65 1453.8 Q2305.85 1453.8 2308.86 1456.98 Q2311.9 1460.12 2311.9 1465.56 Q2311.9 1470.89 2308.75 1474.11 Q2305.6 1477.32 2300.37 1477.32 Q2294.37 1477.32 2291.2 1472.74 Q2288.03 1468.13 2288.03 1459.41 Q2288.03 1451.21 2291.92 1446.35 Q2295.81 1441.47 2302.36 1441.47 Q2304.12 1441.47 2305.9 1441.81 Q2307.71 1442.16 2309.65 1442.86 Z\" fill=\"#000000\" fill-rule=\"evenodd\" fill-opacity=\"1\" /><path clip-path=\"url(#clip430)\" d=\"M 0 0 M2326.97 1445.17 Q2323.35 1445.17 2321.53 1448.74 Q2319.72 1452.28 2319.72 1459.41 Q2319.72 1466.51 2321.53 1470.08 Q2323.35 1473.62 2326.97 1473.62 Q2330.6 1473.62 2332.41 1470.08 Q2334.23 1466.51 2334.23 1459.41 Q2334.23 1452.28 2332.41 1448.74 Q2330.6 1445.17 2326.97 1445.17 M2326.97 1441.47 Q2332.78 1441.47 2335.83 1446.07 Q2338.91 1450.66 2338.91 1459.41 Q2338.91 1468.13 2335.83 1472.74 Q2332.78 1477.32 2326.97 1477.32 Q2321.16 1477.32 2318.08 1472.74 Q2315.02 1468.13 2315.02 1459.41 Q2315.02 1450.66 2318.08 1446.07 Q2321.16 1441.47 2326.97 1441.47 Z\" fill=\"#000000\" fill-rule=\"evenodd\" fill-opacity=\"1\" /><path clip-path=\"url(#clip430)\" d=\"M 0 0 M2353.98 1445.17 Q2350.37 1445.17 2348.54 1448.74 Q2346.73 1452.28 2346.73 1459.41 Q2346.73 1466.51 2348.54 1470.08 Q2350.37 1473.62 2353.98 1473.62 Q2357.61 1473.62 2359.42 1470.08 Q2361.25 1466.51 2361.25 1459.41 Q2361.25 1452.28 2359.42 1448.74 Q2357.61 1445.17 2353.98 1445.17 M2353.98 1441.47 Q2359.79 1441.47 2362.84 1446.07 Q2365.92 1450.66 2365.92 1459.41 Q2365.92 1468.13 2362.84 1472.74 Q2359.79 1477.32 2353.98 1477.32 Q2348.17 1477.32 2345.09 1472.74 Q2342.03 1468.13 2342.03 1459.41 Q2342.03 1450.66 2345.09 1446.07 Q2348.17 1441.47 2353.98 1441.47 Z\" fill=\"#000000\" fill-rule=\"evenodd\" fill-opacity=\"1\" /><path clip-path=\"url(#clip430)\" d=\"M 0 0 M139.015 1381.84 Q135.404 1381.84 133.575 1385.4 Q131.769 1388.94 131.769 1396.07 Q131.769 1403.18 133.575 1406.74 Q135.404 1410.29 139.015 1410.29 Q142.649 1410.29 144.455 1406.74 Q146.283 1403.18 146.283 1396.07 Q146.283 1388.94 144.455 1385.4 Q142.649 1381.84 139.015 1381.84 M139.015 1378.13 Q144.825 1378.13 147.88 1382.74 Q150.959 1387.32 150.959 1396.07 Q150.959 1404.8 147.88 1409.41 Q144.825 1413.99 139.015 1413.99 Q133.205 1413.99 130.126 1409.41 Q127.07 1404.8 127.07 1396.07 Q127.07 1387.32 130.126 1382.74 Q133.205 1378.13 139.015 1378.13 Z\" fill=\"#000000\" fill-rule=\"evenodd\" fill-opacity=\"1\" /><path clip-path=\"url(#clip430)\" d=\"M 0 0 M156.029 1407.44 L160.913 1407.44 L160.913 1413.32 L156.029 1413.32 L156.029 1407.44 Z\" fill=\"#000000\" fill-rule=\"evenodd\" fill-opacity=\"1\" /><path clip-path=\"url(#clip430)\" d=\"M 0 0 M164.802 1378.76 L187.024 1378.76 L187.024 1380.75 L174.477 1413.32 L169.593 1413.32 L181.399 1382.69 L164.802 1382.69 L164.802 1378.76 Z\" fill=\"#000000\" fill-rule=\"evenodd\" fill-opacity=\"1\" /><path clip-path=\"url(#clip430)\" d=\"M 0 0 M138.205 945.22 Q134.593 945.22 132.765 948.785 Q130.959 952.326 130.959 959.456 Q130.959 966.562 132.765 970.127 Q134.593 973.669 138.205 973.669 Q141.839 973.669 143.644 970.127 Q145.473 966.562 145.473 959.456 Q145.473 952.326 143.644 948.785 Q141.839 945.22 138.205 945.22 M138.205 941.516 Q144.015 941.516 147.07 946.123 Q150.149 950.706 150.149 959.456 Q150.149 968.183 147.07 972.789 Q144.015 977.372 138.205 977.372 Q132.394 977.372 129.316 972.789 Q126.26 968.183 126.26 959.456 Q126.26 950.706 129.316 946.123 Q132.394 941.516 138.205 941.516 Z\" fill=\"#000000\" fill-rule=\"evenodd\" fill-opacity=\"1\" /><path clip-path=\"url(#clip430)\" d=\"M 0 0 M155.218 970.821 L160.103 970.821 L160.103 976.701 L155.218 976.701 L155.218 970.821 Z\" fill=\"#000000\" fill-rule=\"evenodd\" fill-opacity=\"1\" /><path clip-path=\"url(#clip430)\" d=\"M 0 0 M175.172 960.289 Q171.839 960.289 169.917 962.072 Q168.019 963.854 168.019 966.979 Q168.019 970.104 169.917 971.886 Q171.839 973.669 175.172 973.669 Q178.505 973.669 180.427 971.886 Q182.348 970.081 182.348 966.979 Q182.348 963.854 180.427 962.072 Q178.528 960.289 175.172 960.289 M170.496 958.298 Q167.487 957.558 165.797 955.497 Q164.13 953.437 164.13 950.474 Q164.13 946.331 167.07 943.923 Q170.033 941.516 175.172 941.516 Q180.334 941.516 183.274 943.923 Q186.214 946.331 186.214 950.474 Q186.214 953.437 184.524 955.497 Q182.857 957.558 179.871 958.298 Q183.251 959.085 185.126 961.377 Q187.024 963.669 187.024 966.979 Q187.024 972.002 183.945 974.687 Q180.889 977.372 175.172 977.372 Q169.454 977.372 166.376 974.687 Q163.32 972.002 163.32 966.979 Q163.32 963.669 165.218 961.377 Q167.116 959.085 170.496 958.298 M168.783 950.914 Q168.783 953.599 170.45 955.104 Q172.14 956.609 175.172 956.609 Q178.181 956.609 179.871 955.104 Q181.584 953.599 181.584 950.914 Q181.584 948.229 179.871 946.724 Q178.181 945.22 175.172 945.22 Q172.14 945.22 170.45 946.724 Q168.783 948.229 168.783 950.914 Z\" fill=\"#000000\" fill-rule=\"evenodd\" fill-opacity=\"1\" /><path clip-path=\"url(#clip430)\" d=\"M 0 0 M138.297 508.602 Q134.686 508.602 132.857 512.167 Q131.052 515.708 131.052 522.838 Q131.052 529.945 132.857 533.509 Q134.686 537.051 138.297 537.051 Q141.931 537.051 143.737 533.509 Q145.566 529.945 145.566 522.838 Q145.566 515.708 143.737 512.167 Q141.931 508.602 138.297 508.602 M138.297 504.898 Q144.107 504.898 147.163 509.505 Q150.242 514.088 150.242 522.838 Q150.242 531.565 147.163 536.171 Q144.107 540.755 138.297 540.755 Q132.487 540.755 129.408 536.171 Q126.353 531.565 126.353 522.838 Q126.353 514.088 129.408 509.505 Q132.487 504.898 138.297 504.898 Z\" fill=\"#000000\" fill-rule=\"evenodd\" fill-opacity=\"1\" /><path clip-path=\"url(#clip430)\" d=\"M 0 0 M155.311 534.204 L160.195 534.204 L160.195 540.083 L155.311 540.083 L155.311 534.204 Z\" fill=\"#000000\" fill-rule=\"evenodd\" fill-opacity=\"1\" /><path clip-path=\"url(#clip430)\" d=\"M 0 0 M165.403 539.366 L165.403 535.107 Q167.163 535.94 168.968 536.38 Q170.774 536.819 172.51 536.819 Q177.14 536.819 179.57 533.718 Q182.024 530.593 182.371 524.25 Q181.028 526.241 178.968 527.306 Q176.908 528.37 174.408 528.37 Q169.223 528.37 166.19 525.245 Q163.181 522.097 163.181 516.658 Q163.181 511.334 166.329 508.116 Q169.478 504.898 174.709 504.898 Q180.704 504.898 183.852 509.505 Q187.024 514.088 187.024 522.838 Q187.024 531.009 183.135 535.894 Q179.269 540.755 172.718 540.755 Q170.959 540.755 169.153 540.407 Q167.348 540.06 165.403 539.366 M174.709 524.713 Q177.857 524.713 179.686 522.56 Q181.538 520.408 181.538 516.658 Q181.538 512.931 179.686 510.778 Q177.857 508.602 174.709 508.602 Q171.561 508.602 169.709 510.778 Q167.88 512.931 167.88 516.658 Q167.88 520.408 169.709 522.56 Q171.561 524.713 174.709 524.713 Z\" fill=\"#000000\" fill-rule=\"evenodd\" fill-opacity=\"1\" /><path clip-path=\"url(#clip430)\" d=\"M 0 0 M130.149 99.5305 L137.788 99.5305 L137.788 73.1649 L129.478 74.8316 L129.478 70.5723 L137.742 68.9057 L142.417 68.9057 L142.417 99.5305 L150.056 99.5305 L150.056 103.466 L130.149 103.466 L130.149 99.5305 Z\" fill=\"#000000\" fill-rule=\"evenodd\" fill-opacity=\"1\" /><path clip-path=\"url(#clip430)\" d=\"M 0 0 M155.126 97.5861 L160.01 97.5861 L160.01 103.466 L155.126 103.466 L155.126 97.5861 Z\" fill=\"#000000\" fill-rule=\"evenodd\" fill-opacity=\"1\" /><path clip-path=\"url(#clip430)\" d=\"M 0 0 M175.079 71.9844 Q171.468 71.9844 169.64 75.5492 Q167.834 79.0908 167.834 86.2204 Q167.834 93.3268 169.64 96.8916 Q171.468 100.433 175.079 100.433 Q178.714 100.433 180.519 96.8916 Q182.348 93.3268 182.348 86.2204 Q182.348 79.0908 180.519 75.5492 Q178.714 71.9844 175.079 71.9844 M175.079 68.2807 Q180.889 68.2807 183.945 72.8871 Q187.024 77.4704 187.024 86.2204 Q187.024 94.9472 183.945 99.5537 Q180.889 104.137 175.079 104.137 Q169.269 104.137 166.19 99.5537 Q163.135 94.9472 163.135 86.2204 Q163.135 77.4704 166.19 72.8871 Q169.269 68.2807 175.079 68.2807 Z\" fill=\"#000000\" fill-rule=\"evenodd\" fill-opacity=\"1\" /><path clip-path=\"url(#clip430)\" d=\"M 0 0 M870.665 1508.52 L879.323 1508.52 L900.393 1548.28 L900.393 1508.52 L906.631 1508.52 L906.631 1556.04 L897.974 1556.04 L876.904 1516.29 L876.904 1556.04 L870.665 1556.04 L870.665 1508.52 Z\" fill=\"#000000\" fill-rule=\"evenodd\" fill-opacity=\"1\" /><path clip-path=\"url(#clip430)\" d=\"M 0 0 M912.17 1541.98 L912.17 1520.4 L918.026 1520.4 L918.026 1541.75 Q918.026 1546.81 919.999 1549.36 Q921.973 1551.87 925.919 1551.87 Q930.662 1551.87 933.399 1548.85 Q936.168 1545.83 936.168 1540.61 L936.168 1520.4 L942.025 1520.4 L942.025 1556.04 L936.168 1556.04 L936.168 1550.57 Q934.036 1553.82 931.203 1555.41 Q928.402 1556.97 924.678 1556.97 Q918.535 1556.97 915.352 1553.15 Q912.17 1549.33 912.17 1541.98 M926.906 1519.54 L926.906 1519.54 Z\" fill=\"#000000\" fill-rule=\"evenodd\" fill-opacity=\"1\" /><path clip-path=\"url(#clip430)\" d=\"M 0 0 M975.922 1527.24 Q978.118 1523.29 981.174 1521.41 Q984.229 1519.54 988.367 1519.54 Q993.937 1519.54 996.961 1523.45 Q999.984 1527.33 999.984 1534.53 L999.984 1556.04 L994.096 1556.04 L994.096 1534.72 Q994.096 1529.59 992.282 1527.11 Q990.468 1524.63 986.744 1524.63 Q982.192 1524.63 979.551 1527.65 Q976.909 1530.68 976.909 1535.9 L976.909 1556.04 L971.021 1556.04 L971.021 1534.72 Q971.021 1529.56 969.206 1527.11 Q967.392 1524.63 963.604 1524.63 Q959.117 1524.63 956.475 1527.68 Q953.833 1530.71 953.833 1535.9 L953.833 1556.04 L947.945 1556.04 L947.945 1520.4 L953.833 1520.4 L953.833 1525.93 Q955.838 1522.66 958.639 1521.1 Q961.44 1519.54 965.291 1519.54 Q969.174 1519.54 971.88 1521.51 Q974.617 1523.48 975.922 1527.24 Z\" fill=\"#000000\" fill-rule=\"evenodd\" fill-opacity=\"1\" /><path clip-path=\"url(#clip430)\" d=\"M 0 0 M1031.72 1538.25 Q1031.72 1531.79 1029.04 1528.13 Q1026.4 1524.44 1021.76 1524.44 Q1017.11 1524.44 1014.43 1528.13 Q1011.79 1531.79 1011.79 1538.25 Q1011.79 1544.71 1014.43 1548.4 Q1017.11 1552.07 1021.76 1552.07 Q1026.4 1552.07 1029.04 1548.4 Q1031.72 1544.71 1031.72 1538.25 M1011.79 1525.81 Q1013.64 1522.62 1016.44 1521.1 Q1019.27 1519.54 1023.19 1519.54 Q1029.68 1519.54 1033.72 1524.69 Q1037.8 1529.85 1037.8 1538.25 Q1037.8 1546.65 1033.72 1551.81 Q1029.68 1556.97 1023.19 1556.97 Q1019.27 1556.97 1016.44 1555.44 Q1013.64 1553.88 1011.79 1550.7 L1011.79 1556.04 L1005.9 1556.04 L1005.9 1506.52 L1011.79 1506.52 L1011.79 1525.81 Z\" fill=\"#000000\" fill-rule=\"evenodd\" fill-opacity=\"1\" /><path clip-path=\"url(#clip430)\" d=\"M 0 0 M1074.43 1536.76 L1074.43 1539.62 L1047.5 1539.62 Q1047.89 1545.67 1051.13 1548.85 Q1054.41 1552 1060.24 1552 Q1063.61 1552 1066.76 1551.17 Q1069.94 1550.35 1073.06 1548.69 L1073.06 1554.23 Q1069.91 1555.57 1066.6 1556.27 Q1063.29 1556.97 1059.89 1556.97 Q1051.36 1556.97 1046.36 1552 Q1041.39 1547.04 1041.39 1538.57 Q1041.39 1529.82 1046.1 1524.69 Q1050.85 1519.54 1058.87 1519.54 Q1066.06 1519.54 1070.23 1524.18 Q1074.43 1528.8 1074.43 1536.76 M1068.57 1535.04 Q1068.51 1530.23 1065.87 1527.37 Q1063.26 1524.5 1058.93 1524.5 Q1054.03 1524.5 1051.07 1527.27 Q1048.14 1530.04 1047.7 1535.07 L1068.57 1535.04 Z\" fill=\"#000000\" fill-rule=\"evenodd\" fill-opacity=\"1\" /><path clip-path=\"url(#clip430)\" d=\"M 0 0 M1101.23 1525.87 Q1100.24 1525.3 1099.07 1525.04 Q1097.92 1524.76 1096.52 1524.76 Q1091.56 1524.76 1088.88 1528 Q1086.24 1531.22 1086.24 1537.27 L1086.24 1556.04 L1080.35 1556.04 L1080.35 1520.4 L1086.24 1520.4 L1086.24 1525.93 Q1088.09 1522.69 1091.05 1521.13 Q1094.01 1519.54 1098.24 1519.54 Q1098.84 1519.54 1099.58 1519.63 Q1100.31 1519.7 1101.2 1519.85 L1101.23 1525.87 Z\" fill=\"#000000\" fill-rule=\"evenodd\" fill-opacity=\"1\" /><path clip-path=\"url(#clip430)\" d=\"M 0 0 M1141.91 1524.5 Q1137.2 1524.5 1134.46 1528.19 Q1131.72 1531.85 1131.72 1538.25 Q1131.72 1544.65 1134.43 1548.34 Q1137.17 1552 1141.91 1552 Q1146.59 1552 1149.32 1548.31 Q1152.06 1544.62 1152.06 1538.25 Q1152.06 1531.92 1149.32 1528.23 Q1146.59 1524.5 1141.91 1524.5 M1141.91 1519.54 Q1149.55 1519.54 1153.91 1524.5 Q1158.27 1529.47 1158.27 1538.25 Q1158.27 1547 1153.91 1552 Q1149.55 1556.97 1141.91 1556.97 Q1134.24 1556.97 1129.88 1552 Q1125.55 1547 1125.55 1538.25 Q1125.55 1529.47 1129.88 1524.5 Q1134.24 1519.54 1141.91 1519.54 Z\" fill=\"#000000\" fill-rule=\"evenodd\" fill-opacity=\"1\" /><path clip-path=\"url(#clip430)\" d=\"M 0 0 M1182.46 1506.52 L1182.46 1511.39 L1176.86 1511.39 Q1173.7 1511.39 1172.46 1512.66 Q1171.25 1513.93 1171.25 1517.24 L1171.25 1520.4 L1180.9 1520.4 L1180.9 1524.95 L1171.25 1524.95 L1171.25 1556.04 L1165.37 1556.04 L1165.37 1524.95 L1159.76 1524.95 L1159.76 1520.4 L1165.37 1520.4 L1165.37 1517.91 Q1165.37 1511.96 1168.13 1509.26 Q1170.9 1506.52 1176.92 1506.52 L1182.46 1506.52 Z\" fill=\"#000000\" fill-rule=\"evenodd\" fill-opacity=\"1\" /><path clip-path=\"url(#clip430)\" d=\"M 0 0 M1202.99 1508.52 L1243.19 1508.52 L1243.19 1513.93 L1226.32 1513.93 L1226.32 1556.04 L1219.86 1556.04 L1219.86 1513.93 L1202.99 1513.93 L1202.99 1508.52 Z\" fill=\"#000000\" fill-rule=\"evenodd\" fill-opacity=\"1\" /><path clip-path=\"url(#clip430)\" d=\"M 0 0 M1260.41 1525.87 Q1259.42 1525.3 1258.24 1525.04 Q1257.1 1524.76 1255.69 1524.76 Q1250.73 1524.76 1248.06 1528 Q1245.41 1531.22 1245.41 1537.27 L1245.41 1556.04 L1239.53 1556.04 L1239.53 1520.4 L1245.41 1520.4 L1245.41 1525.93 Q1247.26 1522.69 1250.22 1521.13 Q1253.18 1519.54 1257.41 1519.54 Q1258.02 1519.54 1258.75 1519.63 Q1259.48 1519.7 1260.37 1519.85 L1260.41 1525.87 Z\" fill=\"#000000\" fill-rule=\"evenodd\" fill-opacity=\"1\" /><path clip-path=\"url(#clip430)\" d=\"M 0 0 M1282.75 1538.12 Q1275.65 1538.12 1272.91 1539.75 Q1270.18 1541.37 1270.18 1545.29 Q1270.18 1548.4 1272.21 1550.25 Q1274.28 1552.07 1277.82 1552.07 Q1282.69 1552.07 1285.61 1548.63 Q1288.57 1545.16 1288.57 1539.43 L1288.57 1538.12 L1282.75 1538.12 M1294.43 1535.71 L1294.43 1556.04 L1288.57 1556.04 L1288.57 1550.63 Q1286.57 1553.88 1283.58 1555.44 Q1280.58 1556.97 1276.26 1556.97 Q1270.78 1556.97 1267.54 1553.91 Q1264.32 1550.82 1264.32 1545.67 Q1264.32 1539.65 1268.33 1536.6 Q1272.37 1533.54 1280.36 1533.54 L1288.57 1533.54 L1288.57 1532.97 Q1288.57 1528.93 1285.9 1526.73 Q1283.26 1524.5 1278.45 1524.5 Q1275.4 1524.5 1272.5 1525.23 Q1269.6 1525.97 1266.93 1527.43 L1266.93 1522.02 Q1270.15 1520.78 1273.17 1520.17 Q1276.19 1519.54 1279.06 1519.54 Q1286.79 1519.54 1290.61 1523.55 Q1294.43 1527.56 1294.43 1535.71 Z\" fill=\"#000000\" fill-rule=\"evenodd\" fill-opacity=\"1\" /><path clip-path=\"url(#clip430)\" d=\"M 0 0 M1300.57 1520.4 L1306.43 1520.4 L1306.43 1556.04 L1300.57 1556.04 L1300.57 1520.4 M1300.57 1506.52 L1306.43 1506.52 L1306.43 1513.93 L1300.57 1513.93 L1300.57 1506.52 Z\" fill=\"#000000\" fill-rule=\"evenodd\" fill-opacity=\"1\" /><path clip-path=\"url(#clip430)\" d=\"M 0 0 M1342.2 1534.53 L1342.2 1556.04 L1336.35 1556.04 L1336.35 1534.72 Q1336.35 1529.66 1334.38 1527.14 Q1332.4 1524.63 1328.45 1524.63 Q1323.71 1524.63 1320.98 1527.65 Q1318.24 1530.68 1318.24 1535.9 L1318.24 1556.04 L1312.35 1556.04 L1312.35 1520.4 L1318.24 1520.4 L1318.24 1525.93 Q1320.34 1522.72 1323.17 1521.13 Q1326.04 1519.54 1329.76 1519.54 Q1335.9 1519.54 1339.05 1523.36 Q1342.2 1527.14 1342.2 1534.53 Z\" fill=\"#000000\" fill-rule=\"evenodd\" fill-opacity=\"1\" /><path clip-path=\"url(#clip430)\" d=\"M 0 0 M1348.35 1520.4 L1354.2 1520.4 L1354.2 1556.04 L1348.35 1556.04 L1348.35 1520.4 M1348.35 1506.52 L1354.2 1506.52 L1354.2 1513.93 L1348.35 1513.93 L1348.35 1506.52 Z\" fill=\"#000000\" fill-rule=\"evenodd\" fill-opacity=\"1\" /><path clip-path=\"url(#clip430)\" d=\"M 0 0 M1389.98 1534.53 L1389.98 1556.04 L1384.12 1556.04 L1384.12 1534.72 Q1384.12 1529.66 1382.15 1527.14 Q1380.18 1524.63 1376.23 1524.63 Q1371.49 1524.63 1368.75 1527.65 Q1366.01 1530.68 1366.01 1535.9 L1366.01 1556.04 L1360.12 1556.04 L1360.12 1520.4 L1366.01 1520.4 L1366.01 1525.93 Q1368.11 1522.72 1370.95 1521.13 Q1373.81 1519.54 1377.53 1519.54 Q1383.68 1519.54 1386.83 1523.36 Q1389.98 1527.14 1389.98 1534.53 Z\" fill=\"#000000\" fill-rule=\"evenodd\" fill-opacity=\"1\" /><path clip-path=\"url(#clip430)\" d=\"M 0 0 M1419.58 1537.81 Q1419.58 1531.44 1416.94 1527.94 Q1414.33 1524.44 1409.59 1524.44 Q1404.88 1524.44 1402.23 1527.94 Q1399.62 1531.44 1399.62 1537.81 Q1399.62 1544.14 1402.23 1547.64 Q1404.88 1551.14 1409.59 1551.14 Q1414.33 1551.14 1416.94 1547.64 Q1419.58 1544.14 1419.58 1537.81 M1425.44 1551.62 Q1425.44 1560.72 1421.39 1565.15 Q1417.35 1569.6 1409.01 1569.6 Q1405.93 1569.6 1403.19 1569.13 Q1400.45 1568.68 1397.87 1567.72 L1397.87 1562.03 Q1400.45 1563.43 1402.97 1564.1 Q1405.48 1564.76 1408.09 1564.76 Q1413.85 1564.76 1416.72 1561.74 Q1419.58 1558.75 1419.58 1552.67 L1419.58 1549.77 Q1417.77 1552.92 1414.93 1554.48 Q1412.1 1556.04 1408.15 1556.04 Q1401.6 1556.04 1397.59 1551.05 Q1393.58 1546.05 1393.58 1537.81 Q1393.58 1529.53 1397.59 1524.53 Q1401.6 1519.54 1408.15 1519.54 Q1412.1 1519.54 1414.93 1521.1 Q1417.77 1522.66 1419.58 1525.81 L1419.58 1520.4 L1425.44 1520.4 L1425.44 1551.62 Z\" fill=\"#000000\" fill-rule=\"evenodd\" fill-opacity=\"1\" /><path clip-path=\"url(#clip430)\" d=\"M 0 0 M1481.04 1510.08 L1481.04 1516.35 Q1477.38 1514.6 1474.13 1513.74 Q1470.89 1512.88 1467.86 1512.88 Q1462.61 1512.88 1459.75 1514.92 Q1456.91 1516.96 1456.91 1520.71 Q1456.91 1523.87 1458.79 1525.49 Q1460.7 1527.08 1465.99 1528.07 L1469.87 1528.86 Q1477.06 1530.23 1480.47 1533.7 Q1483.91 1537.14 1483.91 1542.93 Q1483.91 1549.84 1479.26 1553.4 Q1474.64 1556.97 1465.7 1556.97 Q1462.33 1556.97 1458.51 1556.2 Q1454.72 1555.44 1450.64 1553.94 L1450.64 1547.32 Q1454.56 1549.52 1458.32 1550.63 Q1462.07 1551.75 1465.7 1551.75 Q1471.21 1551.75 1474.2 1549.58 Q1477.19 1547.42 1477.19 1543.41 Q1477.19 1539.91 1475.03 1537.93 Q1472.89 1535.96 1467.99 1534.97 L1464.08 1534.21 Q1456.88 1532.78 1453.67 1529.72 Q1450.45 1526.67 1450.45 1521.22 Q1450.45 1514.92 1454.88 1511.29 Q1459.33 1507.66 1467.13 1507.66 Q1470.47 1507.66 1473.94 1508.27 Q1477.41 1508.87 1481.04 1510.08 Z\" fill=\"#000000\" fill-rule=\"evenodd\" fill-opacity=\"1\" /><path clip-path=\"url(#clip430)\" d=\"M 0 0 M1506.25 1538.12 Q1499.15 1538.12 1496.41 1539.75 Q1493.68 1541.37 1493.68 1545.29 Q1493.68 1548.4 1495.71 1550.25 Q1497.78 1552.07 1501.32 1552.07 Q1506.19 1552.07 1509.11 1548.63 Q1512.07 1545.16 1512.07 1539.43 L1512.07 1538.12 L1506.25 1538.12 M1517.93 1535.71 L1517.93 1556.04 L1512.07 1556.04 L1512.07 1550.63 Q1510.07 1553.88 1507.08 1555.44 Q1504.08 1556.97 1499.76 1556.97 Q1494.28 1556.97 1491.04 1553.91 Q1487.82 1550.82 1487.82 1545.67 Q1487.82 1539.65 1491.83 1536.6 Q1495.87 1533.54 1503.86 1533.54 L1512.07 1533.54 L1512.07 1532.97 Q1512.07 1528.93 1509.4 1526.73 Q1506.76 1524.5 1501.95 1524.5 Q1498.9 1524.5 1496 1525.23 Q1493.1 1525.97 1490.43 1527.43 L1490.43 1522.02 Q1493.65 1520.78 1496.67 1520.17 Q1499.69 1519.54 1502.56 1519.54 Q1510.29 1519.54 1514.11 1523.55 Q1517.93 1527.56 1517.93 1535.71 Z\" fill=\"#000000\" fill-rule=\"evenodd\" fill-opacity=\"1\" /><path clip-path=\"url(#clip430)\" d=\"M 0 0 M1551.83 1527.24 Q1554.02 1523.29 1557.08 1521.41 Q1560.13 1519.54 1564.27 1519.54 Q1569.84 1519.54 1572.87 1523.45 Q1575.89 1527.33 1575.89 1534.53 L1575.89 1556.04 L1570 1556.04 L1570 1534.72 Q1570 1529.59 1568.19 1527.11 Q1566.37 1524.63 1562.65 1524.63 Q1558.1 1524.63 1555.46 1527.65 Q1552.81 1530.68 1552.81 1535.9 L1552.81 1556.04 L1546.93 1556.04 L1546.93 1534.72 Q1546.93 1529.56 1545.11 1527.11 Q1543.3 1524.63 1539.51 1524.63 Q1535.02 1524.63 1532.38 1527.68 Q1529.74 1530.71 1529.74 1535.9 L1529.74 1556.04 L1523.85 1556.04 L1523.85 1520.4 L1529.74 1520.4 L1529.74 1525.93 Q1531.74 1522.66 1534.54 1521.1 Q1537.35 1519.54 1541.2 1519.54 Q1545.08 1519.54 1547.79 1521.51 Q1550.52 1523.48 1551.83 1527.24 Z\" fill=\"#000000\" fill-rule=\"evenodd\" fill-opacity=\"1\" /><path clip-path=\"url(#clip430)\" d=\"M 0 0 M1587.7 1550.7 L1587.7 1569.6 L1581.81 1569.6 L1581.81 1520.4 L1587.7 1520.4 L1587.7 1525.81 Q1589.54 1522.62 1592.35 1521.1 Q1595.18 1519.54 1599.09 1519.54 Q1605.59 1519.54 1609.63 1524.69 Q1613.7 1529.85 1613.7 1538.25 Q1613.7 1546.65 1609.63 1551.81 Q1605.59 1556.97 1599.09 1556.97 Q1595.18 1556.97 1592.35 1555.44 Q1589.54 1553.88 1587.7 1550.7 M1607.62 1538.25 Q1607.62 1531.79 1604.95 1528.13 Q1602.31 1524.44 1597.66 1524.44 Q1593.01 1524.44 1590.34 1528.13 Q1587.7 1531.79 1587.7 1538.25 Q1587.7 1544.71 1590.34 1548.4 Q1593.01 1552.07 1597.66 1552.07 Q1602.31 1552.07 1604.95 1548.4 Q1607.62 1544.71 1607.62 1538.25 Z\" fill=\"#000000\" fill-rule=\"evenodd\" fill-opacity=\"1\" /><path clip-path=\"url(#clip430)\" d=\"M 0 0 M1619.85 1506.52 L1625.7 1506.52 L1625.7 1556.04 L1619.85 1556.04 L1619.85 1506.52 Z\" fill=\"#000000\" fill-rule=\"evenodd\" fill-opacity=\"1\" /><path clip-path=\"url(#clip430)\" d=\"M 0 0 M1662.34 1536.76 L1662.34 1539.62 L1635.41 1539.62 Q1635.79 1545.67 1639.04 1548.85 Q1642.32 1552 1648.14 1552 Q1651.51 1552 1654.67 1551.17 Q1657.85 1550.35 1660.97 1548.69 L1660.97 1554.23 Q1657.82 1555.57 1654.51 1556.27 Q1651.2 1556.97 1647.79 1556.97 Q1639.26 1556.97 1634.26 1552 Q1629.3 1547.04 1629.3 1538.57 Q1629.3 1529.82 1634.01 1524.69 Q1638.75 1519.54 1646.77 1519.54 Q1653.97 1519.54 1658.13 1524.18 Q1662.34 1528.8 1662.34 1536.76 M1656.48 1535.04 Q1656.42 1530.23 1653.77 1527.37 Q1651.16 1524.5 1646.84 1524.5 Q1641.93 1524.5 1638.97 1527.27 Q1636.05 1530.04 1635.6 1535.07 L1656.48 1535.04 Z\" fill=\"#000000\" fill-rule=\"evenodd\" fill-opacity=\"1\" /><path clip-path=\"url(#clip430)\" d=\"M 0 0 M1691.2 1521.45 L1691.2 1526.98 Q1688.72 1525.71 1686.05 1525.07 Q1683.37 1524.44 1680.51 1524.44 Q1676.15 1524.44 1673.95 1525.77 Q1671.79 1527.11 1671.79 1529.79 Q1671.79 1531.82 1673.35 1533 Q1674.91 1534.15 1679.62 1535.2 L1681.62 1535.64 Q1687.86 1536.98 1690.47 1539.43 Q1693.11 1541.85 1693.11 1546.21 Q1693.11 1551.17 1689.17 1554.07 Q1685.25 1556.97 1678.38 1556.97 Q1675.51 1556.97 1672.39 1556.39 Q1669.31 1555.85 1665.87 1554.74 L1665.87 1548.69 Q1669.12 1550.38 1672.27 1551.24 Q1675.42 1552.07 1678.51 1552.07 Q1682.64 1552.07 1684.87 1550.66 Q1687.1 1549.23 1687.1 1546.65 Q1687.1 1544.27 1685.48 1542.99 Q1683.88 1541.72 1678.44 1540.54 L1676.4 1540.07 Q1670.96 1538.92 1668.54 1536.56 Q1666.12 1534.18 1666.12 1530.04 Q1666.12 1525.01 1669.69 1522.27 Q1673.25 1519.54 1679.81 1519.54 Q1683.06 1519.54 1685.92 1520.01 Q1688.79 1520.49 1691.2 1521.45 Z\" fill=\"#000000\" fill-rule=\"evenodd\" fill-opacity=\"1\" /><path clip-path=\"url(#clip430)\" d=\"M 0 0 M44.1444 1026.82 L50.9239 1026.82 Q47.9002 1030.07 46.4043 1033.76 Q44.9083 1037.42 44.9083 1041.56 Q44.9083 1049.71 49.9054 1054.04 Q54.8707 1058.37 64.2919 1058.37 Q73.6813 1058.37 78.6784 1054.04 Q83.6436 1049.71 83.6436 1041.56 Q83.6436 1037.42 82.1477 1033.76 Q80.6518 1030.07 77.6281 1026.82 L84.3439 1026.82 Q86.6355 1030.2 87.7814 1033.99 Q88.9272 1037.74 88.9272 1041.94 Q88.9272 1052.73 82.3387 1058.94 Q75.7183 1065.15 64.2919 1065.15 Q52.8336 1065.15 46.2451 1058.94 Q39.6248 1052.73 39.6248 1041.94 Q39.6248 1037.68 40.7706 1033.92 Q41.8846 1030.14 44.1444 1026.82 Z\" fill=\"#000000\" fill-rule=\"evenodd\" fill-opacity=\"1\" /><path clip-path=\"url(#clip430)\" d=\"M 0 0 M38.479 1020.68 L38.479 1014.83 L88.0042 1014.83 L88.0042 1020.68 L38.479 1020.68 Z\" fill=\"#000000\" fill-rule=\"evenodd\" fill-opacity=\"1\" /><path clip-path=\"url(#clip430)\" d=\"M 0 0 M70.0847 992.482 Q70.0847 999.58 71.7079 1002.32 Q73.3312 1005.05 77.2461 1005.05 Q80.3653 1005.05 82.2114 1003.02 Q84.0256 1000.95 84.0256 997.415 Q84.0256 992.546 80.5881 989.617 Q77.1188 986.657 71.3897 986.657 L70.0847 986.657 L70.0847 992.482 M67.6657 980.801 L88.0042 980.801 L88.0042 986.657 L82.5933 986.657 Q85.8398 988.663 87.3994 991.654 Q88.9272 994.646 88.9272 998.975 Q88.9272 1004.45 85.8716 1007.7 Q82.7843 1010.91 77.6281 1010.91 Q71.6125 1010.91 68.5569 1006.9 Q65.5014 1002.86 65.5014 994.869 L65.5014 986.657 L64.9285 986.657 Q60.8862 986.657 58.6901 989.331 Q56.4621 991.973 56.4621 996.779 Q56.4621 999.834 57.1941 1002.73 Q57.9262 1005.63 59.3903 1008.3 L53.9795 1008.3 Q52.7381 1005.09 52.1334 1002.06 Q51.4968 999.039 51.4968 996.174 Q51.4968 988.44 55.5072 984.62 Q59.5176 980.801 67.6657 980.801 Z\" fill=\"#000000\" fill-rule=\"evenodd\" fill-opacity=\"1\" /><path clip-path=\"url(#clip430)\" d=\"M 0 0 M53.4065 951.932 L58.9447 951.932 Q57.6716 954.415 57.035 957.089 Q56.3984 959.762 56.3984 962.627 Q56.3984 966.987 57.7352 969.184 Q59.072 971.348 61.7456 971.348 Q63.7826 971.348 64.9603 969.788 Q66.1061 968.229 67.1565 963.518 L67.6021 961.513 Q68.9389 955.274 71.3897 952.665 Q73.8086 950.023 78.1691 950.023 Q83.1344 950.023 86.0308 953.969 Q88.9272 957.884 88.9272 964.759 Q88.9272 967.624 88.3543 970.743 Q87.8132 973.83 86.6992 977.268 L80.6518 977.268 Q82.3387 974.021 83.198 970.87 Q84.0256 967.719 84.0256 964.632 Q84.0256 960.494 82.6251 958.266 Q81.1929 956.038 78.6147 956.038 Q76.2276 956.038 74.9545 957.662 Q73.6813 959.253 72.5037 964.696 L72.0262 966.733 Q70.8804 972.175 68.5251 974.594 Q66.138 977.013 62.0002 977.013 Q56.9713 977.013 54.2341 973.449 Q51.4968 969.884 51.4968 963.327 Q51.4968 960.081 51.9743 957.216 Q52.4517 954.351 53.4065 951.932 Z\" fill=\"#000000\" fill-rule=\"evenodd\" fill-opacity=\"1\" /><path clip-path=\"url(#clip430)\" d=\"M 0 0 M53.4065 921.154 L58.9447 921.154 Q57.6716 923.637 57.035 926.31 Q56.3984 928.984 56.3984 931.849 Q56.3984 936.209 57.7352 938.405 Q59.072 940.57 61.7456 940.57 Q63.7826 940.57 64.9603 939.01 Q66.1061 937.45 67.1565 932.74 L67.6021 930.735 Q68.9389 924.496 71.3897 921.886 Q73.8086 919.245 78.1691 919.245 Q83.1344 919.245 86.0308 923.191 Q88.9272 927.106 88.9272 933.981 Q88.9272 936.846 88.3543 939.965 Q87.8132 943.052 86.6992 946.49 L80.6518 946.49 Q82.3387 943.243 83.198 940.092 Q84.0256 936.941 84.0256 933.854 Q84.0256 929.716 82.6251 927.488 Q81.1929 925.26 78.6147 925.26 Q76.2276 925.26 74.9545 926.883 Q73.6813 928.475 72.5037 933.918 L72.0262 935.955 Q70.8804 941.397 68.5251 943.816 Q66.138 946.235 62.0002 946.235 Q56.9713 946.235 54.2341 942.67 Q51.4968 939.106 51.4968 932.549 Q51.4968 929.302 51.9743 926.438 Q52.4517 923.573 53.4065 921.154 Z\" fill=\"#000000\" fill-rule=\"evenodd\" fill-opacity=\"1\" /><path clip-path=\"url(#clip430)\" d=\"M 0 0 M52.3562 913.102 L52.3562 907.245 L88.0042 907.245 L88.0042 913.102 L52.3562 913.102 M38.479 913.102 L38.479 907.245 L45.895 907.245 L45.895 913.102 L38.479 913.102 Z\" fill=\"#000000\" fill-rule=\"evenodd\" fill-opacity=\"1\" /><path clip-path=\"url(#clip430)\" d=\"M 0 0 M38.479 883.056 L43.3487 883.056 L43.3487 888.657 Q43.3487 891.808 44.6219 893.05 Q45.895 894.259 49.2052 894.259 L52.3562 894.259 L52.3562 884.615 L56.9077 884.615 L56.9077 894.259 L88.0042 894.259 L88.0042 900.147 L56.9077 900.147 L56.9077 905.749 L52.3562 905.749 L52.3562 900.147 L49.8736 900.147 Q43.9216 900.147 41.2162 897.378 Q38.479 894.609 38.479 888.594 L38.479 883.056 Z\" fill=\"#000000\" fill-rule=\"evenodd\" fill-opacity=\"1\" /><path clip-path=\"url(#clip430)\" d=\"M 0 0 M52.3562 876.913 L52.3562 871.056 L88.0042 871.056 L88.0042 876.913 L52.3562 876.913 M38.479 876.913 L38.479 871.056 L45.895 871.056 L45.895 876.913 L38.479 876.913 Z\" fill=\"#000000\" fill-rule=\"evenodd\" fill-opacity=\"1\" /><path clip-path=\"url(#clip430)\" d=\"M 0 0 M53.7248 839.259 L59.1993 839.259 Q57.8307 841.742 57.1623 844.257 Q56.4621 846.739 56.4621 849.285 Q56.4621 854.983 60.0905 858.134 Q63.6872 861.285 70.212 861.285 Q76.7369 861.285 80.3653 858.134 Q83.9619 854.983 83.9619 849.285 Q83.9619 846.739 83.2935 844.257 Q82.5933 841.742 81.2247 839.259 L86.6355 839.259 Q87.7814 841.71 88.3543 844.352 Q88.9272 846.962 88.9272 849.922 Q88.9272 857.975 83.8664 862.717 Q78.8057 867.46 70.212 867.46 Q61.491 867.46 56.4939 862.685 Q51.4968 857.879 51.4968 849.54 Q51.4968 846.835 52.0697 844.257 Q52.6108 841.678 53.7248 839.259 Z\" fill=\"#000000\" fill-rule=\"evenodd\" fill-opacity=\"1\" /><path clip-path=\"url(#clip430)\" d=\"M 0 0 M70.0847 816.916 Q70.0847 824.014 71.7079 826.751 Q73.3312 829.488 77.2461 829.488 Q80.3653 829.488 82.2114 827.451 Q84.0256 825.382 84.0256 821.849 Q84.0256 816.979 80.5881 814.051 Q77.1188 811.091 71.3897 811.091 L70.0847 811.091 L70.0847 816.916 M67.6657 805.235 L88.0042 805.235 L88.0042 811.091 L82.5933 811.091 Q85.8398 813.096 87.3994 816.088 Q88.9272 819.08 88.9272 823.409 Q88.9272 828.883 85.8716 832.13 Q82.7843 835.345 77.6281 835.345 Q71.6125 835.345 68.5569 831.334 Q65.5014 827.292 65.5014 819.303 L65.5014 811.091 L64.9285 811.091 Q60.8862 811.091 58.6901 813.765 Q56.4621 816.407 56.4621 821.213 Q56.4621 824.268 57.1941 827.165 Q57.9262 830.061 59.3903 832.735 L53.9795 832.735 Q52.7381 829.52 52.1334 826.496 Q51.4968 823.472 51.4968 820.608 Q51.4968 812.874 55.5072 809.054 Q59.5176 805.235 67.6657 805.235 Z\" fill=\"#000000\" fill-rule=\"evenodd\" fill-opacity=\"1\" /><path clip-path=\"url(#clip430)\" d=\"M 0 0 M42.2347 793.299 L52.3562 793.299 L52.3562 781.236 L56.9077 781.236 L56.9077 793.299 L76.2594 793.299 Q80.6199 793.299 81.8613 792.121 Q83.1026 790.912 83.1026 787.252 L83.1026 781.236 L88.0042 781.236 L88.0042 787.252 Q88.0042 794.031 85.4897 796.609 Q82.9434 799.187 76.2594 799.187 L56.9077 799.187 L56.9077 803.484 L52.3562 803.484 L52.3562 799.187 L42.2347 799.187 L42.2347 793.299 Z\" fill=\"#000000\" fill-rule=\"evenodd\" fill-opacity=\"1\" /><path clip-path=\"url(#clip430)\" d=\"M 0 0 M52.3562 775.093 L52.3562 769.237 L88.0042 769.237 L88.0042 775.093 L52.3562 775.093 M38.479 775.093 L38.479 769.237 L45.895 769.237 L45.895 775.093 L38.479 775.093 Z\" fill=\"#000000\" fill-rule=\"evenodd\" fill-opacity=\"1\" /><path clip-path=\"url(#clip430)\" d=\"M 0 0 M56.4621 749.28 Q56.4621 753.991 60.1542 756.728 Q63.8145 759.465 70.212 759.465 Q76.6095 759.465 80.3017 756.76 Q83.9619 754.023 83.9619 749.28 Q83.9619 744.601 80.2698 741.864 Q76.5777 739.127 70.212 739.127 Q63.8781 739.127 60.186 741.864 Q56.4621 744.601 56.4621 749.28 M51.4968 749.28 Q51.4968 741.641 56.4621 737.281 Q61.4273 732.92 70.212 732.92 Q78.9649 732.92 83.9619 737.281 Q88.9272 741.641 88.9272 749.28 Q88.9272 756.951 83.9619 761.311 Q78.9649 765.64 70.212 765.64 Q61.4273 765.64 56.4621 761.311 Q51.4968 756.951 51.4968 749.28 Z\" fill=\"#000000\" fill-rule=\"evenodd\" fill-opacity=\"1\" /><path clip-path=\"url(#clip430)\" d=\"M 0 0 M66.4881 697.145 L88.0042 697.145 L88.0042 703.001 L66.679 703.001 Q61.6183 703.001 59.1038 704.975 Q56.5894 706.948 56.5894 710.895 Q56.5894 715.637 59.6131 718.375 Q62.6368 721.112 67.8567 721.112 L88.0042 721.112 L88.0042 727 L52.3562 727 L52.3562 721.112 L57.8944 721.112 Q54.6797 719.011 53.0883 716.179 Q51.4968 713.314 51.4968 709.59 Q51.4968 703.447 55.3163 700.296 Q59.1038 697.145 66.4881 697.145 Z\" fill=\"#000000\" fill-rule=\"evenodd\" fill-opacity=\"1\" /><path clip-path=\"url(#clip430)\" d=\"M 0 0 M46.818 654.145 L70.4666 662.866 L70.4666 645.392 L46.818 654.145 M40.4842 657.773 L40.4842 650.484 L88.0042 632.374 L88.0042 639.058 L75.8138 643.387 L75.8138 664.807 L88.0042 669.136 L88.0042 675.915 L40.4842 657.773 Z\" fill=\"#000000\" fill-rule=\"evenodd\" fill-opacity=\"1\" /><path clip-path=\"url(#clip430)\" d=\"M 0 0 M53.7248 601.723 L59.1993 601.723 Q57.8307 604.206 57.1623 606.72 Q56.4621 609.203 56.4621 611.749 Q56.4621 617.446 60.0905 620.597 Q63.6872 623.748 70.212 623.748 Q76.7369 623.748 80.3653 620.597 Q83.9619 617.446 83.9619 611.749 Q83.9619 609.203 83.2935 606.72 Q82.5933 604.206 81.2247 601.723 L86.6355 601.723 Q87.7814 604.174 88.3543 606.816 Q88.9272 609.426 88.9272 612.386 Q88.9272 620.438 83.8664 625.181 Q78.8057 629.923 70.212 629.923 Q61.491 629.923 56.4939 625.149 Q51.4968 620.343 51.4968 612.004 Q51.4968 609.298 52.0697 606.72 Q52.6108 604.142 53.7248 601.723 Z\" fill=\"#000000\" fill-rule=\"evenodd\" fill-opacity=\"1\" /><path clip-path=\"url(#clip430)\" d=\"M 0 0 M53.7248 569.926 L59.1993 569.926 Q57.8307 572.409 57.1623 574.923 Q56.4621 577.406 56.4621 579.952 Q56.4621 585.65 60.0905 588.801 Q63.6872 591.952 70.212 591.952 Q76.7369 591.952 80.3653 588.801 Q83.9619 585.65 83.9619 579.952 Q83.9619 577.406 83.2935 574.923 Q82.5933 572.409 81.2247 569.926 L86.6355 569.926 Q87.7814 572.377 88.3543 575.019 Q88.9272 577.629 88.9272 580.589 Q88.9272 588.642 83.8664 593.384 Q78.8057 598.126 70.212 598.126 Q61.491 598.126 56.4939 593.352 Q51.4968 588.546 51.4968 580.207 Q51.4968 577.502 52.0697 574.923 Q52.6108 572.345 53.7248 569.926 Z\" fill=\"#000000\" fill-rule=\"evenodd\" fill-opacity=\"1\" /><path clip-path=\"url(#clip430)\" d=\"M 0 0 M73.9359 564.388 L52.3562 564.388 L52.3562 558.532 L73.7131 558.532 Q78.7739 558.532 81.3202 556.558 Q83.8346 554.585 83.8346 550.638 Q83.8346 545.896 80.8109 543.159 Q77.7872 540.39 72.5673 540.39 L52.3562 540.39 L52.3562 534.533 L88.0042 534.533 L88.0042 540.39 L82.5296 540.39 Q85.7762 542.522 87.3676 545.355 Q88.9272 548.156 88.9272 551.88 Q88.9272 558.023 85.1078 561.205 Q81.2883 564.388 73.9359 564.388 M51.4968 549.652 L51.4968 549.652 Z\" fill=\"#000000\" fill-rule=\"evenodd\" fill-opacity=\"1\" /><path clip-path=\"url(#clip430)\" d=\"M 0 0 M57.8307 507.733 Q57.2578 508.72 57.0032 509.898 Q56.7167 511.044 56.7167 512.444 Q56.7167 517.409 59.9632 520.083 Q63.1779 522.725 69.2253 522.725 L88.0042 522.725 L88.0042 528.613 L52.3562 528.613 L52.3562 522.725 L57.8944 522.725 Q54.6479 520.879 53.0883 517.919 Q51.4968 514.959 51.4968 510.725 Q51.4968 510.121 51.5923 509.389 Q51.656 508.656 51.8151 507.765 L57.8307 507.733 Z\" fill=\"#000000\" fill-rule=\"evenodd\" fill-opacity=\"1\" /><path clip-path=\"url(#clip430)\" d=\"M 0 0 M70.0847 485.39 Q70.0847 492.488 71.7079 495.225 Q73.3312 497.962 77.2461 497.962 Q80.3653 497.962 82.2114 495.925 Q84.0256 493.856 84.0256 490.323 Q84.0256 485.453 80.5881 482.525 Q77.1188 479.565 71.3897 479.565 L70.0847 479.565 L70.0847 485.39 M67.6657 473.709 L88.0042 473.709 L88.0042 479.565 L82.5933 479.565 Q85.8398 481.57 87.3994 484.562 Q88.9272 487.554 88.9272 491.883 Q88.9272 497.357 85.8716 500.604 Q82.7843 503.819 77.6281 503.819 Q71.6125 503.819 68.5569 499.808 Q65.5014 495.766 65.5014 487.777 L65.5014 479.565 L64.9285 479.565 Q60.8862 479.565 58.6901 482.239 Q56.4621 484.881 56.4621 489.687 Q56.4621 492.742 57.1941 495.639 Q57.9262 498.535 59.3903 501.209 L53.9795 501.209 Q52.7381 497.994 52.1334 494.97 Q51.4968 491.946 51.4968 489.082 Q51.4968 481.348 55.5072 477.528 Q59.5176 473.709 67.6657 473.709 Z\" fill=\"#000000\" fill-rule=\"evenodd\" fill-opacity=\"1\" /><path clip-path=\"url(#clip430)\" d=\"M 0 0 M53.7248 441.912 L59.1993 441.912 Q57.8307 444.395 57.1623 446.909 Q56.4621 449.392 56.4621 451.938 Q56.4621 457.635 60.0905 460.786 Q63.6872 463.937 70.212 463.937 Q76.7369 463.937 80.3653 460.786 Q83.9619 457.635 83.9619 451.938 Q83.9619 449.392 83.2935 446.909 Q82.5933 444.395 81.2247 441.912 L86.6355 441.912 Q87.7814 444.363 88.3543 447.005 Q88.9272 449.615 88.9272 452.575 Q88.9272 460.627 83.8664 465.37 Q78.8057 470.112 70.212 470.112 Q61.491 470.112 56.4939 465.338 Q51.4968 460.532 51.4968 452.193 Q51.4968 449.487 52.0697 446.909 Q52.6108 444.331 53.7248 441.912 Z\" fill=\"#000000\" fill-rule=\"evenodd\" fill-opacity=\"1\" /><path clip-path=\"url(#clip430)\" d=\"M 0 0 M91.3143 420.937 Q97.68 423.42 99.6216 425.775 Q101.563 428.13 101.563 432.077 L101.563 436.756 L96.6615 436.756 L96.6615 433.318 Q96.6615 430.899 95.5157 429.563 Q94.3699 428.226 90.1048 426.603 L87.4312 425.552 L52.3562 439.97 L52.3562 433.764 L80.238 422.624 L52.3562 411.484 L52.3562 405.277 L91.3143 420.937 Z\" fill=\"#000000\" fill-rule=\"evenodd\" fill-opacity=\"1\" /><polyline clip-path=\"url(#clip432)\" style=\"stroke:#009af9; stroke-width:4; stroke-opacity:1; fill:none\" points=\"\n",
       "  271.639,522.803 289.057,86.1857 306.475,86.1857 323.893,86.1857 341.311,86.1857 358.729,86.1857 376.148,86.1857 393.566,86.1857 410.984,86.1857 428.402,165.571 \n",
       "  445.82,86.1857 463.238,153.358 480.656,273.308 498.074,260.833 515.492,249.917 532.911,240.286 550.329,280.238 567.747,270.025 585.165,260.833 602.583,252.516 \n",
       "  620.001,244.956 637.419,238.053 654.837,268.11 672.256,295.762 689.674,287.702 707.092,247.896 724.51,242.121 741.928,236.743 759.346,260.833 776.764,283.368 \n",
       "  794.182,277.206 811.601,271.417 829.019,240.286 846.437,310.732 863.855,231.725 881.273,274.993 898.691,270.025 916.109,310.092 933.527,282.664 950.946,256.573 \n",
       "  968.364,273.308 985.782,329.879 1003.2,284.648 1020.62,280.238 1038.04,313.986 1055.45,290.56 1072.87,486.419 1090.29,264.397 1107.71,295.762 1125.13,274.531 \n",
       "  1142.54,237.323 1159.96,283.899 1177.38,280.238 1194.8,229.079 1212.22,226.527 1229.64,239.385 1247.05,281.911 1264.47,322.995 1281.89,217.171 1299.31,257.97 \n",
       "  1316.73,227.03 1334.14,210.934 1351.56,195.34 1368.98,233.964 1386.4,258.187 1403.82,242.586 1421.23,201.761 1438.65,212.742 1456.07,248.358 1473.49,209.177 \n",
       "  1490.91,219.597 1508.33,217.769 1525.74,215.991 1543.16,284.119 1560.58,338.964 1578,222.274 1595.42,209.334 1612.83,263.043 1630.25,217.171 1647.67,226.335 \n",
       "  1665.09,331.118 1682.51,412.334 1699.92,210.934 1717.34,774.501 1734.76,258.802 1752.18,206.632 1769.6,344.187 1787.02,252.983 1804.43,299.643 1821.85,191.742 \n",
       "  1839.27,190.594 1856.69,180.082 1874.11,216.242 1891.52,270.025 1908.94,259.014 1926.36,320.249 1943.78,398.055 1961.2,430.187 1978.61,348.156 1996.03,250.458 \n",
       "  2013.45,274.531 2030.87,281.18 2048.29,254.116 2065.71,227.567 2083.12,242.709 2100.54,290.213 2117.96,272.152 2135.38,262.435 2152.8,276.71 2170.21,243.525 \n",
       "  2187.63,366.868 2205.05,325.746 2222.47,224.065 2239.89,222.866 2257.3,266.855 2274.72,302.629 2292.14,271.193 \n",
       "  \"/>\n",
       "<polyline clip-path=\"url(#clip432)\" style=\"stroke:#e26f46; stroke-width:4; stroke-opacity:1; fill:none\" points=\"\n",
       "  271.639,1384.24 289.057,1295.73 306.475,1295.73 323.893,1266.23 341.311,1148.23 358.729,1148.23 376.148,1089.23 393.566,1089.23 410.984,1177.73 428.402,1059.73 \n",
       "  445.82,1089.23 463.238,1059.73 480.656,1148.23 498.074,1089.23 515.492,1030.22 532.911,1266.23 550.329,971.222 567.747,1000.72 585.165,971.222 602.583,971.222 \n",
       "  620.001,1030.22 637.419,1059.73 654.837,971.222 672.256,941.72 689.674,794.214 707.092,941.72 724.51,971.222 741.928,853.217 759.346,705.711 776.764,941.72 \n",
       "  794.182,882.718 811.601,882.718 829.019,1000.72 846.437,823.716 863.855,941.72 881.273,941.72 898.691,882.718 916.109,823.716 933.527,853.217 950.946,823.716 \n",
       "  968.364,794.214 985.782,882.718 1003.2,794.214 1020.62,794.214 1038.04,853.217 1055.45,764.713 1072.87,1059.73 1090.29,882.718 1107.71,705.711 1125.13,646.708 \n",
       "  1142.54,735.212 1159.96,735.212 1177.38,617.207 1194.8,705.711 1212.22,823.716 1229.64,764.713 1247.05,676.21 1264.47,882.718 1281.89,646.708 1299.31,646.708 \n",
       "  1316.73,735.212 1334.14,705.711 1351.56,676.21 1368.98,676.21 1386.4,558.205 1403.82,676.21 1421.23,587.706 1438.65,676.21 1456.07,735.212 1473.49,587.706 \n",
       "  1490.91,676.21 1508.33,794.214 1525.74,823.716 1543.16,646.708 1560.58,705.711 1578,794.214 1595.42,764.713 1612.83,764.713 1630.25,764.713 1647.67,705.711 \n",
       "  1665.09,764.713 1682.51,676.21 1699.92,764.713 1717.34,853.217 1734.76,469.701 1752.18,764.713 1769.6,617.207 1787.02,587.706 1804.43,646.708 1821.85,676.21 \n",
       "  1839.27,705.711 1856.69,705.711 1874.11,882.718 1891.52,558.205 1908.94,676.21 1926.36,823.716 1943.78,882.718 1961.2,705.711 1978.61,705.711 1996.03,735.212 \n",
       "  2013.45,558.205 2030.87,1000.72 2048.29,794.214 2065.71,646.708 2083.12,794.214 2100.54,646.708 2117.96,794.214 2135.38,646.708 2152.8,676.21 2170.21,735.212 \n",
       "  2187.63,735.212 2205.05,676.21 2222.47,764.713 2239.89,646.708 2257.3,617.207 2274.72,735.212 2292.14,617.207 \n",
       "  \"/>\n",
       "<path clip-path=\"url(#clip430)\" d=\"\n",
       "M1844.07 1377.32 L2281.36 1377.32 L2281.36 1195.88 L1844.07 1195.88  Z\n",
       "  \" fill=\"#ffffff\" fill-rule=\"evenodd\" fill-opacity=\"1\"/>\n",
       "<polyline clip-path=\"url(#clip430)\" style=\"stroke:#000000; stroke-width:4; stroke-opacity:1; fill:none\" points=\"\n",
       "  1844.07,1377.32 2281.36,1377.32 2281.36,1195.88 1844.07,1195.88 1844.07,1377.32 \n",
       "  \"/>\n",
       "<polyline clip-path=\"url(#clip430)\" style=\"stroke:#009af9; stroke-width:4; stroke-opacity:1; fill:none\" points=\"\n",
       "  1867.86,1256.36 2010.65,1256.36 \n",
       "  \"/>\n",
       "<path clip-path=\"url(#clip430)\" d=\"M 0 0 M2034.44 1239.08 L2063.68 1239.08 L2063.68 1243.01 L2051.41 1243.01 L2051.41 1273.64 L2046.71 1273.64 L2046.71 1243.01 L2034.44 1243.01 L2034.44 1239.08 Z\" fill=\"#000000\" fill-rule=\"evenodd\" fill-opacity=\"1\" /><path clip-path=\"url(#clip430)\" d=\"M 0 0 M2076.2 1251.69 Q2075.48 1251.27 2074.63 1251.09 Q2073.79 1250.88 2072.78 1250.88 Q2069.17 1250.88 2067.22 1253.24 Q2065.3 1255.58 2065.3 1259.98 L2065.3 1273.64 L2061.02 1273.64 L2061.02 1247.71 L2065.3 1247.71 L2065.3 1251.74 Q2066.64 1249.38 2068.79 1248.24 Q2070.95 1247.08 2074.03 1247.08 Q2074.47 1247.08 2075 1247.15 Q2075.53 1247.2 2076.18 1247.32 L2076.2 1251.69 Z\" fill=\"#000000\" fill-rule=\"evenodd\" fill-opacity=\"1\" /><path clip-path=\"url(#clip430)\" d=\"M 0 0 M2092.45 1260.6 Q2087.29 1260.6 2085.3 1261.78 Q2083.31 1262.96 2083.31 1265.81 Q2083.31 1268.08 2084.79 1269.42 Q2086.29 1270.74 2088.86 1270.74 Q2092.41 1270.74 2094.54 1268.24 Q2096.69 1265.72 2096.69 1261.55 L2096.69 1260.6 L2092.45 1260.6 M2100.95 1258.84 L2100.95 1273.64 L2096.69 1273.64 L2096.69 1269.7 Q2095.23 1272.06 2093.05 1273.2 Q2090.88 1274.31 2087.73 1274.31 Q2083.75 1274.31 2081.39 1272.08 Q2079.05 1269.84 2079.05 1266.09 Q2079.05 1261.71 2081.97 1259.49 Q2084.91 1257.27 2090.72 1257.27 L2096.69 1257.27 L2096.69 1256.85 Q2096.69 1253.91 2094.74 1252.32 Q2092.82 1250.7 2089.33 1250.7 Q2087.1 1250.7 2085 1251.23 Q2082.89 1251.76 2080.95 1252.83 L2080.95 1248.89 Q2083.29 1247.99 2085.48 1247.55 Q2087.68 1247.08 2089.77 1247.08 Q2095.39 1247.08 2098.17 1250 Q2100.95 1252.92 2100.95 1258.84 Z\" fill=\"#000000\" fill-rule=\"evenodd\" fill-opacity=\"1\" /><path clip-path=\"url(#clip430)\" d=\"M 0 0 M2105.41 1247.71 L2109.67 1247.71 L2109.67 1273.64 L2105.41 1273.64 L2105.41 1247.71 M2105.41 1237.62 L2109.67 1237.62 L2109.67 1243.01 L2105.41 1243.01 L2105.41 1237.62 Z\" fill=\"#000000\" fill-rule=\"evenodd\" fill-opacity=\"1\" /><path clip-path=\"url(#clip430)\" d=\"M 0 0 M2135.69 1257.99 L2135.69 1273.64 L2131.43 1273.64 L2131.43 1258.13 Q2131.43 1254.45 2130 1252.62 Q2128.56 1250.79 2125.69 1250.79 Q2122.24 1250.79 2120.25 1252.99 Q2118.26 1255.19 2118.26 1258.98 L2118.26 1273.64 L2113.98 1273.64 L2113.98 1247.71 L2118.26 1247.71 L2118.26 1251.74 Q2119.79 1249.4 2121.85 1248.24 Q2123.93 1247.08 2126.64 1247.08 Q2131.11 1247.08 2133.4 1249.86 Q2135.69 1252.62 2135.69 1257.99 Z\" fill=\"#000000\" fill-rule=\"evenodd\" fill-opacity=\"1\" /><path clip-path=\"url(#clip430)\" d=\"M 0 0 M2140.16 1247.71 L2144.42 1247.71 L2144.42 1273.64 L2140.16 1273.64 L2140.16 1247.71 M2140.16 1237.62 L2144.42 1237.62 L2144.42 1243.01 L2140.16 1243.01 L2140.16 1237.62 Z\" fill=\"#000000\" fill-rule=\"evenodd\" fill-opacity=\"1\" /><path clip-path=\"url(#clip430)\" d=\"M 0 0 M2170.44 1257.99 L2170.44 1273.64 L2166.18 1273.64 L2166.18 1258.13 Q2166.18 1254.45 2164.74 1252.62 Q2163.31 1250.79 2160.44 1250.79 Q2156.99 1250.79 2155 1252.99 Q2153.01 1255.19 2153.01 1258.98 L2153.01 1273.64 L2148.72 1273.64 L2148.72 1247.71 L2153.01 1247.71 L2153.01 1251.74 Q2154.54 1249.4 2156.6 1248.24 Q2158.68 1247.08 2161.39 1247.08 Q2165.85 1247.08 2168.15 1249.86 Q2170.44 1252.62 2170.44 1257.99 Z\" fill=\"#000000\" fill-rule=\"evenodd\" fill-opacity=\"1\" /><path clip-path=\"url(#clip430)\" d=\"M 0 0 M2191.97 1260.37 Q2191.97 1255.74 2190.04 1253.2 Q2188.15 1250.65 2184.7 1250.65 Q2181.27 1250.65 2179.35 1253.2 Q2177.45 1255.74 2177.45 1260.37 Q2177.45 1264.98 2179.35 1267.52 Q2181.27 1270.07 2184.7 1270.07 Q2188.15 1270.07 2190.04 1267.52 Q2191.97 1264.98 2191.97 1260.37 M2196.22 1270.42 Q2196.22 1277.04 2193.28 1280.26 Q2190.35 1283.5 2184.28 1283.5 Q2182.03 1283.5 2180.04 1283.15 Q2178.05 1282.83 2176.18 1282.13 L2176.18 1277.99 Q2178.05 1279.01 2179.88 1279.49 Q2181.71 1279.98 2183.61 1279.98 Q2187.8 1279.98 2189.88 1277.78 Q2191.97 1275.6 2191.97 1271.18 L2191.97 1269.08 Q2190.65 1271.37 2188.59 1272.5 Q2186.53 1273.64 2183.66 1273.64 Q2178.89 1273.64 2175.97 1270 Q2173.05 1266.37 2173.05 1260.37 Q2173.05 1254.35 2175.97 1250.72 Q2178.89 1247.08 2183.66 1247.08 Q2186.53 1247.08 2188.59 1248.22 Q2190.65 1249.35 2191.97 1251.64 L2191.97 1247.71 L2196.22 1247.71 L2196.22 1270.42 Z\" fill=\"#000000\" fill-rule=\"evenodd\" fill-opacity=\"1\" /><polyline clip-path=\"url(#clip430)\" style=\"stroke:#e26f46; stroke-width:4; stroke-opacity:1; fill:none\" points=\"\n",
       "  1867.86,1316.84 2010.65,1316.84 \n",
       "  \"/>\n",
       "<path clip-path=\"url(#clip430)\" d=\"M 0 0 M2047.64 1334.12 L2034.44 1299.56 L2039.33 1299.56 L2050.28 1328.65 L2061.25 1299.56 L2066.11 1299.56 L2052.94 1334.12 L2047.64 1334.12 Z\" fill=\"#000000\" fill-rule=\"evenodd\" fill-opacity=\"1\" /><path clip-path=\"url(#clip430)\" d=\"M 0 0 M2078.68 1321.08 Q2073.52 1321.08 2071.53 1322.26 Q2069.54 1323.44 2069.54 1326.29 Q2069.54 1328.56 2071.02 1329.9 Q2072.52 1331.22 2075.09 1331.22 Q2078.63 1331.22 2080.76 1328.72 Q2082.92 1326.2 2082.92 1322.03 L2082.92 1321.08 L2078.68 1321.08 M2087.17 1319.32 L2087.17 1334.12 L2082.92 1334.12 L2082.92 1330.18 Q2081.46 1332.54 2079.28 1333.68 Q2077.1 1334.79 2073.96 1334.79 Q2069.98 1334.79 2067.61 1332.56 Q2065.28 1330.32 2065.28 1326.57 Q2065.28 1322.19 2068.19 1319.97 Q2071.13 1317.75 2076.94 1317.75 L2082.92 1317.75 L2082.92 1317.33 Q2082.92 1314.39 2080.97 1312.8 Q2079.05 1311.18 2075.55 1311.18 Q2073.33 1311.18 2071.23 1311.71 Q2069.12 1312.24 2067.17 1313.31 L2067.17 1309.37 Q2069.51 1308.47 2071.71 1308.03 Q2073.91 1307.56 2075.99 1307.56 Q2081.62 1307.56 2084.4 1310.48 Q2087.17 1313.4 2087.17 1319.32 Z\" fill=\"#000000\" fill-rule=\"evenodd\" fill-opacity=\"1\" /><path clip-path=\"url(#clip430)\" d=\"M 0 0 M2091.64 1298.1 L2095.9 1298.1 L2095.9 1334.12 L2091.64 1334.12 L2091.64 1298.1 Z\" fill=\"#000000\" fill-rule=\"evenodd\" fill-opacity=\"1\" /><path clip-path=\"url(#clip430)\" d=\"M 0 0 M2100.37 1308.19 L2104.63 1308.19 L2104.63 1334.12 L2100.37 1334.12 L2100.37 1308.19 M2100.37 1298.1 L2104.63 1298.1 L2104.63 1303.49 L2100.37 1303.49 L2100.37 1298.1 Z\" fill=\"#000000\" fill-rule=\"evenodd\" fill-opacity=\"1\" /><path clip-path=\"url(#clip430)\" d=\"M 0 0 M2126.16 1312.12 L2126.16 1298.1 L2130.41 1298.1 L2130.41 1334.12 L2126.16 1334.12 L2126.16 1330.23 Q2124.81 1332.54 2122.75 1333.68 Q2120.72 1334.79 2117.85 1334.79 Q2113.15 1334.79 2110.18 1331.04 Q2107.24 1327.29 2107.24 1321.18 Q2107.24 1315.06 2110.18 1311.31 Q2113.15 1307.56 2117.85 1307.56 Q2120.72 1307.56 2122.75 1308.7 Q2124.81 1309.81 2126.16 1312.12 M2111.64 1321.18 Q2111.64 1325.87 2113.56 1328.56 Q2115.51 1331.22 2118.89 1331.22 Q2122.27 1331.22 2124.21 1328.56 Q2126.16 1325.87 2126.16 1321.18 Q2126.16 1316.48 2124.21 1313.81 Q2122.27 1311.13 2118.89 1311.13 Q2115.51 1311.13 2113.56 1313.81 Q2111.64 1316.48 2111.64 1321.18 Z\" fill=\"#000000\" fill-rule=\"evenodd\" fill-opacity=\"1\" /><path clip-path=\"url(#clip430)\" d=\"M 0 0 M2146.66 1321.08 Q2141.5 1321.08 2139.51 1322.26 Q2137.52 1323.44 2137.52 1326.29 Q2137.52 1328.56 2139 1329.9 Q2140.51 1331.22 2143.08 1331.22 Q2146.62 1331.22 2148.75 1328.72 Q2150.9 1326.2 2150.9 1322.03 L2150.9 1321.08 L2146.66 1321.08 M2155.16 1319.32 L2155.16 1334.12 L2150.9 1334.12 L2150.9 1330.18 Q2149.44 1332.54 2147.27 1333.68 Q2145.09 1334.79 2141.94 1334.79 Q2137.96 1334.79 2135.6 1332.56 Q2133.26 1330.32 2133.26 1326.57 Q2133.26 1322.19 2136.18 1319.97 Q2139.12 1317.75 2144.93 1317.75 L2150.9 1317.75 L2150.9 1317.33 Q2150.9 1314.39 2148.96 1312.8 Q2147.04 1311.18 2143.54 1311.18 Q2141.32 1311.18 2139.21 1311.71 Q2137.1 1312.24 2135.16 1313.31 L2135.16 1309.37 Q2137.5 1308.47 2139.7 1308.03 Q2141.9 1307.56 2143.98 1307.56 Q2149.6 1307.56 2152.38 1310.48 Q2155.16 1313.4 2155.16 1319.32 Z\" fill=\"#000000\" fill-rule=\"evenodd\" fill-opacity=\"1\" /><path clip-path=\"url(#clip430)\" d=\"M 0 0 M2163.84 1300.83 L2163.84 1308.19 L2172.61 1308.19 L2172.61 1311.5 L2163.84 1311.5 L2163.84 1325.57 Q2163.84 1328.74 2164.7 1329.65 Q2165.58 1330.55 2168.24 1330.55 L2172.61 1330.55 L2172.61 1334.12 L2168.24 1334.12 Q2163.31 1334.12 2161.43 1332.29 Q2159.56 1330.43 2159.56 1325.57 L2159.56 1311.5 L2156.43 1311.5 L2156.43 1308.19 L2159.56 1308.19 L2159.56 1300.83 L2163.84 1300.83 Z\" fill=\"#000000\" fill-rule=\"evenodd\" fill-opacity=\"1\" /><path clip-path=\"url(#clip430)\" d=\"M 0 0 M2177.08 1308.19 L2181.34 1308.19 L2181.34 1334.12 L2177.08 1334.12 L2177.08 1308.19 M2177.08 1298.1 L2181.34 1298.1 L2181.34 1303.49 L2177.08 1303.49 L2177.08 1298.1 Z\" fill=\"#000000\" fill-rule=\"evenodd\" fill-opacity=\"1\" /><path clip-path=\"url(#clip430)\" d=\"M 0 0 M2195.85 1311.18 Q2192.43 1311.18 2190.44 1313.86 Q2188.45 1316.52 2188.45 1321.18 Q2188.45 1325.83 2190.41 1328.51 Q2192.41 1331.18 2195.85 1331.18 Q2199.26 1331.18 2201.25 1328.49 Q2203.24 1325.81 2203.24 1321.18 Q2203.24 1316.57 2201.25 1313.88 Q2199.26 1311.18 2195.85 1311.18 M2195.85 1307.56 Q2201.41 1307.56 2204.58 1311.18 Q2207.75 1314.79 2207.75 1321.18 Q2207.75 1327.54 2204.58 1331.18 Q2201.41 1334.79 2195.85 1334.79 Q2190.28 1334.79 2187.1 1331.18 Q2183.96 1327.54 2183.96 1321.18 Q2183.96 1314.79 2187.1 1311.18 Q2190.28 1307.56 2195.85 1307.56 Z\" fill=\"#000000\" fill-rule=\"evenodd\" fill-opacity=\"1\" /><path clip-path=\"url(#clip430)\" d=\"M 0 0 M2233.77 1318.47 L2233.77 1334.12 L2229.51 1334.12 L2229.51 1318.61 Q2229.51 1314.93 2228.08 1313.1 Q2226.64 1311.27 2223.77 1311.27 Q2220.32 1311.27 2218.33 1313.47 Q2216.34 1315.67 2216.34 1319.46 L2216.34 1334.12 L2212.06 1334.12 L2212.06 1308.19 L2216.34 1308.19 L2216.34 1312.22 Q2217.87 1309.88 2219.93 1308.72 Q2222.01 1307.56 2224.72 1307.56 Q2229.19 1307.56 2231.48 1310.34 Q2233.77 1313.1 2233.77 1318.47 Z\" fill=\"#000000\" fill-rule=\"evenodd\" fill-opacity=\"1\" /></svg>\n"
      ]
     },
     "execution_count": 117,
     "metadata": {},
     "output_type": "execute_result"
    }
   ],
   "source": [
    "plot(data_schedule, training_losses, label=\"Training\", legend=:bottomright)\n",
    "plot!(data_schedule, valid_losses, label=\"Validation\")\n",
    "xlabel!(\"Number of Training Samples\")\n",
    "ylabel!(\"Classification Accuracy\")"
   ]
  },
  {
   "cell_type": "code",
   "execution_count": 118,
   "metadata": {},
   "outputs": [],
   "source": [
    "png(\"Figures/NN_LC\")"
   ]
  },
  {
   "cell_type": "markdown",
   "metadata": {},
   "source": [
    "#### Learning Curve"
   ]
  },
  {
   "cell_type": "code",
   "execution_count": 119,
   "metadata": {},
   "outputs": [
    {
     "name": "stderr",
     "output_type": "stream",
     "text": [
      "┌ Warning: The scitype of `X`, in `machine(model, X, ...)` is incompatible with `model=\u001b[34mNeuralNetworkClassifier{CustomNN,…} @717\u001b[39m`:\n",
      "│ scitype(X) = Table{Union{AbstractArray{Continuous,1}, AbstractArray{Count,1}}}\n",
      "│ input_scitype(model) = Table{var\"#s44\"} where var\"#s44\"<:(AbstractArray{var\"#s13\",1} where var\"#s13\"<:Continuous).\n",
      "└ @ MLJBase /home/andrew/.julia/packages/MLJBase/uKzAz/src/machines.jl:77\n",
      "┌ Info: Training \u001b[34mMachine{NeuralNetworkClassifier{CustomNN,…}} @121\u001b[39m.\n",
      "└ @ MLJBase /home/andrew/.julia/packages/MLJBase/uKzAz/src/machines.jl:319\n",
      "\u001b[33mOptimising neural net:100%[=========================] Time: 0:00:18\u001b[39m\n"
     ]
    },
    {
     "data": {
      "text/plain": [
       "\u001b[34mMachine{NeuralNetworkClassifier{CustomNN,…}} @121\u001b[39m trained 1 time.\n",
       "  args: \n",
       "    1:\t\u001b[34mSource @810\u001b[39m ⏎ `Table{Union{AbstractArray{Continuous,1}, AbstractArray{Count,1}}}`\n",
       "    2:\t\u001b[34mSource @810\u001b[39m ⏎ `AbstractArray{Multiclass{2},1}`\n"
      ]
     },
     "execution_count": 119,
     "metadata": {},
     "output_type": "execute_result"
    }
   ],
   "source": [
    "Net = machine(lc_model, X_stand, y)\n",
    "Net.model.epochs = max_epochs\n",
    "fit!(Net, rows=train, verbosity=1, force=true)"
   ]
  },
  {
   "cell_type": "code",
   "execution_count": 120,
   "metadata": {},
   "outputs": [
    {
     "name": "stderr",
     "output_type": "stream",
     "text": [
      "\u001b[33mEvaluating over 6 folds: 100%[=========================] Time: 0:02:17\u001b[39m\n"
     ]
    },
    {
     "data": {
      "text/plain": [
       "┌\u001b[0m───────────────\u001b[0m┬\u001b[0m───────────────\u001b[0m┬\u001b[0m───────────────────────────────────────────────────\u001b[0m┐\u001b[0m\n",
       "│\u001b[0m\u001b[22m _.measure     \u001b[0m│\u001b[0m\u001b[22m _.measurement \u001b[0m│\u001b[0m\u001b[22m _.per_fold                                        \u001b[0m│\u001b[0m\n",
       "├\u001b[0m───────────────\u001b[0m┼\u001b[0m───────────────\u001b[0m┼\u001b[0m───────────────────────────────────────────────────\u001b[0m┤\u001b[0m\n",
       "│\u001b[0m cross_entropy \u001b[0m│\u001b[0m 0.439         \u001b[0m│\u001b[0m Float32[0.435, 0.456, 0.386, 0.468, 0.442, 0.446] \u001b[0m│\u001b[0m\n",
       "│\u001b[0m acc           \u001b[0m│\u001b[0m 0.871         \u001b[0m│\u001b[0m [0.881, 0.852, 0.926, 0.835, 0.869, 0.863]        \u001b[0m│\u001b[0m\n",
       "└\u001b[0m───────────────\u001b[0m┴\u001b[0m───────────────\u001b[0m┴\u001b[0m───────────────────────────────────────────────────\u001b[0m┘\u001b[0m\n",
       "_.per_observation = [[[0.313, 0.313, ..., 0.313], [0.313, 0.313, ..., 0.313], [0.313, 0.313, ..., 0.512], [0.313, 0.313, ..., 0.313], [1.31, 1.23, ..., 0.313], [0.47, 1.31, ..., 0.313]], missing]\n",
       "_.fitted_params_per_fold = [ … ]\n",
       "_.report_per_fold = [ … ]\n"
      ]
     },
     "execution_count": 120,
     "metadata": {},
     "output_type": "execute_result"
    }
   ],
   "source": [
    "nn_acc = evaluate!(Net, resampling=CV(shuffle=true), measure=[cross_entropy, acc], verbosity=1)"
   ]
  },
  {
   "cell_type": "code",
   "execution_count": 121,
   "metadata": {
    "scrolled": true
   },
   "outputs": [
    {
     "data": {
      "text/plain": [
       "MLJBase.NumericRange(Int64, :epochs, ... )"
      ]
     },
     "execution_count": 121,
     "metadata": {},
     "output_type": "execute_result"
    }
   ],
   "source": [
    "r = range(nn, :epochs, lower=1, upper=max_epochs, scale=:log10)"
   ]
  },
  {
   "cell_type": "code",
   "execution_count": null,
   "metadata": {
    "scrolled": true
   },
   "outputs": [
    {
     "name": "stderr",
     "output_type": "stream",
     "text": [
      "┌ Info: Training \u001b[34mMachine{ProbabilisticTunedModel{Grid,…}} @595\u001b[39m.\n",
      "└ @ MLJBase /home/andrew/.julia/packages/MLJBase/uKzAz/src/machines.jl:319\n",
      "┌ Info: Attempting to evaluate 131 models.\n",
      "└ @ MLJTuning /home/andrew/.julia/packages/MLJTuning/Bbgvk/src/tuned_models.jl:494\n",
      "┌ Warning: The scitype of `X`, in `machine(model, X, ...)` is incompatible with `model=\u001b[34mResampler{CV,…} @156\u001b[39m`:\n",
      "│ scitype(X) = Table{Union{AbstractArray{Continuous,1}, AbstractArray{Count,1}}}\n",
      "│ input_scitype(model) = Table{var\"#s44\"} where var\"#s44\"<:(AbstractArray{var\"#s13\",1} where var\"#s13\"<:Continuous).\n",
      "└ @ MLJBase /home/andrew/.julia/packages/MLJBase/uKzAz/src/machines.jl:77\n",
      "\u001b[33mEvaluating over 131 metamodels:   0%[>                        ]  ETA: N/A\u001b[39m┌ Warning: The scitype of `X`, in `machine(model, X, ...)` is incompatible with `model=\u001b[34mNeuralNetworkClassifier{CustomNN,…} @094\u001b[39m`:\n",
      "│ scitype(X) = Table{Union{AbstractArray{Continuous,1}, AbstractArray{Count,1}}}\n",
      "│ input_scitype(model) = Table{var\"#s44\"} where var\"#s44\"<:(AbstractArray{var\"#s13\",1} where var\"#s13\"<:Continuous).\n",
      "└ @ MLJBase /home/andrew/.julia/packages/MLJBase/uKzAz/src/machines.jl:77\n",
      "\u001b[33mEvaluating over 131 metamodels:   1%[>                        ]  ETA: 0:00:10\u001b[39m┌ Warning: The scitype of `X`, in `machine(model, X, ...)` is incompatible with `model=\u001b[34mNeuralNetworkClassifier{CustomNN,…} @746\u001b[39m`:\n",
      "│ scitype(X) = Table{Union{AbstractArray{Continuous,1}, AbstractArray{Count,1}}}\n",
      "│ input_scitype(model) = Table{var\"#s44\"} where var\"#s44\"<:(AbstractArray{var\"#s13\",1} where var\"#s13\"<:Continuous).\n",
      "└ @ MLJBase /home/andrew/.julia/packages/MLJBase/uKzAz/src/machines.jl:77\n",
      "\u001b[33mEvaluating over 131 metamodels:   2%[>                        ]  ETA: 0:00:15\u001b[39m┌ Warning: The scitype of `X`, in `machine(model, X, ...)` is incompatible with `model=\u001b[34mNeuralNetworkClassifier{CustomNN,…} @185\u001b[39m`:\n",
      "│ scitype(X) = Table{Union{AbstractArray{Continuous,1}, AbstractArray{Count,1}}}\n",
      "│ input_scitype(model) = Table{var\"#s44\"} where var\"#s44\"<:(AbstractArray{var\"#s13\",1} where var\"#s13\"<:Continuous).\n",
      "└ @ MLJBase /home/andrew/.julia/packages/MLJBase/uKzAz/src/machines.jl:77\n",
      "\u001b[33mEvaluating over 131 metamodels:   2%[>                        ]  ETA: 0:00:19\u001b[39m┌ Warning: The scitype of `X`, in `machine(model, X, ...)` is incompatible with `model=\u001b[34mNeuralNetworkClassifier{CustomNN,…} @484\u001b[39m`:\n",
      "│ scitype(X) = Table{Union{AbstractArray{Continuous,1}, AbstractArray{Count,1}}}\n",
      "│ input_scitype(model) = Table{var\"#s44\"} where var\"#s44\"<:(AbstractArray{var\"#s13\",1} where var\"#s13\"<:Continuous).\n",
      "└ @ MLJBase /home/andrew/.julia/packages/MLJBase/uKzAz/src/machines.jl:77\n",
      "\u001b[33mEvaluating over 131 metamodels:   3%[>                        ]  ETA: 0:00:23\u001b[39m┌ Warning: The scitype of `X`, in `machine(model, X, ...)` is incompatible with `model=\u001b[34mNeuralNetworkClassifier{CustomNN,…} @951\u001b[39m`:\n",
      "│ scitype(X) = Table{Union{AbstractArray{Continuous,1}, AbstractArray{Count,1}}}\n",
      "│ input_scitype(model) = Table{var\"#s44\"} where var\"#s44\"<:(AbstractArray{var\"#s13\",1} where var\"#s13\"<:Continuous).\n",
      "└ @ MLJBase /home/andrew/.julia/packages/MLJBase/uKzAz/src/machines.jl:77\n",
      "\u001b[33mEvaluating over 131 metamodels:   4%[>                        ]  ETA: 0:00:27\u001b[39m┌ Warning: The scitype of `X`, in `machine(model, X, ...)` is incompatible with `model=\u001b[34mNeuralNetworkClassifier{CustomNN,…} @018\u001b[39m`:\n",
      "│ scitype(X) = Table{Union{AbstractArray{Continuous,1}, AbstractArray{Count,1}}}\n",
      "│ input_scitype(model) = Table{var\"#s44\"} where var\"#s44\"<:(AbstractArray{var\"#s13\",1} where var\"#s13\"<:Continuous).\n",
      "└ @ MLJBase /home/andrew/.julia/packages/MLJBase/uKzAz/src/machines.jl:77\n",
      "\u001b[33mEvaluating over 131 metamodels:   5%[=>                       ]  ETA: 0:00:31\u001b[39m┌ Warning: The scitype of `X`, in `machine(model, X, ...)` is incompatible with `model=\u001b[34mNeuralNetworkClassifier{CustomNN,…} @871\u001b[39m`:\n",
      "│ scitype(X) = Table{Union{AbstractArray{Continuous,1}, AbstractArray{Count,1}}}\n",
      "│ input_scitype(model) = Table{var\"#s44\"} where var\"#s44\"<:(AbstractArray{var\"#s13\",1} where var\"#s13\"<:Continuous).\n",
      "└ @ MLJBase /home/andrew/.julia/packages/MLJBase/uKzAz/src/machines.jl:77\n",
      "\u001b[33mEvaluating over 131 metamodels:   5%[=>                       ]  ETA: 0:00:35\u001b[39m┌ Warning: The scitype of `X`, in `machine(model, X, ...)` is incompatible with `model=\u001b[34mNeuralNetworkClassifier{CustomNN,…} @931\u001b[39m`:\n",
      "│ scitype(X) = Table{Union{AbstractArray{Continuous,1}, AbstractArray{Count,1}}}\n",
      "│ input_scitype(model) = Table{var\"#s44\"} where var\"#s44\"<:(AbstractArray{var\"#s13\",1} where var\"#s13\"<:Continuous).\n",
      "└ @ MLJBase /home/andrew/.julia/packages/MLJBase/uKzAz/src/machines.jl:77\n",
      "\u001b[33mEvaluating over 131 metamodels:   6%[=>                       ]  ETA: 0:00:39\u001b[39m┌ Warning: The scitype of `X`, in `machine(model, X, ...)` is incompatible with `model=\u001b[34mNeuralNetworkClassifier{CustomNN,…} @498\u001b[39m`:\n",
      "│ scitype(X) = Table{Union{AbstractArray{Continuous,1}, AbstractArray{Count,1}}}\n",
      "│ input_scitype(model) = Table{var\"#s44\"} where var\"#s44\"<:(AbstractArray{var\"#s13\",1} where var\"#s13\"<:Continuous).\n",
      "└ @ MLJBase /home/andrew/.julia/packages/MLJBase/uKzAz/src/machines.jl:77\n",
      "\u001b[33mEvaluating over 131 metamodels:   7%[=>                       ]  ETA: 0:00:45\u001b[39m┌ Warning: The scitype of `X`, in `machine(model, X, ...)` is incompatible with `model=\u001b[34mNeuralNetworkClassifier{CustomNN,…} @963\u001b[39m`:\n",
      "│ scitype(X) = Table{Union{AbstractArray{Continuous,1}, AbstractArray{Count,1}}}\n",
      "│ input_scitype(model) = Table{var\"#s44\"} where var\"#s44\"<:(AbstractArray{var\"#s13\",1} where var\"#s13\"<:Continuous).\n",
      "└ @ MLJBase /home/andrew/.julia/packages/MLJBase/uKzAz/src/machines.jl:77\n",
      "\u001b[33mEvaluating over 131 metamodels:   8%[=>                       ]  ETA: 0:00:48\u001b[39m┌ Warning: The scitype of `X`, in `machine(model, X, ...)` is incompatible with `model=\u001b[34mNeuralNetworkClassifier{CustomNN,…} @422\u001b[39m`:\n",
      "│ scitype(X) = Table{Union{AbstractArray{Continuous,1}, AbstractArray{Count,1}}}\n",
      "│ input_scitype(model) = Table{var\"#s44\"} where var\"#s44\"<:(AbstractArray{var\"#s13\",1} where var\"#s13\"<:Continuous).\n",
      "└ @ MLJBase /home/andrew/.julia/packages/MLJBase/uKzAz/src/machines.jl:77\n",
      "\u001b[33mEvaluating over 131 metamodels:   8%[==>                      ]  ETA: 0:00:51\u001b[39m┌ Warning: The scitype of `X`, in `machine(model, X, ...)` is incompatible with `model=\u001b[34mNeuralNetworkClassifier{CustomNN,…} @141\u001b[39m`:\n",
      "│ scitype(X) = Table{Union{AbstractArray{Continuous,1}, AbstractArray{Count,1}}}\n",
      "│ input_scitype(model) = Table{var\"#s44\"} where var\"#s44\"<:(AbstractArray{var\"#s13\",1} where var\"#s13\"<:Continuous).\n",
      "└ @ MLJBase /home/andrew/.julia/packages/MLJBase/uKzAz/src/machines.jl:77\n",
      "\u001b[33mEvaluating over 131 metamodels:   9%[==>                      ]  ETA: 0:00:55\u001b[39m┌ Warning: The scitype of `X`, in `machine(model, X, ...)` is incompatible with `model=\u001b[34mNeuralNetworkClassifier{CustomNN,…} @036\u001b[39m`:\n",
      "│ scitype(X) = Table{Union{AbstractArray{Continuous,1}, AbstractArray{Count,1}}}\n",
      "│ input_scitype(model) = Table{var\"#s44\"} where var\"#s44\"<:(AbstractArray{var\"#s13\",1} where var\"#s13\"<:Continuous).\n",
      "└ @ MLJBase /home/andrew/.julia/packages/MLJBase/uKzAz/src/machines.jl:77\n",
      "\u001b[33mEvaluating over 131 metamodels:  10%[==>                      ]  ETA: 0:00:59\u001b[39m┌ Warning: The scitype of `X`, in `machine(model, X, ...)` is incompatible with `model=\u001b[34mNeuralNetworkClassifier{CustomNN,…} @874\u001b[39m`:\n",
      "│ scitype(X) = Table{Union{AbstractArray{Continuous,1}, AbstractArray{Count,1}}}\n",
      "│ input_scitype(model) = Table{var\"#s44\"} where var\"#s44\"<:(AbstractArray{var\"#s13\",1} where var\"#s13\"<:Continuous).\n",
      "└ @ MLJBase /home/andrew/.julia/packages/MLJBase/uKzAz/src/machines.jl:77\n",
      "\u001b[33mEvaluating over 131 metamodels:  11%[==>                      ]  ETA: 0:01:02\u001b[39m┌ Warning: The scitype of `X`, in `machine(model, X, ...)` is incompatible with `model=\u001b[34mNeuralNetworkClassifier{CustomNN,…} @892\u001b[39m`:\n",
      "│ scitype(X) = Table{Union{AbstractArray{Continuous,1}, AbstractArray{Count,1}}}\n",
      "│ input_scitype(model) = Table{var\"#s44\"} where var\"#s44\"<:(AbstractArray{var\"#s13\",1} where var\"#s13\"<:Continuous).\n",
      "└ @ MLJBase /home/andrew/.julia/packages/MLJBase/uKzAz/src/machines.jl:77\n"
     ]
    },
    {
     "name": "stderr",
     "output_type": "stream",
     "text": [
      "\u001b[33mEvaluating over 131 metamodels:  11%[==>                      ]  ETA: 0:01:06\u001b[39m┌ Warning: The scitype of `X`, in `machine(model, X, ...)` is incompatible with `model=\u001b[34mNeuralNetworkClassifier{CustomNN,…} @445\u001b[39m`:\n",
      "│ scitype(X) = Table{Union{AbstractArray{Continuous,1}, AbstractArray{Count,1}}}\n",
      "│ input_scitype(model) = Table{var\"#s44\"} where var\"#s44\"<:(AbstractArray{var\"#s13\",1} where var\"#s13\"<:Continuous).\n",
      "└ @ MLJBase /home/andrew/.julia/packages/MLJBase/uKzAz/src/machines.jl:77\n",
      "\u001b[33mEvaluating over 131 metamodels:  12%[===>                     ]  ETA: 0:01:09\u001b[39m┌ Warning: The scitype of `X`, in `machine(model, X, ...)` is incompatible with `model=\u001b[34mNeuralNetworkClassifier{CustomNN,…} @623\u001b[39m`:\n",
      "│ scitype(X) = Table{Union{AbstractArray{Continuous,1}, AbstractArray{Count,1}}}\n",
      "│ input_scitype(model) = Table{var\"#s44\"} where var\"#s44\"<:(AbstractArray{var\"#s13\",1} where var\"#s13\"<:Continuous).\n",
      "└ @ MLJBase /home/andrew/.julia/packages/MLJBase/uKzAz/src/machines.jl:77\n",
      "\u001b[33mEvaluating over 131 metamodels:  13%[===>                     ]  ETA: 0:01:12\u001b[39m┌ Warning: The scitype of `X`, in `machine(model, X, ...)` is incompatible with `model=\u001b[34mNeuralNetworkClassifier{CustomNN,…} @371\u001b[39m`:\n",
      "│ scitype(X) = Table{Union{AbstractArray{Continuous,1}, AbstractArray{Count,1}}}\n",
      "│ input_scitype(model) = Table{var\"#s44\"} where var\"#s44\"<:(AbstractArray{var\"#s13\",1} where var\"#s13\"<:Continuous).\n",
      "└ @ MLJBase /home/andrew/.julia/packages/MLJBase/uKzAz/src/machines.jl:77\n",
      "\u001b[33mEvaluating over 131 metamodels:  14%[===>                     ]  ETA: 0:01:16\u001b[39m┌ Warning: The scitype of `X`, in `machine(model, X, ...)` is incompatible with `model=\u001b[34mNeuralNetworkClassifier{CustomNN,…} @019\u001b[39m`:\n",
      "│ scitype(X) = Table{Union{AbstractArray{Continuous,1}, AbstractArray{Count,1}}}\n",
      "│ input_scitype(model) = Table{var\"#s44\"} where var\"#s44\"<:(AbstractArray{var\"#s13\",1} where var\"#s13\"<:Continuous).\n",
      "└ @ MLJBase /home/andrew/.julia/packages/MLJBase/uKzAz/src/machines.jl:77\n",
      "\u001b[33mEvaluating over 131 metamodels:  15%[===>                     ]  ETA: 0:01:19\u001b[39m┌ Warning: The scitype of `X`, in `machine(model, X, ...)` is incompatible with `model=\u001b[34mNeuralNetworkClassifier{CustomNN,…} @840\u001b[39m`:\n",
      "│ scitype(X) = Table{Union{AbstractArray{Continuous,1}, AbstractArray{Count,1}}}\n",
      "│ input_scitype(model) = Table{var\"#s44\"} where var\"#s44\"<:(AbstractArray{var\"#s13\",1} where var\"#s13\"<:Continuous).\n",
      "└ @ MLJBase /home/andrew/.julia/packages/MLJBase/uKzAz/src/machines.jl:77\n",
      "\u001b[33mEvaluating over 131 metamodels:  15%[===>                     ]  ETA: 0:01:22\u001b[39m┌ Warning: The scitype of `X`, in `machine(model, X, ...)` is incompatible with `model=\u001b[34mNeuralNetworkClassifier{CustomNN,…} @272\u001b[39m`:\n",
      "│ scitype(X) = Table{Union{AbstractArray{Continuous,1}, AbstractArray{Count,1}}}\n",
      "│ input_scitype(model) = Table{var\"#s44\"} where var\"#s44\"<:(AbstractArray{var\"#s13\",1} where var\"#s13\"<:Continuous).\n",
      "└ @ MLJBase /home/andrew/.julia/packages/MLJBase/uKzAz/src/machines.jl:77\n",
      "\u001b[33mEvaluating over 131 metamodels:  16%[====>                    ]  ETA: 0:01:25\u001b[39m┌ Warning: The scitype of `X`, in `machine(model, X, ...)` is incompatible with `model=\u001b[34mNeuralNetworkClassifier{CustomNN,…} @641\u001b[39m`:\n",
      "│ scitype(X) = Table{Union{AbstractArray{Continuous,1}, AbstractArray{Count,1}}}\n",
      "│ input_scitype(model) = Table{var\"#s44\"} where var\"#s44\"<:(AbstractArray{var\"#s13\",1} where var\"#s13\"<:Continuous).\n",
      "└ @ MLJBase /home/andrew/.julia/packages/MLJBase/uKzAz/src/machines.jl:77\n",
      "\u001b[33mEvaluating over 131 metamodels:  17%[====>                    ]  ETA: 0:01:28\u001b[39m┌ Warning: The scitype of `X`, in `machine(model, X, ...)` is incompatible with `model=\u001b[34mNeuralNetworkClassifier{CustomNN,…} @373\u001b[39m`:\n",
      "│ scitype(X) = Table{Union{AbstractArray{Continuous,1}, AbstractArray{Count,1}}}\n",
      "│ input_scitype(model) = Table{var\"#s44\"} where var\"#s44\"<:(AbstractArray{var\"#s13\",1} where var\"#s13\"<:Continuous).\n",
      "└ @ MLJBase /home/andrew/.julia/packages/MLJBase/uKzAz/src/machines.jl:77\n",
      "\u001b[33mEvaluating over 131 metamodels:  18%[====>                    ]  ETA: 0:01:31\u001b[39m┌ Warning: The scitype of `X`, in `machine(model, X, ...)` is incompatible with `model=\u001b[34mNeuralNetworkClassifier{CustomNN,…} @091\u001b[39m`:\n",
      "│ scitype(X) = Table{Union{AbstractArray{Continuous,1}, AbstractArray{Count,1}}}\n",
      "│ input_scitype(model) = Table{var\"#s44\"} where var\"#s44\"<:(AbstractArray{var\"#s13\",1} where var\"#s13\"<:Continuous).\n",
      "└ @ MLJBase /home/andrew/.julia/packages/MLJBase/uKzAz/src/machines.jl:77\n",
      "\u001b[33mEvaluating over 131 metamodels:  18%[====>                    ]  ETA: 0:01:34\u001b[39m┌ Warning: The scitype of `X`, in `machine(model, X, ...)` is incompatible with `model=\u001b[34mNeuralNetworkClassifier{CustomNN,…} @948\u001b[39m`:\n",
      "│ scitype(X) = Table{Union{AbstractArray{Continuous,1}, AbstractArray{Count,1}}}\n",
      "│ input_scitype(model) = Table{var\"#s44\"} where var\"#s44\"<:(AbstractArray{var\"#s13\",1} where var\"#s13\"<:Continuous).\n",
      "└ @ MLJBase /home/andrew/.julia/packages/MLJBase/uKzAz/src/machines.jl:77\n",
      "\u001b[33mEvaluating over 131 metamodels:  19%[====>                    ]  ETA: 0:01:37\u001b[39m┌ Warning: The scitype of `X`, in `machine(model, X, ...)` is incompatible with `model=\u001b[34mNeuralNetworkClassifier{CustomNN,…} @422\u001b[39m`:\n",
      "│ scitype(X) = Table{Union{AbstractArray{Continuous,1}, AbstractArray{Count,1}}}\n",
      "│ input_scitype(model) = Table{var\"#s44\"} where var\"#s44\"<:(AbstractArray{var\"#s13\",1} where var\"#s13\"<:Continuous).\n",
      "└ @ MLJBase /home/andrew/.julia/packages/MLJBase/uKzAz/src/machines.jl:77\n",
      "\u001b[33mEvaluating over 131 metamodels:  20%[====>                    ]  ETA: 0:01:39\u001b[39m┌ Warning: The scitype of `X`, in `machine(model, X, ...)` is incompatible with `model=\u001b[34mNeuralNetworkClassifier{CustomNN,…} @392\u001b[39m`:\n",
      "│ scitype(X) = Table{Union{AbstractArray{Continuous,1}, AbstractArray{Count,1}}}\n",
      "│ input_scitype(model) = Table{var\"#s44\"} where var\"#s44\"<:(AbstractArray{var\"#s13\",1} where var\"#s13\"<:Continuous).\n",
      "└ @ MLJBase /home/andrew/.julia/packages/MLJBase/uKzAz/src/machines.jl:77\n",
      "\u001b[33mEvaluating over 131 metamodels:  21%[=====>                   ]  ETA: 0:01:42\u001b[39m┌ Warning: The scitype of `X`, in `machine(model, X, ...)` is incompatible with `model=\u001b[34mNeuralNetworkClassifier{CustomNN,…} @581\u001b[39m`:\n",
      "│ scitype(X) = Table{Union{AbstractArray{Continuous,1}, AbstractArray{Count,1}}}\n",
      "│ input_scitype(model) = Table{var\"#s44\"} where var\"#s44\"<:(AbstractArray{var\"#s13\",1} where var\"#s13\"<:Continuous).\n",
      "└ @ MLJBase /home/andrew/.julia/packages/MLJBase/uKzAz/src/machines.jl:77\n",
      "\u001b[33mEvaluating over 131 metamodels:  21%[=====>                   ]  ETA: 0:01:44\u001b[39m┌ Warning: The scitype of `X`, in `machine(model, X, ...)` is incompatible with `model=\u001b[34mNeuralNetworkClassifier{CustomNN,…} @205\u001b[39m`:\n",
      "│ scitype(X) = Table{Union{AbstractArray{Continuous,1}, AbstractArray{Count,1}}}\n",
      "│ input_scitype(model) = Table{var\"#s44\"} where var\"#s44\"<:(AbstractArray{var\"#s13\",1} where var\"#s13\"<:Continuous).\n",
      "└ @ MLJBase /home/andrew/.julia/packages/MLJBase/uKzAz/src/machines.jl:77\n",
      "\u001b[33mEvaluating over 131 metamodels:  22%[=====>                   ]  ETA: 0:01:47\u001b[39m┌ Warning: The scitype of `X`, in `machine(model, X, ...)` is incompatible with `model=\u001b[34mNeuralNetworkClassifier{CustomNN,…} @265\u001b[39m`:\n",
      "│ scitype(X) = Table{Union{AbstractArray{Continuous,1}, AbstractArray{Count,1}}}\n",
      "│ input_scitype(model) = Table{var\"#s44\"} where var\"#s44\"<:(AbstractArray{var\"#s13\",1} where var\"#s13\"<:Continuous).\n",
      "└ @ MLJBase /home/andrew/.julia/packages/MLJBase/uKzAz/src/machines.jl:77\n",
      "\u001b[33mEvaluating over 131 metamodels:  23%[=====>                   ]  ETA: 0:01:49\u001b[39m┌ Warning: The scitype of `X`, in `machine(model, X, ...)` is incompatible with `model=\u001b[34mNeuralNetworkClassifier{CustomNN,…} @966\u001b[39m`:\n",
      "│ scitype(X) = Table{Union{AbstractArray{Continuous,1}, AbstractArray{Count,1}}}\n",
      "│ input_scitype(model) = Table{var\"#s44\"} where var\"#s44\"<:(AbstractArray{var\"#s13\",1} where var\"#s13\"<:Continuous).\n",
      "└ @ MLJBase /home/andrew/.julia/packages/MLJBase/uKzAz/src/machines.jl:77\n",
      "\u001b[33mEvaluating over 131 metamodels:  24%[=====>                   ]  ETA: 0:01:52\u001b[39m┌ Warning: The scitype of `X`, in `machine(model, X, ...)` is incompatible with `model=\u001b[34mNeuralNetworkClassifier{CustomNN,…} @239\u001b[39m`:\n",
      "│ scitype(X) = Table{Union{AbstractArray{Continuous,1}, AbstractArray{Count,1}}}\n",
      "│ input_scitype(model) = Table{var\"#s44\"} where var\"#s44\"<:(AbstractArray{var\"#s13\",1} where var\"#s13\"<:Continuous).\n",
      "└ @ MLJBase /home/andrew/.julia/packages/MLJBase/uKzAz/src/machines.jl:77\n"
     ]
    },
    {
     "name": "stderr",
     "output_type": "stream",
     "text": [
      "\u001b[33mEvaluating over 131 metamodels:  24%[======>                  ]  ETA: 0:01:54\u001b[39m┌ Warning: The scitype of `X`, in `machine(model, X, ...)` is incompatible with `model=\u001b[34mNeuralNetworkClassifier{CustomNN,…} @845\u001b[39m`:\n",
      "│ scitype(X) = Table{Union{AbstractArray{Continuous,1}, AbstractArray{Count,1}}}\n",
      "│ input_scitype(model) = Table{var\"#s44\"} where var\"#s44\"<:(AbstractArray{var\"#s13\",1} where var\"#s13\"<:Continuous).\n",
      "└ @ MLJBase /home/andrew/.julia/packages/MLJBase/uKzAz/src/machines.jl:77\n",
      "\u001b[33mEvaluating over 131 metamodels:  25%[======>                  ]  ETA: 0:01:56\u001b[39m┌ Warning: The scitype of `X`, in `machine(model, X, ...)` is incompatible with `model=\u001b[34mNeuralNetworkClassifier{CustomNN,…} @204\u001b[39m`:\n",
      "│ scitype(X) = Table{Union{AbstractArray{Continuous,1}, AbstractArray{Count,1}}}\n",
      "│ input_scitype(model) = Table{var\"#s44\"} where var\"#s44\"<:(AbstractArray{var\"#s13\",1} where var\"#s13\"<:Continuous).\n",
      "└ @ MLJBase /home/andrew/.julia/packages/MLJBase/uKzAz/src/machines.jl:77\n",
      "\u001b[33mEvaluating over 131 metamodels:  26%[======>                  ]  ETA: 0:01:59\u001b[39m┌ Warning: The scitype of `X`, in `machine(model, X, ...)` is incompatible with `model=\u001b[34mNeuralNetworkClassifier{CustomNN,…} @940\u001b[39m`:\n",
      "│ scitype(X) = Table{Union{AbstractArray{Continuous,1}, AbstractArray{Count,1}}}\n",
      "│ input_scitype(model) = Table{var\"#s44\"} where var\"#s44\"<:(AbstractArray{var\"#s13\",1} where var\"#s13\"<:Continuous).\n",
      "└ @ MLJBase /home/andrew/.julia/packages/MLJBase/uKzAz/src/machines.jl:77\n",
      "\u001b[33mEvaluating over 131 metamodels:  27%[======>                  ]  ETA: 0:02:01\u001b[39m┌ Warning: The scitype of `X`, in `machine(model, X, ...)` is incompatible with `model=\u001b[34mNeuralNetworkClassifier{CustomNN,…} @990\u001b[39m`:\n",
      "│ scitype(X) = Table{Union{AbstractArray{Continuous,1}, AbstractArray{Count,1}}}\n",
      "│ input_scitype(model) = Table{var\"#s44\"} where var\"#s44\"<:(AbstractArray{var\"#s13\",1} where var\"#s13\"<:Continuous).\n",
      "└ @ MLJBase /home/andrew/.julia/packages/MLJBase/uKzAz/src/machines.jl:77\n",
      "\u001b[33mEvaluating over 131 metamodels:  27%[======>                  ]  ETA: 0:02:03\u001b[39m┌ Warning: The scitype of `X`, in `machine(model, X, ...)` is incompatible with `model=\u001b[34mNeuralNetworkClassifier{CustomNN,…} @126\u001b[39m`:\n",
      "│ scitype(X) = Table{Union{AbstractArray{Continuous,1}, AbstractArray{Count,1}}}\n",
      "│ input_scitype(model) = Table{var\"#s44\"} where var\"#s44\"<:(AbstractArray{var\"#s13\",1} where var\"#s13\"<:Continuous).\n",
      "└ @ MLJBase /home/andrew/.julia/packages/MLJBase/uKzAz/src/machines.jl:77\n",
      "\u001b[33mEvaluating over 131 metamodels:  28%[=======>                 ]  ETA: 0:02:05\u001b[39m┌ Warning: The scitype of `X`, in `machine(model, X, ...)` is incompatible with `model=\u001b[34mNeuralNetworkClassifier{CustomNN,…} @218\u001b[39m`:\n",
      "│ scitype(X) = Table{Union{AbstractArray{Continuous,1}, AbstractArray{Count,1}}}\n",
      "│ input_scitype(model) = Table{var\"#s44\"} where var\"#s44\"<:(AbstractArray{var\"#s13\",1} where var\"#s13\"<:Continuous).\n",
      "└ @ MLJBase /home/andrew/.julia/packages/MLJBase/uKzAz/src/machines.jl:77\n",
      "\u001b[33mEvaluating over 131 metamodels:  29%[=======>                 ]  ETA: 0:02:07\u001b[39m┌ Warning: The scitype of `X`, in `machine(model, X, ...)` is incompatible with `model=\u001b[34mNeuralNetworkClassifier{CustomNN,…} @538\u001b[39m`:\n",
      "│ scitype(X) = Table{Union{AbstractArray{Continuous,1}, AbstractArray{Count,1}}}\n",
      "│ input_scitype(model) = Table{var\"#s44\"} where var\"#s44\"<:(AbstractArray{var\"#s13\",1} where var\"#s13\"<:Continuous).\n",
      "└ @ MLJBase /home/andrew/.julia/packages/MLJBase/uKzAz/src/machines.jl:77\n",
      "\u001b[33mEvaluating over 131 metamodels:  30%[=======>                 ]  ETA: 0:02:09\u001b[39m┌ Warning: The scitype of `X`, in `machine(model, X, ...)` is incompatible with `model=\u001b[34mNeuralNetworkClassifier{CustomNN,…} @678\u001b[39m`:\n",
      "│ scitype(X) = Table{Union{AbstractArray{Continuous,1}, AbstractArray{Count,1}}}\n",
      "│ input_scitype(model) = Table{var\"#s44\"} where var\"#s44\"<:(AbstractArray{var\"#s13\",1} where var\"#s13\"<:Continuous).\n",
      "└ @ MLJBase /home/andrew/.julia/packages/MLJBase/uKzAz/src/machines.jl:77\n",
      "\u001b[33mEvaluating over 131 metamodels:  31%[=======>                 ]  ETA: 0:02:11\u001b[39m┌ Warning: The scitype of `X`, in `machine(model, X, ...)` is incompatible with `model=\u001b[34mNeuralNetworkClassifier{CustomNN,…} @365\u001b[39m`:\n",
      "│ scitype(X) = Table{Union{AbstractArray{Continuous,1}, AbstractArray{Count,1}}}\n",
      "│ input_scitype(model) = Table{var\"#s44\"} where var\"#s44\"<:(AbstractArray{var\"#s13\",1} where var\"#s13\"<:Continuous).\n",
      "└ @ MLJBase /home/andrew/.julia/packages/MLJBase/uKzAz/src/machines.jl:77\n",
      "\u001b[33mEvaluating over 131 metamodels:  31%[=======>                 ]  ETA: 0:02:14\u001b[39m┌ Warning: The scitype of `X`, in `machine(model, X, ...)` is incompatible with `model=\u001b[34mNeuralNetworkClassifier{CustomNN,…} @012\u001b[39m`:\n",
      "│ scitype(X) = Table{Union{AbstractArray{Continuous,1}, AbstractArray{Count,1}}}\n",
      "│ input_scitype(model) = Table{var\"#s44\"} where var\"#s44\"<:(AbstractArray{var\"#s13\",1} where var\"#s13\"<:Continuous).\n",
      "└ @ MLJBase /home/andrew/.julia/packages/MLJBase/uKzAz/src/machines.jl:77\n",
      "\u001b[33mEvaluating over 131 metamodels:  32%[========>                ]  ETA: 0:02:16\u001b[39m┌ Warning: The scitype of `X`, in `machine(model, X, ...)` is incompatible with `model=\u001b[34mNeuralNetworkClassifier{CustomNN,…} @638\u001b[39m`:\n",
      "│ scitype(X) = Table{Union{AbstractArray{Continuous,1}, AbstractArray{Count,1}}}\n",
      "│ input_scitype(model) = Table{var\"#s44\"} where var\"#s44\"<:(AbstractArray{var\"#s13\",1} where var\"#s13\"<:Continuous).\n",
      "└ @ MLJBase /home/andrew/.julia/packages/MLJBase/uKzAz/src/machines.jl:77\n",
      "\u001b[33mEvaluating over 131 metamodels:  33%[========>                ]  ETA: 0:02:18\u001b[39m┌ Warning: The scitype of `X`, in `machine(model, X, ...)` is incompatible with `model=\u001b[34mNeuralNetworkClassifier{CustomNN,…} @533\u001b[39m`:\n",
      "│ scitype(X) = Table{Union{AbstractArray{Continuous,1}, AbstractArray{Count,1}}}\n",
      "│ input_scitype(model) = Table{var\"#s44\"} where var\"#s44\"<:(AbstractArray{var\"#s13\",1} where var\"#s13\"<:Continuous).\n",
      "└ @ MLJBase /home/andrew/.julia/packages/MLJBase/uKzAz/src/machines.jl:77\n",
      "\u001b[33mEvaluating over 131 metamodels:  34%[========>                ]  ETA: 0:02:20\u001b[39m┌ Warning: The scitype of `X`, in `machine(model, X, ...)` is incompatible with `model=\u001b[34mNeuralNetworkClassifier{CustomNN,…} @807\u001b[39m`:\n",
      "│ scitype(X) = Table{Union{AbstractArray{Continuous,1}, AbstractArray{Count,1}}}\n",
      "│ input_scitype(model) = Table{var\"#s44\"} where var\"#s44\"<:(AbstractArray{var\"#s13\",1} where var\"#s13\"<:Continuous).\n",
      "└ @ MLJBase /home/andrew/.julia/packages/MLJBase/uKzAz/src/machines.jl:77\n",
      "\u001b[33mEvaluating over 131 metamodels:  34%[========>                ]  ETA: 0:02:23\u001b[39m┌ Warning: The scitype of `X`, in `machine(model, X, ...)` is incompatible with `model=\u001b[34mNeuralNetworkClassifier{CustomNN,…} @393\u001b[39m`:\n",
      "│ scitype(X) = Table{Union{AbstractArray{Continuous,1}, AbstractArray{Count,1}}}\n",
      "│ input_scitype(model) = Table{var\"#s44\"} where var\"#s44\"<:(AbstractArray{var\"#s13\",1} where var\"#s13\"<:Continuous).\n",
      "└ @ MLJBase /home/andrew/.julia/packages/MLJBase/uKzAz/src/machines.jl:77\n",
      "\u001b[33mEvaluating over 131 metamodels:  35%[========>                ]  ETA: 0:02:25\u001b[39m┌ Warning: The scitype of `X`, in `machine(model, X, ...)` is incompatible with `model=\u001b[34mNeuralNetworkClassifier{CustomNN,…} @820\u001b[39m`:\n",
      "│ scitype(X) = Table{Union{AbstractArray{Continuous,1}, AbstractArray{Count,1}}}\n",
      "│ input_scitype(model) = Table{var\"#s44\"} where var\"#s44\"<:(AbstractArray{var\"#s13\",1} where var\"#s13\"<:Continuous).\n",
      "└ @ MLJBase /home/andrew/.julia/packages/MLJBase/uKzAz/src/machines.jl:77\n",
      "\u001b[33mEvaluating over 131 metamodels:  36%[========>                ]  ETA: 0:02:27\u001b[39m┌ Warning: The scitype of `X`, in `machine(model, X, ...)` is incompatible with `model=\u001b[34mNeuralNetworkClassifier{CustomNN,…} @497\u001b[39m`:\n",
      "│ scitype(X) = Table{Union{AbstractArray{Continuous,1}, AbstractArray{Count,1}}}\n",
      "│ input_scitype(model) = Table{var\"#s44\"} where var\"#s44\"<:(AbstractArray{var\"#s13\",1} where var\"#s13\"<:Continuous).\n",
      "└ @ MLJBase /home/andrew/.julia/packages/MLJBase/uKzAz/src/machines.jl:77\n",
      "\u001b[33mEvaluating over 131 metamodels:  37%[=========>               ]  ETA: 0:02:29\u001b[39m┌ Warning: The scitype of `X`, in `machine(model, X, ...)` is incompatible with `model=\u001b[34mNeuralNetworkClassifier{CustomNN,…} @580\u001b[39m`:\n",
      "│ scitype(X) = Table{Union{AbstractArray{Continuous,1}, AbstractArray{Count,1}}}\n",
      "│ input_scitype(model) = Table{var\"#s44\"} where var\"#s44\"<:(AbstractArray{var\"#s13\",1} where var\"#s13\"<:Continuous).\n",
      "└ @ MLJBase /home/andrew/.julia/packages/MLJBase/uKzAz/src/machines.jl:77\n"
     ]
    },
    {
     "name": "stderr",
     "output_type": "stream",
     "text": [
      "\u001b[33mEvaluating over 131 metamodels:  37%[=========>               ]  ETA: 0:02:31\u001b[39m┌ Warning: The scitype of `X`, in `machine(model, X, ...)` is incompatible with `model=\u001b[34mNeuralNetworkClassifier{CustomNN,…} @152\u001b[39m`:\n",
      "│ scitype(X) = Table{Union{AbstractArray{Continuous,1}, AbstractArray{Count,1}}}\n",
      "│ input_scitype(model) = Table{var\"#s44\"} where var\"#s44\"<:(AbstractArray{var\"#s13\",1} where var\"#s13\"<:Continuous).\n",
      "└ @ MLJBase /home/andrew/.julia/packages/MLJBase/uKzAz/src/machines.jl:77\n",
      "\u001b[33mEvaluating over 131 metamodels:  38%[=========>               ]  ETA: 0:02:33\u001b[39m┌ Warning: The scitype of `X`, in `machine(model, X, ...)` is incompatible with `model=\u001b[34mNeuralNetworkClassifier{CustomNN,…} @915\u001b[39m`:\n",
      "│ scitype(X) = Table{Union{AbstractArray{Continuous,1}, AbstractArray{Count,1}}}\n",
      "│ input_scitype(model) = Table{var\"#s44\"} where var\"#s44\"<:(AbstractArray{var\"#s13\",1} where var\"#s13\"<:Continuous).\n",
      "└ @ MLJBase /home/andrew/.julia/packages/MLJBase/uKzAz/src/machines.jl:77\n",
      "\u001b[33mEvaluating over 131 metamodels:  39%[=========>               ]  ETA: 0:02:35\u001b[39m┌ Warning: The scitype of `X`, in `machine(model, X, ...)` is incompatible with `model=\u001b[34mNeuralNetworkClassifier{CustomNN,…} @241\u001b[39m`:\n",
      "│ scitype(X) = Table{Union{AbstractArray{Continuous,1}, AbstractArray{Count,1}}}\n",
      "│ input_scitype(model) = Table{var\"#s44\"} where var\"#s44\"<:(AbstractArray{var\"#s13\",1} where var\"#s13\"<:Continuous).\n",
      "└ @ MLJBase /home/andrew/.julia/packages/MLJBase/uKzAz/src/machines.jl:77\n",
      "\u001b[33mEvaluating over 131 metamodels:  40%[=========>               ]  ETA: 0:02:37\u001b[39m┌ Warning: The scitype of `X`, in `machine(model, X, ...)` is incompatible with `model=\u001b[34mNeuralNetworkClassifier{CustomNN,…} @807\u001b[39m`:\n",
      "│ scitype(X) = Table{Union{AbstractArray{Continuous,1}, AbstractArray{Count,1}}}\n",
      "│ input_scitype(model) = Table{var\"#s44\"} where var\"#s44\"<:(AbstractArray{var\"#s13\",1} where var\"#s13\"<:Continuous).\n",
      "└ @ MLJBase /home/andrew/.julia/packages/MLJBase/uKzAz/src/machines.jl:77\n",
      "\u001b[33mEvaluating over 131 metamodels:  40%[==========>              ]  ETA: 0:02:39\u001b[39m┌ Warning: The scitype of `X`, in `machine(model, X, ...)` is incompatible with `model=\u001b[34mNeuralNetworkClassifier{CustomNN,…} @257\u001b[39m`:\n",
      "│ scitype(X) = Table{Union{AbstractArray{Continuous,1}, AbstractArray{Count,1}}}\n",
      "│ input_scitype(model) = Table{var\"#s44\"} where var\"#s44\"<:(AbstractArray{var\"#s13\",1} where var\"#s13\"<:Continuous).\n",
      "└ @ MLJBase /home/andrew/.julia/packages/MLJBase/uKzAz/src/machines.jl:77\n",
      "\u001b[33mEvaluating over 131 metamodels:  41%[==========>              ]  ETA: 0:02:41\u001b[39m┌ Warning: The scitype of `X`, in `machine(model, X, ...)` is incompatible with `model=\u001b[34mNeuralNetworkClassifier{CustomNN,…} @199\u001b[39m`:\n",
      "│ scitype(X) = Table{Union{AbstractArray{Continuous,1}, AbstractArray{Count,1}}}\n",
      "│ input_scitype(model) = Table{var\"#s44\"} where var\"#s44\"<:(AbstractArray{var\"#s13\",1} where var\"#s13\"<:Continuous).\n",
      "└ @ MLJBase /home/andrew/.julia/packages/MLJBase/uKzAz/src/machines.jl:77\n",
      "\u001b[33mEvaluating over 131 metamodels:  42%[==========>              ]  ETA: 0:02:43\u001b[39m┌ Warning: The scitype of `X`, in `machine(model, X, ...)` is incompatible with `model=\u001b[34mNeuralNetworkClassifier{CustomNN,…} @501\u001b[39m`:\n",
      "│ scitype(X) = Table{Union{AbstractArray{Continuous,1}, AbstractArray{Count,1}}}\n",
      "│ input_scitype(model) = Table{var\"#s44\"} where var\"#s44\"<:(AbstractArray{var\"#s13\",1} where var\"#s13\"<:Continuous).\n",
      "└ @ MLJBase /home/andrew/.julia/packages/MLJBase/uKzAz/src/machines.jl:77\n",
      "\u001b[33mEvaluating over 131 metamodels:  43%[==========>              ]  ETA: 0:02:45\u001b[39m┌ Warning: The scitype of `X`, in `machine(model, X, ...)` is incompatible with `model=\u001b[34mNeuralNetworkClassifier{CustomNN,…} @719\u001b[39m`:\n",
      "│ scitype(X) = Table{Union{AbstractArray{Continuous,1}, AbstractArray{Count,1}}}\n",
      "│ input_scitype(model) = Table{var\"#s44\"} where var\"#s44\"<:(AbstractArray{var\"#s13\",1} where var\"#s13\"<:Continuous).\n",
      "└ @ MLJBase /home/andrew/.julia/packages/MLJBase/uKzAz/src/machines.jl:77\n",
      "\u001b[33mEvaluating over 131 metamodels:  44%[==========>              ]  ETA: 0:02:47\u001b[39m┌ Warning: The scitype of `X`, in `machine(model, X, ...)` is incompatible with `model=\u001b[34mNeuralNetworkClassifier{CustomNN,…} @571\u001b[39m`:\n",
      "│ scitype(X) = Table{Union{AbstractArray{Continuous,1}, AbstractArray{Count,1}}}\n",
      "│ input_scitype(model) = Table{var\"#s44\"} where var\"#s44\"<:(AbstractArray{var\"#s13\",1} where var\"#s13\"<:Continuous).\n",
      "└ @ MLJBase /home/andrew/.julia/packages/MLJBase/uKzAz/src/machines.jl:77\n",
      "\u001b[33mEvaluating over 131 metamodels:  44%[===========>             ]  ETA: 0:02:48\u001b[39m┌ Warning: The scitype of `X`, in `machine(model, X, ...)` is incompatible with `model=\u001b[34mNeuralNetworkClassifier{CustomNN,…} @685\u001b[39m`:\n",
      "│ scitype(X) = Table{Union{AbstractArray{Continuous,1}, AbstractArray{Count,1}}}\n",
      "│ input_scitype(model) = Table{var\"#s44\"} where var\"#s44\"<:(AbstractArray{var\"#s13\",1} where var\"#s13\"<:Continuous).\n",
      "└ @ MLJBase /home/andrew/.julia/packages/MLJBase/uKzAz/src/machines.jl:77\n",
      "\u001b[33mEvaluating over 131 metamodels:  45%[===========>             ]  ETA: 0:02:50\u001b[39m┌ Warning: The scitype of `X`, in `machine(model, X, ...)` is incompatible with `model=\u001b[34mNeuralNetworkClassifier{CustomNN,…} @228\u001b[39m`:\n",
      "│ scitype(X) = Table{Union{AbstractArray{Continuous,1}, AbstractArray{Count,1}}}\n",
      "│ input_scitype(model) = Table{var\"#s44\"} where var\"#s44\"<:(AbstractArray{var\"#s13\",1} where var\"#s13\"<:Continuous).\n",
      "└ @ MLJBase /home/andrew/.julia/packages/MLJBase/uKzAz/src/machines.jl:77\n",
      "\u001b[33mEvaluating over 131 metamodels:  46%[===========>             ]  ETA: 0:02:52\u001b[39m┌ Warning: The scitype of `X`, in `machine(model, X, ...)` is incompatible with `model=\u001b[34mNeuralNetworkClassifier{CustomNN,…} @267\u001b[39m`:\n",
      "│ scitype(X) = Table{Union{AbstractArray{Continuous,1}, AbstractArray{Count,1}}}\n",
      "│ input_scitype(model) = Table{var\"#s44\"} where var\"#s44\"<:(AbstractArray{var\"#s13\",1} where var\"#s13\"<:Continuous).\n",
      "└ @ MLJBase /home/andrew/.julia/packages/MLJBase/uKzAz/src/machines.jl:77\n",
      "\u001b[33mEvaluating over 131 metamodels:  47%[===========>             ]  ETA: 0:02:55\u001b[39m┌ Warning: The scitype of `X`, in `machine(model, X, ...)` is incompatible with `model=\u001b[34mNeuralNetworkClassifier{CustomNN,…} @788\u001b[39m`:\n",
      "│ scitype(X) = Table{Union{AbstractArray{Continuous,1}, AbstractArray{Count,1}}}\n",
      "│ input_scitype(model) = Table{var\"#s44\"} where var\"#s44\"<:(AbstractArray{var\"#s13\",1} where var\"#s13\"<:Continuous).\n",
      "└ @ MLJBase /home/andrew/.julia/packages/MLJBase/uKzAz/src/machines.jl:77\n",
      "\u001b[33mEvaluating over 131 metamodels:  47%[===========>             ]  ETA: 0:02:57\u001b[39m┌ Warning: The scitype of `X`, in `machine(model, X, ...)` is incompatible with `model=\u001b[34mNeuralNetworkClassifier{CustomNN,…} @018\u001b[39m`:\n",
      "│ scitype(X) = Table{Union{AbstractArray{Continuous,1}, AbstractArray{Count,1}}}\n",
      "│ input_scitype(model) = Table{var\"#s44\"} where var\"#s44\"<:(AbstractArray{var\"#s13\",1} where var\"#s13\"<:Continuous).\n",
      "└ @ MLJBase /home/andrew/.julia/packages/MLJBase/uKzAz/src/machines.jl:77\n",
      "\u001b[33mEvaluating over 131 metamodels:  48%[============>            ]  ETA: 0:02:58\u001b[39m┌ Warning: The scitype of `X`, in `machine(model, X, ...)` is incompatible with `model=\u001b[34mNeuralNetworkClassifier{CustomNN,…} @344\u001b[39m`:\n",
      "│ scitype(X) = Table{Union{AbstractArray{Continuous,1}, AbstractArray{Count,1}}}\n",
      "│ input_scitype(model) = Table{var\"#s44\"} where var\"#s44\"<:(AbstractArray{var\"#s13\",1} where var\"#s13\"<:Continuous).\n",
      "└ @ MLJBase /home/andrew/.julia/packages/MLJBase/uKzAz/src/machines.jl:77\n",
      "\u001b[33mEvaluating over 131 metamodels:  49%[============>            ]  ETA: 0:03:00\u001b[39m┌ Warning: The scitype of `X`, in `machine(model, X, ...)` is incompatible with `model=\u001b[34mNeuralNetworkClassifier{CustomNN,…} @368\u001b[39m`:\n",
      "│ scitype(X) = Table{Union{AbstractArray{Continuous,1}, AbstractArray{Count,1}}}\n",
      "│ input_scitype(model) = Table{var\"#s44\"} where var\"#s44\"<:(AbstractArray{var\"#s13\",1} where var\"#s13\"<:Continuous).\n",
      "└ @ MLJBase /home/andrew/.julia/packages/MLJBase/uKzAz/src/machines.jl:77\n",
      "\u001b[33mEvaluating over 131 metamodels:  50%[============>            ]  ETA: 0:03:02\u001b[39m┌ Warning: The scitype of `X`, in `machine(model, X, ...)` is incompatible with `model=\u001b[34mNeuralNetworkClassifier{CustomNN,…} @123\u001b[39m`:\n",
      "│ scitype(X) = Table{Union{AbstractArray{Continuous,1}, AbstractArray{Count,1}}}\n",
      "│ input_scitype(model) = Table{var\"#s44\"} where var\"#s44\"<:(AbstractArray{var\"#s13\",1} where var\"#s13\"<:Continuous).\n",
      "└ @ MLJBase /home/andrew/.julia/packages/MLJBase/uKzAz/src/machines.jl:77\n"
     ]
    },
    {
     "name": "stderr",
     "output_type": "stream",
     "text": [
      "\u001b[33mEvaluating over 131 metamodels:  50%[============>            ]  ETA: 0:03:04\u001b[39m┌ Warning: The scitype of `X`, in `machine(model, X, ...)` is incompatible with `model=\u001b[34mNeuralNetworkClassifier{CustomNN,…} @058\u001b[39m`:\n",
      "│ scitype(X) = Table{Union{AbstractArray{Continuous,1}, AbstractArray{Count,1}}}\n",
      "│ input_scitype(model) = Table{var\"#s44\"} where var\"#s44\"<:(AbstractArray{var\"#s13\",1} where var\"#s13\"<:Continuous).\n",
      "└ @ MLJBase /home/andrew/.julia/packages/MLJBase/uKzAz/src/machines.jl:77\n",
      "\u001b[33mEvaluating over 131 metamodels:  51%[============>            ]  ETA: 0:03:06\u001b[39m┌ Warning: The scitype of `X`, in `machine(model, X, ...)` is incompatible with `model=\u001b[34mNeuralNetworkClassifier{CustomNN,…} @688\u001b[39m`:\n",
      "│ scitype(X) = Table{Union{AbstractArray{Continuous,1}, AbstractArray{Count,1}}}\n",
      "│ input_scitype(model) = Table{var\"#s44\"} where var\"#s44\"<:(AbstractArray{var\"#s13\",1} where var\"#s13\"<:Continuous).\n",
      "└ @ MLJBase /home/andrew/.julia/packages/MLJBase/uKzAz/src/machines.jl:77\n",
      "\u001b[33mEvaluating over 131 metamodels:  52%[============>            ]  ETA: 0:03:08\u001b[39m┌ Warning: The scitype of `X`, in `machine(model, X, ...)` is incompatible with `model=\u001b[34mNeuralNetworkClassifier{CustomNN,…} @299\u001b[39m`:\n",
      "│ scitype(X) = Table{Union{AbstractArray{Continuous,1}, AbstractArray{Count,1}}}\n",
      "│ input_scitype(model) = Table{var\"#s44\"} where var\"#s44\"<:(AbstractArray{var\"#s13\",1} where var\"#s13\"<:Continuous).\n",
      "└ @ MLJBase /home/andrew/.julia/packages/MLJBase/uKzAz/src/machines.jl:77\n",
      "\u001b[33mEvaluating over 131 metamodels:  53%[=============>           ]  ETA: 0:03:10\u001b[39m┌ Warning: The scitype of `X`, in `machine(model, X, ...)` is incompatible with `model=\u001b[34mNeuralNetworkClassifier{CustomNN,…} @435\u001b[39m`:\n",
      "│ scitype(X) = Table{Union{AbstractArray{Continuous,1}, AbstractArray{Count,1}}}\n",
      "│ input_scitype(model) = Table{var\"#s44\"} where var\"#s44\"<:(AbstractArray{var\"#s13\",1} where var\"#s13\"<:Continuous).\n",
      "└ @ MLJBase /home/andrew/.julia/packages/MLJBase/uKzAz/src/machines.jl:77\n",
      "\u001b[33mEvaluating over 131 metamodels:  53%[=============>           ]  ETA: 0:03:12\u001b[39m┌ Warning: The scitype of `X`, in `machine(model, X, ...)` is incompatible with `model=\u001b[34mNeuralNetworkClassifier{CustomNN,…} @263\u001b[39m`:\n",
      "│ scitype(X) = Table{Union{AbstractArray{Continuous,1}, AbstractArray{Count,1}}}\n",
      "│ input_scitype(model) = Table{var\"#s44\"} where var\"#s44\"<:(AbstractArray{var\"#s13\",1} where var\"#s13\"<:Continuous).\n",
      "└ @ MLJBase /home/andrew/.julia/packages/MLJBase/uKzAz/src/machines.jl:77\n",
      "\u001b[33mEvaluating over 131 metamodels:  54%[=============>           ]  ETA: 0:03:13\u001b[39m┌ Warning: The scitype of `X`, in `machine(model, X, ...)` is incompatible with `model=\u001b[34mNeuralNetworkClassifier{CustomNN,…} @808\u001b[39m`:\n",
      "│ scitype(X) = Table{Union{AbstractArray{Continuous,1}, AbstractArray{Count,1}}}\n",
      "│ input_scitype(model) = Table{var\"#s44\"} where var\"#s44\"<:(AbstractArray{var\"#s13\",1} where var\"#s13\"<:Continuous).\n",
      "└ @ MLJBase /home/andrew/.julia/packages/MLJBase/uKzAz/src/machines.jl:77\n",
      "\u001b[33mEvaluating over 131 metamodels:  55%[=============>           ]  ETA: 0:03:15\u001b[39m┌ Warning: The scitype of `X`, in `machine(model, X, ...)` is incompatible with `model=\u001b[34mNeuralNetworkClassifier{CustomNN,…} @538\u001b[39m`:\n",
      "│ scitype(X) = Table{Union{AbstractArray{Continuous,1}, AbstractArray{Count,1}}}\n",
      "│ input_scitype(model) = Table{var\"#s44\"} where var\"#s44\"<:(AbstractArray{var\"#s13\",1} where var\"#s13\"<:Continuous).\n",
      "└ @ MLJBase /home/andrew/.julia/packages/MLJBase/uKzAz/src/machines.jl:77\n",
      "\u001b[33mEvaluating over 131 metamodels:  56%[=============>           ]  ETA: 0:03:17\u001b[39m┌ Warning: The scitype of `X`, in `machine(model, X, ...)` is incompatible with `model=\u001b[34mNeuralNetworkClassifier{CustomNN,…} @658\u001b[39m`:\n",
      "│ scitype(X) = Table{Union{AbstractArray{Continuous,1}, AbstractArray{Count,1}}}\n",
      "│ input_scitype(model) = Table{var\"#s44\"} where var\"#s44\"<:(AbstractArray{var\"#s13\",1} where var\"#s13\"<:Continuous).\n",
      "└ @ MLJBase /home/andrew/.julia/packages/MLJBase/uKzAz/src/machines.jl:77\n",
      "\u001b[33mEvaluating over 131 metamodels:  56%[==============>          ]  ETA: 0:03:18\u001b[39m┌ Warning: The scitype of `X`, in `machine(model, X, ...)` is incompatible with `model=\u001b[34mNeuralNetworkClassifier{CustomNN,…} @601\u001b[39m`:\n",
      "│ scitype(X) = Table{Union{AbstractArray{Continuous,1}, AbstractArray{Count,1}}}\n",
      "│ input_scitype(model) = Table{var\"#s44\"} where var\"#s44\"<:(AbstractArray{var\"#s13\",1} where var\"#s13\"<:Continuous).\n",
      "└ @ MLJBase /home/andrew/.julia/packages/MLJBase/uKzAz/src/machines.jl:77\n",
      "\u001b[33mEvaluating over 131 metamodels:  57%[==============>          ]  ETA: 0:03:20\u001b[39m┌ Warning: The scitype of `X`, in `machine(model, X, ...)` is incompatible with `model=\u001b[34mNeuralNetworkClassifier{CustomNN,…} @961\u001b[39m`:\n",
      "│ scitype(X) = Table{Union{AbstractArray{Continuous,1}, AbstractArray{Count,1}}}\n",
      "│ input_scitype(model) = Table{var\"#s44\"} where var\"#s44\"<:(AbstractArray{var\"#s13\",1} where var\"#s13\"<:Continuous).\n",
      "└ @ MLJBase /home/andrew/.julia/packages/MLJBase/uKzAz/src/machines.jl:77\n",
      "\u001b[33mEvaluating over 131 metamodels:  58%[==============>          ]  ETA: 0:03:22\u001b[39m┌ Warning: The scitype of `X`, in `machine(model, X, ...)` is incompatible with `model=\u001b[34mNeuralNetworkClassifier{CustomNN,…} @932\u001b[39m`:\n",
      "│ scitype(X) = Table{Union{AbstractArray{Continuous,1}, AbstractArray{Count,1}}}\n",
      "│ input_scitype(model) = Table{var\"#s44\"} where var\"#s44\"<:(AbstractArray{var\"#s13\",1} where var\"#s13\"<:Continuous).\n",
      "└ @ MLJBase /home/andrew/.julia/packages/MLJBase/uKzAz/src/machines.jl:77\n",
      "\u001b[33mEvaluating over 131 metamodels:  59%[==============>          ]  ETA: 0:03:23\u001b[39m┌ Warning: The scitype of `X`, in `machine(model, X, ...)` is incompatible with `model=\u001b[34mNeuralNetworkClassifier{CustomNN,…} @055\u001b[39m`:\n",
      "│ scitype(X) = Table{Union{AbstractArray{Continuous,1}, AbstractArray{Count,1}}}\n",
      "│ input_scitype(model) = Table{var\"#s44\"} where var\"#s44\"<:(AbstractArray{var\"#s13\",1} where var\"#s13\"<:Continuous).\n",
      "└ @ MLJBase /home/andrew/.julia/packages/MLJBase/uKzAz/src/machines.jl:77\n",
      "\u001b[33mEvaluating over 131 metamodels:  60%[==============>          ]  ETA: 0:03:25\u001b[39m┌ Warning: The scitype of `X`, in `machine(model, X, ...)` is incompatible with `model=\u001b[34mNeuralNetworkClassifier{CustomNN,…} @437\u001b[39m`:\n",
      "│ scitype(X) = Table{Union{AbstractArray{Continuous,1}, AbstractArray{Count,1}}}\n",
      "│ input_scitype(model) = Table{var\"#s44\"} where var\"#s44\"<:(AbstractArray{var\"#s13\",1} where var\"#s13\"<:Continuous).\n",
      "└ @ MLJBase /home/andrew/.julia/packages/MLJBase/uKzAz/src/machines.jl:77\n",
      "\u001b[33mEvaluating over 131 metamodels:  60%[===============>         ]  ETA: 0:03:26\u001b[39m┌ Warning: The scitype of `X`, in `machine(model, X, ...)` is incompatible with `model=\u001b[34mNeuralNetworkClassifier{CustomNN,…} @223\u001b[39m`:\n",
      "│ scitype(X) = Table{Union{AbstractArray{Continuous,1}, AbstractArray{Count,1}}}\n",
      "│ input_scitype(model) = Table{var\"#s44\"} where var\"#s44\"<:(AbstractArray{var\"#s13\",1} where var\"#s13\"<:Continuous).\n",
      "└ @ MLJBase /home/andrew/.julia/packages/MLJBase/uKzAz/src/machines.jl:77\n",
      "\u001b[33mEvaluating over 131 metamodels:  61%[===============>         ]  ETA: 0:03:28\u001b[39m┌ Warning: The scitype of `X`, in `machine(model, X, ...)` is incompatible with `model=\u001b[34mNeuralNetworkClassifier{CustomNN,…} @160\u001b[39m`:\n",
      "│ scitype(X) = Table{Union{AbstractArray{Continuous,1}, AbstractArray{Count,1}}}\n",
      "│ input_scitype(model) = Table{var\"#s44\"} where var\"#s44\"<:(AbstractArray{var\"#s13\",1} where var\"#s13\"<:Continuous).\n",
      "└ @ MLJBase /home/andrew/.julia/packages/MLJBase/uKzAz/src/machines.jl:77\n",
      "\u001b[33mEvaluating over 131 metamodels:  62%[===============>         ]  ETA: 0:03:29\u001b[39m┌ Warning: The scitype of `X`, in `machine(model, X, ...)` is incompatible with `model=\u001b[34mNeuralNetworkClassifier{CustomNN,…} @243\u001b[39m`:\n",
      "│ scitype(X) = Table{Union{AbstractArray{Continuous,1}, AbstractArray{Count,1}}}\n",
      "│ input_scitype(model) = Table{var\"#s44\"} where var\"#s44\"<:(AbstractArray{var\"#s13\",1} where var\"#s13\"<:Continuous).\n",
      "└ @ MLJBase /home/andrew/.julia/packages/MLJBase/uKzAz/src/machines.jl:77\n",
      "\u001b[33mEvaluating over 131 metamodels:  63%[===============>         ]  ETA: 0:03:30\u001b[39m┌ Warning: The scitype of `X`, in `machine(model, X, ...)` is incompatible with `model=\u001b[34mNeuralNetworkClassifier{CustomNN,…} @873\u001b[39m`:\n",
      "│ scitype(X) = Table{Union{AbstractArray{Continuous,1}, AbstractArray{Count,1}}}\n",
      "│ input_scitype(model) = Table{var\"#s44\"} where var\"#s44\"<:(AbstractArray{var\"#s13\",1} where var\"#s13\"<:Continuous).\n",
      "└ @ MLJBase /home/andrew/.julia/packages/MLJBase/uKzAz/src/machines.jl:77\n"
     ]
    },
    {
     "name": "stderr",
     "output_type": "stream",
     "text": [
      "\u001b[33mEvaluating over 131 metamodels:  63%[===============>         ]  ETA: 0:03:32\u001b[39m┌ Warning: The scitype of `X`, in `machine(model, X, ...)` is incompatible with `model=\u001b[34mNeuralNetworkClassifier{CustomNN,…} @573\u001b[39m`:\n",
      "│ scitype(X) = Table{Union{AbstractArray{Continuous,1}, AbstractArray{Count,1}}}\n",
      "│ input_scitype(model) = Table{var\"#s44\"} where var\"#s44\"<:(AbstractArray{var\"#s13\",1} where var\"#s13\"<:Continuous).\n",
      "└ @ MLJBase /home/andrew/.julia/packages/MLJBase/uKzAz/src/machines.jl:77\n",
      "\u001b[33mEvaluating over 131 metamodels:  64%[================>        ]  ETA: 0:03:33\u001b[39m┌ Warning: The scitype of `X`, in `machine(model, X, ...)` is incompatible with `model=\u001b[34mNeuralNetworkClassifier{CustomNN,…} @027\u001b[39m`:\n",
      "│ scitype(X) = Table{Union{AbstractArray{Continuous,1}, AbstractArray{Count,1}}}\n",
      "│ input_scitype(model) = Table{var\"#s44\"} where var\"#s44\"<:(AbstractArray{var\"#s13\",1} where var\"#s13\"<:Continuous).\n",
      "└ @ MLJBase /home/andrew/.julia/packages/MLJBase/uKzAz/src/machines.jl:77\n",
      "\u001b[33mEvaluating over 131 metamodels:  65%[================>        ]  ETA: 0:03:33\u001b[39m┌ Warning: The scitype of `X`, in `machine(model, X, ...)` is incompatible with `model=\u001b[34mNeuralNetworkClassifier{CustomNN,…} @851\u001b[39m`:\n",
      "│ scitype(X) = Table{Union{AbstractArray{Continuous,1}, AbstractArray{Count,1}}}\n",
      "│ input_scitype(model) = Table{var\"#s44\"} where var\"#s44\"<:(AbstractArray{var\"#s13\",1} where var\"#s13\"<:Continuous).\n",
      "└ @ MLJBase /home/andrew/.julia/packages/MLJBase/uKzAz/src/machines.jl:77\n",
      "\u001b[33mEvaluating over 131 metamodels:  66%[================>        ]  ETA: 0:03:35\u001b[39m┌ Warning: The scitype of `X`, in `machine(model, X, ...)` is incompatible with `model=\u001b[34mNeuralNetworkClassifier{CustomNN,…} @881\u001b[39m`:\n",
      "│ scitype(X) = Table{Union{AbstractArray{Continuous,1}, AbstractArray{Count,1}}}\n",
      "│ input_scitype(model) = Table{var\"#s44\"} where var\"#s44\"<:(AbstractArray{var\"#s13\",1} where var\"#s13\"<:Continuous).\n",
      "└ @ MLJBase /home/andrew/.julia/packages/MLJBase/uKzAz/src/machines.jl:77\n",
      "\u001b[33mEvaluating over 131 metamodels:  66%[================>        ]  ETA: 0:03:35\u001b[39m┌ Warning: The scitype of `X`, in `machine(model, X, ...)` is incompatible with `model=\u001b[34mNeuralNetworkClassifier{CustomNN,…} @691\u001b[39m`:\n",
      "│ scitype(X) = Table{Union{AbstractArray{Continuous,1}, AbstractArray{Count,1}}}\n",
      "│ input_scitype(model) = Table{var\"#s44\"} where var\"#s44\"<:(AbstractArray{var\"#s13\",1} where var\"#s13\"<:Continuous).\n",
      "└ @ MLJBase /home/andrew/.julia/packages/MLJBase/uKzAz/src/machines.jl:77\n",
      "\u001b[33mEvaluating over 131 metamodels:  67%[================>        ]  ETA: 0:03:36\u001b[39m┌ Warning: The scitype of `X`, in `machine(model, X, ...)` is incompatible with `model=\u001b[34mNeuralNetworkClassifier{CustomNN,…} @487\u001b[39m`:\n",
      "│ scitype(X) = Table{Union{AbstractArray{Continuous,1}, AbstractArray{Count,1}}}\n",
      "│ input_scitype(model) = Table{var\"#s44\"} where var\"#s44\"<:(AbstractArray{var\"#s13\",1} where var\"#s13\"<:Continuous).\n",
      "└ @ MLJBase /home/andrew/.julia/packages/MLJBase/uKzAz/src/machines.jl:77\n",
      "\u001b[33mEvaluating over 131 metamodels:  68%[================>        ]  ETA: 0:03:37\u001b[39m┌ Warning: The scitype of `X`, in `machine(model, X, ...)` is incompatible with `model=\u001b[34mNeuralNetworkClassifier{CustomNN,…} @389\u001b[39m`:\n",
      "│ scitype(X) = Table{Union{AbstractArray{Continuous,1}, AbstractArray{Count,1}}}\n",
      "│ input_scitype(model) = Table{var\"#s44\"} where var\"#s44\"<:(AbstractArray{var\"#s13\",1} where var\"#s13\"<:Continuous).\n",
      "└ @ MLJBase /home/andrew/.julia/packages/MLJBase/uKzAz/src/machines.jl:77\n",
      "\u001b[33mEvaluating over 131 metamodels:  69%[=================>       ]  ETA: 0:03:37\u001b[39m┌ Warning: The scitype of `X`, in `machine(model, X, ...)` is incompatible with `model=\u001b[34mNeuralNetworkClassifier{CustomNN,…} @478\u001b[39m`:\n",
      "│ scitype(X) = Table{Union{AbstractArray{Continuous,1}, AbstractArray{Count,1}}}\n",
      "│ input_scitype(model) = Table{var\"#s44\"} where var\"#s44\"<:(AbstractArray{var\"#s13\",1} where var\"#s13\"<:Continuous).\n",
      "└ @ MLJBase /home/andrew/.julia/packages/MLJBase/uKzAz/src/machines.jl:77\n",
      "\u001b[33mEvaluating over 131 metamodels:  69%[=================>       ]  ETA: 0:03:38\u001b[39m┌ Warning: The scitype of `X`, in `machine(model, X, ...)` is incompatible with `model=\u001b[34mNeuralNetworkClassifier{CustomNN,…} @143\u001b[39m`:\n",
      "│ scitype(X) = Table{Union{AbstractArray{Continuous,1}, AbstractArray{Count,1}}}\n",
      "│ input_scitype(model) = Table{var\"#s44\"} where var\"#s44\"<:(AbstractArray{var\"#s13\",1} where var\"#s13\"<:Continuous).\n",
      "└ @ MLJBase /home/andrew/.julia/packages/MLJBase/uKzAz/src/machines.jl:77\n",
      "\u001b[33mEvaluating over 131 metamodels:  70%[=================>       ]  ETA: 0:03:38\u001b[39m┌ Warning: The scitype of `X`, in `machine(model, X, ...)` is incompatible with `model=\u001b[34mNeuralNetworkClassifier{CustomNN,…} @639\u001b[39m`:\n",
      "│ scitype(X) = Table{Union{AbstractArray{Continuous,1}, AbstractArray{Count,1}}}\n",
      "│ input_scitype(model) = Table{var\"#s44\"} where var\"#s44\"<:(AbstractArray{var\"#s13\",1} where var\"#s13\"<:Continuous).\n",
      "└ @ MLJBase /home/andrew/.julia/packages/MLJBase/uKzAz/src/machines.jl:77\n",
      "\u001b[33mEvaluating over 131 metamodels:  71%[=================>       ]  ETA: 0:03:38\u001b[39m┌ Warning: The scitype of `X`, in `machine(model, X, ...)` is incompatible with `model=\u001b[34mNeuralNetworkClassifier{CustomNN,…} @348\u001b[39m`:\n",
      "│ scitype(X) = Table{Union{AbstractArray{Continuous,1}, AbstractArray{Count,1}}}\n",
      "│ input_scitype(model) = Table{var\"#s44\"} where var\"#s44\"<:(AbstractArray{var\"#s13\",1} where var\"#s13\"<:Continuous).\n",
      "└ @ MLJBase /home/andrew/.julia/packages/MLJBase/uKzAz/src/machines.jl:77\n",
      "\u001b[33mEvaluating over 131 metamodels:  72%[=================>       ]  ETA: 0:03:39\u001b[39m┌ Warning: The scitype of `X`, in `machine(model, X, ...)` is incompatible with `model=\u001b[34mNeuralNetworkClassifier{CustomNN,…} @457\u001b[39m`:\n",
      "│ scitype(X) = Table{Union{AbstractArray{Continuous,1}, AbstractArray{Count,1}}}\n",
      "│ input_scitype(model) = Table{var\"#s44\"} where var\"#s44\"<:(AbstractArray{var\"#s13\",1} where var\"#s13\"<:Continuous).\n",
      "└ @ MLJBase /home/andrew/.julia/packages/MLJBase/uKzAz/src/machines.jl:77\n",
      "\u001b[33mEvaluating over 131 metamodels:  73%[==================>      ]  ETA: 0:03:39\u001b[39m┌ Warning: The scitype of `X`, in `machine(model, X, ...)` is incompatible with `model=\u001b[34mNeuralNetworkClassifier{CustomNN,…} @532\u001b[39m`:\n",
      "│ scitype(X) = Table{Union{AbstractArray{Continuous,1}, AbstractArray{Count,1}}}\n",
      "│ input_scitype(model) = Table{var\"#s44\"} where var\"#s44\"<:(AbstractArray{var\"#s13\",1} where var\"#s13\"<:Continuous).\n",
      "└ @ MLJBase /home/andrew/.julia/packages/MLJBase/uKzAz/src/machines.jl:77\n",
      "\u001b[33mEvaluating over 131 metamodels:  73%[==================>      ]  ETA: 0:03:39\u001b[39m┌ Warning: The scitype of `X`, in `machine(model, X, ...)` is incompatible with `model=\u001b[34mNeuralNetworkClassifier{CustomNN,…} @756\u001b[39m`:\n",
      "│ scitype(X) = Table{Union{AbstractArray{Continuous,1}, AbstractArray{Count,1}}}\n",
      "│ input_scitype(model) = Table{var\"#s44\"} where var\"#s44\"<:(AbstractArray{var\"#s13\",1} where var\"#s13\"<:Continuous).\n",
      "└ @ MLJBase /home/andrew/.julia/packages/MLJBase/uKzAz/src/machines.jl:77\n",
      "\u001b[33mEvaluating over 131 metamodels:  74%[==================>      ]  ETA: 0:03:39\u001b[39m┌ Warning: The scitype of `X`, in `machine(model, X, ...)` is incompatible with `model=\u001b[34mNeuralNetworkClassifier{CustomNN,…} @433\u001b[39m`:\n",
      "│ scitype(X) = Table{Union{AbstractArray{Continuous,1}, AbstractArray{Count,1}}}\n",
      "│ input_scitype(model) = Table{var\"#s44\"} where var\"#s44\"<:(AbstractArray{var\"#s13\",1} where var\"#s13\"<:Continuous).\n",
      "└ @ MLJBase /home/andrew/.julia/packages/MLJBase/uKzAz/src/machines.jl:77\n",
      "\u001b[33mEvaluating over 131 metamodels:  75%[==================>      ]  ETA: 0:03:38\u001b[39m┌ Warning: The scitype of `X`, in `machine(model, X, ...)` is incompatible with `model=\u001b[34mNeuralNetworkClassifier{CustomNN,…} @398\u001b[39m`:\n",
      "│ scitype(X) = Table{Union{AbstractArray{Continuous,1}, AbstractArray{Count,1}}}\n",
      "│ input_scitype(model) = Table{var\"#s44\"} where var\"#s44\"<:(AbstractArray{var\"#s13\",1} where var\"#s13\"<:Continuous).\n",
      "└ @ MLJBase /home/andrew/.julia/packages/MLJBase/uKzAz/src/machines.jl:77\n",
      "\u001b[33mEvaluating over 131 metamodels:  76%[==================>      ]  ETA: 0:03:38\u001b[39m┌ Warning: The scitype of `X`, in `machine(model, X, ...)` is incompatible with `model=\u001b[34mNeuralNetworkClassifier{CustomNN,…} @047\u001b[39m`:\n",
      "│ scitype(X) = Table{Union{AbstractArray{Continuous,1}, AbstractArray{Count,1}}}\n",
      "│ input_scitype(model) = Table{var\"#s44\"} where var\"#s44\"<:(AbstractArray{var\"#s13\",1} where var\"#s13\"<:Continuous).\n",
      "└ @ MLJBase /home/andrew/.julia/packages/MLJBase/uKzAz/src/machines.jl:77\n"
     ]
    },
    {
     "name": "stderr",
     "output_type": "stream",
     "text": [
      "\u001b[33mEvaluating over 131 metamodels:  76%[===================>     ]  ETA: 0:03:37\u001b[39m┌ Warning: The scitype of `X`, in `machine(model, X, ...)` is incompatible with `model=\u001b[34mNeuralNetworkClassifier{CustomNN,…} @629\u001b[39m`:\n",
      "│ scitype(X) = Table{Union{AbstractArray{Continuous,1}, AbstractArray{Count,1}}}\n",
      "│ input_scitype(model) = Table{var\"#s44\"} where var\"#s44\"<:(AbstractArray{var\"#s13\",1} where var\"#s13\"<:Continuous).\n",
      "└ @ MLJBase /home/andrew/.julia/packages/MLJBase/uKzAz/src/machines.jl:77\n",
      "\u001b[33mEvaluating over 131 metamodels:  77%[===================>     ]  ETA: 0:03:36\u001b[39m┌ Warning: The scitype of `X`, in `machine(model, X, ...)` is incompatible with `model=\u001b[34mNeuralNetworkClassifier{CustomNN,…} @030\u001b[39m`:\n",
      "│ scitype(X) = Table{Union{AbstractArray{Continuous,1}, AbstractArray{Count,1}}}\n",
      "│ input_scitype(model) = Table{var\"#s44\"} where var\"#s44\"<:(AbstractArray{var\"#s13\",1} where var\"#s13\"<:Continuous).\n",
      "└ @ MLJBase /home/andrew/.julia/packages/MLJBase/uKzAz/src/machines.jl:77\n",
      "\u001b[33mEvaluating over 131 metamodels:  78%[===================>     ]  ETA: 0:03:35\u001b[39m┌ Warning: The scitype of `X`, in `machine(model, X, ...)` is incompatible with `model=\u001b[34mNeuralNetworkClassifier{CustomNN,…} @209\u001b[39m`:\n",
      "│ scitype(X) = Table{Union{AbstractArray{Continuous,1}, AbstractArray{Count,1}}}\n",
      "│ input_scitype(model) = Table{var\"#s44\"} where var\"#s44\"<:(AbstractArray{var\"#s13\",1} where var\"#s13\"<:Continuous).\n",
      "└ @ MLJBase /home/andrew/.julia/packages/MLJBase/uKzAz/src/machines.jl:77\n",
      "\u001b[33mEvaluating over 131 metamodels:  79%[===================>     ]  ETA: 0:03:34\u001b[39m┌ Warning: The scitype of `X`, in `machine(model, X, ...)` is incompatible with `model=\u001b[34mNeuralNetworkClassifier{CustomNN,…} @300\u001b[39m`:\n",
      "│ scitype(X) = Table{Union{AbstractArray{Continuous,1}, AbstractArray{Count,1}}}\n",
      "│ input_scitype(model) = Table{var\"#s44\"} where var\"#s44\"<:(AbstractArray{var\"#s13\",1} where var\"#s13\"<:Continuous).\n",
      "└ @ MLJBase /home/andrew/.julia/packages/MLJBase/uKzAz/src/machines.jl:77\n",
      "\u001b[33mEvaluating over 131 metamodels:  79%[===================>     ]  ETA: 0:03:32\u001b[39m┌ Warning: The scitype of `X`, in `machine(model, X, ...)` is incompatible with `model=\u001b[34mNeuralNetworkClassifier{CustomNN,…} @104\u001b[39m`:\n",
      "│ scitype(X) = Table{Union{AbstractArray{Continuous,1}, AbstractArray{Count,1}}}\n",
      "│ input_scitype(model) = Table{var\"#s44\"} where var\"#s44\"<:(AbstractArray{var\"#s13\",1} where var\"#s13\"<:Continuous).\n",
      "└ @ MLJBase /home/andrew/.julia/packages/MLJBase/uKzAz/src/machines.jl:77\n",
      "\u001b[33mEvaluating over 131 metamodels:  80%[====================>    ]  ETA: 0:03:30\u001b[39m┌ Warning: The scitype of `X`, in `machine(model, X, ...)` is incompatible with `model=\u001b[34mNeuralNetworkClassifier{CustomNN,…} @440\u001b[39m`:\n",
      "│ scitype(X) = Table{Union{AbstractArray{Continuous,1}, AbstractArray{Count,1}}}\n",
      "│ input_scitype(model) = Table{var\"#s44\"} where var\"#s44\"<:(AbstractArray{var\"#s13\",1} where var\"#s13\"<:Continuous).\n",
      "└ @ MLJBase /home/andrew/.julia/packages/MLJBase/uKzAz/src/machines.jl:77\n",
      "\u001b[33mEvaluating over 131 metamodels:  81%[====================>    ]  ETA: 0:03:28\u001b[39m┌ Warning: The scitype of `X`, in `machine(model, X, ...)` is incompatible with `model=\u001b[34mNeuralNetworkClassifier{CustomNN,…} @322\u001b[39m`:\n",
      "│ scitype(X) = Table{Union{AbstractArray{Continuous,1}, AbstractArray{Count,1}}}\n",
      "│ input_scitype(model) = Table{var\"#s44\"} where var\"#s44\"<:(AbstractArray{var\"#s13\",1} where var\"#s13\"<:Continuous).\n",
      "└ @ MLJBase /home/andrew/.julia/packages/MLJBase/uKzAz/src/machines.jl:77\n",
      "\u001b[33mEvaluating over 131 metamodels:  82%[====================>    ]  ETA: 0:03:25\u001b[39m┌ Warning: The scitype of `X`, in `machine(model, X, ...)` is incompatible with `model=\u001b[34mNeuralNetworkClassifier{CustomNN,…} @667\u001b[39m`:\n",
      "│ scitype(X) = Table{Union{AbstractArray{Continuous,1}, AbstractArray{Count,1}}}\n",
      "│ input_scitype(model) = Table{var\"#s44\"} where var\"#s44\"<:(AbstractArray{var\"#s13\",1} where var\"#s13\"<:Continuous).\n",
      "└ @ MLJBase /home/andrew/.julia/packages/MLJBase/uKzAz/src/machines.jl:77\n",
      "\u001b[33mEvaluating over 131 metamodels:  82%[====================>    ]  ETA: 0:03:22\u001b[39m┌ Warning: The scitype of `X`, in `machine(model, X, ...)` is incompatible with `model=\u001b[34mNeuralNetworkClassifier{CustomNN,…} @376\u001b[39m`:\n",
      "│ scitype(X) = Table{Union{AbstractArray{Continuous,1}, AbstractArray{Count,1}}}\n",
      "│ input_scitype(model) = Table{var\"#s44\"} where var\"#s44\"<:(AbstractArray{var\"#s13\",1} where var\"#s13\"<:Continuous).\n",
      "└ @ MLJBase /home/andrew/.julia/packages/MLJBase/uKzAz/src/machines.jl:77\n",
      "\u001b[33mEvaluating over 131 metamodels:  83%[====================>    ]  ETA: 0:03:19\u001b[39m┌ Warning: The scitype of `X`, in `machine(model, X, ...)` is incompatible with `model=\u001b[34mNeuralNetworkClassifier{CustomNN,…} @686\u001b[39m`:\n",
      "│ scitype(X) = Table{Union{AbstractArray{Continuous,1}, AbstractArray{Count,1}}}\n",
      "│ input_scitype(model) = Table{var\"#s44\"} where var\"#s44\"<:(AbstractArray{var\"#s13\",1} where var\"#s13\"<:Continuous).\n",
      "└ @ MLJBase /home/andrew/.julia/packages/MLJBase/uKzAz/src/machines.jl:77\n",
      "\u001b[33mEvaluating over 131 metamodels:  84%[====================>    ]  ETA: 0:03:16\u001b[39m┌ Warning: The scitype of `X`, in `machine(model, X, ...)` is incompatible with `model=\u001b[34mNeuralNetworkClassifier{CustomNN,…} @043\u001b[39m`:\n",
      "│ scitype(X) = Table{Union{AbstractArray{Continuous,1}, AbstractArray{Count,1}}}\n",
      "│ input_scitype(model) = Table{var\"#s44\"} where var\"#s44\"<:(AbstractArray{var\"#s13\",1} where var\"#s13\"<:Continuous).\n",
      "└ @ MLJBase /home/andrew/.julia/packages/MLJBase/uKzAz/src/machines.jl:77\n",
      "\u001b[33mEvaluating over 131 metamodels:  85%[=====================>   ]  ETA: 0:03:12\u001b[39m┌ Warning: The scitype of `X`, in `machine(model, X, ...)` is incompatible with `model=\u001b[34mNeuralNetworkClassifier{CustomNN,…} @762\u001b[39m`:\n",
      "│ scitype(X) = Table{Union{AbstractArray{Continuous,1}, AbstractArray{Count,1}}}\n",
      "│ input_scitype(model) = Table{var\"#s44\"} where var\"#s44\"<:(AbstractArray{var\"#s13\",1} where var\"#s13\"<:Continuous).\n",
      "└ @ MLJBase /home/andrew/.julia/packages/MLJBase/uKzAz/src/machines.jl:77\n",
      "\u001b[33mEvaluating over 131 metamodels:  85%[=====================>   ]  ETA: 0:03:08\u001b[39m┌ Warning: The scitype of `X`, in `machine(model, X, ...)` is incompatible with `model=\u001b[34mNeuralNetworkClassifier{CustomNN,…} @917\u001b[39m`:\n",
      "│ scitype(X) = Table{Union{AbstractArray{Continuous,1}, AbstractArray{Count,1}}}\n",
      "│ input_scitype(model) = Table{var\"#s44\"} where var\"#s44\"<:(AbstractArray{var\"#s13\",1} where var\"#s13\"<:Continuous).\n",
      "└ @ MLJBase /home/andrew/.julia/packages/MLJBase/uKzAz/src/machines.jl:77\n",
      "\u001b[33mEvaluating over 131 metamodels:  86%[=====================>   ]  ETA: 0:03:03\u001b[39m┌ Warning: The scitype of `X`, in `machine(model, X, ...)` is incompatible with `model=\u001b[34mNeuralNetworkClassifier{CustomNN,…} @394\u001b[39m`:\n",
      "│ scitype(X) = Table{Union{AbstractArray{Continuous,1}, AbstractArray{Count,1}}}\n",
      "│ input_scitype(model) = Table{var\"#s44\"} where var\"#s44\"<:(AbstractArray{var\"#s13\",1} where var\"#s13\"<:Continuous).\n",
      "└ @ MLJBase /home/andrew/.julia/packages/MLJBase/uKzAz/src/machines.jl:77\n",
      "\u001b[33mEvaluating over 131 metamodels:  87%[=====================>   ]  ETA: 0:02:58\u001b[39m┌ Warning: The scitype of `X`, in `machine(model, X, ...)` is incompatible with `model=\u001b[34mNeuralNetworkClassifier{CustomNN,…} @384\u001b[39m`:\n",
      "│ scitype(X) = Table{Union{AbstractArray{Continuous,1}, AbstractArray{Count,1}}}\n",
      "│ input_scitype(model) = Table{var\"#s44\"} where var\"#s44\"<:(AbstractArray{var\"#s13\",1} where var\"#s13\"<:Continuous).\n",
      "└ @ MLJBase /home/andrew/.julia/packages/MLJBase/uKzAz/src/machines.jl:77\n",
      "\u001b[33mEvaluating over 131 metamodels:  88%[=====================>   ]  ETA: 0:02:53\u001b[39m┌ Warning: The scitype of `X`, in `machine(model, X, ...)` is incompatible with `model=\u001b[34mNeuralNetworkClassifier{CustomNN,…} @044\u001b[39m`:\n",
      "│ scitype(X) = Table{Union{AbstractArray{Continuous,1}, AbstractArray{Count,1}}}\n",
      "│ input_scitype(model) = Table{var\"#s44\"} where var\"#s44\"<:(AbstractArray{var\"#s13\",1} where var\"#s13\"<:Continuous).\n",
      "└ @ MLJBase /home/andrew/.julia/packages/MLJBase/uKzAz/src/machines.jl:77\n",
      "\u001b[33mEvaluating over 131 metamodels:  89%[======================>  ]  ETA: 0:02:47\u001b[39m"
     ]
    }
   ],
   "source": [
    "curve = MLJ.learning_curve(Net, \n",
    "                        range=r, \n",
    "#                         resampling=Holdout(fraction_train=0.7), \n",
    "                        resampling=CV(nfolds=4), \n",
    "                        measure=cross_entropy, \n",
    "                        acceleration=CPUProcesses(),\n",
    "                        resolution=200\n",
    ")"
   ]
  },
  {
   "cell_type": "code",
   "execution_count": null,
   "metadata": {},
   "outputs": [],
   "source": [
    "plot(curve.parameter_values,\n",
    "     curve.measurements,\n",
    "     xlab=curve.parameter_name,\n",
    "     ylab=\"Cross Entropy\",\n",
    "     label=\"Validation\", lw=2)\n",
    "plot!(Net.report.training_losses, label=\"Training\", lw=2)"
   ]
  },
  {
   "cell_type": "code",
   "execution_count": null,
   "metadata": {},
   "outputs": [],
   "source": [
    "best_epochs = curve.parameter_values[argmin(curve.measurements)]"
   ]
  },
  {
   "cell_type": "code",
   "execution_count": null,
   "metadata": {},
   "outputs": [],
   "source": [
    "png(\"Figures/learning_curve_nn_$(best_epochs)epochs_balance\")"
   ]
  },
  {
   "cell_type": "markdown",
   "metadata": {},
   "source": [
    "# Final Results"
   ]
  },
  {
   "cell_type": "code",
   "execution_count": null,
   "metadata": {
    "scrolled": true
   },
   "outputs": [],
   "source": [
    "final_model = NeuralNetworkClassifier(builder=CustomNN(best_n1))"
   ]
  },
  {
   "cell_type": "code",
   "execution_count": null,
   "metadata": {},
   "outputs": [],
   "source": [
    "final_model.optimiser.eta = lc_model.optimiser.eta = best_eta;\n",
    "final_model.batch_size = batch_sz\n",
    "final_model.lambda = best_lambda\n",
    "final_model.epochs = best_epochs"
   ]
  },
  {
   "cell_type": "markdown",
   "metadata": {},
   "source": [
    "### Test Performance"
   ]
  },
  {
   "cell_type": "code",
   "execution_count": null,
   "metadata": {},
   "outputs": [],
   "source": [
    "Final_Net = machine(final_model, X_stand, y)"
   ]
  },
  {
   "cell_type": "code",
   "execution_count": null,
   "metadata": {
    "scrolled": false
   },
   "outputs": [],
   "source": [
    "fit!(Final_Net, rows=train, force=true, verbosity=1)"
   ]
  },
  {
   "cell_type": "code",
   "execution_count": null,
   "metadata": {},
   "outputs": [],
   "source": [
    "nn_acc = evaluate!(Final_Net, resampling=CV(shuffle=true), measure=[cross_entropy, acc], verbosity=1)"
   ]
  },
  {
   "cell_type": "code",
   "execution_count": null,
   "metadata": {},
   "outputs": [],
   "source": [
    "ŷ = MLJ.predict(Final_Net, X_stand[test,:]);"
   ]
  },
  {
   "cell_type": "code",
   "execution_count": null,
   "metadata": {},
   "outputs": [],
   "source": [
    "cross_entropy(ŷ, y[test]) |> mean"
   ]
  },
  {
   "cell_type": "code",
   "execution_count": 113,
   "metadata": {},
   "outputs": [
    {
     "data": {
      "text/plain": [
       "0.9274447949526814"
      ]
     },
     "execution_count": 113,
     "metadata": {},
     "output_type": "execute_result"
    }
   ],
   "source": [
    "acc(ŷ, y[test])"
   ]
  },
  {
   "cell_type": "code",
   "execution_count": 114,
   "metadata": {},
   "outputs": [
    {
     "name": "stderr",
     "output_type": "stream",
     "text": [
      "┌ Warning: The classes are un-ordered,\n",
      "│ using: negative='NRB' and positive='RB'.\n",
      "│ To suppress this warning, consider coercing to OrderedFactor.\n",
      "└ @ MLJBase /home/andrew/.julia/packages/MLJBase/uKzAz/src/measures/confusion_matrix.jl:83\n"
     ]
    },
    {
     "data": {
      "text/plain": [
       "              ┌───────────────────────────┐\n",
       "              │       Ground Truth        │\n",
       "┌─────────────┼─────────────┬─────────────┤\n",
       "│  Predicted  │     NRB     │     RB      │\n",
       "├─────────────┼─────────────┼─────────────┤\n",
       "│     NRB     │     199     │     12      │\n",
       "├─────────────┼─────────────┼─────────────┤\n",
       "│     RB      │     11      │     95      │\n",
       "└─────────────┴─────────────┴─────────────┘\n"
      ]
     },
     "execution_count": 114,
     "metadata": {},
     "output_type": "execute_result"
    }
   ],
   "source": [
    "confusion_matrix(mode.(ŷ), y[test])"
   ]
  },
  {
   "cell_type": "code",
   "execution_count": 93,
   "metadata": {},
   "outputs": [
    {
     "data": {
      "text/plain": [
       "(chain = Chain(Chain(Dense(41, 132, σ), Dense(132, 2, σ)), softmax),)"
      ]
     },
     "execution_count": 93,
     "metadata": {},
     "output_type": "execute_result"
    }
   ],
   "source": [
    "fitted_params(Final_Net)"
   ]
  },
  {
   "cell_type": "code",
   "execution_count": 94,
   "metadata": {
    "scrolled": true
   },
   "outputs": [
    {
     "data": {
      "text/plain": [
       "(training_losses = Any[0.45760855f0, 0.4432322f0, 0.44047296f0, 0.43934405f0, 0.43470815f0, 0.43359315f0, 0.43059272f0, 0.42656052f0, 0.4221066f0, 0.42051736f0  …  0.35834074f0, 0.35877413f0, 0.35743695f0, 0.3563093f0, 0.3559019f0, 0.35592437f0, 0.35514218f0, 0.35471922f0, 0.35466245f0, 0.35458267f0],)"
      ]
     },
     "execution_count": 94,
     "metadata": {},
     "output_type": "execute_result"
    }
   ],
   "source": [
    "report(Final_Net)"
   ]
  },
  {
   "cell_type": "code",
   "execution_count": null,
   "metadata": {},
   "outputs": [],
   "source": []
  }
 ],
 "metadata": {
  "kernelspec": {
   "display_name": "Julia 1.5.0",
   "language": "julia",
   "name": "julia-1.5"
  },
  "language_info": {
   "file_extension": ".jl",
   "mimetype": "application/julia",
   "name": "julia",
   "version": "1.5.0"
  }
 },
 "nbformat": 4,
 "nbformat_minor": 4
}
