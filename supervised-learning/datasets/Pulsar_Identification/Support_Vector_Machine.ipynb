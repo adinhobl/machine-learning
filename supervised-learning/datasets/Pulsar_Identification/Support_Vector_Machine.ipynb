{
 "cells": [
  {
   "cell_type": "markdown",
   "metadata": {},
   "source": [
    "# Imports"
   ]
  },
  {
   "cell_type": "code",
   "execution_count": 1,
   "metadata": {},
   "outputs": [
    {
     "name": "stderr",
     "output_type": "stream",
     "text": [
      "┌ Info: Precompiling DataFrames [a93c6f00-e57d-5684-b7b6-d8193f3e46c0]\n",
      "└ @ Base loading.jl:1278\n",
      "┌ Info: Precompiling CSV [336ed68f-0bac-5ca0-87d4-7b16caf5d00b]\n",
      "└ @ Base loading.jl:1278\n",
      "┌ Info: Precompiling MLJ [add582a8-e3ab-11e8-2d5e-e98b27df1bc7]\n",
      "└ @ Base loading.jl:1278\n",
      "[ Info: Model metadata loaded from registry. \n",
      "┌ Info: Precompiling Plots [91a5bcdd-55d7-5caf-9e0b-520d859cae80]\n",
      "└ @ Base loading.jl:1278\n"
     ]
    }
   ],
   "source": [
    "using DataFrames\n",
    "using CSV\n",
    "using MLJ\n",
    "using Plots\n",
    "using StatsBase\n",
    "\n",
    "include(\"../../lib.jl\")\n",
    "\n",
    "ENV[\"LINES\"]=30;"
   ]
  },
  {
   "cell_type": "markdown",
   "metadata": {},
   "source": [
    "# Datasets"
   ]
  },
  {
   "cell_type": "code",
   "execution_count": 2,
   "metadata": {},
   "outputs": [
    {
     "data": {
      "text/html": [
       "<table class=\"data-frame\"><thead><tr><th></th><th> Mean of the integrated profile</th><th> Standard deviation of the integrated profile</th></tr><tr><th></th><th>Float64</th><th>Float64</th></tr></thead><tbody><p>17,898 rows × 9 columns (omitted printing of 7 columns)</p><tr><th>1</th><td>140.562</td><td>55.6838</td></tr><tr><th>2</th><td>102.508</td><td>58.8824</td></tr><tr><th>3</th><td>103.016</td><td>39.3416</td></tr><tr><th>4</th><td>136.75</td><td>57.1784</td></tr><tr><th>5</th><td>88.7266</td><td>40.6722</td></tr><tr><th>6</th><td>93.5703</td><td>46.6981</td></tr><tr><th>7</th><td>119.484</td><td>48.7651</td></tr><tr><th>8</th><td>130.383</td><td>39.8441</td></tr><tr><th>9</th><td>107.25</td><td>52.6271</td></tr><tr><th>10</th><td>107.258</td><td>39.4965</td></tr><tr><th>11</th><td>142.078</td><td>45.2881</td></tr><tr><th>12</th><td>133.258</td><td>44.0582</td></tr><tr><th>13</th><td>134.961</td><td>49.5543</td></tr><tr><th>14</th><td>117.945</td><td>45.5066</td></tr><tr><th>15</th><td>138.18</td><td>51.5245</td></tr><tr><th>16</th><td>114.367</td><td>51.9457</td></tr><tr><th>17</th><td>109.641</td><td>49.0177</td></tr><tr><th>18</th><td>100.852</td><td>51.7435</td></tr><tr><th>19</th><td>136.094</td><td>51.691</td></tr><tr><th>20</th><td>99.3672</td><td>41.5722</td></tr><tr><th>21</th><td>100.891</td><td>51.8904</td></tr><tr><th>22</th><td>105.445</td><td>41.14</td></tr><tr><th>23</th><td>95.8672</td><td>42.0599</td></tr><tr><th>24</th><td>117.367</td><td>53.9086</td></tr><tr><th>25</th><td>106.648</td><td>56.3672</td></tr><tr><th>26</th><td>112.719</td><td>50.3013</td></tr><tr><th>27</th><td>130.852</td><td>52.4329</td></tr><tr><th>28</th><td>119.438</td><td>52.8748</td></tr><tr><th>29</th><td>123.211</td><td>51.078</td></tr><tr><th>30</th><td>102.617</td><td>49.6924</td></tr><tr><th>&vellip;</th><td>&vellip;</td><td>&vellip;</td></tr></tbody></table>"
      ],
      "text/latex": [
       "\\begin{tabular}{r|ccc}\n",
       "\t&  Mean of the integrated profile &  Standard deviation of the integrated profile & \\\\\n",
       "\t\\hline\n",
       "\t& Float64 & Float64 & \\\\\n",
       "\t\\hline\n",
       "\t1 & 140.562 & 55.6838 & $\\dots$ \\\\\n",
       "\t2 & 102.508 & 58.8824 & $\\dots$ \\\\\n",
       "\t3 & 103.016 & 39.3416 & $\\dots$ \\\\\n",
       "\t4 & 136.75 & 57.1784 & $\\dots$ \\\\\n",
       "\t5 & 88.7266 & 40.6722 & $\\dots$ \\\\\n",
       "\t6 & 93.5703 & 46.6981 & $\\dots$ \\\\\n",
       "\t7 & 119.484 & 48.7651 & $\\dots$ \\\\\n",
       "\t8 & 130.383 & 39.8441 & $\\dots$ \\\\\n",
       "\t9 & 107.25 & 52.6271 & $\\dots$ \\\\\n",
       "\t10 & 107.258 & 39.4965 & $\\dots$ \\\\\n",
       "\t11 & 142.078 & 45.2881 & $\\dots$ \\\\\n",
       "\t12 & 133.258 & 44.0582 & $\\dots$ \\\\\n",
       "\t13 & 134.961 & 49.5543 & $\\dots$ \\\\\n",
       "\t14 & 117.945 & 45.5066 & $\\dots$ \\\\\n",
       "\t15 & 138.18 & 51.5245 & $\\dots$ \\\\\n",
       "\t16 & 114.367 & 51.9457 & $\\dots$ \\\\\n",
       "\t17 & 109.641 & 49.0177 & $\\dots$ \\\\\n",
       "\t18 & 100.852 & 51.7435 & $\\dots$ \\\\\n",
       "\t19 & 136.094 & 51.691 & $\\dots$ \\\\\n",
       "\t20 & 99.3672 & 41.5722 & $\\dots$ \\\\\n",
       "\t21 & 100.891 & 51.8904 & $\\dots$ \\\\\n",
       "\t22 & 105.445 & 41.14 & $\\dots$ \\\\\n",
       "\t23 & 95.8672 & 42.0599 & $\\dots$ \\\\\n",
       "\t24 & 117.367 & 53.9086 & $\\dots$ \\\\\n",
       "\t25 & 106.648 & 56.3672 & $\\dots$ \\\\\n",
       "\t26 & 112.719 & 50.3013 & $\\dots$ \\\\\n",
       "\t27 & 130.852 & 52.4329 & $\\dots$ \\\\\n",
       "\t28 & 119.438 & 52.8748 & $\\dots$ \\\\\n",
       "\t29 & 123.211 & 51.078 & $\\dots$ \\\\\n",
       "\t30 & 102.617 & 49.6924 & $\\dots$ \\\\\n",
       "\t$\\dots$ & $\\dots$ & $\\dots$ &  \\\\\n",
       "\\end{tabular}\n"
      ],
      "text/plain": [
       "17898×9 DataFrame. Omitted printing of 8 columns\n",
       "│ Row   │  Mean of the integrated profile │\n",
       "│       │ \u001b[90mFloat64\u001b[39m                         │\n",
       "├───────┼─────────────────────────────────┤\n",
       "│ 1     │ 140.562                         │\n",
       "│ 2     │ 102.508                         │\n",
       "│ 3     │ 103.016                         │\n",
       "│ 4     │ 136.75                          │\n",
       "│ 5     │ 88.7266                         │\n",
       "│ 6     │ 93.5703                         │\n",
       "│ 7     │ 119.484                         │\n",
       "│ 8     │ 130.383                         │\n",
       "│ 9     │ 107.25                          │\n",
       "│ 10    │ 107.258                         │\n",
       "⋮\n",
       "│ 17888 │ 121.375                         │\n",
       "│ 17889 │ 98.7266                         │\n",
       "│ 17890 │ 126.625                         │\n",
       "│ 17891 │ 143.672                         │\n",
       "│ 17892 │ 118.484                         │\n",
       "│ 17893 │ 96.0                            │\n",
       "│ 17894 │ 136.43                          │\n",
       "│ 17895 │ 122.555                         │\n",
       "│ 17896 │ 119.336                         │\n",
       "│ 17897 │ 114.508                         │\n",
       "│ 17898 │ 57.0625                         │"
      ]
     },
     "execution_count": 2,
     "metadata": {},
     "output_type": "execute_result"
    }
   ],
   "source": [
    "data = CSV.read(\"./data.csv\")"
   ]
  },
  {
   "cell_type": "code",
   "execution_count": 3,
   "metadata": {},
   "outputs": [
    {
     "data": {
      "text/html": [
       "<table class=\"data-frame\"><thead><tr><th></th><th>variable</th><th>mean</th><th>min</th><th>median</th><th>max</th></tr><tr><th></th><th>Symbol</th><th>Float64</th><th>Real</th><th>Float64</th><th>Real</th></tr></thead><tbody><p>9 rows × 8 columns (omitted printing of 3 columns)</p><tr><th>1</th><td> Mean of the integrated profile</td><td>111.08</td><td>5.8125</td><td>115.078</td><td>192.617</td></tr><tr><th>2</th><td> Standard deviation of the integrated profile</td><td>46.5495</td><td>24.772</td><td>46.9475</td><td>98.7789</td></tr><tr><th>3</th><td> Excess kurtosis of the integrated profile</td><td>0.477857</td><td>-1.87601</td><td>0.22324</td><td>8.06952</td></tr><tr><th>4</th><td> Skewness of the integrated profile</td><td>1.77028</td><td>-1.79189</td><td>0.19871</td><td>68.1016</td></tr><tr><th>5</th><td> Mean of the DM-SNR curve</td><td>12.6144</td><td>0.213211</td><td>2.80184</td><td>223.392</td></tr><tr><th>6</th><td> Standard deviation of the DM-SNR curve</td><td>26.3265</td><td>7.37043</td><td>18.4613</td><td>110.642</td></tr><tr><th>7</th><td> Excess kurtosis of the DM-SNR curve</td><td>8.30356</td><td>-3.13927</td><td>8.43351</td><td>34.5398</td></tr><tr><th>8</th><td> Skewness of the DM-SNR curve</td><td>104.858</td><td>-1.97698</td><td>83.0646</td><td>1191.0</td></tr><tr><th>9</th><td>target_class</td><td>0.0915745</td><td>0</td><td>0.0</td><td>1</td></tr></tbody></table>"
      ],
      "text/latex": [
       "\\begin{tabular}{r|cccccc}\n",
       "\t& variable & mean & min & median & max & \\\\\n",
       "\t\\hline\n",
       "\t& Symbol & Float64 & Real & Float64 & Real & \\\\\n",
       "\t\\hline\n",
       "\t1 &  Mean of the integrated profile & 111.08 & 5.8125 & 115.078 & 192.617 & $\\dots$ \\\\\n",
       "\t2 &  Standard deviation of the integrated profile & 46.5495 & 24.772 & 46.9475 & 98.7789 & $\\dots$ \\\\\n",
       "\t3 &  Excess kurtosis of the integrated profile & 0.477857 & -1.87601 & 0.22324 & 8.06952 & $\\dots$ \\\\\n",
       "\t4 &  Skewness of the integrated profile & 1.77028 & -1.79189 & 0.19871 & 68.1016 & $\\dots$ \\\\\n",
       "\t5 &  Mean of the DM-SNR curve & 12.6144 & 0.213211 & 2.80184 & 223.392 & $\\dots$ \\\\\n",
       "\t6 &  Standard deviation of the DM-SNR curve & 26.3265 & 7.37043 & 18.4613 & 110.642 & $\\dots$ \\\\\n",
       "\t7 &  Excess kurtosis of the DM-SNR curve & 8.30356 & -3.13927 & 8.43351 & 34.5398 & $\\dots$ \\\\\n",
       "\t8 &  Skewness of the DM-SNR curve & 104.858 & -1.97698 & 83.0646 & 1191.0 & $\\dots$ \\\\\n",
       "\t9 & target\\_class & 0.0915745 & 0 & 0.0 & 1 & $\\dots$ \\\\\n",
       "\\end{tabular}\n"
      ],
      "text/plain": [
       "9×8 DataFrame. Omitted printing of 5 columns\n",
       "│ Row │ variable                                      │ mean      │ min      │\n",
       "│     │ \u001b[90mSymbol\u001b[39m                                        │ \u001b[90mFloat64\u001b[39m   │ \u001b[90mReal\u001b[39m     │\n",
       "├─────┼───────────────────────────────────────────────┼───────────┼──────────┤\n",
       "│ 1   │  Mean of the integrated profile               │ 111.08    │ 5.8125   │\n",
       "│ 2   │  Standard deviation of the integrated profile │ 46.5495   │ 24.772   │\n",
       "│ 3   │  Excess kurtosis of the integrated profile    │ 0.477857  │ -1.87601 │\n",
       "│ 4   │  Skewness of the integrated profile           │ 1.77028   │ -1.79189 │\n",
       "│ 5   │  Mean of the DM-SNR curve                     │ 12.6144   │ 0.213211 │\n",
       "│ 6   │  Standard deviation of the DM-SNR curve       │ 26.3265   │ 7.37043  │\n",
       "│ 7   │  Excess kurtosis of the DM-SNR curve          │ 8.30356   │ -3.13927 │\n",
       "│ 8   │  Skewness of the DM-SNR curve                 │ 104.858   │ -1.97698 │\n",
       "│ 9   │ target_class                                  │ 0.0915745 │ 0        │"
      ]
     },
     "execution_count": 3,
     "metadata": {},
     "output_type": "execute_result"
    }
   ],
   "source": [
    "describe(data)"
   ]
  },
  {
   "cell_type": "markdown",
   "metadata": {},
   "source": [
    "Look at class labels to see if dataset is imbalanced"
   ]
  },
  {
   "cell_type": "code",
   "execution_count": 4,
   "metadata": {},
   "outputs": [
    {
     "data": {
      "text/plain": [
       "Dict{Int64,Int64} with 2 entries:\n",
       "  0 => 16259\n",
       "  1 => 1639"
      ]
     },
     "execution_count": 4,
     "metadata": {},
     "output_type": "execute_result"
    }
   ],
   "source": [
    "label_counts = countmap(data[:target_class])"
   ]
  },
  {
   "cell_type": "code",
   "execution_count": 5,
   "metadata": {},
   "outputs": [
    {
     "data": {
      "text/plain": [
       "2-element Array{Float64,1}:\n",
       " 0.908425522404738\n",
       " 0.09157447759526204"
      ]
     },
     "execution_count": 5,
     "metadata": {},
     "output_type": "execute_result"
    }
   ],
   "source": [
    "collect(label_counts[i] / size(data)[1] for i in keys(label_counts))"
   ]
  },
  {
   "cell_type": "markdown",
   "metadata": {},
   "source": [
    "Get data ready for training"
   ]
  },
  {
   "cell_type": "code",
   "execution_count": 6,
   "metadata": {},
   "outputs": [
    {
     "data": {
      "text/plain": [
       "┌\u001b[0m───────────────────────────────────────────────\u001b[0m┬\u001b[0m────────────────────────────────\u001b[0m┬\u001b[0m──────────────────\u001b[0m┐\u001b[0m\n",
       "│\u001b[0m\u001b[22m _.names                                       \u001b[0m│\u001b[0m\u001b[22m _.types                        \u001b[0m│\u001b[0m\u001b[22m _.scitypes       \u001b[0m│\u001b[0m\n",
       "├\u001b[0m───────────────────────────────────────────────\u001b[0m┼\u001b[0m────────────────────────────────\u001b[0m┼\u001b[0m──────────────────\u001b[0m┤\u001b[0m\n",
       "│\u001b[0m  Mean of the integrated profile               \u001b[0m│\u001b[0m Float64                        \u001b[0m│\u001b[0m Continuous       \u001b[0m│\u001b[0m\n",
       "│\u001b[0m  Standard deviation of the integrated profile \u001b[0m│\u001b[0m Float64                        \u001b[0m│\u001b[0m Continuous       \u001b[0m│\u001b[0m\n",
       "│\u001b[0m  Excess kurtosis of the integrated profile    \u001b[0m│\u001b[0m Float64                        \u001b[0m│\u001b[0m Continuous       \u001b[0m│\u001b[0m\n",
       "│\u001b[0m  Skewness of the integrated profile           \u001b[0m│\u001b[0m Float64                        \u001b[0m│\u001b[0m Continuous       \u001b[0m│\u001b[0m\n",
       "│\u001b[0m  Mean of the DM-SNR curve                     \u001b[0m│\u001b[0m Float64                        \u001b[0m│\u001b[0m Continuous       \u001b[0m│\u001b[0m\n",
       "│\u001b[0m  Standard deviation of the DM-SNR curve       \u001b[0m│\u001b[0m Float64                        \u001b[0m│\u001b[0m Continuous       \u001b[0m│\u001b[0m\n",
       "│\u001b[0m  Excess kurtosis of the DM-SNR curve          \u001b[0m│\u001b[0m Float64                        \u001b[0m│\u001b[0m Continuous       \u001b[0m│\u001b[0m\n",
       "│\u001b[0m  Skewness of the DM-SNR curve                 \u001b[0m│\u001b[0m Float64                        \u001b[0m│\u001b[0m Continuous       \u001b[0m│\u001b[0m\n",
       "│\u001b[0m target_class                                  \u001b[0m│\u001b[0m CategoricalValue{Int64,UInt32} \u001b[0m│\u001b[0m OrderedFactor{2} \u001b[0m│\u001b[0m\n",
       "└\u001b[0m───────────────────────────────────────────────\u001b[0m┴\u001b[0m────────────────────────────────\u001b[0m┴\u001b[0m──────────────────\u001b[0m┘\u001b[0m\n",
       "_.nrows = 17898\n"
      ]
     },
     "execution_count": 6,
     "metadata": {},
     "output_type": "execute_result"
    }
   ],
   "source": [
    "coerce!(data, :target_class=>OrderedFactor)\n",
    "schema(data)"
   ]
  },
  {
   "cell_type": "code",
   "execution_count": 7,
   "metadata": {
    "scrolled": false
   },
   "outputs": [
    {
     "data": {
      "text/plain": [
       "(CategoricalValue{Int64,UInt32}[0, 0, 0, 0, 0, 0, 0, 0, 0, 0  …  0, 0, 0, 0, 0, 0, 0, 0, 0, 0], 17898×8 DataFrame. Omitted printing of 7 columns\n",
       "│ Row   │  Mean of the integrated profile │\n",
       "│       │ \u001b[90mFloat64\u001b[39m                         │\n",
       "├───────┼─────────────────────────────────┤\n",
       "│ 1     │ 140.562                         │\n",
       "│ 2     │ 102.508                         │\n",
       "│ 3     │ 103.016                         │\n",
       "│ 4     │ 136.75                          │\n",
       "│ 5     │ 88.7266                         │\n",
       "│ 6     │ 93.5703                         │\n",
       "│ 7     │ 119.484                         │\n",
       "│ 8     │ 130.383                         │\n",
       "│ 9     │ 107.25                          │\n",
       "│ 10    │ 107.258                         │\n",
       "⋮\n",
       "│ 17888 │ 121.375                         │\n",
       "│ 17889 │ 98.7266                         │\n",
       "│ 17890 │ 126.625                         │\n",
       "│ 17891 │ 143.672                         │\n",
       "│ 17892 │ 118.484                         │\n",
       "│ 17893 │ 96.0                            │\n",
       "│ 17894 │ 136.43                          │\n",
       "│ 17895 │ 122.555                         │\n",
       "│ 17896 │ 119.336                         │\n",
       "│ 17897 │ 114.508                         │\n",
       "│ 17898 │ 57.0625                         │)"
      ]
     },
     "execution_count": 7,
     "metadata": {},
     "output_type": "execute_result"
    }
   ],
   "source": [
    "y, X = unpack(data, ==(:target_class), colname->true)"
   ]
  },
  {
   "cell_type": "markdown",
   "metadata": {},
   "source": [
    "Partition train and test data accoring to class labels"
   ]
  },
  {
   "cell_type": "code",
   "execution_count": 8,
   "metadata": {},
   "outputs": [
    {
     "data": {
      "text/plain": [
       "([126, 4772, 16468, 10267, 7540, 15204, 761, 13099, 974, 15987  …  5779, 10399, 14158, 437, 14699, 14844, 16953, 10720, 2135, 12596], [13316, 11354, 9889, 12477, 4399, 9104, 17818, 13281, 722, 5074  …  13425, 15293, 7136, 1508, 15041, 10370, 2519, 1372, 9098, 17193])"
      ]
     },
     "execution_count": 8,
     "metadata": {},
     "output_type": "execute_result"
    }
   ],
   "source": [
    "# data to use when trying to fit a single validation set\n",
    "train, test = partition(eachindex(y), 0.7, shuffle=true, rng=145) # gives 70:30 split"
   ]
  },
  {
   "cell_type": "code",
   "execution_count": 9,
   "metadata": {},
   "outputs": [
    {
     "data": {
      "text/plain": [
       "2-element Array{Float64,1}:\n",
       " 0.9090909090909091\n",
       " 0.09090909090909091"
      ]
     },
     "execution_count": 9,
     "metadata": {},
     "output_type": "execute_result"
    }
   ],
   "source": [
    "train_counts = countmap(data[train,:target_class])\n",
    "collect(train_counts[i] / size(train)[1] for i in keys(train_counts))"
   ]
  },
  {
   "cell_type": "code",
   "execution_count": 10,
   "metadata": {},
   "outputs": [
    {
     "data": {
      "text/plain": [
       "2-element Array{Float64,1}:\n",
       " 0.9068727882287204\n",
       " 0.09312721177127957"
      ]
     },
     "execution_count": 10,
     "metadata": {},
     "output_type": "execute_result"
    }
   ],
   "source": [
    "test_counts = countmap(data[test,:target_class])\n",
    "collect(test_counts[i] / size(test)[1] for i in keys(test_counts))"
   ]
  },
  {
   "cell_type": "markdown",
   "metadata": {},
   "source": [
    "# Five Learning Algorithms\n",
    "\n",
    "* Decision trees with some form of pruning\n",
    "* Neural networks\n",
    "* Boosting\n",
    "* Support Vector Machines\n",
    "* k-nearest neighbors\n",
    "\n",
    "\n",
    "##### Testing\n",
    "* Implement the algorithms\n",
    "* Design two *interesting* classification problems. For the purposes of this assignment, a classification problem is just a set of training examples and a set of test examples."
   ]
  },
  {
   "cell_type": "code",
   "execution_count": 11,
   "metadata": {
    "scrolled": true
   },
   "outputs": [
    {
     "data": {
      "text/plain": [
       "43-element Array{NamedTuple{(:name, :package_name, :is_supervised, :docstring, :hyperparameter_ranges, :hyperparameter_types, :hyperparameters, :implemented_methods, :is_pure_julia, :is_wrapper, :load_path, :package_license, :package_url, :package_uuid, :prediction_type, :supports_online, :supports_weights, :input_scitype, :target_scitype, :output_scitype),T} where T<:Tuple,1}:\n",
       " (name = AdaBoostClassifier, package_name = ScikitLearn, ... )\n",
       " (name = AdaBoostStumpClassifier, package_name = DecisionTree, ... )\n",
       " (name = BaggingClassifier, package_name = ScikitLearn, ... )\n",
       " (name = BayesianLDA, package_name = MultivariateStats, ... )\n",
       " (name = BayesianLDA, package_name = ScikitLearn, ... )\n",
       " (name = BayesianQDA, package_name = ScikitLearn, ... )\n",
       " (name = BayesianSubspaceLDA, package_name = MultivariateStats, ... )\n",
       " (name = ConstantClassifier, package_name = MLJModels, ... )\n",
       " (name = DecisionTreeClassifier, package_name = DecisionTree, ... )\n",
       " (name = DeterministicConstantClassifier, package_name = MLJModels, ... )\n",
       " (name = DummyClassifier, package_name = ScikitLearn, ... )\n",
       " (name = EvoTreeClassifier, package_name = EvoTrees, ... )\n",
       " (name = ExtraTreesClassifier, package_name = ScikitLearn, ... )\n",
       " ⋮\n",
       " (name = ProbabilisticSGDClassifier, package_name = ScikitLearn, ... )\n",
       " (name = RandomForestClassifier, package_name = DecisionTree, ... )\n",
       " (name = RandomForestClassifier, package_name = ScikitLearn, ... )\n",
       " (name = RidgeCVClassifier, package_name = ScikitLearn, ... )\n",
       " (name = RidgeClassifier, package_name = ScikitLearn, ... )\n",
       " (name = SGDClassifier, package_name = ScikitLearn, ... )\n",
       " (name = SVC, package_name = LIBSVM, ... )\n",
       " (name = SVMClassifier, package_name = ScikitLearn, ... )\n",
       " (name = SVMLinearClassifier, package_name = ScikitLearn, ... )\n",
       " (name = SVMNuClassifier, package_name = ScikitLearn, ... )\n",
       " (name = SubspaceLDA, package_name = MultivariateStats, ... )\n",
       " (name = XGBoostClassifier, package_name = XGBoost, ... )"
      ]
     },
     "execution_count": 11,
     "metadata": {},
     "output_type": "execute_result"
    }
   ],
   "source": [
    "models(matching(X,y))"
   ]
  },
  {
   "cell_type": "code",
   "execution_count": 12,
   "metadata": {},
   "outputs": [
    {
     "name": "stderr",
     "output_type": "stream",
     "text": [
      "┌ Info: Precompiling MLJScikitLearnInterface [5ae90465-5518-4432-b9d2-8a1def2f0cab]\n",
      "└ @ Base loading.jl:1278\n"
     ]
    },
    {
     "data": {
      "text/plain": [
       "SVMClassifier(\n",
       "    C = 1.0,\n",
       "    kernel = \"rbf\",\n",
       "    degree = 3,\n",
       "    gamma = \"auto\",\n",
       "    coef0 = 0.0,\n",
       "    shrinking = true,\n",
       "    tol = 0.001,\n",
       "    cache_size = 200,\n",
       "    max_iter = -1,\n",
       "    decision_function_shape = \"ovr\",\n",
       "    random_state = nothing)\u001b[34m @358\u001b[39m"
      ]
     },
     "execution_count": 12,
     "metadata": {},
     "output_type": "execute_result"
    }
   ],
   "source": [
    "@load SVMClassifier"
   ]
  },
  {
   "cell_type": "markdown",
   "metadata": {},
   "source": [
    "### Support Vector Machines\n",
    "* This should be done in such a way that you can swap out kernel functions. I'd like to see at least two."
   ]
  },
  {
   "cell_type": "code",
   "execution_count": 13,
   "metadata": {
    "scrolled": true
   },
   "outputs": [
    {
     "name": "stderr",
     "output_type": "stream",
     "text": [
      "┌ Info: Training \u001b[34mMachine{SVMClassifier} @523\u001b[39m.\n",
      "└ @ MLJBase /home/andrew/.julia/packages/MLJBase/uKzAz/src/machines.jl:319\n",
      "\u001b[33mEvaluating over 6 folds: 100%[=========================] Time: 0:01:45\u001b[39m\n"
     ]
    },
    {
     "data": {
      "text/plain": [
       "┌\u001b[0m───────────\u001b[0m┬\u001b[0m───────────────\u001b[0m┬\u001b[0m──────────────────────────────────────────\u001b[0m┐\u001b[0m\n",
       "│\u001b[0m\u001b[22m _.measure \u001b[0m│\u001b[0m\u001b[22m _.measurement \u001b[0m│\u001b[0m\u001b[22m _.per_fold                               \u001b[0m│\u001b[0m\n",
       "├\u001b[0m───────────\u001b[0m┼\u001b[0m───────────────\u001b[0m┼\u001b[0m──────────────────────────────────────────\u001b[0m┤\u001b[0m\n",
       "│\u001b[0m accuracy  \u001b[0m│\u001b[0m 0.979         \u001b[0m│\u001b[0m [0.982, 0.985, 0.978, 0.98, 0.973, 0.98] \u001b[0m│\u001b[0m\n",
       "└\u001b[0m───────────\u001b[0m┴\u001b[0m───────────────\u001b[0m┴\u001b[0m──────────────────────────────────────────\u001b[0m┘\u001b[0m\n",
       "_.per_observation = [missing]\n",
       "_.fitted_params_per_fold = [ … ]\n",
       "_.report_per_fold = [ … ]\n"
      ]
     },
     "execution_count": 13,
     "metadata": {},
     "output_type": "execute_result"
    }
   ],
   "source": [
    "svm_model = SVMClassifier(kernel=\"linear\")\n",
    "svm_mach = machine(svm_model, X, y)\n",
    "fit!(svm_mach, rows=train, verbosity=2)\n",
    "svm_acc = evaluate!(svm_mach, resampling=CV(shuffle=true), measure=[accuracy], \n",
    "                        verbosity=1)"
   ]
  },
  {
   "cell_type": "code",
   "execution_count": 14,
   "metadata": {},
   "outputs": [
    {
     "name": "stderr",
     "output_type": "stream",
     "text": [
      "┌ Info: Training \u001b[34mMachine{SVMClassifier} @300\u001b[39m.\n",
      "└ @ MLJBase /home/andrew/.julia/packages/MLJBase/uKzAz/src/machines.jl:319\n",
      "\u001b[33mEvaluating over 6 folds: 100%[=========================] Time: 0:00:03\u001b[39m\n"
     ]
    },
    {
     "data": {
      "text/plain": [
       "┌\u001b[0m───────────\u001b[0m┬\u001b[0m───────────────\u001b[0m┬\u001b[0m───────────────────────────────────────────\u001b[0m┐\u001b[0m\n",
       "│\u001b[0m\u001b[22m _.measure \u001b[0m│\u001b[0m\u001b[22m _.measurement \u001b[0m│\u001b[0m\u001b[22m _.per_fold                                \u001b[0m│\u001b[0m\n",
       "├\u001b[0m───────────\u001b[0m┼\u001b[0m───────────────\u001b[0m┼\u001b[0m───────────────────────────────────────────\u001b[0m┤\u001b[0m\n",
       "│\u001b[0m accuracy  \u001b[0m│\u001b[0m 0.908         \u001b[0m│\u001b[0m [0.904, 0.896, 0.917, 0.916, 0.906, 0.91] \u001b[0m│\u001b[0m\n",
       "└\u001b[0m───────────\u001b[0m┴\u001b[0m───────────────\u001b[0m┴\u001b[0m───────────────────────────────────────────\u001b[0m┘\u001b[0m\n",
       "_.per_observation = [missing]\n",
       "_.fitted_params_per_fold = [ … ]\n",
       "_.report_per_fold = [ … ]\n"
      ]
     },
     "execution_count": 14,
     "metadata": {},
     "output_type": "execute_result"
    }
   ],
   "source": [
    "svm_model = SVMClassifier(kernel=\"sigmoid\")\n",
    "svm_mach = machine(svm_model, X, y)\n",
    "fit!(svm_mach, rows=train, verbosity=2)\n",
    "svm_acc = evaluate!(svm_mach, resampling=CV(shuffle=true), measure=[accuracy], \n",
    "                        verbosity=1)"
   ]
  },
  {
   "cell_type": "code",
   "execution_count": 15,
   "metadata": {},
   "outputs": [
    {
     "name": "stderr",
     "output_type": "stream",
     "text": [
      "┌ Info: Training \u001b[34mMachine{SVMClassifier} @010\u001b[39m.\n",
      "└ @ MLJBase /home/andrew/.julia/packages/MLJBase/uKzAz/src/machines.jl:319\n",
      "\u001b[33mEvaluating over 6 folds: 100%[=========================] Time: 0:01:59\u001b[39m\n"
     ]
    },
    {
     "data": {
      "text/plain": [
       "┌\u001b[0m───────────\u001b[0m┬\u001b[0m───────────────\u001b[0m┬\u001b[0m────────────────────────────────────────────\u001b[0m┐\u001b[0m\n",
       "│\u001b[0m\u001b[22m _.measure \u001b[0m│\u001b[0m\u001b[22m _.measurement \u001b[0m│\u001b[0m\u001b[22m _.per_fold                                 \u001b[0m│\u001b[0m\n",
       "├\u001b[0m───────────\u001b[0m┼\u001b[0m───────────────\u001b[0m┼\u001b[0m────────────────────────────────────────────\u001b[0m┤\u001b[0m\n",
       "│\u001b[0m accuracy  \u001b[0m│\u001b[0m 0.911         \u001b[0m│\u001b[0m [0.907, 0.908, 0.922, 0.908, 0.906, 0.913] \u001b[0m│\u001b[0m\n",
       "└\u001b[0m───────────\u001b[0m┴\u001b[0m───────────────\u001b[0m┴\u001b[0m────────────────────────────────────────────\u001b[0m┘\u001b[0m\n",
       "_.per_observation = [missing]\n",
       "_.fitted_params_per_fold = [ … ]\n",
       "_.report_per_fold = [ … ]\n"
      ]
     },
     "execution_count": 15,
     "metadata": {},
     "output_type": "execute_result"
    }
   ],
   "source": [
    "svm_model = SVMClassifier(kernel=\"rbf\")\n",
    "svm_mach = machine(svm_model, X, y)\n",
    "fit!(svm_mach, rows=train, verbosity=2)\n",
    "svm_acc = evaluate!(svm_mach, resampling=CV(shuffle=true), measure=[accuracy], \n",
    "                        verbosity=1)"
   ]
  },
  {
   "cell_type": "markdown",
   "metadata": {},
   "source": [
    "Poly Degree 2 took a long wall clock time"
   ]
  },
  {
   "cell_type": "code",
   "execution_count": 16,
   "metadata": {
    "scrolled": true
   },
   "outputs": [],
   "source": [
    "# svm_model = SVMClassifier(kernel=\"poly\", degree=2)\n",
    "# svm_mach = machine(svm_model, X, y)\n",
    "# fit!(svm_mach, rows=train, verbosity=2)\n",
    "# svm_acc = evaluate!(svm_mach, resampling=CV(shuffle=true), measure=[accuracy], \n",
    "#                         verbosity=1)"
   ]
  },
  {
   "cell_type": "markdown",
   "metadata": {},
   "source": [
    "##### With Standardization"
   ]
  },
  {
   "cell_type": "code",
   "execution_count": 17,
   "metadata": {},
   "outputs": [
    {
     "name": "stderr",
     "output_type": "stream",
     "text": [
      "┌ Info: Training \u001b[34mMachine{Standardizer} @760\u001b[39m.\n",
      "└ @ MLJBase /home/andrew/.julia/packages/MLJBase/uKzAz/src/machines.jl:319\n"
     ]
    }
   ],
   "source": [
    "standardizer = Standardizer()\n",
    "stand = machine(standardizer, X[train,:])\n",
    "fit!(stand)\n",
    "X_stand = MLJ.transform(stand, X);"
   ]
  },
  {
   "cell_type": "code",
   "execution_count": 18,
   "metadata": {
    "scrolled": true
   },
   "outputs": [
    {
     "name": "stderr",
     "output_type": "stream",
     "text": [
      "┌ Info: Training \u001b[34mMachine{SVMClassifier} @957\u001b[39m.\n",
      "└ @ MLJBase /home/andrew/.julia/packages/MLJBase/uKzAz/src/machines.jl:319\n",
      "\u001b[33mEvaluating over 6 folds: 100%[=========================] Time: 0:00:01\u001b[39m\n"
     ]
    },
    {
     "data": {
      "text/plain": [
       "┌\u001b[0m───────────\u001b[0m┬\u001b[0m───────────────\u001b[0m┬\u001b[0m──────────────────────────────────────────\u001b[0m┐\u001b[0m\n",
       "│\u001b[0m\u001b[22m _.measure \u001b[0m│\u001b[0m\u001b[22m _.measurement \u001b[0m│\u001b[0m\u001b[22m _.per_fold                               \u001b[0m│\u001b[0m\n",
       "├\u001b[0m───────────\u001b[0m┼\u001b[0m───────────────\u001b[0m┼\u001b[0m──────────────────────────────────────────\u001b[0m┤\u001b[0m\n",
       "│\u001b[0m accuracy  \u001b[0m│\u001b[0m 0.979         \u001b[0m│\u001b[0m [0.977, 0.98, 0.98, 0.982, 0.977, 0.981] \u001b[0m│\u001b[0m\n",
       "└\u001b[0m───────────\u001b[0m┴\u001b[0m───────────────\u001b[0m┴\u001b[0m──────────────────────────────────────────\u001b[0m┘\u001b[0m\n",
       "_.per_observation = [missing]\n",
       "_.fitted_params_per_fold = [ … ]\n",
       "_.report_per_fold = [ … ]\n"
      ]
     },
     "execution_count": 18,
     "metadata": {},
     "output_type": "execute_result"
    }
   ],
   "source": [
    "svm_model = SVMClassifier(kernel=\"linear\")\n",
    "svm_mach = machine(svm_model, X_stand, y)\n",
    "fit!(svm_mach, rows=train, verbosity=2)\n",
    "svm_acc = evaluate!(svm_mach, resampling=CV(shuffle=true), measure=[accuracy], \n",
    "                        verbosity=1)"
   ]
  },
  {
   "cell_type": "code",
   "execution_count": 19,
   "metadata": {},
   "outputs": [
    {
     "name": "stderr",
     "output_type": "stream",
     "text": [
      "┌ Info: Training \u001b[34mMachine{SVMClassifier} @913\u001b[39m.\n",
      "└ @ MLJBase /home/andrew/.julia/packages/MLJBase/uKzAz/src/machines.jl:319\n",
      "\u001b[33mEvaluating over 6 folds: 100%[=========================] Time: 0:00:09\u001b[39m\n"
     ]
    },
    {
     "data": {
      "text/plain": [
       "┌\u001b[0m───────────\u001b[0m┬\u001b[0m───────────────\u001b[0m┬\u001b[0m───────────────────────────────────────────\u001b[0m┐\u001b[0m\n",
       "│\u001b[0m\u001b[22m _.measure \u001b[0m│\u001b[0m\u001b[22m _.measurement \u001b[0m│\u001b[0m\u001b[22m _.per_fold                                \u001b[0m│\u001b[0m\n",
       "├\u001b[0m───────────\u001b[0m┼\u001b[0m───────────────\u001b[0m┼\u001b[0m───────────────────────────────────────────\u001b[0m┤\u001b[0m\n",
       "│\u001b[0m accuracy  \u001b[0m│\u001b[0m 0.872         \u001b[0m│\u001b[0m [0.872, 0.872, 0.87, 0.866, 0.877, 0.876] \u001b[0m│\u001b[0m\n",
       "└\u001b[0m───────────\u001b[0m┴\u001b[0m───────────────\u001b[0m┴\u001b[0m───────────────────────────────────────────\u001b[0m┘\u001b[0m\n",
       "_.per_observation = [missing]\n",
       "_.fitted_params_per_fold = [ … ]\n",
       "_.report_per_fold = [ … ]\n"
      ]
     },
     "execution_count": 19,
     "metadata": {},
     "output_type": "execute_result"
    }
   ],
   "source": [
    "svm_model = SVMClassifier(kernel=\"sigmoid\")\n",
    "svm_mach = machine(svm_model, X_stand, y)\n",
    "fit!(svm_mach, rows=train, verbosity=2)\n",
    "svm_acc = evaluate!(svm_mach, resampling=CV(shuffle=true), measure=[accuracy], \n",
    "                        verbosity=1)"
   ]
  },
  {
   "cell_type": "code",
   "execution_count": 20,
   "metadata": {},
   "outputs": [
    {
     "name": "stderr",
     "output_type": "stream",
     "text": [
      "┌ Info: Training \u001b[34mMachine{SVMClassifier} @496\u001b[39m.\n",
      "└ @ MLJBase /home/andrew/.julia/packages/MLJBase/uKzAz/src/machines.jl:319\n",
      "\u001b[33mEvaluating over 6 folds: 100%[=========================] Time: 0:00:02\u001b[39m\n"
     ]
    },
    {
     "data": {
      "text/plain": [
       "┌\u001b[0m───────────\u001b[0m┬\u001b[0m───────────────\u001b[0m┬\u001b[0m───────────────────────────────────────────\u001b[0m┐\u001b[0m\n",
       "│\u001b[0m\u001b[22m _.measure \u001b[0m│\u001b[0m\u001b[22m _.measurement \u001b[0m│\u001b[0m\u001b[22m _.per_fold                                \u001b[0m│\u001b[0m\n",
       "├\u001b[0m───────────\u001b[0m┼\u001b[0m───────────────\u001b[0m┼\u001b[0m───────────────────────────────────────────\u001b[0m┤\u001b[0m\n",
       "│\u001b[0m accuracy  \u001b[0m│\u001b[0m 0.978         \u001b[0m│\u001b[0m [0.981, 0.982, 0.98, 0.976, 0.974, 0.977] \u001b[0m│\u001b[0m\n",
       "└\u001b[0m───────────\u001b[0m┴\u001b[0m───────────────\u001b[0m┴\u001b[0m───────────────────────────────────────────\u001b[0m┘\u001b[0m\n",
       "_.per_observation = [missing]\n",
       "_.fitted_params_per_fold = [ … ]\n",
       "_.report_per_fold = [ … ]\n"
      ]
     },
     "execution_count": 20,
     "metadata": {},
     "output_type": "execute_result"
    }
   ],
   "source": [
    "svm_model = SVMClassifier(kernel=\"rbf\")\n",
    "svm_mach = machine(svm_model, X_stand, y)\n",
    "fit!(svm_mach, rows=train, verbosity=2)\n",
    "svm_acc = evaluate!(svm_mach, resampling=CV(shuffle=true), measure=[accuracy], \n",
    "                        verbosity=1)"
   ]
  },
  {
   "cell_type": "markdown",
   "metadata": {},
   "source": [
    "Can't use crossentropy because it is a probabilistic concept, and SVM doesn't do probabilities?"
   ]
  },
  {
   "cell_type": "markdown",
   "metadata": {},
   "source": [
    "### GridSearch / RandomSearch"
   ]
  },
  {
   "cell_type": "markdown",
   "metadata": {},
   "source": [
    "Use `linear` and `rbf`: \n",
    "* `linear` which has high bias\n",
    "* `rbf` which has high variance"
   ]
  },
  {
   "cell_type": "markdown",
   "metadata": {},
   "source": [
    "##### First look at `linear`"
   ]
  },
  {
   "cell_type": "code",
   "execution_count": 21,
   "metadata": {},
   "outputs": [
    {
     "data": {
      "text/plain": [
       "\u001b[34mMachine{SVMClassifier} @184\u001b[39m trained 0 times.\n",
       "  args: \n",
       "    1:\t\u001b[34mSource @465\u001b[39m ⏎ `Table{AbstractArray{Continuous,1}}`\n",
       "    2:\t\u001b[34mSource @792\u001b[39m ⏎ `AbstractArray{OrderedFactor{2},1}`\n"
      ]
     },
     "execution_count": 21,
     "metadata": {},
     "output_type": "execute_result"
    }
   ],
   "source": [
    "svm_linear_model = SVMClassifier(kernel=\"linear\", cache_size=1000)\n",
    "svm_linear_mach = machine(svm_linear_model, X_stand, y)"
   ]
  },
  {
   "cell_type": "code",
   "execution_count": 22,
   "metadata": {},
   "outputs": [
    {
     "name": "stderr",
     "output_type": "stream",
     "text": [
      "┌ Info: Training \u001b[34mMachine{DeterministicTunedModel{Grid,…}} @095\u001b[39m.\n",
      "└ @ MLJBase /home/andrew/.julia/packages/MLJBase/uKzAz/src/machines.jl:319\n",
      "┌ Info: Attempting to evaluate 30 models.\n",
      "└ @ MLJTuning /home/andrew/.julia/packages/MLJTuning/Bbgvk/src/tuned_models.jl:494\n",
      "\u001b[33mEvaluating over 30 metamodels: 100%[=========================] Time: 0:07:32\u001b[39m\n"
     ]
    },
    {
     "data": {
      "text/plain": [
       "(parameter_name = \"C\",\n",
       " parameter_scale = :log10,\n",
       " parameter_values = [0.05000000000000002, 0.06869118979416318, 0.09436959110675487, 0.1296471898702334, 0.1781123945131222, 0.24469504592387473, 0.3361678768249669, 0.4618354285936932, 0.6344805015839612, 0.8716644110999942  …  28.68076255224339, 39.402314078349555, 54.13183669370272, 74.36760536467558, 102.16798589284707, 140.3608101970589, 192.83102105817358, 264.91584531418533, 363.94769219915764, 499.99999999999994],\n",
       " measurements = [0.9765336909151862, 0.976701307408649, 0.9768689239021119, 0.9769806682310872, 0.9770924125600627, 0.9773159012180131, 0.9774276455469885, 0.9773717733825008, 0.9775393898759637, 0.9775952620404514  …  0.9779304950273774, 0.9779304950273774, 0.9779304950273774, 0.9779304950273774, 0.9779304950273774, 0.9779863671918649, 0.9779304950273774, 0.9779304950273774, 0.9779304950273774, 0.9779304950273774],)"
      ]
     },
     "execution_count": 22,
     "metadata": {},
     "output_type": "execute_result"
    }
   ],
   "source": [
    "# r1 = range(svm_linear_model, :C, lower=5*10^-6, upper=5*10^4, scale=:log10)\n",
    "r1 = range(svm_linear_model, :C, lower=5*10^-2, upper=5*10^2, scale=:log10)\n",
    "curve = learning_curve(svm_linear_mach, \n",
    "                        range=r1,\n",
    "                        resampling=CV(), \n",
    "                        measure=accuracy, \n",
    "                        acceleration=CPUProcesses(),\n",
    "                        resolution=30)"
   ]
  },
  {
   "cell_type": "code",
   "execution_count": 23,
   "metadata": {},
   "outputs": [
    {
     "data": {
      "image/svg+xml": [
       "<?xml version=\"1.0\" encoding=\"utf-8\"?>\n",
       "<svg xmlns=\"http://www.w3.org/2000/svg\" xmlns:xlink=\"http://www.w3.org/1999/xlink\" width=\"600\" height=\"400\" viewBox=\"0 0 2400 1600\">\n",
       "<defs>\n",
       "  <clipPath id=\"clip660\">\n",
       "    <rect x=\"0\" y=\"0\" width=\"2400\" height=\"1600\"/>\n",
       "  </clipPath>\n",
       "</defs>\n",
       "<path clip-path=\"url(#clip660)\" d=\"\n",
       "M0 1600 L2400 1600 L2400 0 L0 0  Z\n",
       "  \" fill=\"#ffffff\" fill-rule=\"evenodd\" fill-opacity=\"1\"/>\n",
       "<defs>\n",
       "  <clipPath id=\"clip661\">\n",
       "    <rect x=\"480\" y=\"0\" width=\"1681\" height=\"1600\"/>\n",
       "  </clipPath>\n",
       "</defs>\n",
       "<path clip-path=\"url(#clip660)\" d=\"\n",
       "M290.977 1410.9 L2352.76 1410.9 L2352.76 47.2441 L290.977 47.2441  Z\n",
       "  \" fill=\"#ffffff\" fill-rule=\"evenodd\" fill-opacity=\"1\"/>\n",
       "<defs>\n",
       "  <clipPath id=\"clip662\">\n",
       "    <rect x=\"290\" y=\"47\" width=\"2063\" height=\"1365\"/>\n",
       "  </clipPath>\n",
       "</defs>\n",
       "<polyline clip-path=\"url(#clip662)\" style=\"stroke:#000000; stroke-width:2; stroke-opacity:0.1; fill:none\" points=\"\n",
       "  495.711,1410.9 495.711,47.2441 \n",
       "  \"/>\n",
       "<polyline clip-path=\"url(#clip662)\" style=\"stroke:#000000; stroke-width:2; stroke-opacity:0.1; fill:none\" points=\"\n",
       "  981.979,1410.9 981.979,47.2441 \n",
       "  \"/>\n",
       "<polyline clip-path=\"url(#clip662)\" style=\"stroke:#000000; stroke-width:2; stroke-opacity:0.1; fill:none\" points=\"\n",
       "  1468.25,1410.9 1468.25,47.2441 \n",
       "  \"/>\n",
       "<polyline clip-path=\"url(#clip662)\" style=\"stroke:#000000; stroke-width:2; stroke-opacity:0.1; fill:none\" points=\"\n",
       "  1954.52,1410.9 1954.52,47.2441 \n",
       "  \"/>\n",
       "<polyline clip-path=\"url(#clip662)\" style=\"stroke:#000000; stroke-width:2; stroke-opacity:0.1; fill:none\" points=\"\n",
       "  290.977,1401.03 2352.76,1401.03 \n",
       "  \"/>\n",
       "<polyline clip-path=\"url(#clip662)\" style=\"stroke:#000000; stroke-width:2; stroke-opacity:0.1; fill:none\" points=\"\n",
       "  290.977,974.642 2352.76,974.642 \n",
       "  \"/>\n",
       "<polyline clip-path=\"url(#clip662)\" style=\"stroke:#000000; stroke-width:2; stroke-opacity:0.1; fill:none\" points=\"\n",
       "  290.977,548.251 2352.76,548.251 \n",
       "  \"/>\n",
       "<polyline clip-path=\"url(#clip662)\" style=\"stroke:#000000; stroke-width:2; stroke-opacity:0.1; fill:none\" points=\"\n",
       "  290.977,121.859 2352.76,121.859 \n",
       "  \"/>\n",
       "<polyline clip-path=\"url(#clip660)\" style=\"stroke:#000000; stroke-width:4; stroke-opacity:1; fill:none\" points=\"\n",
       "  290.977,1410.9 2352.76,1410.9 \n",
       "  \"/>\n",
       "<polyline clip-path=\"url(#clip660)\" style=\"stroke:#000000; stroke-width:4; stroke-opacity:1; fill:none\" points=\"\n",
       "  290.977,1410.9 290.977,47.2441 \n",
       "  \"/>\n",
       "<polyline clip-path=\"url(#clip660)\" style=\"stroke:#000000; stroke-width:4; stroke-opacity:1; fill:none\" points=\"\n",
       "  495.711,1410.9 495.711,1394.53 \n",
       "  \"/>\n",
       "<polyline clip-path=\"url(#clip660)\" style=\"stroke:#000000; stroke-width:4; stroke-opacity:1; fill:none\" points=\"\n",
       "  981.979,1410.9 981.979,1394.53 \n",
       "  \"/>\n",
       "<polyline clip-path=\"url(#clip660)\" style=\"stroke:#000000; stroke-width:4; stroke-opacity:1; fill:none\" points=\"\n",
       "  1468.25,1410.9 1468.25,1394.53 \n",
       "  \"/>\n",
       "<polyline clip-path=\"url(#clip660)\" style=\"stroke:#000000; stroke-width:4; stroke-opacity:1; fill:none\" points=\"\n",
       "  1954.52,1410.9 1954.52,1394.53 \n",
       "  \"/>\n",
       "<polyline clip-path=\"url(#clip660)\" style=\"stroke:#000000; stroke-width:4; stroke-opacity:1; fill:none\" points=\"\n",
       "  290.977,1401.03 315.718,1401.03 \n",
       "  \"/>\n",
       "<polyline clip-path=\"url(#clip660)\" style=\"stroke:#000000; stroke-width:4; stroke-opacity:1; fill:none\" points=\"\n",
       "  290.977,974.642 315.718,974.642 \n",
       "  \"/>\n",
       "<polyline clip-path=\"url(#clip660)\" style=\"stroke:#000000; stroke-width:4; stroke-opacity:1; fill:none\" points=\"\n",
       "  290.977,548.251 315.718,548.251 \n",
       "  \"/>\n",
       "<polyline clip-path=\"url(#clip660)\" style=\"stroke:#000000; stroke-width:4; stroke-opacity:1; fill:none\" points=\"\n",
       "  290.977,121.859 315.718,121.859 \n",
       "  \"/>\n",
       "<path clip-path=\"url(#clip660)\" d=\"M 0 0 M450.054 1481.97 L457.693 1481.97 L457.693 1455.6 L449.383 1457.27 L449.383 1453.01 L457.647 1451.34 L462.323 1451.34 L462.323 1481.97 L469.961 1481.97 L469.961 1485.9 L450.054 1485.9 L450.054 1481.97 Z\" fill=\"#000000\" fill-rule=\"evenodd\" fill-opacity=\"1\" /><path clip-path=\"url(#clip660)\" d=\"M 0 0 M485.031 1454.42 Q481.42 1454.42 479.591 1457.99 Q477.785 1461.53 477.785 1468.66 Q477.785 1475.77 479.591 1479.33 Q481.42 1482.87 485.031 1482.87 Q488.665 1482.87 490.471 1479.33 Q492.299 1475.77 492.299 1468.66 Q492.299 1461.53 490.471 1457.99 Q488.665 1454.42 485.031 1454.42 M485.031 1450.72 Q490.841 1450.72 493.896 1455.33 Q496.975 1459.91 496.975 1468.66 Q496.975 1477.39 493.896 1481.99 Q490.841 1486.58 485.031 1486.58 Q479.221 1486.58 476.142 1481.99 Q473.086 1477.39 473.086 1468.66 Q473.086 1459.91 476.142 1455.33 Q479.221 1450.72 485.031 1450.72 Z\" fill=\"#000000\" fill-rule=\"evenodd\" fill-opacity=\"1\" /><path clip-path=\"url(#clip660)\" d=\"M 0 0 M496.975 1444.82 L521.087 1444.82 L521.087 1448.02 L496.975 1448.02 L496.975 1444.82 Z\" fill=\"#000000\" fill-rule=\"evenodd\" fill-opacity=\"1\" /><path clip-path=\"url(#clip660)\" d=\"M 0 0 M525.864 1455.3 L532.07 1455.3 L532.07 1433.87 L525.318 1435.23 L525.318 1431.77 L532.033 1430.41 L535.832 1430.41 L535.832 1455.3 L542.039 1455.3 L542.039 1458.49 L525.864 1458.49 L525.864 1455.3 Z\" fill=\"#000000\" fill-rule=\"evenodd\" fill-opacity=\"1\" /><path clip-path=\"url(#clip660)\" d=\"M 0 0 M949.15 1481.97 L956.788 1481.97 L956.788 1455.6 L948.478 1457.27 L948.478 1453.01 L956.742 1451.34 L961.418 1451.34 L961.418 1481.97 L969.057 1481.97 L969.057 1485.9 L949.15 1485.9 L949.15 1481.97 Z\" fill=\"#000000\" fill-rule=\"evenodd\" fill-opacity=\"1\" /><path clip-path=\"url(#clip660)\" d=\"M 0 0 M984.126 1454.42 Q980.515 1454.42 978.686 1457.99 Q976.881 1461.53 976.881 1468.66 Q976.881 1475.77 978.686 1479.33 Q980.515 1482.87 984.126 1482.87 Q987.76 1482.87 989.566 1479.33 Q991.395 1475.77 991.395 1468.66 Q991.395 1461.53 989.566 1457.99 Q987.76 1454.42 984.126 1454.42 M984.126 1450.72 Q989.936 1450.72 992.992 1455.33 Q996.071 1459.91 996.071 1468.66 Q996.071 1477.39 992.992 1481.99 Q989.936 1486.58 984.126 1486.58 Q978.316 1486.58 975.237 1481.99 Q972.182 1477.39 972.182 1468.66 Q972.182 1459.91 975.237 1455.33 Q978.316 1450.72 984.126 1450.72 Z\" fill=\"#000000\" fill-rule=\"evenodd\" fill-opacity=\"1\" /><path clip-path=\"url(#clip660)\" d=\"M 0 0 M1005.78 1432.91 Q1002.84 1432.91 1001.36 1435.81 Q999.889 1438.69 999.889 1444.48 Q999.889 1450.26 1001.36 1453.15 Q1002.84 1456.03 1005.78 1456.03 Q1008.73 1456.03 1010.2 1453.15 Q1011.68 1450.26 1011.68 1444.48 Q1011.68 1438.69 1010.2 1435.81 Q1008.73 1432.91 1005.78 1432.91 M1005.78 1429.91 Q1010.5 1429.91 1012.98 1433.65 Q1015.48 1437.37 1015.48 1444.48 Q1015.48 1451.57 1012.98 1455.31 Q1010.5 1459.04 1005.78 1459.04 Q1001.05 1459.04 998.553 1455.31 Q996.071 1451.57 996.071 1444.48 Q996.071 1437.37 998.553 1433.65 Q1001.05 1429.91 1005.78 1429.91 Z\" fill=\"#000000\" fill-rule=\"evenodd\" fill-opacity=\"1\" /><path clip-path=\"url(#clip660)\" d=\"M 0 0 M1436.76 1481.97 L1444.4 1481.97 L1444.4 1455.6 L1436.09 1457.27 L1436.09 1453.01 L1444.36 1451.34 L1449.03 1451.34 L1449.03 1481.97 L1456.67 1481.97 L1456.67 1485.9 L1436.76 1485.9 L1436.76 1481.97 Z\" fill=\"#000000\" fill-rule=\"evenodd\" fill-opacity=\"1\" /><path clip-path=\"url(#clip660)\" d=\"M 0 0 M1471.74 1454.42 Q1468.13 1454.42 1466.3 1457.99 Q1464.49 1461.53 1464.49 1468.66 Q1464.49 1475.77 1466.3 1479.33 Q1468.13 1482.87 1471.74 1482.87 Q1475.37 1482.87 1477.18 1479.33 Q1479.01 1475.77 1479.01 1468.66 Q1479.01 1461.53 1477.18 1457.99 Q1475.37 1454.42 1471.74 1454.42 M1471.74 1450.72 Q1477.55 1450.72 1480.61 1455.33 Q1483.68 1459.91 1483.68 1468.66 Q1483.68 1477.39 1480.61 1481.99 Q1477.55 1486.58 1471.74 1486.58 Q1465.93 1486.58 1462.85 1481.99 Q1459.8 1477.39 1459.8 1468.66 Q1459.8 1459.91 1462.85 1455.33 Q1465.93 1450.72 1471.74 1450.72 Z\" fill=\"#000000\" fill-rule=\"evenodd\" fill-opacity=\"1\" /><path clip-path=\"url(#clip660)\" d=\"M 0 0 M1484.23 1455.3 L1490.44 1455.3 L1490.44 1433.87 L1483.68 1435.23 L1483.68 1431.77 L1490.4 1430.41 L1494.2 1430.41 L1494.2 1455.3 L1500.4 1455.3 L1500.4 1458.49 L1484.23 1458.49 L1484.23 1455.3 Z\" fill=\"#000000\" fill-rule=\"evenodd\" fill-opacity=\"1\" /><path clip-path=\"url(#clip660)\" d=\"M 0 0 M1922.48 1481.97 L1930.12 1481.97 L1930.12 1455.6 L1921.81 1457.27 L1921.81 1453.01 L1930.07 1451.34 L1934.75 1451.34 L1934.75 1481.97 L1942.38 1481.97 L1942.38 1485.9 L1922.48 1485.9 L1922.48 1481.97 Z\" fill=\"#000000\" fill-rule=\"evenodd\" fill-opacity=\"1\" /><path clip-path=\"url(#clip660)\" d=\"M 0 0 M1957.45 1454.42 Q1953.84 1454.42 1952.01 1457.99 Q1950.21 1461.53 1950.21 1468.66 Q1950.21 1475.77 1952.01 1479.33 Q1953.84 1482.87 1957.45 1482.87 Q1961.09 1482.87 1962.89 1479.33 Q1964.72 1475.77 1964.72 1468.66 Q1964.72 1461.53 1962.89 1457.99 Q1961.09 1454.42 1957.45 1454.42 M1957.45 1450.72 Q1963.26 1450.72 1966.32 1455.33 Q1969.4 1459.91 1969.4 1468.66 Q1969.4 1477.39 1966.32 1481.99 Q1963.26 1486.58 1957.45 1486.58 Q1951.64 1486.58 1948.56 1481.99 Q1945.51 1477.39 1945.51 1468.66 Q1945.51 1459.91 1948.56 1455.33 Q1951.64 1450.72 1957.45 1450.72 Z\" fill=\"#000000\" fill-rule=\"evenodd\" fill-opacity=\"1\" /><path clip-path=\"url(#clip660)\" d=\"M 0 0 M1973.97 1455.3 L1987.23 1455.3 L1987.23 1458.49 L1969.4 1458.49 L1969.4 1455.3 Q1971.56 1453.06 1975.28 1449.3 Q1979.03 1445.52 1979.99 1444.43 Q1981.81 1442.38 1982.53 1440.96 Q1983.26 1439.54 1983.26 1438.16 Q1983.26 1435.92 1981.68 1434.51 Q1980.12 1433.1 1977.6 1433.1 Q1975.81 1433.1 1973.82 1433.72 Q1971.84 1434.34 1969.59 1435.6 L1969.59 1431.77 Q1971.88 1430.85 1973.87 1430.38 Q1975.87 1429.91 1977.52 1429.91 Q1981.89 1429.91 1984.48 1432.09 Q1987.08 1434.27 1987.08 1437.92 Q1987.08 1439.65 1986.42 1441.21 Q1985.78 1442.75 1984.07 1444.86 Q1983.6 1445.4 1981.08 1448.02 Q1978.56 1450.61 1973.97 1455.3 Z\" fill=\"#000000\" fill-rule=\"evenodd\" fill-opacity=\"1\" /><path clip-path=\"url(#clip660)\" d=\"M 0 0 M138.945 1386.83 Q135.334 1386.83 133.505 1390.4 Q131.7 1393.94 131.7 1401.07 Q131.7 1408.17 133.505 1411.74 Q135.334 1415.28 138.945 1415.28 Q142.58 1415.28 144.385 1411.74 Q146.214 1408.17 146.214 1401.07 Q146.214 1393.94 144.385 1390.4 Q142.58 1386.83 138.945 1386.83 M138.945 1383.13 Q144.755 1383.13 147.811 1387.74 Q150.89 1392.32 150.89 1401.07 Q150.89 1409.8 147.811 1414.4 Q144.755 1418.99 138.945 1418.99 Q133.135 1418.99 130.056 1414.4 Q127.001 1409.8 127.001 1401.07 Q127.001 1392.32 130.056 1387.74 Q133.135 1383.13 138.945 1383.13 Z\" fill=\"#000000\" fill-rule=\"evenodd\" fill-opacity=\"1\" /><path clip-path=\"url(#clip660)\" d=\"M 0 0 M155.959 1412.43 L160.843 1412.43 L160.843 1418.31 L155.959 1418.31 L155.959 1412.43 Z\" fill=\"#000000\" fill-rule=\"evenodd\" fill-opacity=\"1\" /><path clip-path=\"url(#clip660)\" d=\"M 0 0 M166.052 1417.6 L166.052 1413.34 Q167.811 1414.17 169.616 1414.61 Q171.422 1415.05 173.158 1415.05 Q177.788 1415.05 180.218 1411.95 Q182.672 1408.82 183.019 1402.48 Q181.677 1404.47 179.616 1405.54 Q177.556 1406.6 175.056 1406.6 Q169.871 1406.6 166.839 1403.48 Q163.829 1400.33 163.829 1394.89 Q163.829 1389.56 166.978 1386.35 Q170.126 1383.13 175.357 1383.13 Q181.352 1383.13 184.501 1387.74 Q187.672 1392.32 187.672 1401.07 Q187.672 1409.24 183.783 1414.12 Q179.917 1418.99 173.366 1418.99 Q171.607 1418.99 169.802 1418.64 Q167.996 1418.29 166.052 1417.6 M175.357 1402.94 Q178.505 1402.94 180.334 1400.79 Q182.186 1398.64 182.186 1394.89 Q182.186 1391.16 180.334 1389.01 Q178.505 1386.83 175.357 1386.83 Q172.209 1386.83 170.357 1389.01 Q168.528 1391.16 168.528 1394.89 Q168.528 1398.64 170.357 1400.79 Q172.209 1402.94 175.357 1402.94 Z\" fill=\"#000000\" fill-rule=\"evenodd\" fill-opacity=\"1\" /><path clip-path=\"url(#clip660)\" d=\"M 0 0 M191.561 1383.75 L213.783 1383.75 L213.783 1385.74 L201.237 1418.31 L196.352 1418.31 L208.158 1387.69 L191.561 1387.69 L191.561 1383.75 Z\" fill=\"#000000\" fill-rule=\"evenodd\" fill-opacity=\"1\" /><path clip-path=\"url(#clip660)\" d=\"M 0 0 M229.431 1399.17 Q226.283 1399.17 224.431 1401.32 Q222.602 1403.48 222.602 1407.23 Q222.602 1410.95 224.431 1413.13 Q226.283 1415.28 229.431 1415.28 Q232.579 1415.28 234.408 1413.13 Q236.26 1410.95 236.26 1407.23 Q236.26 1403.48 234.408 1401.32 Q232.579 1399.17 229.431 1399.17 M238.713 1384.52 L238.713 1388.78 Q236.954 1387.94 235.148 1387.5 Q233.366 1387.06 231.607 1387.06 Q226.977 1387.06 224.524 1390.19 Q222.093 1393.31 221.746 1399.63 Q223.111 1397.62 225.172 1396.55 Q227.232 1395.47 229.709 1395.47 Q234.917 1395.47 237.926 1398.64 Q240.959 1401.79 240.959 1407.23 Q240.959 1412.55 237.81 1415.77 Q234.662 1418.99 229.431 1418.99 Q223.436 1418.99 220.264 1414.4 Q217.093 1409.8 217.093 1401.07 Q217.093 1392.87 220.982 1388.01 Q224.871 1383.13 231.422 1383.13 Q233.181 1383.13 234.963 1383.48 Q236.769 1383.82 238.713 1384.52 Z\" fill=\"#000000\" fill-rule=\"evenodd\" fill-opacity=\"1\" /><path clip-path=\"url(#clip660)\" d=\"M 0 0 M246.074 1383.75 L264.431 1383.75 L264.431 1387.69 L250.357 1387.69 L250.357 1396.16 Q251.375 1395.81 252.394 1395.65 Q253.412 1395.47 254.431 1395.47 Q260.218 1395.47 263.597 1398.64 Q266.977 1401.81 266.977 1407.23 Q266.977 1412.8 263.505 1415.91 Q260.033 1418.99 253.713 1418.99 Q251.537 1418.99 249.269 1418.61 Q247.023 1418.24 244.616 1417.5 L244.616 1412.8 Q246.699 1413.94 248.922 1414.49 Q251.144 1415.05 253.621 1415.05 Q257.625 1415.05 259.963 1412.94 Q262.301 1410.84 262.301 1407.23 Q262.301 1403.61 259.963 1401.51 Q257.625 1399.4 253.621 1399.4 Q251.746 1399.4 249.871 1399.82 Q248.019 1400.24 246.074 1401.11 L246.074 1383.75 Z\" fill=\"#000000\" fill-rule=\"evenodd\" fill-opacity=\"1\" /><path clip-path=\"url(#clip660)\" d=\"M 0 0 M139.015 960.441 Q135.404 960.441 133.575 964.006 Q131.769 967.547 131.769 974.677 Q131.769 981.783 133.575 985.348 Q135.404 988.89 139.015 988.89 Q142.649 988.89 144.455 985.348 Q146.283 981.783 146.283 974.677 Q146.283 967.547 144.455 964.006 Q142.649 960.441 139.015 960.441 M139.015 956.737 Q144.825 956.737 147.88 961.344 Q150.959 965.927 150.959 974.677 Q150.959 983.404 147.88 988.01 Q144.825 992.593 139.015 992.593 Q133.205 992.593 130.126 988.01 Q127.07 983.404 127.07 974.677 Q127.07 965.927 130.126 961.344 Q133.205 956.737 139.015 956.737 Z\" fill=\"#000000\" fill-rule=\"evenodd\" fill-opacity=\"1\" /><path clip-path=\"url(#clip660)\" d=\"M 0 0 M156.029 986.043 L160.913 986.043 L160.913 991.922 L156.029 991.922 L156.029 986.043 Z\" fill=\"#000000\" fill-rule=\"evenodd\" fill-opacity=\"1\" /><path clip-path=\"url(#clip660)\" d=\"M 0 0 M166.121 991.205 L166.121 986.945 Q167.88 987.779 169.686 988.218 Q171.491 988.658 173.227 988.658 Q177.857 988.658 180.288 985.556 Q182.741 982.431 183.089 976.089 Q181.746 978.08 179.686 979.144 Q177.626 980.209 175.126 980.209 Q169.94 980.209 166.908 977.084 Q163.899 973.936 163.899 968.496 Q163.899 963.172 167.047 959.955 Q170.195 956.737 175.427 956.737 Q181.422 956.737 184.57 961.344 Q187.741 965.927 187.741 974.677 Q187.741 982.848 183.852 987.732 Q179.987 992.593 173.436 992.593 Q171.677 992.593 169.871 992.246 Q168.065 991.899 166.121 991.205 M175.427 976.552 Q178.575 976.552 180.403 974.399 Q182.255 972.246 182.255 968.496 Q182.255 964.77 180.403 962.617 Q178.575 960.441 175.427 960.441 Q172.278 960.441 170.427 962.617 Q168.598 964.77 168.598 968.496 Q168.598 972.246 170.427 974.399 Q172.278 976.552 175.427 976.552 Z\" fill=\"#000000\" fill-rule=\"evenodd\" fill-opacity=\"1\" /><path clip-path=\"url(#clip660)\" d=\"M 0 0 M191.63 957.362 L213.852 957.362 L213.852 959.353 L201.306 991.922 L196.422 991.922 L208.227 961.297 L191.63 961.297 L191.63 957.362 Z\" fill=\"#000000\" fill-rule=\"evenodd\" fill-opacity=\"1\" /><path clip-path=\"url(#clip660)\" d=\"M 0 0 M217.741 957.362 L239.963 957.362 L239.963 959.353 L227.417 991.922 L222.533 991.922 L234.338 961.297 L217.741 961.297 L217.741 957.362 Z\" fill=\"#000000\" fill-rule=\"evenodd\" fill-opacity=\"1\" /><path clip-path=\"url(#clip660)\" d=\"M 0 0 M255.033 960.441 Q251.422 960.441 249.593 964.006 Q247.787 967.547 247.787 974.677 Q247.787 981.783 249.593 985.348 Q251.422 988.89 255.033 988.89 Q258.667 988.89 260.472 985.348 Q262.301 981.783 262.301 974.677 Q262.301 967.547 260.472 964.006 Q258.667 960.441 255.033 960.441 M255.033 956.737 Q260.843 956.737 263.898 961.344 Q266.977 965.927 266.977 974.677 Q266.977 983.404 263.898 988.01 Q260.843 992.593 255.033 992.593 Q249.222 992.593 246.144 988.01 Q243.088 983.404 243.088 974.677 Q243.088 965.927 246.144 961.344 Q249.222 956.737 255.033 956.737 Z\" fill=\"#000000\" fill-rule=\"evenodd\" fill-opacity=\"1\" /><path clip-path=\"url(#clip660)\" d=\"M 0 0 M140.01 534.049 Q136.399 534.049 134.57 537.614 Q132.765 541.156 132.765 548.285 Q132.765 555.392 134.57 558.957 Q136.399 562.498 140.01 562.498 Q143.644 562.498 145.45 558.957 Q147.279 555.392 147.279 548.285 Q147.279 541.156 145.45 537.614 Q143.644 534.049 140.01 534.049 M140.01 530.346 Q145.82 530.346 148.876 534.952 Q151.954 539.535 151.954 548.285 Q151.954 557.012 148.876 561.619 Q145.82 566.202 140.01 566.202 Q134.2 566.202 131.121 561.619 Q128.066 557.012 128.066 548.285 Q128.066 539.535 131.121 534.952 Q134.2 530.346 140.01 530.346 Z\" fill=\"#000000\" fill-rule=\"evenodd\" fill-opacity=\"1\" /><path clip-path=\"url(#clip660)\" d=\"M 0 0 M157.024 559.651 L161.908 559.651 L161.908 565.531 L157.024 565.531 L157.024 559.651 Z\" fill=\"#000000\" fill-rule=\"evenodd\" fill-opacity=\"1\" /><path clip-path=\"url(#clip660)\" d=\"M 0 0 M167.116 564.813 L167.116 560.554 Q168.876 561.387 170.681 561.827 Q172.487 562.267 174.223 562.267 Q178.852 562.267 181.283 559.165 Q183.737 556.04 184.084 549.697 Q182.741 551.688 180.681 552.753 Q178.621 553.818 176.121 553.818 Q170.936 553.818 167.903 550.693 Q164.894 547.545 164.894 542.105 Q164.894 536.781 168.042 533.563 Q171.19 530.346 176.422 530.346 Q182.417 530.346 185.565 534.952 Q188.737 539.535 188.737 548.285 Q188.737 556.457 184.848 561.341 Q180.982 566.202 174.431 566.202 Q172.672 566.202 170.866 565.855 Q169.061 565.507 167.116 564.813 M176.422 550.16 Q179.57 550.16 181.399 548.008 Q183.251 545.855 183.251 542.105 Q183.251 538.378 181.399 536.225 Q179.57 534.049 176.422 534.049 Q173.274 534.049 171.422 536.225 Q169.593 538.378 169.593 542.105 Q169.593 545.855 171.422 548.008 Q173.274 550.16 176.422 550.16 Z\" fill=\"#000000\" fill-rule=\"evenodd\" fill-opacity=\"1\" /><path clip-path=\"url(#clip660)\" d=\"M 0 0 M192.626 530.971 L214.848 530.971 L214.848 532.961 L202.301 565.531 L197.417 565.531 L209.223 534.906 L192.626 534.906 L192.626 530.971 Z\" fill=\"#000000\" fill-rule=\"evenodd\" fill-opacity=\"1\" /><path clip-path=\"url(#clip660)\" d=\"M 0 0 M218.737 530.971 L240.959 530.971 L240.959 532.961 L228.412 565.531 L223.528 565.531 L235.334 534.906 L218.737 534.906 L218.737 530.971 Z\" fill=\"#000000\" fill-rule=\"evenodd\" fill-opacity=\"1\" /><path clip-path=\"url(#clip660)\" d=\"M 0 0 M246.074 530.971 L264.431 530.971 L264.431 534.906 L250.357 534.906 L250.357 543.378 Q251.375 543.031 252.394 542.869 Q253.412 542.684 254.431 542.684 Q260.218 542.684 263.597 545.855 Q266.977 549.026 266.977 554.443 Q266.977 560.021 263.505 563.123 Q260.033 566.202 253.713 566.202 Q251.537 566.202 249.269 565.832 Q247.023 565.461 244.616 564.72 L244.616 560.021 Q246.699 561.156 248.922 561.711 Q251.144 562.267 253.621 562.267 Q257.625 562.267 259.963 560.16 Q262.301 558.054 262.301 554.443 Q262.301 550.832 259.963 548.725 Q257.625 546.619 253.621 546.619 Q251.746 546.619 249.871 547.035 Q248.019 547.452 246.074 548.332 L246.074 530.971 Z\" fill=\"#000000\" fill-rule=\"evenodd\" fill-opacity=\"1\" /><path clip-path=\"url(#clip660)\" d=\"M 0 0 M138.205 107.658 Q134.593 107.658 132.765 111.223 Q130.959 114.764 130.959 121.894 Q130.959 129 132.765 132.565 Q134.593 136.107 138.205 136.107 Q141.839 136.107 143.644 132.565 Q145.473 129 145.473 121.894 Q145.473 114.764 143.644 111.223 Q141.839 107.658 138.205 107.658 M138.205 103.954 Q144.015 103.954 147.07 108.561 Q150.149 113.144 150.149 121.894 Q150.149 130.621 147.07 135.227 Q144.015 139.81 138.205 139.81 Q132.394 139.81 129.316 135.227 Q126.26 130.621 126.26 121.894 Q126.26 113.144 129.316 108.561 Q132.394 103.954 138.205 103.954 Z\" fill=\"#000000\" fill-rule=\"evenodd\" fill-opacity=\"1\" /><path clip-path=\"url(#clip660)\" d=\"M 0 0 M155.218 133.259 L160.103 133.259 L160.103 139.139 L155.218 139.139 L155.218 133.259 Z\" fill=\"#000000\" fill-rule=\"evenodd\" fill-opacity=\"1\" /><path clip-path=\"url(#clip660)\" d=\"M 0 0 M165.311 138.421 L165.311 134.162 Q167.07 134.996 168.876 135.435 Q170.681 135.875 172.417 135.875 Q177.047 135.875 179.477 132.773 Q181.931 129.648 182.278 123.306 Q180.936 125.297 178.876 126.361 Q176.815 127.426 174.315 127.426 Q169.13 127.426 166.098 124.301 Q163.089 121.153 163.089 115.713 Q163.089 110.389 166.237 107.172 Q169.385 103.954 174.616 103.954 Q180.612 103.954 183.76 108.561 Q186.931 113.144 186.931 121.894 Q186.931 130.065 183.042 134.949 Q179.177 139.81 172.626 139.81 Q170.866 139.81 169.061 139.463 Q167.255 139.116 165.311 138.421 M174.616 123.769 Q177.765 123.769 179.593 121.616 Q181.445 119.463 181.445 115.713 Q181.445 111.986 179.593 109.834 Q177.765 107.658 174.616 107.658 Q171.468 107.658 169.616 109.834 Q167.788 111.986 167.788 115.713 Q167.788 119.463 169.616 121.616 Q171.468 123.769 174.616 123.769 Z\" fill=\"#000000\" fill-rule=\"evenodd\" fill-opacity=\"1\" /><path clip-path=\"url(#clip660)\" d=\"M 0 0 M190.82 104.579 L213.042 104.579 L213.042 106.57 L200.496 139.139 L195.612 139.139 L207.417 108.514 L190.82 108.514 L190.82 104.579 Z\" fill=\"#000000\" fill-rule=\"evenodd\" fill-opacity=\"1\" /><path clip-path=\"url(#clip660)\" d=\"M 0 0 M228.111 122.727 Q224.778 122.727 222.857 124.509 Q220.959 126.292 220.959 129.417 Q220.959 132.542 222.857 134.324 Q224.778 136.107 228.111 136.107 Q231.445 136.107 233.366 134.324 Q235.287 132.519 235.287 129.417 Q235.287 126.292 233.366 124.509 Q231.468 122.727 228.111 122.727 M223.436 120.736 Q220.426 119.996 218.737 117.935 Q217.07 115.875 217.07 112.912 Q217.07 108.769 220.01 106.361 Q222.973 103.954 228.111 103.954 Q233.273 103.954 236.213 106.361 Q239.153 108.769 239.153 112.912 Q239.153 115.875 237.463 117.935 Q235.797 119.996 232.811 120.736 Q236.19 121.523 238.065 123.815 Q239.963 126.107 239.963 129.417 Q239.963 134.44 236.885 137.125 Q233.829 139.81 228.111 139.81 Q222.394 139.81 219.315 137.125 Q216.26 134.44 216.26 129.417 Q216.26 126.107 218.158 123.815 Q220.056 121.523 223.436 120.736 M221.723 113.352 Q221.723 116.037 223.389 117.542 Q225.079 119.047 228.111 119.047 Q231.121 119.047 232.811 117.542 Q234.523 116.037 234.523 113.352 Q234.523 110.667 232.811 109.162 Q231.121 107.658 228.111 107.658 Q225.079 107.658 223.389 109.162 Q221.723 110.667 221.723 113.352 Z\" fill=\"#000000\" fill-rule=\"evenodd\" fill-opacity=\"1\" /><path clip-path=\"url(#clip660)\" d=\"M 0 0 M255.033 107.658 Q251.422 107.658 249.593 111.223 Q247.787 114.764 247.787 121.894 Q247.787 129 249.593 132.565 Q251.422 136.107 255.033 136.107 Q258.667 136.107 260.472 132.565 Q262.301 129 262.301 121.894 Q262.301 114.764 260.472 111.223 Q258.667 107.658 255.033 107.658 M255.033 103.954 Q260.843 103.954 263.898 108.561 Q266.977 113.144 266.977 121.894 Q266.977 130.621 263.898 135.227 Q260.843 139.81 255.033 139.81 Q249.222 139.81 246.144 135.227 Q243.088 130.621 243.088 121.894 Q243.088 113.144 246.144 108.561 Q249.222 103.954 255.033 103.954 Z\" fill=\"#000000\" fill-rule=\"evenodd\" fill-opacity=\"1\" /><path clip-path=\"url(#clip660)\" d=\"M 0 0 M1341.03 1518.33 L1341.03 1525.11 Q1337.78 1522.08 1334.09 1520.59 Q1330.43 1519.09 1326.29 1519.09 Q1318.14 1519.09 1313.81 1524.09 Q1309.49 1529.05 1309.49 1538.47 Q1309.49 1547.86 1313.81 1552.86 Q1318.14 1557.82 1326.29 1557.82 Q1330.43 1557.82 1334.09 1556.33 Q1337.78 1554.83 1341.03 1551.81 L1341.03 1558.53 Q1337.65 1560.82 1333.87 1561.96 Q1330.11 1563.11 1325.91 1563.11 Q1315.12 1563.11 1308.91 1556.52 Q1302.71 1549.9 1302.71 1538.47 Q1302.71 1527.01 1308.91 1520.43 Q1315.12 1513.81 1325.91 1513.81 Q1330.17 1513.81 1333.93 1514.95 Q1337.72 1516.07 1341.03 1518.33 Z\" fill=\"#000000\" fill-rule=\"evenodd\" fill-opacity=\"1\" /><path clip-path=\"url(#clip660)\" d=\"M 0 0 M44.1444 1020.68 L50.9239 1020.68 Q47.9002 1023.93 46.4043 1027.62 Q44.9083 1031.28 44.9083 1035.42 Q44.9083 1043.57 49.9054 1047.9 Q54.8707 1052.23 64.2919 1052.23 Q73.6813 1052.23 78.6784 1047.9 Q83.6436 1043.57 83.6436 1035.42 Q83.6436 1031.28 82.1477 1027.62 Q80.6518 1023.93 77.6281 1020.68 L84.3439 1020.68 Q86.6355 1024.06 87.7814 1027.84 Q88.9272 1031.6 88.9272 1035.8 Q88.9272 1046.59 82.3387 1052.8 Q75.7183 1059 64.2919 1059 Q52.8336 1059 46.2451 1052.8 Q39.6248 1046.59 39.6248 1035.8 Q39.6248 1031.54 40.7706 1027.78 Q41.8846 1023.99 44.1444 1020.68 Z\" fill=\"#000000\" fill-rule=\"evenodd\" fill-opacity=\"1\" /><path clip-path=\"url(#clip660)\" d=\"M 0 0 M38.479 1014.54 L38.479 1008.68 L88.0042 1008.68 L88.0042 1014.54 L38.479 1014.54 Z\" fill=\"#000000\" fill-rule=\"evenodd\" fill-opacity=\"1\" /><path clip-path=\"url(#clip660)\" d=\"M 0 0 M70.0847 986.34 Q70.0847 993.438 71.7079 996.175 Q73.3312 998.913 77.2461 998.913 Q80.3653 998.913 82.2114 996.876 Q84.0256 994.807 84.0256 991.274 Q84.0256 986.404 80.5881 983.476 Q77.1188 980.516 71.3897 980.516 L70.0847 980.516 L70.0847 986.34 M67.6657 974.659 L88.0042 974.659 L88.0042 980.516 L82.5933 980.516 Q85.8398 982.521 87.3994 985.513 Q88.9272 988.505 88.9272 992.833 Q88.9272 998.308 85.8716 1001.55 Q82.7843 1004.77 77.6281 1004.77 Q71.6125 1004.77 68.5569 1000.76 Q65.5014 996.717 65.5014 988.728 L65.5014 980.516 L64.9285 980.516 Q60.8862 980.516 58.6901 983.189 Q56.4621 985.831 56.4621 990.637 Q56.4621 993.693 57.1941 996.589 Q57.9262 999.486 59.3903 1002.16 L53.9795 1002.16 Q52.7381 998.945 52.1334 995.921 Q51.4968 992.897 51.4968 990.033 Q51.4968 982.298 55.5072 978.479 Q59.5176 974.659 67.6657 974.659 Z\" fill=\"#000000\" fill-rule=\"evenodd\" fill-opacity=\"1\" /><path clip-path=\"url(#clip660)\" d=\"M 0 0 M53.4065 945.791 L58.9447 945.791 Q57.6716 948.273 57.035 950.947 Q56.3984 953.621 56.3984 956.485 Q56.3984 960.846 57.7352 963.042 Q59.072 965.206 61.7456 965.206 Q63.7826 965.206 64.9603 963.647 Q66.1061 962.087 67.1565 957.376 L67.6021 955.371 Q68.9389 949.133 71.3897 946.523 Q73.8086 943.881 78.1691 943.881 Q83.1344 943.881 86.0308 947.828 Q88.9272 951.743 88.9272 958.618 Q88.9272 961.482 88.3543 964.602 Q87.8132 967.689 86.6992 971.126 L80.6518 971.126 Q82.3387 967.88 83.198 964.729 Q84.0256 961.578 84.0256 958.49 Q84.0256 954.353 82.6251 952.125 Q81.1929 949.897 78.6147 949.897 Q76.2276 949.897 74.9545 951.52 Q73.6813 953.111 72.5037 958.554 L72.0262 960.591 Q70.8804 966.034 68.5251 968.453 Q66.138 970.872 62.0002 970.872 Q56.9713 970.872 54.2341 967.307 Q51.4968 963.742 51.4968 957.185 Q51.4968 953.939 51.9743 951.074 Q52.4517 948.21 53.4065 945.791 Z\" fill=\"#000000\" fill-rule=\"evenodd\" fill-opacity=\"1\" /><path clip-path=\"url(#clip660)\" d=\"M 0 0 M53.4065 915.013 L58.9447 915.013 Q57.6716 917.495 57.035 920.169 Q56.3984 922.842 56.3984 925.707 Q56.3984 930.068 57.7352 932.264 Q59.072 934.428 61.7456 934.428 Q63.7826 934.428 64.9603 932.868 Q66.1061 931.309 67.1565 926.598 L67.6021 924.593 Q68.9389 918.355 71.3897 915.745 Q73.8086 913.103 78.1691 913.103 Q83.1344 913.103 86.0308 917.05 Q88.9272 920.965 88.9272 927.84 Q88.9272 930.704 88.3543 933.823 Q87.8132 936.911 86.6992 940.348 L80.6518 940.348 Q82.3387 937.102 83.198 933.951 Q84.0256 930.8 84.0256 927.712 Q84.0256 923.575 82.6251 921.347 Q81.1929 919.119 78.6147 919.119 Q76.2276 919.119 74.9545 920.742 Q73.6813 922.333 72.5037 927.776 L72.0262 929.813 Q70.8804 935.256 68.5251 937.675 Q66.138 940.094 62.0002 940.094 Q56.9713 940.094 54.2341 936.529 Q51.4968 932.964 51.4968 926.407 Q51.4968 923.161 51.9743 920.296 Q52.4517 917.432 53.4065 915.013 Z\" fill=\"#000000\" fill-rule=\"evenodd\" fill-opacity=\"1\" /><path clip-path=\"url(#clip660)\" d=\"M 0 0 M52.3562 906.96 L52.3562 901.104 L88.0042 901.104 L88.0042 906.96 L52.3562 906.96 M38.479 906.96 L38.479 901.104 L45.895 901.104 L45.895 906.96 L38.479 906.96 Z\" fill=\"#000000\" fill-rule=\"evenodd\" fill-opacity=\"1\" /><path clip-path=\"url(#clip660)\" d=\"M 0 0 M38.479 876.914 L43.3487 876.914 L43.3487 882.516 Q43.3487 885.667 44.6219 886.908 Q45.895 888.118 49.2052 888.118 L52.3562 888.118 L52.3562 878.474 L56.9077 878.474 L56.9077 888.118 L88.0042 888.118 L88.0042 894.006 L56.9077 894.006 L56.9077 899.608 L52.3562 899.608 L52.3562 894.006 L49.8736 894.006 Q43.9216 894.006 41.2162 891.237 Q38.479 888.468 38.479 882.452 L38.479 876.914 Z\" fill=\"#000000\" fill-rule=\"evenodd\" fill-opacity=\"1\" /><path clip-path=\"url(#clip660)\" d=\"M 0 0 M52.3562 870.771 L52.3562 864.915 L88.0042 864.915 L88.0042 870.771 L52.3562 870.771 M38.479 870.771 L38.479 864.915 L45.895 864.915 L45.895 870.771 L38.479 870.771 Z\" fill=\"#000000\" fill-rule=\"evenodd\" fill-opacity=\"1\" /><path clip-path=\"url(#clip660)\" d=\"M 0 0 M53.7248 833.118 L59.1993 833.118 Q57.8307 835.6 57.1623 838.115 Q56.4621 840.598 56.4621 843.144 Q56.4621 848.841 60.0905 851.992 Q63.6872 855.143 70.212 855.143 Q76.7369 855.143 80.3653 851.992 Q83.9619 848.841 83.9619 843.144 Q83.9619 840.598 83.2935 838.115 Q82.5933 835.6 81.2247 833.118 L86.6355 833.118 Q87.7814 835.569 88.3543 838.21 Q88.9272 840.82 88.9272 843.78 Q88.9272 851.833 83.8664 856.575 Q78.8057 861.318 70.212 861.318 Q61.491 861.318 56.4939 856.544 Q51.4968 851.738 51.4968 843.398 Q51.4968 840.693 52.0697 838.115 Q52.6108 835.537 53.7248 833.118 Z\" fill=\"#000000\" fill-rule=\"evenodd\" fill-opacity=\"1\" /><path clip-path=\"url(#clip660)\" d=\"M 0 0 M70.0847 810.774 Q70.0847 817.872 71.7079 820.609 Q73.3312 823.346 77.2461 823.346 Q80.3653 823.346 82.2114 821.309 Q84.0256 819.241 84.0256 815.708 Q84.0256 810.838 80.5881 807.91 Q77.1188 804.95 71.3897 804.95 L70.0847 804.95 L70.0847 810.774 M67.6657 799.093 L88.0042 799.093 L88.0042 804.95 L82.5933 804.95 Q85.8398 806.955 87.3994 809.947 Q88.9272 812.939 88.9272 817.267 Q88.9272 822.742 85.8716 825.988 Q82.7843 829.203 77.6281 829.203 Q71.6125 829.203 68.5569 825.193 Q65.5014 821.15 65.5014 813.161 L65.5014 804.95 L64.9285 804.95 Q60.8862 804.95 58.6901 807.623 Q56.4621 810.265 56.4621 815.071 Q56.4621 818.127 57.1941 821.023 Q57.9262 823.919 59.3903 826.593 L53.9795 826.593 Q52.7381 823.378 52.1334 820.355 Q51.4968 817.331 51.4968 814.466 Q51.4968 806.732 55.5072 802.913 Q59.5176 799.093 67.6657 799.093 Z\" fill=\"#000000\" fill-rule=\"evenodd\" fill-opacity=\"1\" /><path clip-path=\"url(#clip660)\" d=\"M 0 0 M42.2347 787.157 L52.3562 787.157 L52.3562 775.094 L56.9077 775.094 L56.9077 787.157 L76.2594 787.157 Q80.6199 787.157 81.8613 785.98 Q83.1026 784.77 83.1026 781.11 L83.1026 775.094 L88.0042 775.094 L88.0042 781.11 Q88.0042 787.889 85.4897 790.468 Q82.9434 793.046 76.2594 793.046 L56.9077 793.046 L56.9077 797.343 L52.3562 797.343 L52.3562 793.046 L42.2347 793.046 L42.2347 787.157 Z\" fill=\"#000000\" fill-rule=\"evenodd\" fill-opacity=\"1\" /><path clip-path=\"url(#clip660)\" d=\"M 0 0 M52.3562 768.952 L52.3562 763.095 L88.0042 763.095 L88.0042 768.952 L52.3562 768.952 M38.479 768.952 L38.479 763.095 L45.895 763.095 L45.895 768.952 L38.479 768.952 Z\" fill=\"#000000\" fill-rule=\"evenodd\" fill-opacity=\"1\" /><path clip-path=\"url(#clip660)\" d=\"M 0 0 M56.4621 743.139 Q56.4621 747.849 60.1542 750.586 Q63.8145 753.324 70.212 753.324 Q76.6095 753.324 80.3017 750.618 Q83.9619 747.881 83.9619 743.139 Q83.9619 738.46 80.2698 735.723 Q76.5777 732.985 70.212 732.985 Q63.8781 732.985 60.186 735.723 Q56.4621 738.46 56.4621 743.139 M51.4968 743.139 Q51.4968 735.5 56.4621 731.139 Q61.4273 726.779 70.212 726.779 Q78.9649 726.779 83.9619 731.139 Q88.9272 735.5 88.9272 743.139 Q88.9272 750.809 83.9619 755.17 Q78.9649 759.498 70.212 759.498 Q61.4273 759.498 56.4621 755.17 Q51.4968 750.809 51.4968 743.139 Z\" fill=\"#000000\" fill-rule=\"evenodd\" fill-opacity=\"1\" /><path clip-path=\"url(#clip660)\" d=\"M 0 0 M66.4881 691.003 L88.0042 691.003 L88.0042 696.86 L66.679 696.86 Q61.6183 696.86 59.1038 698.833 Q56.5894 700.807 56.5894 704.753 Q56.5894 709.496 59.6131 712.233 Q62.6368 714.97 67.8567 714.97 L88.0042 714.97 L88.0042 720.859 L52.3562 720.859 L52.3562 714.97 L57.8944 714.97 Q54.6797 712.87 53.0883 710.037 Q51.4968 707.172 51.4968 703.448 Q51.4968 697.305 55.3163 694.154 Q59.1038 691.003 66.4881 691.003 Z\" fill=\"#000000\" fill-rule=\"evenodd\" fill-opacity=\"1\" /><path clip-path=\"url(#clip660)\" d=\"M 0 0 M46.818 648.003 L70.4666 656.724 L70.4666 639.25 L46.818 648.003 M40.4842 651.632 L40.4842 644.343 L88.0042 626.232 L88.0042 632.916 L75.8138 637.245 L75.8138 658.666 L88.0042 662.994 L88.0042 669.774 L40.4842 651.632 Z\" fill=\"#000000\" fill-rule=\"evenodd\" fill-opacity=\"1\" /><path clip-path=\"url(#clip660)\" d=\"M 0 0 M53.7248 595.582 L59.1993 595.582 Q57.8307 598.064 57.1623 600.579 Q56.4621 603.061 56.4621 605.607 Q56.4621 611.305 60.0905 614.456 Q63.6872 617.607 70.212 617.607 Q76.7369 617.607 80.3653 614.456 Q83.9619 611.305 83.9619 605.607 Q83.9619 603.061 83.2935 600.579 Q82.5933 598.064 81.2247 595.582 L86.6355 595.582 Q87.7814 598.032 88.3543 600.674 Q88.9272 603.284 88.9272 606.244 Q88.9272 614.297 83.8664 619.039 Q78.8057 623.782 70.212 623.782 Q61.491 623.782 56.4939 619.007 Q51.4968 614.201 51.4968 605.862 Q51.4968 603.157 52.0697 600.579 Q52.6108 598 53.7248 595.582 Z\" fill=\"#000000\" fill-rule=\"evenodd\" fill-opacity=\"1\" /><path clip-path=\"url(#clip660)\" d=\"M 0 0 M53.7248 563.785 L59.1993 563.785 Q57.8307 566.267 57.1623 568.782 Q56.4621 571.265 56.4621 573.811 Q56.4621 579.508 60.0905 582.659 Q63.6872 585.81 70.212 585.81 Q76.7369 585.81 80.3653 582.659 Q83.9619 579.508 83.9619 573.811 Q83.9619 571.265 83.2935 568.782 Q82.5933 566.267 81.2247 563.785 L86.6355 563.785 Q87.7814 566.236 88.3543 568.877 Q88.9272 571.487 88.9272 574.447 Q88.9272 582.5 83.8664 587.242 Q78.8057 591.985 70.212 591.985 Q61.491 591.985 56.4939 587.211 Q51.4968 582.404 51.4968 574.065 Q51.4968 571.36 52.0697 568.782 Q52.6108 566.204 53.7248 563.785 Z\" fill=\"#000000\" fill-rule=\"evenodd\" fill-opacity=\"1\" /><path clip-path=\"url(#clip660)\" d=\"M 0 0 M73.9359 558.247 L52.3562 558.247 L52.3562 552.39 L73.7131 552.39 Q78.7739 552.39 81.3202 550.417 Q83.8346 548.443 83.8346 544.497 Q83.8346 539.754 80.8109 537.017 Q77.7872 534.248 72.5673 534.248 L52.3562 534.248 L52.3562 528.391 L88.0042 528.391 L88.0042 534.248 L82.5296 534.248 Q85.7762 536.38 87.3676 539.213 Q88.9272 542.014 88.9272 545.738 Q88.9272 551.881 85.1078 555.064 Q81.2883 558.247 73.9359 558.247 M51.4968 543.51 L51.4968 543.51 Z\" fill=\"#000000\" fill-rule=\"evenodd\" fill-opacity=\"1\" /><path clip-path=\"url(#clip660)\" d=\"M 0 0 M57.8307 501.592 Q57.2578 502.579 57.0032 503.756 Q56.7167 504.902 56.7167 506.302 Q56.7167 511.268 59.9632 513.941 Q63.1779 516.583 69.2253 516.583 L88.0042 516.583 L88.0042 522.471 L52.3562 522.471 L52.3562 516.583 L57.8944 516.583 Q54.6479 514.737 53.0883 511.777 Q51.4968 508.817 51.4968 504.584 Q51.4968 503.979 51.5923 503.247 Q51.656 502.515 51.8151 501.624 L57.8307 501.592 Z\" fill=\"#000000\" fill-rule=\"evenodd\" fill-opacity=\"1\" /><path clip-path=\"url(#clip660)\" d=\"M 0 0 M70.0847 479.248 Q70.0847 486.346 71.7079 489.083 Q73.3312 491.82 77.2461 491.82 Q80.3653 491.82 82.2114 489.783 Q84.0256 487.715 84.0256 484.182 Q84.0256 479.312 80.5881 476.384 Q77.1188 473.424 71.3897 473.424 L70.0847 473.424 L70.0847 479.248 M67.6657 467.567 L88.0042 467.567 L88.0042 473.424 L82.5933 473.424 Q85.8398 475.429 87.3994 478.421 Q88.9272 481.413 88.9272 485.741 Q88.9272 491.216 85.8716 494.462 Q82.7843 497.677 77.6281 497.677 Q71.6125 497.677 68.5569 493.667 Q65.5014 489.624 65.5014 481.635 L65.5014 473.424 L64.9285 473.424 Q60.8862 473.424 58.6901 476.097 Q56.4621 478.739 56.4621 483.545 Q56.4621 486.601 57.1941 489.497 Q57.9262 492.393 59.3903 495.067 L53.9795 495.067 Q52.7381 491.852 52.1334 488.829 Q51.4968 485.805 51.4968 482.94 Q51.4968 475.206 55.5072 471.387 Q59.5176 467.567 67.6657 467.567 Z\" fill=\"#000000\" fill-rule=\"evenodd\" fill-opacity=\"1\" /><path clip-path=\"url(#clip660)\" d=\"M 0 0 M53.7248 435.77 L59.1993 435.77 Q57.8307 438.253 57.1623 440.768 Q56.4621 443.25 56.4621 445.796 Q56.4621 451.494 60.0905 454.645 Q63.6872 457.796 70.212 457.796 Q76.7369 457.796 80.3653 454.645 Q83.9619 451.494 83.9619 445.796 Q83.9619 443.25 83.2935 440.768 Q82.5933 438.253 81.2247 435.77 L86.6355 435.77 Q87.7814 438.221 88.3543 440.863 Q88.9272 443.473 88.9272 446.433 Q88.9272 454.486 83.8664 459.228 Q78.8057 463.971 70.212 463.971 Q61.491 463.971 56.4939 459.196 Q51.4968 454.39 51.4968 446.051 Q51.4968 443.346 52.0697 440.768 Q52.6108 438.189 53.7248 435.77 Z\" fill=\"#000000\" fill-rule=\"evenodd\" fill-opacity=\"1\" /><path clip-path=\"url(#clip660)\" d=\"M 0 0 M91.3143 414.795 Q97.68 417.278 99.6216 419.633 Q101.563 421.989 101.563 425.935 L101.563 430.614 L96.6615 430.614 L96.6615 427.177 Q96.6615 424.758 95.5157 423.421 Q94.3699 422.084 90.1048 420.461 L87.4312 419.411 L52.3562 433.829 L52.3562 427.622 L80.238 416.482 L52.3562 405.342 L52.3562 399.136 L91.3143 414.795 Z\" fill=\"#000000\" fill-rule=\"evenodd\" fill-opacity=\"1\" /><polyline clip-path=\"url(#clip662)\" style=\"stroke:#009af9; stroke-width:8; stroke-opacity:1; fill:none\" points=\"\n",
       "  349.329,1372.3 416.401,1229.36 483.472,1086.42 550.544,991.128 617.615,895.834 684.687,705.247 751.758,609.953 818.83,657.6 885.901,514.66 952.973,467.013 \n",
       "  1020.04,371.719 1087.12,324.072 1154.19,181.132 1221.26,133.485 1288.33,133.485 1355.4,85.838 1422.47,133.485 1489.55,133.485 1556.62,133.485 1623.69,181.132 \n",
       "  1690.76,181.132 1757.83,181.132 1824.9,181.132 1891.97,181.132 1959.05,181.132 2026.12,133.485 2093.19,181.132 2160.26,181.132 2227.33,181.132 2294.4,181.132 \n",
       "  \n",
       "  \"/>\n",
       "<path clip-path=\"url(#clip660)\" d=\"\n",
       "M1855.62 213.659 L2284.03 213.659 L2284.03 92.6992 L1855.62 92.6992  Z\n",
       "  \" fill=\"#ffffff\" fill-rule=\"evenodd\" fill-opacity=\"1\"/>\n",
       "<polyline clip-path=\"url(#clip660)\" style=\"stroke:#000000; stroke-width:4; stroke-opacity:1; fill:none\" points=\"\n",
       "  1855.62,213.659 2284.03,213.659 2284.03,92.6992 1855.62,92.6992 1855.62,213.659 \n",
       "  \"/>\n",
       "<polyline clip-path=\"url(#clip660)\" style=\"stroke:#009af9; stroke-width:4; stroke-opacity:1; fill:none\" points=\"\n",
       "  1878.52,153.179 2015.98,153.179 \n",
       "  \"/>\n",
       "<path clip-path=\"url(#clip660)\" d=\"M 0 0 M2052.08 170.459 L2038.88 135.899 L2043.77 135.899 L2054.72 164.996 L2065.69 135.899 L2070.55 135.899 L2057.38 170.459 L2052.08 170.459 Z\" fill=\"#000000\" fill-rule=\"evenodd\" fill-opacity=\"1\" /><path clip-path=\"url(#clip660)\" d=\"M 0 0 M2083.12 157.427 Q2077.96 157.427 2075.97 158.607 Q2073.98 159.788 2073.98 162.635 Q2073.98 164.904 2075.46 166.246 Q2076.96 167.566 2079.53 167.566 Q2083.07 167.566 2085.2 165.066 Q2087.36 162.543 2087.36 158.376 L2087.36 157.427 L2083.12 157.427 M2091.62 155.668 L2091.62 170.459 L2087.36 170.459 L2087.36 166.524 Q2085.9 168.885 2083.72 170.019 Q2081.55 171.13 2078.4 171.13 Q2074.42 171.13 2072.06 168.908 Q2069.72 166.663 2069.72 162.913 Q2069.72 158.538 2072.63 156.316 Q2075.57 154.094 2081.38 154.094 L2087.36 154.094 L2087.36 153.677 Q2087.36 150.737 2085.41 149.14 Q2083.49 147.519 2080 147.519 Q2077.77 147.519 2075.67 148.052 Q2073.56 148.584 2071.62 149.649 L2071.62 145.714 Q2073.95 144.811 2076.15 144.371 Q2078.35 143.908 2080.44 143.908 Q2086.06 143.908 2088.84 146.825 Q2091.62 149.742 2091.62 155.668 Z\" fill=\"#000000\" fill-rule=\"evenodd\" fill-opacity=\"1\" /><path clip-path=\"url(#clip660)\" d=\"M 0 0 M2096.08 134.441 L2100.34 134.441 L2100.34 170.459 L2096.08 170.459 L2096.08 134.441 Z\" fill=\"#000000\" fill-rule=\"evenodd\" fill-opacity=\"1\" /><path clip-path=\"url(#clip660)\" d=\"M 0 0 M2104.81 144.533 L2109.07 144.533 L2109.07 170.459 L2104.81 170.459 L2104.81 144.533 M2104.81 134.441 L2109.07 134.441 L2109.07 139.834 L2104.81 139.834 L2104.81 134.441 Z\" fill=\"#000000\" fill-rule=\"evenodd\" fill-opacity=\"1\" /><path clip-path=\"url(#clip660)\" d=\"M 0 0 M2130.6 148.469 L2130.6 134.441 L2134.86 134.441 L2134.86 170.459 L2130.6 170.459 L2130.6 166.57 Q2129.25 168.885 2127.19 170.019 Q2125.16 171.13 2122.29 171.13 Q2117.59 171.13 2114.63 167.38 Q2111.69 163.631 2111.69 157.519 Q2111.69 151.408 2114.63 147.658 Q2117.59 143.908 2122.29 143.908 Q2125.16 143.908 2127.19 145.043 Q2129.25 146.154 2130.6 148.469 M2116.08 157.519 Q2116.08 162.218 2118 164.904 Q2119.95 167.566 2123.33 167.566 Q2126.71 167.566 2128.65 164.904 Q2130.6 162.218 2130.6 157.519 Q2130.6 152.82 2128.65 150.158 Q2126.71 147.473 2123.33 147.473 Q2119.95 147.473 2118 150.158 Q2116.08 152.82 2116.08 157.519 Z\" fill=\"#000000\" fill-rule=\"evenodd\" fill-opacity=\"1\" /><path clip-path=\"url(#clip660)\" d=\"M 0 0 M2151.11 157.427 Q2145.94 157.427 2143.95 158.607 Q2141.96 159.788 2141.96 162.635 Q2141.96 164.904 2143.44 166.246 Q2144.95 167.566 2147.52 167.566 Q2151.06 167.566 2153.19 165.066 Q2155.34 162.543 2155.34 158.376 L2155.34 157.427 L2151.11 157.427 M2159.6 155.668 L2159.6 170.459 L2155.34 170.459 L2155.34 166.524 Q2153.88 168.885 2151.71 170.019 Q2149.53 171.13 2146.38 171.13 Q2142.4 171.13 2140.04 168.908 Q2137.7 166.663 2137.7 162.913 Q2137.7 158.538 2140.62 156.316 Q2143.56 154.094 2149.37 154.094 L2155.34 154.094 L2155.34 153.677 Q2155.34 150.737 2153.4 149.14 Q2151.48 147.519 2147.98 147.519 Q2145.76 147.519 2143.65 148.052 Q2141.55 148.584 2139.6 149.649 L2139.6 145.714 Q2141.94 144.811 2144.14 144.371 Q2146.34 143.908 2148.42 143.908 Q2154.05 143.908 2156.82 146.825 Q2159.6 149.742 2159.6 155.668 Z\" fill=\"#000000\" fill-rule=\"evenodd\" fill-opacity=\"1\" /><path clip-path=\"url(#clip660)\" d=\"M 0 0 M2168.28 137.172 L2168.28 144.533 L2177.06 144.533 L2177.06 147.844 L2168.28 147.844 L2168.28 161.918 Q2168.28 165.089 2169.14 165.992 Q2170.02 166.894 2172.68 166.894 L2177.06 166.894 L2177.06 170.459 L2172.68 170.459 Q2167.75 170.459 2165.88 168.63 Q2164 166.779 2164 161.918 L2164 147.844 L2160.88 147.844 L2160.88 144.533 L2164 144.533 L2164 137.172 L2168.28 137.172 Z\" fill=\"#000000\" fill-rule=\"evenodd\" fill-opacity=\"1\" /><path clip-path=\"url(#clip660)\" d=\"M 0 0 M2181.52 144.533 L2185.78 144.533 L2185.78 170.459 L2181.52 170.459 L2181.52 144.533 M2181.52 134.441 L2185.78 134.441 L2185.78 139.834 L2181.52 139.834 L2181.52 134.441 Z\" fill=\"#000000\" fill-rule=\"evenodd\" fill-opacity=\"1\" /><path clip-path=\"url(#clip660)\" d=\"M 0 0 M2200.3 147.519 Q2196.87 147.519 2194.88 150.205 Q2192.89 152.867 2192.89 157.519 Q2192.89 162.172 2194.86 164.857 Q2196.85 167.519 2200.3 167.519 Q2203.7 167.519 2205.69 164.834 Q2207.68 162.149 2207.68 157.519 Q2207.68 152.913 2205.69 150.228 Q2203.7 147.519 2200.3 147.519 M2200.3 143.908 Q2205.85 143.908 2209.02 147.519 Q2212.19 151.131 2212.19 157.519 Q2212.19 163.885 2209.02 167.519 Q2205.85 171.13 2200.3 171.13 Q2194.72 171.13 2191.55 167.519 Q2188.4 163.885 2188.4 157.519 Q2188.4 151.131 2191.55 147.519 Q2194.72 143.908 2200.3 143.908 Z\" fill=\"#000000\" fill-rule=\"evenodd\" fill-opacity=\"1\" /><path clip-path=\"url(#clip660)\" d=\"M 0 0 M2238.21 154.811 L2238.21 170.459 L2233.95 170.459 L2233.95 154.95 Q2233.95 151.269 2232.52 149.441 Q2231.08 147.612 2228.21 147.612 Q2224.76 147.612 2222.77 149.811 Q2220.78 152.01 2220.78 155.806 L2220.78 170.459 L2216.5 170.459 L2216.5 144.533 L2220.78 144.533 L2220.78 148.561 Q2222.31 146.223 2224.37 145.066 Q2226.45 143.908 2229.16 143.908 Q2233.63 143.908 2235.92 146.686 Q2238.21 149.441 2238.21 154.811 Z\" fill=\"#000000\" fill-rule=\"evenodd\" fill-opacity=\"1\" /></svg>\n"
      ]
     },
     "execution_count": 23,
     "metadata": {},
     "output_type": "execute_result"
    }
   ],
   "source": [
    "plot(curve.parameter_values,\n",
    "     curve.measurements,\n",
    "     xscale=curve.parameter_scale,\n",
    "     xlab=curve.parameter_name,\n",
    "     ylab=\"Classification Accuracy\",\n",
    "     label=\"Validation\", lw=2)"
   ]
  },
  {
   "cell_type": "code",
   "execution_count": 24,
   "metadata": {},
   "outputs": [
    {
     "data": {
      "text/plain": [
       "0.97804"
      ]
     },
     "execution_count": 24,
     "metadata": {},
     "output_type": "execute_result"
    }
   ],
   "source": [
    "a = round(maximum(curve.measurements), digits=5)"
   ]
  },
  {
   "cell_type": "code",
   "execution_count": 25,
   "metadata": {},
   "outputs": [
    {
     "data": {
      "text/plain": [
       "5.860511487667402"
      ]
     },
     "execution_count": 25,
     "metadata": {},
     "output_type": "execute_result"
    }
   ],
   "source": [
    "best_C = curve.parameter_values[argmax(curve.measurements)]"
   ]
  },
  {
   "cell_type": "markdown",
   "metadata": {},
   "source": [
    "##### Second look at `rbf`"
   ]
  },
  {
   "cell_type": "code",
   "execution_count": 75,
   "metadata": {},
   "outputs": [
    {
     "data": {
      "text/plain": [
       "MLJBase.NumericRange(Float64, :gamma, ... )"
      ]
     },
     "execution_count": 75,
     "metadata": {},
     "output_type": "execute_result"
    }
   ],
   "source": [
    "r1 = range(Float64, :C, lower=50, upper=2*10^2, scale=:log10)\n",
    "r2 = range(Float64, :gamma, lower=10^-4, upper=10^1, scale=:log10)"
   ]
  },
  {
   "cell_type": "code",
   "execution_count": 76,
   "metadata": {},
   "outputs": [
    {
     "data": {
      "text/plain": [
       "DeterministicTunedModel(\n",
       "    model = SVMClassifier(\n",
       "            C = 1.0,\n",
       "            kernel = \"rbf\",\n",
       "            degree = 3,\n",
       "            gamma = \"auto\",\n",
       "            coef0 = 0.0,\n",
       "            shrinking = true,\n",
       "            tol = 0.001,\n",
       "            cache_size = 1000,\n",
       "            max_iter = -1,\n",
       "            decision_function_shape = \"ovr\",\n",
       "            random_state = nothing),\n",
       "    tuning = Grid(\n",
       "            goal = 49,\n",
       "            resolution = 10,\n",
       "            shuffle = true,\n",
       "            rng = Random._GLOBAL_RNG()),\n",
       "    resampling = CV(\n",
       "            nfolds = 6,\n",
       "            shuffle = false,\n",
       "            rng = Random._GLOBAL_RNG()),\n",
       "    measure = accuracy(),\n",
       "    weights = nothing,\n",
       "    operation = MLJModelInterface.predict,\n",
       "    range = MLJBase.NumericRange{Float64,MLJBase.Bounded,Symbol}[\u001b[34mNumericRange{Float64,…} @223\u001b[39m, \u001b[34mNumericRange{Float64,…} @795\u001b[39m],\n",
       "    train_best = true,\n",
       "    repeats = 1,\n",
       "    n = nothing,\n",
       "    acceleration = CPUThreads{Int64}(1),\n",
       "    acceleration_resampling = CPU1{Nothing}(nothing),\n",
       "    check_measure = true)\u001b[34m @891\u001b[39m"
      ]
     },
     "execution_count": 76,
     "metadata": {},
     "output_type": "execute_result"
    }
   ],
   "source": [
    "svm_rbf_model = SVMClassifier(kernel=\"rbf\", cache_size=1000)\n",
    "self_tuning_svm_model = TunedModel(model=svm_rbf_model,\n",
    "                                    tuning=Grid(goal=49),\n",
    "                                    resampling=CV(), \n",
    "                                    measure=accuracy,\n",
    "                                    acceleration=CPUThreads(),\n",
    "                                    range=[r1,r2])"
   ]
  },
  {
   "cell_type": "code",
   "execution_count": 77,
   "metadata": {},
   "outputs": [
    {
     "data": {
      "text/plain": [
       "\u001b[34mMachine{DeterministicTunedModel{Grid,…}} @441\u001b[39m trained 0 times.\n",
       "  args: \n",
       "    1:\t\u001b[34mSource @546\u001b[39m ⏎ `Table{AbstractArray{Continuous,1}}`\n",
       "    2:\t\u001b[34mSource @308\u001b[39m ⏎ `AbstractArray{OrderedFactor{2},1}`\n"
      ]
     },
     "execution_count": 77,
     "metadata": {},
     "output_type": "execute_result"
    }
   ],
   "source": [
    "self_tuning_svm_mach = machine(self_tuning_svm_model, X_stand, y)"
   ]
  },
  {
   "cell_type": "code",
   "execution_count": 78,
   "metadata": {},
   "outputs": [
    {
     "name": "stderr",
     "output_type": "stream",
     "text": [
      "┌ Info: Training \u001b[34mMachine{DeterministicTunedModel{Grid,…}} @441\u001b[39m.\n",
      "└ @ MLJBase /home/andrew/.julia/packages/MLJBase/uKzAz/src/machines.jl:319\n",
      "┌ Info: Attempting to evaluate 49 models.\n",
      "└ @ MLJTuning /home/andrew/.julia/packages/MLJTuning/Bbgvk/src/tuned_models.jl:494\n",
      "\u001b[33mEvaluating over 49 metamodels: 100%[=========================] Time: 0:02:52\u001b[39m\n"
     ]
    },
    {
     "data": {
      "text/plain": [
       "\u001b[34mMachine{DeterministicTunedModel{Grid,…}} @441\u001b[39m trained 1 time.\n",
       "  args: \n",
       "    1:\t\u001b[34mSource @546\u001b[39m ⏎ `Table{AbstractArray{Continuous,1}}`\n",
       "    2:\t\u001b[34mSource @308\u001b[39m ⏎ `AbstractArray{OrderedFactor{2},1}`\n"
      ]
     },
     "execution_count": 78,
     "metadata": {},
     "output_type": "execute_result"
    }
   ],
   "source": [
    "z = fit!(self_tuning_svm_mach, rows=train)"
   ]
  },
  {
   "cell_type": "code",
   "execution_count": 79,
   "metadata": {},
   "outputs": [
    {
     "data": {
      "image/svg+xml": [
       "<?xml version=\"1.0\" encoding=\"utf-8\"?>\n",
       "<svg xmlns=\"http://www.w3.org/2000/svg\" xmlns:xlink=\"http://www.w3.org/1999/xlink\" width=\"600\" height=\"400\" viewBox=\"0 0 2400 1600\">\n",
       "<defs>\n",
       "  <clipPath id=\"clip930\">\n",
       "    <rect x=\"0\" y=\"0\" width=\"2400\" height=\"1600\"/>\n",
       "  </clipPath>\n",
       "</defs>\n",
       "<path clip-path=\"url(#clip930)\" d=\"\n",
       "M0 1600 L2400 1600 L2400 0 L0 0  Z\n",
       "  \" fill=\"#ffffff\" fill-rule=\"evenodd\" fill-opacity=\"1\"/>\n",
       "<defs>\n",
       "  <clipPath id=\"clip931\">\n",
       "    <rect x=\"480\" y=\"0\" width=\"1681\" height=\"1600\"/>\n",
       "  </clipPath>\n",
       "</defs>\n",
       "<path clip-path=\"url(#clip930)\" d=\"\n",
       "M244.308 1410.9 L2112.76 1410.9 L2112.76 47.2441 L244.308 47.2441  Z\n",
       "  \" fill=\"#ffffff\" fill-rule=\"evenodd\" fill-opacity=\"1\"/>\n",
       "<defs>\n",
       "  <clipPath id=\"clip932\">\n",
       "    <rect x=\"244\" y=\"47\" width=\"1869\" height=\"1365\"/>\n",
       "  </clipPath>\n",
       "</defs>\n",
       "<polyline clip-path=\"url(#clip932)\" style=\"stroke:#000000; stroke-width:2; stroke-opacity:0.1; fill:none\" points=\"\n",
       "  300.204,1410.9 300.204,47.2441 \n",
       "  \"/>\n",
       "<polyline clip-path=\"url(#clip932)\" style=\"stroke:#000000; stroke-width:2; stroke-opacity:0.1; fill:none\" points=\"\n",
       "  592.98,1410.9 592.98,47.2441 \n",
       "  \"/>\n",
       "<polyline clip-path=\"url(#clip932)\" style=\"stroke:#000000; stroke-width:2; stroke-opacity:0.1; fill:none\" points=\"\n",
       "  885.756,1410.9 885.756,47.2441 \n",
       "  \"/>\n",
       "<polyline clip-path=\"url(#clip932)\" style=\"stroke:#000000; stroke-width:2; stroke-opacity:0.1; fill:none\" points=\"\n",
       "  1178.53,1410.9 1178.53,47.2441 \n",
       "  \"/>\n",
       "<polyline clip-path=\"url(#clip932)\" style=\"stroke:#000000; stroke-width:2; stroke-opacity:0.1; fill:none\" points=\"\n",
       "  1471.31,1410.9 1471.31,47.2441 \n",
       "  \"/>\n",
       "<polyline clip-path=\"url(#clip932)\" style=\"stroke:#000000; stroke-width:2; stroke-opacity:0.1; fill:none\" points=\"\n",
       "  1764.08,1410.9 1764.08,47.2441 \n",
       "  \"/>\n",
       "<polyline clip-path=\"url(#clip932)\" style=\"stroke:#000000; stroke-width:2; stroke-opacity:0.1; fill:none\" points=\"\n",
       "  2056.86,1410.9 2056.86,47.2441 \n",
       "  \"/>\n",
       "<polyline clip-path=\"url(#clip932)\" style=\"stroke:#000000; stroke-width:2; stroke-opacity:0.1; fill:none\" points=\"\n",
       "  244.308,1372.3 2112.76,1372.3 \n",
       "  \"/>\n",
       "<polyline clip-path=\"url(#clip932)\" style=\"stroke:#000000; stroke-width:2; stroke-opacity:0.1; fill:none\" points=\"\n",
       "  244.308,1115.01 2112.76,1115.01 \n",
       "  \"/>\n",
       "<polyline clip-path=\"url(#clip932)\" style=\"stroke:#000000; stroke-width:2; stroke-opacity:0.1; fill:none\" points=\"\n",
       "  244.308,857.717 2112.76,857.717 \n",
       "  \"/>\n",
       "<polyline clip-path=\"url(#clip932)\" style=\"stroke:#000000; stroke-width:2; stroke-opacity:0.1; fill:none\" points=\"\n",
       "  244.308,600.424 2112.76,600.424 \n",
       "  \"/>\n",
       "<polyline clip-path=\"url(#clip932)\" style=\"stroke:#000000; stroke-width:2; stroke-opacity:0.1; fill:none\" points=\"\n",
       "  244.308,343.131 2112.76,343.131 \n",
       "  \"/>\n",
       "<polyline clip-path=\"url(#clip932)\" style=\"stroke:#000000; stroke-width:2; stroke-opacity:0.1; fill:none\" points=\"\n",
       "  244.308,85.838 2112.76,85.838 \n",
       "  \"/>\n",
       "<polyline clip-path=\"url(#clip930)\" style=\"stroke:#000000; stroke-width:4; stroke-opacity:1; fill:none\" points=\"\n",
       "  244.308,1410.9 2112.76,1410.9 \n",
       "  \"/>\n",
       "<polyline clip-path=\"url(#clip930)\" style=\"stroke:#000000; stroke-width:4; stroke-opacity:1; fill:none\" points=\"\n",
       "  244.308,1410.9 244.308,47.2441 \n",
       "  \"/>\n",
       "<polyline clip-path=\"url(#clip930)\" style=\"stroke:#000000; stroke-width:4; stroke-opacity:1; fill:none\" points=\"\n",
       "  300.204,1410.9 300.204,1394.53 \n",
       "  \"/>\n",
       "<polyline clip-path=\"url(#clip930)\" style=\"stroke:#000000; stroke-width:4; stroke-opacity:1; fill:none\" points=\"\n",
       "  592.98,1410.9 592.98,1394.53 \n",
       "  \"/>\n",
       "<polyline clip-path=\"url(#clip930)\" style=\"stroke:#000000; stroke-width:4; stroke-opacity:1; fill:none\" points=\"\n",
       "  885.756,1410.9 885.756,1394.53 \n",
       "  \"/>\n",
       "<polyline clip-path=\"url(#clip930)\" style=\"stroke:#000000; stroke-width:4; stroke-opacity:1; fill:none\" points=\"\n",
       "  1178.53,1410.9 1178.53,1394.53 \n",
       "  \"/>\n",
       "<polyline clip-path=\"url(#clip930)\" style=\"stroke:#000000; stroke-width:4; stroke-opacity:1; fill:none\" points=\"\n",
       "  1471.31,1410.9 1471.31,1394.53 \n",
       "  \"/>\n",
       "<polyline clip-path=\"url(#clip930)\" style=\"stroke:#000000; stroke-width:4; stroke-opacity:1; fill:none\" points=\"\n",
       "  1764.08,1410.9 1764.08,1394.53 \n",
       "  \"/>\n",
       "<polyline clip-path=\"url(#clip930)\" style=\"stroke:#000000; stroke-width:4; stroke-opacity:1; fill:none\" points=\"\n",
       "  2056.86,1410.9 2056.86,1394.53 \n",
       "  \"/>\n",
       "<polyline clip-path=\"url(#clip930)\" style=\"stroke:#000000; stroke-width:4; stroke-opacity:1; fill:none\" points=\"\n",
       "  244.308,1372.3 266.729,1372.3 \n",
       "  \"/>\n",
       "<polyline clip-path=\"url(#clip930)\" style=\"stroke:#000000; stroke-width:4; stroke-opacity:1; fill:none\" points=\"\n",
       "  244.308,1115.01 266.729,1115.01 \n",
       "  \"/>\n",
       "<polyline clip-path=\"url(#clip930)\" style=\"stroke:#000000; stroke-width:4; stroke-opacity:1; fill:none\" points=\"\n",
       "  244.308,857.717 266.729,857.717 \n",
       "  \"/>\n",
       "<polyline clip-path=\"url(#clip930)\" style=\"stroke:#000000; stroke-width:4; stroke-opacity:1; fill:none\" points=\"\n",
       "  244.308,600.424 266.729,600.424 \n",
       "  \"/>\n",
       "<polyline clip-path=\"url(#clip930)\" style=\"stroke:#000000; stroke-width:4; stroke-opacity:1; fill:none\" points=\"\n",
       "  244.308,343.131 266.729,343.131 \n",
       "  \"/>\n",
       "<polyline clip-path=\"url(#clip930)\" style=\"stroke:#000000; stroke-width:4; stroke-opacity:1; fill:none\" points=\"\n",
       "  244.308,85.838 266.729,85.838 \n",
       "  \"/>\n",
       "<path clip-path=\"url(#clip930)\" d=\"M 0 0 M254.068 1481.97 L261.707 1481.97 L261.707 1455.6 L253.396 1457.27 L253.396 1453.01 L261.66 1451.34 L266.336 1451.34 L266.336 1481.97 L273.975 1481.97 L273.975 1485.9 L254.068 1485.9 L254.068 1481.97 Z\" fill=\"#000000\" fill-rule=\"evenodd\" fill-opacity=\"1\" /><path clip-path=\"url(#clip930)\" d=\"M 0 0 M289.044 1454.42 Q285.433 1454.42 283.605 1457.99 Q281.799 1461.53 281.799 1468.66 Q281.799 1475.77 283.605 1479.33 Q285.433 1482.87 289.044 1482.87 Q292.679 1482.87 294.484 1479.33 Q296.313 1475.77 296.313 1468.66 Q296.313 1461.53 294.484 1457.99 Q292.679 1454.42 289.044 1454.42 M289.044 1450.72 Q294.855 1450.72 297.91 1455.33 Q300.989 1459.91 300.989 1468.66 Q300.989 1477.39 297.91 1481.99 Q294.855 1486.58 289.044 1486.58 Q283.234 1486.58 280.156 1481.99 Q277.1 1477.39 277.1 1468.66 Q277.1 1459.91 280.156 1455.33 Q283.234 1450.72 289.044 1450.72 Z\" fill=\"#000000\" fill-rule=\"evenodd\" fill-opacity=\"1\" /><path clip-path=\"url(#clip930)\" d=\"M 0 0 M301.534 1455.3 L307.741 1455.3 L307.741 1433.87 L300.989 1435.23 L300.989 1431.77 L307.703 1430.41 L311.502 1430.41 L311.502 1455.3 L317.709 1455.3 L317.709 1458.49 L301.534 1458.49 L301.534 1455.3 Z\" fill=\"#000000\" fill-rule=\"evenodd\" fill-opacity=\"1\" /><path clip-path=\"url(#clip930)\" d=\"M 0 0 M321.828 1453.72 L325.796 1453.72 L325.796 1458.49 L321.828 1458.49 L321.828 1453.72 Z\" fill=\"#000000\" fill-rule=\"evenodd\" fill-opacity=\"1\" /><path clip-path=\"url(#clip930)\" d=\"M 0 0 M328.956 1430.41 L347.011 1430.41 L347.011 1432.03 L336.818 1458.49 L332.849 1458.49 L342.441 1433.61 L328.956 1433.61 L328.956 1430.41 Z\" fill=\"#000000\" fill-rule=\"evenodd\" fill-opacity=\"1\" /><path clip-path=\"url(#clip930)\" d=\"M 0 0 M546.515 1481.97 L554.153 1481.97 L554.153 1455.6 L545.843 1457.27 L545.843 1453.01 L554.107 1451.34 L558.783 1451.34 L558.783 1481.97 L566.422 1481.97 L566.422 1485.9 L546.515 1485.9 L546.515 1481.97 Z\" fill=\"#000000\" fill-rule=\"evenodd\" fill-opacity=\"1\" /><path clip-path=\"url(#clip930)\" d=\"M 0 0 M581.491 1454.42 Q577.88 1454.42 576.051 1457.99 Q574.246 1461.53 574.246 1468.66 Q574.246 1475.77 576.051 1479.33 Q577.88 1482.87 581.491 1482.87 Q585.125 1482.87 586.931 1479.33 Q588.76 1475.77 588.76 1468.66 Q588.76 1461.53 586.931 1457.99 Q585.125 1454.42 581.491 1454.42 M581.491 1450.72 Q587.301 1450.72 590.357 1455.33 Q593.436 1459.91 593.436 1468.66 Q593.436 1477.39 590.357 1481.99 Q587.301 1486.58 581.491 1486.58 Q575.681 1486.58 572.602 1481.99 Q569.547 1477.39 569.547 1468.66 Q569.547 1459.91 572.602 1455.33 Q575.681 1450.72 581.491 1450.72 Z\" fill=\"#000000\" fill-rule=\"evenodd\" fill-opacity=\"1\" /><path clip-path=\"url(#clip930)\" d=\"M 0 0 M593.981 1455.3 L600.188 1455.3 L600.188 1433.87 L593.436 1435.23 L593.436 1431.77 L600.15 1430.41 L603.949 1430.41 L603.949 1455.3 L610.156 1455.3 L610.156 1458.49 L593.981 1458.49 L593.981 1455.3 Z\" fill=\"#000000\" fill-rule=\"evenodd\" fill-opacity=\"1\" /><path clip-path=\"url(#clip930)\" d=\"M 0 0 M614.275 1453.72 L618.243 1453.72 L618.243 1458.49 L614.275 1458.49 L614.275 1453.72 Z\" fill=\"#000000\" fill-rule=\"evenodd\" fill-opacity=\"1\" /><path clip-path=\"url(#clip930)\" d=\"M 0 0 M630.487 1445.16 Q627.779 1445.16 626.218 1446.61 Q624.675 1448.06 624.675 1450.59 Q624.675 1453.13 626.218 1454.58 Q627.779 1456.03 630.487 1456.03 Q633.195 1456.03 634.756 1454.58 Q636.317 1453.11 636.317 1450.59 Q636.317 1448.06 634.756 1446.61 Q633.214 1445.16 630.487 1445.16 M626.688 1443.54 Q624.243 1442.94 622.87 1441.27 Q621.516 1439.59 621.516 1437.18 Q621.516 1433.82 623.904 1431.86 Q626.312 1429.91 630.487 1429.91 Q634.681 1429.91 637.07 1431.86 Q639.458 1433.82 639.458 1437.18 Q639.458 1439.59 638.085 1441.27 Q636.731 1442.94 634.305 1443.54 Q637.051 1444.18 638.574 1446.04 Q640.116 1447.9 640.116 1450.59 Q640.116 1454.68 637.615 1456.86 Q635.132 1459.04 630.487 1459.04 Q625.841 1459.04 623.34 1456.86 Q620.857 1454.68 620.857 1450.59 Q620.857 1447.9 622.4 1446.04 Q623.942 1444.18 626.688 1443.54 M625.296 1437.54 Q625.296 1439.72 626.65 1440.95 Q628.023 1442.17 630.487 1442.17 Q632.932 1442.17 634.305 1440.95 Q635.697 1439.72 635.697 1437.54 Q635.697 1435.36 634.305 1434.14 Q632.932 1432.91 630.487 1432.91 Q628.023 1432.91 626.65 1434.14 Q625.296 1435.36 625.296 1437.54 Z\" fill=\"#000000\" fill-rule=\"evenodd\" fill-opacity=\"1\" /><path clip-path=\"url(#clip930)\" d=\"M 0 0 M839.328 1481.97 L846.967 1481.97 L846.967 1455.6 L838.657 1457.27 L838.657 1453.01 L846.921 1451.34 L851.597 1451.34 L851.597 1481.97 L859.235 1481.97 L859.235 1485.9 L839.328 1485.9 L839.328 1481.97 Z\" fill=\"#000000\" fill-rule=\"evenodd\" fill-opacity=\"1\" /><path clip-path=\"url(#clip930)\" d=\"M 0 0 M874.305 1454.42 Q870.694 1454.42 868.865 1457.99 Q867.059 1461.53 867.059 1468.66 Q867.059 1475.77 868.865 1479.33 Q870.694 1482.87 874.305 1482.87 Q877.939 1482.87 879.745 1479.33 Q881.573 1475.77 881.573 1468.66 Q881.573 1461.53 879.745 1457.99 Q877.939 1454.42 874.305 1454.42 M874.305 1450.72 Q880.115 1450.72 883.17 1455.33 Q886.249 1459.91 886.249 1468.66 Q886.249 1477.39 883.17 1481.99 Q880.115 1486.58 874.305 1486.58 Q868.495 1486.58 865.416 1481.99 Q862.36 1477.39 862.36 1468.66 Q862.36 1459.91 865.416 1455.33 Q868.495 1450.72 874.305 1450.72 Z\" fill=\"#000000\" fill-rule=\"evenodd\" fill-opacity=\"1\" /><path clip-path=\"url(#clip930)\" d=\"M 0 0 M886.795 1455.3 L893.001 1455.3 L893.001 1433.87 L886.249 1435.23 L886.249 1431.77 L892.964 1430.41 L896.763 1430.41 L896.763 1455.3 L902.969 1455.3 L902.969 1458.49 L886.795 1458.49 L886.795 1455.3 Z\" fill=\"#000000\" fill-rule=\"evenodd\" fill-opacity=\"1\" /><path clip-path=\"url(#clip930)\" d=\"M 0 0 M907.088 1453.72 L911.057 1453.72 L911.057 1458.49 L907.088 1458.49 L907.088 1453.72 Z\" fill=\"#000000\" fill-rule=\"evenodd\" fill-opacity=\"1\" /><path clip-path=\"url(#clip930)\" d=\"M 0 0 M915.288 1457.91 L915.288 1454.45 Q916.718 1455.13 918.185 1455.48 Q919.652 1455.84 921.062 1455.84 Q924.824 1455.84 926.799 1453.32 Q928.792 1450.78 929.074 1445.63 Q927.984 1447.25 926.31 1448.11 Q924.636 1448.98 922.605 1448.98 Q918.392 1448.98 915.928 1446.44 Q913.483 1443.88 913.483 1439.46 Q913.483 1435.13 916.041 1432.52 Q918.599 1429.91 922.849 1429.91 Q927.72 1429.91 930.278 1433.65 Q932.855 1437.37 932.855 1444.48 Q932.855 1451.12 929.695 1455.09 Q926.554 1459.04 921.232 1459.04 Q919.802 1459.04 918.335 1458.76 Q916.868 1458.47 915.288 1457.91 M922.849 1446.01 Q925.407 1446.01 926.893 1444.26 Q928.397 1442.51 928.397 1439.46 Q928.397 1436.43 926.893 1434.68 Q925.407 1432.91 922.849 1432.91 Q920.291 1432.91 918.787 1434.68 Q917.301 1436.43 917.301 1439.46 Q917.301 1442.51 918.787 1444.26 Q920.291 1446.01 922.849 1446.01 Z\" fill=\"#000000\" fill-rule=\"evenodd\" fill-opacity=\"1\" /><path clip-path=\"url(#clip930)\" d=\"M 0 0 M1131.47 1481.97 L1139.11 1481.97 L1139.11 1455.6 L1130.8 1457.27 L1130.8 1453.01 L1139.07 1451.34 L1143.74 1451.34 L1143.74 1481.97 L1151.38 1481.97 L1151.38 1485.9 L1131.47 1485.9 L1131.47 1481.97 Z\" fill=\"#000000\" fill-rule=\"evenodd\" fill-opacity=\"1\" /><path clip-path=\"url(#clip930)\" d=\"M 0 0 M1166.45 1454.42 Q1162.84 1454.42 1161.01 1457.99 Q1159.21 1461.53 1159.21 1468.66 Q1159.21 1475.77 1161.01 1479.33 Q1162.84 1482.87 1166.45 1482.87 Q1170.08 1482.87 1171.89 1479.33 Q1173.72 1475.77 1173.72 1468.66 Q1173.72 1461.53 1171.89 1457.99 Q1170.08 1454.42 1166.45 1454.42 M1166.45 1450.72 Q1172.26 1450.72 1175.32 1455.33 Q1178.4 1459.91 1178.4 1468.66 Q1178.4 1477.39 1175.32 1481.99 Q1172.26 1486.58 1166.45 1486.58 Q1160.64 1486.58 1157.56 1481.99 Q1154.51 1477.39 1154.51 1468.66 Q1154.51 1459.91 1157.56 1455.33 Q1160.64 1450.72 1166.45 1450.72 Z\" fill=\"#000000\" fill-rule=\"evenodd\" fill-opacity=\"1\" /><path clip-path=\"url(#clip930)\" d=\"M 0 0 M1182.97 1455.3 L1196.22 1455.3 L1196.22 1458.49 L1178.4 1458.49 L1178.4 1455.3 Q1180.56 1453.06 1184.28 1449.3 Q1188.02 1445.52 1188.98 1444.43 Q1190.81 1442.38 1191.52 1440.96 Q1192.26 1439.54 1192.26 1438.16 Q1192.26 1435.92 1190.68 1434.51 Q1189.12 1433.1 1186.6 1433.1 Q1184.81 1433.1 1182.81 1433.72 Q1180.84 1434.34 1178.58 1435.6 L1178.58 1431.77 Q1180.88 1430.85 1182.87 1430.38 Q1184.86 1429.91 1186.52 1429.91 Q1190.88 1429.91 1193.48 1432.09 Q1196.07 1434.27 1196.07 1437.92 Q1196.07 1439.65 1195.42 1441.21 Q1194.78 1442.75 1193.07 1444.86 Q1192.59 1445.4 1190.07 1448.02 Q1187.55 1450.61 1182.97 1455.3 Z\" fill=\"#000000\" fill-rule=\"evenodd\" fill-opacity=\"1\" /><path clip-path=\"url(#clip930)\" d=\"M 0 0 M1200.34 1453.72 L1204.31 1453.72 L1204.31 1458.49 L1200.34 1458.49 L1200.34 1453.72 Z\" fill=\"#000000\" fill-rule=\"evenodd\" fill-opacity=\"1\" /><path clip-path=\"url(#clip930)\" d=\"M 0 0 M1216.56 1432.91 Q1213.62 1432.91 1212.14 1435.81 Q1210.67 1438.69 1210.67 1444.48 Q1210.67 1450.26 1212.14 1453.15 Q1213.62 1456.03 1216.56 1456.03 Q1219.51 1456.03 1220.98 1453.15 Q1222.46 1450.26 1222.46 1444.48 Q1222.46 1438.69 1220.98 1435.81 Q1219.51 1432.91 1216.56 1432.91 M1216.56 1429.91 Q1221.28 1429.91 1223.76 1433.65 Q1226.26 1437.37 1226.26 1444.48 Q1226.26 1451.57 1223.76 1455.31 Q1221.28 1459.04 1216.56 1459.04 Q1211.84 1459.04 1209.33 1455.31 Q1206.85 1451.57 1206.85 1444.48 Q1206.85 1437.37 1209.33 1433.65 Q1211.84 1429.91 1216.56 1429.91 Z\" fill=\"#000000\" fill-rule=\"evenodd\" fill-opacity=\"1\" /><path clip-path=\"url(#clip930)\" d=\"M 0 0 M1424.75 1481.97 L1432.39 1481.97 L1432.39 1455.6 L1424.08 1457.27 L1424.08 1453.01 L1432.34 1451.34 L1437.02 1451.34 L1437.02 1481.97 L1444.66 1481.97 L1444.66 1485.9 L1424.75 1485.9 L1424.75 1481.97 Z\" fill=\"#000000\" fill-rule=\"evenodd\" fill-opacity=\"1\" /><path clip-path=\"url(#clip930)\" d=\"M 0 0 M1459.73 1454.42 Q1456.11 1454.42 1454.29 1457.99 Q1452.48 1461.53 1452.48 1468.66 Q1452.48 1475.77 1454.29 1479.33 Q1456.11 1482.87 1459.73 1482.87 Q1463.36 1482.87 1465.16 1479.33 Q1466.99 1475.77 1466.99 1468.66 Q1466.99 1461.53 1465.16 1457.99 Q1463.36 1454.42 1459.73 1454.42 M1459.73 1450.72 Q1465.54 1450.72 1468.59 1455.33 Q1471.67 1459.91 1471.67 1468.66 Q1471.67 1477.39 1468.59 1481.99 Q1465.54 1486.58 1459.73 1486.58 Q1453.91 1486.58 1450.84 1481.99 Q1447.78 1477.39 1447.78 1468.66 Q1447.78 1459.91 1450.84 1455.33 Q1453.91 1450.72 1459.73 1450.72 Z\" fill=\"#000000\" fill-rule=\"evenodd\" fill-opacity=\"1\" /><path clip-path=\"url(#clip930)\" d=\"M 0 0 M1476.24 1455.3 L1489.5 1455.3 L1489.5 1458.49 L1471.67 1458.49 L1471.67 1455.3 Q1473.83 1453.06 1477.56 1449.3 Q1481.3 1445.52 1482.26 1444.43 Q1484.08 1442.38 1484.8 1440.96 Q1485.53 1439.54 1485.53 1438.16 Q1485.53 1435.92 1483.95 1434.51 Q1482.39 1433.1 1479.87 1433.1 Q1478.08 1433.1 1476.09 1433.72 Q1474.11 1434.34 1471.86 1435.6 L1471.86 1431.77 Q1474.15 1430.85 1476.15 1430.38 Q1478.14 1429.91 1479.79 1429.91 Q1484.16 1429.91 1486.75 1432.09 Q1489.35 1434.27 1489.35 1437.92 Q1489.35 1439.65 1488.69 1441.21 Q1488.05 1442.75 1486.34 1444.86 Q1485.87 1445.4 1483.35 1448.02 Q1480.83 1450.61 1476.24 1455.3 Z\" fill=\"#000000\" fill-rule=\"evenodd\" fill-opacity=\"1\" /><path clip-path=\"url(#clip930)\" d=\"M 0 0 M1493.62 1453.72 L1497.59 1453.72 L1497.59 1458.49 L1493.62 1458.49 L1493.62 1453.72 Z\" fill=\"#000000\" fill-rule=\"evenodd\" fill-opacity=\"1\" /><path clip-path=\"url(#clip930)\" d=\"M 0 0 M1502.36 1455.3 L1508.57 1455.3 L1508.57 1433.87 L1501.82 1435.23 L1501.82 1431.77 L1508.53 1430.41 L1512.33 1430.41 L1512.33 1455.3 L1518.54 1455.3 L1518.54 1458.49 L1502.36 1458.49 L1502.36 1455.3 Z\" fill=\"#000000\" fill-rule=\"evenodd\" fill-opacity=\"1\" /><path clip-path=\"url(#clip930)\" d=\"M 0 0 M1717.67 1481.97 L1725.31 1481.97 L1725.31 1455.6 L1717 1457.27 L1717 1453.01 L1725.27 1451.34 L1729.94 1451.34 L1729.94 1481.97 L1737.58 1481.97 L1737.58 1485.9 L1717.67 1485.9 L1717.67 1481.97 Z\" fill=\"#000000\" fill-rule=\"evenodd\" fill-opacity=\"1\" /><path clip-path=\"url(#clip930)\" d=\"M 0 0 M1752.65 1454.42 Q1749.04 1454.42 1747.21 1457.99 Q1745.41 1461.53 1745.41 1468.66 Q1745.41 1475.77 1747.21 1479.33 Q1749.04 1482.87 1752.65 1482.87 Q1756.29 1482.87 1758.09 1479.33 Q1759.92 1475.77 1759.92 1468.66 Q1759.92 1461.53 1758.09 1457.99 Q1756.29 1454.42 1752.65 1454.42 M1752.65 1450.72 Q1758.46 1450.72 1761.52 1455.33 Q1764.6 1459.91 1764.6 1468.66 Q1764.6 1477.39 1761.52 1481.99 Q1758.46 1486.58 1752.65 1486.58 Q1746.84 1486.58 1743.76 1481.99 Q1740.71 1477.39 1740.71 1468.66 Q1740.71 1459.91 1743.76 1455.33 Q1746.84 1450.72 1752.65 1450.72 Z\" fill=\"#000000\" fill-rule=\"evenodd\" fill-opacity=\"1\" /><path clip-path=\"url(#clip930)\" d=\"M 0 0 M1769.17 1455.3 L1782.43 1455.3 L1782.43 1458.49 L1764.6 1458.49 L1764.6 1455.3 Q1766.76 1453.06 1770.48 1449.3 Q1774.23 1445.52 1775.18 1444.43 Q1777.01 1442.38 1777.72 1440.96 Q1778.46 1439.54 1778.46 1438.16 Q1778.46 1435.92 1776.88 1434.51 Q1775.32 1433.1 1772.8 1433.1 Q1771.01 1433.1 1769.02 1433.72 Q1767.04 1434.34 1764.78 1435.6 L1764.78 1431.77 Q1767.08 1430.85 1769.07 1430.38 Q1771.07 1429.91 1772.72 1429.91 Q1777.08 1429.91 1779.68 1432.09 Q1782.28 1434.27 1782.28 1437.92 Q1782.28 1439.65 1781.62 1441.21 Q1780.98 1442.75 1779.27 1444.86 Q1778.8 1445.4 1776.28 1448.02 Q1773.76 1450.61 1769.17 1455.3 Z\" fill=\"#000000\" fill-rule=\"evenodd\" fill-opacity=\"1\" /><path clip-path=\"url(#clip930)\" d=\"M 0 0 M1786.54 1453.72 L1790.51 1453.72 L1790.51 1458.49 L1786.54 1458.49 L1786.54 1453.72 Z\" fill=\"#000000\" fill-rule=\"evenodd\" fill-opacity=\"1\" /><path clip-path=\"url(#clip930)\" d=\"M 0 0 M1797.9 1455.3 L1811.16 1455.3 L1811.16 1458.49 L1793.33 1458.49 L1793.33 1455.3 Q1795.5 1453.06 1799.22 1449.3 Q1802.96 1445.52 1803.92 1444.43 Q1805.75 1442.38 1806.46 1440.96 Q1807.2 1439.54 1807.2 1438.16 Q1807.2 1435.92 1805.62 1434.51 Q1804.05 1433.1 1801.53 1433.1 Q1799.75 1433.1 1797.75 1433.72 Q1795.78 1434.34 1793.52 1435.6 L1793.52 1431.77 Q1795.82 1430.85 1797.81 1430.38 Q1799.8 1429.91 1801.46 1429.91 Q1805.82 1429.91 1808.42 1432.09 Q1811.01 1434.27 1811.01 1437.92 Q1811.01 1439.65 1810.36 1441.21 Q1809.72 1442.75 1808 1444.86 Q1807.53 1445.4 1805.01 1448.02 Q1802.49 1450.61 1797.9 1455.3 Z\" fill=\"#000000\" fill-rule=\"evenodd\" fill-opacity=\"1\" /><path clip-path=\"url(#clip930)\" d=\"M 0 0 M2010.07 1481.97 L2017.7 1481.97 L2017.7 1455.6 L2009.39 1457.27 L2009.39 1453.01 L2017.66 1451.34 L2022.33 1451.34 L2022.33 1481.97 L2029.97 1481.97 L2029.97 1485.9 L2010.07 1485.9 L2010.07 1481.97 Z\" fill=\"#000000\" fill-rule=\"evenodd\" fill-opacity=\"1\" /><path clip-path=\"url(#clip930)\" d=\"M 0 0 M2045.04 1454.42 Q2041.43 1454.42 2039.6 1457.99 Q2037.8 1461.53 2037.8 1468.66 Q2037.8 1475.77 2039.6 1479.33 Q2041.43 1482.87 2045.04 1482.87 Q2048.68 1482.87 2050.48 1479.33 Q2052.31 1475.77 2052.31 1468.66 Q2052.31 1461.53 2050.48 1457.99 Q2048.68 1454.42 2045.04 1454.42 M2045.04 1450.72 Q2050.85 1450.72 2053.91 1455.33 Q2056.99 1459.91 2056.99 1468.66 Q2056.99 1477.39 2053.91 1481.99 Q2050.85 1486.58 2045.04 1486.58 Q2039.23 1486.58 2036.15 1481.99 Q2033.1 1477.39 2033.1 1468.66 Q2033.1 1459.91 2036.15 1455.33 Q2039.23 1450.72 2045.04 1450.72 Z\" fill=\"#000000\" fill-rule=\"evenodd\" fill-opacity=\"1\" /><path clip-path=\"url(#clip930)\" d=\"M 0 0 M2061.56 1455.3 L2074.82 1455.3 L2074.82 1458.49 L2056.99 1458.49 L2056.99 1455.3 Q2059.15 1453.06 2062.87 1449.3 Q2066.62 1445.52 2067.58 1444.43 Q2069.4 1442.38 2070.11 1440.96 Q2070.85 1439.54 2070.85 1438.16 Q2070.85 1435.92 2069.27 1434.51 Q2067.71 1433.1 2065.19 1433.1 Q2063.4 1433.1 2061.41 1433.72 Q2059.43 1434.34 2057.17 1435.6 L2057.17 1431.77 Q2059.47 1430.85 2061.46 1430.38 Q2063.46 1429.91 2065.11 1429.91 Q2069.47 1429.91 2072.07 1432.09 Q2074.67 1434.27 2074.67 1437.92 Q2074.67 1439.65 2074.01 1441.21 Q2073.37 1442.75 2071.66 1444.86 Q2071.19 1445.4 2068.67 1448.02 Q2066.15 1450.61 2061.56 1455.3 Z\" fill=\"#000000\" fill-rule=\"evenodd\" fill-opacity=\"1\" /><path clip-path=\"url(#clip930)\" d=\"M 0 0 M2078.93 1453.72 L2082.9 1453.72 L2082.9 1458.49 L2078.93 1458.49 L2078.93 1453.72 Z\" fill=\"#000000\" fill-rule=\"evenodd\" fill-opacity=\"1\" /><path clip-path=\"url(#clip930)\" d=\"M 0 0 M2098.53 1443.35 Q2101.26 1443.94 2102.78 1445.78 Q2104.33 1447.62 2104.33 1450.33 Q2104.33 1454.49 2101.47 1456.76 Q2098.61 1459.04 2093.34 1459.04 Q2091.57 1459.04 2089.69 1458.68 Q2087.83 1458.34 2085.84 1457.65 L2085.84 1453.98 Q2087.42 1454.9 2089.3 1455.37 Q2091.18 1455.84 2093.23 1455.84 Q2096.8 1455.84 2098.66 1454.43 Q2100.55 1453.02 2100.55 1450.33 Q2100.55 1447.85 2098.8 1446.46 Q2097.07 1445.05 2093.96 1445.05 L2090.69 1445.05 L2090.69 1441.92 L2094.11 1441.92 Q2096.92 1441.92 2098.4 1440.81 Q2099.89 1439.69 2099.89 1437.58 Q2099.89 1435.42 2098.34 1434.27 Q2096.82 1433.1 2093.96 1433.1 Q2092.4 1433.1 2090.61 1433.44 Q2088.83 1433.78 2086.68 1434.49 L2086.68 1431.11 Q2088.85 1430.51 2090.73 1430.21 Q2092.63 1429.91 2094.3 1429.91 Q2098.63 1429.91 2101.15 1431.88 Q2103.67 1433.84 2103.67 1437.18 Q2103.67 1439.52 2102.33 1441.13 Q2101 1442.73 2098.53 1443.35 Z\" fill=\"#000000\" fill-rule=\"evenodd\" fill-opacity=\"1\" /><path clip-path=\"url(#clip930)\" d=\"M 0 0 M126.931 1392.1 L134.57 1392.1 L134.57 1365.73 L126.26 1367.4 L126.26 1363.14 L134.524 1361.47 L139.2 1361.47 L139.2 1392.1 L146.839 1392.1 L146.839 1396.03 L126.931 1396.03 L126.931 1392.1 Z\" fill=\"#000000\" fill-rule=\"evenodd\" fill-opacity=\"1\" /><path clip-path=\"url(#clip930)\" d=\"M 0 0 M161.908 1364.55 Q158.297 1364.55 156.468 1368.11 Q154.663 1371.66 154.663 1378.79 Q154.663 1385.89 156.468 1389.46 Q158.297 1393 161.908 1393 Q165.542 1393 167.348 1389.46 Q169.177 1385.89 169.177 1378.79 Q169.177 1371.66 167.348 1368.11 Q165.542 1364.55 161.908 1364.55 M161.908 1360.85 Q167.718 1360.85 170.774 1365.45 Q173.852 1370.04 173.852 1378.79 Q173.852 1387.51 170.774 1392.12 Q167.718 1396.7 161.908 1396.7 Q156.098 1396.7 153.019 1392.12 Q149.964 1387.51 149.964 1378.79 Q149.964 1370.04 153.019 1365.45 Q156.098 1360.85 161.908 1360.85 Z\" fill=\"#000000\" fill-rule=\"evenodd\" fill-opacity=\"1\" /><path clip-path=\"url(#clip930)\" d=\"M 0 0 M173.852 1354.95 L197.964 1354.95 L197.964 1358.14 L173.852 1358.14 L173.852 1354.95 Z\" fill=\"#000000\" fill-rule=\"evenodd\" fill-opacity=\"1\" /><path clip-path=\"url(#clip930)\" d=\"M 0 0 M212.521 1343.85 L202.929 1358.84 L212.521 1358.84 L212.521 1343.85 M211.524 1340.54 L216.302 1340.54 L216.302 1358.84 L220.308 1358.84 L220.308 1362 L216.302 1362 L216.302 1368.62 L212.521 1368.62 L212.521 1362 L199.845 1362 L199.845 1358.33 L211.524 1340.54 Z\" fill=\"#000000\" fill-rule=\"evenodd\" fill-opacity=\"1\" /><path clip-path=\"url(#clip930)\" d=\"M 0 0 M127.853 1134.8 L135.492 1134.8 L135.492 1108.44 L127.182 1110.1 L127.182 1105.84 L135.446 1104.18 L140.121 1104.18 L140.121 1134.8 L147.76 1134.8 L147.76 1138.74 L127.853 1138.74 L127.853 1134.8 Z\" fill=\"#000000\" fill-rule=\"evenodd\" fill-opacity=\"1\" /><path clip-path=\"url(#clip930)\" d=\"M 0 0 M162.83 1107.26 Q159.219 1107.26 157.39 1110.82 Q155.584 1114.36 155.584 1121.49 Q155.584 1128.6 157.39 1132.16 Q159.219 1135.7 162.83 1135.7 Q166.464 1135.7 168.269 1132.16 Q170.098 1128.6 170.098 1121.49 Q170.098 1114.36 168.269 1110.82 Q166.464 1107.26 162.83 1107.26 M162.83 1103.55 Q168.64 1103.55 171.695 1108.16 Q174.774 1112.74 174.774 1121.49 Q174.774 1130.22 171.695 1134.83 Q168.64 1139.41 162.83 1139.41 Q157.02 1139.41 153.941 1134.83 Q150.885 1130.22 150.885 1121.49 Q150.885 1112.74 153.941 1108.16 Q157.02 1103.55 162.83 1103.55 Z\" fill=\"#000000\" fill-rule=\"evenodd\" fill-opacity=\"1\" /><path clip-path=\"url(#clip930)\" d=\"M 0 0 M174.774 1097.65 L198.886 1097.65 L198.886 1100.85 L174.774 1100.85 L174.774 1097.65 Z\" fill=\"#000000\" fill-rule=\"evenodd\" fill-opacity=\"1\" /><path clip-path=\"url(#clip930)\" d=\"M 0 0 M214.515 1096.19 Q217.242 1096.77 218.765 1098.61 Q220.308 1100.46 220.308 1103.16 Q220.308 1107.32 217.449 1109.6 Q214.59 1111.87 209.324 1111.87 Q207.556 1111.87 205.675 1111.52 Q203.813 1111.18 201.82 1110.48 L201.82 1106.81 Q203.4 1107.73 205.28 1108.2 Q207.161 1108.68 209.211 1108.68 Q212.785 1108.68 214.647 1107.26 Q216.527 1105.85 216.527 1103.16 Q216.527 1100.68 214.778 1099.29 Q213.048 1097.88 209.945 1097.88 L206.672 1097.88 L206.672 1094.76 L210.095 1094.76 Q212.897 1094.76 214.383 1093.65 Q215.869 1092.52 215.869 1090.41 Q215.869 1088.25 214.327 1087.1 Q212.803 1085.94 209.945 1085.94 Q208.384 1085.94 206.597 1086.28 Q204.81 1086.61 202.666 1087.33 L202.666 1083.94 Q204.829 1083.34 206.71 1083.04 Q208.609 1082.74 210.283 1082.74 Q214.609 1082.74 217.129 1084.71 Q219.649 1086.67 219.649 1090.02 Q219.649 1092.35 218.314 1093.97 Q216.979 1095.57 214.515 1096.19 Z\" fill=\"#000000\" fill-rule=\"evenodd\" fill-opacity=\"1\" /><path clip-path=\"url(#clip930)\" d=\"M 0 0 M128.624 877.509 L136.263 877.509 L136.263 851.144 L127.953 852.81 L127.953 848.551 L136.217 846.884 L140.893 846.884 L140.893 877.509 L148.531 877.509 L148.531 881.444 L128.624 881.444 L128.624 877.509 Z\" fill=\"#000000\" fill-rule=\"evenodd\" fill-opacity=\"1\" /><path clip-path=\"url(#clip930)\" d=\"M 0 0 M163.601 849.963 Q159.99 849.963 158.161 853.528 Q156.355 857.07 156.355 864.199 Q156.355 871.306 158.161 874.87 Q159.99 878.412 163.601 878.412 Q167.235 878.412 169.041 874.87 Q170.869 871.306 170.869 864.199 Q170.869 857.07 169.041 853.528 Q167.235 849.963 163.601 849.963 M163.601 846.259 Q169.411 846.259 172.467 850.866 Q175.545 855.449 175.545 864.199 Q175.545 872.926 172.467 877.532 Q169.411 882.116 163.601 882.116 Q157.791 882.116 154.712 877.532 Q151.656 872.926 151.656 864.199 Q151.656 855.449 154.712 850.866 Q157.791 846.259 163.601 846.259 Z\" fill=\"#000000\" fill-rule=\"evenodd\" fill-opacity=\"1\" /><path clip-path=\"url(#clip930)\" d=\"M 0 0 M175.545 840.361 L199.657 840.361 L199.657 843.558 L175.545 843.558 L175.545 840.361 Z\" fill=\"#000000\" fill-rule=\"evenodd\" fill-opacity=\"1\" /><path clip-path=\"url(#clip930)\" d=\"M 0 0 M207.048 850.837 L220.308 850.837 L220.308 854.034 L202.478 854.034 L202.478 850.837 Q204.641 848.599 208.365 844.837 Q212.107 841.057 213.067 839.966 Q214.891 837.916 215.606 836.505 Q216.339 835.076 216.339 833.703 Q216.339 831.465 214.759 830.054 Q213.198 828.644 210.678 828.644 Q208.891 828.644 206.898 829.264 Q204.923 829.885 202.666 831.145 L202.666 827.308 Q204.961 826.387 206.954 825.916 Q208.948 825.446 210.603 825.446 Q214.966 825.446 217.562 827.628 Q220.157 829.81 220.157 833.458 Q220.157 835.189 219.499 836.75 Q218.859 838.292 217.148 840.398 Q216.678 840.944 214.158 843.558 Q211.637 846.154 207.048 850.837 Z\" fill=\"#000000\" fill-rule=\"evenodd\" fill-opacity=\"1\" /><path clip-path=\"url(#clip930)\" d=\"M 0 0 M128.323 620.216 L135.962 620.216 L135.962 593.851 L127.652 595.517 L127.652 591.258 L135.916 589.592 L140.592 589.592 L140.592 620.216 L148.231 620.216 L148.231 624.152 L128.323 624.152 L128.323 620.216 Z\" fill=\"#000000\" fill-rule=\"evenodd\" fill-opacity=\"1\" /><path clip-path=\"url(#clip930)\" d=\"M 0 0 M163.3 592.67 Q159.689 592.67 157.86 596.235 Q156.055 599.777 156.055 606.906 Q156.055 614.013 157.86 617.577 Q159.689 621.119 163.3 621.119 Q166.934 621.119 168.74 617.577 Q170.568 614.013 170.568 606.906 Q170.568 599.777 168.74 596.235 Q166.934 592.67 163.3 592.67 M163.3 588.967 Q169.11 588.967 172.166 593.573 Q175.244 598.156 175.244 606.906 Q175.244 615.633 172.166 620.239 Q169.11 624.823 163.3 624.823 Q157.49 624.823 154.411 620.239 Q151.356 615.633 151.356 606.906 Q151.356 598.156 154.411 593.573 Q157.49 588.967 163.3 588.967 Z\" fill=\"#000000\" fill-rule=\"evenodd\" fill-opacity=\"1\" /><path clip-path=\"url(#clip930)\" d=\"M 0 0 M175.244 583.068 L199.356 583.068 L199.356 586.265 L175.244 586.265 L175.244 583.068 Z\" fill=\"#000000\" fill-rule=\"evenodd\" fill-opacity=\"1\" /><path clip-path=\"url(#clip930)\" d=\"M 0 0 M204.133 593.544 L210.34 593.544 L210.34 572.122 L203.588 573.476 L203.588 570.015 L210.302 568.661 L214.101 568.661 L214.101 593.544 L220.308 593.544 L220.308 596.741 L204.133 596.741 L204.133 593.544 Z\" fill=\"#000000\" fill-rule=\"evenodd\" fill-opacity=\"1\" /><path clip-path=\"url(#clip930)\" d=\"M 0 0 M153.977 362.923 L161.616 362.923 L161.616 336.558 L153.306 338.224 L153.306 333.965 L161.57 332.299 L166.245 332.299 L166.245 362.923 L173.884 362.923 L173.884 366.859 L153.977 366.859 L153.977 362.923 Z\" fill=\"#000000\" fill-rule=\"evenodd\" fill-opacity=\"1\" /><path clip-path=\"url(#clip930)\" d=\"M 0 0 M188.954 335.377 Q185.343 335.377 183.514 338.942 Q181.708 342.484 181.708 349.613 Q181.708 356.72 183.514 360.285 Q185.343 363.826 188.954 363.826 Q192.588 363.826 194.393 360.285 Q196.222 356.72 196.222 349.613 Q196.222 342.484 194.393 338.942 Q192.588 335.377 188.954 335.377 M188.954 331.674 Q194.764 331.674 197.819 336.28 Q200.898 340.863 200.898 349.613 Q200.898 358.34 197.819 362.947 Q194.764 367.53 188.954 367.53 Q183.144 367.53 180.065 362.947 Q177.009 358.34 177.009 349.613 Q177.009 340.863 180.065 336.28 Q183.144 331.674 188.954 331.674 Z\" fill=\"#000000\" fill-rule=\"evenodd\" fill-opacity=\"1\" /><path clip-path=\"url(#clip930)\" d=\"M 0 0 M210.603 313.87 Q207.669 313.87 206.183 316.766 Q204.716 319.644 204.716 325.436 Q204.716 331.21 206.183 334.107 Q207.669 336.984 210.603 336.984 Q213.556 336.984 215.023 334.107 Q216.509 331.21 216.509 325.436 Q216.509 319.644 215.023 316.766 Q213.556 313.87 210.603 313.87 M210.603 310.86 Q215.324 310.86 217.806 314.603 Q220.308 318.327 220.308 325.436 Q220.308 332.527 217.806 336.27 Q215.324 339.994 210.603 339.994 Q205.882 339.994 203.381 336.27 Q200.898 332.527 200.898 325.436 Q200.898 318.327 203.381 314.603 Q205.882 310.86 210.603 310.86 Z\" fill=\"#000000\" fill-rule=\"evenodd\" fill-opacity=\"1\" /><path clip-path=\"url(#clip930)\" d=\"M 0 0 M156.667 105.63 L164.305 105.63 L164.305 79.2649 L155.995 80.9315 L155.995 76.6723 L164.259 75.0056 L168.935 75.0056 L168.935 105.63 L176.574 105.63 L176.574 109.566 L156.667 109.566 L156.667 105.63 Z\" fill=\"#000000\" fill-rule=\"evenodd\" fill-opacity=\"1\" /><path clip-path=\"url(#clip930)\" d=\"M 0 0 M191.643 78.0843 Q188.032 78.0843 186.203 81.6491 Q184.398 85.1908 184.398 92.3204 Q184.398 99.4268 186.203 102.992 Q188.032 106.533 191.643 106.533 Q195.277 106.533 197.083 102.992 Q198.912 99.4268 198.912 92.3204 Q198.912 85.1908 197.083 81.6491 Q195.277 78.0843 191.643 78.0843 M191.643 74.3806 Q197.453 74.3806 200.509 78.9871 Q203.588 83.5704 203.588 92.3204 Q203.588 101.047 200.509 105.654 Q197.453 110.237 191.643 110.237 Q185.833 110.237 182.754 105.654 Q179.699 101.047 179.699 92.3204 Q179.699 83.5704 182.754 78.9871 Q185.833 74.3806 191.643 74.3806 Z\" fill=\"#000000\" fill-rule=\"evenodd\" fill-opacity=\"1\" /><path clip-path=\"url(#clip930)\" d=\"M 0 0 M204.133 78.9579 L210.34 78.9579 L210.34 57.5359 L203.588 58.89 L203.588 55.4294 L210.302 54.0752 L214.101 54.0752 L214.101 78.9579 L220.308 78.9579 L220.308 82.1552 L204.133 82.1552 L204.133 78.9579 Z\" fill=\"#000000\" fill-rule=\"evenodd\" fill-opacity=\"1\" /><path clip-path=\"url(#clip930)\" d=\"M 0 0 M1197.69 1518.33 L1197.69 1525.11 Q1194.45 1522.08 1190.75 1520.59 Q1187.09 1519.09 1182.96 1519.09 Q1174.81 1519.09 1170.48 1524.09 Q1166.15 1529.05 1166.15 1538.47 Q1166.15 1547.86 1170.48 1552.86 Q1174.81 1557.82 1182.96 1557.82 Q1187.09 1557.82 1190.75 1556.33 Q1194.45 1554.83 1197.69 1551.81 L1197.69 1558.53 Q1194.32 1560.82 1190.53 1561.96 Q1186.78 1563.11 1182.57 1563.11 Q1171.78 1563.11 1165.58 1556.52 Q1159.37 1549.9 1159.37 1538.47 Q1159.37 1527.01 1165.58 1520.43 Q1171.78 1513.81 1182.57 1513.81 Q1186.84 1513.81 1190.59 1514.95 Q1194.38 1516.07 1197.69 1518.33 Z\" fill=\"#000000\" fill-rule=\"evenodd\" fill-opacity=\"1\" /><path clip-path=\"url(#clip930)\" d=\"M 0 0 M69.7664 810.981 Q63.4007 810.981 59.8996 813.623 Q56.3984 816.233 56.3984 820.975 Q56.3984 825.686 59.8996 828.328 Q63.4007 830.938 69.7664 830.938 Q76.1003 830.938 79.6014 828.328 Q83.1026 825.686 83.1026 820.975 Q83.1026 816.233 79.6014 813.623 Q76.1003 810.981 69.7664 810.981 M83.58 805.125 Q92.683 805.125 97.1071 809.167 Q101.563 813.209 101.563 821.548 Q101.563 824.636 101.086 827.373 Q100.64 830.11 99.6852 832.688 L93.9879 832.688 Q95.3884 830.11 96.0568 827.596 Q96.7252 825.081 96.7252 822.471 Q96.7252 816.71 93.7015 813.846 Q90.7096 810.981 84.6303 810.981 L81.7339 810.981 Q84.885 812.795 86.4446 815.628 Q88.0042 818.461 88.0042 822.408 Q88.0042 828.964 83.0071 832.975 Q78.01 836.985 69.7664 836.985 Q61.491 836.985 56.4939 832.975 Q51.4968 828.964 51.4968 822.408 Q51.4968 818.461 53.0564 815.628 Q54.616 812.795 57.7671 810.981 L52.3562 810.981 L52.3562 805.125 L83.58 805.125 Z\" fill=\"#000000\" fill-rule=\"evenodd\" fill-opacity=\"1\" /><path clip-path=\"url(#clip930)\" d=\"M 0 0 M70.0847 782.781 Q70.0847 789.879 71.7079 792.616 Q73.3312 795.353 77.2461 795.353 Q80.3653 795.353 82.2114 793.316 Q84.0256 791.247 84.0256 787.714 Q84.0256 782.845 80.5881 779.916 Q77.1188 776.956 71.3897 776.956 L70.0847 776.956 L70.0847 782.781 M67.6657 771.1 L88.0042 771.1 L88.0042 776.956 L82.5933 776.956 Q85.8398 778.962 87.3994 781.953 Q88.9272 784.945 88.9272 789.274 Q88.9272 794.749 85.8716 797.995 Q82.7843 801.21 77.6281 801.21 Q71.6125 801.21 68.5569 797.199 Q65.5014 793.157 65.5014 785.168 L65.5014 776.956 L64.9285 776.956 Q60.8862 776.956 58.6901 779.63 Q56.4621 782.272 56.4621 787.078 Q56.4621 790.133 57.1941 793.03 Q57.9262 795.926 59.3903 798.6 L53.9795 798.6 Q52.7381 795.385 52.1334 792.361 Q51.4968 789.338 51.4968 786.473 Q51.4968 778.739 55.5072 774.919 Q59.5176 771.1 67.6657 771.1 Z\" fill=\"#000000\" fill-rule=\"evenodd\" fill-opacity=\"1\" /><path clip-path=\"url(#clip930)\" d=\"M 0 0 M59.1993 737.203 Q55.2526 735.006 53.3747 731.951 Q51.4968 728.895 51.4968 724.758 Q51.4968 719.188 55.4117 716.164 Q59.2948 713.14 66.4881 713.14 L88.0042 713.14 L88.0042 719.028 L66.679 719.028 Q61.5546 719.028 59.072 720.843 Q56.5894 722.657 56.5894 726.381 Q56.5894 730.932 59.6131 733.574 Q62.6368 736.216 67.8567 736.216 L88.0042 736.216 L88.0042 742.104 L66.679 742.104 Q61.5228 742.104 59.072 743.918 Q56.5894 745.733 56.5894 749.52 Q56.5894 754.008 59.6449 756.65 Q62.6686 759.292 67.8567 759.292 L88.0042 759.292 L88.0042 765.18 L52.3562 765.18 L52.3562 759.292 L57.8944 759.292 Q54.616 757.286 53.0564 754.485 Q51.4968 751.685 51.4968 747.833 Q51.4968 743.95 53.4702 741.245 Q55.4436 738.508 59.1993 737.203 Z\" fill=\"#000000\" fill-rule=\"evenodd\" fill-opacity=\"1\" /><path clip-path=\"url(#clip930)\" d=\"M 0 0 M59.1993 679.243 Q55.2526 677.047 53.3747 673.991 Q51.4968 670.936 51.4968 666.798 Q51.4968 661.228 55.4117 658.204 Q59.2948 655.18 66.4881 655.18 L88.0042 655.18 L88.0042 661.069 L66.679 661.069 Q61.5546 661.069 59.072 662.883 Q56.5894 664.697 56.5894 668.421 Q56.5894 672.973 59.6131 675.614 Q62.6368 678.256 67.8567 678.256 L88.0042 678.256 L88.0042 684.144 L66.679 684.144 Q61.5228 684.144 59.072 685.959 Q56.5894 687.773 56.5894 691.56 Q56.5894 696.048 59.6449 698.69 Q62.6686 701.332 67.8567 701.332 L88.0042 701.332 L88.0042 707.22 L52.3562 707.22 L52.3562 701.332 L57.8944 701.332 Q54.616 699.327 53.0564 696.526 Q51.4968 693.725 51.4968 689.874 Q51.4968 685.99 53.4702 683.285 Q55.4436 680.548 59.1993 679.243 Z\" fill=\"#000000\" fill-rule=\"evenodd\" fill-opacity=\"1\" /><path clip-path=\"url(#clip930)\" d=\"M 0 0 M70.0847 632.837 Q70.0847 639.935 71.7079 642.672 Q73.3312 645.409 77.2461 645.409 Q80.3653 645.409 82.2114 643.372 Q84.0256 641.303 84.0256 637.77 Q84.0256 632.9 80.5881 629.972 Q77.1188 627.012 71.3897 627.012 L70.0847 627.012 L70.0847 632.837 M67.6657 621.156 L88.0042 621.156 L88.0042 627.012 L82.5933 627.012 Q85.8398 629.017 87.3994 632.009 Q88.9272 635.001 88.9272 639.33 Q88.9272 644.804 85.8716 648.051 Q82.7843 651.266 77.6281 651.266 Q71.6125 651.266 68.5569 647.255 Q65.5014 643.213 65.5014 635.224 L65.5014 627.012 L64.9285 627.012 Q60.8862 627.012 58.6901 629.686 Q56.4621 632.328 56.4621 637.134 Q56.4621 640.189 57.1941 643.086 Q57.9262 645.982 59.3903 648.656 L53.9795 648.656 Q52.7381 645.441 52.1334 642.417 Q51.4968 639.393 51.4968 636.529 Q51.4968 628.795 55.5072 624.975 Q59.5176 621.156 67.6657 621.156 Z\" fill=\"#000000\" fill-rule=\"evenodd\" fill-opacity=\"1\" /><circle clip-path=\"url(#clip932)\" cx=\"884.751\" cy=\"300.249\" r=\"52\" fill=\"#fbb81d\" fill-rule=\"evenodd\" fill-opacity=\"1\" stroke=\"#000000\" stroke-opacity=\"1\" stroke-width=\"3.2\"/>\n",
       "<circle clip-path=\"url(#clip932)\" cx=\"1766.09\" cy=\"943.481\" r=\"61\" fill=\"#fcfea4\" fill-rule=\"evenodd\" fill-opacity=\"1\" stroke=\"#000000\" stroke-opacity=\"1\" stroke-width=\"3.2\"/>\n",
       "<circle clip-path=\"url(#clip932)\" cx=\"1472.31\" cy=\"943.481\" r=\"61\" fill=\"#fcfea4\" fill-rule=\"evenodd\" fill-opacity=\"1\" stroke=\"#000000\" stroke-opacity=\"1\" stroke-width=\"3.2\"/>\n",
       "<circle clip-path=\"url(#clip932)\" cx=\"297.188\" cy=\"943.481\" r=\"60\" fill=\"#f9fd9f\" fill-rule=\"evenodd\" fill-opacity=\"1\" stroke=\"#000000\" stroke-opacity=\"1\" stroke-width=\"3.2\"/>\n",
       "<circle clip-path=\"url(#clip932)\" cx=\"1766.09\" cy=\"729.07\" r=\"60\" fill=\"#f5f891\" fill-rule=\"evenodd\" fill-opacity=\"1\" stroke=\"#000000\" stroke-opacity=\"1\" stroke-width=\"3.2\"/>\n",
       "<circle clip-path=\"url(#clip932)\" cx=\"2059.88\" cy=\"300.249\" r=\"49\" fill=\"#fb9f07\" fill-rule=\"evenodd\" fill-opacity=\"1\" stroke=\"#000000\" stroke-opacity=\"1\" stroke-width=\"3.2\"/>\n",
       "<circle clip-path=\"url(#clip932)\" cx=\"297.188\" cy=\"300.249\" r=\"53\" fill=\"#fac229\" fill-rule=\"evenodd\" fill-opacity=\"1\" stroke=\"#000000\" stroke-opacity=\"1\" stroke-width=\"3.2\"/>\n",
       "<circle clip-path=\"url(#clip932)\" cx=\"884.751\" cy=\"729.07\" r=\"60\" fill=\"#f8fb9a\" fill-rule=\"evenodd\" fill-opacity=\"1\" stroke=\"#000000\" stroke-opacity=\"1\" stroke-width=\"3.2\"/>\n",
       "<circle clip-path=\"url(#clip932)\" cx=\"2059.88\" cy=\"1157.89\" r=\"60\" fill=\"#f6fa97\" fill-rule=\"evenodd\" fill-opacity=\"1\" stroke=\"#000000\" stroke-opacity=\"1\" stroke-width=\"3.2\"/>\n",
       "<circle clip-path=\"url(#clip932)\" cx=\"590.969\" cy=\"943.481\" r=\"60\" fill=\"#f9fd9f\" fill-rule=\"evenodd\" fill-opacity=\"1\" stroke=\"#000000\" stroke-opacity=\"1\" stroke-width=\"3.2\"/>\n",
       "<circle clip-path=\"url(#clip932)\" cx=\"1178.53\" cy=\"729.07\" r=\"60\" fill=\"#f6fa97\" fill-rule=\"evenodd\" fill-opacity=\"1\" stroke=\"#000000\" stroke-opacity=\"1\" stroke-width=\"3.2\"/>\n",
       "<circle clip-path=\"url(#clip932)\" cx=\"1766.09\" cy=\"1372.3\" r=\"57\" fill=\"#f2e661\" fill-rule=\"evenodd\" fill-opacity=\"1\" stroke=\"#000000\" stroke-opacity=\"1\" stroke-width=\"3.2\"/>\n",
       "<circle clip-path=\"url(#clip932)\" cx=\"2059.88\" cy=\"729.07\" r=\"59\" fill=\"#f4f88f\" fill-rule=\"evenodd\" fill-opacity=\"1\" stroke=\"#000000\" stroke-opacity=\"1\" stroke-width=\"3.2\"/>\n",
       "<circle clip-path=\"url(#clip932)\" cx=\"1178.53\" cy=\"85.838\" r=\"3\" fill=\"#000004\" fill-rule=\"evenodd\" fill-opacity=\"1\" stroke=\"#000000\" stroke-opacity=\"1\" stroke-width=\"3.2\"/>\n",
       "<circle clip-path=\"url(#clip932)\" cx=\"1178.53\" cy=\"300.249\" r=\"51\" fill=\"#fbb418\" fill-rule=\"evenodd\" fill-opacity=\"1\" stroke=\"#000000\" stroke-opacity=\"1\" stroke-width=\"3.2\"/>\n",
       "<circle clip-path=\"url(#clip932)\" cx=\"2059.88\" cy=\"85.838\" r=\"3\" fill=\"#000004\" fill-rule=\"evenodd\" fill-opacity=\"1\" stroke=\"#000000\" stroke-opacity=\"1\" stroke-width=\"3.2\"/>\n",
       "<circle clip-path=\"url(#clip932)\" cx=\"884.751\" cy=\"514.66\" r=\"57\" fill=\"#f1ea6a\" fill-rule=\"evenodd\" fill-opacity=\"1\" stroke=\"#000000\" stroke-opacity=\"1\" stroke-width=\"3.2\"/>\n",
       "<circle clip-path=\"url(#clip932)\" cx=\"297.188\" cy=\"729.07\" r=\"60\" fill=\"#f5f993\" fill-rule=\"evenodd\" fill-opacity=\"1\" stroke=\"#000000\" stroke-opacity=\"1\" stroke-width=\"3.2\"/>\n",
       "<circle clip-path=\"url(#clip932)\" cx=\"1178.53\" cy=\"943.481\" r=\"60\" fill=\"#f9fd9f\" fill-rule=\"evenodd\" fill-opacity=\"1\" stroke=\"#000000\" stroke-opacity=\"1\" stroke-width=\"3.2\"/>\n",
       "<circle clip-path=\"url(#clip932)\" cx=\"1766.09\" cy=\"514.66\" r=\"57\" fill=\"#f2e661\" fill-rule=\"evenodd\" fill-opacity=\"1\" stroke=\"#000000\" stroke-opacity=\"1\" stroke-width=\"3.2\"/>\n",
       "<circle clip-path=\"url(#clip932)\" cx=\"1472.31\" cy=\"300.249\" r=\"50\" fill=\"#fbae12\" fill-rule=\"evenodd\" fill-opacity=\"1\" stroke=\"#000000\" stroke-opacity=\"1\" stroke-width=\"3.2\"/>\n",
       "<circle clip-path=\"url(#clip932)\" cx=\"1178.53\" cy=\"514.66\" r=\"58\" fill=\"#f1eb6c\" fill-rule=\"evenodd\" fill-opacity=\"1\" stroke=\"#000000\" stroke-opacity=\"1\" stroke-width=\"3.2\"/>\n",
       "<circle clip-path=\"url(#clip932)\" cx=\"590.969\" cy=\"1372.3\" r=\"55\" fill=\"#f5d848\" fill-rule=\"evenodd\" fill-opacity=\"1\" stroke=\"#000000\" stroke-opacity=\"1\" stroke-width=\"3.2\"/>\n",
       "<circle clip-path=\"url(#clip932)\" cx=\"1472.31\" cy=\"729.07\" r=\"60\" fill=\"#f5f993\" fill-rule=\"evenodd\" fill-opacity=\"1\" stroke=\"#000000\" stroke-opacity=\"1\" stroke-width=\"3.2\"/>\n",
       "<circle clip-path=\"url(#clip932)\" cx=\"1472.31\" cy=\"1372.3\" r=\"56\" fill=\"#f3e259\" fill-rule=\"evenodd\" fill-opacity=\"1\" stroke=\"#000000\" stroke-opacity=\"1\" stroke-width=\"3.2\"/>\n",
       "<circle clip-path=\"url(#clip932)\" cx=\"1766.09\" cy=\"300.249\" r=\"50\" fill=\"#fba90e\" fill-rule=\"evenodd\" fill-opacity=\"1\" stroke=\"#000000\" stroke-opacity=\"1\" stroke-width=\"3.2\"/>\n",
       "<circle clip-path=\"url(#clip932)\" cx=\"1766.09\" cy=\"1157.89\" r=\"60\" fill=\"#f5f891\" fill-rule=\"evenodd\" fill-opacity=\"1\" stroke=\"#000000\" stroke-opacity=\"1\" stroke-width=\"3.2\"/>\n",
       "<circle clip-path=\"url(#clip932)\" cx=\"1472.31\" cy=\"1157.89\" r=\"59\" fill=\"#f4f78e\" fill-rule=\"evenodd\" fill-opacity=\"1\" stroke=\"#000000\" stroke-opacity=\"1\" stroke-width=\"3.2\"/>\n",
       "<circle clip-path=\"url(#clip932)\" cx=\"2059.88\" cy=\"943.481\" r=\"60\" fill=\"#f9fd9f\" fill-rule=\"evenodd\" fill-opacity=\"1\" stroke=\"#000000\" stroke-opacity=\"1\" stroke-width=\"3.2\"/>\n",
       "<circle clip-path=\"url(#clip932)\" cx=\"884.751\" cy=\"1372.3\" r=\"56\" fill=\"#f5da4b\" fill-rule=\"evenodd\" fill-opacity=\"1\" stroke=\"#000000\" stroke-opacity=\"1\" stroke-width=\"3.2\"/>\n",
       "<circle clip-path=\"url(#clip932)\" cx=\"590.969\" cy=\"514.66\" r=\"58\" fill=\"#f1ec6f\" fill-rule=\"evenodd\" fill-opacity=\"1\" stroke=\"#000000\" stroke-opacity=\"1\" stroke-width=\"3.2\"/>\n",
       "<circle clip-path=\"url(#clip932)\" cx=\"297.188\" cy=\"1157.89\" r=\"59\" fill=\"#f2f484\" fill-rule=\"evenodd\" fill-opacity=\"1\" stroke=\"#000000\" stroke-opacity=\"1\" stroke-width=\"3.2\"/>\n",
       "<circle clip-path=\"url(#clip932)\" cx=\"590.969\" cy=\"300.249\" r=\"52\" fill=\"#fabf25\" fill-rule=\"evenodd\" fill-opacity=\"1\" stroke=\"#000000\" stroke-opacity=\"1\" stroke-width=\"3.2\"/>\n",
       "<circle clip-path=\"url(#clip932)\" cx=\"297.188\" cy=\"1372.3\" r=\"55\" fill=\"#f5d746\" fill-rule=\"evenodd\" fill-opacity=\"1\" stroke=\"#000000\" stroke-opacity=\"1\" stroke-width=\"3.2\"/>\n",
       "<circle clip-path=\"url(#clip932)\" cx=\"1178.53\" cy=\"1157.89\" r=\"59\" fill=\"#f3f78c\" fill-rule=\"evenodd\" fill-opacity=\"1\" stroke=\"#000000\" stroke-opacity=\"1\" stroke-width=\"3.2\"/>\n",
       "<circle clip-path=\"url(#clip932)\" cx=\"1472.31\" cy=\"514.66\" r=\"57\" fill=\"#f2e55f\" fill-rule=\"evenodd\" fill-opacity=\"1\" stroke=\"#000000\" stroke-opacity=\"1\" stroke-width=\"3.2\"/>\n",
       "<circle clip-path=\"url(#clip932)\" cx=\"590.969\" cy=\"85.838\" r=\"3\" fill=\"#000003\" fill-rule=\"evenodd\" fill-opacity=\"1\" stroke=\"#000000\" stroke-opacity=\"1\" stroke-width=\"3.2\"/>\n",
       "<circle clip-path=\"url(#clip932)\" cx=\"297.188\" cy=\"85.838\" r=\"3\" fill=\"#000005\" fill-rule=\"evenodd\" fill-opacity=\"1\" stroke=\"#000000\" stroke-opacity=\"1\" stroke-width=\"3.2\"/>\n",
       "<circle clip-path=\"url(#clip932)\" cx=\"590.969\" cy=\"1157.89\" r=\"59\" fill=\"#f2f484\" fill-rule=\"evenodd\" fill-opacity=\"1\" stroke=\"#000000\" stroke-opacity=\"1\" stroke-width=\"3.2\"/>\n",
       "<circle clip-path=\"url(#clip932)\" cx=\"1766.09\" cy=\"85.838\" r=\"3\" fill=\"#000004\" fill-rule=\"evenodd\" fill-opacity=\"1\" stroke=\"#000000\" stroke-opacity=\"1\" stroke-width=\"3.2\"/>\n",
       "<circle clip-path=\"url(#clip932)\" cx=\"2059.88\" cy=\"514.66\" r=\"57\" fill=\"#f2e45e\" fill-rule=\"evenodd\" fill-opacity=\"1\" stroke=\"#000000\" stroke-opacity=\"1\" stroke-width=\"3.2\"/>\n",
       "<circle clip-path=\"url(#clip932)\" cx=\"590.969\" cy=\"729.07\" r=\"60\" fill=\"#f8fb9a\" fill-rule=\"evenodd\" fill-opacity=\"1\" stroke=\"#000000\" stroke-opacity=\"1\" stroke-width=\"3.2\"/>\n",
       "<circle clip-path=\"url(#clip932)\" cx=\"884.751\" cy=\"943.481\" r=\"60\" fill=\"#f9fd9f\" fill-rule=\"evenodd\" fill-opacity=\"1\" stroke=\"#000000\" stroke-opacity=\"1\" stroke-width=\"3.2\"/>\n",
       "<circle clip-path=\"url(#clip932)\" cx=\"297.188\" cy=\"514.66\" r=\"59\" fill=\"#f1f27f\" fill-rule=\"evenodd\" fill-opacity=\"1\" stroke=\"#000000\" stroke-opacity=\"1\" stroke-width=\"3.2\"/>\n",
       "<circle clip-path=\"url(#clip932)\" cx=\"1178.53\" cy=\"1372.3\" r=\"56\" fill=\"#f4dc4e\" fill-rule=\"evenodd\" fill-opacity=\"1\" stroke=\"#000000\" stroke-opacity=\"1\" stroke-width=\"3.2\"/>\n",
       "<circle clip-path=\"url(#clip932)\" cx=\"1472.31\" cy=\"85.838\" r=\"3\" fill=\"#000004\" fill-rule=\"evenodd\" fill-opacity=\"1\" stroke=\"#000000\" stroke-opacity=\"1\" stroke-width=\"3.2\"/>\n",
       "<circle clip-path=\"url(#clip932)\" cx=\"884.751\" cy=\"1157.89\" r=\"59\" fill=\"#f2f484\" fill-rule=\"evenodd\" fill-opacity=\"1\" stroke=\"#000000\" stroke-opacity=\"1\" stroke-width=\"3.2\"/>\n",
       "<circle clip-path=\"url(#clip932)\" cx=\"2059.88\" cy=\"1372.3\" r=\"58\" fill=\"#f1eb6c\" fill-rule=\"evenodd\" fill-opacity=\"1\" stroke=\"#000000\" stroke-opacity=\"1\" stroke-width=\"3.2\"/>\n",
       "<circle clip-path=\"url(#clip932)\" cx=\"884.751\" cy=\"85.838\" r=\"3\" fill=\"#000004\" fill-rule=\"evenodd\" fill-opacity=\"1\" stroke=\"#000000\" stroke-opacity=\"1\" stroke-width=\"3.2\"/>\n",
       "<defs>\n",
       "  <clipPath id=\"clip933\">\n",
       "    <rect x=\"2160\" y=\"47\" width=\"73\" height=\"1365\"/>\n",
       "  </clipPath>\n",
       "</defs>\n",
       "<g clip-path=\"url(#clip933)\">\n",
       "<image width=\"72\" height=\"1364\" xlink:href=\"data:image/png;base64,\n",
       "iVBORw0KGgoAAAANSUhEUgAAAEgAAAVUCAYAAABzwV4AAAAL0klEQVR4nO3dwY3sRhAFQY5Q/lsh\n",
       "L6XfLQtUeSQPERYsEg+zZJM7+/v3/H0f/tdfb/8AXydQECgIFAQKc+6/b/8Mn2ZBQaAgUBAozL1/\n",
       "3v4ZPs2CgkBBoCBQcCUdLCgIFAQKAgWBwly/xVYWFAQKAgWBwtzjQ3pjQUGgIFAQKLiSDhYUBAoC\n",
       "BYGCQMFvsWBBQaAgUBAoOA8KFhQECgIFgcI8rqRXFhQECgIFgYJAwXlQsKAgUBAoCBTmcR60sqAg\n",
       "UBAoCBTmOf+8/TN8mgUFgYJAQaAgUPBUI1hQECgIFAQKzoOCBQWBgkBBoOBDOlhQECgIFAQKAgXn\n",
       "QcGCgkBBoCBQmJ9bjZUFBYGCQEGgMM/xpf8bCwoCBYGCQEGg4FYjWFAQKAgUBApuNYIFBYGCQEGg\n",
       "4P2gYEFBoCBQECgIFObnVmNlQUGgIFAQKHiJM1hQECgIFAQKrqSDBQWBgkBBoCBQ8Og5WFAQKAgU\n",
       "BApuNYIFBYGCQEGg4Eo6WFAQKAgUBAoCBbcawYKCQEGgIFCY55y3f4ZPs6AgUBAoCBRcSQcLCgIF\n",
       "gYJAQaDgqUawoCBQECgIFHxIBwsKAgWBgkBhfg7tVxYUBAoCBYGCQMGtRrCgIFAQKAgUvB8ULCgI\n",
       "FAQKAgXnQcGCgkBBoCBQECg4DwoWFAQKAgWBgvOgYEFBoCBQECj4kA4WFAQKAgWBgkDBXz0HCwoC\n",
       "BYGCQMGtRrCgIFAQKAgUfEgHCwoCBYGCQEGg4LdYsKAgUBAoCBR8SAcLCgIFgYJAYZ7rQ3pjQUGg\n",
       "IFAQKAgU3GoECwoCBYGCQMGHdLCgIFAQKAgUfEgHCwoCBYGCQEGgMM+5b/8Mn2ZBQaAgUBAouNUI\n",
       "FhQECgIFgYIr6WBBQaAgUBAoCBTcagQLCgIFgYJAwa1GsKAgUBAoCBTmcSG9sqAgUBAoCBQECvNc\n",
       "txobCwoCBYGCQMGtRrCgIFAQKAgUfEgHCwoCBYGCQEGgML4Eb2dBQaAgUBAouNUIFhQECgIFgYIP\n",
       "6WBBQaAgUBAoCBTmOb+3f4ZPs6AgUBAoCBTmXh/SGwsKAgWBgkDBeVCwoCBQECgIFBx3BAsKAgWB\n",
       "gkBBoDD3aLRRJwgUBAoCBbcawYKCQEGgIFCYx5PVlQUFgYJAQaAgUJjrVmNlQUGgIFAQKMzj0H6l\n",
       "ThAoCBQECq6kgwUFgYJAQaAgUPBUI1hQECgIFAQKXuIM6gSBgkBBoOAlzmBBQaAgUBAoCBQ81QgW\n",
       "FAQKAgWBwtyr0UadIFAQKAgUnAcFCwoCBYGCQEGg4DwoWFAQKAgUBArzOA9aqRMECgIFgYIr6WBB\n",
       "QaAgUBAoCBT8FgsWFAQKAgWBgj/qDRYUBAoCBYGCP+oN6gSBgkBBoCBQ8P/mgwUFgYJAQaDg0D5Y\n",
       "UBAoCBQECr70P6gTBAoCBYGCQMF5ULCgIFAQKAgUnAcFCwoCBYGCQMGVdLCgIFAQKAgUBArecg3q\n",
       "BIGCQEGg4FYjWFAQKAgUBAoO7YMFBYGCQEGgIFBwqxEsKAgUBAoCBf+6JlhQECgIFAQK/glkUCcI\n",
       "FAQKAgWBgvOgYEFBoCBQECh49BwsKAgUBAoCBVfSwYKCQEGgIFAQKMzxW2xlQUGgIFAQKPij3qBO\n",
       "ECgIFAQKzoOCBQWBgkBBoCBQ8FssWFAQKAgUBAreDwoWFAQKAgWBgivpYEFBoCBQECgIFPwWCxYU\n",
       "BAoCBYGCr6YI6gSBgkBBoDDHof3KgoJAQaAgUBAoOA8KFhQECgIFgYIP6WBBQaAgUBAo+JAOFhQE\n",
       "CgIFgYJAwfcHBQsKAgWBgkDBrUawoCBQECgIFHxIBwsKAgWBgkBBoOBPEYI6QaAgUBAo+FOEYEFB\n",
       "oCBQECg4DwoWFAQKAgWBgkDBb7FgQUGgIFAQKHiJM1hQECgIFAQKrqSDBQWBgkBBoCBQmPv4Lbax\n",
       "oCBQECgIFJwHBQsKAgWBgkDBeVCwoCBQECgIFAQKbjWCBQWBgkBBoOBWI1hQECgIFAQKrqSDBQWB\n",
       "gkBBoCBQcKsRLCgIFAQKAgUf0sGCgkBBoCBQmONN+5UFBYGCQEGg4Eo6WFAQKAgUBAoCBY+egwUF\n",
       "gYJAQaAw9779I3ybBQWBgkBBoOBKOlhQECgIFAQKAgVf8hYsKAgUBAoCBbcawYKCQEGgIFDwflCw\n",
       "oCBQECgIFAQK/hQhWFAQKAgUBAreDwoWFAQKAgWBgkP7YEFBoCBQECgIFDzVCBYUBAoCBYGCQ/tg\n",
       "QUGgIFAQKDgPChYUBAoCBYGCQMGj52BBQaAgUBAoOA8KFhQECgIFgYInq8GCgkBBoCBQECjMefsn\n",
       "+DgLCgIFgYJAwa1GsKAgUBAoCBS8HxQsKAgUBAoCBYGC86BgQUGgIFAQKDgPChYUBAoCBYGCK+lg\n",
       "QUGgIFAQKAgU3GoECwoCBYGCQMGj52BBQaAgUBAojC9e2FlQECgIFAQKAgW3GsGCgkBBoCBQ8Og5\n",
       "WFAQKAgUBAqerAYLCgIFgYJAQaDgViNYUBAoCBQECm41ggUFgYJAQaAwxwtCKwsKAgWBgkBBoOA8\n",
       "KFhQECgIFAQKzoOCBQWBgkBBoOBKOlhQECgIFAQKAgX/bz5YUBAoCBQECv7ffLCgIFAQKAgUvB8U\n",
       "LCgIFAQKAgWBgm/BCxYUBAoCBYGCL3kLFhQECgIFgYInq8GCgkBBoCBQECh4yzVYUBAoCBQECv5e\n",
       "LFhQECgIFAQKrqSDBQWBgkBBoCBQ8JZrsKAgUBAoCBS8xBksKAgUBAoCBVfSwYKCQEGgIFAQKHjL\n",
       "NVhQECgIFAQKvj8oWFAQKAgUBArOg4IFBYGCQEGgIFDw6DlYUBAoCBQECm41ggUFgYJAQaDgSjpY\n",
       "UBAoCBQECgIFtxrBgoJAQaAgUPAhHSwoCBQECgIF50HBgoJAQaAgUBAouNUIFhQECgIFgYJbjWBB\n",
       "QaAgUBAouJIOFhQECgIFgYJAwfcHBQsKAgWBgkDBv64JFhQECgIFgYLzoGBBQaAgUBAoCBTmPn6N\n",
       "bSwoCBQECgIFtxrBgoJAQaAgUPBkNVhQECgIFAQKnqwGCwoCBYGCQEGg4DwoWFAQKAgUBAqerAYL\n",
       "CgIFgYJAwZV0sKAgUBAoCBQECr4/KFhQECgIFAQKc7wgtLKgIFAQKAgUvB8ULCgIFAQKAgWBwly3\n",
       "GisLCgIFgYJAwa1GsKAgUBAoCBQc2gcLCgIFgYJAQaDg/aBgQUGgIFAQKMzx92IrCwoCBYGCQMF5\n",
       "ULCgIFAQKAgUBAq+miJYUBAoCBQECt4PChYUBAoCBYGCQ/tgQUGgIFAQKAgUnAcFCwoCBYGCQGHO\n",
       "40RoY0FBoCBQECg4DwoWFAQKAgWBgkDBb7FgQUGgIFAQKDi0DxYUBAoCBYGCQ/tgQUGgIFAQKAgU\n",
       "5vzcamwsKAgUBAoCBbcawYKCQEGgIFCY60N6ZUFBoCBQECgIFNxqBAsKAgWBgkBhzs+H9MaCgkBB\n",
       "oCBQcCUdLCgIFAQKAgWBgqcawYKCQEGgIFBwqxEsKAgUBAoCBR/SwYKCQEGgIFAQKHj0HCwoCBQE\n",
       "CgKFuc+ft3+GT7OgIFAQKAgUnAcFCwoCBYGCQEGg4P2gYEFBoCBQECjMuc6DNhYUBAoCBYGCK+lg\n",
       "QUGgIFAQKAgU5nj0vLKgIFAQKAgU3GoECwoCBYGCQMGVdLCgIFAQKAgUBApzr1uNjQUFgYJAQaDg\n",
       "PChYUBAoCBQECl7iDBYUBAoCBYGCQMGtRrCgIFAQKAgU5rrVWFlQECgIFAQKrqSDBQWBgkBBoCBQ\n",
       "mOP9oJUFBYGCQEGg4PukgwUFgYJAQaDgTftgQUGgIFAQKAgUPNUIFhQECgIFgYJbjWBBQaAgUBAo\n",
       "+JAOFhQECgIFgYJAwaPnYEFBoCBQECi41QgWFAQKAgWBwjyerK4sKAgUBAoCBYGCW41gQUGgIFAQ\n",
       "KHiJM1hQECgIFAQK87iSXllQECgIFAQKAgXvBwULCgIFgYJAwaPnYEFBoCBQECg4DwoWFAQKAgWB\n",
       "gkBh7nPf/hk+zYKCQEGgIFBwHhQsKAgUBAoChXlcSa8sKAgUBAoChf8AJ8ztt7m0cDkAAAAASUVO\n",
       "RK5CYII=\n",
       "\" transform=\"translate(2161, 47)\"/>\n",
       "</g>\n",
       "<path clip-path=\"url(#clip930)\" d=\"M 0 0 M2280.7 1374.52 Q2277.09 1374.52 2275.26 1378.09 Q2273.45 1381.63 2273.45 1388.76 Q2273.45 1395.87 2275.26 1399.43 Q2277.09 1402.97 2280.7 1402.97 Q2284.33 1402.97 2286.14 1399.43 Q2287.97 1395.87 2287.97 1388.76 Q2287.97 1381.63 2286.14 1378.09 Q2284.33 1374.52 2280.7 1374.52 M2280.7 1370.82 Q2286.51 1370.82 2289.57 1375.43 Q2292.64 1380.01 2292.64 1388.76 Q2292.64 1397.49 2289.57 1402.09 Q2286.51 1406.68 2280.7 1406.68 Q2274.89 1406.68 2271.81 1402.09 Q2268.76 1397.49 2268.76 1388.76 Q2268.76 1380.01 2271.81 1375.43 Q2274.89 1370.82 2280.7 1370.82 Z\" fill=\"#000000\" fill-rule=\"evenodd\" fill-opacity=\"1\" /><path clip-path=\"url(#clip930)\" d=\"M 0 0 M2297.71 1400.12 L2302.6 1400.12 L2302.6 1406 L2297.71 1406 L2297.71 1400.12 Z\" fill=\"#000000\" fill-rule=\"evenodd\" fill-opacity=\"1\" /><path clip-path=\"url(#clip930)\" d=\"M 0 0 M2307.81 1405.29 L2307.81 1401.03 Q2309.57 1401.86 2311.37 1402.3 Q2313.18 1402.74 2314.91 1402.74 Q2319.54 1402.74 2321.97 1399.64 Q2324.43 1396.51 2324.77 1390.17 Q2323.43 1392.16 2321.37 1393.23 Q2319.31 1394.29 2316.81 1394.29 Q2311.63 1394.29 2308.59 1391.17 Q2305.58 1388.02 2305.58 1382.58 Q2305.58 1377.25 2308.73 1374.04 Q2311.88 1370.82 2317.11 1370.82 Q2323.11 1370.82 2326.26 1375.43 Q2329.43 1380.01 2329.43 1388.76 Q2329.43 1396.93 2325.54 1401.81 Q2321.67 1406.68 2315.12 1406.68 Q2313.36 1406.68 2311.56 1406.33 Q2309.75 1405.98 2307.81 1405.29 M2317.11 1390.63 Q2320.26 1390.63 2322.09 1388.48 Q2323.94 1386.33 2323.94 1382.58 Q2323.94 1378.85 2322.09 1376.7 Q2320.26 1374.52 2317.11 1374.52 Q2313.96 1374.52 2312.11 1376.7 Q2310.28 1378.85 2310.28 1382.58 Q2310.28 1386.33 2312.11 1388.48 Q2313.96 1390.63 2317.11 1390.63 Z\" fill=\"#000000\" fill-rule=\"evenodd\" fill-opacity=\"1\" /><path clip-path=\"url(#clip930)\" d=\"M 0 0 M2348.66 1387.37 Q2352.02 1388.09 2353.89 1390.36 Q2355.79 1392.62 2355.79 1395.96 Q2355.79 1401.07 2352.27 1403.87 Q2348.76 1406.68 2342.27 1406.68 Q2340.1 1406.68 2337.78 1406.24 Q2335.49 1405.82 2333.04 1404.96 L2333.04 1400.45 Q2334.98 1401.58 2337.3 1402.16 Q2339.61 1402.74 2342.14 1402.74 Q2346.53 1402.74 2348.82 1401 Q2351.14 1399.27 2351.14 1395.96 Q2351.14 1392.9 2348.99 1391.19 Q2346.86 1389.45 2343.04 1389.45 L2339.01 1389.45 L2339.01 1385.61 L2343.22 1385.61 Q2346.67 1385.61 2348.5 1384.25 Q2350.33 1382.86 2350.33 1380.26 Q2350.33 1377.6 2348.43 1376.19 Q2346.56 1374.75 2343.04 1374.75 Q2341.12 1374.75 2338.92 1375.17 Q2336.72 1375.59 2334.08 1376.47 L2334.08 1372.3 Q2336.74 1371.56 2339.06 1371.19 Q2341.39 1370.82 2343.45 1370.82 Q2348.78 1370.82 2351.88 1373.25 Q2354.98 1375.66 2354.98 1379.78 Q2354.98 1382.65 2353.34 1384.64 Q2351.7 1386.61 2348.66 1387.37 Z\" fill=\"#000000\" fill-rule=\"evenodd\" fill-opacity=\"1\" /><path clip-path=\"url(#clip930)\" d=\"M 0 0 M2360.91 1371.44 L2379.26 1371.44 L2379.26 1375.38 L2365.19 1375.38 L2365.19 1383.85 Q2366.21 1383.5 2367.23 1383.34 Q2368.25 1383.16 2369.26 1383.16 Q2375.05 1383.16 2378.43 1386.33 Q2381.81 1389.5 2381.81 1394.92 Q2381.81 1400.5 2378.34 1403.6 Q2374.87 1406.68 2368.55 1406.68 Q2366.37 1406.68 2364.1 1406.31 Q2361.86 1405.93 2359.45 1405.19 L2359.45 1400.5 Q2361.53 1401.63 2363.76 1402.18 Q2365.98 1402.74 2368.45 1402.74 Q2372.46 1402.74 2374.8 1400.63 Q2377.13 1398.53 2377.13 1394.92 Q2377.13 1391.31 2374.8 1389.2 Q2372.46 1387.09 2368.45 1387.09 Q2366.58 1387.09 2364.7 1387.51 Q2362.85 1387.93 2360.91 1388.81 L2360.91 1371.44 Z\" fill=\"#000000\" fill-rule=\"evenodd\" fill-opacity=\"1\" /><path clip-path=\"url(#clip930)\" d=\"M 0 0 M2280.7 1221.98 Q2277.09 1221.98 2275.26 1225.54 Q2273.45 1229.08 2273.45 1236.21 Q2273.45 1243.32 2275.26 1246.88 Q2277.09 1250.42 2280.7 1250.42 Q2284.33 1250.42 2286.14 1246.88 Q2287.97 1243.32 2287.97 1236.21 Q2287.97 1229.08 2286.14 1225.54 Q2284.33 1221.98 2280.7 1221.98 M2280.7 1218.27 Q2286.51 1218.27 2289.57 1222.88 Q2292.64 1227.46 2292.64 1236.21 Q2292.64 1244.94 2289.57 1249.54 Q2286.51 1254.13 2280.7 1254.13 Q2274.89 1254.13 2271.81 1249.54 Q2268.76 1244.94 2268.76 1236.21 Q2268.76 1227.46 2271.81 1222.88 Q2274.89 1218.27 2280.7 1218.27 Z\" fill=\"#000000\" fill-rule=\"evenodd\" fill-opacity=\"1\" /><path clip-path=\"url(#clip930)\" d=\"M 0 0 M2297.71 1247.58 L2302.6 1247.58 L2302.6 1253.46 L2297.71 1253.46 L2297.71 1247.58 Z\" fill=\"#000000\" fill-rule=\"evenodd\" fill-opacity=\"1\" /><path clip-path=\"url(#clip930)\" d=\"M 0 0 M2307.81 1252.74 L2307.81 1248.48 Q2309.57 1249.31 2311.37 1249.75 Q2313.18 1250.19 2314.91 1250.19 Q2319.54 1250.19 2321.97 1247.09 Q2324.43 1243.97 2324.77 1237.62 Q2323.43 1239.61 2321.37 1240.68 Q2319.31 1241.74 2316.81 1241.74 Q2311.63 1241.74 2308.59 1238.62 Q2305.58 1235.47 2305.58 1230.03 Q2305.58 1224.71 2308.73 1221.49 Q2311.88 1218.27 2317.11 1218.27 Q2323.11 1218.27 2326.26 1222.88 Q2329.43 1227.46 2329.43 1236.21 Q2329.43 1244.38 2325.54 1249.27 Q2321.67 1254.13 2315.12 1254.13 Q2313.36 1254.13 2311.56 1253.78 Q2309.75 1253.43 2307.81 1252.74 M2317.11 1238.09 Q2320.26 1238.09 2322.09 1235.93 Q2323.94 1233.78 2323.94 1230.03 Q2323.94 1226.3 2322.09 1224.15 Q2320.26 1221.98 2317.11 1221.98 Q2313.96 1221.98 2312.11 1224.15 Q2310.28 1226.3 2310.28 1230.03 Q2310.28 1233.78 2312.11 1235.93 Q2313.96 1238.09 2317.11 1238.09 Z\" fill=\"#000000\" fill-rule=\"evenodd\" fill-opacity=\"1\" /><path clip-path=\"url(#clip930)\" d=\"M 0 0 M2347.34 1222.97 L2335.54 1241.42 L2347.34 1241.42 L2347.34 1222.97 M2346.12 1218.9 L2352 1218.9 L2352 1241.42 L2356.93 1241.42 L2356.93 1245.31 L2352 1245.31 L2352 1253.46 L2347.34 1253.46 L2347.34 1245.31 L2331.74 1245.31 L2331.74 1240.79 L2346.12 1218.9 Z\" fill=\"#000000\" fill-rule=\"evenodd\" fill-opacity=\"1\" /><path clip-path=\"url(#clip930)\" d=\"M 0 0 M2372 1221.98 Q2368.39 1221.98 2366.56 1225.54 Q2364.75 1229.08 2364.75 1236.21 Q2364.75 1243.32 2366.56 1246.88 Q2368.39 1250.42 2372 1250.42 Q2375.63 1250.42 2377.44 1246.88 Q2379.26 1243.32 2379.26 1236.21 Q2379.26 1229.08 2377.44 1225.54 Q2375.63 1221.98 2372 1221.98 M2372 1218.27 Q2377.81 1218.27 2380.86 1222.88 Q2383.94 1227.46 2383.94 1236.21 Q2383.94 1244.94 2380.86 1249.54 Q2377.81 1254.13 2372 1254.13 Q2366.19 1254.13 2363.11 1249.54 Q2360.05 1244.94 2360.05 1236.21 Q2360.05 1227.46 2363.11 1222.88 Q2366.19 1218.27 2372 1218.27 Z\" fill=\"#000000\" fill-rule=\"evenodd\" fill-opacity=\"1\" /><path clip-path=\"url(#clip930)\" d=\"M 0 0 M2280.7 1069.43 Q2277.09 1069.43 2275.26 1072.99 Q2273.45 1076.53 2273.45 1083.66 Q2273.45 1090.77 2275.26 1094.34 Q2277.09 1097.88 2280.7 1097.88 Q2284.33 1097.88 2286.14 1094.34 Q2287.97 1090.77 2287.97 1083.66 Q2287.97 1076.53 2286.14 1072.99 Q2284.33 1069.43 2280.7 1069.43 M2280.7 1065.72 Q2286.51 1065.72 2289.57 1070.33 Q2292.64 1074.91 2292.64 1083.66 Q2292.64 1092.39 2289.57 1097 Q2286.51 1101.58 2280.7 1101.58 Q2274.89 1101.58 2271.81 1097 Q2268.76 1092.39 2268.76 1083.66 Q2268.76 1074.91 2271.81 1070.33 Q2274.89 1065.72 2280.7 1065.72 Z\" fill=\"#000000\" fill-rule=\"evenodd\" fill-opacity=\"1\" /><path clip-path=\"url(#clip930)\" d=\"M 0 0 M2297.71 1095.03 L2302.6 1095.03 L2302.6 1100.91 L2297.71 1100.91 L2297.71 1095.03 Z\" fill=\"#000000\" fill-rule=\"evenodd\" fill-opacity=\"1\" /><path clip-path=\"url(#clip930)\" d=\"M 0 0 M2307.81 1100.19 L2307.81 1095.93 Q2309.57 1096.77 2311.37 1097.21 Q2313.18 1097.65 2314.91 1097.65 Q2319.54 1097.65 2321.97 1094.54 Q2324.43 1091.42 2324.77 1085.08 Q2323.43 1087.07 2321.37 1088.13 Q2319.31 1089.2 2316.81 1089.2 Q2311.63 1089.2 2308.59 1086.07 Q2305.58 1082.92 2305.58 1077.48 Q2305.58 1072.16 2308.73 1068.94 Q2311.88 1065.72 2317.11 1065.72 Q2323.11 1065.72 2326.26 1070.33 Q2329.43 1074.91 2329.43 1083.66 Q2329.43 1091.84 2325.54 1096.72 Q2321.67 1101.58 2315.12 1101.58 Q2313.36 1101.58 2311.56 1101.23 Q2309.75 1100.89 2307.81 1100.19 M2317.11 1085.54 Q2320.26 1085.54 2322.09 1083.39 Q2323.94 1081.23 2323.94 1077.48 Q2323.94 1073.76 2322.09 1071.6 Q2320.26 1069.43 2317.11 1069.43 Q2313.96 1069.43 2312.11 1071.6 Q2310.28 1073.76 2310.28 1077.48 Q2310.28 1081.23 2312.11 1083.39 Q2313.96 1085.54 2317.11 1085.54 Z\" fill=\"#000000\" fill-rule=\"evenodd\" fill-opacity=\"1\" /><path clip-path=\"url(#clip930)\" d=\"M 0 0 M2347.34 1070.42 L2335.54 1088.87 L2347.34 1088.87 L2347.34 1070.42 M2346.12 1066.35 L2352 1066.35 L2352 1088.87 L2356.93 1088.87 L2356.93 1092.76 L2352 1092.76 L2352 1100.91 L2347.34 1100.91 L2347.34 1092.76 L2331.74 1092.76 L2331.74 1088.25 L2346.12 1066.35 Z\" fill=\"#000000\" fill-rule=\"evenodd\" fill-opacity=\"1\" /><path clip-path=\"url(#clip930)\" d=\"M 0 0 M2362.04 1066.35 L2380.4 1066.35 L2380.4 1070.28 L2366.32 1070.28 L2366.32 1078.76 Q2367.34 1078.41 2368.36 1078.25 Q2369.38 1078.06 2370.4 1078.06 Q2376.19 1078.06 2379.57 1081.23 Q2382.95 1084.4 2382.95 1089.82 Q2382.95 1095.4 2379.47 1098.5 Q2376 1101.58 2369.68 1101.58 Q2367.51 1101.58 2365.24 1101.21 Q2362.99 1100.84 2360.58 1100.1 L2360.58 1095.4 Q2362.67 1096.53 2364.89 1097.09 Q2367.11 1097.65 2369.59 1097.65 Q2373.59 1097.65 2375.93 1095.54 Q2378.27 1093.43 2378.27 1089.82 Q2378.27 1086.21 2375.93 1084.1 Q2373.59 1082 2369.59 1082 Q2367.71 1082 2365.84 1082.41 Q2363.99 1082.83 2362.04 1083.71 L2362.04 1066.35 Z\" fill=\"#000000\" fill-rule=\"evenodd\" fill-opacity=\"1\" /><path clip-path=\"url(#clip930)\" d=\"M 0 0 M2280.7 916.88 Q2277.09 916.88 2275.26 920.445 Q2273.45 923.987 2273.45 931.116 Q2273.45 938.223 2275.26 941.788 Q2277.09 945.329 2280.7 945.329 Q2284.33 945.329 2286.14 941.788 Q2287.97 938.223 2287.97 931.116 Q2287.97 923.987 2286.14 920.445 Q2284.33 916.88 2280.7 916.88 M2280.7 913.177 Q2286.51 913.177 2289.57 917.783 Q2292.64 922.366 2292.64 931.116 Q2292.64 939.843 2289.57 944.45 Q2286.51 949.033 2280.7 949.033 Q2274.89 949.033 2271.81 944.45 Q2268.76 939.843 2268.76 931.116 Q2268.76 922.366 2271.81 917.783 Q2274.89 913.177 2280.7 913.177 Z\" fill=\"#000000\" fill-rule=\"evenodd\" fill-opacity=\"1\" /><path clip-path=\"url(#clip930)\" d=\"M 0 0 M2297.71 942.482 L2302.6 942.482 L2302.6 948.362 L2297.71 948.362 L2297.71 942.482 Z\" fill=\"#000000\" fill-rule=\"evenodd\" fill-opacity=\"1\" /><path clip-path=\"url(#clip930)\" d=\"M 0 0 M2307.81 947.644 L2307.81 943.385 Q2309.57 944.218 2311.37 944.658 Q2313.18 945.098 2314.91 945.098 Q2319.54 945.098 2321.97 941.996 Q2324.43 938.871 2324.77 932.528 Q2323.43 934.519 2321.37 935.584 Q2319.31 936.649 2316.81 936.649 Q2311.63 936.649 2308.59 933.524 Q2305.58 930.376 2305.58 924.936 Q2305.58 919.612 2308.73 916.394 Q2311.88 913.177 2317.11 913.177 Q2323.11 913.177 2326.26 917.783 Q2329.43 922.366 2329.43 931.116 Q2329.43 939.288 2325.54 944.172 Q2321.67 949.033 2315.12 949.033 Q2313.36 949.033 2311.56 948.686 Q2309.75 948.339 2307.81 947.644 M2317.11 932.991 Q2320.26 932.991 2322.09 930.839 Q2323.94 928.686 2323.94 924.936 Q2323.94 921.209 2322.09 919.056 Q2320.26 916.88 2317.11 916.88 Q2313.96 916.88 2312.11 919.056 Q2310.28 921.209 2310.28 924.936 Q2310.28 928.686 2312.11 930.839 Q2313.96 932.991 2317.11 932.991 Z\" fill=\"#000000\" fill-rule=\"evenodd\" fill-opacity=\"1\" /><path clip-path=\"url(#clip930)\" d=\"M 0 0 M2334.54 913.802 L2352.9 913.802 L2352.9 917.737 L2338.82 917.737 L2338.82 926.209 Q2339.84 925.862 2340.86 925.7 Q2341.88 925.515 2342.9 925.515 Q2348.69 925.515 2352.07 928.686 Q2355.45 931.857 2355.45 937.274 Q2355.45 942.852 2351.97 945.954 Q2348.5 949.033 2342.18 949.033 Q2340.01 949.033 2337.74 948.663 Q2335.49 948.292 2333.08 947.551 L2333.08 942.852 Q2335.17 943.987 2337.39 944.542 Q2339.61 945.098 2342.09 945.098 Q2346.09 945.098 2348.43 942.991 Q2350.77 940.885 2350.77 937.274 Q2350.77 933.663 2348.43 931.556 Q2346.09 929.45 2342.09 929.45 Q2340.21 929.45 2338.34 929.866 Q2336.49 930.283 2334.54 931.163 L2334.54 913.802 Z\" fill=\"#000000\" fill-rule=\"evenodd\" fill-opacity=\"1\" /><path clip-path=\"url(#clip930)\" d=\"M 0 0 M2370.51 916.88 Q2366.9 916.88 2365.07 920.445 Q2363.27 923.987 2363.27 931.116 Q2363.27 938.223 2365.07 941.788 Q2366.9 945.329 2370.51 945.329 Q2374.15 945.329 2375.95 941.788 Q2377.78 938.223 2377.78 931.116 Q2377.78 923.987 2375.95 920.445 Q2374.15 916.88 2370.51 916.88 M2370.51 913.177 Q2376.32 913.177 2379.38 917.783 Q2382.46 922.366 2382.46 931.116 Q2382.46 939.843 2379.38 944.45 Q2376.32 949.033 2370.51 949.033 Q2364.7 949.033 2361.63 944.45 Q2358.57 939.843 2358.57 931.116 Q2358.57 922.366 2361.63 917.783 Q2364.7 913.177 2370.51 913.177 Z\" fill=\"#000000\" fill-rule=\"evenodd\" fill-opacity=\"1\" /><path clip-path=\"url(#clip930)\" d=\"M 0 0 M2280.7 764.333 Q2277.09 764.333 2275.26 767.898 Q2273.45 771.439 2273.45 778.569 Q2273.45 785.675 2275.26 789.24 Q2277.09 792.782 2280.7 792.782 Q2284.33 792.782 2286.14 789.24 Q2287.97 785.675 2287.97 778.569 Q2287.97 771.439 2286.14 767.898 Q2284.33 764.333 2280.7 764.333 M2280.7 760.629 Q2286.51 760.629 2289.57 765.236 Q2292.64 769.819 2292.64 778.569 Q2292.64 787.296 2289.57 791.902 Q2286.51 796.485 2280.7 796.485 Q2274.89 796.485 2271.81 791.902 Q2268.76 787.296 2268.76 778.569 Q2268.76 769.819 2271.81 765.236 Q2274.89 760.629 2280.7 760.629 Z\" fill=\"#000000\" fill-rule=\"evenodd\" fill-opacity=\"1\" /><path clip-path=\"url(#clip930)\" d=\"M 0 0 M2297.71 789.934 L2302.6 789.934 L2302.6 795.814 L2297.71 795.814 L2297.71 789.934 Z\" fill=\"#000000\" fill-rule=\"evenodd\" fill-opacity=\"1\" /><path clip-path=\"url(#clip930)\" d=\"M 0 0 M2307.81 795.096 L2307.81 790.837 Q2309.57 791.671 2311.37 792.11 Q2313.18 792.55 2314.91 792.55 Q2319.54 792.55 2321.97 789.448 Q2324.43 786.323 2324.77 779.981 Q2323.43 781.972 2321.37 783.036 Q2319.31 784.101 2316.81 784.101 Q2311.63 784.101 2308.59 780.976 Q2305.58 777.828 2305.58 772.388 Q2305.58 767.064 2308.73 763.847 Q2311.88 760.629 2317.11 760.629 Q2323.11 760.629 2326.26 765.236 Q2329.43 769.819 2329.43 778.569 Q2329.43 786.74 2325.54 791.624 Q2321.67 796.485 2315.12 796.485 Q2313.36 796.485 2311.56 796.138 Q2309.75 795.791 2307.81 795.096 M2317.11 780.444 Q2320.26 780.444 2322.09 778.291 Q2323.94 776.138 2323.94 772.388 Q2323.94 768.661 2322.09 766.509 Q2320.26 764.333 2317.11 764.333 Q2313.96 764.333 2312.11 766.509 Q2310.28 768.661 2310.28 772.388 Q2310.28 776.138 2312.11 778.291 Q2313.96 780.444 2317.11 780.444 Z\" fill=\"#000000\" fill-rule=\"evenodd\" fill-opacity=\"1\" /><path clip-path=\"url(#clip930)\" d=\"M 0 0 M2334.54 761.254 L2352.9 761.254 L2352.9 765.189 L2338.82 765.189 L2338.82 773.661 Q2339.84 773.314 2340.86 773.152 Q2341.88 772.967 2342.9 772.967 Q2348.69 772.967 2352.07 776.138 Q2355.45 779.31 2355.45 784.726 Q2355.45 790.305 2351.97 793.407 Q2348.5 796.485 2342.18 796.485 Q2340.01 796.485 2337.74 796.115 Q2335.49 795.745 2333.08 795.004 L2333.08 790.305 Q2335.17 791.439 2337.39 791.995 Q2339.61 792.55 2342.09 792.55 Q2346.09 792.55 2348.43 790.444 Q2350.77 788.337 2350.77 784.726 Q2350.77 781.115 2348.43 779.009 Q2346.09 776.902 2342.09 776.902 Q2340.21 776.902 2338.34 777.319 Q2336.49 777.735 2334.54 778.615 L2334.54 761.254 Z\" fill=\"#000000\" fill-rule=\"evenodd\" fill-opacity=\"1\" /><path clip-path=\"url(#clip930)\" d=\"M 0 0 M2360.56 761.254 L2378.92 761.254 L2378.92 765.189 L2364.84 765.189 L2364.84 773.661 Q2365.86 773.314 2366.88 773.152 Q2367.9 772.967 2368.92 772.967 Q2374.7 772.967 2378.08 776.138 Q2381.46 779.31 2381.46 784.726 Q2381.46 790.305 2377.99 793.407 Q2374.52 796.485 2368.2 796.485 Q2366.02 796.485 2363.76 796.115 Q2361.51 795.745 2359.1 795.004 L2359.1 790.305 Q2361.19 791.439 2363.41 791.995 Q2365.63 792.55 2368.11 792.55 Q2372.11 792.55 2374.45 790.444 Q2376.79 788.337 2376.79 784.726 Q2376.79 781.115 2374.45 779.009 Q2372.11 776.902 2368.11 776.902 Q2366.23 776.902 2364.36 777.319 Q2362.51 777.735 2360.56 778.615 L2360.56 761.254 Z\" fill=\"#000000\" fill-rule=\"evenodd\" fill-opacity=\"1\" /><path clip-path=\"url(#clip930)\" d=\"M 0 0 M2280.7 611.785 Q2277.09 611.785 2275.26 615.35 Q2273.45 618.892 2273.45 626.021 Q2273.45 633.128 2275.26 636.692 Q2277.09 640.234 2280.7 640.234 Q2284.33 640.234 2286.14 636.692 Q2287.97 633.128 2287.97 626.021 Q2287.97 618.892 2286.14 615.35 Q2284.33 611.785 2280.7 611.785 M2280.7 608.082 Q2286.51 608.082 2289.57 612.688 Q2292.64 617.271 2292.64 626.021 Q2292.64 634.748 2289.57 639.354 Q2286.51 643.938 2280.7 643.938 Q2274.89 643.938 2271.81 639.354 Q2268.76 634.748 2268.76 626.021 Q2268.76 617.271 2271.81 612.688 Q2274.89 608.082 2280.7 608.082 Z\" fill=\"#000000\" fill-rule=\"evenodd\" fill-opacity=\"1\" /><path clip-path=\"url(#clip930)\" d=\"M 0 0 M2297.71 637.387 L2302.6 637.387 L2302.6 643.267 L2297.71 643.267 L2297.71 637.387 Z\" fill=\"#000000\" fill-rule=\"evenodd\" fill-opacity=\"1\" /><path clip-path=\"url(#clip930)\" d=\"M 0 0 M2307.81 642.549 L2307.81 638.29 Q2309.57 639.123 2311.37 639.563 Q2313.18 640.003 2314.91 640.003 Q2319.54 640.003 2321.97 636.901 Q2324.43 633.776 2324.77 627.433 Q2323.43 629.424 2321.37 630.489 Q2319.31 631.554 2316.81 631.554 Q2311.63 631.554 2308.59 628.429 Q2305.58 625.28 2305.58 619.841 Q2305.58 614.517 2308.73 611.299 Q2311.88 608.082 2317.11 608.082 Q2323.11 608.082 2326.26 612.688 Q2329.43 617.271 2329.43 626.021 Q2329.43 634.192 2325.54 639.077 Q2321.67 643.938 2315.12 643.938 Q2313.36 643.938 2311.56 643.591 Q2309.75 643.243 2307.81 642.549 M2317.11 627.896 Q2320.26 627.896 2322.09 625.743 Q2323.94 623.591 2323.94 619.841 Q2323.94 616.114 2322.09 613.961 Q2320.26 611.785 2317.11 611.785 Q2313.96 611.785 2312.11 613.961 Q2310.28 616.114 2310.28 619.841 Q2310.28 623.591 2312.11 625.743 Q2313.96 627.896 2317.11 627.896 Z\" fill=\"#000000\" fill-rule=\"evenodd\" fill-opacity=\"1\" /><path clip-path=\"url(#clip930)\" d=\"M 0 0 M2345.07 624.123 Q2341.93 624.123 2340.07 626.276 Q2338.25 628.429 2338.25 632.179 Q2338.25 635.905 2340.07 638.081 Q2341.93 640.234 2345.07 640.234 Q2348.22 640.234 2350.05 638.081 Q2351.9 635.905 2351.9 632.179 Q2351.9 628.429 2350.05 626.276 Q2348.22 624.123 2345.07 624.123 M2354.36 609.47 L2354.36 613.73 Q2352.6 612.896 2350.79 612.456 Q2349.01 612.017 2347.25 612.017 Q2342.62 612.017 2340.17 615.142 Q2337.74 618.267 2337.39 624.586 Q2338.76 622.572 2340.82 621.507 Q2342.88 620.419 2345.35 620.419 Q2350.56 620.419 2353.57 623.591 Q2356.6 626.739 2356.6 632.179 Q2356.6 637.503 2353.45 640.72 Q2350.31 643.938 2345.07 643.938 Q2339.08 643.938 2335.91 639.354 Q2332.74 634.748 2332.74 626.021 Q2332.74 617.827 2336.63 612.966 Q2340.51 608.082 2347.07 608.082 Q2348.82 608.082 2350.61 608.429 Q2352.41 608.776 2354.36 609.47 Z\" fill=\"#000000\" fill-rule=\"evenodd\" fill-opacity=\"1\" /><path clip-path=\"url(#clip930)\" d=\"M 0 0 M2371.67 611.785 Q2368.06 611.785 2366.23 615.35 Q2364.43 618.892 2364.43 626.021 Q2364.43 633.128 2366.23 636.692 Q2368.06 640.234 2371.67 640.234 Q2375.31 640.234 2377.11 636.692 Q2378.94 633.128 2378.94 626.021 Q2378.94 618.892 2377.11 615.35 Q2375.31 611.785 2371.67 611.785 M2371.67 608.082 Q2377.48 608.082 2380.54 612.688 Q2383.62 617.271 2383.62 626.021 Q2383.62 634.748 2380.54 639.354 Q2377.48 643.938 2371.67 643.938 Q2365.86 643.938 2362.78 639.354 Q2359.73 634.748 2359.73 626.021 Q2359.73 617.271 2362.78 612.688 Q2365.86 608.082 2371.67 608.082 Z\" fill=\"#000000\" fill-rule=\"evenodd\" fill-opacity=\"1\" /><path clip-path=\"url(#clip930)\" d=\"M 0 0 M2280.7 459.238 Q2277.09 459.238 2275.26 462.802 Q2273.45 466.344 2273.45 473.474 Q2273.45 480.58 2275.26 484.145 Q2277.09 487.687 2280.7 487.687 Q2284.33 487.687 2286.14 484.145 Q2287.97 480.58 2287.97 473.474 Q2287.97 466.344 2286.14 462.802 Q2284.33 459.238 2280.7 459.238 M2280.7 455.534 Q2286.51 455.534 2289.57 460.14 Q2292.64 464.724 2292.64 473.474 Q2292.64 482.2 2289.57 486.807 Q2286.51 491.39 2280.7 491.39 Q2274.89 491.39 2271.81 486.807 Q2268.76 482.2 2268.76 473.474 Q2268.76 464.724 2271.81 460.14 Q2274.89 455.534 2280.7 455.534 Z\" fill=\"#000000\" fill-rule=\"evenodd\" fill-opacity=\"1\" /><path clip-path=\"url(#clip930)\" d=\"M 0 0 M2297.71 484.839 L2302.6 484.839 L2302.6 490.719 L2297.71 490.719 L2297.71 484.839 Z\" fill=\"#000000\" fill-rule=\"evenodd\" fill-opacity=\"1\" /><path clip-path=\"url(#clip930)\" d=\"M 0 0 M2307.81 490.001 L2307.81 485.742 Q2309.57 486.575 2311.37 487.015 Q2313.18 487.455 2314.91 487.455 Q2319.54 487.455 2321.97 484.353 Q2324.43 481.228 2324.77 474.886 Q2323.43 476.876 2321.37 477.941 Q2319.31 479.006 2316.81 479.006 Q2311.63 479.006 2308.59 475.881 Q2305.58 472.733 2305.58 467.293 Q2305.58 461.969 2308.73 458.752 Q2311.88 455.534 2317.11 455.534 Q2323.11 455.534 2326.26 460.14 Q2329.43 464.724 2329.43 473.474 Q2329.43 481.645 2325.54 486.529 Q2321.67 491.39 2315.12 491.39 Q2313.36 491.39 2311.56 491.043 Q2309.75 490.696 2307.81 490.001 M2317.11 475.349 Q2320.26 475.349 2322.09 473.196 Q2323.94 471.043 2323.94 467.293 Q2323.94 463.566 2322.09 461.414 Q2320.26 459.238 2317.11 459.238 Q2313.96 459.238 2312.11 461.414 Q2310.28 463.566 2310.28 467.293 Q2310.28 471.043 2312.11 473.196 Q2313.96 475.349 2317.11 475.349 Z\" fill=\"#000000\" fill-rule=\"evenodd\" fill-opacity=\"1\" /><path clip-path=\"url(#clip930)\" d=\"M 0 0 M2345.07 471.576 Q2341.93 471.576 2340.07 473.728 Q2338.25 475.881 2338.25 479.631 Q2338.25 483.358 2340.07 485.534 Q2341.93 487.687 2345.07 487.687 Q2348.22 487.687 2350.05 485.534 Q2351.9 483.358 2351.9 479.631 Q2351.9 475.881 2350.05 473.728 Q2348.22 471.576 2345.07 471.576 M2354.36 456.923 L2354.36 461.182 Q2352.6 460.349 2350.79 459.909 Q2349.01 459.469 2347.25 459.469 Q2342.62 459.469 2340.17 462.594 Q2337.74 465.719 2337.39 472.038 Q2338.76 470.025 2340.82 468.96 Q2342.88 467.872 2345.35 467.872 Q2350.56 467.872 2353.57 471.043 Q2356.6 474.191 2356.6 479.631 Q2356.6 484.955 2353.45 488.173 Q2350.31 491.39 2345.07 491.39 Q2339.08 491.39 2335.91 486.807 Q2332.74 482.2 2332.74 473.474 Q2332.74 465.279 2336.63 460.418 Q2340.51 455.534 2347.07 455.534 Q2348.82 455.534 2350.61 455.881 Q2352.41 456.228 2354.36 456.923 Z\" fill=\"#000000\" fill-rule=\"evenodd\" fill-opacity=\"1\" /><path clip-path=\"url(#clip930)\" d=\"M 0 0 M2361.72 456.159 L2380.07 456.159 L2380.07 460.094 L2366 460.094 L2366 468.566 Q2367.02 468.219 2368.04 468.057 Q2369.06 467.872 2370.07 467.872 Q2375.86 467.872 2379.24 471.043 Q2382.62 474.214 2382.62 479.631 Q2382.62 485.21 2379.15 488.312 Q2375.68 491.39 2369.36 491.39 Q2367.18 491.39 2364.91 491.02 Q2362.67 490.649 2360.26 489.909 L2360.26 485.21 Q2362.34 486.344 2364.57 486.9 Q2366.79 487.455 2369.26 487.455 Q2373.27 487.455 2375.61 485.349 Q2377.95 483.242 2377.95 479.631 Q2377.95 476.02 2375.61 473.913 Q2373.27 471.807 2369.26 471.807 Q2367.39 471.807 2365.51 472.224 Q2363.66 472.64 2361.72 473.52 L2361.72 456.159 Z\" fill=\"#000000\" fill-rule=\"evenodd\" fill-opacity=\"1\" /><path clip-path=\"url(#clip930)\" d=\"M 0 0 M2280.7 306.69 Q2277.09 306.69 2275.26 310.255 Q2273.45 313.796 2273.45 320.926 Q2273.45 328.033 2275.26 331.597 Q2277.09 335.139 2280.7 335.139 Q2284.33 335.139 2286.14 331.597 Q2287.97 328.033 2287.97 320.926 Q2287.97 313.796 2286.14 310.255 Q2284.33 306.69 2280.7 306.69 M2280.7 302.986 Q2286.51 302.986 2289.57 307.593 Q2292.64 312.176 2292.64 320.926 Q2292.64 329.653 2289.57 334.259 Q2286.51 338.843 2280.7 338.843 Q2274.89 338.843 2271.81 334.259 Q2268.76 329.653 2268.76 320.926 Q2268.76 312.176 2271.81 307.593 Q2274.89 302.986 2280.7 302.986 Z\" fill=\"#000000\" fill-rule=\"evenodd\" fill-opacity=\"1\" /><path clip-path=\"url(#clip930)\" d=\"M 0 0 M2297.71 332.292 L2302.6 332.292 L2302.6 338.171 L2297.71 338.171 L2297.71 332.292 Z\" fill=\"#000000\" fill-rule=\"evenodd\" fill-opacity=\"1\" /><path clip-path=\"url(#clip930)\" d=\"M 0 0 M2307.81 337.454 L2307.81 333.195 Q2309.57 334.028 2311.37 334.468 Q2313.18 334.907 2314.91 334.907 Q2319.54 334.907 2321.97 331.806 Q2324.43 328.681 2324.77 322.338 Q2323.43 324.329 2321.37 325.394 Q2319.31 326.458 2316.81 326.458 Q2311.63 326.458 2308.59 323.333 Q2305.58 320.185 2305.58 314.746 Q2305.58 309.422 2308.73 306.204 Q2311.88 302.986 2317.11 302.986 Q2323.11 302.986 2326.26 307.593 Q2329.43 312.176 2329.43 320.926 Q2329.43 329.097 2325.54 333.982 Q2321.67 338.843 2315.12 338.843 Q2313.36 338.843 2311.56 338.495 Q2309.75 338.148 2307.81 337.454 M2317.11 322.801 Q2320.26 322.801 2322.09 320.648 Q2323.94 318.496 2323.94 314.746 Q2323.94 311.019 2322.09 308.866 Q2320.26 306.69 2317.11 306.69 Q2313.96 306.69 2312.11 308.866 Q2310.28 311.019 2310.28 314.746 Q2310.28 318.496 2312.11 320.648 Q2313.96 322.801 2317.11 322.801 Z\" fill=\"#000000\" fill-rule=\"evenodd\" fill-opacity=\"1\" /><path clip-path=\"url(#clip930)\" d=\"M 0 0 M2333.32 303.611 L2355.54 303.611 L2355.54 305.602 L2342.99 338.171 L2338.11 338.171 L2349.91 307.547 L2333.32 307.547 L2333.32 303.611 Z\" fill=\"#000000\" fill-rule=\"evenodd\" fill-opacity=\"1\" /><path clip-path=\"url(#clip930)\" d=\"M 0 0 M2370.61 306.69 Q2367 306.69 2365.17 310.255 Q2363.36 313.796 2363.36 320.926 Q2363.36 328.033 2365.17 331.597 Q2367 335.139 2370.61 335.139 Q2374.24 335.139 2376.05 331.597 Q2377.88 328.033 2377.88 320.926 Q2377.88 313.796 2376.05 310.255 Q2374.24 306.69 2370.61 306.69 M2370.61 302.986 Q2376.42 302.986 2379.47 307.593 Q2382.55 312.176 2382.55 320.926 Q2382.55 329.653 2379.47 334.259 Q2376.42 338.843 2370.61 338.843 Q2364.8 338.843 2361.72 334.259 Q2358.66 329.653 2358.66 320.926 Q2358.66 312.176 2361.72 307.593 Q2364.8 302.986 2370.61 302.986 Z\" fill=\"#000000\" fill-rule=\"evenodd\" fill-opacity=\"1\" /><path clip-path=\"url(#clip930)\" d=\"M 0 0 M2280.7 154.142 Q2277.09 154.142 2275.26 157.707 Q2273.45 161.249 2273.45 168.378 Q2273.45 175.485 2275.26 179.05 Q2277.09 182.591 2280.7 182.591 Q2284.33 182.591 2286.14 179.05 Q2287.97 175.485 2287.97 168.378 Q2287.97 161.249 2286.14 157.707 Q2284.33 154.142 2280.7 154.142 M2280.7 150.439 Q2286.51 150.439 2289.57 155.045 Q2292.64 159.629 2292.64 168.378 Q2292.64 177.105 2289.57 181.712 Q2286.51 186.295 2280.7 186.295 Q2274.89 186.295 2271.81 181.712 Q2268.76 177.105 2268.76 168.378 Q2268.76 159.629 2271.81 155.045 Q2274.89 150.439 2280.7 150.439 Z\" fill=\"#000000\" fill-rule=\"evenodd\" fill-opacity=\"1\" /><path clip-path=\"url(#clip930)\" d=\"M 0 0 M2297.71 179.744 L2302.6 179.744 L2302.6 185.624 L2297.71 185.624 L2297.71 179.744 Z\" fill=\"#000000\" fill-rule=\"evenodd\" fill-opacity=\"1\" /><path clip-path=\"url(#clip930)\" d=\"M 0 0 M2307.81 184.906 L2307.81 180.647 Q2309.57 181.48 2311.37 181.92 Q2313.18 182.36 2314.91 182.36 Q2319.54 182.36 2321.97 179.258 Q2324.43 176.133 2324.77 169.791 Q2323.43 171.781 2321.37 172.846 Q2319.31 173.911 2316.81 173.911 Q2311.63 173.911 2308.59 170.786 Q2305.58 167.638 2305.58 162.198 Q2305.58 156.874 2308.73 153.656 Q2311.88 150.439 2317.11 150.439 Q2323.11 150.439 2326.26 155.045 Q2329.43 159.629 2329.43 168.378 Q2329.43 176.55 2325.54 181.434 Q2321.67 186.295 2315.12 186.295 Q2313.36 186.295 2311.56 185.948 Q2309.75 185.601 2307.81 184.906 M2317.11 170.253 Q2320.26 170.253 2322.09 168.101 Q2323.94 165.948 2323.94 162.198 Q2323.94 158.471 2322.09 156.318 Q2320.26 154.142 2317.11 154.142 Q2313.96 154.142 2312.11 156.318 Q2310.28 158.471 2310.28 162.198 Q2310.28 165.948 2312.11 168.101 Q2313.96 170.253 2317.11 170.253 Z\" fill=\"#000000\" fill-rule=\"evenodd\" fill-opacity=\"1\" /><path clip-path=\"url(#clip930)\" d=\"M 0 0 M2333.32 151.064 L2355.54 151.064 L2355.54 153.055 L2342.99 185.624 L2338.11 185.624 L2349.91 154.999 L2333.32 154.999 L2333.32 151.064 Z\" fill=\"#000000\" fill-rule=\"evenodd\" fill-opacity=\"1\" /><path clip-path=\"url(#clip930)\" d=\"M 0 0 M2360.65 151.064 L2379.01 151.064 L2379.01 154.999 L2364.94 154.999 L2364.94 163.471 Q2365.95 163.124 2366.97 162.962 Q2367.99 162.777 2369.01 162.777 Q2374.8 162.777 2378.18 165.948 Q2381.56 169.119 2381.56 174.536 Q2381.56 180.115 2378.08 183.216 Q2374.61 186.295 2368.29 186.295 Q2366.12 186.295 2363.85 185.925 Q2361.6 185.554 2359.2 184.814 L2359.2 180.115 Q2361.28 181.249 2363.5 181.804 Q2365.72 182.36 2368.2 182.36 Q2372.2 182.36 2374.54 180.253 Q2376.88 178.147 2376.88 174.536 Q2376.88 170.925 2374.54 168.818 Q2372.2 166.712 2368.2 166.712 Q2366.32 166.712 2364.45 167.129 Q2362.6 167.545 2360.65 168.425 L2360.65 151.064 Z\" fill=\"#000000\" fill-rule=\"evenodd\" fill-opacity=\"1\" /><polyline clip-path=\"url(#clip930)\" style=\"stroke:#000000; stroke-width:4; stroke-opacity:1; fill:none\" points=\"\n",
       "  2232.76,1410.9 2232.76,1392.35 2256.76,1392.35 2232.76,1392.35 2232.76,1239.81 2256.76,1239.81 2232.76,1239.81 2232.76,1087.26 2256.76,1087.26 2232.76,1087.26 \n",
       "  2232.76,934.71 2256.76,934.71 2232.76,934.71 2232.76,782.163 2256.76,782.163 2232.76,782.163 2232.76,629.615 2256.76,629.615 2232.76,629.615 2232.76,477.068 \n",
       "  2256.76,477.068 2232.76,477.068 2232.76,324.52 2256.76,324.52 2232.76,324.52 2232.76,171.973 2256.76,171.973 2232.76,171.973 2232.76,47.2441 \n",
       "  \"/>\n",
       "</svg>\n"
      ]
     },
     "execution_count": 79,
     "metadata": {},
     "output_type": "execute_result"
    }
   ],
   "source": [
    "plot(self_tuning_svm_mach)"
   ]
  },
  {
   "cell_type": "code",
   "execution_count": 80,
   "metadata": {},
   "outputs": [
    {
     "data": {
      "text/plain": [
       "(best_model = \u001b[34mSVMClassifier @952\u001b[39m,\n",
       " best_fitted_params = (support = Int32[50, 90, 159, 180, 198, 199, 243, 291, 310, 338  …  12191, 12250, 12272, 12287, 12314, 12372, 12373, 12396, 12410, 12413],\n",
       "                       support_vectors = [-0.3985913107550849 -0.6689749128132756 … 0.2720794876818213 -0.030910973202165865; -1.0019368160046256 -1.8088140694013153 … -0.717613245749487 -0.7588018088085917; … ; -0.28573092807443273 -1.496253594395517 … 0.2718064697893361 0.19462909310803164; -0.21465938979175175 -0.69341631302427 … 0.40396710336085484 0.020391702831315292],\n",
       "                       n_support = Int32[335, 330],\n",
       "                       dual_coef = [-125.99210498948727 -125.99210498948727 … 125.99210498948727 125.99210498948727],\n",
       "                       coef = nothing,\n",
       "                       intercept = [-9.297954213582484],\n",
       "                       fit_status = 0,\n",
       "                       classes = UInt32[0x00000001, 0x00000002],),)"
      ]
     },
     "execution_count": 80,
     "metadata": {},
     "output_type": "execute_result"
    }
   ],
   "source": [
    "best_rbf = fitted_params(self_tuning_svm_mach)\n",
    "best_rbf"
   ]
  },
  {
   "cell_type": "code",
   "execution_count": 81,
   "metadata": {},
   "outputs": [
    {
     "data": {
      "text/plain": [
       "SVMClassifier(\n",
       "    C = 125.99210498948727,\n",
       "    kernel = \"rbf\",\n",
       "    degree = 3,\n",
       "    gamma = 0.004641588833612777,\n",
       "    coef0 = 0.0,\n",
       "    shrinking = true,\n",
       "    tol = 0.001,\n",
       "    cache_size = 1000,\n",
       "    max_iter = -1,\n",
       "    decision_function_shape = \"ovr\",\n",
       "    random_state = nothing)\u001b[34m @952\u001b[39m"
      ]
     },
     "execution_count": 81,
     "metadata": {},
     "output_type": "execute_result"
    }
   ],
   "source": [
    "best_rbf.best_model"
   ]
  },
  {
   "cell_type": "code",
   "execution_count": 82,
   "metadata": {},
   "outputs": [
    {
     "data": {
      "text/plain": [
       "0.97909"
      ]
     },
     "execution_count": 82,
     "metadata": {},
     "output_type": "execute_result"
    }
   ],
   "source": [
    "best_loss = round(z.report.best_result.measurement[1],digits=5)"
   ]
  },
  {
   "cell_type": "code",
   "execution_count": 34,
   "metadata": {},
   "outputs": [],
   "source": [
    "fn = \"Figures/LearningCurve_SVM_RBF_loss:$(best_loss)\"\n",
    "png(replace(fn,'.' => ','))"
   ]
  },
  {
   "cell_type": "markdown",
   "metadata": {},
   "source": [
    "##### More fitting"
   ]
  },
  {
   "cell_type": "code",
   "execution_count": 35,
   "metadata": {
    "scrolled": true
   },
   "outputs": [
    {
     "name": "stderr",
     "output_type": "stream",
     "text": [
      "┌ Info: Training \u001b[34mMachine{SVMClassifier} @258\u001b[39m.\n",
      "└ @ MLJBase /home/andrew/.julia/packages/MLJBase/uKzAz/src/machines.jl:319\n",
      "\u001b[33mEvaluating over 6 folds: 100%[=========================] Time: 0:07:07\u001b[39m\n"
     ]
    },
    {
     "data": {
      "text/plain": [
       "┌\u001b[0m───────────\u001b[0m┬\u001b[0m───────────────\u001b[0m┬\u001b[0m────────────────────────────────────────────\u001b[0m┐\u001b[0m\n",
       "│\u001b[0m\u001b[22m _.measure \u001b[0m│\u001b[0m\u001b[22m _.measurement \u001b[0m│\u001b[0m\u001b[22m _.per_fold                                 \u001b[0m│\u001b[0m\n",
       "├\u001b[0m───────────\u001b[0m┼\u001b[0m───────────────\u001b[0m┼\u001b[0m────────────────────────────────────────────\u001b[0m┤\u001b[0m\n",
       "│\u001b[0m accuracy  \u001b[0m│\u001b[0m 0.979         \u001b[0m│\u001b[0m [0.976, 0.976, 0.983, 0.979, 0.979, 0.984] \u001b[0m│\u001b[0m\n",
       "└\u001b[0m───────────\u001b[0m┴\u001b[0m───────────────\u001b[0m┴\u001b[0m────────────────────────────────────────────\u001b[0m┘\u001b[0m\n",
       "_.per_observation = [missing]\n",
       "_.fitted_params_per_fold = [ … ]\n",
       "_.report_per_fold = [ … ]\n"
      ]
     },
     "execution_count": 35,
     "metadata": {},
     "output_type": "execute_result"
    }
   ],
   "source": [
    "best_linear_model = SVMClassifier(kernel=\"linear\", C = best_C)\n",
    "svm_mach = machine(best_linear_model, X, y)\n",
    "lf = fit!(svm_mach, rows=train, verbosity=2)\n",
    "svm_acc = evaluate!(svm_mach, resampling=CV(shuffle=true), measure=[accuracy], \n",
    "                        verbosity=1)"
   ]
  },
  {
   "cell_type": "code",
   "execution_count": 36,
   "metadata": {},
   "outputs": [
    {
     "name": "stderr",
     "output_type": "stream",
     "text": [
      "┌ Info: Training \u001b[34mMachine{SVMClassifier} @787\u001b[39m.\n",
      "└ @ MLJBase /home/andrew/.julia/packages/MLJBase/uKzAz/src/machines.jl:319\n",
      "\u001b[33mEvaluating over 6 folds: 100%[=========================] Time: 0:01:56\u001b[39m\n"
     ]
    },
    {
     "data": {
      "text/plain": [
       "┌\u001b[0m───────────\u001b[0m┬\u001b[0m───────────────\u001b[0m┬\u001b[0m────────────────────────────────────────────\u001b[0m┐\u001b[0m\n",
       "│\u001b[0m\u001b[22m _.measure \u001b[0m│\u001b[0m\u001b[22m _.measurement \u001b[0m│\u001b[0m\u001b[22m _.per_fold                                 \u001b[0m│\u001b[0m\n",
       "├\u001b[0m───────────\u001b[0m┼\u001b[0m───────────────\u001b[0m┼\u001b[0m────────────────────────────────────────────\u001b[0m┤\u001b[0m\n",
       "│\u001b[0m accuracy  \u001b[0m│\u001b[0m 0.916         \u001b[0m│\u001b[0m [0.916, 0.908, 0.912, 0.917, 0.922, 0.922] \u001b[0m│\u001b[0m\n",
       "└\u001b[0m───────────\u001b[0m┴\u001b[0m───────────────\u001b[0m┴\u001b[0m────────────────────────────────────────────\u001b[0m┘\u001b[0m\n",
       "_.per_observation = [missing]\n",
       "_.fitted_params_per_fold = [ … ]\n",
       "_.report_per_fold = [ … ]\n"
      ]
     },
     "execution_count": 36,
     "metadata": {},
     "output_type": "execute_result"
    }
   ],
   "source": [
    "best_rbf_model = SVMClassifier(kernel=\"rbf\", C=best_rbf.best_model.C, gamma=best_rbf.best_model.gamma)\n",
    "svm_mach = machine(best_rbf_model, X, y)\n",
    "fit!(svm_mach, rows=train, verbosity=2)\n",
    "svm_acc = evaluate!(svm_mach, resampling=CV(shuffle=true), measure=[accuracy], \n",
    "                        verbosity=1)"
   ]
  },
  {
   "cell_type": "markdown",
   "metadata": {},
   "source": [
    "### Learning Curves"
   ]
  },
  {
   "cell_type": "code",
   "execution_count": 59,
   "metadata": {
    "scrolled": true
   },
   "outputs": [
    {
     "name": "stdout",
     "output_type": "stream",
     "text": [
      "(d, train_metric, valid_metric) = (10, 1.0, 0.8036711891460495)\n",
      "(d, train_metric, valid_metric) = (210, 0.9952380952380953, 0.9780526735833999)\n",
      "(d, train_metric, valid_metric) = (410, 0.9829268292682927, 0.9848363926576217)\n",
      "(d, train_metric, valid_metric) = (610, 0.9819672131147541, 0.9836392657621708)\n",
      "(d, train_metric, valid_metric) = (810, 0.9827160493827161, 0.9852354349561053)\n",
      "(d, train_metric, valid_metric) = (1010, 0.9831683168316832, 0.985634477254589)\n",
      "(d, train_metric, valid_metric) = (1210, 0.9826446280991735, 0.985634477254589)\n",
      "(d, train_metric, valid_metric) = (1410, 0.9815602836879432, 0.9848363926576217)\n",
      "(d, train_metric, valid_metric) = (1610, 0.9826086956521739, 0.9840383080606544)\n",
      "(d, train_metric, valid_metric) = (1810, 0.9806629834254144, 0.9840383080606544)\n",
      "(d, train_metric, valid_metric) = (2010, 0.9805970149253731, 0.985634477254589)\n",
      "(d, train_metric, valid_metric) = (2210, 0.9800904977375565, 0.9852354349561053)\n",
      "(d, train_metric, valid_metric) = (2410, 0.9804979253112033, 0.9852354349561053)\n",
      "(d, train_metric, valid_metric) = (2610, 0.9789272030651341, 0.9840383080606544)\n",
      "(d, train_metric, valid_metric) = (2810, 0.9804270462633452, 0.9848363926576217)\n",
      "(d, train_metric, valid_metric) = (3010, 0.9800664451827242, 0.984437350359138)\n",
      "(d, train_metric, valid_metric) = (3210, 0.9791277258566978, 0.9848363926576217)\n",
      "(d, train_metric, valid_metric) = (3410, 0.9806451612903225, 0.9840383080606544)\n",
      "(d, train_metric, valid_metric) = (3610, 0.9800554016620499, 0.984437350359138)\n",
      "(d, train_metric, valid_metric) = (3810, 0.9792650918635171, 0.9852354349561053)\n",
      "(d, train_metric, valid_metric) = (4010, 0.9798004987531173, 0.9848363926576217)\n",
      "(d, train_metric, valid_metric) = (4210, 0.9798099762470309, 0.9848363926576217)\n",
      "(d, train_metric, valid_metric) = (4410, 0.9800453514739229, 0.9848363926576217)\n",
      "(d, train_metric, valid_metric) = (4610, 0.9796095444685466, 0.9848363926576217)\n",
      "(d, train_metric, valid_metric) = (4810, 0.9798336798336799, 0.9848363926576217)\n",
      "(d, train_metric, valid_metric) = (5010, 0.9788423153692615, 0.9852354349561053)\n",
      "(d, train_metric, valid_metric) = (5210, 0.9783109404990403, 0.9852354349561053)\n",
      "(d, train_metric, valid_metric) = (5410, 0.9787430683918669, 0.9848363926576217)\n",
      "(d, train_metric, valid_metric) = (5610, 0.9778966131907308, 0.9852354349561053)\n",
      "(d, train_metric, valid_metric) = (5810, 0.9774526678141136, 0.9852354349561053)\n",
      "(d, train_metric, valid_metric) = (6010, 0.9778702163061564, 0.9852354349561053)\n",
      "(d, train_metric, valid_metric) = (6210, 0.9776167471819646, 0.9852354349561053)\n",
      "(d, train_metric, valid_metric) = (6410, 0.9773790951638065, 0.985634477254589)\n",
      "(d, train_metric, valid_metric) = (6610, 0.9771558245083207, 0.9852354349561053)\n",
      "(d, train_metric, valid_metric) = (6810, 0.9770925110132158, 0.9852354349561053)\n",
      "(d, train_metric, valid_metric) = (7010, 0.9767475035663338, 0.9852354349561053)\n",
      "(d, train_metric, valid_metric) = (7210, 0.9766990291262136, 0.9852354349561053)\n",
      "(d, train_metric, valid_metric) = (7410, 0.97638326585695, 0.9852354349561053)\n",
      "(d, train_metric, valid_metric) = (7610, 0.9764783180026281, 0.9852354349561053)\n",
      "(d, train_metric, valid_metric) = (7810, 0.9765685019206146, 0.9852354349561053)\n",
      "(d, train_metric, valid_metric) = (8010, 0.9767790262172285, 0.9852354349561053)\n",
      "(d, train_metric, valid_metric) = (8210, 0.9763702801461632, 0.9852354349561053)\n",
      "(d, train_metric, valid_metric) = (8410, 0.976218787158145, 0.984437350359138)\n",
      "(d, train_metric, valid_metric) = (8610, 0.975725900116144, 0.9840383080606544)\n",
      "(d, train_metric, valid_metric) = (8810, 0.9758229284903519, 0.9840383080606544)\n",
      "(d, train_metric, valid_metric) = (9010, 0.9761376248612652, 0.9840383080606544)\n",
      "(d, train_metric, valid_metric) = (9210, 0.9761129207383279, 0.9840383080606544)\n",
      "(d, train_metric, valid_metric) = (9410, 0.9766206163655685, 0.9840383080606544)\n",
      "(d, train_metric, valid_metric) = (9610, 0.9768990634755463, 0.9840383080606544)\n",
      "(d, train_metric, valid_metric) = (9810, 0.9768603465851172, 0.984437350359138)\n",
      "(d, train_metric, valid_metric) = (10010, 0.9769230769230769, 0.9840383080606544)\n"
     ]
    },
    {
     "data": {
      "text/plain": [
       "(10:200:10010, Any[1.0, 0.9952380952380953, 0.9829268292682927, 0.9819672131147541, 0.9827160493827161, 0.9831683168316832, 0.9826446280991735, 0.9815602836879432, 0.9826086956521739, 0.9806629834254144  …  0.9763702801461632, 0.976218787158145, 0.975725900116144, 0.9758229284903519, 0.9761376248612652, 0.9761129207383279, 0.9766206163655685, 0.9768990634755463, 0.9768603465851172, 0.9769230769230769], Any[0.8036711891460495, 0.9780526735833999, 0.9848363926576217, 0.9836392657621708, 0.9852354349561053, 0.985634477254589, 0.985634477254589, 0.9848363926576217, 0.9840383080606544, 0.9840383080606544  …  0.9852354349561053, 0.984437350359138, 0.9840383080606544, 0.9840383080606544, 0.9840383080606544, 0.9840383080606544, 0.9840383080606544, 0.9840383080606544, 0.984437350359138, 0.9840383080606544])"
      ]
     },
     "execution_count": 59,
     "metadata": {},
     "output_type": "execute_result"
    }
   ],
   "source": [
    "data_schedule, training_losses, valid_losses = learn_curve(best_linear_model, X[train,:], y[train], step=200, rng=123)"
   ]
  },
  {
   "cell_type": "code",
   "execution_count": 60,
   "metadata": {
    "scrolled": false
   },
   "outputs": [
    {
     "data": {
      "image/svg+xml": [
       "<?xml version=\"1.0\" encoding=\"utf-8\"?>\n",
       "<svg xmlns=\"http://www.w3.org/2000/svg\" xmlns:xlink=\"http://www.w3.org/1999/xlink\" width=\"600\" height=\"400\" viewBox=\"0 0 2400 1600\">\n",
       "<defs>\n",
       "  <clipPath id=\"clip850\">\n",
       "    <rect x=\"0\" y=\"0\" width=\"2400\" height=\"1600\"/>\n",
       "  </clipPath>\n",
       "</defs>\n",
       "<path clip-path=\"url(#clip850)\" d=\"\n",
       "M0 1600 L2400 1600 L2400 0 L0 0  Z\n",
       "  \" fill=\"#ffffff\" fill-rule=\"evenodd\" fill-opacity=\"1\"/>\n",
       "<defs>\n",
       "  <clipPath id=\"clip851\">\n",
       "    <rect x=\"480\" y=\"0\" width=\"1681\" height=\"1600\"/>\n",
       "  </clipPath>\n",
       "</defs>\n",
       "<path clip-path=\"url(#clip850)\" d=\"\n",
       "M174.769 1486.45 L2352.76 1486.45 L2352.76 47.2441 L174.769 47.2441  Z\n",
       "  \" fill=\"#ffffff\" fill-rule=\"evenodd\" fill-opacity=\"1\"/>\n",
       "<defs>\n",
       "  <clipPath id=\"clip852\">\n",
       "    <rect x=\"174\" y=\"47\" width=\"2179\" height=\"1440\"/>\n",
       "  </clipPath>\n",
       "</defs>\n",
       "<polyline clip-path=\"url(#clip852)\" style=\"stroke:#000000; stroke-width:2; stroke-opacity:0.1; fill:none\" points=\"\n",
       "  234.356,1486.45 234.356,47.2441 \n",
       "  \"/>\n",
       "<polyline clip-path=\"url(#clip852)\" style=\"stroke:#000000; stroke-width:2; stroke-opacity:0.1; fill:none\" points=\"\n",
       "  748.032,1486.45 748.032,47.2441 \n",
       "  \"/>\n",
       "<polyline clip-path=\"url(#clip852)\" style=\"stroke:#000000; stroke-width:2; stroke-opacity:0.1; fill:none\" points=\"\n",
       "  1261.71,1486.45 1261.71,47.2441 \n",
       "  \"/>\n",
       "<polyline clip-path=\"url(#clip852)\" style=\"stroke:#000000; stroke-width:2; stroke-opacity:0.1; fill:none\" points=\"\n",
       "  1775.38,1486.45 1775.38,47.2441 \n",
       "  \"/>\n",
       "<polyline clip-path=\"url(#clip852)\" style=\"stroke:#000000; stroke-width:2; stroke-opacity:0.1; fill:none\" points=\"\n",
       "  2289.06,1486.45 2289.06,47.2441 \n",
       "  \"/>\n",
       "<polyline clip-path=\"url(#clip852)\" style=\"stroke:#000000; stroke-width:2; stroke-opacity:0.1; fill:none\" points=\"\n",
       "  174.769,1471.1 2352.76,1471.1 \n",
       "  \"/>\n",
       "<polyline clip-path=\"url(#clip852)\" style=\"stroke:#000000; stroke-width:2; stroke-opacity:0.1; fill:none\" points=\"\n",
       "  174.769,1125.32 2352.76,1125.32 \n",
       "  \"/>\n",
       "<polyline clip-path=\"url(#clip852)\" style=\"stroke:#000000; stroke-width:2; stroke-opacity:0.1; fill:none\" points=\"\n",
       "  174.769,779.54 2352.76,779.54 \n",
       "  \"/>\n",
       "<polyline clip-path=\"url(#clip852)\" style=\"stroke:#000000; stroke-width:2; stroke-opacity:0.1; fill:none\" points=\"\n",
       "  174.769,433.758 2352.76,433.758 \n",
       "  \"/>\n",
       "<polyline clip-path=\"url(#clip852)\" style=\"stroke:#000000; stroke-width:2; stroke-opacity:0.1; fill:none\" points=\"\n",
       "  174.769,87.9763 2352.76,87.9763 \n",
       "  \"/>\n",
       "<polyline clip-path=\"url(#clip850)\" style=\"stroke:#000000; stroke-width:4; stroke-opacity:1; fill:none\" points=\"\n",
       "  174.769,1486.45 2352.76,1486.45 \n",
       "  \"/>\n",
       "<polyline clip-path=\"url(#clip850)\" style=\"stroke:#000000; stroke-width:4; stroke-opacity:1; fill:none\" points=\"\n",
       "  174.769,1486.45 174.769,47.2441 \n",
       "  \"/>\n",
       "<polyline clip-path=\"url(#clip850)\" style=\"stroke:#000000; stroke-width:4; stroke-opacity:1; fill:none\" points=\"\n",
       "  234.356,1486.45 234.356,1469.18 \n",
       "  \"/>\n",
       "<polyline clip-path=\"url(#clip850)\" style=\"stroke:#000000; stroke-width:4; stroke-opacity:1; fill:none\" points=\"\n",
       "  748.032,1486.45 748.032,1469.18 \n",
       "  \"/>\n",
       "<polyline clip-path=\"url(#clip850)\" style=\"stroke:#000000; stroke-width:4; stroke-opacity:1; fill:none\" points=\"\n",
       "  1261.71,1486.45 1261.71,1469.18 \n",
       "  \"/>\n",
       "<polyline clip-path=\"url(#clip850)\" style=\"stroke:#000000; stroke-width:4; stroke-opacity:1; fill:none\" points=\"\n",
       "  1775.38,1486.45 1775.38,1469.18 \n",
       "  \"/>\n",
       "<polyline clip-path=\"url(#clip850)\" style=\"stroke:#000000; stroke-width:4; stroke-opacity:1; fill:none\" points=\"\n",
       "  2289.06,1486.45 2289.06,1469.18 \n",
       "  \"/>\n",
       "<polyline clip-path=\"url(#clip850)\" style=\"stroke:#000000; stroke-width:4; stroke-opacity:1; fill:none\" points=\"\n",
       "  174.769,1471.1 200.905,1471.1 \n",
       "  \"/>\n",
       "<polyline clip-path=\"url(#clip850)\" style=\"stroke:#000000; stroke-width:4; stroke-opacity:1; fill:none\" points=\"\n",
       "  174.769,1125.32 200.905,1125.32 \n",
       "  \"/>\n",
       "<polyline clip-path=\"url(#clip850)\" style=\"stroke:#000000; stroke-width:4; stroke-opacity:1; fill:none\" points=\"\n",
       "  174.769,779.54 200.905,779.54 \n",
       "  \"/>\n",
       "<polyline clip-path=\"url(#clip850)\" style=\"stroke:#000000; stroke-width:4; stroke-opacity:1; fill:none\" points=\"\n",
       "  174.769,433.758 200.905,433.758 \n",
       "  \"/>\n",
       "<polyline clip-path=\"url(#clip850)\" style=\"stroke:#000000; stroke-width:4; stroke-opacity:1; fill:none\" points=\"\n",
       "  174.769,87.9763 200.905,87.9763 \n",
       "  \"/>\n",
       "<path clip-path=\"url(#clip850)\" d=\"M 0 0 M234.356 1508.44 Q230.745 1508.44 228.916 1512 Q227.111 1515.55 227.111 1522.67 Q227.111 1529.78 228.916 1533.35 Q230.745 1536.89 234.356 1536.89 Q237.99 1536.89 239.796 1533.35 Q241.624 1529.78 241.624 1522.67 Q241.624 1515.55 239.796 1512 Q237.99 1508.44 234.356 1508.44 M234.356 1504.73 Q240.166 1504.73 243.222 1509.34 Q246.3 1513.92 246.3 1522.67 Q246.3 1531.4 243.222 1536.01 Q240.166 1540.59 234.356 1540.59 Q228.546 1540.59 225.467 1536.01 Q222.411 1531.4 222.411 1522.67 Q222.411 1513.92 225.467 1509.34 Q228.546 1504.73 234.356 1504.73 Z\" fill=\"#000000\" fill-rule=\"evenodd\" fill-opacity=\"1\" /><path clip-path=\"url(#clip850)\" d=\"M 0 0 M702.662 1535.98 L718.981 1535.98 L718.981 1539.92 L697.037 1539.92 L697.037 1535.98 Q699.699 1533.23 704.282 1528.6 Q708.889 1523.95 710.069 1522.61 Q712.315 1520.08 713.194 1518.35 Q714.097 1516.59 714.097 1514.9 Q714.097 1512.14 712.152 1510.41 Q710.231 1508.67 707.129 1508.67 Q704.93 1508.67 702.477 1509.43 Q700.046 1510.2 697.268 1511.75 L697.268 1507.03 Q700.092 1505.89 702.546 1505.31 Q705 1504.73 707.037 1504.73 Q712.407 1504.73 715.602 1507.42 Q718.796 1510.11 718.796 1514.6 Q718.796 1516.73 717.986 1518.65 Q717.199 1520.54 715.092 1523.14 Q714.514 1523.81 711.412 1527.03 Q708.31 1530.22 702.662 1535.98 Z\" fill=\"#000000\" fill-rule=\"evenodd\" fill-opacity=\"1\" /><path clip-path=\"url(#clip850)\" d=\"M 0 0 M724.097 1505.36 L742.453 1505.36 L742.453 1509.3 L728.379 1509.3 L728.379 1517.77 Q729.398 1517.42 730.416 1517.26 Q731.435 1517.07 732.453 1517.07 Q738.24 1517.07 741.62 1520.24 Q745 1523.42 745 1528.83 Q745 1534.41 741.527 1537.51 Q738.055 1540.59 731.736 1540.59 Q729.56 1540.59 727.291 1540.22 Q725.046 1539.85 722.639 1539.11 L722.639 1534.41 Q724.722 1535.54 726.944 1536.1 Q729.166 1536.66 731.643 1536.66 Q735.648 1536.66 737.986 1534.55 Q740.324 1532.44 740.324 1528.83 Q740.324 1525.22 737.986 1523.11 Q735.648 1521.01 731.643 1521.01 Q729.768 1521.01 727.893 1521.42 Q726.041 1521.84 724.097 1522.72 L724.097 1505.36 Z\" fill=\"#000000\" fill-rule=\"evenodd\" fill-opacity=\"1\" /><path clip-path=\"url(#clip850)\" d=\"M 0 0 M760.069 1508.44 Q756.458 1508.44 754.629 1512 Q752.824 1515.55 752.824 1522.67 Q752.824 1529.78 754.629 1533.35 Q756.458 1536.89 760.069 1536.89 Q763.703 1536.89 765.509 1533.35 Q767.337 1529.78 767.337 1522.67 Q767.337 1515.55 765.509 1512 Q763.703 1508.44 760.069 1508.44 M760.069 1504.73 Q765.879 1504.73 768.935 1509.34 Q772.013 1513.92 772.013 1522.67 Q772.013 1531.4 768.935 1536.01 Q765.879 1540.59 760.069 1540.59 Q754.259 1540.59 751.18 1536.01 Q748.125 1531.4 748.125 1522.67 Q748.125 1513.92 751.18 1509.34 Q754.259 1504.73 760.069 1504.73 Z\" fill=\"#000000\" fill-rule=\"evenodd\" fill-opacity=\"1\" /><path clip-path=\"url(#clip850)\" d=\"M 0 0 M787.083 1508.44 Q783.472 1508.44 781.643 1512 Q779.837 1515.55 779.837 1522.67 Q779.837 1529.78 781.643 1533.35 Q783.472 1536.89 787.083 1536.89 Q790.717 1536.89 792.522 1533.35 Q794.351 1529.78 794.351 1522.67 Q794.351 1515.55 792.522 1512 Q790.717 1508.44 787.083 1508.44 M787.083 1504.73 Q792.893 1504.73 795.948 1509.34 Q799.027 1513.92 799.027 1522.67 Q799.027 1531.4 795.948 1536.01 Q792.893 1540.59 787.083 1540.59 Q781.272 1540.59 778.194 1536.01 Q775.138 1531.4 775.138 1522.67 Q775.138 1513.92 778.194 1509.34 Q781.272 1504.73 787.083 1504.73 Z\" fill=\"#000000\" fill-rule=\"evenodd\" fill-opacity=\"1\" /><path clip-path=\"url(#clip850)\" d=\"M 0 0 M1211.47 1505.36 L1229.82 1505.36 L1229.82 1509.3 L1215.75 1509.3 L1215.75 1517.77 Q1216.77 1517.42 1217.78 1517.26 Q1218.8 1517.07 1219.82 1517.07 Q1225.61 1517.07 1228.99 1520.24 Q1232.37 1523.42 1232.37 1528.83 Q1232.37 1534.41 1228.9 1537.51 Q1225.42 1540.59 1219.1 1540.59 Q1216.93 1540.59 1214.66 1540.22 Q1212.41 1539.85 1210.01 1539.11 L1210.01 1534.41 Q1212.09 1535.54 1214.31 1536.1 Q1216.53 1536.66 1219.01 1536.66 Q1223.02 1536.66 1225.35 1534.55 Q1227.69 1532.44 1227.69 1528.83 Q1227.69 1525.22 1225.35 1523.11 Q1223.02 1521.01 1219.01 1521.01 Q1217.14 1521.01 1215.26 1521.42 Q1213.41 1521.84 1211.47 1522.72 L1211.47 1505.36 Z\" fill=\"#000000\" fill-rule=\"evenodd\" fill-opacity=\"1\" /><path clip-path=\"url(#clip850)\" d=\"M 0 0 M1247.44 1508.44 Q1243.83 1508.44 1242 1512 Q1240.19 1515.55 1240.19 1522.67 Q1240.19 1529.78 1242 1533.35 Q1243.83 1536.89 1247.44 1536.89 Q1251.07 1536.89 1252.88 1533.35 Q1254.71 1529.78 1254.71 1522.67 Q1254.71 1515.55 1252.88 1512 Q1251.07 1508.44 1247.44 1508.44 M1247.44 1504.73 Q1253.25 1504.73 1256.3 1509.34 Q1259.38 1513.92 1259.38 1522.67 Q1259.38 1531.4 1256.3 1536.01 Q1253.25 1540.59 1247.44 1540.59 Q1241.63 1540.59 1238.55 1536.01 Q1235.49 1531.4 1235.49 1522.67 Q1235.49 1513.92 1238.55 1509.34 Q1241.63 1504.73 1247.44 1504.73 Z\" fill=\"#000000\" fill-rule=\"evenodd\" fill-opacity=\"1\" /><path clip-path=\"url(#clip850)\" d=\"M 0 0 M1274.45 1508.44 Q1270.84 1508.44 1269.01 1512 Q1267.21 1515.55 1267.21 1522.67 Q1267.21 1529.78 1269.01 1533.35 Q1270.84 1536.89 1274.45 1536.89 Q1278.09 1536.89 1279.89 1533.35 Q1281.72 1529.78 1281.72 1522.67 Q1281.72 1515.55 1279.89 1512 Q1278.09 1508.44 1274.45 1508.44 M1274.45 1504.73 Q1280.26 1504.73 1283.32 1509.34 Q1286.4 1513.92 1286.4 1522.67 Q1286.4 1531.4 1283.32 1536.01 Q1280.26 1540.59 1274.45 1540.59 Q1268.64 1540.59 1265.56 1536.01 Q1262.51 1531.4 1262.51 1522.67 Q1262.51 1513.92 1265.56 1509.34 Q1268.64 1504.73 1274.45 1504.73 Z\" fill=\"#000000\" fill-rule=\"evenodd\" fill-opacity=\"1\" /><path clip-path=\"url(#clip850)\" d=\"M 0 0 M1301.46 1508.44 Q1297.85 1508.44 1296.02 1512 Q1294.22 1515.55 1294.22 1522.67 Q1294.22 1529.78 1296.02 1533.35 Q1297.85 1536.89 1301.46 1536.89 Q1305.1 1536.89 1306.9 1533.35 Q1308.73 1529.78 1308.73 1522.67 Q1308.73 1515.55 1306.9 1512 Q1305.1 1508.44 1301.46 1508.44 M1301.46 1504.73 Q1307.27 1504.73 1310.33 1509.34 Q1313.41 1513.92 1313.41 1522.67 Q1313.41 1531.4 1310.33 1536.01 Q1307.27 1540.59 1301.46 1540.59 Q1295.65 1540.59 1292.58 1536.01 Q1289.52 1531.4 1289.52 1522.67 Q1289.52 1513.92 1292.58 1509.34 Q1295.65 1504.73 1301.46 1504.73 Z\" fill=\"#000000\" fill-rule=\"evenodd\" fill-opacity=\"1\" /><path clip-path=\"url(#clip850)\" d=\"M 0 0 M1724.25 1505.36 L1746.47 1505.36 L1746.47 1507.35 L1733.93 1539.92 L1729.04 1539.92 L1740.85 1509.3 L1724.25 1509.3 L1724.25 1505.36 Z\" fill=\"#000000\" fill-rule=\"evenodd\" fill-opacity=\"1\" /><path clip-path=\"url(#clip850)\" d=\"M 0 0 M1751.59 1505.36 L1769.94 1505.36 L1769.94 1509.3 L1755.87 1509.3 L1755.87 1517.77 Q1756.89 1517.42 1757.91 1517.26 Q1758.93 1517.07 1759.94 1517.07 Q1765.73 1517.07 1769.11 1520.24 Q1772.49 1523.42 1772.49 1528.83 Q1772.49 1534.41 1769.02 1537.51 Q1765.55 1540.59 1759.23 1540.59 Q1757.05 1540.59 1754.78 1540.22 Q1752.54 1539.85 1750.13 1539.11 L1750.13 1534.41 Q1752.21 1535.54 1754.44 1536.1 Q1756.66 1536.66 1759.13 1536.66 Q1763.14 1536.66 1765.48 1534.55 Q1767.81 1532.44 1767.81 1528.83 Q1767.81 1525.22 1765.48 1523.11 Q1763.14 1521.01 1759.13 1521.01 Q1757.26 1521.01 1755.38 1521.42 Q1753.53 1521.84 1751.59 1522.72 L1751.59 1505.36 Z\" fill=\"#000000\" fill-rule=\"evenodd\" fill-opacity=\"1\" /><path clip-path=\"url(#clip850)\" d=\"M 0 0 M1787.56 1508.44 Q1783.95 1508.44 1782.12 1512 Q1780.31 1515.55 1780.31 1522.67 Q1780.31 1529.78 1782.12 1533.35 Q1783.95 1536.89 1787.56 1536.89 Q1791.19 1536.89 1793 1533.35 Q1794.83 1529.78 1794.83 1522.67 Q1794.83 1515.55 1793 1512 Q1791.19 1508.44 1787.56 1508.44 M1787.56 1504.73 Q1793.37 1504.73 1796.43 1509.34 Q1799.5 1513.92 1799.5 1522.67 Q1799.5 1531.4 1796.43 1536.01 Q1793.37 1540.59 1787.56 1540.59 Q1781.75 1540.59 1778.67 1536.01 Q1775.62 1531.4 1775.62 1522.67 Q1775.62 1513.92 1778.67 1509.34 Q1781.75 1504.73 1787.56 1504.73 Z\" fill=\"#000000\" fill-rule=\"evenodd\" fill-opacity=\"1\" /><path clip-path=\"url(#clip850)\" d=\"M 0 0 M1814.57 1508.44 Q1810.96 1508.44 1809.13 1512 Q1807.33 1515.55 1807.33 1522.67 Q1807.33 1529.78 1809.13 1533.35 Q1810.96 1536.89 1814.57 1536.89 Q1818.21 1536.89 1820.01 1533.35 Q1821.84 1529.78 1821.84 1522.67 Q1821.84 1515.55 1820.01 1512 Q1818.21 1508.44 1814.57 1508.44 M1814.57 1504.73 Q1820.38 1504.73 1823.44 1509.34 Q1826.52 1513.92 1826.52 1522.67 Q1826.52 1531.4 1823.44 1536.01 Q1820.38 1540.59 1814.57 1540.59 Q1808.76 1540.59 1805.68 1536.01 Q1802.63 1531.4 1802.63 1522.67 Q1802.63 1513.92 1805.68 1509.34 Q1808.76 1504.73 1814.57 1504.73 Z\" fill=\"#000000\" fill-rule=\"evenodd\" fill-opacity=\"1\" /><path clip-path=\"url(#clip850)\" d=\"M 0 0 M2225.41 1535.98 L2233.05 1535.98 L2233.05 1509.62 L2224.74 1511.29 L2224.74 1507.03 L2233.01 1505.36 L2237.68 1505.36 L2237.68 1535.98 L2245.32 1535.98 L2245.32 1539.92 L2225.41 1539.92 L2225.41 1535.98 Z\" fill=\"#000000\" fill-rule=\"evenodd\" fill-opacity=\"1\" /><path clip-path=\"url(#clip850)\" d=\"M 0 0 M2260.39 1508.44 Q2256.78 1508.44 2254.95 1512 Q2253.15 1515.55 2253.15 1522.67 Q2253.15 1529.78 2254.95 1533.35 Q2256.78 1536.89 2260.39 1536.89 Q2264.03 1536.89 2265.83 1533.35 Q2267.66 1529.78 2267.66 1522.67 Q2267.66 1515.55 2265.83 1512 Q2264.03 1508.44 2260.39 1508.44 M2260.39 1504.73 Q2266.2 1504.73 2269.26 1509.34 Q2272.34 1513.92 2272.34 1522.67 Q2272.34 1531.4 2269.26 1536.01 Q2266.2 1540.59 2260.39 1540.59 Q2254.58 1540.59 2251.5 1536.01 Q2248.45 1531.4 2248.45 1522.67 Q2248.45 1513.92 2251.5 1509.34 Q2254.58 1504.73 2260.39 1504.73 Z\" fill=\"#000000\" fill-rule=\"evenodd\" fill-opacity=\"1\" /><path clip-path=\"url(#clip850)\" d=\"M 0 0 M2287.4 1508.44 Q2283.79 1508.44 2281.97 1512 Q2280.16 1515.55 2280.16 1522.67 Q2280.16 1529.78 2281.97 1533.35 Q2283.79 1536.89 2287.4 1536.89 Q2291.04 1536.89 2292.84 1533.35 Q2294.67 1529.78 2294.67 1522.67 Q2294.67 1515.55 2292.84 1512 Q2291.04 1508.44 2287.4 1508.44 M2287.4 1504.73 Q2293.22 1504.73 2296.27 1509.34 Q2299.35 1513.92 2299.35 1522.67 Q2299.35 1531.4 2296.27 1536.01 Q2293.22 1540.59 2287.4 1540.59 Q2281.59 1540.59 2278.52 1536.01 Q2275.46 1531.4 2275.46 1522.67 Q2275.46 1513.92 2278.52 1509.34 Q2281.59 1504.73 2287.4 1504.73 Z\" fill=\"#000000\" fill-rule=\"evenodd\" fill-opacity=\"1\" /><path clip-path=\"url(#clip850)\" d=\"M 0 0 M2314.42 1508.44 Q2310.81 1508.44 2308.98 1512 Q2307.17 1515.55 2307.17 1522.67 Q2307.17 1529.78 2308.98 1533.35 Q2310.81 1536.89 2314.42 1536.89 Q2318.05 1536.89 2319.86 1533.35 Q2321.69 1529.78 2321.69 1522.67 Q2321.69 1515.55 2319.86 1512 Q2318.05 1508.44 2314.42 1508.44 M2314.42 1504.73 Q2320.23 1504.73 2323.28 1509.34 Q2326.36 1513.92 2326.36 1522.67 Q2326.36 1531.4 2323.28 1536.01 Q2320.23 1540.59 2314.42 1540.59 Q2308.61 1540.59 2305.53 1536.01 Q2302.47 1531.4 2302.47 1522.67 Q2302.47 1513.92 2305.53 1509.34 Q2308.61 1504.73 2314.42 1504.73 Z\" fill=\"#000000\" fill-rule=\"evenodd\" fill-opacity=\"1\" /><path clip-path=\"url(#clip850)\" d=\"M 0 0 M2341.43 1508.44 Q2337.82 1508.44 2335.99 1512 Q2334.19 1515.55 2334.19 1522.67 Q2334.19 1529.78 2335.99 1533.35 Q2337.82 1536.89 2341.43 1536.89 Q2345.07 1536.89 2346.87 1533.35 Q2348.7 1529.78 2348.7 1522.67 Q2348.7 1515.55 2346.87 1512 Q2345.07 1508.44 2341.43 1508.44 M2341.43 1504.73 Q2347.24 1504.73 2350.3 1509.34 Q2353.38 1513.92 2353.38 1522.67 Q2353.38 1531.4 2350.3 1536.01 Q2347.24 1540.59 2341.43 1540.59 Q2335.62 1540.59 2332.54 1536.01 Q2329.49 1531.4 2329.49 1522.67 Q2329.49 1513.92 2332.54 1509.34 Q2335.62 1504.73 2341.43 1504.73 Z\" fill=\"#000000\" fill-rule=\"evenodd\" fill-opacity=\"1\" /><path clip-path=\"url(#clip850)\" d=\"M 0 0 M74.9365 1456.9 Q71.3254 1456.9 69.4967 1460.47 Q67.6912 1464.01 67.6912 1471.14 Q67.6912 1478.25 69.4967 1481.81 Q71.3254 1485.35 74.9365 1485.35 Q78.5707 1485.35 80.3763 1481.81 Q82.205 1478.25 82.205 1471.14 Q82.205 1464.01 80.3763 1460.47 Q78.5707 1456.9 74.9365 1456.9 M74.9365 1453.2 Q80.7467 1453.2 83.8022 1457.81 Q86.8809 1462.39 86.8809 1471.14 Q86.8809 1479.87 83.8022 1484.47 Q80.7467 1489.06 74.9365 1489.06 Q69.1264 1489.06 66.0477 1484.47 Q62.9921 1479.87 62.9921 1471.14 Q62.9921 1462.39 66.0477 1457.81 Q69.1264 1453.2 74.9365 1453.2 Z\" fill=\"#000000\" fill-rule=\"evenodd\" fill-opacity=\"1\" /><path clip-path=\"url(#clip850)\" d=\"M 0 0 M91.9503 1482.5 L96.8345 1482.5 L96.8345 1488.38 L91.9503 1488.38 L91.9503 1482.5 Z\" fill=\"#000000\" fill-rule=\"evenodd\" fill-opacity=\"1\" /><path clip-path=\"url(#clip850)\" d=\"M 0 0 M111.904 1471.97 Q108.571 1471.97 106.649 1473.75 Q104.751 1475.54 104.751 1478.66 Q104.751 1481.79 106.649 1483.57 Q108.571 1485.35 111.904 1485.35 Q115.237 1485.35 117.159 1483.57 Q119.08 1481.76 119.08 1478.66 Q119.08 1475.54 117.159 1473.75 Q115.26 1471.97 111.904 1471.97 M107.228 1469.98 Q104.219 1469.24 102.529 1467.18 Q100.862 1465.12 100.862 1462.16 Q100.862 1458.01 103.802 1455.61 Q106.765 1453.2 111.904 1453.2 Q117.066 1453.2 120.006 1455.61 Q122.946 1458.01 122.946 1462.16 Q122.946 1465.12 121.256 1467.18 Q119.589 1469.24 116.603 1469.98 Q119.983 1470.77 121.858 1473.06 Q123.756 1475.35 123.756 1478.66 Q123.756 1483.69 120.677 1486.37 Q117.621 1489.06 111.904 1489.06 Q106.186 1489.06 103.108 1486.37 Q100.052 1483.69 100.052 1478.66 Q100.052 1475.35 101.95 1473.06 Q103.848 1470.77 107.228 1469.98 M105.515 1462.6 Q105.515 1465.28 107.182 1466.79 Q108.872 1468.29 111.904 1468.29 Q114.913 1468.29 116.603 1466.79 Q118.316 1465.28 118.316 1462.6 Q118.316 1459.91 116.603 1458.41 Q114.913 1456.9 111.904 1456.9 Q108.872 1456.9 107.182 1458.41 Q105.515 1459.91 105.515 1462.6 Z\" fill=\"#000000\" fill-rule=\"evenodd\" fill-opacity=\"1\" /><path clip-path=\"url(#clip850)\" d=\"M 0 0 M138.825 1456.9 Q135.214 1456.9 133.385 1460.47 Q131.58 1464.01 131.58 1471.14 Q131.58 1478.25 133.385 1481.81 Q135.214 1485.35 138.825 1485.35 Q142.459 1485.35 144.265 1481.81 Q146.094 1478.25 146.094 1471.14 Q146.094 1464.01 144.265 1460.47 Q142.459 1456.9 138.825 1456.9 M138.825 1453.2 Q144.635 1453.2 147.691 1457.81 Q150.769 1462.39 150.769 1471.14 Q150.769 1479.87 147.691 1484.47 Q144.635 1489.06 138.825 1489.06 Q133.015 1489.06 129.936 1484.47 Q126.881 1479.87 126.881 1471.14 Q126.881 1462.39 129.936 1457.81 Q133.015 1453.2 138.825 1453.2 Z\" fill=\"#000000\" fill-rule=\"evenodd\" fill-opacity=\"1\" /><path clip-path=\"url(#clip850)\" d=\"M 0 0 M75.9319 1111.12 Q72.3208 1111.12 70.4921 1114.69 Q68.6865 1118.23 68.6865 1125.36 Q68.6865 1132.46 70.4921 1136.03 Q72.3208 1139.57 75.9319 1139.57 Q79.5661 1139.57 81.3717 1136.03 Q83.2004 1132.46 83.2004 1125.36 Q83.2004 1118.23 81.3717 1114.69 Q79.5661 1111.12 75.9319 1111.12 M75.9319 1107.42 Q81.742 1107.42 84.7976 1112.02 Q87.8763 1116.61 87.8763 1125.36 Q87.8763 1134.08 84.7976 1138.69 Q81.742 1143.27 75.9319 1143.27 Q70.1217 1143.27 67.043 1138.69 Q63.9875 1134.08 63.9875 1125.36 Q63.9875 1116.61 67.043 1112.02 Q70.1217 1107.42 75.9319 1107.42 Z\" fill=\"#000000\" fill-rule=\"evenodd\" fill-opacity=\"1\" /><path clip-path=\"url(#clip850)\" d=\"M 0 0 M92.9457 1136.72 L97.8299 1136.72 L97.8299 1142.6 L92.9457 1142.6 L92.9457 1136.72 Z\" fill=\"#000000\" fill-rule=\"evenodd\" fill-opacity=\"1\" /><path clip-path=\"url(#clip850)\" d=\"M 0 0 M112.899 1126.19 Q109.566 1126.19 107.645 1127.97 Q105.747 1129.76 105.747 1132.88 Q105.747 1136.01 107.645 1137.79 Q109.566 1139.57 112.899 1139.57 Q116.233 1139.57 118.154 1137.79 Q120.075 1135.98 120.075 1132.88 Q120.075 1129.76 118.154 1127.97 Q116.256 1126.19 112.899 1126.19 M108.223 1124.2 Q105.214 1123.46 103.524 1121.4 Q101.858 1119.34 101.858 1116.38 Q101.858 1112.23 104.797 1109.82 Q107.76 1107.42 112.899 1107.42 Q118.061 1107.42 121.001 1109.82 Q123.941 1112.23 123.941 1116.38 Q123.941 1119.34 122.251 1121.4 Q120.584 1123.46 117.598 1124.2 Q120.978 1124.99 122.853 1127.28 Q124.751 1129.57 124.751 1132.88 Q124.751 1137.9 121.672 1140.59 Q118.617 1143.27 112.899 1143.27 Q107.182 1143.27 104.103 1140.59 Q101.047 1137.9 101.047 1132.88 Q101.047 1129.57 102.946 1127.28 Q104.844 1124.99 108.223 1124.2 M106.51 1116.82 Q106.51 1119.5 108.177 1121.01 Q109.867 1122.51 112.899 1122.51 Q115.909 1122.51 117.598 1121.01 Q119.311 1119.5 119.311 1116.82 Q119.311 1114.13 117.598 1112.63 Q115.909 1111.12 112.899 1111.12 Q109.867 1111.12 108.177 1112.63 Q106.51 1114.13 106.51 1116.82 Z\" fill=\"#000000\" fill-rule=\"evenodd\" fill-opacity=\"1\" /><path clip-path=\"url(#clip850)\" d=\"M 0 0 M129.867 1108.04 L148.223 1108.04 L148.223 1111.98 L134.149 1111.98 L134.149 1120.45 Q135.168 1120.1 136.186 1119.94 Q137.205 1119.76 138.223 1119.76 Q144.01 1119.76 147.39 1122.93 Q150.769 1126.1 150.769 1131.51 Q150.769 1137.09 147.297 1140.19 Q143.825 1143.27 137.506 1143.27 Q135.33 1143.27 133.061 1142.9 Q130.816 1142.53 128.408 1141.79 L128.408 1137.09 Q130.492 1138.23 132.714 1138.78 Q134.936 1139.34 137.413 1139.34 Q141.418 1139.34 143.756 1137.23 Q146.094 1135.13 146.094 1131.51 Q146.094 1127.9 143.756 1125.8 Q141.418 1123.69 137.413 1123.69 Q135.538 1123.69 133.663 1124.11 Q131.811 1124.52 129.867 1125.4 L129.867 1108.04 Z\" fill=\"#000000\" fill-rule=\"evenodd\" fill-opacity=\"1\" /><path clip-path=\"url(#clip850)\" d=\"M 0 0 M75.0291 765.339 Q71.418 765.339 69.5893 768.904 Q67.7838 772.445 67.7838 779.575 Q67.7838 786.681 69.5893 790.246 Q71.418 793.788 75.0291 793.788 Q78.6633 793.788 80.4689 790.246 Q82.2976 786.681 82.2976 779.575 Q82.2976 772.445 80.4689 768.904 Q78.6633 765.339 75.0291 765.339 M75.0291 761.635 Q80.8393 761.635 83.8948 766.242 Q86.9735 770.825 86.9735 779.575 Q86.9735 788.302 83.8948 792.908 Q80.8393 797.492 75.0291 797.492 Q69.2189 797.492 66.1403 792.908 Q63.0847 788.302 63.0847 779.575 Q63.0847 770.825 66.1403 766.242 Q69.2189 761.635 75.0291 761.635 Z\" fill=\"#000000\" fill-rule=\"evenodd\" fill-opacity=\"1\" /><path clip-path=\"url(#clip850)\" d=\"M 0 0 M92.0429 790.941 L96.9271 790.941 L96.9271 796.82 L92.0429 796.82 L92.0429 790.941 Z\" fill=\"#000000\" fill-rule=\"evenodd\" fill-opacity=\"1\" /><path clip-path=\"url(#clip850)\" d=\"M 0 0 M102.135 796.103 L102.135 791.843 Q103.895 792.677 105.7 793.117 Q107.506 793.556 109.242 793.556 Q113.871 793.556 116.302 790.455 Q118.756 787.33 119.103 780.987 Q117.76 782.978 115.7 784.043 Q113.64 785.107 111.14 785.107 Q105.955 785.107 102.922 781.982 Q99.9132 778.834 99.9132 773.394 Q99.9132 768.07 103.061 764.853 Q106.209 761.635 111.441 761.635 Q117.436 761.635 120.584 766.242 Q123.756 770.825 123.756 779.575 Q123.756 787.746 119.867 792.631 Q116.001 797.492 109.45 797.492 Q107.691 797.492 105.885 797.144 Q104.08 796.797 102.135 796.103 M111.441 781.45 Q114.589 781.45 116.418 779.297 Q118.27 777.144 118.27 773.394 Q118.27 769.668 116.418 767.515 Q114.589 765.339 111.441 765.339 Q108.293 765.339 106.441 767.515 Q104.612 769.668 104.612 773.394 Q104.612 777.144 106.441 779.297 Q108.293 781.45 111.441 781.45 Z\" fill=\"#000000\" fill-rule=\"evenodd\" fill-opacity=\"1\" /><path clip-path=\"url(#clip850)\" d=\"M 0 0 M138.825 765.339 Q135.214 765.339 133.385 768.904 Q131.58 772.445 131.58 779.575 Q131.58 786.681 133.385 790.246 Q135.214 793.788 138.825 793.788 Q142.459 793.788 144.265 790.246 Q146.094 786.681 146.094 779.575 Q146.094 772.445 144.265 768.904 Q142.459 765.339 138.825 765.339 M138.825 761.635 Q144.635 761.635 147.691 766.242 Q150.769 770.825 150.769 779.575 Q150.769 788.302 147.691 792.908 Q144.635 797.492 138.825 797.492 Q133.015 797.492 129.936 792.908 Q126.881 788.302 126.881 779.575 Q126.881 770.825 129.936 766.242 Q133.015 761.635 138.825 761.635 Z\" fill=\"#000000\" fill-rule=\"evenodd\" fill-opacity=\"1\" /><path clip-path=\"url(#clip850)\" d=\"M 0 0 M76.0245 419.557 Q72.4134 419.557 70.5847 423.122 Q68.7791 426.663 68.7791 433.793 Q68.7791 440.899 70.5847 444.464 Q72.4134 448.006 76.0245 448.006 Q79.6587 448.006 81.4642 444.464 Q83.2929 440.899 83.2929 433.793 Q83.2929 426.663 81.4642 423.122 Q79.6587 419.557 76.0245 419.557 M76.0245 415.853 Q81.8346 415.853 84.8902 420.46 Q87.9688 425.043 87.9688 433.793 Q87.9688 442.52 84.8902 447.126 Q81.8346 451.71 76.0245 451.71 Q70.2143 451.71 67.1356 447.126 Q64.0801 442.52 64.0801 433.793 Q64.0801 425.043 67.1356 420.46 Q70.2143 415.853 76.0245 415.853 Z\" fill=\"#000000\" fill-rule=\"evenodd\" fill-opacity=\"1\" /><path clip-path=\"url(#clip850)\" d=\"M 0 0 M93.0383 445.159 L97.9225 445.159 L97.9225 451.038 L93.0383 451.038 L93.0383 445.159 Z\" fill=\"#000000\" fill-rule=\"evenodd\" fill-opacity=\"1\" /><path clip-path=\"url(#clip850)\" d=\"M 0 0 M103.131 450.321 L103.131 446.061 Q104.89 446.895 106.696 447.335 Q108.501 447.774 110.237 447.774 Q114.867 447.774 117.297 444.673 Q119.751 441.548 120.098 435.205 Q118.756 437.196 116.696 438.261 Q114.635 439.325 112.135 439.325 Q106.95 439.325 103.918 436.2 Q100.909 433.052 100.909 427.612 Q100.909 422.288 104.057 419.071 Q107.205 415.853 112.436 415.853 Q118.432 415.853 121.58 420.46 Q124.751 425.043 124.751 433.793 Q124.751 441.964 120.862 446.848 Q116.996 451.71 110.446 451.71 Q108.686 451.71 106.881 451.362 Q105.075 451.015 103.131 450.321 M112.436 435.668 Q115.584 435.668 117.413 433.515 Q119.265 431.362 119.265 427.612 Q119.265 423.886 117.413 421.733 Q115.584 419.557 112.436 419.557 Q109.288 419.557 107.436 421.733 Q105.608 423.886 105.608 427.612 Q105.608 431.362 107.436 433.515 Q109.288 435.668 112.436 435.668 Z\" fill=\"#000000\" fill-rule=\"evenodd\" fill-opacity=\"1\" /><path clip-path=\"url(#clip850)\" d=\"M 0 0 M129.867 416.478 L148.223 416.478 L148.223 420.413 L134.149 420.413 L134.149 428.886 Q135.168 428.538 136.186 428.376 Q137.205 428.191 138.223 428.191 Q144.01 428.191 147.39 431.362 Q150.769 434.534 150.769 439.95 Q150.769 445.529 147.297 448.631 Q143.825 451.71 137.506 451.71 Q135.33 451.71 133.061 451.339 Q130.816 450.969 128.408 450.228 L128.408 445.529 Q130.492 446.663 132.714 447.219 Q134.936 447.774 137.413 447.774 Q141.418 447.774 143.756 445.668 Q146.094 443.561 146.094 439.95 Q146.094 436.339 143.756 434.233 Q141.418 432.126 137.413 432.126 Q135.538 432.126 133.663 432.543 Q131.811 432.96 129.867 433.839 L129.867 416.478 Z\" fill=\"#000000\" fill-rule=\"evenodd\" fill-opacity=\"1\" /><path clip-path=\"url(#clip850)\" d=\"M 0 0 M66.881 101.321 L74.5198 101.321 L74.5198 74.9555 L66.2097 76.6222 L66.2097 72.3629 L74.4735 70.6963 L79.1494 70.6963 L79.1494 101.321 L86.7883 101.321 L86.7883 105.256 L66.881 105.256 L66.881 101.321 Z\" fill=\"#000000\" fill-rule=\"evenodd\" fill-opacity=\"1\" /><path clip-path=\"url(#clip850)\" d=\"M 0 0 M91.8577 99.3767 L96.7419 99.3767 L96.7419 105.256 L91.8577 105.256 L91.8577 99.3767 Z\" fill=\"#000000\" fill-rule=\"evenodd\" fill-opacity=\"1\" /><path clip-path=\"url(#clip850)\" d=\"M 0 0 M111.811 73.775 Q108.2 73.775 106.372 77.3398 Q104.566 80.8814 104.566 88.011 Q104.566 95.1174 106.372 98.6822 Q108.2 102.224 111.811 102.224 Q115.446 102.224 117.251 98.6822 Q119.08 95.1174 119.08 88.011 Q119.08 80.8814 117.251 77.3398 Q115.446 73.775 111.811 73.775 M111.811 70.0713 Q117.621 70.0713 120.677 74.6777 Q123.756 79.261 123.756 88.011 Q123.756 96.7378 120.677 101.344 Q117.621 105.928 111.811 105.928 Q106.001 105.928 102.922 101.344 Q99.8669 96.7378 99.8669 88.011 Q99.8669 79.261 102.922 74.6777 Q106.001 70.0713 111.811 70.0713 Z\" fill=\"#000000\" fill-rule=\"evenodd\" fill-opacity=\"1\" /><path clip-path=\"url(#clip850)\" d=\"M 0 0 M138.825 73.775 Q135.214 73.775 133.385 77.3398 Q131.58 80.8814 131.58 88.011 Q131.58 95.1174 133.385 98.6822 Q135.214 102.224 138.825 102.224 Q142.459 102.224 144.265 98.6822 Q146.094 95.1174 146.094 88.011 Q146.094 80.8814 144.265 77.3398 Q142.459 73.775 138.825 73.775 M138.825 70.0713 Q144.635 70.0713 147.691 74.6777 Q150.769 79.261 150.769 88.011 Q150.769 96.7378 147.691 101.344 Q144.635 105.928 138.825 105.928 Q133.015 105.928 129.936 101.344 Q126.881 96.7378 126.881 88.011 Q126.881 79.261 129.936 74.6777 Q133.015 70.0713 138.825 70.0713 Z\" fill=\"#000000\" fill-rule=\"evenodd\" fill-opacity=\"1\" /><polyline clip-path=\"url(#clip852)\" style=\"stroke:#009af9; stroke-width:4; stroke-opacity:1; fill:none\" points=\"\n",
       "  236.411,87.9763 277.505,120.908 318.599,206.048 359.693,212.685 400.787,207.506 441.881,204.378 482.975,208 524.069,215.499 565.163,208.248 606.257,221.704 \n",
       "  647.351,222.16 688.445,225.663 729.54,222.846 770.634,233.708 811.728,223.336 852.822,225.83 893.916,232.321 935.01,221.827 976.104,225.906 1017.2,231.371 \n",
       "  1058.29,227.669 1099.39,227.603 1140.48,225.975 1181.57,228.989 1222.67,227.439 1263.76,234.295 1304.86,237.97 1345.95,234.982 1387.04,240.835 1428.14,243.906 \n",
       "  1469.23,241.018 1510.33,242.771 1551.42,244.414 1592.52,245.958 1633.61,246.396 1674.7,248.782 1715.8,249.117 1756.89,251.301 1797.99,250.644 1839.08,250.02 \n",
       "  1880.17,248.564 1921.27,251.391 1962.36,252.439 2003.46,255.847 2044.55,255.176 2085.64,253 2126.74,253.171 2167.83,249.66 2208.93,247.734 2250.02,248.002 \n",
       "  2291.11,247.568 \n",
       "  \"/>\n",
       "<polyline clip-path=\"url(#clip852)\" style=\"stroke:#e26f46; stroke-width:4; stroke-opacity:1; fill:none\" points=\"\n",
       "  236.411,1445.72 277.505,239.756 318.599,192.842 359.693,201.121 400.787,190.083 441.881,187.323 482.975,187.323 524.069,192.842 565.163,198.362 606.257,198.362 \n",
       "  647.351,187.323 688.445,190.083 729.54,190.083 770.634,198.362 811.728,192.842 852.822,195.602 893.916,192.842 935.01,198.362 976.104,195.602 1017.2,190.083 \n",
       "  1058.29,192.842 1099.39,192.842 1140.48,192.842 1181.57,192.842 1222.67,192.842 1263.76,190.083 1304.86,190.083 1345.95,192.842 1387.04,190.083 1428.14,190.083 \n",
       "  1469.23,190.083 1510.33,190.083 1551.42,187.323 1592.52,190.083 1633.61,190.083 1674.7,190.083 1715.8,190.083 1756.89,190.083 1797.99,190.083 1839.08,190.083 \n",
       "  1880.17,190.083 1921.27,190.083 1962.36,195.602 2003.46,198.362 2044.55,198.362 2085.64,198.362 2126.74,198.362 2167.83,198.362 2208.93,198.362 2250.02,195.602 \n",
       "  2291.11,198.362 \n",
       "  \"/>\n",
       "<path clip-path=\"url(#clip850)\" d=\"\n",
       "M1987.14 276.658 L2280.16 276.658 L2280.16 95.2176 L1987.14 95.2176  Z\n",
       "  \" fill=\"#ffffff\" fill-rule=\"evenodd\" fill-opacity=\"1\"/>\n",
       "<polyline clip-path=\"url(#clip850)\" style=\"stroke:#000000; stroke-width:4; stroke-opacity:1; fill:none\" points=\"\n",
       "  1987.14,276.658 2280.16,276.658 2280.16,95.2176 1987.14,95.2176 1987.14,276.658 \n",
       "  \"/>\n",
       "<polyline clip-path=\"url(#clip850)\" style=\"stroke:#009af9; stroke-width:4; stroke-opacity:1; fill:none\" points=\"\n",
       "  2011.34,155.698 2156.54,155.698 \n",
       "  \"/>\n",
       "<path clip-path=\"url(#clip850)\" d=\"M 0 0 M2194.58 175.385 Q2192.78 180.015 2191.06 181.427 Q2189.35 182.839 2186.48 182.839 L2183.08 182.839 L2183.08 179.274 L2185.58 179.274 Q2187.34 179.274 2188.31 178.44 Q2189.28 177.607 2190.46 174.505 L2191.22 172.561 L2180.74 147.052 L2185.25 147.052 L2193.35 167.329 L2201.46 147.052 L2205.97 147.052 L2194.58 175.385 Z\" fill=\"#000000\" fill-rule=\"evenodd\" fill-opacity=\"1\" /><path clip-path=\"url(#clip850)\" d=\"M 0 0 M2211.85 169.042 L2219.49 169.042 L2219.49 142.677 L2211.18 144.343 L2211.18 140.084 L2219.44 138.418 L2224.12 138.418 L2224.12 169.042 L2231.76 169.042 L2231.76 172.978 L2211.85 172.978 L2211.85 169.042 Z\" fill=\"#000000\" fill-rule=\"evenodd\" fill-opacity=\"1\" /><polyline clip-path=\"url(#clip850)\" style=\"stroke:#e26f46; stroke-width:4; stroke-opacity:1; fill:none\" points=\"\n",
       "  2011.34,216.178 2156.54,216.178 \n",
       "  \"/>\n",
       "<path clip-path=\"url(#clip850)\" d=\"M 0 0 M2194.58 235.865 Q2192.78 240.495 2191.06 241.907 Q2189.35 243.319 2186.48 243.319 L2183.08 243.319 L2183.08 239.754 L2185.58 239.754 Q2187.34 239.754 2188.31 238.92 Q2189.28 238.087 2190.46 234.985 L2191.22 233.041 L2180.74 207.532 L2185.25 207.532 L2193.35 227.809 L2201.46 207.532 L2205.97 207.532 L2194.58 235.865 Z\" fill=\"#000000\" fill-rule=\"evenodd\" fill-opacity=\"1\" /><path clip-path=\"url(#clip850)\" d=\"M 0 0 M2215.07 229.522 L2231.39 229.522 L2231.39 233.458 L2209.44 233.458 L2209.44 229.522 Q2212.1 226.768 2216.69 222.138 Q2221.29 217.485 2222.47 216.143 Q2224.72 213.62 2225.6 211.884 Q2226.5 210.124 2226.5 208.435 Q2226.5 205.68 2224.56 203.944 Q2222.64 202.208 2219.53 202.208 Q2217.34 202.208 2214.88 202.972 Q2212.45 203.735 2209.67 205.286 L2209.67 200.564 Q2212.5 199.43 2214.95 198.851 Q2217.4 198.273 2219.44 198.273 Q2224.81 198.273 2228.01 200.958 Q2231.2 203.643 2231.2 208.134 Q2231.2 210.263 2230.39 212.185 Q2229.6 214.083 2227.5 216.675 Q2226.92 217.347 2223.82 220.564 Q2220.72 223.759 2215.07 229.522 Z\" fill=\"#000000\" fill-rule=\"evenodd\" fill-opacity=\"1\" /></svg>\n"
      ]
     },
     "execution_count": 60,
     "metadata": {},
     "output_type": "execute_result"
    }
   ],
   "source": [
    "plot(data_schedule, training_losses)\n",
    "plot!(data_schedule, valid_losses)"
   ]
  },
  {
   "cell_type": "code",
   "execution_count": 61,
   "metadata": {
    "scrolled": true
   },
   "outputs": [
    {
     "name": "stdout",
     "output_type": "stream",
     "text": [
      "(d, train_metric, valid_metric) = (10, 1.0, 0.9158020750199521)\n",
      "(d, train_metric, valid_metric) = (210, 1.0, 0.9158020750199521)\n",
      "(d, train_metric, valid_metric) = (410, 1.0, 0.9158020750199521)\n",
      "(d, train_metric, valid_metric) = (610, 1.0, 0.9162011173184358)\n",
      "(d, train_metric, valid_metric) = (810, 1.0, 0.9162011173184358)\n",
      "(d, train_metric, valid_metric) = (1010, 1.0, 0.9162011173184358)\n",
      "(d, train_metric, valid_metric) = (1210, 1.0, 0.9162011173184358)\n",
      "(d, train_metric, valid_metric) = (1410, 1.0, 0.9166001596169194)\n",
      "(d, train_metric, valid_metric) = (1610, 1.0, 0.9166001596169194)\n",
      "(d, train_metric, valid_metric) = (1810, 1.0, 0.9166001596169194)\n",
      "(d, train_metric, valid_metric) = (2010, 1.0, 0.9166001596169194)\n",
      "(d, train_metric, valid_metric) = (2210, 1.0, 0.9166001596169194)\n",
      "(d, train_metric, valid_metric) = (2410, 1.0, 0.9158020750199521)\n",
      "(d, train_metric, valid_metric) = (2610, 1.0, 0.9158020750199521)\n",
      "(d, train_metric, valid_metric) = (2810, 1.0, 0.9162011173184358)\n",
      "(d, train_metric, valid_metric) = (3010, 1.0, 0.9162011173184358)\n",
      "(d, train_metric, valid_metric) = (3210, 1.0, 0.9158020750199521)\n",
      "(d, train_metric, valid_metric) = (3410, 1.0, 0.9158020750199521)\n",
      "(d, train_metric, valid_metric) = (3610, 1.0, 0.9154030327214685)\n",
      "(d, train_metric, valid_metric) = (3810, 1.0, 0.9154030327214685)\n",
      "(d, train_metric, valid_metric) = (4010, 1.0, 0.9154030327214685)\n",
      "(d, train_metric, valid_metric) = (4210, 1.0, 0.9166001596169194)\n",
      "(d, train_metric, valid_metric) = (4410, 1.0, 0.9169992019154031)\n",
      "(d, train_metric, valid_metric) = (4610, 1.0, 0.9166001596169194)\n",
      "(d, train_metric, valid_metric) = (4810, 1.0, 0.9166001596169194)\n",
      "(d, train_metric, valid_metric) = (5010, 1.0, 0.9162011173184358)\n",
      "(d, train_metric, valid_metric) = (5210, 1.0, 0.9162011173184358)\n",
      "(d, train_metric, valid_metric) = (5410, 1.0, 0.9166001596169194)\n",
      "(d, train_metric, valid_metric) = (5610, 1.0, 0.9166001596169194)\n",
      "(d, train_metric, valid_metric) = (5810, 1.0, 0.9169992019154031)\n",
      "(d, train_metric, valid_metric) = (6010, 1.0, 0.9173982442138867)\n",
      "(d, train_metric, valid_metric) = (6210, 1.0, 0.9173982442138867)\n",
      "(d, train_metric, valid_metric) = (6410, 1.0, 0.9173982442138867)\n",
      "(d, train_metric, valid_metric) = (6610, 1.0, 0.9177972865123704)\n",
      "(d, train_metric, valid_metric) = (6810, 1.0, 0.9169992019154031)\n",
      "(d, train_metric, valid_metric) = (7010, 1.0, 0.9166001596169194)\n",
      "(d, train_metric, valid_metric) = (7210, 1.0, 0.9169992019154031)\n",
      "(d, train_metric, valid_metric) = (7410, 1.0, 0.9169992019154031)\n",
      "(d, train_metric, valid_metric) = (7610, 1.0, 0.9166001596169194)\n",
      "(d, train_metric, valid_metric) = (7810, 1.0, 0.9169992019154031)\n",
      "(d, train_metric, valid_metric) = (8010, 1.0, 0.9166001596169194)\n",
      "(d, train_metric, valid_metric) = (8210, 1.0, 0.9173982442138867)\n",
      "(d, train_metric, valid_metric) = (8410, 1.0, 0.9177972865123704)\n",
      "(d, train_metric, valid_metric) = (8610, 1.0, 0.9177972865123704)\n",
      "(d, train_metric, valid_metric) = (8810, 1.0, 0.9177972865123704)\n",
      "(d, train_metric, valid_metric) = (9010, 1.0, 0.9169992019154031)\n",
      "(d, train_metric, valid_metric) = (9210, 1.0, 0.9166001596169194)\n",
      "(d, train_metric, valid_metric) = (9410, 1.0, 0.9169992019154031)\n",
      "(d, train_metric, valid_metric) = (9610, 1.0, 0.9177972865123704)\n",
      "(d, train_metric, valid_metric) = (9810, 1.0, 0.9177972865123704)\n",
      "(d, train_metric, valid_metric) = (10010, 1.0, 0.9181963288108539)\n"
     ]
    },
    {
     "data": {
      "text/plain": [
       "(10:200:10010, Any[1.0, 1.0, 1.0, 1.0, 1.0, 1.0, 1.0, 1.0, 1.0, 1.0  …  1.0, 1.0, 1.0, 1.0, 1.0, 1.0, 1.0, 1.0, 1.0, 1.0], Any[0.9158020750199521, 0.9158020750199521, 0.9158020750199521, 0.9162011173184358, 0.9162011173184358, 0.9162011173184358, 0.9162011173184358, 0.9166001596169194, 0.9166001596169194, 0.9166001596169194  …  0.9173982442138867, 0.9177972865123704, 0.9177972865123704, 0.9177972865123704, 0.9169992019154031, 0.9166001596169194, 0.9169992019154031, 0.9177972865123704, 0.9177972865123704, 0.9181963288108539])"
      ]
     },
     "execution_count": 61,
     "metadata": {},
     "output_type": "execute_result"
    }
   ],
   "source": [
    "data_schedule, training_losses, valid_losses = learn_curve(best_rbf_model, X[train,:], y[train], step=200, rng=123)"
   ]
  },
  {
   "cell_type": "code",
   "execution_count": 62,
   "metadata": {
    "scrolled": false
   },
   "outputs": [
    {
     "data": {
      "image/svg+xml": [
       "<?xml version=\"1.0\" encoding=\"utf-8\"?>\n",
       "<svg xmlns=\"http://www.w3.org/2000/svg\" xmlns:xlink=\"http://www.w3.org/1999/xlink\" width=\"600\" height=\"400\" viewBox=\"0 0 2400 1600\">\n",
       "<defs>\n",
       "  <clipPath id=\"clip890\">\n",
       "    <rect x=\"0\" y=\"0\" width=\"2400\" height=\"1600\"/>\n",
       "  </clipPath>\n",
       "</defs>\n",
       "<path clip-path=\"url(#clip890)\" d=\"\n",
       "M0 1600 L2400 1600 L2400 0 L0 0  Z\n",
       "  \" fill=\"#ffffff\" fill-rule=\"evenodd\" fill-opacity=\"1\"/>\n",
       "<defs>\n",
       "  <clipPath id=\"clip891\">\n",
       "    <rect x=\"480\" y=\"0\" width=\"1681\" height=\"1600\"/>\n",
       "  </clipPath>\n",
       "</defs>\n",
       "<path clip-path=\"url(#clip890)\" d=\"\n",
       "M175.163 1486.45 L2352.76 1486.45 L2352.76 47.2441 L175.163 47.2441  Z\n",
       "  \" fill=\"#ffffff\" fill-rule=\"evenodd\" fill-opacity=\"1\"/>\n",
       "<defs>\n",
       "  <clipPath id=\"clip892\">\n",
       "    <rect x=\"175\" y=\"47\" width=\"2179\" height=\"1440\"/>\n",
       "  </clipPath>\n",
       "</defs>\n",
       "<polyline clip-path=\"url(#clip892)\" style=\"stroke:#000000; stroke-width:2; stroke-opacity:0.1; fill:none\" points=\"\n",
       "  234.739,1486.45 234.739,47.2441 \n",
       "  \"/>\n",
       "<polyline clip-path=\"url(#clip892)\" style=\"stroke:#000000; stroke-width:2; stroke-opacity:0.1; fill:none\" points=\"\n",
       "  748.322,1486.45 748.322,47.2441 \n",
       "  \"/>\n",
       "<polyline clip-path=\"url(#clip892)\" style=\"stroke:#000000; stroke-width:2; stroke-opacity:0.1; fill:none\" points=\"\n",
       "  1261.91,1486.45 1261.91,47.2441 \n",
       "  \"/>\n",
       "<polyline clip-path=\"url(#clip892)\" style=\"stroke:#000000; stroke-width:2; stroke-opacity:0.1; fill:none\" points=\"\n",
       "  1775.49,1486.45 1775.49,47.2441 \n",
       "  \"/>\n",
       "<polyline clip-path=\"url(#clip892)\" style=\"stroke:#000000; stroke-width:2; stroke-opacity:0.1; fill:none\" points=\"\n",
       "  2289.07,1486.45 2289.07,47.2441 \n",
       "  \"/>\n",
       "<polyline clip-path=\"url(#clip892)\" style=\"stroke:#000000; stroke-width:2; stroke-opacity:0.1; fill:none\" points=\"\n",
       "  175.163,1371.94 2352.76,1371.94 \n",
       "  \"/>\n",
       "<polyline clip-path=\"url(#clip892)\" style=\"stroke:#000000; stroke-width:2; stroke-opacity:0.1; fill:none\" points=\"\n",
       "  175.163,1050.95 2352.76,1050.95 \n",
       "  \"/>\n",
       "<polyline clip-path=\"url(#clip892)\" style=\"stroke:#000000; stroke-width:2; stroke-opacity:0.1; fill:none\" points=\"\n",
       "  175.163,729.956 2352.76,729.956 \n",
       "  \"/>\n",
       "<polyline clip-path=\"url(#clip892)\" style=\"stroke:#000000; stroke-width:2; stroke-opacity:0.1; fill:none\" points=\"\n",
       "  175.163,408.966 2352.76,408.966 \n",
       "  \"/>\n",
       "<polyline clip-path=\"url(#clip892)\" style=\"stroke:#000000; stroke-width:2; stroke-opacity:0.1; fill:none\" points=\"\n",
       "  175.163,87.9763 2352.76,87.9763 \n",
       "  \"/>\n",
       "<polyline clip-path=\"url(#clip890)\" style=\"stroke:#000000; stroke-width:4; stroke-opacity:1; fill:none\" points=\"\n",
       "  175.163,1486.45 2352.76,1486.45 \n",
       "  \"/>\n",
       "<polyline clip-path=\"url(#clip890)\" style=\"stroke:#000000; stroke-width:4; stroke-opacity:1; fill:none\" points=\"\n",
       "  175.163,1486.45 175.163,47.2441 \n",
       "  \"/>\n",
       "<polyline clip-path=\"url(#clip890)\" style=\"stroke:#000000; stroke-width:4; stroke-opacity:1; fill:none\" points=\"\n",
       "  234.739,1486.45 234.739,1469.18 \n",
       "  \"/>\n",
       "<polyline clip-path=\"url(#clip890)\" style=\"stroke:#000000; stroke-width:4; stroke-opacity:1; fill:none\" points=\"\n",
       "  748.322,1486.45 748.322,1469.18 \n",
       "  \"/>\n",
       "<polyline clip-path=\"url(#clip890)\" style=\"stroke:#000000; stroke-width:4; stroke-opacity:1; fill:none\" points=\"\n",
       "  1261.91,1486.45 1261.91,1469.18 \n",
       "  \"/>\n",
       "<polyline clip-path=\"url(#clip890)\" style=\"stroke:#000000; stroke-width:4; stroke-opacity:1; fill:none\" points=\"\n",
       "  1775.49,1486.45 1775.49,1469.18 \n",
       "  \"/>\n",
       "<polyline clip-path=\"url(#clip890)\" style=\"stroke:#000000; stroke-width:4; stroke-opacity:1; fill:none\" points=\"\n",
       "  2289.07,1486.45 2289.07,1469.18 \n",
       "  \"/>\n",
       "<polyline clip-path=\"url(#clip890)\" style=\"stroke:#000000; stroke-width:4; stroke-opacity:1; fill:none\" points=\"\n",
       "  175.163,1371.94 201.294,1371.94 \n",
       "  \"/>\n",
       "<polyline clip-path=\"url(#clip890)\" style=\"stroke:#000000; stroke-width:4; stroke-opacity:1; fill:none\" points=\"\n",
       "  175.163,1050.95 201.294,1050.95 \n",
       "  \"/>\n",
       "<polyline clip-path=\"url(#clip890)\" style=\"stroke:#000000; stroke-width:4; stroke-opacity:1; fill:none\" points=\"\n",
       "  175.163,729.956 201.294,729.956 \n",
       "  \"/>\n",
       "<polyline clip-path=\"url(#clip890)\" style=\"stroke:#000000; stroke-width:4; stroke-opacity:1; fill:none\" points=\"\n",
       "  175.163,408.966 201.294,408.966 \n",
       "  \"/>\n",
       "<polyline clip-path=\"url(#clip890)\" style=\"stroke:#000000; stroke-width:4; stroke-opacity:1; fill:none\" points=\"\n",
       "  175.163,87.9763 201.294,87.9763 \n",
       "  \"/>\n",
       "<path clip-path=\"url(#clip890)\" d=\"M 0 0 M234.739 1508.44 Q231.128 1508.44 229.299 1512 Q227.493 1515.55 227.493 1522.67 Q227.493 1529.78 229.299 1533.35 Q231.128 1536.89 234.739 1536.89 Q238.373 1536.89 240.178 1533.35 Q242.007 1529.78 242.007 1522.67 Q242.007 1515.55 240.178 1512 Q238.373 1508.44 234.739 1508.44 M234.739 1504.73 Q240.549 1504.73 243.604 1509.34 Q246.683 1513.92 246.683 1522.67 Q246.683 1531.4 243.604 1536.01 Q240.549 1540.59 234.739 1540.59 Q228.928 1540.59 225.85 1536.01 Q222.794 1531.4 222.794 1522.67 Q222.794 1513.92 225.85 1509.34 Q228.928 1504.73 234.739 1504.73 Z\" fill=\"#000000\" fill-rule=\"evenodd\" fill-opacity=\"1\" /><path clip-path=\"url(#clip890)\" d=\"M 0 0 M702.952 1535.98 L719.271 1535.98 L719.271 1539.92 L697.327 1539.92 L697.327 1535.98 Q699.989 1533.23 704.572 1528.6 Q709.179 1523.95 710.359 1522.61 Q712.604 1520.08 713.484 1518.35 Q714.387 1516.59 714.387 1514.9 Q714.387 1512.14 712.442 1510.41 Q710.521 1508.67 707.419 1508.67 Q705.22 1508.67 702.767 1509.43 Q700.336 1510.2 697.558 1511.75 L697.558 1507.03 Q700.382 1505.89 702.836 1505.31 Q705.29 1504.73 707.327 1504.73 Q712.697 1504.73 715.891 1507.42 Q719.086 1510.11 719.086 1514.6 Q719.086 1516.73 718.276 1518.65 Q717.489 1520.54 715.382 1523.14 Q714.804 1523.81 711.702 1527.03 Q708.6 1530.22 702.952 1535.98 Z\" fill=\"#000000\" fill-rule=\"evenodd\" fill-opacity=\"1\" /><path clip-path=\"url(#clip890)\" d=\"M 0 0 M724.387 1505.36 L742.743 1505.36 L742.743 1509.3 L728.669 1509.3 L728.669 1517.77 Q729.688 1517.42 730.706 1517.26 Q731.725 1517.07 732.743 1517.07 Q738.53 1517.07 741.91 1520.24 Q745.289 1523.42 745.289 1528.83 Q745.289 1534.41 741.817 1537.51 Q738.345 1540.59 732.026 1540.59 Q729.85 1540.59 727.581 1540.22 Q725.336 1539.85 722.928 1539.11 L722.928 1534.41 Q725.012 1535.54 727.234 1536.1 Q729.456 1536.66 731.933 1536.66 Q735.938 1536.66 738.276 1534.55 Q740.614 1532.44 740.614 1528.83 Q740.614 1525.22 738.276 1523.11 Q735.938 1521.01 731.933 1521.01 Q730.058 1521.01 728.183 1521.42 Q726.331 1521.84 724.387 1522.72 L724.387 1505.36 Z\" fill=\"#000000\" fill-rule=\"evenodd\" fill-opacity=\"1\" /><path clip-path=\"url(#clip890)\" d=\"M 0 0 M760.359 1508.44 Q756.748 1508.44 754.919 1512 Q753.113 1515.55 753.113 1522.67 Q753.113 1529.78 754.919 1533.35 Q756.748 1536.89 760.359 1536.89 Q763.993 1536.89 765.799 1533.35 Q767.627 1529.78 767.627 1522.67 Q767.627 1515.55 765.799 1512 Q763.993 1508.44 760.359 1508.44 M760.359 1504.73 Q766.169 1504.73 769.225 1509.34 Q772.303 1513.92 772.303 1522.67 Q772.303 1531.4 769.225 1536.01 Q766.169 1540.59 760.359 1540.59 Q754.549 1540.59 751.47 1536.01 Q748.414 1531.4 748.414 1522.67 Q748.414 1513.92 751.47 1509.34 Q754.549 1504.73 760.359 1504.73 Z\" fill=\"#000000\" fill-rule=\"evenodd\" fill-opacity=\"1\" /><path clip-path=\"url(#clip890)\" d=\"M 0 0 M787.373 1508.44 Q783.761 1508.44 781.933 1512 Q780.127 1515.55 780.127 1522.67 Q780.127 1529.78 781.933 1533.35 Q783.761 1536.89 787.373 1536.89 Q791.007 1536.89 792.812 1533.35 Q794.641 1529.78 794.641 1522.67 Q794.641 1515.55 792.812 1512 Q791.007 1508.44 787.373 1508.44 M787.373 1504.73 Q793.183 1504.73 796.238 1509.34 Q799.317 1513.92 799.317 1522.67 Q799.317 1531.4 796.238 1536.01 Q793.183 1540.59 787.373 1540.59 Q781.562 1540.59 778.484 1536.01 Q775.428 1531.4 775.428 1522.67 Q775.428 1513.92 778.484 1509.34 Q781.562 1504.73 787.373 1504.73 Z\" fill=\"#000000\" fill-rule=\"evenodd\" fill-opacity=\"1\" /><path clip-path=\"url(#clip890)\" d=\"M 0 0 M1211.66 1505.36 L1230.02 1505.36 L1230.02 1509.3 L1215.94 1509.3 L1215.94 1517.77 Q1216.96 1517.42 1217.98 1517.26 Q1219 1517.07 1220.02 1517.07 Q1225.81 1517.07 1229.19 1520.24 Q1232.56 1523.42 1232.56 1528.83 Q1232.56 1534.41 1229.09 1537.51 Q1225.62 1540.59 1219.3 1540.59 Q1217.13 1540.59 1214.86 1540.22 Q1212.61 1539.85 1210.2 1539.11 L1210.2 1534.41 Q1212.29 1535.54 1214.51 1536.1 Q1216.73 1536.66 1219.21 1536.66 Q1223.21 1536.66 1225.55 1534.55 Q1227.89 1532.44 1227.89 1528.83 Q1227.89 1525.22 1225.55 1523.11 Q1223.21 1521.01 1219.21 1521.01 Q1217.33 1521.01 1215.46 1521.42 Q1213.61 1521.84 1211.66 1522.72 L1211.66 1505.36 Z\" fill=\"#000000\" fill-rule=\"evenodd\" fill-opacity=\"1\" /><path clip-path=\"url(#clip890)\" d=\"M 0 0 M1247.63 1508.44 Q1244.02 1508.44 1242.19 1512 Q1240.39 1515.55 1240.39 1522.67 Q1240.39 1529.78 1242.19 1533.35 Q1244.02 1536.89 1247.63 1536.89 Q1251.27 1536.89 1253.07 1533.35 Q1254.9 1529.78 1254.9 1522.67 Q1254.9 1515.55 1253.07 1512 Q1251.27 1508.44 1247.63 1508.44 M1247.63 1504.73 Q1253.44 1504.73 1256.5 1509.34 Q1259.58 1513.92 1259.58 1522.67 Q1259.58 1531.4 1256.5 1536.01 Q1253.44 1540.59 1247.63 1540.59 Q1241.82 1540.59 1238.75 1536.01 Q1235.69 1531.4 1235.69 1522.67 Q1235.69 1513.92 1238.75 1509.34 Q1241.82 1504.73 1247.63 1504.73 Z\" fill=\"#000000\" fill-rule=\"evenodd\" fill-opacity=\"1\" /><path clip-path=\"url(#clip890)\" d=\"M 0 0 M1274.65 1508.44 Q1271.04 1508.44 1269.21 1512 Q1267.4 1515.55 1267.4 1522.67 Q1267.4 1529.78 1269.21 1533.35 Q1271.04 1536.89 1274.65 1536.89 Q1278.28 1536.89 1280.09 1533.35 Q1281.92 1529.78 1281.92 1522.67 Q1281.92 1515.55 1280.09 1512 Q1278.28 1508.44 1274.65 1508.44 M1274.65 1504.73 Q1280.46 1504.73 1283.51 1509.34 Q1286.59 1513.92 1286.59 1522.67 Q1286.59 1531.4 1283.51 1536.01 Q1280.46 1540.59 1274.65 1540.59 Q1268.84 1540.59 1265.76 1536.01 Q1262.7 1531.4 1262.7 1522.67 Q1262.7 1513.92 1265.76 1509.34 Q1268.84 1504.73 1274.65 1504.73 Z\" fill=\"#000000\" fill-rule=\"evenodd\" fill-opacity=\"1\" /><path clip-path=\"url(#clip890)\" d=\"M 0 0 M1301.66 1508.44 Q1298.05 1508.44 1296.22 1512 Q1294.42 1515.55 1294.42 1522.67 Q1294.42 1529.78 1296.22 1533.35 Q1298.05 1536.89 1301.66 1536.89 Q1305.3 1536.89 1307.1 1533.35 Q1308.93 1529.78 1308.93 1522.67 Q1308.93 1515.55 1307.1 1512 Q1305.3 1508.44 1301.66 1508.44 M1301.66 1504.73 Q1307.47 1504.73 1310.53 1509.34 Q1313.61 1513.92 1313.61 1522.67 Q1313.61 1531.4 1310.53 1536.01 Q1307.47 1540.59 1301.66 1540.59 Q1295.85 1540.59 1292.77 1536.01 Q1289.72 1531.4 1289.72 1522.67 Q1289.72 1513.92 1292.77 1509.34 Q1295.85 1504.73 1301.66 1504.73 Z\" fill=\"#000000\" fill-rule=\"evenodd\" fill-opacity=\"1\" /><path clip-path=\"url(#clip890)\" d=\"M 0 0 M1724.35 1505.36 L1746.58 1505.36 L1746.58 1507.35 L1734.03 1539.92 L1729.15 1539.92 L1740.95 1509.3 L1724.35 1509.3 L1724.35 1505.36 Z\" fill=\"#000000\" fill-rule=\"evenodd\" fill-opacity=\"1\" /><path clip-path=\"url(#clip890)\" d=\"M 0 0 M1751.69 1505.36 L1770.05 1505.36 L1770.05 1509.3 L1755.97 1509.3 L1755.97 1517.77 Q1756.99 1517.42 1758.01 1517.26 Q1759.03 1517.07 1760.05 1517.07 Q1765.84 1517.07 1769.22 1520.24 Q1772.59 1523.42 1772.59 1528.83 Q1772.59 1534.41 1769.12 1537.51 Q1765.65 1540.59 1759.33 1540.59 Q1757.16 1540.59 1754.89 1540.22 Q1752.64 1539.85 1750.23 1539.11 L1750.23 1534.41 Q1752.32 1535.54 1754.54 1536.1 Q1756.76 1536.66 1759.24 1536.66 Q1763.24 1536.66 1765.58 1534.55 Q1767.92 1532.44 1767.92 1528.83 Q1767.92 1525.22 1765.58 1523.11 Q1763.24 1521.01 1759.24 1521.01 Q1757.36 1521.01 1755.49 1521.42 Q1753.64 1521.84 1751.69 1522.72 L1751.69 1505.36 Z\" fill=\"#000000\" fill-rule=\"evenodd\" fill-opacity=\"1\" /><path clip-path=\"url(#clip890)\" d=\"M 0 0 M1787.66 1508.44 Q1784.05 1508.44 1782.22 1512 Q1780.42 1515.55 1780.42 1522.67 Q1780.42 1529.78 1782.22 1533.35 Q1784.05 1536.89 1787.66 1536.89 Q1791.3 1536.89 1793.1 1533.35 Q1794.93 1529.78 1794.93 1522.67 Q1794.93 1515.55 1793.1 1512 Q1791.3 1508.44 1787.66 1508.44 M1787.66 1504.73 Q1793.47 1504.73 1796.53 1509.34 Q1799.61 1513.92 1799.61 1522.67 Q1799.61 1531.4 1796.53 1536.01 Q1793.47 1540.59 1787.66 1540.59 Q1781.85 1540.59 1778.78 1536.01 Q1775.72 1531.4 1775.72 1522.67 Q1775.72 1513.92 1778.78 1509.34 Q1781.85 1504.73 1787.66 1504.73 Z\" fill=\"#000000\" fill-rule=\"evenodd\" fill-opacity=\"1\" /><path clip-path=\"url(#clip890)\" d=\"M 0 0 M1814.68 1508.44 Q1811.07 1508.44 1809.24 1512 Q1807.43 1515.55 1807.43 1522.67 Q1807.43 1529.78 1809.24 1533.35 Q1811.07 1536.89 1814.68 1536.89 Q1818.31 1536.89 1820.12 1533.35 Q1821.95 1529.78 1821.95 1522.67 Q1821.95 1515.55 1820.12 1512 Q1818.31 1508.44 1814.68 1508.44 M1814.68 1504.73 Q1820.49 1504.73 1823.54 1509.34 Q1826.62 1513.92 1826.62 1522.67 Q1826.62 1531.4 1823.54 1536.01 Q1820.49 1540.59 1814.68 1540.59 Q1808.87 1540.59 1805.79 1536.01 Q1802.73 1531.4 1802.73 1522.67 Q1802.73 1513.92 1805.79 1509.34 Q1808.87 1504.73 1814.68 1504.73 Z\" fill=\"#000000\" fill-rule=\"evenodd\" fill-opacity=\"1\" /><path clip-path=\"url(#clip890)\" d=\"M 0 0 M2225.43 1535.98 L2233.06 1535.98 L2233.06 1509.62 L2224.75 1511.29 L2224.75 1507.03 L2233.02 1505.36 L2237.69 1505.36 L2237.69 1535.98 L2245.33 1535.98 L2245.33 1539.92 L2225.43 1539.92 L2225.43 1535.98 Z\" fill=\"#000000\" fill-rule=\"evenodd\" fill-opacity=\"1\" /><path clip-path=\"url(#clip890)\" d=\"M 0 0 M2260.4 1508.44 Q2256.79 1508.44 2254.96 1512 Q2253.16 1515.55 2253.16 1522.67 Q2253.16 1529.78 2254.96 1533.35 Q2256.79 1536.89 2260.4 1536.89 Q2264.04 1536.89 2265.84 1533.35 Q2267.67 1529.78 2267.67 1522.67 Q2267.67 1515.55 2265.84 1512 Q2264.04 1508.44 2260.4 1508.44 M2260.4 1504.73 Q2266.21 1504.73 2269.27 1509.34 Q2272.35 1513.92 2272.35 1522.67 Q2272.35 1531.4 2269.27 1536.01 Q2266.21 1540.59 2260.4 1540.59 Q2254.59 1540.59 2251.51 1536.01 Q2248.46 1531.4 2248.46 1522.67 Q2248.46 1513.92 2251.51 1509.34 Q2254.59 1504.73 2260.4 1504.73 Z\" fill=\"#000000\" fill-rule=\"evenodd\" fill-opacity=\"1\" /><path clip-path=\"url(#clip890)\" d=\"M 0 0 M2287.42 1508.44 Q2283.81 1508.44 2281.98 1512 Q2280.17 1515.55 2280.17 1522.67 Q2280.17 1529.78 2281.98 1533.35 Q2283.81 1536.89 2287.42 1536.89 Q2291.05 1536.89 2292.86 1533.35 Q2294.68 1529.78 2294.68 1522.67 Q2294.68 1515.55 2292.86 1512 Q2291.05 1508.44 2287.42 1508.44 M2287.42 1504.73 Q2293.23 1504.73 2296.28 1509.34 Q2299.36 1513.92 2299.36 1522.67 Q2299.36 1531.4 2296.28 1536.01 Q2293.23 1540.59 2287.42 1540.59 Q2281.61 1540.59 2278.53 1536.01 Q2275.47 1531.4 2275.47 1522.67 Q2275.47 1513.92 2278.53 1509.34 Q2281.61 1504.73 2287.42 1504.73 Z\" fill=\"#000000\" fill-rule=\"evenodd\" fill-opacity=\"1\" /><path clip-path=\"url(#clip890)\" d=\"M 0 0 M2314.43 1508.44 Q2310.82 1508.44 2308.99 1512 Q2307.18 1515.55 2307.18 1522.67 Q2307.18 1529.78 2308.99 1533.35 Q2310.82 1536.89 2314.43 1536.89 Q2318.06 1536.89 2319.87 1533.35 Q2321.7 1529.78 2321.7 1522.67 Q2321.7 1515.55 2319.87 1512 Q2318.06 1508.44 2314.43 1508.44 M2314.43 1504.73 Q2320.24 1504.73 2323.3 1509.34 Q2326.37 1513.92 2326.37 1522.67 Q2326.37 1531.4 2323.3 1536.01 Q2320.24 1540.59 2314.43 1540.59 Q2308.62 1540.59 2305.54 1536.01 Q2302.49 1531.4 2302.49 1522.67 Q2302.49 1513.92 2305.54 1509.34 Q2308.62 1504.73 2314.43 1504.73 Z\" fill=\"#000000\" fill-rule=\"evenodd\" fill-opacity=\"1\" /><path clip-path=\"url(#clip890)\" d=\"M 0 0 M2341.44 1508.44 Q2337.83 1508.44 2336 1512 Q2334.2 1515.55 2334.2 1522.67 Q2334.2 1529.78 2336 1533.35 Q2337.83 1536.89 2341.44 1536.89 Q2345.08 1536.89 2346.88 1533.35 Q2348.71 1529.78 2348.71 1522.67 Q2348.71 1515.55 2346.88 1512 Q2345.08 1508.44 2341.44 1508.44 M2341.44 1504.73 Q2347.25 1504.73 2350.31 1509.34 Q2353.39 1513.92 2353.39 1522.67 Q2353.39 1531.4 2350.31 1536.01 Q2347.25 1540.59 2341.44 1540.59 Q2335.63 1540.59 2332.56 1536.01 Q2329.5 1531.4 2329.5 1522.67 Q2329.5 1513.92 2332.56 1509.34 Q2335.63 1504.73 2341.44 1504.73 Z\" fill=\"#000000\" fill-rule=\"evenodd\" fill-opacity=\"1\" /><path clip-path=\"url(#clip890)\" d=\"M 0 0 M77.0198 1357.74 Q73.4087 1357.74 71.58 1361.3 Q69.7745 1364.84 69.7745 1371.97 Q69.7745 1379.08 71.58 1382.64 Q73.4087 1386.18 77.0198 1386.18 Q80.6541 1386.18 82.4596 1382.64 Q84.2883 1379.08 84.2883 1371.97 Q84.2883 1364.84 82.4596 1361.3 Q80.6541 1357.74 77.0198 1357.74 M77.0198 1354.03 Q82.83 1354.03 85.8855 1358.64 Q88.9642 1363.22 88.9642 1371.97 Q88.9642 1380.7 85.8855 1385.3 Q82.83 1389.89 77.0198 1389.89 Q71.2097 1389.89 68.131 1385.3 Q65.0754 1380.7 65.0754 1371.97 Q65.0754 1363.22 68.131 1358.64 Q71.2097 1354.03 77.0198 1354.03 Z\" fill=\"#000000\" fill-rule=\"evenodd\" fill-opacity=\"1\" /><path clip-path=\"url(#clip890)\" d=\"M 0 0 M94.0336 1383.34 L98.9179 1383.34 L98.9179 1389.22 L94.0336 1389.22 L94.0336 1383.34 Z\" fill=\"#000000\" fill-rule=\"evenodd\" fill-opacity=\"1\" /><path clip-path=\"url(#clip890)\" d=\"M 0 0 M104.126 1388.5 L104.126 1384.24 Q105.885 1385.07 107.691 1385.51 Q109.497 1385.95 111.233 1385.95 Q115.862 1385.95 118.293 1382.85 Q120.746 1379.73 121.094 1373.38 Q119.751 1375.37 117.691 1376.44 Q115.631 1377.5 113.131 1377.5 Q107.946 1377.5 104.913 1374.38 Q101.904 1371.23 101.904 1365.79 Q101.904 1360.47 105.052 1357.25 Q108.2 1354.03 113.432 1354.03 Q119.427 1354.03 122.575 1358.64 Q125.746 1363.22 125.746 1371.97 Q125.746 1380.14 121.858 1385.03 Q117.992 1389.89 111.441 1389.89 Q109.682 1389.89 107.876 1389.54 Q106.071 1389.19 104.126 1388.5 M113.432 1373.85 Q116.58 1373.85 118.408 1371.69 Q120.26 1369.54 120.26 1365.79 Q120.26 1362.06 118.408 1359.91 Q116.58 1357.74 113.432 1357.74 Q110.284 1357.74 108.432 1359.91 Q106.603 1362.06 106.603 1365.79 Q106.603 1369.54 108.432 1371.69 Q110.284 1373.85 113.432 1373.85 Z\" fill=\"#000000\" fill-rule=\"evenodd\" fill-opacity=\"1\" /><path clip-path=\"url(#clip890)\" d=\"M 0 0 M134.844 1385.28 L151.163 1385.28 L151.163 1389.22 L129.219 1389.22 L129.219 1385.28 Q131.881 1382.53 136.464 1377.9 Q141.07 1373.24 142.251 1371.9 Q144.496 1369.38 145.376 1367.64 Q146.279 1365.88 146.279 1364.19 Q146.279 1361.44 144.334 1359.7 Q142.413 1357.97 139.311 1357.97 Q137.112 1357.97 134.658 1358.73 Q132.228 1359.49 129.45 1361.05 L129.45 1356.32 Q132.274 1355.19 134.728 1354.61 Q137.182 1354.03 139.219 1354.03 Q144.589 1354.03 147.783 1356.72 Q150.978 1359.4 150.978 1363.89 Q150.978 1366.02 150.168 1367.94 Q149.381 1369.84 147.274 1372.43 Q146.695 1373.11 143.594 1376.32 Q140.492 1379.52 134.844 1385.28 Z\" fill=\"#000000\" fill-rule=\"evenodd\" fill-opacity=\"1\" /><path clip-path=\"url(#clip890)\" d=\"M 0 0 M74.9365 1036.75 Q71.3254 1036.75 69.4967 1040.31 Q67.6912 1043.85 67.6912 1050.98 Q67.6912 1058.09 69.4967 1061.65 Q71.3254 1065.19 74.9365 1065.19 Q78.5707 1065.19 80.3763 1061.65 Q82.205 1058.09 82.205 1050.98 Q82.205 1043.85 80.3763 1040.31 Q78.5707 1036.75 74.9365 1036.75 M74.9365 1033.04 Q80.7467 1033.04 83.8022 1037.65 Q86.8809 1042.23 86.8809 1050.98 Q86.8809 1059.71 83.8022 1064.31 Q80.7467 1068.9 74.9365 1068.9 Q69.1264 1068.9 66.0477 1064.31 Q62.9921 1059.71 62.9921 1050.98 Q62.9921 1042.23 66.0477 1037.65 Q69.1264 1033.04 74.9365 1033.04 Z\" fill=\"#000000\" fill-rule=\"evenodd\" fill-opacity=\"1\" /><path clip-path=\"url(#clip890)\" d=\"M 0 0 M91.9503 1062.35 L96.8345 1062.35 L96.8345 1068.23 L91.9503 1068.23 L91.9503 1062.35 Z\" fill=\"#000000\" fill-rule=\"evenodd\" fill-opacity=\"1\" /><path clip-path=\"url(#clip890)\" d=\"M 0 0 M102.043 1067.51 L102.043 1063.25 Q103.802 1064.08 105.608 1064.52 Q107.413 1064.96 109.149 1064.96 Q113.779 1064.96 116.209 1061.86 Q118.663 1058.74 119.01 1052.39 Q117.668 1054.38 115.608 1055.45 Q113.547 1056.51 111.047 1056.51 Q105.862 1056.51 102.83 1053.39 Q99.8206 1050.24 99.8206 1044.8 Q99.8206 1039.48 102.969 1036.26 Q106.117 1033.04 111.348 1033.04 Q117.344 1033.04 120.492 1037.65 Q123.663 1042.23 123.663 1050.98 Q123.663 1059.15 119.774 1064.04 Q115.909 1068.9 109.358 1068.9 Q107.598 1068.9 105.793 1068.55 Q103.987 1068.2 102.043 1067.51 M111.348 1052.86 Q114.496 1052.86 116.325 1050.7 Q118.177 1048.55 118.177 1044.8 Q118.177 1041.07 116.325 1038.92 Q114.496 1036.75 111.348 1036.75 Q108.2 1036.75 106.348 1038.92 Q104.52 1041.07 104.52 1044.8 Q104.52 1048.55 106.348 1050.7 Q108.2 1052.86 111.348 1052.86 Z\" fill=\"#000000\" fill-rule=\"evenodd\" fill-opacity=\"1\" /><path clip-path=\"url(#clip890)\" d=\"M 0 0 M141.58 1037.74 L129.774 1056.19 L141.58 1056.19 L141.58 1037.74 M140.353 1033.67 L146.232 1033.67 L146.232 1056.19 L151.163 1056.19 L151.163 1060.08 L146.232 1060.08 L146.232 1068.23 L141.58 1068.23 L141.58 1060.08 L125.978 1060.08 L125.978 1055.56 L140.353 1033.67 Z\" fill=\"#000000\" fill-rule=\"evenodd\" fill-opacity=\"1\" /><path clip-path=\"url(#clip890)\" d=\"M 0 0 M75.2606 715.755 Q71.6495 715.755 69.8208 719.32 Q68.0152 722.862 68.0152 729.991 Q68.0152 737.098 69.8208 740.662 Q71.6495 744.204 75.2606 744.204 Q78.8948 744.204 80.7004 740.662 Q82.5291 737.098 82.5291 729.991 Q82.5291 722.862 80.7004 719.32 Q78.8948 715.755 75.2606 715.755 M75.2606 712.051 Q81.0707 712.051 84.1263 716.658 Q87.205 721.241 87.205 729.991 Q87.205 738.718 84.1263 743.324 Q81.0707 747.908 75.2606 747.908 Q69.4504 747.908 66.3717 743.324 Q63.3162 738.718 63.3162 729.991 Q63.3162 721.241 66.3717 716.658 Q69.4504 712.051 75.2606 712.051 Z\" fill=\"#000000\" fill-rule=\"evenodd\" fill-opacity=\"1\" /><path clip-path=\"url(#clip890)\" d=\"M 0 0 M92.2744 741.357 L97.1586 741.357 L97.1586 747.236 L92.2744 747.236 L92.2744 741.357 Z\" fill=\"#000000\" fill-rule=\"evenodd\" fill-opacity=\"1\" /><path clip-path=\"url(#clip890)\" d=\"M 0 0 M102.367 746.519 L102.367 742.26 Q104.126 743.093 105.932 743.533 Q107.737 743.973 109.473 743.973 Q114.103 743.973 116.534 740.871 Q118.987 737.746 119.334 731.403 Q117.992 733.394 115.932 734.459 Q113.871 735.524 111.371 735.524 Q106.186 735.524 103.154 732.399 Q100.145 729.25 100.145 723.811 Q100.145 718.487 103.293 715.269 Q106.441 712.051 111.672 712.051 Q117.668 712.051 120.816 716.658 Q123.987 721.241 123.987 729.991 Q123.987 738.162 120.098 743.047 Q116.233 747.908 109.682 747.908 Q107.922 747.908 106.117 747.561 Q104.311 747.213 102.367 746.519 M111.672 731.866 Q114.821 731.866 116.649 729.713 Q118.501 727.561 118.501 723.811 Q118.501 720.084 116.649 717.931 Q114.821 715.755 111.672 715.755 Q108.524 715.755 106.672 717.931 Q104.844 720.084 104.844 723.811 Q104.844 727.561 106.672 729.713 Q108.524 731.866 111.672 731.866 Z\" fill=\"#000000\" fill-rule=\"evenodd\" fill-opacity=\"1\" /><path clip-path=\"url(#clip890)\" d=\"M 0 0 M139.635 728.093 Q136.487 728.093 134.635 730.246 Q132.807 732.399 132.807 736.149 Q132.807 739.875 134.635 742.051 Q136.487 744.204 139.635 744.204 Q142.783 744.204 144.612 742.051 Q146.464 739.875 146.464 736.149 Q146.464 732.399 144.612 730.246 Q142.783 728.093 139.635 728.093 M148.918 713.44 L148.918 717.7 Q147.158 716.866 145.353 716.426 Q143.57 715.987 141.811 715.987 Q137.182 715.987 134.728 719.112 Q132.297 722.237 131.95 728.556 Q133.316 726.542 135.376 725.477 Q137.436 724.389 139.913 724.389 Q145.121 724.389 148.131 727.561 Q151.163 730.709 151.163 736.149 Q151.163 741.473 148.015 744.69 Q144.867 747.908 139.635 747.908 Q133.64 747.908 130.469 743.324 Q127.297 738.718 127.297 729.991 Q127.297 721.797 131.186 716.936 Q135.075 712.051 141.626 712.051 Q143.385 712.051 145.168 712.399 Q146.973 712.746 148.918 713.44 Z\" fill=\"#000000\" fill-rule=\"evenodd\" fill-opacity=\"1\" /><path clip-path=\"url(#clip890)\" d=\"M 0 0 M75.5152 394.765 Q71.9041 394.765 70.0754 398.33 Q68.2699 401.871 68.2699 409.001 Q68.2699 416.108 70.0754 419.672 Q71.9041 423.214 75.5152 423.214 Q79.1494 423.214 80.955 419.672 Q82.7837 416.108 82.7837 409.001 Q82.7837 401.871 80.955 398.33 Q79.1494 394.765 75.5152 394.765 M75.5152 391.061 Q81.3254 391.061 84.3809 395.668 Q87.4596 400.251 87.4596 409.001 Q87.4596 417.728 84.3809 422.334 Q81.3254 426.918 75.5152 426.918 Q69.7051 426.918 66.6264 422.334 Q63.5708 417.728 63.5708 409.001 Q63.5708 400.251 66.6264 395.668 Q69.7051 391.061 75.5152 391.061 Z\" fill=\"#000000\" fill-rule=\"evenodd\" fill-opacity=\"1\" /><path clip-path=\"url(#clip890)\" d=\"M 0 0 M92.529 420.367 L97.4132 420.367 L97.4132 426.246 L92.529 426.246 L92.529 420.367 Z\" fill=\"#000000\" fill-rule=\"evenodd\" fill-opacity=\"1\" /><path clip-path=\"url(#clip890)\" d=\"M 0 0 M102.622 425.529 L102.622 421.27 Q104.381 422.103 106.186 422.543 Q107.992 422.982 109.728 422.982 Q114.358 422.982 116.788 419.881 Q119.242 416.756 119.589 410.413 Q118.246 412.404 116.186 413.469 Q114.126 414.533 111.626 414.533 Q106.441 414.533 103.409 411.408 Q100.399 408.26 100.399 402.821 Q100.399 397.497 103.547 394.279 Q106.696 391.061 111.927 391.061 Q117.922 391.061 121.071 395.668 Q124.242 400.251 124.242 409.001 Q124.242 417.172 120.353 422.057 Q116.487 426.918 109.936 426.918 Q108.177 426.918 106.372 426.57 Q104.566 426.223 102.622 425.529 M111.927 410.876 Q115.075 410.876 116.904 408.723 Q118.756 406.571 118.756 402.821 Q118.756 399.094 116.904 396.941 Q115.075 394.765 111.927 394.765 Q108.779 394.765 106.927 396.941 Q105.098 399.094 105.098 402.821 Q105.098 406.571 106.927 408.723 Q108.779 410.876 111.927 410.876 Z\" fill=\"#000000\" fill-rule=\"evenodd\" fill-opacity=\"1\" /><path clip-path=\"url(#clip890)\" d=\"M 0 0 M139.311 409.834 Q135.978 409.834 134.057 411.617 Q132.158 413.399 132.158 416.524 Q132.158 419.649 134.057 421.432 Q135.978 423.214 139.311 423.214 Q142.644 423.214 144.566 421.432 Q146.487 419.626 146.487 416.524 Q146.487 413.399 144.566 411.617 Q142.668 409.834 139.311 409.834 M134.635 407.844 Q131.626 407.103 129.936 405.043 Q128.27 402.983 128.27 400.02 Q128.27 395.876 131.209 393.469 Q134.172 391.061 139.311 391.061 Q144.473 391.061 147.413 393.469 Q150.353 395.876 150.353 400.02 Q150.353 402.983 148.663 405.043 Q146.996 407.103 144.01 407.844 Q147.39 408.631 149.265 410.922 Q151.163 413.214 151.163 416.524 Q151.163 421.547 148.084 424.232 Q145.029 426.918 139.311 426.918 Q133.594 426.918 130.515 424.232 Q127.459 421.547 127.459 416.524 Q127.459 413.214 129.358 410.922 Q131.256 408.631 134.635 407.844 M132.922 400.459 Q132.922 403.145 134.589 404.649 Q136.279 406.154 139.311 406.154 Q142.32 406.154 144.01 404.649 Q145.723 403.145 145.723 400.459 Q145.723 397.774 144.01 396.27 Q142.32 394.765 139.311 394.765 Q136.279 394.765 134.589 396.27 Q132.922 397.774 132.922 400.459 Z\" fill=\"#000000\" fill-rule=\"evenodd\" fill-opacity=\"1\" /><path clip-path=\"url(#clip890)\" d=\"M 0 0 M67.2745 101.321 L74.9134 101.321 L74.9134 74.9555 L66.6032 76.6222 L66.6032 72.3629 L74.8671 70.6963 L79.543 70.6963 L79.543 101.321 L87.1818 101.321 L87.1818 105.256 L67.2745 105.256 L67.2745 101.321 Z\" fill=\"#000000\" fill-rule=\"evenodd\" fill-opacity=\"1\" /><path clip-path=\"url(#clip890)\" d=\"M 0 0 M92.2512 99.3767 L97.1355 99.3767 L97.1355 105.256 L92.2512 105.256 L92.2512 99.3767 Z\" fill=\"#000000\" fill-rule=\"evenodd\" fill-opacity=\"1\" /><path clip-path=\"url(#clip890)\" d=\"M 0 0 M112.205 73.775 Q108.594 73.775 106.765 77.3398 Q104.959 80.8814 104.959 88.011 Q104.959 95.1174 106.765 98.6822 Q108.594 102.224 112.205 102.224 Q115.839 102.224 117.645 98.6822 Q119.473 95.1174 119.473 88.011 Q119.473 80.8814 117.645 77.3398 Q115.839 73.775 112.205 73.775 M112.205 70.0713 Q118.015 70.0713 121.071 74.6777 Q124.149 79.261 124.149 88.011 Q124.149 96.7378 121.071 101.344 Q118.015 105.928 112.205 105.928 Q106.395 105.928 103.316 101.344 Q100.26 96.7378 100.26 88.011 Q100.26 79.261 103.316 74.6777 Q106.395 70.0713 112.205 70.0713 Z\" fill=\"#000000\" fill-rule=\"evenodd\" fill-opacity=\"1\" /><path clip-path=\"url(#clip890)\" d=\"M 0 0 M139.219 73.775 Q135.607 73.775 133.779 77.3398 Q131.973 80.8814 131.973 88.011 Q131.973 95.1174 133.779 98.6822 Q135.607 102.224 139.219 102.224 Q142.853 102.224 144.658 98.6822 Q146.487 95.1174 146.487 88.011 Q146.487 80.8814 144.658 77.3398 Q142.853 73.775 139.219 73.775 M139.219 70.0713 Q145.029 70.0713 148.084 74.6777 Q151.163 79.261 151.163 88.011 Q151.163 96.7378 148.084 101.344 Q145.029 105.928 139.219 105.928 Q133.408 105.928 130.33 101.344 Q127.274 96.7378 127.274 88.011 Q127.274 79.261 130.33 74.6777 Q133.408 70.0713 139.219 70.0713 Z\" fill=\"#000000\" fill-rule=\"evenodd\" fill-opacity=\"1\" /><polyline clip-path=\"url(#clip892)\" style=\"stroke:#009af9; stroke-width:4; stroke-opacity:1; fill:none\" points=\"\n",
       "  236.793,87.9763 277.88,87.9763 318.966,87.9763 360.053,87.9763 401.14,87.9763 442.226,87.9763 483.313,87.9763 524.4,87.9763 565.486,87.9763 606.573,87.9763 \n",
       "  647.66,87.9763 688.746,87.9763 729.833,87.9763 770.92,87.9763 812.006,87.9763 853.093,87.9763 894.179,87.9763 935.266,87.9763 976.353,87.9763 1017.44,87.9763 \n",
       "  1058.53,87.9763 1099.61,87.9763 1140.7,87.9763 1181.79,87.9763 1222.87,87.9763 1263.96,87.9763 1305.05,87.9763 1346.13,87.9763 1387.22,87.9763 1428.31,87.9763 \n",
       "  1469.39,87.9763 1510.48,87.9763 1551.57,87.9763 1592.65,87.9763 1633.74,87.9763 1674.83,87.9763 1715.91,87.9763 1757,87.9763 1798.09,87.9763 1839.17,87.9763 \n",
       "  1880.26,87.9763 1921.35,87.9763 1962.43,87.9763 2003.52,87.9763 2044.61,87.9763 2085.69,87.9763 2126.78,87.9763 2167.87,87.9763 2208.95,87.9763 2250.04,87.9763 \n",
       "  2291.13,87.9763 \n",
       "  \"/>\n",
       "<polyline clip-path=\"url(#clip892)\" style=\"stroke:#e26f46; stroke-width:4; stroke-opacity:1; fill:none\" points=\"\n",
       "  236.793,1439.31 277.88,1439.31 318.966,1439.31 360.053,1432.91 401.14,1432.91 442.226,1432.91 483.313,1432.91 524.4,1426.5 565.486,1426.5 606.573,1426.5 \n",
       "  647.66,1426.5 688.746,1426.5 729.833,1439.31 770.92,1439.31 812.006,1432.91 853.093,1432.91 894.179,1439.31 935.266,1439.31 976.353,1445.72 1017.44,1445.72 \n",
       "  1058.53,1445.72 1099.61,1426.5 1140.7,1420.1 1181.79,1426.5 1222.87,1426.5 1263.96,1432.91 1305.05,1432.91 1346.13,1426.5 1387.22,1426.5 1428.31,1420.1 \n",
       "  1469.39,1413.69 1510.48,1413.69 1551.57,1413.69 1592.65,1407.29 1633.74,1420.1 1674.83,1426.5 1715.91,1420.1 1757,1420.1 1798.09,1426.5 1839.17,1420.1 \n",
       "  1880.26,1426.5 1921.35,1413.69 1962.43,1407.29 2003.52,1407.29 2044.61,1407.29 2085.69,1420.1 2126.78,1426.5 2167.87,1420.1 2208.95,1407.29 2250.04,1407.29 \n",
       "  2291.13,1400.88 \n",
       "  \"/>\n",
       "<path clip-path=\"url(#clip890)\" d=\"\n",
       "M1987.2 276.658 L2280.17 276.658 L2280.17 95.2176 L1987.2 95.2176  Z\n",
       "  \" fill=\"#ffffff\" fill-rule=\"evenodd\" fill-opacity=\"1\"/>\n",
       "<polyline clip-path=\"url(#clip890)\" style=\"stroke:#000000; stroke-width:4; stroke-opacity:1; fill:none\" points=\"\n",
       "  1987.2,276.658 2280.17,276.658 2280.17,95.2176 1987.2,95.2176 1987.2,276.658 \n",
       "  \"/>\n",
       "<polyline clip-path=\"url(#clip890)\" style=\"stroke:#009af9; stroke-width:4; stroke-opacity:1; fill:none\" points=\"\n",
       "  2011.39,155.698 2156.56,155.698 \n",
       "  \"/>\n",
       "<path clip-path=\"url(#clip890)\" d=\"M 0 0 M2194.6 175.385 Q2192.8 180.015 2191.08 181.427 Q2189.37 182.839 2186.5 182.839 L2183.1 182.839 L2183.1 179.274 L2185.6 179.274 Q2187.36 179.274 2188.33 178.44 Q2189.3 177.607 2190.48 174.505 L2191.25 172.561 L2180.76 147.052 L2185.27 147.052 L2193.38 167.329 L2201.48 147.052 L2205.99 147.052 L2194.6 175.385 Z\" fill=\"#000000\" fill-rule=\"evenodd\" fill-opacity=\"1\" /><path clip-path=\"url(#clip890)\" d=\"M 0 0 M2211.87 169.042 L2219.51 169.042 L2219.51 142.677 L2211.2 144.343 L2211.2 140.084 L2219.46 138.418 L2224.14 138.418 L2224.14 169.042 L2231.78 169.042 L2231.78 172.978 L2211.87 172.978 L2211.87 169.042 Z\" fill=\"#000000\" fill-rule=\"evenodd\" fill-opacity=\"1\" /><polyline clip-path=\"url(#clip890)\" style=\"stroke:#e26f46; stroke-width:4; stroke-opacity:1; fill:none\" points=\"\n",
       "  2011.39,216.178 2156.56,216.178 \n",
       "  \"/>\n",
       "<path clip-path=\"url(#clip890)\" d=\"M 0 0 M2194.6 235.865 Q2192.8 240.495 2191.08 241.907 Q2189.37 243.319 2186.5 243.319 L2183.1 243.319 L2183.1 239.754 L2185.6 239.754 Q2187.36 239.754 2188.33 238.92 Q2189.3 238.087 2190.48 234.985 L2191.25 233.041 L2180.76 207.532 L2185.27 207.532 L2193.38 227.809 L2201.48 207.532 L2205.99 207.532 L2194.6 235.865 Z\" fill=\"#000000\" fill-rule=\"evenodd\" fill-opacity=\"1\" /><path clip-path=\"url(#clip890)\" d=\"M 0 0 M2215.09 229.522 L2231.41 229.522 L2231.41 233.458 L2209.46 233.458 L2209.46 229.522 Q2212.13 226.768 2216.71 222.138 Q2221.32 217.485 2222.5 216.143 Q2224.74 213.62 2225.62 211.884 Q2226.52 210.124 2226.52 208.435 Q2226.52 205.68 2224.58 203.944 Q2222.66 202.208 2219.56 202.208 Q2217.36 202.208 2214.9 202.972 Q2212.47 203.735 2209.7 205.286 L2209.7 200.564 Q2212.52 199.43 2214.97 198.851 Q2217.43 198.273 2219.46 198.273 Q2224.83 198.273 2228.03 200.958 Q2231.22 203.643 2231.22 208.134 Q2231.22 210.263 2230.41 212.185 Q2229.63 214.083 2227.52 216.675 Q2226.94 217.347 2223.84 220.564 Q2220.74 223.759 2215.09 229.522 Z\" fill=\"#000000\" fill-rule=\"evenodd\" fill-opacity=\"1\" /></svg>\n"
      ]
     },
     "execution_count": 62,
     "metadata": {},
     "output_type": "execute_result"
    }
   ],
   "source": [
    "plot(data_schedule, training_losses)\n",
    "plot!(data_schedule, valid_losses)"
   ]
  },
  {
   "cell_type": "markdown",
   "metadata": {},
   "source": [
    "# Final Results"
   ]
  },
  {
   "cell_type": "markdown",
   "metadata": {},
   "source": [
    "Linear SVM"
   ]
  },
  {
   "cell_type": "code",
   "execution_count": 63,
   "metadata": {},
   "outputs": [
    {
     "data": {
      "text/plain": [
       "SVMClassifier(\n",
       "    C = 5.860511487667402,\n",
       "    kernel = \"linear\",\n",
       "    degree = 3,\n",
       "    gamma = \"auto\",\n",
       "    coef0 = 0.0,\n",
       "    shrinking = true,\n",
       "    tol = 0.001,\n",
       "    cache_size = 1000,\n",
       "    max_iter = -1,\n",
       "    decision_function_shape = \"ovr\",\n",
       "    random_state = nothing)\u001b[34m @594\u001b[39m"
      ]
     },
     "execution_count": 63,
     "metadata": {},
     "output_type": "execute_result"
    }
   ],
   "source": [
    "final_svm = SVMClassifier(kernel=\"linear\", C = best_C, cache_size=1000)"
   ]
  },
  {
   "cell_type": "code",
   "execution_count": 64,
   "metadata": {},
   "outputs": [
    {
     "data": {
      "text/plain": [
       "\u001b[34mMachine{SVMClassifier} @862\u001b[39m trained 0 times.\n",
       "  args: \n",
       "    1:\t\u001b[34mSource @298\u001b[39m ⏎ `Table{AbstractArray{Continuous,1}}`\n",
       "    2:\t\u001b[34mSource @641\u001b[39m ⏎ `AbstractArray{OrderedFactor{2},1}`\n"
      ]
     },
     "execution_count": 64,
     "metadata": {},
     "output_type": "execute_result"
    }
   ],
   "source": [
    "Final_SVM = machine(final_svm, X, y)"
   ]
  },
  {
   "cell_type": "code",
   "execution_count": 65,
   "metadata": {},
   "outputs": [
    {
     "name": "stderr",
     "output_type": "stream",
     "text": [
      "┌ Info: Training \u001b[34mMachine{SVMClassifier} @862\u001b[39m.\n",
      "└ @ MLJBase /home/andrew/.julia/packages/MLJBase/uKzAz/src/machines.jl:319\n"
     ]
    },
    {
     "data": {
      "text/plain": [
       "\u001b[34mMachine{SVMClassifier} @862\u001b[39m trained 1 time.\n",
       "  args: \n",
       "    1:\t\u001b[34mSource @298\u001b[39m ⏎ `Table{AbstractArray{Continuous,1}}`\n",
       "    2:\t\u001b[34mSource @641\u001b[39m ⏎ `AbstractArray{OrderedFactor{2},1}`\n"
      ]
     },
     "execution_count": 65,
     "metadata": {},
     "output_type": "execute_result"
    }
   ],
   "source": [
    "fit!(Final_SVM, rows=train, verbosity=2)"
   ]
  },
  {
   "cell_type": "code",
   "execution_count": 66,
   "metadata": {},
   "outputs": [],
   "source": [
    "ŷ2 = MLJ.predict(Final_SVM, X[test,:]);"
   ]
  },
  {
   "cell_type": "code",
   "execution_count": 67,
   "metadata": {},
   "outputs": [
    {
     "data": {
      "text/plain": [
       "0.9811883032222015"
      ]
     },
     "execution_count": 67,
     "metadata": {},
     "output_type": "execute_result"
    }
   ],
   "source": [
    "accuracy(ŷ2, y[test])"
   ]
  },
  {
   "cell_type": "code",
   "execution_count": 68,
   "metadata": {},
   "outputs": [
    {
     "data": {
      "text/plain": [
       "              ┌───────────────────────────┐\n",
       "              │       Ground Truth        │\n",
       "┌─────────────┼─────────────┬─────────────┤\n",
       "│  Predicted  │      0      │      1      │\n",
       "├─────────────┼─────────────┼─────────────┤\n",
       "│      0      │    4853     │     85      │\n",
       "├─────────────┼─────────────┼─────────────┤\n",
       "│      1      │     16      │     415     │\n",
       "└─────────────┴─────────────┴─────────────┘\n"
      ]
     },
     "execution_count": 68,
     "metadata": {},
     "output_type": "execute_result"
    }
   ],
   "source": [
    "confusion_matrix(ŷ2, y[test])"
   ]
  },
  {
   "cell_type": "markdown",
   "metadata": {},
   "source": [
    "RBF SVM"
   ]
  },
  {
   "cell_type": "code",
   "execution_count": 69,
   "metadata": {},
   "outputs": [
    {
     "data": {
      "text/plain": [
       "SVMClassifier(\n",
       "    C = 79.37005259840996,\n",
       "    kernel = \"rbf\",\n",
       "    degree = 3,\n",
       "    gamma = 0.1,\n",
       "    coef0 = 0.0,\n",
       "    shrinking = true,\n",
       "    tol = 0.001,\n",
       "    cache_size = 1000,\n",
       "    max_iter = -1,\n",
       "    decision_function_shape = \"ovr\",\n",
       "    random_state = nothing)\u001b[34m @052\u001b[39m"
      ]
     },
     "execution_count": 69,
     "metadata": {},
     "output_type": "execute_result"
    }
   ],
   "source": [
    "final_svm_rbf = best_rbf.best_model"
   ]
  },
  {
   "cell_type": "code",
   "execution_count": 70,
   "metadata": {},
   "outputs": [
    {
     "data": {
      "text/plain": [
       "\u001b[34mMachine{SVMClassifier} @745\u001b[39m trained 0 times.\n",
       "  args: \n",
       "    1:\t\u001b[34mSource @077\u001b[39m ⏎ `Table{AbstractArray{Continuous,1}}`\n",
       "    2:\t\u001b[34mSource @754\u001b[39m ⏎ `AbstractArray{OrderedFactor{2},1}`\n"
      ]
     },
     "execution_count": 70,
     "metadata": {},
     "output_type": "execute_result"
    }
   ],
   "source": [
    "Final_SVM = machine(final_svm, X, y)"
   ]
  },
  {
   "cell_type": "code",
   "execution_count": 71,
   "metadata": {},
   "outputs": [
    {
     "name": "stderr",
     "output_type": "stream",
     "text": [
      "┌ Info: Training \u001b[34mMachine{SVMClassifier} @745\u001b[39m.\n",
      "└ @ MLJBase /home/andrew/.julia/packages/MLJBase/uKzAz/src/machines.jl:319\n"
     ]
    },
    {
     "data": {
      "text/plain": [
       "\u001b[34mMachine{SVMClassifier} @745\u001b[39m trained 1 time.\n",
       "  args: \n",
       "    1:\t\u001b[34mSource @077\u001b[39m ⏎ `Table{AbstractArray{Continuous,1}}`\n",
       "    2:\t\u001b[34mSource @754\u001b[39m ⏎ `AbstractArray{OrderedFactor{2},1}`\n"
      ]
     },
     "execution_count": 71,
     "metadata": {},
     "output_type": "execute_result"
    }
   ],
   "source": [
    "fit!(Final_SVM, rows=train, verbosity=2)"
   ]
  },
  {
   "cell_type": "code",
   "execution_count": 72,
   "metadata": {},
   "outputs": [],
   "source": [
    "ŷ2 = MLJ.predict(Final_SVM, X[test,:]);"
   ]
  },
  {
   "cell_type": "code",
   "execution_count": 73,
   "metadata": {},
   "outputs": [
    {
     "data": {
      "text/plain": [
       "0.9811883032222015"
      ]
     },
     "execution_count": 73,
     "metadata": {},
     "output_type": "execute_result"
    }
   ],
   "source": [
    "accuracy(ŷ2, y[test])"
   ]
  },
  {
   "cell_type": "code",
   "execution_count": 74,
   "metadata": {},
   "outputs": [
    {
     "data": {
      "text/plain": [
       "              ┌───────────────────────────┐\n",
       "              │       Ground Truth        │\n",
       "┌─────────────┼─────────────┬─────────────┤\n",
       "│  Predicted  │      0      │      1      │\n",
       "├─────────────┼─────────────┼─────────────┤\n",
       "│      0      │    4853     │     85      │\n",
       "├─────────────┼─────────────┼─────────────┤\n",
       "│      1      │     16      │     415     │\n",
       "└─────────────┴─────────────┴─────────────┘\n"
      ]
     },
     "execution_count": 74,
     "metadata": {},
     "output_type": "execute_result"
    }
   ],
   "source": [
    "confusion_matrix(ŷ2, y[test])"
   ]
  }
 ],
 "metadata": {
  "kernelspec": {
   "display_name": "Julia 1.5.0",
   "language": "julia",
   "name": "julia-1.5"
  },
  "language_info": {
   "file_extension": ".jl",
   "mimetype": "application/julia",
   "name": "julia",
   "version": "1.5.0"
  }
 },
 "nbformat": 4,
 "nbformat_minor": 4
}
