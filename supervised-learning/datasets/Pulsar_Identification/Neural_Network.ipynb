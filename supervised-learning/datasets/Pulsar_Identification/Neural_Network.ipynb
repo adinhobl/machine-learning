{
 "cells": [
  {
   "cell_type": "markdown",
   "metadata": {},
   "source": [
    "# Imports"
   ]
  },
  {
   "cell_type": "code",
   "execution_count": 1,
   "metadata": {},
   "outputs": [],
   "source": [
    "using DataFrames\n",
    "using CSV\n",
    "using MLJ\n",
    "using Flux\n",
    "using Plots\n",
    "using StatsBase\n",
    "using MLJ: confusion_matrix\n",
    "\n",
    "include(\"../../lib.jl\")\n",
    "\n",
    "ENV[\"LINES\"]=30;"
   ]
  },
  {
   "cell_type": "code",
   "execution_count": 2,
   "metadata": {},
   "outputs": [
    {
     "ename": "LoadError",
     "evalue": "IOError: mkdir: file already exists (EEXIST)",
     "output_type": "error",
     "traceback": [
      "IOError: mkdir: file already exists (EEXIST)",
      "",
      "Stacktrace:",
      " [1] uv_error at ./libuv.jl:97 [inlined]",
      " [2] mkdir(::String; mode::UInt16) at ./file.jl:177",
      " [3] mkdir(::String) at ./file.jl:170",
      " [4] top-level scope at In[2]:1",
      " [5] include_string(::Function, ::Module, ::String, ::String) at ./loading.jl:1091"
     ]
    }
   ],
   "source": [
    "mkdir(\"./Figures\")"
   ]
  },
  {
   "cell_type": "markdown",
   "metadata": {},
   "source": [
    "# Datasets"
   ]
  },
  {
   "cell_type": "code",
   "execution_count": 3,
   "metadata": {},
   "outputs": [
    {
     "data": {
      "text/html": [
       "<table class=\"data-frame\"><thead><tr><th></th><th> Mean of the integrated profile</th><th> Standard deviation of the integrated profile</th></tr><tr><th></th><th>Float64</th><th>Float64</th></tr></thead><tbody><p>17,898 rows × 9 columns (omitted printing of 7 columns)</p><tr><th>1</th><td>140.562</td><td>55.6838</td></tr><tr><th>2</th><td>102.508</td><td>58.8824</td></tr><tr><th>3</th><td>103.016</td><td>39.3416</td></tr><tr><th>4</th><td>136.75</td><td>57.1784</td></tr><tr><th>5</th><td>88.7266</td><td>40.6722</td></tr><tr><th>6</th><td>93.5703</td><td>46.6981</td></tr><tr><th>7</th><td>119.484</td><td>48.7651</td></tr><tr><th>8</th><td>130.383</td><td>39.8441</td></tr><tr><th>9</th><td>107.25</td><td>52.6271</td></tr><tr><th>10</th><td>107.258</td><td>39.4965</td></tr><tr><th>11</th><td>142.078</td><td>45.2881</td></tr><tr><th>12</th><td>133.258</td><td>44.0582</td></tr><tr><th>13</th><td>134.961</td><td>49.5543</td></tr><tr><th>14</th><td>117.945</td><td>45.5066</td></tr><tr><th>15</th><td>138.18</td><td>51.5245</td></tr><tr><th>16</th><td>114.367</td><td>51.9457</td></tr><tr><th>17</th><td>109.641</td><td>49.0177</td></tr><tr><th>18</th><td>100.852</td><td>51.7435</td></tr><tr><th>19</th><td>136.094</td><td>51.691</td></tr><tr><th>20</th><td>99.3672</td><td>41.5722</td></tr><tr><th>21</th><td>100.891</td><td>51.8904</td></tr><tr><th>22</th><td>105.445</td><td>41.14</td></tr><tr><th>23</th><td>95.8672</td><td>42.0599</td></tr><tr><th>24</th><td>117.367</td><td>53.9086</td></tr><tr><th>25</th><td>106.648</td><td>56.3672</td></tr><tr><th>26</th><td>112.719</td><td>50.3013</td></tr><tr><th>27</th><td>130.852</td><td>52.4329</td></tr><tr><th>28</th><td>119.438</td><td>52.8748</td></tr><tr><th>29</th><td>123.211</td><td>51.078</td></tr><tr><th>30</th><td>102.617</td><td>49.6924</td></tr><tr><th>&vellip;</th><td>&vellip;</td><td>&vellip;</td></tr></tbody></table>"
      ],
      "text/latex": [
       "\\begin{tabular}{r|ccc}\n",
       "\t&  Mean of the integrated profile &  Standard deviation of the integrated profile & \\\\\n",
       "\t\\hline\n",
       "\t& Float64 & Float64 & \\\\\n",
       "\t\\hline\n",
       "\t1 & 140.562 & 55.6838 & $\\dots$ \\\\\n",
       "\t2 & 102.508 & 58.8824 & $\\dots$ \\\\\n",
       "\t3 & 103.016 & 39.3416 & $\\dots$ \\\\\n",
       "\t4 & 136.75 & 57.1784 & $\\dots$ \\\\\n",
       "\t5 & 88.7266 & 40.6722 & $\\dots$ \\\\\n",
       "\t6 & 93.5703 & 46.6981 & $\\dots$ \\\\\n",
       "\t7 & 119.484 & 48.7651 & $\\dots$ \\\\\n",
       "\t8 & 130.383 & 39.8441 & $\\dots$ \\\\\n",
       "\t9 & 107.25 & 52.6271 & $\\dots$ \\\\\n",
       "\t10 & 107.258 & 39.4965 & $\\dots$ \\\\\n",
       "\t11 & 142.078 & 45.2881 & $\\dots$ \\\\\n",
       "\t12 & 133.258 & 44.0582 & $\\dots$ \\\\\n",
       "\t13 & 134.961 & 49.5543 & $\\dots$ \\\\\n",
       "\t14 & 117.945 & 45.5066 & $\\dots$ \\\\\n",
       "\t15 & 138.18 & 51.5245 & $\\dots$ \\\\\n",
       "\t16 & 114.367 & 51.9457 & $\\dots$ \\\\\n",
       "\t17 & 109.641 & 49.0177 & $\\dots$ \\\\\n",
       "\t18 & 100.852 & 51.7435 & $\\dots$ \\\\\n",
       "\t19 & 136.094 & 51.691 & $\\dots$ \\\\\n",
       "\t20 & 99.3672 & 41.5722 & $\\dots$ \\\\\n",
       "\t21 & 100.891 & 51.8904 & $\\dots$ \\\\\n",
       "\t22 & 105.445 & 41.14 & $\\dots$ \\\\\n",
       "\t23 & 95.8672 & 42.0599 & $\\dots$ \\\\\n",
       "\t24 & 117.367 & 53.9086 & $\\dots$ \\\\\n",
       "\t25 & 106.648 & 56.3672 & $\\dots$ \\\\\n",
       "\t26 & 112.719 & 50.3013 & $\\dots$ \\\\\n",
       "\t27 & 130.852 & 52.4329 & $\\dots$ \\\\\n",
       "\t28 & 119.438 & 52.8748 & $\\dots$ \\\\\n",
       "\t29 & 123.211 & 51.078 & $\\dots$ \\\\\n",
       "\t30 & 102.617 & 49.6924 & $\\dots$ \\\\\n",
       "\t$\\dots$ & $\\dots$ & $\\dots$ &  \\\\\n",
       "\\end{tabular}\n"
      ],
      "text/plain": [
       "17898×9 DataFrame. Omitted printing of 8 columns\n",
       "│ Row   │  Mean of the integrated profile │\n",
       "│       │ \u001b[90mFloat64\u001b[39m                         │\n",
       "├───────┼─────────────────────────────────┤\n",
       "│ 1     │ 140.562                         │\n",
       "│ 2     │ 102.508                         │\n",
       "│ 3     │ 103.016                         │\n",
       "│ 4     │ 136.75                          │\n",
       "│ 5     │ 88.7266                         │\n",
       "│ 6     │ 93.5703                         │\n",
       "│ 7     │ 119.484                         │\n",
       "│ 8     │ 130.383                         │\n",
       "│ 9     │ 107.25                          │\n",
       "│ 10    │ 107.258                         │\n",
       "⋮\n",
       "│ 17888 │ 121.375                         │\n",
       "│ 17889 │ 98.7266                         │\n",
       "│ 17890 │ 126.625                         │\n",
       "│ 17891 │ 143.672                         │\n",
       "│ 17892 │ 118.484                         │\n",
       "│ 17893 │ 96.0                            │\n",
       "│ 17894 │ 136.43                          │\n",
       "│ 17895 │ 122.555                         │\n",
       "│ 17896 │ 119.336                         │\n",
       "│ 17897 │ 114.508                         │\n",
       "│ 17898 │ 57.0625                         │"
      ]
     },
     "execution_count": 3,
     "metadata": {},
     "output_type": "execute_result"
    }
   ],
   "source": [
    "data = CSV.read(\"data.csv\")"
   ]
  },
  {
   "cell_type": "code",
   "execution_count": 4,
   "metadata": {},
   "outputs": [
    {
     "data": {
      "text/html": [
       "<table class=\"data-frame\"><thead><tr><th></th><th>variable</th><th>mean</th><th>min</th><th>median</th><th>max</th></tr><tr><th></th><th>Symbol</th><th>Float64</th><th>Real</th><th>Float64</th><th>Real</th></tr></thead><tbody><p>9 rows × 8 columns (omitted printing of 3 columns)</p><tr><th>1</th><td> Mean of the integrated profile</td><td>111.08</td><td>5.8125</td><td>115.078</td><td>192.617</td></tr><tr><th>2</th><td> Standard deviation of the integrated profile</td><td>46.5495</td><td>24.772</td><td>46.9475</td><td>98.7789</td></tr><tr><th>3</th><td> Excess kurtosis of the integrated profile</td><td>0.477857</td><td>-1.87601</td><td>0.22324</td><td>8.06952</td></tr><tr><th>4</th><td> Skewness of the integrated profile</td><td>1.77028</td><td>-1.79189</td><td>0.19871</td><td>68.1016</td></tr><tr><th>5</th><td> Mean of the DM-SNR curve</td><td>12.6144</td><td>0.213211</td><td>2.80184</td><td>223.392</td></tr><tr><th>6</th><td> Standard deviation of the DM-SNR curve</td><td>26.3265</td><td>7.37043</td><td>18.4613</td><td>110.642</td></tr><tr><th>7</th><td> Excess kurtosis of the DM-SNR curve</td><td>8.30356</td><td>-3.13927</td><td>8.43351</td><td>34.5398</td></tr><tr><th>8</th><td> Skewness of the DM-SNR curve</td><td>104.858</td><td>-1.97698</td><td>83.0646</td><td>1191.0</td></tr><tr><th>9</th><td>target_class</td><td>0.0915745</td><td>0</td><td>0.0</td><td>1</td></tr></tbody></table>"
      ],
      "text/latex": [
       "\\begin{tabular}{r|cccccc}\n",
       "\t& variable & mean & min & median & max & \\\\\n",
       "\t\\hline\n",
       "\t& Symbol & Float64 & Real & Float64 & Real & \\\\\n",
       "\t\\hline\n",
       "\t1 &  Mean of the integrated profile & 111.08 & 5.8125 & 115.078 & 192.617 & $\\dots$ \\\\\n",
       "\t2 &  Standard deviation of the integrated profile & 46.5495 & 24.772 & 46.9475 & 98.7789 & $\\dots$ \\\\\n",
       "\t3 &  Excess kurtosis of the integrated profile & 0.477857 & -1.87601 & 0.22324 & 8.06952 & $\\dots$ \\\\\n",
       "\t4 &  Skewness of the integrated profile & 1.77028 & -1.79189 & 0.19871 & 68.1016 & $\\dots$ \\\\\n",
       "\t5 &  Mean of the DM-SNR curve & 12.6144 & 0.213211 & 2.80184 & 223.392 & $\\dots$ \\\\\n",
       "\t6 &  Standard deviation of the DM-SNR curve & 26.3265 & 7.37043 & 18.4613 & 110.642 & $\\dots$ \\\\\n",
       "\t7 &  Excess kurtosis of the DM-SNR curve & 8.30356 & -3.13927 & 8.43351 & 34.5398 & $\\dots$ \\\\\n",
       "\t8 &  Skewness of the DM-SNR curve & 104.858 & -1.97698 & 83.0646 & 1191.0 & $\\dots$ \\\\\n",
       "\t9 & target\\_class & 0.0915745 & 0 & 0.0 & 1 & $\\dots$ \\\\\n",
       "\\end{tabular}\n"
      ],
      "text/plain": [
       "9×8 DataFrame. Omitted printing of 5 columns\n",
       "│ Row │ variable                                      │ mean      │ min      │\n",
       "│     │ \u001b[90mSymbol\u001b[39m                                        │ \u001b[90mFloat64\u001b[39m   │ \u001b[90mReal\u001b[39m     │\n",
       "├─────┼───────────────────────────────────────────────┼───────────┼──────────┤\n",
       "│ 1   │  Mean of the integrated profile               │ 111.08    │ 5.8125   │\n",
       "│ 2   │  Standard deviation of the integrated profile │ 46.5495   │ 24.772   │\n",
       "│ 3   │  Excess kurtosis of the integrated profile    │ 0.477857  │ -1.87601 │\n",
       "│ 4   │  Skewness of the integrated profile           │ 1.77028   │ -1.79189 │\n",
       "│ 5   │  Mean of the DM-SNR curve                     │ 12.6144   │ 0.213211 │\n",
       "│ 6   │  Standard deviation of the DM-SNR curve       │ 26.3265   │ 7.37043  │\n",
       "│ 7   │  Excess kurtosis of the DM-SNR curve          │ 8.30356   │ -3.13927 │\n",
       "│ 8   │  Skewness of the DM-SNR curve                 │ 104.858   │ -1.97698 │\n",
       "│ 9   │ target_class                                  │ 0.0915745 │ 0        │"
      ]
     },
     "execution_count": 4,
     "metadata": {},
     "output_type": "execute_result"
    }
   ],
   "source": [
    "describe(data)"
   ]
  },
  {
   "cell_type": "markdown",
   "metadata": {},
   "source": [
    "Look at class labels to see if dataset is imbalanced"
   ]
  },
  {
   "cell_type": "code",
   "execution_count": 5,
   "metadata": {},
   "outputs": [
    {
     "data": {
      "text/plain": [
       "Dict{Int64,Int64} with 2 entries:\n",
       "  0 => 16259\n",
       "  1 => 1639"
      ]
     },
     "execution_count": 5,
     "metadata": {},
     "output_type": "execute_result"
    }
   ],
   "source": [
    "label_counts = countmap(data[:target_class])"
   ]
  },
  {
   "cell_type": "code",
   "execution_count": 6,
   "metadata": {},
   "outputs": [
    {
     "data": {
      "text/plain": [
       "2-element Array{Float64,1}:\n",
       " 0.908425522404738\n",
       " 0.09157447759526204"
      ]
     },
     "execution_count": 6,
     "metadata": {},
     "output_type": "execute_result"
    }
   ],
   "source": [
    "collect(label_counts[i] / size(data)[1] for i in keys(label_counts))"
   ]
  },
  {
   "cell_type": "markdown",
   "metadata": {},
   "source": [
    "Get data ready for training"
   ]
  },
  {
   "cell_type": "code",
   "execution_count": 7,
   "metadata": {},
   "outputs": [
    {
     "data": {
      "text/plain": [
       "┌\u001b[0m───────────────────────────────────────────────\u001b[0m┬\u001b[0m────────────────────────────────\u001b[0m┬\u001b[0m───────────────\u001b[0m┐\u001b[0m\n",
       "│\u001b[0m\u001b[22m _.names                                       \u001b[0m│\u001b[0m\u001b[22m _.types                        \u001b[0m│\u001b[0m\u001b[22m _.scitypes    \u001b[0m│\u001b[0m\n",
       "├\u001b[0m───────────────────────────────────────────────\u001b[0m┼\u001b[0m────────────────────────────────\u001b[0m┼\u001b[0m───────────────\u001b[0m┤\u001b[0m\n",
       "│\u001b[0m  Mean of the integrated profile               \u001b[0m│\u001b[0m Float64                        \u001b[0m│\u001b[0m Continuous    \u001b[0m│\u001b[0m\n",
       "│\u001b[0m  Standard deviation of the integrated profile \u001b[0m│\u001b[0m Float64                        \u001b[0m│\u001b[0m Continuous    \u001b[0m│\u001b[0m\n",
       "│\u001b[0m  Excess kurtosis of the integrated profile    \u001b[0m│\u001b[0m Float64                        \u001b[0m│\u001b[0m Continuous    \u001b[0m│\u001b[0m\n",
       "│\u001b[0m  Skewness of the integrated profile           \u001b[0m│\u001b[0m Float64                        \u001b[0m│\u001b[0m Continuous    \u001b[0m│\u001b[0m\n",
       "│\u001b[0m  Mean of the DM-SNR curve                     \u001b[0m│\u001b[0m Float64                        \u001b[0m│\u001b[0m Continuous    \u001b[0m│\u001b[0m\n",
       "│\u001b[0m  Standard deviation of the DM-SNR curve       \u001b[0m│\u001b[0m Float64                        \u001b[0m│\u001b[0m Continuous    \u001b[0m│\u001b[0m\n",
       "│\u001b[0m  Excess kurtosis of the DM-SNR curve          \u001b[0m│\u001b[0m Float64                        \u001b[0m│\u001b[0m Continuous    \u001b[0m│\u001b[0m\n",
       "│\u001b[0m  Skewness of the DM-SNR curve                 \u001b[0m│\u001b[0m Float64                        \u001b[0m│\u001b[0m Continuous    \u001b[0m│\u001b[0m\n",
       "│\u001b[0m target_class                                  \u001b[0m│\u001b[0m CategoricalValue{Int64,UInt32} \u001b[0m│\u001b[0m Multiclass{2} \u001b[0m│\u001b[0m\n",
       "└\u001b[0m───────────────────────────────────────────────\u001b[0m┴\u001b[0m────────────────────────────────\u001b[0m┴\u001b[0m───────────────\u001b[0m┘\u001b[0m\n",
       "_.nrows = 17898\n"
      ]
     },
     "execution_count": 7,
     "metadata": {},
     "output_type": "execute_result"
    }
   ],
   "source": [
    "coerce!(data, :target_class=>Multiclass)\n",
    "schema(data)"
   ]
  },
  {
   "cell_type": "code",
   "execution_count": 8,
   "metadata": {
    "scrolled": false
   },
   "outputs": [
    {
     "data": {
      "text/plain": [
       "(CategoricalValue{Int64,UInt32}[0, 0, 0, 0, 0, 0, 0, 0, 0, 0  …  0, 0, 0, 0, 0, 0, 0, 0, 0, 0], 17898×8 DataFrame. Omitted printing of 7 columns\n",
       "│ Row   │  Mean of the integrated profile │\n",
       "│       │ \u001b[90mFloat64\u001b[39m                         │\n",
       "├───────┼─────────────────────────────────┤\n",
       "│ 1     │ 140.562                         │\n",
       "│ 2     │ 102.508                         │\n",
       "│ 3     │ 103.016                         │\n",
       "│ 4     │ 136.75                          │\n",
       "│ 5     │ 88.7266                         │\n",
       "│ 6     │ 93.5703                         │\n",
       "│ 7     │ 119.484                         │\n",
       "│ 8     │ 130.383                         │\n",
       "│ 9     │ 107.25                          │\n",
       "│ 10    │ 107.258                         │\n",
       "⋮\n",
       "│ 17888 │ 121.375                         │\n",
       "│ 17889 │ 98.7266                         │\n",
       "│ 17890 │ 126.625                         │\n",
       "│ 17891 │ 143.672                         │\n",
       "│ 17892 │ 118.484                         │\n",
       "│ 17893 │ 96.0                            │\n",
       "│ 17894 │ 136.43                          │\n",
       "│ 17895 │ 122.555                         │\n",
       "│ 17896 │ 119.336                         │\n",
       "│ 17897 │ 114.508                         │\n",
       "│ 17898 │ 57.0625                         │)"
      ]
     },
     "execution_count": 8,
     "metadata": {},
     "output_type": "execute_result"
    }
   ],
   "source": [
    "y, X = unpack(data, ==(:target_class), colname->true)"
   ]
  },
  {
   "cell_type": "markdown",
   "metadata": {},
   "source": [
    "Partition train and test data accoring to class labels"
   ]
  },
  {
   "cell_type": "code",
   "execution_count": 202,
   "metadata": {},
   "outputs": [
    {
     "data": {
      "text/plain": [
       "([9636, 6944, 9876, 2005, 5202, 4057, 766, 11725, 907, 4373  …  14095, 5189, 17121, 8818, 130, 11824, 5835, 5122, 5073, 4378], [8648, 13422, 12124, 2436, 9809, 11446, 9765, 14476, 13541, 3591  …  15314, 13601, 5644, 2386, 9062, 10452, 15638, 17255, 1140, 7129])"
      ]
     },
     "execution_count": 202,
     "metadata": {},
     "output_type": "execute_result"
    }
   ],
   "source": [
    "# data to use when trying to fit a single validation set\n",
    "train, test = partition(eachindex(y), 0.7, shuffle=true, rng=545, stratify=values(data[:target_class])) # gives 70:30 split"
   ]
  },
  {
   "cell_type": "code",
   "execution_count": 203,
   "metadata": {
    "scrolled": false
   },
   "outputs": [
    {
     "data": {
      "text/plain": [
       "2-element Array{Float64,1}:\n",
       " 0.9084450830140486\n",
       " 0.09155491698595147"
      ]
     },
     "execution_count": 203,
     "metadata": {},
     "output_type": "execute_result"
    }
   ],
   "source": [
    "train_counts = countmap(data[train,:target_class])\n",
    "collect(train_counts[i] / size(train)[1] for i in keys(train_counts))"
   ]
  },
  {
   "cell_type": "code",
   "execution_count": 204,
   "metadata": {
    "scrolled": false
   },
   "outputs": [
    {
     "data": {
      "text/plain": [
       "2-element Array{Float64,1}:\n",
       " 0.9083798882681564\n",
       " 0.09162011173184358"
      ]
     },
     "execution_count": 204,
     "metadata": {},
     "output_type": "execute_result"
    }
   ],
   "source": [
    "test_counts = countmap(data[test,:target_class])\n",
    "collect(test_counts[i] / size(test)[1] for i in keys(test_counts))"
   ]
  },
  {
   "cell_type": "markdown",
   "metadata": {},
   "source": [
    "# Five Learning Algorithms\n",
    "\n",
    "* Decision trees with some form of pruning\n",
    "* Neural networks\n",
    "* Boosting\n",
    "* Support Vector Machines\n",
    "* k-nearest neighbors\n",
    "\n",
    "\n",
    "##### Testing\n",
    "* Implement the algorithms\n",
    "* Design two *interesting* classification problems. For the purposes of this assignment, a classification problem is just a set of training examples and a set of test examples."
   ]
  },
  {
   "cell_type": "code",
   "execution_count": 205,
   "metadata": {
    "scrolled": true
   },
   "outputs": [
    {
     "data": {
      "text/plain": [
       "43-element Array{NamedTuple{(:name, :package_name, :is_supervised, :docstring, :hyperparameter_ranges, :hyperparameter_types, :hyperparameters, :implemented_methods, :is_pure_julia, :is_wrapper, :load_path, :package_license, :package_url, :package_uuid, :prediction_type, :supports_online, :supports_weights, :input_scitype, :target_scitype, :output_scitype),T} where T<:Tuple,1}:\n",
       " (name = AdaBoostClassifier, package_name = ScikitLearn, ... )\n",
       " (name = AdaBoostStumpClassifier, package_name = DecisionTree, ... )\n",
       " (name = BaggingClassifier, package_name = ScikitLearn, ... )\n",
       " (name = BayesianLDA, package_name = MultivariateStats, ... )\n",
       " (name = BayesianLDA, package_name = ScikitLearn, ... )\n",
       " (name = BayesianQDA, package_name = ScikitLearn, ... )\n",
       " (name = BayesianSubspaceLDA, package_name = MultivariateStats, ... )\n",
       " (name = ConstantClassifier, package_name = MLJModels, ... )\n",
       " (name = DecisionTreeClassifier, package_name = DecisionTree, ... )\n",
       " (name = DeterministicConstantClassifier, package_name = MLJModels, ... )\n",
       " (name = DummyClassifier, package_name = ScikitLearn, ... )\n",
       " (name = EvoTreeClassifier, package_name = EvoTrees, ... )\n",
       " (name = ExtraTreesClassifier, package_name = ScikitLearn, ... )\n",
       " ⋮\n",
       " (name = ProbabilisticSGDClassifier, package_name = ScikitLearn, ... )\n",
       " (name = RandomForestClassifier, package_name = DecisionTree, ... )\n",
       " (name = RandomForestClassifier, package_name = ScikitLearn, ... )\n",
       " (name = RidgeCVClassifier, package_name = ScikitLearn, ... )\n",
       " (name = RidgeClassifier, package_name = ScikitLearn, ... )\n",
       " (name = SGDClassifier, package_name = ScikitLearn, ... )\n",
       " (name = SVC, package_name = LIBSVM, ... )\n",
       " (name = SVMClassifier, package_name = ScikitLearn, ... )\n",
       " (name = SVMLinearClassifier, package_name = ScikitLearn, ... )\n",
       " (name = SVMNuClassifier, package_name = ScikitLearn, ... )\n",
       " (name = SubspaceLDA, package_name = MultivariateStats, ... )\n",
       " (name = XGBoostClassifier, package_name = XGBoost, ... )"
      ]
     },
     "execution_count": 205,
     "metadata": {},
     "output_type": "execute_result"
    }
   ],
   "source": [
    "models(matching(X,y))"
   ]
  },
  {
   "cell_type": "code",
   "execution_count": 206,
   "metadata": {},
   "outputs": [
    {
     "name": "stderr",
     "output_type": "stream",
     "text": [
      "┌ Info: Model code for NeuralNetworkClassifier already loaded\n",
      "└ @ MLJModels /home/andrew/.julia/packages/MLJModels/mUBFt/src/loading.jl:54\n"
     ]
    },
    {
     "data": {
      "text/plain": [
       "NeuralNetworkClassifier(\n",
       "    builder = Short(\n",
       "            n_hidden = 0,\n",
       "            dropout = 0.5,\n",
       "            σ = NNlib.σ),\n",
       "    finaliser = NNlib.softmax,\n",
       "    optimiser = ADAM(0.001, (0.9, 0.999), IdDict{Any,Any}()),\n",
       "    loss = Flux.crossentropy,\n",
       "    epochs = 10,\n",
       "    batch_size = 1,\n",
       "    lambda = 0.0,\n",
       "    alpha = 0.0,\n",
       "    optimiser_changes_trigger_retraining = false)\u001b[34m @622\u001b[39m"
      ]
     },
     "execution_count": 206,
     "metadata": {},
     "output_type": "execute_result"
    }
   ],
   "source": [
    "@load NeuralNetworkClassifier verbosity=2"
   ]
  },
  {
   "cell_type": "markdown",
   "metadata": {},
   "source": [
    "## Neural networks\n",
    "* Use favorite kind of network and training algorithm. \n",
    "* You may use networks of nodes with as many layers as you like and any activation function you see fit.\n",
    "\n",
    "1. https://github.com/alan-turing-institute/MLJFlux.jl/blob/master/examples/boston.ipynb\n",
    "1. https://github.com/alan-turing-institute/MLJFlux.jl\n",
    "1. https://alan-turing-institute.github.io/MLJ.jl/dev/transformers/"
   ]
  },
  {
   "cell_type": "code",
   "execution_count": 207,
   "metadata": {},
   "outputs": [],
   "source": [
    "# Define a custom network\n",
    "mutable struct CustomNN <:MLJFlux.Builder\n",
    "    n1 ::Int\n",
    "    n2 ::Int\n",
    "end"
   ]
  },
  {
   "cell_type": "code",
   "execution_count": 208,
   "metadata": {},
   "outputs": [],
   "source": [
    "function MLJFlux.build(nn::CustomNN, n_in, n_out)\n",
    "    return Chain(\n",
    "        Flux.Dense(n_in, nn.n1, σ),\n",
    "        Flux.Dense(nn.n1, nn.n2, σ),\n",
    "        Flux.Dense(nn.n2, n_out, σ),\n",
    "    )\n",
    "end"
   ]
  },
  {
   "cell_type": "code",
   "execution_count": 209,
   "metadata": {},
   "outputs": [
    {
     "data": {
      "text/plain": [
       "40"
      ]
     },
     "execution_count": 209,
     "metadata": {},
     "output_type": "execute_result"
    }
   ],
   "source": [
    "layer1 = 80\n",
    "layer2 = 40"
   ]
  },
  {
   "cell_type": "code",
   "execution_count": 210,
   "metadata": {},
   "outputs": [],
   "source": [
    "batch_sz = 16;"
   ]
  },
  {
   "cell_type": "code",
   "execution_count": 211,
   "metadata": {},
   "outputs": [],
   "source": [
    "max_epochs = 2000;"
   ]
  },
  {
   "cell_type": "markdown",
   "metadata": {},
   "source": [
    "### No-preprocessing"
   ]
  },
  {
   "cell_type": "code",
   "execution_count": 212,
   "metadata": {},
   "outputs": [
    {
     "data": {
      "text/plain": [
       "NeuralNetworkClassifier(\n",
       "    builder = CustomNN(\n",
       "            n1 = 80,\n",
       "            n2 = 40),\n",
       "    finaliser = NNlib.softmax,\n",
       "    optimiser = ADAM(0.001, (0.9, 0.999), IdDict{Any,Any}()),\n",
       "    loss = Flux.crossentropy,\n",
       "    epochs = 10,\n",
       "    batch_size = 1,\n",
       "    lambda = 0.0,\n",
       "    alpha = 0.0,\n",
       "    optimiser_changes_trigger_retraining = false)\u001b[34m @680\u001b[39m"
      ]
     },
     "execution_count": 212,
     "metadata": {},
     "output_type": "execute_result"
    }
   ],
   "source": [
    "nn = NeuralNetworkClassifier(builder=CustomNN(layer1,layer2))"
   ]
  },
  {
   "cell_type": "code",
   "execution_count": 213,
   "metadata": {},
   "outputs": [
    {
     "data": {
      "text/plain": [
       "\u001b[34mMachine{NeuralNetworkClassifier{CustomNN,…}} @704\u001b[39m trained 0 times.\n",
       "  args: \n",
       "    1:\t\u001b[34mSource @640\u001b[39m ⏎ `Table{AbstractArray{Continuous,1}}`\n",
       "    2:\t\u001b[34mSource @883\u001b[39m ⏎ `AbstractArray{Multiclass{2},1}`\n"
      ]
     },
     "execution_count": 213,
     "metadata": {},
     "output_type": "execute_result"
    }
   ],
   "source": [
    "Net = machine(nn, X, y)"
   ]
  },
  {
   "cell_type": "code",
   "execution_count": 214,
   "metadata": {},
   "outputs": [
    {
     "data": {
      "text/plain": [
       "0.01"
      ]
     },
     "execution_count": 214,
     "metadata": {},
     "output_type": "execute_result"
    }
   ],
   "source": [
    "nn.optimiser.eta = 0.001\n",
    "nn.epochs = 60\n",
    "nn.batch_size = batch_sz\n",
    "nn.lambda = 0.01"
   ]
  },
  {
   "cell_type": "code",
   "execution_count": 215,
   "metadata": {
    "scrolled": true
   },
   "outputs": [
    {
     "name": "stderr",
     "output_type": "stream",
     "text": [
      "┌ Info: Training \u001b[34mMachine{NeuralNetworkClassifier{CustomNN,…}} @704\u001b[39m.\n",
      "└ @ MLJBase /home/andrew/.julia/packages/MLJBase/uKzAz/src/machines.jl:319\n",
      "┌ Info: Loss is 0.3403\n",
      "└ @ MLJFlux /home/andrew/.julia/packages/MLJFlux/rYILg/src/core.jl:95\n",
      "┌ Info: Loss is 0.3385\n",
      "└ @ MLJFlux /home/andrew/.julia/packages/MLJFlux/rYILg/src/core.jl:95\n",
      "┌ Info: Loss is 0.338\n",
      "└ @ MLJFlux /home/andrew/.julia/packages/MLJFlux/rYILg/src/core.jl:95\n",
      "┌ Info: Loss is 0.3376\n",
      "└ @ MLJFlux /home/andrew/.julia/packages/MLJFlux/rYILg/src/core.jl:95\n",
      "┌ Info: Loss is 0.3373\n",
      "└ @ MLJFlux /home/andrew/.julia/packages/MLJFlux/rYILg/src/core.jl:95\n",
      "┌ Info: Loss is 0.3374\n",
      "└ @ MLJFlux /home/andrew/.julia/packages/MLJFlux/rYILg/src/core.jl:95\n",
      "┌ Info: Loss is 0.3371\n",
      "└ @ MLJFlux /home/andrew/.julia/packages/MLJFlux/rYILg/src/core.jl:95\n",
      "┌ Info: Loss is 0.3372\n",
      "└ @ MLJFlux /home/andrew/.julia/packages/MLJFlux/rYILg/src/core.jl:95\n",
      "┌ Info: Loss is 0.3372\n",
      "└ @ MLJFlux /home/andrew/.julia/packages/MLJFlux/rYILg/src/core.jl:95\n",
      "┌ Info: Loss is 0.337\n",
      "└ @ MLJFlux /home/andrew/.julia/packages/MLJFlux/rYILg/src/core.jl:95\n",
      "┌ Info: Loss is 0.337\n",
      "└ @ MLJFlux /home/andrew/.julia/packages/MLJFlux/rYILg/src/core.jl:95\n",
      "┌ Info: Loss is 0.337\n",
      "└ @ MLJFlux /home/andrew/.julia/packages/MLJFlux/rYILg/src/core.jl:95\n",
      "┌ Info: Loss is 0.3369\n",
      "└ @ MLJFlux /home/andrew/.julia/packages/MLJFlux/rYILg/src/core.jl:95\n",
      "┌ Info: Loss is 0.3369\n",
      "└ @ MLJFlux /home/andrew/.julia/packages/MLJFlux/rYILg/src/core.jl:95\n",
      "┌ Info: Loss is 0.3368\n",
      "└ @ MLJFlux /home/andrew/.julia/packages/MLJFlux/rYILg/src/core.jl:95\n",
      "┌ Info: Loss is 0.3368\n",
      "└ @ MLJFlux /home/andrew/.julia/packages/MLJFlux/rYILg/src/core.jl:95\n",
      "┌ Info: Loss is 0.3368\n",
      "└ @ MLJFlux /home/andrew/.julia/packages/MLJFlux/rYILg/src/core.jl:95\n",
      "┌ Info: Loss is 0.337\n",
      "└ @ MLJFlux /home/andrew/.julia/packages/MLJFlux/rYILg/src/core.jl:95\n",
      "┌ Info: Loss is 0.3367\n",
      "└ @ MLJFlux /home/andrew/.julia/packages/MLJFlux/rYILg/src/core.jl:95\n",
      "┌ Info: Loss is 0.3367\n",
      "└ @ MLJFlux /home/andrew/.julia/packages/MLJFlux/rYILg/src/core.jl:95\n",
      "┌ Info: Loss is 0.3368\n",
      "└ @ MLJFlux /home/andrew/.julia/packages/MLJFlux/rYILg/src/core.jl:95\n",
      "┌ Info: Loss is 0.3365\n",
      "└ @ MLJFlux /home/andrew/.julia/packages/MLJFlux/rYILg/src/core.jl:95\n",
      "┌ Info: Loss is 0.3367\n",
      "└ @ MLJFlux /home/andrew/.julia/packages/MLJFlux/rYILg/src/core.jl:95\n",
      "┌ Info: Loss is 0.3366\n",
      "└ @ MLJFlux /home/andrew/.julia/packages/MLJFlux/rYILg/src/core.jl:95\n",
      "┌ Info: Loss is 0.3368\n",
      "└ @ MLJFlux /home/andrew/.julia/packages/MLJFlux/rYILg/src/core.jl:95\n",
      "┌ Info: Loss is 0.3369\n",
      "└ @ MLJFlux /home/andrew/.julia/packages/MLJFlux/rYILg/src/core.jl:95\n",
      "┌ Info: Loss is 0.3365\n",
      "└ @ MLJFlux /home/andrew/.julia/packages/MLJFlux/rYILg/src/core.jl:95\n",
      "┌ Info: Loss is 0.3368\n",
      "└ @ MLJFlux /home/andrew/.julia/packages/MLJFlux/rYILg/src/core.jl:95\n",
      "┌ Info: Loss is 0.3364\n",
      "└ @ MLJFlux /home/andrew/.julia/packages/MLJFlux/rYILg/src/core.jl:95\n",
      "┌ Info: Loss is 0.3366\n",
      "└ @ MLJFlux /home/andrew/.julia/packages/MLJFlux/rYILg/src/core.jl:95\n",
      "┌ Info: Loss is 0.3366\n",
      "└ @ MLJFlux /home/andrew/.julia/packages/MLJFlux/rYILg/src/core.jl:95\n",
      "┌ Info: Loss is 0.3365\n",
      "└ @ MLJFlux /home/andrew/.julia/packages/MLJFlux/rYILg/src/core.jl:95\n",
      "┌ Info: Loss is 0.3368\n",
      "└ @ MLJFlux /home/andrew/.julia/packages/MLJFlux/rYILg/src/core.jl:95\n",
      "┌ Info: Loss is 0.3365\n",
      "└ @ MLJFlux /home/andrew/.julia/packages/MLJFlux/rYILg/src/core.jl:95\n",
      "┌ Info: Loss is 0.3363\n",
      "└ @ MLJFlux /home/andrew/.julia/packages/MLJFlux/rYILg/src/core.jl:95\n",
      "┌ Info: Loss is 0.3361\n",
      "└ @ MLJFlux /home/andrew/.julia/packages/MLJFlux/rYILg/src/core.jl:95\n",
      "┌ Info: Loss is 0.3365\n",
      "└ @ MLJFlux /home/andrew/.julia/packages/MLJFlux/rYILg/src/core.jl:95\n",
      "┌ Info: Loss is 0.3365\n",
      "└ @ MLJFlux /home/andrew/.julia/packages/MLJFlux/rYILg/src/core.jl:95\n",
      "┌ Info: Loss is 0.3363\n",
      "└ @ MLJFlux /home/andrew/.julia/packages/MLJFlux/rYILg/src/core.jl:95\n",
      "┌ Info: Loss is 0.3361\n",
      "└ @ MLJFlux /home/andrew/.julia/packages/MLJFlux/rYILg/src/core.jl:95\n",
      "┌ Info: Loss is 0.3365\n",
      "└ @ MLJFlux /home/andrew/.julia/packages/MLJFlux/rYILg/src/core.jl:95\n",
      "┌ Info: Loss is 0.3362\n",
      "└ @ MLJFlux /home/andrew/.julia/packages/MLJFlux/rYILg/src/core.jl:95\n",
      "┌ Info: Loss is 0.3362\n",
      "└ @ MLJFlux /home/andrew/.julia/packages/MLJFlux/rYILg/src/core.jl:95\n",
      "┌ Info: Loss is 0.3368\n",
      "└ @ MLJFlux /home/andrew/.julia/packages/MLJFlux/rYILg/src/core.jl:95\n",
      "┌ Info: Loss is 0.3366\n",
      "└ @ MLJFlux /home/andrew/.julia/packages/MLJFlux/rYILg/src/core.jl:95\n",
      "┌ Info: Loss is 0.3364\n",
      "└ @ MLJFlux /home/andrew/.julia/packages/MLJFlux/rYILg/src/core.jl:95\n",
      "┌ Info: Loss is 0.3361\n",
      "└ @ MLJFlux /home/andrew/.julia/packages/MLJFlux/rYILg/src/core.jl:95\n",
      "┌ Info: Loss is 0.3362\n",
      "└ @ MLJFlux /home/andrew/.julia/packages/MLJFlux/rYILg/src/core.jl:95\n",
      "┌ Info: Loss is 0.3366\n",
      "└ @ MLJFlux /home/andrew/.julia/packages/MLJFlux/rYILg/src/core.jl:95\n",
      "┌ Info: Loss is 0.3362\n",
      "└ @ MLJFlux /home/andrew/.julia/packages/MLJFlux/rYILg/src/core.jl:95\n",
      "┌ Info: Loss is 0.3366\n",
      "└ @ MLJFlux /home/andrew/.julia/packages/MLJFlux/rYILg/src/core.jl:95\n",
      "┌ Info: Loss is 0.3366\n",
      "└ @ MLJFlux /home/andrew/.julia/packages/MLJFlux/rYILg/src/core.jl:95\n",
      "┌ Info: Loss is 0.3363\n",
      "└ @ MLJFlux /home/andrew/.julia/packages/MLJFlux/rYILg/src/core.jl:95\n",
      "┌ Info: Loss is 0.3365\n",
      "└ @ MLJFlux /home/andrew/.julia/packages/MLJFlux/rYILg/src/core.jl:95\n",
      "┌ Info: Loss is 0.3362\n",
      "└ @ MLJFlux /home/andrew/.julia/packages/MLJFlux/rYILg/src/core.jl:95\n",
      "┌ Info: Loss is 0.3363\n",
      "└ @ MLJFlux /home/andrew/.julia/packages/MLJFlux/rYILg/src/core.jl:95\n",
      "┌ Info: Loss is 0.336\n",
      "└ @ MLJFlux /home/andrew/.julia/packages/MLJFlux/rYILg/src/core.jl:95\n",
      "┌ Info: Loss is 0.3362\n",
      "└ @ MLJFlux /home/andrew/.julia/packages/MLJFlux/rYILg/src/core.jl:95\n",
      "┌ Info: Loss is 0.3363\n",
      "└ @ MLJFlux /home/andrew/.julia/packages/MLJFlux/rYILg/src/core.jl:95\n",
      "┌ Info: Loss is 0.3368\n",
      "└ @ MLJFlux /home/andrew/.julia/packages/MLJFlux/rYILg/src/core.jl:95\n"
     ]
    },
    {
     "data": {
      "text/plain": [
       "\u001b[34mMachine{NeuralNetworkClassifier{CustomNN,…}} @704\u001b[39m trained 1 time.\n",
       "  args: \n",
       "    1:\t\u001b[34mSource @640\u001b[39m ⏎ `Table{AbstractArray{Continuous,1}}`\n",
       "    2:\t\u001b[34mSource @883\u001b[39m ⏎ `AbstractArray{Multiclass{2},1}`\n"
      ]
     },
     "execution_count": 215,
     "metadata": {},
     "output_type": "execute_result"
    }
   ],
   "source": [
    "fit!(Net, rows=train, verbosity=2)"
   ]
  },
  {
   "cell_type": "code",
   "execution_count": 216,
   "metadata": {},
   "outputs": [
    {
     "data": {
      "text/plain": [
       "100"
      ]
     },
     "execution_count": 216,
     "metadata": {},
     "output_type": "execute_result"
    }
   ],
   "source": [
    "nn.optimiser.eta = nn.optimiser.eta / 3\n",
    "nn.epochs = nn.epochs + 40"
   ]
  },
  {
   "cell_type": "code",
   "execution_count": 217,
   "metadata": {
    "scrolled": true
   },
   "outputs": [
    {
     "name": "stderr",
     "output_type": "stream",
     "text": [
      "┌ Info: Updating \u001b[34mMachine{NeuralNetworkClassifier{CustomNN,…}} @704\u001b[39m.\n",
      "└ @ MLJBase /home/andrew/.julia/packages/MLJBase/uKzAz/src/machines.jl:320\n",
      "┌ Info: Loss is 0.3358\n",
      "└ @ MLJFlux /home/andrew/.julia/packages/MLJFlux/rYILg/src/core.jl:95\n",
      "┌ Info: Loss is 0.3356\n",
      "└ @ MLJFlux /home/andrew/.julia/packages/MLJFlux/rYILg/src/core.jl:95\n",
      "┌ Info: Loss is 0.3354\n",
      "└ @ MLJFlux /home/andrew/.julia/packages/MLJFlux/rYILg/src/core.jl:95\n",
      "┌ Info: Loss is 0.3353\n",
      "└ @ MLJFlux /home/andrew/.julia/packages/MLJFlux/rYILg/src/core.jl:95\n",
      "┌ Info: Loss is 0.3353\n",
      "└ @ MLJFlux /home/andrew/.julia/packages/MLJFlux/rYILg/src/core.jl:95\n",
      "┌ Info: Loss is 0.3352\n",
      "└ @ MLJFlux /home/andrew/.julia/packages/MLJFlux/rYILg/src/core.jl:95\n",
      "┌ Info: Loss is 0.3351\n",
      "└ @ MLJFlux /home/andrew/.julia/packages/MLJFlux/rYILg/src/core.jl:95\n",
      "┌ Info: Loss is 0.3351\n",
      "└ @ MLJFlux /home/andrew/.julia/packages/MLJFlux/rYILg/src/core.jl:95\n",
      "┌ Info: Loss is 0.335\n",
      "└ @ MLJFlux /home/andrew/.julia/packages/MLJFlux/rYILg/src/core.jl:95\n",
      "┌ Info: Loss is 0.335\n",
      "└ @ MLJFlux /home/andrew/.julia/packages/MLJFlux/rYILg/src/core.jl:95\n",
      "┌ Info: Loss is 0.335\n",
      "└ @ MLJFlux /home/andrew/.julia/packages/MLJFlux/rYILg/src/core.jl:95\n",
      "┌ Info: Loss is 0.335\n",
      "└ @ MLJFlux /home/andrew/.julia/packages/MLJFlux/rYILg/src/core.jl:95\n",
      "┌ Info: Loss is 0.335\n",
      "└ @ MLJFlux /home/andrew/.julia/packages/MLJFlux/rYILg/src/core.jl:95\n",
      "┌ Info: Loss is 0.335\n",
      "└ @ MLJFlux /home/andrew/.julia/packages/MLJFlux/rYILg/src/core.jl:95\n",
      "┌ Info: Loss is 0.335\n",
      "└ @ MLJFlux /home/andrew/.julia/packages/MLJFlux/rYILg/src/core.jl:95\n",
      "┌ Info: Loss is 0.3349\n",
      "└ @ MLJFlux /home/andrew/.julia/packages/MLJFlux/rYILg/src/core.jl:95\n",
      "┌ Info: Loss is 0.3347\n",
      "└ @ MLJFlux /home/andrew/.julia/packages/MLJFlux/rYILg/src/core.jl:95\n",
      "┌ Info: Loss is 0.3346\n",
      "└ @ MLJFlux /home/andrew/.julia/packages/MLJFlux/rYILg/src/core.jl:95\n",
      "┌ Info: Loss is 0.3345\n",
      "└ @ MLJFlux /home/andrew/.julia/packages/MLJFlux/rYILg/src/core.jl:95\n",
      "┌ Info: Loss is 0.3343\n",
      "└ @ MLJFlux /home/andrew/.julia/packages/MLJFlux/rYILg/src/core.jl:95\n",
      "┌ Info: Loss is 0.3342\n",
      "└ @ MLJFlux /home/andrew/.julia/packages/MLJFlux/rYILg/src/core.jl:95\n",
      "┌ Info: Loss is 0.3342\n",
      "└ @ MLJFlux /home/andrew/.julia/packages/MLJFlux/rYILg/src/core.jl:95\n",
      "┌ Info: Loss is 0.3342\n",
      "└ @ MLJFlux /home/andrew/.julia/packages/MLJFlux/rYILg/src/core.jl:95\n",
      "┌ Info: Loss is 0.3341\n",
      "└ @ MLJFlux /home/andrew/.julia/packages/MLJFlux/rYILg/src/core.jl:95\n",
      "┌ Info: Loss is 0.3341\n",
      "└ @ MLJFlux /home/andrew/.julia/packages/MLJFlux/rYILg/src/core.jl:95\n",
      "┌ Info: Loss is 0.3341\n",
      "└ @ MLJFlux /home/andrew/.julia/packages/MLJFlux/rYILg/src/core.jl:95\n",
      "┌ Info: Loss is 0.334\n",
      "└ @ MLJFlux /home/andrew/.julia/packages/MLJFlux/rYILg/src/core.jl:95\n",
      "┌ Info: Loss is 0.334\n",
      "└ @ MLJFlux /home/andrew/.julia/packages/MLJFlux/rYILg/src/core.jl:95\n",
      "┌ Info: Loss is 0.334\n",
      "└ @ MLJFlux /home/andrew/.julia/packages/MLJFlux/rYILg/src/core.jl:95\n",
      "┌ Info: Loss is 0.334\n",
      "└ @ MLJFlux /home/andrew/.julia/packages/MLJFlux/rYILg/src/core.jl:95\n",
      "┌ Info: Loss is 0.334\n",
      "└ @ MLJFlux /home/andrew/.julia/packages/MLJFlux/rYILg/src/core.jl:95\n",
      "┌ Info: Loss is 0.334\n",
      "└ @ MLJFlux /home/andrew/.julia/packages/MLJFlux/rYILg/src/core.jl:95\n",
      "┌ Info: Loss is 0.334\n",
      "└ @ MLJFlux /home/andrew/.julia/packages/MLJFlux/rYILg/src/core.jl:95\n",
      "┌ Info: Loss is 0.3339\n",
      "└ @ MLJFlux /home/andrew/.julia/packages/MLJFlux/rYILg/src/core.jl:95\n",
      "┌ Info: Loss is 0.3339\n",
      "└ @ MLJFlux /home/andrew/.julia/packages/MLJFlux/rYILg/src/core.jl:95\n",
      "┌ Info: Loss is 0.3339\n",
      "└ @ MLJFlux /home/andrew/.julia/packages/MLJFlux/rYILg/src/core.jl:95\n",
      "┌ Info: Loss is 0.3339\n",
      "└ @ MLJFlux /home/andrew/.julia/packages/MLJFlux/rYILg/src/core.jl:95\n",
      "┌ Info: Loss is 0.3339\n",
      "└ @ MLJFlux /home/andrew/.julia/packages/MLJFlux/rYILg/src/core.jl:95\n",
      "┌ Info: Loss is 0.3339\n",
      "└ @ MLJFlux /home/andrew/.julia/packages/MLJFlux/rYILg/src/core.jl:95\n",
      "┌ Info: Loss is 0.3338\n",
      "└ @ MLJFlux /home/andrew/.julia/packages/MLJFlux/rYILg/src/core.jl:95\n"
     ]
    },
    {
     "data": {
      "text/plain": [
       "\u001b[34mMachine{NeuralNetworkClassifier{CustomNN,…}} @704\u001b[39m trained 2 times.\n",
       "  args: \n",
       "    1:\t\u001b[34mSource @640\u001b[39m ⏎ `Table{AbstractArray{Continuous,1}}`\n",
       "    2:\t\u001b[34mSource @883\u001b[39m ⏎ `AbstractArray{Multiclass{2},1}`\n"
      ]
     },
     "execution_count": 217,
     "metadata": {},
     "output_type": "execute_result"
    }
   ],
   "source": [
    "fit!(Net, rows=train, verbosity=2)"
   ]
  },
  {
   "cell_type": "code",
   "execution_count": 218,
   "metadata": {},
   "outputs": [
    {
     "name": "stderr",
     "output_type": "stream",
     "text": [
      "\u001b[33mEvaluating over 6 folds: 100%[=========================] Time: 0:02:11\u001b[39m\n"
     ]
    },
    {
     "data": {
      "text/plain": [
       "┌\u001b[0m───────────────\u001b[0m┬\u001b[0m───────────────\u001b[0m┬\u001b[0m───────────────────────────────────────────────────\u001b[0m┐\u001b[0m\n",
       "│\u001b[0m\u001b[22m _.measure     \u001b[0m│\u001b[0m\u001b[22m _.measurement \u001b[0m│\u001b[0m\u001b[22m _.per_fold                                        \u001b[0m│\u001b[0m\n",
       "├\u001b[0m───────────────\u001b[0m┼\u001b[0m───────────────\u001b[0m┼\u001b[0m───────────────────────────────────────────────────\u001b[0m┤\u001b[0m\n",
       "│\u001b[0m cross_entropy \u001b[0m│\u001b[0m 0.336         \u001b[0m│\u001b[0m Float32[0.335, 0.341, 0.339, 0.335, 0.331, 0.335] \u001b[0m│\u001b[0m\n",
       "│\u001b[0m acc           \u001b[0m│\u001b[0m 0.977         \u001b[0m│\u001b[0m [0.979, 0.97, 0.973, 0.978, 0.983, 0.978]         \u001b[0m│\u001b[0m\n",
       "└\u001b[0m───────────────\u001b[0m┴\u001b[0m───────────────\u001b[0m┴\u001b[0m───────────────────────────────────────────────────\u001b[0m┘\u001b[0m\n",
       "_.per_observation = [[[0.313, 0.313, ..., 0.313], [0.313, 0.313, ..., 0.313], [0.313, 0.313, ..., 0.313], [0.313, 0.313, ..., 0.313], [0.313, 0.313, ..., 0.313], [0.313, 0.313, ..., 0.313]], missing]\n",
       "_.fitted_params_per_fold = [ … ]\n",
       "_.report_per_fold = [ … ]\n"
      ]
     },
     "execution_count": 218,
     "metadata": {},
     "output_type": "execute_result"
    }
   ],
   "source": [
    "nn_acc = evaluate!(Net, resampling=CV(shuffle=true), measure=[cross_entropy, acc], verbosity=1)"
   ]
  },
  {
   "cell_type": "code",
   "execution_count": 219,
   "metadata": {},
   "outputs": [
    {
     "data": {
      "text/plain": [
       "(chain = Chain(Chain(Dense(8, 80, σ), Dense(80, 40, σ), Dense(40, 2, σ)), softmax),)"
      ]
     },
     "execution_count": 219,
     "metadata": {},
     "output_type": "execute_result"
    }
   ],
   "source": [
    "fitted_params(Net)"
   ]
  },
  {
   "cell_type": "code",
   "execution_count": 220,
   "metadata": {
    "scrolled": true
   },
   "outputs": [
    {
     "data": {
      "text/plain": [
       "(training_losses = Any[0.3525623f0, 0.340936f0, 0.33849326f0, 0.3376107f0, 0.3371739f0, 0.3369193f0, 0.33676177f0, 0.3366447f0, 0.33655208f0, 0.33648553f0  …  0.33379182f0, 0.33378997f0, 0.33374816f0, 0.33370128f0, 0.33365902f0, 0.33361894f0, 0.33357382f0, 0.3335458f0, 0.3335019f0, 0.33345821f0],)"
      ]
     },
     "execution_count": 220,
     "metadata": {},
     "output_type": "execute_result"
    }
   ],
   "source": [
    "report(Net)"
   ]
  },
  {
   "cell_type": "markdown",
   "metadata": {},
   "source": [
    "### With Preprocessing"
   ]
  },
  {
   "cell_type": "markdown",
   "metadata": {},
   "source": [
    "Standardizing Inputs makes a huge difference.\n",
    "Before, I could only barely break below 0.4 training loss, but by standardizing inputs, I can easily get near 0.3."
   ]
  },
  {
   "cell_type": "code",
   "execution_count": 221,
   "metadata": {},
   "outputs": [
    {
     "name": "stderr",
     "output_type": "stream",
     "text": [
      "┌ Info: Training \u001b[34mMachine{Standardizer} @137\u001b[39m.\n",
      "└ @ MLJBase /home/andrew/.julia/packages/MLJBase/uKzAz/src/machines.jl:319\n"
     ]
    }
   ],
   "source": [
    "standardizer = Standardizer()\n",
    "stand = machine(standardizer, X[train,:]) #only want to standardize on training distribution\n",
    "fit!(stand)\n",
    "X_stand = MLJ.transform(stand, X);"
   ]
  },
  {
   "cell_type": "code",
   "execution_count": 222,
   "metadata": {},
   "outputs": [
    {
     "data": {
      "text/plain": [
       "\u001b[34mMachine{NeuralNetworkClassifier{CustomNN,…}} @817\u001b[39m trained 0 times.\n",
       "  args: \n",
       "    1:\t\u001b[34mSource @862\u001b[39m ⏎ `Table{AbstractArray{Continuous,1}}`\n",
       "    2:\t\u001b[34mSource @296\u001b[39m ⏎ `AbstractArray{Multiclass{2},1}`\n"
      ]
     },
     "execution_count": 222,
     "metadata": {},
     "output_type": "execute_result"
    }
   ],
   "source": [
    "Net = machine(nn, X_stand, y)"
   ]
  },
  {
   "cell_type": "markdown",
   "metadata": {},
   "source": [
    "### Learning Curve"
   ]
  },
  {
   "cell_type": "code",
   "execution_count": 223,
   "metadata": {},
   "outputs": [
    {
     "name": "stderr",
     "output_type": "stream",
     "text": [
      "┌ Info: Training \u001b[34mMachine{NeuralNetworkClassifier{CustomNN,…}} @817\u001b[39m.\n",
      "└ @ MLJBase /home/andrew/.julia/packages/MLJBase/uKzAz/src/machines.jl:319\n",
      "\u001b[33mOptimising neural net:100%[=========================] Time: 0:07:01\u001b[39m\n"
     ]
    },
    {
     "data": {
      "text/plain": [
       "\u001b[34mMachine{NeuralNetworkClassifier{CustomNN,…}} @817\u001b[39m trained 1 time.\n",
       "  args: \n",
       "    1:\t\u001b[34mSource @862\u001b[39m ⏎ `Table{AbstractArray{Continuous,1}}`\n",
       "    2:\t\u001b[34mSource @296\u001b[39m ⏎ `AbstractArray{Multiclass{2},1}`\n"
      ]
     },
     "execution_count": 223,
     "metadata": {},
     "output_type": "execute_result"
    }
   ],
   "source": [
    "Net.model.epochs = max_epochs\n",
    "fit!(Net, rows=train, verbosity=1, force=true)"
   ]
  },
  {
   "cell_type": "code",
   "execution_count": 224,
   "metadata": {},
   "outputs": [
    {
     "name": "stderr",
     "output_type": "stream",
     "text": [
      "\u001b[33mEvaluating over 6 folds: 100%[=========================] Time: 0:51:12\u001b[39m\n"
     ]
    },
    {
     "data": {
      "text/plain": [
       "┌\u001b[0m───────────────\u001b[0m┬\u001b[0m───────────────\u001b[0m┬\u001b[0m──────────────────────────────────────────────────\u001b[0m┐\u001b[0m\n",
       "│\u001b[0m\u001b[22m _.measure     \u001b[0m│\u001b[0m\u001b[22m _.measurement \u001b[0m│\u001b[0m\u001b[22m _.per_fold                                       \u001b[0m│\u001b[0m\n",
       "├\u001b[0m───────────────\u001b[0m┼\u001b[0m───────────────\u001b[0m┼\u001b[0m──────────────────────────────────────────────────\u001b[0m┤\u001b[0m\n",
       "│\u001b[0m cross_entropy \u001b[0m│\u001b[0m 0.333         \u001b[0m│\u001b[0m Float32[0.332, 0.33, 0.336, 0.334, 0.337, 0.331] \u001b[0m│\u001b[0m\n",
       "│\u001b[0m acc           \u001b[0m│\u001b[0m 0.98          \u001b[0m│\u001b[0m [0.982, 0.983, 0.978, 0.979, 0.976, 0.982]       \u001b[0m│\u001b[0m\n",
       "└\u001b[0m───────────────\u001b[0m┴\u001b[0m───────────────\u001b[0m┴\u001b[0m──────────────────────────────────────────────────\u001b[0m┘\u001b[0m\n",
       "_.per_observation = [[[0.313, 0.313, ..., 0.313], [0.313, 0.313, ..., 0.313], [0.313, 0.313, ..., 0.313], [0.313, 0.313, ..., 0.313], [0.313, 0.313, ..., 0.313], [0.313, 0.313, ..., 0.313]], missing]\n",
       "_.fitted_params_per_fold = [ … ]\n",
       "_.report_per_fold = [ … ]\n"
      ]
     },
     "execution_count": 224,
     "metadata": {},
     "output_type": "execute_result"
    }
   ],
   "source": [
    "nn_acc = evaluate!(Net, resampling=CV(shuffle=true), measure=[cross_entropy, acc], verbosity=1)"
   ]
  },
  {
   "cell_type": "code",
   "execution_count": 225,
   "metadata": {
    "scrolled": true
   },
   "outputs": [
    {
     "data": {
      "text/plain": [
       "MLJBase.NumericRange(Int64, :epochs, ... )"
      ]
     },
     "execution_count": 225,
     "metadata": {},
     "output_type": "execute_result"
    }
   ],
   "source": [
    "vals = collect(0:5:max_epochs)\n",
    "r = range(nn, :epochs, lower=1, upper=max_epochs, scale=:log10)"
   ]
  },
  {
   "cell_type": "code",
   "execution_count": 226,
   "metadata": {},
   "outputs": [
    {
     "name": "stderr",
     "output_type": "stream",
     "text": [
      "┌ Info: Training \u001b[34mMachine{ProbabilisticTunedModel{Grid,…}} @438\u001b[39m.\n",
      "└ @ MLJBase /home/andrew/.julia/packages/MLJBase/uKzAz/src/machines.jl:319\n",
      "┌ Info: Attempting to evaluate 28 models.\n",
      "└ @ MLJTuning /home/andrew/.julia/packages/MLJTuning/Bbgvk/src/tuned_models.jl:494\n",
      "\u001b[33mEvaluating over 28 metamodels: 100%[=========================] Time: 0:06:33\u001b[39m\n"
     ]
    },
    {
     "data": {
      "text/plain": [
       "(parameter_name = \"epochs\",\n",
       " parameter_scale = :log10,\n",
       " parameter_values = [1, 2, 3, 4, 5, 6, 8, 11, 14, 18  …  189, 246, 319, 415, 539, 701, 911, 1184, 1539, 2000],\n",
       " measurements = [0.3454160690307617, 0.3277941346168518, 0.32513612508773804, 0.324642151594162, 0.32456570863723755, 0.32464542984962463, 0.324905663728714, 0.3251715302467346, 0.32518911361694336, 0.3251159191131592  …  0.3242674767971039, 0.3244127035140991, 0.3245244026184082, 0.32466286420822144, 0.324723482131958, 0.3246852457523346, 0.3251120448112488, 0.3248750865459442, 0.32527869939804077, 0.3253720998764038],)"
      ]
     },
     "execution_count": 226,
     "metadata": {},
     "output_type": "execute_result"
    }
   ],
   "source": [
    "curve = MLJ.learning_curve(Net, \n",
    "                        range=r, \n",
    "                        resampling=Holdout(fraction_train=0.7), \n",
    "#                         resampling=CV(nfolds=4), \n",
    "                        measure=cross_entropy, \n",
    "                        acceleration=CPUProcesses()\n",
    ")"
   ]
  },
  {
   "cell_type": "code",
   "execution_count": 227,
   "metadata": {},
   "outputs": [
    {
     "data": {
      "image/svg+xml": [
       "<?xml version=\"1.0\" encoding=\"utf-8\"?>\n",
       "<svg xmlns=\"http://www.w3.org/2000/svg\" xmlns:xlink=\"http://www.w3.org/1999/xlink\" width=\"600\" height=\"400\" viewBox=\"0 0 2400 1600\">\n",
       "<defs>\n",
       "  <clipPath id=\"clip580\">\n",
       "    <rect x=\"0\" y=\"0\" width=\"2400\" height=\"1600\"/>\n",
       "  </clipPath>\n",
       "</defs>\n",
       "<path clip-path=\"url(#clip580)\" d=\"\n",
       "M0 1600 L2400 1600 L2400 0 L0 0  Z\n",
       "  \" fill=\"#ffffff\" fill-rule=\"evenodd\" fill-opacity=\"1\"/>\n",
       "<defs>\n",
       "  <clipPath id=\"clip581\">\n",
       "    <rect x=\"480\" y=\"0\" width=\"1681\" height=\"1600\"/>\n",
       "  </clipPath>\n",
       "</defs>\n",
       "<path clip-path=\"url(#clip580)\" d=\"\n",
       "M237.968 1423.18 L2352.76 1423.18 L2352.76 47.2441 L237.968 47.2441  Z\n",
       "  \" fill=\"#ffffff\" fill-rule=\"evenodd\" fill-opacity=\"1\"/>\n",
       "<defs>\n",
       "  <clipPath id=\"clip582\">\n",
       "    <rect x=\"237\" y=\"47\" width=\"2116\" height=\"1377\"/>\n",
       "  </clipPath>\n",
       "</defs>\n",
       "<polyline clip-path=\"url(#clip582)\" style=\"stroke:#000000; stroke-width:2; stroke-opacity:0.1; fill:none\" points=\"\n",
       "  296.822,1423.18 296.822,47.2441 \n",
       "  \"/>\n",
       "<polyline clip-path=\"url(#clip582)\" style=\"stroke:#000000; stroke-width:2; stroke-opacity:0.1; fill:none\" points=\"\n",
       "  795.843,1423.18 795.843,47.2441 \n",
       "  \"/>\n",
       "<polyline clip-path=\"url(#clip582)\" style=\"stroke:#000000; stroke-width:2; stroke-opacity:0.1; fill:none\" points=\"\n",
       "  1294.86,1423.18 1294.86,47.2441 \n",
       "  \"/>\n",
       "<polyline clip-path=\"url(#clip582)\" style=\"stroke:#000000; stroke-width:2; stroke-opacity:0.1; fill:none\" points=\"\n",
       "  1793.88,1423.18 1793.88,47.2441 \n",
       "  \"/>\n",
       "<polyline clip-path=\"url(#clip582)\" style=\"stroke:#000000; stroke-width:2; stroke-opacity:0.1; fill:none\" points=\"\n",
       "  2292.9,1423.18 2292.9,47.2441 \n",
       "  \"/>\n",
       "<polyline clip-path=\"url(#clip582)\" style=\"stroke:#000000; stroke-width:2; stroke-opacity:0.1; fill:none\" points=\"\n",
       "  237.968,1269.19 2352.76,1269.19 \n",
       "  \"/>\n",
       "<polyline clip-path=\"url(#clip582)\" style=\"stroke:#000000; stroke-width:2; stroke-opacity:0.1; fill:none\" points=\"\n",
       "  237.968,1079.27 2352.76,1079.27 \n",
       "  \"/>\n",
       "<polyline clip-path=\"url(#clip582)\" style=\"stroke:#000000; stroke-width:2; stroke-opacity:0.1; fill:none\" points=\"\n",
       "  237.968,889.36 2352.76,889.36 \n",
       "  \"/>\n",
       "<polyline clip-path=\"url(#clip582)\" style=\"stroke:#000000; stroke-width:2; stroke-opacity:0.1; fill:none\" points=\"\n",
       "  237.968,699.446 2352.76,699.446 \n",
       "  \"/>\n",
       "<polyline clip-path=\"url(#clip582)\" style=\"stroke:#000000; stroke-width:2; stroke-opacity:0.1; fill:none\" points=\"\n",
       "  237.968,509.532 2352.76,509.532 \n",
       "  \"/>\n",
       "<polyline clip-path=\"url(#clip582)\" style=\"stroke:#000000; stroke-width:2; stroke-opacity:0.1; fill:none\" points=\"\n",
       "  237.968,319.619 2352.76,319.619 \n",
       "  \"/>\n",
       "<polyline clip-path=\"url(#clip582)\" style=\"stroke:#000000; stroke-width:2; stroke-opacity:0.1; fill:none\" points=\"\n",
       "  237.968,129.705 2352.76,129.705 \n",
       "  \"/>\n",
       "<polyline clip-path=\"url(#clip580)\" style=\"stroke:#000000; stroke-width:4; stroke-opacity:1; fill:none\" points=\"\n",
       "  237.968,1423.18 2352.76,1423.18 \n",
       "  \"/>\n",
       "<polyline clip-path=\"url(#clip580)\" style=\"stroke:#000000; stroke-width:4; stroke-opacity:1; fill:none\" points=\"\n",
       "  237.968,1423.18 237.968,47.2441 \n",
       "  \"/>\n",
       "<polyline clip-path=\"url(#clip580)\" style=\"stroke:#000000; stroke-width:4; stroke-opacity:1; fill:none\" points=\"\n",
       "  296.822,1423.18 296.822,1406.67 \n",
       "  \"/>\n",
       "<polyline clip-path=\"url(#clip580)\" style=\"stroke:#000000; stroke-width:4; stroke-opacity:1; fill:none\" points=\"\n",
       "  795.843,1423.18 795.843,1406.67 \n",
       "  \"/>\n",
       "<polyline clip-path=\"url(#clip580)\" style=\"stroke:#000000; stroke-width:4; stroke-opacity:1; fill:none\" points=\"\n",
       "  1294.86,1423.18 1294.86,1406.67 \n",
       "  \"/>\n",
       "<polyline clip-path=\"url(#clip580)\" style=\"stroke:#000000; stroke-width:4; stroke-opacity:1; fill:none\" points=\"\n",
       "  1793.88,1423.18 1793.88,1406.67 \n",
       "  \"/>\n",
       "<polyline clip-path=\"url(#clip580)\" style=\"stroke:#000000; stroke-width:4; stroke-opacity:1; fill:none\" points=\"\n",
       "  2292.9,1423.18 2292.9,1406.67 \n",
       "  \"/>\n",
       "<polyline clip-path=\"url(#clip580)\" style=\"stroke:#000000; stroke-width:4; stroke-opacity:1; fill:none\" points=\"\n",
       "  237.968,1269.19 263.345,1269.19 \n",
       "  \"/>\n",
       "<polyline clip-path=\"url(#clip580)\" style=\"stroke:#000000; stroke-width:4; stroke-opacity:1; fill:none\" points=\"\n",
       "  237.968,1079.27 263.345,1079.27 \n",
       "  \"/>\n",
       "<polyline clip-path=\"url(#clip580)\" style=\"stroke:#000000; stroke-width:4; stroke-opacity:1; fill:none\" points=\"\n",
       "  237.968,889.36 263.345,889.36 \n",
       "  \"/>\n",
       "<polyline clip-path=\"url(#clip580)\" style=\"stroke:#000000; stroke-width:4; stroke-opacity:1; fill:none\" points=\"\n",
       "  237.968,699.446 263.345,699.446 \n",
       "  \"/>\n",
       "<polyline clip-path=\"url(#clip580)\" style=\"stroke:#000000; stroke-width:4; stroke-opacity:1; fill:none\" points=\"\n",
       "  237.968,509.532 263.345,509.532 \n",
       "  \"/>\n",
       "<polyline clip-path=\"url(#clip580)\" style=\"stroke:#000000; stroke-width:4; stroke-opacity:1; fill:none\" points=\"\n",
       "  237.968,319.619 263.345,319.619 \n",
       "  \"/>\n",
       "<polyline clip-path=\"url(#clip580)\" style=\"stroke:#000000; stroke-width:4; stroke-opacity:1; fill:none\" points=\"\n",
       "  237.968,129.705 263.345,129.705 \n",
       "  \"/>\n",
       "<path clip-path=\"url(#clip580)\" d=\"M 0 0 M296.822 1445.17 Q293.211 1445.17 291.383 1448.74 Q289.577 1452.28 289.577 1459.41 Q289.577 1466.51 291.383 1470.08 Q293.211 1473.62 296.822 1473.62 Q300.457 1473.62 302.262 1470.08 Q304.091 1466.51 304.091 1459.41 Q304.091 1452.28 302.262 1448.74 Q300.457 1445.17 296.822 1445.17 M296.822 1441.47 Q302.633 1441.47 305.688 1446.07 Q308.767 1450.66 308.767 1459.41 Q308.767 1468.13 305.688 1472.74 Q302.633 1477.32 296.822 1477.32 Q291.012 1477.32 287.934 1472.74 Q284.878 1468.13 284.878 1459.41 Q284.878 1450.66 287.934 1446.07 Q291.012 1441.47 296.822 1441.47 Z\" fill=\"#000000\" fill-rule=\"evenodd\" fill-opacity=\"1\" /><path clip-path=\"url(#clip580)\" d=\"M 0 0 M759.107 1442.09 L777.463 1442.09 L777.463 1446.03 L763.389 1446.03 L763.389 1454.5 Q764.408 1454.15 765.426 1453.99 Q766.445 1453.8 767.463 1453.8 Q773.25 1453.8 776.63 1456.98 Q780.009 1460.15 780.009 1465.56 Q780.009 1471.14 776.537 1474.24 Q773.065 1477.32 766.746 1477.32 Q764.57 1477.32 762.301 1476.95 Q760.056 1476.58 757.648 1475.84 L757.648 1471.14 Q759.732 1472.28 761.954 1472.83 Q764.176 1473.39 766.653 1473.39 Q770.658 1473.39 772.996 1471.28 Q775.334 1469.18 775.334 1465.56 Q775.334 1461.95 772.996 1459.85 Q770.658 1457.74 766.653 1457.74 Q764.778 1457.74 762.903 1458.16 Q761.051 1458.57 759.107 1459.45 L759.107 1442.09 Z\" fill=\"#000000\" fill-rule=\"evenodd\" fill-opacity=\"1\" /><path clip-path=\"url(#clip580)\" d=\"M 0 0 M795.079 1445.17 Q791.468 1445.17 789.639 1448.74 Q787.833 1452.28 787.833 1459.41 Q787.833 1466.51 789.639 1470.08 Q791.468 1473.62 795.079 1473.62 Q798.713 1473.62 800.519 1470.08 Q802.347 1466.51 802.347 1459.41 Q802.347 1452.28 800.519 1448.74 Q798.713 1445.17 795.079 1445.17 M795.079 1441.47 Q800.889 1441.47 803.945 1446.07 Q807.023 1450.66 807.023 1459.41 Q807.023 1468.13 803.945 1472.74 Q800.889 1477.32 795.079 1477.32 Q789.269 1477.32 786.19 1472.74 Q783.134 1468.13 783.134 1459.41 Q783.134 1450.66 786.19 1446.07 Q789.269 1441.47 795.079 1441.47 Z\" fill=\"#000000\" fill-rule=\"evenodd\" fill-opacity=\"1\" /><path clip-path=\"url(#clip580)\" d=\"M 0 0 M822.093 1445.17 Q818.481 1445.17 816.653 1448.74 Q814.847 1452.28 814.847 1459.41 Q814.847 1466.51 816.653 1470.08 Q818.481 1473.62 822.093 1473.62 Q825.727 1473.62 827.532 1470.08 Q829.361 1466.51 829.361 1459.41 Q829.361 1452.28 827.532 1448.74 Q825.727 1445.17 822.093 1445.17 M822.093 1441.47 Q827.903 1441.47 830.958 1446.07 Q834.037 1450.66 834.037 1459.41 Q834.037 1468.13 830.958 1472.74 Q827.903 1477.32 822.093 1477.32 Q816.282 1477.32 813.204 1472.74 Q810.148 1468.13 810.148 1459.41 Q810.148 1450.66 813.204 1446.07 Q816.282 1441.47 822.093 1441.47 Z\" fill=\"#000000\" fill-rule=\"evenodd\" fill-opacity=\"1\" /><path clip-path=\"url(#clip580)\" d=\"M 0 0 M1244.72 1472.72 L1252.36 1472.72 L1252.36 1446.35 L1244.05 1448.02 L1244.05 1443.76 L1252.32 1442.09 L1256.99 1442.09 L1256.99 1472.72 L1264.63 1472.72 L1264.63 1476.65 L1244.72 1476.65 L1244.72 1472.72 Z\" fill=\"#000000\" fill-rule=\"evenodd\" fill-opacity=\"1\" /><path clip-path=\"url(#clip580)\" d=\"M 0 0 M1279.7 1445.17 Q1276.09 1445.17 1274.26 1448.74 Q1272.46 1452.28 1272.46 1459.41 Q1272.46 1466.51 1274.26 1470.08 Q1276.09 1473.62 1279.7 1473.62 Q1283.34 1473.62 1285.14 1470.08 Q1286.97 1466.51 1286.97 1459.41 Q1286.97 1452.28 1285.14 1448.74 Q1283.34 1445.17 1279.7 1445.17 M1279.7 1441.47 Q1285.51 1441.47 1288.57 1446.07 Q1291.65 1450.66 1291.65 1459.41 Q1291.65 1468.13 1288.57 1472.74 Q1285.51 1477.32 1279.7 1477.32 Q1273.89 1477.32 1270.81 1472.74 Q1267.76 1468.13 1267.76 1459.41 Q1267.76 1450.66 1270.81 1446.07 Q1273.89 1441.47 1279.7 1441.47 Z\" fill=\"#000000\" fill-rule=\"evenodd\" fill-opacity=\"1\" /><path clip-path=\"url(#clip580)\" d=\"M 0 0 M1306.71 1445.17 Q1303.1 1445.17 1301.27 1448.74 Q1299.47 1452.28 1299.47 1459.41 Q1299.47 1466.51 1301.27 1470.08 Q1303.1 1473.62 1306.71 1473.62 Q1310.35 1473.62 1312.15 1470.08 Q1313.98 1466.51 1313.98 1459.41 Q1313.98 1452.28 1312.15 1448.74 Q1310.35 1445.17 1306.71 1445.17 M1306.71 1441.47 Q1312.52 1441.47 1315.58 1446.07 Q1318.66 1450.66 1318.66 1459.41 Q1318.66 1468.13 1315.58 1472.74 Q1312.52 1477.32 1306.71 1477.32 Q1300.9 1477.32 1297.83 1472.74 Q1294.77 1468.13 1294.77 1459.41 Q1294.77 1450.66 1297.83 1446.07 Q1300.9 1441.47 1306.71 1441.47 Z\" fill=\"#000000\" fill-rule=\"evenodd\" fill-opacity=\"1\" /><path clip-path=\"url(#clip580)\" d=\"M 0 0 M1333.73 1445.17 Q1330.12 1445.17 1328.29 1448.74 Q1326.48 1452.28 1326.48 1459.41 Q1326.48 1466.51 1328.29 1470.08 Q1330.12 1473.62 1333.73 1473.62 Q1337.36 1473.62 1339.17 1470.08 Q1341 1466.51 1341 1459.41 Q1341 1452.28 1339.17 1448.74 Q1337.36 1445.17 1333.73 1445.17 M1333.73 1441.47 Q1339.54 1441.47 1342.59 1446.07 Q1345.67 1450.66 1345.67 1459.41 Q1345.67 1468.13 1342.59 1472.74 Q1339.54 1477.32 1333.73 1477.32 Q1327.92 1477.32 1324.84 1472.74 Q1321.78 1468.13 1321.78 1459.41 Q1321.78 1450.66 1324.84 1446.07 Q1327.92 1441.47 1333.73 1441.47 Z\" fill=\"#000000\" fill-rule=\"evenodd\" fill-opacity=\"1\" /><path clip-path=\"url(#clip580)\" d=\"M 0 0 M1744.24 1472.72 L1751.88 1472.72 L1751.88 1446.35 L1743.57 1448.02 L1743.57 1443.76 L1751.83 1442.09 L1756.51 1442.09 L1756.51 1472.72 L1764.15 1472.72 L1764.15 1476.65 L1744.24 1476.65 L1744.24 1472.72 Z\" fill=\"#000000\" fill-rule=\"evenodd\" fill-opacity=\"1\" /><path clip-path=\"url(#clip580)\" d=\"M 0 0 M1769.27 1442.09 L1787.62 1442.09 L1787.62 1446.03 L1773.55 1446.03 L1773.55 1454.5 Q1774.57 1454.15 1775.58 1453.99 Q1776.6 1453.8 1777.62 1453.8 Q1783.41 1453.8 1786.79 1456.98 Q1790.17 1460.15 1790.17 1465.56 Q1790.17 1471.14 1786.7 1474.24 Q1783.22 1477.32 1776.9 1477.32 Q1774.73 1477.32 1772.46 1476.95 Q1770.21 1476.58 1767.81 1475.84 L1767.81 1471.14 Q1769.89 1472.28 1772.11 1472.83 Q1774.33 1473.39 1776.81 1473.39 Q1780.82 1473.39 1783.15 1471.28 Q1785.49 1469.18 1785.49 1465.56 Q1785.49 1461.95 1783.15 1459.85 Q1780.82 1457.74 1776.81 1457.74 Q1774.94 1457.74 1773.06 1458.16 Q1771.21 1458.57 1769.27 1459.45 L1769.27 1442.09 Z\" fill=\"#000000\" fill-rule=\"evenodd\" fill-opacity=\"1\" /><path clip-path=\"url(#clip580)\" d=\"M 0 0 M1805.24 1445.17 Q1801.63 1445.17 1799.8 1448.74 Q1797.99 1452.28 1797.99 1459.41 Q1797.99 1466.51 1799.8 1470.08 Q1801.63 1473.62 1805.24 1473.62 Q1808.87 1473.62 1810.68 1470.08 Q1812.51 1466.51 1812.51 1459.41 Q1812.51 1452.28 1810.68 1448.74 Q1808.87 1445.17 1805.24 1445.17 M1805.24 1441.47 Q1811.05 1441.47 1814.1 1446.07 Q1817.18 1450.66 1817.18 1459.41 Q1817.18 1468.13 1814.1 1472.74 Q1811.05 1477.32 1805.24 1477.32 Q1799.43 1477.32 1796.35 1472.74 Q1793.29 1468.13 1793.29 1459.41 Q1793.29 1450.66 1796.35 1446.07 Q1799.43 1441.47 1805.24 1441.47 Z\" fill=\"#000000\" fill-rule=\"evenodd\" fill-opacity=\"1\" /><path clip-path=\"url(#clip580)\" d=\"M 0 0 M1832.25 1445.17 Q1828.64 1445.17 1826.81 1448.74 Q1825.01 1452.28 1825.01 1459.41 Q1825.01 1466.51 1826.81 1470.08 Q1828.64 1473.62 1832.25 1473.62 Q1835.89 1473.62 1837.69 1470.08 Q1839.52 1466.51 1839.52 1459.41 Q1839.52 1452.28 1837.69 1448.74 Q1835.89 1445.17 1832.25 1445.17 M1832.25 1441.47 Q1838.06 1441.47 1841.12 1446.07 Q1844.2 1450.66 1844.2 1459.41 Q1844.2 1468.13 1841.12 1472.74 Q1838.06 1477.32 1832.25 1477.32 Q1826.44 1477.32 1823.36 1472.74 Q1820.31 1468.13 1820.31 1459.41 Q1820.31 1450.66 1823.36 1446.07 Q1826.44 1441.47 1832.25 1441.47 Z\" fill=\"#000000\" fill-rule=\"evenodd\" fill-opacity=\"1\" /><path clip-path=\"url(#clip580)\" d=\"M 0 0 M2247.04 1472.72 L2263.35 1472.72 L2263.35 1476.65 L2241.41 1476.65 L2241.41 1472.72 Q2244.07 1469.96 2248.66 1465.33 Q2253.26 1460.68 2254.44 1459.34 Q2256.69 1456.81 2257.57 1455.08 Q2258.47 1453.32 2258.47 1451.63 Q2258.47 1448.87 2256.53 1447.14 Q2254.61 1445.4 2251.5 1445.4 Q2249.3 1445.4 2246.85 1446.17 Q2244.42 1446.93 2241.64 1448.48 L2241.64 1443.76 Q2244.47 1442.62 2246.92 1442.05 Q2249.37 1441.47 2251.41 1441.47 Q2256.78 1441.47 2259.98 1444.15 Q2263.17 1446.84 2263.17 1451.33 Q2263.17 1453.46 2262.36 1455.38 Q2261.57 1457.28 2259.47 1459.87 Q2258.89 1460.54 2255.79 1463.76 Q2252.68 1466.95 2247.04 1472.72 Z\" fill=\"#000000\" fill-rule=\"evenodd\" fill-opacity=\"1\" /><path clip-path=\"url(#clip580)\" d=\"M 0 0 M2278.42 1445.17 Q2274.81 1445.17 2272.98 1448.74 Q2271.18 1452.28 2271.18 1459.41 Q2271.18 1466.51 2272.98 1470.08 Q2274.81 1473.62 2278.42 1473.62 Q2282.06 1473.62 2283.86 1470.08 Q2285.69 1466.51 2285.69 1459.41 Q2285.69 1452.28 2283.86 1448.74 Q2282.06 1445.17 2278.42 1445.17 M2278.42 1441.47 Q2284.23 1441.47 2287.29 1446.07 Q2290.37 1450.66 2290.37 1459.41 Q2290.37 1468.13 2287.29 1472.74 Q2284.23 1477.32 2278.42 1477.32 Q2272.61 1477.32 2269.54 1472.74 Q2266.48 1468.13 2266.48 1459.41 Q2266.48 1450.66 2269.54 1446.07 Q2272.61 1441.47 2278.42 1441.47 Z\" fill=\"#000000\" fill-rule=\"evenodd\" fill-opacity=\"1\" /><path clip-path=\"url(#clip580)\" d=\"M 0 0 M2305.44 1445.17 Q2301.83 1445.17 2300 1448.74 Q2298.19 1452.28 2298.19 1459.41 Q2298.19 1466.51 2300 1470.08 Q2301.83 1473.62 2305.44 1473.62 Q2309.07 1473.62 2310.88 1470.08 Q2312.71 1466.51 2312.71 1459.41 Q2312.71 1452.28 2310.88 1448.74 Q2309.07 1445.17 2305.44 1445.17 M2305.44 1441.47 Q2311.25 1441.47 2314.3 1446.07 Q2317.38 1450.66 2317.38 1459.41 Q2317.38 1468.13 2314.3 1472.74 Q2311.25 1477.32 2305.44 1477.32 Q2299.63 1477.32 2296.55 1472.74 Q2293.49 1468.13 2293.49 1459.41 Q2293.49 1450.66 2296.55 1446.07 Q2299.63 1441.47 2305.44 1441.47 Z\" fill=\"#000000\" fill-rule=\"evenodd\" fill-opacity=\"1\" /><path clip-path=\"url(#clip580)\" d=\"M 0 0 M2332.45 1445.17 Q2328.84 1445.17 2327.01 1448.74 Q2325.21 1452.28 2325.21 1459.41 Q2325.21 1466.51 2327.01 1470.08 Q2328.84 1473.62 2332.45 1473.62 Q2336.09 1473.62 2337.89 1470.08 Q2339.72 1466.51 2339.72 1459.41 Q2339.72 1452.28 2337.89 1448.74 Q2336.09 1445.17 2332.45 1445.17 M2332.45 1441.47 Q2338.26 1441.47 2341.32 1446.07 Q2344.4 1450.66 2344.4 1459.41 Q2344.4 1468.13 2341.32 1472.74 Q2338.26 1477.32 2332.45 1477.32 Q2326.64 1477.32 2323.56 1472.74 Q2320.51 1468.13 2320.51 1459.41 Q2320.51 1450.66 2323.56 1446.07 Q2326.64 1441.47 2332.45 1441.47 Z\" fill=\"#000000\" fill-rule=\"evenodd\" fill-opacity=\"1\" /><path clip-path=\"url(#clip580)\" d=\"M 0 0 M139.339 1254.99 Q135.728 1254.99 133.899 1258.55 Q132.093 1262.09 132.093 1269.22 Q132.093 1276.33 133.899 1279.89 Q135.728 1283.44 139.339 1283.44 Q142.973 1283.44 144.779 1279.89 Q146.607 1276.33 146.607 1269.22 Q146.607 1262.09 144.779 1258.55 Q142.973 1254.99 139.339 1254.99 M139.339 1251.28 Q145.149 1251.28 148.204 1255.89 Q151.283 1260.47 151.283 1269.22 Q151.283 1277.95 148.204 1282.56 Q145.149 1287.14 139.339 1287.14 Q133.529 1287.14 130.45 1282.56 Q127.394 1277.95 127.394 1269.22 Q127.394 1260.47 130.45 1255.89 Q133.529 1251.28 139.339 1251.28 Z\" fill=\"#000000\" fill-rule=\"evenodd\" fill-opacity=\"1\" /><path clip-path=\"url(#clip580)\" d=\"M 0 0 M156.353 1280.59 L161.237 1280.59 L161.237 1286.47 L156.353 1286.47 L156.353 1280.59 Z\" fill=\"#000000\" fill-rule=\"evenodd\" fill-opacity=\"1\" /><path clip-path=\"url(#clip580)\" d=\"M 0 0 M180.473 1267.83 Q183.829 1268.55 185.704 1270.82 Q187.602 1273.09 187.602 1276.42 Q187.602 1281.54 184.084 1284.34 Q180.565 1287.14 174.084 1287.14 Q171.908 1287.14 169.593 1286.7 Q167.302 1286.28 164.848 1285.43 L164.848 1280.91 Q166.792 1282.05 169.107 1282.62 Q171.422 1283.2 173.945 1283.2 Q178.343 1283.2 180.635 1281.47 Q182.95 1279.73 182.95 1276.42 Q182.95 1273.37 180.797 1271.65 Q178.667 1269.92 174.848 1269.92 L170.82 1269.92 L170.82 1266.07 L175.033 1266.07 Q178.482 1266.07 180.311 1264.71 Q182.139 1263.32 182.139 1260.73 Q182.139 1258.06 180.241 1256.65 Q178.366 1255.22 174.848 1255.22 Q172.927 1255.22 170.728 1255.63 Q168.528 1256.05 165.89 1256.93 L165.89 1252.76 Q168.552 1252.02 170.866 1251.65 Q173.204 1251.28 175.265 1251.28 Q180.589 1251.28 183.69 1253.71 Q186.792 1256.12 186.792 1260.24 Q186.792 1263.11 185.149 1265.1 Q183.505 1267.07 180.473 1267.83 Z\" fill=\"#000000\" fill-rule=\"evenodd\" fill-opacity=\"1\" /><path clip-path=\"url(#clip580)\" d=\"M 0 0 M206.838 1267.83 Q210.195 1268.55 212.07 1270.82 Q213.968 1273.09 213.968 1276.42 Q213.968 1281.54 210.45 1284.34 Q206.931 1287.14 200.45 1287.14 Q198.274 1287.14 195.959 1286.7 Q193.667 1286.28 191.214 1285.43 L191.214 1280.91 Q193.158 1282.05 195.473 1282.62 Q197.788 1283.2 200.311 1283.2 Q204.709 1283.2 207 1281.47 Q209.315 1279.73 209.315 1276.42 Q209.315 1273.37 207.163 1271.65 Q205.033 1269.92 201.213 1269.92 L197.186 1269.92 L197.186 1266.07 L201.399 1266.07 Q204.848 1266.07 206.676 1264.71 Q208.505 1263.32 208.505 1260.73 Q208.505 1258.06 206.607 1256.65 Q204.732 1255.22 201.213 1255.22 Q199.292 1255.22 197.093 1255.63 Q194.894 1256.05 192.255 1256.93 L192.255 1252.76 Q194.917 1252.02 197.232 1251.65 Q199.57 1251.28 201.63 1251.28 Q206.954 1251.28 210.056 1253.71 Q213.158 1256.12 213.158 1260.24 Q213.158 1263.11 211.514 1265.1 Q209.871 1267.07 206.838 1267.83 Z\" fill=\"#000000\" fill-rule=\"evenodd\" fill-opacity=\"1\" /><path clip-path=\"url(#clip580)\" d=\"M 0 0 M138.205 1065.07 Q134.593 1065.07 132.765 1068.64 Q130.959 1072.18 130.959 1079.31 Q130.959 1086.41 132.765 1089.98 Q134.593 1093.52 138.205 1093.52 Q141.839 1093.52 143.644 1089.98 Q145.473 1086.41 145.473 1079.31 Q145.473 1072.18 143.644 1068.64 Q141.839 1065.07 138.205 1065.07 M138.205 1061.37 Q144.015 1061.37 147.07 1065.98 Q150.149 1070.56 150.149 1079.31 Q150.149 1088.04 147.07 1092.64 Q144.015 1097.22 138.205 1097.22 Q132.394 1097.22 129.316 1092.64 Q126.26 1088.04 126.26 1079.31 Q126.26 1070.56 129.316 1065.98 Q132.394 1061.37 138.205 1061.37 Z\" fill=\"#000000\" fill-rule=\"evenodd\" fill-opacity=\"1\" /><path clip-path=\"url(#clip580)\" d=\"M 0 0 M155.218 1090.67 L160.103 1090.67 L160.103 1096.55 L155.218 1096.55 L155.218 1090.67 Z\" fill=\"#000000\" fill-rule=\"evenodd\" fill-opacity=\"1\" /><path clip-path=\"url(#clip580)\" d=\"M 0 0 M179.339 1077.92 Q182.695 1078.64 184.57 1080.91 Q186.468 1083.17 186.468 1086.51 Q186.468 1091.62 182.95 1094.42 Q179.431 1097.22 172.95 1097.22 Q170.774 1097.22 168.459 1096.79 Q166.167 1096.37 163.714 1095.51 L163.714 1091 Q165.658 1092.13 167.973 1092.71 Q170.288 1093.29 172.811 1093.29 Q177.209 1093.29 179.501 1091.55 Q181.815 1089.82 181.815 1086.51 Q181.815 1083.45 179.663 1081.74 Q177.533 1080 173.714 1080 L169.686 1080 L169.686 1076.16 L173.899 1076.16 Q177.348 1076.16 179.177 1074.79 Q181.005 1073.41 181.005 1070.81 Q181.005 1068.15 179.107 1066.74 Q177.232 1065.3 173.714 1065.3 Q171.792 1065.3 169.593 1065.72 Q167.394 1066.14 164.755 1067.02 L164.755 1062.85 Q167.417 1062.11 169.732 1061.74 Q172.07 1061.37 174.13 1061.37 Q179.454 1061.37 182.556 1063.8 Q185.658 1066.21 185.658 1070.33 Q185.658 1073.2 184.014 1075.19 Q182.371 1077.16 179.339 1077.92 Z\" fill=\"#000000\" fill-rule=\"evenodd\" fill-opacity=\"1\" /><path clip-path=\"url(#clip580)\" d=\"M 0 0 M204.385 1066.07 L192.579 1084.52 L204.385 1084.52 L204.385 1066.07 M203.158 1061.99 L209.037 1061.99 L209.037 1084.52 L213.968 1084.52 L213.968 1088.41 L209.037 1088.41 L209.037 1096.55 L204.385 1096.55 L204.385 1088.41 L188.783 1088.41 L188.783 1083.89 L203.158 1061.99 Z\" fill=\"#000000\" fill-rule=\"evenodd\" fill-opacity=\"1\" /><path clip-path=\"url(#clip580)\" d=\"M 0 0 M139.686 875.159 Q136.075 875.159 134.246 878.723 Q132.441 882.265 132.441 889.395 Q132.441 896.501 134.246 900.066 Q136.075 903.607 139.686 903.607 Q143.32 903.607 145.126 900.066 Q146.954 896.501 146.954 889.395 Q146.954 882.265 145.126 878.723 Q143.32 875.159 139.686 875.159 M139.686 871.455 Q145.496 871.455 148.552 876.061 Q151.63 880.645 151.63 889.395 Q151.63 898.121 148.552 902.728 Q145.496 907.311 139.686 907.311 Q133.876 907.311 130.797 902.728 Q127.742 898.121 127.742 889.395 Q127.742 880.645 130.797 876.061 Q133.876 871.455 139.686 871.455 Z\" fill=\"#000000\" fill-rule=\"evenodd\" fill-opacity=\"1\" /><path clip-path=\"url(#clip580)\" d=\"M 0 0 M156.7 900.76 L161.584 900.76 L161.584 906.64 L156.7 906.64 L156.7 900.76 Z\" fill=\"#000000\" fill-rule=\"evenodd\" fill-opacity=\"1\" /><path clip-path=\"url(#clip580)\" d=\"M 0 0 M180.82 888.006 Q184.177 888.723 186.052 890.992 Q187.95 893.26 187.95 896.594 Q187.95 901.709 184.431 904.51 Q180.913 907.311 174.431 907.311 Q172.255 907.311 169.94 906.871 Q167.649 906.455 165.195 905.598 L165.195 901.084 Q167.14 902.219 169.454 902.797 Q171.769 903.376 174.292 903.376 Q178.69 903.376 180.982 901.64 Q183.297 899.904 183.297 896.594 Q183.297 893.538 181.144 891.825 Q179.015 890.089 175.195 890.089 L171.167 890.089 L171.167 886.246 L175.38 886.246 Q178.829 886.246 180.658 884.881 Q182.487 883.492 182.487 880.899 Q182.487 878.237 180.589 876.825 Q178.714 875.39 175.195 875.39 Q173.274 875.39 171.075 875.807 Q168.876 876.223 166.237 877.103 L166.237 872.936 Q168.899 872.196 171.214 871.825 Q173.552 871.455 175.612 871.455 Q180.936 871.455 184.038 873.885 Q187.139 876.293 187.139 880.413 Q187.139 883.284 185.496 885.274 Q183.852 887.242 180.82 888.006 Z\" fill=\"#000000\" fill-rule=\"evenodd\" fill-opacity=\"1\" /><path clip-path=\"url(#clip580)\" d=\"M 0 0 M193.065 872.08 L211.422 872.08 L211.422 876.015 L197.348 876.015 L197.348 884.487 Q198.366 884.14 199.385 883.978 Q200.403 883.793 201.422 883.793 Q207.209 883.793 210.588 886.964 Q213.968 890.135 213.968 895.552 Q213.968 901.131 210.496 904.232 Q207.024 907.311 200.704 907.311 Q198.528 907.311 196.26 906.941 Q194.014 906.57 191.607 905.83 L191.607 901.131 Q193.69 902.265 195.913 902.82 Q198.135 903.376 200.612 903.376 Q204.616 903.376 206.954 901.27 Q209.292 899.163 209.292 895.552 Q209.292 891.941 206.954 889.834 Q204.616 887.728 200.612 887.728 Q198.737 887.728 196.862 888.145 Q195.01 888.561 193.065 889.441 L193.065 872.08 Z\" fill=\"#000000\" fill-rule=\"evenodd\" fill-opacity=\"1\" /><path clip-path=\"url(#clip580)\" d=\"M 0 0 M138.529 685.245 Q134.918 685.245 133.089 688.81 Q131.283 692.351 131.283 699.481 Q131.283 706.587 133.089 710.152 Q134.918 713.694 138.529 713.694 Q142.163 713.694 143.968 710.152 Q145.797 706.587 145.797 699.481 Q145.797 692.351 143.968 688.81 Q142.163 685.245 138.529 685.245 M138.529 681.541 Q144.339 681.541 147.394 686.148 Q150.473 690.731 150.473 699.481 Q150.473 708.208 147.394 712.814 Q144.339 717.397 138.529 717.397 Q132.718 717.397 129.64 712.814 Q126.584 708.208 126.584 699.481 Q126.584 690.731 129.64 686.148 Q132.718 681.541 138.529 681.541 Z\" fill=\"#000000\" fill-rule=\"evenodd\" fill-opacity=\"1\" /><path clip-path=\"url(#clip580)\" d=\"M 0 0 M155.542 710.846 L160.427 710.846 L160.427 716.726 L155.542 716.726 L155.542 710.846 Z\" fill=\"#000000\" fill-rule=\"evenodd\" fill-opacity=\"1\" /><path clip-path=\"url(#clip580)\" d=\"M 0 0 M179.663 698.092 Q183.019 698.81 184.894 701.078 Q186.792 703.347 186.792 706.68 Q186.792 711.796 183.274 714.596 Q179.755 717.397 173.274 717.397 Q171.098 717.397 168.783 716.958 Q166.491 716.541 164.038 715.684 L164.038 711.171 Q165.982 712.305 168.297 712.884 Q170.612 713.462 173.135 713.462 Q177.533 713.462 179.825 711.726 Q182.139 709.99 182.139 706.68 Q182.139 703.624 179.987 701.911 Q177.857 700.175 174.038 700.175 L170.01 700.175 L170.01 696.333 L174.223 696.333 Q177.672 696.333 179.501 694.967 Q181.329 693.578 181.329 690.985 Q181.329 688.323 179.431 686.911 Q177.556 685.476 174.038 685.476 Q172.116 685.476 169.917 685.893 Q167.718 686.31 165.079 687.189 L165.079 683.023 Q167.741 682.282 170.056 681.911 Q172.394 681.541 174.454 681.541 Q179.778 681.541 182.88 683.972 Q185.982 686.379 185.982 690.499 Q185.982 693.37 184.339 695.36 Q182.695 697.328 179.663 698.092 Z\" fill=\"#000000\" fill-rule=\"evenodd\" fill-opacity=\"1\" /><path clip-path=\"url(#clip580)\" d=\"M 0 0 M202.44 697.583 Q199.292 697.583 197.44 699.735 Q195.612 701.888 195.612 705.638 Q195.612 709.365 197.44 711.541 Q199.292 713.694 202.44 713.694 Q205.588 713.694 207.417 711.541 Q209.269 709.365 209.269 705.638 Q209.269 701.888 207.417 699.735 Q205.588 697.583 202.44 697.583 M211.723 682.93 L211.723 687.189 Q209.963 686.356 208.158 685.916 Q206.375 685.476 204.616 685.476 Q199.987 685.476 197.533 688.601 Q195.102 691.726 194.755 698.046 Q196.121 696.032 198.181 694.967 Q200.241 693.879 202.718 693.879 Q207.926 693.879 210.936 697.05 Q213.968 700.198 213.968 705.638 Q213.968 710.962 210.82 714.18 Q207.672 717.397 202.44 717.397 Q196.445 717.397 193.274 712.814 Q190.102 708.208 190.102 699.481 Q190.102 691.286 193.991 686.425 Q197.88 681.541 204.431 681.541 Q206.19 681.541 207.973 681.888 Q209.778 682.236 211.723 682.93 Z\" fill=\"#000000\" fill-rule=\"evenodd\" fill-opacity=\"1\" /><path clip-path=\"url(#clip580)\" d=\"M 0 0 M139.593 495.331 Q135.982 495.331 134.154 498.896 Q132.348 502.437 132.348 509.567 Q132.348 516.673 134.154 520.238 Q135.982 523.78 139.593 523.78 Q143.228 523.78 145.033 520.238 Q146.862 516.673 146.862 509.567 Q146.862 502.437 145.033 498.896 Q143.228 495.331 139.593 495.331 M139.593 491.627 Q145.404 491.627 148.459 496.234 Q151.538 500.817 151.538 509.567 Q151.538 518.294 148.459 522.9 Q145.404 527.484 139.593 527.484 Q133.783 527.484 130.705 522.9 Q127.649 518.294 127.649 509.567 Q127.649 500.817 130.705 496.234 Q133.783 491.627 139.593 491.627 Z\" fill=\"#000000\" fill-rule=\"evenodd\" fill-opacity=\"1\" /><path clip-path=\"url(#clip580)\" d=\"M 0 0 M156.607 520.933 L161.491 520.933 L161.491 526.812 L156.607 526.812 L156.607 520.933 Z\" fill=\"#000000\" fill-rule=\"evenodd\" fill-opacity=\"1\" /><path clip-path=\"url(#clip580)\" d=\"M 0 0 M180.727 508.178 Q184.084 508.896 185.959 511.164 Q187.857 513.433 187.857 516.766 Q187.857 521.882 184.339 524.683 Q180.82 527.484 174.339 527.484 Q172.163 527.484 169.848 527.044 Q167.556 526.627 165.103 525.771 L165.103 521.257 Q167.047 522.391 169.362 522.97 Q171.677 523.548 174.2 523.548 Q178.598 523.548 180.889 521.812 Q183.204 520.076 183.204 516.766 Q183.204 513.711 181.052 511.998 Q178.922 510.261 175.102 510.261 L171.075 510.261 L171.075 506.419 L175.288 506.419 Q178.737 506.419 180.565 505.053 Q182.394 503.664 182.394 501.072 Q182.394 498.41 180.496 496.998 Q178.621 495.562 175.102 495.562 Q173.181 495.562 170.982 495.979 Q168.783 496.396 166.144 497.275 L166.144 493.109 Q168.806 492.368 171.121 491.998 Q173.459 491.627 175.519 491.627 Q180.843 491.627 183.945 494.058 Q187.047 496.465 187.047 500.586 Q187.047 503.456 185.403 505.447 Q183.76 507.414 180.727 508.178 Z\" fill=\"#000000\" fill-rule=\"evenodd\" fill-opacity=\"1\" /><path clip-path=\"url(#clip580)\" d=\"M 0 0 M191.746 492.252 L213.968 492.252 L213.968 494.243 L201.422 526.812 L196.538 526.812 L208.343 496.187 L191.746 496.187 L191.746 492.252 Z\" fill=\"#000000\" fill-rule=\"evenodd\" fill-opacity=\"1\" /><path clip-path=\"url(#clip580)\" d=\"M 0 0 M138.783 305.417 Q135.172 305.417 133.343 308.982 Q131.538 312.524 131.538 319.653 Q131.538 326.76 133.343 330.324 Q135.172 333.866 138.783 333.866 Q142.417 333.866 144.223 330.324 Q146.052 326.76 146.052 319.653 Q146.052 312.524 144.223 308.982 Q142.417 305.417 138.783 305.417 M138.783 301.714 Q144.593 301.714 147.649 306.32 Q150.728 310.903 150.728 319.653 Q150.728 328.38 147.649 332.986 Q144.593 337.57 138.783 337.57 Q132.973 337.57 129.894 332.986 Q126.839 328.38 126.839 319.653 Q126.839 310.903 129.894 306.32 Q132.973 301.714 138.783 301.714 Z\" fill=\"#000000\" fill-rule=\"evenodd\" fill-opacity=\"1\" /><path clip-path=\"url(#clip580)\" d=\"M 0 0 M155.797 331.019 L160.681 331.019 L160.681 336.899 L155.797 336.899 L155.797 331.019 Z\" fill=\"#000000\" fill-rule=\"evenodd\" fill-opacity=\"1\" /><path clip-path=\"url(#clip580)\" d=\"M 0 0 M179.917 318.264 Q183.274 318.982 185.149 321.25 Q187.047 323.519 187.047 326.852 Q187.047 331.968 183.528 334.769 Q180.01 337.57 173.528 337.57 Q171.353 337.57 169.038 337.13 Q166.746 336.713 164.292 335.857 L164.292 331.343 Q166.237 332.477 168.552 333.056 Q170.866 333.635 173.39 333.635 Q177.788 333.635 180.079 331.899 Q182.394 330.162 182.394 326.852 Q182.394 323.797 180.241 322.084 Q178.112 320.348 174.292 320.348 L170.265 320.348 L170.265 316.505 L174.477 316.505 Q177.927 316.505 179.755 315.139 Q181.584 313.75 181.584 311.158 Q181.584 308.496 179.686 307.084 Q177.811 305.649 174.292 305.649 Q172.371 305.649 170.172 306.065 Q167.973 306.482 165.334 307.362 L165.334 303.195 Q167.996 302.454 170.311 302.084 Q172.649 301.714 174.709 301.714 Q180.033 301.714 183.135 304.144 Q186.237 306.551 186.237 310.672 Q186.237 313.542 184.593 315.533 Q182.95 317.5 179.917 318.264 Z\" fill=\"#000000\" fill-rule=\"evenodd\" fill-opacity=\"1\" /><path clip-path=\"url(#clip580)\" d=\"M 0 0 M202.116 320.487 Q198.783 320.487 196.862 322.269 Q194.963 324.051 194.963 327.176 Q194.963 330.301 196.862 332.084 Q198.783 333.866 202.116 333.866 Q205.45 333.866 207.371 332.084 Q209.292 330.278 209.292 327.176 Q209.292 324.051 207.371 322.269 Q205.473 320.487 202.116 320.487 M197.44 318.496 Q194.431 317.755 192.741 315.695 Q191.075 313.635 191.075 310.672 Q191.075 306.528 194.014 304.121 Q196.977 301.714 202.116 301.714 Q207.278 301.714 210.218 304.121 Q213.158 306.528 213.158 310.672 Q213.158 313.635 211.468 315.695 Q209.801 317.755 206.815 318.496 Q210.195 319.283 212.07 321.575 Q213.968 323.866 213.968 327.176 Q213.968 332.199 210.889 334.885 Q207.834 337.57 202.116 337.57 Q196.399 337.57 193.32 334.885 Q190.264 332.199 190.264 327.176 Q190.264 323.866 192.163 321.575 Q194.061 319.283 197.44 318.496 M195.727 311.112 Q195.727 313.797 197.394 315.301 Q199.084 316.806 202.116 316.806 Q205.125 316.806 206.815 315.301 Q208.528 313.797 208.528 311.112 Q208.528 308.426 206.815 306.922 Q205.125 305.417 202.116 305.417 Q199.084 305.417 197.394 306.922 Q195.727 308.426 195.727 311.112 Z\" fill=\"#000000\" fill-rule=\"evenodd\" fill-opacity=\"1\" /><path clip-path=\"url(#clip580)\" d=\"M 0 0 M138.876 115.503 Q135.265 115.503 133.436 119.068 Q131.63 122.61 131.63 129.739 Q131.63 136.846 133.436 140.411 Q135.265 143.952 138.876 143.952 Q142.51 143.952 144.316 140.411 Q146.144 136.846 146.144 129.739 Q146.144 122.61 144.316 119.068 Q142.51 115.503 138.876 115.503 M138.876 111.8 Q144.686 111.8 147.742 116.406 Q150.82 120.989 150.82 129.739 Q150.82 138.466 147.742 143.073 Q144.686 147.656 138.876 147.656 Q133.066 147.656 129.987 143.073 Q126.931 138.466 126.931 129.739 Q126.931 120.989 129.987 116.406 Q133.066 111.8 138.876 111.8 Z\" fill=\"#000000\" fill-rule=\"evenodd\" fill-opacity=\"1\" /><path clip-path=\"url(#clip580)\" d=\"M 0 0 M155.89 141.105 L160.774 141.105 L160.774 146.985 L155.89 146.985 L155.89 141.105 Z\" fill=\"#000000\" fill-rule=\"evenodd\" fill-opacity=\"1\" /><path clip-path=\"url(#clip580)\" d=\"M 0 0 M180.01 128.351 Q183.366 129.068 185.241 131.337 Q187.139 133.605 187.139 136.938 Q187.139 142.054 183.621 144.855 Q180.102 147.656 173.621 147.656 Q171.445 147.656 169.13 147.216 Q166.839 146.8 164.385 145.943 L164.385 141.429 Q166.329 142.563 168.644 143.142 Q170.959 143.721 173.482 143.721 Q177.88 143.721 180.172 141.985 Q182.487 140.249 182.487 136.938 Q182.487 133.883 180.334 132.17 Q178.204 130.434 174.385 130.434 L170.357 130.434 L170.357 126.591 L174.57 126.591 Q178.019 126.591 179.848 125.226 Q181.677 123.837 181.677 121.244 Q181.677 118.582 179.778 117.17 Q177.903 115.735 174.385 115.735 Q172.464 115.735 170.265 116.152 Q168.065 116.568 165.427 117.448 L165.427 113.281 Q168.089 112.54 170.403 112.17 Q172.741 111.8 174.802 111.8 Q180.126 111.8 183.227 114.23 Q186.329 116.638 186.329 120.758 Q186.329 123.628 184.686 125.619 Q183.042 127.587 180.01 128.351 Z\" fill=\"#000000\" fill-rule=\"evenodd\" fill-opacity=\"1\" /><path clip-path=\"url(#clip580)\" d=\"M 0 0 M192.348 146.267 L192.348 142.008 Q194.107 142.841 195.913 143.281 Q197.718 143.721 199.454 143.721 Q204.084 143.721 206.514 140.619 Q208.968 137.494 209.315 131.151 Q207.973 133.142 205.913 134.207 Q203.852 135.272 201.352 135.272 Q196.167 135.272 193.135 132.147 Q190.126 128.999 190.126 123.559 Q190.126 118.235 193.274 115.017 Q196.422 111.8 201.653 111.8 Q207.649 111.8 210.797 116.406 Q213.968 120.989 213.968 129.739 Q213.968 137.911 210.079 142.795 Q206.213 147.656 199.663 147.656 Q197.903 147.656 196.098 147.309 Q194.292 146.962 192.348 146.267 M201.653 131.614 Q204.801 131.614 206.63 129.462 Q208.482 127.309 208.482 123.559 Q208.482 119.832 206.63 117.679 Q204.801 115.503 201.653 115.503 Q198.505 115.503 196.653 117.679 Q194.825 119.832 194.825 123.559 Q194.825 127.309 196.653 129.462 Q198.505 131.614 201.653 131.614 Z\" fill=\"#000000\" fill-rule=\"evenodd\" fill-opacity=\"1\" /><path clip-path=\"url(#clip580)\" d=\"M 0 0 M1225.64 1536.76 L1225.64 1539.62 L1198.71 1539.62 Q1199.1 1545.67 1202.34 1548.85 Q1205.62 1552 1211.45 1552 Q1214.82 1552 1217.97 1551.17 Q1221.15 1550.35 1224.27 1548.69 L1224.27 1554.23 Q1221.12 1555.57 1217.81 1556.27 Q1214.5 1556.97 1211.1 1556.97 Q1202.57 1556.97 1197.57 1552 Q1192.6 1547.04 1192.6 1538.57 Q1192.6 1529.82 1197.31 1524.69 Q1202.06 1519.54 1210.08 1519.54 Q1217.27 1519.54 1221.44 1524.18 Q1225.64 1528.8 1225.64 1536.76 M1219.79 1535.04 Q1219.72 1530.23 1217.08 1527.37 Q1214.47 1524.5 1210.14 1524.5 Q1205.24 1524.5 1202.28 1527.27 Q1199.35 1530.04 1198.91 1535.07 L1219.79 1535.04 Z\" fill=\"#000000\" fill-rule=\"evenodd\" fill-opacity=\"1\" /><path clip-path=\"url(#clip580)\" d=\"M 0 0 M1237.45 1550.7 L1237.45 1569.6 L1231.56 1569.6 L1231.56 1520.4 L1237.45 1520.4 L1237.45 1525.81 Q1239.3 1522.62 1242.1 1521.1 Q1244.93 1519.54 1248.84 1519.54 Q1255.34 1519.54 1259.38 1524.69 Q1263.45 1529.85 1263.45 1538.25 Q1263.45 1546.65 1259.38 1551.81 Q1255.34 1556.97 1248.84 1556.97 Q1244.93 1556.97 1242.1 1555.44 Q1239.3 1553.88 1237.45 1550.7 M1257.37 1538.25 Q1257.37 1531.79 1254.7 1528.13 Q1252.06 1524.44 1247.41 1524.44 Q1242.77 1524.44 1240.09 1528.13 Q1237.45 1531.79 1237.45 1538.25 Q1237.45 1544.71 1240.09 1548.4 Q1242.77 1552.07 1247.41 1552.07 Q1252.06 1552.07 1254.7 1548.4 Q1257.37 1544.71 1257.37 1538.25 Z\" fill=\"#000000\" fill-rule=\"evenodd\" fill-opacity=\"1\" /><path clip-path=\"url(#clip580)\" d=\"M 0 0 M1283.41 1524.5 Q1278.7 1524.5 1275.96 1528.19 Q1273.23 1531.85 1273.23 1538.25 Q1273.23 1544.65 1275.93 1548.34 Q1278.67 1552 1283.41 1552 Q1288.09 1552 1290.83 1548.31 Q1293.56 1544.62 1293.56 1538.25 Q1293.56 1531.92 1290.83 1528.23 Q1288.09 1524.5 1283.41 1524.5 M1283.41 1519.54 Q1291.05 1519.54 1295.41 1524.5 Q1299.77 1529.47 1299.77 1538.25 Q1299.77 1547 1295.41 1552 Q1291.05 1556.97 1283.41 1556.97 Q1275.74 1556.97 1271.38 1552 Q1267.05 1547 1267.05 1538.25 Q1267.05 1529.47 1271.38 1524.5 Q1275.74 1519.54 1283.41 1519.54 Z\" fill=\"#000000\" fill-rule=\"evenodd\" fill-opacity=\"1\" /><path clip-path=\"url(#clip580)\" d=\"M 0 0 M1331.57 1521.76 L1331.57 1527.24 Q1329.08 1525.87 1326.57 1525.2 Q1324.09 1524.5 1321.54 1524.5 Q1315.84 1524.5 1312.69 1528.13 Q1309.54 1531.73 1309.54 1538.25 Q1309.54 1544.78 1312.69 1548.4 Q1315.84 1552 1321.54 1552 Q1324.09 1552 1326.57 1551.33 Q1329.08 1550.63 1331.57 1549.26 L1331.57 1554.68 Q1329.12 1555.82 1326.47 1556.39 Q1323.86 1556.97 1320.9 1556.97 Q1312.85 1556.97 1308.11 1551.91 Q1303.37 1546.85 1303.37 1538.25 Q1303.37 1529.53 1308.14 1524.53 Q1312.95 1519.54 1321.29 1519.54 Q1323.99 1519.54 1326.57 1520.11 Q1329.15 1520.65 1331.57 1521.76 Z\" fill=\"#000000\" fill-rule=\"evenodd\" fill-opacity=\"1\" /><path clip-path=\"url(#clip580)\" d=\"M 0 0 M1367.34 1534.53 L1367.34 1556.04 L1361.49 1556.04 L1361.49 1534.72 Q1361.49 1529.66 1359.51 1527.14 Q1357.54 1524.63 1353.59 1524.63 Q1348.85 1524.63 1346.11 1527.65 Q1343.38 1530.68 1343.38 1535.9 L1343.38 1556.04 L1337.49 1556.04 L1337.49 1506.52 L1343.38 1506.52 L1343.38 1525.93 Q1345.48 1522.72 1348.31 1521.13 Q1351.17 1519.54 1354.9 1519.54 Q1361.04 1519.54 1364.19 1523.36 Q1367.34 1527.14 1367.34 1534.53 Z\" fill=\"#000000\" fill-rule=\"evenodd\" fill-opacity=\"1\" /><path clip-path=\"url(#clip580)\" d=\"M 0 0 M1396.21 1521.45 L1396.21 1526.98 Q1393.73 1525.71 1391.05 1525.07 Q1388.38 1524.44 1385.52 1524.44 Q1381.16 1524.44 1378.96 1525.77 Q1376.8 1527.11 1376.8 1529.79 Q1376.8 1531.82 1378.35 1533 Q1379.91 1534.15 1384.63 1535.2 L1386.63 1535.64 Q1392.87 1536.98 1395.48 1539.43 Q1398.12 1541.85 1398.12 1546.21 Q1398.12 1551.17 1394.17 1554.07 Q1390.26 1556.97 1383.38 1556.97 Q1380.52 1556.97 1377.4 1556.39 Q1374.31 1555.85 1370.88 1554.74 L1370.88 1548.69 Q1374.12 1550.38 1377.27 1551.24 Q1380.42 1552.07 1383.51 1552.07 Q1387.65 1552.07 1389.88 1550.66 Q1392.1 1549.23 1392.1 1546.65 Q1392.1 1544.27 1390.48 1542.99 Q1388.89 1541.72 1383.45 1540.54 L1381.41 1540.07 Q1375.97 1538.92 1373.55 1536.56 Q1371.13 1534.18 1371.13 1530.04 Q1371.13 1525.01 1374.69 1522.27 Q1378.26 1519.54 1384.82 1519.54 Q1388.06 1519.54 1390.93 1520.01 Q1393.79 1520.49 1396.21 1521.45 Z\" fill=\"#000000\" fill-rule=\"evenodd\" fill-opacity=\"1\" /><path clip-path=\"url(#clip580)\" d=\"M 0 0 M44.1444 904.492 L50.9239 904.492 Q47.9002 907.739 46.4043 911.431 Q44.9083 915.091 44.9083 919.229 Q44.9083 927.377 49.9054 931.705 Q54.8707 936.034 64.2919 936.034 Q73.6813 936.034 78.6784 931.705 Q83.6436 927.377 83.6436 919.229 Q83.6436 915.091 82.1477 911.431 Q80.6518 907.739 77.6281 904.492 L84.3439 904.492 Q86.6355 907.866 87.7814 911.653 Q88.9272 915.409 88.9272 919.611 Q88.9272 930.4 82.3387 936.607 Q75.7183 942.814 64.2919 942.814 Q52.8336 942.814 46.2451 936.607 Q39.6248 930.4 39.6248 919.611 Q39.6248 915.346 40.7706 911.59 Q41.8846 907.802 44.1444 904.492 Z\" fill=\"#000000\" fill-rule=\"evenodd\" fill-opacity=\"1\" /><path clip-path=\"url(#clip580)\" d=\"M 0 0 M57.8307 877.692 Q57.2578 878.679 57.0032 879.857 Q56.7167 881.003 56.7167 882.403 Q56.7167 887.368 59.9632 890.042 Q63.1779 892.684 69.2253 892.684 L88.0042 892.684 L88.0042 898.572 L52.3562 898.572 L52.3562 892.684 L57.8944 892.684 Q54.6479 890.838 53.0883 887.878 Q51.4968 884.917 51.4968 880.684 Q51.4968 880.08 51.5923 879.347 Q51.656 878.615 51.8151 877.724 L57.8307 877.692 Z\" fill=\"#000000\" fill-rule=\"evenodd\" fill-opacity=\"1\" /><path clip-path=\"url(#clip580)\" d=\"M 0 0 M56.4621 859.168 Q56.4621 863.879 60.1542 866.616 Q63.8145 869.353 70.212 869.353 Q76.6095 869.353 80.3017 866.648 Q83.9619 863.911 83.9619 859.168 Q83.9619 854.489 80.2698 851.752 Q76.5777 849.015 70.212 849.015 Q63.8781 849.015 60.186 851.752 Q56.4621 854.489 56.4621 859.168 M51.4968 859.168 Q51.4968 851.529 56.4621 847.169 Q61.4273 842.808 70.212 842.808 Q78.9649 842.808 83.9619 847.169 Q88.9272 851.529 88.9272 859.168 Q88.9272 866.839 83.9619 871.199 Q78.9649 875.528 70.212 875.528 Q61.4273 875.528 56.4621 871.199 Q51.4968 866.839 51.4968 859.168 Z\" fill=\"#000000\" fill-rule=\"evenodd\" fill-opacity=\"1\" /><path clip-path=\"url(#clip580)\" d=\"M 0 0 M53.4065 813.94 L58.9447 813.94 Q57.6716 816.422 57.035 819.096 Q56.3984 821.77 56.3984 824.634 Q56.3984 828.995 57.7352 831.191 Q59.072 833.355 61.7456 833.355 Q63.7826 833.355 64.9603 831.796 Q66.1061 830.236 67.1565 825.525 L67.6021 823.52 Q68.9389 817.282 71.3897 814.672 Q73.8086 812.03 78.1691 812.03 Q83.1344 812.03 86.0308 815.977 Q88.9272 819.892 88.9272 826.767 Q88.9272 829.631 88.3543 832.751 Q87.8132 835.838 86.6992 839.275 L80.6518 839.275 Q82.3387 836.029 83.198 832.878 Q84.0256 829.727 84.0256 826.639 Q84.0256 822.502 82.6251 820.274 Q81.1929 818.046 78.6147 818.046 Q76.2276 818.046 74.9545 819.669 Q73.6813 821.26 72.5037 826.703 L72.0262 828.74 Q70.8804 834.183 68.5251 836.602 Q66.138 839.021 62.0002 839.021 Q56.9713 839.021 54.2341 835.456 Q51.4968 831.891 51.4968 825.334 Q51.4968 822.088 51.9743 819.223 Q52.4517 816.359 53.4065 813.94 Z\" fill=\"#000000\" fill-rule=\"evenodd\" fill-opacity=\"1\" /><path clip-path=\"url(#clip580)\" d=\"M 0 0 M53.4065 783.162 L58.9447 783.162 Q57.6716 785.644 57.035 788.318 Q56.3984 790.991 56.3984 793.856 Q56.3984 798.217 57.7352 800.413 Q59.072 802.577 61.7456 802.577 Q63.7826 802.577 64.9603 801.017 Q66.1061 799.458 67.1565 794.747 L67.6021 792.742 Q68.9389 786.504 71.3897 783.894 Q73.8086 781.252 78.1691 781.252 Q83.1344 781.252 86.0308 785.199 Q88.9272 789.114 88.9272 795.989 Q88.9272 798.853 88.3543 801.972 Q87.8132 805.06 86.6992 808.497 L80.6518 808.497 Q82.3387 805.251 83.198 802.1 Q84.0256 798.949 84.0256 795.861 Q84.0256 791.724 82.6251 789.496 Q81.1929 787.268 78.6147 787.268 Q76.2276 787.268 74.9545 788.891 Q73.6813 790.482 72.5037 795.925 L72.0262 797.962 Q70.8804 803.405 68.5251 805.824 Q66.138 808.243 62.0002 808.243 Q56.9713 808.243 54.2341 804.678 Q51.4968 801.113 51.4968 794.556 Q51.4968 791.31 51.9743 788.445 Q52.4517 785.581 53.4065 783.162 Z\" fill=\"#000000\" fill-rule=\"evenodd\" fill-opacity=\"1\" /><path clip-path=\"url(#clip580)\" d=\"M 0 0 M40.4842 754.134 L40.4842 724.088 L45.895 724.088 L45.895 747.705 L59.9632 747.705 L59.9632 725.075 L65.3741 725.075 L65.3741 747.705 L82.5933 747.705 L82.5933 723.515 L88.0042 723.515 L88.0042 754.134 L40.4842 754.134 Z\" fill=\"#000000\" fill-rule=\"evenodd\" fill-opacity=\"1\" /><path clip-path=\"url(#clip580)\" d=\"M 0 0 M66.4881 687.74 L88.0042 687.74 L88.0042 693.596 L66.679 693.596 Q61.6183 693.596 59.1038 695.57 Q56.5894 697.543 56.5894 701.49 Q56.5894 706.232 59.6131 708.969 Q62.6368 711.707 67.8567 711.707 L88.0042 711.707 L88.0042 717.595 L52.3562 717.595 L52.3562 711.707 L57.8944 711.707 Q54.6797 709.606 53.0883 706.773 Q51.4968 703.909 51.4968 700.185 Q51.4968 694.042 55.3163 690.891 Q59.1038 687.74 66.4881 687.74 Z\" fill=\"#000000\" fill-rule=\"evenodd\" fill-opacity=\"1\" /><path clip-path=\"url(#clip580)\" d=\"M 0 0 M42.2347 675.804 L52.3562 675.804 L52.3562 663.741 L56.9077 663.741 L56.9077 675.804 L76.2594 675.804 Q80.6199 675.804 81.8613 674.626 Q83.1026 673.417 83.1026 669.757 L83.1026 663.741 L88.0042 663.741 L88.0042 669.757 Q88.0042 676.536 85.4897 679.114 Q82.9434 681.692 76.2594 681.692 L56.9077 681.692 L56.9077 685.989 L52.3562 685.989 L52.3562 681.692 L42.2347 681.692 L42.2347 675.804 Z\" fill=\"#000000\" fill-rule=\"evenodd\" fill-opacity=\"1\" /><path clip-path=\"url(#clip580)\" d=\"M 0 0 M57.8307 636.941 Q57.2578 637.928 57.0032 639.106 Q56.7167 640.252 56.7167 641.652 Q56.7167 646.617 59.9632 649.291 Q63.1779 651.933 69.2253 651.933 L88.0042 651.933 L88.0042 657.821 L52.3562 657.821 L52.3562 651.933 L57.8944 651.933 Q54.6479 650.087 53.0883 647.127 Q51.4968 644.166 51.4968 639.933 Q51.4968 639.329 51.5923 638.596 Q51.656 637.864 51.8151 636.973 L57.8307 636.941 Z\" fill=\"#000000\" fill-rule=\"evenodd\" fill-opacity=\"1\" /><path clip-path=\"url(#clip580)\" d=\"M 0 0 M56.4621 618.417 Q56.4621 623.128 60.1542 625.865 Q63.8145 628.602 70.212 628.602 Q76.6095 628.602 80.3017 625.897 Q83.9619 623.16 83.9619 618.417 Q83.9619 613.738 80.2698 611.001 Q76.5777 608.264 70.212 608.264 Q63.8781 608.264 60.186 611.001 Q56.4621 613.738 56.4621 618.417 M51.4968 618.417 Q51.4968 610.778 56.4621 606.418 Q61.4273 602.057 70.212 602.057 Q78.9649 602.057 83.9619 606.418 Q88.9272 610.778 88.9272 618.417 Q88.9272 626.088 83.9619 630.448 Q78.9649 634.777 70.212 634.777 Q61.4273 634.777 56.4621 630.448 Q51.4968 626.088 51.4968 618.417 Z\" fill=\"#000000\" fill-rule=\"evenodd\" fill-opacity=\"1\" /><path clip-path=\"url(#clip580)\" d=\"M 0 0 M82.657 590.249 L101.563 590.249 L101.563 596.137 L52.3562 596.137 L52.3562 590.249 L57.7671 590.249 Q54.5842 588.403 53.0564 585.602 Q51.4968 582.769 51.4968 578.854 Q51.4968 572.361 56.6531 568.319 Q61.8093 564.245 70.212 564.245 Q78.6147 564.245 83.771 568.319 Q88.9272 572.361 88.9272 578.854 Q88.9272 582.769 87.3994 585.602 Q85.8398 588.403 82.657 590.249 M70.212 570.324 Q63.7508 570.324 60.0905 572.998 Q56.3984 575.64 56.3984 580.287 Q56.3984 584.934 60.0905 587.607 Q63.7508 590.249 70.212 590.249 Q76.6732 590.249 80.3653 587.607 Q84.0256 584.934 84.0256 580.287 Q84.0256 575.64 80.3653 572.998 Q76.6732 570.324 70.212 570.324 Z\" fill=\"#000000\" fill-rule=\"evenodd\" fill-opacity=\"1\" /><path clip-path=\"url(#clip580)\" d=\"M 0 0 M91.3143 543.27 Q97.68 545.753 99.6216 548.108 Q101.563 550.463 101.563 554.41 L101.563 559.089 L96.6615 559.089 L96.6615 555.651 Q96.6615 553.232 95.5157 551.896 Q94.3699 550.559 90.1048 548.935 L87.4312 547.885 L52.3562 562.303 L52.3562 556.097 L80.238 544.957 L52.3562 533.817 L52.3562 527.61 L91.3143 543.27 Z\" fill=\"#000000\" fill-rule=\"evenodd\" fill-opacity=\"1\" /><polyline clip-path=\"url(#clip582)\" style=\"stroke:#009af9; stroke-width:8; stroke-opacity:1; fill:none\" points=\"\n",
       "  297.821,976.415 298.819,1311.08 299.817,1361.56 300.815,1370.94 301.813,1372.39 302.811,1370.88 304.807,1365.94 307.801,1360.89 310.795,1360.55 314.787,1361.94 \n",
       "  319.777,1365.29 326.764,1369.84 335.746,1374.4 347.723,1377.71 362.693,1380.71 382.654,1383.93 408.603,1384.24 441.538,1381.49 485.452,1378.06 542.34,1375.3 \n",
       "  615.197,1373.18 711.009,1370.55 834.766,1369.4 996.449,1370.12 1206.04,1362.02 1478.5,1366.52 1832.81,1358.85 2292.9,1357.08 \n",
       "  \"/>\n",
       "<polyline clip-path=\"url(#clip582)\" style=\"stroke:#e26f46; stroke-width:8; stroke-opacity:1; fill:none\" points=\"\n",
       "  297.821,86.1857 298.819,986.976 299.817,1084.1 300.815,1117.32 301.813,1134.9 302.811,1145.76 303.809,1153.23 304.807,1158.87 305.805,1163.28 306.803,1166.8 \n",
       "  307.801,1169.64 308.799,1171.97 309.797,1173.99 310.795,1175.79 311.793,1177.44 312.791,1178.98 313.789,1180.42 314.787,1181.78 315.785,1183.07 316.783,1184.28 \n",
       "  317.781,1185.44 318.779,1186.56 319.777,1187.63 320.775,1188.68 321.773,1189.7 322.772,1190.72 323.77,1191.75 324.768,1192.84 325.766,1194 326.764,1195.27 \n",
       "  327.762,1196.54 328.76,1197.71 329.758,1198.77 330.756,1199.75 331.754,1200.66 332.752,1201.51 333.75,1202.32 334.748,1203.1 335.746,1203.85 336.744,1204.57 \n",
       "  337.742,1205.27 338.74,1205.95 339.738,1206.62 340.736,1207.26 341.734,1207.89 342.732,1208.5 343.73,1209.09 344.728,1209.65 345.726,1210.18 346.724,1210.7 \n",
       "  347.723,1211.18 348.721,1211.64 349.719,1212.07 350.717,1212.48 351.715,1212.86 352.713,1213.22 353.711,1213.57 354.709,1213.9 355.707,1214.22 356.705,1214.53 \n",
       "  357.703,1214.85 358.701,1215.21 359.699,1215.72 360.697,1216.21 361.695,1216.58 362.693,1216.91 363.691,1217.24 364.689,1217.56 365.687,1217.87 366.685,1218.15 \n",
       "  367.683,1218.43 368.681,1218.68 369.679,1218.94 370.677,1219.18 371.676,1219.42 372.674,1219.65 373.672,1219.88 374.67,1220.1 375.668,1220.32 376.666,1220.52 \n",
       "  377.664,1220.73 378.662,1220.94 379.66,1221.15 380.658,1221.35 381.656,1221.55 382.654,1221.75 383.652,1221.94 384.65,1222.14 385.648,1222.34 386.646,1222.54 \n",
       "  387.644,1222.74 388.642,1222.94 389.64,1223.14 390.638,1223.35 391.636,1223.55 392.634,1223.75 393.632,1223.96 394.63,1224.16 395.628,1224.36 396.627,1224.57 \n",
       "  397.625,1224.76 398.623,1224.96 399.621,1225.15 400.619,1225.33 401.617,1225.51 402.615,1225.68 403.613,1225.85 404.611,1226.02 405.609,1226.19 406.607,1226.34 \n",
       "  407.605,1226.5 408.603,1226.66 409.601,1226.8 410.599,1226.96 411.597,1227.11 412.595,1227.26 413.593,1227.4 414.591,1227.55 415.589,1227.7 416.587,1227.85 \n",
       "  417.585,1228.01 418.583,1228.17 419.581,1228.33 420.579,1228.51 421.578,1228.7 422.576,1228.9 423.574,1229.13 424.572,1229.38 425.57,1229.68 426.568,1230.02 \n",
       "  427.566,1230.39 428.564,1230.76 429.562,1231.08 430.56,1231.32 431.558,1231.52 432.556,1231.68 433.554,1231.82 434.552,1231.94 435.55,1232.05 436.548,1232.16 \n",
       "  437.546,1232.26 438.544,1232.36 439.542,1232.46 440.54,1232.56 441.538,1232.65 442.536,1232.75 443.534,1232.85 444.532,1232.94 445.53,1233.04 446.529,1233.12 \n",
       "  447.527,1233.21 448.525,1233.3 449.523,1233.39 450.521,1233.48 451.519,1233.56 452.517,1233.65 453.515,1233.73 454.513,1233.81 455.511,1233.89 456.509,1233.98 \n",
       "  457.507,1234.06 458.505,1234.14 459.503,1234.22 460.501,1234.3 461.499,1234.37 462.497,1234.45 463.495,1234.52 464.493,1234.6 465.491,1234.67 466.489,1234.75 \n",
       "  467.487,1234.81 468.485,1234.89 469.483,1234.96 470.482,1235.03 471.48,1235.1 472.478,1235.17 473.476,1235.24 474.474,1235.31 475.472,1235.38 476.47,1235.45 \n",
       "  477.468,1235.51 478.466,1235.58 479.464,1235.65 480.462,1235.71 481.46,1235.78 482.458,1235.84 483.456,1235.91 484.454,1235.97 485.452,1236.04 486.45,1236.1 \n",
       "  487.448,1236.17 488.446,1236.23 489.444,1236.29 490.442,1236.36 491.44,1236.42 492.438,1236.49 493.436,1236.55 494.434,1236.61 495.433,1236.68 496.431,1236.74 \n",
       "  497.429,1236.81 498.427,1236.87 499.425,1236.94 500.423,1237 501.421,1237.07 502.419,1237.13 503.417,1237.2 504.415,1237.26 505.413,1237.33 506.411,1237.4 \n",
       "  507.409,1237.46 508.407,1237.53 509.405,1237.59 510.403,1237.66 511.401,1237.73 512.399,1237.79 513.397,1237.86 514.395,1237.93 515.393,1237.99 516.391,1238.06 \n",
       "  517.389,1238.13 518.387,1238.19 519.385,1238.26 520.384,1238.32 521.382,1238.39 522.38,1238.46 523.378,1238.52 524.376,1238.58 525.374,1238.64 526.372,1238.71 \n",
       "  527.37,1238.77 528.368,1238.83 529.366,1238.89 530.364,1238.95 531.362,1239.01 532.36,1239.07 533.358,1239.12 534.356,1239.18 535.354,1239.23 536.352,1239.29 \n",
       "  537.35,1239.34 538.348,1239.39 539.346,1239.44 540.344,1239.49 541.342,1239.54 542.34,1239.58 543.338,1239.63 544.337,1239.67 545.335,1239.71 546.333,1239.75 \n",
       "  547.331,1239.79 548.329,1239.83 549.327,1239.87 550.325,1239.9 551.323,1239.94 552.321,1239.97 553.319,1240.01 554.317,1240.04 555.315,1240.07 556.313,1240.1 \n",
       "  557.311,1240.13 558.309,1240.16 559.307,1240.18 560.305,1240.21 561.303,1240.24 562.301,1240.26 563.299,1240.28 564.297,1240.31 565.295,1240.33 566.293,1240.35 \n",
       "  567.291,1240.36 568.289,1240.38 569.288,1240.41 570.286,1240.42 571.284,1240.43 572.282,1240.45 573.28,1240.47 574.278,1240.48 575.276,1240.49 576.274,1240.5 \n",
       "  577.272,1240.51 578.27,1240.52 579.268,1240.53 580.266,1240.55 581.264,1240.55 582.262,1240.56 583.26,1240.57 584.258,1240.58 585.256,1240.58 586.254,1240.59 \n",
       "  587.252,1240.59 588.25,1240.6 589.248,1240.6 590.246,1240.61 591.244,1240.61 592.242,1240.61 593.24,1240.62 594.239,1240.62 595.237,1240.62 596.235,1240.62 \n",
       "  597.233,1240.62 598.231,1240.63 599.229,1240.63 600.227,1240.63 601.225,1240.63 602.223,1240.63 603.221,1240.63 604.219,1240.63 605.217,1240.63 606.215,1240.62 \n",
       "  607.213,1240.62 608.211,1240.62 609.209,1240.62 610.207,1240.62 611.205,1240.62 612.203,1240.62 613.201,1240.61 614.199,1240.61 615.197,1240.61 616.195,1240.61 \n",
       "  617.193,1240.61 618.192,1240.61 619.19,1240.61 620.188,1240.61 621.186,1240.61 622.184,1240.62 623.182,1240.62 624.18,1240.62 625.178,1240.62 626.176,1240.63 \n",
       "  627.174,1240.63 628.172,1240.64 629.17,1240.64 630.168,1240.65 631.166,1240.66 632.164,1240.66 633.162,1240.67 634.16,1240.68 635.158,1240.69 636.156,1240.7 \n",
       "  637.154,1240.71 638.152,1240.71 639.15,1240.72 640.148,1240.73 641.146,1240.74 642.144,1240.75 643.143,1240.77 644.141,1240.78 645.139,1240.79 646.137,1240.8 \n",
       "  647.135,1240.81 648.133,1240.82 649.131,1240.83 650.129,1240.84 651.127,1240.85 652.125,1240.86 653.123,1240.87 654.121,1240.88 655.119,1240.9 656.117,1240.9 \n",
       "  657.115,1240.92 658.113,1240.93 659.111,1240.94 660.109,1240.95 661.107,1240.96 662.105,1240.97 663.103,1240.98 664.101,1240.99 665.099,1241 666.097,1241.01 \n",
       "  667.095,1241.02 668.094,1241.04 669.092,1241.05 670.09,1241.06 671.088,1241.07 672.086,1241.08 673.084,1241.09 674.082,1241.1 675.08,1241.12 676.078,1241.13 \n",
       "  677.076,1241.14 678.074,1241.15 679.072,1241.16 680.07,1241.18 681.068,1241.19 682.066,1241.2 683.064,1241.21 684.062,1241.23 685.06,1241.24 686.058,1241.25 \n",
       "  687.056,1241.26 688.054,1241.27 689.052,1241.28 690.05,1241.3 691.048,1241.31 692.046,1241.32 693.045,1241.33 694.043,1241.34 695.041,1241.36 696.039,1241.37 \n",
       "  697.037,1241.38 698.035,1241.39 699.033,1241.4 700.031,1241.41 701.029,1241.42 702.027,1241.43 703.025,1241.44 704.023,1241.45 705.021,1241.46 706.019,1241.47 \n",
       "  707.017,1241.48 708.015,1241.49 709.013,1241.5 710.011,1241.51 711.009,1241.52 712.007,1241.53 713.005,1241.53 714.003,1241.54 715.001,1241.55 715.999,1241.56 \n",
       "  716.998,1241.56 717.996,1241.57 718.994,1241.58 719.992,1241.58 720.99,1241.59 721.988,1241.59 722.986,1241.6 723.984,1241.6 724.982,1241.61 725.98,1241.62 \n",
       "  726.978,1241.62 727.976,1241.63 728.974,1241.63 729.972,1241.63 730.97,1241.64 731.968,1241.64 732.966,1241.64 733.964,1241.65 734.962,1241.65 735.96,1241.65 \n",
       "  736.958,1241.65 737.956,1241.66 738.954,1241.66 739.952,1241.67 740.95,1241.67 741.949,1241.68 742.947,1241.68 743.945,1241.69 744.943,1241.69 745.941,1241.7 \n",
       "  746.939,1241.71 747.937,1241.71 748.935,1241.72 749.933,1241.73 750.931,1241.74 751.929,1241.75 752.927,1241.77 753.925,1241.78 754.923,1241.79 755.921,1241.8 \n",
       "  756.919,1241.82 757.917,1241.83 758.915,1241.84 759.913,1241.86 760.911,1241.88 761.909,1241.89 762.907,1241.91 763.905,1241.93 764.903,1241.95 765.901,1241.96 \n",
       "  766.9,1241.98 767.898,1242 768.896,1242.02 769.894,1242.03 770.892,1242.05 771.89,1242.07 772.888,1242.09 773.886,1242.11 774.884,1242.13 775.882,1242.15 \n",
       "  776.88,1242.17 777.878,1242.19 778.876,1242.2 779.874,1242.23 780.872,1242.24 781.87,1242.26 782.868,1242.28 783.866,1242.3 784.864,1242.32 785.862,1242.34 \n",
       "  786.86,1242.36 787.858,1242.38 788.856,1242.4 789.854,1242.42 790.853,1242.44 791.851,1242.46 792.849,1242.47 793.847,1242.49 794.845,1242.51 795.843,1242.53 \n",
       "  796.841,1242.55 797.839,1242.57 798.837,1242.58 799.835,1242.6 800.833,1242.62 801.831,1242.64 802.829,1242.66 803.827,1242.68 804.825,1242.69 805.823,1242.71 \n",
       "  806.821,1242.73 807.819,1242.75 808.817,1242.76 809.815,1242.78 810.813,1242.8 811.811,1242.82 812.809,1242.83 813.807,1242.85 814.805,1242.87 815.804,1242.89 \n",
       "  816.802,1242.91 817.8,1242.92 818.798,1242.94 819.796,1242.96 820.794,1242.97 821.792,1242.99 822.79,1243.01 823.788,1243.02 824.786,1243.04 825.784,1243.06 \n",
       "  826.782,1243.08 827.78,1243.09 828.778,1243.11 829.776,1243.12 830.774,1243.14 831.772,1243.16 832.77,1243.18 833.768,1243.19 834.766,1243.21 835.764,1243.23 \n",
       "  836.762,1243.24 837.76,1243.26 838.758,1243.28 839.756,1243.29 840.755,1243.31 841.753,1243.32 842.751,1243.34 843.749,1243.36 844.747,1243.37 845.745,1243.39 \n",
       "  846.743,1243.41 847.741,1243.42 848.739,1243.44 849.737,1243.46 850.735,1243.47 851.733,1243.49 852.731,1243.51 853.729,1243.52 854.727,1243.54 855.725,1243.55 \n",
       "  856.723,1243.57 857.721,1243.59 858.719,1243.6 859.717,1243.62 860.715,1243.64 861.713,1243.65 862.711,1243.67 863.709,1243.68 864.707,1243.7 865.706,1243.72 \n",
       "  866.704,1243.74 867.702,1243.75 868.7,1243.77 869.698,1243.78 870.696,1243.8 871.694,1243.82 872.692,1243.83 873.69,1243.85 874.688,1243.87 875.686,1243.88 \n",
       "  876.684,1243.9 877.682,1243.92 878.68,1243.94 879.678,1243.95 880.676,1243.97 881.674,1243.99 882.672,1244.01 883.67,1244.02 884.668,1244.04 885.666,1244.06 \n",
       "  886.664,1244.08 887.662,1244.09 888.66,1244.11 889.659,1244.13 890.657,1244.15 891.655,1244.17 892.653,1244.19 893.651,1244.21 894.649,1244.22 895.647,1244.24 \n",
       "  896.645,1244.27 897.643,1244.28 898.641,1244.3 899.639,1244.32 900.637,1244.34 901.635,1244.36 902.633,1244.38 903.631,1244.4 904.629,1244.42 905.627,1244.44 \n",
       "  906.625,1244.47 907.623,1244.49 908.621,1244.51 909.619,1244.53 910.617,1244.55 911.615,1244.57 912.613,1244.6 913.611,1244.62 914.61,1244.64 915.608,1244.66 \n",
       "  916.606,1244.69 917.604,1244.71 918.602,1244.73 919.6,1244.76 920.598,1244.78 921.596,1244.8 922.594,1244.83 923.592,1244.85 924.59,1244.88 925.588,1244.9 \n",
       "  926.586,1244.93 927.584,1244.95 928.582,1244.98 929.58,1245 930.578,1245.03 931.576,1245.06 932.574,1245.09 933.572,1245.12 934.57,1245.14 935.568,1245.17 \n",
       "  936.566,1245.2 937.564,1245.23 938.562,1245.26 939.561,1245.29 940.559,1245.32 941.557,1245.35 942.555,1245.38 943.553,1245.41 944.551,1245.44 945.549,1245.48 \n",
       "  946.547,1245.51 947.545,1245.54 948.543,1245.58 949.541,1245.61 950.539,1245.65 951.537,1245.68 952.535,1245.72 953.533,1245.76 954.531,1245.8 955.529,1245.83 \n",
       "  956.527,1245.87 957.525,1245.91 958.523,1245.95 959.521,1246 960.519,1246.04 961.517,1246.08 962.515,1246.12 963.514,1246.17 964.512,1246.21 965.51,1246.26 \n",
       "  966.508,1246.31 967.506,1246.36 968.504,1246.41 969.502,1246.46 970.5,1246.51 971.498,1246.56 972.496,1246.62 973.494,1246.67 974.492,1246.73 975.49,1246.78 \n",
       "  976.488,1246.83 977.486,1246.89 978.484,1246.95 979.482,1247.01 980.48,1247.07 981.478,1247.13 982.476,1247.19 983.474,1247.25 984.472,1247.31 985.47,1247.37 \n",
       "  986.468,1247.43 987.466,1247.48 988.465,1247.54 989.463,1247.6 990.461,1247.66 991.459,1247.72 992.457,1247.78 993.455,1247.83 994.453,1247.89 995.451,1247.95 \n",
       "  996.449,1248.01 997.447,1248.07 998.445,1248.12 999.443,1248.18 1000.44,1248.24 1001.44,1248.29 1002.44,1248.35 1003.44,1248.4 1004.43,1248.46 1005.43,1248.51 \n",
       "  1006.43,1248.57 1007.43,1248.62 1008.43,1248.68 1009.42,1248.73 1010.42,1248.79 1011.42,1248.84 1012.42,1248.89 1013.42,1248.95 1014.41,1249 1015.41,1249.06 \n",
       "  1016.41,1249.12 1017.41,1249.17 1018.41,1249.23 1019.4,1249.28 1020.4,1249.33 1021.4,1249.38 1022.4,1249.43 1023.4,1249.47 1024.39,1249.52 1025.39,1249.55 \n",
       "  1026.39,1249.59 1027.39,1249.62 1028.39,1249.65 1029.38,1249.68 1030.38,1249.71 1031.38,1249.74 1032.38,1249.76 1033.38,1249.79 1034.37,1249.81 1035.37,1249.84 \n",
       "  1036.37,1249.86 1037.37,1249.89 1038.37,1249.91 1039.36,1249.94 1040.36,1249.96 1041.36,1249.98 1042.36,1250.01 1043.36,1250.03 1044.35,1250.05 1045.35,1250.08 \n",
       "  1046.35,1250.1 1047.35,1250.12 1048.35,1250.14 1049.34,1250.16 1050.34,1250.18 1051.34,1250.2 1052.34,1250.22 1053.34,1250.24 1054.34,1250.25 1055.33,1250.27 \n",
       "  1056.33,1250.28 1057.33,1250.3 1058.33,1250.31 1059.33,1250.33 1060.32,1250.34 1061.32,1250.35 1062.32,1250.36 1063.32,1250.37 1064.32,1250.38 1065.31,1250.39 \n",
       "  1066.31,1250.4 1067.31,1250.41 1068.31,1250.42 1069.31,1250.42 1070.3,1250.43 1071.3,1250.43 1072.3,1250.43 1073.3,1250.44 1074.3,1250.44 1075.29,1250.44 \n",
       "  1076.29,1250.44 1077.29,1250.44 1078.29,1250.44 1079.29,1250.44 1080.28,1250.43 1081.28,1250.43 1082.28,1250.43 1083.28,1250.42 1084.28,1250.41 1085.27,1250.4 \n",
       "  1086.27,1250.39 1087.27,1250.38 1088.27,1250.37 1089.27,1250.36 1090.26,1250.35 1091.26,1250.33 1092.26,1250.32 1093.26,1250.3 1094.26,1250.29 1095.25,1250.27 \n",
       "  1096.25,1250.25 1097.25,1250.24 1098.25,1250.22 1099.25,1250.2 1100.25,1250.18 1101.24,1250.16 1102.24,1250.14 1103.24,1250.11 1104.24,1250.1 1105.24,1250.08 \n",
       "  1106.23,1250.06 1107.23,1250.04 1108.23,1250.02 1109.23,1250.01 1110.23,1250 1111.22,1249.99 1112.22,1249.98 1113.22,1249.98 1114.22,1249.99 1115.22,1250.01 \n",
       "  1116.21,1250.04 1117.21,1250.09 1118.21,1250.15 1119.21,1250.23 1120.21,1250.32 1121.2,1250.42 1122.2,1250.53 1123.2,1250.65 1124.2,1250.77 1125.2,1250.88 \n",
       "  1126.19,1251 1127.19,1251.1 1128.19,1251.2 1129.19,1251.28 1130.19,1251.37 1131.18,1251.45 1132.18,1251.54 1133.18,1251.64 1134.18,1251.76 1135.18,1251.9 \n",
       "  1136.17,1252.07 1137.17,1252.26 1138.17,1252.47 1139.17,1252.69 1140.17,1252.9 1141.16,1253.1 1142.16,1253.25 1143.16,1253.34 1144.16,1253.38 1145.16,1253.37 \n",
       "  1146.15,1253.35 1147.15,1253.33 1148.15,1253.31 1149.15,1253.29 1150.15,1253.28 1151.15,1253.27 1152.14,1253.27 1153.14,1253.26 1154.14,1253.26 1155.14,1253.26 \n",
       "  1156.14,1253.26 1157.13,1253.26 1158.13,1253.25 1159.13,1253.25 1160.13,1253.24 1161.13,1253.23 1162.12,1253.21 1163.12,1253.19 1164.12,1253.17 1165.12,1253.14 \n",
       "  1166.12,1253.11 1167.11,1253.07 1168.11,1253.03 1169.11,1253 1170.11,1252.96 1171.11,1252.93 1172.1,1252.92 1173.1,1252.91 1174.1,1252.93 1175.1,1252.95 \n",
       "  1176.1,1252.98 1177.09,1253.02 1178.09,1253.07 1179.09,1253.1 1180.09,1253.14 1181.09,1253.17 1182.08,1253.2 1183.08,1253.22 1184.08,1253.25 1185.08,1253.28 \n",
       "  1186.08,1253.3 1187.07,1253.33 1188.07,1253.36 1189.07,1253.38 1190.07,1253.41 1191.07,1253.44 1192.06,1253.48 1193.06,1253.51 1194.06,1253.55 1195.06,1253.58 \n",
       "  1196.06,1253.62 1197.05,1253.66 1198.05,1253.7 1199.05,1253.74 1200.05,1253.77 1201.05,1253.82 1202.05,1253.85 1203.04,1253.89 1204.04,1253.93 1205.04,1253.97 \n",
       "  1206.04,1254 1207.04,1254.04 1208.03,1254.07 1209.03,1254.11 1210.03,1254.14 1211.03,1254.17 1212.03,1254.21 1213.02,1254.24 1214.02,1254.27 1215.02,1254.31 \n",
       "  1216.02,1254.34 1217.02,1254.37 1218.01,1254.41 1219.01,1254.44 1220.01,1254.47 1221.01,1254.51 1222.01,1254.54 1223,1254.58 1224,1254.61 1225,1254.64 \n",
       "  1226,1254.68 1227,1254.71 1227.99,1254.75 1228.99,1254.79 1229.99,1254.82 1230.99,1254.86 1231.99,1254.89 1232.98,1254.93 1233.98,1254.97 1234.98,1255.01 \n",
       "  1235.98,1255.04 1236.98,1255.08 1237.97,1255.12 1238.97,1255.16 1239.97,1255.2 1240.97,1255.24 1241.97,1255.28 1242.96,1255.32 1243.96,1255.35 1244.96,1255.39 \n",
       "  1245.96,1255.43 1246.96,1255.47 1247.96,1255.51 1248.95,1255.55 1249.95,1255.59 1250.95,1255.63 1251.95,1255.67 1252.95,1255.71 1253.94,1255.75 1254.94,1255.79 \n",
       "  1255.94,1255.83 1256.94,1255.87 1257.94,1255.92 1258.93,1255.96 1259.93,1256 1260.93,1256.04 1261.93,1256.08 1262.93,1256.12 1263.92,1256.16 1264.92,1256.19 \n",
       "  1265.92,1256.23 1266.92,1256.27 1267.92,1256.31 1268.91,1256.35 1269.91,1256.39 1270.91,1256.42 1271.91,1256.46 1272.91,1256.5 1273.9,1256.53 1274.9,1256.57 \n",
       "  1275.9,1256.61 1276.9,1256.66 1277.9,1256.7 1278.89,1256.75 1279.89,1256.82 1280.89,1256.89 1281.89,1256.99 1282.89,1257.11 1283.88,1257.25 1284.88,1257.34 \n",
       "  1285.88,1257.29 1286.88,1257.03 1287.88,1256.64 1288.87,1256.25 1289.87,1255.93 1290.87,1255.67 1291.87,1255.43 1292.87,1255.21 1293.86,1254.98 1294.86,1254.75 \n",
       "  1295.86,1254.5 1296.86,1254.24 1297.86,1253.96 1298.86,1253.65 1299.85,1253.31 1300.85,1252.93 1301.85,1252.49 1302.85,1251.97 1303.85,1251.32 1304.84,1250.49 \n",
       "  1305.84,1249.43 1306.84,1248.12 1307.84,1246.68 1308.84,1245.2 1309.83,1243.42 1310.83,1240.57 1311.83,1237.76 1312.83,1237.28 1313.83,1237.23 1314.82,1237.36 \n",
       "  1315.82,1237.62 1316.82,1237.85 1317.82,1238 1318.82,1238.06 1319.81,1238.11 1320.81,1238.21 1321.81,1238.34 1322.81,1238.48 1323.81,1238.62 1324.8,1238.78 \n",
       "  1325.8,1238.95 1326.8,1239.15 1327.8,1239.4 1328.8,1239.65 1329.79,1239.88 1330.79,1240.04 1331.79,1240.19 1332.79,1240.4 1333.79,1240.63 1334.78,1240.84 \n",
       "  1335.78,1241.05 1336.78,1241.29 1337.78,1241.55 1338.78,1241.84 1339.77,1242.14 1340.77,1242.46 1341.77,1242.79 1342.77,1243.13 1343.77,1243.44 1344.76,1243.67 \n",
       "  1345.76,1243.53 1346.76,1242.92 1347.76,1242.87 1348.76,1242.76 1349.76,1242.59 1350.75,1242.43 1351.75,1242.31 1352.75,1242.23 1353.75,1242.2 1354.75,1242.19 \n",
       "  1355.74,1242.23 1356.74,1242.29 1357.74,1242.39 1358.74,1242.52 1359.74,1242.67 1360.73,1242.84 1361.73,1243.03 1362.73,1243.24 1363.73,1243.46 1364.73,1243.69 \n",
       "  1365.72,1243.94 1366.72,1244.21 1367.72,1244.48 1368.72,1244.76 1369.72,1245.05 1370.71,1245.34 1371.71,1245.63 1372.71,1245.92 1373.71,1246.19 1374.71,1246.45 \n",
       "  1375.7,1246.69 1376.7,1246.91 1377.7,1247.11 1378.7,1247.3 1379.7,1247.47 1380.69,1247.63 1381.69,1247.78 1382.69,1247.94 1383.69,1248.1 1384.69,1248.26 \n",
       "  1385.68,1248.44 1386.68,1248.63 1387.68,1248.83 1388.68,1249.05 1389.68,1249.28 1390.67,1249.54 1391.67,1249.8 1392.67,1250.07 1393.67,1250.34 1394.67,1250.62 \n",
       "  1395.67,1250.88 1396.66,1251.12 1397.66,1251.34 1398.66,1251.51 1399.66,1251.66 1400.66,1251.79 1401.65,1251.92 1402.65,1252.05 1403.65,1252.2 1404.65,1252.37 \n",
       "  1405.65,1252.57 1406.64,1252.81 1407.64,1253.08 1408.64,1253.39 1409.64,1253.72 1410.64,1254.07 1411.63,1254.41 1412.63,1254.72 1413.63,1255.01 1414.63,1255.28 \n",
       "  1415.63,1255.53 1416.62,1255.79 1417.62,1256.04 1418.62,1256.3 1419.62,1256.55 1420.62,1256.82 1421.61,1257.1 1422.61,1257.39 1423.61,1257.67 1424.61,1257.92 \n",
       "  1425.61,1258.09 1426.6,1258.2 1427.6,1258.22 1428.6,1258.16 1429.6,1258.04 1430.6,1257.93 1431.59,1257.84 1432.59,1257.74 1433.59,1257.69 1434.59,1257.68 \n",
       "  1435.59,1257.67 1436.58,1257.65 1437.58,1257.63 1438.58,1257.63 1439.58,1257.65 1440.58,1257.71 1441.57,1257.8 1442.57,1257.93 1443.57,1258.09 1444.57,1258.28 \n",
       "  1445.57,1258.47 1446.57,1258.67 1447.56,1258.86 1448.56,1259.04 1449.56,1259.21 1450.56,1259.37 1451.56,1259.52 1452.55,1259.67 1453.55,1259.79 1454.55,1259.91 \n",
       "  1455.55,1260.03 1456.55,1260.13 1457.54,1260.23 1458.54,1260.33 1459.54,1260.42 1460.54,1260.52 1461.54,1260.61 1462.53,1260.7 1463.53,1260.8 1464.53,1260.89 \n",
       "  1465.53,1260.99 1466.53,1261.1 1467.52,1261.2 1468.52,1261.31 1469.52,1261.43 1470.52,1261.56 1471.52,1261.69 1472.51,1261.83 1473.51,1261.99 1474.51,1262.15 \n",
       "  1475.51,1262.33 1476.51,1262.52 1477.5,1262.73 1478.5,1262.96 1479.5,1263.19 1480.5,1263.4 1481.5,1263.54 1482.49,1263.51 1483.49,1263.2 1484.49,1262.52 \n",
       "  1485.49,1261.42 1486.49,1260.19 1487.48,1259.53 1488.48,1259.76 1489.48,1260.48 1490.48,1261.44 1491.48,1262.21 1492.47,1262.77 1493.47,1263.18 1494.47,1263.54 \n",
       "  1495.47,1263.87 1496.47,1264.17 1497.47,1264.4 1498.46,1264.58 1499.46,1264.71 1500.46,1264.8 1501.46,1264.86 1502.46,1264.9 1503.45,1264.94 1504.45,1264.97 \n",
       "  1505.45,1264.99 1506.45,1265 1507.45,1264.99 1508.44,1264.98 1509.44,1264.94 1510.44,1264.89 1511.44,1264.82 1512.44,1264.73 1513.43,1264.63 1514.43,1264.52 \n",
       "  1515.43,1264.4 1516.43,1264.25 1517.43,1264.09 1518.42,1263.92 1519.42,1263.76 1520.42,1263.61 1521.42,1263.49 1522.42,1263.39 1523.41,1263.31 1524.41,1263.25 \n",
       "  1525.41,1263.21 1526.41,1263.17 1527.41,1263.15 1528.4,1263.13 1529.4,1263.12 1530.4,1263.11 1531.4,1263.09 1532.4,1263.08 1533.39,1263.08 1534.39,1263.07 \n",
       "  1535.39,1263.06 1536.39,1263.06 1537.39,1263.05 1538.38,1263.04 1539.38,1263.04 1540.38,1263.03 1541.38,1263.03 1542.38,1263.02 1543.38,1263.02 1544.37,1263.01 \n",
       "  1545.37,1263.01 1546.37,1263 1547.37,1263 1548.37,1262.99 1549.36,1262.99 1550.36,1262.98 1551.36,1262.98 1552.36,1262.98 1553.36,1262.97 1554.35,1262.97 \n",
       "  1555.35,1262.97 1556.35,1262.97 1557.35,1262.97 1558.35,1262.97 1559.34,1262.97 1560.34,1262.97 1561.34,1262.98 1562.34,1262.98 1563.34,1262.99 1564.33,1263 \n",
       "  1565.33,1263 1566.33,1263.02 1567.33,1263.03 1568.33,1263.04 1569.32,1263.06 1570.32,1263.07 1571.32,1263.09 1572.32,1263.12 1573.32,1263.14 1574.31,1263.17 \n",
       "  1575.31,1263.2 1576.31,1263.24 1577.31,1263.28 1578.31,1263.33 1579.3,1263.39 1580.3,1263.45 1581.3,1263.51 1582.3,1263.57 1583.3,1263.62 1584.29,1263.65 \n",
       "  1585.29,1263.65 1586.29,1263.64 1587.29,1263.6 1588.29,1263.56 1589.28,1263.53 1590.28,1263.51 1591.28,1263.5 1592.28,1263.51 1593.28,1263.53 1594.28,1263.56 \n",
       "  1595.27,1263.6 1596.27,1263.64 1597.27,1263.69 1598.27,1263.75 1599.27,1263.81 1600.26,1263.88 1601.26,1263.95 1602.26,1264.02 1603.26,1264.08 1604.26,1264.14 \n",
       "  1605.25,1264.19 1606.25,1264.22 1607.25,1264.24 1608.25,1264.26 1609.25,1264.26 1610.24,1264.25 1611.24,1264.23 1612.24,1264.21 1613.24,1264.19 1614.24,1264.16 \n",
       "  1615.23,1264.13 1616.23,1264.1 1617.23,1264.07 1618.23,1264.04 1619.23,1264.01 1620.22,1263.99 1621.22,1263.97 1622.22,1263.94 1623.22,1263.93 1624.22,1263.91 \n",
       "  1625.21,1263.9 1626.21,1263.89 1627.21,1263.87 1628.21,1263.87 1629.21,1263.86 1630.2,1263.85 1631.2,1263.85 1632.2,1263.84 1633.2,1263.84 1634.2,1263.83 \n",
       "  1635.19,1263.83 1636.19,1263.83 1637.19,1263.82 1638.19,1263.82 1639.19,1263.82 1640.18,1263.82 1641.18,1263.81 1642.18,1263.81 1643.18,1263.81 1644.18,1263.81 \n",
       "  1645.18,1263.81 1646.17,1263.81 1647.17,1263.81 1648.17,1263.81 1649.17,1263.81 1650.17,1263.81 1651.16,1263.81 1652.16,1263.81 1653.16,1263.81 1654.16,1263.82 \n",
       "  1655.16,1263.82 1656.15,1263.82 1657.15,1263.82 1658.15,1263.82 1659.15,1263.82 1660.15,1263.83 1661.14,1263.83 1662.14,1263.83 1663.14,1263.83 1664.14,1263.84 \n",
       "  1665.14,1263.84 1666.13,1263.84 1667.13,1263.85 1668.13,1263.85 1669.13,1263.86 1670.13,1263.86 1671.12,1263.86 1672.12,1263.87 1673.12,1263.87 1674.12,1263.88 \n",
       "  1675.12,1263.88 1676.11,1263.89 1677.11,1263.89 1678.11,1263.9 1679.11,1263.9 1680.11,1263.91 1681.1,1263.91 1682.1,1263.92 1683.1,1263.93 1684.1,1263.93 \n",
       "  1685.1,1263.94 1686.09,1263.95 1687.09,1263.95 1688.09,1263.96 1689.09,1263.97 1690.09,1263.97 1691.09,1263.98 1692.08,1263.99 1693.08,1263.99 1694.08,1264 \n",
       "  1695.08,1264.01 1696.08,1264.02 1697.07,1264.02 1698.07,1264.03 1699.07,1264.04 1700.07,1264.05 1701.07,1264.06 1702.06,1264.07 1703.06,1264.07 1704.06,1264.08 \n",
       "  1705.06,1264.09 1706.06,1264.1 1707.05,1264.11 1708.05,1264.12 1709.05,1264.13 1710.05,1264.13 1711.05,1264.14 1712.04,1264.15 1713.04,1264.16 1714.04,1264.17 \n",
       "  1715.04,1264.18 1716.04,1264.19 1717.03,1264.2 1718.03,1264.21 1719.03,1264.22 1720.03,1264.23 1721.03,1264.24 1722.02,1264.25 1723.02,1264.26 1724.02,1264.27 \n",
       "  1725.02,1264.28 1726.02,1264.3 1727.01,1264.3 1728.01,1264.3 1729.01,1264.32 1730.01,1264.36 1731.01,1264.36 1732,1264.33 1733,1264.35 1734,1264.43 \n",
       "  1735,1264.47 1736,1264.41 1736.99,1264.3 1737.99,1264.54 1738.99,1264.77 1739.99,1265.3 1740.99,1265.79 1741.99,1265.85 1742.98,1265.44 1743.98,1265.07 \n",
       "  1744.98,1265.25 1745.98,1264.8 1746.98,1265.08 1747.97,1264.62 1748.97,1264.68 1749.97,1264.94 1750.97,1264.81 1751.97,1264.91 1752.96,1265.02 1753.96,1264.96 \n",
       "  1754.96,1264.93 1755.96,1264.89 1756.96,1264.95 1757.95,1264.93 1758.95,1264.88 1759.95,1264.86 1760.95,1264.94 1761.95,1264.93 1762.94,1264.89 1763.94,1264.78 \n",
       "  1764.94,1264.97 1765.94,1265 1766.94,1265.26 1767.93,1265.48 1768.93,1265.98 1769.93,1265.78 1770.93,1266.09 1771.93,1265.72 1772.92,1266.44 1773.92,1266.11 \n",
       "  1774.92,1266.51 1775.92,1267.2 1776.92,1267.11 1777.91,1267.39 1778.91,1267.37 1779.91,1266.87 1780.91,1266.78 1781.91,1267.2 1782.9,1265.32 1783.9,1266.52 \n",
       "  1784.9,1266.9 1785.9,1265.05 1786.9,1267.03 1787.89,1267.58 1788.89,1267.37 1789.89,1267.51 1790.89,1266.97 1791.89,1267.51 1792.89,1267.23 1793.88,1267.37 \n",
       "  1794.88,1266.88 1795.88,1266.15 1796.88,1267.14 1797.88,1267.26 1798.87,1267.19 1799.87,1266.9 1800.87,1266.35 1801.87,1266.71 1802.87,1266.82 1803.86,1267.55 \n",
       "  1804.86,1267.66 1805.86,1267.29 1806.86,1267.36 1807.86,1266.74 1808.85,1267.52 1809.85,1267.46 1810.85,1267.34 1811.85,1265.34 1812.85,1266.61 1813.84,1266.22 \n",
       "  1814.84,1267.07 1815.84,1267.64 1816.84,1267.71 1817.84,1267.65 1818.83,1267.09 1819.83,1266.62 1820.83,1266.61 1821.83,1267.79 1822.83,1266.77 1823.82,1267.25 \n",
       "  1824.82,1266.22 1825.82,1267.01 1826.82,1267.6 1827.82,1267.41 1828.81,1267.44 1829.81,1268 1830.81,1267.58 1831.81,1267.05 1832.81,1267.58 1833.8,1266.47 \n",
       "  1834.8,1267.55 1835.8,1267.49 1836.8,1266.68 1837.8,1265.62 1838.8,1267.16 1839.79,1267.19 1840.79,1267.97 1841.79,1268.06 1842.79,1267.24 1843.79,1267.33 \n",
       "  1844.78,1268.33 1845.78,1267.99 1846.78,1267.98 1847.78,1268.12 1848.78,1268.02 1849.77,1268.1 1850.77,1267.15 1851.77,1266.98 1852.77,1267.67 1853.77,1268.24 \n",
       "  1854.76,1267.48 1855.76,1267.94 1856.76,1267.77 1857.76,1267.76 1858.76,1268.38 1859.75,1268.19 1860.75,1268 1861.75,1268.4 1862.75,1268.29 1863.75,1268.36 \n",
       "  1864.74,1268.3 1865.74,1268.36 1866.74,1267.73 1867.74,1266.72 1868.74,1268.35 1869.73,1268.38 1870.73,1268.46 1871.73,1268.29 1872.73,1268.49 1873.73,1268.56 \n",
       "  1874.72,1268.48 1875.72,1268.13 1876.72,1268.22 1877.72,1268.41 1878.72,1268.28 1879.71,1267.86 1880.71,1268.24 1881.71,1268.21 1882.71,1268.3 1883.71,1267.55 \n",
       "  1884.7,1268.41 1885.7,1268.31 1886.7,1268.06 1887.7,1268.3 1888.7,1268.37 1889.7,1268.38 1890.69,1267.92 1891.69,1268.09 1892.69,1267.51 1893.69,1263.31 \n",
       "  1894.69,1267.27 1895.68,1268.2 1896.68,1268.51 1897.68,1267.63 1898.68,1268.62 1899.68,1268.63 1900.67,1268.55 1901.67,1268.41 1902.67,1268.35 1903.67,1268.23 \n",
       "  1904.67,1268.38 1905.66,1267.94 1906.66,1267.82 1907.66,1265.66 1908.66,1268.27 1909.66,1268.53 1910.65,1268.62 1911.65,1268.58 1912.65,1268.23 1913.65,1268.03 \n",
       "  1914.65,1268.35 1915.64,1267.65 1916.64,1268.27 1917.64,1268.52 1918.64,1268.65 1919.64,1268.37 1920.63,1268.44 1921.63,1268.41 1922.63,1268.28 1923.63,1268.15 \n",
       "  1924.63,1268.22 1925.62,1268.46 1926.62,1264.54 1927.62,1268.52 1928.62,1268.72 1929.62,1268.69 1930.61,1268.62 1931.61,1268.17 1932.61,1268.68 1933.61,1268.72 \n",
       "  1934.61,1268.71 1935.6,1268.67 1936.6,1267.94 1937.6,1268.2 1938.6,1268.69 1939.6,1268.68 1940.6,1268.61 1941.59,1268.38 1942.59,1268.55 1943.59,1268.78 \n",
       "  1944.59,1268.73 1945.59,1268.72 1946.58,1268.42 1947.58,1268.37 1948.58,1268.53 1949.58,1268.67 1950.58,1268.71 1951.57,1268.6 1952.57,1268.66 1953.57,1268.54 \n",
       "  1954.57,1268.41 1955.57,1267.09 1956.56,1267.99 1957.56,1268.76 1958.56,1268.8 1959.56,1268.8 1960.56,1268.59 1961.55,1268.65 1962.55,1268.58 1963.55,1268.37 \n",
       "  1964.55,1268.03 1965.55,1265.91 1966.54,1268.68 1967.54,1268.77 1968.54,1268.75 1969.54,1268.63 1970.54,1265.46 1971.53,1268.81 1972.53,1268.81 1973.53,1268.79 \n",
       "  1974.53,1268.58 1975.53,1268.75 1976.52,1268.82 1977.52,1268.73 1978.52,1268.61 1979.52,1268.67 1980.52,1268.76 1981.51,1268.72 1982.51,1268.62 1983.51,1268.54 \n",
       "  1984.51,1265.45 1985.51,1268.68 1986.5,1268.72 1987.5,1268.78 1988.5,1268.58 1989.5,1268.51 1990.5,1268.69 1991.5,1268.82 1992.49,1268.78 1993.49,1268.82 \n",
       "  1994.49,1268.81 1995.49,1268.81 1996.49,1268.57 1997.48,1268.57 1998.48,1268.87 1999.48,1268.87 2000.48,1268.79 2001.48,1267.4 2002.47,1268.77 2003.47,1268.77 \n",
       "  2004.47,1268.78 2005.47,1268.77 2006.47,1268.64 2007.46,1268.73 2008.46,1268.81 2009.46,1268.76 2010.46,1261.79 2011.46,1267.73 2012.45,1268.79 2013.45,1268.83 \n",
       "  2014.45,1268.84 2015.45,1268.59 2016.45,1268.87 2017.44,1268.86 2018.44,1268.84 2019.44,1268.7 2020.44,1268.77 2021.44,1268.81 2022.43,1268.84 2023.43,1268.82 \n",
       "  2024.43,1268.72 2025.43,1268.83 2026.43,1268.88 2027.42,1268.86 2028.42,1268.82 2029.42,1268.46 2030.42,1266.9 2031.42,1268.86 2032.41,1268.87 2033.41,1268.87 \n",
       "  2034.41,1268.88 2035.41,1268.81 2036.41,1268.64 2037.41,1268.14 2038.4,1268.83 2039.4,1268.86 2040.4,1268.86 2041.4,1268.74 2042.4,1268.79 2043.39,1268.79 \n",
       "  2044.39,1268.78 2045.39,1268.86 2046.39,1268.86 2047.39,1268.85 2048.38,1267 2049.38,1268.89 2050.38,1268.88 2051.38,1268.86 2052.38,1268.84 2053.37,1268.85 \n",
       "  2054.37,1267.63 2055.37,1268.64 2056.37,1268.63 2057.37,1268.83 2058.36,1268.86 2059.36,1268.43 2060.36,1268.78 2061.36,1268.85 2062.36,1268.89 2063.35,1268.88 \n",
       "  2064.35,1268.83 2065.35,1268.83 2066.35,1268.8 2067.35,1268.72 2068.34,1268.83 2069.34,1268.9 2070.34,1268.83 2071.34,1268.69 2072.34,1268.3 2073.33,1268.73 \n",
       "  2074.33,1268.83 2075.33,1268.84 2076.33,1268.85 2077.33,1268.81 2078.32,1268.9 2079.32,1268.9 2080.32,1268.86 2081.32,1268.8 2082.32,1268.89 2083.31,1268.91 \n",
       "  2084.31,1268.89 2085.31,1268.88 2086.31,1268.73 2087.31,1268.89 2088.31,1268.91 2089.3,1268.91 2090.3,1268.89 2091.3,1268.85 2092.3,1268.76 2093.3,1268.88 \n",
       "  2094.29,1268.86 2095.29,1265.22 2096.29,1268.91 2097.29,1268.9 2098.29,1268.91 2099.28,1268.92 2100.28,1268.9 2101.28,1267.4 2102.28,1268.88 2103.28,1268.87 \n",
       "  2104.27,1268.9 2105.27,1268.92 2106.27,1268.89 2107.27,1266.9 2108.27,1268.9 2109.26,1268.92 2110.26,1268.93 2111.26,1268.92 2112.26,1268.77 2113.26,1268.91 \n",
       "  2114.25,1268.93 2115.25,1268.92 2116.25,1268.91 2117.25,1268.79 2118.25,1268.92 2119.24,1268.94 2120.24,1268.94 2121.24,1268.92 2122.24,1268.85 2123.24,1268.84 \n",
       "  2124.23,1268.2 2125.23,1268.86 2126.23,1268.93 2127.23,1268.93 2128.23,1268.89 2129.22,1265.82 2130.22,1267.28 2131.22,1268.94 2132.22,1268.94 2133.22,1268.95 \n",
       "  2134.21,1268.93 2135.21,1268.86 2136.21,1267.99 2137.21,1268.91 2138.21,1268.94 2139.21,1268.93 2140.2,1268.88 2141.2,1268.15 2142.2,1268.92 2143.2,1268.94 \n",
       "  2144.2,1268.92 2145.19,1268.92 2146.19,1268.9 2147.19,1268.57 2148.19,1268.9 2149.19,1268.91 2150.18,1268.89 2151.18,1268.89 2152.18,1268.94 2153.18,1268.91 \n",
       "  2154.18,1268.87 2155.17,1264.08 2156.17,1268.89 2157.17,1268.93 2158.17,1268.94 2159.17,1268.94 2160.16,1268.87 2161.16,1268.94 2162.16,1268.95 2163.16,1268.95 \n",
       "  2164.16,1268.86 2165.15,1268.14 2166.15,1268.94 2167.15,1268.95 2168.15,1268.95 2169.15,1268.93 2170.14,1268.86 2171.14,1268.91 2172.14,1268.93 2173.14,1268.87 \n",
       "  2174.14,1268.86 2175.13,1268.78 2176.13,1263.54 2177.13,1268.91 2178.13,1268.94 2179.13,1268.95 2180.12,1268.94 2181.12,1268.88 2182.12,1265.31 2183.12,1268.91 \n",
       "  2184.12,1268.94 2185.12,1268.94 2186.11,1268.94 2187.11,1268.93 2188.11,1268.94 2189.11,1268.95 2190.11,1268.95 2191.1,1268.92 2192.1,1268.88 2193.1,1268.94 \n",
       "  2194.1,1268.95 2195.1,1268.94 2196.09,1268.91 2197.09,1268.88 2198.09,1265.34 2199.09,1268.88 2200.09,1268.94 2201.08,1268.95 2202.08,1268.95 2203.08,1268.94 \n",
       "  2204.08,1268.86 2205.08,1268.94 2206.07,1268.95 2207.07,1268.95 2208.07,1268.92 2209.07,1265.98 2210.07,1268.93 2211.06,1268.95 2212.06,1268.95 2213.06,1268.96 \n",
       "  2214.06,1268.94 2215.06,1268.93 2216.05,1268.79 2217.05,1268.7 2218.05,1268.9 2219.05,1268.95 2220.05,1268.95 2221.04,1268.93 2222.04,1268.92 2223.04,1264.7 \n",
       "  2224.04,1268.96 2225.04,1268.96 2226.03,1268.96 2227.03,1268.96 2228.03,1268.95 2229.03,1268.91 2230.03,1263.58 2231.02,1268.93 2232.02,1268.94 2233.02,1268.95 \n",
       "  2234.02,1268.95 2235.02,1268.95 2236.02,1268.92 2237.01,1268.91 2238.01,1268.94 2239.01,1268.95 2240.01,1268.93 2241.01,1268.89 2242,1268.95 2243,1268.95 \n",
       "  2244,1268.95 2245,1268.93 2246,1268.88 2246.99,1268.93 2247.99,1268.89 2248.99,1266.05 2249.99,1268.96 2250.99,1268.96 2251.98,1268.96 2252.98,1268.95 \n",
       "  2253.98,1268.95 2254.98,1268.93 2255.98,1268.96 2256.97,1268.96 2257.97,1268.95 2258.97,1268.9 2259.97,1264.55 2260.97,1268.89 2261.96,1268.96 2262.96,1268.96 \n",
       "  2263.96,1268.96 2264.96,1268.96 2265.96,1268.94 2266.95,1268.75 2267.95,1268.95 2268.95,1268.96 2269.95,1268.97 2270.95,1268.97 2271.94,1268.96 2272.94,1268.91 \n",
       "  2273.94,1266.4 2274.94,1268.93 2275.94,1268.96 2276.93,1268.96 2277.93,1268.96 2278.93,1268.95 2279.93,1268.92 2280.93,1268.74 2281.92,1268.86 2282.92,1268.95 \n",
       "  2283.92,1268.96 2284.92,1268.95 2285.92,1268.88 2286.92,1268.96 2287.91,1268.97 2288.91,1268.97 2289.91,1268.96 2290.91,1268.91 2291.91,1268.95 2292.9,1268.96 \n",
       "  \n",
       "  \"/>\n",
       "<path clip-path=\"url(#clip580)\" d=\"\n",
       "M1847.96 274.549 L2282.26 274.549 L2282.26 93.1086 L1847.96 93.1086  Z\n",
       "  \" fill=\"#ffffff\" fill-rule=\"evenodd\" fill-opacity=\"1\"/>\n",
       "<polyline clip-path=\"url(#clip580)\" style=\"stroke:#000000; stroke-width:4; stroke-opacity:1; fill:none\" points=\"\n",
       "  1847.96,274.549 2282.26,274.549 2282.26,93.1086 1847.96,93.1086 1847.96,274.549 \n",
       "  \"/>\n",
       "<polyline clip-path=\"url(#clip580)\" style=\"stroke:#009af9; stroke-width:4; stroke-opacity:1; fill:none\" points=\"\n",
       "  1871.46,153.589 2012.44,153.589 \n",
       "  \"/>\n",
       "<path clip-path=\"url(#clip580)\" d=\"M 0 0 M2049.13 170.869 L2035.94 136.309 L2040.82 136.309 L2051.77 165.406 L2062.75 136.309 L2067.61 136.309 L2054.44 170.869 L2049.13 170.869 Z\" fill=\"#000000\" fill-rule=\"evenodd\" fill-opacity=\"1\" /><path clip-path=\"url(#clip580)\" d=\"M 0 0 M2080.18 157.836 Q2075.01 157.836 2073.02 159.017 Q2071.03 160.197 2071.03 163.045 Q2071.03 165.313 2072.51 166.656 Q2074.02 167.975 2076.59 167.975 Q2080.13 167.975 2082.26 165.475 Q2084.41 162.952 2084.41 158.785 L2084.41 157.836 L2080.18 157.836 M2088.67 156.077 L2088.67 170.869 L2084.41 170.869 L2084.41 166.933 Q2082.95 169.295 2080.78 170.429 Q2078.6 171.54 2075.45 171.54 Q2071.47 171.54 2069.11 169.318 Q2066.77 167.072 2066.77 163.322 Q2066.77 158.947 2069.69 156.725 Q2072.63 154.503 2078.44 154.503 L2084.41 154.503 L2084.41 154.086 Q2084.41 151.147 2082.47 149.549 Q2080.55 147.929 2077.05 147.929 Q2074.83 147.929 2072.72 148.461 Q2070.62 148.994 2068.67 150.059 L2068.67 146.123 Q2071.01 145.221 2073.21 144.781 Q2075.41 144.318 2077.49 144.318 Q2083.12 144.318 2085.89 147.234 Q2088.67 150.151 2088.67 156.077 Z\" fill=\"#000000\" fill-rule=\"evenodd\" fill-opacity=\"1\" /><path clip-path=\"url(#clip580)\" d=\"M 0 0 M2093.14 134.85 L2097.4 134.85 L2097.4 170.869 L2093.14 170.869 L2093.14 134.85 Z\" fill=\"#000000\" fill-rule=\"evenodd\" fill-opacity=\"1\" /><path clip-path=\"url(#clip580)\" d=\"M 0 0 M2101.87 144.943 L2106.12 144.943 L2106.12 170.869 L2101.87 170.869 L2101.87 144.943 M2101.87 134.85 L2106.12 134.85 L2106.12 140.244 L2101.87 140.244 L2101.87 134.85 Z\" fill=\"#000000\" fill-rule=\"evenodd\" fill-opacity=\"1\" /><path clip-path=\"url(#clip580)\" d=\"M 0 0 M2127.65 148.878 L2127.65 134.85 L2131.91 134.85 L2131.91 170.869 L2127.65 170.869 L2127.65 166.98 Q2126.31 169.295 2124.25 170.429 Q2122.21 171.54 2119.34 171.54 Q2114.64 171.54 2111.68 167.79 Q2108.74 164.04 2108.74 157.929 Q2108.74 151.818 2111.68 148.068 Q2114.64 144.318 2119.34 144.318 Q2122.21 144.318 2124.25 145.452 Q2126.31 146.563 2127.65 148.878 M2113.14 157.929 Q2113.14 162.628 2115.06 165.313 Q2117 167.975 2120.38 167.975 Q2123.76 167.975 2125.71 165.313 Q2127.65 162.628 2127.65 157.929 Q2127.65 153.23 2125.71 150.568 Q2123.76 147.883 2120.38 147.883 Q2117 147.883 2115.06 150.568 Q2113.14 153.23 2113.14 157.929 Z\" fill=\"#000000\" fill-rule=\"evenodd\" fill-opacity=\"1\" /><path clip-path=\"url(#clip580)\" d=\"M 0 0 M2148.16 157.836 Q2143 157.836 2141.01 159.017 Q2139.02 160.197 2139.02 163.045 Q2139.02 165.313 2140.5 166.656 Q2142 167.975 2144.57 167.975 Q2148.12 167.975 2150.24 165.475 Q2152.4 162.952 2152.4 158.785 L2152.4 157.836 L2148.16 157.836 M2156.66 156.077 L2156.66 170.869 L2152.4 170.869 L2152.4 166.933 Q2150.94 169.295 2148.76 170.429 Q2146.59 171.54 2143.44 171.54 Q2139.46 171.54 2137.1 169.318 Q2134.76 167.072 2134.76 163.322 Q2134.76 158.947 2137.68 156.725 Q2140.62 154.503 2146.43 154.503 L2152.4 154.503 L2152.4 154.086 Q2152.4 151.147 2150.45 149.549 Q2148.53 147.929 2145.04 147.929 Q2142.81 147.929 2140.71 148.461 Q2138.6 148.994 2136.66 150.059 L2136.66 146.123 Q2139 145.221 2141.19 144.781 Q2143.39 144.318 2145.48 144.318 Q2151.1 144.318 2153.88 147.234 Q2156.66 150.151 2156.66 156.077 Z\" fill=\"#000000\" fill-rule=\"evenodd\" fill-opacity=\"1\" /><path clip-path=\"url(#clip580)\" d=\"M 0 0 M2165.34 137.582 L2165.34 144.943 L2174.11 144.943 L2174.11 148.253 L2165.34 148.253 L2165.34 162.327 Q2165.34 165.498 2166.19 166.401 Q2167.07 167.304 2169.74 167.304 L2174.11 167.304 L2174.11 170.869 L2169.74 170.869 Q2164.81 170.869 2162.93 169.04 Q2161.06 167.188 2161.06 162.327 L2161.06 148.253 L2157.93 148.253 L2157.93 144.943 L2161.06 144.943 L2161.06 137.582 L2165.34 137.582 Z\" fill=\"#000000\" fill-rule=\"evenodd\" fill-opacity=\"1\" /><path clip-path=\"url(#clip580)\" d=\"M 0 0 M2178.58 144.943 L2182.84 144.943 L2182.84 170.869 L2178.58 170.869 L2178.58 144.943 M2178.58 134.85 L2182.84 134.85 L2182.84 140.244 L2178.58 140.244 L2178.58 134.85 Z\" fill=\"#000000\" fill-rule=\"evenodd\" fill-opacity=\"1\" /><path clip-path=\"url(#clip580)\" d=\"M 0 0 M2197.35 147.929 Q2193.93 147.929 2191.93 150.614 Q2189.94 153.276 2189.94 157.929 Q2189.94 162.582 2191.91 165.267 Q2193.9 167.929 2197.35 167.929 Q2200.75 167.929 2202.74 165.244 Q2204.74 162.558 2204.74 157.929 Q2204.74 153.322 2202.74 150.637 Q2200.75 147.929 2197.35 147.929 M2197.35 144.318 Q2202.91 144.318 2206.08 147.929 Q2209.25 151.54 2209.25 157.929 Q2209.25 164.295 2206.08 167.929 Q2202.91 171.54 2197.35 171.54 Q2191.77 171.54 2188.6 167.929 Q2185.45 164.295 2185.45 157.929 Q2185.45 151.54 2188.6 147.929 Q2191.77 144.318 2197.35 144.318 Z\" fill=\"#000000\" fill-rule=\"evenodd\" fill-opacity=\"1\" /><path clip-path=\"url(#clip580)\" d=\"M 0 0 M2235.27 155.221 L2235.27 170.869 L2231.01 170.869 L2231.01 155.359 Q2231.01 151.679 2229.57 149.85 Q2228.14 148.022 2225.27 148.022 Q2221.82 148.022 2219.83 150.221 Q2217.84 152.42 2217.84 156.216 L2217.84 170.869 L2213.55 170.869 L2213.55 144.943 L2217.84 144.943 L2217.84 148.971 Q2219.36 146.633 2221.43 145.475 Q2223.51 144.318 2226.22 144.318 Q2230.68 144.318 2232.98 147.096 Q2235.27 149.85 2235.27 155.221 Z\" fill=\"#000000\" fill-rule=\"evenodd\" fill-opacity=\"1\" /><polyline clip-path=\"url(#clip580)\" style=\"stroke:#e26f46; stroke-width:4; stroke-opacity:1; fill:none\" points=\"\n",
       "  1871.46,214.069 2012.44,214.069 \n",
       "  \"/>\n",
       "<path clip-path=\"url(#clip580)\" d=\"M 0 0 M2035.94 196.789 L2065.18 196.789 L2065.18 200.724 L2052.91 200.724 L2052.91 231.349 L2048.21 231.349 L2048.21 200.724 L2035.94 200.724 L2035.94 196.789 Z\" fill=\"#000000\" fill-rule=\"evenodd\" fill-opacity=\"1\" /><path clip-path=\"url(#clip580)\" d=\"M 0 0 M2077.7 209.404 Q2076.98 208.988 2076.13 208.802 Q2075.29 208.594 2074.27 208.594 Q2070.66 208.594 2068.72 210.955 Q2066.8 213.293 2066.8 217.691 L2066.8 231.349 L2062.51 231.349 L2062.51 205.423 L2066.8 205.423 L2066.8 209.451 Q2068.14 207.089 2070.29 205.955 Q2072.44 204.798 2075.52 204.798 Q2075.96 204.798 2076.5 204.867 Q2077.03 204.914 2077.68 205.029 L2077.7 209.404 Z\" fill=\"#000000\" fill-rule=\"evenodd\" fill-opacity=\"1\" /><path clip-path=\"url(#clip580)\" d=\"M 0 0 M2093.95 218.316 Q2088.79 218.316 2086.8 219.497 Q2084.81 220.677 2084.81 223.525 Q2084.81 225.793 2086.29 227.136 Q2087.79 228.455 2090.36 228.455 Q2093.9 228.455 2096.03 225.955 Q2098.19 223.432 2098.19 219.265 L2098.19 218.316 L2093.95 218.316 M2102.44 216.557 L2102.44 231.349 L2098.19 231.349 L2098.19 227.413 Q2096.73 229.775 2094.55 230.909 Q2092.37 232.02 2089.23 232.02 Q2085.25 232.02 2082.88 229.798 Q2080.55 227.552 2080.55 223.802 Q2080.55 219.427 2083.46 217.205 Q2086.4 214.983 2092.21 214.983 L2098.19 214.983 L2098.19 214.566 Q2098.19 211.627 2096.24 210.029 Q2094.32 208.409 2090.82 208.409 Q2088.6 208.409 2086.5 208.941 Q2084.39 209.474 2082.44 210.539 L2082.44 206.603 Q2084.78 205.701 2086.98 205.261 Q2089.18 204.798 2091.26 204.798 Q2096.89 204.798 2099.67 207.714 Q2102.44 210.631 2102.44 216.557 Z\" fill=\"#000000\" fill-rule=\"evenodd\" fill-opacity=\"1\" /><path clip-path=\"url(#clip580)\" d=\"M 0 0 M2106.91 205.423 L2111.17 205.423 L2111.17 231.349 L2106.91 231.349 L2106.91 205.423 M2106.91 195.33 L2111.17 195.33 L2111.17 200.724 L2106.91 200.724 L2106.91 195.33 Z\" fill=\"#000000\" fill-rule=\"evenodd\" fill-opacity=\"1\" /><path clip-path=\"url(#clip580)\" d=\"M 0 0 M2137.19 215.701 L2137.19 231.349 L2132.93 231.349 L2132.93 215.839 Q2132.93 212.159 2131.5 210.33 Q2130.06 208.502 2127.19 208.502 Q2123.74 208.502 2121.75 210.701 Q2119.76 212.9 2119.76 216.696 L2119.76 231.349 L2115.48 231.349 L2115.48 205.423 L2119.76 205.423 L2119.76 209.451 Q2121.29 207.113 2123.35 205.955 Q2125.43 204.798 2128.14 204.798 Q2132.61 204.798 2134.9 207.576 Q2137.19 210.33 2137.19 215.701 Z\" fill=\"#000000\" fill-rule=\"evenodd\" fill-opacity=\"1\" /><path clip-path=\"url(#clip580)\" d=\"M 0 0 M2141.66 205.423 L2145.92 205.423 L2145.92 231.349 L2141.66 231.349 L2141.66 205.423 M2141.66 195.33 L2145.92 195.33 L2145.92 200.724 L2141.66 200.724 L2141.66 195.33 Z\" fill=\"#000000\" fill-rule=\"evenodd\" fill-opacity=\"1\" /><path clip-path=\"url(#clip580)\" d=\"M 0 0 M2171.93 215.701 L2171.93 231.349 L2167.68 231.349 L2167.68 215.839 Q2167.68 212.159 2166.24 210.33 Q2164.81 208.502 2161.93 208.502 Q2158.49 208.502 2156.49 210.701 Q2154.5 212.9 2154.5 216.696 L2154.5 231.349 L2150.22 231.349 L2150.22 205.423 L2154.5 205.423 L2154.5 209.451 Q2156.03 207.113 2158.09 205.955 Q2160.18 204.798 2162.88 204.798 Q2167.35 204.798 2169.64 207.576 Q2171.93 210.33 2171.93 215.701 Z\" fill=\"#000000\" fill-rule=\"evenodd\" fill-opacity=\"1\" /><path clip-path=\"url(#clip580)\" d=\"M 0 0 M2193.46 218.085 Q2193.46 213.455 2191.54 210.909 Q2189.64 208.363 2186.19 208.363 Q2182.77 208.363 2180.85 210.909 Q2178.95 213.455 2178.95 218.085 Q2178.95 222.691 2180.85 225.238 Q2182.77 227.784 2186.19 227.784 Q2189.64 227.784 2191.54 225.238 Q2193.46 222.691 2193.46 218.085 M2197.72 228.131 Q2197.72 234.751 2194.78 237.969 Q2191.84 241.21 2185.78 241.21 Q2183.53 241.21 2181.54 240.862 Q2179.55 240.538 2177.68 239.844 L2177.68 235.7 Q2179.55 236.719 2181.38 237.205 Q2183.21 237.691 2185.11 237.691 Q2189.3 237.691 2191.38 235.492 Q2193.46 233.316 2193.46 228.895 L2193.46 226.788 Q2192.14 229.08 2190.08 230.214 Q2188.02 231.349 2185.15 231.349 Q2180.38 231.349 2177.47 227.714 Q2174.55 224.08 2174.55 218.085 Q2174.55 212.066 2177.47 208.432 Q2180.38 204.798 2185.15 204.798 Q2188.02 204.798 2190.08 205.932 Q2192.14 207.066 2193.46 209.358 L2193.46 205.423 L2197.72 205.423 L2197.72 228.131 Z\" fill=\"#000000\" fill-rule=\"evenodd\" fill-opacity=\"1\" /></svg>\n"
      ]
     },
     "execution_count": 227,
     "metadata": {},
     "output_type": "execute_result"
    }
   ],
   "source": [
    "plot(curve.parameter_values,\n",
    "     curve.measurements,\n",
    "     xlab=curve.parameter_name,\n",
    "     ylab=\"Cross Entropy\",\n",
    "     label=\"Validation\", lw=2)\n",
    "plot!(Net.report.training_losses, label=\"Training\", lw=2)"
   ]
  },
  {
   "cell_type": "code",
   "execution_count": 228,
   "metadata": {},
   "outputs": [
    {
     "data": {
      "text/plain": [
       "(0.00033, 0.32394, 112)"
      ]
     },
     "execution_count": 228,
     "metadata": {},
     "output_type": "execute_result"
    }
   ],
   "source": [
    "a = round(nn.optimiser.eta, digits=5)\n",
    "b = round(minimum(curve.measurements), digits=5)\n",
    "best_epochs = curve.parameter_values[argmin(curve.measurements)]\n",
    "a,b, best_epochs"
   ]
  },
  {
   "cell_type": "code",
   "execution_count": null,
   "metadata": {},
   "outputs": [],
   "source": [
    "fn = \"Figures/LearningCurve_NN_hidden:$(layer1)x$(layer2)_epochs:$(nn.epochs)_lr:$(a)_loss:$(b)_labmda:$(nn.lambda)\"\n",
    "png(replace(fn,'.' => ','))"
   ]
  },
  {
   "cell_type": "markdown",
   "metadata": {},
   "source": [
    "### GridSearch for Hidden Layer Size 1"
   ]
  },
  {
   "cell_type": "code",
   "execution_count": 229,
   "metadata": {},
   "outputs": [
    {
     "data": {
      "text/plain": [
       "\u001b[34mMachine{NeuralNetworkClassifier{CustomNN,…}} @840\u001b[39m trained 0 times.\n",
       "  args: \n",
       "    1:\t\u001b[34mSource @546\u001b[39m ⏎ `Table{AbstractArray{Continuous,1}}`\n",
       "    2:\t\u001b[34mSource @854\u001b[39m ⏎ `AbstractArray{Multiclass{2},1}`\n"
      ]
     },
     "execution_count": 229,
     "metadata": {},
     "output_type": "execute_result"
    }
   ],
   "source": [
    "Net = machine(nn, X_stand, y)"
   ]
  },
  {
   "cell_type": "code",
   "execution_count": 230,
   "metadata": {},
   "outputs": [
    {
     "data": {
      "text/plain": [
       "MLJBase.NumericRange(Int64, :(builder.n1), ... )"
      ]
     },
     "execution_count": 230,
     "metadata": {},
     "output_type": "execute_result"
    }
   ],
   "source": [
    "param1 = :epochs\n",
    "param2 = :(builder.n1)\n",
    "# param2 = :(builder.n2)\n",
    "\n",
    "r1 = range(nn, param1, lower=10, upper=100, scale=:log10)\n",
    "r2 = range(nn, param2, lower=10, upper=100, scale=:linear)"
   ]
  },
  {
   "cell_type": "code",
   "execution_count": 231,
   "metadata": {
    "scrolled": true
   },
   "outputs": [
    {
     "data": {
      "text/plain": [
       "ProbabilisticTunedModel(\n",
       "    model = NeuralNetworkClassifier(\n",
       "            builder = \u001b[34mCustomNN @621\u001b[39m,\n",
       "            finaliser = NNlib.softmax,\n",
       "            optimiser = ADAM(0.0003333333333333333, (0.9, 0.999), IdDict{Any,Any}()),\n",
       "            loss = Flux.crossentropy,\n",
       "            epochs = 2000,\n",
       "            batch_size = 16,\n",
       "            lambda = 0.01,\n",
       "            alpha = 0.0,\n",
       "            optimiser_changes_trigger_retraining = false),\n",
       "    tuning = Grid(\n",
       "            goal = 64,\n",
       "            resolution = 10,\n",
       "            shuffle = true,\n",
       "            rng = Random._GLOBAL_RNG()),\n",
       "    resampling = Holdout(\n",
       "            fraction_train = 0.7,\n",
       "            shuffle = false,\n",
       "            rng = Random._GLOBAL_RNG()),\n",
       "    measure = cross_entropy(\n",
       "            eps = 2.220446049250313e-16),\n",
       "    weights = nothing,\n",
       "    operation = MLJModelInterface.predict,\n",
       "    range = MLJBase.NumericRange{Int64,MLJBase.Bounded,Symbol}[\u001b[34mNumericRange{Int64,…} @045\u001b[39m, \u001b[34mNumericRange{Int64,…} @044\u001b[39m],\n",
       "    train_best = true,\n",
       "    repeats = 1,\n",
       "    n = nothing,\n",
       "    acceleration = CPUThreads{Int64}(1),\n",
       "    acceleration_resampling = CPU1{Nothing}(nothing),\n",
       "    check_measure = true)\u001b[34m @533\u001b[39m"
      ]
     },
     "execution_count": 231,
     "metadata": {},
     "output_type": "execute_result"
    }
   ],
   "source": [
    "self_tuning_nn_model = TunedModel(model=nn,\n",
    "                                    tuning=Grid(goal=64),\n",
    "                                    resampling=Holdout(fraction_train=0.7), \n",
    "                                    measure=cross_entropy,\n",
    "                                    acceleration=CPUThreads(),\n",
    "                                    range=[r1, r2])"
   ]
  },
  {
   "cell_type": "code",
   "execution_count": 232,
   "metadata": {},
   "outputs": [
    {
     "data": {
      "text/plain": [
       "\u001b[34mMachine{ProbabilisticTunedModel{Grid,…}} @855\u001b[39m trained 0 times.\n",
       "  args: \n",
       "    1:\t\u001b[34mSource @434\u001b[39m ⏎ `Table{AbstractArray{Continuous,1}}`\n",
       "    2:\t\u001b[34mSource @994\u001b[39m ⏎ `AbstractArray{Multiclass{2},1}`\n"
      ]
     },
     "execution_count": 232,
     "metadata": {},
     "output_type": "execute_result"
    }
   ],
   "source": [
    "self_tuning_nn = machine(self_tuning_nn_model, X_stand, y)"
   ]
  },
  {
   "cell_type": "code",
   "execution_count": 233,
   "metadata": {},
   "outputs": [
    {
     "name": "stderr",
     "output_type": "stream",
     "text": [
      "┌ Info: Training \u001b[34mMachine{ProbabilisticTunedModel{Grid,…}} @855\u001b[39m.\n",
      "└ @ MLJBase /home/andrew/.julia/packages/MLJBase/uKzAz/src/machines.jl:319\n",
      "┌ Info: Attempting to evaluate 64 models.\n",
      "└ @ MLJTuning /home/andrew/.julia/packages/MLJTuning/Bbgvk/src/tuned_models.jl:494\n",
      "\u001b[33mEvaluating over 64 metamodels: 100%[=========================] Time: 0:04:42\u001b[39m\n"
     ]
    },
    {
     "data": {
      "text/plain": [
       "\u001b[34mMachine{ProbabilisticTunedModel{Grid,…}} @855\u001b[39m trained 1 time.\n",
       "  args: \n",
       "    1:\t\u001b[34mSource @434\u001b[39m ⏎ `Table{AbstractArray{Continuous,1}}`\n",
       "    2:\t\u001b[34mSource @994\u001b[39m ⏎ `AbstractArray{Multiclass{2},1}`\n"
      ]
     },
     "execution_count": 233,
     "metadata": {},
     "output_type": "execute_result"
    }
   ],
   "source": [
    "z = fit!(self_tuning_nn, rows=train)"
   ]
  },
  {
   "cell_type": "code",
   "execution_count": 234,
   "metadata": {
    "scrolled": true
   },
   "outputs": [
    {
     "data": {
      "image/svg+xml": [
       "<?xml version=\"1.0\" encoding=\"utf-8\"?>\n",
       "<svg xmlns=\"http://www.w3.org/2000/svg\" xmlns:xlink=\"http://www.w3.org/1999/xlink\" width=\"600\" height=\"400\" viewBox=\"0 0 2400 1600\">\n",
       "<defs>\n",
       "  <clipPath id=\"clip620\">\n",
       "    <rect x=\"0\" y=\"0\" width=\"2400\" height=\"1600\"/>\n",
       "  </clipPath>\n",
       "</defs>\n",
       "<path clip-path=\"url(#clip620)\" d=\"\n",
       "M0 1600 L2400 1600 L2400 0 L0 0  Z\n",
       "  \" fill=\"#ffffff\" fill-rule=\"evenodd\" fill-opacity=\"1\"/>\n",
       "<defs>\n",
       "  <clipPath id=\"clip621\">\n",
       "    <rect x=\"480\" y=\"0\" width=\"1681\" height=\"1600\"/>\n",
       "  </clipPath>\n",
       "</defs>\n",
       "<path clip-path=\"url(#clip620)\" d=\"\n",
       "M224.866 1410.9 L2112.76 1410.9 L2112.76 47.2441 L224.866 47.2441  Z\n",
       "  \" fill=\"#ffffff\" fill-rule=\"evenodd\" fill-opacity=\"1\"/>\n",
       "<defs>\n",
       "  <clipPath id=\"clip622\">\n",
       "    <rect x=\"224\" y=\"47\" width=\"1889\" height=\"1365\"/>\n",
       "  </clipPath>\n",
       "</defs>\n",
       "<polyline clip-path=\"url(#clip622)\" style=\"stroke:#000000; stroke-width:2; stroke-opacity:0.1; fill:none\" points=\"\n",
       "  278.297,1410.9 278.297,47.2441 \n",
       "  \"/>\n",
       "<polyline clip-path=\"url(#clip622)\" style=\"stroke:#000000; stroke-width:2; stroke-opacity:0.1; fill:none\" points=\"\n",
       "  723.554,1410.9 723.554,47.2441 \n",
       "  \"/>\n",
       "<polyline clip-path=\"url(#clip622)\" style=\"stroke:#000000; stroke-width:2; stroke-opacity:0.1; fill:none\" points=\"\n",
       "  1168.81,1410.9 1168.81,47.2441 \n",
       "  \"/>\n",
       "<polyline clip-path=\"url(#clip622)\" style=\"stroke:#000000; stroke-width:2; stroke-opacity:0.1; fill:none\" points=\"\n",
       "  1614.07,1410.9 1614.07,47.2441 \n",
       "  \"/>\n",
       "<polyline clip-path=\"url(#clip622)\" style=\"stroke:#000000; stroke-width:2; stroke-opacity:0.1; fill:none\" points=\"\n",
       "  2059.33,1410.9 2059.33,47.2441 \n",
       "  \"/>\n",
       "<polyline clip-path=\"url(#clip622)\" style=\"stroke:#000000; stroke-width:2; stroke-opacity:0.1; fill:none\" points=\"\n",
       "  224.866,1229.36 2112.76,1229.36 \n",
       "  \"/>\n",
       "<polyline clip-path=\"url(#clip622)\" style=\"stroke:#000000; stroke-width:2; stroke-opacity:0.1; fill:none\" points=\"\n",
       "  224.866,943.481 2112.76,943.481 \n",
       "  \"/>\n",
       "<polyline clip-path=\"url(#clip622)\" style=\"stroke:#000000; stroke-width:2; stroke-opacity:0.1; fill:none\" points=\"\n",
       "  224.866,657.6 2112.76,657.6 \n",
       "  \"/>\n",
       "<polyline clip-path=\"url(#clip622)\" style=\"stroke:#000000; stroke-width:2; stroke-opacity:0.1; fill:none\" points=\"\n",
       "  224.866,371.719 2112.76,371.719 \n",
       "  \"/>\n",
       "<polyline clip-path=\"url(#clip622)\" style=\"stroke:#000000; stroke-width:2; stroke-opacity:0.1; fill:none\" points=\"\n",
       "  224.866,85.838 2112.76,85.838 \n",
       "  \"/>\n",
       "<polyline clip-path=\"url(#clip620)\" style=\"stroke:#000000; stroke-width:4; stroke-opacity:1; fill:none\" points=\"\n",
       "  224.866,1410.9 2112.76,1410.9 \n",
       "  \"/>\n",
       "<polyline clip-path=\"url(#clip620)\" style=\"stroke:#000000; stroke-width:4; stroke-opacity:1; fill:none\" points=\"\n",
       "  224.866,1410.9 224.866,47.2441 \n",
       "  \"/>\n",
       "<polyline clip-path=\"url(#clip620)\" style=\"stroke:#000000; stroke-width:4; stroke-opacity:1; fill:none\" points=\"\n",
       "  278.297,1410.9 278.297,1394.53 \n",
       "  \"/>\n",
       "<polyline clip-path=\"url(#clip620)\" style=\"stroke:#000000; stroke-width:4; stroke-opacity:1; fill:none\" points=\"\n",
       "  723.554,1410.9 723.554,1394.53 \n",
       "  \"/>\n",
       "<polyline clip-path=\"url(#clip620)\" style=\"stroke:#000000; stroke-width:4; stroke-opacity:1; fill:none\" points=\"\n",
       "  1168.81,1410.9 1168.81,1394.53 \n",
       "  \"/>\n",
       "<polyline clip-path=\"url(#clip620)\" style=\"stroke:#000000; stroke-width:4; stroke-opacity:1; fill:none\" points=\"\n",
       "  1614.07,1410.9 1614.07,1394.53 \n",
       "  \"/>\n",
       "<polyline clip-path=\"url(#clip620)\" style=\"stroke:#000000; stroke-width:4; stroke-opacity:1; fill:none\" points=\"\n",
       "  2059.33,1410.9 2059.33,1394.53 \n",
       "  \"/>\n",
       "<polyline clip-path=\"url(#clip620)\" style=\"stroke:#000000; stroke-width:4; stroke-opacity:1; fill:none\" points=\"\n",
       "  224.866,1229.36 247.521,1229.36 \n",
       "  \"/>\n",
       "<polyline clip-path=\"url(#clip620)\" style=\"stroke:#000000; stroke-width:4; stroke-opacity:1; fill:none\" points=\"\n",
       "  224.866,943.481 247.521,943.481 \n",
       "  \"/>\n",
       "<polyline clip-path=\"url(#clip620)\" style=\"stroke:#000000; stroke-width:4; stroke-opacity:1; fill:none\" points=\"\n",
       "  224.866,657.6 247.521,657.6 \n",
       "  \"/>\n",
       "<polyline clip-path=\"url(#clip620)\" style=\"stroke:#000000; stroke-width:4; stroke-opacity:1; fill:none\" points=\"\n",
       "  224.866,371.719 247.521,371.719 \n",
       "  \"/>\n",
       "<polyline clip-path=\"url(#clip620)\" style=\"stroke:#000000; stroke-width:4; stroke-opacity:1; fill:none\" points=\"\n",
       "  224.866,85.838 247.521,85.838 \n",
       "  \"/>\n",
       "<path clip-path=\"url(#clip620)\" d=\"M 0 0 M220.82 1481.97 L228.459 1481.97 L228.459 1455.6 L220.149 1457.27 L220.149 1453.01 L228.412 1451.34 L233.088 1451.34 L233.088 1481.97 L240.727 1481.97 L240.727 1485.9 L220.82 1485.9 L220.82 1481.97 Z\" fill=\"#000000\" fill-rule=\"evenodd\" fill-opacity=\"1\" /><path clip-path=\"url(#clip620)\" d=\"M 0 0 M255.796 1454.42 Q252.185 1454.42 250.357 1457.99 Q248.551 1461.53 248.551 1468.66 Q248.551 1475.77 250.357 1479.33 Q252.185 1482.87 255.796 1482.87 Q259.431 1482.87 261.236 1479.33 Q263.065 1475.77 263.065 1468.66 Q263.065 1461.53 261.236 1457.99 Q259.431 1454.42 255.796 1454.42 M255.796 1450.72 Q261.607 1450.72 264.662 1455.33 Q267.741 1459.91 267.741 1468.66 Q267.741 1477.39 264.662 1481.99 Q261.607 1486.58 255.796 1486.58 Q249.986 1486.58 246.908 1481.99 Q243.852 1477.39 243.852 1468.66 Q243.852 1459.91 246.908 1455.33 Q249.986 1450.72 255.796 1450.72 Z\" fill=\"#000000\" fill-rule=\"evenodd\" fill-opacity=\"1\" /><path clip-path=\"url(#clip620)\" d=\"M 0 0 M268.286 1455.3 L274.493 1455.3 L274.493 1433.87 L267.741 1435.23 L267.741 1431.77 L274.455 1430.41 L278.254 1430.41 L278.254 1455.3 L284.461 1455.3 L284.461 1458.49 L268.286 1458.49 L268.286 1455.3 Z\" fill=\"#000000\" fill-rule=\"evenodd\" fill-opacity=\"1\" /><path clip-path=\"url(#clip620)\" d=\"M 0 0 M288.58 1453.72 L292.548 1453.72 L292.548 1458.49 L288.58 1458.49 L288.58 1453.72 Z\" fill=\"#000000\" fill-rule=\"evenodd\" fill-opacity=\"1\" /><path clip-path=\"url(#clip620)\" d=\"M 0 0 M304.792 1432.91 Q301.858 1432.91 300.372 1435.81 Q298.905 1438.69 298.905 1444.48 Q298.905 1450.26 300.372 1453.15 Q301.858 1456.03 304.792 1456.03 Q307.745 1456.03 309.212 1453.15 Q310.698 1450.26 310.698 1444.48 Q310.698 1438.69 309.212 1435.81 Q307.745 1432.91 304.792 1432.91 M304.792 1429.91 Q309.513 1429.91 311.996 1433.65 Q314.497 1437.37 314.497 1444.48 Q314.497 1451.57 311.996 1455.31 Q309.513 1459.04 304.792 1459.04 Q300.071 1459.04 297.57 1455.31 Q295.087 1451.57 295.087 1444.48 Q295.087 1437.37 297.57 1433.65 Q300.071 1429.91 304.792 1429.91 Z\" fill=\"#000000\" fill-rule=\"evenodd\" fill-opacity=\"1\" /><path clip-path=\"url(#clip620)\" d=\"M 0 0 M326.741 1432.91 Q323.807 1432.91 322.321 1435.81 Q320.854 1438.69 320.854 1444.48 Q320.854 1450.26 322.321 1453.15 Q323.807 1456.03 326.741 1456.03 Q329.694 1456.03 331.161 1453.15 Q332.646 1450.26 332.646 1444.48 Q332.646 1438.69 331.161 1435.81 Q329.694 1432.91 326.741 1432.91 M326.741 1429.91 Q331.462 1429.91 333.944 1433.65 Q336.446 1437.37 336.446 1444.48 Q336.446 1451.57 333.944 1455.31 Q331.462 1459.04 326.741 1459.04 Q322.02 1459.04 319.519 1455.31 Q317.036 1451.57 317.036 1444.48 Q317.036 1437.37 319.519 1433.65 Q322.02 1429.91 326.741 1429.91 Z\" fill=\"#000000\" fill-rule=\"evenodd\" fill-opacity=\"1\" /><path clip-path=\"url(#clip620)\" d=\"M 0 0 M667.13 1481.97 L674.769 1481.97 L674.769 1455.6 L666.459 1457.27 L666.459 1453.01 L674.723 1451.34 L679.398 1451.34 L679.398 1481.97 L687.037 1481.97 L687.037 1485.9 L667.13 1485.9 L667.13 1481.97 Z\" fill=\"#000000\" fill-rule=\"evenodd\" fill-opacity=\"1\" /><path clip-path=\"url(#clip620)\" d=\"M 0 0 M702.107 1454.42 Q698.496 1454.42 696.667 1457.99 Q694.861 1461.53 694.861 1468.66 Q694.861 1475.77 696.667 1479.33 Q698.496 1482.87 702.107 1482.87 Q705.741 1482.87 707.546 1479.33 Q709.375 1475.77 709.375 1468.66 Q709.375 1461.53 707.546 1457.99 Q705.741 1454.42 702.107 1454.42 M702.107 1450.72 Q707.917 1450.72 710.972 1455.33 Q714.051 1459.91 714.051 1468.66 Q714.051 1477.39 710.972 1481.99 Q707.917 1486.58 702.107 1486.58 Q696.297 1486.58 693.218 1481.99 Q690.162 1477.39 690.162 1468.66 Q690.162 1459.91 693.218 1455.33 Q696.297 1450.72 702.107 1450.72 Z\" fill=\"#000000\" fill-rule=\"evenodd\" fill-opacity=\"1\" /><path clip-path=\"url(#clip620)\" d=\"M 0 0 M714.597 1455.3 L720.803 1455.3 L720.803 1433.87 L714.051 1435.23 L714.051 1431.77 L720.765 1430.41 L724.565 1430.41 L724.565 1455.3 L730.771 1455.3 L730.771 1458.49 L714.597 1458.49 L714.597 1455.3 Z\" fill=\"#000000\" fill-rule=\"evenodd\" fill-opacity=\"1\" /><path clip-path=\"url(#clip620)\" d=\"M 0 0 M734.89 1453.72 L738.859 1453.72 L738.859 1458.49 L734.89 1458.49 L734.89 1453.72 Z\" fill=\"#000000\" fill-rule=\"evenodd\" fill-opacity=\"1\" /><path clip-path=\"url(#clip620)\" d=\"M 0 0 M746.25 1455.3 L759.509 1455.3 L759.509 1458.49 L741.68 1458.49 L741.68 1455.3 Q743.843 1453.06 747.567 1449.3 Q751.309 1445.52 752.268 1444.43 Q754.093 1442.38 754.808 1440.96 Q755.541 1439.54 755.541 1438.16 Q755.541 1435.92 753.961 1434.51 Q752.4 1433.1 749.88 1433.1 Q748.093 1433.1 746.1 1433.72 Q744.125 1434.34 741.868 1435.6 L741.868 1431.77 Q744.162 1430.85 746.156 1430.38 Q748.15 1429.91 749.805 1429.91 Q754.168 1429.91 756.764 1432.09 Q759.359 1434.27 759.359 1437.92 Q759.359 1439.65 758.701 1441.21 Q758.061 1442.75 756.35 1444.86 Q755.88 1445.4 753.359 1448.02 Q750.839 1450.61 746.25 1455.3 Z\" fill=\"#000000\" fill-rule=\"evenodd\" fill-opacity=\"1\" /><path clip-path=\"url(#clip620)\" d=\"M 0 0 M763.666 1430.41 L778.581 1430.41 L778.581 1433.61 L767.145 1433.61 L767.145 1440.49 Q767.973 1440.21 768.801 1440.08 Q769.628 1439.93 770.456 1439.93 Q775.158 1439.93 777.903 1442.51 Q780.649 1445.08 780.649 1449.48 Q780.649 1454.02 777.828 1456.54 Q775.007 1459.04 769.873 1459.04 Q768.105 1459.04 766.261 1458.74 Q764.437 1458.44 762.481 1457.84 L762.481 1454.02 Q764.174 1454.94 765.979 1455.39 Q767.785 1455.84 769.797 1455.84 Q773.051 1455.84 774.951 1454.13 Q776.85 1452.42 776.85 1449.48 Q776.85 1446.55 774.951 1444.84 Q773.051 1443.13 769.797 1443.13 Q768.274 1443.13 766.75 1443.47 Q765.246 1443.8 763.666 1444.52 L763.666 1430.41 Z\" fill=\"#000000\" fill-rule=\"evenodd\" fill-opacity=\"1\" /><path clip-path=\"url(#clip620)\" d=\"M 0 0 M1111.74 1481.97 L1119.38 1481.97 L1119.38 1455.6 L1111.07 1457.27 L1111.07 1453.01 L1119.33 1451.34 L1124.01 1451.34 L1124.01 1481.97 L1131.65 1481.97 L1131.65 1485.9 L1111.74 1485.9 L1111.74 1481.97 Z\" fill=\"#000000\" fill-rule=\"evenodd\" fill-opacity=\"1\" /><path clip-path=\"url(#clip620)\" d=\"M 0 0 M1146.71 1454.42 Q1143.1 1454.42 1141.28 1457.99 Q1139.47 1461.53 1139.47 1468.66 Q1139.47 1475.77 1141.28 1479.33 Q1143.1 1482.87 1146.71 1482.87 Q1150.35 1482.87 1152.15 1479.33 Q1153.98 1475.77 1153.98 1468.66 Q1153.98 1461.53 1152.15 1457.99 Q1150.35 1454.42 1146.71 1454.42 M1146.71 1450.72 Q1152.52 1450.72 1155.58 1455.33 Q1158.66 1459.91 1158.66 1468.66 Q1158.66 1477.39 1155.58 1481.99 Q1152.52 1486.58 1146.71 1486.58 Q1140.9 1486.58 1137.83 1481.99 Q1134.77 1477.39 1134.77 1468.66 Q1134.77 1459.91 1137.83 1455.33 Q1140.9 1450.72 1146.71 1450.72 Z\" fill=\"#000000\" fill-rule=\"evenodd\" fill-opacity=\"1\" /><path clip-path=\"url(#clip620)\" d=\"M 0 0 M1159.2 1455.3 L1165.41 1455.3 L1165.41 1433.87 L1158.66 1435.23 L1158.66 1431.77 L1165.37 1430.41 L1169.17 1430.41 L1169.17 1455.3 L1175.38 1455.3 L1175.38 1458.49 L1159.2 1458.49 L1159.2 1455.3 Z\" fill=\"#000000\" fill-rule=\"evenodd\" fill-opacity=\"1\" /><path clip-path=\"url(#clip620)\" d=\"M 0 0 M1179.5 1453.72 L1183.47 1453.72 L1183.47 1458.49 L1179.5 1458.49 L1179.5 1453.72 Z\" fill=\"#000000\" fill-rule=\"evenodd\" fill-opacity=\"1\" /><path clip-path=\"url(#clip620)\" d=\"M 0 0 M1187.62 1430.41 L1202.54 1430.41 L1202.54 1433.61 L1191.1 1433.61 L1191.1 1440.49 Q1191.93 1440.21 1192.76 1440.08 Q1193.59 1439.93 1194.41 1439.93 Q1199.11 1439.93 1201.86 1442.51 Q1204.61 1445.08 1204.61 1449.48 Q1204.61 1454.02 1201.79 1456.54 Q1198.96 1459.04 1193.83 1459.04 Q1192.06 1459.04 1190.22 1458.74 Q1188.39 1458.44 1186.44 1457.84 L1186.44 1454.02 Q1188.13 1454.94 1189.94 1455.39 Q1191.74 1455.84 1193.75 1455.84 Q1197.01 1455.84 1198.91 1454.13 Q1200.81 1452.42 1200.81 1449.48 Q1200.81 1446.55 1198.91 1444.84 Q1197.01 1443.13 1193.75 1443.13 Q1192.23 1443.13 1190.71 1443.47 Q1189.2 1443.8 1187.62 1444.52 L1187.62 1430.41 Z\" fill=\"#000000\" fill-rule=\"evenodd\" fill-opacity=\"1\" /><path clip-path=\"url(#clip620)\" d=\"M 0 0 M1216.85 1432.91 Q1213.92 1432.91 1212.43 1435.81 Q1210.96 1438.69 1210.96 1444.48 Q1210.96 1450.26 1212.43 1453.15 Q1213.92 1456.03 1216.85 1456.03 Q1219.8 1456.03 1221.27 1453.15 Q1222.76 1450.26 1222.76 1444.48 Q1222.76 1438.69 1221.27 1435.81 Q1219.8 1432.91 1216.85 1432.91 M1216.85 1429.91 Q1221.57 1429.91 1224.05 1433.65 Q1226.56 1437.37 1226.56 1444.48 Q1226.56 1451.57 1224.05 1455.31 Q1221.57 1459.04 1216.85 1459.04 Q1212.13 1459.04 1209.63 1455.31 Q1207.15 1451.57 1207.15 1444.48 Q1207.15 1437.37 1209.63 1433.65 Q1212.13 1429.91 1216.85 1429.91 Z\" fill=\"#000000\" fill-rule=\"evenodd\" fill-opacity=\"1\" /><path clip-path=\"url(#clip620)\" d=\"M 0 0 M1557.36 1481.97 L1565 1481.97 L1565 1455.6 L1556.69 1457.27 L1556.69 1453.01 L1564.95 1451.34 L1569.63 1451.34 L1569.63 1481.97 L1577.27 1481.97 L1577.27 1485.9 L1557.36 1485.9 L1557.36 1481.97 Z\" fill=\"#000000\" fill-rule=\"evenodd\" fill-opacity=\"1\" /><path clip-path=\"url(#clip620)\" d=\"M 0 0 M1592.34 1454.42 Q1588.73 1454.42 1586.9 1457.99 Q1585.09 1461.53 1585.09 1468.66 Q1585.09 1475.77 1586.9 1479.33 Q1588.73 1482.87 1592.34 1482.87 Q1595.97 1482.87 1597.78 1479.33 Q1599.61 1475.77 1599.61 1468.66 Q1599.61 1461.53 1597.78 1457.99 Q1595.97 1454.42 1592.34 1454.42 M1592.34 1450.72 Q1598.15 1450.72 1601.2 1455.33 Q1604.28 1459.91 1604.28 1468.66 Q1604.28 1477.39 1601.2 1481.99 Q1598.15 1486.58 1592.34 1486.58 Q1586.53 1486.58 1583.45 1481.99 Q1580.39 1477.39 1580.39 1468.66 Q1580.39 1459.91 1583.45 1455.33 Q1586.53 1450.72 1592.34 1450.72 Z\" fill=\"#000000\" fill-rule=\"evenodd\" fill-opacity=\"1\" /><path clip-path=\"url(#clip620)\" d=\"M 0 0 M1604.83 1455.3 L1611.03 1455.3 L1611.03 1433.87 L1604.28 1435.23 L1604.28 1431.77 L1611 1430.41 L1614.8 1430.41 L1614.8 1455.3 L1621 1455.3 L1621 1458.49 L1604.83 1458.49 L1604.83 1455.3 Z\" fill=\"#000000\" fill-rule=\"evenodd\" fill-opacity=\"1\" /><path clip-path=\"url(#clip620)\" d=\"M 0 0 M1625.12 1453.72 L1629.09 1453.72 L1629.09 1458.49 L1625.12 1458.49 L1625.12 1453.72 Z\" fill=\"#000000\" fill-rule=\"evenodd\" fill-opacity=\"1\" /><path clip-path=\"url(#clip620)\" d=\"M 0 0 M1632.25 1430.41 L1650.31 1430.41 L1650.31 1432.03 L1640.11 1458.49 L1636.14 1458.49 L1645.74 1433.61 L1632.25 1433.61 L1632.25 1430.41 Z\" fill=\"#000000\" fill-rule=\"evenodd\" fill-opacity=\"1\" /><path clip-path=\"url(#clip620)\" d=\"M 0 0 M1654.46 1430.41 L1669.38 1430.41 L1669.38 1433.61 L1657.94 1433.61 L1657.94 1440.49 Q1658.77 1440.21 1659.6 1440.08 Q1660.42 1439.93 1661.25 1439.93 Q1665.95 1439.93 1668.7 1442.51 Q1671.45 1445.08 1671.45 1449.48 Q1671.45 1454.02 1668.62 1456.54 Q1665.8 1459.04 1660.67 1459.04 Q1658.9 1459.04 1657.06 1458.74 Q1655.23 1458.44 1653.28 1457.84 L1653.28 1454.02 Q1654.97 1454.94 1656.78 1455.39 Q1658.58 1455.84 1660.59 1455.84 Q1663.85 1455.84 1665.75 1454.13 Q1667.65 1452.42 1667.65 1449.48 Q1667.65 1446.55 1665.75 1444.84 Q1663.85 1443.13 1660.59 1443.13 Q1659.07 1443.13 1657.55 1443.47 Q1656.04 1443.8 1654.46 1444.52 L1654.46 1430.41 Z\" fill=\"#000000\" fill-rule=\"evenodd\" fill-opacity=\"1\" /><path clip-path=\"url(#clip620)\" d=\"M 0 0 M2001.29 1481.97 L2008.93 1481.97 L2008.93 1455.6 L2000.62 1457.27 L2000.62 1453.01 L2008.89 1451.34 L2013.56 1451.34 L2013.56 1481.97 L2021.2 1481.97 L2021.2 1485.9 L2001.29 1485.9 L2001.29 1481.97 Z\" fill=\"#000000\" fill-rule=\"evenodd\" fill-opacity=\"1\" /><path clip-path=\"url(#clip620)\" d=\"M 0 0 M2036.27 1454.42 Q2032.66 1454.42 2030.83 1457.99 Q2029.02 1461.53 2029.02 1468.66 Q2029.02 1475.77 2030.83 1479.33 Q2032.66 1482.87 2036.27 1482.87 Q2039.9 1482.87 2041.71 1479.33 Q2043.54 1475.77 2043.54 1468.66 Q2043.54 1461.53 2041.71 1457.99 Q2039.9 1454.42 2036.27 1454.42 M2036.27 1450.72 Q2042.08 1450.72 2045.14 1455.33 Q2048.21 1459.91 2048.21 1468.66 Q2048.21 1477.39 2045.14 1481.99 Q2042.08 1486.58 2036.27 1486.58 Q2030.46 1486.58 2027.38 1481.99 Q2024.33 1477.39 2024.33 1468.66 Q2024.33 1459.91 2027.38 1455.33 Q2030.46 1450.72 2036.27 1450.72 Z\" fill=\"#000000\" fill-rule=\"evenodd\" fill-opacity=\"1\" /><path clip-path=\"url(#clip620)\" d=\"M 0 0 M2052.78 1455.3 L2066.04 1455.3 L2066.04 1458.49 L2048.21 1458.49 L2048.21 1455.3 Q2050.38 1453.06 2054.1 1449.3 Q2057.84 1445.52 2058.8 1444.43 Q2060.63 1442.38 2061.34 1440.96 Q2062.08 1439.54 2062.08 1438.16 Q2062.08 1435.92 2060.5 1434.51 Q2058.93 1433.1 2056.41 1433.1 Q2054.63 1433.1 2052.63 1433.72 Q2050.66 1434.34 2048.4 1435.6 L2048.4 1431.77 Q2050.7 1430.85 2052.69 1430.38 Q2054.68 1429.91 2056.34 1429.91 Q2060.7 1429.91 2063.3 1432.09 Q2065.89 1434.27 2065.89 1437.92 Q2065.89 1439.65 2065.24 1441.21 Q2064.6 1442.75 2062.88 1444.86 Q2062.41 1445.4 2059.89 1448.02 Q2057.37 1450.61 2052.78 1455.3 Z\" fill=\"#000000\" fill-rule=\"evenodd\" fill-opacity=\"1\" /><path clip-path=\"url(#clip620)\" d=\"M 0 0 M2070.16 1453.72 L2074.13 1453.72 L2074.13 1458.49 L2070.16 1458.49 L2070.16 1453.72 Z\" fill=\"#000000\" fill-rule=\"evenodd\" fill-opacity=\"1\" /><path clip-path=\"url(#clip620)\" d=\"M 0 0 M2086.37 1432.91 Q2083.44 1432.91 2081.96 1435.81 Q2080.49 1438.69 2080.49 1444.48 Q2080.49 1450.26 2081.96 1453.15 Q2083.44 1456.03 2086.37 1456.03 Q2089.33 1456.03 2090.79 1453.15 Q2092.28 1450.26 2092.28 1444.48 Q2092.28 1438.69 2090.79 1435.81 Q2089.33 1432.91 2086.37 1432.91 M2086.37 1429.91 Q2091.1 1429.91 2093.58 1433.65 Q2096.08 1437.37 2096.08 1444.48 Q2096.08 1451.57 2093.58 1455.31 Q2091.1 1459.04 2086.37 1459.04 Q2081.65 1459.04 2079.15 1455.31 Q2076.67 1451.57 2076.67 1444.48 Q2076.67 1437.37 2079.15 1433.65 Q2081.65 1429.91 2086.37 1429.91 Z\" fill=\"#000000\" fill-rule=\"evenodd\" fill-opacity=\"1\" /><path clip-path=\"url(#clip620)\" d=\"M 0 0 M2108.32 1432.91 Q2105.39 1432.91 2103.9 1435.81 Q2102.44 1438.69 2102.44 1444.48 Q2102.44 1450.26 2103.9 1453.15 Q2105.39 1456.03 2108.32 1456.03 Q2111.28 1456.03 2112.74 1453.15 Q2114.23 1450.26 2114.23 1444.48 Q2114.23 1438.69 2112.74 1435.81 Q2111.28 1432.91 2108.32 1432.91 M2108.32 1429.91 Q2113.04 1429.91 2115.53 1433.65 Q2118.03 1437.37 2118.03 1444.48 Q2118.03 1451.57 2115.53 1455.31 Q2113.04 1459.04 2108.32 1459.04 Q2103.6 1459.04 2101.1 1455.31 Q2098.62 1451.57 2098.62 1444.48 Q2098.62 1437.37 2101.1 1433.65 Q2103.6 1429.91 2108.32 1429.91 Z\" fill=\"#000000\" fill-rule=\"evenodd\" fill-opacity=\"1\" /><path clip-path=\"url(#clip620)\" d=\"M 0 0 M157.533 1242.71 L173.852 1242.71 L173.852 1246.64 L151.908 1246.64 L151.908 1242.71 Q154.57 1239.95 159.153 1235.32 Q163.76 1230.67 164.941 1229.33 Q167.186 1226.8 168.065 1225.07 Q168.968 1223.31 168.968 1221.62 Q168.968 1218.86 167.024 1217.13 Q165.103 1215.39 162.001 1215.39 Q159.802 1215.39 157.348 1216.16 Q154.917 1216.92 152.14 1218.47 L152.14 1213.75 Q154.964 1212.61 157.417 1212.04 Q159.871 1211.46 161.908 1211.46 Q167.278 1211.46 170.473 1214.14 Q173.667 1216.83 173.667 1221.32 Q173.667 1223.45 172.857 1225.37 Q172.07 1227.27 169.964 1229.86 Q169.385 1230.53 166.283 1233.75 Q163.181 1236.94 157.533 1242.71 Z\" fill=\"#000000\" fill-rule=\"evenodd\" fill-opacity=\"1\" /><path clip-path=\"url(#clip620)\" d=\"M 0 0 M188.922 1215.16 Q185.311 1215.16 183.482 1218.73 Q181.677 1222.27 181.677 1229.4 Q181.677 1236.5 183.482 1240.07 Q185.311 1243.61 188.922 1243.61 Q192.556 1243.61 194.362 1240.07 Q196.19 1236.5 196.19 1229.4 Q196.19 1222.27 194.362 1218.73 Q192.556 1215.16 188.922 1215.16 M188.922 1211.46 Q194.732 1211.46 197.788 1216.06 Q200.866 1220.65 200.866 1229.4 Q200.866 1238.12 197.788 1242.73 Q194.732 1247.31 188.922 1247.31 Q183.112 1247.31 180.033 1242.73 Q176.977 1238.12 176.977 1229.4 Q176.977 1220.65 180.033 1216.06 Q183.112 1211.46 188.922 1211.46 Z\" fill=\"#000000\" fill-rule=\"evenodd\" fill-opacity=\"1\" /><path clip-path=\"url(#clip620)\" d=\"M 0 0 M164.269 930.275 L152.464 948.724 L164.269 948.724 L164.269 930.275 M163.042 926.201 L168.922 926.201 L168.922 948.724 L173.852 948.724 L173.852 952.613 L168.922 952.613 L168.922 960.761 L164.269 960.761 L164.269 952.613 L148.667 952.613 L148.667 948.099 L163.042 926.201 Z\" fill=\"#000000\" fill-rule=\"evenodd\" fill-opacity=\"1\" /><path clip-path=\"url(#clip620)\" d=\"M 0 0 M188.922 929.28 Q185.311 929.28 183.482 932.845 Q181.677 936.386 181.677 943.516 Q181.677 950.622 183.482 954.187 Q185.311 957.729 188.922 957.729 Q192.556 957.729 194.362 954.187 Q196.19 950.622 196.19 943.516 Q196.19 936.386 194.362 932.845 Q192.556 929.28 188.922 929.28 M188.922 925.576 Q194.732 925.576 197.788 930.183 Q200.866 934.766 200.866 943.516 Q200.866 952.243 197.788 956.849 Q194.732 961.432 188.922 961.432 Q183.112 961.432 180.033 956.849 Q176.977 952.243 176.977 943.516 Q176.977 934.766 180.033 930.183 Q183.112 925.576 188.922 925.576 Z\" fill=\"#000000\" fill-rule=\"evenodd\" fill-opacity=\"1\" /><path clip-path=\"url(#clip620)\" d=\"M 0 0 M162.325 655.737 Q159.177 655.737 157.325 657.889 Q155.496 660.042 155.496 663.792 Q155.496 667.519 157.325 669.695 Q159.177 671.848 162.325 671.848 Q165.473 671.848 167.302 669.695 Q169.153 667.519 169.153 663.792 Q169.153 660.042 167.302 657.889 Q165.473 655.737 162.325 655.737 M171.607 641.084 L171.607 645.343 Q169.848 644.51 168.042 644.07 Q166.26 643.63 164.501 643.63 Q159.871 643.63 157.417 646.755 Q154.987 649.88 154.64 656.2 Q156.005 654.186 158.066 653.121 Q160.126 652.033 162.603 652.033 Q167.811 652.033 170.82 655.204 Q173.852 658.352 173.852 663.792 Q173.852 669.116 170.704 672.334 Q167.556 675.551 162.325 675.551 Q156.329 675.551 153.158 670.968 Q149.987 666.362 149.987 657.635 Q149.987 649.44 153.876 644.579 Q157.765 639.695 164.316 639.695 Q166.075 639.695 167.857 640.042 Q169.663 640.39 171.607 641.084 Z\" fill=\"#000000\" fill-rule=\"evenodd\" fill-opacity=\"1\" /><path clip-path=\"url(#clip620)\" d=\"M 0 0 M188.922 643.399 Q185.311 643.399 183.482 646.964 Q181.677 650.505 181.677 657.635 Q181.677 664.741 183.482 668.306 Q185.311 671.848 188.922 671.848 Q192.556 671.848 194.362 668.306 Q196.19 664.741 196.19 657.635 Q196.19 650.505 194.362 646.964 Q192.556 643.399 188.922 643.399 M188.922 639.695 Q194.732 639.695 197.788 644.302 Q200.866 648.885 200.866 657.635 Q200.866 666.362 197.788 670.968 Q194.732 675.551 188.922 675.551 Q183.112 675.551 180.033 670.968 Q176.977 666.362 176.977 657.635 Q176.977 648.885 180.033 644.302 Q183.112 639.695 188.922 639.695 Z\" fill=\"#000000\" fill-rule=\"evenodd\" fill-opacity=\"1\" /><path clip-path=\"url(#clip620)\" d=\"M 0 0 M162.001 372.587 Q158.667 372.587 156.746 374.37 Q154.848 376.152 154.848 379.277 Q154.848 382.402 156.746 384.184 Q158.667 385.967 162.001 385.967 Q165.334 385.967 167.255 384.184 Q169.177 382.379 169.177 379.277 Q169.177 376.152 167.255 374.37 Q165.357 372.587 162.001 372.587 M157.325 370.596 Q154.316 369.856 152.626 367.795 Q150.959 365.735 150.959 362.772 Q150.959 358.629 153.899 356.221 Q156.862 353.814 162.001 353.814 Q167.163 353.814 170.103 356.221 Q173.042 358.629 173.042 362.772 Q173.042 365.735 171.353 367.795 Q169.686 369.856 166.7 370.596 Q170.079 371.383 171.954 373.675 Q173.852 375.967 173.852 379.277 Q173.852 384.3 170.774 386.985 Q167.718 389.67 162.001 389.67 Q156.283 389.67 153.204 386.985 Q150.149 384.3 150.149 379.277 Q150.149 375.967 152.047 373.675 Q153.945 371.383 157.325 370.596 M155.612 363.212 Q155.612 365.897 157.279 367.402 Q158.968 368.907 162.001 368.907 Q165.01 368.907 166.7 367.402 Q168.413 365.897 168.413 363.212 Q168.413 360.527 166.7 359.022 Q165.01 357.518 162.001 357.518 Q158.968 357.518 157.279 359.022 Q155.612 360.527 155.612 363.212 Z\" fill=\"#000000\" fill-rule=\"evenodd\" fill-opacity=\"1\" /><path clip-path=\"url(#clip620)\" d=\"M 0 0 M188.922 357.518 Q185.311 357.518 183.482 361.083 Q181.677 364.624 181.677 371.754 Q181.677 378.86 183.482 382.425 Q185.311 385.967 188.922 385.967 Q192.556 385.967 194.362 382.425 Q196.19 378.86 196.19 371.754 Q196.19 364.624 194.362 361.083 Q192.556 357.518 188.922 357.518 M188.922 353.814 Q194.732 353.814 197.788 358.421 Q200.866 363.004 200.866 371.754 Q200.866 380.481 197.788 385.087 Q194.732 389.67 188.922 389.67 Q183.112 389.67 180.033 385.087 Q176.977 380.481 176.977 371.754 Q176.977 363.004 180.033 358.421 Q183.112 353.814 188.922 353.814 Z\" fill=\"#000000\" fill-rule=\"evenodd\" fill-opacity=\"1\" /><path clip-path=\"url(#clip620)\" d=\"M 0 0 M126.931 99.1829 L134.57 99.1829 L134.57 72.8173 L126.26 74.4839 L126.26 70.2247 L134.524 68.558 L139.2 68.558 L139.2 99.1829 L146.839 99.1829 L146.839 103.118 L126.931 103.118 L126.931 99.1829 Z\" fill=\"#000000\" fill-rule=\"evenodd\" fill-opacity=\"1\" /><path clip-path=\"url(#clip620)\" d=\"M 0 0 M161.908 71.6367 Q158.297 71.6367 156.468 75.2015 Q154.663 78.7432 154.663 85.8728 Q154.663 92.9792 156.468 96.544 Q158.297 100.086 161.908 100.086 Q165.542 100.086 167.348 96.544 Q169.177 92.9792 169.177 85.8728 Q169.177 78.7432 167.348 75.2015 Q165.542 71.6367 161.908 71.6367 M161.908 67.933 Q167.718 67.933 170.774 72.5395 Q173.852 77.1228 173.852 85.8728 Q173.852 94.5996 170.774 99.206 Q167.718 103.789 161.908 103.789 Q156.098 103.789 153.019 99.206 Q149.964 94.5996 149.964 85.8728 Q149.964 77.1228 153.019 72.5395 Q156.098 67.933 161.908 67.933 Z\" fill=\"#000000\" fill-rule=\"evenodd\" fill-opacity=\"1\" /><path clip-path=\"url(#clip620)\" d=\"M 0 0 M188.922 71.6367 Q185.311 71.6367 183.482 75.2015 Q181.677 78.7432 181.677 85.8728 Q181.677 92.9792 183.482 96.544 Q185.311 100.086 188.922 100.086 Q192.556 100.086 194.362 96.544 Q196.19 92.9792 196.19 85.8728 Q196.19 78.7432 194.362 75.2015 Q192.556 71.6367 188.922 71.6367 M188.922 67.933 Q194.732 67.933 197.788 72.5395 Q200.866 77.1228 200.866 85.8728 Q200.866 94.5996 197.788 99.206 Q194.732 103.789 188.922 103.789 Q183.112 103.789 180.033 99.206 Q176.977 94.5996 176.977 85.8728 Q176.977 77.1228 180.033 72.5395 Q183.112 67.933 188.922 67.933 Z\" fill=\"#000000\" fill-rule=\"evenodd\" fill-opacity=\"1\" /><path clip-path=\"url(#clip620)\" d=\"M 0 0 M1099.09 1542.9 L1099.09 1545.76 L1072.16 1545.76 Q1072.55 1551.81 1075.79 1554.99 Q1079.07 1558.14 1084.9 1558.14 Q1088.27 1558.14 1091.42 1557.32 Q1094.6 1556.49 1097.72 1554.83 L1097.72 1560.37 Q1094.57 1561.71 1091.26 1562.41 Q1087.95 1563.11 1084.55 1563.11 Q1076.01 1563.11 1071.02 1558.14 Q1066.05 1553.18 1066.05 1544.71 Q1066.05 1535.96 1070.76 1530.83 Q1075.51 1525.68 1083.53 1525.68 Q1090.72 1525.68 1094.89 1530.33 Q1099.09 1534.94 1099.09 1542.9 M1093.23 1541.18 Q1093.17 1536.37 1090.53 1533.51 Q1087.92 1530.64 1083.59 1530.64 Q1078.69 1530.64 1075.73 1533.41 Q1072.8 1536.18 1072.35 1541.21 L1093.23 1541.18 Z\" fill=\"#000000\" fill-rule=\"evenodd\" fill-opacity=\"1\" /><path clip-path=\"url(#clip620)\" d=\"M 0 0 M1110.9 1556.84 L1110.9 1575.74 L1105.01 1575.74 L1105.01 1526.54 L1110.9 1526.54 L1110.9 1531.95 Q1112.75 1528.77 1115.55 1527.24 Q1118.38 1525.68 1122.29 1525.68 Q1128.79 1525.68 1132.83 1530.83 Q1136.9 1535.99 1136.9 1544.39 Q1136.9 1552.8 1132.83 1557.95 Q1128.79 1563.11 1122.29 1563.11 Q1118.38 1563.11 1115.55 1561.58 Q1112.75 1560.02 1110.9 1556.84 M1130.82 1544.39 Q1130.82 1537.93 1128.15 1534.27 Q1125.51 1530.58 1120.86 1530.58 Q1116.21 1530.58 1113.54 1534.27 Q1110.9 1537.93 1110.9 1544.39 Q1110.9 1550.85 1113.54 1554.55 Q1116.21 1558.21 1120.86 1558.21 Q1125.51 1558.21 1128.15 1554.55 Q1130.82 1550.85 1130.82 1544.39 Z\" fill=\"#000000\" fill-rule=\"evenodd\" fill-opacity=\"1\" /><path clip-path=\"url(#clip620)\" d=\"M 0 0 M1156.86 1530.64 Q1152.15 1530.64 1149.41 1534.34 Q1146.67 1538 1146.67 1544.39 Q1146.67 1550.79 1149.38 1554.48 Q1152.12 1558.14 1156.86 1558.14 Q1161.54 1558.14 1164.28 1554.45 Q1167.01 1550.76 1167.01 1544.39 Q1167.01 1538.06 1164.28 1534.37 Q1161.54 1530.64 1156.86 1530.64 M1156.86 1525.68 Q1164.5 1525.68 1168.86 1530.64 Q1173.22 1535.61 1173.22 1544.39 Q1173.22 1553.15 1168.86 1558.14 Q1164.5 1563.11 1156.86 1563.11 Q1149.19 1563.11 1144.83 1558.14 Q1140.5 1553.15 1140.5 1544.39 Q1140.5 1535.61 1144.83 1530.64 Q1149.19 1525.68 1156.86 1525.68 Z\" fill=\"#000000\" fill-rule=\"evenodd\" fill-opacity=\"1\" /><path clip-path=\"url(#clip620)\" d=\"M 0 0 M1205.02 1527.91 L1205.02 1533.38 Q1202.53 1532.01 1200.02 1531.34 Q1197.54 1530.64 1194.99 1530.64 Q1189.29 1530.64 1186.14 1534.27 Q1182.99 1537.87 1182.99 1544.39 Q1182.99 1550.92 1186.14 1554.55 Q1189.29 1558.14 1194.99 1558.14 Q1197.54 1558.14 1200.02 1557.47 Q1202.53 1556.77 1205.02 1555.41 L1205.02 1560.82 Q1202.57 1561.96 1199.92 1562.54 Q1197.31 1563.11 1194.35 1563.11 Q1186.3 1563.11 1181.56 1558.05 Q1176.82 1552.99 1176.82 1544.39 Q1176.82 1535.67 1181.59 1530.68 Q1186.4 1525.68 1194.74 1525.68 Q1197.44 1525.68 1200.02 1526.25 Q1202.6 1526.79 1205.02 1527.91 Z\" fill=\"#000000\" fill-rule=\"evenodd\" fill-opacity=\"1\" /><path clip-path=\"url(#clip620)\" d=\"M 0 0 M1240.79 1540.67 L1240.79 1562.19 L1234.93 1562.19 L1234.93 1540.86 Q1234.93 1535.8 1232.96 1533.29 Q1230.99 1530.77 1227.04 1530.77 Q1222.3 1530.77 1219.56 1533.79 Q1216.82 1536.82 1216.82 1542.04 L1216.82 1562.19 L1210.94 1562.19 L1210.94 1512.66 L1216.82 1512.66 L1216.82 1532.08 Q1218.93 1528.86 1221.76 1527.27 Q1224.62 1525.68 1228.35 1525.68 Q1234.49 1525.68 1237.64 1529.5 Q1240.79 1533.29 1240.79 1540.67 Z\" fill=\"#000000\" fill-rule=\"evenodd\" fill-opacity=\"1\" /><path clip-path=\"url(#clip620)\" d=\"M 0 0 M1269.66 1527.59 L1269.66 1533.13 Q1267.18 1531.85 1264.5 1531.22 Q1261.83 1530.58 1258.97 1530.58 Q1254.6 1530.58 1252.41 1531.92 Q1250.24 1533.25 1250.24 1535.93 Q1250.24 1537.96 1251.8 1539.14 Q1253.36 1540.29 1258.07 1541.34 L1260.08 1541.78 Q1266.32 1543.12 1268.93 1545.57 Q1271.57 1547.99 1271.57 1552.35 Q1271.57 1557.32 1267.62 1560.21 Q1263.71 1563.11 1256.83 1563.11 Q1253.97 1563.11 1250.85 1562.54 Q1247.76 1561.99 1244.32 1560.88 L1244.32 1554.83 Q1247.57 1556.52 1250.72 1557.38 Q1253.87 1558.21 1256.96 1558.21 Q1261.1 1558.21 1263.33 1556.81 Q1265.55 1555.37 1265.55 1552.8 Q1265.55 1550.41 1263.93 1549.14 Q1262.34 1547.86 1256.9 1546.68 L1254.86 1546.21 Q1249.42 1545.06 1247 1542.71 Q1244.58 1540.32 1244.58 1536.18 Q1244.58 1531.15 1248.14 1528.42 Q1251.71 1525.68 1258.27 1525.68 Q1261.51 1525.68 1264.38 1526.16 Q1267.24 1526.63 1269.66 1527.59 Z\" fill=\"#000000\" fill-rule=\"evenodd\" fill-opacity=\"1\" /><path clip-path=\"url(#clip620)\" d=\"M 0 0 M70.212 837.813 Q63.7508 837.813 60.0905 840.486 Q56.3984 843.128 56.3984 847.775 Q56.3984 852.422 60.0905 855.095 Q63.7508 857.737 70.212 857.737 Q76.6732 857.737 80.3653 855.095 Q84.0256 852.422 84.0256 847.775 Q84.0256 843.128 80.3653 840.486 Q76.6732 837.813 70.212 837.813 M57.7671 857.737 Q54.5842 855.891 53.0564 853.09 Q51.4968 850.258 51.4968 846.343 Q51.4968 839.85 56.6531 835.807 Q61.8093 831.733 70.212 831.733 Q78.6147 831.733 83.771 835.807 Q88.9272 839.85 88.9272 846.343 Q88.9272 850.258 87.3994 853.09 Q85.8398 855.891 82.657 857.737 L88.0042 857.737 L88.0042 863.625 L38.479 863.625 L38.479 857.737 L57.7671 857.737 Z\" fill=\"#000000\" fill-rule=\"evenodd\" fill-opacity=\"1\" /><path clip-path=\"url(#clip620)\" d=\"M 0 0 M73.9359 826.195 L52.3562 826.195 L52.3562 820.339 L73.7131 820.339 Q78.7739 820.339 81.3202 818.365 Q83.8346 816.392 83.8346 812.445 Q83.8346 807.703 80.8109 804.966 Q77.7872 802.196 72.5673 802.196 L52.3562 802.196 L52.3562 796.34 L88.0042 796.34 L88.0042 802.196 L82.5296 802.196 Q85.7762 804.329 87.3676 807.162 Q88.9272 809.963 88.9272 813.687 Q88.9272 819.829 85.1078 823.012 Q81.2883 826.195 73.9359 826.195 M51.4968 811.459 L51.4968 811.459 Z\" fill=\"#000000\" fill-rule=\"evenodd\" fill-opacity=\"1\" /><path clip-path=\"url(#clip620)\" d=\"M 0 0 M52.3562 790.197 L52.3562 784.341 L88.0042 784.341 L88.0042 790.197 L52.3562 790.197 M38.479 790.197 L38.479 784.341 L45.895 784.341 L45.895 790.197 L38.479 790.197 Z\" fill=\"#000000\" fill-rule=\"evenodd\" fill-opacity=\"1\" /><path clip-path=\"url(#clip620)\" d=\"M 0 0 M38.479 778.198 L38.479 772.341 L88.0042 772.341 L88.0042 778.198 L38.479 778.198 Z\" fill=\"#000000\" fill-rule=\"evenodd\" fill-opacity=\"1\" /><path clip-path=\"url(#clip620)\" d=\"M 0 0 M57.7671 742.741 L38.479 742.741 L38.479 736.884 L88.0042 736.884 L88.0042 742.741 L82.657 742.741 Q85.8398 744.587 87.3994 747.42 Q88.9272 750.22 88.9272 754.167 Q88.9272 760.628 83.771 764.702 Q78.6147 768.745 70.212 768.745 Q61.8093 768.745 56.6531 764.702 Q51.4968 760.628 51.4968 754.167 Q51.4968 750.22 53.0564 747.42 Q54.5842 744.587 57.7671 742.741 M70.212 762.697 Q76.6732 762.697 80.3653 760.055 Q84.0256 757.382 84.0256 752.735 Q84.0256 748.088 80.3653 745.414 Q76.6732 742.741 70.212 742.741 Q63.7508 742.741 60.0905 745.414 Q56.3984 748.088 56.3984 752.735 Q56.3984 757.382 60.0905 760.055 Q63.7508 762.697 70.212 762.697 Z\" fill=\"#000000\" fill-rule=\"evenodd\" fill-opacity=\"1\" /><path clip-path=\"url(#clip620)\" d=\"M 0 0 M68.7161 700.25 L71.5806 700.25 L71.5806 727.177 Q77.6281 726.795 80.8109 723.548 Q83.9619 720.27 83.9619 714.445 Q83.9619 711.071 83.1344 707.92 Q82.3069 704.737 80.6518 701.618 L86.1899 701.618 Q87.5267 704.769 88.227 708.079 Q88.9272 711.39 88.9272 714.795 Q88.9272 723.325 83.9619 728.322 Q78.9967 733.288 70.5303 733.288 Q61.7774 733.288 56.6531 728.577 Q51.4968 723.835 51.4968 715.814 Q51.4968 708.621 56.1438 704.451 Q60.7589 700.25 68.7161 700.25 M66.9973 706.106 Q62.1912 706.17 59.3266 708.812 Q56.4621 711.421 56.4621 715.75 Q56.4621 720.652 59.2312 723.612 Q62.0002 726.54 67.0292 726.986 L66.9973 706.106 Z\" fill=\"#000000\" fill-rule=\"evenodd\" fill-opacity=\"1\" /><path clip-path=\"url(#clip620)\" d=\"M 0 0 M57.8307 673.45 Q57.2578 674.437 57.0032 675.614 Q56.7167 676.76 56.7167 678.161 Q56.7167 683.126 59.9632 685.799 Q63.1779 688.441 69.2253 688.441 L88.0042 688.441 L88.0042 694.33 L52.3562 694.33 L52.3562 688.441 L57.8944 688.441 Q54.6479 686.595 53.0883 683.635 Q51.4968 680.675 51.4968 676.442 Q51.4968 675.837 51.5923 675.105 Q51.656 674.373 51.8151 673.482 L57.8307 673.45 Z\" fill=\"#000000\" fill-rule=\"evenodd\" fill-opacity=\"1\" /><path clip-path=\"url(#clip620)\" d=\"M 0 0 M79.9197 672.463 L79.9197 665.748 L88.0042 665.748 L88.0042 672.463 L79.9197 672.463 Z\" fill=\"#000000\" fill-rule=\"evenodd\" fill-opacity=\"1\" /><path clip-path=\"url(#clip620)\" d=\"M 0 0 M66.4881 629.972 L88.0042 629.972 L88.0042 635.829 L66.679 635.829 Q61.6183 635.829 59.1038 637.802 Q56.5894 639.775 56.5894 643.722 Q56.5894 648.465 59.6131 651.202 Q62.6368 653.939 67.8567 653.939 L88.0042 653.939 L88.0042 659.827 L52.3562 659.827 L52.3562 653.939 L57.8944 653.939 Q54.6797 651.838 53.0883 649.006 Q51.4968 646.141 51.4968 642.417 Q51.4968 636.274 55.3163 633.123 Q59.1038 629.972 66.4881 629.972 Z\" fill=\"#000000\" fill-rule=\"evenodd\" fill-opacity=\"1\" /><path clip-path=\"url(#clip620)\" d=\"M 0 0 M82.5933 621.888 L82.5933 611.384 L46.3406 611.384 L48.6323 622.811 L42.7758 622.811 L40.4842 611.448 L40.4842 605.019 L82.5933 605.019 L82.5933 594.515 L88.0042 594.515 L88.0042 621.888 L82.5933 621.888 Z\" fill=\"#000000\" fill-rule=\"evenodd\" fill-opacity=\"1\" /><circle clip-path=\"url(#clip622)\" cx=\"2059.33\" cy=\"271.661\" r=\"5\" fill=\"#02020f\" fill-rule=\"evenodd\" fill-opacity=\"1\" stroke=\"#000000\" stroke-opacity=\"1\" stroke-width=\"3.2\"/>\n",
       "<circle clip-path=\"url(#clip622)\" cx=\"1046.57\" cy=\"643.306\" r=\"17\" fill=\"#510e6c\" fill-rule=\"evenodd\" fill-opacity=\"1\" stroke=\"#000000\" stroke-opacity=\"1\" stroke-width=\"3.2\"/>\n",
       "<circle clip-path=\"url(#clip622)\" cx=\"1805.23\" cy=\"1000.66\" r=\"7\" fill=\"#0c0726\" fill-rule=\"evenodd\" fill-opacity=\"1\" stroke=\"#000000\" stroke-opacity=\"1\" stroke-width=\"3.2\"/>\n",
       "<circle clip-path=\"url(#clip622)\" cx=\"1046.57\" cy=\"271.661\" r=\"15\" fill=\"#460a69\" fill-rule=\"evenodd\" fill-opacity=\"1\" stroke=\"#000000\" stroke-opacity=\"1\" stroke-width=\"3.2\"/>\n",
       "<circle clip-path=\"url(#clip622)\" cx=\"1046.57\" cy=\"814.835\" r=\"18\" fill=\"#560f6d\" fill-rule=\"evenodd\" fill-opacity=\"1\" stroke=\"#000000\" stroke-opacity=\"1\" stroke-width=\"3.2\"/>\n",
       "<circle clip-path=\"url(#clip622)\" cx=\"1553.52\" cy=\"1186.48\" r=\"15\" fill=\"#420967\" fill-rule=\"evenodd\" fill-opacity=\"1\" stroke=\"#000000\" stroke-opacity=\"1\" stroke-width=\"3.2\"/>\n",
       "<circle clip-path=\"url(#clip622)\" cx=\"1046.57\" cy=\"457.483\" r=\"18\" fill=\"#58106d\" fill-rule=\"evenodd\" fill-opacity=\"1\" stroke=\"#000000\" stroke-opacity=\"1\" stroke-width=\"3.2\"/>\n",
       "<circle clip-path=\"url(#clip622)\" cx=\"1290.28\" cy=\"271.661\" r=\"14\" fill=\"#3c0964\" fill-rule=\"evenodd\" fill-opacity=\"1\" stroke=\"#000000\" stroke-opacity=\"1\" stroke-width=\"3.2\"/>\n",
       "<circle clip-path=\"url(#clip622)\" cx=\"538.555\" cy=\"85.838\" r=\"24\" fill=\"#86216a\" fill-rule=\"evenodd\" fill-opacity=\"1\" stroke=\"#000000\" stroke-opacity=\"1\" stroke-width=\"3.2\"/>\n",
       "<circle clip-path=\"url(#clip622)\" cx=\"1805.23\" cy=\"643.306\" r=\"6\" fill=\"#06041b\" fill-rule=\"evenodd\" fill-opacity=\"1\" stroke=\"#000000\" stroke-opacity=\"1\" stroke-width=\"3.2\"/>\n",
       "<circle clip-path=\"url(#clip622)\" cx=\"1046.57\" cy=\"85.838\" r=\"17\" fill=\"#500d6c\" fill-rule=\"evenodd\" fill-opacity=\"1\" stroke=\"#000000\" stroke-opacity=\"1\" stroke-width=\"3.2\"/>\n",
       "<circle clip-path=\"url(#clip622)\" cx=\"1046.57\" cy=\"1372.3\" r=\"23\" fill=\"#7b1d6c\" fill-rule=\"evenodd\" fill-opacity=\"1\" stroke=\"#000000\" stroke-opacity=\"1\" stroke-width=\"3.2\"/>\n",
       "<circle clip-path=\"url(#clip622)\" cx=\"2059.33\" cy=\"1372.3\" r=\"9\" fill=\"#170b3b\" fill-rule=\"evenodd\" fill-opacity=\"1\" stroke=\"#000000\" stroke-opacity=\"1\" stroke-width=\"3.2\"/>\n",
       "<circle clip-path=\"url(#clip622)\" cx=\"278.297\" cy=\"1000.66\" r=\"31\" fill=\"#b23259\" fill-rule=\"evenodd\" fill-opacity=\"1\" stroke=\"#000000\" stroke-opacity=\"1\" stroke-width=\"3.2\"/>\n",
       "<circle clip-path=\"url(#clip622)\" cx=\"538.555\" cy=\"814.835\" r=\"25\" fill=\"#8c2369\" fill-rule=\"evenodd\" fill-opacity=\"1\" stroke=\"#000000\" stroke-opacity=\"1\" stroke-width=\"3.2\"/>\n",
       "<circle clip-path=\"url(#clip622)\" cx=\"1805.23\" cy=\"457.483\" r=\"5\" fill=\"#030211\" fill-rule=\"evenodd\" fill-opacity=\"1\" stroke=\"#000000\" stroke-opacity=\"1\" stroke-width=\"3.2\"/>\n",
       "<circle clip-path=\"url(#clip622)\" cx=\"774.765\" cy=\"457.483\" r=\"22\" fill=\"#741a6d\" fill-rule=\"evenodd\" fill-opacity=\"1\" stroke=\"#000000\" stroke-opacity=\"1\" stroke-width=\"3.2\"/>\n",
       "<circle clip-path=\"url(#clip622)\" cx=\"774.765\" cy=\"643.306\" r=\"19\" fill=\"#63146e\" fill-rule=\"evenodd\" fill-opacity=\"1\" stroke=\"#000000\" stroke-opacity=\"1\" stroke-width=\"3.2\"/>\n",
       "<circle clip-path=\"url(#clip622)\" cx=\"1805.23\" cy=\"814.835\" r=\"6\" fill=\"#050419\" fill-rule=\"evenodd\" fill-opacity=\"1\" stroke=\"#000000\" stroke-opacity=\"1\" stroke-width=\"3.2\"/>\n",
       "<circle clip-path=\"url(#clip622)\" cx=\"538.555\" cy=\"271.661\" r=\"25\" fill=\"#892269\" fill-rule=\"evenodd\" fill-opacity=\"1\" stroke=\"#000000\" stroke-opacity=\"1\" stroke-width=\"3.2\"/>\n",
       "<circle clip-path=\"url(#clip622)\" cx=\"2059.33\" cy=\"85.838\" r=\"4\" fill=\"#01010b\" fill-rule=\"evenodd\" fill-opacity=\"1\" stroke=\"#000000\" stroke-opacity=\"1\" stroke-width=\"3.2\"/>\n",
       "<circle clip-path=\"url(#clip622)\" cx=\"538.555\" cy=\"1000.66\" r=\"25\" fill=\"#8a2269\" fill-rule=\"evenodd\" fill-opacity=\"1\" stroke=\"#000000\" stroke-opacity=\"1\" stroke-width=\"3.2\"/>\n",
       "<circle clip-path=\"url(#clip622)\" cx=\"1553.52\" cy=\"457.483\" r=\"10\" fill=\"#200c49\" fill-rule=\"evenodd\" fill-opacity=\"1\" stroke=\"#000000\" stroke-opacity=\"1\" stroke-width=\"3.2\"/>\n",
       "<circle clip-path=\"url(#clip622)\" cx=\"774.765\" cy=\"85.838\" r=\"19\" fill=\"#63146e\" fill-rule=\"evenodd\" fill-opacity=\"1\" stroke=\"#000000\" stroke-opacity=\"1\" stroke-width=\"3.2\"/>\n",
       "<circle clip-path=\"url(#clip622)\" cx=\"278.297\" cy=\"814.835\" r=\"35\" fill=\"#cd4247\" fill-rule=\"evenodd\" fill-opacity=\"1\" stroke=\"#000000\" stroke-opacity=\"1\" stroke-width=\"3.2\"/>\n",
       "<circle clip-path=\"url(#clip622)\" cx=\"2059.33\" cy=\"643.306\" r=\"3\" fill=\"#000003\" fill-rule=\"evenodd\" fill-opacity=\"1\" stroke=\"#000000\" stroke-opacity=\"1\" stroke-width=\"3.2\"/>\n",
       "<circle clip-path=\"url(#clip622)\" cx=\"1553.52\" cy=\"643.306\" r=\"10\" fill=\"#1d0c44\" fill-rule=\"evenodd\" fill-opacity=\"1\" stroke=\"#000000\" stroke-opacity=\"1\" stroke-width=\"3.2\"/>\n",
       "<circle clip-path=\"url(#clip622)\" cx=\"538.555\" cy=\"1372.3\" r=\"24\" fill=\"#85206a\" fill-rule=\"evenodd\" fill-opacity=\"1\" stroke=\"#000000\" stroke-opacity=\"1\" stroke-width=\"3.2\"/>\n",
       "<circle clip-path=\"url(#clip622)\" cx=\"1290.28\" cy=\"457.483\" r=\"13\" fill=\"#34095f\" fill-rule=\"evenodd\" fill-opacity=\"1\" stroke=\"#000000\" stroke-opacity=\"1\" stroke-width=\"3.2\"/>\n",
       "<circle clip-path=\"url(#clip622)\" cx=\"538.555\" cy=\"457.483\" r=\"26\" fill=\"#8f2468\" fill-rule=\"evenodd\" fill-opacity=\"1\" stroke=\"#000000\" stroke-opacity=\"1\" stroke-width=\"3.2\"/>\n",
       "<circle clip-path=\"url(#clip622)\" cx=\"774.765\" cy=\"1000.66\" r=\"21\" fill=\"#6f196e\" fill-rule=\"evenodd\" fill-opacity=\"1\" stroke=\"#000000\" stroke-opacity=\"1\" stroke-width=\"3.2\"/>\n",
       "<circle clip-path=\"url(#clip622)\" cx=\"1290.28\" cy=\"1000.66\" r=\"15\" fill=\"#400967\" fill-rule=\"evenodd\" fill-opacity=\"1\" stroke=\"#000000\" stroke-opacity=\"1\" stroke-width=\"3.2\"/>\n",
       "<circle clip-path=\"url(#clip622)\" cx=\"774.765\" cy=\"1186.48\" r=\"22\" fill=\"#781c6d\" fill-rule=\"evenodd\" fill-opacity=\"1\" stroke=\"#000000\" stroke-opacity=\"1\" stroke-width=\"3.2\"/>\n",
       "<circle clip-path=\"url(#clip622)\" cx=\"278.297\" cy=\"85.838\" r=\"27\" fill=\"#9c2864\" fill-rule=\"evenodd\" fill-opacity=\"1\" stroke=\"#000000\" stroke-opacity=\"1\" stroke-width=\"3.2\"/>\n",
       "<circle clip-path=\"url(#clip622)\" cx=\"278.297\" cy=\"643.306\" r=\"30\" fill=\"#af305b\" fill-rule=\"evenodd\" fill-opacity=\"1\" stroke=\"#000000\" stroke-opacity=\"1\" stroke-width=\"3.2\"/>\n",
       "<circle clip-path=\"url(#clip622)\" cx=\"1553.52\" cy=\"1372.3\" r=\"17\" fill=\"#500d6c\" fill-rule=\"evenodd\" fill-opacity=\"1\" stroke=\"#000000\" stroke-opacity=\"1\" stroke-width=\"3.2\"/>\n",
       "<circle clip-path=\"url(#clip622)\" cx=\"278.297\" cy=\"457.483\" r=\"35\" fill=\"#cb4049\" fill-rule=\"evenodd\" fill-opacity=\"1\" stroke=\"#000000\" stroke-opacity=\"1\" stroke-width=\"3.2\"/>\n",
       "<circle clip-path=\"url(#clip622)\" cx=\"538.555\" cy=\"1186.48\" r=\"28\" fill=\"#9f2a62\" fill-rule=\"evenodd\" fill-opacity=\"1\" stroke=\"#000000\" stroke-opacity=\"1\" stroke-width=\"3.2\"/>\n",
       "<circle clip-path=\"url(#clip622)\" cx=\"1290.28\" cy=\"1186.48\" r=\"15\" fill=\"#460a69\" fill-rule=\"evenodd\" fill-opacity=\"1\" stroke=\"#000000\" stroke-opacity=\"1\" stroke-width=\"3.2\"/>\n",
       "<circle clip-path=\"url(#clip622)\" cx=\"1805.23\" cy=\"1186.48\" r=\"7\" fill=\"#0b0725\" fill-rule=\"evenodd\" fill-opacity=\"1\" stroke=\"#000000\" stroke-opacity=\"1\" stroke-width=\"3.2\"/>\n",
       "<circle clip-path=\"url(#clip622)\" cx=\"1805.23\" cy=\"85.838\" r=\"6\" fill=\"#050419\" fill-rule=\"evenodd\" fill-opacity=\"1\" stroke=\"#000000\" stroke-opacity=\"1\" stroke-width=\"3.2\"/>\n",
       "<circle clip-path=\"url(#clip622)\" cx=\"1290.28\" cy=\"1372.3\" r=\"18\" fill=\"#5b116e\" fill-rule=\"evenodd\" fill-opacity=\"1\" stroke=\"#000000\" stroke-opacity=\"1\" stroke-width=\"3.2\"/>\n",
       "<circle clip-path=\"url(#clip622)\" cx=\"1046.57\" cy=\"1000.66\" r=\"18\" fill=\"#58106d\" fill-rule=\"evenodd\" fill-opacity=\"1\" stroke=\"#000000\" stroke-opacity=\"1\" stroke-width=\"3.2\"/>\n",
       "<circle clip-path=\"url(#clip622)\" cx=\"278.297\" cy=\"271.661\" r=\"35\" fill=\"#cc4148\" fill-rule=\"evenodd\" fill-opacity=\"1\" stroke=\"#000000\" stroke-opacity=\"1\" stroke-width=\"3.2\"/>\n",
       "<circle clip-path=\"url(#clip622)\" cx=\"278.297\" cy=\"1186.48\" r=\"45\" fill=\"#f68111\" fill-rule=\"evenodd\" fill-opacity=\"1\" stroke=\"#000000\" stroke-opacity=\"1\" stroke-width=\"3.2\"/>\n",
       "<circle clip-path=\"url(#clip622)\" cx=\"2059.33\" cy=\"457.483\" r=\"3\" fill=\"#000004\" fill-rule=\"evenodd\" fill-opacity=\"1\" stroke=\"#000000\" stroke-opacity=\"1\" stroke-width=\"3.2\"/>\n",
       "<circle clip-path=\"url(#clip622)\" cx=\"1805.23\" cy=\"1372.3\" r=\"11\" fill=\"#220b4c\" fill-rule=\"evenodd\" fill-opacity=\"1\" stroke=\"#000000\" stroke-opacity=\"1\" stroke-width=\"3.2\"/>\n",
       "<circle clip-path=\"url(#clip622)\" cx=\"1553.52\" cy=\"1000.66\" r=\"11\" fill=\"#220b4c\" fill-rule=\"evenodd\" fill-opacity=\"1\" stroke=\"#000000\" stroke-opacity=\"1\" stroke-width=\"3.2\"/>\n",
       "<circle clip-path=\"url(#clip622)\" cx=\"1553.52\" cy=\"814.835\" r=\"9\" fill=\"#160b3a\" fill-rule=\"evenodd\" fill-opacity=\"1\" stroke=\"#000000\" stroke-opacity=\"1\" stroke-width=\"3.2\"/>\n",
       "<circle clip-path=\"url(#clip622)\" cx=\"1046.57\" cy=\"1186.48\" r=\"17\" fill=\"#550f6d\" fill-rule=\"evenodd\" fill-opacity=\"1\" stroke=\"#000000\" stroke-opacity=\"1\" stroke-width=\"3.2\"/>\n",
       "<circle clip-path=\"url(#clip622)\" cx=\"1290.28\" cy=\"85.838\" r=\"12\" fill=\"#2d0a59\" fill-rule=\"evenodd\" fill-opacity=\"1\" stroke=\"#000000\" stroke-opacity=\"1\" stroke-width=\"3.2\"/>\n",
       "<circle clip-path=\"url(#clip622)\" cx=\"278.297\" cy=\"1372.3\" r=\"61\" fill=\"#fcfea4\" fill-rule=\"evenodd\" fill-opacity=\"1\" stroke=\"#000000\" stroke-opacity=\"1\" stroke-width=\"3.2\"/>\n",
       "<circle clip-path=\"url(#clip622)\" cx=\"774.765\" cy=\"271.661\" r=\"20\" fill=\"#68166e\" fill-rule=\"evenodd\" fill-opacity=\"1\" stroke=\"#000000\" stroke-opacity=\"1\" stroke-width=\"3.2\"/>\n",
       "<circle clip-path=\"url(#clip622)\" cx=\"774.765\" cy=\"1372.3\" r=\"27\" fill=\"#982765\" fill-rule=\"evenodd\" fill-opacity=\"1\" stroke=\"#000000\" stroke-opacity=\"1\" stroke-width=\"3.2\"/>\n",
       "<circle clip-path=\"url(#clip622)\" cx=\"774.765\" cy=\"814.835\" r=\"20\" fill=\"#65156e\" fill-rule=\"evenodd\" fill-opacity=\"1\" stroke=\"#000000\" stroke-opacity=\"1\" stroke-width=\"3.2\"/>\n",
       "<circle clip-path=\"url(#clip622)\" cx=\"1553.52\" cy=\"271.661\" r=\"9\" fill=\"#180b3d\" fill-rule=\"evenodd\" fill-opacity=\"1\" stroke=\"#000000\" stroke-opacity=\"1\" stroke-width=\"3.2\"/>\n",
       "<circle clip-path=\"url(#clip622)\" cx=\"1805.23\" cy=\"271.661\" r=\"6\" fill=\"#08061f\" fill-rule=\"evenodd\" fill-opacity=\"1\" stroke=\"#000000\" stroke-opacity=\"1\" stroke-width=\"3.2\"/>\n",
       "<circle clip-path=\"url(#clip622)\" cx=\"1290.28\" cy=\"814.835\" r=\"14\" fill=\"#3b0964\" fill-rule=\"evenodd\" fill-opacity=\"1\" stroke=\"#000000\" stroke-opacity=\"1\" stroke-width=\"3.2\"/>\n",
       "<circle clip-path=\"url(#clip622)\" cx=\"2059.33\" cy=\"1000.66\" r=\"5\" fill=\"#030212\" fill-rule=\"evenodd\" fill-opacity=\"1\" stroke=\"#000000\" stroke-opacity=\"1\" stroke-width=\"3.2\"/>\n",
       "<circle clip-path=\"url(#clip622)\" cx=\"538.555\" cy=\"643.306\" r=\"25\" fill=\"#8e2368\" fill-rule=\"evenodd\" fill-opacity=\"1\" stroke=\"#000000\" stroke-opacity=\"1\" stroke-width=\"3.2\"/>\n",
       "<circle clip-path=\"url(#clip622)\" cx=\"2059.33\" cy=\"1186.48\" r=\"5\" fill=\"#030211\" fill-rule=\"evenodd\" fill-opacity=\"1\" stroke=\"#000000\" stroke-opacity=\"1\" stroke-width=\"3.2\"/>\n",
       "<circle clip-path=\"url(#clip622)\" cx=\"1290.28\" cy=\"643.306\" r=\"15\" fill=\"#410967\" fill-rule=\"evenodd\" fill-opacity=\"1\" stroke=\"#000000\" stroke-opacity=\"1\" stroke-width=\"3.2\"/>\n",
       "<circle clip-path=\"url(#clip622)\" cx=\"2059.33\" cy=\"814.835\" r=\"4\" fill=\"#010108\" fill-rule=\"evenodd\" fill-opacity=\"1\" stroke=\"#000000\" stroke-opacity=\"1\" stroke-width=\"3.2\"/>\n",
       "<circle clip-path=\"url(#clip622)\" cx=\"1553.52\" cy=\"85.838\" r=\"9\" fill=\"#170b3a\" fill-rule=\"evenodd\" fill-opacity=\"1\" stroke=\"#000000\" stroke-opacity=\"1\" stroke-width=\"3.2\"/>\n",
       "<defs>\n",
       "  <clipPath id=\"clip623\">\n",
       "    <rect x=\"2160\" y=\"47\" width=\"73\" height=\"1365\"/>\n",
       "  </clipPath>\n",
       "</defs>\n",
       "<g clip-path=\"url(#clip623)\">\n",
       "<image width=\"72\" height=\"1364\" xlink:href=\"data:image/png;base64,\n",
       "iVBORw0KGgoAAAANSUhEUgAAAEgAAAVUCAYAAABzwV4AAAAL0klEQVR4nO3dwY3sRhAFQY5Q/lsh\n",
       "L6XfLQtUeSQPERYsEg+zZJM7+/v3/H0f/tdfb/8AXydQECgIFAQKc+6/b/8Mn2ZBQaAgUBAozL1/\n",
       "3v4ZPs2CgkBBoCBQcCUdLCgIFAQKAgWBwly/xVYWFAQKAgWBwtzjQ3pjQUGgIFAQKLiSDhYUBAoC\n",
       "BYGCQMFvsWBBQaAgUBAoOA8KFhQECgIFgcI8rqRXFhQECgIFgYJAwXlQsKAgUBAoCBTmcR60sqAg\n",
       "UBAoCBTmOf+8/TN8mgUFgYJAQaAgUPBUI1hQECgIFAQKzoOCBQWBgkBBoOBDOlhQECgIFAQKAgXn\n",
       "QcGCgkBBoCBQmJ9bjZUFBYGCQEGgMM/xpf8bCwoCBYGCQEGg4FYjWFAQKAgUBApuNYIFBYGCQEGg\n",
       "4P2gYEFBoCBQECgIFObnVmNlQUGgIFAQKHiJM1hQECgIFAQKrqSDBQWBgkBBoCBQ8Og5WFAQKAgU\n",
       "BApuNYIFBYGCQEGg4Eo6WFAQKAgUBAoCBbcawYKCQEGgIFCY55y3f4ZPs6AgUBAoCBRcSQcLCgIF\n",
       "gYJAQaDgqUawoCBQECgIFHxIBwsKAgWBgkBhfg7tVxYUBAoCBYGCQMGtRrCgIFAQKAgUvB8ULCgI\n",
       "FAQKAgXnQcGCgkBBoCBQECg4DwoWFAQKAgWBgvOgYEFBoCBQECj4kA4WFAQKAgWBgkDBXz0HCwoC\n",
       "BYGCQMGtRrCgIFAQKAgUfEgHCwoCBYGCQEGg4LdYsKAgUBAoCBR8SAcLCgIFgYJAYZ7rQ3pjQUGg\n",
       "IFAQKAgU3GoECwoCBYGCQMGHdLCgIFAQKAgUfEgHCwoCBYGCQEGgMM+5b/8Mn2ZBQaAgUBAouNUI\n",
       "FhQECgIFgYIr6WBBQaAgUBAoCBTcagQLCgIFgYJAwa1GsKAgUBAoCBTmcSG9sqAgUBAoCBQECvNc\n",
       "txobCwoCBYGCQMGtRrCgIFAQKAgUfEgHCwoCBYGCQEGgML4Eb2dBQaAgUBAouNUIFhQECgIFgYIP\n",
       "6WBBQaAgUBAoCBTmOb+3f4ZPs6AgUBAoCBTmXh/SGwsKAgWBgkDBeVCwoCBQECgIFBx3BAsKAgWB\n",
       "gkBBoDD3aLRRJwgUBAoCBbcawYKCQEGgIFCYx5PVlQUFgYJAQaAgUJjrVmNlQUGgIFAQKMzj0H6l\n",
       "ThAoCBQECq6kgwUFgYJAQaAgUPBUI1hQECgIFAQKXuIM6gSBgkBBoOAlzmBBQaAgUBAoCBQ81QgW\n",
       "FAQKAgWBwtyr0UadIFAQKAgUnAcFCwoCBYGCQEGg4DwoWFAQKAgUBArzOA9aqRMECgIFgYIr6WBB\n",
       "QaAgUBAoCBT8FgsWFAQKAgWBgj/qDRYUBAoCBYGCP+oN6gSBgkBBoCBQ8P/mgwUFgYJAQaDg0D5Y\n",
       "UBAoCBQECr70P6gTBAoCBYGCQMF5ULCgIFAQKAgUnAcFCwoCBYGCQMGVdLCgIFAQKAgUBArecg3q\n",
       "BIGCQEGg4FYjWFAQKAgUBAoO7YMFBYGCQEGgIFBwqxEsKAgUBAoCBf+6JlhQECgIFAQK/glkUCcI\n",
       "FAQKAgWBgvOgYEFBoCBQECh49BwsKAgUBAoCBVfSwYKCQEGgIFAQKMzxW2xlQUGgIFAQKPij3qBO\n",
       "ECgIFAQKzoOCBQWBgkBBoCBQ8FssWFAQKAgUBAreDwoWFAQKAgWBgivpYEFBoCBQECgIFPwWCxYU\n",
       "BAoCBYGCr6YI6gSBgkBBoDDHof3KgoJAQaAgUBAoOA8KFhQECgIFgYIP6WBBQaAgUBAo+JAOFhQE\n",
       "CgIFgYJAwfcHBQsKAgWBgkDBrUawoCBQECgIFHxIBwsKAgWBgkBBoOBPEYI6QaAgUBAo+FOEYEFB\n",
       "oCBQECg4DwoWFAQKAgWBgkDBb7FgQUGgIFAQKHiJM1hQECgIFAQKrqSDBQWBgkBBoCBQmPv4Lbax\n",
       "oCBQECgIFJwHBQsKAgWBgkDBeVCwoCBQECgIFAQKbjWCBQWBgkBBoOBWI1hQECgIFAQKrqSDBQWB\n",
       "gkBBoCBQcKsRLCgIFAQKAgUf0sGCgkBBoCBQmONN+5UFBYGCQEGg4Eo6WFAQKAgUBAoCBY+egwUF\n",
       "gYJAQaAw9779I3ybBQWBgkBBoOBKOlhQECgIFAQKAgVf8hYsKAgUBAoCBbcawYKCQEGgIFDwflCw\n",
       "oCBQECgIFAQK/hQhWFAQKAgUBAreDwoWFAQKAgWBgkP7YEFBoCBQECgIFDzVCBYUBAoCBYGCQ/tg\n",
       "QUGgIFAQKDgPChYUBAoCBYGCQMGj52BBQaAgUBAoOA8KFhQECgIFgYInq8GCgkBBoCBQECjMefsn\n",
       "+DgLCgIFgYJAwa1GsKAgUBAoCBS8HxQsKAgUBAoCBYGC86BgQUGgIFAQKDgPChYUBAoCBYGCK+lg\n",
       "QUGgIFAQKAgU3GoECwoCBYGCQMGj52BBQaAgUBAojC9e2FlQECgIFAQKAgW3GsGCgkBBoCBQ8Og5\n",
       "WFAQKAgUBAqerAYLCgIFgYJAQaDgViNYUBAoCBQECm41ggUFgYJAQaAwxwtCKwsKAgWBgkBBoOA8\n",
       "KFhQECgIFAQKzoOCBQWBgkBBoOBKOlhQECgIFAQKAgX/bz5YUBAoCBQECv7ffLCgIFAQKAgUvB8U\n",
       "LCgIFAQKAgWBgm/BCxYUBAoCBYGCL3kLFhQECgIFgYInq8GCgkBBoCBQECh4yzVYUBAoCBQECv5e\n",
       "LFhQECgIFAQKrqSDBQWBgkBBoCBQ8JZrsKAgUBAoCBS8xBksKAgUBAoCBVfSwYKCQEGgIFAQKHjL\n",
       "NVhQECgIFAQKvj8oWFAQKAgUBArOg4IFBYGCQEGgIFDw6DlYUBAoCBQECm41ggUFgYJAQaDgSjpY\n",
       "UBAoCBQECgIFtxrBgoJAQaAgUPAhHSwoCBQECgIF50HBgoJAQaAgUBAouNUIFhQECgIFgYJbjWBB\n",
       "QaAgUBAouJIOFhQECgIFgYJAwfcHBQsKAgWBgkDBv64JFhQECgIFgYLzoGBBQaAgUBAoCBTmPn6N\n",
       "bSwoCBQECgIFtxrBgoJAQaAgUPBkNVhQECgIFAQKnqwGCwoCBYGCQEGg4DwoWFAQKAgUBAqerAYL\n",
       "CgIFgYJAwZV0sKAgUBAoCBQECr4/KFhQECgIFAQKc7wgtLKgIFAQKAgUvB8ULCgIFAQKAgWBwly3\n",
       "GisLCgIFgYJAwa1GsKAgUBAoCBQc2gcLCgIFgYJAQaDg/aBgQUGgIFAQKMzx92IrCwoCBYGCQMF5\n",
       "ULCgIFAQKAgUBAq+miJYUBAoCBQECt4PChYUBAoCBYGCQ/tgQUGgIFAQKAgUnAcFCwoCBYGCQGHO\n",
       "40RoY0FBoCBQECg4DwoWFAQKAgWBgkDBb7FgQUGgIFAQKDi0DxYUBAoCBYGCQ/tgQUGgIFAQKAgU\n",
       "5vzcamwsKAgUBAoCBbcawYKCQEGgIFCY60N6ZUFBoCBQECgIFNxqBAsKAgWBgkBhzs+H9MaCgkBB\n",
       "oCBQcCUdLCgIFAQKAgWBgqcawYKCQEGgIFBwqxEsKAgUBAoCBR/SwYKCQEGgIFAQKHj0HCwoCBQE\n",
       "CgKFuc+ft3+GT7OgIFAQKAgUnAcFCwoCBYGCQEGg4P2gYEFBoCBQECjMuc6DNhYUBAoCBYGCK+lg\n",
       "QUGgIFAQKAgU5nj0vLKgIFAQKAgU3GoECwoCBYGCQMGVdLCgIFAQKAgUBApzr1uNjQUFgYJAQaDg\n",
       "PChYUBAoCBQECl7iDBYUBAoCBYGCQMGtRrCgIFAQKAgU5rrVWFlQECgIFAQKrqSDBQWBgkBBoCBQ\n",
       "mOP9oJUFBYGCQEGg4PukgwUFgYJAQaDgTftgQUGgIFAQKAgUPNUIFhQECgIFgYJbjWBBQaAgUBAo\n",
       "+JAOFhQECgIFgYJAwaPnYEFBoCBQECi41QgWFAQKAgWBwjyerK4sKAgUBAoCBYGCW41gQUGgIFAQ\n",
       "KHiJM1hQECgIFAQK87iSXllQECgIFAQKAgXvBwULCgIFgYJAwaPnYEFBoCBQECg4DwoWFAQKAgWB\n",
       "gkBh7nPf/hk+zYKCQEGgIFBwHhQsKAgUBAoChXlcSa8sKAgUBAoChf8AJ8ztt7m0cDkAAAAASUVO\n",
       "RK5CYII=\n",
       "\" transform=\"translate(2161, 47)\"/>\n",
       "</g>\n",
       "<path clip-path=\"url(#clip620)\" d=\"M 0 0 M2280.7 1252.29 Q2277.09 1252.29 2275.26 1255.86 Q2273.45 1259.4 2273.45 1266.53 Q2273.45 1273.63 2275.26 1277.2 Q2277.09 1280.74 2280.7 1280.74 Q2284.33 1280.74 2286.14 1277.2 Q2287.97 1273.63 2287.97 1266.53 Q2287.97 1259.4 2286.14 1255.86 Q2284.33 1252.29 2280.7 1252.29 M2280.7 1248.59 Q2286.51 1248.59 2289.57 1253.19 Q2292.64 1257.78 2292.64 1266.53 Q2292.64 1275.25 2289.57 1279.86 Q2286.51 1284.44 2280.7 1284.44 Q2274.89 1284.44 2271.81 1279.86 Q2268.76 1275.25 2268.76 1266.53 Q2268.76 1257.78 2271.81 1253.19 Q2274.89 1248.59 2280.7 1248.59 Z\" fill=\"#000000\" fill-rule=\"evenodd\" fill-opacity=\"1\" /><path clip-path=\"url(#clip620)\" d=\"M 0 0 M2297.71 1277.89 L2302.6 1277.89 L2302.6 1283.77 L2297.71 1283.77 L2297.71 1277.89 Z\" fill=\"#000000\" fill-rule=\"evenodd\" fill-opacity=\"1\" /><path clip-path=\"url(#clip620)\" d=\"M 0 0 M2321.83 1265.14 Q2325.19 1265.86 2327.07 1268.12 Q2328.96 1270.39 2328.96 1273.73 Q2328.96 1278.84 2325.45 1281.64 Q2321.93 1284.44 2315.45 1284.44 Q2313.27 1284.44 2310.95 1284 Q2308.66 1283.59 2306.21 1282.73 L2306.21 1278.22 Q2308.15 1279.35 2310.47 1279.93 Q2312.78 1280.51 2315.31 1280.51 Q2319.7 1280.51 2322 1278.77 Q2324.31 1277.04 2324.31 1273.73 Q2324.31 1270.67 2322.16 1268.96 Q2320.03 1267.22 2316.21 1267.22 L2312.18 1267.22 L2312.18 1263.38 L2316.39 1263.38 Q2319.84 1263.38 2321.67 1262.01 Q2323.5 1260.62 2323.5 1258.03 Q2323.5 1255.37 2321.6 1253.96 Q2319.73 1252.52 2316.21 1252.52 Q2314.29 1252.52 2312.09 1252.94 Q2309.89 1253.36 2307.25 1254.24 L2307.25 1250.07 Q2309.91 1249.33 2312.23 1248.96 Q2314.57 1248.59 2316.63 1248.59 Q2321.95 1248.59 2325.05 1251.02 Q2328.15 1253.43 2328.15 1257.55 Q2328.15 1260.42 2326.51 1262.41 Q2324.87 1264.37 2321.83 1265.14 Z\" fill=\"#000000\" fill-rule=\"evenodd\" fill-opacity=\"1\" /><path clip-path=\"url(#clip620)\" d=\"M 0 0 M2348.2 1265.14 Q2351.56 1265.86 2353.43 1268.12 Q2355.33 1270.39 2355.33 1273.73 Q2355.33 1278.84 2351.81 1281.64 Q2348.29 1284.44 2341.81 1284.44 Q2339.64 1284.44 2337.32 1284 Q2335.03 1283.59 2332.58 1282.73 L2332.58 1278.22 Q2334.52 1279.35 2336.83 1279.93 Q2339.15 1280.51 2341.67 1280.51 Q2346.07 1280.51 2348.36 1278.77 Q2350.68 1277.04 2350.68 1273.73 Q2350.68 1270.67 2348.52 1268.96 Q2346.39 1267.22 2342.57 1267.22 L2338.55 1267.22 L2338.55 1263.38 L2342.76 1263.38 Q2346.21 1263.38 2348.04 1262.01 Q2349.87 1260.62 2349.87 1258.03 Q2349.87 1255.37 2347.97 1253.96 Q2346.09 1252.52 2342.57 1252.52 Q2340.65 1252.52 2338.45 1252.94 Q2336.26 1253.36 2333.62 1254.24 L2333.62 1250.07 Q2336.28 1249.33 2338.59 1248.96 Q2340.93 1248.59 2342.99 1248.59 Q2348.32 1248.59 2351.42 1251.02 Q2354.52 1253.43 2354.52 1257.55 Q2354.52 1260.42 2352.88 1262.41 Q2351.23 1264.37 2348.2 1265.14 Z\" fill=\"#000000\" fill-rule=\"evenodd\" fill-opacity=\"1\" /><path clip-path=\"url(#clip620)\" d=\"M 0 0 M2373.25 1253.29 L2361.44 1271.74 L2373.25 1271.74 L2373.25 1253.29 M2372.02 1249.21 L2377.9 1249.21 L2377.9 1271.74 L2382.83 1271.74 L2382.83 1275.62 L2377.9 1275.62 L2377.9 1283.77 L2373.25 1283.77 L2373.25 1275.62 L2357.64 1275.62 L2357.64 1271.11 L2372.02 1249.21 Z\" fill=\"#000000\" fill-rule=\"evenodd\" fill-opacity=\"1\" /><path clip-path=\"url(#clip620)\" d=\"M 0 0 M2280.7 1067.47 Q2277.09 1067.47 2275.26 1071.04 Q2273.45 1074.58 2273.45 1081.71 Q2273.45 1088.82 2275.26 1092.38 Q2277.09 1095.92 2280.7 1095.92 Q2284.33 1095.92 2286.14 1092.38 Q2287.97 1088.82 2287.97 1081.71 Q2287.97 1074.58 2286.14 1071.04 Q2284.33 1067.47 2280.7 1067.47 M2280.7 1063.77 Q2286.51 1063.77 2289.57 1068.38 Q2292.64 1072.96 2292.64 1081.71 Q2292.64 1090.44 2289.57 1095.04 Q2286.51 1099.63 2280.7 1099.63 Q2274.89 1099.63 2271.81 1095.04 Q2268.76 1090.44 2268.76 1081.71 Q2268.76 1072.96 2271.81 1068.38 Q2274.89 1063.77 2280.7 1063.77 Z\" fill=\"#000000\" fill-rule=\"evenodd\" fill-opacity=\"1\" /><path clip-path=\"url(#clip620)\" d=\"M 0 0 M2297.71 1093.07 L2302.6 1093.07 L2302.6 1098.95 L2297.71 1098.95 L2297.71 1093.07 Z\" fill=\"#000000\" fill-rule=\"evenodd\" fill-opacity=\"1\" /><path clip-path=\"url(#clip620)\" d=\"M 0 0 M2321.83 1080.32 Q2325.19 1081.04 2327.07 1083.31 Q2328.96 1085.57 2328.96 1088.91 Q2328.96 1094.02 2325.45 1096.82 Q2321.93 1099.63 2315.45 1099.63 Q2313.27 1099.63 2310.95 1099.19 Q2308.66 1098.77 2306.21 1097.91 L2306.21 1093.4 Q2308.15 1094.53 2310.47 1095.11 Q2312.78 1095.69 2315.31 1095.69 Q2319.7 1095.69 2322 1093.95 Q2324.31 1092.22 2324.31 1088.91 Q2324.31 1085.85 2322.16 1084.14 Q2320.03 1082.4 2316.21 1082.4 L2312.18 1082.4 L2312.18 1078.56 L2316.39 1078.56 Q2319.84 1078.56 2321.67 1077.19 Q2323.5 1075.81 2323.5 1073.21 Q2323.5 1070.55 2321.6 1069.14 Q2319.73 1067.7 2316.21 1067.7 Q2314.29 1067.7 2312.09 1068.12 Q2309.89 1068.54 2307.25 1069.42 L2307.25 1065.25 Q2309.91 1064.51 2312.23 1064.14 Q2314.57 1063.77 2316.63 1063.77 Q2321.95 1063.77 2325.05 1066.2 Q2328.15 1068.61 2328.15 1072.73 Q2328.15 1075.6 2326.51 1077.59 Q2324.87 1079.56 2321.83 1080.32 Z\" fill=\"#000000\" fill-rule=\"evenodd\" fill-opacity=\"1\" /><path clip-path=\"url(#clip620)\" d=\"M 0 0 M2348.2 1080.32 Q2351.56 1081.04 2353.43 1083.31 Q2355.33 1085.57 2355.33 1088.91 Q2355.33 1094.02 2351.81 1096.82 Q2348.29 1099.63 2341.81 1099.63 Q2339.64 1099.63 2337.32 1099.19 Q2335.03 1098.77 2332.58 1097.91 L2332.58 1093.4 Q2334.52 1094.53 2336.83 1095.11 Q2339.15 1095.69 2341.67 1095.69 Q2346.07 1095.69 2348.36 1093.95 Q2350.68 1092.22 2350.68 1088.91 Q2350.68 1085.85 2348.52 1084.14 Q2346.39 1082.4 2342.57 1082.4 L2338.55 1082.4 L2338.55 1078.56 L2342.76 1078.56 Q2346.21 1078.56 2348.04 1077.19 Q2349.87 1075.81 2349.87 1073.21 Q2349.87 1070.55 2347.97 1069.14 Q2346.09 1067.7 2342.57 1067.7 Q2340.65 1067.7 2338.45 1068.12 Q2336.26 1068.54 2333.62 1069.42 L2333.62 1065.25 Q2336.28 1064.51 2338.59 1064.14 Q2340.93 1063.77 2342.99 1063.77 Q2348.32 1063.77 2351.42 1066.2 Q2354.52 1068.61 2354.52 1072.73 Q2354.52 1075.6 2352.88 1077.59 Q2351.23 1079.56 2348.2 1080.32 Z\" fill=\"#000000\" fill-rule=\"evenodd\" fill-opacity=\"1\" /><path clip-path=\"url(#clip620)\" d=\"M 0 0 M2360.45 1064.39 L2378.8 1064.39 L2378.8 1068.33 L2364.73 1068.33 L2364.73 1076.8 Q2365.75 1076.45 2366.76 1076.29 Q2367.78 1076.11 2368.8 1076.11 Q2374.59 1076.11 2377.97 1079.28 Q2381.35 1082.45 2381.35 1087.87 Q2381.35 1093.44 2377.88 1096.55 Q2374.4 1099.63 2368.08 1099.63 Q2365.91 1099.63 2363.64 1099.25 Q2361.39 1098.88 2358.99 1098.14 L2358.99 1093.44 Q2361.07 1094.58 2363.29 1095.13 Q2365.51 1095.69 2367.99 1095.69 Q2372 1095.69 2374.33 1093.58 Q2376.67 1091.48 2376.67 1087.87 Q2376.67 1084.26 2374.33 1082.15 Q2372 1080.04 2367.99 1080.04 Q2366.12 1080.04 2364.24 1080.46 Q2362.39 1080.88 2360.45 1081.76 L2360.45 1064.39 Z\" fill=\"#000000\" fill-rule=\"evenodd\" fill-opacity=\"1\" /><path clip-path=\"url(#clip620)\" d=\"M 0 0 M2280.7 882.654 Q2277.09 882.654 2275.26 886.219 Q2273.45 889.761 2273.45 896.89 Q2273.45 903.997 2275.26 907.562 Q2277.09 911.103 2280.7 911.103 Q2284.33 911.103 2286.14 907.562 Q2287.97 903.997 2287.97 896.89 Q2287.97 889.761 2286.14 886.219 Q2284.33 882.654 2280.7 882.654 M2280.7 878.951 Q2286.51 878.951 2289.57 883.557 Q2292.64 888.14 2292.64 896.89 Q2292.64 905.617 2289.57 910.224 Q2286.51 914.807 2280.7 914.807 Q2274.89 914.807 2271.81 910.224 Q2268.76 905.617 2268.76 896.89 Q2268.76 888.14 2271.81 883.557 Q2274.89 878.951 2280.7 878.951 Z\" fill=\"#000000\" fill-rule=\"evenodd\" fill-opacity=\"1\" /><path clip-path=\"url(#clip620)\" d=\"M 0 0 M2297.71 908.256 L2302.6 908.256 L2302.6 914.136 L2297.71 914.136 L2297.71 908.256 Z\" fill=\"#000000\" fill-rule=\"evenodd\" fill-opacity=\"1\" /><path clip-path=\"url(#clip620)\" d=\"M 0 0 M2321.83 895.502 Q2325.19 896.219 2327.07 898.488 Q2328.96 900.756 2328.96 904.089 Q2328.96 909.205 2325.45 912.006 Q2321.93 914.807 2315.45 914.807 Q2313.27 914.807 2310.95 914.367 Q2308.66 913.951 2306.21 913.094 L2306.21 908.58 Q2308.15 909.714 2310.47 910.293 Q2312.78 910.872 2315.31 910.872 Q2319.7 910.872 2322 909.136 Q2324.31 907.4 2324.31 904.089 Q2324.31 901.034 2322.16 899.321 Q2320.03 897.585 2316.21 897.585 L2312.18 897.585 L2312.18 893.742 L2316.39 893.742 Q2319.84 893.742 2321.67 892.377 Q2323.5 890.988 2323.5 888.395 Q2323.5 885.733 2321.6 884.321 Q2319.73 882.886 2316.21 882.886 Q2314.29 882.886 2312.09 883.303 Q2309.89 883.719 2307.25 884.599 L2307.25 880.432 Q2309.91 879.691 2312.23 879.321 Q2314.57 878.951 2316.63 878.951 Q2321.95 878.951 2325.05 881.381 Q2328.15 883.789 2328.15 887.909 Q2328.15 890.779 2326.51 892.77 Q2324.87 894.738 2321.83 895.502 Z\" fill=\"#000000\" fill-rule=\"evenodd\" fill-opacity=\"1\" /><path clip-path=\"url(#clip620)\" d=\"M 0 0 M2348.2 895.502 Q2351.56 896.219 2353.43 898.488 Q2355.33 900.756 2355.33 904.089 Q2355.33 909.205 2351.81 912.006 Q2348.29 914.807 2341.81 914.807 Q2339.64 914.807 2337.32 914.367 Q2335.03 913.951 2332.58 913.094 L2332.58 908.58 Q2334.52 909.714 2336.83 910.293 Q2339.15 910.872 2341.67 910.872 Q2346.07 910.872 2348.36 909.136 Q2350.68 907.4 2350.68 904.089 Q2350.68 901.034 2348.52 899.321 Q2346.39 897.585 2342.57 897.585 L2338.55 897.585 L2338.55 893.742 L2342.76 893.742 Q2346.21 893.742 2348.04 892.377 Q2349.87 890.988 2349.87 888.395 Q2349.87 885.733 2347.97 884.321 Q2346.09 882.886 2342.57 882.886 Q2340.65 882.886 2338.45 883.303 Q2336.26 883.719 2333.62 884.599 L2333.62 880.432 Q2336.28 879.691 2338.59 879.321 Q2340.93 878.951 2342.99 878.951 Q2348.32 878.951 2351.42 881.381 Q2354.52 883.789 2354.52 887.909 Q2354.52 890.779 2352.88 892.77 Q2351.23 894.738 2348.2 895.502 Z\" fill=\"#000000\" fill-rule=\"evenodd\" fill-opacity=\"1\" /><path clip-path=\"url(#clip620)\" d=\"M 0 0 M2370.98 894.992 Q2367.83 894.992 2365.98 897.145 Q2364.15 899.298 2364.15 903.048 Q2364.15 906.775 2365.98 908.951 Q2367.83 911.103 2370.98 911.103 Q2374.13 911.103 2375.95 908.951 Q2377.81 906.775 2377.81 903.048 Q2377.81 899.298 2375.95 897.145 Q2374.13 894.992 2370.98 894.992 M2380.26 880.34 L2380.26 884.599 Q2378.5 883.765 2376.7 883.326 Q2374.91 882.886 2373.15 882.886 Q2368.52 882.886 2366.07 886.011 Q2363.64 889.136 2363.29 895.455 Q2364.66 893.441 2366.72 892.377 Q2368.78 891.289 2371.26 891.289 Q2376.46 891.289 2379.47 894.46 Q2382.51 897.608 2382.51 903.048 Q2382.51 908.372 2379.36 911.589 Q2376.21 914.807 2370.98 914.807 Q2364.98 914.807 2361.81 910.224 Q2358.64 905.617 2358.64 896.89 Q2358.64 888.696 2362.53 883.835 Q2366.42 878.951 2372.97 878.951 Q2374.73 878.951 2376.51 879.298 Q2378.32 879.645 2380.26 880.34 Z\" fill=\"#000000\" fill-rule=\"evenodd\" fill-opacity=\"1\" /><path clip-path=\"url(#clip620)\" d=\"M 0 0 M2280.7 697.836 Q2277.09 697.836 2275.26 701.401 Q2273.45 704.942 2273.45 712.072 Q2273.45 719.179 2275.26 722.743 Q2277.09 726.285 2280.7 726.285 Q2284.33 726.285 2286.14 722.743 Q2287.97 719.179 2287.97 712.072 Q2287.97 704.942 2286.14 701.401 Q2284.33 697.836 2280.7 697.836 M2280.7 694.132 Q2286.51 694.132 2289.57 698.739 Q2292.64 703.322 2292.64 712.072 Q2292.64 720.799 2289.57 725.405 Q2286.51 729.989 2280.7 729.989 Q2274.89 729.989 2271.81 725.405 Q2268.76 720.799 2268.76 712.072 Q2268.76 703.322 2271.81 698.739 Q2274.89 694.132 2280.7 694.132 Z\" fill=\"#000000\" fill-rule=\"evenodd\" fill-opacity=\"1\" /><path clip-path=\"url(#clip620)\" d=\"M 0 0 M2297.71 723.438 L2302.6 723.438 L2302.6 729.317 L2297.71 729.317 L2297.71 723.438 Z\" fill=\"#000000\" fill-rule=\"evenodd\" fill-opacity=\"1\" /><path clip-path=\"url(#clip620)\" d=\"M 0 0 M2321.83 710.683 Q2325.19 711.401 2327.07 713.669 Q2328.96 715.938 2328.96 719.271 Q2328.96 724.387 2325.45 727.188 Q2321.93 729.989 2315.45 729.989 Q2313.27 729.989 2310.95 729.549 Q2308.66 729.132 2306.21 728.276 L2306.21 723.762 Q2308.15 724.896 2310.47 725.475 Q2312.78 726.053 2315.31 726.053 Q2319.7 726.053 2322 724.317 Q2324.31 722.581 2324.31 719.271 Q2324.31 716.216 2322.16 714.503 Q2320.03 712.767 2316.21 712.767 L2312.18 712.767 L2312.18 708.924 L2316.39 708.924 Q2319.84 708.924 2321.67 707.558 Q2323.5 706.169 2323.5 703.577 Q2323.5 700.915 2321.6 699.503 Q2319.73 698.068 2316.21 698.068 Q2314.29 698.068 2312.09 698.484 Q2309.89 698.901 2307.25 699.78 L2307.25 695.614 Q2309.91 694.873 2312.23 694.503 Q2314.57 694.132 2316.63 694.132 Q2321.95 694.132 2325.05 696.563 Q2328.15 698.97 2328.15 703.091 Q2328.15 705.961 2326.51 707.952 Q2324.87 709.919 2321.83 710.683 Z\" fill=\"#000000\" fill-rule=\"evenodd\" fill-opacity=\"1\" /><path clip-path=\"url(#clip620)\" d=\"M 0 0 M2348.2 710.683 Q2351.56 711.401 2353.43 713.669 Q2355.33 715.938 2355.33 719.271 Q2355.33 724.387 2351.81 727.188 Q2348.29 729.989 2341.81 729.989 Q2339.64 729.989 2337.32 729.549 Q2335.03 729.132 2332.58 728.276 L2332.58 723.762 Q2334.52 724.896 2336.83 725.475 Q2339.15 726.053 2341.67 726.053 Q2346.07 726.053 2348.36 724.317 Q2350.68 722.581 2350.68 719.271 Q2350.68 716.216 2348.52 714.503 Q2346.39 712.767 2342.57 712.767 L2338.55 712.767 L2338.55 708.924 L2342.76 708.924 Q2346.21 708.924 2348.04 707.558 Q2349.87 706.169 2349.87 703.577 Q2349.87 700.915 2347.97 699.503 Q2346.09 698.068 2342.57 698.068 Q2340.65 698.068 2338.45 698.484 Q2336.26 698.901 2333.62 699.78 L2333.62 695.614 Q2336.28 694.873 2338.59 694.503 Q2340.93 694.132 2342.99 694.132 Q2348.32 694.132 2351.42 696.563 Q2354.52 698.97 2354.52 703.091 Q2354.52 705.961 2352.88 707.952 Q2351.23 709.919 2348.2 710.683 Z\" fill=\"#000000\" fill-rule=\"evenodd\" fill-opacity=\"1\" /><path clip-path=\"url(#clip620)\" d=\"M 0 0 M2359.22 694.757 L2381.44 694.757 L2381.44 696.748 L2368.89 729.317 L2364.01 729.317 L2375.82 698.693 L2359.22 698.693 L2359.22 694.757 Z\" fill=\"#000000\" fill-rule=\"evenodd\" fill-opacity=\"1\" /><path clip-path=\"url(#clip620)\" d=\"M 0 0 M2280.7 513.018 Q2277.09 513.018 2275.26 516.582 Q2273.45 520.124 2273.45 527.254 Q2273.45 534.36 2275.26 537.925 Q2277.09 541.467 2280.7 541.467 Q2284.33 541.467 2286.14 537.925 Q2287.97 534.36 2287.97 527.254 Q2287.97 520.124 2286.14 516.582 Q2284.33 513.018 2280.7 513.018 M2280.7 509.314 Q2286.51 509.314 2289.57 513.92 Q2292.64 518.504 2292.64 527.254 Q2292.64 535.981 2289.57 540.587 Q2286.51 545.17 2280.7 545.17 Q2274.89 545.17 2271.81 540.587 Q2268.76 535.981 2268.76 527.254 Q2268.76 518.504 2271.81 513.92 Q2274.89 509.314 2280.7 509.314 Z\" fill=\"#000000\" fill-rule=\"evenodd\" fill-opacity=\"1\" /><path clip-path=\"url(#clip620)\" d=\"M 0 0 M2297.71 538.619 L2302.6 538.619 L2302.6 544.499 L2297.71 544.499 L2297.71 538.619 Z\" fill=\"#000000\" fill-rule=\"evenodd\" fill-opacity=\"1\" /><path clip-path=\"url(#clip620)\" d=\"M 0 0 M2321.83 525.865 Q2325.19 526.582 2327.07 528.851 Q2328.96 531.119 2328.96 534.453 Q2328.96 539.568 2325.45 542.369 Q2321.93 545.17 2315.45 545.17 Q2313.27 545.17 2310.95 544.73 Q2308.66 544.314 2306.21 543.457 L2306.21 538.943 Q2308.15 540.078 2310.47 540.656 Q2312.78 541.235 2315.31 541.235 Q2319.7 541.235 2322 539.499 Q2324.31 537.763 2324.31 534.453 Q2324.31 531.397 2322.16 529.684 Q2320.03 527.948 2316.21 527.948 L2312.18 527.948 L2312.18 524.106 L2316.39 524.106 Q2319.84 524.106 2321.67 522.74 Q2323.5 521.351 2323.5 518.758 Q2323.5 516.096 2321.6 514.684 Q2319.73 513.249 2316.21 513.249 Q2314.29 513.249 2312.09 513.666 Q2309.89 514.082 2307.25 514.962 L2307.25 510.795 Q2309.91 510.055 2312.23 509.684 Q2314.57 509.314 2316.63 509.314 Q2321.95 509.314 2325.05 511.745 Q2328.15 514.152 2328.15 518.272 Q2328.15 521.143 2326.51 523.133 Q2324.87 525.101 2321.83 525.865 Z\" fill=\"#000000\" fill-rule=\"evenodd\" fill-opacity=\"1\" /><path clip-path=\"url(#clip620)\" d=\"M 0 0 M2348.2 525.865 Q2351.56 526.582 2353.43 528.851 Q2355.33 531.119 2355.33 534.453 Q2355.33 539.568 2351.81 542.369 Q2348.29 545.17 2341.81 545.17 Q2339.64 545.17 2337.32 544.73 Q2335.03 544.314 2332.58 543.457 L2332.58 538.943 Q2334.52 540.078 2336.83 540.656 Q2339.15 541.235 2341.67 541.235 Q2346.07 541.235 2348.36 539.499 Q2350.68 537.763 2350.68 534.453 Q2350.68 531.397 2348.52 529.684 Q2346.39 527.948 2342.57 527.948 L2338.55 527.948 L2338.55 524.106 L2342.76 524.106 Q2346.21 524.106 2348.04 522.74 Q2349.87 521.351 2349.87 518.758 Q2349.87 516.096 2347.97 514.684 Q2346.09 513.249 2342.57 513.249 Q2340.65 513.249 2338.45 513.666 Q2336.26 514.082 2333.62 514.962 L2333.62 510.795 Q2336.28 510.055 2338.59 509.684 Q2340.93 509.314 2342.99 509.314 Q2348.32 509.314 2351.42 511.745 Q2354.52 514.152 2354.52 518.272 Q2354.52 521.143 2352.88 523.133 Q2351.23 525.101 2348.2 525.865 Z\" fill=\"#000000\" fill-rule=\"evenodd\" fill-opacity=\"1\" /><path clip-path=\"url(#clip620)\" d=\"M 0 0 M2370.4 528.087 Q2367.07 528.087 2365.14 529.869 Q2363.25 531.652 2363.25 534.777 Q2363.25 537.902 2365.14 539.684 Q2367.07 541.467 2370.4 541.467 Q2373.73 541.467 2375.65 539.684 Q2377.57 537.879 2377.57 534.777 Q2377.57 531.652 2375.65 529.869 Q2373.76 528.087 2370.4 528.087 M2365.72 526.096 Q2362.71 525.356 2361.02 523.295 Q2359.36 521.235 2359.36 518.272 Q2359.36 514.129 2362.3 511.721 Q2365.26 509.314 2370.4 509.314 Q2375.56 509.314 2378.5 511.721 Q2381.44 514.129 2381.44 518.272 Q2381.44 521.235 2379.75 523.295 Q2378.08 525.356 2375.1 526.096 Q2378.48 526.883 2380.35 529.175 Q2382.25 531.467 2382.25 534.777 Q2382.25 539.8 2379.17 542.485 Q2376.12 545.17 2370.4 545.17 Q2364.68 545.17 2361.6 542.485 Q2358.55 539.8 2358.55 534.777 Q2358.55 531.467 2360.45 529.175 Q2362.34 526.883 2365.72 526.096 M2364.01 518.712 Q2364.01 521.397 2365.68 522.902 Q2367.37 524.407 2370.4 524.407 Q2373.41 524.407 2375.1 522.902 Q2376.81 521.397 2376.81 518.712 Q2376.81 516.027 2375.1 514.522 Q2373.41 513.018 2370.4 513.018 Q2367.37 513.018 2365.68 514.522 Q2364.01 516.027 2364.01 518.712 Z\" fill=\"#000000\" fill-rule=\"evenodd\" fill-opacity=\"1\" /><path clip-path=\"url(#clip620)\" d=\"M 0 0 M2280.7 328.199 Q2277.09 328.199 2275.26 331.764 Q2273.45 335.306 2273.45 342.435 Q2273.45 349.542 2275.26 353.107 Q2277.09 356.648 2280.7 356.648 Q2284.33 356.648 2286.14 353.107 Q2287.97 349.542 2287.97 342.435 Q2287.97 335.306 2286.14 331.764 Q2284.33 328.199 2280.7 328.199 M2280.7 324.496 Q2286.51 324.496 2289.57 329.102 Q2292.64 333.685 2292.64 342.435 Q2292.64 351.162 2289.57 355.769 Q2286.51 360.352 2280.7 360.352 Q2274.89 360.352 2271.81 355.769 Q2268.76 351.162 2268.76 342.435 Q2268.76 333.685 2271.81 329.102 Q2274.89 324.496 2280.7 324.496 Z\" fill=\"#000000\" fill-rule=\"evenodd\" fill-opacity=\"1\" /><path clip-path=\"url(#clip620)\" d=\"M 0 0 M2297.71 353.801 L2302.6 353.801 L2302.6 359.681 L2297.71 359.681 L2297.71 353.801 Z\" fill=\"#000000\" fill-rule=\"evenodd\" fill-opacity=\"1\" /><path clip-path=\"url(#clip620)\" d=\"M 0 0 M2321.83 341.046 Q2325.19 341.764 2327.07 344.033 Q2328.96 346.301 2328.96 349.634 Q2328.96 354.75 2325.45 357.551 Q2321.93 360.352 2315.45 360.352 Q2313.27 360.352 2310.95 359.912 Q2308.66 359.495 2306.21 358.639 L2306.21 354.125 Q2308.15 355.259 2310.47 355.838 Q2312.78 356.417 2315.31 356.417 Q2319.7 356.417 2322 354.681 Q2324.31 352.945 2324.31 349.634 Q2324.31 346.579 2322.16 344.866 Q2320.03 343.13 2316.21 343.13 L2312.18 343.13 L2312.18 339.287 L2316.39 339.287 Q2319.84 339.287 2321.67 337.922 Q2323.5 336.533 2323.5 333.94 Q2323.5 331.278 2321.6 329.866 Q2319.73 328.431 2316.21 328.431 Q2314.29 328.431 2312.09 328.847 Q2309.89 329.264 2307.25 330.144 L2307.25 325.977 Q2309.91 325.236 2312.23 324.866 Q2314.57 324.496 2316.63 324.496 Q2321.95 324.496 2325.05 326.926 Q2328.15 329.334 2328.15 333.454 Q2328.15 336.324 2326.51 338.315 Q2324.87 340.283 2321.83 341.046 Z\" fill=\"#000000\" fill-rule=\"evenodd\" fill-opacity=\"1\" /><path clip-path=\"url(#clip620)\" d=\"M 0 0 M2348.2 341.046 Q2351.56 341.764 2353.43 344.033 Q2355.33 346.301 2355.33 349.634 Q2355.33 354.75 2351.81 357.551 Q2348.29 360.352 2341.81 360.352 Q2339.64 360.352 2337.32 359.912 Q2335.03 359.495 2332.58 358.639 L2332.58 354.125 Q2334.52 355.259 2336.83 355.838 Q2339.15 356.417 2341.67 356.417 Q2346.07 356.417 2348.36 354.681 Q2350.68 352.945 2350.68 349.634 Q2350.68 346.579 2348.52 344.866 Q2346.39 343.13 2342.57 343.13 L2338.55 343.13 L2338.55 339.287 L2342.76 339.287 Q2346.21 339.287 2348.04 337.922 Q2349.87 336.533 2349.87 333.94 Q2349.87 331.278 2347.97 329.866 Q2346.09 328.431 2342.57 328.431 Q2340.65 328.431 2338.45 328.847 Q2336.26 329.264 2333.62 330.144 L2333.62 325.977 Q2336.28 325.236 2338.59 324.866 Q2340.93 324.496 2342.99 324.496 Q2348.32 324.496 2351.42 326.926 Q2354.52 329.334 2354.52 333.454 Q2354.52 336.324 2352.88 338.315 Q2351.23 340.283 2348.2 341.046 Z\" fill=\"#000000\" fill-rule=\"evenodd\" fill-opacity=\"1\" /><path clip-path=\"url(#clip620)\" d=\"M 0 0 M2360.54 358.963 L2360.54 354.704 Q2362.3 355.537 2364.1 355.977 Q2365.91 356.417 2367.64 356.417 Q2372.27 356.417 2374.7 353.315 Q2377.16 350.19 2377.51 343.847 Q2376.16 345.838 2374.1 346.903 Q2372.04 347.968 2369.54 347.968 Q2364.36 347.968 2361.32 344.843 Q2358.32 341.695 2358.32 336.255 Q2358.32 330.931 2361.46 327.713 Q2364.61 324.496 2369.84 324.496 Q2375.84 324.496 2378.99 329.102 Q2382.16 333.685 2382.16 342.435 Q2382.16 350.607 2378.27 355.491 Q2374.4 360.352 2367.85 360.352 Q2366.09 360.352 2364.29 360.005 Q2362.48 359.658 2360.54 358.963 M2369.84 344.31 Q2372.99 344.31 2374.82 342.158 Q2376.67 340.005 2376.67 336.255 Q2376.67 332.528 2374.82 330.375 Q2372.99 328.199 2369.84 328.199 Q2366.7 328.199 2364.84 330.375 Q2363.01 332.528 2363.01 336.255 Q2363.01 340.005 2364.84 342.158 Q2366.7 344.31 2369.84 344.31 Z\" fill=\"#000000\" fill-rule=\"evenodd\" fill-opacity=\"1\" /><path clip-path=\"url(#clip620)\" d=\"M 0 0 M2280.7 143.381 Q2277.09 143.381 2275.26 146.946 Q2273.45 150.487 2273.45 157.617 Q2273.45 164.723 2275.26 168.288 Q2277.09 171.83 2280.7 171.83 Q2284.33 171.83 2286.14 168.288 Q2287.97 164.723 2287.97 157.617 Q2287.97 150.487 2286.14 146.946 Q2284.33 143.381 2280.7 143.381 M2280.7 139.677 Q2286.51 139.677 2289.57 144.284 Q2292.64 148.867 2292.64 157.617 Q2292.64 166.344 2289.57 170.95 Q2286.51 175.534 2280.7 175.534 Q2274.89 175.534 2271.81 170.95 Q2268.76 166.344 2268.76 157.617 Q2268.76 148.867 2271.81 144.284 Q2274.89 139.677 2280.7 139.677 Z\" fill=\"#000000\" fill-rule=\"evenodd\" fill-opacity=\"1\" /><path clip-path=\"url(#clip620)\" d=\"M 0 0 M2297.71 168.983 L2302.6 168.983 L2302.6 174.862 L2297.71 174.862 L2297.71 168.983 Z\" fill=\"#000000\" fill-rule=\"evenodd\" fill-opacity=\"1\" /><path clip-path=\"url(#clip620)\" d=\"M 0 0 M2321.83 156.228 Q2325.19 156.946 2327.07 159.214 Q2328.96 161.483 2328.96 164.816 Q2328.96 169.932 2325.45 172.733 Q2321.93 175.534 2315.45 175.534 Q2313.27 175.534 2310.95 175.094 Q2308.66 174.677 2306.21 173.821 L2306.21 169.307 Q2308.15 170.441 2310.47 171.02 Q2312.78 171.598 2315.31 171.598 Q2319.7 171.598 2322 169.862 Q2324.31 168.126 2324.31 164.816 Q2324.31 161.761 2322.16 160.048 Q2320.03 158.311 2316.21 158.311 L2312.18 158.311 L2312.18 154.469 L2316.39 154.469 Q2319.84 154.469 2321.67 153.103 Q2323.5 151.714 2323.5 149.122 Q2323.5 146.46 2321.6 145.048 Q2319.73 143.612 2316.21 143.612 Q2314.29 143.612 2312.09 144.029 Q2309.89 144.446 2307.25 145.325 L2307.25 141.159 Q2309.91 140.418 2312.23 140.048 Q2314.57 139.677 2316.63 139.677 Q2321.95 139.677 2325.05 142.108 Q2328.15 144.515 2328.15 148.636 Q2328.15 151.506 2326.51 153.497 Q2324.87 155.464 2321.83 156.228 Z\" fill=\"#000000\" fill-rule=\"evenodd\" fill-opacity=\"1\" /><path clip-path=\"url(#clip620)\" d=\"M 0 0 M2346.88 144.376 L2335.07 162.825 L2346.88 162.825 L2346.88 144.376 M2345.65 140.302 L2351.53 140.302 L2351.53 162.825 L2356.46 162.825 L2356.46 166.714 L2351.53 166.714 L2351.53 174.862 L2346.88 174.862 L2346.88 166.714 L2331.28 166.714 L2331.28 162.2 L2345.65 140.302 Z\" fill=\"#000000\" fill-rule=\"evenodd\" fill-opacity=\"1\" /><path clip-path=\"url(#clip620)\" d=\"M 0 0 M2371.53 143.381 Q2367.92 143.381 2366.09 146.946 Q2364.29 150.487 2364.29 157.617 Q2364.29 164.723 2366.09 168.288 Q2367.92 171.83 2371.53 171.83 Q2375.17 171.83 2376.97 168.288 Q2378.8 164.723 2378.8 157.617 Q2378.8 150.487 2376.97 146.946 Q2375.17 143.381 2371.53 143.381 M2371.53 139.677 Q2377.34 139.677 2380.4 144.284 Q2383.48 148.867 2383.48 157.617 Q2383.48 166.344 2380.4 170.95 Q2377.34 175.534 2371.53 175.534 Q2365.72 175.534 2362.64 170.95 Q2359.59 166.344 2359.59 157.617 Q2359.59 148.867 2362.64 144.284 Q2365.72 139.677 2371.53 139.677 Z\" fill=\"#000000\" fill-rule=\"evenodd\" fill-opacity=\"1\" /><polyline clip-path=\"url(#clip620)\" style=\"stroke:#000000; stroke-width:4; stroke-opacity:1; fill:none\" points=\"\n",
       "  2232.76,1410.9 2232.76,1270.12 2256.76,1270.12 2232.76,1270.12 2232.76,1085.3 2256.76,1085.3 2232.76,1085.3 2232.76,900.484 2256.76,900.484 2232.76,900.484 \n",
       "  2232.76,715.666 2256.76,715.666 2232.76,715.666 2232.76,530.848 2256.76,530.848 2232.76,530.848 2232.76,346.029 2256.76,346.029 2232.76,346.029 2232.76,161.211 \n",
       "  2256.76,161.211 2232.76,161.211 2232.76,47.2441 \n",
       "  \"/>\n",
       "</svg>\n"
      ]
     },
     "execution_count": 234,
     "metadata": {},
     "output_type": "execute_result"
    }
   ],
   "source": [
    "plot(self_tuning_nn)"
   ]
  },
  {
   "cell_type": "code",
   "execution_count": 235,
   "metadata": {},
   "outputs": [
    {
     "data": {
      "text/plain": [
       "(best_model = \u001b[34mNeuralNetworkClassifier{CustomNN,…} @177\u001b[39m,\n",
       " best_fitted_params = (chain = Chain(Chain(Dense(8, 61, σ), Dense(61, 40, σ), Dense(40, 2, σ)), softmax),),)"
      ]
     },
     "execution_count": 235,
     "metadata": {},
     "output_type": "execute_result"
    }
   ],
   "source": [
    "best = fitted_params(self_tuning_nn)\n",
    "best"
   ]
  },
  {
   "cell_type": "code",
   "execution_count": 236,
   "metadata": {},
   "outputs": [
    {
     "data": {
      "text/plain": [
       "NeuralNetworkClassifier(\n",
       "    builder = CustomNN(\n",
       "            n1 = 61,\n",
       "            n2 = 40),\n",
       "    finaliser = NNlib.softmax,\n",
       "    optimiser = ADAM(0.0003333333333333333, (0.9, 0.999), IdDict{Any,Any}()),\n",
       "    loss = Flux.crossentropy,\n",
       "    epochs = 100,\n",
       "    batch_size = 16,\n",
       "    lambda = 0.01,\n",
       "    alpha = 0.0,\n",
       "    optimiser_changes_trigger_retraining = false)\u001b[34m @177\u001b[39m"
      ]
     },
     "execution_count": 236,
     "metadata": {},
     "output_type": "execute_result"
    }
   ],
   "source": [
    "best.best_model"
   ]
  },
  {
   "cell_type": "code",
   "execution_count": 237,
   "metadata": {
    "scrolled": true
   },
   "outputs": [
    {
     "data": {
      "text/plain": [
       "0.3332383f0"
      ]
     },
     "execution_count": 237,
     "metadata": {},
     "output_type": "execute_result"
    }
   ],
   "source": [
    "best_loss = z.report.best_result.measurement[1]"
   ]
  },
  {
   "cell_type": "code",
   "execution_count": 238,
   "metadata": {
    "scrolled": true
   },
   "outputs": [
    {
     "data": {
      "text/plain": [
       "61"
      ]
     },
     "execution_count": 238,
     "metadata": {},
     "output_type": "execute_result"
    }
   ],
   "source": [
    "best_n1 = best.best_model.builder.n1"
   ]
  },
  {
   "cell_type": "code",
   "execution_count": 83,
   "metadata": {},
   "outputs": [],
   "source": [
    "fn = \"Figures/Grid_NN_$(param1):$(best.best_model.epochs)_x_$(param2):$(best_n1)_bestloss:$(best_loss)\"\n",
    "f = replace(fn,'.' => ',')\n",
    "png(f)"
   ]
  },
  {
   "cell_type": "markdown",
   "metadata": {},
   "source": [
    "### GridSearch for Hidden Layer Size 2"
   ]
  },
  {
   "cell_type": "code",
   "execution_count": 84,
   "metadata": {
    "scrolled": false
   },
   "outputs": [
    {
     "data": {
      "text/plain": [
       "NeuralNetworkClassifier(\n",
       "    builder = CustomNN(\n",
       "            n1 = 23,\n",
       "            n2 = 40),\n",
       "    finaliser = NNlib.softmax,\n",
       "    optimiser = ADAM(0.001, (0.9, 0.999), IdDict{Any,Any}()),\n",
       "    loss = Flux.crossentropy,\n",
       "    epochs = 10,\n",
       "    batch_size = 1,\n",
       "    lambda = 0.0,\n",
       "    alpha = 0.0,\n",
       "    optimiser_changes_trigger_retraining = false)\u001b[34m @237\u001b[39m"
      ]
     },
     "execution_count": 84,
     "metadata": {},
     "output_type": "execute_result"
    }
   ],
   "source": [
    "nn = NeuralNetworkClassifier(builder=CustomNN(best_n1,layer2))"
   ]
  },
  {
   "cell_type": "code",
   "execution_count": 85,
   "metadata": {},
   "outputs": [
    {
     "data": {
      "text/plain": [
       "0.01"
      ]
     },
     "execution_count": 85,
     "metadata": {},
     "output_type": "execute_result"
    }
   ],
   "source": [
    "nn.optimiser.eta = 0.001\n",
    "nn.epochs = 60\n",
    "nn.batch_size = batch_sz\n",
    "nn.lambda = 0.01"
   ]
  },
  {
   "cell_type": "code",
   "execution_count": 86,
   "metadata": {},
   "outputs": [
    {
     "data": {
      "text/plain": [
       "\u001b[34mMachine{NeuralNetworkClassifier{CustomNN,…}} @330\u001b[39m trained 0 times.\n",
       "  args: \n",
       "    1:\t\u001b[34mSource @833\u001b[39m ⏎ `Table{AbstractArray{Continuous,1}}`\n",
       "    2:\t\u001b[34mSource @795\u001b[39m ⏎ `AbstractArray{Multiclass{2},1}`\n"
      ]
     },
     "execution_count": 86,
     "metadata": {},
     "output_type": "execute_result"
    }
   ],
   "source": [
    "Net = machine(nn, X_stand, y)"
   ]
  },
  {
   "cell_type": "code",
   "execution_count": 94,
   "metadata": {},
   "outputs": [
    {
     "data": {
      "text/plain": [
       "MLJBase.NumericRange(Int64, :(builder.n2), ... )"
      ]
     },
     "execution_count": 94,
     "metadata": {},
     "output_type": "execute_result"
    }
   ],
   "source": [
    "param1 = :epochs\n",
    "# param1 = :(builder.n1)\n",
    "param2 = :(builder.n2)\n",
    "\n",
    "r1 = range(nn, param1, lower=10, upper=100, scale=:log10)\n",
    "# r1 = range(nn, param1, lower=1, upper=100, scale=:linear)\n",
    "r2 = range(nn, param2, lower=5, upper=best_n1, scale=:linear)"
   ]
  },
  {
   "cell_type": "code",
   "execution_count": 95,
   "metadata": {
    "scrolled": true
   },
   "outputs": [
    {
     "data": {
      "text/plain": [
       "ProbabilisticTunedModel(\n",
       "    model = NeuralNetworkClassifier(\n",
       "            builder = \u001b[34mCustomNN @315\u001b[39m,\n",
       "            finaliser = NNlib.softmax,\n",
       "            optimiser = ADAM(0.001, (0.9, 0.999), IdDict{Any,Any}()),\n",
       "            loss = Flux.crossentropy,\n",
       "            epochs = 60,\n",
       "            batch_size = 16,\n",
       "            lambda = 0.01,\n",
       "            alpha = 0.0,\n",
       "            optimiser_changes_trigger_retraining = false),\n",
       "    tuning = Grid(\n",
       "            goal = 64,\n",
       "            resolution = 10,\n",
       "            shuffle = true,\n",
       "            rng = Random._GLOBAL_RNG()),\n",
       "    resampling = Holdout(\n",
       "            fraction_train = 0.7,\n",
       "            shuffle = false,\n",
       "            rng = Random._GLOBAL_RNG()),\n",
       "    measure = cross_entropy(\n",
       "            eps = 2.220446049250313e-16),\n",
       "    weights = nothing,\n",
       "    operation = MLJModelInterface.predict,\n",
       "    range = MLJBase.NumericRange{Int64,MLJBase.Bounded,Symbol}[\u001b[34mNumericRange{Int64,…} @045\u001b[39m, \u001b[34mNumericRange{Int64,…} @423\u001b[39m],\n",
       "    train_best = true,\n",
       "    repeats = 1,\n",
       "    n = nothing,\n",
       "    acceleration = CPUThreads{Int64}(1),\n",
       "    acceleration_resampling = CPU1{Nothing}(nothing),\n",
       "    check_measure = true)\u001b[34m @153\u001b[39m"
      ]
     },
     "execution_count": 95,
     "metadata": {},
     "output_type": "execute_result"
    }
   ],
   "source": [
    "self_tuning_nn_model = TunedModel(model=nn,\n",
    "                                    tuning=Grid(goal=64),\n",
    "                                    resampling=Holdout(fraction_train=0.7), \n",
    "                                    measure=cross_entropy,\n",
    "                                    acceleration=CPUThreads(),\n",
    "                                    range=[r1, r2])"
   ]
  },
  {
   "cell_type": "code",
   "execution_count": 96,
   "metadata": {},
   "outputs": [
    {
     "data": {
      "text/plain": [
       "\u001b[34mMachine{ProbabilisticTunedModel{Grid,…}} @517\u001b[39m trained 0 times.\n",
       "  args: \n",
       "    1:\t\u001b[34mSource @821\u001b[39m ⏎ `Table{AbstractArray{Continuous,1}}`\n",
       "    2:\t\u001b[34mSource @081\u001b[39m ⏎ `AbstractArray{Multiclass{2},1}`\n"
      ]
     },
     "execution_count": 96,
     "metadata": {},
     "output_type": "execute_result"
    }
   ],
   "source": [
    "self_tuning_nn = machine(self_tuning_nn_model, X_stand, y)"
   ]
  },
  {
   "cell_type": "code",
   "execution_count": 97,
   "metadata": {},
   "outputs": [
    {
     "name": "stderr",
     "output_type": "stream",
     "text": [
      "┌ Info: Training \u001b[34mMachine{ProbabilisticTunedModel{Grid,…}} @517\u001b[39m.\n",
      "└ @ MLJBase /home/andrew/.julia/packages/MLJBase/uKzAz/src/machines.jl:319\n",
      "┌ Info: Attempting to evaluate 64 models.\n",
      "└ @ MLJTuning /home/andrew/.julia/packages/MLJTuning/Bbgvk/src/tuned_models.jl:494\n",
      "\u001b[33mEvaluating over 64 metamodels: 100%[=========================] Time: 0:03:46\u001b[39m\n"
     ]
    },
    {
     "data": {
      "text/plain": [
       "\u001b[34mMachine{ProbabilisticTunedModel{Grid,…}} @517\u001b[39m trained 1 time.\n",
       "  args: \n",
       "    1:\t\u001b[34mSource @821\u001b[39m ⏎ `Table{AbstractArray{Continuous,1}}`\n",
       "    2:\t\u001b[34mSource @081\u001b[39m ⏎ `AbstractArray{Multiclass{2},1}`\n"
      ]
     },
     "execution_count": 97,
     "metadata": {},
     "output_type": "execute_result"
    }
   ],
   "source": [
    "z = fit!(self_tuning_nn, rows=train)"
   ]
  },
  {
   "cell_type": "code",
   "execution_count": 98,
   "metadata": {
    "scrolled": false
   },
   "outputs": [
    {
     "data": {
      "image/svg+xml": [
       "<?xml version=\"1.0\" encoding=\"utf-8\"?>\n",
       "<svg xmlns=\"http://www.w3.org/2000/svg\" xmlns:xlink=\"http://www.w3.org/1999/xlink\" width=\"600\" height=\"400\" viewBox=\"0 0 2400 1600\">\n",
       "<defs>\n",
       "  <clipPath id=\"clip260\">\n",
       "    <rect x=\"0\" y=\"0\" width=\"2400\" height=\"1600\"/>\n",
       "  </clipPath>\n",
       "</defs>\n",
       "<path clip-path=\"url(#clip260)\" d=\"\n",
       "M0 1600 L2400 1600 L2400 0 L0 0  Z\n",
       "  \" fill=\"#ffffff\" fill-rule=\"evenodd\" fill-opacity=\"1\"/>\n",
       "<defs>\n",
       "  <clipPath id=\"clip261\">\n",
       "    <rect x=\"480\" y=\"0\" width=\"1681\" height=\"1600\"/>\n",
       "  </clipPath>\n",
       "</defs>\n",
       "<path clip-path=\"url(#clip260)\" d=\"\n",
       "M199.218 1410.9 L2112.76 1410.9 L2112.76 47.2441 L199.218 47.2441  Z\n",
       "  \" fill=\"#ffffff\" fill-rule=\"evenodd\" fill-opacity=\"1\"/>\n",
       "<defs>\n",
       "  <clipPath id=\"clip262\">\n",
       "    <rect x=\"199\" y=\"47\" width=\"1915\" height=\"1365\"/>\n",
       "  </clipPath>\n",
       "</defs>\n",
       "<polyline clip-path=\"url(#clip262)\" style=\"stroke:#000000; stroke-width:2; stroke-opacity:0.1; fill:none\" points=\"\n",
       "  253.375,1410.9 253.375,47.2441 \n",
       "  \"/>\n",
       "<polyline clip-path=\"url(#clip262)\" style=\"stroke:#000000; stroke-width:2; stroke-opacity:0.1; fill:none\" points=\"\n",
       "  704.681,1410.9 704.681,47.2441 \n",
       "  \"/>\n",
       "<polyline clip-path=\"url(#clip262)\" style=\"stroke:#000000; stroke-width:2; stroke-opacity:0.1; fill:none\" points=\"\n",
       "  1155.99,1410.9 1155.99,47.2441 \n",
       "  \"/>\n",
       "<polyline clip-path=\"url(#clip262)\" style=\"stroke:#000000; stroke-width:2; stroke-opacity:0.1; fill:none\" points=\"\n",
       "  1607.29,1410.9 1607.29,47.2441 \n",
       "  \"/>\n",
       "<polyline clip-path=\"url(#clip262)\" style=\"stroke:#000000; stroke-width:2; stroke-opacity:0.1; fill:none\" points=\"\n",
       "  2058.6,1410.9 2058.6,47.2441 \n",
       "  \"/>\n",
       "<polyline clip-path=\"url(#clip262)\" style=\"stroke:#000000; stroke-width:2; stroke-opacity:0.1; fill:none\" points=\"\n",
       "  199.218,1372.3 2112.76,1372.3 \n",
       "  \"/>\n",
       "<polyline clip-path=\"url(#clip262)\" style=\"stroke:#000000; stroke-width:2; stroke-opacity:0.1; fill:none\" points=\"\n",
       "  199.218,1014.95 2112.76,1014.95 \n",
       "  \"/>\n",
       "<polyline clip-path=\"url(#clip262)\" style=\"stroke:#000000; stroke-width:2; stroke-opacity:0.1; fill:none\" points=\"\n",
       "  199.218,657.6 2112.76,657.6 \n",
       "  \"/>\n",
       "<polyline clip-path=\"url(#clip262)\" style=\"stroke:#000000; stroke-width:2; stroke-opacity:0.1; fill:none\" points=\"\n",
       "  199.218,300.249 2112.76,300.249 \n",
       "  \"/>\n",
       "<polyline clip-path=\"url(#clip260)\" style=\"stroke:#000000; stroke-width:4; stroke-opacity:1; fill:none\" points=\"\n",
       "  199.218,1410.9 2112.76,1410.9 \n",
       "  \"/>\n",
       "<polyline clip-path=\"url(#clip260)\" style=\"stroke:#000000; stroke-width:4; stroke-opacity:1; fill:none\" points=\"\n",
       "  199.218,1410.9 199.218,47.2441 \n",
       "  \"/>\n",
       "<polyline clip-path=\"url(#clip260)\" style=\"stroke:#000000; stroke-width:4; stroke-opacity:1; fill:none\" points=\"\n",
       "  253.375,1410.9 253.375,1394.53 \n",
       "  \"/>\n",
       "<polyline clip-path=\"url(#clip260)\" style=\"stroke:#000000; stroke-width:4; stroke-opacity:1; fill:none\" points=\"\n",
       "  704.681,1410.9 704.681,1394.53 \n",
       "  \"/>\n",
       "<polyline clip-path=\"url(#clip260)\" style=\"stroke:#000000; stroke-width:4; stroke-opacity:1; fill:none\" points=\"\n",
       "  1155.99,1410.9 1155.99,1394.53 \n",
       "  \"/>\n",
       "<polyline clip-path=\"url(#clip260)\" style=\"stroke:#000000; stroke-width:4; stroke-opacity:1; fill:none\" points=\"\n",
       "  1607.29,1410.9 1607.29,1394.53 \n",
       "  \"/>\n",
       "<polyline clip-path=\"url(#clip260)\" style=\"stroke:#000000; stroke-width:4; stroke-opacity:1; fill:none\" points=\"\n",
       "  2058.6,1410.9 2058.6,1394.53 \n",
       "  \"/>\n",
       "<polyline clip-path=\"url(#clip260)\" style=\"stroke:#000000; stroke-width:4; stroke-opacity:1; fill:none\" points=\"\n",
       "  199.218,1372.3 222.181,1372.3 \n",
       "  \"/>\n",
       "<polyline clip-path=\"url(#clip260)\" style=\"stroke:#000000; stroke-width:4; stroke-opacity:1; fill:none\" points=\"\n",
       "  199.218,1014.95 222.181,1014.95 \n",
       "  \"/>\n",
       "<polyline clip-path=\"url(#clip260)\" style=\"stroke:#000000; stroke-width:4; stroke-opacity:1; fill:none\" points=\"\n",
       "  199.218,657.6 222.181,657.6 \n",
       "  \"/>\n",
       "<polyline clip-path=\"url(#clip260)\" style=\"stroke:#000000; stroke-width:4; stroke-opacity:1; fill:none\" points=\"\n",
       "  199.218,300.249 222.181,300.249 \n",
       "  \"/>\n",
       "<path clip-path=\"url(#clip260)\" d=\"M 0 0 M195.898 1481.97 L203.537 1481.97 L203.537 1455.6 L195.226 1457.27 L195.226 1453.01 L203.49 1451.34 L208.166 1451.34 L208.166 1481.97 L215.805 1481.97 L215.805 1485.9 L195.898 1485.9 L195.898 1481.97 Z\" fill=\"#000000\" fill-rule=\"evenodd\" fill-opacity=\"1\" /><path clip-path=\"url(#clip260)\" d=\"M 0 0 M230.874 1454.42 Q227.263 1454.42 225.435 1457.99 Q223.629 1461.53 223.629 1468.66 Q223.629 1475.77 225.435 1479.33 Q227.263 1482.87 230.874 1482.87 Q234.509 1482.87 236.314 1479.33 Q238.143 1475.77 238.143 1468.66 Q238.143 1461.53 236.314 1457.99 Q234.509 1454.42 230.874 1454.42 M230.874 1450.72 Q236.685 1450.72 239.74 1455.33 Q242.819 1459.91 242.819 1468.66 Q242.819 1477.39 239.74 1481.99 Q236.685 1486.58 230.874 1486.58 Q225.064 1486.58 221.986 1481.99 Q218.93 1477.39 218.93 1468.66 Q218.93 1459.91 221.986 1455.33 Q225.064 1450.72 230.874 1450.72 Z\" fill=\"#000000\" fill-rule=\"evenodd\" fill-opacity=\"1\" /><path clip-path=\"url(#clip260)\" d=\"M 0 0 M243.364 1455.3 L249.571 1455.3 L249.571 1433.87 L242.819 1435.23 L242.819 1431.77 L249.533 1430.41 L253.332 1430.41 L253.332 1455.3 L259.539 1455.3 L259.539 1458.49 L243.364 1458.49 L243.364 1455.3 Z\" fill=\"#000000\" fill-rule=\"evenodd\" fill-opacity=\"1\" /><path clip-path=\"url(#clip260)\" d=\"M 0 0 M263.658 1453.72 L267.626 1453.72 L267.626 1458.49 L263.658 1458.49 L263.658 1453.72 Z\" fill=\"#000000\" fill-rule=\"evenodd\" fill-opacity=\"1\" /><path clip-path=\"url(#clip260)\" d=\"M 0 0 M279.87 1432.91 Q276.936 1432.91 275.45 1435.81 Q273.983 1438.69 273.983 1444.48 Q273.983 1450.26 275.45 1453.15 Q276.936 1456.03 279.87 1456.03 Q282.823 1456.03 284.29 1453.15 Q285.776 1450.26 285.776 1444.48 Q285.776 1438.69 284.29 1435.81 Q282.823 1432.91 279.87 1432.91 M279.87 1429.91 Q284.591 1429.91 287.073 1433.65 Q289.575 1437.37 289.575 1444.48 Q289.575 1451.57 287.073 1455.31 Q284.591 1459.04 279.87 1459.04 Q275.149 1459.04 272.648 1455.31 Q270.165 1451.57 270.165 1444.48 Q270.165 1437.37 272.648 1433.65 Q275.149 1429.91 279.87 1429.91 Z\" fill=\"#000000\" fill-rule=\"evenodd\" fill-opacity=\"1\" /><path clip-path=\"url(#clip260)\" d=\"M 0 0 M301.819 1432.91 Q298.885 1432.91 297.399 1435.81 Q295.932 1438.69 295.932 1444.48 Q295.932 1450.26 297.399 1453.15 Q298.885 1456.03 301.819 1456.03 Q304.772 1456.03 306.239 1453.15 Q307.724 1450.26 307.724 1444.48 Q307.724 1438.69 306.239 1435.81 Q304.772 1432.91 301.819 1432.91 M301.819 1429.91 Q306.539 1429.91 309.022 1433.65 Q311.524 1437.37 311.524 1444.48 Q311.524 1451.57 309.022 1455.31 Q306.539 1459.04 301.819 1459.04 Q297.098 1459.04 294.597 1455.31 Q292.114 1451.57 292.114 1444.48 Q292.114 1437.37 294.597 1433.65 Q297.098 1429.91 301.819 1429.91 Z\" fill=\"#000000\" fill-rule=\"evenodd\" fill-opacity=\"1\" /><path clip-path=\"url(#clip260)\" d=\"M 0 0 M648.257 1481.97 L655.896 1481.97 L655.896 1455.6 L647.586 1457.27 L647.586 1453.01 L655.85 1451.34 L660.525 1451.34 L660.525 1481.97 L668.164 1481.97 L668.164 1485.9 L648.257 1485.9 L648.257 1481.97 Z\" fill=\"#000000\" fill-rule=\"evenodd\" fill-opacity=\"1\" /><path clip-path=\"url(#clip260)\" d=\"M 0 0 M683.234 1454.42 Q679.623 1454.42 677.794 1457.99 Q675.988 1461.53 675.988 1468.66 Q675.988 1475.77 677.794 1479.33 Q679.623 1482.87 683.234 1482.87 Q686.868 1482.87 688.673 1479.33 Q690.502 1475.77 690.502 1468.66 Q690.502 1461.53 688.673 1457.99 Q686.868 1454.42 683.234 1454.42 M683.234 1450.72 Q689.044 1450.72 692.099 1455.33 Q695.178 1459.91 695.178 1468.66 Q695.178 1477.39 692.099 1481.99 Q689.044 1486.58 683.234 1486.58 Q677.423 1486.58 674.345 1481.99 Q671.289 1477.39 671.289 1468.66 Q671.289 1459.91 674.345 1455.33 Q677.423 1450.72 683.234 1450.72 Z\" fill=\"#000000\" fill-rule=\"evenodd\" fill-opacity=\"1\" /><path clip-path=\"url(#clip260)\" d=\"M 0 0 M695.723 1455.3 L701.93 1455.3 L701.93 1433.87 L695.178 1435.23 L695.178 1431.77 L701.892 1430.41 L705.692 1430.41 L705.692 1455.3 L711.898 1455.3 L711.898 1458.49 L695.723 1458.49 L695.723 1455.3 Z\" fill=\"#000000\" fill-rule=\"evenodd\" fill-opacity=\"1\" /><path clip-path=\"url(#clip260)\" d=\"M 0 0 M716.017 1453.72 L719.985 1453.72 L719.985 1458.49 L716.017 1458.49 L716.017 1453.72 Z\" fill=\"#000000\" fill-rule=\"evenodd\" fill-opacity=\"1\" /><path clip-path=\"url(#clip260)\" d=\"M 0 0 M727.377 1455.3 L740.636 1455.3 L740.636 1458.49 L722.807 1458.49 L722.807 1455.3 Q724.97 1453.06 728.693 1449.3 Q732.436 1445.52 733.395 1444.43 Q735.22 1442.38 735.934 1440.96 Q736.668 1439.54 736.668 1438.16 Q736.668 1435.92 735.088 1434.51 Q733.527 1433.1 731.007 1433.1 Q729.22 1433.1 727.226 1433.72 Q725.252 1434.34 722.995 1435.6 L722.995 1431.77 Q725.289 1430.85 727.283 1430.38 Q729.277 1429.91 730.932 1429.91 Q735.295 1429.91 737.89 1432.09 Q740.486 1434.27 740.486 1437.92 Q740.486 1439.65 739.828 1441.21 Q739.188 1442.75 737.477 1444.86 Q737.007 1445.4 734.486 1448.02 Q731.966 1450.61 727.377 1455.3 Z\" fill=\"#000000\" fill-rule=\"evenodd\" fill-opacity=\"1\" /><path clip-path=\"url(#clip260)\" d=\"M 0 0 M744.793 1430.41 L759.707 1430.41 L759.707 1433.61 L748.272 1433.61 L748.272 1440.49 Q749.1 1440.21 749.927 1440.08 Q750.755 1439.93 751.583 1439.93 Q756.284 1439.93 759.03 1442.51 Q761.776 1445.08 761.776 1449.48 Q761.776 1454.02 758.955 1456.54 Q756.134 1459.04 750.999 1459.04 Q749.232 1459.04 747.388 1458.74 Q745.564 1458.44 743.608 1457.84 L743.608 1454.02 Q745.301 1454.94 747.106 1455.39 Q748.912 1455.84 750.924 1455.84 Q754.178 1455.84 756.078 1454.13 Q757.977 1452.42 757.977 1449.48 Q757.977 1446.55 756.078 1444.84 Q754.178 1443.13 750.924 1443.13 Q749.401 1443.13 747.877 1443.47 Q746.373 1443.8 744.793 1444.52 L744.793 1430.41 Z\" fill=\"#000000\" fill-rule=\"evenodd\" fill-opacity=\"1\" /><path clip-path=\"url(#clip260)\" d=\"M 0 0 M1098.91 1481.97 L1106.55 1481.97 L1106.55 1455.6 L1098.24 1457.27 L1098.24 1453.01 L1106.51 1451.34 L1111.18 1451.34 L1111.18 1481.97 L1118.82 1481.97 L1118.82 1485.9 L1098.91 1485.9 L1098.91 1481.97 Z\" fill=\"#000000\" fill-rule=\"evenodd\" fill-opacity=\"1\" /><path clip-path=\"url(#clip260)\" d=\"M 0 0 M1133.89 1454.42 Q1130.28 1454.42 1128.45 1457.99 Q1126.65 1461.53 1126.65 1468.66 Q1126.65 1475.77 1128.45 1479.33 Q1130.28 1482.87 1133.89 1482.87 Q1137.53 1482.87 1139.33 1479.33 Q1141.16 1475.77 1141.16 1468.66 Q1141.16 1461.53 1139.33 1457.99 Q1137.53 1454.42 1133.89 1454.42 M1133.89 1450.72 Q1139.7 1450.72 1142.76 1455.33 Q1145.84 1459.91 1145.84 1468.66 Q1145.84 1477.39 1142.76 1481.99 Q1139.7 1486.58 1133.89 1486.58 Q1128.08 1486.58 1125 1481.99 Q1121.95 1477.39 1121.95 1468.66 Q1121.95 1459.91 1125 1455.33 Q1128.08 1450.72 1133.89 1450.72 Z\" fill=\"#000000\" fill-rule=\"evenodd\" fill-opacity=\"1\" /><path clip-path=\"url(#clip260)\" d=\"M 0 0 M1146.38 1455.3 L1152.59 1455.3 L1152.59 1433.87 L1145.84 1435.23 L1145.84 1431.77 L1152.55 1430.41 L1156.35 1430.41 L1156.35 1455.3 L1162.56 1455.3 L1162.56 1458.49 L1146.38 1458.49 L1146.38 1455.3 Z\" fill=\"#000000\" fill-rule=\"evenodd\" fill-opacity=\"1\" /><path clip-path=\"url(#clip260)\" d=\"M 0 0 M1166.67 1453.72 L1170.64 1453.72 L1170.64 1458.49 L1166.67 1458.49 L1166.67 1453.72 Z\" fill=\"#000000\" fill-rule=\"evenodd\" fill-opacity=\"1\" /><path clip-path=\"url(#clip260)\" d=\"M 0 0 M1174.8 1430.41 L1189.71 1430.41 L1189.71 1433.61 L1178.28 1433.61 L1178.28 1440.49 Q1179.11 1440.21 1179.93 1440.08 Q1180.76 1439.93 1181.59 1439.93 Q1186.29 1439.93 1189.04 1442.51 Q1191.78 1445.08 1191.78 1449.48 Q1191.78 1454.02 1188.96 1456.54 Q1186.14 1459.04 1181.01 1459.04 Q1179.24 1459.04 1177.39 1458.74 Q1175.57 1458.44 1173.61 1457.84 L1173.61 1454.02 Q1175.31 1454.94 1177.11 1455.39 Q1178.92 1455.84 1180.93 1455.84 Q1184.18 1455.84 1186.08 1454.13 Q1187.98 1452.42 1187.98 1449.48 Q1187.98 1446.55 1186.08 1444.84 Q1184.18 1443.13 1180.93 1443.13 Q1179.41 1443.13 1177.88 1443.47 Q1176.38 1443.8 1174.8 1444.52 L1174.8 1430.41 Z\" fill=\"#000000\" fill-rule=\"evenodd\" fill-opacity=\"1\" /><path clip-path=\"url(#clip260)\" d=\"M 0 0 M1204.03 1432.91 Q1201.09 1432.91 1199.61 1435.81 Q1198.14 1438.69 1198.14 1444.48 Q1198.14 1450.26 1199.61 1453.15 Q1201.09 1456.03 1204.03 1456.03 Q1206.98 1456.03 1208.45 1453.15 Q1209.93 1450.26 1209.93 1444.48 Q1209.93 1438.69 1208.45 1435.81 Q1206.98 1432.91 1204.03 1432.91 M1204.03 1429.91 Q1208.75 1429.91 1211.23 1433.65 Q1213.73 1437.37 1213.73 1444.48 Q1213.73 1451.57 1211.23 1455.31 Q1208.75 1459.04 1204.03 1459.04 Q1199.31 1459.04 1196.8 1455.31 Q1194.32 1451.57 1194.32 1444.48 Q1194.32 1437.37 1196.8 1433.65 Q1199.31 1429.91 1204.03 1429.91 Z\" fill=\"#000000\" fill-rule=\"evenodd\" fill-opacity=\"1\" /><path clip-path=\"url(#clip260)\" d=\"M 0 0 M1550.59 1481.97 L1558.23 1481.97 L1558.23 1455.6 L1549.92 1457.27 L1549.92 1453.01 L1558.18 1451.34 L1562.86 1451.34 L1562.86 1481.97 L1570.49 1481.97 L1570.49 1485.9 L1550.59 1485.9 L1550.59 1481.97 Z\" fill=\"#000000\" fill-rule=\"evenodd\" fill-opacity=\"1\" /><path clip-path=\"url(#clip260)\" d=\"M 0 0 M1585.56 1454.42 Q1581.95 1454.42 1580.12 1457.99 Q1578.32 1461.53 1578.32 1468.66 Q1578.32 1475.77 1580.12 1479.33 Q1581.95 1482.87 1585.56 1482.87 Q1589.2 1482.87 1591 1479.33 Q1592.83 1475.77 1592.83 1468.66 Q1592.83 1461.53 1591 1457.99 Q1589.2 1454.42 1585.56 1454.42 M1585.56 1450.72 Q1591.37 1450.72 1594.43 1455.33 Q1597.51 1459.91 1597.51 1468.66 Q1597.51 1477.39 1594.43 1481.99 Q1591.37 1486.58 1585.56 1486.58 Q1579.75 1486.58 1576.67 1481.99 Q1573.62 1477.39 1573.62 1468.66 Q1573.62 1459.91 1576.67 1455.33 Q1579.75 1450.72 1585.56 1450.72 Z\" fill=\"#000000\" fill-rule=\"evenodd\" fill-opacity=\"1\" /><path clip-path=\"url(#clip260)\" d=\"M 0 0 M1598.05 1455.3 L1604.26 1455.3 L1604.26 1433.87 L1597.51 1435.23 L1597.51 1431.77 L1604.22 1430.41 L1608.02 1430.41 L1608.02 1455.3 L1614.23 1455.3 L1614.23 1458.49 L1598.05 1458.49 L1598.05 1455.3 Z\" fill=\"#000000\" fill-rule=\"evenodd\" fill-opacity=\"1\" /><path clip-path=\"url(#clip260)\" d=\"M 0 0 M1618.35 1453.72 L1622.32 1453.72 L1622.32 1458.49 L1618.35 1458.49 L1618.35 1453.72 Z\" fill=\"#000000\" fill-rule=\"evenodd\" fill-opacity=\"1\" /><path clip-path=\"url(#clip260)\" d=\"M 0 0 M1625.48 1430.41 L1643.53 1430.41 L1643.53 1432.03 L1633.34 1458.49 L1629.37 1458.49 L1638.96 1433.61 L1625.48 1433.61 L1625.48 1430.41 Z\" fill=\"#000000\" fill-rule=\"evenodd\" fill-opacity=\"1\" /><path clip-path=\"url(#clip260)\" d=\"M 0 0 M1647.69 1430.41 L1662.6 1430.41 L1662.6 1433.61 L1651.17 1433.61 L1651.17 1440.49 Q1651.99 1440.21 1652.82 1440.08 Q1653.65 1439.93 1654.48 1439.93 Q1659.18 1439.93 1661.92 1442.51 Q1664.67 1445.08 1664.67 1449.48 Q1664.67 1454.02 1661.85 1456.54 Q1659.03 1459.04 1653.89 1459.04 Q1652.13 1459.04 1650.28 1458.74 Q1648.46 1458.44 1646.5 1457.84 L1646.5 1454.02 Q1648.19 1454.94 1650 1455.39 Q1651.81 1455.84 1653.82 1455.84 Q1657.07 1455.84 1658.97 1454.13 Q1660.87 1452.42 1660.87 1449.48 Q1660.87 1446.55 1658.97 1444.84 Q1657.07 1443.13 1653.82 1443.13 Q1652.3 1443.13 1650.77 1443.47 Q1649.27 1443.8 1647.69 1444.52 L1647.69 1430.41 Z\" fill=\"#000000\" fill-rule=\"evenodd\" fill-opacity=\"1\" /><path clip-path=\"url(#clip260)\" d=\"M 0 0 M2000.57 1481.97 L2008.21 1481.97 L2008.21 1455.6 L1999.9 1457.27 L1999.9 1453.01 L2008.16 1451.34 L2012.84 1451.34 L2012.84 1481.97 L2020.47 1481.97 L2020.47 1485.9 L2000.57 1485.9 L2000.57 1481.97 Z\" fill=\"#000000\" fill-rule=\"evenodd\" fill-opacity=\"1\" /><path clip-path=\"url(#clip260)\" d=\"M 0 0 M2035.54 1454.42 Q2031.93 1454.42 2030.1 1457.99 Q2028.3 1461.53 2028.3 1468.66 Q2028.3 1475.77 2030.1 1479.33 Q2031.93 1482.87 2035.54 1482.87 Q2039.18 1482.87 2040.98 1479.33 Q2042.81 1475.77 2042.81 1468.66 Q2042.81 1461.53 2040.98 1457.99 Q2039.18 1454.42 2035.54 1454.42 M2035.54 1450.72 Q2041.35 1450.72 2044.41 1455.33 Q2047.49 1459.91 2047.49 1468.66 Q2047.49 1477.39 2044.41 1481.99 Q2041.35 1486.58 2035.54 1486.58 Q2029.73 1486.58 2026.65 1481.99 Q2023.6 1477.39 2023.6 1468.66 Q2023.6 1459.91 2026.65 1455.33 Q2029.73 1450.72 2035.54 1450.72 Z\" fill=\"#000000\" fill-rule=\"evenodd\" fill-opacity=\"1\" /><path clip-path=\"url(#clip260)\" d=\"M 0 0 M2052.06 1455.3 L2065.32 1455.3 L2065.32 1458.49 L2047.49 1458.49 L2047.49 1455.3 Q2049.65 1453.06 2053.37 1449.3 Q2057.12 1445.52 2058.08 1444.43 Q2059.9 1442.38 2060.62 1440.96 Q2061.35 1439.54 2061.35 1438.16 Q2061.35 1435.92 2059.77 1434.51 Q2058.21 1433.1 2055.69 1433.1 Q2053.9 1433.1 2051.91 1433.72 Q2049.93 1434.34 2047.68 1435.6 L2047.68 1431.77 Q2049.97 1430.85 2051.96 1430.38 Q2053.96 1429.91 2055.61 1429.91 Q2059.98 1429.91 2062.57 1432.09 Q2065.17 1434.27 2065.17 1437.92 Q2065.17 1439.65 2064.51 1441.21 Q2063.87 1442.75 2062.16 1444.86 Q2061.69 1445.4 2059.17 1448.02 Q2056.65 1450.61 2052.06 1455.3 Z\" fill=\"#000000\" fill-rule=\"evenodd\" fill-opacity=\"1\" /><path clip-path=\"url(#clip260)\" d=\"M 0 0 M2069.44 1453.72 L2073.41 1453.72 L2073.41 1458.49 L2069.44 1458.49 L2069.44 1453.72 Z\" fill=\"#000000\" fill-rule=\"evenodd\" fill-opacity=\"1\" /><path clip-path=\"url(#clip260)\" d=\"M 0 0 M2085.65 1432.91 Q2082.72 1432.91 2081.23 1435.81 Q2079.76 1438.69 2079.76 1444.48 Q2079.76 1450.26 2081.23 1453.15 Q2082.72 1456.03 2085.65 1456.03 Q2088.6 1456.03 2090.07 1453.15 Q2091.55 1450.26 2091.55 1444.48 Q2091.55 1438.69 2090.07 1435.81 Q2088.6 1432.91 2085.65 1432.91 M2085.65 1429.91 Q2090.37 1429.91 2092.85 1433.65 Q2095.35 1437.37 2095.35 1444.48 Q2095.35 1451.57 2092.85 1455.31 Q2090.37 1459.04 2085.65 1459.04 Q2080.93 1459.04 2078.43 1455.31 Q2075.94 1451.57 2075.94 1444.48 Q2075.94 1437.37 2078.43 1433.65 Q2080.93 1429.91 2085.65 1429.91 Z\" fill=\"#000000\" fill-rule=\"evenodd\" fill-opacity=\"1\" /><path clip-path=\"url(#clip260)\" d=\"M 0 0 M2107.6 1432.91 Q2104.66 1432.91 2103.18 1435.81 Q2101.71 1438.69 2101.71 1444.48 Q2101.71 1450.26 2103.18 1453.15 Q2104.66 1456.03 2107.6 1456.03 Q2110.55 1456.03 2112.02 1453.15 Q2113.5 1450.26 2113.5 1444.48 Q2113.5 1438.69 2112.02 1435.81 Q2110.55 1432.91 2107.6 1432.91 M2107.6 1429.91 Q2112.32 1429.91 2114.8 1433.65 Q2117.3 1437.37 2117.3 1444.48 Q2117.3 1451.57 2114.8 1455.31 Q2112.32 1459.04 2107.6 1459.04 Q2102.88 1459.04 2100.38 1455.31 Q2097.89 1451.57 2097.89 1444.48 Q2097.89 1437.37 2100.38 1433.65 Q2102.88 1429.91 2107.6 1429.91 Z\" fill=\"#000000\" fill-rule=\"evenodd\" fill-opacity=\"1\" /><path clip-path=\"url(#clip260)\" d=\"M 0 0 M154.316 1355.02 L172.672 1355.02 L172.672 1358.96 L158.598 1358.96 L158.598 1367.43 Q159.616 1367.08 160.635 1366.92 Q161.653 1366.74 162.672 1366.74 Q168.459 1366.74 171.839 1369.91 Q175.218 1373.08 175.218 1378.49 Q175.218 1384.07 171.746 1387.18 Q168.274 1390.25 161.954 1390.25 Q159.778 1390.25 157.51 1389.88 Q155.265 1389.51 152.857 1388.77 L152.857 1384.07 Q154.941 1385.21 157.163 1385.76 Q159.385 1386.32 161.862 1386.32 Q165.866 1386.32 168.204 1384.21 Q170.542 1382.11 170.542 1378.49 Q170.542 1374.88 168.204 1372.78 Q165.866 1370.67 161.862 1370.67 Q159.987 1370.67 158.112 1371.09 Q156.26 1371.5 154.316 1372.38 L154.316 1355.02 Z\" fill=\"#000000\" fill-rule=\"evenodd\" fill-opacity=\"1\" /><path clip-path=\"url(#clip260)\" d=\"M 0 0 M128.297 1028.3 L135.936 1028.3 L135.936 1001.93 L127.626 1003.6 L127.626 999.338 L135.89 997.671 L140.566 997.671 L140.566 1028.3 L148.204 1028.3 L148.204 1032.23 L128.297 1032.23 L128.297 1028.3 Z\" fill=\"#000000\" fill-rule=\"evenodd\" fill-opacity=\"1\" /><path clip-path=\"url(#clip260)\" d=\"M 0 0 M163.274 1000.75 Q159.663 1000.75 157.834 1004.31 Q156.029 1007.86 156.029 1014.99 Q156.029 1022.09 157.834 1025.66 Q159.663 1029.2 163.274 1029.2 Q166.908 1029.2 168.714 1025.66 Q170.542 1022.09 170.542 1014.99 Q170.542 1007.86 168.714 1004.31 Q166.908 1000.75 163.274 1000.75 M163.274 997.046 Q169.084 997.046 172.14 1001.65 Q175.218 1006.24 175.218 1014.99 Q175.218 1023.71 172.14 1028.32 Q169.084 1032.9 163.274 1032.9 Q157.464 1032.9 154.385 1028.32 Q151.329 1023.71 151.329 1014.99 Q151.329 1006.24 154.385 1001.65 Q157.464 997.046 163.274 997.046 Z\" fill=\"#000000\" fill-rule=\"evenodd\" fill-opacity=\"1\" /><path clip-path=\"url(#clip260)\" d=\"M 0 0 M129.293 670.945 L136.931 670.945 L136.931 644.579 L128.621 646.246 L128.621 641.987 L136.885 640.32 L141.561 640.32 L141.561 670.945 L149.2 670.945 L149.2 674.88 L129.293 674.88 L129.293 670.945 Z\" fill=\"#000000\" fill-rule=\"evenodd\" fill-opacity=\"1\" /><path clip-path=\"url(#clip260)\" d=\"M 0 0 M154.316 640.32 L172.672 640.32 L172.672 644.255 L158.598 644.255 L158.598 652.727 Q159.616 652.38 160.635 652.218 Q161.653 652.033 162.672 652.033 Q168.459 652.033 171.839 655.204 Q175.218 658.376 175.218 663.792 Q175.218 669.371 171.746 672.473 Q168.274 675.551 161.954 675.551 Q159.778 675.551 157.51 675.181 Q155.265 674.811 152.857 674.07 L152.857 669.371 Q154.941 670.505 157.163 671.061 Q159.385 671.616 161.862 671.616 Q165.866 671.616 168.204 669.51 Q170.542 667.403 170.542 663.792 Q170.542 660.181 168.204 658.075 Q165.866 655.968 161.862 655.968 Q159.987 655.968 158.112 656.385 Q156.26 656.802 154.316 657.681 L154.316 640.32 Z\" fill=\"#000000\" fill-rule=\"evenodd\" fill-opacity=\"1\" /><path clip-path=\"url(#clip260)\" d=\"M 0 0 M131.885 313.594 L148.204 313.594 L148.204 317.529 L126.26 317.529 L126.26 313.594 Q128.922 310.839 133.505 306.209 Q138.112 301.557 139.292 300.214 Q141.538 297.691 142.417 295.955 Q143.32 294.196 143.32 292.506 Q143.32 289.751 141.376 288.015 Q139.455 286.279 136.353 286.279 Q134.154 286.279 131.7 287.043 Q129.269 287.807 126.492 289.358 L126.492 284.635 Q129.316 283.501 131.769 282.923 Q134.223 282.344 136.26 282.344 Q141.63 282.344 144.825 285.029 Q148.019 287.714 148.019 292.205 Q148.019 294.334 147.209 296.256 Q146.422 298.154 144.316 300.746 Q143.737 301.418 140.635 304.635 Q137.533 307.83 131.885 313.594 Z\" fill=\"#000000\" fill-rule=\"evenodd\" fill-opacity=\"1\" /><path clip-path=\"url(#clip260)\" d=\"M 0 0 M163.274 286.047 Q159.663 286.047 157.834 289.612 Q156.029 293.154 156.029 300.284 Q156.029 307.39 157.834 310.955 Q159.663 314.496 163.274 314.496 Q166.908 314.496 168.714 310.955 Q170.542 307.39 170.542 300.284 Q170.542 293.154 168.714 289.612 Q166.908 286.047 163.274 286.047 M163.274 282.344 Q169.084 282.344 172.14 286.95 Q175.218 291.534 175.218 300.284 Q175.218 309.01 172.14 313.617 Q169.084 318.2 163.274 318.2 Q157.464 318.2 154.385 313.617 Q151.329 309.01 151.329 300.284 Q151.329 291.534 154.385 286.95 Q157.464 282.344 163.274 282.344 Z\" fill=\"#000000\" fill-rule=\"evenodd\" fill-opacity=\"1\" /><path clip-path=\"url(#clip260)\" d=\"M 0 0 M1086.27 1542.9 L1086.27 1545.76 L1059.34 1545.76 Q1059.72 1551.81 1062.97 1554.99 Q1066.25 1558.14 1072.07 1558.14 Q1075.44 1558.14 1078.6 1557.32 Q1081.78 1556.49 1084.9 1554.83 L1084.9 1560.37 Q1081.75 1561.71 1078.44 1562.41 Q1075.13 1563.11 1071.72 1563.11 Q1063.19 1563.11 1058.19 1558.14 Q1053.23 1553.18 1053.23 1544.71 Q1053.23 1535.96 1057.94 1530.83 Q1062.68 1525.68 1070.7 1525.68 Q1077.9 1525.68 1082.07 1530.33 Q1086.27 1534.94 1086.27 1542.9 M1080.41 1541.18 Q1080.35 1536.37 1077.7 1533.51 Q1075.09 1530.64 1070.77 1530.64 Q1065.86 1530.64 1062.9 1533.41 Q1059.98 1536.18 1059.53 1541.21 L1080.41 1541.18 Z\" fill=\"#000000\" fill-rule=\"evenodd\" fill-opacity=\"1\" /><path clip-path=\"url(#clip260)\" d=\"M 0 0 M1098.08 1556.84 L1098.08 1575.74 L1092.19 1575.74 L1092.19 1526.54 L1098.08 1526.54 L1098.08 1531.95 Q1099.92 1528.77 1102.72 1527.24 Q1105.55 1525.68 1109.47 1525.68 Q1115.96 1525.68 1120 1530.83 Q1124.08 1535.99 1124.08 1544.39 Q1124.08 1552.8 1120 1557.95 Q1115.96 1563.11 1109.47 1563.11 Q1105.55 1563.11 1102.72 1561.58 Q1099.92 1560.02 1098.08 1556.84 M1118 1544.39 Q1118 1537.93 1115.33 1534.27 Q1112.68 1530.58 1108.04 1530.58 Q1103.39 1530.58 1100.72 1534.27 Q1098.08 1537.93 1098.08 1544.39 Q1098.08 1550.85 1100.72 1554.55 Q1103.39 1558.21 1108.04 1558.21 Q1112.68 1558.21 1115.33 1554.55 Q1118 1550.85 1118 1544.39 Z\" fill=\"#000000\" fill-rule=\"evenodd\" fill-opacity=\"1\" /><path clip-path=\"url(#clip260)\" d=\"M 0 0 M1144.04 1530.64 Q1139.32 1530.64 1136.59 1534.34 Q1133.85 1538 1133.85 1544.39 Q1133.85 1550.79 1136.56 1554.48 Q1139.29 1558.14 1144.04 1558.14 Q1148.71 1558.14 1151.45 1554.45 Q1154.19 1550.76 1154.19 1544.39 Q1154.19 1538.06 1151.45 1534.37 Q1148.71 1530.64 1144.04 1530.64 M1144.04 1525.68 Q1151.67 1525.68 1156.03 1530.64 Q1160.4 1535.61 1160.4 1544.39 Q1160.4 1553.15 1156.03 1558.14 Q1151.67 1563.11 1144.04 1563.11 Q1136.36 1563.11 1132 1558.14 Q1127.68 1553.15 1127.68 1544.39 Q1127.68 1535.61 1132 1530.64 Q1136.36 1525.68 1144.04 1525.68 Z\" fill=\"#000000\" fill-rule=\"evenodd\" fill-opacity=\"1\" /><path clip-path=\"url(#clip260)\" d=\"M 0 0 M1192.19 1527.91 L1192.19 1533.38 Q1189.71 1532.01 1187.19 1531.34 Q1184.71 1530.64 1182.17 1530.64 Q1176.47 1530.64 1173.32 1534.27 Q1170.17 1537.87 1170.17 1544.39 Q1170.17 1550.92 1173.32 1554.55 Q1176.47 1558.14 1182.17 1558.14 Q1184.71 1558.14 1187.19 1557.47 Q1189.71 1556.77 1192.19 1555.41 L1192.19 1560.82 Q1189.74 1561.96 1187.1 1562.54 Q1184.49 1563.11 1181.53 1563.11 Q1173.48 1563.11 1168.73 1558.05 Q1163.99 1552.99 1163.99 1544.39 Q1163.99 1535.67 1168.77 1530.68 Q1173.57 1525.68 1181.91 1525.68 Q1184.62 1525.68 1187.19 1526.25 Q1189.77 1526.79 1192.19 1527.91 Z\" fill=\"#000000\" fill-rule=\"evenodd\" fill-opacity=\"1\" /><path clip-path=\"url(#clip260)\" d=\"M 0 0 M1227.97 1540.67 L1227.97 1562.19 L1222.11 1562.19 L1222.11 1540.86 Q1222.11 1535.8 1220.14 1533.29 Q1218.16 1530.77 1214.22 1530.77 Q1209.47 1530.77 1206.74 1533.79 Q1204 1536.82 1204 1542.04 L1204 1562.19 L1198.11 1562.19 L1198.11 1512.66 L1204 1512.66 L1204 1532.08 Q1206.1 1528.86 1208.93 1527.27 Q1211.8 1525.68 1215.52 1525.68 Q1221.67 1525.68 1224.82 1529.5 Q1227.97 1533.29 1227.97 1540.67 Z\" fill=\"#000000\" fill-rule=\"evenodd\" fill-opacity=\"1\" /><path clip-path=\"url(#clip260)\" d=\"M 0 0 M1256.84 1527.59 L1256.84 1533.13 Q1254.35 1531.85 1251.68 1531.22 Q1249.01 1530.58 1246.14 1530.58 Q1241.78 1530.58 1239.58 1531.92 Q1237.42 1533.25 1237.42 1535.93 Q1237.42 1537.96 1238.98 1539.14 Q1240.54 1540.29 1245.25 1541.34 L1247.26 1541.78 Q1253.49 1543.12 1256.1 1545.57 Q1258.75 1547.99 1258.75 1552.35 Q1258.75 1557.32 1254.8 1560.21 Q1250.88 1563.11 1244.01 1563.11 Q1241.14 1563.11 1238.03 1562.54 Q1234.94 1561.99 1231.5 1560.88 L1231.5 1554.83 Q1234.75 1556.52 1237.9 1557.38 Q1241.05 1558.21 1244.14 1558.21 Q1248.27 1558.21 1250.5 1556.81 Q1252.73 1555.37 1252.73 1552.8 Q1252.73 1550.41 1251.11 1549.14 Q1249.52 1547.86 1244.07 1546.68 L1242.04 1546.21 Q1236.59 1545.06 1234.17 1542.71 Q1231.75 1540.32 1231.75 1536.18 Q1231.75 1531.15 1235.32 1528.42 Q1238.88 1525.68 1245.44 1525.68 Q1248.69 1525.68 1251.55 1526.16 Q1254.42 1526.63 1256.84 1527.59 Z\" fill=\"#000000\" fill-rule=\"evenodd\" fill-opacity=\"1\" /><path clip-path=\"url(#clip260)\" d=\"M 0 0 M70.212 837.558 Q63.7508 837.558 60.0905 840.232 Q56.3984 842.873 56.3984 847.52 Q56.3984 852.167 60.0905 854.841 Q63.7508 857.483 70.212 857.483 Q76.6732 857.483 80.3653 854.841 Q84.0256 852.167 84.0256 847.52 Q84.0256 842.873 80.3653 840.232 Q76.6732 837.558 70.212 837.558 M57.7671 857.483 Q54.5842 855.637 53.0564 852.836 Q51.4968 850.003 51.4968 846.088 Q51.4968 839.595 56.6531 835.553 Q61.8093 831.479 70.212 831.479 Q78.6147 831.479 83.771 835.553 Q88.9272 839.595 88.9272 846.088 Q88.9272 850.003 87.3994 852.836 Q85.8398 855.637 82.657 857.483 L88.0042 857.483 L88.0042 863.371 L38.479 863.371 L38.479 857.483 L57.7671 857.483 Z\" fill=\"#000000\" fill-rule=\"evenodd\" fill-opacity=\"1\" /><path clip-path=\"url(#clip260)\" d=\"M 0 0 M73.9359 825.941 L52.3562 825.941 L52.3562 820.084 L73.7131 820.084 Q78.7739 820.084 81.3202 818.111 Q83.8346 816.137 83.8346 812.191 Q83.8346 807.448 80.8109 804.711 Q77.7872 801.942 72.5673 801.942 L52.3562 801.942 L52.3562 796.085 L88.0042 796.085 L88.0042 801.942 L82.5296 801.942 Q85.7762 804.074 87.3676 806.907 Q88.9272 809.708 88.9272 813.432 Q88.9272 819.575 85.1078 822.758 Q81.2883 825.941 73.9359 825.941 M51.4968 811.204 L51.4968 811.204 Z\" fill=\"#000000\" fill-rule=\"evenodd\" fill-opacity=\"1\" /><path clip-path=\"url(#clip260)\" d=\"M 0 0 M52.3562 789.942 L52.3562 784.086 L88.0042 784.086 L88.0042 789.942 L52.3562 789.942 M38.479 789.942 L38.479 784.086 L45.895 784.086 L45.895 789.942 L38.479 789.942 Z\" fill=\"#000000\" fill-rule=\"evenodd\" fill-opacity=\"1\" /><path clip-path=\"url(#clip260)\" d=\"M 0 0 M38.479 777.943 L38.479 772.087 L88.0042 772.087 L88.0042 777.943 L38.479 777.943 Z\" fill=\"#000000\" fill-rule=\"evenodd\" fill-opacity=\"1\" /><path clip-path=\"url(#clip260)\" d=\"M 0 0 M57.7671 742.486 L38.479 742.486 L38.479 736.63 L88.0042 736.63 L88.0042 742.486 L82.657 742.486 Q85.8398 744.332 87.3994 747.165 Q88.9272 749.966 88.9272 753.913 Q88.9272 760.374 83.771 764.448 Q78.6147 768.49 70.212 768.49 Q61.8093 768.49 56.6531 764.448 Q51.4968 760.374 51.4968 753.913 Q51.4968 749.966 53.0564 747.165 Q54.5842 744.332 57.7671 742.486 M70.212 762.443 Q76.6732 762.443 80.3653 759.801 Q84.0256 757.127 84.0256 752.48 Q84.0256 747.833 80.3653 745.16 Q76.6732 742.486 70.212 742.486 Q63.7508 742.486 60.0905 745.16 Q56.3984 747.833 56.3984 752.48 Q56.3984 757.127 60.0905 759.801 Q63.7508 762.443 70.212 762.443 Z\" fill=\"#000000\" fill-rule=\"evenodd\" fill-opacity=\"1\" /><path clip-path=\"url(#clip260)\" d=\"M 0 0 M68.7161 699.995 L71.5806 699.995 L71.5806 726.922 Q77.6281 726.54 80.8109 723.293 Q83.9619 720.015 83.9619 714.191 Q83.9619 710.817 83.1344 707.666 Q82.3069 704.483 80.6518 701.364 L86.1899 701.364 Q87.5267 704.515 88.227 707.825 Q88.9272 711.135 88.9272 714.541 Q88.9272 723.071 83.9619 728.068 Q78.9967 733.033 70.5303 733.033 Q61.7774 733.033 56.6531 728.322 Q51.4968 723.58 51.4968 715.559 Q51.4968 708.366 56.1438 704.196 Q60.7589 699.995 68.7161 699.995 M66.9973 705.851 Q62.1912 705.915 59.3266 708.557 Q56.4621 711.167 56.4621 715.495 Q56.4621 720.397 59.2312 723.357 Q62.0002 726.285 67.0292 726.731 L66.9973 705.851 Z\" fill=\"#000000\" fill-rule=\"evenodd\" fill-opacity=\"1\" /><path clip-path=\"url(#clip260)\" d=\"M 0 0 M57.8307 673.195 Q57.2578 674.182 57.0032 675.36 Q56.7167 676.506 56.7167 677.906 Q56.7167 682.871 59.9632 685.545 Q63.1779 688.187 69.2253 688.187 L88.0042 688.187 L88.0042 694.075 L52.3562 694.075 L52.3562 688.187 L57.8944 688.187 Q54.6479 686.341 53.0883 683.381 Q51.4968 680.42 51.4968 676.187 Q51.4968 675.583 51.5923 674.85 Q51.656 674.118 51.8151 673.227 L57.8307 673.195 Z\" fill=\"#000000\" fill-rule=\"evenodd\" fill-opacity=\"1\" /><path clip-path=\"url(#clip260)\" d=\"M 0 0 M79.9197 672.209 L79.9197 665.493 L88.0042 665.493 L88.0042 672.209 L79.9197 672.209 Z\" fill=\"#000000\" fill-rule=\"evenodd\" fill-opacity=\"1\" /><path clip-path=\"url(#clip260)\" d=\"M 0 0 M66.4881 629.718 L88.0042 629.718 L88.0042 635.574 L66.679 635.574 Q61.6183 635.574 59.1038 637.547 Q56.5894 639.521 56.5894 643.468 Q56.5894 648.21 59.6131 650.947 Q62.6368 653.684 67.8567 653.684 L88.0042 653.684 L88.0042 659.573 L52.3562 659.573 L52.3562 653.684 L57.8944 653.684 Q54.6797 651.584 53.0883 648.751 Q51.4968 645.886 51.4968 642.163 Q51.4968 636.02 55.3163 632.869 Q59.1038 629.718 66.4881 629.718 Z\" fill=\"#000000\" fill-rule=\"evenodd\" fill-opacity=\"1\" /><path clip-path=\"url(#clip260)\" d=\"M 0 0 M82.5933 617.209 L82.5933 594.77 L88.0042 594.77 L88.0042 624.943 L82.5933 624.943 Q78.8057 621.283 72.44 614.981 Q66.0425 608.647 64.1964 607.024 Q60.7271 603.936 58.34 602.727 Q55.921 601.486 53.5975 601.486 Q49.8099 601.486 47.4228 604.159 Q45.0356 606.801 45.0356 611.066 Q45.0356 614.09 46.086 617.464 Q47.1363 620.806 49.2688 624.625 L42.7758 624.625 Q41.2162 620.742 40.4205 617.368 Q39.6248 613.994 39.6248 611.193 Q39.6248 603.809 43.3169 599.417 Q47.009 595.025 53.1837 595.025 Q56.112 595.025 58.7537 596.138 Q61.3637 597.221 64.9285 600.117 Q65.8515 600.913 70.2757 605.178 Q74.668 609.443 82.5933 617.209 Z\" fill=\"#000000\" fill-rule=\"evenodd\" fill-opacity=\"1\" /><circle clip-path=\"url(#clip262)\" cx=\"253.375\" cy=\"443.189\" r=\"32\" fill=\"#bd3753\" fill-rule=\"evenodd\" fill-opacity=\"1\" stroke=\"#000000\" stroke-opacity=\"1\" stroke-width=\"3.2\"/>\n",
       "<circle clip-path=\"url(#clip262)\" cx=\"1032.08\" cy=\"300.249\" r=\"7\" fill=\"#0d082a\" fill-rule=\"evenodd\" fill-opacity=\"1\" stroke=\"#000000\" stroke-opacity=\"1\" stroke-width=\"3.2\"/>\n",
       "<circle clip-path=\"url(#clip262)\" cx=\"253.375\" cy=\"800.541\" r=\"36\" fill=\"#d24643\" fill-rule=\"evenodd\" fill-opacity=\"1\" stroke=\"#000000\" stroke-opacity=\"1\" stroke-width=\"3.2\"/>\n",
       "<circle clip-path=\"url(#clip262)\" cx=\"756.588\" cy=\"1157.89\" r=\"13\" fill=\"#380962\" fill-rule=\"evenodd\" fill-opacity=\"1\" stroke=\"#000000\" stroke-opacity=\"1\" stroke-width=\"3.2\"/>\n",
       "<circle clip-path=\"url(#clip262)\" cx=\"1545.92\" cy=\"1014.95\" r=\"5\" fill=\"#030212\" fill-rule=\"evenodd\" fill-opacity=\"1\" stroke=\"#000000\" stroke-opacity=\"1\" stroke-width=\"3.2\"/>\n",
       "<circle clip-path=\"url(#clip262)\" cx=\"1279.11\" cy=\"85.838\" r=\"7\" fill=\"#0b0724\" fill-rule=\"evenodd\" fill-opacity=\"1\" stroke=\"#000000\" stroke-opacity=\"1\" stroke-width=\"3.2\"/>\n",
       "<circle clip-path=\"url(#clip262)\" cx=\"1801.05\" cy=\"800.541\" r=\"4\" fill=\"#01010c\" fill-rule=\"evenodd\" fill-opacity=\"1\" stroke=\"#000000\" stroke-opacity=\"1\" stroke-width=\"3.2\"/>\n",
       "<circle clip-path=\"url(#clip262)\" cx=\"253.375\" cy=\"85.838\" r=\"28\" fill=\"#9d2963\" fill-rule=\"evenodd\" fill-opacity=\"1\" stroke=\"#000000\" stroke-opacity=\"1\" stroke-width=\"3.2\"/>\n",
       "<circle clip-path=\"url(#clip262)\" cx=\"1545.92\" cy=\"800.541\" r=\"5\" fill=\"#02020f\" fill-rule=\"evenodd\" fill-opacity=\"1\" stroke=\"#000000\" stroke-opacity=\"1\" stroke-width=\"3.2\"/>\n",
       "<circle clip-path=\"url(#clip262)\" cx=\"756.588\" cy=\"1372.3\" r=\"19\" fill=\"#5d126e\" fill-rule=\"evenodd\" fill-opacity=\"1\" stroke=\"#000000\" stroke-opacity=\"1\" stroke-width=\"3.2\"/>\n",
       "<circle clip-path=\"url(#clip262)\" cx=\"2058.6\" cy=\"657.6\" r=\"7\" fill=\"#0d0829\" fill-rule=\"evenodd\" fill-opacity=\"1\" stroke=\"#000000\" stroke-opacity=\"1\" stroke-width=\"3.2\"/>\n",
       "<circle clip-path=\"url(#clip262)\" cx=\"1032.08\" cy=\"443.189\" r=\"8\" fill=\"#140a35\" fill-rule=\"evenodd\" fill-opacity=\"1\" stroke=\"#000000\" stroke-opacity=\"1\" stroke-width=\"3.2\"/>\n",
       "<circle clip-path=\"url(#clip262)\" cx=\"253.375\" cy=\"1372.3\" r=\"61\" fill=\"#fcfea4\" fill-rule=\"evenodd\" fill-opacity=\"1\" stroke=\"#000000\" stroke-opacity=\"1\" stroke-width=\"3.2\"/>\n",
       "<circle clip-path=\"url(#clip262)\" cx=\"517.169\" cy=\"85.838\" r=\"18\" fill=\"#58106d\" fill-rule=\"evenodd\" fill-opacity=\"1\" stroke=\"#000000\" stroke-opacity=\"1\" stroke-width=\"3.2\"/>\n",
       "<circle clip-path=\"url(#clip262)\" cx=\"756.588\" cy=\"300.249\" r=\"12\" fill=\"#2e0a5a\" fill-rule=\"evenodd\" fill-opacity=\"1\" stroke=\"#000000\" stroke-opacity=\"1\" stroke-width=\"3.2\"/>\n",
       "<circle clip-path=\"url(#clip262)\" cx=\"1545.92\" cy=\"85.838\" r=\"4\" fill=\"#01010a\" fill-rule=\"evenodd\" fill-opacity=\"1\" stroke=\"#000000\" stroke-opacity=\"1\" stroke-width=\"3.2\"/>\n",
       "<circle clip-path=\"url(#clip262)\" cx=\"1032.08\" cy=\"657.6\" r=\"10\" fill=\"#1f0c47\" fill-rule=\"evenodd\" fill-opacity=\"1\" stroke=\"#000000\" stroke-opacity=\"1\" stroke-width=\"3.2\"/>\n",
       "<circle clip-path=\"url(#clip262)\" cx=\"2058.6\" cy=\"1014.95\" r=\"6\" fill=\"#06051b\" fill-rule=\"evenodd\" fill-opacity=\"1\" stroke=\"#000000\" stroke-opacity=\"1\" stroke-width=\"3.2\"/>\n",
       "<circle clip-path=\"url(#clip262)\" cx=\"517.169\" cy=\"443.189\" r=\"22\" fill=\"#741a6d\" fill-rule=\"evenodd\" fill-opacity=\"1\" stroke=\"#000000\" stroke-opacity=\"1\" stroke-width=\"3.2\"/>\n",
       "<circle clip-path=\"url(#clip262)\" cx=\"253.375\" cy=\"300.249\" r=\"27\" fill=\"#9b2864\" fill-rule=\"evenodd\" fill-opacity=\"1\" stroke=\"#000000\" stroke-opacity=\"1\" stroke-width=\"3.2\"/>\n",
       "<circle clip-path=\"url(#clip262)\" cx=\"1279.11\" cy=\"800.541\" r=\"7\" fill=\"#090622\" fill-rule=\"evenodd\" fill-opacity=\"1\" stroke=\"#000000\" stroke-opacity=\"1\" stroke-width=\"3.2\"/>\n",
       "<circle clip-path=\"url(#clip262)\" cx=\"2058.6\" cy=\"85.838\" r=\"6\" fill=\"#08061f\" fill-rule=\"evenodd\" fill-opacity=\"1\" stroke=\"#000000\" stroke-opacity=\"1\" stroke-width=\"3.2\"/>\n",
       "<circle clip-path=\"url(#clip262)\" cx=\"756.588\" cy=\"1014.95\" r=\"14\" fill=\"#3d0965\" fill-rule=\"evenodd\" fill-opacity=\"1\" stroke=\"#000000\" stroke-opacity=\"1\" stroke-width=\"3.2\"/>\n",
       "<circle clip-path=\"url(#clip262)\" cx=\"1545.92\" cy=\"657.6\" r=\"8\" fill=\"#130a33\" fill-rule=\"evenodd\" fill-opacity=\"1\" stroke=\"#000000\" stroke-opacity=\"1\" stroke-width=\"3.2\"/>\n",
       "<circle clip-path=\"url(#clip262)\" cx=\"253.375\" cy=\"657.6\" r=\"30\" fill=\"#ac2f5c\" fill-rule=\"evenodd\" fill-opacity=\"1\" stroke=\"#000000\" stroke-opacity=\"1\" stroke-width=\"3.2\"/>\n",
       "<circle clip-path=\"url(#clip262)\" cx=\"1279.11\" cy=\"443.189\" r=\"6\" fill=\"#06041a\" fill-rule=\"evenodd\" fill-opacity=\"1\" stroke=\"#000000\" stroke-opacity=\"1\" stroke-width=\"3.2\"/>\n",
       "<circle clip-path=\"url(#clip262)\" cx=\"756.588\" cy=\"657.6\" r=\"15\" fill=\"#450a69\" fill-rule=\"evenodd\" fill-opacity=\"1\" stroke=\"#000000\" stroke-opacity=\"1\" stroke-width=\"3.2\"/>\n",
       "<circle clip-path=\"url(#clip262)\" cx=\"2058.6\" cy=\"1372.3\" r=\"8\" fill=\"#130a34\" fill-rule=\"evenodd\" fill-opacity=\"1\" stroke=\"#000000\" stroke-opacity=\"1\" stroke-width=\"3.2\"/>\n",
       "<circle clip-path=\"url(#clip262)\" cx=\"1279.11\" cy=\"1372.3\" r=\"9\" fill=\"#190b3f\" fill-rule=\"evenodd\" fill-opacity=\"1\" stroke=\"#000000\" stroke-opacity=\"1\" stroke-width=\"3.2\"/>\n",
       "<circle clip-path=\"url(#clip262)\" cx=\"517.169\" cy=\"657.6\" r=\"16\" fill=\"#4e0c6b\" fill-rule=\"evenodd\" fill-opacity=\"1\" stroke=\"#000000\" stroke-opacity=\"1\" stroke-width=\"3.2\"/>\n",
       "<circle clip-path=\"url(#clip262)\" cx=\"1279.11\" cy=\"1157.89\" r=\"8\" fill=\"#10092e\" fill-rule=\"evenodd\" fill-opacity=\"1\" stroke=\"#000000\" stroke-opacity=\"1\" stroke-width=\"3.2\"/>\n",
       "<circle clip-path=\"url(#clip262)\" cx=\"2058.6\" cy=\"300.249\" r=\"7\" fill=\"#0b0724\" fill-rule=\"evenodd\" fill-opacity=\"1\" stroke=\"#000000\" stroke-opacity=\"1\" stroke-width=\"3.2\"/>\n",
       "<circle clip-path=\"url(#clip262)\" cx=\"1032.08\" cy=\"1157.89\" r=\"10\" fill=\"#200c49\" fill-rule=\"evenodd\" fill-opacity=\"1\" stroke=\"#000000\" stroke-opacity=\"1\" stroke-width=\"3.2\"/>\n",
       "<circle clip-path=\"url(#clip262)\" cx=\"1801.05\" cy=\"657.6\" r=\"7\" fill=\"#0a0723\" fill-rule=\"evenodd\" fill-opacity=\"1\" stroke=\"#000000\" stroke-opacity=\"1\" stroke-width=\"3.2\"/>\n",
       "<circle clip-path=\"url(#clip262)\" cx=\"1545.92\" cy=\"1372.3\" r=\"7\" fill=\"#0a0623\" fill-rule=\"evenodd\" fill-opacity=\"1\" stroke=\"#000000\" stroke-opacity=\"1\" stroke-width=\"3.2\"/>\n",
       "<circle clip-path=\"url(#clip262)\" cx=\"1032.08\" cy=\"85.838\" r=\"9\" fill=\"#160b39\" fill-rule=\"evenodd\" fill-opacity=\"1\" stroke=\"#000000\" stroke-opacity=\"1\" stroke-width=\"3.2\"/>\n",
       "<circle clip-path=\"url(#clip262)\" cx=\"1032.08\" cy=\"800.541\" r=\"9\" fill=\"#150b38\" fill-rule=\"evenodd\" fill-opacity=\"1\" stroke=\"#000000\" stroke-opacity=\"1\" stroke-width=\"3.2\"/>\n",
       "<circle clip-path=\"url(#clip262)\" cx=\"2058.6\" cy=\"443.189\" r=\"6\" fill=\"#050418\" fill-rule=\"evenodd\" fill-opacity=\"1\" stroke=\"#000000\" stroke-opacity=\"1\" stroke-width=\"3.2\"/>\n",
       "<circle clip-path=\"url(#clip262)\" cx=\"1545.92\" cy=\"300.249\" r=\"8\" fill=\"#0f092d\" fill-rule=\"evenodd\" fill-opacity=\"1\" stroke=\"#000000\" stroke-opacity=\"1\" stroke-width=\"3.2\"/>\n",
       "<circle clip-path=\"url(#clip262)\" cx=\"1801.05\" cy=\"1014.95\" r=\"3\" fill=\"#000003\" fill-rule=\"evenodd\" fill-opacity=\"1\" stroke=\"#000000\" stroke-opacity=\"1\" stroke-width=\"3.2\"/>\n",
       "<circle clip-path=\"url(#clip262)\" cx=\"1801.05\" cy=\"300.249\" r=\"7\" fill=\"#0e082b\" fill-rule=\"evenodd\" fill-opacity=\"1\" stroke=\"#000000\" stroke-opacity=\"1\" stroke-width=\"3.2\"/>\n",
       "<circle clip-path=\"url(#clip262)\" cx=\"756.588\" cy=\"443.189\" r=\"16\" fill=\"#4d0c6b\" fill-rule=\"evenodd\" fill-opacity=\"1\" stroke=\"#000000\" stroke-opacity=\"1\" stroke-width=\"3.2\"/>\n",
       "<circle clip-path=\"url(#clip262)\" cx=\"1279.11\" cy=\"657.6\" r=\"5\" fill=\"#040316\" fill-rule=\"evenodd\" fill-opacity=\"1\" stroke=\"#000000\" stroke-opacity=\"1\" stroke-width=\"3.2\"/>\n",
       "<circle clip-path=\"url(#clip262)\" cx=\"756.588\" cy=\"800.541\" r=\"13\" fill=\"#360960\" fill-rule=\"evenodd\" fill-opacity=\"1\" stroke=\"#000000\" stroke-opacity=\"1\" stroke-width=\"3.2\"/>\n",
       "<circle clip-path=\"url(#clip262)\" cx=\"2058.6\" cy=\"1157.89\" r=\"4\" fill=\"#02010d\" fill-rule=\"evenodd\" fill-opacity=\"1\" stroke=\"#000000\" stroke-opacity=\"1\" stroke-width=\"3.2\"/>\n",
       "<circle clip-path=\"url(#clip262)\" cx=\"1801.05\" cy=\"1372.3\" r=\"9\" fill=\"#140b36\" fill-rule=\"evenodd\" fill-opacity=\"1\" stroke=\"#000000\" stroke-opacity=\"1\" stroke-width=\"3.2\"/>\n",
       "<circle clip-path=\"url(#clip262)\" cx=\"517.169\" cy=\"300.249\" r=\"19\" fill=\"#62146e\" fill-rule=\"evenodd\" fill-opacity=\"1\" stroke=\"#000000\" stroke-opacity=\"1\" stroke-width=\"3.2\"/>\n",
       "<circle clip-path=\"url(#clip262)\" cx=\"1032.08\" cy=\"1014.95\" r=\"10\" fill=\"#1c0c43\" fill-rule=\"evenodd\" fill-opacity=\"1\" stroke=\"#000000\" stroke-opacity=\"1\" stroke-width=\"3.2\"/>\n",
       "<circle clip-path=\"url(#clip262)\" cx=\"1279.11\" cy=\"300.249\" r=\"7\" fill=\"#0a0623\" fill-rule=\"evenodd\" fill-opacity=\"1\" stroke=\"#000000\" stroke-opacity=\"1\" stroke-width=\"3.2\"/>\n",
       "<circle clip-path=\"url(#clip262)\" cx=\"517.169\" cy=\"1014.95\" r=\"23\" fill=\"#7f1e6c\" fill-rule=\"evenodd\" fill-opacity=\"1\" stroke=\"#000000\" stroke-opacity=\"1\" stroke-width=\"3.2\"/>\n",
       "<circle clip-path=\"url(#clip262)\" cx=\"1801.05\" cy=\"1157.89\" r=\"5\" fill=\"#040313\" fill-rule=\"evenodd\" fill-opacity=\"1\" stroke=\"#000000\" stroke-opacity=\"1\" stroke-width=\"3.2\"/>\n",
       "<circle clip-path=\"url(#clip262)\" cx=\"1801.05\" cy=\"85.838\" r=\"7\" fill=\"#0b0724\" fill-rule=\"evenodd\" fill-opacity=\"1\" stroke=\"#000000\" stroke-opacity=\"1\" stroke-width=\"3.2\"/>\n",
       "<circle clip-path=\"url(#clip262)\" cx=\"1279.11\" cy=\"1014.95\" r=\"7\" fill=\"#0a0623\" fill-rule=\"evenodd\" fill-opacity=\"1\" stroke=\"#000000\" stroke-opacity=\"1\" stroke-width=\"3.2\"/>\n",
       "<circle clip-path=\"url(#clip262)\" cx=\"1801.05\" cy=\"443.189\" r=\"5\" fill=\"#040315\" fill-rule=\"evenodd\" fill-opacity=\"1\" stroke=\"#000000\" stroke-opacity=\"1\" stroke-width=\"3.2\"/>\n",
       "<circle clip-path=\"url(#clip262)\" cx=\"1545.92\" cy=\"1157.89\" r=\"7\" fill=\"#0c0727\" fill-rule=\"evenodd\" fill-opacity=\"1\" stroke=\"#000000\" stroke-opacity=\"1\" stroke-width=\"3.2\"/>\n",
       "<circle clip-path=\"url(#clip262)\" cx=\"1545.92\" cy=\"443.189\" r=\"6\" fill=\"#060419\" fill-rule=\"evenodd\" fill-opacity=\"1\" stroke=\"#000000\" stroke-opacity=\"1\" stroke-width=\"3.2\"/>\n",
       "<circle clip-path=\"url(#clip262)\" cx=\"253.375\" cy=\"1157.89\" r=\"35\" fill=\"#cd4247\" fill-rule=\"evenodd\" fill-opacity=\"1\" stroke=\"#000000\" stroke-opacity=\"1\" stroke-width=\"3.2\"/>\n",
       "<circle clip-path=\"url(#clip262)\" cx=\"517.169\" cy=\"800.541\" r=\"22\" fill=\"#741a6d\" fill-rule=\"evenodd\" fill-opacity=\"1\" stroke=\"#000000\" stroke-opacity=\"1\" stroke-width=\"3.2\"/>\n",
       "<circle clip-path=\"url(#clip262)\" cx=\"756.588\" cy=\"85.838\" r=\"13\" fill=\"#33095f\" fill-rule=\"evenodd\" fill-opacity=\"1\" stroke=\"#000000\" stroke-opacity=\"1\" stroke-width=\"3.2\"/>\n",
       "<circle clip-path=\"url(#clip262)\" cx=\"517.169\" cy=\"1157.89\" r=\"26\" fill=\"#932567\" fill-rule=\"evenodd\" fill-opacity=\"1\" stroke=\"#000000\" stroke-opacity=\"1\" stroke-width=\"3.2\"/>\n",
       "<circle clip-path=\"url(#clip262)\" cx=\"1032.08\" cy=\"1372.3\" r=\"13\" fill=\"#350960\" fill-rule=\"evenodd\" fill-opacity=\"1\" stroke=\"#000000\" stroke-opacity=\"1\" stroke-width=\"3.2\"/>\n",
       "<circle clip-path=\"url(#clip262)\" cx=\"517.169\" cy=\"1372.3\" r=\"28\" fill=\"#9d2963\" fill-rule=\"evenodd\" fill-opacity=\"1\" stroke=\"#000000\" stroke-opacity=\"1\" stroke-width=\"3.2\"/>\n",
       "<circle clip-path=\"url(#clip262)\" cx=\"253.375\" cy=\"1014.95\" r=\"30\" fill=\"#ad305c\" fill-rule=\"evenodd\" fill-opacity=\"1\" stroke=\"#000000\" stroke-opacity=\"1\" stroke-width=\"3.2\"/>\n",
       "<circle clip-path=\"url(#clip262)\" cx=\"2058.6\" cy=\"800.541\" r=\"5\" fill=\"#040316\" fill-rule=\"evenodd\" fill-opacity=\"1\" stroke=\"#000000\" stroke-opacity=\"1\" stroke-width=\"3.2\"/>\n",
       "<defs>\n",
       "  <clipPath id=\"clip263\">\n",
       "    <rect x=\"2160\" y=\"47\" width=\"73\" height=\"1365\"/>\n",
       "  </clipPath>\n",
       "</defs>\n",
       "<g clip-path=\"url(#clip263)\">\n",
       "<image width=\"72\" height=\"1364\" xlink:href=\"data:image/png;base64,\n",
       "iVBORw0KGgoAAAANSUhEUgAAAEgAAAVUCAYAAABzwV4AAAAL0klEQVR4nO3dwY3sRhAFQY5Q/lsh\n",
       "L6XfLQtUeSQPERYsEg+zZJM7+/v3/H0f/tdfb/8AXydQECgIFAQKc+6/b/8Mn2ZBQaAgUBAozL1/\n",
       "3v4ZPs2CgkBBoCBQcCUdLCgIFAQKAgWBwly/xVYWFAQKAgWBwtzjQ3pjQUGgIFAQKLiSDhYUBAoC\n",
       "BYGCQMFvsWBBQaAgUBAoOA8KFhQECgIFgcI8rqRXFhQECgIFgYJAwXlQsKAgUBAoCBTmcR60sqAg\n",
       "UBAoCBTmOf+8/TN8mgUFgYJAQaAgUPBUI1hQECgIFAQKzoOCBQWBgkBBoOBDOlhQECgIFAQKAgXn\n",
       "QcGCgkBBoCBQmJ9bjZUFBYGCQEGgMM/xpf8bCwoCBYGCQEGg4FYjWFAQKAgUBApuNYIFBYGCQEGg\n",
       "4P2gYEFBoCBQECgIFObnVmNlQUGgIFAQKHiJM1hQECgIFAQKrqSDBQWBgkBBoCBQ8Og5WFAQKAgU\n",
       "BApuNYIFBYGCQEGg4Eo6WFAQKAgUBAoCBbcawYKCQEGgIFCY55y3f4ZPs6AgUBAoCBRcSQcLCgIF\n",
       "gYJAQaDgqUawoCBQECgIFHxIBwsKAgWBgkBhfg7tVxYUBAoCBYGCQMGtRrCgIFAQKAgUvB8ULCgI\n",
       "FAQKAgXnQcGCgkBBoCBQECg4DwoWFAQKAgWBgvOgYEFBoCBQECj4kA4WFAQKAgWBgkDBXz0HCwoC\n",
       "BYGCQMGtRrCgIFAQKAgUfEgHCwoCBYGCQEGg4LdYsKAgUBAoCBR8SAcLCgIFgYJAYZ7rQ3pjQUGg\n",
       "IFAQKAgU3GoECwoCBYGCQMGHdLCgIFAQKAgUfEgHCwoCBYGCQEGgMM+5b/8Mn2ZBQaAgUBAouNUI\n",
       "FhQECgIFgYIr6WBBQaAgUBAoCBTcagQLCgIFgYJAwa1GsKAgUBAoCBTmcSG9sqAgUBAoCBQECvNc\n",
       "txobCwoCBYGCQMGtRrCgIFAQKAgUfEgHCwoCBYGCQEGgML4Eb2dBQaAgUBAouNUIFhQECgIFgYIP\n",
       "6WBBQaAgUBAoCBTmOb+3f4ZPs6AgUBAoCBTmXh/SGwsKAgWBgkDBeVCwoCBQECgIFBx3BAsKAgWB\n",
       "gkBBoDD3aLRRJwgUBAoCBbcawYKCQEGgIFCYx5PVlQUFgYJAQaAgUJjrVmNlQUGgIFAQKMzj0H6l\n",
       "ThAoCBQECq6kgwUFgYJAQaAgUPBUI1hQECgIFAQKXuIM6gSBgkBBoOAlzmBBQaAgUBAoCBQ81QgW\n",
       "FAQKAgWBwtyr0UadIFAQKAgUnAcFCwoCBYGCQEGg4DwoWFAQKAgUBArzOA9aqRMECgIFgYIr6WBB\n",
       "QaAgUBAoCBT8FgsWFAQKAgWBgj/qDRYUBAoCBYGCP+oN6gSBgkBBoCBQ8P/mgwUFgYJAQaDg0D5Y\n",
       "UBAoCBQECr70P6gTBAoCBYGCQMF5ULCgIFAQKAgUnAcFCwoCBYGCQMGVdLCgIFAQKAgUBArecg3q\n",
       "BIGCQEGg4FYjWFAQKAgUBAoO7YMFBYGCQEGgIFBwqxEsKAgUBAoCBf+6JlhQECgIFAQK/glkUCcI\n",
       "FAQKAgWBgvOgYEFBoCBQECh49BwsKAgUBAoCBVfSwYKCQEGgIFAQKMzxW2xlQUGgIFAQKPij3qBO\n",
       "ECgIFAQKzoOCBQWBgkBBoCBQ8FssWFAQKAgUBAreDwoWFAQKAgWBgivpYEFBoCBQECgIFPwWCxYU\n",
       "BAoCBYGCr6YI6gSBgkBBoDDHof3KgoJAQaAgUBAoOA8KFhQECgIFgYIP6WBBQaAgUBAo+JAOFhQE\n",
       "CgIFgYJAwfcHBQsKAgWBgkDBrUawoCBQECgIFHxIBwsKAgWBgkBBoOBPEYI6QaAgUBAo+FOEYEFB\n",
       "oCBQECg4DwoWFAQKAgWBgkDBb7FgQUGgIFAQKHiJM1hQECgIFAQKrqSDBQWBgkBBoCBQmPv4Lbax\n",
       "oCBQECgIFJwHBQsKAgWBgkDBeVCwoCBQECgIFAQKbjWCBQWBgkBBoOBWI1hQECgIFAQKrqSDBQWB\n",
       "gkBBoCBQcKsRLCgIFAQKAgUf0sGCgkBBoCBQmONN+5UFBYGCQEGg4Eo6WFAQKAgUBAoCBY+egwUF\n",
       "gYJAQaAw9779I3ybBQWBgkBBoOBKOlhQECgIFAQKAgVf8hYsKAgUBAoCBbcawYKCQEGgIFDwflCw\n",
       "oCBQECgIFAQK/hQhWFAQKAgUBAreDwoWFAQKAgWBgkP7YEFBoCBQECgIFDzVCBYUBAoCBYGCQ/tg\n",
       "QUGgIFAQKDgPChYUBAoCBYGCQMGj52BBQaAgUBAoOA8KFhQECgIFgYInq8GCgkBBoCBQECjMefsn\n",
       "+DgLCgIFgYJAwa1GsKAgUBAoCBS8HxQsKAgUBAoCBYGC86BgQUGgIFAQKDgPChYUBAoCBYGCK+lg\n",
       "QUGgIFAQKAgU3GoECwoCBYGCQMGj52BBQaAgUBAojC9e2FlQECgIFAQKAgW3GsGCgkBBoCBQ8Og5\n",
       "WFAQKAgUBAqerAYLCgIFgYJAQaDgViNYUBAoCBQECm41ggUFgYJAQaAwxwtCKwsKAgWBgkBBoOA8\n",
       "KFhQECgIFAQKzoOCBQWBgkBBoOBKOlhQECgIFAQKAgX/bz5YUBAoCBQECv7ffLCgIFAQKAgUvB8U\n",
       "LCgIFAQKAgWBgm/BCxYUBAoCBYGCL3kLFhQECgIFgYInq8GCgkBBoCBQECh4yzVYUBAoCBQECv5e\n",
       "LFhQECgIFAQKrqSDBQWBgkBBoCBQ8JZrsKAgUBAoCBS8xBksKAgUBAoCBVfSwYKCQEGgIFAQKHjL\n",
       "NVhQECgIFAQKvj8oWFAQKAgUBArOg4IFBYGCQEGgIFDw6DlYUBAoCBQECm41ggUFgYJAQaDgSjpY\n",
       "UBAoCBQECgIFtxrBgoJAQaAgUPAhHSwoCBQECgIF50HBgoJAQaAgUBAouNUIFhQECgIFgYJbjWBB\n",
       "QaAgUBAouJIOFhQECgIFgYJAwfcHBQsKAgWBgkDBv64JFhQECgIFgYLzoGBBQaAgUBAoCBTmPn6N\n",
       "bSwoCBQECgIFtxrBgoJAQaAgUPBkNVhQECgIFAQKnqwGCwoCBYGCQEGg4DwoWFAQKAgUBAqerAYL\n",
       "CgIFgYJAwZV0sKAgUBAoCBQECr4/KFhQECgIFAQKc7wgtLKgIFAQKAgUvB8ULCgIFAQKAgWBwly3\n",
       "GisLCgIFgYJAwa1GsKAgUBAoCBQc2gcLCgIFgYJAQaDg/aBgQUGgIFAQKMzx92IrCwoCBYGCQMF5\n",
       "ULCgIFAQKAgUBAq+miJYUBAoCBQECt4PChYUBAoCBYGCQ/tgQUGgIFAQKAgUnAcFCwoCBYGCQGHO\n",
       "40RoY0FBoCBQECg4DwoWFAQKAgWBgkDBb7FgQUGgIFAQKDi0DxYUBAoCBYGCQ/tgQUGgIFAQKAgU\n",
       "5vzcamwsKAgUBAoCBbcawYKCQEGgIFCY60N6ZUFBoCBQECgIFNxqBAsKAgWBgkBhzs+H9MaCgkBB\n",
       "oCBQcCUdLCgIFAQKAgWBgqcawYKCQEGgIFBwqxEsKAgUBAoCBR/SwYKCQEGgIFAQKHj0HCwoCBQE\n",
       "CgKFuc+ft3+GT7OgIFAQKAgUnAcFCwoCBYGCQEGg4P2gYEFBoCBQECjMuc6DNhYUBAoCBYGCK+lg\n",
       "QUGgIFAQKAgU5nj0vLKgIFAQKAgU3GoECwoCBYGCQMGVdLCgIFAQKAgUBApzr1uNjQUFgYJAQaDg\n",
       "PChYUBAoCBQECl7iDBYUBAoCBYGCQMGtRrCgIFAQKAgU5rrVWFlQECgIFAQKrqSDBQWBgkBBoCBQ\n",
       "mOP9oJUFBYGCQEGg4PukgwUFgYJAQaDgTftgQUGgIFAQKAgUPNUIFhQECgIFgYJbjWBBQaAgUBAo\n",
       "+JAOFhQECgIFgYJAwaPnYEFBoCBQECi41QgWFAQKAgWBwjyerK4sKAgUBAoCBYGCW41gQUGgIFAQ\n",
       "KHiJM1hQECgIFAQK87iSXllQECgIFAQKAgXvBwULCgIFgYJAwaPnYEFBoCBQECg4DwoWFAQKAgWB\n",
       "gkBh7nPf/hk+zYKCQEGgIFBwHhQsKAgUBAoChXlcSa8sKAgUBAoChf8AJ8ztt7m0cDkAAAAASUVO\n",
       "RK5CYII=\n",
       "\" transform=\"translate(2161, 47)\"/>\n",
       "</g>\n",
       "<path clip-path=\"url(#clip260)\" d=\"M 0 0 M2280.7 1284.22 Q2277.09 1284.22 2275.26 1287.78 Q2273.45 1291.32 2273.45 1298.45 Q2273.45 1305.56 2275.26 1309.12 Q2277.09 1312.66 2280.7 1312.66 Q2284.33 1312.66 2286.14 1309.12 Q2287.97 1305.56 2287.97 1298.45 Q2287.97 1291.32 2286.14 1287.78 Q2284.33 1284.22 2280.7 1284.22 M2280.7 1280.51 Q2286.51 1280.51 2289.57 1285.12 Q2292.64 1289.7 2292.64 1298.45 Q2292.64 1307.18 2289.57 1311.79 Q2286.51 1316.37 2280.7 1316.37 Q2274.89 1316.37 2271.81 1311.79 Q2268.76 1307.18 2268.76 1298.45 Q2268.76 1289.7 2271.81 1285.12 Q2274.89 1280.51 2280.7 1280.51 Z\" fill=\"#000000\" fill-rule=\"evenodd\" fill-opacity=\"1\" /><path clip-path=\"url(#clip260)\" d=\"M 0 0 M2297.71 1309.82 L2302.6 1309.82 L2302.6 1315.7 L2297.71 1315.7 L2297.71 1309.82 Z\" fill=\"#000000\" fill-rule=\"evenodd\" fill-opacity=\"1\" /><path clip-path=\"url(#clip260)\" d=\"M 0 0 M2321.83 1297.06 Q2325.19 1297.78 2327.07 1300.05 Q2328.96 1302.32 2328.96 1305.65 Q2328.96 1310.77 2325.45 1313.57 Q2321.93 1316.37 2315.45 1316.37 Q2313.27 1316.37 2310.95 1315.93 Q2308.66 1315.51 2306.21 1314.66 L2306.21 1310.14 Q2308.15 1311.28 2310.47 1311.85 Q2312.78 1312.43 2315.31 1312.43 Q2319.7 1312.43 2322 1310.7 Q2324.31 1308.96 2324.31 1305.65 Q2324.31 1302.6 2322.16 1300.88 Q2320.03 1299.15 2316.21 1299.15 L2312.18 1299.15 L2312.18 1295.3 L2316.39 1295.3 Q2319.84 1295.3 2321.67 1293.94 Q2323.5 1292.55 2323.5 1289.96 Q2323.5 1287.29 2321.6 1285.88 Q2319.73 1284.45 2316.21 1284.45 Q2314.29 1284.45 2312.09 1284.86 Q2309.89 1285.28 2307.25 1286.16 L2307.25 1281.99 Q2309.91 1281.25 2312.23 1280.88 Q2314.57 1280.51 2316.63 1280.51 Q2321.95 1280.51 2325.05 1282.94 Q2328.15 1285.35 2328.15 1289.47 Q2328.15 1292.34 2326.51 1294.33 Q2324.87 1296.3 2321.83 1297.06 Z\" fill=\"#000000\" fill-rule=\"evenodd\" fill-opacity=\"1\" /><path clip-path=\"url(#clip260)\" d=\"M 0 0 M2348.2 1297.06 Q2351.56 1297.78 2353.43 1300.05 Q2355.33 1302.32 2355.33 1305.65 Q2355.33 1310.77 2351.81 1313.57 Q2348.29 1316.37 2341.81 1316.37 Q2339.64 1316.37 2337.32 1315.93 Q2335.03 1315.51 2332.58 1314.66 L2332.58 1310.14 Q2334.52 1311.28 2336.83 1311.85 Q2339.15 1312.43 2341.67 1312.43 Q2346.07 1312.43 2348.36 1310.7 Q2350.68 1308.96 2350.68 1305.65 Q2350.68 1302.6 2348.52 1300.88 Q2346.39 1299.15 2342.57 1299.15 L2338.55 1299.15 L2338.55 1295.3 L2342.76 1295.3 Q2346.21 1295.3 2348.04 1293.94 Q2349.87 1292.55 2349.87 1289.96 Q2349.87 1287.29 2347.97 1285.88 Q2346.09 1284.45 2342.57 1284.45 Q2340.65 1284.45 2338.45 1284.86 Q2336.26 1285.28 2333.62 1286.16 L2333.62 1281.99 Q2336.28 1281.25 2338.59 1280.88 Q2340.93 1280.51 2342.99 1280.51 Q2348.32 1280.51 2351.42 1282.94 Q2354.52 1285.35 2354.52 1289.47 Q2354.52 1292.34 2352.88 1294.33 Q2351.23 1296.3 2348.2 1297.06 Z\" fill=\"#000000\" fill-rule=\"evenodd\" fill-opacity=\"1\" /><path clip-path=\"url(#clip260)\" d=\"M 0 0 M2374.57 1297.06 Q2377.92 1297.78 2379.8 1300.05 Q2381.7 1302.32 2381.7 1305.65 Q2381.7 1310.77 2378.18 1313.57 Q2374.66 1316.37 2368.18 1316.37 Q2366 1316.37 2363.69 1315.93 Q2361.39 1315.51 2358.94 1314.66 L2358.94 1310.14 Q2360.89 1311.28 2363.2 1311.85 Q2365.51 1312.43 2368.04 1312.43 Q2372.44 1312.43 2374.73 1310.7 Q2377.04 1308.96 2377.04 1305.65 Q2377.04 1302.6 2374.89 1300.88 Q2372.76 1299.15 2368.94 1299.15 L2364.91 1299.15 L2364.91 1295.3 L2369.13 1295.3 Q2372.57 1295.3 2374.4 1293.94 Q2376.23 1292.55 2376.23 1289.96 Q2376.23 1287.29 2374.33 1285.88 Q2372.46 1284.45 2368.94 1284.45 Q2367.02 1284.45 2364.82 1284.86 Q2362.62 1285.28 2359.98 1286.16 L2359.98 1281.99 Q2362.64 1281.25 2364.96 1280.88 Q2367.3 1280.51 2369.36 1280.51 Q2374.68 1280.51 2377.78 1282.94 Q2380.88 1285.35 2380.88 1289.47 Q2380.88 1292.34 2379.24 1294.33 Q2377.6 1296.3 2374.57 1297.06 Z\" fill=\"#000000\" fill-rule=\"evenodd\" fill-opacity=\"1\" /><path clip-path=\"url(#clip260)\" d=\"M 0 0 M2386.81 1281.14 L2405.17 1281.14 L2405.17 1285.07 L2391.09 1285.07 L2391.09 1293.54 Q2392.11 1293.2 2393.13 1293.04 Q2394.15 1292.85 2395.17 1292.85 Q2400.95 1292.85 2404.33 1296.02 Q2407.71 1299.19 2407.71 1304.61 Q2407.71 1310.19 2404.24 1313.29 Q2400.77 1316.37 2394.45 1316.37 Q2392.27 1316.37 2390.01 1316 Q2387.76 1315.63 2385.35 1314.89 L2385.35 1310.19 Q2387.44 1311.32 2389.66 1311.88 Q2391.88 1312.43 2394.36 1312.43 Q2398.36 1312.43 2400.7 1310.33 Q2403.04 1308.22 2403.04 1304.61 Q2403.04 1301 2400.7 1298.89 Q2398.36 1296.79 2394.36 1296.79 Q2392.48 1296.79 2390.61 1297.2 Q2388.76 1297.62 2386.81 1298.5 L2386.81 1281.14 Z\" fill=\"#000000\" fill-rule=\"evenodd\" fill-opacity=\"1\" /><path clip-path=\"url(#clip260)\" d=\"M 0 0 M2280.7 1137.93 Q2277.09 1137.93 2275.26 1141.5 Q2273.45 1145.04 2273.45 1152.17 Q2273.45 1159.27 2275.26 1162.84 Q2277.09 1166.38 2280.7 1166.38 Q2284.33 1166.38 2286.14 1162.84 Q2287.97 1159.27 2287.97 1152.17 Q2287.97 1145.04 2286.14 1141.5 Q2284.33 1137.93 2280.7 1137.93 M2280.7 1134.23 Q2286.51 1134.23 2289.57 1138.84 Q2292.64 1143.42 2292.64 1152.17 Q2292.64 1160.9 2289.57 1165.5 Q2286.51 1170.08 2280.7 1170.08 Q2274.89 1170.08 2271.81 1165.5 Q2268.76 1160.9 2268.76 1152.17 Q2268.76 1143.42 2271.81 1138.84 Q2274.89 1134.23 2280.7 1134.23 Z\" fill=\"#000000\" fill-rule=\"evenodd\" fill-opacity=\"1\" /><path clip-path=\"url(#clip260)\" d=\"M 0 0 M2297.71 1163.53 L2302.6 1163.53 L2302.6 1169.41 L2297.71 1169.41 L2297.71 1163.53 Z\" fill=\"#000000\" fill-rule=\"evenodd\" fill-opacity=\"1\" /><path clip-path=\"url(#clip260)\" d=\"M 0 0 M2321.83 1150.78 Q2325.19 1151.5 2327.07 1153.77 Q2328.96 1156.03 2328.96 1159.37 Q2328.96 1164.48 2325.45 1167.28 Q2321.93 1170.08 2315.45 1170.08 Q2313.27 1170.08 2310.95 1169.65 Q2308.66 1169.23 2306.21 1168.37 L2306.21 1163.86 Q2308.15 1164.99 2310.47 1165.57 Q2312.78 1166.15 2315.31 1166.15 Q2319.7 1166.15 2322 1164.41 Q2324.31 1162.68 2324.31 1159.37 Q2324.31 1156.31 2322.16 1154.6 Q2320.03 1152.86 2316.21 1152.86 L2312.18 1152.86 L2312.18 1149.02 L2316.39 1149.02 Q2319.84 1149.02 2321.67 1147.65 Q2323.5 1146.27 2323.5 1143.67 Q2323.5 1141.01 2321.6 1139.6 Q2319.73 1138.16 2316.21 1138.16 Q2314.29 1138.16 2312.09 1138.58 Q2309.89 1139 2307.25 1139.88 L2307.25 1135.71 Q2309.91 1134.97 2312.23 1134.6 Q2314.57 1134.23 2316.63 1134.23 Q2321.95 1134.23 2325.05 1136.66 Q2328.15 1139.07 2328.15 1143.19 Q2328.15 1146.06 2326.51 1148.05 Q2324.87 1150.02 2321.83 1150.78 Z\" fill=\"#000000\" fill-rule=\"evenodd\" fill-opacity=\"1\" /><path clip-path=\"url(#clip260)\" d=\"M 0 0 M2348.2 1150.78 Q2351.56 1151.5 2353.43 1153.77 Q2355.33 1156.03 2355.33 1159.37 Q2355.33 1164.48 2351.81 1167.28 Q2348.29 1170.08 2341.81 1170.08 Q2339.64 1170.08 2337.32 1169.65 Q2335.03 1169.23 2332.58 1168.37 L2332.58 1163.86 Q2334.52 1164.99 2336.83 1165.57 Q2339.15 1166.15 2341.67 1166.15 Q2346.07 1166.15 2348.36 1164.41 Q2350.68 1162.68 2350.68 1159.37 Q2350.68 1156.31 2348.52 1154.6 Q2346.39 1152.86 2342.57 1152.86 L2338.55 1152.86 L2338.55 1149.02 L2342.76 1149.02 Q2346.21 1149.02 2348.04 1147.65 Q2349.87 1146.27 2349.87 1143.67 Q2349.87 1141.01 2347.97 1139.6 Q2346.09 1138.16 2342.57 1138.16 Q2340.65 1138.16 2338.45 1138.58 Q2336.26 1139 2333.62 1139.88 L2333.62 1135.71 Q2336.28 1134.97 2338.59 1134.6 Q2340.93 1134.23 2342.99 1134.23 Q2348.32 1134.23 2351.42 1136.66 Q2354.52 1139.07 2354.52 1143.19 Q2354.52 1146.06 2352.88 1148.05 Q2351.23 1150.02 2348.2 1150.78 Z\" fill=\"#000000\" fill-rule=\"evenodd\" fill-opacity=\"1\" /><path clip-path=\"url(#clip260)\" d=\"M 0 0 M2373.25 1138.93 L2361.44 1157.38 L2373.25 1157.38 L2373.25 1138.93 M2372.02 1134.85 L2377.9 1134.85 L2377.9 1157.38 L2382.83 1157.38 L2382.83 1161.27 L2377.9 1161.27 L2377.9 1169.41 L2373.25 1169.41 L2373.25 1161.27 L2357.64 1161.27 L2357.64 1156.75 L2372.02 1134.85 Z\" fill=\"#000000\" fill-rule=\"evenodd\" fill-opacity=\"1\" /><path clip-path=\"url(#clip260)\" d=\"M 0 0 M2397.9 1137.93 Q2394.29 1137.93 2392.46 1141.5 Q2390.65 1145.04 2390.65 1152.17 Q2390.65 1159.27 2392.46 1162.84 Q2394.29 1166.38 2397.9 1166.38 Q2401.53 1166.38 2403.34 1162.84 Q2405.17 1159.27 2405.17 1152.17 Q2405.17 1145.04 2403.34 1141.5 Q2401.53 1137.93 2397.9 1137.93 M2397.9 1134.23 Q2403.71 1134.23 2406.76 1138.84 Q2409.84 1143.42 2409.84 1152.17 Q2409.84 1160.9 2406.76 1165.5 Q2403.71 1170.08 2397.9 1170.08 Q2392.09 1170.08 2389.01 1165.5 Q2385.95 1160.9 2385.95 1152.17 Q2385.95 1143.42 2389.01 1138.84 Q2392.09 1134.23 2397.9 1134.23 Z\" fill=\"#000000\" fill-rule=\"evenodd\" fill-opacity=\"1\" /><path clip-path=\"url(#clip260)\" d=\"M 0 0 M2280.7 991.649 Q2277.09 991.649 2275.26 995.214 Q2273.45 998.755 2273.45 1005.88 Q2273.45 1012.99 2275.26 1016.56 Q2277.09 1020.1 2280.7 1020.1 Q2284.33 1020.1 2286.14 1016.56 Q2287.97 1012.99 2287.97 1005.88 Q2287.97 998.755 2286.14 995.214 Q2284.33 991.649 2280.7 991.649 M2280.7 987.945 Q2286.51 987.945 2289.57 992.552 Q2292.64 997.135 2292.64 1005.88 Q2292.64 1014.61 2289.57 1019.22 Q2286.51 1023.8 2280.7 1023.8 Q2274.89 1023.8 2271.81 1019.22 Q2268.76 1014.61 2268.76 1005.88 Q2268.76 997.135 2271.81 992.552 Q2274.89 987.945 2280.7 987.945 Z\" fill=\"#000000\" fill-rule=\"evenodd\" fill-opacity=\"1\" /><path clip-path=\"url(#clip260)\" d=\"M 0 0 M2297.71 1017.25 L2302.6 1017.25 L2302.6 1023.13 L2297.71 1023.13 L2297.71 1017.25 Z\" fill=\"#000000\" fill-rule=\"evenodd\" fill-opacity=\"1\" /><path clip-path=\"url(#clip260)\" d=\"M 0 0 M2321.83 1004.5 Q2325.19 1005.21 2327.07 1007.48 Q2328.96 1009.75 2328.96 1013.08 Q2328.96 1018.2 2325.45 1021 Q2321.93 1023.8 2315.45 1023.8 Q2313.27 1023.8 2310.95 1023.36 Q2308.66 1022.94 2306.21 1022.09 L2306.21 1017.57 Q2308.15 1018.71 2310.47 1019.29 Q2312.78 1019.87 2315.31 1019.87 Q2319.7 1019.87 2322 1018.13 Q2324.31 1016.39 2324.31 1013.08 Q2324.31 1010.03 2322.16 1008.32 Q2320.03 1006.58 2316.21 1006.58 L2312.18 1006.58 L2312.18 1002.74 L2316.39 1002.74 Q2319.84 1002.74 2321.67 1001.37 Q2323.5 999.982 2323.5 997.39 Q2323.5 994.728 2321.6 993.315 Q2319.73 991.88 2316.21 991.88 Q2314.29 991.88 2312.09 992.297 Q2309.89 992.714 2307.25 993.593 L2307.25 989.427 Q2309.91 988.686 2312.23 988.316 Q2314.57 987.945 2316.63 987.945 Q2321.95 987.945 2325.05 990.376 Q2328.15 992.783 2328.15 996.903 Q2328.15 999.774 2326.51 1001.76 Q2324.87 1003.73 2321.83 1004.5 Z\" fill=\"#000000\" fill-rule=\"evenodd\" fill-opacity=\"1\" /><path clip-path=\"url(#clip260)\" d=\"M 0 0 M2348.2 1004.5 Q2351.56 1005.21 2353.43 1007.48 Q2355.33 1009.75 2355.33 1013.08 Q2355.33 1018.2 2351.81 1021 Q2348.29 1023.8 2341.81 1023.8 Q2339.64 1023.8 2337.32 1023.36 Q2335.03 1022.94 2332.58 1022.09 L2332.58 1017.57 Q2334.52 1018.71 2336.83 1019.29 Q2339.15 1019.87 2341.67 1019.87 Q2346.07 1019.87 2348.36 1018.13 Q2350.68 1016.39 2350.68 1013.08 Q2350.68 1010.03 2348.52 1008.32 Q2346.39 1006.58 2342.57 1006.58 L2338.55 1006.58 L2338.55 1002.74 L2342.76 1002.74 Q2346.21 1002.74 2348.04 1001.37 Q2349.87 999.982 2349.87 997.39 Q2349.87 994.728 2347.97 993.315 Q2346.09 991.88 2342.57 991.88 Q2340.65 991.88 2338.45 992.297 Q2336.26 992.714 2333.62 993.593 L2333.62 989.427 Q2336.28 988.686 2338.59 988.316 Q2340.93 987.945 2342.99 987.945 Q2348.32 987.945 2351.42 990.376 Q2354.52 992.783 2354.52 996.903 Q2354.52 999.774 2352.88 1001.76 Q2351.23 1003.73 2348.2 1004.5 Z\" fill=\"#000000\" fill-rule=\"evenodd\" fill-opacity=\"1\" /><path clip-path=\"url(#clip260)\" d=\"M 0 0 M2373.25 992.644 L2361.44 1011.09 L2373.25 1011.09 L2373.25 992.644 M2372.02 988.57 L2377.9 988.57 L2377.9 1011.09 L2382.83 1011.09 L2382.83 1014.98 L2377.9 1014.98 L2377.9 1023.13 L2373.25 1023.13 L2373.25 1014.98 L2357.64 1014.98 L2357.64 1010.47 L2372.02 988.57 Z\" fill=\"#000000\" fill-rule=\"evenodd\" fill-opacity=\"1\" /><path clip-path=\"url(#clip260)\" d=\"M 0 0 M2387.95 988.57 L2406.3 988.57 L2406.3 992.505 L2392.23 992.505 L2392.23 1000.98 Q2393.25 1000.63 2394.26 1000.47 Q2395.28 1000.28 2396.3 1000.28 Q2402.09 1000.28 2405.47 1003.45 Q2408.85 1006.63 2408.85 1012.04 Q2408.85 1017.62 2405.38 1020.72 Q2401.9 1023.8 2395.58 1023.8 Q2393.41 1023.8 2391.14 1023.43 Q2388.89 1023.06 2386.49 1022.32 L2386.49 1017.62 Q2388.57 1018.76 2390.79 1019.31 Q2393.01 1019.87 2395.49 1019.87 Q2399.5 1019.87 2401.83 1017.76 Q2404.17 1015.65 2404.17 1012.04 Q2404.17 1008.43 2401.83 1006.32 Q2399.5 1004.22 2395.49 1004.22 Q2393.62 1004.22 2391.74 1004.63 Q2389.89 1005.05 2387.95 1005.93 L2387.95 988.57 Z\" fill=\"#000000\" fill-rule=\"evenodd\" fill-opacity=\"1\" /><path clip-path=\"url(#clip260)\" d=\"M 0 0 M2280.7 845.365 Q2277.09 845.365 2275.26 848.93 Q2273.45 852.472 2273.45 859.601 Q2273.45 866.708 2275.26 870.273 Q2277.09 873.814 2280.7 873.814 Q2284.33 873.814 2286.14 870.273 Q2287.97 866.708 2287.97 859.601 Q2287.97 852.472 2286.14 848.93 Q2284.33 845.365 2280.7 845.365 M2280.7 841.662 Q2286.51 841.662 2289.57 846.268 Q2292.64 850.851 2292.64 859.601 Q2292.64 868.328 2289.57 872.935 Q2286.51 877.518 2280.7 877.518 Q2274.89 877.518 2271.81 872.935 Q2268.76 868.328 2268.76 859.601 Q2268.76 850.851 2271.81 846.268 Q2274.89 841.662 2280.7 841.662 Z\" fill=\"#000000\" fill-rule=\"evenodd\" fill-opacity=\"1\" /><path clip-path=\"url(#clip260)\" d=\"M 0 0 M2297.71 870.967 L2302.6 870.967 L2302.6 876.847 L2297.71 876.847 L2297.71 870.967 Z\" fill=\"#000000\" fill-rule=\"evenodd\" fill-opacity=\"1\" /><path clip-path=\"url(#clip260)\" d=\"M 0 0 M2321.83 858.213 Q2325.19 858.93 2327.07 861.199 Q2328.96 863.467 2328.96 866.8 Q2328.96 871.916 2325.45 874.717 Q2321.93 877.518 2315.45 877.518 Q2313.27 877.518 2310.95 877.078 Q2308.66 876.662 2306.21 875.805 L2306.21 871.291 Q2308.15 872.425 2310.47 873.004 Q2312.78 873.583 2315.31 873.583 Q2319.7 873.583 2322 871.847 Q2324.31 870.111 2324.31 866.8 Q2324.31 863.745 2322.16 862.032 Q2320.03 860.296 2316.21 860.296 L2312.18 860.296 L2312.18 856.453 L2316.39 856.453 Q2319.84 856.453 2321.67 855.088 Q2323.5 853.699 2323.5 851.106 Q2323.5 848.444 2321.6 847.032 Q2319.73 845.597 2316.21 845.597 Q2314.29 845.597 2312.09 846.014 Q2309.89 846.43 2307.25 847.31 L2307.25 843.143 Q2309.91 842.402 2312.23 842.032 Q2314.57 841.662 2316.63 841.662 Q2321.95 841.662 2325.05 844.092 Q2328.15 846.5 2328.15 850.62 Q2328.15 853.49 2326.51 855.481 Q2324.87 857.449 2321.83 858.213 Z\" fill=\"#000000\" fill-rule=\"evenodd\" fill-opacity=\"1\" /><path clip-path=\"url(#clip260)\" d=\"M 0 0 M2348.2 858.213 Q2351.56 858.93 2353.43 861.199 Q2355.33 863.467 2355.33 866.8 Q2355.33 871.916 2351.81 874.717 Q2348.29 877.518 2341.81 877.518 Q2339.64 877.518 2337.32 877.078 Q2335.03 876.662 2332.58 875.805 L2332.58 871.291 Q2334.52 872.425 2336.83 873.004 Q2339.15 873.583 2341.67 873.583 Q2346.07 873.583 2348.36 871.847 Q2350.68 870.111 2350.68 866.8 Q2350.68 863.745 2348.52 862.032 Q2346.39 860.296 2342.57 860.296 L2338.55 860.296 L2338.55 856.453 L2342.76 856.453 Q2346.21 856.453 2348.04 855.088 Q2349.87 853.699 2349.87 851.106 Q2349.87 848.444 2347.97 847.032 Q2346.09 845.597 2342.57 845.597 Q2340.65 845.597 2338.45 846.014 Q2336.26 846.43 2333.62 847.31 L2333.62 843.143 Q2336.28 842.402 2338.59 842.032 Q2340.93 841.662 2342.99 841.662 Q2348.32 841.662 2351.42 844.092 Q2354.52 846.5 2354.52 850.62 Q2354.52 853.49 2352.88 855.481 Q2351.23 857.449 2348.2 858.213 Z\" fill=\"#000000\" fill-rule=\"evenodd\" fill-opacity=\"1\" /><path clip-path=\"url(#clip260)\" d=\"M 0 0 M2360.45 842.287 L2378.8 842.287 L2378.8 846.222 L2364.73 846.222 L2364.73 854.694 Q2365.75 854.347 2366.76 854.185 Q2367.78 854 2368.8 854 Q2374.59 854 2377.97 857.171 Q2381.35 860.342 2381.35 865.759 Q2381.35 871.337 2377.88 874.439 Q2374.4 877.518 2368.08 877.518 Q2365.91 877.518 2363.64 877.148 Q2361.39 876.777 2358.99 876.037 L2358.99 871.337 Q2361.07 872.472 2363.29 873.027 Q2365.51 873.583 2367.99 873.583 Q2372 873.583 2374.33 871.476 Q2376.67 869.37 2376.67 865.759 Q2376.67 862.148 2374.33 860.041 Q2372 857.935 2367.99 857.935 Q2366.12 857.935 2364.24 858.351 Q2362.39 858.768 2360.45 859.648 L2360.45 842.287 Z\" fill=\"#000000\" fill-rule=\"evenodd\" fill-opacity=\"1\" /><path clip-path=\"url(#clip260)\" d=\"M 0 0 M2396.42 845.365 Q2392.81 845.365 2390.98 848.93 Q2389.17 852.472 2389.17 859.601 Q2389.17 866.708 2390.98 870.273 Q2392.81 873.814 2396.42 873.814 Q2400.05 873.814 2401.86 870.273 Q2403.69 866.708 2403.69 859.601 Q2403.69 852.472 2401.86 848.93 Q2400.05 845.365 2396.42 845.365 M2396.42 841.662 Q2402.23 841.662 2405.28 846.268 Q2408.36 850.851 2408.36 859.601 Q2408.36 868.328 2405.28 872.935 Q2402.23 877.518 2396.42 877.518 Q2390.61 877.518 2387.53 872.935 Q2384.47 868.328 2384.47 859.601 Q2384.47 850.851 2387.53 846.268 Q2390.61 841.662 2396.42 841.662 Z\" fill=\"#000000\" fill-rule=\"evenodd\" fill-opacity=\"1\" /><path clip-path=\"url(#clip260)\" d=\"M 0 0 M2280.7 699.082 Q2277.09 699.082 2275.26 702.647 Q2273.45 706.188 2273.45 713.318 Q2273.45 720.424 2275.26 723.989 Q2277.09 727.531 2280.7 727.531 Q2284.33 727.531 2286.14 723.989 Q2287.97 720.424 2287.97 713.318 Q2287.97 706.188 2286.14 702.647 Q2284.33 699.082 2280.7 699.082 M2280.7 695.378 Q2286.51 695.378 2289.57 699.985 Q2292.64 704.568 2292.64 713.318 Q2292.64 722.045 2289.57 726.651 Q2286.51 731.235 2280.7 731.235 Q2274.89 731.235 2271.81 726.651 Q2268.76 722.045 2268.76 713.318 Q2268.76 704.568 2271.81 699.985 Q2274.89 695.378 2280.7 695.378 Z\" fill=\"#000000\" fill-rule=\"evenodd\" fill-opacity=\"1\" /><path clip-path=\"url(#clip260)\" d=\"M 0 0 M2297.71 724.684 L2302.6 724.684 L2302.6 730.563 L2297.71 730.563 L2297.71 724.684 Z\" fill=\"#000000\" fill-rule=\"evenodd\" fill-opacity=\"1\" /><path clip-path=\"url(#clip260)\" d=\"M 0 0 M2321.83 711.929 Q2325.19 712.647 2327.07 714.915 Q2328.96 717.184 2328.96 720.517 Q2328.96 725.633 2325.45 728.434 Q2321.93 731.235 2315.45 731.235 Q2313.27 731.235 2310.95 730.795 Q2308.66 730.378 2306.21 729.522 L2306.21 725.008 Q2308.15 726.142 2310.47 726.721 Q2312.78 727.299 2315.31 727.299 Q2319.7 727.299 2322 725.563 Q2324.31 723.827 2324.31 720.517 Q2324.31 717.461 2322.16 715.749 Q2320.03 714.012 2316.21 714.012 L2312.18 714.012 L2312.18 710.17 L2316.39 710.17 Q2319.84 710.17 2321.67 708.804 Q2323.5 707.415 2323.5 704.823 Q2323.5 702.161 2321.6 700.749 Q2319.73 699.313 2316.21 699.313 Q2314.29 699.313 2312.09 699.73 Q2309.89 700.147 2307.25 701.026 L2307.25 696.86 Q2309.91 696.119 2312.23 695.749 Q2314.57 695.378 2316.63 695.378 Q2321.95 695.378 2325.05 697.809 Q2328.15 700.216 2328.15 704.337 Q2328.15 707.207 2326.51 709.198 Q2324.87 711.165 2321.83 711.929 Z\" fill=\"#000000\" fill-rule=\"evenodd\" fill-opacity=\"1\" /><path clip-path=\"url(#clip260)\" d=\"M 0 0 M2348.2 711.929 Q2351.56 712.647 2353.43 714.915 Q2355.33 717.184 2355.33 720.517 Q2355.33 725.633 2351.81 728.434 Q2348.29 731.235 2341.81 731.235 Q2339.64 731.235 2337.32 730.795 Q2335.03 730.378 2332.58 729.522 L2332.58 725.008 Q2334.52 726.142 2336.83 726.721 Q2339.15 727.299 2341.67 727.299 Q2346.07 727.299 2348.36 725.563 Q2350.68 723.827 2350.68 720.517 Q2350.68 717.461 2348.52 715.749 Q2346.39 714.012 2342.57 714.012 L2338.55 714.012 L2338.55 710.17 L2342.76 710.17 Q2346.21 710.17 2348.04 708.804 Q2349.87 707.415 2349.87 704.823 Q2349.87 702.161 2347.97 700.749 Q2346.09 699.313 2342.57 699.313 Q2340.65 699.313 2338.45 699.73 Q2336.26 700.147 2333.62 701.026 L2333.62 696.86 Q2336.28 696.119 2338.59 695.749 Q2340.93 695.378 2342.99 695.378 Q2348.32 695.378 2351.42 697.809 Q2354.52 700.216 2354.52 704.337 Q2354.52 707.207 2352.88 709.198 Q2351.23 711.165 2348.2 711.929 Z\" fill=\"#000000\" fill-rule=\"evenodd\" fill-opacity=\"1\" /><path clip-path=\"url(#clip260)\" d=\"M 0 0 M2360.45 696.003 L2378.8 696.003 L2378.8 699.938 L2364.73 699.938 L2364.73 708.411 Q2365.75 708.063 2366.76 707.901 Q2367.78 707.716 2368.8 707.716 Q2374.59 707.716 2377.97 710.887 Q2381.35 714.059 2381.35 719.475 Q2381.35 725.054 2377.88 728.156 Q2374.4 731.235 2368.08 731.235 Q2365.91 731.235 2363.64 730.864 Q2361.39 730.494 2358.99 729.753 L2358.99 725.054 Q2361.07 726.188 2363.29 726.744 Q2365.51 727.299 2367.99 727.299 Q2372 727.299 2374.33 725.193 Q2376.67 723.086 2376.67 719.475 Q2376.67 715.864 2374.33 713.758 Q2372 711.651 2367.99 711.651 Q2366.12 711.651 2364.24 712.068 Q2362.39 712.485 2360.45 713.364 L2360.45 696.003 Z\" fill=\"#000000\" fill-rule=\"evenodd\" fill-opacity=\"1\" /><path clip-path=\"url(#clip260)\" d=\"M 0 0 M2386.46 696.003 L2404.82 696.003 L2404.82 699.938 L2390.75 699.938 L2390.75 708.411 Q2391.76 708.063 2392.78 707.901 Q2393.8 707.716 2394.82 707.716 Q2400.61 707.716 2403.99 710.887 Q2407.37 714.059 2407.37 719.475 Q2407.37 725.054 2403.89 728.156 Q2400.42 731.235 2394.1 731.235 Q2391.93 731.235 2389.66 730.864 Q2387.41 730.494 2385.01 729.753 L2385.01 725.054 Q2387.09 726.188 2389.31 726.744 Q2391.53 727.299 2394.01 727.299 Q2398.01 727.299 2400.35 725.193 Q2402.69 723.086 2402.69 719.475 Q2402.69 715.864 2400.35 713.758 Q2398.01 711.651 2394.01 711.651 Q2392.13 711.651 2390.26 712.068 Q2388.41 712.485 2386.46 713.364 L2386.46 696.003 Z\" fill=\"#000000\" fill-rule=\"evenodd\" fill-opacity=\"1\" /><path clip-path=\"url(#clip260)\" d=\"M 0 0 M2280.7 552.798 Q2277.09 552.798 2275.26 556.363 Q2273.45 559.905 2273.45 567.035 Q2273.45 574.141 2275.26 577.706 Q2277.09 581.247 2280.7 581.247 Q2284.33 581.247 2286.14 577.706 Q2287.97 574.141 2287.97 567.035 Q2287.97 559.905 2286.14 556.363 Q2284.33 552.798 2280.7 552.798 M2280.7 549.095 Q2286.51 549.095 2289.57 553.701 Q2292.64 558.285 2292.64 567.035 Q2292.64 575.761 2289.57 580.368 Q2286.51 584.951 2280.7 584.951 Q2274.89 584.951 2271.81 580.368 Q2268.76 575.761 2268.76 567.035 Q2268.76 558.285 2271.81 553.701 Q2274.89 549.095 2280.7 549.095 Z\" fill=\"#000000\" fill-rule=\"evenodd\" fill-opacity=\"1\" /><path clip-path=\"url(#clip260)\" d=\"M 0 0 M2297.71 578.4 L2302.6 578.4 L2302.6 584.28 L2297.71 584.28 L2297.71 578.4 Z\" fill=\"#000000\" fill-rule=\"evenodd\" fill-opacity=\"1\" /><path clip-path=\"url(#clip260)\" d=\"M 0 0 M2321.83 565.646 Q2325.19 566.363 2327.07 568.632 Q2328.96 570.9 2328.96 574.234 Q2328.96 579.349 2325.45 582.15 Q2321.93 584.951 2315.45 584.951 Q2313.27 584.951 2310.95 584.511 Q2308.66 584.095 2306.21 583.238 L2306.21 578.724 Q2308.15 579.859 2310.47 580.437 Q2312.78 581.016 2315.31 581.016 Q2319.7 581.016 2322 579.28 Q2324.31 577.544 2324.31 574.234 Q2324.31 571.178 2322.16 569.465 Q2320.03 567.729 2316.21 567.729 L2312.18 567.729 L2312.18 563.886 L2316.39 563.886 Q2319.84 563.886 2321.67 562.521 Q2323.5 561.132 2323.5 558.539 Q2323.5 555.877 2321.6 554.465 Q2319.73 553.03 2316.21 553.03 Q2314.29 553.03 2312.09 553.447 Q2309.89 553.863 2307.25 554.743 L2307.25 550.576 Q2309.91 549.836 2312.23 549.465 Q2314.57 549.095 2316.63 549.095 Q2321.95 549.095 2325.05 551.525 Q2328.15 553.933 2328.15 558.053 Q2328.15 560.923 2326.51 562.914 Q2324.87 564.882 2321.83 565.646 Z\" fill=\"#000000\" fill-rule=\"evenodd\" fill-opacity=\"1\" /><path clip-path=\"url(#clip260)\" d=\"M 0 0 M2348.2 565.646 Q2351.56 566.363 2353.43 568.632 Q2355.33 570.9 2355.33 574.234 Q2355.33 579.349 2351.81 582.15 Q2348.29 584.951 2341.81 584.951 Q2339.64 584.951 2337.32 584.511 Q2335.03 584.095 2332.58 583.238 L2332.58 578.724 Q2334.52 579.859 2336.83 580.437 Q2339.15 581.016 2341.67 581.016 Q2346.07 581.016 2348.36 579.28 Q2350.68 577.544 2350.68 574.234 Q2350.68 571.178 2348.52 569.465 Q2346.39 567.729 2342.57 567.729 L2338.55 567.729 L2338.55 563.886 L2342.76 563.886 Q2346.21 563.886 2348.04 562.521 Q2349.87 561.132 2349.87 558.539 Q2349.87 555.877 2347.97 554.465 Q2346.09 553.03 2342.57 553.03 Q2340.65 553.03 2338.45 553.447 Q2336.26 553.863 2333.62 554.743 L2333.62 550.576 Q2336.28 549.836 2338.59 549.465 Q2340.93 549.095 2342.99 549.095 Q2348.32 549.095 2351.42 551.525 Q2354.52 553.933 2354.52 558.053 Q2354.52 560.923 2352.88 562.914 Q2351.23 564.882 2348.2 565.646 Z\" fill=\"#000000\" fill-rule=\"evenodd\" fill-opacity=\"1\" /><path clip-path=\"url(#clip260)\" d=\"M 0 0 M2370.98 565.136 Q2367.83 565.136 2365.98 567.289 Q2364.15 569.442 2364.15 573.192 Q2364.15 576.919 2365.98 579.095 Q2367.83 581.247 2370.98 581.247 Q2374.13 581.247 2375.95 579.095 Q2377.81 576.919 2377.81 573.192 Q2377.81 569.442 2375.95 567.289 Q2374.13 565.136 2370.98 565.136 M2380.26 550.484 L2380.26 554.743 Q2378.5 553.91 2376.7 553.47 Q2374.91 553.03 2373.15 553.03 Q2368.52 553.03 2366.07 556.155 Q2363.64 559.28 2363.29 565.599 Q2364.66 563.585 2366.72 562.521 Q2368.78 561.433 2371.26 561.433 Q2376.46 561.433 2379.47 564.604 Q2382.51 567.752 2382.51 573.192 Q2382.51 578.516 2379.36 581.734 Q2376.21 584.951 2370.98 584.951 Q2364.98 584.951 2361.81 580.368 Q2358.64 575.761 2358.64 567.035 Q2358.64 558.84 2362.53 553.979 Q2366.42 549.095 2372.97 549.095 Q2374.73 549.095 2376.51 549.442 Q2378.32 549.789 2380.26 550.484 Z\" fill=\"#000000\" fill-rule=\"evenodd\" fill-opacity=\"1\" /><path clip-path=\"url(#clip260)\" d=\"M 0 0 M2397.57 552.798 Q2393.96 552.798 2392.13 556.363 Q2390.33 559.905 2390.33 567.035 Q2390.33 574.141 2392.13 577.706 Q2393.96 581.247 2397.57 581.247 Q2401.21 581.247 2403.01 577.706 Q2404.84 574.141 2404.84 567.035 Q2404.84 559.905 2403.01 556.363 Q2401.21 552.798 2397.57 552.798 M2397.57 549.095 Q2403.38 549.095 2406.44 553.701 Q2409.52 558.285 2409.52 567.035 Q2409.52 575.761 2406.44 580.368 Q2403.38 584.951 2397.57 584.951 Q2391.76 584.951 2388.69 580.368 Q2385.63 575.761 2385.63 567.035 Q2385.63 558.285 2388.69 553.701 Q2391.76 549.095 2397.57 549.095 Z\" fill=\"#000000\" fill-rule=\"evenodd\" fill-opacity=\"1\" /><path clip-path=\"url(#clip260)\" d=\"M 0 0 M2280.7 406.515 Q2277.09 406.515 2275.26 410.08 Q2273.45 413.621 2273.45 420.751 Q2273.45 427.857 2275.26 431.422 Q2277.09 434.964 2280.7 434.964 Q2284.33 434.964 2286.14 431.422 Q2287.97 427.857 2287.97 420.751 Q2287.97 413.621 2286.14 410.08 Q2284.33 406.515 2280.7 406.515 M2280.7 402.811 Q2286.51 402.811 2289.57 407.418 Q2292.64 412.001 2292.64 420.751 Q2292.64 429.478 2289.57 434.084 Q2286.51 438.668 2280.7 438.668 Q2274.89 438.668 2271.81 434.084 Q2268.76 429.478 2268.76 420.751 Q2268.76 412.001 2271.81 407.418 Q2274.89 402.811 2280.7 402.811 Z\" fill=\"#000000\" fill-rule=\"evenodd\" fill-opacity=\"1\" /><path clip-path=\"url(#clip260)\" d=\"M 0 0 M2297.71 432.117 L2302.6 432.117 L2302.6 437.996 L2297.71 437.996 L2297.71 432.117 Z\" fill=\"#000000\" fill-rule=\"evenodd\" fill-opacity=\"1\" /><path clip-path=\"url(#clip260)\" d=\"M 0 0 M2321.83 419.362 Q2325.19 420.08 2327.07 422.348 Q2328.96 424.617 2328.96 427.95 Q2328.96 433.066 2325.45 435.867 Q2321.93 438.668 2315.45 438.668 Q2313.27 438.668 2310.95 438.228 Q2308.66 437.811 2306.21 436.955 L2306.21 432.441 Q2308.15 433.575 2310.47 434.154 Q2312.78 434.732 2315.31 434.732 Q2319.7 434.732 2322 432.996 Q2324.31 431.26 2324.31 427.95 Q2324.31 424.895 2322.16 423.182 Q2320.03 421.445 2316.21 421.445 L2312.18 421.445 L2312.18 417.603 L2316.39 417.603 Q2319.84 417.603 2321.67 416.237 Q2323.5 414.848 2323.5 412.256 Q2323.5 409.594 2321.6 408.182 Q2319.73 406.746 2316.21 406.746 Q2314.29 406.746 2312.09 407.163 Q2309.89 407.58 2307.25 408.459 L2307.25 404.293 Q2309.91 403.552 2312.23 403.182 Q2314.57 402.811 2316.63 402.811 Q2321.95 402.811 2325.05 405.242 Q2328.15 407.649 2328.15 411.77 Q2328.15 414.64 2326.51 416.631 Q2324.87 418.598 2321.83 419.362 Z\" fill=\"#000000\" fill-rule=\"evenodd\" fill-opacity=\"1\" /><path clip-path=\"url(#clip260)\" d=\"M 0 0 M2348.2 419.362 Q2351.56 420.08 2353.43 422.348 Q2355.33 424.617 2355.33 427.95 Q2355.33 433.066 2351.81 435.867 Q2348.29 438.668 2341.81 438.668 Q2339.64 438.668 2337.32 438.228 Q2335.03 437.811 2332.58 436.955 L2332.58 432.441 Q2334.52 433.575 2336.83 434.154 Q2339.15 434.732 2341.67 434.732 Q2346.07 434.732 2348.36 432.996 Q2350.68 431.26 2350.68 427.95 Q2350.68 424.895 2348.52 423.182 Q2346.39 421.445 2342.57 421.445 L2338.55 421.445 L2338.55 417.603 L2342.76 417.603 Q2346.21 417.603 2348.04 416.237 Q2349.87 414.848 2349.87 412.256 Q2349.87 409.594 2347.97 408.182 Q2346.09 406.746 2342.57 406.746 Q2340.65 406.746 2338.45 407.163 Q2336.26 407.58 2333.62 408.459 L2333.62 404.293 Q2336.28 403.552 2338.59 403.182 Q2340.93 402.811 2342.99 402.811 Q2348.32 402.811 2351.42 405.242 Q2354.52 407.649 2354.52 411.77 Q2354.52 414.64 2352.88 416.631 Q2351.23 418.598 2348.2 419.362 Z\" fill=\"#000000\" fill-rule=\"evenodd\" fill-opacity=\"1\" /><path clip-path=\"url(#clip260)\" d=\"M 0 0 M2370.98 418.853 Q2367.83 418.853 2365.98 421.006 Q2364.15 423.158 2364.15 426.908 Q2364.15 430.635 2365.98 432.811 Q2367.83 434.964 2370.98 434.964 Q2374.13 434.964 2375.95 432.811 Q2377.81 430.635 2377.81 426.908 Q2377.81 423.158 2375.95 421.006 Q2374.13 418.853 2370.98 418.853 M2380.26 404.2 L2380.26 408.459 Q2378.5 407.626 2376.7 407.186 Q2374.91 406.746 2373.15 406.746 Q2368.52 406.746 2366.07 409.871 Q2363.64 412.996 2363.29 419.316 Q2364.66 417.302 2366.72 416.237 Q2368.78 415.149 2371.26 415.149 Q2376.46 415.149 2379.47 418.321 Q2382.51 421.469 2382.51 426.908 Q2382.51 432.232 2379.36 435.45 Q2376.21 438.668 2370.98 438.668 Q2364.98 438.668 2361.81 434.084 Q2358.64 429.478 2358.64 420.751 Q2358.64 412.557 2362.53 407.696 Q2366.42 402.811 2372.97 402.811 Q2374.73 402.811 2376.51 403.159 Q2378.32 403.506 2380.26 404.2 Z\" fill=\"#000000\" fill-rule=\"evenodd\" fill-opacity=\"1\" /><path clip-path=\"url(#clip260)\" d=\"M 0 0 M2387.62 403.436 L2405.98 403.436 L2405.98 407.371 L2391.9 407.371 L2391.9 415.844 Q2392.92 415.496 2393.94 415.334 Q2394.96 415.149 2395.98 415.149 Q2401.76 415.149 2405.14 418.321 Q2408.52 421.492 2408.52 426.908 Q2408.52 432.487 2405.05 435.589 Q2401.58 438.668 2395.26 438.668 Q2393.08 438.668 2390.82 438.297 Q2388.57 437.927 2386.16 437.186 L2386.16 432.487 Q2388.25 433.621 2390.47 434.177 Q2392.69 434.732 2395.17 434.732 Q2399.17 434.732 2401.51 432.626 Q2403.85 430.52 2403.85 426.908 Q2403.85 423.297 2401.51 421.191 Q2399.17 419.084 2395.17 419.084 Q2393.29 419.084 2391.42 419.501 Q2389.57 419.918 2387.62 420.797 L2387.62 403.436 Z\" fill=\"#000000\" fill-rule=\"evenodd\" fill-opacity=\"1\" /><path clip-path=\"url(#clip260)\" d=\"M 0 0 M2280.7 260.232 Q2277.09 260.232 2275.26 263.796 Q2273.45 267.338 2273.45 274.468 Q2273.45 281.574 2275.26 285.139 Q2277.09 288.68 2280.7 288.68 Q2284.33 288.68 2286.14 285.139 Q2287.97 281.574 2287.97 274.468 Q2287.97 267.338 2286.14 263.796 Q2284.33 260.232 2280.7 260.232 M2280.7 256.528 Q2286.51 256.528 2289.57 261.134 Q2292.64 265.718 2292.64 274.468 Q2292.64 283.194 2289.57 287.801 Q2286.51 292.384 2280.7 292.384 Q2274.89 292.384 2271.81 287.801 Q2268.76 283.194 2268.76 274.468 Q2268.76 265.718 2271.81 261.134 Q2274.89 256.528 2280.7 256.528 Z\" fill=\"#000000\" fill-rule=\"evenodd\" fill-opacity=\"1\" /><path clip-path=\"url(#clip260)\" d=\"M 0 0 M2297.71 285.833 L2302.6 285.833 L2302.6 291.713 L2297.71 291.713 L2297.71 285.833 Z\" fill=\"#000000\" fill-rule=\"evenodd\" fill-opacity=\"1\" /><path clip-path=\"url(#clip260)\" d=\"M 0 0 M2321.83 273.079 Q2325.19 273.796 2327.07 276.065 Q2328.96 278.333 2328.96 281.667 Q2328.96 286.782 2325.45 289.583 Q2321.93 292.384 2315.45 292.384 Q2313.27 292.384 2310.95 291.944 Q2308.66 291.528 2306.21 290.671 L2306.21 286.157 Q2308.15 287.292 2310.47 287.87 Q2312.78 288.449 2315.31 288.449 Q2319.7 288.449 2322 286.713 Q2324.31 284.977 2324.31 281.667 Q2324.31 278.611 2322.16 276.898 Q2320.03 275.162 2316.21 275.162 L2312.18 275.162 L2312.18 271.319 L2316.39 271.319 Q2319.84 271.319 2321.67 269.954 Q2323.5 268.565 2323.5 265.972 Q2323.5 263.31 2321.6 261.898 Q2319.73 260.463 2316.21 260.463 Q2314.29 260.463 2312.09 260.88 Q2309.89 261.296 2307.25 262.176 L2307.25 258.009 Q2309.91 257.269 2312.23 256.898 Q2314.57 256.528 2316.63 256.528 Q2321.95 256.528 2325.05 258.958 Q2328.15 261.366 2328.15 265.486 Q2328.15 268.357 2326.51 270.347 Q2324.87 272.315 2321.83 273.079 Z\" fill=\"#000000\" fill-rule=\"evenodd\" fill-opacity=\"1\" /><path clip-path=\"url(#clip260)\" d=\"M 0 0 M2348.2 273.079 Q2351.56 273.796 2353.43 276.065 Q2355.33 278.333 2355.33 281.667 Q2355.33 286.782 2351.81 289.583 Q2348.29 292.384 2341.81 292.384 Q2339.64 292.384 2337.32 291.944 Q2335.03 291.528 2332.58 290.671 L2332.58 286.157 Q2334.52 287.292 2336.83 287.87 Q2339.15 288.449 2341.67 288.449 Q2346.07 288.449 2348.36 286.713 Q2350.68 284.977 2350.68 281.667 Q2350.68 278.611 2348.52 276.898 Q2346.39 275.162 2342.57 275.162 L2338.55 275.162 L2338.55 271.319 L2342.76 271.319 Q2346.21 271.319 2348.04 269.954 Q2349.87 268.565 2349.87 265.972 Q2349.87 263.31 2347.97 261.898 Q2346.09 260.463 2342.57 260.463 Q2340.65 260.463 2338.45 260.88 Q2336.26 261.296 2333.62 262.176 L2333.62 258.009 Q2336.28 257.269 2338.59 256.898 Q2340.93 256.528 2342.99 256.528 Q2348.32 256.528 2351.42 258.958 Q2354.52 261.366 2354.52 265.486 Q2354.52 268.357 2352.88 270.347 Q2351.23 272.315 2348.2 273.079 Z\" fill=\"#000000\" fill-rule=\"evenodd\" fill-opacity=\"1\" /><path clip-path=\"url(#clip260)\" d=\"M 0 0 M2359.22 257.153 L2381.44 257.153 L2381.44 259.144 L2368.89 291.713 L2364.01 291.713 L2375.82 261.088 L2359.22 261.088 L2359.22 257.153 Z\" fill=\"#000000\" fill-rule=\"evenodd\" fill-opacity=\"1\" /><path clip-path=\"url(#clip260)\" d=\"M 0 0 M2396.51 260.232 Q2392.9 260.232 2391.07 263.796 Q2389.26 267.338 2389.26 274.468 Q2389.26 281.574 2391.07 285.139 Q2392.9 288.68 2396.51 288.68 Q2400.14 288.68 2401.95 285.139 Q2403.78 281.574 2403.78 274.468 Q2403.78 267.338 2401.95 263.796 Q2400.14 260.232 2396.51 260.232 M2396.51 256.528 Q2402.32 256.528 2405.38 261.134 Q2408.45 265.718 2408.45 274.468 Q2408.45 283.194 2405.38 287.801 Q2402.32 292.384 2396.51 292.384 Q2390.7 292.384 2387.62 287.801 Q2384.57 283.194 2384.57 274.468 Q2384.57 265.718 2387.62 261.134 Q2390.7 256.528 2396.51 256.528 Z\" fill=\"#000000\" fill-rule=\"evenodd\" fill-opacity=\"1\" /><path clip-path=\"url(#clip260)\" d=\"M 0 0 M2280.7 113.948 Q2277.09 113.948 2275.26 117.513 Q2273.45 121.055 2273.45 128.184 Q2273.45 135.291 2275.26 138.855 Q2277.09 142.397 2280.7 142.397 Q2284.33 142.397 2286.14 138.855 Q2287.97 135.291 2287.97 128.184 Q2287.97 121.055 2286.14 117.513 Q2284.33 113.948 2280.7 113.948 M2280.7 110.244 Q2286.51 110.244 2289.57 114.851 Q2292.64 119.434 2292.64 128.184 Q2292.64 136.911 2289.57 141.517 Q2286.51 146.101 2280.7 146.101 Q2274.89 146.101 2271.81 141.517 Q2268.76 136.911 2268.76 128.184 Q2268.76 119.434 2271.81 114.851 Q2274.89 110.244 2280.7 110.244 Z\" fill=\"#000000\" fill-rule=\"evenodd\" fill-opacity=\"1\" /><path clip-path=\"url(#clip260)\" d=\"M 0 0 M2297.71 139.55 L2302.6 139.55 L2302.6 145.429 L2297.71 145.429 L2297.71 139.55 Z\" fill=\"#000000\" fill-rule=\"evenodd\" fill-opacity=\"1\" /><path clip-path=\"url(#clip260)\" d=\"M 0 0 M2321.83 126.795 Q2325.19 127.513 2327.07 129.781 Q2328.96 132.05 2328.96 135.383 Q2328.96 140.499 2325.45 143.3 Q2321.93 146.101 2315.45 146.101 Q2313.27 146.101 2310.95 145.661 Q2308.66 145.244 2306.21 144.388 L2306.21 139.874 Q2308.15 141.008 2310.47 141.587 Q2312.78 142.166 2315.31 142.166 Q2319.7 142.166 2322 140.429 Q2324.31 138.693 2324.31 135.383 Q2324.31 132.328 2322.16 130.615 Q2320.03 128.879 2316.21 128.879 L2312.18 128.879 L2312.18 125.036 L2316.39 125.036 Q2319.84 125.036 2321.67 123.67 Q2323.5 122.281 2323.5 119.689 Q2323.5 117.027 2321.6 115.615 Q2319.73 114.18 2316.21 114.18 Q2314.29 114.18 2312.09 114.596 Q2309.89 115.013 2307.25 115.893 L2307.25 111.726 Q2309.91 110.985 2312.23 110.615 Q2314.57 110.244 2316.63 110.244 Q2321.95 110.244 2325.05 112.675 Q2328.15 115.082 2328.15 119.203 Q2328.15 122.073 2326.51 124.064 Q2324.87 126.031 2321.83 126.795 Z\" fill=\"#000000\" fill-rule=\"evenodd\" fill-opacity=\"1\" /><path clip-path=\"url(#clip260)\" d=\"M 0 0 M2348.2 126.795 Q2351.56 127.513 2353.43 129.781 Q2355.33 132.05 2355.33 135.383 Q2355.33 140.499 2351.81 143.3 Q2348.29 146.101 2341.81 146.101 Q2339.64 146.101 2337.32 145.661 Q2335.03 145.244 2332.58 144.388 L2332.58 139.874 Q2334.52 141.008 2336.83 141.587 Q2339.15 142.166 2341.67 142.166 Q2346.07 142.166 2348.36 140.429 Q2350.68 138.693 2350.68 135.383 Q2350.68 132.328 2348.52 130.615 Q2346.39 128.879 2342.57 128.879 L2338.55 128.879 L2338.55 125.036 L2342.76 125.036 Q2346.21 125.036 2348.04 123.67 Q2349.87 122.281 2349.87 119.689 Q2349.87 117.027 2347.97 115.615 Q2346.09 114.18 2342.57 114.18 Q2340.65 114.18 2338.45 114.596 Q2336.26 115.013 2333.62 115.893 L2333.62 111.726 Q2336.28 110.985 2338.59 110.615 Q2340.93 110.244 2342.99 110.244 Q2348.32 110.244 2351.42 112.675 Q2354.52 115.082 2354.52 119.203 Q2354.52 122.073 2352.88 124.064 Q2351.23 126.031 2348.2 126.795 Z\" fill=\"#000000\" fill-rule=\"evenodd\" fill-opacity=\"1\" /><path clip-path=\"url(#clip260)\" d=\"M 0 0 M2359.22 110.869 L2381.44 110.869 L2381.44 112.86 L2368.89 145.429 L2364.01 145.429 L2375.82 114.805 L2359.22 114.805 L2359.22 110.869 Z\" fill=\"#000000\" fill-rule=\"evenodd\" fill-opacity=\"1\" /><path clip-path=\"url(#clip260)\" d=\"M 0 0 M2386.56 110.869 L2404.91 110.869 L2404.91 114.805 L2390.84 114.805 L2390.84 123.277 Q2391.86 122.93 2392.88 122.768 Q2393.89 122.582 2394.91 122.582 Q2400.7 122.582 2404.08 125.754 Q2407.46 128.925 2407.46 134.342 Q2407.46 139.92 2403.99 143.022 Q2400.51 146.101 2394.2 146.101 Q2392.02 146.101 2389.75 145.73 Q2387.51 145.36 2385.1 144.619 L2385.1 139.92 Q2387.18 141.054 2389.4 141.61 Q2391.63 142.166 2394.1 142.166 Q2398.11 142.166 2400.45 140.059 Q2402.78 137.953 2402.78 134.342 Q2402.78 130.73 2400.45 128.624 Q2398.11 126.517 2394.1 126.517 Q2392.23 126.517 2390.35 126.934 Q2388.5 127.351 2386.56 128.23 L2386.56 110.869 Z\" fill=\"#000000\" fill-rule=\"evenodd\" fill-opacity=\"1\" /><polyline clip-path=\"url(#clip260)\" style=\"stroke:#000000; stroke-width:4; stroke-opacity:1; fill:none\" points=\"\n",
       "  2232.76,1410.9 2232.76,1302.05 2256.76,1302.05 2232.76,1302.05 2232.76,1155.76 2256.76,1155.76 2232.76,1155.76 2232.76,1009.48 2256.76,1009.48 2232.76,1009.48 \n",
       "  2232.76,863.195 2256.76,863.195 2232.76,863.195 2232.76,716.912 2256.76,716.912 2232.76,716.912 2232.76,570.629 2256.76,570.629 2232.76,570.629 2232.76,424.345 \n",
       "  2256.76,424.345 2232.76,424.345 2232.76,278.062 2256.76,278.062 2232.76,278.062 2232.76,131.778 2256.76,131.778 2232.76,131.778 2232.76,47.2441 \n",
       "  \"/>\n",
       "</svg>\n"
      ]
     },
     "execution_count": 98,
     "metadata": {},
     "output_type": "execute_result"
    }
   ],
   "source": [
    "plot(self_tuning_nn)"
   ]
  },
  {
   "cell_type": "code",
   "execution_count": 99,
   "metadata": {},
   "outputs": [
    {
     "data": {
      "text/plain": [
       "(best_model = \u001b[34mNeuralNetworkClassifier{CustomNN,…} @733\u001b[39m,\n",
       " best_fitted_params = (chain = Chain(Chain(Dense(8, 23, σ), Dense(23, 10, σ), Dense(10, 2, σ)), softmax),),)"
      ]
     },
     "execution_count": 99,
     "metadata": {},
     "output_type": "execute_result"
    }
   ],
   "source": [
    "best = fitted_params(self_tuning_nn)\n",
    "best"
   ]
  },
  {
   "cell_type": "code",
   "execution_count": 100,
   "metadata": {},
   "outputs": [
    {
     "data": {
      "text/plain": [
       "NeuralNetworkClassifier(\n",
       "    builder = CustomNN(\n",
       "            n1 = 23,\n",
       "            n2 = 10),\n",
       "    finaliser = NNlib.softmax,\n",
       "    optimiser = ADAM(0.001, (0.9, 0.999), IdDict{Any,Any}()),\n",
       "    loss = Flux.crossentropy,\n",
       "    epochs = 72,\n",
       "    batch_size = 16,\n",
       "    lambda = 0.01,\n",
       "    alpha = 0.0,\n",
       "    optimiser_changes_trigger_retraining = false)\u001b[34m @733\u001b[39m"
      ]
     },
     "execution_count": 100,
     "metadata": {},
     "output_type": "execute_result"
    }
   ],
   "source": [
    "best.best_model"
   ]
  },
  {
   "cell_type": "code",
   "execution_count": 101,
   "metadata": {
    "scrolled": true
   },
   "outputs": [
    {
     "data": {
      "text/plain": [
       "0.33312795f0"
      ]
     },
     "execution_count": 101,
     "metadata": {},
     "output_type": "execute_result"
    }
   ],
   "source": [
    "best_loss = z.report.best_result.measurement[1]"
   ]
  },
  {
   "cell_type": "code",
   "execution_count": 102,
   "metadata": {
    "scrolled": true
   },
   "outputs": [
    {
     "data": {
      "text/plain": [
       "10"
      ]
     },
     "execution_count": 102,
     "metadata": {},
     "output_type": "execute_result"
    }
   ],
   "source": [
    "best_n2 = best.best_model.builder.n2"
   ]
  },
  {
   "cell_type": "code",
   "execution_count": 103,
   "metadata": {},
   "outputs": [],
   "source": [
    "fn = \"Figures/Grid_NN_$(param1):$(best.best_model.epochs)_x_$(param2):$(best_n2)_bestloss:$(best_loss)\"\n",
    "png(replace(fn,'.' => ','))"
   ]
  },
  {
   "cell_type": "markdown",
   "metadata": {},
   "source": [
    "### GridSearch for Learning Rate"
   ]
  },
  {
   "cell_type": "code",
   "execution_count": 119,
   "metadata": {
    "scrolled": true
   },
   "outputs": [
    {
     "data": {
      "text/plain": [
       "NeuralNetworkClassifier(\n",
       "    builder = CustomNN(\n",
       "            n1 = 23,\n",
       "            n2 = 10),\n",
       "    finaliser = NNlib.softmax,\n",
       "    optimiser = ADAM(0.001, (0.9, 0.999), IdDict{Any,Any}()),\n",
       "    loss = Flux.crossentropy,\n",
       "    epochs = 10,\n",
       "    batch_size = 1,\n",
       "    lambda = 0.0,\n",
       "    alpha = 0.0,\n",
       "    optimiser_changes_trigger_retraining = false)\u001b[34m @609\u001b[39m"
      ]
     },
     "execution_count": 119,
     "metadata": {},
     "output_type": "execute_result"
    }
   ],
   "source": [
    "nn = NeuralNetworkClassifier(builder=CustomNN(best_n1,best_n2))"
   ]
  },
  {
   "cell_type": "code",
   "execution_count": 120,
   "metadata": {},
   "outputs": [
    {
     "data": {
      "text/plain": [
       "0.01"
      ]
     },
     "execution_count": 120,
     "metadata": {},
     "output_type": "execute_result"
    }
   ],
   "source": [
    "nn.optimiser.eta = 0.001\n",
    "nn.epochs = 60\n",
    "nn.batch_size = batch_sz\n",
    "nn.lambda = 0.01"
   ]
  },
  {
   "cell_type": "code",
   "execution_count": 121,
   "metadata": {},
   "outputs": [
    {
     "data": {
      "text/plain": [
       "\u001b[34mMachine{NeuralNetworkClassifier{CustomNN,…}} @989\u001b[39m trained 0 times.\n",
       "  args: \n",
       "    1:\t\u001b[34mSource @376\u001b[39m ⏎ `Table{AbstractArray{Continuous,1}}`\n",
       "    2:\t\u001b[34mSource @708\u001b[39m ⏎ `AbstractArray{Multiclass{2},1}`\n"
      ]
     },
     "execution_count": 121,
     "metadata": {},
     "output_type": "execute_result"
    }
   ],
   "source": [
    "Net = machine(nn, X_stand, y)"
   ]
  },
  {
   "cell_type": "code",
   "execution_count": 122,
   "metadata": {},
   "outputs": [
    {
     "name": "stderr",
     "output_type": "stream",
     "text": [
      "┌ Info: Training \u001b[34mMachine{NeuralNetworkClassifier{CustomNN,…}} @989\u001b[39m.\n",
      "└ @ MLJBase /home/andrew/.julia/packages/MLJBase/uKzAz/src/machines.jl:319\n",
      "\u001b[33mOptimising neural net:100%[=========================] Time: 0:00:07\u001b[39m\n"
     ]
    },
    {
     "data": {
      "text/plain": [
       "\u001b[34mMachine{NeuralNetworkClassifier{CustomNN,…}} @989\u001b[39m trained 1 time.\n",
       "  args: \n",
       "    1:\t\u001b[34mSource @376\u001b[39m ⏎ `Table{AbstractArray{Continuous,1}}`\n",
       "    2:\t\u001b[34mSource @708\u001b[39m ⏎ `AbstractArray{Multiclass{2},1}`\n"
      ]
     },
     "execution_count": 122,
     "metadata": {},
     "output_type": "execute_result"
    }
   ],
   "source": [
    "fit!(Net, rows=train, verbosity=1, force=true)"
   ]
  },
  {
   "cell_type": "code",
   "execution_count": 129,
   "metadata": {},
   "outputs": [
    {
     "data": {
      "text/plain": [
       "MLJBase.NumericRange(Float64, :(optimiser.eta), ... )"
      ]
     },
     "execution_count": 129,
     "metadata": {},
     "output_type": "execute_result"
    }
   ],
   "source": [
    "param1 = :epochs\n",
    "param2 = :(optimiser.eta)\n",
    "\n",
    "r1 = range(nn, param1, lower=10, upper=100, scale=:linear)\n",
    "r2 = range(nn, param2, lower=0.0001, upper=0.1, scale=:log10)"
   ]
  },
  {
   "cell_type": "code",
   "execution_count": 130,
   "metadata": {
    "scrolled": true
   },
   "outputs": [
    {
     "data": {
      "text/plain": [
       "ProbabilisticTunedModel(\n",
       "    model = NeuralNetworkClassifier(\n",
       "            builder = \u001b[34mCustomNN @102\u001b[39m,\n",
       "            finaliser = NNlib.softmax,\n",
       "            optimiser = ADAM(0.001, (0.9, 0.999), IdDict{Any,Any}()),\n",
       "            loss = Flux.crossentropy,\n",
       "            epochs = 60,\n",
       "            batch_size = 16,\n",
       "            lambda = 0.01,\n",
       "            alpha = 0.0,\n",
       "            optimiser_changes_trigger_retraining = false),\n",
       "    tuning = Grid(\n",
       "            goal = 49,\n",
       "            resolution = 10,\n",
       "            shuffle = true,\n",
       "            rng = Random._GLOBAL_RNG()),\n",
       "    resampling = Holdout(\n",
       "            fraction_train = 0.7,\n",
       "            shuffle = false,\n",
       "            rng = Random._GLOBAL_RNG()),\n",
       "    measure = cross_entropy(\n",
       "            eps = 2.220446049250313e-16),\n",
       "    weights = nothing,\n",
       "    operation = MLJModelInterface.predict,\n",
       "    range = MLJBase.NumericRange{T,MLJBase.Bounded,Symbol} where T[\u001b[34mNumericRange{Int64,…} @660\u001b[39m, \u001b[34mNumericRange{Float64,…} @007\u001b[39m],\n",
       "    train_best = true,\n",
       "    repeats = 1,\n",
       "    n = nothing,\n",
       "    acceleration = CPU1{Nothing}(nothing),\n",
       "    acceleration_resampling = CPU1{Nothing}(nothing),\n",
       "    check_measure = true)\u001b[34m @998\u001b[39m"
      ]
     },
     "execution_count": 130,
     "metadata": {},
     "output_type": "execute_result"
    }
   ],
   "source": [
    "self_tuning_nn_model = TunedModel(model=nn,\n",
    "                                    tuning=Grid(goal=49),\n",
    "                                    resampling=Holdout(fraction_train=0.7), \n",
    "                                    measure=cross_entropy,\n",
    "#                                     acceleration=CPUThreads(),\n",
    "                                    range=[r1, r2])"
   ]
  },
  {
   "cell_type": "code",
   "execution_count": 131,
   "metadata": {},
   "outputs": [
    {
     "data": {
      "text/plain": [
       "\u001b[34mMachine{ProbabilisticTunedModel{Grid,…}} @215\u001b[39m trained 0 times.\n",
       "  args: \n",
       "    1:\t\u001b[34mSource @480\u001b[39m ⏎ `Table{AbstractArray{Continuous,1}}`\n",
       "    2:\t\u001b[34mSource @225\u001b[39m ⏎ `AbstractArray{Multiclass{2},1}`\n"
      ]
     },
     "execution_count": 131,
     "metadata": {},
     "output_type": "execute_result"
    }
   ],
   "source": [
    "self_tuning_nn = machine(self_tuning_nn_model, X_stand, y)"
   ]
  },
  {
   "cell_type": "code",
   "execution_count": 132,
   "metadata": {},
   "outputs": [
    {
     "name": "stderr",
     "output_type": "stream",
     "text": [
      "┌ Info: Training \u001b[34mMachine{ProbabilisticTunedModel{Grid,…}} @215\u001b[39m.\n",
      "└ @ MLJBase /home/andrew/.julia/packages/MLJBase/uKzAz/src/machines.jl:319\n",
      "┌ Info: Attempting to evaluate 49 models.\n",
      "└ @ MLJTuning /home/andrew/.julia/packages/MLJTuning/Bbgvk/src/tuned_models.jl:494\n",
      "\u001b[33mEvaluating over 49 metamodels: 100%[=========================] Time: 0:02:19\u001b[39m\n"
     ]
    },
    {
     "data": {
      "text/plain": [
       "\u001b[34mMachine{ProbabilisticTunedModel{Grid,…}} @215\u001b[39m trained 1 time.\n",
       "  args: \n",
       "    1:\t\u001b[34mSource @480\u001b[39m ⏎ `Table{AbstractArray{Continuous,1}}`\n",
       "    2:\t\u001b[34mSource @225\u001b[39m ⏎ `AbstractArray{Multiclass{2},1}`\n"
      ]
     },
     "execution_count": 132,
     "metadata": {},
     "output_type": "execute_result"
    }
   ],
   "source": [
    "z = fit!(self_tuning_nn, rows=train, force=true)"
   ]
  },
  {
   "cell_type": "code",
   "execution_count": 133,
   "metadata": {
    "scrolled": false
   },
   "outputs": [
    {
     "data": {
      "image/svg+xml": [
       "<?xml version=\"1.0\" encoding=\"utf-8\"?>\n",
       "<svg xmlns=\"http://www.w3.org/2000/svg\" xmlns:xlink=\"http://www.w3.org/1999/xlink\" width=\"600\" height=\"400\" viewBox=\"0 0 2400 1600\">\n",
       "<defs>\n",
       "  <clipPath id=\"clip310\">\n",
       "    <rect x=\"0\" y=\"0\" width=\"2400\" height=\"1600\"/>\n",
       "  </clipPath>\n",
       "</defs>\n",
       "<path clip-path=\"url(#clip310)\" d=\"\n",
       "M0 1600 L2400 1600 L2400 0 L0 0  Z\n",
       "  \" fill=\"#ffffff\" fill-rule=\"evenodd\" fill-opacity=\"1\"/>\n",
       "<defs>\n",
       "  <clipPath id=\"clip311\">\n",
       "    <rect x=\"480\" y=\"0\" width=\"1681\" height=\"1600\"/>\n",
       "  </clipPath>\n",
       "</defs>\n",
       "<path clip-path=\"url(#clip310)\" d=\"\n",
       "M244.308 1423.18 L2112.76 1423.18 L2112.76 47.2441 L244.308 47.2441  Z\n",
       "  \" fill=\"#ffffff\" fill-rule=\"evenodd\" fill-opacity=\"1\"/>\n",
       "<defs>\n",
       "  <clipPath id=\"clip312\">\n",
       "    <rect x=\"244\" y=\"47\" width=\"1869\" height=\"1377\"/>\n",
       "  </clipPath>\n",
       "</defs>\n",
       "<polyline clip-path=\"url(#clip312)\" style=\"stroke:#000000; stroke-width:2; stroke-opacity:0.1; fill:none\" points=\"\n",
       "  493.042,1423.18 493.042,47.2441 \n",
       "  \"/>\n",
       "<polyline clip-path=\"url(#clip312)\" style=\"stroke:#000000; stroke-width:2; stroke-opacity:0.1; fill:none\" points=\"\n",
       "  884.751,1423.18 884.751,47.2441 \n",
       "  \"/>\n",
       "<polyline clip-path=\"url(#clip312)\" style=\"stroke:#000000; stroke-width:2; stroke-opacity:0.1; fill:none\" points=\"\n",
       "  1276.46,1423.18 1276.46,47.2441 \n",
       "  \"/>\n",
       "<polyline clip-path=\"url(#clip312)\" style=\"stroke:#000000; stroke-width:2; stroke-opacity:0.1; fill:none\" points=\"\n",
       "  1668.17,1423.18 1668.17,47.2441 \n",
       "  \"/>\n",
       "<polyline clip-path=\"url(#clip312)\" style=\"stroke:#000000; stroke-width:2; stroke-opacity:0.1; fill:none\" points=\"\n",
       "  2059.88,1423.18 2059.88,47.2441 \n",
       "  \"/>\n",
       "<polyline clip-path=\"url(#clip312)\" style=\"stroke:#000000; stroke-width:2; stroke-opacity:0.1; fill:none\" points=\"\n",
       "  244.308,1384.24 2112.76,1384.24 \n",
       "  \"/>\n",
       "<polyline clip-path=\"url(#clip312)\" style=\"stroke:#000000; stroke-width:2; stroke-opacity:0.1; fill:none\" points=\"\n",
       "  244.308,951.554 2112.76,951.554 \n",
       "  \"/>\n",
       "<polyline clip-path=\"url(#clip312)\" style=\"stroke:#000000; stroke-width:2; stroke-opacity:0.1; fill:none\" points=\"\n",
       "  244.308,518.87 2112.76,518.87 \n",
       "  \"/>\n",
       "<polyline clip-path=\"url(#clip312)\" style=\"stroke:#000000; stroke-width:2; stroke-opacity:0.1; fill:none\" points=\"\n",
       "  244.308,86.1857 2112.76,86.1857 \n",
       "  \"/>\n",
       "<polyline clip-path=\"url(#clip310)\" style=\"stroke:#000000; stroke-width:4; stroke-opacity:1; fill:none\" points=\"\n",
       "  244.308,1423.18 2112.76,1423.18 \n",
       "  \"/>\n",
       "<polyline clip-path=\"url(#clip310)\" style=\"stroke:#000000; stroke-width:4; stroke-opacity:1; fill:none\" points=\"\n",
       "  244.308,1423.18 244.308,47.2441 \n",
       "  \"/>\n",
       "<polyline clip-path=\"url(#clip310)\" style=\"stroke:#000000; stroke-width:4; stroke-opacity:1; fill:none\" points=\"\n",
       "  493.042,1423.18 493.042,1406.67 \n",
       "  \"/>\n",
       "<polyline clip-path=\"url(#clip310)\" style=\"stroke:#000000; stroke-width:4; stroke-opacity:1; fill:none\" points=\"\n",
       "  884.751,1423.18 884.751,1406.67 \n",
       "  \"/>\n",
       "<polyline clip-path=\"url(#clip310)\" style=\"stroke:#000000; stroke-width:4; stroke-opacity:1; fill:none\" points=\"\n",
       "  1276.46,1423.18 1276.46,1406.67 \n",
       "  \"/>\n",
       "<polyline clip-path=\"url(#clip310)\" style=\"stroke:#000000; stroke-width:4; stroke-opacity:1; fill:none\" points=\"\n",
       "  1668.17,1423.18 1668.17,1406.67 \n",
       "  \"/>\n",
       "<polyline clip-path=\"url(#clip310)\" style=\"stroke:#000000; stroke-width:4; stroke-opacity:1; fill:none\" points=\"\n",
       "  2059.88,1423.18 2059.88,1406.67 \n",
       "  \"/>\n",
       "<polyline clip-path=\"url(#clip310)\" style=\"stroke:#000000; stroke-width:4; stroke-opacity:1; fill:none\" points=\"\n",
       "  244.308,1384.24 266.729,1384.24 \n",
       "  \"/>\n",
       "<polyline clip-path=\"url(#clip310)\" style=\"stroke:#000000; stroke-width:4; stroke-opacity:1; fill:none\" points=\"\n",
       "  244.308,951.554 266.729,951.554 \n",
       "  \"/>\n",
       "<polyline clip-path=\"url(#clip310)\" style=\"stroke:#000000; stroke-width:4; stroke-opacity:1; fill:none\" points=\"\n",
       "  244.308,518.87 266.729,518.87 \n",
       "  \"/>\n",
       "<polyline clip-path=\"url(#clip310)\" style=\"stroke:#000000; stroke-width:4; stroke-opacity:1; fill:none\" points=\"\n",
       "  244.308,86.1857 266.729,86.1857 \n",
       "  \"/>\n",
       "<path clip-path=\"url(#clip310)\" d=\"M 0 0 M474.188 1472.72 L490.508 1472.72 L490.508 1476.65 L468.563 1476.65 L468.563 1472.72 Q471.225 1469.96 475.809 1465.33 Q480.415 1460.68 481.596 1459.34 Q483.841 1456.81 484.721 1455.08 Q485.623 1453.32 485.623 1451.63 Q485.623 1448.87 483.679 1447.14 Q481.758 1445.4 478.656 1445.4 Q476.457 1445.4 474.003 1446.17 Q471.573 1446.93 468.795 1448.48 L468.795 1443.76 Q471.619 1442.62 474.073 1442.05 Q476.526 1441.47 478.563 1441.47 Q483.934 1441.47 487.128 1444.15 Q490.323 1446.84 490.323 1451.33 Q490.323 1453.46 489.512 1455.38 Q488.725 1457.28 486.619 1459.87 Q486.04 1460.54 482.938 1463.76 Q479.836 1466.95 474.188 1472.72 Z\" fill=\"#000000\" fill-rule=\"evenodd\" fill-opacity=\"1\" /><path clip-path=\"url(#clip310)\" d=\"M 0 0 M505.577 1445.17 Q501.966 1445.17 500.137 1448.74 Q498.332 1452.28 498.332 1459.41 Q498.332 1466.51 500.137 1470.08 Q501.966 1473.62 505.577 1473.62 Q509.211 1473.62 511.017 1470.08 Q512.846 1466.51 512.846 1459.41 Q512.846 1452.28 511.017 1448.74 Q509.211 1445.17 505.577 1445.17 M505.577 1441.47 Q511.387 1441.47 514.443 1446.07 Q517.521 1450.66 517.521 1459.41 Q517.521 1468.13 514.443 1472.74 Q511.387 1477.32 505.577 1477.32 Q499.767 1477.32 496.688 1472.74 Q493.633 1468.13 493.633 1459.41 Q493.633 1450.66 496.688 1446.07 Q499.767 1441.47 505.577 1441.47 Z\" fill=\"#000000\" fill-rule=\"evenodd\" fill-opacity=\"1\" /><path clip-path=\"url(#clip310)\" d=\"M 0 0 M874.253 1446.17 L862.448 1464.61 L874.253 1464.61 L874.253 1446.17 M873.026 1442.09 L878.906 1442.09 L878.906 1464.61 L883.836 1464.61 L883.836 1468.5 L878.906 1468.5 L878.906 1476.65 L874.253 1476.65 L874.253 1468.5 L858.651 1468.5 L858.651 1463.99 L873.026 1442.09 Z\" fill=\"#000000\" fill-rule=\"evenodd\" fill-opacity=\"1\" /><path clip-path=\"url(#clip310)\" d=\"M 0 0 M898.906 1445.17 Q895.295 1445.17 893.466 1448.74 Q891.66 1452.28 891.66 1459.41 Q891.66 1466.51 893.466 1470.08 Q895.295 1473.62 898.906 1473.62 Q902.54 1473.62 904.345 1470.08 Q906.174 1466.51 906.174 1459.41 Q906.174 1452.28 904.345 1448.74 Q902.54 1445.17 898.906 1445.17 M898.906 1441.47 Q904.716 1441.47 907.771 1446.07 Q910.85 1450.66 910.85 1459.41 Q910.85 1468.13 907.771 1472.74 Q904.716 1477.32 898.906 1477.32 Q893.095 1477.32 890.017 1472.74 Q886.961 1468.13 886.961 1459.41 Q886.961 1450.66 890.017 1446.07 Q893.095 1441.47 898.906 1441.47 Z\" fill=\"#000000\" fill-rule=\"evenodd\" fill-opacity=\"1\" /><path clip-path=\"url(#clip310)\" d=\"M 0 0 M1263.36 1457.51 Q1260.21 1457.51 1258.36 1459.66 Q1256.53 1461.81 1256.53 1465.56 Q1256.53 1469.29 1258.36 1471.47 Q1260.21 1473.62 1263.36 1473.62 Q1266.51 1473.62 1268.33 1471.47 Q1270.19 1469.29 1270.19 1465.56 Q1270.19 1461.81 1268.33 1459.66 Q1266.51 1457.51 1263.36 1457.51 M1272.64 1442.86 L1272.64 1447.11 Q1270.88 1446.28 1269.07 1445.84 Q1267.29 1445.4 1265.53 1445.4 Q1260.9 1445.4 1258.45 1448.53 Q1256.02 1451.65 1255.67 1457.97 Q1257.04 1455.96 1259.1 1454.89 Q1261.16 1453.8 1263.63 1453.8 Q1268.84 1453.8 1271.85 1456.98 Q1274.88 1460.12 1274.88 1465.56 Q1274.88 1470.89 1271.74 1474.11 Q1268.59 1477.32 1263.36 1477.32 Q1257.36 1477.32 1254.19 1472.74 Q1251.02 1468.13 1251.02 1459.41 Q1251.02 1451.21 1254.91 1446.35 Q1258.8 1441.47 1265.35 1441.47 Q1267.11 1441.47 1268.89 1441.81 Q1270.69 1442.16 1272.64 1442.86 Z\" fill=\"#000000\" fill-rule=\"evenodd\" fill-opacity=\"1\" /><path clip-path=\"url(#clip310)\" d=\"M 0 0 M1289.95 1445.17 Q1286.34 1445.17 1284.51 1448.74 Q1282.71 1452.28 1282.71 1459.41 Q1282.71 1466.51 1284.51 1470.08 Q1286.34 1473.62 1289.95 1473.62 Q1293.59 1473.62 1295.39 1470.08 Q1297.22 1466.51 1297.22 1459.41 Q1297.22 1452.28 1295.39 1448.74 Q1293.59 1445.17 1289.95 1445.17 M1289.95 1441.47 Q1295.76 1441.47 1298.82 1446.07 Q1301.9 1450.66 1301.9 1459.41 Q1301.9 1468.13 1298.82 1472.74 Q1295.76 1477.32 1289.95 1477.32 Q1284.14 1477.32 1281.07 1472.74 Q1278.01 1468.13 1278.01 1459.41 Q1278.01 1450.66 1281.07 1446.07 Q1284.14 1441.47 1289.95 1441.47 Z\" fill=\"#000000\" fill-rule=\"evenodd\" fill-opacity=\"1\" /><path clip-path=\"url(#clip310)\" d=\"M 0 0 M1654.66 1460.24 Q1651.33 1460.24 1649.41 1462.02 Q1647.51 1463.8 1647.51 1466.93 Q1647.51 1470.05 1649.41 1471.84 Q1651.33 1473.62 1654.66 1473.62 Q1657.99 1473.62 1659.91 1471.84 Q1661.84 1470.03 1661.84 1466.93 Q1661.84 1463.8 1659.91 1462.02 Q1658.02 1460.24 1654.66 1460.24 M1649.98 1458.25 Q1646.98 1457.51 1645.29 1455.45 Q1643.62 1453.39 1643.62 1450.43 Q1643.62 1446.28 1646.56 1443.87 Q1649.52 1441.47 1654.66 1441.47 Q1659.82 1441.47 1662.76 1443.87 Q1665.7 1446.28 1665.7 1450.43 Q1665.7 1453.39 1664.01 1455.45 Q1662.35 1457.51 1659.36 1458.25 Q1662.74 1459.04 1664.61 1461.33 Q1666.51 1463.62 1666.51 1466.93 Q1666.51 1471.95 1663.43 1474.64 Q1660.38 1477.32 1654.66 1477.32 Q1648.94 1477.32 1645.86 1474.64 Q1642.81 1471.95 1642.81 1466.93 Q1642.81 1463.62 1644.71 1461.33 Q1646.6 1459.04 1649.98 1458.25 M1648.27 1450.86 Q1648.27 1453.55 1649.94 1455.05 Q1651.63 1456.56 1654.66 1456.56 Q1657.67 1456.56 1659.36 1455.05 Q1661.07 1453.55 1661.07 1450.86 Q1661.07 1448.18 1659.36 1446.68 Q1657.67 1445.17 1654.66 1445.17 Q1651.63 1445.17 1649.94 1446.68 Q1648.27 1448.18 1648.27 1450.86 Z\" fill=\"#000000\" fill-rule=\"evenodd\" fill-opacity=\"1\" /><path clip-path=\"url(#clip310)\" d=\"M 0 0 M1681.58 1445.17 Q1677.97 1445.17 1676.14 1448.74 Q1674.34 1452.28 1674.34 1459.41 Q1674.34 1466.51 1676.14 1470.08 Q1677.97 1473.62 1681.58 1473.62 Q1685.22 1473.62 1687.02 1470.08 Q1688.85 1466.51 1688.85 1459.41 Q1688.85 1452.28 1687.02 1448.74 Q1685.22 1445.17 1681.58 1445.17 M1681.58 1441.47 Q1687.39 1441.47 1690.45 1446.07 Q1693.53 1450.66 1693.53 1459.41 Q1693.53 1468.13 1690.45 1472.74 Q1687.39 1477.32 1681.58 1477.32 Q1675.77 1477.32 1672.69 1472.74 Q1669.64 1468.13 1669.64 1459.41 Q1669.64 1450.66 1672.69 1446.07 Q1675.77 1441.47 1681.58 1441.47 Z\" fill=\"#000000\" fill-rule=\"evenodd\" fill-opacity=\"1\" /><path clip-path=\"url(#clip310)\" d=\"M 0 0 M2023.24 1472.72 L2030.88 1472.72 L2030.88 1446.35 L2022.57 1448.02 L2022.57 1443.76 L2030.84 1442.09 L2035.51 1442.09 L2035.51 1472.72 L2043.15 1472.72 L2043.15 1476.65 L2023.24 1476.65 L2023.24 1472.72 Z\" fill=\"#000000\" fill-rule=\"evenodd\" fill-opacity=\"1\" /><path clip-path=\"url(#clip310)\" d=\"M 0 0 M2058.22 1445.17 Q2054.61 1445.17 2052.78 1448.74 Q2050.97 1452.28 2050.97 1459.41 Q2050.97 1466.51 2052.78 1470.08 Q2054.61 1473.62 2058.22 1473.62 Q2061.85 1473.62 2063.66 1470.08 Q2065.49 1466.51 2065.49 1459.41 Q2065.49 1452.28 2063.66 1448.74 Q2061.85 1445.17 2058.22 1445.17 M2058.22 1441.47 Q2064.03 1441.47 2067.09 1446.07 Q2070.16 1450.66 2070.16 1459.41 Q2070.16 1468.13 2067.09 1472.74 Q2064.03 1477.32 2058.22 1477.32 Q2052.41 1477.32 2049.33 1472.74 Q2046.28 1468.13 2046.28 1459.41 Q2046.28 1450.66 2049.33 1446.07 Q2052.41 1441.47 2058.22 1441.47 Z\" fill=\"#000000\" fill-rule=\"evenodd\" fill-opacity=\"1\" /><path clip-path=\"url(#clip310)\" d=\"M 0 0 M2085.23 1445.17 Q2081.62 1445.17 2079.79 1448.74 Q2077.99 1452.28 2077.99 1459.41 Q2077.99 1466.51 2079.79 1470.08 Q2081.62 1473.62 2085.23 1473.62 Q2088.87 1473.62 2090.67 1470.08 Q2092.5 1466.51 2092.5 1459.41 Q2092.5 1452.28 2090.67 1448.74 Q2088.87 1445.17 2085.23 1445.17 M2085.23 1441.47 Q2091.04 1441.47 2094.1 1446.07 Q2097.18 1450.66 2097.18 1459.41 Q2097.18 1468.13 2094.1 1472.74 Q2091.04 1477.32 2085.23 1477.32 Q2079.42 1477.32 2076.35 1472.74 Q2073.29 1468.13 2073.29 1459.41 Q2073.29 1450.66 2076.35 1446.07 Q2079.42 1441.47 2085.23 1441.47 Z\" fill=\"#000000\" fill-rule=\"evenodd\" fill-opacity=\"1\" /><path clip-path=\"url(#clip310)\" d=\"M 0 0 M126.931 1404.03 L134.57 1404.03 L134.57 1377.67 L126.26 1379.33 L126.26 1375.07 L134.524 1373.41 L139.2 1373.41 L139.2 1404.03 L146.839 1404.03 L146.839 1407.97 L126.931 1407.97 L126.931 1404.03 Z\" fill=\"#000000\" fill-rule=\"evenodd\" fill-opacity=\"1\" /><path clip-path=\"url(#clip310)\" d=\"M 0 0 M161.908 1376.48 Q158.297 1376.48 156.468 1380.05 Q154.663 1383.59 154.663 1390.72 Q154.663 1397.83 156.468 1401.39 Q158.297 1404.93 161.908 1404.93 Q165.542 1404.93 167.348 1401.39 Q169.177 1397.83 169.177 1390.72 Q169.177 1383.59 167.348 1380.05 Q165.542 1376.48 161.908 1376.48 M161.908 1372.78 Q167.718 1372.78 170.774 1377.39 Q173.852 1381.97 173.852 1390.72 Q173.852 1399.45 170.774 1404.05 Q167.718 1408.64 161.908 1408.64 Q156.098 1408.64 153.019 1404.05 Q149.964 1399.45 149.964 1390.72 Q149.964 1381.97 153.019 1377.39 Q156.098 1372.78 161.908 1372.78 Z\" fill=\"#000000\" fill-rule=\"evenodd\" fill-opacity=\"1\" /><path clip-path=\"url(#clip310)\" d=\"M 0 0 M173.852 1366.88 L197.964 1366.88 L197.964 1370.08 L173.852 1370.08 L173.852 1366.88 Z\" fill=\"#000000\" fill-rule=\"evenodd\" fill-opacity=\"1\" /><path clip-path=\"url(#clip310)\" d=\"M 0 0 M212.521 1355.79 L202.929 1370.78 L212.521 1370.78 L212.521 1355.79 M211.524 1352.48 L216.302 1352.48 L216.302 1370.78 L220.308 1370.78 L220.308 1373.94 L216.302 1373.94 L216.302 1380.56 L212.521 1380.56 L212.521 1373.94 L199.845 1373.94 L199.845 1370.27 L211.524 1352.48 Z\" fill=\"#000000\" fill-rule=\"evenodd\" fill-opacity=\"1\" /><path clip-path=\"url(#clip310)\" d=\"M 0 0 M127.853 971.347 L135.492 971.347 L135.492 944.981 L127.182 946.648 L127.182 942.388 L135.446 940.722 L140.121 940.722 L140.121 971.347 L147.76 971.347 L147.76 975.282 L127.853 975.282 L127.853 971.347 Z\" fill=\"#000000\" fill-rule=\"evenodd\" fill-opacity=\"1\" /><path clip-path=\"url(#clip310)\" d=\"M 0 0 M162.83 943.8 Q159.219 943.8 157.39 947.365 Q155.584 950.907 155.584 958.036 Q155.584 965.143 157.39 968.708 Q159.219 972.249 162.83 972.249 Q166.464 972.249 168.269 968.708 Q170.098 965.143 170.098 958.036 Q170.098 950.907 168.269 947.365 Q166.464 943.8 162.83 943.8 M162.83 940.097 Q168.64 940.097 171.695 944.703 Q174.774 949.286 174.774 958.036 Q174.774 966.763 171.695 971.37 Q168.64 975.953 162.83 975.953 Q157.02 975.953 153.941 971.37 Q150.885 966.763 150.885 958.036 Q150.885 949.286 153.941 944.703 Q157.02 940.097 162.83 940.097 Z\" fill=\"#000000\" fill-rule=\"evenodd\" fill-opacity=\"1\" /><path clip-path=\"url(#clip310)\" d=\"M 0 0 M174.774 934.198 L198.886 934.198 L198.886 937.395 L174.774 937.395 L174.774 934.198 Z\" fill=\"#000000\" fill-rule=\"evenodd\" fill-opacity=\"1\" /><path clip-path=\"url(#clip310)\" d=\"M 0 0 M214.515 932.731 Q217.242 933.314 218.765 935.157 Q220.308 937 220.308 939.709 Q220.308 943.865 217.449 946.141 Q214.59 948.417 209.324 948.417 Q207.556 948.417 205.675 948.059 Q203.813 947.721 201.82 947.025 L201.82 943.357 Q203.4 944.279 205.28 944.749 Q207.161 945.219 209.211 945.219 Q212.785 945.219 214.647 943.809 Q216.527 942.398 216.527 939.709 Q216.527 937.226 214.778 935.834 Q213.048 934.424 209.945 934.424 L206.672 934.424 L206.672 931.302 L210.095 931.302 Q212.897 931.302 214.383 930.192 Q215.869 929.063 215.869 926.957 Q215.869 924.794 214.327 923.647 Q212.803 922.481 209.945 922.481 Q208.384 922.481 206.597 922.819 Q204.81 923.158 202.666 923.873 L202.666 920.487 Q204.829 919.885 206.71 919.584 Q208.609 919.283 210.283 919.283 Q214.609 919.283 217.129 921.258 Q219.649 923.214 219.649 926.562 Q219.649 928.894 218.314 930.512 Q216.979 932.11 214.515 932.731 Z\" fill=\"#000000\" fill-rule=\"evenodd\" fill-opacity=\"1\" /><path clip-path=\"url(#clip310)\" d=\"M 0 0 M128.624 538.662 L136.263 538.662 L136.263 512.297 L127.953 513.963 L127.953 509.704 L136.217 508.037 L140.893 508.037 L140.893 538.662 L148.531 538.662 L148.531 542.597 L128.624 542.597 L128.624 538.662 Z\" fill=\"#000000\" fill-rule=\"evenodd\" fill-opacity=\"1\" /><path clip-path=\"url(#clip310)\" d=\"M 0 0 M163.601 511.116 Q159.99 511.116 158.161 514.681 Q156.355 518.223 156.355 525.352 Q156.355 532.459 158.161 536.023 Q159.99 539.565 163.601 539.565 Q167.235 539.565 169.041 536.023 Q170.869 532.459 170.869 525.352 Q170.869 518.223 169.041 514.681 Q167.235 511.116 163.601 511.116 M163.601 507.412 Q169.411 507.412 172.467 512.019 Q175.545 516.602 175.545 525.352 Q175.545 534.079 172.467 538.685 Q169.411 543.269 163.601 543.269 Q157.791 543.269 154.712 538.685 Q151.656 534.079 151.656 525.352 Q151.656 516.602 154.712 512.019 Q157.791 507.412 163.601 507.412 Z\" fill=\"#000000\" fill-rule=\"evenodd\" fill-opacity=\"1\" /><path clip-path=\"url(#clip310)\" d=\"M 0 0 M175.545 501.514 L199.657 501.514 L199.657 504.711 L175.545 504.711 L175.545 501.514 Z\" fill=\"#000000\" fill-rule=\"evenodd\" fill-opacity=\"1\" /><path clip-path=\"url(#clip310)\" d=\"M 0 0 M207.048 511.99 L220.308 511.99 L220.308 515.187 L202.478 515.187 L202.478 511.99 Q204.641 509.752 208.365 505.99 Q212.107 502.21 213.067 501.119 Q214.891 499.069 215.606 497.658 Q216.339 496.229 216.339 494.856 Q216.339 492.618 214.759 491.207 Q213.198 489.797 210.678 489.797 Q208.891 489.797 206.898 490.417 Q204.923 491.038 202.666 492.298 L202.666 488.461 Q204.961 487.54 206.954 487.069 Q208.948 486.599 210.603 486.599 Q214.966 486.599 217.562 488.781 Q220.157 490.963 220.157 494.611 Q220.157 496.342 219.499 497.903 Q218.859 499.445 217.148 501.551 Q216.678 502.097 214.158 504.711 Q211.637 507.307 207.048 511.99 Z\" fill=\"#000000\" fill-rule=\"evenodd\" fill-opacity=\"1\" /><path clip-path=\"url(#clip310)\" d=\"M 0 0 M128.323 105.978 L135.962 105.978 L135.962 79.6125 L127.652 81.2792 L127.652 77.0199 L135.916 75.3533 L140.592 75.3533 L140.592 105.978 L148.231 105.978 L148.231 109.913 L128.323 109.913 L128.323 105.978 Z\" fill=\"#000000\" fill-rule=\"evenodd\" fill-opacity=\"1\" /><path clip-path=\"url(#clip310)\" d=\"M 0 0 M163.3 78.432 Q159.689 78.432 157.86 81.9968 Q156.055 85.5384 156.055 92.668 Q156.055 99.7744 157.86 103.339 Q159.689 106.881 163.3 106.881 Q166.934 106.881 168.74 103.339 Q170.568 99.7744 170.568 92.668 Q170.568 85.5384 168.74 81.9968 Q166.934 78.432 163.3 78.432 M163.3 74.7283 Q169.11 74.7283 172.166 79.3347 Q175.244 83.918 175.244 92.668 Q175.244 101.395 172.166 106.001 Q169.11 110.585 163.3 110.585 Q157.49 110.585 154.411 106.001 Q151.356 101.395 151.356 92.668 Q151.356 83.918 154.411 79.3347 Q157.49 74.7283 163.3 74.7283 Z\" fill=\"#000000\" fill-rule=\"evenodd\" fill-opacity=\"1\" /><path clip-path=\"url(#clip310)\" d=\"M 0 0 M175.244 68.8296 L199.356 68.8296 L199.356 72.0269 L175.244 72.0269 L175.244 68.8296 Z\" fill=\"#000000\" fill-rule=\"evenodd\" fill-opacity=\"1\" /><path clip-path=\"url(#clip310)\" d=\"M 0 0 M204.133 79.3056 L210.34 79.3056 L210.34 57.8835 L203.588 59.2377 L203.588 55.777 L210.302 54.4229 L214.101 54.4229 L214.101 79.3056 L220.308 79.3056 L220.308 82.5029 L204.133 82.5029 L204.133 79.3056 Z\" fill=\"#000000\" fill-rule=\"evenodd\" fill-opacity=\"1\" /><path clip-path=\"url(#clip310)\" d=\"M 0 0 M1108.81 1536.76 L1108.81 1539.62 L1081.88 1539.62 Q1082.27 1545.67 1085.51 1548.85 Q1088.79 1552 1094.62 1552 Q1097.99 1552 1101.14 1551.17 Q1104.32 1550.35 1107.44 1548.69 L1107.44 1554.23 Q1104.29 1555.57 1100.98 1556.27 Q1097.67 1556.97 1094.27 1556.97 Q1085.74 1556.97 1080.74 1552 Q1075.77 1547.04 1075.77 1538.57 Q1075.77 1529.82 1080.48 1524.69 Q1085.23 1519.54 1093.25 1519.54 Q1100.44 1519.54 1104.61 1524.18 Q1108.81 1528.8 1108.81 1536.76 M1102.95 1535.04 Q1102.89 1530.23 1100.25 1527.37 Q1097.64 1524.5 1093.31 1524.5 Q1088.41 1524.5 1085.45 1527.27 Q1082.52 1530.04 1082.08 1535.07 L1102.95 1535.04 Z\" fill=\"#000000\" fill-rule=\"evenodd\" fill-opacity=\"1\" /><path clip-path=\"url(#clip310)\" d=\"M 0 0 M1120.62 1550.7 L1120.62 1569.6 L1114.73 1569.6 L1114.73 1520.4 L1120.62 1520.4 L1120.62 1525.81 Q1122.47 1522.62 1125.27 1521.1 Q1128.1 1519.54 1132.01 1519.54 Q1138.51 1519.54 1142.55 1524.69 Q1146.62 1529.85 1146.62 1538.25 Q1146.62 1546.65 1142.55 1551.81 Q1138.51 1556.97 1132.01 1556.97 Q1128.1 1556.97 1125.27 1555.44 Q1122.47 1553.88 1120.62 1550.7 M1140.54 1538.25 Q1140.54 1531.79 1137.87 1528.13 Q1135.23 1524.44 1130.58 1524.44 Q1125.94 1524.44 1123.26 1528.13 Q1120.62 1531.79 1120.62 1538.25 Q1120.62 1544.71 1123.26 1548.4 Q1125.94 1552.07 1130.58 1552.07 Q1135.23 1552.07 1137.87 1548.4 Q1140.54 1544.71 1140.54 1538.25 Z\" fill=\"#000000\" fill-rule=\"evenodd\" fill-opacity=\"1\" /><path clip-path=\"url(#clip310)\" d=\"M 0 0 M1166.58 1524.5 Q1161.87 1524.5 1159.13 1528.19 Q1156.4 1531.85 1156.4 1538.25 Q1156.4 1544.65 1159.1 1548.34 Q1161.84 1552 1166.58 1552 Q1171.26 1552 1174 1548.31 Q1176.73 1544.62 1176.73 1538.25 Q1176.73 1531.92 1174 1528.23 Q1171.26 1524.5 1166.58 1524.5 M1166.58 1519.54 Q1174.22 1519.54 1178.58 1524.5 Q1182.94 1529.47 1182.94 1538.25 Q1182.94 1547 1178.58 1552 Q1174.22 1556.97 1166.58 1556.97 Q1158.91 1556.97 1154.55 1552 Q1150.22 1547 1150.22 1538.25 Q1150.22 1529.47 1154.55 1524.5 Q1158.91 1519.54 1166.58 1519.54 Z\" fill=\"#000000\" fill-rule=\"evenodd\" fill-opacity=\"1\" /><path clip-path=\"url(#clip310)\" d=\"M 0 0 M1214.74 1521.76 L1214.74 1527.24 Q1212.25 1525.87 1209.74 1525.2 Q1207.26 1524.5 1204.71 1524.5 Q1199.01 1524.5 1195.86 1528.13 Q1192.71 1531.73 1192.71 1538.25 Q1192.71 1544.78 1195.86 1548.4 Q1199.01 1552 1204.71 1552 Q1207.26 1552 1209.74 1551.33 Q1212.25 1550.63 1214.74 1549.26 L1214.74 1554.68 Q1212.29 1555.82 1209.64 1556.39 Q1207.03 1556.97 1204.07 1556.97 Q1196.02 1556.97 1191.28 1551.91 Q1186.54 1546.85 1186.54 1538.25 Q1186.54 1529.53 1191.31 1524.53 Q1196.12 1519.54 1204.46 1519.54 Q1207.16 1519.54 1209.74 1520.11 Q1212.32 1520.65 1214.74 1521.76 Z\" fill=\"#000000\" fill-rule=\"evenodd\" fill-opacity=\"1\" /><path clip-path=\"url(#clip310)\" d=\"M 0 0 M1250.51 1534.53 L1250.51 1556.04 L1244.66 1556.04 L1244.66 1534.72 Q1244.66 1529.66 1242.68 1527.14 Q1240.71 1524.63 1236.76 1524.63 Q1232.02 1524.63 1229.28 1527.65 Q1226.55 1530.68 1226.55 1535.9 L1226.55 1556.04 L1220.66 1556.04 L1220.66 1506.52 L1226.55 1506.52 L1226.55 1525.93 Q1228.65 1522.72 1231.48 1521.13 Q1234.34 1519.54 1238.07 1519.54 Q1244.21 1519.54 1247.36 1523.36 Q1250.51 1527.14 1250.51 1534.53 Z\" fill=\"#000000\" fill-rule=\"evenodd\" fill-opacity=\"1\" /><path clip-path=\"url(#clip310)\" d=\"M 0 0 M1279.38 1521.45 L1279.38 1526.98 Q1276.9 1525.71 1274.22 1525.07 Q1271.55 1524.44 1268.69 1524.44 Q1264.33 1524.44 1262.13 1525.77 Q1259.97 1527.11 1259.97 1529.79 Q1259.97 1531.82 1261.52 1533 Q1263.08 1534.15 1267.79 1535.2 L1269.8 1535.64 Q1276.04 1536.98 1278.65 1539.43 Q1281.29 1541.85 1281.29 1546.21 Q1281.29 1551.17 1277.34 1554.07 Q1273.43 1556.97 1266.55 1556.97 Q1263.69 1556.97 1260.57 1556.39 Q1257.48 1555.85 1254.04 1554.74 L1254.04 1548.69 Q1257.29 1550.38 1260.44 1551.24 Q1263.59 1552.07 1266.68 1552.07 Q1270.82 1552.07 1273.05 1550.66 Q1275.27 1549.23 1275.27 1546.65 Q1275.27 1544.27 1273.65 1542.99 Q1272.06 1541.72 1266.62 1540.54 L1264.58 1540.07 Q1259.14 1538.92 1256.72 1536.56 Q1254.3 1534.18 1254.3 1530.04 Q1254.3 1525.01 1257.86 1522.27 Q1261.43 1519.54 1267.99 1519.54 Q1271.23 1519.54 1274.1 1520.01 Q1276.96 1520.49 1279.38 1521.45 Z\" fill=\"#000000\" fill-rule=\"evenodd\" fill-opacity=\"1\" /><path clip-path=\"url(#clip310)\" d=\"M 0 0 M56.4621 905.383 Q56.4621 910.094 60.1542 912.831 Q63.8145 915.568 70.212 915.568 Q76.6095 915.568 80.3017 912.863 Q83.9619 910.126 83.9619 905.383 Q83.9619 900.704 80.2698 897.967 Q76.5777 895.23 70.212 895.23 Q63.8781 895.23 60.186 897.967 Q56.4621 900.704 56.4621 905.383 M51.4968 905.383 Q51.4968 897.744 56.4621 893.384 Q61.4273 889.023 70.212 889.023 Q78.9649 889.023 83.9619 893.384 Q88.9272 897.744 88.9272 905.383 Q88.9272 913.054 83.9619 917.414 Q78.9649 921.743 70.212 921.743 Q61.4273 921.743 56.4621 917.414 Q51.4968 913.054 51.4968 905.383 Z\" fill=\"#000000\" fill-rule=\"evenodd\" fill-opacity=\"1\" /><path clip-path=\"url(#clip310)\" d=\"M 0 0 M82.657 877.215 L101.563 877.215 L101.563 883.103 L52.3562 883.103 L52.3562 877.215 L57.7671 877.215 Q54.5842 875.369 53.0564 872.568 Q51.4968 869.735 51.4968 865.82 Q51.4968 859.327 56.6531 855.285 Q61.8093 851.211 70.212 851.211 Q78.6147 851.211 83.771 855.285 Q88.9272 859.327 88.9272 865.82 Q88.9272 869.735 87.3994 872.568 Q85.8398 875.369 82.657 877.215 M70.212 857.29 Q63.7508 857.29 60.0905 859.964 Q56.3984 862.606 56.3984 867.253 Q56.3984 871.9 60.0905 874.573 Q63.7508 877.215 70.212 877.215 Q76.6732 877.215 80.3653 874.573 Q84.0256 871.9 84.0256 867.253 Q84.0256 862.606 80.3653 859.964 Q76.6732 857.29 70.212 857.29 Z\" fill=\"#000000\" fill-rule=\"evenodd\" fill-opacity=\"1\" /><path clip-path=\"url(#clip310)\" d=\"M 0 0 M42.2347 839.275 L52.3562 839.275 L52.3562 827.212 L56.9077 827.212 L56.9077 839.275 L76.2594 839.275 Q80.6199 839.275 81.8613 838.098 Q83.1026 836.888 83.1026 833.228 L83.1026 827.212 L88.0042 827.212 L88.0042 833.228 Q88.0042 840.007 85.4897 842.586 Q82.9434 845.164 76.2594 845.164 L56.9077 845.164 L56.9077 849.46 L52.3562 849.46 L52.3562 845.164 L42.2347 845.164 L42.2347 839.275 Z\" fill=\"#000000\" fill-rule=\"evenodd\" fill-opacity=\"1\" /><path clip-path=\"url(#clip310)\" d=\"M 0 0 M52.3562 821.069 L52.3562 815.213 L88.0042 815.213 L88.0042 821.069 L52.3562 821.069 M38.479 821.069 L38.479 815.213 L45.895 815.213 L45.895 821.069 L38.479 821.069 Z\" fill=\"#000000\" fill-rule=\"evenodd\" fill-opacity=\"1\" /><path clip-path=\"url(#clip310)\" d=\"M 0 0 M59.1993 781.316 Q55.2526 779.119 53.3747 776.064 Q51.4968 773.008 51.4968 768.871 Q51.4968 763.301 55.4117 760.277 Q59.2948 757.253 66.4881 757.253 L88.0042 757.253 L88.0042 763.142 L66.679 763.142 Q61.5546 763.142 59.072 764.956 Q56.5894 766.77 56.5894 770.494 Q56.5894 775.045 59.6131 777.687 Q62.6368 780.329 67.8567 780.329 L88.0042 780.329 L88.0042 786.217 L66.679 786.217 Q61.5228 786.217 59.072 788.031 Q56.5894 789.846 56.5894 793.633 Q56.5894 798.121 59.6449 800.763 Q62.6686 803.405 67.8567 803.405 L88.0042 803.405 L88.0042 809.293 L52.3562 809.293 L52.3562 803.405 L57.8944 803.405 Q54.616 801.399 53.0564 798.598 Q51.4968 795.798 51.4968 791.946 Q51.4968 788.063 53.4702 785.358 Q55.4436 782.621 59.1993 781.316 Z\" fill=\"#000000\" fill-rule=\"evenodd\" fill-opacity=\"1\" /><path clip-path=\"url(#clip310)\" d=\"M 0 0 M52.3562 751.11 L52.3562 745.254 L88.0042 745.254 L88.0042 751.11 L52.3562 751.11 M38.479 751.11 L38.479 745.254 L45.895 745.254 L45.895 751.11 L38.479 751.11 Z\" fill=\"#000000\" fill-rule=\"evenodd\" fill-opacity=\"1\" /><path clip-path=\"url(#clip310)\" d=\"M 0 0 M53.4065 716.385 L58.9447 716.385 Q57.6716 718.868 57.035 721.542 Q56.3984 724.215 56.3984 727.08 Q56.3984 731.44 57.7352 733.636 Q59.072 735.801 61.7456 735.801 Q63.7826 735.801 64.9603 734.241 Q66.1061 732.682 67.1565 727.971 L67.6021 725.966 Q68.9389 719.727 71.3897 717.117 Q73.8086 714.476 78.1691 714.476 Q83.1344 714.476 86.0308 718.422 Q88.9272 722.337 88.9272 729.212 Q88.9272 732.077 88.3543 735.196 Q87.8132 738.283 86.6992 741.721 L80.6518 741.721 Q82.3387 738.474 83.198 735.323 Q84.0256 732.172 84.0256 729.085 Q84.0256 724.947 82.6251 722.719 Q81.1929 720.491 78.6147 720.491 Q76.2276 720.491 74.9545 722.115 Q73.6813 723.706 72.5037 729.149 L72.0262 731.186 Q70.8804 736.628 68.5251 739.047 Q66.138 741.466 62.0002 741.466 Q56.9713 741.466 54.2341 737.901 Q51.4968 734.337 51.4968 727.78 Q51.4968 724.533 51.9743 721.669 Q52.4517 718.804 53.4065 716.385 Z\" fill=\"#000000\" fill-rule=\"evenodd\" fill-opacity=\"1\" /><path clip-path=\"url(#clip310)\" d=\"M 0 0 M68.7161 677.841 L71.5806 677.841 L71.5806 704.768 Q77.6281 704.386 80.8109 701.14 Q83.9619 697.861 83.9619 692.037 Q83.9619 688.663 83.1344 685.512 Q82.3069 682.329 80.6518 679.21 L86.1899 679.21 Q87.5267 682.361 88.227 685.671 Q88.9272 688.981 88.9272 692.387 Q88.9272 700.917 83.9619 705.914 Q78.9967 710.879 70.5303 710.879 Q61.7774 710.879 56.6531 706.168 Q51.4968 701.426 51.4968 693.405 Q51.4968 686.212 56.1438 682.042 Q60.7589 677.841 68.7161 677.841 M66.9973 683.697 Q62.1912 683.761 59.3266 686.403 Q56.4621 689.013 56.4621 693.342 Q56.4621 698.243 59.2312 701.203 Q62.0002 704.131 67.0292 704.577 L66.9973 683.697 Z\" fill=\"#000000\" fill-rule=\"evenodd\" fill-opacity=\"1\" /><path clip-path=\"url(#clip310)\" d=\"M 0 0 M57.8307 651.041 Q57.2578 652.028 57.0032 653.206 Q56.7167 654.352 56.7167 655.752 Q56.7167 660.717 59.9632 663.391 Q63.1779 666.033 69.2253 666.033 L88.0042 666.033 L88.0042 671.921 L52.3562 671.921 L52.3562 666.033 L57.8944 666.033 Q54.6479 664.187 53.0883 661.227 Q51.4968 658.266 51.4968 654.033 Q51.4968 653.429 51.5923 652.696 Q51.656 651.964 51.8151 651.073 L57.8307 651.041 Z\" fill=\"#000000\" fill-rule=\"evenodd\" fill-opacity=\"1\" /><path clip-path=\"url(#clip310)\" d=\"M 0 0 M79.9197 650.055 L79.9197 643.339 L88.0042 643.339 L88.0042 650.055 L79.9197 650.055 Z\" fill=\"#000000\" fill-rule=\"evenodd\" fill-opacity=\"1\" /><path clip-path=\"url(#clip310)\" d=\"M 0 0 M68.7161 606.704 L71.5806 606.704 L71.5806 633.631 Q77.6281 633.249 80.8109 630.003 Q83.9619 626.724 83.9619 620.9 Q83.9619 617.526 83.1344 614.375 Q82.3069 611.192 80.6518 608.073 L86.1899 608.073 Q87.5267 611.224 88.227 614.534 Q88.9272 617.844 88.9272 621.25 Q88.9272 629.78 83.9619 634.777 Q78.9967 639.742 70.5303 639.742 Q61.7774 639.742 56.6531 635.032 Q51.4968 630.289 51.4968 622.268 Q51.4968 615.075 56.1438 610.906 Q60.7589 606.704 68.7161 606.704 M66.9973 612.561 Q62.1912 612.624 59.3266 615.266 Q56.4621 617.876 56.4621 622.205 Q56.4621 627.106 59.2312 630.066 Q62.0002 632.995 67.0292 633.44 L66.9973 612.561 Z\" fill=\"#000000\" fill-rule=\"evenodd\" fill-opacity=\"1\" /><path clip-path=\"url(#clip310)\" d=\"M 0 0 M42.2347 594.769 L52.3562 594.769 L52.3562 582.706 L56.9077 582.706 L56.9077 594.769 L76.2594 594.769 Q80.6199 594.769 81.8613 593.591 Q83.1026 592.381 83.1026 588.721 L83.1026 582.706 L88.0042 582.706 L88.0042 588.721 Q88.0042 595.501 85.4897 598.079 Q82.9434 600.657 76.2594 600.657 L56.9077 600.657 L56.9077 604.954 L52.3562 604.954 L52.3562 600.657 L42.2347 600.657 L42.2347 594.769 Z\" fill=\"#000000\" fill-rule=\"evenodd\" fill-opacity=\"1\" /><path clip-path=\"url(#clip310)\" d=\"M 0 0 M70.0847 560.362 Q70.0847 567.46 71.7079 570.197 Q73.3312 572.934 77.2461 572.934 Q80.3653 572.934 82.2114 570.897 Q84.0256 568.828 84.0256 565.295 Q84.0256 560.426 80.5881 557.497 Q77.1188 554.537 71.3897 554.537 L70.0847 554.537 L70.0847 560.362 M67.6657 548.681 L88.0042 548.681 L88.0042 554.537 L82.5933 554.537 Q85.8398 556.542 87.3994 559.534 Q88.9272 562.526 88.9272 566.855 Q88.9272 572.329 85.8716 575.576 Q82.7843 578.791 77.6281 578.791 Q71.6125 578.791 68.5569 574.78 Q65.5014 570.738 65.5014 562.749 L65.5014 554.537 L64.9285 554.537 Q60.8862 554.537 58.6901 557.211 Q56.4621 559.853 56.4621 564.659 Q56.4621 567.714 57.1941 570.611 Q57.9262 573.507 59.3903 576.181 L53.9795 576.181 Q52.7381 572.966 52.1334 569.942 Q51.4968 566.919 51.4968 564.054 Q51.4968 556.32 55.5072 552.5 Q59.5176 548.681 67.6657 548.681 Z\" fill=\"#000000\" fill-rule=\"evenodd\" fill-opacity=\"1\" /><circle clip-path=\"url(#clip312)\" cx=\"2059.88\" cy=\"735.212\" r=\"4\" fill=\"#01010b\" fill-rule=\"evenodd\" fill-opacity=\"1\" stroke=\"#000000\" stroke-opacity=\"1\" stroke-width=\"3.2\"/>\n",
       "<circle clip-path=\"url(#clip312)\" cx=\"297.188\" cy=\"518.87\" r=\"3\" fill=\"#000003\" fill-rule=\"evenodd\" fill-opacity=\"1\" stroke=\"#000000\" stroke-opacity=\"1\" stroke-width=\"3.2\"/>\n",
       "<circle clip-path=\"url(#clip312)\" cx=\"1472.31\" cy=\"1167.9\" r=\"3\" fill=\"#000004\" fill-rule=\"evenodd\" fill-opacity=\"1\" stroke=\"#000000\" stroke-opacity=\"1\" stroke-width=\"3.2\"/>\n",
       "<circle clip-path=\"url(#clip312)\" cx=\"1178.53\" cy=\"86.1857\" r=\"5\" fill=\"#040316\" fill-rule=\"evenodd\" fill-opacity=\"1\" stroke=\"#000000\" stroke-opacity=\"1\" stroke-width=\"3.2\"/>\n",
       "<circle clip-path=\"url(#clip312)\" cx=\"2059.88\" cy=\"86.1857\" r=\"6\" fill=\"#080620\" fill-rule=\"evenodd\" fill-opacity=\"1\" stroke=\"#000000\" stroke-opacity=\"1\" stroke-width=\"3.2\"/>\n",
       "<circle clip-path=\"url(#clip312)\" cx=\"884.751\" cy=\"302.528\" r=\"5\" fill=\"#02020e\" fill-rule=\"evenodd\" fill-opacity=\"1\" stroke=\"#000000\" stroke-opacity=\"1\" stroke-width=\"3.2\"/>\n",
       "<circle clip-path=\"url(#clip312)\" cx=\"1472.31\" cy=\"735.212\" r=\"5\" fill=\"#02010e\" fill-rule=\"evenodd\" fill-opacity=\"1\" stroke=\"#000000\" stroke-opacity=\"1\" stroke-width=\"3.2\"/>\n",
       "<circle clip-path=\"url(#clip312)\" cx=\"2059.88\" cy=\"302.528\" r=\"4\" fill=\"#010109\" fill-rule=\"evenodd\" fill-opacity=\"1\" stroke=\"#000000\" stroke-opacity=\"1\" stroke-width=\"3.2\"/>\n",
       "<circle clip-path=\"url(#clip312)\" cx=\"884.751\" cy=\"518.87\" r=\"3\" fill=\"#000005\" fill-rule=\"evenodd\" fill-opacity=\"1\" stroke=\"#000000\" stroke-opacity=\"1\" stroke-width=\"3.2\"/>\n",
       "<circle clip-path=\"url(#clip312)\" cx=\"1766.09\" cy=\"518.87\" r=\"3\" fill=\"#000004\" fill-rule=\"evenodd\" fill-opacity=\"1\" stroke=\"#000000\" stroke-opacity=\"1\" stroke-width=\"3.2\"/>\n",
       "<circle clip-path=\"url(#clip312)\" cx=\"1178.53\" cy=\"1384.24\" r=\"7\" fill=\"#090622\" fill-rule=\"evenodd\" fill-opacity=\"1\" stroke=\"#000000\" stroke-opacity=\"1\" stroke-width=\"3.2\"/>\n",
       "<circle clip-path=\"url(#clip312)\" cx=\"297.188\" cy=\"302.528\" r=\"6\" fill=\"#050317\" fill-rule=\"evenodd\" fill-opacity=\"1\" stroke=\"#000000\" stroke-opacity=\"1\" stroke-width=\"3.2\"/>\n",
       "<circle clip-path=\"url(#clip312)\" cx=\"1178.53\" cy=\"951.554\" r=\"4\" fill=\"#02010d\" fill-rule=\"evenodd\" fill-opacity=\"1\" stroke=\"#000000\" stroke-opacity=\"1\" stroke-width=\"3.2\"/>\n",
       "<circle clip-path=\"url(#clip312)\" cx=\"884.751\" cy=\"1384.24\" r=\"7\" fill=\"#0d0828\" fill-rule=\"evenodd\" fill-opacity=\"1\" stroke=\"#000000\" stroke-opacity=\"1\" stroke-width=\"3.2\"/>\n",
       "<circle clip-path=\"url(#clip312)\" cx=\"590.969\" cy=\"1167.9\" r=\"6\" fill=\"#06041a\" fill-rule=\"evenodd\" fill-opacity=\"1\" stroke=\"#000000\" stroke-opacity=\"1\" stroke-width=\"3.2\"/>\n",
       "<circle clip-path=\"url(#clip312)\" cx=\"297.188\" cy=\"951.554\" r=\"5\" fill=\"#040315\" fill-rule=\"evenodd\" fill-opacity=\"1\" stroke=\"#000000\" stroke-opacity=\"1\" stroke-width=\"3.2\"/>\n",
       "<circle clip-path=\"url(#clip312)\" cx=\"1766.09\" cy=\"302.528\" r=\"4\" fill=\"#010109\" fill-rule=\"evenodd\" fill-opacity=\"1\" stroke=\"#000000\" stroke-opacity=\"1\" stroke-width=\"3.2\"/>\n",
       "<circle clip-path=\"url(#clip312)\" cx=\"1178.53\" cy=\"1167.9\" r=\"5\" fill=\"#02010e\" fill-rule=\"evenodd\" fill-opacity=\"1\" stroke=\"#000000\" stroke-opacity=\"1\" stroke-width=\"3.2\"/>\n",
       "<circle clip-path=\"url(#clip312)\" cx=\"297.188\" cy=\"735.212\" r=\"4\" fill=\"#02010d\" fill-rule=\"evenodd\" fill-opacity=\"1\" stroke=\"#000000\" stroke-opacity=\"1\" stroke-width=\"3.2\"/>\n",
       "<circle clip-path=\"url(#clip312)\" cx=\"884.751\" cy=\"86.1857\" r=\"4\" fill=\"#02010c\" fill-rule=\"evenodd\" fill-opacity=\"1\" stroke=\"#000000\" stroke-opacity=\"1\" stroke-width=\"3.2\"/>\n",
       "<circle clip-path=\"url(#clip312)\" cx=\"1178.53\" cy=\"302.528\" r=\"5\" fill=\"#02020e\" fill-rule=\"evenodd\" fill-opacity=\"1\" stroke=\"#000000\" stroke-opacity=\"1\" stroke-width=\"3.2\"/>\n",
       "<circle clip-path=\"url(#clip312)\" cx=\"1178.53\" cy=\"518.87\" r=\"5\" fill=\"#02020e\" fill-rule=\"evenodd\" fill-opacity=\"1\" stroke=\"#000000\" stroke-opacity=\"1\" stroke-width=\"3.2\"/>\n",
       "<circle clip-path=\"url(#clip312)\" cx=\"297.188\" cy=\"1384.24\" r=\"61\" fill=\"#fcfea4\" fill-rule=\"evenodd\" fill-opacity=\"1\" stroke=\"#000000\" stroke-opacity=\"1\" stroke-width=\"3.2\"/>\n",
       "<circle clip-path=\"url(#clip312)\" cx=\"1766.09\" cy=\"86.1857\" r=\"4\" fill=\"#01010a\" fill-rule=\"evenodd\" fill-opacity=\"1\" stroke=\"#000000\" stroke-opacity=\"1\" stroke-width=\"3.2\"/>\n",
       "<circle clip-path=\"url(#clip312)\" cx=\"590.969\" cy=\"1384.24\" r=\"18\" fill=\"#530e6c\" fill-rule=\"evenodd\" fill-opacity=\"1\" stroke=\"#000000\" stroke-opacity=\"1\" stroke-width=\"3.2\"/>\n",
       "<circle clip-path=\"url(#clip312)\" cx=\"297.188\" cy=\"86.1857\" r=\"10\" fill=\"#1c0c43\" fill-rule=\"evenodd\" fill-opacity=\"1\" stroke=\"#000000\" stroke-opacity=\"1\" stroke-width=\"3.2\"/>\n",
       "<circle clip-path=\"url(#clip312)\" cx=\"1472.31\" cy=\"86.1857\" r=\"7\" fill=\"#090620\" fill-rule=\"evenodd\" fill-opacity=\"1\" stroke=\"#000000\" stroke-opacity=\"1\" stroke-width=\"3.2\"/>\n",
       "<circle clip-path=\"url(#clip312)\" cx=\"884.751\" cy=\"1167.9\" r=\"5\" fill=\"#02020f\" fill-rule=\"evenodd\" fill-opacity=\"1\" stroke=\"#000000\" stroke-opacity=\"1\" stroke-width=\"3.2\"/>\n",
       "<circle clip-path=\"url(#clip312)\" cx=\"1472.31\" cy=\"518.87\" r=\"3\" fill=\"#000004\" fill-rule=\"evenodd\" fill-opacity=\"1\" stroke=\"#000000\" stroke-opacity=\"1\" stroke-width=\"3.2\"/>\n",
       "<circle clip-path=\"url(#clip312)\" cx=\"1472.31\" cy=\"302.528\" r=\"3\" fill=\"#000004\" fill-rule=\"evenodd\" fill-opacity=\"1\" stroke=\"#000000\" stroke-opacity=\"1\" stroke-width=\"3.2\"/>\n",
       "<circle clip-path=\"url(#clip312)\" cx=\"590.969\" cy=\"518.87\" r=\"4\" fill=\"#010007\" fill-rule=\"evenodd\" fill-opacity=\"1\" stroke=\"#000000\" stroke-opacity=\"1\" stroke-width=\"3.2\"/>\n",
       "<circle clip-path=\"url(#clip312)\" cx=\"1766.09\" cy=\"951.554\" r=\"4\" fill=\"#02010c\" fill-rule=\"evenodd\" fill-opacity=\"1\" stroke=\"#000000\" stroke-opacity=\"1\" stroke-width=\"3.2\"/>\n",
       "<circle clip-path=\"url(#clip312)\" cx=\"1766.09\" cy=\"1167.9\" r=\"4\" fill=\"#02010c\" fill-rule=\"evenodd\" fill-opacity=\"1\" stroke=\"#000000\" stroke-opacity=\"1\" stroke-width=\"3.2\"/>\n",
       "<circle clip-path=\"url(#clip312)\" cx=\"1472.31\" cy=\"951.554\" r=\"4\" fill=\"#010007\" fill-rule=\"evenodd\" fill-opacity=\"1\" stroke=\"#000000\" stroke-opacity=\"1\" stroke-width=\"3.2\"/>\n",
       "<circle clip-path=\"url(#clip312)\" cx=\"1472.31\" cy=\"1384.24\" r=\"4\" fill=\"#010007\" fill-rule=\"evenodd\" fill-opacity=\"1\" stroke=\"#000000\" stroke-opacity=\"1\" stroke-width=\"3.2\"/>\n",
       "<circle clip-path=\"url(#clip312)\" cx=\"1178.53\" cy=\"735.212\" r=\"4\" fill=\"#01010a\" fill-rule=\"evenodd\" fill-opacity=\"1\" stroke=\"#000000\" stroke-opacity=\"1\" stroke-width=\"3.2\"/>\n",
       "<circle clip-path=\"url(#clip312)\" cx=\"297.188\" cy=\"1167.9\" r=\"14\" fill=\"#370961\" fill-rule=\"evenodd\" fill-opacity=\"1\" stroke=\"#000000\" stroke-opacity=\"1\" stroke-width=\"3.2\"/>\n",
       "<circle clip-path=\"url(#clip312)\" cx=\"590.969\" cy=\"302.528\" r=\"5\" fill=\"#030313\" fill-rule=\"evenodd\" fill-opacity=\"1\" stroke=\"#000000\" stroke-opacity=\"1\" stroke-width=\"3.2\"/>\n",
       "<circle clip-path=\"url(#clip312)\" cx=\"1766.09\" cy=\"735.212\" r=\"4\" fill=\"#000006\" fill-rule=\"evenodd\" fill-opacity=\"1\" stroke=\"#000000\" stroke-opacity=\"1\" stroke-width=\"3.2\"/>\n",
       "<circle clip-path=\"url(#clip312)\" cx=\"2059.88\" cy=\"1167.9\" r=\"4\" fill=\"#000005\" fill-rule=\"evenodd\" fill-opacity=\"1\" stroke=\"#000000\" stroke-opacity=\"1\" stroke-width=\"3.2\"/>\n",
       "<circle clip-path=\"url(#clip312)\" cx=\"590.969\" cy=\"86.1857\" r=\"5\" fill=\"#030313\" fill-rule=\"evenodd\" fill-opacity=\"1\" stroke=\"#000000\" stroke-opacity=\"1\" stroke-width=\"3.2\"/>\n",
       "<circle clip-path=\"url(#clip312)\" cx=\"590.969\" cy=\"735.212\" r=\"5\" fill=\"#030313\" fill-rule=\"evenodd\" fill-opacity=\"1\" stroke=\"#000000\" stroke-opacity=\"1\" stroke-width=\"3.2\"/>\n",
       "<circle clip-path=\"url(#clip312)\" cx=\"884.751\" cy=\"951.554\" r=\"5\" fill=\"#02020e\" fill-rule=\"evenodd\" fill-opacity=\"1\" stroke=\"#000000\" stroke-opacity=\"1\" stroke-width=\"3.2\"/>\n",
       "<circle clip-path=\"url(#clip312)\" cx=\"1766.09\" cy=\"1384.24\" r=\"4\" fill=\"#02010c\" fill-rule=\"evenodd\" fill-opacity=\"1\" stroke=\"#000000\" stroke-opacity=\"1\" stroke-width=\"3.2\"/>\n",
       "<circle clip-path=\"url(#clip312)\" cx=\"2059.88\" cy=\"951.554\" r=\"4\" fill=\"#01010a\" fill-rule=\"evenodd\" fill-opacity=\"1\" stroke=\"#000000\" stroke-opacity=\"1\" stroke-width=\"3.2\"/>\n",
       "<circle clip-path=\"url(#clip312)\" cx=\"590.969\" cy=\"951.554\" r=\"4\" fill=\"#010109\" fill-rule=\"evenodd\" fill-opacity=\"1\" stroke=\"#000000\" stroke-opacity=\"1\" stroke-width=\"3.2\"/>\n",
       "<circle clip-path=\"url(#clip312)\" cx=\"2059.88\" cy=\"518.87\" r=\"4\" fill=\"#010007\" fill-rule=\"evenodd\" fill-opacity=\"1\" stroke=\"#000000\" stroke-opacity=\"1\" stroke-width=\"3.2\"/>\n",
       "<circle clip-path=\"url(#clip312)\" cx=\"2059.88\" cy=\"1384.24\" r=\"4\" fill=\"#010007\" fill-rule=\"evenodd\" fill-opacity=\"1\" stroke=\"#000000\" stroke-opacity=\"1\" stroke-width=\"3.2\"/>\n",
       "<circle clip-path=\"url(#clip312)\" cx=\"884.751\" cy=\"735.212\" r=\"4\" fill=\"#010109\" fill-rule=\"evenodd\" fill-opacity=\"1\" stroke=\"#000000\" stroke-opacity=\"1\" stroke-width=\"3.2\"/>\n",
       "<defs>\n",
       "  <clipPath id=\"clip313\">\n",
       "    <rect x=\"2160\" y=\"47\" width=\"73\" height=\"1377\"/>\n",
       "  </clipPath>\n",
       "</defs>\n",
       "<g clip-path=\"url(#clip313)\">\n",
       "<image width=\"72\" height=\"1376\" xlink:href=\"data:image/png;base64,\n",
       "iVBORw0KGgoAAAANSUhEUgAAAEgAAAVgCAYAAADsKhu7AAAL6UlEQVR4nO3dwZEjNxBFQVBR/lsh\n",
       "L6UFZIHqHclDpgUTL35wCXTP7Off+/c7/K+/vv0D/DqBgkBBoCBQmPv+/fbP8NMsKAgUBAoChXnv\n",
       "z7d/hp9mQUGgIFAQKAgUHDWCBQWBgkBBoDDPh/TKgoJAQaAgUJh3fUhvLCgIFAQKAgWBgqNGsKAg\n",
       "UBAoCBR8SAcLCgIFgYJAwX1QsKAgUBAoCBQECnMcNVYWFAQKAgWBgvugYEFBoCBQECgIFOa4MFtZ\n",
       "UBAoCBQECnPuP9/+GX6aBQWBgkBBoODSPlhQECgIFAQKAgX3QcGCgkBBoCBQ8CEdLCgIFAQKAgX3\n",
       "QcGCgkBBoCBQECjMx1FjZUFBoCBQECjMuf5XhI0FBYGCQEGgIFBw1AgWFAQKAgWBgqNGsKAgUBAo\n",
       "CBS8HxQsKAgUBAoCBYHCfBw1VhYUBAoCBYGCt1yDBQWBgkBBoOCbdLCgIFAQKAgUBAoePQcLCgIF\n",
       "gYJAwVEjWFAQKAgUBAoCBUeNYEFBoCBQECg4agQLCgIFgYJAYc693/4ZfpoFBYGCQEGgIFBw1AgW\n",
       "FAQKAgWBgkv7YEFBoCBQECj4kA4WFAQKAgWBgkBhPp5qrCwoCBQECgIFR41gQUGgIFAQKAgUvEAV\n",
       "LCgIFAQKAgX3QcGCgkBBoCBQcB8ULCgIFAQKAgWBgvugYEFBoCBQECj4kA4WFAQKAgWBgl/qDRYU\n",
       "BAoCBYGCQMFRI1hQECgIFAQKPqSDBQWBgkBBoCBQ8K9YsKAgUBAoCBR8SAcLCgIFgYJAYc7zIb2x\n",
       "oCBQECgIFAQKjhrBgoJAQaAgUPAhHSwoCBQECgIFH9LBgoJAQaAgUBAozLnv2z/DT7OgIFAQKAgU\n",
       "HDWCBQWBgkBBoCBQcNQIFhQECgIFgYKjRrCgIFAQKAgUfJMOFhQECgIFgYJAYY6TxsqCgkBBoCBQ\n",
       "mPMcNTYWFAQKAgWBgm/SwYKCQEGgIFAQKPhXLFhQECgIFAQK44/g7SwoCBQECgIFgYKjRrCgIFAQ\n",
       "KAgUfEgHCwoCBYGCQGHO/Xz7Z/hpFhQECgIFgYJAYd7zr9jGgoJAQaAgUHAfFCwoCBQECgIF90HB\n",
       "goJAQaAgUBAozLsabdQJAgWBgkDBUSNYUBAoCBQECgKFOR49rywoCBQECgKFeY4aKwsKAgWBgkBh\n",
       "jkv7lTpBoCBQECgIFBw1ggUFgYJAQaDg0j5YUBAoCBQECl7iDOoEgYJAQaAgUPCWa7CgIFAQKAgU\n",
       "XNoHCwoCBYGCQEGgMO9ptFEnCBQECgIF90HBgoJAQaAgUHAfFCwoCBQECgIFgcIc90ErdYJAQaAg\n",
       "UHDUCBYUBAoCBYGCD+lgQUGgIFAQKAgU/NZzsKAgUBAoCBT81nNQJwgUBAoCBYHCPEeNlQUFgYJA\n",
       "QaDgqUawoCBQECgIFPyvCEGdIFAQKAgUBArug4IFBYGCQEGg4D4oWFAQKAgUBAq+SQcLCgIFgYJA\n",
       "QaDgLdegThAoCBQECo4awYKCQEGgIFAQKHiqESwoCBQECgIFR41gQUGgIFAQKPiva4IFBYGCQEGg\n",
       "IFDwv2QGdYJAQaAgUHAfFCwoCBQECgIFT1aDBQWBgkBBoCBQcNQIFhQECgIFgcJcH9IrCwoCBYGC\n",
       "QEGg4LeegzpBoCBQECi4DwoWFAQKAgWBgg/pYEFBoCBQECgIFLxAFSwoCBQECgIFR41gQUGgIFAQ\n",
       "KPiQDhYUBAoCBYGCQMGfpgjqBIGCQEGgMNel/cqCgkBBoCBQECi4MAsWFAQKAgWBgg/pYEFBoCBQ\n",
       "ECj4kA4WFAQKAgWBgkDBH1gKFhQECgIFgYKjRrCgIFAQKAgUfEgHCwoCBYGCQEGg4FcRgjpBoCBQ\n",
       "ECj4VYRgQUGgIFAQKAgUXJgFCwoCBYGCQMGHdLCgIFAQKAgUvMQZLCgIFAQKAgWBgqNGsKAgUBAo\n",
       "CBTmHR/SGwsKAgWBgkDBfVCwoCBQECgIFAQK7oOCBQWBgkBBoOCoESwoCBQECgIFgYKjRrCgIFAQ\n",
       "KAgUHDWCBQWBgkBBoOCbdLCgIFAQKAgUBAr+FQsWFAQKAgWBwly/irCyoCBQECgIFHyTDhYUBAoC\n",
       "BYGCQMGj52BBQaAgUBAozHvf/hF+mwUFgYJAQaAgUHDUCBYUBAoCBYGCv4IXLCgIFAQKAgXfpIMF\n",
       "BYGCQEGgIFDwAlWwoCBQECgIFPwqQrCgIFAQKAgUvB8ULCgIFAQKAgWBgqcawYKCQEGgIFBwaR8s\n",
       "KAgUBAoCBYGCpxrBgoJAQaAgUHAfFCwoCBQECgIFj56DBQWBgkBBoCBQcB8ULCgIFAQKAgWPnoMF\n",
       "BYGCQEGgMPfbP8GPs6AgUBAoCBQECo4awYKCQEGgIFDwflCwoCBQECgIFAQKLsyCBQWBgkBBoOA+\n",
       "KFhQECgIFAQKvkkHCwoCBYGCQEGg4KgRLCgIFAQKAgWPnoMFBYGCQEGgMP4yxc6CgkBBoCBQECg4\n",
       "agQLCgIFgYJAwaPnYEFBoCBQECgIFDx6DhYUBAoCBYGCo0awoCBQECgIFHyTDhYUBAoCBYGCQGGu\n",
       "N6hWFhQECgIFgYL7oGBBQaAgUBAouA8KFhQECgIFgYJAwVEjWFAQKAgUBArzXNqvLCgIFAQKAgWB\n",
       "wtzjwmxjQUGgIFAQKHg/KFhQECgIFAQK/gpesKAgUBAoCBQECv4KXrCgIFAQKAgUPHoOFhQECgIF\n",
       "gYKXOIMFBYGCQEGgIFDwC3XBgoJAQaAgUHDUCBYUBAoCBYGCQMFbrsGCgkBBoCBQ8JZrsKAgUBAo\n",
       "CBR8kw4WFAQKAgWBgkDBW67BgoJAQaAgUPD3g4IFBYGCQEGg4D4oWFAQKAgUBAoCBY+egwUFgYJA\n",
       "QaDgqBEsKAgUBAoCBYGCo0awoCBQECgIFBw1ggUFgYJAQaDgQzpYUBAoCBQECgIF90HBgoJAQaAg\n",
       "UHDUCBYUBAoCBYGCb9LBgoJAQaAgUBAoOGoECwoCBYGCQMHfDwoWFAQKAgWBgkDB/+0TLCgIFAQK\n",
       "AgX3QcGCgkBBoCBQmHd8Sm8sKAgUBAoCBYGCo0awoCBQECgIFDx6DhYUBAoCBYGCJ6vBgoJAQaAg\n",
       "UBAouA8KFhQECgIFgYJHz8GCgkBBoCBQECg4agQLCgIFgYJAwR9YChYUBAoCBYHCXC8IrSwoCBQE\n",
       "CgIFgYIXqIIFBYGCQEGgMM9RY2VBQaAgUBAo+CYdLCgIFAQKAgWBgqcawYKCQEGgIFDwflCwoCBQ\n",
       "ECgIFAQKc/1C3cqCgkBBoCBQcB8ULCgIFAQKAgV/miJYUBAoCBQECgIFL1AFCwoCBYGCQMGlfbCg\n",
       "IFAQKAgU3AcFCwoCBYGCQEGgMPe4EdpYUBAoCBQECu6DggUFgYJAQaAgUPCvWLCgIFAQKAgUPNUI\n",
       "FhQECgIFgYJL+2BBQaAgUBAoCBTmfhw1NhYUBAoCBYGCo0awoCBQECgIFOb5kF5ZUBAoCBQECgIF\n",
       "R41gQUGgIFAQKMz9+JDeWFAQKAgUBAoCBUeNYEFBoCBQECh4qhEsKAgUBAoCBd+kgwUFgYJAQaAg\n",
       "UPCvWLCgIFAQKAgUPHoOFhQECgIFgcK88+fbP8NPs6AgUBAoCBQECu6DggUFgYJAQaDg/aBgQUGg\n",
       "IFAQKAgU5j4XZhsLCgIFgYJAwVEjWFAQKAgUBApzPXpeWVAQKAgUBAoCBUeNYEFBoCBQECg4agQL\n",
       "CgIFgYJAYd7zTXpjQUGgIFAQKAgU3AcFCwoCBYGCQMFLnMGCgkBBoCBQECg4agQLCgIFgYJAYZ6j\n",
       "xsqCgkBBoCBQ8E06WFAQKAgUBAoChbleoFpZUBAoCBQECv7gdrCgIFAQKAgU/CpCsKAgUBAoCBQE\n",
       "Cp5qBAsKAgWBgkDBUSNYUBAoCBQECgIF/4oFCwoCBYGCQMGj52BBQaAgUBAo+CYdLCgIFAQKAgWB\n",
       "whyPnlcWFAQKAgWBgqNGsKAgUBAoCBS8xBksKAgUBAoCBYHCHEeNlQUFgYJAQaDg/aBgQUGgIFAQ\n",
       "KAgUPHoOFhQECgIFgYL7oGBBQaAgUBAozDvv2z/DT7OgIFAQKAgUBArug4IFBYGCQEGgMMdRY2VB\n",
       "QaAgUBAo/AdhU+3PqlcPeQAAAABJRU5ErkJggg==\n",
       "\" transform=\"translate(2161, 47)\"/>\n",
       "</g>\n",
       "<path clip-path=\"url(#clip310)\" d=\"M 0 0 M2280.7 1260.45 Q2277.09 1260.45 2275.26 1264.01 Q2273.45 1267.55 2273.45 1274.68 Q2273.45 1281.79 2275.26 1285.35 Q2277.09 1288.89 2280.7 1288.89 Q2284.33 1288.89 2286.14 1285.35 Q2287.97 1281.79 2287.97 1274.68 Q2287.97 1267.55 2286.14 1264.01 Q2284.33 1260.45 2280.7 1260.45 M2280.7 1256.74 Q2286.51 1256.74 2289.57 1261.35 Q2292.64 1265.93 2292.64 1274.68 Q2292.64 1283.41 2289.57 1288.02 Q2286.51 1292.6 2280.7 1292.6 Q2274.89 1292.6 2271.81 1288.02 Q2268.76 1283.41 2268.76 1274.68 Q2268.76 1265.93 2271.81 1261.35 Q2274.89 1256.74 2280.7 1256.74 Z\" fill=\"#000000\" fill-rule=\"evenodd\" fill-opacity=\"1\" /><path clip-path=\"url(#clip310)\" d=\"M 0 0 M2297.71 1286.05 L2302.6 1286.05 L2302.6 1291.93 L2297.71 1291.93 L2297.71 1286.05 Z\" fill=\"#000000\" fill-rule=\"evenodd\" fill-opacity=\"1\" /><path clip-path=\"url(#clip310)\" d=\"M 0 0 M2321.83 1273.29 Q2325.19 1274.01 2327.07 1276.28 Q2328.96 1278.55 2328.96 1281.88 Q2328.96 1287 2325.45 1289.8 Q2321.93 1292.6 2315.45 1292.6 Q2313.27 1292.6 2310.95 1292.16 Q2308.66 1291.74 2306.21 1290.89 L2306.21 1286.37 Q2308.15 1287.51 2310.47 1288.08 Q2312.78 1288.66 2315.31 1288.66 Q2319.7 1288.66 2322 1286.93 Q2324.31 1285.19 2324.31 1281.88 Q2324.31 1278.83 2322.16 1277.11 Q2320.03 1275.38 2316.21 1275.38 L2312.18 1275.38 L2312.18 1271.53 L2316.39 1271.53 Q2319.84 1271.53 2321.67 1270.17 Q2323.5 1268.78 2323.5 1266.19 Q2323.5 1263.52 2321.6 1262.11 Q2319.73 1260.68 2316.21 1260.68 Q2314.29 1260.68 2312.09 1261.09 Q2309.89 1261.51 2307.25 1262.39 L2307.25 1258.22 Q2309.91 1257.48 2312.23 1257.11 Q2314.57 1256.74 2316.63 1256.74 Q2321.95 1256.74 2325.05 1259.17 Q2328.15 1261.58 2328.15 1265.7 Q2328.15 1268.57 2326.51 1270.56 Q2324.87 1272.53 2321.83 1273.29 Z\" fill=\"#000000\" fill-rule=\"evenodd\" fill-opacity=\"1\" /><path clip-path=\"url(#clip310)\" d=\"M 0 0 M2346.88 1261.44 L2335.07 1279.89 L2346.88 1279.89 L2346.88 1261.44 M2345.65 1257.37 L2351.53 1257.37 L2351.53 1279.89 L2356.46 1279.89 L2356.46 1283.78 L2351.53 1283.78 L2351.53 1291.93 L2346.88 1291.93 L2346.88 1283.78 L2331.28 1283.78 L2331.28 1279.27 L2345.65 1257.37 Z\" fill=\"#000000\" fill-rule=\"evenodd\" fill-opacity=\"1\" /><path clip-path=\"url(#clip310)\" d=\"M 0 0 M2280.7 1061.24 Q2277.09 1061.24 2275.26 1064.81 Q2273.45 1068.35 2273.45 1075.48 Q2273.45 1082.59 2275.26 1086.15 Q2277.09 1089.69 2280.7 1089.69 Q2284.33 1089.69 2286.14 1086.15 Q2287.97 1082.59 2287.97 1075.48 Q2287.97 1068.35 2286.14 1064.81 Q2284.33 1061.24 2280.7 1061.24 M2280.7 1057.54 Q2286.51 1057.54 2289.57 1062.15 Q2292.64 1066.73 2292.64 1075.48 Q2292.64 1084.21 2289.57 1088.81 Q2286.51 1093.4 2280.7 1093.4 Q2274.89 1093.4 2271.81 1088.81 Q2268.76 1084.21 2268.76 1075.48 Q2268.76 1066.73 2271.81 1062.15 Q2274.89 1057.54 2280.7 1057.54 Z\" fill=\"#000000\" fill-rule=\"evenodd\" fill-opacity=\"1\" /><path clip-path=\"url(#clip310)\" d=\"M 0 0 M2297.71 1086.84 L2302.6 1086.84 L2302.6 1092.72 L2297.71 1092.72 L2297.71 1086.84 Z\" fill=\"#000000\" fill-rule=\"evenodd\" fill-opacity=\"1\" /><path clip-path=\"url(#clip310)\" d=\"M 0 0 M2321.83 1074.09 Q2325.19 1074.81 2327.07 1077.08 Q2328.96 1079.34 2328.96 1082.68 Q2328.96 1087.79 2325.45 1090.59 Q2321.93 1093.4 2315.45 1093.4 Q2313.27 1093.4 2310.95 1092.96 Q2308.66 1092.54 2306.21 1091.68 L2306.21 1087.17 Q2308.15 1088.3 2310.47 1088.88 Q2312.78 1089.46 2315.31 1089.46 Q2319.7 1089.46 2322 1087.72 Q2324.31 1085.99 2324.31 1082.68 Q2324.31 1079.62 2322.16 1077.91 Q2320.03 1076.17 2316.21 1076.17 L2312.18 1076.17 L2312.18 1072.33 L2316.39 1072.33 Q2319.84 1072.33 2321.67 1070.97 Q2323.5 1069.58 2323.5 1066.98 Q2323.5 1064.32 2321.6 1062.91 Q2319.73 1061.47 2316.21 1061.47 Q2314.29 1061.47 2312.09 1061.89 Q2309.89 1062.31 2307.25 1063.19 L2307.25 1059.02 Q2309.91 1058.28 2312.23 1057.91 Q2314.57 1057.54 2316.63 1057.54 Q2321.95 1057.54 2325.05 1059.97 Q2328.15 1062.38 2328.15 1066.5 Q2328.15 1069.37 2326.51 1071.36 Q2324.87 1073.33 2321.83 1074.09 Z\" fill=\"#000000\" fill-rule=\"evenodd\" fill-opacity=\"1\" /><path clip-path=\"url(#clip310)\" d=\"M 0 0 M2334.08 1058.16 L2352.44 1058.16 L2352.44 1062.1 L2338.36 1062.1 L2338.36 1070.57 Q2339.38 1070.22 2340.4 1070.06 Q2341.42 1069.88 2342.44 1069.88 Q2348.22 1069.88 2351.6 1073.05 Q2354.98 1076.22 2354.98 1081.64 Q2354.98 1087.22 2351.51 1090.32 Q2348.04 1093.4 2341.72 1093.4 Q2339.54 1093.4 2337.27 1093.03 Q2335.03 1092.66 2332.62 1091.91 L2332.62 1087.22 Q2334.7 1088.35 2336.93 1088.91 Q2339.15 1089.46 2341.63 1089.46 Q2345.63 1089.46 2347.97 1087.35 Q2350.31 1085.25 2350.31 1081.64 Q2350.31 1078.03 2347.97 1075.92 Q2345.63 1073.81 2341.63 1073.81 Q2339.75 1073.81 2337.88 1074.23 Q2336.02 1074.65 2334.08 1075.53 L2334.08 1058.16 Z\" fill=\"#000000\" fill-rule=\"evenodd\" fill-opacity=\"1\" /><path clip-path=\"url(#clip310)\" d=\"M 0 0 M2280.7 862.041 Q2277.09 862.041 2275.26 865.606 Q2273.45 869.147 2273.45 876.277 Q2273.45 883.383 2275.26 886.948 Q2277.09 890.49 2280.7 890.49 Q2284.33 890.49 2286.14 886.948 Q2287.97 883.383 2287.97 876.277 Q2287.97 869.147 2286.14 865.606 Q2284.33 862.041 2280.7 862.041 M2280.7 858.337 Q2286.51 858.337 2289.57 862.944 Q2292.64 867.527 2292.64 876.277 Q2292.64 885.004 2289.57 889.61 Q2286.51 894.193 2280.7 894.193 Q2274.89 894.193 2271.81 889.61 Q2268.76 885.004 2268.76 876.277 Q2268.76 867.527 2271.81 862.944 Q2274.89 858.337 2280.7 858.337 Z\" fill=\"#000000\" fill-rule=\"evenodd\" fill-opacity=\"1\" /><path clip-path=\"url(#clip310)\" d=\"M 0 0 M2297.71 887.642 L2302.6 887.642 L2302.6 893.522 L2297.71 893.522 L2297.71 887.642 Z\" fill=\"#000000\" fill-rule=\"evenodd\" fill-opacity=\"1\" /><path clip-path=\"url(#clip310)\" d=\"M 0 0 M2321.83 874.888 Q2325.19 875.605 2327.07 877.874 Q2328.96 880.142 2328.96 883.476 Q2328.96 888.592 2325.45 891.392 Q2321.93 894.193 2315.45 894.193 Q2313.27 894.193 2310.95 893.754 Q2308.66 893.337 2306.21 892.48 L2306.21 887.967 Q2308.15 889.101 2310.47 889.679 Q2312.78 890.258 2315.31 890.258 Q2319.7 890.258 2322 888.522 Q2324.31 886.786 2324.31 883.476 Q2324.31 880.42 2322.16 878.707 Q2320.03 876.971 2316.21 876.971 L2312.18 876.971 L2312.18 873.129 L2316.39 873.129 Q2319.84 873.129 2321.67 871.763 Q2323.5 870.374 2323.5 867.781 Q2323.5 865.119 2321.6 863.707 Q2319.73 862.272 2316.21 862.272 Q2314.29 862.272 2312.09 862.689 Q2309.89 863.106 2307.25 863.985 L2307.25 859.819 Q2309.91 859.078 2312.23 858.707 Q2314.57 858.337 2316.63 858.337 Q2321.95 858.337 2325.05 860.768 Q2328.15 863.175 2328.15 867.295 Q2328.15 870.166 2326.51 872.156 Q2324.87 874.124 2321.83 874.888 Z\" fill=\"#000000\" fill-rule=\"evenodd\" fill-opacity=\"1\" /><path clip-path=\"url(#clip310)\" d=\"M 0 0 M2344.61 874.379 Q2341.46 874.379 2339.61 876.531 Q2337.78 878.684 2337.78 882.434 Q2337.78 886.161 2339.61 888.337 Q2341.46 890.49 2344.61 890.49 Q2347.76 890.49 2349.59 888.337 Q2351.44 886.161 2351.44 882.434 Q2351.44 878.684 2349.59 876.531 Q2347.76 874.379 2344.61 874.379 M2353.89 859.726 L2353.89 863.985 Q2352.14 863.152 2350.33 862.712 Q2348.55 862.272 2346.79 862.272 Q2342.16 862.272 2339.7 865.397 Q2337.27 868.522 2336.93 874.842 Q2338.29 872.828 2340.35 871.763 Q2342.41 870.675 2344.89 870.675 Q2350.1 870.675 2353.11 873.846 Q2356.14 876.994 2356.14 882.434 Q2356.14 887.758 2352.99 890.976 Q2349.84 894.193 2344.61 894.193 Q2338.62 894.193 2335.45 889.61 Q2332.27 885.004 2332.27 876.277 Q2332.27 868.082 2336.16 863.221 Q2340.05 858.337 2346.6 858.337 Q2348.36 858.337 2350.14 858.684 Q2351.95 859.031 2353.89 859.726 Z\" fill=\"#000000\" fill-rule=\"evenodd\" fill-opacity=\"1\" /><path clip-path=\"url(#clip310)\" d=\"M 0 0 M2280.7 662.838 Q2277.09 662.838 2275.26 666.403 Q2273.45 669.945 2273.45 677.074 Q2273.45 684.181 2275.26 687.746 Q2277.09 691.287 2280.7 691.287 Q2284.33 691.287 2286.14 687.746 Q2287.97 684.181 2287.97 677.074 Q2287.97 669.945 2286.14 666.403 Q2284.33 662.838 2280.7 662.838 M2280.7 659.135 Q2286.51 659.135 2289.57 663.741 Q2292.64 668.324 2292.64 677.074 Q2292.64 685.801 2289.57 690.408 Q2286.51 694.991 2280.7 694.991 Q2274.89 694.991 2271.81 690.408 Q2268.76 685.801 2268.76 677.074 Q2268.76 668.324 2271.81 663.741 Q2274.89 659.135 2280.7 659.135 Z\" fill=\"#000000\" fill-rule=\"evenodd\" fill-opacity=\"1\" /><path clip-path=\"url(#clip310)\" d=\"M 0 0 M2297.71 688.44 L2302.6 688.44 L2302.6 694.32 L2297.71 694.32 L2297.71 688.44 Z\" fill=\"#000000\" fill-rule=\"evenodd\" fill-opacity=\"1\" /><path clip-path=\"url(#clip310)\" d=\"M 0 0 M2321.83 675.685 Q2325.19 676.403 2327.07 678.672 Q2328.96 680.94 2328.96 684.273 Q2328.96 689.389 2325.45 692.19 Q2321.93 694.991 2315.45 694.991 Q2313.27 694.991 2310.95 694.551 Q2308.66 694.134 2306.21 693.278 L2306.21 688.764 Q2308.15 689.898 2310.47 690.477 Q2312.78 691.056 2315.31 691.056 Q2319.7 691.056 2322 689.32 Q2324.31 687.583 2324.31 684.273 Q2324.31 681.218 2322.16 679.505 Q2320.03 677.769 2316.21 677.769 L2312.18 677.769 L2312.18 673.926 L2316.39 673.926 Q2319.84 673.926 2321.67 672.56 Q2323.5 671.172 2323.5 668.579 Q2323.5 665.917 2321.6 664.505 Q2319.73 663.07 2316.21 663.07 Q2314.29 663.07 2312.09 663.486 Q2309.89 663.903 2307.25 664.783 L2307.25 660.616 Q2309.91 659.875 2312.23 659.505 Q2314.57 659.135 2316.63 659.135 Q2321.95 659.135 2325.05 661.565 Q2328.15 663.973 2328.15 668.093 Q2328.15 670.963 2326.51 672.954 Q2324.87 674.922 2321.83 675.685 Z\" fill=\"#000000\" fill-rule=\"evenodd\" fill-opacity=\"1\" /><path clip-path=\"url(#clip310)\" d=\"M 0 0 M2332.85 659.76 L2355.07 659.76 L2355.07 661.75 L2342.53 694.32 L2337.64 694.32 L2349.45 663.695 L2332.85 663.695 L2332.85 659.76 Z\" fill=\"#000000\" fill-rule=\"evenodd\" fill-opacity=\"1\" /><path clip-path=\"url(#clip310)\" d=\"M 0 0 M2280.7 463.636 Q2277.09 463.636 2275.26 467.201 Q2273.45 470.742 2273.45 477.872 Q2273.45 484.978 2275.26 488.543 Q2277.09 492.085 2280.7 492.085 Q2284.33 492.085 2286.14 488.543 Q2287.97 484.978 2287.97 477.872 Q2287.97 470.742 2286.14 467.201 Q2284.33 463.636 2280.7 463.636 M2280.7 459.932 Q2286.51 459.932 2289.57 464.539 Q2292.64 469.122 2292.64 477.872 Q2292.64 486.599 2289.57 491.205 Q2286.51 495.788 2280.7 495.788 Q2274.89 495.788 2271.81 491.205 Q2268.76 486.599 2268.76 477.872 Q2268.76 469.122 2271.81 464.539 Q2274.89 459.932 2280.7 459.932 Z\" fill=\"#000000\" fill-rule=\"evenodd\" fill-opacity=\"1\" /><path clip-path=\"url(#clip310)\" d=\"M 0 0 M2297.71 489.237 L2302.6 489.237 L2302.6 495.117 L2297.71 495.117 L2297.71 489.237 Z\" fill=\"#000000\" fill-rule=\"evenodd\" fill-opacity=\"1\" /><path clip-path=\"url(#clip310)\" d=\"M 0 0 M2321.83 476.483 Q2325.19 477.201 2327.07 479.469 Q2328.96 481.738 2328.96 485.071 Q2328.96 490.187 2325.45 492.987 Q2321.93 495.788 2315.45 495.788 Q2313.27 495.788 2310.95 495.349 Q2308.66 494.932 2306.21 494.075 L2306.21 489.562 Q2308.15 490.696 2310.47 491.275 Q2312.78 491.853 2315.31 491.853 Q2319.7 491.853 2322 490.117 Q2324.31 488.381 2324.31 485.071 Q2324.31 482.015 2322.16 480.302 Q2320.03 478.566 2316.21 478.566 L2312.18 478.566 L2312.18 474.724 L2316.39 474.724 Q2319.84 474.724 2321.67 473.358 Q2323.5 471.969 2323.5 469.376 Q2323.5 466.714 2321.6 465.302 Q2319.73 463.867 2316.21 463.867 Q2314.29 463.867 2312.09 464.284 Q2309.89 464.701 2307.25 465.58 L2307.25 461.414 Q2309.91 460.673 2312.23 460.302 Q2314.57 459.932 2316.63 459.932 Q2321.95 459.932 2325.05 462.363 Q2328.15 464.77 2328.15 468.89 Q2328.15 471.761 2326.51 473.751 Q2324.87 475.719 2321.83 476.483 Z\" fill=\"#000000\" fill-rule=\"evenodd\" fill-opacity=\"1\" /><path clip-path=\"url(#clip310)\" d=\"M 0 0 M2344.03 478.705 Q2340.7 478.705 2338.78 480.488 Q2336.88 482.27 2336.88 485.395 Q2336.88 488.52 2338.78 490.302 Q2340.7 492.085 2344.03 492.085 Q2347.37 492.085 2349.29 490.302 Q2351.21 488.497 2351.21 485.395 Q2351.21 482.27 2349.29 480.488 Q2347.39 478.705 2344.03 478.705 M2339.36 476.714 Q2336.35 475.974 2334.66 473.913 Q2332.99 471.853 2332.99 468.89 Q2332.99 464.747 2335.93 462.339 Q2338.89 459.932 2344.03 459.932 Q2349.2 459.932 2352.14 462.339 Q2355.07 464.747 2355.07 468.89 Q2355.07 471.853 2353.39 473.913 Q2351.72 475.974 2348.73 476.714 Q2352.11 477.501 2353.99 479.793 Q2355.89 482.085 2355.89 485.395 Q2355.89 490.418 2352.81 493.103 Q2349.75 495.788 2344.03 495.788 Q2338.32 495.788 2335.24 493.103 Q2332.18 490.418 2332.18 485.395 Q2332.18 482.085 2334.08 479.793 Q2335.98 477.501 2339.36 476.714 M2337.64 469.33 Q2337.64 472.015 2339.31 473.52 Q2341 475.025 2344.03 475.025 Q2347.04 475.025 2348.73 473.52 Q2350.45 472.015 2350.45 469.33 Q2350.45 466.645 2348.73 465.14 Q2347.04 463.636 2344.03 463.636 Q2341 463.636 2339.31 465.14 Q2337.64 466.645 2337.64 469.33 Z\" fill=\"#000000\" fill-rule=\"evenodd\" fill-opacity=\"1\" /><path clip-path=\"url(#clip310)\" d=\"M 0 0 M2280.7 264.433 Q2277.09 264.433 2275.26 267.998 Q2273.45 271.54 2273.45 278.669 Q2273.45 285.776 2275.26 289.341 Q2277.09 292.882 2280.7 292.882 Q2284.33 292.882 2286.14 289.341 Q2287.97 285.776 2287.97 278.669 Q2287.97 271.54 2286.14 267.998 Q2284.33 264.433 2280.7 264.433 M2280.7 260.73 Q2286.51 260.73 2289.57 265.336 Q2292.64 269.919 2292.64 278.669 Q2292.64 287.396 2289.57 292.003 Q2286.51 296.586 2280.7 296.586 Q2274.89 296.586 2271.81 292.003 Q2268.76 287.396 2268.76 278.669 Q2268.76 269.919 2271.81 265.336 Q2274.89 260.73 2280.7 260.73 Z\" fill=\"#000000\" fill-rule=\"evenodd\" fill-opacity=\"1\" /><path clip-path=\"url(#clip310)\" d=\"M 0 0 M2297.71 290.035 L2302.6 290.035 L2302.6 295.915 L2297.71 295.915 L2297.71 290.035 Z\" fill=\"#000000\" fill-rule=\"evenodd\" fill-opacity=\"1\" /><path clip-path=\"url(#clip310)\" d=\"M 0 0 M2321.83 277.28 Q2325.19 277.998 2327.07 280.267 Q2328.96 282.535 2328.96 285.868 Q2328.96 290.984 2325.45 293.785 Q2321.93 296.586 2315.45 296.586 Q2313.27 296.586 2310.95 296.146 Q2308.66 295.729 2306.21 294.873 L2306.21 290.359 Q2308.15 291.493 2310.47 292.072 Q2312.78 292.651 2315.31 292.651 Q2319.7 292.651 2322 290.915 Q2324.31 289.179 2324.31 285.868 Q2324.31 282.813 2322.16 281.1 Q2320.03 279.364 2316.21 279.364 L2312.18 279.364 L2312.18 275.521 L2316.39 275.521 Q2319.84 275.521 2321.67 274.155 Q2323.5 272.767 2323.5 270.174 Q2323.5 267.512 2321.6 266.1 Q2319.73 264.665 2316.21 264.665 Q2314.29 264.665 2312.09 265.081 Q2309.89 265.498 2307.25 266.378 L2307.25 262.211 Q2309.91 261.47 2312.23 261.1 Q2314.57 260.73 2316.63 260.73 Q2321.95 260.73 2325.05 263.16 Q2328.15 265.568 2328.15 269.688 Q2328.15 272.558 2326.51 274.549 Q2324.87 276.517 2321.83 277.28 Z\" fill=\"#000000\" fill-rule=\"evenodd\" fill-opacity=\"1\" /><path clip-path=\"url(#clip310)\" d=\"M 0 0 M2334.17 295.197 L2334.17 290.938 Q2335.93 291.771 2337.74 292.211 Q2339.54 292.651 2341.28 292.651 Q2345.91 292.651 2348.34 289.549 Q2350.79 286.424 2351.14 280.081 Q2349.8 282.072 2347.74 283.137 Q2345.68 284.202 2343.18 284.202 Q2337.99 284.202 2334.96 281.077 Q2331.95 277.929 2331.95 272.489 Q2331.95 267.165 2335.1 263.947 Q2338.25 260.73 2343.48 260.73 Q2349.47 260.73 2352.62 265.336 Q2355.79 269.919 2355.79 278.669 Q2355.79 286.841 2351.9 291.725 Q2348.04 296.586 2341.49 296.586 Q2339.73 296.586 2337.92 296.239 Q2336.12 295.891 2334.17 295.197 M2343.48 280.544 Q2346.63 280.544 2348.45 278.392 Q2350.31 276.239 2350.31 272.489 Q2350.31 268.762 2348.45 266.609 Q2346.63 264.433 2343.48 264.433 Q2340.33 264.433 2338.48 266.609 Q2336.65 268.762 2336.65 272.489 Q2336.65 276.239 2338.48 278.392 Q2340.33 280.544 2343.48 280.544 Z\" fill=\"#000000\" fill-rule=\"evenodd\" fill-opacity=\"1\" /><path clip-path=\"url(#clip310)\" d=\"M 0 0 M2280.7 65.2308 Q2277.09 65.2308 2275.26 68.7956 Q2273.45 72.3372 2273.45 79.4668 Q2273.45 86.5733 2275.26 90.1381 Q2277.09 93.6797 2280.7 93.6797 Q2284.33 93.6797 2286.14 90.1381 Q2287.97 86.5733 2287.97 79.4668 Q2287.97 72.3372 2286.14 68.7956 Q2284.33 65.2308 2280.7 65.2308 M2280.7 61.5271 Q2286.51 61.5271 2289.57 66.1336 Q2292.64 70.7169 2292.64 79.4668 Q2292.64 88.1936 2289.57 92.8001 Q2286.51 97.3834 2280.7 97.3834 Q2274.89 97.3834 2271.81 92.8001 Q2268.76 88.1936 2268.76 79.4668 Q2268.76 70.7169 2271.81 66.1336 Q2274.89 61.5271 2280.7 61.5271 Z\" fill=\"#000000\" fill-rule=\"evenodd\" fill-opacity=\"1\" /><path clip-path=\"url(#clip310)\" d=\"M 0 0 M2297.71 90.8325 L2302.6 90.8325 L2302.6 96.7121 L2297.71 96.7121 L2297.71 90.8325 Z\" fill=\"#000000\" fill-rule=\"evenodd\" fill-opacity=\"1\" /><path clip-path=\"url(#clip310)\" d=\"M 0 0 M2320.51 66.2262 L2308.71 84.6751 L2320.51 84.6751 L2320.51 66.2262 M2319.29 62.1521 L2325.17 62.1521 L2325.17 84.6751 L2330.1 84.6751 L2330.1 88.564 L2325.17 88.564 L2325.17 96.7121 L2320.51 96.7121 L2320.51 88.564 L2304.91 88.564 L2304.91 84.0501 L2319.29 62.1521 Z\" fill=\"#000000\" fill-rule=\"evenodd\" fill-opacity=\"1\" /><path clip-path=\"url(#clip310)\" d=\"M 0 0 M2345.17 65.2308 Q2341.56 65.2308 2339.73 68.7956 Q2337.92 72.3372 2337.92 79.4668 Q2337.92 86.5733 2339.73 90.1381 Q2341.56 93.6797 2345.17 93.6797 Q2348.8 93.6797 2350.61 90.1381 Q2352.44 86.5733 2352.44 79.4668 Q2352.44 72.3372 2350.61 68.7956 Q2348.8 65.2308 2345.17 65.2308 M2345.17 61.5271 Q2350.98 61.5271 2354.03 66.1336 Q2357.11 70.7169 2357.11 79.4668 Q2357.11 88.1936 2354.03 92.8001 Q2350.98 97.3834 2345.17 97.3834 Q2339.36 97.3834 2336.28 92.8001 Q2333.22 88.1936 2333.22 79.4668 Q2333.22 70.7169 2336.28 66.1336 Q2339.36 61.5271 2345.17 61.5271 Z\" fill=\"#000000\" fill-rule=\"evenodd\" fill-opacity=\"1\" /><polyline clip-path=\"url(#clip310)\" style=\"stroke:#000000; stroke-width:4; stroke-opacity:1; fill:none\" points=\"\n",
       "  2232.76,1423.18 2232.76,1278.28 2256.76,1278.28 2232.76,1278.28 2232.76,1079.07 2256.76,1079.07 2232.76,1079.07 2232.76,879.871 2256.76,879.871 2232.76,879.871 \n",
       "  2232.76,680.668 2256.76,680.668 2232.76,680.668 2232.76,481.466 2256.76,481.466 2232.76,481.466 2232.76,282.263 2256.76,282.263 2232.76,282.263 2232.76,83.0609 \n",
       "  2256.76,83.0609 2232.76,83.0609 2232.76,47.2441 \n",
       "  \"/>\n",
       "</svg>\n"
      ]
     },
     "execution_count": 133,
     "metadata": {},
     "output_type": "execute_result"
    }
   ],
   "source": [
    "plot(self_tuning_nn)"
   ]
  },
  {
   "cell_type": "code",
   "execution_count": 134,
   "metadata": {},
   "outputs": [
    {
     "data": {
      "text/plain": [
       "(best_model = \u001b[34mNeuralNetworkClassifier{CustomNN,…} @376\u001b[39m,\n",
       " best_fitted_params = (chain = Chain(Chain(Dense(8, 23, σ), Dense(23, 10, σ), Dense(10, 2, σ)), softmax),),)"
      ]
     },
     "execution_count": 134,
     "metadata": {},
     "output_type": "execute_result"
    }
   ],
   "source": [
    "best = fitted_params(self_tuning_nn)\n",
    "best"
   ]
  },
  {
   "cell_type": "code",
   "execution_count": 135,
   "metadata": {},
   "outputs": [
    {
     "data": {
      "text/plain": [
       "NeuralNetworkClassifier(\n",
       "    builder = CustomNN(\n",
       "            n1 = 23,\n",
       "            n2 = 10),\n",
       "    finaliser = NNlib.softmax,\n",
       "    optimiser = ADAM(0.01, (0.9, 0.999), IdDict{Any,Any}()),\n",
       "    loss = Flux.crossentropy,\n",
       "    epochs = 10,\n",
       "    batch_size = 16,\n",
       "    lambda = 0.01,\n",
       "    alpha = 0.0,\n",
       "    optimiser_changes_trigger_retraining = false)\u001b[34m @376\u001b[39m"
      ]
     },
     "execution_count": 135,
     "metadata": {},
     "output_type": "execute_result"
    }
   ],
   "source": [
    "best.best_model"
   ]
  },
  {
   "cell_type": "code",
   "execution_count": 136,
   "metadata": {
    "scrolled": true
   },
   "outputs": [
    {
     "data": {
      "text/plain": [
       "0.3327258f0"
      ]
     },
     "execution_count": 136,
     "metadata": {},
     "output_type": "execute_result"
    }
   ],
   "source": [
    "best_loss = z.report.best_result.measurement[1]"
   ]
  },
  {
   "cell_type": "code",
   "execution_count": 137,
   "metadata": {},
   "outputs": [
    {
     "data": {
      "text/plain": [
       "0.01"
      ]
     },
     "execution_count": 137,
     "metadata": {},
     "output_type": "execute_result"
    }
   ],
   "source": [
    "best_eta = round(best.best_model.optimiser.eta, digits=5)"
   ]
  },
  {
   "cell_type": "code",
   "execution_count": 138,
   "metadata": {},
   "outputs": [],
   "source": [
    "fn = \"Figures/Grid_NN_$(param1):$(best.best_model.epochs)_x_$(param2):$(best_eta)_bestloss:$(best_loss)_hidden:$b\"\n",
    "png(replace(fn,'.' => ','))"
   ]
  },
  {
   "cell_type": "markdown",
   "metadata": {},
   "source": [
    "### GridSearch for Regularization"
   ]
  },
  {
   "cell_type": "code",
   "execution_count": 139,
   "metadata": {
    "scrolled": true
   },
   "outputs": [
    {
     "data": {
      "text/plain": [
       "NeuralNetworkClassifier(\n",
       "    builder = CustomNN(\n",
       "            n1 = 23,\n",
       "            n2 = 10),\n",
       "    finaliser = NNlib.softmax,\n",
       "    optimiser = ADAM(0.001, (0.9, 0.999), IdDict{Any,Any}()),\n",
       "    loss = Flux.crossentropy,\n",
       "    epochs = 10,\n",
       "    batch_size = 1,\n",
       "    lambda = 0.0,\n",
       "    alpha = 0.0,\n",
       "    optimiser_changes_trigger_retraining = false)\u001b[34m @755\u001b[39m"
      ]
     },
     "execution_count": 139,
     "metadata": {},
     "output_type": "execute_result"
    }
   ],
   "source": [
    "nn = NeuralNetworkClassifier(builder=CustomNN(best_n1,best_n2))"
   ]
  },
  {
   "cell_type": "code",
   "execution_count": 140,
   "metadata": {},
   "outputs": [
    {
     "data": {
      "text/plain": [
       "0.01"
      ]
     },
     "execution_count": 140,
     "metadata": {},
     "output_type": "execute_result"
    }
   ],
   "source": [
    "nn.optimiser.eta = best_eta\n",
    "nn.epochs = 60\n",
    "nn.batch_size = batch_sz\n",
    "nn.lambda = 0.01"
   ]
  },
  {
   "cell_type": "code",
   "execution_count": 141,
   "metadata": {},
   "outputs": [
    {
     "data": {
      "text/plain": [
       "\u001b[34mMachine{NeuralNetworkClassifier{CustomNN,…}} @808\u001b[39m trained 0 times.\n",
       "  args: \n",
       "    1:\t\u001b[34mSource @852\u001b[39m ⏎ `Table{AbstractArray{Continuous,1}}`\n",
       "    2:\t\u001b[34mSource @599\u001b[39m ⏎ `AbstractArray{Multiclass{2},1}`\n"
      ]
     },
     "execution_count": 141,
     "metadata": {},
     "output_type": "execute_result"
    }
   ],
   "source": [
    "Net = machine(nn, X_stand, y)"
   ]
  },
  {
   "cell_type": "code",
   "execution_count": 147,
   "metadata": {},
   "outputs": [
    {
     "data": {
      "text/plain": [
       "MLJBase.NumericRange(Float64, :lambda, ... )"
      ]
     },
     "execution_count": 147,
     "metadata": {},
     "output_type": "execute_result"
    }
   ],
   "source": [
    "param1 = :epochs\n",
    "param2 = :lambda\n",
    "\n",
    "r1 = range(nn, param1, lower=10, upper=100, scale=:linear)\n",
    "r2 = range(nn, param2, lower=0.0001, upper=10, scale=:log10)"
   ]
  },
  {
   "cell_type": "code",
   "execution_count": 148,
   "metadata": {
    "scrolled": true
   },
   "outputs": [
    {
     "data": {
      "text/plain": [
       "ProbabilisticTunedModel(\n",
       "    model = NeuralNetworkClassifier(\n",
       "            builder = \u001b[34mCustomNN @196\u001b[39m,\n",
       "            finaliser = NNlib.softmax,\n",
       "            optimiser = ADAM(0.01, (0.9, 0.999), IdDict{Any,Any}()),\n",
       "            loss = Flux.crossentropy,\n",
       "            epochs = 60,\n",
       "            batch_size = 16,\n",
       "            lambda = 0.01,\n",
       "            alpha = 0.0,\n",
       "            optimiser_changes_trigger_retraining = false),\n",
       "    tuning = Grid(\n",
       "            goal = 50,\n",
       "            resolution = 10,\n",
       "            shuffle = true,\n",
       "            rng = Random._GLOBAL_RNG()),\n",
       "    resampling = Holdout(\n",
       "            fraction_train = 0.7,\n",
       "            shuffle = false,\n",
       "            rng = Random._GLOBAL_RNG()),\n",
       "    measure = cross_entropy(\n",
       "            eps = 2.220446049250313e-16),\n",
       "    weights = nothing,\n",
       "    operation = MLJModelInterface.predict,\n",
       "    range = MLJBase.NumericRange{T,MLJBase.Bounded,Symbol} where T[\u001b[34mNumericRange{Int64,…} @660\u001b[39m, \u001b[34mNumericRange{Float64,…} @334\u001b[39m],\n",
       "    train_best = true,\n",
       "    repeats = 1,\n",
       "    n = nothing,\n",
       "    acceleration = CPUThreads{Int64}(1),\n",
       "    acceleration_resampling = CPU1{Nothing}(nothing),\n",
       "    check_measure = true)\u001b[34m @373\u001b[39m"
      ]
     },
     "execution_count": 148,
     "metadata": {},
     "output_type": "execute_result"
    }
   ],
   "source": [
    "self_tuning_nn_model = TunedModel(model=nn,\n",
    "                                    tuning=Grid(goal=50),\n",
    "                                    resampling=Holdout(fraction_train=0.7), \n",
    "                                    measure=cross_entropy,\n",
    "                                    acceleration=CPUThreads(),\n",
    "                                    range=[r1, r2])"
   ]
  },
  {
   "cell_type": "code",
   "execution_count": 149,
   "metadata": {},
   "outputs": [
    {
     "data": {
      "text/plain": [
       "\u001b[34mMachine{ProbabilisticTunedModel{Grid,…}} @077\u001b[39m trained 0 times.\n",
       "  args: \n",
       "    1:\t\u001b[34mSource @222\u001b[39m ⏎ `Table{AbstractArray{Continuous,1}}`\n",
       "    2:\t\u001b[34mSource @471\u001b[39m ⏎ `AbstractArray{Multiclass{2},1}`\n"
      ]
     },
     "execution_count": 149,
     "metadata": {},
     "output_type": "execute_result"
    }
   ],
   "source": [
    "self_tuning_nn = machine(self_tuning_nn_model, X_stand, y)"
   ]
  },
  {
   "cell_type": "code",
   "execution_count": 150,
   "metadata": {},
   "outputs": [
    {
     "name": "stderr",
     "output_type": "stream",
     "text": [
      "┌ Info: Training \u001b[34mMachine{ProbabilisticTunedModel{Grid,…}} @077\u001b[39m.\n",
      "└ @ MLJBase /home/andrew/.julia/packages/MLJBase/uKzAz/src/machines.jl:319\n",
      "┌ Info: Attempting to evaluate 49 models.\n",
      "└ @ MLJTuning /home/andrew/.julia/packages/MLJTuning/Bbgvk/src/tuned_models.jl:494\n",
      "\u001b[33mEvaluating over 49 metamodels: 100%[=========================] Time: 0:03:41\u001b[39m\n"
     ]
    },
    {
     "data": {
      "text/plain": [
       "\u001b[34mMachine{ProbabilisticTunedModel{Grid,…}} @077\u001b[39m trained 1 time.\n",
       "  args: \n",
       "    1:\t\u001b[34mSource @222\u001b[39m ⏎ `Table{AbstractArray{Continuous,1}}`\n",
       "    2:\t\u001b[34mSource @471\u001b[39m ⏎ `AbstractArray{Multiclass{2},1}`\n"
      ]
     },
     "execution_count": 150,
     "metadata": {},
     "output_type": "execute_result"
    }
   ],
   "source": [
    "z = fit!(self_tuning_nn, rows=train)"
   ]
  },
  {
   "cell_type": "code",
   "execution_count": 151,
   "metadata": {
    "scrolled": false
   },
   "outputs": [
    {
     "data": {
      "image/svg+xml": [
       "<?xml version=\"1.0\" encoding=\"utf-8\"?>\n",
       "<svg xmlns=\"http://www.w3.org/2000/svg\" xmlns:xlink=\"http://www.w3.org/1999/xlink\" width=\"600\" height=\"400\" viewBox=\"0 0 2400 1600\">\n",
       "<defs>\n",
       "  <clipPath id=\"clip360\">\n",
       "    <rect x=\"0\" y=\"0\" width=\"2400\" height=\"1600\"/>\n",
       "  </clipPath>\n",
       "</defs>\n",
       "<path clip-path=\"url(#clip360)\" d=\"\n",
       "M0 1600 L2400 1600 L2400 0 L0 0  Z\n",
       "  \" fill=\"#ffffff\" fill-rule=\"evenodd\" fill-opacity=\"1\"/>\n",
       "<defs>\n",
       "  <clipPath id=\"clip361\">\n",
       "    <rect x=\"480\" y=\"0\" width=\"1681\" height=\"1600\"/>\n",
       "  </clipPath>\n",
       "</defs>\n",
       "<path clip-path=\"url(#clip360)\" d=\"\n",
       "M244.308 1423.18 L2112.76 1423.18 L2112.76 47.2441 L244.308 47.2441  Z\n",
       "  \" fill=\"#ffffff\" fill-rule=\"evenodd\" fill-opacity=\"1\"/>\n",
       "<defs>\n",
       "  <clipPath id=\"clip362\">\n",
       "    <rect x=\"244\" y=\"47\" width=\"1869\" height=\"1377\"/>\n",
       "  </clipPath>\n",
       "</defs>\n",
       "<polyline clip-path=\"url(#clip362)\" style=\"stroke:#000000; stroke-width:2; stroke-opacity:0.1; fill:none\" points=\"\n",
       "  493.042,1423.18 493.042,47.2441 \n",
       "  \"/>\n",
       "<polyline clip-path=\"url(#clip362)\" style=\"stroke:#000000; stroke-width:2; stroke-opacity:0.1; fill:none\" points=\"\n",
       "  884.751,1423.18 884.751,47.2441 \n",
       "  \"/>\n",
       "<polyline clip-path=\"url(#clip362)\" style=\"stroke:#000000; stroke-width:2; stroke-opacity:0.1; fill:none\" points=\"\n",
       "  1276.46,1423.18 1276.46,47.2441 \n",
       "  \"/>\n",
       "<polyline clip-path=\"url(#clip362)\" style=\"stroke:#000000; stroke-width:2; stroke-opacity:0.1; fill:none\" points=\"\n",
       "  1668.17,1423.18 1668.17,47.2441 \n",
       "  \"/>\n",
       "<polyline clip-path=\"url(#clip362)\" style=\"stroke:#000000; stroke-width:2; stroke-opacity:0.1; fill:none\" points=\"\n",
       "  2059.88,1423.18 2059.88,47.2441 \n",
       "  \"/>\n",
       "<polyline clip-path=\"url(#clip362)\" style=\"stroke:#000000; stroke-width:2; stroke-opacity:0.1; fill:none\" points=\"\n",
       "  244.308,1384.24 2112.76,1384.24 \n",
       "  \"/>\n",
       "<polyline clip-path=\"url(#clip362)\" style=\"stroke:#000000; stroke-width:2; stroke-opacity:0.1; fill:none\" points=\"\n",
       "  244.308,1124.63 2112.76,1124.63 \n",
       "  \"/>\n",
       "<polyline clip-path=\"url(#clip362)\" style=\"stroke:#000000; stroke-width:2; stroke-opacity:0.1; fill:none\" points=\"\n",
       "  244.308,865.017 2112.76,865.017 \n",
       "  \"/>\n",
       "<polyline clip-path=\"url(#clip362)\" style=\"stroke:#000000; stroke-width:2; stroke-opacity:0.1; fill:none\" points=\"\n",
       "  244.308,605.407 2112.76,605.407 \n",
       "  \"/>\n",
       "<polyline clip-path=\"url(#clip362)\" style=\"stroke:#000000; stroke-width:2; stroke-opacity:0.1; fill:none\" points=\"\n",
       "  244.308,345.796 2112.76,345.796 \n",
       "  \"/>\n",
       "<polyline clip-path=\"url(#clip362)\" style=\"stroke:#000000; stroke-width:2; stroke-opacity:0.1; fill:none\" points=\"\n",
       "  244.308,86.1857 2112.76,86.1857 \n",
       "  \"/>\n",
       "<polyline clip-path=\"url(#clip360)\" style=\"stroke:#000000; stroke-width:4; stroke-opacity:1; fill:none\" points=\"\n",
       "  244.308,1423.18 2112.76,1423.18 \n",
       "  \"/>\n",
       "<polyline clip-path=\"url(#clip360)\" style=\"stroke:#000000; stroke-width:4; stroke-opacity:1; fill:none\" points=\"\n",
       "  244.308,1423.18 244.308,47.2441 \n",
       "  \"/>\n",
       "<polyline clip-path=\"url(#clip360)\" style=\"stroke:#000000; stroke-width:4; stroke-opacity:1; fill:none\" points=\"\n",
       "  493.042,1423.18 493.042,1406.67 \n",
       "  \"/>\n",
       "<polyline clip-path=\"url(#clip360)\" style=\"stroke:#000000; stroke-width:4; stroke-opacity:1; fill:none\" points=\"\n",
       "  884.751,1423.18 884.751,1406.67 \n",
       "  \"/>\n",
       "<polyline clip-path=\"url(#clip360)\" style=\"stroke:#000000; stroke-width:4; stroke-opacity:1; fill:none\" points=\"\n",
       "  1276.46,1423.18 1276.46,1406.67 \n",
       "  \"/>\n",
       "<polyline clip-path=\"url(#clip360)\" style=\"stroke:#000000; stroke-width:4; stroke-opacity:1; fill:none\" points=\"\n",
       "  1668.17,1423.18 1668.17,1406.67 \n",
       "  \"/>\n",
       "<polyline clip-path=\"url(#clip360)\" style=\"stroke:#000000; stroke-width:4; stroke-opacity:1; fill:none\" points=\"\n",
       "  2059.88,1423.18 2059.88,1406.67 \n",
       "  \"/>\n",
       "<polyline clip-path=\"url(#clip360)\" style=\"stroke:#000000; stroke-width:4; stroke-opacity:1; fill:none\" points=\"\n",
       "  244.308,1384.24 266.729,1384.24 \n",
       "  \"/>\n",
       "<polyline clip-path=\"url(#clip360)\" style=\"stroke:#000000; stroke-width:4; stroke-opacity:1; fill:none\" points=\"\n",
       "  244.308,1124.63 266.729,1124.63 \n",
       "  \"/>\n",
       "<polyline clip-path=\"url(#clip360)\" style=\"stroke:#000000; stroke-width:4; stroke-opacity:1; fill:none\" points=\"\n",
       "  244.308,865.017 266.729,865.017 \n",
       "  \"/>\n",
       "<polyline clip-path=\"url(#clip360)\" style=\"stroke:#000000; stroke-width:4; stroke-opacity:1; fill:none\" points=\"\n",
       "  244.308,605.407 266.729,605.407 \n",
       "  \"/>\n",
       "<polyline clip-path=\"url(#clip360)\" style=\"stroke:#000000; stroke-width:4; stroke-opacity:1; fill:none\" points=\"\n",
       "  244.308,345.796 266.729,345.796 \n",
       "  \"/>\n",
       "<polyline clip-path=\"url(#clip360)\" style=\"stroke:#000000; stroke-width:4; stroke-opacity:1; fill:none\" points=\"\n",
       "  244.308,86.1857 266.729,86.1857 \n",
       "  \"/>\n",
       "<path clip-path=\"url(#clip360)\" d=\"M 0 0 M474.188 1472.72 L490.508 1472.72 L490.508 1476.65 L468.563 1476.65 L468.563 1472.72 Q471.225 1469.96 475.809 1465.33 Q480.415 1460.68 481.596 1459.34 Q483.841 1456.81 484.721 1455.08 Q485.623 1453.32 485.623 1451.63 Q485.623 1448.87 483.679 1447.14 Q481.758 1445.4 478.656 1445.4 Q476.457 1445.4 474.003 1446.17 Q471.573 1446.93 468.795 1448.48 L468.795 1443.76 Q471.619 1442.62 474.073 1442.05 Q476.526 1441.47 478.563 1441.47 Q483.934 1441.47 487.128 1444.15 Q490.323 1446.84 490.323 1451.33 Q490.323 1453.46 489.512 1455.38 Q488.725 1457.28 486.619 1459.87 Q486.04 1460.54 482.938 1463.76 Q479.836 1466.95 474.188 1472.72 Z\" fill=\"#000000\" fill-rule=\"evenodd\" fill-opacity=\"1\" /><path clip-path=\"url(#clip360)\" d=\"M 0 0 M505.577 1445.17 Q501.966 1445.17 500.137 1448.74 Q498.332 1452.28 498.332 1459.41 Q498.332 1466.51 500.137 1470.08 Q501.966 1473.62 505.577 1473.62 Q509.211 1473.62 511.017 1470.08 Q512.846 1466.51 512.846 1459.41 Q512.846 1452.28 511.017 1448.74 Q509.211 1445.17 505.577 1445.17 M505.577 1441.47 Q511.387 1441.47 514.443 1446.07 Q517.521 1450.66 517.521 1459.41 Q517.521 1468.13 514.443 1472.74 Q511.387 1477.32 505.577 1477.32 Q499.767 1477.32 496.688 1472.74 Q493.633 1468.13 493.633 1459.41 Q493.633 1450.66 496.688 1446.07 Q499.767 1441.47 505.577 1441.47 Z\" fill=\"#000000\" fill-rule=\"evenodd\" fill-opacity=\"1\" /><path clip-path=\"url(#clip360)\" d=\"M 0 0 M874.253 1446.17 L862.448 1464.61 L874.253 1464.61 L874.253 1446.17 M873.026 1442.09 L878.906 1442.09 L878.906 1464.61 L883.836 1464.61 L883.836 1468.5 L878.906 1468.5 L878.906 1476.65 L874.253 1476.65 L874.253 1468.5 L858.651 1468.5 L858.651 1463.99 L873.026 1442.09 Z\" fill=\"#000000\" fill-rule=\"evenodd\" fill-opacity=\"1\" /><path clip-path=\"url(#clip360)\" d=\"M 0 0 M898.906 1445.17 Q895.295 1445.17 893.466 1448.74 Q891.66 1452.28 891.66 1459.41 Q891.66 1466.51 893.466 1470.08 Q895.295 1473.62 898.906 1473.62 Q902.54 1473.62 904.345 1470.08 Q906.174 1466.51 906.174 1459.41 Q906.174 1452.28 904.345 1448.74 Q902.54 1445.17 898.906 1445.17 M898.906 1441.47 Q904.716 1441.47 907.771 1446.07 Q910.85 1450.66 910.85 1459.41 Q910.85 1468.13 907.771 1472.74 Q904.716 1477.32 898.906 1477.32 Q893.095 1477.32 890.017 1472.74 Q886.961 1468.13 886.961 1459.41 Q886.961 1450.66 890.017 1446.07 Q893.095 1441.47 898.906 1441.47 Z\" fill=\"#000000\" fill-rule=\"evenodd\" fill-opacity=\"1\" /><path clip-path=\"url(#clip360)\" d=\"M 0 0 M1263.36 1457.51 Q1260.21 1457.51 1258.36 1459.66 Q1256.53 1461.81 1256.53 1465.56 Q1256.53 1469.29 1258.36 1471.47 Q1260.21 1473.62 1263.36 1473.62 Q1266.51 1473.62 1268.33 1471.47 Q1270.19 1469.29 1270.19 1465.56 Q1270.19 1461.81 1268.33 1459.66 Q1266.51 1457.51 1263.36 1457.51 M1272.64 1442.86 L1272.64 1447.11 Q1270.88 1446.28 1269.07 1445.84 Q1267.29 1445.4 1265.53 1445.4 Q1260.9 1445.4 1258.45 1448.53 Q1256.02 1451.65 1255.67 1457.97 Q1257.04 1455.96 1259.1 1454.89 Q1261.16 1453.8 1263.63 1453.8 Q1268.84 1453.8 1271.85 1456.98 Q1274.88 1460.12 1274.88 1465.56 Q1274.88 1470.89 1271.74 1474.11 Q1268.59 1477.32 1263.36 1477.32 Q1257.36 1477.32 1254.19 1472.74 Q1251.02 1468.13 1251.02 1459.41 Q1251.02 1451.21 1254.91 1446.35 Q1258.8 1441.47 1265.35 1441.47 Q1267.11 1441.47 1268.89 1441.81 Q1270.69 1442.16 1272.64 1442.86 Z\" fill=\"#000000\" fill-rule=\"evenodd\" fill-opacity=\"1\" /><path clip-path=\"url(#clip360)\" d=\"M 0 0 M1289.95 1445.17 Q1286.34 1445.17 1284.51 1448.74 Q1282.71 1452.28 1282.71 1459.41 Q1282.71 1466.51 1284.51 1470.08 Q1286.34 1473.62 1289.95 1473.62 Q1293.59 1473.62 1295.39 1470.08 Q1297.22 1466.51 1297.22 1459.41 Q1297.22 1452.28 1295.39 1448.74 Q1293.59 1445.17 1289.95 1445.17 M1289.95 1441.47 Q1295.76 1441.47 1298.82 1446.07 Q1301.9 1450.66 1301.9 1459.41 Q1301.9 1468.13 1298.82 1472.74 Q1295.76 1477.32 1289.95 1477.32 Q1284.14 1477.32 1281.07 1472.74 Q1278.01 1468.13 1278.01 1459.41 Q1278.01 1450.66 1281.07 1446.07 Q1284.14 1441.47 1289.95 1441.47 Z\" fill=\"#000000\" fill-rule=\"evenodd\" fill-opacity=\"1\" /><path clip-path=\"url(#clip360)\" d=\"M 0 0 M1654.66 1460.24 Q1651.33 1460.24 1649.41 1462.02 Q1647.51 1463.8 1647.51 1466.93 Q1647.51 1470.05 1649.41 1471.84 Q1651.33 1473.62 1654.66 1473.62 Q1657.99 1473.62 1659.91 1471.84 Q1661.84 1470.03 1661.84 1466.93 Q1661.84 1463.8 1659.91 1462.02 Q1658.02 1460.24 1654.66 1460.24 M1649.98 1458.25 Q1646.98 1457.51 1645.29 1455.45 Q1643.62 1453.39 1643.62 1450.43 Q1643.62 1446.28 1646.56 1443.87 Q1649.52 1441.47 1654.66 1441.47 Q1659.82 1441.47 1662.76 1443.87 Q1665.7 1446.28 1665.7 1450.43 Q1665.7 1453.39 1664.01 1455.45 Q1662.35 1457.51 1659.36 1458.25 Q1662.74 1459.04 1664.61 1461.33 Q1666.51 1463.62 1666.51 1466.93 Q1666.51 1471.95 1663.43 1474.64 Q1660.38 1477.32 1654.66 1477.32 Q1648.94 1477.32 1645.86 1474.64 Q1642.81 1471.95 1642.81 1466.93 Q1642.81 1463.62 1644.71 1461.33 Q1646.6 1459.04 1649.98 1458.25 M1648.27 1450.86 Q1648.27 1453.55 1649.94 1455.05 Q1651.63 1456.56 1654.66 1456.56 Q1657.67 1456.56 1659.36 1455.05 Q1661.07 1453.55 1661.07 1450.86 Q1661.07 1448.18 1659.36 1446.68 Q1657.67 1445.17 1654.66 1445.17 Q1651.63 1445.17 1649.94 1446.68 Q1648.27 1448.18 1648.27 1450.86 Z\" fill=\"#000000\" fill-rule=\"evenodd\" fill-opacity=\"1\" /><path clip-path=\"url(#clip360)\" d=\"M 0 0 M1681.58 1445.17 Q1677.97 1445.17 1676.14 1448.74 Q1674.34 1452.28 1674.34 1459.41 Q1674.34 1466.51 1676.14 1470.08 Q1677.97 1473.62 1681.58 1473.62 Q1685.22 1473.62 1687.02 1470.08 Q1688.85 1466.51 1688.85 1459.41 Q1688.85 1452.28 1687.02 1448.74 Q1685.22 1445.17 1681.58 1445.17 M1681.58 1441.47 Q1687.39 1441.47 1690.45 1446.07 Q1693.53 1450.66 1693.53 1459.41 Q1693.53 1468.13 1690.45 1472.74 Q1687.39 1477.32 1681.58 1477.32 Q1675.77 1477.32 1672.69 1472.74 Q1669.64 1468.13 1669.64 1459.41 Q1669.64 1450.66 1672.69 1446.07 Q1675.77 1441.47 1681.58 1441.47 Z\" fill=\"#000000\" fill-rule=\"evenodd\" fill-opacity=\"1\" /><path clip-path=\"url(#clip360)\" d=\"M 0 0 M2023.24 1472.72 L2030.88 1472.72 L2030.88 1446.35 L2022.57 1448.02 L2022.57 1443.76 L2030.84 1442.09 L2035.51 1442.09 L2035.51 1472.72 L2043.15 1472.72 L2043.15 1476.65 L2023.24 1476.65 L2023.24 1472.72 Z\" fill=\"#000000\" fill-rule=\"evenodd\" fill-opacity=\"1\" /><path clip-path=\"url(#clip360)\" d=\"M 0 0 M2058.22 1445.17 Q2054.61 1445.17 2052.78 1448.74 Q2050.97 1452.28 2050.97 1459.41 Q2050.97 1466.51 2052.78 1470.08 Q2054.61 1473.62 2058.22 1473.62 Q2061.85 1473.62 2063.66 1470.08 Q2065.49 1466.51 2065.49 1459.41 Q2065.49 1452.28 2063.66 1448.74 Q2061.85 1445.17 2058.22 1445.17 M2058.22 1441.47 Q2064.03 1441.47 2067.09 1446.07 Q2070.16 1450.66 2070.16 1459.41 Q2070.16 1468.13 2067.09 1472.74 Q2064.03 1477.32 2058.22 1477.32 Q2052.41 1477.32 2049.33 1472.74 Q2046.28 1468.13 2046.28 1459.41 Q2046.28 1450.66 2049.33 1446.07 Q2052.41 1441.47 2058.22 1441.47 Z\" fill=\"#000000\" fill-rule=\"evenodd\" fill-opacity=\"1\" /><path clip-path=\"url(#clip360)\" d=\"M 0 0 M2085.23 1445.17 Q2081.62 1445.17 2079.79 1448.74 Q2077.99 1452.28 2077.99 1459.41 Q2077.99 1466.51 2079.79 1470.08 Q2081.62 1473.62 2085.23 1473.62 Q2088.87 1473.62 2090.67 1470.08 Q2092.5 1466.51 2092.5 1459.41 Q2092.5 1452.28 2090.67 1448.74 Q2088.87 1445.17 2085.23 1445.17 M2085.23 1441.47 Q2091.04 1441.47 2094.1 1446.07 Q2097.18 1450.66 2097.18 1459.41 Q2097.18 1468.13 2094.1 1472.74 Q2091.04 1477.32 2085.23 1477.32 Q2079.42 1477.32 2076.35 1472.74 Q2073.29 1468.13 2073.29 1459.41 Q2073.29 1450.66 2076.35 1446.07 Q2079.42 1441.47 2085.23 1441.47 Z\" fill=\"#000000\" fill-rule=\"evenodd\" fill-opacity=\"1\" /><path clip-path=\"url(#clip360)\" d=\"M 0 0 M126.931 1404.03 L134.57 1404.03 L134.57 1377.67 L126.26 1379.33 L126.26 1375.07 L134.524 1373.41 L139.2 1373.41 L139.2 1404.03 L146.839 1404.03 L146.839 1407.97 L126.931 1407.97 L126.931 1404.03 Z\" fill=\"#000000\" fill-rule=\"evenodd\" fill-opacity=\"1\" /><path clip-path=\"url(#clip360)\" d=\"M 0 0 M161.908 1376.48 Q158.297 1376.48 156.468 1380.05 Q154.663 1383.59 154.663 1390.72 Q154.663 1397.83 156.468 1401.39 Q158.297 1404.93 161.908 1404.93 Q165.542 1404.93 167.348 1401.39 Q169.177 1397.83 169.177 1390.72 Q169.177 1383.59 167.348 1380.05 Q165.542 1376.48 161.908 1376.48 M161.908 1372.78 Q167.718 1372.78 170.774 1377.39 Q173.852 1381.97 173.852 1390.72 Q173.852 1399.45 170.774 1404.05 Q167.718 1408.64 161.908 1408.64 Q156.098 1408.64 153.019 1404.05 Q149.964 1399.45 149.964 1390.72 Q149.964 1381.97 153.019 1377.39 Q156.098 1372.78 161.908 1372.78 Z\" fill=\"#000000\" fill-rule=\"evenodd\" fill-opacity=\"1\" /><path clip-path=\"url(#clip360)\" d=\"M 0 0 M173.852 1366.88 L197.964 1366.88 L197.964 1370.08 L173.852 1370.08 L173.852 1366.88 Z\" fill=\"#000000\" fill-rule=\"evenodd\" fill-opacity=\"1\" /><path clip-path=\"url(#clip360)\" d=\"M 0 0 M212.521 1355.79 L202.929 1370.78 L212.521 1370.78 L212.521 1355.79 M211.524 1352.48 L216.302 1352.48 L216.302 1370.78 L220.308 1370.78 L220.308 1373.94 L216.302 1373.94 L216.302 1380.56 L212.521 1380.56 L212.521 1373.94 L199.845 1373.94 L199.845 1370.27 L211.524 1352.48 Z\" fill=\"#000000\" fill-rule=\"evenodd\" fill-opacity=\"1\" /><path clip-path=\"url(#clip360)\" d=\"M 0 0 M127.853 1144.42 L135.492 1144.42 L135.492 1118.05 L127.182 1119.72 L127.182 1115.46 L135.446 1113.8 L140.121 1113.8 L140.121 1144.42 L147.76 1144.42 L147.76 1148.36 L127.853 1148.36 L127.853 1144.42 Z\" fill=\"#000000\" fill-rule=\"evenodd\" fill-opacity=\"1\" /><path clip-path=\"url(#clip360)\" d=\"M 0 0 M162.83 1116.87 Q159.219 1116.87 157.39 1120.44 Q155.584 1123.98 155.584 1131.11 Q155.584 1138.22 157.39 1141.78 Q159.219 1145.32 162.83 1145.32 Q166.464 1145.32 168.269 1141.78 Q170.098 1138.22 170.098 1131.11 Q170.098 1123.98 168.269 1120.44 Q166.464 1116.87 162.83 1116.87 M162.83 1113.17 Q168.64 1113.17 171.695 1117.78 Q174.774 1122.36 174.774 1131.11 Q174.774 1139.84 171.695 1144.44 Q168.64 1149.03 162.83 1149.03 Q157.02 1149.03 153.941 1144.44 Q150.885 1139.84 150.885 1131.11 Q150.885 1122.36 153.941 1117.78 Q157.02 1113.17 162.83 1113.17 Z\" fill=\"#000000\" fill-rule=\"evenodd\" fill-opacity=\"1\" /><path clip-path=\"url(#clip360)\" d=\"M 0 0 M174.774 1107.27 L198.886 1107.27 L198.886 1110.47 L174.774 1110.47 L174.774 1107.27 Z\" fill=\"#000000\" fill-rule=\"evenodd\" fill-opacity=\"1\" /><path clip-path=\"url(#clip360)\" d=\"M 0 0 M214.515 1105.8 Q217.242 1106.39 218.765 1108.23 Q220.308 1110.07 220.308 1112.78 Q220.308 1116.94 217.449 1119.21 Q214.59 1121.49 209.324 1121.49 Q207.556 1121.49 205.675 1121.13 Q203.813 1120.79 201.82 1120.1 L201.82 1116.43 Q203.4 1117.35 205.28 1117.82 Q207.161 1118.29 209.211 1118.29 Q212.785 1118.29 214.647 1116.88 Q216.527 1115.47 216.527 1112.78 Q216.527 1110.3 214.778 1108.91 Q213.048 1107.5 209.945 1107.5 L206.672 1107.5 L206.672 1104.38 L210.095 1104.38 Q212.897 1104.38 214.383 1103.27 Q215.869 1102.14 215.869 1100.03 Q215.869 1097.87 214.327 1096.72 Q212.803 1095.55 209.945 1095.55 Q208.384 1095.55 206.597 1095.89 Q204.81 1096.23 202.666 1096.95 L202.666 1093.56 Q204.829 1092.96 206.71 1092.66 Q208.609 1092.36 210.283 1092.36 Q214.609 1092.36 217.129 1094.33 Q219.649 1096.29 219.649 1099.64 Q219.649 1101.97 218.314 1103.59 Q216.979 1105.18 214.515 1105.8 Z\" fill=\"#000000\" fill-rule=\"evenodd\" fill-opacity=\"1\" /><path clip-path=\"url(#clip360)\" d=\"M 0 0 M128.624 884.81 L136.263 884.81 L136.263 858.444 L127.953 860.111 L127.953 855.851 L136.217 854.185 L140.893 854.185 L140.893 884.81 L148.531 884.81 L148.531 888.745 L128.624 888.745 L128.624 884.81 Z\" fill=\"#000000\" fill-rule=\"evenodd\" fill-opacity=\"1\" /><path clip-path=\"url(#clip360)\" d=\"M 0 0 M163.601 857.264 Q159.99 857.264 158.161 860.828 Q156.355 864.37 156.355 871.5 Q156.355 878.606 158.161 882.171 Q159.99 885.712 163.601 885.712 Q167.235 885.712 169.041 882.171 Q170.869 878.606 170.869 871.5 Q170.869 864.37 169.041 860.828 Q167.235 857.264 163.601 857.264 M163.601 853.56 Q169.411 853.56 172.467 858.166 Q175.545 862.75 175.545 871.5 Q175.545 880.226 172.467 884.833 Q169.411 889.416 163.601 889.416 Q157.791 889.416 154.712 884.833 Q151.656 880.226 151.656 871.5 Q151.656 862.75 154.712 858.166 Q157.791 853.56 163.601 853.56 Z\" fill=\"#000000\" fill-rule=\"evenodd\" fill-opacity=\"1\" /><path clip-path=\"url(#clip360)\" d=\"M 0 0 M175.545 847.661 L199.657 847.661 L199.657 850.859 L175.545 850.859 L175.545 847.661 Z\" fill=\"#000000\" fill-rule=\"evenodd\" fill-opacity=\"1\" /><path clip-path=\"url(#clip360)\" d=\"M 0 0 M207.048 858.137 L220.308 858.137 L220.308 861.334 L202.478 861.334 L202.478 858.137 Q204.641 855.899 208.365 852.137 Q212.107 848.357 213.067 847.266 Q214.891 845.216 215.606 843.806 Q216.339 842.376 216.339 841.003 Q216.339 838.765 214.759 837.355 Q213.198 835.944 210.678 835.944 Q208.891 835.944 206.898 836.565 Q204.923 837.185 202.666 838.445 L202.666 834.609 Q204.961 833.687 206.954 833.217 Q208.948 832.747 210.603 832.747 Q214.966 832.747 217.562 834.928 Q220.157 837.11 220.157 840.759 Q220.157 842.489 219.499 844.05 Q218.859 845.592 217.148 847.699 Q216.678 848.244 214.158 850.859 Q211.637 853.454 207.048 858.137 Z\" fill=\"#000000\" fill-rule=\"evenodd\" fill-opacity=\"1\" /><path clip-path=\"url(#clip360)\" d=\"M 0 0 M128.323 625.199 L135.962 625.199 L135.962 598.834 L127.652 600.5 L127.652 596.241 L135.916 594.574 L140.592 594.574 L140.592 625.199 L148.231 625.199 L148.231 629.134 L128.323 629.134 L128.323 625.199 Z\" fill=\"#000000\" fill-rule=\"evenodd\" fill-opacity=\"1\" /><path clip-path=\"url(#clip360)\" d=\"M 0 0 M163.3 597.653 Q159.689 597.653 157.86 601.218 Q156.055 604.759 156.055 611.889 Q156.055 618.995 157.86 622.56 Q159.689 626.102 163.3 626.102 Q166.934 626.102 168.74 622.56 Q170.568 618.995 170.568 611.889 Q170.568 604.759 168.74 601.218 Q166.934 597.653 163.3 597.653 M163.3 593.949 Q169.11 593.949 172.166 598.556 Q175.244 603.139 175.244 611.889 Q175.244 620.616 172.166 625.222 Q169.11 629.806 163.3 629.806 Q157.49 629.806 154.411 625.222 Q151.356 620.616 151.356 611.889 Q151.356 603.139 154.411 598.556 Q157.49 593.949 163.3 593.949 Z\" fill=\"#000000\" fill-rule=\"evenodd\" fill-opacity=\"1\" /><path clip-path=\"url(#clip360)\" d=\"M 0 0 M175.244 588.051 L199.356 588.051 L199.356 591.248 L175.244 591.248 L175.244 588.051 Z\" fill=\"#000000\" fill-rule=\"evenodd\" fill-opacity=\"1\" /><path clip-path=\"url(#clip360)\" d=\"M 0 0 M204.133 598.527 L210.34 598.527 L210.34 577.105 L203.588 578.459 L203.588 574.998 L210.302 573.644 L214.101 573.644 L214.101 598.527 L220.308 598.527 L220.308 601.724 L204.133 601.724 L204.133 598.527 Z\" fill=\"#000000\" fill-rule=\"evenodd\" fill-opacity=\"1\" /><path clip-path=\"url(#clip360)\" d=\"M 0 0 M153.977 365.589 L161.616 365.589 L161.616 339.223 L153.306 340.89 L153.306 336.63 L161.57 334.964 L166.245 334.964 L166.245 365.589 L173.884 365.589 L173.884 369.524 L153.977 369.524 L153.977 365.589 Z\" fill=\"#000000\" fill-rule=\"evenodd\" fill-opacity=\"1\" /><path clip-path=\"url(#clip360)\" d=\"M 0 0 M188.954 338.042 Q185.343 338.042 183.514 341.607 Q181.708 345.149 181.708 352.279 Q181.708 359.385 183.514 362.95 Q185.343 366.491 188.954 366.491 Q192.588 366.491 194.393 362.95 Q196.222 359.385 196.222 352.279 Q196.222 345.149 194.393 341.607 Q192.588 338.042 188.954 338.042 M188.954 334.339 Q194.764 334.339 197.819 338.945 Q200.898 343.529 200.898 352.279 Q200.898 361.005 197.819 365.612 Q194.764 370.195 188.954 370.195 Q183.144 370.195 180.065 365.612 Q177.009 361.005 177.009 352.279 Q177.009 343.529 180.065 338.945 Q183.144 334.339 188.954 334.339 Z\" fill=\"#000000\" fill-rule=\"evenodd\" fill-opacity=\"1\" /><path clip-path=\"url(#clip360)\" d=\"M 0 0 M210.603 316.535 Q207.669 316.535 206.183 319.431 Q204.716 322.309 204.716 328.102 Q204.716 333.876 206.183 336.772 Q207.669 339.65 210.603 339.65 Q213.556 339.65 215.023 336.772 Q216.509 333.876 216.509 328.102 Q216.509 322.309 215.023 319.431 Q213.556 316.535 210.603 316.535 M210.603 313.526 Q215.324 313.526 217.806 317.268 Q220.308 320.992 220.308 328.102 Q220.308 335.192 217.806 338.935 Q215.324 342.659 210.603 342.659 Q205.882 342.659 203.381 338.935 Q200.898 335.192 200.898 328.102 Q200.898 320.992 203.381 317.268 Q205.882 313.526 210.603 313.526 Z\" fill=\"#000000\" fill-rule=\"evenodd\" fill-opacity=\"1\" /><path clip-path=\"url(#clip360)\" d=\"M 0 0 M156.667 105.978 L164.305 105.978 L164.305 79.6125 L155.995 81.2792 L155.995 77.0199 L164.259 75.3533 L168.935 75.3533 L168.935 105.978 L176.574 105.978 L176.574 109.913 L156.667 109.913 L156.667 105.978 Z\" fill=\"#000000\" fill-rule=\"evenodd\" fill-opacity=\"1\" /><path clip-path=\"url(#clip360)\" d=\"M 0 0 M191.643 78.432 Q188.032 78.432 186.203 81.9968 Q184.398 85.5384 184.398 92.668 Q184.398 99.7744 186.203 103.339 Q188.032 106.881 191.643 106.881 Q195.277 106.881 197.083 103.339 Q198.912 99.7744 198.912 92.668 Q198.912 85.5384 197.083 81.9968 Q195.277 78.432 191.643 78.432 M191.643 74.7283 Q197.453 74.7283 200.509 79.3347 Q203.588 83.918 203.588 92.668 Q203.588 101.395 200.509 106.001 Q197.453 110.585 191.643 110.585 Q185.833 110.585 182.754 106.001 Q179.699 101.395 179.699 92.668 Q179.699 83.918 182.754 79.3347 Q185.833 74.7283 191.643 74.7283 Z\" fill=\"#000000\" fill-rule=\"evenodd\" fill-opacity=\"1\" /><path clip-path=\"url(#clip360)\" d=\"M 0 0 M204.133 79.3056 L210.34 79.3056 L210.34 57.8835 L203.588 59.2377 L203.588 55.777 L210.302 54.4229 L214.101 54.4229 L214.101 79.3056 L220.308 79.3056 L220.308 82.5029 L204.133 82.5029 L204.133 79.3056 Z\" fill=\"#000000\" fill-rule=\"evenodd\" fill-opacity=\"1\" /><path clip-path=\"url(#clip360)\" d=\"M 0 0 M1108.81 1536.76 L1108.81 1539.62 L1081.88 1539.62 Q1082.27 1545.67 1085.51 1548.85 Q1088.79 1552 1094.62 1552 Q1097.99 1552 1101.14 1551.17 Q1104.32 1550.35 1107.44 1548.69 L1107.44 1554.23 Q1104.29 1555.57 1100.98 1556.27 Q1097.67 1556.97 1094.27 1556.97 Q1085.74 1556.97 1080.74 1552 Q1075.77 1547.04 1075.77 1538.57 Q1075.77 1529.82 1080.48 1524.69 Q1085.23 1519.54 1093.25 1519.54 Q1100.44 1519.54 1104.61 1524.18 Q1108.81 1528.8 1108.81 1536.76 M1102.95 1535.04 Q1102.89 1530.23 1100.25 1527.37 Q1097.64 1524.5 1093.31 1524.5 Q1088.41 1524.5 1085.45 1527.27 Q1082.52 1530.04 1082.08 1535.07 L1102.95 1535.04 Z\" fill=\"#000000\" fill-rule=\"evenodd\" fill-opacity=\"1\" /><path clip-path=\"url(#clip360)\" d=\"M 0 0 M1120.62 1550.7 L1120.62 1569.6 L1114.73 1569.6 L1114.73 1520.4 L1120.62 1520.4 L1120.62 1525.81 Q1122.47 1522.62 1125.27 1521.1 Q1128.1 1519.54 1132.01 1519.54 Q1138.51 1519.54 1142.55 1524.69 Q1146.62 1529.85 1146.62 1538.25 Q1146.62 1546.65 1142.55 1551.81 Q1138.51 1556.97 1132.01 1556.97 Q1128.1 1556.97 1125.27 1555.44 Q1122.47 1553.88 1120.62 1550.7 M1140.54 1538.25 Q1140.54 1531.79 1137.87 1528.13 Q1135.23 1524.44 1130.58 1524.44 Q1125.94 1524.44 1123.26 1528.13 Q1120.62 1531.79 1120.62 1538.25 Q1120.62 1544.71 1123.26 1548.4 Q1125.94 1552.07 1130.58 1552.07 Q1135.23 1552.07 1137.87 1548.4 Q1140.54 1544.71 1140.54 1538.25 Z\" fill=\"#000000\" fill-rule=\"evenodd\" fill-opacity=\"1\" /><path clip-path=\"url(#clip360)\" d=\"M 0 0 M1166.58 1524.5 Q1161.87 1524.5 1159.13 1528.19 Q1156.4 1531.85 1156.4 1538.25 Q1156.4 1544.65 1159.1 1548.34 Q1161.84 1552 1166.58 1552 Q1171.26 1552 1174 1548.31 Q1176.73 1544.62 1176.73 1538.25 Q1176.73 1531.92 1174 1528.23 Q1171.26 1524.5 1166.58 1524.5 M1166.58 1519.54 Q1174.22 1519.54 1178.58 1524.5 Q1182.94 1529.47 1182.94 1538.25 Q1182.94 1547 1178.58 1552 Q1174.22 1556.97 1166.58 1556.97 Q1158.91 1556.97 1154.55 1552 Q1150.22 1547 1150.22 1538.25 Q1150.22 1529.47 1154.55 1524.5 Q1158.91 1519.54 1166.58 1519.54 Z\" fill=\"#000000\" fill-rule=\"evenodd\" fill-opacity=\"1\" /><path clip-path=\"url(#clip360)\" d=\"M 0 0 M1214.74 1521.76 L1214.74 1527.24 Q1212.25 1525.87 1209.74 1525.2 Q1207.26 1524.5 1204.71 1524.5 Q1199.01 1524.5 1195.86 1528.13 Q1192.71 1531.73 1192.71 1538.25 Q1192.71 1544.78 1195.86 1548.4 Q1199.01 1552 1204.71 1552 Q1207.26 1552 1209.74 1551.33 Q1212.25 1550.63 1214.74 1549.26 L1214.74 1554.68 Q1212.29 1555.82 1209.64 1556.39 Q1207.03 1556.97 1204.07 1556.97 Q1196.02 1556.97 1191.28 1551.91 Q1186.54 1546.85 1186.54 1538.25 Q1186.54 1529.53 1191.31 1524.53 Q1196.12 1519.54 1204.46 1519.54 Q1207.16 1519.54 1209.74 1520.11 Q1212.32 1520.65 1214.74 1521.76 Z\" fill=\"#000000\" fill-rule=\"evenodd\" fill-opacity=\"1\" /><path clip-path=\"url(#clip360)\" d=\"M 0 0 M1250.51 1534.53 L1250.51 1556.04 L1244.66 1556.04 L1244.66 1534.72 Q1244.66 1529.66 1242.68 1527.14 Q1240.71 1524.63 1236.76 1524.63 Q1232.02 1524.63 1229.28 1527.65 Q1226.55 1530.68 1226.55 1535.9 L1226.55 1556.04 L1220.66 1556.04 L1220.66 1506.52 L1226.55 1506.52 L1226.55 1525.93 Q1228.65 1522.72 1231.48 1521.13 Q1234.34 1519.54 1238.07 1519.54 Q1244.21 1519.54 1247.36 1523.36 Q1250.51 1527.14 1250.51 1534.53 Z\" fill=\"#000000\" fill-rule=\"evenodd\" fill-opacity=\"1\" /><path clip-path=\"url(#clip360)\" d=\"M 0 0 M1279.38 1521.45 L1279.38 1526.98 Q1276.9 1525.71 1274.22 1525.07 Q1271.55 1524.44 1268.69 1524.44 Q1264.33 1524.44 1262.13 1525.77 Q1259.97 1527.11 1259.97 1529.79 Q1259.97 1531.82 1261.52 1533 Q1263.08 1534.15 1267.79 1535.2 L1269.8 1535.64 Q1276.04 1536.98 1278.65 1539.43 Q1281.29 1541.85 1281.29 1546.21 Q1281.29 1551.17 1277.34 1554.07 Q1273.43 1556.97 1266.55 1556.97 Q1263.69 1556.97 1260.57 1556.39 Q1257.48 1555.85 1254.04 1554.74 L1254.04 1548.69 Q1257.29 1550.38 1260.44 1551.24 Q1263.59 1552.07 1266.68 1552.07 Q1270.82 1552.07 1273.05 1550.66 Q1275.27 1549.23 1275.27 1546.65 Q1275.27 1544.27 1273.65 1542.99 Q1272.06 1541.72 1266.62 1540.54 L1264.58 1540.07 Q1259.14 1538.92 1256.72 1536.56 Q1254.3 1534.18 1254.3 1530.04 Q1254.3 1525.01 1257.86 1522.27 Q1261.43 1519.54 1267.99 1519.54 Q1271.23 1519.54 1274.1 1520.01 Q1276.96 1520.49 1279.38 1521.45 Z\" fill=\"#000000\" fill-rule=\"evenodd\" fill-opacity=\"1\" /><path clip-path=\"url(#clip360)\" d=\"M 0 0 M38.479 837.779 L38.479 831.923 L88.0042 831.923 L88.0042 837.779 L38.479 837.779 Z\" fill=\"#000000\" fill-rule=\"evenodd\" fill-opacity=\"1\" /><path clip-path=\"url(#clip360)\" d=\"M 0 0 M70.0847 809.579 Q70.0847 816.677 71.7079 819.414 Q73.3312 822.152 77.2461 822.152 Q80.3653 822.152 82.2114 820.115 Q84.0256 818.046 84.0256 814.513 Q84.0256 809.643 80.5881 806.715 Q77.1188 803.755 71.3897 803.755 L70.0847 803.755 L70.0847 809.579 M67.6657 797.898 L88.0042 797.898 L88.0042 803.755 L82.5933 803.755 Q85.8398 805.76 87.3994 808.752 Q88.9272 811.744 88.9272 816.072 Q88.9272 821.547 85.8716 824.793 Q82.7843 828.008 77.6281 828.008 Q71.6125 828.008 68.5569 823.998 Q65.5014 819.955 65.5014 811.966 L65.5014 803.755 L64.9285 803.755 Q60.8862 803.755 58.6901 806.428 Q56.4621 809.07 56.4621 813.876 Q56.4621 816.932 57.1941 819.828 Q57.9262 822.725 59.3903 825.398 L53.9795 825.398 Q52.7381 822.183 52.1334 819.16 Q51.4968 816.136 51.4968 813.271 Q51.4968 805.537 55.5072 801.718 Q59.5176 797.898 67.6657 797.898 Z\" fill=\"#000000\" fill-rule=\"evenodd\" fill-opacity=\"1\" /><path clip-path=\"url(#clip360)\" d=\"M 0 0 M59.1993 764.001 Q55.2526 761.805 53.3747 758.749 Q51.4968 755.694 51.4968 751.556 Q51.4968 745.986 55.4117 742.962 Q59.2948 739.939 66.4881 739.939 L88.0042 739.939 L88.0042 745.827 L66.679 745.827 Q61.5546 745.827 59.072 747.641 Q56.5894 749.455 56.5894 753.179 Q56.5894 757.731 59.6131 760.372 Q62.6368 763.014 67.8567 763.014 L88.0042 763.014 L88.0042 768.902 L66.679 768.902 Q61.5228 768.902 59.072 770.717 Q56.5894 772.531 56.5894 776.319 Q56.5894 780.806 59.6449 783.448 Q62.6686 786.09 67.8567 786.09 L88.0042 786.09 L88.0042 791.978 L52.3562 791.978 L52.3562 786.09 L57.8944 786.09 Q54.616 784.085 53.0564 781.284 Q51.4968 778.483 51.4968 774.632 Q51.4968 770.749 53.4702 768.043 Q55.4436 765.306 59.1993 764.001 Z\" fill=\"#000000\" fill-rule=\"evenodd\" fill-opacity=\"1\" /><path clip-path=\"url(#clip360)\" d=\"M 0 0 M70.212 708.205 Q63.7508 708.205 60.0905 710.879 Q56.3984 713.521 56.3984 718.168 Q56.3984 722.815 60.0905 725.488 Q63.7508 728.13 70.212 728.13 Q76.6732 728.13 80.3653 725.488 Q84.0256 722.815 84.0256 718.168 Q84.0256 713.521 80.3653 710.879 Q76.6732 708.205 70.212 708.205 M57.7671 728.13 Q54.5842 726.284 53.0564 723.483 Q51.4968 720.65 51.4968 716.736 Q51.4968 710.242 56.6531 706.2 Q61.8093 702.126 70.212 702.126 Q78.6147 702.126 83.771 706.2 Q88.9272 710.242 88.9272 716.736 Q88.9272 720.65 87.3994 723.483 Q85.8398 726.284 82.657 728.13 L88.0042 728.13 L88.0042 734.018 L38.479 734.018 L38.479 728.13 L57.7671 728.13 Z\" fill=\"#000000\" fill-rule=\"evenodd\" fill-opacity=\"1\" /><path clip-path=\"url(#clip360)\" d=\"M 0 0 M57.7671 672.526 L38.479 672.526 L38.479 666.669 L88.0042 666.669 L88.0042 672.526 L82.657 672.526 Q85.8398 674.372 87.3994 677.204 Q88.9272 680.005 88.9272 683.952 Q88.9272 690.413 83.771 694.487 Q78.6147 698.53 70.212 698.53 Q61.8093 698.53 56.6531 694.487 Q51.4968 690.413 51.4968 683.952 Q51.4968 680.005 53.0564 677.204 Q54.5842 674.372 57.7671 672.526 M70.212 692.482 Q76.6732 692.482 80.3653 689.84 Q84.0256 687.167 84.0256 682.52 Q84.0256 677.873 80.3653 675.199 Q76.6732 672.526 70.212 672.526 Q63.7508 672.526 60.0905 675.199 Q56.3984 677.873 56.3984 682.52 Q56.3984 687.167 60.0905 689.84 Q63.7508 692.482 70.212 692.482 Z\" fill=\"#000000\" fill-rule=\"evenodd\" fill-opacity=\"1\" /><path clip-path=\"url(#clip360)\" d=\"M 0 0 M70.0847 644.326 Q70.0847 651.423 71.7079 654.161 Q73.3312 656.898 77.2461 656.898 Q80.3653 656.898 82.2114 654.861 Q84.0256 652.792 84.0256 649.259 Q84.0256 644.389 80.5881 641.461 Q77.1188 638.501 71.3897 638.501 L70.0847 638.501 L70.0847 644.326 M67.6657 632.645 L88.0042 632.645 L88.0042 638.501 L82.5933 638.501 Q85.8398 640.506 87.3994 643.498 Q88.9272 646.49 88.9272 650.819 Q88.9272 656.293 85.8716 659.54 Q82.7843 662.754 77.6281 662.754 Q71.6125 662.754 68.5569 658.744 Q65.5014 654.702 65.5014 646.713 L65.5014 638.501 L64.9285 638.501 Q60.8862 638.501 58.6901 641.175 Q56.4621 643.816 56.4621 648.622 Q56.4621 651.678 57.1941 654.574 Q57.9262 657.471 59.3903 660.144 L53.9795 660.144 Q52.7381 656.93 52.1334 653.906 Q51.4968 650.882 51.4968 648.018 Q51.4968 640.283 55.5072 636.464 Q59.5176 632.645 67.6657 632.645 Z\" fill=\"#000000\" fill-rule=\"evenodd\" fill-opacity=\"1\" /><circle clip-path=\"url(#clip362)\" cx=\"1472.31\" cy=\"951.554\" r=\"30\" fill=\"#ad305c\" fill-rule=\"evenodd\" fill-opacity=\"1\" stroke=\"#000000\" stroke-opacity=\"1\" stroke-width=\"3.2\"/>\n",
       "<circle clip-path=\"url(#clip362)\" cx=\"2059.88\" cy=\"302.528\" r=\"27\" fill=\"#9c2864\" fill-rule=\"evenodd\" fill-opacity=\"1\" stroke=\"#000000\" stroke-opacity=\"1\" stroke-width=\"3.2\"/>\n",
       "<circle clip-path=\"url(#clip362)\" cx=\"884.751\" cy=\"951.554\" r=\"24\" fill=\"#84206b\" fill-rule=\"evenodd\" fill-opacity=\"1\" stroke=\"#000000\" stroke-opacity=\"1\" stroke-width=\"3.2\"/>\n",
       "<circle clip-path=\"url(#clip362)\" cx=\"590.969\" cy=\"1167.9\" r=\"40\" fill=\"#e65d2e\" fill-rule=\"evenodd\" fill-opacity=\"1\" stroke=\"#000000\" stroke-opacity=\"1\" stroke-width=\"3.2\"/>\n",
       "<circle clip-path=\"url(#clip362)\" cx=\"884.751\" cy=\"518.87\" r=\"30\" fill=\"#ae305b\" fill-rule=\"evenodd\" fill-opacity=\"1\" stroke=\"#000000\" stroke-opacity=\"1\" stroke-width=\"3.2\"/>\n",
       "<circle clip-path=\"url(#clip362)\" cx=\"1472.31\" cy=\"1384.24\" r=\"22\" fill=\"#781c6d\" fill-rule=\"evenodd\" fill-opacity=\"1\" stroke=\"#000000\" stroke-opacity=\"1\" stroke-width=\"3.2\"/>\n",
       "<circle clip-path=\"url(#clip362)\" cx=\"1472.31\" cy=\"518.87\" r=\"37\" fill=\"#d94d3d\" fill-rule=\"evenodd\" fill-opacity=\"1\" stroke=\"#000000\" stroke-opacity=\"1\" stroke-width=\"3.2\"/>\n",
       "<circle clip-path=\"url(#clip362)\" cx=\"297.188\" cy=\"86.1857\" r=\"43\" fill=\"#f2751a\" fill-rule=\"evenodd\" fill-opacity=\"1\" stroke=\"#000000\" stroke-opacity=\"1\" stroke-width=\"3.2\"/>\n",
       "<circle clip-path=\"url(#clip362)\" cx=\"2059.88\" cy=\"735.212\" r=\"61\" fill=\"#fcfea4\" fill-rule=\"evenodd\" fill-opacity=\"1\" stroke=\"#000000\" stroke-opacity=\"1\" stroke-width=\"3.2\"/>\n",
       "<circle clip-path=\"url(#clip362)\" cx=\"590.969\" cy=\"86.1857\" r=\"39\" fill=\"#e25833\" fill-rule=\"evenodd\" fill-opacity=\"1\" stroke=\"#000000\" stroke-opacity=\"1\" stroke-width=\"3.2\"/>\n",
       "<circle clip-path=\"url(#clip362)\" cx=\"1766.09\" cy=\"1167.9\" r=\"26\" fill=\"#932567\" fill-rule=\"evenodd\" fill-opacity=\"1\" stroke=\"#000000\" stroke-opacity=\"1\" stroke-width=\"3.2\"/>\n",
       "<circle clip-path=\"url(#clip362)\" cx=\"297.188\" cy=\"951.554\" r=\"51\" fill=\"#fbaf14\" fill-rule=\"evenodd\" fill-opacity=\"1\" stroke=\"#000000\" stroke-opacity=\"1\" stroke-width=\"3.2\"/>\n",
       "<circle clip-path=\"url(#clip362)\" cx=\"2059.88\" cy=\"1167.9\" r=\"10\" fill=\"#1e0c46\" fill-rule=\"evenodd\" fill-opacity=\"1\" stroke=\"#000000\" stroke-opacity=\"1\" stroke-width=\"3.2\"/>\n",
       "<circle clip-path=\"url(#clip362)\" cx=\"1766.09\" cy=\"735.212\" r=\"39\" fill=\"#e55b30\" fill-rule=\"evenodd\" fill-opacity=\"1\" stroke=\"#000000\" stroke-opacity=\"1\" stroke-width=\"3.2\"/>\n",
       "<circle clip-path=\"url(#clip362)\" cx=\"884.751\" cy=\"1384.24\" r=\"16\" fill=\"#4d0c6b\" fill-rule=\"evenodd\" fill-opacity=\"1\" stroke=\"#000000\" stroke-opacity=\"1\" stroke-width=\"3.2\"/>\n",
       "<circle clip-path=\"url(#clip362)\" cx=\"884.751\" cy=\"302.528\" r=\"17\" fill=\"#530e6c\" fill-rule=\"evenodd\" fill-opacity=\"1\" stroke=\"#000000\" stroke-opacity=\"1\" stroke-width=\"3.2\"/>\n",
       "<circle clip-path=\"url(#clip362)\" cx=\"1178.53\" cy=\"1384.24\" r=\"37\" fill=\"#d74b3e\" fill-rule=\"evenodd\" fill-opacity=\"1\" stroke=\"#000000\" stroke-opacity=\"1\" stroke-width=\"3.2\"/>\n",
       "<circle clip-path=\"url(#clip362)\" cx=\"1472.31\" cy=\"735.212\" r=\"35\" fill=\"#cb4148\" fill-rule=\"evenodd\" fill-opacity=\"1\" stroke=\"#000000\" stroke-opacity=\"1\" stroke-width=\"3.2\"/>\n",
       "<circle clip-path=\"url(#clip362)\" cx=\"2059.88\" cy=\"86.1857\" r=\"31\" fill=\"#b63457\" fill-rule=\"evenodd\" fill-opacity=\"1\" stroke=\"#000000\" stroke-opacity=\"1\" stroke-width=\"3.2\"/>\n",
       "<circle clip-path=\"url(#clip362)\" cx=\"1472.31\" cy=\"86.1857\" r=\"24\" fill=\"#86216a\" fill-rule=\"evenodd\" fill-opacity=\"1\" stroke=\"#000000\" stroke-opacity=\"1\" stroke-width=\"3.2\"/>\n",
       "<circle clip-path=\"url(#clip362)\" cx=\"590.969\" cy=\"302.528\" r=\"13\" fill=\"#380962\" fill-rule=\"evenodd\" fill-opacity=\"1\" stroke=\"#000000\" stroke-opacity=\"1\" stroke-width=\"3.2\"/>\n",
       "<circle clip-path=\"url(#clip362)\" cx=\"884.751\" cy=\"735.212\" r=\"31\" fill=\"#b23259\" fill-rule=\"evenodd\" fill-opacity=\"1\" stroke=\"#000000\" stroke-opacity=\"1\" stroke-width=\"3.2\"/>\n",
       "<circle clip-path=\"url(#clip362)\" cx=\"1766.09\" cy=\"951.554\" r=\"3\" fill=\"#000003\" fill-rule=\"evenodd\" fill-opacity=\"1\" stroke=\"#000000\" stroke-opacity=\"1\" stroke-width=\"3.2\"/>\n",
       "<circle clip-path=\"url(#clip362)\" cx=\"297.188\" cy=\"735.212\" r=\"20\" fill=\"#68166e\" fill-rule=\"evenodd\" fill-opacity=\"1\" stroke=\"#000000\" stroke-opacity=\"1\" stroke-width=\"3.2\"/>\n",
       "<circle clip-path=\"url(#clip362)\" cx=\"1178.53\" cy=\"735.212\" r=\"19\" fill=\"#5f136e\" fill-rule=\"evenodd\" fill-opacity=\"1\" stroke=\"#000000\" stroke-opacity=\"1\" stroke-width=\"3.2\"/>\n",
       "<circle clip-path=\"url(#clip362)\" cx=\"1178.53\" cy=\"951.554\" r=\"37\" fill=\"#d94d3c\" fill-rule=\"evenodd\" fill-opacity=\"1\" stroke=\"#000000\" stroke-opacity=\"1\" stroke-width=\"3.2\"/>\n",
       "<circle clip-path=\"url(#clip362)\" cx=\"1766.09\" cy=\"302.528\" r=\"30\" fill=\"#ad305c\" fill-rule=\"evenodd\" fill-opacity=\"1\" stroke=\"#000000\" stroke-opacity=\"1\" stroke-width=\"3.2\"/>\n",
       "<circle clip-path=\"url(#clip362)\" cx=\"297.188\" cy=\"302.528\" r=\"11\" fill=\"#220b4c\" fill-rule=\"evenodd\" fill-opacity=\"1\" stroke=\"#000000\" stroke-opacity=\"1\" stroke-width=\"3.2\"/>\n",
       "<circle clip-path=\"url(#clip362)\" cx=\"884.751\" cy=\"1167.9\" r=\"22\" fill=\"#741a6d\" fill-rule=\"evenodd\" fill-opacity=\"1\" stroke=\"#000000\" stroke-opacity=\"1\" stroke-width=\"3.2\"/>\n",
       "<circle clip-path=\"url(#clip362)\" cx=\"297.188\" cy=\"1167.9\" r=\"26\" fill=\"#922567\" fill-rule=\"evenodd\" fill-opacity=\"1\" stroke=\"#000000\" stroke-opacity=\"1\" stroke-width=\"3.2\"/>\n",
       "<circle clip-path=\"url(#clip362)\" cx=\"590.969\" cy=\"735.212\" r=\"18\" fill=\"#59106d\" fill-rule=\"evenodd\" fill-opacity=\"1\" stroke=\"#000000\" stroke-opacity=\"1\" stroke-width=\"3.2\"/>\n",
       "<circle clip-path=\"url(#clip362)\" cx=\"297.188\" cy=\"1384.24\" r=\"33\" fill=\"#c13a50\" fill-rule=\"evenodd\" fill-opacity=\"1\" stroke=\"#000000\" stroke-opacity=\"1\" stroke-width=\"3.2\"/>\n",
       "<circle clip-path=\"url(#clip362)\" cx=\"1766.09\" cy=\"518.87\" r=\"41\" fill=\"#e9622a\" fill-rule=\"evenodd\" fill-opacity=\"1\" stroke=\"#000000\" stroke-opacity=\"1\" stroke-width=\"3.2\"/>\n",
       "<circle clip-path=\"url(#clip362)\" cx=\"884.751\" cy=\"86.1857\" r=\"30\" fill=\"#ac2f5c\" fill-rule=\"evenodd\" fill-opacity=\"1\" stroke=\"#000000\" stroke-opacity=\"1\" stroke-width=\"3.2\"/>\n",
       "<circle clip-path=\"url(#clip362)\" cx=\"1472.31\" cy=\"302.528\" r=\"31\" fill=\"#b13259\" fill-rule=\"evenodd\" fill-opacity=\"1\" stroke=\"#000000\" stroke-opacity=\"1\" stroke-width=\"3.2\"/>\n",
       "<circle clip-path=\"url(#clip362)\" cx=\"297.188\" cy=\"518.87\" r=\"27\" fill=\"#9a2864\" fill-rule=\"evenodd\" fill-opacity=\"1\" stroke=\"#000000\" stroke-opacity=\"1\" stroke-width=\"3.2\"/>\n",
       "<circle clip-path=\"url(#clip362)\" cx=\"590.969\" cy=\"1384.24\" r=\"38\" fill=\"#dd5238\" fill-rule=\"evenodd\" fill-opacity=\"1\" stroke=\"#000000\" stroke-opacity=\"1\" stroke-width=\"3.2\"/>\n",
       "<circle clip-path=\"url(#clip362)\" cx=\"590.969\" cy=\"518.87\" r=\"38\" fill=\"#e05435\" fill-rule=\"evenodd\" fill-opacity=\"1\" stroke=\"#000000\" stroke-opacity=\"1\" stroke-width=\"3.2\"/>\n",
       "<circle clip-path=\"url(#clip362)\" cx=\"1178.53\" cy=\"86.1857\" r=\"25\" fill=\"#88216a\" fill-rule=\"evenodd\" fill-opacity=\"1\" stroke=\"#000000\" stroke-opacity=\"1\" stroke-width=\"3.2\"/>\n",
       "<circle clip-path=\"url(#clip362)\" cx=\"1178.53\" cy=\"302.528\" r=\"16\" fill=\"#4d0c6b\" fill-rule=\"evenodd\" fill-opacity=\"1\" stroke=\"#000000\" stroke-opacity=\"1\" stroke-width=\"3.2\"/>\n",
       "<circle clip-path=\"url(#clip362)\" cx=\"1472.31\" cy=\"1167.9\" r=\"25\" fill=\"#8d2368\" fill-rule=\"evenodd\" fill-opacity=\"1\" stroke=\"#000000\" stroke-opacity=\"1\" stroke-width=\"3.2\"/>\n",
       "<circle clip-path=\"url(#clip362)\" cx=\"2059.88\" cy=\"1384.24\" r=\"24\" fill=\"#801f6b\" fill-rule=\"evenodd\" fill-opacity=\"1\" stroke=\"#000000\" stroke-opacity=\"1\" stroke-width=\"3.2\"/>\n",
       "<circle clip-path=\"url(#clip362)\" cx=\"1766.09\" cy=\"86.1857\" r=\"38\" fill=\"#e05535\" fill-rule=\"evenodd\" fill-opacity=\"1\" stroke=\"#000000\" stroke-opacity=\"1\" stroke-width=\"3.2\"/>\n",
       "<circle clip-path=\"url(#clip362)\" cx=\"2059.88\" cy=\"951.554\" r=\"42\" fill=\"#ef6d21\" fill-rule=\"evenodd\" fill-opacity=\"1\" stroke=\"#000000\" stroke-opacity=\"1\" stroke-width=\"3.2\"/>\n",
       "<circle clip-path=\"url(#clip362)\" cx=\"1178.53\" cy=\"518.87\" r=\"21\" fill=\"#6e186e\" fill-rule=\"evenodd\" fill-opacity=\"1\" stroke=\"#000000\" stroke-opacity=\"1\" stroke-width=\"3.2\"/>\n",
       "<circle clip-path=\"url(#clip362)\" cx=\"1766.09\" cy=\"1384.24\" r=\"31\" fill=\"#b33259\" fill-rule=\"evenodd\" fill-opacity=\"1\" stroke=\"#000000\" stroke-opacity=\"1\" stroke-width=\"3.2\"/>\n",
       "<circle clip-path=\"url(#clip362)\" cx=\"1178.53\" cy=\"1167.9\" r=\"26\" fill=\"#902468\" fill-rule=\"evenodd\" fill-opacity=\"1\" stroke=\"#000000\" stroke-opacity=\"1\" stroke-width=\"3.2\"/>\n",
       "<circle clip-path=\"url(#clip362)\" cx=\"2059.88\" cy=\"518.87\" r=\"15\" fill=\"#440a68\" fill-rule=\"evenodd\" fill-opacity=\"1\" stroke=\"#000000\" stroke-opacity=\"1\" stroke-width=\"3.2\"/>\n",
       "<circle clip-path=\"url(#clip362)\" cx=\"590.969\" cy=\"951.554\" r=\"6\" fill=\"#06041a\" fill-rule=\"evenodd\" fill-opacity=\"1\" stroke=\"#000000\" stroke-opacity=\"1\" stroke-width=\"3.2\"/>\n",
       "<defs>\n",
       "  <clipPath id=\"clip363\">\n",
       "    <rect x=\"2160\" y=\"47\" width=\"73\" height=\"1377\"/>\n",
       "  </clipPath>\n",
       "</defs>\n",
       "<g clip-path=\"url(#clip363)\">\n",
       "<image width=\"72\" height=\"1376\" xlink:href=\"data:image/png;base64,\n",
       "iVBORw0KGgoAAAANSUhEUgAAAEgAAAVgCAYAAADsKhu7AAAL6UlEQVR4nO3dwZEjNxBFQVBR/lsh\n",
       "L6UFZIHqHclDpgUTL35wCXTP7Off+/c7/K+/vv0D/DqBgkBBoCBQmPv+/fbP8NMsKAgUBAoChXnv\n",
       "z7d/hp9mQUGgIFAQKAgUHDWCBQWBgkBBoDDPh/TKgoJAQaAgUJh3fUhvLCgIFAQKAgWBgqNGsKAg\n",
       "UBAoCBR8SAcLCgIFgYJAwX1QsKAgUBAoCBQECnMcNVYWFAQKAgWBgvugYEFBoCBQECgIFOa4MFtZ\n",
       "UBAoCBQECnPuP9/+GX6aBQWBgkBBoODSPlhQECgIFAQKAgX3QcGCgkBBoCBQ8CEdLCgIFAQKAgX3\n",
       "QcGCgkBBoCBQECjMx1FjZUFBoCBQECjMuf5XhI0FBYGCQEGgIFBw1AgWFAQKAgWBgqNGsKAgUBAo\n",
       "CBS8HxQsKAgUBAoCBYHCfBw1VhYUBAoCBYGCt1yDBQWBgkBBoOCbdLCgIFAQKAgUBAoePQcLCgIF\n",
       "gYJAwVEjWFAQKAgUBAoCBUeNYEFBoCBQECg4agQLCgIFgYJAYc693/4ZfpoFBYGCQEGgIFBw1AgW\n",
       "FAQKAgWBgkv7YEFBoCBQECj4kA4WFAQKAgWBgkBhPp5qrCwoCBQECgIFR41gQUGgIFAQKAgUvEAV\n",
       "LCgIFAQKAgX3QcGCgkBBoCBQcB8ULCgIFAQKAgWBgvugYEFBoCBQECj4kA4WFAQKAgWBgl/qDRYU\n",
       "BAoCBYGCQMFRI1hQECgIFAQKPqSDBQWBgkBBoCBQ8K9YsKAgUBAoCBR8SAcLCgIFgYJAYc7zIb2x\n",
       "oCBQECgIFAQKjhrBgoJAQaAgUPAhHSwoCBQECgIFH9LBgoJAQaAgUBAozLnv2z/DT7OgIFAQKAgU\n",
       "HDWCBQWBgkBBoCBQcNQIFhQECgIFgYKjRrCgIFAQKAgUfJMOFhQECgIFgYJAYY6TxsqCgkBBoCBQ\n",
       "mPMcNTYWFAQKAgWBgm/SwYKCQEGgIFAQKPhXLFhQECgIFAQK44/g7SwoCBQECgIFgYKjRrCgIFAQ\n",
       "KAgUfEgHCwoCBYGCQGHO/Xz7Z/hpFhQECgIFgYJAYd7zr9jGgoJAQaAgUHAfFCwoCBQECgIF90HB\n",
       "goJAQaAgUBAozLsabdQJAgWBgkDBUSNYUBAoCBQECgKFOR49rywoCBQECgKFeY4aKwsKAgWBgkBh\n",
       "jkv7lTpBoCBQECgIFBw1ggUFgYJAQaDg0j5YUBAoCBQECl7iDOoEgYJAQaAgUPCWa7CgIFAQKAgU\n",
       "XNoHCwoCBYGCQEGgMO9ptFEnCBQECgIF90HBgoJAQaAgUHAfFCwoCBQECgIFgcIc90ErdYJAQaAg\n",
       "UHDUCBYUBAoCBYGCD+lgQUGgIFAQKAgU/NZzsKAgUBAoCBT81nNQJwgUBAoCBYHCPEeNlQUFgYJA\n",
       "QaDgqUawoCBQECgIFPyvCEGdIFAQKAgUBArug4IFBYGCQEGg4D4oWFAQKAgUBAq+SQcLCgIFgYJA\n",
       "QaDgLdegThAoCBQECo4awYKCQEGgIFAQKHiqESwoCBQECgIFR41gQUGgIFAQKPiva4IFBYGCQEGg\n",
       "IFDwv2QGdYJAQaAgUHAfFCwoCBQECgIFT1aDBQWBgkBBoCBQcNQIFhQECgIFgcJcH9IrCwoCBYGC\n",
       "QEGg4LeegzpBoCBQECi4DwoWFAQKAgWBgg/pYEFBoCBQECgIFLxAFSwoCBQECgIFR41gQUGgIFAQ\n",
       "KPiQDhYUBAoCBYGCQMGfpgjqBIGCQEGgMNel/cqCgkBBoCBQECi4MAsWFAQKAgWBgg/pYEFBoCBQ\n",
       "ECj4kA4WFAQKAgWBgkDBH1gKFhQECgIFgYKjRrCgIFAQKAgUfEgHCwoCBYGCQEGg4FcRgjpBoCBQ\n",
       "ECj4VYRgQUGgIFAQKAgUXJgFCwoCBYGCQMGHdLCgIFAQKAgUvMQZLCgIFAQKAgWBgqNGsKAgUBAo\n",
       "CBTmHR/SGwsKAgWBgkDBfVCwoCBQECgIFAQK7oOCBQWBgkBBoOCoESwoCBQECgIFgYKjRrCgIFAQ\n",
       "KAgUHDWCBQWBgkBBoOCbdLCgIFAQKAgUBAr+FQsWFAQKAgWBwly/irCyoCBQECgIFHyTDhYUBAoC\n",
       "BYGCQMGj52BBQaAgUBAozHvf/hF+mwUFgYJAQaAgUHDUCBYUBAoCBYGCv4IXLCgIFAQKAgXfpIMF\n",
       "BYGCQEGgIFDwAlWwoCBQECgIFPwqQrCgIFAQKAgUvB8ULCgIFAQKAgWBgqcawYKCQEGgIFBwaR8s\n",
       "KAgUBAoCBYGCpxrBgoJAQaAgUHAfFCwoCBQECgIFj56DBQWBgkBBoCBQcB8ULCgIFAQKAgWPnoMF\n",
       "BYGCQEGgMPfbP8GPs6AgUBAoCBQECo4awYKCQEGgIFDwflCwoCBQECgIFAQKLsyCBQWBgkBBoOA+\n",
       "KFhQECgIFAQKvkkHCwoCBYGCQEGg4KgRLCgIFAQKAgWPnoMFBYGCQEGgMP4yxc6CgkBBoCBQECg4\n",
       "agQLCgIFgYJAwaPnYEFBoCBQECgIFDx6DhYUBAoCBYGCo0awoCBQECgIFHyTDhYUBAoCBYGCQGGu\n",
       "N6hWFhQECgIFgYL7oGBBQaAgUBAouA8KFhQECgIFgYJAwVEjWFAQKAgUBArzXNqvLCgIFAQKAgWB\n",
       "wtzjwmxjQUGgIFAQKHg/KFhQECgIFAQK/gpesKAgUBAoCBQECv4KXrCgIFAQKAgUPHoOFhQECgIF\n",
       "gYKXOIMFBYGCQEGgIFDwC3XBgoJAQaAgUHDUCBYUBAoCBYGCQMFbrsGCgkBBoCBQ8JZrsKAgUBAo\n",
       "CBR8kw4WFAQKAgWBgkDBW67BgoJAQaAgUPD3g4IFBYGCQEGg4D4oWFAQKAgUBAoCBY+egwUFgYJA\n",
       "QaDgqBEsKAgUBAoCBYGCo0awoCBQECgIFBw1ggUFgYJAQaDgQzpYUBAoCBQECgIF90HBgoJAQaAg\n",
       "UHDUCBYUBAoCBYGCb9LBgoJAQaAgUBAoOGoECwoCBYGCQMHfDwoWFAQKAgWBgkDB/+0TLCgIFAQK\n",
       "AgX3QcGCgkBBoCBQmHd8Sm8sKAgUBAoCBYGCo0awoCBQECgIFDx6DhYUBAoCBYGCJ6vBgoJAQaAg\n",
       "UBAouA8KFhQECgIFgYJHz8GCgkBBoCBQECg4agQLCgIFgYJAwR9YChYUBAoCBYHCXC8IrSwoCBQE\n",
       "CgIFgYIXqIIFBYGCQEGgMM9RY2VBQaAgUBAo+CYdLCgIFAQKAgWBgqcawYKCQEGgIFDwflCwoCBQ\n",
       "ECgIFAQKc/1C3cqCgkBBoCBQcB8ULCgIFAQKAgV/miJYUBAoCBQECgIFL1AFCwoCBYGCQMGlfbCg\n",
       "IFAQKAgU3AcFCwoCBYGCQEGgMPe4EdpYUBAoCBQECu6DggUFgYJAQaAgUPCvWLCgIFAQKAgUPNUI\n",
       "FhQECgIFgYJL+2BBQaAgUBAoCBTmfhw1NhYUBAoCBYGCo0awoCBQECgIFOb5kF5ZUBAoCBQECgIF\n",
       "R41gQUGgIFAQKMz9+JDeWFAQKAgUBAoCBUeNYEFBoCBQECh4qhEsKAgUBAoCBd+kgwUFgYJAQaAg\n",
       "UPCvWLCgIFAQKAgUPHoOFhQECgIFgcK88+fbP8NPs6AgUBAoCBQECu6DggUFgYJAQaDg/aBgQUGg\n",
       "IFAQKAgU5j4XZhsLCgIFgYJAwVEjWFAQKAgUBApzPXpeWVAQKAgUBAoCBUeNYEFBoCBQECg4agQL\n",
       "CgIFgYJAYd7zTXpjQUGgIFAQKAgU3AcFCwoCBYGCQMFLnMGCgkBBoCBQECg4agQLCgIFgYJAYZ6j\n",
       "xsqCgkBBoCBQ8E06WFAQKAgUBAoChbleoFpZUBAoCBQECv7gdrCgIFAQKAgU/CpCsKAgUBAoCBQE\n",
       "Cp5qBAsKAgWBgkDBUSNYUBAoCBQECgIF/4oFCwoCBYGCQMGj52BBQaAgUBAo+CYdLCgIFAQKAgWB\n",
       "whyPnlcWFAQKAgWBgqNGsKAgUBAoCBS8xBksKAgUBAoCBYHCHEeNlQUFgYJAQaDg/aBgQUGgIFAQ\n",
       "KAgUPHoOFhQECgIFgYL7oGBBQaAgUBAozDvv2z/DT7OgIFAQKAgUBArug4IFBYGCQEGgMMdRY2VB\n",
       "QaAgUBAo/AdhU+3PqlcPeQAAAABJRU5ErkJggg==\n",
       "\" transform=\"translate(2161, 47)\"/>\n",
       "</g>\n",
       "<path clip-path=\"url(#clip360)\" d=\"M 0 0 M2280.7 1276.76 Q2277.09 1276.76 2275.26 1280.32 Q2273.45 1283.86 2273.45 1290.99 Q2273.45 1298.1 2275.26 1301.67 Q2277.09 1305.21 2280.7 1305.21 Q2284.33 1305.21 2286.14 1301.67 Q2287.97 1298.1 2287.97 1290.99 Q2287.97 1283.86 2286.14 1280.32 Q2284.33 1276.76 2280.7 1276.76 M2280.7 1273.05 Q2286.51 1273.05 2289.57 1277.66 Q2292.64 1282.24 2292.64 1290.99 Q2292.64 1299.72 2289.57 1304.33 Q2286.51 1308.91 2280.7 1308.91 Q2274.89 1308.91 2271.81 1304.33 Q2268.76 1299.72 2268.76 1290.99 Q2268.76 1282.24 2271.81 1277.66 Q2274.89 1273.05 2280.7 1273.05 Z\" fill=\"#000000\" fill-rule=\"evenodd\" fill-opacity=\"1\" /><path clip-path=\"url(#clip360)\" d=\"M 0 0 M2297.71 1302.36 L2302.6 1302.36 L2302.6 1308.24 L2297.71 1308.24 L2297.71 1302.36 Z\" fill=\"#000000\" fill-rule=\"evenodd\" fill-opacity=\"1\" /><path clip-path=\"url(#clip360)\" d=\"M 0 0 M2321.83 1289.61 Q2325.19 1290.32 2327.07 1292.59 Q2328.96 1294.86 2328.96 1298.19 Q2328.96 1303.31 2325.45 1306.11 Q2321.93 1308.91 2315.45 1308.91 Q2313.27 1308.91 2310.95 1308.47 Q2308.66 1308.05 2306.21 1307.2 L2306.21 1302.68 Q2308.15 1303.82 2310.47 1304.4 Q2312.78 1304.98 2315.31 1304.98 Q2319.7 1304.98 2322 1303.24 Q2324.31 1301.5 2324.31 1298.19 Q2324.31 1295.14 2322.16 1293.42 Q2320.03 1291.69 2316.21 1291.69 L2312.18 1291.69 L2312.18 1287.85 L2316.39 1287.85 Q2319.84 1287.85 2321.67 1286.48 Q2323.5 1285.09 2323.5 1282.5 Q2323.5 1279.84 2321.6 1278.42 Q2319.73 1276.99 2316.21 1276.99 Q2314.29 1276.99 2312.09 1277.41 Q2309.89 1277.82 2307.25 1278.7 L2307.25 1274.54 Q2309.91 1273.8 2312.23 1273.43 Q2314.57 1273.05 2316.63 1273.05 Q2321.95 1273.05 2325.05 1275.49 Q2328.15 1277.89 2328.15 1282.01 Q2328.15 1284.88 2326.51 1286.87 Q2324.87 1288.84 2321.83 1289.61 Z\" fill=\"#000000\" fill-rule=\"evenodd\" fill-opacity=\"1\" /><path clip-path=\"url(#clip360)\" d=\"M 0 0 M2348.2 1289.61 Q2351.56 1290.32 2353.43 1292.59 Q2355.33 1294.86 2355.33 1298.19 Q2355.33 1303.31 2351.81 1306.11 Q2348.29 1308.91 2341.81 1308.91 Q2339.64 1308.91 2337.32 1308.47 Q2335.03 1308.05 2332.58 1307.2 L2332.58 1302.68 Q2334.52 1303.82 2336.83 1304.4 Q2339.15 1304.98 2341.67 1304.98 Q2346.07 1304.98 2348.36 1303.24 Q2350.68 1301.5 2350.68 1298.19 Q2350.68 1295.14 2348.52 1293.42 Q2346.39 1291.69 2342.57 1291.69 L2338.55 1291.69 L2338.55 1287.85 L2342.76 1287.85 Q2346.21 1287.85 2348.04 1286.48 Q2349.87 1285.09 2349.87 1282.5 Q2349.87 1279.84 2347.97 1278.42 Q2346.09 1276.99 2342.57 1276.99 Q2340.65 1276.99 2338.45 1277.41 Q2336.26 1277.82 2333.62 1278.7 L2333.62 1274.54 Q2336.28 1273.8 2338.59 1273.43 Q2340.93 1273.05 2342.99 1273.05 Q2348.32 1273.05 2351.42 1275.49 Q2354.52 1277.89 2354.52 1282.01 Q2354.52 1284.88 2352.88 1286.87 Q2351.23 1288.84 2348.2 1289.61 Z\" fill=\"#000000\" fill-rule=\"evenodd\" fill-opacity=\"1\" /><path clip-path=\"url(#clip360)\" d=\"M 0 0 M2364.43 1304.3 L2380.75 1304.3 L2380.75 1308.24 L2358.8 1308.24 L2358.8 1304.3 Q2361.46 1301.55 2366.05 1296.92 Q2370.65 1292.27 2371.83 1290.92 Q2374.08 1288.4 2374.96 1286.67 Q2375.86 1284.91 2375.86 1283.22 Q2375.86 1280.46 2373.92 1278.73 Q2372 1276.99 2368.89 1276.99 Q2366.7 1276.99 2364.24 1277.75 Q2361.81 1278.52 2359.03 1280.07 L2359.03 1275.35 Q2361.86 1274.21 2364.31 1273.63 Q2366.76 1273.05 2368.8 1273.05 Q2374.17 1273.05 2377.37 1275.74 Q2380.56 1278.42 2380.56 1282.92 Q2380.56 1285.05 2379.75 1286.97 Q2378.96 1288.86 2376.86 1291.46 Q2376.28 1292.13 2373.18 1295.35 Q2370.07 1298.54 2364.43 1304.3 Z\" fill=\"#000000\" fill-rule=\"evenodd\" fill-opacity=\"1\" /><path clip-path=\"url(#clip360)\" d=\"M 0 0 M2385.86 1273.68 L2404.22 1273.68 L2404.22 1277.61 L2390.14 1277.61 L2390.14 1286.09 Q2391.16 1285.74 2392.18 1285.58 Q2393.2 1285.39 2394.22 1285.39 Q2400.01 1285.39 2403.38 1288.56 Q2406.76 1291.74 2406.76 1297.15 Q2406.76 1302.73 2403.29 1305.83 Q2399.82 1308.91 2393.5 1308.91 Q2391.32 1308.91 2389.06 1308.54 Q2386.81 1308.17 2384.4 1307.43 L2384.4 1302.73 Q2386.49 1303.86 2388.71 1304.42 Q2390.93 1304.98 2393.41 1304.98 Q2397.41 1304.98 2399.75 1302.87 Q2402.09 1300.76 2402.09 1297.15 Q2402.09 1293.54 2399.75 1291.43 Q2397.41 1289.33 2393.41 1289.33 Q2391.53 1289.33 2389.66 1289.74 Q2387.81 1290.16 2385.86 1291.04 L2385.86 1273.68 Z\" fill=\"#000000\" fill-rule=\"evenodd\" fill-opacity=\"1\" /><path clip-path=\"url(#clip360)\" d=\"M 0 0 M2280.7 1075.05 Q2277.09 1075.05 2275.26 1078.61 Q2273.45 1082.16 2273.45 1089.29 Q2273.45 1096.39 2275.26 1099.96 Q2277.09 1103.5 2280.7 1103.5 Q2284.33 1103.5 2286.14 1099.96 Q2287.97 1096.39 2287.97 1089.29 Q2287.97 1082.16 2286.14 1078.61 Q2284.33 1075.05 2280.7 1075.05 M2280.7 1071.35 Q2286.51 1071.35 2289.57 1075.95 Q2292.64 1080.54 2292.64 1089.29 Q2292.64 1098.01 2289.57 1102.62 Q2286.51 1107.2 2280.7 1107.2 Q2274.89 1107.2 2271.81 1102.62 Q2268.76 1098.01 2268.76 1089.29 Q2268.76 1080.54 2271.81 1075.95 Q2274.89 1071.35 2280.7 1071.35 Z\" fill=\"#000000\" fill-rule=\"evenodd\" fill-opacity=\"1\" /><path clip-path=\"url(#clip360)\" d=\"M 0 0 M2297.71 1100.65 L2302.6 1100.65 L2302.6 1106.53 L2297.71 1106.53 L2297.71 1100.65 Z\" fill=\"#000000\" fill-rule=\"evenodd\" fill-opacity=\"1\" /><path clip-path=\"url(#clip360)\" d=\"M 0 0 M2321.83 1087.9 Q2325.19 1088.61 2327.07 1090.88 Q2328.96 1093.15 2328.96 1096.48 Q2328.96 1101.6 2325.45 1104.4 Q2321.93 1107.2 2315.45 1107.2 Q2313.27 1107.2 2310.95 1106.76 Q2308.66 1106.35 2306.21 1105.49 L2306.21 1100.98 Q2308.15 1102.11 2310.47 1102.69 Q2312.78 1103.27 2315.31 1103.27 Q2319.7 1103.27 2322 1101.53 Q2324.31 1099.79 2324.31 1096.48 Q2324.31 1093.43 2322.16 1091.72 Q2320.03 1089.98 2316.21 1089.98 L2312.18 1089.98 L2312.18 1086.14 L2316.39 1086.14 Q2319.84 1086.14 2321.67 1084.77 Q2323.5 1083.38 2323.5 1080.79 Q2323.5 1078.13 2321.6 1076.72 Q2319.73 1075.28 2316.21 1075.28 Q2314.29 1075.28 2312.09 1075.7 Q2309.89 1076.11 2307.25 1076.99 L2307.25 1072.83 Q2309.91 1072.09 2312.23 1071.72 Q2314.57 1071.35 2316.63 1071.35 Q2321.95 1071.35 2325.05 1073.78 Q2328.15 1076.18 2328.15 1080.3 Q2328.15 1083.17 2326.51 1085.17 Q2324.87 1087.13 2321.83 1087.9 Z\" fill=\"#000000\" fill-rule=\"evenodd\" fill-opacity=\"1\" /><path clip-path=\"url(#clip360)\" d=\"M 0 0 M2348.2 1087.9 Q2351.56 1088.61 2353.43 1090.88 Q2355.33 1093.15 2355.33 1096.48 Q2355.33 1101.6 2351.81 1104.4 Q2348.29 1107.2 2341.81 1107.2 Q2339.64 1107.2 2337.32 1106.76 Q2335.03 1106.35 2332.58 1105.49 L2332.58 1100.98 Q2334.52 1102.11 2336.83 1102.69 Q2339.15 1103.27 2341.67 1103.27 Q2346.07 1103.27 2348.36 1101.53 Q2350.68 1099.79 2350.68 1096.48 Q2350.68 1093.43 2348.52 1091.72 Q2346.39 1089.98 2342.57 1089.98 L2338.55 1089.98 L2338.55 1086.14 L2342.76 1086.14 Q2346.21 1086.14 2348.04 1084.77 Q2349.87 1083.38 2349.87 1080.79 Q2349.87 1078.13 2347.97 1076.72 Q2346.09 1075.28 2342.57 1075.28 Q2340.65 1075.28 2338.45 1075.7 Q2336.26 1076.11 2333.62 1076.99 L2333.62 1072.83 Q2336.28 1072.09 2338.59 1071.72 Q2340.93 1071.35 2342.99 1071.35 Q2348.32 1071.35 2351.42 1073.78 Q2354.52 1076.18 2354.52 1080.3 Q2354.52 1083.17 2352.88 1085.17 Q2351.23 1087.13 2348.2 1087.9 Z\" fill=\"#000000\" fill-rule=\"evenodd\" fill-opacity=\"1\" /><path clip-path=\"url(#clip360)\" d=\"M 0 0 M2374.57 1087.9 Q2377.92 1088.61 2379.8 1090.88 Q2381.7 1093.15 2381.7 1096.48 Q2381.7 1101.6 2378.18 1104.4 Q2374.66 1107.2 2368.18 1107.2 Q2366 1107.2 2363.69 1106.76 Q2361.39 1106.35 2358.94 1105.49 L2358.94 1100.98 Q2360.89 1102.11 2363.2 1102.69 Q2365.51 1103.27 2368.04 1103.27 Q2372.44 1103.27 2374.73 1101.53 Q2377.04 1099.79 2377.04 1096.48 Q2377.04 1093.43 2374.89 1091.72 Q2372.76 1089.98 2368.94 1089.98 L2364.91 1089.98 L2364.91 1086.14 L2369.13 1086.14 Q2372.57 1086.14 2374.4 1084.77 Q2376.23 1083.38 2376.23 1080.79 Q2376.23 1078.13 2374.33 1076.72 Q2372.46 1075.28 2368.94 1075.28 Q2367.02 1075.28 2364.82 1075.7 Q2362.62 1076.11 2359.98 1076.99 L2359.98 1072.83 Q2362.64 1072.09 2364.96 1071.72 Q2367.3 1071.35 2369.36 1071.35 Q2374.68 1071.35 2377.78 1073.78 Q2380.88 1076.18 2380.88 1080.3 Q2380.88 1083.17 2379.24 1085.17 Q2377.6 1087.13 2374.57 1087.9 Z\" fill=\"#000000\" fill-rule=\"evenodd\" fill-opacity=\"1\" /><path clip-path=\"url(#clip360)\" d=\"M 0 0 M2396.76 1075.05 Q2393.15 1075.05 2391.32 1078.61 Q2389.52 1082.16 2389.52 1089.29 Q2389.52 1096.39 2391.32 1099.96 Q2393.15 1103.5 2396.76 1103.5 Q2400.4 1103.5 2402.2 1099.96 Q2404.03 1096.39 2404.03 1089.29 Q2404.03 1082.16 2402.2 1078.61 Q2400.4 1075.05 2396.76 1075.05 M2396.76 1071.35 Q2402.57 1071.35 2405.63 1075.95 Q2408.71 1080.54 2408.71 1089.29 Q2408.71 1098.01 2405.63 1102.62 Q2402.57 1107.2 2396.76 1107.2 Q2390.95 1107.2 2387.88 1102.62 Q2384.82 1098.01 2384.82 1089.29 Q2384.82 1080.54 2387.88 1075.95 Q2390.95 1071.35 2396.76 1071.35 Z\" fill=\"#000000\" fill-rule=\"evenodd\" fill-opacity=\"1\" /><path clip-path=\"url(#clip360)\" d=\"M 0 0 M2280.7 873.341 Q2277.09 873.341 2275.26 876.905 Q2273.45 880.447 2273.45 887.577 Q2273.45 894.683 2275.26 898.248 Q2277.09 901.789 2280.7 901.789 Q2284.33 901.789 2286.14 898.248 Q2287.97 894.683 2287.97 887.577 Q2287.97 880.447 2286.14 876.905 Q2284.33 873.341 2280.7 873.341 M2280.7 869.637 Q2286.51 869.637 2289.57 874.243 Q2292.64 878.827 2292.64 887.577 Q2292.64 896.303 2289.57 900.91 Q2286.51 905.493 2280.7 905.493 Q2274.89 905.493 2271.81 900.91 Q2268.76 896.303 2268.76 887.577 Q2268.76 878.827 2271.81 874.243 Q2274.89 869.637 2280.7 869.637 Z\" fill=\"#000000\" fill-rule=\"evenodd\" fill-opacity=\"1\" /><path clip-path=\"url(#clip360)\" d=\"M 0 0 M2297.71 898.942 L2302.6 898.942 L2302.6 904.822 L2297.71 904.822 L2297.71 898.942 Z\" fill=\"#000000\" fill-rule=\"evenodd\" fill-opacity=\"1\" /><path clip-path=\"url(#clip360)\" d=\"M 0 0 M2321.83 886.188 Q2325.19 886.905 2327.07 889.174 Q2328.96 891.442 2328.96 894.776 Q2328.96 899.891 2325.45 902.692 Q2321.93 905.493 2315.45 905.493 Q2313.27 905.493 2310.95 905.053 Q2308.66 904.637 2306.21 903.78 L2306.21 899.266 Q2308.15 900.401 2310.47 900.979 Q2312.78 901.558 2315.31 901.558 Q2319.7 901.558 2322 899.822 Q2324.31 898.086 2324.31 894.776 Q2324.31 891.72 2322.16 890.007 Q2320.03 888.271 2316.21 888.271 L2312.18 888.271 L2312.18 884.428 L2316.39 884.428 Q2319.84 884.428 2321.67 883.063 Q2323.5 881.674 2323.5 879.081 Q2323.5 876.419 2321.6 875.007 Q2319.73 873.572 2316.21 873.572 Q2314.29 873.572 2312.09 873.989 Q2309.89 874.405 2307.25 875.285 L2307.25 871.118 Q2309.91 870.378 2312.23 870.007 Q2314.57 869.637 2316.63 869.637 Q2321.95 869.637 2325.05 872.067 Q2328.15 874.475 2328.15 878.595 Q2328.15 881.466 2326.51 883.456 Q2324.87 885.424 2321.83 886.188 Z\" fill=\"#000000\" fill-rule=\"evenodd\" fill-opacity=\"1\" /><path clip-path=\"url(#clip360)\" d=\"M 0 0 M2348.2 886.188 Q2351.56 886.905 2353.43 889.174 Q2355.33 891.442 2355.33 894.776 Q2355.33 899.891 2351.81 902.692 Q2348.29 905.493 2341.81 905.493 Q2339.64 905.493 2337.32 905.053 Q2335.03 904.637 2332.58 903.78 L2332.58 899.266 Q2334.52 900.401 2336.83 900.979 Q2339.15 901.558 2341.67 901.558 Q2346.07 901.558 2348.36 899.822 Q2350.68 898.086 2350.68 894.776 Q2350.68 891.72 2348.52 890.007 Q2346.39 888.271 2342.57 888.271 L2338.55 888.271 L2338.55 884.428 L2342.76 884.428 Q2346.21 884.428 2348.04 883.063 Q2349.87 881.674 2349.87 879.081 Q2349.87 876.419 2347.97 875.007 Q2346.09 873.572 2342.57 873.572 Q2340.65 873.572 2338.45 873.989 Q2336.26 874.405 2333.62 875.285 L2333.62 871.118 Q2336.28 870.378 2338.59 870.007 Q2340.93 869.637 2342.99 869.637 Q2348.32 869.637 2351.42 872.067 Q2354.52 874.475 2354.52 878.595 Q2354.52 881.466 2352.88 883.456 Q2351.23 885.424 2348.2 886.188 Z\" fill=\"#000000\" fill-rule=\"evenodd\" fill-opacity=\"1\" /><path clip-path=\"url(#clip360)\" d=\"M 0 0 M2374.57 886.188 Q2377.92 886.905 2379.8 889.174 Q2381.7 891.442 2381.7 894.776 Q2381.7 899.891 2378.18 902.692 Q2374.66 905.493 2368.18 905.493 Q2366 905.493 2363.69 905.053 Q2361.39 904.637 2358.94 903.78 L2358.94 899.266 Q2360.89 900.401 2363.2 900.979 Q2365.51 901.558 2368.04 901.558 Q2372.44 901.558 2374.73 899.822 Q2377.04 898.086 2377.04 894.776 Q2377.04 891.72 2374.89 890.007 Q2372.76 888.271 2368.94 888.271 L2364.91 888.271 L2364.91 884.428 L2369.13 884.428 Q2372.57 884.428 2374.4 883.063 Q2376.23 881.674 2376.23 879.081 Q2376.23 876.419 2374.33 875.007 Q2372.46 873.572 2368.94 873.572 Q2367.02 873.572 2364.82 873.989 Q2362.62 874.405 2359.98 875.285 L2359.98 871.118 Q2362.64 870.378 2364.96 870.007 Q2367.3 869.637 2369.36 869.637 Q2374.68 869.637 2377.78 872.067 Q2380.88 874.475 2380.88 878.595 Q2380.88 881.466 2379.24 883.456 Q2377.6 885.424 2374.57 886.188 Z\" fill=\"#000000\" fill-rule=\"evenodd\" fill-opacity=\"1\" /><path clip-path=\"url(#clip360)\" d=\"M 0 0 M2386.81 870.262 L2405.17 870.262 L2405.17 874.197 L2391.09 874.197 L2391.09 882.669 Q2392.11 882.322 2393.13 882.16 Q2394.15 881.975 2395.17 881.975 Q2400.95 881.975 2404.33 885.146 Q2407.71 888.317 2407.71 893.734 Q2407.71 899.313 2404.24 902.414 Q2400.77 905.493 2394.45 905.493 Q2392.27 905.493 2390.01 905.123 Q2387.76 904.752 2385.35 904.012 L2385.35 899.313 Q2387.44 900.447 2389.66 901.002 Q2391.88 901.558 2394.36 901.558 Q2398.36 901.558 2400.7 899.452 Q2403.04 897.345 2403.04 893.734 Q2403.04 890.123 2400.7 888.016 Q2398.36 885.91 2394.36 885.91 Q2392.48 885.91 2390.61 886.327 Q2388.76 886.743 2386.81 887.623 L2386.81 870.262 Z\" fill=\"#000000\" fill-rule=\"evenodd\" fill-opacity=\"1\" /><path clip-path=\"url(#clip360)\" d=\"M 0 0 M2280.7 671.632 Q2277.09 671.632 2275.26 675.196 Q2273.45 678.738 2273.45 685.868 Q2273.45 692.974 2275.26 696.539 Q2277.09 700.081 2280.7 700.081 Q2284.33 700.081 2286.14 696.539 Q2287.97 692.974 2287.97 685.868 Q2287.97 678.738 2286.14 675.196 Q2284.33 671.632 2280.7 671.632 M2280.7 667.928 Q2286.51 667.928 2289.57 672.534 Q2292.64 677.118 2292.64 685.868 Q2292.64 694.595 2289.57 699.201 Q2286.51 703.784 2280.7 703.784 Q2274.89 703.784 2271.81 699.201 Q2268.76 694.595 2268.76 685.868 Q2268.76 677.118 2271.81 672.534 Q2274.89 667.928 2280.7 667.928 Z\" fill=\"#000000\" fill-rule=\"evenodd\" fill-opacity=\"1\" /><path clip-path=\"url(#clip360)\" d=\"M 0 0 M2297.71 697.233 L2302.6 697.233 L2302.6 703.113 L2297.71 703.113 L2297.71 697.233 Z\" fill=\"#000000\" fill-rule=\"evenodd\" fill-opacity=\"1\" /><path clip-path=\"url(#clip360)\" d=\"M 0 0 M2321.83 684.479 Q2325.19 685.196 2327.07 687.465 Q2328.96 689.733 2328.96 693.067 Q2328.96 698.182 2325.45 700.983 Q2321.93 703.784 2315.45 703.784 Q2313.27 703.784 2310.95 703.344 Q2308.66 702.928 2306.21 702.071 L2306.21 697.557 Q2308.15 698.692 2310.47 699.27 Q2312.78 699.849 2315.31 699.849 Q2319.7 699.849 2322 698.113 Q2324.31 696.377 2324.31 693.067 Q2324.31 690.011 2322.16 688.298 Q2320.03 686.562 2316.21 686.562 L2312.18 686.562 L2312.18 682.72 L2316.39 682.72 Q2319.84 682.72 2321.67 681.354 Q2323.5 679.965 2323.5 677.372 Q2323.5 674.71 2321.6 673.298 Q2319.73 671.863 2316.21 671.863 Q2314.29 671.863 2312.09 672.28 Q2309.89 672.697 2307.25 673.576 L2307.25 669.409 Q2309.91 668.669 2312.23 668.298 Q2314.57 667.928 2316.63 667.928 Q2321.95 667.928 2325.05 670.359 Q2328.15 672.766 2328.15 676.886 Q2328.15 679.757 2326.51 681.747 Q2324.87 683.715 2321.83 684.479 Z\" fill=\"#000000\" fill-rule=\"evenodd\" fill-opacity=\"1\" /><path clip-path=\"url(#clip360)\" d=\"M 0 0 M2348.2 684.479 Q2351.56 685.196 2353.43 687.465 Q2355.33 689.733 2355.33 693.067 Q2355.33 698.182 2351.81 700.983 Q2348.29 703.784 2341.81 703.784 Q2339.64 703.784 2337.32 703.344 Q2335.03 702.928 2332.58 702.071 L2332.58 697.557 Q2334.52 698.692 2336.83 699.27 Q2339.15 699.849 2341.67 699.849 Q2346.07 699.849 2348.36 698.113 Q2350.68 696.377 2350.68 693.067 Q2350.68 690.011 2348.52 688.298 Q2346.39 686.562 2342.57 686.562 L2338.55 686.562 L2338.55 682.72 L2342.76 682.72 Q2346.21 682.72 2348.04 681.354 Q2349.87 679.965 2349.87 677.372 Q2349.87 674.71 2347.97 673.298 Q2346.09 671.863 2342.57 671.863 Q2340.65 671.863 2338.45 672.28 Q2336.26 672.697 2333.62 673.576 L2333.62 669.409 Q2336.28 668.669 2338.59 668.298 Q2340.93 667.928 2342.99 667.928 Q2348.32 667.928 2351.42 670.359 Q2354.52 672.766 2354.52 676.886 Q2354.52 679.757 2352.88 681.747 Q2351.23 683.715 2348.2 684.479 Z\" fill=\"#000000\" fill-rule=\"evenodd\" fill-opacity=\"1\" /><path clip-path=\"url(#clip360)\" d=\"M 0 0 M2373.25 672.627 L2361.44 691.076 L2373.25 691.076 L2373.25 672.627 M2372.02 668.553 L2377.9 668.553 L2377.9 691.076 L2382.83 691.076 L2382.83 694.965 L2377.9 694.965 L2377.9 703.113 L2373.25 703.113 L2373.25 694.965 L2357.64 694.965 L2357.64 690.451 L2372.02 668.553 Z\" fill=\"#000000\" fill-rule=\"evenodd\" fill-opacity=\"1\" /><path clip-path=\"url(#clip360)\" d=\"M 0 0 M2397.9 671.632 Q2394.29 671.632 2392.46 675.196 Q2390.65 678.738 2390.65 685.868 Q2390.65 692.974 2392.46 696.539 Q2394.29 700.081 2397.9 700.081 Q2401.53 700.081 2403.34 696.539 Q2405.17 692.974 2405.17 685.868 Q2405.17 678.738 2403.34 675.196 Q2401.53 671.632 2397.9 671.632 M2397.9 667.928 Q2403.71 667.928 2406.76 672.534 Q2409.84 677.118 2409.84 685.868 Q2409.84 694.595 2406.76 699.201 Q2403.71 703.784 2397.9 703.784 Q2392.09 703.784 2389.01 699.201 Q2385.95 694.595 2385.95 685.868 Q2385.95 677.118 2389.01 672.534 Q2392.09 667.928 2397.9 667.928 Z\" fill=\"#000000\" fill-rule=\"evenodd\" fill-opacity=\"1\" /><path clip-path=\"url(#clip360)\" d=\"M 0 0 M2280.7 469.923 Q2277.09 469.923 2275.26 473.488 Q2273.45 477.029 2273.45 484.159 Q2273.45 491.265 2275.26 494.83 Q2277.09 498.372 2280.7 498.372 Q2284.33 498.372 2286.14 494.83 Q2287.97 491.265 2287.97 484.159 Q2287.97 477.029 2286.14 473.488 Q2284.33 469.923 2280.7 469.923 M2280.7 466.219 Q2286.51 466.219 2289.57 470.826 Q2292.64 475.409 2292.64 484.159 Q2292.64 492.886 2289.57 497.492 Q2286.51 502.075 2280.7 502.075 Q2274.89 502.075 2271.81 497.492 Q2268.76 492.886 2268.76 484.159 Q2268.76 475.409 2271.81 470.826 Q2274.89 466.219 2280.7 466.219 Z\" fill=\"#000000\" fill-rule=\"evenodd\" fill-opacity=\"1\" /><path clip-path=\"url(#clip360)\" d=\"M 0 0 M2297.71 495.525 L2302.6 495.525 L2302.6 501.404 L2297.71 501.404 L2297.71 495.525 Z\" fill=\"#000000\" fill-rule=\"evenodd\" fill-opacity=\"1\" /><path clip-path=\"url(#clip360)\" d=\"M 0 0 M2321.83 482.77 Q2325.19 483.488 2327.07 485.756 Q2328.96 488.025 2328.96 491.358 Q2328.96 496.474 2325.45 499.275 Q2321.93 502.075 2315.45 502.075 Q2313.27 502.075 2310.95 501.636 Q2308.66 501.219 2306.21 500.362 L2306.21 495.849 Q2308.15 496.983 2310.47 497.562 Q2312.78 498.14 2315.31 498.14 Q2319.7 498.14 2322 496.404 Q2324.31 494.668 2324.31 491.358 Q2324.31 488.302 2322.16 486.589 Q2320.03 484.853 2316.21 484.853 L2312.18 484.853 L2312.18 481.011 L2316.39 481.011 Q2319.84 481.011 2321.67 479.645 Q2323.5 478.256 2323.5 475.664 Q2323.5 473.001 2321.6 471.589 Q2319.73 470.154 2316.21 470.154 Q2314.29 470.154 2312.09 470.571 Q2309.89 470.988 2307.25 471.867 L2307.25 467.701 Q2309.91 466.96 2312.23 466.589 Q2314.57 466.219 2316.63 466.219 Q2321.95 466.219 2325.05 468.65 Q2328.15 471.057 2328.15 475.177 Q2328.15 478.048 2326.51 480.038 Q2324.87 482.006 2321.83 482.77 Z\" fill=\"#000000\" fill-rule=\"evenodd\" fill-opacity=\"1\" /><path clip-path=\"url(#clip360)\" d=\"M 0 0 M2348.2 482.77 Q2351.56 483.488 2353.43 485.756 Q2355.33 488.025 2355.33 491.358 Q2355.33 496.474 2351.81 499.275 Q2348.29 502.075 2341.81 502.075 Q2339.64 502.075 2337.32 501.636 Q2335.03 501.219 2332.58 500.362 L2332.58 495.849 Q2334.52 496.983 2336.83 497.562 Q2339.15 498.14 2341.67 498.14 Q2346.07 498.14 2348.36 496.404 Q2350.68 494.668 2350.68 491.358 Q2350.68 488.302 2348.52 486.589 Q2346.39 484.853 2342.57 484.853 L2338.55 484.853 L2338.55 481.011 L2342.76 481.011 Q2346.21 481.011 2348.04 479.645 Q2349.87 478.256 2349.87 475.664 Q2349.87 473.001 2347.97 471.589 Q2346.09 470.154 2342.57 470.154 Q2340.65 470.154 2338.45 470.571 Q2336.26 470.988 2333.62 471.867 L2333.62 467.701 Q2336.28 466.96 2338.59 466.589 Q2340.93 466.219 2342.99 466.219 Q2348.32 466.219 2351.42 468.65 Q2354.52 471.057 2354.52 475.177 Q2354.52 478.048 2352.88 480.038 Q2351.23 482.006 2348.2 482.77 Z\" fill=\"#000000\" fill-rule=\"evenodd\" fill-opacity=\"1\" /><path clip-path=\"url(#clip360)\" d=\"M 0 0 M2373.25 470.918 L2361.44 489.367 L2373.25 489.367 L2373.25 470.918 M2372.02 466.844 L2377.9 466.844 L2377.9 489.367 L2382.83 489.367 L2382.83 493.256 L2377.9 493.256 L2377.9 501.404 L2373.25 501.404 L2373.25 493.256 L2357.64 493.256 L2357.64 488.742 L2372.02 466.844 Z\" fill=\"#000000\" fill-rule=\"evenodd\" fill-opacity=\"1\" /><path clip-path=\"url(#clip360)\" d=\"M 0 0 M2387.95 466.844 L2406.3 466.844 L2406.3 470.779 L2392.23 470.779 L2392.23 479.251 Q2393.25 478.904 2394.26 478.742 Q2395.28 478.557 2396.3 478.557 Q2402.09 478.557 2405.47 481.728 Q2408.85 484.9 2408.85 490.316 Q2408.85 495.895 2405.38 498.997 Q2401.9 502.075 2395.58 502.075 Q2393.41 502.075 2391.14 501.705 Q2388.89 501.335 2386.49 500.594 L2386.49 495.895 Q2388.57 497.029 2390.79 497.585 Q2393.01 498.14 2395.49 498.14 Q2399.5 498.14 2401.83 496.034 Q2404.17 493.927 2404.17 490.316 Q2404.17 486.705 2401.83 484.599 Q2399.5 482.492 2395.49 482.492 Q2393.62 482.492 2391.74 482.909 Q2389.89 483.326 2387.95 484.205 L2387.95 466.844 Z\" fill=\"#000000\" fill-rule=\"evenodd\" fill-opacity=\"1\" /><path clip-path=\"url(#clip360)\" d=\"M 0 0 M2280.7 268.214 Q2277.09 268.214 2275.26 271.779 Q2273.45 275.32 2273.45 282.45 Q2273.45 289.556 2275.26 293.121 Q2277.09 296.663 2280.7 296.663 Q2284.33 296.663 2286.14 293.121 Q2287.97 289.556 2287.97 282.45 Q2287.97 275.32 2286.14 271.779 Q2284.33 268.214 2280.7 268.214 M2280.7 264.51 Q2286.51 264.51 2289.57 269.117 Q2292.64 273.7 2292.64 282.45 Q2292.64 291.177 2289.57 295.783 Q2286.51 300.367 2280.7 300.367 Q2274.89 300.367 2271.81 295.783 Q2268.76 291.177 2268.76 282.45 Q2268.76 273.7 2271.81 269.117 Q2274.89 264.51 2280.7 264.51 Z\" fill=\"#000000\" fill-rule=\"evenodd\" fill-opacity=\"1\" /><path clip-path=\"url(#clip360)\" d=\"M 0 0 M2297.71 293.816 L2302.6 293.816 L2302.6 299.695 L2297.71 299.695 L2297.71 293.816 Z\" fill=\"#000000\" fill-rule=\"evenodd\" fill-opacity=\"1\" /><path clip-path=\"url(#clip360)\" d=\"M 0 0 M2321.83 281.061 Q2325.19 281.779 2327.07 284.047 Q2328.96 286.316 2328.96 289.649 Q2328.96 294.765 2325.45 297.566 Q2321.93 300.367 2315.45 300.367 Q2313.27 300.367 2310.95 299.927 Q2308.66 299.51 2306.21 298.654 L2306.21 294.14 Q2308.15 295.274 2310.47 295.853 Q2312.78 296.431 2315.31 296.431 Q2319.7 296.431 2322 294.695 Q2324.31 292.959 2324.31 289.649 Q2324.31 286.593 2322.16 284.881 Q2320.03 283.144 2316.21 283.144 L2312.18 283.144 L2312.18 279.302 L2316.39 279.302 Q2319.84 279.302 2321.67 277.936 Q2323.5 276.547 2323.5 273.955 Q2323.5 271.293 2321.6 269.881 Q2319.73 268.445 2316.21 268.445 Q2314.29 268.445 2312.09 268.862 Q2309.89 269.279 2307.25 270.158 L2307.25 265.992 Q2309.91 265.251 2312.23 264.881 Q2314.57 264.51 2316.63 264.51 Q2321.95 264.51 2325.05 266.941 Q2328.15 269.348 2328.15 273.469 Q2328.15 276.339 2326.51 278.33 Q2324.87 280.297 2321.83 281.061 Z\" fill=\"#000000\" fill-rule=\"evenodd\" fill-opacity=\"1\" /><path clip-path=\"url(#clip360)\" d=\"M 0 0 M2348.2 281.061 Q2351.56 281.779 2353.43 284.047 Q2355.33 286.316 2355.33 289.649 Q2355.33 294.765 2351.81 297.566 Q2348.29 300.367 2341.81 300.367 Q2339.64 300.367 2337.32 299.927 Q2335.03 299.51 2332.58 298.654 L2332.58 294.14 Q2334.52 295.274 2336.83 295.853 Q2339.15 296.431 2341.67 296.431 Q2346.07 296.431 2348.36 294.695 Q2350.68 292.959 2350.68 289.649 Q2350.68 286.593 2348.52 284.881 Q2346.39 283.144 2342.57 283.144 L2338.55 283.144 L2338.55 279.302 L2342.76 279.302 Q2346.21 279.302 2348.04 277.936 Q2349.87 276.547 2349.87 273.955 Q2349.87 271.293 2347.97 269.881 Q2346.09 268.445 2342.57 268.445 Q2340.65 268.445 2338.45 268.862 Q2336.26 269.279 2333.62 270.158 L2333.62 265.992 Q2336.28 265.251 2338.59 264.881 Q2340.93 264.51 2342.99 264.51 Q2348.32 264.51 2351.42 266.941 Q2354.52 269.348 2354.52 273.469 Q2354.52 276.339 2352.88 278.33 Q2351.23 280.297 2348.2 281.061 Z\" fill=\"#000000\" fill-rule=\"evenodd\" fill-opacity=\"1\" /><path clip-path=\"url(#clip360)\" d=\"M 0 0 M2360.45 265.135 L2378.8 265.135 L2378.8 269.07 L2364.73 269.07 L2364.73 277.543 Q2365.75 277.195 2366.76 277.033 Q2367.78 276.848 2368.8 276.848 Q2374.59 276.848 2377.97 280.019 Q2381.35 283.191 2381.35 288.607 Q2381.35 294.186 2377.88 297.288 Q2374.4 300.367 2368.08 300.367 Q2365.91 300.367 2363.64 299.996 Q2361.39 299.626 2358.99 298.885 L2358.99 294.186 Q2361.07 295.32 2363.29 295.876 Q2365.51 296.431 2367.99 296.431 Q2372 296.431 2374.33 294.325 Q2376.67 292.218 2376.67 288.607 Q2376.67 284.996 2374.33 282.89 Q2372 280.783 2367.99 280.783 Q2366.12 280.783 2364.24 281.2 Q2362.39 281.617 2360.45 282.496 L2360.45 265.135 Z\" fill=\"#000000\" fill-rule=\"evenodd\" fill-opacity=\"1\" /><path clip-path=\"url(#clip360)\" d=\"M 0 0 M2396.42 268.214 Q2392.81 268.214 2390.98 271.779 Q2389.17 275.32 2389.17 282.45 Q2389.17 289.556 2390.98 293.121 Q2392.81 296.663 2396.42 296.663 Q2400.05 296.663 2401.86 293.121 Q2403.69 289.556 2403.69 282.45 Q2403.69 275.32 2401.86 271.779 Q2400.05 268.214 2396.42 268.214 M2396.42 264.51 Q2402.23 264.51 2405.28 269.117 Q2408.36 273.7 2408.36 282.45 Q2408.36 291.177 2405.28 295.783 Q2402.23 300.367 2396.42 300.367 Q2390.61 300.367 2387.53 295.783 Q2384.47 291.177 2384.47 282.45 Q2384.47 273.7 2387.53 269.117 Q2390.61 264.51 2396.42 264.51 Z\" fill=\"#000000\" fill-rule=\"evenodd\" fill-opacity=\"1\" /><path clip-path=\"url(#clip360)\" d=\"M 0 0 M2280.7 66.505 Q2277.09 66.505 2275.26 70.0698 Q2273.45 73.6115 2273.45 80.7411 Q2273.45 87.8475 2275.26 91.4123 Q2277.09 94.954 2280.7 94.954 Q2284.33 94.954 2286.14 91.4123 Q2287.97 87.8475 2287.97 80.7411 Q2287.97 73.6115 2286.14 70.0698 Q2284.33 66.505 2280.7 66.505 M2280.7 62.8014 Q2286.51 62.8014 2289.57 67.4078 Q2292.64 71.9911 2292.64 80.7411 Q2292.64 89.4679 2289.57 94.0743 Q2286.51 98.6577 2280.7 98.6577 Q2274.89 98.6577 2271.81 94.0743 Q2268.76 89.4679 2268.76 80.7411 Q2268.76 71.9911 2271.81 67.4078 Q2274.89 62.8014 2280.7 62.8014 Z\" fill=\"#000000\" fill-rule=\"evenodd\" fill-opacity=\"1\" /><path clip-path=\"url(#clip360)\" d=\"M 0 0 M2297.71 92.1068 L2302.6 92.1068 L2302.6 97.9864 L2297.71 97.9864 L2297.71 92.1068 Z\" fill=\"#000000\" fill-rule=\"evenodd\" fill-opacity=\"1\" /><path clip-path=\"url(#clip360)\" d=\"M 0 0 M2321.83 79.3522 Q2325.19 80.0698 2327.07 82.3383 Q2328.96 84.6068 2328.96 87.9401 Q2328.96 93.0558 2325.45 95.8567 Q2321.93 98.6577 2315.45 98.6577 Q2313.27 98.6577 2310.95 98.2178 Q2308.66 97.8012 2306.21 96.9447 L2306.21 92.4308 Q2308.15 93.5651 2310.47 94.1438 Q2312.78 94.7225 2315.31 94.7225 Q2319.7 94.7225 2322 92.9864 Q2324.31 91.2503 2324.31 87.9401 Q2324.31 84.8846 2322.16 83.1716 Q2320.03 81.4355 2316.21 81.4355 L2312.18 81.4355 L2312.18 77.593 L2316.39 77.593 Q2319.84 77.593 2321.67 76.2272 Q2323.5 74.8383 2323.5 72.2458 Q2323.5 69.5837 2321.6 68.1717 Q2319.73 66.7365 2316.21 66.7365 Q2314.29 66.7365 2312.09 67.1532 Q2309.89 67.5699 2307.25 68.4495 L2307.25 64.2828 Q2309.91 63.5421 2312.23 63.1717 Q2314.57 62.8014 2316.63 62.8014 Q2321.95 62.8014 2325.05 65.2319 Q2328.15 67.6393 2328.15 71.7596 Q2328.15 74.63 2326.51 76.6207 Q2324.87 78.5883 2321.83 79.3522 Z\" fill=\"#000000\" fill-rule=\"evenodd\" fill-opacity=\"1\" /><path clip-path=\"url(#clip360)\" d=\"M 0 0 M2348.2 79.3522 Q2351.56 80.0698 2353.43 82.3383 Q2355.33 84.6068 2355.33 87.9401 Q2355.33 93.0558 2351.81 95.8567 Q2348.29 98.6577 2341.81 98.6577 Q2339.64 98.6577 2337.32 98.2178 Q2335.03 97.8012 2332.58 96.9447 L2332.58 92.4308 Q2334.52 93.5651 2336.83 94.1438 Q2339.15 94.7225 2341.67 94.7225 Q2346.07 94.7225 2348.36 92.9864 Q2350.68 91.2503 2350.68 87.9401 Q2350.68 84.8846 2348.52 83.1716 Q2346.39 81.4355 2342.57 81.4355 L2338.55 81.4355 L2338.55 77.593 L2342.76 77.593 Q2346.21 77.593 2348.04 76.2272 Q2349.87 74.8383 2349.87 72.2458 Q2349.87 69.5837 2347.97 68.1717 Q2346.09 66.7365 2342.57 66.7365 Q2340.65 66.7365 2338.45 67.1532 Q2336.26 67.5699 2333.62 68.4495 L2333.62 64.2828 Q2336.28 63.5421 2338.59 63.1717 Q2340.93 62.8014 2342.99 62.8014 Q2348.32 62.8014 2351.42 65.2319 Q2354.52 67.6393 2354.52 71.7596 Q2354.52 74.63 2352.88 76.6207 Q2351.23 78.5883 2348.2 79.3522 Z\" fill=\"#000000\" fill-rule=\"evenodd\" fill-opacity=\"1\" /><path clip-path=\"url(#clip360)\" d=\"M 0 0 M2360.45 63.4264 L2378.8 63.4264 L2378.8 67.3615 L2364.73 67.3615 L2364.73 75.8337 Q2365.75 75.4865 2366.76 75.3244 Q2367.78 75.1393 2368.8 75.1393 Q2374.59 75.1393 2377.97 78.3105 Q2381.35 81.4818 2381.35 86.8985 Q2381.35 92.4771 2377.88 95.579 Q2374.4 98.6577 2368.08 98.6577 Q2365.91 98.6577 2363.64 98.2873 Q2361.39 97.9169 2358.99 97.1762 L2358.99 92.4771 Q2361.07 93.6114 2363.29 94.1669 Q2365.51 94.7225 2367.99 94.7225 Q2372 94.7225 2374.33 92.616 Q2376.67 90.5095 2376.67 86.8985 Q2376.67 83.2874 2374.33 81.1809 Q2372 79.0744 2367.99 79.0744 Q2366.12 79.0744 2364.24 79.4911 Q2362.39 79.9078 2360.45 80.7874 L2360.45 63.4264 Z\" fill=\"#000000\" fill-rule=\"evenodd\" fill-opacity=\"1\" /><path clip-path=\"url(#clip360)\" d=\"M 0 0 M2386.46 63.4264 L2404.82 63.4264 L2404.82 67.3615 L2390.75 67.3615 L2390.75 75.8337 Q2391.76 75.4865 2392.78 75.3244 Q2393.8 75.1393 2394.82 75.1393 Q2400.61 75.1393 2403.99 78.3105 Q2407.37 81.4818 2407.37 86.8985 Q2407.37 92.4771 2403.89 95.579 Q2400.42 98.6577 2394.1 98.6577 Q2391.93 98.6577 2389.66 98.2873 Q2387.41 97.9169 2385.01 97.1762 L2385.01 92.4771 Q2387.09 93.6114 2389.31 94.1669 Q2391.53 94.7225 2394.01 94.7225 Q2398.01 94.7225 2400.35 92.616 Q2402.69 90.5095 2402.69 86.8985 Q2402.69 83.2874 2400.35 81.1809 Q2398.01 79.0744 2394.01 79.0744 Q2392.13 79.0744 2390.26 79.4911 Q2388.41 79.9078 2386.46 80.7874 L2386.46 63.4264 Z\" fill=\"#000000\" fill-rule=\"evenodd\" fill-opacity=\"1\" /><polyline clip-path=\"url(#clip360)\" style=\"stroke:#000000; stroke-width:4; stroke-opacity:1; fill:none\" points=\"\n",
       "  2232.76,1423.18 2232.76,1294.59 2256.76,1294.59 2232.76,1294.59 2232.76,1092.88 2256.76,1092.88 2232.76,1092.88 2232.76,891.171 2256.76,891.171 2232.76,891.171 \n",
       "  2232.76,689.462 2256.76,689.462 2232.76,689.462 2232.76,487.753 2256.76,487.753 2232.76,487.753 2232.76,286.044 2256.76,286.044 2232.76,286.044 2232.76,84.3352 \n",
       "  2256.76,84.3352 2232.76,84.3352 2232.76,47.2441 \n",
       "  \"/>\n",
       "</svg>\n"
      ]
     },
     "execution_count": 151,
     "metadata": {},
     "output_type": "execute_result"
    }
   ],
   "source": [
    "plot(self_tuning_nn)"
   ]
  },
  {
   "cell_type": "code",
   "execution_count": 152,
   "metadata": {},
   "outputs": [
    {
     "data": {
      "text/plain": [
       "(best_model = \u001b[34mNeuralNetworkClassifier{CustomNN,…} @345\u001b[39m,\n",
       " best_fitted_params = (chain = Chain(Chain(Dense(8, 23, σ), Dense(23, 10, σ), Dense(10, 2, σ)), softmax),),)"
      ]
     },
     "execution_count": 152,
     "metadata": {},
     "output_type": "execute_result"
    }
   ],
   "source": [
    "best = fitted_params(self_tuning_nn)\n",
    "best"
   ]
  },
  {
   "cell_type": "code",
   "execution_count": 153,
   "metadata": {},
   "outputs": [
    {
     "data": {
      "text/plain": [
       "NeuralNetworkClassifier(\n",
       "    builder = CustomNN(\n",
       "            n1 = 23,\n",
       "            n2 = 10),\n",
       "    finaliser = NNlib.softmax,\n",
       "    optimiser = ADAM(0.01, (0.9, 0.999), IdDict{Any,Any}()),\n",
       "    loss = Flux.crossentropy,\n",
       "    epochs = 85,\n",
       "    batch_size = 16,\n",
       "    lambda = 0.004641588833612777,\n",
       "    alpha = 0.0,\n",
       "    optimiser_changes_trigger_retraining = false)\u001b[34m @345\u001b[39m"
      ]
     },
     "execution_count": 153,
     "metadata": {},
     "output_type": "execute_result"
    }
   ],
   "source": [
    "best.best_model"
   ]
  },
  {
   "cell_type": "code",
   "execution_count": 154,
   "metadata": {
    "scrolled": true
   },
   "outputs": [
    {
     "data": {
      "text/plain": [
       "0.33218125f0"
      ]
     },
     "execution_count": 154,
     "metadata": {},
     "output_type": "execute_result"
    }
   ],
   "source": [
    "best_loss = z.report.best_result.measurement[1]"
   ]
  },
  {
   "cell_type": "code",
   "execution_count": 155,
   "metadata": {},
   "outputs": [
    {
     "data": {
      "text/plain": [
       "0.004641588833612777"
      ]
     },
     "execution_count": 155,
     "metadata": {},
     "output_type": "execute_result"
    }
   ],
   "source": [
    "best_lambda = best.best_model.lambda"
   ]
  },
  {
   "cell_type": "code",
   "execution_count": 156,
   "metadata": {},
   "outputs": [],
   "source": [
    "fn = \"Figures/Grid_NN_$(param1):$(best.best_model.epochs)_x_$(param2):$(best_lambda)_bestloss:$(best_loss)\"\n",
    "png(replace(fn,'.' => ','))"
   ]
  },
  {
   "cell_type": "markdown",
   "metadata": {},
   "source": [
    "### Learning Curve"
   ]
  },
  {
   "cell_type": "code",
   "execution_count": 195,
   "metadata": {},
   "outputs": [
    {
     "data": {
      "text/plain": [
       "NeuralNetworkClassifier(\n",
       "    builder = CustomNN(\n",
       "            n1 = 23,\n",
       "            n2 = 10),\n",
       "    finaliser = NNlib.softmax,\n",
       "    optimiser = ADAM(0.01, (0.9, 0.999), IdDict{Any,Any}()),\n",
       "    loss = Flux.crossentropy,\n",
       "    epochs = 2000,\n",
       "    batch_size = 16,\n",
       "    lambda = 0.004641588833612777,\n",
       "    alpha = 0.0,\n",
       "    optimiser_changes_trigger_retraining = false)\u001b[34m @447\u001b[39m"
      ]
     },
     "execution_count": 195,
     "metadata": {},
     "output_type": "execute_result"
    }
   ],
   "source": [
    "lc_model = NeuralNetworkClassifier(builder=CustomNN(best_n1,best_n2))\n",
    "lc_model.optimiser.eta = best_eta;\n",
    "lc_model.lambda = best_lambda\n",
    "lc_model.epochs = max_epochs\n",
    "lc_model.batch_size = batch_sz\n",
    "lc_model"
   ]
  },
  {
   "cell_type": "code",
   "execution_count": 163,
   "metadata": {},
   "outputs": [],
   "source": [
    "# lc_model = NeuralNetworkClassifier(builder=CustomNN(80,80))\n",
    "# lc_model.optimiser.eta = 0.001;\n",
    "# lc_model.lambda = best_lambda\n",
    "# lc_model.epochs = 3000\n",
    "# lc_model.batch_size = 8"
   ]
  },
  {
   "cell_type": "code",
   "execution_count": 164,
   "metadata": {},
   "outputs": [
    {
     "data": {
      "text/plain": [
       "mce (generic function with 1 method)"
      ]
     },
     "execution_count": 164,
     "metadata": {},
     "output_type": "execute_result"
    }
   ],
   "source": [
    "mce(x,y) = mean(cross_entropy(x,y))"
   ]
  },
  {
   "cell_type": "code",
   "execution_count": 168,
   "metadata": {
    "scrolled": true
   },
   "outputs": [
    {
     "name": "stdout",
     "output_type": "stream",
     "text": [
      "(d, train_metric, valid_metric) = (10, 0.31399745f0, 0.39655364f0)\n",
      "(d, train_metric, valid_metric) = (210, 0.32756144f0, 0.3468956f0)\n",
      "(d, train_metric, valid_metric) = (410, 0.347708f0, 0.35172537f0)\n",
      "(d, train_metric, valid_metric) = (610, 0.3378521f0, 0.34273827f0)\n",
      "(d, train_metric, valid_metric) = (810, 0.3502987f0, 0.35292587f0)\n",
      "(d, train_metric, valid_metric) = (1010, 0.345935f0, 0.33880046f0)\n",
      "(d, train_metric, valid_metric) = (1210, 0.3414976f0, 0.34097737f0)\n",
      "(d, train_metric, valid_metric) = (1410, 0.35368723f0, 0.34997356f0)\n",
      "(d, train_metric, valid_metric) = (1610, 0.34493867f0, 0.34478602f0)\n",
      "(d, train_metric, valid_metric) = (1810, 0.339781f0, 0.3419927f0)\n",
      "(d, train_metric, valid_metric) = (2010, 0.3426148f0, 0.344235f0)\n",
      "(d, train_metric, valid_metric) = (2210, 0.3390535f0, 0.3388004f0)\n",
      "(d, train_metric, valid_metric) = (2410, 0.33823505f0, 0.33856162f0)\n",
      "(d, train_metric, valid_metric) = (2610, 0.34314668f0, 0.34318984f0)\n",
      "(d, train_metric, valid_metric) = (2810, 0.33884242f0, 0.33979177f0)\n",
      "(d, train_metric, valid_metric) = (3010, 0.34083796f0, 0.342393f0)\n",
      "(d, train_metric, valid_metric) = (3210, 0.34628344f0, 0.3453667f0)\n",
      "(d, train_metric, valid_metric) = (3410, 0.33554903f0, 0.33735675f0)\n",
      "(d, train_metric, valid_metric) = (3610, 0.3420705f0, 0.34638217f0)\n",
      "(d, train_metric, valid_metric) = (3810, 0.33767116f0, 0.34119537f0)\n",
      "(d, train_metric, valid_metric) = (4010, 0.33620435f0, 0.33919775f0)\n",
      "(d, train_metric, valid_metric) = (4210, 0.34176522f0, 0.34358886f0)\n",
      "(d, train_metric, valid_metric) = (4410, 0.33820495f0, 0.3375781f0)\n",
      "(d, train_metric, valid_metric) = (4610, 0.33864135f0, 0.3388004f0)\n",
      "(d, train_metric, valid_metric) = (4810, 0.33737808f0, 0.3356103f0)\n",
      "(d, train_metric, valid_metric) = (5010, 0.34020776f0, 0.34119463f0)\n",
      "(d, train_metric, valid_metric) = (5210, 0.337062f0, 0.3399973f0)\n",
      "(d, train_metric, valid_metric) = (5410, 0.34320617f0, 0.34359145f0)\n",
      "(d, train_metric, valid_metric) = (5610, 0.33982137f0, 0.33941683f0)\n",
      "(d, train_metric, valid_metric) = (5810, 0.33770227f0, 0.33899075f0)\n",
      "(d, train_metric, valid_metric) = (6010, 0.33822006f0, 0.33840135f0)\n",
      "(d, train_metric, valid_metric) = (6210, 0.3383824f0, 0.33919984f0)\n",
      "(d, train_metric, valid_metric) = (6410, 0.33993873f0, 0.33919942f0)\n",
      "(d, train_metric, valid_metric) = (6610, 0.3389633f0, 0.33980653f0)\n",
      "(d, train_metric, valid_metric) = (6810, 0.34527344f0, 0.34518507f0)\n",
      "(d, train_metric, valid_metric) = (7010, 0.33775973f0, 0.33874327f0)\n",
      "(d, train_metric, valid_metric) = (7210, 0.33919784f0, 0.33875808f0)\n",
      "(d, train_metric, valid_metric) = (7410, 0.340927f0, 0.3419927f0)\n",
      "(d, train_metric, valid_metric) = (7610, 0.3378347f0, 0.33895448f0)\n",
      "(d, train_metric, valid_metric) = (7810, 0.33784553f0, 0.3376036f0)\n",
      "(d, train_metric, valid_metric) = (8010, 0.34210068f0, 0.34239176f0)\n",
      "(d, train_metric, valid_metric) = (8210, 0.3393275f0, 0.33840135f0)\n",
      "(d, train_metric, valid_metric) = (8410, 0.34204096f0, 0.34372762f0)\n",
      "(d, train_metric, valid_metric) = (8610, 0.33927795f0, 0.33976185f0)\n",
      "(d, train_metric, valid_metric) = (8810, 0.3389352f0, 0.33817306f0)\n",
      "(d, train_metric, valid_metric) = (9010, 0.33901086f0, 0.33760557f0)\n",
      "(d, train_metric, valid_metric) = (9210, 0.33926666f0, 0.33970758f0)\n",
      "(d, train_metric, valid_metric) = (9410, 0.35289988f0, 0.35332575f0)\n",
      "(d, train_metric, valid_metric) = (9610, 0.33886003f0, 0.33919936f0)\n",
      "(d, train_metric, valid_metric) = (9810, 0.3384053f0, 0.33885935f0)\n",
      "(d, train_metric, valid_metric) = (10010, 0.3397352f0, 0.3419927f0)\n"
     ]
    },
    {
     "data": {
      "text/plain": [
       "(10:200:10010, Any[0.31399745f0, 0.32756144f0, 0.347708f0, 0.3378521f0, 0.3502987f0, 0.345935f0, 0.3414976f0, 0.35368723f0, 0.34493867f0, 0.339781f0  …  0.3393275f0, 0.34204096f0, 0.33927795f0, 0.3389352f0, 0.33901086f0, 0.33926666f0, 0.35289988f0, 0.33886003f0, 0.3384053f0, 0.3397352f0], Any[0.39655364f0, 0.3468956f0, 0.35172537f0, 0.34273827f0, 0.35292587f0, 0.33880046f0, 0.34097737f0, 0.34997356f0, 0.34478602f0, 0.3419927f0  …  0.33840135f0, 0.34372762f0, 0.33976185f0, 0.33817306f0, 0.33760557f0, 0.33970758f0, 0.35332575f0, 0.33919936f0, 0.33885935f0, 0.3419927f0])"
      ]
     },
     "execution_count": 168,
     "metadata": {},
     "output_type": "execute_result"
    }
   ],
   "source": [
    "data_schedule, training_losses, valid_losses = learn_curve(lc_model, X[train,:], y[train], mce, step=200)"
   ]
  },
  {
   "cell_type": "code",
   "execution_count": 169,
   "metadata": {
    "scrolled": false
   },
   "outputs": [
    {
     "data": {
      "image/svg+xml": [
       "<?xml version=\"1.0\" encoding=\"utf-8\"?>\n",
       "<svg xmlns=\"http://www.w3.org/2000/svg\" xmlns:xlink=\"http://www.w3.org/1999/xlink\" width=\"600\" height=\"400\" viewBox=\"0 0 2400 1600\">\n",
       "<defs>\n",
       "  <clipPath id=\"clip410\">\n",
       "    <rect x=\"0\" y=\"0\" width=\"2400\" height=\"1600\"/>\n",
       "  </clipPath>\n",
       "</defs>\n",
       "<path clip-path=\"url(#clip410)\" d=\"\n",
       "M0 1600 L2400 1600 L2400 0 L0 0  Z\n",
       "  \" fill=\"#ffffff\" fill-rule=\"evenodd\" fill-opacity=\"1\"/>\n",
       "<defs>\n",
       "  <clipPath id=\"clip411\">\n",
       "    <rect x=\"480\" y=\"0\" width=\"1681\" height=\"1600\"/>\n",
       "  </clipPath>\n",
       "</defs>\n",
       "<path clip-path=\"url(#clip410)\" d=\"\n",
       "M237.968 1423.18 L2352.76 1423.18 L2352.76 47.2441 L237.968 47.2441  Z\n",
       "  \" fill=\"#ffffff\" fill-rule=\"evenodd\" fill-opacity=\"1\"/>\n",
       "<defs>\n",
       "  <clipPath id=\"clip412\">\n",
       "    <rect x=\"237\" y=\"47\" width=\"2116\" height=\"1377\"/>\n",
       "  </clipPath>\n",
       "</defs>\n",
       "<polyline clip-path=\"url(#clip412)\" style=\"stroke:#000000; stroke-width:2; stroke-opacity:0.1; fill:none\" points=\"\n",
       "  295.825,1423.18 295.825,47.2441 \n",
       "  \"/>\n",
       "<polyline clip-path=\"url(#clip412)\" style=\"stroke:#000000; stroke-width:2; stroke-opacity:0.1; fill:none\" points=\"\n",
       "  794.596,1423.18 794.596,47.2441 \n",
       "  \"/>\n",
       "<polyline clip-path=\"url(#clip412)\" style=\"stroke:#000000; stroke-width:2; stroke-opacity:0.1; fill:none\" points=\"\n",
       "  1293.37,1423.18 1293.37,47.2441 \n",
       "  \"/>\n",
       "<polyline clip-path=\"url(#clip412)\" style=\"stroke:#000000; stroke-width:2; stroke-opacity:0.1; fill:none\" points=\"\n",
       "  1792.14,1423.18 1792.14,47.2441 \n",
       "  \"/>\n",
       "<polyline clip-path=\"url(#clip412)\" style=\"stroke:#000000; stroke-width:2; stroke-opacity:0.1; fill:none\" points=\"\n",
       "  2290.91,1423.18 2290.91,47.2441 \n",
       "  \"/>\n",
       "<polyline clip-path=\"url(#clip412)\" style=\"stroke:#000000; stroke-width:2; stroke-opacity:0.1; fill:none\" points=\"\n",
       "  237.968,1289.86 2352.76,1289.86 \n",
       "  \"/>\n",
       "<polyline clip-path=\"url(#clip412)\" style=\"stroke:#000000; stroke-width:2; stroke-opacity:0.1; fill:none\" points=\"\n",
       "  237.968,975.393 2352.76,975.393 \n",
       "  \"/>\n",
       "<polyline clip-path=\"url(#clip412)\" style=\"stroke:#000000; stroke-width:2; stroke-opacity:0.1; fill:none\" points=\"\n",
       "  237.968,660.928 2352.76,660.928 \n",
       "  \"/>\n",
       "<polyline clip-path=\"url(#clip412)\" style=\"stroke:#000000; stroke-width:2; stroke-opacity:0.1; fill:none\" points=\"\n",
       "  237.968,346.463 2352.76,346.463 \n",
       "  \"/>\n",
       "<polyline clip-path=\"url(#clip410)\" style=\"stroke:#000000; stroke-width:4; stroke-opacity:1; fill:none\" points=\"\n",
       "  237.968,1423.18 2352.76,1423.18 \n",
       "  \"/>\n",
       "<polyline clip-path=\"url(#clip410)\" style=\"stroke:#000000; stroke-width:4; stroke-opacity:1; fill:none\" points=\"\n",
       "  237.968,1423.18 237.968,47.2441 \n",
       "  \"/>\n",
       "<polyline clip-path=\"url(#clip410)\" style=\"stroke:#000000; stroke-width:4; stroke-opacity:1; fill:none\" points=\"\n",
       "  295.825,1423.18 295.825,1406.67 \n",
       "  \"/>\n",
       "<polyline clip-path=\"url(#clip410)\" style=\"stroke:#000000; stroke-width:4; stroke-opacity:1; fill:none\" points=\"\n",
       "  794.596,1423.18 794.596,1406.67 \n",
       "  \"/>\n",
       "<polyline clip-path=\"url(#clip410)\" style=\"stroke:#000000; stroke-width:4; stroke-opacity:1; fill:none\" points=\"\n",
       "  1293.37,1423.18 1293.37,1406.67 \n",
       "  \"/>\n",
       "<polyline clip-path=\"url(#clip410)\" style=\"stroke:#000000; stroke-width:4; stroke-opacity:1; fill:none\" points=\"\n",
       "  1792.14,1423.18 1792.14,1406.67 \n",
       "  \"/>\n",
       "<polyline clip-path=\"url(#clip410)\" style=\"stroke:#000000; stroke-width:4; stroke-opacity:1; fill:none\" points=\"\n",
       "  2290.91,1423.18 2290.91,1406.67 \n",
       "  \"/>\n",
       "<polyline clip-path=\"url(#clip410)\" style=\"stroke:#000000; stroke-width:4; stroke-opacity:1; fill:none\" points=\"\n",
       "  237.968,1289.86 263.345,1289.86 \n",
       "  \"/>\n",
       "<polyline clip-path=\"url(#clip410)\" style=\"stroke:#000000; stroke-width:4; stroke-opacity:1; fill:none\" points=\"\n",
       "  237.968,975.393 263.345,975.393 \n",
       "  \"/>\n",
       "<polyline clip-path=\"url(#clip410)\" style=\"stroke:#000000; stroke-width:4; stroke-opacity:1; fill:none\" points=\"\n",
       "  237.968,660.928 263.345,660.928 \n",
       "  \"/>\n",
       "<polyline clip-path=\"url(#clip410)\" style=\"stroke:#000000; stroke-width:4; stroke-opacity:1; fill:none\" points=\"\n",
       "  237.968,346.463 263.345,346.463 \n",
       "  \"/>\n",
       "<path clip-path=\"url(#clip410)\" d=\"M 0 0 M295.825 1445.17 Q292.214 1445.17 290.386 1448.74 Q288.58 1452.28 288.58 1459.41 Q288.58 1466.51 290.386 1470.08 Q292.214 1473.62 295.825 1473.62 Q299.46 1473.62 301.265 1470.08 Q303.094 1466.51 303.094 1459.41 Q303.094 1452.28 301.265 1448.74 Q299.46 1445.17 295.825 1445.17 M295.825 1441.47 Q301.636 1441.47 304.691 1446.07 Q307.77 1450.66 307.77 1459.41 Q307.77 1468.13 304.691 1472.74 Q301.636 1477.32 295.825 1477.32 Q290.015 1477.32 286.937 1472.74 Q283.881 1468.13 283.881 1459.41 Q283.881 1450.66 286.937 1446.07 Q290.015 1441.47 295.825 1441.47 Z\" fill=\"#000000\" fill-rule=\"evenodd\" fill-opacity=\"1\" /><path clip-path=\"url(#clip410)\" d=\"M 0 0 M749.226 1472.72 L765.545 1472.72 L765.545 1476.65 L743.601 1476.65 L743.601 1472.72 Q746.263 1469.96 750.846 1465.33 Q755.453 1460.68 756.633 1459.34 Q758.879 1456.81 759.758 1455.08 Q760.661 1453.32 760.661 1451.63 Q760.661 1448.87 758.717 1447.14 Q756.795 1445.4 753.694 1445.4 Q751.495 1445.4 749.041 1446.17 Q746.61 1446.93 743.833 1448.48 L743.833 1443.76 Q746.657 1442.62 749.11 1442.05 Q751.564 1441.47 753.601 1441.47 Q758.971 1441.47 762.166 1444.15 Q765.36 1446.84 765.36 1451.33 Q765.36 1453.46 764.55 1455.38 Q763.763 1457.28 761.657 1459.87 Q761.078 1460.54 757.976 1463.76 Q754.874 1466.95 749.226 1472.72 Z\" fill=\"#000000\" fill-rule=\"evenodd\" fill-opacity=\"1\" /><path clip-path=\"url(#clip410)\" d=\"M 0 0 M770.661 1442.09 L789.017 1442.09 L789.017 1446.03 L774.943 1446.03 L774.943 1454.5 Q775.962 1454.15 776.981 1453.99 Q777.999 1453.8 779.018 1453.8 Q784.805 1453.8 788.184 1456.98 Q791.564 1460.15 791.564 1465.56 Q791.564 1471.14 788.092 1474.24 Q784.619 1477.32 778.3 1477.32 Q776.124 1477.32 773.856 1476.95 Q771.61 1476.58 769.203 1475.84 L769.203 1471.14 Q771.286 1472.28 773.508 1472.83 Q775.731 1473.39 778.207 1473.39 Q782.212 1473.39 784.55 1471.28 Q786.888 1469.18 786.888 1465.56 Q786.888 1461.95 784.55 1459.85 Q782.212 1457.74 778.207 1457.74 Q776.332 1457.74 774.457 1458.16 Q772.606 1458.57 770.661 1459.45 L770.661 1442.09 Z\" fill=\"#000000\" fill-rule=\"evenodd\" fill-opacity=\"1\" /><path clip-path=\"url(#clip410)\" d=\"M 0 0 M806.633 1445.17 Q803.022 1445.17 801.193 1448.74 Q799.388 1452.28 799.388 1459.41 Q799.388 1466.51 801.193 1470.08 Q803.022 1473.62 806.633 1473.62 Q810.267 1473.62 812.073 1470.08 Q813.902 1466.51 813.902 1459.41 Q813.902 1452.28 812.073 1448.74 Q810.267 1445.17 806.633 1445.17 M806.633 1441.47 Q812.443 1441.47 815.499 1446.07 Q818.578 1450.66 818.578 1459.41 Q818.578 1468.13 815.499 1472.74 Q812.443 1477.32 806.633 1477.32 Q800.823 1477.32 797.744 1472.74 Q794.689 1468.13 794.689 1459.41 Q794.689 1450.66 797.744 1446.07 Q800.823 1441.47 806.633 1441.47 Z\" fill=\"#000000\" fill-rule=\"evenodd\" fill-opacity=\"1\" /><path clip-path=\"url(#clip410)\" d=\"M 0 0 M833.647 1445.17 Q830.036 1445.17 828.207 1448.74 Q826.402 1452.28 826.402 1459.41 Q826.402 1466.51 828.207 1470.08 Q830.036 1473.62 833.647 1473.62 Q837.281 1473.62 839.087 1470.08 Q840.915 1466.51 840.915 1459.41 Q840.915 1452.28 839.087 1448.74 Q837.281 1445.17 833.647 1445.17 M833.647 1441.47 Q839.457 1441.47 842.513 1446.07 Q845.591 1450.66 845.591 1459.41 Q845.591 1468.13 842.513 1472.74 Q839.457 1477.32 833.647 1477.32 Q827.837 1477.32 824.758 1472.74 Q821.702 1468.13 821.702 1459.41 Q821.702 1450.66 824.758 1446.07 Q827.837 1441.47 833.647 1441.47 Z\" fill=\"#000000\" fill-rule=\"evenodd\" fill-opacity=\"1\" /><path clip-path=\"url(#clip410)\" d=\"M 0 0 M1243.12 1442.09 L1261.48 1442.09 L1261.48 1446.03 L1247.41 1446.03 L1247.41 1454.5 Q1248.42 1454.15 1249.44 1453.99 Q1250.46 1453.8 1251.48 1453.8 Q1257.27 1453.8 1260.65 1456.98 Q1264.03 1460.15 1264.03 1465.56 Q1264.03 1471.14 1260.55 1474.24 Q1257.08 1477.32 1250.76 1477.32 Q1248.59 1477.32 1246.32 1476.95 Q1244.07 1476.58 1241.67 1475.84 L1241.67 1471.14 Q1243.75 1472.28 1245.97 1472.83 Q1248.19 1473.39 1250.67 1473.39 Q1254.67 1473.39 1257.01 1471.28 Q1259.35 1469.18 1259.35 1465.56 Q1259.35 1461.95 1257.01 1459.85 Q1254.67 1457.74 1250.67 1457.74 Q1248.8 1457.74 1246.92 1458.16 Q1245.07 1458.57 1243.12 1459.45 L1243.12 1442.09 Z\" fill=\"#000000\" fill-rule=\"evenodd\" fill-opacity=\"1\" /><path clip-path=\"url(#clip410)\" d=\"M 0 0 M1279.1 1445.17 Q1275.49 1445.17 1273.66 1448.74 Q1271.85 1452.28 1271.85 1459.41 Q1271.85 1466.51 1273.66 1470.08 Q1275.49 1473.62 1279.1 1473.62 Q1282.73 1473.62 1284.54 1470.08 Q1286.36 1466.51 1286.36 1459.41 Q1286.36 1452.28 1284.54 1448.74 Q1282.73 1445.17 1279.1 1445.17 M1279.1 1441.47 Q1284.91 1441.47 1287.96 1446.07 Q1291.04 1450.66 1291.04 1459.41 Q1291.04 1468.13 1287.96 1472.74 Q1284.91 1477.32 1279.1 1477.32 Q1273.29 1477.32 1270.21 1472.74 Q1267.15 1468.13 1267.15 1459.41 Q1267.15 1450.66 1270.21 1446.07 Q1273.29 1441.47 1279.1 1441.47 Z\" fill=\"#000000\" fill-rule=\"evenodd\" fill-opacity=\"1\" /><path clip-path=\"url(#clip410)\" d=\"M 0 0 M1306.11 1445.17 Q1302.5 1445.17 1300.67 1448.74 Q1298.86 1452.28 1298.86 1459.41 Q1298.86 1466.51 1300.67 1470.08 Q1302.5 1473.62 1306.11 1473.62 Q1309.74 1473.62 1311.55 1470.08 Q1313.38 1466.51 1313.38 1459.41 Q1313.38 1452.28 1311.55 1448.74 Q1309.74 1445.17 1306.11 1445.17 M1306.11 1441.47 Q1311.92 1441.47 1314.98 1446.07 Q1318.05 1450.66 1318.05 1459.41 Q1318.05 1468.13 1314.98 1472.74 Q1311.92 1477.32 1306.11 1477.32 Q1300.3 1477.32 1297.22 1472.74 Q1294.17 1468.13 1294.17 1459.41 Q1294.17 1450.66 1297.22 1446.07 Q1300.3 1441.47 1306.11 1441.47 Z\" fill=\"#000000\" fill-rule=\"evenodd\" fill-opacity=\"1\" /><path clip-path=\"url(#clip410)\" d=\"M 0 0 M1333.12 1445.17 Q1329.51 1445.17 1327.68 1448.74 Q1325.88 1452.28 1325.88 1459.41 Q1325.88 1466.51 1327.68 1470.08 Q1329.51 1473.62 1333.12 1473.62 Q1336.76 1473.62 1338.56 1470.08 Q1340.39 1466.51 1340.39 1459.41 Q1340.39 1452.28 1338.56 1448.74 Q1336.76 1445.17 1333.12 1445.17 M1333.12 1441.47 Q1338.93 1441.47 1341.99 1446.07 Q1345.07 1450.66 1345.07 1459.41 Q1345.07 1468.13 1341.99 1472.74 Q1338.93 1477.32 1333.12 1477.32 Q1327.31 1477.32 1324.23 1472.74 Q1321.18 1468.13 1321.18 1459.41 Q1321.18 1450.66 1324.23 1446.07 Q1327.31 1441.47 1333.12 1441.47 Z\" fill=\"#000000\" fill-rule=\"evenodd\" fill-opacity=\"1\" /><path clip-path=\"url(#clip410)\" d=\"M 0 0 M1741 1442.09 L1763.23 1442.09 L1763.23 1444.08 L1750.68 1476.65 L1745.8 1476.65 L1757.6 1446.03 L1741 1446.03 L1741 1442.09 Z\" fill=\"#000000\" fill-rule=\"evenodd\" fill-opacity=\"1\" /><path clip-path=\"url(#clip410)\" d=\"M 0 0 M1768.34 1442.09 L1786.7 1442.09 L1786.7 1446.03 L1772.62 1446.03 L1772.62 1454.5 Q1773.64 1454.15 1774.66 1453.99 Q1775.68 1453.8 1776.7 1453.8 Q1782.48 1453.8 1785.86 1456.98 Q1789.24 1460.15 1789.24 1465.56 Q1789.24 1471.14 1785.77 1474.24 Q1782.3 1477.32 1775.98 1477.32 Q1773.8 1477.32 1771.54 1476.95 Q1769.29 1476.58 1766.88 1475.84 L1766.88 1471.14 Q1768.97 1472.28 1771.19 1472.83 Q1773.41 1473.39 1775.89 1473.39 Q1779.89 1473.39 1782.23 1471.28 Q1784.57 1469.18 1784.57 1465.56 Q1784.57 1461.95 1782.23 1459.85 Q1779.89 1457.74 1775.89 1457.74 Q1774.01 1457.74 1772.14 1458.16 Q1770.29 1458.57 1768.34 1459.45 L1768.34 1442.09 Z\" fill=\"#000000\" fill-rule=\"evenodd\" fill-opacity=\"1\" /><path clip-path=\"url(#clip410)\" d=\"M 0 0 M1804.31 1445.17 Q1800.7 1445.17 1798.87 1448.74 Q1797.07 1452.28 1797.07 1459.41 Q1797.07 1466.51 1798.87 1470.08 Q1800.7 1473.62 1804.31 1473.62 Q1807.95 1473.62 1809.75 1470.08 Q1811.58 1466.51 1811.58 1459.41 Q1811.58 1452.28 1809.75 1448.74 Q1807.95 1445.17 1804.31 1445.17 M1804.31 1441.47 Q1810.12 1441.47 1813.18 1446.07 Q1816.26 1450.66 1816.26 1459.41 Q1816.26 1468.13 1813.18 1472.74 Q1810.12 1477.32 1804.31 1477.32 Q1798.5 1477.32 1795.42 1472.74 Q1792.37 1468.13 1792.37 1459.41 Q1792.37 1450.66 1795.42 1446.07 Q1798.5 1441.47 1804.31 1441.47 Z\" fill=\"#000000\" fill-rule=\"evenodd\" fill-opacity=\"1\" /><path clip-path=\"url(#clip410)\" d=\"M 0 0 M1831.33 1445.17 Q1827.72 1445.17 1825.89 1448.74 Q1824.08 1452.28 1824.08 1459.41 Q1824.08 1466.51 1825.89 1470.08 Q1827.72 1473.62 1831.33 1473.62 Q1834.96 1473.62 1836.77 1470.08 Q1838.6 1466.51 1838.6 1459.41 Q1838.6 1452.28 1836.77 1448.74 Q1834.96 1445.17 1831.33 1445.17 M1831.33 1441.47 Q1837.14 1441.47 1840.19 1446.07 Q1843.27 1450.66 1843.27 1459.41 Q1843.27 1468.13 1840.19 1472.74 Q1837.14 1477.32 1831.33 1477.32 Q1825.52 1477.32 1822.44 1472.74 Q1819.38 1468.13 1819.38 1459.41 Q1819.38 1450.66 1822.44 1446.07 Q1825.52 1441.47 1831.33 1441.47 Z\" fill=\"#000000\" fill-rule=\"evenodd\" fill-opacity=\"1\" /><path clip-path=\"url(#clip410)\" d=\"M 0 0 M2227.26 1472.72 L2234.9 1472.72 L2234.9 1446.35 L2226.59 1448.02 L2226.59 1443.76 L2234.86 1442.09 L2239.53 1442.09 L2239.53 1472.72 L2247.17 1472.72 L2247.17 1476.65 L2227.26 1476.65 L2227.26 1472.72 Z\" fill=\"#000000\" fill-rule=\"evenodd\" fill-opacity=\"1\" /><path clip-path=\"url(#clip410)\" d=\"M 0 0 M2262.24 1445.17 Q2258.63 1445.17 2256.8 1448.74 Q2254.99 1452.28 2254.99 1459.41 Q2254.99 1466.51 2256.8 1470.08 Q2258.63 1473.62 2262.24 1473.62 Q2265.87 1473.62 2267.68 1470.08 Q2269.51 1466.51 2269.51 1459.41 Q2269.51 1452.28 2267.68 1448.74 Q2265.87 1445.17 2262.24 1445.17 M2262.24 1441.47 Q2268.05 1441.47 2271.11 1446.07 Q2274.18 1450.66 2274.18 1459.41 Q2274.18 1468.13 2271.11 1472.74 Q2268.05 1477.32 2262.24 1477.32 Q2256.43 1477.32 2253.35 1472.74 Q2250.3 1468.13 2250.3 1459.41 Q2250.3 1450.66 2253.35 1446.07 Q2256.43 1441.47 2262.24 1441.47 Z\" fill=\"#000000\" fill-rule=\"evenodd\" fill-opacity=\"1\" /><path clip-path=\"url(#clip410)\" d=\"M 0 0 M2289.25 1445.17 Q2285.64 1445.17 2283.81 1448.74 Q2282.01 1452.28 2282.01 1459.41 Q2282.01 1466.51 2283.81 1470.08 Q2285.64 1473.62 2289.25 1473.62 Q2292.89 1473.62 2294.69 1470.08 Q2296.52 1466.51 2296.52 1459.41 Q2296.52 1452.28 2294.69 1448.74 Q2292.89 1445.17 2289.25 1445.17 M2289.25 1441.47 Q2295.06 1441.47 2298.12 1446.07 Q2301.2 1450.66 2301.2 1459.41 Q2301.2 1468.13 2298.12 1472.74 Q2295.06 1477.32 2289.25 1477.32 Q2283.44 1477.32 2280.36 1472.74 Q2277.31 1468.13 2277.31 1459.41 Q2277.31 1450.66 2280.36 1446.07 Q2283.44 1441.47 2289.25 1441.47 Z\" fill=\"#000000\" fill-rule=\"evenodd\" fill-opacity=\"1\" /><path clip-path=\"url(#clip410)\" d=\"M 0 0 M2316.27 1445.17 Q2312.66 1445.17 2310.83 1448.74 Q2309.02 1452.28 2309.02 1459.41 Q2309.02 1466.51 2310.83 1470.08 Q2312.66 1473.62 2316.27 1473.62 Q2319.9 1473.62 2321.71 1470.08 Q2323.54 1466.51 2323.54 1459.41 Q2323.54 1452.28 2321.71 1448.74 Q2319.9 1445.17 2316.27 1445.17 M2316.27 1441.47 Q2322.08 1441.47 2325.13 1446.07 Q2328.21 1450.66 2328.21 1459.41 Q2328.21 1468.13 2325.13 1472.74 Q2322.08 1477.32 2316.27 1477.32 Q2310.46 1477.32 2307.38 1472.74 Q2304.32 1468.13 2304.32 1459.41 Q2304.32 1450.66 2307.38 1446.07 Q2310.46 1441.47 2316.27 1441.47 Z\" fill=\"#000000\" fill-rule=\"evenodd\" fill-opacity=\"1\" /><path clip-path=\"url(#clip410)\" d=\"M 0 0 M2343.28 1445.17 Q2339.67 1445.17 2337.84 1448.74 Q2336.04 1452.28 2336.04 1459.41 Q2336.04 1466.51 2337.84 1470.08 Q2339.67 1473.62 2343.28 1473.62 Q2346.91 1473.62 2348.72 1470.08 Q2350.55 1466.51 2350.55 1459.41 Q2350.55 1452.28 2348.72 1448.74 Q2346.91 1445.17 2343.28 1445.17 M2343.28 1441.47 Q2349.09 1441.47 2352.15 1446.07 Q2355.23 1450.66 2355.23 1459.41 Q2355.23 1468.13 2352.15 1472.74 Q2349.09 1477.32 2343.28 1477.32 Q2337.47 1477.32 2334.39 1472.74 Q2331.34 1468.13 2331.34 1459.41 Q2331.34 1450.66 2334.39 1446.07 Q2337.47 1441.47 2343.28 1441.47 Z\" fill=\"#000000\" fill-rule=\"evenodd\" fill-opacity=\"1\" /><path clip-path=\"url(#clip410)\" d=\"M 0 0 M140.288 1275.66 Q136.677 1275.66 134.848 1279.22 Q133.043 1282.76 133.043 1289.89 Q133.043 1297 134.848 1300.56 Q136.677 1304.11 140.288 1304.11 Q143.922 1304.11 145.728 1300.56 Q147.556 1297 147.556 1289.89 Q147.556 1282.76 145.728 1279.22 Q143.922 1275.66 140.288 1275.66 M140.288 1271.95 Q146.098 1271.95 149.154 1276.56 Q152.232 1281.14 152.232 1289.89 Q152.232 1298.62 149.154 1303.23 Q146.098 1307.81 140.288 1307.81 Q134.478 1307.81 131.399 1303.23 Q128.343 1298.62 128.343 1289.89 Q128.343 1281.14 131.399 1276.56 Q134.478 1271.95 140.288 1271.95 Z\" fill=\"#000000\" fill-rule=\"evenodd\" fill-opacity=\"1\" /><path clip-path=\"url(#clip410)\" d=\"M 0 0 M157.302 1301.26 L162.186 1301.26 L162.186 1307.14 L157.302 1307.14 L157.302 1301.26 Z\" fill=\"#000000\" fill-rule=\"evenodd\" fill-opacity=\"1\" /><path clip-path=\"url(#clip410)\" d=\"M 0 0 M181.422 1288.5 Q184.778 1289.22 186.653 1291.49 Q188.551 1293.76 188.551 1297.09 Q188.551 1302.21 185.033 1305.01 Q181.514 1307.81 175.033 1307.81 Q172.857 1307.81 170.542 1307.37 Q168.251 1306.95 165.797 1306.1 L165.797 1301.58 Q167.741 1302.72 170.056 1303.3 Q172.371 1303.87 174.894 1303.87 Q179.292 1303.87 181.584 1302.14 Q183.899 1300.4 183.899 1297.09 Q183.899 1294.04 181.746 1292.32 Q179.616 1290.59 175.797 1290.59 L171.769 1290.59 L171.769 1286.75 L175.982 1286.75 Q179.431 1286.75 181.26 1285.38 Q183.089 1283.99 183.089 1281.4 Q183.089 1278.74 181.19 1277.32 Q179.315 1275.89 175.797 1275.89 Q173.876 1275.89 171.677 1276.31 Q169.478 1276.72 166.839 1277.6 L166.839 1273.44 Q169.501 1272.69 171.815 1272.32 Q174.153 1271.95 176.214 1271.95 Q181.538 1271.95 184.639 1274.38 Q187.741 1276.79 187.741 1280.91 Q187.741 1283.78 186.098 1285.77 Q184.454 1287.74 181.422 1288.5 Z\" fill=\"#000000\" fill-rule=\"evenodd\" fill-opacity=\"1\" /><path clip-path=\"url(#clip410)\" d=\"M 0 0 M197.649 1303.2 L213.968 1303.2 L213.968 1307.14 L192.024 1307.14 L192.024 1303.2 Q194.686 1300.45 199.269 1295.82 Q203.875 1291.17 205.056 1289.82 Q207.301 1287.3 208.181 1285.56 Q209.084 1283.81 209.084 1282.12 Q209.084 1279.36 207.139 1277.62 Q205.218 1275.89 202.116 1275.89 Q199.917 1275.89 197.463 1276.65 Q195.033 1277.42 192.255 1278.97 L192.255 1274.25 Q195.079 1273.11 197.533 1272.53 Q199.987 1271.95 202.024 1271.95 Q207.394 1271.95 210.588 1274.64 Q213.783 1277.32 213.783 1281.81 Q213.783 1283.94 212.973 1285.87 Q212.186 1287.76 210.079 1290.36 Q209.5 1291.03 206.399 1294.25 Q203.297 1297.44 197.649 1303.2 Z\" fill=\"#000000\" fill-rule=\"evenodd\" fill-opacity=\"1\" /><path clip-path=\"url(#clip410)\" d=\"M 0 0 M138.205 961.192 Q134.593 961.192 132.765 964.757 Q130.959 968.298 130.959 975.428 Q130.959 982.534 132.765 986.099 Q134.593 989.641 138.205 989.641 Q141.839 989.641 143.644 986.099 Q145.473 982.534 145.473 975.428 Q145.473 968.298 143.644 964.757 Q141.839 961.192 138.205 961.192 M138.205 957.488 Q144.015 957.488 147.07 962.095 Q150.149 966.678 150.149 975.428 Q150.149 984.155 147.07 988.761 Q144.015 993.345 138.205 993.345 Q132.394 993.345 129.316 988.761 Q126.26 984.155 126.26 975.428 Q126.26 966.678 129.316 962.095 Q132.394 957.488 138.205 957.488 Z\" fill=\"#000000\" fill-rule=\"evenodd\" fill-opacity=\"1\" /><path clip-path=\"url(#clip410)\" d=\"M 0 0 M155.218 986.794 L160.103 986.794 L160.103 992.673 L155.218 992.673 L155.218 986.794 Z\" fill=\"#000000\" fill-rule=\"evenodd\" fill-opacity=\"1\" /><path clip-path=\"url(#clip410)\" d=\"M 0 0 M179.339 974.039 Q182.695 974.757 184.57 977.025 Q186.468 979.294 186.468 982.627 Q186.468 987.743 182.95 990.544 Q179.431 993.345 172.95 993.345 Q170.774 993.345 168.459 992.905 Q166.167 992.488 163.714 991.632 L163.714 987.118 Q165.658 988.252 167.973 988.831 Q170.288 989.409 172.811 989.409 Q177.209 989.409 179.501 987.673 Q181.815 985.937 181.815 982.627 Q181.815 979.572 179.663 977.859 Q177.533 976.122 173.714 976.122 L169.686 976.122 L169.686 972.28 L173.899 972.28 Q177.348 972.28 179.177 970.914 Q181.005 969.525 181.005 966.933 Q181.005 964.271 179.107 962.859 Q177.232 961.423 173.714 961.423 Q171.792 961.423 169.593 961.84 Q167.394 962.257 164.755 963.136 L164.755 958.97 Q167.417 958.229 169.732 957.859 Q172.07 957.488 174.13 957.488 Q179.454 957.488 182.556 959.919 Q185.658 962.326 185.658 966.447 Q185.658 969.317 184.014 971.308 Q182.371 973.275 179.339 974.039 Z\" fill=\"#000000\" fill-rule=\"evenodd\" fill-opacity=\"1\" /><path clip-path=\"url(#clip410)\" d=\"M 0 0 M204.385 962.187 L192.579 980.636 L204.385 980.636 L204.385 962.187 M203.158 958.113 L209.037 958.113 L209.037 980.636 L213.968 980.636 L213.968 984.525 L209.037 984.525 L209.037 992.673 L204.385 992.673 L204.385 984.525 L188.783 984.525 L188.783 980.011 L203.158 958.113 Z\" fill=\"#000000\" fill-rule=\"evenodd\" fill-opacity=\"1\" /><path clip-path=\"url(#clip410)\" d=\"M 0 0 M138.529 646.727 Q134.918 646.727 133.089 650.292 Q131.283 653.833 131.283 660.963 Q131.283 668.069 133.089 671.634 Q134.918 675.176 138.529 675.176 Q142.163 675.176 143.968 671.634 Q145.797 668.069 145.797 660.963 Q145.797 653.833 143.968 650.292 Q142.163 646.727 138.529 646.727 M138.529 643.023 Q144.339 643.023 147.394 647.63 Q150.473 652.213 150.473 660.963 Q150.473 669.69 147.394 674.296 Q144.339 678.879 138.529 678.879 Q132.718 678.879 129.64 674.296 Q126.584 669.69 126.584 660.963 Q126.584 652.213 129.64 647.63 Q132.718 643.023 138.529 643.023 Z\" fill=\"#000000\" fill-rule=\"evenodd\" fill-opacity=\"1\" /><path clip-path=\"url(#clip410)\" d=\"M 0 0 M155.542 672.328 L160.427 672.328 L160.427 678.208 L155.542 678.208 L155.542 672.328 Z\" fill=\"#000000\" fill-rule=\"evenodd\" fill-opacity=\"1\" /><path clip-path=\"url(#clip410)\" d=\"M 0 0 M179.663 659.574 Q183.019 660.291 184.894 662.56 Q186.792 664.829 186.792 668.162 Q186.792 673.278 183.274 676.078 Q179.755 678.879 173.274 678.879 Q171.098 678.879 168.783 678.44 Q166.491 678.023 164.038 677.166 L164.038 672.653 Q165.982 673.787 168.297 674.365 Q170.612 674.944 173.135 674.944 Q177.533 674.944 179.825 673.208 Q182.139 671.472 182.139 668.162 Q182.139 665.106 179.987 663.393 Q177.857 661.657 174.038 661.657 L170.01 661.657 L170.01 657.815 L174.223 657.815 Q177.672 657.815 179.501 656.449 Q181.329 655.06 181.329 652.467 Q181.329 649.805 179.431 648.393 Q177.556 646.958 174.038 646.958 Q172.116 646.958 169.917 647.375 Q167.718 647.792 165.079 648.671 L165.079 644.505 Q167.741 643.764 170.056 643.393 Q172.394 643.023 174.454 643.023 Q179.778 643.023 182.88 645.454 Q185.982 647.861 185.982 651.981 Q185.982 654.852 184.339 656.842 Q182.695 658.81 179.663 659.574 Z\" fill=\"#000000\" fill-rule=\"evenodd\" fill-opacity=\"1\" /><path clip-path=\"url(#clip410)\" d=\"M 0 0 M202.44 659.065 Q199.292 659.065 197.44 661.217 Q195.612 663.37 195.612 667.12 Q195.612 670.847 197.44 673.023 Q199.292 675.176 202.44 675.176 Q205.588 675.176 207.417 673.023 Q209.269 670.847 209.269 667.12 Q209.269 663.37 207.417 661.217 Q205.588 659.065 202.44 659.065 M211.723 644.412 L211.723 648.671 Q209.963 647.838 208.158 647.398 Q206.375 646.958 204.616 646.958 Q199.987 646.958 197.533 650.083 Q195.102 653.208 194.755 659.528 Q196.121 657.514 198.181 656.449 Q200.241 655.361 202.718 655.361 Q207.926 655.361 210.936 658.532 Q213.968 661.68 213.968 667.12 Q213.968 672.444 210.82 675.662 Q207.672 678.879 202.44 678.879 Q196.445 678.879 193.274 674.296 Q190.102 669.69 190.102 660.963 Q190.102 652.768 193.991 647.907 Q197.88 643.023 204.431 643.023 Q206.19 643.023 207.973 643.37 Q209.778 643.718 211.723 644.412 Z\" fill=\"#000000\" fill-rule=\"evenodd\" fill-opacity=\"1\" /><path clip-path=\"url(#clip410)\" d=\"M 0 0 M138.783 332.262 Q135.172 332.262 133.343 335.826 Q131.538 339.368 131.538 346.498 Q131.538 353.604 133.343 357.169 Q135.172 360.71 138.783 360.71 Q142.417 360.71 144.223 357.169 Q146.052 353.604 146.052 346.498 Q146.052 339.368 144.223 335.826 Q142.417 332.262 138.783 332.262 M138.783 328.558 Q144.593 328.558 147.649 333.164 Q150.728 337.748 150.728 346.498 Q150.728 355.224 147.649 359.831 Q144.593 364.414 138.783 364.414 Q132.973 364.414 129.894 359.831 Q126.839 355.224 126.839 346.498 Q126.839 337.748 129.894 333.164 Q132.973 328.558 138.783 328.558 Z\" fill=\"#000000\" fill-rule=\"evenodd\" fill-opacity=\"1\" /><path clip-path=\"url(#clip410)\" d=\"M 0 0 M155.797 357.863 L160.681 357.863 L160.681 363.743 L155.797 363.743 L155.797 357.863 Z\" fill=\"#000000\" fill-rule=\"evenodd\" fill-opacity=\"1\" /><path clip-path=\"url(#clip410)\" d=\"M 0 0 M179.917 345.109 Q183.274 345.826 185.149 348.095 Q187.047 350.363 187.047 353.697 Q187.047 358.812 183.528 361.613 Q180.01 364.414 173.528 364.414 Q171.353 364.414 169.038 363.974 Q166.746 363.558 164.292 362.701 L164.292 358.187 Q166.237 359.322 168.552 359.9 Q170.866 360.479 173.39 360.479 Q177.788 360.479 180.079 358.743 Q182.394 357.007 182.394 353.697 Q182.394 350.641 180.241 348.928 Q178.112 347.192 174.292 347.192 L170.265 347.192 L170.265 343.349 L174.477 343.349 Q177.927 343.349 179.755 341.984 Q181.584 340.595 181.584 338.002 Q181.584 335.34 179.686 333.928 Q177.811 332.493 174.292 332.493 Q172.371 332.493 170.172 332.91 Q167.973 333.326 165.334 334.206 L165.334 330.039 Q167.996 329.299 170.311 328.928 Q172.649 328.558 174.709 328.558 Q180.033 328.558 183.135 330.988 Q186.237 333.396 186.237 337.516 Q186.237 340.386 184.593 342.377 Q182.95 344.345 179.917 345.109 Z\" fill=\"#000000\" fill-rule=\"evenodd\" fill-opacity=\"1\" /><path clip-path=\"url(#clip410)\" d=\"M 0 0 M202.116 347.331 Q198.783 347.331 196.862 349.113 Q194.963 350.896 194.963 354.021 Q194.963 357.146 196.862 358.928 Q198.783 360.71 202.116 360.71 Q205.45 360.71 207.371 358.928 Q209.292 357.122 209.292 354.021 Q209.292 350.896 207.371 349.113 Q205.473 347.331 202.116 347.331 M197.44 345.34 Q194.431 344.599 192.741 342.539 Q191.075 340.479 191.075 337.516 Q191.075 333.373 194.014 330.965 Q196.977 328.558 202.116 328.558 Q207.278 328.558 210.218 330.965 Q213.158 333.373 213.158 337.516 Q213.158 340.479 211.468 342.539 Q209.801 344.599 206.815 345.34 Q210.195 346.127 212.07 348.419 Q213.968 350.71 213.968 354.021 Q213.968 359.044 210.889 361.729 Q207.834 364.414 202.116 364.414 Q196.399 364.414 193.32 361.729 Q190.264 359.044 190.264 354.021 Q190.264 350.71 192.163 348.419 Q194.061 346.127 197.44 345.34 M195.727 337.956 Q195.727 340.641 197.394 342.146 Q199.084 343.65 202.116 343.65 Q205.125 343.65 206.815 342.146 Q208.528 340.641 208.528 337.956 Q208.528 335.271 206.815 333.766 Q205.125 332.262 202.116 332.262 Q199.084 332.262 197.394 333.766 Q195.727 335.271 195.727 337.956 Z\" fill=\"#000000\" fill-rule=\"evenodd\" fill-opacity=\"1\" /><path clip-path=\"url(#clip410)\" d=\"M 0 0 M884.137 1508.52 L892.795 1508.52 L913.865 1548.28 L913.865 1508.52 L920.104 1508.52 L920.104 1556.04 L911.446 1556.04 L890.376 1516.29 L890.376 1556.04 L884.137 1556.04 L884.137 1508.52 Z\" fill=\"#000000\" fill-rule=\"evenodd\" fill-opacity=\"1\" /><path clip-path=\"url(#clip410)\" d=\"M 0 0 M925.642 1541.98 L925.642 1520.4 L931.498 1520.4 L931.498 1541.75 Q931.498 1546.81 933.472 1549.36 Q935.445 1551.87 939.392 1551.87 Q944.134 1551.87 946.871 1548.85 Q949.64 1545.83 949.64 1540.61 L949.64 1520.4 L955.497 1520.4 L955.497 1556.04 L949.64 1556.04 L949.64 1550.57 Q947.508 1553.82 944.675 1555.41 Q941.874 1556.97 938.15 1556.97 Q932.007 1556.97 928.825 1553.15 Q925.642 1549.33 925.642 1541.98 M940.378 1519.54 L940.378 1519.54 Z\" fill=\"#000000\" fill-rule=\"evenodd\" fill-opacity=\"1\" /><path clip-path=\"url(#clip410)\" d=\"M 0 0 M989.394 1527.24 Q991.59 1523.29 994.646 1521.41 Q997.702 1519.54 1001.84 1519.54 Q1007.41 1519.54 1010.43 1523.45 Q1013.46 1527.33 1013.46 1534.53 L1013.46 1556.04 L1007.57 1556.04 L1007.57 1534.72 Q1007.57 1529.59 1005.75 1527.11 Q1003.94 1524.63 1000.22 1524.63 Q995.664 1524.63 993.023 1527.65 Q990.381 1530.68 990.381 1535.9 L990.381 1556.04 L984.493 1556.04 L984.493 1534.72 Q984.493 1529.56 982.678 1527.11 Q980.864 1524.63 977.077 1524.63 Q972.589 1524.63 969.947 1527.68 Q967.305 1530.71 967.305 1535.9 L967.305 1556.04 L961.417 1556.04 L961.417 1520.4 L967.305 1520.4 L967.305 1525.93 Q969.31 1522.66 972.111 1521.1 Q974.912 1519.54 978.764 1519.54 Q982.647 1519.54 985.352 1521.51 Q988.089 1523.48 989.394 1527.24 Z\" fill=\"#000000\" fill-rule=\"evenodd\" fill-opacity=\"1\" /><path clip-path=\"url(#clip410)\" d=\"M 0 0 M1045.19 1538.25 Q1045.19 1531.79 1042.52 1528.13 Q1039.87 1524.44 1035.23 1524.44 Q1030.58 1524.44 1027.91 1528.13 Q1025.27 1531.79 1025.27 1538.25 Q1025.27 1544.71 1027.91 1548.4 Q1030.58 1552.07 1035.23 1552.07 Q1039.87 1552.07 1042.52 1548.4 Q1045.19 1544.71 1045.19 1538.25 M1025.27 1525.81 Q1027.11 1522.62 1029.91 1521.1 Q1032.74 1519.54 1036.66 1519.54 Q1043.15 1519.54 1047.19 1524.69 Q1051.27 1529.85 1051.27 1538.25 Q1051.27 1546.65 1047.19 1551.81 Q1043.15 1556.97 1036.66 1556.97 Q1032.74 1556.97 1029.91 1555.44 Q1027.11 1553.88 1025.27 1550.7 L1025.27 1556.04 L1019.38 1556.04 L1019.38 1506.52 L1025.27 1506.52 L1025.27 1525.81 Z\" fill=\"#000000\" fill-rule=\"evenodd\" fill-opacity=\"1\" /><path clip-path=\"url(#clip410)\" d=\"M 0 0 M1087.9 1536.76 L1087.9 1539.62 L1060.98 1539.62 Q1061.36 1545.67 1064.61 1548.85 Q1067.88 1552 1073.71 1552 Q1077.08 1552 1080.23 1551.17 Q1083.42 1550.35 1086.53 1548.69 L1086.53 1554.23 Q1083.38 1555.57 1080.07 1556.27 Q1076.76 1556.97 1073.36 1556.97 Q1064.83 1556.97 1059.83 1552 Q1054.87 1547.04 1054.87 1538.57 Q1054.87 1529.82 1059.58 1524.69 Q1064.32 1519.54 1072.34 1519.54 Q1079.53 1519.54 1083.7 1524.18 Q1087.9 1528.8 1087.9 1536.76 M1082.05 1535.04 Q1081.98 1530.23 1079.34 1527.37 Q1076.73 1524.5 1072.4 1524.5 Q1067.5 1524.5 1064.54 1527.27 Q1061.61 1530.04 1061.17 1535.07 L1082.05 1535.04 Z\" fill=\"#000000\" fill-rule=\"evenodd\" fill-opacity=\"1\" /><path clip-path=\"url(#clip410)\" d=\"M 0 0 M1114.7 1525.87 Q1113.72 1525.3 1112.54 1525.04 Q1111.39 1524.76 1109.99 1524.76 Q1105.03 1524.76 1102.35 1528 Q1099.71 1531.22 1099.71 1537.27 L1099.71 1556.04 L1093.82 1556.04 L1093.82 1520.4 L1099.71 1520.4 L1099.71 1525.93 Q1101.56 1522.69 1104.52 1521.13 Q1107.48 1519.54 1111.71 1519.54 Q1112.32 1519.54 1113.05 1519.63 Q1113.78 1519.7 1114.67 1519.85 L1114.7 1525.87 Z\" fill=\"#000000\" fill-rule=\"evenodd\" fill-opacity=\"1\" /><path clip-path=\"url(#clip410)\" d=\"M 0 0 M1155.38 1524.5 Q1150.67 1524.5 1147.93 1528.19 Q1145.19 1531.85 1145.19 1538.25 Q1145.19 1544.65 1147.9 1548.34 Q1150.64 1552 1155.38 1552 Q1160.06 1552 1162.8 1548.31 Q1165.53 1544.62 1165.53 1538.25 Q1165.53 1531.92 1162.8 1528.23 Q1160.06 1524.5 1155.38 1524.5 M1155.38 1519.54 Q1163.02 1519.54 1167.38 1524.5 Q1171.74 1529.47 1171.74 1538.25 Q1171.74 1547 1167.38 1552 Q1163.02 1556.97 1155.38 1556.97 Q1147.71 1556.97 1143.35 1552 Q1139.02 1547 1139.02 1538.25 Q1139.02 1529.47 1143.35 1524.5 Q1147.71 1519.54 1155.38 1519.54 Z\" fill=\"#000000\" fill-rule=\"evenodd\" fill-opacity=\"1\" /><path clip-path=\"url(#clip410)\" d=\"M 0 0 M1195.93 1506.52 L1195.93 1511.39 L1190.33 1511.39 Q1187.18 1511.39 1185.94 1512.66 Q1184.73 1513.93 1184.73 1517.24 L1184.73 1520.4 L1194.37 1520.4 L1194.37 1524.95 L1184.73 1524.95 L1184.73 1556.04 L1178.84 1556.04 L1178.84 1524.95 L1173.24 1524.95 L1173.24 1520.4 L1178.84 1520.4 L1178.84 1517.91 Q1178.84 1511.96 1181.61 1509.26 Q1184.38 1506.52 1190.39 1506.52 L1195.93 1506.52 Z\" fill=\"#000000\" fill-rule=\"evenodd\" fill-opacity=\"1\" /><path clip-path=\"url(#clip410)\" d=\"M 0 0 M1216.46 1508.52 L1256.66 1508.52 L1256.66 1513.93 L1239.79 1513.93 L1239.79 1556.04 L1233.33 1556.04 L1233.33 1513.93 L1216.46 1513.93 L1216.46 1508.52 Z\" fill=\"#000000\" fill-rule=\"evenodd\" fill-opacity=\"1\" /><path clip-path=\"url(#clip410)\" d=\"M 0 0 M1273.88 1525.87 Q1272.89 1525.3 1271.71 1525.04 Q1270.57 1524.76 1269.17 1524.76 Q1264.2 1524.76 1261.53 1528 Q1258.89 1531.22 1258.89 1537.27 L1258.89 1556.04 L1253 1556.04 L1253 1520.4 L1258.89 1520.4 L1258.89 1525.93 Q1260.73 1522.69 1263.69 1521.13 Q1266.65 1519.54 1270.89 1519.54 Q1271.49 1519.54 1272.22 1519.63 Q1272.95 1519.7 1273.85 1519.85 L1273.88 1525.87 Z\" fill=\"#000000\" fill-rule=\"evenodd\" fill-opacity=\"1\" /><path clip-path=\"url(#clip410)\" d=\"M 0 0 M1296.22 1538.12 Q1289.12 1538.12 1286.39 1539.75 Q1283.65 1541.37 1283.65 1545.29 Q1283.65 1548.4 1285.69 1550.25 Q1287.75 1552.07 1291.29 1552.07 Q1296.16 1552.07 1299.09 1548.63 Q1302.05 1545.16 1302.05 1539.43 L1302.05 1538.12 L1296.22 1538.12 M1307.9 1535.71 L1307.9 1556.04 L1302.05 1556.04 L1302.05 1550.63 Q1300.04 1553.88 1297.05 1555.44 Q1294.06 1556.97 1289.73 1556.97 Q1284.25 1556.97 1281.01 1553.91 Q1277.79 1550.82 1277.79 1545.67 Q1277.79 1539.65 1281.8 1536.6 Q1285.85 1533.54 1293.83 1533.54 L1302.05 1533.54 L1302.05 1532.97 Q1302.05 1528.93 1299.37 1526.73 Q1296.73 1524.5 1291.92 1524.5 Q1288.87 1524.5 1285.97 1525.23 Q1283.08 1525.97 1280.4 1527.43 L1280.4 1522.02 Q1283.62 1520.78 1286.64 1520.17 Q1289.66 1519.54 1292.53 1519.54 Q1300.26 1519.54 1304.08 1523.55 Q1307.9 1527.56 1307.9 1535.71 Z\" fill=\"#000000\" fill-rule=\"evenodd\" fill-opacity=\"1\" /><path clip-path=\"url(#clip410)\" d=\"M 0 0 M1314.05 1520.4 L1319.9 1520.4 L1319.9 1556.04 L1314.05 1556.04 L1314.05 1520.4 M1314.05 1506.52 L1319.9 1506.52 L1319.9 1513.93 L1314.05 1513.93 L1314.05 1506.52 Z\" fill=\"#000000\" fill-rule=\"evenodd\" fill-opacity=\"1\" /><path clip-path=\"url(#clip410)\" d=\"M 0 0 M1355.68 1534.53 L1355.68 1556.04 L1349.82 1556.04 L1349.82 1534.72 Q1349.82 1529.66 1347.85 1527.14 Q1345.87 1524.63 1341.93 1524.63 Q1337.18 1524.63 1334.45 1527.65 Q1331.71 1530.68 1331.71 1535.9 L1331.71 1556.04 L1325.82 1556.04 L1325.82 1520.4 L1331.71 1520.4 L1331.71 1525.93 Q1333.81 1522.72 1336.64 1521.13 Q1339.51 1519.54 1343.23 1519.54 Q1349.37 1519.54 1352.53 1523.36 Q1355.68 1527.14 1355.68 1534.53 Z\" fill=\"#000000\" fill-rule=\"evenodd\" fill-opacity=\"1\" /><path clip-path=\"url(#clip410)\" d=\"M 0 0 M1361.82 1520.4 L1367.68 1520.4 L1367.68 1556.04 L1361.82 1556.04 L1361.82 1520.4 M1361.82 1506.52 L1367.68 1506.52 L1367.68 1513.93 L1361.82 1513.93 L1361.82 1506.52 Z\" fill=\"#000000\" fill-rule=\"evenodd\" fill-opacity=\"1\" /><path clip-path=\"url(#clip410)\" d=\"M 0 0 M1403.45 1534.53 L1403.45 1556.04 L1397.6 1556.04 L1397.6 1534.72 Q1397.6 1529.66 1395.62 1527.14 Q1393.65 1524.63 1389.7 1524.63 Q1384.96 1524.63 1382.22 1527.65 Q1379.48 1530.68 1379.48 1535.9 L1379.48 1556.04 L1373.6 1556.04 L1373.6 1520.4 L1379.48 1520.4 L1379.48 1525.93 Q1381.59 1522.72 1384.42 1521.13 Q1387.28 1519.54 1391.01 1519.54 Q1397.15 1519.54 1400.3 1523.36 Q1403.45 1527.14 1403.45 1534.53 Z\" fill=\"#000000\" fill-rule=\"evenodd\" fill-opacity=\"1\" /><path clip-path=\"url(#clip410)\" d=\"M 0 0 M1433.05 1537.81 Q1433.05 1531.44 1430.41 1527.94 Q1427.8 1524.44 1423.06 1524.44 Q1418.35 1524.44 1415.71 1527.94 Q1413.1 1531.44 1413.1 1537.81 Q1413.1 1544.14 1415.71 1547.64 Q1418.35 1551.14 1423.06 1551.14 Q1427.8 1551.14 1430.41 1547.64 Q1433.05 1544.14 1433.05 1537.81 M1438.91 1551.62 Q1438.91 1560.72 1434.87 1565.15 Q1430.82 1569.6 1422.49 1569.6 Q1419.4 1569.6 1416.66 1569.13 Q1413.92 1568.68 1411.35 1567.72 L1411.35 1562.03 Q1413.92 1563.43 1416.44 1564.1 Q1418.95 1564.76 1421.56 1564.76 Q1427.32 1564.76 1430.19 1561.74 Q1433.05 1558.75 1433.05 1552.67 L1433.05 1549.77 Q1431.24 1552.92 1428.41 1554.48 Q1425.57 1556.04 1421.63 1556.04 Q1415.07 1556.04 1411.06 1551.05 Q1407.05 1546.05 1407.05 1537.81 Q1407.05 1529.53 1411.06 1524.53 Q1415.07 1519.54 1421.63 1519.54 Q1425.57 1519.54 1428.41 1521.1 Q1431.24 1522.66 1433.05 1525.81 L1433.05 1520.4 L1438.91 1520.4 L1438.91 1551.62 Z\" fill=\"#000000\" fill-rule=\"evenodd\" fill-opacity=\"1\" /><path clip-path=\"url(#clip410)\" d=\"M 0 0 M1494.51 1510.08 L1494.51 1516.35 Q1490.85 1514.6 1487.61 1513.74 Q1484.36 1512.88 1481.34 1512.88 Q1476.08 1512.88 1473.22 1514.92 Q1470.39 1516.96 1470.39 1520.71 Q1470.39 1523.87 1472.26 1525.49 Q1474.17 1527.08 1479.46 1528.07 L1483.34 1528.86 Q1490.53 1530.23 1493.94 1533.7 Q1497.38 1537.14 1497.38 1542.93 Q1497.38 1549.84 1492.73 1553.4 Q1488.12 1556.97 1479.17 1556.97 Q1475.8 1556.97 1471.98 1556.2 Q1468.19 1555.44 1464.12 1553.94 L1464.12 1547.32 Q1468.03 1549.52 1471.79 1550.63 Q1475.54 1551.75 1479.17 1551.75 Q1484.68 1551.75 1487.67 1549.58 Q1490.66 1547.42 1490.66 1543.41 Q1490.66 1539.91 1488.5 1537.93 Q1486.36 1535.96 1481.46 1534.97 L1477.55 1534.21 Q1470.36 1532.78 1467.14 1529.72 Q1463.93 1526.67 1463.93 1521.22 Q1463.93 1514.92 1468.35 1511.29 Q1472.81 1507.66 1480.6 1507.66 Q1483.95 1507.66 1487.42 1508.27 Q1490.88 1508.87 1494.51 1510.08 Z\" fill=\"#000000\" fill-rule=\"evenodd\" fill-opacity=\"1\" /><path clip-path=\"url(#clip410)\" d=\"M 0 0 M1519.72 1538.12 Q1512.62 1538.12 1509.89 1539.75 Q1507.15 1541.37 1507.15 1545.29 Q1507.15 1548.4 1509.19 1550.25 Q1511.25 1552.07 1514.79 1552.07 Q1519.66 1552.07 1522.59 1548.63 Q1525.55 1545.16 1525.55 1539.43 L1525.55 1538.12 L1519.72 1538.12 M1531.4 1535.71 L1531.4 1556.04 L1525.55 1556.04 L1525.55 1550.63 Q1523.54 1553.88 1520.55 1555.44 Q1517.56 1556.97 1513.23 1556.97 Q1507.75 1556.97 1504.51 1553.91 Q1501.29 1550.82 1501.29 1545.67 Q1501.29 1539.65 1505.3 1536.6 Q1509.35 1533.54 1517.33 1533.54 L1525.55 1533.54 L1525.55 1532.97 Q1525.55 1528.93 1522.87 1526.73 Q1520.23 1524.5 1515.42 1524.5 Q1512.37 1524.5 1509.47 1525.23 Q1506.58 1525.97 1503.9 1527.43 L1503.9 1522.02 Q1507.12 1520.78 1510.14 1520.17 Q1513.16 1519.54 1516.03 1519.54 Q1523.76 1519.54 1527.58 1523.55 Q1531.4 1527.56 1531.4 1535.71 Z\" fill=\"#000000\" fill-rule=\"evenodd\" fill-opacity=\"1\" /><path clip-path=\"url(#clip410)\" d=\"M 0 0 M1565.3 1527.24 Q1567.5 1523.29 1570.55 1521.41 Q1573.61 1519.54 1577.74 1519.54 Q1583.31 1519.54 1586.34 1523.45 Q1589.36 1527.33 1589.36 1534.53 L1589.36 1556.04 L1583.47 1556.04 L1583.47 1534.72 Q1583.47 1529.59 1581.66 1527.11 Q1579.85 1524.63 1576.12 1524.63 Q1571.57 1524.63 1568.93 1527.65 Q1566.29 1530.68 1566.29 1535.9 L1566.29 1556.04 L1560.4 1556.04 L1560.4 1534.72 Q1560.4 1529.56 1558.58 1527.11 Q1556.77 1524.63 1552.98 1524.63 Q1548.49 1524.63 1545.85 1527.68 Q1543.21 1530.71 1543.21 1535.9 L1543.21 1556.04 L1537.32 1556.04 L1537.32 1520.4 L1543.21 1520.4 L1543.21 1525.93 Q1545.22 1522.66 1548.02 1521.1 Q1550.82 1519.54 1554.67 1519.54 Q1558.55 1519.54 1561.26 1521.51 Q1563.99 1523.48 1565.3 1527.24 Z\" fill=\"#000000\" fill-rule=\"evenodd\" fill-opacity=\"1\" /><path clip-path=\"url(#clip410)\" d=\"M 0 0 M1601.17 1550.7 L1601.17 1569.6 L1595.28 1569.6 L1595.28 1520.4 L1601.17 1520.4 L1601.17 1525.81 Q1603.02 1522.62 1605.82 1521.1 Q1608.65 1519.54 1612.57 1519.54 Q1619.06 1519.54 1623.1 1524.69 Q1627.17 1529.85 1627.17 1538.25 Q1627.17 1546.65 1623.1 1551.81 Q1619.06 1556.97 1612.57 1556.97 Q1608.65 1556.97 1605.82 1555.44 Q1603.02 1553.88 1601.17 1550.7 M1621.1 1538.25 Q1621.1 1531.79 1618.42 1528.13 Q1615.78 1524.44 1611.13 1524.44 Q1606.49 1524.44 1603.81 1528.13 Q1601.17 1531.79 1601.17 1538.25 Q1601.17 1544.71 1603.81 1548.4 Q1606.49 1552.07 1611.13 1552.07 Q1615.78 1552.07 1618.42 1548.4 Q1621.1 1544.71 1621.1 1538.25 Z\" fill=\"#000000\" fill-rule=\"evenodd\" fill-opacity=\"1\" /><path clip-path=\"url(#clip410)\" d=\"M 0 0 M1633.32 1506.52 L1639.17 1506.52 L1639.17 1556.04 L1633.32 1556.04 L1633.32 1506.52 Z\" fill=\"#000000\" fill-rule=\"evenodd\" fill-opacity=\"1\" /><path clip-path=\"url(#clip410)\" d=\"M 0 0 M1675.81 1536.76 L1675.81 1539.62 L1648.88 1539.62 Q1649.26 1545.67 1652.51 1548.85 Q1655.79 1552 1661.61 1552 Q1664.99 1552 1668.14 1551.17 Q1671.32 1550.35 1674.44 1548.69 L1674.44 1554.23 Q1671.29 1555.57 1667.98 1556.27 Q1664.67 1556.97 1661.26 1556.97 Q1652.73 1556.97 1647.74 1552 Q1642.77 1547.04 1642.77 1538.57 Q1642.77 1529.82 1647.48 1524.69 Q1652.22 1519.54 1660.24 1519.54 Q1667.44 1519.54 1671.61 1524.18 Q1675.81 1528.8 1675.81 1536.76 M1669.95 1535.04 Q1669.89 1530.23 1667.25 1527.37 Q1664.64 1524.5 1660.31 1524.5 Q1655.41 1524.5 1652.45 1527.27 Q1649.52 1530.04 1649.07 1535.07 L1669.95 1535.04 Z\" fill=\"#000000\" fill-rule=\"evenodd\" fill-opacity=\"1\" /><path clip-path=\"url(#clip410)\" d=\"M 0 0 M1704.68 1521.45 L1704.68 1526.98 Q1702.19 1525.71 1699.52 1525.07 Q1696.85 1524.44 1693.98 1524.44 Q1689.62 1524.44 1687.43 1525.77 Q1685.26 1527.11 1685.26 1529.79 Q1685.26 1531.82 1686.82 1533 Q1688.38 1534.15 1693.09 1535.2 L1695.1 1535.64 Q1701.33 1536.98 1703.94 1539.43 Q1706.59 1541.85 1706.59 1546.21 Q1706.59 1551.17 1702.64 1554.07 Q1698.72 1556.97 1691.85 1556.97 Q1688.99 1556.97 1685.87 1556.39 Q1682.78 1555.85 1679.34 1554.74 L1679.34 1548.69 Q1682.59 1550.38 1685.74 1551.24 Q1688.89 1552.07 1691.98 1552.07 Q1696.12 1552.07 1698.34 1550.66 Q1700.57 1549.23 1700.57 1546.65 Q1700.57 1544.27 1698.95 1542.99 Q1697.36 1541.72 1691.91 1540.54 L1689.88 1540.07 Q1684.43 1538.92 1682.01 1536.56 Q1679.6 1534.18 1679.6 1530.04 Q1679.6 1525.01 1683.16 1522.27 Q1686.73 1519.54 1693.28 1519.54 Q1696.53 1519.54 1699.39 1520.01 Q1702.26 1520.49 1704.68 1521.45 Z\" fill=\"#000000\" fill-rule=\"evenodd\" fill-opacity=\"1\" /><path clip-path=\"url(#clip410)\" d=\"M 0 0 M44.1444 904.492 L50.9239 904.492 Q47.9002 907.739 46.4043 911.431 Q44.9083 915.091 44.9083 919.229 Q44.9083 927.377 49.9054 931.705 Q54.8707 936.034 64.2919 936.034 Q73.6813 936.034 78.6784 931.705 Q83.6436 927.377 83.6436 919.229 Q83.6436 915.091 82.1477 911.431 Q80.6518 907.739 77.6281 904.492 L84.3439 904.492 Q86.6355 907.866 87.7814 911.653 Q88.9272 915.409 88.9272 919.611 Q88.9272 930.4 82.3387 936.607 Q75.7183 942.814 64.2919 942.814 Q52.8336 942.814 46.2451 936.607 Q39.6248 930.4 39.6248 919.611 Q39.6248 915.346 40.7706 911.59 Q41.8846 907.802 44.1444 904.492 Z\" fill=\"#000000\" fill-rule=\"evenodd\" fill-opacity=\"1\" /><path clip-path=\"url(#clip410)\" d=\"M 0 0 M57.8307 877.692 Q57.2578 878.679 57.0032 879.857 Q56.7167 881.003 56.7167 882.403 Q56.7167 887.368 59.9632 890.042 Q63.1779 892.684 69.2253 892.684 L88.0042 892.684 L88.0042 898.572 L52.3562 898.572 L52.3562 892.684 L57.8944 892.684 Q54.6479 890.838 53.0883 887.878 Q51.4968 884.917 51.4968 880.684 Q51.4968 880.08 51.5923 879.347 Q51.656 878.615 51.8151 877.724 L57.8307 877.692 Z\" fill=\"#000000\" fill-rule=\"evenodd\" fill-opacity=\"1\" /><path clip-path=\"url(#clip410)\" d=\"M 0 0 M56.4621 859.168 Q56.4621 863.879 60.1542 866.616 Q63.8145 869.353 70.212 869.353 Q76.6095 869.353 80.3017 866.648 Q83.9619 863.911 83.9619 859.168 Q83.9619 854.489 80.2698 851.752 Q76.5777 849.015 70.212 849.015 Q63.8781 849.015 60.186 851.752 Q56.4621 854.489 56.4621 859.168 M51.4968 859.168 Q51.4968 851.529 56.4621 847.169 Q61.4273 842.808 70.212 842.808 Q78.9649 842.808 83.9619 847.169 Q88.9272 851.529 88.9272 859.168 Q88.9272 866.839 83.9619 871.199 Q78.9649 875.528 70.212 875.528 Q61.4273 875.528 56.4621 871.199 Q51.4968 866.839 51.4968 859.168 Z\" fill=\"#000000\" fill-rule=\"evenodd\" fill-opacity=\"1\" /><path clip-path=\"url(#clip410)\" d=\"M 0 0 M53.4065 813.94 L58.9447 813.94 Q57.6716 816.422 57.035 819.096 Q56.3984 821.77 56.3984 824.634 Q56.3984 828.995 57.7352 831.191 Q59.072 833.355 61.7456 833.355 Q63.7826 833.355 64.9603 831.796 Q66.1061 830.236 67.1565 825.525 L67.6021 823.52 Q68.9389 817.282 71.3897 814.672 Q73.8086 812.03 78.1691 812.03 Q83.1344 812.03 86.0308 815.977 Q88.9272 819.892 88.9272 826.767 Q88.9272 829.631 88.3543 832.751 Q87.8132 835.838 86.6992 839.275 L80.6518 839.275 Q82.3387 836.029 83.198 832.878 Q84.0256 829.727 84.0256 826.639 Q84.0256 822.502 82.6251 820.274 Q81.1929 818.046 78.6147 818.046 Q76.2276 818.046 74.9545 819.669 Q73.6813 821.26 72.5037 826.703 L72.0262 828.74 Q70.8804 834.183 68.5251 836.602 Q66.138 839.021 62.0002 839.021 Q56.9713 839.021 54.2341 835.456 Q51.4968 831.891 51.4968 825.334 Q51.4968 822.088 51.9743 819.223 Q52.4517 816.359 53.4065 813.94 Z\" fill=\"#000000\" fill-rule=\"evenodd\" fill-opacity=\"1\" /><path clip-path=\"url(#clip410)\" d=\"M 0 0 M53.4065 783.162 L58.9447 783.162 Q57.6716 785.644 57.035 788.318 Q56.3984 790.991 56.3984 793.856 Q56.3984 798.217 57.7352 800.413 Q59.072 802.577 61.7456 802.577 Q63.7826 802.577 64.9603 801.017 Q66.1061 799.458 67.1565 794.747 L67.6021 792.742 Q68.9389 786.504 71.3897 783.894 Q73.8086 781.252 78.1691 781.252 Q83.1344 781.252 86.0308 785.199 Q88.9272 789.114 88.9272 795.989 Q88.9272 798.853 88.3543 801.972 Q87.8132 805.06 86.6992 808.497 L80.6518 808.497 Q82.3387 805.251 83.198 802.1 Q84.0256 798.949 84.0256 795.861 Q84.0256 791.724 82.6251 789.496 Q81.1929 787.268 78.6147 787.268 Q76.2276 787.268 74.9545 788.891 Q73.6813 790.482 72.5037 795.925 L72.0262 797.962 Q70.8804 803.405 68.5251 805.824 Q66.138 808.243 62.0002 808.243 Q56.9713 808.243 54.2341 804.678 Q51.4968 801.113 51.4968 794.556 Q51.4968 791.31 51.9743 788.445 Q52.4517 785.581 53.4065 783.162 Z\" fill=\"#000000\" fill-rule=\"evenodd\" fill-opacity=\"1\" /><path clip-path=\"url(#clip410)\" d=\"M 0 0 M40.4842 754.134 L40.4842 724.088 L45.895 724.088 L45.895 747.705 L59.9632 747.705 L59.9632 725.075 L65.3741 725.075 L65.3741 747.705 L82.5933 747.705 L82.5933 723.515 L88.0042 723.515 L88.0042 754.134 L40.4842 754.134 Z\" fill=\"#000000\" fill-rule=\"evenodd\" fill-opacity=\"1\" /><path clip-path=\"url(#clip410)\" d=\"M 0 0 M66.4881 687.74 L88.0042 687.74 L88.0042 693.596 L66.679 693.596 Q61.6183 693.596 59.1038 695.57 Q56.5894 697.543 56.5894 701.49 Q56.5894 706.232 59.6131 708.969 Q62.6368 711.707 67.8567 711.707 L88.0042 711.707 L88.0042 717.595 L52.3562 717.595 L52.3562 711.707 L57.8944 711.707 Q54.6797 709.606 53.0883 706.773 Q51.4968 703.909 51.4968 700.185 Q51.4968 694.042 55.3163 690.891 Q59.1038 687.74 66.4881 687.74 Z\" fill=\"#000000\" fill-rule=\"evenodd\" fill-opacity=\"1\" /><path clip-path=\"url(#clip410)\" d=\"M 0 0 M42.2347 675.804 L52.3562 675.804 L52.3562 663.741 L56.9077 663.741 L56.9077 675.804 L76.2594 675.804 Q80.6199 675.804 81.8613 674.626 Q83.1026 673.417 83.1026 669.757 L83.1026 663.741 L88.0042 663.741 L88.0042 669.757 Q88.0042 676.536 85.4897 679.114 Q82.9434 681.692 76.2594 681.692 L56.9077 681.692 L56.9077 685.989 L52.3562 685.989 L52.3562 681.692 L42.2347 681.692 L42.2347 675.804 Z\" fill=\"#000000\" fill-rule=\"evenodd\" fill-opacity=\"1\" /><path clip-path=\"url(#clip410)\" d=\"M 0 0 M57.8307 636.941 Q57.2578 637.928 57.0032 639.106 Q56.7167 640.252 56.7167 641.652 Q56.7167 646.617 59.9632 649.291 Q63.1779 651.933 69.2253 651.933 L88.0042 651.933 L88.0042 657.821 L52.3562 657.821 L52.3562 651.933 L57.8944 651.933 Q54.6479 650.087 53.0883 647.127 Q51.4968 644.166 51.4968 639.933 Q51.4968 639.329 51.5923 638.596 Q51.656 637.864 51.8151 636.973 L57.8307 636.941 Z\" fill=\"#000000\" fill-rule=\"evenodd\" fill-opacity=\"1\" /><path clip-path=\"url(#clip410)\" d=\"M 0 0 M56.4621 618.417 Q56.4621 623.128 60.1542 625.865 Q63.8145 628.602 70.212 628.602 Q76.6095 628.602 80.3017 625.897 Q83.9619 623.16 83.9619 618.417 Q83.9619 613.738 80.2698 611.001 Q76.5777 608.264 70.212 608.264 Q63.8781 608.264 60.186 611.001 Q56.4621 613.738 56.4621 618.417 M51.4968 618.417 Q51.4968 610.778 56.4621 606.418 Q61.4273 602.057 70.212 602.057 Q78.9649 602.057 83.9619 606.418 Q88.9272 610.778 88.9272 618.417 Q88.9272 626.088 83.9619 630.448 Q78.9649 634.777 70.212 634.777 Q61.4273 634.777 56.4621 630.448 Q51.4968 626.088 51.4968 618.417 Z\" fill=\"#000000\" fill-rule=\"evenodd\" fill-opacity=\"1\" /><path clip-path=\"url(#clip410)\" d=\"M 0 0 M82.657 590.249 L101.563 590.249 L101.563 596.137 L52.3562 596.137 L52.3562 590.249 L57.7671 590.249 Q54.5842 588.403 53.0564 585.602 Q51.4968 582.769 51.4968 578.854 Q51.4968 572.361 56.6531 568.319 Q61.8093 564.245 70.212 564.245 Q78.6147 564.245 83.771 568.319 Q88.9272 572.361 88.9272 578.854 Q88.9272 582.769 87.3994 585.602 Q85.8398 588.403 82.657 590.249 M70.212 570.324 Q63.7508 570.324 60.0905 572.998 Q56.3984 575.64 56.3984 580.287 Q56.3984 584.934 60.0905 587.607 Q63.7508 590.249 70.212 590.249 Q76.6732 590.249 80.3653 587.607 Q84.0256 584.934 84.0256 580.287 Q84.0256 575.64 80.3653 572.998 Q76.6732 570.324 70.212 570.324 Z\" fill=\"#000000\" fill-rule=\"evenodd\" fill-opacity=\"1\" /><path clip-path=\"url(#clip410)\" d=\"M 0 0 M91.3143 543.27 Q97.68 545.753 99.6216 548.108 Q101.563 550.463 101.563 554.41 L101.563 559.089 L96.6615 559.089 L96.6615 555.651 Q96.6615 553.232 95.5157 551.896 Q94.3699 550.559 90.1048 548.935 L87.4312 547.885 L52.3562 562.303 L52.3562 556.097 L80.238 544.957 L52.3562 533.817 L52.3562 527.61 L91.3143 543.27 Z\" fill=\"#000000\" fill-rule=\"evenodd\" fill-opacity=\"1\" /><polyline clip-path=\"url(#clip412)\" style=\"stroke:#009af9; stroke-width:4; stroke-opacity:1; fill:none\" points=\"\n",
       "  297.821,1384.24 337.722,1170.97 377.624,854.199 417.525,1009.17 457.427,813.464 497.329,882.076 537.23,951.846 577.132,760.185 617.034,897.741 656.935,978.837 \n",
       "  696.837,934.28 736.739,990.275 776.64,1003.14 816.542,925.917 856.444,993.594 896.345,962.218 936.247,876.597 976.149,1045.38 1016.05,942.838 1055.95,1012.01 \n",
       "  1095.85,1035.07 1135.76,947.638 1175.66,1003.62 1215.56,996.756 1255.46,1016.62 1295.36,972.127 1335.26,1021.59 1375.17,924.982 1415.07,978.202 1454.97,1011.52 \n",
       "  1494.87,1003.38 1534.77,1000.83 1574.67,976.357 1614.58,991.694 1654.48,892.478 1694.38,1010.62 1734.28,988.006 1774.18,960.818 1814.08,1009.44 1853.99,1009.27 \n",
       "  1893.89,942.364 1933.79,985.967 1973.69,943.303 2013.59,986.746 2053.49,992.135 2093.4,990.946 2133.3,986.924 2173.2,772.565 2213.1,993.317 2253,1000.47 \n",
       "  2292.9,979.557 \n",
       "  \"/>\n",
       "<polyline clip-path=\"url(#clip412)\" style=\"stroke:#e26f46; stroke-width:4; stroke-opacity:1; fill:none\" points=\"\n",
       "  297.821,86.1857 337.722,866.972 377.624,791.032 417.525,932.339 457.427,772.157 497.329,994.254 537.23,960.026 577.132,818.576 617.034,900.141 656.935,944.061 \n",
       "  696.837,908.805 736.739,994.255 776.64,998.009 816.542,925.239 856.444,978.667 896.345,937.767 936.247,891.011 976.149,1016.95 1016.05,875.045 1055.95,956.598 \n",
       "  1095.85,988.007 1135.76,918.965 1175.66,1013.47 1215.56,994.255 1255.46,1044.41 1295.36,956.61 1335.26,975.436 1375.17,918.924 1415.07,984.563 1454.97,991.262 \n",
       "  1494.87,1000.53 1534.77,987.974 1574.67,987.981 1614.58,978.435 1654.48,893.867 1694.38,995.153 1734.28,994.92 1774.18,944.061 1814.08,991.832 1853.99,1013.07 \n",
       "  1893.89,937.787 1933.79,1000.53 1973.69,916.783 2013.59,979.138 2053.49,1004.12 2093.4,1013.04 2133.3,979.991 2173.2,765.869 2213.1,987.982 2253,993.328 \n",
       "  2292.9,944.061 \n",
       "  \"/>\n",
       "<path clip-path=\"url(#clip410)\" d=\"\n",
       "M1847.96 274.549 L2282.26 274.549 L2282.26 93.1086 L1847.96 93.1086  Z\n",
       "  \" fill=\"#ffffff\" fill-rule=\"evenodd\" fill-opacity=\"1\"/>\n",
       "<polyline clip-path=\"url(#clip410)\" style=\"stroke:#000000; stroke-width:4; stroke-opacity:1; fill:none\" points=\"\n",
       "  1847.96,274.549 2282.26,274.549 2282.26,93.1086 1847.96,93.1086 1847.96,274.549 \n",
       "  \"/>\n",
       "<polyline clip-path=\"url(#clip410)\" style=\"stroke:#009af9; stroke-width:4; stroke-opacity:1; fill:none\" points=\"\n",
       "  1871.46,153.589 2012.44,153.589 \n",
       "  \"/>\n",
       "<path clip-path=\"url(#clip410)\" d=\"M 0 0 M2035.94 136.309 L2065.18 136.309 L2065.18 140.244 L2052.91 140.244 L2052.91 170.869 L2048.21 170.869 L2048.21 140.244 L2035.94 140.244 L2035.94 136.309 Z\" fill=\"#000000\" fill-rule=\"evenodd\" fill-opacity=\"1\" /><path clip-path=\"url(#clip410)\" d=\"M 0 0 M2077.7 148.924 Q2076.98 148.508 2076.13 148.322 Q2075.29 148.114 2074.27 148.114 Q2070.66 148.114 2068.72 150.475 Q2066.8 152.813 2066.8 157.211 L2066.8 170.869 L2062.51 170.869 L2062.51 144.943 L2066.8 144.943 L2066.8 148.971 Q2068.14 146.609 2070.29 145.475 Q2072.44 144.318 2075.52 144.318 Q2075.96 144.318 2076.5 144.387 Q2077.03 144.434 2077.68 144.549 L2077.7 148.924 Z\" fill=\"#000000\" fill-rule=\"evenodd\" fill-opacity=\"1\" /><path clip-path=\"url(#clip410)\" d=\"M 0 0 M2093.95 157.836 Q2088.79 157.836 2086.8 159.017 Q2084.81 160.197 2084.81 163.045 Q2084.81 165.313 2086.29 166.656 Q2087.79 167.975 2090.36 167.975 Q2093.9 167.975 2096.03 165.475 Q2098.19 162.952 2098.19 158.785 L2098.19 157.836 L2093.95 157.836 M2102.44 156.077 L2102.44 170.869 L2098.19 170.869 L2098.19 166.933 Q2096.73 169.295 2094.55 170.429 Q2092.37 171.54 2089.23 171.54 Q2085.25 171.54 2082.88 169.318 Q2080.55 167.072 2080.55 163.322 Q2080.55 158.947 2083.46 156.725 Q2086.4 154.503 2092.21 154.503 L2098.19 154.503 L2098.19 154.086 Q2098.19 151.147 2096.24 149.549 Q2094.32 147.929 2090.82 147.929 Q2088.6 147.929 2086.5 148.461 Q2084.39 148.994 2082.44 150.059 L2082.44 146.123 Q2084.78 145.221 2086.98 144.781 Q2089.18 144.318 2091.26 144.318 Q2096.89 144.318 2099.67 147.234 Q2102.44 150.151 2102.44 156.077 Z\" fill=\"#000000\" fill-rule=\"evenodd\" fill-opacity=\"1\" /><path clip-path=\"url(#clip410)\" d=\"M 0 0 M2106.91 144.943 L2111.17 144.943 L2111.17 170.869 L2106.91 170.869 L2106.91 144.943 M2106.91 134.85 L2111.17 134.85 L2111.17 140.244 L2106.91 140.244 L2106.91 134.85 Z\" fill=\"#000000\" fill-rule=\"evenodd\" fill-opacity=\"1\" /><path clip-path=\"url(#clip410)\" d=\"M 0 0 M2137.19 155.221 L2137.19 170.869 L2132.93 170.869 L2132.93 155.359 Q2132.93 151.679 2131.5 149.85 Q2130.06 148.022 2127.19 148.022 Q2123.74 148.022 2121.75 150.221 Q2119.76 152.42 2119.76 156.216 L2119.76 170.869 L2115.48 170.869 L2115.48 144.943 L2119.76 144.943 L2119.76 148.971 Q2121.29 146.633 2123.35 145.475 Q2125.43 144.318 2128.14 144.318 Q2132.61 144.318 2134.9 147.096 Q2137.19 149.85 2137.19 155.221 Z\" fill=\"#000000\" fill-rule=\"evenodd\" fill-opacity=\"1\" /><path clip-path=\"url(#clip410)\" d=\"M 0 0 M2141.66 144.943 L2145.92 144.943 L2145.92 170.869 L2141.66 170.869 L2141.66 144.943 M2141.66 134.85 L2145.92 134.85 L2145.92 140.244 L2141.66 140.244 L2141.66 134.85 Z\" fill=\"#000000\" fill-rule=\"evenodd\" fill-opacity=\"1\" /><path clip-path=\"url(#clip410)\" d=\"M 0 0 M2171.93 155.221 L2171.93 170.869 L2167.68 170.869 L2167.68 155.359 Q2167.68 151.679 2166.24 149.85 Q2164.81 148.022 2161.93 148.022 Q2158.49 148.022 2156.49 150.221 Q2154.5 152.42 2154.5 156.216 L2154.5 170.869 L2150.22 170.869 L2150.22 144.943 L2154.5 144.943 L2154.5 148.971 Q2156.03 146.633 2158.09 145.475 Q2160.18 144.318 2162.88 144.318 Q2167.35 144.318 2169.64 147.096 Q2171.93 149.85 2171.93 155.221 Z\" fill=\"#000000\" fill-rule=\"evenodd\" fill-opacity=\"1\" /><path clip-path=\"url(#clip410)\" d=\"M 0 0 M2193.46 157.605 Q2193.46 152.975 2191.54 150.429 Q2189.64 147.883 2186.19 147.883 Q2182.77 147.883 2180.85 150.429 Q2178.95 152.975 2178.95 157.605 Q2178.95 162.211 2180.85 164.758 Q2182.77 167.304 2186.19 167.304 Q2189.64 167.304 2191.54 164.758 Q2193.46 162.211 2193.46 157.605 M2197.72 167.651 Q2197.72 174.271 2194.78 177.489 Q2191.84 180.73 2185.78 180.73 Q2183.53 180.73 2181.54 180.382 Q2179.55 180.058 2177.68 179.364 L2177.68 175.22 Q2179.55 176.239 2181.38 176.725 Q2183.21 177.211 2185.11 177.211 Q2189.3 177.211 2191.38 175.012 Q2193.46 172.836 2193.46 168.415 L2193.46 166.308 Q2192.14 168.6 2190.08 169.734 Q2188.02 170.869 2185.15 170.869 Q2180.38 170.869 2177.47 167.234 Q2174.55 163.6 2174.55 157.605 Q2174.55 151.586 2177.47 147.952 Q2180.38 144.318 2185.15 144.318 Q2188.02 144.318 2190.08 145.452 Q2192.14 146.586 2193.46 148.878 L2193.46 144.943 L2197.72 144.943 L2197.72 167.651 Z\" fill=\"#000000\" fill-rule=\"evenodd\" fill-opacity=\"1\" /><polyline clip-path=\"url(#clip410)\" style=\"stroke:#e26f46; stroke-width:4; stroke-opacity:1; fill:none\" points=\"\n",
       "  1871.46,214.069 2012.44,214.069 \n",
       "  \"/>\n",
       "<path clip-path=\"url(#clip410)\" d=\"M 0 0 M2049.13 231.349 L2035.94 196.789 L2040.82 196.789 L2051.77 225.886 L2062.75 196.789 L2067.61 196.789 L2054.44 231.349 L2049.13 231.349 Z\" fill=\"#000000\" fill-rule=\"evenodd\" fill-opacity=\"1\" /><path clip-path=\"url(#clip410)\" d=\"M 0 0 M2080.18 218.316 Q2075.01 218.316 2073.02 219.497 Q2071.03 220.677 2071.03 223.525 Q2071.03 225.793 2072.51 227.136 Q2074.02 228.455 2076.59 228.455 Q2080.13 228.455 2082.26 225.955 Q2084.41 223.432 2084.41 219.265 L2084.41 218.316 L2080.18 218.316 M2088.67 216.557 L2088.67 231.349 L2084.41 231.349 L2084.41 227.413 Q2082.95 229.775 2080.78 230.909 Q2078.6 232.02 2075.45 232.02 Q2071.47 232.02 2069.11 229.798 Q2066.77 227.552 2066.77 223.802 Q2066.77 219.427 2069.69 217.205 Q2072.63 214.983 2078.44 214.983 L2084.41 214.983 L2084.41 214.566 Q2084.41 211.627 2082.47 210.029 Q2080.55 208.409 2077.05 208.409 Q2074.83 208.409 2072.72 208.941 Q2070.62 209.474 2068.67 210.539 L2068.67 206.603 Q2071.01 205.701 2073.21 205.261 Q2075.41 204.798 2077.49 204.798 Q2083.12 204.798 2085.89 207.714 Q2088.67 210.631 2088.67 216.557 Z\" fill=\"#000000\" fill-rule=\"evenodd\" fill-opacity=\"1\" /><path clip-path=\"url(#clip410)\" d=\"M 0 0 M2093.14 195.33 L2097.4 195.33 L2097.4 231.349 L2093.14 231.349 L2093.14 195.33 Z\" fill=\"#000000\" fill-rule=\"evenodd\" fill-opacity=\"1\" /><path clip-path=\"url(#clip410)\" d=\"M 0 0 M2101.87 205.423 L2106.12 205.423 L2106.12 231.349 L2101.87 231.349 L2101.87 205.423 M2101.87 195.33 L2106.12 195.33 L2106.12 200.724 L2101.87 200.724 L2101.87 195.33 Z\" fill=\"#000000\" fill-rule=\"evenodd\" fill-opacity=\"1\" /><path clip-path=\"url(#clip410)\" d=\"M 0 0 M2127.65 209.358 L2127.65 195.33 L2131.91 195.33 L2131.91 231.349 L2127.65 231.349 L2127.65 227.46 Q2126.31 229.775 2124.25 230.909 Q2122.21 232.02 2119.34 232.02 Q2114.64 232.02 2111.68 228.27 Q2108.74 224.52 2108.74 218.409 Q2108.74 212.298 2111.68 208.548 Q2114.64 204.798 2119.34 204.798 Q2122.21 204.798 2124.25 205.932 Q2126.31 207.043 2127.65 209.358 M2113.14 218.409 Q2113.14 223.108 2115.06 225.793 Q2117 228.455 2120.38 228.455 Q2123.76 228.455 2125.71 225.793 Q2127.65 223.108 2127.65 218.409 Q2127.65 213.71 2125.71 211.048 Q2123.76 208.363 2120.38 208.363 Q2117 208.363 2115.06 211.048 Q2113.14 213.71 2113.14 218.409 Z\" fill=\"#000000\" fill-rule=\"evenodd\" fill-opacity=\"1\" /><path clip-path=\"url(#clip410)\" d=\"M 0 0 M2148.16 218.316 Q2143 218.316 2141.01 219.497 Q2139.02 220.677 2139.02 223.525 Q2139.02 225.793 2140.5 227.136 Q2142 228.455 2144.57 228.455 Q2148.12 228.455 2150.24 225.955 Q2152.4 223.432 2152.4 219.265 L2152.4 218.316 L2148.16 218.316 M2156.66 216.557 L2156.66 231.349 L2152.4 231.349 L2152.4 227.413 Q2150.94 229.775 2148.76 230.909 Q2146.59 232.02 2143.44 232.02 Q2139.46 232.02 2137.1 229.798 Q2134.76 227.552 2134.76 223.802 Q2134.76 219.427 2137.68 217.205 Q2140.62 214.983 2146.43 214.983 L2152.4 214.983 L2152.4 214.566 Q2152.4 211.627 2150.45 210.029 Q2148.53 208.409 2145.04 208.409 Q2142.81 208.409 2140.71 208.941 Q2138.6 209.474 2136.66 210.539 L2136.66 206.603 Q2139 205.701 2141.19 205.261 Q2143.39 204.798 2145.48 204.798 Q2151.1 204.798 2153.88 207.714 Q2156.66 210.631 2156.66 216.557 Z\" fill=\"#000000\" fill-rule=\"evenodd\" fill-opacity=\"1\" /><path clip-path=\"url(#clip410)\" d=\"M 0 0 M2165.34 198.062 L2165.34 205.423 L2174.11 205.423 L2174.11 208.733 L2165.34 208.733 L2165.34 222.807 Q2165.34 225.978 2166.19 226.881 Q2167.07 227.784 2169.74 227.784 L2174.11 227.784 L2174.11 231.349 L2169.74 231.349 Q2164.81 231.349 2162.93 229.52 Q2161.06 227.668 2161.06 222.807 L2161.06 208.733 L2157.93 208.733 L2157.93 205.423 L2161.06 205.423 L2161.06 198.062 L2165.34 198.062 Z\" fill=\"#000000\" fill-rule=\"evenodd\" fill-opacity=\"1\" /><path clip-path=\"url(#clip410)\" d=\"M 0 0 M2178.58 205.423 L2182.84 205.423 L2182.84 231.349 L2178.58 231.349 L2178.58 205.423 M2178.58 195.33 L2182.84 195.33 L2182.84 200.724 L2178.58 200.724 L2178.58 195.33 Z\" fill=\"#000000\" fill-rule=\"evenodd\" fill-opacity=\"1\" /><path clip-path=\"url(#clip410)\" d=\"M 0 0 M2197.35 208.409 Q2193.93 208.409 2191.93 211.094 Q2189.94 213.756 2189.94 218.409 Q2189.94 223.062 2191.91 225.747 Q2193.9 228.409 2197.35 228.409 Q2200.75 228.409 2202.74 225.724 Q2204.74 223.038 2204.74 218.409 Q2204.74 213.802 2202.74 211.117 Q2200.75 208.409 2197.35 208.409 M2197.35 204.798 Q2202.91 204.798 2206.08 208.409 Q2209.25 212.02 2209.25 218.409 Q2209.25 224.775 2206.08 228.409 Q2202.91 232.02 2197.35 232.02 Q2191.77 232.02 2188.6 228.409 Q2185.45 224.775 2185.45 218.409 Q2185.45 212.02 2188.6 208.409 Q2191.77 204.798 2197.35 204.798 Z\" fill=\"#000000\" fill-rule=\"evenodd\" fill-opacity=\"1\" /><path clip-path=\"url(#clip410)\" d=\"M 0 0 M2235.27 215.701 L2235.27 231.349 L2231.01 231.349 L2231.01 215.839 Q2231.01 212.159 2229.57 210.33 Q2228.14 208.502 2225.27 208.502 Q2221.82 208.502 2219.83 210.701 Q2217.84 212.9 2217.84 216.696 L2217.84 231.349 L2213.55 231.349 L2213.55 205.423 L2217.84 205.423 L2217.84 209.451 Q2219.36 207.113 2221.43 205.955 Q2223.51 204.798 2226.22 204.798 Q2230.68 204.798 2232.98 207.576 Q2235.27 210.33 2235.27 215.701 Z\" fill=\"#000000\" fill-rule=\"evenodd\" fill-opacity=\"1\" /></svg>\n"
      ]
     },
     "execution_count": 169,
     "metadata": {},
     "output_type": "execute_result"
    }
   ],
   "source": [
    "plot(data_schedule, training_losses, label=\"Training\")\n",
    "plot!(data_schedule, valid_losses, label=\"Validation\")\n",
    "xlabel!(\"Number of Training Samples\")\n",
    "ylabel!(\"Cross Entropy\")"
   ]
  },
  {
   "cell_type": "code",
   "execution_count": 170,
   "metadata": {},
   "outputs": [],
   "source": [
    "png(\"Figures/loss_curve_NN\")"
   ]
  },
  {
   "cell_type": "markdown",
   "metadata": {},
   "source": [
    "#### Learning Curve"
   ]
  },
  {
   "cell_type": "code",
   "execution_count": 196,
   "metadata": {},
   "outputs": [
    {
     "name": "stderr",
     "output_type": "stream",
     "text": [
      "┌ Info: Training \u001b[34mMachine{NeuralNetworkClassifier{CustomNN,…}} @348\u001b[39m.\n",
      "└ @ MLJBase /home/andrew/.julia/packages/MLJBase/uKzAz/src/machines.jl:319\n",
      "\u001b[33mOptimising neural net:100%[=========================] Time: 0:04:22\u001b[39m\n"
     ]
    },
    {
     "data": {
      "text/plain": [
       "\u001b[34mMachine{NeuralNetworkClassifier{CustomNN,…}} @348\u001b[39m trained 1 time.\n",
       "  args: \n",
       "    1:\t\u001b[34mSource @411\u001b[39m ⏎ `Table{AbstractArray{Continuous,1}}`\n",
       "    2:\t\u001b[34mSource @126\u001b[39m ⏎ `AbstractArray{Multiclass{2},1}`\n"
      ]
     },
     "execution_count": 196,
     "metadata": {},
     "output_type": "execute_result"
    }
   ],
   "source": [
    "Net = machine(lc_model, X_stand, y)\n",
    "Net.model.epochs = max_epochs\n",
    "fit!(Net, rows=train, verbosity=1, force=true)"
   ]
  },
  {
   "cell_type": "code",
   "execution_count": 197,
   "metadata": {},
   "outputs": [
    {
     "name": "stderr",
     "output_type": "stream",
     "text": [
      "\u001b[33mEvaluating over 6 folds: 100%[=========================] Time: 0:30:47\u001b[39m\n"
     ]
    },
    {
     "data": {
      "text/plain": [
       "┌\u001b[0m───────────────\u001b[0m┬\u001b[0m───────────────\u001b[0m┬\u001b[0m──────────────────────────────────────────────────\u001b[0m┐\u001b[0m\n",
       "│\u001b[0m\u001b[22m _.measure     \u001b[0m│\u001b[0m\u001b[22m _.measurement \u001b[0m│\u001b[0m\u001b[22m _.per_fold                                       \u001b[0m│\u001b[0m\n",
       "├\u001b[0m───────────────\u001b[0m┼\u001b[0m───────────────\u001b[0m┼\u001b[0m──────────────────────────────────────────────────\u001b[0m┤\u001b[0m\n",
       "│\u001b[0m cross_entropy \u001b[0m│\u001b[0m 0.334         \u001b[0m│\u001b[0m Float32[0.33, 0.335, 0.335, 0.335, 0.336, 0.334] \u001b[0m│\u001b[0m\n",
       "│\u001b[0m acc           \u001b[0m│\u001b[0m 0.979         \u001b[0m│\u001b[0m [0.983, 0.979, 0.978, 0.979, 0.977, 0.98]        \u001b[0m│\u001b[0m\n",
       "└\u001b[0m───────────────\u001b[0m┴\u001b[0m───────────────\u001b[0m┴\u001b[0m──────────────────────────────────────────────────\u001b[0m┘\u001b[0m\n",
       "_.per_observation = [[[0.313, 0.313, ..., 0.313], [0.313, 0.313, ..., 0.313], [1.31, 0.313, ..., 0.313], [0.313, 0.313, ..., 0.313], [0.313, 0.313, ..., 0.313], [0.313, 0.313, ..., 0.313]], missing]\n",
       "_.fitted_params_per_fold = [ … ]\n",
       "_.report_per_fold = [ … ]\n"
      ]
     },
     "execution_count": 197,
     "metadata": {},
     "output_type": "execute_result"
    }
   ],
   "source": [
    "nn_acc = evaluate!(Net, resampling=CV(shuffle=true), measure=[cross_entropy, acc], verbosity=1)"
   ]
  },
  {
   "cell_type": "code",
   "execution_count": 198,
   "metadata": {
    "scrolled": true
   },
   "outputs": [
    {
     "data": {
      "text/plain": [
       "MLJBase.NumericRange(Int64, :epochs, ... )"
      ]
     },
     "execution_count": 198,
     "metadata": {},
     "output_type": "execute_result"
    }
   ],
   "source": [
    "r = range(nn, :epochs, lower=1, upper=max_epochs, scale=:log10)"
   ]
  },
  {
   "cell_type": "code",
   "execution_count": 199,
   "metadata": {},
   "outputs": [
    {
     "name": "stderr",
     "output_type": "stream",
     "text": [
      "┌ Info: Training \u001b[34mMachine{ProbabilisticTunedModel{Grid,…}} @948\u001b[39m.\n",
      "└ @ MLJBase /home/andrew/.julia/packages/MLJBase/uKzAz/src/machines.jl:319\n",
      "┌ Info: Attempting to evaluate 140 models.\n",
      "└ @ MLJTuning /home/andrew/.julia/packages/MLJTuning/Bbgvk/src/tuned_models.jl:494\n",
      "\u001b[33mEvaluating over 140 metamodels: 100%[=========================] Time: 0:04:20\u001b[39m\n"
     ]
    },
    {
     "data": {
      "text/plain": [
       "(parameter_name = \"epochs\",\n",
       " parameter_scale = :log10,\n",
       " parameter_values = [1, 2, 3, 4, 5, 6, 7, 8, 9, 10  …  1418, 1473, 1531, 1590, 1652, 1717, 1783, 1853, 1925, 2000],\n",
       " measurements = [0.32340991497039795, 0.32421961426734924, 0.3246641755104065, 0.3255248963832855, 0.3258017599582672, 0.3257544934749603, 0.32438090443611145, 0.3260870575904846, 0.3259798586368561, 0.3255012035369873  …  0.32697558403015137, 0.3257824778556824, 0.3272705376148224, 0.32662734389305115, 0.32628968358039856, 0.3264675438404083, 0.32637637853622437, 0.3269162178039551, 0.32682329416275024, 0.32630789279937744],)"
      ]
     },
     "execution_count": 199,
     "metadata": {},
     "output_type": "execute_result"
    }
   ],
   "source": [
    "curve = MLJ.learning_curve(Net, \n",
    "                        range=r, \n",
    "                        resampling=Holdout(fraction_train=0.7), \n",
    "#                         resampling=CV(nfolds=4), \n",
    "                        measure=cross_entropy, \n",
    "                        acceleration=CPUProcesses(),\n",
    "                        resolution=200\n",
    ")"
   ]
  },
  {
   "cell_type": "code",
   "execution_count": 200,
   "metadata": {},
   "outputs": [
    {
     "data": {
      "image/svg+xml": [
       "<?xml version=\"1.0\" encoding=\"utf-8\"?>\n",
       "<svg xmlns=\"http://www.w3.org/2000/svg\" xmlns:xlink=\"http://www.w3.org/1999/xlink\" width=\"600\" height=\"400\" viewBox=\"0 0 2400 1600\">\n",
       "<defs>\n",
       "  <clipPath id=\"clip540\">\n",
       "    <rect x=\"0\" y=\"0\" width=\"2400\" height=\"1600\"/>\n",
       "  </clipPath>\n",
       "</defs>\n",
       "<path clip-path=\"url(#clip540)\" d=\"\n",
       "M0 1600 L2400 1600 L2400 0 L0 0  Z\n",
       "  \" fill=\"#ffffff\" fill-rule=\"evenodd\" fill-opacity=\"1\"/>\n",
       "<defs>\n",
       "  <clipPath id=\"clip541\">\n",
       "    <rect x=\"480\" y=\"0\" width=\"1681\" height=\"1600\"/>\n",
       "  </clipPath>\n",
       "</defs>\n",
       "<path clip-path=\"url(#clip540)\" d=\"\n",
       "M290.861 1423.18 L2352.76 1423.18 L2352.76 47.2441 L290.861 47.2441  Z\n",
       "  \" fill=\"#ffffff\" fill-rule=\"evenodd\" fill-opacity=\"1\"/>\n",
       "<defs>\n",
       "  <clipPath id=\"clip542\">\n",
       "    <rect x=\"290\" y=\"47\" width=\"2063\" height=\"1377\"/>\n",
       "  </clipPath>\n",
       "</defs>\n",
       "<polyline clip-path=\"url(#clip542)\" style=\"stroke:#000000; stroke-width:2; stroke-opacity:0.1; fill:none\" points=\"\n",
       "  348.244,1423.18 348.244,47.2441 \n",
       "  \"/>\n",
       "<polyline clip-path=\"url(#clip542)\" style=\"stroke:#000000; stroke-width:2; stroke-opacity:0.1; fill:none\" points=\"\n",
       "  834.783,1423.18 834.783,47.2441 \n",
       "  \"/>\n",
       "<polyline clip-path=\"url(#clip542)\" style=\"stroke:#000000; stroke-width:2; stroke-opacity:0.1; fill:none\" points=\"\n",
       "  1321.32,1423.18 1321.32,47.2441 \n",
       "  \"/>\n",
       "<polyline clip-path=\"url(#clip542)\" style=\"stroke:#000000; stroke-width:2; stroke-opacity:0.1; fill:none\" points=\"\n",
       "  1807.86,1423.18 1807.86,47.2441 \n",
       "  \"/>\n",
       "<polyline clip-path=\"url(#clip542)\" style=\"stroke:#000000; stroke-width:2; stroke-opacity:0.1; fill:none\" points=\"\n",
       "  2294.4,1423.18 2294.4,47.2441 \n",
       "  \"/>\n",
       "<polyline clip-path=\"url(#clip542)\" style=\"stroke:#000000; stroke-width:2; stroke-opacity:0.1; fill:none\" points=\"\n",
       "  290.861,1207.81 2352.76,1207.81 \n",
       "  \"/>\n",
       "<polyline clip-path=\"url(#clip542)\" style=\"stroke:#000000; stroke-width:2; stroke-opacity:0.1; fill:none\" points=\"\n",
       "  290.861,930.41 2352.76,930.41 \n",
       "  \"/>\n",
       "<polyline clip-path=\"url(#clip542)\" style=\"stroke:#000000; stroke-width:2; stroke-opacity:0.1; fill:none\" points=\"\n",
       "  290.861,653.014 2352.76,653.014 \n",
       "  \"/>\n",
       "<polyline clip-path=\"url(#clip542)\" style=\"stroke:#000000; stroke-width:2; stroke-opacity:0.1; fill:none\" points=\"\n",
       "  290.861,375.619 2352.76,375.619 \n",
       "  \"/>\n",
       "<polyline clip-path=\"url(#clip542)\" style=\"stroke:#000000; stroke-width:2; stroke-opacity:0.1; fill:none\" points=\"\n",
       "  290.861,98.2234 2352.76,98.2234 \n",
       "  \"/>\n",
       "<polyline clip-path=\"url(#clip540)\" style=\"stroke:#000000; stroke-width:4; stroke-opacity:1; fill:none\" points=\"\n",
       "  290.861,1423.18 2352.76,1423.18 \n",
       "  \"/>\n",
       "<polyline clip-path=\"url(#clip540)\" style=\"stroke:#000000; stroke-width:4; stroke-opacity:1; fill:none\" points=\"\n",
       "  290.861,1423.18 290.861,47.2441 \n",
       "  \"/>\n",
       "<polyline clip-path=\"url(#clip540)\" style=\"stroke:#000000; stroke-width:4; stroke-opacity:1; fill:none\" points=\"\n",
       "  348.244,1423.18 348.244,1406.67 \n",
       "  \"/>\n",
       "<polyline clip-path=\"url(#clip540)\" style=\"stroke:#000000; stroke-width:4; stroke-opacity:1; fill:none\" points=\"\n",
       "  834.783,1423.18 834.783,1406.67 \n",
       "  \"/>\n",
       "<polyline clip-path=\"url(#clip540)\" style=\"stroke:#000000; stroke-width:4; stroke-opacity:1; fill:none\" points=\"\n",
       "  1321.32,1423.18 1321.32,1406.67 \n",
       "  \"/>\n",
       "<polyline clip-path=\"url(#clip540)\" style=\"stroke:#000000; stroke-width:4; stroke-opacity:1; fill:none\" points=\"\n",
       "  1807.86,1423.18 1807.86,1406.67 \n",
       "  \"/>\n",
       "<polyline clip-path=\"url(#clip540)\" style=\"stroke:#000000; stroke-width:4; stroke-opacity:1; fill:none\" points=\"\n",
       "  2294.4,1423.18 2294.4,1406.67 \n",
       "  \"/>\n",
       "<polyline clip-path=\"url(#clip540)\" style=\"stroke:#000000; stroke-width:4; stroke-opacity:1; fill:none\" points=\"\n",
       "  290.861,1207.81 315.604,1207.81 \n",
       "  \"/>\n",
       "<polyline clip-path=\"url(#clip540)\" style=\"stroke:#000000; stroke-width:4; stroke-opacity:1; fill:none\" points=\"\n",
       "  290.861,930.41 315.604,930.41 \n",
       "  \"/>\n",
       "<polyline clip-path=\"url(#clip540)\" style=\"stroke:#000000; stroke-width:4; stroke-opacity:1; fill:none\" points=\"\n",
       "  290.861,653.014 315.604,653.014 \n",
       "  \"/>\n",
       "<polyline clip-path=\"url(#clip540)\" style=\"stroke:#000000; stroke-width:4; stroke-opacity:1; fill:none\" points=\"\n",
       "  290.861,375.619 315.604,375.619 \n",
       "  \"/>\n",
       "<polyline clip-path=\"url(#clip540)\" style=\"stroke:#000000; stroke-width:4; stroke-opacity:1; fill:none\" points=\"\n",
       "  290.861,98.2234 315.604,98.2234 \n",
       "  \"/>\n",
       "<path clip-path=\"url(#clip540)\" d=\"M 0 0 M348.244 1445.17 Q344.633 1445.17 342.804 1448.74 Q340.998 1452.28 340.998 1459.41 Q340.998 1466.51 342.804 1470.08 Q344.633 1473.62 348.244 1473.62 Q351.878 1473.62 353.683 1470.08 Q355.512 1466.51 355.512 1459.41 Q355.512 1452.28 353.683 1448.74 Q351.878 1445.17 348.244 1445.17 M348.244 1441.47 Q354.054 1441.47 357.109 1446.07 Q360.188 1450.66 360.188 1459.41 Q360.188 1468.13 357.109 1472.74 Q354.054 1477.32 348.244 1477.32 Q342.434 1477.32 339.355 1472.74 Q336.299 1468.13 336.299 1459.41 Q336.299 1450.66 339.355 1446.07 Q342.434 1441.47 348.244 1441.47 Z\" fill=\"#000000\" fill-rule=\"evenodd\" fill-opacity=\"1\" /><path clip-path=\"url(#clip540)\" d=\"M 0 0 M798.047 1442.09 L816.403 1442.09 L816.403 1446.03 L802.329 1446.03 L802.329 1454.5 Q803.348 1454.15 804.366 1453.99 Q805.385 1453.8 806.403 1453.8 Q812.19 1453.8 815.57 1456.98 Q818.95 1460.15 818.95 1465.56 Q818.95 1471.14 815.477 1474.24 Q812.005 1477.32 805.686 1477.32 Q803.51 1477.32 801.241 1476.95 Q798.996 1476.58 796.589 1475.84 L796.589 1471.14 Q798.672 1472.28 800.894 1472.83 Q803.116 1473.39 805.593 1473.39 Q809.598 1473.39 811.936 1471.28 Q814.274 1469.18 814.274 1465.56 Q814.274 1461.95 811.936 1459.85 Q809.598 1457.74 805.593 1457.74 Q803.718 1457.74 801.843 1458.16 Q799.991 1458.57 798.047 1459.45 L798.047 1442.09 Z\" fill=\"#000000\" fill-rule=\"evenodd\" fill-opacity=\"1\" /><path clip-path=\"url(#clip540)\" d=\"M 0 0 M834.019 1445.17 Q830.408 1445.17 828.579 1448.74 Q826.774 1452.28 826.774 1459.41 Q826.774 1466.51 828.579 1470.08 Q830.408 1473.62 834.019 1473.62 Q837.653 1473.62 839.459 1470.08 Q841.287 1466.51 841.287 1459.41 Q841.287 1452.28 839.459 1448.74 Q837.653 1445.17 834.019 1445.17 M834.019 1441.47 Q839.829 1441.47 842.885 1446.07 Q845.963 1450.66 845.963 1459.41 Q845.963 1468.13 842.885 1472.74 Q839.829 1477.32 834.019 1477.32 Q828.209 1477.32 825.13 1472.74 Q822.075 1468.13 822.075 1459.41 Q822.075 1450.66 825.13 1446.07 Q828.209 1441.47 834.019 1441.47 Z\" fill=\"#000000\" fill-rule=\"evenodd\" fill-opacity=\"1\" /><path clip-path=\"url(#clip540)\" d=\"M 0 0 M861.033 1445.17 Q857.422 1445.17 855.593 1448.74 Q853.787 1452.28 853.787 1459.41 Q853.787 1466.51 855.593 1470.08 Q857.422 1473.62 861.033 1473.62 Q864.667 1473.62 866.473 1470.08 Q868.301 1466.51 868.301 1459.41 Q868.301 1452.28 866.473 1448.74 Q864.667 1445.17 861.033 1445.17 M861.033 1441.47 Q866.843 1441.47 869.898 1446.07 Q872.977 1450.66 872.977 1459.41 Q872.977 1468.13 869.898 1472.74 Q866.843 1477.32 861.033 1477.32 Q855.223 1477.32 852.144 1472.74 Q849.088 1468.13 849.088 1459.41 Q849.088 1450.66 852.144 1446.07 Q855.223 1441.47 861.033 1441.47 Z\" fill=\"#000000\" fill-rule=\"evenodd\" fill-opacity=\"1\" /><path clip-path=\"url(#clip540)\" d=\"M 0 0 M1271.18 1472.72 L1278.82 1472.72 L1278.82 1446.35 L1270.51 1448.02 L1270.51 1443.76 L1278.78 1442.09 L1283.45 1442.09 L1283.45 1472.72 L1291.09 1472.72 L1291.09 1476.65 L1271.18 1476.65 L1271.18 1472.72 Z\" fill=\"#000000\" fill-rule=\"evenodd\" fill-opacity=\"1\" /><path clip-path=\"url(#clip540)\" d=\"M 0 0 M1306.16 1445.17 Q1302.55 1445.17 1300.72 1448.74 Q1298.91 1452.28 1298.91 1459.41 Q1298.91 1466.51 1300.72 1470.08 Q1302.55 1473.62 1306.16 1473.62 Q1309.79 1473.62 1311.6 1470.08 Q1313.43 1466.51 1313.43 1459.41 Q1313.43 1452.28 1311.6 1448.74 Q1309.79 1445.17 1306.16 1445.17 M1306.16 1441.47 Q1311.97 1441.47 1315.03 1446.07 Q1318.1 1450.66 1318.1 1459.41 Q1318.1 1468.13 1315.03 1472.74 Q1311.97 1477.32 1306.16 1477.32 Q1300.35 1477.32 1297.27 1472.74 Q1294.22 1468.13 1294.22 1459.41 Q1294.22 1450.66 1297.27 1446.07 Q1300.35 1441.47 1306.16 1441.47 Z\" fill=\"#000000\" fill-rule=\"evenodd\" fill-opacity=\"1\" /><path clip-path=\"url(#clip540)\" d=\"M 0 0 M1333.17 1445.17 Q1329.56 1445.17 1327.73 1448.74 Q1325.93 1452.28 1325.93 1459.41 Q1325.93 1466.51 1327.73 1470.08 Q1329.56 1473.62 1333.17 1473.62 Q1336.81 1473.62 1338.61 1470.08 Q1340.44 1466.51 1340.44 1459.41 Q1340.44 1452.28 1338.61 1448.74 Q1336.81 1445.17 1333.17 1445.17 M1333.17 1441.47 Q1338.98 1441.47 1342.04 1446.07 Q1345.12 1450.66 1345.12 1459.41 Q1345.12 1468.13 1342.04 1472.74 Q1338.98 1477.32 1333.17 1477.32 Q1327.36 1477.32 1324.28 1472.74 Q1321.23 1468.13 1321.23 1459.41 Q1321.23 1450.66 1324.28 1446.07 Q1327.36 1441.47 1333.17 1441.47 Z\" fill=\"#000000\" fill-rule=\"evenodd\" fill-opacity=\"1\" /><path clip-path=\"url(#clip540)\" d=\"M 0 0 M1360.19 1445.17 Q1356.58 1445.17 1354.75 1448.74 Q1352.94 1452.28 1352.94 1459.41 Q1352.94 1466.51 1354.75 1470.08 Q1356.58 1473.62 1360.19 1473.62 Q1363.82 1473.62 1365.63 1470.08 Q1367.46 1466.51 1367.46 1459.41 Q1367.46 1452.28 1365.63 1448.74 Q1363.82 1445.17 1360.19 1445.17 M1360.19 1441.47 Q1366 1441.47 1369.05 1446.07 Q1372.13 1450.66 1372.13 1459.41 Q1372.13 1468.13 1369.05 1472.74 Q1366 1477.32 1360.19 1477.32 Q1354.38 1477.32 1351.3 1472.74 Q1348.24 1468.13 1348.24 1459.41 Q1348.24 1450.66 1351.3 1446.07 Q1354.38 1441.47 1360.19 1441.47 Z\" fill=\"#000000\" fill-rule=\"evenodd\" fill-opacity=\"1\" /><path clip-path=\"url(#clip540)\" d=\"M 0 0 M1758.22 1472.72 L1765.86 1472.72 L1765.86 1446.35 L1757.55 1448.02 L1757.55 1443.76 L1765.81 1442.09 L1770.49 1442.09 L1770.49 1472.72 L1778.13 1472.72 L1778.13 1476.65 L1758.22 1476.65 L1758.22 1472.72 Z\" fill=\"#000000\" fill-rule=\"evenodd\" fill-opacity=\"1\" /><path clip-path=\"url(#clip540)\" d=\"M 0 0 M1783.24 1442.09 L1801.6 1442.09 L1801.6 1446.03 L1787.53 1446.03 L1787.53 1454.5 Q1788.54 1454.15 1789.56 1453.99 Q1790.58 1453.8 1791.6 1453.8 Q1797.39 1453.8 1800.77 1456.98 Q1804.15 1460.15 1804.15 1465.56 Q1804.15 1471.14 1800.67 1474.24 Q1797.2 1477.32 1790.88 1477.32 Q1788.71 1477.32 1786.44 1476.95 Q1784.19 1476.58 1781.78 1475.84 L1781.78 1471.14 Q1783.87 1472.28 1786.09 1472.83 Q1788.31 1473.39 1790.79 1473.39 Q1794.79 1473.39 1797.13 1471.28 Q1799.47 1469.18 1799.47 1465.56 Q1799.47 1461.95 1797.13 1459.85 Q1794.79 1457.74 1790.79 1457.74 Q1788.91 1457.74 1787.04 1458.16 Q1785.19 1458.57 1783.24 1459.45 L1783.24 1442.09 Z\" fill=\"#000000\" fill-rule=\"evenodd\" fill-opacity=\"1\" /><path clip-path=\"url(#clip540)\" d=\"M 0 0 M1819.22 1445.17 Q1815.6 1445.17 1813.78 1448.74 Q1811.97 1452.28 1811.97 1459.41 Q1811.97 1466.51 1813.78 1470.08 Q1815.6 1473.62 1819.22 1473.62 Q1822.85 1473.62 1824.66 1470.08 Q1826.48 1466.51 1826.48 1459.41 Q1826.48 1452.28 1824.66 1448.74 Q1822.85 1445.17 1819.22 1445.17 M1819.22 1441.47 Q1825.03 1441.47 1828.08 1446.07 Q1831.16 1450.66 1831.16 1459.41 Q1831.16 1468.13 1828.08 1472.74 Q1825.03 1477.32 1819.22 1477.32 Q1813.41 1477.32 1810.33 1472.74 Q1807.27 1468.13 1807.27 1459.41 Q1807.27 1450.66 1810.33 1446.07 Q1813.41 1441.47 1819.22 1441.47 Z\" fill=\"#000000\" fill-rule=\"evenodd\" fill-opacity=\"1\" /><path clip-path=\"url(#clip540)\" d=\"M 0 0 M1846.23 1445.17 Q1842.62 1445.17 1840.79 1448.74 Q1838.98 1452.28 1838.98 1459.41 Q1838.98 1466.51 1840.79 1470.08 Q1842.62 1473.62 1846.23 1473.62 Q1849.86 1473.62 1851.67 1470.08 Q1853.5 1466.51 1853.5 1459.41 Q1853.5 1452.28 1851.67 1448.74 Q1849.86 1445.17 1846.23 1445.17 M1846.23 1441.47 Q1852.04 1441.47 1855.09 1446.07 Q1858.17 1450.66 1858.17 1459.41 Q1858.17 1468.13 1855.09 1472.74 Q1852.04 1477.32 1846.23 1477.32 Q1840.42 1477.32 1837.34 1472.74 Q1834.28 1468.13 1834.28 1459.41 Q1834.28 1450.66 1837.34 1446.07 Q1840.42 1441.47 1846.23 1441.47 Z\" fill=\"#000000\" fill-rule=\"evenodd\" fill-opacity=\"1\" /><path clip-path=\"url(#clip540)\" d=\"M 0 0 M2248.53 1472.72 L2264.85 1472.72 L2264.85 1476.65 L2242.91 1476.65 L2242.91 1472.72 Q2245.57 1469.96 2250.15 1465.33 Q2254.76 1460.68 2255.94 1459.34 Q2258.19 1456.81 2259.06 1455.08 Q2259.97 1453.32 2259.97 1451.63 Q2259.97 1448.87 2258.02 1447.14 Q2256.1 1445.4 2253 1445.4 Q2250.8 1445.4 2248.35 1446.17 Q2245.92 1446.93 2243.14 1448.48 L2243.14 1443.76 Q2245.96 1442.62 2248.42 1442.05 Q2250.87 1441.47 2252.91 1441.47 Q2258.28 1441.47 2261.47 1444.15 Q2264.67 1446.84 2264.67 1451.33 Q2264.67 1453.46 2263.86 1455.38 Q2263.07 1457.28 2260.96 1459.87 Q2260.38 1460.54 2257.28 1463.76 Q2254.18 1466.95 2248.53 1472.72 Z\" fill=\"#000000\" fill-rule=\"evenodd\" fill-opacity=\"1\" /><path clip-path=\"url(#clip540)\" d=\"M 0 0 M2279.92 1445.17 Q2276.31 1445.17 2274.48 1448.74 Q2272.68 1452.28 2272.68 1459.41 Q2272.68 1466.51 2274.48 1470.08 Q2276.31 1473.62 2279.92 1473.62 Q2283.56 1473.62 2285.36 1470.08 Q2287.19 1466.51 2287.19 1459.41 Q2287.19 1452.28 2285.36 1448.74 Q2283.56 1445.17 2279.92 1445.17 M2279.92 1441.47 Q2285.73 1441.47 2288.79 1446.07 Q2291.87 1450.66 2291.87 1459.41 Q2291.87 1468.13 2288.79 1472.74 Q2285.73 1477.32 2279.92 1477.32 Q2274.11 1477.32 2271.03 1472.74 Q2267.98 1468.13 2267.98 1459.41 Q2267.98 1450.66 2271.03 1446.07 Q2274.11 1441.47 2279.92 1441.47 Z\" fill=\"#000000\" fill-rule=\"evenodd\" fill-opacity=\"1\" /><path clip-path=\"url(#clip540)\" d=\"M 0 0 M2306.94 1445.17 Q2303.32 1445.17 2301.5 1448.74 Q2299.69 1452.28 2299.69 1459.41 Q2299.69 1466.51 2301.5 1470.08 Q2303.32 1473.62 2306.94 1473.62 Q2310.57 1473.62 2312.37 1470.08 Q2314.2 1466.51 2314.2 1459.41 Q2314.2 1452.28 2312.37 1448.74 Q2310.57 1445.17 2306.94 1445.17 M2306.94 1441.47 Q2312.75 1441.47 2315.8 1446.07 Q2318.88 1450.66 2318.88 1459.41 Q2318.88 1468.13 2315.8 1472.74 Q2312.75 1477.32 2306.94 1477.32 Q2301.12 1477.32 2298.05 1472.74 Q2294.99 1468.13 2294.99 1459.41 Q2294.99 1450.66 2298.05 1446.07 Q2301.12 1441.47 2306.94 1441.47 Z\" fill=\"#000000\" fill-rule=\"evenodd\" fill-opacity=\"1\" /><path clip-path=\"url(#clip540)\" d=\"M 0 0 M2333.95 1445.17 Q2330.34 1445.17 2328.51 1448.74 Q2326.7 1452.28 2326.7 1459.41 Q2326.7 1466.51 2328.51 1470.08 Q2330.34 1473.62 2333.95 1473.62 Q2337.58 1473.62 2339.39 1470.08 Q2341.22 1466.51 2341.22 1459.41 Q2341.22 1452.28 2339.39 1448.74 Q2337.58 1445.17 2333.95 1445.17 M2333.95 1441.47 Q2339.76 1441.47 2342.81 1446.07 Q2345.89 1450.66 2345.89 1459.41 Q2345.89 1468.13 2342.81 1472.74 Q2339.76 1477.32 2333.95 1477.32 Q2328.14 1477.32 2325.06 1472.74 Q2322 1468.13 2322 1459.41 Q2322 1450.66 2325.06 1446.07 Q2328.14 1441.47 2333.95 1441.47 Z\" fill=\"#000000\" fill-rule=\"evenodd\" fill-opacity=\"1\" /><path clip-path=\"url(#clip540)\" d=\"M 0 0 M140.149 1193.6 Q136.538 1193.6 134.709 1197.17 Q132.904 1200.71 132.904 1207.84 Q132.904 1214.95 134.709 1218.51 Q136.538 1222.05 140.149 1222.05 Q143.783 1222.05 145.589 1218.51 Q147.417 1214.95 147.417 1207.84 Q147.417 1200.71 145.589 1197.17 Q143.783 1193.6 140.149 1193.6 M140.149 1189.9 Q145.959 1189.9 149.015 1194.51 Q152.093 1199.09 152.093 1207.84 Q152.093 1216.57 149.015 1221.17 Q145.959 1225.76 140.149 1225.76 Q134.339 1225.76 131.26 1221.17 Q128.205 1216.57 128.205 1207.84 Q128.205 1199.09 131.26 1194.51 Q134.339 1189.9 140.149 1189.9 Z\" fill=\"#000000\" fill-rule=\"evenodd\" fill-opacity=\"1\" /><path clip-path=\"url(#clip540)\" d=\"M 0 0 M157.163 1219.21 L162.047 1219.21 L162.047 1225.09 L157.163 1225.09 L157.163 1219.21 Z\" fill=\"#000000\" fill-rule=\"evenodd\" fill-opacity=\"1\" /><path clip-path=\"url(#clip540)\" d=\"M 0 0 M181.283 1206.45 Q184.639 1207.17 186.514 1209.44 Q188.413 1211.71 188.413 1215.04 Q188.413 1220.15 184.894 1222.96 Q181.376 1225.76 174.894 1225.76 Q172.718 1225.76 170.403 1225.32 Q168.112 1224.9 165.658 1224.04 L165.658 1219.53 Q167.603 1220.66 169.917 1221.24 Q172.232 1221.82 174.755 1221.82 Q179.153 1221.82 181.445 1220.09 Q183.76 1218.35 183.76 1215.04 Q183.76 1211.98 181.607 1210.27 Q179.477 1208.53 175.658 1208.53 L171.63 1208.53 L171.63 1204.69 L175.843 1204.69 Q179.292 1204.69 181.121 1203.33 Q182.95 1201.94 182.95 1199.34 Q182.95 1196.68 181.052 1195.27 Q179.177 1193.84 175.658 1193.84 Q173.737 1193.84 171.538 1194.25 Q169.339 1194.67 166.7 1195.55 L166.7 1191.38 Q169.362 1190.64 171.677 1190.27 Q174.015 1189.9 176.075 1189.9 Q181.399 1189.9 184.501 1192.33 Q187.602 1194.74 187.602 1198.86 Q187.602 1201.73 185.959 1203.72 Q184.315 1205.69 181.283 1206.45 Z\" fill=\"#000000\" fill-rule=\"evenodd\" fill-opacity=\"1\" /><path clip-path=\"url(#clip540)\" d=\"M 0 0 M197.51 1221.15 L213.829 1221.15 L213.829 1225.09 L191.885 1225.09 L191.885 1221.15 Q194.547 1218.4 199.13 1213.77 Q203.737 1209.11 204.917 1207.77 Q207.163 1205.25 208.042 1203.51 Q208.945 1201.75 208.945 1200.06 Q208.945 1197.31 207 1195.57 Q205.079 1193.84 201.977 1193.84 Q199.778 1193.84 197.325 1194.6 Q194.894 1195.36 192.116 1196.91 L192.116 1192.19 Q194.94 1191.06 197.394 1190.48 Q199.848 1189.9 201.885 1189.9 Q207.255 1189.9 210.45 1192.59 Q213.644 1195.27 213.644 1199.76 Q213.644 1201.89 212.834 1203.81 Q212.047 1205.71 209.94 1208.3 Q209.362 1208.97 206.26 1212.19 Q203.158 1215.39 197.51 1221.15 Z\" fill=\"#000000\" fill-rule=\"evenodd\" fill-opacity=\"1\" /><path clip-path=\"url(#clip540)\" d=\"M 0 0 M218.945 1190.53 L237.301 1190.53 L237.301 1194.46 L223.227 1194.46 L223.227 1202.93 Q224.246 1202.59 225.264 1202.42 Q226.283 1202.24 227.301 1202.24 Q233.088 1202.24 236.468 1205.41 Q239.848 1208.58 239.848 1214 Q239.848 1219.58 236.375 1222.68 Q232.903 1225.76 226.584 1225.76 Q224.408 1225.76 222.139 1225.39 Q219.894 1225.02 217.487 1224.28 L217.487 1219.58 Q219.57 1220.71 221.792 1221.27 Q224.014 1221.82 226.491 1221.82 Q230.496 1221.82 232.834 1219.71 Q235.172 1217.61 235.172 1214 Q235.172 1210.39 232.834 1208.28 Q230.496 1206.17 226.491 1206.17 Q224.616 1206.17 222.741 1206.59 Q220.889 1207.01 218.945 1207.89 L218.945 1190.53 Z\" fill=\"#000000\" fill-rule=\"evenodd\" fill-opacity=\"1\" /><path clip-path=\"url(#clip540)\" d=\"M 0 0 M254.917 1193.6 Q251.306 1193.6 249.477 1197.17 Q247.672 1200.71 247.672 1207.84 Q247.672 1214.95 249.477 1218.51 Q251.306 1222.05 254.917 1222.05 Q258.551 1222.05 260.357 1218.51 Q262.185 1214.95 262.185 1207.84 Q262.185 1200.71 260.357 1197.17 Q258.551 1193.6 254.917 1193.6 M254.917 1189.9 Q260.727 1189.9 263.783 1194.51 Q266.861 1199.09 266.861 1207.84 Q266.861 1216.57 263.783 1221.17 Q260.727 1225.76 254.917 1225.76 Q249.107 1225.76 246.028 1221.17 Q242.972 1216.57 242.972 1207.84 Q242.972 1199.09 246.028 1194.51 Q249.107 1189.9 254.917 1189.9 Z\" fill=\"#000000\" fill-rule=\"evenodd\" fill-opacity=\"1\" /><path clip-path=\"url(#clip540)\" d=\"M 0 0 M141.052 916.209 Q137.441 916.209 135.612 919.773 Q133.806 923.315 133.806 930.445 Q133.806 937.551 135.612 941.116 Q137.441 944.657 141.052 944.657 Q144.686 944.657 146.492 941.116 Q148.32 937.551 148.32 930.445 Q148.32 923.315 146.492 919.773 Q144.686 916.209 141.052 916.209 M141.052 912.505 Q146.862 912.505 149.917 917.111 Q152.996 921.695 152.996 930.445 Q152.996 939.171 149.917 943.778 Q146.862 948.361 141.052 948.361 Q135.242 948.361 132.163 943.778 Q129.107 939.171 129.107 930.445 Q129.107 921.695 132.163 917.111 Q135.242 912.505 141.052 912.505 Z\" fill=\"#000000\" fill-rule=\"evenodd\" fill-opacity=\"1\" /><path clip-path=\"url(#clip540)\" d=\"M 0 0 M158.066 941.81 L162.95 941.81 L162.95 947.69 L158.066 947.69 L158.066 941.81 Z\" fill=\"#000000\" fill-rule=\"evenodd\" fill-opacity=\"1\" /><path clip-path=\"url(#clip540)\" d=\"M 0 0 M182.186 929.056 Q185.542 929.773 187.417 932.042 Q189.315 934.31 189.315 937.644 Q189.315 942.759 185.797 945.56 Q182.278 948.361 175.797 948.361 Q173.621 948.361 171.306 947.921 Q169.015 947.505 166.561 946.648 L166.561 942.134 Q168.505 943.269 170.82 943.847 Q173.135 944.426 175.658 944.426 Q180.056 944.426 182.348 942.69 Q184.663 940.954 184.663 937.644 Q184.663 934.588 182.51 932.875 Q180.38 931.139 176.561 931.139 L172.533 931.139 L172.533 927.296 L176.746 927.296 Q180.195 927.296 182.024 925.931 Q183.852 924.542 183.852 921.949 Q183.852 919.287 181.954 917.875 Q180.079 916.44 176.561 916.44 Q174.64 916.44 172.44 916.857 Q170.241 917.273 167.603 918.153 L167.603 913.986 Q170.265 913.246 172.579 912.875 Q174.917 912.505 176.977 912.505 Q182.302 912.505 185.403 914.935 Q188.505 917.343 188.505 921.463 Q188.505 924.333 186.862 926.324 Q185.218 928.292 182.186 929.056 Z\" fill=\"#000000\" fill-rule=\"evenodd\" fill-opacity=\"1\" /><path clip-path=\"url(#clip540)\" d=\"M 0 0 M198.413 943.755 L214.732 943.755 L214.732 947.69 L192.788 947.69 L192.788 943.755 Q195.45 941 200.033 936.37 Q204.639 931.718 205.82 930.375 Q208.065 927.852 208.945 926.116 Q209.848 924.357 209.848 922.667 Q209.848 919.912 207.903 918.176 Q205.982 916.44 202.88 916.44 Q200.681 916.44 198.227 917.204 Q195.797 917.968 193.019 919.519 L193.019 914.796 Q195.843 913.662 198.297 913.084 Q200.75 912.505 202.788 912.505 Q208.158 912.505 211.352 915.19 Q214.547 917.875 214.547 922.366 Q214.547 924.496 213.737 926.417 Q212.95 928.315 210.843 930.908 Q210.264 931.579 207.163 934.796 Q204.061 937.991 198.413 943.755 Z\" fill=\"#000000\" fill-rule=\"evenodd\" fill-opacity=\"1\" /><path clip-path=\"url(#clip540)\" d=\"M 0 0 M218.621 913.13 L240.843 913.13 L240.843 915.121 L228.297 947.69 L223.412 947.69 L235.218 917.065 L218.621 917.065 L218.621 913.13 Z\" fill=\"#000000\" fill-rule=\"evenodd\" fill-opacity=\"1\" /><path clip-path=\"url(#clip540)\" d=\"M 0 0 M245.959 913.13 L264.315 913.13 L264.315 917.065 L250.241 917.065 L250.241 925.537 Q251.259 925.19 252.278 925.028 Q253.297 924.843 254.315 924.843 Q260.102 924.843 263.482 928.014 Q266.861 931.185 266.861 936.602 Q266.861 942.181 263.389 945.282 Q259.917 948.361 253.597 948.361 Q251.422 948.361 249.153 947.991 Q246.908 947.62 244.5 946.88 L244.5 942.181 Q246.584 943.315 248.806 943.87 Q251.028 944.426 253.505 944.426 Q257.509 944.426 259.847 942.319 Q262.185 940.213 262.185 936.602 Q262.185 932.991 259.847 930.884 Q257.509 928.778 253.505 928.778 Q251.63 928.778 249.755 929.195 Q247.903 929.611 245.959 930.491 L245.959 913.13 Z\" fill=\"#000000\" fill-rule=\"evenodd\" fill-opacity=\"1\" /><path clip-path=\"url(#clip540)\" d=\"M 0 0 M138.205 638.813 Q134.593 638.813 132.765 642.378 Q130.959 645.919 130.959 653.049 Q130.959 660.156 132.765 663.72 Q134.593 667.262 138.205 667.262 Q141.839 667.262 143.644 663.72 Q145.473 660.156 145.473 653.049 Q145.473 645.919 143.644 642.378 Q141.839 638.813 138.205 638.813 M138.205 635.109 Q144.015 635.109 147.07 639.716 Q150.149 644.299 150.149 653.049 Q150.149 661.776 147.07 666.382 Q144.015 670.966 138.205 670.966 Q132.394 670.966 129.316 666.382 Q126.26 661.776 126.26 653.049 Q126.26 644.299 129.316 639.716 Q132.394 635.109 138.205 635.109 Z\" fill=\"#000000\" fill-rule=\"evenodd\" fill-opacity=\"1\" /><path clip-path=\"url(#clip540)\" d=\"M 0 0 M155.218 664.415 L160.103 664.415 L160.103 670.294 L155.218 670.294 L155.218 664.415 Z\" fill=\"#000000\" fill-rule=\"evenodd\" fill-opacity=\"1\" /><path clip-path=\"url(#clip540)\" d=\"M 0 0 M179.339 651.66 Q182.695 652.378 184.57 654.646 Q186.468 656.915 186.468 660.248 Q186.468 665.364 182.95 668.165 Q179.431 670.966 172.95 670.966 Q170.774 670.966 168.459 670.526 Q166.167 670.109 163.714 669.253 L163.714 664.739 Q165.658 665.873 167.973 666.452 Q170.288 667.03 172.811 667.03 Q177.209 667.03 179.501 665.294 Q181.815 663.558 181.815 660.248 Q181.815 657.193 179.663 655.48 Q177.533 653.744 173.714 653.744 L169.686 653.744 L169.686 649.901 L173.899 649.901 Q177.348 649.901 179.177 648.535 Q181.005 647.146 181.005 644.554 Q181.005 641.892 179.107 640.48 Q177.232 639.045 173.714 639.045 Q171.792 639.045 169.593 639.461 Q167.394 639.878 164.755 640.757 L164.755 636.591 Q167.417 635.85 169.732 635.48 Q172.07 635.109 174.13 635.109 Q179.454 635.109 182.556 637.54 Q185.658 639.947 185.658 644.068 Q185.658 646.938 184.014 648.929 Q182.371 650.896 179.339 651.66 Z\" fill=\"#000000\" fill-rule=\"evenodd\" fill-opacity=\"1\" /><path clip-path=\"url(#clip540)\" d=\"M 0 0 M205.704 651.66 Q209.061 652.378 210.936 654.646 Q212.834 656.915 212.834 660.248 Q212.834 665.364 209.315 668.165 Q205.797 670.966 199.315 670.966 Q197.139 670.966 194.825 670.526 Q192.533 670.109 190.079 669.253 L190.079 664.739 Q192.024 665.873 194.338 666.452 Q196.653 667.03 199.176 667.03 Q203.575 667.03 205.866 665.294 Q208.181 663.558 208.181 660.248 Q208.181 657.193 206.028 655.48 Q203.899 653.744 200.079 653.744 L196.051 653.744 L196.051 649.901 L200.264 649.901 Q203.713 649.901 205.542 648.535 Q207.371 647.146 207.371 644.554 Q207.371 641.892 205.473 640.48 Q203.598 639.045 200.079 639.045 Q198.158 639.045 195.959 639.461 Q193.76 639.878 191.121 640.757 L191.121 636.591 Q193.783 635.85 196.098 635.48 Q198.436 635.109 200.496 635.109 Q205.82 635.109 208.922 637.54 Q212.024 639.947 212.024 644.068 Q212.024 646.938 210.38 648.929 Q208.737 650.896 205.704 651.66 Z\" fill=\"#000000\" fill-rule=\"evenodd\" fill-opacity=\"1\" /><path clip-path=\"url(#clip540)\" d=\"M 0 0 M227.903 638.813 Q224.292 638.813 222.463 642.378 Q220.658 645.919 220.658 653.049 Q220.658 660.156 222.463 663.72 Q224.292 667.262 227.903 667.262 Q231.537 667.262 233.343 663.72 Q235.172 660.156 235.172 653.049 Q235.172 645.919 233.343 642.378 Q231.537 638.813 227.903 638.813 M227.903 635.109 Q233.713 635.109 236.769 639.716 Q239.848 644.299 239.848 653.049 Q239.848 661.776 236.769 666.382 Q233.713 670.966 227.903 670.966 Q222.093 670.966 219.014 666.382 Q215.959 661.776 215.959 653.049 Q215.959 644.299 219.014 639.716 Q222.093 635.109 227.903 635.109 Z\" fill=\"#000000\" fill-rule=\"evenodd\" fill-opacity=\"1\" /><path clip-path=\"url(#clip540)\" d=\"M 0 0 M254.917 638.813 Q251.306 638.813 249.477 642.378 Q247.672 645.919 247.672 653.049 Q247.672 660.156 249.477 663.72 Q251.306 667.262 254.917 667.262 Q258.551 667.262 260.357 663.72 Q262.185 660.156 262.185 653.049 Q262.185 645.919 260.357 642.378 Q258.551 638.813 254.917 638.813 M254.917 635.109 Q260.727 635.109 263.783 639.716 Q266.861 644.299 266.861 653.049 Q266.861 661.776 263.783 666.382 Q260.727 670.966 254.917 670.966 Q249.107 670.966 246.028 666.382 Q242.972 661.776 242.972 653.049 Q242.972 644.299 246.028 639.716 Q249.107 635.109 254.917 635.109 Z\" fill=\"#000000\" fill-rule=\"evenodd\" fill-opacity=\"1\" /><path clip-path=\"url(#clip540)\" d=\"M 0 0 M140.797 361.418 Q137.186 361.418 135.357 364.982 Q133.552 368.524 133.552 375.654 Q133.552 382.76 135.357 386.325 Q137.186 389.866 140.797 389.866 Q144.431 389.866 146.237 386.325 Q148.066 382.76 148.066 375.654 Q148.066 368.524 146.237 364.982 Q144.431 361.418 140.797 361.418 M140.797 357.714 Q146.607 357.714 149.663 362.32 Q152.741 366.904 152.741 375.654 Q152.741 384.38 149.663 388.987 Q146.607 393.57 140.797 393.57 Q134.987 393.57 131.908 388.987 Q128.853 384.38 128.853 375.654 Q128.853 366.904 131.908 362.32 Q134.987 357.714 140.797 357.714 Z\" fill=\"#000000\" fill-rule=\"evenodd\" fill-opacity=\"1\" /><path clip-path=\"url(#clip540)\" d=\"M 0 0 M157.811 387.019 L162.695 387.019 L162.695 392.899 L157.811 392.899 L157.811 387.019 Z\" fill=\"#000000\" fill-rule=\"evenodd\" fill-opacity=\"1\" /><path clip-path=\"url(#clip540)\" d=\"M 0 0 M181.931 374.265 Q185.288 374.982 187.163 377.251 Q189.061 379.519 189.061 382.853 Q189.061 387.968 185.542 390.769 Q182.024 393.57 175.542 393.57 Q173.366 393.57 171.052 393.13 Q168.76 392.714 166.306 391.857 L166.306 387.343 Q168.251 388.478 170.565 389.056 Q172.88 389.635 175.403 389.635 Q179.802 389.635 182.093 387.899 Q184.408 386.163 184.408 382.853 Q184.408 379.797 182.255 378.084 Q180.126 376.348 176.306 376.348 L172.278 376.348 L172.278 372.505 L176.491 372.505 Q179.94 372.505 181.769 371.14 Q183.598 369.751 183.598 367.158 Q183.598 364.496 181.7 363.084 Q179.825 361.649 176.306 361.649 Q174.385 361.649 172.186 362.066 Q169.987 362.482 167.348 363.362 L167.348 359.195 Q170.01 358.455 172.325 358.084 Q174.663 357.714 176.723 357.714 Q182.047 357.714 185.149 360.144 Q188.251 362.552 188.251 366.672 Q188.251 369.543 186.607 371.533 Q184.964 373.501 181.931 374.265 Z\" fill=\"#000000\" fill-rule=\"evenodd\" fill-opacity=\"1\" /><path clip-path=\"url(#clip540)\" d=\"M 0 0 M208.297 374.265 Q211.653 374.982 213.528 377.251 Q215.426 379.519 215.426 382.853 Q215.426 387.968 211.908 390.769 Q208.389 393.57 201.908 393.57 Q199.732 393.57 197.417 393.13 Q195.126 392.714 192.672 391.857 L192.672 387.343 Q194.616 388.478 196.931 389.056 Q199.246 389.635 201.769 389.635 Q206.167 389.635 208.459 387.899 Q210.774 386.163 210.774 382.853 Q210.774 379.797 208.621 378.084 Q206.491 376.348 202.672 376.348 L198.644 376.348 L198.644 372.505 L202.857 372.505 Q206.306 372.505 208.135 371.14 Q209.963 369.751 209.963 367.158 Q209.963 364.496 208.065 363.084 Q206.19 361.649 202.672 361.649 Q200.75 361.649 198.551 362.066 Q196.352 362.482 193.713 363.362 L193.713 359.195 Q196.376 358.455 198.69 358.084 Q201.028 357.714 203.088 357.714 Q208.412 357.714 211.514 360.144 Q214.616 362.552 214.616 366.672 Q214.616 369.543 212.973 371.533 Q211.329 373.501 208.297 374.265 Z\" fill=\"#000000\" fill-rule=\"evenodd\" fill-opacity=\"1\" /><path clip-path=\"url(#clip540)\" d=\"M 0 0 M224.524 388.964 L240.843 388.964 L240.843 392.899 L218.899 392.899 L218.899 388.964 Q221.561 386.209 226.144 381.579 Q230.75 376.927 231.931 375.584 Q234.176 373.061 235.056 371.325 Q235.959 369.566 235.959 367.876 Q235.959 365.121 234.014 363.385 Q232.093 361.649 228.991 361.649 Q226.792 361.649 224.338 362.413 Q221.908 363.177 219.13 364.728 L219.13 360.006 Q221.954 358.871 224.408 358.293 Q226.861 357.714 228.898 357.714 Q234.269 357.714 237.463 360.399 Q240.658 363.084 240.658 367.575 Q240.658 369.705 239.848 371.626 Q239.06 373.524 236.954 376.117 Q236.375 376.788 233.273 380.005 Q230.172 383.2 224.524 388.964 Z\" fill=\"#000000\" fill-rule=\"evenodd\" fill-opacity=\"1\" /><path clip-path=\"url(#clip540)\" d=\"M 0 0 M245.959 358.339 L264.315 358.339 L264.315 362.274 L250.241 362.274 L250.241 370.746 Q251.259 370.399 252.278 370.237 Q253.297 370.052 254.315 370.052 Q260.102 370.052 263.482 373.223 Q266.861 376.394 266.861 381.811 Q266.861 387.39 263.389 390.491 Q259.917 393.57 253.597 393.57 Q251.422 393.57 249.153 393.2 Q246.908 392.829 244.5 392.089 L244.5 387.39 Q246.584 388.524 248.806 389.079 Q251.028 389.635 253.505 389.635 Q257.509 389.635 259.847 387.529 Q262.185 385.422 262.185 381.811 Q262.185 378.2 259.847 376.093 Q257.509 373.987 253.505 373.987 Q251.63 373.987 249.755 374.404 Q247.903 374.82 245.959 375.7 L245.959 358.339 Z\" fill=\"#000000\" fill-rule=\"evenodd\" fill-opacity=\"1\" /><path clip-path=\"url(#clip540)\" d=\"M 0 0 M139.2 84.0221 Q135.589 84.0221 133.76 87.5869 Q131.955 91.1285 131.955 98.2581 Q131.955 105.365 133.76 108.929 Q135.589 112.471 139.2 112.471 Q142.834 112.471 144.64 108.929 Q146.468 105.365 146.468 98.2581 Q146.468 91.1285 144.64 87.5869 Q142.834 84.0221 139.2 84.0221 M139.2 80.3184 Q145.01 80.3184 148.066 84.9249 Q151.144 89.5082 151.144 98.2581 Q151.144 106.985 148.066 111.591 Q145.01 116.175 139.2 116.175 Q133.39 116.175 130.311 111.591 Q127.256 106.985 127.256 98.2581 Q127.256 89.5082 130.311 84.9249 Q133.39 80.3184 139.2 80.3184 Z\" fill=\"#000000\" fill-rule=\"evenodd\" fill-opacity=\"1\" /><path clip-path=\"url(#clip540)\" d=\"M 0 0 M156.214 109.624 L161.098 109.624 L161.098 115.503 L156.214 115.503 L156.214 109.624 Z\" fill=\"#000000\" fill-rule=\"evenodd\" fill-opacity=\"1\" /><path clip-path=\"url(#clip540)\" d=\"M 0 0 M180.334 96.8692 Q183.69 97.5868 185.565 99.8553 Q187.464 102.124 187.464 105.457 Q187.464 110.573 183.945 113.374 Q180.427 116.175 173.945 116.175 Q171.769 116.175 169.454 115.735 Q167.163 115.318 164.709 114.462 L164.709 109.948 Q166.653 111.082 168.968 111.661 Q171.283 112.24 173.806 112.24 Q178.204 112.24 180.496 110.503 Q182.811 108.767 182.811 105.457 Q182.811 102.402 180.658 100.689 Q178.528 98.9526 174.709 98.9526 L170.681 98.9526 L170.681 95.11 L174.894 95.11 Q178.343 95.11 180.172 93.7443 Q182.001 92.3554 182.001 89.7628 Q182.001 87.1008 180.102 85.6887 Q178.227 84.2536 174.709 84.2536 Q172.788 84.2536 170.589 84.6702 Q168.39 85.0869 165.751 85.9665 L165.751 81.7999 Q168.413 81.0591 170.728 80.6888 Q173.065 80.3184 175.126 80.3184 Q180.45 80.3184 183.552 82.7489 Q186.653 85.1563 186.653 89.2767 Q186.653 92.147 185.01 94.1378 Q183.366 96.1053 180.334 96.8692 Z\" fill=\"#000000\" fill-rule=\"evenodd\" fill-opacity=\"1\" /><path clip-path=\"url(#clip540)\" d=\"M 0 0 M206.7 96.8692 Q210.056 97.5868 211.931 99.8553 Q213.829 102.124 213.829 105.457 Q213.829 110.573 210.311 113.374 Q206.792 116.175 200.311 116.175 Q198.135 116.175 195.82 115.735 Q193.528 115.318 191.075 114.462 L191.075 109.948 Q193.019 111.082 195.334 111.661 Q197.649 112.24 200.172 112.24 Q204.57 112.24 206.862 110.503 Q209.176 108.767 209.176 105.457 Q209.176 102.402 207.024 100.689 Q204.894 98.9526 201.075 98.9526 L197.047 98.9526 L197.047 95.11 L201.26 95.11 Q204.709 95.11 206.538 93.7443 Q208.366 92.3554 208.366 89.7628 Q208.366 87.1008 206.468 85.6887 Q204.593 84.2536 201.075 84.2536 Q199.153 84.2536 196.954 84.6702 Q194.755 85.0869 192.116 85.9665 L192.116 81.7999 Q194.778 81.0591 197.093 80.6888 Q199.431 80.3184 201.491 80.3184 Q206.815 80.3184 209.917 82.7489 Q213.019 85.1563 213.019 89.2767 Q213.019 92.147 211.375 94.1378 Q209.732 96.1053 206.7 96.8692 Z\" fill=\"#000000\" fill-rule=\"evenodd\" fill-opacity=\"1\" /><path clip-path=\"url(#clip540)\" d=\"M 0 0 M218.945 80.9434 L237.301 80.9434 L237.301 84.8786 L223.227 84.8786 L223.227 93.3507 Q224.246 93.0035 225.264 92.8415 Q226.283 92.6563 227.301 92.6563 Q233.088 92.6563 236.468 95.8276 Q239.848 98.9989 239.848 104.415 Q239.848 109.994 236.375 113.096 Q232.903 116.175 226.584 116.175 Q224.408 116.175 222.139 115.804 Q219.894 115.434 217.487 114.693 L217.487 109.994 Q219.57 111.128 221.792 111.684 Q224.014 112.24 226.491 112.24 Q230.496 112.24 232.834 110.133 Q235.172 108.027 235.172 104.415 Q235.172 100.804 232.834 98.6979 Q230.496 96.5915 226.491 96.5915 Q224.616 96.5915 222.741 97.0081 Q220.889 97.4248 218.945 98.3044 L218.945 80.9434 Z\" fill=\"#000000\" fill-rule=\"evenodd\" fill-opacity=\"1\" /><path clip-path=\"url(#clip540)\" d=\"M 0 0 M254.917 84.0221 Q251.306 84.0221 249.477 87.5869 Q247.672 91.1285 247.672 98.2581 Q247.672 105.365 249.477 108.929 Q251.306 112.471 254.917 112.471 Q258.551 112.471 260.357 108.929 Q262.185 105.365 262.185 98.2581 Q262.185 91.1285 260.357 87.5869 Q258.551 84.0221 254.917 84.0221 M254.917 80.3184 Q260.727 80.3184 263.783 84.9249 Q266.861 89.5082 266.861 98.2581 Q266.861 106.985 263.783 111.591 Q260.727 116.175 254.917 116.175 Q249.107 116.175 246.028 111.591 Q242.972 106.985 242.972 98.2581 Q242.972 89.5082 246.028 84.9249 Q249.107 80.3184 254.917 80.3184 Z\" fill=\"#000000\" fill-rule=\"evenodd\" fill-opacity=\"1\" /><path clip-path=\"url(#clip540)\" d=\"M 0 0 M1252.09 1536.76 L1252.09 1539.62 L1225.16 1539.62 Q1225.54 1545.67 1228.79 1548.85 Q1232.07 1552 1237.89 1552 Q1241.27 1552 1244.42 1551.17 Q1247.6 1550.35 1250.72 1548.69 L1250.72 1554.23 Q1247.57 1555.57 1244.26 1556.27 Q1240.95 1556.97 1237.54 1556.97 Q1229.01 1556.97 1224.02 1552 Q1219.05 1547.04 1219.05 1538.57 Q1219.05 1529.82 1223.76 1524.69 Q1228.5 1519.54 1236.52 1519.54 Q1243.72 1519.54 1247.89 1524.18 Q1252.09 1528.8 1252.09 1536.76 M1246.23 1535.04 Q1246.17 1530.23 1243.53 1527.37 Q1240.92 1524.5 1236.59 1524.5 Q1231.69 1524.5 1228.73 1527.27 Q1225.8 1530.04 1225.35 1535.07 L1246.23 1535.04 Z\" fill=\"#000000\" fill-rule=\"evenodd\" fill-opacity=\"1\" /><path clip-path=\"url(#clip540)\" d=\"M 0 0 M1263.9 1550.7 L1263.9 1569.6 L1258.01 1569.6 L1258.01 1520.4 L1263.9 1520.4 L1263.9 1525.81 Q1265.74 1522.62 1268.54 1521.1 Q1271.38 1519.54 1275.29 1519.54 Q1281.78 1519.54 1285.83 1524.69 Q1289.9 1529.85 1289.9 1538.25 Q1289.9 1546.65 1285.83 1551.81 Q1281.78 1556.97 1275.29 1556.97 Q1271.38 1556.97 1268.54 1555.44 Q1265.74 1553.88 1263.9 1550.7 M1283.82 1538.25 Q1283.82 1531.79 1281.15 1528.13 Q1278.51 1524.44 1273.86 1524.44 Q1269.21 1524.44 1266.54 1528.13 Q1263.9 1531.79 1263.9 1538.25 Q1263.9 1544.71 1266.54 1548.4 Q1269.21 1552.07 1273.86 1552.07 Q1278.51 1552.07 1281.15 1548.4 Q1283.82 1544.71 1283.82 1538.25 Z\" fill=\"#000000\" fill-rule=\"evenodd\" fill-opacity=\"1\" /><path clip-path=\"url(#clip540)\" d=\"M 0 0 M1309.86 1524.5 Q1305.15 1524.5 1302.41 1528.19 Q1299.67 1531.85 1299.67 1538.25 Q1299.67 1544.65 1302.38 1548.34 Q1305.11 1552 1309.86 1552 Q1314.54 1552 1317.27 1548.31 Q1320.01 1544.62 1320.01 1538.25 Q1320.01 1531.92 1317.27 1528.23 Q1314.54 1524.5 1309.86 1524.5 M1309.86 1519.54 Q1317.5 1519.54 1321.86 1524.5 Q1326.22 1529.47 1326.22 1538.25 Q1326.22 1547 1321.86 1552 Q1317.5 1556.97 1309.86 1556.97 Q1302.19 1556.97 1297.83 1552 Q1293.5 1547 1293.5 1538.25 Q1293.5 1529.47 1297.83 1524.5 Q1302.19 1519.54 1309.86 1519.54 Z\" fill=\"#000000\" fill-rule=\"evenodd\" fill-opacity=\"1\" /><path clip-path=\"url(#clip540)\" d=\"M 0 0 M1358.01 1521.76 L1358.01 1527.24 Q1355.53 1525.87 1353.02 1525.2 Q1350.53 1524.5 1347.99 1524.5 Q1342.29 1524.5 1339.14 1528.13 Q1335.99 1531.73 1335.99 1538.25 Q1335.99 1544.78 1339.14 1548.4 Q1342.29 1552 1347.99 1552 Q1350.53 1552 1353.02 1551.33 Q1355.53 1550.63 1358.01 1549.26 L1358.01 1554.68 Q1355.56 1555.82 1352.92 1556.39 Q1350.31 1556.97 1347.35 1556.97 Q1339.3 1556.97 1334.56 1551.91 Q1329.81 1546.85 1329.81 1538.25 Q1329.81 1529.53 1334.59 1524.53 Q1339.39 1519.54 1347.73 1519.54 Q1350.44 1519.54 1353.02 1520.11 Q1355.59 1520.65 1358.01 1521.76 Z\" fill=\"#000000\" fill-rule=\"evenodd\" fill-opacity=\"1\" /><path clip-path=\"url(#clip540)\" d=\"M 0 0 M1393.79 1534.53 L1393.79 1556.04 L1387.93 1556.04 L1387.93 1534.72 Q1387.93 1529.66 1385.96 1527.14 Q1383.99 1524.63 1380.04 1524.63 Q1375.3 1524.63 1372.56 1527.65 Q1369.82 1530.68 1369.82 1535.9 L1369.82 1556.04 L1363.93 1556.04 L1363.93 1506.52 L1369.82 1506.52 L1369.82 1525.93 Q1371.92 1522.72 1374.76 1521.13 Q1377.62 1519.54 1381.34 1519.54 Q1387.49 1519.54 1390.64 1523.36 Q1393.79 1527.14 1393.79 1534.53 Z\" fill=\"#000000\" fill-rule=\"evenodd\" fill-opacity=\"1\" /><path clip-path=\"url(#clip540)\" d=\"M 0 0 M1422.66 1521.45 L1422.66 1526.98 Q1420.17 1525.71 1417.5 1525.07 Q1414.83 1524.44 1411.96 1524.44 Q1407.6 1524.44 1405.41 1525.77 Q1403.24 1527.11 1403.24 1529.79 Q1403.24 1531.82 1404.8 1533 Q1406.36 1534.15 1411.07 1535.2 L1413.08 1535.64 Q1419.32 1536.98 1421.93 1539.43 Q1424.57 1541.85 1424.57 1546.21 Q1424.57 1551.17 1420.62 1554.07 Q1416.71 1556.97 1409.83 1556.97 Q1406.97 1556.97 1403.85 1556.39 Q1400.76 1555.85 1397.32 1554.74 L1397.32 1548.69 Q1400.57 1550.38 1403.72 1551.24 Q1406.87 1552.07 1409.96 1552.07 Q1414.1 1552.07 1416.32 1550.66 Q1418.55 1549.23 1418.55 1546.65 Q1418.55 1544.27 1416.93 1542.99 Q1415.34 1541.72 1409.89 1540.54 L1407.86 1540.07 Q1402.41 1538.92 1400 1536.56 Q1397.58 1534.18 1397.58 1530.04 Q1397.58 1525.01 1401.14 1522.27 Q1404.71 1519.54 1411.26 1519.54 Q1414.51 1519.54 1417.37 1520.01 Q1420.24 1520.49 1422.66 1521.45 Z\" fill=\"#000000\" fill-rule=\"evenodd\" fill-opacity=\"1\" /><path clip-path=\"url(#clip540)\" d=\"M 0 0 M44.1444 904.492 L50.9239 904.492 Q47.9002 907.739 46.4043 911.431 Q44.9083 915.091 44.9083 919.229 Q44.9083 927.377 49.9054 931.705 Q54.8707 936.034 64.2919 936.034 Q73.6813 936.034 78.6784 931.705 Q83.6436 927.377 83.6436 919.229 Q83.6436 915.091 82.1477 911.431 Q80.6518 907.739 77.6281 904.492 L84.3439 904.492 Q86.6355 907.866 87.7814 911.653 Q88.9272 915.409 88.9272 919.611 Q88.9272 930.4 82.3387 936.607 Q75.7183 942.814 64.2919 942.814 Q52.8336 942.814 46.2451 936.607 Q39.6248 930.4 39.6248 919.611 Q39.6248 915.346 40.7706 911.59 Q41.8846 907.802 44.1444 904.492 Z\" fill=\"#000000\" fill-rule=\"evenodd\" fill-opacity=\"1\" /><path clip-path=\"url(#clip540)\" d=\"M 0 0 M57.8307 877.692 Q57.2578 878.679 57.0032 879.857 Q56.7167 881.003 56.7167 882.403 Q56.7167 887.368 59.9632 890.042 Q63.1779 892.684 69.2253 892.684 L88.0042 892.684 L88.0042 898.572 L52.3562 898.572 L52.3562 892.684 L57.8944 892.684 Q54.6479 890.838 53.0883 887.878 Q51.4968 884.917 51.4968 880.684 Q51.4968 880.08 51.5923 879.347 Q51.656 878.615 51.8151 877.724 L57.8307 877.692 Z\" fill=\"#000000\" fill-rule=\"evenodd\" fill-opacity=\"1\" /><path clip-path=\"url(#clip540)\" d=\"M 0 0 M56.4621 859.168 Q56.4621 863.879 60.1542 866.616 Q63.8145 869.353 70.212 869.353 Q76.6095 869.353 80.3017 866.648 Q83.9619 863.911 83.9619 859.168 Q83.9619 854.489 80.2698 851.752 Q76.5777 849.015 70.212 849.015 Q63.8781 849.015 60.186 851.752 Q56.4621 854.489 56.4621 859.168 M51.4968 859.168 Q51.4968 851.529 56.4621 847.169 Q61.4273 842.808 70.212 842.808 Q78.9649 842.808 83.9619 847.169 Q88.9272 851.529 88.9272 859.168 Q88.9272 866.839 83.9619 871.199 Q78.9649 875.528 70.212 875.528 Q61.4273 875.528 56.4621 871.199 Q51.4968 866.839 51.4968 859.168 Z\" fill=\"#000000\" fill-rule=\"evenodd\" fill-opacity=\"1\" /><path clip-path=\"url(#clip540)\" d=\"M 0 0 M53.4065 813.94 L58.9447 813.94 Q57.6716 816.422 57.035 819.096 Q56.3984 821.77 56.3984 824.634 Q56.3984 828.995 57.7352 831.191 Q59.072 833.355 61.7456 833.355 Q63.7826 833.355 64.9603 831.796 Q66.1061 830.236 67.1565 825.525 L67.6021 823.52 Q68.9389 817.282 71.3897 814.672 Q73.8086 812.03 78.1691 812.03 Q83.1344 812.03 86.0308 815.977 Q88.9272 819.892 88.9272 826.767 Q88.9272 829.631 88.3543 832.751 Q87.8132 835.838 86.6992 839.275 L80.6518 839.275 Q82.3387 836.029 83.198 832.878 Q84.0256 829.727 84.0256 826.639 Q84.0256 822.502 82.6251 820.274 Q81.1929 818.046 78.6147 818.046 Q76.2276 818.046 74.9545 819.669 Q73.6813 821.26 72.5037 826.703 L72.0262 828.74 Q70.8804 834.183 68.5251 836.602 Q66.138 839.021 62.0002 839.021 Q56.9713 839.021 54.2341 835.456 Q51.4968 831.891 51.4968 825.334 Q51.4968 822.088 51.9743 819.223 Q52.4517 816.359 53.4065 813.94 Z\" fill=\"#000000\" fill-rule=\"evenodd\" fill-opacity=\"1\" /><path clip-path=\"url(#clip540)\" d=\"M 0 0 M53.4065 783.162 L58.9447 783.162 Q57.6716 785.644 57.035 788.318 Q56.3984 790.991 56.3984 793.856 Q56.3984 798.217 57.7352 800.413 Q59.072 802.577 61.7456 802.577 Q63.7826 802.577 64.9603 801.017 Q66.1061 799.458 67.1565 794.747 L67.6021 792.742 Q68.9389 786.504 71.3897 783.894 Q73.8086 781.252 78.1691 781.252 Q83.1344 781.252 86.0308 785.199 Q88.9272 789.114 88.9272 795.989 Q88.9272 798.853 88.3543 801.972 Q87.8132 805.06 86.6992 808.497 L80.6518 808.497 Q82.3387 805.251 83.198 802.1 Q84.0256 798.949 84.0256 795.861 Q84.0256 791.724 82.6251 789.496 Q81.1929 787.268 78.6147 787.268 Q76.2276 787.268 74.9545 788.891 Q73.6813 790.482 72.5037 795.925 L72.0262 797.962 Q70.8804 803.405 68.5251 805.824 Q66.138 808.243 62.0002 808.243 Q56.9713 808.243 54.2341 804.678 Q51.4968 801.113 51.4968 794.556 Q51.4968 791.31 51.9743 788.445 Q52.4517 785.581 53.4065 783.162 Z\" fill=\"#000000\" fill-rule=\"evenodd\" fill-opacity=\"1\" /><path clip-path=\"url(#clip540)\" d=\"M 0 0 M40.4842 754.134 L40.4842 724.088 L45.895 724.088 L45.895 747.705 L59.9632 747.705 L59.9632 725.075 L65.3741 725.075 L65.3741 747.705 L82.5933 747.705 L82.5933 723.515 L88.0042 723.515 L88.0042 754.134 L40.4842 754.134 Z\" fill=\"#000000\" fill-rule=\"evenodd\" fill-opacity=\"1\" /><path clip-path=\"url(#clip540)\" d=\"M 0 0 M66.4881 687.74 L88.0042 687.74 L88.0042 693.596 L66.679 693.596 Q61.6183 693.596 59.1038 695.57 Q56.5894 697.543 56.5894 701.49 Q56.5894 706.232 59.6131 708.969 Q62.6368 711.707 67.8567 711.707 L88.0042 711.707 L88.0042 717.595 L52.3562 717.595 L52.3562 711.707 L57.8944 711.707 Q54.6797 709.606 53.0883 706.773 Q51.4968 703.909 51.4968 700.185 Q51.4968 694.042 55.3163 690.891 Q59.1038 687.74 66.4881 687.74 Z\" fill=\"#000000\" fill-rule=\"evenodd\" fill-opacity=\"1\" /><path clip-path=\"url(#clip540)\" d=\"M 0 0 M42.2347 675.804 L52.3562 675.804 L52.3562 663.741 L56.9077 663.741 L56.9077 675.804 L76.2594 675.804 Q80.6199 675.804 81.8613 674.626 Q83.1026 673.417 83.1026 669.757 L83.1026 663.741 L88.0042 663.741 L88.0042 669.757 Q88.0042 676.536 85.4897 679.114 Q82.9434 681.692 76.2594 681.692 L56.9077 681.692 L56.9077 685.989 L52.3562 685.989 L52.3562 681.692 L42.2347 681.692 L42.2347 675.804 Z\" fill=\"#000000\" fill-rule=\"evenodd\" fill-opacity=\"1\" /><path clip-path=\"url(#clip540)\" d=\"M 0 0 M57.8307 636.941 Q57.2578 637.928 57.0032 639.106 Q56.7167 640.252 56.7167 641.652 Q56.7167 646.617 59.9632 649.291 Q63.1779 651.933 69.2253 651.933 L88.0042 651.933 L88.0042 657.821 L52.3562 657.821 L52.3562 651.933 L57.8944 651.933 Q54.6479 650.087 53.0883 647.127 Q51.4968 644.166 51.4968 639.933 Q51.4968 639.329 51.5923 638.596 Q51.656 637.864 51.8151 636.973 L57.8307 636.941 Z\" fill=\"#000000\" fill-rule=\"evenodd\" fill-opacity=\"1\" /><path clip-path=\"url(#clip540)\" d=\"M 0 0 M56.4621 618.417 Q56.4621 623.128 60.1542 625.865 Q63.8145 628.602 70.212 628.602 Q76.6095 628.602 80.3017 625.897 Q83.9619 623.16 83.9619 618.417 Q83.9619 613.738 80.2698 611.001 Q76.5777 608.264 70.212 608.264 Q63.8781 608.264 60.186 611.001 Q56.4621 613.738 56.4621 618.417 M51.4968 618.417 Q51.4968 610.778 56.4621 606.418 Q61.4273 602.057 70.212 602.057 Q78.9649 602.057 83.9619 606.418 Q88.9272 610.778 88.9272 618.417 Q88.9272 626.088 83.9619 630.448 Q78.9649 634.777 70.212 634.777 Q61.4273 634.777 56.4621 630.448 Q51.4968 626.088 51.4968 618.417 Z\" fill=\"#000000\" fill-rule=\"evenodd\" fill-opacity=\"1\" /><path clip-path=\"url(#clip540)\" d=\"M 0 0 M82.657 590.249 L101.563 590.249 L101.563 596.137 L52.3562 596.137 L52.3562 590.249 L57.7671 590.249 Q54.5842 588.403 53.0564 585.602 Q51.4968 582.769 51.4968 578.854 Q51.4968 572.361 56.6531 568.319 Q61.8093 564.245 70.212 564.245 Q78.6147 564.245 83.771 568.319 Q88.9272 572.361 88.9272 578.854 Q88.9272 582.769 87.3994 585.602 Q85.8398 588.403 82.657 590.249 M70.212 570.324 Q63.7508 570.324 60.0905 572.998 Q56.3984 575.64 56.3984 580.287 Q56.3984 584.934 60.0905 587.607 Q63.7508 590.249 70.212 590.249 Q76.6732 590.249 80.3653 587.607 Q84.0256 584.934 84.0256 580.287 Q84.0256 575.64 80.3653 572.998 Q76.6732 570.324 70.212 570.324 Z\" fill=\"#000000\" fill-rule=\"evenodd\" fill-opacity=\"1\" /><path clip-path=\"url(#clip540)\" d=\"M 0 0 M91.3143 543.27 Q97.68 545.753 99.6216 548.108 Q101.563 550.463 101.563 554.41 L101.563 559.089 L96.6615 559.089 L96.6615 555.651 Q96.6615 553.232 95.5157 551.896 Q94.3699 550.559 90.1048 548.935 L87.4312 547.885 L52.3562 562.303 L52.3562 556.097 L80.238 544.957 L52.3562 533.817 L52.3562 527.61 L91.3143 543.27 Z\" fill=\"#000000\" fill-rule=\"evenodd\" fill-opacity=\"1\" /><polyline clip-path=\"url(#clip542)\" style=\"stroke:#009af9; stroke-width:8; stroke-opacity:1; fill:none\" points=\"\n",
       "  349.217,1384.24 350.19,1294.4 351.163,1245.07 352.136,1149.56 353.109,1118.84 354.082,1124.09 355.055,1276.5 356.028,1087.19 357.001,1099.08 357.974,1152.19 \n",
       "  358.948,1132.82 359.921,1129.13 360.894,1336.57 361.867,1214.71 362.84,1283.63 363.813,1280.56 364.786,1292.73 365.759,1230.14 366.732,1240.67 367.705,1263.32 \n",
       "  368.678,1273.28 369.651,1235.74 370.624,1225.99 371.598,1277.08 372.571,1271.25 373.544,1283.18 374.517,1137.5 375.49,1288.31 376.463,1264.79 377.436,1299 \n",
       "  378.409,1270.49 379.382,1241.07 381.328,1264.31 382.301,1275.73 383.275,1272.01 385.221,1251.82 386.194,1191.07 388.14,1209.31 389.113,1258.98 391.059,1241.45 \n",
       "  393.005,1157.5 393.978,1233.5 395.925,1139.61 397.871,1152.48 399.817,1204.29 401.763,1241.99 403.709,1171.36 406.628,1154.42 408.575,1261.24 410.521,1192.65 \n",
       "  413.44,1184.37 415.386,1108.61 418.305,1170.1 421.225,1130.91 424.144,1189.54 427.063,1136.18 429.982,1134.45 432.902,1189.45 436.794,1164.98 439.713,1131.84 \n",
       "  443.605,1145.06 447.498,1124.2 451.39,1099.34 455.282,1137.25 459.175,1137.58 463.067,1125.03 467.932,1119.37 472.798,1104.47 477.663,1160.39 482.528,1135.89 \n",
       "  487.394,1150.51 493.232,1234.22 499.071,1046.63 504.909,1128.76 510.748,1149.48 517.559,1100.6 523.398,1147.27 530.209,1152.03 537.994,1191.75 544.806,1151.4 \n",
       "  552.59,1132.98 560.375,1127.33 569.132,1092.17 577.89,1155.05 586.648,1164.4 595.406,1191.28 605.136,1143.05 614.867,1173.65 625.571,1189.86 636.275,1192.25 \n",
       "  647.952,1156.06 659.629,1105.97 671.306,1121.7 683.956,1137.01 697.579,1133.04 711.202,1126.02 724.825,1028.33 739.421,1066.3 754.99,1047.83 770.56,1077.37 \n",
       "  787.102,1073.47 803.644,1094.85 822.133,1064.61 840.621,1093.88 859.11,1042.7 879.544,1091.7 899.979,1071.9 921.387,1116.11 943.768,1045.88 967.122,1109.93 \n",
       "  991.448,1041 1015.78,1066.03 1042.05,1027.62 1069.29,1106.37 1097.51,1100.59 1126.71,1056.87 1156.87,1132.09 1188.01,1108.42 1221.09,1170.38 1255.15,1101.49 \n",
       "  1290.18,1100.32 1327.16,1072.6 1365.11,1041.51 1404.03,1039.17 1445.88,1069.24 1488.69,1000.83 1532.48,1077.99 1579.19,1055.31 1626.87,1060.73 1676.5,1054.12 \n",
       "  1728.07,988.598 1781.59,1120.98 1838.03,955.871 1895.44,1027.24 1955.77,1064.7 2019.02,1044.97 2083.24,1055.08 2151.36,995.185 2221.42,1005.5 2294.4,1062.68 \n",
       "  \n",
       "  \"/>\n",
       "<polyline clip-path=\"url(#clip542)\" style=\"stroke:#e26f46; stroke-width:8; stroke-opacity:1; fill:none\" points=\"\n",
       "  349.217,86.1857 350.19,308.298 351.163,369.159 352.136,404.807 353.109,349.372 354.082,301.386 355.055,413.963 356.028,351.709 357.001,407.968 357.974,405.571 \n",
       "  358.948,389.966 359.921,415.683 360.894,424.013 361.867,419.453 362.84,409.486 363.813,432.951 364.786,425.104 365.759,407.022 366.732,420.296 367.705,432.984 \n",
       "  368.678,439.988 369.651,396.818 370.624,444.79 371.598,426.304 372.571,462.415 373.544,462.326 374.517,463.407 375.49,434.373 376.463,466.863 377.436,411.963 \n",
       "  378.409,461.036 379.382,449.436 380.355,451.803 381.328,459.677 382.301,463.113 383.275,475.596 384.248,438.192 385.221,464.045 386.194,461.869 387.167,417.019 \n",
       "  388.14,424.906 389.113,403.967 390.086,445.005 391.059,490.291 392.032,363.839 393.005,411.645 393.978,484.022 394.951,462.643 395.925,413.272 396.898,413.127 \n",
       "  397.871,485.493 398.844,461.006 399.817,482.656 400.79,357.176 401.763,465.699 402.736,488.178 403.709,480.821 404.682,474.779 405.655,436.251 406.628,462.752 \n",
       "  407.601,410.653 408.575,423.471 409.548,449.459 410.521,429.965 411.494,466.357 412.467,490.506 413.44,442.025 414.413,467.051 415.386,331.637 416.359,440.425 \n",
       "  417.332,484.812 418.305,466.152 419.278,523.469 420.251,498.538 421.225,491.085 422.198,510.268 423.171,515.731 424.144,444.158 425.117,493.833 426.09,502.292 \n",
       "  427.063,508.184 428.036,482.782 429.009,517.883 429.982,522 430.955,513.485 431.928,544.771 432.902,476.039 433.875,449.872 434.848,510.585 435.821,515.36 \n",
       "  436.794,546.057 437.767,523.882 438.74,549.252 439.713,558.812 440.686,566.956 441.659,575.253 442.632,589.608 443.605,591.516 444.578,520.251 445.552,578.563 \n",
       "  446.525,520.403 447.498,550.135 448.471,559.529 449.444,529.322 450.417,591.44 451.39,550.009 452.363,583.61 453.336,601.866 454.309,572.856 455.282,609.188 \n",
       "  456.255,603.249 457.228,605.203 458.202,588.404 459.175,611.635 460.148,602.445 461.121,579.674 462.094,622.637 463.067,617.177 464.04,596.156 465.013,615.047 \n",
       "  465.986,627.054 466.959,595.018 467.932,618.645 468.905,612.878 469.878,625.136 470.852,664.633 471.825,651.707 472.798,636.995 473.771,648.327 474.744,651.951 \n",
       "  475.717,669.233 476.69,637.14 477.663,645.986 478.636,621.912 479.609,650.645 480.582,640.173 481.555,653.707 482.528,675.83 483.502,655.923 484.475,565.637 \n",
       "  485.448,678.135 486.421,667.067 487.394,674.54 488.367,673.704 489.34,629.012 490.313,631.839 491.286,623.03 492.259,674.448 493.232,675.281 494.205,661.409 \n",
       "  495.179,652.709 496.152,659.451 497.125,639.075 498.098,651.789 499.071,589.912 500.044,554.063 501.017,697.777 501.99,701.974 502.963,611.374 503.936,647.914 \n",
       "  504.909,698.25 505.882,659.742 506.855,575.812 507.829,627.035 508.802,634.581 509.775,667.702 510.748,642.378 511.721,625.874 512.694,629.792 513.667,624.72 \n",
       "  514.64,675.555 515.613,723.679 516.586,690.198 517.559,644.898 518.532,667.404 519.505,631.509 520.479,672.288 521.452,681.237 522.425,713.147 523.398,673.475 \n",
       "  524.371,736.629 525.344,661.601 526.317,626.016 527.29,691.283 528.263,640.401 529.236,674.957 530.209,721.656 531.182,727.119 532.155,725.597 533.129,674.12 \n",
       "  534.102,730.789 535.075,743.709 536.048,726.841 537.021,748.044 537.994,677.01 538.967,698.905 539.94,623.943 540.913,705.155 541.886,726.295 542.859,697.192 \n",
       "  543.832,669.299 544.806,727.648 545.779,729.453 546.752,654.944 547.725,533.568 548.698,653.006 549.671,709.146 550.644,745.534 551.617,701.494 552.59,733.061 \n",
       "  553.563,718.197 554.536,749.84 555.509,736.837 556.482,704.03 557.456,706.441 558.429,724.179 559.402,727.234 560.375,704.53 561.348,763.907 562.321,732.178 \n",
       "  563.294,676.762 564.267,745.008 565.24,687.271 566.213,700.545 567.186,628.953 568.159,710.145 569.132,740.994 570.106,683.442 571.079,686.289 572.052,687.741 \n",
       "  573.025,711.09 573.998,716.712 574.971,740.786 575.944,753.1 576.917,713.716 577.89,668.188 578.863,782.488 579.836,791.277 580.809,776.38 581.782,680.112 \n",
       "  582.756,712.039 583.729,628.767 584.702,654.908 585.675,713.23 586.648,717.182 587.621,688.472 588.594,665.562 589.567,699.669 590.54,699.229 591.513,688.862 \n",
       "  592.486,613.384 593.459,691.068 594.433,693.075 595.406,736.02 596.379,656.055 597.352,752.34 598.325,709.771 599.298,729.943 600.271,755.825 601.244,777.865 \n",
       "  602.217,764.882 603.19,767.025 604.163,742.694 605.136,690.519 606.109,695.932 607.083,655.847 608.056,774.542 609.029,807.487 610.002,728.583 610.975,781.962 \n",
       "  611.948,737.7 612.921,733.755 613.894,801.36 614.867,751.189 615.84,808.631 616.813,775.808 617.786,767.491 618.759,794.832 619.733,796.069 620.706,748.821 \n",
       "  621.679,708.918 622.652,733.349 623.625,838.141 624.598,818.152 625.571,755.994 626.544,757.462 627.517,749.096 628.49,791.059 629.463,800.242 630.436,808.37 \n",
       "  631.409,830.255 632.383,796.178 633.356,771.04 634.329,714.94 635.302,777.395 636.275,730.065 637.248,816.293 638.221,794.581 639.194,693.042 640.167,742.621 \n",
       "  641.14,822.758 642.113,811.188 643.086,808.81 644.06,834.835 645.033,824.951 646.006,863.412 646.979,751.582 647.952,833.115 648.925,804.534 649.898,760.385 \n",
       "  650.871,757.974 651.844,825.675 652.817,765.471 653.79,819.124 654.763,840.665 655.736,760.511 656.71,777.025 657.683,807.282 658.656,848.313 659.629,791.777 \n",
       "  660.602,807.891 661.575,822.728 662.548,773.973 663.521,836.908 664.494,831.551 665.467,840.066 666.44,814.187 667.413,854.355 668.386,832.735 669.36,816.69 \n",
       "  670.333,805.566 671.306,826.366 672.279,840.886 673.252,825.437 674.225,821.062 675.198,759.641 676.171,850.602 677.144,852.248 678.117,817.299 679.09,836.462 \n",
       "  680.063,830.036 681.036,852.4 682.01,829.402 682.983,839.279 683.956,798 684.929,852.099 685.902,854.391 686.875,826.277 687.848,799.964 688.821,792.124 \n",
       "  689.794,828.056 690.767,788.989 691.74,763.027 692.713,886.318 693.687,819.24 694.66,827.047 695.633,831.931 696.606,814.322 697.579,749.727 698.552,813.688 \n",
       "  699.525,818.42 700.498,851.564 701.471,816.359 702.444,870.833 703.417,832.073 704.39,795.669 705.363,851.475 706.337,846.623 707.31,882.926 708.283,797.838 \n",
       "  709.256,839.167 710.229,801.571 711.202,784.148 712.175,833.79 713.148,918.041 714.121,886.851 715.094,897.925 716.067,881.246 717.04,858.677 718.013,887.988 \n",
       "  718.987,651.088 719.96,843.284 720.933,880.432 721.906,896.996 722.879,807.798 723.852,862.056 724.825,903.008 725.798,872.016 726.771,887.754 727.744,918.361 \n",
       "  728.717,863.303 729.69,921.943 730.663,894.797 731.637,889.004 732.61,877.605 733.583,902.737 734.556,927.759 735.529,878.987 736.502,836.934 737.475,844.775 \n",
       "  738.448,929.618 739.421,853.029 740.394,879.338 741.367,871.067 742.34,893.061 743.313,896.381 744.287,927.23 745.26,884.906 746.233,873.012 747.206,916.47 \n",
       "  748.179,848.627 749.152,831.068 750.125,857.466 751.098,880.693 752.071,901.768 753.044,858.578 754.017,854.834 754.99,755.306 755.964,833.76 756.937,950.722 \n",
       "  757.91,934.588 758.883,926.9 759.856,845.582 760.829,967.828 761.802,906.996 762.775,919.178 763.748,917.353 764.721,932.766 765.694,932.687 766.667,864.371 \n",
       "  767.64,822.219 768.614,960.371 769.587,838.294 770.56,898.246 771.533,931.129 772.506,887.327 773.479,956.704 774.452,927.263 775.425,972.176 776.398,937.6 \n",
       "  777.371,915.256 778.344,902.542 779.317,924.806 780.29,877.403 781.264,948.219 782.237,891.05 783.21,938.688 784.183,953.146 785.156,919.631 786.129,891.322 \n",
       "  787.102,873.101 788.075,928.242 789.048,895.376 790.021,958.84 790.994,936.906 791.967,888.441 792.94,891.92 793.914,940.12 794.887,950.299 795.86,946.823 \n",
       "  796.833,903.077 797.806,948.926 798.779,951.76 799.752,936.539 800.725,945.378 801.698,935.223 802.671,977.097 803.644,936.016 804.617,945.811 805.591,931.205 \n",
       "  806.564,807.163 807.537,902.704 808.51,869.507 809.483,884.44 810.456,846.832 811.429,892.013 812.402,915.875 813.375,916.199 814.348,898.263 815.321,951.826 \n",
       "  816.294,954.498 817.267,949.237 818.241,948.298 819.214,838.925 820.187,844.034 821.16,903.067 822.133,905.65 823.106,960.778 824.079,898.279 825.052,943.265 \n",
       "  826.025,909.053 826.998,896.153 827.971,836.3 828.944,896.851 829.917,933.669 830.891,929.128 831.864,938.913 832.837,862.225 833.81,930.497 834.783,947.418 \n",
       "  835.756,945.768 836.729,885.442 837.702,910.303 838.675,943.473 839.648,890.449 840.621,855.84 841.594,862.066 842.567,923.46 843.541,937.554 844.514,924.175 \n",
       "  845.487,841.514 846.46,845.946 847.433,857.549 848.406,856.498 849.379,845.502 850.352,916.81 851.325,952.911 852.298,940.732 853.271,951.83 854.244,836.584 \n",
       "  855.218,910.27 856.191,858.458 857.164,944.925 858.137,963.698 859.11,809.743 860.083,852.648 861.056,904.946 862.029,954.647 863.002,943.063 863.975,869.034 \n",
       "  864.948,971.78 865.921,891.96 866.894,881.652 867.868,893.478 868.841,943.258 869.814,884.351 870.787,930.415 871.76,945.302 872.733,868.068 873.706,971.829 \n",
       "  874.679,941.228 875.652,979.031 876.625,894.192 877.598,903.484 878.571,825.404 879.544,931.774 880.518,913.537 881.491,910.174 882.464,926.463 883.437,936.215 \n",
       "  884.41,946.542 885.383,810.986 886.356,964.425 887.329,917.941 888.302,937.607 889.275,876.881 890.248,920.081 891.221,884.533 892.194,901.943 893.168,937.891 \n",
       "  894.141,857.562 895.114,904.321 896.087,972.471 897.06,964.941 898.033,889.771 899.006,896.497 899.979,979.888 900.952,972.428 901.925,959.908 902.898,902.254 \n",
       "  903.871,811.049 904.845,927.521 905.818,914.129 906.791,964.392 907.764,962.927 908.737,787.994 909.71,901.136 910.683,989.785 911.656,963.661 912.629,944.823 \n",
       "  913.602,967.087 914.575,944.902 915.548,955.305 916.521,958.969 917.495,927.339 918.468,863.617 919.441,817.824 920.414,921.582 921.387,794.905 922.36,932.508 \n",
       "  923.333,909.612 924.306,917.465 925.279,910.316 926.252,856.623 927.225,949.138 928.198,956.142 929.171,972.319 930.145,934.902 931.118,938.731 932.091,974.845 \n",
       "  933.064,934.115 934.037,912.287 935.01,975.334 935.983,887.039 936.956,929.231 937.929,959.237 938.902,950.368 939.875,965.745 940.848,968.833 941.821,916.87 \n",
       "  942.795,992.15 943.768,903.755 944.741,963.863 945.714,979.623 946.687,970.12 947.66,971.022 948.633,937.865 949.606,972.481 950.579,963.513 951.552,950.821 \n",
       "  952.525,983.36 953.498,948.721 954.472,964.653 955.445,926.132 956.418,934.819 957.391,961.757 958.364,909.721 959.337,942.256 960.31,946.631 961.283,930.101 \n",
       "  962.256,892.142 963.229,918.156 964.202,929.935 965.175,961.522 966.148,941.949 967.122,902.472 968.095,973.516 969.068,924.591 970.041,954.039 971.014,888.901 \n",
       "  971.987,899.985 972.96,955.262 973.933,982.986 974.906,970.007 975.879,989.263 976.852,976.839 977.825,899.893 978.798,853.647 979.772,916.08 980.745,866.769 \n",
       "  981.718,945.778 982.691,906.295 983.664,955.08 984.637,949.849 985.61,898.444 986.583,993.843 987.556,959.845 988.529,838.509 989.502,938.622 990.475,996.505 \n",
       "  991.448,973.691 992.422,962.977 993.395,815.331 994.368,936.42 995.341,911.424 996.314,994.858 997.287,955.775 998.26,970.566 999.233,913.295 1000.21,866.13 \n",
       "  1001.18,920.508 1002.15,909.033 1003.13,936.658 1004.1,921.711 1005.07,958.01 1006.04,930.11 1007.02,900.637 1007.99,951.806 1008.96,954.994 1009.94,938.163 \n",
       "  1010.91,957.339 1011.88,925.412 1012.86,964.111 1013.83,970.721 1014.8,855.211 1015.78,965.821 1016.75,894.311 1017.72,994.524 1018.69,946.936 1019.67,937.839 \n",
       "  1020.64,971.366 1021.61,972.997 1022.59,1003.91 1023.56,917.518 1024.53,975.619 1025.51,1007.87 1026.48,867.169 1027.45,960.54 1028.43,983.724 1029.4,959.439 \n",
       "  1030.37,961.188 1031.34,954.263 1032.32,954.115 1033.29,990.156 1034.26,998.843 1035.24,897.836 1036.21,915.723 1037.18,976.677 1038.16,963.651 1039.13,979.303 \n",
       "  1040.1,920.736 1041.08,928.189 1042.05,929.502 1043.02,981.102 1043.99,995.612 1044.97,996.806 1045.94,989.636 1046.91,947.18 1047.89,920.851 1048.86,961.777 \n",
       "  1049.83,917.207 1050.81,899.823 1051.78,639.934 1052.75,771.876 1053.73,777.227 1054.7,932.7 1055.67,989.035 1056.64,990.817 1057.62,974.749 1058.59,980.791 \n",
       "  1059.56,983.82 1060.54,942.147 1061.51,973.162 1062.48,971.33 1063.46,919.287 1064.43,986.029 1065.4,904.618 1066.38,922.683 1067.35,991.544 1068.32,998.485 \n",
       "  1069.29,998.558 1070.27,993.472 1071.24,913.977 1072.21,886.143 1073.19,821.095 1074.16,955.355 1075.13,955.861 1076.11,1010.21 1077.08,997.894 1078.05,970.216 \n",
       "  1079.03,958.152 1080,967.593 1080.97,983.185 1081.94,931.642 1082.92,923.728 1083.89,946 1084.86,798.02 1085.84,880.561 1086.81,962.616 1087.78,987.209 \n",
       "  1088.76,980.305 1089.73,982.864 1090.7,1008.65 1091.68,1007.81 1092.65,961.572 1093.62,923.252 1094.59,1010.36 1095.57,1015.9 1096.54,1002.67 1097.51,967.15 \n",
       "  1098.49,1018.57 1099.46,1010.25 1100.43,1005.42 1101.41,849.735 1102.38,988.906 1103.35,997.351 1104.33,938.801 1105.3,961.605 1106.27,980.159 1107.24,969.28 \n",
       "  1108.22,1006.4 1109.19,990.605 1110.16,976.326 1111.14,957.097 1112.11,956.552 1113.08,934.416 1114.06,906.778 1115.03,871.901 1116,910.23 1116.98,944.188 \n",
       "  1117.95,932.005 1118.92,912.961 1119.89,980.225 1120.87,1011.26 1121.84,944.254 1122.81,984.372 1123.79,959.488 1124.76,811.297 1125.73,968.294 1126.71,902.353 \n",
       "  1127.68,927.164 1128.65,866.901 1129.63,911.291 1130.6,921.625 1131.57,921.648 1132.54,887.681 1133.52,982.791 1134.49,991.819 1135.46,968.701 1136.44,915.055 \n",
       "  1137.41,965.794 1138.38,936.714 1139.36,974.561 1140.33,899.112 1141.3,916.943 1142.28,858.561 1143.25,887.453 1144.22,1002.28 1145.19,991.677 1146.17,974.709 \n",
       "  1147.14,1002.91 1148.11,964.782 1149.09,958.513 1150.06,981.948 1151.03,864.963 1152.01,891.252 1152.98,887.826 1153.95,830.116 1154.93,862.235 1155.9,962.927 \n",
       "  1156.87,969.673 1157.84,1007.99 1158.82,864.312 1159.79,868.197 1160.76,840.995 1161.74,911.956 1162.71,927.663 1163.68,966.476 1164.66,978.598 1165.63,912.555 \n",
       "  1166.6,902.528 1167.58,964.931 1168.55,948.844 1169.52,935.639 1170.49,925.488 1171.47,870.581 1172.44,917.402 1173.41,976.042 1174.39,926.886 1175.36,914.34 \n",
       "  1176.33,795.222 1177.31,876.818 1178.28,916.675 1179.25,943.685 1180.23,953.741 1181.2,908.391 1182.17,941.205 1183.14,933.513 1184.12,905.557 1185.09,977.034 \n",
       "  1186.06,972.643 1187.04,985.728 1188.01,898.233 1188.98,972.362 1189.96,950.514 1190.93,968.522 1191.9,963.982 1192.88,967.272 1193.85,954.462 1194.82,948.043 \n",
       "  1195.79,959.124 1196.77,995.985 1197.74,965.748 1198.71,901.083 1199.69,895.237 1200.66,953.943 1201.63,973.248 1202.61,903.851 1203.58,971.895 1204.55,984.342 \n",
       "  1205.53,984.296 1206.5,996.561 1207.47,970.487 1208.44,896.067 1209.42,881.56 1210.39,929.823 1211.36,964.875 1212.34,950.672 1213.31,965.576 1214.28,956.433 \n",
       "  1215.26,965.242 1216.23,969.356 1217.2,995.509 1218.18,998.062 1219.15,959.574 1220.12,898.144 1221.09,978.969 1222.07,942.157 1223.04,983.145 1224.01,990.344 \n",
       "  1224.99,986.941 1225.96,928.741 1226.93,978.354 1227.91,949.776 1228.88,942.405 1229.85,979.369 1230.83,957.326 1231.8,1007.29 1232.77,972.927 1233.74,993.443 \n",
       "  1234.72,954.025 1235.69,967.349 1236.66,990.103 1237.64,909.549 1238.61,949.862 1239.58,897.575 1240.56,934.694 1241.53,926.493 1242.5,951.998 1243.48,916.625 \n",
       "  1244.45,971.677 1245.42,953.013 1246.4,935.831 1247.37,1010.3 1248.34,954.045 1249.31,957.729 1250.29,977.018 1251.26,962.977 1252.23,981.905 1253.21,982.328 \n",
       "  1254.18,971.211 1255.15,1007.2 1256.13,986.713 1257.1,955.89 1258.07,863.343 1259.05,929.347 1260.02,984.266 1260.99,896.745 1261.96,1018.34 1262.94,993.393 \n",
       "  1263.91,1020.16 1264.88,984.402 1265.86,1015.67 1266.83,1001.84 1267.8,995.661 1268.78,1017.97 1269.75,934.545 1270.72,914.912 1271.7,905.303 1272.67,860.929 \n",
       "  1273.64,929.677 1274.61,964.366 1275.59,910.706 1276.56,969.779 1277.53,916.033 1278.51,831.062 1279.48,775.411 1280.45,897.482 1281.43,906.526 1282.4,948.556 \n",
       "  1283.37,955.752 1284.35,970.635 1285.32,952.372 1286.29,936.066 1287.26,942.828 1288.24,907.287 1289.21,960.004 1290.18,971.257 1291.16,926.215 1292.13,959.042 \n",
       "  1293.1,853.221 1294.08,975.53 1295.05,952.713 1296.02,971.092 1297,951.476 1297.97,925.954 1298.94,939.389 1299.91,939.71 1300.89,958.324 1301.86,958.38 \n",
       "  1302.83,993.109 1303.81,982.216 1304.78,951.463 1305.75,1010.12 1306.73,977.471 1307.7,1005.08 1308.67,976.158 1309.65,893.822 1310.62,967.666 1311.59,980.473 \n",
       "  1312.56,950.722 1313.54,982.444 1314.51,1011.98 1315.48,1019.11 1316.46,980.43 1317.43,1017.03 1318.4,994.474 1319.38,997.153 1320.35,987.044 1321.32,1036.68 \n",
       "  1322.3,940.527 1323.27,1007.9 1324.24,1005.63 1325.21,1022.26 1326.19,939.495 1327.16,1017.99 1328.13,1022.88 1329.11,994.765 1330.08,1007.23 1331.05,1025.69 \n",
       "  1332.03,998.77 1333,861.686 1333.97,985.652 1334.95,1011.69 1335.92,1019.11 1336.89,1029.31 1337.86,927.058 1338.84,988.393 1339.81,988.879 1340.78,971.922 \n",
       "  1341.76,935.057 1342.73,880.287 1343.7,1013.83 1344.68,1011.01 1345.65,1035.4 1346.62,1036.56 1347.6,1001.29 1348.57,1015.18 1349.54,983.115 1350.51,999.729 \n",
       "  1351.49,887.73 1352.46,961.231 1353.43,884.434 1354.41,1006.36 1355.38,985.189 1356.35,991.081 1357.33,1015.24 1358.3,1011.54 1359.27,1020.99 1360.25,1024.42 \n",
       "  1361.22,1042.77 1362.19,1007.86 1363.16,1025.32 1364.14,1002.9 1365.11,1029.83 1366.08,947.518 1367.06,1015.65 1368.03,1057.23 1369,1041.64 1369.98,1056.92 \n",
       "  1370.95,979.997 1371.92,965.798 1372.9,1000.68 1373.87,945.421 1374.84,977.014 1375.81,979.594 1376.79,1017.32 1377.76,1043.69 1378.73,1012.31 1379.71,1038.77 \n",
       "  1380.68,910.759 1381.65,997.91 1382.63,1015.48 1383.6,1003.74 1384.57,992.771 1385.55,1019.73 1386.52,991.343 1387.49,1023.37 1388.46,943.182 1389.44,986.429 \n",
       "  1390.41,1016.88 1391.38,971.717 1392.36,967.514 1393.33,1055.63 1394.3,1013.99 1395.28,1054.1 1396.25,965.652 1397.22,997.13 1398.2,867.708 1399.17,962.097 \n",
       "  1400.14,909.949 1401.11,982.659 1402.09,1020.59 1403.06,1037.42 1404.03,918.748 1405.01,1012.63 1405.98,1051.8 1406.95,1010.65 1407.93,999.957 1408.9,1057.38 \n",
       "  1409.87,1020.63 1410.85,1030.16 1411.82,974.726 1412.79,984.164 1413.76,1021.84 1414.74,1015.96 1415.71,1029.81 1416.68,1002.95 1417.66,879.453 1418.63,1016.22 \n",
       "  1419.6,1043.11 1420.58,1043.46 1421.55,1030.83 1422.52,1033.52 1423.5,1016.39 1424.47,976.462 1425.44,920.329 1426.41,1001.69 1427.39,1040.22 1428.36,1012.48 \n",
       "  1429.33,975.708 1430.31,979.537 1431.28,1007.76 1432.25,1019.26 1433.23,1023.16 1434.2,1029.21 1435.17,1013.62 1436.15,1022.94 1437.12,1050.64 1438.09,1031.15 \n",
       "  1439.06,1022.66 1440.04,1020.78 1441.01,1016.55 1441.98,988.856 1442.96,1055.42 1443.93,1023.03 1444.9,1017.26 1445.88,969.379 1446.85,878.802 1447.82,1065.06 \n",
       "  1448.8,1010.81 1449.77,1017.81 1450.74,936.903 1451.71,978.866 1452.69,955.437 1453.66,1020.25 1454.63,1050.89 1455.61,975.414 1456.58,1022.92 1457.55,1004.2 \n",
       "  1458.53,962.917 1459.5,975.047 1460.47,945.643 1461.45,990.784 1462.42,957.812 1463.39,1021.97 1464.36,996.683 1465.34,1032.21 1466.31,973.648 1467.28,997.599 \n",
       "  1468.26,951.301 1469.23,986.211 1470.2,1002.51 1471.18,985.248 1472.15,1026.01 1473.12,1044.19 1474.1,1025.69 1475.07,1011.98 1476.04,983.813 1477.01,1013.91 \n",
       "  1477.99,1029.9 1478.96,872.202 1479.93,1018.91 1480.91,1019.67 1481.88,1029.29 1482.85,1042.61 1483.83,999.722 1484.8,1001.97 1485.77,1051.42 1486.75,1059.27 \n",
       "  1487.72,1050.86 1488.69,1020.82 1489.66,989.018 1490.64,1009.21 1491.61,1048.75 1492.58,1068.73 1493.56,1064.43 1494.53,1073.13 1495.5,945.656 1496.48,1041.75 \n",
       "  1497.45,1050.88 1498.42,1052.97 1499.4,954.465 1500.37,890.687 1501.34,994.213 1502.31,935.008 1503.29,996.078 1504.26,1018.66 1505.23,1049.41 1506.21,978.81 \n",
       "  1507.18,1060.57 1508.15,1072.6 1509.13,1042.44 1510.1,1063.45 1511.07,1075.08 1512.05,1075.46 1513.02,1075.54 1513.99,1075.58 1514.96,1075.59 1515.94,1075.61 \n",
       "  1516.91,1075.6 1517.88,1075.6 1518.86,1075.63 1519.83,1075.62 1520.8,1004.25 1521.78,852.281 1522.75,1004.84 1523.72,796.545 1524.7,1036.26 1525.67,1013.44 \n",
       "  1526.64,1001.72 1527.61,1019.76 1528.59,1044.39 1529.56,1065.61 1530.53,996.849 1531.51,893.831 1532.48,994.821 1533.45,1038.16 1534.43,935.401 1535.4,1038.07 \n",
       "  1536.37,1063.51 1537.35,1030.75 1538.32,956.882 1539.29,869.345 1540.26,1002.01 1541.24,1050.7 1542.21,1026.9 1543.18,984.617 1544.16,1020.66 1545.13,1013.3 \n",
       "  1546.1,1037.33 1547.08,1017.47 1548.05,993.208 1549.02,1050.1 1550,1021.69 1550.97,1066.2 1551.94,1075.42 1552.91,990.076 1553.89,885.763 1554.86,899.658 \n",
       "  1555.83,1052.46 1556.81,1053.41 1557.78,1062.26 1558.75,1012.26 1559.73,849.596 1560.7,997.474 1561.67,1046.51 1562.65,1062.04 1563.62,964.683 1564.59,976.571 \n",
       "  1565.56,1004.24 1566.54,1011.83 1567.51,1048.77 1568.48,933.725 1569.46,1027.45 1570.43,1012.14 1571.4,1040.28 1572.38,1060.89 1573.35,1069.12 1574.32,1047.49 \n",
       "  1575.3,1044.79 1576.27,1022.06 1577.24,1018.24 1578.21,1019.41 1579.19,1028.28 1580.16,888.795 1581.13,1052.92 1582.11,991.617 1583.08,1036.13 1584.05,1051.21 \n",
       "  1585.03,1061.56 1586,1066.35 1586.97,1015.35 1587.95,955.566 1588.92,975.034 1589.89,922.779 1590.86,973.876 1591.84,980.738 1592.81,935.504 1593.78,919.727 \n",
       "  1594.76,975.192 1595.73,968.446 1596.7,939.267 1597.68,961.648 1598.65,1014.64 1599.62,1033.91 1600.6,941.436 1601.57,975.635 1602.54,989.322 1603.51,1053.47 \n",
       "  1604.49,969.481 1605.46,998.717 1606.43,1044.91 1607.41,1010.79 1608.38,968.513 1609.35,902.34 1610.33,948.324 1611.3,989.438 1612.27,1022 1613.25,901.358 \n",
       "  1614.22,974.544 1615.19,916.361 1616.16,1036.32 1617.14,1018.38 1618.11,955.88 1619.08,1020.61 1620.06,1040.71 1621.03,1031.29 1622,1044.21 1622.98,1051.18 \n",
       "  1623.95,1041.04 1624.92,1014.99 1625.9,855.029 1626.87,948.916 1627.84,913.391 1628.81,897.241 1629.79,878.987 1630.76,936.387 1631.73,897.032 1632.71,923.702 \n",
       "  1633.68,813.026 1634.65,972.299 1635.63,938.087 1636.6,1017.88 1637.57,967.775 1638.55,982.434 1639.52,997.596 1640.49,1034.43 1641.46,976.052 1642.44,1033.15 \n",
       "  1643.41,1053.02 1644.38,1060.37 1645.36,899.969 1646.33,867.668 1647.3,947.144 1648.28,960.665 1649.25,984.055 1650.22,1001.41 1651.2,1022.41 1652.17,890.912 \n",
       "  1653.14,882.535 1654.11,952.157 1655.09,1022.1 1656.06,1007.36 1657.03,1006.21 1658.01,938.917 1658.98,1012.5 1659.95,1031.48 1660.93,963.655 1661.9,980.543 \n",
       "  1662.87,928.57 1663.85,982.213 1664.82,1041.81 1665.79,1057 1666.76,951.678 1667.74,986.201 1668.71,1004.16 1669.68,946.654 1670.66,952.276 1671.63,900.346 \n",
       "  1672.6,1029.01 1673.58,1025.66 1674.55,1004.25 1675.52,1030.71 1676.5,935.372 1677.47,961.532 1678.44,1000.33 1679.41,1026.27 1680.39,975.487 1681.36,1059.95 \n",
       "  1682.33,1002.85 1683.31,1006.47 1684.28,1029.62 1685.25,1002.25 1686.23,1073.46 1687.2,1035.39 1688.17,987.907 1689.15,1026.92 1690.12,1021.89 1691.09,1063.9 \n",
       "  1692.06,1052.04 1693.04,1067.96 1694.01,1068.29 1694.98,1060.23 1695.96,989.19 1696.93,970.546 1697.9,1045.42 1698.88,1008.58 1699.85,1031.36 1700.82,1009.44 \n",
       "  1701.8,1006.46 1702.77,1020.46 1703.74,982.527 1704.71,1049.35 1705.69,894.986 1706.66,915.488 1707.63,1011.23 1708.61,1059.27 1709.58,1005.67 1710.55,1042.17 \n",
       "  1711.53,956.691 1712.5,1029.98 1713.47,1057.06 1714.45,1053.41 1715.42,1049.75 1716.39,944.799 1717.36,916.007 1718.34,1020.25 1719.31,932.534 1720.28,1035.9 \n",
       "  1721.26,973.053 1722.23,1033.37 1723.2,991.164 1724.18,1023.61 1725.15,1024.12 1726.12,1024.34 1727.1,1031.73 1728.07,1029.4 1729.04,992.877 1730.01,993.75 \n",
       "  1730.99,1014.11 1731.96,1053.71 1732.93,1020.82 1733.91,1012.93 1734.88,1018.09 1735.85,1025.18 1736.83,1032.42 1737.8,980.348 1738.77,1004.81 1739.75,990.953 \n",
       "  1740.72,965.348 1741.69,981.736 1742.66,971.452 1743.64,918.133 1744.61,930.395 1745.58,1022.12 1746.56,1021.54 1747.53,1040.05 1748.5,1067.87 1749.48,1023.18 \n",
       "  1750.45,947.068 1751.42,968.691 1752.4,1014.39 1753.37,1018.51 1754.34,1029.81 1755.31,1020.42 1756.29,931.896 1757.26,973.813 1758.23,941.767 1759.21,973.83 \n",
       "  1760.18,991.025 1761.15,1006.14 1762.13,1013.32 1763.1,990.903 1764.07,991.872 1765.05,1006.06 1766.02,1041.77 1766.99,1034.08 1767.97,1067.98 1768.94,1009.38 \n",
       "  1769.91,976.485 1770.88,1009.57 1771.86,1049.17 1772.83,1084.68 1773.8,991.32 1774.78,925.693 1775.75,958.731 1776.72,966.343 1777.7,1025.53 1778.67,1012.26 \n",
       "  1779.64,1020.31 1780.62,1053.93 1781.59,1001.2 1782.56,995.394 1783.53,1018.31 1784.51,959.181 1785.48,978.416 1786.45,1014.07 1787.43,1075.24 1788.4,984.603 \n",
       "  1789.37,1060.18 1790.35,1067.93 1791.32,1068.02 1792.29,1068.07 1793.27,1068.11 1794.24,1068.13 1795.21,1068.13 1796.18,1075.56 1797.16,952.613 1798.13,932.753 \n",
       "  1799.1,952.613 1800.08,978.449 1801.05,1016.73 1802.02,1004.75 1803,918.054 1803.97,924.056 1804.94,915.947 1805.92,994.802 1806.89,918.596 1807.86,986.25 \n",
       "  1808.83,1000.31 1809.81,1019.12 1810.78,1008.53 1811.75,963.685 1812.73,1041.38 1813.7,981.743 1814.67,992.027 1815.65,944.737 1816.62,960.603 1817.59,1008.45 \n",
       "  1818.57,1005.77 1819.54,1009.47 1820.51,917.799 1821.48,953.159 1822.46,1007.42 1823.43,1010.61 1824.4,1002.72 1825.38,1009.56 1826.35,996.144 1827.32,990.82 \n",
       "  1828.3,968.949 1829.27,1014.03 1830.24,989.795 1831.22,1000.2 1832.19,944.078 1833.16,973.588 1834.13,973.956 1835.11,963.863 1836.08,968.605 1837.05,979.663 \n",
       "  1838.03,1018.54 1839,989.097 1839.97,1011.06 1840.95,1036.87 1841.92,1043.7 1842.89,1020.83 1843.87,1020.46 1844.84,1038 1845.81,1059.49 1846.78,941.612 \n",
       "  1847.76,961.611 1848.73,1012.74 1849.7,1078.96 1850.68,1053.95 1851.65,1064.71 1852.62,985.844 1853.6,1035.16 1854.57,1061.47 1855.54,1022.45 1856.52,956.31 \n",
       "  1857.49,986.135 1858.46,1032.33 1859.43,1019.5 1860.41,1068.1 1861.38,1069.14 1862.35,1060.61 1863.33,1007.79 1864.3,1008.7 1865.27,977.563 1866.25,1020.74 \n",
       "  1867.22,1023.1 1868.19,1032.34 1869.17,930.683 1870.14,962.111 1871.11,1024.55 1872.08,975.321 1873.06,1013.5 1874.03,1048.78 1875,1019.51 1875.98,1024 \n",
       "  1876.95,986.204 1877.92,1051.1 1878.9,1047.14 1879.87,1075.39 1880.84,1075.53 1881.82,1060.52 1882.79,1009.31 1883.76,959.151 1884.73,979.124 1885.71,966.426 \n",
       "  1886.68,1051.52 1887.65,1008.77 1888.63,1014.25 1889.6,1045.97 1890.57,953.787 1891.55,1005.63 1892.52,1046.07 1893.49,1002.05 1894.47,1054.33 1895.44,1041.62 \n",
       "  1896.41,990.969 1897.38,1060 1898.36,1068.09 1899.33,1068.11 1900.3,1068.12 1901.28,1068.12 1902.25,1068.13 1903.22,1068.13 1904.2,1068.14 1905.17,1068.15 \n",
       "  1906.14,1068.15 1907.12,1068.15 1908.09,1068.16 1909.06,986.511 1910.03,893.074 1911.01,937.581 1911.98,924.582 1912.95,943.126 1913.93,918.229 1914.9,942.154 \n",
       "  1915.87,980.847 1916.85,1008.27 1917.82,1011.44 1918.79,1008.72 1919.77,1059.75 1920.74,1030.5 1921.71,1060.02 1922.68,979.686 1923.66,1034.78 1924.63,976.889 \n",
       "  1925.6,978.092 1926.58,905.369 1927.55,942.108 1928.52,947.392 1929.5,1032.06 1930.47,1031.14 1931.44,1074.95 1932.42,1075.35 1933.39,1075.41 1934.36,1075.47 \n",
       "  1935.33,1075.52 1936.31,1075.55 1937.28,1075.57 1938.25,1075.57 1939.23,1075.59 1940.2,1075.59 1941.17,1075.59 1942.15,1075.59 1943.12,1076.3 1944.09,1061.59 \n",
       "  1945.07,945.156 1946.04,975.953 1947.01,957.607 1947.98,996.376 1948.96,969.872 1949.93,989.815 1950.9,1010.69 1951.88,955.9 1952.85,1018.09 1953.82,1033.62 \n",
       "  1954.8,1034.21 1955.77,1060.73 1956.74,1061.32 1957.72,1048.27 1958.69,893.17 1959.66,779.469 1960.63,915.683 1961.61,1062.09 1962.58,1067.97 1963.55,1068.14 \n",
       "  1964.53,1068.19 1965.5,1024.05 1966.47,1013.4 1967.45,974.316 1968.42,1026.47 1969.39,1033.79 1970.37,910.759 1971.34,946.661 1972.31,1023.86 1973.28,999.63 \n",
       "  1974.26,991.898 1975.23,1000.62 1976.2,1027.09 1977.18,1052.95 1978.15,1005.82 1979.12,984.722 1980.1,989.491 1981.07,1035.72 1982.04,1047.07 1983.02,1031.54 \n",
       "  1983.99,1007.33 1984.96,986.578 1985.93,980.827 1986.91,955.427 1987.88,943.741 1988.85,1026.79 1989.83,1024.18 1990.8,1028.51 1991.77,981.326 1992.75,871.216 \n",
       "  1993.72,950.242 1994.69,1023.31 1995.67,1064.84 1996.64,1068.11 1997.61,1068.16 1998.58,1068.17 1999.56,1068.17 2000.53,1068.18 2001.5,1017 2002.48,867.017 \n",
       "  2003.45,975.612 2004.42,1008.63 2005.4,994.924 2006.37,913.378 2007.34,969.204 2008.32,971.241 2009.29,1010.87 2010.26,1003.65 2011.23,1013.84 2012.21,985.06 \n",
       "  2013.18,985.609 2014.15,985.562 2015.13,1009.39 2016.1,1049.62 2017.07,855.803 2018.05,1009.92 2019.02,1009.11 2019.99,1003.87 2020.97,1036.83 2021.94,978.648 \n",
       "  2022.91,1028.54 2023.88,974.957 2024.86,1038.11 2025.83,968.542 2026.8,1003.43 2027.78,959.462 2028.75,1003.72 2029.72,1030.61 2030.7,976.872 2031.67,987.649 \n",
       "  2032.64,886.881 2033.62,989.61 2034.59,959.072 2035.56,998.208 2036.53,1067.98 2037.51,1024.33 2038.48,1006.6 2039.45,1017.61 2040.43,1002.55 2041.4,983.172 \n",
       "  2042.37,950.791 2043.35,973.588 2044.32,1001.2 2045.29,1001.22 2046.27,1001.24 2047.24,1001.26 2048.21,1001.26 2049.18,1001.27 2050.16,1001.27 2051.13,1022.51 \n",
       "  2052.1,977.424 2053.08,700.948 2054.05,846.733 2055.02,803.304 2056,968.589 2056.97,985.767 2057.94,914.102 2058.92,985.291 2059.89,989.154 2060.86,967.276 \n",
       "  2061.83,1019.44 2062.81,927.072 2063.78,1051.55 2064.75,1002.39 2065.73,875.131 2066.7,951.449 2067.67,986.551 2068.65,1041.8 2069.62,1017.65 2070.59,1041.06 \n",
       "  2071.57,978.869 2072.54,923.474 2073.51,990.625 2074.48,1014.9 2075.46,981.588 2076.43,973.092 2077.4,1041.05 2078.38,954.816 2079.35,1015.12 2080.32,948.811 \n",
       "  2081.3,966.297 2082.27,1033.38 2083.24,950.335 2084.22,1009.89 2085.19,1035.31 2086.16,1031.3 2087.13,1033.71 2088.11,1037.09 2089.08,1007.67 2090.05,1035.93 \n",
       "  2091.03,1042.07 2092,1031.11 2092.97,947.726 2093.95,1014.48 2094.92,1069.37 2095.89,1068.91 2096.87,1069.37 2097.84,1069.55 2098.81,1069.45 2099.78,1010.3 \n",
       "  2100.76,950.206 2101.73,1001.55 2102.7,1050.43 2103.68,1010.02 2104.65,954.111 2105.62,1001.94 2106.6,1015.72 2107.57,1016.51 2108.54,898.395 2109.52,952.865 \n",
       "  2110.49,1021.43 2111.46,1032.03 2112.43,1032.51 2113.41,955.88 2114.38,1019.98 2115.35,1044.11 2116.33,1065.21 2117.3,1067.28 2118.27,1060.77 2119.25,999.444 \n",
       "  2120.22,967.864 2121.19,990.767 2122.17,982.064 2123.14,954.687 2124.11,936.397 2125.08,964.548 2126.06,937.104 2127.03,986.789 2128,1024.55 2128.98,1031.83 \n",
       "  2129.95,1018.25 2130.92,956.251 2131.9,1012.34 2132.87,1074.78 2133.84,1045.17 2134.82,978.125 2135.79,935.051 2136.76,988.092 2137.73,1036.4 2138.71,1011.22 \n",
       "  2139.68,1043.74 2140.65,1005.87 2141.63,987.996 2142.6,1013.29 2143.57,1023.92 2144.55,1052.54 2145.52,992.609 2146.49,909.519 2147.47,977.719 2148.44,977.077 \n",
       "  2149.41,1018.28 2150.38,957.378 2151.36,1005 2152.33,1034.61 2153.3,1036.54 2154.28,983.721 2155.25,970.06 2156.22,901.024 2157.2,890.925 2158.17,996.257 \n",
       "  2159.14,1054.08 2160.12,1061.84 2161.09,1021.01 2162.06,1059.96 2163.03,1001.56 2164.01,1020.84 2164.98,979.389 2165.95,960.007 2166.93,972.795 2167.9,1011.63 \n",
       "  2168.87,1025.47 2169.85,882.972 2170.82,951.869 2171.79,981.29 2172.77,1005.07 2173.74,980.318 2174.71,1052.95 2175.68,966.244 2176.66,1054.41 2177.63,1002.78 \n",
       "  2178.6,1000.05 2179.58,1059.99 2180.55,1060.47 2181.52,1060.63 2182.5,1060.64 2183.47,1068.07 2184.44,1068.13 2185.42,963.734 2186.39,900.405 2187.36,919.512 \n",
       "  2188.33,1050.69 2189.31,1012.66 2190.28,993.403 2191.25,1009.95 2192.23,1012.87 2193.2,993.988 2194.17,959.382 2195.15,832.295 2196.12,984.104 2197.09,960.275 \n",
       "  2198.07,944.201 2199.04,852.433 2200.01,900.776 2200.98,989.65 2201.96,1033.43 2202.93,1060.35 2203.9,1042.26 2204.88,1039.77 2205.85,998.962 2206.82,1018.18 \n",
       "  2207.8,941.34 2208.77,995.258 2209.74,966.561 2210.72,960.573 2211.69,1005.86 2212.66,952.504 2213.63,977.874 2214.61,936.86 2215.58,923.527 2216.55,989.789 \n",
       "  2217.53,933.487 2218.5,952.815 2219.47,933.636 2220.45,1040.34 2221.42,996.653 2222.39,1026.52 2223.37,1025.91 2224.34,1037.6 2225.31,1060.19 2226.28,1039.07 \n",
       "  2227.26,1023.71 2228.23,1029.92 2229.2,1066 2230.18,1065.04 2231.15,1052.42 2232.12,1038.05 2233.1,1002.24 2234.07,1047.6 2235.04,1015.21 2236.02,1023.54 \n",
       "  2236.99,1044.8 2237.96,1023.82 2238.93,1033.45 2239.91,1022.24 2240.88,1038.69 2241.85,1057.15 2242.83,1012.54 2243.8,895.372 2244.77,1032 2245.75,973.797 \n",
       "  2246.72,989.316 2247.69,964.22 2248.67,1014.82 2249.64,1013.81 2250.61,1025.87 2251.58,947.861 2252.56,975.202 2253.53,1006.11 2254.5,1031.42 2255.48,1026.62 \n",
       "  2256.45,1059.74 2257.42,1043.42 2258.4,1020.74 2259.37,1011.59 2260.34,1008.64 2261.32,1021.65 2262.29,979.934 2263.26,976.412 2264.23,916.718 2265.21,955.328 \n",
       "  2266.18,995.202 2267.15,1047.3 2268.13,1000.76 2269.1,977.983 2270.07,977.973 2271.05,962.193 2272.02,1038.49 2272.99,1040.35 2273.97,1035.17 2274.94,1053.43 \n",
       "  2275.91,1029.5 2276.88,1000.85 2277.86,1066.23 2278.83,1063.12 2279.8,1027.16 2280.78,1013.84 2281.75,1040.13 2282.72,985.503 2283.7,1011.88 2284.67,1024.76 \n",
       "  2285.64,1044.07 2286.62,1067.06 2287.59,1062.25 2288.56,1046.39 2289.54,1045.82 2290.51,1032 2291.48,1042.07 2292.45,1006.82 2293.43,966.522 2294.4,992.523 \n",
       "  \n",
       "  \"/>\n",
       "<path clip-path=\"url(#clip540)\" d=\"\n",
       "M1855.6 274.549 L2284.03 274.549 L2284.03 93.1086 L1855.6 93.1086  Z\n",
       "  \" fill=\"#ffffff\" fill-rule=\"evenodd\" fill-opacity=\"1\"/>\n",
       "<polyline clip-path=\"url(#clip540)\" style=\"stroke:#000000; stroke-width:4; stroke-opacity:1; fill:none\" points=\"\n",
       "  1855.6,274.549 2284.03,274.549 2284.03,93.1086 1855.6,93.1086 1855.6,274.549 \n",
       "  \"/>\n",
       "<polyline clip-path=\"url(#clip540)\" style=\"stroke:#009af9; stroke-width:4; stroke-opacity:1; fill:none\" points=\"\n",
       "  1878.51,153.589 2015.97,153.589 \n",
       "  \"/>\n",
       "<path clip-path=\"url(#clip540)\" d=\"M 0 0 M2052.07 170.869 L2038.88 136.309 L2043.76 136.309 L2054.71 165.406 L2065.68 136.309 L2070.55 136.309 L2057.37 170.869 L2052.07 170.869 Z\" fill=\"#000000\" fill-rule=\"evenodd\" fill-opacity=\"1\" /><path clip-path=\"url(#clip540)\" d=\"M 0 0 M2083.11 157.836 Q2077.95 157.836 2075.96 159.017 Q2073.97 160.197 2073.97 163.045 Q2073.97 165.313 2075.45 166.656 Q2076.96 167.975 2079.53 167.975 Q2083.07 167.975 2085.2 165.475 Q2087.35 162.952 2087.35 158.785 L2087.35 157.836 L2083.11 157.836 M2091.61 156.077 L2091.61 170.869 L2087.35 170.869 L2087.35 166.933 Q2085.89 169.295 2083.72 170.429 Q2081.54 171.54 2078.39 171.54 Q2074.41 171.54 2072.05 169.318 Q2069.71 167.072 2069.71 163.322 Q2069.71 158.947 2072.63 156.725 Q2075.57 154.503 2081.38 154.503 L2087.35 154.503 L2087.35 154.086 Q2087.35 151.147 2085.41 149.549 Q2083.48 147.929 2079.99 147.929 Q2077.77 147.929 2075.66 148.461 Q2073.55 148.994 2071.61 150.059 L2071.61 146.123 Q2073.95 145.221 2076.15 144.781 Q2078.35 144.318 2080.43 144.318 Q2086.05 144.318 2088.83 147.234 Q2091.61 150.151 2091.61 156.077 Z\" fill=\"#000000\" fill-rule=\"evenodd\" fill-opacity=\"1\" /><path clip-path=\"url(#clip540)\" d=\"M 0 0 M2096.08 134.85 L2100.34 134.85 L2100.34 170.869 L2096.08 170.869 L2096.08 134.85 Z\" fill=\"#000000\" fill-rule=\"evenodd\" fill-opacity=\"1\" /><path clip-path=\"url(#clip540)\" d=\"M 0 0 M2104.8 144.943 L2109.06 144.943 L2109.06 170.869 L2104.8 170.869 L2104.8 144.943 M2104.8 134.85 L2109.06 134.85 L2109.06 140.244 L2104.8 140.244 L2104.8 134.85 Z\" fill=\"#000000\" fill-rule=\"evenodd\" fill-opacity=\"1\" /><path clip-path=\"url(#clip540)\" d=\"M 0 0 M2130.59 148.878 L2130.59 134.85 L2134.85 134.85 L2134.85 170.869 L2130.59 170.869 L2130.59 166.98 Q2129.25 169.295 2127.19 170.429 Q2125.15 171.54 2122.28 171.54 Q2117.58 171.54 2114.62 167.79 Q2111.68 164.04 2111.68 157.929 Q2111.68 151.818 2114.62 148.068 Q2117.58 144.318 2122.28 144.318 Q2125.15 144.318 2127.19 145.452 Q2129.25 146.563 2130.59 148.878 M2116.08 157.929 Q2116.08 162.628 2118 165.313 Q2119.94 167.975 2123.32 167.975 Q2126.7 167.975 2128.65 165.313 Q2130.59 162.628 2130.59 157.929 Q2130.59 153.23 2128.65 150.568 Q2126.7 147.883 2123.32 147.883 Q2119.94 147.883 2118 150.568 Q2116.08 153.23 2116.08 157.929 Z\" fill=\"#000000\" fill-rule=\"evenodd\" fill-opacity=\"1\" /><path clip-path=\"url(#clip540)\" d=\"M 0 0 M2151.1 157.836 Q2145.94 157.836 2143.95 159.017 Q2141.96 160.197 2141.96 163.045 Q2141.96 165.313 2143.44 166.656 Q2144.94 167.975 2147.51 167.975 Q2151.05 167.975 2153.18 165.475 Q2155.34 162.952 2155.34 158.785 L2155.34 157.836 L2151.1 157.836 M2159.6 156.077 L2159.6 170.869 L2155.34 170.869 L2155.34 166.933 Q2153.88 169.295 2151.7 170.429 Q2149.53 171.54 2146.38 171.54 Q2142.4 171.54 2140.04 169.318 Q2137.7 167.072 2137.7 163.322 Q2137.7 158.947 2140.61 156.725 Q2143.55 154.503 2149.36 154.503 L2155.34 154.503 L2155.34 154.086 Q2155.34 151.147 2153.39 149.549 Q2151.47 147.929 2147.98 147.929 Q2145.75 147.929 2143.65 148.461 Q2141.54 148.994 2139.6 150.059 L2139.6 146.123 Q2141.93 145.221 2144.13 144.781 Q2146.33 144.318 2148.42 144.318 Q2154.04 144.318 2156.82 147.234 Q2159.6 150.151 2159.6 156.077 Z\" fill=\"#000000\" fill-rule=\"evenodd\" fill-opacity=\"1\" /><path clip-path=\"url(#clip540)\" d=\"M 0 0 M2168.28 137.582 L2168.28 144.943 L2177.05 144.943 L2177.05 148.253 L2168.28 148.253 L2168.28 162.327 Q2168.28 165.498 2169.13 166.401 Q2170.01 167.304 2172.67 167.304 L2177.05 167.304 L2177.05 170.869 L2172.67 170.869 Q2167.74 170.869 2165.87 169.04 Q2163.99 167.188 2163.99 162.327 L2163.99 148.253 L2160.87 148.253 L2160.87 144.943 L2163.99 144.943 L2163.99 137.582 L2168.28 137.582 Z\" fill=\"#000000\" fill-rule=\"evenodd\" fill-opacity=\"1\" /><path clip-path=\"url(#clip540)\" d=\"M 0 0 M2181.52 144.943 L2185.78 144.943 L2185.78 170.869 L2181.52 170.869 L2181.52 144.943 M2181.52 134.85 L2185.78 134.85 L2185.78 140.244 L2181.52 140.244 L2181.52 134.85 Z\" fill=\"#000000\" fill-rule=\"evenodd\" fill-opacity=\"1\" /><path clip-path=\"url(#clip540)\" d=\"M 0 0 M2200.29 147.929 Q2196.86 147.929 2194.87 150.614 Q2192.88 153.276 2192.88 157.929 Q2192.88 162.582 2194.85 165.267 Q2196.84 167.929 2200.29 167.929 Q2203.69 167.929 2205.68 165.244 Q2207.67 162.558 2207.67 157.929 Q2207.67 153.322 2205.68 150.637 Q2203.69 147.929 2200.29 147.929 M2200.29 144.318 Q2205.85 144.318 2209.02 147.929 Q2212.19 151.54 2212.19 157.929 Q2212.19 164.295 2209.02 167.929 Q2205.85 171.54 2200.29 171.54 Q2194.71 171.54 2191.54 167.929 Q2188.39 164.295 2188.39 157.929 Q2188.39 151.54 2191.54 147.929 Q2194.71 144.318 2200.29 144.318 Z\" fill=\"#000000\" fill-rule=\"evenodd\" fill-opacity=\"1\" /><path clip-path=\"url(#clip540)\" d=\"M 0 0 M2238.21 155.221 L2238.21 170.869 L2233.95 170.869 L2233.95 155.359 Q2233.95 151.679 2232.51 149.85 Q2231.08 148.022 2228.21 148.022 Q2224.76 148.022 2222.77 150.221 Q2220.78 152.42 2220.78 156.216 L2220.78 170.869 L2216.49 170.869 L2216.49 144.943 L2220.78 144.943 L2220.78 148.971 Q2222.3 146.633 2224.36 145.475 Q2226.45 144.318 2229.16 144.318 Q2233.62 144.318 2235.91 147.096 Q2238.21 149.85 2238.21 155.221 Z\" fill=\"#000000\" fill-rule=\"evenodd\" fill-opacity=\"1\" /><polyline clip-path=\"url(#clip540)\" style=\"stroke:#e26f46; stroke-width:4; stroke-opacity:1; fill:none\" points=\"\n",
       "  1878.51,214.069 2015.97,214.069 \n",
       "  \"/>\n",
       "<path clip-path=\"url(#clip540)\" d=\"M 0 0 M2038.88 196.789 L2068.11 196.789 L2068.11 200.724 L2055.85 200.724 L2055.85 231.349 L2051.15 231.349 L2051.15 200.724 L2038.88 200.724 L2038.88 196.789 Z\" fill=\"#000000\" fill-rule=\"evenodd\" fill-opacity=\"1\" /><path clip-path=\"url(#clip540)\" d=\"M 0 0 M2080.64 209.404 Q2079.92 208.988 2079.06 208.802 Q2078.23 208.594 2077.21 208.594 Q2073.6 208.594 2071.66 210.955 Q2069.73 213.293 2069.73 217.691 L2069.73 231.349 L2065.45 231.349 L2065.45 205.423 L2069.73 205.423 L2069.73 209.451 Q2071.08 207.089 2073.23 205.955 Q2075.38 204.798 2078.46 204.798 Q2078.9 204.798 2079.43 204.867 Q2079.97 204.914 2080.61 205.029 L2080.64 209.404 Z\" fill=\"#000000\" fill-rule=\"evenodd\" fill-opacity=\"1\" /><path clip-path=\"url(#clip540)\" d=\"M 0 0 M2096.89 218.316 Q2091.73 218.316 2089.73 219.497 Q2087.74 220.677 2087.74 223.525 Q2087.74 225.793 2089.23 227.136 Q2090.73 228.455 2093.3 228.455 Q2096.84 228.455 2098.97 225.955 Q2101.12 223.432 2101.12 219.265 L2101.12 218.316 L2096.89 218.316 M2105.38 216.557 L2105.38 231.349 L2101.12 231.349 L2101.12 227.413 Q2099.67 229.775 2097.49 230.909 Q2095.31 232.02 2092.17 232.02 Q2088.18 232.02 2085.82 229.798 Q2083.48 227.552 2083.48 223.802 Q2083.48 219.427 2086.4 217.205 Q2089.34 214.983 2095.15 214.983 L2101.12 214.983 L2101.12 214.566 Q2101.12 211.627 2099.18 210.029 Q2097.26 208.409 2093.76 208.409 Q2091.54 208.409 2089.43 208.941 Q2087.33 209.474 2085.38 210.539 L2085.38 206.603 Q2087.72 205.701 2089.92 205.261 Q2092.12 204.798 2094.2 204.798 Q2099.83 204.798 2102.61 207.714 Q2105.38 210.631 2105.38 216.557 Z\" fill=\"#000000\" fill-rule=\"evenodd\" fill-opacity=\"1\" /><path clip-path=\"url(#clip540)\" d=\"M 0 0 M2109.85 205.423 L2114.11 205.423 L2114.11 231.349 L2109.85 231.349 L2109.85 205.423 M2109.85 195.33 L2114.11 195.33 L2114.11 200.724 L2109.85 200.724 L2109.85 195.33 Z\" fill=\"#000000\" fill-rule=\"evenodd\" fill-opacity=\"1\" /><path clip-path=\"url(#clip540)\" d=\"M 0 0 M2140.13 215.701 L2140.13 231.349 L2135.87 231.349 L2135.87 215.839 Q2135.87 212.159 2134.43 210.33 Q2133 208.502 2130.13 208.502 Q2126.68 208.502 2124.69 210.701 Q2122.7 212.9 2122.7 216.696 L2122.7 231.349 L2118.42 231.349 L2118.42 205.423 L2122.7 205.423 L2122.7 209.451 Q2124.23 207.113 2126.29 205.955 Q2128.37 204.798 2131.08 204.798 Q2135.54 204.798 2137.84 207.576 Q2140.13 210.33 2140.13 215.701 Z\" fill=\"#000000\" fill-rule=\"evenodd\" fill-opacity=\"1\" /><path clip-path=\"url(#clip540)\" d=\"M 0 0 M2144.6 205.423 L2148.85 205.423 L2148.85 231.349 L2144.6 231.349 L2144.6 205.423 M2144.6 195.33 L2148.85 195.33 L2148.85 200.724 L2144.6 200.724 L2144.6 195.33 Z\" fill=\"#000000\" fill-rule=\"evenodd\" fill-opacity=\"1\" /><path clip-path=\"url(#clip540)\" d=\"M 0 0 M2174.87 215.701 L2174.87 231.349 L2170.61 231.349 L2170.61 215.839 Q2170.61 212.159 2169.18 210.33 Q2167.74 208.502 2164.87 208.502 Q2161.42 208.502 2159.43 210.701 Q2157.44 212.9 2157.44 216.696 L2157.44 231.349 L2153.16 231.349 L2153.16 205.423 L2157.44 205.423 L2157.44 209.451 Q2158.97 207.113 2161.03 205.955 Q2163.11 204.798 2165.82 204.798 Q2170.29 204.798 2172.58 207.576 Q2174.87 210.33 2174.87 215.701 Z\" fill=\"#000000\" fill-rule=\"evenodd\" fill-opacity=\"1\" /><path clip-path=\"url(#clip540)\" d=\"M 0 0 M2196.4 218.085 Q2196.4 213.455 2194.48 210.909 Q2192.58 208.363 2189.13 208.363 Q2185.71 208.363 2183.79 210.909 Q2181.89 213.455 2181.89 218.085 Q2181.89 222.691 2183.79 225.238 Q2185.71 227.784 2189.13 227.784 Q2192.58 227.784 2194.48 225.238 Q2196.4 222.691 2196.4 218.085 M2200.66 228.131 Q2200.66 234.751 2197.72 237.969 Q2194.78 241.21 2188.72 241.21 Q2186.47 241.21 2184.48 240.862 Q2182.49 240.538 2180.61 239.844 L2180.61 235.7 Q2182.49 236.719 2184.32 237.205 Q2186.15 237.691 2188.04 237.691 Q2192.23 237.691 2194.32 235.492 Q2196.4 233.316 2196.4 228.895 L2196.4 226.788 Q2195.08 229.08 2193.02 230.214 Q2190.96 231.349 2188.09 231.349 Q2183.32 231.349 2180.41 227.714 Q2177.49 224.08 2177.49 218.085 Q2177.49 212.066 2180.41 208.432 Q2183.32 204.798 2188.09 204.798 Q2190.96 204.798 2193.02 205.932 Q2195.08 207.066 2196.4 209.358 L2196.4 205.423 L2200.66 205.423 L2200.66 228.131 Z\" fill=\"#000000\" fill-rule=\"evenodd\" fill-opacity=\"1\" /></svg>\n"
      ]
     },
     "execution_count": 200,
     "metadata": {},
     "output_type": "execute_result"
    }
   ],
   "source": [
    "plot(curve.parameter_values,\n",
    "     curve.measurements,\n",
    "     xlab=curve.parameter_name,\n",
    "     ylab=\"Cross Entropy\",\n",
    "     label=\"Validation\", lw=2)\n",
    "plot!(Net.report.training_losses, label=\"Training\", lw=2)"
   ]
  },
  {
   "cell_type": "code",
   "execution_count": 201,
   "metadata": {},
   "outputs": [
    {
     "data": {
      "text/plain": [
       "1"
      ]
     },
     "execution_count": 201,
     "metadata": {},
     "output_type": "execute_result"
    }
   ],
   "source": [
    "best_epochs = curve.parameter_values[argmin(curve.measurements)]"
   ]
  },
  {
   "cell_type": "code",
   "execution_count": null,
   "metadata": {},
   "outputs": [],
   "source": [
    "png(\"Figures/learning_curve_nn_$(best_epochs)epochs_balance\")"
   ]
  },
  {
   "cell_type": "markdown",
   "metadata": {},
   "source": [
    "# Final Results"
   ]
  },
  {
   "cell_type": "code",
   "execution_count": 177,
   "metadata": {
    "scrolled": true
   },
   "outputs": [
    {
     "data": {
      "text/plain": [
       "NeuralNetworkClassifier(\n",
       "    builder = CustomNN(\n",
       "            n1 = 23,\n",
       "            n2 = 10),\n",
       "    finaliser = NNlib.softmax,\n",
       "    optimiser = ADAM(0.001, (0.9, 0.999), IdDict{Any,Any}()),\n",
       "    loss = Flux.crossentropy,\n",
       "    epochs = 10,\n",
       "    batch_size = 1,\n",
       "    lambda = 0.0,\n",
       "    alpha = 0.0,\n",
       "    optimiser_changes_trigger_retraining = false)\u001b[34m @022\u001b[39m"
      ]
     },
     "execution_count": 177,
     "metadata": {},
     "output_type": "execute_result"
    }
   ],
   "source": [
    "final_model = NeuralNetworkClassifier(builder=CustomNN(best_n1,best_n2))"
   ]
  },
  {
   "cell_type": "code",
   "execution_count": 178,
   "metadata": {},
   "outputs": [
    {
     "data": {
      "text/plain": [
       "22"
      ]
     },
     "execution_count": 178,
     "metadata": {},
     "output_type": "execute_result"
    }
   ],
   "source": [
    "final_model.optimiser.eta = lc_model.optimiser.eta = best_eta;\n",
    "final_model.batch_size = batch_sz\n",
    "final_model.lambda = best_lambda\n",
    "final_model.epochs = best_epochs"
   ]
  },
  {
   "cell_type": "markdown",
   "metadata": {},
   "source": [
    "### Test Performance"
   ]
  },
  {
   "cell_type": "code",
   "execution_count": 179,
   "metadata": {},
   "outputs": [
    {
     "data": {
      "text/plain": [
       "\u001b[34mMachine{NeuralNetworkClassifier{CustomNN,…}} @896\u001b[39m trained 0 times.\n",
       "  args: \n",
       "    1:\t\u001b[34mSource @904\u001b[39m ⏎ `Table{AbstractArray{Continuous,1}}`\n",
       "    2:\t\u001b[34mSource @408\u001b[39m ⏎ `AbstractArray{Multiclass{2},1}`\n"
      ]
     },
     "execution_count": 179,
     "metadata": {},
     "output_type": "execute_result"
    }
   ],
   "source": [
    "Final_Net = machine(final_model, X_stand, y)"
   ]
  },
  {
   "cell_type": "code",
   "execution_count": 180,
   "metadata": {
    "scrolled": false
   },
   "outputs": [
    {
     "name": "stderr",
     "output_type": "stream",
     "text": [
      "┌ Info: Training \u001b[34mMachine{NeuralNetworkClassifier{CustomNN,…}} @896\u001b[39m.\n",
      "└ @ MLJBase /home/andrew/.julia/packages/MLJBase/uKzAz/src/machines.jl:319\n",
      "\u001b[33mOptimising neural net:100%[=========================] Time: 0:00:02\u001b[39m\n"
     ]
    },
    {
     "data": {
      "text/plain": [
       "\u001b[34mMachine{NeuralNetworkClassifier{CustomNN,…}} @896\u001b[39m trained 1 time.\n",
       "  args: \n",
       "    1:\t\u001b[34mSource @904\u001b[39m ⏎ `Table{AbstractArray{Continuous,1}}`\n",
       "    2:\t\u001b[34mSource @408\u001b[39m ⏎ `AbstractArray{Multiclass{2},1}`\n"
      ]
     },
     "execution_count": 180,
     "metadata": {},
     "output_type": "execute_result"
    }
   ],
   "source": [
    "fit!(Final_Net, rows=train, force=true, verbosity=1)"
   ]
  },
  {
   "cell_type": "code",
   "execution_count": 181,
   "metadata": {},
   "outputs": [
    {
     "name": "stderr",
     "output_type": "stream",
     "text": [
      "\u001b[33mEvaluating over 6 folds: 100%[=========================] Time: 0:00:18\u001b[39m\n"
     ]
    },
    {
     "data": {
      "text/plain": [
       "┌\u001b[0m───────────────\u001b[0m┬\u001b[0m───────────────\u001b[0m┬\u001b[0m──────────────────────────────────────────────────\u001b[0m┐\u001b[0m\n",
       "│\u001b[0m\u001b[22m _.measure     \u001b[0m│\u001b[0m\u001b[22m _.measurement \u001b[0m│\u001b[0m\u001b[22m _.per_fold                                       \u001b[0m│\u001b[0m\n",
       "├\u001b[0m───────────────\u001b[0m┼\u001b[0m───────────────\u001b[0m┼\u001b[0m──────────────────────────────────────────────────\u001b[0m┤\u001b[0m\n",
       "│\u001b[0m cross_entropy \u001b[0m│\u001b[0m 0.333         \u001b[0m│\u001b[0m Float32[0.336, 0.331, 0.33, 0.329, 0.336, 0.336] \u001b[0m│\u001b[0m\n",
       "│\u001b[0m acc           \u001b[0m│\u001b[0m 0.979         \u001b[0m│\u001b[0m [0.976, 0.982, 0.983, 0.983, 0.977, 0.975]       \u001b[0m│\u001b[0m\n",
       "└\u001b[0m───────────────\u001b[0m┴\u001b[0m───────────────\u001b[0m┴\u001b[0m──────────────────────────────────────────────────\u001b[0m┘\u001b[0m\n",
       "_.per_observation = [[[0.313, 0.313, ..., 0.313], [0.313, 0.313, ..., 0.313], [0.313, 0.313, ..., 0.313], [0.313, 0.313, ..., 0.313], [0.313, 0.313, ..., 0.313], [0.313, 0.313, ..., 0.313]], missing]\n",
       "_.fitted_params_per_fold = [ … ]\n",
       "_.report_per_fold = [ … ]\n"
      ]
     },
     "execution_count": 181,
     "metadata": {},
     "output_type": "execute_result"
    }
   ],
   "source": [
    "nn_acc = evaluate!(Final_Net, resampling=CV(shuffle=true), measure=[cross_entropy, acc], verbosity=1)"
   ]
  },
  {
   "cell_type": "code",
   "execution_count": 182,
   "metadata": {},
   "outputs": [],
   "source": [
    "ŷ = MLJ.predict(Final_Net, X_stand[test,:]);"
   ]
  },
  {
   "cell_type": "code",
   "execution_count": 183,
   "metadata": {},
   "outputs": [
    {
     "data": {
      "text/plain": [
       "0.33408886f0"
      ]
     },
     "execution_count": 183,
     "metadata": {},
     "output_type": "execute_result"
    }
   ],
   "source": [
    "cross_entropy(ŷ, y[test]) |> mean"
   ]
  },
  {
   "cell_type": "code",
   "execution_count": 184,
   "metadata": {},
   "outputs": [
    {
     "data": {
      "text/plain": [
       "0.9789571694599628"
      ]
     },
     "execution_count": 184,
     "metadata": {},
     "output_type": "execute_result"
    }
   ],
   "source": [
    "acc(ŷ, y[test])"
   ]
  },
  {
   "cell_type": "code",
   "execution_count": 185,
   "metadata": {},
   "outputs": [
    {
     "name": "stderr",
     "output_type": "stream",
     "text": [
      "┌ Warning: The classes are un-ordered,\n",
      "│ using: negative='0' and positive='1'.\n",
      "│ To suppress this warning, consider coercing to OrderedFactor.\n",
      "└ @ MLJBase /home/andrew/.julia/packages/MLJBase/uKzAz/src/measures/confusion_matrix.jl:83\n"
     ]
    },
    {
     "data": {
      "text/plain": [
       "              ┌───────────────────────────┐\n",
       "              │       Ground Truth        │\n",
       "┌─────────────┼─────────────┬─────────────┤\n",
       "│  Predicted  │      0      │      1      │\n",
       "├─────────────┼─────────────┼─────────────┤\n",
       "│      0      │    4850     │     85      │\n",
       "├─────────────┼─────────────┼─────────────┤\n",
       "│      1      │     28      │     407     │\n",
       "└─────────────┴─────────────┴─────────────┘\n"
      ]
     },
     "execution_count": 185,
     "metadata": {},
     "output_type": "execute_result"
    }
   ],
   "source": [
    "confusion_matrix(mode.(ŷ), y[test])"
   ]
  },
  {
   "cell_type": "code",
   "execution_count": 186,
   "metadata": {},
   "outputs": [
    {
     "data": {
      "text/plain": [
       "(chain = Chain(Chain(Dense(8, 23, σ), Dense(23, 10, σ), Dense(10, 2, σ)), softmax),)"
      ]
     },
     "execution_count": 186,
     "metadata": {},
     "output_type": "execute_result"
    }
   ],
   "source": [
    "fitted_params(Final_Net)"
   ]
  },
  {
   "cell_type": "code",
   "execution_count": 187,
   "metadata": {
    "scrolled": true
   },
   "outputs": [
    {
     "data": {
      "text/plain": [
       "(training_losses = Any[0.33678392f0, 0.3348841f0, 0.3328578f0, 0.33268696f0, 0.33278093f0, 0.33231866f0, 0.33366203f0, 0.33206198f0, 0.33202043f0, 0.3323865f0  …  0.3316797f0, 0.33173674f0, 0.33190975f0, 0.33163416f0, 0.33195397f0, 0.33153185f0, 0.3314146f0, 0.33130473f0, 0.33140054f0, 0.33165658f0],)"
      ]
     },
     "execution_count": 187,
     "metadata": {},
     "output_type": "execute_result"
    }
   ],
   "source": [
    "report(Final_Net)"
   ]
  },
  {
   "cell_type": "code",
   "execution_count": null,
   "metadata": {},
   "outputs": [],
   "source": []
  }
 ],
 "metadata": {
  "kernelspec": {
   "display_name": "Julia 1.5.0",
   "language": "julia",
   "name": "julia-1.5"
  },
  "language_info": {
   "file_extension": ".jl",
   "mimetype": "application/julia",
   "name": "julia",
   "version": "1.5.0"
  }
 },
 "nbformat": 4,
 "nbformat_minor": 4
}
