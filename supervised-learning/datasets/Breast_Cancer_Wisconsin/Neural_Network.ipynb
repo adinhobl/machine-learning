{
 "cells": [
  {
   "cell_type": "markdown",
   "metadata": {},
   "source": [
    "# Imports"
   ]
  },
  {
   "cell_type": "code",
   "execution_count": 87,
   "metadata": {},
   "outputs": [],
   "source": [
    "using DataFrames\n",
    "using CSV\n",
    "using MLJ\n",
    "using Flux\n",
    "using Plots\n",
    "using StatsBase\n",
    "using MLJ: confusion_matrix\n",
    "\n",
    "include(\"../../lib.jl\")\n",
    "\n",
    "ENV[\"LINES\"]=50;"
   ]
  },
  {
   "cell_type": "markdown",
   "metadata": {},
   "source": [
    "# Datasets"
   ]
  },
  {
   "cell_type": "code",
   "execution_count": 88,
   "metadata": {},
   "outputs": [
    {
     "name": "stdout",
     "output_type": "stream",
     "text": [
      "thread = 1 warning: only found 32 / 33 columns around data row: 2. Filling remaining columns with `missing`\n",
      "thread = 1 warning: only found 32 / 33 columns around data row: 3. Filling remaining columns with `missing`\n",
      "thread = 1 warning: only found 32 / 33 columns around data row: 4. Filling remaining columns with `missing`\n",
      "thread = 1 warning: only found 32 / 33 columns around data row: 5. Filling remaining columns with `missing`\n",
      "thread = 1 warning: only found 32 / 33 columns around data row: 6. Filling remaining columns with `missing`\n",
      "thread = 1 warning: only found 32 / 33 columns around data row: 7. Filling remaining columns with `missing`\n",
      "thread = 1 warning: only found 32 / 33 columns around data row: 8. Filling remaining columns with `missing`\n",
      "thread = 1 warning: only found 32 / 33 columns around data row: 9. Filling remaining columns with `missing`\n",
      "thread = 1 warning: only found 32 / 33 columns around data row: 10. Filling remaining columns with `missing`\n",
      "thread = 1 warning: only found 32 / 33 columns around data row: 11. Filling remaining columns with `missing`\n",
      "thread = 1 warning: only found 32 / 33 columns around data row: 12. Filling remaining columns with `missing`\n",
      "thread = 1 warning: only found 32 / 33 columns around data row: 13. Filling remaining columns with `missing`\n",
      "thread = 1 warning: only found 32 / 33 columns around data row: 14. Filling remaining columns with `missing`\n",
      "thread = 1 warning: only found 32 / 33 columns around data row: 15. Filling remaining columns with `missing`\n",
      "thread = 1 warning: only found 32 / 33 columns around data row: 16. Filling remaining columns with `missing`\n",
      "thread = 1 warning: only found 32 / 33 columns around data row: 17. Filling remaining columns with `missing`\n",
      "thread = 1 warning: only found 32 / 33 columns around data row: 18. Filling remaining columns with `missing`\n",
      "thread = 1 warning: only found 32 / 33 columns around data row: 19. Filling remaining columns with `missing`\n",
      "thread = 1 warning: only found 32 / 33 columns around data row: 20. Filling remaining columns with `missing`\n",
      "thread = 1 warning: only found 32 / 33 columns around data row: 21. Filling remaining columns with `missing`\n",
      "thread = 1 warning: only found 32 / 33 columns around data row: 22. Filling remaining columns with `missing`\n",
      "thread = 1 warning: only found 32 / 33 columns around data row: 23. Filling remaining columns with `missing`\n",
      "thread = 1 warning: only found 32 / 33 columns around data row: 24. Filling remaining columns with `missing`\n",
      "thread = 1 warning: only found 32 / 33 columns around data row: 25. Filling remaining columns with `missing`\n",
      "thread = 1 warning: only found 32 / 33 columns around data row: 26. Filling remaining columns with `missing`\n",
      "thread = 1 warning: only found 32 / 33 columns around data row: 27. Filling remaining columns with `missing`\n",
      "thread = 1 warning: only found 32 / 33 columns around data row: 28. Filling remaining columns with `missing`\n",
      "thread = 1 warning: only found 32 / 33 columns around data row: 29. Filling remaining columns with `missing`\n",
      "thread = 1 warning: only found 32 / 33 columns around data row: 30. Filling remaining columns with `missing`\n",
      "thread = 1 warning: only found 32 / 33 columns around data row: 31. Filling remaining columns with `missing`\n",
      "thread = 1 warning: only found 32 / 33 columns around data row: 32. Filling remaining columns with `missing`\n",
      "thread = 1 warning: only found 32 / 33 columns around data row: 33. Filling remaining columns with `missing`\n",
      "thread = 1 warning: only found 32 / 33 columns around data row: 34. Filling remaining columns with `missing`\n",
      "thread = 1 warning: only found 32 / 33 columns around data row: 35. Filling remaining columns with `missing`\n",
      "thread = 1 warning: only found 32 / 33 columns around data row: 36. Filling remaining columns with `missing`\n",
      "thread = 1 warning: only found 32 / 33 columns around data row: 37. Filling remaining columns with `missing`\n",
      "thread = 1 warning: only found 32 / 33 columns around data row: 38. Filling remaining columns with `missing`\n",
      "thread = 1 warning: only found 32 / 33 columns around data row: 39. Filling remaining columns with `missing`\n",
      "thread = 1 warning: only found 32 / 33 columns around data row: 40. Filling remaining columns with `missing`\n",
      "thread = 1 warning: only found 32 / 33 columns around data row: 41. Filling remaining columns with `missing`\n",
      "thread = 1 warning: only found 32 / 33 columns around data row: 42. Filling remaining columns with `missing`\n",
      "thread = 1 warning: only found 32 / 33 columns around data row: 43. Filling remaining columns with `missing`\n",
      "thread = 1 warning: only found 32 / 33 columns around data row: 44. Filling remaining columns with `missing`\n",
      "thread = 1 warning: only found 32 / 33 columns around data row: 45. Filling remaining columns with `missing`\n",
      "thread = 1 warning: only found 32 / 33 columns around data row: 46. Filling remaining columns with `missing`\n",
      "thread = 1 warning: only found 32 / 33 columns around data row: 47. Filling remaining columns with `missing`\n",
      "thread = 1 warning: only found 32 / 33 columns around data row: 48. Filling remaining columns with `missing`\n",
      "thread = 1 warning: only found 32 / 33 columns around data row: 49. Filling remaining columns with `missing`\n",
      "thread = 1 warning: only found 32 / 33 columns around data row: 50. Filling remaining columns with `missing`\n",
      "thread = 1 warning: only found 32 / 33 columns around data row: 51. Filling remaining columns with `missing`\n",
      "thread = 1 warning: only found 32 / 33 columns around data row: 52. Filling remaining columns with `missing`\n",
      "thread = 1 warning: only found 32 / 33 columns around data row: 53. Filling remaining columns with `missing`\n",
      "thread = 1 warning: only found 32 / 33 columns around data row: 54. Filling remaining columns with `missing`\n",
      "thread = 1 warning: only found 32 / 33 columns around data row: 55. Filling remaining columns with `missing`\n",
      "thread = 1 warning: only found 32 / 33 columns around data row: 56. Filling remaining columns with `missing`\n",
      "thread = 1 warning: only found 32 / 33 columns around data row: 57. Filling remaining columns with `missing`\n",
      "thread = 1 warning: only found 32 / 33 columns around data row: 58. Filling remaining columns with `missing`\n",
      "thread = 1 warning: only found 32 / 33 columns around data row: 59. Filling remaining columns with `missing`\n",
      "thread = 1 warning: only found 32 / 33 columns around data row: 60. Filling remaining columns with `missing`\n",
      "thread = 1 warning: only found 32 / 33 columns around data row: 61. Filling remaining columns with `missing`\n",
      "thread = 1 warning: only found 32 / 33 columns around data row: 62. Filling remaining columns with `missing`\n",
      "thread = 1 warning: only found 32 / 33 columns around data row: 63. Filling remaining columns with `missing`\n",
      "thread = 1 warning: only found 32 / 33 columns around data row: 64. Filling remaining columns with `missing`\n",
      "thread = 1 warning: only found 32 / 33 columns around data row: 65. Filling remaining columns with `missing`\n",
      "thread = 1 warning: only found 32 / 33 columns around data row: 66. Filling remaining columns with `missing`\n",
      "thread = 1 warning: only found 32 / 33 columns around data row: 67. Filling remaining columns with `missing`\n",
      "thread = 1 warning: only found 32 / 33 columns around data row: 68. Filling remaining columns with `missing`\n",
      "thread = 1 warning: only found 32 / 33 columns around data row: 69. Filling remaining columns with `missing`\n",
      "thread = 1 warning: only found 32 / 33 columns around data row: 70. Filling remaining columns with `missing`\n",
      "thread = 1 warning: only found 32 / 33 columns around data row: 71. Filling remaining columns with `missing`\n",
      "thread = 1 warning: only found 32 / 33 columns around data row: 72. Filling remaining columns with `missing`\n",
      "thread = 1 warning: only found 32 / 33 columns around data row: 73. Filling remaining columns with `missing`\n",
      "thread = 1 warning: only found 32 / 33 columns around data row: 74. Filling remaining columns with `missing`\n",
      "thread = 1 warning: only found 32 / 33 columns around data row: 75. Filling remaining columns with `missing`\n",
      "thread = 1 warning: only found 32 / 33 columns around data row: 76. Filling remaining columns with `missing`\n",
      "thread = 1 warning: only found 32 / 33 columns around data row: 77. Filling remaining columns with `missing`\n",
      "thread = 1 warning: only found 32 / 33 columns around data row: 78. Filling remaining columns with `missing`\n",
      "thread = 1 warning: only found 32 / 33 columns around data row: 79. Filling remaining columns with `missing`\n",
      "thread = 1 warning: only found 32 / 33 columns around data row: 80. Filling remaining columns with `missing`\n",
      "thread = 1 warning: only found 32 / 33 columns around data row: 81. Filling remaining columns with `missing`\n",
      "thread = 1 warning: only found 32 / 33 columns around data row: 82. Filling remaining columns with `missing`\n",
      "thread = 1 warning: only found 32 / 33 columns around data row: 83. Filling remaining columns with `missing`\n",
      "thread = 1 warning: only found 32 / 33 columns around data row: 84. Filling remaining columns with `missing`\n",
      "thread = 1 warning: only found 32 / 33 columns around data row: 85. Filling remaining columns with `missing`\n",
      "thread = 1 warning: only found 32 / 33 columns around data row: 86. Filling remaining columns with `missing`\n",
      "thread = 1 warning: only found 32 / 33 columns around data row: 87. Filling remaining columns with `missing`\n",
      "thread = 1 warning: only found 32 / 33 columns around data row: 88. Filling remaining columns with `missing`\n",
      "thread = 1 warning: only found 32 / 33 columns around data row: 89. Filling remaining columns with `missing`\n",
      "thread = 1 warning: only found 32 / 33 columns around data row: 90. Filling remaining columns with `missing`\n",
      "thread = 1 warning: only found 32 / 33 columns around data row: 91. Filling remaining columns with `missing`\n",
      "thread = 1 warning: only found 32 / 33 columns around data row: 92. Filling remaining columns with `missing`\n",
      "thread = 1 warning: only found 32 / 33 columns around data row: 93. Filling remaining columns with `missing`\n",
      "thread = 1 warning: only found 32 / 33 columns around data row: 94. Filling remaining columns with `missing`\n",
      "thread = 1 warning: only found 32 / 33 columns around data row: 95. Filling remaining columns with `missing`\n",
      "thread = 1 warning: only found 32 / 33 columns around data row: 96. Filling remaining columns with `missing`\n"
     ]
    },
    {
     "name": "stdout",
     "output_type": "stream",
     "text": [
      "thread = 1 warning: only found 32 / 33 columns around data row: 97. Filling remaining columns with `missing`\n",
      "thread = 1 warning: only found 32 / 33 columns around data row: 98. Filling remaining columns with `missing`\n",
      "thread = 1 warning: only found 32 / 33 columns around data row: 99. Filling remaining columns with `missing`\n",
      "thread = 1 warning: only found 32 / 33 columns around data row: 100. Filling remaining columns with `missing`\n",
      "thread = 1 warning: only found 32 / 33 columns around data row: 101. Filling remaining columns with `missing`\n",
      "thread = 1 warning: only found 32 / 33 columns around data row: 102. Filling remaining columns with `missing`\n",
      "thread = 1 warning: only found 32 / 33 columns around data row: 103. Filling remaining columns with `missing`\n",
      "thread = 1 warning: only found 32 / 33 columns around data row: 104. Filling remaining columns with `missing`\n",
      "thread = 1 warning: only found 32 / 33 columns around data row: 105. Filling remaining columns with `missing`\n",
      "thread = 1 warning: only found 32 / 33 columns around data row: 106. Filling remaining columns with `missing`\n",
      "thread = 1 warning: only found 32 / 33 columns around data row: 107. Filling remaining columns with `missing`\n",
      "thread = 1 warning: only found 32 / 33 columns around data row: 108. Filling remaining columns with `missing`\n",
      "thread = 1 warning: only found 32 / 33 columns around data row: 109. Filling remaining columns with `missing`\n",
      "thread = 1 warning: only found 32 / 33 columns around data row: 110. Filling remaining columns with `missing`\n",
      "thread = 1 warning: only found 32 / 33 columns around data row: 111. Filling remaining columns with `missing`\n",
      "thread = 1 warning: only found 32 / 33 columns around data row: 112. Filling remaining columns with `missing`\n",
      "thread = 1 warning: only found 32 / 33 columns around data row: 113. Filling remaining columns with `missing`\n",
      "thread = 1 warning: only found 32 / 33 columns around data row: 114. Filling remaining columns with `missing`\n",
      "thread = 1 warning: only found 32 / 33 columns around data row: 115. Filling remaining columns with `missing`\n",
      "thread = 1 warning: only found 32 / 33 columns around data row: 116. Filling remaining columns with `missing`\n",
      "thread = 1 warning: only found 32 / 33 columns around data row: 117. Filling remaining columns with `missing`\n",
      "thread = 1 warning: only found 32 / 33 columns around data row: 118. Filling remaining columns with `missing`\n",
      "thread = 1 warning: only found 32 / 33 columns around data row: 119. Filling remaining columns with `missing`\n",
      "thread = 1 warning: only found 32 / 33 columns around data row: 120. Filling remaining columns with `missing`\n",
      "thread = 1 warning: only found 32 / 33 columns around data row: 121. Filling remaining columns with `missing`\n",
      "thread = 1 warning: only found 32 / 33 columns around data row: 122. Filling remaining columns with `missing`\n",
      "thread = 1 warning: only found 32 / 33 columns around data row: 123. Filling remaining columns with `missing`\n",
      "thread = 1 warning: only found 32 / 33 columns around data row: 124. Filling remaining columns with `missing`\n",
      "thread = 1 warning: only found 32 / 33 columns around data row: 125. Filling remaining columns with `missing`\n",
      "thread = 1 warning: only found 32 / 33 columns around data row: 126. Filling remaining columns with `missing`\n",
      "thread = 1 warning: only found 32 / 33 columns around data row: 127. Filling remaining columns with `missing`\n",
      "thread = 1 warning: only found 32 / 33 columns around data row: 128. Filling remaining columns with `missing`\n",
      "thread = 1 warning: only found 32 / 33 columns around data row: 129. Filling remaining columns with `missing`\n",
      "thread = 1 warning: only found 32 / 33 columns around data row: 130. Filling remaining columns with `missing`\n",
      "thread = 1 warning: only found 32 / 33 columns around data row: 131. Filling remaining columns with `missing`\n",
      "thread = 1 warning: only found 32 / 33 columns around data row: 132. Filling remaining columns with `missing`\n",
      "thread = 1 warning: only found 32 / 33 columns around data row: 133. Filling remaining columns with `missing`\n",
      "thread = 1 warning: only found 32 / 33 columns around data row: 134. Filling remaining columns with `missing`\n",
      "thread = 1 warning: only found 32 / 33 columns around data row: 135. Filling remaining columns with `missing`\n",
      "thread = 1 warning: only found 32 / 33 columns around data row: 136. Filling remaining columns with `missing`\n",
      "thread = 1 warning: only found 32 / 33 columns around data row: 137. Filling remaining columns with `missing`\n",
      "thread = 1 warning: only found 32 / 33 columns around data row: 138. Filling remaining columns with `missing`\n",
      "thread = 1 warning: only found 32 / 33 columns around data row: 139. Filling remaining columns with `missing`\n",
      "thread = 1 warning: only found 32 / 33 columns around data row: 140. Filling remaining columns with `missing`\n",
      "thread = 1 warning: only found 32 / 33 columns around data row: 141. Filling remaining columns with `missing`\n",
      "thread = 1 warning: only found 32 / 33 columns around data row: 142. Filling remaining columns with `missing`\n",
      "thread = 1 warning: only found 32 / 33 columns around data row: 143. Filling remaining columns with `missing`\n",
      "thread = 1 warning: only found 32 / 33 columns around data row: 144. Filling remaining columns with `missing`\n",
      "thread = 1 warning: only found 32 / 33 columns around data row: 145. Filling remaining columns with `missing`\n",
      "thread = 1 warning: only found 32 / 33 columns around data row: 146. Filling remaining columns with `missing`\n",
      "thread = 1 warning: only found 32 / 33 columns around data row: 147. Filling remaining columns with `missing`\n",
      "thread = 1 warning: only found 32 / 33 columns around data row: 148. Filling remaining columns with `missing`\n",
      "thread = 1 warning: only found 32 / 33 columns around data row: 149. Filling remaining columns with `missing`\n",
      "thread = 1 warning: only found 32 / 33 columns around data row: 150. Filling remaining columns with `missing`\n",
      "thread = 1 warning: only found 32 / 33 columns around data row: 151. Filling remaining columns with `missing`\n",
      "thread = 1 warning: only found 32 / 33 columns around data row: 152. Filling remaining columns with `missing`\n",
      "thread = 1 warning: only found 32 / 33 columns around data row: 153. Filling remaining columns with `missing`\n",
      "thread = 1 warning: only found 32 / 33 columns around data row: 154. Filling remaining columns with `missing`\n",
      "thread = 1 warning: only found 32 / 33 columns around data row: 155. Filling remaining columns with `missing`\n",
      "thread = 1 warning: only found 32 / 33 columns around data row: 156. Filling remaining columns with `missing`\n",
      "thread = 1 warning: only found 32 / 33 columns around data row: 157. Filling remaining columns with `missing`\n",
      "thread = 1 warning: only found 32 / 33 columns around data row: 158. Filling remaining columns with `missing`\n",
      "thread = 1 warning: only found 32 / 33 columns around data row: 159. Filling remaining columns with `missing`\n",
      "thread = 1 warning: only found 32 / 33 columns around data row: 160. Filling remaining columns with `missing`\n",
      "thread = 1 warning: only found 32 / 33 columns around data row: 161. Filling remaining columns with `missing`\n",
      "thread = 1 warning: only found 32 / 33 columns around data row: 162. Filling remaining columns with `missing`\n",
      "thread = 1 warning: only found 32 / 33 columns around data row: 163. Filling remaining columns with `missing`\n",
      "thread = 1 warning: only found 32 / 33 columns around data row: 164. Filling remaining columns with `missing`\n",
      "thread = 1 warning: only found 32 / 33 columns around data row: 165. Filling remaining columns with `missing`\n",
      "thread = 1 warning: only found 32 / 33 columns around data row: 166. Filling remaining columns with `missing`\n",
      "thread = 1 warning: only found 32 / 33 columns around data row: 167. Filling remaining columns with `missing`\n",
      "thread = 1 warning: only found 32 / 33 columns around data row: 168. Filling remaining columns with `missing`\n",
      "thread = 1 warning: only found 32 / 33 columns around data row: 169. Filling remaining columns with `missing`\n",
      "thread = 1 warning: only found 32 / 33 columns around data row: 170. Filling remaining columns with `missing`\n",
      "thread = 1 warning: only found 32 / 33 columns around data row: 171. Filling remaining columns with `missing`\n",
      "thread = 1 warning: only found 32 / 33 columns around data row: 172. Filling remaining columns with `missing`\n",
      "thread = 1 warning: only found 32 / 33 columns around data row: 173. Filling remaining columns with `missing`\n",
      "thread = 1 warning: only found 32 / 33 columns around data row: 174. Filling remaining columns with `missing`\n",
      "thread = 1 warning: only found 32 / 33 columns around data row: 175. Filling remaining columns with `missing`\n",
      "thread = 1 warning: only found 32 / 33 columns around data row: 176. Filling remaining columns with `missing`\n",
      "thread = 1 warning: only found 32 / 33 columns around data row: 177. Filling remaining columns with `missing`\n",
      "thread = 1 warning: only found 32 / 33 columns around data row: 178. Filling remaining columns with `missing`\n",
      "thread = 1 warning: only found 32 / 33 columns around data row: 179. Filling remaining columns with `missing`\n",
      "thread = 1 warning: only found 32 / 33 columns around data row: 180. Filling remaining columns with `missing`\n",
      "thread = 1 warning: only found 32 / 33 columns around data row: 181. Filling remaining columns with `missing`\n",
      "thread = 1 warning: only found 32 / 33 columns around data row: 182. Filling remaining columns with `missing`\n",
      "thread = 1 warning: only found 32 / 33 columns around data row: 183. Filling remaining columns with `missing`\n",
      "thread = 1 warning: only found 32 / 33 columns around data row: 184. Filling remaining columns with `missing`\n",
      "thread = 1 warning: only found 32 / 33 columns around data row: 185. Filling remaining columns with `missing`\n",
      "thread = 1 warning: only found 32 / 33 columns around data row: 186. Filling remaining columns with `missing`\n",
      "thread = 1 warning: only found 32 / 33 columns around data row: 187. Filling remaining columns with `missing`\n",
      "thread = 1 warning: only found 32 / 33 columns around data row: 188. Filling remaining columns with `missing`\n",
      "thread = 1 warning: only found 32 / 33 columns around data row: 189. Filling remaining columns with `missing`\n",
      "thread = 1 warning: only found 32 / 33 columns around data row: 190. Filling remaining columns with `missing`\n"
     ]
    },
    {
     "name": "stdout",
     "output_type": "stream",
     "text": [
      "thread = 1 warning: only found 32 / 33 columns around data row: 191. Filling remaining columns with `missing`\n",
      "thread = 1 warning: only found 32 / 33 columns around data row: 192. Filling remaining columns with `missing`\n",
      "thread = 1 warning: only found 32 / 33 columns around data row: 193. Filling remaining columns with `missing`\n",
      "thread = 1 warning: only found 32 / 33 columns around data row: 194. Filling remaining columns with `missing`\n",
      "thread = 1 warning: only found 32 / 33 columns around data row: 195. Filling remaining columns with `missing`\n",
      "thread = 1 warning: only found 32 / 33 columns around data row: 196. Filling remaining columns with `missing`\n",
      "thread = 1 warning: only found 32 / 33 columns around data row: 197. Filling remaining columns with `missing`\n",
      "thread = 1 warning: only found 32 / 33 columns around data row: 198. Filling remaining columns with `missing`\n",
      "thread = 1 warning: only found 32 / 33 columns around data row: 199. Filling remaining columns with `missing`\n",
      "thread = 1 warning: only found 32 / 33 columns around data row: 200. Filling remaining columns with `missing`\n",
      "thread = 1 warning: only found 32 / 33 columns around data row: 201. Filling remaining columns with `missing`\n",
      "thread = 1 warning: only found 32 / 33 columns around data row: 202. Filling remaining columns with `missing`\n",
      "thread = 1 warning: only found 32 / 33 columns around data row: 203. Filling remaining columns with `missing`\n",
      "thread = 1 warning: only found 32 / 33 columns around data row: 204. Filling remaining columns with `missing`\n",
      "thread = 1 warning: only found 32 / 33 columns around data row: 205. Filling remaining columns with `missing`\n",
      "thread = 1 warning: only found 32 / 33 columns around data row: 206. Filling remaining columns with `missing`\n",
      "thread = 1 warning: only found 32 / 33 columns around data row: 207. Filling remaining columns with `missing`\n",
      "thread = 1 warning: only found 32 / 33 columns around data row: 208. Filling remaining columns with `missing`\n",
      "thread = 1 warning: only found 32 / 33 columns around data row: 209. Filling remaining columns with `missing`\n",
      "thread = 1 warning: only found 32 / 33 columns around data row: 210. Filling remaining columns with `missing`\n",
      "thread = 1 warning: only found 32 / 33 columns around data row: 211. Filling remaining columns with `missing`\n",
      "thread = 1 warning: only found 32 / 33 columns around data row: 212. Filling remaining columns with `missing`\n",
      "thread = 1 warning: only found 32 / 33 columns around data row: 213. Filling remaining columns with `missing`\n",
      "thread = 1 warning: only found 32 / 33 columns around data row: 214. Filling remaining columns with `missing`\n",
      "thread = 1 warning: only found 32 / 33 columns around data row: 215. Filling remaining columns with `missing`\n",
      "thread = 1 warning: only found 32 / 33 columns around data row: 216. Filling remaining columns with `missing`\n",
      "thread = 1 warning: only found 32 / 33 columns around data row: 217. Filling remaining columns with `missing`\n",
      "thread = 1 warning: only found 32 / 33 columns around data row: 218. Filling remaining columns with `missing`\n",
      "thread = 1 warning: only found 32 / 33 columns around data row: 219. Filling remaining columns with `missing`\n",
      "thread = 1 warning: only found 32 / 33 columns around data row: 220. Filling remaining columns with `missing`\n",
      "thread = 1 warning: only found 32 / 33 columns around data row: 221. Filling remaining columns with `missing`\n",
      "thread = 1 warning: only found 32 / 33 columns around data row: 222. Filling remaining columns with `missing`\n",
      "thread = 1 warning: only found 32 / 33 columns around data row: 223. Filling remaining columns with `missing`\n",
      "thread = 1 warning: only found 32 / 33 columns around data row: 224. Filling remaining columns with `missing`\n",
      "thread = 1 warning: only found 32 / 33 columns around data row: 225. Filling remaining columns with `missing`\n",
      "thread = 1 warning: only found 32 / 33 columns around data row: 226. Filling remaining columns with `missing`\n",
      "thread = 1 warning: only found 32 / 33 columns around data row: 227. Filling remaining columns with `missing`\n",
      "thread = 1 warning: only found 32 / 33 columns around data row: 228. Filling remaining columns with `missing`\n",
      "thread = 1 warning: only found 32 / 33 columns around data row: 229. Filling remaining columns with `missing`\n",
      "thread = 1 warning: only found 32 / 33 columns around data row: 230. Filling remaining columns with `missing`\n",
      "thread = 1 warning: only found 32 / 33 columns around data row: 231. Filling remaining columns with `missing`\n",
      "thread = 1 warning: only found 32 / 33 columns around data row: 232. Filling remaining columns with `missing`\n",
      "thread = 1 warning: only found 32 / 33 columns around data row: 233. Filling remaining columns with `missing`\n",
      "thread = 1 warning: only found 32 / 33 columns around data row: 234. Filling remaining columns with `missing`\n",
      "thread = 1 warning: only found 32 / 33 columns around data row: 235. Filling remaining columns with `missing`\n",
      "thread = 1 warning: only found 32 / 33 columns around data row: 236. Filling remaining columns with `missing`\n",
      "thread = 1 warning: only found 32 / 33 columns around data row: 237. Filling remaining columns with `missing`\n",
      "thread = 1 warning: only found 32 / 33 columns around data row: 238. Filling remaining columns with `missing`\n",
      "thread = 1 warning: only found 32 / 33 columns around data row: 239. Filling remaining columns with `missing`\n",
      "thread = 1 warning: only found 32 / 33 columns around data row: 240. Filling remaining columns with `missing`\n",
      "thread = 1 warning: only found 32 / 33 columns around data row: 241. Filling remaining columns with `missing`\n",
      "thread = 1 warning: only found 32 / 33 columns around data row: 242. Filling remaining columns with `missing`\n",
      "thread = 1 warning: only found 32 / 33 columns around data row: 243. Filling remaining columns with `missing`\n",
      "thread = 1 warning: only found 32 / 33 columns around data row: 244. Filling remaining columns with `missing`\n",
      "thread = 1 warning: only found 32 / 33 columns around data row: 245. Filling remaining columns with `missing`\n",
      "thread = 1 warning: only found 32 / 33 columns around data row: 246. Filling remaining columns with `missing`\n",
      "thread = 1 warning: only found 32 / 33 columns around data row: 247. Filling remaining columns with `missing`\n",
      "thread = 1 warning: only found 32 / 33 columns around data row: 248. Filling remaining columns with `missing`\n",
      "thread = 1 warning: only found 32 / 33 columns around data row: 249. Filling remaining columns with `missing`\n",
      "thread = 1 warning: only found 32 / 33 columns around data row: 250. Filling remaining columns with `missing`\n",
      "thread = 1 warning: only found 32 / 33 columns around data row: 251. Filling remaining columns with `missing`\n",
      "thread = 1 warning: only found 32 / 33 columns around data row: 252. Filling remaining columns with `missing`\n",
      "thread = 1 warning: only found 32 / 33 columns around data row: 253. Filling remaining columns with `missing`\n",
      "thread = 1 warning: only found 32 / 33 columns around data row: 254. Filling remaining columns with `missing`\n",
      "thread = 1 warning: only found 32 / 33 columns around data row: 255. Filling remaining columns with `missing`\n",
      "thread = 1 warning: only found 32 / 33 columns around data row: 256. Filling remaining columns with `missing`\n",
      "thread = 1 warning: only found 32 / 33 columns around data row: 257. Filling remaining columns with `missing`\n",
      "thread = 1 warning: only found 32 / 33 columns around data row: 258. Filling remaining columns with `missing`\n",
      "thread = 1 warning: only found 32 / 33 columns around data row: 259. Filling remaining columns with `missing`\n",
      "thread = 1 warning: only found 32 / 33 columns around data row: 260. Filling remaining columns with `missing`\n",
      "thread = 1 warning: only found 32 / 33 columns around data row: 261. Filling remaining columns with `missing`\n",
      "thread = 1 warning: only found 32 / 33 columns around data row: 262. Filling remaining columns with `missing`\n",
      "thread = 1 warning: only found 32 / 33 columns around data row: 263. Filling remaining columns with `missing`\n",
      "thread = 1 warning: only found 32 / 33 columns around data row: 264. Filling remaining columns with `missing`\n",
      "thread = 1 warning: only found 32 / 33 columns around data row: 265. Filling remaining columns with `missing`\n",
      "thread = 1 warning: only found 32 / 33 columns around data row: 266. Filling remaining columns with `missing`\n",
      "thread = 1 warning: only found 32 / 33 columns around data row: 267. Filling remaining columns with `missing`\n",
      "thread = 1 warning: only found 32 / 33 columns around data row: 268. Filling remaining columns with `missing`\n",
      "thread = 1 warning: only found 32 / 33 columns around data row: 269. Filling remaining columns with `missing`\n",
      "thread = 1 warning: only found 32 / 33 columns around data row: 270. Filling remaining columns with `missing`\n",
      "thread = 1 warning: only found 32 / 33 columns around data row: 271. Filling remaining columns with `missing`\n",
      "thread = 1 warning: only found 32 / 33 columns around data row: 272. Filling remaining columns with `missing`\n",
      "thread = 1 warning: only found 32 / 33 columns around data row: 273. Filling remaining columns with `missing`\n",
      "thread = 1 warning: only found 32 / 33 columns around data row: 274. Filling remaining columns with `missing`\n",
      "thread = 1 warning: only found 32 / 33 columns around data row: 275. Filling remaining columns with `missing`\n",
      "thread = 1 warning: only found 32 / 33 columns around data row: 276. Filling remaining columns with `missing`\n",
      "thread = 1 warning: only found 32 / 33 columns around data row: 277. Filling remaining columns with `missing`\n",
      "thread = 1 warning: only found 32 / 33 columns around data row: 278. Filling remaining columns with `missing`\n",
      "thread = 1 warning: only found 32 / 33 columns around data row: 279. Filling remaining columns with `missing`\n",
      "thread = 1 warning: only found 32 / 33 columns around data row: 280. Filling remaining columns with `missing`\n",
      "thread = 1 warning: only found 32 / 33 columns around data row: 281. Filling remaining columns with `missing`\n",
      "thread = 1 warning: only found 32 / 33 columns around data row: 282. Filling remaining columns with `missing`\n",
      "thread = 1 warning: only found 32 / 33 columns around data row: 283. Filling remaining columns with `missing`\n",
      "thread = 1 warning: only found 32 / 33 columns around data row: 284. Filling remaining columns with `missing`\n"
     ]
    },
    {
     "name": "stdout",
     "output_type": "stream",
     "text": [
      "thread = 1 warning: only found 32 / 33 columns around data row: 285. Filling remaining columns with `missing`\n",
      "thread = 1 warning: only found 32 / 33 columns around data row: 286. Filling remaining columns with `missing`\n",
      "thread = 1 warning: only found 32 / 33 columns around data row: 287. Filling remaining columns with `missing`\n",
      "thread = 1 warning: only found 32 / 33 columns around data row: 288. Filling remaining columns with `missing`\n",
      "thread = 1 warning: only found 32 / 33 columns around data row: 289. Filling remaining columns with `missing`\n",
      "thread = 1 warning: only found 32 / 33 columns around data row: 290. Filling remaining columns with `missing`\n",
      "thread = 1 warning: only found 32 / 33 columns around data row: 291. Filling remaining columns with `missing`\n",
      "thread = 1 warning: only found 32 / 33 columns around data row: 292. Filling remaining columns with `missing`\n",
      "thread = 1 warning: only found 32 / 33 columns around data row: 293. Filling remaining columns with `missing`\n",
      "thread = 1 warning: only found 32 / 33 columns around data row: 294. Filling remaining columns with `missing`\n",
      "thread = 1 warning: only found 32 / 33 columns around data row: 295. Filling remaining columns with `missing`\n",
      "thread = 1 warning: only found 32 / 33 columns around data row: 296. Filling remaining columns with `missing`\n",
      "thread = 1 warning: only found 32 / 33 columns around data row: 297. Filling remaining columns with `missing`\n",
      "thread = 1 warning: only found 32 / 33 columns around data row: 298. Filling remaining columns with `missing`\n",
      "thread = 1 warning: only found 32 / 33 columns around data row: 299. Filling remaining columns with `missing`\n",
      "thread = 1 warning: only found 32 / 33 columns around data row: 300. Filling remaining columns with `missing`\n",
      "thread = 1 warning: only found 32 / 33 columns around data row: 301. Filling remaining columns with `missing`\n",
      "thread = 1 warning: only found 32 / 33 columns around data row: 302. Filling remaining columns with `missing`\n",
      "thread = 1 warning: only found 32 / 33 columns around data row: 303. Filling remaining columns with `missing`\n",
      "thread = 1 warning: only found 32 / 33 columns around data row: 304. Filling remaining columns with `missing`\n",
      "thread = 1 warning: only found 32 / 33 columns around data row: 305. Filling remaining columns with `missing`\n",
      "thread = 1 warning: only found 32 / 33 columns around data row: 306. Filling remaining columns with `missing`\n",
      "thread = 1 warning: only found 32 / 33 columns around data row: 307. Filling remaining columns with `missing`\n",
      "thread = 1 warning: only found 32 / 33 columns around data row: 308. Filling remaining columns with `missing`\n",
      "thread = 1 warning: only found 32 / 33 columns around data row: 309. Filling remaining columns with `missing`\n",
      "thread = 1 warning: only found 32 / 33 columns around data row: 310. Filling remaining columns with `missing`\n",
      "thread = 1 warning: only found 32 / 33 columns around data row: 311. Filling remaining columns with `missing`\n",
      "thread = 1 warning: only found 32 / 33 columns around data row: 312. Filling remaining columns with `missing`\n",
      "thread = 1 warning: only found 32 / 33 columns around data row: 313. Filling remaining columns with `missing`\n",
      "thread = 1 warning: only found 32 / 33 columns around data row: 314. Filling remaining columns with `missing`\n",
      "thread = 1 warning: only found 32 / 33 columns around data row: 315. Filling remaining columns with `missing`\n",
      "thread = 1 warning: only found 32 / 33 columns around data row: 316. Filling remaining columns with `missing`\n",
      "thread = 1 warning: only found 32 / 33 columns around data row: 317. Filling remaining columns with `missing`\n",
      "thread = 1 warning: only found 32 / 33 columns around data row: 318. Filling remaining columns with `missing`\n",
      "thread = 1 warning: only found 32 / 33 columns around data row: 319. Filling remaining columns with `missing`\n",
      "thread = 1 warning: only found 32 / 33 columns around data row: 320. Filling remaining columns with `missing`\n",
      "thread = 1 warning: only found 32 / 33 columns around data row: 321. Filling remaining columns with `missing`\n",
      "thread = 1 warning: only found 32 / 33 columns around data row: 322. Filling remaining columns with `missing`\n",
      "thread = 1 warning: only found 32 / 33 columns around data row: 323. Filling remaining columns with `missing`\n",
      "thread = 1 warning: only found 32 / 33 columns around data row: 324. Filling remaining columns with `missing`\n",
      "thread = 1 warning: only found 32 / 33 columns around data row: 325. Filling remaining columns with `missing`\n",
      "thread = 1 warning: only found 32 / 33 columns around data row: 326. Filling remaining columns with `missing`\n",
      "thread = 1 warning: only found 32 / 33 columns around data row: 327. Filling remaining columns with `missing`\n",
      "thread = 1 warning: only found 32 / 33 columns around data row: 328. Filling remaining columns with `missing`\n",
      "thread = 1 warning: only found 32 / 33 columns around data row: 329. Filling remaining columns with `missing`\n",
      "thread = 1 warning: only found 32 / 33 columns around data row: 330. Filling remaining columns with `missing`\n",
      "thread = 1 warning: only found 32 / 33 columns around data row: 331. Filling remaining columns with `missing`\n",
      "thread = 1 warning: only found 32 / 33 columns around data row: 332. Filling remaining columns with `missing`\n",
      "thread = 1 warning: only found 32 / 33 columns around data row: 333. Filling remaining columns with `missing`\n",
      "thread = 1 warning: only found 32 / 33 columns around data row: 334. Filling remaining columns with `missing`\n",
      "thread = 1 warning: only found 32 / 33 columns around data row: 335. Filling remaining columns with `missing`\n",
      "thread = 1 warning: only found 32 / 33 columns around data row: 336. Filling remaining columns with `missing`\n",
      "thread = 1 warning: only found 32 / 33 columns around data row: 337. Filling remaining columns with `missing`\n",
      "thread = 1 warning: only found 32 / 33 columns around data row: 338. Filling remaining columns with `missing`\n",
      "thread = 1 warning: only found 32 / 33 columns around data row: 339. Filling remaining columns with `missing`\n",
      "thread = 1 warning: only found 32 / 33 columns around data row: 340. Filling remaining columns with `missing`\n",
      "thread = 1 warning: only found 32 / 33 columns around data row: 341. Filling remaining columns with `missing`\n",
      "thread = 1 warning: only found 32 / 33 columns around data row: 342. Filling remaining columns with `missing`\n",
      "thread = 1 warning: only found 32 / 33 columns around data row: 343. Filling remaining columns with `missing`\n",
      "thread = 1 warning: only found 32 / 33 columns around data row: 344. Filling remaining columns with `missing`\n",
      "thread = 1 warning: only found 32 / 33 columns around data row: 345. Filling remaining columns with `missing`\n",
      "thread = 1 warning: only found 32 / 33 columns around data row: 346. Filling remaining columns with `missing`\n",
      "thread = 1 warning: only found 32 / 33 columns around data row: 347. Filling remaining columns with `missing`\n",
      "thread = 1 warning: only found 32 / 33 columns around data row: 348. Filling remaining columns with `missing`\n",
      "thread = 1 warning: only found 32 / 33 columns around data row: 349. Filling remaining columns with `missing`\n",
      "thread = 1 warning: only found 32 / 33 columns around data row: 350. Filling remaining columns with `missing`\n",
      "thread = 1 warning: only found 32 / 33 columns around data row: 351. Filling remaining columns with `missing`\n",
      "thread = 1 warning: only found 32 / 33 columns around data row: 352. Filling remaining columns with `missing`\n",
      "thread = 1 warning: only found 32 / 33 columns around data row: 353. Filling remaining columns with `missing`\n",
      "thread = 1 warning: only found 32 / 33 columns around data row: 354. Filling remaining columns with `missing`\n",
      "thread = 1 warning: only found 32 / 33 columns around data row: 355. Filling remaining columns with `missing`\n",
      "thread = 1 warning: only found 32 / 33 columns around data row: 356. Filling remaining columns with `missing`\n",
      "thread = 1 warning: only found 32 / 33 columns around data row: 357. Filling remaining columns with `missing`\n",
      "thread = 1 warning: only found 32 / 33 columns around data row: 358. Filling remaining columns with `missing`\n",
      "thread = 1 warning: only found 32 / 33 columns around data row: 359. Filling remaining columns with `missing`\n",
      "thread = 1 warning: only found 32 / 33 columns around data row: 360. Filling remaining columns with `missing`\n",
      "thread = 1 warning: only found 32 / 33 columns around data row: 361. Filling remaining columns with `missing`\n",
      "thread = 1 warning: only found 32 / 33 columns around data row: 362. Filling remaining columns with `missing`\n",
      "thread = 1 warning: only found 32 / 33 columns around data row: 363. Filling remaining columns with `missing`\n",
      "thread = 1 warning: only found 32 / 33 columns around data row: 364. Filling remaining columns with `missing`\n",
      "thread = 1 warning: only found 32 / 33 columns around data row: 365. Filling remaining columns with `missing`\n",
      "thread = 1 warning: only found 32 / 33 columns around data row: 366. Filling remaining columns with `missing`\n",
      "thread = 1 warning: only found 32 / 33 columns around data row: 367. Filling remaining columns with `missing`\n",
      "thread = 1 warning: only found 32 / 33 columns around data row: 368. Filling remaining columns with `missing`\n",
      "thread = 1 warning: only found 32 / 33 columns around data row: 369. Filling remaining columns with `missing`\n",
      "thread = 1 warning: only found 32 / 33 columns around data row: 370. Filling remaining columns with `missing`\n",
      "thread = 1 warning: only found 32 / 33 columns around data row: 371. Filling remaining columns with `missing`\n",
      "thread = 1 warning: only found 32 / 33 columns around data row: 372. Filling remaining columns with `missing`\n",
      "thread = 1 warning: only found 32 / 33 columns around data row: 373. Filling remaining columns with `missing`\n",
      "thread = 1 warning: only found 32 / 33 columns around data row: 374. Filling remaining columns with `missing`\n",
      "thread = 1 warning: only found 32 / 33 columns around data row: 375. Filling remaining columns with `missing`\n",
      "thread = 1 warning: only found 32 / 33 columns around data row: 376. Filling remaining columns with `missing`\n",
      "thread = 1 warning: only found 32 / 33 columns around data row: 377. Filling remaining columns with `missing`\n",
      "thread = 1 warning: only found 32 / 33 columns around data row: 378. Filling remaining columns with `missing`\n"
     ]
    },
    {
     "name": "stdout",
     "output_type": "stream",
     "text": [
      "thread = 1 warning: only found 32 / 33 columns around data row: 379. Filling remaining columns with `missing`\n",
      "thread = 1 warning: only found 32 / 33 columns around data row: 380. Filling remaining columns with `missing`\n",
      "thread = 1 warning: only found 32 / 33 columns around data row: 381. Filling remaining columns with `missing`\n",
      "thread = 1 warning: only found 32 / 33 columns around data row: 382. Filling remaining columns with `missing`\n",
      "thread = 1 warning: only found 32 / 33 columns around data row: 383. Filling remaining columns with `missing`\n",
      "thread = 1 warning: only found 32 / 33 columns around data row: 384. Filling remaining columns with `missing`\n",
      "thread = 1 warning: only found 32 / 33 columns around data row: 385. Filling remaining columns with `missing`\n",
      "thread = 1 warning: only found 32 / 33 columns around data row: 386. Filling remaining columns with `missing`\n",
      "thread = 1 warning: only found 32 / 33 columns around data row: 387. Filling remaining columns with `missing`\n",
      "thread = 1 warning: only found 32 / 33 columns around data row: 388. Filling remaining columns with `missing`\n",
      "thread = 1 warning: only found 32 / 33 columns around data row: 389. Filling remaining columns with `missing`\n",
      "thread = 1 warning: only found 32 / 33 columns around data row: 390. Filling remaining columns with `missing`\n",
      "thread = 1 warning: only found 32 / 33 columns around data row: 391. Filling remaining columns with `missing`\n",
      "thread = 1 warning: only found 32 / 33 columns around data row: 392. Filling remaining columns with `missing`\n",
      "thread = 1 warning: only found 32 / 33 columns around data row: 393. Filling remaining columns with `missing`\n",
      "thread = 1 warning: only found 32 / 33 columns around data row: 394. Filling remaining columns with `missing`\n",
      "thread = 1 warning: only found 32 / 33 columns around data row: 395. Filling remaining columns with `missing`\n",
      "thread = 1 warning: only found 32 / 33 columns around data row: 396. Filling remaining columns with `missing`\n",
      "thread = 1 warning: only found 32 / 33 columns around data row: 397. Filling remaining columns with `missing`\n",
      "thread = 1 warning: only found 32 / 33 columns around data row: 398. Filling remaining columns with `missing`\n",
      "thread = 1 warning: only found 32 / 33 columns around data row: 399. Filling remaining columns with `missing`\n",
      "thread = 1 warning: only found 32 / 33 columns around data row: 400. Filling remaining columns with `missing`\n",
      "thread = 1 warning: only found 32 / 33 columns around data row: 401. Filling remaining columns with `missing`\n",
      "thread = 1 warning: only found 32 / 33 columns around data row: 402. Filling remaining columns with `missing`\n",
      "thread = 1 warning: only found 32 / 33 columns around data row: 403. Filling remaining columns with `missing`\n",
      "thread = 1 warning: only found 32 / 33 columns around data row: 404. Filling remaining columns with `missing`\n",
      "thread = 1 warning: only found 32 / 33 columns around data row: 405. Filling remaining columns with `missing`\n",
      "thread = 1 warning: only found 32 / 33 columns around data row: 406. Filling remaining columns with `missing`\n",
      "thread = 1 warning: only found 32 / 33 columns around data row: 407. Filling remaining columns with `missing`\n",
      "thread = 1 warning: only found 32 / 33 columns around data row: 408. Filling remaining columns with `missing`\n",
      "thread = 1 warning: only found 32 / 33 columns around data row: 409. Filling remaining columns with `missing`\n",
      "thread = 1 warning: only found 32 / 33 columns around data row: 410. Filling remaining columns with `missing`\n",
      "thread = 1 warning: only found 32 / 33 columns around data row: 411. Filling remaining columns with `missing`\n",
      "thread = 1 warning: only found 32 / 33 columns around data row: 412. Filling remaining columns with `missing`\n",
      "thread = 1 warning: only found 32 / 33 columns around data row: 413. Filling remaining columns with `missing`\n",
      "thread = 1 warning: only found 32 / 33 columns around data row: 414. Filling remaining columns with `missing`\n",
      "thread = 1 warning: only found 32 / 33 columns around data row: 415. Filling remaining columns with `missing`\n",
      "thread = 1 warning: only found 32 / 33 columns around data row: 416. Filling remaining columns with `missing`\n",
      "thread = 1 warning: only found 32 / 33 columns around data row: 417. Filling remaining columns with `missing`\n",
      "thread = 1 warning: only found 32 / 33 columns around data row: 418. Filling remaining columns with `missing`\n",
      "thread = 1 warning: only found 32 / 33 columns around data row: 419. Filling remaining columns with `missing`\n",
      "thread = 1 warning: only found 32 / 33 columns around data row: 420. Filling remaining columns with `missing`\n",
      "thread = 1 warning: only found 32 / 33 columns around data row: 421. Filling remaining columns with `missing`\n",
      "thread = 1 warning: only found 32 / 33 columns around data row: 422. Filling remaining columns with `missing`\n",
      "thread = 1 warning: only found 32 / 33 columns around data row: 423. Filling remaining columns with `missing`\n",
      "thread = 1 warning: only found 32 / 33 columns around data row: 424. Filling remaining columns with `missing`\n",
      "thread = 1 warning: only found 32 / 33 columns around data row: 425. Filling remaining columns with `missing`\n",
      "thread = 1 warning: only found 32 / 33 columns around data row: 426. Filling remaining columns with `missing`\n",
      "thread = 1 warning: only found 32 / 33 columns around data row: 427. Filling remaining columns with `missing`\n",
      "thread = 1 warning: only found 32 / 33 columns around data row: 428. Filling remaining columns with `missing`\n",
      "thread = 1 warning: only found 32 / 33 columns around data row: 429. Filling remaining columns with `missing`\n",
      "thread = 1 warning: only found 32 / 33 columns around data row: 430. Filling remaining columns with `missing`\n",
      "thread = 1 warning: only found 32 / 33 columns around data row: 431. Filling remaining columns with `missing`\n",
      "thread = 1 warning: only found 32 / 33 columns around data row: 432. Filling remaining columns with `missing`\n",
      "thread = 1 warning: only found 32 / 33 columns around data row: 433. Filling remaining columns with `missing`\n",
      "thread = 1 warning: only found 32 / 33 columns around data row: 434. Filling remaining columns with `missing`\n",
      "thread = 1 warning: only found 32 / 33 columns around data row: 435. Filling remaining columns with `missing`\n",
      "thread = 1 warning: only found 32 / 33 columns around data row: 436. Filling remaining columns with `missing`\n",
      "thread = 1 warning: only found 32 / 33 columns around data row: 437. Filling remaining columns with `missing`\n",
      "thread = 1 warning: only found 32 / 33 columns around data row: 438. Filling remaining columns with `missing`\n",
      "thread = 1 warning: only found 32 / 33 columns around data row: 439. Filling remaining columns with `missing`\n",
      "thread = 1 warning: only found 32 / 33 columns around data row: 440. Filling remaining columns with `missing`\n",
      "thread = 1 warning: only found 32 / 33 columns around data row: 441. Filling remaining columns with `missing`\n",
      "thread = 1 warning: only found 32 / 33 columns around data row: 442. Filling remaining columns with `missing`\n",
      "thread = 1 warning: only found 32 / 33 columns around data row: 443. Filling remaining columns with `missing`\n",
      "thread = 1 warning: only found 32 / 33 columns around data row: 444. Filling remaining columns with `missing`\n",
      "thread = 1 warning: only found 32 / 33 columns around data row: 445. Filling remaining columns with `missing`\n",
      "thread = 1 warning: only found 32 / 33 columns around data row: 446. Filling remaining columns with `missing`\n",
      "thread = 1 warning: only found 32 / 33 columns around data row: 447. Filling remaining columns with `missing`\n",
      "thread = 1 warning: only found 32 / 33 columns around data row: 448. Filling remaining columns with `missing`\n",
      "thread = 1 warning: only found 32 / 33 columns around data row: 449. Filling remaining columns with `missing`\n",
      "thread = 1 warning: only found 32 / 33 columns around data row: 450. Filling remaining columns with `missing`\n",
      "thread = 1 warning: only found 32 / 33 columns around data row: 451. Filling remaining columns with `missing`\n",
      "thread = 1 warning: only found 32 / 33 columns around data row: 452. Filling remaining columns with `missing`\n",
      "thread = 1 warning: only found 32 / 33 columns around data row: 453. Filling remaining columns with `missing`\n",
      "thread = 1 warning: only found 32 / 33 columns around data row: 454. Filling remaining columns with `missing`\n",
      "thread = 1 warning: only found 32 / 33 columns around data row: 455. Filling remaining columns with `missing`\n",
      "thread = 1 warning: only found 32 / 33 columns around data row: 456. Filling remaining columns with `missing`\n",
      "thread = 1 warning: only found 32 / 33 columns around data row: 457. Filling remaining columns with `missing`\n",
      "thread = 1 warning: only found 32 / 33 columns around data row: 458. Filling remaining columns with `missing`\n",
      "thread = 1 warning: only found 32 / 33 columns around data row: 459. Filling remaining columns with `missing`\n",
      "thread = 1 warning: only found 32 / 33 columns around data row: 460. Filling remaining columns with `missing`\n",
      "thread = 1 warning: only found 32 / 33 columns around data row: 461. Filling remaining columns with `missing`\n",
      "thread = 1 warning: only found 32 / 33 columns around data row: 462. Filling remaining columns with `missing`\n",
      "thread = 1 warning: only found 32 / 33 columns around data row: 463. Filling remaining columns with `missing`\n",
      "thread = 1 warning: only found 32 / 33 columns around data row: 464. Filling remaining columns with `missing`\n",
      "thread = 1 warning: only found 32 / 33 columns around data row: 465. Filling remaining columns with `missing`\n",
      "thread = 1 warning: only found 32 / 33 columns around data row: 466. Filling remaining columns with `missing`\n",
      "thread = 1 warning: only found 32 / 33 columns around data row: 467. Filling remaining columns with `missing`\n",
      "thread = 1 warning: only found 32 / 33 columns around data row: 468. Filling remaining columns with `missing`\n",
      "thread = 1 warning: only found 32 / 33 columns around data row: 469. Filling remaining columns with `missing`\n",
      "thread = 1 warning: only found 32 / 33 columns around data row: 470. Filling remaining columns with `missing`\n",
      "thread = 1 warning: only found 32 / 33 columns around data row: 471. Filling remaining columns with `missing`\n",
      "thread = 1 warning: only found 32 / 33 columns around data row: 472. Filling remaining columns with `missing`\n"
     ]
    },
    {
     "name": "stdout",
     "output_type": "stream",
     "text": [
      "thread = 1 warning: only found 32 / 33 columns around data row: 473. Filling remaining columns with `missing`\n",
      "thread = 1 warning: only found 32 / 33 columns around data row: 474. Filling remaining columns with `missing`\n",
      "thread = 1 warning: only found 32 / 33 columns around data row: 475. Filling remaining columns with `missing`\n",
      "thread = 1 warning: only found 32 / 33 columns around data row: 476. Filling remaining columns with `missing`\n",
      "thread = 1 warning: only found 32 / 33 columns around data row: 477. Filling remaining columns with `missing`\n",
      "thread = 1 warning: only found 32 / 33 columns around data row: 478. Filling remaining columns with `missing`\n",
      "thread = 1 warning: only found 32 / 33 columns around data row: 479. Filling remaining columns with `missing`\n",
      "thread = 1 warning: only found 32 / 33 columns around data row: 480. Filling remaining columns with `missing`\n",
      "thread = 1 warning: only found 32 / 33 columns around data row: 481. Filling remaining columns with `missing`\n",
      "thread = 1 warning: only found 32 / 33 columns around data row: 482. Filling remaining columns with `missing`\n",
      "thread = 1 warning: only found 32 / 33 columns around data row: 483. Filling remaining columns with `missing`\n",
      "thread = 1 warning: only found 32 / 33 columns around data row: 484. Filling remaining columns with `missing`\n",
      "thread = 1 warning: only found 32 / 33 columns around data row: 485. Filling remaining columns with `missing`\n",
      "thread = 1 warning: only found 32 / 33 columns around data row: 486. Filling remaining columns with `missing`\n",
      "thread = 1 warning: only found 32 / 33 columns around data row: 487. Filling remaining columns with `missing`\n",
      "thread = 1 warning: only found 32 / 33 columns around data row: 488. Filling remaining columns with `missing`\n",
      "thread = 1 warning: only found 32 / 33 columns around data row: 489. Filling remaining columns with `missing`\n",
      "thread = 1 warning: only found 32 / 33 columns around data row: 490. Filling remaining columns with `missing`\n",
      "thread = 1 warning: only found 32 / 33 columns around data row: 491. Filling remaining columns with `missing`\n",
      "thread = 1 warning: only found 32 / 33 columns around data row: 492. Filling remaining columns with `missing`\n",
      "thread = 1 warning: only found 32 / 33 columns around data row: 493. Filling remaining columns with `missing`\n",
      "thread = 1 warning: only found 32 / 33 columns around data row: 494. Filling remaining columns with `missing`\n",
      "thread = 1 warning: only found 32 / 33 columns around data row: 495. Filling remaining columns with `missing`\n",
      "thread = 1 warning: only found 32 / 33 columns around data row: 496. Filling remaining columns with `missing`\n",
      "thread = 1 warning: only found 32 / 33 columns around data row: 497. Filling remaining columns with `missing`\n",
      "thread = 1 warning: only found 32 / 33 columns around data row: 498. Filling remaining columns with `missing`\n",
      "thread = 1 warning: only found 32 / 33 columns around data row: 499. Filling remaining columns with `missing`\n",
      "thread = 1 warning: only found 32 / 33 columns around data row: 500. Filling remaining columns with `missing`\n",
      "thread = 1 warning: only found 32 / 33 columns around data row: 501. Filling remaining columns with `missing`\n",
      "thread = 1 warning: only found 32 / 33 columns around data row: 502. Filling remaining columns with `missing`\n",
      "thread = 1 warning: only found 32 / 33 columns around data row: 503. Filling remaining columns with `missing`\n",
      "thread = 1 warning: only found 32 / 33 columns around data row: 504. Filling remaining columns with `missing`\n",
      "thread = 1 warning: only found 32 / 33 columns around data row: 505. Filling remaining columns with `missing`\n",
      "thread = 1 warning: only found 32 / 33 columns around data row: 506. Filling remaining columns with `missing`\n",
      "thread = 1 warning: only found 32 / 33 columns around data row: 507. Filling remaining columns with `missing`\n",
      "thread = 1 warning: only found 32 / 33 columns around data row: 508. Filling remaining columns with `missing`\n",
      "thread = 1 warning: only found 32 / 33 columns around data row: 509. Filling remaining columns with `missing`\n",
      "thread = 1 warning: only found 32 / 33 columns around data row: 510. Filling remaining columns with `missing`\n",
      "thread = 1 warning: only found 32 / 33 columns around data row: 511. Filling remaining columns with `missing`\n",
      "thread = 1 warning: only found 32 / 33 columns around data row: 512. Filling remaining columns with `missing`\n",
      "thread = 1 warning: only found 32 / 33 columns around data row: 513. Filling remaining columns with `missing`\n",
      "thread = 1 warning: only found 32 / 33 columns around data row: 514. Filling remaining columns with `missing`\n",
      "thread = 1 warning: only found 32 / 33 columns around data row: 515. Filling remaining columns with `missing`\n",
      "thread = 1 warning: only found 32 / 33 columns around data row: 516. Filling remaining columns with `missing`\n",
      "thread = 1 warning: only found 32 / 33 columns around data row: 517. Filling remaining columns with `missing`\n",
      "thread = 1 warning: only found 32 / 33 columns around data row: 518. Filling remaining columns with `missing`\n",
      "thread = 1 warning: only found 32 / 33 columns around data row: 519. Filling remaining columns with `missing`\n",
      "thread = 1 warning: only found 32 / 33 columns around data row: 520. Filling remaining columns with `missing`\n",
      "thread = 1 warning: only found 32 / 33 columns around data row: 521. Filling remaining columns with `missing`\n",
      "thread = 1 warning: only found 32 / 33 columns around data row: 522. Filling remaining columns with `missing`\n",
      "thread = 1 warning: only found 32 / 33 columns around data row: 523. Filling remaining columns with `missing`\n",
      "thread = 1 warning: only found 32 / 33 columns around data row: 524. Filling remaining columns with `missing`\n",
      "thread = 1 warning: only found 32 / 33 columns around data row: 525. Filling remaining columns with `missing`\n",
      "thread = 1 warning: only found 32 / 33 columns around data row: 526. Filling remaining columns with `missing`\n",
      "thread = 1 warning: only found 32 / 33 columns around data row: 527. Filling remaining columns with `missing`\n",
      "thread = 1 warning: only found 32 / 33 columns around data row: 528. Filling remaining columns with `missing`\n",
      "thread = 1 warning: only found 32 / 33 columns around data row: 529. Filling remaining columns with `missing`\n",
      "thread = 1 warning: only found 32 / 33 columns around data row: 530. Filling remaining columns with `missing`\n",
      "thread = 1 warning: only found 32 / 33 columns around data row: 531. Filling remaining columns with `missing`\n",
      "thread = 1 warning: only found 32 / 33 columns around data row: 532. Filling remaining columns with `missing`\n",
      "thread = 1 warning: only found 32 / 33 columns around data row: 533. Filling remaining columns with `missing`\n",
      "thread = 1 warning: only found 32 / 33 columns around data row: 534. Filling remaining columns with `missing`\n",
      "thread = 1 warning: only found 32 / 33 columns around data row: 535. Filling remaining columns with `missing`\n",
      "thread = 1 warning: only found 32 / 33 columns around data row: 536. Filling remaining columns with `missing`\n",
      "thread = 1 warning: only found 32 / 33 columns around data row: 537. Filling remaining columns with `missing`\n",
      "thread = 1 warning: only found 32 / 33 columns around data row: 538. Filling remaining columns with `missing`\n",
      "thread = 1 warning: only found 32 / 33 columns around data row: 539. Filling remaining columns with `missing`\n",
      "thread = 1 warning: only found 32 / 33 columns around data row: 540. Filling remaining columns with `missing`\n",
      "thread = 1 warning: only found 32 / 33 columns around data row: 541. Filling remaining columns with `missing`\n",
      "thread = 1 warning: only found 32 / 33 columns around data row: 542. Filling remaining columns with `missing`\n",
      "thread = 1 warning: only found 32 / 33 columns around data row: 543. Filling remaining columns with `missing`\n",
      "thread = 1 warning: only found 32 / 33 columns around data row: 544. Filling remaining columns with `missing`\n",
      "thread = 1 warning: only found 32 / 33 columns around data row: 545. Filling remaining columns with `missing`\n",
      "thread = 1 warning: only found 32 / 33 columns around data row: 546. Filling remaining columns with `missing`\n",
      "thread = 1 warning: only found 32 / 33 columns around data row: 547. Filling remaining columns with `missing`\n",
      "thread = 1 warning: only found 32 / 33 columns around data row: 548. Filling remaining columns with `missing`\n",
      "thread = 1 warning: only found 32 / 33 columns around data row: 549. Filling remaining columns with `missing`\n",
      "thread = 1 warning: only found 32 / 33 columns around data row: 550. Filling remaining columns with `missing`\n",
      "thread = 1 warning: only found 32 / 33 columns around data row: 551. Filling remaining columns with `missing`\n",
      "thread = 1 warning: only found 32 / 33 columns around data row: 552. Filling remaining columns with `missing`\n",
      "thread = 1 warning: only found 32 / 33 columns around data row: 553. Filling remaining columns with `missing`\n",
      "thread = 1 warning: only found 32 / 33 columns around data row: 554. Filling remaining columns with `missing`\n",
      "thread = 1 warning: only found 32 / 33 columns around data row: 555. Filling remaining columns with `missing`\n",
      "thread = 1 warning: only found 32 / 33 columns around data row: 556. Filling remaining columns with `missing`\n",
      "thread = 1 warning: only found 32 / 33 columns around data row: 557. Filling remaining columns with `missing`\n",
      "thread = 1 warning: only found 32 / 33 columns around data row: 558. Filling remaining columns with `missing`\n",
      "thread = 1 warning: only found 32 / 33 columns around data row: 559. Filling remaining columns with `missing`\n",
      "thread = 1 warning: only found 32 / 33 columns around data row: 560. Filling remaining columns with `missing`\n",
      "thread = 1 warning: only found 32 / 33 columns around data row: 561. Filling remaining columns with `missing`\n",
      "thread = 1 warning: only found 32 / 33 columns around data row: 562. Filling remaining columns with `missing`\n",
      "thread = 1 warning: only found 32 / 33 columns around data row: 563. Filling remaining columns with `missing`\n",
      "thread = 1 warning: only found 32 / 33 columns around data row: 564. Filling remaining columns with `missing`\n",
      "thread = 1 warning: only found 32 / 33 columns around data row: 565. Filling remaining columns with `missing`\n",
      "thread = 1 warning: only found 32 / 33 columns around data row: 566. Filling remaining columns with `missing`\n"
     ]
    },
    {
     "name": "stdout",
     "output_type": "stream",
     "text": [
      "thread = 1 warning: only found 32 / 33 columns around data row: 567. Filling remaining columns with `missing`\n",
      "thread = 1 warning: only found 32 / 33 columns around data row: 568. Filling remaining columns with `missing`\n",
      "thread = 1 warning: only found 32 / 33 columns around data row: 569. Filling remaining columns with `missing`\n",
      "thread = 1 warning: only found 32 / 33 columns around data row: 570. Filling remaining columns with `missing`\n"
     ]
    },
    {
     "data": {
      "text/html": [
       "<table class=\"data-frame\"><thead><tr><th></th><th>id</th><th>diagnosis</th><th>radius_mean</th><th>texture_mean</th><th>perimeter_mean</th><th>area_mean</th><th>smoothness_mean</th></tr><tr><th></th><th>Int64</th><th>String</th><th>Float64</th><th>Float64</th><th>Float64</th><th>Float64</th><th>Float64</th></tr></thead><tbody><p>569 rows × 33 columns (omitted printing of 26 columns)</p><tr><th>1</th><td>842302</td><td>M</td><td>17.99</td><td>10.38</td><td>122.8</td><td>1001.0</td><td>0.1184</td></tr><tr><th>2</th><td>842517</td><td>M</td><td>20.57</td><td>17.77</td><td>132.9</td><td>1326.0</td><td>0.08474</td></tr><tr><th>3</th><td>84300903</td><td>M</td><td>19.69</td><td>21.25</td><td>130.0</td><td>1203.0</td><td>0.1096</td></tr><tr><th>4</th><td>84348301</td><td>M</td><td>11.42</td><td>20.38</td><td>77.58</td><td>386.1</td><td>0.1425</td></tr><tr><th>5</th><td>84358402</td><td>M</td><td>20.29</td><td>14.34</td><td>135.1</td><td>1297.0</td><td>0.1003</td></tr><tr><th>6</th><td>843786</td><td>M</td><td>12.45</td><td>15.7</td><td>82.57</td><td>477.1</td><td>0.1278</td></tr><tr><th>7</th><td>844359</td><td>M</td><td>18.25</td><td>19.98</td><td>119.6</td><td>1040.0</td><td>0.09463</td></tr><tr><th>8</th><td>84458202</td><td>M</td><td>13.71</td><td>20.83</td><td>90.2</td><td>577.9</td><td>0.1189</td></tr><tr><th>9</th><td>844981</td><td>M</td><td>13.0</td><td>21.82</td><td>87.5</td><td>519.8</td><td>0.1273</td></tr><tr><th>10</th><td>84501001</td><td>M</td><td>12.46</td><td>24.04</td><td>83.97</td><td>475.9</td><td>0.1186</td></tr><tr><th>11</th><td>845636</td><td>M</td><td>16.02</td><td>23.24</td><td>102.7</td><td>797.8</td><td>0.08206</td></tr><tr><th>12</th><td>84610002</td><td>M</td><td>15.78</td><td>17.89</td><td>103.6</td><td>781.0</td><td>0.0971</td></tr><tr><th>13</th><td>846226</td><td>M</td><td>19.17</td><td>24.8</td><td>132.4</td><td>1123.0</td><td>0.0974</td></tr><tr><th>14</th><td>846381</td><td>M</td><td>15.85</td><td>23.95</td><td>103.7</td><td>782.7</td><td>0.08401</td></tr><tr><th>15</th><td>84667401</td><td>M</td><td>13.73</td><td>22.61</td><td>93.6</td><td>578.3</td><td>0.1131</td></tr><tr><th>16</th><td>84799002</td><td>M</td><td>14.54</td><td>27.54</td><td>96.73</td><td>658.8</td><td>0.1139</td></tr><tr><th>17</th><td>848406</td><td>M</td><td>14.68</td><td>20.13</td><td>94.74</td><td>684.5</td><td>0.09867</td></tr><tr><th>18</th><td>84862001</td><td>M</td><td>16.13</td><td>20.68</td><td>108.1</td><td>798.8</td><td>0.117</td></tr><tr><th>19</th><td>849014</td><td>M</td><td>19.81</td><td>22.15</td><td>130.0</td><td>1260.0</td><td>0.09831</td></tr><tr><th>20</th><td>8510426</td><td>B</td><td>13.54</td><td>14.36</td><td>87.46</td><td>566.3</td><td>0.09779</td></tr><tr><th>21</th><td>8510653</td><td>B</td><td>13.08</td><td>15.71</td><td>85.63</td><td>520.0</td><td>0.1075</td></tr><tr><th>22</th><td>8510824</td><td>B</td><td>9.504</td><td>12.44</td><td>60.34</td><td>273.9</td><td>0.1024</td></tr><tr><th>23</th><td>8511133</td><td>M</td><td>15.34</td><td>14.26</td><td>102.5</td><td>704.4</td><td>0.1073</td></tr><tr><th>24</th><td>851509</td><td>M</td><td>21.16</td><td>23.04</td><td>137.2</td><td>1404.0</td><td>0.09428</td></tr><tr><th>25</th><td>852552</td><td>M</td><td>16.65</td><td>21.38</td><td>110.0</td><td>904.6</td><td>0.1121</td></tr><tr><th>26</th><td>852631</td><td>M</td><td>17.14</td><td>16.4</td><td>116.0</td><td>912.7</td><td>0.1186</td></tr><tr><th>27</th><td>852763</td><td>M</td><td>14.58</td><td>21.53</td><td>97.41</td><td>644.8</td><td>0.1054</td></tr><tr><th>28</th><td>852781</td><td>M</td><td>18.61</td><td>20.25</td><td>122.1</td><td>1094.0</td><td>0.0944</td></tr><tr><th>29</th><td>852973</td><td>M</td><td>15.3</td><td>25.27</td><td>102.4</td><td>732.4</td><td>0.1082</td></tr><tr><th>30</th><td>853201</td><td>M</td><td>17.57</td><td>15.05</td><td>115.0</td><td>955.1</td><td>0.09847</td></tr><tr><th>31</th><td>853401</td><td>M</td><td>18.63</td><td>25.11</td><td>124.8</td><td>1088.0</td><td>0.1064</td></tr><tr><th>32</th><td>853612</td><td>M</td><td>11.84</td><td>18.7</td><td>77.93</td><td>440.6</td><td>0.1109</td></tr><tr><th>33</th><td>85382601</td><td>M</td><td>17.02</td><td>23.98</td><td>112.8</td><td>899.3</td><td>0.1197</td></tr><tr><th>34</th><td>854002</td><td>M</td><td>19.27</td><td>26.47</td><td>127.9</td><td>1162.0</td><td>0.09401</td></tr><tr><th>35</th><td>854039</td><td>M</td><td>16.13</td><td>17.88</td><td>107.0</td><td>807.2</td><td>0.104</td></tr><tr><th>36</th><td>854253</td><td>M</td><td>16.74</td><td>21.59</td><td>110.1</td><td>869.5</td><td>0.0961</td></tr><tr><th>37</th><td>854268</td><td>M</td><td>14.25</td><td>21.72</td><td>93.63</td><td>633.0</td><td>0.09823</td></tr><tr><th>38</th><td>854941</td><td>B</td><td>13.03</td><td>18.42</td><td>82.61</td><td>523.8</td><td>0.08983</td></tr><tr><th>39</th><td>855133</td><td>M</td><td>14.99</td><td>25.2</td><td>95.54</td><td>698.8</td><td>0.09387</td></tr><tr><th>40</th><td>855138</td><td>M</td><td>13.48</td><td>20.82</td><td>88.4</td><td>559.2</td><td>0.1016</td></tr><tr><th>41</th><td>855167</td><td>M</td><td>13.44</td><td>21.58</td><td>86.18</td><td>563.0</td><td>0.08162</td></tr><tr><th>42</th><td>855563</td><td>M</td><td>10.95</td><td>21.35</td><td>71.9</td><td>371.1</td><td>0.1227</td></tr><tr><th>43</th><td>855625</td><td>M</td><td>19.07</td><td>24.81</td><td>128.3</td><td>1104.0</td><td>0.09081</td></tr><tr><th>44</th><td>856106</td><td>M</td><td>13.28</td><td>20.28</td><td>87.32</td><td>545.2</td><td>0.1041</td></tr><tr><th>45</th><td>85638502</td><td>M</td><td>13.17</td><td>21.81</td><td>85.42</td><td>531.5</td><td>0.09714</td></tr><tr><th>46</th><td>857010</td><td>M</td><td>18.65</td><td>17.6</td><td>123.7</td><td>1076.0</td><td>0.1099</td></tr><tr><th>47</th><td>85713702</td><td>B</td><td>8.196</td><td>16.84</td><td>51.71</td><td>201.9</td><td>0.086</td></tr><tr><th>48</th><td>85715</td><td>M</td><td>13.17</td><td>18.66</td><td>85.98</td><td>534.6</td><td>0.1158</td></tr><tr><th>49</th><td>857155</td><td>B</td><td>12.05</td><td>14.63</td><td>78.04</td><td>449.3</td><td>0.1031</td></tr><tr><th>50</th><td>857156</td><td>B</td><td>13.49</td><td>22.3</td><td>86.91</td><td>561.0</td><td>0.08752</td></tr><tr><th>&vellip;</th><td>&vellip;</td><td>&vellip;</td><td>&vellip;</td><td>&vellip;</td><td>&vellip;</td><td>&vellip;</td><td>&vellip;</td></tr></tbody></table>"
      ],
      "text/latex": [
       "\\begin{tabular}{r|cccccccc}\n",
       "\t& id & diagnosis & radius\\_mean & texture\\_mean & perimeter\\_mean & area\\_mean & smoothness\\_mean & \\\\\n",
       "\t\\hline\n",
       "\t& Int64 & String & Float64 & Float64 & Float64 & Float64 & Float64 & \\\\\n",
       "\t\\hline\n",
       "\t1 & 842302 & M & 17.99 & 10.38 & 122.8 & 1001.0 & 0.1184 & $\\dots$ \\\\\n",
       "\t2 & 842517 & M & 20.57 & 17.77 & 132.9 & 1326.0 & 0.08474 & $\\dots$ \\\\\n",
       "\t3 & 84300903 & M & 19.69 & 21.25 & 130.0 & 1203.0 & 0.1096 & $\\dots$ \\\\\n",
       "\t4 & 84348301 & M & 11.42 & 20.38 & 77.58 & 386.1 & 0.1425 & $\\dots$ \\\\\n",
       "\t5 & 84358402 & M & 20.29 & 14.34 & 135.1 & 1297.0 & 0.1003 & $\\dots$ \\\\\n",
       "\t6 & 843786 & M & 12.45 & 15.7 & 82.57 & 477.1 & 0.1278 & $\\dots$ \\\\\n",
       "\t7 & 844359 & M & 18.25 & 19.98 & 119.6 & 1040.0 & 0.09463 & $\\dots$ \\\\\n",
       "\t8 & 84458202 & M & 13.71 & 20.83 & 90.2 & 577.9 & 0.1189 & $\\dots$ \\\\\n",
       "\t9 & 844981 & M & 13.0 & 21.82 & 87.5 & 519.8 & 0.1273 & $\\dots$ \\\\\n",
       "\t10 & 84501001 & M & 12.46 & 24.04 & 83.97 & 475.9 & 0.1186 & $\\dots$ \\\\\n",
       "\t11 & 845636 & M & 16.02 & 23.24 & 102.7 & 797.8 & 0.08206 & $\\dots$ \\\\\n",
       "\t12 & 84610002 & M & 15.78 & 17.89 & 103.6 & 781.0 & 0.0971 & $\\dots$ \\\\\n",
       "\t13 & 846226 & M & 19.17 & 24.8 & 132.4 & 1123.0 & 0.0974 & $\\dots$ \\\\\n",
       "\t14 & 846381 & M & 15.85 & 23.95 & 103.7 & 782.7 & 0.08401 & $\\dots$ \\\\\n",
       "\t15 & 84667401 & M & 13.73 & 22.61 & 93.6 & 578.3 & 0.1131 & $\\dots$ \\\\\n",
       "\t16 & 84799002 & M & 14.54 & 27.54 & 96.73 & 658.8 & 0.1139 & $\\dots$ \\\\\n",
       "\t17 & 848406 & M & 14.68 & 20.13 & 94.74 & 684.5 & 0.09867 & $\\dots$ \\\\\n",
       "\t18 & 84862001 & M & 16.13 & 20.68 & 108.1 & 798.8 & 0.117 & $\\dots$ \\\\\n",
       "\t19 & 849014 & M & 19.81 & 22.15 & 130.0 & 1260.0 & 0.09831 & $\\dots$ \\\\\n",
       "\t20 & 8510426 & B & 13.54 & 14.36 & 87.46 & 566.3 & 0.09779 & $\\dots$ \\\\\n",
       "\t21 & 8510653 & B & 13.08 & 15.71 & 85.63 & 520.0 & 0.1075 & $\\dots$ \\\\\n",
       "\t22 & 8510824 & B & 9.504 & 12.44 & 60.34 & 273.9 & 0.1024 & $\\dots$ \\\\\n",
       "\t23 & 8511133 & M & 15.34 & 14.26 & 102.5 & 704.4 & 0.1073 & $\\dots$ \\\\\n",
       "\t24 & 851509 & M & 21.16 & 23.04 & 137.2 & 1404.0 & 0.09428 & $\\dots$ \\\\\n",
       "\t25 & 852552 & M & 16.65 & 21.38 & 110.0 & 904.6 & 0.1121 & $\\dots$ \\\\\n",
       "\t26 & 852631 & M & 17.14 & 16.4 & 116.0 & 912.7 & 0.1186 & $\\dots$ \\\\\n",
       "\t27 & 852763 & M & 14.58 & 21.53 & 97.41 & 644.8 & 0.1054 & $\\dots$ \\\\\n",
       "\t28 & 852781 & M & 18.61 & 20.25 & 122.1 & 1094.0 & 0.0944 & $\\dots$ \\\\\n",
       "\t29 & 852973 & M & 15.3 & 25.27 & 102.4 & 732.4 & 0.1082 & $\\dots$ \\\\\n",
       "\t30 & 853201 & M & 17.57 & 15.05 & 115.0 & 955.1 & 0.09847 & $\\dots$ \\\\\n",
       "\t31 & 853401 & M & 18.63 & 25.11 & 124.8 & 1088.0 & 0.1064 & $\\dots$ \\\\\n",
       "\t32 & 853612 & M & 11.84 & 18.7 & 77.93 & 440.6 & 0.1109 & $\\dots$ \\\\\n",
       "\t33 & 85382601 & M & 17.02 & 23.98 & 112.8 & 899.3 & 0.1197 & $\\dots$ \\\\\n",
       "\t34 & 854002 & M & 19.27 & 26.47 & 127.9 & 1162.0 & 0.09401 & $\\dots$ \\\\\n",
       "\t35 & 854039 & M & 16.13 & 17.88 & 107.0 & 807.2 & 0.104 & $\\dots$ \\\\\n",
       "\t36 & 854253 & M & 16.74 & 21.59 & 110.1 & 869.5 & 0.0961 & $\\dots$ \\\\\n",
       "\t37 & 854268 & M & 14.25 & 21.72 & 93.63 & 633.0 & 0.09823 & $\\dots$ \\\\\n",
       "\t38 & 854941 & B & 13.03 & 18.42 & 82.61 & 523.8 & 0.08983 & $\\dots$ \\\\\n",
       "\t39 & 855133 & M & 14.99 & 25.2 & 95.54 & 698.8 & 0.09387 & $\\dots$ \\\\\n",
       "\t40 & 855138 & M & 13.48 & 20.82 & 88.4 & 559.2 & 0.1016 & $\\dots$ \\\\\n",
       "\t41 & 855167 & M & 13.44 & 21.58 & 86.18 & 563.0 & 0.08162 & $\\dots$ \\\\\n",
       "\t42 & 855563 & M & 10.95 & 21.35 & 71.9 & 371.1 & 0.1227 & $\\dots$ \\\\\n",
       "\t43 & 855625 & M & 19.07 & 24.81 & 128.3 & 1104.0 & 0.09081 & $\\dots$ \\\\\n",
       "\t44 & 856106 & M & 13.28 & 20.28 & 87.32 & 545.2 & 0.1041 & $\\dots$ \\\\\n",
       "\t45 & 85638502 & M & 13.17 & 21.81 & 85.42 & 531.5 & 0.09714 & $\\dots$ \\\\\n",
       "\t46 & 857010 & M & 18.65 & 17.6 & 123.7 & 1076.0 & 0.1099 & $\\dots$ \\\\\n",
       "\t47 & 85713702 & B & 8.196 & 16.84 & 51.71 & 201.9 & 0.086 & $\\dots$ \\\\\n",
       "\t48 & 85715 & M & 13.17 & 18.66 & 85.98 & 534.6 & 0.1158 & $\\dots$ \\\\\n",
       "\t49 & 857155 & B & 12.05 & 14.63 & 78.04 & 449.3 & 0.1031 & $\\dots$ \\\\\n",
       "\t50 & 857156 & B & 13.49 & 22.3 & 86.91 & 561.0 & 0.08752 & $\\dots$ \\\\\n",
       "\t$\\dots$ & $\\dots$ & $\\dots$ & $\\dots$ & $\\dots$ & $\\dots$ & $\\dots$ & $\\dots$ &  \\\\\n",
       "\\end{tabular}\n"
      ],
      "text/plain": [
       "569×33 DataFrame. Omitted printing of 28 columns\n",
       "│ Row │ id       │ diagnosis │ radius_mean │ texture_mean │ perimeter_mean │\n",
       "│     │ \u001b[90mInt64\u001b[39m    │ \u001b[90mString\u001b[39m    │ \u001b[90mFloat64\u001b[39m     │ \u001b[90mFloat64\u001b[39m      │ \u001b[90mFloat64\u001b[39m        │\n",
       "├─────┼──────────┼───────────┼─────────────┼──────────────┼────────────────┤\n",
       "│ 1   │ 842302   │ M         │ 17.99       │ 10.38        │ 122.8          │\n",
       "│ 2   │ 842517   │ M         │ 20.57       │ 17.77        │ 132.9          │\n",
       "│ 3   │ 84300903 │ M         │ 19.69       │ 21.25        │ 130.0          │\n",
       "│ 4   │ 84348301 │ M         │ 11.42       │ 20.38        │ 77.58          │\n",
       "│ 5   │ 84358402 │ M         │ 20.29       │ 14.34        │ 135.1          │\n",
       "│ 6   │ 843786   │ M         │ 12.45       │ 15.7         │ 82.57          │\n",
       "│ 7   │ 844359   │ M         │ 18.25       │ 19.98        │ 119.6          │\n",
       "│ 8   │ 84458202 │ M         │ 13.71       │ 20.83        │ 90.2           │\n",
       "│ 9   │ 844981   │ M         │ 13.0        │ 21.82        │ 87.5           │\n",
       "│ 10  │ 84501001 │ M         │ 12.46       │ 24.04        │ 83.97          │\n",
       "│ 11  │ 845636   │ M         │ 16.02       │ 23.24        │ 102.7          │\n",
       "│ 12  │ 84610002 │ M         │ 15.78       │ 17.89        │ 103.6          │\n",
       "│ 13  │ 846226   │ M         │ 19.17       │ 24.8         │ 132.4          │\n",
       "│ 14  │ 846381   │ M         │ 15.85       │ 23.95        │ 103.7          │\n",
       "│ 15  │ 84667401 │ M         │ 13.73       │ 22.61        │ 93.6           │\n",
       "│ 16  │ 84799002 │ M         │ 14.54       │ 27.54        │ 96.73          │\n",
       "│ 17  │ 848406   │ M         │ 14.68       │ 20.13        │ 94.74          │\n",
       "│ 18  │ 84862001 │ M         │ 16.13       │ 20.68        │ 108.1          │\n",
       "│ 19  │ 849014   │ M         │ 19.81       │ 22.15        │ 130.0          │\n",
       "│ 20  │ 8510426  │ B         │ 13.54       │ 14.36        │ 87.46          │\n",
       "⋮\n",
       "│ 549 │ 923169   │ B         │ 9.683       │ 19.34        │ 61.05          │\n",
       "│ 550 │ 923465   │ B         │ 10.82       │ 24.21        │ 68.89          │\n",
       "│ 551 │ 923748   │ B         │ 10.86       │ 21.48        │ 68.51          │\n",
       "│ 552 │ 923780   │ B         │ 11.13       │ 22.44        │ 71.49          │\n",
       "│ 553 │ 924084   │ B         │ 12.77       │ 29.43        │ 81.35          │\n",
       "│ 554 │ 924342   │ B         │ 9.333       │ 21.94        │ 59.01          │\n",
       "│ 555 │ 924632   │ B         │ 12.88       │ 28.92        │ 82.5           │\n",
       "│ 556 │ 924934   │ B         │ 10.29       │ 27.61        │ 65.67          │\n",
       "│ 557 │ 924964   │ B         │ 10.16       │ 19.59        │ 64.73          │\n",
       "│ 558 │ 925236   │ B         │ 9.423       │ 27.88        │ 59.26          │\n",
       "│ 559 │ 925277   │ B         │ 14.59       │ 22.68        │ 96.39          │\n",
       "│ 560 │ 925291   │ B         │ 11.51       │ 23.93        │ 74.52          │\n",
       "│ 561 │ 925292   │ B         │ 14.05       │ 27.15        │ 91.38          │\n",
       "│ 562 │ 925311   │ B         │ 11.2        │ 29.37        │ 70.67          │\n",
       "│ 563 │ 925622   │ M         │ 15.22       │ 30.62        │ 103.4          │\n",
       "│ 564 │ 926125   │ M         │ 20.92       │ 25.09        │ 143.0          │\n",
       "│ 565 │ 926424   │ M         │ 21.56       │ 22.39        │ 142.0          │\n",
       "│ 566 │ 926682   │ M         │ 20.13       │ 28.25        │ 131.2          │\n",
       "│ 567 │ 926954   │ M         │ 16.6        │ 28.08        │ 108.3          │\n",
       "│ 568 │ 927241   │ M         │ 20.6        │ 29.33        │ 140.1          │\n",
       "│ 569 │ 92751    │ B         │ 7.76        │ 24.54        │ 47.92          │"
      ]
     },
     "execution_count": 88,
     "metadata": {},
     "output_type": "execute_result"
    }
   ],
   "source": [
    "data = CSV.read(\"data.csv\")"
   ]
  },
  {
   "cell_type": "code",
   "execution_count": 89,
   "metadata": {},
   "outputs": [
    {
     "data": {
      "text/html": [
       "<table class=\"data-frame\"><thead><tr><th></th><th>variable</th><th>mean</th><th>min</th><th>median</th><th>max</th><th>nunique</th><th>nmissing</th></tr><tr><th></th><th>Symbol</th><th>Union…</th><th>Any</th><th>Union…</th><th>Any</th><th>Union…</th><th>Nothing</th></tr></thead><tbody><p>31 rows × 8 columns (omitted printing of 1 columns)</p><tr><th>1</th><td>diagnosis</td><td></td><td>B</td><td></td><td>M</td><td>2</td><td></td></tr><tr><th>2</th><td>radius_mean</td><td>14.1273</td><td>6.981</td><td>13.37</td><td>28.11</td><td></td><td></td></tr><tr><th>3</th><td>texture_mean</td><td>19.2896</td><td>9.71</td><td>18.84</td><td>39.28</td><td></td><td></td></tr><tr><th>4</th><td>perimeter_mean</td><td>91.969</td><td>43.79</td><td>86.24</td><td>188.5</td><td></td><td></td></tr><tr><th>5</th><td>area_mean</td><td>654.889</td><td>143.5</td><td>551.1</td><td>2501.0</td><td></td><td></td></tr><tr><th>6</th><td>smoothness_mean</td><td>0.0963603</td><td>0.05263</td><td>0.09587</td><td>0.1634</td><td></td><td></td></tr><tr><th>7</th><td>compactness_mean</td><td>0.104341</td><td>0.01938</td><td>0.09263</td><td>0.3454</td><td></td><td></td></tr><tr><th>8</th><td>concavity_mean</td><td>0.0887993</td><td>0.0</td><td>0.06154</td><td>0.4268</td><td></td><td></td></tr><tr><th>9</th><td>concave points_mean</td><td>0.0489191</td><td>0.0</td><td>0.0335</td><td>0.2012</td><td></td><td></td></tr><tr><th>10</th><td>symmetry_mean</td><td>0.181162</td><td>0.106</td><td>0.1792</td><td>0.304</td><td></td><td></td></tr><tr><th>11</th><td>fractal_dimension_mean</td><td>0.0627976</td><td>0.04996</td><td>0.06154</td><td>0.09744</td><td></td><td></td></tr><tr><th>12</th><td>radius_se</td><td>0.405172</td><td>0.1115</td><td>0.3242</td><td>2.873</td><td></td><td></td></tr><tr><th>13</th><td>texture_se</td><td>1.21685</td><td>0.3602</td><td>1.108</td><td>4.885</td><td></td><td></td></tr><tr><th>14</th><td>perimeter_se</td><td>2.86606</td><td>0.757</td><td>2.287</td><td>21.98</td><td></td><td></td></tr><tr><th>15</th><td>area_se</td><td>40.3371</td><td>6.802</td><td>24.53</td><td>542.2</td><td></td><td></td></tr><tr><th>16</th><td>smoothness_se</td><td>0.00704098</td><td>0.001713</td><td>0.00638</td><td>0.03113</td><td></td><td></td></tr><tr><th>17</th><td>compactness_se</td><td>0.0254781</td><td>0.002252</td><td>0.02045</td><td>0.1354</td><td></td><td></td></tr><tr><th>18</th><td>concavity_se</td><td>0.0318937</td><td>0.0</td><td>0.02589</td><td>0.396</td><td></td><td></td></tr><tr><th>19</th><td>concave points_se</td><td>0.0117961</td><td>0.0</td><td>0.01093</td><td>0.05279</td><td></td><td></td></tr><tr><th>20</th><td>symmetry_se</td><td>0.0205423</td><td>0.007882</td><td>0.01873</td><td>0.07895</td><td></td><td></td></tr><tr><th>21</th><td>fractal_dimension_se</td><td>0.0037949</td><td>0.0008948</td><td>0.003187</td><td>0.02984</td><td></td><td></td></tr><tr><th>22</th><td>radius_worst</td><td>16.2692</td><td>7.93</td><td>14.97</td><td>36.04</td><td></td><td></td></tr><tr><th>23</th><td>texture_worst</td><td>25.6772</td><td>12.02</td><td>25.41</td><td>49.54</td><td></td><td></td></tr><tr><th>24</th><td>perimeter_worst</td><td>107.261</td><td>50.41</td><td>97.66</td><td>251.2</td><td></td><td></td></tr><tr><th>25</th><td>area_worst</td><td>880.583</td><td>185.2</td><td>686.5</td><td>4254.0</td><td></td><td></td></tr><tr><th>26</th><td>smoothness_worst</td><td>0.132369</td><td>0.07117</td><td>0.1313</td><td>0.2226</td><td></td><td></td></tr><tr><th>27</th><td>compactness_worst</td><td>0.254265</td><td>0.02729</td><td>0.2119</td><td>1.058</td><td></td><td></td></tr><tr><th>28</th><td>concavity_worst</td><td>0.272188</td><td>0.0</td><td>0.2267</td><td>1.252</td><td></td><td></td></tr><tr><th>29</th><td>concave points_worst</td><td>0.114606</td><td>0.0</td><td>0.09993</td><td>0.291</td><td></td><td></td></tr><tr><th>30</th><td>symmetry_worst</td><td>0.290076</td><td>0.1565</td><td>0.2822</td><td>0.6638</td><td></td><td></td></tr><tr><th>31</th><td>fractal_dimension_worst</td><td>0.0839458</td><td>0.05504</td><td>0.08004</td><td>0.2075</td><td></td><td></td></tr></tbody></table>"
      ],
      "text/latex": [
       "\\begin{tabular}{r|cccccccc}\n",
       "\t& variable & mean & min & median & max & nunique & nmissing & \\\\\n",
       "\t\\hline\n",
       "\t& Symbol & Union… & Any & Union… & Any & Union… & Nothing & \\\\\n",
       "\t\\hline\n",
       "\t1 & diagnosis &  & B &  & M & 2 &  & $\\dots$ \\\\\n",
       "\t2 & radius\\_mean & 14.1273 & 6.981 & 13.37 & 28.11 &  &  & $\\dots$ \\\\\n",
       "\t3 & texture\\_mean & 19.2896 & 9.71 & 18.84 & 39.28 &  &  & $\\dots$ \\\\\n",
       "\t4 & perimeter\\_mean & 91.969 & 43.79 & 86.24 & 188.5 &  &  & $\\dots$ \\\\\n",
       "\t5 & area\\_mean & 654.889 & 143.5 & 551.1 & 2501.0 &  &  & $\\dots$ \\\\\n",
       "\t6 & smoothness\\_mean & 0.0963603 & 0.05263 & 0.09587 & 0.1634 &  &  & $\\dots$ \\\\\n",
       "\t7 & compactness\\_mean & 0.104341 & 0.01938 & 0.09263 & 0.3454 &  &  & $\\dots$ \\\\\n",
       "\t8 & concavity\\_mean & 0.0887993 & 0.0 & 0.06154 & 0.4268 &  &  & $\\dots$ \\\\\n",
       "\t9 & concave points\\_mean & 0.0489191 & 0.0 & 0.0335 & 0.2012 &  &  & $\\dots$ \\\\\n",
       "\t10 & symmetry\\_mean & 0.181162 & 0.106 & 0.1792 & 0.304 &  &  & $\\dots$ \\\\\n",
       "\t11 & fractal\\_dimension\\_mean & 0.0627976 & 0.04996 & 0.06154 & 0.09744 &  &  & $\\dots$ \\\\\n",
       "\t12 & radius\\_se & 0.405172 & 0.1115 & 0.3242 & 2.873 &  &  & $\\dots$ \\\\\n",
       "\t13 & texture\\_se & 1.21685 & 0.3602 & 1.108 & 4.885 &  &  & $\\dots$ \\\\\n",
       "\t14 & perimeter\\_se & 2.86606 & 0.757 & 2.287 & 21.98 &  &  & $\\dots$ \\\\\n",
       "\t15 & area\\_se & 40.3371 & 6.802 & 24.53 & 542.2 &  &  & $\\dots$ \\\\\n",
       "\t16 & smoothness\\_se & 0.00704098 & 0.001713 & 0.00638 & 0.03113 &  &  & $\\dots$ \\\\\n",
       "\t17 & compactness\\_se & 0.0254781 & 0.002252 & 0.02045 & 0.1354 &  &  & $\\dots$ \\\\\n",
       "\t18 & concavity\\_se & 0.0318937 & 0.0 & 0.02589 & 0.396 &  &  & $\\dots$ \\\\\n",
       "\t19 & concave points\\_se & 0.0117961 & 0.0 & 0.01093 & 0.05279 &  &  & $\\dots$ \\\\\n",
       "\t20 & symmetry\\_se & 0.0205423 & 0.007882 & 0.01873 & 0.07895 &  &  & $\\dots$ \\\\\n",
       "\t21 & fractal\\_dimension\\_se & 0.0037949 & 0.0008948 & 0.003187 & 0.02984 &  &  & $\\dots$ \\\\\n",
       "\t22 & radius\\_worst & 16.2692 & 7.93 & 14.97 & 36.04 &  &  & $\\dots$ \\\\\n",
       "\t23 & texture\\_worst & 25.6772 & 12.02 & 25.41 & 49.54 &  &  & $\\dots$ \\\\\n",
       "\t24 & perimeter\\_worst & 107.261 & 50.41 & 97.66 & 251.2 &  &  & $\\dots$ \\\\\n",
       "\t25 & area\\_worst & 880.583 & 185.2 & 686.5 & 4254.0 &  &  & $\\dots$ \\\\\n",
       "\t26 & smoothness\\_worst & 0.132369 & 0.07117 & 0.1313 & 0.2226 &  &  & $\\dots$ \\\\\n",
       "\t27 & compactness\\_worst & 0.254265 & 0.02729 & 0.2119 & 1.058 &  &  & $\\dots$ \\\\\n",
       "\t28 & concavity\\_worst & 0.272188 & 0.0 & 0.2267 & 1.252 &  &  & $\\dots$ \\\\\n",
       "\t29 & concave points\\_worst & 0.114606 & 0.0 & 0.09993 & 0.291 &  &  & $\\dots$ \\\\\n",
       "\t30 & symmetry\\_worst & 0.290076 & 0.1565 & 0.2822 & 0.6638 &  &  & $\\dots$ \\\\\n",
       "\t31 & fractal\\_dimension\\_worst & 0.0839458 & 0.05504 & 0.08004 & 0.2075 &  &  & $\\dots$ \\\\\n",
       "\\end{tabular}\n"
      ],
      "text/plain": [
       "31×8 DataFrame. Omitted printing of 3 columns\n",
       "│ Row │ variable                │ mean       │ min       │ median   │ max     │\n",
       "│     │ \u001b[90mSymbol\u001b[39m                  │ \u001b[90mUnion…\u001b[39m     │ \u001b[90mAny\u001b[39m       │ \u001b[90mUnion…\u001b[39m   │ \u001b[90mAny\u001b[39m     │\n",
       "├─────┼─────────────────────────┼────────────┼───────────┼──────────┼─────────┤\n",
       "│ 1   │ diagnosis               │            │ B         │          │ M       │\n",
       "│ 2   │ radius_mean             │ 14.1273    │ 6.981     │ 13.37    │ 28.11   │\n",
       "│ 3   │ texture_mean            │ 19.2896    │ 9.71      │ 18.84    │ 39.28   │\n",
       "│ 4   │ perimeter_mean          │ 91.969     │ 43.79     │ 86.24    │ 188.5   │\n",
       "│ 5   │ area_mean               │ 654.889    │ 143.5     │ 551.1    │ 2501.0  │\n",
       "│ 6   │ smoothness_mean         │ 0.0963603  │ 0.05263   │ 0.09587  │ 0.1634  │\n",
       "│ 7   │ compactness_mean        │ 0.104341   │ 0.01938   │ 0.09263  │ 0.3454  │\n",
       "│ 8   │ concavity_mean          │ 0.0887993  │ 0.0       │ 0.06154  │ 0.4268  │\n",
       "│ 9   │ concave points_mean     │ 0.0489191  │ 0.0       │ 0.0335   │ 0.2012  │\n",
       "│ 10  │ symmetry_mean           │ 0.181162   │ 0.106     │ 0.1792   │ 0.304   │\n",
       "│ 11  │ fractal_dimension_mean  │ 0.0627976  │ 0.04996   │ 0.06154  │ 0.09744 │\n",
       "│ 12  │ radius_se               │ 0.405172   │ 0.1115    │ 0.3242   │ 2.873   │\n",
       "│ 13  │ texture_se              │ 1.21685    │ 0.3602    │ 1.108    │ 4.885   │\n",
       "│ 14  │ perimeter_se            │ 2.86606    │ 0.757     │ 2.287    │ 21.98   │\n",
       "│ 15  │ area_se                 │ 40.3371    │ 6.802     │ 24.53    │ 542.2   │\n",
       "│ 16  │ smoothness_se           │ 0.00704098 │ 0.001713  │ 0.00638  │ 0.03113 │\n",
       "│ 17  │ compactness_se          │ 0.0254781  │ 0.002252  │ 0.02045  │ 0.1354  │\n",
       "│ 18  │ concavity_se            │ 0.0318937  │ 0.0       │ 0.02589  │ 0.396   │\n",
       "│ 19  │ concave points_se       │ 0.0117961  │ 0.0       │ 0.01093  │ 0.05279 │\n",
       "│ 20  │ symmetry_se             │ 0.0205423  │ 0.007882  │ 0.01873  │ 0.07895 │\n",
       "│ 21  │ fractal_dimension_se    │ 0.0037949  │ 0.0008948 │ 0.003187 │ 0.02984 │\n",
       "│ 22  │ radius_worst            │ 16.2692    │ 7.93      │ 14.97    │ 36.04   │\n",
       "│ 23  │ texture_worst           │ 25.6772    │ 12.02     │ 25.41    │ 49.54   │\n",
       "│ 24  │ perimeter_worst         │ 107.261    │ 50.41     │ 97.66    │ 251.2   │\n",
       "│ 25  │ area_worst              │ 880.583    │ 185.2     │ 686.5    │ 4254.0  │\n",
       "│ 26  │ smoothness_worst        │ 0.132369   │ 0.07117   │ 0.1313   │ 0.2226  │\n",
       "│ 27  │ compactness_worst       │ 0.254265   │ 0.02729   │ 0.2119   │ 1.058   │\n",
       "│ 28  │ concavity_worst         │ 0.272188   │ 0.0       │ 0.2267   │ 1.252   │\n",
       "│ 29  │ concave points_worst    │ 0.114606   │ 0.0       │ 0.09993  │ 0.291   │\n",
       "│ 30  │ symmetry_worst          │ 0.290076   │ 0.1565    │ 0.2822   │ 0.6638  │\n",
       "│ 31  │ fractal_dimension_worst │ 0.0839458  │ 0.05504   │ 0.08004  │ 0.2075  │"
      ]
     },
     "execution_count": 89,
     "metadata": {},
     "output_type": "execute_result"
    }
   ],
   "source": [
    "data = data[:, Not([33, 1])]\n",
    "describe(data)"
   ]
  },
  {
   "cell_type": "markdown",
   "metadata": {},
   "source": [
    "Look at class labels to see if dataset is imbalanced"
   ]
  },
  {
   "cell_type": "code",
   "execution_count": 90,
   "metadata": {},
   "outputs": [
    {
     "data": {
      "text/plain": [
       "Dict{String,Int64} with 2 entries:\n",
       "  \"B\" => 357\n",
       "  \"M\" => 212"
      ]
     },
     "execution_count": 90,
     "metadata": {},
     "output_type": "execute_result"
    }
   ],
   "source": [
    "label_counts = countmap(data[:diagnosis])"
   ]
  },
  {
   "cell_type": "code",
   "execution_count": 91,
   "metadata": {},
   "outputs": [
    {
     "data": {
      "text/plain": [
       "2-element Array{Float64,1}:\n",
       " 0.6274165202108963\n",
       " 0.37258347978910367"
      ]
     },
     "execution_count": 91,
     "metadata": {},
     "output_type": "execute_result"
    }
   ],
   "source": [
    "collect(label_counts[i] / size(data)[1] for i in keys(label_counts))"
   ]
  },
  {
   "cell_type": "markdown",
   "metadata": {},
   "source": [
    "Get data ready for training"
   ]
  },
  {
   "cell_type": "code",
   "execution_count": 92,
   "metadata": {},
   "outputs": [
    {
     "data": {
      "text/plain": [
       "┌\u001b[0m─────────────────────────\u001b[0m┬\u001b[0m─────────────────────────────────\u001b[0m┬\u001b[0m───────────────\u001b[0m┐\u001b[0m\n",
       "│\u001b[0m\u001b[22m _.names                 \u001b[0m│\u001b[0m\u001b[22m _.types                         \u001b[0m│\u001b[0m\u001b[22m _.scitypes    \u001b[0m│\u001b[0m\n",
       "├\u001b[0m─────────────────────────\u001b[0m┼\u001b[0m─────────────────────────────────\u001b[0m┼\u001b[0m───────────────\u001b[0m┤\u001b[0m\n",
       "│\u001b[0m diagnosis               \u001b[0m│\u001b[0m CategoricalValue{String,UInt32} \u001b[0m│\u001b[0m Multiclass{2} \u001b[0m│\u001b[0m\n",
       "│\u001b[0m radius_mean             \u001b[0m│\u001b[0m Float64                         \u001b[0m│\u001b[0m Continuous    \u001b[0m│\u001b[0m\n",
       "│\u001b[0m texture_mean            \u001b[0m│\u001b[0m Float64                         \u001b[0m│\u001b[0m Continuous    \u001b[0m│\u001b[0m\n",
       "│\u001b[0m perimeter_mean          \u001b[0m│\u001b[0m Float64                         \u001b[0m│\u001b[0m Continuous    \u001b[0m│\u001b[0m\n",
       "│\u001b[0m area_mean               \u001b[0m│\u001b[0m Float64                         \u001b[0m│\u001b[0m Continuous    \u001b[0m│\u001b[0m\n",
       "│\u001b[0m smoothness_mean         \u001b[0m│\u001b[0m Float64                         \u001b[0m│\u001b[0m Continuous    \u001b[0m│\u001b[0m\n",
       "│\u001b[0m compactness_mean        \u001b[0m│\u001b[0m Float64                         \u001b[0m│\u001b[0m Continuous    \u001b[0m│\u001b[0m\n",
       "│\u001b[0m concavity_mean          \u001b[0m│\u001b[0m Float64                         \u001b[0m│\u001b[0m Continuous    \u001b[0m│\u001b[0m\n",
       "│\u001b[0m concave points_mean     \u001b[0m│\u001b[0m Float64                         \u001b[0m│\u001b[0m Continuous    \u001b[0m│\u001b[0m\n",
       "│\u001b[0m symmetry_mean           \u001b[0m│\u001b[0m Float64                         \u001b[0m│\u001b[0m Continuous    \u001b[0m│\u001b[0m\n",
       "│\u001b[0m fractal_dimension_mean  \u001b[0m│\u001b[0m Float64                         \u001b[0m│\u001b[0m Continuous    \u001b[0m│\u001b[0m\n",
       "│\u001b[0m radius_se               \u001b[0m│\u001b[0m Float64                         \u001b[0m│\u001b[0m Continuous    \u001b[0m│\u001b[0m\n",
       "│\u001b[0m texture_se              \u001b[0m│\u001b[0m Float64                         \u001b[0m│\u001b[0m Continuous    \u001b[0m│\u001b[0m\n",
       "│\u001b[0m perimeter_se            \u001b[0m│\u001b[0m Float64                         \u001b[0m│\u001b[0m Continuous    \u001b[0m│\u001b[0m\n",
       "│\u001b[0m area_se                 \u001b[0m│\u001b[0m Float64                         \u001b[0m│\u001b[0m Continuous    \u001b[0m│\u001b[0m\n",
       "│\u001b[0m smoothness_se           \u001b[0m│\u001b[0m Float64                         \u001b[0m│\u001b[0m Continuous    \u001b[0m│\u001b[0m\n",
       "│\u001b[0m compactness_se          \u001b[0m│\u001b[0m Float64                         \u001b[0m│\u001b[0m Continuous    \u001b[0m│\u001b[0m\n",
       "│\u001b[0m concavity_se            \u001b[0m│\u001b[0m Float64                         \u001b[0m│\u001b[0m Continuous    \u001b[0m│\u001b[0m\n",
       "│\u001b[0m concave points_se       \u001b[0m│\u001b[0m Float64                         \u001b[0m│\u001b[0m Continuous    \u001b[0m│\u001b[0m\n",
       "│\u001b[0m symmetry_se             \u001b[0m│\u001b[0m Float64                         \u001b[0m│\u001b[0m Continuous    \u001b[0m│\u001b[0m\n",
       "│\u001b[0m fractal_dimension_se    \u001b[0m│\u001b[0m Float64                         \u001b[0m│\u001b[0m Continuous    \u001b[0m│\u001b[0m\n",
       "│\u001b[0m radius_worst            \u001b[0m│\u001b[0m Float64                         \u001b[0m│\u001b[0m Continuous    \u001b[0m│\u001b[0m\n",
       "│\u001b[0m texture_worst           \u001b[0m│\u001b[0m Float64                         \u001b[0m│\u001b[0m Continuous    \u001b[0m│\u001b[0m\n",
       "│\u001b[0m perimeter_worst         \u001b[0m│\u001b[0m Float64                         \u001b[0m│\u001b[0m Continuous    \u001b[0m│\u001b[0m\n",
       "│\u001b[0m area_worst              \u001b[0m│\u001b[0m Float64                         \u001b[0m│\u001b[0m Continuous    \u001b[0m│\u001b[0m\n",
       "│\u001b[0m smoothness_worst        \u001b[0m│\u001b[0m Float64                         \u001b[0m│\u001b[0m Continuous    \u001b[0m│\u001b[0m\n",
       "│\u001b[0m compactness_worst       \u001b[0m│\u001b[0m Float64                         \u001b[0m│\u001b[0m Continuous    \u001b[0m│\u001b[0m\n",
       "│\u001b[0m concavity_worst         \u001b[0m│\u001b[0m Float64                         \u001b[0m│\u001b[0m Continuous    \u001b[0m│\u001b[0m\n",
       "│\u001b[0m concave points_worst    \u001b[0m│\u001b[0m Float64                         \u001b[0m│\u001b[0m Continuous    \u001b[0m│\u001b[0m\n",
       "│\u001b[0m symmetry_worst          \u001b[0m│\u001b[0m Float64                         \u001b[0m│\u001b[0m Continuous    \u001b[0m│\u001b[0m\n",
       "│\u001b[0m fractal_dimension_worst \u001b[0m│\u001b[0m Float64                         \u001b[0m│\u001b[0m Continuous    \u001b[0m│\u001b[0m\n",
       "└\u001b[0m─────────────────────────\u001b[0m┴\u001b[0m─────────────────────────────────\u001b[0m┴\u001b[0m───────────────\u001b[0m┘\u001b[0m\n",
       "_.nrows = 569\n"
      ]
     },
     "execution_count": 92,
     "metadata": {},
     "output_type": "execute_result"
    }
   ],
   "source": [
    "coerce!(data, :diagnosis=>Multiclass)\n",
    "schema(data)"
   ]
  },
  {
   "cell_type": "code",
   "execution_count": 93,
   "metadata": {
    "scrolled": false
   },
   "outputs": [
    {
     "data": {
      "text/plain": [
       "(CategoricalValue{String,UInt32}[\"M\", \"M\", \"M\", \"M\", \"M\", \"M\", \"M\", \"M\", \"M\", \"M\"  …  \"B\", \"B\", \"B\", \"M\", \"M\", \"M\", \"M\", \"M\", \"M\", \"B\"], 569×30 DataFrame. Omitted printing of 26 columns\n",
       "│ Row │ radius_mean │ texture_mean │ perimeter_mean │ area_mean │\n",
       "│     │ \u001b[90mFloat64\u001b[39m     │ \u001b[90mFloat64\u001b[39m      │ \u001b[90mFloat64\u001b[39m        │ \u001b[90mFloat64\u001b[39m   │\n",
       "├─────┼─────────────┼──────────────┼────────────────┼───────────┤\n",
       "│ 1   │ 17.99       │ 10.38        │ 122.8          │ 1001.0    │\n",
       "│ 2   │ 20.57       │ 17.77        │ 132.9          │ 1326.0    │\n",
       "│ 3   │ 19.69       │ 21.25        │ 130.0          │ 1203.0    │\n",
       "│ 4   │ 11.42       │ 20.38        │ 77.58          │ 386.1     │\n",
       "│ 5   │ 20.29       │ 14.34        │ 135.1          │ 1297.0    │\n",
       "│ 6   │ 12.45       │ 15.7         │ 82.57          │ 477.1     │\n",
       "│ 7   │ 18.25       │ 19.98        │ 119.6          │ 1040.0    │\n",
       "│ 8   │ 13.71       │ 20.83        │ 90.2           │ 577.9     │\n",
       "│ 9   │ 13.0        │ 21.82        │ 87.5           │ 519.8     │\n",
       "│ 10  │ 12.46       │ 24.04        │ 83.97          │ 475.9     │\n",
       "│ 11  │ 16.02       │ 23.24        │ 102.7          │ 797.8     │\n",
       "│ 12  │ 15.78       │ 17.89        │ 103.6          │ 781.0     │\n",
       "│ 13  │ 19.17       │ 24.8         │ 132.4          │ 1123.0    │\n",
       "│ 14  │ 15.85       │ 23.95        │ 103.7          │ 782.7     │\n",
       "│ 15  │ 13.73       │ 22.61        │ 93.6           │ 578.3     │\n",
       "│ 16  │ 14.54       │ 27.54        │ 96.73          │ 658.8     │\n",
       "│ 17  │ 14.68       │ 20.13        │ 94.74          │ 684.5     │\n",
       "│ 18  │ 16.13       │ 20.68        │ 108.1          │ 798.8     │\n",
       "│ 19  │ 19.81       │ 22.15        │ 130.0          │ 1260.0    │\n",
       "│ 20  │ 13.54       │ 14.36        │ 87.46          │ 566.3     │\n",
       "⋮\n",
       "│ 549 │ 9.683       │ 19.34        │ 61.05          │ 285.7     │\n",
       "│ 550 │ 10.82       │ 24.21        │ 68.89          │ 361.6     │\n",
       "│ 551 │ 10.86       │ 21.48        │ 68.51          │ 360.5     │\n",
       "│ 552 │ 11.13       │ 22.44        │ 71.49          │ 378.4     │\n",
       "│ 553 │ 12.77       │ 29.43        │ 81.35          │ 507.9     │\n",
       "│ 554 │ 9.333       │ 21.94        │ 59.01          │ 264.0     │\n",
       "│ 555 │ 12.88       │ 28.92        │ 82.5           │ 514.3     │\n",
       "│ 556 │ 10.29       │ 27.61        │ 65.67          │ 321.4     │\n",
       "│ 557 │ 10.16       │ 19.59        │ 64.73          │ 311.7     │\n",
       "│ 558 │ 9.423       │ 27.88        │ 59.26          │ 271.3     │\n",
       "│ 559 │ 14.59       │ 22.68        │ 96.39          │ 657.1     │\n",
       "│ 560 │ 11.51       │ 23.93        │ 74.52          │ 403.5     │\n",
       "│ 561 │ 14.05       │ 27.15        │ 91.38          │ 600.4     │\n",
       "│ 562 │ 11.2        │ 29.37        │ 70.67          │ 386.0     │\n",
       "│ 563 │ 15.22       │ 30.62        │ 103.4          │ 716.9     │\n",
       "│ 564 │ 20.92       │ 25.09        │ 143.0          │ 1347.0    │\n",
       "│ 565 │ 21.56       │ 22.39        │ 142.0          │ 1479.0    │\n",
       "│ 566 │ 20.13       │ 28.25        │ 131.2          │ 1261.0    │\n",
       "│ 567 │ 16.6        │ 28.08        │ 108.3          │ 858.1     │\n",
       "│ 568 │ 20.6        │ 29.33        │ 140.1          │ 1265.0    │\n",
       "│ 569 │ 7.76        │ 24.54        │ 47.92          │ 181.0     │)"
      ]
     },
     "execution_count": 93,
     "metadata": {},
     "output_type": "execute_result"
    }
   ],
   "source": [
    "y, X = unpack(data, ==(:diagnosis), colname->true)"
   ]
  },
  {
   "cell_type": "markdown",
   "metadata": {},
   "source": [
    "Partition train and test data accoring to class labels"
   ]
  },
  {
   "cell_type": "code",
   "execution_count": 94,
   "metadata": {},
   "outputs": [
    {
     "data": {
      "text/plain": [
       "([483, 534, 159, 31, 170, 416, 231, 43, 161, 286  …  134, 500, 395, 533, 112, 396, 297, 106, 303, 261], [392, 390, 320, 27, 328, 477, 19, 356, 518, 444  …  136, 559, 505, 274, 508, 358, 90, 296, 79, 415])"
      ]
     },
     "execution_count": 94,
     "metadata": {},
     "output_type": "execute_result"
    }
   ],
   "source": [
    "# data to use when trying to fit a single validation set\n",
    "train, test = partition(eachindex(y), 0.7, shuffle=true, rng=123, stratify=values(data[:diagnosis])) # gives 70:30 split"
   ]
  },
  {
   "cell_type": "code",
   "execution_count": 95,
   "metadata": {
    "scrolled": false
   },
   "outputs": [
    {
     "data": {
      "text/plain": [
       "2-element Array{Float64,1}:\n",
       " 0.628140703517588\n",
       " 0.37185929648241206"
      ]
     },
     "execution_count": 95,
     "metadata": {},
     "output_type": "execute_result"
    }
   ],
   "source": [
    "train_counts = countmap(data[train,:diagnosis])\n",
    "collect(train_counts[i] / size(train)[1] for i in keys(train_counts))"
   ]
  },
  {
   "cell_type": "code",
   "execution_count": 96,
   "metadata": {
    "scrolled": false
   },
   "outputs": [
    {
     "data": {
      "text/plain": [
       "2-element Array{Float64,1}:\n",
       " 0.6257309941520468\n",
       " 0.3742690058479532"
      ]
     },
     "execution_count": 96,
     "metadata": {},
     "output_type": "execute_result"
    }
   ],
   "source": [
    "test_counts = countmap(data[test,:diagnosis])\n",
    "collect(test_counts[i] / size(test)[1] for i in keys(test_counts))"
   ]
  },
  {
   "cell_type": "markdown",
   "metadata": {},
   "source": [
    "# Five Learning Algorithms\n",
    "\n",
    "* Decision trees with some form of pruning\n",
    "* Neural networks\n",
    "* Boosting\n",
    "* Support Vector Machines\n",
    "* k-nearest neighbors\n",
    "\n",
    "\n",
    "##### Testing\n",
    "* Implement the algorithms\n",
    "* Design two *interesting* classification problems. For the purposes of this assignment, a classification problem is just a set of training examples and a set of test examples."
   ]
  },
  {
   "cell_type": "code",
   "execution_count": 97,
   "metadata": {
    "scrolled": true
   },
   "outputs": [
    {
     "data": {
      "text/plain": [
       "43-element Array{NamedTuple{(:name, :package_name, :is_supervised, :docstring, :hyperparameter_ranges, :hyperparameter_types, :hyperparameters, :implemented_methods, :is_pure_julia, :is_wrapper, :load_path, :package_license, :package_url, :package_uuid, :prediction_type, :supports_online, :supports_weights, :input_scitype, :target_scitype, :output_scitype),T} where T<:Tuple,1}:\n",
       " (name = AdaBoostClassifier, package_name = ScikitLearn, ... )\n",
       " (name = AdaBoostStumpClassifier, package_name = DecisionTree, ... )\n",
       " (name = BaggingClassifier, package_name = ScikitLearn, ... )\n",
       " (name = BayesianLDA, package_name = MultivariateStats, ... )\n",
       " (name = BayesianLDA, package_name = ScikitLearn, ... )\n",
       " (name = BayesianQDA, package_name = ScikitLearn, ... )\n",
       " (name = BayesianSubspaceLDA, package_name = MultivariateStats, ... )\n",
       " (name = ConstantClassifier, package_name = MLJModels, ... )\n",
       " (name = DecisionTreeClassifier, package_name = DecisionTree, ... )\n",
       " (name = DeterministicConstantClassifier, package_name = MLJModels, ... )\n",
       " (name = DummyClassifier, package_name = ScikitLearn, ... )\n",
       " (name = EvoTreeClassifier, package_name = EvoTrees, ... )\n",
       " (name = ExtraTreesClassifier, package_name = ScikitLearn, ... )\n",
       " (name = GaussianNBClassifier, package_name = NaiveBayes, ... )\n",
       " (name = GaussianNBClassifier, package_name = ScikitLearn, ... )\n",
       " (name = GaussianProcessClassifier, package_name = ScikitLearn, ... )\n",
       " (name = GradientBoostingClassifier, package_name = ScikitLearn, ... )\n",
       " (name = KNNClassifier, package_name = NearestNeighbors, ... )\n",
       " (name = KNeighborsClassifier, package_name = ScikitLearn, ... )\n",
       " (name = LDA, package_name = MultivariateStats, ... )\n",
       " (name = LGBMClassifier, package_name = LightGBM, ... )\n",
       " (name = LinearBinaryClassifier, package_name = GLM, ... )\n",
       " (name = LinearSVC, package_name = LIBSVM, ... )\n",
       " (name = LogisticCVClassifier, package_name = ScikitLearn, ... )\n",
       " (name = LogisticClassifier, package_name = MLJLinearModels, ... )\n",
       " (name = LogisticClassifier, package_name = ScikitLearn, ... )\n",
       " (name = MultinomialClassifier, package_name = MLJLinearModels, ... )\n",
       " (name = NeuralNetworkClassifier, package_name = MLJFlux, ... )\n",
       " (name = NuSVC, package_name = LIBSVM, ... )\n",
       " (name = PassiveAggressiveClassifier, package_name = ScikitLearn, ... )\n",
       " (name = PerceptronClassifier, package_name = ScikitLearn, ... )\n",
       " (name = ProbabilisticSGDClassifier, package_name = ScikitLearn, ... )\n",
       " (name = RandomForestClassifier, package_name = DecisionTree, ... )\n",
       " (name = RandomForestClassifier, package_name = ScikitLearn, ... )\n",
       " (name = RidgeCVClassifier, package_name = ScikitLearn, ... )\n",
       " (name = RidgeClassifier, package_name = ScikitLearn, ... )\n",
       " (name = SGDClassifier, package_name = ScikitLearn, ... )\n",
       " (name = SVC, package_name = LIBSVM, ... )\n",
       " (name = SVMClassifier, package_name = ScikitLearn, ... )\n",
       " (name = SVMLinearClassifier, package_name = ScikitLearn, ... )\n",
       " (name = SVMNuClassifier, package_name = ScikitLearn, ... )\n",
       " (name = SubspaceLDA, package_name = MultivariateStats, ... )\n",
       " (name = XGBoostClassifier, package_name = XGBoost, ... )"
      ]
     },
     "execution_count": 97,
     "metadata": {},
     "output_type": "execute_result"
    }
   ],
   "source": [
    "models(matching(X,y))"
   ]
  },
  {
   "cell_type": "code",
   "execution_count": 98,
   "metadata": {},
   "outputs": [
    {
     "name": "stderr",
     "output_type": "stream",
     "text": [
      "┌ Info: Model code for NeuralNetworkClassifier already loaded\n",
      "└ @ MLJModels /home/andrew/.julia/packages/MLJModels/mUBFt/src/loading.jl:54\n"
     ]
    },
    {
     "data": {
      "text/plain": [
       "NeuralNetworkClassifier(\n",
       "    builder = Short(\n",
       "            n_hidden = 0,\n",
       "            dropout = 0.5,\n",
       "            σ = NNlib.σ),\n",
       "    finaliser = NNlib.softmax,\n",
       "    optimiser = ADAM(0.001, (0.9, 0.999), IdDict{Any,Any}()),\n",
       "    loss = Flux.crossentropy,\n",
       "    epochs = 10,\n",
       "    batch_size = 1,\n",
       "    lambda = 0.0,\n",
       "    alpha = 0.0,\n",
       "    optimiser_changes_trigger_retraining = false)\u001b[34m @655\u001b[39m"
      ]
     },
     "execution_count": 98,
     "metadata": {},
     "output_type": "execute_result"
    }
   ],
   "source": [
    "@load NeuralNetworkClassifier verbosity=2"
   ]
  },
  {
   "cell_type": "markdown",
   "metadata": {},
   "source": [
    "## Neural networks\n",
    "* Use favorite kind of network and training algorithm. \n",
    "* You may use networks of nodes with as many layers as you like and any activation function you see fit.\n",
    "\n",
    "1. https://github.com/alan-turing-institute/MLJFlux.jl/blob/master/examples/boston.ipynb\n",
    "1. https://github.com/alan-turing-institute/MLJFlux.jl\n",
    "1. https://alan-turing-institute.github.io/MLJ.jl/dev/transformers/"
   ]
  },
  {
   "cell_type": "code",
   "execution_count": 99,
   "metadata": {},
   "outputs": [],
   "source": [
    "# Define a custom network\n",
    "mutable struct CustomNN <:MLJFlux.Builder\n",
    "    n1 ::Int\n",
    "#     n2 ::Int\n",
    "end"
   ]
  },
  {
   "cell_type": "code",
   "execution_count": 100,
   "metadata": {},
   "outputs": [],
   "source": [
    "function MLJFlux.build(nn::CustomNN, n_in, n_out)\n",
    "    return Chain(\n",
    "        Flux.Dense(n_in, nn.n1, σ),\n",
    "#         Flux.Dense(nn.n1, nn.n2, σ),\n",
    "        Flux.Dense(nn.n1, n_out, σ),\n",
    "    )\n",
    "end"
   ]
  },
  {
   "cell_type": "code",
   "execution_count": 101,
   "metadata": {},
   "outputs": [
    {
     "data": {
      "text/plain": [
       "34"
      ]
     },
     "execution_count": 101,
     "metadata": {},
     "output_type": "execute_result"
    }
   ],
   "source": [
    "layer1 = 34\n",
    "# layer2 = 5"
   ]
  },
  {
   "cell_type": "markdown",
   "metadata": {},
   "source": [
    "### No-preprocessing"
   ]
  },
  {
   "cell_type": "code",
   "execution_count": 16,
   "metadata": {},
   "outputs": [],
   "source": [
    "# nn = NeuralNetworkClassifier(builder=CustomNN(layer1,layer2))"
   ]
  },
  {
   "cell_type": "code",
   "execution_count": 17,
   "metadata": {},
   "outputs": [],
   "source": [
    "# Net = machine(nn, X, y)"
   ]
  },
  {
   "cell_type": "code",
   "execution_count": 18,
   "metadata": {},
   "outputs": [],
   "source": [
    "# nn.optimiser.eta = 0.001\n",
    "# nn.epochs = 60\n",
    "# nn.batch_size = 16\n",
    "# nn.lambda = 0.01"
   ]
  },
  {
   "cell_type": "code",
   "execution_count": 19,
   "metadata": {
    "scrolled": true
   },
   "outputs": [],
   "source": [
    "# fit!(Net, rows=train, verbosity=2)"
   ]
  },
  {
   "cell_type": "code",
   "execution_count": 20,
   "metadata": {},
   "outputs": [],
   "source": [
    "# nn.optimiser.eta = nn.optimiser.eta / 3\n",
    "# nn.epochs = nn.epochs + 40"
   ]
  },
  {
   "cell_type": "code",
   "execution_count": 21,
   "metadata": {
    "scrolled": true
   },
   "outputs": [],
   "source": [
    "# fit!(Net, rows=train, verbosity=2)"
   ]
  },
  {
   "cell_type": "code",
   "execution_count": 22,
   "metadata": {},
   "outputs": [],
   "source": [
    "# ŷ = predict(Net, X[test,:]);"
   ]
  },
  {
   "cell_type": "code",
   "execution_count": 23,
   "metadata": {},
   "outputs": [],
   "source": [
    "# cross_entropy(ŷ, y[test]) |> mean"
   ]
  },
  {
   "cell_type": "code",
   "execution_count": 24,
   "metadata": {},
   "outputs": [],
   "source": [
    "# acc(ŷ, y[test])"
   ]
  },
  {
   "cell_type": "code",
   "execution_count": 25,
   "metadata": {},
   "outputs": [],
   "source": [
    "# nn_acc = evaluate!(Net, resampling=CV(shuffle=true), measure=[cross_entropy, acc], verbosity=1)"
   ]
  },
  {
   "cell_type": "code",
   "execution_count": 26,
   "metadata": {},
   "outputs": [],
   "source": [
    "# fitted_params(Net)"
   ]
  },
  {
   "cell_type": "code",
   "execution_count": 27,
   "metadata": {
    "scrolled": true
   },
   "outputs": [],
   "source": [
    "# report(Net)"
   ]
  },
  {
   "cell_type": "markdown",
   "metadata": {},
   "source": [
    "### With Preprocessing"
   ]
  },
  {
   "cell_type": "code",
   "execution_count": 102,
   "metadata": {},
   "outputs": [
    {
     "data": {
      "text/plain": [
       "NeuralNetworkClassifier(\n",
       "    builder = CustomNN(\n",
       "            n1 = 34),\n",
       "    finaliser = NNlib.softmax,\n",
       "    optimiser = ADAM(0.001, (0.9, 0.999), IdDict{Any,Any}()),\n",
       "    loss = Flux.crossentropy,\n",
       "    epochs = 10,\n",
       "    batch_size = 1,\n",
       "    lambda = 0.0,\n",
       "    alpha = 0.0,\n",
       "    optimiser_changes_trigger_retraining = false)\u001b[34m @879\u001b[39m"
      ]
     },
     "execution_count": 102,
     "metadata": {},
     "output_type": "execute_result"
    }
   ],
   "source": [
    "nn2 = NeuralNetworkClassifier(builder=CustomNN(layer1))"
   ]
  },
  {
   "cell_type": "code",
   "execution_count": 103,
   "metadata": {},
   "outputs": [
    {
     "data": {
      "text/plain": [
       "0.0021544346900318843"
      ]
     },
     "execution_count": 103,
     "metadata": {},
     "output_type": "execute_result"
    }
   ],
   "source": [
    "nn2.optimiser.eta = 0.00032\n",
    "nn2.batch_size = 16\n",
    "nn2.lambda = 0.0021544346900318843"
   ]
  },
  {
   "cell_type": "markdown",
   "metadata": {},
   "source": [
    "Standardizing Inputs makes a huge difference.\n",
    "Before, I could only barely break below 0.4 training loss, but by standardizing inputs, I can easily get near 0.3."
   ]
  },
  {
   "cell_type": "code",
   "execution_count": 104,
   "metadata": {},
   "outputs": [
    {
     "name": "stderr",
     "output_type": "stream",
     "text": [
      "┌ Info: Training \u001b[34mMachine{Standardizer} @168\u001b[39m.\n",
      "└ @ MLJBase /home/andrew/.julia/packages/MLJBase/uKzAz/src/machines.jl:319\n"
     ]
    }
   ],
   "source": [
    "standardizer = Standardizer()\n",
    "stand = machine(standardizer, X[train,:]) #only want to standardize on training distribution\n",
    "fit!(stand)\n",
    "X_stand = MLJ.transform(stand, X);"
   ]
  },
  {
   "cell_type": "code",
   "execution_count": 105,
   "metadata": {},
   "outputs": [
    {
     "data": {
      "text/plain": [
       "\u001b[34mMachine{NeuralNetworkClassifier{CustomNN,…}} @213\u001b[39m trained 0 times.\n",
       "  args: \n",
       "    1:\t\u001b[34mSource @549\u001b[39m ⏎ `Table{AbstractArray{Continuous,1}}`\n",
       "    2:\t\u001b[34mSource @885\u001b[39m ⏎ `AbstractArray{Multiclass{2},1}`\n"
      ]
     },
     "execution_count": 105,
     "metadata": {},
     "output_type": "execute_result"
    }
   ],
   "source": [
    "Net2 = machine(nn2, X_stand, y)"
   ]
  },
  {
   "cell_type": "markdown",
   "metadata": {},
   "source": [
    "### Learning Curve"
   ]
  },
  {
   "cell_type": "code",
   "execution_count": 106,
   "metadata": {},
   "outputs": [
    {
     "data": {
      "text/plain": [
       "1000"
      ]
     },
     "execution_count": 106,
     "metadata": {},
     "output_type": "execute_result"
    }
   ],
   "source": [
    "max_epochs = 1000"
   ]
  },
  {
   "cell_type": "code",
   "execution_count": 107,
   "metadata": {},
   "outputs": [],
   "source": [
    "nn2.epochs = max_epochs;"
   ]
  },
  {
   "cell_type": "code",
   "execution_count": 108,
   "metadata": {},
   "outputs": [
    {
     "name": "stderr",
     "output_type": "stream",
     "text": [
      "┌ Info: Training \u001b[34mMachine{NeuralNetworkClassifier{CustomNN,…}} @213\u001b[39m.\n",
      "└ @ MLJBase /home/andrew/.julia/packages/MLJBase/uKzAz/src/machines.jl:319\n",
      "\u001b[33mOptimising neural net:100%[=========================] Time: 0:00:05\u001b[39m\n"
     ]
    },
    {
     "data": {
      "text/plain": [
       "\u001b[34mMachine{NeuralNetworkClassifier{CustomNN,…}} @213\u001b[39m trained 1 time.\n",
       "  args: \n",
       "    1:\t\u001b[34mSource @549\u001b[39m ⏎ `Table{AbstractArray{Continuous,1}}`\n",
       "    2:\t\u001b[34mSource @885\u001b[39m ⏎ `AbstractArray{Multiclass{2},1}`\n"
      ]
     },
     "execution_count": 108,
     "metadata": {},
     "output_type": "execute_result"
    }
   ],
   "source": [
    "fit!(Net2, rows=train, verbosity=1, force=true)"
   ]
  },
  {
   "cell_type": "code",
   "execution_count": 109,
   "metadata": {
    "scrolled": true
   },
   "outputs": [
    {
     "name": "stderr",
     "output_type": "stream",
     "text": [
      "┌ Info: Training \u001b[34mMachine{ProbabilisticTunedModel{Grid,…}} @371\u001b[39m.\n",
      "└ @ MLJBase /home/andrew/.julia/packages/MLJBase/uKzAz/src/machines.jl:319\n",
      "┌ Info: Attempting to evaluate 201 models.\n",
      "└ @ MLJTuning /home/andrew/.julia/packages/MLJTuning/Bbgvk/src/tuned_models.jl:494\n",
      "\u001b[33mEvaluating over 201 metamodels: 100%[=========================] Time: 0:00:05\u001b[39m\n"
     ]
    },
    {
     "data": {
      "text/plain": [
       "(parameter_name = \"epochs\",\n",
       " parameter_scale = :none,\n",
       " parameter_values = [0, 5, 10, 15, 20, 25, 30, 35, 40, 45  …  955, 960, 965, 970, 975, 980, 985, 990, 995, 1000],\n",
       " measurements = [0.6544514894485474, 0.5492321848869324, 0.4802294671535492, 0.43563351035118103, 0.40713798999786377, 0.38862764835357666, 0.37618792057037354, 0.36752456426620483, 0.36127975583076477, 0.3566160500049591  …  0.3376271724700928, 0.3376137316226959, 0.3376011252403259, 0.3375883400440216, 0.33757421374320984, 0.33755967020988464, 0.33754539489746094, 0.33753201365470886, 0.33751940727233887, 0.33750662207603455],)"
      ]
     },
     "execution_count": 109,
     "metadata": {},
     "output_type": "execute_result"
    }
   ],
   "source": [
    "vals = collect(0:5:max_epochs)\n",
    "r = range(nn2, :epochs, values=vals)\n",
    "# r = range(nn2, :epochs, lower=0, upper=max_epochs)\n",
    "curve = learning_curve(Net2, \n",
    "                        range=r, \n",
    "                        resampling=Holdout(fraction_train=0.7), \n",
    "#                         resampling=CV(nfolds=4), \n",
    "                        measure=cross_entropy, \n",
    "                        acceleration=CPUThreads())"
   ]
  },
  {
   "cell_type": "code",
   "execution_count": 110,
   "metadata": {},
   "outputs": [
    {
     "data": {
      "image/svg+xml": [
       "<?xml version=\"1.0\" encoding=\"utf-8\"?>\n",
       "<svg xmlns=\"http://www.w3.org/2000/svg\" xmlns:xlink=\"http://www.w3.org/1999/xlink\" width=\"600\" height=\"400\" viewBox=\"0 0 2400 1600\">\n",
       "<defs>\n",
       "  <clipPath id=\"clip380\">\n",
       "    <rect x=\"0\" y=\"0\" width=\"2400\" height=\"1600\"/>\n",
       "  </clipPath>\n",
       "</defs>\n",
       "<path clip-path=\"url(#clip380)\" d=\"\n",
       "M0 1600 L2400 1600 L2400 0 L0 0  Z\n",
       "  \" fill=\"#ffffff\" fill-rule=\"evenodd\" fill-opacity=\"1\"/>\n",
       "<defs>\n",
       "  <clipPath id=\"clip381\">\n",
       "    <rect x=\"480\" y=\"0\" width=\"1681\" height=\"1600\"/>\n",
       "  </clipPath>\n",
       "</defs>\n",
       "<path clip-path=\"url(#clip380)\" d=\"\n",
       "M238.616 1423.18 L2352.76 1423.18 L2352.76 47.2441 L238.616 47.2441  Z\n",
       "  \" fill=\"#ffffff\" fill-rule=\"evenodd\" fill-opacity=\"1\"/>\n",
       "<defs>\n",
       "  <clipPath id=\"clip382\">\n",
       "    <rect x=\"238\" y=\"47\" width=\"2115\" height=\"1377\"/>\n",
       "  </clipPath>\n",
       "</defs>\n",
       "<polyline clip-path=\"url(#clip382)\" style=\"stroke:#000000; stroke-width:2; stroke-opacity:0.1; fill:none\" points=\"\n",
       "  298.45,1423.18 298.45,47.2441 \n",
       "  \"/>\n",
       "<polyline clip-path=\"url(#clip382)\" style=\"stroke:#000000; stroke-width:2; stroke-opacity:0.1; fill:none\" points=\"\n",
       "  797.068,1423.18 797.068,47.2441 \n",
       "  \"/>\n",
       "<polyline clip-path=\"url(#clip382)\" style=\"stroke:#000000; stroke-width:2; stroke-opacity:0.1; fill:none\" points=\"\n",
       "  1295.69,1423.18 1295.69,47.2441 \n",
       "  \"/>\n",
       "<polyline clip-path=\"url(#clip382)\" style=\"stroke:#000000; stroke-width:2; stroke-opacity:0.1; fill:none\" points=\"\n",
       "  1794.3,1423.18 1794.3,47.2441 \n",
       "  \"/>\n",
       "<polyline clip-path=\"url(#clip382)\" style=\"stroke:#000000; stroke-width:2; stroke-opacity:0.1; fill:none\" points=\"\n",
       "  2292.92,1423.18 2292.92,47.2441 \n",
       "  \"/>\n",
       "<polyline clip-path=\"url(#clip382)\" style=\"stroke:#000000; stroke-width:2; stroke-opacity:0.1; fill:none\" points=\"\n",
       "  238.616,1278.79 2352.76,1278.79 \n",
       "  \"/>\n",
       "<polyline clip-path=\"url(#clip382)\" style=\"stroke:#000000; stroke-width:2; stroke-opacity:0.1; fill:none\" points=\"\n",
       "  238.616,1097.28 2352.76,1097.28 \n",
       "  \"/>\n",
       "<polyline clip-path=\"url(#clip382)\" style=\"stroke:#000000; stroke-width:2; stroke-opacity:0.1; fill:none\" points=\"\n",
       "  238.616,915.77 2352.76,915.77 \n",
       "  \"/>\n",
       "<polyline clip-path=\"url(#clip382)\" style=\"stroke:#000000; stroke-width:2; stroke-opacity:0.1; fill:none\" points=\"\n",
       "  238.616,734.261 2352.76,734.261 \n",
       "  \"/>\n",
       "<polyline clip-path=\"url(#clip382)\" style=\"stroke:#000000; stroke-width:2; stroke-opacity:0.1; fill:none\" points=\"\n",
       "  238.616,552.753 2352.76,552.753 \n",
       "  \"/>\n",
       "<polyline clip-path=\"url(#clip382)\" style=\"stroke:#000000; stroke-width:2; stroke-opacity:0.1; fill:none\" points=\"\n",
       "  238.616,371.244 2352.76,371.244 \n",
       "  \"/>\n",
       "<polyline clip-path=\"url(#clip382)\" style=\"stroke:#000000; stroke-width:2; stroke-opacity:0.1; fill:none\" points=\"\n",
       "  238.616,189.736 2352.76,189.736 \n",
       "  \"/>\n",
       "<polyline clip-path=\"url(#clip380)\" style=\"stroke:#000000; stroke-width:4; stroke-opacity:1; fill:none\" points=\"\n",
       "  238.616,1423.18 2352.76,1423.18 \n",
       "  \"/>\n",
       "<polyline clip-path=\"url(#clip380)\" style=\"stroke:#000000; stroke-width:4; stroke-opacity:1; fill:none\" points=\"\n",
       "  238.616,1423.18 238.616,47.2441 \n",
       "  \"/>\n",
       "<polyline clip-path=\"url(#clip380)\" style=\"stroke:#000000; stroke-width:4; stroke-opacity:1; fill:none\" points=\"\n",
       "  298.45,1423.18 298.45,1406.67 \n",
       "  \"/>\n",
       "<polyline clip-path=\"url(#clip380)\" style=\"stroke:#000000; stroke-width:4; stroke-opacity:1; fill:none\" points=\"\n",
       "  797.068,1423.18 797.068,1406.67 \n",
       "  \"/>\n",
       "<polyline clip-path=\"url(#clip380)\" style=\"stroke:#000000; stroke-width:4; stroke-opacity:1; fill:none\" points=\"\n",
       "  1295.69,1423.18 1295.69,1406.67 \n",
       "  \"/>\n",
       "<polyline clip-path=\"url(#clip380)\" style=\"stroke:#000000; stroke-width:4; stroke-opacity:1; fill:none\" points=\"\n",
       "  1794.3,1423.18 1794.3,1406.67 \n",
       "  \"/>\n",
       "<polyline clip-path=\"url(#clip380)\" style=\"stroke:#000000; stroke-width:4; stroke-opacity:1; fill:none\" points=\"\n",
       "  2292.92,1423.18 2292.92,1406.67 \n",
       "  \"/>\n",
       "<polyline clip-path=\"url(#clip380)\" style=\"stroke:#000000; stroke-width:4; stroke-opacity:1; fill:none\" points=\"\n",
       "  238.616,1278.79 263.986,1278.79 \n",
       "  \"/>\n",
       "<polyline clip-path=\"url(#clip380)\" style=\"stroke:#000000; stroke-width:4; stroke-opacity:1; fill:none\" points=\"\n",
       "  238.616,1097.28 263.986,1097.28 \n",
       "  \"/>\n",
       "<polyline clip-path=\"url(#clip380)\" style=\"stroke:#000000; stroke-width:4; stroke-opacity:1; fill:none\" points=\"\n",
       "  238.616,915.77 263.986,915.77 \n",
       "  \"/>\n",
       "<polyline clip-path=\"url(#clip380)\" style=\"stroke:#000000; stroke-width:4; stroke-opacity:1; fill:none\" points=\"\n",
       "  238.616,734.261 263.986,734.261 \n",
       "  \"/>\n",
       "<polyline clip-path=\"url(#clip380)\" style=\"stroke:#000000; stroke-width:4; stroke-opacity:1; fill:none\" points=\"\n",
       "  238.616,552.753 263.986,552.753 \n",
       "  \"/>\n",
       "<polyline clip-path=\"url(#clip380)\" style=\"stroke:#000000; stroke-width:4; stroke-opacity:1; fill:none\" points=\"\n",
       "  238.616,371.244 263.986,371.244 \n",
       "  \"/>\n",
       "<polyline clip-path=\"url(#clip380)\" style=\"stroke:#000000; stroke-width:4; stroke-opacity:1; fill:none\" points=\"\n",
       "  238.616,189.736 263.986,189.736 \n",
       "  \"/>\n",
       "<path clip-path=\"url(#clip380)\" d=\"M 0 0 M298.45 1445.17 Q294.839 1445.17 293.011 1448.74 Q291.205 1452.28 291.205 1459.41 Q291.205 1466.51 293.011 1470.08 Q294.839 1473.62 298.45 1473.62 Q302.085 1473.62 303.89 1470.08 Q305.719 1466.51 305.719 1459.41 Q305.719 1452.28 303.89 1448.74 Q302.085 1445.17 298.45 1445.17 M298.45 1441.47 Q304.26 1441.47 307.316 1446.07 Q310.395 1450.66 310.395 1459.41 Q310.395 1468.13 307.316 1472.74 Q304.26 1477.32 298.45 1477.32 Q292.64 1477.32 289.561 1472.74 Q286.506 1468.13 286.506 1459.41 Q286.506 1450.66 289.561 1446.07 Q292.64 1441.47 298.45 1441.47 Z\" fill=\"#000000\" fill-rule=\"evenodd\" fill-opacity=\"1\" /><path clip-path=\"url(#clip380)\" d=\"M 0 0 M765.205 1472.72 L781.524 1472.72 L781.524 1476.65 L759.58 1476.65 L759.58 1472.72 Q762.242 1469.96 766.825 1465.33 Q771.432 1460.68 772.612 1459.34 Q774.858 1456.81 775.737 1455.08 Q776.64 1453.32 776.64 1451.63 Q776.64 1448.87 774.696 1447.14 Q772.774 1445.4 769.672 1445.4 Q767.473 1445.4 765.02 1446.17 Q762.589 1446.93 759.811 1448.48 L759.811 1443.76 Q762.635 1442.62 765.089 1442.05 Q767.543 1441.47 769.58 1441.47 Q774.95 1441.47 778.145 1444.15 Q781.339 1446.84 781.339 1451.33 Q781.339 1453.46 780.529 1455.38 Q779.742 1457.28 777.635 1459.87 Q777.057 1460.54 773.955 1463.76 Q770.853 1466.95 765.205 1472.72 Z\" fill=\"#000000\" fill-rule=\"evenodd\" fill-opacity=\"1\" /><path clip-path=\"url(#clip380)\" d=\"M 0 0 M786.64 1442.09 L804.996 1442.09 L804.996 1446.03 L790.922 1446.03 L790.922 1454.5 Q791.941 1454.15 792.959 1453.99 Q793.978 1453.8 794.996 1453.8 Q800.783 1453.8 804.163 1456.98 Q807.543 1460.15 807.543 1465.56 Q807.543 1471.14 804.07 1474.24 Q800.598 1477.32 794.279 1477.32 Q792.103 1477.32 789.834 1476.95 Q787.589 1476.58 785.182 1475.84 L785.182 1471.14 Q787.265 1472.28 789.487 1472.83 Q791.709 1473.39 794.186 1473.39 Q798.191 1473.39 800.529 1471.28 Q802.867 1469.18 802.867 1465.56 Q802.867 1461.95 800.529 1459.85 Q798.191 1457.74 794.186 1457.74 Q792.311 1457.74 790.436 1458.16 Q788.584 1458.57 786.64 1459.45 L786.64 1442.09 Z\" fill=\"#000000\" fill-rule=\"evenodd\" fill-opacity=\"1\" /><path clip-path=\"url(#clip380)\" d=\"M 0 0 M822.612 1445.17 Q819.001 1445.17 817.172 1448.74 Q815.367 1452.28 815.367 1459.41 Q815.367 1466.51 817.172 1470.08 Q819.001 1473.62 822.612 1473.62 Q826.246 1473.62 828.052 1470.08 Q829.88 1466.51 829.88 1459.41 Q829.88 1452.28 828.052 1448.74 Q826.246 1445.17 822.612 1445.17 M822.612 1441.47 Q828.422 1441.47 831.478 1446.07 Q834.556 1450.66 834.556 1459.41 Q834.556 1468.13 831.478 1472.74 Q828.422 1477.32 822.612 1477.32 Q816.802 1477.32 813.723 1472.74 Q810.668 1468.13 810.668 1459.41 Q810.668 1450.66 813.723 1446.07 Q816.802 1441.47 822.612 1441.47 Z\" fill=\"#000000\" fill-rule=\"evenodd\" fill-opacity=\"1\" /><path clip-path=\"url(#clip380)\" d=\"M 0 0 M1258.95 1442.09 L1277.31 1442.09 L1277.31 1446.03 L1263.23 1446.03 L1263.23 1454.5 Q1264.25 1454.15 1265.27 1453.99 Q1266.29 1453.8 1267.31 1453.8 Q1273.09 1453.8 1276.47 1456.98 Q1279.85 1460.15 1279.85 1465.56 Q1279.85 1471.14 1276.38 1474.24 Q1272.91 1477.32 1266.59 1477.32 Q1264.41 1477.32 1262.14 1476.95 Q1259.9 1476.58 1257.49 1475.84 L1257.49 1471.14 Q1259.58 1472.28 1261.8 1472.83 Q1264.02 1473.39 1266.5 1473.39 Q1270.5 1473.39 1272.84 1471.28 Q1275.18 1469.18 1275.18 1465.56 Q1275.18 1461.95 1272.84 1459.85 Q1270.5 1457.74 1266.5 1457.74 Q1264.62 1457.74 1262.75 1458.16 Q1260.89 1458.57 1258.95 1459.45 L1258.95 1442.09 Z\" fill=\"#000000\" fill-rule=\"evenodd\" fill-opacity=\"1\" /><path clip-path=\"url(#clip380)\" d=\"M 0 0 M1294.92 1445.17 Q1291.31 1445.17 1289.48 1448.74 Q1287.68 1452.28 1287.68 1459.41 Q1287.68 1466.51 1289.48 1470.08 Q1291.31 1473.62 1294.92 1473.62 Q1298.56 1473.62 1300.36 1470.08 Q1302.19 1466.51 1302.19 1459.41 Q1302.19 1452.28 1300.36 1448.74 Q1298.56 1445.17 1294.92 1445.17 M1294.92 1441.47 Q1300.73 1441.47 1303.79 1446.07 Q1306.87 1450.66 1306.87 1459.41 Q1306.87 1468.13 1303.79 1472.74 Q1300.73 1477.32 1294.92 1477.32 Q1289.11 1477.32 1286.03 1472.74 Q1282.98 1468.13 1282.98 1459.41 Q1282.98 1450.66 1286.03 1446.07 Q1289.11 1441.47 1294.92 1441.47 Z\" fill=\"#000000\" fill-rule=\"evenodd\" fill-opacity=\"1\" /><path clip-path=\"url(#clip380)\" d=\"M 0 0 M1321.94 1445.17 Q1318.32 1445.17 1316.5 1448.74 Q1314.69 1452.28 1314.69 1459.41 Q1314.69 1466.51 1316.5 1470.08 Q1318.32 1473.62 1321.94 1473.62 Q1325.57 1473.62 1327.38 1470.08 Q1329.2 1466.51 1329.2 1459.41 Q1329.2 1452.28 1327.38 1448.74 Q1325.57 1445.17 1321.94 1445.17 M1321.94 1441.47 Q1327.75 1441.47 1330.8 1446.07 Q1333.88 1450.66 1333.88 1459.41 Q1333.88 1468.13 1330.8 1472.74 Q1327.75 1477.32 1321.94 1477.32 Q1316.13 1477.32 1313.05 1472.74 Q1309.99 1468.13 1309.99 1459.41 Q1309.99 1450.66 1313.05 1446.07 Q1316.13 1441.47 1321.94 1441.47 Z\" fill=\"#000000\" fill-rule=\"evenodd\" fill-opacity=\"1\" /><path clip-path=\"url(#clip380)\" d=\"M 0 0 M1756.68 1442.09 L1778.9 1442.09 L1778.9 1444.08 L1766.35 1476.65 L1761.47 1476.65 L1773.27 1446.03 L1756.68 1446.03 L1756.68 1442.09 Z\" fill=\"#000000\" fill-rule=\"evenodd\" fill-opacity=\"1\" /><path clip-path=\"url(#clip380)\" d=\"M 0 0 M1784.01 1442.09 L1802.37 1442.09 L1802.37 1446.03 L1788.3 1446.03 L1788.3 1454.5 Q1789.32 1454.15 1790.33 1453.99 Q1791.35 1453.8 1792.37 1453.8 Q1798.16 1453.8 1801.54 1456.98 Q1804.92 1460.15 1804.92 1465.56 Q1804.92 1471.14 1801.45 1474.24 Q1797.97 1477.32 1791.65 1477.32 Q1789.48 1477.32 1787.21 1476.95 Q1784.96 1476.58 1782.56 1475.84 L1782.56 1471.14 Q1784.64 1472.28 1786.86 1472.83 Q1789.08 1473.39 1791.56 1473.39 Q1795.57 1473.39 1797.9 1471.28 Q1800.24 1469.18 1800.24 1465.56 Q1800.24 1461.95 1797.9 1459.85 Q1795.57 1457.74 1791.56 1457.74 Q1789.69 1457.74 1787.81 1458.16 Q1785.96 1458.57 1784.01 1459.45 L1784.01 1442.09 Z\" fill=\"#000000\" fill-rule=\"evenodd\" fill-opacity=\"1\" /><path clip-path=\"url(#clip380)\" d=\"M 0 0 M1819.99 1445.17 Q1816.38 1445.17 1814.55 1448.74 Q1812.74 1452.28 1812.74 1459.41 Q1812.74 1466.51 1814.55 1470.08 Q1816.38 1473.62 1819.99 1473.62 Q1823.62 1473.62 1825.43 1470.08 Q1827.26 1466.51 1827.26 1459.41 Q1827.26 1452.28 1825.43 1448.74 Q1823.62 1445.17 1819.99 1445.17 M1819.99 1441.47 Q1825.8 1441.47 1828.85 1446.07 Q1831.93 1450.66 1831.93 1459.41 Q1831.93 1468.13 1828.85 1472.74 Q1825.8 1477.32 1819.99 1477.32 Q1814.18 1477.32 1811.1 1472.74 Q1808.04 1468.13 1808.04 1459.41 Q1808.04 1450.66 1811.1 1446.07 Q1814.18 1441.47 1819.99 1441.47 Z\" fill=\"#000000\" fill-rule=\"evenodd\" fill-opacity=\"1\" /><path clip-path=\"url(#clip380)\" d=\"M 0 0 M2242.78 1472.72 L2250.42 1472.72 L2250.42 1446.35 L2242.11 1448.02 L2242.11 1443.76 L2250.38 1442.09 L2255.05 1442.09 L2255.05 1472.72 L2262.69 1472.72 L2262.69 1476.65 L2242.78 1476.65 L2242.78 1472.72 Z\" fill=\"#000000\" fill-rule=\"evenodd\" fill-opacity=\"1\" /><path clip-path=\"url(#clip380)\" d=\"M 0 0 M2277.76 1445.17 Q2274.15 1445.17 2272.32 1448.74 Q2270.51 1452.28 2270.51 1459.41 Q2270.51 1466.51 2272.32 1470.08 Q2274.15 1473.62 2277.76 1473.62 Q2281.39 1473.62 2283.2 1470.08 Q2285.03 1466.51 2285.03 1459.41 Q2285.03 1452.28 2283.2 1448.74 Q2281.39 1445.17 2277.76 1445.17 M2277.76 1441.47 Q2283.57 1441.47 2286.63 1446.07 Q2289.7 1450.66 2289.7 1459.41 Q2289.7 1468.13 2286.63 1472.74 Q2283.57 1477.32 2277.76 1477.32 Q2271.95 1477.32 2268.87 1472.74 Q2265.82 1468.13 2265.82 1459.41 Q2265.82 1450.66 2268.87 1446.07 Q2271.95 1441.47 2277.76 1441.47 Z\" fill=\"#000000\" fill-rule=\"evenodd\" fill-opacity=\"1\" /><path clip-path=\"url(#clip380)\" d=\"M 0 0 M2304.77 1445.17 Q2301.16 1445.17 2299.33 1448.74 Q2297.53 1452.28 2297.53 1459.41 Q2297.53 1466.51 2299.33 1470.08 Q2301.16 1473.62 2304.77 1473.62 Q2308.41 1473.62 2310.21 1470.08 Q2312.04 1466.51 2312.04 1459.41 Q2312.04 1452.28 2310.21 1448.74 Q2308.41 1445.17 2304.77 1445.17 M2304.77 1441.47 Q2310.58 1441.47 2313.64 1446.07 Q2316.72 1450.66 2316.72 1459.41 Q2316.72 1468.13 2313.64 1472.74 Q2310.58 1477.32 2304.77 1477.32 Q2298.96 1477.32 2295.88 1472.74 Q2292.83 1468.13 2292.83 1459.41 Q2292.83 1450.66 2295.88 1446.07 Q2298.96 1441.47 2304.77 1441.47 Z\" fill=\"#000000\" fill-rule=\"evenodd\" fill-opacity=\"1\" /><path clip-path=\"url(#clip380)\" d=\"M 0 0 M2331.79 1445.17 Q2328.18 1445.17 2326.35 1448.74 Q2324.54 1452.28 2324.54 1459.41 Q2324.54 1466.51 2326.35 1470.08 Q2328.18 1473.62 2331.79 1473.62 Q2335.42 1473.62 2337.23 1470.08 Q2339.06 1466.51 2339.06 1459.41 Q2339.06 1452.28 2337.23 1448.74 Q2335.42 1445.17 2331.79 1445.17 M2331.79 1441.47 Q2337.6 1441.47 2340.65 1446.07 Q2343.73 1450.66 2343.73 1459.41 Q2343.73 1468.13 2340.65 1472.74 Q2337.6 1477.32 2331.79 1477.32 Q2325.98 1477.32 2322.9 1472.74 Q2319.84 1468.13 2319.84 1459.41 Q2319.84 1450.66 2322.9 1446.07 Q2325.98 1441.47 2331.79 1441.47 Z\" fill=\"#000000\" fill-rule=\"evenodd\" fill-opacity=\"1\" /><path clip-path=\"url(#clip380)\" d=\"M 0 0 M140.334 1264.59 Q136.723 1264.59 134.894 1268.15 Q133.089 1271.69 133.089 1278.82 Q133.089 1285.93 134.894 1289.49 Q136.723 1293.03 140.334 1293.03 Q143.968 1293.03 145.774 1289.49 Q147.603 1285.93 147.603 1278.82 Q147.603 1271.69 145.774 1268.15 Q143.968 1264.59 140.334 1264.59 M140.334 1260.88 Q146.144 1260.88 149.2 1265.49 Q152.279 1270.07 152.279 1278.82 Q152.279 1287.55 149.2 1292.15 Q146.144 1296.74 140.334 1296.74 Q134.524 1296.74 131.445 1292.15 Q128.39 1287.55 128.39 1278.82 Q128.39 1270.07 131.445 1265.49 Q134.524 1260.88 140.334 1260.88 Z\" fill=\"#000000\" fill-rule=\"evenodd\" fill-opacity=\"1\" /><path clip-path=\"url(#clip380)\" d=\"M 0 0 M157.348 1290.19 L162.232 1290.19 L162.232 1296.07 L157.348 1296.07 L157.348 1290.19 Z\" fill=\"#000000\" fill-rule=\"evenodd\" fill-opacity=\"1\" /><path clip-path=\"url(#clip380)\" d=\"M 0 0 M181.468 1277.43 Q184.825 1278.15 186.7 1280.42 Q188.598 1282.69 188.598 1286.02 Q188.598 1291.14 185.079 1293.94 Q181.561 1296.74 175.079 1296.74 Q172.903 1296.74 170.589 1296.3 Q168.297 1295.88 165.843 1295.02 L165.843 1290.51 Q167.788 1291.65 170.103 1292.22 Q172.417 1292.8 174.94 1292.8 Q179.339 1292.8 181.63 1291.07 Q183.945 1289.33 183.945 1286.02 Q183.945 1282.96 181.792 1281.25 Q179.663 1279.52 175.843 1279.52 L171.815 1279.52 L171.815 1275.67 L176.028 1275.67 Q179.477 1275.67 181.306 1274.31 Q183.135 1272.92 183.135 1270.33 Q183.135 1267.66 181.237 1266.25 Q179.362 1264.82 175.843 1264.82 Q173.922 1264.82 171.723 1265.23 Q169.524 1265.65 166.885 1266.53 L166.885 1262.36 Q169.547 1261.62 171.862 1261.25 Q174.2 1260.88 176.26 1260.88 Q181.584 1260.88 184.686 1263.31 Q187.788 1265.72 187.788 1269.84 Q187.788 1272.71 186.144 1274.7 Q184.501 1276.67 181.468 1277.43 Z\" fill=\"#000000\" fill-rule=\"evenodd\" fill-opacity=\"1\" /><path clip-path=\"url(#clip380)\" d=\"M 0 0 M193.713 1261.51 L212.07 1261.51 L212.07 1265.44 L197.996 1265.44 L197.996 1273.91 Q199.014 1273.57 200.033 1273.4 Q201.051 1273.22 202.07 1273.22 Q207.857 1273.22 211.237 1276.39 Q214.616 1279.56 214.616 1284.98 Q214.616 1290.56 211.144 1293.66 Q207.672 1296.74 201.352 1296.74 Q199.176 1296.74 196.908 1296.37 Q194.663 1296 192.255 1295.26 L192.255 1290.56 Q194.338 1291.69 196.561 1292.25 Q198.783 1292.8 201.26 1292.8 Q205.264 1292.8 207.602 1290.7 Q209.94 1288.59 209.94 1284.98 Q209.94 1281.37 207.602 1279.26 Q205.264 1277.15 201.26 1277.15 Q199.385 1277.15 197.51 1277.57 Q195.658 1277.99 193.713 1278.87 L193.713 1261.51 Z\" fill=\"#000000\" fill-rule=\"evenodd\" fill-opacity=\"1\" /><path clip-path=\"url(#clip380)\" d=\"M 0 0 M138.205 1083.08 Q134.593 1083.08 132.765 1086.64 Q130.959 1090.18 130.959 1097.31 Q130.959 1104.42 132.765 1107.98 Q134.593 1111.53 138.205 1111.53 Q141.839 1111.53 143.644 1107.98 Q145.473 1104.42 145.473 1097.31 Q145.473 1090.18 143.644 1086.64 Q141.839 1083.08 138.205 1083.08 M138.205 1079.37 Q144.015 1079.37 147.07 1083.98 Q150.149 1088.56 150.149 1097.31 Q150.149 1106.04 147.07 1110.65 Q144.015 1115.23 138.205 1115.23 Q132.394 1115.23 129.316 1110.65 Q126.26 1106.04 126.26 1097.31 Q126.26 1088.56 129.316 1083.98 Q132.394 1079.37 138.205 1079.37 Z\" fill=\"#000000\" fill-rule=\"evenodd\" fill-opacity=\"1\" /><path clip-path=\"url(#clip380)\" d=\"M 0 0 M155.218 1108.68 L160.103 1108.68 L160.103 1114.56 L155.218 1114.56 L155.218 1108.68 Z\" fill=\"#000000\" fill-rule=\"evenodd\" fill-opacity=\"1\" /><path clip-path=\"url(#clip380)\" d=\"M 0 0 M178.019 1084.07 L166.214 1102.52 L178.019 1102.52 L178.019 1084.07 M176.792 1080 L182.672 1080 L182.672 1102.52 L187.602 1102.52 L187.602 1106.41 L182.672 1106.41 L182.672 1114.56 L178.019 1114.56 L178.019 1106.41 L162.417 1106.41 L162.417 1101.9 L176.792 1080 Z\" fill=\"#000000\" fill-rule=\"evenodd\" fill-opacity=\"1\" /><path clip-path=\"url(#clip380)\" d=\"M 0 0 M202.672 1083.08 Q199.061 1083.08 197.232 1086.64 Q195.426 1090.18 195.426 1097.31 Q195.426 1104.42 197.232 1107.98 Q199.061 1111.53 202.672 1111.53 Q206.306 1111.53 208.112 1107.98 Q209.94 1104.42 209.94 1097.31 Q209.94 1090.18 208.112 1086.64 Q206.306 1083.08 202.672 1083.08 M202.672 1079.37 Q208.482 1079.37 211.537 1083.98 Q214.616 1088.56 214.616 1097.31 Q214.616 1106.04 211.537 1110.65 Q208.482 1115.23 202.672 1115.23 Q196.862 1115.23 193.783 1110.65 Q190.727 1106.04 190.727 1097.31 Q190.727 1088.56 193.783 1083.98 Q196.862 1079.37 202.672 1079.37 Z\" fill=\"#000000\" fill-rule=\"evenodd\" fill-opacity=\"1\" /><path clip-path=\"url(#clip380)\" d=\"M 0 0 M139.2 901.568 Q135.589 901.568 133.76 905.133 Q131.955 908.675 131.955 915.804 Q131.955 922.911 133.76 926.476 Q135.589 930.017 139.2 930.017 Q142.834 930.017 144.64 926.476 Q146.468 922.911 146.468 915.804 Q146.468 908.675 144.64 905.133 Q142.834 901.568 139.2 901.568 M139.2 897.865 Q145.01 897.865 148.066 902.471 Q151.144 907.054 151.144 915.804 Q151.144 924.531 148.066 929.138 Q145.01 933.721 139.2 933.721 Q133.39 933.721 130.311 929.138 Q127.256 924.531 127.256 915.804 Q127.256 907.054 130.311 902.471 Q133.39 897.865 139.2 897.865 Z\" fill=\"#000000\" fill-rule=\"evenodd\" fill-opacity=\"1\" /><path clip-path=\"url(#clip380)\" d=\"M 0 0 M156.214 927.17 L161.098 927.17 L161.098 933.05 L156.214 933.05 L156.214 927.17 Z\" fill=\"#000000\" fill-rule=\"evenodd\" fill-opacity=\"1\" /><path clip-path=\"url(#clip380)\" d=\"M 0 0 M179.015 902.564 L167.209 921.013 L179.015 921.013 L179.015 902.564 M177.788 898.49 L183.667 898.49 L183.667 921.013 L188.598 921.013 L188.598 924.902 L183.667 924.902 L183.667 933.05 L179.015 933.05 L179.015 924.902 L163.413 924.902 L163.413 920.388 L177.788 898.49 Z\" fill=\"#000000\" fill-rule=\"evenodd\" fill-opacity=\"1\" /><path clip-path=\"url(#clip380)\" d=\"M 0 0 M193.713 898.49 L212.07 898.49 L212.07 902.425 L197.996 902.425 L197.996 910.897 Q199.014 910.55 200.033 910.388 Q201.051 910.203 202.07 910.203 Q207.857 910.203 211.237 913.374 Q214.616 916.545 214.616 921.962 Q214.616 927.54 211.144 930.642 Q207.672 933.721 201.352 933.721 Q199.176 933.721 196.908 933.351 Q194.663 932.98 192.255 932.24 L192.255 927.54 Q194.338 928.675 196.561 929.23 Q198.783 929.786 201.26 929.786 Q205.264 929.786 207.602 927.679 Q209.94 925.573 209.94 921.962 Q209.94 918.351 207.602 916.244 Q205.264 914.138 201.26 914.138 Q199.385 914.138 197.51 914.554 Q195.658 914.971 193.713 915.851 L193.713 898.49 Z\" fill=\"#000000\" fill-rule=\"evenodd\" fill-opacity=\"1\" /><path clip-path=\"url(#clip380)\" d=\"M 0 0 M139.686 720.06 Q136.075 720.06 134.246 723.625 Q132.441 727.166 132.441 734.296 Q132.441 741.402 134.246 744.967 Q136.075 748.509 139.686 748.509 Q143.32 748.509 145.126 744.967 Q146.954 741.402 146.954 734.296 Q146.954 727.166 145.126 723.625 Q143.32 720.06 139.686 720.06 M139.686 716.356 Q145.496 716.356 148.552 720.963 Q151.63 725.546 151.63 734.296 Q151.63 743.023 148.552 747.629 Q145.496 752.213 139.686 752.213 Q133.876 752.213 130.797 747.629 Q127.742 743.023 127.742 734.296 Q127.742 725.546 130.797 720.963 Q133.876 716.356 139.686 716.356 Z\" fill=\"#000000\" fill-rule=\"evenodd\" fill-opacity=\"1\" /><path clip-path=\"url(#clip380)\" d=\"M 0 0 M156.7 745.662 L161.584 745.662 L161.584 751.541 L156.7 751.541 L156.7 745.662 Z\" fill=\"#000000\" fill-rule=\"evenodd\" fill-opacity=\"1\" /><path clip-path=\"url(#clip380)\" d=\"M 0 0 M166.7 716.981 L185.056 716.981 L185.056 720.916 L170.982 720.916 L170.982 729.389 Q172.001 729.041 173.019 728.879 Q174.038 728.694 175.056 728.694 Q180.843 728.694 184.223 731.865 Q187.602 735.037 187.602 740.453 Q187.602 746.032 184.13 749.134 Q180.658 752.213 174.339 752.213 Q172.163 752.213 169.894 751.842 Q167.649 751.472 165.241 750.731 L165.241 746.032 Q167.325 747.166 169.547 747.722 Q171.769 748.277 174.246 748.277 Q178.251 748.277 180.589 746.171 Q182.927 744.064 182.927 740.453 Q182.927 736.842 180.589 734.736 Q178.251 732.629 174.246 732.629 Q172.371 732.629 170.496 733.046 Q168.644 733.463 166.7 734.342 L166.7 716.981 Z\" fill=\"#000000\" fill-rule=\"evenodd\" fill-opacity=\"1\" /><path clip-path=\"url(#clip380)\" d=\"M 0 0 M202.672 720.06 Q199.061 720.06 197.232 723.625 Q195.426 727.166 195.426 734.296 Q195.426 741.402 197.232 744.967 Q199.061 748.509 202.672 748.509 Q206.306 748.509 208.112 744.967 Q209.94 741.402 209.94 734.296 Q209.94 727.166 208.112 723.625 Q206.306 720.06 202.672 720.06 M202.672 716.356 Q208.482 716.356 211.537 720.963 Q214.616 725.546 214.616 734.296 Q214.616 743.023 211.537 747.629 Q208.482 752.213 202.672 752.213 Q196.862 752.213 193.783 747.629 Q190.727 743.023 190.727 734.296 Q190.727 725.546 193.783 720.963 Q196.862 716.356 202.672 716.356 Z\" fill=\"#000000\" fill-rule=\"evenodd\" fill-opacity=\"1\" /><path clip-path=\"url(#clip380)\" d=\"M 0 0 M140.681 538.552 Q137.07 538.552 135.242 542.116 Q133.436 545.658 133.436 552.788 Q133.436 559.894 135.242 563.459 Q137.07 567 140.681 567 Q144.316 567 146.121 563.459 Q147.95 559.894 147.95 552.788 Q147.95 545.658 146.121 542.116 Q144.316 538.552 140.681 538.552 M140.681 534.848 Q146.492 534.848 149.547 539.454 Q152.626 544.038 152.626 552.788 Q152.626 561.514 149.547 566.121 Q146.492 570.704 140.681 570.704 Q134.871 570.704 131.793 566.121 Q128.737 561.514 128.737 552.788 Q128.737 544.038 131.793 539.454 Q134.871 534.848 140.681 534.848 Z\" fill=\"#000000\" fill-rule=\"evenodd\" fill-opacity=\"1\" /><path clip-path=\"url(#clip380)\" d=\"M 0 0 M157.695 564.153 L162.579 564.153 L162.579 570.033 L157.695 570.033 L157.695 564.153 Z\" fill=\"#000000\" fill-rule=\"evenodd\" fill-opacity=\"1\" /><path clip-path=\"url(#clip380)\" d=\"M 0 0 M167.695 535.473 L186.052 535.473 L186.052 539.408 L171.978 539.408 L171.978 547.88 Q172.996 547.533 174.015 547.371 Q175.033 547.186 176.052 547.186 Q181.839 547.186 185.218 550.357 Q188.598 553.528 188.598 558.945 Q188.598 564.524 185.126 567.625 Q181.653 570.704 175.334 570.704 Q173.158 570.704 170.89 570.334 Q168.644 569.963 166.237 569.223 L166.237 564.524 Q168.32 565.658 170.542 566.213 Q172.765 566.769 175.241 566.769 Q179.246 566.769 181.584 564.662 Q183.922 562.556 183.922 558.945 Q183.922 555.334 181.584 553.227 Q179.246 551.121 175.241 551.121 Q173.366 551.121 171.491 551.538 Q169.64 551.954 167.695 552.834 L167.695 535.473 Z\" fill=\"#000000\" fill-rule=\"evenodd\" fill-opacity=\"1\" /><path clip-path=\"url(#clip380)\" d=\"M 0 0 M193.713 535.473 L212.07 535.473 L212.07 539.408 L197.996 539.408 L197.996 547.88 Q199.014 547.533 200.033 547.371 Q201.051 547.186 202.07 547.186 Q207.857 547.186 211.237 550.357 Q214.616 553.528 214.616 558.945 Q214.616 564.524 211.144 567.625 Q207.672 570.704 201.352 570.704 Q199.176 570.704 196.908 570.334 Q194.663 569.963 192.255 569.223 L192.255 564.524 Q194.338 565.658 196.561 566.213 Q198.783 566.769 201.26 566.769 Q205.264 566.769 207.602 564.662 Q209.94 562.556 209.94 558.945 Q209.94 555.334 207.602 553.227 Q205.264 551.121 201.26 551.121 Q199.385 551.121 197.51 551.538 Q195.658 551.954 193.713 552.834 L193.713 535.473 Z\" fill=\"#000000\" fill-rule=\"evenodd\" fill-opacity=\"1\" /><path clip-path=\"url(#clip380)\" d=\"M 0 0 M138.529 357.043 Q134.918 357.043 133.089 360.608 Q131.283 364.15 131.283 371.279 Q131.283 378.386 133.089 381.95 Q134.918 385.492 138.529 385.492 Q142.163 385.492 143.968 381.95 Q145.797 378.386 145.797 371.279 Q145.797 364.15 143.968 360.608 Q142.163 357.043 138.529 357.043 M138.529 353.339 Q144.339 353.339 147.394 357.946 Q150.473 362.529 150.473 371.279 Q150.473 380.006 147.394 384.612 Q144.339 389.196 138.529 389.196 Q132.718 389.196 129.64 384.612 Q126.584 380.006 126.584 371.279 Q126.584 362.529 129.64 357.946 Q132.718 353.339 138.529 353.339 Z\" fill=\"#000000\" fill-rule=\"evenodd\" fill-opacity=\"1\" /><path clip-path=\"url(#clip380)\" d=\"M 0 0 M155.542 382.645 L160.427 382.645 L160.427 388.524 L155.542 388.524 L155.542 382.645 Z\" fill=\"#000000\" fill-rule=\"evenodd\" fill-opacity=\"1\" /><path clip-path=\"url(#clip380)\" d=\"M 0 0 M176.075 369.381 Q172.927 369.381 171.075 371.534 Q169.246 373.686 169.246 377.436 Q169.246 381.163 171.075 383.339 Q172.927 385.492 176.075 385.492 Q179.223 385.492 181.052 383.339 Q182.903 381.163 182.903 377.436 Q182.903 373.686 181.052 371.534 Q179.223 369.381 176.075 369.381 M185.357 354.728 L185.357 358.987 Q183.598 358.154 181.792 357.714 Q180.01 357.275 178.251 357.275 Q173.621 357.275 171.167 360.4 Q168.737 363.525 168.39 369.844 Q169.755 367.83 171.815 366.765 Q173.876 365.677 176.352 365.677 Q181.561 365.677 184.57 368.849 Q187.602 371.997 187.602 377.436 Q187.602 382.761 184.454 385.978 Q181.306 389.196 176.075 389.196 Q170.079 389.196 166.908 384.612 Q163.737 380.006 163.737 371.279 Q163.737 363.085 167.626 358.224 Q171.515 353.339 178.065 353.339 Q179.825 353.339 181.607 353.687 Q183.413 354.034 185.357 354.728 Z\" fill=\"#000000\" fill-rule=\"evenodd\" fill-opacity=\"1\" /><path clip-path=\"url(#clip380)\" d=\"M 0 0 M202.672 357.043 Q199.061 357.043 197.232 360.608 Q195.426 364.15 195.426 371.279 Q195.426 378.386 197.232 381.95 Q199.061 385.492 202.672 385.492 Q206.306 385.492 208.112 381.95 Q209.94 378.386 209.94 371.279 Q209.94 364.15 208.112 360.608 Q206.306 357.043 202.672 357.043 M202.672 353.339 Q208.482 353.339 211.537 357.946 Q214.616 362.529 214.616 371.279 Q214.616 380.006 211.537 384.612 Q208.482 389.196 202.672 389.196 Q196.862 389.196 193.783 384.612 Q190.727 380.006 190.727 371.279 Q190.727 362.529 193.783 357.946 Q196.862 353.339 202.672 353.339 Z\" fill=\"#000000\" fill-rule=\"evenodd\" fill-opacity=\"1\" /><path clip-path=\"url(#clip380)\" d=\"M 0 0 M139.524 175.535 Q135.913 175.535 134.084 179.099 Q132.279 182.641 132.279 189.771 Q132.279 196.877 134.084 200.442 Q135.913 203.984 139.524 203.984 Q143.158 203.984 144.964 200.442 Q146.792 196.877 146.792 189.771 Q146.792 182.641 144.964 179.099 Q143.158 175.535 139.524 175.535 M139.524 171.831 Q145.334 171.831 148.39 176.437 Q151.468 181.021 151.468 189.771 Q151.468 198.497 148.39 203.104 Q145.334 207.687 139.524 207.687 Q133.714 207.687 130.635 203.104 Q127.58 198.497 127.58 189.771 Q127.58 181.021 130.635 176.437 Q133.714 171.831 139.524 171.831 Z\" fill=\"#000000\" fill-rule=\"evenodd\" fill-opacity=\"1\" /><path clip-path=\"url(#clip380)\" d=\"M 0 0 M156.538 201.136 L161.422 201.136 L161.422 207.016 L156.538 207.016 L156.538 201.136 Z\" fill=\"#000000\" fill-rule=\"evenodd\" fill-opacity=\"1\" /><path clip-path=\"url(#clip380)\" d=\"M 0 0 M177.07 187.873 Q173.922 187.873 172.07 190.025 Q170.241 192.178 170.241 195.928 Q170.241 199.655 172.07 201.831 Q173.922 203.984 177.07 203.984 Q180.218 203.984 182.047 201.831 Q183.899 199.655 183.899 195.928 Q183.899 192.178 182.047 190.025 Q180.218 187.873 177.07 187.873 M186.352 173.22 L186.352 177.479 Q184.593 176.646 182.788 176.206 Q181.005 175.766 179.246 175.766 Q174.616 175.766 172.163 178.891 Q169.732 182.016 169.385 188.335 Q170.751 186.322 172.811 185.257 Q174.871 184.169 177.348 184.169 Q182.556 184.169 185.565 187.34 Q188.598 190.488 188.598 195.928 Q188.598 201.252 185.45 204.47 Q182.302 207.687 177.07 207.687 Q171.075 207.687 167.903 203.104 Q164.732 198.497 164.732 189.771 Q164.732 181.576 168.621 176.715 Q172.51 171.831 179.061 171.831 Q180.82 171.831 182.602 172.178 Q184.408 172.525 186.352 173.22 Z\" fill=\"#000000\" fill-rule=\"evenodd\" fill-opacity=\"1\" /><path clip-path=\"url(#clip380)\" d=\"M 0 0 M193.713 172.456 L212.07 172.456 L212.07 176.391 L197.996 176.391 L197.996 184.863 Q199.014 184.516 200.033 184.354 Q201.051 184.169 202.07 184.169 Q207.857 184.169 211.237 187.34 Q214.616 190.511 214.616 195.928 Q214.616 201.507 211.144 204.609 Q207.672 207.687 201.352 207.687 Q199.176 207.687 196.908 207.317 Q194.663 206.946 192.255 206.206 L192.255 201.507 Q194.338 202.641 196.561 203.196 Q198.783 203.752 201.26 203.752 Q205.264 203.752 207.602 201.646 Q209.94 199.539 209.94 195.928 Q209.94 192.317 207.602 190.21 Q205.264 188.104 201.26 188.104 Q199.385 188.104 197.51 188.521 Q195.658 188.937 193.713 189.817 L193.713 172.456 Z\" fill=\"#000000\" fill-rule=\"evenodd\" fill-opacity=\"1\" /><path clip-path=\"url(#clip380)\" d=\"M 0 0 M1225.97 1536.76 L1225.97 1539.62 L1199.04 1539.62 Q1199.42 1545.67 1202.67 1548.85 Q1205.95 1552 1211.77 1552 Q1215.14 1552 1218.29 1551.17 Q1221.48 1550.35 1224.6 1548.69 L1224.6 1554.23 Q1221.45 1555.57 1218.14 1556.27 Q1214.83 1556.97 1211.42 1556.97 Q1202.89 1556.97 1197.89 1552 Q1192.93 1547.04 1192.93 1538.57 Q1192.93 1529.82 1197.64 1524.69 Q1202.38 1519.54 1210.4 1519.54 Q1217.59 1519.54 1221.76 1524.18 Q1225.97 1528.8 1225.97 1536.76 M1220.11 1535.04 Q1220.05 1530.23 1217.4 1527.37 Q1214.79 1524.5 1210.47 1524.5 Q1205.56 1524.5 1202.6 1527.27 Q1199.68 1530.04 1199.23 1535.07 L1220.11 1535.04 Z\" fill=\"#000000\" fill-rule=\"evenodd\" fill-opacity=\"1\" /><path clip-path=\"url(#clip380)\" d=\"M 0 0 M1237.77 1550.7 L1237.77 1569.6 L1231.89 1569.6 L1231.89 1520.4 L1237.77 1520.4 L1237.77 1525.81 Q1239.62 1522.62 1242.42 1521.1 Q1245.25 1519.54 1249.17 1519.54 Q1255.66 1519.54 1259.7 1524.69 Q1263.78 1529.85 1263.78 1538.25 Q1263.78 1546.65 1259.7 1551.81 Q1255.66 1556.97 1249.17 1556.97 Q1245.25 1556.97 1242.42 1555.44 Q1239.62 1553.88 1237.77 1550.7 M1257.7 1538.25 Q1257.7 1531.79 1255.03 1528.13 Q1252.38 1524.44 1247.74 1524.44 Q1243.09 1524.44 1240.42 1528.13 Q1237.77 1531.79 1237.77 1538.25 Q1237.77 1544.71 1240.42 1548.4 Q1243.09 1552.07 1247.74 1552.07 Q1252.38 1552.07 1255.03 1548.4 Q1257.7 1544.71 1257.7 1538.25 Z\" fill=\"#000000\" fill-rule=\"evenodd\" fill-opacity=\"1\" /><path clip-path=\"url(#clip380)\" d=\"M 0 0 M1283.73 1524.5 Q1279.02 1524.5 1276.29 1528.19 Q1273.55 1531.85 1273.55 1538.25 Q1273.55 1544.65 1276.25 1548.34 Q1278.99 1552 1283.73 1552 Q1288.41 1552 1291.15 1548.31 Q1293.89 1544.62 1293.89 1538.25 Q1293.89 1531.92 1291.15 1528.23 Q1288.41 1524.5 1283.73 1524.5 M1283.73 1519.54 Q1291.37 1519.54 1295.73 1524.5 Q1300.09 1529.47 1300.09 1538.25 Q1300.09 1547 1295.73 1552 Q1291.37 1556.97 1283.73 1556.97 Q1276.06 1556.97 1271.7 1552 Q1267.37 1547 1267.37 1538.25 Q1267.37 1529.47 1271.7 1524.5 Q1276.06 1519.54 1283.73 1519.54 Z\" fill=\"#000000\" fill-rule=\"evenodd\" fill-opacity=\"1\" /><path clip-path=\"url(#clip380)\" d=\"M 0 0 M1331.89 1521.76 L1331.89 1527.24 Q1329.41 1525.87 1326.89 1525.2 Q1324.41 1524.5 1321.87 1524.5 Q1316.17 1524.5 1313.02 1528.13 Q1309.87 1531.73 1309.87 1538.25 Q1309.87 1544.78 1313.02 1548.4 Q1316.17 1552 1321.87 1552 Q1324.41 1552 1326.89 1551.33 Q1329.41 1550.63 1331.89 1549.26 L1331.89 1554.68 Q1329.44 1555.82 1326.8 1556.39 Q1324.19 1556.97 1321.23 1556.97 Q1313.18 1556.97 1308.43 1551.91 Q1303.69 1546.85 1303.69 1538.25 Q1303.69 1529.53 1308.47 1524.53 Q1313.27 1519.54 1321.61 1519.54 Q1324.32 1519.54 1326.89 1520.11 Q1329.47 1520.65 1331.89 1521.76 Z\" fill=\"#000000\" fill-rule=\"evenodd\" fill-opacity=\"1\" /><path clip-path=\"url(#clip380)\" d=\"M 0 0 M1367.67 1534.53 L1367.67 1556.04 L1361.81 1556.04 L1361.81 1534.72 Q1361.81 1529.66 1359.84 1527.14 Q1357.86 1524.63 1353.92 1524.63 Q1349.17 1524.63 1346.44 1527.65 Q1343.7 1530.68 1343.7 1535.9 L1343.7 1556.04 L1337.81 1556.04 L1337.81 1506.52 L1343.7 1506.52 L1343.7 1525.93 Q1345.8 1522.72 1348.63 1521.13 Q1351.5 1519.54 1355.22 1519.54 Q1361.36 1519.54 1364.52 1523.36 Q1367.67 1527.14 1367.67 1534.53 Z\" fill=\"#000000\" fill-rule=\"evenodd\" fill-opacity=\"1\" /><path clip-path=\"url(#clip380)\" d=\"M 0 0 M1396.53 1521.45 L1396.53 1526.98 Q1394.05 1525.71 1391.38 1525.07 Q1388.7 1524.44 1385.84 1524.44 Q1381.48 1524.44 1379.28 1525.77 Q1377.12 1527.11 1377.12 1529.79 Q1377.12 1531.82 1378.68 1533 Q1380.24 1534.15 1384.95 1535.2 L1386.95 1535.64 Q1393.19 1536.98 1395.8 1539.43 Q1398.44 1541.85 1398.44 1546.21 Q1398.44 1551.17 1394.5 1554.07 Q1390.58 1556.97 1383.71 1556.97 Q1380.84 1556.97 1377.72 1556.39 Q1374.64 1555.85 1371.2 1554.74 L1371.2 1548.69 Q1374.45 1550.38 1377.6 1551.24 Q1380.75 1552.07 1383.84 1552.07 Q1387.97 1552.07 1390.2 1550.66 Q1392.43 1549.23 1392.43 1546.65 Q1392.43 1544.27 1390.81 1542.99 Q1389.21 1541.72 1383.77 1540.54 L1381.73 1540.07 Q1376.29 1538.92 1373.87 1536.56 Q1371.45 1534.18 1371.45 1530.04 Q1371.45 1525.01 1375.02 1522.27 Q1378.58 1519.54 1385.14 1519.54 Q1388.39 1519.54 1391.25 1520.01 Q1394.12 1520.49 1396.53 1521.45 Z\" fill=\"#000000\" fill-rule=\"evenodd\" fill-opacity=\"1\" /><path clip-path=\"url(#clip380)\" d=\"M 0 0 M44.1444 904.492 L50.9239 904.492 Q47.9002 907.739 46.4043 911.431 Q44.9083 915.091 44.9083 919.229 Q44.9083 927.377 49.9054 931.705 Q54.8707 936.034 64.2919 936.034 Q73.6813 936.034 78.6784 931.705 Q83.6436 927.377 83.6436 919.229 Q83.6436 915.091 82.1477 911.431 Q80.6518 907.739 77.6281 904.492 L84.3439 904.492 Q86.6355 907.866 87.7814 911.653 Q88.9272 915.409 88.9272 919.611 Q88.9272 930.4 82.3387 936.607 Q75.7183 942.814 64.2919 942.814 Q52.8336 942.814 46.2451 936.607 Q39.6248 930.4 39.6248 919.611 Q39.6248 915.346 40.7706 911.59 Q41.8846 907.802 44.1444 904.492 Z\" fill=\"#000000\" fill-rule=\"evenodd\" fill-opacity=\"1\" /><path clip-path=\"url(#clip380)\" d=\"M 0 0 M57.8307 877.692 Q57.2578 878.679 57.0032 879.857 Q56.7167 881.003 56.7167 882.403 Q56.7167 887.368 59.9632 890.042 Q63.1779 892.684 69.2253 892.684 L88.0042 892.684 L88.0042 898.572 L52.3562 898.572 L52.3562 892.684 L57.8944 892.684 Q54.6479 890.838 53.0883 887.878 Q51.4968 884.917 51.4968 880.684 Q51.4968 880.08 51.5923 879.347 Q51.656 878.615 51.8151 877.724 L57.8307 877.692 Z\" fill=\"#000000\" fill-rule=\"evenodd\" fill-opacity=\"1\" /><path clip-path=\"url(#clip380)\" d=\"M 0 0 M56.4621 859.168 Q56.4621 863.879 60.1542 866.616 Q63.8145 869.353 70.212 869.353 Q76.6095 869.353 80.3017 866.648 Q83.9619 863.911 83.9619 859.168 Q83.9619 854.489 80.2698 851.752 Q76.5777 849.015 70.212 849.015 Q63.8781 849.015 60.186 851.752 Q56.4621 854.489 56.4621 859.168 M51.4968 859.168 Q51.4968 851.529 56.4621 847.169 Q61.4273 842.808 70.212 842.808 Q78.9649 842.808 83.9619 847.169 Q88.9272 851.529 88.9272 859.168 Q88.9272 866.839 83.9619 871.199 Q78.9649 875.528 70.212 875.528 Q61.4273 875.528 56.4621 871.199 Q51.4968 866.839 51.4968 859.168 Z\" fill=\"#000000\" fill-rule=\"evenodd\" fill-opacity=\"1\" /><path clip-path=\"url(#clip380)\" d=\"M 0 0 M53.4065 813.94 L58.9447 813.94 Q57.6716 816.422 57.035 819.096 Q56.3984 821.77 56.3984 824.634 Q56.3984 828.995 57.7352 831.191 Q59.072 833.355 61.7456 833.355 Q63.7826 833.355 64.9603 831.796 Q66.1061 830.236 67.1565 825.525 L67.6021 823.52 Q68.9389 817.282 71.3897 814.672 Q73.8086 812.03 78.1691 812.03 Q83.1344 812.03 86.0308 815.977 Q88.9272 819.892 88.9272 826.767 Q88.9272 829.631 88.3543 832.751 Q87.8132 835.838 86.6992 839.275 L80.6518 839.275 Q82.3387 836.029 83.198 832.878 Q84.0256 829.727 84.0256 826.639 Q84.0256 822.502 82.6251 820.274 Q81.1929 818.046 78.6147 818.046 Q76.2276 818.046 74.9545 819.669 Q73.6813 821.26 72.5037 826.703 L72.0262 828.74 Q70.8804 834.183 68.5251 836.602 Q66.138 839.021 62.0002 839.021 Q56.9713 839.021 54.2341 835.456 Q51.4968 831.891 51.4968 825.334 Q51.4968 822.088 51.9743 819.223 Q52.4517 816.359 53.4065 813.94 Z\" fill=\"#000000\" fill-rule=\"evenodd\" fill-opacity=\"1\" /><path clip-path=\"url(#clip380)\" d=\"M 0 0 M53.4065 783.162 L58.9447 783.162 Q57.6716 785.644 57.035 788.318 Q56.3984 790.991 56.3984 793.856 Q56.3984 798.217 57.7352 800.413 Q59.072 802.577 61.7456 802.577 Q63.7826 802.577 64.9603 801.017 Q66.1061 799.458 67.1565 794.747 L67.6021 792.742 Q68.9389 786.504 71.3897 783.894 Q73.8086 781.252 78.1691 781.252 Q83.1344 781.252 86.0308 785.199 Q88.9272 789.114 88.9272 795.989 Q88.9272 798.853 88.3543 801.972 Q87.8132 805.06 86.6992 808.497 L80.6518 808.497 Q82.3387 805.251 83.198 802.1 Q84.0256 798.949 84.0256 795.861 Q84.0256 791.724 82.6251 789.496 Q81.1929 787.268 78.6147 787.268 Q76.2276 787.268 74.9545 788.891 Q73.6813 790.482 72.5037 795.925 L72.0262 797.962 Q70.8804 803.405 68.5251 805.824 Q66.138 808.243 62.0002 808.243 Q56.9713 808.243 54.2341 804.678 Q51.4968 801.113 51.4968 794.556 Q51.4968 791.31 51.9743 788.445 Q52.4517 785.581 53.4065 783.162 Z\" fill=\"#000000\" fill-rule=\"evenodd\" fill-opacity=\"1\" /><path clip-path=\"url(#clip380)\" d=\"M 0 0 M40.4842 754.134 L40.4842 724.088 L45.895 724.088 L45.895 747.705 L59.9632 747.705 L59.9632 725.075 L65.3741 725.075 L65.3741 747.705 L82.5933 747.705 L82.5933 723.515 L88.0042 723.515 L88.0042 754.134 L40.4842 754.134 Z\" fill=\"#000000\" fill-rule=\"evenodd\" fill-opacity=\"1\" /><path clip-path=\"url(#clip380)\" d=\"M 0 0 M66.4881 687.74 L88.0042 687.74 L88.0042 693.596 L66.679 693.596 Q61.6183 693.596 59.1038 695.57 Q56.5894 697.543 56.5894 701.49 Q56.5894 706.232 59.6131 708.969 Q62.6368 711.707 67.8567 711.707 L88.0042 711.707 L88.0042 717.595 L52.3562 717.595 L52.3562 711.707 L57.8944 711.707 Q54.6797 709.606 53.0883 706.773 Q51.4968 703.909 51.4968 700.185 Q51.4968 694.042 55.3163 690.891 Q59.1038 687.74 66.4881 687.74 Z\" fill=\"#000000\" fill-rule=\"evenodd\" fill-opacity=\"1\" /><path clip-path=\"url(#clip380)\" d=\"M 0 0 M42.2347 675.804 L52.3562 675.804 L52.3562 663.741 L56.9077 663.741 L56.9077 675.804 L76.2594 675.804 Q80.6199 675.804 81.8613 674.626 Q83.1026 673.417 83.1026 669.757 L83.1026 663.741 L88.0042 663.741 L88.0042 669.757 Q88.0042 676.536 85.4897 679.114 Q82.9434 681.692 76.2594 681.692 L56.9077 681.692 L56.9077 685.989 L52.3562 685.989 L52.3562 681.692 L42.2347 681.692 L42.2347 675.804 Z\" fill=\"#000000\" fill-rule=\"evenodd\" fill-opacity=\"1\" /><path clip-path=\"url(#clip380)\" d=\"M 0 0 M57.8307 636.941 Q57.2578 637.928 57.0032 639.106 Q56.7167 640.252 56.7167 641.652 Q56.7167 646.617 59.9632 649.291 Q63.1779 651.933 69.2253 651.933 L88.0042 651.933 L88.0042 657.821 L52.3562 657.821 L52.3562 651.933 L57.8944 651.933 Q54.6479 650.087 53.0883 647.127 Q51.4968 644.166 51.4968 639.933 Q51.4968 639.329 51.5923 638.596 Q51.656 637.864 51.8151 636.973 L57.8307 636.941 Z\" fill=\"#000000\" fill-rule=\"evenodd\" fill-opacity=\"1\" /><path clip-path=\"url(#clip380)\" d=\"M 0 0 M56.4621 618.417 Q56.4621 623.128 60.1542 625.865 Q63.8145 628.602 70.212 628.602 Q76.6095 628.602 80.3017 625.897 Q83.9619 623.16 83.9619 618.417 Q83.9619 613.738 80.2698 611.001 Q76.5777 608.264 70.212 608.264 Q63.8781 608.264 60.186 611.001 Q56.4621 613.738 56.4621 618.417 M51.4968 618.417 Q51.4968 610.778 56.4621 606.418 Q61.4273 602.057 70.212 602.057 Q78.9649 602.057 83.9619 606.418 Q88.9272 610.778 88.9272 618.417 Q88.9272 626.088 83.9619 630.448 Q78.9649 634.777 70.212 634.777 Q61.4273 634.777 56.4621 630.448 Q51.4968 626.088 51.4968 618.417 Z\" fill=\"#000000\" fill-rule=\"evenodd\" fill-opacity=\"1\" /><path clip-path=\"url(#clip380)\" d=\"M 0 0 M82.657 590.249 L101.563 590.249 L101.563 596.137 L52.3562 596.137 L52.3562 590.249 L57.7671 590.249 Q54.5842 588.403 53.0564 585.602 Q51.4968 582.769 51.4968 578.854 Q51.4968 572.361 56.6531 568.319 Q61.8093 564.245 70.212 564.245 Q78.6147 564.245 83.771 568.319 Q88.9272 572.361 88.9272 578.854 Q88.9272 582.769 87.3994 585.602 Q85.8398 588.403 82.657 590.249 M70.212 570.324 Q63.7508 570.324 60.0905 572.998 Q56.3984 575.64 56.3984 580.287 Q56.3984 584.934 60.0905 587.607 Q63.7508 590.249 70.212 590.249 Q76.6732 590.249 80.3653 587.607 Q84.0256 584.934 84.0256 580.287 Q84.0256 575.64 80.3653 572.998 Q76.6732 570.324 70.212 570.324 Z\" fill=\"#000000\" fill-rule=\"evenodd\" fill-opacity=\"1\" /><path clip-path=\"url(#clip380)\" d=\"M 0 0 M91.3143 543.27 Q97.68 545.753 99.6216 548.108 Q101.563 550.463 101.563 554.41 L101.563 559.089 L96.6615 559.089 L96.6615 555.651 Q96.6615 553.232 95.5157 551.896 Q94.3699 550.559 90.1048 548.935 L87.4312 547.885 L52.3562 562.303 L52.3562 556.097 L80.238 544.957 L52.3562 533.817 L52.3562 527.61 L91.3143 543.27 Z\" fill=\"#000000\" fill-rule=\"evenodd\" fill-opacity=\"1\" /><polyline clip-path=\"url(#clip382)\" style=\"stroke:#009af9; stroke-width:8; stroke-opacity:1; fill:none\" points=\"\n",
       "  298.45,173.576 308.423,555.54 318.395,806.032 328.367,967.923 338.34,1071.37 348.312,1138.56 358.284,1183.72 368.257,1215.17 378.229,1237.84 388.202,1254.77 \n",
       "  398.174,1267.84 408.146,1278.24 418.119,1286.73 428.091,1293.8 438.063,1299.79 448.036,1304.94 458.008,1309.43 467.98,1313.39 477.953,1316.92 487.925,1320.1 \n",
       "  497.897,1322.99 507.87,1325.64 517.842,1328.09 527.815,1330.36 537.787,1332.46 547.759,1334.41 557.732,1336.21 567.704,1337.87 577.676,1339.39 587.649,1340.78 \n",
       "  597.621,1342.04 607.593,1343.18 617.566,1344.19 627.538,1345.1 637.51,1345.92 647.483,1346.63 657.455,1347.27 667.428,1347.84 677.4,1348.34 687.372,1348.79 \n",
       "  697.345,1349.19 707.317,1349.56 717.289,1349.89 727.262,1350.19 737.234,1350.47 747.206,1350.74 757.179,1350.99 767.151,1351.24 777.123,1351.47 787.096,1351.7 \n",
       "  797.068,1351.92 807.041,1352.13 817.013,1352.34 826.985,1352.55 836.958,1352.75 846.93,1352.95 856.902,1353.13 866.875,1353.31 876.847,1353.48 886.819,1353.63 \n",
       "  896.792,1353.77 906.764,1353.9 916.736,1354.01 926.709,1354.1 936.681,1354.18 946.654,1354.23 956.626,1354.27 966.598,1354.28 976.571,1354.28 986.543,1354.26 \n",
       "  996.515,1354.22 1006.49,1354.15 1016.46,1354.07 1026.43,1353.97 1036.4,1353.85 1046.38,1353.71 1056.35,1353.55 1066.32,1353.37 1076.29,1353.18 1086.27,1352.96 \n",
       "  1096.24,1352.73 1106.21,1352.48 1116.18,1352.22 1126.16,1351.94 1136.13,1351.64 1146.1,1351.33 1156.07,1351 1166.05,1350.66 1176.02,1350.3 1185.99,1349.93 \n",
       "  1195.96,1349.54 1205.93,1349.15 1215.91,1348.74 1225.88,1348.31 1235.85,1347.88 1245.82,1347.44 1255.8,1346.99 1265.77,1346.53 1275.74,1346.06 1285.71,1345.58 \n",
       "  1295.69,1345.09 1305.66,1344.6 1315.63,1344.1 1325.6,1343.6 1335.58,1343.09 1345.55,1342.58 1355.52,1342.07 1365.49,1341.55 1375.46,1341.03 1385.44,1340.51 \n",
       "  1395.41,1339.99 1405.38,1339.47 1415.35,1338.95 1425.33,1338.43 1435.3,1337.91 1445.27,1337.39 1455.24,1336.88 1465.22,1336.37 1475.19,1335.86 1485.16,1335.36 \n",
       "  1495.13,1334.86 1505.11,1334.36 1515.08,1333.87 1525.05,1333.38 1535.02,1332.91 1544.99,1332.43 1554.97,1331.97 1564.94,1331.51 1574.91,1331.07 1584.88,1330.63 \n",
       "  1594.86,1330.2 1604.83,1329.78 1614.8,1329.37 1624.77,1328.97 1634.75,1328.58 1644.72,1328.2 1654.69,1327.84 1664.66,1327.48 1674.64,1327.14 1684.61,1326.82 \n",
       "  1694.58,1326.5 1704.55,1326.2 1714.53,1325.92 1724.5,1325.64 1734.47,1325.38 1744.44,1325.14 1754.41,1324.91 1764.39,1324.69 1774.36,1324.49 1784.33,1324.29 \n",
       "  1794.3,1324.12 1804.28,1323.95 1814.25,1323.8 1824.22,1323.66 1834.19,1323.54 1844.17,1323.42 1854.14,1323.32 1864.11,1323.23 1874.08,1323.14 1884.06,1323.07 \n",
       "  1894.03,1323.01 1904,1322.96 1913.97,1322.92 1923.94,1322.89 1933.92,1322.86 1943.89,1322.84 1953.86,1322.83 1963.83,1322.83 1973.81,1322.83 1983.78,1322.84 \n",
       "  1993.75,1322.85 2003.72,1322.86 2013.7,1322.89 2023.67,1322.91 2033.64,1322.94 2043.61,1322.97 2053.59,1323.01 2063.56,1323.05 2073.53,1323.08 2083.5,1323.13 \n",
       "  2093.47,1323.17 2103.45,1323.22 2113.42,1323.26 2123.39,1323.31 2133.36,1323.35 2143.34,1323.41 2153.31,1323.46 2163.28,1323.51 2173.25,1323.56 2183.23,1323.61 \n",
       "  2193.2,1323.65 2203.17,1323.7 2213.14,1323.75 2223.12,1323.8 2233.09,1323.84 2243.06,1323.89 2253.03,1323.95 2263,1324 2272.98,1324.05 2282.95,1324.09 \n",
       "  2292.92,1324.14 \n",
       "  \"/>\n",
       "<polyline clip-path=\"url(#clip382)\" style=\"stroke:#e26f46; stroke-width:8; stroke-opacity:1; fill:none\" points=\"\n",
       "  300.445,86.1857 302.439,194.942 304.434,294.127 306.428,383.53 308.423,463.622 310.417,535.063 312.412,598.608 314.406,655.055 316.401,705.212 318.395,749.849 \n",
       "  320.389,789.675 322.384,825.324 324.378,857.348 326.373,886.23 328.367,912.382 330.362,936.157 332.356,957.856 334.351,977.736 336.345,996.016 338.34,1012.88 \n",
       "  340.334,1028.49 342.329,1042.99 344.323,1056.48 346.318,1069.06 348.312,1080.83 350.307,1091.86 352.301,1102.2 354.296,1111.92 356.29,1121.06 358.284,1129.67 \n",
       "  360.279,1137.79 362.273,1145.45 364.268,1152.69 366.262,1159.54 368.257,1166.01 370.251,1172.15 372.246,1177.97 374.24,1183.49 376.235,1188.74 378.229,1193.73 \n",
       "  380.224,1198.48 382.218,1203 384.213,1207.31 386.207,1211.42 388.202,1215.35 390.196,1219.11 392.19,1222.7 394.185,1226.14 396.179,1229.43 398.174,1232.59 \n",
       "  400.168,1235.62 402.163,1238.53 404.157,1241.32 406.152,1244.01 408.146,1246.6 410.141,1249.09 412.135,1251.48 414.13,1253.8 416.124,1256.02 418.119,1258.18 \n",
       "  420.113,1260.25 422.108,1262.26 424.102,1264.2 426.096,1266.08 428.091,1267.9 430.085,1269.66 432.08,1271.36 434.074,1273.01 436.069,1274.62 438.063,1276.17 \n",
       "  440.058,1277.68 442.052,1279.15 444.047,1280.57 446.041,1281.95 448.036,1283.3 450.03,1284.61 452.025,1285.88 454.019,1287.12 456.014,1288.33 458.008,1289.51 \n",
       "  460.002,1290.66 461.997,1291.78 463.991,1292.87 465.986,1293.93 467.98,1294.97 469.975,1295.99 471.969,1296.98 473.964,1297.95 475.958,1298.89 477.953,1299.82 \n",
       "  479.947,1300.72 481.942,1301.61 483.936,1302.47 485.931,1303.32 487.925,1304.15 489.92,1304.96 491.914,1305.76 493.909,1306.53 495.903,1307.3 497.897,1308.05 \n",
       "  499.892,1308.78 501.886,1309.5 503.881,1310.2 505.875,1310.9 507.87,1311.57 509.864,1312.24 511.859,1312.9 513.853,1313.54 515.848,1314.17 517.842,1314.79 \n",
       "  519.837,1315.39 521.831,1315.99 523.826,1316.58 525.82,1317.16 527.815,1317.72 529.809,1318.28 531.803,1318.83 533.798,1319.37 535.792,1319.9 537.787,1320.42 \n",
       "  539.781,1320.93 541.776,1321.44 543.77,1321.94 545.765,1322.42 547.759,1322.91 549.754,1323.38 551.748,1323.85 553.743,1324.31 555.737,1324.76 557.732,1325.2 \n",
       "  559.726,1325.64 561.721,1326.08 563.715,1326.5 565.709,1326.92 567.704,1327.34 569.698,1327.74 571.693,1328.15 573.687,1328.54 575.682,1328.93 577.676,1329.32 \n",
       "  579.671,1329.7 581.665,1330.08 583.66,1330.45 585.654,1330.81 587.649,1331.17 589.643,1331.53 591.638,1331.88 593.632,1332.22 595.627,1332.56 597.621,1332.9 \n",
       "  599.615,1333.23 601.61,1333.56 603.604,1333.89 605.599,1334.21 607.593,1334.52 609.588,1334.84 611.582,1335.14 613.577,1335.45 615.571,1335.75 617.566,1336.05 \n",
       "  619.56,1336.34 621.555,1336.63 623.549,1336.92 625.544,1337.2 627.538,1337.48 629.533,1337.76 631.527,1338.03 633.522,1338.3 635.516,1338.57 637.51,1338.84 \n",
       "  639.505,1339.1 641.499,1339.36 643.494,1339.61 645.488,1339.87 647.483,1340.12 649.477,1340.37 651.472,1340.61 653.466,1340.85 655.461,1341.09 657.455,1341.33 \n",
       "  659.45,1341.57 661.444,1341.8 663.439,1342.03 665.433,1342.26 667.428,1342.49 669.422,1342.71 671.416,1342.93 673.411,1343.15 675.405,1343.37 677.4,1343.59 \n",
       "  679.394,1343.8 681.389,1344.01 683.383,1344.22 685.378,1344.43 687.372,1344.63 689.367,1344.84 691.361,1345.04 693.356,1345.24 695.35,1345.44 697.345,1345.64 \n",
       "  699.339,1345.83 701.334,1346.02 703.328,1346.22 705.322,1346.41 707.317,1346.6 709.311,1346.78 711.306,1346.97 713.3,1347.15 715.295,1347.34 717.289,1347.52 \n",
       "  719.284,1347.7 721.278,1347.88 723.273,1348.05 725.267,1348.23 727.262,1348.41 729.256,1348.58 731.251,1348.75 733.245,1348.92 735.24,1349.09 737.234,1349.26 \n",
       "  739.229,1349.43 741.223,1349.6 743.217,1349.76 745.212,1349.92 747.206,1350.09 749.201,1350.25 751.195,1350.41 753.19,1350.57 755.184,1350.73 757.179,1350.89 \n",
       "  759.173,1351.04 761.168,1351.2 763.162,1351.36 765.157,1351.51 767.151,1351.66 769.146,1351.81 771.14,1351.96 773.135,1352.12 775.129,1352.26 777.123,1352.41 \n",
       "  779.118,1352.56 781.112,1352.71 783.107,1352.85 785.101,1353 787.096,1353.14 789.09,1353.29 791.085,1353.43 793.079,1353.57 795.074,1353.71 797.068,1353.85 \n",
       "  799.063,1353.99 801.057,1354.13 803.052,1354.27 805.046,1354.41 807.041,1354.54 809.035,1354.68 811.029,1354.81 813.024,1354.95 815.018,1355.08 817.013,1355.21 \n",
       "  819.007,1355.35 821.002,1355.48 822.996,1355.61 824.991,1355.74 826.985,1355.87 828.98,1356 830.974,1356.12 832.969,1356.25 834.963,1356.38 836.958,1356.5 \n",
       "  838.952,1356.63 840.947,1356.75 842.941,1356.88 844.935,1357 846.93,1357.13 848.924,1357.25 850.919,1357.37 852.913,1357.49 854.908,1357.61 856.902,1357.73 \n",
       "  858.897,1357.85 860.891,1357.97 862.886,1358.09 864.88,1358.2 866.875,1358.32 868.869,1358.44 870.864,1358.55 872.858,1358.67 874.853,1358.78 876.847,1358.9 \n",
       "  878.842,1359.01 880.836,1359.12 882.83,1359.23 884.825,1359.35 886.819,1359.46 888.814,1359.57 890.808,1359.68 892.803,1359.79 894.797,1359.9 896.792,1360.01 \n",
       "  898.786,1360.11 900.781,1360.22 902.775,1360.33 904.77,1360.43 906.764,1360.54 908.759,1360.65 910.753,1360.75 912.748,1360.85 914.742,1360.96 916.736,1361.06 \n",
       "  918.731,1361.16 920.725,1361.27 922.72,1361.37 924.714,1361.47 926.709,1361.57 928.703,1361.67 930.698,1361.77 932.692,1361.87 934.687,1361.97 936.681,1362.07 \n",
       "  938.676,1362.17 940.67,1362.26 942.665,1362.36 944.659,1362.46 946.654,1362.55 948.648,1362.65 950.642,1362.75 952.637,1362.84 954.631,1362.94 956.626,1363.03 \n",
       "  958.62,1363.12 960.615,1363.22 962.609,1363.31 964.604,1363.4 966.598,1363.49 968.593,1363.59 970.587,1363.68 972.582,1363.77 974.576,1363.86 976.571,1363.95 \n",
       "  978.565,1364.04 980.56,1364.13 982.554,1364.22 984.548,1364.3 986.543,1364.39 988.537,1364.48 990.532,1364.57 992.526,1364.65 994.521,1364.74 996.515,1364.83 \n",
       "  998.51,1364.91 1000.5,1365 1002.5,1365.08 1004.49,1365.17 1006.49,1365.25 1008.48,1365.34 1010.48,1365.42 1012.47,1365.5 1014.47,1365.59 1016.46,1365.67 \n",
       "  1018.45,1365.75 1020.45,1365.83 1022.44,1365.91 1024.44,1366 1026.43,1366.08 1028.43,1366.16 1030.42,1366.24 1032.42,1366.32 1034.41,1366.4 1036.4,1366.47 \n",
       "  1038.4,1366.55 1040.39,1366.63 1042.39,1366.71 1044.38,1366.79 1046.38,1366.87 1048.37,1366.94 1050.37,1367.02 1052.36,1367.1 1054.35,1367.17 1056.35,1367.25 \n",
       "  1058.34,1367.32 1060.34,1367.4 1062.33,1367.47 1064.33,1367.55 1066.32,1367.62 1068.32,1367.7 1070.31,1367.77 1072.31,1367.84 1074.3,1367.92 1076.29,1367.99 \n",
       "  1078.29,1368.06 1080.28,1368.14 1082.28,1368.21 1084.27,1368.28 1086.27,1368.35 1088.26,1368.42 1090.26,1368.49 1092.25,1368.56 1094.24,1368.63 1096.24,1368.7 \n",
       "  1098.23,1368.77 1100.23,1368.84 1102.22,1368.91 1104.22,1368.98 1106.21,1369.05 1108.21,1369.12 1110.2,1369.19 1112.19,1369.25 1114.19,1369.32 1116.18,1369.39 \n",
       "  1118.18,1369.46 1120.17,1369.52 1122.17,1369.59 1124.16,1369.66 1126.16,1369.72 1128.15,1369.79 1130.14,1369.85 1132.14,1369.92 1134.13,1369.98 1136.13,1370.05 \n",
       "  1138.12,1370.11 1140.12,1370.18 1142.11,1370.24 1144.11,1370.3 1146.1,1370.37 1148.1,1370.43 1150.09,1370.49 1152.08,1370.56 1154.08,1370.62 1156.07,1370.68 \n",
       "  1158.07,1370.74 1160.06,1370.8 1162.06,1370.87 1164.05,1370.93 1166.05,1370.99 1168.04,1371.05 1170.03,1371.11 1172.03,1371.17 1174.02,1371.23 1176.02,1371.29 \n",
       "  1178.01,1371.35 1180.01,1371.41 1182,1371.47 1184,1371.53 1185.99,1371.59 1187.98,1371.64 1189.98,1371.7 1191.97,1371.76 1193.97,1371.82 1195.96,1371.88 \n",
       "  1197.96,1371.93 1199.95,1371.99 1201.95,1372.05 1203.94,1372.1 1205.93,1372.16 1207.93,1372.22 1209.92,1372.27 1211.92,1372.33 1213.91,1372.38 1215.91,1372.44 \n",
       "  1217.9,1372.5 1219.9,1372.55 1221.89,1372.61 1223.89,1372.66 1225.88,1372.71 1227.87,1372.77 1229.87,1372.82 1231.86,1372.88 1233.86,1372.93 1235.85,1372.98 \n",
       "  1237.85,1373.04 1239.84,1373.09 1241.84,1373.14 1243.83,1373.19 1245.82,1373.25 1247.82,1373.3 1249.81,1373.35 1251.81,1373.4 1253.8,1373.45 1255.8,1373.51 \n",
       "  1257.79,1373.56 1259.79,1373.61 1261.78,1373.66 1263.77,1373.71 1265.77,1373.76 1267.76,1373.81 1269.76,1373.86 1271.75,1373.91 1273.75,1373.96 1275.74,1374.01 \n",
       "  1277.74,1374.06 1279.73,1374.11 1281.72,1374.15 1283.72,1374.2 1285.71,1374.25 1287.71,1374.3 1289.7,1374.35 1291.7,1374.4 1293.69,1374.44 1295.69,1374.49 \n",
       "  1297.68,1374.54 1299.67,1374.59 1301.67,1374.63 1303.66,1374.68 1305.66,1374.73 1307.65,1374.77 1309.65,1374.82 1311.64,1374.86 1313.64,1374.91 1315.63,1374.96 \n",
       "  1317.63,1375 1319.62,1375.05 1321.61,1375.09 1323.61,1375.14 1325.6,1375.18 1327.6,1375.23 1329.59,1375.27 1331.59,1375.32 1333.58,1375.36 1335.58,1375.4 \n",
       "  1337.57,1375.45 1339.56,1375.49 1341.56,1375.53 1343.55,1375.58 1345.55,1375.62 1347.54,1375.66 1349.54,1375.71 1351.53,1375.75 1353.53,1375.79 1355.52,1375.83 \n",
       "  1357.51,1375.88 1359.51,1375.92 1361.5,1375.96 1363.5,1376 1365.49,1376.04 1367.49,1376.08 1369.48,1376.13 1371.48,1376.17 1373.47,1376.21 1375.46,1376.25 \n",
       "  1377.46,1376.29 1379.45,1376.33 1381.45,1376.37 1383.44,1376.41 1385.44,1376.45 1387.43,1376.49 1389.43,1376.53 1391.42,1376.57 1393.42,1376.61 1395.41,1376.65 \n",
       "  1397.4,1376.69 1399.4,1376.72 1401.39,1376.76 1403.39,1376.8 1405.38,1376.84 1407.38,1376.88 1409.37,1376.92 1411.37,1376.95 1413.36,1376.99 1415.35,1377.03 \n",
       "  1417.35,1377.07 1419.34,1377.1 1421.34,1377.14 1423.33,1377.18 1425.33,1377.21 1427.32,1377.25 1429.32,1377.29 1431.31,1377.32 1433.3,1377.36 1435.3,1377.4 \n",
       "  1437.29,1377.43 1439.29,1377.47 1441.28,1377.5 1443.28,1377.54 1445.27,1377.57 1447.27,1377.61 1449.26,1377.64 1451.25,1377.68 1453.25,1377.71 1455.24,1377.75 \n",
       "  1457.24,1377.78 1459.23,1377.82 1461.23,1377.85 1463.22,1377.89 1465.22,1377.92 1467.21,1377.95 1469.21,1377.99 1471.2,1378.02 1473.19,1378.05 1475.19,1378.09 \n",
       "  1477.18,1378.12 1479.18,1378.15 1481.17,1378.19 1483.17,1378.22 1485.16,1378.25 1487.16,1378.28 1489.15,1378.32 1491.14,1378.35 1493.14,1378.38 1495.13,1378.41 \n",
       "  1497.13,1378.44 1499.12,1378.48 1501.12,1378.51 1503.11,1378.54 1505.11,1378.57 1507.1,1378.6 1509.09,1378.63 1511.09,1378.66 1513.08,1378.69 1515.08,1378.72 \n",
       "  1517.07,1378.76 1519.07,1378.79 1521.06,1378.82 1523.06,1378.85 1525.05,1378.88 1527.04,1378.91 1529.04,1378.94 1531.03,1378.96 1533.03,1378.99 1535.02,1379.02 \n",
       "  1537.02,1379.05 1539.01,1379.08 1541.01,1379.11 1543,1379.14 1544.99,1379.17 1546.99,1379.2 1548.98,1379.23 1550.98,1379.25 1552.97,1379.28 1554.97,1379.31 \n",
       "  1556.96,1379.34 1558.96,1379.37 1560.95,1379.39 1562.95,1379.42 1564.94,1379.45 1566.93,1379.48 1568.93,1379.5 1570.92,1379.53 1572.92,1379.56 1574.91,1379.59 \n",
       "  1576.91,1379.61 1578.9,1379.64 1580.9,1379.67 1582.89,1379.69 1584.88,1379.72 1586.88,1379.74 1588.87,1379.77 1590.87,1379.8 1592.86,1379.82 1594.86,1379.85 \n",
       "  1596.85,1379.87 1598.85,1379.9 1600.84,1379.93 1602.83,1379.95 1604.83,1379.98 1606.82,1380 1608.82,1380.03 1610.81,1380.05 1612.81,1380.08 1614.8,1380.1 \n",
       "  1616.8,1380.13 1618.79,1380.15 1620.78,1380.17 1622.78,1380.2 1624.77,1380.22 1626.77,1380.25 1628.76,1380.27 1630.76,1380.29 1632.75,1380.32 1634.75,1380.34 \n",
       "  1636.74,1380.37 1638.74,1380.39 1640.73,1380.41 1642.72,1380.44 1644.72,1380.46 1646.71,1380.48 1648.71,1380.5 1650.7,1380.53 1652.7,1380.55 1654.69,1380.57 \n",
       "  1656.69,1380.6 1658.68,1380.62 1660.67,1380.64 1662.67,1380.66 1664.66,1380.68 1666.66,1380.71 1668.65,1380.73 1670.65,1380.75 1672.64,1380.77 1674.64,1380.79 \n",
       "  1676.63,1380.82 1678.62,1380.84 1680.62,1380.86 1682.61,1380.88 1684.61,1380.9 1686.6,1380.92 1688.6,1380.94 1690.59,1380.96 1692.59,1380.98 1694.58,1381 \n",
       "  1696.57,1381.03 1698.57,1381.05 1700.56,1381.07 1702.56,1381.09 1704.55,1381.11 1706.55,1381.13 1708.54,1381.15 1710.54,1381.17 1712.53,1381.19 1714.53,1381.21 \n",
       "  1716.52,1381.23 1718.51,1381.25 1720.51,1381.26 1722.5,1381.28 1724.5,1381.3 1726.49,1381.32 1728.49,1381.34 1730.48,1381.36 1732.48,1381.38 1734.47,1381.4 \n",
       "  1736.46,1381.42 1738.46,1381.44 1740.45,1381.45 1742.45,1381.47 1744.44,1381.49 1746.44,1381.51 1748.43,1381.53 1750.43,1381.55 1752.42,1381.56 1754.41,1381.58 \n",
       "  1756.41,1381.6 1758.4,1381.62 1760.4,1381.64 1762.39,1381.65 1764.39,1381.67 1766.38,1381.69 1768.38,1381.71 1770.37,1381.72 1772.36,1381.74 1774.36,1381.76 \n",
       "  1776.35,1381.77 1778.35,1381.79 1780.34,1381.81 1782.34,1381.83 1784.33,1381.84 1786.33,1381.86 1788.32,1381.88 1790.31,1381.89 1792.31,1381.91 1794.3,1381.93 \n",
       "  1796.3,1381.94 1798.29,1381.96 1800.29,1381.97 1802.28,1381.99 1804.28,1382.01 1806.27,1382.02 1808.27,1382.04 1810.26,1382.05 1812.25,1382.07 1814.25,1382.08 \n",
       "  1816.24,1382.1 1818.24,1382.12 1820.23,1382.13 1822.23,1382.15 1824.22,1382.16 1826.22,1382.18 1828.21,1382.19 1830.2,1382.21 1832.2,1382.22 1834.19,1382.24 \n",
       "  1836.19,1382.25 1838.18,1382.27 1840.18,1382.28 1842.17,1382.3 1844.17,1382.31 1846.16,1382.32 1848.15,1382.34 1850.15,1382.35 1852.14,1382.37 1854.14,1382.38 \n",
       "  1856.13,1382.4 1858.13,1382.41 1860.12,1382.42 1862.12,1382.44 1864.11,1382.45 1866.1,1382.47 1868.1,1382.48 1870.09,1382.49 1872.09,1382.51 1874.08,1382.52 \n",
       "  1876.08,1382.53 1878.07,1382.55 1880.07,1382.56 1882.06,1382.57 1884.06,1382.59 1886.05,1382.6 1888.04,1382.61 1890.04,1382.62 1892.03,1382.64 1894.03,1382.65 \n",
       "  1896.02,1382.66 1898.02,1382.68 1900.01,1382.69 1902.01,1382.7 1904,1382.71 1905.99,1382.73 1907.99,1382.74 1909.98,1382.75 1911.98,1382.76 1913.97,1382.78 \n",
       "  1915.97,1382.79 1917.96,1382.8 1919.96,1382.81 1921.95,1382.82 1923.94,1382.84 1925.94,1382.85 1927.93,1382.86 1929.93,1382.87 1931.92,1382.88 1933.92,1382.89 \n",
       "  1935.91,1382.91 1937.91,1382.92 1939.9,1382.93 1941.89,1382.94 1943.89,1382.95 1945.88,1382.96 1947.88,1382.97 1949.87,1382.98 1951.87,1383 1953.86,1383.01 \n",
       "  1955.86,1383.02 1957.85,1383.03 1959.85,1383.04 1961.84,1383.05 1963.83,1383.06 1965.83,1383.07 1967.82,1383.08 1969.82,1383.09 1971.81,1383.1 1973.81,1383.11 \n",
       "  1975.8,1383.12 1977.8,1383.14 1979.79,1383.15 1981.78,1383.16 1983.78,1383.17 1985.77,1383.18 1987.77,1383.19 1989.76,1383.2 1991.76,1383.21 1993.75,1383.22 \n",
       "  1995.75,1383.23 1997.74,1383.24 1999.73,1383.25 2001.73,1383.26 2003.72,1383.27 2005.72,1383.27 2007.71,1383.28 2009.71,1383.29 2011.7,1383.3 2013.7,1383.31 \n",
       "  2015.69,1383.32 2017.68,1383.33 2019.68,1383.34 2021.67,1383.35 2023.67,1383.36 2025.66,1383.37 2027.66,1383.38 2029.65,1383.39 2031.65,1383.4 2033.64,1383.4 \n",
       "  2035.63,1383.41 2037.63,1383.42 2039.62,1383.43 2041.62,1383.44 2043.61,1383.45 2045.61,1383.46 2047.6,1383.47 2049.6,1383.47 2051.59,1383.48 2053.59,1383.49 \n",
       "  2055.58,1383.5 2057.57,1383.51 2059.57,1383.52 2061.56,1383.53 2063.56,1383.53 2065.55,1383.54 2067.55,1383.55 2069.54,1383.56 2071.54,1383.57 2073.53,1383.57 \n",
       "  2075.52,1383.58 2077.52,1383.59 2079.51,1383.6 2081.51,1383.61 2083.5,1383.61 2085.5,1383.62 2087.49,1383.63 2089.49,1383.64 2091.48,1383.65 2093.47,1383.65 \n",
       "  2095.47,1383.66 2097.46,1383.67 2099.46,1383.68 2101.45,1383.68 2103.45,1383.69 2105.44,1383.7 2107.44,1383.71 2109.43,1383.71 2111.42,1383.72 2113.42,1383.73 \n",
       "  2115.41,1383.73 2117.41,1383.74 2119.4,1383.75 2121.4,1383.76 2123.39,1383.76 2125.39,1383.77 2127.38,1383.78 2129.38,1383.78 2131.37,1383.79 2133.36,1383.8 \n",
       "  2135.36,1383.8 2137.35,1383.81 2139.35,1383.82 2141.34,1383.82 2143.34,1383.83 2145.33,1383.84 2147.33,1383.84 2149.32,1383.85 2151.31,1383.86 2153.31,1383.86 \n",
       "  2155.3,1383.87 2157.3,1383.88 2159.29,1383.88 2161.29,1383.89 2163.28,1383.9 2165.28,1383.9 2167.27,1383.91 2169.26,1383.91 2171.26,1383.92 2173.25,1383.93 \n",
       "  2175.25,1383.93 2177.24,1383.94 2179.24,1383.94 2181.23,1383.95 2183.23,1383.96 2185.22,1383.96 2187.21,1383.97 2189.21,1383.97 2191.2,1383.98 2193.2,1383.99 \n",
       "  2195.19,1383.99 2197.19,1384 2199.18,1384 2201.18,1384.01 2203.17,1384.01 2205.17,1384.02 2207.16,1384.03 2209.15,1384.03 2211.15,1384.04 2213.14,1384.04 \n",
       "  2215.14,1384.05 2217.13,1384.05 2219.13,1384.06 2221.12,1384.06 2223.12,1384.07 2225.11,1384.07 2227.1,1384.08 2229.1,1384.09 2231.09,1384.09 2233.09,1384.1 \n",
       "  2235.08,1384.1 2237.08,1384.11 2239.07,1384.11 2241.07,1384.12 2243.06,1384.12 2245.05,1384.13 2247.05,1384.13 2249.04,1384.14 2251.04,1384.14 2253.03,1384.15 \n",
       "  2255.03,1384.15 2257.02,1384.16 2259.02,1384.16 2261.01,1384.17 2263,1384.17 2265,1384.17 2266.99,1384.18 2268.99,1384.18 2270.98,1384.19 2272.98,1384.19 \n",
       "  2274.97,1384.2 2276.97,1384.2 2278.96,1384.21 2280.95,1384.21 2282.95,1384.22 2284.94,1384.22 2286.94,1384.23 2288.93,1384.23 2290.93,1384.23 2292.92,1384.24 \n",
       "  \n",
       "  \"/>\n",
       "<path clip-path=\"url(#clip380)\" d=\"\n",
       "M1848.05 274.549 L2282.28 274.549 L2282.28 93.1086 L1848.05 93.1086  Z\n",
       "  \" fill=\"#ffffff\" fill-rule=\"evenodd\" fill-opacity=\"1\"/>\n",
       "<polyline clip-path=\"url(#clip380)\" style=\"stroke:#000000; stroke-width:4; stroke-opacity:1; fill:none\" points=\"\n",
       "  1848.05,274.549 2282.28,274.549 2282.28,93.1086 1848.05,93.1086 1848.05,274.549 \n",
       "  \"/>\n",
       "<polyline clip-path=\"url(#clip380)\" style=\"stroke:#009af9; stroke-width:4; stroke-opacity:1; fill:none\" points=\"\n",
       "  1871.54,153.589 2012.49,153.589 \n",
       "  \"/>\n",
       "<path clip-path=\"url(#clip380)\" d=\"M 0 0 M2049.17 170.869 L2035.98 136.309 L2040.86 136.309 L2051.81 165.406 L2062.78 136.309 L2067.64 136.309 L2054.47 170.869 L2049.17 170.869 Z\" fill=\"#000000\" fill-rule=\"evenodd\" fill-opacity=\"1\" /><path clip-path=\"url(#clip380)\" d=\"M 0 0 M2080.21 157.836 Q2075.05 157.836 2073.06 159.017 Q2071.07 160.197 2071.07 163.045 Q2071.07 165.313 2072.55 166.656 Q2074.05 167.975 2076.62 167.975 Q2080.17 167.975 2082.3 165.475 Q2084.45 162.952 2084.45 158.785 L2084.45 157.836 L2080.21 157.836 M2088.71 156.077 L2088.71 170.869 L2084.45 170.869 L2084.45 166.933 Q2082.99 169.295 2080.81 170.429 Q2078.64 171.54 2075.49 171.54 Q2071.51 171.54 2069.15 169.318 Q2066.81 167.072 2066.81 163.322 Q2066.81 158.947 2069.73 156.725 Q2072.67 154.503 2078.48 154.503 L2084.45 154.503 L2084.45 154.086 Q2084.45 151.147 2082.5 149.549 Q2080.58 147.929 2077.09 147.929 Q2074.86 147.929 2072.76 148.461 Q2070.65 148.994 2068.71 150.059 L2068.71 146.123 Q2071.05 145.221 2073.24 144.781 Q2075.44 144.318 2077.53 144.318 Q2083.15 144.318 2085.93 147.234 Q2088.71 150.151 2088.71 156.077 Z\" fill=\"#000000\" fill-rule=\"evenodd\" fill-opacity=\"1\" /><path clip-path=\"url(#clip380)\" d=\"M 0 0 M2093.17 134.85 L2097.43 134.85 L2097.43 170.869 L2093.17 170.869 L2093.17 134.85 Z\" fill=\"#000000\" fill-rule=\"evenodd\" fill-opacity=\"1\" /><path clip-path=\"url(#clip380)\" d=\"M 0 0 M2101.9 144.943 L2106.16 144.943 L2106.16 170.869 L2101.9 170.869 L2101.9 144.943 M2101.9 134.85 L2106.16 134.85 L2106.16 140.244 L2101.9 140.244 L2101.9 134.85 Z\" fill=\"#000000\" fill-rule=\"evenodd\" fill-opacity=\"1\" /><path clip-path=\"url(#clip380)\" d=\"M 0 0 M2127.69 148.878 L2127.69 134.85 L2131.95 134.85 L2131.95 170.869 L2127.69 170.869 L2127.69 166.98 Q2126.35 169.295 2124.29 170.429 Q2122.25 171.54 2119.38 171.54 Q2114.68 171.54 2111.72 167.79 Q2108.78 164.04 2108.78 157.929 Q2108.78 151.818 2111.72 148.068 Q2114.68 144.318 2119.38 144.318 Q2122.25 144.318 2124.29 145.452 Q2126.35 146.563 2127.69 148.878 M2113.17 157.929 Q2113.17 162.628 2115.1 165.313 Q2117.04 167.975 2120.42 167.975 Q2123.8 167.975 2125.74 165.313 Q2127.69 162.628 2127.69 157.929 Q2127.69 153.23 2125.74 150.568 Q2123.8 147.883 2120.42 147.883 Q2117.04 147.883 2115.1 150.568 Q2113.17 153.23 2113.17 157.929 Z\" fill=\"#000000\" fill-rule=\"evenodd\" fill-opacity=\"1\" /><path clip-path=\"url(#clip380)\" d=\"M 0 0 M2148.2 157.836 Q2143.04 157.836 2141.04 159.017 Q2139.05 160.197 2139.05 163.045 Q2139.05 165.313 2140.54 166.656 Q2142.04 167.975 2144.61 167.975 Q2148.15 167.975 2150.28 165.475 Q2152.43 162.952 2152.43 158.785 L2152.43 157.836 L2148.2 157.836 M2156.69 156.077 L2156.69 170.869 L2152.43 170.869 L2152.43 166.933 Q2150.98 169.295 2148.8 170.429 Q2146.62 171.54 2143.48 171.54 Q2139.49 171.54 2137.13 169.318 Q2134.79 167.072 2134.79 163.322 Q2134.79 158.947 2137.71 156.725 Q2140.65 154.503 2146.46 154.503 L2152.43 154.503 L2152.43 154.086 Q2152.43 151.147 2150.49 149.549 Q2148.57 147.929 2145.07 147.929 Q2142.85 147.929 2140.74 148.461 Q2138.64 148.994 2136.69 150.059 L2136.69 146.123 Q2139.03 145.221 2141.23 144.781 Q2143.43 144.318 2145.51 144.318 Q2151.14 144.318 2153.92 147.234 Q2156.69 150.151 2156.69 156.077 Z\" fill=\"#000000\" fill-rule=\"evenodd\" fill-opacity=\"1\" /><path clip-path=\"url(#clip380)\" d=\"M 0 0 M2165.37 137.582 L2165.37 144.943 L2174.15 144.943 L2174.15 148.253 L2165.37 148.253 L2165.37 162.327 Q2165.37 165.498 2166.23 166.401 Q2167.11 167.304 2169.77 167.304 L2174.15 167.304 L2174.15 170.869 L2169.77 170.869 Q2164.84 170.869 2162.97 169.04 Q2161.09 167.188 2161.09 162.327 L2161.09 148.253 L2157.97 148.253 L2157.97 144.943 L2161.09 144.943 L2161.09 137.582 L2165.37 137.582 Z\" fill=\"#000000\" fill-rule=\"evenodd\" fill-opacity=\"1\" /><path clip-path=\"url(#clip380)\" d=\"M 0 0 M2178.61 144.943 L2182.87 144.943 L2182.87 170.869 L2178.61 170.869 L2178.61 144.943 M2178.61 134.85 L2182.87 134.85 L2182.87 140.244 L2178.61 140.244 L2178.61 134.85 Z\" fill=\"#000000\" fill-rule=\"evenodd\" fill-opacity=\"1\" /><path clip-path=\"url(#clip380)\" d=\"M 0 0 M2197.39 147.929 Q2193.96 147.929 2191.97 150.614 Q2189.98 153.276 2189.98 157.929 Q2189.98 162.582 2191.95 165.267 Q2193.94 167.929 2197.39 167.929 Q2200.79 167.929 2202.78 165.244 Q2204.77 162.558 2204.77 157.929 Q2204.77 153.322 2202.78 150.637 Q2200.79 147.929 2197.39 147.929 M2197.39 144.318 Q2202.94 144.318 2206.11 147.929 Q2209.29 151.54 2209.29 157.929 Q2209.29 164.295 2206.11 167.929 Q2202.94 171.54 2197.39 171.54 Q2191.81 171.54 2188.64 167.929 Q2185.49 164.295 2185.49 157.929 Q2185.49 151.54 2188.64 147.929 Q2191.81 144.318 2197.39 144.318 Z\" fill=\"#000000\" fill-rule=\"evenodd\" fill-opacity=\"1\" /><path clip-path=\"url(#clip380)\" d=\"M 0 0 M2235.3 155.221 L2235.3 170.869 L2231.04 170.869 L2231.04 155.359 Q2231.04 151.679 2229.61 149.85 Q2228.17 148.022 2225.3 148.022 Q2221.85 148.022 2219.86 150.221 Q2217.87 152.42 2217.87 156.216 L2217.87 170.869 L2213.59 170.869 L2213.59 144.943 L2217.87 144.943 L2217.87 148.971 Q2219.4 146.633 2221.46 145.475 Q2223.54 144.318 2226.25 144.318 Q2230.72 144.318 2233.01 147.096 Q2235.3 149.85 2235.3 155.221 Z\" fill=\"#000000\" fill-rule=\"evenodd\" fill-opacity=\"1\" /><polyline clip-path=\"url(#clip380)\" style=\"stroke:#e26f46; stroke-width:4; stroke-opacity:1; fill:none\" points=\"\n",
       "  1871.54,214.069 2012.49,214.069 \n",
       "  \"/>\n",
       "<path clip-path=\"url(#clip380)\" d=\"M 0 0 M2035.98 196.789 L2065.21 196.789 L2065.21 200.724 L2052.94 200.724 L2052.94 231.349 L2048.24 231.349 L2048.24 200.724 L2035.98 200.724 L2035.98 196.789 Z\" fill=\"#000000\" fill-rule=\"evenodd\" fill-opacity=\"1\" /><path clip-path=\"url(#clip380)\" d=\"M 0 0 M2077.74 209.404 Q2077.02 208.988 2076.16 208.802 Q2075.33 208.594 2074.31 208.594 Q2070.7 208.594 2068.75 210.955 Q2066.83 213.293 2066.83 217.691 L2066.83 231.349 L2062.55 231.349 L2062.55 205.423 L2066.83 205.423 L2066.83 209.451 Q2068.17 207.089 2070.33 205.955 Q2072.48 204.798 2075.56 204.798 Q2076 204.798 2076.53 204.867 Q2077.06 204.914 2077.71 205.029 L2077.74 209.404 Z\" fill=\"#000000\" fill-rule=\"evenodd\" fill-opacity=\"1\" /><path clip-path=\"url(#clip380)\" d=\"M 0 0 M2093.99 218.316 Q2088.82 218.316 2086.83 219.497 Q2084.84 220.677 2084.84 223.525 Q2084.84 225.793 2086.32 227.136 Q2087.83 228.455 2090.4 228.455 Q2093.94 228.455 2096.07 225.955 Q2098.22 223.432 2098.22 219.265 L2098.22 218.316 L2093.99 218.316 M2102.48 216.557 L2102.48 231.349 L2098.22 231.349 L2098.22 227.413 Q2096.76 229.775 2094.59 230.909 Q2092.41 232.02 2089.26 232.02 Q2085.28 232.02 2082.92 229.798 Q2080.58 227.552 2080.58 223.802 Q2080.58 219.427 2083.5 217.205 Q2086.44 214.983 2092.25 214.983 L2098.22 214.983 L2098.22 214.566 Q2098.22 211.627 2096.28 210.029 Q2094.36 208.409 2090.86 208.409 Q2088.64 208.409 2086.53 208.941 Q2084.42 209.474 2082.48 210.539 L2082.48 206.603 Q2084.82 205.701 2087.02 205.261 Q2089.22 204.798 2091.3 204.798 Q2096.92 204.798 2099.7 207.714 Q2102.48 210.631 2102.48 216.557 Z\" fill=\"#000000\" fill-rule=\"evenodd\" fill-opacity=\"1\" /><path clip-path=\"url(#clip380)\" d=\"M 0 0 M2106.95 205.423 L2111.21 205.423 L2111.21 231.349 L2106.95 231.349 L2106.95 205.423 M2106.95 195.33 L2111.21 195.33 L2111.21 200.724 L2106.95 200.724 L2106.95 195.33 Z\" fill=\"#000000\" fill-rule=\"evenodd\" fill-opacity=\"1\" /><path clip-path=\"url(#clip380)\" d=\"M 0 0 M2137.23 215.701 L2137.23 231.349 L2132.97 231.349 L2132.97 215.839 Q2132.97 212.159 2131.53 210.33 Q2130.1 208.502 2127.23 208.502 Q2123.78 208.502 2121.79 210.701 Q2119.8 212.9 2119.8 216.696 L2119.8 231.349 L2115.51 231.349 L2115.51 205.423 L2119.8 205.423 L2119.8 209.451 Q2121.32 207.113 2123.38 205.955 Q2125.47 204.798 2128.17 204.798 Q2132.64 204.798 2134.93 207.576 Q2137.23 210.33 2137.23 215.701 Z\" fill=\"#000000\" fill-rule=\"evenodd\" fill-opacity=\"1\" /><path clip-path=\"url(#clip380)\" d=\"M 0 0 M2141.69 205.423 L2145.95 205.423 L2145.95 231.349 L2141.69 231.349 L2141.69 205.423 M2141.69 195.33 L2145.95 195.33 L2145.95 200.724 L2141.69 200.724 L2141.69 195.33 Z\" fill=\"#000000\" fill-rule=\"evenodd\" fill-opacity=\"1\" /><path clip-path=\"url(#clip380)\" d=\"M 0 0 M2171.97 215.701 L2171.97 231.349 L2167.71 231.349 L2167.71 215.839 Q2167.71 212.159 2166.28 210.33 Q2164.84 208.502 2161.97 208.502 Q2158.52 208.502 2156.53 210.701 Q2154.54 212.9 2154.54 216.696 L2154.54 231.349 L2150.26 231.349 L2150.26 205.423 L2154.54 205.423 L2154.54 209.451 Q2156.07 207.113 2158.13 205.955 Q2160.21 204.798 2162.92 204.798 Q2167.39 204.798 2169.68 207.576 Q2171.97 210.33 2171.97 215.701 Z\" fill=\"#000000\" fill-rule=\"evenodd\" fill-opacity=\"1\" /><path clip-path=\"url(#clip380)\" d=\"M 0 0 M2193.5 218.085 Q2193.5 213.455 2191.58 210.909 Q2189.68 208.363 2186.23 208.363 Q2182.8 208.363 2180.88 210.909 Q2178.98 213.455 2178.98 218.085 Q2178.98 222.691 2180.88 225.238 Q2182.8 227.784 2186.23 227.784 Q2189.68 227.784 2191.58 225.238 Q2193.5 222.691 2193.5 218.085 M2197.76 228.131 Q2197.76 234.751 2194.82 237.969 Q2191.88 241.21 2185.81 241.21 Q2183.57 241.21 2181.58 240.862 Q2179.59 240.538 2177.71 239.844 L2177.71 235.7 Q2179.59 236.719 2181.42 237.205 Q2183.24 237.691 2185.14 237.691 Q2189.33 237.691 2191.42 235.492 Q2193.5 233.316 2193.5 228.895 L2193.5 226.788 Q2192.18 229.08 2190.12 230.214 Q2188.06 231.349 2185.19 231.349 Q2180.42 231.349 2177.5 227.714 Q2174.59 224.08 2174.59 218.085 Q2174.59 212.066 2177.5 208.432 Q2180.42 204.798 2185.19 204.798 Q2188.06 204.798 2190.12 205.932 Q2192.18 207.066 2193.5 209.358 L2193.5 205.423 L2197.76 205.423 L2197.76 228.131 Z\" fill=\"#000000\" fill-rule=\"evenodd\" fill-opacity=\"1\" /></svg>\n"
      ]
     },
     "execution_count": 110,
     "metadata": {},
     "output_type": "execute_result"
    }
   ],
   "source": [
    "plot(curve.parameter_values,\n",
    "     curve.measurements,\n",
    "     xlab=curve.parameter_name,\n",
    "     ylab=\"Cross Entropy\",\n",
    "     label=\"Validation\", lw=2)\n",
    "plot!(Net2.report.training_losses, label=\"Training\", lw=2)"
   ]
  },
  {
   "cell_type": "code",
   "execution_count": 111,
   "metadata": {},
   "outputs": [
    {
     "data": {
      "text/plain": [
       "(0.00032, 0.3292)"
      ]
     },
     "execution_count": 111,
     "metadata": {},
     "output_type": "execute_result"
    }
   ],
   "source": [
    "a = round(nn2.optimiser.eta, digits=5)\n",
    "b = round(minimum(curve.measurements), digits=5)\n",
    "a,b"
   ]
  },
  {
   "cell_type": "code",
   "execution_count": 38,
   "metadata": {},
   "outputs": [],
   "source": [
    "fn = \"Figures/LearningCurve_NN_hidden:$(layer1)_epochs:$(nn2.epochs)_lr:$(a)_loss:$(b)_labmda:$(nn2.lambda)\"\n",
    "png(replace(fn,'.' => ','))"
   ]
  },
  {
   "cell_type": "code",
   "execution_count": null,
   "metadata": {},
   "outputs": [],
   "source": []
  },
  {
   "cell_type": "markdown",
   "metadata": {},
   "source": [
    "### GridSearch for Hidden Layer Size"
   ]
  },
  {
   "cell_type": "code",
   "execution_count": 112,
   "metadata": {},
   "outputs": [
    {
     "data": {
      "text/plain": [
       "MLJBase.NumericRange(Int64, :(builder.n1), ... )"
      ]
     },
     "execution_count": 112,
     "metadata": {},
     "output_type": "execute_result"
    }
   ],
   "source": [
    "param1 = :epochs\n",
    "param2 = :(builder.n1)\n",
    "\n",
    "r1 = range(nn2, param1, lower=10, upper=1000, scale=:log10)\n",
    "r2 = range(nn2, param2, lower=1, upper=50, scale=:linear)"
   ]
  },
  {
   "cell_type": "code",
   "execution_count": 113,
   "metadata": {
    "scrolled": true
   },
   "outputs": [
    {
     "data": {
      "text/plain": [
       "ProbabilisticTunedModel(\n",
       "    model = NeuralNetworkClassifier(\n",
       "            builder = \u001b[34mCustomNN @282\u001b[39m,\n",
       "            finaliser = NNlib.softmax,\n",
       "            optimiser = ADAM(0.00032, (0.9, 0.999), IdDict{Any,Any}()),\n",
       "            loss = Flux.crossentropy,\n",
       "            epochs = 1000,\n",
       "            batch_size = 16,\n",
       "            lambda = 0.0021544346900318843,\n",
       "            alpha = 0.0,\n",
       "            optimiser_changes_trigger_retraining = false),\n",
       "    tuning = Grid(\n",
       "            goal = 50,\n",
       "            resolution = 10,\n",
       "            shuffle = true,\n",
       "            rng = Random._GLOBAL_RNG()),\n",
       "    resampling = Holdout(\n",
       "            fraction_train = 0.7,\n",
       "            shuffle = false,\n",
       "            rng = Random._GLOBAL_RNG()),\n",
       "    measure = cross_entropy(\n",
       "            eps = 2.220446049250313e-16),\n",
       "    weights = nothing,\n",
       "    operation = MLJModelInterface.predict,\n",
       "    range = MLJBase.NumericRange{Int64,MLJBase.Bounded,Symbol}[\u001b[34mNumericRange{Int64,…} @640\u001b[39m, \u001b[34mNumericRange{Int64,…} @610\u001b[39m],\n",
       "    train_best = true,\n",
       "    repeats = 1,\n",
       "    n = nothing,\n",
       "    acceleration = CPUThreads{Int64}(1),\n",
       "    acceleration_resampling = CPU1{Nothing}(nothing),\n",
       "    check_measure = true)\u001b[34m @159\u001b[39m"
      ]
     },
     "execution_count": 113,
     "metadata": {},
     "output_type": "execute_result"
    }
   ],
   "source": [
    "self_tuning_nn_model = TunedModel(model=nn2,\n",
    "                                    tuning=Grid(goal=50),\n",
    "                                    resampling=Holdout(fraction_train=0.7), \n",
    "                                    measure=cross_entropy,\n",
    "                                    acceleration=CPUThreads(),\n",
    "                                    range=[r1, r2])"
   ]
  },
  {
   "cell_type": "code",
   "execution_count": 114,
   "metadata": {},
   "outputs": [
    {
     "data": {
      "text/plain": [
       "\u001b[34mMachine{ProbabilisticTunedModel{Grid,…}} @557\u001b[39m trained 0 times.\n",
       "  args: \n",
       "    1:\t\u001b[34mSource @715\u001b[39m ⏎ `Table{AbstractArray{Continuous,1}}`\n",
       "    2:\t\u001b[34mSource @717\u001b[39m ⏎ `AbstractArray{Multiclass{2},1}`\n"
      ]
     },
     "execution_count": 114,
     "metadata": {},
     "output_type": "execute_result"
    }
   ],
   "source": [
    "self_tuning_nn = machine(self_tuning_nn_model, X_stand, y)"
   ]
  },
  {
   "cell_type": "code",
   "execution_count": 115,
   "metadata": {},
   "outputs": [
    {
     "name": "stderr",
     "output_type": "stream",
     "text": [
      "┌ Info: Training \u001b[34mMachine{ProbabilisticTunedModel{Grid,…}} @557\u001b[39m.\n",
      "└ @ MLJBase /home/andrew/.julia/packages/MLJBase/uKzAz/src/machines.jl:319\n",
      "┌ Info: Attempting to evaluate 49 models.\n",
      "└ @ MLJTuning /home/andrew/.julia/packages/MLJTuning/Bbgvk/src/tuned_models.jl:494\n",
      "\u001b[33mEvaluating over 49 metamodels: 100%[=========================] Time: 0:00:41\u001b[39m\n"
     ]
    },
    {
     "data": {
      "text/plain": [
       "\u001b[34mMachine{ProbabilisticTunedModel{Grid,…}} @557\u001b[39m trained 1 time.\n",
       "  args: \n",
       "    1:\t\u001b[34mSource @715\u001b[39m ⏎ `Table{AbstractArray{Continuous,1}}`\n",
       "    2:\t\u001b[34mSource @717\u001b[39m ⏎ `AbstractArray{Multiclass{2},1}`\n"
      ]
     },
     "execution_count": 115,
     "metadata": {},
     "output_type": "execute_result"
    }
   ],
   "source": [
    "z = fit!(self_tuning_nn, rows=train)"
   ]
  },
  {
   "cell_type": "code",
   "execution_count": 116,
   "metadata": {
    "scrolled": false
   },
   "outputs": [
    {
     "data": {
      "image/svg+xml": [
       "<?xml version=\"1.0\" encoding=\"utf-8\"?>\n",
       "<svg xmlns=\"http://www.w3.org/2000/svg\" xmlns:xlink=\"http://www.w3.org/1999/xlink\" width=\"600\" height=\"400\" viewBox=\"0 0 2400 1600\">\n",
       "<defs>\n",
       "  <clipPath id=\"clip420\">\n",
       "    <rect x=\"0\" y=\"0\" width=\"2400\" height=\"1600\"/>\n",
       "  </clipPath>\n",
       "</defs>\n",
       "<path clip-path=\"url(#clip420)\" d=\"\n",
       "M0 1600 L2400 1600 L2400 0 L0 0  Z\n",
       "  \" fill=\"#ffffff\" fill-rule=\"evenodd\" fill-opacity=\"1\"/>\n",
       "<defs>\n",
       "  <clipPath id=\"clip421\">\n",
       "    <rect x=\"480\" y=\"0\" width=\"1681\" height=\"1600\"/>\n",
       "  </clipPath>\n",
       "</defs>\n",
       "<path clip-path=\"url(#clip420)\" d=\"\n",
       "M202.459 1410.9 L2112.76 1410.9 L2112.76 47.2441 L202.459 47.2441  Z\n",
       "  \" fill=\"#ffffff\" fill-rule=\"evenodd\" fill-opacity=\"1\"/>\n",
       "<defs>\n",
       "  <clipPath id=\"clip422\">\n",
       "    <rect x=\"202\" y=\"47\" width=\"1911\" height=\"1365\"/>\n",
       "  </clipPath>\n",
       "</defs>\n",
       "<polyline clip-path=\"url(#clip422)\" style=\"stroke:#000000; stroke-width:2; stroke-opacity:0.1; fill:none\" points=\"\n",
       "  256.524,1410.9 256.524,47.2441 \n",
       "  \"/>\n",
       "<polyline clip-path=\"url(#clip422)\" style=\"stroke:#000000; stroke-width:2; stroke-opacity:0.1; fill:none\" points=\"\n",
       "  707.066,1410.9 707.066,47.2441 \n",
       "  \"/>\n",
       "<polyline clip-path=\"url(#clip422)\" style=\"stroke:#000000; stroke-width:2; stroke-opacity:0.1; fill:none\" points=\"\n",
       "  1157.61,1410.9 1157.61,47.2441 \n",
       "  \"/>\n",
       "<polyline clip-path=\"url(#clip422)\" style=\"stroke:#000000; stroke-width:2; stroke-opacity:0.1; fill:none\" points=\"\n",
       "  1608.15,1410.9 1608.15,47.2441 \n",
       "  \"/>\n",
       "<polyline clip-path=\"url(#clip422)\" style=\"stroke:#000000; stroke-width:2; stroke-opacity:0.1; fill:none\" points=\"\n",
       "  2058.69,1410.9 2058.69,47.2441 \n",
       "  \"/>\n",
       "<polyline clip-path=\"url(#clip422)\" style=\"stroke:#000000; stroke-width:2; stroke-opacity:0.1; fill:none\" points=\"\n",
       "  202.459,1398.56 2112.76,1398.56 \n",
       "  \"/>\n",
       "<polyline clip-path=\"url(#clip422)\" style=\"stroke:#000000; stroke-width:2; stroke-opacity:0.1; fill:none\" points=\"\n",
       "  202.459,1136.01 2112.76,1136.01 \n",
       "  \"/>\n",
       "<polyline clip-path=\"url(#clip422)\" style=\"stroke:#000000; stroke-width:2; stroke-opacity:0.1; fill:none\" points=\"\n",
       "  202.459,873.469 2112.76,873.469 \n",
       "  \"/>\n",
       "<polyline clip-path=\"url(#clip422)\" style=\"stroke:#000000; stroke-width:2; stroke-opacity:0.1; fill:none\" points=\"\n",
       "  202.459,610.926 2112.76,610.926 \n",
       "  \"/>\n",
       "<polyline clip-path=\"url(#clip422)\" style=\"stroke:#000000; stroke-width:2; stroke-opacity:0.1; fill:none\" points=\"\n",
       "  202.459,348.382 2112.76,348.382 \n",
       "  \"/>\n",
       "<polyline clip-path=\"url(#clip422)\" style=\"stroke:#000000; stroke-width:2; stroke-opacity:0.1; fill:none\" points=\"\n",
       "  202.459,85.838 2112.76,85.838 \n",
       "  \"/>\n",
       "<polyline clip-path=\"url(#clip420)\" style=\"stroke:#000000; stroke-width:4; stroke-opacity:1; fill:none\" points=\"\n",
       "  202.459,1410.9 2112.76,1410.9 \n",
       "  \"/>\n",
       "<polyline clip-path=\"url(#clip420)\" style=\"stroke:#000000; stroke-width:4; stroke-opacity:1; fill:none\" points=\"\n",
       "  202.459,1410.9 202.459,47.2441 \n",
       "  \"/>\n",
       "<polyline clip-path=\"url(#clip420)\" style=\"stroke:#000000; stroke-width:4; stroke-opacity:1; fill:none\" points=\"\n",
       "  256.524,1410.9 256.524,1394.53 \n",
       "  \"/>\n",
       "<polyline clip-path=\"url(#clip420)\" style=\"stroke:#000000; stroke-width:4; stroke-opacity:1; fill:none\" points=\"\n",
       "  707.066,1410.9 707.066,1394.53 \n",
       "  \"/>\n",
       "<polyline clip-path=\"url(#clip420)\" style=\"stroke:#000000; stroke-width:4; stroke-opacity:1; fill:none\" points=\"\n",
       "  1157.61,1410.9 1157.61,1394.53 \n",
       "  \"/>\n",
       "<polyline clip-path=\"url(#clip420)\" style=\"stroke:#000000; stroke-width:4; stroke-opacity:1; fill:none\" points=\"\n",
       "  1608.15,1410.9 1608.15,1394.53 \n",
       "  \"/>\n",
       "<polyline clip-path=\"url(#clip420)\" style=\"stroke:#000000; stroke-width:4; stroke-opacity:1; fill:none\" points=\"\n",
       "  2058.69,1410.9 2058.69,1394.53 \n",
       "  \"/>\n",
       "<polyline clip-path=\"url(#clip420)\" style=\"stroke:#000000; stroke-width:4; stroke-opacity:1; fill:none\" points=\"\n",
       "  202.459,1398.56 225.383,1398.56 \n",
       "  \"/>\n",
       "<polyline clip-path=\"url(#clip420)\" style=\"stroke:#000000; stroke-width:4; stroke-opacity:1; fill:none\" points=\"\n",
       "  202.459,1136.01 225.383,1136.01 \n",
       "  \"/>\n",
       "<polyline clip-path=\"url(#clip420)\" style=\"stroke:#000000; stroke-width:4; stroke-opacity:1; fill:none\" points=\"\n",
       "  202.459,873.469 225.383,873.469 \n",
       "  \"/>\n",
       "<polyline clip-path=\"url(#clip420)\" style=\"stroke:#000000; stroke-width:4; stroke-opacity:1; fill:none\" points=\"\n",
       "  202.459,610.926 225.383,610.926 \n",
       "  \"/>\n",
       "<polyline clip-path=\"url(#clip420)\" style=\"stroke:#000000; stroke-width:4; stroke-opacity:1; fill:none\" points=\"\n",
       "  202.459,348.382 225.383,348.382 \n",
       "  \"/>\n",
       "<polyline clip-path=\"url(#clip420)\" style=\"stroke:#000000; stroke-width:4; stroke-opacity:1; fill:none\" points=\"\n",
       "  202.459,85.838 225.383,85.838 \n",
       "  \"/>\n",
       "<path clip-path=\"url(#clip420)\" d=\"M 0 0 M210.021 1481.97 L217.66 1481.97 L217.66 1455.6 L209.35 1457.27 L209.35 1453.01 L217.614 1451.34 L222.289 1451.34 L222.289 1481.97 L229.928 1481.97 L229.928 1485.9 L210.021 1485.9 L210.021 1481.97 Z\" fill=\"#000000\" fill-rule=\"evenodd\" fill-opacity=\"1\" /><path clip-path=\"url(#clip420)\" d=\"M 0 0 M244.998 1454.42 Q241.387 1454.42 239.558 1457.99 Q237.752 1461.53 237.752 1468.66 Q237.752 1475.77 239.558 1479.33 Q241.387 1482.87 244.998 1482.87 Q248.632 1482.87 250.437 1479.33 Q252.266 1475.77 252.266 1468.66 Q252.266 1461.53 250.437 1457.99 Q248.632 1454.42 244.998 1454.42 M244.998 1450.72 Q250.808 1450.72 253.863 1455.33 Q256.942 1459.91 256.942 1468.66 Q256.942 1477.39 253.863 1481.99 Q250.808 1486.58 244.998 1486.58 Q239.188 1486.58 236.109 1481.99 Q233.053 1477.39 233.053 1468.66 Q233.053 1459.91 236.109 1455.33 Q239.188 1450.72 244.998 1450.72 Z\" fill=\"#000000\" fill-rule=\"evenodd\" fill-opacity=\"1\" /><path clip-path=\"url(#clip420)\" d=\"M 0 0 M257.487 1455.3 L263.694 1455.3 L263.694 1433.87 L256.942 1435.23 L256.942 1431.77 L263.656 1430.41 L267.456 1430.41 L267.456 1455.3 L273.662 1455.3 L273.662 1458.49 L257.487 1458.49 L257.487 1455.3 Z\" fill=\"#000000\" fill-rule=\"evenodd\" fill-opacity=\"1\" /><path clip-path=\"url(#clip420)\" d=\"M 0 0 M277.781 1453.72 L281.75 1453.72 L281.75 1458.49 L277.781 1458.49 L277.781 1453.72 Z\" fill=\"#000000\" fill-rule=\"evenodd\" fill-opacity=\"1\" /><path clip-path=\"url(#clip420)\" d=\"M 0 0 M293.993 1432.91 Q291.059 1432.91 289.574 1435.81 Q288.107 1438.69 288.107 1444.48 Q288.107 1450.26 289.574 1453.15 Q291.059 1456.03 293.993 1456.03 Q296.946 1456.03 298.413 1453.15 Q299.899 1450.26 299.899 1444.48 Q299.899 1438.69 298.413 1435.81 Q296.946 1432.91 293.993 1432.91 M293.993 1429.91 Q298.714 1429.91 301.197 1433.65 Q303.698 1437.37 303.698 1444.48 Q303.698 1451.57 301.197 1455.31 Q298.714 1459.04 293.993 1459.04 Q289.273 1459.04 286.771 1455.31 Q284.289 1451.57 284.289 1444.48 Q284.289 1437.37 286.771 1433.65 Q289.273 1429.91 293.993 1429.91 Z\" fill=\"#000000\" fill-rule=\"evenodd\" fill-opacity=\"1\" /><path clip-path=\"url(#clip420)\" d=\"M 0 0 M660.967 1481.97 L668.606 1481.97 L668.606 1455.6 L660.296 1457.27 L660.296 1453.01 L668.56 1451.34 L673.236 1451.34 L673.236 1481.97 L680.874 1481.97 L680.874 1485.9 L660.967 1485.9 L660.967 1481.97 Z\" fill=\"#000000\" fill-rule=\"evenodd\" fill-opacity=\"1\" /><path clip-path=\"url(#clip420)\" d=\"M 0 0 M695.944 1454.42 Q692.333 1454.42 690.504 1457.99 Q688.698 1461.53 688.698 1468.66 Q688.698 1475.77 690.504 1479.33 Q692.333 1482.87 695.944 1482.87 Q699.578 1482.87 701.384 1479.33 Q703.212 1475.77 703.212 1468.66 Q703.212 1461.53 701.384 1457.99 Q699.578 1454.42 695.944 1454.42 M695.944 1450.72 Q701.754 1450.72 704.809 1455.33 Q707.888 1459.91 707.888 1468.66 Q707.888 1477.39 704.809 1481.99 Q701.754 1486.58 695.944 1486.58 Q690.134 1486.58 687.055 1481.99 Q683.999 1477.39 683.999 1468.66 Q683.999 1459.91 687.055 1455.33 Q690.134 1450.72 695.944 1450.72 Z\" fill=\"#000000\" fill-rule=\"evenodd\" fill-opacity=\"1\" /><path clip-path=\"url(#clip420)\" d=\"M 0 0 M708.434 1455.3 L714.64 1455.3 L714.64 1433.87 L707.888 1435.23 L707.888 1431.77 L714.603 1430.41 L718.402 1430.41 L718.402 1455.3 L724.608 1455.3 L724.608 1458.49 L708.434 1458.49 L708.434 1455.3 Z\" fill=\"#000000\" fill-rule=\"evenodd\" fill-opacity=\"1\" /><path clip-path=\"url(#clip420)\" d=\"M 0 0 M728.727 1453.72 L732.696 1453.72 L732.696 1458.49 L728.727 1458.49 L728.727 1453.72 Z\" fill=\"#000000\" fill-rule=\"evenodd\" fill-opacity=\"1\" /><path clip-path=\"url(#clip420)\" d=\"M 0 0 M736.852 1430.41 L751.767 1430.41 L751.767 1433.61 L740.332 1433.61 L740.332 1440.49 Q741.159 1440.21 741.987 1440.08 Q742.814 1439.93 743.642 1439.93 Q748.344 1439.93 751.09 1442.51 Q753.836 1445.08 753.836 1449.48 Q753.836 1454.02 751.014 1456.54 Q748.193 1459.04 743.059 1459.04 Q741.291 1459.04 739.448 1458.74 Q737.623 1458.44 735.667 1457.84 L735.667 1454.02 Q737.36 1454.94 739.165 1455.39 Q740.971 1455.84 742.983 1455.84 Q746.237 1455.84 748.137 1454.13 Q750.036 1452.42 750.036 1449.48 Q750.036 1446.55 748.137 1444.84 Q746.237 1443.13 742.983 1443.13 Q741.46 1443.13 739.937 1443.47 Q738.432 1443.8 736.852 1444.52 L736.852 1430.41 Z\" fill=\"#000000\" fill-rule=\"evenodd\" fill-opacity=\"1\" /><path clip-path=\"url(#clip420)\" d=\"M 0 0 M1110.55 1481.97 L1118.19 1481.97 L1118.19 1455.6 L1109.88 1457.27 L1109.88 1453.01 L1118.14 1451.34 L1122.82 1451.34 L1122.82 1481.97 L1130.46 1481.97 L1130.46 1485.9 L1110.55 1485.9 L1110.55 1481.97 Z\" fill=\"#000000\" fill-rule=\"evenodd\" fill-opacity=\"1\" /><path clip-path=\"url(#clip420)\" d=\"M 0 0 M1145.53 1454.42 Q1141.92 1454.42 1140.09 1457.99 Q1138.28 1461.53 1138.28 1468.66 Q1138.28 1475.77 1140.09 1479.33 Q1141.92 1482.87 1145.53 1482.87 Q1149.16 1482.87 1150.97 1479.33 Q1152.79 1475.77 1152.79 1468.66 Q1152.79 1461.53 1150.97 1457.99 Q1149.16 1454.42 1145.53 1454.42 M1145.53 1450.72 Q1151.34 1450.72 1154.39 1455.33 Q1157.47 1459.91 1157.47 1468.66 Q1157.47 1477.39 1154.39 1481.99 Q1151.34 1486.58 1145.53 1486.58 Q1139.72 1486.58 1136.64 1481.99 Q1133.58 1477.39 1133.58 1468.66 Q1133.58 1459.91 1136.64 1455.33 Q1139.72 1450.72 1145.53 1450.72 Z\" fill=\"#000000\" fill-rule=\"evenodd\" fill-opacity=\"1\" /><path clip-path=\"url(#clip420)\" d=\"M 0 0 M1162.04 1455.3 L1175.3 1455.3 L1175.3 1458.49 L1157.47 1458.49 L1157.47 1455.3 Q1159.63 1453.06 1163.36 1449.3 Q1167.1 1445.52 1168.06 1444.43 Q1169.88 1442.38 1170.6 1440.96 Q1171.33 1439.54 1171.33 1438.16 Q1171.33 1435.92 1169.75 1434.51 Q1168.19 1433.1 1165.67 1433.1 Q1163.88 1433.1 1161.89 1433.72 Q1159.92 1434.34 1157.66 1435.6 L1157.66 1431.77 Q1159.95 1430.85 1161.95 1430.38 Q1163.94 1429.91 1165.6 1429.91 Q1169.96 1429.91 1172.55 1432.09 Q1175.15 1434.27 1175.15 1437.92 Q1175.15 1439.65 1174.49 1441.21 Q1173.85 1442.75 1172.14 1444.86 Q1171.67 1445.4 1169.15 1448.02 Q1166.63 1450.61 1162.04 1455.3 Z\" fill=\"#000000\" fill-rule=\"evenodd\" fill-opacity=\"1\" /><path clip-path=\"url(#clip420)\" d=\"M 0 0 M1179.42 1453.72 L1183.39 1453.72 L1183.39 1458.49 L1179.42 1458.49 L1179.42 1453.72 Z\" fill=\"#000000\" fill-rule=\"evenodd\" fill-opacity=\"1\" /><path clip-path=\"url(#clip420)\" d=\"M 0 0 M1195.63 1432.91 Q1192.7 1432.91 1191.21 1435.81 Q1189.74 1438.69 1189.74 1444.48 Q1189.74 1450.26 1191.21 1453.15 Q1192.7 1456.03 1195.63 1456.03 Q1198.58 1456.03 1200.05 1453.15 Q1201.54 1450.26 1201.54 1444.48 Q1201.54 1438.69 1200.05 1435.81 Q1198.58 1432.91 1195.63 1432.91 M1195.63 1429.91 Q1200.35 1429.91 1202.84 1433.65 Q1205.34 1437.37 1205.34 1444.48 Q1205.34 1451.57 1202.84 1455.31 Q1200.35 1459.04 1195.63 1459.04 Q1190.91 1459.04 1188.41 1455.31 Q1185.93 1451.57 1185.93 1444.48 Q1185.93 1437.37 1188.41 1433.65 Q1190.91 1429.91 1195.63 1429.91 Z\" fill=\"#000000\" fill-rule=\"evenodd\" fill-opacity=\"1\" /><path clip-path=\"url(#clip420)\" d=\"M 0 0 M1561.5 1481.97 L1569.13 1481.97 L1569.13 1455.6 L1560.82 1457.27 L1560.82 1453.01 L1569.09 1451.34 L1573.76 1451.34 L1573.76 1481.97 L1581.4 1481.97 L1581.4 1485.9 L1561.5 1485.9 L1561.5 1481.97 Z\" fill=\"#000000\" fill-rule=\"evenodd\" fill-opacity=\"1\" /><path clip-path=\"url(#clip420)\" d=\"M 0 0 M1596.47 1454.42 Q1592.86 1454.42 1591.03 1457.99 Q1589.23 1461.53 1589.23 1468.66 Q1589.23 1475.77 1591.03 1479.33 Q1592.86 1482.87 1596.47 1482.87 Q1600.11 1482.87 1601.91 1479.33 Q1603.74 1475.77 1603.74 1468.66 Q1603.74 1461.53 1601.91 1457.99 Q1600.11 1454.42 1596.47 1454.42 M1596.47 1450.72 Q1602.28 1450.72 1605.34 1455.33 Q1608.42 1459.91 1608.42 1468.66 Q1608.42 1477.39 1605.34 1481.99 Q1602.28 1486.58 1596.47 1486.58 Q1590.66 1486.58 1587.58 1481.99 Q1584.53 1477.39 1584.53 1468.66 Q1584.53 1459.91 1587.58 1455.33 Q1590.66 1450.72 1596.47 1450.72 Z\" fill=\"#000000\" fill-rule=\"evenodd\" fill-opacity=\"1\" /><path clip-path=\"url(#clip420)\" d=\"M 0 0 M1612.99 1455.3 L1626.25 1455.3 L1626.25 1458.49 L1608.42 1458.49 L1608.42 1455.3 Q1610.58 1453.06 1614.3 1449.3 Q1618.05 1445.52 1619.01 1444.43 Q1620.83 1442.38 1621.54 1440.96 Q1622.28 1439.54 1622.28 1438.16 Q1622.28 1435.92 1620.7 1434.51 Q1619.14 1433.1 1616.62 1433.1 Q1614.83 1433.1 1612.84 1433.72 Q1610.86 1434.34 1608.6 1435.6 L1608.6 1431.77 Q1610.9 1430.85 1612.89 1430.38 Q1614.89 1429.91 1616.54 1429.91 Q1620.91 1429.91 1623.5 1432.09 Q1626.1 1434.27 1626.1 1437.92 Q1626.1 1439.65 1625.44 1441.21 Q1624.8 1442.75 1623.09 1444.86 Q1622.62 1445.4 1620.1 1448.02 Q1617.58 1450.61 1612.99 1455.3 Z\" fill=\"#000000\" fill-rule=\"evenodd\" fill-opacity=\"1\" /><path clip-path=\"url(#clip420)\" d=\"M 0 0 M1630.37 1453.72 L1634.33 1453.72 L1634.33 1458.49 L1630.37 1458.49 L1630.37 1453.72 Z\" fill=\"#000000\" fill-rule=\"evenodd\" fill-opacity=\"1\" /><path clip-path=\"url(#clip420)\" d=\"M 0 0 M1638.49 1430.41 L1653.4 1430.41 L1653.4 1433.61 L1641.97 1433.61 L1641.97 1440.49 Q1642.8 1440.21 1643.62 1440.08 Q1644.45 1439.93 1645.28 1439.93 Q1649.98 1439.93 1652.73 1442.51 Q1655.47 1445.08 1655.47 1449.48 Q1655.47 1454.02 1652.65 1456.54 Q1649.83 1459.04 1644.7 1459.04 Q1642.93 1459.04 1641.09 1458.74 Q1639.26 1458.44 1637.31 1457.84 L1637.31 1454.02 Q1639 1454.94 1640.8 1455.39 Q1642.61 1455.84 1644.62 1455.84 Q1647.88 1455.84 1649.78 1454.13 Q1651.67 1452.42 1651.67 1449.48 Q1651.67 1446.55 1649.78 1444.84 Q1647.88 1443.13 1644.62 1443.13 Q1643.1 1443.13 1641.57 1443.47 Q1640.07 1443.8 1638.49 1444.52 L1638.49 1430.41 Z\" fill=\"#000000\" fill-rule=\"evenodd\" fill-opacity=\"1\" /><path clip-path=\"url(#clip420)\" d=\"M 0 0 M2011.3 1481.97 L2018.94 1481.97 L2018.94 1455.6 L2010.63 1457.27 L2010.63 1453.01 L2018.9 1451.34 L2023.57 1451.34 L2023.57 1481.97 L2031.21 1481.97 L2031.21 1485.9 L2011.3 1485.9 L2011.3 1481.97 Z\" fill=\"#000000\" fill-rule=\"evenodd\" fill-opacity=\"1\" /><path clip-path=\"url(#clip420)\" d=\"M 0 0 M2046.28 1454.42 Q2042.67 1454.42 2040.84 1457.99 Q2039.04 1461.53 2039.04 1468.66 Q2039.04 1475.77 2040.84 1479.33 Q2042.67 1482.87 2046.28 1482.87 Q2049.91 1482.87 2051.72 1479.33 Q2053.55 1475.77 2053.55 1468.66 Q2053.55 1461.53 2051.72 1457.99 Q2049.91 1454.42 2046.28 1454.42 M2046.28 1450.72 Q2052.09 1450.72 2055.15 1455.33 Q2058.23 1459.91 2058.23 1468.66 Q2058.23 1477.39 2055.15 1481.99 Q2052.09 1486.58 2046.28 1486.58 Q2040.47 1486.58 2037.39 1481.99 Q2034.34 1477.39 2034.34 1468.66 Q2034.34 1459.91 2037.39 1455.33 Q2040.47 1450.72 2046.28 1450.72 Z\" fill=\"#000000\" fill-rule=\"evenodd\" fill-opacity=\"1\" /><path clip-path=\"url(#clip420)\" d=\"M 0 0 M2070.92 1443.35 Q2073.65 1443.94 2075.17 1445.78 Q2076.71 1447.62 2076.71 1450.33 Q2076.71 1454.49 2073.85 1456.76 Q2071 1459.04 2065.73 1459.04 Q2063.96 1459.04 2062.08 1458.68 Q2060.22 1458.34 2058.23 1457.65 L2058.23 1453.98 Q2059.8 1454.9 2061.69 1455.37 Q2063.57 1455.84 2065.62 1455.84 Q2069.19 1455.84 2071.05 1454.43 Q2072.93 1453.02 2072.93 1450.33 Q2072.93 1447.85 2071.18 1446.46 Q2069.45 1445.05 2066.35 1445.05 L2063.08 1445.05 L2063.08 1441.92 L2066.5 1441.92 Q2069.3 1441.92 2070.79 1440.81 Q2072.27 1439.69 2072.27 1437.58 Q2072.27 1435.42 2070.73 1434.27 Q2069.21 1433.1 2066.35 1433.1 Q2064.79 1433.1 2063 1433.44 Q2061.22 1433.78 2059.07 1434.49 L2059.07 1431.11 Q2061.23 1430.51 2063.12 1430.21 Q2065.01 1429.91 2066.69 1429.91 Q2071.01 1429.91 2073.53 1431.88 Q2076.05 1433.84 2076.05 1437.18 Q2076.05 1439.52 2074.72 1441.13 Q2073.38 1442.73 2070.92 1443.35 Z\" fill=\"#000000\" fill-rule=\"evenodd\" fill-opacity=\"1\" /><path clip-path=\"url(#clip420)\" d=\"M 0 0 M2080.83 1453.72 L2084.8 1453.72 L2084.8 1458.49 L2080.83 1458.49 L2080.83 1453.72 Z\" fill=\"#000000\" fill-rule=\"evenodd\" fill-opacity=\"1\" /><path clip-path=\"url(#clip420)\" d=\"M 0 0 M2097.04 1432.91 Q2094.11 1432.91 2092.62 1435.81 Q2091.16 1438.69 2091.16 1444.48 Q2091.16 1450.26 2092.62 1453.15 Q2094.11 1456.03 2097.04 1456.03 Q2100 1456.03 2101.46 1453.15 Q2102.95 1450.26 2102.95 1444.48 Q2102.95 1438.69 2101.46 1435.81 Q2100 1432.91 2097.04 1432.91 M2097.04 1429.91 Q2101.77 1429.91 2104.25 1433.65 Q2106.75 1437.37 2106.75 1444.48 Q2106.75 1451.57 2104.25 1455.31 Q2101.77 1459.04 2097.04 1459.04 Q2092.32 1459.04 2089.82 1455.31 Q2087.34 1451.57 2087.34 1444.48 Q2087.34 1437.37 2089.82 1433.65 Q2092.32 1429.91 2097.04 1429.91 Z\" fill=\"#000000\" fill-rule=\"evenodd\" fill-opacity=\"1\" /><path clip-path=\"url(#clip420)\" d=\"M 0 0 M166.515 1384.36 Q162.903 1384.36 161.075 1387.92 Q159.269 1391.46 159.269 1398.59 Q159.269 1405.7 161.075 1409.26 Q162.903 1412.8 166.515 1412.8 Q170.149 1412.8 171.954 1409.26 Q173.783 1405.7 173.783 1398.59 Q173.783 1391.46 171.954 1387.92 Q170.149 1384.36 166.515 1384.36 M166.515 1380.65 Q172.325 1380.65 175.38 1385.26 Q178.459 1389.84 178.459 1398.59 Q178.459 1407.32 175.38 1411.93 Q172.325 1416.51 166.515 1416.51 Q160.704 1416.51 157.626 1411.93 Q154.57 1407.32 154.57 1398.59 Q154.57 1389.84 157.626 1385.26 Q160.704 1380.65 166.515 1380.65 Z\" fill=\"#000000\" fill-rule=\"evenodd\" fill-opacity=\"1\" /><path clip-path=\"url(#clip420)\" d=\"M 0 0 M131.538 1149.36 L139.177 1149.36 L139.177 1122.99 L130.867 1124.66 L130.867 1120.4 L139.13 1118.73 L143.806 1118.73 L143.806 1149.36 L151.445 1149.36 L151.445 1153.29 L131.538 1153.29 L131.538 1149.36 Z\" fill=\"#000000\" fill-rule=\"evenodd\" fill-opacity=\"1\" /><path clip-path=\"url(#clip420)\" d=\"M 0 0 M166.515 1121.81 Q162.903 1121.81 161.075 1125.38 Q159.269 1128.92 159.269 1136.05 Q159.269 1143.15 161.075 1146.72 Q162.903 1150.26 166.515 1150.26 Q170.149 1150.26 171.954 1146.72 Q173.783 1143.15 173.783 1136.05 Q173.783 1128.92 171.954 1125.38 Q170.149 1121.81 166.515 1121.81 M166.515 1118.11 Q172.325 1118.11 175.38 1122.71 Q178.459 1127.3 178.459 1136.05 Q178.459 1144.77 175.38 1149.38 Q172.325 1153.96 166.515 1153.96 Q160.704 1153.96 157.626 1149.38 Q154.57 1144.77 154.57 1136.05 Q154.57 1127.3 157.626 1122.71 Q160.704 1118.11 166.515 1118.11 Z\" fill=\"#000000\" fill-rule=\"evenodd\" fill-opacity=\"1\" /><path clip-path=\"url(#clip420)\" d=\"M 0 0 M135.126 886.814 L151.445 886.814 L151.445 890.749 L129.501 890.749 L129.501 886.814 Q132.163 884.06 136.746 879.43 Q141.353 874.777 142.533 873.435 Q144.779 870.912 145.658 869.176 Q146.561 867.416 146.561 865.726 Q146.561 862.972 144.617 861.236 Q142.695 859.5 139.593 859.5 Q137.394 859.5 134.941 860.264 Q132.51 861.027 129.732 862.578 L129.732 857.856 Q132.556 856.722 135.01 856.143 Q137.464 855.564 139.501 855.564 Q144.871 855.564 148.066 858.25 Q151.26 860.935 151.26 865.426 Q151.26 867.555 150.45 869.476 Q149.663 871.375 147.556 873.967 Q146.978 874.638 143.876 877.856 Q140.774 881.05 135.126 886.814 Z\" fill=\"#000000\" fill-rule=\"evenodd\" fill-opacity=\"1\" /><path clip-path=\"url(#clip420)\" d=\"M 0 0 M166.515 859.268 Q162.903 859.268 161.075 862.833 Q159.269 866.375 159.269 873.504 Q159.269 880.611 161.075 884.175 Q162.903 887.717 166.515 887.717 Q170.149 887.717 171.954 884.175 Q173.783 880.611 173.783 873.504 Q173.783 866.375 171.954 862.833 Q170.149 859.268 166.515 859.268 M166.515 855.564 Q172.325 855.564 175.38 860.171 Q178.459 864.754 178.459 873.504 Q178.459 882.231 175.38 886.837 Q172.325 891.421 166.515 891.421 Q160.704 891.421 157.626 886.837 Q154.57 882.231 154.57 873.504 Q154.57 864.754 157.626 860.171 Q160.704 855.564 166.515 855.564 Z\" fill=\"#000000\" fill-rule=\"evenodd\" fill-opacity=\"1\" /><path clip-path=\"url(#clip420)\" d=\"M 0 0 M144.316 609.571 Q147.672 610.289 149.547 612.558 Q151.445 614.826 151.445 618.159 Q151.445 623.275 147.927 626.076 Q144.408 628.877 137.927 628.877 Q135.751 628.877 133.436 628.437 Q131.144 628.02 128.691 627.164 L128.691 622.65 Q130.635 623.784 132.95 624.363 Q135.265 624.942 137.788 624.942 Q142.186 624.942 144.478 623.206 Q146.792 621.47 146.792 618.159 Q146.792 615.104 144.64 613.391 Q142.51 611.655 138.691 611.655 L134.663 611.655 L134.663 607.812 L138.876 607.812 Q142.325 607.812 144.154 606.447 Q145.982 605.058 145.982 602.465 Q145.982 599.803 144.084 598.391 Q142.209 596.956 138.691 596.956 Q136.769 596.956 134.57 597.372 Q132.371 597.789 129.732 598.669 L129.732 594.502 Q132.394 593.761 134.709 593.391 Q137.047 593.021 139.107 593.021 Q144.431 593.021 147.533 595.451 Q150.635 597.859 150.635 601.979 Q150.635 604.849 148.992 606.84 Q147.348 608.808 144.316 609.571 Z\" fill=\"#000000\" fill-rule=\"evenodd\" fill-opacity=\"1\" /><path clip-path=\"url(#clip420)\" d=\"M 0 0 M166.515 596.724 Q162.903 596.724 161.075 600.289 Q159.269 603.831 159.269 610.96 Q159.269 618.067 161.075 621.632 Q162.903 625.173 166.515 625.173 Q170.149 625.173 171.954 621.632 Q173.783 618.067 173.783 610.96 Q173.783 603.831 171.954 600.289 Q170.149 596.724 166.515 596.724 M166.515 593.021 Q172.325 593.021 175.38 597.627 Q178.459 602.21 178.459 610.96 Q178.459 619.687 175.38 624.294 Q172.325 628.877 166.515 628.877 Q160.704 628.877 157.626 624.294 Q154.57 619.687 154.57 610.96 Q154.57 602.21 157.626 597.627 Q160.704 593.021 166.515 593.021 Z\" fill=\"#000000\" fill-rule=\"evenodd\" fill-opacity=\"1\" /><path clip-path=\"url(#clip420)\" d=\"M 0 0 M141.862 335.176 L130.056 353.625 L141.862 353.625 L141.862 335.176 M140.635 331.102 L146.515 331.102 L146.515 353.625 L151.445 353.625 L151.445 357.514 L146.515 357.514 L146.515 365.662 L141.862 365.662 L141.862 357.514 L126.26 357.514 L126.26 353 L140.635 331.102 Z\" fill=\"#000000\" fill-rule=\"evenodd\" fill-opacity=\"1\" /><path clip-path=\"url(#clip420)\" d=\"M 0 0 M166.515 334.181 Q162.903 334.181 161.075 337.745 Q159.269 341.287 159.269 348.417 Q159.269 355.523 161.075 359.088 Q162.903 362.629 166.515 362.629 Q170.149 362.629 171.954 359.088 Q173.783 355.523 173.783 348.417 Q173.783 341.287 171.954 337.745 Q170.149 334.181 166.515 334.181 M166.515 330.477 Q172.325 330.477 175.38 335.083 Q178.459 339.667 178.459 348.417 Q178.459 357.143 175.38 361.75 Q172.325 366.333 166.515 366.333 Q160.704 366.333 157.626 361.75 Q154.57 357.143 154.57 348.417 Q154.57 339.667 157.626 335.083 Q160.704 330.477 166.515 330.477 Z\" fill=\"#000000\" fill-rule=\"evenodd\" fill-opacity=\"1\" /><path clip-path=\"url(#clip420)\" d=\"M 0 0 M130.543 68.558 L148.899 68.558 L148.899 72.4932 L134.825 72.4932 L134.825 80.9654 Q135.843 80.6182 136.862 80.4561 Q137.88 80.2709 138.899 80.2709 Q144.686 80.2709 148.066 83.4422 Q151.445 86.6135 151.445 92.0301 Q151.445 97.6088 147.973 100.711 Q144.501 103.789 138.181 103.789 Q136.005 103.789 133.737 103.419 Q131.492 103.049 129.084 102.308 L129.084 97.6088 Q131.168 98.7431 133.39 99.2986 Q135.612 99.8542 138.089 99.8542 Q142.093 99.8542 144.431 97.7477 Q146.769 95.6412 146.769 92.0301 Q146.769 88.419 144.431 86.3126 Q142.093 84.2061 138.089 84.2061 Q136.214 84.2061 134.339 84.6228 Q132.487 85.0394 130.543 85.9191 L130.543 68.558 Z\" fill=\"#000000\" fill-rule=\"evenodd\" fill-opacity=\"1\" /><path clip-path=\"url(#clip420)\" d=\"M 0 0 M166.515 71.6367 Q162.903 71.6367 161.075 75.2015 Q159.269 78.7432 159.269 85.8728 Q159.269 92.9792 161.075 96.544 Q162.903 100.086 166.515 100.086 Q170.149 100.086 171.954 96.544 Q173.783 92.9792 173.783 85.8728 Q173.783 78.7432 171.954 75.2015 Q170.149 71.6367 166.515 71.6367 M166.515 67.933 Q172.325 67.933 175.38 72.5395 Q178.459 77.1228 178.459 85.8728 Q178.459 94.5996 175.38 99.206 Q172.325 103.789 166.515 103.789 Q160.704 103.789 157.626 99.206 Q154.57 94.5996 154.57 85.8728 Q154.57 77.1228 157.626 72.5395 Q160.704 67.933 166.515 67.933 Z\" fill=\"#000000\" fill-rule=\"evenodd\" fill-opacity=\"1\" /><path clip-path=\"url(#clip420)\" d=\"M 0 0 M1087.89 1542.9 L1087.89 1545.76 L1060.96 1545.76 Q1061.34 1551.81 1064.59 1554.99 Q1067.87 1558.14 1073.69 1558.14 Q1077.07 1558.14 1080.22 1557.32 Q1083.4 1556.49 1086.52 1554.83 L1086.52 1560.37 Q1083.37 1561.71 1080.06 1562.41 Q1076.75 1563.11 1073.34 1563.11 Q1064.81 1563.11 1059.81 1558.14 Q1054.85 1553.18 1054.85 1544.71 Q1054.85 1535.96 1059.56 1530.83 Q1064.3 1525.68 1072.32 1525.68 Q1079.52 1525.68 1083.69 1530.33 Q1087.89 1534.94 1087.89 1542.9 M1082.03 1541.18 Q1081.97 1536.37 1079.33 1533.51 Q1076.72 1530.64 1072.39 1530.64 Q1067.48 1530.64 1064.52 1533.41 Q1061.6 1536.18 1061.15 1541.21 L1082.03 1541.18 Z\" fill=\"#000000\" fill-rule=\"evenodd\" fill-opacity=\"1\" /><path clip-path=\"url(#clip420)\" d=\"M 0 0 M1099.7 1556.84 L1099.7 1575.74 L1093.81 1575.74 L1093.81 1526.54 L1099.7 1526.54 L1099.7 1531.95 Q1101.54 1528.77 1104.34 1527.24 Q1107.18 1525.68 1111.09 1525.68 Q1117.58 1525.68 1121.63 1530.83 Q1125.7 1535.99 1125.7 1544.39 Q1125.7 1552.8 1121.63 1557.95 Q1117.58 1563.11 1111.09 1563.11 Q1107.18 1563.11 1104.34 1561.58 Q1101.54 1560.02 1099.7 1556.84 M1119.62 1544.39 Q1119.62 1537.93 1116.95 1534.27 Q1114.3 1530.58 1109.66 1530.58 Q1105.01 1530.58 1102.34 1534.27 Q1099.7 1537.93 1099.7 1544.39 Q1099.7 1550.85 1102.34 1554.55 Q1105.01 1558.21 1109.66 1558.21 Q1114.3 1558.21 1116.95 1554.55 Q1119.62 1550.85 1119.62 1544.39 Z\" fill=\"#000000\" fill-rule=\"evenodd\" fill-opacity=\"1\" /><path clip-path=\"url(#clip420)\" d=\"M 0 0 M1145.66 1530.64 Q1140.95 1530.64 1138.21 1534.34 Q1135.47 1538 1135.47 1544.39 Q1135.47 1550.79 1138.18 1554.48 Q1140.91 1558.14 1145.66 1558.14 Q1150.33 1558.14 1153.07 1554.45 Q1155.81 1550.76 1155.81 1544.39 Q1155.81 1538.06 1153.07 1534.37 Q1150.33 1530.64 1145.66 1530.64 M1145.66 1525.68 Q1153.29 1525.68 1157.66 1530.64 Q1162.02 1535.61 1162.02 1544.39 Q1162.02 1553.15 1157.66 1558.14 Q1153.29 1563.11 1145.66 1563.11 Q1137.99 1563.11 1133.62 1558.14 Q1129.3 1553.15 1129.3 1544.39 Q1129.3 1535.61 1133.62 1530.64 Q1137.99 1525.68 1145.66 1525.68 Z\" fill=\"#000000\" fill-rule=\"evenodd\" fill-opacity=\"1\" /><path clip-path=\"url(#clip420)\" d=\"M 0 0 M1193.81 1527.91 L1193.81 1533.38 Q1191.33 1532.01 1188.82 1531.34 Q1186.33 1530.64 1183.79 1530.64 Q1178.09 1530.64 1174.94 1534.27 Q1171.79 1537.87 1171.79 1544.39 Q1171.79 1550.92 1174.94 1554.55 Q1178.09 1558.14 1183.79 1558.14 Q1186.33 1558.14 1188.82 1557.47 Q1191.33 1556.77 1193.81 1555.41 L1193.81 1560.82 Q1191.36 1561.96 1188.72 1562.54 Q1186.11 1563.11 1183.15 1563.11 Q1175.1 1563.11 1170.35 1558.05 Q1165.61 1552.99 1165.61 1544.39 Q1165.61 1535.67 1170.39 1530.68 Q1175.19 1525.68 1183.53 1525.68 Q1186.24 1525.68 1188.82 1526.25 Q1191.39 1526.79 1193.81 1527.91 Z\" fill=\"#000000\" fill-rule=\"evenodd\" fill-opacity=\"1\" /><path clip-path=\"url(#clip420)\" d=\"M 0 0 M1229.59 1540.67 L1229.59 1562.19 L1223.73 1562.19 L1223.73 1540.86 Q1223.73 1535.8 1221.76 1533.29 Q1219.78 1530.77 1215.84 1530.77 Q1211.1 1530.77 1208.36 1533.79 Q1205.62 1536.82 1205.62 1542.04 L1205.62 1562.19 L1199.73 1562.19 L1199.73 1512.66 L1205.62 1512.66 L1205.62 1532.08 Q1207.72 1528.86 1210.55 1527.27 Q1213.42 1525.68 1217.14 1525.68 Q1223.29 1525.68 1226.44 1529.5 Q1229.59 1533.29 1229.59 1540.67 Z\" fill=\"#000000\" fill-rule=\"evenodd\" fill-opacity=\"1\" /><path clip-path=\"url(#clip420)\" d=\"M 0 0 M1258.46 1527.59 L1258.46 1533.13 Q1255.97 1531.85 1253.3 1531.22 Q1250.63 1530.58 1247.76 1530.58 Q1243.4 1530.58 1241.21 1531.92 Q1239.04 1533.25 1239.04 1535.93 Q1239.04 1537.96 1240.6 1539.14 Q1242.16 1540.29 1246.87 1541.34 L1248.88 1541.78 Q1255.11 1543.12 1257.72 1545.57 Q1260.37 1547.99 1260.37 1552.35 Q1260.37 1557.32 1256.42 1560.21 Q1252.5 1563.11 1245.63 1563.11 Q1242.76 1563.11 1239.65 1562.54 Q1236.56 1561.99 1233.12 1560.88 L1233.12 1554.83 Q1236.37 1556.52 1239.52 1557.38 Q1242.67 1558.21 1245.76 1558.21 Q1249.89 1558.21 1252.12 1556.81 Q1254.35 1555.37 1254.35 1552.8 Q1254.35 1550.41 1252.73 1549.14 Q1251.14 1547.86 1245.69 1546.68 L1243.66 1546.21 Q1238.21 1545.06 1235.79 1542.71 Q1233.38 1540.32 1233.38 1536.18 Q1233.38 1531.15 1236.94 1528.42 Q1240.5 1525.68 1247.06 1525.68 Q1250.31 1525.68 1253.17 1526.16 Q1256.04 1526.63 1258.46 1527.59 Z\" fill=\"#000000\" fill-rule=\"evenodd\" fill-opacity=\"1\" /><path clip-path=\"url(#clip420)\" d=\"M 0 0 M70.212 837.813 Q63.7508 837.813 60.0905 840.486 Q56.3984 843.128 56.3984 847.775 Q56.3984 852.422 60.0905 855.095 Q63.7508 857.737 70.212 857.737 Q76.6732 857.737 80.3653 855.095 Q84.0256 852.422 84.0256 847.775 Q84.0256 843.128 80.3653 840.486 Q76.6732 837.813 70.212 837.813 M57.7671 857.737 Q54.5842 855.891 53.0564 853.09 Q51.4968 850.258 51.4968 846.343 Q51.4968 839.85 56.6531 835.807 Q61.8093 831.733 70.212 831.733 Q78.6147 831.733 83.771 835.807 Q88.9272 839.85 88.9272 846.343 Q88.9272 850.258 87.3994 853.09 Q85.8398 855.891 82.657 857.737 L88.0042 857.737 L88.0042 863.625 L38.479 863.625 L38.479 857.737 L57.7671 857.737 Z\" fill=\"#000000\" fill-rule=\"evenodd\" fill-opacity=\"1\" /><path clip-path=\"url(#clip420)\" d=\"M 0 0 M73.9359 826.195 L52.3562 826.195 L52.3562 820.339 L73.7131 820.339 Q78.7739 820.339 81.3202 818.365 Q83.8346 816.392 83.8346 812.445 Q83.8346 807.703 80.8109 804.966 Q77.7872 802.196 72.5673 802.196 L52.3562 802.196 L52.3562 796.34 L88.0042 796.34 L88.0042 802.196 L82.5296 802.196 Q85.7762 804.329 87.3676 807.162 Q88.9272 809.963 88.9272 813.687 Q88.9272 819.829 85.1078 823.012 Q81.2883 826.195 73.9359 826.195 M51.4968 811.459 L51.4968 811.459 Z\" fill=\"#000000\" fill-rule=\"evenodd\" fill-opacity=\"1\" /><path clip-path=\"url(#clip420)\" d=\"M 0 0 M52.3562 790.197 L52.3562 784.341 L88.0042 784.341 L88.0042 790.197 L52.3562 790.197 M38.479 790.197 L38.479 784.341 L45.895 784.341 L45.895 790.197 L38.479 790.197 Z\" fill=\"#000000\" fill-rule=\"evenodd\" fill-opacity=\"1\" /><path clip-path=\"url(#clip420)\" d=\"M 0 0 M38.479 778.198 L38.479 772.341 L88.0042 772.341 L88.0042 778.198 L38.479 778.198 Z\" fill=\"#000000\" fill-rule=\"evenodd\" fill-opacity=\"1\" /><path clip-path=\"url(#clip420)\" d=\"M 0 0 M57.7671 742.741 L38.479 742.741 L38.479 736.884 L88.0042 736.884 L88.0042 742.741 L82.657 742.741 Q85.8398 744.587 87.3994 747.42 Q88.9272 750.22 88.9272 754.167 Q88.9272 760.628 83.771 764.702 Q78.6147 768.745 70.212 768.745 Q61.8093 768.745 56.6531 764.702 Q51.4968 760.628 51.4968 754.167 Q51.4968 750.22 53.0564 747.42 Q54.5842 744.587 57.7671 742.741 M70.212 762.697 Q76.6732 762.697 80.3653 760.055 Q84.0256 757.382 84.0256 752.735 Q84.0256 748.088 80.3653 745.414 Q76.6732 742.741 70.212 742.741 Q63.7508 742.741 60.0905 745.414 Q56.3984 748.088 56.3984 752.735 Q56.3984 757.382 60.0905 760.055 Q63.7508 762.697 70.212 762.697 Z\" fill=\"#000000\" fill-rule=\"evenodd\" fill-opacity=\"1\" /><path clip-path=\"url(#clip420)\" d=\"M 0 0 M68.7161 700.25 L71.5806 700.25 L71.5806 727.177 Q77.6281 726.795 80.8109 723.548 Q83.9619 720.27 83.9619 714.445 Q83.9619 711.071 83.1344 707.92 Q82.3069 704.737 80.6518 701.618 L86.1899 701.618 Q87.5267 704.769 88.227 708.079 Q88.9272 711.39 88.9272 714.795 Q88.9272 723.325 83.9619 728.322 Q78.9967 733.288 70.5303 733.288 Q61.7774 733.288 56.6531 728.577 Q51.4968 723.835 51.4968 715.814 Q51.4968 708.621 56.1438 704.451 Q60.7589 700.25 68.7161 700.25 M66.9973 706.106 Q62.1912 706.17 59.3266 708.812 Q56.4621 711.421 56.4621 715.75 Q56.4621 720.652 59.2312 723.612 Q62.0002 726.54 67.0292 726.986 L66.9973 706.106 Z\" fill=\"#000000\" fill-rule=\"evenodd\" fill-opacity=\"1\" /><path clip-path=\"url(#clip420)\" d=\"M 0 0 M57.8307 673.45 Q57.2578 674.437 57.0032 675.614 Q56.7167 676.76 56.7167 678.161 Q56.7167 683.126 59.9632 685.799 Q63.1779 688.441 69.2253 688.441 L88.0042 688.441 L88.0042 694.33 L52.3562 694.33 L52.3562 688.441 L57.8944 688.441 Q54.6479 686.595 53.0883 683.635 Q51.4968 680.675 51.4968 676.442 Q51.4968 675.837 51.5923 675.105 Q51.656 674.373 51.8151 673.482 L57.8307 673.45 Z\" fill=\"#000000\" fill-rule=\"evenodd\" fill-opacity=\"1\" /><path clip-path=\"url(#clip420)\" d=\"M 0 0 M79.9197 672.463 L79.9197 665.748 L88.0042 665.748 L88.0042 672.463 L79.9197 672.463 Z\" fill=\"#000000\" fill-rule=\"evenodd\" fill-opacity=\"1\" /><path clip-path=\"url(#clip420)\" d=\"M 0 0 M66.4881 629.972 L88.0042 629.972 L88.0042 635.829 L66.679 635.829 Q61.6183 635.829 59.1038 637.802 Q56.5894 639.775 56.5894 643.722 Q56.5894 648.465 59.6131 651.202 Q62.6368 653.939 67.8567 653.939 L88.0042 653.939 L88.0042 659.827 L52.3562 659.827 L52.3562 653.939 L57.8944 653.939 Q54.6797 651.838 53.0883 649.006 Q51.4968 646.141 51.4968 642.417 Q51.4968 636.274 55.3163 633.123 Q59.1038 629.972 66.4881 629.972 Z\" fill=\"#000000\" fill-rule=\"evenodd\" fill-opacity=\"1\" /><path clip-path=\"url(#clip420)\" d=\"M 0 0 M82.5933 621.888 L82.5933 611.384 L46.3406 611.384 L48.6323 622.811 L42.7758 622.811 L40.4842 611.448 L40.4842 605.019 L82.5933 605.019 L82.5933 594.515 L88.0042 594.515 L88.0042 621.888 L82.5933 621.888 Z\" fill=\"#000000\" fill-rule=\"evenodd\" fill-opacity=\"1\" /><circle clip-path=\"url(#clip422)\" cx=\"256.524\" cy=\"295.873\" r=\"34\" fill=\"#b53358\" fill-rule=\"evenodd\" fill-opacity=\"1\" stroke=\"#000000\" stroke-opacity=\"1\" stroke-width=\"3.2\"/>\n",
       "<circle clip-path=\"url(#clip422)\" cx=\"853.724\" cy=\"1162.27\" r=\"29\" fill=\"#972765\" fill-rule=\"evenodd\" fill-opacity=\"1\" stroke=\"#000000\" stroke-opacity=\"1\" stroke-width=\"3.2\"/>\n",
       "<circle clip-path=\"url(#clip422)\" cx=\"1157.61\" cy=\"952.233\" r=\"10\" fill=\"#140b36\" fill-rule=\"evenodd\" fill-opacity=\"1\" stroke=\"#000000\" stroke-opacity=\"1\" stroke-width=\"3.2\"/>\n",
       "<circle clip-path=\"url(#clip422)\" cx=\"1457.16\" cy=\"295.873\" r=\"4\" fill=\"#010109\" fill-rule=\"evenodd\" fill-opacity=\"1\" stroke=\"#000000\" stroke-opacity=\"1\" stroke-width=\"3.2\"/>\n",
       "<circle clip-path=\"url(#clip422)\" cx=\"1157.61\" cy=\"1372.3\" r=\"51\" fill=\"#fba70c\" fill-rule=\"evenodd\" fill-opacity=\"1\" stroke=\"#000000\" stroke-opacity=\"1\" stroke-width=\"3.2\"/>\n",
       "<circle clip-path=\"url(#clip422)\" cx=\"1758.2\" cy=\"1372.3\" r=\"29\" fill=\"#932567\" fill-rule=\"evenodd\" fill-opacity=\"1\" stroke=\"#000000\" stroke-opacity=\"1\" stroke-width=\"3.2\"/>\n",
       "<circle clip-path=\"url(#clip422)\" cx=\"565.075\" cy=\"952.233\" r=\"32\" fill=\"#ac2f5c\" fill-rule=\"evenodd\" fill-opacity=\"1\" stroke=\"#000000\" stroke-opacity=\"1\" stroke-width=\"3.2\"/>\n",
       "<circle clip-path=\"url(#clip422)\" cx=\"256.524\" cy=\"85.838\" r=\"29\" fill=\"#982765\" fill-rule=\"evenodd\" fill-opacity=\"1\" stroke=\"#000000\" stroke-opacity=\"1\" stroke-width=\"3.2\"/>\n",
       "<circle clip-path=\"url(#clip422)\" cx=\"1457.16\" cy=\"715.943\" r=\"4\" fill=\"#01010a\" fill-rule=\"evenodd\" fill-opacity=\"1\" stroke=\"#000000\" stroke-opacity=\"1\" stroke-width=\"3.2\"/>\n",
       "<circle clip-path=\"url(#clip422)\" cx=\"853.724\" cy=\"1372.3\" r=\"57\" fill=\"#f4dd50\" fill-rule=\"evenodd\" fill-opacity=\"1\" stroke=\"#000000\" stroke-opacity=\"1\" stroke-width=\"3.2\"/>\n",
       "<circle clip-path=\"url(#clip422)\" cx=\"256.524\" cy=\"1372.3\" r=\"61\" fill=\"#fcfea4\" fill-rule=\"evenodd\" fill-opacity=\"1\" stroke=\"#000000\" stroke-opacity=\"1\" stroke-width=\"3.2\"/>\n",
       "<circle clip-path=\"url(#clip422)\" cx=\"853.724\" cy=\"505.908\" r=\"12\" fill=\"#200c4a\" fill-rule=\"evenodd\" fill-opacity=\"1\" stroke=\"#000000\" stroke-opacity=\"1\" stroke-width=\"3.2\"/>\n",
       "<circle clip-path=\"url(#clip422)\" cx=\"1157.61\" cy=\"1162.27\" r=\"14\" fill=\"#2d0a59\" fill-rule=\"evenodd\" fill-opacity=\"1\" stroke=\"#000000\" stroke-opacity=\"1\" stroke-width=\"3.2\"/>\n",
       "<circle clip-path=\"url(#clip422)\" cx=\"1457.16\" cy=\"1162.27\" r=\"6\" fill=\"#050317\" fill-rule=\"evenodd\" fill-opacity=\"1\" stroke=\"#000000\" stroke-opacity=\"1\" stroke-width=\"3.2\"/>\n",
       "<circle clip-path=\"url(#clip422)\" cx=\"1758.2\" cy=\"295.873\" r=\"3\" fill=\"#000004\" fill-rule=\"evenodd\" fill-opacity=\"1\" stroke=\"#000000\" stroke-opacity=\"1\" stroke-width=\"3.2\"/>\n",
       "<circle clip-path=\"url(#clip422)\" cx=\"565.075\" cy=\"505.908\" r=\"23\" fill=\"#6e186e\" fill-rule=\"evenodd\" fill-opacity=\"1\" stroke=\"#000000\" stroke-opacity=\"1\" stroke-width=\"3.2\"/>\n",
       "<circle clip-path=\"url(#clip422)\" cx=\"565.075\" cy=\"1372.3\" r=\"51\" fill=\"#fba70c\" fill-rule=\"evenodd\" fill-opacity=\"1\" stroke=\"#000000\" stroke-opacity=\"1\" stroke-width=\"3.2\"/>\n",
       "<circle clip-path=\"url(#clip422)\" cx=\"256.524\" cy=\"715.943\" r=\"38\" fill=\"#d24742\" fill-rule=\"evenodd\" fill-opacity=\"1\" stroke=\"#000000\" stroke-opacity=\"1\" stroke-width=\"3.2\"/>\n",
       "<circle clip-path=\"url(#clip422)\" cx=\"256.524\" cy=\"952.233\" r=\"44\" fill=\"#ef6e20\" fill-rule=\"evenodd\" fill-opacity=\"1\" stroke=\"#000000\" stroke-opacity=\"1\" stroke-width=\"3.2\"/>\n",
       "<circle clip-path=\"url(#clip422)\" cx=\"853.724\" cy=\"85.838\" r=\"10\" fill=\"#150b37\" fill-rule=\"evenodd\" fill-opacity=\"1\" stroke=\"#000000\" stroke-opacity=\"1\" stroke-width=\"3.2\"/>\n",
       "<circle clip-path=\"url(#clip422)\" cx=\"565.075\" cy=\"715.943\" r=\"26\" fill=\"#811f6b\" fill-rule=\"evenodd\" fill-opacity=\"1\" stroke=\"#000000\" stroke-opacity=\"1\" stroke-width=\"3.2\"/>\n",
       "<circle clip-path=\"url(#clip422)\" cx=\"2058.69\" cy=\"85.838\" r=\"3\" fill=\"#000003\" fill-rule=\"evenodd\" fill-opacity=\"1\" stroke=\"#000000\" stroke-opacity=\"1\" stroke-width=\"3.2\"/>\n",
       "<circle clip-path=\"url(#clip422)\" cx=\"1457.16\" cy=\"1372.3\" r=\"36\" fill=\"#c33b4f\" fill-rule=\"evenodd\" fill-opacity=\"1\" stroke=\"#000000\" stroke-opacity=\"1\" stroke-width=\"3.2\"/>\n",
       "<circle clip-path=\"url(#clip422)\" cx=\"256.524\" cy=\"1162.27\" r=\"43\" fill=\"#ea6428\" fill-rule=\"evenodd\" fill-opacity=\"1\" stroke=\"#000000\" stroke-opacity=\"1\" stroke-width=\"3.2\"/>\n",
       "<circle clip-path=\"url(#clip422)\" cx=\"1457.16\" cy=\"505.908\" r=\"4\" fill=\"#01010a\" fill-rule=\"evenodd\" fill-opacity=\"1\" stroke=\"#000000\" stroke-opacity=\"1\" stroke-width=\"3.2\"/>\n",
       "<circle clip-path=\"url(#clip422)\" cx=\"2058.69\" cy=\"715.943\" r=\"3\" fill=\"#000003\" fill-rule=\"evenodd\" fill-opacity=\"1\" stroke=\"#000000\" stroke-opacity=\"1\" stroke-width=\"3.2\"/>\n",
       "<circle clip-path=\"url(#clip422)\" cx=\"853.724\" cy=\"715.943\" r=\"14\" fill=\"#30095c\" fill-rule=\"evenodd\" fill-opacity=\"1\" stroke=\"#000000\" stroke-opacity=\"1\" stroke-width=\"3.2\"/>\n",
       "<circle clip-path=\"url(#clip422)\" cx=\"565.075\" cy=\"85.838\" r=\"17\" fill=\"#470a69\" fill-rule=\"evenodd\" fill-opacity=\"1\" stroke=\"#000000\" stroke-opacity=\"1\" stroke-width=\"3.2\"/>\n",
       "<circle clip-path=\"url(#clip422)\" cx=\"1758.2\" cy=\"505.908\" r=\"3\" fill=\"#000005\" fill-rule=\"evenodd\" fill-opacity=\"1\" stroke=\"#000000\" stroke-opacity=\"1\" stroke-width=\"3.2\"/>\n",
       "<circle clip-path=\"url(#clip422)\" cx=\"1157.61\" cy=\"715.943\" r=\"8\" fill=\"#0c0727\" fill-rule=\"evenodd\" fill-opacity=\"1\" stroke=\"#000000\" stroke-opacity=\"1\" stroke-width=\"3.2\"/>\n",
       "<circle clip-path=\"url(#clip422)\" cx=\"1758.2\" cy=\"85.838\" r=\"3\" fill=\"#000005\" fill-rule=\"evenodd\" fill-opacity=\"1\" stroke=\"#000000\" stroke-opacity=\"1\" stroke-width=\"3.2\"/>\n",
       "<circle clip-path=\"url(#clip422)\" cx=\"1457.16\" cy=\"952.233\" r=\"5\" fill=\"#02020f\" fill-rule=\"evenodd\" fill-opacity=\"1\" stroke=\"#000000\" stroke-opacity=\"1\" stroke-width=\"3.2\"/>\n",
       "<circle clip-path=\"url(#clip422)\" cx=\"565.075\" cy=\"295.873\" r=\"21\" fill=\"#5e126e\" fill-rule=\"evenodd\" fill-opacity=\"1\" stroke=\"#000000\" stroke-opacity=\"1\" stroke-width=\"3.2\"/>\n",
       "<circle clip-path=\"url(#clip422)\" cx=\"1457.16\" cy=\"85.838\" r=\"4\" fill=\"#010108\" fill-rule=\"evenodd\" fill-opacity=\"1\" stroke=\"#000000\" stroke-opacity=\"1\" stroke-width=\"3.2\"/>\n",
       "<circle clip-path=\"url(#clip422)\" cx=\"1758.2\" cy=\"1162.27\" r=\"4\" fill=\"#000006\" fill-rule=\"evenodd\" fill-opacity=\"1\" stroke=\"#000000\" stroke-opacity=\"1\" stroke-width=\"3.2\"/>\n",
       "<circle clip-path=\"url(#clip422)\" cx=\"256.524\" cy=\"505.908\" r=\"37\" fill=\"#c83f4b\" fill-rule=\"evenodd\" fill-opacity=\"1\" stroke=\"#000000\" stroke-opacity=\"1\" stroke-width=\"3.2\"/>\n",
       "<circle clip-path=\"url(#clip422)\" cx=\"1157.61\" cy=\"295.873\" r=\"6\" fill=\"#050419\" fill-rule=\"evenodd\" fill-opacity=\"1\" stroke=\"#000000\" stroke-opacity=\"1\" stroke-width=\"3.2\"/>\n",
       "<circle clip-path=\"url(#clip422)\" cx=\"2058.69\" cy=\"1162.27\" r=\"3\" fill=\"#000004\" fill-rule=\"evenodd\" fill-opacity=\"1\" stroke=\"#000000\" stroke-opacity=\"1\" stroke-width=\"3.2\"/>\n",
       "<circle clip-path=\"url(#clip422)\" cx=\"1157.61\" cy=\"505.908\" r=\"7\" fill=\"#07051c\" fill-rule=\"evenodd\" fill-opacity=\"1\" stroke=\"#000000\" stroke-opacity=\"1\" stroke-width=\"3.2\"/>\n",
       "<circle clip-path=\"url(#clip422)\" cx=\"853.724\" cy=\"952.233\" r=\"17\" fill=\"#470a69\" fill-rule=\"evenodd\" fill-opacity=\"1\" stroke=\"#000000\" stroke-opacity=\"1\" stroke-width=\"3.2\"/>\n",
       "<circle clip-path=\"url(#clip422)\" cx=\"853.724\" cy=\"295.873\" r=\"11\" fill=\"#1f0c48\" fill-rule=\"evenodd\" fill-opacity=\"1\" stroke=\"#000000\" stroke-opacity=\"1\" stroke-width=\"3.2\"/>\n",
       "<circle clip-path=\"url(#clip422)\" cx=\"2058.69\" cy=\"952.233\" r=\"3\" fill=\"#000004\" fill-rule=\"evenodd\" fill-opacity=\"1\" stroke=\"#000000\" stroke-opacity=\"1\" stroke-width=\"3.2\"/>\n",
       "<circle clip-path=\"url(#clip422)\" cx=\"2058.69\" cy=\"295.873\" r=\"3\" fill=\"#000003\" fill-rule=\"evenodd\" fill-opacity=\"1\" stroke=\"#000000\" stroke-opacity=\"1\" stroke-width=\"3.2\"/>\n",
       "<circle clip-path=\"url(#clip422)\" cx=\"2058.69\" cy=\"505.908\" r=\"3\" fill=\"#000003\" fill-rule=\"evenodd\" fill-opacity=\"1\" stroke=\"#000000\" stroke-opacity=\"1\" stroke-width=\"3.2\"/>\n",
       "<circle clip-path=\"url(#clip422)\" cx=\"565.075\" cy=\"1162.27\" r=\"38\" fill=\"#d14643\" fill-rule=\"evenodd\" fill-opacity=\"1\" stroke=\"#000000\" stroke-opacity=\"1\" stroke-width=\"3.2\"/>\n",
       "<circle clip-path=\"url(#clip422)\" cx=\"1157.61\" cy=\"85.838\" r=\"6\" fill=\"#050418\" fill-rule=\"evenodd\" fill-opacity=\"1\" stroke=\"#000000\" stroke-opacity=\"1\" stroke-width=\"3.2\"/>\n",
       "<circle clip-path=\"url(#clip422)\" cx=\"1758.2\" cy=\"952.233\" r=\"3\" fill=\"#000005\" fill-rule=\"evenodd\" fill-opacity=\"1\" stroke=\"#000000\" stroke-opacity=\"1\" stroke-width=\"3.2\"/>\n",
       "<circle clip-path=\"url(#clip422)\" cx=\"1758.2\" cy=\"715.943\" r=\"3\" fill=\"#000005\" fill-rule=\"evenodd\" fill-opacity=\"1\" stroke=\"#000000\" stroke-opacity=\"1\" stroke-width=\"3.2\"/>\n",
       "<circle clip-path=\"url(#clip422)\" cx=\"2058.69\" cy=\"1372.3\" r=\"8\" fill=\"#0d082a\" fill-rule=\"evenodd\" fill-opacity=\"1\" stroke=\"#000000\" stroke-opacity=\"1\" stroke-width=\"3.2\"/>\n",
       "<defs>\n",
       "  <clipPath id=\"clip423\">\n",
       "    <rect x=\"2160\" y=\"47\" width=\"73\" height=\"1365\"/>\n",
       "  </clipPath>\n",
       "</defs>\n",
       "<g clip-path=\"url(#clip423)\">\n",
       "<image width=\"72\" height=\"1364\" xlink:href=\"data:image/png;base64,\n",
       "iVBORw0KGgoAAAANSUhEUgAAAEgAAAVUCAYAAABzwV4AAAAL0klEQVR4nO3dwY3sRhAFQY5Q/lsh\n",
       "L6XfLQtUeSQPERYsEg+zZJM7+/v3/H0f/tdfb/8AXydQECgIFAQKc+6/b/8Mn2ZBQaAgUBAozL1/\n",
       "3v4ZPs2CgkBBoCBQcCUdLCgIFAQKAgWBwly/xVYWFAQKAgWBwtzjQ3pjQUGgIFAQKLiSDhYUBAoC\n",
       "BYGCQMFvsWBBQaAgUBAoOA8KFhQECgIFgcI8rqRXFhQECgIFgYJAwXlQsKAgUBAoCBTmcR60sqAg\n",
       "UBAoCBTmOf+8/TN8mgUFgYJAQaAgUPBUI1hQECgIFAQKzoOCBQWBgkBBoOBDOlhQECgIFAQKAgXn\n",
       "QcGCgkBBoCBQmJ9bjZUFBYGCQEGgMM/xpf8bCwoCBYGCQEGg4FYjWFAQKAgUBApuNYIFBYGCQEGg\n",
       "4P2gYEFBoCBQECgIFObnVmNlQUGgIFAQKHiJM1hQECgIFAQKrqSDBQWBgkBBoCBQ8Og5WFAQKAgU\n",
       "BApuNYIFBYGCQEGg4Eo6WFAQKAgUBAoCBbcawYKCQEGgIFCY55y3f4ZPs6AgUBAoCBRcSQcLCgIF\n",
       "gYJAQaDgqUawoCBQECgIFHxIBwsKAgWBgkBhfg7tVxYUBAoCBYGCQMGtRrCgIFAQKAgUvB8ULCgI\n",
       "FAQKAgXnQcGCgkBBoCBQECg4DwoWFAQKAgWBgvOgYEFBoCBQECj4kA4WFAQKAgWBgkDBXz0HCwoC\n",
       "BYGCQMGtRrCgIFAQKAgUfEgHCwoCBYGCQEGg4LdYsKAgUBAoCBR8SAcLCgIFgYJAYZ7rQ3pjQUGg\n",
       "IFAQKAgU3GoECwoCBYGCQMGHdLCgIFAQKAgUfEgHCwoCBYGCQEGgMM+5b/8Mn2ZBQaAgUBAouNUI\n",
       "FhQECgIFgYIr6WBBQaAgUBAoCBTcagQLCgIFgYJAwa1GsKAgUBAoCBTmcSG9sqAgUBAoCBQECvNc\n",
       "txobCwoCBYGCQMGtRrCgIFAQKAgUfEgHCwoCBYGCQEGgML4Eb2dBQaAgUBAouNUIFhQECgIFgYIP\n",
       "6WBBQaAgUBAoCBTmOb+3f4ZPs6AgUBAoCBTmXh/SGwsKAgWBgkDBeVCwoCBQECgIFBx3BAsKAgWB\n",
       "gkBBoDD3aLRRJwgUBAoCBbcawYKCQEGgIFCYx5PVlQUFgYJAQaAgUJjrVmNlQUGgIFAQKMzj0H6l\n",
       "ThAoCBQECq6kgwUFgYJAQaAgUPBUI1hQECgIFAQKXuIM6gSBgkBBoOAlzmBBQaAgUBAoCBQ81QgW\n",
       "FAQKAgWBwtyr0UadIFAQKAgUnAcFCwoCBYGCQEGg4DwoWFAQKAgUBArzOA9aqRMECgIFgYIr6WBB\n",
       "QaAgUBAoCBT8FgsWFAQKAgWBgj/qDRYUBAoCBYGCP+oN6gSBgkBBoCBQ8P/mgwUFgYJAQaDg0D5Y\n",
       "UBAoCBQECr70P6gTBAoCBYGCQMF5ULCgIFAQKAgUnAcFCwoCBYGCQMGVdLCgIFAQKAgUBArecg3q\n",
       "BIGCQEGg4FYjWFAQKAgUBAoO7YMFBYGCQEGgIFBwqxEsKAgUBAoCBf+6JlhQECgIFAQK/glkUCcI\n",
       "FAQKAgWBgvOgYEFBoCBQECh49BwsKAgUBAoCBVfSwYKCQEGgIFAQKMzxW2xlQUGgIFAQKPij3qBO\n",
       "ECgIFAQKzoOCBQWBgkBBoCBQ8FssWFAQKAgUBAreDwoWFAQKAgWBgivpYEFBoCBQECgIFPwWCxYU\n",
       "BAoCBYGCr6YI6gSBgkBBoDDHof3KgoJAQaAgUBAoOA8KFhQECgIFgYIP6WBBQaAgUBAo+JAOFhQE\n",
       "CgIFgYJAwfcHBQsKAgWBgkDBrUawoCBQECgIFHxIBwsKAgWBgkBBoOBPEYI6QaAgUBAo+FOEYEFB\n",
       "oCBQECg4DwoWFAQKAgWBgkDBb7FgQUGgIFAQKHiJM1hQECgIFAQKrqSDBQWBgkBBoCBQmPv4Lbax\n",
       "oCBQECgIFJwHBQsKAgWBgkDBeVCwoCBQECgIFAQKbjWCBQWBgkBBoOBWI1hQECgIFAQKrqSDBQWB\n",
       "gkBBoCBQcKsRLCgIFAQKAgUf0sGCgkBBoCBQmONN+5UFBYGCQEGg4Eo6WFAQKAgUBAoCBY+egwUF\n",
       "gYJAQaAw9779I3ybBQWBgkBBoOBKOlhQECgIFAQKAgVf8hYsKAgUBAoCBbcawYKCQEGgIFDwflCw\n",
       "oCBQECgIFAQK/hQhWFAQKAgUBAreDwoWFAQKAgWBgkP7YEFBoCBQECgIFDzVCBYUBAoCBYGCQ/tg\n",
       "QUGgIFAQKDgPChYUBAoCBYGCQMGj52BBQaAgUBAoOA8KFhQECgIFgYInq8GCgkBBoCBQECjMefsn\n",
       "+DgLCgIFgYJAwa1GsKAgUBAoCBS8HxQsKAgUBAoCBYGC86BgQUGgIFAQKDgPChYUBAoCBYGCK+lg\n",
       "QUGgIFAQKAgU3GoECwoCBYGCQMGj52BBQaAgUBAojC9e2FlQECgIFAQKAgW3GsGCgkBBoCBQ8Og5\n",
       "WFAQKAgUBAqerAYLCgIFgYJAQaDgViNYUBAoCBQECm41ggUFgYJAQaAwxwtCKwsKAgWBgkBBoOA8\n",
       "KFhQECgIFAQKzoOCBQWBgkBBoOBKOlhQECgIFAQKAgX/bz5YUBAoCBQECv7ffLCgIFAQKAgUvB8U\n",
       "LCgIFAQKAgWBgm/BCxYUBAoCBYGCL3kLFhQECgIFgYInq8GCgkBBoCBQECh4yzVYUBAoCBQECv5e\n",
       "LFhQECgIFAQKrqSDBQWBgkBBoCBQ8JZrsKAgUBAoCBS8xBksKAgUBAoCBVfSwYKCQEGgIFAQKHjL\n",
       "NVhQECgIFAQKvj8oWFAQKAgUBArOg4IFBYGCQEGgIFDw6DlYUBAoCBQECm41ggUFgYJAQaDgSjpY\n",
       "UBAoCBQECgIFtxrBgoJAQaAgUPAhHSwoCBQECgIF50HBgoJAQaAgUBAouNUIFhQECgIFgYJbjWBB\n",
       "QaAgUBAouJIOFhQECgIFgYJAwfcHBQsKAgWBgkDBv64JFhQECgIFgYLzoGBBQaAgUBAoCBTmPn6N\n",
       "bSwoCBQECgIFtxrBgoJAQaAgUPBkNVhQECgIFAQKnqwGCwoCBYGCQEGg4DwoWFAQKAgUBAqerAYL\n",
       "CgIFgYJAwZV0sKAgUBAoCBQECr4/KFhQECgIFAQKc7wgtLKgIFAQKAgUvB8ULCgIFAQKAgWBwly3\n",
       "GisLCgIFgYJAwa1GsKAgUBAoCBQc2gcLCgIFgYJAQaDg/aBgQUGgIFAQKMzx92IrCwoCBYGCQMF5\n",
       "ULCgIFAQKAgUBAq+miJYUBAoCBQECt4PChYUBAoCBYGCQ/tgQUGgIFAQKAgUnAcFCwoCBYGCQGHO\n",
       "40RoY0FBoCBQECg4DwoWFAQKAgWBgkDBb7FgQUGgIFAQKDi0DxYUBAoCBYGCQ/tgQUGgIFAQKAgU\n",
       "5vzcamwsKAgUBAoCBbcawYKCQEGgIFCY60N6ZUFBoCBQECgIFNxqBAsKAgWBgkBhzs+H9MaCgkBB\n",
       "oCBQcCUdLCgIFAQKAgWBgqcawYKCQEGgIFBwqxEsKAgUBAoCBR/SwYKCQEGgIFAQKHj0HCwoCBQE\n",
       "CgKFuc+ft3+GT7OgIFAQKAgUnAcFCwoCBYGCQEGg4P2gYEFBoCBQECjMuc6DNhYUBAoCBYGCK+lg\n",
       "QUGgIFAQKAgU5nj0vLKgIFAQKAgU3GoECwoCBYGCQMGVdLCgIFAQKAgUBApzr1uNjQUFgYJAQaDg\n",
       "PChYUBAoCBQECl7iDBYUBAoCBYGCQMGtRrCgIFAQKAgU5rrVWFlQECgIFAQKrqSDBQWBgkBBoCBQ\n",
       "mOP9oJUFBYGCQEGg4PukgwUFgYJAQaDgTftgQUGgIFAQKAgUPNUIFhQECgIFgYJbjWBBQaAgUBAo\n",
       "+JAOFhQECgIFgYJAwaPnYEFBoCBQECi41QgWFAQKAgWBwjyerK4sKAgUBAoCBYGCW41gQUGgIFAQ\n",
       "KHiJM1hQECgIFAQK87iSXllQECgIFAQKAgXvBwULCgIFgYJAwaPnYEFBoCBQECg4DwoWFAQKAgWB\n",
       "gkBh7nPf/hk+zYKCQEGgIFBwHhQsKAgUBAoChXlcSa8sKAgUBAoChf8AJ8ztt7m0cDkAAAAASUVO\n",
       "RK5CYII=\n",
       "\" transform=\"translate(2161, 47)\"/>\n",
       "</g>\n",
       "<path clip-path=\"url(#clip420)\" d=\"M 0 0 M2280.7 1316.71 Q2277.09 1316.71 2275.26 1320.27 Q2273.45 1323.81 2273.45 1330.94 Q2273.45 1338.05 2275.26 1341.62 Q2277.09 1345.16 2280.7 1345.16 Q2284.33 1345.16 2286.14 1341.62 Q2287.97 1338.05 2287.97 1330.94 Q2287.97 1323.81 2286.14 1320.27 Q2284.33 1316.71 2280.7 1316.71 M2280.7 1313 Q2286.51 1313 2289.57 1317.61 Q2292.64 1322.19 2292.64 1330.94 Q2292.64 1339.67 2289.57 1344.28 Q2286.51 1348.86 2280.7 1348.86 Q2274.89 1348.86 2271.81 1344.28 Q2268.76 1339.67 2268.76 1330.94 Q2268.76 1322.19 2271.81 1317.61 Q2274.89 1313 2280.7 1313 Z\" fill=\"#000000\" fill-rule=\"evenodd\" fill-opacity=\"1\" /><path clip-path=\"url(#clip420)\" d=\"M 0 0 M2297.71 1342.31 L2302.6 1342.31 L2302.6 1348.19 L2297.71 1348.19 L2297.71 1342.31 Z\" fill=\"#000000\" fill-rule=\"evenodd\" fill-opacity=\"1\" /><path clip-path=\"url(#clip420)\" d=\"M 0 0 M2321.83 1329.56 Q2325.19 1330.27 2327.07 1332.54 Q2328.96 1334.81 2328.96 1338.14 Q2328.96 1343.26 2325.45 1346.06 Q2321.93 1348.86 2315.45 1348.86 Q2313.27 1348.86 2310.95 1348.42 Q2308.66 1348 2306.21 1347.15 L2306.21 1342.63 Q2308.15 1343.77 2310.47 1344.35 Q2312.78 1344.93 2315.31 1344.93 Q2319.7 1344.93 2322 1343.19 Q2324.31 1341.45 2324.31 1338.14 Q2324.31 1335.09 2322.16 1333.37 Q2320.03 1331.64 2316.21 1331.64 L2312.18 1331.64 L2312.18 1327.8 L2316.39 1327.8 Q2319.84 1327.8 2321.67 1326.43 Q2323.5 1325.04 2323.5 1322.45 Q2323.5 1319.79 2321.6 1318.37 Q2319.73 1316.94 2316.21 1316.94 Q2314.29 1316.94 2312.09 1317.36 Q2309.89 1317.77 2307.25 1318.65 L2307.25 1314.49 Q2309.91 1313.75 2312.23 1313.37 Q2314.57 1313 2316.63 1313 Q2321.95 1313 2325.05 1315.43 Q2328.15 1317.84 2328.15 1321.96 Q2328.15 1324.83 2326.51 1326.82 Q2324.87 1328.79 2321.83 1329.56 Z\" fill=\"#000000\" fill-rule=\"evenodd\" fill-opacity=\"1\" /><path clip-path=\"url(#clip420)\" d=\"M 0 0 M2334.08 1313.63 L2352.44 1313.63 L2352.44 1317.56 L2338.36 1317.56 L2338.36 1326.04 Q2339.38 1325.69 2340.4 1325.53 Q2341.42 1325.34 2342.44 1325.34 Q2348.22 1325.34 2351.6 1328.51 Q2354.98 1331.68 2354.98 1337.1 Q2354.98 1342.68 2351.51 1345.78 Q2348.04 1348.86 2341.72 1348.86 Q2339.54 1348.86 2337.27 1348.49 Q2335.03 1348.12 2332.62 1347.38 L2332.62 1342.68 Q2334.7 1343.81 2336.93 1344.37 Q2339.15 1344.93 2341.63 1344.93 Q2345.63 1344.93 2347.97 1342.82 Q2350.31 1340.71 2350.31 1337.1 Q2350.31 1333.49 2347.97 1331.38 Q2345.63 1329.28 2341.63 1329.28 Q2339.75 1329.28 2337.88 1329.69 Q2336.02 1330.11 2334.08 1330.99 L2334.08 1313.63 Z\" fill=\"#000000\" fill-rule=\"evenodd\" fill-opacity=\"1\" /><path clip-path=\"url(#clip420)\" d=\"M 0 0 M2280.7 1128.73 Q2277.09 1128.73 2275.26 1132.3 Q2273.45 1135.84 2273.45 1142.97 Q2273.45 1150.08 2275.26 1153.64 Q2277.09 1157.18 2280.7 1157.18 Q2284.33 1157.18 2286.14 1153.64 Q2287.97 1150.08 2287.97 1142.97 Q2287.97 1135.84 2286.14 1132.3 Q2284.33 1128.73 2280.7 1128.73 M2280.7 1125.03 Q2286.51 1125.03 2289.57 1129.64 Q2292.64 1134.22 2292.64 1142.97 Q2292.64 1151.7 2289.57 1156.3 Q2286.51 1160.89 2280.7 1160.89 Q2274.89 1160.89 2271.81 1156.3 Q2268.76 1151.7 2268.76 1142.97 Q2268.76 1134.22 2271.81 1129.64 Q2274.89 1125.03 2280.7 1125.03 Z\" fill=\"#000000\" fill-rule=\"evenodd\" fill-opacity=\"1\" /><path clip-path=\"url(#clip420)\" d=\"M 0 0 M2297.71 1154.34 L2302.6 1154.34 L2302.6 1160.22 L2297.71 1160.22 L2297.71 1154.34 Z\" fill=\"#000000\" fill-rule=\"evenodd\" fill-opacity=\"1\" /><path clip-path=\"url(#clip420)\" d=\"M 0 0 M2320.51 1129.73 L2308.71 1148.18 L2320.51 1148.18 L2320.51 1129.73 M2319.29 1125.66 L2325.17 1125.66 L2325.17 1148.18 L2330.1 1148.18 L2330.1 1152.07 L2325.17 1152.07 L2325.17 1160.22 L2320.51 1160.22 L2320.51 1152.07 L2304.91 1152.07 L2304.91 1147.55 L2319.29 1125.66 Z\" fill=\"#000000\" fill-rule=\"evenodd\" fill-opacity=\"1\" /><path clip-path=\"url(#clip420)\" d=\"M 0 0 M2345.17 1128.73 Q2341.56 1128.73 2339.73 1132.3 Q2337.92 1135.84 2337.92 1142.97 Q2337.92 1150.08 2339.73 1153.64 Q2341.56 1157.18 2345.17 1157.18 Q2348.8 1157.18 2350.61 1153.64 Q2352.44 1150.08 2352.44 1142.97 Q2352.44 1135.84 2350.61 1132.3 Q2348.8 1128.73 2345.17 1128.73 M2345.17 1125.03 Q2350.98 1125.03 2354.03 1129.64 Q2357.11 1134.22 2357.11 1142.97 Q2357.11 1151.7 2354.03 1156.3 Q2350.98 1160.89 2345.17 1160.89 Q2339.36 1160.89 2336.28 1156.3 Q2333.22 1151.7 2333.22 1142.97 Q2333.22 1134.22 2336.28 1129.64 Q2339.36 1125.03 2345.17 1125.03 Z\" fill=\"#000000\" fill-rule=\"evenodd\" fill-opacity=\"1\" /><path clip-path=\"url(#clip420)\" d=\"M 0 0 M2280.7 940.76 Q2277.09 940.76 2275.26 944.325 Q2273.45 947.867 2273.45 954.996 Q2273.45 962.103 2275.26 965.668 Q2277.09 969.209 2280.7 969.209 Q2284.33 969.209 2286.14 965.668 Q2287.97 962.103 2287.97 954.996 Q2287.97 947.867 2286.14 944.325 Q2284.33 940.76 2280.7 940.76 M2280.7 937.057 Q2286.51 937.057 2289.57 941.663 Q2292.64 946.246 2292.64 954.996 Q2292.64 963.723 2289.57 968.33 Q2286.51 972.913 2280.7 972.913 Q2274.89 972.913 2271.81 968.33 Q2268.76 963.723 2268.76 954.996 Q2268.76 946.246 2271.81 941.663 Q2274.89 937.057 2280.7 937.057 Z\" fill=\"#000000\" fill-rule=\"evenodd\" fill-opacity=\"1\" /><path clip-path=\"url(#clip420)\" d=\"M 0 0 M2297.71 966.362 L2302.6 966.362 L2302.6 972.242 L2297.71 972.242 L2297.71 966.362 Z\" fill=\"#000000\" fill-rule=\"evenodd\" fill-opacity=\"1\" /><path clip-path=\"url(#clip420)\" d=\"M 0 0 M2320.51 941.756 L2308.71 960.205 L2320.51 960.205 L2320.51 941.756 M2319.29 937.682 L2325.17 937.682 L2325.17 960.205 L2330.1 960.205 L2330.1 964.094 L2325.17 964.094 L2325.17 972.242 L2320.51 972.242 L2320.51 964.094 L2304.91 964.094 L2304.91 959.58 L2319.29 937.682 Z\" fill=\"#000000\" fill-rule=\"evenodd\" fill-opacity=\"1\" /><path clip-path=\"url(#clip420)\" d=\"M 0 0 M2335.21 937.682 L2353.57 937.682 L2353.57 941.617 L2339.5 941.617 L2339.5 950.089 Q2340.51 949.742 2341.53 949.58 Q2342.55 949.395 2343.57 949.395 Q2349.36 949.395 2352.74 952.566 Q2356.12 955.737 2356.12 961.154 Q2356.12 966.732 2352.64 969.834 Q2349.17 972.913 2342.85 972.913 Q2340.68 972.913 2338.41 972.543 Q2336.16 972.172 2333.76 971.431 L2333.76 966.732 Q2335.84 967.867 2338.06 968.422 Q2340.28 968.978 2342.76 968.978 Q2346.76 968.978 2349.1 966.871 Q2351.44 964.765 2351.44 961.154 Q2351.44 957.543 2349.1 955.436 Q2346.76 953.33 2342.76 953.33 Q2340.89 953.33 2339.01 953.746 Q2337.16 954.163 2335.21 955.043 L2335.21 937.682 Z\" fill=\"#000000\" fill-rule=\"evenodd\" fill-opacity=\"1\" /><path clip-path=\"url(#clip420)\" d=\"M 0 0 M2280.7 752.787 Q2277.09 752.787 2275.26 756.351 Q2273.45 759.893 2273.45 767.023 Q2273.45 774.129 2275.26 777.694 Q2277.09 781.235 2280.7 781.235 Q2284.33 781.235 2286.14 777.694 Q2287.97 774.129 2287.97 767.023 Q2287.97 759.893 2286.14 756.351 Q2284.33 752.787 2280.7 752.787 M2280.7 749.083 Q2286.51 749.083 2289.57 753.689 Q2292.64 758.273 2292.64 767.023 Q2292.64 775.749 2289.57 780.356 Q2286.51 784.939 2280.7 784.939 Q2274.89 784.939 2271.81 780.356 Q2268.76 775.749 2268.76 767.023 Q2268.76 758.273 2271.81 753.689 Q2274.89 749.083 2280.7 749.083 Z\" fill=\"#000000\" fill-rule=\"evenodd\" fill-opacity=\"1\" /><path clip-path=\"url(#clip420)\" d=\"M 0 0 M2297.71 778.388 L2302.6 778.388 L2302.6 784.268 L2297.71 784.268 L2297.71 778.388 Z\" fill=\"#000000\" fill-rule=\"evenodd\" fill-opacity=\"1\" /><path clip-path=\"url(#clip420)\" d=\"M 0 0 M2307.71 749.708 L2326.07 749.708 L2326.07 753.643 L2312 753.643 L2312 762.115 Q2313.01 761.768 2314.03 761.606 Q2315.05 761.421 2316.07 761.421 Q2321.86 761.421 2325.24 764.592 Q2328.62 767.763 2328.62 773.18 Q2328.62 778.759 2325.14 781.86 Q2321.67 784.939 2315.35 784.939 Q2313.18 784.939 2310.91 784.569 Q2308.66 784.198 2306.26 783.458 L2306.26 778.759 Q2308.34 779.893 2310.56 780.448 Q2312.78 781.004 2315.26 781.004 Q2319.26 781.004 2321.6 778.897 Q2323.94 776.791 2323.94 773.18 Q2323.94 769.569 2321.6 767.462 Q2319.26 765.356 2315.26 765.356 Q2313.39 765.356 2311.51 765.773 Q2309.66 766.189 2307.71 767.069 L2307.71 749.708 Z\" fill=\"#000000\" fill-rule=\"evenodd\" fill-opacity=\"1\" /><path clip-path=\"url(#clip420)\" d=\"M 0 0 M2343.69 752.787 Q2340.07 752.787 2338.25 756.351 Q2336.44 759.893 2336.44 767.023 Q2336.44 774.129 2338.25 777.694 Q2340.07 781.235 2343.69 781.235 Q2347.32 781.235 2349.13 777.694 Q2350.95 774.129 2350.95 767.023 Q2350.95 759.893 2349.13 756.351 Q2347.32 752.787 2343.69 752.787 M2343.69 749.083 Q2349.5 749.083 2352.55 753.689 Q2355.63 758.273 2355.63 767.023 Q2355.63 775.749 2352.55 780.356 Q2349.5 784.939 2343.69 784.939 Q2337.88 784.939 2334.8 780.356 Q2331.74 775.749 2331.74 767.023 Q2331.74 758.273 2334.8 753.689 Q2337.88 749.083 2343.69 749.083 Z\" fill=\"#000000\" fill-rule=\"evenodd\" fill-opacity=\"1\" /><path clip-path=\"url(#clip420)\" d=\"M 0 0 M2280.7 564.813 Q2277.09 564.813 2275.26 568.377 Q2273.45 571.919 2273.45 579.049 Q2273.45 586.155 2275.26 589.72 Q2277.09 593.262 2280.7 593.262 Q2284.33 593.262 2286.14 589.72 Q2287.97 586.155 2287.97 579.049 Q2287.97 571.919 2286.14 568.377 Q2284.33 564.813 2280.7 564.813 M2280.7 561.109 Q2286.51 561.109 2289.57 565.715 Q2292.64 570.299 2292.64 579.049 Q2292.64 587.776 2289.57 592.382 Q2286.51 596.965 2280.7 596.965 Q2274.89 596.965 2271.81 592.382 Q2268.76 587.776 2268.76 579.049 Q2268.76 570.299 2271.81 565.715 Q2274.89 561.109 2280.7 561.109 Z\" fill=\"#000000\" fill-rule=\"evenodd\" fill-opacity=\"1\" /><path clip-path=\"url(#clip420)\" d=\"M 0 0 M2297.71 590.414 L2302.6 590.414 L2302.6 596.294 L2297.71 596.294 L2297.71 590.414 Z\" fill=\"#000000\" fill-rule=\"evenodd\" fill-opacity=\"1\" /><path clip-path=\"url(#clip420)\" d=\"M 0 0 M2307.71 561.734 L2326.07 561.734 L2326.07 565.669 L2312 565.669 L2312 574.141 Q2313.01 573.794 2314.03 573.632 Q2315.05 573.447 2316.07 573.447 Q2321.86 573.447 2325.24 576.618 Q2328.62 579.789 2328.62 585.206 Q2328.62 590.785 2325.14 593.887 Q2321.67 596.965 2315.35 596.965 Q2313.18 596.965 2310.91 596.595 Q2308.66 596.225 2306.26 595.484 L2306.26 590.785 Q2308.34 591.919 2310.56 592.475 Q2312.78 593.03 2315.26 593.03 Q2319.26 593.03 2321.6 590.924 Q2323.94 588.817 2323.94 585.206 Q2323.94 581.595 2321.6 579.489 Q2319.26 577.382 2315.26 577.382 Q2313.39 577.382 2311.51 577.799 Q2309.66 578.215 2307.71 579.095 L2307.71 561.734 Z\" fill=\"#000000\" fill-rule=\"evenodd\" fill-opacity=\"1\" /><path clip-path=\"url(#clip420)\" d=\"M 0 0 M2333.73 561.734 L2352.09 561.734 L2352.09 565.669 L2338.01 565.669 L2338.01 574.141 Q2339.03 573.794 2340.05 573.632 Q2341.07 573.447 2342.09 573.447 Q2347.88 573.447 2351.26 576.618 Q2354.64 579.789 2354.64 585.206 Q2354.64 590.785 2351.16 593.887 Q2347.69 596.965 2341.37 596.965 Q2339.2 596.965 2336.93 596.595 Q2334.68 596.225 2332.27 595.484 L2332.27 590.785 Q2334.36 591.919 2336.58 592.475 Q2338.8 593.03 2341.28 593.03 Q2345.28 593.03 2347.62 590.924 Q2349.96 588.817 2349.96 585.206 Q2349.96 581.595 2347.62 579.489 Q2345.28 577.382 2341.28 577.382 Q2339.4 577.382 2337.53 577.799 Q2335.68 578.215 2333.73 579.095 L2333.73 561.734 Z\" fill=\"#000000\" fill-rule=\"evenodd\" fill-opacity=\"1\" /><path clip-path=\"url(#clip420)\" d=\"M 0 0 M2280.7 376.839 Q2277.09 376.839 2275.26 380.404 Q2273.45 383.945 2273.45 391.075 Q2273.45 398.181 2275.26 401.746 Q2277.09 405.288 2280.7 405.288 Q2284.33 405.288 2286.14 401.746 Q2287.97 398.181 2287.97 391.075 Q2287.97 383.945 2286.14 380.404 Q2284.33 376.839 2280.7 376.839 M2280.7 373.135 Q2286.51 373.135 2289.57 377.742 Q2292.64 382.325 2292.64 391.075 Q2292.64 399.802 2289.57 404.408 Q2286.51 408.991 2280.7 408.991 Q2274.89 408.991 2271.81 404.408 Q2268.76 399.802 2268.76 391.075 Q2268.76 382.325 2271.81 377.742 Q2274.89 373.135 2280.7 373.135 Z\" fill=\"#000000\" fill-rule=\"evenodd\" fill-opacity=\"1\" /><path clip-path=\"url(#clip420)\" d=\"M 0 0 M2297.71 402.441 L2302.6 402.441 L2302.6 408.32 L2297.71 408.32 L2297.71 402.441 Z\" fill=\"#000000\" fill-rule=\"evenodd\" fill-opacity=\"1\" /><path clip-path=\"url(#clip420)\" d=\"M 0 0 M2318.25 389.177 Q2315.1 389.177 2313.25 391.33 Q2311.42 393.482 2311.42 397.232 Q2311.42 400.959 2313.25 403.135 Q2315.1 405.288 2318.25 405.288 Q2321.39 405.288 2323.22 403.135 Q2325.08 400.959 2325.08 397.232 Q2325.08 393.482 2323.22 391.33 Q2321.39 389.177 2318.25 389.177 M2327.53 374.524 L2327.53 378.783 Q2325.77 377.95 2323.96 377.51 Q2322.18 377.07 2320.42 377.07 Q2315.79 377.07 2313.34 380.195 Q2310.91 383.32 2310.56 389.64 Q2311.93 387.626 2313.99 386.561 Q2316.05 385.473 2318.52 385.473 Q2323.73 385.473 2326.74 388.644 Q2329.77 391.792 2329.77 397.232 Q2329.77 402.556 2326.63 405.774 Q2323.48 408.991 2318.25 408.991 Q2312.25 408.991 2309.08 404.408 Q2305.91 399.802 2305.91 391.075 Q2305.91 382.88 2309.8 378.019 Q2313.69 373.135 2320.24 373.135 Q2322 373.135 2323.78 373.482 Q2325.58 373.83 2327.53 374.524 Z\" fill=\"#000000\" fill-rule=\"evenodd\" fill-opacity=\"1\" /><path clip-path=\"url(#clip420)\" d=\"M 0 0 M2344.84 376.839 Q2341.23 376.839 2339.4 380.404 Q2337.6 383.945 2337.6 391.075 Q2337.6 398.181 2339.4 401.746 Q2341.23 405.288 2344.84 405.288 Q2348.48 405.288 2350.28 401.746 Q2352.11 398.181 2352.11 391.075 Q2352.11 383.945 2350.28 380.404 Q2348.48 376.839 2344.84 376.839 M2344.84 373.135 Q2350.65 373.135 2353.71 377.742 Q2356.79 382.325 2356.79 391.075 Q2356.79 399.802 2353.71 404.408 Q2350.65 408.991 2344.84 408.991 Q2339.03 408.991 2335.95 404.408 Q2332.9 399.802 2332.9 391.075 Q2332.9 382.325 2335.95 377.742 Q2339.03 373.135 2344.84 373.135 Z\" fill=\"#000000\" fill-rule=\"evenodd\" fill-opacity=\"1\" /><path clip-path=\"url(#clip420)\" d=\"M 0 0 M2280.7 188.865 Q2277.09 188.865 2275.26 192.43 Q2273.45 195.971 2273.45 203.101 Q2273.45 210.207 2275.26 213.772 Q2277.09 217.314 2280.7 217.314 Q2284.33 217.314 2286.14 213.772 Q2287.97 210.207 2287.97 203.101 Q2287.97 195.971 2286.14 192.43 Q2284.33 188.865 2280.7 188.865 M2280.7 185.161 Q2286.51 185.161 2289.57 189.768 Q2292.64 194.351 2292.64 203.101 Q2292.64 211.828 2289.57 216.434 Q2286.51 221.018 2280.7 221.018 Q2274.89 221.018 2271.81 216.434 Q2268.76 211.828 2268.76 203.101 Q2268.76 194.351 2271.81 189.768 Q2274.89 185.161 2280.7 185.161 Z\" fill=\"#000000\" fill-rule=\"evenodd\" fill-opacity=\"1\" /><path clip-path=\"url(#clip420)\" d=\"M 0 0 M2297.71 214.467 L2302.6 214.467 L2302.6 220.346 L2297.71 220.346 L2297.71 214.467 Z\" fill=\"#000000\" fill-rule=\"evenodd\" fill-opacity=\"1\" /><path clip-path=\"url(#clip420)\" d=\"M 0 0 M2318.25 201.203 Q2315.1 201.203 2313.25 203.356 Q2311.42 205.508 2311.42 209.258 Q2311.42 212.985 2313.25 215.161 Q2315.1 217.314 2318.25 217.314 Q2321.39 217.314 2323.22 215.161 Q2325.08 212.985 2325.08 209.258 Q2325.08 205.508 2323.22 203.356 Q2321.39 201.203 2318.25 201.203 M2327.53 186.55 L2327.53 190.809 Q2325.77 189.976 2323.96 189.536 Q2322.18 189.096 2320.42 189.096 Q2315.79 189.096 2313.34 192.221 Q2310.91 195.346 2310.56 201.666 Q2311.93 199.652 2313.99 198.587 Q2316.05 197.499 2318.52 197.499 Q2323.73 197.499 2326.74 200.671 Q2329.77 203.819 2329.77 209.258 Q2329.77 214.582 2326.63 217.8 Q2323.48 221.018 2318.25 221.018 Q2312.25 221.018 2309.08 216.434 Q2305.91 211.828 2305.91 203.101 Q2305.91 194.907 2309.8 190.046 Q2313.69 185.161 2320.24 185.161 Q2322 185.161 2323.78 185.509 Q2325.58 185.856 2327.53 186.55 Z\" fill=\"#000000\" fill-rule=\"evenodd\" fill-opacity=\"1\" /><path clip-path=\"url(#clip420)\" d=\"M 0 0 M2334.89 185.786 L2353.25 185.786 L2353.25 189.721 L2339.17 189.721 L2339.17 198.194 Q2340.19 197.846 2341.21 197.684 Q2342.23 197.499 2343.25 197.499 Q2349.03 197.499 2352.41 200.671 Q2355.79 203.842 2355.79 209.258 Q2355.79 214.837 2352.32 217.939 Q2348.85 221.018 2342.53 221.018 Q2340.35 221.018 2338.08 220.647 Q2335.84 220.277 2333.43 219.536 L2333.43 214.837 Q2335.51 215.971 2337.74 216.527 Q2339.96 217.082 2342.44 217.082 Q2346.44 217.082 2348.78 214.976 Q2351.12 212.87 2351.12 209.258 Q2351.12 205.647 2348.78 203.541 Q2346.44 201.434 2342.44 201.434 Q2340.56 201.434 2338.69 201.851 Q2336.83 202.268 2334.89 203.147 L2334.89 185.786 Z\" fill=\"#000000\" fill-rule=\"evenodd\" fill-opacity=\"1\" /><polyline clip-path=\"url(#clip420)\" style=\"stroke:#000000; stroke-width:4; stroke-opacity:1; fill:none\" points=\"\n",
       "  2232.76,1410.9 2232.76,1334.54 2256.76,1334.54 2232.76,1334.54 2232.76,1146.56 2256.76,1146.56 2232.76,1146.56 2232.76,958.59 2256.76,958.59 2232.76,958.59 \n",
       "  2232.76,770.617 2256.76,770.617 2232.76,770.617 2232.76,582.643 2256.76,582.643 2232.76,582.643 2232.76,394.669 2256.76,394.669 2232.76,394.669 2232.76,206.695 \n",
       "  2256.76,206.695 2232.76,206.695 2232.76,47.2441 \n",
       "  \"/>\n",
       "</svg>\n"
      ]
     },
     "execution_count": 116,
     "metadata": {},
     "output_type": "execute_result"
    }
   ],
   "source": [
    "plot(self_tuning_nn)"
   ]
  },
  {
   "cell_type": "code",
   "execution_count": 117,
   "metadata": {},
   "outputs": [
    {
     "data": {
      "text/plain": [
       "(best_model = \u001b[34mNeuralNetworkClassifier{CustomNN,…} @267\u001b[39m,\n",
       " best_fitted_params = (chain = Chain(Chain(Dense(30, 34, σ), Dense(34, 2, σ)), softmax),),)"
      ]
     },
     "execution_count": 117,
     "metadata": {},
     "output_type": "execute_result"
    }
   ],
   "source": [
    "best = fitted_params(self_tuning_nn)\n",
    "best"
   ]
  },
  {
   "cell_type": "code",
   "execution_count": 118,
   "metadata": {},
   "outputs": [
    {
     "data": {
      "text/plain": [
       "NeuralNetworkClassifier(\n",
       "    builder = CustomNN(\n",
       "            n1 = 34),\n",
       "    finaliser = NNlib.softmax,\n",
       "    optimiser = ADAM(0.00032, (0.9, 0.999), IdDict{Any,Any}()),\n",
       "    loss = Flux.crossentropy,\n",
       "    epochs = 1000,\n",
       "    batch_size = 16,\n",
       "    lambda = 0.0021544346900318843,\n",
       "    alpha = 0.0,\n",
       "    optimiser_changes_trigger_retraining = false)\u001b[34m @267\u001b[39m"
      ]
     },
     "execution_count": 118,
     "metadata": {},
     "output_type": "execute_result"
    }
   ],
   "source": [
    "best.best_model"
   ]
  },
  {
   "cell_type": "code",
   "execution_count": 119,
   "metadata": {
    "scrolled": true
   },
   "outputs": [
    {
     "data": {
      "text/plain": [
       "0.32968906f0"
      ]
     },
     "execution_count": 119,
     "metadata": {},
     "output_type": "execute_result"
    }
   ],
   "source": [
    "best_loss = z.report.best_result.measurement[1]"
   ]
  },
  {
   "cell_type": "code",
   "execution_count": 120,
   "metadata": {},
   "outputs": [
    {
     "data": {
      "text/plain": [
       "(1000, 34)"
      ]
     },
     "execution_count": 120,
     "metadata": {},
     "output_type": "execute_result"
    }
   ],
   "source": [
    "b = best.best_model.builder.n1\n",
    "a = best.best_model.epochs\n",
    "c = round(best.best_model.optimiser.eta, digits=5)\n",
    "a,b"
   ]
  },
  {
   "cell_type": "code",
   "execution_count": 48,
   "metadata": {},
   "outputs": [],
   "source": [
    "fn = \"Figures/Grid_NN_$(param1):$(a)_x_$(param2):$(b)_bestloss:$(best_loss)_lr:$c\"\n",
    "png(replace(fn,'.' => ','))"
   ]
  },
  {
   "cell_type": "markdown",
   "metadata": {},
   "source": [
    "### GridSearch for Learning Rate"
   ]
  },
  {
   "cell_type": "code",
   "execution_count": 121,
   "metadata": {},
   "outputs": [
    {
     "data": {
      "text/plain": [
       "MLJBase.NumericRange(Float64, :(optimiser.eta), ... )"
      ]
     },
     "execution_count": 121,
     "metadata": {},
     "output_type": "execute_result"
    }
   ],
   "source": [
    "param1 = :epochs\n",
    "param2 = :(optimiser.eta)\n",
    "\n",
    "r1 = range(nn2, param1, lower=10, upper=1000, scale=:linear)\n",
    "r2 = range(nn2, param2, lower=0.00001, upper=0.01, scale=:log10)"
   ]
  },
  {
   "cell_type": "code",
   "execution_count": 122,
   "metadata": {
    "scrolled": true
   },
   "outputs": [
    {
     "data": {
      "text/plain": [
       "ProbabilisticTunedModel(\n",
       "    model = NeuralNetworkClassifier(\n",
       "            builder = \u001b[34mCustomNN @282\u001b[39m,\n",
       "            finaliser = NNlib.softmax,\n",
       "            optimiser = ADAM(0.00032, (0.9, 0.999), IdDict{Any,Any}()),\n",
       "            loss = Flux.crossentropy,\n",
       "            epochs = 1000,\n",
       "            batch_size = 16,\n",
       "            lambda = 0.0021544346900318843,\n",
       "            alpha = 0.0,\n",
       "            optimiser_changes_trigger_retraining = false),\n",
       "    tuning = Grid(\n",
       "            goal = 50,\n",
       "            resolution = 10,\n",
       "            shuffle = true,\n",
       "            rng = Random._GLOBAL_RNG()),\n",
       "    resampling = Holdout(\n",
       "            fraction_train = 0.7,\n",
       "            shuffle = false,\n",
       "            rng = Random._GLOBAL_RNG()),\n",
       "    measure = cross_entropy(\n",
       "            eps = 2.220446049250313e-16),\n",
       "    weights = nothing,\n",
       "    operation = MLJModelInterface.predict,\n",
       "    range = MLJBase.NumericRange{T,MLJBase.Bounded,Symbol} where T[\u001b[34mNumericRange{Int64,…} @873\u001b[39m, \u001b[34mNumericRange{Float64,…} @349\u001b[39m],\n",
       "    train_best = true,\n",
       "    repeats = 1,\n",
       "    n = nothing,\n",
       "    acceleration = CPUThreads{Int64}(1),\n",
       "    acceleration_resampling = CPU1{Nothing}(nothing),\n",
       "    check_measure = true)\u001b[34m @782\u001b[39m"
      ]
     },
     "execution_count": 122,
     "metadata": {},
     "output_type": "execute_result"
    }
   ],
   "source": [
    "self_tuning_nn_model = TunedModel(model=nn2,\n",
    "                                    tuning=Grid(goal=50),\n",
    "                                    resampling=Holdout(fraction_train=0.7), \n",
    "                                    measure=cross_entropy,\n",
    "                                    acceleration=CPUThreads(),\n",
    "                                    range=[r1, r2])"
   ]
  },
  {
   "cell_type": "code",
   "execution_count": 123,
   "metadata": {},
   "outputs": [
    {
     "data": {
      "text/plain": [
       "\u001b[34mMachine{ProbabilisticTunedModel{Grid,…}} @500\u001b[39m trained 0 times.\n",
       "  args: \n",
       "    1:\t\u001b[34mSource @592\u001b[39m ⏎ `Table{AbstractArray{Continuous,1}}`\n",
       "    2:\t\u001b[34mSource @327\u001b[39m ⏎ `AbstractArray{Multiclass{2},1}`\n"
      ]
     },
     "execution_count": 123,
     "metadata": {},
     "output_type": "execute_result"
    }
   ],
   "source": [
    "self_tuning_nn = machine(self_tuning_nn_model, X_stand, y)"
   ]
  },
  {
   "cell_type": "code",
   "execution_count": 124,
   "metadata": {},
   "outputs": [
    {
     "name": "stderr",
     "output_type": "stream",
     "text": [
      "┌ Info: Training \u001b[34mMachine{ProbabilisticTunedModel{Grid,…}} @500\u001b[39m.\n",
      "└ @ MLJBase /home/andrew/.julia/packages/MLJBase/uKzAz/src/machines.jl:319\n",
      "┌ Info: Attempting to evaluate 49 models.\n",
      "└ @ MLJTuning /home/andrew/.julia/packages/MLJTuning/Bbgvk/src/tuned_models.jl:494\n",
      "\u001b[33mEvaluating over 49 metamodels: 100%[=========================] Time: 0:00:54\u001b[39m\n"
     ]
    },
    {
     "data": {
      "text/plain": [
       "\u001b[34mMachine{ProbabilisticTunedModel{Grid,…}} @500\u001b[39m trained 1 time.\n",
       "  args: \n",
       "    1:\t\u001b[34mSource @592\u001b[39m ⏎ `Table{AbstractArray{Continuous,1}}`\n",
       "    2:\t\u001b[34mSource @327\u001b[39m ⏎ `AbstractArray{Multiclass{2},1}`\n"
      ]
     },
     "execution_count": 124,
     "metadata": {},
     "output_type": "execute_result"
    }
   ],
   "source": [
    "z = fit!(self_tuning_nn, rows=train)"
   ]
  },
  {
   "cell_type": "code",
   "execution_count": 125,
   "metadata": {
    "scrolled": false
   },
   "outputs": [
    {
     "data": {
      "image/svg+xml": [
       "<?xml version=\"1.0\" encoding=\"utf-8\"?>\n",
       "<svg xmlns=\"http://www.w3.org/2000/svg\" xmlns:xlink=\"http://www.w3.org/1999/xlink\" width=\"600\" height=\"400\" viewBox=\"0 0 2400 1600\">\n",
       "<defs>\n",
       "  <clipPath id=\"clip460\">\n",
       "    <rect x=\"0\" y=\"0\" width=\"2400\" height=\"1600\"/>\n",
       "  </clipPath>\n",
       "</defs>\n",
       "<path clip-path=\"url(#clip460)\" d=\"\n",
       "M0 1600 L2400 1600 L2400 0 L0 0  Z\n",
       "  \" fill=\"#ffffff\" fill-rule=\"evenodd\" fill-opacity=\"1\"/>\n",
       "<defs>\n",
       "  <clipPath id=\"clip461\">\n",
       "    <rect x=\"480\" y=\"0\" width=\"1681\" height=\"1600\"/>\n",
       "  </clipPath>\n",
       "</defs>\n",
       "<path clip-path=\"url(#clip460)\" d=\"\n",
       "M244.308 1423.18 L2112.76 1423.18 L2112.76 47.2441 L244.308 47.2441  Z\n",
       "  \" fill=\"#ffffff\" fill-rule=\"evenodd\" fill-opacity=\"1\"/>\n",
       "<defs>\n",
       "  <clipPath id=\"clip462\">\n",
       "    <rect x=\"244\" y=\"47\" width=\"1869\" height=\"1377\"/>\n",
       "  </clipPath>\n",
       "</defs>\n",
       "<polyline clip-path=\"url(#clip462)\" style=\"stroke:#000000; stroke-width:2; stroke-opacity:0.1; fill:none\" points=\"\n",
       "  279.383,1423.18 279.383,47.2441 \n",
       "  \"/>\n",
       "<polyline clip-path=\"url(#clip462)\" style=\"stroke:#000000; stroke-width:2; stroke-opacity:0.1; fill:none\" points=\"\n",
       "  724.506,1423.18 724.506,47.2441 \n",
       "  \"/>\n",
       "<polyline clip-path=\"url(#clip462)\" style=\"stroke:#000000; stroke-width:2; stroke-opacity:0.1; fill:none\" points=\"\n",
       "  1169.63,1423.18 1169.63,47.2441 \n",
       "  \"/>\n",
       "<polyline clip-path=\"url(#clip462)\" style=\"stroke:#000000; stroke-width:2; stroke-opacity:0.1; fill:none\" points=\"\n",
       "  1614.75,1423.18 1614.75,47.2441 \n",
       "  \"/>\n",
       "<polyline clip-path=\"url(#clip462)\" style=\"stroke:#000000; stroke-width:2; stroke-opacity:0.1; fill:none\" points=\"\n",
       "  2059.88,1423.18 2059.88,47.2441 \n",
       "  \"/>\n",
       "<polyline clip-path=\"url(#clip462)\" style=\"stroke:#000000; stroke-width:2; stroke-opacity:0.1; fill:none\" points=\"\n",
       "  244.308,1384.24 2112.76,1384.24 \n",
       "  \"/>\n",
       "<polyline clip-path=\"url(#clip462)\" style=\"stroke:#000000; stroke-width:2; stroke-opacity:0.1; fill:none\" points=\"\n",
       "  244.308,951.554 2112.76,951.554 \n",
       "  \"/>\n",
       "<polyline clip-path=\"url(#clip462)\" style=\"stroke:#000000; stroke-width:2; stroke-opacity:0.1; fill:none\" points=\"\n",
       "  244.308,518.87 2112.76,518.87 \n",
       "  \"/>\n",
       "<polyline clip-path=\"url(#clip462)\" style=\"stroke:#000000; stroke-width:2; stroke-opacity:0.1; fill:none\" points=\"\n",
       "  244.308,86.1857 2112.76,86.1857 \n",
       "  \"/>\n",
       "<polyline clip-path=\"url(#clip460)\" style=\"stroke:#000000; stroke-width:4; stroke-opacity:1; fill:none\" points=\"\n",
       "  244.308,1423.18 2112.76,1423.18 \n",
       "  \"/>\n",
       "<polyline clip-path=\"url(#clip460)\" style=\"stroke:#000000; stroke-width:4; stroke-opacity:1; fill:none\" points=\"\n",
       "  244.308,1423.18 244.308,47.2441 \n",
       "  \"/>\n",
       "<polyline clip-path=\"url(#clip460)\" style=\"stroke:#000000; stroke-width:4; stroke-opacity:1; fill:none\" points=\"\n",
       "  279.383,1423.18 279.383,1406.67 \n",
       "  \"/>\n",
       "<polyline clip-path=\"url(#clip460)\" style=\"stroke:#000000; stroke-width:4; stroke-opacity:1; fill:none\" points=\"\n",
       "  724.506,1423.18 724.506,1406.67 \n",
       "  \"/>\n",
       "<polyline clip-path=\"url(#clip460)\" style=\"stroke:#000000; stroke-width:4; stroke-opacity:1; fill:none\" points=\"\n",
       "  1169.63,1423.18 1169.63,1406.67 \n",
       "  \"/>\n",
       "<polyline clip-path=\"url(#clip460)\" style=\"stroke:#000000; stroke-width:4; stroke-opacity:1; fill:none\" points=\"\n",
       "  1614.75,1423.18 1614.75,1406.67 \n",
       "  \"/>\n",
       "<polyline clip-path=\"url(#clip460)\" style=\"stroke:#000000; stroke-width:4; stroke-opacity:1; fill:none\" points=\"\n",
       "  2059.88,1423.18 2059.88,1406.67 \n",
       "  \"/>\n",
       "<polyline clip-path=\"url(#clip460)\" style=\"stroke:#000000; stroke-width:4; stroke-opacity:1; fill:none\" points=\"\n",
       "  244.308,1384.24 266.729,1384.24 \n",
       "  \"/>\n",
       "<polyline clip-path=\"url(#clip460)\" style=\"stroke:#000000; stroke-width:4; stroke-opacity:1; fill:none\" points=\"\n",
       "  244.308,951.554 266.729,951.554 \n",
       "  \"/>\n",
       "<polyline clip-path=\"url(#clip460)\" style=\"stroke:#000000; stroke-width:4; stroke-opacity:1; fill:none\" points=\"\n",
       "  244.308,518.87 266.729,518.87 \n",
       "  \"/>\n",
       "<polyline clip-path=\"url(#clip460)\" style=\"stroke:#000000; stroke-width:4; stroke-opacity:1; fill:none\" points=\"\n",
       "  244.308,86.1857 266.729,86.1857 \n",
       "  \"/>\n",
       "<path clip-path=\"url(#clip460)\" d=\"M 0 0 M279.383 1445.17 Q275.772 1445.17 273.944 1448.74 Q272.138 1452.28 272.138 1459.41 Q272.138 1466.51 273.944 1470.08 Q275.772 1473.62 279.383 1473.62 Q283.018 1473.62 284.823 1470.08 Q286.652 1466.51 286.652 1459.41 Q286.652 1452.28 284.823 1448.74 Q283.018 1445.17 279.383 1445.17 M279.383 1441.47 Q285.194 1441.47 288.249 1446.07 Q291.328 1450.66 291.328 1459.41 Q291.328 1468.13 288.249 1472.74 Q285.194 1477.32 279.383 1477.32 Q273.573 1477.32 270.495 1472.74 Q267.439 1468.13 267.439 1459.41 Q267.439 1450.66 270.495 1446.07 Q273.573 1441.47 279.383 1441.47 Z\" fill=\"#000000\" fill-rule=\"evenodd\" fill-opacity=\"1\" /><path clip-path=\"url(#clip460)\" d=\"M 0 0 M692.643 1472.72 L708.962 1472.72 L708.962 1476.65 L687.018 1476.65 L687.018 1472.72 Q689.68 1469.96 694.263 1465.33 Q698.87 1460.68 700.05 1459.34 Q702.296 1456.81 703.175 1455.08 Q704.078 1453.32 704.078 1451.63 Q704.078 1448.87 702.134 1447.14 Q700.213 1445.4 697.111 1445.4 Q694.912 1445.4 692.458 1446.17 Q690.027 1446.93 687.25 1448.48 L687.25 1443.76 Q690.074 1442.62 692.527 1442.05 Q694.981 1441.47 697.018 1441.47 Q702.388 1441.47 705.583 1444.15 Q708.777 1446.84 708.777 1451.33 Q708.777 1453.46 707.967 1455.38 Q707.18 1457.28 705.074 1459.87 Q704.495 1460.54 701.393 1463.76 Q698.291 1466.95 692.643 1472.72 Z\" fill=\"#000000\" fill-rule=\"evenodd\" fill-opacity=\"1\" /><path clip-path=\"url(#clip460)\" d=\"M 0 0 M714.078 1442.09 L732.435 1442.09 L732.435 1446.03 L718.361 1446.03 L718.361 1454.5 Q719.379 1454.15 720.398 1453.99 Q721.416 1453.8 722.435 1453.8 Q728.222 1453.8 731.601 1456.98 Q734.981 1460.15 734.981 1465.56 Q734.981 1471.14 731.509 1474.24 Q728.036 1477.32 721.717 1477.32 Q719.541 1477.32 717.273 1476.95 Q715.027 1476.58 712.62 1475.84 L712.62 1471.14 Q714.703 1472.28 716.925 1472.83 Q719.148 1473.39 721.624 1473.39 Q725.629 1473.39 727.967 1471.28 Q730.305 1469.18 730.305 1465.56 Q730.305 1461.95 727.967 1459.85 Q725.629 1457.74 721.624 1457.74 Q719.749 1457.74 717.874 1458.16 Q716.023 1458.57 714.078 1459.45 L714.078 1442.09 Z\" fill=\"#000000\" fill-rule=\"evenodd\" fill-opacity=\"1\" /><path clip-path=\"url(#clip460)\" d=\"M 0 0 M750.05 1445.17 Q746.439 1445.17 744.61 1448.74 Q742.805 1452.28 742.805 1459.41 Q742.805 1466.51 744.61 1470.08 Q746.439 1473.62 750.05 1473.62 Q753.684 1473.62 755.49 1470.08 Q757.319 1466.51 757.319 1459.41 Q757.319 1452.28 755.49 1448.74 Q753.684 1445.17 750.05 1445.17 M750.05 1441.47 Q755.86 1441.47 758.916 1446.07 Q761.995 1450.66 761.995 1459.41 Q761.995 1468.13 758.916 1472.74 Q755.86 1477.32 750.05 1477.32 Q744.24 1477.32 741.161 1472.74 Q738.106 1468.13 738.106 1459.41 Q738.106 1450.66 741.161 1446.07 Q744.24 1441.47 750.05 1441.47 Z\" fill=\"#000000\" fill-rule=\"evenodd\" fill-opacity=\"1\" /><path clip-path=\"url(#clip460)\" d=\"M 0 0 M1132.89 1442.09 L1151.25 1442.09 L1151.25 1446.03 L1137.18 1446.03 L1137.18 1454.5 Q1138.19 1454.15 1139.21 1453.99 Q1140.23 1453.8 1141.25 1453.8 Q1147.04 1453.8 1150.42 1456.98 Q1153.8 1460.15 1153.8 1465.56 Q1153.8 1471.14 1150.32 1474.24 Q1146.85 1477.32 1140.53 1477.32 Q1138.36 1477.32 1136.09 1476.95 Q1133.84 1476.58 1131.44 1475.84 L1131.44 1471.14 Q1133.52 1472.28 1135.74 1472.83 Q1137.96 1473.39 1140.44 1473.39 Q1144.44 1473.39 1146.78 1471.28 Q1149.12 1469.18 1149.12 1465.56 Q1149.12 1461.95 1146.78 1459.85 Q1144.44 1457.74 1140.44 1457.74 Q1138.56 1457.74 1136.69 1458.16 Q1134.84 1458.57 1132.89 1459.45 L1132.89 1442.09 Z\" fill=\"#000000\" fill-rule=\"evenodd\" fill-opacity=\"1\" /><path clip-path=\"url(#clip460)\" d=\"M 0 0 M1168.87 1445.17 Q1165.25 1445.17 1163.43 1448.74 Q1161.62 1452.28 1161.62 1459.41 Q1161.62 1466.51 1163.43 1470.08 Q1165.25 1473.62 1168.87 1473.62 Q1172.5 1473.62 1174.31 1470.08 Q1176.13 1466.51 1176.13 1459.41 Q1176.13 1452.28 1174.31 1448.74 Q1172.5 1445.17 1168.87 1445.17 M1168.87 1441.47 Q1174.68 1441.47 1177.73 1446.07 Q1180.81 1450.66 1180.81 1459.41 Q1180.81 1468.13 1177.73 1472.74 Q1174.68 1477.32 1168.87 1477.32 Q1163.06 1477.32 1159.98 1472.74 Q1156.92 1468.13 1156.92 1459.41 Q1156.92 1450.66 1159.98 1446.07 Q1163.06 1441.47 1168.87 1441.47 Z\" fill=\"#000000\" fill-rule=\"evenodd\" fill-opacity=\"1\" /><path clip-path=\"url(#clip460)\" d=\"M 0 0 M1195.88 1445.17 Q1192.27 1445.17 1190.44 1448.74 Q1188.63 1452.28 1188.63 1459.41 Q1188.63 1466.51 1190.44 1470.08 Q1192.27 1473.62 1195.88 1473.62 Q1199.51 1473.62 1201.32 1470.08 Q1203.15 1466.51 1203.15 1459.41 Q1203.15 1452.28 1201.32 1448.74 Q1199.51 1445.17 1195.88 1445.17 M1195.88 1441.47 Q1201.69 1441.47 1204.74 1446.07 Q1207.82 1450.66 1207.82 1459.41 Q1207.82 1468.13 1204.74 1472.74 Q1201.69 1477.32 1195.88 1477.32 Q1190.07 1477.32 1186.99 1472.74 Q1183.93 1468.13 1183.93 1459.41 Q1183.93 1450.66 1186.99 1446.07 Q1190.07 1441.47 1195.88 1441.47 Z\" fill=\"#000000\" fill-rule=\"evenodd\" fill-opacity=\"1\" /><path clip-path=\"url(#clip460)\" d=\"M 0 0 M1577.13 1442.09 L1599.35 1442.09 L1599.35 1444.08 L1586.8 1476.65 L1581.92 1476.65 L1593.72 1446.03 L1577.13 1446.03 L1577.13 1442.09 Z\" fill=\"#000000\" fill-rule=\"evenodd\" fill-opacity=\"1\" /><path clip-path=\"url(#clip460)\" d=\"M 0 0 M1604.46 1442.09 L1622.82 1442.09 L1622.82 1446.03 L1608.75 1446.03 L1608.75 1454.5 Q1609.76 1454.15 1610.78 1453.99 Q1611.8 1453.8 1612.82 1453.8 Q1618.61 1453.8 1621.99 1456.98 Q1625.37 1460.15 1625.37 1465.56 Q1625.37 1471.14 1621.89 1474.24 Q1618.42 1477.32 1612.1 1477.32 Q1609.93 1477.32 1607.66 1476.95 Q1605.41 1476.58 1603 1475.84 L1603 1471.14 Q1605.09 1472.28 1607.31 1472.83 Q1609.53 1473.39 1612.01 1473.39 Q1616.01 1473.39 1618.35 1471.28 Q1620.69 1469.18 1620.69 1465.56 Q1620.69 1461.95 1618.35 1459.85 Q1616.01 1457.74 1612.01 1457.74 Q1610.13 1457.74 1608.26 1458.16 Q1606.41 1458.57 1604.46 1459.45 L1604.46 1442.09 Z\" fill=\"#000000\" fill-rule=\"evenodd\" fill-opacity=\"1\" /><path clip-path=\"url(#clip460)\" d=\"M 0 0 M1640.44 1445.17 Q1636.82 1445.17 1635 1448.74 Q1633.19 1452.28 1633.19 1459.41 Q1633.19 1466.51 1635 1470.08 Q1636.82 1473.62 1640.44 1473.62 Q1644.07 1473.62 1645.87 1470.08 Q1647.7 1466.51 1647.7 1459.41 Q1647.7 1452.28 1645.87 1448.74 Q1644.07 1445.17 1640.44 1445.17 M1640.44 1441.47 Q1646.25 1441.47 1649.3 1446.07 Q1652.38 1450.66 1652.38 1459.41 Q1652.38 1468.13 1649.3 1472.74 Q1646.25 1477.32 1640.44 1477.32 Q1634.62 1477.32 1631.55 1472.74 Q1628.49 1468.13 1628.49 1459.41 Q1628.49 1450.66 1631.55 1446.07 Q1634.62 1441.47 1640.44 1441.47 Z\" fill=\"#000000\" fill-rule=\"evenodd\" fill-opacity=\"1\" /><path clip-path=\"url(#clip460)\" d=\"M 0 0 M2009.74 1472.72 L2017.38 1472.72 L2017.38 1446.35 L2009.07 1448.02 L2009.07 1443.76 L2017.33 1442.09 L2022.01 1442.09 L2022.01 1472.72 L2029.64 1472.72 L2029.64 1476.65 L2009.74 1476.65 L2009.74 1472.72 Z\" fill=\"#000000\" fill-rule=\"evenodd\" fill-opacity=\"1\" /><path clip-path=\"url(#clip460)\" d=\"M 0 0 M2044.71 1445.17 Q2041.1 1445.17 2039.27 1448.74 Q2037.47 1452.28 2037.47 1459.41 Q2037.47 1466.51 2039.27 1470.08 Q2041.1 1473.62 2044.71 1473.62 Q2048.35 1473.62 2050.15 1470.08 Q2051.98 1466.51 2051.98 1459.41 Q2051.98 1452.28 2050.15 1448.74 Q2048.35 1445.17 2044.71 1445.17 M2044.71 1441.47 Q2050.52 1441.47 2053.58 1446.07 Q2056.66 1450.66 2056.66 1459.41 Q2056.66 1468.13 2053.58 1472.74 Q2050.52 1477.32 2044.71 1477.32 Q2038.9 1477.32 2035.82 1472.74 Q2032.77 1468.13 2032.77 1459.41 Q2032.77 1450.66 2035.82 1446.07 Q2038.9 1441.47 2044.71 1441.47 Z\" fill=\"#000000\" fill-rule=\"evenodd\" fill-opacity=\"1\" /><path clip-path=\"url(#clip460)\" d=\"M 0 0 M2071.73 1445.17 Q2068.12 1445.17 2066.29 1448.74 Q2064.48 1452.28 2064.48 1459.41 Q2064.48 1466.51 2066.29 1470.08 Q2068.12 1473.62 2071.73 1473.62 Q2075.36 1473.62 2077.17 1470.08 Q2079 1466.51 2079 1459.41 Q2079 1452.28 2077.17 1448.74 Q2075.36 1445.17 2071.73 1445.17 M2071.73 1441.47 Q2077.54 1441.47 2080.59 1446.07 Q2083.67 1450.66 2083.67 1459.41 Q2083.67 1468.13 2080.59 1472.74 Q2077.54 1477.32 2071.73 1477.32 Q2065.92 1477.32 2062.84 1472.74 Q2059.78 1468.13 2059.78 1459.41 Q2059.78 1450.66 2062.84 1446.07 Q2065.92 1441.47 2071.73 1441.47 Z\" fill=\"#000000\" fill-rule=\"evenodd\" fill-opacity=\"1\" /><path clip-path=\"url(#clip460)\" d=\"M 0 0 M2098.74 1445.17 Q2095.13 1445.17 2093.3 1448.74 Q2091.5 1452.28 2091.5 1459.41 Q2091.5 1466.51 2093.3 1470.08 Q2095.13 1473.62 2098.74 1473.62 Q2102.38 1473.62 2104.18 1470.08 Q2106.01 1466.51 2106.01 1459.41 Q2106.01 1452.28 2104.18 1448.74 Q2102.38 1445.17 2098.74 1445.17 M2098.74 1441.47 Q2104.55 1441.47 2107.61 1446.07 Q2110.69 1450.66 2110.69 1459.41 Q2110.69 1468.13 2107.61 1472.74 Q2104.55 1477.32 2098.74 1477.32 Q2092.93 1477.32 2089.85 1472.74 Q2086.8 1468.13 2086.8 1459.41 Q2086.8 1450.66 2089.85 1446.07 Q2092.93 1441.47 2098.74 1441.47 Z\" fill=\"#000000\" fill-rule=\"evenodd\" fill-opacity=\"1\" /><path clip-path=\"url(#clip460)\" d=\"M 0 0 M128.135 1404.03 L135.774 1404.03 L135.774 1377.67 L127.464 1379.33 L127.464 1375.07 L135.728 1373.41 L140.404 1373.41 L140.404 1404.03 L148.042 1404.03 L148.042 1407.97 L128.135 1407.97 L128.135 1404.03 Z\" fill=\"#000000\" fill-rule=\"evenodd\" fill-opacity=\"1\" /><path clip-path=\"url(#clip460)\" d=\"M 0 0 M163.112 1376.48 Q159.501 1376.48 157.672 1380.05 Q155.866 1383.59 155.866 1390.72 Q155.866 1397.83 157.672 1401.39 Q159.501 1404.93 163.112 1404.93 Q166.746 1404.93 168.552 1401.39 Q170.38 1397.83 170.38 1390.72 Q170.38 1383.59 168.552 1380.05 Q166.746 1376.48 163.112 1376.48 M163.112 1372.78 Q168.922 1372.78 171.978 1377.39 Q175.056 1381.97 175.056 1390.72 Q175.056 1399.45 171.978 1404.05 Q168.922 1408.64 163.112 1408.64 Q157.302 1408.64 154.223 1404.05 Q151.167 1399.45 151.167 1390.72 Q151.167 1381.97 154.223 1377.39 Q157.302 1372.78 163.112 1372.78 Z\" fill=\"#000000\" fill-rule=\"evenodd\" fill-opacity=\"1\" /><path clip-path=\"url(#clip460)\" d=\"M 0 0 M175.056 1366.88 L199.168 1366.88 L199.168 1370.08 L175.056 1370.08 L175.056 1366.88 Z\" fill=\"#000000\" fill-rule=\"evenodd\" fill-opacity=\"1\" /><path clip-path=\"url(#clip460)\" d=\"M 0 0 M203.324 1352.48 L218.239 1352.48 L218.239 1355.67 L206.804 1355.67 L206.804 1362.56 Q207.631 1362.27 208.459 1362.14 Q209.286 1361.99 210.114 1361.99 Q214.816 1361.99 217.562 1364.57 Q220.308 1367.15 220.308 1371.55 Q220.308 1376.08 217.487 1378.6 Q214.665 1381.1 209.531 1381.1 Q207.763 1381.1 205.92 1380.8 Q204.095 1380.5 202.139 1379.9 L202.139 1376.08 Q203.832 1377 205.638 1377.45 Q207.443 1377.9 209.456 1377.9 Q212.709 1377.9 214.609 1376.19 Q216.509 1374.48 216.509 1371.55 Q216.509 1368.61 214.609 1366.9 Q212.709 1365.19 209.456 1365.19 Q207.932 1365.19 206.409 1365.53 Q204.904 1365.87 203.324 1366.58 L203.324 1352.48 Z\" fill=\"#000000\" fill-rule=\"evenodd\" fill-opacity=\"1\" /><path clip-path=\"url(#clip460)\" d=\"M 0 0 M126.931 971.347 L134.57 971.347 L134.57 944.981 L126.26 946.648 L126.26 942.388 L134.524 940.722 L139.2 940.722 L139.2 971.347 L146.839 971.347 L146.839 975.282 L126.931 975.282 L126.931 971.347 Z\" fill=\"#000000\" fill-rule=\"evenodd\" fill-opacity=\"1\" /><path clip-path=\"url(#clip460)\" d=\"M 0 0 M161.908 943.8 Q158.297 943.8 156.468 947.365 Q154.663 950.907 154.663 958.036 Q154.663 965.143 156.468 968.708 Q158.297 972.249 161.908 972.249 Q165.542 972.249 167.348 968.708 Q169.177 965.143 169.177 958.036 Q169.177 950.907 167.348 947.365 Q165.542 943.8 161.908 943.8 M161.908 940.097 Q167.718 940.097 170.774 944.703 Q173.852 949.286 173.852 958.036 Q173.852 966.763 170.774 971.37 Q167.718 975.953 161.908 975.953 Q156.098 975.953 153.019 971.37 Q149.964 966.763 149.964 958.036 Q149.964 949.286 153.019 944.703 Q156.098 940.097 161.908 940.097 Z\" fill=\"#000000\" fill-rule=\"evenodd\" fill-opacity=\"1\" /><path clip-path=\"url(#clip460)\" d=\"M 0 0 M173.852 934.198 L197.964 934.198 L197.964 937.395 L173.852 937.395 L173.852 934.198 Z\" fill=\"#000000\" fill-rule=\"evenodd\" fill-opacity=\"1\" /><path clip-path=\"url(#clip460)\" d=\"M 0 0 M212.521 923.101 L202.929 938.091 L212.521 938.091 L212.521 923.101 M211.524 919.791 L216.302 919.791 L216.302 938.091 L220.308 938.091 L220.308 941.251 L216.302 941.251 L216.302 947.871 L212.521 947.871 L212.521 941.251 L199.845 941.251 L199.845 937.583 L211.524 919.791 Z\" fill=\"#000000\" fill-rule=\"evenodd\" fill-opacity=\"1\" /><path clip-path=\"url(#clip460)\" d=\"M 0 0 M127.853 538.662 L135.492 538.662 L135.492 512.297 L127.182 513.963 L127.182 509.704 L135.446 508.037 L140.121 508.037 L140.121 538.662 L147.76 538.662 L147.76 542.597 L127.853 542.597 L127.853 538.662 Z\" fill=\"#000000\" fill-rule=\"evenodd\" fill-opacity=\"1\" /><path clip-path=\"url(#clip460)\" d=\"M 0 0 M162.83 511.116 Q159.219 511.116 157.39 514.681 Q155.584 518.223 155.584 525.352 Q155.584 532.459 157.39 536.023 Q159.219 539.565 162.83 539.565 Q166.464 539.565 168.269 536.023 Q170.098 532.459 170.098 525.352 Q170.098 518.223 168.269 514.681 Q166.464 511.116 162.83 511.116 M162.83 507.412 Q168.64 507.412 171.695 512.019 Q174.774 516.602 174.774 525.352 Q174.774 534.079 171.695 538.685 Q168.64 543.269 162.83 543.269 Q157.02 543.269 153.941 538.685 Q150.885 534.079 150.885 525.352 Q150.885 516.602 153.941 512.019 Q157.02 507.412 162.83 507.412 Z\" fill=\"#000000\" fill-rule=\"evenodd\" fill-opacity=\"1\" /><path clip-path=\"url(#clip460)\" d=\"M 0 0 M174.774 501.514 L198.886 501.514 L198.886 504.711 L174.774 504.711 L174.774 501.514 Z\" fill=\"#000000\" fill-rule=\"evenodd\" fill-opacity=\"1\" /><path clip-path=\"url(#clip460)\" d=\"M 0 0 M214.515 500.047 Q217.242 500.63 218.765 502.473 Q220.308 504.316 220.308 507.024 Q220.308 511.181 217.449 513.457 Q214.59 515.732 209.324 515.732 Q207.556 515.732 205.675 515.375 Q203.813 515.037 201.82 514.341 L201.82 510.673 Q203.4 511.595 205.28 512.065 Q207.161 512.535 209.211 512.535 Q212.785 512.535 214.647 511.125 Q216.527 509.714 216.527 507.024 Q216.527 504.542 214.778 503.15 Q213.048 501.74 209.945 501.74 L206.672 501.74 L206.672 498.617 L210.095 498.617 Q212.897 498.617 214.383 497.508 Q215.869 496.379 215.869 494.273 Q215.869 492.11 214.327 490.963 Q212.803 489.797 209.945 489.797 Q208.384 489.797 206.597 490.135 Q204.81 490.474 202.666 491.188 L202.666 487.803 Q204.829 487.201 206.71 486.9 Q208.609 486.599 210.283 486.599 Q214.609 486.599 217.129 488.574 Q219.649 490.53 219.649 493.878 Q219.649 496.21 218.314 497.827 Q216.979 499.426 214.515 500.047 Z\" fill=\"#000000\" fill-rule=\"evenodd\" fill-opacity=\"1\" /><path clip-path=\"url(#clip460)\" d=\"M 0 0 M128.624 105.978 L136.263 105.978 L136.263 79.6125 L127.953 81.2792 L127.953 77.0199 L136.217 75.3533 L140.893 75.3533 L140.893 105.978 L148.531 105.978 L148.531 109.913 L128.624 109.913 L128.624 105.978 Z\" fill=\"#000000\" fill-rule=\"evenodd\" fill-opacity=\"1\" /><path clip-path=\"url(#clip460)\" d=\"M 0 0 M163.601 78.432 Q159.99 78.432 158.161 81.9968 Q156.355 85.5384 156.355 92.668 Q156.355 99.7744 158.161 103.339 Q159.99 106.881 163.601 106.881 Q167.235 106.881 169.041 103.339 Q170.869 99.7744 170.869 92.668 Q170.869 85.5384 169.041 81.9968 Q167.235 78.432 163.601 78.432 M163.601 74.7283 Q169.411 74.7283 172.467 79.3347 Q175.545 83.918 175.545 92.668 Q175.545 101.395 172.467 106.001 Q169.411 110.585 163.601 110.585 Q157.791 110.585 154.712 106.001 Q151.656 101.395 151.656 92.668 Q151.656 83.918 154.712 79.3347 Q157.791 74.7283 163.601 74.7283 Z\" fill=\"#000000\" fill-rule=\"evenodd\" fill-opacity=\"1\" /><path clip-path=\"url(#clip460)\" d=\"M 0 0 M175.545 68.8296 L199.657 68.8296 L199.657 72.0269 L175.545 72.0269 L175.545 68.8296 Z\" fill=\"#000000\" fill-rule=\"evenodd\" fill-opacity=\"1\" /><path clip-path=\"url(#clip460)\" d=\"M 0 0 M207.048 79.3056 L220.308 79.3056 L220.308 82.5029 L202.478 82.5029 L202.478 79.3056 Q204.641 77.0674 208.365 73.3059 Q212.107 69.5255 213.067 68.4347 Q214.891 66.3846 215.606 64.974 Q216.339 63.5446 216.339 62.1717 Q216.339 59.9335 214.759 58.523 Q213.198 57.1124 210.678 57.1124 Q208.891 57.1124 206.898 57.733 Q204.923 58.3537 202.666 59.6138 L202.666 55.777 Q204.961 54.8555 206.954 54.3853 Q208.948 53.9151 210.603 53.9151 Q214.966 53.9151 217.562 56.0968 Q220.157 58.2785 220.157 61.9272 Q220.157 63.6575 219.499 65.2185 Q218.859 66.7608 217.148 68.8672 Q216.678 69.4127 214.158 72.0269 Q211.637 74.6224 207.048 79.3056 Z\" fill=\"#000000\" fill-rule=\"evenodd\" fill-opacity=\"1\" /><path clip-path=\"url(#clip460)\" d=\"M 0 0 M1108.81 1536.76 L1108.81 1539.62 L1081.88 1539.62 Q1082.27 1545.67 1085.51 1548.85 Q1088.79 1552 1094.62 1552 Q1097.99 1552 1101.14 1551.17 Q1104.32 1550.35 1107.44 1548.69 L1107.44 1554.23 Q1104.29 1555.57 1100.98 1556.27 Q1097.67 1556.97 1094.27 1556.97 Q1085.74 1556.97 1080.74 1552 Q1075.77 1547.04 1075.77 1538.57 Q1075.77 1529.82 1080.48 1524.69 Q1085.23 1519.54 1093.25 1519.54 Q1100.44 1519.54 1104.61 1524.18 Q1108.81 1528.8 1108.81 1536.76 M1102.95 1535.04 Q1102.89 1530.23 1100.25 1527.37 Q1097.64 1524.5 1093.31 1524.5 Q1088.41 1524.5 1085.45 1527.27 Q1082.52 1530.04 1082.08 1535.07 L1102.95 1535.04 Z\" fill=\"#000000\" fill-rule=\"evenodd\" fill-opacity=\"1\" /><path clip-path=\"url(#clip460)\" d=\"M 0 0 M1120.62 1550.7 L1120.62 1569.6 L1114.73 1569.6 L1114.73 1520.4 L1120.62 1520.4 L1120.62 1525.81 Q1122.47 1522.62 1125.27 1521.1 Q1128.1 1519.54 1132.01 1519.54 Q1138.51 1519.54 1142.55 1524.69 Q1146.62 1529.85 1146.62 1538.25 Q1146.62 1546.65 1142.55 1551.81 Q1138.51 1556.97 1132.01 1556.97 Q1128.1 1556.97 1125.27 1555.44 Q1122.47 1553.88 1120.62 1550.7 M1140.54 1538.25 Q1140.54 1531.79 1137.87 1528.13 Q1135.23 1524.44 1130.58 1524.44 Q1125.94 1524.44 1123.26 1528.13 Q1120.62 1531.79 1120.62 1538.25 Q1120.62 1544.71 1123.26 1548.4 Q1125.94 1552.07 1130.58 1552.07 Q1135.23 1552.07 1137.87 1548.4 Q1140.54 1544.71 1140.54 1538.25 Z\" fill=\"#000000\" fill-rule=\"evenodd\" fill-opacity=\"1\" /><path clip-path=\"url(#clip460)\" d=\"M 0 0 M1166.58 1524.5 Q1161.87 1524.5 1159.13 1528.19 Q1156.4 1531.85 1156.4 1538.25 Q1156.4 1544.65 1159.1 1548.34 Q1161.84 1552 1166.58 1552 Q1171.26 1552 1174 1548.31 Q1176.73 1544.62 1176.73 1538.25 Q1176.73 1531.92 1174 1528.23 Q1171.26 1524.5 1166.58 1524.5 M1166.58 1519.54 Q1174.22 1519.54 1178.58 1524.5 Q1182.94 1529.47 1182.94 1538.25 Q1182.94 1547 1178.58 1552 Q1174.22 1556.97 1166.58 1556.97 Q1158.91 1556.97 1154.55 1552 Q1150.22 1547 1150.22 1538.25 Q1150.22 1529.47 1154.55 1524.5 Q1158.91 1519.54 1166.58 1519.54 Z\" fill=\"#000000\" fill-rule=\"evenodd\" fill-opacity=\"1\" /><path clip-path=\"url(#clip460)\" d=\"M 0 0 M1214.74 1521.76 L1214.74 1527.24 Q1212.25 1525.87 1209.74 1525.2 Q1207.26 1524.5 1204.71 1524.5 Q1199.01 1524.5 1195.86 1528.13 Q1192.71 1531.73 1192.71 1538.25 Q1192.71 1544.78 1195.86 1548.4 Q1199.01 1552 1204.71 1552 Q1207.26 1552 1209.74 1551.33 Q1212.25 1550.63 1214.74 1549.26 L1214.74 1554.68 Q1212.29 1555.82 1209.64 1556.39 Q1207.03 1556.97 1204.07 1556.97 Q1196.02 1556.97 1191.28 1551.91 Q1186.54 1546.85 1186.54 1538.25 Q1186.54 1529.53 1191.31 1524.53 Q1196.12 1519.54 1204.46 1519.54 Q1207.16 1519.54 1209.74 1520.11 Q1212.32 1520.65 1214.74 1521.76 Z\" fill=\"#000000\" fill-rule=\"evenodd\" fill-opacity=\"1\" /><path clip-path=\"url(#clip460)\" d=\"M 0 0 M1250.51 1534.53 L1250.51 1556.04 L1244.66 1556.04 L1244.66 1534.72 Q1244.66 1529.66 1242.68 1527.14 Q1240.71 1524.63 1236.76 1524.63 Q1232.02 1524.63 1229.28 1527.65 Q1226.55 1530.68 1226.55 1535.9 L1226.55 1556.04 L1220.66 1556.04 L1220.66 1506.52 L1226.55 1506.52 L1226.55 1525.93 Q1228.65 1522.72 1231.48 1521.13 Q1234.34 1519.54 1238.07 1519.54 Q1244.21 1519.54 1247.36 1523.36 Q1250.51 1527.14 1250.51 1534.53 Z\" fill=\"#000000\" fill-rule=\"evenodd\" fill-opacity=\"1\" /><path clip-path=\"url(#clip460)\" d=\"M 0 0 M1279.38 1521.45 L1279.38 1526.98 Q1276.9 1525.71 1274.22 1525.07 Q1271.55 1524.44 1268.69 1524.44 Q1264.33 1524.44 1262.13 1525.77 Q1259.97 1527.11 1259.97 1529.79 Q1259.97 1531.82 1261.52 1533 Q1263.08 1534.15 1267.79 1535.2 L1269.8 1535.64 Q1276.04 1536.98 1278.65 1539.43 Q1281.29 1541.85 1281.29 1546.21 Q1281.29 1551.17 1277.34 1554.07 Q1273.43 1556.97 1266.55 1556.97 Q1263.69 1556.97 1260.57 1556.39 Q1257.48 1555.85 1254.04 1554.74 L1254.04 1548.69 Q1257.29 1550.38 1260.44 1551.24 Q1263.59 1552.07 1266.68 1552.07 Q1270.82 1552.07 1273.05 1550.66 Q1275.27 1549.23 1275.27 1546.65 Q1275.27 1544.27 1273.65 1542.99 Q1272.06 1541.72 1266.62 1540.54 L1264.58 1540.07 Q1259.14 1538.92 1256.72 1536.56 Q1254.3 1534.18 1254.3 1530.04 Q1254.3 1525.01 1257.86 1522.27 Q1261.43 1519.54 1267.99 1519.54 Q1271.23 1519.54 1274.1 1520.01 Q1276.96 1520.49 1279.38 1521.45 Z\" fill=\"#000000\" fill-rule=\"evenodd\" fill-opacity=\"1\" /><path clip-path=\"url(#clip460)\" d=\"M 0 0 M56.4621 905.383 Q56.4621 910.094 60.1542 912.831 Q63.8145 915.568 70.212 915.568 Q76.6095 915.568 80.3017 912.863 Q83.9619 910.126 83.9619 905.383 Q83.9619 900.704 80.2698 897.967 Q76.5777 895.23 70.212 895.23 Q63.8781 895.23 60.186 897.967 Q56.4621 900.704 56.4621 905.383 M51.4968 905.383 Q51.4968 897.744 56.4621 893.384 Q61.4273 889.023 70.212 889.023 Q78.9649 889.023 83.9619 893.384 Q88.9272 897.744 88.9272 905.383 Q88.9272 913.054 83.9619 917.414 Q78.9649 921.743 70.212 921.743 Q61.4273 921.743 56.4621 917.414 Q51.4968 913.054 51.4968 905.383 Z\" fill=\"#000000\" fill-rule=\"evenodd\" fill-opacity=\"1\" /><path clip-path=\"url(#clip460)\" d=\"M 0 0 M82.657 877.215 L101.563 877.215 L101.563 883.103 L52.3562 883.103 L52.3562 877.215 L57.7671 877.215 Q54.5842 875.369 53.0564 872.568 Q51.4968 869.735 51.4968 865.82 Q51.4968 859.327 56.6531 855.285 Q61.8093 851.211 70.212 851.211 Q78.6147 851.211 83.771 855.285 Q88.9272 859.327 88.9272 865.82 Q88.9272 869.735 87.3994 872.568 Q85.8398 875.369 82.657 877.215 M70.212 857.29 Q63.7508 857.29 60.0905 859.964 Q56.3984 862.606 56.3984 867.253 Q56.3984 871.9 60.0905 874.573 Q63.7508 877.215 70.212 877.215 Q76.6732 877.215 80.3653 874.573 Q84.0256 871.9 84.0256 867.253 Q84.0256 862.606 80.3653 859.964 Q76.6732 857.29 70.212 857.29 Z\" fill=\"#000000\" fill-rule=\"evenodd\" fill-opacity=\"1\" /><path clip-path=\"url(#clip460)\" d=\"M 0 0 M42.2347 839.275 L52.3562 839.275 L52.3562 827.212 L56.9077 827.212 L56.9077 839.275 L76.2594 839.275 Q80.6199 839.275 81.8613 838.098 Q83.1026 836.888 83.1026 833.228 L83.1026 827.212 L88.0042 827.212 L88.0042 833.228 Q88.0042 840.007 85.4897 842.586 Q82.9434 845.164 76.2594 845.164 L56.9077 845.164 L56.9077 849.46 L52.3562 849.46 L52.3562 845.164 L42.2347 845.164 L42.2347 839.275 Z\" fill=\"#000000\" fill-rule=\"evenodd\" fill-opacity=\"1\" /><path clip-path=\"url(#clip460)\" d=\"M 0 0 M52.3562 821.069 L52.3562 815.213 L88.0042 815.213 L88.0042 821.069 L52.3562 821.069 M38.479 821.069 L38.479 815.213 L45.895 815.213 L45.895 821.069 L38.479 821.069 Z\" fill=\"#000000\" fill-rule=\"evenodd\" fill-opacity=\"1\" /><path clip-path=\"url(#clip460)\" d=\"M 0 0 M59.1993 781.316 Q55.2526 779.119 53.3747 776.064 Q51.4968 773.008 51.4968 768.871 Q51.4968 763.301 55.4117 760.277 Q59.2948 757.253 66.4881 757.253 L88.0042 757.253 L88.0042 763.142 L66.679 763.142 Q61.5546 763.142 59.072 764.956 Q56.5894 766.77 56.5894 770.494 Q56.5894 775.045 59.6131 777.687 Q62.6368 780.329 67.8567 780.329 L88.0042 780.329 L88.0042 786.217 L66.679 786.217 Q61.5228 786.217 59.072 788.031 Q56.5894 789.846 56.5894 793.633 Q56.5894 798.121 59.6449 800.763 Q62.6686 803.405 67.8567 803.405 L88.0042 803.405 L88.0042 809.293 L52.3562 809.293 L52.3562 803.405 L57.8944 803.405 Q54.616 801.399 53.0564 798.598 Q51.4968 795.798 51.4968 791.946 Q51.4968 788.063 53.4702 785.358 Q55.4436 782.621 59.1993 781.316 Z\" fill=\"#000000\" fill-rule=\"evenodd\" fill-opacity=\"1\" /><path clip-path=\"url(#clip460)\" d=\"M 0 0 M52.3562 751.11 L52.3562 745.254 L88.0042 745.254 L88.0042 751.11 L52.3562 751.11 M38.479 751.11 L38.479 745.254 L45.895 745.254 L45.895 751.11 L38.479 751.11 Z\" fill=\"#000000\" fill-rule=\"evenodd\" fill-opacity=\"1\" /><path clip-path=\"url(#clip460)\" d=\"M 0 0 M53.4065 716.385 L58.9447 716.385 Q57.6716 718.868 57.035 721.542 Q56.3984 724.215 56.3984 727.08 Q56.3984 731.44 57.7352 733.636 Q59.072 735.801 61.7456 735.801 Q63.7826 735.801 64.9603 734.241 Q66.1061 732.682 67.1565 727.971 L67.6021 725.966 Q68.9389 719.727 71.3897 717.117 Q73.8086 714.476 78.1691 714.476 Q83.1344 714.476 86.0308 718.422 Q88.9272 722.337 88.9272 729.212 Q88.9272 732.077 88.3543 735.196 Q87.8132 738.283 86.6992 741.721 L80.6518 741.721 Q82.3387 738.474 83.198 735.323 Q84.0256 732.172 84.0256 729.085 Q84.0256 724.947 82.6251 722.719 Q81.1929 720.491 78.6147 720.491 Q76.2276 720.491 74.9545 722.115 Q73.6813 723.706 72.5037 729.149 L72.0262 731.186 Q70.8804 736.628 68.5251 739.047 Q66.138 741.466 62.0002 741.466 Q56.9713 741.466 54.2341 737.901 Q51.4968 734.337 51.4968 727.78 Q51.4968 724.533 51.9743 721.669 Q52.4517 718.804 53.4065 716.385 Z\" fill=\"#000000\" fill-rule=\"evenodd\" fill-opacity=\"1\" /><path clip-path=\"url(#clip460)\" d=\"M 0 0 M68.7161 677.841 L71.5806 677.841 L71.5806 704.768 Q77.6281 704.386 80.8109 701.14 Q83.9619 697.861 83.9619 692.037 Q83.9619 688.663 83.1344 685.512 Q82.3069 682.329 80.6518 679.21 L86.1899 679.21 Q87.5267 682.361 88.227 685.671 Q88.9272 688.981 88.9272 692.387 Q88.9272 700.917 83.9619 705.914 Q78.9967 710.879 70.5303 710.879 Q61.7774 710.879 56.6531 706.168 Q51.4968 701.426 51.4968 693.405 Q51.4968 686.212 56.1438 682.042 Q60.7589 677.841 68.7161 677.841 M66.9973 683.697 Q62.1912 683.761 59.3266 686.403 Q56.4621 689.013 56.4621 693.342 Q56.4621 698.243 59.2312 701.203 Q62.0002 704.131 67.0292 704.577 L66.9973 683.697 Z\" fill=\"#000000\" fill-rule=\"evenodd\" fill-opacity=\"1\" /><path clip-path=\"url(#clip460)\" d=\"M 0 0 M57.8307 651.041 Q57.2578 652.028 57.0032 653.206 Q56.7167 654.352 56.7167 655.752 Q56.7167 660.717 59.9632 663.391 Q63.1779 666.033 69.2253 666.033 L88.0042 666.033 L88.0042 671.921 L52.3562 671.921 L52.3562 666.033 L57.8944 666.033 Q54.6479 664.187 53.0883 661.227 Q51.4968 658.266 51.4968 654.033 Q51.4968 653.429 51.5923 652.696 Q51.656 651.964 51.8151 651.073 L57.8307 651.041 Z\" fill=\"#000000\" fill-rule=\"evenodd\" fill-opacity=\"1\" /><path clip-path=\"url(#clip460)\" d=\"M 0 0 M79.9197 650.055 L79.9197 643.339 L88.0042 643.339 L88.0042 650.055 L79.9197 650.055 Z\" fill=\"#000000\" fill-rule=\"evenodd\" fill-opacity=\"1\" /><path clip-path=\"url(#clip460)\" d=\"M 0 0 M68.7161 606.704 L71.5806 606.704 L71.5806 633.631 Q77.6281 633.249 80.8109 630.003 Q83.9619 626.724 83.9619 620.9 Q83.9619 617.526 83.1344 614.375 Q82.3069 611.192 80.6518 608.073 L86.1899 608.073 Q87.5267 611.224 88.227 614.534 Q88.9272 617.844 88.9272 621.25 Q88.9272 629.78 83.9619 634.777 Q78.9967 639.742 70.5303 639.742 Q61.7774 639.742 56.6531 635.032 Q51.4968 630.289 51.4968 622.268 Q51.4968 615.075 56.1438 610.906 Q60.7589 606.704 68.7161 606.704 M66.9973 612.561 Q62.1912 612.624 59.3266 615.266 Q56.4621 617.876 56.4621 622.205 Q56.4621 627.106 59.2312 630.066 Q62.0002 632.995 67.0292 633.44 L66.9973 612.561 Z\" fill=\"#000000\" fill-rule=\"evenodd\" fill-opacity=\"1\" /><path clip-path=\"url(#clip460)\" d=\"M 0 0 M42.2347 594.769 L52.3562 594.769 L52.3562 582.706 L56.9077 582.706 L56.9077 594.769 L76.2594 594.769 Q80.6199 594.769 81.8613 593.591 Q83.1026 592.381 83.1026 588.721 L83.1026 582.706 L88.0042 582.706 L88.0042 588.721 Q88.0042 595.501 85.4897 598.079 Q82.9434 600.657 76.2594 600.657 L56.9077 600.657 L56.9077 604.954 L52.3562 604.954 L52.3562 600.657 L42.2347 600.657 L42.2347 594.769 Z\" fill=\"#000000\" fill-rule=\"evenodd\" fill-opacity=\"1\" /><path clip-path=\"url(#clip460)\" d=\"M 0 0 M70.0847 560.362 Q70.0847 567.46 71.7079 570.197 Q73.3312 572.934 77.2461 572.934 Q80.3653 572.934 82.2114 570.897 Q84.0256 568.828 84.0256 565.295 Q84.0256 560.426 80.5881 557.497 Q77.1188 554.537 71.3897 554.537 L70.0847 554.537 L70.0847 560.362 M67.6657 548.681 L88.0042 548.681 L88.0042 554.537 L82.5933 554.537 Q85.8398 556.542 87.3994 559.534 Q88.9272 562.526 88.9272 566.855 Q88.9272 572.329 85.8716 575.576 Q82.7843 578.791 77.6281 578.791 Q71.6125 578.791 68.5569 574.78 Q65.5014 570.738 65.5014 562.749 L65.5014 554.537 L64.9285 554.537 Q60.8862 554.537 58.6901 557.211 Q56.4621 559.853 56.4621 564.659 Q56.4621 567.714 57.1941 570.611 Q57.9262 573.507 59.3903 576.181 L53.9795 576.181 Q52.7381 572.966 52.1334 569.942 Q51.4968 566.919 51.4968 564.054 Q51.4968 556.32 55.5072 552.5 Q59.5176 548.681 67.6657 548.681 Z\" fill=\"#000000\" fill-rule=\"evenodd\" fill-opacity=\"1\" /><circle clip-path=\"url(#clip462)\" cx=\"1766.09\" cy=\"86.1857\" r=\"4\" fill=\"#000005\" fill-rule=\"evenodd\" fill-opacity=\"1\" stroke=\"#000000\" stroke-opacity=\"1\" stroke-width=\"3.2\"/>\n",
       "<circle clip-path=\"url(#clip462)\" cx=\"1472.31\" cy=\"302.528\" r=\"4\" fill=\"#000005\" fill-rule=\"evenodd\" fill-opacity=\"1\" stroke=\"#000000\" stroke-opacity=\"1\" stroke-width=\"3.2\"/>\n",
       "<circle clip-path=\"url(#clip462)\" cx=\"1472.31\" cy=\"951.554\" r=\"4\" fill=\"#000005\" fill-rule=\"evenodd\" fill-opacity=\"1\" stroke=\"#000000\" stroke-opacity=\"1\" stroke-width=\"3.2\"/>\n",
       "<circle clip-path=\"url(#clip462)\" cx=\"1766.09\" cy=\"951.554\" r=\"4\" fill=\"#000006\" fill-rule=\"evenodd\" fill-opacity=\"1\" stroke=\"#000000\" stroke-opacity=\"1\" stroke-width=\"3.2\"/>\n",
       "<circle clip-path=\"url(#clip462)\" cx=\"1178.53\" cy=\"1167.9\" r=\"9\" fill=\"#120a32\" fill-rule=\"evenodd\" fill-opacity=\"1\" stroke=\"#000000\" stroke-opacity=\"1\" stroke-width=\"3.2\"/>\n",
       "<circle clip-path=\"url(#clip462)\" cx=\"1178.53\" cy=\"302.528\" r=\"9\" fill=\"#120a32\" fill-rule=\"evenodd\" fill-opacity=\"1\" stroke=\"#000000\" stroke-opacity=\"1\" stroke-width=\"3.2\"/>\n",
       "<circle clip-path=\"url(#clip462)\" cx=\"297.188\" cy=\"1167.9\" r=\"57\" fill=\"#f3e259\" fill-rule=\"evenodd\" fill-opacity=\"1\" stroke=\"#000000\" stroke-opacity=\"1\" stroke-width=\"3.2\"/>\n",
       "<circle clip-path=\"url(#clip462)\" cx=\"884.751\" cy=\"518.87\" r=\"3\" fill=\"#000004\" fill-rule=\"evenodd\" fill-opacity=\"1\" stroke=\"#000000\" stroke-opacity=\"1\" stroke-width=\"3.2\"/>\n",
       "<circle clip-path=\"url(#clip462)\" cx=\"1178.53\" cy=\"951.554\" r=\"3\" fill=\"#000004\" fill-rule=\"evenodd\" fill-opacity=\"1\" stroke=\"#000000\" stroke-opacity=\"1\" stroke-width=\"3.2\"/>\n",
       "<circle clip-path=\"url(#clip462)\" cx=\"2059.88\" cy=\"1167.9\" r=\"3\" fill=\"#000003\" fill-rule=\"evenodd\" fill-opacity=\"1\" stroke=\"#000000\" stroke-opacity=\"1\" stroke-width=\"3.2\"/>\n",
       "<circle clip-path=\"url(#clip462)\" cx=\"1766.09\" cy=\"1384.24\" r=\"16\" fill=\"#3f0966\" fill-rule=\"evenodd\" fill-opacity=\"1\" stroke=\"#000000\" stroke-opacity=\"1\" stroke-width=\"3.2\"/>\n",
       "<circle clip-path=\"url(#clip462)\" cx=\"1472.31\" cy=\"1384.24\" r=\"22\" fill=\"#67166e\" fill-rule=\"evenodd\" fill-opacity=\"1\" stroke=\"#000000\" stroke-opacity=\"1\" stroke-width=\"3.2\"/>\n",
       "<circle clip-path=\"url(#clip462)\" cx=\"1178.53\" cy=\"86.1857\" r=\"3\" fill=\"#000004\" fill-rule=\"evenodd\" fill-opacity=\"1\" stroke=\"#000000\" stroke-opacity=\"1\" stroke-width=\"3.2\"/>\n",
       "<circle clip-path=\"url(#clip462)\" cx=\"590.969\" cy=\"951.554\" r=\"10\" fill=\"#150b37\" fill-rule=\"evenodd\" fill-opacity=\"1\" stroke=\"#000000\" stroke-opacity=\"1\" stroke-width=\"3.2\"/>\n",
       "<circle clip-path=\"url(#clip462)\" cx=\"590.969\" cy=\"735.212\" r=\"10\" fill=\"#150b37\" fill-rule=\"evenodd\" fill-opacity=\"1\" stroke=\"#000000\" stroke-opacity=\"1\" stroke-width=\"3.2\"/>\n",
       "<circle clip-path=\"url(#clip462)\" cx=\"2059.88\" cy=\"302.528\" r=\"4\" fill=\"#000006\" fill-rule=\"evenodd\" fill-opacity=\"1\" stroke=\"#000000\" stroke-opacity=\"1\" stroke-width=\"3.2\"/>\n",
       "<circle clip-path=\"url(#clip462)\" cx=\"1766.09\" cy=\"735.212\" r=\"3\" fill=\"#000004\" fill-rule=\"evenodd\" fill-opacity=\"1\" stroke=\"#000000\" stroke-opacity=\"1\" stroke-width=\"3.2\"/>\n",
       "<circle clip-path=\"url(#clip462)\" cx=\"1178.53\" cy=\"518.87\" r=\"3\" fill=\"#000003\" fill-rule=\"evenodd\" fill-opacity=\"1\" stroke=\"#000000\" stroke-opacity=\"1\" stroke-width=\"3.2\"/>\n",
       "<circle clip-path=\"url(#clip462)\" cx=\"590.969\" cy=\"302.528\" r=\"3\" fill=\"#000004\" fill-rule=\"evenodd\" fill-opacity=\"1\" stroke=\"#000000\" stroke-opacity=\"1\" stroke-width=\"3.2\"/>\n",
       "<circle clip-path=\"url(#clip462)\" cx=\"297.188\" cy=\"86.1857\" r=\"4\" fill=\"#010108\" fill-rule=\"evenodd\" fill-opacity=\"1\" stroke=\"#000000\" stroke-opacity=\"1\" stroke-width=\"3.2\"/>\n",
       "<circle clip-path=\"url(#clip462)\" cx=\"1472.31\" cy=\"1167.9\" r=\"4\" fill=\"#000006\" fill-rule=\"evenodd\" fill-opacity=\"1\" stroke=\"#000000\" stroke-opacity=\"1\" stroke-width=\"3.2\"/>\n",
       "<circle clip-path=\"url(#clip462)\" cx=\"1472.31\" cy=\"735.212\" r=\"4\" fill=\"#000006\" fill-rule=\"evenodd\" fill-opacity=\"1\" stroke=\"#000000\" stroke-opacity=\"1\" stroke-width=\"3.2\"/>\n",
       "<circle clip-path=\"url(#clip462)\" cx=\"1766.09\" cy=\"518.87\" r=\"3\" fill=\"#000004\" fill-rule=\"evenodd\" fill-opacity=\"1\" stroke=\"#000000\" stroke-opacity=\"1\" stroke-width=\"3.2\"/>\n",
       "<circle clip-path=\"url(#clip462)\" cx=\"590.969\" cy=\"518.87\" r=\"3\" fill=\"#000004\" fill-rule=\"evenodd\" fill-opacity=\"1\" stroke=\"#000000\" stroke-opacity=\"1\" stroke-width=\"3.2\"/>\n",
       "<circle clip-path=\"url(#clip462)\" cx=\"297.188\" cy=\"1384.24\" r=\"61\" fill=\"#fcfea4\" fill-rule=\"evenodd\" fill-opacity=\"1\" stroke=\"#000000\" stroke-opacity=\"1\" stroke-width=\"3.2\"/>\n",
       "<circle clip-path=\"url(#clip462)\" cx=\"2059.88\" cy=\"1384.24\" r=\"16\" fill=\"#3e0966\" fill-rule=\"evenodd\" fill-opacity=\"1\" stroke=\"#000000\" stroke-opacity=\"1\" stroke-width=\"3.2\"/>\n",
       "<circle clip-path=\"url(#clip462)\" cx=\"884.751\" cy=\"302.528\" r=\"3\" fill=\"#000004\" fill-rule=\"evenodd\" fill-opacity=\"1\" stroke=\"#000000\" stroke-opacity=\"1\" stroke-width=\"3.2\"/>\n",
       "<circle clip-path=\"url(#clip462)\" cx=\"884.751\" cy=\"735.212\" r=\"3\" fill=\"#000004\" fill-rule=\"evenodd\" fill-opacity=\"1\" stroke=\"#000000\" stroke-opacity=\"1\" stroke-width=\"3.2\"/>\n",
       "<circle clip-path=\"url(#clip462)\" cx=\"2059.88\" cy=\"951.554\" r=\"3\" fill=\"#000004\" fill-rule=\"evenodd\" fill-opacity=\"1\" stroke=\"#000000\" stroke-opacity=\"1\" stroke-width=\"3.2\"/>\n",
       "<circle clip-path=\"url(#clip462)\" cx=\"884.751\" cy=\"951.554\" r=\"6\" fill=\"#040314\" fill-rule=\"evenodd\" fill-opacity=\"1\" stroke=\"#000000\" stroke-opacity=\"1\" stroke-width=\"3.2\"/>\n",
       "<circle clip-path=\"url(#clip462)\" cx=\"1766.09\" cy=\"1167.9\" r=\"4\" fill=\"#01010b\" fill-rule=\"evenodd\" fill-opacity=\"1\" stroke=\"#000000\" stroke-opacity=\"1\" stroke-width=\"3.2\"/>\n",
       "<circle clip-path=\"url(#clip462)\" cx=\"1766.09\" cy=\"302.528\" r=\"4\" fill=\"#01010b\" fill-rule=\"evenodd\" fill-opacity=\"1\" stroke=\"#000000\" stroke-opacity=\"1\" stroke-width=\"3.2\"/>\n",
       "<circle clip-path=\"url(#clip462)\" cx=\"297.188\" cy=\"518.87\" r=\"16\" fill=\"#3a0963\" fill-rule=\"evenodd\" fill-opacity=\"1\" stroke=\"#000000\" stroke-opacity=\"1\" stroke-width=\"3.2\"/>\n",
       "<circle clip-path=\"url(#clip462)\" cx=\"590.969\" cy=\"1384.24\" r=\"13\" fill=\"#280b53\" fill-rule=\"evenodd\" fill-opacity=\"1\" stroke=\"#000000\" stroke-opacity=\"1\" stroke-width=\"3.2\"/>\n",
       "<circle clip-path=\"url(#clip462)\" cx=\"884.751\" cy=\"1384.24\" r=\"11\" fill=\"#1c0c42\" fill-rule=\"evenodd\" fill-opacity=\"1\" stroke=\"#000000\" stroke-opacity=\"1\" stroke-width=\"3.2\"/>\n",
       "<circle clip-path=\"url(#clip462)\" cx=\"297.188\" cy=\"951.554\" r=\"49\" fill=\"#f98f08\" fill-rule=\"evenodd\" fill-opacity=\"1\" stroke=\"#000000\" stroke-opacity=\"1\" stroke-width=\"3.2\"/>\n",
       "<circle clip-path=\"url(#clip462)\" cx=\"1178.53\" cy=\"735.212\" r=\"3\" fill=\"#000005\" fill-rule=\"evenodd\" fill-opacity=\"1\" stroke=\"#000000\" stroke-opacity=\"1\" stroke-width=\"3.2\"/>\n",
       "<circle clip-path=\"url(#clip462)\" cx=\"2059.88\" cy=\"86.1857\" r=\"3\" fill=\"#000005\" fill-rule=\"evenodd\" fill-opacity=\"1\" stroke=\"#000000\" stroke-opacity=\"1\" stroke-width=\"3.2\"/>\n",
       "<circle clip-path=\"url(#clip462)\" cx=\"1472.31\" cy=\"518.87\" r=\"3\" fill=\"#000004\" fill-rule=\"evenodd\" fill-opacity=\"1\" stroke=\"#000000\" stroke-opacity=\"1\" stroke-width=\"3.2\"/>\n",
       "<circle clip-path=\"url(#clip462)\" cx=\"1178.53\" cy=\"1384.24\" r=\"26\" fill=\"#7f1e6c\" fill-rule=\"evenodd\" fill-opacity=\"1\" stroke=\"#000000\" stroke-opacity=\"1\" stroke-width=\"3.2\"/>\n",
       "<circle clip-path=\"url(#clip462)\" cx=\"590.969\" cy=\"86.1857\" r=\"3\" fill=\"#000003\" fill-rule=\"evenodd\" fill-opacity=\"1\" stroke=\"#000000\" stroke-opacity=\"1\" stroke-width=\"3.2\"/>\n",
       "<circle clip-path=\"url(#clip462)\" cx=\"297.188\" cy=\"735.212\" r=\"35\" fill=\"#ba3654\" fill-rule=\"evenodd\" fill-opacity=\"1\" stroke=\"#000000\" stroke-opacity=\"1\" stroke-width=\"3.2\"/>\n",
       "<circle clip-path=\"url(#clip462)\" cx=\"590.969\" cy=\"1167.9\" r=\"17\" fill=\"#410967\" fill-rule=\"evenodd\" fill-opacity=\"1\" stroke=\"#000000\" stroke-opacity=\"1\" stroke-width=\"3.2\"/>\n",
       "<circle clip-path=\"url(#clip462)\" cx=\"1472.31\" cy=\"86.1857\" r=\"4\" fill=\"#000006\" fill-rule=\"evenodd\" fill-opacity=\"1\" stroke=\"#000000\" stroke-opacity=\"1\" stroke-width=\"3.2\"/>\n",
       "<circle clip-path=\"url(#clip462)\" cx=\"2059.88\" cy=\"518.87\" r=\"4\" fill=\"#010109\" fill-rule=\"evenodd\" fill-opacity=\"1\" stroke=\"#000000\" stroke-opacity=\"1\" stroke-width=\"3.2\"/>\n",
       "<circle clip-path=\"url(#clip462)\" cx=\"884.751\" cy=\"1167.9\" r=\"13\" fill=\"#2b0a57\" fill-rule=\"evenodd\" fill-opacity=\"1\" stroke=\"#000000\" stroke-opacity=\"1\" stroke-width=\"3.2\"/>\n",
       "<circle clip-path=\"url(#clip462)\" cx=\"2059.88\" cy=\"735.212\" r=\"3\" fill=\"#000004\" fill-rule=\"evenodd\" fill-opacity=\"1\" stroke=\"#000000\" stroke-opacity=\"1\" stroke-width=\"3.2\"/>\n",
       "<circle clip-path=\"url(#clip462)\" cx=\"297.188\" cy=\"302.528\" r=\"6\" fill=\"#06041a\" fill-rule=\"evenodd\" fill-opacity=\"1\" stroke=\"#000000\" stroke-opacity=\"1\" stroke-width=\"3.2\"/>\n",
       "<circle clip-path=\"url(#clip462)\" cx=\"884.751\" cy=\"86.1857\" r=\"3\" fill=\"#000004\" fill-rule=\"evenodd\" fill-opacity=\"1\" stroke=\"#000000\" stroke-opacity=\"1\" stroke-width=\"3.2\"/>\n",
       "<defs>\n",
       "  <clipPath id=\"clip463\">\n",
       "    <rect x=\"2160\" y=\"47\" width=\"73\" height=\"1377\"/>\n",
       "  </clipPath>\n",
       "</defs>\n",
       "<g clip-path=\"url(#clip463)\">\n",
       "<image width=\"72\" height=\"1376\" xlink:href=\"data:image/png;base64,\n",
       "iVBORw0KGgoAAAANSUhEUgAAAEgAAAVgCAYAAADsKhu7AAAL6UlEQVR4nO3dwZEjNxBFQVBR/lsh\n",
       "L6UFZIHqHclDpgUTL35wCXTP7Off+/c7/K+/vv0D/DqBgkBBoCBQmPv+/fbP8NMsKAgUBAoChXnv\n",
       "z7d/hp9mQUGgIFAQKAgUHDWCBQWBgkBBoDDPh/TKgoJAQaAgUJh3fUhvLCgIFAQKAgWBgqNGsKAg\n",
       "UBAoCBR8SAcLCgIFgYJAwX1QsKAgUBAoCBQECnMcNVYWFAQKAgWBgvugYEFBoCBQECgIFOa4MFtZ\n",
       "UBAoCBQECnPuP9/+GX6aBQWBgkBBoODSPlhQECgIFAQKAgX3QcGCgkBBoCBQ8CEdLCgIFAQKAgX3\n",
       "QcGCgkBBoCBQECjMx1FjZUFBoCBQECjMuf5XhI0FBYGCQEGgIFBw1AgWFAQKAgWBgqNGsKAgUBAo\n",
       "CBS8HxQsKAgUBAoCBYHCfBw1VhYUBAoCBYGCt1yDBQWBgkBBoOCbdLCgIFAQKAgUBAoePQcLCgIF\n",
       "gYJAwVEjWFAQKAgUBAoCBUeNYEFBoCBQECg4agQLCgIFgYJAYc693/4ZfpoFBYGCQEGgIFBw1AgW\n",
       "FAQKAgWBgkv7YEFBoCBQECj4kA4WFAQKAgWBgkBhPp5qrCwoCBQECgIFR41gQUGgIFAQKAgUvEAV\n",
       "LCgIFAQKAgX3QcGCgkBBoCBQcB8ULCgIFAQKAgWBgvugYEFBoCBQECj4kA4WFAQKAgWBgl/qDRYU\n",
       "BAoCBYGCQMFRI1hQECgIFAQKPqSDBQWBgkBBoCBQ8K9YsKAgUBAoCBR8SAcLCgIFgYJAYc7zIb2x\n",
       "oCBQECgIFAQKjhrBgoJAQaAgUPAhHSwoCBQECgIFH9LBgoJAQaAgUBAozLnv2z/DT7OgIFAQKAgU\n",
       "HDWCBQWBgkBBoCBQcNQIFhQECgIFgYKjRrCgIFAQKAgUfJMOFhQECgIFgYJAYY6TxsqCgkBBoCBQ\n",
       "mPMcNTYWFAQKAgWBgm/SwYKCQEGgIFAQKPhXLFhQECgIFAQK44/g7SwoCBQECgIFgYKjRrCgIFAQ\n",
       "KAgUfEgHCwoCBYGCQGHO/Xz7Z/hpFhQECgIFgYJAYd7zr9jGgoJAQaAgUHAfFCwoCBQECgIF90HB\n",
       "goJAQaAgUBAozLsabdQJAgWBgkDBUSNYUBAoCBQECgKFOR49rywoCBQECgKFeY4aKwsKAgWBgkBh\n",
       "jkv7lTpBoCBQECgIFBw1ggUFgYJAQaDg0j5YUBAoCBQECl7iDOoEgYJAQaAgUPCWa7CgIFAQKAgU\n",
       "XNoHCwoCBYGCQEGgMO9ptFEnCBQECgIF90HBgoJAQaAgUHAfFCwoCBQECgIFgcIc90ErdYJAQaAg\n",
       "UHDUCBYUBAoCBYGCD+lgQUGgIFAQKAgU/NZzsKAgUBAoCBT81nNQJwgUBAoCBYHCPEeNlQUFgYJA\n",
       "QaDgqUawoCBQECgIFPyvCEGdIFAQKAgUBArug4IFBYGCQEGg4D4oWFAQKAgUBAq+SQcLCgIFgYJA\n",
       "QaDgLdegThAoCBQECo4awYKCQEGgIFAQKHiqESwoCBQECgIFR41gQUGgIFAQKPiva4IFBYGCQEGg\n",
       "IFDwv2QGdYJAQaAgUHAfFCwoCBQECgIFT1aDBQWBgkBBoCBQcNQIFhQECgIFgcJcH9IrCwoCBYGC\n",
       "QEGg4LeegzpBoCBQECi4DwoWFAQKAgWBgg/pYEFBoCBQECgIFLxAFSwoCBQECgIFR41gQUGgIFAQ\n",
       "KPiQDhYUBAoCBYGCQMGfpgjqBIGCQEGgMNel/cqCgkBBoCBQECi4MAsWFAQKAgWBgg/pYEFBoCBQ\n",
       "ECj4kA4WFAQKAgWBgkDBH1gKFhQECgIFgYKjRrCgIFAQKAgUfEgHCwoCBYGCQEGg4FcRgjpBoCBQ\n",
       "ECj4VYRgQUGgIFAQKAgUXJgFCwoCBYGCQMGHdLCgIFAQKAgUvMQZLCgIFAQKAgWBgqNGsKAgUBAo\n",
       "CBTmHR/SGwsKAgWBgkDBfVCwoCBQECgIFAQK7oOCBQWBgkBBoOCoESwoCBQECgIFgYKjRrCgIFAQ\n",
       "KAgUHDWCBQWBgkBBoOCbdLCgIFAQKAgUBAr+FQsWFAQKAgWBwly/irCyoCBQECgIFHyTDhYUBAoC\n",
       "BYGCQMGj52BBQaAgUBAozHvf/hF+mwUFgYJAQaAgUHDUCBYUBAoCBYGCv4IXLCgIFAQKAgXfpIMF\n",
       "BYGCQEGgIFDwAlWwoCBQECgIFPwqQrCgIFAQKAgUvB8ULCgIFAQKAgWBgqcawYKCQEGgIFBwaR8s\n",
       "KAgUBAoCBYGCpxrBgoJAQaAgUHAfFCwoCBQECgIFj56DBQWBgkBBoCBQcB8ULCgIFAQKAgWPnoMF\n",
       "BYGCQEGgMPfbP8GPs6AgUBAoCBQECo4awYKCQEGgIFDwflCwoCBQECgIFAQKLsyCBQWBgkBBoOA+\n",
       "KFhQECgIFAQKvkkHCwoCBYGCQEGg4KgRLCgIFAQKAgWPnoMFBYGCQEGgMP4yxc6CgkBBoCBQECg4\n",
       "agQLCgIFgYJAwaPnYEFBoCBQECgIFDx6DhYUBAoCBYGCo0awoCBQECgIFHyTDhYUBAoCBYGCQGGu\n",
       "N6hWFhQECgIFgYL7oGBBQaAgUBAouA8KFhQECgIFgYJAwVEjWFAQKAgUBArzXNqvLCgIFAQKAgWB\n",
       "wtzjwmxjQUGgIFAQKHg/KFhQECgIFAQK/gpesKAgUBAoCBQECv4KXrCgIFAQKAgUPHoOFhQECgIF\n",
       "gYKXOIMFBYGCQEGgIFDwC3XBgoJAQaAgUHDUCBYUBAoCBYGCQMFbrsGCgkBBoCBQ8JZrsKAgUBAo\n",
       "CBR8kw4WFAQKAgWBgkDBW67BgoJAQaAgUPD3g4IFBYGCQEGg4D4oWFAQKAgUBAoCBY+egwUFgYJA\n",
       "QaDgqBEsKAgUBAoCBYGCo0awoCBQECgIFBw1ggUFgYJAQaDgQzpYUBAoCBQECgIF90HBgoJAQaAg\n",
       "UHDUCBYUBAoCBYGCb9LBgoJAQaAgUBAoOGoECwoCBYGCQMHfDwoWFAQKAgWBgkDB/+0TLCgIFAQK\n",
       "AgX3QcGCgkBBoCBQmHd8Sm8sKAgUBAoCBYGCo0awoCBQECgIFDx6DhYUBAoCBYGCJ6vBgoJAQaAg\n",
       "UBAouA8KFhQECgIFgYJHz8GCgkBBoCBQECg4agQLCgIFgYJAwR9YChYUBAoCBYHCXC8IrSwoCBQE\n",
       "CgIFgYIXqIIFBYGCQEGgMM9RY2VBQaAgUBAo+CYdLCgIFAQKAgWBgqcawYKCQEGgIFDwflCwoCBQ\n",
       "ECgIFAQKc/1C3cqCgkBBoCBQcB8ULCgIFAQKAgV/miJYUBAoCBQECgIFL1AFCwoCBYGCQMGlfbCg\n",
       "IFAQKAgU3AcFCwoCBYGCQEGgMPe4EdpYUBAoCBQECu6DggUFgYJAQaAgUPCvWLCgIFAQKAgUPNUI\n",
       "FhQECgIFgYJL+2BBQaAgUBAoCBTmfhw1NhYUBAoCBYGCo0awoCBQECgIFOb5kF5ZUBAoCBQECgIF\n",
       "R41gQUGgIFAQKMz9+JDeWFAQKAgUBAoCBUeNYEFBoCBQECh4qhEsKAgUBAoCBd+kgwUFgYJAQaAg\n",
       "UPCvWLCgIFAQKAgUPHoOFhQECgIFgcK88+fbP8NPs6AgUBAoCBQECu6DggUFgYJAQaDg/aBgQUGg\n",
       "IFAQKAgU5j4XZhsLCgIFgYJAwVEjWFAQKAgUBApzPXpeWVAQKAgUBAoCBUeNYEFBoCBQECg4agQL\n",
       "CgIFgYJAYd7zTXpjQUGgIFAQKAgU3AcFCwoCBYGCQMFLnMGCgkBBoCBQECg4agQLCgIFgYJAYZ6j\n",
       "xsqCgkBBoCBQ8E06WFAQKAgUBAoChbleoFpZUBAoCBQECv7gdrCgIFAQKAgU/CpCsKAgUBAoCBQE\n",
       "Cp5qBAsKAgWBgkDBUSNYUBAoCBQECgIF/4oFCwoCBYGCQMGj52BBQaAgUBAo+CYdLCgIFAQKAgWB\n",
       "whyPnlcWFAQKAgWBgqNGsKAgUBAoCBS8xBksKAgUBAoCBYHCHEeNlQUFgYJAQaDg/aBgQUGgIFAQ\n",
       "KAgUPHoOFhQECgIFgYL7oGBBQaAgUBAozDvv2z/DT7OgIFAQKAgUBArug4IFBYGCQEGgMMdRY2VB\n",
       "QaAgUBAo/AdhU+3PqlcPeQAAAABJRU5ErkJggg==\n",
       "\" transform=\"translate(2161, 47)\"/>\n",
       "</g>\n",
       "<path clip-path=\"url(#clip460)\" d=\"M 0 0 M2280.7 1335.82 Q2277.09 1335.82 2275.26 1339.38 Q2273.45 1342.93 2273.45 1350.05 Q2273.45 1357.16 2275.26 1360.73 Q2277.09 1364.27 2280.7 1364.27 Q2284.33 1364.27 2286.14 1360.73 Q2287.97 1357.16 2287.97 1350.05 Q2287.97 1342.93 2286.14 1339.38 Q2284.33 1335.82 2280.7 1335.82 M2280.7 1332.12 Q2286.51 1332.12 2289.57 1336.72 Q2292.64 1341.3 2292.64 1350.05 Q2292.64 1358.78 2289.57 1363.39 Q2286.51 1367.97 2280.7 1367.97 Q2274.89 1367.97 2271.81 1363.39 Q2268.76 1358.78 2268.76 1350.05 Q2268.76 1341.3 2271.81 1336.72 Q2274.89 1332.12 2280.7 1332.12 Z\" fill=\"#000000\" fill-rule=\"evenodd\" fill-opacity=\"1\" /><path clip-path=\"url(#clip460)\" d=\"M 0 0 M2297.71 1361.42 L2302.6 1361.42 L2302.6 1367.3 L2297.71 1367.3 L2297.71 1361.42 Z\" fill=\"#000000\" fill-rule=\"evenodd\" fill-opacity=\"1\" /><path clip-path=\"url(#clip460)\" d=\"M 0 0 M2321.83 1348.67 Q2325.19 1349.38 2327.07 1351.65 Q2328.96 1353.92 2328.96 1357.25 Q2328.96 1362.37 2325.45 1365.17 Q2321.93 1367.97 2315.45 1367.97 Q2313.27 1367.97 2310.95 1367.53 Q2308.66 1367.11 2306.21 1366.26 L2306.21 1361.74 Q2308.15 1362.88 2310.47 1363.46 Q2312.78 1364.04 2315.31 1364.04 Q2319.7 1364.04 2322 1362.3 Q2324.31 1360.56 2324.31 1357.25 Q2324.31 1354.2 2322.16 1352.49 Q2320.03 1350.75 2316.21 1350.75 L2312.18 1350.75 L2312.18 1346.91 L2316.39 1346.91 Q2319.84 1346.91 2321.67 1345.54 Q2323.5 1344.15 2323.5 1341.56 Q2323.5 1338.9 2321.6 1337.49 Q2319.73 1336.05 2316.21 1336.05 Q2314.29 1336.05 2312.09 1336.47 Q2309.89 1336.88 2307.25 1337.76 L2307.25 1333.6 Q2309.91 1332.86 2312.23 1332.49 Q2314.57 1332.12 2316.63 1332.12 Q2321.95 1332.12 2325.05 1334.55 Q2328.15 1336.95 2328.15 1341.07 Q2328.15 1343.94 2326.51 1345.93 Q2324.87 1347.9 2321.83 1348.67 Z\" fill=\"#000000\" fill-rule=\"evenodd\" fill-opacity=\"1\" /><path clip-path=\"url(#clip460)\" d=\"M 0 0 M2334.08 1332.74 L2352.44 1332.74 L2352.44 1336.68 L2338.36 1336.68 L2338.36 1345.15 Q2339.38 1344.8 2340.4 1344.64 Q2341.42 1344.45 2342.44 1344.45 Q2348.22 1344.45 2351.6 1347.62 Q2354.98 1350.8 2354.98 1356.21 Q2354.98 1361.79 2351.51 1364.89 Q2348.04 1367.97 2341.72 1367.97 Q2339.54 1367.97 2337.27 1367.6 Q2335.03 1367.23 2332.62 1366.49 L2332.62 1361.79 Q2334.7 1362.93 2336.93 1363.48 Q2339.15 1364.04 2341.63 1364.04 Q2345.63 1364.04 2347.97 1361.93 Q2350.31 1359.82 2350.31 1356.21 Q2350.31 1352.6 2347.97 1350.49 Q2345.63 1348.39 2341.63 1348.39 Q2339.75 1348.39 2337.88 1348.8 Q2336.02 1349.22 2334.08 1350.1 L2334.08 1332.74 Z\" fill=\"#000000\" fill-rule=\"evenodd\" fill-opacity=\"1\" /><path clip-path=\"url(#clip460)\" d=\"M 0 0 M2280.7 1163.48 Q2277.09 1163.48 2275.26 1167.04 Q2273.45 1170.58 2273.45 1177.71 Q2273.45 1184.82 2275.26 1188.39 Q2277.09 1191.93 2280.7 1191.93 Q2284.33 1191.93 2286.14 1188.39 Q2287.97 1184.82 2287.97 1177.71 Q2287.97 1170.58 2286.14 1167.04 Q2284.33 1163.48 2280.7 1163.48 M2280.7 1159.77 Q2286.51 1159.77 2289.57 1164.38 Q2292.64 1168.96 2292.64 1177.71 Q2292.64 1186.44 2289.57 1191.05 Q2286.51 1195.63 2280.7 1195.63 Q2274.89 1195.63 2271.81 1191.05 Q2268.76 1186.44 2268.76 1177.71 Q2268.76 1168.96 2271.81 1164.38 Q2274.89 1159.77 2280.7 1159.77 Z\" fill=\"#000000\" fill-rule=\"evenodd\" fill-opacity=\"1\" /><path clip-path=\"url(#clip460)\" d=\"M 0 0 M2297.71 1189.08 L2302.6 1189.08 L2302.6 1194.96 L2297.71 1194.96 L2297.71 1189.08 Z\" fill=\"#000000\" fill-rule=\"evenodd\" fill-opacity=\"1\" /><path clip-path=\"url(#clip460)\" d=\"M 0 0 M2320.51 1164.47 L2308.71 1182.92 L2320.51 1182.92 L2320.51 1164.47 M2319.29 1160.4 L2325.17 1160.4 L2325.17 1182.92 L2330.1 1182.92 L2330.1 1186.81 L2325.17 1186.81 L2325.17 1194.96 L2320.51 1194.96 L2320.51 1186.81 L2304.91 1186.81 L2304.91 1182.3 L2319.29 1160.4 Z\" fill=\"#000000\" fill-rule=\"evenodd\" fill-opacity=\"1\" /><path clip-path=\"url(#clip460)\" d=\"M 0 0 M2345.17 1163.48 Q2341.56 1163.48 2339.73 1167.04 Q2337.92 1170.58 2337.92 1177.71 Q2337.92 1184.82 2339.73 1188.39 Q2341.56 1191.93 2345.17 1191.93 Q2348.8 1191.93 2350.61 1188.39 Q2352.44 1184.82 2352.44 1177.71 Q2352.44 1170.58 2350.61 1167.04 Q2348.8 1163.48 2345.17 1163.48 M2345.17 1159.77 Q2350.98 1159.77 2354.03 1164.38 Q2357.11 1168.96 2357.11 1177.71 Q2357.11 1186.44 2354.03 1191.05 Q2350.98 1195.63 2345.17 1195.63 Q2339.36 1195.63 2336.28 1191.05 Q2333.22 1186.44 2333.22 1177.71 Q2333.22 1168.96 2336.28 1164.38 Q2339.36 1159.77 2345.17 1159.77 Z\" fill=\"#000000\" fill-rule=\"evenodd\" fill-opacity=\"1\" /><path clip-path=\"url(#clip460)\" d=\"M 0 0 M2280.7 991.138 Q2277.09 991.138 2275.26 994.702 Q2273.45 998.244 2273.45 1005.37 Q2273.45 1012.48 2275.26 1016.04 Q2277.09 1019.59 2280.7 1019.59 Q2284.33 1019.59 2286.14 1016.04 Q2287.97 1012.48 2287.97 1005.37 Q2287.97 998.244 2286.14 994.702 Q2284.33 991.138 2280.7 991.138 M2280.7 987.434 Q2286.51 987.434 2289.57 992.04 Q2292.64 996.624 2292.64 1005.37 Q2292.64 1014.1 2289.57 1018.71 Q2286.51 1023.29 2280.7 1023.29 Q2274.89 1023.29 2271.81 1018.71 Q2268.76 1014.1 2268.76 1005.37 Q2268.76 996.624 2271.81 992.04 Q2274.89 987.434 2280.7 987.434 Z\" fill=\"#000000\" fill-rule=\"evenodd\" fill-opacity=\"1\" /><path clip-path=\"url(#clip460)\" d=\"M 0 0 M2297.71 1016.74 L2302.6 1016.74 L2302.6 1022.62 L2297.71 1022.62 L2297.71 1016.74 Z\" fill=\"#000000\" fill-rule=\"evenodd\" fill-opacity=\"1\" /><path clip-path=\"url(#clip460)\" d=\"M 0 0 M2320.51 992.133 L2308.71 1010.58 L2320.51 1010.58 L2320.51 992.133 M2319.29 988.059 L2325.17 988.059 L2325.17 1010.58 L2330.1 1010.58 L2330.1 1014.47 L2325.17 1014.47 L2325.17 1022.62 L2320.51 1022.62 L2320.51 1014.47 L2304.91 1014.47 L2304.91 1009.96 L2319.29 988.059 Z\" fill=\"#000000\" fill-rule=\"evenodd\" fill-opacity=\"1\" /><path clip-path=\"url(#clip460)\" d=\"M 0 0 M2335.21 988.059 L2353.57 988.059 L2353.57 991.994 L2339.5 991.994 L2339.5 1000.47 Q2340.51 1000.12 2341.53 999.957 Q2342.55 999.772 2343.57 999.772 Q2349.36 999.772 2352.74 1002.94 Q2356.12 1006.11 2356.12 1011.53 Q2356.12 1017.11 2352.64 1020.21 Q2349.17 1023.29 2342.85 1023.29 Q2340.68 1023.29 2338.41 1022.92 Q2336.16 1022.55 2333.76 1021.81 L2333.76 1017.11 Q2335.84 1018.24 2338.06 1018.8 Q2340.28 1019.36 2342.76 1019.36 Q2346.76 1019.36 2349.1 1017.25 Q2351.44 1015.14 2351.44 1011.53 Q2351.44 1007.92 2349.1 1005.81 Q2346.76 1003.71 2342.76 1003.71 Q2340.89 1003.71 2339.01 1004.12 Q2337.16 1004.54 2335.21 1005.42 L2335.21 988.059 Z\" fill=\"#000000\" fill-rule=\"evenodd\" fill-opacity=\"1\" /><path clip-path=\"url(#clip460)\" d=\"M 0 0 M2280.7 818.797 Q2277.09 818.797 2275.26 822.362 Q2273.45 825.903 2273.45 833.033 Q2273.45 840.139 2275.26 843.704 Q2277.09 847.246 2280.7 847.246 Q2284.33 847.246 2286.14 843.704 Q2287.97 840.139 2287.97 833.033 Q2287.97 825.903 2286.14 822.362 Q2284.33 818.797 2280.7 818.797 M2280.7 815.093 Q2286.51 815.093 2289.57 819.7 Q2292.64 824.283 2292.64 833.033 Q2292.64 841.76 2289.57 846.366 Q2286.51 850.95 2280.7 850.95 Q2274.89 850.95 2271.81 846.366 Q2268.76 841.76 2268.76 833.033 Q2268.76 824.283 2271.81 819.7 Q2274.89 815.093 2280.7 815.093 Z\" fill=\"#000000\" fill-rule=\"evenodd\" fill-opacity=\"1\" /><path clip-path=\"url(#clip460)\" d=\"M 0 0 M2297.71 844.399 L2302.6 844.399 L2302.6 850.278 L2297.71 850.278 L2297.71 844.399 Z\" fill=\"#000000\" fill-rule=\"evenodd\" fill-opacity=\"1\" /><path clip-path=\"url(#clip460)\" d=\"M 0 0 M2307.71 815.718 L2326.07 815.718 L2326.07 819.653 L2312 819.653 L2312 828.126 Q2313.01 827.778 2314.03 827.616 Q2315.05 827.431 2316.07 827.431 Q2321.86 827.431 2325.24 830.602 Q2328.62 833.774 2328.62 839.19 Q2328.62 844.769 2325.14 847.871 Q2321.67 850.95 2315.35 850.95 Q2313.18 850.95 2310.91 850.579 Q2308.66 850.209 2306.26 849.468 L2306.26 844.769 Q2308.34 845.903 2310.56 846.459 Q2312.78 847.014 2315.26 847.014 Q2319.26 847.014 2321.6 844.908 Q2323.94 842.802 2323.94 839.19 Q2323.94 835.579 2321.6 833.473 Q2319.26 831.366 2315.26 831.366 Q2313.39 831.366 2311.51 831.783 Q2309.66 832.2 2307.71 833.079 L2307.71 815.718 Z\" fill=\"#000000\" fill-rule=\"evenodd\" fill-opacity=\"1\" /><path clip-path=\"url(#clip460)\" d=\"M 0 0 M2343.69 818.797 Q2340.07 818.797 2338.25 822.362 Q2336.44 825.903 2336.44 833.033 Q2336.44 840.139 2338.25 843.704 Q2340.07 847.246 2343.69 847.246 Q2347.32 847.246 2349.13 843.704 Q2350.95 840.139 2350.95 833.033 Q2350.95 825.903 2349.13 822.362 Q2347.32 818.797 2343.69 818.797 M2343.69 815.093 Q2349.5 815.093 2352.55 819.7 Q2355.63 824.283 2355.63 833.033 Q2355.63 841.76 2352.55 846.366 Q2349.5 850.95 2343.69 850.95 Q2337.88 850.95 2334.8 846.366 Q2331.74 841.76 2331.74 833.033 Q2331.74 824.283 2334.8 819.7 Q2337.88 815.093 2343.69 815.093 Z\" fill=\"#000000\" fill-rule=\"evenodd\" fill-opacity=\"1\" /><path clip-path=\"url(#clip460)\" d=\"M 0 0 M2280.7 646.456 Q2277.09 646.456 2275.26 650.021 Q2273.45 653.563 2273.45 660.692 Q2273.45 667.799 2275.26 671.364 Q2277.09 674.905 2280.7 674.905 Q2284.33 674.905 2286.14 671.364 Q2287.97 667.799 2287.97 660.692 Q2287.97 653.563 2286.14 650.021 Q2284.33 646.456 2280.7 646.456 M2280.7 642.753 Q2286.51 642.753 2289.57 647.359 Q2292.64 651.942 2292.64 660.692 Q2292.64 669.419 2289.57 674.026 Q2286.51 678.609 2280.7 678.609 Q2274.89 678.609 2271.81 674.026 Q2268.76 669.419 2268.76 660.692 Q2268.76 651.942 2271.81 647.359 Q2274.89 642.753 2280.7 642.753 Z\" fill=\"#000000\" fill-rule=\"evenodd\" fill-opacity=\"1\" /><path clip-path=\"url(#clip460)\" d=\"M 0 0 M2297.71 672.058 L2302.6 672.058 L2302.6 677.938 L2297.71 677.938 L2297.71 672.058 Z\" fill=\"#000000\" fill-rule=\"evenodd\" fill-opacity=\"1\" /><path clip-path=\"url(#clip460)\" d=\"M 0 0 M2307.71 643.378 L2326.07 643.378 L2326.07 647.313 L2312 647.313 L2312 655.785 Q2313.01 655.438 2314.03 655.276 Q2315.05 655.091 2316.07 655.091 Q2321.86 655.091 2325.24 658.262 Q2328.62 661.433 2328.62 666.85 Q2328.62 672.428 2325.14 675.53 Q2321.67 678.609 2315.35 678.609 Q2313.18 678.609 2310.91 678.239 Q2308.66 677.868 2306.26 677.128 L2306.26 672.428 Q2308.34 673.563 2310.56 674.118 Q2312.78 674.674 2315.26 674.674 Q2319.26 674.674 2321.6 672.567 Q2323.94 670.461 2323.94 666.85 Q2323.94 663.239 2321.6 661.132 Q2319.26 659.026 2315.26 659.026 Q2313.39 659.026 2311.51 659.442 Q2309.66 659.859 2307.71 660.739 L2307.71 643.378 Z\" fill=\"#000000\" fill-rule=\"evenodd\" fill-opacity=\"1\" /><path clip-path=\"url(#clip460)\" d=\"M 0 0 M2333.73 643.378 L2352.09 643.378 L2352.09 647.313 L2338.01 647.313 L2338.01 655.785 Q2339.03 655.438 2340.05 655.276 Q2341.07 655.091 2342.09 655.091 Q2347.88 655.091 2351.26 658.262 Q2354.64 661.433 2354.64 666.85 Q2354.64 672.428 2351.16 675.53 Q2347.69 678.609 2341.37 678.609 Q2339.2 678.609 2336.93 678.239 Q2334.68 677.868 2332.27 677.128 L2332.27 672.428 Q2334.36 673.563 2336.58 674.118 Q2338.8 674.674 2341.28 674.674 Q2345.28 674.674 2347.62 672.567 Q2349.96 670.461 2349.96 666.85 Q2349.96 663.239 2347.62 661.132 Q2345.28 659.026 2341.28 659.026 Q2339.4 659.026 2337.53 659.442 Q2335.68 659.859 2333.73 660.739 L2333.73 643.378 Z\" fill=\"#000000\" fill-rule=\"evenodd\" fill-opacity=\"1\" /><path clip-path=\"url(#clip460)\" d=\"M 0 0 M2280.7 474.116 Q2277.09 474.116 2275.26 477.681 Q2273.45 481.222 2273.45 488.352 Q2273.45 495.458 2275.26 499.023 Q2277.09 502.565 2280.7 502.565 Q2284.33 502.565 2286.14 499.023 Q2287.97 495.458 2287.97 488.352 Q2287.97 481.222 2286.14 477.681 Q2284.33 474.116 2280.7 474.116 M2280.7 470.412 Q2286.51 470.412 2289.57 475.019 Q2292.64 479.602 2292.64 488.352 Q2292.64 497.079 2289.57 501.685 Q2286.51 506.268 2280.7 506.268 Q2274.89 506.268 2271.81 501.685 Q2268.76 497.079 2268.76 488.352 Q2268.76 479.602 2271.81 475.019 Q2274.89 470.412 2280.7 470.412 Z\" fill=\"#000000\" fill-rule=\"evenodd\" fill-opacity=\"1\" /><path clip-path=\"url(#clip460)\" d=\"M 0 0 M2297.71 499.717 L2302.6 499.717 L2302.6 505.597 L2297.71 505.597 L2297.71 499.717 Z\" fill=\"#000000\" fill-rule=\"evenodd\" fill-opacity=\"1\" /><path clip-path=\"url(#clip460)\" d=\"M 0 0 M2318.25 486.454 Q2315.1 486.454 2313.25 488.606 Q2311.42 490.759 2311.42 494.509 Q2311.42 498.236 2313.25 500.412 Q2315.1 502.565 2318.25 502.565 Q2321.39 502.565 2323.22 500.412 Q2325.08 498.236 2325.08 494.509 Q2325.08 490.759 2323.22 488.606 Q2321.39 486.454 2318.25 486.454 M2327.53 471.801 L2327.53 476.06 Q2325.77 475.227 2323.96 474.787 Q2322.18 474.347 2320.42 474.347 Q2315.79 474.347 2313.34 477.472 Q2310.91 480.597 2310.56 486.917 Q2311.93 484.903 2313.99 483.838 Q2316.05 482.75 2318.52 482.75 Q2323.73 482.75 2326.74 485.921 Q2329.77 489.069 2329.77 494.509 Q2329.77 499.833 2326.63 503.051 Q2323.48 506.268 2318.25 506.268 Q2312.25 506.268 2309.08 501.685 Q2305.91 497.079 2305.91 488.352 Q2305.91 480.157 2309.8 475.296 Q2313.69 470.412 2320.24 470.412 Q2322 470.412 2323.78 470.759 Q2325.58 471.107 2327.53 471.801 Z\" fill=\"#000000\" fill-rule=\"evenodd\" fill-opacity=\"1\" /><path clip-path=\"url(#clip460)\" d=\"M 0 0 M2344.84 474.116 Q2341.23 474.116 2339.4 477.681 Q2337.6 481.222 2337.6 488.352 Q2337.6 495.458 2339.4 499.023 Q2341.23 502.565 2344.84 502.565 Q2348.48 502.565 2350.28 499.023 Q2352.11 495.458 2352.11 488.352 Q2352.11 481.222 2350.28 477.681 Q2348.48 474.116 2344.84 474.116 M2344.84 470.412 Q2350.65 470.412 2353.71 475.019 Q2356.79 479.602 2356.79 488.352 Q2356.79 497.079 2353.71 501.685 Q2350.65 506.268 2344.84 506.268 Q2339.03 506.268 2335.95 501.685 Q2332.9 497.079 2332.9 488.352 Q2332.9 479.602 2335.95 475.019 Q2339.03 470.412 2344.84 470.412 Z\" fill=\"#000000\" fill-rule=\"evenodd\" fill-opacity=\"1\" /><path clip-path=\"url(#clip460)\" d=\"M 0 0 M2280.7 301.775 Q2277.09 301.775 2275.26 305.34 Q2273.45 308.882 2273.45 316.011 Q2273.45 323.118 2275.26 326.682 Q2277.09 330.224 2280.7 330.224 Q2284.33 330.224 2286.14 326.682 Q2287.97 323.118 2287.97 316.011 Q2287.97 308.882 2286.14 305.34 Q2284.33 301.775 2280.7 301.775 M2280.7 298.071 Q2286.51 298.071 2289.57 302.678 Q2292.64 307.261 2292.64 316.011 Q2292.64 324.738 2289.57 329.344 Q2286.51 333.928 2280.7 333.928 Q2274.89 333.928 2271.81 329.344 Q2268.76 324.738 2268.76 316.011 Q2268.76 307.261 2271.81 302.678 Q2274.89 298.071 2280.7 298.071 Z\" fill=\"#000000\" fill-rule=\"evenodd\" fill-opacity=\"1\" /><path clip-path=\"url(#clip460)\" d=\"M 0 0 M2297.71 327.377 L2302.6 327.377 L2302.6 333.256 L2297.71 333.256 L2297.71 327.377 Z\" fill=\"#000000\" fill-rule=\"evenodd\" fill-opacity=\"1\" /><path clip-path=\"url(#clip460)\" d=\"M 0 0 M2318.25 314.113 Q2315.1 314.113 2313.25 316.266 Q2311.42 318.419 2311.42 322.169 Q2311.42 325.895 2313.25 328.071 Q2315.1 330.224 2318.25 330.224 Q2321.39 330.224 2323.22 328.071 Q2325.08 325.895 2325.08 322.169 Q2325.08 318.419 2323.22 316.266 Q2321.39 314.113 2318.25 314.113 M2327.53 299.46 L2327.53 303.72 Q2325.77 302.886 2323.96 302.446 Q2322.18 302.007 2320.42 302.007 Q2315.79 302.007 2313.34 305.132 Q2310.91 308.257 2310.56 314.576 Q2311.93 312.562 2313.99 311.497 Q2316.05 310.409 2318.52 310.409 Q2323.73 310.409 2326.74 313.581 Q2329.77 316.729 2329.77 322.169 Q2329.77 327.493 2326.63 330.71 Q2323.48 333.928 2318.25 333.928 Q2312.25 333.928 2309.08 329.344 Q2305.91 324.738 2305.91 316.011 Q2305.91 307.817 2309.8 302.956 Q2313.69 298.071 2320.24 298.071 Q2322 298.071 2323.78 298.419 Q2325.58 298.766 2327.53 299.46 Z\" fill=\"#000000\" fill-rule=\"evenodd\" fill-opacity=\"1\" /><path clip-path=\"url(#clip460)\" d=\"M 0 0 M2334.89 298.696 L2353.25 298.696 L2353.25 302.632 L2339.17 302.632 L2339.17 311.104 Q2340.19 310.757 2341.21 310.595 Q2342.23 310.409 2343.25 310.409 Q2349.03 310.409 2352.41 313.581 Q2355.79 316.752 2355.79 322.169 Q2355.79 327.747 2352.32 330.849 Q2348.85 333.928 2342.53 333.928 Q2340.35 333.928 2338.08 333.557 Q2335.84 333.187 2333.43 332.446 L2333.43 327.747 Q2335.51 328.881 2337.74 329.437 Q2339.96 329.993 2342.44 329.993 Q2346.44 329.993 2348.78 327.886 Q2351.12 325.78 2351.12 322.169 Q2351.12 318.557 2348.78 316.451 Q2346.44 314.345 2342.44 314.345 Q2340.56 314.345 2338.69 314.761 Q2336.83 315.178 2334.89 316.057 L2334.89 298.696 Z\" fill=\"#000000\" fill-rule=\"evenodd\" fill-opacity=\"1\" /><path clip-path=\"url(#clip460)\" d=\"M 0 0 M2280.7 129.435 Q2277.09 129.435 2275.26 132.999 Q2273.45 136.541 2273.45 143.671 Q2273.45 150.777 2275.26 154.342 Q2277.09 157.883 2280.7 157.883 Q2284.33 157.883 2286.14 154.342 Q2287.97 150.777 2287.97 143.671 Q2287.97 136.541 2286.14 132.999 Q2284.33 129.435 2280.7 129.435 M2280.7 125.731 Q2286.51 125.731 2289.57 130.337 Q2292.64 134.921 2292.64 143.671 Q2292.64 152.397 2289.57 157.004 Q2286.51 161.587 2280.7 161.587 Q2274.89 161.587 2271.81 157.004 Q2268.76 152.397 2268.76 143.671 Q2268.76 134.921 2271.81 130.337 Q2274.89 125.731 2280.7 125.731 Z\" fill=\"#000000\" fill-rule=\"evenodd\" fill-opacity=\"1\" /><path clip-path=\"url(#clip460)\" d=\"M 0 0 M2297.71 155.036 L2302.6 155.036 L2302.6 160.916 L2297.71 160.916 L2297.71 155.036 Z\" fill=\"#000000\" fill-rule=\"evenodd\" fill-opacity=\"1\" /><path clip-path=\"url(#clip460)\" d=\"M 0 0 M2306.49 126.356 L2328.71 126.356 L2328.71 128.347 L2316.16 160.916 L2311.28 160.916 L2323.08 130.291 L2306.49 130.291 L2306.49 126.356 Z\" fill=\"#000000\" fill-rule=\"evenodd\" fill-opacity=\"1\" /><path clip-path=\"url(#clip460)\" d=\"M 0 0 M2343.78 129.435 Q2340.17 129.435 2338.34 132.999 Q2336.53 136.541 2336.53 143.671 Q2336.53 150.777 2338.34 154.342 Q2340.17 157.883 2343.78 157.883 Q2347.41 157.883 2349.22 154.342 Q2351.05 150.777 2351.05 143.671 Q2351.05 136.541 2349.22 132.999 Q2347.41 129.435 2343.78 129.435 M2343.78 125.731 Q2349.59 125.731 2352.64 130.337 Q2355.72 134.921 2355.72 143.671 Q2355.72 152.397 2352.64 157.004 Q2349.59 161.587 2343.78 161.587 Q2337.97 161.587 2334.89 157.004 Q2331.83 152.397 2331.83 143.671 Q2331.83 134.921 2334.89 130.337 Q2337.97 125.731 2343.78 125.731 Z\" fill=\"#000000\" fill-rule=\"evenodd\" fill-opacity=\"1\" /><polyline clip-path=\"url(#clip460)\" style=\"stroke:#000000; stroke-width:4; stroke-opacity:1; fill:none\" points=\"\n",
       "  2232.76,1423.18 2232.76,1353.65 2256.76,1353.65 2232.76,1353.65 2232.76,1181.31 2256.76,1181.31 2232.76,1181.31 2232.76,1008.97 2256.76,1008.97 2232.76,1008.97 \n",
       "  2232.76,836.627 2256.76,836.627 2232.76,836.627 2232.76,664.286 2256.76,664.286 2232.76,664.286 2232.76,491.946 2256.76,491.946 2232.76,491.946 2232.76,319.605 \n",
       "  2256.76,319.605 2232.76,319.605 2232.76,147.265 2256.76,147.265 2232.76,147.265 2232.76,47.2441 \n",
       "  \"/>\n",
       "</svg>\n"
      ]
     },
     "execution_count": 125,
     "metadata": {},
     "output_type": "execute_result"
    }
   ],
   "source": [
    "plot(self_tuning_nn)"
   ]
  },
  {
   "cell_type": "code",
   "execution_count": 126,
   "metadata": {},
   "outputs": [
    {
     "data": {
      "text/plain": [
       "(best_model = \u001b[34mNeuralNetworkClassifier{CustomNN,…} @305\u001b[39m,\n",
       " best_fitted_params = (chain = Chain(Chain(Dense(30, 34, σ), Dense(34, 2, σ)), softmax),),)"
      ]
     },
     "execution_count": 126,
     "metadata": {},
     "output_type": "execute_result"
    }
   ],
   "source": [
    "best = fitted_params(self_tuning_nn)\n",
    "best"
   ]
  },
  {
   "cell_type": "code",
   "execution_count": 127,
   "metadata": {},
   "outputs": [
    {
     "data": {
      "text/plain": [
       "NeuralNetworkClassifier(\n",
       "    builder = CustomNN(\n",
       "            n1 = 34),\n",
       "    finaliser = NNlib.softmax,\n",
       "    optimiser = ADAM(0.01, (0.9, 0.999), IdDict{Any,Any}()),\n",
       "    loss = Flux.crossentropy,\n",
       "    epochs = 175,\n",
       "    batch_size = 16,\n",
       "    lambda = 0.0021544346900318843,\n",
       "    alpha = 0.0,\n",
       "    optimiser_changes_trigger_retraining = false)\u001b[34m @305\u001b[39m"
      ]
     },
     "execution_count": 127,
     "metadata": {},
     "output_type": "execute_result"
    }
   ],
   "source": [
    "best.best_model"
   ]
  },
  {
   "cell_type": "code",
   "execution_count": 128,
   "metadata": {
    "scrolled": true
   },
   "outputs": [
    {
     "data": {
      "text/plain": [
       "0.3298275f0"
      ]
     },
     "execution_count": 128,
     "metadata": {},
     "output_type": "execute_result"
    }
   ],
   "source": [
    "best_loss = z.report.best_result.measurement[1]"
   ]
  },
  {
   "cell_type": "code",
   "execution_count": 129,
   "metadata": {},
   "outputs": [
    {
     "data": {
      "text/plain": [
       "(175, 34, 0.01)"
      ]
     },
     "execution_count": 129,
     "metadata": {},
     "output_type": "execute_result"
    }
   ],
   "source": [
    "b = best.best_model.builder.n1\n",
    "a = best.best_model.epochs\n",
    "c = round(best.best_model.optimiser.eta, digits=5)\n",
    "a,b,c"
   ]
  },
  {
   "cell_type": "code",
   "execution_count": 130,
   "metadata": {},
   "outputs": [],
   "source": [
    "fn = \"Figures/Grid_NN_$(param1):$(a)_x_$(param2):$(c)_bestloss:$(best_loss)_hidden:$b\"\n",
    "png(replace(fn,'.' => ','))"
   ]
  },
  {
   "cell_type": "code",
   "execution_count": null,
   "metadata": {},
   "outputs": [],
   "source": []
  },
  {
   "cell_type": "markdown",
   "metadata": {},
   "source": [
    "### GridSearch for Regularization"
   ]
  },
  {
   "cell_type": "code",
   "execution_count": 131,
   "metadata": {},
   "outputs": [
    {
     "data": {
      "text/plain": [
       "MLJBase.NumericRange(Float64, :lambda, ... )"
      ]
     },
     "execution_count": 131,
     "metadata": {},
     "output_type": "execute_result"
    }
   ],
   "source": [
    "param1 = :epochs\n",
    "param2 = :lambda\n",
    "\n",
    "r1 = range(nn2, param1, lower=100, upper=1000, scale=:linear)\n",
    "r2 = range(nn2, param2, lower=0.0001, upper=1, scale=:log10)"
   ]
  },
  {
   "cell_type": "code",
   "execution_count": 132,
   "metadata": {
    "scrolled": true
   },
   "outputs": [
    {
     "data": {
      "text/plain": [
       "ProbabilisticTunedModel(\n",
       "    model = NeuralNetworkClassifier(\n",
       "            builder = \u001b[34mCustomNN @282\u001b[39m,\n",
       "            finaliser = NNlib.softmax,\n",
       "            optimiser = ADAM(0.00032, (0.9, 0.999), IdDict{Any,Any}()),\n",
       "            loss = Flux.crossentropy,\n",
       "            epochs = 1000,\n",
       "            batch_size = 16,\n",
       "            lambda = 0.0021544346900318843,\n",
       "            alpha = 0.0,\n",
       "            optimiser_changes_trigger_retraining = false),\n",
       "    tuning = Grid(\n",
       "            goal = 50,\n",
       "            resolution = 10,\n",
       "            shuffle = true,\n",
       "            rng = Random._GLOBAL_RNG()),\n",
       "    resampling = Holdout(\n",
       "            fraction_train = 0.7,\n",
       "            shuffle = false,\n",
       "            rng = Random._GLOBAL_RNG()),\n",
       "    measure = cross_entropy(\n",
       "            eps = 2.220446049250313e-16),\n",
       "    weights = nothing,\n",
       "    operation = MLJModelInterface.predict,\n",
       "    range = MLJBase.NumericRange{T,MLJBase.Bounded,Symbol} where T[\u001b[34mNumericRange{Int64,…} @953\u001b[39m, \u001b[34mNumericRange{Float64,…} @175\u001b[39m],\n",
       "    train_best = true,\n",
       "    repeats = 1,\n",
       "    n = nothing,\n",
       "    acceleration = CPUThreads{Int64}(1),\n",
       "    acceleration_resampling = CPU1{Nothing}(nothing),\n",
       "    check_measure = true)\u001b[34m @261\u001b[39m"
      ]
     },
     "execution_count": 132,
     "metadata": {},
     "output_type": "execute_result"
    }
   ],
   "source": [
    "self_tuning_nn_model = TunedModel(model=nn2,\n",
    "                                    tuning=Grid(goal=50),\n",
    "                                    resampling=Holdout(fraction_train=0.7), \n",
    "                                    measure=cross_entropy,\n",
    "                                    acceleration=CPUThreads(),\n",
    "                                    range=[r1, r2])"
   ]
  },
  {
   "cell_type": "code",
   "execution_count": 133,
   "metadata": {},
   "outputs": [
    {
     "data": {
      "text/plain": [
       "\u001b[34mMachine{ProbabilisticTunedModel{Grid,…}} @912\u001b[39m trained 0 times.\n",
       "  args: \n",
       "    1:\t\u001b[34mSource @920\u001b[39m ⏎ `Table{AbstractArray{Continuous,1}}`\n",
       "    2:\t\u001b[34mSource @845\u001b[39m ⏎ `AbstractArray{Multiclass{2},1}`\n"
      ]
     },
     "execution_count": 133,
     "metadata": {},
     "output_type": "execute_result"
    }
   ],
   "source": [
    "self_tuning_nn = machine(self_tuning_nn_model, X_stand, y)"
   ]
  },
  {
   "cell_type": "code",
   "execution_count": 134,
   "metadata": {},
   "outputs": [
    {
     "name": "stderr",
     "output_type": "stream",
     "text": [
      "┌ Info: Training \u001b[34mMachine{ProbabilisticTunedModel{Grid,…}} @912\u001b[39m.\n",
      "└ @ MLJBase /home/andrew/.julia/packages/MLJBase/uKzAz/src/machines.jl:319\n",
      "┌ Info: Attempting to evaluate 49 models.\n",
      "└ @ MLJTuning /home/andrew/.julia/packages/MLJTuning/Bbgvk/src/tuned_models.jl:494\n",
      "\u001b[33mEvaluating over 49 metamodels: 100%[=========================] Time: 0:01:25\u001b[39m\n"
     ]
    },
    {
     "data": {
      "text/plain": [
       "\u001b[34mMachine{ProbabilisticTunedModel{Grid,…}} @912\u001b[39m trained 1 time.\n",
       "  args: \n",
       "    1:\t\u001b[34mSource @920\u001b[39m ⏎ `Table{AbstractArray{Continuous,1}}`\n",
       "    2:\t\u001b[34mSource @845\u001b[39m ⏎ `AbstractArray{Multiclass{2},1}`\n"
      ]
     },
     "execution_count": 134,
     "metadata": {},
     "output_type": "execute_result"
    }
   ],
   "source": [
    "z = fit!(self_tuning_nn, rows=train)"
   ]
  },
  {
   "cell_type": "code",
   "execution_count": 135,
   "metadata": {
    "scrolled": false
   },
   "outputs": [
    {
     "data": {
      "image/svg+xml": [
       "<?xml version=\"1.0\" encoding=\"utf-8\"?>\n",
       "<svg xmlns=\"http://www.w3.org/2000/svg\" xmlns:xlink=\"http://www.w3.org/1999/xlink\" width=\"600\" height=\"400\" viewBox=\"0 0 2400 1600\">\n",
       "<defs>\n",
       "  <clipPath id=\"clip510\">\n",
       "    <rect x=\"0\" y=\"0\" width=\"2400\" height=\"1600\"/>\n",
       "  </clipPath>\n",
       "</defs>\n",
       "<path clip-path=\"url(#clip510)\" d=\"\n",
       "M0 1600 L2400 1600 L2400 0 L0 0  Z\n",
       "  \" fill=\"#ffffff\" fill-rule=\"evenodd\" fill-opacity=\"1\"/>\n",
       "<defs>\n",
       "  <clipPath id=\"clip511\">\n",
       "    <rect x=\"480\" y=\"0\" width=\"1681\" height=\"1600\"/>\n",
       "  </clipPath>\n",
       "</defs>\n",
       "<path clip-path=\"url(#clip510)\" d=\"\n",
       "M244.308 1423.18 L2112.76 1423.18 L2112.76 47.2441 L244.308 47.2441  Z\n",
       "  \" fill=\"#ffffff\" fill-rule=\"evenodd\" fill-opacity=\"1\"/>\n",
       "<defs>\n",
       "  <clipPath id=\"clip512\">\n",
       "    <rect x=\"244\" y=\"47\" width=\"1869\" height=\"1377\"/>\n",
       "  </clipPath>\n",
       "</defs>\n",
       "<polyline clip-path=\"url(#clip512)\" style=\"stroke:#000000; stroke-width:2; stroke-opacity:0.1; fill:none\" points=\"\n",
       "  493.042,1423.18 493.042,47.2441 \n",
       "  \"/>\n",
       "<polyline clip-path=\"url(#clip512)\" style=\"stroke:#000000; stroke-width:2; stroke-opacity:0.1; fill:none\" points=\"\n",
       "  884.751,1423.18 884.751,47.2441 \n",
       "  \"/>\n",
       "<polyline clip-path=\"url(#clip512)\" style=\"stroke:#000000; stroke-width:2; stroke-opacity:0.1; fill:none\" points=\"\n",
       "  1276.46,1423.18 1276.46,47.2441 \n",
       "  \"/>\n",
       "<polyline clip-path=\"url(#clip512)\" style=\"stroke:#000000; stroke-width:2; stroke-opacity:0.1; fill:none\" points=\"\n",
       "  1668.17,1423.18 1668.17,47.2441 \n",
       "  \"/>\n",
       "<polyline clip-path=\"url(#clip512)\" style=\"stroke:#000000; stroke-width:2; stroke-opacity:0.1; fill:none\" points=\"\n",
       "  2059.88,1423.18 2059.88,47.2441 \n",
       "  \"/>\n",
       "<polyline clip-path=\"url(#clip512)\" style=\"stroke:#000000; stroke-width:2; stroke-opacity:0.1; fill:none\" points=\"\n",
       "  244.308,1384.24 2112.76,1384.24 \n",
       "  \"/>\n",
       "<polyline clip-path=\"url(#clip512)\" style=\"stroke:#000000; stroke-width:2; stroke-opacity:0.1; fill:none\" points=\"\n",
       "  244.308,1059.73 2112.76,1059.73 \n",
       "  \"/>\n",
       "<polyline clip-path=\"url(#clip512)\" style=\"stroke:#000000; stroke-width:2; stroke-opacity:0.1; fill:none\" points=\"\n",
       "  244.308,735.212 2112.76,735.212 \n",
       "  \"/>\n",
       "<polyline clip-path=\"url(#clip512)\" style=\"stroke:#000000; stroke-width:2; stroke-opacity:0.1; fill:none\" points=\"\n",
       "  244.308,410.699 2112.76,410.699 \n",
       "  \"/>\n",
       "<polyline clip-path=\"url(#clip512)\" style=\"stroke:#000000; stroke-width:2; stroke-opacity:0.1; fill:none\" points=\"\n",
       "  244.308,86.1857 2112.76,86.1857 \n",
       "  \"/>\n",
       "<polyline clip-path=\"url(#clip510)\" style=\"stroke:#000000; stroke-width:4; stroke-opacity:1; fill:none\" points=\"\n",
       "  244.308,1423.18 2112.76,1423.18 \n",
       "  \"/>\n",
       "<polyline clip-path=\"url(#clip510)\" style=\"stroke:#000000; stroke-width:4; stroke-opacity:1; fill:none\" points=\"\n",
       "  244.308,1423.18 244.308,47.2441 \n",
       "  \"/>\n",
       "<polyline clip-path=\"url(#clip510)\" style=\"stroke:#000000; stroke-width:4; stroke-opacity:1; fill:none\" points=\"\n",
       "  493.042,1423.18 493.042,1406.67 \n",
       "  \"/>\n",
       "<polyline clip-path=\"url(#clip510)\" style=\"stroke:#000000; stroke-width:4; stroke-opacity:1; fill:none\" points=\"\n",
       "  884.751,1423.18 884.751,1406.67 \n",
       "  \"/>\n",
       "<polyline clip-path=\"url(#clip510)\" style=\"stroke:#000000; stroke-width:4; stroke-opacity:1; fill:none\" points=\"\n",
       "  1276.46,1423.18 1276.46,1406.67 \n",
       "  \"/>\n",
       "<polyline clip-path=\"url(#clip510)\" style=\"stroke:#000000; stroke-width:4; stroke-opacity:1; fill:none\" points=\"\n",
       "  1668.17,1423.18 1668.17,1406.67 \n",
       "  \"/>\n",
       "<polyline clip-path=\"url(#clip510)\" style=\"stroke:#000000; stroke-width:4; stroke-opacity:1; fill:none\" points=\"\n",
       "  2059.88,1423.18 2059.88,1406.67 \n",
       "  \"/>\n",
       "<polyline clip-path=\"url(#clip510)\" style=\"stroke:#000000; stroke-width:4; stroke-opacity:1; fill:none\" points=\"\n",
       "  244.308,1384.24 266.729,1384.24 \n",
       "  \"/>\n",
       "<polyline clip-path=\"url(#clip510)\" style=\"stroke:#000000; stroke-width:4; stroke-opacity:1; fill:none\" points=\"\n",
       "  244.308,1059.73 266.729,1059.73 \n",
       "  \"/>\n",
       "<polyline clip-path=\"url(#clip510)\" style=\"stroke:#000000; stroke-width:4; stroke-opacity:1; fill:none\" points=\"\n",
       "  244.308,735.212 266.729,735.212 \n",
       "  \"/>\n",
       "<polyline clip-path=\"url(#clip510)\" style=\"stroke:#000000; stroke-width:4; stroke-opacity:1; fill:none\" points=\"\n",
       "  244.308,410.699 266.729,410.699 \n",
       "  \"/>\n",
       "<polyline clip-path=\"url(#clip510)\" style=\"stroke:#000000; stroke-width:4; stroke-opacity:1; fill:none\" points=\"\n",
       "  244.308,86.1857 266.729,86.1857 \n",
       "  \"/>\n",
       "<path clip-path=\"url(#clip510)\" d=\"M 0 0 M460.681 1472.72 L477.001 1472.72 L477.001 1476.65 L455.056 1476.65 L455.056 1472.72 Q457.719 1469.96 462.302 1465.33 Q466.908 1460.68 468.089 1459.34 Q470.334 1456.81 471.214 1455.08 Q472.117 1453.32 472.117 1451.63 Q472.117 1448.87 470.172 1447.14 Q468.251 1445.4 465.149 1445.4 Q462.95 1445.4 460.496 1446.17 Q458.066 1446.93 455.288 1448.48 L455.288 1443.76 Q458.112 1442.62 460.566 1442.05 Q463.019 1441.47 465.056 1441.47 Q470.427 1441.47 473.621 1444.15 Q476.816 1446.84 476.816 1451.33 Q476.816 1453.46 476.005 1455.38 Q475.218 1457.28 473.112 1459.87 Q472.533 1460.54 469.431 1463.76 Q466.33 1466.95 460.681 1472.72 Z\" fill=\"#000000\" fill-rule=\"evenodd\" fill-opacity=\"1\" /><path clip-path=\"url(#clip510)\" d=\"M 0 0 M492.07 1445.17 Q488.459 1445.17 486.63 1448.74 Q484.825 1452.28 484.825 1459.41 Q484.825 1466.51 486.63 1470.08 Q488.459 1473.62 492.07 1473.62 Q495.704 1473.62 497.51 1470.08 Q499.339 1466.51 499.339 1459.41 Q499.339 1452.28 497.51 1448.74 Q495.704 1445.17 492.07 1445.17 M492.07 1441.47 Q497.88 1441.47 500.936 1446.07 Q504.015 1450.66 504.015 1459.41 Q504.015 1468.13 500.936 1472.74 Q497.88 1477.32 492.07 1477.32 Q486.26 1477.32 483.181 1472.74 Q480.126 1468.13 480.126 1459.41 Q480.126 1450.66 483.181 1446.07 Q486.26 1441.47 492.07 1441.47 Z\" fill=\"#000000\" fill-rule=\"evenodd\" fill-opacity=\"1\" /><path clip-path=\"url(#clip510)\" d=\"M 0 0 M519.084 1445.17 Q515.473 1445.17 513.644 1448.74 Q511.839 1452.28 511.839 1459.41 Q511.839 1466.51 513.644 1470.08 Q515.473 1473.62 519.084 1473.62 Q522.718 1473.62 524.524 1470.08 Q526.352 1466.51 526.352 1459.41 Q526.352 1452.28 524.524 1448.74 Q522.718 1445.17 519.084 1445.17 M519.084 1441.47 Q524.894 1441.47 527.95 1446.07 Q531.028 1450.66 531.028 1459.41 Q531.028 1468.13 527.95 1472.74 Q524.894 1477.32 519.084 1477.32 Q513.274 1477.32 510.195 1472.74 Q507.14 1468.13 507.14 1459.41 Q507.14 1450.66 510.195 1446.07 Q513.274 1441.47 519.084 1441.47 Z\" fill=\"#000000\" fill-rule=\"evenodd\" fill-opacity=\"1\" /><path clip-path=\"url(#clip510)\" d=\"M 0 0 M860.746 1446.17 L848.941 1464.61 L860.746 1464.61 L860.746 1446.17 M859.519 1442.09 L865.399 1442.09 L865.399 1464.61 L870.329 1464.61 L870.329 1468.5 L865.399 1468.5 L865.399 1476.65 L860.746 1476.65 L860.746 1468.5 L845.144 1468.5 L845.144 1463.99 L859.519 1442.09 Z\" fill=\"#000000\" fill-rule=\"evenodd\" fill-opacity=\"1\" /><path clip-path=\"url(#clip510)\" d=\"M 0 0 M885.399 1445.17 Q881.788 1445.17 879.959 1448.74 Q878.153 1452.28 878.153 1459.41 Q878.153 1466.51 879.959 1470.08 Q881.788 1473.62 885.399 1473.62 Q889.033 1473.62 890.839 1470.08 Q892.667 1466.51 892.667 1459.41 Q892.667 1452.28 890.839 1448.74 Q889.033 1445.17 885.399 1445.17 M885.399 1441.47 Q891.209 1441.47 894.264 1446.07 Q897.343 1450.66 897.343 1459.41 Q897.343 1468.13 894.264 1472.74 Q891.209 1477.32 885.399 1477.32 Q879.589 1477.32 876.51 1472.74 Q873.454 1468.13 873.454 1459.41 Q873.454 1450.66 876.51 1446.07 Q879.589 1441.47 885.399 1441.47 Z\" fill=\"#000000\" fill-rule=\"evenodd\" fill-opacity=\"1\" /><path clip-path=\"url(#clip510)\" d=\"M 0 0 M912.413 1445.17 Q908.801 1445.17 906.973 1448.74 Q905.167 1452.28 905.167 1459.41 Q905.167 1466.51 906.973 1470.08 Q908.801 1473.62 912.413 1473.62 Q916.047 1473.62 917.852 1470.08 Q919.681 1466.51 919.681 1459.41 Q919.681 1452.28 917.852 1448.74 Q916.047 1445.17 912.413 1445.17 M912.413 1441.47 Q918.223 1441.47 921.278 1446.07 Q924.357 1450.66 924.357 1459.41 Q924.357 1468.13 921.278 1472.74 Q918.223 1477.32 912.413 1477.32 Q906.602 1477.32 903.524 1472.74 Q900.468 1468.13 900.468 1459.41 Q900.468 1450.66 903.524 1446.07 Q906.602 1441.47 912.413 1441.47 Z\" fill=\"#000000\" fill-rule=\"evenodd\" fill-opacity=\"1\" /><path clip-path=\"url(#clip510)\" d=\"M 0 0 M1249.85 1457.51 Q1246.7 1457.51 1244.85 1459.66 Q1243.02 1461.81 1243.02 1465.56 Q1243.02 1469.29 1244.85 1471.47 Q1246.7 1473.62 1249.85 1473.62 Q1253 1473.62 1254.83 1471.47 Q1256.68 1469.29 1256.68 1465.56 Q1256.68 1461.81 1254.83 1459.66 Q1253 1457.51 1249.85 1457.51 M1259.13 1442.86 L1259.13 1447.11 Q1257.37 1446.28 1255.57 1445.84 Q1253.79 1445.4 1252.03 1445.4 Q1247.4 1445.4 1244.94 1448.53 Q1242.51 1451.65 1242.17 1457.97 Q1243.53 1455.96 1245.59 1454.89 Q1247.65 1453.8 1250.13 1453.8 Q1255.34 1453.8 1258.35 1456.98 Q1261.38 1460.12 1261.38 1465.56 Q1261.38 1470.89 1258.23 1474.11 Q1255.08 1477.32 1249.85 1477.32 Q1243.85 1477.32 1240.68 1472.74 Q1237.51 1468.13 1237.51 1459.41 Q1237.51 1451.21 1241.4 1446.35 Q1245.29 1441.47 1251.84 1441.47 Q1253.6 1441.47 1255.38 1441.81 Q1257.19 1442.16 1259.13 1442.86 Z\" fill=\"#000000\" fill-rule=\"evenodd\" fill-opacity=\"1\" /><path clip-path=\"url(#clip510)\" d=\"M 0 0 M1276.45 1445.17 Q1272.84 1445.17 1271.01 1448.74 Q1269.2 1452.28 1269.2 1459.41 Q1269.2 1466.51 1271.01 1470.08 Q1272.84 1473.62 1276.45 1473.62 Q1280.08 1473.62 1281.89 1470.08 Q1283.72 1466.51 1283.72 1459.41 Q1283.72 1452.28 1281.89 1448.74 Q1280.08 1445.17 1276.45 1445.17 M1276.45 1441.47 Q1282.26 1441.47 1285.31 1446.07 Q1288.39 1450.66 1288.39 1459.41 Q1288.39 1468.13 1285.31 1472.74 Q1282.26 1477.32 1276.45 1477.32 Q1270.64 1477.32 1267.56 1472.74 Q1264.5 1468.13 1264.5 1459.41 Q1264.5 1450.66 1267.56 1446.07 Q1270.64 1441.47 1276.45 1441.47 Z\" fill=\"#000000\" fill-rule=\"evenodd\" fill-opacity=\"1\" /><path clip-path=\"url(#clip510)\" d=\"M 0 0 M1303.46 1445.17 Q1299.85 1445.17 1298.02 1448.74 Q1296.22 1452.28 1296.22 1459.41 Q1296.22 1466.51 1298.02 1470.08 Q1299.85 1473.62 1303.46 1473.62 Q1307.1 1473.62 1308.9 1470.08 Q1310.73 1466.51 1310.73 1459.41 Q1310.73 1452.28 1308.9 1448.74 Q1307.1 1445.17 1303.46 1445.17 M1303.46 1441.47 Q1309.27 1441.47 1312.33 1446.07 Q1315.41 1450.66 1315.41 1459.41 Q1315.41 1468.13 1312.33 1472.74 Q1309.27 1477.32 1303.46 1477.32 Q1297.65 1477.32 1294.57 1472.74 Q1291.52 1468.13 1291.52 1459.41 Q1291.52 1450.66 1294.57 1446.07 Q1297.65 1441.47 1303.46 1441.47 Z\" fill=\"#000000\" fill-rule=\"evenodd\" fill-opacity=\"1\" /><path clip-path=\"url(#clip510)\" d=\"M 0 0 M1641.15 1460.24 Q1637.82 1460.24 1635.9 1462.02 Q1634 1463.8 1634 1466.93 Q1634 1470.05 1635.9 1471.84 Q1637.82 1473.62 1641.15 1473.62 Q1644.49 1473.62 1646.41 1471.84 Q1648.33 1470.03 1648.33 1466.93 Q1648.33 1463.8 1646.41 1462.02 Q1644.51 1460.24 1641.15 1460.24 M1636.48 1458.25 Q1633.47 1457.51 1631.78 1455.45 Q1630.11 1453.39 1630.11 1450.43 Q1630.11 1446.28 1633.05 1443.87 Q1636.01 1441.47 1641.15 1441.47 Q1646.32 1441.47 1649.26 1443.87 Q1652.19 1446.28 1652.19 1450.43 Q1652.19 1453.39 1650.51 1455.45 Q1648.84 1457.51 1645.85 1458.25 Q1649.23 1459.04 1651.11 1461.33 Q1653.01 1463.62 1653.01 1466.93 Q1653.01 1471.95 1649.93 1474.64 Q1646.87 1477.32 1641.15 1477.32 Q1635.44 1477.32 1632.36 1474.64 Q1629.3 1471.95 1629.3 1466.93 Q1629.3 1463.62 1631.2 1461.33 Q1633.1 1459.04 1636.48 1458.25 M1634.76 1450.86 Q1634.76 1453.55 1636.43 1455.05 Q1638.12 1456.56 1641.15 1456.56 Q1644.16 1456.56 1645.85 1455.05 Q1647.57 1453.55 1647.57 1450.86 Q1647.57 1448.18 1645.85 1446.68 Q1644.16 1445.17 1641.15 1445.17 Q1638.12 1445.17 1636.43 1446.68 Q1634.76 1448.18 1634.76 1450.86 Z\" fill=\"#000000\" fill-rule=\"evenodd\" fill-opacity=\"1\" /><path clip-path=\"url(#clip510)\" d=\"M 0 0 M1668.07 1445.17 Q1664.46 1445.17 1662.63 1448.74 Q1660.83 1452.28 1660.83 1459.41 Q1660.83 1466.51 1662.63 1470.08 Q1664.46 1473.62 1668.07 1473.62 Q1671.71 1473.62 1673.51 1470.08 Q1675.34 1466.51 1675.34 1459.41 Q1675.34 1452.28 1673.51 1448.74 Q1671.71 1445.17 1668.07 1445.17 M1668.07 1441.47 Q1673.88 1441.47 1676.94 1446.07 Q1680.02 1450.66 1680.02 1459.41 Q1680.02 1468.13 1676.94 1472.74 Q1673.88 1477.32 1668.07 1477.32 Q1662.26 1477.32 1659.19 1472.74 Q1656.13 1468.13 1656.13 1459.41 Q1656.13 1450.66 1659.19 1446.07 Q1662.26 1441.47 1668.07 1441.47 Z\" fill=\"#000000\" fill-rule=\"evenodd\" fill-opacity=\"1\" /><path clip-path=\"url(#clip510)\" d=\"M 0 0 M1695.09 1445.17 Q1691.48 1445.17 1689.65 1448.74 Q1687.84 1452.28 1687.84 1459.41 Q1687.84 1466.51 1689.65 1470.08 Q1691.48 1473.62 1695.09 1473.62 Q1698.72 1473.62 1700.53 1470.08 Q1702.36 1466.51 1702.36 1459.41 Q1702.36 1452.28 1700.53 1448.74 Q1698.72 1445.17 1695.09 1445.17 M1695.09 1441.47 Q1700.9 1441.47 1703.95 1446.07 Q1707.03 1450.66 1707.03 1459.41 Q1707.03 1468.13 1703.95 1472.74 Q1700.9 1477.32 1695.09 1477.32 Q1689.28 1477.32 1686.2 1472.74 Q1683.14 1468.13 1683.14 1459.41 Q1683.14 1450.66 1686.2 1446.07 Q1689.28 1441.47 1695.09 1441.47 Z\" fill=\"#000000\" fill-rule=\"evenodd\" fill-opacity=\"1\" /><path clip-path=\"url(#clip510)\" d=\"M 0 0 M2009.74 1472.72 L2017.38 1472.72 L2017.38 1446.35 L2009.07 1448.02 L2009.07 1443.76 L2017.33 1442.09 L2022.01 1442.09 L2022.01 1472.72 L2029.64 1472.72 L2029.64 1476.65 L2009.74 1476.65 L2009.74 1472.72 Z\" fill=\"#000000\" fill-rule=\"evenodd\" fill-opacity=\"1\" /><path clip-path=\"url(#clip510)\" d=\"M 0 0 M2044.71 1445.17 Q2041.1 1445.17 2039.27 1448.74 Q2037.47 1452.28 2037.47 1459.41 Q2037.47 1466.51 2039.27 1470.08 Q2041.1 1473.62 2044.71 1473.62 Q2048.35 1473.62 2050.15 1470.08 Q2051.98 1466.51 2051.98 1459.41 Q2051.98 1452.28 2050.15 1448.74 Q2048.35 1445.17 2044.71 1445.17 M2044.71 1441.47 Q2050.52 1441.47 2053.58 1446.07 Q2056.66 1450.66 2056.66 1459.41 Q2056.66 1468.13 2053.58 1472.74 Q2050.52 1477.32 2044.71 1477.32 Q2038.9 1477.32 2035.82 1472.74 Q2032.77 1468.13 2032.77 1459.41 Q2032.77 1450.66 2035.82 1446.07 Q2038.9 1441.47 2044.71 1441.47 Z\" fill=\"#000000\" fill-rule=\"evenodd\" fill-opacity=\"1\" /><path clip-path=\"url(#clip510)\" d=\"M 0 0 M2071.73 1445.17 Q2068.12 1445.17 2066.29 1448.74 Q2064.48 1452.28 2064.48 1459.41 Q2064.48 1466.51 2066.29 1470.08 Q2068.12 1473.62 2071.73 1473.62 Q2075.36 1473.62 2077.17 1470.08 Q2079 1466.51 2079 1459.41 Q2079 1452.28 2077.17 1448.74 Q2075.36 1445.17 2071.73 1445.17 M2071.73 1441.47 Q2077.54 1441.47 2080.59 1446.07 Q2083.67 1450.66 2083.67 1459.41 Q2083.67 1468.13 2080.59 1472.74 Q2077.54 1477.32 2071.73 1477.32 Q2065.92 1477.32 2062.84 1472.74 Q2059.78 1468.13 2059.78 1459.41 Q2059.78 1450.66 2062.84 1446.07 Q2065.92 1441.47 2071.73 1441.47 Z\" fill=\"#000000\" fill-rule=\"evenodd\" fill-opacity=\"1\" /><path clip-path=\"url(#clip510)\" d=\"M 0 0 M2098.74 1445.17 Q2095.13 1445.17 2093.3 1448.74 Q2091.5 1452.28 2091.5 1459.41 Q2091.5 1466.51 2093.3 1470.08 Q2095.13 1473.62 2098.74 1473.62 Q2102.38 1473.62 2104.18 1470.08 Q2106.01 1466.51 2106.01 1459.41 Q2106.01 1452.28 2104.18 1448.74 Q2102.38 1445.17 2098.74 1445.17 M2098.74 1441.47 Q2104.55 1441.47 2107.61 1446.07 Q2110.69 1450.66 2110.69 1459.41 Q2110.69 1468.13 2107.61 1472.74 Q2104.55 1477.32 2098.74 1477.32 Q2092.93 1477.32 2089.85 1472.74 Q2086.8 1468.13 2086.8 1459.41 Q2086.8 1450.66 2089.85 1446.07 Q2092.93 1441.47 2098.74 1441.47 Z\" fill=\"#000000\" fill-rule=\"evenodd\" fill-opacity=\"1\" /><path clip-path=\"url(#clip510)\" d=\"M 0 0 M126.931 1404.03 L134.57 1404.03 L134.57 1377.67 L126.26 1379.33 L126.26 1375.07 L134.524 1373.41 L139.2 1373.41 L139.2 1404.03 L146.839 1404.03 L146.839 1407.97 L126.931 1407.97 L126.931 1404.03 Z\" fill=\"#000000\" fill-rule=\"evenodd\" fill-opacity=\"1\" /><path clip-path=\"url(#clip510)\" d=\"M 0 0 M161.908 1376.48 Q158.297 1376.48 156.468 1380.05 Q154.663 1383.59 154.663 1390.72 Q154.663 1397.83 156.468 1401.39 Q158.297 1404.93 161.908 1404.93 Q165.542 1404.93 167.348 1401.39 Q169.177 1397.83 169.177 1390.72 Q169.177 1383.59 167.348 1380.05 Q165.542 1376.48 161.908 1376.48 M161.908 1372.78 Q167.718 1372.78 170.774 1377.39 Q173.852 1381.97 173.852 1390.72 Q173.852 1399.45 170.774 1404.05 Q167.718 1408.64 161.908 1408.64 Q156.098 1408.64 153.019 1404.05 Q149.964 1399.45 149.964 1390.72 Q149.964 1381.97 153.019 1377.39 Q156.098 1372.78 161.908 1372.78 Z\" fill=\"#000000\" fill-rule=\"evenodd\" fill-opacity=\"1\" /><path clip-path=\"url(#clip510)\" d=\"M 0 0 M173.852 1366.88 L197.964 1366.88 L197.964 1370.08 L173.852 1370.08 L173.852 1366.88 Z\" fill=\"#000000\" fill-rule=\"evenodd\" fill-opacity=\"1\" /><path clip-path=\"url(#clip510)\" d=\"M 0 0 M212.521 1355.79 L202.929 1370.78 L212.521 1370.78 L212.521 1355.79 M211.524 1352.48 L216.302 1352.48 L216.302 1370.78 L220.308 1370.78 L220.308 1373.94 L216.302 1373.94 L216.302 1380.56 L212.521 1380.56 L212.521 1373.94 L199.845 1373.94 L199.845 1370.27 L211.524 1352.48 Z\" fill=\"#000000\" fill-rule=\"evenodd\" fill-opacity=\"1\" /><path clip-path=\"url(#clip510)\" d=\"M 0 0 M127.853 1079.52 L135.492 1079.52 L135.492 1053.15 L127.182 1054.82 L127.182 1050.56 L135.446 1048.89 L140.121 1048.89 L140.121 1079.52 L147.76 1079.52 L147.76 1083.45 L127.853 1083.45 L127.853 1079.52 Z\" fill=\"#000000\" fill-rule=\"evenodd\" fill-opacity=\"1\" /><path clip-path=\"url(#clip510)\" d=\"M 0 0 M162.83 1051.97 Q159.219 1051.97 157.39 1055.54 Q155.584 1059.08 155.584 1066.21 Q155.584 1073.31 157.39 1076.88 Q159.219 1080.42 162.83 1080.42 Q166.464 1080.42 168.269 1076.88 Q170.098 1073.31 170.098 1066.21 Q170.098 1059.08 168.269 1055.54 Q166.464 1051.97 162.83 1051.97 M162.83 1048.27 Q168.64 1048.27 171.695 1052.87 Q174.774 1057.46 174.774 1066.21 Q174.774 1074.93 171.695 1079.54 Q168.64 1084.12 162.83 1084.12 Q157.02 1084.12 153.941 1079.54 Q150.885 1074.93 150.885 1066.21 Q150.885 1057.46 153.941 1052.87 Q157.02 1048.27 162.83 1048.27 Z\" fill=\"#000000\" fill-rule=\"evenodd\" fill-opacity=\"1\" /><path clip-path=\"url(#clip510)\" d=\"M 0 0 M174.774 1042.37 L198.886 1042.37 L198.886 1045.57 L174.774 1045.57 L174.774 1042.37 Z\" fill=\"#000000\" fill-rule=\"evenodd\" fill-opacity=\"1\" /><path clip-path=\"url(#clip510)\" d=\"M 0 0 M214.515 1040.9 Q217.242 1041.49 218.765 1043.33 Q220.308 1045.17 220.308 1047.88 Q220.308 1052.04 217.449 1054.31 Q214.59 1056.59 209.324 1056.59 Q207.556 1056.59 205.675 1056.23 Q203.813 1055.89 201.82 1055.2 L201.82 1051.53 Q203.4 1052.45 205.28 1052.92 Q207.161 1053.39 209.211 1053.39 Q212.785 1053.39 214.647 1051.98 Q216.527 1050.57 216.527 1047.88 Q216.527 1045.4 214.778 1044.01 Q213.048 1042.59 209.945 1042.59 L206.672 1042.59 L206.672 1039.47 L210.095 1039.47 Q212.897 1039.47 214.383 1038.36 Q215.869 1037.23 215.869 1035.13 Q215.869 1032.97 214.327 1031.82 Q212.803 1030.65 209.945 1030.65 Q208.384 1030.65 206.597 1030.99 Q204.81 1031.33 202.666 1032.04 L202.666 1028.66 Q204.829 1028.06 206.71 1027.76 Q208.609 1027.45 210.283 1027.45 Q214.609 1027.45 217.129 1029.43 Q219.649 1031.39 219.649 1034.73 Q219.649 1037.07 218.314 1038.68 Q216.979 1040.28 214.515 1040.9 Z\" fill=\"#000000\" fill-rule=\"evenodd\" fill-opacity=\"1\" /><path clip-path=\"url(#clip510)\" d=\"M 0 0 M128.624 755.004 L136.263 755.004 L136.263 728.639 L127.953 730.305 L127.953 726.046 L136.217 724.38 L140.893 724.38 L140.893 755.004 L148.531 755.004 L148.531 758.94 L128.624 758.94 L128.624 755.004 Z\" fill=\"#000000\" fill-rule=\"evenodd\" fill-opacity=\"1\" /><path clip-path=\"url(#clip510)\" d=\"M 0 0 M163.601 727.458 Q159.99 727.458 158.161 731.023 Q156.355 734.565 156.355 741.694 Q156.355 748.801 158.161 752.366 Q159.99 755.907 163.601 755.907 Q167.235 755.907 169.041 752.366 Q170.869 748.801 170.869 741.694 Q170.869 734.565 169.041 731.023 Q167.235 727.458 163.601 727.458 M163.601 723.755 Q169.411 723.755 172.467 728.361 Q175.545 732.944 175.545 741.694 Q175.545 750.421 172.467 755.028 Q169.411 759.611 163.601 759.611 Q157.791 759.611 154.712 755.028 Q151.656 750.421 151.656 741.694 Q151.656 732.944 154.712 728.361 Q157.791 723.755 163.601 723.755 Z\" fill=\"#000000\" fill-rule=\"evenodd\" fill-opacity=\"1\" /><path clip-path=\"url(#clip510)\" d=\"M 0 0 M175.545 717.856 L199.657 717.856 L199.657 721.053 L175.545 721.053 L175.545 717.856 Z\" fill=\"#000000\" fill-rule=\"evenodd\" fill-opacity=\"1\" /><path clip-path=\"url(#clip510)\" d=\"M 0 0 M207.048 728.332 L220.308 728.332 L220.308 731.529 L202.478 731.529 L202.478 728.332 Q204.641 726.094 208.365 722.332 Q212.107 718.552 213.067 717.461 Q214.891 715.411 215.606 714 Q216.339 712.571 216.339 711.198 Q216.339 708.96 214.759 707.549 Q213.198 706.139 210.678 706.139 Q208.891 706.139 206.898 706.759 Q204.923 707.38 202.666 708.64 L202.666 704.803 Q204.961 703.882 206.954 703.412 Q208.948 702.941 210.603 702.941 Q214.966 702.941 217.562 705.123 Q220.157 707.305 220.157 710.953 Q220.157 712.684 219.499 714.245 Q218.859 715.787 217.148 717.894 Q216.678 718.439 214.158 721.053 Q211.637 723.649 207.048 728.332 Z\" fill=\"#000000\" fill-rule=\"evenodd\" fill-opacity=\"1\" /><path clip-path=\"url(#clip510)\" d=\"M 0 0 M128.323 430.491 L135.962 430.491 L135.962 404.126 L127.652 405.792 L127.652 401.533 L135.916 399.866 L140.592 399.866 L140.592 430.491 L148.231 430.491 L148.231 434.426 L128.323 434.426 L128.323 430.491 Z\" fill=\"#000000\" fill-rule=\"evenodd\" fill-opacity=\"1\" /><path clip-path=\"url(#clip510)\" d=\"M 0 0 M163.3 402.945 Q159.689 402.945 157.86 406.51 Q156.055 410.052 156.055 417.181 Q156.055 424.288 157.86 427.852 Q159.689 431.394 163.3 431.394 Q166.934 431.394 168.74 427.852 Q170.568 424.288 170.568 417.181 Q170.568 410.052 168.74 406.51 Q166.934 402.945 163.3 402.945 M163.3 399.241 Q169.11 399.241 172.166 403.848 Q175.244 408.431 175.244 417.181 Q175.244 425.908 172.166 430.514 Q169.11 435.098 163.3 435.098 Q157.49 435.098 154.411 430.514 Q151.356 425.908 151.356 417.181 Q151.356 408.431 154.411 403.848 Q157.49 399.241 163.3 399.241 Z\" fill=\"#000000\" fill-rule=\"evenodd\" fill-opacity=\"1\" /><path clip-path=\"url(#clip510)\" d=\"M 0 0 M175.244 393.343 L199.356 393.343 L199.356 396.54 L175.244 396.54 L175.244 393.343 Z\" fill=\"#000000\" fill-rule=\"evenodd\" fill-opacity=\"1\" /><path clip-path=\"url(#clip510)\" d=\"M 0 0 M204.133 403.819 L210.34 403.819 L210.34 382.397 L203.588 383.751 L203.588 380.29 L210.302 378.936 L214.101 378.936 L214.101 403.819 L220.308 403.819 L220.308 407.016 L204.133 407.016 L204.133 403.819 Z\" fill=\"#000000\" fill-rule=\"evenodd\" fill-opacity=\"1\" /><path clip-path=\"url(#clip510)\" d=\"M 0 0 M153.977 105.978 L161.616 105.978 L161.616 79.6125 L153.306 81.2792 L153.306 77.0199 L161.57 75.3533 L166.245 75.3533 L166.245 105.978 L173.884 105.978 L173.884 109.913 L153.977 109.913 L153.977 105.978 Z\" fill=\"#000000\" fill-rule=\"evenodd\" fill-opacity=\"1\" /><path clip-path=\"url(#clip510)\" d=\"M 0 0 M188.954 78.432 Q185.343 78.432 183.514 81.9968 Q181.708 85.5384 181.708 92.668 Q181.708 99.7744 183.514 103.339 Q185.343 106.881 188.954 106.881 Q192.588 106.881 194.393 103.339 Q196.222 99.7744 196.222 92.668 Q196.222 85.5384 194.393 81.9968 Q192.588 78.432 188.954 78.432 M188.954 74.7283 Q194.764 74.7283 197.819 79.3347 Q200.898 83.918 200.898 92.668 Q200.898 101.395 197.819 106.001 Q194.764 110.585 188.954 110.585 Q183.144 110.585 180.065 106.001 Q177.009 101.395 177.009 92.668 Q177.009 83.918 180.065 79.3347 Q183.144 74.7283 188.954 74.7283 Z\" fill=\"#000000\" fill-rule=\"evenodd\" fill-opacity=\"1\" /><path clip-path=\"url(#clip510)\" d=\"M 0 0 M210.603 56.9243 Q207.669 56.9243 206.183 59.8207 Q204.716 62.6983 204.716 68.4911 Q204.716 74.2651 206.183 77.1615 Q207.669 80.0391 210.603 80.0391 Q213.556 80.0391 215.023 77.1615 Q216.509 74.2651 216.509 68.4911 Q216.509 62.6983 215.023 59.8207 Q213.556 56.9243 210.603 56.9243 M210.603 53.9151 Q215.324 53.9151 217.806 57.6578 Q220.308 61.3817 220.308 68.4911 Q220.308 75.5816 217.806 79.3244 Q215.324 83.0483 210.603 83.0483 Q205.882 83.0483 203.381 79.3244 Q200.898 75.5816 200.898 68.4911 Q200.898 61.3817 203.381 57.6578 Q205.882 53.9151 210.603 53.9151 Z\" fill=\"#000000\" fill-rule=\"evenodd\" fill-opacity=\"1\" /><path clip-path=\"url(#clip510)\" d=\"M 0 0 M1108.81 1536.76 L1108.81 1539.62 L1081.88 1539.62 Q1082.27 1545.67 1085.51 1548.85 Q1088.79 1552 1094.62 1552 Q1097.99 1552 1101.14 1551.17 Q1104.32 1550.35 1107.44 1548.69 L1107.44 1554.23 Q1104.29 1555.57 1100.98 1556.27 Q1097.67 1556.97 1094.27 1556.97 Q1085.74 1556.97 1080.74 1552 Q1075.77 1547.04 1075.77 1538.57 Q1075.77 1529.82 1080.48 1524.69 Q1085.23 1519.54 1093.25 1519.54 Q1100.44 1519.54 1104.61 1524.18 Q1108.81 1528.8 1108.81 1536.76 M1102.95 1535.04 Q1102.89 1530.23 1100.25 1527.37 Q1097.64 1524.5 1093.31 1524.5 Q1088.41 1524.5 1085.45 1527.27 Q1082.52 1530.04 1082.08 1535.07 L1102.95 1535.04 Z\" fill=\"#000000\" fill-rule=\"evenodd\" fill-opacity=\"1\" /><path clip-path=\"url(#clip510)\" d=\"M 0 0 M1120.62 1550.7 L1120.62 1569.6 L1114.73 1569.6 L1114.73 1520.4 L1120.62 1520.4 L1120.62 1525.81 Q1122.47 1522.62 1125.27 1521.1 Q1128.1 1519.54 1132.01 1519.54 Q1138.51 1519.54 1142.55 1524.69 Q1146.62 1529.85 1146.62 1538.25 Q1146.62 1546.65 1142.55 1551.81 Q1138.51 1556.97 1132.01 1556.97 Q1128.1 1556.97 1125.27 1555.44 Q1122.47 1553.88 1120.62 1550.7 M1140.54 1538.25 Q1140.54 1531.79 1137.87 1528.13 Q1135.23 1524.44 1130.58 1524.44 Q1125.94 1524.44 1123.26 1528.13 Q1120.62 1531.79 1120.62 1538.25 Q1120.62 1544.71 1123.26 1548.4 Q1125.94 1552.07 1130.58 1552.07 Q1135.23 1552.07 1137.87 1548.4 Q1140.54 1544.71 1140.54 1538.25 Z\" fill=\"#000000\" fill-rule=\"evenodd\" fill-opacity=\"1\" /><path clip-path=\"url(#clip510)\" d=\"M 0 0 M1166.58 1524.5 Q1161.87 1524.5 1159.13 1528.19 Q1156.4 1531.85 1156.4 1538.25 Q1156.4 1544.65 1159.1 1548.34 Q1161.84 1552 1166.58 1552 Q1171.26 1552 1174 1548.31 Q1176.73 1544.62 1176.73 1538.25 Q1176.73 1531.92 1174 1528.23 Q1171.26 1524.5 1166.58 1524.5 M1166.58 1519.54 Q1174.22 1519.54 1178.58 1524.5 Q1182.94 1529.47 1182.94 1538.25 Q1182.94 1547 1178.58 1552 Q1174.22 1556.97 1166.58 1556.97 Q1158.91 1556.97 1154.55 1552 Q1150.22 1547 1150.22 1538.25 Q1150.22 1529.47 1154.55 1524.5 Q1158.91 1519.54 1166.58 1519.54 Z\" fill=\"#000000\" fill-rule=\"evenodd\" fill-opacity=\"1\" /><path clip-path=\"url(#clip510)\" d=\"M 0 0 M1214.74 1521.76 L1214.74 1527.24 Q1212.25 1525.87 1209.74 1525.2 Q1207.26 1524.5 1204.71 1524.5 Q1199.01 1524.5 1195.86 1528.13 Q1192.71 1531.73 1192.71 1538.25 Q1192.71 1544.78 1195.86 1548.4 Q1199.01 1552 1204.71 1552 Q1207.26 1552 1209.74 1551.33 Q1212.25 1550.63 1214.74 1549.26 L1214.74 1554.68 Q1212.29 1555.82 1209.64 1556.39 Q1207.03 1556.97 1204.07 1556.97 Q1196.02 1556.97 1191.28 1551.91 Q1186.54 1546.85 1186.54 1538.25 Q1186.54 1529.53 1191.31 1524.53 Q1196.12 1519.54 1204.46 1519.54 Q1207.16 1519.54 1209.74 1520.11 Q1212.32 1520.65 1214.74 1521.76 Z\" fill=\"#000000\" fill-rule=\"evenodd\" fill-opacity=\"1\" /><path clip-path=\"url(#clip510)\" d=\"M 0 0 M1250.51 1534.53 L1250.51 1556.04 L1244.66 1556.04 L1244.66 1534.72 Q1244.66 1529.66 1242.68 1527.14 Q1240.71 1524.63 1236.76 1524.63 Q1232.02 1524.63 1229.28 1527.65 Q1226.55 1530.68 1226.55 1535.9 L1226.55 1556.04 L1220.66 1556.04 L1220.66 1506.52 L1226.55 1506.52 L1226.55 1525.93 Q1228.65 1522.72 1231.48 1521.13 Q1234.34 1519.54 1238.07 1519.54 Q1244.21 1519.54 1247.36 1523.36 Q1250.51 1527.14 1250.51 1534.53 Z\" fill=\"#000000\" fill-rule=\"evenodd\" fill-opacity=\"1\" /><path clip-path=\"url(#clip510)\" d=\"M 0 0 M1279.38 1521.45 L1279.38 1526.98 Q1276.9 1525.71 1274.22 1525.07 Q1271.55 1524.44 1268.69 1524.44 Q1264.33 1524.44 1262.13 1525.77 Q1259.97 1527.11 1259.97 1529.79 Q1259.97 1531.82 1261.52 1533 Q1263.08 1534.15 1267.79 1535.2 L1269.8 1535.64 Q1276.04 1536.98 1278.65 1539.43 Q1281.29 1541.85 1281.29 1546.21 Q1281.29 1551.17 1277.34 1554.07 Q1273.43 1556.97 1266.55 1556.97 Q1263.69 1556.97 1260.57 1556.39 Q1257.48 1555.85 1254.04 1554.74 L1254.04 1548.69 Q1257.29 1550.38 1260.44 1551.24 Q1263.59 1552.07 1266.68 1552.07 Q1270.82 1552.07 1273.05 1550.66 Q1275.27 1549.23 1275.27 1546.65 Q1275.27 1544.27 1273.65 1542.99 Q1272.06 1541.72 1266.62 1540.54 L1264.58 1540.07 Q1259.14 1538.92 1256.72 1536.56 Q1254.3 1534.18 1254.3 1530.04 Q1254.3 1525.01 1257.86 1522.27 Q1261.43 1519.54 1267.99 1519.54 Q1271.23 1519.54 1274.1 1520.01 Q1276.96 1520.49 1279.38 1521.45 Z\" fill=\"#000000\" fill-rule=\"evenodd\" fill-opacity=\"1\" /><path clip-path=\"url(#clip510)\" d=\"M 0 0 M38.479 837.779 L38.479 831.923 L88.0042 831.923 L88.0042 837.779 L38.479 837.779 Z\" fill=\"#000000\" fill-rule=\"evenodd\" fill-opacity=\"1\" /><path clip-path=\"url(#clip510)\" d=\"M 0 0 M70.0847 809.579 Q70.0847 816.677 71.7079 819.414 Q73.3312 822.152 77.2461 822.152 Q80.3653 822.152 82.2114 820.115 Q84.0256 818.046 84.0256 814.513 Q84.0256 809.643 80.5881 806.715 Q77.1188 803.755 71.3897 803.755 L70.0847 803.755 L70.0847 809.579 M67.6657 797.898 L88.0042 797.898 L88.0042 803.755 L82.5933 803.755 Q85.8398 805.76 87.3994 808.752 Q88.9272 811.744 88.9272 816.072 Q88.9272 821.547 85.8716 824.793 Q82.7843 828.008 77.6281 828.008 Q71.6125 828.008 68.5569 823.998 Q65.5014 819.955 65.5014 811.966 L65.5014 803.755 L64.9285 803.755 Q60.8862 803.755 58.6901 806.428 Q56.4621 809.07 56.4621 813.876 Q56.4621 816.932 57.1941 819.828 Q57.9262 822.725 59.3903 825.398 L53.9795 825.398 Q52.7381 822.183 52.1334 819.16 Q51.4968 816.136 51.4968 813.271 Q51.4968 805.537 55.5072 801.718 Q59.5176 797.898 67.6657 797.898 Z\" fill=\"#000000\" fill-rule=\"evenodd\" fill-opacity=\"1\" /><path clip-path=\"url(#clip510)\" d=\"M 0 0 M59.1993 764.001 Q55.2526 761.805 53.3747 758.749 Q51.4968 755.694 51.4968 751.556 Q51.4968 745.986 55.4117 742.962 Q59.2948 739.939 66.4881 739.939 L88.0042 739.939 L88.0042 745.827 L66.679 745.827 Q61.5546 745.827 59.072 747.641 Q56.5894 749.455 56.5894 753.179 Q56.5894 757.731 59.6131 760.372 Q62.6368 763.014 67.8567 763.014 L88.0042 763.014 L88.0042 768.902 L66.679 768.902 Q61.5228 768.902 59.072 770.717 Q56.5894 772.531 56.5894 776.319 Q56.5894 780.806 59.6449 783.448 Q62.6686 786.09 67.8567 786.09 L88.0042 786.09 L88.0042 791.978 L52.3562 791.978 L52.3562 786.09 L57.8944 786.09 Q54.616 784.085 53.0564 781.284 Q51.4968 778.483 51.4968 774.632 Q51.4968 770.749 53.4702 768.043 Q55.4436 765.306 59.1993 764.001 Z\" fill=\"#000000\" fill-rule=\"evenodd\" fill-opacity=\"1\" /><path clip-path=\"url(#clip510)\" d=\"M 0 0 M70.212 708.205 Q63.7508 708.205 60.0905 710.879 Q56.3984 713.521 56.3984 718.168 Q56.3984 722.815 60.0905 725.488 Q63.7508 728.13 70.212 728.13 Q76.6732 728.13 80.3653 725.488 Q84.0256 722.815 84.0256 718.168 Q84.0256 713.521 80.3653 710.879 Q76.6732 708.205 70.212 708.205 M57.7671 728.13 Q54.5842 726.284 53.0564 723.483 Q51.4968 720.65 51.4968 716.736 Q51.4968 710.242 56.6531 706.2 Q61.8093 702.126 70.212 702.126 Q78.6147 702.126 83.771 706.2 Q88.9272 710.242 88.9272 716.736 Q88.9272 720.65 87.3994 723.483 Q85.8398 726.284 82.657 728.13 L88.0042 728.13 L88.0042 734.018 L38.479 734.018 L38.479 728.13 L57.7671 728.13 Z\" fill=\"#000000\" fill-rule=\"evenodd\" fill-opacity=\"1\" /><path clip-path=\"url(#clip510)\" d=\"M 0 0 M57.7671 672.526 L38.479 672.526 L38.479 666.669 L88.0042 666.669 L88.0042 672.526 L82.657 672.526 Q85.8398 674.372 87.3994 677.204 Q88.9272 680.005 88.9272 683.952 Q88.9272 690.413 83.771 694.487 Q78.6147 698.53 70.212 698.53 Q61.8093 698.53 56.6531 694.487 Q51.4968 690.413 51.4968 683.952 Q51.4968 680.005 53.0564 677.204 Q54.5842 674.372 57.7671 672.526 M70.212 692.482 Q76.6732 692.482 80.3653 689.84 Q84.0256 687.167 84.0256 682.52 Q84.0256 677.873 80.3653 675.199 Q76.6732 672.526 70.212 672.526 Q63.7508 672.526 60.0905 675.199 Q56.3984 677.873 56.3984 682.52 Q56.3984 687.167 60.0905 689.84 Q63.7508 692.482 70.212 692.482 Z\" fill=\"#000000\" fill-rule=\"evenodd\" fill-opacity=\"1\" /><path clip-path=\"url(#clip510)\" d=\"M 0 0 M70.0847 644.326 Q70.0847 651.423 71.7079 654.161 Q73.3312 656.898 77.2461 656.898 Q80.3653 656.898 82.2114 654.861 Q84.0256 652.792 84.0256 649.259 Q84.0256 644.389 80.5881 641.461 Q77.1188 638.501 71.3897 638.501 L70.0847 638.501 L70.0847 644.326 M67.6657 632.645 L88.0042 632.645 L88.0042 638.501 L82.5933 638.501 Q85.8398 640.506 87.3994 643.498 Q88.9272 646.49 88.9272 650.819 Q88.9272 656.293 85.8716 659.54 Q82.7843 662.754 77.6281 662.754 Q71.6125 662.754 68.5569 658.744 Q65.5014 654.702 65.5014 646.713 L65.5014 638.501 L64.9285 638.501 Q60.8862 638.501 58.6901 641.175 Q56.4621 643.816 56.4621 648.622 Q56.4621 651.678 57.1941 654.574 Q57.9262 657.471 59.3903 660.144 L53.9795 660.144 Q52.7381 656.93 52.1334 653.906 Q51.4968 650.882 51.4968 648.018 Q51.4968 640.283 55.5072 636.464 Q59.5176 632.645 67.6657 632.645 Z\" fill=\"#000000\" fill-rule=\"evenodd\" fill-opacity=\"1\" /><circle clip-path=\"url(#clip512)\" cx=\"1178.53\" cy=\"735.212\" r=\"7\" fill=\"#0c0827\" fill-rule=\"evenodd\" fill-opacity=\"1\" stroke=\"#000000\" stroke-opacity=\"1\" stroke-width=\"3.2\"/>\n",
       "<circle clip-path=\"url(#clip512)\" cx=\"1766.09\" cy=\"1384.24\" r=\"4\" fill=\"#02010d\" fill-rule=\"evenodd\" fill-opacity=\"1\" stroke=\"#000000\" stroke-opacity=\"1\" stroke-width=\"3.2\"/>\n",
       "<circle clip-path=\"url(#clip512)\" cx=\"1766.09\" cy=\"302.528\" r=\"5\" fill=\"#030212\" fill-rule=\"evenodd\" fill-opacity=\"1\" stroke=\"#000000\" stroke-opacity=\"1\" stroke-width=\"3.2\"/>\n",
       "<circle clip-path=\"url(#clip512)\" cx=\"297.188\" cy=\"302.528\" r=\"58\" fill=\"#f1ec6f\" fill-rule=\"evenodd\" fill-opacity=\"1\" stroke=\"#000000\" stroke-opacity=\"1\" stroke-width=\"3.2\"/>\n",
       "<circle clip-path=\"url(#clip512)\" cx=\"1766.09\" cy=\"518.87\" r=\"6\" fill=\"#050418\" fill-rule=\"evenodd\" fill-opacity=\"1\" stroke=\"#000000\" stroke-opacity=\"1\" stroke-width=\"3.2\"/>\n",
       "<circle clip-path=\"url(#clip512)\" cx=\"590.969\" cy=\"302.528\" r=\"15\" fill=\"#420967\" fill-rule=\"evenodd\" fill-opacity=\"1\" stroke=\"#000000\" stroke-opacity=\"1\" stroke-width=\"3.2\"/>\n",
       "<circle clip-path=\"url(#clip512)\" cx=\"297.188\" cy=\"86.1857\" r=\"55\" fill=\"#f5d948\" fill-rule=\"evenodd\" fill-opacity=\"1\" stroke=\"#000000\" stroke-opacity=\"1\" stroke-width=\"3.2\"/>\n",
       "<circle clip-path=\"url(#clip512)\" cx=\"2059.88\" cy=\"302.528\" r=\"4\" fill=\"#02010c\" fill-rule=\"evenodd\" fill-opacity=\"1\" stroke=\"#000000\" stroke-opacity=\"1\" stroke-width=\"3.2\"/>\n",
       "<circle clip-path=\"url(#clip512)\" cx=\"884.751\" cy=\"735.212\" r=\"8\" fill=\"#0f092d\" fill-rule=\"evenodd\" fill-opacity=\"1\" stroke=\"#000000\" stroke-opacity=\"1\" stroke-width=\"3.2\"/>\n",
       "<circle clip-path=\"url(#clip512)\" cx=\"590.969\" cy=\"86.1857\" r=\"16\" fill=\"#480b6a\" fill-rule=\"evenodd\" fill-opacity=\"1\" stroke=\"#000000\" stroke-opacity=\"1\" stroke-width=\"3.2\"/>\n",
       "<circle clip-path=\"url(#clip512)\" cx=\"2059.88\" cy=\"951.554\" r=\"4\" fill=\"#000006\" fill-rule=\"evenodd\" fill-opacity=\"1\" stroke=\"#000000\" stroke-opacity=\"1\" stroke-width=\"3.2\"/>\n",
       "<circle clip-path=\"url(#clip512)\" cx=\"297.188\" cy=\"735.212\" r=\"53\" fill=\"#f9c62e\" fill-rule=\"evenodd\" fill-opacity=\"1\" stroke=\"#000000\" stroke-opacity=\"1\" stroke-width=\"3.2\"/>\n",
       "<circle clip-path=\"url(#clip512)\" cx=\"2059.88\" cy=\"86.1857\" r=\"4\" fill=\"#01010b\" fill-rule=\"evenodd\" fill-opacity=\"1\" stroke=\"#000000\" stroke-opacity=\"1\" stroke-width=\"3.2\"/>\n",
       "<circle clip-path=\"url(#clip512)\" cx=\"297.188\" cy=\"1167.9\" r=\"55\" fill=\"#f5d949\" fill-rule=\"evenodd\" fill-opacity=\"1\" stroke=\"#000000\" stroke-opacity=\"1\" stroke-width=\"3.2\"/>\n",
       "<circle clip-path=\"url(#clip512)\" cx=\"1178.53\" cy=\"1167.9\" r=\"5\" fill=\"#040315\" fill-rule=\"evenodd\" fill-opacity=\"1\" stroke=\"#000000\" stroke-opacity=\"1\" stroke-width=\"3.2\"/>\n",
       "<circle clip-path=\"url(#clip512)\" cx=\"884.751\" cy=\"1384.24\" r=\"9\" fill=\"#150b37\" fill-rule=\"evenodd\" fill-opacity=\"1\" stroke=\"#000000\" stroke-opacity=\"1\" stroke-width=\"3.2\"/>\n",
       "<circle clip-path=\"url(#clip512)\" cx=\"1178.53\" cy=\"951.554\" r=\"6\" fill=\"#050417\" fill-rule=\"evenodd\" fill-opacity=\"1\" stroke=\"#000000\" stroke-opacity=\"1\" stroke-width=\"3.2\"/>\n",
       "<circle clip-path=\"url(#clip512)\" cx=\"590.969\" cy=\"1167.9\" r=\"14\" fill=\"#3a0963\" fill-rule=\"evenodd\" fill-opacity=\"1\" stroke=\"#000000\" stroke-opacity=\"1\" stroke-width=\"3.2\"/>\n",
       "<circle clip-path=\"url(#clip512)\" cx=\"1472.31\" cy=\"518.87\" r=\"5\" fill=\"#040315\" fill-rule=\"evenodd\" fill-opacity=\"1\" stroke=\"#000000\" stroke-opacity=\"1\" stroke-width=\"3.2\"/>\n",
       "<circle clip-path=\"url(#clip512)\" cx=\"884.751\" cy=\"1167.9\" r=\"8\" fill=\"#0f092c\" fill-rule=\"evenodd\" fill-opacity=\"1\" stroke=\"#000000\" stroke-opacity=\"1\" stroke-width=\"3.2\"/>\n",
       "<circle clip-path=\"url(#clip512)\" cx=\"884.751\" cy=\"302.528\" r=\"8\" fill=\"#120a32\" fill-rule=\"evenodd\" fill-opacity=\"1\" stroke=\"#000000\" stroke-opacity=\"1\" stroke-width=\"3.2\"/>\n",
       "<circle clip-path=\"url(#clip512)\" cx=\"590.969\" cy=\"951.554\" r=\"16\" fill=\"#4a0b6a\" fill-rule=\"evenodd\" fill-opacity=\"1\" stroke=\"#000000\" stroke-opacity=\"1\" stroke-width=\"3.2\"/>\n",
       "<circle clip-path=\"url(#clip512)\" cx=\"884.751\" cy=\"86.1857\" r=\"8\" fill=\"#140a35\" fill-rule=\"evenodd\" fill-opacity=\"1\" stroke=\"#000000\" stroke-opacity=\"1\" stroke-width=\"3.2\"/>\n",
       "<circle clip-path=\"url(#clip512)\" cx=\"2059.88\" cy=\"518.87\" r=\"4\" fill=\"#02010c\" fill-rule=\"evenodd\" fill-opacity=\"1\" stroke=\"#000000\" stroke-opacity=\"1\" stroke-width=\"3.2\"/>\n",
       "<circle clip-path=\"url(#clip512)\" cx=\"2059.88\" cy=\"735.212\" r=\"4\" fill=\"#02010d\" fill-rule=\"evenodd\" fill-opacity=\"1\" stroke=\"#000000\" stroke-opacity=\"1\" stroke-width=\"3.2\"/>\n",
       "<circle clip-path=\"url(#clip512)\" cx=\"297.188\" cy=\"518.87\" r=\"58\" fill=\"#f1ec6d\" fill-rule=\"evenodd\" fill-opacity=\"1\" stroke=\"#000000\" stroke-opacity=\"1\" stroke-width=\"3.2\"/>\n",
       "<circle clip-path=\"url(#clip512)\" cx=\"1472.31\" cy=\"951.554\" r=\"6\" fill=\"#06041a\" fill-rule=\"evenodd\" fill-opacity=\"1\" stroke=\"#000000\" stroke-opacity=\"1\" stroke-width=\"3.2\"/>\n",
       "<circle clip-path=\"url(#clip512)\" cx=\"590.969\" cy=\"1384.24\" r=\"15\" fill=\"#430a68\" fill-rule=\"evenodd\" fill-opacity=\"1\" stroke=\"#000000\" stroke-opacity=\"1\" stroke-width=\"3.2\"/>\n",
       "<circle clip-path=\"url(#clip512)\" cx=\"2059.88\" cy=\"1384.24\" r=\"3\" fill=\"#000004\" fill-rule=\"evenodd\" fill-opacity=\"1\" stroke=\"#000000\" stroke-opacity=\"1\" stroke-width=\"3.2\"/>\n",
       "<circle clip-path=\"url(#clip512)\" cx=\"1178.53\" cy=\"518.87\" r=\"7\" fill=\"#0c0726\" fill-rule=\"evenodd\" fill-opacity=\"1\" stroke=\"#000000\" stroke-opacity=\"1\" stroke-width=\"3.2\"/>\n",
       "<circle clip-path=\"url(#clip512)\" cx=\"1472.31\" cy=\"735.212\" r=\"5\" fill=\"#030211\" fill-rule=\"evenodd\" fill-opacity=\"1\" stroke=\"#000000\" stroke-opacity=\"1\" stroke-width=\"3.2\"/>\n",
       "<circle clip-path=\"url(#clip512)\" cx=\"590.969\" cy=\"735.212\" r=\"15\" fill=\"#440a68\" fill-rule=\"evenodd\" fill-opacity=\"1\" stroke=\"#000000\" stroke-opacity=\"1\" stroke-width=\"3.2\"/>\n",
       "<circle clip-path=\"url(#clip512)\" cx=\"1766.09\" cy=\"86.1857\" r=\"5\" fill=\"#02020e\" fill-rule=\"evenodd\" fill-opacity=\"1\" stroke=\"#000000\" stroke-opacity=\"1\" stroke-width=\"3.2\"/>\n",
       "<circle clip-path=\"url(#clip512)\" cx=\"884.751\" cy=\"951.554\" r=\"9\" fill=\"#140a36\" fill-rule=\"evenodd\" fill-opacity=\"1\" stroke=\"#000000\" stroke-opacity=\"1\" stroke-width=\"3.2\"/>\n",
       "<circle clip-path=\"url(#clip512)\" cx=\"1766.09\" cy=\"735.212\" r=\"4\" fill=\"#01010b\" fill-rule=\"evenodd\" fill-opacity=\"1\" stroke=\"#000000\" stroke-opacity=\"1\" stroke-width=\"3.2\"/>\n",
       "<circle clip-path=\"url(#clip512)\" cx=\"297.188\" cy=\"951.554\" r=\"55\" fill=\"#f5da4a\" fill-rule=\"evenodd\" fill-opacity=\"1\" stroke=\"#000000\" stroke-opacity=\"1\" stroke-width=\"3.2\"/>\n",
       "<circle clip-path=\"url(#clip512)\" cx=\"1178.53\" cy=\"1384.24\" r=\"6\" fill=\"#06051b\" fill-rule=\"evenodd\" fill-opacity=\"1\" stroke=\"#000000\" stroke-opacity=\"1\" stroke-width=\"3.2\"/>\n",
       "<circle clip-path=\"url(#clip512)\" cx=\"297.188\" cy=\"1384.24\" r=\"61\" fill=\"#fcfea4\" fill-rule=\"evenodd\" fill-opacity=\"1\" stroke=\"#000000\" stroke-opacity=\"1\" stroke-width=\"3.2\"/>\n",
       "<circle clip-path=\"url(#clip512)\" cx=\"1472.31\" cy=\"302.528\" r=\"6\" fill=\"#050417\" fill-rule=\"evenodd\" fill-opacity=\"1\" stroke=\"#000000\" stroke-opacity=\"1\" stroke-width=\"3.2\"/>\n",
       "<circle clip-path=\"url(#clip512)\" cx=\"1178.53\" cy=\"302.528\" r=\"6\" fill=\"#050418\" fill-rule=\"evenodd\" fill-opacity=\"1\" stroke=\"#000000\" stroke-opacity=\"1\" stroke-width=\"3.2\"/>\n",
       "<circle clip-path=\"url(#clip512)\" cx=\"590.969\" cy=\"518.87\" r=\"15\" fill=\"#410967\" fill-rule=\"evenodd\" fill-opacity=\"1\" stroke=\"#000000\" stroke-opacity=\"1\" stroke-width=\"3.2\"/>\n",
       "<circle clip-path=\"url(#clip512)\" cx=\"1472.31\" cy=\"86.1857\" r=\"6\" fill=\"#08051e\" fill-rule=\"evenodd\" fill-opacity=\"1\" stroke=\"#000000\" stroke-opacity=\"1\" stroke-width=\"3.2\"/>\n",
       "<circle clip-path=\"url(#clip512)\" cx=\"1766.09\" cy=\"951.554\" r=\"6\" fill=\"#050418\" fill-rule=\"evenodd\" fill-opacity=\"1\" stroke=\"#000000\" stroke-opacity=\"1\" stroke-width=\"3.2\"/>\n",
       "<circle clip-path=\"url(#clip512)\" cx=\"1766.09\" cy=\"1167.9\" r=\"6\" fill=\"#06041a\" fill-rule=\"evenodd\" fill-opacity=\"1\" stroke=\"#000000\" stroke-opacity=\"1\" stroke-width=\"3.2\"/>\n",
       "<circle clip-path=\"url(#clip512)\" cx=\"1472.31\" cy=\"1384.24\" r=\"6\" fill=\"#050419\" fill-rule=\"evenodd\" fill-opacity=\"1\" stroke=\"#000000\" stroke-opacity=\"1\" stroke-width=\"3.2\"/>\n",
       "<circle clip-path=\"url(#clip512)\" cx=\"1472.31\" cy=\"1167.9\" r=\"6\" fill=\"#06041a\" fill-rule=\"evenodd\" fill-opacity=\"1\" stroke=\"#000000\" stroke-opacity=\"1\" stroke-width=\"3.2\"/>\n",
       "<circle clip-path=\"url(#clip512)\" cx=\"884.751\" cy=\"518.87\" r=\"8\" fill=\"#10092f\" fill-rule=\"evenodd\" fill-opacity=\"1\" stroke=\"#000000\" stroke-opacity=\"1\" stroke-width=\"3.2\"/>\n",
       "<circle clip-path=\"url(#clip512)\" cx=\"2059.88\" cy=\"1167.9\" r=\"3\" fill=\"#000003\" fill-rule=\"evenodd\" fill-opacity=\"1\" stroke=\"#000000\" stroke-opacity=\"1\" stroke-width=\"3.2\"/>\n",
       "<circle clip-path=\"url(#clip512)\" cx=\"1178.53\" cy=\"86.1857\" r=\"8\" fill=\"#0e082b\" fill-rule=\"evenodd\" fill-opacity=\"1\" stroke=\"#000000\" stroke-opacity=\"1\" stroke-width=\"3.2\"/>\n",
       "<defs>\n",
       "  <clipPath id=\"clip513\">\n",
       "    <rect x=\"2160\" y=\"47\" width=\"73\" height=\"1377\"/>\n",
       "  </clipPath>\n",
       "</defs>\n",
       "<g clip-path=\"url(#clip513)\">\n",
       "<image width=\"72\" height=\"1376\" xlink:href=\"data:image/png;base64,\n",
       "iVBORw0KGgoAAAANSUhEUgAAAEgAAAVgCAYAAADsKhu7AAAL6UlEQVR4nO3dwZEjNxBFQVBR/lsh\n",
       "L6UFZIHqHclDpgUTL35wCXTP7Off+/c7/K+/vv0D/DqBgkBBoCBQmPv+/fbP8NMsKAgUBAoChXnv\n",
       "z7d/hp9mQUGgIFAQKAgUHDWCBQWBgkBBoDDPh/TKgoJAQaAgUJh3fUhvLCgIFAQKAgWBgqNGsKAg\n",
       "UBAoCBR8SAcLCgIFgYJAwX1QsKAgUBAoCBQECnMcNVYWFAQKAgWBgvugYEFBoCBQECgIFOa4MFtZ\n",
       "UBAoCBQECnPuP9/+GX6aBQWBgkBBoODSPlhQECgIFAQKAgX3QcGCgkBBoCBQ8CEdLCgIFAQKAgX3\n",
       "QcGCgkBBoCBQECjMx1FjZUFBoCBQECjMuf5XhI0FBYGCQEGgIFBw1AgWFAQKAgWBgqNGsKAgUBAo\n",
       "CBS8HxQsKAgUBAoCBYHCfBw1VhYUBAoCBYGCt1yDBQWBgkBBoOCbdLCgIFAQKAgUBAoePQcLCgIF\n",
       "gYJAwVEjWFAQKAgUBAoCBUeNYEFBoCBQECg4agQLCgIFgYJAYc693/4ZfpoFBYGCQEGgIFBw1AgW\n",
       "FAQKAgWBgkv7YEFBoCBQECj4kA4WFAQKAgWBgkBhPp5qrCwoCBQECgIFR41gQUGgIFAQKAgUvEAV\n",
       "LCgIFAQKAgX3QcGCgkBBoCBQcB8ULCgIFAQKAgWBgvugYEFBoCBQECj4kA4WFAQKAgWBgl/qDRYU\n",
       "BAoCBYGCQMFRI1hQECgIFAQKPqSDBQWBgkBBoCBQ8K9YsKAgUBAoCBR8SAcLCgIFgYJAYc7zIb2x\n",
       "oCBQECgIFAQKjhrBgoJAQaAgUPAhHSwoCBQECgIFH9LBgoJAQaAgUBAozLnv2z/DT7OgIFAQKAgU\n",
       "HDWCBQWBgkBBoCBQcNQIFhQECgIFgYKjRrCgIFAQKAgUfJMOFhQECgIFgYJAYY6TxsqCgkBBoCBQ\n",
       "mPMcNTYWFAQKAgWBgm/SwYKCQEGgIFAQKPhXLFhQECgIFAQK44/g7SwoCBQECgIFgYKjRrCgIFAQ\n",
       "KAgUfEgHCwoCBYGCQGHO/Xz7Z/hpFhQECgIFgYJAYd7zr9jGgoJAQaAgUHAfFCwoCBQECgIF90HB\n",
       "goJAQaAgUBAozLsabdQJAgWBgkDBUSNYUBAoCBQECgKFOR49rywoCBQECgKFeY4aKwsKAgWBgkBh\n",
       "jkv7lTpBoCBQECgIFBw1ggUFgYJAQaDg0j5YUBAoCBQECl7iDOoEgYJAQaAgUPCWa7CgIFAQKAgU\n",
       "XNoHCwoCBYGCQEGgMO9ptFEnCBQECgIF90HBgoJAQaAgUHAfFCwoCBQECgIFgcIc90ErdYJAQaAg\n",
       "UHDUCBYUBAoCBYGCD+lgQUGgIFAQKAgU/NZzsKAgUBAoCBT81nNQJwgUBAoCBYHCPEeNlQUFgYJA\n",
       "QaDgqUawoCBQECgIFPyvCEGdIFAQKAgUBArug4IFBYGCQEGg4D4oWFAQKAgUBAq+SQcLCgIFgYJA\n",
       "QaDgLdegThAoCBQECo4awYKCQEGgIFAQKHiqESwoCBQECgIFR41gQUGgIFAQKPiva4IFBYGCQEGg\n",
       "IFDwv2QGdYJAQaAgUHAfFCwoCBQECgIFT1aDBQWBgkBBoCBQcNQIFhQECgIFgcJcH9IrCwoCBYGC\n",
       "QEGg4LeegzpBoCBQECi4DwoWFAQKAgWBgg/pYEFBoCBQECgIFLxAFSwoCBQECgIFR41gQUGgIFAQ\n",
       "KPiQDhYUBAoCBYGCQMGfpgjqBIGCQEGgMNel/cqCgkBBoCBQECi4MAsWFAQKAgWBgg/pYEFBoCBQ\n",
       "ECj4kA4WFAQKAgWBgkDBH1gKFhQECgIFgYKjRrCgIFAQKAgUfEgHCwoCBYGCQEGg4FcRgjpBoCBQ\n",
       "ECj4VYRgQUGgIFAQKAgUXJgFCwoCBYGCQMGHdLCgIFAQKAgUvMQZLCgIFAQKAgWBgqNGsKAgUBAo\n",
       "CBTmHR/SGwsKAgWBgkDBfVCwoCBQECgIFAQK7oOCBQWBgkBBoOCoESwoCBQECgIFgYKjRrCgIFAQ\n",
       "KAgUHDWCBQWBgkBBoOCbdLCgIFAQKAgUBAr+FQsWFAQKAgWBwly/irCyoCBQECgIFHyTDhYUBAoC\n",
       "BYGCQMGj52BBQaAgUBAozHvf/hF+mwUFgYJAQaAgUHDUCBYUBAoCBYGCv4IXLCgIFAQKAgXfpIMF\n",
       "BYGCQEGgIFDwAlWwoCBQECgIFPwqQrCgIFAQKAgUvB8ULCgIFAQKAgWBgqcawYKCQEGgIFBwaR8s\n",
       "KAgUBAoCBYGCpxrBgoJAQaAgUHAfFCwoCBQECgIFj56DBQWBgkBBoCBQcB8ULCgIFAQKAgWPnoMF\n",
       "BYGCQEGgMPfbP8GPs6AgUBAoCBQECo4awYKCQEGgIFDwflCwoCBQECgIFAQKLsyCBQWBgkBBoOA+\n",
       "KFhQECgIFAQKvkkHCwoCBYGCQEGg4KgRLCgIFAQKAgWPnoMFBYGCQEGgMP4yxc6CgkBBoCBQECg4\n",
       "agQLCgIFgYJAwaPnYEFBoCBQECgIFDx6DhYUBAoCBYGCo0awoCBQECgIFHyTDhYUBAoCBYGCQGGu\n",
       "N6hWFhQECgIFgYL7oGBBQaAgUBAouA8KFhQECgIFgYJAwVEjWFAQKAgUBArzXNqvLCgIFAQKAgWB\n",
       "wtzjwmxjQUGgIFAQKHg/KFhQECgIFAQK/gpesKAgUBAoCBQECv4KXrCgIFAQKAgUPHoOFhQECgIF\n",
       "gYKXOIMFBYGCQEGgIFDwC3XBgoJAQaAgUHDUCBYUBAoCBYGCQMFbrsGCgkBBoCBQ8JZrsKAgUBAo\n",
       "CBR8kw4WFAQKAgWBgkDBW67BgoJAQaAgUPD3g4IFBYGCQEGg4D4oWFAQKAgUBAoCBY+egwUFgYJA\n",
       "QaDgqBEsKAgUBAoCBYGCo0awoCBQECgIFBw1ggUFgYJAQaDgQzpYUBAoCBQECgIF90HBgoJAQaAg\n",
       "UHDUCBYUBAoCBYGCb9LBgoJAQaAgUBAoOGoECwoCBYGCQMHfDwoWFAQKAgWBgkDB/+0TLCgIFAQK\n",
       "AgX3QcGCgkBBoCBQmHd8Sm8sKAgUBAoCBYGCo0awoCBQECgIFDx6DhYUBAoCBYGCJ6vBgoJAQaAg\n",
       "UBAouA8KFhQECgIFgYJHz8GCgkBBoCBQECg4agQLCgIFgYJAwR9YChYUBAoCBYHCXC8IrSwoCBQE\n",
       "CgIFgYIXqIIFBYGCQEGgMM9RY2VBQaAgUBAo+CYdLCgIFAQKAgWBgqcawYKCQEGgIFDwflCwoCBQ\n",
       "ECgIFAQKc/1C3cqCgkBBoCBQcB8ULCgIFAQKAgV/miJYUBAoCBQECgIFL1AFCwoCBYGCQMGlfbCg\n",
       "IFAQKAgU3AcFCwoCBYGCQEGgMPe4EdpYUBAoCBQECu6DggUFgYJAQaAgUPCvWLCgIFAQKAgUPNUI\n",
       "FhQECgIFgYJL+2BBQaAgUBAoCBTmfhw1NhYUBAoCBYGCo0awoCBQECgIFOb5kF5ZUBAoCBQECgIF\n",
       "R41gQUGgIFAQKMz9+JDeWFAQKAgUBAoCBUeNYEFBoCBQECh4qhEsKAgUBAoCBd+kgwUFgYJAQaAg\n",
       "UPCvWLCgIFAQKAgUPHoOFhQECgIFgcK88+fbP8NPs6AgUBAoCBQECu6DggUFgYJAQaDg/aBgQUGg\n",
       "IFAQKAgU5j4XZhsLCgIFgYJAwVEjWFAQKAgUBApzPXpeWVAQKAgUBAoCBUeNYEFBoCBQECg4agQL\n",
       "CgIFgYJAYd7zTXpjQUGgIFAQKAgU3AcFCwoCBYGCQMFLnMGCgkBBoCBQECg4agQLCgIFgYJAYZ6j\n",
       "xsqCgkBBoCBQ8E06WFAQKAgUBAoChbleoFpZUBAoCBQECv7gdrCgIFAQKAgU/CpCsKAgUBAoCBQE\n",
       "Cp5qBAsKAgWBgkDBUSNYUBAoCBQECgIF/4oFCwoCBYGCQMGj52BBQaAgUBAo+CYdLCgIFAQKAgWB\n",
       "whyPnlcWFAQKAgWBgqNGsKAgUBAoCBS8xBksKAgUBAoCBYHCHEeNlQUFgYJAQaDg/aBgQUGgIFAQ\n",
       "KAgUPHoOFhQECgIFgYL7oGBBQaAgUBAozDvv2z/DT7OgIFAQKAgUBArug4IFBYGCQEGgMMdRY2VB\n",
       "QaAgUBAo/AdhU+3PqlcPeQAAAABJRU5ErkJggg==\n",
       "\" transform=\"translate(2161, 47)\"/>\n",
       "</g>\n",
       "<path clip-path=\"url(#clip510)\" d=\"M 0 0 M2280.7 1234.92 Q2277.09 1234.92 2275.26 1238.48 Q2273.45 1242.03 2273.45 1249.16 Q2273.45 1256.26 2275.26 1259.83 Q2277.09 1263.37 2280.7 1263.37 Q2284.33 1263.37 2286.14 1259.83 Q2287.97 1256.26 2287.97 1249.16 Q2287.97 1242.03 2286.14 1238.48 Q2284.33 1234.92 2280.7 1234.92 M2280.7 1231.22 Q2286.51 1231.22 2289.57 1235.82 Q2292.64 1240.41 2292.64 1249.16 Q2292.64 1257.88 2289.57 1262.49 Q2286.51 1267.07 2280.7 1267.07 Q2274.89 1267.07 2271.81 1262.49 Q2268.76 1257.88 2268.76 1249.16 Q2268.76 1240.41 2271.81 1235.82 Q2274.89 1231.22 2280.7 1231.22 Z\" fill=\"#000000\" fill-rule=\"evenodd\" fill-opacity=\"1\" /><path clip-path=\"url(#clip510)\" d=\"M 0 0 M2297.71 1260.52 L2302.6 1260.52 L2302.6 1266.4 L2297.71 1266.4 L2297.71 1260.52 Z\" fill=\"#000000\" fill-rule=\"evenodd\" fill-opacity=\"1\" /><path clip-path=\"url(#clip510)\" d=\"M 0 0 M2321.83 1247.77 Q2325.19 1248.48 2327.07 1250.75 Q2328.96 1253.02 2328.96 1256.35 Q2328.96 1261.47 2325.45 1264.27 Q2321.93 1267.07 2315.45 1267.07 Q2313.27 1267.07 2310.95 1266.63 Q2308.66 1266.22 2306.21 1265.36 L2306.21 1260.85 Q2308.15 1261.98 2310.47 1262.56 Q2312.78 1263.14 2315.31 1263.14 Q2319.7 1263.14 2322 1261.4 Q2324.31 1259.67 2324.31 1256.35 Q2324.31 1253.3 2322.16 1251.59 Q2320.03 1249.85 2316.21 1249.85 L2312.18 1249.85 L2312.18 1246.01 L2316.39 1246.01 Q2319.84 1246.01 2321.67 1244.64 Q2323.5 1243.25 2323.5 1240.66 Q2323.5 1238 2321.6 1236.59 Q2319.73 1235.15 2316.21 1235.15 Q2314.29 1235.15 2312.09 1235.57 Q2309.89 1235.98 2307.25 1236.86 L2307.25 1232.7 Q2309.91 1231.96 2312.23 1231.59 Q2314.57 1231.22 2316.63 1231.22 Q2321.95 1231.22 2325.05 1233.65 Q2328.15 1236.05 2328.15 1240.17 Q2328.15 1243.04 2326.51 1245.04 Q2324.87 1247 2321.83 1247.77 Z\" fill=\"#000000\" fill-rule=\"evenodd\" fill-opacity=\"1\" /><path clip-path=\"url(#clip510)\" d=\"M 0 0 M2348.2 1247.77 Q2351.56 1248.48 2353.43 1250.75 Q2355.33 1253.02 2355.33 1256.35 Q2355.33 1261.47 2351.81 1264.27 Q2348.29 1267.07 2341.81 1267.07 Q2339.64 1267.07 2337.32 1266.63 Q2335.03 1266.22 2332.58 1265.36 L2332.58 1260.85 Q2334.52 1261.98 2336.83 1262.56 Q2339.15 1263.14 2341.67 1263.14 Q2346.07 1263.14 2348.36 1261.4 Q2350.68 1259.67 2350.68 1256.35 Q2350.68 1253.3 2348.52 1251.59 Q2346.39 1249.85 2342.57 1249.85 L2338.55 1249.85 L2338.55 1246.01 L2342.76 1246.01 Q2346.21 1246.01 2348.04 1244.64 Q2349.87 1243.25 2349.87 1240.66 Q2349.87 1238 2347.97 1236.59 Q2346.09 1235.15 2342.57 1235.15 Q2340.65 1235.15 2338.45 1235.57 Q2336.26 1235.98 2333.62 1236.86 L2333.62 1232.7 Q2336.28 1231.96 2338.59 1231.59 Q2340.93 1231.22 2342.99 1231.22 Q2348.32 1231.22 2351.42 1233.65 Q2354.52 1236.05 2354.52 1240.17 Q2354.52 1243.04 2352.88 1245.04 Q2351.23 1247 2348.2 1247.77 Z\" fill=\"#000000\" fill-rule=\"evenodd\" fill-opacity=\"1\" /><path clip-path=\"url(#clip510)\" d=\"M 0 0 M2364.43 1262.47 L2380.75 1262.47 L2380.75 1266.4 L2358.8 1266.4 L2358.8 1262.47 Q2361.46 1259.71 2366.05 1255.08 Q2370.65 1250.43 2371.83 1249.09 Q2374.08 1246.56 2374.96 1244.83 Q2375.86 1243.07 2375.86 1241.38 Q2375.86 1238.62 2373.92 1236.89 Q2372 1235.15 2368.89 1235.15 Q2366.7 1235.15 2364.24 1235.92 Q2361.81 1236.68 2359.03 1238.23 L2359.03 1233.51 Q2361.86 1232.37 2364.31 1231.79 Q2366.76 1231.22 2368.8 1231.22 Q2374.17 1231.22 2377.37 1233.9 Q2380.56 1236.59 2380.56 1241.08 Q2380.56 1243.21 2379.75 1245.13 Q2378.96 1247.03 2376.86 1249.62 Q2376.28 1250.29 2373.18 1253.51 Q2370.07 1256.7 2364.43 1262.47 Z\" fill=\"#000000\" fill-rule=\"evenodd\" fill-opacity=\"1\" /><path clip-path=\"url(#clip510)\" d=\"M 0 0 M2385.86 1231.84 L2404.22 1231.84 L2404.22 1235.78 L2390.14 1235.78 L2390.14 1244.25 Q2391.16 1243.9 2392.18 1243.74 Q2393.2 1243.55 2394.22 1243.55 Q2400.01 1243.55 2403.38 1246.73 Q2406.76 1249.9 2406.76 1255.31 Q2406.76 1260.89 2403.29 1263.99 Q2399.82 1267.07 2393.5 1267.07 Q2391.32 1267.07 2389.06 1266.7 Q2386.81 1266.33 2384.4 1265.59 L2384.4 1260.89 Q2386.49 1262.03 2388.71 1262.58 Q2390.93 1263.14 2393.41 1263.14 Q2397.41 1263.14 2399.75 1261.03 Q2402.09 1258.92 2402.09 1255.31 Q2402.09 1251.7 2399.75 1249.6 Q2397.41 1247.49 2393.41 1247.49 Q2391.53 1247.49 2389.66 1247.91 Q2387.81 1248.32 2385.86 1249.2 L2385.86 1231.84 Z\" fill=\"#000000\" fill-rule=\"evenodd\" fill-opacity=\"1\" /><path clip-path=\"url(#clip510)\" d=\"M 0 0 M2280.7 1061.45 Q2277.09 1061.45 2275.26 1065.01 Q2273.45 1068.56 2273.45 1075.69 Q2273.45 1082.79 2275.26 1086.36 Q2277.09 1089.9 2280.7 1089.9 Q2284.33 1089.9 2286.14 1086.36 Q2287.97 1082.79 2287.97 1075.69 Q2287.97 1068.56 2286.14 1065.01 Q2284.33 1061.45 2280.7 1061.45 M2280.7 1057.75 Q2286.51 1057.75 2289.57 1062.35 Q2292.64 1066.94 2292.64 1075.69 Q2292.64 1084.41 2289.57 1089.02 Q2286.51 1093.6 2280.7 1093.6 Q2274.89 1093.6 2271.81 1089.02 Q2268.76 1084.41 2268.76 1075.69 Q2268.76 1066.94 2271.81 1062.35 Q2274.89 1057.75 2280.7 1057.75 Z\" fill=\"#000000\" fill-rule=\"evenodd\" fill-opacity=\"1\" /><path clip-path=\"url(#clip510)\" d=\"M 0 0 M2297.71 1087.05 L2302.6 1087.05 L2302.6 1092.93 L2297.71 1092.93 L2297.71 1087.05 Z\" fill=\"#000000\" fill-rule=\"evenodd\" fill-opacity=\"1\" /><path clip-path=\"url(#clip510)\" d=\"M 0 0 M2321.83 1074.3 Q2325.19 1075.01 2327.07 1077.28 Q2328.96 1079.55 2328.96 1082.88 Q2328.96 1088 2325.45 1090.8 Q2321.93 1093.6 2315.45 1093.6 Q2313.27 1093.6 2310.95 1093.16 Q2308.66 1092.75 2306.21 1091.89 L2306.21 1087.37 Q2308.15 1088.51 2310.47 1089.09 Q2312.78 1089.67 2315.31 1089.67 Q2319.7 1089.67 2322 1087.93 Q2324.31 1086.19 2324.31 1082.88 Q2324.31 1079.83 2322.16 1078.12 Q2320.03 1076.38 2316.21 1076.38 L2312.18 1076.38 L2312.18 1072.54 L2316.39 1072.54 Q2319.84 1072.54 2321.67 1071.17 Q2323.5 1069.78 2323.5 1067.19 Q2323.5 1064.53 2321.6 1063.12 Q2319.73 1061.68 2316.21 1061.68 Q2314.29 1061.68 2312.09 1062.1 Q2309.89 1062.51 2307.25 1063.39 L2307.25 1059.23 Q2309.91 1058.49 2312.23 1058.12 Q2314.57 1057.75 2316.63 1057.75 Q2321.95 1057.75 2325.05 1060.18 Q2328.15 1062.58 2328.15 1066.7 Q2328.15 1069.57 2326.51 1071.56 Q2324.87 1073.53 2321.83 1074.3 Z\" fill=\"#000000\" fill-rule=\"evenodd\" fill-opacity=\"1\" /><path clip-path=\"url(#clip510)\" d=\"M 0 0 M2348.2 1074.3 Q2351.56 1075.01 2353.43 1077.28 Q2355.33 1079.55 2355.33 1082.88 Q2355.33 1088 2351.81 1090.8 Q2348.29 1093.6 2341.81 1093.6 Q2339.64 1093.6 2337.32 1093.16 Q2335.03 1092.75 2332.58 1091.89 L2332.58 1087.37 Q2334.52 1088.51 2336.83 1089.09 Q2339.15 1089.67 2341.67 1089.67 Q2346.07 1089.67 2348.36 1087.93 Q2350.68 1086.19 2350.68 1082.88 Q2350.68 1079.83 2348.52 1078.12 Q2346.39 1076.38 2342.57 1076.38 L2338.55 1076.38 L2338.55 1072.54 L2342.76 1072.54 Q2346.21 1072.54 2348.04 1071.17 Q2349.87 1069.78 2349.87 1067.19 Q2349.87 1064.53 2347.97 1063.12 Q2346.09 1061.68 2342.57 1061.68 Q2340.65 1061.68 2338.45 1062.1 Q2336.26 1062.51 2333.62 1063.39 L2333.62 1059.23 Q2336.28 1058.49 2338.59 1058.12 Q2340.93 1057.75 2342.99 1057.75 Q2348.32 1057.75 2351.42 1060.18 Q2354.52 1062.58 2354.52 1066.7 Q2354.52 1069.57 2352.88 1071.56 Q2351.23 1073.53 2348.2 1074.3 Z\" fill=\"#000000\" fill-rule=\"evenodd\" fill-opacity=\"1\" /><path clip-path=\"url(#clip510)\" d=\"M 0 0 M2360.45 1058.37 L2378.8 1058.37 L2378.8 1062.31 L2364.73 1062.31 L2364.73 1070.78 Q2365.75 1070.43 2366.76 1070.27 Q2367.78 1070.08 2368.8 1070.08 Q2374.59 1070.08 2377.97 1073.25 Q2381.35 1076.43 2381.35 1081.84 Q2381.35 1087.42 2377.88 1090.52 Q2374.4 1093.6 2368.08 1093.6 Q2365.91 1093.6 2363.64 1093.23 Q2361.39 1092.86 2358.99 1092.12 L2358.99 1087.42 Q2361.07 1088.56 2363.29 1089.11 Q2365.51 1089.67 2367.99 1089.67 Q2372 1089.67 2374.33 1087.56 Q2376.67 1085.45 2376.67 1081.84 Q2376.67 1078.23 2374.33 1076.12 Q2372 1074.02 2367.99 1074.02 Q2366.12 1074.02 2364.24 1074.44 Q2362.39 1074.85 2360.45 1075.73 L2360.45 1058.37 Z\" fill=\"#000000\" fill-rule=\"evenodd\" fill-opacity=\"1\" /><path clip-path=\"url(#clip510)\" d=\"M 0 0 M2396.42 1061.45 Q2392.81 1061.45 2390.98 1065.01 Q2389.17 1068.56 2389.17 1075.69 Q2389.17 1082.79 2390.98 1086.36 Q2392.81 1089.9 2396.42 1089.9 Q2400.05 1089.9 2401.86 1086.36 Q2403.69 1082.79 2403.69 1075.69 Q2403.69 1068.56 2401.86 1065.01 Q2400.05 1061.45 2396.42 1061.45 M2396.42 1057.75 Q2402.23 1057.75 2405.28 1062.35 Q2408.36 1066.94 2408.36 1075.69 Q2408.36 1084.41 2405.28 1089.02 Q2402.23 1093.6 2396.42 1093.6 Q2390.61 1093.6 2387.53 1089.02 Q2384.47 1084.41 2384.47 1075.69 Q2384.47 1066.94 2387.53 1062.35 Q2390.61 1057.75 2396.42 1057.75 Z\" fill=\"#000000\" fill-rule=\"evenodd\" fill-opacity=\"1\" /><path clip-path=\"url(#clip510)\" d=\"M 0 0 M2280.7 887.978 Q2277.09 887.978 2275.26 891.543 Q2273.45 895.085 2273.45 902.214 Q2273.45 909.321 2275.26 912.886 Q2277.09 916.427 2280.7 916.427 Q2284.33 916.427 2286.14 912.886 Q2287.97 909.321 2287.97 902.214 Q2287.97 895.085 2286.14 891.543 Q2284.33 887.978 2280.7 887.978 M2280.7 884.275 Q2286.51 884.275 2289.57 888.881 Q2292.64 893.464 2292.64 902.214 Q2292.64 910.941 2289.57 915.548 Q2286.51 920.131 2280.7 920.131 Q2274.89 920.131 2271.81 915.548 Q2268.76 910.941 2268.76 902.214 Q2268.76 893.464 2271.81 888.881 Q2274.89 884.275 2280.7 884.275 Z\" fill=\"#000000\" fill-rule=\"evenodd\" fill-opacity=\"1\" /><path clip-path=\"url(#clip510)\" d=\"M 0 0 M2297.71 913.58 L2302.6 913.58 L2302.6 919.46 L2297.71 919.46 L2297.71 913.58 Z\" fill=\"#000000\" fill-rule=\"evenodd\" fill-opacity=\"1\" /><path clip-path=\"url(#clip510)\" d=\"M 0 0 M2321.83 900.826 Q2325.19 901.543 2327.07 903.812 Q2328.96 906.08 2328.96 909.413 Q2328.96 914.529 2325.45 917.33 Q2321.93 920.131 2315.45 920.131 Q2313.27 920.131 2310.95 919.691 Q2308.66 919.275 2306.21 918.418 L2306.21 913.904 Q2308.15 915.038 2310.47 915.617 Q2312.78 916.196 2315.31 916.196 Q2319.7 916.196 2322 914.46 Q2324.31 912.724 2324.31 909.413 Q2324.31 906.358 2322.16 904.645 Q2320.03 902.909 2316.21 902.909 L2312.18 902.909 L2312.18 899.066 L2316.39 899.066 Q2319.84 899.066 2321.67 897.701 Q2323.5 896.312 2323.5 893.719 Q2323.5 891.057 2321.6 889.645 Q2319.73 888.21 2316.21 888.21 Q2314.29 888.21 2312.09 888.627 Q2309.89 889.043 2307.25 889.923 L2307.25 885.756 Q2309.91 885.015 2312.23 884.645 Q2314.57 884.275 2316.63 884.275 Q2321.95 884.275 2325.05 886.705 Q2328.15 889.113 2328.15 893.233 Q2328.15 896.103 2326.51 898.094 Q2324.87 900.062 2321.83 900.826 Z\" fill=\"#000000\" fill-rule=\"evenodd\" fill-opacity=\"1\" /><path clip-path=\"url(#clip510)\" d=\"M 0 0 M2348.2 900.826 Q2351.56 901.543 2353.43 903.812 Q2355.33 906.08 2355.33 909.413 Q2355.33 914.529 2351.81 917.33 Q2348.29 920.131 2341.81 920.131 Q2339.64 920.131 2337.32 919.691 Q2335.03 919.275 2332.58 918.418 L2332.58 913.904 Q2334.52 915.038 2336.83 915.617 Q2339.15 916.196 2341.67 916.196 Q2346.07 916.196 2348.36 914.46 Q2350.68 912.724 2350.68 909.413 Q2350.68 906.358 2348.52 904.645 Q2346.39 902.909 2342.57 902.909 L2338.55 902.909 L2338.55 899.066 L2342.76 899.066 Q2346.21 899.066 2348.04 897.701 Q2349.87 896.312 2349.87 893.719 Q2349.87 891.057 2347.97 889.645 Q2346.09 888.21 2342.57 888.21 Q2340.65 888.21 2338.45 888.627 Q2336.26 889.043 2333.62 889.923 L2333.62 885.756 Q2336.28 885.015 2338.59 884.645 Q2340.93 884.275 2342.99 884.275 Q2348.32 884.275 2351.42 886.705 Q2354.52 889.113 2354.52 893.233 Q2354.52 896.103 2352.88 898.094 Q2351.23 900.062 2348.2 900.826 Z\" fill=\"#000000\" fill-rule=\"evenodd\" fill-opacity=\"1\" /><path clip-path=\"url(#clip510)\" d=\"M 0 0 M2359.22 884.9 L2381.44 884.9 L2381.44 886.89 L2368.89 919.46 L2364.01 919.46 L2375.82 888.835 L2359.22 888.835 L2359.22 884.9 Z\" fill=\"#000000\" fill-rule=\"evenodd\" fill-opacity=\"1\" /><path clip-path=\"url(#clip510)\" d=\"M 0 0 M2386.56 884.9 L2404.91 884.9 L2404.91 888.835 L2390.84 888.835 L2390.84 897.307 Q2391.86 896.96 2392.88 896.798 Q2393.89 896.613 2394.91 896.613 Q2400.7 896.613 2404.08 899.784 Q2407.46 902.955 2407.46 908.372 Q2407.46 913.95 2403.99 917.052 Q2400.51 920.131 2394.2 920.131 Q2392.02 920.131 2389.75 919.761 Q2387.51 919.39 2385.1 918.65 L2385.1 913.95 Q2387.18 915.085 2389.4 915.64 Q2391.63 916.196 2394.1 916.196 Q2398.11 916.196 2400.45 914.089 Q2402.78 911.983 2402.78 908.372 Q2402.78 904.761 2400.45 902.654 Q2398.11 900.548 2394.1 900.548 Q2392.23 900.548 2390.35 900.964 Q2388.5 901.381 2386.56 902.261 L2386.56 884.9 Z\" fill=\"#000000\" fill-rule=\"evenodd\" fill-opacity=\"1\" /><path clip-path=\"url(#clip510)\" d=\"M 0 0 M2280.7 714.508 Q2277.09 714.508 2275.26 718.072 Q2273.45 721.614 2273.45 728.744 Q2273.45 735.85 2275.26 739.415 Q2277.09 742.957 2280.7 742.957 Q2284.33 742.957 2286.14 739.415 Q2287.97 735.85 2287.97 728.744 Q2287.97 721.614 2286.14 718.072 Q2284.33 714.508 2280.7 714.508 M2280.7 710.804 Q2286.51 710.804 2289.57 715.41 Q2292.64 719.994 2292.64 728.744 Q2292.64 737.471 2289.57 742.077 Q2286.51 746.66 2280.7 746.66 Q2274.89 746.66 2271.81 742.077 Q2268.76 737.471 2268.76 728.744 Q2268.76 719.994 2271.81 715.41 Q2274.89 710.804 2280.7 710.804 Z\" fill=\"#000000\" fill-rule=\"evenodd\" fill-opacity=\"1\" /><path clip-path=\"url(#clip510)\" d=\"M 0 0 M2297.71 740.109 L2302.6 740.109 L2302.6 745.989 L2297.71 745.989 L2297.71 740.109 Z\" fill=\"#000000\" fill-rule=\"evenodd\" fill-opacity=\"1\" /><path clip-path=\"url(#clip510)\" d=\"M 0 0 M2321.83 727.355 Q2325.19 728.072 2327.07 730.341 Q2328.96 732.609 2328.96 735.943 Q2328.96 741.058 2325.45 743.859 Q2321.93 746.66 2315.45 746.66 Q2313.27 746.66 2310.95 746.22 Q2308.66 745.804 2306.21 744.947 L2306.21 740.433 Q2308.15 741.568 2310.47 742.146 Q2312.78 742.725 2315.31 742.725 Q2319.7 742.725 2322 740.989 Q2324.31 739.253 2324.31 735.943 Q2324.31 732.887 2322.16 731.174 Q2320.03 729.438 2316.21 729.438 L2312.18 729.438 L2312.18 725.596 L2316.39 725.596 Q2319.84 725.596 2321.67 724.23 Q2323.5 722.841 2323.5 720.248 Q2323.5 717.586 2321.6 716.174 Q2319.73 714.739 2316.21 714.739 Q2314.29 714.739 2312.09 715.156 Q2309.89 715.572 2307.25 716.452 L2307.25 712.285 Q2309.91 711.545 2312.23 711.174 Q2314.57 710.804 2316.63 710.804 Q2321.95 710.804 2325.05 713.235 Q2328.15 715.642 2328.15 719.762 Q2328.15 722.633 2326.51 724.623 Q2324.87 726.591 2321.83 727.355 Z\" fill=\"#000000\" fill-rule=\"evenodd\" fill-opacity=\"1\" /><path clip-path=\"url(#clip510)\" d=\"M 0 0 M2346.88 715.503 L2335.07 733.952 L2346.88 733.952 L2346.88 715.503 M2345.65 711.429 L2351.53 711.429 L2351.53 733.952 L2356.46 733.952 L2356.46 737.841 L2351.53 737.841 L2351.53 745.989 L2346.88 745.989 L2346.88 737.841 L2331.28 737.841 L2331.28 733.327 L2345.65 711.429 Z\" fill=\"#000000\" fill-rule=\"evenodd\" fill-opacity=\"1\" /><path clip-path=\"url(#clip510)\" d=\"M 0 0 M2371.53 714.508 Q2367.92 714.508 2366.09 718.072 Q2364.29 721.614 2364.29 728.744 Q2364.29 735.85 2366.09 739.415 Q2367.92 742.957 2371.53 742.957 Q2375.17 742.957 2376.97 739.415 Q2378.8 735.85 2378.8 728.744 Q2378.8 721.614 2376.97 718.072 Q2375.17 714.508 2371.53 714.508 M2371.53 710.804 Q2377.34 710.804 2380.4 715.41 Q2383.48 719.994 2383.48 728.744 Q2383.48 737.471 2380.4 742.077 Q2377.34 746.66 2371.53 746.66 Q2365.72 746.66 2362.64 742.077 Q2359.59 737.471 2359.59 728.744 Q2359.59 719.994 2362.64 715.41 Q2365.72 710.804 2371.53 710.804 Z\" fill=\"#000000\" fill-rule=\"evenodd\" fill-opacity=\"1\" /><path clip-path=\"url(#clip510)\" d=\"M 0 0 M2398.55 714.508 Q2394.94 714.508 2393.11 718.072 Q2391.3 721.614 2391.3 728.744 Q2391.3 735.85 2393.11 739.415 Q2394.94 742.957 2398.55 742.957 Q2402.18 742.957 2403.99 739.415 Q2405.82 735.85 2405.82 728.744 Q2405.82 721.614 2403.99 718.072 Q2402.18 714.508 2398.55 714.508 M2398.55 710.804 Q2404.36 710.804 2407.41 715.41 Q2410.49 719.994 2410.49 728.744 Q2410.49 737.471 2407.41 742.077 Q2404.36 746.66 2398.55 746.66 Q2392.74 746.66 2389.66 742.077 Q2386.6 737.471 2386.6 728.744 Q2386.6 719.994 2389.66 715.41 Q2392.74 710.804 2398.55 710.804 Z\" fill=\"#000000\" fill-rule=\"evenodd\" fill-opacity=\"1\" /><path clip-path=\"url(#clip510)\" d=\"M 0 0 M2280.7 541.037 Q2277.09 541.037 2275.26 544.602 Q2273.45 548.143 2273.45 555.273 Q2273.45 562.379 2275.26 565.944 Q2277.09 569.486 2280.7 569.486 Q2284.33 569.486 2286.14 565.944 Q2287.97 562.379 2287.97 555.273 Q2287.97 548.143 2286.14 544.602 Q2284.33 541.037 2280.7 541.037 M2280.7 537.333 Q2286.51 537.333 2289.57 541.94 Q2292.64 546.523 2292.64 555.273 Q2292.64 564 2289.57 568.606 Q2286.51 573.19 2280.7 573.19 Q2274.89 573.19 2271.81 568.606 Q2268.76 564 2268.76 555.273 Q2268.76 546.523 2271.81 541.94 Q2274.89 537.333 2280.7 537.333 Z\" fill=\"#000000\" fill-rule=\"evenodd\" fill-opacity=\"1\" /><path clip-path=\"url(#clip510)\" d=\"M 0 0 M2297.71 566.639 L2302.6 566.639 L2302.6 572.518 L2297.71 572.518 L2297.71 566.639 Z\" fill=\"#000000\" fill-rule=\"evenodd\" fill-opacity=\"1\" /><path clip-path=\"url(#clip510)\" d=\"M 0 0 M2321.83 553.884 Q2325.19 554.602 2327.07 556.87 Q2328.96 559.139 2328.96 562.472 Q2328.96 567.588 2325.45 570.389 Q2321.93 573.19 2315.45 573.19 Q2313.27 573.19 2310.95 572.75 Q2308.66 572.333 2306.21 571.477 L2306.21 566.963 Q2308.15 568.097 2310.47 568.676 Q2312.78 569.254 2315.31 569.254 Q2319.7 569.254 2322 567.518 Q2324.31 565.782 2324.31 562.472 Q2324.31 559.417 2322.16 557.704 Q2320.03 555.967 2316.21 555.967 L2312.18 555.967 L2312.18 552.125 L2316.39 552.125 Q2319.84 552.125 2321.67 550.759 Q2323.5 549.37 2323.5 546.778 Q2323.5 544.116 2321.6 542.704 Q2319.73 541.268 2316.21 541.268 Q2314.29 541.268 2312.09 541.685 Q2309.89 542.102 2307.25 542.981 L2307.25 538.815 Q2309.91 538.074 2312.23 537.704 Q2314.57 537.333 2316.63 537.333 Q2321.95 537.333 2325.05 539.764 Q2328.15 542.171 2328.15 546.292 Q2328.15 549.162 2326.51 551.153 Q2324.87 553.12 2321.83 553.884 Z\" fill=\"#000000\" fill-rule=\"evenodd\" fill-opacity=\"1\" /><path clip-path=\"url(#clip510)\" d=\"M 0 0 M2346.88 542.032 L2335.07 560.481 L2346.88 560.481 L2346.88 542.032 M2345.65 537.958 L2351.53 537.958 L2351.53 560.481 L2356.46 560.481 L2356.46 564.37 L2351.53 564.37 L2351.53 572.518 L2346.88 572.518 L2346.88 564.37 L2331.28 564.37 L2331.28 559.856 L2345.65 537.958 Z\" fill=\"#000000\" fill-rule=\"evenodd\" fill-opacity=\"1\" /><path clip-path=\"url(#clip510)\" d=\"M 0 0 M2365.56 568.583 L2381.88 568.583 L2381.88 572.518 L2359.94 572.518 L2359.94 568.583 Q2362.6 565.829 2367.18 561.199 Q2371.79 556.546 2372.97 555.204 Q2375.21 552.68 2376.09 550.944 Q2377 549.185 2377 547.495 Q2377 544.741 2375.05 543.005 Q2373.13 541.268 2370.03 541.268 Q2367.83 541.268 2365.38 542.032 Q2362.95 542.796 2360.17 544.347 L2360.17 539.625 Q2362.99 538.491 2365.45 537.912 Q2367.9 537.333 2369.94 537.333 Q2375.31 537.333 2378.5 540.018 Q2381.7 542.704 2381.7 547.194 Q2381.7 549.324 2380.88 551.245 Q2380.1 553.143 2377.99 555.736 Q2377.41 556.407 2374.31 559.625 Q2371.21 562.819 2365.56 568.583 Z\" fill=\"#000000\" fill-rule=\"evenodd\" fill-opacity=\"1\" /><path clip-path=\"url(#clip510)\" d=\"M 0 0 M2387 537.958 L2405.35 537.958 L2405.35 541.893 L2391.28 541.893 L2391.28 550.366 Q2392.3 550.018 2393.32 549.856 Q2394.33 549.671 2395.35 549.671 Q2401.14 549.671 2404.52 552.842 Q2407.9 556.014 2407.9 561.43 Q2407.9 567.009 2404.43 570.111 Q2400.95 573.19 2394.63 573.19 Q2392.46 573.19 2390.19 572.819 Q2387.95 572.449 2385.54 571.708 L2385.54 567.009 Q2387.62 568.143 2389.84 568.699 Q2392.07 569.254 2394.54 569.254 Q2398.55 569.254 2400.88 567.148 Q2403.22 565.041 2403.22 561.43 Q2403.22 557.819 2400.88 555.713 Q2398.55 553.606 2394.54 553.606 Q2392.67 553.606 2390.79 554.023 Q2388.94 554.44 2387 555.319 L2387 537.958 Z\" fill=\"#000000\" fill-rule=\"evenodd\" fill-opacity=\"1\" /><path clip-path=\"url(#clip510)\" d=\"M 0 0 M2280.7 367.566 Q2277.09 367.566 2275.26 371.131 Q2273.45 374.673 2273.45 381.802 Q2273.45 388.909 2275.26 392.474 Q2277.09 396.015 2280.7 396.015 Q2284.33 396.015 2286.14 392.474 Q2287.97 388.909 2287.97 381.802 Q2287.97 374.673 2286.14 371.131 Q2284.33 367.566 2280.7 367.566 M2280.7 363.863 Q2286.51 363.863 2289.57 368.469 Q2292.64 373.052 2292.64 381.802 Q2292.64 390.529 2289.57 395.136 Q2286.51 399.719 2280.7 399.719 Q2274.89 399.719 2271.81 395.136 Q2268.76 390.529 2268.76 381.802 Q2268.76 373.052 2271.81 368.469 Q2274.89 363.863 2280.7 363.863 Z\" fill=\"#000000\" fill-rule=\"evenodd\" fill-opacity=\"1\" /><path clip-path=\"url(#clip510)\" d=\"M 0 0 M2297.71 393.168 L2302.6 393.168 L2302.6 399.048 L2297.71 399.048 L2297.71 393.168 Z\" fill=\"#000000\" fill-rule=\"evenodd\" fill-opacity=\"1\" /><path clip-path=\"url(#clip510)\" d=\"M 0 0 M2321.83 380.413 Q2325.19 381.131 2327.07 383.4 Q2328.96 385.668 2328.96 389.001 Q2328.96 394.117 2325.45 396.918 Q2321.93 399.719 2315.45 399.719 Q2313.27 399.719 2310.95 399.279 Q2308.66 398.862 2306.21 398.006 L2306.21 393.492 Q2308.15 394.626 2310.47 395.205 Q2312.78 395.784 2315.31 395.784 Q2319.7 395.784 2322 394.048 Q2324.31 392.312 2324.31 389.001 Q2324.31 385.946 2322.16 384.233 Q2320.03 382.497 2316.21 382.497 L2312.18 382.497 L2312.18 378.654 L2316.39 378.654 Q2319.84 378.654 2321.67 377.288 Q2323.5 375.9 2323.5 373.307 Q2323.5 370.645 2321.6 369.233 Q2319.73 367.798 2316.21 367.798 Q2314.29 367.798 2312.09 368.214 Q2309.89 368.631 2307.25 369.511 L2307.25 365.344 Q2309.91 364.603 2312.23 364.233 Q2314.57 363.863 2316.63 363.863 Q2321.95 363.863 2325.05 366.293 Q2328.15 368.701 2328.15 372.821 Q2328.15 375.691 2326.51 377.682 Q2324.87 379.65 2321.83 380.413 Z\" fill=\"#000000\" fill-rule=\"evenodd\" fill-opacity=\"1\" /><path clip-path=\"url(#clip510)\" d=\"M 0 0 M2346.88 368.562 L2335.07 387.011 L2346.88 387.011 L2346.88 368.562 M2345.65 364.488 L2351.53 364.488 L2351.53 387.011 L2356.46 387.011 L2356.46 390.899 L2351.53 390.899 L2351.53 399.048 L2346.88 399.048 L2346.88 390.899 L2331.28 390.899 L2331.28 386.386 L2345.65 364.488 Z\" fill=\"#000000\" fill-rule=\"evenodd\" fill-opacity=\"1\" /><path clip-path=\"url(#clip510)\" d=\"M 0 0 M2361.58 364.488 L2379.94 364.488 L2379.94 368.423 L2365.86 368.423 L2365.86 376.895 Q2366.88 376.548 2367.9 376.386 Q2368.92 376.2 2369.94 376.2 Q2375.72 376.2 2379.1 379.372 Q2382.48 382.543 2382.48 387.96 Q2382.48 393.538 2379.01 396.64 Q2375.54 399.719 2369.22 399.719 Q2367.04 399.719 2364.77 399.349 Q2362.53 398.978 2360.12 398.237 L2360.12 393.538 Q2362.2 394.673 2364.43 395.228 Q2366.65 395.784 2369.13 395.784 Q2373.13 395.784 2375.47 393.677 Q2377.81 391.571 2377.81 387.96 Q2377.81 384.349 2375.47 382.242 Q2373.13 380.136 2369.13 380.136 Q2367.25 380.136 2365.38 380.552 Q2363.52 380.969 2361.58 381.849 L2361.58 364.488 Z\" fill=\"#000000\" fill-rule=\"evenodd\" fill-opacity=\"1\" /><path clip-path=\"url(#clip510)\" d=\"M 0 0 M2397.55 367.566 Q2393.94 367.566 2392.11 371.131 Q2390.31 374.673 2390.31 381.802 Q2390.31 388.909 2392.11 392.474 Q2393.94 396.015 2397.55 396.015 Q2401.19 396.015 2402.99 392.474 Q2404.82 388.909 2404.82 381.802 Q2404.82 374.673 2402.99 371.131 Q2401.19 367.566 2397.55 367.566 M2397.55 363.863 Q2403.36 363.863 2406.42 368.469 Q2409.5 373.052 2409.5 381.802 Q2409.5 390.529 2406.42 395.136 Q2403.36 399.719 2397.55 399.719 Q2391.74 399.719 2388.66 395.136 Q2385.61 390.529 2385.61 381.802 Q2385.61 373.052 2388.66 368.469 Q2391.74 363.863 2397.55 363.863 Z\" fill=\"#000000\" fill-rule=\"evenodd\" fill-opacity=\"1\" /><path clip-path=\"url(#clip510)\" d=\"M 0 0 M2280.7 194.096 Q2277.09 194.096 2275.26 197.66 Q2273.45 201.202 2273.45 208.332 Q2273.45 215.438 2275.26 219.003 Q2277.09 222.544 2280.7 222.544 Q2284.33 222.544 2286.14 219.003 Q2287.97 215.438 2287.97 208.332 Q2287.97 201.202 2286.14 197.66 Q2284.33 194.096 2280.7 194.096 M2280.7 190.392 Q2286.51 190.392 2289.57 194.998 Q2292.64 199.582 2292.64 208.332 Q2292.64 217.058 2289.57 221.665 Q2286.51 226.248 2280.7 226.248 Q2274.89 226.248 2271.81 221.665 Q2268.76 217.058 2268.76 208.332 Q2268.76 199.582 2271.81 194.998 Q2274.89 190.392 2280.7 190.392 Z\" fill=\"#000000\" fill-rule=\"evenodd\" fill-opacity=\"1\" /><path clip-path=\"url(#clip510)\" d=\"M 0 0 M2297.71 219.697 L2302.6 219.697 L2302.6 225.577 L2297.71 225.577 L2297.71 219.697 Z\" fill=\"#000000\" fill-rule=\"evenodd\" fill-opacity=\"1\" /><path clip-path=\"url(#clip510)\" d=\"M 0 0 M2321.83 206.943 Q2325.19 207.66 2327.07 209.929 Q2328.96 212.197 2328.96 215.531 Q2328.96 220.646 2325.45 223.447 Q2321.93 226.248 2315.45 226.248 Q2313.27 226.248 2310.95 225.808 Q2308.66 225.392 2306.21 224.535 L2306.21 220.021 Q2308.15 221.156 2310.47 221.734 Q2312.78 222.313 2315.31 222.313 Q2319.7 222.313 2322 220.577 Q2324.31 218.841 2324.31 215.531 Q2324.31 212.475 2322.16 210.762 Q2320.03 209.026 2316.21 209.026 L2312.18 209.026 L2312.18 205.183 L2316.39 205.183 Q2319.84 205.183 2321.67 203.818 Q2323.5 202.429 2323.5 199.836 Q2323.5 197.174 2321.6 195.762 Q2319.73 194.327 2316.21 194.327 Q2314.29 194.327 2312.09 194.744 Q2309.89 195.16 2307.25 196.04 L2307.25 191.873 Q2309.91 191.133 2312.23 190.762 Q2314.57 190.392 2316.63 190.392 Q2321.95 190.392 2325.05 192.822 Q2328.15 195.23 2328.15 199.35 Q2328.15 202.221 2326.51 204.211 Q2324.87 206.179 2321.83 206.943 Z\" fill=\"#000000\" fill-rule=\"evenodd\" fill-opacity=\"1\" /><path clip-path=\"url(#clip510)\" d=\"M 0 0 M2346.88 195.091 L2335.07 213.54 L2346.88 213.54 L2346.88 195.091 M2345.65 191.017 L2351.53 191.017 L2351.53 213.54 L2356.46 213.54 L2356.46 217.429 L2351.53 217.429 L2351.53 225.577 L2346.88 225.577 L2346.88 217.429 L2331.28 217.429 L2331.28 212.915 L2345.65 191.017 Z\" fill=\"#000000\" fill-rule=\"evenodd\" fill-opacity=\"1\" /><path clip-path=\"url(#clip510)\" d=\"M 0 0 M2360.35 191.017 L2382.57 191.017 L2382.57 193.008 L2370.03 225.577 L2365.14 225.577 L2376.95 194.952 L2360.35 194.952 L2360.35 191.017 Z\" fill=\"#000000\" fill-rule=\"evenodd\" fill-opacity=\"1\" /><path clip-path=\"url(#clip510)\" d=\"M 0 0 M2387.69 191.017 L2406.05 191.017 L2406.05 194.952 L2391.97 194.952 L2391.97 203.424 Q2392.99 203.077 2394.01 202.915 Q2395.03 202.73 2396.05 202.73 Q2401.83 202.73 2405.21 205.901 Q2408.59 209.072 2408.59 214.489 Q2408.59 220.068 2405.12 223.169 Q2401.65 226.248 2395.33 226.248 Q2393.15 226.248 2390.88 225.878 Q2388.64 225.507 2386.23 224.767 L2386.23 220.068 Q2388.32 221.202 2390.54 221.757 Q2392.76 222.313 2395.24 222.313 Q2399.24 222.313 2401.58 220.207 Q2403.92 218.1 2403.92 214.489 Q2403.92 210.878 2401.58 208.771 Q2399.24 206.665 2395.24 206.665 Q2393.36 206.665 2391.49 207.082 Q2389.63 207.498 2387.69 208.378 L2387.69 191.017 Z\" fill=\"#000000\" fill-rule=\"evenodd\" fill-opacity=\"1\" /><polyline clip-path=\"url(#clip510)\" style=\"stroke:#000000; stroke-width:4; stroke-opacity:1; fill:none\" points=\"\n",
       "  2232.76,1423.18 2232.76,1252.75 2256.76,1252.75 2232.76,1252.75 2232.76,1079.28 2256.76,1079.28 2232.76,1079.28 2232.76,905.808 2256.76,905.808 2232.76,905.808 \n",
       "  2232.76,732.338 2256.76,732.338 2232.76,732.338 2232.76,558.867 2256.76,558.867 2232.76,558.867 2232.76,385.396 2256.76,385.396 2232.76,385.396 2232.76,211.926 \n",
       "  2256.76,211.926 2232.76,211.926 2232.76,47.2441 \n",
       "  \"/>\n",
       "</svg>\n"
      ]
     },
     "execution_count": 135,
     "metadata": {},
     "output_type": "execute_result"
    }
   ],
   "source": [
    "plot(self_tuning_nn)"
   ]
  },
  {
   "cell_type": "code",
   "execution_count": 136,
   "metadata": {},
   "outputs": [
    {
     "data": {
      "text/plain": [
       "(best_model = \u001b[34mNeuralNetworkClassifier{CustomNN,…} @884\u001b[39m,\n",
       " best_fitted_params = (chain = Chain(Chain(Dense(30, 34, σ), Dense(34, 2, σ)), softmax),),)"
      ]
     },
     "execution_count": 136,
     "metadata": {},
     "output_type": "execute_result"
    }
   ],
   "source": [
    "best = fitted_params(self_tuning_nn)\n",
    "best"
   ]
  },
  {
   "cell_type": "code",
   "execution_count": 137,
   "metadata": {},
   "outputs": [
    {
     "data": {
      "text/plain": [
       "NeuralNetworkClassifier(\n",
       "    builder = CustomNN(\n",
       "            n1 = 34),\n",
       "    finaliser = NNlib.softmax,\n",
       "    optimiser = ADAM(0.00032, (0.9, 0.999), IdDict{Any,Any}()),\n",
       "    loss = Flux.crossentropy,\n",
       "    epochs = 1000,\n",
       "    batch_size = 16,\n",
       "    lambda = 0.00046415888336127773,\n",
       "    alpha = 0.0,\n",
       "    optimiser_changes_trigger_retraining = false)\u001b[34m @884\u001b[39m"
      ]
     },
     "execution_count": 137,
     "metadata": {},
     "output_type": "execute_result"
    }
   ],
   "source": [
    "best.best_model"
   ]
  },
  {
   "cell_type": "code",
   "execution_count": 138,
   "metadata": {
    "scrolled": true
   },
   "outputs": [
    {
     "data": {
      "text/plain": [
       "0.33004382f0"
      ]
     },
     "execution_count": 138,
     "metadata": {},
     "output_type": "execute_result"
    }
   ],
   "source": [
    "best_loss = z.report.best_result.measurement[1]"
   ]
  },
  {
   "cell_type": "code",
   "execution_count": 139,
   "metadata": {},
   "outputs": [
    {
     "data": {
      "text/plain": [
       "(1000, 34, 0.00032)"
      ]
     },
     "execution_count": 139,
     "metadata": {},
     "output_type": "execute_result"
    }
   ],
   "source": [
    "b = best.best_model.builder.n1\n",
    "a = best.best_model.epochs\n",
    "c = round(best.best_model.optimiser.eta, digits=5)\n",
    "a,b,c"
   ]
  },
  {
   "cell_type": "code",
   "execution_count": 68,
   "metadata": {},
   "outputs": [],
   "source": [
    "fn = \"Figures/Grid_NN_$(param1):$(a)_x_$(param2):$(c)_bestloss:$(best_loss)_hidden:$b\"\n",
    "png(replace(fn,'.' => ','))"
   ]
  },
  {
   "cell_type": "code",
   "execution_count": null,
   "metadata": {},
   "outputs": [],
   "source": []
  },
  {
   "cell_type": "code",
   "execution_count": null,
   "metadata": {},
   "outputs": [],
   "source": []
  },
  {
   "cell_type": "markdown",
   "metadata": {},
   "source": [
    "# Final Results"
   ]
  },
  {
   "cell_type": "code",
   "execution_count": 140,
   "metadata": {},
   "outputs": [
    {
     "data": {
      "text/plain": [
       "NeuralNetworkClassifier(\n",
       "    builder = CustomNN(\n",
       "            n1 = 34),\n",
       "    finaliser = NNlib.softmax,\n",
       "    optimiser = ADAM(0.001, (0.9, 0.999), IdDict{Any,Any}()),\n",
       "    loss = Flux.crossentropy,\n",
       "    epochs = 10,\n",
       "    batch_size = 1,\n",
       "    lambda = 0.0,\n",
       "    alpha = 0.0,\n",
       "    optimiser_changes_trigger_retraining = false)\u001b[34m @789\u001b[39m"
      ]
     },
     "execution_count": 140,
     "metadata": {},
     "output_type": "execute_result"
    }
   ],
   "source": [
    "final_model = NeuralNetworkClassifier(builder=CustomNN(34))"
   ]
  },
  {
   "cell_type": "markdown",
   "metadata": {},
   "source": [
    "### Learning Curve"
   ]
  },
  {
   "cell_type": "code",
   "execution_count": 142,
   "metadata": {
    "scrolled": true
   },
   "outputs": [
    {
     "name": "stdout",
     "output_type": "stream",
     "text": [
      "(d, train_metric, valid_metric) = (10, 0.8, 0.6875)\n",
      "(d, train_metric, valid_metric) = (11, 0.7272727272727273, 0.6875)\n",
      "(d, train_metric, valid_metric) = (12, 0.75, 0.7875)\n",
      "(d, train_metric, valid_metric) = (13, 0.7692307692307693, 0.6875)\n",
      "(d, train_metric, valid_metric) = (14, 0.7142857142857143, 0.6875)\n",
      "(d, train_metric, valid_metric) = (15, 0.7333333333333333, 0.7625)\n",
      "(d, train_metric, valid_metric) = (16, 0.75, 0.6875)\n",
      "(d, train_metric, valid_metric) = (17, 0.7058823529411765, 0.6875)\n",
      "(d, train_metric, valid_metric) = (18, 0.6666666666666666, 0.6875)\n",
      "(d, train_metric, valid_metric) = (19, 0.6842105263157895, 0.75)\n",
      "(d, train_metric, valid_metric) = (20, 0.7, 0.6875)\n",
      "(d, train_metric, valid_metric) = (21, 0.6666666666666666, 0.6875)\n",
      "(d, train_metric, valid_metric) = (22, 0.6818181818181818, 0.6875)\n",
      "(d, train_metric, valid_metric) = (23, 0.6956521739130435, 0.6875)\n",
      "(d, train_metric, valid_metric) = (24, 0.7083333333333334, 0.6875)\n",
      "(d, train_metric, valid_metric) = (25, 0.72, 0.6875)\n",
      "(d, train_metric, valid_metric) = (26, 0.6923076923076923, 0.6875)\n",
      "(d, train_metric, valid_metric) = (27, 0.8888888888888888, 0.825)\n",
      "(d, train_metric, valid_metric) = (28, 0.6785714285714286, 0.7125)\n",
      "(d, train_metric, valid_metric) = (29, 0.6896551724137931, 0.6875)\n",
      "(d, train_metric, valid_metric) = (30, 0.6666666666666666, 0.6875)\n",
      "(d, train_metric, valid_metric) = (31, 0.6451612903225806, 0.6875)\n",
      "(d, train_metric, valid_metric) = (32, 0.65625, 0.6875)\n",
      "(d, train_metric, valid_metric) = (33, 0.6666666666666666, 0.6875)\n",
      "(d, train_metric, valid_metric) = (34, 0.6764705882352942, 0.6875)\n",
      "(d, train_metric, valid_metric) = (35, 0.6857142857142857, 0.6875)\n",
      "(d, train_metric, valid_metric) = (36, 0.6666666666666666, 0.6875)\n",
      "(d, train_metric, valid_metric) = (37, 0.7027027027027027, 0.6875)\n",
      "(d, train_metric, valid_metric) = (38, 0.631578947368421, 0.6875)\n",
      "(d, train_metric, valid_metric) = (39, 0.8974358974358975, 0.85)\n",
      "(d, train_metric, valid_metric) = (40, 0.9, 0.8625)\n",
      "(d, train_metric, valid_metric) = (41, 0.9024390243902439, 0.825)\n",
      "(d, train_metric, valid_metric) = (42, 0.6190476190476191, 0.6875)\n",
      "(d, train_metric, valid_metric) = (43, 0.6046511627906976, 0.6875)\n",
      "(d, train_metric, valid_metric) = (44, 0.6136363636363636, 0.6875)\n",
      "(d, train_metric, valid_metric) = (45, 0.8888888888888888, 0.8375)\n",
      "(d, train_metric, valid_metric) = (46, 0.9130434782608695, 0.825)\n",
      "(d, train_metric, valid_metric) = (47, 0.9361702127659575, 0.85)\n",
      "(d, train_metric, valid_metric) = (48, 0.5833333333333334, 0.6875)\n",
      "(d, train_metric, valid_metric) = (49, 0.9387755102040817, 0.85)\n",
      "(d, train_metric, valid_metric) = (50, 0.58, 0.6875)\n",
      "(d, train_metric, valid_metric) = (51, 0.9215686274509803, 0.875)\n",
      "(d, train_metric, valid_metric) = (52, 0.5769230769230769, 0.6875)\n",
      "(d, train_metric, valid_metric) = (53, 0.5660377358490566, 0.6875)\n",
      "(d, train_metric, valid_metric) = (54, 0.9444444444444444, 0.9125)\n",
      "(d, train_metric, valid_metric) = (55, 0.8909090909090909, 0.85)\n",
      "(d, train_metric, valid_metric) = (56, 0.8928571428571429, 0.875)\n",
      "(d, train_metric, valid_metric) = (57, 0.8245614035087719, 0.825)\n",
      "(d, train_metric, valid_metric) = (58, 0.8448275862068966, 0.825)\n",
      "(d, train_metric, valid_metric) = (59, 0.576271186440678, 0.6875)\n",
      "(d, train_metric, valid_metric) = (60, 0.9333333333333333, 0.875)\n",
      "(d, train_metric, valid_metric) = (61, 0.5901639344262295, 0.6875)\n",
      "(d, train_metric, valid_metric) = (62, 0.5967741935483871, 0.6875)\n",
      "(d, train_metric, valid_metric) = (63, 0.6031746031746031, 0.6875)\n",
      "(d, train_metric, valid_metric) = (64, 0.859375, 0.8)\n",
      "(d, train_metric, valid_metric) = (65, 0.9076923076923077, 0.85)\n",
      "(d, train_metric, valid_metric) = (66, 0.8636363636363636, 0.8375)\n",
      "(d, train_metric, valid_metric) = (67, 0.5970149253731343, 0.6875)\n",
      "(d, train_metric, valid_metric) = (68, 0.9558823529411765, 0.8625)\n",
      "(d, train_metric, valid_metric) = (69, 0.5942028985507246, 0.6875)\n",
      "(d, train_metric, valid_metric) = (70, 0.5857142857142857, 0.6875)\n",
      "(d, train_metric, valid_metric) = (71, 0.9154929577464789, 0.875)\n",
      "(d, train_metric, valid_metric) = (72, 0.9583333333333334, 0.875)\n",
      "(d, train_metric, valid_metric) = (73, 0.589041095890411, 0.7125)\n",
      "(d, train_metric, valid_metric) = (74, 0.581081081081081, 0.6875)\n",
      "(d, train_metric, valid_metric) = (75, 0.92, 0.85)\n",
      "(d, train_metric, valid_metric) = (76, 0.5789473684210527, 0.6875)\n",
      "(d, train_metric, valid_metric) = (77, 0.8701298701298701, 0.8375)\n",
      "(d, train_metric, valid_metric) = (78, 0.8974358974358975, 0.8625)\n",
      "(d, train_metric, valid_metric) = (79, 0.8987341772151899, 0.8375)\n",
      "(d, train_metric, valid_metric) = (80, 0.9125, 0.8875)\n",
      "(d, train_metric, valid_metric) = (81, 0.9012345679012346, 0.875)\n",
      "(d, train_metric, valid_metric) = (82, 0.8780487804878049, 0.85)\n",
      "(d, train_metric, valid_metric) = (83, 0.891566265060241, 0.8375)\n",
      "(d, train_metric, valid_metric) = (84, 0.8928571428571429, 0.8625)\n",
      "(d, train_metric, valid_metric) = (85, 0.8823529411764706, 0.85)\n",
      "(d, train_metric, valid_metric) = (86, 0.7906976744186046, 0.8)\n",
      "(d, train_metric, valid_metric) = (87, 0.5862068965517241, 0.6875)\n",
      "(d, train_metric, valid_metric) = (88, 0.5795454545454546, 0.6875)\n",
      "(d, train_metric, valid_metric) = (89, 0.8876404494382022, 0.8875)\n",
      "(d, train_metric, valid_metric) = (90, 0.8222222222222222, 0.8125)\n",
      "(d, train_metric, valid_metric) = (91, 0.5714285714285714, 0.6875)\n",
      "(d, train_metric, valid_metric) = (92, 0.7282608695652174, 0.7875)\n",
      "(d, train_metric, valid_metric) = (93, 0.7526881720430108, 0.7875)\n",
      "(d, train_metric, valid_metric) = (94, 0.8617021276595744, 0.85)\n",
      "(d, train_metric, valid_metric) = (95, 0.8736842105263158, 0.8375)\n",
      "(d, train_metric, valid_metric) = (96, 0.5833333333333334, 0.6875)\n",
      "(d, train_metric, valid_metric) = (97, 0.8556701030927835, 0.8125)\n",
      "(d, train_metric, valid_metric) = (98, 0.8979591836734694, 0.85)\n",
      "(d, train_metric, valid_metric) = (99, 0.8080808080808081, 0.8125)\n",
      "(d, train_metric, valid_metric) = (100, 0.82, 0.8375)\n",
      "(d, train_metric, valid_metric) = (101, 0.8811881188118812, 0.8875)\n",
      "(d, train_metric, valid_metric) = (102, 0.8333333333333334, 0.825)\n",
      "(d, train_metric, valid_metric) = (103, 0.5922330097087378, 0.6875)\n",
      "(d, train_metric, valid_metric) = (104, 0.8461538461538461, 0.8375)\n",
      "(d, train_metric, valid_metric) = (105, 0.8952380952380953, 0.8625)\n",
      "(d, train_metric, valid_metric) = (106, 0.8867924528301887, 0.8625)\n",
      "(d, train_metric, valid_metric) = (107, 0.8130841121495327, 0.8)\n",
      "(d, train_metric, valid_metric) = (108, 0.8796296296296297, 0.85)\n",
      "(d, train_metric, valid_metric) = (109, 0.9174311926605505, 0.8625)\n",
      "(d, train_metric, valid_metric) = (110, 0.7, 0.7375)\n",
      "(d, train_metric, valid_metric) = (111, 0.7927927927927928, 0.825)\n",
      "(d, train_metric, valid_metric) = (112, 0.7678571428571429, 0.75)\n",
      "(d, train_metric, valid_metric) = (113, 0.8849557522123894, 0.85)\n",
      "(d, train_metric, valid_metric) = (114, 0.868421052631579, 0.8375)\n",
      "(d, train_metric, valid_metric) = (115, 0.9130434782608695, 0.8625)\n",
      "(d, train_metric, valid_metric) = (116, 0.8706896551724138, 0.875)\n",
      "(d, train_metric, valid_metric) = (117, 0.9145299145299145, 0.8875)\n",
      "(d, train_metric, valid_metric) = (118, 0.8305084745762712, 0.8375)\n",
      "(d, train_metric, valid_metric) = (119, 0.8991596638655462, 0.8625)\n",
      "(d, train_metric, valid_metric) = (120, 0.8583333333333333, 0.8375)\n",
      "(d, train_metric, valid_metric) = (121, 0.8760330578512396, 0.8875)\n",
      "(d, train_metric, valid_metric) = (122, 0.8524590163934426, 0.8375)\n",
      "(d, train_metric, valid_metric) = (123, 0.8211382113821138, 0.8375)\n",
      "(d, train_metric, valid_metric) = (124, 0.9354838709677419, 0.8375)\n",
      "(d, train_metric, valid_metric) = (125, 0.912, 0.8625)\n",
      "(d, train_metric, valid_metric) = (126, 0.8888888888888888, 0.85)\n",
      "(d, train_metric, valid_metric) = (127, 0.905511811023622, 0.8875)\n",
      "(d, train_metric, valid_metric) = (128, 0.890625, 0.8625)\n",
      "(d, train_metric, valid_metric) = (129, 0.8604651162790697, 0.825)\n",
      "(d, train_metric, valid_metric) = (130, 0.9, 0.8625)\n",
      "(d, train_metric, valid_metric) = (131, 0.8854961832061069, 0.8625)\n",
      "(d, train_metric, valid_metric) = (132, 0.8863636363636364, 0.9)\n",
      "(d, train_metric, valid_metric) = (133, 0.8947368421052632, 0.8625)\n",
      "(d, train_metric, valid_metric) = (134, 0.8955223880597015, 0.875)\n",
      "(d, train_metric, valid_metric) = (135, 0.9185185185185185, 0.8875)\n"
     ]
    },
    {
     "name": "stdout",
     "output_type": "stream",
     "text": [
      "(d, train_metric, valid_metric) = (136, 0.875, 0.8375)\n",
      "(d, train_metric, valid_metric) = (137, 0.8759124087591241, 0.875)\n",
      "(d, train_metric, valid_metric) = (138, 0.8695652173913043, 0.8125)\n",
      "(d, train_metric, valid_metric) = (139, 0.8992805755395683, 0.85)\n",
      "(d, train_metric, valid_metric) = (140, 0.9142857142857143, 0.8625)\n",
      "(d, train_metric, valid_metric) = (141, 0.8936170212765957, 0.8625)\n",
      "(d, train_metric, valid_metric) = (142, 0.8943661971830986, 0.8375)\n",
      "(d, train_metric, valid_metric) = (143, 0.9300699300699301, 0.875)\n",
      "(d, train_metric, valid_metric) = (144, 0.9375, 0.8375)\n",
      "(d, train_metric, valid_metric) = (145, 0.903448275862069, 0.875)\n",
      "(d, train_metric, valid_metric) = (146, 0.8767123287671232, 0.8625)\n",
      "(d, train_metric, valid_metric) = (147, 0.891156462585034, 0.8625)\n",
      "(d, train_metric, valid_metric) = (148, 0.8716216216216216, 0.875)\n",
      "(d, train_metric, valid_metric) = (149, 0.8859060402684564, 0.85)\n",
      "(d, train_metric, valid_metric) = (150, 0.9, 0.875)\n",
      "(d, train_metric, valid_metric) = (151, 0.8874172185430463, 0.8625)\n",
      "(d, train_metric, valid_metric) = (152, 0.881578947368421, 0.8625)\n",
      "(d, train_metric, valid_metric) = (153, 0.8562091503267973, 0.85)\n",
      "(d, train_metric, valid_metric) = (154, 0.8961038961038961, 0.8625)\n",
      "(d, train_metric, valid_metric) = (155, 0.5870967741935483, 0.6875)\n",
      "(d, train_metric, valid_metric) = (156, 0.8910256410256411, 0.8625)\n",
      "(d, train_metric, valid_metric) = (157, 0.9171974522292994, 0.8625)\n",
      "(d, train_metric, valid_metric) = (158, 0.8924050632911392, 0.8375)\n",
      "(d, train_metric, valid_metric) = (159, 0.8616352201257862, 0.8625)\n",
      "(d, train_metric, valid_metric) = (160, 0.875, 0.85)\n",
      "(d, train_metric, valid_metric) = (161, 0.8944099378881988, 0.8625)\n",
      "(d, train_metric, valid_metric) = (162, 0.8950617283950617, 0.9125)\n",
      "(d, train_metric, valid_metric) = (163, 0.8895705521472392, 0.875)\n",
      "(d, train_metric, valid_metric) = (164, 0.8902439024390244, 0.875)\n",
      "(d, train_metric, valid_metric) = (165, 0.9212121212121213, 0.875)\n",
      "(d, train_metric, valid_metric) = (166, 0.5843373493975904, 0.6875)\n",
      "(d, train_metric, valid_metric) = (167, 0.9041916167664671, 0.925)\n",
      "(d, train_metric, valid_metric) = (168, 0.9047619047619048, 0.875)\n",
      "(d, train_metric, valid_metric) = (169, 0.893491124260355, 0.8625)\n",
      "(d, train_metric, valid_metric) = (170, 0.9058823529411765, 0.8875)\n",
      "(d, train_metric, valid_metric) = (171, 0.9181286549707602, 0.8875)\n",
      "(d, train_metric, valid_metric) = (172, 0.8895348837209303, 0.875)\n",
      "(d, train_metric, valid_metric) = (173, 0.8901734104046243, 0.875)\n",
      "(d, train_metric, valid_metric) = (174, 0.9022988505747126, 0.85)\n",
      "(d, train_metric, valid_metric) = (175, 0.92, 0.85)\n",
      "(d, train_metric, valid_metric) = (176, 0.8920454545454546, 0.8625)\n",
      "(d, train_metric, valid_metric) = (177, 0.8983050847457628, 0.8625)\n",
      "(d, train_metric, valid_metric) = (178, 0.8876404494382022, 0.8375)\n",
      "(d, train_metric, valid_metric) = (179, 0.5921787709497207, 0.6875)\n",
      "(d, train_metric, valid_metric) = (180, 0.9055555555555556, 0.875)\n",
      "(d, train_metric, valid_metric) = (181, 0.8950276243093923, 0.85)\n",
      "(d, train_metric, valid_metric) = (182, 0.9175824175824175, 0.8625)\n",
      "(d, train_metric, valid_metric) = (183, 0.9016393442622951, 0.8625)\n",
      "(d, train_metric, valid_metric) = (184, 0.9021739130434783, 0.85)\n",
      "(d, train_metric, valid_metric) = (185, 0.9027027027027027, 0.8375)\n",
      "(d, train_metric, valid_metric) = (186, 0.9032258064516129, 0.875)\n",
      "(d, train_metric, valid_metric) = (187, 0.8877005347593583, 0.8875)\n",
      "(d, train_metric, valid_metric) = (188, 0.9042553191489362, 0.8625)\n",
      "(d, train_metric, valid_metric) = (189, 0.8888888888888888, 0.8375)\n",
      "(d, train_metric, valid_metric) = (190, 0.8894736842105263, 0.85)\n",
      "(d, train_metric, valid_metric) = (191, 0.8900523560209425, 0.875)\n",
      "(d, train_metric, valid_metric) = (192, 0.890625, 0.875)\n",
      "(d, train_metric, valid_metric) = (193, 0.8808290155440415, 0.875)\n",
      "(d, train_metric, valid_metric) = (194, 0.9226804123711341, 0.8625)\n",
      "(d, train_metric, valid_metric) = (195, 0.9025641025641026, 0.875)\n",
      "(d, train_metric, valid_metric) = (196, 0.8979591836734694, 0.8375)\n",
      "(d, train_metric, valid_metric) = (197, 0.868020304568528, 0.8625)\n",
      "(d, train_metric, valid_metric) = (198, 0.9191919191919192, 0.875)\n",
      "(d, train_metric, valid_metric) = (199, 0.8844221105527639, 0.9125)\n",
      "(d, train_metric, valid_metric) = (200, 0.87, 0.8625)\n",
      "(d, train_metric, valid_metric) = (201, 0.8905472636815921, 0.875)\n",
      "(d, train_metric, valid_metric) = (202, 0.6039603960396039, 0.6875)\n",
      "(d, train_metric, valid_metric) = (203, 0.9113300492610837, 0.8625)\n",
      "(d, train_metric, valid_metric) = (204, 0.9019607843137255, 0.8375)\n",
      "(d, train_metric, valid_metric) = (205, 0.9073170731707317, 0.8375)\n",
      "(d, train_metric, valid_metric) = (206, 0.9029126213592233, 0.85)\n",
      "(d, train_metric, valid_metric) = (207, 0.9178743961352657, 0.8625)\n",
      "(d, train_metric, valid_metric) = (208, 0.6105769230769231, 0.6875)\n",
      "(d, train_metric, valid_metric) = (209, 0.9043062200956937, 0.8625)\n",
      "(d, train_metric, valid_metric) = (210, 0.9047619047619048, 0.875)\n",
      "(d, train_metric, valid_metric) = (211, 0.9241706161137441, 0.8625)\n",
      "(d, train_metric, valid_metric) = (212, 0.910377358490566, 0.8625)\n",
      "(d, train_metric, valid_metric) = (213, 0.9014084507042254, 0.875)\n",
      "(d, train_metric, valid_metric) = (214, 0.8878504672897196, 0.8875)\n",
      "(d, train_metric, valid_metric) = (215, 0.6139534883720931, 0.6875)\n",
      "(d, train_metric, valid_metric) = (216, 0.8888888888888888, 0.875)\n",
      "(d, train_metric, valid_metric) = (217, 0.9032258064516129, 0.85)\n",
      "(d, train_metric, valid_metric) = (218, 0.8990825688073395, 0.8625)\n",
      "(d, train_metric, valid_metric) = (219, 0.8904109589041096, 0.875)\n",
      "(d, train_metric, valid_metric) = (220, 0.8818181818181818, 0.8625)\n",
      "(d, train_metric, valid_metric) = (221, 0.9049773755656109, 0.8875)\n",
      "(d, train_metric, valid_metric) = (222, 0.6126126126126126, 0.6875)\n",
      "(d, train_metric, valid_metric) = (223, 0.8789237668161435, 0.85)\n",
      "(d, train_metric, valid_metric) = (224, 0.84375, 0.8375)\n",
      "(d, train_metric, valid_metric) = (225, 0.9022222222222223, 0.8625)\n",
      "(d, train_metric, valid_metric) = (226, 0.911504424778761, 0.875)\n",
      "(d, train_metric, valid_metric) = (227, 0.8546255506607929, 0.8375)\n",
      "(d, train_metric, valid_metric) = (228, 0.9166666666666666, 0.875)\n",
      "(d, train_metric, valid_metric) = (229, 0.868995633187773, 0.875)\n",
      "(d, train_metric, valid_metric) = (230, 0.9, 0.8625)\n",
      "(d, train_metric, valid_metric) = (231, 0.8961038961038961, 0.8625)\n",
      "(d, train_metric, valid_metric) = (232, 0.896551724137931, 0.9125)\n",
      "(d, train_metric, valid_metric) = (233, 0.8326180257510729, 0.8125)\n",
      "(d, train_metric, valid_metric) = (234, 0.8931623931623932, 0.8875)\n",
      "(d, train_metric, valid_metric) = (235, 0.8936170212765957, 0.875)\n",
      "(d, train_metric, valid_metric) = (236, 0.923728813559322, 0.9)\n",
      "(d, train_metric, valid_metric) = (237, 0.9029535864978903, 0.8625)\n",
      "(d, train_metric, valid_metric) = (238, 0.8739495798319328, 0.8625)\n",
      "(d, train_metric, valid_metric) = (239, 0.8242677824267782, 0.8125)\n",
      "(d, train_metric, valid_metric) = (240, 0.9208333333333333, 0.8625)\n",
      "(d, train_metric, valid_metric) = (241, 0.8381742738589212, 0.8125)\n",
      "(d, train_metric, valid_metric) = (242, 0.8966942148760331, 0.875)\n",
      "(d, train_metric, valid_metric) = (243, 0.897119341563786, 0.8875)\n",
      "(d, train_metric, valid_metric) = (244, 0.9016393442622951, 0.8875)\n",
      "(d, train_metric, valid_metric) = (245, 0.889795918367347, 0.875)\n",
      "(d, train_metric, valid_metric) = (246, 0.9024390243902439, 0.875)\n",
      "(d, train_metric, valid_metric) = (247, 0.902834008097166, 0.875)\n",
      "(d, train_metric, valid_metric) = (248, 0.9153225806451613, 0.8625)\n",
      "(d, train_metric, valid_metric) = (249, 0.9036144578313253, 0.8625)\n",
      "(d, train_metric, valid_metric) = (250, 0.888, 0.8625)\n",
      "(d, train_metric, valid_metric) = (251, 0.9163346613545816, 0.875)\n",
      "(d, train_metric, valid_metric) = (252, 0.8611111111111112, 0.875)\n",
      "(d, train_metric, valid_metric) = (253, 0.8972332015810277, 0.8625)\n",
      "(d, train_metric, valid_metric) = (254, 0.905511811023622, 0.8625)\n",
      "(d, train_metric, valid_metric) = (255, 0.9098039215686274, 0.875)\n",
      "(d, train_metric, valid_metric) = (256, 0.8984375, 0.85)\n",
      "(d, train_metric, valid_metric) = (257, 0.9299610894941635, 0.875)\n",
      "(d, train_metric, valid_metric) = (258, 0.9147286821705426, 0.8875)\n",
      "(d, train_metric, valid_metric) = (259, 0.8996138996138996, 0.875)\n"
     ]
    },
    {
     "name": "stdout",
     "output_type": "stream",
     "text": [
      "(d, train_metric, valid_metric) = (260, 0.8961538461538462, 0.875)\n",
      "(d, train_metric, valid_metric) = (261, 0.8812260536398467, 0.875)\n",
      "(d, train_metric, valid_metric) = (262, 0.8969465648854962, 0.85)\n",
      "(d, train_metric, valid_metric) = (263, 0.9277566539923955, 0.875)\n",
      "(d, train_metric, valid_metric) = (264, 0.9053030303030303, 0.8625)\n",
      "(d, train_metric, valid_metric) = (265, 0.8981132075471698, 0.8625)\n",
      "(d, train_metric, valid_metric) = (266, 0.9097744360902256, 0.8625)\n",
      "(d, train_metric, valid_metric) = (267, 0.9138576779026217, 0.9)\n",
      "(d, train_metric, valid_metric) = (268, 0.9104477611940298, 0.8875)\n",
      "(d, train_metric, valid_metric) = (269, 0.9033457249070632, 0.8625)\n",
      "(d, train_metric, valid_metric) = (270, 0.8481481481481481, 0.875)\n",
      "(d, train_metric, valid_metric) = (271, 0.9003690036900369, 0.8625)\n",
      "(d, train_metric, valid_metric) = (272, 0.9044117647058824, 0.8625)\n",
      "(d, train_metric, valid_metric) = (273, 0.8754578754578755, 0.8625)\n",
      "(d, train_metric, valid_metric) = (274, 0.916058394160584, 0.85)\n",
      "(d, train_metric, valid_metric) = (275, 0.8872727272727273, 0.85)\n",
      "(d, train_metric, valid_metric) = (276, 0.8985507246376812, 0.875)\n",
      "(d, train_metric, valid_metric) = (277, 0.9169675090252708, 0.875)\n",
      "(d, train_metric, valid_metric) = (278, 0.89568345323741, 0.875)\n",
      "(d, train_metric, valid_metric) = (279, 0.8960573476702509, 0.8875)\n",
      "(d, train_metric, valid_metric) = (280, 0.8821428571428571, 0.875)\n",
      "(d, train_metric, valid_metric) = (281, 0.9074733096085409, 0.85)\n",
      "(d, train_metric, valid_metric) = (282, 0.8829787234042553, 0.875)\n",
      "(d, train_metric, valid_metric) = (283, 0.8833922261484098, 0.85)\n",
      "(d, train_metric, valid_metric) = (284, 0.8908450704225352, 0.8625)\n",
      "(d, train_metric, valid_metric) = (285, 0.8982456140350877, 0.8875)\n",
      "(d, train_metric, valid_metric) = (286, 0.8951048951048951, 0.8625)\n",
      "(d, train_metric, valid_metric) = (287, 0.9024390243902439, 0.8875)\n",
      "(d, train_metric, valid_metric) = (288, 0.8888888888888888, 0.85)\n",
      "(d, train_metric, valid_metric) = (289, 0.6193771626297578, 0.575)\n",
      "(d, train_metric, valid_metric) = (290, 0.8862068965517241, 0.8875)\n",
      "(d, train_metric, valid_metric) = (291, 0.9037800687285223, 0.8625)\n",
      "(d, train_metric, valid_metric) = (292, 0.8938356164383562, 0.875)\n",
      "(d, train_metric, valid_metric) = (293, 0.863481228668942, 0.8625)\n",
      "(d, train_metric, valid_metric) = (294, 0.8877551020408163, 0.875)\n",
      "(d, train_metric, valid_metric) = (295, 0.888135593220339, 0.875)\n",
      "(d, train_metric, valid_metric) = (296, 0.902027027027027, 0.8625)\n",
      "(d, train_metric, valid_metric) = (297, 0.7373737373737373, 0.6875)\n",
      "(d, train_metric, valid_metric) = (298, 0.8087248322147651, 0.8375)\n",
      "(d, train_metric, valid_metric) = (299, 0.8896321070234113, 0.8875)\n",
      "(d, train_metric, valid_metric) = (300, 0.8933333333333333, 0.8875)\n",
      "(d, train_metric, valid_metric) = (301, 0.8903654485049833, 0.8875)\n",
      "(d, train_metric, valid_metric) = (302, 0.9139072847682119, 0.9)\n",
      "(d, train_metric, valid_metric) = (303, 0.8415841584158416, 0.8375)\n",
      "(d, train_metric, valid_metric) = (304, 0.881578947368421, 0.875)\n",
      "(d, train_metric, valid_metric) = (305, 0.8754098360655738, 0.8625)\n",
      "(d, train_metric, valid_metric) = (306, 0.8529411764705882, 0.8625)\n",
      "(d, train_metric, valid_metric) = (307, 0.8925081433224755, 0.8625)\n",
      "(d, train_metric, valid_metric) = (308, 0.9123376623376623, 0.8875)\n",
      "(d, train_metric, valid_metric) = (309, 0.8996763754045307, 0.85)\n",
      "(d, train_metric, valid_metric) = (310, 0.9096774193548387, 0.875)\n",
      "(d, train_metric, valid_metric) = (311, 0.8231511254019293, 0.85)\n",
      "(d, train_metric, valid_metric) = (312, 0.8814102564102564, 0.875)\n",
      "(d, train_metric, valid_metric) = (313, 0.9105431309904153, 0.875)\n",
      "(d, train_metric, valid_metric) = (314, 0.8694267515923567, 0.825)\n",
      "(d, train_metric, valid_metric) = (315, 0.8888888888888888, 0.825)\n",
      "(d, train_metric, valid_metric) = (316, 0.8860759493670886, 0.85)\n",
      "(d, train_metric, valid_metric) = (317, 0.8927444794952681, 0.8625)\n",
      "(d, train_metric, valid_metric) = (318, 0.8805031446540881, 0.85)\n"
     ]
    },
    {
     "data": {
      "text/plain": [
       "(10:1:318, Any[0.8, 0.7272727272727273, 0.75, 0.7692307692307693, 0.7142857142857143, 0.7333333333333333, 0.75, 0.7058823529411765, 0.6666666666666666, 0.6842105263157895  …  0.8996763754045307, 0.9096774193548387, 0.8231511254019293, 0.8814102564102564, 0.9105431309904153, 0.8694267515923567, 0.8888888888888888, 0.8860759493670886, 0.8927444794952681, 0.8805031446540881], Any[0.6875, 0.6875, 0.7875, 0.6875, 0.6875, 0.7625, 0.6875, 0.6875, 0.6875, 0.75  …  0.85, 0.875, 0.85, 0.875, 0.875, 0.825, 0.825, 0.85, 0.8625, 0.85])"
      ]
     },
     "execution_count": 142,
     "metadata": {},
     "output_type": "execute_result"
    }
   ],
   "source": [
    "data_schedule, training_losses, valid_losses = learn_curve(final_model, X[train,:], y[train], acc)"
   ]
  },
  {
   "cell_type": "code",
   "execution_count": 143,
   "metadata": {},
   "outputs": [
    {
     "data": {
      "image/svg+xml": [
       "<?xml version=\"1.0\" encoding=\"utf-8\"?>\n",
       "<svg xmlns=\"http://www.w3.org/2000/svg\" xmlns:xlink=\"http://www.w3.org/1999/xlink\" width=\"600\" height=\"400\" viewBox=\"0 0 2400 1600\">\n",
       "<defs>\n",
       "  <clipPath id=\"clip550\">\n",
       "    <rect x=\"0\" y=\"0\" width=\"2400\" height=\"1600\"/>\n",
       "  </clipPath>\n",
       "</defs>\n",
       "<path clip-path=\"url(#clip550)\" d=\"\n",
       "M0 1600 L2400 1600 L2400 0 L0 0  Z\n",
       "  \" fill=\"#ffffff\" fill-rule=\"evenodd\" fill-opacity=\"1\"/>\n",
       "<defs>\n",
       "  <clipPath id=\"clip551\">\n",
       "    <rect x=\"480\" y=\"0\" width=\"1681\" height=\"1600\"/>\n",
       "  </clipPath>\n",
       "</defs>\n",
       "<path clip-path=\"url(#clip550)\" d=\"\n",
       "M148.01 1486.45 L2352.76 1486.45 L2352.76 47.2441 L148.01 47.2441  Z\n",
       "  \" fill=\"#ffffff\" fill-rule=\"evenodd\" fill-opacity=\"1\"/>\n",
       "<defs>\n",
       "  <clipPath id=\"clip552\">\n",
       "    <rect x=\"148\" y=\"47\" width=\"2206\" height=\"1440\"/>\n",
       "  </clipPath>\n",
       "</defs>\n",
       "<polyline clip-path=\"url(#clip552)\" style=\"stroke:#000000; stroke-width:2; stroke-opacity:0.1; fill:none\" points=\"\n",
       "  480.532,1486.45 480.532,47.2441 \n",
       "  \"/>\n",
       "<polyline clip-path=\"url(#clip552)\" style=\"stroke:#000000; stroke-width:2; stroke-opacity:0.1; fill:none\" points=\"\n",
       "  818.186,1486.45 818.186,47.2441 \n",
       "  \"/>\n",
       "<polyline clip-path=\"url(#clip552)\" style=\"stroke:#000000; stroke-width:2; stroke-opacity:0.1; fill:none\" points=\"\n",
       "  1155.84,1486.45 1155.84,47.2441 \n",
       "  \"/>\n",
       "<polyline clip-path=\"url(#clip552)\" style=\"stroke:#000000; stroke-width:2; stroke-opacity:0.1; fill:none\" points=\"\n",
       "  1493.49,1486.45 1493.49,47.2441 \n",
       "  \"/>\n",
       "<polyline clip-path=\"url(#clip552)\" style=\"stroke:#000000; stroke-width:2; stroke-opacity:0.1; fill:none\" points=\"\n",
       "  1831.15,1486.45 1831.15,47.2441 \n",
       "  \"/>\n",
       "<polyline clip-path=\"url(#clip552)\" style=\"stroke:#000000; stroke-width:2; stroke-opacity:0.1; fill:none\" points=\"\n",
       "  2168.8,1486.45 2168.8,47.2441 \n",
       "  \"/>\n",
       "<polyline clip-path=\"url(#clip552)\" style=\"stroke:#000000; stroke-width:2; stroke-opacity:0.1; fill:none\" points=\"\n",
       "  148.01,1328.17 2352.76,1328.17 \n",
       "  \"/>\n",
       "<polyline clip-path=\"url(#clip552)\" style=\"stroke:#000000; stroke-width:2; stroke-opacity:0.1; fill:none\" points=\"\n",
       "  148.01,982.071 2352.76,982.071 \n",
       "  \"/>\n",
       "<polyline clip-path=\"url(#clip552)\" style=\"stroke:#000000; stroke-width:2; stroke-opacity:0.1; fill:none\" points=\"\n",
       "  148.01,635.97 2352.76,635.97 \n",
       "  \"/>\n",
       "<polyline clip-path=\"url(#clip552)\" style=\"stroke:#000000; stroke-width:2; stroke-opacity:0.1; fill:none\" points=\"\n",
       "  148.01,289.869 2352.76,289.869 \n",
       "  \"/>\n",
       "<polyline clip-path=\"url(#clip550)\" style=\"stroke:#000000; stroke-width:4; stroke-opacity:1; fill:none\" points=\"\n",
       "  148.01,1486.45 2352.76,1486.45 \n",
       "  \"/>\n",
       "<polyline clip-path=\"url(#clip550)\" style=\"stroke:#000000; stroke-width:4; stroke-opacity:1; fill:none\" points=\"\n",
       "  148.01,1486.45 148.01,47.2441 \n",
       "  \"/>\n",
       "<polyline clip-path=\"url(#clip550)\" style=\"stroke:#000000; stroke-width:4; stroke-opacity:1; fill:none\" points=\"\n",
       "  480.532,1486.45 480.532,1469.18 \n",
       "  \"/>\n",
       "<polyline clip-path=\"url(#clip550)\" style=\"stroke:#000000; stroke-width:4; stroke-opacity:1; fill:none\" points=\"\n",
       "  818.186,1486.45 818.186,1469.18 \n",
       "  \"/>\n",
       "<polyline clip-path=\"url(#clip550)\" style=\"stroke:#000000; stroke-width:4; stroke-opacity:1; fill:none\" points=\"\n",
       "  1155.84,1486.45 1155.84,1469.18 \n",
       "  \"/>\n",
       "<polyline clip-path=\"url(#clip550)\" style=\"stroke:#000000; stroke-width:4; stroke-opacity:1; fill:none\" points=\"\n",
       "  1493.49,1486.45 1493.49,1469.18 \n",
       "  \"/>\n",
       "<polyline clip-path=\"url(#clip550)\" style=\"stroke:#000000; stroke-width:4; stroke-opacity:1; fill:none\" points=\"\n",
       "  1831.15,1486.45 1831.15,1469.18 \n",
       "  \"/>\n",
       "<polyline clip-path=\"url(#clip550)\" style=\"stroke:#000000; stroke-width:4; stroke-opacity:1; fill:none\" points=\"\n",
       "  2168.8,1486.45 2168.8,1469.18 \n",
       "  \"/>\n",
       "<polyline clip-path=\"url(#clip550)\" style=\"stroke:#000000; stroke-width:4; stroke-opacity:1; fill:none\" points=\"\n",
       "  148.01,1328.17 174.467,1328.17 \n",
       "  \"/>\n",
       "<polyline clip-path=\"url(#clip550)\" style=\"stroke:#000000; stroke-width:4; stroke-opacity:1; fill:none\" points=\"\n",
       "  148.01,982.071 174.467,982.071 \n",
       "  \"/>\n",
       "<polyline clip-path=\"url(#clip550)\" style=\"stroke:#000000; stroke-width:4; stroke-opacity:1; fill:none\" points=\"\n",
       "  148.01,635.97 174.467,635.97 \n",
       "  \"/>\n",
       "<polyline clip-path=\"url(#clip550)\" style=\"stroke:#000000; stroke-width:4; stroke-opacity:1; fill:none\" points=\"\n",
       "  148.01,289.869 174.467,289.869 \n",
       "  \"/>\n",
       "<path clip-path=\"url(#clip550)\" d=\"M 0 0 M457.303 1505.36 L475.659 1505.36 L475.659 1509.3 L461.585 1509.3 L461.585 1517.77 Q462.604 1517.42 463.622 1517.26 Q464.641 1517.07 465.659 1517.07 Q471.446 1517.07 474.826 1520.24 Q478.206 1523.42 478.206 1528.83 Q478.206 1534.41 474.733 1537.51 Q471.261 1540.59 464.942 1540.59 Q462.766 1540.59 460.497 1540.22 Q458.252 1539.85 455.845 1539.11 L455.845 1534.41 Q457.928 1535.54 460.15 1536.1 Q462.372 1536.66 464.849 1536.66 Q468.854 1536.66 471.192 1534.55 Q473.53 1532.44 473.53 1528.83 Q473.53 1525.22 471.192 1523.11 Q468.854 1521.01 464.849 1521.01 Q462.974 1521.01 461.099 1521.42 Q459.247 1521.84 457.303 1522.72 L457.303 1505.36 Z\" fill=\"#000000\" fill-rule=\"evenodd\" fill-opacity=\"1\" /><path clip-path=\"url(#clip550)\" d=\"M 0 0 M493.275 1508.44 Q489.664 1508.44 487.835 1512 Q486.03 1515.55 486.03 1522.67 Q486.03 1529.78 487.835 1533.35 Q489.664 1536.89 493.275 1536.89 Q496.909 1536.89 498.715 1533.35 Q500.543 1529.78 500.543 1522.67 Q500.543 1515.55 498.715 1512 Q496.909 1508.44 493.275 1508.44 M493.275 1504.73 Q499.085 1504.73 502.141 1509.34 Q505.219 1513.92 505.219 1522.67 Q505.219 1531.4 502.141 1536.01 Q499.085 1540.59 493.275 1540.59 Q487.465 1540.59 484.386 1536.01 Q481.331 1531.4 481.331 1522.67 Q481.331 1513.92 484.386 1509.34 Q487.465 1504.73 493.275 1504.73 Z\" fill=\"#000000\" fill-rule=\"evenodd\" fill-opacity=\"1\" /><path clip-path=\"url(#clip550)\" d=\"M 0 0 M781.554 1535.98 L789.193 1535.98 L789.193 1509.62 L780.883 1511.29 L780.883 1507.03 L789.147 1505.36 L793.823 1505.36 L793.823 1535.98 L801.462 1535.98 L801.462 1539.92 L781.554 1539.92 L781.554 1535.98 Z\" fill=\"#000000\" fill-rule=\"evenodd\" fill-opacity=\"1\" /><path clip-path=\"url(#clip550)\" d=\"M 0 0 M816.531 1508.44 Q812.92 1508.44 811.091 1512 Q809.286 1515.55 809.286 1522.67 Q809.286 1529.78 811.091 1533.35 Q812.92 1536.89 816.531 1536.89 Q820.165 1536.89 821.971 1533.35 Q823.799 1529.78 823.799 1522.67 Q823.799 1515.55 821.971 1512 Q820.165 1508.44 816.531 1508.44 M816.531 1504.73 Q822.341 1504.73 825.397 1509.34 Q828.475 1513.92 828.475 1522.67 Q828.475 1531.4 825.397 1536.01 Q822.341 1540.59 816.531 1540.59 Q810.721 1540.59 807.642 1536.01 Q804.587 1531.4 804.587 1522.67 Q804.587 1513.92 807.642 1509.34 Q810.721 1504.73 816.531 1504.73 Z\" fill=\"#000000\" fill-rule=\"evenodd\" fill-opacity=\"1\" /><path clip-path=\"url(#clip550)\" d=\"M 0 0 M843.545 1508.44 Q839.934 1508.44 838.105 1512 Q836.299 1515.55 836.299 1522.67 Q836.299 1529.78 838.105 1533.35 Q839.934 1536.89 843.545 1536.89 Q847.179 1536.89 848.984 1533.35 Q850.813 1529.78 850.813 1522.67 Q850.813 1515.55 848.984 1512 Q847.179 1508.44 843.545 1508.44 M843.545 1504.73 Q849.355 1504.73 852.41 1509.34 Q855.489 1513.92 855.489 1522.67 Q855.489 1531.4 852.41 1536.01 Q849.355 1540.59 843.545 1540.59 Q837.734 1540.59 834.656 1536.01 Q831.6 1531.4 831.6 1522.67 Q831.6 1513.92 834.656 1509.34 Q837.734 1504.73 843.545 1504.73 Z\" fill=\"#000000\" fill-rule=\"evenodd\" fill-opacity=\"1\" /><path clip-path=\"url(#clip550)\" d=\"M 0 0 M1119.71 1535.98 L1127.34 1535.98 L1127.34 1509.62 L1119.03 1511.29 L1119.03 1507.03 L1127.3 1505.36 L1131.97 1505.36 L1131.97 1535.98 L1139.61 1535.98 L1139.61 1539.92 L1119.71 1539.92 L1119.71 1535.98 Z\" fill=\"#000000\" fill-rule=\"evenodd\" fill-opacity=\"1\" /><path clip-path=\"url(#clip550)\" d=\"M 0 0 M1144.73 1505.36 L1163.09 1505.36 L1163.09 1509.3 L1149.01 1509.3 L1149.01 1517.77 Q1150.03 1517.42 1151.05 1517.26 Q1152.07 1517.07 1153.09 1517.07 Q1158.87 1517.07 1162.25 1520.24 Q1165.63 1523.42 1165.63 1528.83 Q1165.63 1534.41 1162.16 1537.51 Q1158.69 1540.59 1152.37 1540.59 Q1150.19 1540.59 1147.92 1540.22 Q1145.68 1539.85 1143.27 1539.11 L1143.27 1534.41 Q1145.35 1535.54 1147.58 1536.1 Q1149.8 1536.66 1152.28 1536.66 Q1156.28 1536.66 1158.62 1534.55 Q1160.96 1532.44 1160.96 1528.83 Q1160.96 1525.22 1158.62 1523.11 Q1156.28 1521.01 1152.28 1521.01 Q1150.4 1521.01 1148.53 1521.42 Q1146.67 1521.84 1144.73 1522.72 L1144.73 1505.36 Z\" fill=\"#000000\" fill-rule=\"evenodd\" fill-opacity=\"1\" /><path clip-path=\"url(#clip550)\" d=\"M 0 0 M1180.7 1508.44 Q1177.09 1508.44 1175.26 1512 Q1173.46 1515.55 1173.46 1522.67 Q1173.46 1529.78 1175.26 1533.35 Q1177.09 1536.89 1180.7 1536.89 Q1184.34 1536.89 1186.14 1533.35 Q1187.97 1529.78 1187.97 1522.67 Q1187.97 1515.55 1186.14 1512 Q1184.34 1508.44 1180.7 1508.44 M1180.7 1504.73 Q1186.51 1504.73 1189.57 1509.34 Q1192.65 1513.92 1192.65 1522.67 Q1192.65 1531.4 1189.57 1536.01 Q1186.51 1540.59 1180.7 1540.59 Q1174.89 1540.59 1171.81 1536.01 Q1168.76 1531.4 1168.76 1522.67 Q1168.76 1513.92 1171.81 1509.34 Q1174.89 1504.73 1180.7 1504.73 Z\" fill=\"#000000\" fill-rule=\"evenodd\" fill-opacity=\"1\" /><path clip-path=\"url(#clip550)\" d=\"M 0 0 M1461.13 1535.98 L1477.45 1535.98 L1477.45 1539.92 L1455.51 1539.92 L1455.51 1535.98 Q1458.17 1533.23 1462.75 1528.6 Q1467.36 1523.95 1468.54 1522.61 Q1470.79 1520.08 1471.67 1518.35 Q1472.57 1516.59 1472.57 1514.9 Q1472.57 1512.14 1470.62 1510.41 Q1468.7 1508.67 1465.6 1508.67 Q1463.4 1508.67 1460.95 1509.43 Q1458.52 1510.2 1455.74 1511.75 L1455.74 1507.03 Q1458.56 1505.89 1461.02 1505.31 Q1463.47 1504.73 1465.51 1504.73 Q1470.88 1504.73 1474.07 1507.42 Q1477.27 1510.11 1477.27 1514.6 Q1477.27 1516.73 1476.46 1518.65 Q1475.67 1520.54 1473.56 1523.14 Q1472.98 1523.81 1469.88 1527.03 Q1466.78 1530.22 1461.13 1535.98 Z\" fill=\"#000000\" fill-rule=\"evenodd\" fill-opacity=\"1\" /><path clip-path=\"url(#clip550)\" d=\"M 0 0 M1492.52 1508.44 Q1488.91 1508.44 1487.08 1512 Q1485.28 1515.55 1485.28 1522.67 Q1485.28 1529.78 1487.08 1533.35 Q1488.91 1536.89 1492.52 1536.89 Q1496.16 1536.89 1497.96 1533.35 Q1499.79 1529.78 1499.79 1522.67 Q1499.79 1515.55 1497.96 1512 Q1496.16 1508.44 1492.52 1508.44 M1492.52 1504.73 Q1498.33 1504.73 1501.39 1509.34 Q1504.47 1513.92 1504.47 1522.67 Q1504.47 1531.4 1501.39 1536.01 Q1498.33 1540.59 1492.52 1540.59 Q1486.71 1540.59 1483.63 1536.01 Q1480.58 1531.4 1480.58 1522.67 Q1480.58 1513.92 1483.63 1509.34 Q1486.71 1504.73 1492.52 1504.73 Z\" fill=\"#000000\" fill-rule=\"evenodd\" fill-opacity=\"1\" /><path clip-path=\"url(#clip550)\" d=\"M 0 0 M1519.54 1508.44 Q1515.92 1508.44 1514.1 1512 Q1512.29 1515.55 1512.29 1522.67 Q1512.29 1529.78 1514.1 1533.35 Q1515.92 1536.89 1519.54 1536.89 Q1523.17 1536.89 1524.98 1533.35 Q1526.8 1529.78 1526.8 1522.67 Q1526.8 1515.55 1524.98 1512 Q1523.17 1508.44 1519.54 1508.44 M1519.54 1504.73 Q1525.35 1504.73 1528.4 1509.34 Q1531.48 1513.92 1531.48 1522.67 Q1531.48 1531.4 1528.4 1536.01 Q1525.35 1540.59 1519.54 1540.59 Q1513.73 1540.59 1510.65 1536.01 Q1507.59 1531.4 1507.59 1522.67 Q1507.59 1513.92 1510.65 1509.34 Q1513.73 1504.73 1519.54 1504.73 Z\" fill=\"#000000\" fill-rule=\"evenodd\" fill-opacity=\"1\" /><path clip-path=\"url(#clip550)\" d=\"M 0 0 M1799.28 1535.98 L1815.6 1535.98 L1815.6 1539.92 L1793.66 1539.92 L1793.66 1535.98 Q1796.32 1533.23 1800.91 1528.6 Q1805.51 1523.95 1806.69 1522.61 Q1808.94 1520.08 1809.82 1518.35 Q1810.72 1516.59 1810.72 1514.9 Q1810.72 1512.14 1808.78 1510.41 Q1806.85 1508.67 1803.75 1508.67 Q1801.55 1508.67 1799.1 1509.43 Q1796.67 1510.2 1793.89 1511.75 L1793.89 1507.03 Q1796.72 1505.89 1799.17 1505.31 Q1801.62 1504.73 1803.66 1504.73 Q1809.03 1504.73 1812.22 1507.42 Q1815.42 1510.11 1815.42 1514.6 Q1815.42 1516.73 1814.61 1518.65 Q1813.82 1520.54 1811.72 1523.14 Q1811.14 1523.81 1808.03 1527.03 Q1804.93 1530.22 1799.28 1535.98 Z\" fill=\"#000000\" fill-rule=\"evenodd\" fill-opacity=\"1\" /><path clip-path=\"url(#clip550)\" d=\"M 0 0 M1820.72 1505.36 L1839.08 1505.36 L1839.08 1509.3 L1825 1509.3 L1825 1517.77 Q1826.02 1517.42 1827.04 1517.26 Q1828.06 1517.07 1829.08 1517.07 Q1834.86 1517.07 1838.24 1520.24 Q1841.62 1523.42 1841.62 1528.83 Q1841.62 1534.41 1838.15 1537.51 Q1834.68 1540.59 1828.36 1540.59 Q1826.18 1540.59 1823.91 1540.22 Q1821.67 1539.85 1819.26 1539.11 L1819.26 1534.41 Q1821.34 1535.54 1823.57 1536.1 Q1825.79 1536.66 1828.27 1536.66 Q1832.27 1536.66 1834.61 1534.55 Q1836.95 1532.44 1836.95 1528.83 Q1836.95 1525.22 1834.61 1523.11 Q1832.27 1521.01 1828.27 1521.01 Q1826.39 1521.01 1824.52 1521.42 Q1822.66 1521.84 1820.72 1522.72 L1820.72 1505.36 Z\" fill=\"#000000\" fill-rule=\"evenodd\" fill-opacity=\"1\" /><path clip-path=\"url(#clip550)\" d=\"M 0 0 M1856.69 1508.44 Q1853.08 1508.44 1851.25 1512 Q1849.45 1515.55 1849.45 1522.67 Q1849.45 1529.78 1851.25 1533.35 Q1853.08 1536.89 1856.69 1536.89 Q1860.33 1536.89 1862.13 1533.35 Q1863.96 1529.78 1863.96 1522.67 Q1863.96 1515.55 1862.13 1512 Q1860.33 1508.44 1856.69 1508.44 M1856.69 1504.73 Q1862.5 1504.73 1865.56 1509.34 Q1868.64 1513.92 1868.64 1522.67 Q1868.64 1531.4 1865.56 1536.01 Q1862.5 1540.59 1856.69 1540.59 Q1850.88 1540.59 1847.8 1536.01 Q1844.75 1531.4 1844.75 1522.67 Q1844.75 1513.92 1847.8 1509.34 Q1850.88 1504.73 1856.69 1504.73 Z\" fill=\"#000000\" fill-rule=\"evenodd\" fill-opacity=\"1\" /><path clip-path=\"url(#clip550)\" d=\"M 0 0 M2146.04 1521.29 Q2149.39 1522 2151.27 1524.27 Q2153.17 1526.54 2153.17 1529.87 Q2153.17 1534.99 2149.65 1537.79 Q2146.13 1540.59 2139.65 1540.59 Q2137.47 1540.59 2135.16 1540.15 Q2132.86 1539.73 2130.41 1538.88 L2130.41 1534.36 Q2132.36 1535.5 2134.67 1536.08 Q2136.99 1536.66 2139.51 1536.66 Q2143.91 1536.66 2146.2 1534.92 Q2148.51 1533.18 2148.51 1529.87 Q2148.51 1526.82 2146.36 1525.11 Q2144.23 1523.37 2140.41 1523.37 L2136.38 1523.37 L2136.38 1519.53 L2140.6 1519.53 Q2144.05 1519.53 2145.87 1518.16 Q2147.7 1516.77 2147.7 1514.18 Q2147.7 1511.52 2145.8 1510.11 Q2143.93 1508.67 2140.41 1508.67 Q2138.49 1508.67 2136.29 1509.09 Q2134.09 1509.5 2131.45 1510.38 L2131.45 1506.22 Q2134.11 1505.48 2136.43 1505.11 Q2138.77 1504.73 2140.83 1504.73 Q2146.15 1504.73 2149.25 1507.17 Q2152.36 1509.57 2152.36 1513.69 Q2152.36 1516.56 2150.71 1518.55 Q2149.07 1520.52 2146.04 1521.29 Z\" fill=\"#000000\" fill-rule=\"evenodd\" fill-opacity=\"1\" /><path clip-path=\"url(#clip550)\" d=\"M 0 0 M2168.23 1508.44 Q2164.62 1508.44 2162.8 1512 Q2160.99 1515.55 2160.99 1522.67 Q2160.99 1529.78 2162.8 1533.35 Q2164.62 1536.89 2168.23 1536.89 Q2171.87 1536.89 2173.67 1533.35 Q2175.5 1529.78 2175.5 1522.67 Q2175.5 1515.55 2173.67 1512 Q2171.87 1508.44 2168.23 1508.44 M2168.23 1504.73 Q2174.05 1504.73 2177.1 1509.34 Q2180.18 1513.92 2180.18 1522.67 Q2180.18 1531.4 2177.1 1536.01 Q2174.05 1540.59 2168.23 1540.59 Q2162.42 1540.59 2159.35 1536.01 Q2156.29 1531.4 2156.29 1522.67 Q2156.29 1513.92 2159.35 1509.34 Q2162.42 1504.73 2168.23 1504.73 Z\" fill=\"#000000\" fill-rule=\"evenodd\" fill-opacity=\"1\" /><path clip-path=\"url(#clip550)\" d=\"M 0 0 M2195.25 1508.44 Q2191.64 1508.44 2189.81 1512 Q2188 1515.55 2188 1522.67 Q2188 1529.78 2189.81 1533.35 Q2191.64 1536.89 2195.25 1536.89 Q2198.88 1536.89 2200.69 1533.35 Q2202.52 1529.78 2202.52 1522.67 Q2202.52 1515.55 2200.69 1512 Q2198.88 1508.44 2195.25 1508.44 M2195.25 1504.73 Q2201.06 1504.73 2204.11 1509.34 Q2207.19 1513.92 2207.19 1522.67 Q2207.19 1531.4 2204.11 1536.01 Q2201.06 1540.59 2195.25 1540.59 Q2189.44 1540.59 2186.36 1536.01 Q2183.3 1531.4 2183.3 1522.67 Q2183.3 1513.92 2186.36 1509.34 Q2189.44 1504.73 2195.25 1504.73 Z\" fill=\"#000000\" fill-rule=\"evenodd\" fill-opacity=\"1\" /><path clip-path=\"url(#clip550)\" d=\"M 0 0 M74.9365 1313.97 Q71.3254 1313.97 69.4967 1317.54 Q67.6912 1321.08 67.6912 1328.21 Q67.6912 1335.31 69.4967 1338.88 Q71.3254 1342.42 74.9365 1342.42 Q78.5707 1342.42 80.3763 1338.88 Q82.205 1335.31 82.205 1328.21 Q82.205 1321.08 80.3763 1317.54 Q78.5707 1313.97 74.9365 1313.97 M74.9365 1310.27 Q80.7467 1310.27 83.8022 1314.87 Q86.8809 1319.46 86.8809 1328.21 Q86.8809 1336.93 83.8022 1341.54 Q80.7467 1346.12 74.9365 1346.12 Q69.1264 1346.12 66.0477 1341.54 Q62.9921 1336.93 62.9921 1328.21 Q62.9921 1319.46 66.0477 1314.87 Q69.1264 1310.27 74.9365 1310.27 Z\" fill=\"#000000\" fill-rule=\"evenodd\" fill-opacity=\"1\" /><path clip-path=\"url(#clip550)\" d=\"M 0 0 M91.9503 1339.57 L96.8345 1339.57 L96.8345 1345.45 L91.9503 1345.45 L91.9503 1339.57 Z\" fill=\"#000000\" fill-rule=\"evenodd\" fill-opacity=\"1\" /><path clip-path=\"url(#clip550)\" d=\"M 0 0 M112.483 1326.31 Q109.334 1326.31 107.483 1328.46 Q105.654 1330.61 105.654 1334.36 Q105.654 1338.09 107.483 1340.27 Q109.334 1342.42 112.483 1342.42 Q115.631 1342.42 117.459 1340.27 Q119.311 1338.09 119.311 1334.36 Q119.311 1330.61 117.459 1328.46 Q115.631 1326.31 112.483 1326.31 M121.765 1311.66 L121.765 1315.92 Q120.006 1315.08 118.2 1314.64 Q116.418 1314.2 114.659 1314.2 Q110.029 1314.2 107.575 1317.33 Q105.145 1320.45 104.797 1326.77 Q106.163 1324.76 108.223 1323.69 Q110.284 1322.6 112.76 1322.6 Q117.969 1322.6 120.978 1325.78 Q124.01 1328.92 124.01 1334.36 Q124.01 1339.69 120.862 1342.91 Q117.714 1346.12 112.483 1346.12 Q106.487 1346.12 103.316 1341.54 Q100.145 1336.93 100.145 1328.21 Q100.145 1320.01 104.034 1315.15 Q107.922 1310.27 114.473 1310.27 Q116.233 1310.27 118.015 1310.61 Q119.821 1310.96 121.765 1311.66 Z\" fill=\"#000000\" fill-rule=\"evenodd\" fill-opacity=\"1\" /><path clip-path=\"url(#clip550)\" d=\"M 0 0 M76.0013 967.869 Q72.3902 967.869 70.5615 971.434 Q68.756 974.976 68.756 982.106 Q68.756 989.212 70.5615 992.777 Q72.3902 996.318 76.0013 996.318 Q79.6356 996.318 81.4411 992.777 Q83.2698 989.212 83.2698 982.106 Q83.2698 974.976 81.4411 971.434 Q79.6356 967.869 76.0013 967.869 M76.0013 964.166 Q81.8115 964.166 84.867 968.772 Q87.9457 973.356 87.9457 982.106 Q87.9457 990.832 84.867 995.439 Q81.8115 1000.02 76.0013 1000.02 Q70.1912 1000.02 67.1125 995.439 Q64.0569 990.832 64.0569 982.106 Q64.0569 973.356 67.1125 968.772 Q70.1912 964.166 76.0013 964.166 Z\" fill=\"#000000\" fill-rule=\"evenodd\" fill-opacity=\"1\" /><path clip-path=\"url(#clip550)\" d=\"M 0 0 M93.0151 993.471 L97.8993 993.471 L97.8993 999.351 L93.0151 999.351 L93.0151 993.471 Z\" fill=\"#000000\" fill-rule=\"evenodd\" fill-opacity=\"1\" /><path clip-path=\"url(#clip550)\" d=\"M 0 0 M101.788 964.791 L124.01 964.791 L124.01 966.782 L111.464 999.351 L106.58 999.351 L118.385 968.726 L101.788 968.726 L101.788 964.791 Z\" fill=\"#000000\" fill-rule=\"evenodd\" fill-opacity=\"1\" /><path clip-path=\"url(#clip550)\" d=\"M 0 0 M75.1911 621.768 Q71.58 621.768 69.7513 625.333 Q67.9458 628.875 67.9458 636.004 Q67.9458 643.111 69.7513 646.676 Q71.58 650.217 75.1911 650.217 Q78.8254 650.217 80.6309 646.676 Q82.4596 643.111 82.4596 636.004 Q82.4596 628.875 80.6309 625.333 Q78.8254 621.768 75.1911 621.768 M75.1911 618.065 Q81.0013 618.065 84.0568 622.671 Q87.1355 627.254 87.1355 636.004 Q87.1355 644.731 84.0568 649.338 Q81.0013 653.921 75.1911 653.921 Q69.381 653.921 66.3023 649.338 Q63.2468 644.731 63.2468 636.004 Q63.2468 627.254 66.3023 622.671 Q69.381 618.065 75.1911 618.065 Z\" fill=\"#000000\" fill-rule=\"evenodd\" fill-opacity=\"1\" /><path clip-path=\"url(#clip550)\" d=\"M 0 0 M92.2049 647.37 L97.0892 647.37 L97.0892 653.25 L92.2049 653.25 L92.2049 647.37 Z\" fill=\"#000000\" fill-rule=\"evenodd\" fill-opacity=\"1\" /><path clip-path=\"url(#clip550)\" d=\"M 0 0 M112.159 636.838 Q108.825 636.838 106.904 638.62 Q105.006 640.403 105.006 643.528 Q105.006 646.653 106.904 648.435 Q108.825 650.217 112.159 650.217 Q115.492 650.217 117.413 648.435 Q119.334 646.629 119.334 643.528 Q119.334 640.403 117.413 638.62 Q115.515 636.838 112.159 636.838 M107.483 634.847 Q104.473 634.106 102.784 632.046 Q101.117 629.986 101.117 627.023 Q101.117 622.879 104.057 620.472 Q107.02 618.065 112.159 618.065 Q117.321 618.065 120.26 620.472 Q123.2 622.879 123.2 627.023 Q123.2 629.986 121.51 632.046 Q119.844 634.106 116.858 634.847 Q120.237 635.634 122.112 637.926 Q124.01 640.217 124.01 643.528 Q124.01 648.551 120.932 651.236 Q117.876 653.921 112.159 653.921 Q106.441 653.921 103.362 651.236 Q100.307 648.551 100.307 643.528 Q100.307 640.217 102.205 637.926 Q104.103 635.634 107.483 634.847 M105.77 627.463 Q105.77 630.148 107.436 631.653 Q109.126 633.157 112.159 633.157 Q115.168 633.157 116.858 631.653 Q118.571 630.148 118.571 627.463 Q118.571 624.778 116.858 623.273 Q115.168 621.768 112.159 621.768 Q109.126 621.768 107.436 623.273 Q105.77 624.778 105.77 627.463 Z\" fill=\"#000000\" fill-rule=\"evenodd\" fill-opacity=\"1\" /><path clip-path=\"url(#clip550)\" d=\"M 0 0 M75.2837 275.667 Q71.6726 275.667 69.8439 279.232 Q68.0384 282.774 68.0384 289.903 Q68.0384 297.01 69.8439 300.575 Q71.6726 304.116 75.2837 304.116 Q78.918 304.116 80.7235 300.575 Q82.5522 297.01 82.5522 289.903 Q82.5522 282.774 80.7235 279.232 Q78.918 275.667 75.2837 275.667 M75.2837 271.964 Q81.0939 271.964 84.1494 276.57 Q87.2281 281.153 87.2281 289.903 Q87.2281 298.63 84.1494 303.237 Q81.0939 307.82 75.2837 307.82 Q69.4736 307.82 66.3949 303.237 Q63.3393 298.63 63.3393 289.903 Q63.3393 281.153 66.3949 276.57 Q69.4736 271.964 75.2837 271.964 Z\" fill=\"#000000\" fill-rule=\"evenodd\" fill-opacity=\"1\" /><path clip-path=\"url(#clip550)\" d=\"M 0 0 M92.2975 301.269 L97.1818 301.269 L97.1818 307.149 L92.2975 307.149 L92.2975 301.269 Z\" fill=\"#000000\" fill-rule=\"evenodd\" fill-opacity=\"1\" /><path clip-path=\"url(#clip550)\" d=\"M 0 0 M102.39 306.431 L102.39 302.172 Q104.149 303.005 105.955 303.445 Q107.76 303.885 109.497 303.885 Q114.126 303.885 116.557 300.783 Q119.01 297.658 119.358 291.315 Q118.015 293.306 115.955 294.371 Q113.895 295.436 111.395 295.436 Q106.209 295.436 103.177 292.311 Q100.168 289.163 100.168 283.723 Q100.168 278.399 103.316 275.181 Q106.464 271.964 111.696 271.964 Q117.691 271.964 120.839 276.57 Q124.01 281.153 124.01 289.903 Q124.01 298.075 120.121 302.959 Q116.256 307.82 109.705 307.82 Q107.946 307.82 106.14 307.473 Q104.334 307.125 102.39 306.431 M111.696 291.778 Q114.844 291.778 116.672 289.626 Q118.524 287.473 118.524 283.723 Q118.524 279.996 116.672 277.843 Q114.844 275.667 111.696 275.667 Q108.547 275.667 106.696 277.843 Q104.867 279.996 104.867 283.723 Q104.867 287.473 106.696 289.626 Q108.547 291.778 111.696 291.778 Z\" fill=\"#000000\" fill-rule=\"evenodd\" fill-opacity=\"1\" /><polyline clip-path=\"url(#clip552)\" style=\"stroke:#009af9; stroke-width:4; stroke-opacity:1; fill:none\" points=\"\n",
       "  210.409,635.97 217.162,887.68 223.915,809.02 230.668,742.462 237.421,932.628 244.174,866.704 250.927,809.02 257.68,961.712 264.433,1097.44 271.186,1036.72 \n",
       "  277.94,982.071 284.693,1097.44 291.446,1045 298.199,997.119 304.952,953.229 311.705,912.851 318.458,1008.69 325.211,328.324 331.964,1056.24 338.717,1017.87 \n",
       "  345.47,1097.44 352.223,1171.87 358.977,1133.49 365.73,1097.44 372.483,1063.51 379.236,1031.51 385.989,1097.44 392.742,972.717 399.495,1218.88 406.248,298.743 \n",
       "  413.001,289.869 419.754,281.427 426.507,1262.25 433.26,1312.07 440.014,1280.98 446.767,328.324 453.52,244.725 460.273,164.683 467.026,1385.86 473.779,155.666 \n",
       "  480.532,1397.39 487.285,215.219 494.038,1408.04 500.791,1445.72 507.544,136.046 514.297,321.332 521.05,314.59 527.804,550.962 534.557,480.821 541.31,1410.3 \n",
       "  548.063,174.502 554.816,1362.21 561.569,1339.34 568.322,1317.18 575.075,430.472 581.828,263.245 588.581,415.724 595.334,1338.5 602.087,96.4591 608.841,1348.24 \n",
       "  615.594,1377.61 622.347,236.247 629.1,87.9763 635.853,1366.1 642.606,1393.65 649.359,220.648 656.112,1401.04 662.865,393.249 669.618,298.743 676.371,294.25 \n",
       "  683.124,246.606 689.877,285.596 696.631,365.842 703.384,319.058 710.137,314.59 716.89,350.945 723.643,668.165 730.396,1375.91 737.149,1398.97 743.902,332.645 \n",
       "  750.655,559.058 757.408,1427.06 764.161,884.26 770.914,799.716 777.668,422.418 784.421,380.948 791.174,1385.86 797.927,443.295 804.68,296.932 811.433,608.002 \n",
       "  818.186,566.749 824.939,354.977 831.692,520.603 838.445,1355.05 845.198,476.231 851.951,306.35 858.704,335.58 865.458,590.685 872.211,360.371 878.964,229.539 \n",
       "  885.717,982.071 892.47,660.914 899.223,747.216 905.976,341.937 912.729,399.164 919.482,244.725 926.235,391.312 932.988,239.58 939.741,530.38 946.495,292.777 \n",
       "  953.248,434.077 960.001,372.818 966.754,454.408 973.507,562.81 980.26,167.059 987.013,248.336 993.766,328.324 1000.52,270.792 1007.27,322.316 1014.03,426.699 \n",
       "  1020.78,289.869 1027.53,340.066 1034.28,337.064 1041.04,308.084 1047.79,305.366 1054.54,225.776 1061.3,376.394 1068.05,373.236 1074.8,395.204 1081.56,292.359 \n",
       "  1088.31,240.426 1095.06,311.96 1101.82,309.367 1108.57,185.796 1115.32,160.081 1122.07,277.934 1128.83,370.467 1135.58,320.476 1142.33,388.086 1149.09,338.648 \n",
       "  1155.84,289.869 1162.59,333.418 1169.35,353.624 1176.1,441.429 1182.85,303.353 1189.61,1372.83 1196.36,320.929 1203.11,230.348 1209.86,316.155 1216.62,422.65 \n",
       "  1223.37,376.394 1230.12,309.216 1236.88,306.96 1243.63,325.965 1250.38,323.635 1257.14,216.453 1263.89,1382.38 1270.64,275.361 1277.4,273.388 1284.15,312.396 \n",
       "  1290.9,269.51 1297.65,227.125 1304.41,326.088 1311.16,323.879 1317.91,281.912 1324.67,220.648 1331.42,317.399 1338.17,295.735 1344.93,332.645 1351.68,1355.24 \n",
       "  1358.43,270.641 1365.19,307.078 1371.94,229.016 1378.69,284.195 1385.44,282.345 1392.2,280.515 1398.95,278.704 1405.7,332.437 1412.46,275.141 1419.21,328.324 \n",
       "  1425.96,326.3 1432.72,324.297 1439.47,322.316 1446.22,356.22 1452.98,211.371 1459.73,280.994 1466.48,296.932 1473.23,400.551 1479.99,223.445 1486.74,343.784 \n",
       "  1493.49,393.699 1500.25,322.585 1507,1314.46 1513.75,250.655 1520.51,283.082 1527.26,264.544 1534.01,279.788 1540.77,228.005 1547.52,1291.57 1554.27,274.965 \n",
       "  1561.02,273.388 1567.78,206.214 1574.53,253.952 1581.28,284.994 1588.04,331.918 1594.79,1279.88 1601.54,328.324 1608.3,278.704 1615.05,293.044 1621.8,323.056 \n",
       "  1628.56,352.796 1635.31,272.642 1642.06,1284.52 1648.81,362.814 1655.57,484.55 1662.32,282.177 1669.07,250.052 1675.83,446.91 1682.58,232.185 1689.33,397.175 \n",
       "  1696.09,289.869 1702.84,303.353 1709.59,301.803 1716.35,523.078 1723.1,313.534 1729.85,311.96 1736.6,207.743 1743.36,279.646 1750.11,380.029 1756.86,551.979 \n",
       "  1763.62,217.764 1770.37,503.848 1777.12,301.31 1783.88,299.839 1790.63,284.195 1797.38,325.185 1804.14,281.427 1810.89,280.06 1817.64,236.837 1824.39,277.359 \n",
       "  1831.15,331.401 1837.9,233.334 1844.65,424.463 1851.41,299.445 1858.16,270.792 1864.91,255.937 1871.67,295.276 1878.42,186.173 1885.17,238.892 1891.93,291.205 \n",
       "  1898.68,303.18 1905.43,354.845 1912.18,300.437 1918.94,193.803 1925.69,271.515 1932.44,296.399 1939.2,256.039 1945.95,241.907 1952.7,253.709 1959.46,278.289 \n",
       "  1966.21,469.328 1972.96,288.591 1979.72,274.599 1986.47,374.809 1993.22,234.29 1999.98,333.918 2006.73,294.885 2013.48,231.144 2020.23,304.808 2026.99,303.514 \n",
       "  2033.74,351.672 2040.49,264.003 2047.25,348.779 2054,347.348 2060.75,321.554 2067.51,295.941 2074.26,306.811 2081.01,281.427 2087.77,328.324 2094.52,1261.11 \n",
       "  2101.27,337.607 2108.02,276.786 2114.78,311.204 2121.53,416.26 2128.28,332.248 2135.04,330.931 2141.79,282.853 2148.54,852.72 2155.3,605.773 2162.05,325.752 \n",
       "  2168.8,312.942 2175.56,323.214 2182.31,241.735 2189.06,492.046 2195.81,353.624 2202.57,374.975 2209.32,452.74 2216.07,315.798 2222.83,247.168 2229.58,290.989 \n",
       "  2236.33,256.375 2243.09,555.843 2249.84,354.208 2256.59,253.379 2263.35,395.683 2270.1,328.324 2276.85,338.06 2283.6,314.98 2290.36,357.347 \n",
       "  \"/>\n",
       "<polyline clip-path=\"url(#clip552)\" style=\"stroke:#e26f46; stroke-width:4; stroke-opacity:1; fill:none\" points=\"\n",
       "  210.409,1025.33 217.162,1025.33 223.915,679.232 230.668,1025.33 237.421,1025.33 244.174,765.758 250.927,1025.33 257.68,1025.33 264.433,1025.33 271.186,809.02 \n",
       "  277.94,1025.33 284.693,1025.33 291.446,1025.33 298.199,1025.33 304.952,1025.33 311.705,1025.33 318.458,1025.33 325.211,549.444 331.964,938.808 338.717,1025.33 \n",
       "  345.47,1025.33 352.223,1025.33 358.977,1025.33 365.73,1025.33 372.483,1025.33 379.236,1025.33 385.989,1025.33 392.742,1025.33 399.495,1025.33 406.248,462.919 \n",
       "  413.001,419.657 419.754,549.444 426.507,1025.33 433.26,1025.33 440.014,1025.33 446.767,506.182 453.52,549.444 460.273,462.919 467.026,1025.33 473.779,462.919 \n",
       "  480.532,1025.33 487.285,376.394 494.038,1025.33 500.791,1025.33 507.544,246.606 514.297,462.919 521.05,376.394 527.804,549.444 534.557,549.444 541.31,1025.33 \n",
       "  548.063,376.394 554.816,1025.33 561.569,1025.33 568.322,1025.33 575.075,635.97 581.828,462.919 588.581,506.182 595.334,1025.33 602.087,419.657 608.841,1025.33 \n",
       "  615.594,1025.33 622.347,376.394 629.1,376.394 635.853,938.808 642.606,1025.33 649.359,462.919 656.112,1025.33 662.865,506.182 669.618,419.657 676.371,506.182 \n",
       "  683.124,333.131 689.877,376.394 696.631,462.919 703.384,506.182 710.137,419.657 716.89,462.919 723.643,635.97 730.396,1025.33 737.149,1025.33 743.902,333.131 \n",
       "  750.655,592.707 757.408,1025.33 764.161,679.232 770.914,679.232 777.668,462.919 784.421,506.182 791.174,1025.33 797.927,592.707 804.68,462.919 811.433,592.707 \n",
       "  818.186,506.182 824.939,333.131 831.692,549.444 838.445,1025.33 845.198,506.182 851.951,419.657 858.704,419.657 865.458,635.97 872.211,462.919 878.964,419.657 \n",
       "  885.717,852.283 892.47,549.444 899.223,809.02 905.976,462.919 912.729,506.182 919.482,419.657 926.235,376.394 932.988,333.131 939.741,506.182 946.495,419.657 \n",
       "  953.248,506.182 960.001,333.131 966.754,506.182 973.507,506.182 980.26,506.182 987.013,419.657 993.766,462.919 1000.52,333.131 1007.27,419.657 1014.03,549.444 \n",
       "  1020.78,419.657 1027.53,419.657 1034.28,289.869 1041.04,419.657 1047.79,376.394 1054.54,333.131 1061.3,506.182 1068.05,376.394 1074.8,592.707 1081.56,462.919 \n",
       "  1088.31,419.657 1095.06,419.657 1101.82,506.182 1108.57,376.394 1115.32,506.182 1122.07,376.394 1128.83,419.657 1135.58,419.657 1142.33,376.394 1149.09,462.919 \n",
       "  1155.84,376.394 1162.59,419.657 1169.35,419.657 1176.1,462.919 1182.85,419.657 1189.61,1025.33 1196.36,419.657 1203.11,419.657 1209.86,506.182 1216.62,419.657 \n",
       "  1223.37,462.919 1230.12,419.657 1236.88,246.606 1243.63,376.394 1250.38,376.394 1257.14,376.394 1263.89,1025.33 1270.64,203.343 1277.4,376.394 1284.15,419.657 \n",
       "  1290.9,333.131 1297.65,333.131 1304.41,376.394 1311.16,376.394 1317.91,462.919 1324.67,462.919 1331.42,419.657 1338.17,419.657 1344.93,506.182 1351.68,1025.33 \n",
       "  1358.43,376.394 1365.19,462.919 1371.94,419.657 1378.69,419.657 1385.44,462.919 1392.2,506.182 1398.95,376.394 1405.7,333.131 1412.46,419.657 1419.21,506.182 \n",
       "  1425.96,462.919 1432.72,376.394 1439.47,376.394 1446.22,376.394 1452.98,419.657 1459.73,376.394 1466.48,506.182 1473.23,419.657 1479.99,376.394 1486.74,246.606 \n",
       "  1493.49,419.657 1500.25,376.394 1507,1025.33 1513.75,419.657 1520.51,506.182 1527.26,506.182 1534.01,462.919 1540.77,419.657 1547.52,1025.33 1554.27,419.657 \n",
       "  1561.02,376.394 1567.78,419.657 1574.53,419.657 1581.28,376.394 1588.04,333.131 1594.79,1025.33 1601.54,376.394 1608.3,462.919 1615.05,419.657 1621.8,376.394 \n",
       "  1628.56,419.657 1635.31,333.131 1642.06,1025.33 1648.81,462.919 1655.57,506.182 1662.32,419.657 1669.07,376.394 1675.83,506.182 1682.58,376.394 1689.33,376.394 \n",
       "  1696.09,419.657 1702.84,419.657 1709.59,246.606 1716.35,592.707 1723.1,333.131 1729.85,376.394 1736.6,289.869 1743.36,419.657 1750.11,419.657 1756.86,592.707 \n",
       "  1763.62,419.657 1770.37,592.707 1777.12,376.394 1783.88,333.131 1790.63,333.131 1797.38,376.394 1804.14,376.394 1810.89,376.394 1817.64,419.657 1824.39,419.657 \n",
       "  1831.15,419.657 1837.9,376.394 1844.65,376.394 1851.41,419.657 1858.16,419.657 1864.91,376.394 1871.67,462.919 1878.42,376.394 1885.17,333.131 1891.93,376.394 \n",
       "  1898.68,376.394 1905.43,376.394 1912.18,462.919 1918.94,376.394 1925.69,419.657 1932.44,419.657 1939.2,419.657 1945.95,289.869 1952.7,333.131 1959.46,419.657 \n",
       "  1966.21,376.394 1972.96,419.657 1979.72,419.657 1986.47,419.657 1993.22,462.919 1999.98,462.919 2006.73,376.394 2013.48,376.394 2020.23,376.394 2026.99,333.131 \n",
       "  2033.74,376.394 2040.49,462.919 2047.25,376.394 2054,462.919 2060.75,419.657 2067.51,333.131 2074.26,419.657 2081.01,333.131 2087.77,462.919 2094.52,1414.7 \n",
       "  2101.27,333.131 2108.02,419.657 2114.78,376.394 2121.53,419.657 2128.28,376.394 2135.04,376.394 2141.79,419.657 2148.54,1025.33 2155.3,506.182 2162.05,333.131 \n",
       "  2168.8,333.131 2175.56,333.131 2182.31,289.869 2189.06,506.182 2195.81,376.394 2202.57,419.657 2209.32,419.657 2216.07,419.657 2222.83,333.131 2229.58,462.919 \n",
       "  2236.33,376.394 2243.09,462.919 2249.84,376.394 2256.59,376.394 2263.35,549.444 2270.1,549.444 2276.85,462.919 2283.6,419.657 2290.36,462.919 \n",
       "  \"/>\n",
       "<path clip-path=\"url(#clip550)\" d=\"\n",
       "M1983.27 276.658 L2279.26 276.658 L2279.26 95.2176 L1983.27 95.2176  Z\n",
       "  \" fill=\"#ffffff\" fill-rule=\"evenodd\" fill-opacity=\"1\"/>\n",
       "<polyline clip-path=\"url(#clip550)\" style=\"stroke:#000000; stroke-width:4; stroke-opacity:1; fill:none\" points=\"\n",
       "  1983.27,276.658 2279.26,276.658 2279.26,95.2176 1983.27,95.2176 1983.27,276.658 \n",
       "  \"/>\n",
       "<polyline clip-path=\"url(#clip550)\" style=\"stroke:#009af9; stroke-width:4; stroke-opacity:1; fill:none\" points=\"\n",
       "  2007.77,155.698 2154.75,155.698 \n",
       "  \"/>\n",
       "<path clip-path=\"url(#clip550)\" d=\"M 0 0 M2193.09 175.385 Q2191.29 180.015 2189.58 181.427 Q2187.86 182.839 2184.99 182.839 L2181.59 182.839 L2181.59 179.274 L2184.09 179.274 Q2185.85 179.274 2186.82 178.44 Q2187.79 177.607 2188.97 174.505 L2189.74 172.561 L2179.25 147.052 L2183.77 147.052 L2191.87 167.329 L2199.97 147.052 L2204.48 147.052 L2193.09 175.385 Z\" fill=\"#000000\" fill-rule=\"evenodd\" fill-opacity=\"1\" /><path clip-path=\"url(#clip550)\" d=\"M 0 0 M2210.36 169.042 L2218 169.042 L2218 142.677 L2209.69 144.343 L2209.69 140.084 L2217.96 138.418 L2222.63 138.418 L2222.63 169.042 L2230.27 169.042 L2230.27 172.978 L2210.36 172.978 L2210.36 169.042 Z\" fill=\"#000000\" fill-rule=\"evenodd\" fill-opacity=\"1\" /><polyline clip-path=\"url(#clip550)\" style=\"stroke:#e26f46; stroke-width:4; stroke-opacity:1; fill:none\" points=\"\n",
       "  2007.77,216.178 2154.75,216.178 \n",
       "  \"/>\n",
       "<path clip-path=\"url(#clip550)\" d=\"M 0 0 M2193.09 235.865 Q2191.29 240.495 2189.58 241.907 Q2187.86 243.319 2184.99 243.319 L2181.59 243.319 L2181.59 239.754 L2184.09 239.754 Q2185.85 239.754 2186.82 238.92 Q2187.79 238.087 2188.97 234.985 L2189.74 233.041 L2179.25 207.532 L2183.77 207.532 L2191.87 227.809 L2199.97 207.532 L2204.48 207.532 L2193.09 235.865 Z\" fill=\"#000000\" fill-rule=\"evenodd\" fill-opacity=\"1\" /><path clip-path=\"url(#clip550)\" d=\"M 0 0 M2213.58 229.522 L2229.9 229.522 L2229.9 233.458 L2207.96 233.458 L2207.96 229.522 Q2210.62 226.768 2215.2 222.138 Q2219.81 217.485 2220.99 216.143 Q2223.23 213.62 2224.11 211.884 Q2225.02 210.124 2225.02 208.435 Q2225.02 205.68 2223.07 203.944 Q2221.15 202.208 2218.05 202.208 Q2215.85 202.208 2213.4 202.972 Q2210.96 203.735 2208.19 205.286 L2208.19 200.564 Q2211.01 199.43 2213.46 198.851 Q2215.92 198.273 2217.96 198.273 Q2223.33 198.273 2226.52 200.958 Q2229.71 203.643 2229.71 208.134 Q2229.71 210.263 2228.9 212.185 Q2228.12 214.083 2226.01 216.675 Q2225.43 217.347 2222.33 220.564 Q2219.23 223.759 2213.58 229.522 Z\" fill=\"#000000\" fill-rule=\"evenodd\" fill-opacity=\"1\" /></svg>\n"
      ]
     },
     "execution_count": 143,
     "metadata": {},
     "output_type": "execute_result"
    }
   ],
   "source": [
    "plot(data_schedule, training_losses)\n",
    "plot!(data_schedule, valid_losses)"
   ]
  },
  {
   "cell_type": "markdown",
   "metadata": {},
   "source": [
    "### Test Performance"
   ]
  },
  {
   "cell_type": "code",
   "execution_count": 70,
   "metadata": {},
   "outputs": [
    {
     "data": {
      "text/plain": [
       "1000"
      ]
     },
     "execution_count": 70,
     "metadata": {},
     "output_type": "execute_result"
    }
   ],
   "source": [
    "final_model.optimiser.eta = 0.00032\n",
    "final_model.batch_size = 16\n",
    "final_model.lambda = 0.0021544346900318843\n",
    "final_model.epochs = 1000"
   ]
  },
  {
   "cell_type": "code",
   "execution_count": 71,
   "metadata": {},
   "outputs": [
    {
     "data": {
      "text/plain": [
       "\u001b[34mMachine{NeuralNetworkClassifier{CustomNN,…}} @036\u001b[39m trained 0 times.\n",
       "  args: \n",
       "    1:\t\u001b[34mSource @592\u001b[39m ⏎ `Table{AbstractArray{Continuous,1}}`\n",
       "    2:\t\u001b[34mSource @319\u001b[39m ⏎ `AbstractArray{Multiclass{2},1}`\n"
      ]
     },
     "execution_count": 71,
     "metadata": {},
     "output_type": "execute_result"
    }
   ],
   "source": [
    "Final_Net = machine(final_model, X_stand, y)"
   ]
  },
  {
   "cell_type": "code",
   "execution_count": 72,
   "metadata": {
    "scrolled": false
   },
   "outputs": [
    {
     "name": "stderr",
     "output_type": "stream",
     "text": [
      "┌ Info: Training \u001b[34mMachine{NeuralNetworkClassifier{CustomNN,…}} @036\u001b[39m.\n",
      "└ @ MLJBase /home/andrew/.julia/packages/MLJBase/uKzAz/src/machines.jl:319\n",
      "\u001b[33mOptimising neural net:100%[=========================] Time: 0:00:04\u001b[39m\n"
     ]
    },
    {
     "data": {
      "text/plain": [
       "\u001b[34mMachine{NeuralNetworkClassifier{CustomNN,…}} @036\u001b[39m trained 1 time.\n",
       "  args: \n",
       "    1:\t\u001b[34mSource @592\u001b[39m ⏎ `Table{AbstractArray{Continuous,1}}`\n",
       "    2:\t\u001b[34mSource @319\u001b[39m ⏎ `AbstractArray{Multiclass{2},1}`\n"
      ]
     },
     "execution_count": 72,
     "metadata": {},
     "output_type": "execute_result"
    }
   ],
   "source": [
    "fit!(Final_Net, rows=train, force=true, verbosity=1)"
   ]
  },
  {
   "cell_type": "code",
   "execution_count": 73,
   "metadata": {
    "scrolled": true
   },
   "outputs": [
    {
     "name": "stderr",
     "output_type": "stream",
     "text": [
      "┌ Info: Training \u001b[34mMachine{ProbabilisticTunedModel{Grid,…}} @863\u001b[39m.\n",
      "└ @ MLJBase /home/andrew/.julia/packages/MLJBase/uKzAz/src/machines.jl:319\n",
      "┌ Info: Attempting to evaluate 201 models.\n",
      "└ @ MLJTuning /home/andrew/.julia/packages/MLJTuning/Bbgvk/src/tuned_models.jl:494\n",
      "\u001b[33mEvaluating over 201 metamodels: 100%[=========================] Time: 0:00:04\u001b[39m\n"
     ]
    },
    {
     "data": {
      "text/plain": [
       "(parameter_name = \"epochs\",\n",
       " parameter_scale = :none,\n",
       " parameter_values = [0, 5, 10, 15, 20, 25, 30, 35, 40, 45  …  955, 960, 965, 970, 975, 980, 985, 990, 995, 1000],\n",
       " measurements = [0.7132737636566162, 0.5794021487236023, 0.49399223923683167, 0.44282054901123047, 0.41152235865592957, 0.39161020517349243, 0.3784363865852356, 0.3694179356098175, 0.3630272150039673, 0.35831645131111145  …  0.33712613582611084, 0.33711642026901245, 0.33710598945617676, 0.3370960056781769, 0.33708617091178894, 0.3370766043663025, 0.337067574262619, 0.33705905079841614, 0.3370507061481476, 0.3370422124862671],)"
      ]
     },
     "execution_count": 73,
     "metadata": {},
     "output_type": "execute_result"
    }
   ],
   "source": [
    "vals = collect(0:5:max_epochs)\n",
    "r = range(final_model, :epochs, values=vals)\n",
    "# r = range(nn2, :epochs, lower=0, upper=max_epochs)\n",
    "curve = learning_curve(Final_Net, \n",
    "                        range=r, \n",
    "                        resampling=Holdout(fraction_train=0.7), \n",
    "#                         resampling=CV(nfolds=4), \n",
    "                        measure=cross_entropy, \n",
    "                        acceleration=CPUThreads())"
   ]
  },
  {
   "cell_type": "code",
   "execution_count": 74,
   "metadata": {},
   "outputs": [
    {
     "data": {
      "image/svg+xml": [
       "<?xml version=\"1.0\" encoding=\"utf-8\"?>\n",
       "<svg xmlns=\"http://www.w3.org/2000/svg\" xmlns:xlink=\"http://www.w3.org/1999/xlink\" width=\"600\" height=\"400\" viewBox=\"0 0 2400 1600\">\n",
       "<defs>\n",
       "  <clipPath id=\"clip340\">\n",
       "    <rect x=\"0\" y=\"0\" width=\"2400\" height=\"1600\"/>\n",
       "  </clipPath>\n",
       "</defs>\n",
       "<path clip-path=\"url(#clip340)\" d=\"\n",
       "M0 1600 L2400 1600 L2400 0 L0 0  Z\n",
       "  \" fill=\"#ffffff\" fill-rule=\"evenodd\" fill-opacity=\"1\"/>\n",
       "<defs>\n",
       "  <clipPath id=\"clip341\">\n",
       "    <rect x=\"480\" y=\"0\" width=\"1681\" height=\"1600\"/>\n",
       "  </clipPath>\n",
       "</defs>\n",
       "<path clip-path=\"url(#clip340)\" d=\"\n",
       "M211.602 1423.18 L2352.76 1423.18 L2352.76 47.2441 L211.602 47.2441  Z\n",
       "  \" fill=\"#ffffff\" fill-rule=\"evenodd\" fill-opacity=\"1\"/>\n",
       "<defs>\n",
       "  <clipPath id=\"clip342\">\n",
       "    <rect x=\"211\" y=\"47\" width=\"2142\" height=\"1377\"/>\n",
       "  </clipPath>\n",
       "</defs>\n",
       "<polyline clip-path=\"url(#clip342)\" style=\"stroke:#000000; stroke-width:2; stroke-opacity:0.1; fill:none\" points=\"\n",
       "  272.201,1423.18 272.201,47.2441 \n",
       "  \"/>\n",
       "<polyline clip-path=\"url(#clip342)\" style=\"stroke:#000000; stroke-width:2; stroke-opacity:0.1; fill:none\" points=\"\n",
       "  777.19,1423.18 777.19,47.2441 \n",
       "  \"/>\n",
       "<polyline clip-path=\"url(#clip342)\" style=\"stroke:#000000; stroke-width:2; stroke-opacity:0.1; fill:none\" points=\"\n",
       "  1282.18,1423.18 1282.18,47.2441 \n",
       "  \"/>\n",
       "<polyline clip-path=\"url(#clip342)\" style=\"stroke:#000000; stroke-width:2; stroke-opacity:0.1; fill:none\" points=\"\n",
       "  1787.17,1423.18 1787.17,47.2441 \n",
       "  \"/>\n",
       "<polyline clip-path=\"url(#clip342)\" style=\"stroke:#000000; stroke-width:2; stroke-opacity:0.1; fill:none\" points=\"\n",
       "  2292.16,1423.18 2292.16,47.2441 \n",
       "  \"/>\n",
       "<polyline clip-path=\"url(#clip342)\" style=\"stroke:#000000; stroke-width:2; stroke-opacity:0.1; fill:none\" points=\"\n",
       "  211.602,1122.63 2352.76,1122.63 \n",
       "  \"/>\n",
       "<polyline clip-path=\"url(#clip342)\" style=\"stroke:#000000; stroke-width:2; stroke-opacity:0.1; fill:none\" points=\"\n",
       "  211.602,791.789 2352.76,791.789 \n",
       "  \"/>\n",
       "<polyline clip-path=\"url(#clip342)\" style=\"stroke:#000000; stroke-width:2; stroke-opacity:0.1; fill:none\" points=\"\n",
       "  211.602,460.945 2352.76,460.945 \n",
       "  \"/>\n",
       "<polyline clip-path=\"url(#clip342)\" style=\"stroke:#000000; stroke-width:2; stroke-opacity:0.1; fill:none\" points=\"\n",
       "  211.602,130.101 2352.76,130.101 \n",
       "  \"/>\n",
       "<polyline clip-path=\"url(#clip340)\" style=\"stroke:#000000; stroke-width:4; stroke-opacity:1; fill:none\" points=\"\n",
       "  211.602,1423.18 2352.76,1423.18 \n",
       "  \"/>\n",
       "<polyline clip-path=\"url(#clip340)\" style=\"stroke:#000000; stroke-width:4; stroke-opacity:1; fill:none\" points=\"\n",
       "  211.602,1423.18 211.602,47.2441 \n",
       "  \"/>\n",
       "<polyline clip-path=\"url(#clip340)\" style=\"stroke:#000000; stroke-width:4; stroke-opacity:1; fill:none\" points=\"\n",
       "  272.201,1423.18 272.201,1406.67 \n",
       "  \"/>\n",
       "<polyline clip-path=\"url(#clip340)\" style=\"stroke:#000000; stroke-width:4; stroke-opacity:1; fill:none\" points=\"\n",
       "  777.19,1423.18 777.19,1406.67 \n",
       "  \"/>\n",
       "<polyline clip-path=\"url(#clip340)\" style=\"stroke:#000000; stroke-width:4; stroke-opacity:1; fill:none\" points=\"\n",
       "  1282.18,1423.18 1282.18,1406.67 \n",
       "  \"/>\n",
       "<polyline clip-path=\"url(#clip340)\" style=\"stroke:#000000; stroke-width:4; stroke-opacity:1; fill:none\" points=\"\n",
       "  1787.17,1423.18 1787.17,1406.67 \n",
       "  \"/>\n",
       "<polyline clip-path=\"url(#clip340)\" style=\"stroke:#000000; stroke-width:4; stroke-opacity:1; fill:none\" points=\"\n",
       "  2292.16,1423.18 2292.16,1406.67 \n",
       "  \"/>\n",
       "<polyline clip-path=\"url(#clip340)\" style=\"stroke:#000000; stroke-width:4; stroke-opacity:1; fill:none\" points=\"\n",
       "  211.602,1122.63 237.296,1122.63 \n",
       "  \"/>\n",
       "<polyline clip-path=\"url(#clip340)\" style=\"stroke:#000000; stroke-width:4; stroke-opacity:1; fill:none\" points=\"\n",
       "  211.602,791.789 237.296,791.789 \n",
       "  \"/>\n",
       "<polyline clip-path=\"url(#clip340)\" style=\"stroke:#000000; stroke-width:4; stroke-opacity:1; fill:none\" points=\"\n",
       "  211.602,460.945 237.296,460.945 \n",
       "  \"/>\n",
       "<polyline clip-path=\"url(#clip340)\" style=\"stroke:#000000; stroke-width:4; stroke-opacity:1; fill:none\" points=\"\n",
       "  211.602,130.101 237.296,130.101 \n",
       "  \"/>\n",
       "<path clip-path=\"url(#clip340)\" d=\"M 0 0 M272.201 1445.17 Q268.59 1445.17 266.761 1448.74 Q264.956 1452.28 264.956 1459.41 Q264.956 1466.51 266.761 1470.08 Q268.59 1473.62 272.201 1473.62 Q275.835 1473.62 277.641 1470.08 Q279.47 1466.51 279.47 1459.41 Q279.47 1452.28 277.641 1448.74 Q275.835 1445.17 272.201 1445.17 M272.201 1441.47 Q278.011 1441.47 281.067 1446.07 Q284.145 1450.66 284.145 1459.41 Q284.145 1468.13 281.067 1472.74 Q278.011 1477.32 272.201 1477.32 Q266.391 1477.32 263.312 1472.74 Q260.257 1468.13 260.257 1459.41 Q260.257 1450.66 263.312 1446.07 Q266.391 1441.47 272.201 1441.47 Z\" fill=\"#000000\" fill-rule=\"evenodd\" fill-opacity=\"1\" /><path clip-path=\"url(#clip340)\" d=\"M 0 0 M745.327 1472.72 L761.646 1472.72 L761.646 1476.65 L739.702 1476.65 L739.702 1472.72 Q742.364 1469.96 746.947 1465.33 Q751.554 1460.68 752.734 1459.34 Q754.98 1456.81 755.859 1455.08 Q756.762 1453.32 756.762 1451.63 Q756.762 1448.87 754.818 1447.14 Q752.896 1445.4 749.794 1445.4 Q747.595 1445.4 745.142 1446.17 Q742.711 1446.93 739.933 1448.48 L739.933 1443.76 Q742.757 1442.62 745.211 1442.05 Q747.665 1441.47 749.702 1441.47 Q755.072 1441.47 758.267 1444.15 Q761.461 1446.84 761.461 1451.33 Q761.461 1453.46 760.651 1455.38 Q759.864 1457.28 757.757 1459.87 Q757.179 1460.54 754.077 1463.76 Q750.975 1466.95 745.327 1472.72 Z\" fill=\"#000000\" fill-rule=\"evenodd\" fill-opacity=\"1\" /><path clip-path=\"url(#clip340)\" d=\"M 0 0 M766.762 1442.09 L785.118 1442.09 L785.118 1446.03 L771.044 1446.03 L771.044 1454.5 Q772.063 1454.15 773.081 1453.99 Q774.1 1453.8 775.118 1453.8 Q780.905 1453.8 784.285 1456.98 Q787.665 1460.15 787.665 1465.56 Q787.665 1471.14 784.192 1474.24 Q780.72 1477.32 774.401 1477.32 Q772.225 1477.32 769.956 1476.95 Q767.711 1476.58 765.304 1475.84 L765.304 1471.14 Q767.387 1472.28 769.609 1472.83 Q771.831 1473.39 774.308 1473.39 Q778.313 1473.39 780.651 1471.28 Q782.989 1469.18 782.989 1465.56 Q782.989 1461.95 780.651 1459.85 Q778.313 1457.74 774.308 1457.74 Q772.433 1457.74 770.558 1458.16 Q768.706 1458.57 766.762 1459.45 L766.762 1442.09 Z\" fill=\"#000000\" fill-rule=\"evenodd\" fill-opacity=\"1\" /><path clip-path=\"url(#clip340)\" d=\"M 0 0 M802.734 1445.17 Q799.123 1445.17 797.294 1448.74 Q795.489 1452.28 795.489 1459.41 Q795.489 1466.51 797.294 1470.08 Q799.123 1473.62 802.734 1473.62 Q806.368 1473.62 808.174 1470.08 Q810.002 1466.51 810.002 1459.41 Q810.002 1452.28 808.174 1448.74 Q806.368 1445.17 802.734 1445.17 M802.734 1441.47 Q808.544 1441.47 811.6 1446.07 Q814.678 1450.66 814.678 1459.41 Q814.678 1468.13 811.6 1472.74 Q808.544 1477.32 802.734 1477.32 Q796.924 1477.32 793.845 1472.74 Q790.79 1468.13 790.79 1459.41 Q790.79 1450.66 793.845 1446.07 Q796.924 1441.47 802.734 1441.47 Z\" fill=\"#000000\" fill-rule=\"evenodd\" fill-opacity=\"1\" /><path clip-path=\"url(#clip340)\" d=\"M 0 0 M1245.44 1442.09 L1263.8 1442.09 L1263.8 1446.03 L1249.73 1446.03 L1249.73 1454.5 Q1250.74 1454.15 1251.76 1453.99 Q1252.78 1453.8 1253.8 1453.8 Q1259.59 1453.8 1262.97 1456.98 Q1266.35 1460.15 1266.35 1465.56 Q1266.35 1471.14 1262.87 1474.24 Q1259.4 1477.32 1253.08 1477.32 Q1250.91 1477.32 1248.64 1476.95 Q1246.39 1476.58 1243.98 1475.84 L1243.98 1471.14 Q1246.07 1472.28 1248.29 1472.83 Q1250.51 1473.39 1252.99 1473.39 Q1256.99 1473.39 1259.33 1471.28 Q1261.67 1469.18 1261.67 1465.56 Q1261.67 1461.95 1259.33 1459.85 Q1256.99 1457.74 1252.99 1457.74 Q1251.11 1457.74 1249.24 1458.16 Q1247.39 1458.57 1245.44 1459.45 L1245.44 1442.09 Z\" fill=\"#000000\" fill-rule=\"evenodd\" fill-opacity=\"1\" /><path clip-path=\"url(#clip340)\" d=\"M 0 0 M1281.42 1445.17 Q1277.8 1445.17 1275.98 1448.74 Q1274.17 1452.28 1274.17 1459.41 Q1274.17 1466.51 1275.98 1470.08 Q1277.8 1473.62 1281.42 1473.62 Q1285.05 1473.62 1286.86 1470.08 Q1288.68 1466.51 1288.68 1459.41 Q1288.68 1452.28 1286.86 1448.74 Q1285.05 1445.17 1281.42 1445.17 M1281.42 1441.47 Q1287.23 1441.47 1290.28 1446.07 Q1293.36 1450.66 1293.36 1459.41 Q1293.36 1468.13 1290.28 1472.74 Q1287.23 1477.32 1281.42 1477.32 Q1275.61 1477.32 1272.53 1472.74 Q1269.47 1468.13 1269.47 1459.41 Q1269.47 1450.66 1272.53 1446.07 Q1275.61 1441.47 1281.42 1441.47 Z\" fill=\"#000000\" fill-rule=\"evenodd\" fill-opacity=\"1\" /><path clip-path=\"url(#clip340)\" d=\"M 0 0 M1308.43 1445.17 Q1304.82 1445.17 1302.99 1448.74 Q1301.18 1452.28 1301.18 1459.41 Q1301.18 1466.51 1302.99 1470.08 Q1304.82 1473.62 1308.43 1473.62 Q1312.06 1473.62 1313.87 1470.08 Q1315.7 1466.51 1315.7 1459.41 Q1315.7 1452.28 1313.87 1448.74 Q1312.06 1445.17 1308.43 1445.17 M1308.43 1441.47 Q1314.24 1441.47 1317.29 1446.07 Q1320.37 1450.66 1320.37 1459.41 Q1320.37 1468.13 1317.29 1472.74 Q1314.24 1477.32 1308.43 1477.32 Q1302.62 1477.32 1299.54 1472.74 Q1296.48 1468.13 1296.48 1459.41 Q1296.48 1450.66 1299.54 1446.07 Q1302.62 1441.47 1308.43 1441.47 Z\" fill=\"#000000\" fill-rule=\"evenodd\" fill-opacity=\"1\" /><path clip-path=\"url(#clip340)\" d=\"M 0 0 M1749.54 1442.09 L1771.76 1442.09 L1771.76 1444.08 L1759.22 1476.65 L1754.33 1476.65 L1766.14 1446.03 L1749.54 1446.03 L1749.54 1442.09 Z\" fill=\"#000000\" fill-rule=\"evenodd\" fill-opacity=\"1\" /><path clip-path=\"url(#clip340)\" d=\"M 0 0 M1776.88 1442.09 L1795.24 1442.09 L1795.24 1446.03 L1781.16 1446.03 L1781.16 1454.5 Q1782.18 1454.15 1783.2 1453.99 Q1784.22 1453.8 1785.24 1453.8 Q1791.02 1453.8 1794.4 1456.98 Q1797.78 1460.15 1797.78 1465.56 Q1797.78 1471.14 1794.31 1474.24 Q1790.84 1477.32 1784.52 1477.32 Q1782.34 1477.32 1780.07 1476.95 Q1777.83 1476.58 1775.42 1475.84 L1775.42 1471.14 Q1777.5 1472.28 1779.73 1472.83 Q1781.95 1473.39 1784.43 1473.39 Q1788.43 1473.39 1790.77 1471.28 Q1793.11 1469.18 1793.11 1465.56 Q1793.11 1461.95 1790.77 1459.85 Q1788.43 1457.74 1784.43 1457.74 Q1782.55 1457.74 1780.68 1458.16 Q1778.82 1458.57 1776.88 1459.45 L1776.88 1442.09 Z\" fill=\"#000000\" fill-rule=\"evenodd\" fill-opacity=\"1\" /><path clip-path=\"url(#clip340)\" d=\"M 0 0 M1812.85 1445.17 Q1809.24 1445.17 1807.41 1448.74 Q1805.61 1452.28 1805.61 1459.41 Q1805.61 1466.51 1807.41 1470.08 Q1809.24 1473.62 1812.85 1473.62 Q1816.49 1473.62 1818.29 1470.08 Q1820.12 1466.51 1820.12 1459.41 Q1820.12 1452.28 1818.29 1448.74 Q1816.49 1445.17 1812.85 1445.17 M1812.85 1441.47 Q1818.66 1441.47 1821.72 1446.07 Q1824.8 1450.66 1824.8 1459.41 Q1824.8 1468.13 1821.72 1472.74 Q1818.66 1477.32 1812.85 1477.32 Q1807.04 1477.32 1803.96 1472.74 Q1800.91 1468.13 1800.91 1459.41 Q1800.91 1450.66 1803.96 1446.07 Q1807.04 1441.47 1812.85 1441.47 Z\" fill=\"#000000\" fill-rule=\"evenodd\" fill-opacity=\"1\" /><path clip-path=\"url(#clip340)\" d=\"M 0 0 M2242.02 1472.72 L2249.66 1472.72 L2249.66 1446.35 L2241.35 1448.02 L2241.35 1443.76 L2249.61 1442.09 L2254.29 1442.09 L2254.29 1472.72 L2261.93 1472.72 L2261.93 1476.65 L2242.02 1476.65 L2242.02 1472.72 Z\" fill=\"#000000\" fill-rule=\"evenodd\" fill-opacity=\"1\" /><path clip-path=\"url(#clip340)\" d=\"M 0 0 M2277 1445.17 Q2273.38 1445.17 2271.56 1448.74 Q2269.75 1452.28 2269.75 1459.41 Q2269.75 1466.51 2271.56 1470.08 Q2273.38 1473.62 2277 1473.62 Q2280.63 1473.62 2282.44 1470.08 Q2284.26 1466.51 2284.26 1459.41 Q2284.26 1452.28 2282.44 1448.74 Q2280.63 1445.17 2277 1445.17 M2277 1441.47 Q2282.81 1441.47 2285.86 1446.07 Q2288.94 1450.66 2288.94 1459.41 Q2288.94 1468.13 2285.86 1472.74 Q2282.81 1477.32 2277 1477.32 Q2271.19 1477.32 2268.11 1472.74 Q2265.05 1468.13 2265.05 1459.41 Q2265.05 1450.66 2268.11 1446.07 Q2271.19 1441.47 2277 1441.47 Z\" fill=\"#000000\" fill-rule=\"evenodd\" fill-opacity=\"1\" /><path clip-path=\"url(#clip340)\" d=\"M 0 0 M2304.01 1445.17 Q2300.4 1445.17 2298.57 1448.74 Q2296.76 1452.28 2296.76 1459.41 Q2296.76 1466.51 2298.57 1470.08 Q2300.4 1473.62 2304.01 1473.62 Q2307.64 1473.62 2309.45 1470.08 Q2311.28 1466.51 2311.28 1459.41 Q2311.28 1452.28 2309.45 1448.74 Q2307.64 1445.17 2304.01 1445.17 M2304.01 1441.47 Q2309.82 1441.47 2312.87 1446.07 Q2315.95 1450.66 2315.95 1459.41 Q2315.95 1468.13 2312.87 1472.74 Q2309.82 1477.32 2304.01 1477.32 Q2298.2 1477.32 2295.12 1472.74 Q2292.06 1468.13 2292.06 1459.41 Q2292.06 1450.66 2295.12 1446.07 Q2298.2 1441.47 2304.01 1441.47 Z\" fill=\"#000000\" fill-rule=\"evenodd\" fill-opacity=\"1\" /><path clip-path=\"url(#clip340)\" d=\"M 0 0 M2331.02 1445.17 Q2327.41 1445.17 2325.58 1448.74 Q2323.78 1452.28 2323.78 1459.41 Q2323.78 1466.51 2325.58 1470.08 Q2327.41 1473.62 2331.02 1473.62 Q2334.66 1473.62 2336.46 1470.08 Q2338.29 1466.51 2338.29 1459.41 Q2338.29 1452.28 2336.46 1448.74 Q2334.66 1445.17 2331.02 1445.17 M2331.02 1441.47 Q2336.83 1441.47 2339.89 1446.07 Q2342.97 1450.66 2342.97 1459.41 Q2342.97 1468.13 2339.89 1472.74 Q2336.83 1477.32 2331.02 1477.32 Q2325.21 1477.32 2322.13 1472.74 Q2319.08 1468.13 2319.08 1459.41 Q2319.08 1450.66 2322.13 1446.07 Q2325.21 1441.47 2331.02 1441.47 Z\" fill=\"#000000\" fill-rule=\"evenodd\" fill-opacity=\"1\" /><path clip-path=\"url(#clip340)\" d=\"M 0 0 M138.205 1108.43 Q134.593 1108.43 132.765 1112 Q130.959 1115.54 130.959 1122.67 Q130.959 1129.77 132.765 1133.34 Q134.593 1136.88 138.205 1136.88 Q141.839 1136.88 143.644 1133.34 Q145.473 1129.77 145.473 1122.67 Q145.473 1115.54 143.644 1112 Q141.839 1108.43 138.205 1108.43 M138.205 1104.73 Q144.015 1104.73 147.07 1109.34 Q150.149 1113.92 150.149 1122.67 Q150.149 1131.4 147.07 1136 Q144.015 1140.58 138.205 1140.58 Q132.394 1140.58 129.316 1136 Q126.26 1131.4 126.26 1122.67 Q126.26 1113.92 129.316 1109.34 Q132.394 1104.73 138.205 1104.73 Z\" fill=\"#000000\" fill-rule=\"evenodd\" fill-opacity=\"1\" /><path clip-path=\"url(#clip340)\" d=\"M 0 0 M155.218 1134.03 L160.103 1134.03 L160.103 1139.91 L155.218 1139.91 L155.218 1134.03 Z\" fill=\"#000000\" fill-rule=\"evenodd\" fill-opacity=\"1\" /><path clip-path=\"url(#clip340)\" d=\"M 0 0 M178.019 1109.43 L166.214 1127.88 L178.019 1127.88 L178.019 1109.43 M176.792 1105.35 L182.672 1105.35 L182.672 1127.88 L187.602 1127.88 L187.602 1131.77 L182.672 1131.77 L182.672 1139.91 L178.019 1139.91 L178.019 1131.77 L162.417 1131.77 L162.417 1127.25 L176.792 1105.35 Z\" fill=\"#000000\" fill-rule=\"evenodd\" fill-opacity=\"1\" /><path clip-path=\"url(#clip340)\" d=\"M 0 0 M139.686 777.588 Q136.075 777.588 134.246 781.153 Q132.441 784.695 132.441 791.824 Q132.441 798.931 134.246 802.495 Q136.075 806.037 139.686 806.037 Q143.32 806.037 145.126 802.495 Q146.954 798.931 146.954 791.824 Q146.954 784.695 145.126 781.153 Q143.32 777.588 139.686 777.588 M139.686 773.884 Q145.496 773.884 148.552 778.491 Q151.63 783.074 151.63 791.824 Q151.63 800.551 148.552 805.157 Q145.496 809.741 139.686 809.741 Q133.876 809.741 130.797 805.157 Q127.742 800.551 127.742 791.824 Q127.742 783.074 130.797 778.491 Q133.876 773.884 139.686 773.884 Z\" fill=\"#000000\" fill-rule=\"evenodd\" fill-opacity=\"1\" /><path clip-path=\"url(#clip340)\" d=\"M 0 0 M156.7 803.19 L161.584 803.19 L161.584 809.069 L156.7 809.069 L156.7 803.19 Z\" fill=\"#000000\" fill-rule=\"evenodd\" fill-opacity=\"1\" /><path clip-path=\"url(#clip340)\" d=\"M 0 0 M166.7 774.509 L185.056 774.509 L185.056 778.445 L170.982 778.445 L170.982 786.917 Q172.001 786.57 173.019 786.408 Q174.038 786.222 175.056 786.222 Q180.843 786.222 184.223 789.394 Q187.602 792.565 187.602 797.982 Q187.602 803.56 184.13 806.662 Q180.658 809.741 174.339 809.741 Q172.163 809.741 169.894 809.37 Q167.649 809 165.241 808.259 L165.241 803.56 Q167.325 804.694 169.547 805.25 Q171.769 805.806 174.246 805.806 Q178.251 805.806 180.589 803.699 Q182.927 801.593 182.927 797.982 Q182.927 794.37 180.589 792.264 Q178.251 790.158 174.246 790.158 Q172.371 790.158 170.496 790.574 Q168.644 790.991 166.7 791.87 L166.7 774.509 Z\" fill=\"#000000\" fill-rule=\"evenodd\" fill-opacity=\"1\" /><path clip-path=\"url(#clip340)\" d=\"M 0 0 M138.529 446.744 Q134.918 446.744 133.089 450.309 Q131.283 453.85 131.283 460.98 Q131.283 468.086 133.089 471.651 Q134.918 475.193 138.529 475.193 Q142.163 475.193 143.968 471.651 Q145.797 468.086 145.797 460.98 Q145.797 453.85 143.968 450.309 Q142.163 446.744 138.529 446.744 M138.529 443.04 Q144.339 443.04 147.394 447.647 Q150.473 452.23 150.473 460.98 Q150.473 469.707 147.394 474.313 Q144.339 478.897 138.529 478.897 Q132.718 478.897 129.64 474.313 Q126.584 469.707 126.584 460.98 Q126.584 452.23 129.64 447.647 Q132.718 443.04 138.529 443.04 Z\" fill=\"#000000\" fill-rule=\"evenodd\" fill-opacity=\"1\" /><path clip-path=\"url(#clip340)\" d=\"M 0 0 M155.542 472.346 L160.427 472.346 L160.427 478.225 L155.542 478.225 L155.542 472.346 Z\" fill=\"#000000\" fill-rule=\"evenodd\" fill-opacity=\"1\" /><path clip-path=\"url(#clip340)\" d=\"M 0 0 M176.075 459.082 Q172.927 459.082 171.075 461.235 Q169.246 463.387 169.246 467.137 Q169.246 470.864 171.075 473.04 Q172.927 475.193 176.075 475.193 Q179.223 475.193 181.052 473.04 Q182.903 470.864 182.903 467.137 Q182.903 463.387 181.052 461.235 Q179.223 459.082 176.075 459.082 M185.357 444.429 L185.357 448.688 Q183.598 447.855 181.792 447.415 Q180.01 446.975 178.251 446.975 Q173.621 446.975 171.167 450.1 Q168.737 453.225 168.39 459.545 Q169.755 457.531 171.815 456.466 Q173.876 455.378 176.352 455.378 Q181.561 455.378 184.57 458.549 Q187.602 461.698 187.602 467.137 Q187.602 472.461 184.454 475.679 Q181.306 478.897 176.075 478.897 Q170.079 478.897 166.908 474.313 Q163.737 469.707 163.737 460.98 Q163.737 452.786 167.626 447.925 Q171.515 443.04 178.065 443.04 Q179.825 443.04 181.607 443.388 Q183.413 443.735 185.357 444.429 Z\" fill=\"#000000\" fill-rule=\"evenodd\" fill-opacity=\"1\" /><path clip-path=\"url(#clip340)\" d=\"M 0 0 M139.593 115.9 Q135.982 115.9 134.154 119.465 Q132.348 123.006 132.348 130.136 Q132.348 137.242 134.154 140.807 Q135.982 144.349 139.593 144.349 Q143.228 144.349 145.033 140.807 Q146.862 137.242 146.862 130.136 Q146.862 123.006 145.033 119.465 Q143.228 115.9 139.593 115.9 M139.593 112.196 Q145.404 112.196 148.459 116.803 Q151.538 121.386 151.538 130.136 Q151.538 138.863 148.459 143.469 Q145.404 148.052 139.593 148.052 Q133.783 148.052 130.705 143.469 Q127.649 138.863 127.649 130.136 Q127.649 121.386 130.705 116.803 Q133.783 112.196 139.593 112.196 Z\" fill=\"#000000\" fill-rule=\"evenodd\" fill-opacity=\"1\" /><path clip-path=\"url(#clip340)\" d=\"M 0 0 M156.607 141.502 L161.491 141.502 L161.491 147.381 L156.607 147.381 L156.607 141.502 Z\" fill=\"#000000\" fill-rule=\"evenodd\" fill-opacity=\"1\" /><path clip-path=\"url(#clip340)\" d=\"M 0 0 M165.38 112.821 L187.602 112.821 L187.602 114.812 L175.056 147.381 L170.172 147.381 L181.977 116.756 L165.38 116.756 L165.38 112.821 Z\" fill=\"#000000\" fill-rule=\"evenodd\" fill-opacity=\"1\" /><path clip-path=\"url(#clip340)\" d=\"M 0 0 M1212.46 1536.76 L1212.46 1539.62 L1185.53 1539.62 Q1185.91 1545.67 1189.16 1548.85 Q1192.44 1552 1198.26 1552 Q1201.64 1552 1204.79 1551.17 Q1207.97 1550.35 1211.09 1548.69 L1211.09 1554.23 Q1207.94 1555.57 1204.63 1556.27 Q1201.32 1556.97 1197.91 1556.97 Q1189.38 1556.97 1184.39 1552 Q1179.42 1547.04 1179.42 1538.57 Q1179.42 1529.82 1184.13 1524.69 Q1188.87 1519.54 1196.89 1519.54 Q1204.09 1519.54 1208.26 1524.18 Q1212.46 1528.8 1212.46 1536.76 M1206.6 1535.04 Q1206.54 1530.23 1203.9 1527.37 Q1201.29 1524.5 1196.96 1524.5 Q1192.06 1524.5 1189.1 1527.27 Q1186.17 1530.04 1185.72 1535.07 L1206.6 1535.04 Z\" fill=\"#000000\" fill-rule=\"evenodd\" fill-opacity=\"1\" /><path clip-path=\"url(#clip340)\" d=\"M 0 0 M1224.27 1550.7 L1224.27 1569.6 L1218.38 1569.6 L1218.38 1520.4 L1224.27 1520.4 L1224.27 1525.81 Q1226.11 1522.62 1228.91 1521.1 Q1231.75 1519.54 1235.66 1519.54 Q1242.15 1519.54 1246.2 1524.69 Q1250.27 1529.85 1250.27 1538.25 Q1250.27 1546.65 1246.2 1551.81 Q1242.15 1556.97 1235.66 1556.97 Q1231.75 1556.97 1228.91 1555.44 Q1226.11 1553.88 1224.27 1550.7 M1244.19 1538.25 Q1244.19 1531.79 1241.52 1528.13 Q1238.88 1524.44 1234.23 1524.44 Q1229.58 1524.44 1226.91 1528.13 Q1224.27 1531.79 1224.27 1538.25 Q1224.27 1544.71 1226.91 1548.4 Q1229.58 1552.07 1234.23 1552.07 Q1238.88 1552.07 1241.52 1548.4 Q1244.19 1544.71 1244.19 1538.25 Z\" fill=\"#000000\" fill-rule=\"evenodd\" fill-opacity=\"1\" /><path clip-path=\"url(#clip340)\" d=\"M 0 0 M1270.23 1524.5 Q1265.52 1524.5 1262.78 1528.19 Q1260.04 1531.85 1260.04 1538.25 Q1260.04 1544.65 1262.75 1548.34 Q1265.49 1552 1270.23 1552 Q1274.91 1552 1277.64 1548.31 Q1280.38 1544.62 1280.38 1538.25 Q1280.38 1531.92 1277.64 1528.23 Q1274.91 1524.5 1270.23 1524.5 M1270.23 1519.54 Q1277.87 1519.54 1282.23 1524.5 Q1286.59 1529.47 1286.59 1538.25 Q1286.59 1547 1282.23 1552 Q1277.87 1556.97 1270.23 1556.97 Q1262.56 1556.97 1258.2 1552 Q1253.87 1547 1253.87 1538.25 Q1253.87 1529.47 1258.2 1524.5 Q1262.56 1519.54 1270.23 1519.54 Z\" fill=\"#000000\" fill-rule=\"evenodd\" fill-opacity=\"1\" /><path clip-path=\"url(#clip340)\" d=\"M 0 0 M1318.38 1521.76 L1318.38 1527.24 Q1315.9 1525.87 1313.39 1525.2 Q1310.9 1524.5 1308.36 1524.5 Q1302.66 1524.5 1299.51 1528.13 Q1296.36 1531.73 1296.36 1538.25 Q1296.36 1544.78 1299.51 1548.4 Q1302.66 1552 1308.36 1552 Q1310.9 1552 1313.39 1551.33 Q1315.9 1550.63 1318.38 1549.26 L1318.38 1554.68 Q1315.93 1555.82 1313.29 1556.39 Q1310.68 1556.97 1307.72 1556.97 Q1299.67 1556.97 1294.93 1551.91 Q1290.18 1546.85 1290.18 1538.25 Q1290.18 1529.53 1294.96 1524.53 Q1299.76 1519.54 1308.1 1519.54 Q1310.81 1519.54 1313.39 1520.11 Q1315.97 1520.65 1318.38 1521.76 Z\" fill=\"#000000\" fill-rule=\"evenodd\" fill-opacity=\"1\" /><path clip-path=\"url(#clip340)\" d=\"M 0 0 M1354.16 1534.53 L1354.16 1556.04 L1348.3 1556.04 L1348.3 1534.72 Q1348.3 1529.66 1346.33 1527.14 Q1344.36 1524.63 1340.41 1524.63 Q1335.67 1524.63 1332.93 1527.65 Q1330.19 1530.68 1330.19 1535.9 L1330.19 1556.04 L1324.3 1556.04 L1324.3 1506.52 L1330.19 1506.52 L1330.19 1525.93 Q1332.29 1522.72 1335.13 1521.13 Q1337.99 1519.54 1341.71 1519.54 Q1347.86 1519.54 1351.01 1523.36 Q1354.16 1527.14 1354.16 1534.53 Z\" fill=\"#000000\" fill-rule=\"evenodd\" fill-opacity=\"1\" /><path clip-path=\"url(#clip340)\" d=\"M 0 0 M1383.03 1521.45 L1383.03 1526.98 Q1380.55 1525.71 1377.87 1525.07 Q1375.2 1524.44 1372.33 1524.44 Q1367.97 1524.44 1365.78 1525.77 Q1363.61 1527.11 1363.61 1529.79 Q1363.61 1531.82 1365.17 1533 Q1366.73 1534.15 1371.44 1535.2 L1373.45 1535.64 Q1379.69 1536.98 1382.3 1539.43 Q1384.94 1541.85 1384.94 1546.21 Q1384.94 1551.17 1380.99 1554.07 Q1377.08 1556.97 1370.2 1556.97 Q1367.34 1556.97 1364.22 1556.39 Q1361.13 1555.85 1357.69 1554.74 L1357.69 1548.69 Q1360.94 1550.38 1364.09 1551.24 Q1367.24 1552.07 1370.33 1552.07 Q1374.47 1552.07 1376.69 1550.66 Q1378.92 1549.23 1378.92 1546.65 Q1378.92 1544.27 1377.3 1542.99 Q1375.71 1541.72 1370.26 1540.54 L1368.23 1540.07 Q1362.78 1538.92 1360.37 1536.56 Q1357.95 1534.18 1357.95 1530.04 Q1357.95 1525.01 1361.51 1522.27 Q1365.08 1519.54 1371.63 1519.54 Q1374.88 1519.54 1377.74 1520.01 Q1380.61 1520.49 1383.03 1521.45 Z\" fill=\"#000000\" fill-rule=\"evenodd\" fill-opacity=\"1\" /><path clip-path=\"url(#clip340)\" d=\"M 0 0 M44.1444 904.492 L50.9239 904.492 Q47.9002 907.739 46.4043 911.431 Q44.9083 915.091 44.9083 919.229 Q44.9083 927.377 49.9054 931.705 Q54.8707 936.034 64.2919 936.034 Q73.6813 936.034 78.6784 931.705 Q83.6436 927.377 83.6436 919.229 Q83.6436 915.091 82.1477 911.431 Q80.6518 907.739 77.6281 904.492 L84.3439 904.492 Q86.6355 907.866 87.7814 911.653 Q88.9272 915.409 88.9272 919.611 Q88.9272 930.4 82.3387 936.607 Q75.7183 942.814 64.2919 942.814 Q52.8336 942.814 46.2451 936.607 Q39.6248 930.4 39.6248 919.611 Q39.6248 915.346 40.7706 911.59 Q41.8846 907.802 44.1444 904.492 Z\" fill=\"#000000\" fill-rule=\"evenodd\" fill-opacity=\"1\" /><path clip-path=\"url(#clip340)\" d=\"M 0 0 M57.8307 877.692 Q57.2578 878.679 57.0032 879.857 Q56.7167 881.003 56.7167 882.403 Q56.7167 887.368 59.9632 890.042 Q63.1779 892.684 69.2253 892.684 L88.0042 892.684 L88.0042 898.572 L52.3562 898.572 L52.3562 892.684 L57.8944 892.684 Q54.6479 890.838 53.0883 887.878 Q51.4968 884.917 51.4968 880.684 Q51.4968 880.08 51.5923 879.347 Q51.656 878.615 51.8151 877.724 L57.8307 877.692 Z\" fill=\"#000000\" fill-rule=\"evenodd\" fill-opacity=\"1\" /><path clip-path=\"url(#clip340)\" d=\"M 0 0 M56.4621 859.168 Q56.4621 863.879 60.1542 866.616 Q63.8145 869.353 70.212 869.353 Q76.6095 869.353 80.3017 866.648 Q83.9619 863.911 83.9619 859.168 Q83.9619 854.489 80.2698 851.752 Q76.5777 849.015 70.212 849.015 Q63.8781 849.015 60.186 851.752 Q56.4621 854.489 56.4621 859.168 M51.4968 859.168 Q51.4968 851.529 56.4621 847.169 Q61.4273 842.808 70.212 842.808 Q78.9649 842.808 83.9619 847.169 Q88.9272 851.529 88.9272 859.168 Q88.9272 866.839 83.9619 871.199 Q78.9649 875.528 70.212 875.528 Q61.4273 875.528 56.4621 871.199 Q51.4968 866.839 51.4968 859.168 Z\" fill=\"#000000\" fill-rule=\"evenodd\" fill-opacity=\"1\" /><path clip-path=\"url(#clip340)\" d=\"M 0 0 M53.4065 813.94 L58.9447 813.94 Q57.6716 816.422 57.035 819.096 Q56.3984 821.77 56.3984 824.634 Q56.3984 828.995 57.7352 831.191 Q59.072 833.355 61.7456 833.355 Q63.7826 833.355 64.9603 831.796 Q66.1061 830.236 67.1565 825.525 L67.6021 823.52 Q68.9389 817.282 71.3897 814.672 Q73.8086 812.03 78.1691 812.03 Q83.1344 812.03 86.0308 815.977 Q88.9272 819.892 88.9272 826.767 Q88.9272 829.631 88.3543 832.751 Q87.8132 835.838 86.6992 839.275 L80.6518 839.275 Q82.3387 836.029 83.198 832.878 Q84.0256 829.727 84.0256 826.639 Q84.0256 822.502 82.6251 820.274 Q81.1929 818.046 78.6147 818.046 Q76.2276 818.046 74.9545 819.669 Q73.6813 821.26 72.5037 826.703 L72.0262 828.74 Q70.8804 834.183 68.5251 836.602 Q66.138 839.021 62.0002 839.021 Q56.9713 839.021 54.2341 835.456 Q51.4968 831.891 51.4968 825.334 Q51.4968 822.088 51.9743 819.223 Q52.4517 816.359 53.4065 813.94 Z\" fill=\"#000000\" fill-rule=\"evenodd\" fill-opacity=\"1\" /><path clip-path=\"url(#clip340)\" d=\"M 0 0 M53.4065 783.162 L58.9447 783.162 Q57.6716 785.644 57.035 788.318 Q56.3984 790.991 56.3984 793.856 Q56.3984 798.217 57.7352 800.413 Q59.072 802.577 61.7456 802.577 Q63.7826 802.577 64.9603 801.017 Q66.1061 799.458 67.1565 794.747 L67.6021 792.742 Q68.9389 786.504 71.3897 783.894 Q73.8086 781.252 78.1691 781.252 Q83.1344 781.252 86.0308 785.199 Q88.9272 789.114 88.9272 795.989 Q88.9272 798.853 88.3543 801.972 Q87.8132 805.06 86.6992 808.497 L80.6518 808.497 Q82.3387 805.251 83.198 802.1 Q84.0256 798.949 84.0256 795.861 Q84.0256 791.724 82.6251 789.496 Q81.1929 787.268 78.6147 787.268 Q76.2276 787.268 74.9545 788.891 Q73.6813 790.482 72.5037 795.925 L72.0262 797.962 Q70.8804 803.405 68.5251 805.824 Q66.138 808.243 62.0002 808.243 Q56.9713 808.243 54.2341 804.678 Q51.4968 801.113 51.4968 794.556 Q51.4968 791.31 51.9743 788.445 Q52.4517 785.581 53.4065 783.162 Z\" fill=\"#000000\" fill-rule=\"evenodd\" fill-opacity=\"1\" /><path clip-path=\"url(#clip340)\" d=\"M 0 0 M40.4842 754.134 L40.4842 724.088 L45.895 724.088 L45.895 747.705 L59.9632 747.705 L59.9632 725.075 L65.3741 725.075 L65.3741 747.705 L82.5933 747.705 L82.5933 723.515 L88.0042 723.515 L88.0042 754.134 L40.4842 754.134 Z\" fill=\"#000000\" fill-rule=\"evenodd\" fill-opacity=\"1\" /><path clip-path=\"url(#clip340)\" d=\"M 0 0 M66.4881 687.74 L88.0042 687.74 L88.0042 693.596 L66.679 693.596 Q61.6183 693.596 59.1038 695.57 Q56.5894 697.543 56.5894 701.49 Q56.5894 706.232 59.6131 708.969 Q62.6368 711.707 67.8567 711.707 L88.0042 711.707 L88.0042 717.595 L52.3562 717.595 L52.3562 711.707 L57.8944 711.707 Q54.6797 709.606 53.0883 706.773 Q51.4968 703.909 51.4968 700.185 Q51.4968 694.042 55.3163 690.891 Q59.1038 687.74 66.4881 687.74 Z\" fill=\"#000000\" fill-rule=\"evenodd\" fill-opacity=\"1\" /><path clip-path=\"url(#clip340)\" d=\"M 0 0 M42.2347 675.804 L52.3562 675.804 L52.3562 663.741 L56.9077 663.741 L56.9077 675.804 L76.2594 675.804 Q80.6199 675.804 81.8613 674.626 Q83.1026 673.417 83.1026 669.757 L83.1026 663.741 L88.0042 663.741 L88.0042 669.757 Q88.0042 676.536 85.4897 679.114 Q82.9434 681.692 76.2594 681.692 L56.9077 681.692 L56.9077 685.989 L52.3562 685.989 L52.3562 681.692 L42.2347 681.692 L42.2347 675.804 Z\" fill=\"#000000\" fill-rule=\"evenodd\" fill-opacity=\"1\" /><path clip-path=\"url(#clip340)\" d=\"M 0 0 M57.8307 636.941 Q57.2578 637.928 57.0032 639.106 Q56.7167 640.252 56.7167 641.652 Q56.7167 646.617 59.9632 649.291 Q63.1779 651.933 69.2253 651.933 L88.0042 651.933 L88.0042 657.821 L52.3562 657.821 L52.3562 651.933 L57.8944 651.933 Q54.6479 650.087 53.0883 647.127 Q51.4968 644.166 51.4968 639.933 Q51.4968 639.329 51.5923 638.596 Q51.656 637.864 51.8151 636.973 L57.8307 636.941 Z\" fill=\"#000000\" fill-rule=\"evenodd\" fill-opacity=\"1\" /><path clip-path=\"url(#clip340)\" d=\"M 0 0 M56.4621 618.417 Q56.4621 623.128 60.1542 625.865 Q63.8145 628.602 70.212 628.602 Q76.6095 628.602 80.3017 625.897 Q83.9619 623.16 83.9619 618.417 Q83.9619 613.738 80.2698 611.001 Q76.5777 608.264 70.212 608.264 Q63.8781 608.264 60.186 611.001 Q56.4621 613.738 56.4621 618.417 M51.4968 618.417 Q51.4968 610.778 56.4621 606.418 Q61.4273 602.057 70.212 602.057 Q78.9649 602.057 83.9619 606.418 Q88.9272 610.778 88.9272 618.417 Q88.9272 626.088 83.9619 630.448 Q78.9649 634.777 70.212 634.777 Q61.4273 634.777 56.4621 630.448 Q51.4968 626.088 51.4968 618.417 Z\" fill=\"#000000\" fill-rule=\"evenodd\" fill-opacity=\"1\" /><path clip-path=\"url(#clip340)\" d=\"M 0 0 M82.657 590.249 L101.563 590.249 L101.563 596.137 L52.3562 596.137 L52.3562 590.249 L57.7671 590.249 Q54.5842 588.403 53.0564 585.602 Q51.4968 582.769 51.4968 578.854 Q51.4968 572.361 56.6531 568.319 Q61.8093 564.245 70.212 564.245 Q78.6147 564.245 83.771 568.319 Q88.9272 572.361 88.9272 578.854 Q88.9272 582.769 87.3994 585.602 Q85.8398 588.403 82.657 590.249 M70.212 570.324 Q63.7508 570.324 60.0905 572.998 Q56.3984 575.64 56.3984 580.287 Q56.3984 584.934 60.0905 587.607 Q63.7508 590.249 70.212 590.249 Q76.6732 590.249 80.3653 587.607 Q84.0256 584.934 84.0256 580.287 Q84.0256 575.64 80.3653 572.998 Q76.6732 570.324 70.212 570.324 Z\" fill=\"#000000\" fill-rule=\"evenodd\" fill-opacity=\"1\" /><path clip-path=\"url(#clip340)\" d=\"M 0 0 M91.3143 543.27 Q97.68 545.753 99.6216 548.108 Q101.563 550.463 101.563 554.41 L101.563 559.089 L96.6615 559.089 L96.6615 555.651 Q96.6615 553.232 95.5157 551.896 Q94.3699 550.559 90.1048 548.935 L87.4312 547.885 L52.3562 562.303 L52.3562 556.097 L80.238 544.957 L52.3562 533.817 L52.3562 527.61 L91.3143 543.27 Z\" fill=\"#000000\" fill-rule=\"evenodd\" fill-opacity=\"1\" /><polyline clip-path=\"url(#clip342)\" style=\"stroke:#009af9; stroke-width:8; stroke-opacity:1; fill:none\" points=\"\n",
       "  272.201,86.1857 282.301,529.092 292.401,811.666 302.5,980.964 312.6,1084.51 322.7,1150.39 332.8,1193.98 342.9,1223.81 352.999,1244.96 363.099,1260.54 \n",
       "  373.199,1272.49 383.299,1281.99 393.398,1289.75 403.498,1296.25 413.598,1301.81 423.698,1306.63 433.798,1310.88 443.897,1314.68 453.997,1318.13 464.097,1321.28 \n",
       "  474.197,1324.19 484.296,1326.89 494.396,1329.41 504.496,1331.77 514.596,1333.96 524.696,1336 534.795,1337.89 544.895,1339.63 554.995,1341.21 565.095,1342.66 \n",
       "  575.195,1343.97 585.294,1345.15 595.394,1346.22 605.494,1347.17 615.594,1348.02 625.693,1348.78 635.793,1349.46 645.893,1350.07 655.993,1350.61 666.093,1351.1 \n",
       "  676.192,1351.54 686.292,1351.93 696.392,1352.29 706.492,1352.61 716.591,1352.89 726.691,1353.15 736.791,1353.38 746.891,1353.59 756.991,1353.77 767.09,1353.92 \n",
       "  777.19,1354.05 787.29,1354.16 797.39,1354.25 807.489,1354.32 817.589,1354.36 827.689,1354.38 837.789,1354.38 847.889,1354.36 857.988,1354.32 868.088,1354.26 \n",
       "  878.188,1354.18 888.288,1354.08 898.388,1353.95 908.487,1353.81 918.587,1353.66 928.687,1353.48 938.787,1353.28 948.886,1353.07 958.986,1352.84 969.086,1352.59 \n",
       "  979.186,1352.33 989.286,1352.05 999.385,1351.76 1009.49,1351.45 1019.58,1351.13 1029.68,1350.79 1039.78,1350.44 1049.88,1350.08 1059.98,1349.71 1070.08,1349.33 \n",
       "  1080.18,1348.94 1090.28,1348.54 1100.38,1348.13 1110.48,1347.72 1120.58,1347.29 1130.68,1346.87 1140.78,1346.43 1150.88,1345.99 1160.98,1345.55 1171.08,1345.11 \n",
       "  1181.18,1344.66 1191.28,1344.21 1201.38,1343.76 1211.48,1343.31 1221.58,1342.86 1231.68,1342.41 1241.78,1341.96 1251.88,1341.52 1261.98,1341.07 1272.08,1340.63 \n",
       "  1282.18,1340.2 1292.28,1339.77 1302.38,1339.34 1312.48,1338.92 1322.58,1338.5 1332.68,1338.09 1342.78,1337.69 1352.88,1337.3 1362.98,1336.91 1373.08,1336.53 \n",
       "  1383.18,1336.16 1393.28,1335.79 1403.38,1335.44 1413.48,1335.1 1423.58,1334.76 1433.68,1334.44 1443.78,1334.12 1453.88,1333.82 1463.98,1333.52 1474.07,1333.24 \n",
       "  1484.17,1332.97 1494.27,1332.71 1504.37,1332.46 1514.47,1332.22 1524.57,1331.99 1534.67,1331.77 1544.77,1331.57 1554.87,1331.37 1564.97,1331.19 1575.07,1331.01 \n",
       "  1585.17,1330.85 1595.27,1330.69 1605.37,1330.55 1615.47,1330.41 1625.57,1330.29 1635.67,1330.17 1645.77,1330.07 1655.87,1329.97 1665.97,1329.88 1676.07,1329.8 \n",
       "  1686.17,1329.72 1696.27,1329.66 1706.37,1329.6 1716.47,1329.54 1726.57,1329.5 1736.67,1329.46 1746.77,1329.43 1756.87,1329.4 1766.97,1329.38 1777.07,1329.36 \n",
       "  1787.17,1329.35 1797.27,1329.34 1807.37,1329.34 1817.47,1329.34 1827.57,1329.35 1837.67,1329.36 1847.77,1329.37 1857.87,1329.39 1867.97,1329.41 1878.07,1329.44 \n",
       "  1888.17,1329.46 1898.27,1329.49 1908.37,1329.52 1918.47,1329.55 1928.57,1329.59 1938.66,1329.62 1948.76,1329.66 1958.86,1329.7 1968.96,1329.74 1979.06,1329.78 \n",
       "  1989.16,1329.82 1999.26,1329.86 2009.36,1329.9 2019.46,1329.95 2029.56,1329.99 2039.66,1330.03 2049.76,1330.08 2059.86,1330.12 2069.96,1330.16 2080.06,1330.2 \n",
       "  2090.16,1330.24 2100.26,1330.28 2110.36,1330.32 2120.46,1330.36 2130.56,1330.4 2140.66,1330.44 2150.76,1330.48 2160.86,1330.51 2170.96,1330.55 2181.06,1330.58 \n",
       "  2191.16,1330.62 2201.26,1330.65 2211.36,1330.68 2221.46,1330.71 2231.56,1330.75 2241.66,1330.78 2251.76,1330.81 2261.86,1330.84 2271.96,1330.87 2282.06,1330.9 \n",
       "  2292.16,1330.93 \n",
       "  \"/>\n",
       "<polyline clip-path=\"url(#clip342)\" style=\"stroke:#e26f46; stroke-width:8; stroke-opacity:1; fill:none\" points=\"\n",
       "  274.221,300.134 276.241,370.035 278.261,435.268 280.281,496.551 282.301,554.734 284.321,610.38 286.341,663.482 288.361,713.536 290.381,759.914 292.401,802.224 \n",
       "  294.421,840.414 296.441,874.704 298.461,905.453 300.48,933.067 302.5,957.942 304.52,980.436 306.54,1000.86 308.56,1019.49 310.58,1036.56 312.6,1052.24 \n",
       "  314.62,1066.71 316.64,1080.11 318.66,1092.55 320.68,1104.13 322.7,1114.93 324.72,1125.04 326.74,1134.51 328.76,1143.4 330.78,1151.75 332.8,1159.61 \n",
       "  334.82,1167.02 336.84,1174.01 338.86,1180.61 340.88,1186.85 342.9,1192.75 344.92,1198.34 346.939,1203.64 348.959,1208.67 350.979,1213.44 352.999,1217.98 \n",
       "  355.019,1222.29 357.039,1226.4 359.059,1230.3 361.079,1234.03 363.099,1237.59 365.119,1240.98 367.139,1244.22 369.159,1247.32 371.179,1250.28 373.199,1253.12 \n",
       "  375.219,1255.84 377.239,1258.45 379.259,1260.95 381.279,1263.35 383.299,1265.66 385.319,1267.87 387.339,1270.01 389.359,1272.06 391.379,1274.04 393.398,1275.94 \n",
       "  395.418,1277.78 397.438,1279.55 399.458,1281.26 401.478,1282.91 403.498,1284.51 405.518,1286.05 407.538,1287.54 409.558,1288.99 411.578,1290.39 413.598,1291.74 \n",
       "  415.618,1293.06 417.638,1294.33 419.658,1295.57 421.678,1296.77 423.698,1297.93 425.718,1299.06 427.738,1300.16 429.758,1301.23 431.778,1302.27 433.798,1303.28 \n",
       "  435.818,1304.27 437.838,1305.23 439.857,1306.16 441.877,1307.07 443.897,1307.96 445.917,1308.83 447.937,1309.67 449.957,1310.5 451.977,1311.3 453.997,1312.09 \n",
       "  456.017,1312.86 458.037,1313.61 460.057,1314.34 462.077,1315.06 464.097,1315.76 466.117,1316.45 468.137,1317.12 470.157,1317.78 472.177,1318.42 474.197,1319.05 \n",
       "  476.217,1319.67 478.237,1320.27 480.257,1320.87 482.277,1321.45 484.296,1322.02 486.316,1322.58 488.336,1323.13 490.356,1323.67 492.376,1324.2 494.396,1324.72 \n",
       "  496.416,1325.23 498.436,1325.73 500.456,1326.22 502.476,1326.7 504.496,1327.18 506.516,1327.65 508.536,1328.11 510.556,1328.56 512.576,1329 514.596,1329.44 \n",
       "  516.616,1329.87 518.636,1330.29 520.656,1330.71 522.676,1331.11 524.696,1331.52 526.716,1331.91 528.736,1332.3 530.755,1332.69 532.775,1333.07 534.795,1333.44 \n",
       "  536.815,1333.81 538.835,1334.17 540.855,1334.53 542.875,1334.88 544.895,1335.22 546.915,1335.57 548.935,1335.9 550.955,1336.24 552.975,1336.56 554.995,1336.89 \n",
       "  557.015,1337.2 559.035,1337.52 561.055,1337.83 563.075,1338.14 565.095,1338.44 567.115,1338.74 569.135,1339.03 571.155,1339.32 573.175,1339.61 575.195,1339.89 \n",
       "  577.214,1340.17 579.234,1340.45 581.254,1340.72 583.274,1340.99 585.294,1341.26 587.314,1341.52 589.334,1341.78 591.354,1342.04 593.374,1342.29 595.394,1342.54 \n",
       "  597.414,1342.79 599.434,1343.03 601.454,1343.28 603.474,1343.52 605.494,1343.75 607.514,1343.99 609.534,1344.22 611.554,1344.45 613.574,1344.68 615.594,1344.9 \n",
       "  617.614,1345.13 619.634,1345.35 621.654,1345.56 623.673,1345.78 625.693,1345.99 627.713,1346.2 629.733,1346.41 631.753,1346.62 633.773,1346.83 635.793,1347.03 \n",
       "  637.813,1347.23 639.833,1347.43 641.853,1347.63 643.873,1347.82 645.893,1348.02 647.913,1348.21 649.933,1348.4 651.953,1348.59 653.973,1348.78 655.993,1348.96 \n",
       "  658.013,1349.15 660.033,1349.33 662.053,1349.51 664.073,1349.69 666.093,1349.87 668.113,1350.04 670.132,1350.22 672.152,1350.39 674.172,1350.56 676.192,1350.73 \n",
       "  678.212,1350.9 680.232,1351.07 682.252,1351.24 684.272,1351.4 686.292,1351.57 688.312,1351.73 690.332,1351.89 692.352,1352.05 694.372,1352.21 696.392,1352.37 \n",
       "  698.412,1352.53 700.432,1352.68 702.452,1352.84 704.472,1352.99 706.492,1353.14 708.512,1353.29 710.532,1353.44 712.552,1353.59 714.571,1353.74 716.591,1353.89 \n",
       "  718.611,1354.04 720.631,1354.18 722.651,1354.32 724.671,1354.47 726.691,1354.61 728.711,1354.75 730.731,1354.89 732.751,1355.03 734.771,1355.17 736.791,1355.31 \n",
       "  738.811,1355.45 740.831,1355.58 742.851,1355.72 744.871,1355.85 746.891,1355.99 748.911,1356.12 750.931,1356.25 752.951,1356.38 754.971,1356.51 756.991,1356.64 \n",
       "  759.011,1356.77 761.03,1356.9 763.05,1357.03 765.07,1357.16 767.09,1357.28 769.11,1357.41 771.13,1357.53 773.15,1357.66 775.17,1357.78 777.19,1357.9 \n",
       "  779.21,1358.02 781.23,1358.14 783.25,1358.26 785.27,1358.38 787.29,1358.5 789.31,1358.62 791.33,1358.74 793.35,1358.86 795.37,1358.97 797.39,1359.09 \n",
       "  799.41,1359.2 801.43,1359.32 803.45,1359.43 805.47,1359.54 807.489,1359.66 809.509,1359.77 811.529,1359.88 813.549,1359.99 815.569,1360.1 817.589,1360.21 \n",
       "  819.609,1360.32 821.629,1360.43 823.649,1360.54 825.669,1360.64 827.689,1360.75 829.709,1360.86 831.729,1360.96 833.749,1361.07 835.769,1361.17 837.789,1361.27 \n",
       "  839.809,1361.38 841.829,1361.48 843.849,1361.58 845.869,1361.69 847.889,1361.79 849.909,1361.89 851.929,1361.99 853.948,1362.09 855.968,1362.19 857.988,1362.29 \n",
       "  860.008,1362.38 862.028,1362.48 864.048,1362.58 866.068,1362.68 868.088,1362.77 870.108,1362.87 872.128,1362.96 874.148,1363.06 876.168,1363.15 878.188,1363.25 \n",
       "  880.208,1363.34 882.228,1363.44 884.248,1363.53 886.268,1363.62 888.288,1363.71 890.308,1363.8 892.328,1363.89 894.348,1363.99 896.368,1364.08 898.388,1364.17 \n",
       "  900.407,1364.25 902.427,1364.34 904.447,1364.43 906.467,1364.52 908.487,1364.61 910.507,1364.7 912.527,1364.78 914.547,1364.87 916.567,1364.96 918.587,1365.04 \n",
       "  920.607,1365.13 922.627,1365.21 924.647,1365.3 926.667,1365.38 928.687,1365.46 930.707,1365.55 932.727,1365.63 934.747,1365.71 936.767,1365.8 938.787,1365.88 \n",
       "  940.807,1365.96 942.827,1366.04 944.846,1366.12 946.866,1366.2 948.886,1366.28 950.906,1366.36 952.926,1366.44 954.946,1366.52 956.966,1366.6 958.986,1366.68 \n",
       "  961.006,1366.76 963.026,1366.83 965.046,1366.91 967.066,1366.99 969.086,1367.07 971.106,1367.14 973.126,1367.22 975.146,1367.29 977.166,1367.37 979.186,1367.44 \n",
       "  981.206,1367.52 983.226,1367.59 985.246,1367.67 987.266,1367.74 989.286,1367.82 991.305,1367.89 993.325,1367.96 995.345,1368.04 997.365,1368.11 999.385,1368.18 \n",
       "  1001.41,1368.25 1003.43,1368.32 1005.45,1368.4 1007.47,1368.47 1009.49,1368.54 1011.51,1368.61 1013.52,1368.68 1015.54,1368.75 1017.56,1368.82 1019.58,1368.89 \n",
       "  1021.6,1368.95 1023.62,1369.02 1025.64,1369.09 1027.66,1369.16 1029.68,1369.23 1031.7,1369.3 1033.72,1369.36 1035.74,1369.43 1037.76,1369.5 1039.78,1369.56 \n",
       "  1041.8,1369.63 1043.82,1369.7 1045.84,1369.76 1047.86,1369.83 1049.88,1369.89 1051.9,1369.96 1053.92,1370.02 1055.94,1370.09 1057.96,1370.15 1059.98,1370.21 \n",
       "  1062,1370.28 1064.02,1370.34 1066.04,1370.4 1068.06,1370.47 1070.08,1370.53 1072.1,1370.59 1074.12,1370.65 1076.14,1370.72 1078.16,1370.78 1080.18,1370.84 \n",
       "  1082.2,1370.9 1084.22,1370.96 1086.24,1371.02 1088.26,1371.08 1090.28,1371.14 1092.3,1371.2 1094.32,1371.26 1096.34,1371.32 1098.36,1371.38 1100.38,1371.44 \n",
       "  1102.4,1371.5 1104.42,1371.56 1106.44,1371.62 1108.46,1371.67 1110.48,1371.73 1112.5,1371.79 1114.52,1371.85 1116.54,1371.9 1118.56,1371.96 1120.58,1372.02 \n",
       "  1122.6,1372.07 1124.62,1372.13 1126.64,1372.19 1128.66,1372.24 1130.68,1372.3 1132.7,1372.35 1134.72,1372.41 1136.74,1372.46 1138.76,1372.52 1140.78,1372.57 \n",
       "  1142.8,1372.63 1144.82,1372.68 1146.84,1372.74 1148.86,1372.79 1150.88,1372.84 1152.9,1372.9 1154.92,1372.95 1156.94,1373 1158.96,1373.06 1160.98,1373.11 \n",
       "  1163,1373.16 1165.02,1373.21 1167.04,1373.26 1169.06,1373.32 1171.08,1373.37 1173.1,1373.42 1175.12,1373.47 1177.14,1373.52 1179.16,1373.57 1181.18,1373.62 \n",
       "  1183.2,1373.67 1185.22,1373.72 1187.24,1373.77 1189.26,1373.82 1191.28,1373.87 1193.3,1373.92 1195.32,1373.97 1197.34,1374.02 1199.36,1374.07 1201.38,1374.12 \n",
       "  1203.4,1374.16 1205.42,1374.21 1207.44,1374.26 1209.46,1374.31 1211.48,1374.36 1213.5,1374.4 1215.52,1374.45 1217.54,1374.5 1219.56,1374.54 1221.58,1374.59 \n",
       "  1223.6,1374.64 1225.62,1374.68 1227.64,1374.73 1229.66,1374.78 1231.68,1374.82 1233.7,1374.87 1235.72,1374.91 1237.74,1374.96 1239.76,1375 1241.78,1375.05 \n",
       "  1243.8,1375.09 1245.82,1375.14 1247.84,1375.18 1249.86,1375.23 1251.88,1375.27 1253.9,1375.31 1255.92,1375.36 1257.94,1375.4 1259.96,1375.45 1261.98,1375.49 \n",
       "  1264,1375.53 1266.02,1375.57 1268.04,1375.62 1270.06,1375.66 1272.08,1375.7 1274.1,1375.74 1276.12,1375.79 1278.14,1375.83 1280.16,1375.87 1282.18,1375.91 \n",
       "  1284.2,1375.95 1286.22,1375.99 1288.24,1376.03 1290.26,1376.08 1292.28,1376.12 1294.3,1376.16 1296.32,1376.2 1298.34,1376.24 1300.36,1376.28 1302.38,1376.32 \n",
       "  1304.4,1376.36 1306.42,1376.4 1308.44,1376.44 1310.46,1376.48 1312.48,1376.51 1314.5,1376.55 1316.52,1376.59 1318.54,1376.63 1320.56,1376.67 1322.58,1376.71 \n",
       "  1324.6,1376.75 1326.62,1376.78 1328.64,1376.82 1330.66,1376.86 1332.68,1376.9 1334.7,1376.93 1336.72,1376.97 1338.74,1377.01 1340.76,1377.05 1342.78,1377.08 \n",
       "  1344.8,1377.12 1346.82,1377.16 1348.84,1377.19 1350.86,1377.23 1352.88,1377.26 1354.9,1377.3 1356.92,1377.34 1358.94,1377.37 1360.96,1377.41 1362.98,1377.44 \n",
       "  1365,1377.48 1367.02,1377.51 1369.04,1377.55 1371.06,1377.58 1373.08,1377.62 1375.1,1377.65 1377.12,1377.69 1379.14,1377.72 1381.16,1377.75 1383.18,1377.79 \n",
       "  1385.2,1377.82 1387.22,1377.86 1389.24,1377.89 1391.26,1377.92 1393.28,1377.96 1395.3,1377.99 1397.32,1378.02 1399.34,1378.06 1401.36,1378.09 1403.38,1378.12 \n",
       "  1405.4,1378.15 1407.42,1378.19 1409.44,1378.22 1411.46,1378.25 1413.48,1378.28 1415.5,1378.31 1417.52,1378.34 1419.54,1378.38 1421.56,1378.41 1423.58,1378.44 \n",
       "  1425.6,1378.47 1427.62,1378.5 1429.64,1378.53 1431.66,1378.56 1433.68,1378.59 1435.7,1378.62 1437.72,1378.65 1439.74,1378.68 1441.76,1378.71 1443.78,1378.74 \n",
       "  1445.8,1378.77 1447.82,1378.8 1449.84,1378.83 1451.86,1378.86 1453.88,1378.89 1455.9,1378.92 1457.92,1378.95 1459.94,1378.98 1461.96,1379.01 1463.98,1379.04 \n",
       "  1466,1379.07 1468.02,1379.09 1470.04,1379.12 1472.06,1379.15 1474.07,1379.18 1476.09,1379.21 1478.11,1379.23 1480.13,1379.26 1482.15,1379.29 1484.17,1379.32 \n",
       "  1486.19,1379.35 1488.21,1379.37 1490.23,1379.4 1492.25,1379.43 1494.27,1379.45 1496.29,1379.48 1498.31,1379.51 1500.33,1379.53 1502.35,1379.56 1504.37,1379.59 \n",
       "  1506.39,1379.61 1508.41,1379.64 1510.43,1379.66 1512.45,1379.69 1514.47,1379.72 1516.49,1379.74 1518.51,1379.77 1520.53,1379.79 1522.55,1379.82 1524.57,1379.84 \n",
       "  1526.59,1379.87 1528.61,1379.89 1530.63,1379.92 1532.65,1379.94 1534.67,1379.97 1536.69,1379.99 1538.71,1380.02 1540.73,1380.04 1542.75,1380.07 1544.77,1380.09 \n",
       "  1546.79,1380.11 1548.81,1380.14 1550.83,1380.16 1552.85,1380.19 1554.87,1380.21 1556.89,1380.23 1558.91,1380.26 1560.93,1380.28 1562.95,1380.3 1564.97,1380.33 \n",
       "  1566.99,1380.35 1569.01,1380.37 1571.03,1380.39 1573.05,1380.42 1575.07,1380.44 1577.09,1380.46 1579.11,1380.48 1581.13,1380.51 1583.15,1380.53 1585.17,1380.55 \n",
       "  1587.19,1380.57 1589.21,1380.6 1591.23,1380.62 1593.25,1380.64 1595.27,1380.66 1597.29,1380.68 1599.31,1380.7 1601.33,1380.72 1603.35,1380.75 1605.37,1380.77 \n",
       "  1607.39,1380.79 1609.41,1380.81 1611.43,1380.83 1613.45,1380.85 1615.47,1380.87 1617.49,1380.89 1619.51,1380.91 1621.53,1380.93 1623.55,1380.95 1625.57,1380.97 \n",
       "  1627.59,1380.99 1629.61,1381.01 1631.63,1381.03 1633.65,1381.05 1635.67,1381.07 1637.69,1381.09 1639.71,1381.11 1641.73,1381.13 1643.75,1381.15 1645.77,1381.17 \n",
       "  1647.79,1381.19 1649.81,1381.21 1651.83,1381.23 1653.85,1381.25 1655.87,1381.26 1657.89,1381.28 1659.91,1381.3 1661.93,1381.32 1663.95,1381.34 1665.97,1381.36 \n",
       "  1667.99,1381.38 1670.01,1381.39 1672.03,1381.41 1674.05,1381.43 1676.07,1381.45 1678.09,1381.47 1680.11,1381.48 1682.13,1381.5 1684.15,1381.52 1686.17,1381.54 \n",
       "  1688.19,1381.55 1690.21,1381.57 1692.23,1381.59 1694.25,1381.61 1696.27,1381.62 1698.29,1381.64 1700.31,1381.66 1702.33,1381.67 1704.35,1381.69 1706.37,1381.71 \n",
       "  1708.39,1381.72 1710.41,1381.74 1712.43,1381.76 1714.45,1381.77 1716.47,1381.79 1718.49,1381.81 1720.51,1381.82 1722.53,1381.84 1724.55,1381.86 1726.57,1381.87 \n",
       "  1728.59,1381.89 1730.61,1381.9 1732.63,1381.92 1734.65,1381.93 1736.67,1381.95 1738.69,1381.97 1740.71,1381.98 1742.73,1382 1744.75,1382.01 1746.77,1382.03 \n",
       "  1748.79,1382.04 1750.81,1382.06 1752.83,1382.07 1754.85,1382.09 1756.87,1382.1 1758.89,1382.12 1760.91,1382.13 1762.93,1382.15 1764.95,1382.16 1766.97,1382.17 \n",
       "  1768.99,1382.19 1771.01,1382.2 1773.03,1382.22 1775.05,1382.23 1777.07,1382.25 1779.09,1382.26 1781.11,1382.27 1783.13,1382.29 1785.15,1382.3 1787.17,1382.32 \n",
       "  1789.19,1382.33 1791.21,1382.34 1793.23,1382.36 1795.25,1382.37 1797.27,1382.38 1799.29,1382.4 1801.31,1382.41 1803.33,1382.42 1805.35,1382.44 1807.37,1382.45 \n",
       "  1809.39,1382.46 1811.41,1382.48 1813.43,1382.49 1815.45,1382.5 1817.47,1382.51 1819.49,1382.53 1821.51,1382.54 1823.53,1382.55 1825.55,1382.57 1827.57,1382.58 \n",
       "  1829.59,1382.59 1831.61,1382.6 1833.63,1382.61 1835.65,1382.63 1837.67,1382.64 1839.69,1382.65 1841.71,1382.66 1843.73,1382.68 1845.75,1382.69 1847.77,1382.7 \n",
       "  1849.79,1382.71 1851.81,1382.72 1853.83,1382.73 1855.85,1382.75 1857.87,1382.76 1859.89,1382.77 1861.91,1382.78 1863.93,1382.79 1865.95,1382.8 1867.97,1382.81 \n",
       "  1869.99,1382.83 1872.01,1382.84 1874.03,1382.85 1876.05,1382.86 1878.07,1382.87 1880.09,1382.88 1882.11,1382.89 1884.13,1382.9 1886.15,1382.91 1888.17,1382.93 \n",
       "  1890.19,1382.94 1892.21,1382.95 1894.23,1382.96 1896.25,1382.97 1898.27,1382.98 1900.29,1382.99 1902.31,1383 1904.33,1383.01 1906.35,1383.02 1908.37,1383.03 \n",
       "  1910.39,1383.04 1912.41,1383.05 1914.43,1383.06 1916.45,1383.07 1918.47,1383.08 1920.49,1383.09 1922.51,1383.1 1924.53,1383.11 1926.55,1383.12 1928.57,1383.13 \n",
       "  1930.59,1383.14 1932.61,1383.15 1934.62,1383.16 1936.64,1383.17 1938.66,1383.18 1940.68,1383.19 1942.7,1383.19 1944.72,1383.2 1946.74,1383.21 1948.76,1383.22 \n",
       "  1950.78,1383.23 1952.8,1383.24 1954.82,1383.25 1956.84,1383.26 1958.86,1383.27 1960.88,1383.28 1962.9,1383.29 1964.92,1383.29 1966.94,1383.3 1968.96,1383.31 \n",
       "  1970.98,1383.32 1973,1383.33 1975.02,1383.34 1977.04,1383.35 1979.06,1383.35 1981.08,1383.36 1983.1,1383.37 1985.12,1383.38 1987.14,1383.39 1989.16,1383.4 \n",
       "  1991.18,1383.4 1993.2,1383.41 1995.22,1383.42 1997.24,1383.43 1999.26,1383.44 2001.28,1383.45 2003.3,1383.45 2005.32,1383.46 2007.34,1383.47 2009.36,1383.48 \n",
       "  2011.38,1383.48 2013.4,1383.49 2015.42,1383.5 2017.44,1383.51 2019.46,1383.52 2021.48,1383.52 2023.5,1383.53 2025.52,1383.54 2027.54,1383.55 2029.56,1383.55 \n",
       "  2031.58,1383.56 2033.6,1383.57 2035.62,1383.58 2037.64,1383.58 2039.66,1383.59 2041.68,1383.6 2043.7,1383.6 2045.72,1383.61 2047.74,1383.62 2049.76,1383.63 \n",
       "  2051.78,1383.63 2053.8,1383.64 2055.82,1383.65 2057.84,1383.65 2059.86,1383.66 2061.88,1383.67 2063.9,1383.67 2065.92,1383.68 2067.94,1383.69 2069.96,1383.69 \n",
       "  2071.98,1383.7 2074,1383.71 2076.02,1383.71 2078.04,1383.72 2080.06,1383.73 2082.08,1383.73 2084.1,1383.74 2086.12,1383.75 2088.14,1383.75 2090.16,1383.76 \n",
       "  2092.18,1383.76 2094.2,1383.77 2096.22,1383.78 2098.24,1383.78 2100.26,1383.79 2102.28,1383.8 2104.3,1383.8 2106.32,1383.81 2108.34,1383.81 2110.36,1383.82 \n",
       "  2112.38,1383.83 2114.4,1383.83 2116.42,1383.84 2118.44,1383.84 2120.46,1383.85 2122.48,1383.85 2124.5,1383.86 2126.52,1383.87 2128.54,1383.87 2130.56,1383.88 \n",
       "  2132.58,1383.88 2134.6,1383.89 2136.62,1383.89 2138.64,1383.9 2140.66,1383.9 2142.68,1383.91 2144.7,1383.92 2146.72,1383.92 2148.74,1383.93 2150.76,1383.93 \n",
       "  2152.78,1383.94 2154.8,1383.94 2156.82,1383.95 2158.84,1383.95 2160.86,1383.96 2162.88,1383.96 2164.9,1383.97 2166.92,1383.97 2168.94,1383.98 2170.96,1383.98 \n",
       "  2172.98,1383.99 2175,1383.99 2177.02,1384 2179.04,1384 2181.06,1384.01 2183.08,1384.01 2185.1,1384.02 2187.12,1384.02 2189.14,1384.03 2191.16,1384.03 \n",
       "  2193.18,1384.04 2195.2,1384.04 2197.22,1384.05 2199.24,1384.05 2201.26,1384.06 2203.28,1384.06 2205.3,1384.07 2207.32,1384.07 2209.34,1384.07 2211.36,1384.08 \n",
       "  2213.38,1384.08 2215.4,1384.09 2217.42,1384.09 2219.44,1384.1 2221.46,1384.1 2223.48,1384.1 2225.5,1384.11 2227.52,1384.11 2229.54,1384.12 2231.56,1384.12 \n",
       "  2233.58,1384.13 2235.6,1384.13 2237.62,1384.13 2239.64,1384.14 2241.66,1384.14 2243.68,1384.15 2245.7,1384.15 2247.72,1384.16 2249.74,1384.16 2251.76,1384.16 \n",
       "  2253.78,1384.17 2255.8,1384.17 2257.82,1384.18 2259.84,1384.18 2261.86,1384.18 2263.88,1384.19 2265.9,1384.19 2267.92,1384.19 2269.94,1384.2 2271.96,1384.2 \n",
       "  2273.98,1384.21 2276,1384.21 2278.02,1384.21 2280.04,1384.22 2282.06,1384.22 2284.08,1384.22 2286.1,1384.23 2288.12,1384.23 2290.14,1384.23 2292.16,1384.24 \n",
       "  \n",
       "  \"/>\n",
       "<path clip-path=\"url(#clip340)\" d=\"\n",
       "M1844.15 274.549 L2281.38 274.549 L2281.38 93.1086 L1844.15 93.1086  Z\n",
       "  \" fill=\"#ffffff\" fill-rule=\"evenodd\" fill-opacity=\"1\"/>\n",
       "<polyline clip-path=\"url(#clip340)\" style=\"stroke:#000000; stroke-width:4; stroke-opacity:1; fill:none\" points=\"\n",
       "  1844.15,274.549 2281.38,274.549 2281.38,93.1086 1844.15,93.1086 1844.15,274.549 \n",
       "  \"/>\n",
       "<polyline clip-path=\"url(#clip340)\" style=\"stroke:#009af9; stroke-width:4; stroke-opacity:1; fill:none\" points=\"\n",
       "  1867.94,153.589 2010.68,153.589 \n",
       "  \"/>\n",
       "<path clip-path=\"url(#clip340)\" d=\"M 0 0 M2047.67 170.869 L2034.48 136.309 L2039.36 136.309 L2050.31 165.406 L2061.28 136.309 L2066.14 136.309 L2052.97 170.869 L2047.67 170.869 Z\" fill=\"#000000\" fill-rule=\"evenodd\" fill-opacity=\"1\" /><path clip-path=\"url(#clip340)\" d=\"M 0 0 M2078.71 157.836 Q2073.55 157.836 2071.56 159.017 Q2069.57 160.197 2069.57 163.045 Q2069.57 165.313 2071.05 166.656 Q2072.55 167.975 2075.12 167.975 Q2078.66 167.975 2080.79 165.475 Q2082.95 162.952 2082.95 158.785 L2082.95 157.836 L2078.71 157.836 M2087.21 156.077 L2087.21 170.869 L2082.95 170.869 L2082.95 166.933 Q2081.49 169.295 2079.31 170.429 Q2077.14 171.54 2073.99 171.54 Q2070.01 171.54 2067.65 169.318 Q2065.31 167.072 2065.31 163.322 Q2065.31 158.947 2068.23 156.725 Q2071.16 154.503 2076.98 154.503 L2082.95 154.503 L2082.95 154.086 Q2082.95 151.147 2081 149.549 Q2079.08 147.929 2075.59 147.929 Q2073.36 147.929 2071.26 148.461 Q2069.15 148.994 2067.21 150.059 L2067.21 146.123 Q2069.54 145.221 2071.74 144.781 Q2073.94 144.318 2076.03 144.318 Q2081.65 144.318 2084.43 147.234 Q2087.21 150.151 2087.21 156.077 Z\" fill=\"#000000\" fill-rule=\"evenodd\" fill-opacity=\"1\" /><path clip-path=\"url(#clip340)\" d=\"M 0 0 M2091.67 134.85 L2095.93 134.85 L2095.93 170.869 L2091.67 170.869 L2091.67 134.85 Z\" fill=\"#000000\" fill-rule=\"evenodd\" fill-opacity=\"1\" /><path clip-path=\"url(#clip340)\" d=\"M 0 0 M2100.4 144.943 L2104.66 144.943 L2104.66 170.869 L2100.4 170.869 L2100.4 144.943 M2100.4 134.85 L2104.66 134.85 L2104.66 140.244 L2100.4 140.244 L2100.4 134.85 Z\" fill=\"#000000\" fill-rule=\"evenodd\" fill-opacity=\"1\" /><path clip-path=\"url(#clip340)\" d=\"M 0 0 M2126.19 148.878 L2126.19 134.85 L2130.45 134.85 L2130.45 170.869 L2126.19 170.869 L2126.19 166.98 Q2124.85 169.295 2122.79 170.429 Q2120.75 171.54 2117.88 171.54 Q2113.18 171.54 2110.22 167.79 Q2107.28 164.04 2107.28 157.929 Q2107.28 151.818 2110.22 148.068 Q2113.18 144.318 2117.88 144.318 Q2120.75 144.318 2122.79 145.452 Q2124.85 146.563 2126.19 148.878 M2111.67 157.929 Q2111.67 162.628 2113.6 165.313 Q2115.54 167.975 2118.92 167.975 Q2122.3 167.975 2124.24 165.313 Q2126.19 162.628 2126.19 157.929 Q2126.19 153.23 2124.24 150.568 Q2122.3 147.883 2118.92 147.883 Q2115.54 147.883 2113.6 150.568 Q2111.67 153.23 2111.67 157.929 Z\" fill=\"#000000\" fill-rule=\"evenodd\" fill-opacity=\"1\" /><path clip-path=\"url(#clip340)\" d=\"M 0 0 M2146.7 157.836 Q2141.53 157.836 2139.54 159.017 Q2137.55 160.197 2137.55 163.045 Q2137.55 165.313 2139.03 166.656 Q2140.54 167.975 2143.11 167.975 Q2146.65 167.975 2148.78 165.475 Q2150.93 162.952 2150.93 158.785 L2150.93 157.836 L2146.7 157.836 M2155.19 156.077 L2155.19 170.869 L2150.93 170.869 L2150.93 166.933 Q2149.47 169.295 2147.3 170.429 Q2145.12 171.54 2141.97 171.54 Q2137.99 171.54 2135.63 169.318 Q2133.29 167.072 2133.29 163.322 Q2133.29 158.947 2136.21 156.725 Q2139.15 154.503 2144.96 154.503 L2150.93 154.503 L2150.93 154.086 Q2150.93 151.147 2148.99 149.549 Q2147.07 147.929 2143.57 147.929 Q2141.35 147.929 2139.24 148.461 Q2137.14 148.994 2135.19 150.059 L2135.19 146.123 Q2137.53 145.221 2139.73 144.781 Q2141.93 144.318 2144.01 144.318 Q2149.64 144.318 2152.41 147.234 Q2155.19 150.151 2155.19 156.077 Z\" fill=\"#000000\" fill-rule=\"evenodd\" fill-opacity=\"1\" /><path clip-path=\"url(#clip340)\" d=\"M 0 0 M2163.87 137.582 L2163.87 144.943 L2172.65 144.943 L2172.65 148.253 L2163.87 148.253 L2163.87 162.327 Q2163.87 165.498 2164.73 166.401 Q2165.61 167.304 2168.27 167.304 L2172.65 167.304 L2172.65 170.869 L2168.27 170.869 Q2163.34 170.869 2161.47 169.04 Q2159.59 167.188 2159.59 162.327 L2159.59 148.253 L2156.47 148.253 L2156.47 144.943 L2159.59 144.943 L2159.59 137.582 L2163.87 137.582 Z\" fill=\"#000000\" fill-rule=\"evenodd\" fill-opacity=\"1\" /><path clip-path=\"url(#clip340)\" d=\"M 0 0 M2177.11 144.943 L2181.37 144.943 L2181.37 170.869 L2177.11 170.869 L2177.11 144.943 M2177.11 134.85 L2181.37 134.85 L2181.37 140.244 L2177.11 140.244 L2177.11 134.85 Z\" fill=\"#000000\" fill-rule=\"evenodd\" fill-opacity=\"1\" /><path clip-path=\"url(#clip340)\" d=\"M 0 0 M2195.89 147.929 Q2192.46 147.929 2190.47 150.614 Q2188.48 153.276 2188.48 157.929 Q2188.48 162.582 2190.45 165.267 Q2192.44 167.929 2195.89 167.929 Q2199.29 167.929 2201.28 165.244 Q2203.27 162.558 2203.27 157.929 Q2203.27 153.322 2201.28 150.637 Q2199.29 147.929 2195.89 147.929 M2195.89 144.318 Q2201.44 144.318 2204.61 147.929 Q2207.78 151.54 2207.78 157.929 Q2207.78 164.295 2204.61 167.929 Q2201.44 171.54 2195.89 171.54 Q2190.31 171.54 2187.14 167.929 Q2183.99 164.295 2183.99 157.929 Q2183.99 151.54 2187.14 147.929 Q2190.31 144.318 2195.89 144.318 Z\" fill=\"#000000\" fill-rule=\"evenodd\" fill-opacity=\"1\" /><path clip-path=\"url(#clip340)\" d=\"M 0 0 M2233.8 155.221 L2233.8 170.869 L2229.54 170.869 L2229.54 155.359 Q2229.54 151.679 2228.11 149.85 Q2226.67 148.022 2223.8 148.022 Q2220.35 148.022 2218.36 150.221 Q2216.37 152.42 2216.37 156.216 L2216.37 170.869 L2212.09 170.869 L2212.09 144.943 L2216.37 144.943 L2216.37 148.971 Q2217.9 146.633 2219.96 145.475 Q2222.04 144.318 2224.75 144.318 Q2229.22 144.318 2231.51 147.096 Q2233.8 149.85 2233.8 155.221 Z\" fill=\"#000000\" fill-rule=\"evenodd\" fill-opacity=\"1\" /><polyline clip-path=\"url(#clip340)\" style=\"stroke:#e26f46; stroke-width:4; stroke-opacity:1; fill:none\" points=\"\n",
       "  1867.94,214.069 2010.68,214.069 \n",
       "  \"/>\n",
       "<path clip-path=\"url(#clip340)\" d=\"M 0 0 M2034.48 196.789 L2063.71 196.789 L2063.71 200.724 L2051.44 200.724 L2051.44 231.349 L2046.74 231.349 L2046.74 200.724 L2034.48 200.724 L2034.48 196.789 Z\" fill=\"#000000\" fill-rule=\"evenodd\" fill-opacity=\"1\" /><path clip-path=\"url(#clip340)\" d=\"M 0 0 M2076.23 209.404 Q2075.52 208.988 2074.66 208.802 Q2073.83 208.594 2072.81 208.594 Q2069.2 208.594 2067.25 210.955 Q2065.33 213.293 2065.33 217.691 L2065.33 231.349 L2061.05 231.349 L2061.05 205.423 L2065.33 205.423 L2065.33 209.451 Q2066.67 207.089 2068.83 205.955 Q2070.98 204.798 2074.06 204.798 Q2074.5 204.798 2075.03 204.867 Q2075.56 204.914 2076.21 205.029 L2076.23 209.404 Z\" fill=\"#000000\" fill-rule=\"evenodd\" fill-opacity=\"1\" /><path clip-path=\"url(#clip340)\" d=\"M 0 0 M2092.48 218.316 Q2087.32 218.316 2085.33 219.497 Q2083.34 220.677 2083.34 223.525 Q2083.34 225.793 2084.82 227.136 Q2086.33 228.455 2088.9 228.455 Q2092.44 228.455 2094.57 225.955 Q2096.72 223.432 2096.72 219.265 L2096.72 218.316 L2092.48 218.316 M2100.98 216.557 L2100.98 231.349 L2096.72 231.349 L2096.72 227.413 Q2095.26 229.775 2093.09 230.909 Q2090.91 232.02 2087.76 232.02 Q2083.78 232.02 2081.42 229.798 Q2079.08 227.552 2079.08 223.802 Q2079.08 219.427 2082 217.205 Q2084.94 214.983 2090.75 214.983 L2096.72 214.983 L2096.72 214.566 Q2096.72 211.627 2094.78 210.029 Q2092.85 208.409 2089.36 208.409 Q2087.14 208.409 2085.03 208.941 Q2082.92 209.474 2080.98 210.539 L2080.98 206.603 Q2083.32 205.701 2085.52 205.261 Q2087.72 204.798 2089.8 204.798 Q2095.42 204.798 2098.2 207.714 Q2100.98 210.631 2100.98 216.557 Z\" fill=\"#000000\" fill-rule=\"evenodd\" fill-opacity=\"1\" /><path clip-path=\"url(#clip340)\" d=\"M 0 0 M2105.45 205.423 L2109.71 205.423 L2109.71 231.349 L2105.45 231.349 L2105.45 205.423 M2105.45 195.33 L2109.71 195.33 L2109.71 200.724 L2105.45 200.724 L2105.45 195.33 Z\" fill=\"#000000\" fill-rule=\"evenodd\" fill-opacity=\"1\" /><path clip-path=\"url(#clip340)\" d=\"M 0 0 M2135.72 215.701 L2135.72 231.349 L2131.47 231.349 L2131.47 215.839 Q2131.47 212.159 2130.03 210.33 Q2128.6 208.502 2125.72 208.502 Q2122.28 208.502 2120.29 210.701 Q2118.29 212.9 2118.29 216.696 L2118.29 231.349 L2114.01 231.349 L2114.01 205.423 L2118.29 205.423 L2118.29 209.451 Q2119.82 207.113 2121.88 205.955 Q2123.97 204.798 2126.67 204.798 Q2131.14 204.798 2133.43 207.576 Q2135.72 210.33 2135.72 215.701 Z\" fill=\"#000000\" fill-rule=\"evenodd\" fill-opacity=\"1\" /><path clip-path=\"url(#clip340)\" d=\"M 0 0 M2140.19 205.423 L2144.45 205.423 L2144.45 231.349 L2140.19 231.349 L2140.19 205.423 M2140.19 195.33 L2144.45 195.33 L2144.45 200.724 L2140.19 200.724 L2140.19 195.33 Z\" fill=\"#000000\" fill-rule=\"evenodd\" fill-opacity=\"1\" /><path clip-path=\"url(#clip340)\" d=\"M 0 0 M2170.47 215.701 L2170.47 231.349 L2166.21 231.349 L2166.21 215.839 Q2166.21 212.159 2164.78 210.33 Q2163.34 208.502 2160.47 208.502 Q2157.02 208.502 2155.03 210.701 Q2153.04 212.9 2153.04 216.696 L2153.04 231.349 L2148.76 231.349 L2148.76 205.423 L2153.04 205.423 L2153.04 209.451 Q2154.57 207.113 2156.63 205.955 Q2158.71 204.798 2161.42 204.798 Q2165.89 204.798 2168.18 207.576 Q2170.47 210.33 2170.47 215.701 Z\" fill=\"#000000\" fill-rule=\"evenodd\" fill-opacity=\"1\" /><path clip-path=\"url(#clip340)\" d=\"M 0 0 M2192 218.085 Q2192 213.455 2190.08 210.909 Q2188.18 208.363 2184.73 208.363 Q2181.3 208.363 2179.38 210.909 Q2177.48 213.455 2177.48 218.085 Q2177.48 222.691 2179.38 225.238 Q2181.3 227.784 2184.73 227.784 Q2188.18 227.784 2190.08 225.238 Q2192 222.691 2192 218.085 M2196.26 228.131 Q2196.26 234.751 2193.32 237.969 Q2190.38 241.21 2184.31 241.21 Q2182.07 241.21 2180.08 240.862 Q2178.09 240.538 2176.21 239.844 L2176.21 235.7 Q2178.09 236.719 2179.91 237.205 Q2181.74 237.691 2183.64 237.691 Q2187.83 237.691 2189.91 235.492 Q2192 233.316 2192 228.895 L2192 226.788 Q2190.68 229.08 2188.62 230.214 Q2186.56 231.349 2183.69 231.349 Q2178.92 231.349 2176 227.714 Q2173.09 224.08 2173.09 218.085 Q2173.09 212.066 2176 208.432 Q2178.92 204.798 2183.69 204.798 Q2186.56 204.798 2188.62 205.932 Q2190.68 207.066 2192 209.358 L2192 205.423 L2196.26 205.423 L2196.26 228.131 Z\" fill=\"#000000\" fill-rule=\"evenodd\" fill-opacity=\"1\" /></svg>\n"
      ]
     },
     "execution_count": 74,
     "metadata": {},
     "output_type": "execute_result"
    }
   ],
   "source": [
    "plot(curve.parameter_values,\n",
    "     curve.measurements,\n",
    "     xlab=curve.parameter_name,\n",
    "     ylab=\"Cross Entropy\",\n",
    "     label=\"Validation\", lw=2)\n",
    "plot!(Final_Net.report.training_losses, label=\"Training\", lw=2)"
   ]
  },
  {
   "cell_type": "code",
   "execution_count": 75,
   "metadata": {},
   "outputs": [
    {
     "name": "stderr",
     "output_type": "stream",
     "text": [
      "\u001b[33mEvaluating over 6 folds: 100%[=========================] Time: 0:00:33\u001b[39m\n"
     ]
    },
    {
     "data": {
      "text/plain": [
       "┌\u001b[0m───────────────\u001b[0m┬\u001b[0m───────────────\u001b[0m┬\u001b[0m──────────────────────────────────────────────────\u001b[0m┐\u001b[0m\n",
       "│\u001b[0m\u001b[22m _.measure     \u001b[0m│\u001b[0m\u001b[22m _.measurement \u001b[0m│\u001b[0m\u001b[22m _.per_fold                                       \u001b[0m│\u001b[0m\n",
       "├\u001b[0m───────────────\u001b[0m┼\u001b[0m───────────────\u001b[0m┼\u001b[0m──────────────────────────────────────────────────\u001b[0m┤\u001b[0m\n",
       "│\u001b[0m cross_entropy \u001b[0m│\u001b[0m 0.342         \u001b[0m│\u001b[0m Float32[0.365, 0.326, 0.33, 0.324, 0.356, 0.353] \u001b[0m│\u001b[0m\n",
       "│\u001b[0m acc           \u001b[0m│\u001b[0m 0.967         \u001b[0m│\u001b[0m [0.937, 0.989, 0.979, 0.989, 0.947, 0.957]       \u001b[0m│\u001b[0m\n",
       "└\u001b[0m───────────────\u001b[0m┴\u001b[0m───────────────\u001b[0m┴\u001b[0m──────────────────────────────────────────────────\u001b[0m┘\u001b[0m\n",
       "_.per_observation = [[[0.313, 0.313, ..., 0.313], [0.313, 0.313, ..., 0.313], [0.313, 0.313, ..., 0.313], [0.313, 0.313, ..., 0.313], [0.313, 0.313, ..., 1.31], [0.313, 0.313, ..., 0.313]], missing]\n",
       "_.fitted_params_per_fold = [ … ]\n",
       "_.report_per_fold = [ … ]\n"
      ]
     },
     "execution_count": 75,
     "metadata": {},
     "output_type": "execute_result"
    }
   ],
   "source": [
    "nn_acc = evaluate!(Final_Net, resampling=CV(shuffle=true), measure=[cross_entropy, acc], verbosity=1)"
   ]
  },
  {
   "cell_type": "code",
   "execution_count": 76,
   "metadata": {
    "scrolled": true
   },
   "outputs": [
    {
     "name": "stderr",
     "output_type": "stream",
     "text": [
      "┌ Warning: The classes are un-ordered,\n",
      "│ using: negative='B' and positive='M'.\n",
      "│ To suppress this warning, consider coercing to OrderedFactor.\n",
      "└ @ MLJBase /home/andrew/.julia/packages/MLJBase/uKzAz/src/measures/confusion_matrix.jl:83\n",
      "┌ Warning: The classes are un-ordered,\n",
      "│ using: negative='B' and positive='M'.\n",
      "│ To suppress this warning, consider coercing to OrderedFactor.\n",
      "└ @ MLJBase /home/andrew/.julia/packages/MLJBase/uKzAz/src/measures/confusion_matrix.jl:83\n",
      "┌ Warning: The classes are un-ordered,\n",
      "│ using: negative='B' and positive='M'.\n",
      "│ To suppress this warning, consider coercing to OrderedFactor.\n",
      "└ @ MLJBase /home/andrew/.julia/packages/MLJBase/uKzAz/src/measures/confusion_matrix.jl:83\n",
      "┌ Warning: The classes are un-ordered,\n",
      "│ using: negative='B' and positive='M'.\n",
      "│ To suppress this warning, consider coercing to OrderedFactor.\n",
      "└ @ MLJBase /home/andrew/.julia/packages/MLJBase/uKzAz/src/measures/confusion_matrix.jl:83\n",
      "\u001b[33mEvaluating over 6 folds:  17%[====>                    ]  ETA: 0:00:30\u001b[39m┌ Warning: The classes are un-ordered,\n",
      "│ using: negative='B' and positive='M'.\n",
      "│ To suppress this warning, consider coercing to OrderedFactor.\n",
      "└ @ MLJBase /home/andrew/.julia/packages/MLJBase/uKzAz/src/measures/confusion_matrix.jl:83\n",
      "┌ Warning: The classes are un-ordered,\n",
      "│ using: negative='B' and positive='M'.\n",
      "│ To suppress this warning, consider coercing to OrderedFactor.\n",
      "└ @ MLJBase /home/andrew/.julia/packages/MLJBase/uKzAz/src/measures/confusion_matrix.jl:83\n",
      "┌ Warning: The classes are un-ordered,\n",
      "│ using: negative='B' and positive='M'.\n",
      "│ To suppress this warning, consider coercing to OrderedFactor.\n",
      "└ @ MLJBase /home/andrew/.julia/packages/MLJBase/uKzAz/src/measures/confusion_matrix.jl:83\n",
      "┌ Warning: The classes are un-ordered,\n",
      "│ using: negative='B' and positive='M'.\n",
      "│ To suppress this warning, consider coercing to OrderedFactor.\n",
      "└ @ MLJBase /home/andrew/.julia/packages/MLJBase/uKzAz/src/measures/confusion_matrix.jl:83\n",
      "\u001b[33mEvaluating over 6 folds:  33%[========>                ]  ETA: 0:00:23\u001b[39m┌ Warning: The classes are un-ordered,\n",
      "│ using: negative='B' and positive='M'.\n",
      "│ To suppress this warning, consider coercing to OrderedFactor.\n",
      "└ @ MLJBase /home/andrew/.julia/packages/MLJBase/uKzAz/src/measures/confusion_matrix.jl:83\n",
      "┌ Warning: The classes are un-ordered,\n",
      "│ using: negative='B' and positive='M'.\n",
      "│ To suppress this warning, consider coercing to OrderedFactor.\n",
      "└ @ MLJBase /home/andrew/.julia/packages/MLJBase/uKzAz/src/measures/confusion_matrix.jl:83\n",
      "┌ Warning: The classes are un-ordered,\n",
      "│ using: negative='B' and positive='M'.\n",
      "│ To suppress this warning, consider coercing to OrderedFactor.\n",
      "└ @ MLJBase /home/andrew/.julia/packages/MLJBase/uKzAz/src/measures/confusion_matrix.jl:83\n",
      "┌ Warning: The classes are un-ordered,\n",
      "│ using: negative='B' and positive='M'.\n",
      "│ To suppress this warning, consider coercing to OrderedFactor.\n",
      "└ @ MLJBase /home/andrew/.julia/packages/MLJBase/uKzAz/src/measures/confusion_matrix.jl:83\n",
      "\u001b[33mEvaluating over 6 folds:  50%[============>            ]  ETA: 0:00:17\u001b[39m┌ Warning: The classes are un-ordered,\n",
      "│ using: negative='B' and positive='M'.\n",
      "│ To suppress this warning, consider coercing to OrderedFactor.\n",
      "└ @ MLJBase /home/andrew/.julia/packages/MLJBase/uKzAz/src/measures/confusion_matrix.jl:83\n",
      "┌ Warning: The classes are un-ordered,\n",
      "│ using: negative='B' and positive='M'.\n",
      "│ To suppress this warning, consider coercing to OrderedFactor.\n",
      "└ @ MLJBase /home/andrew/.julia/packages/MLJBase/uKzAz/src/measures/confusion_matrix.jl:83\n",
      "┌ Warning: The classes are un-ordered,\n",
      "│ using: negative='B' and positive='M'.\n",
      "│ To suppress this warning, consider coercing to OrderedFactor.\n",
      "└ @ MLJBase /home/andrew/.julia/packages/MLJBase/uKzAz/src/measures/confusion_matrix.jl:83\n",
      "┌ Warning: The classes are un-ordered,\n",
      "│ using: negative='B' and positive='M'.\n",
      "│ To suppress this warning, consider coercing to OrderedFactor.\n",
      "└ @ MLJBase /home/andrew/.julia/packages/MLJBase/uKzAz/src/measures/confusion_matrix.jl:83\n",
      "\u001b[33mEvaluating over 6 folds:  67%[================>        ]  ETA: 0:00:11\u001b[39m┌ Warning: The classes are un-ordered,\n",
      "│ using: negative='B' and positive='M'.\n",
      "│ To suppress this warning, consider coercing to OrderedFactor.\n",
      "└ @ MLJBase /home/andrew/.julia/packages/MLJBase/uKzAz/src/measures/confusion_matrix.jl:83\n",
      "┌ Warning: The classes are un-ordered,\n",
      "│ using: negative='B' and positive='M'.\n",
      "│ To suppress this warning, consider coercing to OrderedFactor.\n",
      "└ @ MLJBase /home/andrew/.julia/packages/MLJBase/uKzAz/src/measures/confusion_matrix.jl:83\n",
      "┌ Warning: The classes are un-ordered,\n",
      "│ using: negative='B' and positive='M'.\n",
      "│ To suppress this warning, consider coercing to OrderedFactor.\n",
      "└ @ MLJBase /home/andrew/.julia/packages/MLJBase/uKzAz/src/measures/confusion_matrix.jl:83\n",
      "┌ Warning: The classes are un-ordered,\n",
      "│ using: negative='B' and positive='M'.\n",
      "│ To suppress this warning, consider coercing to OrderedFactor.\n",
      "└ @ MLJBase /home/andrew/.julia/packages/MLJBase/uKzAz/src/measures/confusion_matrix.jl:83\n",
      "\u001b[33mEvaluating over 6 folds:  83%[====================>    ]  ETA: 0:00:06\u001b[39m┌ Warning: The classes are un-ordered,\n",
      "│ using: negative='B' and positive='M'.\n",
      "│ To suppress this warning, consider coercing to OrderedFactor.\n",
      "└ @ MLJBase /home/andrew/.julia/packages/MLJBase/uKzAz/src/measures/confusion_matrix.jl:83\n",
      "┌ Warning: The classes are un-ordered,\n",
      "│ using: negative='B' and positive='M'.\n",
      "│ To suppress this warning, consider coercing to OrderedFactor.\n",
      "└ @ MLJBase /home/andrew/.julia/packages/MLJBase/uKzAz/src/measures/confusion_matrix.jl:83\n",
      "┌ Warning: The classes are un-ordered,\n",
      "│ using: negative='B' and positive='M'.\n",
      "│ To suppress this warning, consider coercing to OrderedFactor.\n",
      "└ @ MLJBase /home/andrew/.julia/packages/MLJBase/uKzAz/src/measures/confusion_matrix.jl:83\n",
      "┌ Warning: The classes are un-ordered,\n",
      "│ using: negative='B' and positive='M'.\n",
      "│ To suppress this warning, consider coercing to OrderedFactor.\n",
      "└ @ MLJBase /home/andrew/.julia/packages/MLJBase/uKzAz/src/measures/confusion_matrix.jl:83\n",
      "\u001b[33mEvaluating over 6 folds: 100%[=========================] Time: 0:00:33\u001b[39m\n"
     ]
    },
    {
     "data": {
      "text/plain": [
       "┌\u001b[0m─────────────────────\u001b[0m┬\u001b[0m───────────────\u001b[0m┬\u001b[0m──────────────────────────────────────────────────\u001b[0m┐\u001b[0m\n",
       "│\u001b[0m\u001b[22m _.measure           \u001b[0m│\u001b[0m\u001b[22m _.measurement \u001b[0m│\u001b[0m\u001b[22m _.per_fold                                       \u001b[0m│\u001b[0m\n",
       "├\u001b[0m─────────────────────\u001b[0m┼\u001b[0m───────────────\u001b[0m┼\u001b[0m──────────────────────────────────────────────────\u001b[0m┤\u001b[0m\n",
       "│\u001b[0m true_negative_rate  \u001b[0m│\u001b[0m 0.985         \u001b[0m│\u001b[0m [1.0, 0.966, 0.967, 1.0, 0.98, 1.0]              \u001b[0m│\u001b[0m\n",
       "│\u001b[0m true_positive_rate  \u001b[0m│\u001b[0m 0.947         \u001b[0m│\u001b[0m [0.962, 0.919, 0.912, 0.941, 0.978, 0.971]       \u001b[0m│\u001b[0m\n",
       "│\u001b[0m false_negative_rate \u001b[0m│\u001b[0m 0.0528        \u001b[0m│\u001b[0m [0.0385, 0.0811, 0.0882, 0.0588, 0.0217, 0.0286] \u001b[0m│\u001b[0m\n",
       "│\u001b[0m false_positive_rate \u001b[0m│\u001b[0m 0.0146        \u001b[0m│\u001b[0m [0.0, 0.0345, 0.0328, 0.0, 0.0204, 0.0]          \u001b[0m│\u001b[0m\n",
       "└\u001b[0m─────────────────────\u001b[0m┴\u001b[0m───────────────\u001b[0m┴\u001b[0m──────────────────────────────────────────────────\u001b[0m┘\u001b[0m\n",
       "_.per_observation = [missing, missing, missing, missing]\n",
       "_.fitted_params_per_fold = [ … ]\n",
       "_.report_per_fold = [ … ]\n"
      ]
     },
     "execution_count": 76,
     "metadata": {},
     "output_type": "execute_result"
    }
   ],
   "source": [
    "nn_acc = evaluate!(Final_Net, resampling=CV(shuffle=true), measure=[tnr,tpr,fnr,fpr], verbosity=1, operation=predict_mode)"
   ]
  },
  {
   "cell_type": "code",
   "execution_count": 77,
   "metadata": {},
   "outputs": [],
   "source": [
    "ŷ = MLJ.predict(Final_Net, X_stand[test,:]);"
   ]
  },
  {
   "cell_type": "code",
   "execution_count": 78,
   "metadata": {},
   "outputs": [
    {
     "data": {
      "text/plain": [
       "0.3249617f0"
      ]
     },
     "execution_count": 78,
     "metadata": {},
     "output_type": "execute_result"
    }
   ],
   "source": [
    "cross_entropy(ŷ, y[test]) |> mean"
   ]
  },
  {
   "cell_type": "code",
   "execution_count": 79,
   "metadata": {},
   "outputs": [
    {
     "data": {
      "text/plain": [
       "0.9883040935672515"
      ]
     },
     "execution_count": 79,
     "metadata": {},
     "output_type": "execute_result"
    }
   ],
   "source": [
    "acc(ŷ, y[test])"
   ]
  },
  {
   "cell_type": "code",
   "execution_count": 80,
   "metadata": {},
   "outputs": [
    {
     "name": "stderr",
     "output_type": "stream",
     "text": [
      "┌ Warning: The classes are un-ordered,\n",
      "│ using: negative='B' and positive='M'.\n",
      "│ To suppress this warning, consider coercing to OrderedFactor.\n",
      "└ @ MLJBase /home/andrew/.julia/packages/MLJBase/uKzAz/src/measures/confusion_matrix.jl:83\n"
     ]
    },
    {
     "data": {
      "text/plain": [
       "              ┌───────────────────────────┐\n",
       "              │       Ground Truth        │\n",
       "┌─────────────┼─────────────┬─────────────┤\n",
       "│  Predicted  │      B      │      M      │\n",
       "├─────────────┼─────────────┼─────────────┤\n",
       "│      B      │     107     │      2      │\n",
       "├─────────────┼─────────────┼─────────────┤\n",
       "│      M      │      0      │     62      │\n",
       "└─────────────┴─────────────┴─────────────┘\n"
      ]
     },
     "execution_count": 80,
     "metadata": {},
     "output_type": "execute_result"
    }
   ],
   "source": [
    "confusion_matrix(mode.(ŷ), y[test])"
   ]
  },
  {
   "cell_type": "code",
   "execution_count": 81,
   "metadata": {},
   "outputs": [
    {
     "data": {
      "text/plain": [
       "(chain = Chain(Chain(Dense(30, 34, σ), Dense(34, 2, σ)), softmax),)"
      ]
     },
     "execution_count": 81,
     "metadata": {},
     "output_type": "execute_result"
    }
   ],
   "source": [
    "fitted_params(Final_Net)"
   ]
  },
  {
   "cell_type": "code",
   "execution_count": 82,
   "metadata": {
    "scrolled": true
   },
   "outputs": [
    {
     "data": {
      "text/plain": [
       "(training_losses = Any[0.66932636f0, 0.6344296f0, 0.60356635f0, 0.576627f0, 0.55337256f0, 0.5333697f0, 0.5161165f0, 0.5011453f0, 0.48806328f0, 0.4765533f0  …  0.32163554f0, 0.32163522f0, 0.32163486f0, 0.3216345f0, 0.32163426f0, 0.3216339f0, 0.32163364f0, 0.3216333f0, 0.321633f0, 0.32163274f0],)"
      ]
     },
     "execution_count": 82,
     "metadata": {},
     "output_type": "execute_result"
    }
   ],
   "source": [
    "report(Final_Net)"
   ]
  },
  {
   "cell_type": "code",
   "execution_count": null,
   "metadata": {},
   "outputs": [],
   "source": []
  },
  {
   "cell_type": "code",
   "execution_count": null,
   "metadata": {},
   "outputs": [],
   "source": []
  },
  {
   "cell_type": "code",
   "execution_count": null,
   "metadata": {},
   "outputs": [],
   "source": []
  },
  {
   "cell_type": "markdown",
   "metadata": {},
   "source": [
    "A lot slower than Holdout"
   ]
  },
  {
   "cell_type": "code",
   "execution_count": 83,
   "metadata": {},
   "outputs": [],
   "source": [
    "# self_tuning_nn_model = TunedModel(model=nn2,\n",
    "#                                     tuning=Grid(goal=50),\n",
    "#                                     resampling=CV(), \n",
    "#                                     measure=cross_entropy,\n",
    "#                                     acceleration=CPUThreads(),\n",
    "#                                     range=[r_its, r_lr])\n",
    "\n",
    "# self_tuning_nn = machine(self_tuning_nn_model, X_stand, y)"
   ]
  },
  {
   "cell_type": "code",
   "execution_count": 84,
   "metadata": {},
   "outputs": [],
   "source": [
    "# fit!(self_tuning_nn)"
   ]
  },
  {
   "cell_type": "code",
   "execution_count": 85,
   "metadata": {},
   "outputs": [],
   "source": [
    "# plot(self_tuning_nn)"
   ]
  }
 ],
 "metadata": {
  "kernelspec": {
   "display_name": "Julia 1.5.0",
   "language": "julia",
   "name": "julia-1.5"
  },
  "language_info": {
   "file_extension": ".jl",
   "mimetype": "application/julia",
   "name": "julia",
   "version": "1.5.0"
  }
 },
 "nbformat": 4,
 "nbformat_minor": 4
}
