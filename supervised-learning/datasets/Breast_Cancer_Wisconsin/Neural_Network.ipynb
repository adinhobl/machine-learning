{
 "cells": [
  {
   "cell_type": "markdown",
   "metadata": {},
   "source": [
    "# Imports"
   ]
  },
  {
   "cell_type": "code",
   "execution_count": 18,
   "metadata": {},
   "outputs": [],
   "source": [
    "using DataFrames\n",
    "using CSV\n",
    "using MLJ\n",
    "using Flux\n",
    "using Plots\n",
    "\n",
    "include(\"../../lib.jl\")\n",
    "\n",
    "ENV[\"LINES\"]=50;\n",
    "gr();"
   ]
  },
  {
   "cell_type": "markdown",
   "metadata": {},
   "source": [
    "# Datasets"
   ]
  },
  {
   "cell_type": "code",
   "execution_count": 19,
   "metadata": {},
   "outputs": [
    {
     "name": "stdout",
     "output_type": "stream",
     "text": [
      "thread = 1 warning: only found 32 / 33 columns around data row: 2. Filling remaining columns with `missing`\n",
      "thread = 1 warning: only found 32 / 33 columns around data row: 3. Filling remaining columns with `missing`\n",
      "thread = 1 warning: only found 32 / 33 columns around data row: 4. Filling remaining columns with `missing`\n",
      "thread = 1 warning: only found 32 / 33 columns around data row: 5. Filling remaining columns with `missing`\n",
      "thread = 1 warning: only found 32 / 33 columns around data row: 6. Filling remaining columns with `missing`\n",
      "thread = 1 warning: only found 32 / 33 columns around data row: 7. Filling remaining columns with `missing`\n",
      "thread = 1 warning: only found 32 / 33 columns around data row: 8. Filling remaining columns with `missing`\n",
      "thread = 1 warning: only found 32 / 33 columns around data row: 9. Filling remaining columns with `missing`\n",
      "thread = 1 warning: only found 32 / 33 columns around data row: 10. Filling remaining columns with `missing`\n",
      "thread = 1 warning: only found 32 / 33 columns around data row: 11. Filling remaining columns with `missing`\n",
      "thread = 1 warning: only found 32 / 33 columns around data row: 12. Filling remaining columns with `missing`\n",
      "thread = 1 warning: only found 32 / 33 columns around data row: 13. Filling remaining columns with `missing`\n",
      "thread = 1 warning: only found 32 / 33 columns around data row: 14. Filling remaining columns with `missing`\n",
      "thread = 1 warning: only found 32 / 33 columns around data row: 15. Filling remaining columns with `missing`\n",
      "thread = 1 warning: only found 32 / 33 columns around data row: 16. Filling remaining columns with `missing`\n",
      "thread = 1 warning: only found 32 / 33 columns around data row: 17. Filling remaining columns with `missing`\n",
      "thread = 1 warning: only found 32 / 33 columns around data row: 18. Filling remaining columns with `missing`\n",
      "thread = 1 warning: only found 32 / 33 columns around data row: 19. Filling remaining columns with `missing`\n",
      "thread = 1 warning: only found 32 / 33 columns around data row: 20. Filling remaining columns with `missing`\n",
      "thread = 1 warning: only found 32 / 33 columns around data row: 21. Filling remaining columns with `missing`\n",
      "thread = 1 warning: only found 32 / 33 columns around data row: 22. Filling remaining columns with `missing`\n",
      "thread = 1 warning: only found 32 / 33 columns around data row: 23. Filling remaining columns with `missing`\n",
      "thread = 1 warning: only found 32 / 33 columns around data row: 24. Filling remaining columns with `missing`\n",
      "thread = 1 warning: only found 32 / 33 columns around data row: 25. Filling remaining columns with `missing`\n",
      "thread = 1 warning: only found 32 / 33 columns around data row: 26. Filling remaining columns with `missing`\n",
      "thread = 1 warning: only found 32 / 33 columns around data row: 27. Filling remaining columns with `missing`\n",
      "thread = 1 warning: only found 32 / 33 columns around data row: 28. Filling remaining columns with `missing`\n",
      "thread = 1 warning: only found 32 / 33 columns around data row: 29. Filling remaining columns with `missing`\n",
      "thread = 1 warning: only found 32 / 33 columns around data row: 30. Filling remaining columns with `missing`\n",
      "thread = 1 warning: only found 32 / 33 columns around data row: 31. Filling remaining columns with `missing`\n",
      "thread = 1 warning: only found 32 / 33 columns around data row: 32. Filling remaining columns with `missing`\n",
      "thread = 1 warning: only found 32 / 33 columns around data row: 33. Filling remaining columns with `missing`\n",
      "thread = 1 warning: only found 32 / 33 columns around data row: 34. Filling remaining columns with `missing`\n",
      "thread = 1 warning: only found 32 / 33 columns around data row: 35. Filling remaining columns with `missing`\n",
      "thread = 1 warning: only found 32 / 33 columns around data row: 36. Filling remaining columns with `missing`\n",
      "thread = 1 warning: only found 32 / 33 columns around data row: 37. Filling remaining columns with `missing`\n",
      "thread = 1 warning: only found 32 / 33 columns around data row: 38. Filling remaining columns with `missing`\n",
      "thread = 1 warning: only found 32 / 33 columns around data row: 39. Filling remaining columns with `missing`\n",
      "thread = 1 warning: only found 32 / 33 columns around data row: 40. Filling remaining columns with `missing`\n",
      "thread = 1 warning: only found 32 / 33 columns around data row: 41. Filling remaining columns with `missing`\n",
      "thread = 1 warning: only found 32 / 33 columns around data row: 42. Filling remaining columns with `missing`\n",
      "thread = 1 warning: only found 32 / 33 columns around data row: 43. Filling remaining columns with `missing`\n",
      "thread = 1 warning: only found 32 / 33 columns around data row: 44. Filling remaining columns with `missing`\n",
      "thread = 1 warning: only found 32 / 33 columns around data row: 45. Filling remaining columns with `missing`\n",
      "thread = 1 warning: only found 32 / 33 columns around data row: 46. Filling remaining columns with `missing`\n",
      "thread = 1 warning: only found 32 / 33 columns around data row: 47. Filling remaining columns with `missing`\n",
      "thread = 1 warning: only found 32 / 33 columns around data row: 48. Filling remaining columns with `missing`\n",
      "thread = 1 warning: only found 32 / 33 columns around data row: 49. Filling remaining columns with `missing`\n",
      "thread = 1 warning: only found 32 / 33 columns around data row: 50. Filling remaining columns with `missing`\n",
      "thread = 1 warning: only found 32 / 33 columns around data row: 51. Filling remaining columns with `missing`\n",
      "thread = 1 warning: only found 32 / 33 columns around data row: 52. Filling remaining columns with `missing`\n",
      "thread = 1 warning: only found 32 / 33 columns around data row: 53. Filling remaining columns with `missing`\n",
      "thread = 1 warning: only found 32 / 33 columns around data row: 54. Filling remaining columns with `missing`\n",
      "thread = 1 warning: only found 32 / 33 columns around data row: 55. Filling remaining columns with `missing`\n",
      "thread = 1 warning: only found 32 / 33 columns around data row: 56. Filling remaining columns with `missing`\n",
      "thread = 1 warning: only found 32 / 33 columns around data row: 57. Filling remaining columns with `missing`\n",
      "thread = 1 warning: only found 32 / 33 columns around data row: 58. Filling remaining columns with `missing`\n",
      "thread = 1 warning: only found 32 / 33 columns around data row: 59. Filling remaining columns with `missing`\n",
      "thread = 1 warning: only found 32 / 33 columns around data row: 60. Filling remaining columns with `missing`\n",
      "thread = 1 warning: only found 32 / 33 columns around data row: 61. Filling remaining columns with `missing`\n",
      "thread = 1 warning: only found 32 / 33 columns around data row: 62. Filling remaining columns with `missing`\n",
      "thread = 1 warning: only found 32 / 33 columns around data row: 63. Filling remaining columns with `missing`\n",
      "thread = 1 warning: only found 32 / 33 columns around data row: 64. Filling remaining columns with `missing`\n",
      "thread = 1 warning: only found 32 / 33 columns around data row: 65. Filling remaining columns with `missing`\n",
      "thread = 1 warning: only found 32 / 33 columns around data row: 66. Filling remaining columns with `missing`\n",
      "thread = 1 warning: only found 32 / 33 columns around data row: 67. Filling remaining columns with `missing`\n",
      "thread = 1 warning: only found 32 / 33 columns around data row: 68. Filling remaining columns with `missing`\n",
      "thread = 1 warning: only found 32 / 33 columns around data row: 69. Filling remaining columns with `missing`\n",
      "thread = 1 warning: only found 32 / 33 columns around data row: 70. Filling remaining columns with `missing`\n",
      "thread = 1 warning: only found 32 / 33 columns around data row: 71. Filling remaining columns with `missing`\n",
      "thread = 1 warning: only found 32 / 33 columns around data row: 72. Filling remaining columns with `missing`\n",
      "thread = 1 warning: only found 32 / 33 columns around data row: 73. Filling remaining columns with `missing`\n",
      "thread = 1 warning: only found 32 / 33 columns around data row: 74. Filling remaining columns with `missing`\n",
      "thread = 1 warning: only found 32 / 33 columns around data row: 75. Filling remaining columns with `missing`\n",
      "thread = 1 warning: only found 32 / 33 columns around data row: 76. Filling remaining columns with `missing`\n",
      "thread = 1 warning: only found 32 / 33 columns around data row: 77. Filling remaining columns with `missing`\n",
      "thread = 1 warning: only found 32 / 33 columns around data row: 78. Filling remaining columns with `missing`\n",
      "thread = 1 warning: only found 32 / 33 columns around data row: 79. Filling remaining columns with `missing`\n",
      "thread = 1 warning: only found 32 / 33 columns around data row: 80. Filling remaining columns with `missing`\n",
      "thread = 1 warning: only found 32 / 33 columns around data row: 81. Filling remaining columns with `missing`\n",
      "thread = 1 warning: only found 32 / 33 columns around data row: 82. Filling remaining columns with `missing`\n",
      "thread = 1 warning: only found 32 / 33 columns around data row: 83. Filling remaining columns with `missing`\n",
      "thread = 1 warning: only found 32 / 33 columns around data row: 84. Filling remaining columns with `missing`\n",
      "thread = 1 warning: only found 32 / 33 columns around data row: 85. Filling remaining columns with `missing`\n",
      "thread = 1 warning: only found 32 / 33 columns around data row: 86. Filling remaining columns with `missing`\n",
      "thread = 1 warning: only found 32 / 33 columns around data row: 87. Filling remaining columns with `missing`\n",
      "thread = 1 warning: only found 32 / 33 columns around data row: 88. Filling remaining columns with `missing`\n",
      "thread = 1 warning: only found 32 / 33 columns around data row: 89. Filling remaining columns with `missing`\n",
      "thread = 1 warning: only found 32 / 33 columns around data row: 90. Filling remaining columns with `missing`\n",
      "thread = 1 warning: only found 32 / 33 columns around data row: 91. Filling remaining columns with `missing`\n",
      "thread = 1 warning: only found 32 / 33 columns around data row: 92. Filling remaining columns with `missing`\n",
      "thread = 1 warning: only found 32 / 33 columns around data row: 93. Filling remaining columns with `missing`\n",
      "thread = 1 warning: only found 32 / 33 columns around data row: 94. Filling remaining columns with `missing`\n",
      "thread = 1 warning: only found 32 / 33 columns around data row: 95. Filling remaining columns with `missing`\n",
      "thread = 1 warning: only found 32 / 33 columns around data row: 96. Filling remaining columns with `missing`\n"
     ]
    },
    {
     "name": "stdout",
     "output_type": "stream",
     "text": [
      "thread = 1 warning: only found 32 / 33 columns around data row: 97. Filling remaining columns with `missing`\n",
      "thread = 1 warning: only found 32 / 33 columns around data row: 98. Filling remaining columns with `missing`\n",
      "thread = 1 warning: only found 32 / 33 columns around data row: 99. Filling remaining columns with `missing`\n",
      "thread = 1 warning: only found 32 / 33 columns around data row: 100. Filling remaining columns with `missing`\n",
      "thread = 1 warning: only found 32 / 33 columns around data row: 101. Filling remaining columns with `missing`\n",
      "thread = 1 warning: only found 32 / 33 columns around data row: 102. Filling remaining columns with `missing`\n",
      "thread = 1 warning: only found 32 / 33 columns around data row: 103. Filling remaining columns with `missing`\n",
      "thread = 1 warning: only found 32 / 33 columns around data row: 104. Filling remaining columns with `missing`\n",
      "thread = 1 warning: only found 32 / 33 columns around data row: 105. Filling remaining columns with `missing`\n",
      "thread = 1 warning: only found 32 / 33 columns around data row: 106. Filling remaining columns with `missing`\n",
      "thread = 1 warning: only found 32 / 33 columns around data row: 107. Filling remaining columns with `missing`\n",
      "thread = 1 warning: only found 32 / 33 columns around data row: 108. Filling remaining columns with `missing`\n",
      "thread = 1 warning: only found 32 / 33 columns around data row: 109. Filling remaining columns with `missing`\n",
      "thread = 1 warning: only found 32 / 33 columns around data row: 110. Filling remaining columns with `missing`\n",
      "thread = 1 warning: only found 32 / 33 columns around data row: 111. Filling remaining columns with `missing`\n",
      "thread = 1 warning: only found 32 / 33 columns around data row: 112. Filling remaining columns with `missing`\n",
      "thread = 1 warning: only found 32 / 33 columns around data row: 113. Filling remaining columns with `missing`\n",
      "thread = 1 warning: only found 32 / 33 columns around data row: 114. Filling remaining columns with `missing`\n",
      "thread = 1 warning: only found 32 / 33 columns around data row: 115. Filling remaining columns with `missing`\n",
      "thread = 1 warning: only found 32 / 33 columns around data row: 116. Filling remaining columns with `missing`\n",
      "thread = 1 warning: only found 32 / 33 columns around data row: 117. Filling remaining columns with `missing`\n",
      "thread = 1 warning: only found 32 / 33 columns around data row: 118. Filling remaining columns with `missing`\n",
      "thread = 1 warning: only found 32 / 33 columns around data row: 119. Filling remaining columns with `missing`\n",
      "thread = 1 warning: only found 32 / 33 columns around data row: 120. Filling remaining columns with `missing`\n",
      "thread = 1 warning: only found 32 / 33 columns around data row: 121. Filling remaining columns with `missing`\n",
      "thread = 1 warning: only found 32 / 33 columns around data row: 122. Filling remaining columns with `missing`\n",
      "thread = 1 warning: only found 32 / 33 columns around data row: 123. Filling remaining columns with `missing`\n",
      "thread = 1 warning: only found 32 / 33 columns around data row: 124. Filling remaining columns with `missing`\n",
      "thread = 1 warning: only found 32 / 33 columns around data row: 125. Filling remaining columns with `missing`\n",
      "thread = 1 warning: only found 32 / 33 columns around data row: 126. Filling remaining columns with `missing`\n",
      "thread = 1 warning: only found 32 / 33 columns around data row: 127. Filling remaining columns with `missing`\n",
      "thread = 1 warning: only found 32 / 33 columns around data row: 128. Filling remaining columns with `missing`\n",
      "thread = 1 warning: only found 32 / 33 columns around data row: 129. Filling remaining columns with `missing`\n",
      "thread = 1 warning: only found 32 / 33 columns around data row: 130. Filling remaining columns with `missing`\n",
      "thread = 1 warning: only found 32 / 33 columns around data row: 131. Filling remaining columns with `missing`\n",
      "thread = 1 warning: only found 32 / 33 columns around data row: 132. Filling remaining columns with `missing`\n",
      "thread = 1 warning: only found 32 / 33 columns around data row: 133. Filling remaining columns with `missing`\n",
      "thread = 1 warning: only found 32 / 33 columns around data row: 134. Filling remaining columns with `missing`\n",
      "thread = 1 warning: only found 32 / 33 columns around data row: 135. Filling remaining columns with `missing`\n",
      "thread = 1 warning: only found 32 / 33 columns around data row: 136. Filling remaining columns with `missing`\n",
      "thread = 1 warning: only found 32 / 33 columns around data row: 137. Filling remaining columns with `missing`\n",
      "thread = 1 warning: only found 32 / 33 columns around data row: 138. Filling remaining columns with `missing`\n",
      "thread = 1 warning: only found 32 / 33 columns around data row: 139. Filling remaining columns with `missing`\n",
      "thread = 1 warning: only found 32 / 33 columns around data row: 140. Filling remaining columns with `missing`\n",
      "thread = 1 warning: only found 32 / 33 columns around data row: 141. Filling remaining columns with `missing`\n",
      "thread = 1 warning: only found 32 / 33 columns around data row: 142. Filling remaining columns with `missing`\n",
      "thread = 1 warning: only found 32 / 33 columns around data row: 143. Filling remaining columns with `missing`\n",
      "thread = 1 warning: only found 32 / 33 columns around data row: 144. Filling remaining columns with `missing`\n",
      "thread = 1 warning: only found 32 / 33 columns around data row: 145. Filling remaining columns with `missing`\n",
      "thread = 1 warning: only found 32 / 33 columns around data row: 146. Filling remaining columns with `missing`\n",
      "thread = 1 warning: only found 32 / 33 columns around data row: 147. Filling remaining columns with `missing`\n",
      "thread = 1 warning: only found 32 / 33 columns around data row: 148. Filling remaining columns with `missing`\n",
      "thread = 1 warning: only found 32 / 33 columns around data row: 149. Filling remaining columns with `missing`\n",
      "thread = 1 warning: only found 32 / 33 columns around data row: 150. Filling remaining columns with `missing`\n",
      "thread = 1 warning: only found 32 / 33 columns around data row: 151. Filling remaining columns with `missing`\n",
      "thread = 1 warning: only found 32 / 33 columns around data row: 152. Filling remaining columns with `missing`\n",
      "thread = 1 warning: only found 32 / 33 columns around data row: 153. Filling remaining columns with `missing`\n",
      "thread = 1 warning: only found 32 / 33 columns around data row: 154. Filling remaining columns with `missing`\n",
      "thread = 1 warning: only found 32 / 33 columns around data row: 155. Filling remaining columns with `missing`\n",
      "thread = 1 warning: only found 32 / 33 columns around data row: 156. Filling remaining columns with `missing`\n",
      "thread = 1 warning: only found 32 / 33 columns around data row: 157. Filling remaining columns with `missing`\n",
      "thread = 1 warning: only found 32 / 33 columns around data row: 158. Filling remaining columns with `missing`\n",
      "thread = 1 warning: only found 32 / 33 columns around data row: 159. Filling remaining columns with `missing`\n",
      "thread = 1 warning: only found 32 / 33 columns around data row: 160. Filling remaining columns with `missing`\n",
      "thread = 1 warning: only found 32 / 33 columns around data row: 161. Filling remaining columns with `missing`\n",
      "thread = 1 warning: only found 32 / 33 columns around data row: 162. Filling remaining columns with `missing`\n",
      "thread = 1 warning: only found 32 / 33 columns around data row: 163. Filling remaining columns with `missing`\n",
      "thread = 1 warning: only found 32 / 33 columns around data row: 164. Filling remaining columns with `missing`\n",
      "thread = 1 warning: only found 32 / 33 columns around data row: 165. Filling remaining columns with `missing`\n",
      "thread = 1 warning: only found 32 / 33 columns around data row: 166. Filling remaining columns with `missing`\n",
      "thread = 1 warning: only found 32 / 33 columns around data row: 167. Filling remaining columns with `missing`\n",
      "thread = 1 warning: only found 32 / 33 columns around data row: 168. Filling remaining columns with `missing`\n",
      "thread = 1 warning: only found 32 / 33 columns around data row: 169. Filling remaining columns with `missing`\n",
      "thread = 1 warning: only found 32 / 33 columns around data row: 170. Filling remaining columns with `missing`\n",
      "thread = 1 warning: only found 32 / 33 columns around data row: 171. Filling remaining columns with `missing`\n",
      "thread = 1 warning: only found 32 / 33 columns around data row: 172. Filling remaining columns with `missing`\n",
      "thread = 1 warning: only found 32 / 33 columns around data row: 173. Filling remaining columns with `missing`\n",
      "thread = 1 warning: only found 32 / 33 columns around data row: 174. Filling remaining columns with `missing`\n",
      "thread = 1 warning: only found 32 / 33 columns around data row: 175. Filling remaining columns with `missing`\n",
      "thread = 1 warning: only found 32 / 33 columns around data row: 176. Filling remaining columns with `missing`\n",
      "thread = 1 warning: only found 32 / 33 columns around data row: 177. Filling remaining columns with `missing`\n",
      "thread = 1 warning: only found 32 / 33 columns around data row: 178. Filling remaining columns with `missing`\n",
      "thread = 1 warning: only found 32 / 33 columns around data row: 179. Filling remaining columns with `missing`\n",
      "thread = 1 warning: only found 32 / 33 columns around data row: 180. Filling remaining columns with `missing`\n",
      "thread = 1 warning: only found 32 / 33 columns around data row: 181. Filling remaining columns with `missing`\n",
      "thread = 1 warning: only found 32 / 33 columns around data row: 182. Filling remaining columns with `missing`\n",
      "thread = 1 warning: only found 32 / 33 columns around data row: 183. Filling remaining columns with `missing`\n",
      "thread = 1 warning: only found 32 / 33 columns around data row: 184. Filling remaining columns with `missing`\n",
      "thread = 1 warning: only found 32 / 33 columns around data row: 185. Filling remaining columns with `missing`\n",
      "thread = 1 warning: only found 32 / 33 columns around data row: 186. Filling remaining columns with `missing`\n",
      "thread = 1 warning: only found 32 / 33 columns around data row: 187. Filling remaining columns with `missing`\n",
      "thread = 1 warning: only found 32 / 33 columns around data row: 188. Filling remaining columns with `missing`\n",
      "thread = 1 warning: only found 32 / 33 columns around data row: 189. Filling remaining columns with `missing`\n",
      "thread = 1 warning: only found 32 / 33 columns around data row: 190. Filling remaining columns with `missing`\n"
     ]
    },
    {
     "name": "stdout",
     "output_type": "stream",
     "text": [
      "thread = 1 warning: only found 32 / 33 columns around data row: 191. Filling remaining columns with `missing`\n",
      "thread = 1 warning: only found 32 / 33 columns around data row: 192. Filling remaining columns with `missing`\n",
      "thread = 1 warning: only found 32 / 33 columns around data row: 193. Filling remaining columns with `missing`\n",
      "thread = 1 warning: only found 32 / 33 columns around data row: 194. Filling remaining columns with `missing`\n",
      "thread = 1 warning: only found 32 / 33 columns around data row: 195. Filling remaining columns with `missing`\n",
      "thread = 1 warning: only found 32 / 33 columns around data row: 196. Filling remaining columns with `missing`\n",
      "thread = 1 warning: only found 32 / 33 columns around data row: 197. Filling remaining columns with `missing`\n",
      "thread = 1 warning: only found 32 / 33 columns around data row: 198. Filling remaining columns with `missing`\n",
      "thread = 1 warning: only found 32 / 33 columns around data row: 199. Filling remaining columns with `missing`\n",
      "thread = 1 warning: only found 32 / 33 columns around data row: 200. Filling remaining columns with `missing`\n",
      "thread = 1 warning: only found 32 / 33 columns around data row: 201. Filling remaining columns with `missing`\n",
      "thread = 1 warning: only found 32 / 33 columns around data row: 202. Filling remaining columns with `missing`\n",
      "thread = 1 warning: only found 32 / 33 columns around data row: 203. Filling remaining columns with `missing`\n",
      "thread = 1 warning: only found 32 / 33 columns around data row: 204. Filling remaining columns with `missing`\n",
      "thread = 1 warning: only found 32 / 33 columns around data row: 205. Filling remaining columns with `missing`\n",
      "thread = 1 warning: only found 32 / 33 columns around data row: 206. Filling remaining columns with `missing`\n",
      "thread = 1 warning: only found 32 / 33 columns around data row: 207. Filling remaining columns with `missing`\n",
      "thread = 1 warning: only found 32 / 33 columns around data row: 208. Filling remaining columns with `missing`\n",
      "thread = 1 warning: only found 32 / 33 columns around data row: 209. Filling remaining columns with `missing`\n",
      "thread = 1 warning: only found 32 / 33 columns around data row: 210. Filling remaining columns with `missing`\n",
      "thread = 1 warning: only found 32 / 33 columns around data row: 211. Filling remaining columns with `missing`\n",
      "thread = 1 warning: only found 32 / 33 columns around data row: 212. Filling remaining columns with `missing`\n",
      "thread = 1 warning: only found 32 / 33 columns around data row: 213. Filling remaining columns with `missing`\n",
      "thread = 1 warning: only found 32 / 33 columns around data row: 214. Filling remaining columns with `missing`\n",
      "thread = 1 warning: only found 32 / 33 columns around data row: 215. Filling remaining columns with `missing`\n",
      "thread = 1 warning: only found 32 / 33 columns around data row: 216. Filling remaining columns with `missing`\n",
      "thread = 1 warning: only found 32 / 33 columns around data row: 217. Filling remaining columns with `missing`\n",
      "thread = 1 warning: only found 32 / 33 columns around data row: 218. Filling remaining columns with `missing`\n",
      "thread = 1 warning: only found 32 / 33 columns around data row: 219. Filling remaining columns with `missing`\n",
      "thread = 1 warning: only found 32 / 33 columns around data row: 220. Filling remaining columns with `missing`\n",
      "thread = 1 warning: only found 32 / 33 columns around data row: 221. Filling remaining columns with `missing`\n",
      "thread = 1 warning: only found 32 / 33 columns around data row: 222. Filling remaining columns with `missing`\n",
      "thread = 1 warning: only found 32 / 33 columns around data row: 223. Filling remaining columns with `missing`\n",
      "thread = 1 warning: only found 32 / 33 columns around data row: 224. Filling remaining columns with `missing`\n",
      "thread = 1 warning: only found 32 / 33 columns around data row: 225. Filling remaining columns with `missing`\n",
      "thread = 1 warning: only found 32 / 33 columns around data row: 226. Filling remaining columns with `missing`\n",
      "thread = 1 warning: only found 32 / 33 columns around data row: 227. Filling remaining columns with `missing`\n",
      "thread = 1 warning: only found 32 / 33 columns around data row: 228. Filling remaining columns with `missing`\n",
      "thread = 1 warning: only found 32 / 33 columns around data row: 229. Filling remaining columns with `missing`\n",
      "thread = 1 warning: only found 32 / 33 columns around data row: 230. Filling remaining columns with `missing`\n",
      "thread = 1 warning: only found 32 / 33 columns around data row: 231. Filling remaining columns with `missing`\n",
      "thread = 1 warning: only found 32 / 33 columns around data row: 232. Filling remaining columns with `missing`\n",
      "thread = 1 warning: only found 32 / 33 columns around data row: 233. Filling remaining columns with `missing`\n",
      "thread = 1 warning: only found 32 / 33 columns around data row: 234. Filling remaining columns with `missing`\n",
      "thread = 1 warning: only found 32 / 33 columns around data row: 235. Filling remaining columns with `missing`\n",
      "thread = 1 warning: only found 32 / 33 columns around data row: 236. Filling remaining columns with `missing`\n",
      "thread = 1 warning: only found 32 / 33 columns around data row: 237. Filling remaining columns with `missing`\n",
      "thread = 1 warning: only found 32 / 33 columns around data row: 238. Filling remaining columns with `missing`\n",
      "thread = 1 warning: only found 32 / 33 columns around data row: 239. Filling remaining columns with `missing`\n",
      "thread = 1 warning: only found 32 / 33 columns around data row: 240. Filling remaining columns with `missing`\n",
      "thread = 1 warning: only found 32 / 33 columns around data row: 241. Filling remaining columns with `missing`\n",
      "thread = 1 warning: only found 32 / 33 columns around data row: 242. Filling remaining columns with `missing`\n",
      "thread = 1 warning: only found 32 / 33 columns around data row: 243. Filling remaining columns with `missing`\n",
      "thread = 1 warning: only found 32 / 33 columns around data row: 244. Filling remaining columns with `missing`\n",
      "thread = 1 warning: only found 32 / 33 columns around data row: 245. Filling remaining columns with `missing`\n",
      "thread = 1 warning: only found 32 / 33 columns around data row: 246. Filling remaining columns with `missing`\n",
      "thread = 1 warning: only found 32 / 33 columns around data row: 247. Filling remaining columns with `missing`\n",
      "thread = 1 warning: only found 32 / 33 columns around data row: 248. Filling remaining columns with `missing`\n",
      "thread = 1 warning: only found 32 / 33 columns around data row: 249. Filling remaining columns with `missing`\n",
      "thread = 1 warning: only found 32 / 33 columns around data row: 250. Filling remaining columns with `missing`\n",
      "thread = 1 warning: only found 32 / 33 columns around data row: 251. Filling remaining columns with `missing`\n",
      "thread = 1 warning: only found 32 / 33 columns around data row: 252. Filling remaining columns with `missing`\n",
      "thread = 1 warning: only found 32 / 33 columns around data row: 253. Filling remaining columns with `missing`\n",
      "thread = 1 warning: only found 32 / 33 columns around data row: 254. Filling remaining columns with `missing`\n",
      "thread = 1 warning: only found 32 / 33 columns around data row: 255. Filling remaining columns with `missing`\n",
      "thread = 1 warning: only found 32 / 33 columns around data row: 256. Filling remaining columns with `missing`\n",
      "thread = 1 warning: only found 32 / 33 columns around data row: 257. Filling remaining columns with `missing`\n",
      "thread = 1 warning: only found 32 / 33 columns around data row: 258. Filling remaining columns with `missing`\n",
      "thread = 1 warning: only found 32 / 33 columns around data row: 259. Filling remaining columns with `missing`\n",
      "thread = 1 warning: only found 32 / 33 columns around data row: 260. Filling remaining columns with `missing`\n",
      "thread = 1 warning: only found 32 / 33 columns around data row: 261. Filling remaining columns with `missing`\n",
      "thread = 1 warning: only found 32 / 33 columns around data row: 262. Filling remaining columns with `missing`\n",
      "thread = 1 warning: only found 32 / 33 columns around data row: 263. Filling remaining columns with `missing`\n",
      "thread = 1 warning: only found 32 / 33 columns around data row: 264. Filling remaining columns with `missing`\n",
      "thread = 1 warning: only found 32 / 33 columns around data row: 265. Filling remaining columns with `missing`\n",
      "thread = 1 warning: only found 32 / 33 columns around data row: 266. Filling remaining columns with `missing`\n",
      "thread = 1 warning: only found 32 / 33 columns around data row: 267. Filling remaining columns with `missing`\n",
      "thread = 1 warning: only found 32 / 33 columns around data row: 268. Filling remaining columns with `missing`\n",
      "thread = 1 warning: only found 32 / 33 columns around data row: 269. Filling remaining columns with `missing`\n",
      "thread = 1 warning: only found 32 / 33 columns around data row: 270. Filling remaining columns with `missing`\n",
      "thread = 1 warning: only found 32 / 33 columns around data row: 271. Filling remaining columns with `missing`\n",
      "thread = 1 warning: only found 32 / 33 columns around data row: 272. Filling remaining columns with `missing`\n",
      "thread = 1 warning: only found 32 / 33 columns around data row: 273. Filling remaining columns with `missing`\n",
      "thread = 1 warning: only found 32 / 33 columns around data row: 274. Filling remaining columns with `missing`\n",
      "thread = 1 warning: only found 32 / 33 columns around data row: 275. Filling remaining columns with `missing`\n",
      "thread = 1 warning: only found 32 / 33 columns around data row: 276. Filling remaining columns with `missing`\n",
      "thread = 1 warning: only found 32 / 33 columns around data row: 277. Filling remaining columns with `missing`\n",
      "thread = 1 warning: only found 32 / 33 columns around data row: 278. Filling remaining columns with `missing`\n",
      "thread = 1 warning: only found 32 / 33 columns around data row: 279. Filling remaining columns with `missing`\n",
      "thread = 1 warning: only found 32 / 33 columns around data row: 280. Filling remaining columns with `missing`\n",
      "thread = 1 warning: only found 32 / 33 columns around data row: 281. Filling remaining columns with `missing`\n",
      "thread = 1 warning: only found 32 / 33 columns around data row: 282. Filling remaining columns with `missing`\n",
      "thread = 1 warning: only found 32 / 33 columns around data row: 283. Filling remaining columns with `missing`\n",
      "thread = 1 warning: only found 32 / 33 columns around data row: 284. Filling remaining columns with `missing`\n"
     ]
    },
    {
     "name": "stdout",
     "output_type": "stream",
     "text": [
      "thread = 1 warning: only found 32 / 33 columns around data row: 285. Filling remaining columns with `missing`\n",
      "thread = 1 warning: only found 32 / 33 columns around data row: 286. Filling remaining columns with `missing`\n",
      "thread = 1 warning: only found 32 / 33 columns around data row: 287. Filling remaining columns with `missing`\n",
      "thread = 1 warning: only found 32 / 33 columns around data row: 288. Filling remaining columns with `missing`\n",
      "thread = 1 warning: only found 32 / 33 columns around data row: 289. Filling remaining columns with `missing`\n",
      "thread = 1 warning: only found 32 / 33 columns around data row: 290. Filling remaining columns with `missing`\n",
      "thread = 1 warning: only found 32 / 33 columns around data row: 291. Filling remaining columns with `missing`\n",
      "thread = 1 warning: only found 32 / 33 columns around data row: 292. Filling remaining columns with `missing`\n",
      "thread = 1 warning: only found 32 / 33 columns around data row: 293. Filling remaining columns with `missing`\n",
      "thread = 1 warning: only found 32 / 33 columns around data row: 294. Filling remaining columns with `missing`\n",
      "thread = 1 warning: only found 32 / 33 columns around data row: 295. Filling remaining columns with `missing`\n",
      "thread = 1 warning: only found 32 / 33 columns around data row: 296. Filling remaining columns with `missing`\n",
      "thread = 1 warning: only found 32 / 33 columns around data row: 297. Filling remaining columns with `missing`\n",
      "thread = 1 warning: only found 32 / 33 columns around data row: 298. Filling remaining columns with `missing`\n",
      "thread = 1 warning: only found 32 / 33 columns around data row: 299. Filling remaining columns with `missing`\n",
      "thread = 1 warning: only found 32 / 33 columns around data row: 300. Filling remaining columns with `missing`\n",
      "thread = 1 warning: only found 32 / 33 columns around data row: 301. Filling remaining columns with `missing`\n",
      "thread = 1 warning: only found 32 / 33 columns around data row: 302. Filling remaining columns with `missing`\n",
      "thread = 1 warning: only found 32 / 33 columns around data row: 303. Filling remaining columns with `missing`\n",
      "thread = 1 warning: only found 32 / 33 columns around data row: 304. Filling remaining columns with `missing`\n",
      "thread = 1 warning: only found 32 / 33 columns around data row: 305. Filling remaining columns with `missing`\n",
      "thread = 1 warning: only found 32 / 33 columns around data row: 306. Filling remaining columns with `missing`\n",
      "thread = 1 warning: only found 32 / 33 columns around data row: 307. Filling remaining columns with `missing`\n",
      "thread = 1 warning: only found 32 / 33 columns around data row: 308. Filling remaining columns with `missing`\n",
      "thread = 1 warning: only found 32 / 33 columns around data row: 309. Filling remaining columns with `missing`\n",
      "thread = 1 warning: only found 32 / 33 columns around data row: 310. Filling remaining columns with `missing`\n",
      "thread = 1 warning: only found 32 / 33 columns around data row: 311. Filling remaining columns with `missing`\n",
      "thread = 1 warning: only found 32 / 33 columns around data row: 312. Filling remaining columns with `missing`\n",
      "thread = 1 warning: only found 32 / 33 columns around data row: 313. Filling remaining columns with `missing`\n",
      "thread = 1 warning: only found 32 / 33 columns around data row: 314. Filling remaining columns with `missing`\n",
      "thread = 1 warning: only found 32 / 33 columns around data row: 315. Filling remaining columns with `missing`\n",
      "thread = 1 warning: only found 32 / 33 columns around data row: 316. Filling remaining columns with `missing`\n",
      "thread = 1 warning: only found 32 / 33 columns around data row: 317. Filling remaining columns with `missing`\n",
      "thread = 1 warning: only found 32 / 33 columns around data row: 318. Filling remaining columns with `missing`\n",
      "thread = 1 warning: only found 32 / 33 columns around data row: 319. Filling remaining columns with `missing`\n",
      "thread = 1 warning: only found 32 / 33 columns around data row: 320. Filling remaining columns with `missing`\n",
      "thread = 1 warning: only found 32 / 33 columns around data row: 321. Filling remaining columns with `missing`\n",
      "thread = 1 warning: only found 32 / 33 columns around data row: 322. Filling remaining columns with `missing`\n",
      "thread = 1 warning: only found 32 / 33 columns around data row: 323. Filling remaining columns with `missing`\n",
      "thread = 1 warning: only found 32 / 33 columns around data row: 324. Filling remaining columns with `missing`\n",
      "thread = 1 warning: only found 32 / 33 columns around data row: 325. Filling remaining columns with `missing`\n",
      "thread = 1 warning: only found 32 / 33 columns around data row: 326. Filling remaining columns with `missing`\n",
      "thread = 1 warning: only found 32 / 33 columns around data row: 327. Filling remaining columns with `missing`\n",
      "thread = 1 warning: only found 32 / 33 columns around data row: 328. Filling remaining columns with `missing`\n",
      "thread = 1 warning: only found 32 / 33 columns around data row: 329. Filling remaining columns with `missing`\n",
      "thread = 1 warning: only found 32 / 33 columns around data row: 330. Filling remaining columns with `missing`\n",
      "thread = 1 warning: only found 32 / 33 columns around data row: 331. Filling remaining columns with `missing`\n",
      "thread = 1 warning: only found 32 / 33 columns around data row: 332. Filling remaining columns with `missing`\n",
      "thread = 1 warning: only found 32 / 33 columns around data row: 333. Filling remaining columns with `missing`\n",
      "thread = 1 warning: only found 32 / 33 columns around data row: 334. Filling remaining columns with `missing`\n",
      "thread = 1 warning: only found 32 / 33 columns around data row: 335. Filling remaining columns with `missing`\n",
      "thread = 1 warning: only found 32 / 33 columns around data row: 336. Filling remaining columns with `missing`\n",
      "thread = 1 warning: only found 32 / 33 columns around data row: 337. Filling remaining columns with `missing`\n",
      "thread = 1 warning: only found 32 / 33 columns around data row: 338. Filling remaining columns with `missing`\n",
      "thread = 1 warning: only found 32 / 33 columns around data row: 339. Filling remaining columns with `missing`\n",
      "thread = 1 warning: only found 32 / 33 columns around data row: 340. Filling remaining columns with `missing`\n",
      "thread = 1 warning: only found 32 / 33 columns around data row: 341. Filling remaining columns with `missing`\n",
      "thread = 1 warning: only found 32 / 33 columns around data row: 342. Filling remaining columns with `missing`\n",
      "thread = 1 warning: only found 32 / 33 columns around data row: 343. Filling remaining columns with `missing`\n",
      "thread = 1 warning: only found 32 / 33 columns around data row: 344. Filling remaining columns with `missing`\n",
      "thread = 1 warning: only found 32 / 33 columns around data row: 345. Filling remaining columns with `missing`\n",
      "thread = 1 warning: only found 32 / 33 columns around data row: 346. Filling remaining columns with `missing`\n",
      "thread = 1 warning: only found 32 / 33 columns around data row: 347. Filling remaining columns with `missing`\n",
      "thread = 1 warning: only found 32 / 33 columns around data row: 348. Filling remaining columns with `missing`\n",
      "thread = 1 warning: only found 32 / 33 columns around data row: 349. Filling remaining columns with `missing`\n",
      "thread = 1 warning: only found 32 / 33 columns around data row: 350. Filling remaining columns with `missing`\n",
      "thread = 1 warning: only found 32 / 33 columns around data row: 351. Filling remaining columns with `missing`\n",
      "thread = 1 warning: only found 32 / 33 columns around data row: 352. Filling remaining columns with `missing`\n",
      "thread = 1 warning: only found 32 / 33 columns around data row: 353. Filling remaining columns with `missing`\n",
      "thread = 1 warning: only found 32 / 33 columns around data row: 354. Filling remaining columns with `missing`\n",
      "thread = 1 warning: only found 32 / 33 columns around data row: 355. Filling remaining columns with `missing`\n",
      "thread = 1 warning: only found 32 / 33 columns around data row: 356. Filling remaining columns with `missing`\n",
      "thread = 1 warning: only found 32 / 33 columns around data row: 357. Filling remaining columns with `missing`\n",
      "thread = 1 warning: only found 32 / 33 columns around data row: 358. Filling remaining columns with `missing`\n",
      "thread = 1 warning: only found 32 / 33 columns around data row: 359. Filling remaining columns with `missing`\n",
      "thread = 1 warning: only found 32 / 33 columns around data row: 360. Filling remaining columns with `missing`\n",
      "thread = 1 warning: only found 32 / 33 columns around data row: 361. Filling remaining columns with `missing`\n",
      "thread = 1 warning: only found 32 / 33 columns around data row: 362. Filling remaining columns with `missing`\n",
      "thread = 1 warning: only found 32 / 33 columns around data row: 363. Filling remaining columns with `missing`\n",
      "thread = 1 warning: only found 32 / 33 columns around data row: 364. Filling remaining columns with `missing`\n",
      "thread = 1 warning: only found 32 / 33 columns around data row: 365. Filling remaining columns with `missing`\n",
      "thread = 1 warning: only found 32 / 33 columns around data row: 366. Filling remaining columns with `missing`\n",
      "thread = 1 warning: only found 32 / 33 columns around data row: 367. Filling remaining columns with `missing`\n",
      "thread = 1 warning: only found 32 / 33 columns around data row: 368. Filling remaining columns with `missing`\n",
      "thread = 1 warning: only found 32 / 33 columns around data row: 369. Filling remaining columns with `missing`\n",
      "thread = 1 warning: only found 32 / 33 columns around data row: 370. Filling remaining columns with `missing`\n",
      "thread = 1 warning: only found 32 / 33 columns around data row: 371. Filling remaining columns with `missing`\n",
      "thread = 1 warning: only found 32 / 33 columns around data row: 372. Filling remaining columns with `missing`\n",
      "thread = 1 warning: only found 32 / 33 columns around data row: 373. Filling remaining columns with `missing`\n",
      "thread = 1 warning: only found 32 / 33 columns around data row: 374. Filling remaining columns with `missing`\n",
      "thread = 1 warning: only found 32 / 33 columns around data row: 375. Filling remaining columns with `missing`\n",
      "thread = 1 warning: only found 32 / 33 columns around data row: 376. Filling remaining columns with `missing`\n",
      "thread = 1 warning: only found 32 / 33 columns around data row: 377. Filling remaining columns with `missing`\n",
      "thread = 1 warning: only found 32 / 33 columns around data row: 378. Filling remaining columns with `missing`\n"
     ]
    },
    {
     "name": "stdout",
     "output_type": "stream",
     "text": [
      "thread = 1 warning: only found 32 / 33 columns around data row: 379. Filling remaining columns with `missing`\n",
      "thread = 1 warning: only found 32 / 33 columns around data row: 380. Filling remaining columns with `missing`\n",
      "thread = 1 warning: only found 32 / 33 columns around data row: 381. Filling remaining columns with `missing`\n",
      "thread = 1 warning: only found 32 / 33 columns around data row: 382. Filling remaining columns with `missing`\n",
      "thread = 1 warning: only found 32 / 33 columns around data row: 383. Filling remaining columns with `missing`\n",
      "thread = 1 warning: only found 32 / 33 columns around data row: 384. Filling remaining columns with `missing`\n",
      "thread = 1 warning: only found 32 / 33 columns around data row: 385. Filling remaining columns with `missing`\n",
      "thread = 1 warning: only found 32 / 33 columns around data row: 386. Filling remaining columns with `missing`\n",
      "thread = 1 warning: only found 32 / 33 columns around data row: 387. Filling remaining columns with `missing`\n",
      "thread = 1 warning: only found 32 / 33 columns around data row: 388. Filling remaining columns with `missing`\n",
      "thread = 1 warning: only found 32 / 33 columns around data row: 389. Filling remaining columns with `missing`\n",
      "thread = 1 warning: only found 32 / 33 columns around data row: 390. Filling remaining columns with `missing`\n",
      "thread = 1 warning: only found 32 / 33 columns around data row: 391. Filling remaining columns with `missing`\n",
      "thread = 1 warning: only found 32 / 33 columns around data row: 392. Filling remaining columns with `missing`\n",
      "thread = 1 warning: only found 32 / 33 columns around data row: 393. Filling remaining columns with `missing`\n",
      "thread = 1 warning: only found 32 / 33 columns around data row: 394. Filling remaining columns with `missing`\n",
      "thread = 1 warning: only found 32 / 33 columns around data row: 395. Filling remaining columns with `missing`\n",
      "thread = 1 warning: only found 32 / 33 columns around data row: 396. Filling remaining columns with `missing`\n",
      "thread = 1 warning: only found 32 / 33 columns around data row: 397. Filling remaining columns with `missing`\n",
      "thread = 1 warning: only found 32 / 33 columns around data row: 398. Filling remaining columns with `missing`\n",
      "thread = 1 warning: only found 32 / 33 columns around data row: 399. Filling remaining columns with `missing`\n",
      "thread = 1 warning: only found 32 / 33 columns around data row: 400. Filling remaining columns with `missing`\n",
      "thread = 1 warning: only found 32 / 33 columns around data row: 401. Filling remaining columns with `missing`\n",
      "thread = 1 warning: only found 32 / 33 columns around data row: 402. Filling remaining columns with `missing`\n",
      "thread = 1 warning: only found 32 / 33 columns around data row: 403. Filling remaining columns with `missing`\n",
      "thread = 1 warning: only found 32 / 33 columns around data row: 404. Filling remaining columns with `missing`\n",
      "thread = 1 warning: only found 32 / 33 columns around data row: 405. Filling remaining columns with `missing`\n",
      "thread = 1 warning: only found 32 / 33 columns around data row: 406. Filling remaining columns with `missing`\n",
      "thread = 1 warning: only found 32 / 33 columns around data row: 407. Filling remaining columns with `missing`\n",
      "thread = 1 warning: only found 32 / 33 columns around data row: 408. Filling remaining columns with `missing`\n",
      "thread = 1 warning: only found 32 / 33 columns around data row: 409. Filling remaining columns with `missing`\n",
      "thread = 1 warning: only found 32 / 33 columns around data row: 410. Filling remaining columns with `missing`\n",
      "thread = 1 warning: only found 32 / 33 columns around data row: 411. Filling remaining columns with `missing`\n",
      "thread = 1 warning: only found 32 / 33 columns around data row: 412. Filling remaining columns with `missing`\n",
      "thread = 1 warning: only found 32 / 33 columns around data row: 413. Filling remaining columns with `missing`\n",
      "thread = 1 warning: only found 32 / 33 columns around data row: 414. Filling remaining columns with `missing`\n",
      "thread = 1 warning: only found 32 / 33 columns around data row: 415. Filling remaining columns with `missing`\n",
      "thread = 1 warning: only found 32 / 33 columns around data row: 416. Filling remaining columns with `missing`\n",
      "thread = 1 warning: only found 32 / 33 columns around data row: 417. Filling remaining columns with `missing`\n",
      "thread = 1 warning: only found 32 / 33 columns around data row: 418. Filling remaining columns with `missing`\n",
      "thread = 1 warning: only found 32 / 33 columns around data row: 419. Filling remaining columns with `missing`\n",
      "thread = 1 warning: only found 32 / 33 columns around data row: 420. Filling remaining columns with `missing`\n",
      "thread = 1 warning: only found 32 / 33 columns around data row: 421. Filling remaining columns with `missing`\n",
      "thread = 1 warning: only found 32 / 33 columns around data row: 422. Filling remaining columns with `missing`\n",
      "thread = 1 warning: only found 32 / 33 columns around data row: 423. Filling remaining columns with `missing`\n",
      "thread = 1 warning: only found 32 / 33 columns around data row: 424. Filling remaining columns with `missing`\n",
      "thread = 1 warning: only found 32 / 33 columns around data row: 425. Filling remaining columns with `missing`\n",
      "thread = 1 warning: only found 32 / 33 columns around data row: 426. Filling remaining columns with `missing`\n",
      "thread = 1 warning: only found 32 / 33 columns around data row: 427. Filling remaining columns with `missing`\n",
      "thread = 1 warning: only found 32 / 33 columns around data row: 428. Filling remaining columns with `missing`\n",
      "thread = 1 warning: only found 32 / 33 columns around data row: 429. Filling remaining columns with `missing`\n",
      "thread = 1 warning: only found 32 / 33 columns around data row: 430. Filling remaining columns with `missing`\n",
      "thread = 1 warning: only found 32 / 33 columns around data row: 431. Filling remaining columns with `missing`\n",
      "thread = 1 warning: only found 32 / 33 columns around data row: 432. Filling remaining columns with `missing`\n",
      "thread = 1 warning: only found 32 / 33 columns around data row: 433. Filling remaining columns with `missing`\n",
      "thread = 1 warning: only found 32 / 33 columns around data row: 434. Filling remaining columns with `missing`\n",
      "thread = 1 warning: only found 32 / 33 columns around data row: 435. Filling remaining columns with `missing`\n",
      "thread = 1 warning: only found 32 / 33 columns around data row: 436. Filling remaining columns with `missing`\n",
      "thread = 1 warning: only found 32 / 33 columns around data row: 437. Filling remaining columns with `missing`\n",
      "thread = 1 warning: only found 32 / 33 columns around data row: 438. Filling remaining columns with `missing`\n",
      "thread = 1 warning: only found 32 / 33 columns around data row: 439. Filling remaining columns with `missing`\n",
      "thread = 1 warning: only found 32 / 33 columns around data row: 440. Filling remaining columns with `missing`\n",
      "thread = 1 warning: only found 32 / 33 columns around data row: 441. Filling remaining columns with `missing`\n",
      "thread = 1 warning: only found 32 / 33 columns around data row: 442. Filling remaining columns with `missing`\n",
      "thread = 1 warning: only found 32 / 33 columns around data row: 443. Filling remaining columns with `missing`\n",
      "thread = 1 warning: only found 32 / 33 columns around data row: 444. Filling remaining columns with `missing`\n",
      "thread = 1 warning: only found 32 / 33 columns around data row: 445. Filling remaining columns with `missing`\n",
      "thread = 1 warning: only found 32 / 33 columns around data row: 446. Filling remaining columns with `missing`\n",
      "thread = 1 warning: only found 32 / 33 columns around data row: 447. Filling remaining columns with `missing`\n",
      "thread = 1 warning: only found 32 / 33 columns around data row: 448. Filling remaining columns with `missing`\n",
      "thread = 1 warning: only found 32 / 33 columns around data row: 449. Filling remaining columns with `missing`\n",
      "thread = 1 warning: only found 32 / 33 columns around data row: 450. Filling remaining columns with `missing`\n",
      "thread = 1 warning: only found 32 / 33 columns around data row: 451. Filling remaining columns with `missing`\n",
      "thread = 1 warning: only found 32 / 33 columns around data row: 452. Filling remaining columns with `missing`\n",
      "thread = 1 warning: only found 32 / 33 columns around data row: 453. Filling remaining columns with `missing`\n",
      "thread = 1 warning: only found 32 / 33 columns around data row: 454. Filling remaining columns with `missing`\n",
      "thread = 1 warning: only found 32 / 33 columns around data row: 455. Filling remaining columns with `missing`\n",
      "thread = 1 warning: only found 32 / 33 columns around data row: 456. Filling remaining columns with `missing`\n",
      "thread = 1 warning: only found 32 / 33 columns around data row: 457. Filling remaining columns with `missing`\n",
      "thread = 1 warning: only found 32 / 33 columns around data row: 458. Filling remaining columns with `missing`\n",
      "thread = 1 warning: only found 32 / 33 columns around data row: 459. Filling remaining columns with `missing`\n",
      "thread = 1 warning: only found 32 / 33 columns around data row: 460. Filling remaining columns with `missing`\n",
      "thread = 1 warning: only found 32 / 33 columns around data row: 461. Filling remaining columns with `missing`\n",
      "thread = 1 warning: only found 32 / 33 columns around data row: 462. Filling remaining columns with `missing`\n",
      "thread = 1 warning: only found 32 / 33 columns around data row: 463. Filling remaining columns with `missing`\n",
      "thread = 1 warning: only found 32 / 33 columns around data row: 464. Filling remaining columns with `missing`\n",
      "thread = 1 warning: only found 32 / 33 columns around data row: 465. Filling remaining columns with `missing`\n",
      "thread = 1 warning: only found 32 / 33 columns around data row: 466. Filling remaining columns with `missing`\n",
      "thread = 1 warning: only found 32 / 33 columns around data row: 467. Filling remaining columns with `missing`\n",
      "thread = 1 warning: only found 32 / 33 columns around data row: 468. Filling remaining columns with `missing`\n",
      "thread = 1 warning: only found 32 / 33 columns around data row: 469. Filling remaining columns with `missing`\n",
      "thread = 1 warning: only found 32 / 33 columns around data row: 470. Filling remaining columns with `missing`\n",
      "thread = 1 warning: only found 32 / 33 columns around data row: 471. Filling remaining columns with `missing`\n",
      "thread = 1 warning: only found 32 / 33 columns around data row: 472. Filling remaining columns with `missing`\n"
     ]
    },
    {
     "name": "stdout",
     "output_type": "stream",
     "text": [
      "thread = 1 warning: only found 32 / 33 columns around data row: 473. Filling remaining columns with `missing`\n",
      "thread = 1 warning: only found 32 / 33 columns around data row: 474. Filling remaining columns with `missing`\n",
      "thread = 1 warning: only found 32 / 33 columns around data row: 475. Filling remaining columns with `missing`\n",
      "thread = 1 warning: only found 32 / 33 columns around data row: 476. Filling remaining columns with `missing`\n",
      "thread = 1 warning: only found 32 / 33 columns around data row: 477. Filling remaining columns with `missing`\n",
      "thread = 1 warning: only found 32 / 33 columns around data row: 478. Filling remaining columns with `missing`\n",
      "thread = 1 warning: only found 32 / 33 columns around data row: 479. Filling remaining columns with `missing`\n",
      "thread = 1 warning: only found 32 / 33 columns around data row: 480. Filling remaining columns with `missing`\n",
      "thread = 1 warning: only found 32 / 33 columns around data row: 481. Filling remaining columns with `missing`\n",
      "thread = 1 warning: only found 32 / 33 columns around data row: 482. Filling remaining columns with `missing`\n",
      "thread = 1 warning: only found 32 / 33 columns around data row: 483. Filling remaining columns with `missing`\n",
      "thread = 1 warning: only found 32 / 33 columns around data row: 484. Filling remaining columns with `missing`\n",
      "thread = 1 warning: only found 32 / 33 columns around data row: 485. Filling remaining columns with `missing`\n",
      "thread = 1 warning: only found 32 / 33 columns around data row: 486. Filling remaining columns with `missing`\n",
      "thread = 1 warning: only found 32 / 33 columns around data row: 487. Filling remaining columns with `missing`\n",
      "thread = 1 warning: only found 32 / 33 columns around data row: 488. Filling remaining columns with `missing`\n",
      "thread = 1 warning: only found 32 / 33 columns around data row: 489. Filling remaining columns with `missing`\n",
      "thread = 1 warning: only found 32 / 33 columns around data row: 490. Filling remaining columns with `missing`\n",
      "thread = 1 warning: only found 32 / 33 columns around data row: 491. Filling remaining columns with `missing`\n",
      "thread = 1 warning: only found 32 / 33 columns around data row: 492. Filling remaining columns with `missing`\n",
      "thread = 1 warning: only found 32 / 33 columns around data row: 493. Filling remaining columns with `missing`\n",
      "thread = 1 warning: only found 32 / 33 columns around data row: 494. Filling remaining columns with `missing`\n",
      "thread = 1 warning: only found 32 / 33 columns around data row: 495. Filling remaining columns with `missing`\n",
      "thread = 1 warning: only found 32 / 33 columns around data row: 496. Filling remaining columns with `missing`\n",
      "thread = 1 warning: only found 32 / 33 columns around data row: 497. Filling remaining columns with `missing`\n",
      "thread = 1 warning: only found 32 / 33 columns around data row: 498. Filling remaining columns with `missing`\n",
      "thread = 1 warning: only found 32 / 33 columns around data row: 499. Filling remaining columns with `missing`\n",
      "thread = 1 warning: only found 32 / 33 columns around data row: 500. Filling remaining columns with `missing`\n",
      "thread = 1 warning: only found 32 / 33 columns around data row: 501. Filling remaining columns with `missing`\n",
      "thread = 1 warning: only found 32 / 33 columns around data row: 502. Filling remaining columns with `missing`\n",
      "thread = 1 warning: only found 32 / 33 columns around data row: 503. Filling remaining columns with `missing`\n",
      "thread = 1 warning: only found 32 / 33 columns around data row: 504. Filling remaining columns with `missing`\n",
      "thread = 1 warning: only found 32 / 33 columns around data row: 505. Filling remaining columns with `missing`\n",
      "thread = 1 warning: only found 32 / 33 columns around data row: 506. Filling remaining columns with `missing`\n",
      "thread = 1 warning: only found 32 / 33 columns around data row: 507. Filling remaining columns with `missing`\n",
      "thread = 1 warning: only found 32 / 33 columns around data row: 508. Filling remaining columns with `missing`\n",
      "thread = 1 warning: only found 32 / 33 columns around data row: 509. Filling remaining columns with `missing`\n",
      "thread = 1 warning: only found 32 / 33 columns around data row: 510. Filling remaining columns with `missing`\n",
      "thread = 1 warning: only found 32 / 33 columns around data row: 511. Filling remaining columns with `missing`\n",
      "thread = 1 warning: only found 32 / 33 columns around data row: 512. Filling remaining columns with `missing`\n",
      "thread = 1 warning: only found 32 / 33 columns around data row: 513. Filling remaining columns with `missing`\n",
      "thread = 1 warning: only found 32 / 33 columns around data row: 514. Filling remaining columns with `missing`\n",
      "thread = 1 warning: only found 32 / 33 columns around data row: 515. Filling remaining columns with `missing`\n",
      "thread = 1 warning: only found 32 / 33 columns around data row: 516. Filling remaining columns with `missing`\n",
      "thread = 1 warning: only found 32 / 33 columns around data row: 517. Filling remaining columns with `missing`\n",
      "thread = 1 warning: only found 32 / 33 columns around data row: 518. Filling remaining columns with `missing`\n",
      "thread = 1 warning: only found 32 / 33 columns around data row: 519. Filling remaining columns with `missing`\n",
      "thread = 1 warning: only found 32 / 33 columns around data row: 520. Filling remaining columns with `missing`\n",
      "thread = 1 warning: only found 32 / 33 columns around data row: 521. Filling remaining columns with `missing`\n",
      "thread = 1 warning: only found 32 / 33 columns around data row: 522. Filling remaining columns with `missing`\n",
      "thread = 1 warning: only found 32 / 33 columns around data row: 523. Filling remaining columns with `missing`\n",
      "thread = 1 warning: only found 32 / 33 columns around data row: 524. Filling remaining columns with `missing`\n",
      "thread = 1 warning: only found 32 / 33 columns around data row: 525. Filling remaining columns with `missing`\n",
      "thread = 1 warning: only found 32 / 33 columns around data row: 526. Filling remaining columns with `missing`\n",
      "thread = 1 warning: only found 32 / 33 columns around data row: 527. Filling remaining columns with `missing`\n",
      "thread = 1 warning: only found 32 / 33 columns around data row: 528. Filling remaining columns with `missing`\n",
      "thread = 1 warning: only found 32 / 33 columns around data row: 529. Filling remaining columns with `missing`\n",
      "thread = 1 warning: only found 32 / 33 columns around data row: 530. Filling remaining columns with `missing`\n",
      "thread = 1 warning: only found 32 / 33 columns around data row: 531. Filling remaining columns with `missing`\n",
      "thread = 1 warning: only found 32 / 33 columns around data row: 532. Filling remaining columns with `missing`\n",
      "thread = 1 warning: only found 32 / 33 columns around data row: 533. Filling remaining columns with `missing`\n",
      "thread = 1 warning: only found 32 / 33 columns around data row: 534. Filling remaining columns with `missing`\n",
      "thread = 1 warning: only found 32 / 33 columns around data row: 535. Filling remaining columns with `missing`\n",
      "thread = 1 warning: only found 32 / 33 columns around data row: 536. Filling remaining columns with `missing`\n",
      "thread = 1 warning: only found 32 / 33 columns around data row: 537. Filling remaining columns with `missing`\n",
      "thread = 1 warning: only found 32 / 33 columns around data row: 538. Filling remaining columns with `missing`\n",
      "thread = 1 warning: only found 32 / 33 columns around data row: 539. Filling remaining columns with `missing`\n",
      "thread = 1 warning: only found 32 / 33 columns around data row: 540. Filling remaining columns with `missing`\n",
      "thread = 1 warning: only found 32 / 33 columns around data row: 541. Filling remaining columns with `missing`\n",
      "thread = 1 warning: only found 32 / 33 columns around data row: 542. Filling remaining columns with `missing`\n",
      "thread = 1 warning: only found 32 / 33 columns around data row: 543. Filling remaining columns with `missing`\n",
      "thread = 1 warning: only found 32 / 33 columns around data row: 544. Filling remaining columns with `missing`\n",
      "thread = 1 warning: only found 32 / 33 columns around data row: 545. Filling remaining columns with `missing`\n",
      "thread = 1 warning: only found 32 / 33 columns around data row: 546. Filling remaining columns with `missing`\n",
      "thread = 1 warning: only found 32 / 33 columns around data row: 547. Filling remaining columns with `missing`\n",
      "thread = 1 warning: only found 32 / 33 columns around data row: 548. Filling remaining columns with `missing`\n",
      "thread = 1 warning: only found 32 / 33 columns around data row: 549. Filling remaining columns with `missing`\n",
      "thread = 1 warning: only found 32 / 33 columns around data row: 550. Filling remaining columns with `missing`\n",
      "thread = 1 warning: only found 32 / 33 columns around data row: 551. Filling remaining columns with `missing`\n",
      "thread = 1 warning: only found 32 / 33 columns around data row: 552. Filling remaining columns with `missing`\n",
      "thread = 1 warning: only found 32 / 33 columns around data row: 553. Filling remaining columns with `missing`\n",
      "thread = 1 warning: only found 32 / 33 columns around data row: 554. Filling remaining columns with `missing`\n",
      "thread = 1 warning: only found 32 / 33 columns around data row: 555. Filling remaining columns with `missing`\n",
      "thread = 1 warning: only found 32 / 33 columns around data row: 556. Filling remaining columns with `missing`\n",
      "thread = 1 warning: only found 32 / 33 columns around data row: 557. Filling remaining columns with `missing`\n",
      "thread = 1 warning: only found 32 / 33 columns around data row: 558. Filling remaining columns with `missing`\n",
      "thread = 1 warning: only found 32 / 33 columns around data row: 559. Filling remaining columns with `missing`\n",
      "thread = 1 warning: only found 32 / 33 columns around data row: 560. Filling remaining columns with `missing`\n",
      "thread = 1 warning: only found 32 / 33 columns around data row: 561. Filling remaining columns with `missing`\n",
      "thread = 1 warning: only found 32 / 33 columns around data row: 562. Filling remaining columns with `missing`\n",
      "thread = 1 warning: only found 32 / 33 columns around data row: 563. Filling remaining columns with `missing`\n",
      "thread = 1 warning: only found 32 / 33 columns around data row: 564. Filling remaining columns with `missing`\n",
      "thread = 1 warning: only found 32 / 33 columns around data row: 565. Filling remaining columns with `missing`\n",
      "thread = 1 warning: only found 32 / 33 columns around data row: 566. Filling remaining columns with `missing`\n"
     ]
    },
    {
     "name": "stdout",
     "output_type": "stream",
     "text": [
      "thread = 1 warning: only found 32 / 33 columns around data row: 567. Filling remaining columns with `missing`\n",
      "thread = 1 warning: only found 32 / 33 columns around data row: 568. Filling remaining columns with `missing`\n",
      "thread = 1 warning: only found 32 / 33 columns around data row: 569. Filling remaining columns with `missing`\n",
      "thread = 1 warning: only found 32 / 33 columns around data row: 570. Filling remaining columns with `missing`\n"
     ]
    },
    {
     "data": {
      "text/html": [
       "<table class=\"data-frame\"><thead><tr><th></th><th>id</th><th>diagnosis</th><th>radius_mean</th><th>texture_mean</th><th>perimeter_mean</th><th>area_mean</th><th>smoothness_mean</th></tr><tr><th></th><th>Int64</th><th>String</th><th>Float64</th><th>Float64</th><th>Float64</th><th>Float64</th><th>Float64</th></tr></thead><tbody><p>569 rows × 33 columns (omitted printing of 26 columns)</p><tr><th>1</th><td>842302</td><td>M</td><td>17.99</td><td>10.38</td><td>122.8</td><td>1001.0</td><td>0.1184</td></tr><tr><th>2</th><td>842517</td><td>M</td><td>20.57</td><td>17.77</td><td>132.9</td><td>1326.0</td><td>0.08474</td></tr><tr><th>3</th><td>84300903</td><td>M</td><td>19.69</td><td>21.25</td><td>130.0</td><td>1203.0</td><td>0.1096</td></tr><tr><th>4</th><td>84348301</td><td>M</td><td>11.42</td><td>20.38</td><td>77.58</td><td>386.1</td><td>0.1425</td></tr><tr><th>5</th><td>84358402</td><td>M</td><td>20.29</td><td>14.34</td><td>135.1</td><td>1297.0</td><td>0.1003</td></tr><tr><th>6</th><td>843786</td><td>M</td><td>12.45</td><td>15.7</td><td>82.57</td><td>477.1</td><td>0.1278</td></tr><tr><th>7</th><td>844359</td><td>M</td><td>18.25</td><td>19.98</td><td>119.6</td><td>1040.0</td><td>0.09463</td></tr><tr><th>8</th><td>84458202</td><td>M</td><td>13.71</td><td>20.83</td><td>90.2</td><td>577.9</td><td>0.1189</td></tr><tr><th>9</th><td>844981</td><td>M</td><td>13.0</td><td>21.82</td><td>87.5</td><td>519.8</td><td>0.1273</td></tr><tr><th>10</th><td>84501001</td><td>M</td><td>12.46</td><td>24.04</td><td>83.97</td><td>475.9</td><td>0.1186</td></tr><tr><th>11</th><td>845636</td><td>M</td><td>16.02</td><td>23.24</td><td>102.7</td><td>797.8</td><td>0.08206</td></tr><tr><th>12</th><td>84610002</td><td>M</td><td>15.78</td><td>17.89</td><td>103.6</td><td>781.0</td><td>0.0971</td></tr><tr><th>13</th><td>846226</td><td>M</td><td>19.17</td><td>24.8</td><td>132.4</td><td>1123.0</td><td>0.0974</td></tr><tr><th>14</th><td>846381</td><td>M</td><td>15.85</td><td>23.95</td><td>103.7</td><td>782.7</td><td>0.08401</td></tr><tr><th>15</th><td>84667401</td><td>M</td><td>13.73</td><td>22.61</td><td>93.6</td><td>578.3</td><td>0.1131</td></tr><tr><th>16</th><td>84799002</td><td>M</td><td>14.54</td><td>27.54</td><td>96.73</td><td>658.8</td><td>0.1139</td></tr><tr><th>17</th><td>848406</td><td>M</td><td>14.68</td><td>20.13</td><td>94.74</td><td>684.5</td><td>0.09867</td></tr><tr><th>18</th><td>84862001</td><td>M</td><td>16.13</td><td>20.68</td><td>108.1</td><td>798.8</td><td>0.117</td></tr><tr><th>19</th><td>849014</td><td>M</td><td>19.81</td><td>22.15</td><td>130.0</td><td>1260.0</td><td>0.09831</td></tr><tr><th>20</th><td>8510426</td><td>B</td><td>13.54</td><td>14.36</td><td>87.46</td><td>566.3</td><td>0.09779</td></tr><tr><th>21</th><td>8510653</td><td>B</td><td>13.08</td><td>15.71</td><td>85.63</td><td>520.0</td><td>0.1075</td></tr><tr><th>22</th><td>8510824</td><td>B</td><td>9.504</td><td>12.44</td><td>60.34</td><td>273.9</td><td>0.1024</td></tr><tr><th>23</th><td>8511133</td><td>M</td><td>15.34</td><td>14.26</td><td>102.5</td><td>704.4</td><td>0.1073</td></tr><tr><th>24</th><td>851509</td><td>M</td><td>21.16</td><td>23.04</td><td>137.2</td><td>1404.0</td><td>0.09428</td></tr><tr><th>25</th><td>852552</td><td>M</td><td>16.65</td><td>21.38</td><td>110.0</td><td>904.6</td><td>0.1121</td></tr><tr><th>26</th><td>852631</td><td>M</td><td>17.14</td><td>16.4</td><td>116.0</td><td>912.7</td><td>0.1186</td></tr><tr><th>27</th><td>852763</td><td>M</td><td>14.58</td><td>21.53</td><td>97.41</td><td>644.8</td><td>0.1054</td></tr><tr><th>28</th><td>852781</td><td>M</td><td>18.61</td><td>20.25</td><td>122.1</td><td>1094.0</td><td>0.0944</td></tr><tr><th>29</th><td>852973</td><td>M</td><td>15.3</td><td>25.27</td><td>102.4</td><td>732.4</td><td>0.1082</td></tr><tr><th>30</th><td>853201</td><td>M</td><td>17.57</td><td>15.05</td><td>115.0</td><td>955.1</td><td>0.09847</td></tr><tr><th>31</th><td>853401</td><td>M</td><td>18.63</td><td>25.11</td><td>124.8</td><td>1088.0</td><td>0.1064</td></tr><tr><th>32</th><td>853612</td><td>M</td><td>11.84</td><td>18.7</td><td>77.93</td><td>440.6</td><td>0.1109</td></tr><tr><th>33</th><td>85382601</td><td>M</td><td>17.02</td><td>23.98</td><td>112.8</td><td>899.3</td><td>0.1197</td></tr><tr><th>34</th><td>854002</td><td>M</td><td>19.27</td><td>26.47</td><td>127.9</td><td>1162.0</td><td>0.09401</td></tr><tr><th>35</th><td>854039</td><td>M</td><td>16.13</td><td>17.88</td><td>107.0</td><td>807.2</td><td>0.104</td></tr><tr><th>36</th><td>854253</td><td>M</td><td>16.74</td><td>21.59</td><td>110.1</td><td>869.5</td><td>0.0961</td></tr><tr><th>37</th><td>854268</td><td>M</td><td>14.25</td><td>21.72</td><td>93.63</td><td>633.0</td><td>0.09823</td></tr><tr><th>38</th><td>854941</td><td>B</td><td>13.03</td><td>18.42</td><td>82.61</td><td>523.8</td><td>0.08983</td></tr><tr><th>39</th><td>855133</td><td>M</td><td>14.99</td><td>25.2</td><td>95.54</td><td>698.8</td><td>0.09387</td></tr><tr><th>40</th><td>855138</td><td>M</td><td>13.48</td><td>20.82</td><td>88.4</td><td>559.2</td><td>0.1016</td></tr><tr><th>41</th><td>855167</td><td>M</td><td>13.44</td><td>21.58</td><td>86.18</td><td>563.0</td><td>0.08162</td></tr><tr><th>42</th><td>855563</td><td>M</td><td>10.95</td><td>21.35</td><td>71.9</td><td>371.1</td><td>0.1227</td></tr><tr><th>43</th><td>855625</td><td>M</td><td>19.07</td><td>24.81</td><td>128.3</td><td>1104.0</td><td>0.09081</td></tr><tr><th>44</th><td>856106</td><td>M</td><td>13.28</td><td>20.28</td><td>87.32</td><td>545.2</td><td>0.1041</td></tr><tr><th>45</th><td>85638502</td><td>M</td><td>13.17</td><td>21.81</td><td>85.42</td><td>531.5</td><td>0.09714</td></tr><tr><th>46</th><td>857010</td><td>M</td><td>18.65</td><td>17.6</td><td>123.7</td><td>1076.0</td><td>0.1099</td></tr><tr><th>47</th><td>85713702</td><td>B</td><td>8.196</td><td>16.84</td><td>51.71</td><td>201.9</td><td>0.086</td></tr><tr><th>48</th><td>85715</td><td>M</td><td>13.17</td><td>18.66</td><td>85.98</td><td>534.6</td><td>0.1158</td></tr><tr><th>49</th><td>857155</td><td>B</td><td>12.05</td><td>14.63</td><td>78.04</td><td>449.3</td><td>0.1031</td></tr><tr><th>50</th><td>857156</td><td>B</td><td>13.49</td><td>22.3</td><td>86.91</td><td>561.0</td><td>0.08752</td></tr><tr><th>&vellip;</th><td>&vellip;</td><td>&vellip;</td><td>&vellip;</td><td>&vellip;</td><td>&vellip;</td><td>&vellip;</td><td>&vellip;</td></tr></tbody></table>"
      ],
      "text/latex": [
       "\\begin{tabular}{r|cccccccc}\n",
       "\t& id & diagnosis & radius\\_mean & texture\\_mean & perimeter\\_mean & area\\_mean & smoothness\\_mean & \\\\\n",
       "\t\\hline\n",
       "\t& Int64 & String & Float64 & Float64 & Float64 & Float64 & Float64 & \\\\\n",
       "\t\\hline\n",
       "\t1 & 842302 & M & 17.99 & 10.38 & 122.8 & 1001.0 & 0.1184 & $\\dots$ \\\\\n",
       "\t2 & 842517 & M & 20.57 & 17.77 & 132.9 & 1326.0 & 0.08474 & $\\dots$ \\\\\n",
       "\t3 & 84300903 & M & 19.69 & 21.25 & 130.0 & 1203.0 & 0.1096 & $\\dots$ \\\\\n",
       "\t4 & 84348301 & M & 11.42 & 20.38 & 77.58 & 386.1 & 0.1425 & $\\dots$ \\\\\n",
       "\t5 & 84358402 & M & 20.29 & 14.34 & 135.1 & 1297.0 & 0.1003 & $\\dots$ \\\\\n",
       "\t6 & 843786 & M & 12.45 & 15.7 & 82.57 & 477.1 & 0.1278 & $\\dots$ \\\\\n",
       "\t7 & 844359 & M & 18.25 & 19.98 & 119.6 & 1040.0 & 0.09463 & $\\dots$ \\\\\n",
       "\t8 & 84458202 & M & 13.71 & 20.83 & 90.2 & 577.9 & 0.1189 & $\\dots$ \\\\\n",
       "\t9 & 844981 & M & 13.0 & 21.82 & 87.5 & 519.8 & 0.1273 & $\\dots$ \\\\\n",
       "\t10 & 84501001 & M & 12.46 & 24.04 & 83.97 & 475.9 & 0.1186 & $\\dots$ \\\\\n",
       "\t11 & 845636 & M & 16.02 & 23.24 & 102.7 & 797.8 & 0.08206 & $\\dots$ \\\\\n",
       "\t12 & 84610002 & M & 15.78 & 17.89 & 103.6 & 781.0 & 0.0971 & $\\dots$ \\\\\n",
       "\t13 & 846226 & M & 19.17 & 24.8 & 132.4 & 1123.0 & 0.0974 & $\\dots$ \\\\\n",
       "\t14 & 846381 & M & 15.85 & 23.95 & 103.7 & 782.7 & 0.08401 & $\\dots$ \\\\\n",
       "\t15 & 84667401 & M & 13.73 & 22.61 & 93.6 & 578.3 & 0.1131 & $\\dots$ \\\\\n",
       "\t16 & 84799002 & M & 14.54 & 27.54 & 96.73 & 658.8 & 0.1139 & $\\dots$ \\\\\n",
       "\t17 & 848406 & M & 14.68 & 20.13 & 94.74 & 684.5 & 0.09867 & $\\dots$ \\\\\n",
       "\t18 & 84862001 & M & 16.13 & 20.68 & 108.1 & 798.8 & 0.117 & $\\dots$ \\\\\n",
       "\t19 & 849014 & M & 19.81 & 22.15 & 130.0 & 1260.0 & 0.09831 & $\\dots$ \\\\\n",
       "\t20 & 8510426 & B & 13.54 & 14.36 & 87.46 & 566.3 & 0.09779 & $\\dots$ \\\\\n",
       "\t21 & 8510653 & B & 13.08 & 15.71 & 85.63 & 520.0 & 0.1075 & $\\dots$ \\\\\n",
       "\t22 & 8510824 & B & 9.504 & 12.44 & 60.34 & 273.9 & 0.1024 & $\\dots$ \\\\\n",
       "\t23 & 8511133 & M & 15.34 & 14.26 & 102.5 & 704.4 & 0.1073 & $\\dots$ \\\\\n",
       "\t24 & 851509 & M & 21.16 & 23.04 & 137.2 & 1404.0 & 0.09428 & $\\dots$ \\\\\n",
       "\t25 & 852552 & M & 16.65 & 21.38 & 110.0 & 904.6 & 0.1121 & $\\dots$ \\\\\n",
       "\t26 & 852631 & M & 17.14 & 16.4 & 116.0 & 912.7 & 0.1186 & $\\dots$ \\\\\n",
       "\t27 & 852763 & M & 14.58 & 21.53 & 97.41 & 644.8 & 0.1054 & $\\dots$ \\\\\n",
       "\t28 & 852781 & M & 18.61 & 20.25 & 122.1 & 1094.0 & 0.0944 & $\\dots$ \\\\\n",
       "\t29 & 852973 & M & 15.3 & 25.27 & 102.4 & 732.4 & 0.1082 & $\\dots$ \\\\\n",
       "\t30 & 853201 & M & 17.57 & 15.05 & 115.0 & 955.1 & 0.09847 & $\\dots$ \\\\\n",
       "\t31 & 853401 & M & 18.63 & 25.11 & 124.8 & 1088.0 & 0.1064 & $\\dots$ \\\\\n",
       "\t32 & 853612 & M & 11.84 & 18.7 & 77.93 & 440.6 & 0.1109 & $\\dots$ \\\\\n",
       "\t33 & 85382601 & M & 17.02 & 23.98 & 112.8 & 899.3 & 0.1197 & $\\dots$ \\\\\n",
       "\t34 & 854002 & M & 19.27 & 26.47 & 127.9 & 1162.0 & 0.09401 & $\\dots$ \\\\\n",
       "\t35 & 854039 & M & 16.13 & 17.88 & 107.0 & 807.2 & 0.104 & $\\dots$ \\\\\n",
       "\t36 & 854253 & M & 16.74 & 21.59 & 110.1 & 869.5 & 0.0961 & $\\dots$ \\\\\n",
       "\t37 & 854268 & M & 14.25 & 21.72 & 93.63 & 633.0 & 0.09823 & $\\dots$ \\\\\n",
       "\t38 & 854941 & B & 13.03 & 18.42 & 82.61 & 523.8 & 0.08983 & $\\dots$ \\\\\n",
       "\t39 & 855133 & M & 14.99 & 25.2 & 95.54 & 698.8 & 0.09387 & $\\dots$ \\\\\n",
       "\t40 & 855138 & M & 13.48 & 20.82 & 88.4 & 559.2 & 0.1016 & $\\dots$ \\\\\n",
       "\t41 & 855167 & M & 13.44 & 21.58 & 86.18 & 563.0 & 0.08162 & $\\dots$ \\\\\n",
       "\t42 & 855563 & M & 10.95 & 21.35 & 71.9 & 371.1 & 0.1227 & $\\dots$ \\\\\n",
       "\t43 & 855625 & M & 19.07 & 24.81 & 128.3 & 1104.0 & 0.09081 & $\\dots$ \\\\\n",
       "\t44 & 856106 & M & 13.28 & 20.28 & 87.32 & 545.2 & 0.1041 & $\\dots$ \\\\\n",
       "\t45 & 85638502 & M & 13.17 & 21.81 & 85.42 & 531.5 & 0.09714 & $\\dots$ \\\\\n",
       "\t46 & 857010 & M & 18.65 & 17.6 & 123.7 & 1076.0 & 0.1099 & $\\dots$ \\\\\n",
       "\t47 & 85713702 & B & 8.196 & 16.84 & 51.71 & 201.9 & 0.086 & $\\dots$ \\\\\n",
       "\t48 & 85715 & M & 13.17 & 18.66 & 85.98 & 534.6 & 0.1158 & $\\dots$ \\\\\n",
       "\t49 & 857155 & B & 12.05 & 14.63 & 78.04 & 449.3 & 0.1031 & $\\dots$ \\\\\n",
       "\t50 & 857156 & B & 13.49 & 22.3 & 86.91 & 561.0 & 0.08752 & $\\dots$ \\\\\n",
       "\t$\\dots$ & $\\dots$ & $\\dots$ & $\\dots$ & $\\dots$ & $\\dots$ & $\\dots$ & $\\dots$ &  \\\\\n",
       "\\end{tabular}\n"
      ],
      "text/plain": [
       "569×33 DataFrame. Omitted printing of 28 columns\n",
       "│ Row │ id       │ diagnosis │ radius_mean │ texture_mean │ perimeter_mean │\n",
       "│     │ \u001b[90mInt64\u001b[39m    │ \u001b[90mString\u001b[39m    │ \u001b[90mFloat64\u001b[39m     │ \u001b[90mFloat64\u001b[39m      │ \u001b[90mFloat64\u001b[39m        │\n",
       "├─────┼──────────┼───────────┼─────────────┼──────────────┼────────────────┤\n",
       "│ 1   │ 842302   │ M         │ 17.99       │ 10.38        │ 122.8          │\n",
       "│ 2   │ 842517   │ M         │ 20.57       │ 17.77        │ 132.9          │\n",
       "│ 3   │ 84300903 │ M         │ 19.69       │ 21.25        │ 130.0          │\n",
       "│ 4   │ 84348301 │ M         │ 11.42       │ 20.38        │ 77.58          │\n",
       "│ 5   │ 84358402 │ M         │ 20.29       │ 14.34        │ 135.1          │\n",
       "│ 6   │ 843786   │ M         │ 12.45       │ 15.7         │ 82.57          │\n",
       "│ 7   │ 844359   │ M         │ 18.25       │ 19.98        │ 119.6          │\n",
       "│ 8   │ 84458202 │ M         │ 13.71       │ 20.83        │ 90.2           │\n",
       "│ 9   │ 844981   │ M         │ 13.0        │ 21.82        │ 87.5           │\n",
       "│ 10  │ 84501001 │ M         │ 12.46       │ 24.04        │ 83.97          │\n",
       "│ 11  │ 845636   │ M         │ 16.02       │ 23.24        │ 102.7          │\n",
       "│ 12  │ 84610002 │ M         │ 15.78       │ 17.89        │ 103.6          │\n",
       "│ 13  │ 846226   │ M         │ 19.17       │ 24.8         │ 132.4          │\n",
       "│ 14  │ 846381   │ M         │ 15.85       │ 23.95        │ 103.7          │\n",
       "│ 15  │ 84667401 │ M         │ 13.73       │ 22.61        │ 93.6           │\n",
       "│ 16  │ 84799002 │ M         │ 14.54       │ 27.54        │ 96.73          │\n",
       "│ 17  │ 848406   │ M         │ 14.68       │ 20.13        │ 94.74          │\n",
       "│ 18  │ 84862001 │ M         │ 16.13       │ 20.68        │ 108.1          │\n",
       "│ 19  │ 849014   │ M         │ 19.81       │ 22.15        │ 130.0          │\n",
       "│ 20  │ 8510426  │ B         │ 13.54       │ 14.36        │ 87.46          │\n",
       "⋮\n",
       "│ 549 │ 923169   │ B         │ 9.683       │ 19.34        │ 61.05          │\n",
       "│ 550 │ 923465   │ B         │ 10.82       │ 24.21        │ 68.89          │\n",
       "│ 551 │ 923748   │ B         │ 10.86       │ 21.48        │ 68.51          │\n",
       "│ 552 │ 923780   │ B         │ 11.13       │ 22.44        │ 71.49          │\n",
       "│ 553 │ 924084   │ B         │ 12.77       │ 29.43        │ 81.35          │\n",
       "│ 554 │ 924342   │ B         │ 9.333       │ 21.94        │ 59.01          │\n",
       "│ 555 │ 924632   │ B         │ 12.88       │ 28.92        │ 82.5           │\n",
       "│ 556 │ 924934   │ B         │ 10.29       │ 27.61        │ 65.67          │\n",
       "│ 557 │ 924964   │ B         │ 10.16       │ 19.59        │ 64.73          │\n",
       "│ 558 │ 925236   │ B         │ 9.423       │ 27.88        │ 59.26          │\n",
       "│ 559 │ 925277   │ B         │ 14.59       │ 22.68        │ 96.39          │\n",
       "│ 560 │ 925291   │ B         │ 11.51       │ 23.93        │ 74.52          │\n",
       "│ 561 │ 925292   │ B         │ 14.05       │ 27.15        │ 91.38          │\n",
       "│ 562 │ 925311   │ B         │ 11.2        │ 29.37        │ 70.67          │\n",
       "│ 563 │ 925622   │ M         │ 15.22       │ 30.62        │ 103.4          │\n",
       "│ 564 │ 926125   │ M         │ 20.92       │ 25.09        │ 143.0          │\n",
       "│ 565 │ 926424   │ M         │ 21.56       │ 22.39        │ 142.0          │\n",
       "│ 566 │ 926682   │ M         │ 20.13       │ 28.25        │ 131.2          │\n",
       "│ 567 │ 926954   │ M         │ 16.6        │ 28.08        │ 108.3          │\n",
       "│ 568 │ 927241   │ M         │ 20.6        │ 29.33        │ 140.1          │\n",
       "│ 569 │ 92751    │ B         │ 7.76        │ 24.54        │ 47.92          │"
      ]
     },
     "execution_count": 19,
     "metadata": {},
     "output_type": "execute_result"
    }
   ],
   "source": [
    "data = CSV.read(\"data.csv\")"
   ]
  },
  {
   "cell_type": "code",
   "execution_count": 20,
   "metadata": {},
   "outputs": [
    {
     "data": {
      "text/html": [
       "<table class=\"data-frame\"><thead><tr><th></th><th>variable</th><th>mean</th><th>min</th><th>median</th><th>max</th><th>nunique</th><th>nmissing</th></tr><tr><th></th><th>Symbol</th><th>Union…</th><th>Any</th><th>Union…</th><th>Any</th><th>Union…</th><th>Nothing</th></tr></thead><tbody><p>31 rows × 8 columns (omitted printing of 1 columns)</p><tr><th>1</th><td>diagnosis</td><td></td><td>B</td><td></td><td>M</td><td>2</td><td></td></tr><tr><th>2</th><td>radius_mean</td><td>14.1273</td><td>6.981</td><td>13.37</td><td>28.11</td><td></td><td></td></tr><tr><th>3</th><td>texture_mean</td><td>19.2896</td><td>9.71</td><td>18.84</td><td>39.28</td><td></td><td></td></tr><tr><th>4</th><td>perimeter_mean</td><td>91.969</td><td>43.79</td><td>86.24</td><td>188.5</td><td></td><td></td></tr><tr><th>5</th><td>area_mean</td><td>654.889</td><td>143.5</td><td>551.1</td><td>2501.0</td><td></td><td></td></tr><tr><th>6</th><td>smoothness_mean</td><td>0.0963603</td><td>0.05263</td><td>0.09587</td><td>0.1634</td><td></td><td></td></tr><tr><th>7</th><td>compactness_mean</td><td>0.104341</td><td>0.01938</td><td>0.09263</td><td>0.3454</td><td></td><td></td></tr><tr><th>8</th><td>concavity_mean</td><td>0.0887993</td><td>0.0</td><td>0.06154</td><td>0.4268</td><td></td><td></td></tr><tr><th>9</th><td>concave points_mean</td><td>0.0489191</td><td>0.0</td><td>0.0335</td><td>0.2012</td><td></td><td></td></tr><tr><th>10</th><td>symmetry_mean</td><td>0.181162</td><td>0.106</td><td>0.1792</td><td>0.304</td><td></td><td></td></tr><tr><th>11</th><td>fractal_dimension_mean</td><td>0.0627976</td><td>0.04996</td><td>0.06154</td><td>0.09744</td><td></td><td></td></tr><tr><th>12</th><td>radius_se</td><td>0.405172</td><td>0.1115</td><td>0.3242</td><td>2.873</td><td></td><td></td></tr><tr><th>13</th><td>texture_se</td><td>1.21685</td><td>0.3602</td><td>1.108</td><td>4.885</td><td></td><td></td></tr><tr><th>14</th><td>perimeter_se</td><td>2.86606</td><td>0.757</td><td>2.287</td><td>21.98</td><td></td><td></td></tr><tr><th>15</th><td>area_se</td><td>40.3371</td><td>6.802</td><td>24.53</td><td>542.2</td><td></td><td></td></tr><tr><th>16</th><td>smoothness_se</td><td>0.00704098</td><td>0.001713</td><td>0.00638</td><td>0.03113</td><td></td><td></td></tr><tr><th>17</th><td>compactness_se</td><td>0.0254781</td><td>0.002252</td><td>0.02045</td><td>0.1354</td><td></td><td></td></tr><tr><th>18</th><td>concavity_se</td><td>0.0318937</td><td>0.0</td><td>0.02589</td><td>0.396</td><td></td><td></td></tr><tr><th>19</th><td>concave points_se</td><td>0.0117961</td><td>0.0</td><td>0.01093</td><td>0.05279</td><td></td><td></td></tr><tr><th>20</th><td>symmetry_se</td><td>0.0205423</td><td>0.007882</td><td>0.01873</td><td>0.07895</td><td></td><td></td></tr><tr><th>21</th><td>fractal_dimension_se</td><td>0.0037949</td><td>0.0008948</td><td>0.003187</td><td>0.02984</td><td></td><td></td></tr><tr><th>22</th><td>radius_worst</td><td>16.2692</td><td>7.93</td><td>14.97</td><td>36.04</td><td></td><td></td></tr><tr><th>23</th><td>texture_worst</td><td>25.6772</td><td>12.02</td><td>25.41</td><td>49.54</td><td></td><td></td></tr><tr><th>24</th><td>perimeter_worst</td><td>107.261</td><td>50.41</td><td>97.66</td><td>251.2</td><td></td><td></td></tr><tr><th>25</th><td>area_worst</td><td>880.583</td><td>185.2</td><td>686.5</td><td>4254.0</td><td></td><td></td></tr><tr><th>26</th><td>smoothness_worst</td><td>0.132369</td><td>0.07117</td><td>0.1313</td><td>0.2226</td><td></td><td></td></tr><tr><th>27</th><td>compactness_worst</td><td>0.254265</td><td>0.02729</td><td>0.2119</td><td>1.058</td><td></td><td></td></tr><tr><th>28</th><td>concavity_worst</td><td>0.272188</td><td>0.0</td><td>0.2267</td><td>1.252</td><td></td><td></td></tr><tr><th>29</th><td>concave points_worst</td><td>0.114606</td><td>0.0</td><td>0.09993</td><td>0.291</td><td></td><td></td></tr><tr><th>30</th><td>symmetry_worst</td><td>0.290076</td><td>0.1565</td><td>0.2822</td><td>0.6638</td><td></td><td></td></tr><tr><th>31</th><td>fractal_dimension_worst</td><td>0.0839458</td><td>0.05504</td><td>0.08004</td><td>0.2075</td><td></td><td></td></tr></tbody></table>"
      ],
      "text/latex": [
       "\\begin{tabular}{r|cccccccc}\n",
       "\t& variable & mean & min & median & max & nunique & nmissing & \\\\\n",
       "\t\\hline\n",
       "\t& Symbol & Union… & Any & Union… & Any & Union… & Nothing & \\\\\n",
       "\t\\hline\n",
       "\t1 & diagnosis &  & B &  & M & 2 &  & $\\dots$ \\\\\n",
       "\t2 & radius\\_mean & 14.1273 & 6.981 & 13.37 & 28.11 &  &  & $\\dots$ \\\\\n",
       "\t3 & texture\\_mean & 19.2896 & 9.71 & 18.84 & 39.28 &  &  & $\\dots$ \\\\\n",
       "\t4 & perimeter\\_mean & 91.969 & 43.79 & 86.24 & 188.5 &  &  & $\\dots$ \\\\\n",
       "\t5 & area\\_mean & 654.889 & 143.5 & 551.1 & 2501.0 &  &  & $\\dots$ \\\\\n",
       "\t6 & smoothness\\_mean & 0.0963603 & 0.05263 & 0.09587 & 0.1634 &  &  & $\\dots$ \\\\\n",
       "\t7 & compactness\\_mean & 0.104341 & 0.01938 & 0.09263 & 0.3454 &  &  & $\\dots$ \\\\\n",
       "\t8 & concavity\\_mean & 0.0887993 & 0.0 & 0.06154 & 0.4268 &  &  & $\\dots$ \\\\\n",
       "\t9 & concave points\\_mean & 0.0489191 & 0.0 & 0.0335 & 0.2012 &  &  & $\\dots$ \\\\\n",
       "\t10 & symmetry\\_mean & 0.181162 & 0.106 & 0.1792 & 0.304 &  &  & $\\dots$ \\\\\n",
       "\t11 & fractal\\_dimension\\_mean & 0.0627976 & 0.04996 & 0.06154 & 0.09744 &  &  & $\\dots$ \\\\\n",
       "\t12 & radius\\_se & 0.405172 & 0.1115 & 0.3242 & 2.873 &  &  & $\\dots$ \\\\\n",
       "\t13 & texture\\_se & 1.21685 & 0.3602 & 1.108 & 4.885 &  &  & $\\dots$ \\\\\n",
       "\t14 & perimeter\\_se & 2.86606 & 0.757 & 2.287 & 21.98 &  &  & $\\dots$ \\\\\n",
       "\t15 & area\\_se & 40.3371 & 6.802 & 24.53 & 542.2 &  &  & $\\dots$ \\\\\n",
       "\t16 & smoothness\\_se & 0.00704098 & 0.001713 & 0.00638 & 0.03113 &  &  & $\\dots$ \\\\\n",
       "\t17 & compactness\\_se & 0.0254781 & 0.002252 & 0.02045 & 0.1354 &  &  & $\\dots$ \\\\\n",
       "\t18 & concavity\\_se & 0.0318937 & 0.0 & 0.02589 & 0.396 &  &  & $\\dots$ \\\\\n",
       "\t19 & concave points\\_se & 0.0117961 & 0.0 & 0.01093 & 0.05279 &  &  & $\\dots$ \\\\\n",
       "\t20 & symmetry\\_se & 0.0205423 & 0.007882 & 0.01873 & 0.07895 &  &  & $\\dots$ \\\\\n",
       "\t21 & fractal\\_dimension\\_se & 0.0037949 & 0.0008948 & 0.003187 & 0.02984 &  &  & $\\dots$ \\\\\n",
       "\t22 & radius\\_worst & 16.2692 & 7.93 & 14.97 & 36.04 &  &  & $\\dots$ \\\\\n",
       "\t23 & texture\\_worst & 25.6772 & 12.02 & 25.41 & 49.54 &  &  & $\\dots$ \\\\\n",
       "\t24 & perimeter\\_worst & 107.261 & 50.41 & 97.66 & 251.2 &  &  & $\\dots$ \\\\\n",
       "\t25 & area\\_worst & 880.583 & 185.2 & 686.5 & 4254.0 &  &  & $\\dots$ \\\\\n",
       "\t26 & smoothness\\_worst & 0.132369 & 0.07117 & 0.1313 & 0.2226 &  &  & $\\dots$ \\\\\n",
       "\t27 & compactness\\_worst & 0.254265 & 0.02729 & 0.2119 & 1.058 &  &  & $\\dots$ \\\\\n",
       "\t28 & concavity\\_worst & 0.272188 & 0.0 & 0.2267 & 1.252 &  &  & $\\dots$ \\\\\n",
       "\t29 & concave points\\_worst & 0.114606 & 0.0 & 0.09993 & 0.291 &  &  & $\\dots$ \\\\\n",
       "\t30 & symmetry\\_worst & 0.290076 & 0.1565 & 0.2822 & 0.6638 &  &  & $\\dots$ \\\\\n",
       "\t31 & fractal\\_dimension\\_worst & 0.0839458 & 0.05504 & 0.08004 & 0.2075 &  &  & $\\dots$ \\\\\n",
       "\\end{tabular}\n"
      ],
      "text/plain": [
       "31×8 DataFrame. Omitted printing of 3 columns\n",
       "│ Row │ variable                │ mean       │ min       │ median   │ max     │\n",
       "│     │ \u001b[90mSymbol\u001b[39m                  │ \u001b[90mUnion…\u001b[39m     │ \u001b[90mAny\u001b[39m       │ \u001b[90mUnion…\u001b[39m   │ \u001b[90mAny\u001b[39m     │\n",
       "├─────┼─────────────────────────┼────────────┼───────────┼──────────┼─────────┤\n",
       "│ 1   │ diagnosis               │            │ B         │          │ M       │\n",
       "│ 2   │ radius_mean             │ 14.1273    │ 6.981     │ 13.37    │ 28.11   │\n",
       "│ 3   │ texture_mean            │ 19.2896    │ 9.71      │ 18.84    │ 39.28   │\n",
       "│ 4   │ perimeter_mean          │ 91.969     │ 43.79     │ 86.24    │ 188.5   │\n",
       "│ 5   │ area_mean               │ 654.889    │ 143.5     │ 551.1    │ 2501.0  │\n",
       "│ 6   │ smoothness_mean         │ 0.0963603  │ 0.05263   │ 0.09587  │ 0.1634  │\n",
       "│ 7   │ compactness_mean        │ 0.104341   │ 0.01938   │ 0.09263  │ 0.3454  │\n",
       "│ 8   │ concavity_mean          │ 0.0887993  │ 0.0       │ 0.06154  │ 0.4268  │\n",
       "│ 9   │ concave points_mean     │ 0.0489191  │ 0.0       │ 0.0335   │ 0.2012  │\n",
       "│ 10  │ symmetry_mean           │ 0.181162   │ 0.106     │ 0.1792   │ 0.304   │\n",
       "│ 11  │ fractal_dimension_mean  │ 0.0627976  │ 0.04996   │ 0.06154  │ 0.09744 │\n",
       "│ 12  │ radius_se               │ 0.405172   │ 0.1115    │ 0.3242   │ 2.873   │\n",
       "│ 13  │ texture_se              │ 1.21685    │ 0.3602    │ 1.108    │ 4.885   │\n",
       "│ 14  │ perimeter_se            │ 2.86606    │ 0.757     │ 2.287    │ 21.98   │\n",
       "│ 15  │ area_se                 │ 40.3371    │ 6.802     │ 24.53    │ 542.2   │\n",
       "│ 16  │ smoothness_se           │ 0.00704098 │ 0.001713  │ 0.00638  │ 0.03113 │\n",
       "│ 17  │ compactness_se          │ 0.0254781  │ 0.002252  │ 0.02045  │ 0.1354  │\n",
       "│ 18  │ concavity_se            │ 0.0318937  │ 0.0       │ 0.02589  │ 0.396   │\n",
       "│ 19  │ concave points_se       │ 0.0117961  │ 0.0       │ 0.01093  │ 0.05279 │\n",
       "│ 20  │ symmetry_se             │ 0.0205423  │ 0.007882  │ 0.01873  │ 0.07895 │\n",
       "│ 21  │ fractal_dimension_se    │ 0.0037949  │ 0.0008948 │ 0.003187 │ 0.02984 │\n",
       "│ 22  │ radius_worst            │ 16.2692    │ 7.93      │ 14.97    │ 36.04   │\n",
       "│ 23  │ texture_worst           │ 25.6772    │ 12.02     │ 25.41    │ 49.54   │\n",
       "│ 24  │ perimeter_worst         │ 107.261    │ 50.41     │ 97.66    │ 251.2   │\n",
       "│ 25  │ area_worst              │ 880.583    │ 185.2     │ 686.5    │ 4254.0  │\n",
       "│ 26  │ smoothness_worst        │ 0.132369   │ 0.07117   │ 0.1313   │ 0.2226  │\n",
       "│ 27  │ compactness_worst       │ 0.254265   │ 0.02729   │ 0.2119   │ 1.058   │\n",
       "│ 28  │ concavity_worst         │ 0.272188   │ 0.0       │ 0.2267   │ 1.252   │\n",
       "│ 29  │ concave points_worst    │ 0.114606   │ 0.0       │ 0.09993  │ 0.291   │\n",
       "│ 30  │ symmetry_worst          │ 0.290076   │ 0.1565    │ 0.2822   │ 0.6638  │\n",
       "│ 31  │ fractal_dimension_worst │ 0.0839458  │ 0.05504   │ 0.08004  │ 0.2075  │"
      ]
     },
     "execution_count": 20,
     "metadata": {},
     "output_type": "execute_result"
    }
   ],
   "source": [
    "data = data[:, Not([33, 1])]\n",
    "describe(data)"
   ]
  },
  {
   "cell_type": "code",
   "execution_count": 21,
   "metadata": {},
   "outputs": [
    {
     "data": {
      "text/plain": [
       "┌\u001b[0m─────────────────────────\u001b[0m┬\u001b[0m─────────────────────────────────\u001b[0m┬\u001b[0m───────────────\u001b[0m┐\u001b[0m\n",
       "│\u001b[0m\u001b[22m _.names                 \u001b[0m│\u001b[0m\u001b[22m _.types                         \u001b[0m│\u001b[0m\u001b[22m _.scitypes    \u001b[0m│\u001b[0m\n",
       "├\u001b[0m─────────────────────────\u001b[0m┼\u001b[0m─────────────────────────────────\u001b[0m┼\u001b[0m───────────────\u001b[0m┤\u001b[0m\n",
       "│\u001b[0m diagnosis               \u001b[0m│\u001b[0m CategoricalValue{String,UInt32} \u001b[0m│\u001b[0m Multiclass{2} \u001b[0m│\u001b[0m\n",
       "│\u001b[0m radius_mean             \u001b[0m│\u001b[0m Float64                         \u001b[0m│\u001b[0m Continuous    \u001b[0m│\u001b[0m\n",
       "│\u001b[0m texture_mean            \u001b[0m│\u001b[0m Float64                         \u001b[0m│\u001b[0m Continuous    \u001b[0m│\u001b[0m\n",
       "│\u001b[0m perimeter_mean          \u001b[0m│\u001b[0m Float64                         \u001b[0m│\u001b[0m Continuous    \u001b[0m│\u001b[0m\n",
       "│\u001b[0m area_mean               \u001b[0m│\u001b[0m Float64                         \u001b[0m│\u001b[0m Continuous    \u001b[0m│\u001b[0m\n",
       "│\u001b[0m smoothness_mean         \u001b[0m│\u001b[0m Float64                         \u001b[0m│\u001b[0m Continuous    \u001b[0m│\u001b[0m\n",
       "│\u001b[0m compactness_mean        \u001b[0m│\u001b[0m Float64                         \u001b[0m│\u001b[0m Continuous    \u001b[0m│\u001b[0m\n",
       "│\u001b[0m concavity_mean          \u001b[0m│\u001b[0m Float64                         \u001b[0m│\u001b[0m Continuous    \u001b[0m│\u001b[0m\n",
       "│\u001b[0m concave points_mean     \u001b[0m│\u001b[0m Float64                         \u001b[0m│\u001b[0m Continuous    \u001b[0m│\u001b[0m\n",
       "│\u001b[0m symmetry_mean           \u001b[0m│\u001b[0m Float64                         \u001b[0m│\u001b[0m Continuous    \u001b[0m│\u001b[0m\n",
       "│\u001b[0m fractal_dimension_mean  \u001b[0m│\u001b[0m Float64                         \u001b[0m│\u001b[0m Continuous    \u001b[0m│\u001b[0m\n",
       "│\u001b[0m radius_se               \u001b[0m│\u001b[0m Float64                         \u001b[0m│\u001b[0m Continuous    \u001b[0m│\u001b[0m\n",
       "│\u001b[0m texture_se              \u001b[0m│\u001b[0m Float64                         \u001b[0m│\u001b[0m Continuous    \u001b[0m│\u001b[0m\n",
       "│\u001b[0m perimeter_se            \u001b[0m│\u001b[0m Float64                         \u001b[0m│\u001b[0m Continuous    \u001b[0m│\u001b[0m\n",
       "│\u001b[0m area_se                 \u001b[0m│\u001b[0m Float64                         \u001b[0m│\u001b[0m Continuous    \u001b[0m│\u001b[0m\n",
       "│\u001b[0m smoothness_se           \u001b[0m│\u001b[0m Float64                         \u001b[0m│\u001b[0m Continuous    \u001b[0m│\u001b[0m\n",
       "│\u001b[0m compactness_se          \u001b[0m│\u001b[0m Float64                         \u001b[0m│\u001b[0m Continuous    \u001b[0m│\u001b[0m\n",
       "│\u001b[0m concavity_se            \u001b[0m│\u001b[0m Float64                         \u001b[0m│\u001b[0m Continuous    \u001b[0m│\u001b[0m\n",
       "│\u001b[0m concave points_se       \u001b[0m│\u001b[0m Float64                         \u001b[0m│\u001b[0m Continuous    \u001b[0m│\u001b[0m\n",
       "│\u001b[0m symmetry_se             \u001b[0m│\u001b[0m Float64                         \u001b[0m│\u001b[0m Continuous    \u001b[0m│\u001b[0m\n",
       "│\u001b[0m fractal_dimension_se    \u001b[0m│\u001b[0m Float64                         \u001b[0m│\u001b[0m Continuous    \u001b[0m│\u001b[0m\n",
       "│\u001b[0m radius_worst            \u001b[0m│\u001b[0m Float64                         \u001b[0m│\u001b[0m Continuous    \u001b[0m│\u001b[0m\n",
       "│\u001b[0m texture_worst           \u001b[0m│\u001b[0m Float64                         \u001b[0m│\u001b[0m Continuous    \u001b[0m│\u001b[0m\n",
       "│\u001b[0m perimeter_worst         \u001b[0m│\u001b[0m Float64                         \u001b[0m│\u001b[0m Continuous    \u001b[0m│\u001b[0m\n",
       "│\u001b[0m area_worst              \u001b[0m│\u001b[0m Float64                         \u001b[0m│\u001b[0m Continuous    \u001b[0m│\u001b[0m\n",
       "│\u001b[0m smoothness_worst        \u001b[0m│\u001b[0m Float64                         \u001b[0m│\u001b[0m Continuous    \u001b[0m│\u001b[0m\n",
       "│\u001b[0m compactness_worst       \u001b[0m│\u001b[0m Float64                         \u001b[0m│\u001b[0m Continuous    \u001b[0m│\u001b[0m\n",
       "│\u001b[0m concavity_worst         \u001b[0m│\u001b[0m Float64                         \u001b[0m│\u001b[0m Continuous    \u001b[0m│\u001b[0m\n",
       "│\u001b[0m concave points_worst    \u001b[0m│\u001b[0m Float64                         \u001b[0m│\u001b[0m Continuous    \u001b[0m│\u001b[0m\n",
       "│\u001b[0m symmetry_worst          \u001b[0m│\u001b[0m Float64                         \u001b[0m│\u001b[0m Continuous    \u001b[0m│\u001b[0m\n",
       "│\u001b[0m fractal_dimension_worst \u001b[0m│\u001b[0m Float64                         \u001b[0m│\u001b[0m Continuous    \u001b[0m│\u001b[0m\n",
       "└\u001b[0m─────────────────────────\u001b[0m┴\u001b[0m─────────────────────────────────\u001b[0m┴\u001b[0m───────────────\u001b[0m┘\u001b[0m\n",
       "_.nrows = 569\n"
      ]
     },
     "execution_count": 21,
     "metadata": {},
     "output_type": "execute_result"
    }
   ],
   "source": [
    "coerce!(data, :diagnosis=>Multiclass)\n",
    "schema(data)"
   ]
  },
  {
   "cell_type": "code",
   "execution_count": 22,
   "metadata": {
    "scrolled": false
   },
   "outputs": [
    {
     "data": {
      "text/plain": [
       "(CategoricalValue{String,UInt32}[\"M\", \"M\", \"M\", \"M\", \"M\", \"M\", \"M\", \"M\", \"M\", \"M\"  …  \"B\", \"B\", \"B\", \"M\", \"M\", \"M\", \"M\", \"M\", \"M\", \"B\"], 569×30 DataFrame. Omitted printing of 26 columns\n",
       "│ Row │ radius_mean │ texture_mean │ perimeter_mean │ area_mean │\n",
       "│     │ \u001b[90mFloat64\u001b[39m     │ \u001b[90mFloat64\u001b[39m      │ \u001b[90mFloat64\u001b[39m        │ \u001b[90mFloat64\u001b[39m   │\n",
       "├─────┼─────────────┼──────────────┼────────────────┼───────────┤\n",
       "│ 1   │ 17.99       │ 10.38        │ 122.8          │ 1001.0    │\n",
       "│ 2   │ 20.57       │ 17.77        │ 132.9          │ 1326.0    │\n",
       "│ 3   │ 19.69       │ 21.25        │ 130.0          │ 1203.0    │\n",
       "│ 4   │ 11.42       │ 20.38        │ 77.58          │ 386.1     │\n",
       "│ 5   │ 20.29       │ 14.34        │ 135.1          │ 1297.0    │\n",
       "│ 6   │ 12.45       │ 15.7         │ 82.57          │ 477.1     │\n",
       "│ 7   │ 18.25       │ 19.98        │ 119.6          │ 1040.0    │\n",
       "│ 8   │ 13.71       │ 20.83        │ 90.2           │ 577.9     │\n",
       "│ 9   │ 13.0        │ 21.82        │ 87.5           │ 519.8     │\n",
       "│ 10  │ 12.46       │ 24.04        │ 83.97          │ 475.9     │\n",
       "│ 11  │ 16.02       │ 23.24        │ 102.7          │ 797.8     │\n",
       "│ 12  │ 15.78       │ 17.89        │ 103.6          │ 781.0     │\n",
       "│ 13  │ 19.17       │ 24.8         │ 132.4          │ 1123.0    │\n",
       "│ 14  │ 15.85       │ 23.95        │ 103.7          │ 782.7     │\n",
       "│ 15  │ 13.73       │ 22.61        │ 93.6           │ 578.3     │\n",
       "│ 16  │ 14.54       │ 27.54        │ 96.73          │ 658.8     │\n",
       "│ 17  │ 14.68       │ 20.13        │ 94.74          │ 684.5     │\n",
       "│ 18  │ 16.13       │ 20.68        │ 108.1          │ 798.8     │\n",
       "│ 19  │ 19.81       │ 22.15        │ 130.0          │ 1260.0    │\n",
       "│ 20  │ 13.54       │ 14.36        │ 87.46          │ 566.3     │\n",
       "⋮\n",
       "│ 549 │ 9.683       │ 19.34        │ 61.05          │ 285.7     │\n",
       "│ 550 │ 10.82       │ 24.21        │ 68.89          │ 361.6     │\n",
       "│ 551 │ 10.86       │ 21.48        │ 68.51          │ 360.5     │\n",
       "│ 552 │ 11.13       │ 22.44        │ 71.49          │ 378.4     │\n",
       "│ 553 │ 12.77       │ 29.43        │ 81.35          │ 507.9     │\n",
       "│ 554 │ 9.333       │ 21.94        │ 59.01          │ 264.0     │\n",
       "│ 555 │ 12.88       │ 28.92        │ 82.5           │ 514.3     │\n",
       "│ 556 │ 10.29       │ 27.61        │ 65.67          │ 321.4     │\n",
       "│ 557 │ 10.16       │ 19.59        │ 64.73          │ 311.7     │\n",
       "│ 558 │ 9.423       │ 27.88        │ 59.26          │ 271.3     │\n",
       "│ 559 │ 14.59       │ 22.68        │ 96.39          │ 657.1     │\n",
       "│ 560 │ 11.51       │ 23.93        │ 74.52          │ 403.5     │\n",
       "│ 561 │ 14.05       │ 27.15        │ 91.38          │ 600.4     │\n",
       "│ 562 │ 11.2        │ 29.37        │ 70.67          │ 386.0     │\n",
       "│ 563 │ 15.22       │ 30.62        │ 103.4          │ 716.9     │\n",
       "│ 564 │ 20.92       │ 25.09        │ 143.0          │ 1347.0    │\n",
       "│ 565 │ 21.56       │ 22.39        │ 142.0          │ 1479.0    │\n",
       "│ 566 │ 20.13       │ 28.25        │ 131.2          │ 1261.0    │\n",
       "│ 567 │ 16.6        │ 28.08        │ 108.3          │ 858.1     │\n",
       "│ 568 │ 20.6        │ 29.33        │ 140.1          │ 1265.0    │\n",
       "│ 569 │ 7.76        │ 24.54        │ 47.92          │ 181.0     │)"
      ]
     },
     "execution_count": 22,
     "metadata": {},
     "output_type": "execute_result"
    }
   ],
   "source": [
    "y, X = unpack(data, ==(:diagnosis), colname->true)"
   ]
  },
  {
   "cell_type": "code",
   "execution_count": 23,
   "metadata": {},
   "outputs": [
    {
     "data": {
      "text/plain": [
       "([394, 357, 330, 269, 169, 404, 504, 46, 373, 176  …  257, 472, 387, 206, 173, 340, 315, 134, 459, 293], [241, 498, 540, 532, 16, 388, 527, 496, 49, 364  …  509, 1, 39, 379, 481, 252, 543, 486, 491, 193])"
      ]
     },
     "execution_count": 23,
     "metadata": {},
     "output_type": "execute_result"
    }
   ],
   "source": [
    "# data to use when trying to fit a single validation set\n",
    "train, test = partition(eachindex(y), 0.7, shuffle=true) # gives 70:30 split"
   ]
  },
  {
   "cell_type": "markdown",
   "metadata": {},
   "source": [
    "# Five Learning Algorithms\n",
    "\n",
    "* Decision trees with some form of pruning\n",
    "* Neural networks\n",
    "* Boosting\n",
    "* Support Vector Machines\n",
    "* k-nearest neighbors\n",
    "\n",
    "\n",
    "##### Testing\n",
    "* Implement the algorithms\n",
    "* Design two *interesting* classification problems. For the purposes of this assignment, a classification problem is just a set of training examples and a set of test examples."
   ]
  },
  {
   "cell_type": "code",
   "execution_count": 24,
   "metadata": {
    "scrolled": true
   },
   "outputs": [
    {
     "data": {
      "text/plain": [
       "43-element Array{NamedTuple{(:name, :package_name, :is_supervised, :docstring, :hyperparameter_ranges, :hyperparameter_types, :hyperparameters, :implemented_methods, :is_pure_julia, :is_wrapper, :load_path, :package_license, :package_url, :package_uuid, :prediction_type, :supports_online, :supports_weights, :input_scitype, :target_scitype, :output_scitype),T} where T<:Tuple,1}:\n",
       " (name = AdaBoostClassifier, package_name = ScikitLearn, ... )\n",
       " (name = AdaBoostStumpClassifier, package_name = DecisionTree, ... )\n",
       " (name = BaggingClassifier, package_name = ScikitLearn, ... )\n",
       " (name = BayesianLDA, package_name = MultivariateStats, ... )\n",
       " (name = BayesianLDA, package_name = ScikitLearn, ... )\n",
       " (name = BayesianQDA, package_name = ScikitLearn, ... )\n",
       " (name = BayesianSubspaceLDA, package_name = MultivariateStats, ... )\n",
       " (name = ConstantClassifier, package_name = MLJModels, ... )\n",
       " (name = DecisionTreeClassifier, package_name = DecisionTree, ... )\n",
       " (name = DeterministicConstantClassifier, package_name = MLJModels, ... )\n",
       " (name = DummyClassifier, package_name = ScikitLearn, ... )\n",
       " (name = EvoTreeClassifier, package_name = EvoTrees, ... )\n",
       " (name = ExtraTreesClassifier, package_name = ScikitLearn, ... )\n",
       " (name = GaussianNBClassifier, package_name = NaiveBayes, ... )\n",
       " (name = GaussianNBClassifier, package_name = ScikitLearn, ... )\n",
       " (name = GaussianProcessClassifier, package_name = ScikitLearn, ... )\n",
       " (name = GradientBoostingClassifier, package_name = ScikitLearn, ... )\n",
       " (name = KNNClassifier, package_name = NearestNeighbors, ... )\n",
       " (name = KNeighborsClassifier, package_name = ScikitLearn, ... )\n",
       " (name = LDA, package_name = MultivariateStats, ... )\n",
       " (name = LGBMClassifier, package_name = LightGBM, ... )\n",
       " (name = LinearBinaryClassifier, package_name = GLM, ... )\n",
       " (name = LinearSVC, package_name = LIBSVM, ... )\n",
       " (name = LogisticCVClassifier, package_name = ScikitLearn, ... )\n",
       " (name = LogisticClassifier, package_name = MLJLinearModels, ... )\n",
       " (name = LogisticClassifier, package_name = ScikitLearn, ... )\n",
       " (name = MultinomialClassifier, package_name = MLJLinearModels, ... )\n",
       " (name = NeuralNetworkClassifier, package_name = MLJFlux, ... )\n",
       " (name = NuSVC, package_name = LIBSVM, ... )\n",
       " (name = PassiveAggressiveClassifier, package_name = ScikitLearn, ... )\n",
       " (name = PerceptronClassifier, package_name = ScikitLearn, ... )\n",
       " (name = ProbabilisticSGDClassifier, package_name = ScikitLearn, ... )\n",
       " (name = RandomForestClassifier, package_name = DecisionTree, ... )\n",
       " (name = RandomForestClassifier, package_name = ScikitLearn, ... )\n",
       " (name = RidgeCVClassifier, package_name = ScikitLearn, ... )\n",
       " (name = RidgeClassifier, package_name = ScikitLearn, ... )\n",
       " (name = SGDClassifier, package_name = ScikitLearn, ... )\n",
       " (name = SVC, package_name = LIBSVM, ... )\n",
       " (name = SVMClassifier, package_name = ScikitLearn, ... )\n",
       " (name = SVMLinearClassifier, package_name = ScikitLearn, ... )\n",
       " (name = SVMNuClassifier, package_name = ScikitLearn, ... )\n",
       " (name = SubspaceLDA, package_name = MultivariateStats, ... )\n",
       " (name = XGBoostClassifier, package_name = XGBoost, ... )"
      ]
     },
     "execution_count": 24,
     "metadata": {},
     "output_type": "execute_result"
    }
   ],
   "source": [
    "models(matching(X,y))"
   ]
  },
  {
   "cell_type": "code",
   "execution_count": 25,
   "metadata": {},
   "outputs": [
    {
     "name": "stderr",
     "output_type": "stream",
     "text": [
      "┌ Info: Model code for NeuralNetworkClassifier already loaded\n",
      "└ @ MLJModels /home/andrew/.julia/packages/MLJModels/5DFoi/src/loading.jl:54\n"
     ]
    },
    {
     "data": {
      "text/plain": [
       "NeuralNetworkClassifier(\n",
       "    builder = Short(\n",
       "            n_hidden = 0,\n",
       "            dropout = 0.5,\n",
       "            σ = NNlib.σ),\n",
       "    finaliser = NNlib.softmax,\n",
       "    optimiser = ADAM(0.001, (0.9, 0.999), IdDict{Any,Any}()),\n",
       "    loss = Flux.crossentropy,\n",
       "    epochs = 10,\n",
       "    batch_size = 1,\n",
       "    lambda = 0.0,\n",
       "    alpha = 0.0,\n",
       "    optimiser_changes_trigger_retraining = false)\u001b[34m @318\u001b[39m"
      ]
     },
     "execution_count": 25,
     "metadata": {},
     "output_type": "execute_result"
    }
   ],
   "source": [
    "@load NeuralNetworkClassifier verbosity=2"
   ]
  },
  {
   "cell_type": "code",
   "execution_count": 26,
   "metadata": {},
   "outputs": [],
   "source": [
    "info(NeuralNetworkClassifier);"
   ]
  },
  {
   "cell_type": "markdown",
   "metadata": {},
   "source": [
    "## Neural networks\n",
    "* Use favorite kind of network and training algorithm. \n",
    "* You may use networks of nodes with as many layers as you like and any activation function you see fit.\n",
    "\n",
    "1. https://github.com/alan-turing-institute/MLJFlux.jl/blob/master/examples/boston.ipynb\n",
    "1. https://github.com/alan-turing-institute/MLJFlux.jl\n",
    "1. https://alan-turing-institute.github.io/MLJ.jl/dev/transformers/"
   ]
  },
  {
   "cell_type": "code",
   "execution_count": 27,
   "metadata": {},
   "outputs": [],
   "source": [
    "# Define a custom network\n",
    "mutable struct CustomNN <:MLJFlux.Builder\n",
    "    n1 ::Int\n",
    "    n2 ::Int\n",
    "end"
   ]
  },
  {
   "cell_type": "code",
   "execution_count": 28,
   "metadata": {},
   "outputs": [],
   "source": [
    "function MLJFlux.build(nn::CustomNN, n_in, n_out)\n",
    "    return Chain(\n",
    "        Flux.Dense(n_in, nn.n1, σ),\n",
    "#         Flux.Dense(nn.n1, nn.n2, σ),\n",
    "        Flux.Dense(nn.n1, n_out, σ),\n",
    "    )\n",
    "end"
   ]
  },
  {
   "cell_type": "code",
   "execution_count": 29,
   "metadata": {},
   "outputs": [
    {
     "data": {
      "text/plain": [
       "5"
      ]
     },
     "execution_count": 29,
     "metadata": {},
     "output_type": "execute_result"
    }
   ],
   "source": [
    "layer1 = 34\n",
    "layer2 = 5"
   ]
  },
  {
   "cell_type": "markdown",
   "metadata": {},
   "source": [
    "### No-preprocessing"
   ]
  },
  {
   "cell_type": "code",
   "execution_count": null,
   "metadata": {},
   "outputs": [],
   "source": [
    "# nn = NeuralNetworkClassifier(builder=CustomNN(layer1,layer2))"
   ]
  },
  {
   "cell_type": "code",
   "execution_count": null,
   "metadata": {},
   "outputs": [],
   "source": [
    "# Net = machine(nn, X, y)"
   ]
  },
  {
   "cell_type": "code",
   "execution_count": null,
   "metadata": {},
   "outputs": [],
   "source": [
    "# nn.optimiser.eta = 0.001\n",
    "# nn.epochs = 60\n",
    "# nn.batch_size = 16\n",
    "# nn.lambda = 0.01"
   ]
  },
  {
   "cell_type": "code",
   "execution_count": null,
   "metadata": {
    "scrolled": true
   },
   "outputs": [],
   "source": [
    "# fit!(Net, rows=train, verbosity=2)"
   ]
  },
  {
   "cell_type": "code",
   "execution_count": null,
   "metadata": {},
   "outputs": [],
   "source": [
    "# nn.optimiser.eta = nn.optimiser.eta / 3\n",
    "# nn.epochs = nn.epochs + 40"
   ]
  },
  {
   "cell_type": "code",
   "execution_count": null,
   "metadata": {
    "scrolled": true
   },
   "outputs": [],
   "source": [
    "# fit!(Net, rows=train, verbosity=2)"
   ]
  },
  {
   "cell_type": "code",
   "execution_count": null,
   "metadata": {},
   "outputs": [],
   "source": [
    "# ŷ = predict(Net, X[test,:]);"
   ]
  },
  {
   "cell_type": "code",
   "execution_count": null,
   "metadata": {},
   "outputs": [],
   "source": [
    "# cross_entropy(ŷ, y[test]) |> mean"
   ]
  },
  {
   "cell_type": "code",
   "execution_count": null,
   "metadata": {},
   "outputs": [],
   "source": [
    "# acc(ŷ, y[test])"
   ]
  },
  {
   "cell_type": "code",
   "execution_count": null,
   "metadata": {},
   "outputs": [],
   "source": [
    "# nn_acc = evaluate!(Net, resampling=CV(shuffle=true), measure=[cross_entropy, acc], verbosity=1)"
   ]
  },
  {
   "cell_type": "code",
   "execution_count": null,
   "metadata": {},
   "outputs": [],
   "source": [
    "# fitted_params(Net)"
   ]
  },
  {
   "cell_type": "code",
   "execution_count": null,
   "metadata": {
    "scrolled": true
   },
   "outputs": [],
   "source": [
    "# report(Net)"
   ]
  },
  {
   "cell_type": "markdown",
   "metadata": {},
   "source": [
    "### With Preprocessing"
   ]
  },
  {
   "cell_type": "code",
   "execution_count": 78,
   "metadata": {},
   "outputs": [
    {
     "data": {
      "text/plain": [
       "NeuralNetworkClassifier(\n",
       "    builder = CustomNN(\n",
       "            n1 = 34,\n",
       "            n2 = 5),\n",
       "    finaliser = NNlib.softmax,\n",
       "    optimiser = ADAM(0.001, (0.9, 0.999), IdDict{Any,Any}()),\n",
       "    loss = Flux.crossentropy,\n",
       "    epochs = 10,\n",
       "    batch_size = 1,\n",
       "    lambda = 0.0,\n",
       "    alpha = 0.0,\n",
       "    optimiser_changes_trigger_retraining = false)\u001b[34m @467\u001b[39m"
      ]
     },
     "execution_count": 78,
     "metadata": {},
     "output_type": "execute_result"
    }
   ],
   "source": [
    "nn2 = NeuralNetworkClassifier(builder=CustomNN(layer1,layer2))"
   ]
  },
  {
   "cell_type": "code",
   "execution_count": 79,
   "metadata": {},
   "outputs": [
    {
     "data": {
      "text/plain": [
       "0.0021544346900318843"
      ]
     },
     "execution_count": 79,
     "metadata": {},
     "output_type": "execute_result"
    }
   ],
   "source": [
    "nn2.optimiser.eta = 0.00032\n",
    "nn2.batch_size = 16\n",
    "nn2.lambda = 0.0021544346900318843"
   ]
  },
  {
   "cell_type": "markdown",
   "metadata": {},
   "source": [
    "Standardizing Inputs makes a huge difference.\n",
    "Before, I could only barely break below 0.4 training loss, but by standardizing inputs, I can easily get near 0.3."
   ]
  },
  {
   "cell_type": "code",
   "execution_count": 80,
   "metadata": {},
   "outputs": [
    {
     "name": "stderr",
     "output_type": "stream",
     "text": [
      "┌ Info: Training \u001b[34mMachine{Standardizer} @383\u001b[39m.\n",
      "└ @ MLJBase /home/andrew/.julia/packages/MLJBase/cJmIS/src/machines.jl:322\n"
     ]
    }
   ],
   "source": [
    "standardizer = Standardizer()\n",
    "stand = machine(standardizer, X[train,:]) #only want to standardize on training distribution\n",
    "fit!(stand)\n",
    "X_stand = MLJ.transform(stand, X);"
   ]
  },
  {
   "cell_type": "code",
   "execution_count": 81,
   "metadata": {},
   "outputs": [
    {
     "data": {
      "text/plain": [
       "\u001b[34mMachine{NeuralNetworkClassifier{CustomNN,…}} @889\u001b[39m trained 0 times.\n",
       "  args: \n",
       "    1:\t\u001b[34mSource @067\u001b[39m ⏎ `Table{AbstractArray{Continuous,1}}`\n",
       "    2:\t\u001b[34mSource @210\u001b[39m ⏎ `AbstractArray{Multiclass{2},1}`\n"
      ]
     },
     "execution_count": 81,
     "metadata": {},
     "output_type": "execute_result"
    }
   ],
   "source": [
    "Net2 = machine(nn2, X_stand, y)"
   ]
  },
  {
   "cell_type": "markdown",
   "metadata": {},
   "source": [
    "### Learning Curve"
   ]
  },
  {
   "cell_type": "code",
   "execution_count": 82,
   "metadata": {},
   "outputs": [
    {
     "data": {
      "text/plain": [
       "1000"
      ]
     },
     "execution_count": 82,
     "metadata": {},
     "output_type": "execute_result"
    }
   ],
   "source": [
    "max_epochs = 1000"
   ]
  },
  {
   "cell_type": "code",
   "execution_count": 83,
   "metadata": {},
   "outputs": [],
   "source": [
    "nn2.epochs = max_epochs;"
   ]
  },
  {
   "cell_type": "code",
   "execution_count": 84,
   "metadata": {},
   "outputs": [
    {
     "name": "stderr",
     "output_type": "stream",
     "text": [
      "┌ Info: Training \u001b[34mMachine{NeuralNetworkClassifier{CustomNN,…}} @889\u001b[39m.\n",
      "└ @ MLJBase /home/andrew/.julia/packages/MLJBase/cJmIS/src/machines.jl:322\n",
      "\u001b[33mOptimising neural net:100%[=========================] Time: 0:00:06\u001b[39m\n"
     ]
    },
    {
     "data": {
      "text/plain": [
       "\u001b[34mMachine{NeuralNetworkClassifier{CustomNN,…}} @889\u001b[39m trained 1 time.\n",
       "  args: \n",
       "    1:\t\u001b[34mSource @067\u001b[39m ⏎ `Table{AbstractArray{Continuous,1}}`\n",
       "    2:\t\u001b[34mSource @210\u001b[39m ⏎ `AbstractArray{Multiclass{2},1}`\n"
      ]
     },
     "execution_count": 84,
     "metadata": {},
     "output_type": "execute_result"
    }
   ],
   "source": [
    "fit!(Net2, rows=train, verbosity=1, force=true)"
   ]
  },
  {
   "cell_type": "code",
   "execution_count": 85,
   "metadata": {
    "scrolled": true
   },
   "outputs": [
    {
     "name": "stderr",
     "output_type": "stream",
     "text": [
      "┌ Info: Training \u001b[34mMachine{ProbabilisticTunedModel{Grid,…}} @561\u001b[39m.\n",
      "└ @ MLJBase /home/andrew/.julia/packages/MLJBase/cJmIS/src/machines.jl:322\n",
      "┌ Info: Attempting to evaluate 201 models.\n",
      "└ @ MLJTuning /home/andrew/.julia/packages/MLJTuning/nuvTc/src/tuned_models.jl:501\n",
      "\u001b[33mEvaluating over 201 metamodels: 100%[=========================] Time: 0:00:06\u001b[39m\n"
     ]
    },
    {
     "data": {
      "text/plain": [
       "(parameter_name = \"epochs\",\n",
       " parameter_scale = :none,\n",
       " parameter_values = [0, 5, 10, 15, 20, 25, 30, 35, 40, 45  …  955, 960, 965, 970, 975, 980, 985, 990, 995, 1000],\n",
       " measurements = [0.6221318244934082, 0.5273643136024475, 0.46732476353645325, 0.42862722277641296, 0.40306559205055237, 0.3857846260070801, 0.3738712668418884, 0.3655143082141876, 0.35951507091522217, 0.3550669550895691  …  0.3369778096675873, 0.3369719386100769, 0.3369652330875397, 0.336958646774292, 0.33695217967033386, 0.3369460999965668, 0.33694007992744446, 0.3369344174861908, 0.3369283974170685, 0.33692261576652527],)"
      ]
     },
     "execution_count": 85,
     "metadata": {},
     "output_type": "execute_result"
    }
   ],
   "source": [
    "values = collect(0:5:max_epochs)\n",
    "r = range(nn2, :epochs, values=values)\n",
    "# r = range(nn2, :epochs, lower=0, upper=max_epochs)\n",
    "curve = learning_curve(Net2, \n",
    "                        range=r, \n",
    "                        resampling=Holdout(fraction_train=0.7), \n",
    "#                         resampling=CV(nfolds=4), \n",
    "                        measure=cross_entropy, \n",
    "                        acceleration=CPUThreads())"
   ]
  },
  {
   "cell_type": "code",
   "execution_count": 86,
   "metadata": {},
   "outputs": [
    {
     "data": {
      "image/svg+xml": [
       "<?xml version=\"1.0\" encoding=\"utf-8\"?>\n",
       "<svg xmlns=\"http://www.w3.org/2000/svg\" xmlns:xlink=\"http://www.w3.org/1999/xlink\" width=\"600\" height=\"400\" viewBox=\"0 0 2400 1600\">\n",
       "<defs>\n",
       "  <clipPath id=\"clip410\">\n",
       "    <rect x=\"0\" y=\"0\" width=\"2400\" height=\"1600\"/>\n",
       "  </clipPath>\n",
       "</defs>\n",
       "<path clip-path=\"url(#clip410)\" d=\"\n",
       "M0 1600 L2400 1600 L2400 0 L0 0  Z\n",
       "  \" fill=\"#ffffff\" fill-rule=\"evenodd\" fill-opacity=\"1\"/>\n",
       "<defs>\n",
       "  <clipPath id=\"clip411\">\n",
       "    <rect x=\"480\" y=\"0\" width=\"1681\" height=\"1600\"/>\n",
       "  </clipPath>\n",
       "</defs>\n",
       "<path clip-path=\"url(#clip410)\" d=\"\n",
       "M238.616 1423.18 L2352.76 1423.18 L2352.76 47.2441 L238.616 47.2441  Z\n",
       "  \" fill=\"#ffffff\" fill-rule=\"evenodd\" fill-opacity=\"1\"/>\n",
       "<defs>\n",
       "  <clipPath id=\"clip412\">\n",
       "    <rect x=\"238\" y=\"47\" width=\"2115\" height=\"1377\"/>\n",
       "  </clipPath>\n",
       "</defs>\n",
       "<polyline clip-path=\"url(#clip412)\" style=\"stroke:#000000; stroke-width:2; stroke-opacity:0.1; fill:none\" points=\"\n",
       "  298.45,1423.18 298.45,47.2441 \n",
       "  \"/>\n",
       "<polyline clip-path=\"url(#clip412)\" style=\"stroke:#000000; stroke-width:2; stroke-opacity:0.1; fill:none\" points=\"\n",
       "  797.068,1423.18 797.068,47.2441 \n",
       "  \"/>\n",
       "<polyline clip-path=\"url(#clip412)\" style=\"stroke:#000000; stroke-width:2; stroke-opacity:0.1; fill:none\" points=\"\n",
       "  1295.69,1423.18 1295.69,47.2441 \n",
       "  \"/>\n",
       "<polyline clip-path=\"url(#clip412)\" style=\"stroke:#000000; stroke-width:2; stroke-opacity:0.1; fill:none\" points=\"\n",
       "  1794.3,1423.18 1794.3,47.2441 \n",
       "  \"/>\n",
       "<polyline clip-path=\"url(#clip412)\" style=\"stroke:#000000; stroke-width:2; stroke-opacity:0.1; fill:none\" points=\"\n",
       "  2292.92,1423.18 2292.92,47.2441 \n",
       "  \"/>\n",
       "<polyline clip-path=\"url(#clip412)\" style=\"stroke:#000000; stroke-width:2; stroke-opacity:0.1; fill:none\" points=\"\n",
       "  238.616,1248.33 2352.76,1248.33 \n",
       "  \"/>\n",
       "<polyline clip-path=\"url(#clip412)\" style=\"stroke:#000000; stroke-width:2; stroke-opacity:0.1; fill:none\" points=\"\n",
       "  238.616,1049.56 2352.76,1049.56 \n",
       "  \"/>\n",
       "<polyline clip-path=\"url(#clip412)\" style=\"stroke:#000000; stroke-width:2; stroke-opacity:0.1; fill:none\" points=\"\n",
       "  238.616,850.79 2352.76,850.79 \n",
       "  \"/>\n",
       "<polyline clip-path=\"url(#clip412)\" style=\"stroke:#000000; stroke-width:2; stroke-opacity:0.1; fill:none\" points=\"\n",
       "  238.616,652.019 2352.76,652.019 \n",
       "  \"/>\n",
       "<polyline clip-path=\"url(#clip412)\" style=\"stroke:#000000; stroke-width:2; stroke-opacity:0.1; fill:none\" points=\"\n",
       "  238.616,453.249 2352.76,453.249 \n",
       "  \"/>\n",
       "<polyline clip-path=\"url(#clip412)\" style=\"stroke:#000000; stroke-width:2; stroke-opacity:0.1; fill:none\" points=\"\n",
       "  238.616,254.478 2352.76,254.478 \n",
       "  \"/>\n",
       "<polyline clip-path=\"url(#clip412)\" style=\"stroke:#000000; stroke-width:2; stroke-opacity:0.1; fill:none\" points=\"\n",
       "  238.616,55.7072 2352.76,55.7072 \n",
       "  \"/>\n",
       "<polyline clip-path=\"url(#clip410)\" style=\"stroke:#000000; stroke-width:4; stroke-opacity:1; fill:none\" points=\"\n",
       "  238.616,1423.18 2352.76,1423.18 \n",
       "  \"/>\n",
       "<polyline clip-path=\"url(#clip410)\" style=\"stroke:#000000; stroke-width:4; stroke-opacity:1; fill:none\" points=\"\n",
       "  238.616,1423.18 238.616,47.2441 \n",
       "  \"/>\n",
       "<polyline clip-path=\"url(#clip410)\" style=\"stroke:#000000; stroke-width:4; stroke-opacity:1; fill:none\" points=\"\n",
       "  298.45,1423.18 298.45,1406.67 \n",
       "  \"/>\n",
       "<polyline clip-path=\"url(#clip410)\" style=\"stroke:#000000; stroke-width:4; stroke-opacity:1; fill:none\" points=\"\n",
       "  797.068,1423.18 797.068,1406.67 \n",
       "  \"/>\n",
       "<polyline clip-path=\"url(#clip410)\" style=\"stroke:#000000; stroke-width:4; stroke-opacity:1; fill:none\" points=\"\n",
       "  1295.69,1423.18 1295.69,1406.67 \n",
       "  \"/>\n",
       "<polyline clip-path=\"url(#clip410)\" style=\"stroke:#000000; stroke-width:4; stroke-opacity:1; fill:none\" points=\"\n",
       "  1794.3,1423.18 1794.3,1406.67 \n",
       "  \"/>\n",
       "<polyline clip-path=\"url(#clip410)\" style=\"stroke:#000000; stroke-width:4; stroke-opacity:1; fill:none\" points=\"\n",
       "  2292.92,1423.18 2292.92,1406.67 \n",
       "  \"/>\n",
       "<polyline clip-path=\"url(#clip410)\" style=\"stroke:#000000; stroke-width:4; stroke-opacity:1; fill:none\" points=\"\n",
       "  238.616,1248.33 263.986,1248.33 \n",
       "  \"/>\n",
       "<polyline clip-path=\"url(#clip410)\" style=\"stroke:#000000; stroke-width:4; stroke-opacity:1; fill:none\" points=\"\n",
       "  238.616,1049.56 263.986,1049.56 \n",
       "  \"/>\n",
       "<polyline clip-path=\"url(#clip410)\" style=\"stroke:#000000; stroke-width:4; stroke-opacity:1; fill:none\" points=\"\n",
       "  238.616,850.79 263.986,850.79 \n",
       "  \"/>\n",
       "<polyline clip-path=\"url(#clip410)\" style=\"stroke:#000000; stroke-width:4; stroke-opacity:1; fill:none\" points=\"\n",
       "  238.616,652.019 263.986,652.019 \n",
       "  \"/>\n",
       "<polyline clip-path=\"url(#clip410)\" style=\"stroke:#000000; stroke-width:4; stroke-opacity:1; fill:none\" points=\"\n",
       "  238.616,453.249 263.986,453.249 \n",
       "  \"/>\n",
       "<polyline clip-path=\"url(#clip410)\" style=\"stroke:#000000; stroke-width:4; stroke-opacity:1; fill:none\" points=\"\n",
       "  238.616,254.478 263.986,254.478 \n",
       "  \"/>\n",
       "<polyline clip-path=\"url(#clip410)\" style=\"stroke:#000000; stroke-width:4; stroke-opacity:1; fill:none\" points=\"\n",
       "  238.616,55.7072 263.986,55.7072 \n",
       "  \"/>\n",
       "<path clip-path=\"url(#clip410)\" d=\"M 0 0 M298.45 1445.17 Q294.839 1445.17 293.011 1448.74 Q291.205 1452.28 291.205 1459.41 Q291.205 1466.51 293.011 1470.08 Q294.839 1473.62 298.45 1473.62 Q302.085 1473.62 303.89 1470.08 Q305.719 1466.51 305.719 1459.41 Q305.719 1452.28 303.89 1448.74 Q302.085 1445.17 298.45 1445.17 M298.45 1441.47 Q304.26 1441.47 307.316 1446.07 Q310.395 1450.66 310.395 1459.41 Q310.395 1468.13 307.316 1472.74 Q304.26 1477.32 298.45 1477.32 Q292.64 1477.32 289.561 1472.74 Q286.506 1468.13 286.506 1459.41 Q286.506 1450.66 289.561 1446.07 Q292.64 1441.47 298.45 1441.47 Z\" fill=\"#000000\" fill-rule=\"evenodd\" fill-opacity=\"1\" /><path clip-path=\"url(#clip410)\" d=\"M 0 0 M765.205 1472.72 L781.524 1472.72 L781.524 1476.65 L759.58 1476.65 L759.58 1472.72 Q762.242 1469.96 766.825 1465.33 Q771.432 1460.68 772.612 1459.34 Q774.858 1456.81 775.737 1455.08 Q776.64 1453.32 776.64 1451.63 Q776.64 1448.87 774.696 1447.14 Q772.774 1445.4 769.672 1445.4 Q767.473 1445.4 765.02 1446.17 Q762.589 1446.93 759.811 1448.48 L759.811 1443.76 Q762.635 1442.62 765.089 1442.05 Q767.543 1441.47 769.58 1441.47 Q774.95 1441.47 778.145 1444.15 Q781.339 1446.84 781.339 1451.33 Q781.339 1453.46 780.529 1455.38 Q779.742 1457.28 777.635 1459.87 Q777.057 1460.54 773.955 1463.76 Q770.853 1466.95 765.205 1472.72 Z\" fill=\"#000000\" fill-rule=\"evenodd\" fill-opacity=\"1\" /><path clip-path=\"url(#clip410)\" d=\"M 0 0 M786.64 1442.09 L804.996 1442.09 L804.996 1446.03 L790.922 1446.03 L790.922 1454.5 Q791.941 1454.15 792.959 1453.99 Q793.978 1453.8 794.996 1453.8 Q800.783 1453.8 804.163 1456.98 Q807.543 1460.15 807.543 1465.56 Q807.543 1471.14 804.07 1474.24 Q800.598 1477.32 794.279 1477.32 Q792.103 1477.32 789.834 1476.95 Q787.589 1476.58 785.182 1475.84 L785.182 1471.14 Q787.265 1472.28 789.487 1472.83 Q791.709 1473.39 794.186 1473.39 Q798.191 1473.39 800.529 1471.28 Q802.867 1469.18 802.867 1465.56 Q802.867 1461.95 800.529 1459.85 Q798.191 1457.74 794.186 1457.74 Q792.311 1457.74 790.436 1458.16 Q788.584 1458.57 786.64 1459.45 L786.64 1442.09 Z\" fill=\"#000000\" fill-rule=\"evenodd\" fill-opacity=\"1\" /><path clip-path=\"url(#clip410)\" d=\"M 0 0 M822.612 1445.17 Q819.001 1445.17 817.172 1448.74 Q815.367 1452.28 815.367 1459.41 Q815.367 1466.51 817.172 1470.08 Q819.001 1473.62 822.612 1473.62 Q826.246 1473.62 828.052 1470.08 Q829.88 1466.51 829.88 1459.41 Q829.88 1452.28 828.052 1448.74 Q826.246 1445.17 822.612 1445.17 M822.612 1441.47 Q828.422 1441.47 831.478 1446.07 Q834.556 1450.66 834.556 1459.41 Q834.556 1468.13 831.478 1472.74 Q828.422 1477.32 822.612 1477.32 Q816.802 1477.32 813.723 1472.74 Q810.668 1468.13 810.668 1459.41 Q810.668 1450.66 813.723 1446.07 Q816.802 1441.47 822.612 1441.47 Z\" fill=\"#000000\" fill-rule=\"evenodd\" fill-opacity=\"1\" /><path clip-path=\"url(#clip410)\" d=\"M 0 0 M1258.95 1442.09 L1277.31 1442.09 L1277.31 1446.03 L1263.23 1446.03 L1263.23 1454.5 Q1264.25 1454.15 1265.27 1453.99 Q1266.29 1453.8 1267.31 1453.8 Q1273.09 1453.8 1276.47 1456.98 Q1279.85 1460.15 1279.85 1465.56 Q1279.85 1471.14 1276.38 1474.24 Q1272.91 1477.32 1266.59 1477.32 Q1264.41 1477.32 1262.14 1476.95 Q1259.9 1476.58 1257.49 1475.84 L1257.49 1471.14 Q1259.58 1472.28 1261.8 1472.83 Q1264.02 1473.39 1266.5 1473.39 Q1270.5 1473.39 1272.84 1471.28 Q1275.18 1469.18 1275.18 1465.56 Q1275.18 1461.95 1272.84 1459.85 Q1270.5 1457.74 1266.5 1457.74 Q1264.62 1457.74 1262.75 1458.16 Q1260.89 1458.57 1258.95 1459.45 L1258.95 1442.09 Z\" fill=\"#000000\" fill-rule=\"evenodd\" fill-opacity=\"1\" /><path clip-path=\"url(#clip410)\" d=\"M 0 0 M1294.92 1445.17 Q1291.31 1445.17 1289.48 1448.74 Q1287.68 1452.28 1287.68 1459.41 Q1287.68 1466.51 1289.48 1470.08 Q1291.31 1473.62 1294.92 1473.62 Q1298.56 1473.62 1300.36 1470.08 Q1302.19 1466.51 1302.19 1459.41 Q1302.19 1452.28 1300.36 1448.74 Q1298.56 1445.17 1294.92 1445.17 M1294.92 1441.47 Q1300.73 1441.47 1303.79 1446.07 Q1306.87 1450.66 1306.87 1459.41 Q1306.87 1468.13 1303.79 1472.74 Q1300.73 1477.32 1294.92 1477.32 Q1289.11 1477.32 1286.03 1472.74 Q1282.98 1468.13 1282.98 1459.41 Q1282.98 1450.66 1286.03 1446.07 Q1289.11 1441.47 1294.92 1441.47 Z\" fill=\"#000000\" fill-rule=\"evenodd\" fill-opacity=\"1\" /><path clip-path=\"url(#clip410)\" d=\"M 0 0 M1321.94 1445.17 Q1318.32 1445.17 1316.5 1448.74 Q1314.69 1452.28 1314.69 1459.41 Q1314.69 1466.51 1316.5 1470.08 Q1318.32 1473.62 1321.94 1473.62 Q1325.57 1473.62 1327.38 1470.08 Q1329.2 1466.51 1329.2 1459.41 Q1329.2 1452.28 1327.38 1448.74 Q1325.57 1445.17 1321.94 1445.17 M1321.94 1441.47 Q1327.75 1441.47 1330.8 1446.07 Q1333.88 1450.66 1333.88 1459.41 Q1333.88 1468.13 1330.8 1472.74 Q1327.75 1477.32 1321.94 1477.32 Q1316.13 1477.32 1313.05 1472.74 Q1309.99 1468.13 1309.99 1459.41 Q1309.99 1450.66 1313.05 1446.07 Q1316.13 1441.47 1321.94 1441.47 Z\" fill=\"#000000\" fill-rule=\"evenodd\" fill-opacity=\"1\" /><path clip-path=\"url(#clip410)\" d=\"M 0 0 M1756.68 1442.09 L1778.9 1442.09 L1778.9 1444.08 L1766.35 1476.65 L1761.47 1476.65 L1773.27 1446.03 L1756.68 1446.03 L1756.68 1442.09 Z\" fill=\"#000000\" fill-rule=\"evenodd\" fill-opacity=\"1\" /><path clip-path=\"url(#clip410)\" d=\"M 0 0 M1784.01 1442.09 L1802.37 1442.09 L1802.37 1446.03 L1788.3 1446.03 L1788.3 1454.5 Q1789.32 1454.15 1790.33 1453.99 Q1791.35 1453.8 1792.37 1453.8 Q1798.16 1453.8 1801.54 1456.98 Q1804.92 1460.15 1804.92 1465.56 Q1804.92 1471.14 1801.45 1474.24 Q1797.97 1477.32 1791.65 1477.32 Q1789.48 1477.32 1787.21 1476.95 Q1784.96 1476.58 1782.56 1475.84 L1782.56 1471.14 Q1784.64 1472.28 1786.86 1472.83 Q1789.08 1473.39 1791.56 1473.39 Q1795.57 1473.39 1797.9 1471.28 Q1800.24 1469.18 1800.24 1465.56 Q1800.24 1461.95 1797.9 1459.85 Q1795.57 1457.74 1791.56 1457.74 Q1789.69 1457.74 1787.81 1458.16 Q1785.96 1458.57 1784.01 1459.45 L1784.01 1442.09 Z\" fill=\"#000000\" fill-rule=\"evenodd\" fill-opacity=\"1\" /><path clip-path=\"url(#clip410)\" d=\"M 0 0 M1819.99 1445.17 Q1816.38 1445.17 1814.55 1448.74 Q1812.74 1452.28 1812.74 1459.41 Q1812.74 1466.51 1814.55 1470.08 Q1816.38 1473.62 1819.99 1473.62 Q1823.62 1473.62 1825.43 1470.08 Q1827.26 1466.51 1827.26 1459.41 Q1827.26 1452.28 1825.43 1448.74 Q1823.62 1445.17 1819.99 1445.17 M1819.99 1441.47 Q1825.8 1441.47 1828.85 1446.07 Q1831.93 1450.66 1831.93 1459.41 Q1831.93 1468.13 1828.85 1472.74 Q1825.8 1477.32 1819.99 1477.32 Q1814.18 1477.32 1811.1 1472.74 Q1808.04 1468.13 1808.04 1459.41 Q1808.04 1450.66 1811.1 1446.07 Q1814.18 1441.47 1819.99 1441.47 Z\" fill=\"#000000\" fill-rule=\"evenodd\" fill-opacity=\"1\" /><path clip-path=\"url(#clip410)\" d=\"M 0 0 M2242.78 1472.72 L2250.42 1472.72 L2250.42 1446.35 L2242.11 1448.02 L2242.11 1443.76 L2250.38 1442.09 L2255.05 1442.09 L2255.05 1472.72 L2262.69 1472.72 L2262.69 1476.65 L2242.78 1476.65 L2242.78 1472.72 Z\" fill=\"#000000\" fill-rule=\"evenodd\" fill-opacity=\"1\" /><path clip-path=\"url(#clip410)\" d=\"M 0 0 M2277.76 1445.17 Q2274.15 1445.17 2272.32 1448.74 Q2270.51 1452.28 2270.51 1459.41 Q2270.51 1466.51 2272.32 1470.08 Q2274.15 1473.62 2277.76 1473.62 Q2281.39 1473.62 2283.2 1470.08 Q2285.03 1466.51 2285.03 1459.41 Q2285.03 1452.28 2283.2 1448.74 Q2281.39 1445.17 2277.76 1445.17 M2277.76 1441.47 Q2283.57 1441.47 2286.63 1446.07 Q2289.7 1450.66 2289.7 1459.41 Q2289.7 1468.13 2286.63 1472.74 Q2283.57 1477.32 2277.76 1477.32 Q2271.95 1477.32 2268.87 1472.74 Q2265.82 1468.13 2265.82 1459.41 Q2265.82 1450.66 2268.87 1446.07 Q2271.95 1441.47 2277.76 1441.47 Z\" fill=\"#000000\" fill-rule=\"evenodd\" fill-opacity=\"1\" /><path clip-path=\"url(#clip410)\" d=\"M 0 0 M2304.77 1445.17 Q2301.16 1445.17 2299.33 1448.74 Q2297.53 1452.28 2297.53 1459.41 Q2297.53 1466.51 2299.33 1470.08 Q2301.16 1473.62 2304.77 1473.62 Q2308.41 1473.62 2310.21 1470.08 Q2312.04 1466.51 2312.04 1459.41 Q2312.04 1452.28 2310.21 1448.74 Q2308.41 1445.17 2304.77 1445.17 M2304.77 1441.47 Q2310.58 1441.47 2313.64 1446.07 Q2316.72 1450.66 2316.72 1459.41 Q2316.72 1468.13 2313.64 1472.74 Q2310.58 1477.32 2304.77 1477.32 Q2298.96 1477.32 2295.88 1472.74 Q2292.83 1468.13 2292.83 1459.41 Q2292.83 1450.66 2295.88 1446.07 Q2298.96 1441.47 2304.77 1441.47 Z\" fill=\"#000000\" fill-rule=\"evenodd\" fill-opacity=\"1\" /><path clip-path=\"url(#clip410)\" d=\"M 0 0 M2331.79 1445.17 Q2328.18 1445.17 2326.35 1448.74 Q2324.54 1452.28 2324.54 1459.41 Q2324.54 1466.51 2326.35 1470.08 Q2328.18 1473.62 2331.79 1473.62 Q2335.42 1473.62 2337.23 1470.08 Q2339.06 1466.51 2339.06 1459.41 Q2339.06 1452.28 2337.23 1448.74 Q2335.42 1445.17 2331.79 1445.17 M2331.79 1441.47 Q2337.6 1441.47 2340.65 1446.07 Q2343.73 1450.66 2343.73 1459.41 Q2343.73 1468.13 2340.65 1472.74 Q2337.6 1477.32 2331.79 1477.32 Q2325.98 1477.32 2322.9 1472.74 Q2319.84 1468.13 2319.84 1459.41 Q2319.84 1450.66 2322.9 1446.07 Q2325.98 1441.47 2331.79 1441.47 Z\" fill=\"#000000\" fill-rule=\"evenodd\" fill-opacity=\"1\" /><path clip-path=\"url(#clip410)\" d=\"M 0 0 M140.334 1234.13 Q136.723 1234.13 134.894 1237.69 Q133.089 1241.24 133.089 1248.37 Q133.089 1255.47 134.894 1259.04 Q136.723 1262.58 140.334 1262.58 Q143.968 1262.58 145.774 1259.04 Q147.603 1255.47 147.603 1248.37 Q147.603 1241.24 145.774 1237.69 Q143.968 1234.13 140.334 1234.13 M140.334 1230.43 Q146.144 1230.43 149.2 1235.03 Q152.279 1239.62 152.279 1248.37 Q152.279 1257.09 149.2 1261.7 Q146.144 1266.28 140.334 1266.28 Q134.524 1266.28 131.445 1261.7 Q128.39 1257.09 128.39 1248.37 Q128.39 1239.62 131.445 1235.03 Q134.524 1230.43 140.334 1230.43 Z\" fill=\"#000000\" fill-rule=\"evenodd\" fill-opacity=\"1\" /><path clip-path=\"url(#clip410)\" d=\"M 0 0 M157.348 1259.73 L162.232 1259.73 L162.232 1265.61 L157.348 1265.61 L157.348 1259.73 Z\" fill=\"#000000\" fill-rule=\"evenodd\" fill-opacity=\"1\" /><path clip-path=\"url(#clip410)\" d=\"M 0 0 M181.468 1246.98 Q184.825 1247.69 186.7 1249.96 Q188.598 1252.23 188.598 1255.56 Q188.598 1260.68 185.079 1263.48 Q181.561 1266.28 175.079 1266.28 Q172.903 1266.28 170.589 1265.84 Q168.297 1265.43 165.843 1264.57 L165.843 1260.06 Q167.788 1261.19 170.103 1261.77 Q172.417 1262.35 174.94 1262.35 Q179.339 1262.35 181.63 1260.61 Q183.945 1258.88 183.945 1255.56 Q183.945 1252.51 181.792 1250.8 Q179.663 1249.06 175.843 1249.06 L171.815 1249.06 L171.815 1245.22 L176.028 1245.22 Q179.477 1245.22 181.306 1243.85 Q183.135 1242.46 183.135 1239.87 Q183.135 1237.21 181.237 1235.8 Q179.362 1234.36 175.843 1234.36 Q173.922 1234.36 171.723 1234.78 Q169.524 1235.19 166.885 1236.07 L166.885 1231.91 Q169.547 1231.17 171.862 1230.8 Q174.2 1230.43 176.26 1230.43 Q181.584 1230.43 184.686 1232.86 Q187.788 1235.26 187.788 1239.38 Q187.788 1242.25 186.144 1244.25 Q184.501 1246.21 181.468 1246.98 Z\" fill=\"#000000\" fill-rule=\"evenodd\" fill-opacity=\"1\" /><path clip-path=\"url(#clip410)\" d=\"M 0 0 M193.713 1231.05 L212.07 1231.05 L212.07 1234.99 L197.996 1234.99 L197.996 1243.46 Q199.014 1243.11 200.033 1242.95 Q201.051 1242.76 202.07 1242.76 Q207.857 1242.76 211.237 1245.94 Q214.616 1249.11 214.616 1254.52 Q214.616 1260.1 211.144 1263.2 Q207.672 1266.28 201.352 1266.28 Q199.176 1266.28 196.908 1265.91 Q194.663 1265.54 192.255 1264.8 L192.255 1260.1 Q194.338 1261.24 196.561 1261.79 Q198.783 1262.35 201.26 1262.35 Q205.264 1262.35 207.602 1260.24 Q209.94 1258.13 209.94 1254.52 Q209.94 1250.91 207.602 1248.81 Q205.264 1246.7 201.26 1246.7 Q199.385 1246.7 197.51 1247.12 Q195.658 1247.53 193.713 1248.41 L193.713 1231.05 Z\" fill=\"#000000\" fill-rule=\"evenodd\" fill-opacity=\"1\" /><path clip-path=\"url(#clip410)\" d=\"M 0 0 M138.205 1035.36 Q134.593 1035.36 132.765 1038.92 Q130.959 1042.47 130.959 1049.6 Q130.959 1056.7 132.765 1060.27 Q134.593 1063.81 138.205 1063.81 Q141.839 1063.81 143.644 1060.27 Q145.473 1056.7 145.473 1049.6 Q145.473 1042.47 143.644 1038.92 Q141.839 1035.36 138.205 1035.36 M138.205 1031.66 Q144.015 1031.66 147.07 1036.26 Q150.149 1040.85 150.149 1049.6 Q150.149 1058.32 147.07 1062.93 Q144.015 1067.51 138.205 1067.51 Q132.394 1067.51 129.316 1062.93 Q126.26 1058.32 126.26 1049.6 Q126.26 1040.85 129.316 1036.26 Q132.394 1031.66 138.205 1031.66 Z\" fill=\"#000000\" fill-rule=\"evenodd\" fill-opacity=\"1\" /><path clip-path=\"url(#clip410)\" d=\"M 0 0 M155.218 1060.96 L160.103 1060.96 L160.103 1066.84 L155.218 1066.84 L155.218 1060.96 Z\" fill=\"#000000\" fill-rule=\"evenodd\" fill-opacity=\"1\" /><path clip-path=\"url(#clip410)\" d=\"M 0 0 M178.019 1036.35 L166.214 1054.8 L178.019 1054.8 L178.019 1036.35 M176.792 1032.28 L182.672 1032.28 L182.672 1054.8 L187.602 1054.8 L187.602 1058.69 L182.672 1058.69 L182.672 1066.84 L178.019 1066.84 L178.019 1058.69 L162.417 1058.69 L162.417 1054.18 L176.792 1032.28 Z\" fill=\"#000000\" fill-rule=\"evenodd\" fill-opacity=\"1\" /><path clip-path=\"url(#clip410)\" d=\"M 0 0 M202.672 1035.36 Q199.061 1035.36 197.232 1038.92 Q195.426 1042.47 195.426 1049.6 Q195.426 1056.7 197.232 1060.27 Q199.061 1063.81 202.672 1063.81 Q206.306 1063.81 208.112 1060.27 Q209.94 1056.7 209.94 1049.6 Q209.94 1042.47 208.112 1038.92 Q206.306 1035.36 202.672 1035.36 M202.672 1031.66 Q208.482 1031.66 211.537 1036.26 Q214.616 1040.85 214.616 1049.6 Q214.616 1058.32 211.537 1062.93 Q208.482 1067.51 202.672 1067.51 Q196.862 1067.51 193.783 1062.93 Q190.727 1058.32 190.727 1049.6 Q190.727 1040.85 193.783 1036.26 Q196.862 1031.66 202.672 1031.66 Z\" fill=\"#000000\" fill-rule=\"evenodd\" fill-opacity=\"1\" /><path clip-path=\"url(#clip410)\" d=\"M 0 0 M139.2 836.589 Q135.589 836.589 133.76 840.153 Q131.955 843.695 131.955 850.825 Q131.955 857.931 133.76 861.496 Q135.589 865.037 139.2 865.037 Q142.834 865.037 144.64 861.496 Q146.468 857.931 146.468 850.825 Q146.468 843.695 144.64 840.153 Q142.834 836.589 139.2 836.589 M139.2 832.885 Q145.01 832.885 148.066 837.491 Q151.144 842.075 151.144 850.825 Q151.144 859.551 148.066 864.158 Q145.01 868.741 139.2 868.741 Q133.39 868.741 130.311 864.158 Q127.256 859.551 127.256 850.825 Q127.256 842.075 130.311 837.491 Q133.39 832.885 139.2 832.885 Z\" fill=\"#000000\" fill-rule=\"evenodd\" fill-opacity=\"1\" /><path clip-path=\"url(#clip410)\" d=\"M 0 0 M156.214 862.19 L161.098 862.19 L161.098 868.07 L156.214 868.07 L156.214 862.19 Z\" fill=\"#000000\" fill-rule=\"evenodd\" fill-opacity=\"1\" /><path clip-path=\"url(#clip410)\" d=\"M 0 0 M179.015 837.584 L167.209 856.033 L179.015 856.033 L179.015 837.584 M177.788 833.51 L183.667 833.51 L183.667 856.033 L188.598 856.033 L188.598 859.922 L183.667 859.922 L183.667 868.07 L179.015 868.07 L179.015 859.922 L163.413 859.922 L163.413 855.408 L177.788 833.51 Z\" fill=\"#000000\" fill-rule=\"evenodd\" fill-opacity=\"1\" /><path clip-path=\"url(#clip410)\" d=\"M 0 0 M193.713 833.51 L212.07 833.51 L212.07 837.445 L197.996 837.445 L197.996 845.917 Q199.014 845.57 200.033 845.408 Q201.051 845.223 202.07 845.223 Q207.857 845.223 211.237 848.394 Q214.616 851.565 214.616 856.982 Q214.616 862.561 211.144 865.662 Q207.672 868.741 201.352 868.741 Q199.176 868.741 196.908 868.371 Q194.663 868 192.255 867.26 L192.255 862.561 Q194.338 863.695 196.561 864.25 Q198.783 864.806 201.26 864.806 Q205.264 864.806 207.602 862.7 Q209.94 860.593 209.94 856.982 Q209.94 853.371 207.602 851.264 Q205.264 849.158 201.26 849.158 Q199.385 849.158 197.51 849.575 Q195.658 849.991 193.713 850.871 L193.713 833.51 Z\" fill=\"#000000\" fill-rule=\"evenodd\" fill-opacity=\"1\" /><path clip-path=\"url(#clip410)\" d=\"M 0 0 M139.686 637.818 Q136.075 637.818 134.246 641.383 Q132.441 644.924 132.441 652.054 Q132.441 659.16 134.246 662.725 Q136.075 666.267 139.686 666.267 Q143.32 666.267 145.126 662.725 Q146.954 659.16 146.954 652.054 Q146.954 644.924 145.126 641.383 Q143.32 637.818 139.686 637.818 M139.686 634.114 Q145.496 634.114 148.552 638.721 Q151.63 643.304 151.63 652.054 Q151.63 660.781 148.552 665.387 Q145.496 669.971 139.686 669.971 Q133.876 669.971 130.797 665.387 Q127.742 660.781 127.742 652.054 Q127.742 643.304 130.797 638.721 Q133.876 634.114 139.686 634.114 Z\" fill=\"#000000\" fill-rule=\"evenodd\" fill-opacity=\"1\" /><path clip-path=\"url(#clip410)\" d=\"M 0 0 M156.7 663.42 L161.584 663.42 L161.584 669.299 L156.7 669.299 L156.7 663.42 Z\" fill=\"#000000\" fill-rule=\"evenodd\" fill-opacity=\"1\" /><path clip-path=\"url(#clip410)\" d=\"M 0 0 M166.7 634.739 L185.056 634.739 L185.056 638.674 L170.982 638.674 L170.982 647.147 Q172.001 646.799 173.019 646.637 Q174.038 646.452 175.056 646.452 Q180.843 646.452 184.223 649.623 Q187.602 652.795 187.602 658.211 Q187.602 663.79 184.13 666.892 Q180.658 669.971 174.339 669.971 Q172.163 669.971 169.894 669.6 Q167.649 669.23 165.241 668.489 L165.241 663.79 Q167.325 664.924 169.547 665.48 Q171.769 666.035 174.246 666.035 Q178.251 666.035 180.589 663.929 Q182.927 661.822 182.927 658.211 Q182.927 654.6 180.589 652.494 Q178.251 650.387 174.246 650.387 Q172.371 650.387 170.496 650.804 Q168.644 651.221 166.7 652.1 L166.7 634.739 Z\" fill=\"#000000\" fill-rule=\"evenodd\" fill-opacity=\"1\" /><path clip-path=\"url(#clip410)\" d=\"M 0 0 M202.672 637.818 Q199.061 637.818 197.232 641.383 Q195.426 644.924 195.426 652.054 Q195.426 659.16 197.232 662.725 Q199.061 666.267 202.672 666.267 Q206.306 666.267 208.112 662.725 Q209.94 659.16 209.94 652.054 Q209.94 644.924 208.112 641.383 Q206.306 637.818 202.672 637.818 M202.672 634.114 Q208.482 634.114 211.537 638.721 Q214.616 643.304 214.616 652.054 Q214.616 660.781 211.537 665.387 Q208.482 669.971 202.672 669.971 Q196.862 669.971 193.783 665.387 Q190.727 660.781 190.727 652.054 Q190.727 643.304 193.783 638.721 Q196.862 634.114 202.672 634.114 Z\" fill=\"#000000\" fill-rule=\"evenodd\" fill-opacity=\"1\" /><path clip-path=\"url(#clip410)\" d=\"M 0 0 M140.681 439.047 Q137.07 439.047 135.242 442.612 Q133.436 446.154 133.436 453.283 Q133.436 460.39 135.242 463.955 Q137.07 467.496 140.681 467.496 Q144.316 467.496 146.121 463.955 Q147.95 460.39 147.95 453.283 Q147.95 446.154 146.121 442.612 Q144.316 439.047 140.681 439.047 M140.681 435.344 Q146.492 435.344 149.547 439.95 Q152.626 444.533 152.626 453.283 Q152.626 462.01 149.547 466.617 Q146.492 471.2 140.681 471.2 Q134.871 471.2 131.793 466.617 Q128.737 462.01 128.737 453.283 Q128.737 444.533 131.793 439.95 Q134.871 435.344 140.681 435.344 Z\" fill=\"#000000\" fill-rule=\"evenodd\" fill-opacity=\"1\" /><path clip-path=\"url(#clip410)\" d=\"M 0 0 M157.695 464.649 L162.579 464.649 L162.579 470.529 L157.695 470.529 L157.695 464.649 Z\" fill=\"#000000\" fill-rule=\"evenodd\" fill-opacity=\"1\" /><path clip-path=\"url(#clip410)\" d=\"M 0 0 M167.695 435.969 L186.052 435.969 L186.052 439.904 L171.978 439.904 L171.978 448.376 Q172.996 448.029 174.015 447.867 Q175.033 447.681 176.052 447.681 Q181.839 447.681 185.218 450.853 Q188.598 454.024 188.598 459.441 Q188.598 465.019 185.126 468.121 Q181.653 471.2 175.334 471.2 Q173.158 471.2 170.89 470.829 Q168.644 470.459 166.237 469.718 L166.237 465.019 Q168.32 466.154 170.542 466.709 Q172.765 467.265 175.241 467.265 Q179.246 467.265 181.584 465.158 Q183.922 463.052 183.922 459.441 Q183.922 455.83 181.584 453.723 Q179.246 451.617 175.241 451.617 Q173.366 451.617 171.491 452.033 Q169.64 452.45 167.695 453.33 L167.695 435.969 Z\" fill=\"#000000\" fill-rule=\"evenodd\" fill-opacity=\"1\" /><path clip-path=\"url(#clip410)\" d=\"M 0 0 M193.713 435.969 L212.07 435.969 L212.07 439.904 L197.996 439.904 L197.996 448.376 Q199.014 448.029 200.033 447.867 Q201.051 447.681 202.07 447.681 Q207.857 447.681 211.237 450.853 Q214.616 454.024 214.616 459.441 Q214.616 465.019 211.144 468.121 Q207.672 471.2 201.352 471.2 Q199.176 471.2 196.908 470.829 Q194.663 470.459 192.255 469.718 L192.255 465.019 Q194.338 466.154 196.561 466.709 Q198.783 467.265 201.26 467.265 Q205.264 467.265 207.602 465.158 Q209.94 463.052 209.94 459.441 Q209.94 455.83 207.602 453.723 Q205.264 451.617 201.26 451.617 Q199.385 451.617 197.51 452.033 Q195.658 452.45 193.713 453.33 L193.713 435.969 Z\" fill=\"#000000\" fill-rule=\"evenodd\" fill-opacity=\"1\" /><path clip-path=\"url(#clip410)\" d=\"M 0 0 M138.529 240.277 Q134.918 240.277 133.089 243.841 Q131.283 247.383 131.283 254.513 Q131.283 261.619 133.089 265.184 Q134.918 268.726 138.529 268.726 Q142.163 268.726 143.968 265.184 Q145.797 261.619 145.797 254.513 Q145.797 247.383 143.968 243.841 Q142.163 240.277 138.529 240.277 M138.529 236.573 Q144.339 236.573 147.394 241.179 Q150.473 245.763 150.473 254.513 Q150.473 263.239 147.394 267.846 Q144.339 272.429 138.529 272.429 Q132.718 272.429 129.64 267.846 Q126.584 263.239 126.584 254.513 Q126.584 245.763 129.64 241.179 Q132.718 236.573 138.529 236.573 Z\" fill=\"#000000\" fill-rule=\"evenodd\" fill-opacity=\"1\" /><path clip-path=\"url(#clip410)\" d=\"M 0 0 M155.542 265.878 L160.427 265.878 L160.427 271.758 L155.542 271.758 L155.542 265.878 Z\" fill=\"#000000\" fill-rule=\"evenodd\" fill-opacity=\"1\" /><path clip-path=\"url(#clip410)\" d=\"M 0 0 M176.075 252.614 Q172.927 252.614 171.075 254.767 Q169.246 256.92 169.246 260.67 Q169.246 264.397 171.075 266.573 Q172.927 268.726 176.075 268.726 Q179.223 268.726 181.052 266.573 Q182.903 264.397 182.903 260.67 Q182.903 256.92 181.052 254.767 Q179.223 252.614 176.075 252.614 M185.357 237.962 L185.357 242.221 Q183.598 241.388 181.792 240.948 Q180.01 240.508 178.251 240.508 Q173.621 240.508 171.167 243.633 Q168.737 246.758 168.39 253.077 Q169.755 251.064 171.815 249.999 Q173.876 248.911 176.352 248.911 Q181.561 248.911 184.57 252.082 Q187.602 255.23 187.602 260.67 Q187.602 265.994 184.454 269.212 Q181.306 272.429 176.075 272.429 Q170.079 272.429 166.908 267.846 Q163.737 263.239 163.737 254.513 Q163.737 246.318 167.626 241.457 Q171.515 236.573 178.065 236.573 Q179.825 236.573 181.607 236.92 Q183.413 237.267 185.357 237.962 Z\" fill=\"#000000\" fill-rule=\"evenodd\" fill-opacity=\"1\" /><path clip-path=\"url(#clip410)\" d=\"M 0 0 M202.672 240.277 Q199.061 240.277 197.232 243.841 Q195.426 247.383 195.426 254.513 Q195.426 261.619 197.232 265.184 Q199.061 268.726 202.672 268.726 Q206.306 268.726 208.112 265.184 Q209.94 261.619 209.94 254.513 Q209.94 247.383 208.112 243.841 Q206.306 240.277 202.672 240.277 M202.672 236.573 Q208.482 236.573 211.537 241.179 Q214.616 245.763 214.616 254.513 Q214.616 263.239 211.537 267.846 Q208.482 272.429 202.672 272.429 Q196.862 272.429 193.783 267.846 Q190.727 263.239 190.727 254.513 Q190.727 245.763 193.783 241.179 Q196.862 236.573 202.672 236.573 Z\" fill=\"#000000\" fill-rule=\"evenodd\" fill-opacity=\"1\" /><path clip-path=\"url(#clip410)\" d=\"M 0 0 M139.524 41.5059 Q135.913 41.5059 134.084 45.0707 Q132.279 48.6124 132.279 55.742 Q132.279 62.8484 134.084 66.4132 Q135.913 69.9549 139.524 69.9549 Q143.158 69.9549 144.964 66.4132 Q146.792 62.8484 146.792 55.742 Q146.792 48.6124 144.964 45.0707 Q143.158 41.5059 139.524 41.5059 M139.524 37.8023 Q145.334 37.8023 148.39 42.4087 Q151.468 46.992 151.468 55.742 Q151.468 64.4688 148.39 69.0752 Q145.334 73.6585 139.524 73.6585 Q133.714 73.6585 130.635 69.0752 Q127.58 64.4688 127.58 55.742 Q127.58 46.992 130.635 42.4087 Q133.714 37.8023 139.524 37.8023 Z\" fill=\"#000000\" fill-rule=\"evenodd\" fill-opacity=\"1\" /><path clip-path=\"url(#clip410)\" d=\"M 0 0 M156.538 67.1077 L161.422 67.1077 L161.422 72.9872 L156.538 72.9872 L156.538 67.1077 Z\" fill=\"#000000\" fill-rule=\"evenodd\" fill-opacity=\"1\" /><path clip-path=\"url(#clip410)\" d=\"M 0 0 M177.07 53.8438 Q173.922 53.8438 172.07 55.9966 Q170.241 58.1494 170.241 61.8993 Q170.241 65.6262 172.07 67.8021 Q173.922 69.9549 177.07 69.9549 Q180.218 69.9549 182.047 67.8021 Q183.899 65.6262 183.899 61.8993 Q183.899 58.1494 182.047 55.9966 Q180.218 53.8438 177.07 53.8438 M186.352 39.1911 L186.352 43.4504 Q184.593 42.617 182.788 42.1772 Q181.005 41.7374 179.246 41.7374 Q174.616 41.7374 172.163 44.8624 Q169.732 47.9874 169.385 54.3068 Q170.751 52.2929 172.811 51.2281 Q174.871 50.1401 177.348 50.1401 Q182.556 50.1401 185.565 53.3114 Q188.598 56.4596 188.598 61.8993 Q188.598 67.2234 185.45 70.441 Q182.302 73.6585 177.07 73.6585 Q171.075 73.6585 167.903 69.0752 Q164.732 64.4688 164.732 55.742 Q164.732 47.5476 168.621 42.6865 Q172.51 37.8023 179.061 37.8023 Q180.82 37.8023 182.602 38.1495 Q184.408 38.4967 186.352 39.1911 Z\" fill=\"#000000\" fill-rule=\"evenodd\" fill-opacity=\"1\" /><path clip-path=\"url(#clip410)\" d=\"M 0 0 M193.713 38.4272 L212.07 38.4272 L212.07 42.3624 L197.996 42.3624 L197.996 50.8346 Q199.014 50.4874 200.033 50.3253 Q201.051 50.1401 202.07 50.1401 Q207.857 50.1401 211.237 53.3114 Q214.616 56.4827 214.616 61.8993 Q214.616 67.478 211.144 70.5799 Q207.672 73.6585 201.352 73.6585 Q199.176 73.6585 196.908 73.2882 Q194.663 72.9178 192.255 72.1771 L192.255 67.478 Q194.338 68.6123 196.561 69.1678 Q198.783 69.7234 201.26 69.7234 Q205.264 69.7234 207.602 67.6169 Q209.94 65.5104 209.94 61.8993 Q209.94 58.2883 207.602 56.1818 Q205.264 54.0753 201.26 54.0753 Q199.385 54.0753 197.51 54.492 Q195.658 54.9086 193.713 55.7883 L193.713 38.4272 Z\" fill=\"#000000\" fill-rule=\"evenodd\" fill-opacity=\"1\" /><path clip-path=\"url(#clip410)\" d=\"M 0 0 M1225.97 1536.76 L1225.97 1539.62 L1199.04 1539.62 Q1199.42 1545.67 1202.67 1548.85 Q1205.95 1552 1211.77 1552 Q1215.14 1552 1218.29 1551.17 Q1221.48 1550.35 1224.6 1548.69 L1224.6 1554.23 Q1221.45 1555.57 1218.14 1556.27 Q1214.83 1556.97 1211.42 1556.97 Q1202.89 1556.97 1197.89 1552 Q1192.93 1547.04 1192.93 1538.57 Q1192.93 1529.82 1197.64 1524.69 Q1202.38 1519.54 1210.4 1519.54 Q1217.59 1519.54 1221.76 1524.18 Q1225.97 1528.8 1225.97 1536.76 M1220.11 1535.04 Q1220.05 1530.23 1217.4 1527.37 Q1214.79 1524.5 1210.47 1524.5 Q1205.56 1524.5 1202.6 1527.27 Q1199.68 1530.04 1199.23 1535.07 L1220.11 1535.04 Z\" fill=\"#000000\" fill-rule=\"evenodd\" fill-opacity=\"1\" /><path clip-path=\"url(#clip410)\" d=\"M 0 0 M1237.77 1550.7 L1237.77 1569.6 L1231.89 1569.6 L1231.89 1520.4 L1237.77 1520.4 L1237.77 1525.81 Q1239.62 1522.62 1242.42 1521.1 Q1245.25 1519.54 1249.17 1519.54 Q1255.66 1519.54 1259.7 1524.69 Q1263.78 1529.85 1263.78 1538.25 Q1263.78 1546.65 1259.7 1551.81 Q1255.66 1556.97 1249.17 1556.97 Q1245.25 1556.97 1242.42 1555.44 Q1239.62 1553.88 1237.77 1550.7 M1257.7 1538.25 Q1257.7 1531.79 1255.03 1528.13 Q1252.38 1524.44 1247.74 1524.44 Q1243.09 1524.44 1240.42 1528.13 Q1237.77 1531.79 1237.77 1538.25 Q1237.77 1544.71 1240.42 1548.4 Q1243.09 1552.07 1247.74 1552.07 Q1252.38 1552.07 1255.03 1548.4 Q1257.7 1544.71 1257.7 1538.25 Z\" fill=\"#000000\" fill-rule=\"evenodd\" fill-opacity=\"1\" /><path clip-path=\"url(#clip410)\" d=\"M 0 0 M1283.73 1524.5 Q1279.02 1524.5 1276.29 1528.19 Q1273.55 1531.85 1273.55 1538.25 Q1273.55 1544.65 1276.25 1548.34 Q1278.99 1552 1283.73 1552 Q1288.41 1552 1291.15 1548.31 Q1293.89 1544.62 1293.89 1538.25 Q1293.89 1531.92 1291.15 1528.23 Q1288.41 1524.5 1283.73 1524.5 M1283.73 1519.54 Q1291.37 1519.54 1295.73 1524.5 Q1300.09 1529.47 1300.09 1538.25 Q1300.09 1547 1295.73 1552 Q1291.37 1556.97 1283.73 1556.97 Q1276.06 1556.97 1271.7 1552 Q1267.37 1547 1267.37 1538.25 Q1267.37 1529.47 1271.7 1524.5 Q1276.06 1519.54 1283.73 1519.54 Z\" fill=\"#000000\" fill-rule=\"evenodd\" fill-opacity=\"1\" /><path clip-path=\"url(#clip410)\" d=\"M 0 0 M1331.89 1521.76 L1331.89 1527.24 Q1329.41 1525.87 1326.89 1525.2 Q1324.41 1524.5 1321.87 1524.5 Q1316.17 1524.5 1313.02 1528.13 Q1309.87 1531.73 1309.87 1538.25 Q1309.87 1544.78 1313.02 1548.4 Q1316.17 1552 1321.87 1552 Q1324.41 1552 1326.89 1551.33 Q1329.41 1550.63 1331.89 1549.26 L1331.89 1554.68 Q1329.44 1555.82 1326.8 1556.39 Q1324.19 1556.97 1321.23 1556.97 Q1313.18 1556.97 1308.43 1551.91 Q1303.69 1546.85 1303.69 1538.25 Q1303.69 1529.53 1308.47 1524.53 Q1313.27 1519.54 1321.61 1519.54 Q1324.32 1519.54 1326.89 1520.11 Q1329.47 1520.65 1331.89 1521.76 Z\" fill=\"#000000\" fill-rule=\"evenodd\" fill-opacity=\"1\" /><path clip-path=\"url(#clip410)\" d=\"M 0 0 M1367.67 1534.53 L1367.67 1556.04 L1361.81 1556.04 L1361.81 1534.72 Q1361.81 1529.66 1359.84 1527.14 Q1357.86 1524.63 1353.92 1524.63 Q1349.17 1524.63 1346.44 1527.65 Q1343.7 1530.68 1343.7 1535.9 L1343.7 1556.04 L1337.81 1556.04 L1337.81 1506.52 L1343.7 1506.52 L1343.7 1525.93 Q1345.8 1522.72 1348.63 1521.13 Q1351.5 1519.54 1355.22 1519.54 Q1361.36 1519.54 1364.52 1523.36 Q1367.67 1527.14 1367.67 1534.53 Z\" fill=\"#000000\" fill-rule=\"evenodd\" fill-opacity=\"1\" /><path clip-path=\"url(#clip410)\" d=\"M 0 0 M1396.53 1521.45 L1396.53 1526.98 Q1394.05 1525.71 1391.38 1525.07 Q1388.7 1524.44 1385.84 1524.44 Q1381.48 1524.44 1379.28 1525.77 Q1377.12 1527.11 1377.12 1529.79 Q1377.12 1531.82 1378.68 1533 Q1380.24 1534.15 1384.95 1535.2 L1386.95 1535.64 Q1393.19 1536.98 1395.8 1539.43 Q1398.44 1541.85 1398.44 1546.21 Q1398.44 1551.17 1394.5 1554.07 Q1390.58 1556.97 1383.71 1556.97 Q1380.84 1556.97 1377.72 1556.39 Q1374.64 1555.85 1371.2 1554.74 L1371.2 1548.69 Q1374.45 1550.38 1377.6 1551.24 Q1380.75 1552.07 1383.84 1552.07 Q1387.97 1552.07 1390.2 1550.66 Q1392.43 1549.23 1392.43 1546.65 Q1392.43 1544.27 1390.81 1542.99 Q1389.21 1541.72 1383.77 1540.54 L1381.73 1540.07 Q1376.29 1538.92 1373.87 1536.56 Q1371.45 1534.18 1371.45 1530.04 Q1371.45 1525.01 1375.02 1522.27 Q1378.58 1519.54 1385.14 1519.54 Q1388.39 1519.54 1391.25 1520.01 Q1394.12 1520.49 1396.53 1521.45 Z\" fill=\"#000000\" fill-rule=\"evenodd\" fill-opacity=\"1\" /><path clip-path=\"url(#clip410)\" d=\"M 0 0 M44.1444 904.492 L50.9239 904.492 Q47.9002 907.739 46.4043 911.431 Q44.9083 915.091 44.9083 919.229 Q44.9083 927.377 49.9054 931.705 Q54.8707 936.034 64.2919 936.034 Q73.6813 936.034 78.6784 931.705 Q83.6436 927.377 83.6436 919.229 Q83.6436 915.091 82.1477 911.431 Q80.6518 907.739 77.6281 904.492 L84.3439 904.492 Q86.6355 907.866 87.7814 911.653 Q88.9272 915.409 88.9272 919.611 Q88.9272 930.4 82.3387 936.607 Q75.7183 942.814 64.2919 942.814 Q52.8336 942.814 46.2451 936.607 Q39.6248 930.4 39.6248 919.611 Q39.6248 915.346 40.7706 911.59 Q41.8846 907.802 44.1444 904.492 Z\" fill=\"#000000\" fill-rule=\"evenodd\" fill-opacity=\"1\" /><path clip-path=\"url(#clip410)\" d=\"M 0 0 M57.8307 877.692 Q57.2578 878.679 57.0032 879.857 Q56.7167 881.003 56.7167 882.403 Q56.7167 887.368 59.9632 890.042 Q63.1779 892.684 69.2253 892.684 L88.0042 892.684 L88.0042 898.572 L52.3562 898.572 L52.3562 892.684 L57.8944 892.684 Q54.6479 890.838 53.0883 887.878 Q51.4968 884.917 51.4968 880.684 Q51.4968 880.08 51.5923 879.347 Q51.656 878.615 51.8151 877.724 L57.8307 877.692 Z\" fill=\"#000000\" fill-rule=\"evenodd\" fill-opacity=\"1\" /><path clip-path=\"url(#clip410)\" d=\"M 0 0 M56.4621 859.168 Q56.4621 863.879 60.1542 866.616 Q63.8145 869.353 70.212 869.353 Q76.6095 869.353 80.3017 866.648 Q83.9619 863.911 83.9619 859.168 Q83.9619 854.489 80.2698 851.752 Q76.5777 849.015 70.212 849.015 Q63.8781 849.015 60.186 851.752 Q56.4621 854.489 56.4621 859.168 M51.4968 859.168 Q51.4968 851.529 56.4621 847.169 Q61.4273 842.808 70.212 842.808 Q78.9649 842.808 83.9619 847.169 Q88.9272 851.529 88.9272 859.168 Q88.9272 866.839 83.9619 871.199 Q78.9649 875.528 70.212 875.528 Q61.4273 875.528 56.4621 871.199 Q51.4968 866.839 51.4968 859.168 Z\" fill=\"#000000\" fill-rule=\"evenodd\" fill-opacity=\"1\" /><path clip-path=\"url(#clip410)\" d=\"M 0 0 M53.4065 813.94 L58.9447 813.94 Q57.6716 816.422 57.035 819.096 Q56.3984 821.77 56.3984 824.634 Q56.3984 828.995 57.7352 831.191 Q59.072 833.355 61.7456 833.355 Q63.7826 833.355 64.9603 831.796 Q66.1061 830.236 67.1565 825.525 L67.6021 823.52 Q68.9389 817.282 71.3897 814.672 Q73.8086 812.03 78.1691 812.03 Q83.1344 812.03 86.0308 815.977 Q88.9272 819.892 88.9272 826.767 Q88.9272 829.631 88.3543 832.751 Q87.8132 835.838 86.6992 839.275 L80.6518 839.275 Q82.3387 836.029 83.198 832.878 Q84.0256 829.727 84.0256 826.639 Q84.0256 822.502 82.6251 820.274 Q81.1929 818.046 78.6147 818.046 Q76.2276 818.046 74.9545 819.669 Q73.6813 821.26 72.5037 826.703 L72.0262 828.74 Q70.8804 834.183 68.5251 836.602 Q66.138 839.021 62.0002 839.021 Q56.9713 839.021 54.2341 835.456 Q51.4968 831.891 51.4968 825.334 Q51.4968 822.088 51.9743 819.223 Q52.4517 816.359 53.4065 813.94 Z\" fill=\"#000000\" fill-rule=\"evenodd\" fill-opacity=\"1\" /><path clip-path=\"url(#clip410)\" d=\"M 0 0 M53.4065 783.162 L58.9447 783.162 Q57.6716 785.644 57.035 788.318 Q56.3984 790.991 56.3984 793.856 Q56.3984 798.217 57.7352 800.413 Q59.072 802.577 61.7456 802.577 Q63.7826 802.577 64.9603 801.017 Q66.1061 799.458 67.1565 794.747 L67.6021 792.742 Q68.9389 786.504 71.3897 783.894 Q73.8086 781.252 78.1691 781.252 Q83.1344 781.252 86.0308 785.199 Q88.9272 789.114 88.9272 795.989 Q88.9272 798.853 88.3543 801.972 Q87.8132 805.06 86.6992 808.497 L80.6518 808.497 Q82.3387 805.251 83.198 802.1 Q84.0256 798.949 84.0256 795.861 Q84.0256 791.724 82.6251 789.496 Q81.1929 787.268 78.6147 787.268 Q76.2276 787.268 74.9545 788.891 Q73.6813 790.482 72.5037 795.925 L72.0262 797.962 Q70.8804 803.405 68.5251 805.824 Q66.138 808.243 62.0002 808.243 Q56.9713 808.243 54.2341 804.678 Q51.4968 801.113 51.4968 794.556 Q51.4968 791.31 51.9743 788.445 Q52.4517 785.581 53.4065 783.162 Z\" fill=\"#000000\" fill-rule=\"evenodd\" fill-opacity=\"1\" /><path clip-path=\"url(#clip410)\" d=\"M 0 0 M40.4842 754.134 L40.4842 724.088 L45.895 724.088 L45.895 747.705 L59.9632 747.705 L59.9632 725.075 L65.3741 725.075 L65.3741 747.705 L82.5933 747.705 L82.5933 723.515 L88.0042 723.515 L88.0042 754.134 L40.4842 754.134 Z\" fill=\"#000000\" fill-rule=\"evenodd\" fill-opacity=\"1\" /><path clip-path=\"url(#clip410)\" d=\"M 0 0 M66.4881 687.74 L88.0042 687.74 L88.0042 693.596 L66.679 693.596 Q61.6183 693.596 59.1038 695.57 Q56.5894 697.543 56.5894 701.49 Q56.5894 706.232 59.6131 708.969 Q62.6368 711.707 67.8567 711.707 L88.0042 711.707 L88.0042 717.595 L52.3562 717.595 L52.3562 711.707 L57.8944 711.707 Q54.6797 709.606 53.0883 706.773 Q51.4968 703.909 51.4968 700.185 Q51.4968 694.042 55.3163 690.891 Q59.1038 687.74 66.4881 687.74 Z\" fill=\"#000000\" fill-rule=\"evenodd\" fill-opacity=\"1\" /><path clip-path=\"url(#clip410)\" d=\"M 0 0 M42.2347 675.804 L52.3562 675.804 L52.3562 663.741 L56.9077 663.741 L56.9077 675.804 L76.2594 675.804 Q80.6199 675.804 81.8613 674.626 Q83.1026 673.417 83.1026 669.757 L83.1026 663.741 L88.0042 663.741 L88.0042 669.757 Q88.0042 676.536 85.4897 679.114 Q82.9434 681.692 76.2594 681.692 L56.9077 681.692 L56.9077 685.989 L52.3562 685.989 L52.3562 681.692 L42.2347 681.692 L42.2347 675.804 Z\" fill=\"#000000\" fill-rule=\"evenodd\" fill-opacity=\"1\" /><path clip-path=\"url(#clip410)\" d=\"M 0 0 M57.8307 636.941 Q57.2578 637.928 57.0032 639.106 Q56.7167 640.252 56.7167 641.652 Q56.7167 646.617 59.9632 649.291 Q63.1779 651.933 69.2253 651.933 L88.0042 651.933 L88.0042 657.821 L52.3562 657.821 L52.3562 651.933 L57.8944 651.933 Q54.6479 650.087 53.0883 647.127 Q51.4968 644.166 51.4968 639.933 Q51.4968 639.329 51.5923 638.596 Q51.656 637.864 51.8151 636.973 L57.8307 636.941 Z\" fill=\"#000000\" fill-rule=\"evenodd\" fill-opacity=\"1\" /><path clip-path=\"url(#clip410)\" d=\"M 0 0 M56.4621 618.417 Q56.4621 623.128 60.1542 625.865 Q63.8145 628.602 70.212 628.602 Q76.6095 628.602 80.3017 625.897 Q83.9619 623.16 83.9619 618.417 Q83.9619 613.738 80.2698 611.001 Q76.5777 608.264 70.212 608.264 Q63.8781 608.264 60.186 611.001 Q56.4621 613.738 56.4621 618.417 M51.4968 618.417 Q51.4968 610.778 56.4621 606.418 Q61.4273 602.057 70.212 602.057 Q78.9649 602.057 83.9619 606.418 Q88.9272 610.778 88.9272 618.417 Q88.9272 626.088 83.9619 630.448 Q78.9649 634.777 70.212 634.777 Q61.4273 634.777 56.4621 630.448 Q51.4968 626.088 51.4968 618.417 Z\" fill=\"#000000\" fill-rule=\"evenodd\" fill-opacity=\"1\" /><path clip-path=\"url(#clip410)\" d=\"M 0 0 M82.657 590.249 L101.563 590.249 L101.563 596.137 L52.3562 596.137 L52.3562 590.249 L57.7671 590.249 Q54.5842 588.403 53.0564 585.602 Q51.4968 582.769 51.4968 578.854 Q51.4968 572.361 56.6531 568.319 Q61.8093 564.245 70.212 564.245 Q78.6147 564.245 83.771 568.319 Q88.9272 572.361 88.9272 578.854 Q88.9272 582.769 87.3994 585.602 Q85.8398 588.403 82.657 590.249 M70.212 570.324 Q63.7508 570.324 60.0905 572.998 Q56.3984 575.64 56.3984 580.287 Q56.3984 584.934 60.0905 587.607 Q63.7508 590.249 70.212 590.249 Q76.6732 590.249 80.3653 587.607 Q84.0256 584.934 84.0256 580.287 Q84.0256 575.64 80.3653 572.998 Q76.6732 570.324 70.212 570.324 Z\" fill=\"#000000\" fill-rule=\"evenodd\" fill-opacity=\"1\" /><path clip-path=\"url(#clip410)\" d=\"M 0 0 M91.3143 543.27 Q97.68 545.753 99.6216 548.108 Q101.563 550.463 101.563 554.41 L101.563 559.089 L96.6615 559.089 L96.6615 555.651 Q96.6615 553.232 95.5157 551.896 Q94.3699 550.559 90.1048 548.935 L87.4312 547.885 L52.3562 562.303 L52.3562 556.097 L80.238 544.957 L52.3562 533.817 L52.3562 527.61 L91.3143 543.27 Z\" fill=\"#000000\" fill-rule=\"evenodd\" fill-opacity=\"1\" /><polyline clip-path=\"url(#clip412)\" style=\"stroke:#009af9; stroke-width:8; stroke-opacity:1; fill:none\" points=\"\n",
       "  298.45,166.495 308.423,543.235 318.395,781.917 328.367,935.755 338.34,1037.37 348.312,1106.07 358.284,1153.43 368.257,1186.66 378.229,1210.5 388.202,1228.19 \n",
       "  398.174,1241.77 408.146,1252.57 418.119,1261.41 428.091,1268.83 438.063,1275.2 448.036,1280.75 458.008,1285.66 467.98,1290.06 477.953,1294.03 487.925,1297.64 \n",
       "  497.897,1300.93 507.87,1303.93 517.842,1306.66 527.815,1309.15 537.787,1311.4 547.759,1313.44 557.732,1315.27 567.704,1316.9 577.676,1318.36 587.649,1319.66 \n",
       "  597.621,1320.82 607.593,1321.84 617.566,1322.75 627.538,1323.56 637.51,1324.29 647.483,1324.94 657.455,1325.53 667.428,1326.07 677.4,1326.56 687.372,1327.01 \n",
       "  697.345,1327.44 707.317,1327.83 717.289,1328.2 727.262,1328.55 737.234,1328.89 747.206,1329.2 757.179,1329.49 767.151,1329.77 777.123,1330.04 787.096,1330.28 \n",
       "  797.068,1330.51 807.041,1330.73 817.013,1330.93 826.985,1331.12 836.958,1331.29 846.93,1331.45 856.902,1331.58 866.875,1331.71 876.847,1331.82 886.819,1331.91 \n",
       "  896.792,1331.98 906.764,1332.04 916.736,1332.09 926.709,1332.12 936.681,1332.13 946.654,1332.13 956.626,1332.12 966.598,1332.09 976.571,1332.04 986.543,1331.98 \n",
       "  996.515,1331.91 1006.49,1331.82 1016.46,1331.72 1026.43,1331.6 1036.4,1331.47 1046.38,1331.32 1056.35,1331.16 1066.32,1330.99 1076.29,1330.81 1086.27,1330.61 \n",
       "  1096.24,1330.4 1106.21,1330.17 1116.18,1329.93 1126.16,1329.68 1136.13,1329.41 1146.1,1329.13 1156.07,1328.83 1166.05,1328.53 1176.02,1328.21 1185.99,1327.88 \n",
       "  1195.96,1327.53 1205.93,1327.17 1215.91,1326.8 1225.88,1326.42 1235.85,1326.02 1245.82,1325.62 1255.8,1325.2 1265.77,1324.77 1275.74,1324.33 1285.71,1323.88 \n",
       "  1295.69,1323.42 1305.66,1322.95 1315.63,1322.48 1325.6,1321.99 1335.58,1321.5 1345.55,1321 1355.52,1320.5 1365.49,1319.98 1375.46,1319.47 1385.44,1318.95 \n",
       "  1395.41,1318.42 1405.38,1317.89 1415.35,1317.36 1425.33,1316.83 1435.3,1316.3 1445.27,1315.77 1455.24,1315.23 1465.22,1314.7 1475.19,1314.17 1485.16,1313.64 \n",
       "  1495.13,1313.12 1505.11,1312.6 1515.08,1312.08 1525.05,1311.56 1535.02,1311.06 1544.99,1310.56 1554.97,1310.06 1564.94,1309.57 1574.91,1309.09 1584.88,1308.62 \n",
       "  1594.86,1308.16 1604.83,1307.71 1614.8,1307.27 1624.77,1306.83 1634.75,1306.41 1644.72,1306.01 1654.69,1305.61 1664.66,1305.23 1674.64,1304.85 1684.61,1304.5 \n",
       "  1694.58,1304.15 1704.55,1303.82 1714.53,1303.5 1724.5,1303.2 1734.47,1302.91 1744.44,1302.64 1754.41,1302.38 1764.39,1302.14 1774.36,1301.91 1784.33,1301.69 \n",
       "  1794.3,1301.49 1804.28,1301.3 1814.25,1301.12 1824.22,1300.96 1834.19,1300.81 1844.17,1300.67 1854.14,1300.55 1864.11,1300.43 1874.08,1300.33 1884.06,1300.24 \n",
       "  1894.03,1300.15 1904,1300.08 1913.97,1300.02 1923.94,1299.96 1933.92,1299.91 1943.89,1299.87 1953.86,1299.84 1963.83,1299.81 1973.81,1299.79 1983.78,1299.78 \n",
       "  1993.75,1299.77 2003.72,1299.76 2013.7,1299.76 2023.67,1299.76 2033.64,1299.76 2043.61,1299.77 2053.59,1299.78 2063.56,1299.8 2073.53,1299.81 2083.5,1299.83 \n",
       "  2093.47,1299.85 2103.45,1299.87 2113.42,1299.89 2123.39,1299.91 2133.36,1299.93 2143.34,1299.96 2153.31,1299.98 2163.28,1300.01 2173.25,1300.03 2183.23,1300.05 \n",
       "  2193.2,1300.08 2203.17,1300.1 2213.14,1300.12 2223.12,1300.15 2233.09,1300.18 2243.06,1300.2 2253.03,1300.23 2263,1300.25 2272.98,1300.27 2282.95,1300.3 \n",
       "  2292.92,1300.32 \n",
       "  \"/>\n",
       "<polyline clip-path=\"url(#clip412)\" style=\"stroke:#e26f46; stroke-width:8; stroke-opacity:1; fill:none\" points=\"\n",
       "  300.445,86.1857 302.439,186.564 304.434,276.532 306.428,356.574 308.423,427.793 310.417,491.436 312.412,548.652 314.406,600.388 316.401,647.39 318.395,690.237 \n",
       "  320.389,729.382 322.384,765.202 324.378,798.013 326.373,828.1 328.367,855.719 330.362,881.104 332.356,904.473 334.351,926.022 336.345,945.93 338.34,964.358 \n",
       "  340.334,981.453 342.329,997.344 344.323,1012.15 346.318,1025.96 348.312,1038.88 350.307,1050.99 352.301,1062.35 354.296,1073.03 356.29,1083.09 358.284,1092.58 \n",
       "  360.279,1101.54 362.273,1110.02 364.268,1118.04 366.262,1125.65 368.257,1132.88 370.251,1139.75 372.246,1146.28 374.24,1152.51 376.235,1158.45 378.229,1164.11 \n",
       "  380.224,1169.52 382.218,1174.7 384.213,1179.65 386.207,1184.4 388.202,1188.94 390.196,1193.31 392.19,1197.5 394.185,1201.53 396.179,1205.4 398.174,1209.12 \n",
       "  400.168,1212.71 402.163,1216.17 404.157,1219.5 406.152,1222.71 408.146,1225.81 410.141,1228.81 412.135,1231.7 414.13,1234.5 416.124,1237.2 418.119,1239.82 \n",
       "  420.113,1242.36 422.108,1244.81 424.102,1247.19 426.096,1249.5 428.091,1251.73 430.085,1253.91 432.08,1256.01 434.074,1258.06 436.069,1260.05 438.063,1261.98 \n",
       "  440.058,1263.86 442.052,1265.68 444.047,1267.46 446.041,1269.19 448.036,1270.88 450.03,1272.52 452.025,1274.12 454.019,1275.67 456.014,1277.19 458.008,1278.67 \n",
       "  460.002,1280.12 461.997,1281.53 463.991,1282.91 465.986,1284.25 467.98,1285.57 469.975,1286.85 471.969,1288.1 473.964,1289.33 475.958,1290.53 477.953,1291.7 \n",
       "  479.947,1292.85 481.942,1293.97 483.936,1295.07 485.931,1296.14 487.925,1297.19 489.92,1298.23 491.914,1299.24 493.909,1300.23 495.903,1301.19 497.897,1302.15 \n",
       "  499.892,1303.08 501.886,1303.99 503.881,1304.89 505.875,1305.77 507.87,1306.63 509.864,1307.48 511.859,1308.31 513.853,1309.12 515.848,1309.93 517.842,1310.71 \n",
       "  519.837,1311.49 521.831,1312.25 523.826,1312.99 525.82,1313.72 527.815,1314.45 529.809,1315.15 531.803,1315.85 533.798,1316.53 535.792,1317.21 537.787,1317.87 \n",
       "  539.781,1318.52 541.776,1319.16 543.77,1319.8 545.765,1320.42 547.759,1321.03 549.754,1321.63 551.748,1322.22 553.743,1322.81 555.737,1323.38 557.732,1323.95 \n",
       "  559.726,1324.5 561.721,1325.05 563.715,1325.6 565.709,1326.13 567.704,1326.66 569.698,1327.18 571.693,1327.69 573.687,1328.19 575.682,1328.69 577.676,1329.18 \n",
       "  579.671,1329.66 581.665,1330.14 583.66,1330.61 585.654,1331.08 587.649,1331.53 589.643,1331.99 591.638,1332.43 593.632,1332.87 595.627,1333.31 597.621,1333.74 \n",
       "  599.615,1334.16 601.61,1334.58 603.604,1335 605.599,1335.41 607.593,1335.81 609.588,1336.21 611.582,1336.61 613.577,1337 615.571,1337.38 617.566,1337.76 \n",
       "  619.56,1338.14 621.555,1338.51 623.549,1338.88 625.544,1339.24 627.538,1339.6 629.533,1339.96 631.527,1340.31 633.522,1340.66 635.516,1341 637.51,1341.34 \n",
       "  639.505,1341.68 641.499,1342.01 643.494,1342.34 645.488,1342.66 647.483,1342.98 649.477,1343.3 651.472,1343.62 653.466,1343.93 655.461,1344.24 657.455,1344.55 \n",
       "  659.45,1344.85 661.444,1345.15 663.439,1345.44 665.433,1345.74 667.428,1346.03 669.422,1346.31 671.416,1346.6 673.411,1346.88 675.405,1347.16 677.4,1347.43 \n",
       "  679.394,1347.71 681.389,1347.98 683.383,1348.24 685.378,1348.51 687.372,1348.77 689.367,1349.03 691.361,1349.29 693.356,1349.54 695.35,1349.8 697.345,1350.05 \n",
       "  699.339,1350.29 701.334,1350.54 703.328,1350.78 705.322,1351.02 707.317,1351.26 709.311,1351.5 711.306,1351.73 713.3,1351.96 715.295,1352.19 717.289,1352.42 \n",
       "  719.284,1352.64 721.278,1352.87 723.273,1353.09 725.267,1353.31 727.262,1353.52 729.256,1353.74 731.251,1353.95 733.245,1354.16 735.24,1354.37 737.234,1354.58 \n",
       "  739.229,1354.79 741.223,1354.99 743.217,1355.19 745.212,1355.39 747.206,1355.59 749.201,1355.79 751.195,1355.98 753.19,1356.17 755.184,1356.36 757.179,1356.55 \n",
       "  759.173,1356.74 761.168,1356.93 763.162,1357.11 765.157,1357.3 767.151,1357.48 769.146,1357.66 771.14,1357.84 773.135,1358.01 775.129,1358.19 777.123,1358.36 \n",
       "  779.118,1358.53 781.112,1358.7 783.107,1358.87 785.101,1359.04 787.096,1359.21 789.09,1359.37 791.085,1359.54 793.079,1359.7 795.074,1359.86 797.068,1360.02 \n",
       "  799.063,1360.18 801.057,1360.34 803.052,1360.49 805.046,1360.65 807.041,1360.8 809.035,1360.95 811.029,1361.1 813.024,1361.25 815.018,1361.4 817.013,1361.55 \n",
       "  819.007,1361.7 821.002,1361.84 822.996,1361.98 824.991,1362.13 826.985,1362.27 828.98,1362.41 830.974,1362.55 832.969,1362.69 834.963,1362.82 836.958,1362.96 \n",
       "  838.952,1363.1 840.947,1363.23 842.941,1363.36 844.935,1363.5 846.93,1363.63 848.924,1363.76 850.919,1363.89 852.913,1364.01 854.908,1364.14 856.902,1364.27 \n",
       "  858.897,1364.39 860.891,1364.52 862.886,1364.64 864.88,1364.76 866.875,1364.88 868.869,1365 870.864,1365.12 872.858,1365.24 874.853,1365.36 876.847,1365.48 \n",
       "  878.842,1365.59 880.836,1365.71 882.83,1365.82 884.825,1365.94 886.819,1366.05 888.814,1366.16 890.808,1366.28 892.803,1366.39 894.797,1366.5 896.792,1366.6 \n",
       "  898.786,1366.71 900.781,1366.82 902.775,1366.93 904.77,1367.03 906.764,1367.14 908.759,1367.24 910.753,1367.35 912.748,1367.45 914.742,1367.55 916.736,1367.65 \n",
       "  918.731,1367.75 920.725,1367.85 922.72,1367.95 924.714,1368.05 926.709,1368.15 928.703,1368.25 930.698,1368.35 932.692,1368.44 934.687,1368.54 936.681,1368.63 \n",
       "  938.676,1368.73 940.67,1368.82 942.665,1368.91 944.659,1369.01 946.654,1369.1 948.648,1369.19 950.642,1369.28 952.637,1369.37 954.631,1369.46 956.626,1369.55 \n",
       "  958.62,1369.64 960.615,1369.72 962.609,1369.81 964.604,1369.9 966.598,1369.98 968.593,1370.07 970.587,1370.15 972.582,1370.24 974.576,1370.32 976.571,1370.4 \n",
       "  978.565,1370.49 980.56,1370.57 982.554,1370.65 984.548,1370.73 986.543,1370.81 988.537,1370.89 990.532,1370.97 992.526,1371.05 994.521,1371.13 996.515,1371.21 \n",
       "  998.51,1371.29 1000.5,1371.36 1002.5,1371.44 1004.49,1371.52 1006.49,1371.59 1008.48,1371.67 1010.48,1371.74 1012.47,1371.82 1014.47,1371.89 1016.46,1371.96 \n",
       "  1018.45,1372.04 1020.45,1372.11 1022.44,1372.18 1024.44,1372.25 1026.43,1372.32 1028.43,1372.39 1030.42,1372.46 1032.42,1372.53 1034.41,1372.6 1036.4,1372.67 \n",
       "  1038.4,1372.74 1040.39,1372.81 1042.39,1372.88 1044.38,1372.94 1046.38,1373.01 1048.37,1373.08 1050.37,1373.14 1052.36,1373.21 1054.35,1373.27 1056.35,1373.34 \n",
       "  1058.34,1373.4 1060.34,1373.47 1062.33,1373.53 1064.33,1373.59 1066.32,1373.66 1068.32,1373.72 1070.31,1373.78 1072.31,1373.85 1074.3,1373.91 1076.29,1373.97 \n",
       "  1078.29,1374.03 1080.28,1374.09 1082.28,1374.15 1084.27,1374.21 1086.27,1374.27 1088.26,1374.33 1090.26,1374.39 1092.25,1374.44 1094.24,1374.5 1096.24,1374.56 \n",
       "  1098.23,1374.62 1100.23,1374.67 1102.22,1374.73 1104.22,1374.79 1106.21,1374.84 1108.21,1374.9 1110.2,1374.95 1112.19,1375.01 1114.19,1375.06 1116.18,1375.12 \n",
       "  1118.18,1375.17 1120.17,1375.23 1122.17,1375.28 1124.16,1375.33 1126.16,1375.39 1128.15,1375.44 1130.14,1375.49 1132.14,1375.54 1134.13,1375.59 1136.13,1375.64 \n",
       "  1138.12,1375.7 1140.12,1375.75 1142.11,1375.8 1144.11,1375.85 1146.1,1375.9 1148.1,1375.95 1150.09,1376 1152.08,1376.04 1154.08,1376.09 1156.07,1376.14 \n",
       "  1158.07,1376.19 1160.06,1376.24 1162.06,1376.29 1164.05,1376.33 1166.05,1376.38 1168.04,1376.43 1170.03,1376.47 1172.03,1376.52 1174.02,1376.57 1176.02,1376.61 \n",
       "  1178.01,1376.66 1180.01,1376.7 1182,1376.75 1184,1376.79 1185.99,1376.84 1187.98,1376.88 1189.98,1376.92 1191.97,1376.97 1193.97,1377.01 1195.96,1377.06 \n",
       "  1197.96,1377.1 1199.95,1377.14 1201.95,1377.18 1203.94,1377.23 1205.93,1377.27 1207.93,1377.31 1209.92,1377.35 1211.92,1377.39 1213.91,1377.43 1215.91,1377.47 \n",
       "  1217.9,1377.52 1219.9,1377.56 1221.89,1377.6 1223.89,1377.64 1225.88,1377.68 1227.87,1377.72 1229.87,1377.75 1231.86,1377.79 1233.86,1377.83 1235.85,1377.87 \n",
       "  1237.85,1377.91 1239.84,1377.95 1241.84,1377.99 1243.83,1378.02 1245.82,1378.06 1247.82,1378.1 1249.81,1378.14 1251.81,1378.17 1253.8,1378.21 1255.8,1378.25 \n",
       "  1257.79,1378.28 1259.79,1378.32 1261.78,1378.35 1263.77,1378.39 1265.77,1378.42 1267.76,1378.46 1269.76,1378.5 1271.75,1378.53 1273.75,1378.56 1275.74,1378.6 \n",
       "  1277.74,1378.63 1279.73,1378.67 1281.72,1378.7 1283.72,1378.74 1285.71,1378.77 1287.71,1378.8 1289.7,1378.84 1291.7,1378.87 1293.69,1378.9 1295.69,1378.93 \n",
       "  1297.68,1378.97 1299.67,1379 1301.67,1379.03 1303.66,1379.06 1305.66,1379.09 1307.65,1379.13 1309.65,1379.16 1311.64,1379.19 1313.64,1379.22 1315.63,1379.25 \n",
       "  1317.63,1379.28 1319.62,1379.31 1321.61,1379.34 1323.61,1379.37 1325.6,1379.4 1327.6,1379.43 1329.59,1379.46 1331.59,1379.49 1333.58,1379.52 1335.58,1379.55 \n",
       "  1337.57,1379.58 1339.56,1379.61 1341.56,1379.64 1343.55,1379.67 1345.55,1379.69 1347.54,1379.72 1349.54,1379.75 1351.53,1379.78 1353.53,1379.81 1355.52,1379.83 \n",
       "  1357.51,1379.86 1359.51,1379.89 1361.5,1379.91 1363.5,1379.94 1365.49,1379.97 1367.49,1380 1369.48,1380.02 1371.48,1380.05 1373.47,1380.07 1375.46,1380.1 \n",
       "  1377.46,1380.13 1379.45,1380.15 1381.45,1380.18 1383.44,1380.2 1385.44,1380.23 1387.43,1380.25 1389.43,1380.28 1391.42,1380.3 1393.42,1380.33 1395.41,1380.35 \n",
       "  1397.4,1380.38 1399.4,1380.4 1401.39,1380.43 1403.39,1380.45 1405.38,1380.48 1407.38,1380.5 1409.37,1380.52 1411.37,1380.55 1413.36,1380.57 1415.35,1380.59 \n",
       "  1417.35,1380.62 1419.34,1380.64 1421.34,1380.66 1423.33,1380.69 1425.33,1380.71 1427.32,1380.73 1429.32,1380.75 1431.31,1380.77 1433.3,1380.8 1435.3,1380.82 \n",
       "  1437.29,1380.84 1439.29,1380.86 1441.28,1380.88 1443.28,1380.91 1445.27,1380.93 1447.27,1380.95 1449.26,1380.97 1451.25,1380.99 1453.25,1381.01 1455.24,1381.03 \n",
       "  1457.24,1381.05 1459.23,1381.07 1461.23,1381.09 1463.22,1381.11 1465.22,1381.14 1467.21,1381.16 1469.21,1381.18 1471.2,1381.2 1473.19,1381.22 1475.19,1381.23 \n",
       "  1477.18,1381.25 1479.18,1381.27 1481.17,1381.29 1483.17,1381.31 1485.16,1381.33 1487.16,1381.35 1489.15,1381.37 1491.14,1381.39 1493.14,1381.41 1495.13,1381.43 \n",
       "  1497.13,1381.44 1499.12,1381.46 1501.12,1381.48 1503.11,1381.5 1505.11,1381.52 1507.1,1381.54 1509.09,1381.55 1511.09,1381.57 1513.08,1381.59 1515.08,1381.61 \n",
       "  1517.07,1381.62 1519.07,1381.64 1521.06,1381.66 1523.06,1381.68 1525.05,1381.69 1527.04,1381.71 1529.04,1381.73 1531.03,1381.74 1533.03,1381.76 1535.02,1381.78 \n",
       "  1537.02,1381.79 1539.01,1381.81 1541.01,1381.83 1543,1381.84 1544.99,1381.86 1546.99,1381.87 1548.98,1381.89 1550.98,1381.91 1552.97,1381.92 1554.97,1381.94 \n",
       "  1556.96,1381.95 1558.96,1381.97 1560.95,1381.98 1562.95,1382 1564.94,1382.01 1566.93,1382.03 1568.93,1382.04 1570.92,1382.06 1572.92,1382.07 1574.91,1382.09 \n",
       "  1576.91,1382.1 1578.9,1382.12 1580.9,1382.13 1582.89,1382.15 1584.88,1382.16 1586.88,1382.18 1588.87,1382.19 1590.87,1382.2 1592.86,1382.22 1594.86,1382.23 \n",
       "  1596.85,1382.25 1598.85,1382.26 1600.84,1382.27 1602.83,1382.29 1604.83,1382.3 1606.82,1382.31 1608.82,1382.33 1610.81,1382.34 1612.81,1382.35 1614.8,1382.37 \n",
       "  1616.8,1382.38 1618.79,1382.39 1620.78,1382.41 1622.78,1382.42 1624.77,1382.43 1626.77,1382.44 1628.76,1382.46 1630.76,1382.47 1632.75,1382.48 1634.75,1382.49 \n",
       "  1636.74,1382.51 1638.74,1382.52 1640.73,1382.53 1642.72,1382.54 1644.72,1382.55 1646.71,1382.57 1648.71,1382.58 1650.7,1382.59 1652.7,1382.6 1654.69,1382.61 \n",
       "  1656.69,1382.63 1658.68,1382.64 1660.67,1382.65 1662.67,1382.66 1664.66,1382.67 1666.66,1382.68 1668.65,1382.69 1670.65,1382.71 1672.64,1382.72 1674.64,1382.73 \n",
       "  1676.63,1382.74 1678.62,1382.75 1680.62,1382.76 1682.61,1382.77 1684.61,1382.78 1686.6,1382.79 1688.6,1382.8 1690.59,1382.81 1692.59,1382.82 1694.58,1382.83 \n",
       "  1696.57,1382.84 1698.57,1382.85 1700.56,1382.86 1702.56,1382.87 1704.55,1382.88 1706.55,1382.89 1708.54,1382.9 1710.54,1382.91 1712.53,1382.92 1714.53,1382.93 \n",
       "  1716.52,1382.94 1718.51,1382.95 1720.51,1382.96 1722.5,1382.97 1724.5,1382.98 1726.49,1382.99 1728.49,1383 1730.48,1383.01 1732.48,1383.02 1734.47,1383.03 \n",
       "  1736.46,1383.04 1738.46,1383.05 1740.45,1383.06 1742.45,1383.07 1744.44,1383.07 1746.44,1383.08 1748.43,1383.09 1750.43,1383.1 1752.42,1383.11 1754.41,1383.12 \n",
       "  1756.41,1383.13 1758.4,1383.14 1760.4,1383.14 1762.39,1383.15 1764.39,1383.16 1766.38,1383.17 1768.38,1383.18 1770.37,1383.19 1772.36,1383.19 1774.36,1383.2 \n",
       "  1776.35,1383.21 1778.35,1383.22 1780.34,1383.23 1782.34,1383.23 1784.33,1383.24 1786.33,1383.25 1788.32,1383.26 1790.31,1383.27 1792.31,1383.27 1794.3,1383.28 \n",
       "  1796.3,1383.29 1798.29,1383.3 1800.29,1383.3 1802.28,1383.31 1804.28,1383.32 1806.27,1383.33 1808.27,1383.33 1810.26,1383.34 1812.25,1383.35 1814.25,1383.36 \n",
       "  1816.24,1383.36 1818.24,1383.37 1820.23,1383.38 1822.23,1383.38 1824.22,1383.39 1826.22,1383.4 1828.21,1383.4 1830.2,1383.41 1832.2,1383.42 1834.19,1383.42 \n",
       "  1836.19,1383.43 1838.18,1383.44 1840.18,1383.45 1842.17,1383.45 1844.17,1383.46 1846.16,1383.46 1848.15,1383.47 1850.15,1383.48 1852.14,1383.48 1854.14,1383.49 \n",
       "  1856.13,1383.5 1858.13,1383.5 1860.12,1383.51 1862.12,1383.52 1864.11,1383.52 1866.1,1383.53 1868.1,1383.53 1870.09,1383.54 1872.09,1383.55 1874.08,1383.55 \n",
       "  1876.08,1383.56 1878.07,1383.56 1880.07,1383.57 1882.06,1383.58 1884.06,1383.58 1886.05,1383.59 1888.04,1383.59 1890.04,1383.6 1892.03,1383.6 1894.03,1383.61 \n",
       "  1896.02,1383.62 1898.02,1383.62 1900.01,1383.63 1902.01,1383.63 1904,1383.64 1905.99,1383.64 1907.99,1383.65 1909.98,1383.65 1911.98,1383.66 1913.97,1383.66 \n",
       "  1915.97,1383.67 1917.96,1383.67 1919.96,1383.68 1921.95,1383.69 1923.94,1383.69 1925.94,1383.7 1927.93,1383.7 1929.93,1383.71 1931.92,1383.71 1933.92,1383.72 \n",
       "  1935.91,1383.72 1937.91,1383.73 1939.9,1383.73 1941.89,1383.73 1943.89,1383.74 1945.88,1383.74 1947.88,1383.75 1949.87,1383.75 1951.87,1383.76 1953.86,1383.76 \n",
       "  1955.86,1383.77 1957.85,1383.77 1959.85,1383.78 1961.84,1383.78 1963.83,1383.79 1965.83,1383.79 1967.82,1383.79 1969.82,1383.8 1971.81,1383.8 1973.81,1383.81 \n",
       "  1975.8,1383.81 1977.8,1383.82 1979.79,1383.82 1981.78,1383.83 1983.78,1383.83 1985.77,1383.83 1987.77,1383.84 1989.76,1383.84 1991.76,1383.85 1993.75,1383.85 \n",
       "  1995.75,1383.85 1997.74,1383.86 1999.73,1383.86 2001.73,1383.87 2003.72,1383.87 2005.72,1383.87 2007.71,1383.88 2009.71,1383.88 2011.7,1383.89 2013.7,1383.89 \n",
       "  2015.69,1383.89 2017.68,1383.9 2019.68,1383.9 2021.67,1383.9 2023.67,1383.91 2025.66,1383.91 2027.66,1383.92 2029.65,1383.92 2031.65,1383.92 2033.64,1383.93 \n",
       "  2035.63,1383.93 2037.63,1383.93 2039.62,1383.94 2041.62,1383.94 2043.61,1383.94 2045.61,1383.95 2047.6,1383.95 2049.6,1383.95 2051.59,1383.96 2053.59,1383.96 \n",
       "  2055.58,1383.96 2057.57,1383.97 2059.57,1383.97 2061.56,1383.97 2063.56,1383.98 2065.55,1383.98 2067.55,1383.98 2069.54,1383.99 2071.54,1383.99 2073.53,1383.99 \n",
       "  2075.52,1384 2077.52,1384 2079.51,1384 2081.51,1384.01 2083.5,1384.01 2085.5,1384.01 2087.49,1384.02 2089.49,1384.02 2091.48,1384.02 2093.47,1384.02 \n",
       "  2095.47,1384.03 2097.46,1384.03 2099.46,1384.03 2101.45,1384.04 2103.45,1384.04 2105.44,1384.04 2107.44,1384.04 2109.43,1384.05 2111.42,1384.05 2113.42,1384.05 \n",
       "  2115.41,1384.06 2117.41,1384.06 2119.4,1384.06 2121.4,1384.06 2123.39,1384.07 2125.39,1384.07 2127.38,1384.07 2129.38,1384.07 2131.37,1384.08 2133.36,1384.08 \n",
       "  2135.36,1384.08 2137.35,1384.08 2139.35,1384.09 2141.34,1384.09 2143.34,1384.09 2145.33,1384.09 2147.33,1384.1 2149.32,1384.1 2151.31,1384.1 2153.31,1384.1 \n",
       "  2155.3,1384.11 2157.3,1384.11 2159.29,1384.11 2161.29,1384.11 2163.28,1384.12 2165.28,1384.12 2167.27,1384.12 2169.26,1384.12 2171.26,1384.13 2173.25,1384.13 \n",
       "  2175.25,1384.13 2177.24,1384.13 2179.24,1384.13 2181.23,1384.14 2183.23,1384.14 2185.22,1384.14 2187.21,1384.14 2189.21,1384.15 2191.2,1384.15 2193.2,1384.15 \n",
       "  2195.19,1384.15 2197.19,1384.15 2199.18,1384.16 2201.18,1384.16 2203.17,1384.16 2205.17,1384.16 2207.16,1384.16 2209.15,1384.17 2211.15,1384.17 2213.14,1384.17 \n",
       "  2215.14,1384.17 2217.13,1384.17 2219.13,1384.18 2221.12,1384.18 2223.12,1384.18 2225.11,1384.18 2227.1,1384.18 2229.1,1384.18 2231.09,1384.19 2233.09,1384.19 \n",
       "  2235.08,1384.19 2237.08,1384.19 2239.07,1384.19 2241.07,1384.2 2243.06,1384.2 2245.05,1384.2 2247.05,1384.2 2249.04,1384.2 2251.04,1384.2 2253.03,1384.21 \n",
       "  2255.03,1384.21 2257.02,1384.21 2259.02,1384.21 2261.01,1384.21 2263,1384.21 2265,1384.22 2266.99,1384.22 2268.99,1384.22 2270.98,1384.22 2272.98,1384.22 \n",
       "  2274.97,1384.22 2276.97,1384.23 2278.96,1384.23 2280.95,1384.23 2282.95,1384.23 2284.94,1384.23 2286.94,1384.23 2288.93,1384.24 2290.93,1384.24 2292.92,1384.24 \n",
       "  \n",
       "  \"/>\n",
       "<path clip-path=\"url(#clip410)\" d=\"\n",
       "M1848.05 274.549 L2282.28 274.549 L2282.28 93.1086 L1848.05 93.1086  Z\n",
       "  \" fill=\"#ffffff\" fill-rule=\"evenodd\" fill-opacity=\"1\"/>\n",
       "<polyline clip-path=\"url(#clip410)\" style=\"stroke:#000000; stroke-width:4; stroke-opacity:1; fill:none\" points=\"\n",
       "  1848.05,274.549 2282.28,274.549 2282.28,93.1086 1848.05,93.1086 1848.05,274.549 \n",
       "  \"/>\n",
       "<polyline clip-path=\"url(#clip410)\" style=\"stroke:#009af9; stroke-width:4; stroke-opacity:1; fill:none\" points=\"\n",
       "  1871.54,153.589 2012.49,153.589 \n",
       "  \"/>\n",
       "<path clip-path=\"url(#clip410)\" d=\"M 0 0 M2049.17 170.869 L2035.98 136.309 L2040.86 136.309 L2051.81 165.406 L2062.78 136.309 L2067.64 136.309 L2054.47 170.869 L2049.17 170.869 Z\" fill=\"#000000\" fill-rule=\"evenodd\" fill-opacity=\"1\" /><path clip-path=\"url(#clip410)\" d=\"M 0 0 M2080.21 157.836 Q2075.05 157.836 2073.06 159.017 Q2071.07 160.197 2071.07 163.045 Q2071.07 165.313 2072.55 166.656 Q2074.05 167.975 2076.62 167.975 Q2080.17 167.975 2082.3 165.475 Q2084.45 162.952 2084.45 158.785 L2084.45 157.836 L2080.21 157.836 M2088.71 156.077 L2088.71 170.869 L2084.45 170.869 L2084.45 166.933 Q2082.99 169.295 2080.81 170.429 Q2078.64 171.54 2075.49 171.54 Q2071.51 171.54 2069.15 169.318 Q2066.81 167.072 2066.81 163.322 Q2066.81 158.947 2069.73 156.725 Q2072.67 154.503 2078.48 154.503 L2084.45 154.503 L2084.45 154.086 Q2084.45 151.147 2082.5 149.549 Q2080.58 147.929 2077.09 147.929 Q2074.86 147.929 2072.76 148.461 Q2070.65 148.994 2068.71 150.059 L2068.71 146.123 Q2071.05 145.221 2073.24 144.781 Q2075.44 144.318 2077.53 144.318 Q2083.15 144.318 2085.93 147.234 Q2088.71 150.151 2088.71 156.077 Z\" fill=\"#000000\" fill-rule=\"evenodd\" fill-opacity=\"1\" /><path clip-path=\"url(#clip410)\" d=\"M 0 0 M2093.17 134.85 L2097.43 134.85 L2097.43 170.869 L2093.17 170.869 L2093.17 134.85 Z\" fill=\"#000000\" fill-rule=\"evenodd\" fill-opacity=\"1\" /><path clip-path=\"url(#clip410)\" d=\"M 0 0 M2101.9 144.943 L2106.16 144.943 L2106.16 170.869 L2101.9 170.869 L2101.9 144.943 M2101.9 134.85 L2106.16 134.85 L2106.16 140.244 L2101.9 140.244 L2101.9 134.85 Z\" fill=\"#000000\" fill-rule=\"evenodd\" fill-opacity=\"1\" /><path clip-path=\"url(#clip410)\" d=\"M 0 0 M2127.69 148.878 L2127.69 134.85 L2131.95 134.85 L2131.95 170.869 L2127.69 170.869 L2127.69 166.98 Q2126.35 169.295 2124.29 170.429 Q2122.25 171.54 2119.38 171.54 Q2114.68 171.54 2111.72 167.79 Q2108.78 164.04 2108.78 157.929 Q2108.78 151.818 2111.72 148.068 Q2114.68 144.318 2119.38 144.318 Q2122.25 144.318 2124.29 145.452 Q2126.35 146.563 2127.69 148.878 M2113.17 157.929 Q2113.17 162.628 2115.1 165.313 Q2117.04 167.975 2120.42 167.975 Q2123.8 167.975 2125.74 165.313 Q2127.69 162.628 2127.69 157.929 Q2127.69 153.23 2125.74 150.568 Q2123.8 147.883 2120.42 147.883 Q2117.04 147.883 2115.1 150.568 Q2113.17 153.23 2113.17 157.929 Z\" fill=\"#000000\" fill-rule=\"evenodd\" fill-opacity=\"1\" /><path clip-path=\"url(#clip410)\" d=\"M 0 0 M2148.2 157.836 Q2143.04 157.836 2141.04 159.017 Q2139.05 160.197 2139.05 163.045 Q2139.05 165.313 2140.54 166.656 Q2142.04 167.975 2144.61 167.975 Q2148.15 167.975 2150.28 165.475 Q2152.43 162.952 2152.43 158.785 L2152.43 157.836 L2148.2 157.836 M2156.69 156.077 L2156.69 170.869 L2152.43 170.869 L2152.43 166.933 Q2150.98 169.295 2148.8 170.429 Q2146.62 171.54 2143.48 171.54 Q2139.49 171.54 2137.13 169.318 Q2134.79 167.072 2134.79 163.322 Q2134.79 158.947 2137.71 156.725 Q2140.65 154.503 2146.46 154.503 L2152.43 154.503 L2152.43 154.086 Q2152.43 151.147 2150.49 149.549 Q2148.57 147.929 2145.07 147.929 Q2142.85 147.929 2140.74 148.461 Q2138.64 148.994 2136.69 150.059 L2136.69 146.123 Q2139.03 145.221 2141.23 144.781 Q2143.43 144.318 2145.51 144.318 Q2151.14 144.318 2153.92 147.234 Q2156.69 150.151 2156.69 156.077 Z\" fill=\"#000000\" fill-rule=\"evenodd\" fill-opacity=\"1\" /><path clip-path=\"url(#clip410)\" d=\"M 0 0 M2165.37 137.582 L2165.37 144.943 L2174.15 144.943 L2174.15 148.253 L2165.37 148.253 L2165.37 162.327 Q2165.37 165.498 2166.23 166.401 Q2167.11 167.304 2169.77 167.304 L2174.15 167.304 L2174.15 170.869 L2169.77 170.869 Q2164.84 170.869 2162.97 169.04 Q2161.09 167.188 2161.09 162.327 L2161.09 148.253 L2157.97 148.253 L2157.97 144.943 L2161.09 144.943 L2161.09 137.582 L2165.37 137.582 Z\" fill=\"#000000\" fill-rule=\"evenodd\" fill-opacity=\"1\" /><path clip-path=\"url(#clip410)\" d=\"M 0 0 M2178.61 144.943 L2182.87 144.943 L2182.87 170.869 L2178.61 170.869 L2178.61 144.943 M2178.61 134.85 L2182.87 134.85 L2182.87 140.244 L2178.61 140.244 L2178.61 134.85 Z\" fill=\"#000000\" fill-rule=\"evenodd\" fill-opacity=\"1\" /><path clip-path=\"url(#clip410)\" d=\"M 0 0 M2197.39 147.929 Q2193.96 147.929 2191.97 150.614 Q2189.98 153.276 2189.98 157.929 Q2189.98 162.582 2191.95 165.267 Q2193.94 167.929 2197.39 167.929 Q2200.79 167.929 2202.78 165.244 Q2204.77 162.558 2204.77 157.929 Q2204.77 153.322 2202.78 150.637 Q2200.79 147.929 2197.39 147.929 M2197.39 144.318 Q2202.94 144.318 2206.11 147.929 Q2209.29 151.54 2209.29 157.929 Q2209.29 164.295 2206.11 167.929 Q2202.94 171.54 2197.39 171.54 Q2191.81 171.54 2188.64 167.929 Q2185.49 164.295 2185.49 157.929 Q2185.49 151.54 2188.64 147.929 Q2191.81 144.318 2197.39 144.318 Z\" fill=\"#000000\" fill-rule=\"evenodd\" fill-opacity=\"1\" /><path clip-path=\"url(#clip410)\" d=\"M 0 0 M2235.3 155.221 L2235.3 170.869 L2231.04 170.869 L2231.04 155.359 Q2231.04 151.679 2229.61 149.85 Q2228.17 148.022 2225.3 148.022 Q2221.85 148.022 2219.86 150.221 Q2217.87 152.42 2217.87 156.216 L2217.87 170.869 L2213.59 170.869 L2213.59 144.943 L2217.87 144.943 L2217.87 148.971 Q2219.4 146.633 2221.46 145.475 Q2223.54 144.318 2226.25 144.318 Q2230.72 144.318 2233.01 147.096 Q2235.3 149.85 2235.3 155.221 Z\" fill=\"#000000\" fill-rule=\"evenodd\" fill-opacity=\"1\" /><polyline clip-path=\"url(#clip410)\" style=\"stroke:#e26f46; stroke-width:4; stroke-opacity:1; fill:none\" points=\"\n",
       "  1871.54,214.069 2012.49,214.069 \n",
       "  \"/>\n",
       "<path clip-path=\"url(#clip410)\" d=\"M 0 0 M2035.98 196.789 L2065.21 196.789 L2065.21 200.724 L2052.94 200.724 L2052.94 231.349 L2048.24 231.349 L2048.24 200.724 L2035.98 200.724 L2035.98 196.789 Z\" fill=\"#000000\" fill-rule=\"evenodd\" fill-opacity=\"1\" /><path clip-path=\"url(#clip410)\" d=\"M 0 0 M2077.74 209.404 Q2077.02 208.988 2076.16 208.802 Q2075.33 208.594 2074.31 208.594 Q2070.7 208.594 2068.75 210.955 Q2066.83 213.293 2066.83 217.691 L2066.83 231.349 L2062.55 231.349 L2062.55 205.423 L2066.83 205.423 L2066.83 209.451 Q2068.17 207.089 2070.33 205.955 Q2072.48 204.798 2075.56 204.798 Q2076 204.798 2076.53 204.867 Q2077.06 204.914 2077.71 205.029 L2077.74 209.404 Z\" fill=\"#000000\" fill-rule=\"evenodd\" fill-opacity=\"1\" /><path clip-path=\"url(#clip410)\" d=\"M 0 0 M2093.99 218.316 Q2088.82 218.316 2086.83 219.497 Q2084.84 220.677 2084.84 223.525 Q2084.84 225.793 2086.32 227.136 Q2087.83 228.455 2090.4 228.455 Q2093.94 228.455 2096.07 225.955 Q2098.22 223.432 2098.22 219.265 L2098.22 218.316 L2093.99 218.316 M2102.48 216.557 L2102.48 231.349 L2098.22 231.349 L2098.22 227.413 Q2096.76 229.775 2094.59 230.909 Q2092.41 232.02 2089.26 232.02 Q2085.28 232.02 2082.92 229.798 Q2080.58 227.552 2080.58 223.802 Q2080.58 219.427 2083.5 217.205 Q2086.44 214.983 2092.25 214.983 L2098.22 214.983 L2098.22 214.566 Q2098.22 211.627 2096.28 210.029 Q2094.36 208.409 2090.86 208.409 Q2088.64 208.409 2086.53 208.941 Q2084.42 209.474 2082.48 210.539 L2082.48 206.603 Q2084.82 205.701 2087.02 205.261 Q2089.22 204.798 2091.3 204.798 Q2096.92 204.798 2099.7 207.714 Q2102.48 210.631 2102.48 216.557 Z\" fill=\"#000000\" fill-rule=\"evenodd\" fill-opacity=\"1\" /><path clip-path=\"url(#clip410)\" d=\"M 0 0 M2106.95 205.423 L2111.21 205.423 L2111.21 231.349 L2106.95 231.349 L2106.95 205.423 M2106.95 195.33 L2111.21 195.33 L2111.21 200.724 L2106.95 200.724 L2106.95 195.33 Z\" fill=\"#000000\" fill-rule=\"evenodd\" fill-opacity=\"1\" /><path clip-path=\"url(#clip410)\" d=\"M 0 0 M2137.23 215.701 L2137.23 231.349 L2132.97 231.349 L2132.97 215.839 Q2132.97 212.159 2131.53 210.33 Q2130.1 208.502 2127.23 208.502 Q2123.78 208.502 2121.79 210.701 Q2119.8 212.9 2119.8 216.696 L2119.8 231.349 L2115.51 231.349 L2115.51 205.423 L2119.8 205.423 L2119.8 209.451 Q2121.32 207.113 2123.38 205.955 Q2125.47 204.798 2128.17 204.798 Q2132.64 204.798 2134.93 207.576 Q2137.23 210.33 2137.23 215.701 Z\" fill=\"#000000\" fill-rule=\"evenodd\" fill-opacity=\"1\" /><path clip-path=\"url(#clip410)\" d=\"M 0 0 M2141.69 205.423 L2145.95 205.423 L2145.95 231.349 L2141.69 231.349 L2141.69 205.423 M2141.69 195.33 L2145.95 195.33 L2145.95 200.724 L2141.69 200.724 L2141.69 195.33 Z\" fill=\"#000000\" fill-rule=\"evenodd\" fill-opacity=\"1\" /><path clip-path=\"url(#clip410)\" d=\"M 0 0 M2171.97 215.701 L2171.97 231.349 L2167.71 231.349 L2167.71 215.839 Q2167.71 212.159 2166.28 210.33 Q2164.84 208.502 2161.97 208.502 Q2158.52 208.502 2156.53 210.701 Q2154.54 212.9 2154.54 216.696 L2154.54 231.349 L2150.26 231.349 L2150.26 205.423 L2154.54 205.423 L2154.54 209.451 Q2156.07 207.113 2158.13 205.955 Q2160.21 204.798 2162.92 204.798 Q2167.39 204.798 2169.68 207.576 Q2171.97 210.33 2171.97 215.701 Z\" fill=\"#000000\" fill-rule=\"evenodd\" fill-opacity=\"1\" /><path clip-path=\"url(#clip410)\" d=\"M 0 0 M2193.5 218.085 Q2193.5 213.455 2191.58 210.909 Q2189.68 208.363 2186.23 208.363 Q2182.8 208.363 2180.88 210.909 Q2178.98 213.455 2178.98 218.085 Q2178.98 222.691 2180.88 225.238 Q2182.8 227.784 2186.23 227.784 Q2189.68 227.784 2191.58 225.238 Q2193.5 222.691 2193.5 218.085 M2197.76 228.131 Q2197.76 234.751 2194.82 237.969 Q2191.88 241.21 2185.81 241.21 Q2183.57 241.21 2181.58 240.862 Q2179.59 240.538 2177.71 239.844 L2177.71 235.7 Q2179.59 236.719 2181.42 237.205 Q2183.24 237.691 2185.14 237.691 Q2189.33 237.691 2191.42 235.492 Q2193.5 233.316 2193.5 228.895 L2193.5 226.788 Q2192.18 229.08 2190.12 230.214 Q2188.06 231.349 2185.19 231.349 Q2180.42 231.349 2177.5 227.714 Q2174.59 224.08 2174.59 218.085 Q2174.59 212.066 2177.5 208.432 Q2180.42 204.798 2185.19 204.798 Q2188.06 204.798 2190.12 205.932 Q2192.18 207.066 2193.5 209.358 L2193.5 205.423 L2197.76 205.423 L2197.76 228.131 Z\" fill=\"#000000\" fill-rule=\"evenodd\" fill-opacity=\"1\" /></svg>\n"
      ]
     },
     "execution_count": 86,
     "metadata": {},
     "output_type": "execute_result"
    }
   ],
   "source": [
    "plot(curve.parameter_values,\n",
    "     curve.measurements,\n",
    "     xlab=curve.parameter_name,\n",
    "     ylab=\"Cross Entropy\",\n",
    "     label=\"Validation\", lw=2)\n",
    "plot!(Net2.report.training_losses, label=\"Training\", lw=2)"
   ]
  },
  {
   "cell_type": "code",
   "execution_count": 87,
   "metadata": {},
   "outputs": [
    {
     "data": {
      "text/plain": [
       "(0.00032, 0.32892)"
      ]
     },
     "execution_count": 87,
     "metadata": {},
     "output_type": "execute_result"
    }
   ],
   "source": [
    "a = round(nn2.optimiser.eta, digits=5)\n",
    "b = round(minimum(curve.measurements), digits=5)\n",
    "a,b"
   ]
  },
  {
   "cell_type": "code",
   "execution_count": 88,
   "metadata": {},
   "outputs": [],
   "source": [
    "fn = \"Figures/LearningCurve_NN_hidden:$(layer1)_epochs:$(nn2.epochs)_lr:$(a)_loss:$(b)_labmda:$(nn2.lambda)\"\n",
    "png(replace(fn,'.' => ','))"
   ]
  },
  {
   "cell_type": "code",
   "execution_count": null,
   "metadata": {},
   "outputs": [],
   "source": []
  },
  {
   "cell_type": "markdown",
   "metadata": {},
   "source": [
    "### GridSearch for Hidden Layer Size"
   ]
  },
  {
   "cell_type": "code",
   "execution_count": 89,
   "metadata": {},
   "outputs": [
    {
     "data": {
      "text/plain": [
       "MLJBase.NumericRange(Int64, :(builder.n1), ... )"
      ]
     },
     "execution_count": 89,
     "metadata": {},
     "output_type": "execute_result"
    }
   ],
   "source": [
    "param1 = :epochs\n",
    "param2 = :(builder.n1)\n",
    "\n",
    "r1 = range(nn2, param1, lower=10, upper=1000, scale=:log10)\n",
    "r2 = range(nn2, param2, lower=1, upper=50, scale=:linear)"
   ]
  },
  {
   "cell_type": "code",
   "execution_count": 90,
   "metadata": {
    "scrolled": true
   },
   "outputs": [
    {
     "data": {
      "text/plain": [
       "ProbabilisticTunedModel(\n",
       "    model = NeuralNetworkClassifier(\n",
       "            builder = \u001b[34mCustomNN @793\u001b[39m,\n",
       "            finaliser = NNlib.softmax,\n",
       "            optimiser = ADAM(0.00032, (0.9, 0.999), IdDict{Any,Any}()),\n",
       "            loss = Flux.crossentropy,\n",
       "            epochs = 1000,\n",
       "            batch_size = 16,\n",
       "            lambda = 0.0021544346900318843,\n",
       "            alpha = 0.0,\n",
       "            optimiser_changes_trigger_retraining = false),\n",
       "    tuning = Grid(\n",
       "            goal = 50,\n",
       "            resolution = 10,\n",
       "            shuffle = true,\n",
       "            rng = Random._GLOBAL_RNG()),\n",
       "    resampling = Holdout(\n",
       "            fraction_train = 0.7,\n",
       "            shuffle = false,\n",
       "            rng = Random._GLOBAL_RNG()),\n",
       "    measure = cross_entropy(\n",
       "            eps = 2.220446049250313e-16),\n",
       "    weights = nothing,\n",
       "    operation = MLJModelInterface.predict,\n",
       "    range = MLJBase.NumericRange{Int64,MLJBase.Bounded,Symbol}[\u001b[34mNumericRange{Int64,…} @281\u001b[39m, \u001b[34mNumericRange{Int64,…} @466\u001b[39m],\n",
       "    train_best = true,\n",
       "    repeats = 1,\n",
       "    n = nothing,\n",
       "    acceleration = CPUThreads{Int64}(1),\n",
       "    acceleration_resampling = CPU1{Nothing}(nothing),\n",
       "    check_measure = true)\u001b[34m @718\u001b[39m"
      ]
     },
     "execution_count": 90,
     "metadata": {},
     "output_type": "execute_result"
    }
   ],
   "source": [
    "self_tuning_nn_model = TunedModel(model=nn2,\n",
    "                                    tuning=Grid(goal=50),\n",
    "                                    resampling=Holdout(fraction_train=0.7), \n",
    "                                    measure=cross_entropy,\n",
    "                                    acceleration=CPUThreads(),\n",
    "                                    range=[r1, r2])"
   ]
  },
  {
   "cell_type": "code",
   "execution_count": 91,
   "metadata": {},
   "outputs": [
    {
     "data": {
      "text/plain": [
       "\u001b[34mMachine{ProbabilisticTunedModel{Grid,…}} @161\u001b[39m trained 0 times.\n",
       "  args: \n",
       "    1:\t\u001b[34mSource @412\u001b[39m ⏎ `Table{AbstractArray{Continuous,1}}`\n",
       "    2:\t\u001b[34mSource @208\u001b[39m ⏎ `AbstractArray{Multiclass{2},1}`\n"
      ]
     },
     "execution_count": 91,
     "metadata": {},
     "output_type": "execute_result"
    }
   ],
   "source": [
    "self_tuning_nn = machine(self_tuning_nn_model, X_stand, y)"
   ]
  },
  {
   "cell_type": "code",
   "execution_count": 92,
   "metadata": {},
   "outputs": [
    {
     "name": "stderr",
     "output_type": "stream",
     "text": [
      "┌ Info: Training \u001b[34mMachine{ProbabilisticTunedModel{Grid,…}} @161\u001b[39m.\n",
      "└ @ MLJBase /home/andrew/.julia/packages/MLJBase/cJmIS/src/machines.jl:322\n",
      "┌ Info: Attempting to evaluate 49 models.\n",
      "└ @ MLJTuning /home/andrew/.julia/packages/MLJTuning/nuvTc/src/tuned_models.jl:501\n",
      "\u001b[33mEvaluating over 49 metamodels: 100%[=========================] Time: 0:00:45\u001b[39m\n"
     ]
    },
    {
     "data": {
      "text/plain": [
       "\u001b[34mMachine{ProbabilisticTunedModel{Grid,…}} @161\u001b[39m trained 1 time.\n",
       "  args: \n",
       "    1:\t\u001b[34mSource @412\u001b[39m ⏎ `Table{AbstractArray{Continuous,1}}`\n",
       "    2:\t\u001b[34mSource @208\u001b[39m ⏎ `AbstractArray{Multiclass{2},1}`\n"
      ]
     },
     "execution_count": 92,
     "metadata": {},
     "output_type": "execute_result"
    }
   ],
   "source": [
    "z = fit!(self_tuning_nn, rows=train)"
   ]
  },
  {
   "cell_type": "code",
   "execution_count": 93,
   "metadata": {
    "scrolled": false
   },
   "outputs": [
    {
     "data": {
      "image/svg+xml": [
       "<?xml version=\"1.0\" encoding=\"utf-8\"?>\n",
       "<svg xmlns=\"http://www.w3.org/2000/svg\" xmlns:xlink=\"http://www.w3.org/1999/xlink\" width=\"600\" height=\"400\" viewBox=\"0 0 2400 1600\">\n",
       "<defs>\n",
       "  <clipPath id=\"clip460\">\n",
       "    <rect x=\"0\" y=\"0\" width=\"2400\" height=\"1600\"/>\n",
       "  </clipPath>\n",
       "</defs>\n",
       "<path clip-path=\"url(#clip460)\" d=\"\n",
       "M0 1600 L2400 1600 L2400 0 L0 0  Z\n",
       "  \" fill=\"#ffffff\" fill-rule=\"evenodd\" fill-opacity=\"1\"/>\n",
       "<defs>\n",
       "  <clipPath id=\"clip461\">\n",
       "    <rect x=\"480\" y=\"0\" width=\"1681\" height=\"1600\"/>\n",
       "  </clipPath>\n",
       "</defs>\n",
       "<path clip-path=\"url(#clip460)\" d=\"\n",
       "M202.459 1423.18 L2112.76 1423.18 L2112.76 47.2441 L202.459 47.2441  Z\n",
       "  \" fill=\"#ffffff\" fill-rule=\"evenodd\" fill-opacity=\"1\"/>\n",
       "<defs>\n",
       "  <clipPath id=\"clip462\">\n",
       "    <rect x=\"202\" y=\"47\" width=\"1911\" height=\"1377\"/>\n",
       "  </clipPath>\n",
       "</defs>\n",
       "<polyline clip-path=\"url(#clip462)\" style=\"stroke:#000000; stroke-width:2; stroke-opacity:0.1; fill:none\" points=\"\n",
       "  256.524,1423.18 256.524,47.2441 \n",
       "  \"/>\n",
       "<polyline clip-path=\"url(#clip462)\" style=\"stroke:#000000; stroke-width:2; stroke-opacity:0.1; fill:none\" points=\"\n",
       "  707.066,1423.18 707.066,47.2441 \n",
       "  \"/>\n",
       "<polyline clip-path=\"url(#clip462)\" style=\"stroke:#000000; stroke-width:2; stroke-opacity:0.1; fill:none\" points=\"\n",
       "  1157.61,1423.18 1157.61,47.2441 \n",
       "  \"/>\n",
       "<polyline clip-path=\"url(#clip462)\" style=\"stroke:#000000; stroke-width:2; stroke-opacity:0.1; fill:none\" points=\"\n",
       "  1608.15,1423.18 1608.15,47.2441 \n",
       "  \"/>\n",
       "<polyline clip-path=\"url(#clip462)\" style=\"stroke:#000000; stroke-width:2; stroke-opacity:0.1; fill:none\" points=\"\n",
       "  2058.69,1423.18 2058.69,47.2441 \n",
       "  \"/>\n",
       "<polyline clip-path=\"url(#clip462)\" style=\"stroke:#000000; stroke-width:2; stroke-opacity:0.1; fill:none\" points=\"\n",
       "  202.459,1410.73 2112.76,1410.73 \n",
       "  \"/>\n",
       "<polyline clip-path=\"url(#clip462)\" style=\"stroke:#000000; stroke-width:2; stroke-opacity:0.1; fill:none\" points=\"\n",
       "  202.459,1145.82 2112.76,1145.82 \n",
       "  \"/>\n",
       "<polyline clip-path=\"url(#clip462)\" style=\"stroke:#000000; stroke-width:2; stroke-opacity:0.1; fill:none\" points=\"\n",
       "  202.459,880.912 2112.76,880.912 \n",
       "  \"/>\n",
       "<polyline clip-path=\"url(#clip462)\" style=\"stroke:#000000; stroke-width:2; stroke-opacity:0.1; fill:none\" points=\"\n",
       "  202.459,616.003 2112.76,616.003 \n",
       "  \"/>\n",
       "<polyline clip-path=\"url(#clip462)\" style=\"stroke:#000000; stroke-width:2; stroke-opacity:0.1; fill:none\" points=\"\n",
       "  202.459,351.094 2112.76,351.094 \n",
       "  \"/>\n",
       "<polyline clip-path=\"url(#clip462)\" style=\"stroke:#000000; stroke-width:2; stroke-opacity:0.1; fill:none\" points=\"\n",
       "  202.459,86.1857 2112.76,86.1857 \n",
       "  \"/>\n",
       "<polyline clip-path=\"url(#clip460)\" style=\"stroke:#000000; stroke-width:4; stroke-opacity:1; fill:none\" points=\"\n",
       "  202.459,1423.18 2112.76,1423.18 \n",
       "  \"/>\n",
       "<polyline clip-path=\"url(#clip460)\" style=\"stroke:#000000; stroke-width:4; stroke-opacity:1; fill:none\" points=\"\n",
       "  202.459,1423.18 202.459,47.2441 \n",
       "  \"/>\n",
       "<polyline clip-path=\"url(#clip460)\" style=\"stroke:#000000; stroke-width:4; stroke-opacity:1; fill:none\" points=\"\n",
       "  256.524,1423.18 256.524,1406.67 \n",
       "  \"/>\n",
       "<polyline clip-path=\"url(#clip460)\" style=\"stroke:#000000; stroke-width:4; stroke-opacity:1; fill:none\" points=\"\n",
       "  707.066,1423.18 707.066,1406.67 \n",
       "  \"/>\n",
       "<polyline clip-path=\"url(#clip460)\" style=\"stroke:#000000; stroke-width:4; stroke-opacity:1; fill:none\" points=\"\n",
       "  1157.61,1423.18 1157.61,1406.67 \n",
       "  \"/>\n",
       "<polyline clip-path=\"url(#clip460)\" style=\"stroke:#000000; stroke-width:4; stroke-opacity:1; fill:none\" points=\"\n",
       "  1608.15,1423.18 1608.15,1406.67 \n",
       "  \"/>\n",
       "<polyline clip-path=\"url(#clip460)\" style=\"stroke:#000000; stroke-width:4; stroke-opacity:1; fill:none\" points=\"\n",
       "  2058.69,1423.18 2058.69,1406.67 \n",
       "  \"/>\n",
       "<polyline clip-path=\"url(#clip460)\" style=\"stroke:#000000; stroke-width:4; stroke-opacity:1; fill:none\" points=\"\n",
       "  202.459,1410.73 225.383,1410.73 \n",
       "  \"/>\n",
       "<polyline clip-path=\"url(#clip460)\" style=\"stroke:#000000; stroke-width:4; stroke-opacity:1; fill:none\" points=\"\n",
       "  202.459,1145.82 225.383,1145.82 \n",
       "  \"/>\n",
       "<polyline clip-path=\"url(#clip460)\" style=\"stroke:#000000; stroke-width:4; stroke-opacity:1; fill:none\" points=\"\n",
       "  202.459,880.912 225.383,880.912 \n",
       "  \"/>\n",
       "<polyline clip-path=\"url(#clip460)\" style=\"stroke:#000000; stroke-width:4; stroke-opacity:1; fill:none\" points=\"\n",
       "  202.459,616.003 225.383,616.003 \n",
       "  \"/>\n",
       "<polyline clip-path=\"url(#clip460)\" style=\"stroke:#000000; stroke-width:4; stroke-opacity:1; fill:none\" points=\"\n",
       "  202.459,351.094 225.383,351.094 \n",
       "  \"/>\n",
       "<polyline clip-path=\"url(#clip460)\" style=\"stroke:#000000; stroke-width:4; stroke-opacity:1; fill:none\" points=\"\n",
       "  202.459,86.1857 225.383,86.1857 \n",
       "  \"/>\n",
       "<path clip-path=\"url(#clip460)\" d=\"M 0 0 M210.021 1494.25 L217.66 1494.25 L217.66 1467.89 L209.35 1469.55 L209.35 1465.29 L217.614 1463.63 L222.289 1463.63 L222.289 1494.25 L229.928 1494.25 L229.928 1498.19 L210.021 1498.19 L210.021 1494.25 Z\" fill=\"#000000\" fill-rule=\"evenodd\" fill-opacity=\"1\" /><path clip-path=\"url(#clip460)\" d=\"M 0 0 M244.998 1466.71 Q241.387 1466.71 239.558 1470.27 Q237.752 1473.81 237.752 1480.94 Q237.752 1488.05 239.558 1491.61 Q241.387 1495.15 244.998 1495.15 Q248.632 1495.15 250.437 1491.61 Q252.266 1488.05 252.266 1480.94 Q252.266 1473.81 250.437 1470.27 Q248.632 1466.71 244.998 1466.71 M244.998 1463 Q250.808 1463 253.863 1467.61 Q256.942 1472.19 256.942 1480.94 Q256.942 1489.67 253.863 1494.28 Q250.808 1498.86 244.998 1498.86 Q239.188 1498.86 236.109 1494.28 Q233.053 1489.67 233.053 1480.94 Q233.053 1472.19 236.109 1467.61 Q239.188 1463 244.998 1463 Z\" fill=\"#000000\" fill-rule=\"evenodd\" fill-opacity=\"1\" /><path clip-path=\"url(#clip460)\" d=\"M 0 0 M257.487 1467.58 L263.694 1467.58 L263.694 1446.16 L256.942 1447.51 L256.942 1444.05 L263.656 1442.7 L267.456 1442.7 L267.456 1467.58 L273.662 1467.58 L273.662 1470.78 L257.487 1470.78 L257.487 1467.58 Z\" fill=\"#000000\" fill-rule=\"evenodd\" fill-opacity=\"1\" /><path clip-path=\"url(#clip460)\" d=\"M 0 0 M277.781 1466 L281.75 1466 L281.75 1470.78 L277.781 1470.78 L277.781 1466 Z\" fill=\"#000000\" fill-rule=\"evenodd\" fill-opacity=\"1\" /><path clip-path=\"url(#clip460)\" d=\"M 0 0 M293.993 1445.2 Q291.059 1445.2 289.574 1448.09 Q288.107 1450.97 288.107 1456.76 Q288.107 1462.54 289.574 1465.44 Q291.059 1468.31 293.993 1468.31 Q296.946 1468.31 298.413 1465.44 Q299.899 1462.54 299.899 1456.76 Q299.899 1450.97 298.413 1448.09 Q296.946 1445.2 293.993 1445.2 M293.993 1442.19 Q298.714 1442.19 301.197 1445.93 Q303.698 1449.66 303.698 1456.76 Q303.698 1463.86 301.197 1467.6 Q298.714 1471.32 293.993 1471.32 Q289.273 1471.32 286.771 1467.6 Q284.289 1463.86 284.289 1456.76 Q284.289 1449.66 286.771 1445.93 Q289.273 1442.19 293.993 1442.19 Z\" fill=\"#000000\" fill-rule=\"evenodd\" fill-opacity=\"1\" /><path clip-path=\"url(#clip460)\" d=\"M 0 0 M660.967 1494.25 L668.606 1494.25 L668.606 1467.89 L660.296 1469.55 L660.296 1465.29 L668.56 1463.63 L673.236 1463.63 L673.236 1494.25 L680.874 1494.25 L680.874 1498.19 L660.967 1498.19 L660.967 1494.25 Z\" fill=\"#000000\" fill-rule=\"evenodd\" fill-opacity=\"1\" /><path clip-path=\"url(#clip460)\" d=\"M 0 0 M695.944 1466.71 Q692.333 1466.71 690.504 1470.27 Q688.698 1473.81 688.698 1480.94 Q688.698 1488.05 690.504 1491.61 Q692.333 1495.15 695.944 1495.15 Q699.578 1495.15 701.384 1491.61 Q703.212 1488.05 703.212 1480.94 Q703.212 1473.81 701.384 1470.27 Q699.578 1466.71 695.944 1466.71 M695.944 1463 Q701.754 1463 704.809 1467.61 Q707.888 1472.19 707.888 1480.94 Q707.888 1489.67 704.809 1494.28 Q701.754 1498.86 695.944 1498.86 Q690.134 1498.86 687.055 1494.28 Q683.999 1489.67 683.999 1480.94 Q683.999 1472.19 687.055 1467.61 Q690.134 1463 695.944 1463 Z\" fill=\"#000000\" fill-rule=\"evenodd\" fill-opacity=\"1\" /><path clip-path=\"url(#clip460)\" d=\"M 0 0 M708.434 1467.58 L714.64 1467.58 L714.64 1446.16 L707.888 1447.51 L707.888 1444.05 L714.603 1442.7 L718.402 1442.7 L718.402 1467.58 L724.608 1467.58 L724.608 1470.78 L708.434 1470.78 L708.434 1467.58 Z\" fill=\"#000000\" fill-rule=\"evenodd\" fill-opacity=\"1\" /><path clip-path=\"url(#clip460)\" d=\"M 0 0 M728.727 1466 L732.696 1466 L732.696 1470.78 L728.727 1470.78 L728.727 1466 Z\" fill=\"#000000\" fill-rule=\"evenodd\" fill-opacity=\"1\" /><path clip-path=\"url(#clip460)\" d=\"M 0 0 M736.852 1442.7 L751.767 1442.7 L751.767 1445.89 L740.332 1445.89 L740.332 1452.78 Q741.159 1452.5 741.987 1452.36 Q742.814 1452.21 743.642 1452.21 Q748.344 1452.21 751.09 1454.79 Q753.836 1457.37 753.836 1461.77 Q753.836 1466.3 751.014 1468.82 Q748.193 1471.32 743.059 1471.32 Q741.291 1471.32 739.448 1471.02 Q737.623 1470.72 735.667 1470.12 L735.667 1466.3 Q737.36 1467.22 739.165 1467.67 Q740.971 1468.12 742.983 1468.12 Q746.237 1468.12 748.137 1466.41 Q750.036 1464.7 750.036 1461.77 Q750.036 1458.83 748.137 1457.12 Q746.237 1455.41 742.983 1455.41 Q741.46 1455.41 739.937 1455.75 Q738.432 1456.09 736.852 1456.8 L736.852 1442.7 Z\" fill=\"#000000\" fill-rule=\"evenodd\" fill-opacity=\"1\" /><path clip-path=\"url(#clip460)\" d=\"M 0 0 M1110.55 1494.25 L1118.19 1494.25 L1118.19 1467.89 L1109.88 1469.55 L1109.88 1465.29 L1118.14 1463.63 L1122.82 1463.63 L1122.82 1494.25 L1130.46 1494.25 L1130.46 1498.19 L1110.55 1498.19 L1110.55 1494.25 Z\" fill=\"#000000\" fill-rule=\"evenodd\" fill-opacity=\"1\" /><path clip-path=\"url(#clip460)\" d=\"M 0 0 M1145.53 1466.71 Q1141.92 1466.71 1140.09 1470.27 Q1138.28 1473.81 1138.28 1480.94 Q1138.28 1488.05 1140.09 1491.61 Q1141.92 1495.15 1145.53 1495.15 Q1149.16 1495.15 1150.97 1491.61 Q1152.79 1488.05 1152.79 1480.94 Q1152.79 1473.81 1150.97 1470.27 Q1149.16 1466.71 1145.53 1466.71 M1145.53 1463 Q1151.34 1463 1154.39 1467.61 Q1157.47 1472.19 1157.47 1480.94 Q1157.47 1489.67 1154.39 1494.28 Q1151.34 1498.86 1145.53 1498.86 Q1139.72 1498.86 1136.64 1494.28 Q1133.58 1489.67 1133.58 1480.94 Q1133.58 1472.19 1136.64 1467.61 Q1139.72 1463 1145.53 1463 Z\" fill=\"#000000\" fill-rule=\"evenodd\" fill-opacity=\"1\" /><path clip-path=\"url(#clip460)\" d=\"M 0 0 M1162.04 1467.58 L1175.3 1467.58 L1175.3 1470.78 L1157.47 1470.78 L1157.47 1467.58 Q1159.63 1465.34 1163.36 1461.58 Q1167.1 1457.8 1168.06 1456.71 Q1169.88 1454.66 1170.6 1453.25 Q1171.33 1451.82 1171.33 1450.45 Q1171.33 1448.21 1169.75 1446.8 Q1168.19 1445.39 1165.67 1445.39 Q1163.88 1445.39 1161.89 1446.01 Q1159.92 1446.63 1157.66 1447.89 L1157.66 1444.05 Q1159.95 1443.13 1161.95 1442.66 Q1163.94 1442.19 1165.6 1442.19 Q1169.96 1442.19 1172.55 1444.37 Q1175.15 1446.55 1175.15 1450.2 Q1175.15 1451.93 1174.49 1453.49 Q1173.85 1455.03 1172.14 1457.14 Q1171.67 1457.69 1169.15 1460.3 Q1166.63 1462.9 1162.04 1467.58 Z\" fill=\"#000000\" fill-rule=\"evenodd\" fill-opacity=\"1\" /><path clip-path=\"url(#clip460)\" d=\"M 0 0 M1179.42 1466 L1183.39 1466 L1183.39 1470.78 L1179.42 1470.78 L1179.42 1466 Z\" fill=\"#000000\" fill-rule=\"evenodd\" fill-opacity=\"1\" /><path clip-path=\"url(#clip460)\" d=\"M 0 0 M1195.63 1445.2 Q1192.7 1445.2 1191.21 1448.09 Q1189.74 1450.97 1189.74 1456.76 Q1189.74 1462.54 1191.21 1465.44 Q1192.7 1468.31 1195.63 1468.31 Q1198.58 1468.31 1200.05 1465.44 Q1201.54 1462.54 1201.54 1456.76 Q1201.54 1450.97 1200.05 1448.09 Q1198.58 1445.2 1195.63 1445.2 M1195.63 1442.19 Q1200.35 1442.19 1202.84 1445.93 Q1205.34 1449.66 1205.34 1456.76 Q1205.34 1463.86 1202.84 1467.6 Q1200.35 1471.32 1195.63 1471.32 Q1190.91 1471.32 1188.41 1467.6 Q1185.93 1463.86 1185.93 1456.76 Q1185.93 1449.66 1188.41 1445.93 Q1190.91 1442.19 1195.63 1442.19 Z\" fill=\"#000000\" fill-rule=\"evenodd\" fill-opacity=\"1\" /><path clip-path=\"url(#clip460)\" d=\"M 0 0 M1561.5 1494.25 L1569.13 1494.25 L1569.13 1467.89 L1560.82 1469.55 L1560.82 1465.29 L1569.09 1463.63 L1573.76 1463.63 L1573.76 1494.25 L1581.4 1494.25 L1581.4 1498.19 L1561.5 1498.19 L1561.5 1494.25 Z\" fill=\"#000000\" fill-rule=\"evenodd\" fill-opacity=\"1\" /><path clip-path=\"url(#clip460)\" d=\"M 0 0 M1596.47 1466.71 Q1592.86 1466.71 1591.03 1470.27 Q1589.23 1473.81 1589.23 1480.94 Q1589.23 1488.05 1591.03 1491.61 Q1592.86 1495.15 1596.47 1495.15 Q1600.11 1495.15 1601.91 1491.61 Q1603.74 1488.05 1603.74 1480.94 Q1603.74 1473.81 1601.91 1470.27 Q1600.11 1466.71 1596.47 1466.71 M1596.47 1463 Q1602.28 1463 1605.34 1467.61 Q1608.42 1472.19 1608.42 1480.94 Q1608.42 1489.67 1605.34 1494.28 Q1602.28 1498.86 1596.47 1498.86 Q1590.66 1498.86 1587.58 1494.28 Q1584.53 1489.67 1584.53 1480.94 Q1584.53 1472.19 1587.58 1467.61 Q1590.66 1463 1596.47 1463 Z\" fill=\"#000000\" fill-rule=\"evenodd\" fill-opacity=\"1\" /><path clip-path=\"url(#clip460)\" d=\"M 0 0 M1612.99 1467.58 L1626.25 1467.58 L1626.25 1470.78 L1608.42 1470.78 L1608.42 1467.58 Q1610.58 1465.34 1614.3 1461.58 Q1618.05 1457.8 1619.01 1456.71 Q1620.83 1454.66 1621.54 1453.25 Q1622.28 1451.82 1622.28 1450.45 Q1622.28 1448.21 1620.7 1446.8 Q1619.14 1445.39 1616.62 1445.39 Q1614.83 1445.39 1612.84 1446.01 Q1610.86 1446.63 1608.6 1447.89 L1608.6 1444.05 Q1610.9 1443.13 1612.89 1442.66 Q1614.89 1442.19 1616.54 1442.19 Q1620.91 1442.19 1623.5 1444.37 Q1626.1 1446.55 1626.1 1450.2 Q1626.1 1451.93 1625.44 1453.49 Q1624.8 1455.03 1623.09 1457.14 Q1622.62 1457.69 1620.1 1460.3 Q1617.58 1462.9 1612.99 1467.58 Z\" fill=\"#000000\" fill-rule=\"evenodd\" fill-opacity=\"1\" /><path clip-path=\"url(#clip460)\" d=\"M 0 0 M1630.37 1466 L1634.33 1466 L1634.33 1470.78 L1630.37 1470.78 L1630.37 1466 Z\" fill=\"#000000\" fill-rule=\"evenodd\" fill-opacity=\"1\" /><path clip-path=\"url(#clip460)\" d=\"M 0 0 M1638.49 1442.7 L1653.4 1442.7 L1653.4 1445.89 L1641.97 1445.89 L1641.97 1452.78 Q1642.8 1452.5 1643.62 1452.36 Q1644.45 1452.21 1645.28 1452.21 Q1649.98 1452.21 1652.73 1454.79 Q1655.47 1457.37 1655.47 1461.77 Q1655.47 1466.3 1652.65 1468.82 Q1649.83 1471.32 1644.7 1471.32 Q1642.93 1471.32 1641.09 1471.02 Q1639.26 1470.72 1637.31 1470.12 L1637.31 1466.3 Q1639 1467.22 1640.8 1467.67 Q1642.61 1468.12 1644.62 1468.12 Q1647.88 1468.12 1649.78 1466.41 Q1651.67 1464.7 1651.67 1461.77 Q1651.67 1458.83 1649.78 1457.12 Q1647.88 1455.41 1644.62 1455.41 Q1643.1 1455.41 1641.57 1455.75 Q1640.07 1456.09 1638.49 1456.8 L1638.49 1442.7 Z\" fill=\"#000000\" fill-rule=\"evenodd\" fill-opacity=\"1\" /><path clip-path=\"url(#clip460)\" d=\"M 0 0 M2011.3 1494.25 L2018.94 1494.25 L2018.94 1467.89 L2010.63 1469.55 L2010.63 1465.29 L2018.9 1463.63 L2023.57 1463.63 L2023.57 1494.25 L2031.21 1494.25 L2031.21 1498.19 L2011.3 1498.19 L2011.3 1494.25 Z\" fill=\"#000000\" fill-rule=\"evenodd\" fill-opacity=\"1\" /><path clip-path=\"url(#clip460)\" d=\"M 0 0 M2046.28 1466.71 Q2042.67 1466.71 2040.84 1470.27 Q2039.04 1473.81 2039.04 1480.94 Q2039.04 1488.05 2040.84 1491.61 Q2042.67 1495.15 2046.28 1495.15 Q2049.91 1495.15 2051.72 1491.61 Q2053.55 1488.05 2053.55 1480.94 Q2053.55 1473.81 2051.72 1470.27 Q2049.91 1466.71 2046.28 1466.71 M2046.28 1463 Q2052.09 1463 2055.15 1467.61 Q2058.23 1472.19 2058.23 1480.94 Q2058.23 1489.67 2055.15 1494.28 Q2052.09 1498.86 2046.28 1498.86 Q2040.47 1498.86 2037.39 1494.28 Q2034.34 1489.67 2034.34 1480.94 Q2034.34 1472.19 2037.39 1467.61 Q2040.47 1463 2046.28 1463 Z\" fill=\"#000000\" fill-rule=\"evenodd\" fill-opacity=\"1\" /><path clip-path=\"url(#clip460)\" d=\"M 0 0 M2070.92 1455.64 Q2073.65 1456.22 2075.17 1458.06 Q2076.71 1459.91 2076.71 1462.61 Q2076.71 1466.77 2073.85 1469.05 Q2071 1471.32 2065.73 1471.32 Q2063.96 1471.32 2062.08 1470.96 Q2060.22 1470.63 2058.23 1469.93 L2058.23 1466.26 Q2059.8 1467.18 2061.69 1467.65 Q2063.57 1468.12 2065.62 1468.12 Q2069.19 1468.12 2071.05 1466.71 Q2072.93 1465.3 2072.93 1462.61 Q2072.93 1460.13 2071.18 1458.74 Q2069.45 1457.33 2066.35 1457.33 L2063.08 1457.33 L2063.08 1454.21 L2066.5 1454.21 Q2069.3 1454.21 2070.79 1453.1 Q2072.27 1451.97 2072.27 1449.86 Q2072.27 1447.7 2070.73 1446.55 Q2069.21 1445.39 2066.35 1445.39 Q2064.79 1445.39 2063 1445.72 Q2061.22 1446.06 2059.07 1446.78 L2059.07 1443.39 Q2061.23 1442.79 2063.12 1442.49 Q2065.01 1442.19 2066.69 1442.19 Q2071.01 1442.19 2073.53 1444.16 Q2076.05 1446.12 2076.05 1449.47 Q2076.05 1451.8 2074.72 1453.42 Q2073.38 1455.02 2070.92 1455.64 Z\" fill=\"#000000\" fill-rule=\"evenodd\" fill-opacity=\"1\" /><path clip-path=\"url(#clip460)\" d=\"M 0 0 M2080.83 1466 L2084.8 1466 L2084.8 1470.78 L2080.83 1470.78 L2080.83 1466 Z\" fill=\"#000000\" fill-rule=\"evenodd\" fill-opacity=\"1\" /><path clip-path=\"url(#clip460)\" d=\"M 0 0 M2097.04 1445.2 Q2094.11 1445.2 2092.62 1448.09 Q2091.16 1450.97 2091.16 1456.76 Q2091.16 1462.54 2092.62 1465.44 Q2094.11 1468.31 2097.04 1468.31 Q2100 1468.31 2101.46 1465.44 Q2102.95 1462.54 2102.95 1456.76 Q2102.95 1450.97 2101.46 1448.09 Q2100 1445.2 2097.04 1445.2 M2097.04 1442.19 Q2101.77 1442.19 2104.25 1445.93 Q2106.75 1449.66 2106.75 1456.76 Q2106.75 1463.86 2104.25 1467.6 Q2101.77 1471.32 2097.04 1471.32 Q2092.32 1471.32 2089.82 1467.6 Q2087.34 1463.86 2087.34 1456.76 Q2087.34 1449.66 2089.82 1445.93 Q2092.32 1442.19 2097.04 1442.19 Z\" fill=\"#000000\" fill-rule=\"evenodd\" fill-opacity=\"1\" /><path clip-path=\"url(#clip460)\" d=\"M 0 0 M166.515 1396.53 Q162.903 1396.53 161.075 1400.09 Q159.269 1403.63 159.269 1410.76 Q159.269 1417.87 161.075 1421.44 Q162.903 1424.98 166.515 1424.98 Q170.149 1424.98 171.954 1421.44 Q173.783 1417.87 173.783 1410.76 Q173.783 1403.63 171.954 1400.09 Q170.149 1396.53 166.515 1396.53 M166.515 1392.82 Q172.325 1392.82 175.38 1397.43 Q178.459 1402.01 178.459 1410.76 Q178.459 1419.49 175.38 1424.1 Q172.325 1428.68 166.515 1428.68 Q160.704 1428.68 157.626 1424.1 Q154.57 1419.49 154.57 1410.76 Q154.57 1402.01 157.626 1397.43 Q160.704 1392.82 166.515 1392.82 Z\" fill=\"#000000\" fill-rule=\"evenodd\" fill-opacity=\"1\" /><path clip-path=\"url(#clip460)\" d=\"M 0 0 M131.538 1159.17 L139.177 1159.17 L139.177 1132.8 L130.867 1134.47 L130.867 1130.21 L139.13 1128.54 L143.806 1128.54 L143.806 1159.17 L151.445 1159.17 L151.445 1163.1 L131.538 1163.1 L131.538 1159.17 Z\" fill=\"#000000\" fill-rule=\"evenodd\" fill-opacity=\"1\" /><path clip-path=\"url(#clip460)\" d=\"M 0 0 M166.515 1131.62 Q162.903 1131.62 161.075 1135.18 Q159.269 1138.73 159.269 1145.86 Q159.269 1152.96 161.075 1156.53 Q162.903 1160.07 166.515 1160.07 Q170.149 1160.07 171.954 1156.53 Q173.783 1152.96 173.783 1145.86 Q173.783 1138.73 171.954 1135.18 Q170.149 1131.62 166.515 1131.62 M166.515 1127.92 Q172.325 1127.92 175.38 1132.52 Q178.459 1137.11 178.459 1145.86 Q178.459 1154.58 175.38 1159.19 Q172.325 1163.77 166.515 1163.77 Q160.704 1163.77 157.626 1159.19 Q154.57 1154.58 154.57 1145.86 Q154.57 1137.11 157.626 1132.52 Q160.704 1127.92 166.515 1127.92 Z\" fill=\"#000000\" fill-rule=\"evenodd\" fill-opacity=\"1\" /><path clip-path=\"url(#clip460)\" d=\"M 0 0 M135.126 894.257 L151.445 894.257 L151.445 898.192 L129.501 898.192 L129.501 894.257 Q132.163 891.502 136.746 886.872 Q141.353 882.22 142.533 880.877 Q144.779 878.354 145.658 876.618 Q146.561 874.859 146.561 873.169 Q146.561 870.414 144.617 868.678 Q142.695 866.942 139.593 866.942 Q137.394 866.942 134.941 867.706 Q132.51 868.47 129.732 870.021 L129.732 865.298 Q132.556 864.164 135.01 863.585 Q137.464 863.007 139.501 863.007 Q144.871 863.007 148.066 865.692 Q151.26 868.377 151.26 872.868 Q151.26 874.997 150.45 876.919 Q149.663 878.817 147.556 881.409 Q146.978 882.081 143.876 885.298 Q140.774 888.493 135.126 894.257 Z\" fill=\"#000000\" fill-rule=\"evenodd\" fill-opacity=\"1\" /><path clip-path=\"url(#clip460)\" d=\"M 0 0 M166.515 866.71 Q162.903 866.71 161.075 870.275 Q159.269 873.817 159.269 880.946 Q159.269 888.053 161.075 891.618 Q162.903 895.159 166.515 895.159 Q170.149 895.159 171.954 891.618 Q173.783 888.053 173.783 880.946 Q173.783 873.817 171.954 870.275 Q170.149 866.71 166.515 866.71 M166.515 863.007 Q172.325 863.007 175.38 867.613 Q178.459 872.197 178.459 880.946 Q178.459 889.673 175.38 894.28 Q172.325 898.863 166.515 898.863 Q160.704 898.863 157.626 894.28 Q154.57 889.673 154.57 880.946 Q154.57 872.197 157.626 867.613 Q160.704 863.007 166.515 863.007 Z\" fill=\"#000000\" fill-rule=\"evenodd\" fill-opacity=\"1\" /><path clip-path=\"url(#clip460)\" d=\"M 0 0 M144.316 614.649 Q147.672 615.366 149.547 617.635 Q151.445 619.903 151.445 623.237 Q151.445 628.353 147.927 631.153 Q144.408 633.954 137.927 633.954 Q135.751 633.954 133.436 633.515 Q131.144 633.098 128.691 632.241 L128.691 627.728 Q130.635 628.862 132.95 629.44 Q135.265 630.019 137.788 630.019 Q142.186 630.019 144.478 628.283 Q146.792 626.547 146.792 623.237 Q146.792 620.181 144.64 618.468 Q142.51 616.732 138.691 616.732 L134.663 616.732 L134.663 612.89 L138.876 612.89 Q142.325 612.89 144.154 611.524 Q145.982 610.135 145.982 607.542 Q145.982 604.88 144.084 603.468 Q142.209 602.033 138.691 602.033 Q136.769 602.033 134.57 602.45 Q132.371 602.867 129.732 603.746 L129.732 599.58 Q132.394 598.839 134.709 598.468 Q137.047 598.098 139.107 598.098 Q144.431 598.098 147.533 600.529 Q150.635 602.936 150.635 607.056 Q150.635 609.927 148.992 611.917 Q147.348 613.885 144.316 614.649 Z\" fill=\"#000000\" fill-rule=\"evenodd\" fill-opacity=\"1\" /><path clip-path=\"url(#clip460)\" d=\"M 0 0 M166.515 601.802 Q162.903 601.802 161.075 605.367 Q159.269 608.908 159.269 616.038 Q159.269 623.144 161.075 626.709 Q162.903 630.251 166.515 630.251 Q170.149 630.251 171.954 626.709 Q173.783 623.144 173.783 616.038 Q173.783 608.908 171.954 605.367 Q170.149 601.802 166.515 601.802 M166.515 598.098 Q172.325 598.098 175.38 602.705 Q178.459 607.288 178.459 616.038 Q178.459 624.765 175.38 629.371 Q172.325 633.954 166.515 633.954 Q160.704 633.954 157.626 629.371 Q154.57 624.765 154.57 616.038 Q154.57 607.288 157.626 602.705 Q160.704 598.098 166.515 598.098 Z\" fill=\"#000000\" fill-rule=\"evenodd\" fill-opacity=\"1\" /><path clip-path=\"url(#clip460)\" d=\"M 0 0 M141.862 337.888 L130.056 356.337 L141.862 356.337 L141.862 337.888 M140.635 333.814 L146.515 333.814 L146.515 356.337 L151.445 356.337 L151.445 360.226 L146.515 360.226 L146.515 368.374 L141.862 368.374 L141.862 360.226 L126.26 360.226 L126.26 355.712 L140.635 333.814 Z\" fill=\"#000000\" fill-rule=\"evenodd\" fill-opacity=\"1\" /><path clip-path=\"url(#clip460)\" d=\"M 0 0 M166.515 336.893 Q162.903 336.893 161.075 340.458 Q159.269 343.999 159.269 351.129 Q159.269 358.236 161.075 361.8 Q162.903 365.342 166.515 365.342 Q170.149 365.342 171.954 361.8 Q173.783 358.236 173.783 351.129 Q173.783 343.999 171.954 340.458 Q170.149 336.893 166.515 336.893 M166.515 333.189 Q172.325 333.189 175.38 337.796 Q178.459 342.379 178.459 351.129 Q178.459 359.856 175.38 364.462 Q172.325 369.046 166.515 369.046 Q160.704 369.046 157.626 364.462 Q154.57 359.856 154.57 351.129 Q154.57 342.379 157.626 337.796 Q160.704 333.189 166.515 333.189 Z\" fill=\"#000000\" fill-rule=\"evenodd\" fill-opacity=\"1\" /><path clip-path=\"url(#clip460)\" d=\"M 0 0 M130.543 68.9057 L148.899 68.9057 L148.899 72.8408 L134.825 72.8408 L134.825 81.313 Q135.843 80.9658 136.862 80.8038 Q137.88 80.6186 138.899 80.6186 Q144.686 80.6186 148.066 83.7899 Q151.445 86.9611 151.445 92.3778 Q151.445 97.9564 147.973 101.058 Q144.501 104.137 138.181 104.137 Q136.005 104.137 133.737 103.767 Q131.492 103.396 129.084 102.655 L129.084 97.9564 Q131.168 99.0907 133.39 99.6462 Q135.612 100.202 138.089 100.202 Q142.093 100.202 144.431 98.0953 Q146.769 95.9889 146.769 92.3778 Q146.769 88.7667 144.431 86.6602 Q142.093 84.5537 138.089 84.5537 Q136.214 84.5537 134.339 84.9704 Q132.487 85.3871 130.543 86.2667 L130.543 68.9057 Z\" fill=\"#000000\" fill-rule=\"evenodd\" fill-opacity=\"1\" /><path clip-path=\"url(#clip460)\" d=\"M 0 0 M166.515 71.9844 Q162.903 71.9844 161.075 75.5492 Q159.269 79.0908 159.269 86.2204 Q159.269 93.3268 161.075 96.8916 Q162.903 100.433 166.515 100.433 Q170.149 100.433 171.954 96.8916 Q173.783 93.3268 173.783 86.2204 Q173.783 79.0908 171.954 75.5492 Q170.149 71.9844 166.515 71.9844 M166.515 68.2807 Q172.325 68.2807 175.38 72.8871 Q178.459 77.4704 178.459 86.2204 Q178.459 94.9472 175.38 99.5537 Q172.325 104.137 166.515 104.137 Q160.704 104.137 157.626 99.5537 Q154.57 94.9472 154.57 86.2204 Q154.57 77.4704 157.626 72.8871 Q160.704 68.2807 166.515 68.2807 Z\" fill=\"#000000\" fill-rule=\"evenodd\" fill-opacity=\"1\" /><path clip-path=\"url(#clip460)\" d=\"M 0 0 M1087.89 1536.76 L1087.89 1539.62 L1060.96 1539.62 Q1061.34 1545.67 1064.59 1548.85 Q1067.87 1552 1073.69 1552 Q1077.07 1552 1080.22 1551.17 Q1083.4 1550.35 1086.52 1548.69 L1086.52 1554.23 Q1083.37 1555.57 1080.06 1556.27 Q1076.75 1556.97 1073.34 1556.97 Q1064.81 1556.97 1059.81 1552 Q1054.85 1547.04 1054.85 1538.57 Q1054.85 1529.82 1059.56 1524.69 Q1064.3 1519.54 1072.32 1519.54 Q1079.52 1519.54 1083.69 1524.18 Q1087.89 1528.8 1087.89 1536.76 M1082.03 1535.04 Q1081.97 1530.23 1079.33 1527.37 Q1076.72 1524.5 1072.39 1524.5 Q1067.48 1524.5 1064.52 1527.27 Q1061.6 1530.04 1061.15 1535.07 L1082.03 1535.04 Z\" fill=\"#000000\" fill-rule=\"evenodd\" fill-opacity=\"1\" /><path clip-path=\"url(#clip460)\" d=\"M 0 0 M1099.7 1550.7 L1099.7 1569.6 L1093.81 1569.6 L1093.81 1520.4 L1099.7 1520.4 L1099.7 1525.81 Q1101.54 1522.62 1104.34 1521.1 Q1107.18 1519.54 1111.09 1519.54 Q1117.58 1519.54 1121.63 1524.69 Q1125.7 1529.85 1125.7 1538.25 Q1125.7 1546.65 1121.63 1551.81 Q1117.58 1556.97 1111.09 1556.97 Q1107.18 1556.97 1104.34 1555.44 Q1101.54 1553.88 1099.7 1550.7 M1119.62 1538.25 Q1119.62 1531.79 1116.95 1528.13 Q1114.3 1524.44 1109.66 1524.44 Q1105.01 1524.44 1102.34 1528.13 Q1099.7 1531.79 1099.7 1538.25 Q1099.7 1544.71 1102.34 1548.4 Q1105.01 1552.07 1109.66 1552.07 Q1114.3 1552.07 1116.95 1548.4 Q1119.62 1544.71 1119.62 1538.25 Z\" fill=\"#000000\" fill-rule=\"evenodd\" fill-opacity=\"1\" /><path clip-path=\"url(#clip460)\" d=\"M 0 0 M1145.66 1524.5 Q1140.95 1524.5 1138.21 1528.19 Q1135.47 1531.85 1135.47 1538.25 Q1135.47 1544.65 1138.18 1548.34 Q1140.91 1552 1145.66 1552 Q1150.33 1552 1153.07 1548.31 Q1155.81 1544.62 1155.81 1538.25 Q1155.81 1531.92 1153.07 1528.23 Q1150.33 1524.5 1145.66 1524.5 M1145.66 1519.54 Q1153.29 1519.54 1157.66 1524.5 Q1162.02 1529.47 1162.02 1538.25 Q1162.02 1547 1157.66 1552 Q1153.29 1556.97 1145.66 1556.97 Q1137.99 1556.97 1133.62 1552 Q1129.3 1547 1129.3 1538.25 Q1129.3 1529.47 1133.62 1524.5 Q1137.99 1519.54 1145.66 1519.54 Z\" fill=\"#000000\" fill-rule=\"evenodd\" fill-opacity=\"1\" /><path clip-path=\"url(#clip460)\" d=\"M 0 0 M1193.81 1521.76 L1193.81 1527.24 Q1191.33 1525.87 1188.82 1525.2 Q1186.33 1524.5 1183.79 1524.5 Q1178.09 1524.5 1174.94 1528.13 Q1171.79 1531.73 1171.79 1538.25 Q1171.79 1544.78 1174.94 1548.4 Q1178.09 1552 1183.79 1552 Q1186.33 1552 1188.82 1551.33 Q1191.33 1550.63 1193.81 1549.26 L1193.81 1554.68 Q1191.36 1555.82 1188.72 1556.39 Q1186.11 1556.97 1183.15 1556.97 Q1175.1 1556.97 1170.35 1551.91 Q1165.61 1546.85 1165.61 1538.25 Q1165.61 1529.53 1170.39 1524.53 Q1175.19 1519.54 1183.53 1519.54 Q1186.24 1519.54 1188.82 1520.11 Q1191.39 1520.65 1193.81 1521.76 Z\" fill=\"#000000\" fill-rule=\"evenodd\" fill-opacity=\"1\" /><path clip-path=\"url(#clip460)\" d=\"M 0 0 M1229.59 1534.53 L1229.59 1556.04 L1223.73 1556.04 L1223.73 1534.72 Q1223.73 1529.66 1221.76 1527.14 Q1219.78 1524.63 1215.84 1524.63 Q1211.1 1524.63 1208.36 1527.65 Q1205.62 1530.68 1205.62 1535.9 L1205.62 1556.04 L1199.73 1556.04 L1199.73 1506.52 L1205.62 1506.52 L1205.62 1525.93 Q1207.72 1522.72 1210.55 1521.13 Q1213.42 1519.54 1217.14 1519.54 Q1223.29 1519.54 1226.44 1523.36 Q1229.59 1527.14 1229.59 1534.53 Z\" fill=\"#000000\" fill-rule=\"evenodd\" fill-opacity=\"1\" /><path clip-path=\"url(#clip460)\" d=\"M 0 0 M1258.46 1521.45 L1258.46 1526.98 Q1255.97 1525.71 1253.3 1525.07 Q1250.63 1524.44 1247.76 1524.44 Q1243.4 1524.44 1241.21 1525.77 Q1239.04 1527.11 1239.04 1529.79 Q1239.04 1531.82 1240.6 1533 Q1242.16 1534.15 1246.87 1535.2 L1248.88 1535.64 Q1255.11 1536.98 1257.72 1539.43 Q1260.37 1541.85 1260.37 1546.21 Q1260.37 1551.17 1256.42 1554.07 Q1252.5 1556.97 1245.63 1556.97 Q1242.76 1556.97 1239.65 1556.39 Q1236.56 1555.85 1233.12 1554.74 L1233.12 1548.69 Q1236.37 1550.38 1239.52 1551.24 Q1242.67 1552.07 1245.76 1552.07 Q1249.89 1552.07 1252.12 1550.66 Q1254.35 1549.23 1254.35 1546.65 Q1254.35 1544.27 1252.73 1542.99 Q1251.14 1541.72 1245.69 1540.54 L1243.66 1540.07 Q1238.21 1538.92 1235.79 1536.56 Q1233.38 1534.18 1233.38 1530.04 Q1233.38 1525.01 1236.94 1522.27 Q1240.5 1519.54 1247.06 1519.54 Q1250.31 1519.54 1253.17 1520.01 Q1256.04 1520.49 1258.46 1521.45 Z\" fill=\"#000000\" fill-rule=\"evenodd\" fill-opacity=\"1\" /><path clip-path=\"url(#clip460)\" d=\"M 0 0 M70.212 843.954 Q63.7508 843.954 60.0905 846.628 Q56.3984 849.27 56.3984 853.916 Q56.3984 858.563 60.0905 861.237 Q63.7508 863.879 70.212 863.879 Q76.6732 863.879 80.3653 861.237 Q84.0256 858.563 84.0256 853.916 Q84.0256 849.27 80.3653 846.628 Q76.6732 843.954 70.212 843.954 M57.7671 863.879 Q54.5842 862.033 53.0564 859.232 Q51.4968 856.399 51.4968 852.484 Q51.4968 845.991 56.6531 841.949 Q61.8093 837.875 70.212 837.875 Q78.6147 837.875 83.771 841.949 Q88.9272 845.991 88.9272 852.484 Q88.9272 856.399 87.3994 859.232 Q85.8398 862.033 82.657 863.879 L88.0042 863.879 L88.0042 869.767 L38.479 869.767 L38.479 863.879 L57.7671 863.879 Z\" fill=\"#000000\" fill-rule=\"evenodd\" fill-opacity=\"1\" /><path clip-path=\"url(#clip460)\" d=\"M 0 0 M73.9359 832.337 L52.3562 832.337 L52.3562 826.48 L73.7131 826.48 Q78.7739 826.48 81.3202 824.507 Q83.8346 822.534 83.8346 818.587 Q83.8346 813.844 80.8109 811.107 Q77.7872 808.338 72.5673 808.338 L52.3562 808.338 L52.3562 802.482 L88.0042 802.482 L88.0042 808.338 L82.5296 808.338 Q85.7762 810.471 87.3676 813.303 Q88.9272 816.104 88.9272 819.828 Q88.9272 825.971 85.1078 829.154 Q81.2883 832.337 73.9359 832.337 M51.4968 817.6 L51.4968 817.6 Z\" fill=\"#000000\" fill-rule=\"evenodd\" fill-opacity=\"1\" /><path clip-path=\"url(#clip460)\" d=\"M 0 0 M52.3562 796.339 L52.3562 790.482 L88.0042 790.482 L88.0042 796.339 L52.3562 796.339 M38.479 796.339 L38.479 790.482 L45.895 790.482 L45.895 796.339 L38.479 796.339 Z\" fill=\"#000000\" fill-rule=\"evenodd\" fill-opacity=\"1\" /><path clip-path=\"url(#clip460)\" d=\"M 0 0 M38.479 784.339 L38.479 778.483 L88.0042 778.483 L88.0042 784.339 L38.479 784.339 Z\" fill=\"#000000\" fill-rule=\"evenodd\" fill-opacity=\"1\" /><path clip-path=\"url(#clip460)\" d=\"M 0 0 M57.7671 748.882 L38.479 748.882 L38.479 743.026 L88.0042 743.026 L88.0042 748.882 L82.657 748.882 Q85.8398 750.728 87.3994 753.561 Q88.9272 756.362 88.9272 760.309 Q88.9272 766.77 83.771 770.844 Q78.6147 774.886 70.212 774.886 Q61.8093 774.886 56.6531 770.844 Q51.4968 766.77 51.4968 760.309 Q51.4968 756.362 53.0564 753.561 Q54.5842 750.728 57.7671 748.882 M70.212 768.839 Q76.6732 768.839 80.3653 766.197 Q84.0256 763.523 84.0256 758.876 Q84.0256 754.23 80.3653 751.556 Q76.6732 748.882 70.212 748.882 Q63.7508 748.882 60.0905 751.556 Q56.3984 754.23 56.3984 758.876 Q56.3984 763.523 60.0905 766.197 Q63.7508 768.839 70.212 768.839 Z\" fill=\"#000000\" fill-rule=\"evenodd\" fill-opacity=\"1\" /><path clip-path=\"url(#clip460)\" d=\"M 0 0 M68.7161 706.391 L71.5806 706.391 L71.5806 733.318 Q77.6281 732.936 80.8109 729.69 Q83.9619 726.411 83.9619 720.587 Q83.9619 717.213 83.1344 714.062 Q82.3069 710.879 80.6518 707.76 L86.1899 707.76 Q87.5267 710.911 88.227 714.221 Q88.9272 717.531 88.9272 720.937 Q88.9272 729.467 83.9619 734.464 Q78.9967 739.429 70.5303 739.429 Q61.7774 739.429 56.6531 734.719 Q51.4968 729.976 51.4968 721.955 Q51.4968 714.762 56.1438 710.593 Q60.7589 706.391 68.7161 706.391 M66.9973 712.248 Q62.1912 712.311 59.3266 714.953 Q56.4621 717.563 56.4621 721.892 Q56.4621 726.793 59.2312 729.753 Q62.0002 732.682 67.0292 733.127 L66.9973 712.248 Z\" fill=\"#000000\" fill-rule=\"evenodd\" fill-opacity=\"1\" /><path clip-path=\"url(#clip460)\" d=\"M 0 0 M57.8307 679.592 Q57.2578 680.578 57.0032 681.756 Q56.7167 682.902 56.7167 684.302 Q56.7167 689.267 59.9632 691.941 Q63.1779 694.583 69.2253 694.583 L88.0042 694.583 L88.0042 700.471 L52.3562 700.471 L52.3562 694.583 L57.8944 694.583 Q54.6479 692.737 53.0883 689.777 Q51.4968 686.817 51.4968 682.583 Q51.4968 681.979 51.5923 681.247 Q51.656 680.515 51.8151 679.623 L57.8307 679.592 Z\" fill=\"#000000\" fill-rule=\"evenodd\" fill-opacity=\"1\" /><path clip-path=\"url(#clip460)\" d=\"M 0 0 M79.9197 678.605 L79.9197 671.889 L88.0042 671.889 L88.0042 678.605 L79.9197 678.605 Z\" fill=\"#000000\" fill-rule=\"evenodd\" fill-opacity=\"1\" /><path clip-path=\"url(#clip460)\" d=\"M 0 0 M66.4881 636.114 L88.0042 636.114 L88.0042 641.97 L66.679 641.97 Q61.6183 641.97 59.1038 643.944 Q56.5894 645.917 56.5894 649.864 Q56.5894 654.606 59.6131 657.343 Q62.6368 660.081 67.8567 660.081 L88.0042 660.081 L88.0042 665.969 L52.3562 665.969 L52.3562 660.081 L57.8944 660.081 Q54.6797 657.98 53.0883 655.147 Q51.4968 652.283 51.4968 648.559 Q51.4968 642.416 55.3163 639.265 Q59.1038 636.114 66.4881 636.114 Z\" fill=\"#000000\" fill-rule=\"evenodd\" fill-opacity=\"1\" /><path clip-path=\"url(#clip460)\" d=\"M 0 0 M82.5933 628.029 L82.5933 617.526 L46.3406 617.526 L48.6323 628.952 L42.7758 628.952 L40.4842 617.59 L40.4842 611.16 L82.5933 611.16 L82.5933 600.657 L88.0042 600.657 L88.0042 628.029 L82.5933 628.029 Z\" fill=\"#000000\" fill-rule=\"evenodd\" fill-opacity=\"1\" /><circle clip-path=\"url(#clip462)\" cx=\"565.075\" cy=\"721.967\" r=\"32\" fill=\"#ac2f5c\" fill-rule=\"evenodd\" fill-opacity=\"1\" stroke=\"#000000\" stroke-opacity=\"1\" stroke-width=\"3.2\"/>\n",
       "<circle clip-path=\"url(#clip462)\" cx=\"256.524\" cy=\"960.384\" r=\"54\" fill=\"#fac027\" fill-rule=\"evenodd\" fill-opacity=\"1\" stroke=\"#000000\" stroke-opacity=\"1\" stroke-width=\"3.2\"/>\n",
       "<circle clip-path=\"url(#clip462)\" cx=\"256.524\" cy=\"1384.24\" r=\"61\" fill=\"#fcfea4\" fill-rule=\"evenodd\" fill-opacity=\"1\" stroke=\"#000000\" stroke-opacity=\"1\" stroke-width=\"3.2\"/>\n",
       "<circle clip-path=\"url(#clip462)\" cx=\"1457.16\" cy=\"1172.31\" r=\"9\" fill=\"#10092e\" fill-rule=\"evenodd\" fill-opacity=\"1\" stroke=\"#000000\" stroke-opacity=\"1\" stroke-width=\"3.2\"/>\n",
       "<circle clip-path=\"url(#clip462)\" cx=\"1457.16\" cy=\"510.04\" r=\"6\" fill=\"#040314\" fill-rule=\"evenodd\" fill-opacity=\"1\" stroke=\"#000000\" stroke-opacity=\"1\" stroke-width=\"3.2\"/>\n",
       "<circle clip-path=\"url(#clip462)\" cx=\"565.075\" cy=\"1172.31\" r=\"37\" fill=\"#cd4247\" fill-rule=\"evenodd\" fill-opacity=\"1\" stroke=\"#000000\" stroke-opacity=\"1\" stroke-width=\"3.2\"/>\n",
       "<circle clip-path=\"url(#clip462)\" cx=\"2058.69\" cy=\"1172.31\" r=\"4\" fill=\"#000006\" fill-rule=\"evenodd\" fill-opacity=\"1\" stroke=\"#000000\" stroke-opacity=\"1\" stroke-width=\"3.2\"/>\n",
       "<circle clip-path=\"url(#clip462)\" cx=\"256.524\" cy=\"1172.31\" r=\"57\" fill=\"#f2e35a\" fill-rule=\"evenodd\" fill-opacity=\"1\" stroke=\"#000000\" stroke-opacity=\"1\" stroke-width=\"3.2\"/>\n",
       "<circle clip-path=\"url(#clip462)\" cx=\"853.724\" cy=\"721.967\" r=\"17\" fill=\"#410967\" fill-rule=\"evenodd\" fill-opacity=\"1\" stroke=\"#000000\" stroke-opacity=\"1\" stroke-width=\"3.2\"/>\n",
       "<circle clip-path=\"url(#clip462)\" cx=\"1758.2\" cy=\"298.113\" r=\"5\" fill=\"#02020e\" fill-rule=\"evenodd\" fill-opacity=\"1\" stroke=\"#000000\" stroke-opacity=\"1\" stroke-width=\"3.2\"/>\n",
       "<circle clip-path=\"url(#clip462)\" cx=\"853.724\" cy=\"1384.24\" r=\"50\" fill=\"#fb9e07\" fill-rule=\"evenodd\" fill-opacity=\"1\" stroke=\"#000000\" stroke-opacity=\"1\" stroke-width=\"3.2\"/>\n",
       "<circle clip-path=\"url(#clip462)\" cx=\"256.524\" cy=\"510.04\" r=\"47\" fill=\"#f68111\" fill-rule=\"evenodd\" fill-opacity=\"1\" stroke=\"#000000\" stroke-opacity=\"1\" stroke-width=\"3.2\"/>\n",
       "<circle clip-path=\"url(#clip462)\" cx=\"1157.61\" cy=\"721.967\" r=\"9\" fill=\"#110a30\" fill-rule=\"evenodd\" fill-opacity=\"1\" stroke=\"#000000\" stroke-opacity=\"1\" stroke-width=\"3.2\"/>\n",
       "<circle clip-path=\"url(#clip462)\" cx=\"1758.2\" cy=\"1384.24\" r=\"28\" fill=\"#902467\" fill-rule=\"evenodd\" fill-opacity=\"1\" stroke=\"#000000\" stroke-opacity=\"1\" stroke-width=\"3.2\"/>\n",
       "<circle clip-path=\"url(#clip462)\" cx=\"1157.61\" cy=\"1172.31\" r=\"16\" fill=\"#3e0965\" fill-rule=\"evenodd\" fill-opacity=\"1\" stroke=\"#000000\" stroke-opacity=\"1\" stroke-width=\"3.2\"/>\n",
       "<circle clip-path=\"url(#clip462)\" cx=\"853.724\" cy=\"86.1857\" r=\"13\" fill=\"#2a0a56\" fill-rule=\"evenodd\" fill-opacity=\"1\" stroke=\"#000000\" stroke-opacity=\"1\" stroke-width=\"3.2\"/>\n",
       "<circle clip-path=\"url(#clip462)\" cx=\"853.724\" cy=\"298.113\" r=\"14\" fill=\"#300a5c\" fill-rule=\"evenodd\" fill-opacity=\"1\" stroke=\"#000000\" stroke-opacity=\"1\" stroke-width=\"3.2\"/>\n",
       "<circle clip-path=\"url(#clip462)\" cx=\"1157.61\" cy=\"1384.24\" r=\"47\" fill=\"#f68112\" fill-rule=\"evenodd\" fill-opacity=\"1\" stroke=\"#000000\" stroke-opacity=\"1\" stroke-width=\"3.2\"/>\n",
       "<circle clip-path=\"url(#clip462)\" cx=\"2058.69\" cy=\"1384.24\" r=\"11\" fill=\"#1a0b40\" fill-rule=\"evenodd\" fill-opacity=\"1\" stroke=\"#000000\" stroke-opacity=\"1\" stroke-width=\"3.2\"/>\n",
       "<circle clip-path=\"url(#clip462)\" cx=\"2058.69\" cy=\"721.967\" r=\"4\" fill=\"#000005\" fill-rule=\"evenodd\" fill-opacity=\"1\" stroke=\"#000000\" stroke-opacity=\"1\" stroke-width=\"3.2\"/>\n",
       "<circle clip-path=\"url(#clip462)\" cx=\"2058.69\" cy=\"86.1857\" r=\"3\" fill=\"#000004\" fill-rule=\"evenodd\" fill-opacity=\"1\" stroke=\"#000000\" stroke-opacity=\"1\" stroke-width=\"3.2\"/>\n",
       "<circle clip-path=\"url(#clip462)\" cx=\"1457.16\" cy=\"1384.24\" r=\"42\" fill=\"#e55c2f\" fill-rule=\"evenodd\" fill-opacity=\"1\" stroke=\"#000000\" stroke-opacity=\"1\" stroke-width=\"3.2\"/>\n",
       "<circle clip-path=\"url(#clip462)\" cx=\"1457.16\" cy=\"298.113\" r=\"5\" fill=\"#02020f\" fill-rule=\"evenodd\" fill-opacity=\"1\" stroke=\"#000000\" stroke-opacity=\"1\" stroke-width=\"3.2\"/>\n",
       "<circle clip-path=\"url(#clip462)\" cx=\"1758.2\" cy=\"960.384\" r=\"4\" fill=\"#01010b\" fill-rule=\"evenodd\" fill-opacity=\"1\" stroke=\"#000000\" stroke-opacity=\"1\" stroke-width=\"3.2\"/>\n",
       "<circle clip-path=\"url(#clip462)\" cx=\"1457.16\" cy=\"86.1857\" r=\"5\" fill=\"#02010d\" fill-rule=\"evenodd\" fill-opacity=\"1\" stroke=\"#000000\" stroke-opacity=\"1\" stroke-width=\"3.2\"/>\n",
       "<circle clip-path=\"url(#clip462)\" cx=\"853.724\" cy=\"1172.31\" r=\"28\" fill=\"#8f2468\" fill-rule=\"evenodd\" fill-opacity=\"1\" stroke=\"#000000\" stroke-opacity=\"1\" stroke-width=\"3.2\"/>\n",
       "<circle clip-path=\"url(#clip462)\" cx=\"2058.69\" cy=\"298.113\" r=\"3\" fill=\"#000003\" fill-rule=\"evenodd\" fill-opacity=\"1\" stroke=\"#000000\" stroke-opacity=\"1\" stroke-width=\"3.2\"/>\n",
       "<circle clip-path=\"url(#clip462)\" cx=\"1157.61\" cy=\"298.113\" r=\"8\" fill=\"#0b0726\" fill-rule=\"evenodd\" fill-opacity=\"1\" stroke=\"#000000\" stroke-opacity=\"1\" stroke-width=\"3.2\"/>\n",
       "<circle clip-path=\"url(#clip462)\" cx=\"853.724\" cy=\"960.384\" r=\"21\" fill=\"#60136e\" fill-rule=\"evenodd\" fill-opacity=\"1\" stroke=\"#000000\" stroke-opacity=\"1\" stroke-width=\"3.2\"/>\n",
       "<circle clip-path=\"url(#clip462)\" cx=\"565.075\" cy=\"960.384\" r=\"35\" fill=\"#bf3951\" fill-rule=\"evenodd\" fill-opacity=\"1\" stroke=\"#000000\" stroke-opacity=\"1\" stroke-width=\"3.2\"/>\n",
       "<circle clip-path=\"url(#clip462)\" cx=\"1157.61\" cy=\"510.04\" r=\"8\" fill=\"#0e082a\" fill-rule=\"evenodd\" fill-opacity=\"1\" stroke=\"#000000\" stroke-opacity=\"1\" stroke-width=\"3.2\"/>\n",
       "<circle clip-path=\"url(#clip462)\" cx=\"565.075\" cy=\"298.113\" r=\"22\" fill=\"#68166e\" fill-rule=\"evenodd\" fill-opacity=\"1\" stroke=\"#000000\" stroke-opacity=\"1\" stroke-width=\"3.2\"/>\n",
       "<circle clip-path=\"url(#clip462)\" cx=\"1758.2\" cy=\"510.04\" r=\"5\" fill=\"#030211\" fill-rule=\"evenodd\" fill-opacity=\"1\" stroke=\"#000000\" stroke-opacity=\"1\" stroke-width=\"3.2\"/>\n",
       "<circle clip-path=\"url(#clip462)\" cx=\"256.524\" cy=\"721.967\" r=\"43\" fill=\"#eb6527\" fill-rule=\"evenodd\" fill-opacity=\"1\" stroke=\"#000000\" stroke-opacity=\"1\" stroke-width=\"3.2\"/>\n",
       "<circle clip-path=\"url(#clip462)\" cx=\"565.075\" cy=\"86.1857\" r=\"23\" fill=\"#6a176e\" fill-rule=\"evenodd\" fill-opacity=\"1\" stroke=\"#000000\" stroke-opacity=\"1\" stroke-width=\"3.2\"/>\n",
       "<circle clip-path=\"url(#clip462)\" cx=\"1457.16\" cy=\"960.384\" r=\"6\" fill=\"#050317\" fill-rule=\"evenodd\" fill-opacity=\"1\" stroke=\"#000000\" stroke-opacity=\"1\" stroke-width=\"3.2\"/>\n",
       "<circle clip-path=\"url(#clip462)\" cx=\"565.075\" cy=\"1384.24\" r=\"49\" fill=\"#fa9406\" fill-rule=\"evenodd\" fill-opacity=\"1\" stroke=\"#000000\" stroke-opacity=\"1\" stroke-width=\"3.2\"/>\n",
       "<circle clip-path=\"url(#clip462)\" cx=\"1157.61\" cy=\"960.384\" r=\"12\" fill=\"#250b50\" fill-rule=\"evenodd\" fill-opacity=\"1\" stroke=\"#000000\" stroke-opacity=\"1\" stroke-width=\"3.2\"/>\n",
       "<circle clip-path=\"url(#clip462)\" cx=\"1457.16\" cy=\"721.967\" r=\"5\" fill=\"#030211\" fill-rule=\"evenodd\" fill-opacity=\"1\" stroke=\"#000000\" stroke-opacity=\"1\" stroke-width=\"3.2\"/>\n",
       "<circle clip-path=\"url(#clip462)\" cx=\"1758.2\" cy=\"721.967\" r=\"5\" fill=\"#02010d\" fill-rule=\"evenodd\" fill-opacity=\"1\" stroke=\"#000000\" stroke-opacity=\"1\" stroke-width=\"3.2\"/>\n",
       "<circle clip-path=\"url(#clip462)\" cx=\"853.724\" cy=\"510.04\" r=\"15\" fill=\"#360961\" fill-rule=\"evenodd\" fill-opacity=\"1\" stroke=\"#000000\" stroke-opacity=\"1\" stroke-width=\"3.2\"/>\n",
       "<circle clip-path=\"url(#clip462)\" cx=\"1758.2\" cy=\"1172.31\" r=\"5\" fill=\"#02020e\" fill-rule=\"evenodd\" fill-opacity=\"1\" stroke=\"#000000\" stroke-opacity=\"1\" stroke-width=\"3.2\"/>\n",
       "<circle clip-path=\"url(#clip462)\" cx=\"2058.69\" cy=\"510.04\" r=\"3\" fill=\"#000004\" fill-rule=\"evenodd\" fill-opacity=\"1\" stroke=\"#000000\" stroke-opacity=\"1\" stroke-width=\"3.2\"/>\n",
       "<circle clip-path=\"url(#clip462)\" cx=\"1157.61\" cy=\"86.1857\" r=\"7\" fill=\"#0a0723\" fill-rule=\"evenodd\" fill-opacity=\"1\" stroke=\"#000000\" stroke-opacity=\"1\" stroke-width=\"3.2\"/>\n",
       "<circle clip-path=\"url(#clip462)\" cx=\"256.524\" cy=\"86.1857\" r=\"33\" fill=\"#af315b\" fill-rule=\"evenodd\" fill-opacity=\"1\" stroke=\"#000000\" stroke-opacity=\"1\" stroke-width=\"3.2\"/>\n",
       "<circle clip-path=\"url(#clip462)\" cx=\"1758.2\" cy=\"86.1857\" r=\"4\" fill=\"#01010a\" fill-rule=\"evenodd\" fill-opacity=\"1\" stroke=\"#000000\" stroke-opacity=\"1\" stroke-width=\"3.2\"/>\n",
       "<circle clip-path=\"url(#clip462)\" cx=\"256.524\" cy=\"298.113\" r=\"34\" fill=\"#b53357\" fill-rule=\"evenodd\" fill-opacity=\"1\" stroke=\"#000000\" stroke-opacity=\"1\" stroke-width=\"3.2\"/>\n",
       "<circle clip-path=\"url(#clip462)\" cx=\"565.075\" cy=\"510.04\" r=\"28\" fill=\"#8c2369\" fill-rule=\"evenodd\" fill-opacity=\"1\" stroke=\"#000000\" stroke-opacity=\"1\" stroke-width=\"3.2\"/>\n",
       "<circle clip-path=\"url(#clip462)\" cx=\"2058.69\" cy=\"960.384\" r=\"3\" fill=\"#000004\" fill-rule=\"evenodd\" fill-opacity=\"1\" stroke=\"#000000\" stroke-opacity=\"1\" stroke-width=\"3.2\"/>\n",
       "<defs>\n",
       "  <clipPath id=\"clip463\">\n",
       "    <rect x=\"2160\" y=\"47\" width=\"73\" height=\"1377\"/>\n",
       "  </clipPath>\n",
       "</defs>\n",
       "<g clip-path=\"url(#clip463)\">\n",
       "<image width=\"72\" height=\"1376\" xlink:href=\"data:image/png;base64,\n",
       "iVBORw0KGgoAAAANSUhEUgAAAEgAAAVgCAYAAADsKhu7AAAL6UlEQVR4nO3dwZEjNxBFQVBR/lsh\n",
       "L6UFZIHqHclDpgUTL35wCXTP7Off+/c7/K+/vv0D/DqBgkBBoCBQmPv+/fbP8NMsKAgUBAoChXnv\n",
       "z7d/hp9mQUGgIFAQKAgUHDWCBQWBgkBBoDDPh/TKgoJAQaAgUJh3fUhvLCgIFAQKAgWBgqNGsKAg\n",
       "UBAoCBR8SAcLCgIFgYJAwX1QsKAgUBAoCBQECnMcNVYWFAQKAgWBgvugYEFBoCBQECgIFOa4MFtZ\n",
       "UBAoCBQECnPuP9/+GX6aBQWBgkBBoODSPlhQECgIFAQKAgX3QcGCgkBBoCBQ8CEdLCgIFAQKAgX3\n",
       "QcGCgkBBoCBQECjMx1FjZUFBoCBQECjMuf5XhI0FBYGCQEGgIFBw1AgWFAQKAgWBgqNGsKAgUBAo\n",
       "CBS8HxQsKAgUBAoCBYHCfBw1VhYUBAoCBYGCt1yDBQWBgkBBoOCbdLCgIFAQKAgUBAoePQcLCgIF\n",
       "gYJAwVEjWFAQKAgUBAoCBUeNYEFBoCBQECg4agQLCgIFgYJAYc693/4ZfpoFBYGCQEGgIFBw1AgW\n",
       "FAQKAgWBgkv7YEFBoCBQECj4kA4WFAQKAgWBgkBhPp5qrCwoCBQECgIFR41gQUGgIFAQKAgUvEAV\n",
       "LCgIFAQKAgX3QcGCgkBBoCBQcB8ULCgIFAQKAgWBgvugYEFBoCBQECj4kA4WFAQKAgWBgl/qDRYU\n",
       "BAoCBYGCQMFRI1hQECgIFAQKPqSDBQWBgkBBoCBQ8K9YsKAgUBAoCBR8SAcLCgIFgYJAYc7zIb2x\n",
       "oCBQECgIFAQKjhrBgoJAQaAgUPAhHSwoCBQECgIFH9LBgoJAQaAgUBAozLnv2z/DT7OgIFAQKAgU\n",
       "HDWCBQWBgkBBoCBQcNQIFhQECgIFgYKjRrCgIFAQKAgUfJMOFhQECgIFgYJAYY6TxsqCgkBBoCBQ\n",
       "mPMcNTYWFAQKAgWBgm/SwYKCQEGgIFAQKPhXLFhQECgIFAQK44/g7SwoCBQECgIFgYKjRrCgIFAQ\n",
       "KAgUfEgHCwoCBYGCQGHO/Xz7Z/hpFhQECgIFgYJAYd7zr9jGgoJAQaAgUHAfFCwoCBQECgIF90HB\n",
       "goJAQaAgUBAozLsabdQJAgWBgkDBUSNYUBAoCBQECgKFOR49rywoCBQECgKFeY4aKwsKAgWBgkBh\n",
       "jkv7lTpBoCBQECgIFBw1ggUFgYJAQaDg0j5YUBAoCBQECl7iDOoEgYJAQaAgUPCWa7CgIFAQKAgU\n",
       "XNoHCwoCBYGCQEGgMO9ptFEnCBQECgIF90HBgoJAQaAgUHAfFCwoCBQECgIFgcIc90ErdYJAQaAg\n",
       "UHDUCBYUBAoCBYGCD+lgQUGgIFAQKAgU/NZzsKAgUBAoCBT81nNQJwgUBAoCBYHCPEeNlQUFgYJA\n",
       "QaDgqUawoCBQECgIFPyvCEGdIFAQKAgUBArug4IFBYGCQEGg4D4oWFAQKAgUBAq+SQcLCgIFgYJA\n",
       "QaDgLdegThAoCBQECo4awYKCQEGgIFAQKHiqESwoCBQECgIFR41gQUGgIFAQKPiva4IFBYGCQEGg\n",
       "IFDwv2QGdYJAQaAgUHAfFCwoCBQECgIFT1aDBQWBgkBBoCBQcNQIFhQECgIFgcJcH9IrCwoCBYGC\n",
       "QEGg4LeegzpBoCBQECi4DwoWFAQKAgWBgg/pYEFBoCBQECgIFLxAFSwoCBQECgIFR41gQUGgIFAQ\n",
       "KPiQDhYUBAoCBYGCQMGfpgjqBIGCQEGgMNel/cqCgkBBoCBQECi4MAsWFAQKAgWBgg/pYEFBoCBQ\n",
       "ECj4kA4WFAQKAgWBgkDBH1gKFhQECgIFgYKjRrCgIFAQKAgUfEgHCwoCBYGCQEGg4FcRgjpBoCBQ\n",
       "ECj4VYRgQUGgIFAQKAgUXJgFCwoCBYGCQMGHdLCgIFAQKAgUvMQZLCgIFAQKAgWBgqNGsKAgUBAo\n",
       "CBTmHR/SGwsKAgWBgkDBfVCwoCBQECgIFAQK7oOCBQWBgkBBoOCoESwoCBQECgIFgYKjRrCgIFAQ\n",
       "KAgUHDWCBQWBgkBBoOCbdLCgIFAQKAgUBAr+FQsWFAQKAgWBwly/irCyoCBQECgIFHyTDhYUBAoC\n",
       "BYGCQMGj52BBQaAgUBAozHvf/hF+mwUFgYJAQaAgUHDUCBYUBAoCBYGCv4IXLCgIFAQKAgXfpIMF\n",
       "BYGCQEGgIFDwAlWwoCBQECgIFPwqQrCgIFAQKAgUvB8ULCgIFAQKAgWBgqcawYKCQEGgIFBwaR8s\n",
       "KAgUBAoCBYGCpxrBgoJAQaAgUHAfFCwoCBQECgIFj56DBQWBgkBBoCBQcB8ULCgIFAQKAgWPnoMF\n",
       "BYGCQEGgMPfbP8GPs6AgUBAoCBQECo4awYKCQEGgIFDwflCwoCBQECgIFAQKLsyCBQWBgkBBoOA+\n",
       "KFhQECgIFAQKvkkHCwoCBYGCQEGg4KgRLCgIFAQKAgWPnoMFBYGCQEGgMP4yxc6CgkBBoCBQECg4\n",
       "agQLCgIFgYJAwaPnYEFBoCBQECgIFDx6DhYUBAoCBYGCo0awoCBQECgIFHyTDhYUBAoCBYGCQGGu\n",
       "N6hWFhQECgIFgYL7oGBBQaAgUBAouA8KFhQECgIFgYJAwVEjWFAQKAgUBArzXNqvLCgIFAQKAgWB\n",
       "wtzjwmxjQUGgIFAQKHg/KFhQECgIFAQK/gpesKAgUBAoCBQECv4KXrCgIFAQKAgUPHoOFhQECgIF\n",
       "gYKXOIMFBYGCQEGgIFDwC3XBgoJAQaAgUHDUCBYUBAoCBYGCQMFbrsGCgkBBoCBQ8JZrsKAgUBAo\n",
       "CBR8kw4WFAQKAgWBgkDBW67BgoJAQaAgUPD3g4IFBYGCQEGg4D4oWFAQKAgUBAoCBY+egwUFgYJA\n",
       "QaDgqBEsKAgUBAoCBYGCo0awoCBQECgIFBw1ggUFgYJAQaDgQzpYUBAoCBQECgIF90HBgoJAQaAg\n",
       "UHDUCBYUBAoCBYGCb9LBgoJAQaAgUBAoOGoECwoCBYGCQMHfDwoWFAQKAgWBgkDB/+0TLCgIFAQK\n",
       "AgX3QcGCgkBBoCBQmHd8Sm8sKAgUBAoCBYGCo0awoCBQECgIFDx6DhYUBAoCBYGCJ6vBgoJAQaAg\n",
       "UBAouA8KFhQECgIFgYJHz8GCgkBBoCBQECg4agQLCgIFgYJAwR9YChYUBAoCBYHCXC8IrSwoCBQE\n",
       "CgIFgYIXqIIFBYGCQEGgMM9RY2VBQaAgUBAo+CYdLCgIFAQKAgWBgqcawYKCQEGgIFDwflCwoCBQ\n",
       "ECgIFAQKc/1C3cqCgkBBoCBQcB8ULCgIFAQKAgV/miJYUBAoCBQECgIFL1AFCwoCBYGCQMGlfbCg\n",
       "IFAQKAgU3AcFCwoCBYGCQEGgMPe4EdpYUBAoCBQECu6DggUFgYJAQaAgUPCvWLCgIFAQKAgUPNUI\n",
       "FhQECgIFgYJL+2BBQaAgUBAoCBTmfhw1NhYUBAoCBYGCo0awoCBQECgIFOb5kF5ZUBAoCBQECgIF\n",
       "R41gQUGgIFAQKMz9+JDeWFAQKAgUBAoCBUeNYEFBoCBQECh4qhEsKAgUBAoCBd+kgwUFgYJAQaAg\n",
       "UPCvWLCgIFAQKAgUPHoOFhQECgIFgcK88+fbP8NPs6AgUBAoCBQECu6DggUFgYJAQaDg/aBgQUGg\n",
       "IFAQKAgU5j4XZhsLCgIFgYJAwVEjWFAQKAgUBApzPXpeWVAQKAgUBAoCBUeNYEFBoCBQECg4agQL\n",
       "CgIFgYJAYd7zTXpjQUGgIFAQKAgU3AcFCwoCBYGCQMFLnMGCgkBBoCBQECg4agQLCgIFgYJAYZ6j\n",
       "xsqCgkBBoCBQ8E06WFAQKAgUBAoChbleoFpZUBAoCBQECv7gdrCgIFAQKAgU/CpCsKAgUBAoCBQE\n",
       "Cp5qBAsKAgWBgkDBUSNYUBAoCBQECgIF/4oFCwoCBYGCQMGj52BBQaAgUBAo+CYdLCgIFAQKAgWB\n",
       "whyPnlcWFAQKAgWBgqNGsKAgUBAoCBS8xBksKAgUBAoCBYHCHEeNlQUFgYJAQaDg/aBgQUGgIFAQ\n",
       "KAgUPHoOFhQECgIFgYL7oGBBQaAgUBAozDvv2z/DT7OgIFAQKAgUBArug4IFBYGCQEGgMMdRY2VB\n",
       "QaAgUBAo/AdhU+3PqlcPeQAAAABJRU5ErkJggg==\n",
       "\" transform=\"translate(2161, 47)\"/>\n",
       "</g>\n",
       "<path clip-path=\"url(#clip460)\" d=\"M 0 0 M2280.7 1323.26 Q2277.09 1323.26 2275.26 1326.82 Q2273.45 1330.37 2273.45 1337.5 Q2273.45 1344.6 2275.26 1348.17 Q2277.09 1351.71 2280.7 1351.71 Q2284.33 1351.71 2286.14 1348.17 Q2287.97 1344.6 2287.97 1337.5 Q2287.97 1330.37 2286.14 1326.82 Q2284.33 1323.26 2280.7 1323.26 M2280.7 1319.56 Q2286.51 1319.56 2289.57 1324.16 Q2292.64 1328.75 2292.64 1337.5 Q2292.64 1346.22 2289.57 1350.83 Q2286.51 1355.41 2280.7 1355.41 Q2274.89 1355.41 2271.81 1350.83 Q2268.76 1346.22 2268.76 1337.5 Q2268.76 1328.75 2271.81 1324.16 Q2274.89 1319.56 2280.7 1319.56 Z\" fill=\"#000000\" fill-rule=\"evenodd\" fill-opacity=\"1\" /><path clip-path=\"url(#clip460)\" d=\"M 0 0 M2297.71 1348.86 L2302.6 1348.86 L2302.6 1354.74 L2297.71 1354.74 L2297.71 1348.86 Z\" fill=\"#000000\" fill-rule=\"evenodd\" fill-opacity=\"1\" /><path clip-path=\"url(#clip460)\" d=\"M 0 0 M2321.83 1336.11 Q2325.19 1336.82 2327.07 1339.09 Q2328.96 1341.36 2328.96 1344.69 Q2328.96 1349.81 2325.45 1352.61 Q2321.93 1355.41 2315.45 1355.41 Q2313.27 1355.41 2310.95 1354.97 Q2308.66 1354.56 2306.21 1353.7 L2306.21 1349.19 Q2308.15 1350.32 2310.47 1350.9 Q2312.78 1351.48 2315.31 1351.48 Q2319.7 1351.48 2322 1349.74 Q2324.31 1348 2324.31 1344.69 Q2324.31 1341.64 2322.16 1339.93 Q2320.03 1338.19 2316.21 1338.19 L2312.18 1338.19 L2312.18 1334.35 L2316.39 1334.35 Q2319.84 1334.35 2321.67 1332.98 Q2323.5 1331.59 2323.5 1329 Q2323.5 1326.34 2321.6 1324.93 Q2319.73 1323.49 2316.21 1323.49 Q2314.29 1323.49 2312.09 1323.91 Q2309.89 1324.32 2307.25 1325.2 L2307.25 1321.04 Q2309.91 1320.3 2312.23 1319.93 Q2314.57 1319.56 2316.63 1319.56 Q2321.95 1319.56 2325.05 1321.99 Q2328.15 1324.39 2328.15 1328.51 Q2328.15 1331.38 2326.51 1333.38 Q2324.87 1335.34 2321.83 1336.11 Z\" fill=\"#000000\" fill-rule=\"evenodd\" fill-opacity=\"1\" /><path clip-path=\"url(#clip460)\" d=\"M 0 0 M2334.08 1320.18 L2352.44 1320.18 L2352.44 1324.12 L2338.36 1324.12 L2338.36 1332.59 Q2339.38 1332.24 2340.4 1332.08 Q2341.42 1331.89 2342.44 1331.89 Q2348.22 1331.89 2351.6 1335.07 Q2354.98 1338.24 2354.98 1343.65 Q2354.98 1349.23 2351.51 1352.33 Q2348.04 1355.41 2341.72 1355.41 Q2339.54 1355.41 2337.27 1355.04 Q2335.03 1354.67 2332.62 1353.93 L2332.62 1349.23 Q2334.7 1350.37 2336.93 1350.92 Q2339.15 1351.48 2341.63 1351.48 Q2345.63 1351.48 2347.97 1349.37 Q2350.31 1347.26 2350.31 1343.65 Q2350.31 1340.04 2347.97 1337.94 Q2345.63 1335.83 2341.63 1335.83 Q2339.75 1335.83 2337.88 1336.25 Q2336.02 1336.66 2334.08 1337.54 L2334.08 1320.18 Z\" fill=\"#000000\" fill-rule=\"evenodd\" fill-opacity=\"1\" /><path clip-path=\"url(#clip460)\" d=\"M 0 0 M2280.7 1138.25 Q2277.09 1138.25 2275.26 1141.81 Q2273.45 1145.36 2273.45 1152.48 Q2273.45 1159.59 2275.26 1163.16 Q2277.09 1166.7 2280.7 1166.7 Q2284.33 1166.7 2286.14 1163.16 Q2287.97 1159.59 2287.97 1152.48 Q2287.97 1145.36 2286.14 1141.81 Q2284.33 1138.25 2280.7 1138.25 M2280.7 1134.54 Q2286.51 1134.54 2289.57 1139.15 Q2292.64 1143.73 2292.64 1152.48 Q2292.64 1161.21 2289.57 1165.82 Q2286.51 1170.4 2280.7 1170.4 Q2274.89 1170.4 2271.81 1165.82 Q2268.76 1161.21 2268.76 1152.48 Q2268.76 1143.73 2271.81 1139.15 Q2274.89 1134.54 2280.7 1134.54 Z\" fill=\"#000000\" fill-rule=\"evenodd\" fill-opacity=\"1\" /><path clip-path=\"url(#clip460)\" d=\"M 0 0 M2297.71 1163.85 L2302.6 1163.85 L2302.6 1169.73 L2297.71 1169.73 L2297.71 1163.85 Z\" fill=\"#000000\" fill-rule=\"evenodd\" fill-opacity=\"1\" /><path clip-path=\"url(#clip460)\" d=\"M 0 0 M2320.51 1139.24 L2308.71 1157.69 L2320.51 1157.69 L2320.51 1139.24 M2319.29 1135.17 L2325.17 1135.17 L2325.17 1157.69 L2330.1 1157.69 L2330.1 1161.58 L2325.17 1161.58 L2325.17 1169.73 L2320.51 1169.73 L2320.51 1161.58 L2304.91 1161.58 L2304.91 1157.07 L2319.29 1135.17 Z\" fill=\"#000000\" fill-rule=\"evenodd\" fill-opacity=\"1\" /><path clip-path=\"url(#clip460)\" d=\"M 0 0 M2345.17 1138.25 Q2341.56 1138.25 2339.73 1141.81 Q2337.92 1145.36 2337.92 1152.48 Q2337.92 1159.59 2339.73 1163.16 Q2341.56 1166.7 2345.17 1166.7 Q2348.8 1166.7 2350.61 1163.16 Q2352.44 1159.59 2352.44 1152.48 Q2352.44 1145.36 2350.61 1141.81 Q2348.8 1138.25 2345.17 1138.25 M2345.17 1134.54 Q2350.98 1134.54 2354.03 1139.15 Q2357.11 1143.73 2357.11 1152.48 Q2357.11 1161.21 2354.03 1165.82 Q2350.98 1170.4 2345.17 1170.4 Q2339.36 1170.4 2336.28 1165.82 Q2333.22 1161.21 2333.22 1152.48 Q2333.22 1143.73 2336.28 1139.15 Q2339.36 1134.54 2345.17 1134.54 Z\" fill=\"#000000\" fill-rule=\"evenodd\" fill-opacity=\"1\" /><path clip-path=\"url(#clip460)\" d=\"M 0 0 M2280.7 953.238 Q2277.09 953.238 2275.26 956.802 Q2273.45 960.344 2273.45 967.474 Q2273.45 974.58 2275.26 978.145 Q2277.09 981.686 2280.7 981.686 Q2284.33 981.686 2286.14 978.145 Q2287.97 974.58 2287.97 967.474 Q2287.97 960.344 2286.14 956.802 Q2284.33 953.238 2280.7 953.238 M2280.7 949.534 Q2286.51 949.534 2289.57 954.14 Q2292.64 958.724 2292.64 967.474 Q2292.64 976.2 2289.57 980.807 Q2286.51 985.39 2280.7 985.39 Q2274.89 985.39 2271.81 980.807 Q2268.76 976.2 2268.76 967.474 Q2268.76 958.724 2271.81 954.14 Q2274.89 949.534 2280.7 949.534 Z\" fill=\"#000000\" fill-rule=\"evenodd\" fill-opacity=\"1\" /><path clip-path=\"url(#clip460)\" d=\"M 0 0 M2297.71 978.839 L2302.6 978.839 L2302.6 984.719 L2297.71 984.719 L2297.71 978.839 Z\" fill=\"#000000\" fill-rule=\"evenodd\" fill-opacity=\"1\" /><path clip-path=\"url(#clip460)\" d=\"M 0 0 M2320.51 954.233 L2308.71 972.682 L2320.51 972.682 L2320.51 954.233 M2319.29 950.159 L2325.17 950.159 L2325.17 972.682 L2330.1 972.682 L2330.1 976.571 L2325.17 976.571 L2325.17 984.719 L2320.51 984.719 L2320.51 976.571 L2304.91 976.571 L2304.91 972.057 L2319.29 950.159 Z\" fill=\"#000000\" fill-rule=\"evenodd\" fill-opacity=\"1\" /><path clip-path=\"url(#clip460)\" d=\"M 0 0 M2335.21 950.159 L2353.57 950.159 L2353.57 954.094 L2339.5 954.094 L2339.5 962.566 Q2340.51 962.219 2341.53 962.057 Q2342.55 961.872 2343.57 961.872 Q2349.36 961.872 2352.74 965.043 Q2356.12 968.214 2356.12 973.631 Q2356.12 979.21 2352.64 982.311 Q2349.17 985.39 2342.85 985.39 Q2340.68 985.39 2338.41 985.02 Q2336.16 984.649 2333.76 983.909 L2333.76 979.21 Q2335.84 980.344 2338.06 980.899 Q2340.28 981.455 2342.76 981.455 Q2346.76 981.455 2349.1 979.348 Q2351.44 977.242 2351.44 973.631 Q2351.44 970.02 2349.1 967.913 Q2346.76 965.807 2342.76 965.807 Q2340.89 965.807 2339.01 966.224 Q2337.16 966.64 2335.21 967.52 L2335.21 950.159 Z\" fill=\"#000000\" fill-rule=\"evenodd\" fill-opacity=\"1\" /><path clip-path=\"url(#clip460)\" d=\"M 0 0 M2280.7 768.226 Q2277.09 768.226 2275.26 771.791 Q2273.45 775.333 2273.45 782.462 Q2273.45 789.569 2275.26 793.134 Q2277.09 796.675 2280.7 796.675 Q2284.33 796.675 2286.14 793.134 Q2287.97 789.569 2287.97 782.462 Q2287.97 775.333 2286.14 771.791 Q2284.33 768.226 2280.7 768.226 M2280.7 764.523 Q2286.51 764.523 2289.57 769.129 Q2292.64 773.712 2292.64 782.462 Q2292.64 791.189 2289.57 795.796 Q2286.51 800.379 2280.7 800.379 Q2274.89 800.379 2271.81 795.796 Q2268.76 791.189 2268.76 782.462 Q2268.76 773.712 2271.81 769.129 Q2274.89 764.523 2280.7 764.523 Z\" fill=\"#000000\" fill-rule=\"evenodd\" fill-opacity=\"1\" /><path clip-path=\"url(#clip460)\" d=\"M 0 0 M2297.71 793.828 L2302.6 793.828 L2302.6 799.708 L2297.71 799.708 L2297.71 793.828 Z\" fill=\"#000000\" fill-rule=\"evenodd\" fill-opacity=\"1\" /><path clip-path=\"url(#clip460)\" d=\"M 0 0 M2307.71 765.148 L2326.07 765.148 L2326.07 769.083 L2312 769.083 L2312 777.555 Q2313.01 777.208 2314.03 777.046 Q2315.05 776.861 2316.07 776.861 Q2321.86 776.861 2325.24 780.032 Q2328.62 783.203 2328.62 788.62 Q2328.62 794.198 2325.14 797.3 Q2321.67 800.379 2315.35 800.379 Q2313.18 800.379 2310.91 800.009 Q2308.66 799.638 2306.26 798.898 L2306.26 794.198 Q2308.34 795.333 2310.56 795.888 Q2312.78 796.444 2315.26 796.444 Q2319.26 796.444 2321.6 794.337 Q2323.94 792.231 2323.94 788.62 Q2323.94 785.009 2321.6 782.902 Q2319.26 780.796 2315.26 780.796 Q2313.39 780.796 2311.51 781.212 Q2309.66 781.629 2307.71 782.509 L2307.71 765.148 Z\" fill=\"#000000\" fill-rule=\"evenodd\" fill-opacity=\"1\" /><path clip-path=\"url(#clip460)\" d=\"M 0 0 M2343.69 768.226 Q2340.07 768.226 2338.25 771.791 Q2336.44 775.333 2336.44 782.462 Q2336.44 789.569 2338.25 793.134 Q2340.07 796.675 2343.69 796.675 Q2347.32 796.675 2349.13 793.134 Q2350.95 789.569 2350.95 782.462 Q2350.95 775.333 2349.13 771.791 Q2347.32 768.226 2343.69 768.226 M2343.69 764.523 Q2349.5 764.523 2352.55 769.129 Q2355.63 773.712 2355.63 782.462 Q2355.63 791.189 2352.55 795.796 Q2349.5 800.379 2343.69 800.379 Q2337.88 800.379 2334.8 795.796 Q2331.74 791.189 2331.74 782.462 Q2331.74 773.712 2334.8 769.129 Q2337.88 764.523 2343.69 764.523 Z\" fill=\"#000000\" fill-rule=\"evenodd\" fill-opacity=\"1\" /><path clip-path=\"url(#clip460)\" d=\"M 0 0 M2280.7 583.215 Q2277.09 583.215 2275.26 586.78 Q2273.45 590.322 2273.45 597.451 Q2273.45 604.558 2275.26 608.123 Q2277.09 611.664 2280.7 611.664 Q2284.33 611.664 2286.14 608.123 Q2287.97 604.558 2287.97 597.451 Q2287.97 590.322 2286.14 586.78 Q2284.33 583.215 2280.7 583.215 M2280.7 579.512 Q2286.51 579.512 2289.57 584.118 Q2292.64 588.701 2292.64 597.451 Q2292.64 606.178 2289.57 610.785 Q2286.51 615.368 2280.7 615.368 Q2274.89 615.368 2271.81 610.785 Q2268.76 606.178 2268.76 597.451 Q2268.76 588.701 2271.81 584.118 Q2274.89 579.512 2280.7 579.512 Z\" fill=\"#000000\" fill-rule=\"evenodd\" fill-opacity=\"1\" /><path clip-path=\"url(#clip460)\" d=\"M 0 0 M2297.71 608.817 L2302.6 608.817 L2302.6 614.697 L2297.71 614.697 L2297.71 608.817 Z\" fill=\"#000000\" fill-rule=\"evenodd\" fill-opacity=\"1\" /><path clip-path=\"url(#clip460)\" d=\"M 0 0 M2307.71 580.137 L2326.07 580.137 L2326.07 584.072 L2312 584.072 L2312 592.544 Q2313.01 592.197 2314.03 592.035 Q2315.05 591.849 2316.07 591.849 Q2321.86 591.849 2325.24 595.021 Q2328.62 598.192 2328.62 603.609 Q2328.62 609.187 2325.14 612.289 Q2321.67 615.368 2315.35 615.368 Q2313.18 615.368 2310.91 614.998 Q2308.66 614.627 2306.26 613.886 L2306.26 609.187 Q2308.34 610.322 2310.56 610.877 Q2312.78 611.433 2315.26 611.433 Q2319.26 611.433 2321.6 609.326 Q2323.94 607.22 2323.94 603.609 Q2323.94 599.998 2321.6 597.891 Q2319.26 595.785 2315.26 595.785 Q2313.39 595.785 2311.51 596.201 Q2309.66 596.618 2307.71 597.498 L2307.71 580.137 Z\" fill=\"#000000\" fill-rule=\"evenodd\" fill-opacity=\"1\" /><path clip-path=\"url(#clip460)\" d=\"M 0 0 M2333.73 580.137 L2352.09 580.137 L2352.09 584.072 L2338.01 584.072 L2338.01 592.544 Q2339.03 592.197 2340.05 592.035 Q2341.07 591.849 2342.09 591.849 Q2347.88 591.849 2351.26 595.021 Q2354.64 598.192 2354.64 603.609 Q2354.64 609.187 2351.16 612.289 Q2347.69 615.368 2341.37 615.368 Q2339.2 615.368 2336.93 614.998 Q2334.68 614.627 2332.27 613.886 L2332.27 609.187 Q2334.36 610.322 2336.58 610.877 Q2338.8 611.433 2341.28 611.433 Q2345.28 611.433 2347.62 609.326 Q2349.96 607.22 2349.96 603.609 Q2349.96 599.998 2347.62 597.891 Q2345.28 595.785 2341.28 595.785 Q2339.4 595.785 2337.53 596.201 Q2335.68 596.618 2333.73 597.498 L2333.73 580.137 Z\" fill=\"#000000\" fill-rule=\"evenodd\" fill-opacity=\"1\" /><path clip-path=\"url(#clip460)\" d=\"M 0 0 M2280.7 398.204 Q2277.09 398.204 2275.26 401.769 Q2273.45 405.311 2273.45 412.44 Q2273.45 419.547 2275.26 423.111 Q2277.09 426.653 2280.7 426.653 Q2284.33 426.653 2286.14 423.111 Q2287.97 419.547 2287.97 412.44 Q2287.97 405.311 2286.14 401.769 Q2284.33 398.204 2280.7 398.204 M2280.7 394.5 Q2286.51 394.5 2289.57 399.107 Q2292.64 403.69 2292.64 412.44 Q2292.64 421.167 2289.57 425.773 Q2286.51 430.357 2280.7 430.357 Q2274.89 430.357 2271.81 425.773 Q2268.76 421.167 2268.76 412.44 Q2268.76 403.69 2271.81 399.107 Q2274.89 394.5 2280.7 394.5 Z\" fill=\"#000000\" fill-rule=\"evenodd\" fill-opacity=\"1\" /><path clip-path=\"url(#clip460)\" d=\"M 0 0 M2297.71 423.806 L2302.6 423.806 L2302.6 429.685 L2297.71 429.685 L2297.71 423.806 Z\" fill=\"#000000\" fill-rule=\"evenodd\" fill-opacity=\"1\" /><path clip-path=\"url(#clip460)\" d=\"M 0 0 M2318.25 410.542 Q2315.1 410.542 2313.25 412.695 Q2311.42 414.848 2311.42 418.598 Q2311.42 422.324 2313.25 424.5 Q2315.1 426.653 2318.25 426.653 Q2321.39 426.653 2323.22 424.5 Q2325.08 422.324 2325.08 418.598 Q2325.08 414.848 2323.22 412.695 Q2321.39 410.542 2318.25 410.542 M2327.53 395.889 L2327.53 400.149 Q2325.77 399.315 2323.96 398.875 Q2322.18 398.436 2320.42 398.436 Q2315.79 398.436 2313.34 401.561 Q2310.91 404.686 2310.56 411.005 Q2311.93 408.991 2313.99 407.926 Q2316.05 406.838 2318.52 406.838 Q2323.73 406.838 2326.74 410.01 Q2329.77 413.158 2329.77 418.598 Q2329.77 423.922 2326.63 427.139 Q2323.48 430.357 2318.25 430.357 Q2312.25 430.357 2309.08 425.773 Q2305.91 421.167 2305.91 412.44 Q2305.91 404.246 2309.8 399.385 Q2313.69 394.5 2320.24 394.5 Q2322 394.5 2323.78 394.848 Q2325.58 395.195 2327.53 395.889 Z\" fill=\"#000000\" fill-rule=\"evenodd\" fill-opacity=\"1\" /><path clip-path=\"url(#clip460)\" d=\"M 0 0 M2344.84 398.204 Q2341.23 398.204 2339.4 401.769 Q2337.6 405.311 2337.6 412.44 Q2337.6 419.547 2339.4 423.111 Q2341.23 426.653 2344.84 426.653 Q2348.48 426.653 2350.28 423.111 Q2352.11 419.547 2352.11 412.44 Q2352.11 405.311 2350.28 401.769 Q2348.48 398.204 2344.84 398.204 M2344.84 394.5 Q2350.65 394.5 2353.71 399.107 Q2356.79 403.69 2356.79 412.44 Q2356.79 421.167 2353.71 425.773 Q2350.65 430.357 2344.84 430.357 Q2339.03 430.357 2335.95 425.773 Q2332.9 421.167 2332.9 412.44 Q2332.9 403.69 2335.95 399.107 Q2339.03 394.5 2344.84 394.5 Z\" fill=\"#000000\" fill-rule=\"evenodd\" fill-opacity=\"1\" /><path clip-path=\"url(#clip460)\" d=\"M 0 0 M2280.7 213.193 Q2277.09 213.193 2275.26 216.758 Q2273.45 220.299 2273.45 227.429 Q2273.45 234.536 2275.26 238.1 Q2277.09 241.642 2280.7 241.642 Q2284.33 241.642 2286.14 238.1 Q2287.97 234.536 2287.97 227.429 Q2287.97 220.299 2286.14 216.758 Q2284.33 213.193 2280.7 213.193 M2280.7 209.489 Q2286.51 209.489 2289.57 214.096 Q2292.64 218.679 2292.64 227.429 Q2292.64 236.156 2289.57 240.762 Q2286.51 245.346 2280.7 245.346 Q2274.89 245.346 2271.81 240.762 Q2268.76 236.156 2268.76 227.429 Q2268.76 218.679 2271.81 214.096 Q2274.89 209.489 2280.7 209.489 Z\" fill=\"#000000\" fill-rule=\"evenodd\" fill-opacity=\"1\" /><path clip-path=\"url(#clip460)\" d=\"M 0 0 M2297.71 238.795 L2302.6 238.795 L2302.6 244.674 L2297.71 244.674 L2297.71 238.795 Z\" fill=\"#000000\" fill-rule=\"evenodd\" fill-opacity=\"1\" /><path clip-path=\"url(#clip460)\" d=\"M 0 0 M2318.25 225.531 Q2315.1 225.531 2313.25 227.684 Q2311.42 229.836 2311.42 233.586 Q2311.42 237.313 2313.25 239.489 Q2315.1 241.642 2318.25 241.642 Q2321.39 241.642 2323.22 239.489 Q2325.08 237.313 2325.08 233.586 Q2325.08 229.836 2323.22 227.684 Q2321.39 225.531 2318.25 225.531 M2327.53 210.878 L2327.53 215.137 Q2325.77 214.304 2323.96 213.864 Q2322.18 213.425 2320.42 213.425 Q2315.79 213.425 2313.34 216.55 Q2310.91 219.675 2310.56 225.994 Q2311.93 223.98 2313.99 222.915 Q2316.05 221.827 2318.52 221.827 Q2323.73 221.827 2326.74 224.999 Q2329.77 228.147 2329.77 233.586 Q2329.77 238.911 2326.63 242.128 Q2323.48 245.346 2318.25 245.346 Q2312.25 245.346 2309.08 240.762 Q2305.91 236.156 2305.91 227.429 Q2305.91 219.235 2309.8 214.374 Q2313.69 209.489 2320.24 209.489 Q2322 209.489 2323.78 209.837 Q2325.58 210.184 2327.53 210.878 Z\" fill=\"#000000\" fill-rule=\"evenodd\" fill-opacity=\"1\" /><path clip-path=\"url(#clip460)\" d=\"M 0 0 M2334.89 210.114 L2353.25 210.114 L2353.25 214.05 L2339.17 214.05 L2339.17 222.522 Q2340.19 222.174 2341.21 222.012 Q2342.23 221.827 2343.25 221.827 Q2349.03 221.827 2352.41 224.999 Q2355.79 228.17 2355.79 233.586 Q2355.79 239.165 2352.32 242.267 Q2348.85 245.346 2342.53 245.346 Q2340.35 245.346 2338.08 244.975 Q2335.84 244.605 2333.43 243.864 L2333.43 239.165 Q2335.51 240.299 2337.74 240.855 Q2339.96 241.41 2342.44 241.41 Q2346.44 241.41 2348.78 239.304 Q2351.12 237.198 2351.12 233.586 Q2351.12 229.975 2348.78 227.869 Q2346.44 225.762 2342.44 225.762 Q2340.56 225.762 2338.69 226.179 Q2336.83 226.596 2334.89 227.475 L2334.89 210.114 Z\" fill=\"#000000\" fill-rule=\"evenodd\" fill-opacity=\"1\" /><polyline clip-path=\"url(#clip460)\" style=\"stroke:#000000; stroke-width:4; stroke-opacity:1; fill:none\" points=\"\n",
       "  2232.76,1423.18 2232.76,1341.09 2256.76,1341.09 2232.76,1341.09 2232.76,1156.08 2256.76,1156.08 2232.76,1156.08 2232.76,971.068 2256.76,971.068 2232.76,971.068 \n",
       "  2232.76,786.057 2256.76,786.057 2232.76,786.057 2232.76,601.045 2256.76,601.045 2232.76,601.045 2232.76,416.034 2256.76,416.034 2232.76,416.034 2232.76,231.023 \n",
       "  2256.76,231.023 2232.76,231.023 2232.76,47.2441 \n",
       "  \"/>\n",
       "</svg>\n"
      ]
     },
     "execution_count": 93,
     "metadata": {},
     "output_type": "execute_result"
    }
   ],
   "source": [
    "plot(self_tuning_nn)"
   ]
  },
  {
   "cell_type": "code",
   "execution_count": 94,
   "metadata": {},
   "outputs": [
    {
     "data": {
      "text/plain": [
       "(best_model = \u001b[34mNeuralNetworkClassifier{CustomNN,…} @234\u001b[39m,\n",
       " best_fitted_params = (chain = Chain(Chain(Dense(30, 42, σ), Dense(42, 2, σ)), softmax),),)"
      ]
     },
     "execution_count": 94,
     "metadata": {},
     "output_type": "execute_result"
    }
   ],
   "source": [
    "best = fitted_params(self_tuning_nn)\n",
    "best"
   ]
  },
  {
   "cell_type": "code",
   "execution_count": 95,
   "metadata": {},
   "outputs": [
    {
     "data": {
      "text/plain": [
       "NeuralNetworkClassifier(\n",
       "    builder = CustomNN(\n",
       "            n1 = 42,\n",
       "            n2 = 5),\n",
       "    finaliser = NNlib.softmax,\n",
       "    optimiser = ADAM(0.00032, (0.9, 0.999), IdDict{Any,Any}()),\n",
       "    loss = Flux.crossentropy,\n",
       "    epochs = 1000,\n",
       "    batch_size = 16,\n",
       "    lambda = 0.0021544346900318843,\n",
       "    alpha = 0.0,\n",
       "    optimiser_changes_trigger_retraining = false)\u001b[34m @234\u001b[39m"
      ]
     },
     "execution_count": 95,
     "metadata": {},
     "output_type": "execute_result"
    }
   ],
   "source": [
    "best.best_model"
   ]
  },
  {
   "cell_type": "code",
   "execution_count": 96,
   "metadata": {
    "scrolled": true
   },
   "outputs": [
    {
     "data": {
      "text/plain": [
       "0.32781485f0"
      ]
     },
     "execution_count": 96,
     "metadata": {},
     "output_type": "execute_result"
    }
   ],
   "source": [
    "best_loss = z.report.best_result.measurement[1]"
   ]
  },
  {
   "cell_type": "code",
   "execution_count": 97,
   "metadata": {},
   "outputs": [
    {
     "data": {
      "text/plain": [
       "(1000, 42)"
      ]
     },
     "execution_count": 97,
     "metadata": {},
     "output_type": "execute_result"
    }
   ],
   "source": [
    "b = best.best_model.builder.n1\n",
    "a = best.best_model.epochs\n",
    "c = round(best.best_model.optimiser.eta, digits=5)\n",
    "a,b"
   ]
  },
  {
   "cell_type": "code",
   "execution_count": 98,
   "metadata": {},
   "outputs": [],
   "source": [
    "fn = \"Figures/Grid_NN_$(param1):$(a)_x_$(param2):$(b)_bestloss:$(best_loss)_lr:$c\"\n",
    "png(replace(fn,'.' => ','))"
   ]
  },
  {
   "cell_type": "markdown",
   "metadata": {},
   "source": [
    "### GridSearch for Learning Rate"
   ]
  },
  {
   "cell_type": "code",
   "execution_count": 99,
   "metadata": {},
   "outputs": [
    {
     "data": {
      "text/plain": [
       "MLJBase.NumericRange(Float64, :(optimiser.eta), ... )"
      ]
     },
     "execution_count": 99,
     "metadata": {},
     "output_type": "execute_result"
    }
   ],
   "source": [
    "param1 = :epochs\n",
    "param2 = :(optimiser.eta)\n",
    "\n",
    "r1 = range(nn2, param1, lower=10, upper=1000, scale=:linear)\n",
    "r2 = range(nn2, param2, lower=0.00001, upper=0.01, scale=:log10)"
   ]
  },
  {
   "cell_type": "code",
   "execution_count": 100,
   "metadata": {
    "scrolled": true
   },
   "outputs": [
    {
     "data": {
      "text/plain": [
       "ProbabilisticTunedModel(\n",
       "    model = NeuralNetworkClassifier(\n",
       "            builder = \u001b[34mCustomNN @793\u001b[39m,\n",
       "            finaliser = NNlib.softmax,\n",
       "            optimiser = ADAM(0.00032, (0.9, 0.999), IdDict{Any,Any}()),\n",
       "            loss = Flux.crossentropy,\n",
       "            epochs = 1000,\n",
       "            batch_size = 16,\n",
       "            lambda = 0.0021544346900318843,\n",
       "            alpha = 0.0,\n",
       "            optimiser_changes_trigger_retraining = false),\n",
       "    tuning = Grid(\n",
       "            goal = 50,\n",
       "            resolution = 10,\n",
       "            shuffle = true,\n",
       "            rng = Random._GLOBAL_RNG()),\n",
       "    resampling = Holdout(\n",
       "            fraction_train = 0.7,\n",
       "            shuffle = false,\n",
       "            rng = Random._GLOBAL_RNG()),\n",
       "    measure = cross_entropy(\n",
       "            eps = 2.220446049250313e-16),\n",
       "    weights = nothing,\n",
       "    operation = MLJModelInterface.predict,\n",
       "    range = MLJBase.NumericRange{T,MLJBase.Bounded,Symbol} where T[\u001b[34mNumericRange{Int64,…} @325\u001b[39m, \u001b[34mNumericRange{Float64,…} @575\u001b[39m],\n",
       "    train_best = true,\n",
       "    repeats = 1,\n",
       "    n = nothing,\n",
       "    acceleration = CPUThreads{Int64}(1),\n",
       "    acceleration_resampling = CPU1{Nothing}(nothing),\n",
       "    check_measure = true)\u001b[34m @577\u001b[39m"
      ]
     },
     "execution_count": 100,
     "metadata": {},
     "output_type": "execute_result"
    }
   ],
   "source": [
    "self_tuning_nn_model = TunedModel(model=nn2,\n",
    "                                    tuning=Grid(goal=50),\n",
    "                                    resampling=Holdout(fraction_train=0.7), \n",
    "                                    measure=cross_entropy,\n",
    "                                    acceleration=CPUThreads(),\n",
    "                                    range=[r1, r2])"
   ]
  },
  {
   "cell_type": "code",
   "execution_count": 101,
   "metadata": {},
   "outputs": [
    {
     "data": {
      "text/plain": [
       "\u001b[34mMachine{ProbabilisticTunedModel{Grid,…}} @820\u001b[39m trained 0 times.\n",
       "  args: \n",
       "    1:\t\u001b[34mSource @388\u001b[39m ⏎ `Table{AbstractArray{Continuous,1}}`\n",
       "    2:\t\u001b[34mSource @071\u001b[39m ⏎ `AbstractArray{Multiclass{2},1}`\n"
      ]
     },
     "execution_count": 101,
     "metadata": {},
     "output_type": "execute_result"
    }
   ],
   "source": [
    "self_tuning_nn = machine(self_tuning_nn_model, X_stand, y)"
   ]
  },
  {
   "cell_type": "code",
   "execution_count": 102,
   "metadata": {},
   "outputs": [
    {
     "name": "stderr",
     "output_type": "stream",
     "text": [
      "┌ Info: Training \u001b[34mMachine{ProbabilisticTunedModel{Grid,…}} @820\u001b[39m.\n",
      "└ @ MLJBase /home/andrew/.julia/packages/MLJBase/cJmIS/src/machines.jl:322\n",
      "┌ Info: Attempting to evaluate 49 models.\n",
      "└ @ MLJTuning /home/andrew/.julia/packages/MLJTuning/nuvTc/src/tuned_models.jl:501\n",
      "\u001b[33mEvaluating over 49 metamodels: 100%[=========================] Time: 0:01:08\u001b[39m\n"
     ]
    },
    {
     "data": {
      "text/plain": [
       "\u001b[34mMachine{ProbabilisticTunedModel{Grid,…}} @820\u001b[39m trained 1 time.\n",
       "  args: \n",
       "    1:\t\u001b[34mSource @388\u001b[39m ⏎ `Table{AbstractArray{Continuous,1}}`\n",
       "    2:\t\u001b[34mSource @071\u001b[39m ⏎ `AbstractArray{Multiclass{2},1}`\n"
      ]
     },
     "execution_count": 102,
     "metadata": {},
     "output_type": "execute_result"
    }
   ],
   "source": [
    "z = fit!(self_tuning_nn, rows=train)"
   ]
  },
  {
   "cell_type": "code",
   "execution_count": 103,
   "metadata": {
    "scrolled": false
   },
   "outputs": [
    {
     "data": {
      "image/svg+xml": [
       "<?xml version=\"1.0\" encoding=\"utf-8\"?>\n",
       "<svg xmlns=\"http://www.w3.org/2000/svg\" xmlns:xlink=\"http://www.w3.org/1999/xlink\" width=\"600\" height=\"400\" viewBox=\"0 0 2400 1600\">\n",
       "<defs>\n",
       "  <clipPath id=\"clip510\">\n",
       "    <rect x=\"0\" y=\"0\" width=\"2400\" height=\"1600\"/>\n",
       "  </clipPath>\n",
       "</defs>\n",
       "<path clip-path=\"url(#clip510)\" d=\"\n",
       "M0 1600 L2400 1600 L2400 0 L0 0  Z\n",
       "  \" fill=\"#ffffff\" fill-rule=\"evenodd\" fill-opacity=\"1\"/>\n",
       "<defs>\n",
       "  <clipPath id=\"clip511\">\n",
       "    <rect x=\"480\" y=\"0\" width=\"1681\" height=\"1600\"/>\n",
       "  </clipPath>\n",
       "</defs>\n",
       "<path clip-path=\"url(#clip510)\" d=\"\n",
       "M274.843 1423.18 L2112.76 1423.18 L2112.76 47.2441 L274.843 47.2441  Z\n",
       "  \" fill=\"#ffffff\" fill-rule=\"evenodd\" fill-opacity=\"1\"/>\n",
       "<defs>\n",
       "  <clipPath id=\"clip512\">\n",
       "    <rect x=\"274\" y=\"47\" width=\"1839\" height=\"1377\"/>\n",
       "  </clipPath>\n",
       "</defs>\n",
       "<polyline clip-path=\"url(#clip512)\" style=\"stroke:#000000; stroke-width:2; stroke-opacity:0.1; fill:none\" points=\"\n",
       "  309.345,1423.18 309.345,47.2441 \n",
       "  \"/>\n",
       "<polyline clip-path=\"url(#clip512)\" style=\"stroke:#000000; stroke-width:2; stroke-opacity:0.1; fill:none\" points=\"\n",
       "  747.194,1423.18 747.194,47.2441 \n",
       "  \"/>\n",
       "<polyline clip-path=\"url(#clip512)\" style=\"stroke:#000000; stroke-width:2; stroke-opacity:0.1; fill:none\" points=\"\n",
       "  1185.04,1423.18 1185.04,47.2441 \n",
       "  \"/>\n",
       "<polyline clip-path=\"url(#clip512)\" style=\"stroke:#000000; stroke-width:2; stroke-opacity:0.1; fill:none\" points=\"\n",
       "  1622.89,1423.18 1622.89,47.2441 \n",
       "  \"/>\n",
       "<polyline clip-path=\"url(#clip512)\" style=\"stroke:#000000; stroke-width:2; stroke-opacity:0.1; fill:none\" points=\"\n",
       "  2060.74,1423.18 2060.74,47.2441 \n",
       "  \"/>\n",
       "<polyline clip-path=\"url(#clip512)\" style=\"stroke:#000000; stroke-width:2; stroke-opacity:0.1; fill:none\" points=\"\n",
       "  274.843,1384.24 2112.76,1384.24 \n",
       "  \"/>\n",
       "<polyline clip-path=\"url(#clip512)\" style=\"stroke:#000000; stroke-width:2; stroke-opacity:0.1; fill:none\" points=\"\n",
       "  274.843,951.554 2112.76,951.554 \n",
       "  \"/>\n",
       "<polyline clip-path=\"url(#clip512)\" style=\"stroke:#000000; stroke-width:2; stroke-opacity:0.1; fill:none\" points=\"\n",
       "  274.843,518.87 2112.76,518.87 \n",
       "  \"/>\n",
       "<polyline clip-path=\"url(#clip512)\" style=\"stroke:#000000; stroke-width:2; stroke-opacity:0.1; fill:none\" points=\"\n",
       "  274.843,86.1857 2112.76,86.1857 \n",
       "  \"/>\n",
       "<polyline clip-path=\"url(#clip510)\" style=\"stroke:#000000; stroke-width:4; stroke-opacity:1; fill:none\" points=\"\n",
       "  274.843,1423.18 2112.76,1423.18 \n",
       "  \"/>\n",
       "<polyline clip-path=\"url(#clip510)\" style=\"stroke:#000000; stroke-width:4; stroke-opacity:1; fill:none\" points=\"\n",
       "  274.843,1423.18 274.843,47.2441 \n",
       "  \"/>\n",
       "<polyline clip-path=\"url(#clip510)\" style=\"stroke:#000000; stroke-width:4; stroke-opacity:1; fill:none\" points=\"\n",
       "  309.345,1423.18 309.345,1406.67 \n",
       "  \"/>\n",
       "<polyline clip-path=\"url(#clip510)\" style=\"stroke:#000000; stroke-width:4; stroke-opacity:1; fill:none\" points=\"\n",
       "  747.194,1423.18 747.194,1406.67 \n",
       "  \"/>\n",
       "<polyline clip-path=\"url(#clip510)\" style=\"stroke:#000000; stroke-width:4; stroke-opacity:1; fill:none\" points=\"\n",
       "  1185.04,1423.18 1185.04,1406.67 \n",
       "  \"/>\n",
       "<polyline clip-path=\"url(#clip510)\" style=\"stroke:#000000; stroke-width:4; stroke-opacity:1; fill:none\" points=\"\n",
       "  1622.89,1423.18 1622.89,1406.67 \n",
       "  \"/>\n",
       "<polyline clip-path=\"url(#clip510)\" style=\"stroke:#000000; stroke-width:4; stroke-opacity:1; fill:none\" points=\"\n",
       "  2060.74,1423.18 2060.74,1406.67 \n",
       "  \"/>\n",
       "<polyline clip-path=\"url(#clip510)\" style=\"stroke:#000000; stroke-width:4; stroke-opacity:1; fill:none\" points=\"\n",
       "  274.843,1384.24 296.898,1384.24 \n",
       "  \"/>\n",
       "<polyline clip-path=\"url(#clip510)\" style=\"stroke:#000000; stroke-width:4; stroke-opacity:1; fill:none\" points=\"\n",
       "  274.843,951.554 296.898,951.554 \n",
       "  \"/>\n",
       "<polyline clip-path=\"url(#clip510)\" style=\"stroke:#000000; stroke-width:4; stroke-opacity:1; fill:none\" points=\"\n",
       "  274.843,518.87 296.898,518.87 \n",
       "  \"/>\n",
       "<polyline clip-path=\"url(#clip510)\" style=\"stroke:#000000; stroke-width:4; stroke-opacity:1; fill:none\" points=\"\n",
       "  274.843,86.1857 296.898,86.1857 \n",
       "  \"/>\n",
       "<path clip-path=\"url(#clip510)\" d=\"M 0 0 M309.345 1445.17 Q305.734 1445.17 303.906 1448.74 Q302.1 1452.28 302.1 1459.41 Q302.1 1466.51 303.906 1470.08 Q305.734 1473.62 309.345 1473.62 Q312.98 1473.62 314.785 1470.08 Q316.614 1466.51 316.614 1459.41 Q316.614 1452.28 314.785 1448.74 Q312.98 1445.17 309.345 1445.17 M309.345 1441.47 Q315.155 1441.47 318.211 1446.07 Q321.29 1450.66 321.29 1459.41 Q321.29 1468.13 318.211 1472.74 Q315.155 1477.32 309.345 1477.32 Q303.535 1477.32 300.456 1472.74 Q297.401 1468.13 297.401 1459.41 Q297.401 1450.66 300.456 1446.07 Q303.535 1441.47 309.345 1441.47 Z\" fill=\"#000000\" fill-rule=\"evenodd\" fill-opacity=\"1\" /><path clip-path=\"url(#clip510)\" d=\"M 0 0 M715.331 1472.72 L731.65 1472.72 L731.65 1476.65 L709.706 1476.65 L709.706 1472.72 Q712.368 1469.96 716.951 1465.33 Q721.557 1460.68 722.738 1459.34 Q724.983 1456.81 725.863 1455.08 Q726.766 1453.32 726.766 1451.63 Q726.766 1448.87 724.821 1447.14 Q722.9 1445.4 719.798 1445.4 Q717.599 1445.4 715.145 1446.17 Q712.715 1446.93 709.937 1448.48 L709.937 1443.76 Q712.761 1442.62 715.215 1442.05 Q717.669 1441.47 719.706 1441.47 Q725.076 1441.47 728.27 1444.15 Q731.465 1446.84 731.465 1451.33 Q731.465 1453.46 730.655 1455.38 Q729.868 1457.28 727.761 1459.87 Q727.182 1460.54 724.081 1463.76 Q720.979 1466.95 715.331 1472.72 Z\" fill=\"#000000\" fill-rule=\"evenodd\" fill-opacity=\"1\" /><path clip-path=\"url(#clip510)\" d=\"M 0 0 M736.766 1442.09 L755.122 1442.09 L755.122 1446.03 L741.048 1446.03 L741.048 1454.5 Q742.067 1454.15 743.085 1453.99 Q744.104 1453.8 745.122 1453.8 Q750.909 1453.8 754.289 1456.98 Q757.668 1460.15 757.668 1465.56 Q757.668 1471.14 754.196 1474.24 Q750.724 1477.32 744.405 1477.32 Q742.229 1477.32 739.96 1476.95 Q737.715 1476.58 735.307 1475.84 L735.307 1471.14 Q737.391 1472.28 739.613 1472.83 Q741.835 1473.39 744.312 1473.39 Q748.317 1473.39 750.654 1471.28 Q752.992 1469.18 752.992 1465.56 Q752.992 1461.95 750.654 1459.85 Q748.317 1457.74 744.312 1457.74 Q742.437 1457.74 740.562 1458.16 Q738.71 1458.57 736.766 1459.45 L736.766 1442.09 Z\" fill=\"#000000\" fill-rule=\"evenodd\" fill-opacity=\"1\" /><path clip-path=\"url(#clip510)\" d=\"M 0 0 M772.738 1445.17 Q769.127 1445.17 767.298 1448.74 Q765.492 1452.28 765.492 1459.41 Q765.492 1466.51 767.298 1470.08 Q769.127 1473.62 772.738 1473.62 Q776.372 1473.62 778.177 1470.08 Q780.006 1466.51 780.006 1459.41 Q780.006 1452.28 778.177 1448.74 Q776.372 1445.17 772.738 1445.17 M772.738 1441.47 Q778.548 1441.47 781.603 1446.07 Q784.682 1450.66 784.682 1459.41 Q784.682 1468.13 781.603 1472.74 Q778.548 1477.32 772.738 1477.32 Q766.928 1477.32 763.849 1472.74 Q760.793 1468.13 760.793 1459.41 Q760.793 1450.66 763.849 1446.07 Q766.928 1441.47 772.738 1441.47 Z\" fill=\"#000000\" fill-rule=\"evenodd\" fill-opacity=\"1\" /><path clip-path=\"url(#clip510)\" d=\"M 0 0 M1148.31 1442.09 L1166.66 1442.09 L1166.66 1446.03 L1152.59 1446.03 L1152.59 1454.5 Q1153.61 1454.15 1154.63 1453.99 Q1155.64 1453.8 1156.66 1453.8 Q1162.45 1453.8 1165.83 1456.98 Q1169.21 1460.15 1169.21 1465.56 Q1169.21 1471.14 1165.74 1474.24 Q1162.26 1477.32 1155.95 1477.32 Q1153.77 1477.32 1151.5 1476.95 Q1149.26 1476.58 1146.85 1475.84 L1146.85 1471.14 Q1148.93 1472.28 1151.15 1472.83 Q1153.38 1473.39 1155.85 1473.39 Q1159.86 1473.39 1162.2 1471.28 Q1164.53 1469.18 1164.53 1465.56 Q1164.53 1461.95 1162.2 1459.85 Q1159.86 1457.74 1155.85 1457.74 Q1153.98 1457.74 1152.1 1458.16 Q1150.25 1458.57 1148.31 1459.45 L1148.31 1442.09 Z\" fill=\"#000000\" fill-rule=\"evenodd\" fill-opacity=\"1\" /><path clip-path=\"url(#clip510)\" d=\"M 0 0 M1184.28 1445.17 Q1180.67 1445.17 1178.84 1448.74 Q1177.03 1452.28 1177.03 1459.41 Q1177.03 1466.51 1178.84 1470.08 Q1180.67 1473.62 1184.28 1473.62 Q1187.91 1473.62 1189.72 1470.08 Q1191.55 1466.51 1191.55 1459.41 Q1191.55 1452.28 1189.72 1448.74 Q1187.91 1445.17 1184.28 1445.17 M1184.28 1441.47 Q1190.09 1441.47 1193.14 1446.07 Q1196.22 1450.66 1196.22 1459.41 Q1196.22 1468.13 1193.14 1472.74 Q1190.09 1477.32 1184.28 1477.32 Q1178.47 1477.32 1175.39 1472.74 Q1172.33 1468.13 1172.33 1459.41 Q1172.33 1450.66 1175.39 1446.07 Q1178.47 1441.47 1184.28 1441.47 Z\" fill=\"#000000\" fill-rule=\"evenodd\" fill-opacity=\"1\" /><path clip-path=\"url(#clip510)\" d=\"M 0 0 M1211.29 1445.17 Q1207.68 1445.17 1205.85 1448.74 Q1204.05 1452.28 1204.05 1459.41 Q1204.05 1466.51 1205.85 1470.08 Q1207.68 1473.62 1211.29 1473.62 Q1214.93 1473.62 1216.73 1470.08 Q1218.56 1466.51 1218.56 1459.41 Q1218.56 1452.28 1216.73 1448.74 Q1214.93 1445.17 1211.29 1445.17 M1211.29 1441.47 Q1217.1 1441.47 1220.16 1446.07 Q1223.24 1450.66 1223.24 1459.41 Q1223.24 1468.13 1220.16 1472.74 Q1217.1 1477.32 1211.29 1477.32 Q1205.48 1477.32 1202.4 1472.74 Q1199.35 1468.13 1199.35 1459.41 Q1199.35 1450.66 1202.4 1446.07 Q1205.48 1441.47 1211.29 1441.47 Z\" fill=\"#000000\" fill-rule=\"evenodd\" fill-opacity=\"1\" /><path clip-path=\"url(#clip510)\" d=\"M 0 0 M1585.26 1442.09 L1607.49 1442.09 L1607.49 1444.08 L1594.94 1476.65 L1590.06 1476.65 L1601.86 1446.03 L1585.26 1446.03 L1585.26 1442.09 Z\" fill=\"#000000\" fill-rule=\"evenodd\" fill-opacity=\"1\" /><path clip-path=\"url(#clip510)\" d=\"M 0 0 M1612.6 1442.09 L1630.96 1442.09 L1630.96 1446.03 L1616.88 1446.03 L1616.88 1454.5 Q1617.9 1454.15 1618.92 1453.99 Q1619.94 1453.8 1620.96 1453.8 Q1626.75 1453.8 1630.12 1456.98 Q1633.5 1460.15 1633.5 1465.56 Q1633.5 1471.14 1630.03 1474.24 Q1626.56 1477.32 1620.24 1477.32 Q1618.06 1477.32 1615.8 1476.95 Q1613.55 1476.58 1611.14 1475.84 L1611.14 1471.14 Q1613.23 1472.28 1615.45 1472.83 Q1617.67 1473.39 1620.15 1473.39 Q1624.15 1473.39 1626.49 1471.28 Q1628.83 1469.18 1628.83 1465.56 Q1628.83 1461.95 1626.49 1459.85 Q1624.15 1457.74 1620.15 1457.74 Q1618.27 1457.74 1616.4 1458.16 Q1614.55 1458.57 1612.6 1459.45 L1612.6 1442.09 Z\" fill=\"#000000\" fill-rule=\"evenodd\" fill-opacity=\"1\" /><path clip-path=\"url(#clip510)\" d=\"M 0 0 M1648.57 1445.17 Q1644.96 1445.17 1643.13 1448.74 Q1641.33 1452.28 1641.33 1459.41 Q1641.33 1466.51 1643.13 1470.08 Q1644.96 1473.62 1648.57 1473.62 Q1652.21 1473.62 1654.01 1470.08 Q1655.84 1466.51 1655.84 1459.41 Q1655.84 1452.28 1654.01 1448.74 Q1652.21 1445.17 1648.57 1445.17 M1648.57 1441.47 Q1654.38 1441.47 1657.44 1446.07 Q1660.52 1450.66 1660.52 1459.41 Q1660.52 1468.13 1657.44 1472.74 Q1654.38 1477.32 1648.57 1477.32 Q1642.76 1477.32 1639.68 1472.74 Q1636.63 1468.13 1636.63 1459.41 Q1636.63 1450.66 1639.68 1446.07 Q1642.76 1441.47 1648.57 1441.47 Z\" fill=\"#000000\" fill-rule=\"evenodd\" fill-opacity=\"1\" /><path clip-path=\"url(#clip510)\" d=\"M 0 0 M2010.6 1472.72 L2018.24 1472.72 L2018.24 1446.35 L2009.93 1448.02 L2009.93 1443.76 L2018.19 1442.09 L2022.87 1442.09 L2022.87 1472.72 L2030.51 1472.72 L2030.51 1476.65 L2010.6 1476.65 L2010.6 1472.72 Z\" fill=\"#000000\" fill-rule=\"evenodd\" fill-opacity=\"1\" /><path clip-path=\"url(#clip510)\" d=\"M 0 0 M2045.58 1445.17 Q2041.97 1445.17 2040.14 1448.74 Q2038.33 1452.28 2038.33 1459.41 Q2038.33 1466.51 2040.14 1470.08 Q2041.97 1473.62 2045.58 1473.62 Q2049.21 1473.62 2051.02 1470.08 Q2052.85 1466.51 2052.85 1459.41 Q2052.85 1452.28 2051.02 1448.74 Q2049.21 1445.17 2045.58 1445.17 M2045.58 1441.47 Q2051.39 1441.47 2054.44 1446.07 Q2057.52 1450.66 2057.52 1459.41 Q2057.52 1468.13 2054.44 1472.74 Q2051.39 1477.32 2045.58 1477.32 Q2039.77 1477.32 2036.69 1472.74 Q2033.63 1468.13 2033.63 1459.41 Q2033.63 1450.66 2036.69 1446.07 Q2039.77 1441.47 2045.58 1441.47 Z\" fill=\"#000000\" fill-rule=\"evenodd\" fill-opacity=\"1\" /><path clip-path=\"url(#clip510)\" d=\"M 0 0 M2072.59 1445.17 Q2068.98 1445.17 2067.15 1448.74 Q2065.35 1452.28 2065.35 1459.41 Q2065.35 1466.51 2067.15 1470.08 Q2068.98 1473.62 2072.59 1473.62 Q2076.23 1473.62 2078.03 1470.08 Q2079.86 1466.51 2079.86 1459.41 Q2079.86 1452.28 2078.03 1448.74 Q2076.23 1445.17 2072.59 1445.17 M2072.59 1441.47 Q2078.4 1441.47 2081.46 1446.07 Q2084.54 1450.66 2084.54 1459.41 Q2084.54 1468.13 2081.46 1472.74 Q2078.4 1477.32 2072.59 1477.32 Q2066.78 1477.32 2063.7 1472.74 Q2060.65 1468.13 2060.65 1459.41 Q2060.65 1450.66 2063.7 1446.07 Q2066.78 1441.47 2072.59 1441.47 Z\" fill=\"#000000\" fill-rule=\"evenodd\" fill-opacity=\"1\" /><path clip-path=\"url(#clip510)\" d=\"M 0 0 M2099.61 1445.17 Q2095.99 1445.17 2094.17 1448.74 Q2092.36 1452.28 2092.36 1459.41 Q2092.36 1466.51 2094.17 1470.08 Q2095.99 1473.62 2099.61 1473.62 Q2103.24 1473.62 2105.04 1470.08 Q2106.87 1466.51 2106.87 1459.41 Q2106.87 1452.28 2105.04 1448.74 Q2103.24 1445.17 2099.61 1445.17 M2099.61 1441.47 Q2105.42 1441.47 2108.47 1446.07 Q2111.55 1450.66 2111.55 1459.41 Q2111.55 1468.13 2108.47 1472.74 Q2105.42 1477.32 2099.61 1477.32 Q2093.79 1477.32 2090.72 1472.74 Q2087.66 1468.13 2087.66 1459.41 Q2087.66 1450.66 2090.72 1446.07 Q2093.79 1441.47 2099.61 1441.47 Z\" fill=\"#000000\" fill-rule=\"evenodd\" fill-opacity=\"1\" /><path clip-path=\"url(#clip510)\" d=\"M 0 0 M161.642 1404.03 L169.281 1404.03 L169.281 1377.67 L160.971 1379.33 L160.971 1375.07 L169.234 1373.41 L173.91 1373.41 L173.91 1404.03 L181.549 1404.03 L181.549 1407.97 L161.642 1407.97 L161.642 1404.03 Z\" fill=\"#000000\" fill-rule=\"evenodd\" fill-opacity=\"1\" /><path clip-path=\"url(#clip510)\" d=\"M 0 0 M196.619 1376.48 Q193.007 1376.48 191.179 1380.05 Q189.373 1383.59 189.373 1390.72 Q189.373 1397.83 191.179 1401.39 Q193.007 1404.93 196.619 1404.93 Q200.253 1404.93 202.058 1401.39 Q203.887 1397.83 203.887 1390.72 Q203.887 1383.59 202.058 1380.05 Q200.253 1376.48 196.619 1376.48 M196.619 1372.78 Q202.429 1372.78 205.484 1377.39 Q208.563 1381.97 208.563 1390.72 Q208.563 1399.45 205.484 1404.05 Q202.429 1408.64 196.619 1408.64 Q190.808 1408.64 187.73 1404.05 Q184.674 1399.45 184.674 1390.72 Q184.674 1381.97 187.73 1377.39 Q190.808 1372.78 196.619 1372.78 Z\" fill=\"#000000\" fill-rule=\"evenodd\" fill-opacity=\"1\" /><path clip-path=\"url(#clip510)\" d=\"M 0 0 M208.563 1368.46 L218.7 1368.46 L218.7 1371.55 L208.563 1371.55 L208.563 1368.46 Z\" fill=\"#000000\" fill-rule=\"evenodd\" fill-opacity=\"1\" /><path clip-path=\"url(#clip510)\" d=\"M 0 0 M233.859 1352.48 L248.774 1352.48 L248.774 1355.67 L237.339 1355.67 L237.339 1362.56 Q238.166 1362.27 238.994 1362.14 Q239.821 1361.99 240.649 1361.99 Q245.351 1361.99 248.097 1364.57 Q250.843 1367.15 250.843 1371.55 Q250.843 1376.08 248.022 1378.6 Q245.2 1381.1 240.066 1381.1 Q238.298 1381.1 236.455 1380.8 Q234.631 1380.5 232.675 1379.9 L232.675 1376.08 Q234.367 1377 236.173 1377.45 Q237.978 1377.9 239.991 1377.9 Q243.244 1377.9 245.144 1376.19 Q247.044 1374.48 247.044 1371.55 Q247.044 1368.61 245.144 1366.9 Q243.244 1365.19 239.991 1365.19 Q238.467 1365.19 236.944 1365.53 Q235.439 1365.87 233.859 1366.58 L233.859 1352.48 Z\" fill=\"#000000\" fill-rule=\"evenodd\" fill-opacity=\"1\" /><path clip-path=\"url(#clip510)\" d=\"M 0 0 M159.347 971.347 L166.986 971.347 L166.986 944.981 L158.676 946.648 L158.676 942.388 L166.94 940.722 L171.616 940.722 L171.616 971.347 L179.255 971.347 L179.255 975.282 L159.347 975.282 L159.347 971.347 Z\" fill=\"#000000\" fill-rule=\"evenodd\" fill-opacity=\"1\" /><path clip-path=\"url(#clip510)\" d=\"M 0 0 M194.324 943.8 Q190.713 943.8 188.884 947.365 Q187.079 950.907 187.079 958.036 Q187.079 965.143 188.884 968.708 Q190.713 972.249 194.324 972.249 Q197.958 972.249 199.764 968.708 Q201.593 965.143 201.593 958.036 Q201.593 950.907 199.764 947.365 Q197.958 943.8 194.324 943.8 M194.324 940.097 Q200.134 940.097 203.19 944.703 Q206.268 949.286 206.268 958.036 Q206.268 966.763 203.19 971.37 Q200.134 975.953 194.324 975.953 Q188.514 975.953 185.435 971.37 Q182.38 966.763 182.38 958.036 Q182.38 949.286 185.435 944.703 Q188.514 940.097 194.324 940.097 Z\" fill=\"#000000\" fill-rule=\"evenodd\" fill-opacity=\"1\" /><path clip-path=\"url(#clip510)\" d=\"M 0 0 M206.268 935.778 L216.406 935.778 L216.406 938.862 L206.268 938.862 L206.268 935.778 Z\" fill=\"#000000\" fill-rule=\"evenodd\" fill-opacity=\"1\" /><path clip-path=\"url(#clip510)\" d=\"M 0 0 M243.056 923.101 L233.464 938.091 L243.056 938.091 L243.056 923.101 M242.06 919.791 L246.837 919.791 L246.837 938.091 L250.843 938.091 L250.843 941.251 L246.837 941.251 L246.837 947.871 L243.056 947.871 L243.056 941.251 L230.38 941.251 L230.38 937.583 L242.06 919.791 Z\" fill=\"#000000\" fill-rule=\"evenodd\" fill-opacity=\"1\" /><path clip-path=\"url(#clip510)\" d=\"M 0 0 M161.322 538.662 L168.961 538.662 L168.961 512.297 L160.651 513.963 L160.651 509.704 L168.915 508.037 L173.591 508.037 L173.591 538.662 L181.229 538.662 L181.229 542.597 L161.322 542.597 L161.322 538.662 Z\" fill=\"#000000\" fill-rule=\"evenodd\" fill-opacity=\"1\" /><path clip-path=\"url(#clip510)\" d=\"M 0 0 M196.299 511.116 Q192.688 511.116 190.859 514.681 Q189.054 518.223 189.054 525.352 Q189.054 532.459 190.859 536.023 Q192.688 539.565 196.299 539.565 Q199.933 539.565 201.739 536.023 Q203.567 532.459 203.567 525.352 Q203.567 518.223 201.739 514.681 Q199.933 511.116 196.299 511.116 M196.299 507.412 Q202.109 507.412 205.165 512.019 Q208.243 516.602 208.243 525.352 Q208.243 534.079 205.165 538.685 Q202.109 543.269 196.299 543.269 Q190.489 543.269 187.41 538.685 Q184.354 534.079 184.354 525.352 Q184.354 516.602 187.41 512.019 Q190.489 507.412 196.299 507.412 Z\" fill=\"#000000\" fill-rule=\"evenodd\" fill-opacity=\"1\" /><path clip-path=\"url(#clip510)\" d=\"M 0 0 M208.243 503.094 L218.381 503.094 L218.381 506.178 L208.243 506.178 L208.243 503.094 Z\" fill=\"#000000\" fill-rule=\"evenodd\" fill-opacity=\"1\" /><path clip-path=\"url(#clip510)\" d=\"M 0 0 M245.05 500.047 Q247.777 500.63 249.301 502.473 Q250.843 504.316 250.843 507.024 Q250.843 511.181 247.984 513.457 Q245.125 515.732 239.859 515.732 Q238.091 515.732 236.21 515.375 Q234.348 515.037 232.355 514.341 L232.355 510.673 Q233.935 511.595 235.815 512.065 Q237.696 512.535 239.746 512.535 Q243.32 512.535 245.182 511.125 Q247.062 509.714 247.062 507.024 Q247.062 504.542 245.313 503.15 Q243.583 501.74 240.48 501.74 L237.207 501.74 L237.207 498.617 L240.63 498.617 Q243.433 498.617 244.918 497.508 Q246.404 496.379 246.404 494.273 Q246.404 492.11 244.862 490.963 Q243.339 489.797 240.48 489.797 Q238.919 489.797 237.132 490.135 Q235.345 490.474 233.201 491.188 L233.201 487.803 Q235.364 487.201 237.245 486.9 Q239.144 486.599 240.818 486.599 Q245.144 486.599 247.664 488.574 Q250.185 490.53 250.185 493.878 Q250.185 496.21 248.849 497.827 Q247.514 499.426 245.05 500.047 Z\" fill=\"#000000\" fill-rule=\"evenodd\" fill-opacity=\"1\" /><path clip-path=\"url(#clip510)\" d=\"M 0 0 M161.98 105.978 L169.619 105.978 L169.619 79.6125 L161.309 81.2792 L161.309 77.0199 L169.573 75.3533 L174.249 75.3533 L174.249 105.978 L181.888 105.978 L181.888 109.913 L161.98 109.913 L161.98 105.978 Z\" fill=\"#000000\" fill-rule=\"evenodd\" fill-opacity=\"1\" /><path clip-path=\"url(#clip510)\" d=\"M 0 0 M196.957 78.432 Q193.346 78.432 191.517 81.9968 Q189.712 85.5384 189.712 92.668 Q189.712 99.7744 191.517 103.339 Q193.346 106.881 196.957 106.881 Q200.591 106.881 202.397 103.339 Q204.226 99.7744 204.226 92.668 Q204.226 85.5384 202.397 81.9968 Q200.591 78.432 196.957 78.432 M196.957 74.7283 Q202.767 74.7283 205.823 79.3347 Q208.901 83.918 208.901 92.668 Q208.901 101.395 205.823 106.001 Q202.767 110.585 196.957 110.585 Q191.147 110.585 188.068 106.001 Q185.013 101.395 185.013 92.668 Q185.013 83.918 188.068 79.3347 Q191.147 74.7283 196.957 74.7283 Z\" fill=\"#000000\" fill-rule=\"evenodd\" fill-opacity=\"1\" /><path clip-path=\"url(#clip510)\" d=\"M 0 0 M208.901 70.4095 L219.039 70.4095 L219.039 73.494 L208.901 73.494 L208.901 70.4095 Z\" fill=\"#000000\" fill-rule=\"evenodd\" fill-opacity=\"1\" /><path clip-path=\"url(#clip510)\" d=\"M 0 0 M237.583 79.3056 L250.843 79.3056 L250.843 82.5029 L233.013 82.5029 L233.013 79.3056 Q235.176 77.0674 238.9 73.3059 Q242.643 69.5255 243.602 68.4347 Q245.426 66.3846 246.141 64.974 Q246.874 63.5446 246.874 62.1717 Q246.874 59.9335 245.295 58.523 Q243.733 57.1124 241.213 57.1124 Q239.427 57.1124 237.433 57.733 Q235.458 58.3537 233.201 59.6138 L233.201 55.777 Q235.496 54.8555 237.489 54.3853 Q239.483 53.9151 241.138 53.9151 Q245.501 53.9151 248.097 56.0968 Q250.692 58.2785 250.692 61.9272 Q250.692 63.6575 250.034 65.2185 Q249.395 66.7608 247.683 68.8672 Q247.213 69.4127 244.693 72.0269 Q242.172 74.6224 237.583 79.3056 Z\" fill=\"#000000\" fill-rule=\"evenodd\" fill-opacity=\"1\" /><path clip-path=\"url(#clip510)\" d=\"M 0 0 M1124.08 1536.76 L1124.08 1539.62 L1097.15 1539.62 Q1097.53 1545.67 1100.78 1548.85 Q1104.06 1552 1109.88 1552 Q1113.26 1552 1116.41 1551.17 Q1119.59 1550.35 1122.71 1548.69 L1122.71 1554.23 Q1119.56 1555.57 1116.25 1556.27 Q1112.94 1556.97 1109.53 1556.97 Q1101 1556.97 1096.01 1552 Q1091.04 1547.04 1091.04 1538.57 Q1091.04 1529.82 1095.75 1524.69 Q1100.49 1519.54 1108.51 1519.54 Q1115.71 1519.54 1119.88 1524.18 Q1124.08 1528.8 1124.08 1536.76 M1118.22 1535.04 Q1118.16 1530.23 1115.52 1527.37 Q1112.91 1524.5 1108.58 1524.5 Q1103.68 1524.5 1100.72 1527.27 Q1097.79 1530.04 1097.34 1535.07 L1118.22 1535.04 Z\" fill=\"#000000\" fill-rule=\"evenodd\" fill-opacity=\"1\" /><path clip-path=\"url(#clip510)\" d=\"M 0 0 M1135.89 1550.7 L1135.89 1569.6 L1130 1569.6 L1130 1520.4 L1135.89 1520.4 L1135.89 1525.81 Q1137.73 1522.62 1140.53 1521.1 Q1143.37 1519.54 1147.28 1519.54 Q1153.77 1519.54 1157.82 1524.69 Q1161.89 1529.85 1161.89 1538.25 Q1161.89 1546.65 1157.82 1551.81 Q1153.77 1556.97 1147.28 1556.97 Q1143.37 1556.97 1140.53 1555.44 Q1137.73 1553.88 1135.89 1550.7 M1155.81 1538.25 Q1155.81 1531.79 1153.14 1528.13 Q1150.5 1524.44 1145.85 1524.44 Q1141.2 1524.44 1138.53 1528.13 Q1135.89 1531.79 1135.89 1538.25 Q1135.89 1544.71 1138.53 1548.4 Q1141.2 1552.07 1145.85 1552.07 Q1150.5 1552.07 1153.14 1548.4 Q1155.81 1544.71 1155.81 1538.25 Z\" fill=\"#000000\" fill-rule=\"evenodd\" fill-opacity=\"1\" /><path clip-path=\"url(#clip510)\" d=\"M 0 0 M1181.85 1524.5 Q1177.14 1524.5 1174.4 1528.19 Q1171.66 1531.85 1171.66 1538.25 Q1171.66 1544.65 1174.37 1548.34 Q1177.11 1552 1181.85 1552 Q1186.53 1552 1189.26 1548.31 Q1192 1544.62 1192 1538.25 Q1192 1531.92 1189.26 1528.23 Q1186.53 1524.5 1181.85 1524.5 M1181.85 1519.54 Q1189.49 1519.54 1193.85 1524.5 Q1198.21 1529.47 1198.21 1538.25 Q1198.21 1547 1193.85 1552 Q1189.49 1556.97 1181.85 1556.97 Q1174.18 1556.97 1169.82 1552 Q1165.49 1547 1165.49 1538.25 Q1165.49 1529.47 1169.82 1524.5 Q1174.18 1519.54 1181.85 1519.54 Z\" fill=\"#000000\" fill-rule=\"evenodd\" fill-opacity=\"1\" /><path clip-path=\"url(#clip510)\" d=\"M 0 0 M1230 1521.76 L1230 1527.24 Q1227.52 1525.87 1225.01 1525.2 Q1222.52 1524.5 1219.98 1524.5 Q1214.28 1524.5 1211.13 1528.13 Q1207.98 1531.73 1207.98 1538.25 Q1207.98 1544.78 1211.13 1548.4 Q1214.28 1552 1219.98 1552 Q1222.52 1552 1225.01 1551.33 Q1227.52 1550.63 1230 1549.26 L1230 1554.68 Q1227.55 1555.82 1224.91 1556.39 Q1222.3 1556.97 1219.34 1556.97 Q1211.29 1556.97 1206.55 1551.91 Q1201.8 1546.85 1201.8 1538.25 Q1201.8 1529.53 1206.58 1524.53 Q1211.38 1519.54 1219.72 1519.54 Q1222.43 1519.54 1225.01 1520.11 Q1227.59 1520.65 1230 1521.76 Z\" fill=\"#000000\" fill-rule=\"evenodd\" fill-opacity=\"1\" /><path clip-path=\"url(#clip510)\" d=\"M 0 0 M1265.78 1534.53 L1265.78 1556.04 L1259.92 1556.04 L1259.92 1534.72 Q1259.92 1529.66 1257.95 1527.14 Q1255.98 1524.63 1252.03 1524.63 Q1247.29 1524.63 1244.55 1527.65 Q1241.81 1530.68 1241.81 1535.9 L1241.81 1556.04 L1235.92 1556.04 L1235.92 1506.52 L1241.81 1506.52 L1241.81 1525.93 Q1243.91 1522.72 1246.75 1521.13 Q1249.61 1519.54 1253.33 1519.54 Q1259.48 1519.54 1262.63 1523.36 Q1265.78 1527.14 1265.78 1534.53 Z\" fill=\"#000000\" fill-rule=\"evenodd\" fill-opacity=\"1\" /><path clip-path=\"url(#clip510)\" d=\"M 0 0 M1294.65 1521.45 L1294.65 1526.98 Q1292.17 1525.71 1289.49 1525.07 Q1286.82 1524.44 1283.95 1524.44 Q1279.59 1524.44 1277.4 1525.77 Q1275.23 1527.11 1275.23 1529.79 Q1275.23 1531.82 1276.79 1533 Q1278.35 1534.15 1283.06 1535.2 L1285.07 1535.64 Q1291.31 1536.98 1293.92 1539.43 Q1296.56 1541.85 1296.56 1546.21 Q1296.56 1551.17 1292.61 1554.07 Q1288.7 1556.97 1281.82 1556.97 Q1278.96 1556.97 1275.84 1556.39 Q1272.75 1555.85 1269.31 1554.74 L1269.31 1548.69 Q1272.56 1550.38 1275.71 1551.24 Q1278.86 1552.07 1281.95 1552.07 Q1286.09 1552.07 1288.31 1550.66 Q1290.54 1549.23 1290.54 1546.65 Q1290.54 1544.27 1288.92 1542.99 Q1287.33 1541.72 1281.88 1540.54 L1279.85 1540.07 Q1274.41 1538.92 1271.99 1536.56 Q1269.57 1534.18 1269.57 1530.04 Q1269.57 1525.01 1273.13 1522.27 Q1276.7 1519.54 1283.25 1519.54 Q1286.5 1519.54 1289.36 1520.01 Q1292.23 1520.49 1294.65 1521.45 Z\" fill=\"#000000\" fill-rule=\"evenodd\" fill-opacity=\"1\" /><path clip-path=\"url(#clip510)\" d=\"M 0 0 M56.4621 905.383 Q56.4621 910.094 60.1542 912.831 Q63.8145 915.568 70.212 915.568 Q76.6095 915.568 80.3017 912.863 Q83.9619 910.126 83.9619 905.383 Q83.9619 900.704 80.2698 897.967 Q76.5777 895.23 70.212 895.23 Q63.8781 895.23 60.186 897.967 Q56.4621 900.704 56.4621 905.383 M51.4968 905.383 Q51.4968 897.744 56.4621 893.384 Q61.4273 889.023 70.212 889.023 Q78.9649 889.023 83.9619 893.384 Q88.9272 897.744 88.9272 905.383 Q88.9272 913.054 83.9619 917.414 Q78.9649 921.743 70.212 921.743 Q61.4273 921.743 56.4621 917.414 Q51.4968 913.054 51.4968 905.383 Z\" fill=\"#000000\" fill-rule=\"evenodd\" fill-opacity=\"1\" /><path clip-path=\"url(#clip510)\" d=\"M 0 0 M82.657 877.215 L101.563 877.215 L101.563 883.103 L52.3562 883.103 L52.3562 877.215 L57.7671 877.215 Q54.5842 875.369 53.0564 872.568 Q51.4968 869.735 51.4968 865.82 Q51.4968 859.327 56.6531 855.285 Q61.8093 851.211 70.212 851.211 Q78.6147 851.211 83.771 855.285 Q88.9272 859.327 88.9272 865.82 Q88.9272 869.735 87.3994 872.568 Q85.8398 875.369 82.657 877.215 M70.212 857.29 Q63.7508 857.29 60.0905 859.964 Q56.3984 862.606 56.3984 867.253 Q56.3984 871.9 60.0905 874.573 Q63.7508 877.215 70.212 877.215 Q76.6732 877.215 80.3653 874.573 Q84.0256 871.9 84.0256 867.253 Q84.0256 862.606 80.3653 859.964 Q76.6732 857.29 70.212 857.29 Z\" fill=\"#000000\" fill-rule=\"evenodd\" fill-opacity=\"1\" /><path clip-path=\"url(#clip510)\" d=\"M 0 0 M42.2347 839.275 L52.3562 839.275 L52.3562 827.212 L56.9077 827.212 L56.9077 839.275 L76.2594 839.275 Q80.6199 839.275 81.8613 838.098 Q83.1026 836.888 83.1026 833.228 L83.1026 827.212 L88.0042 827.212 L88.0042 833.228 Q88.0042 840.007 85.4897 842.586 Q82.9434 845.164 76.2594 845.164 L56.9077 845.164 L56.9077 849.46 L52.3562 849.46 L52.3562 845.164 L42.2347 845.164 L42.2347 839.275 Z\" fill=\"#000000\" fill-rule=\"evenodd\" fill-opacity=\"1\" /><path clip-path=\"url(#clip510)\" d=\"M 0 0 M52.3562 821.069 L52.3562 815.213 L88.0042 815.213 L88.0042 821.069 L52.3562 821.069 M38.479 821.069 L38.479 815.213 L45.895 815.213 L45.895 821.069 L38.479 821.069 Z\" fill=\"#000000\" fill-rule=\"evenodd\" fill-opacity=\"1\" /><path clip-path=\"url(#clip510)\" d=\"M 0 0 M59.1993 781.316 Q55.2526 779.119 53.3747 776.064 Q51.4968 773.008 51.4968 768.871 Q51.4968 763.301 55.4117 760.277 Q59.2948 757.253 66.4881 757.253 L88.0042 757.253 L88.0042 763.142 L66.679 763.142 Q61.5546 763.142 59.072 764.956 Q56.5894 766.77 56.5894 770.494 Q56.5894 775.045 59.6131 777.687 Q62.6368 780.329 67.8567 780.329 L88.0042 780.329 L88.0042 786.217 L66.679 786.217 Q61.5228 786.217 59.072 788.031 Q56.5894 789.846 56.5894 793.633 Q56.5894 798.121 59.6449 800.763 Q62.6686 803.405 67.8567 803.405 L88.0042 803.405 L88.0042 809.293 L52.3562 809.293 L52.3562 803.405 L57.8944 803.405 Q54.616 801.399 53.0564 798.598 Q51.4968 795.798 51.4968 791.946 Q51.4968 788.063 53.4702 785.358 Q55.4436 782.621 59.1993 781.316 Z\" fill=\"#000000\" fill-rule=\"evenodd\" fill-opacity=\"1\" /><path clip-path=\"url(#clip510)\" d=\"M 0 0 M52.3562 751.11 L52.3562 745.254 L88.0042 745.254 L88.0042 751.11 L52.3562 751.11 M38.479 751.11 L38.479 745.254 L45.895 745.254 L45.895 751.11 L38.479 751.11 Z\" fill=\"#000000\" fill-rule=\"evenodd\" fill-opacity=\"1\" /><path clip-path=\"url(#clip510)\" d=\"M 0 0 M53.4065 716.385 L58.9447 716.385 Q57.6716 718.868 57.035 721.542 Q56.3984 724.215 56.3984 727.08 Q56.3984 731.44 57.7352 733.636 Q59.072 735.801 61.7456 735.801 Q63.7826 735.801 64.9603 734.241 Q66.1061 732.682 67.1565 727.971 L67.6021 725.966 Q68.9389 719.727 71.3897 717.117 Q73.8086 714.476 78.1691 714.476 Q83.1344 714.476 86.0308 718.422 Q88.9272 722.337 88.9272 729.212 Q88.9272 732.077 88.3543 735.196 Q87.8132 738.283 86.6992 741.721 L80.6518 741.721 Q82.3387 738.474 83.198 735.323 Q84.0256 732.172 84.0256 729.085 Q84.0256 724.947 82.6251 722.719 Q81.1929 720.491 78.6147 720.491 Q76.2276 720.491 74.9545 722.115 Q73.6813 723.706 72.5037 729.149 L72.0262 731.186 Q70.8804 736.628 68.5251 739.047 Q66.138 741.466 62.0002 741.466 Q56.9713 741.466 54.2341 737.901 Q51.4968 734.337 51.4968 727.78 Q51.4968 724.533 51.9743 721.669 Q52.4517 718.804 53.4065 716.385 Z\" fill=\"#000000\" fill-rule=\"evenodd\" fill-opacity=\"1\" /><path clip-path=\"url(#clip510)\" d=\"M 0 0 M68.7161 677.841 L71.5806 677.841 L71.5806 704.768 Q77.6281 704.386 80.8109 701.14 Q83.9619 697.861 83.9619 692.037 Q83.9619 688.663 83.1344 685.512 Q82.3069 682.329 80.6518 679.21 L86.1899 679.21 Q87.5267 682.361 88.227 685.671 Q88.9272 688.981 88.9272 692.387 Q88.9272 700.917 83.9619 705.914 Q78.9967 710.879 70.5303 710.879 Q61.7774 710.879 56.6531 706.168 Q51.4968 701.426 51.4968 693.405 Q51.4968 686.212 56.1438 682.042 Q60.7589 677.841 68.7161 677.841 M66.9973 683.697 Q62.1912 683.761 59.3266 686.403 Q56.4621 689.013 56.4621 693.342 Q56.4621 698.243 59.2312 701.203 Q62.0002 704.131 67.0292 704.577 L66.9973 683.697 Z\" fill=\"#000000\" fill-rule=\"evenodd\" fill-opacity=\"1\" /><path clip-path=\"url(#clip510)\" d=\"M 0 0 M57.8307 651.041 Q57.2578 652.028 57.0032 653.206 Q56.7167 654.352 56.7167 655.752 Q56.7167 660.717 59.9632 663.391 Q63.1779 666.033 69.2253 666.033 L88.0042 666.033 L88.0042 671.921 L52.3562 671.921 L52.3562 666.033 L57.8944 666.033 Q54.6479 664.187 53.0883 661.227 Q51.4968 658.266 51.4968 654.033 Q51.4968 653.429 51.5923 652.696 Q51.656 651.964 51.8151 651.073 L57.8307 651.041 Z\" fill=\"#000000\" fill-rule=\"evenodd\" fill-opacity=\"1\" /><path clip-path=\"url(#clip510)\" d=\"M 0 0 M79.9197 650.055 L79.9197 643.339 L88.0042 643.339 L88.0042 650.055 L79.9197 650.055 Z\" fill=\"#000000\" fill-rule=\"evenodd\" fill-opacity=\"1\" /><path clip-path=\"url(#clip510)\" d=\"M 0 0 M68.7161 606.704 L71.5806 606.704 L71.5806 633.631 Q77.6281 633.249 80.8109 630.003 Q83.9619 626.724 83.9619 620.9 Q83.9619 617.526 83.1344 614.375 Q82.3069 611.192 80.6518 608.073 L86.1899 608.073 Q87.5267 611.224 88.227 614.534 Q88.9272 617.844 88.9272 621.25 Q88.9272 629.78 83.9619 634.777 Q78.9967 639.742 70.5303 639.742 Q61.7774 639.742 56.6531 635.032 Q51.4968 630.289 51.4968 622.268 Q51.4968 615.075 56.1438 610.906 Q60.7589 606.704 68.7161 606.704 M66.9973 612.561 Q62.1912 612.624 59.3266 615.266 Q56.4621 617.876 56.4621 622.205 Q56.4621 627.106 59.2312 630.066 Q62.0002 632.995 67.0292 633.44 L66.9973 612.561 Z\" fill=\"#000000\" fill-rule=\"evenodd\" fill-opacity=\"1\" /><path clip-path=\"url(#clip510)\" d=\"M 0 0 M42.2347 594.769 L52.3562 594.769 L52.3562 582.706 L56.9077 582.706 L56.9077 594.769 L76.2594 594.769 Q80.6199 594.769 81.8613 593.591 Q83.1026 592.381 83.1026 588.721 L83.1026 582.706 L88.0042 582.706 L88.0042 588.721 Q88.0042 595.501 85.4897 598.079 Q82.9434 600.657 76.2594 600.657 L56.9077 600.657 L56.9077 604.954 L52.3562 604.954 L52.3562 600.657 L42.2347 600.657 L42.2347 594.769 Z\" fill=\"#000000\" fill-rule=\"evenodd\" fill-opacity=\"1\" /><path clip-path=\"url(#clip510)\" d=\"M 0 0 M70.0847 560.362 Q70.0847 567.46 71.7079 570.197 Q73.3312 572.934 77.2461 572.934 Q80.3653 572.934 82.2114 570.897 Q84.0256 568.828 84.0256 565.295 Q84.0256 560.426 80.5881 557.497 Q77.1188 554.537 71.3897 554.537 L70.0847 554.537 L70.0847 560.362 M67.6657 548.681 L88.0042 548.681 L88.0042 554.537 L82.5933 554.537 Q85.8398 556.542 87.3994 559.534 Q88.9272 562.526 88.9272 566.855 Q88.9272 572.329 85.8716 575.576 Q82.7843 578.791 77.6281 578.791 Q71.6125 578.791 68.5569 574.78 Q65.5014 570.738 65.5014 562.749 L65.5014 554.537 L64.9285 554.537 Q60.8862 554.537 58.6901 557.211 Q56.4621 559.853 56.4621 564.659 Q56.4621 567.714 57.1941 570.611 Q57.9262 573.507 59.3903 576.181 L53.9795 576.181 Q52.7381 572.966 52.1334 569.942 Q51.4968 566.919 51.4968 564.054 Q51.4968 556.32 55.5072 552.5 Q59.5176 548.681 67.6657 548.681 Z\" fill=\"#000000\" fill-rule=\"evenodd\" fill-opacity=\"1\" /><circle clip-path=\"url(#clip512)\" cx=\"326.859\" cy=\"86.1857\" r=\"5\" fill=\"#030313\" fill-rule=\"evenodd\" fill-opacity=\"1\" stroke=\"#000000\" stroke-opacity=\"1\" stroke-width=\"3.2\"/>\n",
       "<circle clip-path=\"url(#clip512)\" cx=\"1482.78\" cy=\"302.528\" r=\"3\" fill=\"#000003\" fill-rule=\"evenodd\" fill-opacity=\"1\" stroke=\"#000000\" stroke-opacity=\"1\" stroke-width=\"3.2\"/>\n",
       "<circle clip-path=\"url(#clip512)\" cx=\"326.859\" cy=\"302.528\" r=\"9\" fill=\"#140a35\" fill-rule=\"evenodd\" fill-opacity=\"1\" stroke=\"#000000\" stroke-opacity=\"1\" stroke-width=\"3.2\"/>\n",
       "<circle clip-path=\"url(#clip512)\" cx=\"1482.78\" cy=\"735.212\" r=\"5\" fill=\"#02020f\" fill-rule=\"evenodd\" fill-opacity=\"1\" stroke=\"#000000\" stroke-opacity=\"1\" stroke-width=\"3.2\"/>\n",
       "<circle clip-path=\"url(#clip512)\" cx=\"1482.78\" cy=\"1384.24\" r=\"5\" fill=\"#02020f\" fill-rule=\"evenodd\" fill-opacity=\"1\" stroke=\"#000000\" stroke-opacity=\"1\" stroke-width=\"3.2\"/>\n",
       "<circle clip-path=\"url(#clip512)\" cx=\"615.839\" cy=\"735.212\" r=\"7\" fill=\"#08051e\" fill-rule=\"evenodd\" fill-opacity=\"1\" stroke=\"#000000\" stroke-opacity=\"1\" stroke-width=\"3.2\"/>\n",
       "<circle clip-path=\"url(#clip512)\" cx=\"1771.76\" cy=\"86.1857\" r=\"3\" fill=\"#000004\" fill-rule=\"evenodd\" fill-opacity=\"1\" stroke=\"#000000\" stroke-opacity=\"1\" stroke-width=\"3.2\"/>\n",
       "<circle clip-path=\"url(#clip512)\" cx=\"1193.8\" cy=\"735.212\" r=\"6\" fill=\"#040313\" fill-rule=\"evenodd\" fill-opacity=\"1\" stroke=\"#000000\" stroke-opacity=\"1\" stroke-width=\"3.2\"/>\n",
       "<circle clip-path=\"url(#clip512)\" cx=\"1771.76\" cy=\"518.87\" r=\"4\" fill=\"#000006\" fill-rule=\"evenodd\" fill-opacity=\"1\" stroke=\"#000000\" stroke-opacity=\"1\" stroke-width=\"3.2\"/>\n",
       "<circle clip-path=\"url(#clip512)\" cx=\"615.839\" cy=\"86.1857\" r=\"5\" fill=\"#030212\" fill-rule=\"evenodd\" fill-opacity=\"1\" stroke=\"#000000\" stroke-opacity=\"1\" stroke-width=\"3.2\"/>\n",
       "<circle clip-path=\"url(#clip512)\" cx=\"2060.74\" cy=\"86.1857\" r=\"3\" fill=\"#000003\" fill-rule=\"evenodd\" fill-opacity=\"1\" stroke=\"#000000\" stroke-opacity=\"1\" stroke-width=\"3.2\"/>\n",
       "<circle clip-path=\"url(#clip512)\" cx=\"615.839\" cy=\"951.554\" r=\"13\" fill=\"#280b53\" fill-rule=\"evenodd\" fill-opacity=\"1\" stroke=\"#000000\" stroke-opacity=\"1\" stroke-width=\"3.2\"/>\n",
       "<circle clip-path=\"url(#clip512)\" cx=\"1771.76\" cy=\"302.528\" r=\"3\" fill=\"#000004\" fill-rule=\"evenodd\" fill-opacity=\"1\" stroke=\"#000000\" stroke-opacity=\"1\" stroke-width=\"3.2\"/>\n",
       "<circle clip-path=\"url(#clip512)\" cx=\"1771.76\" cy=\"951.554\" r=\"3\" fill=\"#000004\" fill-rule=\"evenodd\" fill-opacity=\"1\" stroke=\"#000000\" stroke-opacity=\"1\" stroke-width=\"3.2\"/>\n",
       "<circle clip-path=\"url(#clip512)\" cx=\"326.859\" cy=\"518.87\" r=\"21\" fill=\"#61136e\" fill-rule=\"evenodd\" fill-opacity=\"1\" stroke=\"#000000\" stroke-opacity=\"1\" stroke-width=\"3.2\"/>\n",
       "<circle clip-path=\"url(#clip512)\" cx=\"904.819\" cy=\"1384.24\" r=\"16\" fill=\"#3b0964\" fill-rule=\"evenodd\" fill-opacity=\"1\" stroke=\"#000000\" stroke-opacity=\"1\" stroke-width=\"3.2\"/>\n",
       "<circle clip-path=\"url(#clip512)\" cx=\"2060.74\" cy=\"951.554\" r=\"5\" fill=\"#030211\" fill-rule=\"evenodd\" fill-opacity=\"1\" stroke=\"#000000\" stroke-opacity=\"1\" stroke-width=\"3.2\"/>\n",
       "<circle clip-path=\"url(#clip512)\" cx=\"1193.8\" cy=\"302.528\" r=\"5\" fill=\"#02010e\" fill-rule=\"evenodd\" fill-opacity=\"1\" stroke=\"#000000\" stroke-opacity=\"1\" stroke-width=\"3.2\"/>\n",
       "<circle clip-path=\"url(#clip512)\" cx=\"2060.74\" cy=\"518.87\" r=\"4\" fill=\"#000006\" fill-rule=\"evenodd\" fill-opacity=\"1\" stroke=\"#000000\" stroke-opacity=\"1\" stroke-width=\"3.2\"/>\n",
       "<circle clip-path=\"url(#clip512)\" cx=\"326.859\" cy=\"1384.24\" r=\"61\" fill=\"#fcfea4\" fill-rule=\"evenodd\" fill-opacity=\"1\" stroke=\"#000000\" stroke-opacity=\"1\" stroke-width=\"3.2\"/>\n",
       "<circle clip-path=\"url(#clip512)\" cx=\"904.819\" cy=\"518.87\" r=\"5\" fill=\"#030211\" fill-rule=\"evenodd\" fill-opacity=\"1\" stroke=\"#000000\" stroke-opacity=\"1\" stroke-width=\"3.2\"/>\n",
       "<circle clip-path=\"url(#clip512)\" cx=\"2060.74\" cy=\"735.212\" r=\"3\" fill=\"#000005\" fill-rule=\"evenodd\" fill-opacity=\"1\" stroke=\"#000000\" stroke-opacity=\"1\" stroke-width=\"3.2\"/>\n",
       "<circle clip-path=\"url(#clip512)\" cx=\"1193.8\" cy=\"951.554\" r=\"6\" fill=\"#040316\" fill-rule=\"evenodd\" fill-opacity=\"1\" stroke=\"#000000\" stroke-opacity=\"1\" stroke-width=\"3.2\"/>\n",
       "<circle clip-path=\"url(#clip512)\" cx=\"904.819\" cy=\"86.1857\" r=\"5\" fill=\"#02020e\" fill-rule=\"evenodd\" fill-opacity=\"1\" stroke=\"#000000\" stroke-opacity=\"1\" stroke-width=\"3.2\"/>\n",
       "<circle clip-path=\"url(#clip512)\" cx=\"615.839\" cy=\"1384.24\" r=\"53\" fill=\"#fbb81c\" fill-rule=\"evenodd\" fill-opacity=\"1\" stroke=\"#000000\" stroke-opacity=\"1\" stroke-width=\"3.2\"/>\n",
       "<circle clip-path=\"url(#clip512)\" cx=\"615.839\" cy=\"302.528\" r=\"53\" fill=\"#fbb81c\" fill-rule=\"evenodd\" fill-opacity=\"1\" stroke=\"#000000\" stroke-opacity=\"1\" stroke-width=\"3.2\"/>\n",
       "<circle clip-path=\"url(#clip512)\" cx=\"2060.74\" cy=\"302.528\" r=\"4\" fill=\"#010008\" fill-rule=\"evenodd\" fill-opacity=\"1\" stroke=\"#000000\" stroke-opacity=\"1\" stroke-width=\"3.2\"/>\n",
       "<circle clip-path=\"url(#clip512)\" cx=\"1771.76\" cy=\"735.212\" r=\"5\" fill=\"#02020e\" fill-rule=\"evenodd\" fill-opacity=\"1\" stroke=\"#000000\" stroke-opacity=\"1\" stroke-width=\"3.2\"/>\n",
       "<circle clip-path=\"url(#clip512)\" cx=\"1482.78\" cy=\"86.1857\" r=\"5\" fill=\"#02020e\" fill-rule=\"evenodd\" fill-opacity=\"1\" stroke=\"#000000\" stroke-opacity=\"1\" stroke-width=\"3.2\"/>\n",
       "<circle clip-path=\"url(#clip512)\" cx=\"904.819\" cy=\"302.528\" r=\"5\" fill=\"#030313\" fill-rule=\"evenodd\" fill-opacity=\"1\" stroke=\"#000000\" stroke-opacity=\"1\" stroke-width=\"3.2\"/>\n",
       "<circle clip-path=\"url(#clip512)\" cx=\"615.839\" cy=\"1167.9\" r=\"34\" fill=\"#b93655\" fill-rule=\"evenodd\" fill-opacity=\"1\" stroke=\"#000000\" stroke-opacity=\"1\" stroke-width=\"3.2\"/>\n",
       "<circle clip-path=\"url(#clip512)\" cx=\"904.819\" cy=\"951.554\" r=\"11\" fill=\"#1a0b40\" fill-rule=\"evenodd\" fill-opacity=\"1\" stroke=\"#000000\" stroke-opacity=\"1\" stroke-width=\"3.2\"/>\n",
       "<circle clip-path=\"url(#clip512)\" cx=\"326.859\" cy=\"951.554\" r=\"53\" fill=\"#fbb61b\" fill-rule=\"evenodd\" fill-opacity=\"1\" stroke=\"#000000\" stroke-opacity=\"1\" stroke-width=\"3.2\"/>\n",
       "<circle clip-path=\"url(#clip512)\" cx=\"1771.76\" cy=\"1167.9\" r=\"8\" fill=\"#0d0828\" fill-rule=\"evenodd\" fill-opacity=\"1\" stroke=\"#000000\" stroke-opacity=\"1\" stroke-width=\"3.2\"/>\n",
       "<circle clip-path=\"url(#clip512)\" cx=\"1193.8\" cy=\"86.1857\" r=\"5\" fill=\"#030210\" fill-rule=\"evenodd\" fill-opacity=\"1\" stroke=\"#000000\" stroke-opacity=\"1\" stroke-width=\"3.2\"/>\n",
       "<circle clip-path=\"url(#clip512)\" cx=\"1193.8\" cy=\"518.87\" r=\"5\" fill=\"#030210\" fill-rule=\"evenodd\" fill-opacity=\"1\" stroke=\"#000000\" stroke-opacity=\"1\" stroke-width=\"3.2\"/>\n",
       "<circle clip-path=\"url(#clip512)\" cx=\"1771.76\" cy=\"1384.24\" r=\"5\" fill=\"#030210\" fill-rule=\"evenodd\" fill-opacity=\"1\" stroke=\"#000000\" stroke-opacity=\"1\" stroke-width=\"3.2\"/>\n",
       "<circle clip-path=\"url(#clip512)\" cx=\"1193.8\" cy=\"1167.9\" r=\"13\" fill=\"#2a0a56\" fill-rule=\"evenodd\" fill-opacity=\"1\" stroke=\"#000000\" stroke-opacity=\"1\" stroke-width=\"3.2\"/>\n",
       "<circle clip-path=\"url(#clip512)\" cx=\"904.819\" cy=\"735.212\" r=\"5\" fill=\"#030211\" fill-rule=\"evenodd\" fill-opacity=\"1\" stroke=\"#000000\" stroke-opacity=\"1\" stroke-width=\"3.2\"/>\n",
       "<circle clip-path=\"url(#clip512)\" cx=\"326.859\" cy=\"1167.9\" r=\"55\" fill=\"#f8cb34\" fill-rule=\"evenodd\" fill-opacity=\"1\" stroke=\"#000000\" stroke-opacity=\"1\" stroke-width=\"3.2\"/>\n",
       "<circle clip-path=\"url(#clip512)\" cx=\"326.859\" cy=\"735.212\" r=\"55\" fill=\"#f8cb34\" fill-rule=\"evenodd\" fill-opacity=\"1\" stroke=\"#000000\" stroke-opacity=\"1\" stroke-width=\"3.2\"/>\n",
       "<circle clip-path=\"url(#clip512)\" cx=\"1482.78\" cy=\"951.554\" r=\"6\" fill=\"#050317\" fill-rule=\"evenodd\" fill-opacity=\"1\" stroke=\"#000000\" stroke-opacity=\"1\" stroke-width=\"3.2\"/>\n",
       "<circle clip-path=\"url(#clip512)\" cx=\"2060.74\" cy=\"1384.24\" r=\"6\" fill=\"#040316\" fill-rule=\"evenodd\" fill-opacity=\"1\" stroke=\"#000000\" stroke-opacity=\"1\" stroke-width=\"3.2\"/>\n",
       "<circle clip-path=\"url(#clip512)\" cx=\"1482.78\" cy=\"1167.9\" r=\"10\" fill=\"#160b39\" fill-rule=\"evenodd\" fill-opacity=\"1\" stroke=\"#000000\" stroke-opacity=\"1\" stroke-width=\"3.2\"/>\n",
       "<circle clip-path=\"url(#clip512)\" cx=\"615.839\" cy=\"518.87\" r=\"6\" fill=\"#06041a\" fill-rule=\"evenodd\" fill-opacity=\"1\" stroke=\"#000000\" stroke-opacity=\"1\" stroke-width=\"3.2\"/>\n",
       "<circle clip-path=\"url(#clip512)\" cx=\"1193.8\" cy=\"1384.24\" r=\"6\" fill=\"#06041a\" fill-rule=\"evenodd\" fill-opacity=\"1\" stroke=\"#000000\" stroke-opacity=\"1\" stroke-width=\"3.2\"/>\n",
       "<circle clip-path=\"url(#clip512)\" cx=\"904.819\" cy=\"1167.9\" r=\"19\" fill=\"#520e6c\" fill-rule=\"evenodd\" fill-opacity=\"1\" stroke=\"#000000\" stroke-opacity=\"1\" stroke-width=\"3.2\"/>\n",
       "<circle clip-path=\"url(#clip512)\" cx=\"2060.74\" cy=\"1167.9\" r=\"8\" fill=\"#0b0724\" fill-rule=\"evenodd\" fill-opacity=\"1\" stroke=\"#000000\" stroke-opacity=\"1\" stroke-width=\"3.2\"/>\n",
       "<circle clip-path=\"url(#clip512)\" cx=\"1482.78\" cy=\"518.87\" r=\"5\" fill=\"#02020e\" fill-rule=\"evenodd\" fill-opacity=\"1\" stroke=\"#000000\" stroke-opacity=\"1\" stroke-width=\"3.2\"/>\n",
       "<defs>\n",
       "  <clipPath id=\"clip513\">\n",
       "    <rect x=\"2160\" y=\"47\" width=\"73\" height=\"1377\"/>\n",
       "  </clipPath>\n",
       "</defs>\n",
       "<g clip-path=\"url(#clip513)\">\n",
       "<image width=\"72\" height=\"1376\" xlink:href=\"data:image/png;base64,\n",
       "iVBORw0KGgoAAAANSUhEUgAAAEgAAAVgCAYAAADsKhu7AAAL6UlEQVR4nO3dwZEjNxBFQVBR/lsh\n",
       "L6UFZIHqHclDpgUTL35wCXTP7Off+/c7/K+/vv0D/DqBgkBBoCBQmPv+/fbP8NMsKAgUBAoChXnv\n",
       "z7d/hp9mQUGgIFAQKAgUHDWCBQWBgkBBoDDPh/TKgoJAQaAgUJh3fUhvLCgIFAQKAgWBgqNGsKAg\n",
       "UBAoCBR8SAcLCgIFgYJAwX1QsKAgUBAoCBQECnMcNVYWFAQKAgWBgvugYEFBoCBQECgIFOa4MFtZ\n",
       "UBAoCBQECnPuP9/+GX6aBQWBgkBBoODSPlhQECgIFAQKAgX3QcGCgkBBoCBQ8CEdLCgIFAQKAgX3\n",
       "QcGCgkBBoCBQECjMx1FjZUFBoCBQECjMuf5XhI0FBYGCQEGgIFBw1AgWFAQKAgWBgqNGsKAgUBAo\n",
       "CBS8HxQsKAgUBAoCBYHCfBw1VhYUBAoCBYGCt1yDBQWBgkBBoOCbdLCgIFAQKAgUBAoePQcLCgIF\n",
       "gYJAwVEjWFAQKAgUBAoCBUeNYEFBoCBQECg4agQLCgIFgYJAYc693/4ZfpoFBYGCQEGgIFBw1AgW\n",
       "FAQKAgWBgkv7YEFBoCBQECj4kA4WFAQKAgWBgkBhPp5qrCwoCBQECgIFR41gQUGgIFAQKAgUvEAV\n",
       "LCgIFAQKAgX3QcGCgkBBoCBQcB8ULCgIFAQKAgWBgvugYEFBoCBQECj4kA4WFAQKAgWBgl/qDRYU\n",
       "BAoCBYGCQMFRI1hQECgIFAQKPqSDBQWBgkBBoCBQ8K9YsKAgUBAoCBR8SAcLCgIFgYJAYc7zIb2x\n",
       "oCBQECgIFAQKjhrBgoJAQaAgUPAhHSwoCBQECgIFH9LBgoJAQaAgUBAozLnv2z/DT7OgIFAQKAgU\n",
       "HDWCBQWBgkBBoCBQcNQIFhQECgIFgYKjRrCgIFAQKAgUfJMOFhQECgIFgYJAYY6TxsqCgkBBoCBQ\n",
       "mPMcNTYWFAQKAgWBgm/SwYKCQEGgIFAQKPhXLFhQECgIFAQK44/g7SwoCBQECgIFgYKjRrCgIFAQ\n",
       "KAgUfEgHCwoCBYGCQGHO/Xz7Z/hpFhQECgIFgYJAYd7zr9jGgoJAQaAgUHAfFCwoCBQECgIF90HB\n",
       "goJAQaAgUBAozLsabdQJAgWBgkDBUSNYUBAoCBQECgKFOR49rywoCBQECgKFeY4aKwsKAgWBgkBh\n",
       "jkv7lTpBoCBQECgIFBw1ggUFgYJAQaDg0j5YUBAoCBQECl7iDOoEgYJAQaAgUPCWa7CgIFAQKAgU\n",
       "XNoHCwoCBYGCQEGgMO9ptFEnCBQECgIF90HBgoJAQaAgUHAfFCwoCBQECgIFgcIc90ErdYJAQaAg\n",
       "UHDUCBYUBAoCBYGCD+lgQUGgIFAQKAgU/NZzsKAgUBAoCBT81nNQJwgUBAoCBYHCPEeNlQUFgYJA\n",
       "QaDgqUawoCBQECgIFPyvCEGdIFAQKAgUBArug4IFBYGCQEGg4D4oWFAQKAgUBAq+SQcLCgIFgYJA\n",
       "QaDgLdegThAoCBQECo4awYKCQEGgIFAQKHiqESwoCBQECgIFR41gQUGgIFAQKPiva4IFBYGCQEGg\n",
       "IFDwv2QGdYJAQaAgUHAfFCwoCBQECgIFT1aDBQWBgkBBoCBQcNQIFhQECgIFgcJcH9IrCwoCBYGC\n",
       "QEGg4LeegzpBoCBQECi4DwoWFAQKAgWBgg/pYEFBoCBQECgIFLxAFSwoCBQECgIFR41gQUGgIFAQ\n",
       "KPiQDhYUBAoCBYGCQMGfpgjqBIGCQEGgMNel/cqCgkBBoCBQECi4MAsWFAQKAgWBgg/pYEFBoCBQ\n",
       "ECj4kA4WFAQKAgWBgkDBH1gKFhQECgIFgYKjRrCgIFAQKAgUfEgHCwoCBYGCQEGg4FcRgjpBoCBQ\n",
       "ECj4VYRgQUGgIFAQKAgUXJgFCwoCBYGCQMGHdLCgIFAQKAgUvMQZLCgIFAQKAgWBgqNGsKAgUBAo\n",
       "CBTmHR/SGwsKAgWBgkDBfVCwoCBQECgIFAQK7oOCBQWBgkBBoOCoESwoCBQECgIFgYKjRrCgIFAQ\n",
       "KAgUHDWCBQWBgkBBoOCbdLCgIFAQKAgUBAr+FQsWFAQKAgWBwly/irCyoCBQECgIFHyTDhYUBAoC\n",
       "BYGCQMGj52BBQaAgUBAozHvf/hF+mwUFgYJAQaAgUHDUCBYUBAoCBYGCv4IXLCgIFAQKAgXfpIMF\n",
       "BYGCQEGgIFDwAlWwoCBQECgIFPwqQrCgIFAQKAgUvB8ULCgIFAQKAgWBgqcawYKCQEGgIFBwaR8s\n",
       "KAgUBAoCBYGCpxrBgoJAQaAgUHAfFCwoCBQECgIFj56DBQWBgkBBoCBQcB8ULCgIFAQKAgWPnoMF\n",
       "BYGCQEGgMPfbP8GPs6AgUBAoCBQECo4awYKCQEGgIFDwflCwoCBQECgIFAQKLsyCBQWBgkBBoOA+\n",
       "KFhQECgIFAQKvkkHCwoCBYGCQEGg4KgRLCgIFAQKAgWPnoMFBYGCQEGgMP4yxc6CgkBBoCBQECg4\n",
       "agQLCgIFgYJAwaPnYEFBoCBQECgIFDx6DhYUBAoCBYGCo0awoCBQECgIFHyTDhYUBAoCBYGCQGGu\n",
       "N6hWFhQECgIFgYL7oGBBQaAgUBAouA8KFhQECgIFgYJAwVEjWFAQKAgUBArzXNqvLCgIFAQKAgWB\n",
       "wtzjwmxjQUGgIFAQKHg/KFhQECgIFAQK/gpesKAgUBAoCBQECv4KXrCgIFAQKAgUPHoOFhQECgIF\n",
       "gYKXOIMFBYGCQEGgIFDwC3XBgoJAQaAgUHDUCBYUBAoCBYGCQMFbrsGCgkBBoCBQ8JZrsKAgUBAo\n",
       "CBR8kw4WFAQKAgWBgkDBW67BgoJAQaAgUPD3g4IFBYGCQEGg4D4oWFAQKAgUBAoCBY+egwUFgYJA\n",
       "QaDgqBEsKAgUBAoCBYGCo0awoCBQECgIFBw1ggUFgYJAQaDgQzpYUBAoCBQECgIF90HBgoJAQaAg\n",
       "UHDUCBYUBAoCBYGCb9LBgoJAQaAgUBAoOGoECwoCBYGCQMHfDwoWFAQKAgWBgkDB/+0TLCgIFAQK\n",
       "AgX3QcGCgkBBoCBQmHd8Sm8sKAgUBAoCBYGCo0awoCBQECgIFDx6DhYUBAoCBYGCJ6vBgoJAQaAg\n",
       "UBAouA8KFhQECgIFgYJHz8GCgkBBoCBQECg4agQLCgIFgYJAwR9YChYUBAoCBYHCXC8IrSwoCBQE\n",
       "CgIFgYIXqIIFBYGCQEGgMM9RY2VBQaAgUBAo+CYdLCgIFAQKAgWBgqcawYKCQEGgIFDwflCwoCBQ\n",
       "ECgIFAQKc/1C3cqCgkBBoCBQcB8ULCgIFAQKAgV/miJYUBAoCBQECgIFL1AFCwoCBYGCQMGlfbCg\n",
       "IFAQKAgU3AcFCwoCBYGCQEGgMPe4EdpYUBAoCBQECu6DggUFgYJAQaAgUPCvWLCgIFAQKAgUPNUI\n",
       "FhQECgIFgYJL+2BBQaAgUBAoCBTmfhw1NhYUBAoCBYGCo0awoCBQECgIFOb5kF5ZUBAoCBQECgIF\n",
       "R41gQUGgIFAQKMz9+JDeWFAQKAgUBAoCBUeNYEFBoCBQECh4qhEsKAgUBAoCBd+kgwUFgYJAQaAg\n",
       "UPCvWLCgIFAQKAgUPHoOFhQECgIFgcK88+fbP8NPs6AgUBAoCBQECu6DggUFgYJAQaDg/aBgQUGg\n",
       "IFAQKAgU5j4XZhsLCgIFgYJAwVEjWFAQKAgUBApzPXpeWVAQKAgUBAoCBUeNYEFBoCBQECg4agQL\n",
       "CgIFgYJAYd7zTXpjQUGgIFAQKAgU3AcFCwoCBYGCQMFLnMGCgkBBoCBQECg4agQLCgIFgYJAYZ6j\n",
       "xsqCgkBBoCBQ8E06WFAQKAgUBAoChbleoFpZUBAoCBQECv7gdrCgIFAQKAgU/CpCsKAgUBAoCBQE\n",
       "Cp5qBAsKAgWBgkDBUSNYUBAoCBQECgIF/4oFCwoCBYGCQMGj52BBQaAgUBAo+CYdLCgIFAQKAgWB\n",
       "whyPnlcWFAQKAgWBgqNGsKAgUBAoCBS8xBksKAgUBAoCBYHCHEeNlQUFgYJAQaDg/aBgQUGgIFAQ\n",
       "KAgUPHoOFhQECgIFgYL7oGBBQaAgUBAozDvv2z/DT7OgIFAQKAgUBArug4IFBYGCQEGgMMdRY2VB\n",
       "QaAgUBAo/AdhU+3PqlcPeQAAAABJRU5ErkJggg==\n",
       "\" transform=\"translate(2161, 47)\"/>\n",
       "</g>\n",
       "<path clip-path=\"url(#clip510)\" d=\"M 0 0 M2280.7 1303.64 Q2277.09 1303.64 2275.26 1307.2 Q2273.45 1310.74 2273.45 1317.87 Q2273.45 1324.98 2275.26 1328.54 Q2277.09 1332.09 2280.7 1332.09 Q2284.33 1332.09 2286.14 1328.54 Q2287.97 1324.98 2287.97 1317.87 Q2287.97 1310.74 2286.14 1307.2 Q2284.33 1303.64 2280.7 1303.64 M2280.7 1299.93 Q2286.51 1299.93 2289.57 1304.54 Q2292.64 1309.12 2292.64 1317.87 Q2292.64 1326.6 2289.57 1331.21 Q2286.51 1335.79 2280.7 1335.79 Q2274.89 1335.79 2271.81 1331.21 Q2268.76 1326.6 2268.76 1317.87 Q2268.76 1309.12 2271.81 1304.54 Q2274.89 1299.93 2280.7 1299.93 Z\" fill=\"#000000\" fill-rule=\"evenodd\" fill-opacity=\"1\" /><path clip-path=\"url(#clip510)\" d=\"M 0 0 M2297.71 1329.24 L2302.6 1329.24 L2302.6 1335.12 L2297.71 1335.12 L2297.71 1329.24 Z\" fill=\"#000000\" fill-rule=\"evenodd\" fill-opacity=\"1\" /><path clip-path=\"url(#clip510)\" d=\"M 0 0 M2321.83 1316.48 Q2325.19 1317.2 2327.07 1319.47 Q2328.96 1321.74 2328.96 1325.07 Q2328.96 1330.19 2325.45 1332.99 Q2321.93 1335.79 2315.45 1335.79 Q2313.27 1335.79 2310.95 1335.35 Q2308.66 1334.93 2306.21 1334.08 L2306.21 1329.56 Q2308.15 1330.7 2310.47 1331.28 Q2312.78 1331.85 2315.31 1331.85 Q2319.7 1331.85 2322 1330.12 Q2324.31 1328.38 2324.31 1325.07 Q2324.31 1322.02 2322.16 1320.3 Q2320.03 1318.57 2316.21 1318.57 L2312.18 1318.57 L2312.18 1314.72 L2316.39 1314.72 Q2319.84 1314.72 2321.67 1313.36 Q2323.5 1311.97 2323.5 1309.38 Q2323.5 1306.72 2321.6 1305.3 Q2319.73 1303.87 2316.21 1303.87 Q2314.29 1303.87 2312.09 1304.28 Q2309.89 1304.7 2307.25 1305.58 L2307.25 1301.41 Q2309.91 1300.67 2312.23 1300.3 Q2314.57 1299.93 2316.63 1299.93 Q2321.95 1299.93 2325.05 1302.36 Q2328.15 1304.77 2328.15 1308.89 Q2328.15 1311.76 2326.51 1313.75 Q2324.87 1315.72 2321.83 1316.48 Z\" fill=\"#000000\" fill-rule=\"evenodd\" fill-opacity=\"1\" /><path clip-path=\"url(#clip510)\" d=\"M 0 0 M2334.08 1300.56 L2352.44 1300.56 L2352.44 1304.49 L2338.36 1304.49 L2338.36 1312.97 Q2339.38 1312.62 2340.4 1312.46 Q2341.42 1312.27 2342.44 1312.27 Q2348.22 1312.27 2351.6 1315.44 Q2354.98 1318.61 2354.98 1324.03 Q2354.98 1329.61 2351.51 1332.71 Q2348.04 1335.79 2341.72 1335.79 Q2339.54 1335.79 2337.27 1335.42 Q2335.03 1335.05 2332.62 1334.31 L2332.62 1329.61 Q2334.7 1330.74 2336.93 1331.3 Q2339.15 1331.85 2341.63 1331.85 Q2345.63 1331.85 2347.97 1329.75 Q2350.31 1327.64 2350.31 1324.03 Q2350.31 1320.42 2347.97 1318.31 Q2345.63 1316.21 2341.63 1316.21 Q2339.75 1316.21 2337.88 1316.62 Q2336.02 1317.04 2334.08 1317.92 L2334.08 1300.56 Z\" fill=\"#000000\" fill-rule=\"evenodd\" fill-opacity=\"1\" /><path clip-path=\"url(#clip510)\" d=\"M 0 0 M2280.7 1118.18 Q2277.09 1118.18 2275.26 1121.75 Q2273.45 1125.29 2273.45 1132.42 Q2273.45 1139.52 2275.26 1143.09 Q2277.09 1146.63 2280.7 1146.63 Q2284.33 1146.63 2286.14 1143.09 Q2287.97 1139.52 2287.97 1132.42 Q2287.97 1125.29 2286.14 1121.75 Q2284.33 1118.18 2280.7 1118.18 M2280.7 1114.48 Q2286.51 1114.48 2289.57 1119.08 Q2292.64 1123.67 2292.64 1132.42 Q2292.64 1141.14 2289.57 1145.75 Q2286.51 1150.33 2280.7 1150.33 Q2274.89 1150.33 2271.81 1145.75 Q2268.76 1141.14 2268.76 1132.42 Q2268.76 1123.67 2271.81 1119.08 Q2274.89 1114.48 2280.7 1114.48 Z\" fill=\"#000000\" fill-rule=\"evenodd\" fill-opacity=\"1\" /><path clip-path=\"url(#clip510)\" d=\"M 0 0 M2297.71 1143.78 L2302.6 1143.78 L2302.6 1149.66 L2297.71 1149.66 L2297.71 1143.78 Z\" fill=\"#000000\" fill-rule=\"evenodd\" fill-opacity=\"1\" /><path clip-path=\"url(#clip510)\" d=\"M 0 0 M2320.51 1119.18 L2308.71 1137.63 L2320.51 1137.63 L2320.51 1119.18 M2319.29 1115.1 L2325.17 1115.1 L2325.17 1137.63 L2330.1 1137.63 L2330.1 1141.51 L2325.17 1141.51 L2325.17 1149.66 L2320.51 1149.66 L2320.51 1141.51 L2304.91 1141.51 L2304.91 1137 L2319.29 1115.1 Z\" fill=\"#000000\" fill-rule=\"evenodd\" fill-opacity=\"1\" /><path clip-path=\"url(#clip510)\" d=\"M 0 0 M2345.17 1118.18 Q2341.56 1118.18 2339.73 1121.75 Q2337.92 1125.29 2337.92 1132.42 Q2337.92 1139.52 2339.73 1143.09 Q2341.56 1146.63 2345.17 1146.63 Q2348.8 1146.63 2350.61 1143.09 Q2352.44 1139.52 2352.44 1132.42 Q2352.44 1125.29 2350.61 1121.75 Q2348.8 1118.18 2345.17 1118.18 M2345.17 1114.48 Q2350.98 1114.48 2354.03 1119.08 Q2357.11 1123.67 2357.11 1132.42 Q2357.11 1141.14 2354.03 1145.75 Q2350.98 1150.33 2345.17 1150.33 Q2339.36 1150.33 2336.28 1145.75 Q2333.22 1141.14 2333.22 1132.42 Q2333.22 1123.67 2336.28 1119.08 Q2339.36 1114.48 2345.17 1114.48 Z\" fill=\"#000000\" fill-rule=\"evenodd\" fill-opacity=\"1\" /><path clip-path=\"url(#clip510)\" d=\"M 0 0 M2280.7 932.725 Q2277.09 932.725 2275.26 936.29 Q2273.45 939.832 2273.45 946.961 Q2273.45 954.068 2275.26 957.632 Q2277.09 961.174 2280.7 961.174 Q2284.33 961.174 2286.14 957.632 Q2287.97 954.068 2287.97 946.961 Q2287.97 939.832 2286.14 936.29 Q2284.33 932.725 2280.7 932.725 M2280.7 929.021 Q2286.51 929.021 2289.57 933.628 Q2292.64 938.211 2292.64 946.961 Q2292.64 955.688 2289.57 960.294 Q2286.51 964.878 2280.7 964.878 Q2274.89 964.878 2271.81 960.294 Q2268.76 955.688 2268.76 946.961 Q2268.76 938.211 2271.81 933.628 Q2274.89 929.021 2280.7 929.021 Z\" fill=\"#000000\" fill-rule=\"evenodd\" fill-opacity=\"1\" /><path clip-path=\"url(#clip510)\" d=\"M 0 0 M2297.71 958.327 L2302.6 958.327 L2302.6 964.206 L2297.71 964.206 L2297.71 958.327 Z\" fill=\"#000000\" fill-rule=\"evenodd\" fill-opacity=\"1\" /><path clip-path=\"url(#clip510)\" d=\"M 0 0 M2320.51 933.721 L2308.71 952.169 L2320.51 952.169 L2320.51 933.721 M2319.29 929.646 L2325.17 929.646 L2325.17 952.169 L2330.1 952.169 L2330.1 956.058 L2325.17 956.058 L2325.17 964.206 L2320.51 964.206 L2320.51 956.058 L2304.91 956.058 L2304.91 951.544 L2319.29 929.646 Z\" fill=\"#000000\" fill-rule=\"evenodd\" fill-opacity=\"1\" /><path clip-path=\"url(#clip510)\" d=\"M 0 0 M2335.21 929.646 L2353.57 929.646 L2353.57 933.582 L2339.5 933.582 L2339.5 942.054 Q2340.51 941.707 2341.53 941.545 Q2342.55 941.359 2343.57 941.359 Q2349.36 941.359 2352.74 944.531 Q2356.12 947.702 2356.12 953.119 Q2356.12 958.697 2352.64 961.799 Q2349.17 964.878 2342.85 964.878 Q2340.68 964.878 2338.41 964.507 Q2336.16 964.137 2333.76 963.396 L2333.76 958.697 Q2335.84 959.831 2338.06 960.387 Q2340.28 960.943 2342.76 960.943 Q2346.76 960.943 2349.1 958.836 Q2351.44 956.73 2351.44 953.119 Q2351.44 949.507 2349.1 947.401 Q2346.76 945.295 2342.76 945.295 Q2340.89 945.295 2339.01 945.711 Q2337.16 946.128 2335.21 947.007 L2335.21 929.646 Z\" fill=\"#000000\" fill-rule=\"evenodd\" fill-opacity=\"1\" /><path clip-path=\"url(#clip510)\" d=\"M 0 0 M2280.7 747.269 Q2277.09 747.269 2275.26 750.834 Q2273.45 754.376 2273.45 761.506 Q2273.45 768.612 2275.26 772.177 Q2277.09 775.718 2280.7 775.718 Q2284.33 775.718 2286.14 772.177 Q2287.97 768.612 2287.97 761.506 Q2287.97 754.376 2286.14 750.834 Q2284.33 747.269 2280.7 747.269 M2280.7 743.566 Q2286.51 743.566 2289.57 748.172 Q2292.64 752.756 2292.64 761.506 Q2292.64 770.232 2289.57 774.839 Q2286.51 779.422 2280.7 779.422 Q2274.89 779.422 2271.81 774.839 Q2268.76 770.232 2268.76 761.506 Q2268.76 752.756 2271.81 748.172 Q2274.89 743.566 2280.7 743.566 Z\" fill=\"#000000\" fill-rule=\"evenodd\" fill-opacity=\"1\" /><path clip-path=\"url(#clip510)\" d=\"M 0 0 M2297.71 772.871 L2302.6 772.871 L2302.6 778.751 L2297.71 778.751 L2297.71 772.871 Z\" fill=\"#000000\" fill-rule=\"evenodd\" fill-opacity=\"1\" /><path clip-path=\"url(#clip510)\" d=\"M 0 0 M2307.71 744.191 L2326.07 744.191 L2326.07 748.126 L2312 748.126 L2312 756.598 Q2313.01 756.251 2314.03 756.089 Q2315.05 755.904 2316.07 755.904 Q2321.86 755.904 2325.24 759.075 Q2328.62 762.246 2328.62 767.663 Q2328.62 773.242 2325.14 776.343 Q2321.67 779.422 2315.35 779.422 Q2313.18 779.422 2310.91 779.052 Q2308.66 778.681 2306.26 777.941 L2306.26 773.242 Q2308.34 774.376 2310.56 774.931 Q2312.78 775.487 2315.26 775.487 Q2319.26 775.487 2321.6 773.38 Q2323.94 771.274 2323.94 767.663 Q2323.94 764.052 2321.6 761.945 Q2319.26 759.839 2315.26 759.839 Q2313.39 759.839 2311.51 760.256 Q2309.66 760.672 2307.71 761.552 L2307.71 744.191 Z\" fill=\"#000000\" fill-rule=\"evenodd\" fill-opacity=\"1\" /><path clip-path=\"url(#clip510)\" d=\"M 0 0 M2343.69 747.269 Q2340.07 747.269 2338.25 750.834 Q2336.44 754.376 2336.44 761.506 Q2336.44 768.612 2338.25 772.177 Q2340.07 775.718 2343.69 775.718 Q2347.32 775.718 2349.13 772.177 Q2350.95 768.612 2350.95 761.506 Q2350.95 754.376 2349.13 750.834 Q2347.32 747.269 2343.69 747.269 M2343.69 743.566 Q2349.5 743.566 2352.55 748.172 Q2355.63 752.756 2355.63 761.506 Q2355.63 770.232 2352.55 774.839 Q2349.5 779.422 2343.69 779.422 Q2337.88 779.422 2334.8 774.839 Q2331.74 770.232 2331.74 761.506 Q2331.74 752.756 2334.8 748.172 Q2337.88 743.566 2343.69 743.566 Z\" fill=\"#000000\" fill-rule=\"evenodd\" fill-opacity=\"1\" /><path clip-path=\"url(#clip510)\" d=\"M 0 0 M2280.7 561.814 Q2277.09 561.814 2275.26 565.379 Q2273.45 568.92 2273.45 576.05 Q2273.45 583.156 2275.26 586.721 Q2277.09 590.263 2280.7 590.263 Q2284.33 590.263 2286.14 586.721 Q2287.97 583.156 2287.97 576.05 Q2287.97 568.92 2286.14 565.379 Q2284.33 561.814 2280.7 561.814 M2280.7 558.11 Q2286.51 558.11 2289.57 562.717 Q2292.64 567.3 2292.64 576.05 Q2292.64 584.777 2289.57 589.383 Q2286.51 593.966 2280.7 593.966 Q2274.89 593.966 2271.81 589.383 Q2268.76 584.777 2268.76 576.05 Q2268.76 567.3 2271.81 562.717 Q2274.89 558.11 2280.7 558.11 Z\" fill=\"#000000\" fill-rule=\"evenodd\" fill-opacity=\"1\" /><path clip-path=\"url(#clip510)\" d=\"M 0 0 M2297.71 587.416 L2302.6 587.416 L2302.6 593.295 L2297.71 593.295 L2297.71 587.416 Z\" fill=\"#000000\" fill-rule=\"evenodd\" fill-opacity=\"1\" /><path clip-path=\"url(#clip510)\" d=\"M 0 0 M2307.71 558.735 L2326.07 558.735 L2326.07 562.67 L2312 562.67 L2312 571.142 Q2313.01 570.795 2314.03 570.633 Q2315.05 570.448 2316.07 570.448 Q2321.86 570.448 2325.24 573.619 Q2328.62 576.791 2328.62 582.207 Q2328.62 587.786 2325.14 590.888 Q2321.67 593.966 2315.35 593.966 Q2313.18 593.966 2310.91 593.596 Q2308.66 593.226 2306.26 592.485 L2306.26 587.786 Q2308.34 588.92 2310.56 589.476 Q2312.78 590.031 2315.26 590.031 Q2319.26 590.031 2321.6 587.925 Q2323.94 585.818 2323.94 582.207 Q2323.94 578.596 2321.6 576.49 Q2319.26 574.383 2315.26 574.383 Q2313.39 574.383 2311.51 574.8 Q2309.66 575.217 2307.71 576.096 L2307.71 558.735 Z\" fill=\"#000000\" fill-rule=\"evenodd\" fill-opacity=\"1\" /><path clip-path=\"url(#clip510)\" d=\"M 0 0 M2333.73 558.735 L2352.09 558.735 L2352.09 562.67 L2338.01 562.67 L2338.01 571.142 Q2339.03 570.795 2340.05 570.633 Q2341.07 570.448 2342.09 570.448 Q2347.88 570.448 2351.26 573.619 Q2354.64 576.791 2354.64 582.207 Q2354.64 587.786 2351.16 590.888 Q2347.69 593.966 2341.37 593.966 Q2339.2 593.966 2336.93 593.596 Q2334.68 593.226 2332.27 592.485 L2332.27 587.786 Q2334.36 588.92 2336.58 589.476 Q2338.8 590.031 2341.28 590.031 Q2345.28 590.031 2347.62 587.925 Q2349.96 585.818 2349.96 582.207 Q2349.96 578.596 2347.62 576.49 Q2345.28 574.383 2341.28 574.383 Q2339.4 574.383 2337.53 574.8 Q2335.68 575.217 2333.73 576.096 L2333.73 558.735 Z\" fill=\"#000000\" fill-rule=\"evenodd\" fill-opacity=\"1\" /><path clip-path=\"url(#clip510)\" d=\"M 0 0 M2280.7 376.358 Q2277.09 376.358 2275.26 379.923 Q2273.45 383.465 2273.45 390.594 Q2273.45 397.701 2275.26 401.265 Q2277.09 404.807 2280.7 404.807 Q2284.33 404.807 2286.14 401.265 Q2287.97 397.701 2287.97 390.594 Q2287.97 383.465 2286.14 379.923 Q2284.33 376.358 2280.7 376.358 M2280.7 372.654 Q2286.51 372.654 2289.57 377.261 Q2292.64 381.844 2292.64 390.594 Q2292.64 399.321 2289.57 403.927 Q2286.51 408.511 2280.7 408.511 Q2274.89 408.511 2271.81 403.927 Q2268.76 399.321 2268.76 390.594 Q2268.76 381.844 2271.81 377.261 Q2274.89 372.654 2280.7 372.654 Z\" fill=\"#000000\" fill-rule=\"evenodd\" fill-opacity=\"1\" /><path clip-path=\"url(#clip510)\" d=\"M 0 0 M2297.71 401.96 L2302.6 401.96 L2302.6 407.839 L2297.71 407.839 L2297.71 401.96 Z\" fill=\"#000000\" fill-rule=\"evenodd\" fill-opacity=\"1\" /><path clip-path=\"url(#clip510)\" d=\"M 0 0 M2318.25 388.696 Q2315.1 388.696 2313.25 390.849 Q2311.42 393.002 2311.42 396.752 Q2311.42 400.478 2313.25 402.654 Q2315.1 404.807 2318.25 404.807 Q2321.39 404.807 2323.22 402.654 Q2325.08 400.478 2325.08 396.752 Q2325.08 393.002 2323.22 390.849 Q2321.39 388.696 2318.25 388.696 M2327.53 374.043 L2327.53 378.303 Q2325.77 377.469 2323.96 377.029 Q2322.18 376.59 2320.42 376.59 Q2315.79 376.59 2313.34 379.715 Q2310.91 382.84 2310.56 389.159 Q2311.93 387.145 2313.99 386.08 Q2316.05 384.992 2318.52 384.992 Q2323.73 384.992 2326.74 388.164 Q2329.77 391.312 2329.77 396.752 Q2329.77 402.076 2326.63 405.293 Q2323.48 408.511 2318.25 408.511 Q2312.25 408.511 2309.08 403.927 Q2305.91 399.321 2305.91 390.594 Q2305.91 382.4 2309.8 377.539 Q2313.69 372.654 2320.24 372.654 Q2322 372.654 2323.78 373.002 Q2325.58 373.349 2327.53 374.043 Z\" fill=\"#000000\" fill-rule=\"evenodd\" fill-opacity=\"1\" /><path clip-path=\"url(#clip510)\" d=\"M 0 0 M2344.84 376.358 Q2341.23 376.358 2339.4 379.923 Q2337.6 383.465 2337.6 390.594 Q2337.6 397.701 2339.4 401.265 Q2341.23 404.807 2344.84 404.807 Q2348.48 404.807 2350.28 401.265 Q2352.11 397.701 2352.11 390.594 Q2352.11 383.465 2350.28 379.923 Q2348.48 376.358 2344.84 376.358 M2344.84 372.654 Q2350.65 372.654 2353.71 377.261 Q2356.79 381.844 2356.79 390.594 Q2356.79 399.321 2353.71 403.927 Q2350.65 408.511 2344.84 408.511 Q2339.03 408.511 2335.95 403.927 Q2332.9 399.321 2332.9 390.594 Q2332.9 381.844 2335.95 377.261 Q2339.03 372.654 2344.84 372.654 Z\" fill=\"#000000\" fill-rule=\"evenodd\" fill-opacity=\"1\" /><path clip-path=\"url(#clip510)\" d=\"M 0 0 M2280.7 190.902 Q2277.09 190.902 2275.26 194.467 Q2273.45 198.009 2273.45 205.139 Q2273.45 212.245 2275.26 215.81 Q2277.09 219.351 2280.7 219.351 Q2284.33 219.351 2286.14 215.81 Q2287.97 212.245 2287.97 205.139 Q2287.97 198.009 2286.14 194.467 Q2284.33 190.902 2280.7 190.902 M2280.7 187.199 Q2286.51 187.199 2289.57 191.805 Q2292.64 196.389 2292.64 205.139 Q2292.64 213.865 2289.57 218.472 Q2286.51 223.055 2280.7 223.055 Q2274.89 223.055 2271.81 218.472 Q2268.76 213.865 2268.76 205.139 Q2268.76 196.389 2271.81 191.805 Q2274.89 187.199 2280.7 187.199 Z\" fill=\"#000000\" fill-rule=\"evenodd\" fill-opacity=\"1\" /><path clip-path=\"url(#clip510)\" d=\"M 0 0 M2297.71 216.504 L2302.6 216.504 L2302.6 222.384 L2297.71 222.384 L2297.71 216.504 Z\" fill=\"#000000\" fill-rule=\"evenodd\" fill-opacity=\"1\" /><path clip-path=\"url(#clip510)\" d=\"M 0 0 M2318.25 203.24 Q2315.1 203.24 2313.25 205.393 Q2311.42 207.546 2311.42 211.296 Q2311.42 215.023 2313.25 217.199 Q2315.1 219.351 2318.25 219.351 Q2321.39 219.351 2323.22 217.199 Q2325.08 215.023 2325.08 211.296 Q2325.08 207.546 2323.22 205.393 Q2321.39 203.24 2318.25 203.24 M2327.53 188.588 L2327.53 192.847 Q2325.77 192.014 2323.96 191.574 Q2322.18 191.134 2320.42 191.134 Q2315.79 191.134 2313.34 194.259 Q2310.91 197.384 2310.56 203.703 Q2311.93 201.689 2313.99 200.625 Q2316.05 199.537 2318.52 199.537 Q2323.73 199.537 2326.74 202.708 Q2329.77 205.856 2329.77 211.296 Q2329.77 216.62 2326.63 219.838 Q2323.48 223.055 2318.25 223.055 Q2312.25 223.055 2309.08 218.472 Q2305.91 213.865 2305.91 205.139 Q2305.91 196.944 2309.8 192.083 Q2313.69 187.199 2320.24 187.199 Q2322 187.199 2323.78 187.546 Q2325.58 187.893 2327.53 188.588 Z\" fill=\"#000000\" fill-rule=\"evenodd\" fill-opacity=\"1\" /><path clip-path=\"url(#clip510)\" d=\"M 0 0 M2334.89 187.824 L2353.25 187.824 L2353.25 191.759 L2339.17 191.759 L2339.17 200.231 Q2340.19 199.884 2341.21 199.722 Q2342.23 199.537 2343.25 199.537 Q2349.03 199.537 2352.41 202.708 Q2355.79 205.879 2355.79 211.296 Q2355.79 216.875 2352.32 219.976 Q2348.85 223.055 2342.53 223.055 Q2340.35 223.055 2338.08 222.685 Q2335.84 222.314 2333.43 221.574 L2333.43 216.875 Q2335.51 218.009 2337.74 218.564 Q2339.96 219.12 2342.44 219.12 Q2346.44 219.12 2348.78 217.013 Q2351.12 214.907 2351.12 211.296 Q2351.12 207.685 2348.78 205.578 Q2346.44 203.472 2342.44 203.472 Q2340.56 203.472 2338.69 203.889 Q2336.83 204.305 2334.89 205.185 L2334.89 187.824 Z\" fill=\"#000000\" fill-rule=\"evenodd\" fill-opacity=\"1\" /><polyline clip-path=\"url(#clip510)\" style=\"stroke:#000000; stroke-width:4; stroke-opacity:1; fill:none\" points=\"\n",
       "  2232.76,1423.18 2232.76,1321.47 2256.76,1321.47 2232.76,1321.47 2232.76,1136.01 2256.76,1136.01 2232.76,1136.01 2232.76,950.555 2256.76,950.555 2232.76,950.555 \n",
       "  2232.76,765.1 2256.76,765.1 2232.76,765.1 2232.76,579.644 2256.76,579.644 2232.76,579.644 2232.76,394.188 2256.76,394.188 2232.76,394.188 2232.76,208.733 \n",
       "  2256.76,208.733 2232.76,208.733 2232.76,47.2441 \n",
       "  \"/>\n",
       "</svg>\n"
      ]
     },
     "execution_count": 103,
     "metadata": {},
     "output_type": "execute_result"
    }
   ],
   "source": [
    "plot(self_tuning_nn)"
   ]
  },
  {
   "cell_type": "code",
   "execution_count": 104,
   "metadata": {},
   "outputs": [
    {
     "data": {
      "text/plain": [
       "(best_model = \u001b[34mNeuralNetworkClassifier{CustomNN,…} @356\u001b[39m,\n",
       " best_fitted_params = (chain = Chain(Chain(Dense(30, 34, σ), Dense(34, 2, σ)), softmax),),)"
      ]
     },
     "execution_count": 104,
     "metadata": {},
     "output_type": "execute_result"
    }
   ],
   "source": [
    "best = fitted_params(self_tuning_nn)\n",
    "best"
   ]
  },
  {
   "cell_type": "code",
   "execution_count": 105,
   "metadata": {},
   "outputs": [
    {
     "data": {
      "text/plain": [
       "NeuralNetworkClassifier(\n",
       "    builder = CustomNN(\n",
       "            n1 = 34,\n",
       "            n2 = 5),\n",
       "    finaliser = NNlib.softmax,\n",
       "    optimiser = ADAM(0.01, (0.9, 0.999), IdDict{Any,Any}()),\n",
       "    loss = Flux.crossentropy,\n",
       "    epochs = 1000,\n",
       "    batch_size = 16,\n",
       "    lambda = 0.0021544346900318843,\n",
       "    alpha = 0.0,\n",
       "    optimiser_changes_trigger_retraining = false)\u001b[34m @356\u001b[39m"
      ]
     },
     "execution_count": 105,
     "metadata": {},
     "output_type": "execute_result"
    }
   ],
   "source": [
    "best.best_model"
   ]
  },
  {
   "cell_type": "code",
   "execution_count": 106,
   "metadata": {
    "scrolled": true
   },
   "outputs": [
    {
     "data": {
      "text/plain": [
       "0.32257748f0"
      ]
     },
     "execution_count": 106,
     "metadata": {},
     "output_type": "execute_result"
    }
   ],
   "source": [
    "best_loss = z.report.best_result.measurement[1]"
   ]
  },
  {
   "cell_type": "code",
   "execution_count": 107,
   "metadata": {},
   "outputs": [
    {
     "data": {
      "text/plain": [
       "(1000, 34, 0.01)"
      ]
     },
     "execution_count": 107,
     "metadata": {},
     "output_type": "execute_result"
    }
   ],
   "source": [
    "b = best.best_model.builder.n1\n",
    "a = best.best_model.epochs\n",
    "c = round(best.best_model.optimiser.eta, digits=5)\n",
    "a,b,c"
   ]
  },
  {
   "cell_type": "code",
   "execution_count": 108,
   "metadata": {},
   "outputs": [],
   "source": [
    "fn = \"Figures/Grid_NN_$(param1):$(a)_x_$(param2):$(c)_bestloss:$(best_loss)_hidden:$b\"\n",
    "png(replace(fn,'.' => ','))"
   ]
  },
  {
   "cell_type": "code",
   "execution_count": null,
   "metadata": {},
   "outputs": [],
   "source": []
  },
  {
   "cell_type": "markdown",
   "metadata": {},
   "source": [
    "### GridSearch for Regularization"
   ]
  },
  {
   "cell_type": "code",
   "execution_count": 109,
   "metadata": {},
   "outputs": [
    {
     "data": {
      "text/plain": [
       "MLJBase.NumericRange(Float64, :lambda, ... )"
      ]
     },
     "execution_count": 109,
     "metadata": {},
     "output_type": "execute_result"
    }
   ],
   "source": [
    "param1 = :epochs\n",
    "param2 = :lambda\n",
    "\n",
    "r1 = range(nn2, param1, lower=100, upper=1000, scale=:linear)\n",
    "r2 = range(nn2, param2, lower=0.0001, upper=1, scale=:log10)"
   ]
  },
  {
   "cell_type": "code",
   "execution_count": 110,
   "metadata": {
    "scrolled": true
   },
   "outputs": [
    {
     "data": {
      "text/plain": [
       "ProbabilisticTunedModel(\n",
       "    model = NeuralNetworkClassifier(\n",
       "            builder = \u001b[34mCustomNN @793\u001b[39m,\n",
       "            finaliser = NNlib.softmax,\n",
       "            optimiser = ADAM(0.00032, (0.9, 0.999), IdDict{Any,Any}()),\n",
       "            loss = Flux.crossentropy,\n",
       "            epochs = 1000,\n",
       "            batch_size = 16,\n",
       "            lambda = 0.0021544346900318843,\n",
       "            alpha = 0.0,\n",
       "            optimiser_changes_trigger_retraining = false),\n",
       "    tuning = Grid(\n",
       "            goal = 50,\n",
       "            resolution = 10,\n",
       "            shuffle = true,\n",
       "            rng = Random._GLOBAL_RNG()),\n",
       "    resampling = Holdout(\n",
       "            fraction_train = 0.7,\n",
       "            shuffle = false,\n",
       "            rng = Random._GLOBAL_RNG()),\n",
       "    measure = cross_entropy(\n",
       "            eps = 2.220446049250313e-16),\n",
       "    weights = nothing,\n",
       "    operation = MLJModelInterface.predict,\n",
       "    range = MLJBase.NumericRange{T,MLJBase.Bounded,Symbol} where T[\u001b[34mNumericRange{Int64,…} @572\u001b[39m, \u001b[34mNumericRange{Float64,…} @294\u001b[39m],\n",
       "    train_best = true,\n",
       "    repeats = 1,\n",
       "    n = nothing,\n",
       "    acceleration = CPUThreads{Int64}(1),\n",
       "    acceleration_resampling = CPU1{Nothing}(nothing),\n",
       "    check_measure = true)\u001b[34m @318\u001b[39m"
      ]
     },
     "execution_count": 110,
     "metadata": {},
     "output_type": "execute_result"
    }
   ],
   "source": [
    "self_tuning_nn_model = TunedModel(model=nn2,\n",
    "                                    tuning=Grid(goal=50),\n",
    "                                    resampling=Holdout(fraction_train=0.7), \n",
    "                                    measure=cross_entropy,\n",
    "                                    acceleration=CPUThreads(),\n",
    "                                    range=[r1, r2])"
   ]
  },
  {
   "cell_type": "code",
   "execution_count": 111,
   "metadata": {},
   "outputs": [
    {
     "data": {
      "text/plain": [
       "\u001b[34mMachine{ProbabilisticTunedModel{Grid,…}} @224\u001b[39m trained 0 times.\n",
       "  args: \n",
       "    1:\t\u001b[34mSource @527\u001b[39m ⏎ `Table{AbstractArray{Continuous,1}}`\n",
       "    2:\t\u001b[34mSource @888\u001b[39m ⏎ `AbstractArray{Multiclass{2},1}`\n"
      ]
     },
     "execution_count": 111,
     "metadata": {},
     "output_type": "execute_result"
    }
   ],
   "source": [
    "self_tuning_nn = machine(self_tuning_nn_model, X_stand, y)"
   ]
  },
  {
   "cell_type": "code",
   "execution_count": 112,
   "metadata": {},
   "outputs": [
    {
     "name": "stderr",
     "output_type": "stream",
     "text": [
      "┌ Info: Training \u001b[34mMachine{ProbabilisticTunedModel{Grid,…}} @224\u001b[39m.\n",
      "└ @ MLJBase /home/andrew/.julia/packages/MLJBase/cJmIS/src/machines.jl:322\n",
      "┌ Info: Attempting to evaluate 49 models.\n",
      "└ @ MLJTuning /home/andrew/.julia/packages/MLJTuning/nuvTc/src/tuned_models.jl:501\n",
      "\u001b[33mEvaluating over 49 metamodels: 100%[=========================] Time: 0:01:36\u001b[39m\n"
     ]
    },
    {
     "data": {
      "text/plain": [
       "\u001b[34mMachine{ProbabilisticTunedModel{Grid,…}} @224\u001b[39m trained 1 time.\n",
       "  args: \n",
       "    1:\t\u001b[34mSource @527\u001b[39m ⏎ `Table{AbstractArray{Continuous,1}}`\n",
       "    2:\t\u001b[34mSource @888\u001b[39m ⏎ `AbstractArray{Multiclass{2},1}`\n"
      ]
     },
     "execution_count": 112,
     "metadata": {},
     "output_type": "execute_result"
    }
   ],
   "source": [
    "z = fit!(self_tuning_nn, rows=train)"
   ]
  },
  {
   "cell_type": "code",
   "execution_count": 113,
   "metadata": {
    "scrolled": false
   },
   "outputs": [
    {
     "data": {
      "image/svg+xml": [
       "<?xml version=\"1.0\" encoding=\"utf-8\"?>\n",
       "<svg xmlns=\"http://www.w3.org/2000/svg\" xmlns:xlink=\"http://www.w3.org/1999/xlink\" width=\"600\" height=\"400\" viewBox=\"0 0 2400 1600\">\n",
       "<defs>\n",
       "  <clipPath id=\"clip560\">\n",
       "    <rect x=\"0\" y=\"0\" width=\"2400\" height=\"1600\"/>\n",
       "  </clipPath>\n",
       "</defs>\n",
       "<path clip-path=\"url(#clip560)\" d=\"\n",
       "M0 1600 L2400 1600 L2400 0 L0 0  Z\n",
       "  \" fill=\"#ffffff\" fill-rule=\"evenodd\" fill-opacity=\"1\"/>\n",
       "<defs>\n",
       "  <clipPath id=\"clip561\">\n",
       "    <rect x=\"480\" y=\"0\" width=\"1681\" height=\"1600\"/>\n",
       "  </clipPath>\n",
       "</defs>\n",
       "<path clip-path=\"url(#clip560)\" d=\"\n",
       "M274.843 1423.18 L2112.76 1423.18 L2112.76 47.2441 L274.843 47.2441  Z\n",
       "  \" fill=\"#ffffff\" fill-rule=\"evenodd\" fill-opacity=\"1\"/>\n",
       "<defs>\n",
       "  <clipPath id=\"clip562\">\n",
       "    <rect x=\"274\" y=\"47\" width=\"1839\" height=\"1377\"/>\n",
       "  </clipPath>\n",
       "</defs>\n",
       "<polyline clip-path=\"url(#clip562)\" style=\"stroke:#000000; stroke-width:2; stroke-opacity:0.1; fill:none\" points=\"\n",
       "  519.513,1423.18 519.513,47.2441 \n",
       "  \"/>\n",
       "<polyline clip-path=\"url(#clip562)\" style=\"stroke:#000000; stroke-width:2; stroke-opacity:0.1; fill:none\" points=\"\n",
       "  904.819,1423.18 904.819,47.2441 \n",
       "  \"/>\n",
       "<polyline clip-path=\"url(#clip562)\" style=\"stroke:#000000; stroke-width:2; stroke-opacity:0.1; fill:none\" points=\"\n",
       "  1290.13,1423.18 1290.13,47.2441 \n",
       "  \"/>\n",
       "<polyline clip-path=\"url(#clip562)\" style=\"stroke:#000000; stroke-width:2; stroke-opacity:0.1; fill:none\" points=\"\n",
       "  1675.43,1423.18 1675.43,47.2441 \n",
       "  \"/>\n",
       "<polyline clip-path=\"url(#clip562)\" style=\"stroke:#000000; stroke-width:2; stroke-opacity:0.1; fill:none\" points=\"\n",
       "  2060.74,1423.18 2060.74,47.2441 \n",
       "  \"/>\n",
       "<polyline clip-path=\"url(#clip562)\" style=\"stroke:#000000; stroke-width:2; stroke-opacity:0.1; fill:none\" points=\"\n",
       "  274.843,1384.24 2112.76,1384.24 \n",
       "  \"/>\n",
       "<polyline clip-path=\"url(#clip562)\" style=\"stroke:#000000; stroke-width:2; stroke-opacity:0.1; fill:none\" points=\"\n",
       "  274.843,1059.73 2112.76,1059.73 \n",
       "  \"/>\n",
       "<polyline clip-path=\"url(#clip562)\" style=\"stroke:#000000; stroke-width:2; stroke-opacity:0.1; fill:none\" points=\"\n",
       "  274.843,735.212 2112.76,735.212 \n",
       "  \"/>\n",
       "<polyline clip-path=\"url(#clip562)\" style=\"stroke:#000000; stroke-width:2; stroke-opacity:0.1; fill:none\" points=\"\n",
       "  274.843,410.699 2112.76,410.699 \n",
       "  \"/>\n",
       "<polyline clip-path=\"url(#clip562)\" style=\"stroke:#000000; stroke-width:2; stroke-opacity:0.1; fill:none\" points=\"\n",
       "  274.843,86.1857 2112.76,86.1857 \n",
       "  \"/>\n",
       "<polyline clip-path=\"url(#clip560)\" style=\"stroke:#000000; stroke-width:4; stroke-opacity:1; fill:none\" points=\"\n",
       "  274.843,1423.18 2112.76,1423.18 \n",
       "  \"/>\n",
       "<polyline clip-path=\"url(#clip560)\" style=\"stroke:#000000; stroke-width:4; stroke-opacity:1; fill:none\" points=\"\n",
       "  274.843,1423.18 274.843,47.2441 \n",
       "  \"/>\n",
       "<polyline clip-path=\"url(#clip560)\" style=\"stroke:#000000; stroke-width:4; stroke-opacity:1; fill:none\" points=\"\n",
       "  519.513,1423.18 519.513,1406.67 \n",
       "  \"/>\n",
       "<polyline clip-path=\"url(#clip560)\" style=\"stroke:#000000; stroke-width:4; stroke-opacity:1; fill:none\" points=\"\n",
       "  904.819,1423.18 904.819,1406.67 \n",
       "  \"/>\n",
       "<polyline clip-path=\"url(#clip560)\" style=\"stroke:#000000; stroke-width:4; stroke-opacity:1; fill:none\" points=\"\n",
       "  1290.13,1423.18 1290.13,1406.67 \n",
       "  \"/>\n",
       "<polyline clip-path=\"url(#clip560)\" style=\"stroke:#000000; stroke-width:4; stroke-opacity:1; fill:none\" points=\"\n",
       "  1675.43,1423.18 1675.43,1406.67 \n",
       "  \"/>\n",
       "<polyline clip-path=\"url(#clip560)\" style=\"stroke:#000000; stroke-width:4; stroke-opacity:1; fill:none\" points=\"\n",
       "  2060.74,1423.18 2060.74,1406.67 \n",
       "  \"/>\n",
       "<polyline clip-path=\"url(#clip560)\" style=\"stroke:#000000; stroke-width:4; stroke-opacity:1; fill:none\" points=\"\n",
       "  274.843,1384.24 296.898,1384.24 \n",
       "  \"/>\n",
       "<polyline clip-path=\"url(#clip560)\" style=\"stroke:#000000; stroke-width:4; stroke-opacity:1; fill:none\" points=\"\n",
       "  274.843,1059.73 296.898,1059.73 \n",
       "  \"/>\n",
       "<polyline clip-path=\"url(#clip560)\" style=\"stroke:#000000; stroke-width:4; stroke-opacity:1; fill:none\" points=\"\n",
       "  274.843,735.212 296.898,735.212 \n",
       "  \"/>\n",
       "<polyline clip-path=\"url(#clip560)\" style=\"stroke:#000000; stroke-width:4; stroke-opacity:1; fill:none\" points=\"\n",
       "  274.843,410.699 296.898,410.699 \n",
       "  \"/>\n",
       "<polyline clip-path=\"url(#clip560)\" style=\"stroke:#000000; stroke-width:4; stroke-opacity:1; fill:none\" points=\"\n",
       "  274.843,86.1857 296.898,86.1857 \n",
       "  \"/>\n",
       "<path clip-path=\"url(#clip560)\" d=\"M 0 0 M487.152 1472.72 L503.471 1472.72 L503.471 1476.65 L481.527 1476.65 L481.527 1472.72 Q484.189 1469.96 488.772 1465.33 Q493.378 1460.68 494.559 1459.34 Q496.804 1456.81 497.684 1455.08 Q498.587 1453.32 498.587 1451.63 Q498.587 1448.87 496.642 1447.14 Q494.721 1445.4 491.619 1445.4 Q489.42 1445.4 486.966 1446.17 Q484.536 1446.93 481.758 1448.48 L481.758 1443.76 Q484.582 1442.62 487.036 1442.05 Q489.49 1441.47 491.527 1441.47 Q496.897 1441.47 500.091 1444.15 Q503.286 1446.84 503.286 1451.33 Q503.286 1453.46 502.476 1455.38 Q501.689 1457.28 499.582 1459.87 Q499.003 1460.54 495.902 1463.76 Q492.8 1466.95 487.152 1472.72 Z\" fill=\"#000000\" fill-rule=\"evenodd\" fill-opacity=\"1\" /><path clip-path=\"url(#clip560)\" d=\"M 0 0 M518.54 1445.17 Q514.929 1445.17 513.101 1448.74 Q511.295 1452.28 511.295 1459.41 Q511.295 1466.51 513.101 1470.08 Q514.929 1473.62 518.54 1473.62 Q522.175 1473.62 523.98 1470.08 Q525.809 1466.51 525.809 1459.41 Q525.809 1452.28 523.98 1448.74 Q522.175 1445.17 518.54 1445.17 M518.54 1441.47 Q524.351 1441.47 527.406 1446.07 Q530.485 1450.66 530.485 1459.41 Q530.485 1468.13 527.406 1472.74 Q524.351 1477.32 518.54 1477.32 Q512.73 1477.32 509.652 1472.74 Q506.596 1468.13 506.596 1459.41 Q506.596 1450.66 509.652 1446.07 Q512.73 1441.47 518.54 1441.47 Z\" fill=\"#000000\" fill-rule=\"evenodd\" fill-opacity=\"1\" /><path clip-path=\"url(#clip560)\" d=\"M 0 0 M545.554 1445.17 Q541.943 1445.17 540.114 1448.74 Q538.309 1452.28 538.309 1459.41 Q538.309 1466.51 540.114 1470.08 Q541.943 1473.62 545.554 1473.62 Q549.188 1473.62 550.994 1470.08 Q552.823 1466.51 552.823 1459.41 Q552.823 1452.28 550.994 1448.74 Q549.188 1445.17 545.554 1445.17 M545.554 1441.47 Q551.364 1441.47 554.42 1446.07 Q557.499 1450.66 557.499 1459.41 Q557.499 1468.13 554.42 1472.74 Q551.364 1477.32 545.554 1477.32 Q539.744 1477.32 536.665 1472.74 Q533.61 1468.13 533.61 1459.41 Q533.61 1450.66 536.665 1446.07 Q539.744 1441.47 545.554 1441.47 Z\" fill=\"#000000\" fill-rule=\"evenodd\" fill-opacity=\"1\" /><path clip-path=\"url(#clip560)\" d=\"M 0 0 M880.815 1446.17 L869.009 1464.61 L880.815 1464.61 L880.815 1446.17 M879.588 1442.09 L885.468 1442.09 L885.468 1464.61 L890.398 1464.61 L890.398 1468.5 L885.468 1468.5 L885.468 1476.65 L880.815 1476.65 L880.815 1468.5 L865.213 1468.5 L865.213 1463.99 L879.588 1442.09 Z\" fill=\"#000000\" fill-rule=\"evenodd\" fill-opacity=\"1\" /><path clip-path=\"url(#clip560)\" d=\"M 0 0 M905.467 1445.17 Q901.856 1445.17 900.028 1448.74 Q898.222 1452.28 898.222 1459.41 Q898.222 1466.51 900.028 1470.08 Q901.856 1473.62 905.467 1473.62 Q909.102 1473.62 910.907 1470.08 Q912.736 1466.51 912.736 1459.41 Q912.736 1452.28 910.907 1448.74 Q909.102 1445.17 905.467 1445.17 M905.467 1441.47 Q911.278 1441.47 914.333 1446.07 Q917.412 1450.66 917.412 1459.41 Q917.412 1468.13 914.333 1472.74 Q911.278 1477.32 905.467 1477.32 Q899.657 1477.32 896.579 1472.74 Q893.523 1468.13 893.523 1459.41 Q893.523 1450.66 896.579 1446.07 Q899.657 1441.47 905.467 1441.47 Z\" fill=\"#000000\" fill-rule=\"evenodd\" fill-opacity=\"1\" /><path clip-path=\"url(#clip560)\" d=\"M 0 0 M932.481 1445.17 Q928.87 1445.17 927.041 1448.74 Q925.236 1452.28 925.236 1459.41 Q925.236 1466.51 927.041 1470.08 Q928.87 1473.62 932.481 1473.62 Q936.115 1473.62 937.921 1470.08 Q939.75 1466.51 939.75 1459.41 Q939.75 1452.28 937.921 1448.74 Q936.115 1445.17 932.481 1445.17 M932.481 1441.47 Q938.291 1441.47 941.347 1446.07 Q944.426 1450.66 944.426 1459.41 Q944.426 1468.13 941.347 1472.74 Q938.291 1477.32 932.481 1477.32 Q926.671 1477.32 923.592 1472.74 Q920.537 1468.13 920.537 1459.41 Q920.537 1450.66 923.592 1446.07 Q926.671 1441.47 932.481 1441.47 Z\" fill=\"#000000\" fill-rule=\"evenodd\" fill-opacity=\"1\" /><path clip-path=\"url(#clip560)\" d=\"M 0 0 M1263.52 1457.51 Q1260.37 1457.51 1258.52 1459.66 Q1256.69 1461.81 1256.69 1465.56 Q1256.69 1469.29 1258.52 1471.47 Q1260.37 1473.62 1263.52 1473.62 Q1266.67 1473.62 1268.49 1471.47 Q1270.35 1469.29 1270.35 1465.56 Q1270.35 1461.81 1268.49 1459.66 Q1266.67 1457.51 1263.52 1457.51 M1272.8 1442.86 L1272.8 1447.11 Q1271.04 1446.28 1269.23 1445.84 Q1267.45 1445.4 1265.69 1445.4 Q1261.06 1445.4 1258.61 1448.53 Q1256.18 1451.65 1255.83 1457.97 Q1257.2 1455.96 1259.26 1454.89 Q1261.32 1453.8 1263.8 1453.8 Q1269 1453.8 1272.01 1456.98 Q1275.05 1460.12 1275.05 1465.56 Q1275.05 1470.89 1271.9 1474.11 Q1268.75 1477.32 1263.52 1477.32 Q1257.52 1477.32 1254.35 1472.74 Q1251.18 1468.13 1251.18 1459.41 Q1251.18 1451.21 1255.07 1446.35 Q1258.96 1441.47 1265.51 1441.47 Q1267.27 1441.47 1269.05 1441.81 Q1270.86 1442.16 1272.8 1442.86 Z\" fill=\"#000000\" fill-rule=\"evenodd\" fill-opacity=\"1\" /><path clip-path=\"url(#clip560)\" d=\"M 0 0 M1290.11 1445.17 Q1286.5 1445.17 1284.67 1448.74 Q1282.87 1452.28 1282.87 1459.41 Q1282.87 1466.51 1284.67 1470.08 Q1286.5 1473.62 1290.11 1473.62 Q1293.75 1473.62 1295.55 1470.08 Q1297.38 1466.51 1297.38 1459.41 Q1297.38 1452.28 1295.55 1448.74 Q1293.75 1445.17 1290.11 1445.17 M1290.11 1441.47 Q1295.92 1441.47 1298.98 1446.07 Q1302.06 1450.66 1302.06 1459.41 Q1302.06 1468.13 1298.98 1472.74 Q1295.92 1477.32 1290.11 1477.32 Q1284.3 1477.32 1281.23 1472.74 Q1278.17 1468.13 1278.17 1459.41 Q1278.17 1450.66 1281.23 1446.07 Q1284.3 1441.47 1290.11 1441.47 Z\" fill=\"#000000\" fill-rule=\"evenodd\" fill-opacity=\"1\" /><path clip-path=\"url(#clip560)\" d=\"M 0 0 M1317.13 1445.17 Q1313.52 1445.17 1311.69 1448.74 Q1309.88 1452.28 1309.88 1459.41 Q1309.88 1466.51 1311.69 1470.08 Q1313.52 1473.62 1317.13 1473.62 Q1320.76 1473.62 1322.57 1470.08 Q1324.4 1466.51 1324.4 1459.41 Q1324.4 1452.28 1322.57 1448.74 Q1320.76 1445.17 1317.13 1445.17 M1317.13 1441.47 Q1322.94 1441.47 1325.99 1446.07 Q1329.07 1450.66 1329.07 1459.41 Q1329.07 1468.13 1325.99 1472.74 Q1322.94 1477.32 1317.13 1477.32 Q1311.32 1477.32 1308.24 1472.74 Q1305.18 1468.13 1305.18 1459.41 Q1305.18 1450.66 1308.24 1446.07 Q1311.32 1441.47 1317.13 1441.47 Z\" fill=\"#000000\" fill-rule=\"evenodd\" fill-opacity=\"1\" /><path clip-path=\"url(#clip560)\" d=\"M 0 0 M1648.42 1460.24 Q1645.09 1460.24 1643.16 1462.02 Q1641.27 1463.8 1641.27 1466.93 Q1641.27 1470.05 1643.16 1471.84 Q1645.09 1473.62 1648.42 1473.62 Q1651.75 1473.62 1653.67 1471.84 Q1655.59 1470.03 1655.59 1466.93 Q1655.59 1463.8 1653.67 1462.02 Q1651.78 1460.24 1648.42 1460.24 M1643.74 1458.25 Q1640.73 1457.51 1639.04 1455.45 Q1637.38 1453.39 1637.38 1450.43 Q1637.38 1446.28 1640.32 1443.87 Q1643.28 1441.47 1648.42 1441.47 Q1653.58 1441.47 1656.52 1443.87 Q1659.46 1446.28 1659.46 1450.43 Q1659.46 1453.39 1657.77 1455.45 Q1656.1 1457.51 1653.12 1458.25 Q1656.5 1459.04 1658.37 1461.33 Q1660.27 1463.62 1660.27 1466.93 Q1660.27 1471.95 1657.19 1474.64 Q1654.14 1477.32 1648.42 1477.32 Q1642.7 1477.32 1639.62 1474.64 Q1636.57 1471.95 1636.57 1466.93 Q1636.57 1463.62 1638.47 1461.33 Q1640.36 1459.04 1643.74 1458.25 M1642.03 1450.86 Q1642.03 1453.55 1643.7 1455.05 Q1645.39 1456.56 1648.42 1456.56 Q1651.43 1456.56 1653.12 1455.05 Q1654.83 1453.55 1654.83 1450.86 Q1654.83 1448.18 1653.12 1446.68 Q1651.43 1445.17 1648.42 1445.17 Q1645.39 1445.17 1643.7 1446.68 Q1642.03 1448.18 1642.03 1450.86 Z\" fill=\"#000000\" fill-rule=\"evenodd\" fill-opacity=\"1\" /><path clip-path=\"url(#clip560)\" d=\"M 0 0 M1675.34 1445.17 Q1671.73 1445.17 1669.9 1448.74 Q1668.09 1452.28 1668.09 1459.41 Q1668.09 1466.51 1669.9 1470.08 Q1671.73 1473.62 1675.34 1473.62 Q1678.97 1473.62 1680.78 1470.08 Q1682.61 1466.51 1682.61 1459.41 Q1682.61 1452.28 1680.78 1448.74 Q1678.97 1445.17 1675.34 1445.17 M1675.34 1441.47 Q1681.15 1441.47 1684.21 1446.07 Q1687.28 1450.66 1687.28 1459.41 Q1687.28 1468.13 1684.21 1472.74 Q1681.15 1477.32 1675.34 1477.32 Q1669.53 1477.32 1666.45 1472.74 Q1663.4 1468.13 1663.4 1459.41 Q1663.4 1450.66 1666.45 1446.07 Q1669.53 1441.47 1675.34 1441.47 Z\" fill=\"#000000\" fill-rule=\"evenodd\" fill-opacity=\"1\" /><path clip-path=\"url(#clip560)\" d=\"M 0 0 M1702.35 1445.17 Q1698.74 1445.17 1696.91 1448.74 Q1695.11 1452.28 1695.11 1459.41 Q1695.11 1466.51 1696.91 1470.08 Q1698.74 1473.62 1702.35 1473.62 Q1705.99 1473.62 1707.79 1470.08 Q1709.62 1466.51 1709.62 1459.41 Q1709.62 1452.28 1707.79 1448.74 Q1705.99 1445.17 1702.35 1445.17 M1702.35 1441.47 Q1708.16 1441.47 1711.22 1446.07 Q1714.3 1450.66 1714.3 1459.41 Q1714.3 1468.13 1711.22 1472.74 Q1708.16 1477.32 1702.35 1477.32 Q1696.54 1477.32 1693.47 1472.74 Q1690.41 1468.13 1690.41 1459.41 Q1690.41 1450.66 1693.47 1446.07 Q1696.54 1441.47 1702.35 1441.47 Z\" fill=\"#000000\" fill-rule=\"evenodd\" fill-opacity=\"1\" /><path clip-path=\"url(#clip560)\" d=\"M 0 0 M2010.6 1472.72 L2018.24 1472.72 L2018.24 1446.35 L2009.93 1448.02 L2009.93 1443.76 L2018.19 1442.09 L2022.87 1442.09 L2022.87 1472.72 L2030.51 1472.72 L2030.51 1476.65 L2010.6 1476.65 L2010.6 1472.72 Z\" fill=\"#000000\" fill-rule=\"evenodd\" fill-opacity=\"1\" /><path clip-path=\"url(#clip560)\" d=\"M 0 0 M2045.58 1445.17 Q2041.97 1445.17 2040.14 1448.74 Q2038.33 1452.28 2038.33 1459.41 Q2038.33 1466.51 2040.14 1470.08 Q2041.97 1473.62 2045.58 1473.62 Q2049.21 1473.62 2051.02 1470.08 Q2052.85 1466.51 2052.85 1459.41 Q2052.85 1452.28 2051.02 1448.74 Q2049.21 1445.17 2045.58 1445.17 M2045.58 1441.47 Q2051.39 1441.47 2054.44 1446.07 Q2057.52 1450.66 2057.52 1459.41 Q2057.52 1468.13 2054.44 1472.74 Q2051.39 1477.32 2045.58 1477.32 Q2039.77 1477.32 2036.69 1472.74 Q2033.63 1468.13 2033.63 1459.41 Q2033.63 1450.66 2036.69 1446.07 Q2039.77 1441.47 2045.58 1441.47 Z\" fill=\"#000000\" fill-rule=\"evenodd\" fill-opacity=\"1\" /><path clip-path=\"url(#clip560)\" d=\"M 0 0 M2072.59 1445.17 Q2068.98 1445.17 2067.15 1448.74 Q2065.35 1452.28 2065.35 1459.41 Q2065.35 1466.51 2067.15 1470.08 Q2068.98 1473.62 2072.59 1473.62 Q2076.23 1473.62 2078.03 1470.08 Q2079.86 1466.51 2079.86 1459.41 Q2079.86 1452.28 2078.03 1448.74 Q2076.23 1445.17 2072.59 1445.17 M2072.59 1441.47 Q2078.4 1441.47 2081.46 1446.07 Q2084.54 1450.66 2084.54 1459.41 Q2084.54 1468.13 2081.46 1472.74 Q2078.4 1477.32 2072.59 1477.32 Q2066.78 1477.32 2063.7 1472.74 Q2060.65 1468.13 2060.65 1459.41 Q2060.65 1450.66 2063.7 1446.07 Q2066.78 1441.47 2072.59 1441.47 Z\" fill=\"#000000\" fill-rule=\"evenodd\" fill-opacity=\"1\" /><path clip-path=\"url(#clip560)\" d=\"M 0 0 M2099.61 1445.17 Q2095.99 1445.17 2094.17 1448.74 Q2092.36 1452.28 2092.36 1459.41 Q2092.36 1466.51 2094.17 1470.08 Q2095.99 1473.62 2099.61 1473.62 Q2103.24 1473.62 2105.04 1470.08 Q2106.87 1466.51 2106.87 1459.41 Q2106.87 1452.28 2105.04 1448.74 Q2103.24 1445.17 2099.61 1445.17 M2099.61 1441.47 Q2105.42 1441.47 2108.47 1446.07 Q2111.55 1450.66 2111.55 1459.41 Q2111.55 1468.13 2108.47 1472.74 Q2105.42 1477.32 2099.61 1477.32 Q2093.79 1477.32 2090.72 1472.74 Q2087.66 1468.13 2087.66 1459.41 Q2087.66 1450.66 2090.72 1446.07 Q2093.79 1441.47 2099.61 1441.47 Z\" fill=\"#000000\" fill-rule=\"evenodd\" fill-opacity=\"1\" /><path clip-path=\"url(#clip560)\" d=\"M 0 0 M159.347 1404.03 L166.986 1404.03 L166.986 1377.67 L158.676 1379.33 L158.676 1375.07 L166.94 1373.41 L171.616 1373.41 L171.616 1404.03 L179.255 1404.03 L179.255 1407.97 L159.347 1407.97 L159.347 1404.03 Z\" fill=\"#000000\" fill-rule=\"evenodd\" fill-opacity=\"1\" /><path clip-path=\"url(#clip560)\" d=\"M 0 0 M194.324 1376.48 Q190.713 1376.48 188.884 1380.05 Q187.079 1383.59 187.079 1390.72 Q187.079 1397.83 188.884 1401.39 Q190.713 1404.93 194.324 1404.93 Q197.958 1404.93 199.764 1401.39 Q201.593 1397.83 201.593 1390.72 Q201.593 1383.59 199.764 1380.05 Q197.958 1376.48 194.324 1376.48 M194.324 1372.78 Q200.134 1372.78 203.19 1377.39 Q206.268 1381.97 206.268 1390.72 Q206.268 1399.45 203.19 1404.05 Q200.134 1408.64 194.324 1408.64 Q188.514 1408.64 185.435 1404.05 Q182.38 1399.45 182.38 1390.72 Q182.38 1381.97 185.435 1377.39 Q188.514 1372.78 194.324 1372.78 Z\" fill=\"#000000\" fill-rule=\"evenodd\" fill-opacity=\"1\" /><path clip-path=\"url(#clip560)\" d=\"M 0 0 M206.268 1368.46 L216.406 1368.46 L216.406 1371.55 L206.268 1371.55 L206.268 1368.46 Z\" fill=\"#000000\" fill-rule=\"evenodd\" fill-opacity=\"1\" /><path clip-path=\"url(#clip560)\" d=\"M 0 0 M243.056 1355.79 L233.464 1370.78 L243.056 1370.78 L243.056 1355.79 M242.06 1352.48 L246.837 1352.48 L246.837 1370.78 L250.843 1370.78 L250.843 1373.94 L246.837 1373.94 L246.837 1380.56 L243.056 1380.56 L243.056 1373.94 L230.38 1373.94 L230.38 1370.27 L242.06 1352.48 Z\" fill=\"#000000\" fill-rule=\"evenodd\" fill-opacity=\"1\" /><path clip-path=\"url(#clip560)\" d=\"M 0 0 M161.322 1079.52 L168.961 1079.52 L168.961 1053.15 L160.651 1054.82 L160.651 1050.56 L168.915 1048.89 L173.591 1048.89 L173.591 1079.52 L181.229 1079.52 L181.229 1083.45 L161.322 1083.45 L161.322 1079.52 Z\" fill=\"#000000\" fill-rule=\"evenodd\" fill-opacity=\"1\" /><path clip-path=\"url(#clip560)\" d=\"M 0 0 M196.299 1051.97 Q192.688 1051.97 190.859 1055.54 Q189.054 1059.08 189.054 1066.21 Q189.054 1073.31 190.859 1076.88 Q192.688 1080.42 196.299 1080.42 Q199.933 1080.42 201.739 1076.88 Q203.567 1073.31 203.567 1066.21 Q203.567 1059.08 201.739 1055.54 Q199.933 1051.97 196.299 1051.97 M196.299 1048.27 Q202.109 1048.27 205.165 1052.87 Q208.243 1057.46 208.243 1066.21 Q208.243 1074.93 205.165 1079.54 Q202.109 1084.12 196.299 1084.12 Q190.489 1084.12 187.41 1079.54 Q184.354 1074.93 184.354 1066.21 Q184.354 1057.46 187.41 1052.87 Q190.489 1048.27 196.299 1048.27 Z\" fill=\"#000000\" fill-rule=\"evenodd\" fill-opacity=\"1\" /><path clip-path=\"url(#clip560)\" d=\"M 0 0 M208.243 1043.95 L218.381 1043.95 L218.381 1047.03 L208.243 1047.03 L208.243 1043.95 Z\" fill=\"#000000\" fill-rule=\"evenodd\" fill-opacity=\"1\" /><path clip-path=\"url(#clip560)\" d=\"M 0 0 M245.05 1040.9 Q247.777 1041.49 249.301 1043.33 Q250.843 1045.17 250.843 1047.88 Q250.843 1052.04 247.984 1054.31 Q245.125 1056.59 239.859 1056.59 Q238.091 1056.59 236.21 1056.23 Q234.348 1055.89 232.355 1055.2 L232.355 1051.53 Q233.935 1052.45 235.815 1052.92 Q237.696 1053.39 239.746 1053.39 Q243.32 1053.39 245.182 1051.98 Q247.062 1050.57 247.062 1047.88 Q247.062 1045.4 245.313 1044.01 Q243.583 1042.59 240.48 1042.59 L237.207 1042.59 L237.207 1039.47 L240.63 1039.47 Q243.433 1039.47 244.918 1038.36 Q246.404 1037.23 246.404 1035.13 Q246.404 1032.97 244.862 1031.82 Q243.339 1030.65 240.48 1030.65 Q238.919 1030.65 237.132 1030.99 Q235.345 1031.33 233.201 1032.04 L233.201 1028.66 Q235.364 1028.06 237.245 1027.76 Q239.144 1027.45 240.818 1027.45 Q245.144 1027.45 247.664 1029.43 Q250.185 1031.39 250.185 1034.73 Q250.185 1037.07 248.849 1038.68 Q247.514 1040.28 245.05 1040.9 Z\" fill=\"#000000\" fill-rule=\"evenodd\" fill-opacity=\"1\" /><path clip-path=\"url(#clip560)\" d=\"M 0 0 M161.98 755.004 L169.619 755.004 L169.619 728.639 L161.309 730.305 L161.309 726.046 L169.573 724.38 L174.249 724.38 L174.249 755.004 L181.888 755.004 L181.888 758.94 L161.98 758.94 L161.98 755.004 Z\" fill=\"#000000\" fill-rule=\"evenodd\" fill-opacity=\"1\" /><path clip-path=\"url(#clip560)\" d=\"M 0 0 M196.957 727.458 Q193.346 727.458 191.517 731.023 Q189.712 734.565 189.712 741.694 Q189.712 748.801 191.517 752.366 Q193.346 755.907 196.957 755.907 Q200.591 755.907 202.397 752.366 Q204.226 748.801 204.226 741.694 Q204.226 734.565 202.397 731.023 Q200.591 727.458 196.957 727.458 M196.957 723.755 Q202.767 723.755 205.823 728.361 Q208.901 732.944 208.901 741.694 Q208.901 750.421 205.823 755.028 Q202.767 759.611 196.957 759.611 Q191.147 759.611 188.068 755.028 Q185.013 750.421 185.013 741.694 Q185.013 732.944 188.068 728.361 Q191.147 723.755 196.957 723.755 Z\" fill=\"#000000\" fill-rule=\"evenodd\" fill-opacity=\"1\" /><path clip-path=\"url(#clip560)\" d=\"M 0 0 M208.901 719.436 L219.039 719.436 L219.039 722.52 L208.901 722.52 L208.901 719.436 Z\" fill=\"#000000\" fill-rule=\"evenodd\" fill-opacity=\"1\" /><path clip-path=\"url(#clip560)\" d=\"M 0 0 M237.583 728.332 L250.843 728.332 L250.843 731.529 L233.013 731.529 L233.013 728.332 Q235.176 726.094 238.9 722.332 Q242.643 718.552 243.602 717.461 Q245.426 715.411 246.141 714 Q246.874 712.571 246.874 711.198 Q246.874 708.96 245.295 707.549 Q243.733 706.139 241.213 706.139 Q239.427 706.139 237.433 706.759 Q235.458 707.38 233.201 708.64 L233.201 704.803 Q235.496 703.882 237.489 703.412 Q239.483 702.941 241.138 702.941 Q245.501 702.941 248.097 705.123 Q250.692 707.305 250.692 710.953 Q250.692 712.684 250.034 714.245 Q249.395 715.787 247.683 717.894 Q247.213 718.439 244.693 721.053 Q242.172 723.649 237.583 728.332 Z\" fill=\"#000000\" fill-rule=\"evenodd\" fill-opacity=\"1\" /><path clip-path=\"url(#clip560)\" d=\"M 0 0 M163.09 430.491 L170.729 430.491 L170.729 404.126 L162.419 405.792 L162.419 401.533 L170.683 399.866 L175.359 399.866 L175.359 430.491 L182.997 430.491 L182.997 434.426 L163.09 434.426 L163.09 430.491 Z\" fill=\"#000000\" fill-rule=\"evenodd\" fill-opacity=\"1\" /><path clip-path=\"url(#clip560)\" d=\"M 0 0 M198.067 402.945 Q194.456 402.945 192.627 406.51 Q190.821 410.052 190.821 417.181 Q190.821 424.288 192.627 427.852 Q194.456 431.394 198.067 431.394 Q201.701 431.394 203.507 427.852 Q205.335 424.288 205.335 417.181 Q205.335 410.052 203.507 406.51 Q201.701 402.945 198.067 402.945 M198.067 399.241 Q203.877 399.241 206.932 403.848 Q210.011 408.431 210.011 417.181 Q210.011 425.908 206.932 430.514 Q203.877 435.098 198.067 435.098 Q192.257 435.098 189.178 430.514 Q186.122 425.908 186.122 417.181 Q186.122 408.431 189.178 403.848 Q192.257 399.241 198.067 399.241 Z\" fill=\"#000000\" fill-rule=\"evenodd\" fill-opacity=\"1\" /><path clip-path=\"url(#clip560)\" d=\"M 0 0 M210.011 394.923 L220.149 394.923 L220.149 398.007 L210.011 398.007 L210.011 394.923 Z\" fill=\"#000000\" fill-rule=\"evenodd\" fill-opacity=\"1\" /><path clip-path=\"url(#clip560)\" d=\"M 0 0 M234.668 403.819 L240.875 403.819 L240.875 382.397 L234.123 383.751 L234.123 380.29 L240.837 378.936 L244.636 378.936 L244.636 403.819 L250.843 403.819 L250.843 407.016 L234.668 407.016 L234.668 403.819 Z\" fill=\"#000000\" fill-rule=\"evenodd\" fill-opacity=\"1\" /><path clip-path=\"url(#clip560)\" d=\"M 0 0 M184.512 105.978 L192.151 105.978 L192.151 79.6125 L183.841 81.2792 L183.841 77.0199 L192.105 75.3533 L196.781 75.3533 L196.781 105.978 L204.419 105.978 L204.419 109.913 L184.512 109.913 L184.512 105.978 Z\" fill=\"#000000\" fill-rule=\"evenodd\" fill-opacity=\"1\" /><path clip-path=\"url(#clip560)\" d=\"M 0 0 M219.489 78.432 Q215.878 78.432 214.049 81.9968 Q212.243 85.5384 212.243 92.668 Q212.243 99.7744 214.049 103.339 Q215.878 106.881 219.489 106.881 Q223.123 106.881 224.929 103.339 Q226.757 99.7744 226.757 92.668 Q226.757 85.5384 224.929 81.9968 Q223.123 78.432 219.489 78.432 M219.489 74.7283 Q225.299 74.7283 228.355 79.3347 Q231.433 83.918 231.433 92.668 Q231.433 101.395 228.355 106.001 Q225.299 110.585 219.489 110.585 Q213.679 110.585 210.6 106.001 Q207.544 101.395 207.544 92.668 Q207.544 83.918 210.6 79.3347 Q213.679 74.7283 219.489 74.7283 Z\" fill=\"#000000\" fill-rule=\"evenodd\" fill-opacity=\"1\" /><path clip-path=\"url(#clip560)\" d=\"M 0 0 M241.138 56.9243 Q238.204 56.9243 236.718 59.8207 Q235.251 62.6983 235.251 68.4911 Q235.251 74.2651 236.718 77.1615 Q238.204 80.0391 241.138 80.0391 Q244.091 80.0391 245.558 77.1615 Q247.044 74.2651 247.044 68.4911 Q247.044 62.6983 245.558 59.8207 Q244.091 56.9243 241.138 56.9243 M241.138 53.9151 Q245.859 53.9151 248.341 57.6578 Q250.843 61.3817 250.843 68.4911 Q250.843 75.5816 248.341 79.3244 Q245.859 83.0483 241.138 83.0483 Q236.417 83.0483 233.916 79.3244 Q231.433 75.5816 231.433 68.4911 Q231.433 61.3817 233.916 57.6578 Q236.417 53.9151 241.138 53.9151 Z\" fill=\"#000000\" fill-rule=\"evenodd\" fill-opacity=\"1\" /><path clip-path=\"url(#clip560)\" d=\"M 0 0 M1124.08 1536.76 L1124.08 1539.62 L1097.15 1539.62 Q1097.53 1545.67 1100.78 1548.85 Q1104.06 1552 1109.88 1552 Q1113.26 1552 1116.41 1551.17 Q1119.59 1550.35 1122.71 1548.69 L1122.71 1554.23 Q1119.56 1555.57 1116.25 1556.27 Q1112.94 1556.97 1109.53 1556.97 Q1101 1556.97 1096.01 1552 Q1091.04 1547.04 1091.04 1538.57 Q1091.04 1529.82 1095.75 1524.69 Q1100.49 1519.54 1108.51 1519.54 Q1115.71 1519.54 1119.88 1524.18 Q1124.08 1528.8 1124.08 1536.76 M1118.22 1535.04 Q1118.16 1530.23 1115.52 1527.37 Q1112.91 1524.5 1108.58 1524.5 Q1103.68 1524.5 1100.72 1527.27 Q1097.79 1530.04 1097.34 1535.07 L1118.22 1535.04 Z\" fill=\"#000000\" fill-rule=\"evenodd\" fill-opacity=\"1\" /><path clip-path=\"url(#clip560)\" d=\"M 0 0 M1135.89 1550.7 L1135.89 1569.6 L1130 1569.6 L1130 1520.4 L1135.89 1520.4 L1135.89 1525.81 Q1137.73 1522.62 1140.53 1521.1 Q1143.37 1519.54 1147.28 1519.54 Q1153.77 1519.54 1157.82 1524.69 Q1161.89 1529.85 1161.89 1538.25 Q1161.89 1546.65 1157.82 1551.81 Q1153.77 1556.97 1147.28 1556.97 Q1143.37 1556.97 1140.53 1555.44 Q1137.73 1553.88 1135.89 1550.7 M1155.81 1538.25 Q1155.81 1531.79 1153.14 1528.13 Q1150.5 1524.44 1145.85 1524.44 Q1141.2 1524.44 1138.53 1528.13 Q1135.89 1531.79 1135.89 1538.25 Q1135.89 1544.71 1138.53 1548.4 Q1141.2 1552.07 1145.85 1552.07 Q1150.5 1552.07 1153.14 1548.4 Q1155.81 1544.71 1155.81 1538.25 Z\" fill=\"#000000\" fill-rule=\"evenodd\" fill-opacity=\"1\" /><path clip-path=\"url(#clip560)\" d=\"M 0 0 M1181.85 1524.5 Q1177.14 1524.5 1174.4 1528.19 Q1171.66 1531.85 1171.66 1538.25 Q1171.66 1544.65 1174.37 1548.34 Q1177.11 1552 1181.85 1552 Q1186.53 1552 1189.26 1548.31 Q1192 1544.62 1192 1538.25 Q1192 1531.92 1189.26 1528.23 Q1186.53 1524.5 1181.85 1524.5 M1181.85 1519.54 Q1189.49 1519.54 1193.85 1524.5 Q1198.21 1529.47 1198.21 1538.25 Q1198.21 1547 1193.85 1552 Q1189.49 1556.97 1181.85 1556.97 Q1174.18 1556.97 1169.82 1552 Q1165.49 1547 1165.49 1538.25 Q1165.49 1529.47 1169.82 1524.5 Q1174.18 1519.54 1181.85 1519.54 Z\" fill=\"#000000\" fill-rule=\"evenodd\" fill-opacity=\"1\" /><path clip-path=\"url(#clip560)\" d=\"M 0 0 M1230 1521.76 L1230 1527.24 Q1227.52 1525.87 1225.01 1525.2 Q1222.52 1524.5 1219.98 1524.5 Q1214.28 1524.5 1211.13 1528.13 Q1207.98 1531.73 1207.98 1538.25 Q1207.98 1544.78 1211.13 1548.4 Q1214.28 1552 1219.98 1552 Q1222.52 1552 1225.01 1551.33 Q1227.52 1550.63 1230 1549.26 L1230 1554.68 Q1227.55 1555.82 1224.91 1556.39 Q1222.3 1556.97 1219.34 1556.97 Q1211.29 1556.97 1206.55 1551.91 Q1201.8 1546.85 1201.8 1538.25 Q1201.8 1529.53 1206.58 1524.53 Q1211.38 1519.54 1219.72 1519.54 Q1222.43 1519.54 1225.01 1520.11 Q1227.59 1520.65 1230 1521.76 Z\" fill=\"#000000\" fill-rule=\"evenodd\" fill-opacity=\"1\" /><path clip-path=\"url(#clip560)\" d=\"M 0 0 M1265.78 1534.53 L1265.78 1556.04 L1259.92 1556.04 L1259.92 1534.72 Q1259.92 1529.66 1257.95 1527.14 Q1255.98 1524.63 1252.03 1524.63 Q1247.29 1524.63 1244.55 1527.65 Q1241.81 1530.68 1241.81 1535.9 L1241.81 1556.04 L1235.92 1556.04 L1235.92 1506.52 L1241.81 1506.52 L1241.81 1525.93 Q1243.91 1522.72 1246.75 1521.13 Q1249.61 1519.54 1253.33 1519.54 Q1259.48 1519.54 1262.63 1523.36 Q1265.78 1527.14 1265.78 1534.53 Z\" fill=\"#000000\" fill-rule=\"evenodd\" fill-opacity=\"1\" /><path clip-path=\"url(#clip560)\" d=\"M 0 0 M1294.65 1521.45 L1294.65 1526.98 Q1292.17 1525.71 1289.49 1525.07 Q1286.82 1524.44 1283.95 1524.44 Q1279.59 1524.44 1277.4 1525.77 Q1275.23 1527.11 1275.23 1529.79 Q1275.23 1531.82 1276.79 1533 Q1278.35 1534.15 1283.06 1535.2 L1285.07 1535.64 Q1291.31 1536.98 1293.92 1539.43 Q1296.56 1541.85 1296.56 1546.21 Q1296.56 1551.17 1292.61 1554.07 Q1288.7 1556.97 1281.82 1556.97 Q1278.96 1556.97 1275.84 1556.39 Q1272.75 1555.85 1269.31 1554.74 L1269.31 1548.69 Q1272.56 1550.38 1275.71 1551.24 Q1278.86 1552.07 1281.95 1552.07 Q1286.09 1552.07 1288.31 1550.66 Q1290.54 1549.23 1290.54 1546.65 Q1290.54 1544.27 1288.92 1542.99 Q1287.33 1541.72 1281.88 1540.54 L1279.85 1540.07 Q1274.41 1538.92 1271.99 1536.56 Q1269.57 1534.18 1269.57 1530.04 Q1269.57 1525.01 1273.13 1522.27 Q1276.7 1519.54 1283.25 1519.54 Q1286.5 1519.54 1289.36 1520.01 Q1292.23 1520.49 1294.65 1521.45 Z\" fill=\"#000000\" fill-rule=\"evenodd\" fill-opacity=\"1\" /><path clip-path=\"url(#clip560)\" d=\"M 0 0 M38.479 837.779 L38.479 831.923 L88.0042 831.923 L88.0042 837.779 L38.479 837.779 Z\" fill=\"#000000\" fill-rule=\"evenodd\" fill-opacity=\"1\" /><path clip-path=\"url(#clip560)\" d=\"M 0 0 M70.0847 809.579 Q70.0847 816.677 71.7079 819.414 Q73.3312 822.152 77.2461 822.152 Q80.3653 822.152 82.2114 820.115 Q84.0256 818.046 84.0256 814.513 Q84.0256 809.643 80.5881 806.715 Q77.1188 803.755 71.3897 803.755 L70.0847 803.755 L70.0847 809.579 M67.6657 797.898 L88.0042 797.898 L88.0042 803.755 L82.5933 803.755 Q85.8398 805.76 87.3994 808.752 Q88.9272 811.744 88.9272 816.072 Q88.9272 821.547 85.8716 824.793 Q82.7843 828.008 77.6281 828.008 Q71.6125 828.008 68.5569 823.998 Q65.5014 819.955 65.5014 811.966 L65.5014 803.755 L64.9285 803.755 Q60.8862 803.755 58.6901 806.428 Q56.4621 809.07 56.4621 813.876 Q56.4621 816.932 57.1941 819.828 Q57.9262 822.725 59.3903 825.398 L53.9795 825.398 Q52.7381 822.183 52.1334 819.16 Q51.4968 816.136 51.4968 813.271 Q51.4968 805.537 55.5072 801.718 Q59.5176 797.898 67.6657 797.898 Z\" fill=\"#000000\" fill-rule=\"evenodd\" fill-opacity=\"1\" /><path clip-path=\"url(#clip560)\" d=\"M 0 0 M59.1993 764.001 Q55.2526 761.805 53.3747 758.749 Q51.4968 755.694 51.4968 751.556 Q51.4968 745.986 55.4117 742.962 Q59.2948 739.939 66.4881 739.939 L88.0042 739.939 L88.0042 745.827 L66.679 745.827 Q61.5546 745.827 59.072 747.641 Q56.5894 749.455 56.5894 753.179 Q56.5894 757.731 59.6131 760.372 Q62.6368 763.014 67.8567 763.014 L88.0042 763.014 L88.0042 768.902 L66.679 768.902 Q61.5228 768.902 59.072 770.717 Q56.5894 772.531 56.5894 776.319 Q56.5894 780.806 59.6449 783.448 Q62.6686 786.09 67.8567 786.09 L88.0042 786.09 L88.0042 791.978 L52.3562 791.978 L52.3562 786.09 L57.8944 786.09 Q54.616 784.085 53.0564 781.284 Q51.4968 778.483 51.4968 774.632 Q51.4968 770.749 53.4702 768.043 Q55.4436 765.306 59.1993 764.001 Z\" fill=\"#000000\" fill-rule=\"evenodd\" fill-opacity=\"1\" /><path clip-path=\"url(#clip560)\" d=\"M 0 0 M70.212 708.205 Q63.7508 708.205 60.0905 710.879 Q56.3984 713.521 56.3984 718.168 Q56.3984 722.815 60.0905 725.488 Q63.7508 728.13 70.212 728.13 Q76.6732 728.13 80.3653 725.488 Q84.0256 722.815 84.0256 718.168 Q84.0256 713.521 80.3653 710.879 Q76.6732 708.205 70.212 708.205 M57.7671 728.13 Q54.5842 726.284 53.0564 723.483 Q51.4968 720.65 51.4968 716.736 Q51.4968 710.242 56.6531 706.2 Q61.8093 702.126 70.212 702.126 Q78.6147 702.126 83.771 706.2 Q88.9272 710.242 88.9272 716.736 Q88.9272 720.65 87.3994 723.483 Q85.8398 726.284 82.657 728.13 L88.0042 728.13 L88.0042 734.018 L38.479 734.018 L38.479 728.13 L57.7671 728.13 Z\" fill=\"#000000\" fill-rule=\"evenodd\" fill-opacity=\"1\" /><path clip-path=\"url(#clip560)\" d=\"M 0 0 M57.7671 672.526 L38.479 672.526 L38.479 666.669 L88.0042 666.669 L88.0042 672.526 L82.657 672.526 Q85.8398 674.372 87.3994 677.204 Q88.9272 680.005 88.9272 683.952 Q88.9272 690.413 83.771 694.487 Q78.6147 698.53 70.212 698.53 Q61.8093 698.53 56.6531 694.487 Q51.4968 690.413 51.4968 683.952 Q51.4968 680.005 53.0564 677.204 Q54.5842 674.372 57.7671 672.526 M70.212 692.482 Q76.6732 692.482 80.3653 689.84 Q84.0256 687.167 84.0256 682.52 Q84.0256 677.873 80.3653 675.199 Q76.6732 672.526 70.212 672.526 Q63.7508 672.526 60.0905 675.199 Q56.3984 677.873 56.3984 682.52 Q56.3984 687.167 60.0905 689.84 Q63.7508 692.482 70.212 692.482 Z\" fill=\"#000000\" fill-rule=\"evenodd\" fill-opacity=\"1\" /><path clip-path=\"url(#clip560)\" d=\"M 0 0 M70.0847 644.326 Q70.0847 651.423 71.7079 654.161 Q73.3312 656.898 77.2461 656.898 Q80.3653 656.898 82.2114 654.861 Q84.0256 652.792 84.0256 649.259 Q84.0256 644.389 80.5881 641.461 Q77.1188 638.501 71.3897 638.501 L70.0847 638.501 L70.0847 644.326 M67.6657 632.645 L88.0042 632.645 L88.0042 638.501 L82.5933 638.501 Q85.8398 640.506 87.3994 643.498 Q88.9272 646.49 88.9272 650.819 Q88.9272 656.293 85.8716 659.54 Q82.7843 662.754 77.6281 662.754 Q71.6125 662.754 68.5569 658.744 Q65.5014 654.702 65.5014 646.713 L65.5014 638.501 L64.9285 638.501 Q60.8862 638.501 58.6901 641.175 Q56.4621 643.816 56.4621 648.622 Q56.4621 651.678 57.1941 654.574 Q57.9262 657.471 59.3903 660.144 L53.9795 660.144 Q52.7381 656.93 52.1334 653.906 Q51.4968 650.882 51.4968 648.018 Q51.4968 640.283 55.5072 636.464 Q59.5176 632.645 67.6657 632.645 Z\" fill=\"#000000\" fill-rule=\"evenodd\" fill-opacity=\"1\" /><circle clip-path=\"url(#clip562)\" cx=\"1482.78\" cy=\"1167.9\" r=\"16\" fill=\"#480b6a\" fill-rule=\"evenodd\" fill-opacity=\"1\" stroke=\"#000000\" stroke-opacity=\"1\" stroke-width=\"3.2\"/>\n",
       "<circle clip-path=\"url(#clip562)\" cx=\"1193.8\" cy=\"302.528\" r=\"18\" fill=\"#59106d\" fill-rule=\"evenodd\" fill-opacity=\"1\" stroke=\"#000000\" stroke-opacity=\"1\" stroke-width=\"3.2\"/>\n",
       "<circle clip-path=\"url(#clip562)\" cx=\"1482.78\" cy=\"86.1857\" r=\"17\" fill=\"#4f0d6c\" fill-rule=\"evenodd\" fill-opacity=\"1\" stroke=\"#000000\" stroke-opacity=\"1\" stroke-width=\"3.2\"/>\n",
       "<circle clip-path=\"url(#clip562)\" cx=\"2060.74\" cy=\"86.1857\" r=\"3\" fill=\"#000003\" fill-rule=\"evenodd\" fill-opacity=\"1\" stroke=\"#000000\" stroke-opacity=\"1\" stroke-width=\"3.2\"/>\n",
       "<circle clip-path=\"url(#clip562)\" cx=\"904.819\" cy=\"735.212\" r=\"22\" fill=\"#751b6d\" fill-rule=\"evenodd\" fill-opacity=\"1\" stroke=\"#000000\" stroke-opacity=\"1\" stroke-width=\"3.2\"/>\n",
       "<circle clip-path=\"url(#clip562)\" cx=\"1482.78\" cy=\"518.87\" r=\"19\" fill=\"#5e126e\" fill-rule=\"evenodd\" fill-opacity=\"1\" stroke=\"#000000\" stroke-opacity=\"1\" stroke-width=\"3.2\"/>\n",
       "<circle clip-path=\"url(#clip562)\" cx=\"1771.76\" cy=\"1384.24\" r=\"13\" fill=\"#370961\" fill-rule=\"evenodd\" fill-opacity=\"1\" stroke=\"#000000\" stroke-opacity=\"1\" stroke-width=\"3.2\"/>\n",
       "<circle clip-path=\"url(#clip562)\" cx=\"904.819\" cy=\"518.87\" r=\"21\" fill=\"#6e186e\" fill-rule=\"evenodd\" fill-opacity=\"1\" stroke=\"#000000\" stroke-opacity=\"1\" stroke-width=\"3.2\"/>\n",
       "<circle clip-path=\"url(#clip562)\" cx=\"1771.76\" cy=\"951.554\" r=\"13\" fill=\"#31095c\" fill-rule=\"evenodd\" fill-opacity=\"1\" stroke=\"#000000\" stroke-opacity=\"1\" stroke-width=\"3.2\"/>\n",
       "<circle clip-path=\"url(#clip562)\" cx=\"615.839\" cy=\"951.554\" r=\"24\" fill=\"#811f6b\" fill-rule=\"evenodd\" fill-opacity=\"1\" stroke=\"#000000\" stroke-opacity=\"1\" stroke-width=\"3.2\"/>\n",
       "<circle clip-path=\"url(#clip562)\" cx=\"1193.8\" cy=\"1167.9\" r=\"19\" fill=\"#5e126e\" fill-rule=\"evenodd\" fill-opacity=\"1\" stroke=\"#000000\" stroke-opacity=\"1\" stroke-width=\"3.2\"/>\n",
       "<circle clip-path=\"url(#clip562)\" cx=\"1482.78\" cy=\"951.554\" r=\"16\" fill=\"#4c0c6b\" fill-rule=\"evenodd\" fill-opacity=\"1\" stroke=\"#000000\" stroke-opacity=\"1\" stroke-width=\"3.2\"/>\n",
       "<circle clip-path=\"url(#clip562)\" cx=\"615.839\" cy=\"735.212\" r=\"22\" fill=\"#721a6d\" fill-rule=\"evenodd\" fill-opacity=\"1\" stroke=\"#000000\" stroke-opacity=\"1\" stroke-width=\"3.2\"/>\n",
       "<circle clip-path=\"url(#clip562)\" cx=\"1193.8\" cy=\"951.554\" r=\"21\" fill=\"#6a176e\" fill-rule=\"evenodd\" fill-opacity=\"1\" stroke=\"#000000\" stroke-opacity=\"1\" stroke-width=\"3.2\"/>\n",
       "<circle clip-path=\"url(#clip562)\" cx=\"326.859\" cy=\"302.528\" r=\"54\" fill=\"#f8cc35\" fill-rule=\"evenodd\" fill-opacity=\"1\" stroke=\"#000000\" stroke-opacity=\"1\" stroke-width=\"3.2\"/>\n",
       "<circle clip-path=\"url(#clip562)\" cx=\"1193.8\" cy=\"735.212\" r=\"21\" fill=\"#6e186e\" fill-rule=\"evenodd\" fill-opacity=\"1\" stroke=\"#000000\" stroke-opacity=\"1\" stroke-width=\"3.2\"/>\n",
       "<circle clip-path=\"url(#clip562)\" cx=\"1771.76\" cy=\"302.528\" r=\"12\" fill=\"#2e0a5a\" fill-rule=\"evenodd\" fill-opacity=\"1\" stroke=\"#000000\" stroke-opacity=\"1\" stroke-width=\"3.2\"/>\n",
       "<circle clip-path=\"url(#clip562)\" cx=\"326.859\" cy=\"1384.24\" r=\"61\" fill=\"#fcfea4\" fill-rule=\"evenodd\" fill-opacity=\"1\" stroke=\"#000000\" stroke-opacity=\"1\" stroke-width=\"3.2\"/>\n",
       "<circle clip-path=\"url(#clip562)\" cx=\"2060.74\" cy=\"735.212\" r=\"7\" fill=\"#0e082a\" fill-rule=\"evenodd\" fill-opacity=\"1\" stroke=\"#000000\" stroke-opacity=\"1\" stroke-width=\"3.2\"/>\n",
       "<circle clip-path=\"url(#clip562)\" cx=\"904.819\" cy=\"1384.24\" r=\"23\" fill=\"#7a1c6c\" fill-rule=\"evenodd\" fill-opacity=\"1\" stroke=\"#000000\" stroke-opacity=\"1\" stroke-width=\"3.2\"/>\n",
       "<circle clip-path=\"url(#clip562)\" cx=\"1771.76\" cy=\"735.212\" r=\"11\" fill=\"#250b50\" fill-rule=\"evenodd\" fill-opacity=\"1\" stroke=\"#000000\" stroke-opacity=\"1\" stroke-width=\"3.2\"/>\n",
       "<circle clip-path=\"url(#clip562)\" cx=\"1482.78\" cy=\"1384.24\" r=\"22\" fill=\"#721a6d\" fill-rule=\"evenodd\" fill-opacity=\"1\" stroke=\"#000000\" stroke-opacity=\"1\" stroke-width=\"3.2\"/>\n",
       "<circle clip-path=\"url(#clip562)\" cx=\"326.859\" cy=\"951.554\" r=\"57\" fill=\"#f1e967\" fill-rule=\"evenodd\" fill-opacity=\"1\" stroke=\"#000000\" stroke-opacity=\"1\" stroke-width=\"3.2\"/>\n",
       "<circle clip-path=\"url(#clip562)\" cx=\"326.859\" cy=\"735.212\" r=\"54\" fill=\"#f7d03c\" fill-rule=\"evenodd\" fill-opacity=\"1\" stroke=\"#000000\" stroke-opacity=\"1\" stroke-width=\"3.2\"/>\n",
       "<circle clip-path=\"url(#clip562)\" cx=\"1193.8\" cy=\"1384.24\" r=\"25\" fill=\"#87216a\" fill-rule=\"evenodd\" fill-opacity=\"1\" stroke=\"#000000\" stroke-opacity=\"1\" stroke-width=\"3.2\"/>\n",
       "<circle clip-path=\"url(#clip562)\" cx=\"904.819\" cy=\"1167.9\" r=\"24\" fill=\"#801e6b\" fill-rule=\"evenodd\" fill-opacity=\"1\" stroke=\"#000000\" stroke-opacity=\"1\" stroke-width=\"3.2\"/>\n",
       "<circle clip-path=\"url(#clip562)\" cx=\"2060.74\" cy=\"302.528\" r=\"6\" fill=\"#08061f\" fill-rule=\"evenodd\" fill-opacity=\"1\" stroke=\"#000000\" stroke-opacity=\"1\" stroke-width=\"3.2\"/>\n",
       "<circle clip-path=\"url(#clip562)\" cx=\"1482.78\" cy=\"302.528\" r=\"16\" fill=\"#4c0c6b\" fill-rule=\"evenodd\" fill-opacity=\"1\" stroke=\"#000000\" stroke-opacity=\"1\" stroke-width=\"3.2\"/>\n",
       "<circle clip-path=\"url(#clip562)\" cx=\"904.819\" cy=\"951.554\" r=\"25\" fill=\"#87216a\" fill-rule=\"evenodd\" fill-opacity=\"1\" stroke=\"#000000\" stroke-opacity=\"1\" stroke-width=\"3.2\"/>\n",
       "<circle clip-path=\"url(#clip562)\" cx=\"2060.74\" cy=\"951.554\" r=\"3\" fill=\"#000003\" fill-rule=\"evenodd\" fill-opacity=\"1\" stroke=\"#000000\" stroke-opacity=\"1\" stroke-width=\"3.2\"/>\n",
       "<circle clip-path=\"url(#clip562)\" cx=\"615.839\" cy=\"1384.24\" r=\"20\" fill=\"#68166e\" fill-rule=\"evenodd\" fill-opacity=\"1\" stroke=\"#000000\" stroke-opacity=\"1\" stroke-width=\"3.2\"/>\n",
       "<circle clip-path=\"url(#clip562)\" cx=\"326.859\" cy=\"518.87\" r=\"53\" fill=\"#f9c72f\" fill-rule=\"evenodd\" fill-opacity=\"1\" stroke=\"#000000\" stroke-opacity=\"1\" stroke-width=\"3.2\"/>\n",
       "<circle clip-path=\"url(#clip562)\" cx=\"1482.78\" cy=\"735.212\" r=\"19\" fill=\"#5e126e\" fill-rule=\"evenodd\" fill-opacity=\"1\" stroke=\"#000000\" stroke-opacity=\"1\" stroke-width=\"3.2\"/>\n",
       "<circle clip-path=\"url(#clip562)\" cx=\"615.839\" cy=\"1167.9\" r=\"24\" fill=\"#7f1e6c\" fill-rule=\"evenodd\" fill-opacity=\"1\" stroke=\"#000000\" stroke-opacity=\"1\" stroke-width=\"3.2\"/>\n",
       "<circle clip-path=\"url(#clip562)\" cx=\"2060.74\" cy=\"518.87\" r=\"8\" fill=\"#10092e\" fill-rule=\"evenodd\" fill-opacity=\"1\" stroke=\"#000000\" stroke-opacity=\"1\" stroke-width=\"3.2\"/>\n",
       "<circle clip-path=\"url(#clip562)\" cx=\"615.839\" cy=\"86.1857\" r=\"23\" fill=\"#7c1d6c\" fill-rule=\"evenodd\" fill-opacity=\"1\" stroke=\"#000000\" stroke-opacity=\"1\" stroke-width=\"3.2\"/>\n",
       "<circle clip-path=\"url(#clip562)\" cx=\"1771.76\" cy=\"86.1857\" r=\"11\" fill=\"#240b4f\" fill-rule=\"evenodd\" fill-opacity=\"1\" stroke=\"#000000\" stroke-opacity=\"1\" stroke-width=\"3.2\"/>\n",
       "<circle clip-path=\"url(#clip562)\" cx=\"1771.76\" cy=\"1167.9\" r=\"13\" fill=\"#31095d\" fill-rule=\"evenodd\" fill-opacity=\"1\" stroke=\"#000000\" stroke-opacity=\"1\" stroke-width=\"3.2\"/>\n",
       "<circle clip-path=\"url(#clip562)\" cx=\"1193.8\" cy=\"86.1857\" r=\"21\" fill=\"#6f186e\" fill-rule=\"evenodd\" fill-opacity=\"1\" stroke=\"#000000\" stroke-opacity=\"1\" stroke-width=\"3.2\"/>\n",
       "<circle clip-path=\"url(#clip562)\" cx=\"2060.74\" cy=\"1384.24\" r=\"11\" fill=\"#280b53\" fill-rule=\"evenodd\" fill-opacity=\"1\" stroke=\"#000000\" stroke-opacity=\"1\" stroke-width=\"3.2\"/>\n",
       "<circle clip-path=\"url(#clip562)\" cx=\"326.859\" cy=\"86.1857\" r=\"57\" fill=\"#f1e866\" fill-rule=\"evenodd\" fill-opacity=\"1\" stroke=\"#000000\" stroke-opacity=\"1\" stroke-width=\"3.2\"/>\n",
       "<circle clip-path=\"url(#clip562)\" cx=\"904.819\" cy=\"302.528\" r=\"24\" fill=\"#7e1e6c\" fill-rule=\"evenodd\" fill-opacity=\"1\" stroke=\"#000000\" stroke-opacity=\"1\" stroke-width=\"3.2\"/>\n",
       "<circle clip-path=\"url(#clip562)\" cx=\"904.819\" cy=\"86.1857\" r=\"19\" fill=\"#5c116e\" fill-rule=\"evenodd\" fill-opacity=\"1\" stroke=\"#000000\" stroke-opacity=\"1\" stroke-width=\"3.2\"/>\n",
       "<circle clip-path=\"url(#clip562)\" cx=\"615.839\" cy=\"302.528\" r=\"21\" fill=\"#6e186e\" fill-rule=\"evenodd\" fill-opacity=\"1\" stroke=\"#000000\" stroke-opacity=\"1\" stroke-width=\"3.2\"/>\n",
       "<circle clip-path=\"url(#clip562)\" cx=\"2060.74\" cy=\"1167.9\" r=\"7\" fill=\"#0d0828\" fill-rule=\"evenodd\" fill-opacity=\"1\" stroke=\"#000000\" stroke-opacity=\"1\" stroke-width=\"3.2\"/>\n",
       "<circle clip-path=\"url(#clip562)\" cx=\"615.839\" cy=\"518.87\" r=\"25\" fill=\"#88216a\" fill-rule=\"evenodd\" fill-opacity=\"1\" stroke=\"#000000\" stroke-opacity=\"1\" stroke-width=\"3.2\"/>\n",
       "<circle clip-path=\"url(#clip562)\" cx=\"1771.76\" cy=\"518.87\" r=\"13\" fill=\"#33095e\" fill-rule=\"evenodd\" fill-opacity=\"1\" stroke=\"#000000\" stroke-opacity=\"1\" stroke-width=\"3.2\"/>\n",
       "<circle clip-path=\"url(#clip562)\" cx=\"1193.8\" cy=\"518.87\" r=\"17\" fill=\"#4d0c6b\" fill-rule=\"evenodd\" fill-opacity=\"1\" stroke=\"#000000\" stroke-opacity=\"1\" stroke-width=\"3.2\"/>\n",
       "<circle clip-path=\"url(#clip562)\" cx=\"326.859\" cy=\"1167.9\" r=\"52\" fill=\"#fbb91e\" fill-rule=\"evenodd\" fill-opacity=\"1\" stroke=\"#000000\" stroke-opacity=\"1\" stroke-width=\"3.2\"/>\n",
       "<defs>\n",
       "  <clipPath id=\"clip563\">\n",
       "    <rect x=\"2160\" y=\"47\" width=\"73\" height=\"1377\"/>\n",
       "  </clipPath>\n",
       "</defs>\n",
       "<g clip-path=\"url(#clip563)\">\n",
       "<image width=\"72\" height=\"1376\" xlink:href=\"data:image/png;base64,\n",
       "iVBORw0KGgoAAAANSUhEUgAAAEgAAAVgCAYAAADsKhu7AAAL6UlEQVR4nO3dwZEjNxBFQVBR/lsh\n",
       "L6UFZIHqHclDpgUTL35wCXTP7Off+/c7/K+/vv0D/DqBgkBBoCBQmPv+/fbP8NMsKAgUBAoChXnv\n",
       "z7d/hp9mQUGgIFAQKAgUHDWCBQWBgkBBoDDPh/TKgoJAQaAgUJh3fUhvLCgIFAQKAgWBgqNGsKAg\n",
       "UBAoCBR8SAcLCgIFgYJAwX1QsKAgUBAoCBQECnMcNVYWFAQKAgWBgvugYEFBoCBQECgIFOa4MFtZ\n",
       "UBAoCBQECnPuP9/+GX6aBQWBgkBBoODSPlhQECgIFAQKAgX3QcGCgkBBoCBQ8CEdLCgIFAQKAgX3\n",
       "QcGCgkBBoCBQECjMx1FjZUFBoCBQECjMuf5XhI0FBYGCQEGgIFBw1AgWFAQKAgWBgqNGsKAgUBAo\n",
       "CBS8HxQsKAgUBAoCBYHCfBw1VhYUBAoCBYGCt1yDBQWBgkBBoOCbdLCgIFAQKAgUBAoePQcLCgIF\n",
       "gYJAwVEjWFAQKAgUBAoCBUeNYEFBoCBQECg4agQLCgIFgYJAYc693/4ZfpoFBYGCQEGgIFBw1AgW\n",
       "FAQKAgWBgkv7YEFBoCBQECj4kA4WFAQKAgWBgkBhPp5qrCwoCBQECgIFR41gQUGgIFAQKAgUvEAV\n",
       "LCgIFAQKAgX3QcGCgkBBoCBQcB8ULCgIFAQKAgWBgvugYEFBoCBQECj4kA4WFAQKAgWBgl/qDRYU\n",
       "BAoCBYGCQMFRI1hQECgIFAQKPqSDBQWBgkBBoCBQ8K9YsKAgUBAoCBR8SAcLCgIFgYJAYc7zIb2x\n",
       "oCBQECgIFAQKjhrBgoJAQaAgUPAhHSwoCBQECgIFH9LBgoJAQaAgUBAozLnv2z/DT7OgIFAQKAgU\n",
       "HDWCBQWBgkBBoCBQcNQIFhQECgIFgYKjRrCgIFAQKAgUfJMOFhQECgIFgYJAYY6TxsqCgkBBoCBQ\n",
       "mPMcNTYWFAQKAgWBgm/SwYKCQEGgIFAQKPhXLFhQECgIFAQK44/g7SwoCBQECgIFgYKjRrCgIFAQ\n",
       "KAgUfEgHCwoCBYGCQGHO/Xz7Z/hpFhQECgIFgYJAYd7zr9jGgoJAQaAgUHAfFCwoCBQECgIF90HB\n",
       "goJAQaAgUBAozLsabdQJAgWBgkDBUSNYUBAoCBQECgKFOR49rywoCBQECgKFeY4aKwsKAgWBgkBh\n",
       "jkv7lTpBoCBQECgIFBw1ggUFgYJAQaDg0j5YUBAoCBQECl7iDOoEgYJAQaAgUPCWa7CgIFAQKAgU\n",
       "XNoHCwoCBYGCQEGgMO9ptFEnCBQECgIF90HBgoJAQaAgUHAfFCwoCBQECgIFgcIc90ErdYJAQaAg\n",
       "UHDUCBYUBAoCBYGCD+lgQUGgIFAQKAgU/NZzsKAgUBAoCBT81nNQJwgUBAoCBYHCPEeNlQUFgYJA\n",
       "QaDgqUawoCBQECgIFPyvCEGdIFAQKAgUBArug4IFBYGCQEGg4D4oWFAQKAgUBAq+SQcLCgIFgYJA\n",
       "QaDgLdegThAoCBQECo4awYKCQEGgIFAQKHiqESwoCBQECgIFR41gQUGgIFAQKPiva4IFBYGCQEGg\n",
       "IFDwv2QGdYJAQaAgUHAfFCwoCBQECgIFT1aDBQWBgkBBoCBQcNQIFhQECgIFgcJcH9IrCwoCBYGC\n",
       "QEGg4LeegzpBoCBQECi4DwoWFAQKAgWBgg/pYEFBoCBQECgIFLxAFSwoCBQECgIFR41gQUGgIFAQ\n",
       "KPiQDhYUBAoCBYGCQMGfpgjqBIGCQEGgMNel/cqCgkBBoCBQECi4MAsWFAQKAgWBgg/pYEFBoCBQ\n",
       "ECj4kA4WFAQKAgWBgkDBH1gKFhQECgIFgYKjRrCgIFAQKAgUfEgHCwoCBYGCQEGg4FcRgjpBoCBQ\n",
       "ECj4VYRgQUGgIFAQKAgUXJgFCwoCBYGCQMGHdLCgIFAQKAgUvMQZLCgIFAQKAgWBgqNGsKAgUBAo\n",
       "CBTmHR/SGwsKAgWBgkDBfVCwoCBQECgIFAQK7oOCBQWBgkBBoOCoESwoCBQECgIFgYKjRrCgIFAQ\n",
       "KAgUHDWCBQWBgkBBoOCbdLCgIFAQKAgUBAr+FQsWFAQKAgWBwly/irCyoCBQECgIFHyTDhYUBAoC\n",
       "BYGCQMGj52BBQaAgUBAozHvf/hF+mwUFgYJAQaAgUHDUCBYUBAoCBYGCv4IXLCgIFAQKAgXfpIMF\n",
       "BYGCQEGgIFDwAlWwoCBQECgIFPwqQrCgIFAQKAgUvB8ULCgIFAQKAgWBgqcawYKCQEGgIFBwaR8s\n",
       "KAgUBAoCBYGCpxrBgoJAQaAgUHAfFCwoCBQECgIFj56DBQWBgkBBoCBQcB8ULCgIFAQKAgWPnoMF\n",
       "BYGCQEGgMPfbP8GPs6AgUBAoCBQECo4awYKCQEGgIFDwflCwoCBQECgIFAQKLsyCBQWBgkBBoOA+\n",
       "KFhQECgIFAQKvkkHCwoCBYGCQEGg4KgRLCgIFAQKAgWPnoMFBYGCQEGgMP4yxc6CgkBBoCBQECg4\n",
       "agQLCgIFgYJAwaPnYEFBoCBQECgIFDx6DhYUBAoCBYGCo0awoCBQECgIFHyTDhYUBAoCBYGCQGGu\n",
       "N6hWFhQECgIFgYL7oGBBQaAgUBAouA8KFhQECgIFgYJAwVEjWFAQKAgUBArzXNqvLCgIFAQKAgWB\n",
       "wtzjwmxjQUGgIFAQKHg/KFhQECgIFAQK/gpesKAgUBAoCBQECv4KXrCgIFAQKAgUPHoOFhQECgIF\n",
       "gYKXOIMFBYGCQEGgIFDwC3XBgoJAQaAgUHDUCBYUBAoCBYGCQMFbrsGCgkBBoCBQ8JZrsKAgUBAo\n",
       "CBR8kw4WFAQKAgWBgkDBW67BgoJAQaAgUPD3g4IFBYGCQEGg4D4oWFAQKAgUBAoCBY+egwUFgYJA\n",
       "QaDgqBEsKAgUBAoCBYGCo0awoCBQECgIFBw1ggUFgYJAQaDgQzpYUBAoCBQECgIF90HBgoJAQaAg\n",
       "UHDUCBYUBAoCBYGCb9LBgoJAQaAgUBAoOGoECwoCBYGCQMHfDwoWFAQKAgWBgkDB/+0TLCgIFAQK\n",
       "AgX3QcGCgkBBoCBQmHd8Sm8sKAgUBAoCBYGCo0awoCBQECgIFDx6DhYUBAoCBYGCJ6vBgoJAQaAg\n",
       "UBAouA8KFhQECgIFgYJHz8GCgkBBoCBQECg4agQLCgIFgYJAwR9YChYUBAoCBYHCXC8IrSwoCBQE\n",
       "CgIFgYIXqIIFBYGCQEGgMM9RY2VBQaAgUBAo+CYdLCgIFAQKAgWBgqcawYKCQEGgIFDwflCwoCBQ\n",
       "ECgIFAQKc/1C3cqCgkBBoCBQcB8ULCgIFAQKAgV/miJYUBAoCBQECgIFL1AFCwoCBYGCQMGlfbCg\n",
       "IFAQKAgU3AcFCwoCBYGCQEGgMPe4EdpYUBAoCBQECu6DggUFgYJAQaAgUPCvWLCgIFAQKAgUPNUI\n",
       "FhQECgIFgYJL+2BBQaAgUBAoCBTmfhw1NhYUBAoCBYGCo0awoCBQECgIFOb5kF5ZUBAoCBQECgIF\n",
       "R41gQUGgIFAQKMz9+JDeWFAQKAgUBAoCBUeNYEFBoCBQECh4qhEsKAgUBAoCBd+kgwUFgYJAQaAg\n",
       "UPCvWLCgIFAQKAgUPHoOFhQECgIFgcK88+fbP8NPs6AgUBAoCBQECu6DggUFgYJAQaDg/aBgQUGg\n",
       "IFAQKAgU5j4XZhsLCgIFgYJAwVEjWFAQKAgUBApzPXpeWVAQKAgUBAoCBUeNYEFBoCBQECg4agQL\n",
       "CgIFgYJAYd7zTXpjQUGgIFAQKAgU3AcFCwoCBYGCQMFLnMGCgkBBoCBQECg4agQLCgIFgYJAYZ6j\n",
       "xsqCgkBBoCBQ8E06WFAQKAgUBAoChbleoFpZUBAoCBQECv7gdrCgIFAQKAgU/CpCsKAgUBAoCBQE\n",
       "Cp5qBAsKAgWBgkDBUSNYUBAoCBQECgIF/4oFCwoCBYGCQMGj52BBQaAgUBAo+CYdLCgIFAQKAgWB\n",
       "whyPnlcWFAQKAgWBgqNGsKAgUBAoCBS8xBksKAgUBAoCBYHCHEeNlQUFgYJAQaDg/aBgQUGgIFAQ\n",
       "KAgUPHoOFhQECgIFgYL7oGBBQaAgUBAozDvv2z/DT7OgIFAQKAgUBArug4IFBYGCQEGgMMdRY2VB\n",
       "QaAgUBAo/AdhU+3PqlcPeQAAAABJRU5ErkJggg==\n",
       "\" transform=\"translate(2161, 47)\"/>\n",
       "</g>\n",
       "<path clip-path=\"url(#clip560)\" d=\"M 0 0 M2280.7 1231.78 Q2277.09 1231.78 2275.26 1235.35 Q2273.45 1238.89 2273.45 1246.02 Q2273.45 1253.12 2275.26 1256.69 Q2277.09 1260.23 2280.7 1260.23 Q2284.33 1260.23 2286.14 1256.69 Q2287.97 1253.12 2287.97 1246.02 Q2287.97 1238.89 2286.14 1235.35 Q2284.33 1231.78 2280.7 1231.78 M2280.7 1228.08 Q2286.51 1228.08 2289.57 1232.68 Q2292.64 1237.27 2292.64 1246.02 Q2292.64 1254.74 2289.57 1259.35 Q2286.51 1263.93 2280.7 1263.93 Q2274.89 1263.93 2271.81 1259.35 Q2268.76 1254.74 2268.76 1246.02 Q2268.76 1237.27 2271.81 1232.68 Q2274.89 1228.08 2280.7 1228.08 Z\" fill=\"#000000\" fill-rule=\"evenodd\" fill-opacity=\"1\" /><path clip-path=\"url(#clip560)\" d=\"M 0 0 M2297.71 1257.38 L2302.6 1257.38 L2302.6 1263.26 L2297.71 1263.26 L2297.71 1257.38 Z\" fill=\"#000000\" fill-rule=\"evenodd\" fill-opacity=\"1\" /><path clip-path=\"url(#clip560)\" d=\"M 0 0 M2321.83 1244.63 Q2325.19 1245.35 2327.07 1247.61 Q2328.96 1249.88 2328.96 1253.22 Q2328.96 1258.33 2325.45 1261.13 Q2321.93 1263.93 2315.45 1263.93 Q2313.27 1263.93 2310.95 1263.49 Q2308.66 1263.08 2306.21 1262.22 L2306.21 1257.71 Q2308.15 1258.84 2310.47 1259.42 Q2312.78 1260 2315.31 1260 Q2319.7 1260 2322 1258.26 Q2324.31 1256.53 2324.31 1253.22 Q2324.31 1250.16 2322.16 1248.45 Q2320.03 1246.71 2316.21 1246.71 L2312.18 1246.71 L2312.18 1242.87 L2316.39 1242.87 Q2319.84 1242.87 2321.67 1241.5 Q2323.5 1240.11 2323.5 1237.52 Q2323.5 1234.86 2321.6 1233.45 Q2319.73 1232.01 2316.21 1232.01 Q2314.29 1232.01 2312.09 1232.43 Q2309.89 1232.85 2307.25 1233.73 L2307.25 1229.56 Q2309.91 1228.82 2312.23 1228.45 Q2314.57 1228.08 2316.63 1228.08 Q2321.95 1228.08 2325.05 1230.51 Q2328.15 1232.92 2328.15 1237.04 Q2328.15 1239.91 2326.51 1241.9 Q2324.87 1243.86 2321.83 1244.63 Z\" fill=\"#000000\" fill-rule=\"evenodd\" fill-opacity=\"1\" /><path clip-path=\"url(#clip560)\" d=\"M 0 0 M2348.2 1244.63 Q2351.56 1245.35 2353.43 1247.61 Q2355.33 1249.88 2355.33 1253.22 Q2355.33 1258.33 2351.81 1261.13 Q2348.29 1263.93 2341.81 1263.93 Q2339.64 1263.93 2337.32 1263.49 Q2335.03 1263.08 2332.58 1262.22 L2332.58 1257.71 Q2334.52 1258.84 2336.83 1259.42 Q2339.15 1260 2341.67 1260 Q2346.07 1260 2348.36 1258.26 Q2350.68 1256.53 2350.68 1253.22 Q2350.68 1250.16 2348.52 1248.45 Q2346.39 1246.71 2342.57 1246.71 L2338.55 1246.71 L2338.55 1242.87 L2342.76 1242.87 Q2346.21 1242.87 2348.04 1241.5 Q2349.87 1240.11 2349.87 1237.52 Q2349.87 1234.86 2347.97 1233.45 Q2346.09 1232.01 2342.57 1232.01 Q2340.65 1232.01 2338.45 1232.43 Q2336.26 1232.85 2333.62 1233.73 L2333.62 1229.56 Q2336.28 1228.82 2338.59 1228.45 Q2340.93 1228.08 2342.99 1228.08 Q2348.32 1228.08 2351.42 1230.51 Q2354.52 1232.92 2354.52 1237.04 Q2354.52 1239.91 2352.88 1241.9 Q2351.23 1243.86 2348.2 1244.63 Z\" fill=\"#000000\" fill-rule=\"evenodd\" fill-opacity=\"1\" /><path clip-path=\"url(#clip560)\" d=\"M 0 0 M2370.4 1231.78 Q2366.79 1231.78 2364.96 1235.35 Q2363.15 1238.89 2363.15 1246.02 Q2363.15 1253.12 2364.96 1256.69 Q2366.79 1260.23 2370.4 1260.23 Q2374.03 1260.23 2375.84 1256.69 Q2377.67 1253.12 2377.67 1246.02 Q2377.67 1238.89 2375.84 1235.35 Q2374.03 1231.78 2370.4 1231.78 M2370.4 1228.08 Q2376.21 1228.08 2379.26 1232.68 Q2382.34 1237.27 2382.34 1246.02 Q2382.34 1254.74 2379.26 1259.35 Q2376.21 1263.93 2370.4 1263.93 Q2364.59 1263.93 2361.51 1259.35 Q2358.45 1254.74 2358.45 1246.02 Q2358.45 1237.27 2361.51 1232.68 Q2364.59 1228.08 2370.4 1228.08 Z\" fill=\"#000000\" fill-rule=\"evenodd\" fill-opacity=\"1\" /><path clip-path=\"url(#clip560)\" d=\"M 0 0 M2280.7 1025.21 Q2277.09 1025.21 2275.26 1028.77 Q2273.45 1032.32 2273.45 1039.45 Q2273.45 1046.55 2275.26 1050.12 Q2277.09 1053.66 2280.7 1053.66 Q2284.33 1053.66 2286.14 1050.12 Q2287.97 1046.55 2287.97 1039.45 Q2287.97 1032.32 2286.14 1028.77 Q2284.33 1025.21 2280.7 1025.21 M2280.7 1021.51 Q2286.51 1021.51 2289.57 1026.11 Q2292.64 1030.7 2292.64 1039.45 Q2292.64 1048.17 2289.57 1052.78 Q2286.51 1057.36 2280.7 1057.36 Q2274.89 1057.36 2271.81 1052.78 Q2268.76 1048.17 2268.76 1039.45 Q2268.76 1030.7 2271.81 1026.11 Q2274.89 1021.51 2280.7 1021.51 Z\" fill=\"#000000\" fill-rule=\"evenodd\" fill-opacity=\"1\" /><path clip-path=\"url(#clip560)\" d=\"M 0 0 M2297.71 1050.81 L2302.6 1050.81 L2302.6 1056.69 L2297.71 1056.69 L2297.71 1050.81 Z\" fill=\"#000000\" fill-rule=\"evenodd\" fill-opacity=\"1\" /><path clip-path=\"url(#clip560)\" d=\"M 0 0 M2321.83 1038.06 Q2325.19 1038.77 2327.07 1041.04 Q2328.96 1043.31 2328.96 1046.64 Q2328.96 1051.76 2325.45 1054.56 Q2321.93 1057.36 2315.45 1057.36 Q2313.27 1057.36 2310.95 1056.92 Q2308.66 1056.51 2306.21 1055.65 L2306.21 1051.14 Q2308.15 1052.27 2310.47 1052.85 Q2312.78 1053.43 2315.31 1053.43 Q2319.7 1053.43 2322 1051.69 Q2324.31 1049.95 2324.31 1046.64 Q2324.31 1043.59 2322.16 1041.88 Q2320.03 1040.14 2316.21 1040.14 L2312.18 1040.14 L2312.18 1036.3 L2316.39 1036.3 Q2319.84 1036.3 2321.67 1034.93 Q2323.5 1033.54 2323.5 1030.95 Q2323.5 1028.29 2321.6 1026.88 Q2319.73 1025.44 2316.21 1025.44 Q2314.29 1025.44 2312.09 1025.86 Q2309.89 1026.27 2307.25 1027.15 L2307.25 1022.99 Q2309.91 1022.25 2312.23 1021.88 Q2314.57 1021.51 2316.63 1021.51 Q2321.95 1021.51 2325.05 1023.94 Q2328.15 1026.34 2328.15 1030.46 Q2328.15 1033.33 2326.51 1035.33 Q2324.87 1037.29 2321.83 1038.06 Z\" fill=\"#000000\" fill-rule=\"evenodd\" fill-opacity=\"1\" /><path clip-path=\"url(#clip560)\" d=\"M 0 0 M2348.2 1038.06 Q2351.56 1038.77 2353.43 1041.04 Q2355.33 1043.31 2355.33 1046.64 Q2355.33 1051.76 2351.81 1054.56 Q2348.29 1057.36 2341.81 1057.36 Q2339.64 1057.36 2337.32 1056.92 Q2335.03 1056.51 2332.58 1055.65 L2332.58 1051.14 Q2334.52 1052.27 2336.83 1052.85 Q2339.15 1053.43 2341.67 1053.43 Q2346.07 1053.43 2348.36 1051.69 Q2350.68 1049.95 2350.68 1046.64 Q2350.68 1043.59 2348.52 1041.88 Q2346.39 1040.14 2342.57 1040.14 L2338.55 1040.14 L2338.55 1036.3 L2342.76 1036.3 Q2346.21 1036.3 2348.04 1034.93 Q2349.87 1033.54 2349.87 1030.95 Q2349.87 1028.29 2347.97 1026.88 Q2346.09 1025.44 2342.57 1025.44 Q2340.65 1025.44 2338.45 1025.86 Q2336.26 1026.27 2333.62 1027.15 L2333.62 1022.99 Q2336.28 1022.25 2338.59 1021.88 Q2340.93 1021.51 2342.99 1021.51 Q2348.32 1021.51 2351.42 1023.94 Q2354.52 1026.34 2354.52 1030.46 Q2354.52 1033.33 2352.88 1035.33 Q2351.23 1037.29 2348.2 1038.06 Z\" fill=\"#000000\" fill-rule=\"evenodd\" fill-opacity=\"1\" /><path clip-path=\"url(#clip560)\" d=\"M 0 0 M2360.45 1022.13 L2378.8 1022.13 L2378.8 1026.07 L2364.73 1026.07 L2364.73 1034.54 Q2365.75 1034.19 2366.76 1034.03 Q2367.78 1033.84 2368.8 1033.84 Q2374.59 1033.84 2377.97 1037.02 Q2381.35 1040.19 2381.35 1045.6 Q2381.35 1051.18 2377.88 1054.28 Q2374.4 1057.36 2368.08 1057.36 Q2365.91 1057.36 2363.64 1056.99 Q2361.39 1056.62 2358.99 1055.88 L2358.99 1051.18 Q2361.07 1052.32 2363.29 1052.87 Q2365.51 1053.43 2367.99 1053.43 Q2372 1053.43 2374.33 1051.32 Q2376.67 1049.21 2376.67 1045.6 Q2376.67 1041.99 2374.33 1039.89 Q2372 1037.78 2367.99 1037.78 Q2366.12 1037.78 2364.24 1038.2 Q2362.39 1038.61 2360.45 1039.49 L2360.45 1022.13 Z\" fill=\"#000000\" fill-rule=\"evenodd\" fill-opacity=\"1\" /><path clip-path=\"url(#clip560)\" d=\"M 0 0 M2280.7 818.638 Q2277.09 818.638 2275.26 822.203 Q2273.45 825.745 2273.45 832.874 Q2273.45 839.981 2275.26 843.546 Q2277.09 847.087 2280.7 847.087 Q2284.33 847.087 2286.14 843.546 Q2287.97 839.981 2287.97 832.874 Q2287.97 825.745 2286.14 822.203 Q2284.33 818.638 2280.7 818.638 M2280.7 814.935 Q2286.51 814.935 2289.57 819.541 Q2292.64 824.124 2292.64 832.874 Q2292.64 841.601 2289.57 846.208 Q2286.51 850.791 2280.7 850.791 Q2274.89 850.791 2271.81 846.208 Q2268.76 841.601 2268.76 832.874 Q2268.76 824.124 2271.81 819.541 Q2274.89 814.935 2280.7 814.935 Z\" fill=\"#000000\" fill-rule=\"evenodd\" fill-opacity=\"1\" /><path clip-path=\"url(#clip560)\" d=\"M 0 0 M2297.71 844.24 L2302.6 844.24 L2302.6 850.12 L2297.71 850.12 L2297.71 844.24 Z\" fill=\"#000000\" fill-rule=\"evenodd\" fill-opacity=\"1\" /><path clip-path=\"url(#clip560)\" d=\"M 0 0 M2321.83 831.486 Q2325.19 832.203 2327.07 834.472 Q2328.96 836.74 2328.96 840.073 Q2328.96 845.189 2325.45 847.99 Q2321.93 850.791 2315.45 850.791 Q2313.27 850.791 2310.95 850.351 Q2308.66 849.935 2306.21 849.078 L2306.21 844.564 Q2308.15 845.698 2310.47 846.277 Q2312.78 846.856 2315.31 846.856 Q2319.7 846.856 2322 845.12 Q2324.31 843.384 2324.31 840.073 Q2324.31 837.018 2322.16 835.305 Q2320.03 833.569 2316.21 833.569 L2312.18 833.569 L2312.18 829.726 L2316.39 829.726 Q2319.84 829.726 2321.67 828.361 Q2323.5 826.972 2323.5 824.379 Q2323.5 821.717 2321.6 820.305 Q2319.73 818.87 2316.21 818.87 Q2314.29 818.87 2312.09 819.287 Q2309.89 819.703 2307.25 820.583 L2307.25 816.416 Q2309.91 815.675 2312.23 815.305 Q2314.57 814.935 2316.63 814.935 Q2321.95 814.935 2325.05 817.365 Q2328.15 819.773 2328.15 823.893 Q2328.15 826.763 2326.51 828.754 Q2324.87 830.722 2321.83 831.486 Z\" fill=\"#000000\" fill-rule=\"evenodd\" fill-opacity=\"1\" /><path clip-path=\"url(#clip560)\" d=\"M 0 0 M2346.88 819.634 L2335.07 838.083 L2346.88 838.083 L2346.88 819.634 M2345.65 815.56 L2351.53 815.56 L2351.53 838.083 L2356.46 838.083 L2356.46 841.972 L2351.53 841.972 L2351.53 850.12 L2346.88 850.12 L2346.88 841.972 L2331.28 841.972 L2331.28 837.458 L2345.65 815.56 Z\" fill=\"#000000\" fill-rule=\"evenodd\" fill-opacity=\"1\" /><path clip-path=\"url(#clip560)\" d=\"M 0 0 M2371.53 818.638 Q2367.92 818.638 2366.09 822.203 Q2364.29 825.745 2364.29 832.874 Q2364.29 839.981 2366.09 843.546 Q2367.92 847.087 2371.53 847.087 Q2375.17 847.087 2376.97 843.546 Q2378.8 839.981 2378.8 832.874 Q2378.8 825.745 2376.97 822.203 Q2375.17 818.638 2371.53 818.638 M2371.53 814.935 Q2377.34 814.935 2380.4 819.541 Q2383.48 824.124 2383.48 832.874 Q2383.48 841.601 2380.4 846.208 Q2377.34 850.791 2371.53 850.791 Q2365.72 850.791 2362.64 846.208 Q2359.59 841.601 2359.59 832.874 Q2359.59 824.124 2362.64 819.541 Q2365.72 814.935 2371.53 814.935 Z\" fill=\"#000000\" fill-rule=\"evenodd\" fill-opacity=\"1\" /><path clip-path=\"url(#clip560)\" d=\"M 0 0 M2280.7 612.067 Q2277.09 612.067 2275.26 615.632 Q2273.45 619.174 2273.45 626.303 Q2273.45 633.41 2275.26 636.974 Q2277.09 640.516 2280.7 640.516 Q2284.33 640.516 2286.14 636.974 Q2287.97 633.41 2287.97 626.303 Q2287.97 619.174 2286.14 615.632 Q2284.33 612.067 2280.7 612.067 M2280.7 608.364 Q2286.51 608.364 2289.57 612.97 Q2292.64 617.553 2292.64 626.303 Q2292.64 635.03 2289.57 639.636 Q2286.51 644.22 2280.7 644.22 Q2274.89 644.22 2271.81 639.636 Q2268.76 635.03 2268.76 626.303 Q2268.76 617.553 2271.81 612.97 Q2274.89 608.364 2280.7 608.364 Z\" fill=\"#000000\" fill-rule=\"evenodd\" fill-opacity=\"1\" /><path clip-path=\"url(#clip560)\" d=\"M 0 0 M2297.71 637.669 L2302.6 637.669 L2302.6 643.549 L2297.71 643.549 L2297.71 637.669 Z\" fill=\"#000000\" fill-rule=\"evenodd\" fill-opacity=\"1\" /><path clip-path=\"url(#clip560)\" d=\"M 0 0 M2321.83 624.914 Q2325.19 625.632 2327.07 627.9 Q2328.96 630.169 2328.96 633.502 Q2328.96 638.618 2325.45 641.419 Q2321.93 644.22 2315.45 644.22 Q2313.27 644.22 2310.95 643.78 Q2308.66 643.363 2306.21 642.507 L2306.21 637.993 Q2308.15 639.127 2310.47 639.706 Q2312.78 640.285 2315.31 640.285 Q2319.7 640.285 2322 638.549 Q2324.31 636.812 2324.31 633.502 Q2324.31 630.447 2322.16 628.734 Q2320.03 626.998 2316.21 626.998 L2312.18 626.998 L2312.18 623.155 L2316.39 623.155 Q2319.84 623.155 2321.67 621.789 Q2323.5 620.4 2323.5 617.808 Q2323.5 615.146 2321.6 613.734 Q2319.73 612.299 2316.21 612.299 Q2314.29 612.299 2312.09 612.715 Q2309.89 613.132 2307.25 614.012 L2307.25 609.845 Q2309.91 609.104 2312.23 608.734 Q2314.57 608.364 2316.63 608.364 Q2321.95 608.364 2325.05 610.794 Q2328.15 613.201 2328.15 617.322 Q2328.15 620.192 2326.51 622.183 Q2324.87 624.15 2321.83 624.914 Z\" fill=\"#000000\" fill-rule=\"evenodd\" fill-opacity=\"1\" /><path clip-path=\"url(#clip560)\" d=\"M 0 0 M2346.88 613.063 L2335.07 631.512 L2346.88 631.512 L2346.88 613.063 M2345.65 608.989 L2351.53 608.989 L2351.53 631.512 L2356.46 631.512 L2356.46 635.4 L2351.53 635.4 L2351.53 643.549 L2346.88 643.549 L2346.88 635.4 L2331.28 635.4 L2331.28 630.887 L2345.65 608.989 Z\" fill=\"#000000\" fill-rule=\"evenodd\" fill-opacity=\"1\" /><path clip-path=\"url(#clip560)\" d=\"M 0 0 M2361.58 608.989 L2379.94 608.989 L2379.94 612.924 L2365.86 612.924 L2365.86 621.396 Q2366.88 621.049 2367.9 620.887 Q2368.92 620.701 2369.94 620.701 Q2375.72 620.701 2379.1 623.873 Q2382.48 627.044 2382.48 632.461 Q2382.48 638.039 2379.01 641.141 Q2375.54 644.22 2369.22 644.22 Q2367.04 644.22 2364.77 643.849 Q2362.53 643.479 2360.12 642.738 L2360.12 638.039 Q2362.2 639.174 2364.43 639.729 Q2366.65 640.285 2369.13 640.285 Q2373.13 640.285 2375.47 638.178 Q2377.81 636.072 2377.81 632.461 Q2377.81 628.85 2375.47 626.743 Q2373.13 624.637 2369.13 624.637 Q2367.25 624.637 2365.38 625.053 Q2363.52 625.47 2361.58 626.35 L2361.58 608.989 Z\" fill=\"#000000\" fill-rule=\"evenodd\" fill-opacity=\"1\" /><path clip-path=\"url(#clip560)\" d=\"M 0 0 M2280.7 405.496 Q2277.09 405.496 2275.26 409.061 Q2273.45 412.602 2273.45 419.732 Q2273.45 426.838 2275.26 430.403 Q2277.09 433.945 2280.7 433.945 Q2284.33 433.945 2286.14 430.403 Q2287.97 426.838 2287.97 419.732 Q2287.97 412.602 2286.14 409.061 Q2284.33 405.496 2280.7 405.496 M2280.7 401.792 Q2286.51 401.792 2289.57 406.399 Q2292.64 410.982 2292.64 419.732 Q2292.64 428.459 2289.57 433.065 Q2286.51 437.649 2280.7 437.649 Q2274.89 437.649 2271.81 433.065 Q2268.76 428.459 2268.76 419.732 Q2268.76 410.982 2271.81 406.399 Q2274.89 401.792 2280.7 401.792 Z\" fill=\"#000000\" fill-rule=\"evenodd\" fill-opacity=\"1\" /><path clip-path=\"url(#clip560)\" d=\"M 0 0 M2297.71 431.098 L2302.6 431.098 L2302.6 436.977 L2297.71 436.977 L2297.71 431.098 Z\" fill=\"#000000\" fill-rule=\"evenodd\" fill-opacity=\"1\" /><path clip-path=\"url(#clip560)\" d=\"M 0 0 M2321.83 418.343 Q2325.19 419.061 2327.07 421.329 Q2328.96 423.598 2328.96 426.931 Q2328.96 432.047 2325.45 434.848 Q2321.93 437.649 2315.45 437.649 Q2313.27 437.649 2310.95 437.209 Q2308.66 436.792 2306.21 435.936 L2306.21 431.422 Q2308.15 432.556 2310.47 433.135 Q2312.78 433.713 2315.31 433.713 Q2319.7 433.713 2322 431.977 Q2324.31 430.241 2324.31 426.931 Q2324.31 423.876 2322.16 422.163 Q2320.03 420.426 2316.21 420.426 L2312.18 420.426 L2312.18 416.584 L2316.39 416.584 Q2319.84 416.584 2321.67 415.218 Q2323.5 413.829 2323.5 411.237 Q2323.5 408.575 2321.6 407.163 Q2319.73 405.727 2316.21 405.727 Q2314.29 405.727 2312.09 406.144 Q2309.89 406.561 2307.25 407.44 L2307.25 403.274 Q2309.91 402.533 2312.23 402.163 Q2314.57 401.792 2316.63 401.792 Q2321.95 401.792 2325.05 404.223 Q2328.15 406.63 2328.15 410.751 Q2328.15 413.621 2326.51 415.612 Q2324.87 417.579 2321.83 418.343 Z\" fill=\"#000000\" fill-rule=\"evenodd\" fill-opacity=\"1\" /><path clip-path=\"url(#clip560)\" d=\"M 0 0 M2334.08 402.417 L2352.44 402.417 L2352.44 406.352 L2338.36 406.352 L2338.36 414.825 Q2339.38 414.477 2340.4 414.315 Q2341.42 414.13 2342.44 414.13 Q2348.22 414.13 2351.6 417.302 Q2354.98 420.473 2354.98 425.889 Q2354.98 431.468 2351.51 434.57 Q2348.04 437.649 2341.72 437.649 Q2339.54 437.649 2337.27 437.278 Q2335.03 436.908 2332.62 436.167 L2332.62 431.468 Q2334.7 432.602 2336.93 433.158 Q2339.15 433.713 2341.63 433.713 Q2345.63 433.713 2347.97 431.607 Q2350.31 429.501 2350.31 425.889 Q2350.31 422.278 2347.97 420.172 Q2345.63 418.065 2341.63 418.065 Q2339.75 418.065 2337.88 418.482 Q2336.02 418.899 2334.08 419.778 L2334.08 402.417 Z\" fill=\"#000000\" fill-rule=\"evenodd\" fill-opacity=\"1\" /><path clip-path=\"url(#clip560)\" d=\"M 0 0 M2370.05 405.496 Q2366.44 405.496 2364.61 409.061 Q2362.81 412.602 2362.81 419.732 Q2362.81 426.838 2364.61 430.403 Q2366.44 433.945 2370.05 433.945 Q2373.69 433.945 2375.49 430.403 Q2377.32 426.838 2377.32 419.732 Q2377.32 412.602 2375.49 409.061 Q2373.69 405.496 2370.05 405.496 M2370.05 401.792 Q2375.86 401.792 2378.92 406.399 Q2382 410.982 2382 419.732 Q2382 428.459 2378.92 433.065 Q2375.86 437.649 2370.05 437.649 Q2364.24 437.649 2361.16 433.065 Q2358.11 428.459 2358.11 419.732 Q2358.11 410.982 2361.16 406.399 Q2364.24 401.792 2370.05 401.792 Z\" fill=\"#000000\" fill-rule=\"evenodd\" fill-opacity=\"1\" /><path clip-path=\"url(#clip560)\" d=\"M 0 0 M2280.7 198.925 Q2277.09 198.925 2275.26 202.49 Q2273.45 206.031 2273.45 213.161 Q2273.45 220.267 2275.26 223.832 Q2277.09 227.374 2280.7 227.374 Q2284.33 227.374 2286.14 223.832 Q2287.97 220.267 2287.97 213.161 Q2287.97 206.031 2286.14 202.49 Q2284.33 198.925 2280.7 198.925 M2280.7 195.221 Q2286.51 195.221 2289.57 199.828 Q2292.64 204.411 2292.64 213.161 Q2292.64 221.888 2289.57 226.494 Q2286.51 231.077 2280.7 231.077 Q2274.89 231.077 2271.81 226.494 Q2268.76 221.888 2268.76 213.161 Q2268.76 204.411 2271.81 199.828 Q2274.89 195.221 2280.7 195.221 Z\" fill=\"#000000\" fill-rule=\"evenodd\" fill-opacity=\"1\" /><path clip-path=\"url(#clip560)\" d=\"M 0 0 M2297.71 224.527 L2302.6 224.527 L2302.6 230.406 L2297.71 230.406 L2297.71 224.527 Z\" fill=\"#000000\" fill-rule=\"evenodd\" fill-opacity=\"1\" /><path clip-path=\"url(#clip560)\" d=\"M 0 0 M2321.83 211.772 Q2325.19 212.49 2327.07 214.758 Q2328.96 217.027 2328.96 220.36 Q2328.96 225.476 2325.45 228.277 Q2321.93 231.077 2315.45 231.077 Q2313.27 231.077 2310.95 230.638 Q2308.66 230.221 2306.21 229.364 L2306.21 224.851 Q2308.15 225.985 2310.47 226.564 Q2312.78 227.142 2315.31 227.142 Q2319.7 227.142 2322 225.406 Q2324.31 223.67 2324.31 220.36 Q2324.31 217.304 2322.16 215.591 Q2320.03 213.855 2316.21 213.855 L2312.18 213.855 L2312.18 210.013 L2316.39 210.013 Q2319.84 210.013 2321.67 208.647 Q2323.5 207.258 2323.5 204.666 Q2323.5 202.004 2321.6 200.591 Q2319.73 199.156 2316.21 199.156 Q2314.29 199.156 2312.09 199.573 Q2309.89 199.99 2307.25 200.869 L2307.25 196.703 Q2309.91 195.962 2312.23 195.592 Q2314.57 195.221 2316.63 195.221 Q2321.95 195.221 2325.05 197.652 Q2328.15 200.059 2328.15 204.179 Q2328.15 207.05 2326.51 209.041 Q2324.87 211.008 2321.83 211.772 Z\" fill=\"#000000\" fill-rule=\"evenodd\" fill-opacity=\"1\" /><path clip-path=\"url(#clip560)\" d=\"M 0 0 M2334.08 195.846 L2352.44 195.846 L2352.44 199.781 L2338.36 199.781 L2338.36 208.253 Q2339.38 207.906 2340.4 207.744 Q2341.42 207.559 2342.44 207.559 Q2348.22 207.559 2351.6 210.73 Q2354.98 213.902 2354.98 219.318 Q2354.98 224.897 2351.51 227.999 Q2348.04 231.077 2341.72 231.077 Q2339.54 231.077 2337.27 230.707 Q2335.03 230.337 2332.62 229.596 L2332.62 224.897 Q2334.7 226.031 2336.93 226.587 Q2339.15 227.142 2341.63 227.142 Q2345.63 227.142 2347.97 225.036 Q2350.31 222.929 2350.31 219.318 Q2350.31 215.707 2347.97 213.601 Q2345.63 211.494 2341.63 211.494 Q2339.75 211.494 2337.88 211.911 Q2336.02 212.328 2334.08 213.207 L2334.08 195.846 Z\" fill=\"#000000\" fill-rule=\"evenodd\" fill-opacity=\"1\" /><path clip-path=\"url(#clip560)\" d=\"M 0 0 M2360.1 195.846 L2378.45 195.846 L2378.45 199.781 L2364.38 199.781 L2364.38 208.253 Q2365.4 207.906 2366.42 207.744 Q2367.44 207.559 2368.45 207.559 Q2374.24 207.559 2377.62 210.73 Q2381 213.902 2381 219.318 Q2381 224.897 2377.53 227.999 Q2374.06 231.077 2367.74 231.077 Q2365.56 231.077 2363.29 230.707 Q2361.05 230.337 2358.64 229.596 L2358.64 224.897 Q2360.72 226.031 2362.95 226.587 Q2365.17 227.142 2367.64 227.142 Q2371.65 227.142 2373.99 225.036 Q2376.32 222.929 2376.32 219.318 Q2376.32 215.707 2373.99 213.601 Q2371.65 211.494 2367.64 211.494 Q2365.77 211.494 2363.89 211.911 Q2362.04 212.328 2360.1 213.207 L2360.1 195.846 Z\" fill=\"#000000\" fill-rule=\"evenodd\" fill-opacity=\"1\" /><polyline clip-path=\"url(#clip560)\" style=\"stroke:#000000; stroke-width:4; stroke-opacity:1; fill:none\" points=\"\n",
       "  2232.76,1423.18 2232.76,1249.61 2256.76,1249.61 2232.76,1249.61 2232.76,1043.04 2256.76,1043.04 2232.76,1043.04 2232.76,836.468 2256.76,836.468 2232.76,836.468 \n",
       "  2232.76,629.897 2256.76,629.897 2232.76,629.897 2232.76,423.326 2256.76,423.326 2232.76,423.326 2232.76,216.755 2256.76,216.755 2232.76,216.755 2232.76,47.2441 \n",
       "  \n",
       "  \"/>\n",
       "</svg>\n"
      ]
     },
     "execution_count": 113,
     "metadata": {},
     "output_type": "execute_result"
    }
   ],
   "source": [
    "plot(self_tuning_nn)"
   ]
  },
  {
   "cell_type": "code",
   "execution_count": 114,
   "metadata": {},
   "outputs": [
    {
     "data": {
      "text/plain": [
       "(best_model = \u001b[34mNeuralNetworkClassifier{CustomNN,…} @908\u001b[39m,\n",
       " best_fitted_params = (chain = Chain(Chain(Dense(30, 34, σ), Dense(34, 2, σ)), softmax),),)"
      ]
     },
     "execution_count": 114,
     "metadata": {},
     "output_type": "execute_result"
    }
   ],
   "source": [
    "best = fitted_params(self_tuning_nn)\n",
    "best"
   ]
  },
  {
   "cell_type": "code",
   "execution_count": 115,
   "metadata": {},
   "outputs": [
    {
     "data": {
      "text/plain": [
       "NeuralNetworkClassifier(\n",
       "    builder = CustomNN(\n",
       "            n1 = 34,\n",
       "            n2 = 5),\n",
       "    finaliser = NNlib.softmax,\n",
       "    optimiser = ADAM(0.00032, (0.9, 0.999), IdDict{Any,Any}()),\n",
       "    loss = Flux.crossentropy,\n",
       "    epochs = 1000,\n",
       "    batch_size = 16,\n",
       "    lambda = 0.0021544346900318843,\n",
       "    alpha = 0.0,\n",
       "    optimiser_changes_trigger_retraining = false)\u001b[34m @908\u001b[39m"
      ]
     },
     "execution_count": 115,
     "metadata": {},
     "output_type": "execute_result"
    }
   ],
   "source": [
    "best.best_model"
   ]
  },
  {
   "cell_type": "code",
   "execution_count": 116,
   "metadata": {
    "scrolled": true
   },
   "outputs": [
    {
     "data": {
      "text/plain": [
       "0.3257988f0"
      ]
     },
     "execution_count": 116,
     "metadata": {},
     "output_type": "execute_result"
    }
   ],
   "source": [
    "best_loss = z.report.best_result.measurement[1]"
   ]
  },
  {
   "cell_type": "code",
   "execution_count": 117,
   "metadata": {},
   "outputs": [
    {
     "data": {
      "text/plain": [
       "(1000, 34, 0.00032)"
      ]
     },
     "execution_count": 117,
     "metadata": {},
     "output_type": "execute_result"
    }
   ],
   "source": [
    "b = best.best_model.builder.n1\n",
    "a = best.best_model.epochs\n",
    "c = round(best.best_model.optimiser.eta, digits=5)\n",
    "a,b,c"
   ]
  },
  {
   "cell_type": "code",
   "execution_count": 77,
   "metadata": {},
   "outputs": [],
   "source": [
    "fn = \"Figures/Grid_NN_$(param1):$(a)_x_$(param2):$(c)_bestloss:$(best_loss)_hidden:$b\"\n",
    "png(replace(fn,'.' => ','))"
   ]
  },
  {
   "cell_type": "code",
   "execution_count": null,
   "metadata": {},
   "outputs": [],
   "source": []
  },
  {
   "cell_type": "code",
   "execution_count": null,
   "metadata": {},
   "outputs": [],
   "source": []
  },
  {
   "cell_type": "code",
   "execution_count": null,
   "metadata": {},
   "outputs": [],
   "source": []
  },
  {
   "cell_type": "code",
   "execution_count": null,
   "metadata": {},
   "outputs": [],
   "source": []
  },
  {
   "cell_type": "code",
   "execution_count": null,
   "metadata": {},
   "outputs": [],
   "source": []
  },
  {
   "cell_type": "code",
   "execution_count": null,
   "metadata": {},
   "outputs": [],
   "source": []
  },
  {
   "cell_type": "markdown",
   "metadata": {},
   "source": [
    "# Final Results"
   ]
  },
  {
   "cell_type": "code",
   "execution_count": null,
   "metadata": {},
   "outputs": [],
   "source": [
    "measures()"
   ]
  },
  {
   "cell_type": "code",
   "execution_count": 120,
   "metadata": {},
   "outputs": [
    {
     "data": {
      "text/plain": [
       "NeuralNetworkClassifier(\n",
       "    builder = CustomNN(\n",
       "            n1 = 34,\n",
       "            n2 = 5),\n",
       "    finaliser = NNlib.softmax,\n",
       "    optimiser = ADAM(0.001, (0.9, 0.999), IdDict{Any,Any}()),\n",
       "    loss = Flux.crossentropy,\n",
       "    epochs = 10,\n",
       "    batch_size = 1,\n",
       "    lambda = 0.0,\n",
       "    alpha = 0.0,\n",
       "    optimiser_changes_trigger_retraining = false)\u001b[34m @772\u001b[39m"
      ]
     },
     "execution_count": 120,
     "metadata": {},
     "output_type": "execute_result"
    }
   ],
   "source": [
    "final_model = NeuralNetworkClassifier(builder=CustomNN(34,5))"
   ]
  },
  {
   "cell_type": "code",
   "execution_count": 167,
   "metadata": {},
   "outputs": [
    {
     "data": {
      "text/plain": [
       "1000"
      ]
     },
     "execution_count": 167,
     "metadata": {},
     "output_type": "execute_result"
    }
   ],
   "source": [
    "final_model.optimiser.eta = 0.00032\n",
    "final_model.batch_size = 16\n",
    "final_model.lambda = 0.0021544346900318843\n",
    "final_model.epochs = 1000"
   ]
  },
  {
   "cell_type": "code",
   "execution_count": 172,
   "metadata": {},
   "outputs": [
    {
     "data": {
      "text/plain": [
       "\u001b[34mMachine{NeuralNetworkClassifier{CustomNN,…}} @361\u001b[39m trained 0 times.\n",
       "  args: \n",
       "    1:\t\u001b[34mSource @258\u001b[39m ⏎ `Table{AbstractArray{Continuous,1}}`\n",
       "    2:\t\u001b[34mSource @147\u001b[39m ⏎ `AbstractArray{Multiclass{2},1}`\n"
      ]
     },
     "execution_count": 172,
     "metadata": {},
     "output_type": "execute_result"
    }
   ],
   "source": [
    "Final_Net = machine(final_model, X_stand, y)"
   ]
  },
  {
   "cell_type": "code",
   "execution_count": 173,
   "metadata": {
    "scrolled": false
   },
   "outputs": [
    {
     "name": "stderr",
     "output_type": "stream",
     "text": [
      "┌ Info: Training \u001b[34mMachine{NeuralNetworkClassifier{CustomNN,…}} @361\u001b[39m.\n",
      "└ @ MLJBase /home/andrew/.julia/packages/MLJBase/cJmIS/src/machines.jl:322\n",
      "\u001b[33mOptimising neural net:100%[=========================] Time: 0:00:06\u001b[39m\n"
     ]
    },
    {
     "data": {
      "text/plain": [
       "\u001b[34mMachine{NeuralNetworkClassifier{CustomNN,…}} @361\u001b[39m trained 1 time.\n",
       "  args: \n",
       "    1:\t\u001b[34mSource @258\u001b[39m ⏎ `Table{AbstractArray{Continuous,1}}`\n",
       "    2:\t\u001b[34mSource @147\u001b[39m ⏎ `AbstractArray{Multiclass{2},1}`\n"
      ]
     },
     "execution_count": 173,
     "metadata": {},
     "output_type": "execute_result"
    }
   ],
   "source": [
    "fit!(Final_Net, rows=train, force=true, verbosity=1)"
   ]
  },
  {
   "cell_type": "code",
   "execution_count": 174,
   "metadata": {
    "scrolled": true
   },
   "outputs": [
    {
     "name": "stderr",
     "output_type": "stream",
     "text": [
      "┌ Info: Training \u001b[34mMachine{ProbabilisticTunedModel{Grid,…}} @314\u001b[39m.\n",
      "└ @ MLJBase /home/andrew/.julia/packages/MLJBase/cJmIS/src/machines.jl:322\n",
      "┌ Info: Attempting to evaluate 201 models.\n",
      "└ @ MLJTuning /home/andrew/.julia/packages/MLJTuning/nuvTc/src/tuned_models.jl:501\n",
      "\u001b[33mEvaluating over 201 metamodels: 100%[=========================] Time: 0:00:06\u001b[39m\n"
     ]
    },
    {
     "data": {
      "text/plain": [
       "(parameter_name = \"epochs\",\n",
       " parameter_scale = :none,\n",
       " parameter_values = [0, 5, 10, 15, 20, 25, 30, 35, 40, 45  …  955, 960, 965, 970, 975, 980, 985, 990, 995, 1000],\n",
       " measurements = [0.678963303565979, 0.5714329481124878, 0.49393993616104126, 0.4450485110282898, 0.4144515097141266, 0.39460352063179016, 0.3811957836151123, 0.3718312680721283, 0.3650934398174286, 0.3600926399230957  …  0.3370341360569, 0.337027907371521, 0.33702167868614197, 0.3370155096054077, 0.3370097577571869, 0.33700311183929443, 0.3369963765144348, 0.33698952198028564, 0.33698323369026184, 0.33697694540023804],)"
      ]
     },
     "execution_count": 174,
     "metadata": {},
     "output_type": "execute_result"
    }
   ],
   "source": [
    "values = collect(0:5:max_epochs)\n",
    "r = range(final_model, :epochs, values=values)\n",
    "# r = range(nn2, :epochs, lower=0, upper=max_epochs)\n",
    "curve = learning_curve(Final_Net, \n",
    "                        range=r, \n",
    "                        resampling=Holdout(fraction_train=0.7), \n",
    "#                         resampling=CV(nfolds=4), \n",
    "                        measure=cross_entropy, \n",
    "                        acceleration=CPUThreads())"
   ]
  },
  {
   "cell_type": "code",
   "execution_count": 175,
   "metadata": {},
   "outputs": [
    {
     "data": {
      "image/svg+xml": [
       "<?xml version=\"1.0\" encoding=\"utf-8\"?>\n",
       "<svg xmlns=\"http://www.w3.org/2000/svg\" xmlns:xlink=\"http://www.w3.org/1999/xlink\" width=\"600\" height=\"400\" viewBox=\"0 0 2400 1600\">\n",
       "<defs>\n",
       "  <clipPath id=\"clip680\">\n",
       "    <rect x=\"0\" y=\"0\" width=\"2400\" height=\"1600\"/>\n",
       "  </clipPath>\n",
       "</defs>\n",
       "<path clip-path=\"url(#clip680)\" d=\"\n",
       "M0 1600 L2400 1600 L2400 0 L0 0  Z\n",
       "  \" fill=\"#ffffff\" fill-rule=\"evenodd\" fill-opacity=\"1\"/>\n",
       "<defs>\n",
       "  <clipPath id=\"clip681\">\n",
       "    <rect x=\"480\" y=\"0\" width=\"1681\" height=\"1600\"/>\n",
       "  </clipPath>\n",
       "</defs>\n",
       "<path clip-path=\"url(#clip680)\" d=\"\n",
       "M238.616 1423.18 L2352.76 1423.18 L2352.76 47.2441 L238.616 47.2441  Z\n",
       "  \" fill=\"#ffffff\" fill-rule=\"evenodd\" fill-opacity=\"1\"/>\n",
       "<defs>\n",
       "  <clipPath id=\"clip682\">\n",
       "    <rect x=\"238\" y=\"47\" width=\"2115\" height=\"1377\"/>\n",
       "  </clipPath>\n",
       "</defs>\n",
       "<polyline clip-path=\"url(#clip682)\" style=\"stroke:#000000; stroke-width:2; stroke-opacity:0.1; fill:none\" points=\"\n",
       "  298.45,1423.18 298.45,47.2441 \n",
       "  \"/>\n",
       "<polyline clip-path=\"url(#clip682)\" style=\"stroke:#000000; stroke-width:2; stroke-opacity:0.1; fill:none\" points=\"\n",
       "  797.068,1423.18 797.068,47.2441 \n",
       "  \"/>\n",
       "<polyline clip-path=\"url(#clip682)\" style=\"stroke:#000000; stroke-width:2; stroke-opacity:0.1; fill:none\" points=\"\n",
       "  1295.69,1423.18 1295.69,47.2441 \n",
       "  \"/>\n",
       "<polyline clip-path=\"url(#clip682)\" style=\"stroke:#000000; stroke-width:2; stroke-opacity:0.1; fill:none\" points=\"\n",
       "  1794.3,1423.18 1794.3,47.2441 \n",
       "  \"/>\n",
       "<polyline clip-path=\"url(#clip682)\" style=\"stroke:#000000; stroke-width:2; stroke-opacity:0.1; fill:none\" points=\"\n",
       "  2292.92,1423.18 2292.92,47.2441 \n",
       "  \"/>\n",
       "<polyline clip-path=\"url(#clip682)\" style=\"stroke:#000000; stroke-width:2; stroke-opacity:0.1; fill:none\" points=\"\n",
       "  238.616,1262.04 2352.76,1262.04 \n",
       "  \"/>\n",
       "<polyline clip-path=\"url(#clip682)\" style=\"stroke:#000000; stroke-width:2; stroke-opacity:0.1; fill:none\" points=\"\n",
       "  238.616,1083.32 2352.76,1083.32 \n",
       "  \"/>\n",
       "<polyline clip-path=\"url(#clip682)\" style=\"stroke:#000000; stroke-width:2; stroke-opacity:0.1; fill:none\" points=\"\n",
       "  238.616,904.597 2352.76,904.597 \n",
       "  \"/>\n",
       "<polyline clip-path=\"url(#clip682)\" style=\"stroke:#000000; stroke-width:2; stroke-opacity:0.1; fill:none\" points=\"\n",
       "  238.616,725.876 2352.76,725.876 \n",
       "  \"/>\n",
       "<polyline clip-path=\"url(#clip682)\" style=\"stroke:#000000; stroke-width:2; stroke-opacity:0.1; fill:none\" points=\"\n",
       "  238.616,547.155 2352.76,547.155 \n",
       "  \"/>\n",
       "<polyline clip-path=\"url(#clip682)\" style=\"stroke:#000000; stroke-width:2; stroke-opacity:0.1; fill:none\" points=\"\n",
       "  238.616,368.434 2352.76,368.434 \n",
       "  \"/>\n",
       "<polyline clip-path=\"url(#clip682)\" style=\"stroke:#000000; stroke-width:2; stroke-opacity:0.1; fill:none\" points=\"\n",
       "  238.616,189.713 2352.76,189.713 \n",
       "  \"/>\n",
       "<polyline clip-path=\"url(#clip680)\" style=\"stroke:#000000; stroke-width:4; stroke-opacity:1; fill:none\" points=\"\n",
       "  238.616,1423.18 2352.76,1423.18 \n",
       "  \"/>\n",
       "<polyline clip-path=\"url(#clip680)\" style=\"stroke:#000000; stroke-width:4; stroke-opacity:1; fill:none\" points=\"\n",
       "  238.616,1423.18 238.616,47.2441 \n",
       "  \"/>\n",
       "<polyline clip-path=\"url(#clip680)\" style=\"stroke:#000000; stroke-width:4; stroke-opacity:1; fill:none\" points=\"\n",
       "  298.45,1423.18 298.45,1406.67 \n",
       "  \"/>\n",
       "<polyline clip-path=\"url(#clip680)\" style=\"stroke:#000000; stroke-width:4; stroke-opacity:1; fill:none\" points=\"\n",
       "  797.068,1423.18 797.068,1406.67 \n",
       "  \"/>\n",
       "<polyline clip-path=\"url(#clip680)\" style=\"stroke:#000000; stroke-width:4; stroke-opacity:1; fill:none\" points=\"\n",
       "  1295.69,1423.18 1295.69,1406.67 \n",
       "  \"/>\n",
       "<polyline clip-path=\"url(#clip680)\" style=\"stroke:#000000; stroke-width:4; stroke-opacity:1; fill:none\" points=\"\n",
       "  1794.3,1423.18 1794.3,1406.67 \n",
       "  \"/>\n",
       "<polyline clip-path=\"url(#clip680)\" style=\"stroke:#000000; stroke-width:4; stroke-opacity:1; fill:none\" points=\"\n",
       "  2292.92,1423.18 2292.92,1406.67 \n",
       "  \"/>\n",
       "<polyline clip-path=\"url(#clip680)\" style=\"stroke:#000000; stroke-width:4; stroke-opacity:1; fill:none\" points=\"\n",
       "  238.616,1262.04 263.986,1262.04 \n",
       "  \"/>\n",
       "<polyline clip-path=\"url(#clip680)\" style=\"stroke:#000000; stroke-width:4; stroke-opacity:1; fill:none\" points=\"\n",
       "  238.616,1083.32 263.986,1083.32 \n",
       "  \"/>\n",
       "<polyline clip-path=\"url(#clip680)\" style=\"stroke:#000000; stroke-width:4; stroke-opacity:1; fill:none\" points=\"\n",
       "  238.616,904.597 263.986,904.597 \n",
       "  \"/>\n",
       "<polyline clip-path=\"url(#clip680)\" style=\"stroke:#000000; stroke-width:4; stroke-opacity:1; fill:none\" points=\"\n",
       "  238.616,725.876 263.986,725.876 \n",
       "  \"/>\n",
       "<polyline clip-path=\"url(#clip680)\" style=\"stroke:#000000; stroke-width:4; stroke-opacity:1; fill:none\" points=\"\n",
       "  238.616,547.155 263.986,547.155 \n",
       "  \"/>\n",
       "<polyline clip-path=\"url(#clip680)\" style=\"stroke:#000000; stroke-width:4; stroke-opacity:1; fill:none\" points=\"\n",
       "  238.616,368.434 263.986,368.434 \n",
       "  \"/>\n",
       "<polyline clip-path=\"url(#clip680)\" style=\"stroke:#000000; stroke-width:4; stroke-opacity:1; fill:none\" points=\"\n",
       "  238.616,189.713 263.986,189.713 \n",
       "  \"/>\n",
       "<path clip-path=\"url(#clip680)\" d=\"M 0 0 M298.45 1445.17 Q294.839 1445.17 293.011 1448.74 Q291.205 1452.28 291.205 1459.41 Q291.205 1466.51 293.011 1470.08 Q294.839 1473.62 298.45 1473.62 Q302.085 1473.62 303.89 1470.08 Q305.719 1466.51 305.719 1459.41 Q305.719 1452.28 303.89 1448.74 Q302.085 1445.17 298.45 1445.17 M298.45 1441.47 Q304.26 1441.47 307.316 1446.07 Q310.395 1450.66 310.395 1459.41 Q310.395 1468.13 307.316 1472.74 Q304.26 1477.32 298.45 1477.32 Q292.64 1477.32 289.561 1472.74 Q286.506 1468.13 286.506 1459.41 Q286.506 1450.66 289.561 1446.07 Q292.64 1441.47 298.45 1441.47 Z\" fill=\"#000000\" fill-rule=\"evenodd\" fill-opacity=\"1\" /><path clip-path=\"url(#clip680)\" d=\"M 0 0 M765.205 1472.72 L781.524 1472.72 L781.524 1476.65 L759.58 1476.65 L759.58 1472.72 Q762.242 1469.96 766.825 1465.33 Q771.432 1460.68 772.612 1459.34 Q774.858 1456.81 775.737 1455.08 Q776.64 1453.32 776.64 1451.63 Q776.64 1448.87 774.696 1447.14 Q772.774 1445.4 769.672 1445.4 Q767.473 1445.4 765.02 1446.17 Q762.589 1446.93 759.811 1448.48 L759.811 1443.76 Q762.635 1442.62 765.089 1442.05 Q767.543 1441.47 769.58 1441.47 Q774.95 1441.47 778.145 1444.15 Q781.339 1446.84 781.339 1451.33 Q781.339 1453.46 780.529 1455.38 Q779.742 1457.28 777.635 1459.87 Q777.057 1460.54 773.955 1463.76 Q770.853 1466.95 765.205 1472.72 Z\" fill=\"#000000\" fill-rule=\"evenodd\" fill-opacity=\"1\" /><path clip-path=\"url(#clip680)\" d=\"M 0 0 M786.64 1442.09 L804.996 1442.09 L804.996 1446.03 L790.922 1446.03 L790.922 1454.5 Q791.941 1454.15 792.959 1453.99 Q793.978 1453.8 794.996 1453.8 Q800.783 1453.8 804.163 1456.98 Q807.543 1460.15 807.543 1465.56 Q807.543 1471.14 804.07 1474.24 Q800.598 1477.32 794.279 1477.32 Q792.103 1477.32 789.834 1476.95 Q787.589 1476.58 785.182 1475.84 L785.182 1471.14 Q787.265 1472.28 789.487 1472.83 Q791.709 1473.39 794.186 1473.39 Q798.191 1473.39 800.529 1471.28 Q802.867 1469.18 802.867 1465.56 Q802.867 1461.95 800.529 1459.85 Q798.191 1457.74 794.186 1457.74 Q792.311 1457.74 790.436 1458.16 Q788.584 1458.57 786.64 1459.45 L786.64 1442.09 Z\" fill=\"#000000\" fill-rule=\"evenodd\" fill-opacity=\"1\" /><path clip-path=\"url(#clip680)\" d=\"M 0 0 M822.612 1445.17 Q819.001 1445.17 817.172 1448.74 Q815.367 1452.28 815.367 1459.41 Q815.367 1466.51 817.172 1470.08 Q819.001 1473.62 822.612 1473.62 Q826.246 1473.62 828.052 1470.08 Q829.88 1466.51 829.88 1459.41 Q829.88 1452.28 828.052 1448.74 Q826.246 1445.17 822.612 1445.17 M822.612 1441.47 Q828.422 1441.47 831.478 1446.07 Q834.556 1450.66 834.556 1459.41 Q834.556 1468.13 831.478 1472.74 Q828.422 1477.32 822.612 1477.32 Q816.802 1477.32 813.723 1472.74 Q810.668 1468.13 810.668 1459.41 Q810.668 1450.66 813.723 1446.07 Q816.802 1441.47 822.612 1441.47 Z\" fill=\"#000000\" fill-rule=\"evenodd\" fill-opacity=\"1\" /><path clip-path=\"url(#clip680)\" d=\"M 0 0 M1258.95 1442.09 L1277.31 1442.09 L1277.31 1446.03 L1263.23 1446.03 L1263.23 1454.5 Q1264.25 1454.15 1265.27 1453.99 Q1266.29 1453.8 1267.31 1453.8 Q1273.09 1453.8 1276.47 1456.98 Q1279.85 1460.15 1279.85 1465.56 Q1279.85 1471.14 1276.38 1474.24 Q1272.91 1477.32 1266.59 1477.32 Q1264.41 1477.32 1262.14 1476.95 Q1259.9 1476.58 1257.49 1475.84 L1257.49 1471.14 Q1259.58 1472.28 1261.8 1472.83 Q1264.02 1473.39 1266.5 1473.39 Q1270.5 1473.39 1272.84 1471.28 Q1275.18 1469.18 1275.18 1465.56 Q1275.18 1461.95 1272.84 1459.85 Q1270.5 1457.74 1266.5 1457.74 Q1264.62 1457.74 1262.75 1458.16 Q1260.89 1458.57 1258.95 1459.45 L1258.95 1442.09 Z\" fill=\"#000000\" fill-rule=\"evenodd\" fill-opacity=\"1\" /><path clip-path=\"url(#clip680)\" d=\"M 0 0 M1294.92 1445.17 Q1291.31 1445.17 1289.48 1448.74 Q1287.68 1452.28 1287.68 1459.41 Q1287.68 1466.51 1289.48 1470.08 Q1291.31 1473.62 1294.92 1473.62 Q1298.56 1473.62 1300.36 1470.08 Q1302.19 1466.51 1302.19 1459.41 Q1302.19 1452.28 1300.36 1448.74 Q1298.56 1445.17 1294.92 1445.17 M1294.92 1441.47 Q1300.73 1441.47 1303.79 1446.07 Q1306.87 1450.66 1306.87 1459.41 Q1306.87 1468.13 1303.79 1472.74 Q1300.73 1477.32 1294.92 1477.32 Q1289.11 1477.32 1286.03 1472.74 Q1282.98 1468.13 1282.98 1459.41 Q1282.98 1450.66 1286.03 1446.07 Q1289.11 1441.47 1294.92 1441.47 Z\" fill=\"#000000\" fill-rule=\"evenodd\" fill-opacity=\"1\" /><path clip-path=\"url(#clip680)\" d=\"M 0 0 M1321.94 1445.17 Q1318.32 1445.17 1316.5 1448.74 Q1314.69 1452.28 1314.69 1459.41 Q1314.69 1466.51 1316.5 1470.08 Q1318.32 1473.62 1321.94 1473.62 Q1325.57 1473.62 1327.38 1470.08 Q1329.2 1466.51 1329.2 1459.41 Q1329.2 1452.28 1327.38 1448.74 Q1325.57 1445.17 1321.94 1445.17 M1321.94 1441.47 Q1327.75 1441.47 1330.8 1446.07 Q1333.88 1450.66 1333.88 1459.41 Q1333.88 1468.13 1330.8 1472.74 Q1327.75 1477.32 1321.94 1477.32 Q1316.13 1477.32 1313.05 1472.74 Q1309.99 1468.13 1309.99 1459.41 Q1309.99 1450.66 1313.05 1446.07 Q1316.13 1441.47 1321.94 1441.47 Z\" fill=\"#000000\" fill-rule=\"evenodd\" fill-opacity=\"1\" /><path clip-path=\"url(#clip680)\" d=\"M 0 0 M1756.68 1442.09 L1778.9 1442.09 L1778.9 1444.08 L1766.35 1476.65 L1761.47 1476.65 L1773.27 1446.03 L1756.68 1446.03 L1756.68 1442.09 Z\" fill=\"#000000\" fill-rule=\"evenodd\" fill-opacity=\"1\" /><path clip-path=\"url(#clip680)\" d=\"M 0 0 M1784.01 1442.09 L1802.37 1442.09 L1802.37 1446.03 L1788.3 1446.03 L1788.3 1454.5 Q1789.32 1454.15 1790.33 1453.99 Q1791.35 1453.8 1792.37 1453.8 Q1798.16 1453.8 1801.54 1456.98 Q1804.92 1460.15 1804.92 1465.56 Q1804.92 1471.14 1801.45 1474.24 Q1797.97 1477.32 1791.65 1477.32 Q1789.48 1477.32 1787.21 1476.95 Q1784.96 1476.58 1782.56 1475.84 L1782.56 1471.14 Q1784.64 1472.28 1786.86 1472.83 Q1789.08 1473.39 1791.56 1473.39 Q1795.57 1473.39 1797.9 1471.28 Q1800.24 1469.18 1800.24 1465.56 Q1800.24 1461.95 1797.9 1459.85 Q1795.57 1457.74 1791.56 1457.74 Q1789.69 1457.74 1787.81 1458.16 Q1785.96 1458.57 1784.01 1459.45 L1784.01 1442.09 Z\" fill=\"#000000\" fill-rule=\"evenodd\" fill-opacity=\"1\" /><path clip-path=\"url(#clip680)\" d=\"M 0 0 M1819.99 1445.17 Q1816.38 1445.17 1814.55 1448.74 Q1812.74 1452.28 1812.74 1459.41 Q1812.74 1466.51 1814.55 1470.08 Q1816.38 1473.62 1819.99 1473.62 Q1823.62 1473.62 1825.43 1470.08 Q1827.26 1466.51 1827.26 1459.41 Q1827.26 1452.28 1825.43 1448.74 Q1823.62 1445.17 1819.99 1445.17 M1819.99 1441.47 Q1825.8 1441.47 1828.85 1446.07 Q1831.93 1450.66 1831.93 1459.41 Q1831.93 1468.13 1828.85 1472.74 Q1825.8 1477.32 1819.99 1477.32 Q1814.18 1477.32 1811.1 1472.74 Q1808.04 1468.13 1808.04 1459.41 Q1808.04 1450.66 1811.1 1446.07 Q1814.18 1441.47 1819.99 1441.47 Z\" fill=\"#000000\" fill-rule=\"evenodd\" fill-opacity=\"1\" /><path clip-path=\"url(#clip680)\" d=\"M 0 0 M2242.78 1472.72 L2250.42 1472.72 L2250.42 1446.35 L2242.11 1448.02 L2242.11 1443.76 L2250.38 1442.09 L2255.05 1442.09 L2255.05 1472.72 L2262.69 1472.72 L2262.69 1476.65 L2242.78 1476.65 L2242.78 1472.72 Z\" fill=\"#000000\" fill-rule=\"evenodd\" fill-opacity=\"1\" /><path clip-path=\"url(#clip680)\" d=\"M 0 0 M2277.76 1445.17 Q2274.15 1445.17 2272.32 1448.74 Q2270.51 1452.28 2270.51 1459.41 Q2270.51 1466.51 2272.32 1470.08 Q2274.15 1473.62 2277.76 1473.62 Q2281.39 1473.62 2283.2 1470.08 Q2285.03 1466.51 2285.03 1459.41 Q2285.03 1452.28 2283.2 1448.74 Q2281.39 1445.17 2277.76 1445.17 M2277.76 1441.47 Q2283.57 1441.47 2286.63 1446.07 Q2289.7 1450.66 2289.7 1459.41 Q2289.7 1468.13 2286.63 1472.74 Q2283.57 1477.32 2277.76 1477.32 Q2271.95 1477.32 2268.87 1472.74 Q2265.82 1468.13 2265.82 1459.41 Q2265.82 1450.66 2268.87 1446.07 Q2271.95 1441.47 2277.76 1441.47 Z\" fill=\"#000000\" fill-rule=\"evenodd\" fill-opacity=\"1\" /><path clip-path=\"url(#clip680)\" d=\"M 0 0 M2304.77 1445.17 Q2301.16 1445.17 2299.33 1448.74 Q2297.53 1452.28 2297.53 1459.41 Q2297.53 1466.51 2299.33 1470.08 Q2301.16 1473.62 2304.77 1473.62 Q2308.41 1473.62 2310.21 1470.08 Q2312.04 1466.51 2312.04 1459.41 Q2312.04 1452.28 2310.21 1448.74 Q2308.41 1445.17 2304.77 1445.17 M2304.77 1441.47 Q2310.58 1441.47 2313.64 1446.07 Q2316.72 1450.66 2316.72 1459.41 Q2316.72 1468.13 2313.64 1472.74 Q2310.58 1477.32 2304.77 1477.32 Q2298.96 1477.32 2295.88 1472.74 Q2292.83 1468.13 2292.83 1459.41 Q2292.83 1450.66 2295.88 1446.07 Q2298.96 1441.47 2304.77 1441.47 Z\" fill=\"#000000\" fill-rule=\"evenodd\" fill-opacity=\"1\" /><path clip-path=\"url(#clip680)\" d=\"M 0 0 M2331.79 1445.17 Q2328.18 1445.17 2326.35 1448.74 Q2324.54 1452.28 2324.54 1459.41 Q2324.54 1466.51 2326.35 1470.08 Q2328.18 1473.62 2331.79 1473.62 Q2335.42 1473.62 2337.23 1470.08 Q2339.06 1466.51 2339.06 1459.41 Q2339.06 1452.28 2337.23 1448.74 Q2335.42 1445.17 2331.79 1445.17 M2331.79 1441.47 Q2337.6 1441.47 2340.65 1446.07 Q2343.73 1450.66 2343.73 1459.41 Q2343.73 1468.13 2340.65 1472.74 Q2337.6 1477.32 2331.79 1477.32 Q2325.98 1477.32 2322.9 1472.74 Q2319.84 1468.13 2319.84 1459.41 Q2319.84 1450.66 2322.9 1446.07 Q2325.98 1441.47 2331.79 1441.47 Z\" fill=\"#000000\" fill-rule=\"evenodd\" fill-opacity=\"1\" /><path clip-path=\"url(#clip680)\" d=\"M 0 0 M140.334 1247.84 Q136.723 1247.84 134.894 1251.4 Q133.089 1254.94 133.089 1262.07 Q133.089 1269.18 134.894 1272.75 Q136.723 1276.29 140.334 1276.29 Q143.968 1276.29 145.774 1272.75 Q147.603 1269.18 147.603 1262.07 Q147.603 1254.94 145.774 1251.4 Q143.968 1247.84 140.334 1247.84 M140.334 1244.13 Q146.144 1244.13 149.2 1248.74 Q152.279 1253.32 152.279 1262.07 Q152.279 1270.8 149.2 1275.41 Q146.144 1279.99 140.334 1279.99 Q134.524 1279.99 131.445 1275.41 Q128.39 1270.8 128.39 1262.07 Q128.39 1253.32 131.445 1248.74 Q134.524 1244.13 140.334 1244.13 Z\" fill=\"#000000\" fill-rule=\"evenodd\" fill-opacity=\"1\" /><path clip-path=\"url(#clip680)\" d=\"M 0 0 M157.348 1273.44 L162.232 1273.44 L162.232 1279.32 L157.348 1279.32 L157.348 1273.44 Z\" fill=\"#000000\" fill-rule=\"evenodd\" fill-opacity=\"1\" /><path clip-path=\"url(#clip680)\" d=\"M 0 0 M181.468 1260.69 Q184.825 1261.4 186.7 1263.67 Q188.598 1265.94 188.598 1269.27 Q188.598 1274.39 185.079 1277.19 Q181.561 1279.99 175.079 1279.99 Q172.903 1279.99 170.589 1279.55 Q168.297 1279.13 165.843 1278.28 L165.843 1273.76 Q167.788 1274.9 170.103 1275.48 Q172.417 1276.06 174.94 1276.06 Q179.339 1276.06 181.63 1274.32 Q183.945 1272.58 183.945 1269.27 Q183.945 1266.22 181.792 1264.5 Q179.663 1262.77 175.843 1262.77 L171.815 1262.77 L171.815 1258.93 L176.028 1258.93 Q179.477 1258.93 181.306 1257.56 Q183.135 1256.17 183.135 1253.58 Q183.135 1250.92 181.237 1249.5 Q179.362 1248.07 175.843 1248.07 Q173.922 1248.07 171.723 1248.49 Q169.524 1248.9 166.885 1249.78 L166.885 1245.62 Q169.547 1244.88 171.862 1244.5 Q174.2 1244.13 176.26 1244.13 Q181.584 1244.13 184.686 1246.56 Q187.788 1248.97 187.788 1253.09 Q187.788 1255.96 186.144 1257.95 Q184.501 1259.92 181.468 1260.69 Z\" fill=\"#000000\" fill-rule=\"evenodd\" fill-opacity=\"1\" /><path clip-path=\"url(#clip680)\" d=\"M 0 0 M193.713 1244.76 L212.07 1244.76 L212.07 1248.69 L197.996 1248.69 L197.996 1257.17 Q199.014 1256.82 200.033 1256.66 Q201.051 1256.47 202.07 1256.47 Q207.857 1256.47 211.237 1259.64 Q214.616 1262.81 214.616 1268.23 Q214.616 1273.81 211.144 1276.91 Q207.672 1279.99 201.352 1279.99 Q199.176 1279.99 196.908 1279.62 Q194.663 1279.25 192.255 1278.51 L192.255 1273.81 Q194.338 1274.94 196.561 1275.5 Q198.783 1276.06 201.26 1276.06 Q205.264 1276.06 207.602 1273.95 Q209.94 1271.84 209.94 1268.23 Q209.94 1264.62 207.602 1262.51 Q205.264 1260.41 201.26 1260.41 Q199.385 1260.41 197.51 1260.82 Q195.658 1261.24 193.713 1262.12 L193.713 1244.76 Z\" fill=\"#000000\" fill-rule=\"evenodd\" fill-opacity=\"1\" /><path clip-path=\"url(#clip680)\" d=\"M 0 0 M138.205 1069.12 Q134.593 1069.12 132.765 1072.68 Q130.959 1076.22 130.959 1083.35 Q130.959 1090.46 132.765 1094.02 Q134.593 1097.57 138.205 1097.57 Q141.839 1097.57 143.644 1094.02 Q145.473 1090.46 145.473 1083.35 Q145.473 1076.22 143.644 1072.68 Q141.839 1069.12 138.205 1069.12 M138.205 1065.41 Q144.015 1065.41 147.07 1070.02 Q150.149 1074.6 150.149 1083.35 Q150.149 1092.08 147.07 1096.69 Q144.015 1101.27 138.205 1101.27 Q132.394 1101.27 129.316 1096.69 Q126.26 1092.08 126.26 1083.35 Q126.26 1074.6 129.316 1070.02 Q132.394 1065.41 138.205 1065.41 Z\" fill=\"#000000\" fill-rule=\"evenodd\" fill-opacity=\"1\" /><path clip-path=\"url(#clip680)\" d=\"M 0 0 M155.218 1094.72 L160.103 1094.72 L160.103 1100.6 L155.218 1100.6 L155.218 1094.72 Z\" fill=\"#000000\" fill-rule=\"evenodd\" fill-opacity=\"1\" /><path clip-path=\"url(#clip680)\" d=\"M 0 0 M178.019 1070.11 L166.214 1088.56 L178.019 1088.56 L178.019 1070.11 M176.792 1066.04 L182.672 1066.04 L182.672 1088.56 L187.602 1088.56 L187.602 1092.45 L182.672 1092.45 L182.672 1100.6 L178.019 1100.6 L178.019 1092.45 L162.417 1092.45 L162.417 1087.94 L176.792 1066.04 Z\" fill=\"#000000\" fill-rule=\"evenodd\" fill-opacity=\"1\" /><path clip-path=\"url(#clip680)\" d=\"M 0 0 M202.672 1069.12 Q199.061 1069.12 197.232 1072.68 Q195.426 1076.22 195.426 1083.35 Q195.426 1090.46 197.232 1094.02 Q199.061 1097.57 202.672 1097.57 Q206.306 1097.57 208.112 1094.02 Q209.94 1090.46 209.94 1083.35 Q209.94 1076.22 208.112 1072.68 Q206.306 1069.12 202.672 1069.12 M202.672 1065.41 Q208.482 1065.41 211.537 1070.02 Q214.616 1074.6 214.616 1083.35 Q214.616 1092.08 211.537 1096.69 Q208.482 1101.27 202.672 1101.27 Q196.862 1101.27 193.783 1096.69 Q190.727 1092.08 190.727 1083.35 Q190.727 1074.6 193.783 1070.02 Q196.862 1065.41 202.672 1065.41 Z\" fill=\"#000000\" fill-rule=\"evenodd\" fill-opacity=\"1\" /><path clip-path=\"url(#clip680)\" d=\"M 0 0 M139.2 890.396 Q135.589 890.396 133.76 893.961 Q131.955 897.502 131.955 904.632 Q131.955 911.738 133.76 915.303 Q135.589 918.845 139.2 918.845 Q142.834 918.845 144.64 915.303 Q146.468 911.738 146.468 904.632 Q146.468 897.502 144.64 893.961 Q142.834 890.396 139.2 890.396 M139.2 886.692 Q145.01 886.692 148.066 891.299 Q151.144 895.882 151.144 904.632 Q151.144 913.359 148.066 917.965 Q145.01 922.548 139.2 922.548 Q133.39 922.548 130.311 917.965 Q127.256 913.359 127.256 904.632 Q127.256 895.882 130.311 891.299 Q133.39 886.692 139.2 886.692 Z\" fill=\"#000000\" fill-rule=\"evenodd\" fill-opacity=\"1\" /><path clip-path=\"url(#clip680)\" d=\"M 0 0 M156.214 915.998 L161.098 915.998 L161.098 921.877 L156.214 921.877 L156.214 915.998 Z\" fill=\"#000000\" fill-rule=\"evenodd\" fill-opacity=\"1\" /><path clip-path=\"url(#clip680)\" d=\"M 0 0 M179.015 891.391 L167.209 909.84 L179.015 909.84 L179.015 891.391 M177.788 887.317 L183.667 887.317 L183.667 909.84 L188.598 909.84 L188.598 913.729 L183.667 913.729 L183.667 921.877 L179.015 921.877 L179.015 913.729 L163.413 913.729 L163.413 909.215 L177.788 887.317 Z\" fill=\"#000000\" fill-rule=\"evenodd\" fill-opacity=\"1\" /><path clip-path=\"url(#clip680)\" d=\"M 0 0 M193.713 887.317 L212.07 887.317 L212.07 891.252 L197.996 891.252 L197.996 899.724 Q199.014 899.377 200.033 899.215 Q201.051 899.03 202.07 899.03 Q207.857 899.03 211.237 902.201 Q214.616 905.373 214.616 910.789 Q214.616 916.368 211.144 919.47 Q207.672 922.548 201.352 922.548 Q199.176 922.548 196.908 922.178 Q194.663 921.808 192.255 921.067 L192.255 916.368 Q194.338 917.502 196.561 918.058 Q198.783 918.613 201.26 918.613 Q205.264 918.613 207.602 916.507 Q209.94 914.4 209.94 910.789 Q209.94 907.178 207.602 905.072 Q205.264 902.965 201.26 902.965 Q199.385 902.965 197.51 903.382 Q195.658 903.799 193.713 904.678 L193.713 887.317 Z\" fill=\"#000000\" fill-rule=\"evenodd\" fill-opacity=\"1\" /><path clip-path=\"url(#clip680)\" d=\"M 0 0 M139.686 711.675 Q136.075 711.675 134.246 715.24 Q132.441 718.781 132.441 725.911 Q132.441 733.017 134.246 736.582 Q136.075 740.124 139.686 740.124 Q143.32 740.124 145.126 736.582 Q146.954 733.017 146.954 725.911 Q146.954 718.781 145.126 715.24 Q143.32 711.675 139.686 711.675 M139.686 707.971 Q145.496 707.971 148.552 712.577 Q151.63 717.161 151.63 725.911 Q151.63 734.638 148.552 739.244 Q145.496 743.827 139.686 743.827 Q133.876 743.827 130.797 739.244 Q127.742 734.638 127.742 725.911 Q127.742 717.161 130.797 712.577 Q133.876 707.971 139.686 707.971 Z\" fill=\"#000000\" fill-rule=\"evenodd\" fill-opacity=\"1\" /><path clip-path=\"url(#clip680)\" d=\"M 0 0 M156.7 737.276 L161.584 737.276 L161.584 743.156 L156.7 743.156 L156.7 737.276 Z\" fill=\"#000000\" fill-rule=\"evenodd\" fill-opacity=\"1\" /><path clip-path=\"url(#clip680)\" d=\"M 0 0 M166.7 708.596 L185.056 708.596 L185.056 712.531 L170.982 712.531 L170.982 721.003 Q172.001 720.656 173.019 720.494 Q174.038 720.309 175.056 720.309 Q180.843 720.309 184.223 723.48 Q187.602 726.651 187.602 732.068 Q187.602 737.647 184.13 740.749 Q180.658 743.827 174.339 743.827 Q172.163 743.827 169.894 743.457 Q167.649 743.087 165.241 742.346 L165.241 737.647 Q167.325 738.781 169.547 739.337 Q171.769 739.892 174.246 739.892 Q178.251 739.892 180.589 737.786 Q182.927 735.679 182.927 732.068 Q182.927 728.457 180.589 726.351 Q178.251 724.244 174.246 724.244 Q172.371 724.244 170.496 724.661 Q168.644 725.077 166.7 725.957 L166.7 708.596 Z\" fill=\"#000000\" fill-rule=\"evenodd\" fill-opacity=\"1\" /><path clip-path=\"url(#clip680)\" d=\"M 0 0 M202.672 711.675 Q199.061 711.675 197.232 715.24 Q195.426 718.781 195.426 725.911 Q195.426 733.017 197.232 736.582 Q199.061 740.124 202.672 740.124 Q206.306 740.124 208.112 736.582 Q209.94 733.017 209.94 725.911 Q209.94 718.781 208.112 715.24 Q206.306 711.675 202.672 711.675 M202.672 707.971 Q208.482 707.971 211.537 712.577 Q214.616 717.161 214.616 725.911 Q214.616 734.638 211.537 739.244 Q208.482 743.827 202.672 743.827 Q196.862 743.827 193.783 739.244 Q190.727 734.638 190.727 725.911 Q190.727 717.161 193.783 712.577 Q196.862 707.971 202.672 707.971 Z\" fill=\"#000000\" fill-rule=\"evenodd\" fill-opacity=\"1\" /><path clip-path=\"url(#clip680)\" d=\"M 0 0 M140.681 532.954 Q137.07 532.954 135.242 536.518 Q133.436 540.06 133.436 547.19 Q133.436 554.296 135.242 557.861 Q137.07 561.403 140.681 561.403 Q144.316 561.403 146.121 557.861 Q147.95 554.296 147.95 547.19 Q147.95 540.06 146.121 536.518 Q144.316 532.954 140.681 532.954 M140.681 529.25 Q146.492 529.25 149.547 533.856 Q152.626 538.44 152.626 547.19 Q152.626 555.916 149.547 560.523 Q146.492 565.106 140.681 565.106 Q134.871 565.106 131.793 560.523 Q128.737 555.916 128.737 547.19 Q128.737 538.44 131.793 533.856 Q134.871 529.25 140.681 529.25 Z\" fill=\"#000000\" fill-rule=\"evenodd\" fill-opacity=\"1\" /><path clip-path=\"url(#clip680)\" d=\"M 0 0 M157.695 558.555 L162.579 558.555 L162.579 564.435 L157.695 564.435 L157.695 558.555 Z\" fill=\"#000000\" fill-rule=\"evenodd\" fill-opacity=\"1\" /><path clip-path=\"url(#clip680)\" d=\"M 0 0 M167.695 529.875 L186.052 529.875 L186.052 533.81 L171.978 533.81 L171.978 542.282 Q172.996 541.935 174.015 541.773 Q175.033 541.588 176.052 541.588 Q181.839 541.588 185.218 544.759 Q188.598 547.93 188.598 553.347 Q188.598 558.926 185.126 562.028 Q181.653 565.106 175.334 565.106 Q173.158 565.106 170.89 564.736 Q168.644 564.365 166.237 563.625 L166.237 558.926 Q168.32 560.06 170.542 560.616 Q172.765 561.171 175.241 561.171 Q179.246 561.171 181.584 559.065 Q183.922 556.958 183.922 553.347 Q183.922 549.736 181.584 547.629 Q179.246 545.523 175.241 545.523 Q173.366 545.523 171.491 545.94 Q169.64 546.356 167.695 547.236 L167.695 529.875 Z\" fill=\"#000000\" fill-rule=\"evenodd\" fill-opacity=\"1\" /><path clip-path=\"url(#clip680)\" d=\"M 0 0 M193.713 529.875 L212.07 529.875 L212.07 533.81 L197.996 533.81 L197.996 542.282 Q199.014 541.935 200.033 541.773 Q201.051 541.588 202.07 541.588 Q207.857 541.588 211.237 544.759 Q214.616 547.93 214.616 553.347 Q214.616 558.926 211.144 562.028 Q207.672 565.106 201.352 565.106 Q199.176 565.106 196.908 564.736 Q194.663 564.365 192.255 563.625 L192.255 558.926 Q194.338 560.06 196.561 560.616 Q198.783 561.171 201.26 561.171 Q205.264 561.171 207.602 559.065 Q209.94 556.958 209.94 553.347 Q209.94 549.736 207.602 547.629 Q205.264 545.523 201.26 545.523 Q199.385 545.523 197.51 545.94 Q195.658 546.356 193.713 547.236 L193.713 529.875 Z\" fill=\"#000000\" fill-rule=\"evenodd\" fill-opacity=\"1\" /><path clip-path=\"url(#clip680)\" d=\"M 0 0 M138.529 354.233 Q134.918 354.233 133.089 357.797 Q131.283 361.339 131.283 368.469 Q131.283 375.575 133.089 379.14 Q134.918 382.681 138.529 382.681 Q142.163 382.681 143.968 379.14 Q145.797 375.575 145.797 368.469 Q145.797 361.339 143.968 357.797 Q142.163 354.233 138.529 354.233 M138.529 350.529 Q144.339 350.529 147.394 355.135 Q150.473 359.719 150.473 368.469 Q150.473 377.195 147.394 381.802 Q144.339 386.385 138.529 386.385 Q132.718 386.385 129.64 381.802 Q126.584 377.195 126.584 368.469 Q126.584 359.719 129.64 355.135 Q132.718 350.529 138.529 350.529 Z\" fill=\"#000000\" fill-rule=\"evenodd\" fill-opacity=\"1\" /><path clip-path=\"url(#clip680)\" d=\"M 0 0 M155.542 379.834 L160.427 379.834 L160.427 385.714 L155.542 385.714 L155.542 379.834 Z\" fill=\"#000000\" fill-rule=\"evenodd\" fill-opacity=\"1\" /><path clip-path=\"url(#clip680)\" d=\"M 0 0 M176.075 366.57 Q172.927 366.57 171.075 368.723 Q169.246 370.876 169.246 374.626 Q169.246 378.353 171.075 380.529 Q172.927 382.681 176.075 382.681 Q179.223 382.681 181.052 380.529 Q182.903 378.353 182.903 374.626 Q182.903 370.876 181.052 368.723 Q179.223 366.57 176.075 366.57 M185.357 351.918 L185.357 356.177 Q183.598 355.344 181.792 354.904 Q180.01 354.464 178.251 354.464 Q173.621 354.464 171.167 357.589 Q168.737 360.714 168.39 367.033 Q169.755 365.02 171.815 363.955 Q173.876 362.867 176.352 362.867 Q181.561 362.867 184.57 366.038 Q187.602 369.186 187.602 374.626 Q187.602 379.95 184.454 383.168 Q181.306 386.385 176.075 386.385 Q170.079 386.385 166.908 381.802 Q163.737 377.195 163.737 368.469 Q163.737 360.274 167.626 355.413 Q171.515 350.529 178.065 350.529 Q179.825 350.529 181.607 350.876 Q183.413 351.223 185.357 351.918 Z\" fill=\"#000000\" fill-rule=\"evenodd\" fill-opacity=\"1\" /><path clip-path=\"url(#clip680)\" d=\"M 0 0 M202.672 354.233 Q199.061 354.233 197.232 357.797 Q195.426 361.339 195.426 368.469 Q195.426 375.575 197.232 379.14 Q199.061 382.681 202.672 382.681 Q206.306 382.681 208.112 379.14 Q209.94 375.575 209.94 368.469 Q209.94 361.339 208.112 357.797 Q206.306 354.233 202.672 354.233 M202.672 350.529 Q208.482 350.529 211.537 355.135 Q214.616 359.719 214.616 368.469 Q214.616 377.195 211.537 381.802 Q208.482 386.385 202.672 386.385 Q196.862 386.385 193.783 381.802 Q190.727 377.195 190.727 368.469 Q190.727 359.719 193.783 355.135 Q196.862 350.529 202.672 350.529 Z\" fill=\"#000000\" fill-rule=\"evenodd\" fill-opacity=\"1\" /><path clip-path=\"url(#clip680)\" d=\"M 0 0 M139.524 175.511 Q135.913 175.511 134.084 179.076 Q132.279 182.618 132.279 189.747 Q132.279 196.854 134.084 200.419 Q135.913 203.96 139.524 203.96 Q143.158 203.96 144.964 200.419 Q146.792 196.854 146.792 189.747 Q146.792 182.618 144.964 179.076 Q143.158 175.511 139.524 175.511 M139.524 171.808 Q145.334 171.808 148.39 176.414 Q151.468 180.998 151.468 189.747 Q151.468 198.474 148.39 203.081 Q145.334 207.664 139.524 207.664 Q133.714 207.664 130.635 203.081 Q127.58 198.474 127.58 189.747 Q127.58 180.998 130.635 176.414 Q133.714 171.808 139.524 171.808 Z\" fill=\"#000000\" fill-rule=\"evenodd\" fill-opacity=\"1\" /><path clip-path=\"url(#clip680)\" d=\"M 0 0 M156.538 201.113 L161.422 201.113 L161.422 206.993 L156.538 206.993 L156.538 201.113 Z\" fill=\"#000000\" fill-rule=\"evenodd\" fill-opacity=\"1\" /><path clip-path=\"url(#clip680)\" d=\"M 0 0 M177.07 187.849 Q173.922 187.849 172.07 190.002 Q170.241 192.155 170.241 195.905 Q170.241 199.632 172.07 201.808 Q173.922 203.96 177.07 203.96 Q180.218 203.96 182.047 201.808 Q183.899 199.632 183.899 195.905 Q183.899 192.155 182.047 190.002 Q180.218 187.849 177.07 187.849 M186.352 173.197 L186.352 177.456 Q184.593 176.623 182.788 176.183 Q181.005 175.743 179.246 175.743 Q174.616 175.743 172.163 178.868 Q169.732 181.993 169.385 188.312 Q170.751 186.298 172.811 185.234 Q174.871 184.146 177.348 184.146 Q182.556 184.146 185.565 187.317 Q188.598 190.465 188.598 195.905 Q188.598 201.229 185.45 204.446 Q182.302 207.664 177.07 207.664 Q171.075 207.664 167.903 203.081 Q164.732 198.474 164.732 189.747 Q164.732 181.553 168.621 176.692 Q172.51 171.808 179.061 171.808 Q180.82 171.808 182.602 172.155 Q184.408 172.502 186.352 173.197 Z\" fill=\"#000000\" fill-rule=\"evenodd\" fill-opacity=\"1\" /><path clip-path=\"url(#clip680)\" d=\"M 0 0 M193.713 172.433 L212.07 172.433 L212.07 176.368 L197.996 176.368 L197.996 184.84 Q199.014 184.493 200.033 184.331 Q201.051 184.146 202.07 184.146 Q207.857 184.146 211.237 187.317 Q214.616 190.488 214.616 195.905 Q214.616 201.484 211.144 204.585 Q207.672 207.664 201.352 207.664 Q199.176 207.664 196.908 207.294 Q194.663 206.923 192.255 206.183 L192.255 201.484 Q194.338 202.618 196.561 203.173 Q198.783 203.729 201.26 203.729 Q205.264 203.729 207.602 201.622 Q209.94 199.516 209.94 195.905 Q209.94 192.294 207.602 190.187 Q205.264 188.081 201.26 188.081 Q199.385 188.081 197.51 188.497 Q195.658 188.914 193.713 189.794 L193.713 172.433 Z\" fill=\"#000000\" fill-rule=\"evenodd\" fill-opacity=\"1\" /><path clip-path=\"url(#clip680)\" d=\"M 0 0 M1225.97 1536.76 L1225.97 1539.62 L1199.04 1539.62 Q1199.42 1545.67 1202.67 1548.85 Q1205.95 1552 1211.77 1552 Q1215.14 1552 1218.29 1551.17 Q1221.48 1550.35 1224.6 1548.69 L1224.6 1554.23 Q1221.45 1555.57 1218.14 1556.27 Q1214.83 1556.97 1211.42 1556.97 Q1202.89 1556.97 1197.89 1552 Q1192.93 1547.04 1192.93 1538.57 Q1192.93 1529.82 1197.64 1524.69 Q1202.38 1519.54 1210.4 1519.54 Q1217.59 1519.54 1221.76 1524.18 Q1225.97 1528.8 1225.97 1536.76 M1220.11 1535.04 Q1220.05 1530.23 1217.4 1527.37 Q1214.79 1524.5 1210.47 1524.5 Q1205.56 1524.5 1202.6 1527.27 Q1199.68 1530.04 1199.23 1535.07 L1220.11 1535.04 Z\" fill=\"#000000\" fill-rule=\"evenodd\" fill-opacity=\"1\" /><path clip-path=\"url(#clip680)\" d=\"M 0 0 M1237.77 1550.7 L1237.77 1569.6 L1231.89 1569.6 L1231.89 1520.4 L1237.77 1520.4 L1237.77 1525.81 Q1239.62 1522.62 1242.42 1521.1 Q1245.25 1519.54 1249.17 1519.54 Q1255.66 1519.54 1259.7 1524.69 Q1263.78 1529.85 1263.78 1538.25 Q1263.78 1546.65 1259.7 1551.81 Q1255.66 1556.97 1249.17 1556.97 Q1245.25 1556.97 1242.42 1555.44 Q1239.62 1553.88 1237.77 1550.7 M1257.7 1538.25 Q1257.7 1531.79 1255.03 1528.13 Q1252.38 1524.44 1247.74 1524.44 Q1243.09 1524.44 1240.42 1528.13 Q1237.77 1531.79 1237.77 1538.25 Q1237.77 1544.71 1240.42 1548.4 Q1243.09 1552.07 1247.74 1552.07 Q1252.38 1552.07 1255.03 1548.4 Q1257.7 1544.71 1257.7 1538.25 Z\" fill=\"#000000\" fill-rule=\"evenodd\" fill-opacity=\"1\" /><path clip-path=\"url(#clip680)\" d=\"M 0 0 M1283.73 1524.5 Q1279.02 1524.5 1276.29 1528.19 Q1273.55 1531.85 1273.55 1538.25 Q1273.55 1544.65 1276.25 1548.34 Q1278.99 1552 1283.73 1552 Q1288.41 1552 1291.15 1548.31 Q1293.89 1544.62 1293.89 1538.25 Q1293.89 1531.92 1291.15 1528.23 Q1288.41 1524.5 1283.73 1524.5 M1283.73 1519.54 Q1291.37 1519.54 1295.73 1524.5 Q1300.09 1529.47 1300.09 1538.25 Q1300.09 1547 1295.73 1552 Q1291.37 1556.97 1283.73 1556.97 Q1276.06 1556.97 1271.7 1552 Q1267.37 1547 1267.37 1538.25 Q1267.37 1529.47 1271.7 1524.5 Q1276.06 1519.54 1283.73 1519.54 Z\" fill=\"#000000\" fill-rule=\"evenodd\" fill-opacity=\"1\" /><path clip-path=\"url(#clip680)\" d=\"M 0 0 M1331.89 1521.76 L1331.89 1527.24 Q1329.41 1525.87 1326.89 1525.2 Q1324.41 1524.5 1321.87 1524.5 Q1316.17 1524.5 1313.02 1528.13 Q1309.87 1531.73 1309.87 1538.25 Q1309.87 1544.78 1313.02 1548.4 Q1316.17 1552 1321.87 1552 Q1324.41 1552 1326.89 1551.33 Q1329.41 1550.63 1331.89 1549.26 L1331.89 1554.68 Q1329.44 1555.82 1326.8 1556.39 Q1324.19 1556.97 1321.23 1556.97 Q1313.18 1556.97 1308.43 1551.91 Q1303.69 1546.85 1303.69 1538.25 Q1303.69 1529.53 1308.47 1524.53 Q1313.27 1519.54 1321.61 1519.54 Q1324.32 1519.54 1326.89 1520.11 Q1329.47 1520.65 1331.89 1521.76 Z\" fill=\"#000000\" fill-rule=\"evenodd\" fill-opacity=\"1\" /><path clip-path=\"url(#clip680)\" d=\"M 0 0 M1367.67 1534.53 L1367.67 1556.04 L1361.81 1556.04 L1361.81 1534.72 Q1361.81 1529.66 1359.84 1527.14 Q1357.86 1524.63 1353.92 1524.63 Q1349.17 1524.63 1346.44 1527.65 Q1343.7 1530.68 1343.7 1535.9 L1343.7 1556.04 L1337.81 1556.04 L1337.81 1506.52 L1343.7 1506.52 L1343.7 1525.93 Q1345.8 1522.72 1348.63 1521.13 Q1351.5 1519.54 1355.22 1519.54 Q1361.36 1519.54 1364.52 1523.36 Q1367.67 1527.14 1367.67 1534.53 Z\" fill=\"#000000\" fill-rule=\"evenodd\" fill-opacity=\"1\" /><path clip-path=\"url(#clip680)\" d=\"M 0 0 M1396.53 1521.45 L1396.53 1526.98 Q1394.05 1525.71 1391.38 1525.07 Q1388.7 1524.44 1385.84 1524.44 Q1381.48 1524.44 1379.28 1525.77 Q1377.12 1527.11 1377.12 1529.79 Q1377.12 1531.82 1378.68 1533 Q1380.24 1534.15 1384.95 1535.2 L1386.95 1535.64 Q1393.19 1536.98 1395.8 1539.43 Q1398.44 1541.85 1398.44 1546.21 Q1398.44 1551.17 1394.5 1554.07 Q1390.58 1556.97 1383.71 1556.97 Q1380.84 1556.97 1377.72 1556.39 Q1374.64 1555.85 1371.2 1554.74 L1371.2 1548.69 Q1374.45 1550.38 1377.6 1551.24 Q1380.75 1552.07 1383.84 1552.07 Q1387.97 1552.07 1390.2 1550.66 Q1392.43 1549.23 1392.43 1546.65 Q1392.43 1544.27 1390.81 1542.99 Q1389.21 1541.72 1383.77 1540.54 L1381.73 1540.07 Q1376.29 1538.92 1373.87 1536.56 Q1371.45 1534.18 1371.45 1530.04 Q1371.45 1525.01 1375.02 1522.27 Q1378.58 1519.54 1385.14 1519.54 Q1388.39 1519.54 1391.25 1520.01 Q1394.12 1520.49 1396.53 1521.45 Z\" fill=\"#000000\" fill-rule=\"evenodd\" fill-opacity=\"1\" /><path clip-path=\"url(#clip680)\" d=\"M 0 0 M44.1444 904.492 L50.9239 904.492 Q47.9002 907.739 46.4043 911.431 Q44.9083 915.091 44.9083 919.229 Q44.9083 927.377 49.9054 931.705 Q54.8707 936.034 64.2919 936.034 Q73.6813 936.034 78.6784 931.705 Q83.6436 927.377 83.6436 919.229 Q83.6436 915.091 82.1477 911.431 Q80.6518 907.739 77.6281 904.492 L84.3439 904.492 Q86.6355 907.866 87.7814 911.653 Q88.9272 915.409 88.9272 919.611 Q88.9272 930.4 82.3387 936.607 Q75.7183 942.814 64.2919 942.814 Q52.8336 942.814 46.2451 936.607 Q39.6248 930.4 39.6248 919.611 Q39.6248 915.346 40.7706 911.59 Q41.8846 907.802 44.1444 904.492 Z\" fill=\"#000000\" fill-rule=\"evenodd\" fill-opacity=\"1\" /><path clip-path=\"url(#clip680)\" d=\"M 0 0 M57.8307 877.692 Q57.2578 878.679 57.0032 879.857 Q56.7167 881.003 56.7167 882.403 Q56.7167 887.368 59.9632 890.042 Q63.1779 892.684 69.2253 892.684 L88.0042 892.684 L88.0042 898.572 L52.3562 898.572 L52.3562 892.684 L57.8944 892.684 Q54.6479 890.838 53.0883 887.878 Q51.4968 884.917 51.4968 880.684 Q51.4968 880.08 51.5923 879.347 Q51.656 878.615 51.8151 877.724 L57.8307 877.692 Z\" fill=\"#000000\" fill-rule=\"evenodd\" fill-opacity=\"1\" /><path clip-path=\"url(#clip680)\" d=\"M 0 0 M56.4621 859.168 Q56.4621 863.879 60.1542 866.616 Q63.8145 869.353 70.212 869.353 Q76.6095 869.353 80.3017 866.648 Q83.9619 863.911 83.9619 859.168 Q83.9619 854.489 80.2698 851.752 Q76.5777 849.015 70.212 849.015 Q63.8781 849.015 60.186 851.752 Q56.4621 854.489 56.4621 859.168 M51.4968 859.168 Q51.4968 851.529 56.4621 847.169 Q61.4273 842.808 70.212 842.808 Q78.9649 842.808 83.9619 847.169 Q88.9272 851.529 88.9272 859.168 Q88.9272 866.839 83.9619 871.199 Q78.9649 875.528 70.212 875.528 Q61.4273 875.528 56.4621 871.199 Q51.4968 866.839 51.4968 859.168 Z\" fill=\"#000000\" fill-rule=\"evenodd\" fill-opacity=\"1\" /><path clip-path=\"url(#clip680)\" d=\"M 0 0 M53.4065 813.94 L58.9447 813.94 Q57.6716 816.422 57.035 819.096 Q56.3984 821.77 56.3984 824.634 Q56.3984 828.995 57.7352 831.191 Q59.072 833.355 61.7456 833.355 Q63.7826 833.355 64.9603 831.796 Q66.1061 830.236 67.1565 825.525 L67.6021 823.52 Q68.9389 817.282 71.3897 814.672 Q73.8086 812.03 78.1691 812.03 Q83.1344 812.03 86.0308 815.977 Q88.9272 819.892 88.9272 826.767 Q88.9272 829.631 88.3543 832.751 Q87.8132 835.838 86.6992 839.275 L80.6518 839.275 Q82.3387 836.029 83.198 832.878 Q84.0256 829.727 84.0256 826.639 Q84.0256 822.502 82.6251 820.274 Q81.1929 818.046 78.6147 818.046 Q76.2276 818.046 74.9545 819.669 Q73.6813 821.26 72.5037 826.703 L72.0262 828.74 Q70.8804 834.183 68.5251 836.602 Q66.138 839.021 62.0002 839.021 Q56.9713 839.021 54.2341 835.456 Q51.4968 831.891 51.4968 825.334 Q51.4968 822.088 51.9743 819.223 Q52.4517 816.359 53.4065 813.94 Z\" fill=\"#000000\" fill-rule=\"evenodd\" fill-opacity=\"1\" /><path clip-path=\"url(#clip680)\" d=\"M 0 0 M53.4065 783.162 L58.9447 783.162 Q57.6716 785.644 57.035 788.318 Q56.3984 790.991 56.3984 793.856 Q56.3984 798.217 57.7352 800.413 Q59.072 802.577 61.7456 802.577 Q63.7826 802.577 64.9603 801.017 Q66.1061 799.458 67.1565 794.747 L67.6021 792.742 Q68.9389 786.504 71.3897 783.894 Q73.8086 781.252 78.1691 781.252 Q83.1344 781.252 86.0308 785.199 Q88.9272 789.114 88.9272 795.989 Q88.9272 798.853 88.3543 801.972 Q87.8132 805.06 86.6992 808.497 L80.6518 808.497 Q82.3387 805.251 83.198 802.1 Q84.0256 798.949 84.0256 795.861 Q84.0256 791.724 82.6251 789.496 Q81.1929 787.268 78.6147 787.268 Q76.2276 787.268 74.9545 788.891 Q73.6813 790.482 72.5037 795.925 L72.0262 797.962 Q70.8804 803.405 68.5251 805.824 Q66.138 808.243 62.0002 808.243 Q56.9713 808.243 54.2341 804.678 Q51.4968 801.113 51.4968 794.556 Q51.4968 791.31 51.9743 788.445 Q52.4517 785.581 53.4065 783.162 Z\" fill=\"#000000\" fill-rule=\"evenodd\" fill-opacity=\"1\" /><path clip-path=\"url(#clip680)\" d=\"M 0 0 M40.4842 754.134 L40.4842 724.088 L45.895 724.088 L45.895 747.705 L59.9632 747.705 L59.9632 725.075 L65.3741 725.075 L65.3741 747.705 L82.5933 747.705 L82.5933 723.515 L88.0042 723.515 L88.0042 754.134 L40.4842 754.134 Z\" fill=\"#000000\" fill-rule=\"evenodd\" fill-opacity=\"1\" /><path clip-path=\"url(#clip680)\" d=\"M 0 0 M66.4881 687.74 L88.0042 687.74 L88.0042 693.596 L66.679 693.596 Q61.6183 693.596 59.1038 695.57 Q56.5894 697.543 56.5894 701.49 Q56.5894 706.232 59.6131 708.969 Q62.6368 711.707 67.8567 711.707 L88.0042 711.707 L88.0042 717.595 L52.3562 717.595 L52.3562 711.707 L57.8944 711.707 Q54.6797 709.606 53.0883 706.773 Q51.4968 703.909 51.4968 700.185 Q51.4968 694.042 55.3163 690.891 Q59.1038 687.74 66.4881 687.74 Z\" fill=\"#000000\" fill-rule=\"evenodd\" fill-opacity=\"1\" /><path clip-path=\"url(#clip680)\" d=\"M 0 0 M42.2347 675.804 L52.3562 675.804 L52.3562 663.741 L56.9077 663.741 L56.9077 675.804 L76.2594 675.804 Q80.6199 675.804 81.8613 674.626 Q83.1026 673.417 83.1026 669.757 L83.1026 663.741 L88.0042 663.741 L88.0042 669.757 Q88.0042 676.536 85.4897 679.114 Q82.9434 681.692 76.2594 681.692 L56.9077 681.692 L56.9077 685.989 L52.3562 685.989 L52.3562 681.692 L42.2347 681.692 L42.2347 675.804 Z\" fill=\"#000000\" fill-rule=\"evenodd\" fill-opacity=\"1\" /><path clip-path=\"url(#clip680)\" d=\"M 0 0 M57.8307 636.941 Q57.2578 637.928 57.0032 639.106 Q56.7167 640.252 56.7167 641.652 Q56.7167 646.617 59.9632 649.291 Q63.1779 651.933 69.2253 651.933 L88.0042 651.933 L88.0042 657.821 L52.3562 657.821 L52.3562 651.933 L57.8944 651.933 Q54.6479 650.087 53.0883 647.127 Q51.4968 644.166 51.4968 639.933 Q51.4968 639.329 51.5923 638.596 Q51.656 637.864 51.8151 636.973 L57.8307 636.941 Z\" fill=\"#000000\" fill-rule=\"evenodd\" fill-opacity=\"1\" /><path clip-path=\"url(#clip680)\" d=\"M 0 0 M56.4621 618.417 Q56.4621 623.128 60.1542 625.865 Q63.8145 628.602 70.212 628.602 Q76.6095 628.602 80.3017 625.897 Q83.9619 623.16 83.9619 618.417 Q83.9619 613.738 80.2698 611.001 Q76.5777 608.264 70.212 608.264 Q63.8781 608.264 60.186 611.001 Q56.4621 613.738 56.4621 618.417 M51.4968 618.417 Q51.4968 610.778 56.4621 606.418 Q61.4273 602.057 70.212 602.057 Q78.9649 602.057 83.9619 606.418 Q88.9272 610.778 88.9272 618.417 Q88.9272 626.088 83.9619 630.448 Q78.9649 634.777 70.212 634.777 Q61.4273 634.777 56.4621 630.448 Q51.4968 626.088 51.4968 618.417 Z\" fill=\"#000000\" fill-rule=\"evenodd\" fill-opacity=\"1\" /><path clip-path=\"url(#clip680)\" d=\"M 0 0 M82.657 590.249 L101.563 590.249 L101.563 596.137 L52.3562 596.137 L52.3562 590.249 L57.7671 590.249 Q54.5842 588.403 53.0564 585.602 Q51.4968 582.769 51.4968 578.854 Q51.4968 572.361 56.6531 568.319 Q61.8093 564.245 70.212 564.245 Q78.6147 564.245 83.771 568.319 Q88.9272 572.361 88.9272 578.854 Q88.9272 582.769 87.3994 585.602 Q85.8398 588.403 82.657 590.249 M70.212 570.324 Q63.7508 570.324 60.0905 572.998 Q56.3984 575.64 56.3984 580.287 Q56.3984 584.934 60.0905 587.607 Q63.7508 590.249 70.212 590.249 Q76.6732 590.249 80.3653 587.607 Q84.0256 584.934 84.0256 580.287 Q84.0256 575.64 80.3653 572.998 Q76.6732 570.324 70.212 570.324 Z\" fill=\"#000000\" fill-rule=\"evenodd\" fill-opacity=\"1\" /><path clip-path=\"url(#clip680)\" d=\"M 0 0 M91.3143 543.27 Q97.68 545.753 99.6216 548.108 Q101.563 550.463 101.563 554.41 L101.563 559.089 L96.6615 559.089 L96.6615 555.651 Q96.6615 553.232 95.5157 551.896 Q94.3699 550.559 90.1048 548.935 L87.4312 547.885 L52.3562 562.303 L52.3562 556.097 L80.238 544.957 L52.3562 533.817 L52.3562 527.61 L91.3143 543.27 Z\" fill=\"#000000\" fill-rule=\"evenodd\" fill-opacity=\"1\" /><polyline clip-path=\"url(#clip682)\" style=\"stroke:#009af9; stroke-width:8; stroke-opacity:1; fill:none\" points=\"\n",
       "  298.45,86.1857 308.423,470.545 318.395,747.537 328.367,922.296 338.34,1031.66 348.312,1102.61 358.284,1150.53 368.257,1184.01 378.229,1208.09 388.202,1225.96 \n",
       "  398.174,1239.69 408.146,1250.6 418.119,1259.54 428.091,1267.07 438.063,1273.55 448.036,1279.24 458.008,1284.3 467.98,1288.85 477.953,1293.01 487.925,1296.82 \n",
       "  497.897,1300.34 507.87,1303.6 517.842,1306.63 527.815,1309.45 537.787,1312.06 547.759,1314.46 557.732,1316.67 567.704,1318.68 577.676,1320.5 587.649,1322.14 \n",
       "  597.621,1323.61 607.593,1324.93 617.566,1326.11 627.538,1327.15 637.51,1328.09 647.483,1328.92 657.455,1329.66 667.428,1330.33 677.4,1330.94 687.372,1331.48 \n",
       "  697.345,1331.98 707.317,1332.44 717.289,1332.87 727.262,1333.26 737.234,1333.62 747.206,1333.96 757.179,1334.28 767.151,1334.58 777.123,1334.85 787.096,1335.11 \n",
       "  797.068,1335.35 807.041,1335.58 817.013,1335.78 826.985,1335.97 836.958,1336.15 846.93,1336.31 856.902,1336.45 866.875,1336.57 876.847,1336.69 886.819,1336.78 \n",
       "  896.792,1336.86 906.764,1336.93 916.736,1336.97 926.709,1337.01 936.681,1337.03 946.654,1337.03 956.626,1337.02 966.598,1337 976.571,1336.96 986.543,1336.91 \n",
       "  996.515,1336.85 1006.49,1336.77 1016.46,1336.68 1026.43,1336.57 1036.4,1336.46 1046.38,1336.33 1056.35,1336.18 1066.32,1336.03 1076.29,1335.86 1086.27,1335.68 \n",
       "  1096.24,1335.49 1106.21,1335.28 1116.18,1335.06 1126.16,1334.83 1136.13,1334.59 1146.1,1334.34 1156.07,1334.08 1166.05,1333.8 1176.02,1333.51 1185.99,1333.22 \n",
       "  1195.96,1332.91 1205.93,1332.59 1215.91,1332.26 1225.88,1331.92 1235.85,1331.57 1245.82,1331.21 1255.8,1330.84 1265.77,1330.47 1275.74,1330.08 1285.71,1329.69 \n",
       "  1295.69,1329.29 1305.66,1328.88 1315.63,1328.47 1325.6,1328.05 1335.58,1327.62 1345.55,1327.19 1355.52,1326.76 1365.49,1326.32 1375.46,1325.88 1385.44,1325.43 \n",
       "  1395.41,1324.99 1405.38,1324.54 1415.35,1324.09 1425.33,1323.63 1435.3,1323.18 1445.27,1322.73 1455.24,1322.28 1465.22,1321.83 1475.19,1321.38 1485.16,1320.93 \n",
       "  1495.13,1320.49 1505.11,1320.05 1515.08,1319.61 1525.05,1319.17 1535.02,1318.74 1544.99,1318.32 1554.97,1317.89 1564.94,1317.48 1574.91,1317.07 1584.88,1316.66 \n",
       "  1594.86,1316.26 1604.83,1315.87 1614.8,1315.49 1624.77,1315.11 1634.75,1314.74 1644.72,1314.38 1654.69,1314.03 1664.66,1313.68 1674.64,1313.35 1684.61,1313.02 \n",
       "  1694.58,1312.71 1704.55,1312.41 1714.53,1312.11 1724.5,1311.83 1734.47,1311.56 1744.44,1311.3 1754.41,1311.05 1764.39,1310.81 1774.36,1310.58 1784.33,1310.36 \n",
       "  1794.3,1310.16 1804.28,1309.97 1814.25,1309.79 1824.22,1309.62 1834.19,1309.46 1844.17,1309.31 1854.14,1309.17 1864.11,1309.04 1874.08,1308.93 1884.06,1308.82 \n",
       "  1894.03,1308.72 1904,1308.63 1913.97,1308.55 1923.94,1308.48 1933.92,1308.42 1943.89,1308.37 1953.86,1308.32 1963.83,1308.28 1973.81,1308.24 1983.78,1308.22 \n",
       "  1993.75,1308.19 2003.72,1308.17 2013.7,1308.16 2023.67,1308.15 2033.64,1308.14 2043.61,1308.14 2053.59,1308.14 2063.56,1308.15 2073.53,1308.16 2083.5,1308.17 \n",
       "  2093.47,1308.18 2103.45,1308.19 2113.42,1308.21 2123.39,1308.22 2133.36,1308.24 2143.34,1308.26 2153.31,1308.28 2163.28,1308.3 2173.25,1308.32 2183.23,1308.34 \n",
       "  2193.2,1308.36 2203.17,1308.38 2213.14,1308.41 2223.12,1308.43 2233.09,1308.45 2243.06,1308.47 2253.03,1308.5 2263,1308.52 2272.98,1308.54 2282.95,1308.57 \n",
       "  2292.92,1308.59 \n",
       "  \"/>\n",
       "<polyline clip-path=\"url(#clip682)\" style=\"stroke:#e26f46; stroke-width:8; stroke-opacity:1; fill:none\" points=\"\n",
       "  300.445,138.435 302.439,233.106 304.434,318.84 306.428,395.579 308.423,463.975 310.417,525.008 312.412,579.714 314.406,629.029 316.401,673.727 318.395,714.431 \n",
       "  320.389,751.632 322.384,785.732 324.378,817.063 326.373,845.907 328.367,872.506 330.362,897.075 332.356,919.803 334.351,940.857 336.345,960.389 338.34,978.536 \n",
       "  340.334,995.421 342.329,1011.16 344.323,1025.84 346.318,1039.57 348.312,1052.43 350.307,1064.49 352.301,1075.82 354.296,1086.48 356.29,1096.53 358.284,1106.01 \n",
       "  360.279,1114.97 362.273,1123.46 364.268,1131.5 366.262,1139.12 368.257,1146.37 370.251,1153.25 372.246,1159.8 374.24,1166.04 376.235,1171.98 378.229,1177.65 \n",
       "  380.224,1183.05 382.218,1188.21 384.213,1193.15 386.207,1197.86 388.202,1202.38 390.196,1206.7 392.19,1210.83 394.185,1214.8 396.179,1218.6 398.174,1222.25 \n",
       "  400.168,1225.76 402.163,1229.13 404.157,1232.36 406.152,1235.48 408.146,1238.48 410.141,1241.37 412.135,1244.15 414.13,1246.84 416.124,1249.43 418.119,1251.93 \n",
       "  420.113,1254.35 422.108,1256.69 424.102,1258.95 426.096,1261.13 428.091,1263.25 430.085,1265.3 432.08,1267.29 434.074,1269.22 436.069,1271.09 438.063,1272.9 \n",
       "  440.058,1274.66 442.052,1276.37 444.047,1278.04 446.041,1279.65 448.036,1281.22 450.03,1282.75 452.025,1284.24 454.019,1285.69 456.014,1287.11 458.008,1288.48 \n",
       "  460.002,1289.83 461.997,1291.13 463.991,1292.41 465.986,1293.66 467.98,1294.87 469.975,1296.06 471.969,1297.22 473.964,1298.35 475.958,1299.46 477.953,1300.54 \n",
       "  479.947,1301.6 481.942,1302.64 483.936,1303.65 485.931,1304.64 487.925,1305.61 489.92,1306.56 491.914,1307.49 493.909,1308.4 495.903,1309.3 497.897,1310.17 \n",
       "  499.892,1311.03 501.886,1311.87 503.881,1312.69 505.875,1313.5 507.87,1314.3 509.864,1315.07 511.859,1315.84 513.853,1316.59 515.848,1317.33 517.842,1318.05 \n",
       "  519.837,1318.76 521.831,1319.46 523.826,1320.14 525.82,1320.81 527.815,1321.48 529.809,1322.13 531.803,1322.77 533.798,1323.39 535.792,1324.01 537.787,1324.62 \n",
       "  539.781,1325.22 541.776,1325.81 543.77,1326.39 545.765,1326.96 547.759,1327.52 549.754,1328.07 551.748,1328.61 553.743,1329.15 555.737,1329.67 557.732,1330.19 \n",
       "  559.726,1330.7 561.721,1331.21 563.715,1331.7 565.709,1332.19 567.704,1332.67 569.698,1333.15 571.693,1333.62 573.687,1334.08 575.682,1334.53 577.676,1334.98 \n",
       "  579.671,1335.42 581.665,1335.86 583.66,1336.29 585.654,1336.71 587.649,1337.13 589.643,1337.54 591.638,1337.95 593.632,1338.35 595.627,1338.75 597.621,1339.14 \n",
       "  599.615,1339.53 601.61,1339.91 603.604,1340.29 605.599,1340.66 607.593,1341.03 609.588,1341.39 611.582,1341.75 613.577,1342.1 615.571,1342.45 617.566,1342.8 \n",
       "  619.56,1343.14 621.555,1343.47 623.549,1343.81 625.544,1344.14 627.538,1344.46 629.533,1344.78 631.527,1345.1 633.522,1345.41 635.516,1345.72 637.51,1346.03 \n",
       "  639.505,1346.33 641.499,1346.63 643.494,1346.93 645.488,1347.22 647.483,1347.51 649.477,1347.8 651.472,1348.08 653.466,1348.36 655.461,1348.64 657.455,1348.91 \n",
       "  659.45,1349.18 661.444,1349.45 663.439,1349.71 665.433,1349.98 667.428,1350.24 669.422,1350.49 671.416,1350.75 673.411,1351 675.405,1351.25 677.4,1351.49 \n",
       "  679.394,1351.74 681.389,1351.98 683.383,1352.22 685.378,1352.45 687.372,1352.68 689.367,1352.92 691.361,1353.14 693.356,1353.37 695.35,1353.6 697.345,1353.82 \n",
       "  699.339,1354.04 701.334,1354.26 703.328,1354.47 705.322,1354.68 707.317,1354.9 709.311,1355.1 711.306,1355.31 713.3,1355.52 715.295,1355.72 717.289,1355.92 \n",
       "  719.284,1356.12 721.278,1356.32 723.273,1356.51 725.267,1356.71 727.262,1356.9 729.256,1357.09 731.251,1357.28 733.245,1357.47 735.24,1357.65 737.234,1357.83 \n",
       "  739.229,1358.02 741.223,1358.2 743.217,1358.37 745.212,1358.55 747.206,1358.73 749.201,1358.9 751.195,1359.07 753.19,1359.24 755.184,1359.41 757.179,1359.58 \n",
       "  759.173,1359.75 761.168,1359.91 763.162,1360.07 765.157,1360.23 767.151,1360.4 769.146,1360.55 771.14,1360.71 773.135,1360.87 775.129,1361.02 777.123,1361.18 \n",
       "  779.118,1361.33 781.112,1361.48 783.107,1361.63 785.101,1361.78 787.096,1361.93 789.09,1362.07 791.085,1362.22 793.079,1362.36 795.074,1362.51 797.068,1362.65 \n",
       "  799.063,1362.79 801.057,1362.93 803.052,1363.06 805.046,1363.2 807.041,1363.34 809.035,1363.47 811.029,1363.61 813.024,1363.74 815.018,1363.87 817.013,1364 \n",
       "  819.007,1364.13 821.002,1364.26 822.996,1364.39 824.991,1364.51 826.985,1364.64 828.98,1364.76 830.974,1364.89 832.969,1365.01 834.963,1365.13 836.958,1365.25 \n",
       "  838.952,1365.37 840.947,1365.49 842.941,1365.61 844.935,1365.73 846.93,1365.84 848.924,1365.96 850.919,1366.07 852.913,1366.19 854.908,1366.3 856.902,1366.41 \n",
       "  858.897,1366.52 860.891,1366.63 862.886,1366.74 864.88,1366.85 866.875,1366.96 868.869,1367.07 870.864,1367.17 872.858,1367.28 874.853,1367.38 876.847,1367.49 \n",
       "  878.842,1367.59 880.836,1367.69 882.83,1367.79 884.825,1367.9 886.819,1368 888.814,1368.1 890.808,1368.19 892.803,1368.29 894.797,1368.39 896.792,1368.49 \n",
       "  898.786,1368.58 900.781,1368.68 902.775,1368.77 904.77,1368.87 906.764,1368.96 908.759,1369.05 910.753,1369.15 912.748,1369.24 914.742,1369.33 916.736,1369.42 \n",
       "  918.731,1369.51 920.725,1369.6 922.72,1369.69 924.714,1369.78 926.709,1369.86 928.703,1369.95 930.698,1370.04 932.692,1370.12 934.687,1370.21 936.681,1370.29 \n",
       "  938.676,1370.38 940.67,1370.46 942.665,1370.54 944.659,1370.62 946.654,1370.71 948.648,1370.79 950.642,1370.87 952.637,1370.95 954.631,1371.03 956.626,1371.11 \n",
       "  958.62,1371.18 960.615,1371.26 962.609,1371.34 964.604,1371.42 966.598,1371.49 968.593,1371.57 970.587,1371.65 972.582,1371.72 974.576,1371.8 976.571,1371.87 \n",
       "  978.565,1371.94 980.56,1372.02 982.554,1372.09 984.548,1372.16 986.543,1372.23 988.537,1372.3 990.532,1372.38 992.526,1372.45 994.521,1372.52 996.515,1372.59 \n",
       "  998.51,1372.65 1000.5,1372.72 1002.5,1372.79 1004.49,1372.86 1006.49,1372.93 1008.48,1372.99 1010.48,1373.06 1012.47,1373.13 1014.47,1373.19 1016.46,1373.26 \n",
       "  1018.45,1373.32 1020.45,1373.39 1022.44,1373.45 1024.44,1373.52 1026.43,1373.58 1028.43,1373.64 1030.42,1373.71 1032.42,1373.77 1034.41,1373.83 1036.4,1373.89 \n",
       "  1038.4,1373.95 1040.39,1374.01 1042.39,1374.07 1044.38,1374.13 1046.38,1374.19 1048.37,1374.25 1050.37,1374.31 1052.36,1374.37 1054.35,1374.43 1056.35,1374.49 \n",
       "  1058.34,1374.54 1060.34,1374.6 1062.33,1374.66 1064.33,1374.71 1066.32,1374.77 1068.32,1374.83 1070.31,1374.88 1072.31,1374.94 1074.3,1374.99 1076.29,1375.05 \n",
       "  1078.29,1375.1 1080.28,1375.16 1082.28,1375.21 1084.27,1375.26 1086.27,1375.32 1088.26,1375.37 1090.26,1375.42 1092.25,1375.47 1094.24,1375.52 1096.24,1375.58 \n",
       "  1098.23,1375.63 1100.23,1375.68 1102.22,1375.73 1104.22,1375.78 1106.21,1375.83 1108.21,1375.88 1110.2,1375.93 1112.19,1375.98 1114.19,1376.03 1116.18,1376.08 \n",
       "  1118.18,1376.12 1120.17,1376.17 1122.17,1376.22 1124.16,1376.27 1126.16,1376.31 1128.15,1376.36 1130.14,1376.41 1132.14,1376.45 1134.13,1376.5 1136.13,1376.55 \n",
       "  1138.12,1376.59 1140.12,1376.64 1142.11,1376.68 1144.11,1376.73 1146.1,1376.77 1148.1,1376.82 1150.09,1376.86 1152.08,1376.9 1154.08,1376.95 1156.07,1376.99 \n",
       "  1158.07,1377.03 1160.06,1377.08 1162.06,1377.12 1164.05,1377.16 1166.05,1377.2 1168.04,1377.25 1170.03,1377.29 1172.03,1377.33 1174.02,1377.37 1176.02,1377.41 \n",
       "  1178.01,1377.45 1180.01,1377.49 1182,1377.53 1184,1377.57 1185.99,1377.61 1187.98,1377.65 1189.98,1377.69 1191.97,1377.73 1193.97,1377.77 1195.96,1377.81 \n",
       "  1197.96,1377.85 1199.95,1377.88 1201.95,1377.92 1203.94,1377.96 1205.93,1378 1207.93,1378.03 1209.92,1378.07 1211.92,1378.11 1213.91,1378.15 1215.91,1378.18 \n",
       "  1217.9,1378.22 1219.9,1378.25 1221.89,1378.29 1223.89,1378.33 1225.88,1378.36 1227.87,1378.4 1229.87,1378.43 1231.86,1378.47 1233.86,1378.5 1235.85,1378.54 \n",
       "  1237.85,1378.57 1239.84,1378.6 1241.84,1378.64 1243.83,1378.67 1245.82,1378.71 1247.82,1378.74 1249.81,1378.77 1251.81,1378.81 1253.8,1378.84 1255.8,1378.87 \n",
       "  1257.79,1378.9 1259.79,1378.94 1261.78,1378.97 1263.77,1379 1265.77,1379.03 1267.76,1379.06 1269.76,1379.1 1271.75,1379.13 1273.75,1379.16 1275.74,1379.19 \n",
       "  1277.74,1379.22 1279.73,1379.25 1281.72,1379.28 1283.72,1379.31 1285.71,1379.34 1287.71,1379.37 1289.7,1379.4 1291.7,1379.43 1293.69,1379.46 1295.69,1379.49 \n",
       "  1297.68,1379.52 1299.67,1379.55 1301.67,1379.57 1303.66,1379.6 1305.66,1379.63 1307.65,1379.66 1309.65,1379.69 1311.64,1379.72 1313.64,1379.74 1315.63,1379.77 \n",
       "  1317.63,1379.8 1319.62,1379.83 1321.61,1379.85 1323.61,1379.88 1325.6,1379.91 1327.6,1379.93 1329.59,1379.96 1331.59,1379.99 1333.58,1380.01 1335.58,1380.04 \n",
       "  1337.57,1380.06 1339.56,1380.09 1341.56,1380.12 1343.55,1380.14 1345.55,1380.17 1347.54,1380.19 1349.54,1380.22 1351.53,1380.24 1353.53,1380.27 1355.52,1380.29 \n",
       "  1357.51,1380.32 1359.51,1380.34 1361.5,1380.37 1363.5,1380.39 1365.49,1380.41 1367.49,1380.44 1369.48,1380.46 1371.48,1380.49 1373.47,1380.51 1375.46,1380.53 \n",
       "  1377.46,1380.56 1379.45,1380.58 1381.45,1380.6 1383.44,1380.62 1385.44,1380.65 1387.43,1380.67 1389.43,1380.69 1391.42,1380.71 1393.42,1380.74 1395.41,1380.76 \n",
       "  1397.4,1380.78 1399.4,1380.8 1401.39,1380.82 1403.39,1380.85 1405.38,1380.87 1407.38,1380.89 1409.37,1380.91 1411.37,1380.93 1413.36,1380.95 1415.35,1380.97 \n",
       "  1417.35,1380.99 1419.34,1381.01 1421.34,1381.03 1423.33,1381.05 1425.33,1381.08 1427.32,1381.1 1429.32,1381.12 1431.31,1381.14 1433.3,1381.16 1435.3,1381.18 \n",
       "  1437.29,1381.19 1439.29,1381.21 1441.28,1381.23 1443.28,1381.25 1445.27,1381.27 1447.27,1381.29 1449.26,1381.31 1451.25,1381.33 1453.25,1381.35 1455.24,1381.37 \n",
       "  1457.24,1381.38 1459.23,1381.4 1461.23,1381.42 1463.22,1381.44 1465.22,1381.46 1467.21,1381.48 1469.21,1381.49 1471.2,1381.51 1473.19,1381.53 1475.19,1381.55 \n",
       "  1477.18,1381.56 1479.18,1381.58 1481.17,1381.6 1483.17,1381.62 1485.16,1381.63 1487.16,1381.65 1489.15,1381.67 1491.14,1381.68 1493.14,1381.7 1495.13,1381.72 \n",
       "  1497.13,1381.73 1499.12,1381.75 1501.12,1381.77 1503.11,1381.78 1505.11,1381.8 1507.1,1381.82 1509.09,1381.83 1511.09,1381.85 1513.08,1381.86 1515.08,1381.88 \n",
       "  1517.07,1381.9 1519.07,1381.91 1521.06,1381.93 1523.06,1381.94 1525.05,1381.96 1527.04,1381.97 1529.04,1381.99 1531.03,1382 1533.03,1382.02 1535.02,1382.03 \n",
       "  1537.02,1382.05 1539.01,1382.06 1541.01,1382.08 1543,1382.09 1544.99,1382.1 1546.99,1382.12 1548.98,1382.13 1550.98,1382.15 1552.97,1382.16 1554.97,1382.18 \n",
       "  1556.96,1382.19 1558.96,1382.2 1560.95,1382.22 1562.95,1382.23 1564.94,1382.24 1566.93,1382.26 1568.93,1382.27 1570.92,1382.29 1572.92,1382.3 1574.91,1382.31 \n",
       "  1576.91,1382.33 1578.9,1382.34 1580.9,1382.35 1582.89,1382.36 1584.88,1382.38 1586.88,1382.39 1588.87,1382.4 1590.87,1382.41 1592.86,1382.43 1594.86,1382.44 \n",
       "  1596.85,1382.45 1598.85,1382.46 1600.84,1382.48 1602.83,1382.49 1604.83,1382.5 1606.82,1382.51 1608.82,1382.53 1610.81,1382.54 1612.81,1382.55 1614.8,1382.56 \n",
       "  1616.8,1382.57 1618.79,1382.58 1620.78,1382.6 1622.78,1382.61 1624.77,1382.62 1626.77,1382.63 1628.76,1382.64 1630.76,1382.65 1632.75,1382.66 1634.75,1382.68 \n",
       "  1636.74,1382.69 1638.74,1382.7 1640.73,1382.71 1642.72,1382.72 1644.72,1382.73 1646.71,1382.74 1648.71,1382.75 1650.7,1382.76 1652.7,1382.77 1654.69,1382.78 \n",
       "  1656.69,1382.79 1658.68,1382.8 1660.67,1382.81 1662.67,1382.82 1664.66,1382.83 1666.66,1382.84 1668.65,1382.85 1670.65,1382.86 1672.64,1382.87 1674.64,1382.88 \n",
       "  1676.63,1382.89 1678.62,1382.9 1680.62,1382.91 1682.61,1382.92 1684.61,1382.93 1686.6,1382.94 1688.6,1382.95 1690.59,1382.96 1692.59,1382.97 1694.58,1382.98 \n",
       "  1696.57,1382.99 1698.57,1383 1700.56,1383.01 1702.56,1383.02 1704.55,1383.03 1706.55,1383.03 1708.54,1383.04 1710.54,1383.05 1712.53,1383.06 1714.53,1383.07 \n",
       "  1716.52,1383.08 1718.51,1383.09 1720.51,1383.1 1722.5,1383.1 1724.5,1383.11 1726.49,1383.12 1728.49,1383.13 1730.48,1383.14 1732.48,1383.15 1734.47,1383.15 \n",
       "  1736.46,1383.16 1738.46,1383.17 1740.45,1383.18 1742.45,1383.19 1744.44,1383.2 1746.44,1383.2 1748.43,1383.21 1750.43,1383.22 1752.42,1383.23 1754.41,1383.23 \n",
       "  1756.41,1383.24 1758.4,1383.25 1760.4,1383.26 1762.39,1383.27 1764.39,1383.27 1766.38,1383.28 1768.38,1383.29 1770.37,1383.29 1772.36,1383.3 1774.36,1383.31 \n",
       "  1776.35,1383.32 1778.35,1383.32 1780.34,1383.33 1782.34,1383.34 1784.33,1383.35 1786.33,1383.35 1788.32,1383.36 1790.31,1383.37 1792.31,1383.37 1794.3,1383.38 \n",
       "  1796.3,1383.39 1798.29,1383.39 1800.29,1383.4 1802.28,1383.41 1804.28,1383.41 1806.27,1383.42 1808.27,1383.43 1810.26,1383.43 1812.25,1383.44 1814.25,1383.45 \n",
       "  1816.24,1383.45 1818.24,1383.46 1820.23,1383.47 1822.23,1383.47 1824.22,1383.48 1826.22,1383.48 1828.21,1383.49 1830.2,1383.5 1832.2,1383.5 1834.19,1383.51 \n",
       "  1836.19,1383.52 1838.18,1383.52 1840.18,1383.53 1842.17,1383.53 1844.17,1383.54 1846.16,1383.55 1848.15,1383.55 1850.15,1383.56 1852.14,1383.56 1854.14,1383.57 \n",
       "  1856.13,1383.57 1858.13,1383.58 1860.12,1383.58 1862.12,1383.59 1864.11,1383.6 1866.1,1383.6 1868.1,1383.61 1870.09,1383.61 1872.09,1383.62 1874.08,1383.62 \n",
       "  1876.08,1383.63 1878.07,1383.63 1880.07,1383.64 1882.06,1383.64 1884.06,1383.65 1886.05,1383.65 1888.04,1383.66 1890.04,1383.67 1892.03,1383.67 1894.03,1383.68 \n",
       "  1896.02,1383.68 1898.02,1383.69 1900.01,1383.69 1902.01,1383.69 1904,1383.7 1905.99,1383.7 1907.99,1383.71 1909.98,1383.71 1911.98,1383.72 1913.97,1383.72 \n",
       "  1915.97,1383.73 1917.96,1383.73 1919.96,1383.74 1921.95,1383.74 1923.94,1383.75 1925.94,1383.75 1927.93,1383.76 1929.93,1383.76 1931.92,1383.77 1933.92,1383.77 \n",
       "  1935.91,1383.77 1937.91,1383.78 1939.9,1383.78 1941.89,1383.79 1943.89,1383.79 1945.88,1383.8 1947.88,1383.8 1949.87,1383.8 1951.87,1383.81 1953.86,1383.81 \n",
       "  1955.86,1383.82 1957.85,1383.82 1959.85,1383.82 1961.84,1383.83 1963.83,1383.83 1965.83,1383.84 1967.82,1383.84 1969.82,1383.84 1971.81,1383.85 1973.81,1383.85 \n",
       "  1975.8,1383.86 1977.8,1383.86 1979.79,1383.86 1981.78,1383.87 1983.78,1383.87 1985.77,1383.88 1987.77,1383.88 1989.76,1383.88 1991.76,1383.89 1993.75,1383.89 \n",
       "  1995.75,1383.89 1997.74,1383.9 1999.73,1383.9 2001.73,1383.9 2003.72,1383.91 2005.72,1383.91 2007.71,1383.92 2009.71,1383.92 2011.7,1383.92 2013.7,1383.93 \n",
       "  2015.69,1383.93 2017.68,1383.93 2019.68,1383.94 2021.67,1383.94 2023.67,1383.94 2025.66,1383.95 2027.66,1383.95 2029.65,1383.95 2031.65,1383.96 2033.64,1383.96 \n",
       "  2035.63,1383.96 2037.63,1383.97 2039.62,1383.97 2041.62,1383.97 2043.61,1383.97 2045.61,1383.98 2047.6,1383.98 2049.6,1383.98 2051.59,1383.99 2053.59,1383.99 \n",
       "  2055.58,1383.99 2057.57,1384 2059.57,1384 2061.56,1384 2063.56,1384 2065.55,1384.01 2067.55,1384.01 2069.54,1384.01 2071.54,1384.02 2073.53,1384.02 \n",
       "  2075.52,1384.02 2077.52,1384.02 2079.51,1384.03 2081.51,1384.03 2083.5,1384.03 2085.5,1384.04 2087.49,1384.04 2089.49,1384.04 2091.48,1384.04 2093.47,1384.05 \n",
       "  2095.47,1384.05 2097.46,1384.05 2099.46,1384.05 2101.45,1384.06 2103.45,1384.06 2105.44,1384.06 2107.44,1384.06 2109.43,1384.07 2111.42,1384.07 2113.42,1384.07 \n",
       "  2115.41,1384.07 2117.41,1384.08 2119.4,1384.08 2121.4,1384.08 2123.39,1384.08 2125.39,1384.09 2127.38,1384.09 2129.38,1384.09 2131.37,1384.09 2133.36,1384.1 \n",
       "  2135.36,1384.1 2137.35,1384.1 2139.35,1384.1 2141.34,1384.1 2143.34,1384.11 2145.33,1384.11 2147.33,1384.11 2149.32,1384.11 2151.31,1384.12 2153.31,1384.12 \n",
       "  2155.3,1384.12 2157.3,1384.12 2159.29,1384.12 2161.29,1384.13 2163.28,1384.13 2165.28,1384.13 2167.27,1384.13 2169.26,1384.13 2171.26,1384.14 2173.25,1384.14 \n",
       "  2175.25,1384.14 2177.24,1384.14 2179.24,1384.14 2181.23,1384.15 2183.23,1384.15 2185.22,1384.15 2187.21,1384.15 2189.21,1384.15 2191.2,1384.16 2193.2,1384.16 \n",
       "  2195.19,1384.16 2197.19,1384.16 2199.18,1384.16 2201.18,1384.17 2203.17,1384.17 2205.17,1384.17 2207.16,1384.17 2209.15,1384.17 2211.15,1384.17 2213.14,1384.18 \n",
       "  2215.14,1384.18 2217.13,1384.18 2219.13,1384.18 2221.12,1384.18 2223.12,1384.19 2225.11,1384.19 2227.1,1384.19 2229.1,1384.19 2231.09,1384.19 2233.09,1384.19 \n",
       "  2235.08,1384.2 2237.08,1384.2 2239.07,1384.2 2241.07,1384.2 2243.06,1384.2 2245.05,1384.2 2247.05,1384.21 2249.04,1384.21 2251.04,1384.21 2253.03,1384.21 \n",
       "  2255.03,1384.21 2257.02,1384.21 2259.02,1384.21 2261.01,1384.22 2263,1384.22 2265,1384.22 2266.99,1384.22 2268.99,1384.22 2270.98,1384.22 2272.98,1384.22 \n",
       "  2274.97,1384.23 2276.97,1384.23 2278.96,1384.23 2280.95,1384.23 2282.95,1384.23 2284.94,1384.23 2286.94,1384.23 2288.93,1384.24 2290.93,1384.24 2292.92,1384.24 \n",
       "  \n",
       "  \"/>\n",
       "<path clip-path=\"url(#clip680)\" d=\"\n",
       "M1848.05 274.549 L2282.28 274.549 L2282.28 93.1086 L1848.05 93.1086  Z\n",
       "  \" fill=\"#ffffff\" fill-rule=\"evenodd\" fill-opacity=\"1\"/>\n",
       "<polyline clip-path=\"url(#clip680)\" style=\"stroke:#000000; stroke-width:4; stroke-opacity:1; fill:none\" points=\"\n",
       "  1848.05,274.549 2282.28,274.549 2282.28,93.1086 1848.05,93.1086 1848.05,274.549 \n",
       "  \"/>\n",
       "<polyline clip-path=\"url(#clip680)\" style=\"stroke:#009af9; stroke-width:4; stroke-opacity:1; fill:none\" points=\"\n",
       "  1871.54,153.589 2012.49,153.589 \n",
       "  \"/>\n",
       "<path clip-path=\"url(#clip680)\" d=\"M 0 0 M2049.17 170.869 L2035.98 136.309 L2040.86 136.309 L2051.81 165.406 L2062.78 136.309 L2067.64 136.309 L2054.47 170.869 L2049.17 170.869 Z\" fill=\"#000000\" fill-rule=\"evenodd\" fill-opacity=\"1\" /><path clip-path=\"url(#clip680)\" d=\"M 0 0 M2080.21 157.836 Q2075.05 157.836 2073.06 159.017 Q2071.07 160.197 2071.07 163.045 Q2071.07 165.313 2072.55 166.656 Q2074.05 167.975 2076.62 167.975 Q2080.17 167.975 2082.3 165.475 Q2084.45 162.952 2084.45 158.785 L2084.45 157.836 L2080.21 157.836 M2088.71 156.077 L2088.71 170.869 L2084.45 170.869 L2084.45 166.933 Q2082.99 169.295 2080.81 170.429 Q2078.64 171.54 2075.49 171.54 Q2071.51 171.54 2069.15 169.318 Q2066.81 167.072 2066.81 163.322 Q2066.81 158.947 2069.73 156.725 Q2072.67 154.503 2078.48 154.503 L2084.45 154.503 L2084.45 154.086 Q2084.45 151.147 2082.5 149.549 Q2080.58 147.929 2077.09 147.929 Q2074.86 147.929 2072.76 148.461 Q2070.65 148.994 2068.71 150.059 L2068.71 146.123 Q2071.05 145.221 2073.24 144.781 Q2075.44 144.318 2077.53 144.318 Q2083.15 144.318 2085.93 147.234 Q2088.71 150.151 2088.71 156.077 Z\" fill=\"#000000\" fill-rule=\"evenodd\" fill-opacity=\"1\" /><path clip-path=\"url(#clip680)\" d=\"M 0 0 M2093.17 134.85 L2097.43 134.85 L2097.43 170.869 L2093.17 170.869 L2093.17 134.85 Z\" fill=\"#000000\" fill-rule=\"evenodd\" fill-opacity=\"1\" /><path clip-path=\"url(#clip680)\" d=\"M 0 0 M2101.9 144.943 L2106.16 144.943 L2106.16 170.869 L2101.9 170.869 L2101.9 144.943 M2101.9 134.85 L2106.16 134.85 L2106.16 140.244 L2101.9 140.244 L2101.9 134.85 Z\" fill=\"#000000\" fill-rule=\"evenodd\" fill-opacity=\"1\" /><path clip-path=\"url(#clip680)\" d=\"M 0 0 M2127.69 148.878 L2127.69 134.85 L2131.95 134.85 L2131.95 170.869 L2127.69 170.869 L2127.69 166.98 Q2126.35 169.295 2124.29 170.429 Q2122.25 171.54 2119.38 171.54 Q2114.68 171.54 2111.72 167.79 Q2108.78 164.04 2108.78 157.929 Q2108.78 151.818 2111.72 148.068 Q2114.68 144.318 2119.38 144.318 Q2122.25 144.318 2124.29 145.452 Q2126.35 146.563 2127.69 148.878 M2113.17 157.929 Q2113.17 162.628 2115.1 165.313 Q2117.04 167.975 2120.42 167.975 Q2123.8 167.975 2125.74 165.313 Q2127.69 162.628 2127.69 157.929 Q2127.69 153.23 2125.74 150.568 Q2123.8 147.883 2120.42 147.883 Q2117.04 147.883 2115.1 150.568 Q2113.17 153.23 2113.17 157.929 Z\" fill=\"#000000\" fill-rule=\"evenodd\" fill-opacity=\"1\" /><path clip-path=\"url(#clip680)\" d=\"M 0 0 M2148.2 157.836 Q2143.04 157.836 2141.04 159.017 Q2139.05 160.197 2139.05 163.045 Q2139.05 165.313 2140.54 166.656 Q2142.04 167.975 2144.61 167.975 Q2148.15 167.975 2150.28 165.475 Q2152.43 162.952 2152.43 158.785 L2152.43 157.836 L2148.2 157.836 M2156.69 156.077 L2156.69 170.869 L2152.43 170.869 L2152.43 166.933 Q2150.98 169.295 2148.8 170.429 Q2146.62 171.54 2143.48 171.54 Q2139.49 171.54 2137.13 169.318 Q2134.79 167.072 2134.79 163.322 Q2134.79 158.947 2137.71 156.725 Q2140.65 154.503 2146.46 154.503 L2152.43 154.503 L2152.43 154.086 Q2152.43 151.147 2150.49 149.549 Q2148.57 147.929 2145.07 147.929 Q2142.85 147.929 2140.74 148.461 Q2138.64 148.994 2136.69 150.059 L2136.69 146.123 Q2139.03 145.221 2141.23 144.781 Q2143.43 144.318 2145.51 144.318 Q2151.14 144.318 2153.92 147.234 Q2156.69 150.151 2156.69 156.077 Z\" fill=\"#000000\" fill-rule=\"evenodd\" fill-opacity=\"1\" /><path clip-path=\"url(#clip680)\" d=\"M 0 0 M2165.37 137.582 L2165.37 144.943 L2174.15 144.943 L2174.15 148.253 L2165.37 148.253 L2165.37 162.327 Q2165.37 165.498 2166.23 166.401 Q2167.11 167.304 2169.77 167.304 L2174.15 167.304 L2174.15 170.869 L2169.77 170.869 Q2164.84 170.869 2162.97 169.04 Q2161.09 167.188 2161.09 162.327 L2161.09 148.253 L2157.97 148.253 L2157.97 144.943 L2161.09 144.943 L2161.09 137.582 L2165.37 137.582 Z\" fill=\"#000000\" fill-rule=\"evenodd\" fill-opacity=\"1\" /><path clip-path=\"url(#clip680)\" d=\"M 0 0 M2178.61 144.943 L2182.87 144.943 L2182.87 170.869 L2178.61 170.869 L2178.61 144.943 M2178.61 134.85 L2182.87 134.85 L2182.87 140.244 L2178.61 140.244 L2178.61 134.85 Z\" fill=\"#000000\" fill-rule=\"evenodd\" fill-opacity=\"1\" /><path clip-path=\"url(#clip680)\" d=\"M 0 0 M2197.39 147.929 Q2193.96 147.929 2191.97 150.614 Q2189.98 153.276 2189.98 157.929 Q2189.98 162.582 2191.95 165.267 Q2193.94 167.929 2197.39 167.929 Q2200.79 167.929 2202.78 165.244 Q2204.77 162.558 2204.77 157.929 Q2204.77 153.322 2202.78 150.637 Q2200.79 147.929 2197.39 147.929 M2197.39 144.318 Q2202.94 144.318 2206.11 147.929 Q2209.29 151.54 2209.29 157.929 Q2209.29 164.295 2206.11 167.929 Q2202.94 171.54 2197.39 171.54 Q2191.81 171.54 2188.64 167.929 Q2185.49 164.295 2185.49 157.929 Q2185.49 151.54 2188.64 147.929 Q2191.81 144.318 2197.39 144.318 Z\" fill=\"#000000\" fill-rule=\"evenodd\" fill-opacity=\"1\" /><path clip-path=\"url(#clip680)\" d=\"M 0 0 M2235.3 155.221 L2235.3 170.869 L2231.04 170.869 L2231.04 155.359 Q2231.04 151.679 2229.61 149.85 Q2228.17 148.022 2225.3 148.022 Q2221.85 148.022 2219.86 150.221 Q2217.87 152.42 2217.87 156.216 L2217.87 170.869 L2213.59 170.869 L2213.59 144.943 L2217.87 144.943 L2217.87 148.971 Q2219.4 146.633 2221.46 145.475 Q2223.54 144.318 2226.25 144.318 Q2230.72 144.318 2233.01 147.096 Q2235.3 149.85 2235.3 155.221 Z\" fill=\"#000000\" fill-rule=\"evenodd\" fill-opacity=\"1\" /><polyline clip-path=\"url(#clip680)\" style=\"stroke:#e26f46; stroke-width:4; stroke-opacity:1; fill:none\" points=\"\n",
       "  1871.54,214.069 2012.49,214.069 \n",
       "  \"/>\n",
       "<path clip-path=\"url(#clip680)\" d=\"M 0 0 M2035.98 196.789 L2065.21 196.789 L2065.21 200.724 L2052.94 200.724 L2052.94 231.349 L2048.24 231.349 L2048.24 200.724 L2035.98 200.724 L2035.98 196.789 Z\" fill=\"#000000\" fill-rule=\"evenodd\" fill-opacity=\"1\" /><path clip-path=\"url(#clip680)\" d=\"M 0 0 M2077.74 209.404 Q2077.02 208.988 2076.16 208.802 Q2075.33 208.594 2074.31 208.594 Q2070.7 208.594 2068.75 210.955 Q2066.83 213.293 2066.83 217.691 L2066.83 231.349 L2062.55 231.349 L2062.55 205.423 L2066.83 205.423 L2066.83 209.451 Q2068.17 207.089 2070.33 205.955 Q2072.48 204.798 2075.56 204.798 Q2076 204.798 2076.53 204.867 Q2077.06 204.914 2077.71 205.029 L2077.74 209.404 Z\" fill=\"#000000\" fill-rule=\"evenodd\" fill-opacity=\"1\" /><path clip-path=\"url(#clip680)\" d=\"M 0 0 M2093.99 218.316 Q2088.82 218.316 2086.83 219.497 Q2084.84 220.677 2084.84 223.525 Q2084.84 225.793 2086.32 227.136 Q2087.83 228.455 2090.4 228.455 Q2093.94 228.455 2096.07 225.955 Q2098.22 223.432 2098.22 219.265 L2098.22 218.316 L2093.99 218.316 M2102.48 216.557 L2102.48 231.349 L2098.22 231.349 L2098.22 227.413 Q2096.76 229.775 2094.59 230.909 Q2092.41 232.02 2089.26 232.02 Q2085.28 232.02 2082.92 229.798 Q2080.58 227.552 2080.58 223.802 Q2080.58 219.427 2083.5 217.205 Q2086.44 214.983 2092.25 214.983 L2098.22 214.983 L2098.22 214.566 Q2098.22 211.627 2096.28 210.029 Q2094.36 208.409 2090.86 208.409 Q2088.64 208.409 2086.53 208.941 Q2084.42 209.474 2082.48 210.539 L2082.48 206.603 Q2084.82 205.701 2087.02 205.261 Q2089.22 204.798 2091.3 204.798 Q2096.92 204.798 2099.7 207.714 Q2102.48 210.631 2102.48 216.557 Z\" fill=\"#000000\" fill-rule=\"evenodd\" fill-opacity=\"1\" /><path clip-path=\"url(#clip680)\" d=\"M 0 0 M2106.95 205.423 L2111.21 205.423 L2111.21 231.349 L2106.95 231.349 L2106.95 205.423 M2106.95 195.33 L2111.21 195.33 L2111.21 200.724 L2106.95 200.724 L2106.95 195.33 Z\" fill=\"#000000\" fill-rule=\"evenodd\" fill-opacity=\"1\" /><path clip-path=\"url(#clip680)\" d=\"M 0 0 M2137.23 215.701 L2137.23 231.349 L2132.97 231.349 L2132.97 215.839 Q2132.97 212.159 2131.53 210.33 Q2130.1 208.502 2127.23 208.502 Q2123.78 208.502 2121.79 210.701 Q2119.8 212.9 2119.8 216.696 L2119.8 231.349 L2115.51 231.349 L2115.51 205.423 L2119.8 205.423 L2119.8 209.451 Q2121.32 207.113 2123.38 205.955 Q2125.47 204.798 2128.17 204.798 Q2132.64 204.798 2134.93 207.576 Q2137.23 210.33 2137.23 215.701 Z\" fill=\"#000000\" fill-rule=\"evenodd\" fill-opacity=\"1\" /><path clip-path=\"url(#clip680)\" d=\"M 0 0 M2141.69 205.423 L2145.95 205.423 L2145.95 231.349 L2141.69 231.349 L2141.69 205.423 M2141.69 195.33 L2145.95 195.33 L2145.95 200.724 L2141.69 200.724 L2141.69 195.33 Z\" fill=\"#000000\" fill-rule=\"evenodd\" fill-opacity=\"1\" /><path clip-path=\"url(#clip680)\" d=\"M 0 0 M2171.97 215.701 L2171.97 231.349 L2167.71 231.349 L2167.71 215.839 Q2167.71 212.159 2166.28 210.33 Q2164.84 208.502 2161.97 208.502 Q2158.52 208.502 2156.53 210.701 Q2154.54 212.9 2154.54 216.696 L2154.54 231.349 L2150.26 231.349 L2150.26 205.423 L2154.54 205.423 L2154.54 209.451 Q2156.07 207.113 2158.13 205.955 Q2160.21 204.798 2162.92 204.798 Q2167.39 204.798 2169.68 207.576 Q2171.97 210.33 2171.97 215.701 Z\" fill=\"#000000\" fill-rule=\"evenodd\" fill-opacity=\"1\" /><path clip-path=\"url(#clip680)\" d=\"M 0 0 M2193.5 218.085 Q2193.5 213.455 2191.58 210.909 Q2189.68 208.363 2186.23 208.363 Q2182.8 208.363 2180.88 210.909 Q2178.98 213.455 2178.98 218.085 Q2178.98 222.691 2180.88 225.238 Q2182.8 227.784 2186.23 227.784 Q2189.68 227.784 2191.58 225.238 Q2193.5 222.691 2193.5 218.085 M2197.76 228.131 Q2197.76 234.751 2194.82 237.969 Q2191.88 241.21 2185.81 241.21 Q2183.57 241.21 2181.58 240.862 Q2179.59 240.538 2177.71 239.844 L2177.71 235.7 Q2179.59 236.719 2181.42 237.205 Q2183.24 237.691 2185.14 237.691 Q2189.33 237.691 2191.42 235.492 Q2193.5 233.316 2193.5 228.895 L2193.5 226.788 Q2192.18 229.08 2190.12 230.214 Q2188.06 231.349 2185.19 231.349 Q2180.42 231.349 2177.5 227.714 Q2174.59 224.08 2174.59 218.085 Q2174.59 212.066 2177.5 208.432 Q2180.42 204.798 2185.19 204.798 Q2188.06 204.798 2190.12 205.932 Q2192.18 207.066 2193.5 209.358 L2193.5 205.423 L2197.76 205.423 L2197.76 228.131 Z\" fill=\"#000000\" fill-rule=\"evenodd\" fill-opacity=\"1\" /></svg>\n"
      ]
     },
     "execution_count": 175,
     "metadata": {},
     "output_type": "execute_result"
    }
   ],
   "source": [
    "plot(curve.parameter_values,\n",
    "     curve.measurements,\n",
    "     xlab=curve.parameter_name,\n",
    "     ylab=\"Cross Entropy\",\n",
    "     label=\"Validation\", lw=2)\n",
    "plot!(Final_Net.report.training_losses, label=\"Training\", lw=2)"
   ]
  },
  {
   "cell_type": "code",
   "execution_count": 176,
   "metadata": {},
   "outputs": [
    {
     "data": {
      "text/plain": [
       "(0.00032, 0.32902)"
      ]
     },
     "execution_count": 176,
     "metadata": {},
     "output_type": "execute_result"
    }
   ],
   "source": [
    "a = round(nn2.optimiser.eta, digits=5)\n",
    "b = round(minimum(curve.measurements), digits=5)\n",
    "a,b"
   ]
  },
  {
   "cell_type": "code",
   "execution_count": 177,
   "metadata": {},
   "outputs": [],
   "source": [
    "ŷ = predict(Final_Net, X_stand[test,:]);"
   ]
  },
  {
   "cell_type": "code",
   "execution_count": 178,
   "metadata": {},
   "outputs": [
    {
     "data": {
      "text/plain": [
       "0.35411698f0"
      ]
     },
     "execution_count": 178,
     "metadata": {},
     "output_type": "execute_result"
    }
   ],
   "source": [
    "cross_entropy(ŷ, y[test]) |> mean"
   ]
  },
  {
   "cell_type": "code",
   "execution_count": 179,
   "metadata": {},
   "outputs": [
    {
     "data": {
      "text/plain": [
       "0.9590643274853801"
      ]
     },
     "execution_count": 179,
     "metadata": {},
     "output_type": "execute_result"
    }
   ],
   "source": [
    "acc(ŷ, y[test])"
   ]
  },
  {
   "cell_type": "code",
   "execution_count": 180,
   "metadata": {},
   "outputs": [
    {
     "name": "stderr",
     "output_type": "stream",
     "text": [
      "\u001b[33mEvaluating over 6 folds: 100%[=========================] Time: 0:00:39\u001b[39m\n"
     ]
    },
    {
     "data": {
      "text/plain": [
       "┌\u001b[0m───────────────\u001b[0m┬\u001b[0m───────────────\u001b[0m┬\u001b[0m───────────────────────────────────────────────────\u001b[0m┐\u001b[0m\n",
       "│\u001b[0m\u001b[22m _.measure     \u001b[0m│\u001b[0m\u001b[22m _.measurement \u001b[0m│\u001b[0m\u001b[22m _.per_fold                                        \u001b[0m│\u001b[0m\n",
       "├\u001b[0m───────────────\u001b[0m┼\u001b[0m───────────────\u001b[0m┼\u001b[0m───────────────────────────────────────────────────\u001b[0m┤\u001b[0m\n",
       "│\u001b[0m cross_entropy \u001b[0m│\u001b[0m 0.344         \u001b[0m│\u001b[0m Float32[0.319, 0.365, 0.345, 0.377, 0.347, 0.314] \u001b[0m│\u001b[0m\n",
       "│\u001b[0m acc           \u001b[0m│\u001b[0m 0.967         \u001b[0m│\u001b[0m [0.989, 0.947, 0.968, 0.937, 0.958, 1.0]          \u001b[0m│\u001b[0m\n",
       "└\u001b[0m───────────────\u001b[0m┴\u001b[0m───────────────\u001b[0m┴\u001b[0m───────────────────────────────────────────────────\u001b[0m┘\u001b[0m\n",
       "_.per_observation = [[[0.313, 0.313, ..., 0.313], [0.313, 0.313, ..., 1.31], [0.313, 0.313, ..., 0.313], [0.313, 0.313, ..., 0.313], [0.313, 0.313, ..., 0.313], [0.313, 0.313, ..., 0.313]], missing]\n"
      ]
     },
     "execution_count": 180,
     "metadata": {},
     "output_type": "execute_result"
    }
   ],
   "source": [
    "nn_acc = evaluate!(Final_Net, resampling=CV(shuffle=true), measure=[cross_entropy, acc, area_under_curve], verbosity=1)"
   ]
  },
  {
   "cell_type": "code",
   "execution_count": 181,
   "metadata": {},
   "outputs": [
    {
     "data": {
      "text/plain": [
       "(chain = Chain(Chain(Dense(30, 34, σ), Dense(34, 2, σ)), softmax),)"
      ]
     },
     "execution_count": 181,
     "metadata": {},
     "output_type": "execute_result"
    }
   ],
   "source": [
    "fitted_params(Final_Net)"
   ]
  },
  {
   "cell_type": "code",
   "execution_count": 182,
   "metadata": {
    "scrolled": true
   },
   "outputs": [
    {
     "data": {
      "text/plain": [
       "(training_losses = Any[0.6884577f0, 0.65041274f0, 0.6173776f0, 0.5895211f0, 0.5662256f0, 0.54661745f0, 0.5298833f0, 0.51537764f0, 0.50262344f0, 0.4912786f0  …  0.3237335f0, 0.32373315f0, 0.32373276f0, 0.32373232f0, 0.32373193f0, 0.3237315f0, 0.32373112f0, 0.32373077f0, 0.32373035f0, 0.32372996f0],)"
      ]
     },
     "execution_count": 182,
     "metadata": {},
     "output_type": "execute_result"
    }
   ],
   "source": [
    "report(Final_Net)"
   ]
  },
  {
   "cell_type": "code",
   "execution_count": null,
   "metadata": {},
   "outputs": [],
   "source": []
  },
  {
   "cell_type": "code",
   "execution_count": null,
   "metadata": {},
   "outputs": [],
   "source": []
  },
  {
   "cell_type": "code",
   "execution_count": null,
   "metadata": {},
   "outputs": [],
   "source": []
  },
  {
   "cell_type": "markdown",
   "metadata": {},
   "source": [
    "A lot slower than Holdout"
   ]
  },
  {
   "cell_type": "code",
   "execution_count": null,
   "metadata": {},
   "outputs": [],
   "source": [
    "# self_tuning_nn_model = TunedModel(model=nn2,\n",
    "#                                     tuning=Grid(goal=50),\n",
    "#                                     resampling=CV(), \n",
    "#                                     measure=cross_entropy,\n",
    "#                                     acceleration=CPUThreads(),\n",
    "#                                     range=[r_its, r_lr])\n",
    "\n",
    "# self_tuning_nn = machine(self_tuning_nn_model, X_stand, y)"
   ]
  },
  {
   "cell_type": "code",
   "execution_count": null,
   "metadata": {},
   "outputs": [],
   "source": [
    "# fit!(self_tuning_nn)"
   ]
  },
  {
   "cell_type": "code",
   "execution_count": null,
   "metadata": {},
   "outputs": [],
   "source": [
    "# plot(self_tuning_nn)"
   ]
  }
 ],
 "metadata": {
  "kernelspec": {
   "display_name": "Julia 1.5.0",
   "language": "julia",
   "name": "julia-1.5"
  },
  "language_info": {
   "file_extension": ".jl",
   "mimetype": "application/julia",
   "name": "julia",
   "version": "1.5.0"
  }
 },
 "nbformat": 4,
 "nbformat_minor": 4
}
