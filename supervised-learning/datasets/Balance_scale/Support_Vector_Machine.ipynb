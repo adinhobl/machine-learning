{
 "cells": [
  {
   "cell_type": "markdown",
   "metadata": {},
   "source": [
    "# Imports"
   ]
  },
  {
   "cell_type": "code",
   "execution_count": 1,
   "metadata": {},
   "outputs": [],
   "source": [
    "using DataFrames\n",
    "using CSV\n",
    "using MLJ\n",
    "using Plots\n",
    "using StatsBase\n",
    "\n",
    "include(\"../../lib.jl\")\n",
    "\n",
    "ENV[\"LINES\"]=30;"
   ]
  },
  {
   "cell_type": "markdown",
   "metadata": {},
   "source": [
    "# Datasets"
   ]
  },
  {
   "cell_type": "code",
   "execution_count": 2,
   "metadata": {},
   "outputs": [
    {
     "data": {
      "text/html": [
       "<table class=\"data-frame\"><thead><tr><th></th><th>Class_Name</th><th>Left_Weight</th><th>Left_Distance</th><th>Right_Weight</th><th>Right_Distance</th></tr><tr><th></th><th>String</th><th>Int64</th><th>Int64</th><th>Int64</th><th>Int64</th></tr></thead><tbody><p>625 rows × 5 columns</p><tr><th>1</th><td>B</td><td>1</td><td>1</td><td>1</td><td>1</td></tr><tr><th>2</th><td>R</td><td>1</td><td>1</td><td>1</td><td>2</td></tr><tr><th>3</th><td>R</td><td>1</td><td>1</td><td>1</td><td>3</td></tr><tr><th>4</th><td>R</td><td>1</td><td>1</td><td>1</td><td>4</td></tr><tr><th>5</th><td>R</td><td>1</td><td>1</td><td>1</td><td>5</td></tr><tr><th>6</th><td>R</td><td>1</td><td>1</td><td>2</td><td>1</td></tr><tr><th>7</th><td>R</td><td>1</td><td>1</td><td>2</td><td>2</td></tr><tr><th>8</th><td>R</td><td>1</td><td>1</td><td>2</td><td>3</td></tr><tr><th>9</th><td>R</td><td>1</td><td>1</td><td>2</td><td>4</td></tr><tr><th>10</th><td>R</td><td>1</td><td>1</td><td>2</td><td>5</td></tr><tr><th>11</th><td>R</td><td>1</td><td>1</td><td>3</td><td>1</td></tr><tr><th>12</th><td>R</td><td>1</td><td>1</td><td>3</td><td>2</td></tr><tr><th>13</th><td>R</td><td>1</td><td>1</td><td>3</td><td>3</td></tr><tr><th>14</th><td>R</td><td>1</td><td>1</td><td>3</td><td>4</td></tr><tr><th>15</th><td>R</td><td>1</td><td>1</td><td>3</td><td>5</td></tr><tr><th>16</th><td>R</td><td>1</td><td>1</td><td>4</td><td>1</td></tr><tr><th>17</th><td>R</td><td>1</td><td>1</td><td>4</td><td>2</td></tr><tr><th>18</th><td>R</td><td>1</td><td>1</td><td>4</td><td>3</td></tr><tr><th>19</th><td>R</td><td>1</td><td>1</td><td>4</td><td>4</td></tr><tr><th>20</th><td>R</td><td>1</td><td>1</td><td>4</td><td>5</td></tr><tr><th>21</th><td>R</td><td>1</td><td>1</td><td>5</td><td>1</td></tr><tr><th>22</th><td>R</td><td>1</td><td>1</td><td>5</td><td>2</td></tr><tr><th>23</th><td>R</td><td>1</td><td>1</td><td>5</td><td>3</td></tr><tr><th>24</th><td>R</td><td>1</td><td>1</td><td>5</td><td>4</td></tr><tr><th>25</th><td>R</td><td>1</td><td>1</td><td>5</td><td>5</td></tr><tr><th>26</th><td>L</td><td>1</td><td>2</td><td>1</td><td>1</td></tr><tr><th>27</th><td>B</td><td>1</td><td>2</td><td>1</td><td>2</td></tr><tr><th>28</th><td>R</td><td>1</td><td>2</td><td>1</td><td>3</td></tr><tr><th>29</th><td>R</td><td>1</td><td>2</td><td>1</td><td>4</td></tr><tr><th>30</th><td>R</td><td>1</td><td>2</td><td>1</td><td>5</td></tr><tr><th>&vellip;</th><td>&vellip;</td><td>&vellip;</td><td>&vellip;</td><td>&vellip;</td><td>&vellip;</td></tr></tbody></table>"
      ],
      "text/latex": [
       "\\begin{tabular}{r|ccccc}\n",
       "\t& Class\\_Name & Left\\_Weight & Left\\_Distance & Right\\_Weight & Right\\_Distance\\\\\n",
       "\t\\hline\n",
       "\t& String & Int64 & Int64 & Int64 & Int64\\\\\n",
       "\t\\hline\n",
       "\t1 & B & 1 & 1 & 1 & 1 \\\\\n",
       "\t2 & R & 1 & 1 & 1 & 2 \\\\\n",
       "\t3 & R & 1 & 1 & 1 & 3 \\\\\n",
       "\t4 & R & 1 & 1 & 1 & 4 \\\\\n",
       "\t5 & R & 1 & 1 & 1 & 5 \\\\\n",
       "\t6 & R & 1 & 1 & 2 & 1 \\\\\n",
       "\t7 & R & 1 & 1 & 2 & 2 \\\\\n",
       "\t8 & R & 1 & 1 & 2 & 3 \\\\\n",
       "\t9 & R & 1 & 1 & 2 & 4 \\\\\n",
       "\t10 & R & 1 & 1 & 2 & 5 \\\\\n",
       "\t11 & R & 1 & 1 & 3 & 1 \\\\\n",
       "\t12 & R & 1 & 1 & 3 & 2 \\\\\n",
       "\t13 & R & 1 & 1 & 3 & 3 \\\\\n",
       "\t14 & R & 1 & 1 & 3 & 4 \\\\\n",
       "\t15 & R & 1 & 1 & 3 & 5 \\\\\n",
       "\t16 & R & 1 & 1 & 4 & 1 \\\\\n",
       "\t17 & R & 1 & 1 & 4 & 2 \\\\\n",
       "\t18 & R & 1 & 1 & 4 & 3 \\\\\n",
       "\t19 & R & 1 & 1 & 4 & 4 \\\\\n",
       "\t20 & R & 1 & 1 & 4 & 5 \\\\\n",
       "\t21 & R & 1 & 1 & 5 & 1 \\\\\n",
       "\t22 & R & 1 & 1 & 5 & 2 \\\\\n",
       "\t23 & R & 1 & 1 & 5 & 3 \\\\\n",
       "\t24 & R & 1 & 1 & 5 & 4 \\\\\n",
       "\t25 & R & 1 & 1 & 5 & 5 \\\\\n",
       "\t26 & L & 1 & 2 & 1 & 1 \\\\\n",
       "\t27 & B & 1 & 2 & 1 & 2 \\\\\n",
       "\t28 & R & 1 & 2 & 1 & 3 \\\\\n",
       "\t29 & R & 1 & 2 & 1 & 4 \\\\\n",
       "\t30 & R & 1 & 2 & 1 & 5 \\\\\n",
       "\t$\\dots$ & $\\dots$ & $\\dots$ & $\\dots$ & $\\dots$ & $\\dots$ \\\\\n",
       "\\end{tabular}\n"
      ],
      "text/plain": [
       "625×5 DataFrame. Omitted printing of 1 columns\n",
       "│ Row │ Class_Name │ Left_Weight │ Left_Distance │ Right_Weight │\n",
       "│     │ \u001b[90mString\u001b[39m     │ \u001b[90mInt64\u001b[39m       │ \u001b[90mInt64\u001b[39m         │ \u001b[90mInt64\u001b[39m        │\n",
       "├─────┼────────────┼─────────────┼───────────────┼──────────────┤\n",
       "│ 1   │ B          │ 1           │ 1             │ 1            │\n",
       "│ 2   │ R          │ 1           │ 1             │ 1            │\n",
       "│ 3   │ R          │ 1           │ 1             │ 1            │\n",
       "│ 4   │ R          │ 1           │ 1             │ 1            │\n",
       "│ 5   │ R          │ 1           │ 1             │ 1            │\n",
       "│ 6   │ R          │ 1           │ 1             │ 2            │\n",
       "│ 7   │ R          │ 1           │ 1             │ 2            │\n",
       "│ 8   │ R          │ 1           │ 1             │ 2            │\n",
       "│ 9   │ R          │ 1           │ 1             │ 2            │\n",
       "│ 10  │ R          │ 1           │ 1             │ 2            │\n",
       "⋮\n",
       "│ 615 │ L          │ 5           │ 5             │ 3            │\n",
       "│ 616 │ L          │ 5           │ 5             │ 4            │\n",
       "│ 617 │ L          │ 5           │ 5             │ 4            │\n",
       "│ 618 │ L          │ 5           │ 5             │ 4            │\n",
       "│ 619 │ L          │ 5           │ 5             │ 4            │\n",
       "│ 620 │ L          │ 5           │ 5             │ 4            │\n",
       "│ 621 │ L          │ 5           │ 5             │ 5            │\n",
       "│ 622 │ L          │ 5           │ 5             │ 5            │\n",
       "│ 623 │ L          │ 5           │ 5             │ 5            │\n",
       "│ 624 │ L          │ 5           │ 5             │ 5            │\n",
       "│ 625 │ B          │ 5           │ 5             │ 5            │"
      ]
     },
     "execution_count": 2,
     "metadata": {},
     "output_type": "execute_result"
    }
   ],
   "source": [
    "data = CSV.read(\"./data.csv\")"
   ]
  },
  {
   "cell_type": "code",
   "execution_count": 3,
   "metadata": {},
   "outputs": [
    {
     "data": {
      "text/html": [
       "<table class=\"data-frame\"><thead><tr><th></th><th>variable</th><th>mean</th><th>min</th><th>median</th><th>max</th><th>nunique</th><th>nmissing</th><th>eltype</th></tr><tr><th></th><th>Symbol</th><th>Union…</th><th>Any</th><th>Union…</th><th>Any</th><th>Union…</th><th>Nothing</th><th>DataType</th></tr></thead><tbody><p>5 rows × 8 columns</p><tr><th>1</th><td>Class_Name</td><td></td><td>B</td><td></td><td>R</td><td>3</td><td></td><td>String</td></tr><tr><th>2</th><td>Left_Weight</td><td>3.0</td><td>1</td><td>3.0</td><td>5</td><td></td><td></td><td>Int64</td></tr><tr><th>3</th><td>Left_Distance</td><td>3.0</td><td>1</td><td>3.0</td><td>5</td><td></td><td></td><td>Int64</td></tr><tr><th>4</th><td>Right_Weight</td><td>3.0</td><td>1</td><td>3.0</td><td>5</td><td></td><td></td><td>Int64</td></tr><tr><th>5</th><td>Right_Distance</td><td>3.0</td><td>1</td><td>3.0</td><td>5</td><td></td><td></td><td>Int64</td></tr></tbody></table>"
      ],
      "text/latex": [
       "\\begin{tabular}{r|cccccccc}\n",
       "\t& variable & mean & min & median & max & nunique & nmissing & eltype\\\\\n",
       "\t\\hline\n",
       "\t& Symbol & Union… & Any & Union… & Any & Union… & Nothing & DataType\\\\\n",
       "\t\\hline\n",
       "\t1 & Class\\_Name &  & B &  & R & 3 &  & String \\\\\n",
       "\t2 & Left\\_Weight & 3.0 & 1 & 3.0 & 5 &  &  & Int64 \\\\\n",
       "\t3 & Left\\_Distance & 3.0 & 1 & 3.0 & 5 &  &  & Int64 \\\\\n",
       "\t4 & Right\\_Weight & 3.0 & 1 & 3.0 & 5 &  &  & Int64 \\\\\n",
       "\t5 & Right\\_Distance & 3.0 & 1 & 3.0 & 5 &  &  & Int64 \\\\\n",
       "\\end{tabular}\n"
      ],
      "text/plain": [
       "5×8 DataFrame. Omitted printing of 1 columns\n",
       "│ Row │ variable       │ mean   │ min │ median │ max │ nunique │ nmissing │\n",
       "│     │ \u001b[90mSymbol\u001b[39m         │ \u001b[90mUnion…\u001b[39m │ \u001b[90mAny\u001b[39m │ \u001b[90mUnion…\u001b[39m │ \u001b[90mAny\u001b[39m │ \u001b[90mUnion…\u001b[39m  │ \u001b[90mNothing\u001b[39m  │\n",
       "├─────┼────────────────┼────────┼─────┼────────┼─────┼─────────┼──────────┤\n",
       "│ 1   │ Class_Name     │        │ B   │        │ R   │ 3       │          │\n",
       "│ 2   │ Left_Weight    │ 3.0    │ 1   │ 3.0    │ 5   │         │          │\n",
       "│ 3   │ Left_Distance  │ 3.0    │ 1   │ 3.0    │ 5   │         │          │\n",
       "│ 4   │ Right_Weight   │ 3.0    │ 1   │ 3.0    │ 5   │         │          │\n",
       "│ 5   │ Right_Distance │ 3.0    │ 1   │ 3.0    │ 5   │         │          │"
      ]
     },
     "execution_count": 3,
     "metadata": {},
     "output_type": "execute_result"
    }
   ],
   "source": [
    "describe(data)"
   ]
  },
  {
   "cell_type": "markdown",
   "metadata": {},
   "source": [
    "Look at class labels to see if dataset is imbalanced"
   ]
  },
  {
   "cell_type": "code",
   "execution_count": 4,
   "metadata": {},
   "outputs": [
    {
     "data": {
      "text/plain": [
       "Dict{String,Int64} with 3 entries:\n",
       "  \"B\" => 49\n",
       "  \"L\" => 288\n",
       "  \"R\" => 288"
      ]
     },
     "execution_count": 4,
     "metadata": {},
     "output_type": "execute_result"
    }
   ],
   "source": [
    "label_counts = countmap(data[:Class_Name])"
   ]
  },
  {
   "cell_type": "code",
   "execution_count": 5,
   "metadata": {},
   "outputs": [
    {
     "data": {
      "text/plain": [
       "3-element Array{Float64,1}:\n",
       " 0.0784\n",
       " 0.4608\n",
       " 0.4608"
      ]
     },
     "execution_count": 5,
     "metadata": {},
     "output_type": "execute_result"
    }
   ],
   "source": [
    "collect(label_counts[i] / size(data)[1] for i in keys(label_counts))"
   ]
  },
  {
   "cell_type": "markdown",
   "metadata": {},
   "source": [
    "Get data ready for training"
   ]
  },
  {
   "cell_type": "code",
   "execution_count": 6,
   "metadata": {},
   "outputs": [
    {
     "data": {
      "text/plain": [
       "┌\u001b[0m────────────────\u001b[0m┬\u001b[0m─────────────────────────────────\u001b[0m┬\u001b[0m───────────────\u001b[0m┐\u001b[0m\n",
       "│\u001b[0m\u001b[22m _.names        \u001b[0m│\u001b[0m\u001b[22m _.types                         \u001b[0m│\u001b[0m\u001b[22m _.scitypes    \u001b[0m│\u001b[0m\n",
       "├\u001b[0m────────────────\u001b[0m┼\u001b[0m─────────────────────────────────\u001b[0m┼\u001b[0m───────────────\u001b[0m┤\u001b[0m\n",
       "│\u001b[0m Class_Name     \u001b[0m│\u001b[0m CategoricalValue{String,UInt32} \u001b[0m│\u001b[0m Multiclass{3} \u001b[0m│\u001b[0m\n",
       "│\u001b[0m Left_Weight    \u001b[0m│\u001b[0m Float64                         \u001b[0m│\u001b[0m Continuous    \u001b[0m│\u001b[0m\n",
       "│\u001b[0m Left_Distance  \u001b[0m│\u001b[0m Float64                         \u001b[0m│\u001b[0m Continuous    \u001b[0m│\u001b[0m\n",
       "│\u001b[0m Right_Weight   \u001b[0m│\u001b[0m Float64                         \u001b[0m│\u001b[0m Continuous    \u001b[0m│\u001b[0m\n",
       "│\u001b[0m Right_Distance \u001b[0m│\u001b[0m Float64                         \u001b[0m│\u001b[0m Continuous    \u001b[0m│\u001b[0m\n",
       "└\u001b[0m────────────────\u001b[0m┴\u001b[0m─────────────────────────────────\u001b[0m┴\u001b[0m───────────────\u001b[0m┘\u001b[0m\n",
       "_.nrows = 625\n"
      ]
     },
     "execution_count": 6,
     "metadata": {},
     "output_type": "execute_result"
    }
   ],
   "source": [
    "coerce!(data, :Class_Name=>Multiclass,\n",
    "              :Left_Weight=>Continuous,\n",
    "              :Right_Weight=>Continuous,\n",
    "              :Left_Distance=>Continuous,\n",
    "              :Right_Distance=>Continuous)\n",
    "schema(data)"
   ]
  },
  {
   "cell_type": "code",
   "execution_count": 7,
   "metadata": {
    "scrolled": false
   },
   "outputs": [
    {
     "data": {
      "text/plain": [
       "(CategoricalValue{String,UInt32}[\"B\", \"R\", \"R\", \"R\", \"R\", \"R\", \"R\", \"R\", \"R\", \"R\"  …  \"L\", \"L\", \"L\", \"L\", \"L\", \"L\", \"L\", \"L\", \"L\", \"B\"], 625×4 DataFrame\n",
       "│ Row │ Left_Weight │ Left_Distance │ Right_Weight │ Right_Distance │\n",
       "│     │ \u001b[90mFloat64\u001b[39m     │ \u001b[90mFloat64\u001b[39m       │ \u001b[90mFloat64\u001b[39m      │ \u001b[90mFloat64\u001b[39m        │\n",
       "├─────┼─────────────┼───────────────┼──────────────┼────────────────┤\n",
       "│ 1   │ 1.0         │ 1.0           │ 1.0          │ 1.0            │\n",
       "│ 2   │ 1.0         │ 1.0           │ 1.0          │ 2.0            │\n",
       "│ 3   │ 1.0         │ 1.0           │ 1.0          │ 3.0            │\n",
       "│ 4   │ 1.0         │ 1.0           │ 1.0          │ 4.0            │\n",
       "│ 5   │ 1.0         │ 1.0           │ 1.0          │ 5.0            │\n",
       "│ 6   │ 1.0         │ 1.0           │ 2.0          │ 1.0            │\n",
       "│ 7   │ 1.0         │ 1.0           │ 2.0          │ 2.0            │\n",
       "│ 8   │ 1.0         │ 1.0           │ 2.0          │ 3.0            │\n",
       "│ 9   │ 1.0         │ 1.0           │ 2.0          │ 4.0            │\n",
       "│ 10  │ 1.0         │ 1.0           │ 2.0          │ 5.0            │\n",
       "⋮\n",
       "│ 615 │ 5.0         │ 5.0           │ 3.0          │ 5.0            │\n",
       "│ 616 │ 5.0         │ 5.0           │ 4.0          │ 1.0            │\n",
       "│ 617 │ 5.0         │ 5.0           │ 4.0          │ 2.0            │\n",
       "│ 618 │ 5.0         │ 5.0           │ 4.0          │ 3.0            │\n",
       "│ 619 │ 5.0         │ 5.0           │ 4.0          │ 4.0            │\n",
       "│ 620 │ 5.0         │ 5.0           │ 4.0          │ 5.0            │\n",
       "│ 621 │ 5.0         │ 5.0           │ 5.0          │ 1.0            │\n",
       "│ 622 │ 5.0         │ 5.0           │ 5.0          │ 2.0            │\n",
       "│ 623 │ 5.0         │ 5.0           │ 5.0          │ 3.0            │\n",
       "│ 624 │ 5.0         │ 5.0           │ 5.0          │ 4.0            │\n",
       "│ 625 │ 5.0         │ 5.0           │ 5.0          │ 5.0            │)"
      ]
     },
     "execution_count": 7,
     "metadata": {},
     "output_type": "execute_result"
    }
   ],
   "source": [
    "y, X = unpack(data, ==(:Class_Name), colname->true)"
   ]
  },
  {
   "cell_type": "markdown",
   "metadata": {},
   "source": [
    "Partition train and test data accoring to class labels"
   ]
  },
  {
   "cell_type": "code",
   "execution_count": 8,
   "metadata": {},
   "outputs": [
    {
     "data": {
      "text/plain": [
       "([466, 234, 200, 327, 30, 75, 307, 267, 383, 247  …  96, 397, 91, 319, 259, 222, 614, 323, 563, 110], [622, 178, 249, 228, 345, 274, 454, 136, 550, 393  …  554, 241, 155, 101, 317, 113, 484, 130, 471, 348])"
      ]
     },
     "execution_count": 8,
     "metadata": {},
     "output_type": "execute_result"
    }
   ],
   "source": [
    "# data to use when trying to fit a single validation set\n",
    "train, test = partition(eachindex(y), 0.7, shuffle=true, rng=145) # gives 70:30 split"
   ]
  },
  {
   "cell_type": "code",
   "execution_count": 9,
   "metadata": {},
   "outputs": [
    {
     "data": {
      "text/plain": [
       "3-element Array{Float64,1}:\n",
       " 0.0821917808219178\n",
       " 0.4817351598173516\n",
       " 0.4360730593607306"
      ]
     },
     "execution_count": 9,
     "metadata": {},
     "output_type": "execute_result"
    }
   ],
   "source": [
    "train_counts = countmap(data[train,:Class_Name])\n",
    "collect(train_counts[i] / size(train)[1] for i in keys(train_counts))"
   ]
  },
  {
   "cell_type": "code",
   "execution_count": 10,
   "metadata": {},
   "outputs": [
    {
     "data": {
      "text/plain": [
       "3-element Array{Float64,1}:\n",
       " 0.06951871657754011\n",
       " 0.4117647058823529\n",
       " 0.5187165775401069"
      ]
     },
     "execution_count": 10,
     "metadata": {},
     "output_type": "execute_result"
    }
   ],
   "source": [
    "test_counts = countmap(data[test,:Class_Name])\n",
    "collect(test_counts[i] / size(test)[1] for i in keys(test_counts))"
   ]
  },
  {
   "cell_type": "markdown",
   "metadata": {},
   "source": [
    "# Five Learning Algorithms\n",
    "\n",
    "* Decision trees with some form of pruning\n",
    "* Neural networks\n",
    "* Boosting\n",
    "* Support Vector Machines\n",
    "* k-nearest neighbors\n",
    "\n",
    "\n",
    "##### Testing\n",
    "* Implement the algorithms\n",
    "* Design two *interesting* classification problems. For the purposes of this assignment, a classification problem is just a set of training examples and a set of test examples."
   ]
  },
  {
   "cell_type": "code",
   "execution_count": 11,
   "metadata": {
    "scrolled": true
   },
   "outputs": [
    {
     "data": {
      "text/plain": [
       "42-element Array{NamedTuple{(:name, :package_name, :is_supervised, :docstring, :hyperparameter_ranges, :hyperparameter_types, :hyperparameters, :implemented_methods, :is_pure_julia, :is_wrapper, :load_path, :package_license, :package_url, :package_uuid, :prediction_type, :supports_online, :supports_weights, :input_scitype, :target_scitype, :output_scitype),T} where T<:Tuple,1}:\n",
       " (name = AdaBoostClassifier, package_name = ScikitLearn, ... )\n",
       " (name = AdaBoostStumpClassifier, package_name = DecisionTree, ... )\n",
       " (name = BaggingClassifier, package_name = ScikitLearn, ... )\n",
       " (name = BayesianLDA, package_name = MultivariateStats, ... )\n",
       " (name = BayesianLDA, package_name = ScikitLearn, ... )\n",
       " (name = BayesianQDA, package_name = ScikitLearn, ... )\n",
       " (name = BayesianSubspaceLDA, package_name = MultivariateStats, ... )\n",
       " (name = ConstantClassifier, package_name = MLJModels, ... )\n",
       " (name = DecisionTreeClassifier, package_name = DecisionTree, ... )\n",
       " (name = DeterministicConstantClassifier, package_name = MLJModels, ... )\n",
       " (name = DummyClassifier, package_name = ScikitLearn, ... )\n",
       " (name = EvoTreeClassifier, package_name = EvoTrees, ... )\n",
       " (name = ExtraTreesClassifier, package_name = ScikitLearn, ... )\n",
       " ⋮\n",
       " (name = ProbabilisticSGDClassifier, package_name = ScikitLearn, ... )\n",
       " (name = RandomForestClassifier, package_name = DecisionTree, ... )\n",
       " (name = RandomForestClassifier, package_name = ScikitLearn, ... )\n",
       " (name = RidgeCVClassifier, package_name = ScikitLearn, ... )\n",
       " (name = RidgeClassifier, package_name = ScikitLearn, ... )\n",
       " (name = SGDClassifier, package_name = ScikitLearn, ... )\n",
       " (name = SVC, package_name = LIBSVM, ... )\n",
       " (name = SVMClassifier, package_name = ScikitLearn, ... )\n",
       " (name = SVMLinearClassifier, package_name = ScikitLearn, ... )\n",
       " (name = SVMNuClassifier, package_name = ScikitLearn, ... )\n",
       " (name = SubspaceLDA, package_name = MultivariateStats, ... )\n",
       " (name = XGBoostClassifier, package_name = XGBoost, ... )"
      ]
     },
     "execution_count": 11,
     "metadata": {},
     "output_type": "execute_result"
    }
   ],
   "source": [
    "models(matching(X,y))"
   ]
  },
  {
   "cell_type": "code",
   "execution_count": 12,
   "metadata": {},
   "outputs": [
    {
     "data": {
      "text/plain": [
       "SVMClassifier(\n",
       "    C = 1.0,\n",
       "    kernel = \"rbf\",\n",
       "    degree = 3,\n",
       "    gamma = \"auto\",\n",
       "    coef0 = 0.0,\n",
       "    shrinking = true,\n",
       "    tol = 0.001,\n",
       "    cache_size = 200,\n",
       "    max_iter = -1,\n",
       "    decision_function_shape = \"ovr\",\n",
       "    random_state = nothing)\u001b[34m @018\u001b[39m"
      ]
     },
     "execution_count": 12,
     "metadata": {},
     "output_type": "execute_result"
    }
   ],
   "source": [
    "@load SVMClassifier"
   ]
  },
  {
   "cell_type": "markdown",
   "metadata": {},
   "source": [
    "### Support Vector Machines\n",
    "* This should be done in such a way that you can swap out kernel functions. I'd like to see at least two."
   ]
  },
  {
   "cell_type": "code",
   "execution_count": 13,
   "metadata": {
    "scrolled": true
   },
   "outputs": [
    {
     "name": "stderr",
     "output_type": "stream",
     "text": [
      "┌ Info: Training \u001b[34mMachine{SVMClassifier} @858\u001b[39m.\n",
      "└ @ MLJBase /home/andrew/.julia/packages/MLJBase/uKzAz/src/machines.jl:319\n",
      "\u001b[33mEvaluating over 6 folds: 100%[=========================] Time: 0:00:01\u001b[39m\n"
     ]
    },
    {
     "data": {
      "text/plain": [
       "┌\u001b[0m───────────\u001b[0m┬\u001b[0m───────────────\u001b[0m┬\u001b[0m────────────────────────────────────────────\u001b[0m┐\u001b[0m\n",
       "│\u001b[0m\u001b[22m _.measure \u001b[0m│\u001b[0m\u001b[22m _.measurement \u001b[0m│\u001b[0m\u001b[22m _.per_fold                                 \u001b[0m│\u001b[0m\n",
       "├\u001b[0m───────────\u001b[0m┼\u001b[0m───────────────\u001b[0m┼\u001b[0m────────────────────────────────────────────\u001b[0m┤\u001b[0m\n",
       "│\u001b[0m accuracy  \u001b[0m│\u001b[0m 0.917         \u001b[0m│\u001b[0m [0.924, 0.875, 0.904, 0.952, 0.923, 0.923] \u001b[0m│\u001b[0m\n",
       "└\u001b[0m───────────\u001b[0m┴\u001b[0m───────────────\u001b[0m┴\u001b[0m────────────────────────────────────────────\u001b[0m┘\u001b[0m\n",
       "_.per_observation = [missing]\n",
       "_.fitted_params_per_fold = [ … ]\n",
       "_.report_per_fold = [ … ]\n"
      ]
     },
     "execution_count": 13,
     "metadata": {},
     "output_type": "execute_result"
    }
   ],
   "source": [
    "svm_model = SVMClassifier(kernel=\"linear\")\n",
    "svm_mach = machine(svm_model, X, y)\n",
    "fit!(svm_mach, rows=train, verbosity=2)\n",
    "svm_acc = evaluate!(svm_mach, resampling=CV(shuffle=true), measure=[accuracy], \n",
    "                        verbosity=1)"
   ]
  },
  {
   "cell_type": "code",
   "execution_count": 14,
   "metadata": {},
   "outputs": [
    {
     "name": "stderr",
     "output_type": "stream",
     "text": [
      "┌ Info: Training \u001b[34mMachine{SVMClassifier} @283\u001b[39m.\n",
      "└ @ MLJBase /home/andrew/.julia/packages/MLJBase/uKzAz/src/machines.jl:319\n",
      "\u001b[33mEvaluating over 6 folds: 100%[=========================] Time: 0:00:00\u001b[39m\n"
     ]
    },
    {
     "data": {
      "text/plain": [
       "┌\u001b[0m───────────\u001b[0m┬\u001b[0m───────────────\u001b[0m┬\u001b[0m───────────────────────────────────────────\u001b[0m┐\u001b[0m\n",
       "│\u001b[0m\u001b[22m _.measure \u001b[0m│\u001b[0m\u001b[22m _.measurement \u001b[0m│\u001b[0m\u001b[22m _.per_fold                                \u001b[0m│\u001b[0m\n",
       "├\u001b[0m───────────\u001b[0m┼\u001b[0m───────────────\u001b[0m┼\u001b[0m───────────────────────────────────────────\u001b[0m┤\u001b[0m\n",
       "│\u001b[0m accuracy  \u001b[0m│\u001b[0m 0.43          \u001b[0m│\u001b[0m [0.39, 0.452, 0.452, 0.413, 0.423, 0.452] \u001b[0m│\u001b[0m\n",
       "└\u001b[0m───────────\u001b[0m┴\u001b[0m───────────────\u001b[0m┴\u001b[0m───────────────────────────────────────────\u001b[0m┘\u001b[0m\n",
       "_.per_observation = [missing]\n",
       "_.fitted_params_per_fold = [ … ]\n",
       "_.report_per_fold = [ … ]\n"
      ]
     },
     "execution_count": 14,
     "metadata": {},
     "output_type": "execute_result"
    }
   ],
   "source": [
    "svm_model = SVMClassifier(kernel=\"sigmoid\")\n",
    "svm_mach = machine(svm_model, X, y)\n",
    "fit!(svm_mach, rows=train, verbosity=2)\n",
    "svm_acc = evaluate!(svm_mach, resampling=CV(shuffle=true), measure=[accuracy], \n",
    "                        verbosity=1)"
   ]
  },
  {
   "cell_type": "code",
   "execution_count": 15,
   "metadata": {},
   "outputs": [
    {
     "name": "stderr",
     "output_type": "stream",
     "text": [
      "┌ Info: Training \u001b[34mMachine{SVMClassifier} @871\u001b[39m.\n",
      "└ @ MLJBase /home/andrew/.julia/packages/MLJBase/uKzAz/src/machines.jl:319\n",
      "\u001b[33mEvaluating over 6 folds: 100%[=========================] Time: 0:00:00\u001b[39m\n"
     ]
    },
    {
     "data": {
      "text/plain": [
       "┌\u001b[0m───────────\u001b[0m┬\u001b[0m───────────────\u001b[0m┬\u001b[0m────────────────────────────────────────────\u001b[0m┐\u001b[0m\n",
       "│\u001b[0m\u001b[22m _.measure \u001b[0m│\u001b[0m\u001b[22m _.measurement \u001b[0m│\u001b[0m\u001b[22m _.per_fold                                 \u001b[0m│\u001b[0m\n",
       "├\u001b[0m───────────\u001b[0m┼\u001b[0m───────────────\u001b[0m┼\u001b[0m────────────────────────────────────────────\u001b[0m┤\u001b[0m\n",
       "│\u001b[0m accuracy  \u001b[0m│\u001b[0m 0.89          \u001b[0m│\u001b[0m [0.829, 0.885, 0.933, 0.904, 0.894, 0.894] \u001b[0m│\u001b[0m\n",
       "└\u001b[0m───────────\u001b[0m┴\u001b[0m───────────────\u001b[0m┴\u001b[0m────────────────────────────────────────────\u001b[0m┘\u001b[0m\n",
       "_.per_observation = [missing]\n",
       "_.fitted_params_per_fold = [ … ]\n",
       "_.report_per_fold = [ … ]\n"
      ]
     },
     "execution_count": 15,
     "metadata": {},
     "output_type": "execute_result"
    }
   ],
   "source": [
    "svm_model = SVMClassifier(kernel=\"rbf\")\n",
    "svm_mach = machine(svm_model, X, y)\n",
    "fit!(svm_mach, rows=train, verbosity=2)\n",
    "svm_acc = evaluate!(svm_mach, resampling=CV(shuffle=true), measure=[accuracy], \n",
    "                        verbosity=1)"
   ]
  },
  {
   "cell_type": "markdown",
   "metadata": {},
   "source": [
    "Poly Degree 2 took a long wall clock time"
   ]
  },
  {
   "cell_type": "code",
   "execution_count": 16,
   "metadata": {
    "scrolled": true
   },
   "outputs": [
    {
     "name": "stderr",
     "output_type": "stream",
     "text": [
      "┌ Info: Training \u001b[34mMachine{SVMClassifier} @345\u001b[39m.\n",
      "└ @ MLJBase /home/andrew/.julia/packages/MLJBase/uKzAz/src/machines.jl:319\n",
      "\u001b[33mEvaluating over 6 folds: 100%[=========================] Time: 0:00:00\u001b[39m\n"
     ]
    },
    {
     "data": {
      "text/plain": [
       "┌\u001b[0m───────────\u001b[0m┬\u001b[0m───────────────\u001b[0m┬\u001b[0m────────────────────────────────────────\u001b[0m┐\u001b[0m\n",
       "│\u001b[0m\u001b[22m _.measure \u001b[0m│\u001b[0m\u001b[22m _.measurement \u001b[0m│\u001b[0m\u001b[22m _.per_fold                             \u001b[0m│\u001b[0m\n",
       "├\u001b[0m───────────\u001b[0m┼\u001b[0m───────────────\u001b[0m┼\u001b[0m────────────────────────────────────────\u001b[0m┤\u001b[0m\n",
       "│\u001b[0m accuracy  \u001b[0m│\u001b[0m 0.986         \u001b[0m│\u001b[0m [0.99, 0.981, 1.0, 0.971, 0.99, 0.981] \u001b[0m│\u001b[0m\n",
       "└\u001b[0m───────────\u001b[0m┴\u001b[0m───────────────\u001b[0m┴\u001b[0m────────────────────────────────────────\u001b[0m┘\u001b[0m\n",
       "_.per_observation = [missing]\n",
       "_.fitted_params_per_fold = [ … ]\n",
       "_.report_per_fold = [ … ]\n"
      ]
     },
     "execution_count": 16,
     "metadata": {},
     "output_type": "execute_result"
    }
   ],
   "source": [
    "svm_model = SVMClassifier(kernel=\"poly\", degree=2)\n",
    "svm_mach = machine(svm_model, X, y)\n",
    "fit!(svm_mach, rows=train, verbosity=2)\n",
    "svm_acc = evaluate!(svm_mach, resampling=CV(shuffle=true), measure=[accuracy], \n",
    "                        verbosity=1)"
   ]
  },
  {
   "cell_type": "markdown",
   "metadata": {},
   "source": [
    "Can't use crossentropy because it is a probabilistic concept, and SVM doesn't do probabilities?"
   ]
  },
  {
   "cell_type": "markdown",
   "metadata": {},
   "source": [
    "### GridSearch / RandomSearch"
   ]
  },
  {
   "cell_type": "markdown",
   "metadata": {},
   "source": [
    "Use `linear` and `rbf`: \n",
    "* `linear` which has high bias\n",
    "* `rbf` which has high variance"
   ]
  },
  {
   "cell_type": "markdown",
   "metadata": {},
   "source": [
    "##### First look at `linear`"
   ]
  },
  {
   "cell_type": "code",
   "execution_count": 17,
   "metadata": {},
   "outputs": [
    {
     "data": {
      "text/plain": [
       "\u001b[34mMachine{SVMClassifier} @160\u001b[39m trained 0 times.\n",
       "  args: \n",
       "    1:\t\u001b[34mSource @620\u001b[39m ⏎ `Table{AbstractArray{Continuous,1}}`\n",
       "    2:\t\u001b[34mSource @542\u001b[39m ⏎ `AbstractArray{Multiclass{3},1}`\n"
      ]
     },
     "execution_count": 17,
     "metadata": {},
     "output_type": "execute_result"
    }
   ],
   "source": [
    "svm_linear_model = SVMClassifier(kernel=\"linear\", cache_size=1000)\n",
    "svm_linear_mach = machine(svm_linear_model, X, y)"
   ]
  },
  {
   "cell_type": "code",
   "execution_count": 18,
   "metadata": {},
   "outputs": [
    {
     "name": "stderr",
     "output_type": "stream",
     "text": [
      "┌ Info: Training \u001b[34mMachine{DeterministicTunedModel{Grid,…}} @502\u001b[39m.\n",
      "└ @ MLJBase /home/andrew/.julia/packages/MLJBase/uKzAz/src/machines.jl:319\n",
      "┌ Info: Attempting to evaluate 30 models.\n",
      "└ @ MLJTuning /home/andrew/.julia/packages/MLJTuning/Bbgvk/src/tuned_models.jl:494\n",
      "\u001b[33mEvaluating over 30 metamodels: 100%[=========================] Time: 0:00:07\u001b[39m\n"
     ]
    },
    {
     "data": {
      "text/plain": [
       "(parameter_name = \"C\",\n",
       " parameter_scale = :log10,\n",
       " parameter_values = [0.004999999999999999, 0.008051310137804695, 0.012964718987023333, 0.020876594682802, 0.033616787682496686, 0.05413183669370272, 0.0871664411099994, 0.14036081019705884, 0.22601768281801213, 0.3639476921991575  …  68.69118979416315, 110.61081455352239, 178.11239451312218, 286.807625522434, 461.8354285936932, 743.6760536467558, 1197.5133099937427, 1928.3102105817359, 3105.0847094578075, 4999.999999999999],\n",
       " measurements = [0.8751831501831502, 0.8655677655677656, 0.8896062271062272, 0.8623626373626373, 0.8687728937728937, 0.8671703296703296, 0.8751831501831502, 0.8751373626373627, 0.8799450549450549, 0.8928113553113554  …  0.9167277167277167, 0.9167277167277167, 0.9167277167277167, 0.9167277167277167, 0.9167277167277167, 0.9167277167277167, 0.9167277167277167, 0.9167277167277167, 0.9167277167277167, 0.9167277167277167],)"
      ]
     },
     "execution_count": 18,
     "metadata": {},
     "output_type": "execute_result"
    }
   ],
   "source": [
    "# r1 = range(svm_linear_model, :C, lower=5*10^-6, upper=5*10^4, scale=:log10)\n",
    "r1 = range(svm_linear_model, :C, lower=5*10^-3, upper=5*10^3, scale=:log10)\n",
    "curve = learning_curve(svm_linear_mach, \n",
    "                        range=r1,\n",
    "                        resampling=CV(), \n",
    "                        measure=accuracy, \n",
    "                        acceleration=CPUProcesses(),\n",
    "                        resolution=30)"
   ]
  },
  {
   "cell_type": "code",
   "execution_count": 19,
   "metadata": {},
   "outputs": [
    {
     "data": {
      "image/svg+xml": [
       "<?xml version=\"1.0\" encoding=\"utf-8\"?>\n",
       "<svg xmlns=\"http://www.w3.org/2000/svg\" xmlns:xlink=\"http://www.w3.org/1999/xlink\" width=\"600\" height=\"400\" viewBox=\"0 0 2400 1600\">\n",
       "<defs>\n",
       "  <clipPath id=\"clip380\">\n",
       "    <rect x=\"0\" y=\"0\" width=\"2400\" height=\"1600\"/>\n",
       "  </clipPath>\n",
       "</defs>\n",
       "<path clip-path=\"url(#clip380)\" d=\"\n",
       "M0 1600 L2400 1600 L2400 0 L0 0  Z\n",
       "  \" fill=\"#ffffff\" fill-rule=\"evenodd\" fill-opacity=\"1\"/>\n",
       "<defs>\n",
       "  <clipPath id=\"clip381\">\n",
       "    <rect x=\"480\" y=\"0\" width=\"1681\" height=\"1600\"/>\n",
       "  </clipPath>\n",
       "</defs>\n",
       "<path clip-path=\"url(#clip380)\" d=\"\n",
       "M237.945 1410.9 L2352.76 1410.9 L2352.76 47.2441 L237.945 47.2441  Z\n",
       "  \" fill=\"#ffffff\" fill-rule=\"evenodd\" fill-opacity=\"1\"/>\n",
       "<defs>\n",
       "  <clipPath id=\"clip382\">\n",
       "    <rect x=\"237\" y=\"47\" width=\"2116\" height=\"1365\"/>\n",
       "  </clipPath>\n",
       "</defs>\n",
       "<polyline clip-path=\"url(#clip382)\" style=\"stroke:#000000; stroke-width:2; stroke-opacity:0.1; fill:none\" points=\"\n",
       "  397.896,1410.9 397.896,47.2441 \n",
       "  \"/>\n",
       "<polyline clip-path=\"url(#clip382)\" style=\"stroke:#000000; stroke-width:2; stroke-opacity:0.1; fill:none\" points=\"\n",
       "  730.413,1410.9 730.413,47.2441 \n",
       "  \"/>\n",
       "<polyline clip-path=\"url(#clip382)\" style=\"stroke:#000000; stroke-width:2; stroke-opacity:0.1; fill:none\" points=\"\n",
       "  1062.93,1410.9 1062.93,47.2441 \n",
       "  \"/>\n",
       "<polyline clip-path=\"url(#clip382)\" style=\"stroke:#000000; stroke-width:2; stroke-opacity:0.1; fill:none\" points=\"\n",
       "  1395.45,1410.9 1395.45,47.2441 \n",
       "  \"/>\n",
       "<polyline clip-path=\"url(#clip382)\" style=\"stroke:#000000; stroke-width:2; stroke-opacity:0.1; fill:none\" points=\"\n",
       "  1727.97,1410.9 1727.97,47.2441 \n",
       "  \"/>\n",
       "<polyline clip-path=\"url(#clip382)\" style=\"stroke:#000000; stroke-width:2; stroke-opacity:0.1; fill:none\" points=\"\n",
       "  2060.48,1410.9 2060.48,47.2441 \n",
       "  \"/>\n",
       "<polyline clip-path=\"url(#clip382)\" style=\"stroke:#000000; stroke-width:2; stroke-opacity:0.1; fill:none\" points=\"\n",
       "  237.945,1191.58 2352.76,1191.58 \n",
       "  \"/>\n",
       "<polyline clip-path=\"url(#clip382)\" style=\"stroke:#000000; stroke-width:2; stroke-opacity:0.1; fill:none\" points=\"\n",
       "  237.945,954.942 2352.76,954.942 \n",
       "  \"/>\n",
       "<polyline clip-path=\"url(#clip382)\" style=\"stroke:#000000; stroke-width:2; stroke-opacity:0.1; fill:none\" points=\"\n",
       "  237.945,718.308 2352.76,718.308 \n",
       "  \"/>\n",
       "<polyline clip-path=\"url(#clip382)\" style=\"stroke:#000000; stroke-width:2; stroke-opacity:0.1; fill:none\" points=\"\n",
       "  237.945,481.673 2352.76,481.673 \n",
       "  \"/>\n",
       "<polyline clip-path=\"url(#clip382)\" style=\"stroke:#000000; stroke-width:2; stroke-opacity:0.1; fill:none\" points=\"\n",
       "  237.945,245.039 2352.76,245.039 \n",
       "  \"/>\n",
       "<polyline clip-path=\"url(#clip380)\" style=\"stroke:#000000; stroke-width:4; stroke-opacity:1; fill:none\" points=\"\n",
       "  237.945,1410.9 2352.76,1410.9 \n",
       "  \"/>\n",
       "<polyline clip-path=\"url(#clip380)\" style=\"stroke:#000000; stroke-width:4; stroke-opacity:1; fill:none\" points=\"\n",
       "  237.945,1410.9 237.945,47.2441 \n",
       "  \"/>\n",
       "<polyline clip-path=\"url(#clip380)\" style=\"stroke:#000000; stroke-width:4; stroke-opacity:1; fill:none\" points=\"\n",
       "  397.896,1410.9 397.896,1394.53 \n",
       "  \"/>\n",
       "<polyline clip-path=\"url(#clip380)\" style=\"stroke:#000000; stroke-width:4; stroke-opacity:1; fill:none\" points=\"\n",
       "  730.413,1410.9 730.413,1394.53 \n",
       "  \"/>\n",
       "<polyline clip-path=\"url(#clip380)\" style=\"stroke:#000000; stroke-width:4; stroke-opacity:1; fill:none\" points=\"\n",
       "  1062.93,1410.9 1062.93,1394.53 \n",
       "  \"/>\n",
       "<polyline clip-path=\"url(#clip380)\" style=\"stroke:#000000; stroke-width:4; stroke-opacity:1; fill:none\" points=\"\n",
       "  1395.45,1410.9 1395.45,1394.53 \n",
       "  \"/>\n",
       "<polyline clip-path=\"url(#clip380)\" style=\"stroke:#000000; stroke-width:4; stroke-opacity:1; fill:none\" points=\"\n",
       "  1727.97,1410.9 1727.97,1394.53 \n",
       "  \"/>\n",
       "<polyline clip-path=\"url(#clip380)\" style=\"stroke:#000000; stroke-width:4; stroke-opacity:1; fill:none\" points=\"\n",
       "  2060.48,1410.9 2060.48,1394.53 \n",
       "  \"/>\n",
       "<polyline clip-path=\"url(#clip380)\" style=\"stroke:#000000; stroke-width:4; stroke-opacity:1; fill:none\" points=\"\n",
       "  237.945,1191.58 263.323,1191.58 \n",
       "  \"/>\n",
       "<polyline clip-path=\"url(#clip380)\" style=\"stroke:#000000; stroke-width:4; stroke-opacity:1; fill:none\" points=\"\n",
       "  237.945,954.942 263.323,954.942 \n",
       "  \"/>\n",
       "<polyline clip-path=\"url(#clip380)\" style=\"stroke:#000000; stroke-width:4; stroke-opacity:1; fill:none\" points=\"\n",
       "  237.945,718.308 263.323,718.308 \n",
       "  \"/>\n",
       "<polyline clip-path=\"url(#clip380)\" style=\"stroke:#000000; stroke-width:4; stroke-opacity:1; fill:none\" points=\"\n",
       "  237.945,481.673 263.323,481.673 \n",
       "  \"/>\n",
       "<polyline clip-path=\"url(#clip380)\" style=\"stroke:#000000; stroke-width:4; stroke-opacity:1; fill:none\" points=\"\n",
       "  237.945,245.039 263.323,245.039 \n",
       "  \"/>\n",
       "<path clip-path=\"url(#clip380)\" d=\"M 0 0 M352.39 1481.97 L360.028 1481.97 L360.028 1455.6 L351.718 1457.27 L351.718 1453.01 L359.982 1451.34 L364.658 1451.34 L364.658 1481.97 L372.297 1481.97 L372.297 1485.9 L352.39 1485.9 L352.39 1481.97 Z\" fill=\"#000000\" fill-rule=\"evenodd\" fill-opacity=\"1\" /><path clip-path=\"url(#clip380)\" d=\"M 0 0 M387.366 1454.42 Q383.755 1454.42 381.927 1457.99 Q380.121 1461.53 380.121 1468.66 Q380.121 1475.77 381.927 1479.33 Q383.755 1482.87 387.366 1482.87 Q391.001 1482.87 392.806 1479.33 Q394.635 1475.77 394.635 1468.66 Q394.635 1461.53 392.806 1457.99 Q391.001 1454.42 387.366 1454.42 M387.366 1450.72 Q393.176 1450.72 396.232 1455.33 Q399.311 1459.91 399.311 1468.66 Q399.311 1477.39 396.232 1481.99 Q393.176 1486.58 387.366 1486.58 Q381.556 1486.58 378.477 1481.99 Q375.422 1477.39 375.422 1468.66 Q375.422 1459.91 378.477 1455.33 Q381.556 1450.72 387.366 1450.72 Z\" fill=\"#000000\" fill-rule=\"evenodd\" fill-opacity=\"1\" /><path clip-path=\"url(#clip380)\" d=\"M 0 0 M399.311 1444.82 L423.422 1444.82 L423.422 1448.02 L399.311 1448.02 L399.311 1444.82 Z\" fill=\"#000000\" fill-rule=\"evenodd\" fill-opacity=\"1\" /><path clip-path=\"url(#clip380)\" d=\"M 0 0 M430.814 1455.3 L444.073 1455.3 L444.073 1458.49 L426.243 1458.49 L426.243 1455.3 Q428.406 1453.06 432.13 1449.3 Q435.873 1445.52 436.832 1444.43 Q438.657 1442.38 439.371 1440.96 Q440.105 1439.54 440.105 1438.16 Q440.105 1435.92 438.525 1434.51 Q436.964 1433.1 434.444 1433.1 Q432.657 1433.1 430.663 1433.72 Q428.688 1434.34 426.431 1435.6 L426.431 1431.77 Q428.726 1430.85 430.72 1430.38 Q432.713 1429.91 434.368 1429.91 Q438.732 1429.91 441.327 1432.09 Q443.923 1434.27 443.923 1437.92 Q443.923 1439.65 443.264 1441.21 Q442.625 1442.75 440.913 1444.86 Q440.443 1445.4 437.923 1448.02 Q435.403 1450.61 430.814 1455.3 Z\" fill=\"#000000\" fill-rule=\"evenodd\" fill-opacity=\"1\" /><path clip-path=\"url(#clip380)\" d=\"M 0 0 M684.757 1481.97 L692.395 1481.97 L692.395 1455.6 L684.085 1457.27 L684.085 1453.01 L692.349 1451.34 L697.025 1451.34 L697.025 1481.97 L704.664 1481.97 L704.664 1485.9 L684.757 1485.9 L684.757 1481.97 Z\" fill=\"#000000\" fill-rule=\"evenodd\" fill-opacity=\"1\" /><path clip-path=\"url(#clip380)\" d=\"M 0 0 M719.733 1454.42 Q716.122 1454.42 714.293 1457.99 Q712.488 1461.53 712.488 1468.66 Q712.488 1475.77 714.293 1479.33 Q716.122 1482.87 719.733 1482.87 Q723.368 1482.87 725.173 1479.33 Q727.002 1475.77 727.002 1468.66 Q727.002 1461.53 725.173 1457.99 Q723.368 1454.42 719.733 1454.42 M719.733 1450.72 Q725.543 1450.72 728.599 1455.33 Q731.678 1459.91 731.678 1468.66 Q731.678 1477.39 728.599 1481.99 Q725.543 1486.58 719.733 1486.58 Q713.923 1486.58 710.844 1481.99 Q707.789 1477.39 707.789 1468.66 Q707.789 1459.91 710.844 1455.33 Q713.923 1450.72 719.733 1450.72 Z\" fill=\"#000000\" fill-rule=\"evenodd\" fill-opacity=\"1\" /><path clip-path=\"url(#clip380)\" d=\"M 0 0 M731.678 1444.82 L755.789 1444.82 L755.789 1448.02 L731.678 1448.02 L731.678 1444.82 Z\" fill=\"#000000\" fill-rule=\"evenodd\" fill-opacity=\"1\" /><path clip-path=\"url(#clip380)\" d=\"M 0 0 M760.566 1455.3 L766.773 1455.3 L766.773 1433.87 L760.021 1435.23 L760.021 1431.77 L766.735 1430.41 L770.535 1430.41 L770.535 1455.3 L776.741 1455.3 L776.741 1458.49 L760.566 1458.49 L760.566 1455.3 Z\" fill=\"#000000\" fill-rule=\"evenodd\" fill-opacity=\"1\" /><path clip-path=\"url(#clip380)\" d=\"M 0 0 M1030.1 1481.97 L1037.74 1481.97 L1037.74 1455.6 L1029.43 1457.27 L1029.43 1453.01 L1037.69 1451.34 L1042.37 1451.34 L1042.37 1481.97 L1050.01 1481.97 L1050.01 1485.9 L1030.1 1485.9 L1030.1 1481.97 Z\" fill=\"#000000\" fill-rule=\"evenodd\" fill-opacity=\"1\" /><path clip-path=\"url(#clip380)\" d=\"M 0 0 M1065.08 1454.42 Q1061.47 1454.42 1059.64 1457.99 Q1057.83 1461.53 1057.83 1468.66 Q1057.83 1475.77 1059.64 1479.33 Q1061.47 1482.87 1065.08 1482.87 Q1068.71 1482.87 1070.52 1479.33 Q1072.35 1475.77 1072.35 1468.66 Q1072.35 1461.53 1070.52 1457.99 Q1068.71 1454.42 1065.08 1454.42 M1065.08 1450.72 Q1070.89 1450.72 1073.94 1455.33 Q1077.02 1459.91 1077.02 1468.66 Q1077.02 1477.39 1073.94 1481.99 Q1070.89 1486.58 1065.08 1486.58 Q1059.27 1486.58 1056.19 1481.99 Q1053.13 1477.39 1053.13 1468.66 Q1053.13 1459.91 1056.19 1455.33 Q1059.27 1450.72 1065.08 1450.72 Z\" fill=\"#000000\" fill-rule=\"evenodd\" fill-opacity=\"1\" /><path clip-path=\"url(#clip380)\" d=\"M 0 0 M1086.73 1432.91 Q1083.79 1432.91 1082.31 1435.81 Q1080.84 1438.69 1080.84 1444.48 Q1080.84 1450.26 1082.31 1453.15 Q1083.79 1456.03 1086.73 1456.03 Q1089.68 1456.03 1091.15 1453.15 Q1092.63 1450.26 1092.63 1444.48 Q1092.63 1438.69 1091.15 1435.81 Q1089.68 1432.91 1086.73 1432.91 M1086.73 1429.91 Q1091.45 1429.91 1093.93 1433.65 Q1096.43 1437.37 1096.43 1444.48 Q1096.43 1451.57 1093.93 1455.31 Q1091.45 1459.04 1086.73 1459.04 Q1082.01 1459.04 1079.5 1455.31 Q1077.02 1451.57 1077.02 1444.48 Q1077.02 1437.37 1079.5 1433.65 Q1082.01 1429.91 1086.73 1429.91 Z\" fill=\"#000000\" fill-rule=\"evenodd\" fill-opacity=\"1\" /><path clip-path=\"url(#clip380)\" d=\"M 0 0 M1363.96 1481.97 L1371.6 1481.97 L1371.6 1455.6 L1363.29 1457.27 L1363.29 1453.01 L1371.56 1451.34 L1376.23 1451.34 L1376.23 1481.97 L1383.87 1481.97 L1383.87 1485.9 L1363.96 1485.9 L1363.96 1481.97 Z\" fill=\"#000000\" fill-rule=\"evenodd\" fill-opacity=\"1\" /><path clip-path=\"url(#clip380)\" d=\"M 0 0 M1398.94 1454.42 Q1395.33 1454.42 1393.5 1457.99 Q1391.69 1461.53 1391.69 1468.66 Q1391.69 1475.77 1393.5 1479.33 Q1395.33 1482.87 1398.94 1482.87 Q1402.57 1482.87 1404.38 1479.33 Q1406.21 1475.77 1406.21 1468.66 Q1406.21 1461.53 1404.38 1457.99 Q1402.57 1454.42 1398.94 1454.42 M1398.94 1450.72 Q1404.75 1450.72 1407.81 1455.33 Q1410.88 1459.91 1410.88 1468.66 Q1410.88 1477.39 1407.81 1481.99 Q1404.75 1486.58 1398.94 1486.58 Q1393.13 1486.58 1390.05 1481.99 Q1387 1477.39 1387 1468.66 Q1387 1459.91 1390.05 1455.33 Q1393.13 1450.72 1398.94 1450.72 Z\" fill=\"#000000\" fill-rule=\"evenodd\" fill-opacity=\"1\" /><path clip-path=\"url(#clip380)\" d=\"M 0 0 M1411.43 1455.3 L1417.64 1455.3 L1417.64 1433.87 L1410.88 1435.23 L1410.88 1431.77 L1417.6 1430.41 L1421.4 1430.41 L1421.4 1455.3 L1427.6 1455.3 L1427.6 1458.49 L1411.43 1458.49 L1411.43 1455.3 Z\" fill=\"#000000\" fill-rule=\"evenodd\" fill-opacity=\"1\" /><path clip-path=\"url(#clip380)\" d=\"M 0 0 M1695.93 1481.97 L1703.56 1481.97 L1703.56 1455.6 L1695.25 1457.27 L1695.25 1453.01 L1703.52 1451.34 L1708.19 1451.34 L1708.19 1481.97 L1715.83 1481.97 L1715.83 1485.9 L1695.93 1485.9 L1695.93 1481.97 Z\" fill=\"#000000\" fill-rule=\"evenodd\" fill-opacity=\"1\" /><path clip-path=\"url(#clip380)\" d=\"M 0 0 M1730.9 1454.42 Q1727.29 1454.42 1725.46 1457.99 Q1723.66 1461.53 1723.66 1468.66 Q1723.66 1475.77 1725.46 1479.33 Q1727.29 1482.87 1730.9 1482.87 Q1734.54 1482.87 1736.34 1479.33 Q1738.17 1475.77 1738.17 1468.66 Q1738.17 1461.53 1736.34 1457.99 Q1734.54 1454.42 1730.9 1454.42 M1730.9 1450.72 Q1736.71 1450.72 1739.77 1455.33 Q1742.85 1459.91 1742.85 1468.66 Q1742.85 1477.39 1739.77 1481.99 Q1736.71 1486.58 1730.9 1486.58 Q1725.09 1486.58 1722.01 1481.99 Q1718.96 1477.39 1718.96 1468.66 Q1718.96 1459.91 1722.01 1455.33 Q1725.09 1450.72 1730.9 1450.72 Z\" fill=\"#000000\" fill-rule=\"evenodd\" fill-opacity=\"1\" /><path clip-path=\"url(#clip380)\" d=\"M 0 0 M1747.42 1455.3 L1760.68 1455.3 L1760.68 1458.49 L1742.85 1458.49 L1742.85 1455.3 Q1745.01 1453.06 1748.73 1449.3 Q1752.48 1445.52 1753.44 1444.43 Q1755.26 1442.38 1755.97 1440.96 Q1756.71 1439.54 1756.71 1438.16 Q1756.71 1435.92 1755.13 1434.51 Q1753.57 1433.1 1751.05 1433.1 Q1749.26 1433.1 1747.27 1433.72 Q1745.29 1434.34 1743.03 1435.6 L1743.03 1431.77 Q1745.33 1430.85 1747.32 1430.38 Q1749.32 1429.91 1750.97 1429.91 Q1755.34 1429.91 1757.93 1432.09 Q1760.53 1434.27 1760.53 1437.92 Q1760.53 1439.65 1759.87 1441.21 Q1759.23 1442.75 1757.52 1444.86 Q1757.05 1445.4 1754.53 1448.02 Q1752.01 1450.61 1747.42 1455.3 Z\" fill=\"#000000\" fill-rule=\"evenodd\" fill-opacity=\"1\" /><path clip-path=\"url(#clip380)\" d=\"M 0 0 M2028.11 1481.97 L2035.75 1481.97 L2035.75 1455.6 L2027.44 1457.27 L2027.44 1453.01 L2035.71 1451.34 L2040.38 1451.34 L2040.38 1481.97 L2048.02 1481.97 L2048.02 1485.9 L2028.11 1485.9 L2028.11 1481.97 Z\" fill=\"#000000\" fill-rule=\"evenodd\" fill-opacity=\"1\" /><path clip-path=\"url(#clip380)\" d=\"M 0 0 M2063.09 1454.42 Q2059.48 1454.42 2057.65 1457.99 Q2055.85 1461.53 2055.85 1468.66 Q2055.85 1475.77 2057.65 1479.33 Q2059.48 1482.87 2063.09 1482.87 Q2066.73 1482.87 2068.53 1479.33 Q2070.36 1475.77 2070.36 1468.66 Q2070.36 1461.53 2068.53 1457.99 Q2066.73 1454.42 2063.09 1454.42 M2063.09 1450.72 Q2068.9 1450.72 2071.96 1455.33 Q2075.04 1459.91 2075.04 1468.66 Q2075.04 1477.39 2071.96 1481.99 Q2068.9 1486.58 2063.09 1486.58 Q2057.28 1486.58 2054.2 1481.99 Q2051.15 1477.39 2051.15 1468.66 Q2051.15 1459.91 2054.2 1455.33 Q2057.28 1450.72 2063.09 1450.72 Z\" fill=\"#000000\" fill-rule=\"evenodd\" fill-opacity=\"1\" /><path clip-path=\"url(#clip380)\" d=\"M 0 0 M2087.73 1443.35 Q2090.46 1443.94 2091.98 1445.78 Q2093.52 1447.62 2093.52 1450.33 Q2093.52 1454.49 2090.66 1456.76 Q2087.81 1459.04 2082.54 1459.04 Q2080.77 1459.04 2078.89 1458.68 Q2077.03 1458.34 2075.04 1457.65 L2075.04 1453.98 Q2076.62 1454.9 2078.5 1455.37 Q2080.38 1455.84 2082.43 1455.84 Q2086 1455.84 2087.86 1454.43 Q2089.74 1453.02 2089.74 1450.33 Q2089.74 1447.85 2087.99 1446.46 Q2086.26 1445.05 2083.16 1445.05 L2079.89 1445.05 L2079.89 1441.92 L2083.31 1441.92 Q2086.11 1441.92 2087.6 1440.81 Q2089.08 1439.69 2089.08 1437.58 Q2089.08 1435.42 2087.54 1434.27 Q2086.02 1433.1 2083.16 1433.1 Q2081.6 1433.1 2079.81 1433.44 Q2078.03 1433.78 2075.88 1434.49 L2075.88 1431.11 Q2078.04 1430.51 2079.93 1430.21 Q2081.82 1429.91 2083.5 1429.91 Q2087.82 1429.91 2090.34 1431.88 Q2092.86 1433.84 2092.86 1437.18 Q2092.86 1439.52 2091.53 1441.13 Q2090.19 1442.73 2087.73 1443.35 Z\" fill=\"#000000\" fill-rule=\"evenodd\" fill-opacity=\"1\" /><path clip-path=\"url(#clip380)\" d=\"M 0 0 M139.015 1177.38 Q135.404 1177.38 133.575 1180.94 Q131.769 1184.48 131.769 1191.61 Q131.769 1198.72 133.575 1202.28 Q135.404 1205.82 139.015 1205.82 Q142.649 1205.82 144.455 1202.28 Q146.283 1198.72 146.283 1191.61 Q146.283 1184.48 144.455 1180.94 Q142.649 1177.38 139.015 1177.38 M139.015 1173.67 Q144.825 1173.67 147.88 1178.28 Q150.959 1182.86 150.959 1191.61 Q150.959 1200.34 147.88 1204.94 Q144.825 1209.53 139.015 1209.53 Q133.205 1209.53 130.126 1204.94 Q127.07 1200.34 127.07 1191.61 Q127.07 1182.86 130.126 1178.28 Q133.205 1173.67 139.015 1173.67 Z\" fill=\"#000000\" fill-rule=\"evenodd\" fill-opacity=\"1\" /><path clip-path=\"url(#clip380)\" d=\"M 0 0 M156.029 1202.98 L160.913 1202.98 L160.913 1208.86 L156.029 1208.86 L156.029 1202.98 Z\" fill=\"#000000\" fill-rule=\"evenodd\" fill-opacity=\"1\" /><path clip-path=\"url(#clip380)\" d=\"M 0 0 M175.982 1192.44 Q172.649 1192.44 170.728 1194.23 Q168.829 1196.01 168.829 1199.13 Q168.829 1202.26 170.728 1204.04 Q172.649 1205.82 175.982 1205.82 Q179.315 1205.82 181.237 1204.04 Q183.158 1202.24 183.158 1199.13 Q183.158 1196.01 181.237 1194.23 Q179.339 1192.44 175.982 1192.44 M171.306 1190.45 Q168.297 1189.71 166.607 1187.65 Q164.941 1185.59 164.941 1182.63 Q164.941 1178.49 167.88 1176.08 Q170.843 1173.67 175.982 1173.67 Q181.144 1173.67 184.084 1176.08 Q187.024 1178.49 187.024 1182.63 Q187.024 1185.59 185.334 1187.65 Q183.667 1189.71 180.681 1190.45 Q184.061 1191.24 185.936 1193.53 Q187.834 1195.82 187.834 1199.13 Q187.834 1204.16 184.755 1206.84 Q181.7 1209.53 175.982 1209.53 Q170.265 1209.53 167.186 1206.84 Q164.13 1204.16 164.13 1199.13 Q164.13 1195.82 166.028 1193.53 Q167.927 1191.24 171.306 1190.45 M169.593 1183.07 Q169.593 1185.75 171.26 1187.26 Q172.95 1188.76 175.982 1188.76 Q178.991 1188.76 180.681 1187.26 Q182.394 1185.75 182.394 1183.07 Q182.394 1180.38 180.681 1178.88 Q178.991 1177.38 175.982 1177.38 Q172.95 1177.38 171.26 1178.88 Q169.593 1180.38 169.593 1183.07 Z\" fill=\"#000000\" fill-rule=\"evenodd\" fill-opacity=\"1\" /><path clip-path=\"url(#clip380)\" d=\"M 0 0 M191.723 1174.3 L213.945 1174.3 L213.945 1176.29 L201.399 1208.86 L196.514 1208.86 L208.32 1178.23 L191.723 1178.23 L191.723 1174.3 Z\" fill=\"#000000\" fill-rule=\"evenodd\" fill-opacity=\"1\" /><path clip-path=\"url(#clip380)\" d=\"M 0 0 M138.205 940.741 Q134.593 940.741 132.765 944.306 Q130.959 947.847 130.959 954.977 Q130.959 962.083 132.765 965.648 Q134.593 969.19 138.205 969.19 Q141.839 969.19 143.644 965.648 Q145.473 962.083 145.473 954.977 Q145.473 947.847 143.644 944.306 Q141.839 940.741 138.205 940.741 M138.205 937.037 Q144.015 937.037 147.07 941.644 Q150.149 946.227 150.149 954.977 Q150.149 963.704 147.07 968.31 Q144.015 972.893 138.205 972.893 Q132.394 972.893 129.316 968.31 Q126.26 963.704 126.26 954.977 Q126.26 946.227 129.316 941.644 Q132.394 937.037 138.205 937.037 Z\" fill=\"#000000\" fill-rule=\"evenodd\" fill-opacity=\"1\" /><path clip-path=\"url(#clip380)\" d=\"M 0 0 M155.218 966.342 L160.103 966.342 L160.103 972.222 L155.218 972.222 L155.218 966.342 Z\" fill=\"#000000\" fill-rule=\"evenodd\" fill-opacity=\"1\" /><path clip-path=\"url(#clip380)\" d=\"M 0 0 M175.172 955.81 Q171.839 955.81 169.917 957.593 Q168.019 959.375 168.019 962.5 Q168.019 965.625 169.917 967.407 Q171.839 969.19 175.172 969.19 Q178.505 969.19 180.427 967.407 Q182.348 965.602 182.348 962.5 Q182.348 959.375 180.427 957.593 Q178.528 955.81 175.172 955.81 M170.496 953.819 Q167.487 953.079 165.797 951.018 Q164.13 948.958 164.13 945.995 Q164.13 941.852 167.07 939.444 Q170.033 937.037 175.172 937.037 Q180.334 937.037 183.274 939.444 Q186.214 941.852 186.214 945.995 Q186.214 948.958 184.524 951.018 Q182.857 953.079 179.871 953.819 Q183.251 954.606 185.126 956.898 Q187.024 959.19 187.024 962.5 Q187.024 967.523 183.945 970.208 Q180.889 972.893 175.172 972.893 Q169.454 972.893 166.376 970.208 Q163.32 967.523 163.32 962.5 Q163.32 959.19 165.218 956.898 Q167.116 954.606 170.496 953.819 M168.783 946.435 Q168.783 949.12 170.45 950.625 Q172.14 952.13 175.172 952.13 Q178.181 952.13 179.871 950.625 Q181.584 949.12 181.584 946.435 Q181.584 943.75 179.871 942.245 Q178.181 940.741 175.172 940.741 Q172.14 940.741 170.45 942.245 Q168.783 943.75 168.783 946.435 Z\" fill=\"#000000\" fill-rule=\"evenodd\" fill-opacity=\"1\" /><path clip-path=\"url(#clip380)\" d=\"M 0 0 M202.093 955.81 Q198.76 955.81 196.838 957.593 Q194.94 959.375 194.94 962.5 Q194.94 965.625 196.838 967.407 Q198.76 969.19 202.093 969.19 Q205.426 969.19 207.348 967.407 Q209.269 965.602 209.269 962.5 Q209.269 959.375 207.348 957.593 Q205.45 955.81 202.093 955.81 M197.417 953.819 Q194.408 953.079 192.718 951.018 Q191.051 948.958 191.051 945.995 Q191.051 941.852 193.991 939.444 Q196.954 937.037 202.093 937.037 Q207.255 937.037 210.195 939.444 Q213.135 941.852 213.135 945.995 Q213.135 948.958 211.445 951.018 Q209.778 953.079 206.792 953.819 Q210.172 954.606 212.047 956.898 Q213.945 959.19 213.945 962.5 Q213.945 967.523 210.866 970.208 Q207.811 972.893 202.093 972.893 Q196.376 972.893 193.297 970.208 Q190.241 967.523 190.241 962.5 Q190.241 959.19 192.139 956.898 Q194.038 954.606 197.417 953.819 M195.704 946.435 Q195.704 949.12 197.371 950.625 Q199.061 952.13 202.093 952.13 Q205.102 952.13 206.792 950.625 Q208.505 949.12 208.505 946.435 Q208.505 943.75 206.792 942.245 Q205.102 940.741 202.093 940.741 Q199.061 940.741 197.371 942.245 Q195.704 943.75 195.704 946.435 Z\" fill=\"#000000\" fill-rule=\"evenodd\" fill-opacity=\"1\" /><path clip-path=\"url(#clip380)\" d=\"M 0 0 M138.297 704.106 Q134.686 704.106 132.857 707.671 Q131.052 711.213 131.052 718.342 Q131.052 725.449 132.857 729.014 Q134.686 732.555 138.297 732.555 Q141.931 732.555 143.737 729.014 Q145.566 725.449 145.566 718.342 Q145.566 711.213 143.737 707.671 Q141.931 704.106 138.297 704.106 M138.297 700.403 Q144.107 700.403 147.163 705.009 Q150.242 709.592 150.242 718.342 Q150.242 727.069 147.163 731.676 Q144.107 736.259 138.297 736.259 Q132.487 736.259 129.408 731.676 Q126.353 727.069 126.353 718.342 Q126.353 709.592 129.408 705.009 Q132.487 700.403 138.297 700.403 Z\" fill=\"#000000\" fill-rule=\"evenodd\" fill-opacity=\"1\" /><path clip-path=\"url(#clip380)\" d=\"M 0 0 M155.311 729.708 L160.195 729.708 L160.195 735.588 L155.311 735.588 L155.311 729.708 Z\" fill=\"#000000\" fill-rule=\"evenodd\" fill-opacity=\"1\" /><path clip-path=\"url(#clip380)\" d=\"M 0 0 M175.265 719.176 Q171.931 719.176 170.01 720.958 Q168.112 722.741 168.112 725.866 Q168.112 728.991 170.01 730.773 Q171.931 732.555 175.265 732.555 Q178.598 732.555 180.519 730.773 Q182.44 728.967 182.44 725.866 Q182.44 722.741 180.519 720.958 Q178.621 719.176 175.265 719.176 M170.589 717.185 Q167.579 716.444 165.89 714.384 Q164.223 712.324 164.223 709.361 Q164.223 705.217 167.163 702.81 Q170.126 700.403 175.265 700.403 Q180.427 700.403 183.366 702.81 Q186.306 705.217 186.306 709.361 Q186.306 712.324 184.616 714.384 Q182.95 716.444 179.964 717.185 Q183.343 717.972 185.218 720.264 Q187.116 722.555 187.116 725.866 Q187.116 730.889 184.038 733.574 Q180.982 736.259 175.265 736.259 Q169.547 736.259 166.468 733.574 Q163.413 730.889 163.413 725.866 Q163.413 722.555 165.311 720.264 Q167.209 717.972 170.589 717.185 M168.876 709.801 Q168.876 712.486 170.542 713.991 Q172.232 715.495 175.265 715.495 Q178.274 715.495 179.964 713.991 Q181.677 712.486 181.677 709.801 Q181.677 707.116 179.964 705.611 Q178.274 704.106 175.265 704.106 Q172.232 704.106 170.542 705.611 Q168.876 707.116 168.876 709.801 Z\" fill=\"#000000\" fill-rule=\"evenodd\" fill-opacity=\"1\" /><path clip-path=\"url(#clip380)\" d=\"M 0 0 M192.325 734.87 L192.325 730.611 Q194.084 731.444 195.889 731.884 Q197.695 732.324 199.431 732.324 Q204.061 732.324 206.491 729.222 Q208.945 726.097 209.292 719.754 Q207.95 721.745 205.889 722.81 Q203.829 723.875 201.329 723.875 Q196.144 723.875 193.112 720.75 Q190.102 717.602 190.102 712.162 Q190.102 706.838 193.251 703.62 Q196.399 700.403 201.63 700.403 Q207.625 700.403 210.774 705.009 Q213.945 709.592 213.945 718.342 Q213.945 726.514 210.056 731.398 Q206.19 736.259 199.639 736.259 Q197.88 736.259 196.075 735.912 Q194.269 735.565 192.325 734.87 M201.63 720.217 Q204.778 720.217 206.607 718.065 Q208.459 715.912 208.459 712.162 Q208.459 708.435 206.607 706.282 Q204.778 704.106 201.63 704.106 Q198.482 704.106 196.63 706.282 Q194.801 708.435 194.801 712.162 Q194.801 715.912 196.63 718.065 Q198.482 720.217 201.63 720.217 Z\" fill=\"#000000\" fill-rule=\"evenodd\" fill-opacity=\"1\" /><path clip-path=\"url(#clip380)\" d=\"M 0 0 M138.205 467.472 Q134.593 467.472 132.765 471.037 Q130.959 474.578 130.959 481.708 Q130.959 488.814 132.765 492.379 Q134.593 495.921 138.205 495.921 Q141.839 495.921 143.644 492.379 Q145.473 488.814 145.473 481.708 Q145.473 474.578 143.644 471.037 Q141.839 467.472 138.205 467.472 M138.205 463.768 Q144.015 463.768 147.07 468.375 Q150.149 472.958 150.149 481.708 Q150.149 490.435 147.07 495.041 Q144.015 499.625 138.205 499.625 Q132.394 499.625 129.316 495.041 Q126.26 490.435 126.26 481.708 Q126.26 472.958 129.316 468.375 Q132.394 463.768 138.205 463.768 Z\" fill=\"#000000\" fill-rule=\"evenodd\" fill-opacity=\"1\" /><path clip-path=\"url(#clip380)\" d=\"M 0 0 M155.218 493.074 L160.103 493.074 L160.103 498.953 L155.218 498.953 L155.218 493.074 Z\" fill=\"#000000\" fill-rule=\"evenodd\" fill-opacity=\"1\" /><path clip-path=\"url(#clip380)\" d=\"M 0 0 M165.311 498.236 L165.311 493.976 Q167.07 494.81 168.876 495.25 Q170.681 495.689 172.417 495.689 Q177.047 495.689 179.477 492.588 Q181.931 489.463 182.278 483.12 Q180.936 485.111 178.876 486.176 Q176.815 487.24 174.315 487.24 Q169.13 487.24 166.098 484.115 Q163.089 480.967 163.089 475.528 Q163.089 470.203 166.237 466.986 Q169.385 463.768 174.616 463.768 Q180.612 463.768 183.76 468.375 Q186.931 472.958 186.931 481.708 Q186.931 489.879 183.042 494.764 Q179.177 499.625 172.626 499.625 Q170.866 499.625 169.061 499.277 Q167.255 498.93 165.311 498.236 M174.616 483.583 Q177.765 483.583 179.593 481.43 Q181.445 479.277 181.445 475.528 Q181.445 471.801 179.593 469.648 Q177.765 467.472 174.616 467.472 Q171.468 467.472 169.616 469.648 Q167.788 471.801 167.788 475.528 Q167.788 479.277 169.616 481.43 Q171.468 483.583 174.616 483.583 Z\" fill=\"#000000\" fill-rule=\"evenodd\" fill-opacity=\"1\" /><path clip-path=\"url(#clip380)\" d=\"M 0 0 M202 467.472 Q198.389 467.472 196.561 471.037 Q194.755 474.578 194.755 481.708 Q194.755 488.814 196.561 492.379 Q198.389 495.921 202 495.921 Q205.635 495.921 207.44 492.379 Q209.269 488.814 209.269 481.708 Q209.269 474.578 207.44 471.037 Q205.635 467.472 202 467.472 M202 463.768 Q207.811 463.768 210.866 468.375 Q213.945 472.958 213.945 481.708 Q213.945 490.435 210.866 495.041 Q207.811 499.625 202 499.625 Q196.19 499.625 193.112 495.041 Q190.056 490.435 190.056 481.708 Q190.056 472.958 193.112 468.375 Q196.19 463.768 202 463.768 Z\" fill=\"#000000\" fill-rule=\"evenodd\" fill-opacity=\"1\" /><path clip-path=\"url(#clip380)\" d=\"M 0 0 M139.431 230.838 Q135.82 230.838 133.992 234.402 Q132.186 237.944 132.186 245.074 Q132.186 252.18 133.992 255.745 Q135.82 259.287 139.431 259.287 Q143.066 259.287 144.871 255.745 Q146.7 252.18 146.7 245.074 Q146.7 237.944 144.871 234.402 Q143.066 230.838 139.431 230.838 M139.431 227.134 Q145.242 227.134 148.297 231.74 Q151.376 236.324 151.376 245.074 Q151.376 253.8 148.297 258.407 Q145.242 262.99 139.431 262.99 Q133.621 262.99 130.543 258.407 Q127.487 253.8 127.487 245.074 Q127.487 236.324 130.543 231.74 Q133.621 227.134 139.431 227.134 Z\" fill=\"#000000\" fill-rule=\"evenodd\" fill-opacity=\"1\" /><path clip-path=\"url(#clip380)\" d=\"M 0 0 M156.445 256.439 L161.329 256.439 L161.329 262.319 L156.445 262.319 L156.445 256.439 Z\" fill=\"#000000\" fill-rule=\"evenodd\" fill-opacity=\"1\" /><path clip-path=\"url(#clip380)\" d=\"M 0 0 M166.538 261.601 L166.538 257.342 Q168.297 258.175 170.103 258.615 Q171.908 259.055 173.644 259.055 Q178.274 259.055 180.704 255.953 Q183.158 252.828 183.505 246.486 Q182.163 248.476 180.102 249.541 Q178.042 250.606 175.542 250.606 Q170.357 250.606 167.325 247.481 Q164.316 244.333 164.316 238.893 Q164.316 233.569 167.464 230.352 Q170.612 227.134 175.843 227.134 Q181.839 227.134 184.987 231.74 Q188.158 236.324 188.158 245.074 Q188.158 253.245 184.269 258.129 Q180.403 262.99 173.852 262.99 Q172.093 262.99 170.288 262.643 Q168.482 262.296 166.538 261.601 M175.843 246.949 Q178.991 246.949 180.82 244.796 Q182.672 242.643 182.672 238.893 Q182.672 235.166 180.82 233.014 Q178.991 230.838 175.843 230.838 Q172.695 230.838 170.843 233.014 Q169.015 235.166 169.015 238.893 Q169.015 242.643 170.843 244.796 Q172.695 246.949 175.843 246.949 Z\" fill=\"#000000\" fill-rule=\"evenodd\" fill-opacity=\"1\" /><path clip-path=\"url(#clip380)\" d=\"M 0 0 M194.038 258.384 L201.676 258.384 L201.676 232.018 L193.366 233.685 L193.366 229.426 L201.63 227.759 L206.306 227.759 L206.306 258.384 L213.945 258.384 L213.945 262.319 L194.038 262.319 L194.038 258.384 Z\" fill=\"#000000\" fill-rule=\"evenodd\" fill-opacity=\"1\" /><path clip-path=\"url(#clip380)\" d=\"M 0 0 M1314.51 1518.33 L1314.51 1525.11 Q1311.26 1522.08 1307.57 1520.59 Q1303.91 1519.09 1299.77 1519.09 Q1291.63 1519.09 1287.3 1524.09 Q1282.97 1529.05 1282.97 1538.47 Q1282.97 1547.86 1287.3 1552.86 Q1291.63 1557.82 1299.77 1557.82 Q1303.91 1557.82 1307.57 1556.33 Q1311.26 1554.83 1314.51 1551.81 L1314.51 1558.53 Q1311.14 1560.82 1307.35 1561.96 Q1303.59 1563.11 1299.39 1563.11 Q1288.6 1563.11 1282.4 1556.52 Q1276.19 1549.9 1276.19 1538.47 Q1276.19 1527.01 1282.4 1520.43 Q1288.6 1513.81 1299.39 1513.81 Q1303.66 1513.81 1307.41 1514.95 Q1311.2 1516.07 1314.51 1518.33 Z\" fill=\"#000000\" fill-rule=\"evenodd\" fill-opacity=\"1\" /><path clip-path=\"url(#clip380)\" d=\"M 0 0 M44.1444 1020.68 L50.9239 1020.68 Q47.9002 1023.93 46.4043 1027.62 Q44.9083 1031.28 44.9083 1035.42 Q44.9083 1043.57 49.9054 1047.9 Q54.8707 1052.23 64.2919 1052.23 Q73.6813 1052.23 78.6784 1047.9 Q83.6436 1043.57 83.6436 1035.42 Q83.6436 1031.28 82.1477 1027.62 Q80.6518 1023.93 77.6281 1020.68 L84.3439 1020.68 Q86.6355 1024.06 87.7814 1027.84 Q88.9272 1031.6 88.9272 1035.8 Q88.9272 1046.59 82.3387 1052.8 Q75.7183 1059 64.2919 1059 Q52.8336 1059 46.2451 1052.8 Q39.6248 1046.59 39.6248 1035.8 Q39.6248 1031.54 40.7706 1027.78 Q41.8846 1023.99 44.1444 1020.68 Z\" fill=\"#000000\" fill-rule=\"evenodd\" fill-opacity=\"1\" /><path clip-path=\"url(#clip380)\" d=\"M 0 0 M38.479 1014.54 L38.479 1008.68 L88.0042 1008.68 L88.0042 1014.54 L38.479 1014.54 Z\" fill=\"#000000\" fill-rule=\"evenodd\" fill-opacity=\"1\" /><path clip-path=\"url(#clip380)\" d=\"M 0 0 M70.0847 986.34 Q70.0847 993.438 71.7079 996.175 Q73.3312 998.913 77.2461 998.913 Q80.3653 998.913 82.2114 996.876 Q84.0256 994.807 84.0256 991.274 Q84.0256 986.404 80.5881 983.476 Q77.1188 980.516 71.3897 980.516 L70.0847 980.516 L70.0847 986.34 M67.6657 974.659 L88.0042 974.659 L88.0042 980.516 L82.5933 980.516 Q85.8398 982.521 87.3994 985.513 Q88.9272 988.505 88.9272 992.833 Q88.9272 998.308 85.8716 1001.55 Q82.7843 1004.77 77.6281 1004.77 Q71.6125 1004.77 68.5569 1000.76 Q65.5014 996.717 65.5014 988.728 L65.5014 980.516 L64.9285 980.516 Q60.8862 980.516 58.6901 983.189 Q56.4621 985.831 56.4621 990.637 Q56.4621 993.693 57.1941 996.589 Q57.9262 999.486 59.3903 1002.16 L53.9795 1002.16 Q52.7381 998.945 52.1334 995.921 Q51.4968 992.897 51.4968 990.033 Q51.4968 982.298 55.5072 978.479 Q59.5176 974.659 67.6657 974.659 Z\" fill=\"#000000\" fill-rule=\"evenodd\" fill-opacity=\"1\" /><path clip-path=\"url(#clip380)\" d=\"M 0 0 M53.4065 945.791 L58.9447 945.791 Q57.6716 948.273 57.035 950.947 Q56.3984 953.621 56.3984 956.485 Q56.3984 960.846 57.7352 963.042 Q59.072 965.206 61.7456 965.206 Q63.7826 965.206 64.9603 963.647 Q66.1061 962.087 67.1565 957.376 L67.6021 955.371 Q68.9389 949.133 71.3897 946.523 Q73.8086 943.881 78.1691 943.881 Q83.1344 943.881 86.0308 947.828 Q88.9272 951.743 88.9272 958.618 Q88.9272 961.482 88.3543 964.602 Q87.8132 967.689 86.6992 971.126 L80.6518 971.126 Q82.3387 967.88 83.198 964.729 Q84.0256 961.578 84.0256 958.49 Q84.0256 954.353 82.6251 952.125 Q81.1929 949.897 78.6147 949.897 Q76.2276 949.897 74.9545 951.52 Q73.6813 953.111 72.5037 958.554 L72.0262 960.591 Q70.8804 966.034 68.5251 968.453 Q66.138 970.872 62.0002 970.872 Q56.9713 970.872 54.2341 967.307 Q51.4968 963.742 51.4968 957.185 Q51.4968 953.939 51.9743 951.074 Q52.4517 948.21 53.4065 945.791 Z\" fill=\"#000000\" fill-rule=\"evenodd\" fill-opacity=\"1\" /><path clip-path=\"url(#clip380)\" d=\"M 0 0 M53.4065 915.013 L58.9447 915.013 Q57.6716 917.495 57.035 920.169 Q56.3984 922.842 56.3984 925.707 Q56.3984 930.068 57.7352 932.264 Q59.072 934.428 61.7456 934.428 Q63.7826 934.428 64.9603 932.868 Q66.1061 931.309 67.1565 926.598 L67.6021 924.593 Q68.9389 918.355 71.3897 915.745 Q73.8086 913.103 78.1691 913.103 Q83.1344 913.103 86.0308 917.05 Q88.9272 920.965 88.9272 927.84 Q88.9272 930.704 88.3543 933.823 Q87.8132 936.911 86.6992 940.348 L80.6518 940.348 Q82.3387 937.102 83.198 933.951 Q84.0256 930.8 84.0256 927.712 Q84.0256 923.575 82.6251 921.347 Q81.1929 919.119 78.6147 919.119 Q76.2276 919.119 74.9545 920.742 Q73.6813 922.333 72.5037 927.776 L72.0262 929.813 Q70.8804 935.256 68.5251 937.675 Q66.138 940.094 62.0002 940.094 Q56.9713 940.094 54.2341 936.529 Q51.4968 932.964 51.4968 926.407 Q51.4968 923.161 51.9743 920.296 Q52.4517 917.432 53.4065 915.013 Z\" fill=\"#000000\" fill-rule=\"evenodd\" fill-opacity=\"1\" /><path clip-path=\"url(#clip380)\" d=\"M 0 0 M52.3562 906.96 L52.3562 901.104 L88.0042 901.104 L88.0042 906.96 L52.3562 906.96 M38.479 906.96 L38.479 901.104 L45.895 901.104 L45.895 906.96 L38.479 906.96 Z\" fill=\"#000000\" fill-rule=\"evenodd\" fill-opacity=\"1\" /><path clip-path=\"url(#clip380)\" d=\"M 0 0 M38.479 876.914 L43.3487 876.914 L43.3487 882.516 Q43.3487 885.667 44.6219 886.908 Q45.895 888.118 49.2052 888.118 L52.3562 888.118 L52.3562 878.474 L56.9077 878.474 L56.9077 888.118 L88.0042 888.118 L88.0042 894.006 L56.9077 894.006 L56.9077 899.608 L52.3562 899.608 L52.3562 894.006 L49.8736 894.006 Q43.9216 894.006 41.2162 891.237 Q38.479 888.468 38.479 882.452 L38.479 876.914 Z\" fill=\"#000000\" fill-rule=\"evenodd\" fill-opacity=\"1\" /><path clip-path=\"url(#clip380)\" d=\"M 0 0 M52.3562 870.771 L52.3562 864.915 L88.0042 864.915 L88.0042 870.771 L52.3562 870.771 M38.479 870.771 L38.479 864.915 L45.895 864.915 L45.895 870.771 L38.479 870.771 Z\" fill=\"#000000\" fill-rule=\"evenodd\" fill-opacity=\"1\" /><path clip-path=\"url(#clip380)\" d=\"M 0 0 M53.7248 833.118 L59.1993 833.118 Q57.8307 835.6 57.1623 838.115 Q56.4621 840.598 56.4621 843.144 Q56.4621 848.841 60.0905 851.992 Q63.6872 855.143 70.212 855.143 Q76.7369 855.143 80.3653 851.992 Q83.9619 848.841 83.9619 843.144 Q83.9619 840.598 83.2935 838.115 Q82.5933 835.6 81.2247 833.118 L86.6355 833.118 Q87.7814 835.569 88.3543 838.21 Q88.9272 840.82 88.9272 843.78 Q88.9272 851.833 83.8664 856.575 Q78.8057 861.318 70.212 861.318 Q61.491 861.318 56.4939 856.544 Q51.4968 851.738 51.4968 843.398 Q51.4968 840.693 52.0697 838.115 Q52.6108 835.537 53.7248 833.118 Z\" fill=\"#000000\" fill-rule=\"evenodd\" fill-opacity=\"1\" /><path clip-path=\"url(#clip380)\" d=\"M 0 0 M70.0847 810.774 Q70.0847 817.872 71.7079 820.609 Q73.3312 823.346 77.2461 823.346 Q80.3653 823.346 82.2114 821.309 Q84.0256 819.241 84.0256 815.708 Q84.0256 810.838 80.5881 807.91 Q77.1188 804.95 71.3897 804.95 L70.0847 804.95 L70.0847 810.774 M67.6657 799.093 L88.0042 799.093 L88.0042 804.95 L82.5933 804.95 Q85.8398 806.955 87.3994 809.947 Q88.9272 812.939 88.9272 817.267 Q88.9272 822.742 85.8716 825.988 Q82.7843 829.203 77.6281 829.203 Q71.6125 829.203 68.5569 825.193 Q65.5014 821.15 65.5014 813.161 L65.5014 804.95 L64.9285 804.95 Q60.8862 804.95 58.6901 807.623 Q56.4621 810.265 56.4621 815.071 Q56.4621 818.127 57.1941 821.023 Q57.9262 823.919 59.3903 826.593 L53.9795 826.593 Q52.7381 823.378 52.1334 820.355 Q51.4968 817.331 51.4968 814.466 Q51.4968 806.732 55.5072 802.913 Q59.5176 799.093 67.6657 799.093 Z\" fill=\"#000000\" fill-rule=\"evenodd\" fill-opacity=\"1\" /><path clip-path=\"url(#clip380)\" d=\"M 0 0 M42.2347 787.157 L52.3562 787.157 L52.3562 775.094 L56.9077 775.094 L56.9077 787.157 L76.2594 787.157 Q80.6199 787.157 81.8613 785.98 Q83.1026 784.77 83.1026 781.11 L83.1026 775.094 L88.0042 775.094 L88.0042 781.11 Q88.0042 787.889 85.4897 790.468 Q82.9434 793.046 76.2594 793.046 L56.9077 793.046 L56.9077 797.343 L52.3562 797.343 L52.3562 793.046 L42.2347 793.046 L42.2347 787.157 Z\" fill=\"#000000\" fill-rule=\"evenodd\" fill-opacity=\"1\" /><path clip-path=\"url(#clip380)\" d=\"M 0 0 M52.3562 768.952 L52.3562 763.095 L88.0042 763.095 L88.0042 768.952 L52.3562 768.952 M38.479 768.952 L38.479 763.095 L45.895 763.095 L45.895 768.952 L38.479 768.952 Z\" fill=\"#000000\" fill-rule=\"evenodd\" fill-opacity=\"1\" /><path clip-path=\"url(#clip380)\" d=\"M 0 0 M56.4621 743.139 Q56.4621 747.849 60.1542 750.586 Q63.8145 753.324 70.212 753.324 Q76.6095 753.324 80.3017 750.618 Q83.9619 747.881 83.9619 743.139 Q83.9619 738.46 80.2698 735.723 Q76.5777 732.985 70.212 732.985 Q63.8781 732.985 60.186 735.723 Q56.4621 738.46 56.4621 743.139 M51.4968 743.139 Q51.4968 735.5 56.4621 731.139 Q61.4273 726.779 70.212 726.779 Q78.9649 726.779 83.9619 731.139 Q88.9272 735.5 88.9272 743.139 Q88.9272 750.809 83.9619 755.17 Q78.9649 759.498 70.212 759.498 Q61.4273 759.498 56.4621 755.17 Q51.4968 750.809 51.4968 743.139 Z\" fill=\"#000000\" fill-rule=\"evenodd\" fill-opacity=\"1\" /><path clip-path=\"url(#clip380)\" d=\"M 0 0 M66.4881 691.003 L88.0042 691.003 L88.0042 696.86 L66.679 696.86 Q61.6183 696.86 59.1038 698.833 Q56.5894 700.807 56.5894 704.753 Q56.5894 709.496 59.6131 712.233 Q62.6368 714.97 67.8567 714.97 L88.0042 714.97 L88.0042 720.859 L52.3562 720.859 L52.3562 714.97 L57.8944 714.97 Q54.6797 712.87 53.0883 710.037 Q51.4968 707.172 51.4968 703.448 Q51.4968 697.305 55.3163 694.154 Q59.1038 691.003 66.4881 691.003 Z\" fill=\"#000000\" fill-rule=\"evenodd\" fill-opacity=\"1\" /><path clip-path=\"url(#clip380)\" d=\"M 0 0 M46.818 648.003 L70.4666 656.724 L70.4666 639.25 L46.818 648.003 M40.4842 651.632 L40.4842 644.343 L88.0042 626.232 L88.0042 632.916 L75.8138 637.245 L75.8138 658.666 L88.0042 662.994 L88.0042 669.774 L40.4842 651.632 Z\" fill=\"#000000\" fill-rule=\"evenodd\" fill-opacity=\"1\" /><path clip-path=\"url(#clip380)\" d=\"M 0 0 M53.7248 595.582 L59.1993 595.582 Q57.8307 598.064 57.1623 600.579 Q56.4621 603.061 56.4621 605.607 Q56.4621 611.305 60.0905 614.456 Q63.6872 617.607 70.212 617.607 Q76.7369 617.607 80.3653 614.456 Q83.9619 611.305 83.9619 605.607 Q83.9619 603.061 83.2935 600.579 Q82.5933 598.064 81.2247 595.582 L86.6355 595.582 Q87.7814 598.032 88.3543 600.674 Q88.9272 603.284 88.9272 606.244 Q88.9272 614.297 83.8664 619.039 Q78.8057 623.782 70.212 623.782 Q61.491 623.782 56.4939 619.007 Q51.4968 614.201 51.4968 605.862 Q51.4968 603.157 52.0697 600.579 Q52.6108 598 53.7248 595.582 Z\" fill=\"#000000\" fill-rule=\"evenodd\" fill-opacity=\"1\" /><path clip-path=\"url(#clip380)\" d=\"M 0 0 M53.7248 563.785 L59.1993 563.785 Q57.8307 566.267 57.1623 568.782 Q56.4621 571.265 56.4621 573.811 Q56.4621 579.508 60.0905 582.659 Q63.6872 585.81 70.212 585.81 Q76.7369 585.81 80.3653 582.659 Q83.9619 579.508 83.9619 573.811 Q83.9619 571.265 83.2935 568.782 Q82.5933 566.267 81.2247 563.785 L86.6355 563.785 Q87.7814 566.236 88.3543 568.877 Q88.9272 571.487 88.9272 574.447 Q88.9272 582.5 83.8664 587.242 Q78.8057 591.985 70.212 591.985 Q61.491 591.985 56.4939 587.211 Q51.4968 582.404 51.4968 574.065 Q51.4968 571.36 52.0697 568.782 Q52.6108 566.204 53.7248 563.785 Z\" fill=\"#000000\" fill-rule=\"evenodd\" fill-opacity=\"1\" /><path clip-path=\"url(#clip380)\" d=\"M 0 0 M73.9359 558.247 L52.3562 558.247 L52.3562 552.39 L73.7131 552.39 Q78.7739 552.39 81.3202 550.417 Q83.8346 548.443 83.8346 544.497 Q83.8346 539.754 80.8109 537.017 Q77.7872 534.248 72.5673 534.248 L52.3562 534.248 L52.3562 528.391 L88.0042 528.391 L88.0042 534.248 L82.5296 534.248 Q85.7762 536.38 87.3676 539.213 Q88.9272 542.014 88.9272 545.738 Q88.9272 551.881 85.1078 555.064 Q81.2883 558.247 73.9359 558.247 M51.4968 543.51 L51.4968 543.51 Z\" fill=\"#000000\" fill-rule=\"evenodd\" fill-opacity=\"1\" /><path clip-path=\"url(#clip380)\" d=\"M 0 0 M57.8307 501.592 Q57.2578 502.579 57.0032 503.756 Q56.7167 504.902 56.7167 506.302 Q56.7167 511.268 59.9632 513.941 Q63.1779 516.583 69.2253 516.583 L88.0042 516.583 L88.0042 522.471 L52.3562 522.471 L52.3562 516.583 L57.8944 516.583 Q54.6479 514.737 53.0883 511.777 Q51.4968 508.817 51.4968 504.584 Q51.4968 503.979 51.5923 503.247 Q51.656 502.515 51.8151 501.624 L57.8307 501.592 Z\" fill=\"#000000\" fill-rule=\"evenodd\" fill-opacity=\"1\" /><path clip-path=\"url(#clip380)\" d=\"M 0 0 M70.0847 479.248 Q70.0847 486.346 71.7079 489.083 Q73.3312 491.82 77.2461 491.82 Q80.3653 491.82 82.2114 489.783 Q84.0256 487.715 84.0256 484.182 Q84.0256 479.312 80.5881 476.384 Q77.1188 473.424 71.3897 473.424 L70.0847 473.424 L70.0847 479.248 M67.6657 467.567 L88.0042 467.567 L88.0042 473.424 L82.5933 473.424 Q85.8398 475.429 87.3994 478.421 Q88.9272 481.413 88.9272 485.741 Q88.9272 491.216 85.8716 494.462 Q82.7843 497.677 77.6281 497.677 Q71.6125 497.677 68.5569 493.667 Q65.5014 489.624 65.5014 481.635 L65.5014 473.424 L64.9285 473.424 Q60.8862 473.424 58.6901 476.097 Q56.4621 478.739 56.4621 483.545 Q56.4621 486.601 57.1941 489.497 Q57.9262 492.393 59.3903 495.067 L53.9795 495.067 Q52.7381 491.852 52.1334 488.829 Q51.4968 485.805 51.4968 482.94 Q51.4968 475.206 55.5072 471.387 Q59.5176 467.567 67.6657 467.567 Z\" fill=\"#000000\" fill-rule=\"evenodd\" fill-opacity=\"1\" /><path clip-path=\"url(#clip380)\" d=\"M 0 0 M53.7248 435.77 L59.1993 435.77 Q57.8307 438.253 57.1623 440.768 Q56.4621 443.25 56.4621 445.796 Q56.4621 451.494 60.0905 454.645 Q63.6872 457.796 70.212 457.796 Q76.7369 457.796 80.3653 454.645 Q83.9619 451.494 83.9619 445.796 Q83.9619 443.25 83.2935 440.768 Q82.5933 438.253 81.2247 435.77 L86.6355 435.77 Q87.7814 438.221 88.3543 440.863 Q88.9272 443.473 88.9272 446.433 Q88.9272 454.486 83.8664 459.228 Q78.8057 463.971 70.212 463.971 Q61.491 463.971 56.4939 459.196 Q51.4968 454.39 51.4968 446.051 Q51.4968 443.346 52.0697 440.768 Q52.6108 438.189 53.7248 435.77 Z\" fill=\"#000000\" fill-rule=\"evenodd\" fill-opacity=\"1\" /><path clip-path=\"url(#clip380)\" d=\"M 0 0 M91.3143 414.795 Q97.68 417.278 99.6216 419.633 Q101.563 421.989 101.563 425.935 L101.563 430.614 L96.6615 430.614 L96.6615 427.177 Q96.6615 424.758 95.5157 423.421 Q94.3699 422.084 90.1048 420.461 L87.4312 419.411 L52.3562 433.829 L52.3562 427.622 L80.238 416.482 L52.3562 405.342 L52.3562 399.136 L91.3143 414.795 Z\" fill=\"#000000\" fill-rule=\"evenodd\" fill-opacity=\"1\" /><polyline clip-path=\"url(#clip382)\" style=\"stroke:#009af9; stroke-width:8; stroke-opacity:1; fill:none\" points=\"\n",
       "  297.798,1068.93 366.595,1296.46 435.391,727.626 504.188,1372.3 572.985,1220.61 641.782,1258.54 710.578,1068.93 779.375,1070.01 848.172,956.242 916.968,651.781 \n",
       "  985.765,85.838 1054.56,85.838 1123.36,85.838 1192.16,85.838 1260.95,85.838 1329.75,85.838 1398.55,85.838 1467.34,85.838 1536.14,85.838 1604.94,85.838 \n",
       "  1673.73,85.838 1742.53,85.838 1811.33,85.838 1880.12,85.838 1948.92,85.838 2017.72,85.838 2086.51,85.838 2155.31,85.838 2224.11,85.838 2292.9,85.838 \n",
       "  \n",
       "  \"/>\n",
       "<path clip-path=\"url(#clip380)\" d=\"\n",
       "M1847.96 213.659 L2282.26 213.659 L2282.26 92.6992 L1847.96 92.6992  Z\n",
       "  \" fill=\"#ffffff\" fill-rule=\"evenodd\" fill-opacity=\"1\"/>\n",
       "<polyline clip-path=\"url(#clip380)\" style=\"stroke:#000000; stroke-width:4; stroke-opacity:1; fill:none\" points=\"\n",
       "  1847.96,213.659 2282.26,213.659 2282.26,92.6992 1847.96,92.6992 1847.96,213.659 \n",
       "  \"/>\n",
       "<polyline clip-path=\"url(#clip380)\" style=\"stroke:#009af9; stroke-width:4; stroke-opacity:1; fill:none\" points=\"\n",
       "  1871.45,153.179 2012.44,153.179 \n",
       "  \"/>\n",
       "<path clip-path=\"url(#clip380)\" d=\"M 0 0 M2049.13 170.459 L2035.94 135.899 L2040.82 135.899 L2051.77 164.996 L2062.74 135.899 L2067.61 135.899 L2054.43 170.459 L2049.13 170.459 Z\" fill=\"#000000\" fill-rule=\"evenodd\" fill-opacity=\"1\" /><path clip-path=\"url(#clip380)\" d=\"M 0 0 M2080.17 157.427 Q2075.01 157.427 2073.02 158.607 Q2071.03 159.788 2071.03 162.635 Q2071.03 164.904 2072.51 166.246 Q2074.02 167.566 2076.59 167.566 Q2080.13 167.566 2082.26 165.066 Q2084.41 162.543 2084.41 158.376 L2084.41 157.427 L2080.17 157.427 M2088.67 155.668 L2088.67 170.459 L2084.41 170.459 L2084.41 166.524 Q2082.95 168.885 2080.78 170.019 Q2078.6 171.13 2075.45 171.13 Q2071.47 171.13 2069.11 168.908 Q2066.77 166.663 2066.77 162.913 Q2066.77 158.538 2069.69 156.316 Q2072.63 154.094 2078.44 154.094 L2084.41 154.094 L2084.41 153.677 Q2084.41 150.737 2082.47 149.14 Q2080.55 147.519 2077.05 147.519 Q2074.83 147.519 2072.72 148.052 Q2070.61 148.584 2068.67 149.649 L2068.67 145.714 Q2071.01 144.811 2073.21 144.371 Q2075.41 143.908 2077.49 143.908 Q2083.11 143.908 2085.89 146.825 Q2088.67 149.742 2088.67 155.668 Z\" fill=\"#000000\" fill-rule=\"evenodd\" fill-opacity=\"1\" /><path clip-path=\"url(#clip380)\" d=\"M 0 0 M2093.14 134.441 L2097.4 134.441 L2097.4 170.459 L2093.14 170.459 L2093.14 134.441 Z\" fill=\"#000000\" fill-rule=\"evenodd\" fill-opacity=\"1\" /><path clip-path=\"url(#clip380)\" d=\"M 0 0 M2101.86 144.533 L2106.12 144.533 L2106.12 170.459 L2101.86 170.459 L2101.86 144.533 M2101.86 134.441 L2106.12 134.441 L2106.12 139.834 L2101.86 139.834 L2101.86 134.441 Z\" fill=\"#000000\" fill-rule=\"evenodd\" fill-opacity=\"1\" /><path clip-path=\"url(#clip380)\" d=\"M 0 0 M2127.65 148.469 L2127.65 134.441 L2131.91 134.441 L2131.91 170.459 L2127.65 170.459 L2127.65 166.57 Q2126.31 168.885 2124.25 170.019 Q2122.21 171.13 2119.34 171.13 Q2114.64 171.13 2111.68 167.38 Q2108.74 163.631 2108.74 157.519 Q2108.74 151.408 2111.68 147.658 Q2114.64 143.908 2119.34 143.908 Q2122.21 143.908 2124.25 145.043 Q2126.31 146.154 2127.65 148.469 M2113.14 157.519 Q2113.14 162.218 2115.06 164.904 Q2117 167.566 2120.38 167.566 Q2123.76 167.566 2125.71 164.904 Q2127.65 162.218 2127.65 157.519 Q2127.65 152.82 2125.71 150.158 Q2123.76 147.473 2120.38 147.473 Q2117 147.473 2115.06 150.158 Q2113.14 152.82 2113.14 157.519 Z\" fill=\"#000000\" fill-rule=\"evenodd\" fill-opacity=\"1\" /><path clip-path=\"url(#clip380)\" d=\"M 0 0 M2148.16 157.427 Q2143 157.427 2141.01 158.607 Q2139.02 159.788 2139.02 162.635 Q2139.02 164.904 2140.5 166.246 Q2142 167.566 2144.57 167.566 Q2148.11 167.566 2150.24 165.066 Q2152.4 162.543 2152.4 158.376 L2152.4 157.427 L2148.16 157.427 M2156.66 155.668 L2156.66 170.459 L2152.4 170.459 L2152.4 166.524 Q2150.94 168.885 2148.76 170.019 Q2146.59 171.13 2143.44 171.13 Q2139.46 171.13 2137.1 168.908 Q2134.76 166.663 2134.76 162.913 Q2134.76 158.538 2137.67 156.316 Q2140.61 154.094 2146.42 154.094 L2152.4 154.094 L2152.4 153.677 Q2152.4 150.737 2150.45 149.14 Q2148.53 147.519 2145.04 147.519 Q2142.81 147.519 2140.71 148.052 Q2138.6 148.584 2136.66 149.649 L2136.66 145.714 Q2138.99 144.811 2141.19 144.371 Q2143.39 143.908 2145.48 143.908 Q2151.1 143.908 2153.88 146.825 Q2156.66 149.742 2156.66 155.668 Z\" fill=\"#000000\" fill-rule=\"evenodd\" fill-opacity=\"1\" /><path clip-path=\"url(#clip380)\" d=\"M 0 0 M2165.34 137.172 L2165.34 144.533 L2174.11 144.533 L2174.11 147.844 L2165.34 147.844 L2165.34 161.918 Q2165.34 165.089 2166.19 165.992 Q2167.07 166.894 2169.73 166.894 L2174.11 166.894 L2174.11 170.459 L2169.73 170.459 Q2164.8 170.459 2162.93 168.63 Q2161.05 166.779 2161.05 161.918 L2161.05 147.844 L2157.93 147.844 L2157.93 144.533 L2161.05 144.533 L2161.05 137.172 L2165.34 137.172 Z\" fill=\"#000000\" fill-rule=\"evenodd\" fill-opacity=\"1\" /><path clip-path=\"url(#clip380)\" d=\"M 0 0 M2178.58 144.533 L2182.84 144.533 L2182.84 170.459 L2178.58 170.459 L2178.58 144.533 M2178.58 134.441 L2182.84 134.441 L2182.84 139.834 L2178.58 139.834 L2178.58 134.441 Z\" fill=\"#000000\" fill-rule=\"evenodd\" fill-opacity=\"1\" /><path clip-path=\"url(#clip380)\" d=\"M 0 0 M2197.35 147.519 Q2193.92 147.519 2191.93 150.205 Q2189.94 152.867 2189.94 157.519 Q2189.94 162.172 2191.91 164.857 Q2193.9 167.519 2197.35 167.519 Q2200.75 167.519 2202.74 164.834 Q2204.73 162.149 2204.73 157.519 Q2204.73 152.913 2202.74 150.228 Q2200.75 147.519 2197.35 147.519 M2197.35 143.908 Q2202.91 143.908 2206.08 147.519 Q2209.25 151.131 2209.25 157.519 Q2209.25 163.885 2206.08 167.519 Q2202.91 171.13 2197.35 171.13 Q2191.77 171.13 2188.6 167.519 Q2185.45 163.885 2185.45 157.519 Q2185.45 151.131 2188.6 147.519 Q2191.77 143.908 2197.35 143.908 Z\" fill=\"#000000\" fill-rule=\"evenodd\" fill-opacity=\"1\" /><path clip-path=\"url(#clip380)\" d=\"M 0 0 M2235.27 154.811 L2235.27 170.459 L2231.01 170.459 L2231.01 154.95 Q2231.01 151.269 2229.57 149.441 Q2228.14 147.612 2225.27 147.612 Q2221.82 147.612 2219.83 149.811 Q2217.84 152.01 2217.84 155.806 L2217.84 170.459 L2213.55 170.459 L2213.55 144.533 L2217.84 144.533 L2217.84 148.561 Q2219.36 146.223 2221.42 145.066 Q2223.51 143.908 2226.22 143.908 Q2230.68 143.908 2232.97 146.686 Q2235.27 149.441 2235.27 154.811 Z\" fill=\"#000000\" fill-rule=\"evenodd\" fill-opacity=\"1\" /></svg>\n"
      ]
     },
     "execution_count": 19,
     "metadata": {},
     "output_type": "execute_result"
    }
   ],
   "source": [
    "plot(curve.parameter_values,\n",
    "     curve.measurements,\n",
    "     xscale=curve.parameter_scale,\n",
    "     xlab=curve.parameter_name,\n",
    "     ylab=\"Classification Accuracy\",\n",
    "     label=\"Validation\", lw=2)"
   ]
  },
  {
   "cell_type": "code",
   "execution_count": 20,
   "metadata": {},
   "outputs": [
    {
     "data": {
      "text/plain": [
       "0.91673"
      ]
     },
     "execution_count": 20,
     "metadata": {},
     "output_type": "execute_result"
    }
   ],
   "source": [
    "a = round(maximum(curve.measurements), digits=5)"
   ]
  },
  {
   "cell_type": "code",
   "execution_count": 21,
   "metadata": {},
   "outputs": [
    {
     "data": {
      "text/plain": [
       "0.58605114876674"
      ]
     },
     "execution_count": 21,
     "metadata": {},
     "output_type": "execute_result"
    }
   ],
   "source": [
    "best_C = curve.parameter_values[argmax(curve.measurements)]"
   ]
  },
  {
   "cell_type": "markdown",
   "metadata": {},
   "source": [
    "##### Second look at `rbf`"
   ]
  },
  {
   "cell_type": "code",
   "execution_count": 22,
   "metadata": {},
   "outputs": [
    {
     "data": {
      "text/plain": [
       "MLJBase.NumericRange(Float64, :gamma, ... )"
      ]
     },
     "execution_count": 22,
     "metadata": {},
     "output_type": "execute_result"
    }
   ],
   "source": [
    "r1 = range(Float64, :C, lower=5*10^3, upper=5*10^10, scale=:log10)\n",
    "r2 = range(Float64, :gamma, lower=10^-7, upper=10^1, scale=:log10)"
   ]
  },
  {
   "cell_type": "code",
   "execution_count": 23,
   "metadata": {},
   "outputs": [
    {
     "data": {
      "text/plain": [
       "DeterministicTunedModel(\n",
       "    model = SVMClassifier(\n",
       "            C = 1.0,\n",
       "            kernel = \"rbf\",\n",
       "            degree = 3,\n",
       "            gamma = \"auto\",\n",
       "            coef0 = 0.0,\n",
       "            shrinking = true,\n",
       "            tol = 0.001,\n",
       "            cache_size = 1000,\n",
       "            max_iter = -1,\n",
       "            decision_function_shape = \"ovr\",\n",
       "            random_state = nothing),\n",
       "    tuning = Grid(\n",
       "            goal = 100,\n",
       "            resolution = 10,\n",
       "            shuffle = true,\n",
       "            rng = Random._GLOBAL_RNG()),\n",
       "    resampling = CV(\n",
       "            nfolds = 6,\n",
       "            shuffle = false,\n",
       "            rng = Random._GLOBAL_RNG()),\n",
       "    measure = accuracy(),\n",
       "    weights = nothing,\n",
       "    operation = MLJModelInterface.predict,\n",
       "    range = MLJBase.NumericRange{Float64,MLJBase.Bounded,Symbol}[\u001b[34mNumericRange{Float64,…} @483\u001b[39m, \u001b[34mNumericRange{Float64,…} @926\u001b[39m],\n",
       "    train_best = true,\n",
       "    repeats = 1,\n",
       "    n = nothing,\n",
       "    acceleration = CPUThreads{Int64}(1),\n",
       "    acceleration_resampling = CPU1{Nothing}(nothing),\n",
       "    check_measure = true)\u001b[34m @036\u001b[39m"
      ]
     },
     "execution_count": 23,
     "metadata": {},
     "output_type": "execute_result"
    }
   ],
   "source": [
    "svm_rbf_model = SVMClassifier(kernel=\"rbf\", cache_size=1000)\n",
    "self_tuning_svm_model = TunedModel(model=svm_rbf_model,\n",
    "                                    tuning=Grid(goal=100),\n",
    "                                    resampling=CV(), \n",
    "                                    measure=accuracy,\n",
    "                                    acceleration=CPUThreads(),\n",
    "                                    range=[r1,r2])"
   ]
  },
  {
   "cell_type": "code",
   "execution_count": 24,
   "metadata": {},
   "outputs": [
    {
     "data": {
      "text/plain": [
       "\u001b[34mMachine{DeterministicTunedModel{Grid,…}} @379\u001b[39m trained 0 times.\n",
       "  args: \n",
       "    1:\t\u001b[34mSource @949\u001b[39m ⏎ `Table{AbstractArray{Continuous,1}}`\n",
       "    2:\t\u001b[34mSource @290\u001b[39m ⏎ `AbstractArray{Multiclass{3},1}`\n"
      ]
     },
     "execution_count": 24,
     "metadata": {},
     "output_type": "execute_result"
    }
   ],
   "source": [
    "self_tuning_svm_mach = machine(self_tuning_svm_model, X, y)"
   ]
  },
  {
   "cell_type": "code",
   "execution_count": 25,
   "metadata": {},
   "outputs": [
    {
     "name": "stderr",
     "output_type": "stream",
     "text": [
      "┌ Info: Training \u001b[34mMachine{DeterministicTunedModel{Grid,…}} @379\u001b[39m.\n",
      "└ @ MLJBase /home/andrew/.julia/packages/MLJBase/uKzAz/src/machines.jl:319\n",
      "┌ Info: Attempting to evaluate 100 models.\n",
      "└ @ MLJTuning /home/andrew/.julia/packages/MLJTuning/Bbgvk/src/tuned_models.jl:494\n",
      "\u001b[33mEvaluating over 100 metamodels: 100%[=========================] Time: 0:00:27\u001b[39m\n"
     ]
    },
    {
     "data": {
      "text/plain": [
       "\u001b[34mMachine{DeterministicTunedModel{Grid,…}} @379\u001b[39m trained 1 time.\n",
       "  args: \n",
       "    1:\t\u001b[34mSource @949\u001b[39m ⏎ `Table{AbstractArray{Continuous,1}}`\n",
       "    2:\t\u001b[34mSource @290\u001b[39m ⏎ `AbstractArray{Multiclass{3},1}`\n"
      ]
     },
     "execution_count": 25,
     "metadata": {},
     "output_type": "execute_result"
    }
   ],
   "source": [
    "z = fit!(self_tuning_svm_mach, rows=train)"
   ]
  },
  {
   "cell_type": "code",
   "execution_count": 26,
   "metadata": {},
   "outputs": [
    {
     "data": {
      "image/svg+xml": [
       "<?xml version=\"1.0\" encoding=\"utf-8\"?>\n",
       "<svg xmlns=\"http://www.w3.org/2000/svg\" xmlns:xlink=\"http://www.w3.org/1999/xlink\" width=\"600\" height=\"400\" viewBox=\"0 0 2400 1600\">\n",
       "<defs>\n",
       "  <clipPath id=\"clip420\">\n",
       "    <rect x=\"0\" y=\"0\" width=\"2400\" height=\"1600\"/>\n",
       "  </clipPath>\n",
       "</defs>\n",
       "<path clip-path=\"url(#clip420)\" d=\"\n",
       "M0 1600 L2400 1600 L2400 0 L0 0  Z\n",
       "  \" fill=\"#ffffff\" fill-rule=\"evenodd\" fill-opacity=\"1\"/>\n",
       "<defs>\n",
       "  <clipPath id=\"clip421\">\n",
       "    <rect x=\"480\" y=\"0\" width=\"1681\" height=\"1600\"/>\n",
       "  </clipPath>\n",
       "</defs>\n",
       "<path clip-path=\"url(#clip420)\" d=\"\n",
       "M244.308 1410.9 L2112.76 1410.9 L2112.76 47.2441 L244.308 47.2441  Z\n",
       "  \" fill=\"#ffffff\" fill-rule=\"evenodd\" fill-opacity=\"1\"/>\n",
       "<defs>\n",
       "  <clipPath id=\"clip422\">\n",
       "    <rect x=\"244\" y=\"47\" width=\"1869\" height=\"1365\"/>\n",
       "  </clipPath>\n",
       "</defs>\n",
       "<polyline clip-path=\"url(#clip422)\" style=\"stroke:#000000; stroke-width:2; stroke-opacity:0.1; fill:none\" points=\"\n",
       "  372.991,1410.9 372.991,47.2441 \n",
       "  \"/>\n",
       "<polyline clip-path=\"url(#clip422)\" style=\"stroke:#000000; stroke-width:2; stroke-opacity:0.1; fill:none\" points=\"\n",
       "  624.804,1410.9 624.804,47.2441 \n",
       "  \"/>\n",
       "<polyline clip-path=\"url(#clip422)\" style=\"stroke:#000000; stroke-width:2; stroke-opacity:0.1; fill:none\" points=\"\n",
       "  876.616,1410.9 876.616,47.2441 \n",
       "  \"/>\n",
       "<polyline clip-path=\"url(#clip422)\" style=\"stroke:#000000; stroke-width:2; stroke-opacity:0.1; fill:none\" points=\"\n",
       "  1128.43,1410.9 1128.43,47.2441 \n",
       "  \"/>\n",
       "<polyline clip-path=\"url(#clip422)\" style=\"stroke:#000000; stroke-width:2; stroke-opacity:0.1; fill:none\" points=\"\n",
       "  1380.24,1410.9 1380.24,47.2441 \n",
       "  \"/>\n",
       "<polyline clip-path=\"url(#clip422)\" style=\"stroke:#000000; stroke-width:2; stroke-opacity:0.1; fill:none\" points=\"\n",
       "  1632.05,1410.9 1632.05,47.2441 \n",
       "  \"/>\n",
       "<polyline clip-path=\"url(#clip422)\" style=\"stroke:#000000; stroke-width:2; stroke-opacity:0.1; fill:none\" points=\"\n",
       "  1883.87,1410.9 1883.87,47.2441 \n",
       "  \"/>\n",
       "<polyline clip-path=\"url(#clip422)\" style=\"stroke:#000000; stroke-width:2; stroke-opacity:0.1; fill:none\" points=\"\n",
       "  244.308,1211.49 2112.76,1211.49 \n",
       "  \"/>\n",
       "<polyline clip-path=\"url(#clip422)\" style=\"stroke:#000000; stroke-width:2; stroke-opacity:0.1; fill:none\" points=\"\n",
       "  244.308,889.878 2112.76,889.878 \n",
       "  \"/>\n",
       "<polyline clip-path=\"url(#clip422)\" style=\"stroke:#000000; stroke-width:2; stroke-opacity:0.1; fill:none\" points=\"\n",
       "  244.308,568.262 2112.76,568.262 \n",
       "  \"/>\n",
       "<polyline clip-path=\"url(#clip422)\" style=\"stroke:#000000; stroke-width:2; stroke-opacity:0.1; fill:none\" points=\"\n",
       "  244.308,246.646 2112.76,246.646 \n",
       "  \"/>\n",
       "<polyline clip-path=\"url(#clip420)\" style=\"stroke:#000000; stroke-width:4; stroke-opacity:1; fill:none\" points=\"\n",
       "  244.308,1410.9 2112.76,1410.9 \n",
       "  \"/>\n",
       "<polyline clip-path=\"url(#clip420)\" style=\"stroke:#000000; stroke-width:4; stroke-opacity:1; fill:none\" points=\"\n",
       "  244.308,1410.9 244.308,47.2441 \n",
       "  \"/>\n",
       "<polyline clip-path=\"url(#clip420)\" style=\"stroke:#000000; stroke-width:4; stroke-opacity:1; fill:none\" points=\"\n",
       "  372.991,1410.9 372.991,1394.53 \n",
       "  \"/>\n",
       "<polyline clip-path=\"url(#clip420)\" style=\"stroke:#000000; stroke-width:4; stroke-opacity:1; fill:none\" points=\"\n",
       "  624.804,1410.9 624.804,1394.53 \n",
       "  \"/>\n",
       "<polyline clip-path=\"url(#clip420)\" style=\"stroke:#000000; stroke-width:4; stroke-opacity:1; fill:none\" points=\"\n",
       "  876.616,1410.9 876.616,1394.53 \n",
       "  \"/>\n",
       "<polyline clip-path=\"url(#clip420)\" style=\"stroke:#000000; stroke-width:4; stroke-opacity:1; fill:none\" points=\"\n",
       "  1128.43,1410.9 1128.43,1394.53 \n",
       "  \"/>\n",
       "<polyline clip-path=\"url(#clip420)\" style=\"stroke:#000000; stroke-width:4; stroke-opacity:1; fill:none\" points=\"\n",
       "  1380.24,1410.9 1380.24,1394.53 \n",
       "  \"/>\n",
       "<polyline clip-path=\"url(#clip420)\" style=\"stroke:#000000; stroke-width:4; stroke-opacity:1; fill:none\" points=\"\n",
       "  1632.05,1410.9 1632.05,1394.53 \n",
       "  \"/>\n",
       "<polyline clip-path=\"url(#clip420)\" style=\"stroke:#000000; stroke-width:4; stroke-opacity:1; fill:none\" points=\"\n",
       "  1883.87,1410.9 1883.87,1394.53 \n",
       "  \"/>\n",
       "<polyline clip-path=\"url(#clip420)\" style=\"stroke:#000000; stroke-width:4; stroke-opacity:1; fill:none\" points=\"\n",
       "  244.308,1211.49 266.729,1211.49 \n",
       "  \"/>\n",
       "<polyline clip-path=\"url(#clip420)\" style=\"stroke:#000000; stroke-width:4; stroke-opacity:1; fill:none\" points=\"\n",
       "  244.308,889.878 266.729,889.878 \n",
       "  \"/>\n",
       "<polyline clip-path=\"url(#clip420)\" style=\"stroke:#000000; stroke-width:4; stroke-opacity:1; fill:none\" points=\"\n",
       "  244.308,568.262 266.729,568.262 \n",
       "  \"/>\n",
       "<polyline clip-path=\"url(#clip420)\" style=\"stroke:#000000; stroke-width:4; stroke-opacity:1; fill:none\" points=\"\n",
       "  244.308,246.646 266.729,246.646 \n",
       "  \"/>\n",
       "<path clip-path=\"url(#clip420)\" d=\"M 0 0 M339.635 1481.97 L347.274 1481.97 L347.274 1455.6 L338.964 1457.27 L338.964 1453.01 L347.228 1451.34 L351.904 1451.34 L351.904 1481.97 L359.542 1481.97 L359.542 1485.9 L339.635 1485.9 L339.635 1481.97 Z\" fill=\"#000000\" fill-rule=\"evenodd\" fill-opacity=\"1\" /><path clip-path=\"url(#clip420)\" d=\"M 0 0 M374.612 1454.42 Q371.001 1454.42 369.172 1457.99 Q367.366 1461.53 367.366 1468.66 Q367.366 1475.77 369.172 1479.33 Q371.001 1482.87 374.612 1482.87 Q378.246 1482.87 380.052 1479.33 Q381.88 1475.77 381.88 1468.66 Q381.88 1461.53 380.052 1457.99 Q378.246 1454.42 374.612 1454.42 M374.612 1450.72 Q380.422 1450.72 383.477 1455.33 Q386.556 1459.91 386.556 1468.66 Q386.556 1477.39 383.477 1481.99 Q380.422 1486.58 374.612 1486.58 Q368.802 1486.58 365.723 1481.99 Q362.667 1477.39 362.667 1468.66 Q362.667 1459.91 365.723 1455.33 Q368.802 1450.72 374.612 1450.72 Z\" fill=\"#000000\" fill-rule=\"evenodd\" fill-opacity=\"1\" /><path clip-path=\"url(#clip420)\" d=\"M 0 0 M399.233 1433.72 L389.641 1448.71 L399.233 1448.71 L399.233 1433.72 M398.236 1430.41 L403.013 1430.41 L403.013 1448.71 L407.019 1448.71 L407.019 1451.87 L403.013 1451.87 L403.013 1458.49 L399.233 1458.49 L399.233 1451.87 L386.556 1451.87 L386.556 1448.21 L398.236 1430.41 Z\" fill=\"#000000\" fill-rule=\"evenodd\" fill-opacity=\"1\" /><path clip-path=\"url(#clip420)\" d=\"M 0 0 M592.595 1481.97 L600.234 1481.97 L600.234 1455.6 L591.923 1457.27 L591.923 1453.01 L600.187 1451.34 L604.863 1451.34 L604.863 1481.97 L612.502 1481.97 L612.502 1485.9 L592.595 1485.9 L592.595 1481.97 Z\" fill=\"#000000\" fill-rule=\"evenodd\" fill-opacity=\"1\" /><path clip-path=\"url(#clip420)\" d=\"M 0 0 M627.571 1454.42 Q623.96 1454.42 622.132 1457.99 Q620.326 1461.53 620.326 1468.66 Q620.326 1475.77 622.132 1479.33 Q623.96 1482.87 627.571 1482.87 Q631.206 1482.87 633.011 1479.33 Q634.84 1475.77 634.84 1468.66 Q634.84 1461.53 633.011 1457.99 Q631.206 1454.42 627.571 1454.42 M627.571 1450.72 Q633.382 1450.72 636.437 1455.33 Q639.516 1459.91 639.516 1468.66 Q639.516 1477.39 636.437 1481.99 Q633.382 1486.58 627.571 1486.58 Q621.761 1486.58 618.683 1481.99 Q615.627 1477.39 615.627 1468.66 Q615.627 1459.91 618.683 1455.33 Q621.761 1450.72 627.571 1450.72 Z\" fill=\"#000000\" fill-rule=\"evenodd\" fill-opacity=\"1\" /><path clip-path=\"url(#clip420)\" d=\"M 0 0 M640.701 1430.41 L655.615 1430.41 L655.615 1433.61 L644.18 1433.61 L644.18 1440.49 Q645.008 1440.21 645.835 1440.08 Q646.663 1439.93 647.49 1439.93 Q652.192 1439.93 654.938 1442.51 Q657.684 1445.08 657.684 1449.48 Q657.684 1454.02 654.863 1456.54 Q652.042 1459.04 646.907 1459.04 Q645.139 1459.04 643.296 1458.74 Q641.472 1458.44 639.516 1457.84 L639.516 1454.02 Q641.209 1454.94 643.014 1455.39 Q644.82 1455.84 646.832 1455.84 Q650.086 1455.84 651.985 1454.13 Q653.885 1452.42 653.885 1449.48 Q653.885 1446.55 651.985 1444.84 Q650.086 1443.13 646.832 1443.13 Q645.309 1443.13 643.785 1443.47 Q642.281 1443.8 640.701 1444.52 L640.701 1430.41 Z\" fill=\"#000000\" fill-rule=\"evenodd\" fill-opacity=\"1\" /><path clip-path=\"url(#clip420)\" d=\"M 0 0 M843.796 1481.97 L851.435 1481.97 L851.435 1455.6 L843.125 1457.27 L843.125 1453.01 L851.389 1451.34 L856.064 1451.34 L856.064 1481.97 L863.703 1481.97 L863.703 1485.9 L843.796 1485.9 L843.796 1481.97 Z\" fill=\"#000000\" fill-rule=\"evenodd\" fill-opacity=\"1\" /><path clip-path=\"url(#clip420)\" d=\"M 0 0 M878.773 1454.42 Q875.162 1454.42 873.333 1457.99 Q871.527 1461.53 871.527 1468.66 Q871.527 1475.77 873.333 1479.33 Q875.162 1482.87 878.773 1482.87 Q882.407 1482.87 884.212 1479.33 Q886.041 1475.77 886.041 1468.66 Q886.041 1461.53 884.212 1457.99 Q882.407 1454.42 878.773 1454.42 M878.773 1450.72 Q884.583 1450.72 887.638 1455.33 Q890.717 1459.91 890.717 1468.66 Q890.717 1477.39 887.638 1481.99 Q884.583 1486.58 878.773 1486.58 Q872.962 1486.58 869.884 1481.99 Q866.828 1477.39 866.828 1468.66 Q866.828 1459.91 869.884 1455.33 Q872.962 1450.72 878.773 1450.72 Z\" fill=\"#000000\" fill-rule=\"evenodd\" fill-opacity=\"1\" /><path clip-path=\"url(#clip420)\" d=\"M 0 0 M900.742 1442.94 Q898.184 1442.94 896.679 1444.69 Q895.193 1446.44 895.193 1449.48 Q895.193 1452.51 896.679 1454.28 Q898.184 1456.03 900.742 1456.03 Q903.299 1456.03 904.785 1454.28 Q906.29 1452.51 906.29 1449.48 Q906.29 1446.44 904.785 1444.69 Q903.299 1442.94 900.742 1442.94 M908.283 1431.03 L908.283 1434.49 Q906.854 1433.82 905.387 1433.46 Q903.939 1433.1 902.509 1433.1 Q898.748 1433.1 896.754 1435.64 Q894.779 1438.18 894.497 1443.32 Q895.607 1441.68 897.281 1440.81 Q898.955 1439.93 900.967 1439.93 Q905.199 1439.93 907.644 1442.51 Q910.108 1445.06 910.108 1449.48 Q910.108 1453.81 907.55 1456.42 Q904.992 1459.04 900.742 1459.04 Q895.87 1459.04 893.294 1455.31 Q890.717 1451.57 890.717 1444.48 Q890.717 1437.82 893.877 1433.87 Q897.036 1429.91 902.359 1429.91 Q903.788 1429.91 905.237 1430.19 Q906.704 1430.47 908.283 1431.03 Z\" fill=\"#000000\" fill-rule=\"evenodd\" fill-opacity=\"1\" /><path clip-path=\"url(#clip420)\" d=\"M 0 0 M1096.28 1481.97 L1103.91 1481.97 L1103.91 1455.6 L1095.6 1457.27 L1095.6 1453.01 L1103.87 1451.34 L1108.54 1451.34 L1108.54 1481.97 L1116.18 1481.97 L1116.18 1485.9 L1096.28 1485.9 L1096.28 1481.97 Z\" fill=\"#000000\" fill-rule=\"evenodd\" fill-opacity=\"1\" /><path clip-path=\"url(#clip420)\" d=\"M 0 0 M1131.25 1454.42 Q1127.64 1454.42 1125.81 1457.99 Q1124.01 1461.53 1124.01 1468.66 Q1124.01 1475.77 1125.81 1479.33 Q1127.64 1482.87 1131.25 1482.87 Q1134.89 1482.87 1136.69 1479.33 Q1138.52 1475.77 1138.52 1468.66 Q1138.52 1461.53 1136.69 1457.99 Q1134.89 1454.42 1131.25 1454.42 M1131.25 1450.72 Q1137.06 1450.72 1140.12 1455.33 Q1143.2 1459.91 1143.2 1468.66 Q1143.2 1477.39 1140.12 1481.99 Q1137.06 1486.58 1131.25 1486.58 Q1125.44 1486.58 1122.36 1481.99 Q1119.31 1477.39 1119.31 1468.66 Q1119.31 1459.91 1122.36 1455.33 Q1125.44 1450.72 1131.25 1450.72 Z\" fill=\"#000000\" fill-rule=\"evenodd\" fill-opacity=\"1\" /><path clip-path=\"url(#clip420)\" d=\"M 0 0 M1143.2 1430.41 L1161.25 1430.41 L1161.25 1432.03 L1151.06 1458.49 L1147.09 1458.49 L1156.68 1433.61 L1143.2 1433.61 L1143.2 1430.41 Z\" fill=\"#000000\" fill-rule=\"evenodd\" fill-opacity=\"1\" /><path clip-path=\"url(#clip420)\" d=\"M 0 0 M1347.49 1481.97 L1355.13 1481.97 L1355.13 1455.6 L1346.82 1457.27 L1346.82 1453.01 L1355.08 1451.34 L1359.76 1451.34 L1359.76 1481.97 L1367.39 1481.97 L1367.39 1485.9 L1347.49 1485.9 L1347.49 1481.97 Z\" fill=\"#000000\" fill-rule=\"evenodd\" fill-opacity=\"1\" /><path clip-path=\"url(#clip420)\" d=\"M 0 0 M1382.46 1454.42 Q1378.85 1454.42 1377.02 1457.99 Q1375.22 1461.53 1375.22 1468.66 Q1375.22 1475.77 1377.02 1479.33 Q1378.85 1482.87 1382.46 1482.87 Q1386.1 1482.87 1387.9 1479.33 Q1389.73 1475.77 1389.73 1468.66 Q1389.73 1461.53 1387.9 1457.99 Q1386.1 1454.42 1382.46 1454.42 M1382.46 1450.72 Q1388.27 1450.72 1391.33 1455.33 Q1394.41 1459.91 1394.41 1468.66 Q1394.41 1477.39 1391.33 1481.99 Q1388.27 1486.58 1382.46 1486.58 Q1376.65 1486.58 1373.57 1481.99 Q1370.52 1477.39 1370.52 1468.66 Q1370.52 1459.91 1373.57 1455.33 Q1376.65 1450.72 1382.46 1450.72 Z\" fill=\"#000000\" fill-rule=\"evenodd\" fill-opacity=\"1\" /><path clip-path=\"url(#clip420)\" d=\"M 0 0 M1404.04 1445.16 Q1401.33 1445.16 1399.77 1446.61 Q1398.23 1448.06 1398.23 1450.59 Q1398.23 1453.13 1399.77 1454.58 Q1401.33 1456.03 1404.04 1456.03 Q1406.75 1456.03 1408.31 1454.58 Q1409.87 1453.11 1409.87 1450.59 Q1409.87 1448.06 1408.31 1446.61 Q1406.76 1445.16 1404.04 1445.16 M1400.24 1443.54 Q1397.79 1442.94 1396.42 1441.27 Q1395.07 1439.59 1395.07 1437.18 Q1395.07 1433.82 1397.45 1431.86 Q1399.86 1429.91 1404.04 1429.91 Q1408.23 1429.91 1410.62 1431.86 Q1413.01 1433.82 1413.01 1437.18 Q1413.01 1439.59 1411.64 1441.27 Q1410.28 1442.94 1407.86 1443.54 Q1410.6 1444.18 1412.12 1446.04 Q1413.67 1447.9 1413.67 1450.59 Q1413.67 1454.68 1411.17 1456.86 Q1408.68 1459.04 1404.04 1459.04 Q1399.39 1459.04 1396.89 1456.86 Q1394.41 1454.68 1394.41 1450.59 Q1394.41 1447.9 1395.95 1446.04 Q1397.49 1444.18 1400.24 1443.54 M1398.85 1437.54 Q1398.85 1439.72 1400.2 1440.95 Q1401.57 1442.17 1404.04 1442.17 Q1406.48 1442.17 1407.86 1440.95 Q1409.25 1439.72 1409.25 1437.54 Q1409.25 1435.36 1407.86 1434.14 Q1406.48 1432.91 1404.04 1432.91 Q1401.57 1432.91 1400.2 1434.14 Q1398.85 1435.36 1398.85 1437.54 Z\" fill=\"#000000\" fill-rule=\"evenodd\" fill-opacity=\"1\" /><path clip-path=\"url(#clip420)\" d=\"M 0 0 M1599.24 1481.97 L1606.88 1481.97 L1606.88 1455.6 L1598.57 1457.27 L1598.57 1453.01 L1606.84 1451.34 L1611.51 1451.34 L1611.51 1481.97 L1619.15 1481.97 L1619.15 1485.9 L1599.24 1485.9 L1599.24 1481.97 Z\" fill=\"#000000\" fill-rule=\"evenodd\" fill-opacity=\"1\" /><path clip-path=\"url(#clip420)\" d=\"M 0 0 M1634.22 1454.42 Q1630.61 1454.42 1628.78 1457.99 Q1626.97 1461.53 1626.97 1468.66 Q1626.97 1475.77 1628.78 1479.33 Q1630.61 1482.87 1634.22 1482.87 Q1637.85 1482.87 1639.66 1479.33 Q1641.49 1475.77 1641.49 1468.66 Q1641.49 1461.53 1639.66 1457.99 Q1637.85 1454.42 1634.22 1454.42 M1634.22 1450.72 Q1640.03 1450.72 1643.09 1455.33 Q1646.16 1459.91 1646.16 1468.66 Q1646.16 1477.39 1643.09 1481.99 Q1640.03 1486.58 1634.22 1486.58 Q1628.41 1486.58 1625.33 1481.99 Q1622.27 1477.39 1622.27 1468.66 Q1622.27 1459.91 1625.33 1455.33 Q1628.41 1450.72 1634.22 1450.72 Z\" fill=\"#000000\" fill-rule=\"evenodd\" fill-opacity=\"1\" /><path clip-path=\"url(#clip420)\" d=\"M 0 0 M1647.97 1457.91 L1647.97 1454.45 Q1649.4 1455.13 1650.87 1455.48 Q1652.33 1455.84 1653.74 1455.84 Q1657.5 1455.84 1659.48 1453.32 Q1661.47 1450.78 1661.76 1445.63 Q1660.66 1447.25 1658.99 1448.11 Q1657.32 1448.98 1655.29 1448.98 Q1651.07 1448.98 1648.61 1446.44 Q1646.16 1443.88 1646.16 1439.46 Q1646.16 1435.13 1648.72 1432.52 Q1651.28 1429.91 1655.53 1429.91 Q1660.4 1429.91 1662.96 1433.65 Q1665.54 1437.37 1665.54 1444.48 Q1665.54 1451.12 1662.38 1455.09 Q1659.24 1459.04 1653.91 1459.04 Q1652.48 1459.04 1651.02 1458.76 Q1649.55 1458.47 1647.97 1457.91 M1655.53 1446.01 Q1658.09 1446.01 1659.57 1444.26 Q1661.08 1442.51 1661.08 1439.46 Q1661.08 1436.43 1659.57 1434.68 Q1658.09 1432.91 1655.53 1432.91 Q1652.97 1432.91 1651.47 1434.68 Q1649.98 1436.43 1649.98 1439.46 Q1649.98 1442.51 1651.47 1444.26 Q1652.97 1446.01 1655.53 1446.01 Z\" fill=\"#000000\" fill-rule=\"evenodd\" fill-opacity=\"1\" /><path clip-path=\"url(#clip420)\" d=\"M 0 0 M1841.41 1481.97 L1849.05 1481.97 L1849.05 1455.6 L1840.74 1457.27 L1840.74 1453.01 L1849 1451.34 L1853.68 1451.34 L1853.68 1481.97 L1861.31 1481.97 L1861.31 1485.9 L1841.41 1485.9 L1841.41 1481.97 Z\" fill=\"#000000\" fill-rule=\"evenodd\" fill-opacity=\"1\" /><path clip-path=\"url(#clip420)\" d=\"M 0 0 M1876.38 1454.42 Q1872.77 1454.42 1870.94 1457.99 Q1869.14 1461.53 1869.14 1468.66 Q1869.14 1475.77 1870.94 1479.33 Q1872.77 1482.87 1876.38 1482.87 Q1880.02 1482.87 1881.82 1479.33 Q1883.65 1475.77 1883.65 1468.66 Q1883.65 1461.53 1881.82 1457.99 Q1880.02 1454.42 1876.38 1454.42 M1876.38 1450.72 Q1882.19 1450.72 1885.25 1455.33 Q1888.33 1459.91 1888.33 1468.66 Q1888.33 1477.39 1885.25 1481.99 Q1882.19 1486.58 1876.38 1486.58 Q1870.57 1486.58 1867.49 1481.99 Q1864.44 1477.39 1864.44 1468.66 Q1864.44 1459.91 1867.49 1455.33 Q1870.57 1450.72 1876.38 1450.72 Z\" fill=\"#000000\" fill-rule=\"evenodd\" fill-opacity=\"1\" /><path clip-path=\"url(#clip420)\" d=\"M 0 0 M1888.87 1455.3 L1895.08 1455.3 L1895.08 1433.87 L1888.33 1435.23 L1888.33 1431.77 L1895.04 1430.41 L1898.84 1430.41 L1898.84 1455.3 L1905.05 1455.3 L1905.05 1458.49 L1888.87 1458.49 L1888.87 1455.3 Z\" fill=\"#000000\" fill-rule=\"evenodd\" fill-opacity=\"1\" /><path clip-path=\"url(#clip420)\" d=\"M 0 0 M1917.29 1432.91 Q1914.36 1432.91 1912.87 1435.81 Q1911.4 1438.69 1911.4 1444.48 Q1911.4 1450.26 1912.87 1453.15 Q1914.36 1456.03 1917.29 1456.03 Q1920.24 1456.03 1921.71 1453.15 Q1923.2 1450.26 1923.2 1444.48 Q1923.2 1438.69 1921.71 1435.81 Q1920.24 1432.91 1917.29 1432.91 M1917.29 1429.91 Q1922.01 1429.91 1924.5 1433.65 Q1927 1437.37 1927 1444.48 Q1927 1451.57 1924.5 1455.31 Q1922.01 1459.04 1917.29 1459.04 Q1912.57 1459.04 1910.07 1455.31 Q1907.59 1451.57 1907.59 1444.48 Q1907.59 1437.37 1910.07 1433.65 Q1912.57 1429.91 1917.29 1429.91 Z\" fill=\"#000000\" fill-rule=\"evenodd\" fill-opacity=\"1\" /><path clip-path=\"url(#clip420)\" d=\"M 0 0 M127.195 1231.29 L134.834 1231.29 L134.834 1204.92 L126.523 1206.59 L126.523 1202.33 L134.787 1200.66 L139.463 1200.66 L139.463 1231.29 L147.102 1231.29 L147.102 1235.22 L127.195 1235.22 L127.195 1231.29 Z\" fill=\"#000000\" fill-rule=\"evenodd\" fill-opacity=\"1\" /><path clip-path=\"url(#clip420)\" d=\"M 0 0 M162.171 1203.74 Q158.56 1203.74 156.732 1207.31 Q154.926 1210.85 154.926 1217.98 Q154.926 1225.08 156.732 1228.65 Q158.56 1232.19 162.171 1232.19 Q165.806 1232.19 167.611 1228.65 Q169.44 1225.08 169.44 1217.98 Q169.44 1210.85 167.611 1207.31 Q165.806 1203.74 162.171 1203.74 M162.171 1200.04 Q167.982 1200.04 171.037 1204.64 Q174.116 1209.23 174.116 1217.98 Q174.116 1226.7 171.037 1231.31 Q167.982 1235.89 162.171 1235.89 Q156.361 1235.89 153.283 1231.31 Q150.227 1226.7 150.227 1217.98 Q150.227 1209.23 153.283 1204.64 Q156.361 1200.04 162.171 1200.04 Z\" fill=\"#000000\" fill-rule=\"evenodd\" fill-opacity=\"1\" /><path clip-path=\"url(#clip420)\" d=\"M 0 0 M174.116 1194.14 L198.227 1194.14 L198.227 1197.34 L174.116 1197.34 L174.116 1194.14 Z\" fill=\"#000000\" fill-rule=\"evenodd\" fill-opacity=\"1\" /><path clip-path=\"url(#clip420)\" d=\"M 0 0 M210.941 1192.26 Q208.384 1192.26 206.879 1194.01 Q205.393 1195.76 205.393 1198.8 Q205.393 1201.83 206.879 1203.6 Q208.384 1205.35 210.941 1205.35 Q213.499 1205.35 214.985 1203.6 Q216.49 1201.83 216.49 1198.8 Q216.49 1195.76 214.985 1194.01 Q213.499 1192.26 210.941 1192.26 M218.483 1180.35 L218.483 1183.81 Q217.054 1183.14 215.587 1182.78 Q214.139 1182.42 212.709 1182.42 Q208.948 1182.42 206.954 1184.96 Q204.979 1187.5 204.697 1192.63 Q205.807 1191 207.481 1190.13 Q209.155 1189.25 211.167 1189.25 Q215.399 1189.25 217.844 1191.83 Q220.308 1194.38 220.308 1198.8 Q220.308 1203.13 217.75 1205.74 Q215.192 1208.36 210.941 1208.36 Q206.07 1208.36 203.494 1204.63 Q200.917 1200.89 200.917 1193.8 Q200.917 1187.14 204.077 1183.19 Q207.236 1179.22 212.559 1179.22 Q213.988 1179.22 215.436 1179.51 Q216.903 1179.79 218.483 1180.35 Z\" fill=\"#000000\" fill-rule=\"evenodd\" fill-opacity=\"1\" /><path clip-path=\"url(#clip420)\" d=\"M 0 0 M126.931 909.671 L134.57 909.671 L134.57 883.305 L126.26 884.972 L126.26 880.713 L134.524 879.046 L139.2 879.046 L139.2 909.671 L146.839 909.671 L146.839 913.606 L126.931 913.606 L126.931 909.671 Z\" fill=\"#000000\" fill-rule=\"evenodd\" fill-opacity=\"1\" /><path clip-path=\"url(#clip420)\" d=\"M 0 0 M161.908 882.125 Q158.297 882.125 156.468 885.69 Q154.663 889.231 154.663 896.361 Q154.663 903.467 156.468 907.032 Q158.297 910.574 161.908 910.574 Q165.542 910.574 167.348 907.032 Q169.177 903.467 169.177 896.361 Q169.177 889.231 167.348 885.69 Q165.542 882.125 161.908 882.125 M161.908 878.421 Q167.718 878.421 170.774 883.028 Q173.852 887.611 173.852 896.361 Q173.852 905.088 170.774 909.694 Q167.718 914.277 161.908 914.277 Q156.098 914.277 153.019 909.694 Q149.964 905.088 149.964 896.361 Q149.964 887.611 153.019 883.028 Q156.098 878.421 161.908 878.421 Z\" fill=\"#000000\" fill-rule=\"evenodd\" fill-opacity=\"1\" /><path clip-path=\"url(#clip420)\" d=\"M 0 0 M173.852 872.522 L197.964 872.522 L197.964 875.72 L173.852 875.72 L173.852 872.522 Z\" fill=\"#000000\" fill-rule=\"evenodd\" fill-opacity=\"1\" /><path clip-path=\"url(#clip420)\" d=\"M 0 0 M212.521 861.426 L202.929 876.416 L212.521 876.416 L212.521 861.426 M211.524 858.116 L216.302 858.116 L216.302 876.416 L220.308 876.416 L220.308 879.575 L216.302 879.575 L216.302 886.196 L212.521 886.196 L212.521 879.575 L199.845 879.575 L199.845 875.908 L211.524 858.116 Z\" fill=\"#000000\" fill-rule=\"evenodd\" fill-opacity=\"1\" /><path clip-path=\"url(#clip420)\" d=\"M 0 0 M128.624 588.055 L136.263 588.055 L136.263 561.689 L127.953 563.356 L127.953 559.097 L136.217 557.43 L140.893 557.43 L140.893 588.055 L148.531 588.055 L148.531 591.99 L128.624 591.99 L128.624 588.055 Z\" fill=\"#000000\" fill-rule=\"evenodd\" fill-opacity=\"1\" /><path clip-path=\"url(#clip420)\" d=\"M 0 0 M163.601 560.509 Q159.99 560.509 158.161 564.073 Q156.355 567.615 156.355 574.745 Q156.355 581.851 158.161 585.416 Q159.99 588.957 163.601 588.957 Q167.235 588.957 169.041 585.416 Q170.869 581.851 170.869 574.745 Q170.869 567.615 169.041 564.073 Q167.235 560.509 163.601 560.509 M163.601 556.805 Q169.411 556.805 172.467 561.411 Q175.545 565.995 175.545 574.745 Q175.545 583.471 172.467 588.078 Q169.411 592.661 163.601 592.661 Q157.791 592.661 154.712 588.078 Q151.656 583.471 151.656 574.745 Q151.656 565.995 154.712 561.411 Q157.791 556.805 163.601 556.805 Z\" fill=\"#000000\" fill-rule=\"evenodd\" fill-opacity=\"1\" /><path clip-path=\"url(#clip420)\" d=\"M 0 0 M175.545 550.906 L199.657 550.906 L199.657 554.104 L175.545 554.104 L175.545 550.906 Z\" fill=\"#000000\" fill-rule=\"evenodd\" fill-opacity=\"1\" /><path clip-path=\"url(#clip420)\" d=\"M 0 0 M207.048 561.382 L220.308 561.382 L220.308 564.579 L202.478 564.579 L202.478 561.382 Q204.641 559.144 208.365 555.382 Q212.107 551.602 213.067 550.511 Q214.891 548.461 215.606 547.051 Q216.339 545.621 216.339 544.248 Q216.339 542.01 214.759 540.6 Q213.198 539.189 210.678 539.189 Q208.891 539.189 206.898 539.81 Q204.923 540.43 202.666 541.69 L202.666 537.854 Q204.961 536.932 206.954 536.462 Q208.948 535.992 210.603 535.992 Q214.966 535.992 217.562 538.173 Q220.157 540.355 220.157 544.004 Q220.157 545.734 219.499 547.295 Q218.859 548.837 217.148 550.944 Q216.678 551.489 214.158 554.104 Q211.637 556.699 207.048 561.382 Z\" fill=\"#000000\" fill-rule=\"evenodd\" fill-opacity=\"1\" /><path clip-path=\"url(#clip420)\" d=\"M 0 0 M153.977 266.439 L161.616 266.439 L161.616 240.073 L153.306 241.74 L153.306 237.48 L161.57 235.814 L166.245 235.814 L166.245 266.439 L173.884 266.439 L173.884 270.374 L153.977 270.374 L153.977 266.439 Z\" fill=\"#000000\" fill-rule=\"evenodd\" fill-opacity=\"1\" /><path clip-path=\"url(#clip420)\" d=\"M 0 0 M188.954 238.892 Q185.343 238.892 183.514 242.457 Q181.708 245.999 181.708 253.128 Q181.708 260.235 183.514 263.8 Q185.343 267.341 188.954 267.341 Q192.588 267.341 194.393 263.8 Q196.222 260.235 196.222 253.128 Q196.222 245.999 194.393 242.457 Q192.588 238.892 188.954 238.892 M188.954 235.189 Q194.764 235.189 197.819 239.795 Q200.898 244.378 200.898 253.128 Q200.898 261.855 197.819 266.462 Q194.764 271.045 188.954 271.045 Q183.144 271.045 180.065 266.462 Q177.009 261.855 177.009 253.128 Q177.009 244.378 180.065 239.795 Q183.144 235.189 188.954 235.189 Z\" fill=\"#000000\" fill-rule=\"evenodd\" fill-opacity=\"1\" /><path clip-path=\"url(#clip420)\" d=\"M 0 0 M210.603 217.385 Q207.669 217.385 206.183 220.281 Q204.716 223.159 204.716 228.952 Q204.716 234.726 206.183 237.622 Q207.669 240.5 210.603 240.5 Q213.556 240.5 215.023 237.622 Q216.509 234.726 216.509 228.952 Q216.509 223.159 215.023 220.281 Q213.556 217.385 210.603 217.385 M210.603 214.376 Q215.324 214.376 217.806 218.118 Q220.308 221.842 220.308 228.952 Q220.308 236.042 217.806 239.785 Q215.324 243.509 210.603 243.509 Q205.882 243.509 203.381 239.785 Q200.898 236.042 200.898 228.952 Q200.898 221.842 203.381 218.118 Q205.882 214.376 210.603 214.376 Z\" fill=\"#000000\" fill-rule=\"evenodd\" fill-opacity=\"1\" /><path clip-path=\"url(#clip420)\" d=\"M 0 0 M1197.69 1518.33 L1197.69 1525.11 Q1194.45 1522.08 1190.75 1520.59 Q1187.09 1519.09 1182.96 1519.09 Q1174.81 1519.09 1170.48 1524.09 Q1166.15 1529.05 1166.15 1538.47 Q1166.15 1547.86 1170.48 1552.86 Q1174.81 1557.82 1182.96 1557.82 Q1187.09 1557.82 1190.75 1556.33 Q1194.45 1554.83 1197.69 1551.81 L1197.69 1558.53 Q1194.32 1560.82 1190.53 1561.96 Q1186.78 1563.11 1182.57 1563.11 Q1171.78 1563.11 1165.58 1556.52 Q1159.37 1549.9 1159.37 1538.47 Q1159.37 1527.01 1165.58 1520.43 Q1171.78 1513.81 1182.57 1513.81 Q1186.84 1513.81 1190.59 1514.95 Q1194.38 1516.07 1197.69 1518.33 Z\" fill=\"#000000\" fill-rule=\"evenodd\" fill-opacity=\"1\" /><path clip-path=\"url(#clip420)\" d=\"M 0 0 M69.7664 810.981 Q63.4007 810.981 59.8996 813.623 Q56.3984 816.233 56.3984 820.975 Q56.3984 825.686 59.8996 828.328 Q63.4007 830.938 69.7664 830.938 Q76.1003 830.938 79.6014 828.328 Q83.1026 825.686 83.1026 820.975 Q83.1026 816.233 79.6014 813.623 Q76.1003 810.981 69.7664 810.981 M83.58 805.125 Q92.683 805.125 97.1071 809.167 Q101.563 813.209 101.563 821.548 Q101.563 824.636 101.086 827.373 Q100.64 830.11 99.6852 832.688 L93.9879 832.688 Q95.3884 830.11 96.0568 827.596 Q96.7252 825.081 96.7252 822.471 Q96.7252 816.71 93.7015 813.846 Q90.7096 810.981 84.6303 810.981 L81.7339 810.981 Q84.885 812.795 86.4446 815.628 Q88.0042 818.461 88.0042 822.408 Q88.0042 828.964 83.0071 832.975 Q78.01 836.985 69.7664 836.985 Q61.491 836.985 56.4939 832.975 Q51.4968 828.964 51.4968 822.408 Q51.4968 818.461 53.0564 815.628 Q54.616 812.795 57.7671 810.981 L52.3562 810.981 L52.3562 805.125 L83.58 805.125 Z\" fill=\"#000000\" fill-rule=\"evenodd\" fill-opacity=\"1\" /><path clip-path=\"url(#clip420)\" d=\"M 0 0 M70.0847 782.781 Q70.0847 789.879 71.7079 792.616 Q73.3312 795.353 77.2461 795.353 Q80.3653 795.353 82.2114 793.316 Q84.0256 791.247 84.0256 787.714 Q84.0256 782.845 80.5881 779.916 Q77.1188 776.956 71.3897 776.956 L70.0847 776.956 L70.0847 782.781 M67.6657 771.1 L88.0042 771.1 L88.0042 776.956 L82.5933 776.956 Q85.8398 778.962 87.3994 781.953 Q88.9272 784.945 88.9272 789.274 Q88.9272 794.749 85.8716 797.995 Q82.7843 801.21 77.6281 801.21 Q71.6125 801.21 68.5569 797.199 Q65.5014 793.157 65.5014 785.168 L65.5014 776.956 L64.9285 776.956 Q60.8862 776.956 58.6901 779.63 Q56.4621 782.272 56.4621 787.078 Q56.4621 790.133 57.1941 793.03 Q57.9262 795.926 59.3903 798.6 L53.9795 798.6 Q52.7381 795.385 52.1334 792.361 Q51.4968 789.338 51.4968 786.473 Q51.4968 778.739 55.5072 774.919 Q59.5176 771.1 67.6657 771.1 Z\" fill=\"#000000\" fill-rule=\"evenodd\" fill-opacity=\"1\" /><path clip-path=\"url(#clip420)\" d=\"M 0 0 M59.1993 737.203 Q55.2526 735.006 53.3747 731.951 Q51.4968 728.895 51.4968 724.758 Q51.4968 719.188 55.4117 716.164 Q59.2948 713.14 66.4881 713.14 L88.0042 713.14 L88.0042 719.028 L66.679 719.028 Q61.5546 719.028 59.072 720.843 Q56.5894 722.657 56.5894 726.381 Q56.5894 730.932 59.6131 733.574 Q62.6368 736.216 67.8567 736.216 L88.0042 736.216 L88.0042 742.104 L66.679 742.104 Q61.5228 742.104 59.072 743.918 Q56.5894 745.733 56.5894 749.52 Q56.5894 754.008 59.6449 756.65 Q62.6686 759.292 67.8567 759.292 L88.0042 759.292 L88.0042 765.18 L52.3562 765.18 L52.3562 759.292 L57.8944 759.292 Q54.616 757.286 53.0564 754.485 Q51.4968 751.685 51.4968 747.833 Q51.4968 743.95 53.4702 741.245 Q55.4436 738.508 59.1993 737.203 Z\" fill=\"#000000\" fill-rule=\"evenodd\" fill-opacity=\"1\" /><path clip-path=\"url(#clip420)\" d=\"M 0 0 M59.1993 679.243 Q55.2526 677.047 53.3747 673.991 Q51.4968 670.936 51.4968 666.798 Q51.4968 661.228 55.4117 658.204 Q59.2948 655.18 66.4881 655.18 L88.0042 655.18 L88.0042 661.069 L66.679 661.069 Q61.5546 661.069 59.072 662.883 Q56.5894 664.697 56.5894 668.421 Q56.5894 672.973 59.6131 675.614 Q62.6368 678.256 67.8567 678.256 L88.0042 678.256 L88.0042 684.144 L66.679 684.144 Q61.5228 684.144 59.072 685.959 Q56.5894 687.773 56.5894 691.56 Q56.5894 696.048 59.6449 698.69 Q62.6686 701.332 67.8567 701.332 L88.0042 701.332 L88.0042 707.22 L52.3562 707.22 L52.3562 701.332 L57.8944 701.332 Q54.616 699.327 53.0564 696.526 Q51.4968 693.725 51.4968 689.874 Q51.4968 685.99 53.4702 683.285 Q55.4436 680.548 59.1993 679.243 Z\" fill=\"#000000\" fill-rule=\"evenodd\" fill-opacity=\"1\" /><path clip-path=\"url(#clip420)\" d=\"M 0 0 M70.0847 632.837 Q70.0847 639.935 71.7079 642.672 Q73.3312 645.409 77.2461 645.409 Q80.3653 645.409 82.2114 643.372 Q84.0256 641.303 84.0256 637.77 Q84.0256 632.9 80.5881 629.972 Q77.1188 627.012 71.3897 627.012 L70.0847 627.012 L70.0847 632.837 M67.6657 621.156 L88.0042 621.156 L88.0042 627.012 L82.5933 627.012 Q85.8398 629.017 87.3994 632.009 Q88.9272 635.001 88.9272 639.33 Q88.9272 644.804 85.8716 648.051 Q82.7843 651.266 77.6281 651.266 Q71.6125 651.266 68.5569 647.255 Q65.5014 643.213 65.5014 635.224 L65.5014 627.012 L64.9285 627.012 Q60.8862 627.012 58.6901 629.686 Q56.4621 632.328 56.4621 637.134 Q56.4621 640.189 57.1941 643.086 Q57.9262 645.982 59.3903 648.656 L53.9795 648.656 Q52.7381 645.441 52.1334 642.417 Q51.4968 639.393 51.4968 636.529 Q51.4968 628.795 55.5072 624.975 Q59.5176 621.156 67.6657 621.156 Z\" fill=\"#000000\" fill-rule=\"evenodd\" fill-opacity=\"1\" /><circle clip-path=\"url(#clip422)\" cx=\"1276.46\" cy=\"85.838\" r=\"3\" fill=\"#000003\" fill-rule=\"evenodd\" fill-opacity=\"1\" stroke=\"#000000\" stroke-opacity=\"1\" stroke-width=\"3.2\"/>\n",
       "<circle clip-path=\"url(#clip422)\" cx=\"493.042\" cy=\"800.541\" r=\"56\" fill=\"#f4dd50\" fill-rule=\"evenodd\" fill-opacity=\"1\" stroke=\"#000000\" stroke-opacity=\"1\" stroke-width=\"3.2\"/>\n",
       "<circle clip-path=\"url(#clip422)\" cx=\"297.188\" cy=\"371.719\" r=\"55\" fill=\"#f7d23e\" fill-rule=\"evenodd\" fill-opacity=\"1\" stroke=\"#000000\" stroke-opacity=\"1\" stroke-width=\"3.2\"/>\n",
       "<circle clip-path=\"url(#clip422)\" cx=\"1472.31\" cy=\"800.541\" r=\"60\" fill=\"#fafda0\" fill-rule=\"evenodd\" fill-opacity=\"1\" stroke=\"#000000\" stroke-opacity=\"1\" stroke-width=\"3.2\"/>\n",
       "<circle clip-path=\"url(#clip422)\" cx=\"1472.31\" cy=\"228.779\" r=\"45\" fill=\"#f2741b\" fill-rule=\"evenodd\" fill-opacity=\"1\" stroke=\"#000000\" stroke-opacity=\"1\" stroke-width=\"3.2\"/>\n",
       "<circle clip-path=\"url(#clip422)\" cx=\"1864.02\" cy=\"657.6\" r=\"61\" fill=\"#fcfea4\" fill-rule=\"evenodd\" fill-opacity=\"1\" stroke=\"#000000\" stroke-opacity=\"1\" stroke-width=\"3.2\"/>\n",
       "<circle clip-path=\"url(#clip422)\" cx=\"493.042\" cy=\"514.66\" r=\"59\" fill=\"#f2f485\" fill-rule=\"evenodd\" fill-opacity=\"1\" stroke=\"#000000\" stroke-opacity=\"1\" stroke-width=\"3.2\"/>\n",
       "<circle clip-path=\"url(#clip422)\" cx=\"1472.31\" cy=\"514.66\" r=\"59\" fill=\"#f2f485\" fill-rule=\"evenodd\" fill-opacity=\"1\" stroke=\"#000000\" stroke-opacity=\"1\" stroke-width=\"3.2\"/>\n",
       "<circle clip-path=\"url(#clip422)\" cx=\"493.042\" cy=\"657.6\" r=\"61\" fill=\"#fcfea4\" fill-rule=\"evenodd\" fill-opacity=\"1\" stroke=\"#000000\" stroke-opacity=\"1\" stroke-width=\"3.2\"/>\n",
       "<circle clip-path=\"url(#clip422)\" cx=\"884.751\" cy=\"228.779\" r=\"45\" fill=\"#f2741b\" fill-rule=\"evenodd\" fill-opacity=\"1\" stroke=\"#000000\" stroke-opacity=\"1\" stroke-width=\"3.2\"/>\n",
       "<circle clip-path=\"url(#clip422)\" cx=\"1668.17\" cy=\"657.6\" r=\"61\" fill=\"#fcfea4\" fill-rule=\"evenodd\" fill-opacity=\"1\" stroke=\"#000000\" stroke-opacity=\"1\" stroke-width=\"3.2\"/>\n",
       "<circle clip-path=\"url(#clip422)\" cx=\"1276.46\" cy=\"514.66\" r=\"59\" fill=\"#f2f485\" fill-rule=\"evenodd\" fill-opacity=\"1\" stroke=\"#000000\" stroke-opacity=\"1\" stroke-width=\"3.2\"/>\n",
       "<circle clip-path=\"url(#clip422)\" cx=\"1276.46\" cy=\"228.779\" r=\"45\" fill=\"#f2741b\" fill-rule=\"evenodd\" fill-opacity=\"1\" stroke=\"#000000\" stroke-opacity=\"1\" stroke-width=\"3.2\"/>\n",
       "<circle clip-path=\"url(#clip422)\" cx=\"1668.17\" cy=\"1229.36\" r=\"41\" fill=\"#e25832\" fill-rule=\"evenodd\" fill-opacity=\"1\" stroke=\"#000000\" stroke-opacity=\"1\" stroke-width=\"3.2\"/>\n",
       "<circle clip-path=\"url(#clip422)\" cx=\"2059.88\" cy=\"85.838\" r=\"3\" fill=\"#000003\" fill-rule=\"evenodd\" fill-opacity=\"1\" stroke=\"#000000\" stroke-opacity=\"1\" stroke-width=\"3.2\"/>\n",
       "<circle clip-path=\"url(#clip422)\" cx=\"2059.88\" cy=\"1372.3\" r=\"53\" fill=\"#fbb71c\" fill-rule=\"evenodd\" fill-opacity=\"1\" stroke=\"#000000\" stroke-opacity=\"1\" stroke-width=\"3.2\"/>\n",
       "<circle clip-path=\"url(#clip422)\" cx=\"1864.02\" cy=\"1086.42\" r=\"55\" fill=\"#f8cb34\" fill-rule=\"evenodd\" fill-opacity=\"1\" stroke=\"#000000\" stroke-opacity=\"1\" stroke-width=\"3.2\"/>\n",
       "<circle clip-path=\"url(#clip422)\" cx=\"688.897\" cy=\"800.541\" r=\"59\" fill=\"#f2f380\" fill-rule=\"evenodd\" fill-opacity=\"1\" stroke=\"#000000\" stroke-opacity=\"1\" stroke-width=\"3.2\"/>\n",
       "<circle clip-path=\"url(#clip422)\" cx=\"493.042\" cy=\"371.719\" r=\"55\" fill=\"#f7d23e\" fill-rule=\"evenodd\" fill-opacity=\"1\" stroke=\"#000000\" stroke-opacity=\"1\" stroke-width=\"3.2\"/>\n",
       "<circle clip-path=\"url(#clip422)\" cx=\"2059.88\" cy=\"371.719\" r=\"55\" fill=\"#f7d23e\" fill-rule=\"evenodd\" fill-opacity=\"1\" stroke=\"#000000\" stroke-opacity=\"1\" stroke-width=\"3.2\"/>\n",
       "<circle clip-path=\"url(#clip422)\" cx=\"688.897\" cy=\"514.66\" r=\"59\" fill=\"#f2f485\" fill-rule=\"evenodd\" fill-opacity=\"1\" stroke=\"#000000\" stroke-opacity=\"1\" stroke-width=\"3.2\"/>\n",
       "<circle clip-path=\"url(#clip422)\" cx=\"2059.88\" cy=\"1229.36\" r=\"41\" fill=\"#e25832\" fill-rule=\"evenodd\" fill-opacity=\"1\" stroke=\"#000000\" stroke-opacity=\"1\" stroke-width=\"3.2\"/>\n",
       "<circle clip-path=\"url(#clip422)\" cx=\"1864.02\" cy=\"514.66\" r=\"59\" fill=\"#f2f485\" fill-rule=\"evenodd\" fill-opacity=\"1\" stroke=\"#000000\" stroke-opacity=\"1\" stroke-width=\"3.2\"/>\n",
       "<circle clip-path=\"url(#clip422)\" cx=\"1276.46\" cy=\"1372.3\" r=\"52\" fill=\"#fbb519\" fill-rule=\"evenodd\" fill-opacity=\"1\" stroke=\"#000000\" stroke-opacity=\"1\" stroke-width=\"3.2\"/>\n",
       "<circle clip-path=\"url(#clip422)\" cx=\"493.042\" cy=\"1372.3\" r=\"48\" fill=\"#f99007\" fill-rule=\"evenodd\" fill-opacity=\"1\" stroke=\"#000000\" stroke-opacity=\"1\" stroke-width=\"3.2\"/>\n",
       "<circle clip-path=\"url(#clip422)\" cx=\"1472.31\" cy=\"371.719\" r=\"55\" fill=\"#f7d23e\" fill-rule=\"evenodd\" fill-opacity=\"1\" stroke=\"#000000\" stroke-opacity=\"1\" stroke-width=\"3.2\"/>\n",
       "<circle clip-path=\"url(#clip422)\" cx=\"1668.17\" cy=\"1086.42\" r=\"54\" fill=\"#fac026\" fill-rule=\"evenodd\" fill-opacity=\"1\" stroke=\"#000000\" stroke-opacity=\"1\" stroke-width=\"3.2\"/>\n",
       "<circle clip-path=\"url(#clip422)\" cx=\"297.188\" cy=\"943.481\" r=\"54\" fill=\"#f9c42c\" fill-rule=\"evenodd\" fill-opacity=\"1\" stroke=\"#000000\" stroke-opacity=\"1\" stroke-width=\"3.2\"/>\n",
       "<circle clip-path=\"url(#clip422)\" cx=\"1276.46\" cy=\"1229.36\" r=\"51\" fill=\"#fbac10\" fill-rule=\"evenodd\" fill-opacity=\"1\" stroke=\"#000000\" stroke-opacity=\"1\" stroke-width=\"3.2\"/>\n",
       "<circle clip-path=\"url(#clip422)\" cx=\"884.751\" cy=\"1372.3\" r=\"48\" fill=\"#f99007\" fill-rule=\"evenodd\" fill-opacity=\"1\" stroke=\"#000000\" stroke-opacity=\"1\" stroke-width=\"3.2\"/>\n",
       "<circle clip-path=\"url(#clip422)\" cx=\"1864.02\" cy=\"228.779\" r=\"45\" fill=\"#f2741b\" fill-rule=\"evenodd\" fill-opacity=\"1\" stroke=\"#000000\" stroke-opacity=\"1\" stroke-width=\"3.2\"/>\n",
       "<circle clip-path=\"url(#clip422)\" cx=\"884.751\" cy=\"514.66\" r=\"59\" fill=\"#f2f485\" fill-rule=\"evenodd\" fill-opacity=\"1\" stroke=\"#000000\" stroke-opacity=\"1\" stroke-width=\"3.2\"/>\n",
       "<circle clip-path=\"url(#clip422)\" cx=\"688.897\" cy=\"1229.36\" r=\"51\" fill=\"#fbaa0e\" fill-rule=\"evenodd\" fill-opacity=\"1\" stroke=\"#000000\" stroke-opacity=\"1\" stroke-width=\"3.2\"/>\n",
       "<circle clip-path=\"url(#clip422)\" cx=\"1472.31\" cy=\"943.481\" r=\"58\" fill=\"#f1ec6d\" fill-rule=\"evenodd\" fill-opacity=\"1\" stroke=\"#000000\" stroke-opacity=\"1\" stroke-width=\"3.2\"/>\n",
       "<circle clip-path=\"url(#clip422)\" cx=\"688.897\" cy=\"657.6\" r=\"61\" fill=\"#fcfea4\" fill-rule=\"evenodd\" fill-opacity=\"1\" stroke=\"#000000\" stroke-opacity=\"1\" stroke-width=\"3.2\"/>\n",
       "<circle clip-path=\"url(#clip422)\" cx=\"1472.31\" cy=\"1229.36\" r=\"47\" fill=\"#f68211\" fill-rule=\"evenodd\" fill-opacity=\"1\" stroke=\"#000000\" stroke-opacity=\"1\" stroke-width=\"3.2\"/>\n",
       "<circle clip-path=\"url(#clip422)\" cx=\"493.042\" cy=\"85.838\" r=\"3\" fill=\"#000003\" fill-rule=\"evenodd\" fill-opacity=\"1\" stroke=\"#000000\" stroke-opacity=\"1\" stroke-width=\"3.2\"/>\n",
       "<circle clip-path=\"url(#clip422)\" cx=\"1864.02\" cy=\"1372.3\" r=\"52\" fill=\"#fbb519\" fill-rule=\"evenodd\" fill-opacity=\"1\" stroke=\"#000000\" stroke-opacity=\"1\" stroke-width=\"3.2\"/>\n",
       "<circle clip-path=\"url(#clip422)\" cx=\"688.897\" cy=\"371.719\" r=\"55\" fill=\"#f7d23e\" fill-rule=\"evenodd\" fill-opacity=\"1\" stroke=\"#000000\" stroke-opacity=\"1\" stroke-width=\"3.2\"/>\n",
       "<circle clip-path=\"url(#clip422)\" cx=\"297.188\" cy=\"1229.36\" r=\"49\" fill=\"#fa9207\" fill-rule=\"evenodd\" fill-opacity=\"1\" stroke=\"#000000\" stroke-opacity=\"1\" stroke-width=\"3.2\"/>\n",
       "<circle clip-path=\"url(#clip422)\" cx=\"1080.6\" cy=\"800.541\" r=\"60\" fill=\"#fafda0\" fill-rule=\"evenodd\" fill-opacity=\"1\" stroke=\"#000000\" stroke-opacity=\"1\" stroke-width=\"3.2\"/>\n",
       "<circle clip-path=\"url(#clip422)\" cx=\"1668.17\" cy=\"800.541\" r=\"60\" fill=\"#fafda0\" fill-rule=\"evenodd\" fill-opacity=\"1\" stroke=\"#000000\" stroke-opacity=\"1\" stroke-width=\"3.2\"/>\n",
       "<circle clip-path=\"url(#clip422)\" cx=\"2059.88\" cy=\"943.481\" r=\"58\" fill=\"#f1ea69\" fill-rule=\"evenodd\" fill-opacity=\"1\" stroke=\"#000000\" stroke-opacity=\"1\" stroke-width=\"3.2\"/>\n",
       "<circle clip-path=\"url(#clip422)\" cx=\"1080.6\" cy=\"657.6\" r=\"61\" fill=\"#fcfea4\" fill-rule=\"evenodd\" fill-opacity=\"1\" stroke=\"#000000\" stroke-opacity=\"1\" stroke-width=\"3.2\"/>\n",
       "<circle clip-path=\"url(#clip422)\" cx=\"1472.31\" cy=\"1086.42\" r=\"54\" fill=\"#fac229\" fill-rule=\"evenodd\" fill-opacity=\"1\" stroke=\"#000000\" stroke-opacity=\"1\" stroke-width=\"3.2\"/>\n",
       "<circle clip-path=\"url(#clip422)\" cx=\"1864.02\" cy=\"800.541\" r=\"60\" fill=\"#fafda0\" fill-rule=\"evenodd\" fill-opacity=\"1\" stroke=\"#000000\" stroke-opacity=\"1\" stroke-width=\"3.2\"/>\n",
       "<circle clip-path=\"url(#clip422)\" cx=\"688.897\" cy=\"85.838\" r=\"3\" fill=\"#000003\" fill-rule=\"evenodd\" fill-opacity=\"1\" stroke=\"#000000\" stroke-opacity=\"1\" stroke-width=\"3.2\"/>\n",
       "<circle clip-path=\"url(#clip422)\" cx=\"2059.88\" cy=\"1086.42\" r=\"54\" fill=\"#fac026\" fill-rule=\"evenodd\" fill-opacity=\"1\" stroke=\"#000000\" stroke-opacity=\"1\" stroke-width=\"3.2\"/>\n",
       "<circle clip-path=\"url(#clip422)\" cx=\"1864.02\" cy=\"371.719\" r=\"55\" fill=\"#f7d23e\" fill-rule=\"evenodd\" fill-opacity=\"1\" stroke=\"#000000\" stroke-opacity=\"1\" stroke-width=\"3.2\"/>\n",
       "<circle clip-path=\"url(#clip422)\" cx=\"297.188\" cy=\"657.6\" r=\"60\" fill=\"#f8fc9c\" fill-rule=\"evenodd\" fill-opacity=\"1\" stroke=\"#000000\" stroke-opacity=\"1\" stroke-width=\"3.2\"/>\n",
       "<circle clip-path=\"url(#clip422)\" cx=\"688.897\" cy=\"228.779\" r=\"45\" fill=\"#f2741b\" fill-rule=\"evenodd\" fill-opacity=\"1\" stroke=\"#000000\" stroke-opacity=\"1\" stroke-width=\"3.2\"/>\n",
       "<circle clip-path=\"url(#clip422)\" cx=\"884.751\" cy=\"800.541\" r=\"61\" fill=\"#fcfea4\" fill-rule=\"evenodd\" fill-opacity=\"1\" stroke=\"#000000\" stroke-opacity=\"1\" stroke-width=\"3.2\"/>\n",
       "<circle clip-path=\"url(#clip422)\" cx=\"1472.31\" cy=\"657.6\" r=\"61\" fill=\"#fcfea4\" fill-rule=\"evenodd\" fill-opacity=\"1\" stroke=\"#000000\" stroke-opacity=\"1\" stroke-width=\"3.2\"/>\n",
       "<circle clip-path=\"url(#clip422)\" cx=\"1080.6\" cy=\"943.481\" r=\"58\" fill=\"#f1ee72\" fill-rule=\"evenodd\" fill-opacity=\"1\" stroke=\"#000000\" stroke-opacity=\"1\" stroke-width=\"3.2\"/>\n",
       "<circle clip-path=\"url(#clip422)\" cx=\"1080.6\" cy=\"514.66\" r=\"59\" fill=\"#f2f485\" fill-rule=\"evenodd\" fill-opacity=\"1\" stroke=\"#000000\" stroke-opacity=\"1\" stroke-width=\"3.2\"/>\n",
       "<circle clip-path=\"url(#clip422)\" cx=\"297.188\" cy=\"800.541\" r=\"54\" fill=\"#f9c42c\" fill-rule=\"evenodd\" fill-opacity=\"1\" stroke=\"#000000\" stroke-opacity=\"1\" stroke-width=\"3.2\"/>\n",
       "<circle clip-path=\"url(#clip422)\" cx=\"884.751\" cy=\"943.481\" r=\"55\" fill=\"#f7d03b\" fill-rule=\"evenodd\" fill-opacity=\"1\" stroke=\"#000000\" stroke-opacity=\"1\" stroke-width=\"3.2\"/>\n",
       "<circle clip-path=\"url(#clip422)\" cx=\"884.751\" cy=\"371.719\" r=\"55\" fill=\"#f7d23e\" fill-rule=\"evenodd\" fill-opacity=\"1\" stroke=\"#000000\" stroke-opacity=\"1\" stroke-width=\"3.2\"/>\n",
       "<circle clip-path=\"url(#clip422)\" cx=\"1668.17\" cy=\"228.779\" r=\"45\" fill=\"#f2741b\" fill-rule=\"evenodd\" fill-opacity=\"1\" stroke=\"#000000\" stroke-opacity=\"1\" stroke-width=\"3.2\"/>\n",
       "<circle clip-path=\"url(#clip422)\" cx=\"1472.31\" cy=\"1372.3\" r=\"53\" fill=\"#fbb71c\" fill-rule=\"evenodd\" fill-opacity=\"1\" stroke=\"#000000\" stroke-opacity=\"1\" stroke-width=\"3.2\"/>\n",
       "<circle clip-path=\"url(#clip422)\" cx=\"688.897\" cy=\"1372.3\" r=\"48\" fill=\"#f99007\" fill-rule=\"evenodd\" fill-opacity=\"1\" stroke=\"#000000\" stroke-opacity=\"1\" stroke-width=\"3.2\"/>\n",
       "<circle clip-path=\"url(#clip422)\" cx=\"1080.6\" cy=\"1086.42\" r=\"54\" fill=\"#fac229\" fill-rule=\"evenodd\" fill-opacity=\"1\" stroke=\"#000000\" stroke-opacity=\"1\" stroke-width=\"3.2\"/>\n",
       "<circle clip-path=\"url(#clip422)\" cx=\"2059.88\" cy=\"657.6\" r=\"61\" fill=\"#fcfea4\" fill-rule=\"evenodd\" fill-opacity=\"1\" stroke=\"#000000\" stroke-opacity=\"1\" stroke-width=\"3.2\"/>\n",
       "<circle clip-path=\"url(#clip422)\" cx=\"1080.6\" cy=\"228.779\" r=\"45\" fill=\"#f2741b\" fill-rule=\"evenodd\" fill-opacity=\"1\" stroke=\"#000000\" stroke-opacity=\"1\" stroke-width=\"3.2\"/>\n",
       "<circle clip-path=\"url(#clip422)\" cx=\"884.751\" cy=\"85.838\" r=\"3\" fill=\"#000003\" fill-rule=\"evenodd\" fill-opacity=\"1\" stroke=\"#000000\" stroke-opacity=\"1\" stroke-width=\"3.2\"/>\n",
       "<circle clip-path=\"url(#clip422)\" cx=\"1668.17\" cy=\"85.838\" r=\"3\" fill=\"#000003\" fill-rule=\"evenodd\" fill-opacity=\"1\" stroke=\"#000000\" stroke-opacity=\"1\" stroke-width=\"3.2\"/>\n",
       "<circle clip-path=\"url(#clip422)\" cx=\"1668.17\" cy=\"1372.3\" r=\"53\" fill=\"#fabb21\" fill-rule=\"evenodd\" fill-opacity=\"1\" stroke=\"#000000\" stroke-opacity=\"1\" stroke-width=\"3.2\"/>\n",
       "<circle clip-path=\"url(#clip422)\" cx=\"297.188\" cy=\"1086.42\" r=\"49\" fill=\"#fa9207\" fill-rule=\"evenodd\" fill-opacity=\"1\" stroke=\"#000000\" stroke-opacity=\"1\" stroke-width=\"3.2\"/>\n",
       "<circle clip-path=\"url(#clip422)\" cx=\"688.897\" cy=\"1086.42\" r=\"54\" fill=\"#f9c42c\" fill-rule=\"evenodd\" fill-opacity=\"1\" stroke=\"#000000\" stroke-opacity=\"1\" stroke-width=\"3.2\"/>\n",
       "<circle clip-path=\"url(#clip422)\" cx=\"1276.46\" cy=\"800.541\" r=\"60\" fill=\"#fafda0\" fill-rule=\"evenodd\" fill-opacity=\"1\" stroke=\"#000000\" stroke-opacity=\"1\" stroke-width=\"3.2\"/>\n",
       "<circle clip-path=\"url(#clip422)\" cx=\"1080.6\" cy=\"1229.36\" r=\"54\" fill=\"#f9c42c\" fill-rule=\"evenodd\" fill-opacity=\"1\" stroke=\"#000000\" stroke-opacity=\"1\" stroke-width=\"3.2\"/>\n",
       "<circle clip-path=\"url(#clip422)\" cx=\"1668.17\" cy=\"943.481\" r=\"58\" fill=\"#f1ec6d\" fill-rule=\"evenodd\" fill-opacity=\"1\" stroke=\"#000000\" stroke-opacity=\"1\" stroke-width=\"3.2\"/>\n",
       "<circle clip-path=\"url(#clip422)\" cx=\"493.042\" cy=\"943.481\" r=\"54\" fill=\"#f9c42c\" fill-rule=\"evenodd\" fill-opacity=\"1\" stroke=\"#000000\" stroke-opacity=\"1\" stroke-width=\"3.2\"/>\n",
       "<circle clip-path=\"url(#clip422)\" cx=\"1276.46\" cy=\"371.719\" r=\"55\" fill=\"#f7d23e\" fill-rule=\"evenodd\" fill-opacity=\"1\" stroke=\"#000000\" stroke-opacity=\"1\" stroke-width=\"3.2\"/>\n",
       "<circle clip-path=\"url(#clip422)\" cx=\"1668.17\" cy=\"514.66\" r=\"59\" fill=\"#f2f485\" fill-rule=\"evenodd\" fill-opacity=\"1\" stroke=\"#000000\" stroke-opacity=\"1\" stroke-width=\"3.2\"/>\n",
       "<circle clip-path=\"url(#clip422)\" cx=\"884.751\" cy=\"1229.36\" r=\"54\" fill=\"#f9c42c\" fill-rule=\"evenodd\" fill-opacity=\"1\" stroke=\"#000000\" stroke-opacity=\"1\" stroke-width=\"3.2\"/>\n",
       "<circle clip-path=\"url(#clip422)\" cx=\"297.188\" cy=\"85.838\" r=\"3\" fill=\"#000003\" fill-rule=\"evenodd\" fill-opacity=\"1\" stroke=\"#000000\" stroke-opacity=\"1\" stroke-width=\"3.2\"/>\n",
       "<circle clip-path=\"url(#clip422)\" cx=\"1668.17\" cy=\"371.719\" r=\"55\" fill=\"#f7d23e\" fill-rule=\"evenodd\" fill-opacity=\"1\" stroke=\"#000000\" stroke-opacity=\"1\" stroke-width=\"3.2\"/>\n",
       "<circle clip-path=\"url(#clip422)\" cx=\"1276.46\" cy=\"1086.42\" r=\"54\" fill=\"#fac229\" fill-rule=\"evenodd\" fill-opacity=\"1\" stroke=\"#000000\" stroke-opacity=\"1\" stroke-width=\"3.2\"/>\n",
       "<circle clip-path=\"url(#clip422)\" cx=\"1276.46\" cy=\"657.6\" r=\"61\" fill=\"#fcfea4\" fill-rule=\"evenodd\" fill-opacity=\"1\" stroke=\"#000000\" stroke-opacity=\"1\" stroke-width=\"3.2\"/>\n",
       "<circle clip-path=\"url(#clip422)\" cx=\"1276.46\" cy=\"943.481\" r=\"58\" fill=\"#f1ea69\" fill-rule=\"evenodd\" fill-opacity=\"1\" stroke=\"#000000\" stroke-opacity=\"1\" stroke-width=\"3.2\"/>\n",
       "<circle clip-path=\"url(#clip422)\" cx=\"493.042\" cy=\"1086.42\" r=\"51\" fill=\"#fbaa0e\" fill-rule=\"evenodd\" fill-opacity=\"1\" stroke=\"#000000\" stroke-opacity=\"1\" stroke-width=\"3.2\"/>\n",
       "<circle clip-path=\"url(#clip422)\" cx=\"1864.02\" cy=\"1229.36\" r=\"41\" fill=\"#e25832\" fill-rule=\"evenodd\" fill-opacity=\"1\" stroke=\"#000000\" stroke-opacity=\"1\" stroke-width=\"3.2\"/>\n",
       "<circle clip-path=\"url(#clip422)\" cx=\"884.751\" cy=\"657.6\" r=\"61\" fill=\"#fcfea4\" fill-rule=\"evenodd\" fill-opacity=\"1\" stroke=\"#000000\" stroke-opacity=\"1\" stroke-width=\"3.2\"/>\n",
       "<circle clip-path=\"url(#clip422)\" cx=\"2059.88\" cy=\"228.779\" r=\"45\" fill=\"#f2741b\" fill-rule=\"evenodd\" fill-opacity=\"1\" stroke=\"#000000\" stroke-opacity=\"1\" stroke-width=\"3.2\"/>\n",
       "<circle clip-path=\"url(#clip422)\" cx=\"884.751\" cy=\"1086.42\" r=\"54\" fill=\"#f9c42c\" fill-rule=\"evenodd\" fill-opacity=\"1\" stroke=\"#000000\" stroke-opacity=\"1\" stroke-width=\"3.2\"/>\n",
       "<circle clip-path=\"url(#clip422)\" cx=\"493.042\" cy=\"1229.36\" r=\"49\" fill=\"#fa9606\" fill-rule=\"evenodd\" fill-opacity=\"1\" stroke=\"#000000\" stroke-opacity=\"1\" stroke-width=\"3.2\"/>\n",
       "<circle clip-path=\"url(#clip422)\" cx=\"1472.31\" cy=\"85.838\" r=\"3\" fill=\"#000003\" fill-rule=\"evenodd\" fill-opacity=\"1\" stroke=\"#000000\" stroke-opacity=\"1\" stroke-width=\"3.2\"/>\n",
       "<circle clip-path=\"url(#clip422)\" cx=\"1864.02\" cy=\"85.838\" r=\"3\" fill=\"#000003\" fill-rule=\"evenodd\" fill-opacity=\"1\" stroke=\"#000000\" stroke-opacity=\"1\" stroke-width=\"3.2\"/>\n",
       "<circle clip-path=\"url(#clip422)\" cx=\"1080.6\" cy=\"1372.3\" r=\"54\" fill=\"#fac026\" fill-rule=\"evenodd\" fill-opacity=\"1\" stroke=\"#000000\" stroke-opacity=\"1\" stroke-width=\"3.2\"/>\n",
       "<circle clip-path=\"url(#clip422)\" cx=\"1080.6\" cy=\"371.719\" r=\"55\" fill=\"#f7d23e\" fill-rule=\"evenodd\" fill-opacity=\"1\" stroke=\"#000000\" stroke-opacity=\"1\" stroke-width=\"3.2\"/>\n",
       "<circle clip-path=\"url(#clip422)\" cx=\"1080.6\" cy=\"85.838\" r=\"3\" fill=\"#000003\" fill-rule=\"evenodd\" fill-opacity=\"1\" stroke=\"#000000\" stroke-opacity=\"1\" stroke-width=\"3.2\"/>\n",
       "<circle clip-path=\"url(#clip422)\" cx=\"297.188\" cy=\"228.779\" r=\"45\" fill=\"#f2741b\" fill-rule=\"evenodd\" fill-opacity=\"1\" stroke=\"#000000\" stroke-opacity=\"1\" stroke-width=\"3.2\"/>\n",
       "<circle clip-path=\"url(#clip422)\" cx=\"493.042\" cy=\"228.779\" r=\"45\" fill=\"#f2741b\" fill-rule=\"evenodd\" fill-opacity=\"1\" stroke=\"#000000\" stroke-opacity=\"1\" stroke-width=\"3.2\"/>\n",
       "<circle clip-path=\"url(#clip422)\" cx=\"297.188\" cy=\"1372.3\" r=\"43\" fill=\"#eb6527\" fill-rule=\"evenodd\" fill-opacity=\"1\" stroke=\"#000000\" stroke-opacity=\"1\" stroke-width=\"3.2\"/>\n",
       "<circle clip-path=\"url(#clip422)\" cx=\"2059.88\" cy=\"800.541\" r=\"60\" fill=\"#fafda0\" fill-rule=\"evenodd\" fill-opacity=\"1\" stroke=\"#000000\" stroke-opacity=\"1\" stroke-width=\"3.2\"/>\n",
       "<circle clip-path=\"url(#clip422)\" cx=\"1864.02\" cy=\"943.481\" r=\"58\" fill=\"#f1ec6d\" fill-rule=\"evenodd\" fill-opacity=\"1\" stroke=\"#000000\" stroke-opacity=\"1\" stroke-width=\"3.2\"/>\n",
       "<circle clip-path=\"url(#clip422)\" cx=\"2059.88\" cy=\"514.66\" r=\"59\" fill=\"#f2f485\" fill-rule=\"evenodd\" fill-opacity=\"1\" stroke=\"#000000\" stroke-opacity=\"1\" stroke-width=\"3.2\"/>\n",
       "<circle clip-path=\"url(#clip422)\" cx=\"297.188\" cy=\"514.66\" r=\"59\" fill=\"#f2f485\" fill-rule=\"evenodd\" fill-opacity=\"1\" stroke=\"#000000\" stroke-opacity=\"1\" stroke-width=\"3.2\"/>\n",
       "<circle clip-path=\"url(#clip422)\" cx=\"688.897\" cy=\"943.481\" r=\"54\" fill=\"#f9c42c\" fill-rule=\"evenodd\" fill-opacity=\"1\" stroke=\"#000000\" stroke-opacity=\"1\" stroke-width=\"3.2\"/>\n",
       "<defs>\n",
       "  <clipPath id=\"clip423\">\n",
       "    <rect x=\"2160\" y=\"47\" width=\"73\" height=\"1365\"/>\n",
       "  </clipPath>\n",
       "</defs>\n",
       "<g clip-path=\"url(#clip423)\">\n",
       "<image width=\"72\" height=\"1364\" xlink:href=\"data:image/png;base64,\n",
       "iVBORw0KGgoAAAANSUhEUgAAAEgAAAVUCAYAAABzwV4AAAAL0klEQVR4nO3dwY3sRhAFQY5Q/lsh\n",
       "L6XfLQtUeSQPERYsEg+zZJM7+/v3/H0f/tdfb/8AXydQECgIFAQKc+6/b/8Mn2ZBQaAgUBAozL1/\n",
       "3v4ZPs2CgkBBoCBQcCUdLCgIFAQKAgWBwly/xVYWFAQKAgWBwtzjQ3pjQUGgIFAQKLiSDhYUBAoC\n",
       "BYGCQMFvsWBBQaAgUBAoOA8KFhQECgIFgcI8rqRXFhQECgIFgYJAwXlQsKAgUBAoCBTmcR60sqAg\n",
       "UBAoCBTmOf+8/TN8mgUFgYJAQaAgUPBUI1hQECgIFAQKzoOCBQWBgkBBoOBDOlhQECgIFAQKAgXn\n",
       "QcGCgkBBoCBQmJ9bjZUFBYGCQEGgMM/xpf8bCwoCBYGCQEGg4FYjWFAQKAgUBApuNYIFBYGCQEGg\n",
       "4P2gYEFBoCBQECgIFObnVmNlQUGgIFAQKHiJM1hQECgIFAQKrqSDBQWBgkBBoCBQ8Og5WFAQKAgU\n",
       "BApuNYIFBYGCQEGg4Eo6WFAQKAgUBAoCBbcawYKCQEGgIFCY55y3f4ZPs6AgUBAoCBRcSQcLCgIF\n",
       "gYJAQaDgqUawoCBQECgIFHxIBwsKAgWBgkBhfg7tVxYUBAoCBYGCQMGtRrCgIFAQKAgUvB8ULCgI\n",
       "FAQKAgXnQcGCgkBBoCBQECg4DwoWFAQKAgWBgvOgYEFBoCBQECj4kA4WFAQKAgWBgkDBXz0HCwoC\n",
       "BYGCQMGtRrCgIFAQKAgUfEgHCwoCBYGCQEGg4LdYsKAgUBAoCBR8SAcLCgIFgYJAYZ7rQ3pjQUGg\n",
       "IFAQKAgU3GoECwoCBYGCQMGHdLCgIFAQKAgUfEgHCwoCBYGCQEGgMM+5b/8Mn2ZBQaAgUBAouNUI\n",
       "FhQECgIFgYIr6WBBQaAgUBAoCBTcagQLCgIFgYJAwa1GsKAgUBAoCBTmcSG9sqAgUBAoCBQECvNc\n",
       "txobCwoCBYGCQMGtRrCgIFAQKAgUfEgHCwoCBYGCQEGgML4Eb2dBQaAgUBAouNUIFhQECgIFgYIP\n",
       "6WBBQaAgUBAoCBTmOb+3f4ZPs6AgUBAoCBTmXh/SGwsKAgWBgkDBeVCwoCBQECgIFBx3BAsKAgWB\n",
       "gkBBoDD3aLRRJwgUBAoCBbcawYKCQEGgIFCYx5PVlQUFgYJAQaAgUJjrVmNlQUGgIFAQKMzj0H6l\n",
       "ThAoCBQECq6kgwUFgYJAQaAgUPBUI1hQECgIFAQKXuIM6gSBgkBBoOAlzmBBQaAgUBAoCBQ81QgW\n",
       "FAQKAgWBwtyr0UadIFAQKAgUnAcFCwoCBYGCQEGg4DwoWFAQKAgUBArzOA9aqRMECgIFgYIr6WBB\n",
       "QaAgUBAoCBT8FgsWFAQKAgWBgj/qDRYUBAoCBYGCP+oN6gSBgkBBoCBQ8P/mgwUFgYJAQaDg0D5Y\n",
       "UBAoCBQECr70P6gTBAoCBYGCQMF5ULCgIFAQKAgUnAcFCwoCBYGCQMGVdLCgIFAQKAgUBArecg3q\n",
       "BIGCQEGg4FYjWFAQKAgUBAoO7YMFBYGCQEGgIFBwqxEsKAgUBAoCBf+6JlhQECgIFAQK/glkUCcI\n",
       "FAQKAgWBgvOgYEFBoCBQECh49BwsKAgUBAoCBVfSwYKCQEGgIFAQKMzxW2xlQUGgIFAQKPij3qBO\n",
       "ECgIFAQKzoOCBQWBgkBBoCBQ8FssWFAQKAgUBAreDwoWFAQKAgWBgivpYEFBoCBQECgIFPwWCxYU\n",
       "BAoCBYGCr6YI6gSBgkBBoDDHof3KgoJAQaAgUBAoOA8KFhQECgIFgYIP6WBBQaAgUBAo+JAOFhQE\n",
       "CgIFgYJAwfcHBQsKAgWBgkDBrUawoCBQECgIFHxIBwsKAgWBgkBBoOBPEYI6QaAgUBAo+FOEYEFB\n",
       "oCBQECg4DwoWFAQKAgWBgkDBb7FgQUGgIFAQKHiJM1hQECgIFAQKrqSDBQWBgkBBoCBQmPv4Lbax\n",
       "oCBQECgIFJwHBQsKAgWBgkDBeVCwoCBQECgIFAQKbjWCBQWBgkBBoOBWI1hQECgIFAQKrqSDBQWB\n",
       "gkBBoCBQcKsRLCgIFAQKAgUf0sGCgkBBoCBQmONN+5UFBYGCQEGg4Eo6WFAQKAgUBAoCBY+egwUF\n",
       "gYJAQaAw9779I3ybBQWBgkBBoOBKOlhQECgIFAQKAgVf8hYsKAgUBAoCBbcawYKCQEGgIFDwflCw\n",
       "oCBQECgIFAQK/hQhWFAQKAgUBAreDwoWFAQKAgWBgkP7YEFBoCBQECgIFDzVCBYUBAoCBYGCQ/tg\n",
       "QUGgIFAQKDgPChYUBAoCBYGCQMGj52BBQaAgUBAoOA8KFhQECgIFgYInq8GCgkBBoCBQECjMefsn\n",
       "+DgLCgIFgYJAwa1GsKAgUBAoCBS8HxQsKAgUBAoCBYGC86BgQUGgIFAQKDgPChYUBAoCBYGCK+lg\n",
       "QUGgIFAQKAgU3GoECwoCBYGCQMGj52BBQaAgUBAojC9e2FlQECgIFAQKAgW3GsGCgkBBoCBQ8Og5\n",
       "WFAQKAgUBAqerAYLCgIFgYJAQaDgViNYUBAoCBQECm41ggUFgYJAQaAwxwtCKwsKAgWBgkBBoOA8\n",
       "KFhQECgIFAQKzoOCBQWBgkBBoOBKOlhQECgIFAQKAgX/bz5YUBAoCBQECv7ffLCgIFAQKAgUvB8U\n",
       "LCgIFAQKAgWBgm/BCxYUBAoCBYGCL3kLFhQECgIFgYInq8GCgkBBoCBQECh4yzVYUBAoCBQECv5e\n",
       "LFhQECgIFAQKrqSDBQWBgkBBoCBQ8JZrsKAgUBAoCBS8xBksKAgUBAoCBVfSwYKCQEGgIFAQKHjL\n",
       "NVhQECgIFAQKvj8oWFAQKAgUBArOg4IFBYGCQEGgIFDw6DlYUBAoCBQECm41ggUFgYJAQaDgSjpY\n",
       "UBAoCBQECgIFtxrBgoJAQaAgUPAhHSwoCBQECgIF50HBgoJAQaAgUBAouNUIFhQECgIFgYJbjWBB\n",
       "QaAgUBAouJIOFhQECgIFgYJAwfcHBQsKAgWBgkDBv64JFhQECgIFgYLzoGBBQaAgUBAoCBTmPn6N\n",
       "bSwoCBQECgIFtxrBgoJAQaAgUPBkNVhQECgIFAQKnqwGCwoCBYGCQEGg4DwoWFAQKAgUBAqerAYL\n",
       "CgIFgYJAwZV0sKAgUBAoCBQECr4/KFhQECgIFAQKc7wgtLKgIFAQKAgUvB8ULCgIFAQKAgWBwly3\n",
       "GisLCgIFgYJAwa1GsKAgUBAoCBQc2gcLCgIFgYJAQaDg/aBgQUGgIFAQKMzx92IrCwoCBYGCQMF5\n",
       "ULCgIFAQKAgUBAq+miJYUBAoCBQECt4PChYUBAoCBYGCQ/tgQUGgIFAQKAgUnAcFCwoCBYGCQGHO\n",
       "40RoY0FBoCBQECg4DwoWFAQKAgWBgkDBb7FgQUGgIFAQKDi0DxYUBAoCBYGCQ/tgQUGgIFAQKAgU\n",
       "5vzcamwsKAgUBAoCBbcawYKCQEGgIFCY60N6ZUFBoCBQECgIFNxqBAsKAgWBgkBhzs+H9MaCgkBB\n",
       "oCBQcCUdLCgIFAQKAgWBgqcawYKCQEGgIFBwqxEsKAgUBAoCBR/SwYKCQEGgIFAQKHj0HCwoCBQE\n",
       "CgKFuc+ft3+GT7OgIFAQKAgUnAcFCwoCBYGCQEGg4P2gYEFBoCBQECjMuc6DNhYUBAoCBYGCK+lg\n",
       "QUGgIFAQKAgU5nj0vLKgIFAQKAgU3GoECwoCBYGCQMGVdLCgIFAQKAgUBApzr1uNjQUFgYJAQaDg\n",
       "PChYUBAoCBQECl7iDBYUBAoCBYGCQMGtRrCgIFAQKAgU5rrVWFlQECgIFAQKrqSDBQWBgkBBoCBQ\n",
       "mOP9oJUFBYGCQEGg4PukgwUFgYJAQaDgTftgQUGgIFAQKAgUPNUIFhQECgIFgYJbjWBBQaAgUBAo\n",
       "+JAOFhQECgIFgYJAwaPnYEFBoCBQECi41QgWFAQKAgWBwjyerK4sKAgUBAoCBYGCW41gQUGgIFAQ\n",
       "KHiJM1hQECgIFAQK87iSXllQECgIFAQKAgXvBwULCgIFgYJAwaPnYEFBoCBQECg4DwoWFAQKAgWB\n",
       "gkBh7nPf/hk+zYKCQEGgIFBwHhQsKAgUBAoChXlcSa8sKAgUBAoChf8AJ8ztt7m0cDkAAAAASUVO\n",
       "RK5CYII=\n",
       "\" transform=\"translate(2161, 47)\"/>\n",
       "</g>\n",
       "<path clip-path=\"url(#clip420)\" d=\"M 0 0 M2280.7 1344.15 Q2277.09 1344.15 2275.26 1347.71 Q2273.45 1351.25 2273.45 1358.38 Q2273.45 1365.49 2275.26 1369.05 Q2277.09 1372.6 2280.7 1372.6 Q2284.33 1372.6 2286.14 1369.05 Q2287.97 1365.49 2287.97 1358.38 Q2287.97 1351.25 2286.14 1347.71 Q2284.33 1344.15 2280.7 1344.15 M2280.7 1340.44 Q2286.51 1340.44 2289.57 1345.05 Q2292.64 1349.63 2292.64 1358.38 Q2292.64 1367.11 2289.57 1371.72 Q2286.51 1376.3 2280.7 1376.3 Q2274.89 1376.3 2271.81 1371.72 Q2268.76 1367.11 2268.76 1358.38 Q2268.76 1349.63 2271.81 1345.05 Q2274.89 1340.44 2280.7 1340.44 Z\" fill=\"#000000\" fill-rule=\"evenodd\" fill-opacity=\"1\" /><path clip-path=\"url(#clip420)\" d=\"M 0 0 M2297.71 1369.75 L2302.6 1369.75 L2302.6 1375.63 L2297.71 1375.63 L2297.71 1369.75 Z\" fill=\"#000000\" fill-rule=\"evenodd\" fill-opacity=\"1\" /><path clip-path=\"url(#clip420)\" d=\"M 0 0 M2307.71 1341.07 L2326.07 1341.07 L2326.07 1345 L2312 1345 L2312 1353.47 Q2313.01 1353.13 2314.03 1352.97 Q2315.05 1352.78 2316.07 1352.78 Q2321.86 1352.78 2325.24 1355.95 Q2328.62 1359.12 2328.62 1364.54 Q2328.62 1370.12 2325.14 1373.22 Q2321.67 1376.3 2315.35 1376.3 Q2313.18 1376.3 2310.91 1375.93 Q2308.66 1375.56 2306.26 1374.82 L2306.26 1370.12 Q2308.34 1371.25 2310.56 1371.81 Q2312.78 1372.36 2315.26 1372.36 Q2319.26 1372.36 2321.6 1370.26 Q2323.94 1368.15 2323.94 1364.54 Q2323.94 1360.93 2321.6 1358.82 Q2319.26 1356.72 2315.26 1356.72 Q2313.39 1356.72 2311.51 1357.13 Q2309.66 1357.55 2307.71 1358.43 L2307.71 1341.07 Z\" fill=\"#000000\" fill-rule=\"evenodd\" fill-opacity=\"1\" /><path clip-path=\"url(#clip420)\" d=\"M 0 0 M2280.7 1076.31 Q2277.09 1076.31 2275.26 1079.87 Q2273.45 1083.41 2273.45 1090.54 Q2273.45 1097.65 2275.26 1101.22 Q2277.09 1104.76 2280.7 1104.76 Q2284.33 1104.76 2286.14 1101.22 Q2287.97 1097.65 2287.97 1090.54 Q2287.97 1083.41 2286.14 1079.87 Q2284.33 1076.31 2280.7 1076.31 M2280.7 1072.6 Q2286.51 1072.6 2289.57 1077.21 Q2292.64 1081.79 2292.64 1090.54 Q2292.64 1099.27 2289.57 1103.88 Q2286.51 1108.46 2280.7 1108.46 Q2274.89 1108.46 2271.81 1103.88 Q2268.76 1099.27 2268.76 1090.54 Q2268.76 1081.79 2271.81 1077.21 Q2274.89 1072.6 2280.7 1072.6 Z\" fill=\"#000000\" fill-rule=\"evenodd\" fill-opacity=\"1\" /><path clip-path=\"url(#clip420)\" d=\"M 0 0 M2297.71 1101.91 L2302.6 1101.91 L2302.6 1107.79 L2297.71 1107.79 L2297.71 1101.91 Z\" fill=\"#000000\" fill-rule=\"evenodd\" fill-opacity=\"1\" /><path clip-path=\"url(#clip420)\" d=\"M 0 0 M2318.25 1088.65 Q2315.1 1088.65 2313.25 1090.8 Q2311.42 1092.95 2311.42 1096.7 Q2311.42 1100.43 2313.25 1102.6 Q2315.1 1104.76 2318.25 1104.76 Q2321.39 1104.76 2323.22 1102.6 Q2325.08 1100.43 2325.08 1096.7 Q2325.08 1092.95 2323.22 1090.8 Q2321.39 1088.65 2318.25 1088.65 M2327.53 1073.99 L2327.53 1078.25 Q2325.77 1077.42 2323.96 1076.98 Q2322.18 1076.54 2320.42 1076.54 Q2315.79 1076.54 2313.34 1079.66 Q2310.91 1082.79 2310.56 1089.11 Q2311.93 1087.09 2313.99 1086.03 Q2316.05 1084.94 2318.52 1084.94 Q2323.73 1084.94 2326.74 1088.11 Q2329.77 1091.26 2329.77 1096.7 Q2329.77 1102.03 2326.63 1105.24 Q2323.48 1108.46 2318.25 1108.46 Q2312.25 1108.46 2309.08 1103.88 Q2305.91 1099.27 2305.91 1090.54 Q2305.91 1082.35 2309.8 1077.49 Q2313.69 1072.6 2320.24 1072.6 Q2322 1072.6 2323.78 1072.95 Q2325.58 1073.3 2327.53 1073.99 Z\" fill=\"#000000\" fill-rule=\"evenodd\" fill-opacity=\"1\" /><path clip-path=\"url(#clip420)\" d=\"M 0 0 M2280.7 808.469 Q2277.09 808.469 2275.26 812.034 Q2273.45 815.576 2273.45 822.705 Q2273.45 829.812 2275.26 833.377 Q2277.09 836.918 2280.7 836.918 Q2284.33 836.918 2286.14 833.377 Q2287.97 829.812 2287.97 822.705 Q2287.97 815.576 2286.14 812.034 Q2284.33 808.469 2280.7 808.469 M2280.7 804.766 Q2286.51 804.766 2289.57 809.372 Q2292.64 813.955 2292.64 822.705 Q2292.64 831.432 2289.57 836.039 Q2286.51 840.622 2280.7 840.622 Q2274.89 840.622 2271.81 836.039 Q2268.76 831.432 2268.76 822.705 Q2268.76 813.955 2271.81 809.372 Q2274.89 804.766 2280.7 804.766 Z\" fill=\"#000000\" fill-rule=\"evenodd\" fill-opacity=\"1\" /><path clip-path=\"url(#clip420)\" d=\"M 0 0 M2297.71 834.071 L2302.6 834.071 L2302.6 839.951 L2297.71 839.951 L2297.71 834.071 Z\" fill=\"#000000\" fill-rule=\"evenodd\" fill-opacity=\"1\" /><path clip-path=\"url(#clip420)\" d=\"M 0 0 M2306.49 805.391 L2328.71 805.391 L2328.71 807.381 L2316.16 839.951 L2311.28 839.951 L2323.08 809.326 L2306.49 809.326 L2306.49 805.391 Z\" fill=\"#000000\" fill-rule=\"evenodd\" fill-opacity=\"1\" /><path clip-path=\"url(#clip420)\" d=\"M 0 0 M2280.7 540.631 Q2277.09 540.631 2275.26 544.196 Q2273.45 547.737 2273.45 554.867 Q2273.45 561.973 2275.26 565.538 Q2277.09 569.08 2280.7 569.08 Q2284.33 569.08 2286.14 565.538 Q2287.97 561.973 2287.97 554.867 Q2287.97 547.737 2286.14 544.196 Q2284.33 540.631 2280.7 540.631 M2280.7 536.927 Q2286.51 536.927 2289.57 541.534 Q2292.64 546.117 2292.64 554.867 Q2292.64 563.594 2289.57 568.2 Q2286.51 572.783 2280.7 572.783 Q2274.89 572.783 2271.81 568.2 Q2268.76 563.594 2268.76 554.867 Q2268.76 546.117 2271.81 541.534 Q2274.89 536.927 2280.7 536.927 Z\" fill=\"#000000\" fill-rule=\"evenodd\" fill-opacity=\"1\" /><path clip-path=\"url(#clip420)\" d=\"M 0 0 M2297.71 566.233 L2302.6 566.233 L2302.6 572.112 L2297.71 572.112 L2297.71 566.233 Z\" fill=\"#000000\" fill-rule=\"evenodd\" fill-opacity=\"1\" /><path clip-path=\"url(#clip420)\" d=\"M 0 0 M2317.67 555.7 Q2314.33 555.7 2312.41 557.483 Q2310.51 559.265 2310.51 562.39 Q2310.51 565.515 2312.41 567.297 Q2314.33 569.08 2317.67 569.08 Q2321 569.08 2322.92 567.297 Q2324.84 565.492 2324.84 562.39 Q2324.84 559.265 2322.92 557.483 Q2321.02 555.7 2317.67 555.7 M2312.99 553.709 Q2309.98 552.969 2308.29 550.909 Q2306.63 548.848 2306.63 545.885 Q2306.63 541.742 2309.57 539.335 Q2312.53 536.927 2317.67 536.927 Q2322.83 536.927 2325.77 539.335 Q2328.71 541.742 2328.71 545.885 Q2328.71 548.848 2327.02 550.909 Q2325.35 552.969 2322.37 553.709 Q2325.75 554.496 2327.62 556.788 Q2329.52 559.08 2329.52 562.39 Q2329.52 567.413 2326.44 570.098 Q2323.39 572.783 2317.67 572.783 Q2311.95 572.783 2308.87 570.098 Q2305.82 567.413 2305.82 562.39 Q2305.82 559.08 2307.71 556.788 Q2309.61 554.496 2312.99 553.709 M2311.28 546.325 Q2311.28 549.01 2312.95 550.515 Q2314.64 552.02 2317.67 552.02 Q2320.68 552.02 2322.37 550.515 Q2324.08 549.01 2324.08 546.325 Q2324.08 543.64 2322.37 542.135 Q2320.68 540.631 2317.67 540.631 Q2314.64 540.631 2312.95 542.135 Q2311.28 543.64 2311.28 546.325 Z\" fill=\"#000000\" fill-rule=\"evenodd\" fill-opacity=\"1\" /><path clip-path=\"url(#clip420)\" d=\"M 0 0 M2280.7 272.792 Q2277.09 272.792 2275.26 276.357 Q2273.45 279.899 2273.45 287.028 Q2273.45 294.135 2275.26 297.7 Q2277.09 301.241 2280.7 301.241 Q2284.33 301.241 2286.14 297.7 Q2287.97 294.135 2287.97 287.028 Q2287.97 279.899 2286.14 276.357 Q2284.33 272.792 2280.7 272.792 M2280.7 269.089 Q2286.51 269.089 2289.57 273.695 Q2292.64 278.278 2292.64 287.028 Q2292.64 295.755 2289.57 300.362 Q2286.51 304.945 2280.7 304.945 Q2274.89 304.945 2271.81 300.362 Q2268.76 295.755 2268.76 287.028 Q2268.76 278.278 2271.81 273.695 Q2274.89 269.089 2280.7 269.089 Z\" fill=\"#000000\" fill-rule=\"evenodd\" fill-opacity=\"1\" /><path clip-path=\"url(#clip420)\" d=\"M 0 0 M2297.71 298.394 L2302.6 298.394 L2302.6 304.274 L2297.71 304.274 L2297.71 298.394 Z\" fill=\"#000000\" fill-rule=\"evenodd\" fill-opacity=\"1\" /><path clip-path=\"url(#clip420)\" d=\"M 0 0 M2307.81 303.556 L2307.81 299.297 Q2309.57 300.13 2311.37 300.57 Q2313.18 301.01 2314.91 301.01 Q2319.54 301.01 2321.97 297.908 Q2324.43 294.783 2324.77 288.44 Q2323.43 290.431 2321.37 291.496 Q2319.31 292.561 2316.81 292.561 Q2311.63 292.561 2308.59 289.436 Q2305.58 286.288 2305.58 280.848 Q2305.58 275.524 2308.73 272.306 Q2311.88 269.089 2317.11 269.089 Q2323.11 269.089 2326.26 273.695 Q2329.43 278.278 2329.43 287.028 Q2329.43 295.2 2325.54 300.084 Q2321.67 304.945 2315.12 304.945 Q2313.36 304.945 2311.56 304.598 Q2309.75 304.25 2307.81 303.556 M2317.11 288.903 Q2320.26 288.903 2322.09 286.751 Q2323.94 284.598 2323.94 280.848 Q2323.94 277.121 2322.09 274.968 Q2320.26 272.792 2317.11 272.792 Q2313.96 272.792 2312.11 274.968 Q2310.28 277.121 2310.28 280.848 Q2310.28 284.598 2312.11 286.751 Q2313.96 288.903 2317.11 288.903 Z\" fill=\"#000000\" fill-rule=\"evenodd\" fill-opacity=\"1\" /><polyline clip-path=\"url(#clip420)\" style=\"stroke:#000000; stroke-width:4; stroke-opacity:1; fill:none\" points=\"\n",
       "  2232.76,1410.9 2232.76,1361.98 2256.76,1361.98 2232.76,1361.98 2232.76,1094.14 2256.76,1094.14 2232.76,1094.14 2232.76,826.299 2256.76,826.299 2232.76,826.299 \n",
       "  2232.76,558.461 2256.76,558.461 2232.76,558.461 2232.76,290.622 2256.76,290.622 2232.76,290.622 2232.76,47.2441 \n",
       "  \"/>\n",
       "</svg>\n"
      ]
     },
     "execution_count": 26,
     "metadata": {},
     "output_type": "execute_result"
    }
   ],
   "source": [
    "plot(self_tuning_svm_mach)"
   ]
  },
  {
   "cell_type": "code",
   "execution_count": 27,
   "metadata": {},
   "outputs": [
    {
     "data": {
      "text/plain": [
       "(best_model = \u001b[34mSVMClassifier @667\u001b[39m,\n",
       " best_fitted_params = (support = Int32[18, 94, 130, 156, 158, 178, 192, 193, 253, 262  …  321, 400, 31, 57, 82, 199, 234, 297, 331, 428],\n",
       "                       support_vectors = [2.0 2.0 1.0 4.0; 2.0 4.0 4.0 2.0; … ; 5.0 1.0 2.0 3.0; 1.0 4.0 5.0 1.0],\n",
       "                       n_support = Int32[18, 7, 8],\n",
       "                       dual_coef = [0.0 0.0 … -4723.578559351571 -2637.435373177888; 34972.13829424317 4367.650353374728 … -2831.9507510131443 -0.0],\n",
       "                       coef = nothing,\n",
       "                       intercept = [-28.191953024809585, 2.3735178195801114, -4.1772109533697],\n",
       "                       fit_status = 0,\n",
       "                       classes = UInt32[0x00000001, 0x00000002, 0x00000003],),)"
      ]
     },
     "execution_count": 27,
     "metadata": {},
     "output_type": "execute_result"
    }
   ],
   "source": [
    "best_rbf = fitted_params(self_tuning_svm_mach)\n",
    "best_rbf"
   ]
  },
  {
   "cell_type": "code",
   "execution_count": 28,
   "metadata": {},
   "outputs": [
    {
     "data": {
      "text/plain": [
       "SVMClassifier(\n",
       "    C = 8.3405026860002775e9,\n",
       "    kernel = \"rbf\",\n",
       "    degree = 3,\n",
       "    gamma = 0.0027825594022071257,\n",
       "    coef0 = 0.0,\n",
       "    shrinking = true,\n",
       "    tol = 0.001,\n",
       "    cache_size = 1000,\n",
       "    max_iter = -1,\n",
       "    decision_function_shape = \"ovr\",\n",
       "    random_state = nothing)\u001b[34m @667\u001b[39m"
      ]
     },
     "execution_count": 28,
     "metadata": {},
     "output_type": "execute_result"
    }
   ],
   "source": [
    "best_rbf.best_model"
   ]
  },
  {
   "cell_type": "code",
   "execution_count": 29,
   "metadata": {},
   "outputs": [
    {
     "data": {
      "text/plain": [
       "0.99087"
      ]
     },
     "execution_count": 29,
     "metadata": {},
     "output_type": "execute_result"
    }
   ],
   "source": [
    "best_loss = round(z.report.best_result.measurement[1],digits=5)"
   ]
  },
  {
   "cell_type": "code",
   "execution_count": 30,
   "metadata": {},
   "outputs": [],
   "source": [
    "# fn = \"Figures/LearningCurve_DT_merge_purity_thresh:$(best_mpt)_loss:$(best_loss)\"\n",
    "# png(replace(fn,'.' => ','))"
   ]
  },
  {
   "cell_type": "markdown",
   "metadata": {},
   "source": [
    "##### More fitting"
   ]
  },
  {
   "cell_type": "code",
   "execution_count": 31,
   "metadata": {
    "scrolled": true
   },
   "outputs": [
    {
     "name": "stderr",
     "output_type": "stream",
     "text": [
      "┌ Info: Training \u001b[34mMachine{SVMClassifier} @731\u001b[39m.\n",
      "└ @ MLJBase /home/andrew/.julia/packages/MLJBase/uKzAz/src/machines.jl:319\n",
      "\u001b[33mEvaluating over 6 folds: 100%[=========================] Time: 0:00:00\u001b[39m\n"
     ]
    },
    {
     "data": {
      "text/plain": [
       "┌\u001b[0m───────────\u001b[0m┬\u001b[0m───────────────\u001b[0m┬\u001b[0m────────────────────────────────────────────\u001b[0m┐\u001b[0m\n",
       "│\u001b[0m\u001b[22m _.measure \u001b[0m│\u001b[0m\u001b[22m _.measurement \u001b[0m│\u001b[0m\u001b[22m _.per_fold                                 \u001b[0m│\u001b[0m\n",
       "├\u001b[0m───────────\u001b[0m┼\u001b[0m───────────────\u001b[0m┼\u001b[0m────────────────────────────────────────────\u001b[0m┤\u001b[0m\n",
       "│\u001b[0m accuracy  \u001b[0m│\u001b[0m 0.917         \u001b[0m│\u001b[0m [0.924, 0.981, 0.913, 0.933, 0.923, 0.827] \u001b[0m│\u001b[0m\n",
       "└\u001b[0m───────────\u001b[0m┴\u001b[0m───────────────\u001b[0m┴\u001b[0m────────────────────────────────────────────\u001b[0m┘\u001b[0m\n",
       "_.per_observation = [missing]\n",
       "_.fitted_params_per_fold = [ … ]\n",
       "_.report_per_fold = [ … ]\n"
      ]
     },
     "execution_count": 31,
     "metadata": {},
     "output_type": "execute_result"
    }
   ],
   "source": [
    "best_linear_model = SVMClassifier(kernel=\"linear\", C = best_C)\n",
    "svm_mach = machine(best_linear_model, X, y)\n",
    "lf = fit!(svm_mach, rows=train, verbosity=2)\n",
    "svm_acc = evaluate!(svm_mach, resampling=CV(shuffle=true), measure=[accuracy], \n",
    "                        verbosity=1)"
   ]
  },
  {
   "cell_type": "code",
   "execution_count": 32,
   "metadata": {},
   "outputs": [
    {
     "name": "stderr",
     "output_type": "stream",
     "text": [
      "┌ Info: Training \u001b[34mMachine{SVMClassifier} @676\u001b[39m.\n",
      "└ @ MLJBase /home/andrew/.julia/packages/MLJBase/uKzAz/src/machines.jl:319\n",
      "\u001b[33mEvaluating over 6 folds: 100%[=========================] Time: 0:00:00\u001b[39m\n"
     ]
    },
    {
     "data": {
      "text/plain": [
       "┌\u001b[0m───────────\u001b[0m┬\u001b[0m───────────────\u001b[0m┬\u001b[0m──────────────────────────────────\u001b[0m┐\u001b[0m\n",
       "│\u001b[0m\u001b[22m _.measure \u001b[0m│\u001b[0m\u001b[22m _.measurement \u001b[0m│\u001b[0m\u001b[22m _.per_fold                       \u001b[0m│\u001b[0m\n",
       "├\u001b[0m───────────\u001b[0m┼\u001b[0m───────────────\u001b[0m┼\u001b[0m──────────────────────────────────\u001b[0m┤\u001b[0m\n",
       "│\u001b[0m accuracy  \u001b[0m│\u001b[0m 0.997         \u001b[0m│\u001b[0m [1.0, 1.0, 1.0, 1.0, 1.0, 0.981] \u001b[0m│\u001b[0m\n",
       "└\u001b[0m───────────\u001b[0m┴\u001b[0m───────────────\u001b[0m┴\u001b[0m──────────────────────────────────\u001b[0m┘\u001b[0m\n",
       "_.per_observation = [missing]\n",
       "_.fitted_params_per_fold = [ … ]\n",
       "_.report_per_fold = [ … ]\n"
      ]
     },
     "execution_count": 32,
     "metadata": {},
     "output_type": "execute_result"
    }
   ],
   "source": [
    "best_rbf_model = SVMClassifier(kernel=\"rbf\", C=best_rbf.best_model.C, gamma=best_rbf.best_model.gamma)\n",
    "svm_mach = machine(best_rbf_model, X, y)\n",
    "fit!(svm_mach, rows=train, verbosity=2)\n",
    "svm_acc = evaluate!(svm_mach, resampling=CV(shuffle=true), measure=[accuracy], \n",
    "                        verbosity=1)"
   ]
  },
  {
   "cell_type": "markdown",
   "metadata": {},
   "source": [
    "### Learning Curves"
   ]
  },
  {
   "cell_type": "code",
   "execution_count": 33,
   "metadata": {
    "scrolled": true
   },
   "outputs": [
    {
     "name": "stdout",
     "output_type": "stream",
     "text": [
      "(d, train_metric, valid_metric) = (10, 1.0, 0.7272727272727273)\n",
      "(d, train_metric, valid_metric) = (15, 0.9333333333333333, 0.7159090909090908)\n",
      "(d, train_metric, valid_metric) = (20, 0.95, 0.8068181818181819)\n",
      "(d, train_metric, valid_metric) = (25, 0.96, 0.7840909090909091)\n",
      "(d, train_metric, valid_metric) = (30, 0.9666666666666667, 0.7840909090909091)\n",
      "(d, train_metric, valid_metric) = (35, 0.8857142857142857, 0.8295454545454546)\n",
      "(d, train_metric, valid_metric) = (40, 0.9, 0.8295454545454546)\n",
      "(d, train_metric, valid_metric) = (45, 0.8888888888888888, 0.8181818181818181)\n",
      "(d, train_metric, valid_metric) = (50, 0.88, 0.7840909090909091)\n",
      "(d, train_metric, valid_metric) = (55, 0.9090909090909091, 0.8295454545454546)\n",
      "(d, train_metric, valid_metric) = (60, 0.9166666666666666, 0.8295454545454546)\n",
      "(d, train_metric, valid_metric) = (65, 0.9076923076923077, 0.8409090909090909)\n",
      "(d, train_metric, valid_metric) = (70, 0.9142857142857143, 0.8181818181818181)\n",
      "(d, train_metric, valid_metric) = (75, 0.92, 0.8295454545454546)\n",
      "(d, train_metric, valid_metric) = (80, 0.925, 0.8295454545454546)\n",
      "(d, train_metric, valid_metric) = (85, 0.9176470588235294, 0.8181818181818181)\n",
      "(d, train_metric, valid_metric) = (90, 0.9111111111111111, 0.8068181818181819)\n",
      "(d, train_metric, valid_metric) = (95, 0.9263157894736842, 0.8181818181818181)\n",
      "(d, train_metric, valid_metric) = (100, 0.92, 0.7954545454545454)\n",
      "(d, train_metric, valid_metric) = (105, 0.9333333333333333, 0.8181818181818181)\n",
      "(d, train_metric, valid_metric) = (110, 0.9363636363636364, 0.8295454545454546)\n",
      "(d, train_metric, valid_metric) = (115, 0.9565217391304348, 0.8522727272727273)\n",
      "(d, train_metric, valid_metric) = (120, 0.95, 0.8636363636363636)\n",
      "(d, train_metric, valid_metric) = (125, 0.9359999999999999, 0.8409090909090909)\n",
      "(d, train_metric, valid_metric) = (130, 0.9230769230769231, 0.8409090909090909)\n",
      "(d, train_metric, valid_metric) = (135, 0.8888888888888888, 0.8522727272727273)\n",
      "(d, train_metric, valid_metric) = (140, 0.9142857142857143, 0.875)\n",
      "(d, train_metric, valid_metric) = (145, 0.9310344827586207, 0.8522727272727273)\n",
      "(d, train_metric, valid_metric) = (150, 0.8933333333333333, 0.8522727272727273)\n",
      "(d, train_metric, valid_metric) = (155, 0.9290322580645162, 0.8295454545454546)\n",
      "(d, train_metric, valid_metric) = (160, 0.9, 0.875)\n",
      "(d, train_metric, valid_metric) = (165, 0.9393939393939394, 0.8181818181818181)\n",
      "(d, train_metric, valid_metric) = (170, 0.9058823529411765, 0.8636363636363636)\n",
      "(d, train_metric, valid_metric) = (175, 0.8971428571428571, 0.8522727272727273)\n",
      "(d, train_metric, valid_metric) = (180, 0.9055555555555556, 0.8522727272727273)\n",
      "(d, train_metric, valid_metric) = (185, 0.9135135135135135, 0.8636363636363636)\n",
      "(d, train_metric, valid_metric) = (190, 0.8947368421052632, 0.8636363636363636)\n",
      "(d, train_metric, valid_metric) = (195, 0.9025641025641026, 0.875)\n",
      "(d, train_metric, valid_metric) = (200, 0.91, 0.8863636363636364)\n",
      "(d, train_metric, valid_metric) = (205, 0.9121951219512195, 0.8522727272727273)\n",
      "(d, train_metric, valid_metric) = (210, 0.9047619047619048, 0.8295454545454546)\n",
      "(d, train_metric, valid_metric) = (215, 0.8976744186046511, 0.8181818181818181)\n",
      "(d, train_metric, valid_metric) = (220, 0.8863636363636364, 0.8522727272727273)\n",
      "(d, train_metric, valid_metric) = (225, 0.8933333333333333, 0.8409090909090909)\n",
      "(d, train_metric, valid_metric) = (230, 0.8913043478260869, 0.8409090909090909)\n",
      "(d, train_metric, valid_metric) = (235, 0.8978723404255319, 0.875)\n",
      "(d, train_metric, valid_metric) = (240, 0.8916666666666666, 0.8522727272727273)\n",
      "(d, train_metric, valid_metric) = (245, 0.889795918367347, 0.8522727272727273)\n",
      "(d, train_metric, valid_metric) = (250, 0.9, 0.8409090909090909)\n",
      "(d, train_metric, valid_metric) = (255, 0.8941176470588236, 0.8522727272727273)\n",
      "(d, train_metric, valid_metric) = (260, 0.9115384615384615, 0.8409090909090909)\n",
      "(d, train_metric, valid_metric) = (265, 0.8943396226415095, 0.8522727272727273)\n",
      "(d, train_metric, valid_metric) = (270, 0.9, 0.8522727272727273)\n",
      "(d, train_metric, valid_metric) = (275, 0.9018181818181819, 0.8409090909090909)\n",
      "(d, train_metric, valid_metric) = (280, 0.9, 0.8295454545454546)\n",
      "(d, train_metric, valid_metric) = (285, 0.9122807017543859, 0.8522727272727273)\n",
      "(d, train_metric, valid_metric) = (290, 0.903448275862069, 0.8295454545454546)\n",
      "(d, train_metric, valid_metric) = (295, 0.9050847457627118, 0.8863636363636364)\n",
      "(d, train_metric, valid_metric) = (300, 0.92, 0.9204545454545454)\n",
      "(d, train_metric, valid_metric) = (305, 0.921311475409836, 0.9204545454545454)\n",
      "(d, train_metric, valid_metric) = (310, 0.9225806451612903, 0.9204545454545454)\n",
      "(d, train_metric, valid_metric) = (315, 0.9238095238095239, 0.9204545454545454)\n",
      "(d, train_metric, valid_metric) = (320, 0.921875, 0.9204545454545454)\n",
      "(d, train_metric, valid_metric) = (325, 0.92, 0.9204545454545454)\n",
      "(d, train_metric, valid_metric) = (330, 0.9212121212121213, 0.9204545454545454)\n",
      "(d, train_metric, valid_metric) = (335, 0.9194029850746268, 0.9204545454545454)\n",
      "(d, train_metric, valid_metric) = (340, 0.9205882352941177, 0.9204545454545454)\n",
      "(d, train_metric, valid_metric) = (345, 0.9217391304347826, 0.9204545454545454)\n",
      "(d, train_metric, valid_metric) = (350, 0.9228571428571428, 0.9204545454545454)\n"
     ]
    },
    {
     "data": {
      "text/plain": [
       "(10:5:350, Any[1.0, 0.9333333333333333, 0.95, 0.96, 0.9666666666666667, 0.8857142857142857, 0.9, 0.8888888888888888, 0.88, 0.9090909090909091  …  0.921311475409836, 0.9225806451612903, 0.9238095238095239, 0.921875, 0.92, 0.9212121212121213, 0.9194029850746268, 0.9205882352941177, 0.9217391304347826, 0.9228571428571428], Any[0.7272727272727273, 0.7159090909090908, 0.8068181818181819, 0.7840909090909091, 0.7840909090909091, 0.8295454545454546, 0.8295454545454546, 0.8181818181818181, 0.7840909090909091, 0.8295454545454546  …  0.9204545454545454, 0.9204545454545454, 0.9204545454545454, 0.9204545454545454, 0.9204545454545454, 0.9204545454545454, 0.9204545454545454, 0.9204545454545454, 0.9204545454545454, 0.9204545454545454])"
      ]
     },
     "execution_count": 33,
     "metadata": {},
     "output_type": "execute_result"
    }
   ],
   "source": [
    "data_schedule, training_losses, valid_losses = learn_curve(best_linear_model, X[train,:], y[train])"
   ]
  },
  {
   "cell_type": "code",
   "execution_count": 34,
   "metadata": {
    "scrolled": false
   },
   "outputs": [
    {
     "data": {
      "image/svg+xml": [
       "<?xml version=\"1.0\" encoding=\"utf-8\"?>\n",
       "<svg xmlns=\"http://www.w3.org/2000/svg\" xmlns:xlink=\"http://www.w3.org/1999/xlink\" width=\"600\" height=\"400\" viewBox=\"0 0 2400 1600\">\n",
       "<defs>\n",
       "  <clipPath id=\"clip460\">\n",
       "    <rect x=\"0\" y=\"0\" width=\"2400\" height=\"1600\"/>\n",
       "  </clipPath>\n",
       "</defs>\n",
       "<path clip-path=\"url(#clip460)\" d=\"\n",
       "M0 1600 L2400 1600 L2400 0 L0 0  Z\n",
       "  \" fill=\"#ffffff\" fill-rule=\"evenodd\" fill-opacity=\"1\"/>\n",
       "<defs>\n",
       "  <clipPath id=\"clip461\">\n",
       "    <rect x=\"480\" y=\"0\" width=\"1681\" height=\"1600\"/>\n",
       "  </clipPath>\n",
       "</defs>\n",
       "<path clip-path=\"url(#clip460)\" d=\"\n",
       "M174.769 1486.45 L2352.76 1486.45 L2352.76 47.2441 L174.769 47.2441  Z\n",
       "  \" fill=\"#ffffff\" fill-rule=\"evenodd\" fill-opacity=\"1\"/>\n",
       "<defs>\n",
       "  <clipPath id=\"clip462\">\n",
       "    <rect x=\"174\" y=\"47\" width=\"2179\" height=\"1440\"/>\n",
       "  </clipPath>\n",
       "</defs>\n",
       "<polyline clip-path=\"url(#clip462)\" style=\"stroke:#000000; stroke-width:2; stroke-opacity:0.1; fill:none\" points=\"\n",
       "  175.978,1486.45 175.978,47.2441 \n",
       "  \"/>\n",
       "<polyline clip-path=\"url(#clip462)\" style=\"stroke:#000000; stroke-width:2; stroke-opacity:0.1; fill:none\" points=\"\n",
       "  780.303,1486.45 780.303,47.2441 \n",
       "  \"/>\n",
       "<polyline clip-path=\"url(#clip462)\" style=\"stroke:#000000; stroke-width:2; stroke-opacity:0.1; fill:none\" points=\"\n",
       "  1384.63,1486.45 1384.63,47.2441 \n",
       "  \"/>\n",
       "<polyline clip-path=\"url(#clip462)\" style=\"stroke:#000000; stroke-width:2; stroke-opacity:0.1; fill:none\" points=\"\n",
       "  1988.95,1486.45 1988.95,47.2441 \n",
       "  \"/>\n",
       "<polyline clip-path=\"url(#clip462)\" style=\"stroke:#000000; stroke-width:2; stroke-opacity:0.1; fill:none\" points=\"\n",
       "  174.769,1282.79 2352.76,1282.79 \n",
       "  \"/>\n",
       "<polyline clip-path=\"url(#clip462)\" style=\"stroke:#000000; stroke-width:2; stroke-opacity:0.1; fill:none\" points=\"\n",
       "  174.769,1043.82 2352.76,1043.82 \n",
       "  \"/>\n",
       "<polyline clip-path=\"url(#clip462)\" style=\"stroke:#000000; stroke-width:2; stroke-opacity:0.1; fill:none\" points=\"\n",
       "  174.769,804.863 2352.76,804.863 \n",
       "  \"/>\n",
       "<polyline clip-path=\"url(#clip462)\" style=\"stroke:#000000; stroke-width:2; stroke-opacity:0.1; fill:none\" points=\"\n",
       "  174.769,565.901 2352.76,565.901 \n",
       "  \"/>\n",
       "<polyline clip-path=\"url(#clip462)\" style=\"stroke:#000000; stroke-width:2; stroke-opacity:0.1; fill:none\" points=\"\n",
       "  174.769,326.938 2352.76,326.938 \n",
       "  \"/>\n",
       "<polyline clip-path=\"url(#clip462)\" style=\"stroke:#000000; stroke-width:2; stroke-opacity:0.1; fill:none\" points=\"\n",
       "  174.769,87.9763 2352.76,87.9763 \n",
       "  \"/>\n",
       "<polyline clip-path=\"url(#clip460)\" style=\"stroke:#000000; stroke-width:4; stroke-opacity:1; fill:none\" points=\"\n",
       "  174.769,1486.45 2352.76,1486.45 \n",
       "  \"/>\n",
       "<polyline clip-path=\"url(#clip460)\" style=\"stroke:#000000; stroke-width:4; stroke-opacity:1; fill:none\" points=\"\n",
       "  174.769,1486.45 174.769,47.2441 \n",
       "  \"/>\n",
       "<polyline clip-path=\"url(#clip460)\" style=\"stroke:#000000; stroke-width:4; stroke-opacity:1; fill:none\" points=\"\n",
       "  175.978,1486.45 175.978,1469.18 \n",
       "  \"/>\n",
       "<polyline clip-path=\"url(#clip460)\" style=\"stroke:#000000; stroke-width:4; stroke-opacity:1; fill:none\" points=\"\n",
       "  780.303,1486.45 780.303,1469.18 \n",
       "  \"/>\n",
       "<polyline clip-path=\"url(#clip460)\" style=\"stroke:#000000; stroke-width:4; stroke-opacity:1; fill:none\" points=\"\n",
       "  1384.63,1486.45 1384.63,1469.18 \n",
       "  \"/>\n",
       "<polyline clip-path=\"url(#clip460)\" style=\"stroke:#000000; stroke-width:4; stroke-opacity:1; fill:none\" points=\"\n",
       "  1988.95,1486.45 1988.95,1469.18 \n",
       "  \"/>\n",
       "<polyline clip-path=\"url(#clip460)\" style=\"stroke:#000000; stroke-width:4; stroke-opacity:1; fill:none\" points=\"\n",
       "  174.769,1282.79 200.905,1282.79 \n",
       "  \"/>\n",
       "<polyline clip-path=\"url(#clip460)\" style=\"stroke:#000000; stroke-width:4; stroke-opacity:1; fill:none\" points=\"\n",
       "  174.769,1043.82 200.905,1043.82 \n",
       "  \"/>\n",
       "<polyline clip-path=\"url(#clip460)\" style=\"stroke:#000000; stroke-width:4; stroke-opacity:1; fill:none\" points=\"\n",
       "  174.769,804.863 200.905,804.863 \n",
       "  \"/>\n",
       "<polyline clip-path=\"url(#clip460)\" style=\"stroke:#000000; stroke-width:4; stroke-opacity:1; fill:none\" points=\"\n",
       "  174.769,565.901 200.905,565.901 \n",
       "  \"/>\n",
       "<polyline clip-path=\"url(#clip460)\" style=\"stroke:#000000; stroke-width:4; stroke-opacity:1; fill:none\" points=\"\n",
       "  174.769,326.938 200.905,326.938 \n",
       "  \"/>\n",
       "<polyline clip-path=\"url(#clip460)\" style=\"stroke:#000000; stroke-width:4; stroke-opacity:1; fill:none\" points=\"\n",
       "  174.769,87.9763 200.905,87.9763 \n",
       "  \"/>\n",
       "<path clip-path=\"url(#clip460)\" d=\"M 0 0 M175.978 1508.44 Q172.367 1508.44 170.538 1512 Q168.733 1515.55 168.733 1522.67 Q168.733 1529.78 170.538 1533.35 Q172.367 1536.89 175.978 1536.89 Q179.612 1536.89 181.418 1533.35 Q183.247 1529.78 183.247 1522.67 Q183.247 1515.55 181.418 1512 Q179.612 1508.44 175.978 1508.44 M175.978 1504.73 Q181.788 1504.73 184.844 1509.34 Q187.922 1513.92 187.922 1522.67 Q187.922 1531.4 184.844 1536.01 Q181.788 1540.59 175.978 1540.59 Q170.168 1540.59 167.089 1536.01 Q164.034 1531.4 164.034 1522.67 Q164.034 1513.92 167.089 1509.34 Q170.168 1504.73 175.978 1504.73 Z\" fill=\"#000000\" fill-rule=\"evenodd\" fill-opacity=\"1\" /><path clip-path=\"url(#clip460)\" d=\"M 0 0 M743.671 1535.98 L751.31 1535.98 L751.31 1509.62 L743 1511.29 L743 1507.03 L751.264 1505.36 L755.94 1505.36 L755.94 1535.98 L763.578 1535.98 L763.578 1539.92 L743.671 1539.92 L743.671 1535.98 Z\" fill=\"#000000\" fill-rule=\"evenodd\" fill-opacity=\"1\" /><path clip-path=\"url(#clip460)\" d=\"M 0 0 M778.648 1508.44 Q775.037 1508.44 773.208 1512 Q771.402 1515.55 771.402 1522.67 Q771.402 1529.78 773.208 1533.35 Q775.037 1536.89 778.648 1536.89 Q782.282 1536.89 784.088 1533.35 Q785.916 1529.78 785.916 1522.67 Q785.916 1515.55 784.088 1512 Q782.282 1508.44 778.648 1508.44 M778.648 1504.73 Q784.458 1504.73 787.513 1509.34 Q790.592 1513.92 790.592 1522.67 Q790.592 1531.4 787.513 1536.01 Q784.458 1540.59 778.648 1540.59 Q772.838 1540.59 769.759 1536.01 Q766.703 1531.4 766.703 1522.67 Q766.703 1513.92 769.759 1509.34 Q772.838 1504.73 778.648 1504.73 Z\" fill=\"#000000\" fill-rule=\"evenodd\" fill-opacity=\"1\" /><path clip-path=\"url(#clip460)\" d=\"M 0 0 M805.662 1508.44 Q802.05 1508.44 800.222 1512 Q798.416 1515.55 798.416 1522.67 Q798.416 1529.78 800.222 1533.35 Q802.05 1536.89 805.662 1536.89 Q809.296 1536.89 811.101 1533.35 Q812.93 1529.78 812.93 1522.67 Q812.93 1515.55 811.101 1512 Q809.296 1508.44 805.662 1508.44 M805.662 1504.73 Q811.472 1504.73 814.527 1509.34 Q817.606 1513.92 817.606 1522.67 Q817.606 1531.4 814.527 1536.01 Q811.472 1540.59 805.662 1540.59 Q799.851 1540.59 796.773 1536.01 Q793.717 1531.4 793.717 1522.67 Q793.717 1513.92 796.773 1509.34 Q799.851 1504.73 805.662 1504.73 Z\" fill=\"#000000\" fill-rule=\"evenodd\" fill-opacity=\"1\" /><path clip-path=\"url(#clip460)\" d=\"M 0 0 M1352.27 1535.98 L1368.59 1535.98 L1368.59 1539.92 L1346.64 1539.92 L1346.64 1535.98 Q1349.3 1533.23 1353.89 1528.6 Q1358.49 1523.95 1359.67 1522.61 Q1361.92 1520.08 1362.8 1518.35 Q1363.7 1516.59 1363.7 1514.9 Q1363.7 1512.14 1361.76 1510.41 Q1359.84 1508.67 1356.73 1508.67 Q1354.54 1508.67 1352.08 1509.43 Q1349.65 1510.2 1346.87 1511.75 L1346.87 1507.03 Q1349.7 1505.89 1352.15 1505.31 Q1354.6 1504.73 1356.64 1504.73 Q1362.01 1504.73 1365.21 1507.42 Q1368.4 1510.11 1368.4 1514.6 Q1368.4 1516.73 1367.59 1518.65 Q1366.8 1520.54 1364.7 1523.14 Q1364.12 1523.81 1361.02 1527.03 Q1357.91 1530.22 1352.27 1535.98 Z\" fill=\"#000000\" fill-rule=\"evenodd\" fill-opacity=\"1\" /><path clip-path=\"url(#clip460)\" d=\"M 0 0 M1383.66 1508.44 Q1380.04 1508.44 1378.22 1512 Q1376.41 1515.55 1376.41 1522.67 Q1376.41 1529.78 1378.22 1533.35 Q1380.04 1536.89 1383.66 1536.89 Q1387.29 1536.89 1389.1 1533.35 Q1390.92 1529.78 1390.92 1522.67 Q1390.92 1515.55 1389.1 1512 Q1387.29 1508.44 1383.66 1508.44 M1383.66 1504.73 Q1389.47 1504.73 1392.52 1509.34 Q1395.6 1513.92 1395.6 1522.67 Q1395.6 1531.4 1392.52 1536.01 Q1389.47 1540.59 1383.66 1540.59 Q1377.85 1540.59 1374.77 1536.01 Q1371.71 1531.4 1371.71 1522.67 Q1371.71 1513.92 1374.77 1509.34 Q1377.85 1504.73 1383.66 1504.73 Z\" fill=\"#000000\" fill-rule=\"evenodd\" fill-opacity=\"1\" /><path clip-path=\"url(#clip460)\" d=\"M 0 0 M1410.67 1508.44 Q1407.06 1508.44 1405.23 1512 Q1403.42 1515.55 1403.42 1522.67 Q1403.42 1529.78 1405.23 1533.35 Q1407.06 1536.89 1410.67 1536.89 Q1414.3 1536.89 1416.11 1533.35 Q1417.94 1529.78 1417.94 1522.67 Q1417.94 1515.55 1416.11 1512 Q1414.3 1508.44 1410.67 1508.44 M1410.67 1504.73 Q1416.48 1504.73 1419.53 1509.34 Q1422.61 1513.92 1422.61 1522.67 Q1422.61 1531.4 1419.53 1536.01 Q1416.48 1540.59 1410.67 1540.59 Q1404.86 1540.59 1401.78 1536.01 Q1398.72 1531.4 1398.72 1522.67 Q1398.72 1513.92 1401.78 1509.34 Q1404.86 1504.73 1410.67 1504.73 Z\" fill=\"#000000\" fill-rule=\"evenodd\" fill-opacity=\"1\" /><path clip-path=\"url(#clip460)\" d=\"M 0 0 M1966.19 1521.29 Q1969.54 1522 1971.42 1524.27 Q1973.32 1526.54 1973.32 1529.87 Q1973.32 1534.99 1969.8 1537.79 Q1966.28 1540.59 1959.8 1540.59 Q1957.62 1540.59 1955.31 1540.15 Q1953.02 1539.73 1950.56 1538.88 L1950.56 1534.36 Q1952.51 1535.5 1954.82 1536.08 Q1957.14 1536.66 1959.66 1536.66 Q1964.06 1536.66 1966.35 1534.92 Q1968.66 1533.18 1968.66 1529.87 Q1968.66 1526.82 1966.51 1525.11 Q1964.38 1523.37 1960.56 1523.37 L1956.53 1523.37 L1956.53 1519.53 L1960.75 1519.53 Q1964.2 1519.53 1966.02 1518.16 Q1967.85 1516.77 1967.85 1514.18 Q1967.85 1511.52 1965.95 1510.11 Q1964.08 1508.67 1960.56 1508.67 Q1958.64 1508.67 1956.44 1509.09 Q1954.24 1509.5 1951.6 1510.38 L1951.6 1506.22 Q1954.27 1505.48 1956.58 1505.11 Q1958.92 1504.73 1960.98 1504.73 Q1966.3 1504.73 1969.4 1507.17 Q1972.51 1509.57 1972.51 1513.69 Q1972.51 1516.56 1970.86 1518.55 Q1969.22 1520.52 1966.19 1521.29 Z\" fill=\"#000000\" fill-rule=\"evenodd\" fill-opacity=\"1\" /><path clip-path=\"url(#clip460)\" d=\"M 0 0 M1988.39 1508.44 Q1984.77 1508.44 1982.95 1512 Q1981.14 1515.55 1981.14 1522.67 Q1981.14 1529.78 1982.95 1533.35 Q1984.77 1536.89 1988.39 1536.89 Q1992.02 1536.89 1993.83 1533.35 Q1995.65 1529.78 1995.65 1522.67 Q1995.65 1515.55 1993.83 1512 Q1992.02 1508.44 1988.39 1508.44 M1988.39 1504.73 Q1994.2 1504.73 1997.25 1509.34 Q2000.33 1513.92 2000.33 1522.67 Q2000.33 1531.4 1997.25 1536.01 Q1994.2 1540.59 1988.39 1540.59 Q1982.58 1540.59 1979.5 1536.01 Q1976.44 1531.4 1976.44 1522.67 Q1976.44 1513.92 1979.5 1509.34 Q1982.58 1504.73 1988.39 1504.73 Z\" fill=\"#000000\" fill-rule=\"evenodd\" fill-opacity=\"1\" /><path clip-path=\"url(#clip460)\" d=\"M 0 0 M2015.4 1508.44 Q2011.79 1508.44 2009.96 1512 Q2008.15 1515.55 2008.15 1522.67 Q2008.15 1529.78 2009.96 1533.35 Q2011.79 1536.89 2015.4 1536.89 Q2019.03 1536.89 2020.84 1533.35 Q2022.67 1529.78 2022.67 1522.67 Q2022.67 1515.55 2020.84 1512 Q2019.03 1508.44 2015.4 1508.44 M2015.4 1504.73 Q2021.21 1504.73 2024.26 1509.34 Q2027.34 1513.92 2027.34 1522.67 Q2027.34 1531.4 2024.26 1536.01 Q2021.21 1540.59 2015.4 1540.59 Q2009.59 1540.59 2006.51 1536.01 Q2003.45 1531.4 2003.45 1522.67 Q2003.45 1513.92 2006.51 1509.34 Q2009.59 1504.73 2015.4 1504.73 Z\" fill=\"#000000\" fill-rule=\"evenodd\" fill-opacity=\"1\" /><path clip-path=\"url(#clip460)\" d=\"M 0 0 M76.7421 1268.59 Q73.131 1268.59 71.3023 1272.15 Q69.4967 1275.69 69.4967 1282.82 Q69.4967 1289.93 71.3023 1293.49 Q73.131 1297.03 76.7421 1297.03 Q80.3763 1297.03 82.1818 1293.49 Q84.0105 1289.93 84.0105 1282.82 Q84.0105 1275.69 82.1818 1272.15 Q80.3763 1268.59 76.7421 1268.59 M76.7421 1264.88 Q82.5522 1264.88 85.6077 1269.49 Q88.6864 1274.07 88.6864 1282.82 Q88.6864 1291.55 85.6077 1296.15 Q82.5522 1300.74 76.7421 1300.74 Q70.9319 1300.74 67.8532 1296.15 Q64.7977 1291.55 64.7977 1282.82 Q64.7977 1274.07 67.8532 1269.49 Q70.9319 1264.88 76.7421 1264.88 Z\" fill=\"#000000\" fill-rule=\"evenodd\" fill-opacity=\"1\" /><path clip-path=\"url(#clip460)\" d=\"M 0 0 M93.7559 1294.19 L98.6401 1294.19 L98.6401 1300.07 L93.7559 1300.07 L93.7559 1294.19 Z\" fill=\"#000000\" fill-rule=\"evenodd\" fill-opacity=\"1\" /><path clip-path=\"url(#clip460)\" d=\"M 0 0 M102.529 1265.51 L124.751 1265.51 L124.751 1267.5 L112.205 1300.07 L107.321 1300.07 L119.126 1269.44 L102.529 1269.44 L102.529 1265.51 Z\" fill=\"#000000\" fill-rule=\"evenodd\" fill-opacity=\"1\" /><path clip-path=\"url(#clip460)\" d=\"M 0 0 M129.867 1265.51 L148.223 1265.51 L148.223 1269.44 L134.149 1269.44 L134.149 1277.91 Q135.168 1277.57 136.186 1277.41 Q137.205 1277.22 138.223 1277.22 Q144.01 1277.22 147.39 1280.39 Q150.769 1283.56 150.769 1288.98 Q150.769 1294.56 147.297 1297.66 Q143.825 1300.74 137.506 1300.74 Q135.33 1300.74 133.061 1300.37 Q130.816 1300 128.408 1299.26 L128.408 1294.56 Q130.492 1295.69 132.714 1296.25 Q134.936 1296.8 137.413 1296.8 Q141.418 1296.8 143.756 1294.7 Q146.094 1292.59 146.094 1288.98 Q146.094 1285.37 143.756 1283.26 Q141.418 1281.16 137.413 1281.16 Q135.538 1281.16 133.663 1281.57 Q131.811 1281.99 129.867 1282.87 L129.867 1265.51 Z\" fill=\"#000000\" fill-rule=\"evenodd\" fill-opacity=\"1\" /><path clip-path=\"url(#clip460)\" d=\"M 0 0 M74.9365 1029.62 Q71.3254 1029.62 69.4967 1033.19 Q67.6912 1036.73 67.6912 1043.86 Q67.6912 1050.97 69.4967 1054.53 Q71.3254 1058.07 74.9365 1058.07 Q78.5707 1058.07 80.3763 1054.53 Q82.205 1050.97 82.205 1043.86 Q82.205 1036.73 80.3763 1033.19 Q78.5707 1029.62 74.9365 1029.62 M74.9365 1025.92 Q80.7467 1025.92 83.8022 1030.53 Q86.8809 1035.11 86.8809 1043.86 Q86.8809 1052.59 83.8022 1057.19 Q80.7467 1061.78 74.9365 1061.78 Q69.1264 1061.78 66.0477 1057.19 Q62.9921 1052.59 62.9921 1043.86 Q62.9921 1035.11 66.0477 1030.53 Q69.1264 1025.92 74.9365 1025.92 Z\" fill=\"#000000\" fill-rule=\"evenodd\" fill-opacity=\"1\" /><path clip-path=\"url(#clip460)\" d=\"M 0 0 M91.9503 1055.23 L96.8345 1055.23 L96.8345 1061.1 L91.9503 1061.1 L91.9503 1055.23 Z\" fill=\"#000000\" fill-rule=\"evenodd\" fill-opacity=\"1\" /><path clip-path=\"url(#clip460)\" d=\"M 0 0 M111.904 1044.69 Q108.571 1044.69 106.649 1046.48 Q104.751 1048.26 104.751 1051.38 Q104.751 1054.51 106.649 1056.29 Q108.571 1058.07 111.904 1058.07 Q115.237 1058.07 117.159 1056.29 Q119.08 1054.48 119.08 1051.38 Q119.08 1048.26 117.159 1046.48 Q115.26 1044.69 111.904 1044.69 M107.228 1042.7 Q104.219 1041.96 102.529 1039.9 Q100.862 1037.84 100.862 1034.88 Q100.862 1030.73 103.802 1028.33 Q106.765 1025.92 111.904 1025.92 Q117.066 1025.92 120.006 1028.33 Q122.946 1030.73 122.946 1034.88 Q122.946 1037.84 121.256 1039.9 Q119.589 1041.96 116.603 1042.7 Q119.983 1043.49 121.858 1045.78 Q123.756 1048.07 123.756 1051.38 Q123.756 1056.41 120.677 1059.09 Q117.621 1061.78 111.904 1061.78 Q106.186 1061.78 103.108 1059.09 Q100.052 1056.41 100.052 1051.38 Q100.052 1048.07 101.95 1045.78 Q103.848 1043.49 107.228 1042.7 M105.515 1035.32 Q105.515 1038 107.182 1039.51 Q108.872 1041.01 111.904 1041.01 Q114.913 1041.01 116.603 1039.51 Q118.316 1038 118.316 1035.32 Q118.316 1032.63 116.603 1031.13 Q114.913 1029.62 111.904 1029.62 Q108.872 1029.62 107.182 1031.13 Q105.515 1032.63 105.515 1035.32 Z\" fill=\"#000000\" fill-rule=\"evenodd\" fill-opacity=\"1\" /><path clip-path=\"url(#clip460)\" d=\"M 0 0 M138.825 1029.62 Q135.214 1029.62 133.385 1033.19 Q131.58 1036.73 131.58 1043.86 Q131.58 1050.97 133.385 1054.53 Q135.214 1058.07 138.825 1058.07 Q142.459 1058.07 144.265 1054.53 Q146.094 1050.97 146.094 1043.86 Q146.094 1036.73 144.265 1033.19 Q142.459 1029.62 138.825 1029.62 M138.825 1025.92 Q144.635 1025.92 147.691 1030.53 Q150.769 1035.11 150.769 1043.86 Q150.769 1052.59 147.691 1057.19 Q144.635 1061.78 138.825 1061.78 Q133.015 1061.78 129.936 1057.19 Q126.881 1052.59 126.881 1043.86 Q126.881 1035.11 129.936 1030.53 Q133.015 1025.92 138.825 1025.92 Z\" fill=\"#000000\" fill-rule=\"evenodd\" fill-opacity=\"1\" /><path clip-path=\"url(#clip460)\" d=\"M 0 0 M75.9319 790.661 Q72.3208 790.661 70.4921 794.226 Q68.6865 797.768 68.6865 804.897 Q68.6865 812.004 70.4921 815.569 Q72.3208 819.11 75.9319 819.11 Q79.5661 819.11 81.3717 815.569 Q83.2004 812.004 83.2004 804.897 Q83.2004 797.768 81.3717 794.226 Q79.5661 790.661 75.9319 790.661 M75.9319 786.958 Q81.742 786.958 84.7976 791.564 Q87.8763 796.147 87.8763 804.897 Q87.8763 813.624 84.7976 818.231 Q81.742 822.814 75.9319 822.814 Q70.1217 822.814 67.043 818.231 Q63.9875 813.624 63.9875 804.897 Q63.9875 796.147 67.043 791.564 Q70.1217 786.958 75.9319 786.958 Z\" fill=\"#000000\" fill-rule=\"evenodd\" fill-opacity=\"1\" /><path clip-path=\"url(#clip460)\" d=\"M 0 0 M92.9457 816.263 L97.8299 816.263 L97.8299 822.143 L92.9457 822.143 L92.9457 816.263 Z\" fill=\"#000000\" fill-rule=\"evenodd\" fill-opacity=\"1\" /><path clip-path=\"url(#clip460)\" d=\"M 0 0 M112.899 805.731 Q109.566 805.731 107.645 807.513 Q105.747 809.296 105.747 812.421 Q105.747 815.546 107.645 817.328 Q109.566 819.11 112.899 819.11 Q116.233 819.11 118.154 817.328 Q120.075 815.522 120.075 812.421 Q120.075 809.296 118.154 807.513 Q116.256 805.731 112.899 805.731 M108.223 803.74 Q105.214 802.999 103.524 800.939 Q101.858 798.879 101.858 795.916 Q101.858 791.772 104.797 789.365 Q107.76 786.958 112.899 786.958 Q118.061 786.958 121.001 789.365 Q123.941 791.772 123.941 795.916 Q123.941 798.879 122.251 800.939 Q120.584 802.999 117.598 803.74 Q120.978 804.527 122.853 806.819 Q124.751 809.11 124.751 812.421 Q124.751 817.444 121.672 820.129 Q118.617 822.814 112.899 822.814 Q107.182 822.814 104.103 820.129 Q101.047 817.444 101.047 812.421 Q101.047 809.11 102.946 806.819 Q104.844 804.527 108.223 803.74 M106.51 796.356 Q106.51 799.041 108.177 800.546 Q109.867 802.05 112.899 802.05 Q115.909 802.05 117.598 800.546 Q119.311 799.041 119.311 796.356 Q119.311 793.671 117.598 792.166 Q115.909 790.661 112.899 790.661 Q109.867 790.661 108.177 792.166 Q106.51 793.671 106.51 796.356 Z\" fill=\"#000000\" fill-rule=\"evenodd\" fill-opacity=\"1\" /><path clip-path=\"url(#clip460)\" d=\"M 0 0 M129.867 787.583 L148.223 787.583 L148.223 791.518 L134.149 791.518 L134.149 799.99 Q135.168 799.643 136.186 799.481 Q137.205 799.296 138.223 799.296 Q144.01 799.296 147.39 802.467 Q150.769 805.638 150.769 811.055 Q150.769 816.633 147.297 819.735 Q143.825 822.814 137.506 822.814 Q135.33 822.814 133.061 822.444 Q130.816 822.073 128.408 821.333 L128.408 816.633 Q130.492 817.768 132.714 818.323 Q134.936 818.879 137.413 818.879 Q141.418 818.879 143.756 816.772 Q146.094 814.666 146.094 811.055 Q146.094 807.444 143.756 805.337 Q141.418 803.231 137.413 803.231 Q135.538 803.231 133.663 803.647 Q131.811 804.064 129.867 804.944 L129.867 787.583 Z\" fill=\"#000000\" fill-rule=\"evenodd\" fill-opacity=\"1\" /><path clip-path=\"url(#clip460)\" d=\"M 0 0 M75.0291 551.699 Q71.418 551.699 69.5893 555.264 Q67.7838 558.806 67.7838 565.935 Q67.7838 573.042 69.5893 576.607 Q71.418 580.148 75.0291 580.148 Q78.6633 580.148 80.4689 576.607 Q82.2976 573.042 82.2976 565.935 Q82.2976 558.806 80.4689 555.264 Q78.6633 551.699 75.0291 551.699 M75.0291 547.996 Q80.8393 547.996 83.8948 552.602 Q86.9735 557.185 86.9735 565.935 Q86.9735 574.662 83.8948 579.269 Q80.8393 583.852 75.0291 583.852 Q69.2189 583.852 66.1403 579.269 Q63.0847 574.662 63.0847 565.935 Q63.0847 557.185 66.1403 552.602 Q69.2189 547.996 75.0291 547.996 Z\" fill=\"#000000\" fill-rule=\"evenodd\" fill-opacity=\"1\" /><path clip-path=\"url(#clip460)\" d=\"M 0 0 M92.0429 577.301 L96.9271 577.301 L96.9271 583.181 L92.0429 583.181 L92.0429 577.301 Z\" fill=\"#000000\" fill-rule=\"evenodd\" fill-opacity=\"1\" /><path clip-path=\"url(#clip460)\" d=\"M 0 0 M102.135 582.463 L102.135 578.204 Q103.895 579.037 105.7 579.477 Q107.506 579.917 109.242 579.917 Q113.871 579.917 116.302 576.815 Q118.756 573.69 119.103 567.347 Q117.76 569.338 115.7 570.403 Q113.64 571.468 111.14 571.468 Q105.955 571.468 102.922 568.343 Q99.9132 565.195 99.9132 559.755 Q99.9132 554.431 103.061 551.213 Q106.209 547.996 111.441 547.996 Q117.436 547.996 120.584 552.602 Q123.756 557.185 123.756 565.935 Q123.756 574.107 119.867 578.991 Q116.001 583.852 109.45 583.852 Q107.691 583.852 105.885 583.505 Q104.08 583.157 102.135 582.463 M111.441 567.81 Q114.589 567.81 116.418 565.657 Q118.27 563.505 118.27 559.755 Q118.27 556.028 116.418 553.875 Q114.589 551.699 111.441 551.699 Q108.293 551.699 106.441 553.875 Q104.612 556.028 104.612 559.755 Q104.612 563.505 106.441 565.657 Q108.293 567.81 111.441 567.81 Z\" fill=\"#000000\" fill-rule=\"evenodd\" fill-opacity=\"1\" /><path clip-path=\"url(#clip460)\" d=\"M 0 0 M138.825 551.699 Q135.214 551.699 133.385 555.264 Q131.58 558.806 131.58 565.935 Q131.58 573.042 133.385 576.607 Q135.214 580.148 138.825 580.148 Q142.459 580.148 144.265 576.607 Q146.094 573.042 146.094 565.935 Q146.094 558.806 144.265 555.264 Q142.459 551.699 138.825 551.699 M138.825 547.996 Q144.635 547.996 147.691 552.602 Q150.769 557.185 150.769 565.935 Q150.769 574.662 147.691 579.269 Q144.635 583.852 138.825 583.852 Q133.015 583.852 129.936 579.269 Q126.881 574.662 126.881 565.935 Q126.881 557.185 129.936 552.602 Q133.015 547.996 138.825 547.996 Z\" fill=\"#000000\" fill-rule=\"evenodd\" fill-opacity=\"1\" /><path clip-path=\"url(#clip460)\" d=\"M 0 0 M76.0245 312.737 Q72.4134 312.737 70.5847 316.302 Q68.7791 319.844 68.7791 326.973 Q68.7791 334.08 70.5847 337.644 Q72.4134 341.186 76.0245 341.186 Q79.6587 341.186 81.4642 337.644 Q83.2929 334.08 83.2929 326.973 Q83.2929 319.844 81.4642 316.302 Q79.6587 312.737 76.0245 312.737 M76.0245 309.033 Q81.8346 309.033 84.8902 313.64 Q87.9688 318.223 87.9688 326.973 Q87.9688 335.7 84.8902 340.306 Q81.8346 344.89 76.0245 344.89 Q70.2143 344.89 67.1356 340.306 Q64.0801 335.7 64.0801 326.973 Q64.0801 318.223 67.1356 313.64 Q70.2143 309.033 76.0245 309.033 Z\" fill=\"#000000\" fill-rule=\"evenodd\" fill-opacity=\"1\" /><path clip-path=\"url(#clip460)\" d=\"M 0 0 M93.0383 338.339 L97.9225 338.339 L97.9225 344.218 L93.0383 344.218 L93.0383 338.339 Z\" fill=\"#000000\" fill-rule=\"evenodd\" fill-opacity=\"1\" /><path clip-path=\"url(#clip460)\" d=\"M 0 0 M103.131 343.501 L103.131 339.242 Q104.89 340.075 106.696 340.515 Q108.501 340.955 110.237 340.955 Q114.867 340.955 117.297 337.853 Q119.751 334.728 120.098 328.385 Q118.756 330.376 116.696 331.441 Q114.635 332.506 112.135 332.506 Q106.95 332.506 103.918 329.381 Q100.909 326.232 100.909 320.793 Q100.909 315.469 104.057 312.251 Q107.205 309.033 112.436 309.033 Q118.432 309.033 121.58 313.64 Q124.751 318.223 124.751 326.973 Q124.751 335.144 120.862 340.029 Q116.996 344.89 110.446 344.89 Q108.686 344.89 106.881 344.542 Q105.075 344.195 103.131 343.501 M112.436 328.848 Q115.584 328.848 117.413 326.695 Q119.265 324.543 119.265 320.793 Q119.265 317.066 117.413 314.913 Q115.584 312.737 112.436 312.737 Q109.288 312.737 107.436 314.913 Q105.608 317.066 105.608 320.793 Q105.608 324.543 107.436 326.695 Q109.288 328.848 112.436 328.848 Z\" fill=\"#000000\" fill-rule=\"evenodd\" fill-opacity=\"1\" /><path clip-path=\"url(#clip460)\" d=\"M 0 0 M129.867 309.658 L148.223 309.658 L148.223 313.594 L134.149 313.594 L134.149 322.066 Q135.168 321.719 136.186 321.556 Q137.205 321.371 138.223 321.371 Q144.01 321.371 147.39 324.543 Q150.769 327.714 150.769 333.131 Q150.769 338.709 147.297 341.811 Q143.825 344.89 137.506 344.89 Q135.33 344.89 133.061 344.519 Q130.816 344.149 128.408 343.408 L128.408 338.709 Q130.492 339.843 132.714 340.399 Q134.936 340.955 137.413 340.955 Q141.418 340.955 143.756 338.848 Q146.094 336.742 146.094 333.131 Q146.094 329.519 143.756 327.413 Q141.418 325.306 137.413 325.306 Q135.538 325.306 133.663 325.723 Q131.811 326.14 129.867 327.019 L129.867 309.658 Z\" fill=\"#000000\" fill-rule=\"evenodd\" fill-opacity=\"1\" /><path clip-path=\"url(#clip460)\" d=\"M 0 0 M66.881 101.321 L74.5198 101.321 L74.5198 74.9555 L66.2097 76.6222 L66.2097 72.3629 L74.4735 70.6963 L79.1494 70.6963 L79.1494 101.321 L86.7883 101.321 L86.7883 105.256 L66.881 105.256 L66.881 101.321 Z\" fill=\"#000000\" fill-rule=\"evenodd\" fill-opacity=\"1\" /><path clip-path=\"url(#clip460)\" d=\"M 0 0 M91.8577 99.3767 L96.7419 99.3767 L96.7419 105.256 L91.8577 105.256 L91.8577 99.3767 Z\" fill=\"#000000\" fill-rule=\"evenodd\" fill-opacity=\"1\" /><path clip-path=\"url(#clip460)\" d=\"M 0 0 M111.811 73.775 Q108.2 73.775 106.372 77.3398 Q104.566 80.8814 104.566 88.011 Q104.566 95.1174 106.372 98.6822 Q108.2 102.224 111.811 102.224 Q115.446 102.224 117.251 98.6822 Q119.08 95.1174 119.08 88.011 Q119.08 80.8814 117.251 77.3398 Q115.446 73.775 111.811 73.775 M111.811 70.0713 Q117.621 70.0713 120.677 74.6777 Q123.756 79.261 123.756 88.011 Q123.756 96.7378 120.677 101.344 Q117.621 105.928 111.811 105.928 Q106.001 105.928 102.922 101.344 Q99.8669 96.7378 99.8669 88.011 Q99.8669 79.261 102.922 74.6777 Q106.001 70.0713 111.811 70.0713 Z\" fill=\"#000000\" fill-rule=\"evenodd\" fill-opacity=\"1\" /><path clip-path=\"url(#clip460)\" d=\"M 0 0 M138.825 73.775 Q135.214 73.775 133.385 77.3398 Q131.58 80.8814 131.58 88.011 Q131.58 95.1174 133.385 98.6822 Q135.214 102.224 138.825 102.224 Q142.459 102.224 144.265 98.6822 Q146.094 95.1174 146.094 88.011 Q146.094 80.8814 144.265 77.3398 Q142.459 73.775 138.825 73.775 M138.825 70.0713 Q144.635 70.0713 147.691 74.6777 Q150.769 79.261 150.769 88.011 Q150.769 96.7378 147.691 101.344 Q144.635 105.928 138.825 105.928 Q133.015 105.928 129.936 101.344 Q126.881 96.7378 126.881 88.011 Q126.881 79.261 129.936 74.6777 Q133.015 70.0713 138.825 70.0713 Z\" fill=\"#000000\" fill-rule=\"evenodd\" fill-opacity=\"1\" /><polyline clip-path=\"url(#clip462)\" style=\"stroke:#009af9; stroke-width:4; stroke-opacity:1; fill:none\" points=\"\n",
       "  236.411,87.9763 266.627,406.592 296.843,326.938 327.059,279.146 357.276,247.284 387.492,634.175 417.708,565.901 447.924,619.003 478.14,661.485 508.357,522.453 \n",
       "  538.573,486.247 568.789,529.137 599.005,497.626 629.222,470.316 659.438,446.419 689.654,481.561 719.87,512.798 750.087,440.131 780.303,470.316 810.519,406.592 \n",
       "  840.735,392.11 870.952,295.769 901.168,326.938 931.384,393.848 961.6,455.61 991.817,619.003 1022.03,497.626 1052.25,417.579 1082.47,597.762 1112.68,427.148 \n",
       "  1142.9,565.901 1173.11,377.627 1203.33,537.787 1233.55,579.556 1263.76,539.349 1293.98,501.316 1324.2,591.054 1354.41,553.646 1384.63,518.108 1414.84,507.617 \n",
       "  1445.06,543.142 1475.28,577.015 1505.49,631.072 1535.71,597.762 1565.93,607.459 1596.14,576.069 1626.36,605.728 1656.57,614.668 1686.79,565.901 1717.01,594.014 \n",
       "  1747.22,510.755 1777.44,592.953 1807.65,565.901 1837.87,557.211 1868.09,565.901 1898.3,507.208 1928.52,549.42 1958.74,541.599 1988.95,470.316 2019.17,464.048 \n",
       "  2049.38,457.982 2079.6,452.109 2109.82,461.355 2140.03,470.316 2170.25,464.523 2200.47,473.169 2230.68,467.504 2260.9,462.004 2291.11,456.661 \n",
       "  \"/>\n",
       "<polyline clip-path=\"url(#clip462)\" style=\"stroke:#e26f46; stroke-width:4; stroke-opacity:1; fill:none\" points=\"\n",
       "  236.411,1391.41 266.627,1445.72 296.843,1011.24 327.059,1119.86 357.276,1119.86 387.492,902.62 417.708,902.62 447.924,956.93 478.14,1119.86 508.357,902.62 \n",
       "  538.573,902.62 568.789,848.31 599.005,956.93 629.222,902.62 659.438,902.62 689.654,956.93 719.87,1011.24 750.087,956.93 780.303,1065.55 810.519,956.93 \n",
       "  840.735,902.62 870.952,794.001 901.168,739.691 931.384,848.31 961.6,848.31 991.817,794.001 1022.03,685.382 1052.25,794.001 1082.47,794.001 1112.68,902.62 \n",
       "  1142.9,685.382 1173.11,956.93 1203.33,739.691 1233.55,794.001 1263.76,794.001 1293.98,739.691 1324.2,739.691 1354.41,685.382 1384.63,631.072 1414.84,794.001 \n",
       "  1445.06,902.62 1475.28,956.93 1505.49,794.001 1535.71,848.31 1565.93,848.31 1596.14,685.382 1626.36,794.001 1656.57,794.001 1686.79,848.31 1717.01,794.001 \n",
       "  1747.22,848.31 1777.44,794.001 1807.65,794.001 1837.87,848.31 1868.09,902.62 1898.3,794.001 1928.52,902.62 1958.74,631.072 1988.95,468.143 2019.17,468.143 \n",
       "  2049.38,468.143 2079.6,468.143 2109.82,468.143 2140.03,468.143 2170.25,468.143 2200.47,468.143 2230.68,468.143 2260.9,468.143 2291.11,468.143 \n",
       "  \"/>\n",
       "<path clip-path=\"url(#clip460)\" d=\"\n",
       "M1987.14 276.658 L2280.16 276.658 L2280.16 95.2176 L1987.14 95.2176  Z\n",
       "  \" fill=\"#ffffff\" fill-rule=\"evenodd\" fill-opacity=\"1\"/>\n",
       "<polyline clip-path=\"url(#clip460)\" style=\"stroke:#000000; stroke-width:4; stroke-opacity:1; fill:none\" points=\"\n",
       "  1987.14,276.658 2280.16,276.658 2280.16,95.2176 1987.14,95.2176 1987.14,276.658 \n",
       "  \"/>\n",
       "<polyline clip-path=\"url(#clip460)\" style=\"stroke:#009af9; stroke-width:4; stroke-opacity:1; fill:none\" points=\"\n",
       "  2011.34,155.698 2156.54,155.698 \n",
       "  \"/>\n",
       "<path clip-path=\"url(#clip460)\" d=\"M 0 0 M2194.58 175.385 Q2192.78 180.015 2191.06 181.427 Q2189.35 182.839 2186.48 182.839 L2183.08 182.839 L2183.08 179.274 L2185.58 179.274 Q2187.34 179.274 2188.31 178.44 Q2189.28 177.607 2190.46 174.505 L2191.22 172.561 L2180.74 147.052 L2185.25 147.052 L2193.35 167.329 L2201.46 147.052 L2205.97 147.052 L2194.58 175.385 Z\" fill=\"#000000\" fill-rule=\"evenodd\" fill-opacity=\"1\" /><path clip-path=\"url(#clip460)\" d=\"M 0 0 M2211.85 169.042 L2219.49 169.042 L2219.49 142.677 L2211.18 144.343 L2211.18 140.084 L2219.44 138.418 L2224.12 138.418 L2224.12 169.042 L2231.76 169.042 L2231.76 172.978 L2211.85 172.978 L2211.85 169.042 Z\" fill=\"#000000\" fill-rule=\"evenodd\" fill-opacity=\"1\" /><polyline clip-path=\"url(#clip460)\" style=\"stroke:#e26f46; stroke-width:4; stroke-opacity:1; fill:none\" points=\"\n",
       "  2011.34,216.178 2156.54,216.178 \n",
       "  \"/>\n",
       "<path clip-path=\"url(#clip460)\" d=\"M 0 0 M2194.58 235.865 Q2192.78 240.495 2191.06 241.907 Q2189.35 243.319 2186.48 243.319 L2183.08 243.319 L2183.08 239.754 L2185.58 239.754 Q2187.34 239.754 2188.31 238.92 Q2189.28 238.087 2190.46 234.985 L2191.22 233.041 L2180.74 207.532 L2185.25 207.532 L2193.35 227.809 L2201.46 207.532 L2205.97 207.532 L2194.58 235.865 Z\" fill=\"#000000\" fill-rule=\"evenodd\" fill-opacity=\"1\" /><path clip-path=\"url(#clip460)\" d=\"M 0 0 M2215.07 229.522 L2231.39 229.522 L2231.39 233.458 L2209.44 233.458 L2209.44 229.522 Q2212.1 226.768 2216.69 222.138 Q2221.29 217.485 2222.47 216.143 Q2224.72 213.62 2225.6 211.884 Q2226.5 210.124 2226.5 208.435 Q2226.5 205.68 2224.56 203.944 Q2222.64 202.208 2219.53 202.208 Q2217.34 202.208 2214.88 202.972 Q2212.45 203.735 2209.67 205.286 L2209.67 200.564 Q2212.5 199.43 2214.95 198.851 Q2217.4 198.273 2219.44 198.273 Q2224.81 198.273 2228.01 200.958 Q2231.2 203.643 2231.2 208.134 Q2231.2 210.263 2230.39 212.185 Q2229.6 214.083 2227.5 216.675 Q2226.92 217.347 2223.82 220.564 Q2220.72 223.759 2215.07 229.522 Z\" fill=\"#000000\" fill-rule=\"evenodd\" fill-opacity=\"1\" /></svg>\n"
      ]
     },
     "execution_count": 34,
     "metadata": {},
     "output_type": "execute_result"
    }
   ],
   "source": [
    "plot(data_schedule, training_losses)\n",
    "plot!(data_schedule, valid_losses)"
   ]
  },
  {
   "cell_type": "code",
   "execution_count": 35,
   "metadata": {
    "scrolled": true
   },
   "outputs": [
    {
     "name": "stdout",
     "output_type": "stream",
     "text": [
      "(d, train_metric, valid_metric) = (10, 1.0, 0.7159090909090908)\n",
      "(d, train_metric, valid_metric) = (15, 1.0, 0.6818181818181819)\n",
      "(d, train_metric, valid_metric) = (20, 1.0, 0.7954545454545454)\n",
      "(d, train_metric, valid_metric) = (25, 1.0, 0.8181818181818181)\n",
      "(d, train_metric, valid_metric) = (30, 1.0, 0.8181818181818181)\n",
      "(d, train_metric, valid_metric) = (35, 1.0, 0.75)\n",
      "(d, train_metric, valid_metric) = (40, 1.0, 0.7386363636363636)\n",
      "(d, train_metric, valid_metric) = (45, 1.0, 0.75)\n",
      "(d, train_metric, valid_metric) = (50, 1.0, 0.75)\n",
      "(d, train_metric, valid_metric) = (55, 1.0, 0.7840909090909091)\n",
      "(d, train_metric, valid_metric) = (60, 1.0, 0.7840909090909091)\n",
      "(d, train_metric, valid_metric) = (65, 1.0, 0.8068181818181819)\n",
      "(d, train_metric, valid_metric) = (70, 1.0, 0.8409090909090909)\n",
      "(d, train_metric, valid_metric) = (75, 1.0, 0.8409090909090909)\n",
      "(d, train_metric, valid_metric) = (80, 1.0, 0.8409090909090909)\n",
      "(d, train_metric, valid_metric) = (85, 1.0, 0.8522727272727273)\n",
      "(d, train_metric, valid_metric) = (90, 1.0, 0.8522727272727273)\n",
      "(d, train_metric, valid_metric) = (95, 1.0, 0.8636363636363636)\n",
      "(d, train_metric, valid_metric) = (100, 1.0, 0.8636363636363636)\n",
      "(d, train_metric, valid_metric) = (105, 1.0, 0.8409090909090909)\n",
      "(d, train_metric, valid_metric) = (110, 1.0, 0.8409090909090909)\n",
      "(d, train_metric, valid_metric) = (115, 1.0, 0.8522727272727273)\n",
      "(d, train_metric, valid_metric) = (120, 1.0, 0.8522727272727273)\n",
      "(d, train_metric, valid_metric) = (125, 1.0, 0.8863636363636364)\n",
      "(d, train_metric, valid_metric) = (130, 1.0, 0.8977272727272727)\n",
      "(d, train_metric, valid_metric) = (135, 1.0, 0.8977272727272727)\n",
      "(d, train_metric, valid_metric) = (140, 1.0, 0.8977272727272727)\n",
      "(d, train_metric, valid_metric) = (145, 1.0, 0.8977272727272727)\n",
      "(d, train_metric, valid_metric) = (150, 1.0, 0.9204545454545454)\n",
      "(d, train_metric, valid_metric) = (155, 1.0, 0.9204545454545454)\n",
      "(d, train_metric, valid_metric) = (160, 1.0, 0.9204545454545454)\n",
      "(d, train_metric, valid_metric) = (165, 1.0, 0.9204545454545454)\n",
      "(d, train_metric, valid_metric) = (170, 1.0, 0.9204545454545454)\n",
      "(d, train_metric, valid_metric) = (175, 1.0, 0.9204545454545454)\n",
      "(d, train_metric, valid_metric) = (180, 1.0, 0.8977272727272727)\n",
      "(d, train_metric, valid_metric) = (185, 1.0, 0.8977272727272727)\n",
      "(d, train_metric, valid_metric) = (190, 1.0, 0.8977272727272727)\n",
      "(d, train_metric, valid_metric) = (195, 1.0, 0.8977272727272727)\n",
      "(d, train_metric, valid_metric) = (200, 1.0, 0.8977272727272727)\n",
      "(d, train_metric, valid_metric) = (205, 1.0, 0.8977272727272727)\n",
      "(d, train_metric, valid_metric) = (210, 1.0, 0.8977272727272727)\n",
      "(d, train_metric, valid_metric) = (215, 1.0, 0.9204545454545454)\n",
      "(d, train_metric, valid_metric) = (220, 1.0, 0.9545454545454546)\n",
      "(d, train_metric, valid_metric) = (225, 1.0, 0.9545454545454546)\n",
      "(d, train_metric, valid_metric) = (230, 1.0, 0.9545454545454546)\n",
      "(d, train_metric, valid_metric) = (235, 1.0, 0.9545454545454546)\n",
      "(d, train_metric, valid_metric) = (240, 1.0, 0.9545454545454546)\n",
      "(d, train_metric, valid_metric) = (245, 1.0, 0.9772727272727273)\n",
      "(d, train_metric, valid_metric) = (250, 1.0, 0.9659090909090909)\n",
      "(d, train_metric, valid_metric) = (255, 1.0, 0.9659090909090909)\n",
      "(d, train_metric, valid_metric) = (260, 1.0, 0.9659090909090909)\n",
      "(d, train_metric, valid_metric) = (265, 1.0, 0.9659090909090909)\n",
      "(d, train_metric, valid_metric) = (270, 1.0, 0.9659090909090909)\n",
      "(d, train_metric, valid_metric) = (275, 1.0, 0.9659090909090909)\n",
      "(d, train_metric, valid_metric) = (280, 1.0, 0.9659090909090909)\n",
      "(d, train_metric, valid_metric) = (285, 1.0, 0.9659090909090909)\n",
      "(d, train_metric, valid_metric) = (290, 1.0, 0.9659090909090909)\n",
      "(d, train_metric, valid_metric) = (295, 1.0, 0.9659090909090909)\n",
      "(d, train_metric, valid_metric) = (300, 1.0, 0.9659090909090909)\n",
      "(d, train_metric, valid_metric) = (305, 1.0, 0.9659090909090909)\n",
      "(d, train_metric, valid_metric) = (310, 1.0, 0.9659090909090909)\n",
      "(d, train_metric, valid_metric) = (315, 1.0, 0.9772727272727273)\n",
      "(d, train_metric, valid_metric) = (320, 1.0, 0.9886363636363636)\n",
      "(d, train_metric, valid_metric) = (325, 1.0, 0.9886363636363636)\n",
      "(d, train_metric, valid_metric) = (330, 1.0, 0.9886363636363636)\n",
      "(d, train_metric, valid_metric) = (335, 1.0, 0.9886363636363636)\n",
      "(d, train_metric, valid_metric) = (340, 1.0, 0.9886363636363636)\n",
      "(d, train_metric, valid_metric) = (345, 1.0, 0.9886363636363636)\n",
      "(d, train_metric, valid_metric) = (350, 1.0, 0.9886363636363636)\n"
     ]
    },
    {
     "data": {
      "text/plain": [
       "(10:5:350, Any[1.0, 1.0, 1.0, 1.0, 1.0, 1.0, 1.0, 1.0, 1.0, 1.0  …  1.0, 1.0, 1.0, 1.0, 1.0, 1.0, 1.0, 1.0, 1.0, 1.0], Any[0.7159090909090908, 0.6818181818181819, 0.7954545454545454, 0.8181818181818181, 0.8181818181818181, 0.75, 0.7386363636363636, 0.75, 0.75, 0.7840909090909091  …  0.9659090909090909, 0.9659090909090909, 0.9772727272727273, 0.9886363636363636, 0.9886363636363636, 0.9886363636363636, 0.9886363636363636, 0.9886363636363636, 0.9886363636363636, 0.9886363636363636])"
      ]
     },
     "execution_count": 35,
     "metadata": {},
     "output_type": "execute_result"
    }
   ],
   "source": [
    "data_schedule, training_losses, valid_losses = learn_curve(best_rbf_model, X[train,:], y[train])"
   ]
  },
  {
   "cell_type": "code",
   "execution_count": 36,
   "metadata": {
    "scrolled": false
   },
   "outputs": [
    {
     "data": {
      "image/svg+xml": [
       "<?xml version=\"1.0\" encoding=\"utf-8\"?>\n",
       "<svg xmlns=\"http://www.w3.org/2000/svg\" xmlns:xlink=\"http://www.w3.org/1999/xlink\" width=\"600\" height=\"400\" viewBox=\"0 0 2400 1600\">\n",
       "<defs>\n",
       "  <clipPath id=\"clip500\">\n",
       "    <rect x=\"0\" y=\"0\" width=\"2400\" height=\"1600\"/>\n",
       "  </clipPath>\n",
       "</defs>\n",
       "<path clip-path=\"url(#clip500)\" d=\"\n",
       "M0 1600 L2400 1600 L2400 0 L0 0  Z\n",
       "  \" fill=\"#ffffff\" fill-rule=\"evenodd\" fill-opacity=\"1\"/>\n",
       "<defs>\n",
       "  <clipPath id=\"clip501\">\n",
       "    <rect x=\"480\" y=\"0\" width=\"1681\" height=\"1600\"/>\n",
       "  </clipPath>\n",
       "</defs>\n",
       "<path clip-path=\"url(#clip500)\" d=\"\n",
       "M147.756 1486.45 L2352.76 1486.45 L2352.76 47.2441 L147.756 47.2441  Z\n",
       "  \" fill=\"#ffffff\" fill-rule=\"evenodd\" fill-opacity=\"1\"/>\n",
       "<defs>\n",
       "  <clipPath id=\"clip502\">\n",
       "    <rect x=\"147\" y=\"47\" width=\"2206\" height=\"1440\"/>\n",
       "  </clipPath>\n",
       "</defs>\n",
       "<polyline clip-path=\"url(#clip502)\" style=\"stroke:#000000; stroke-width:2; stroke-opacity:0.1; fill:none\" points=\"\n",
       "  148.979,1486.45 148.979,47.2441 \n",
       "  \"/>\n",
       "<polyline clip-path=\"url(#clip502)\" style=\"stroke:#000000; stroke-width:2; stroke-opacity:0.1; fill:none\" points=\"\n",
       "  760.8,1486.45 760.8,47.2441 \n",
       "  \"/>\n",
       "<polyline clip-path=\"url(#clip502)\" style=\"stroke:#000000; stroke-width:2; stroke-opacity:0.1; fill:none\" points=\"\n",
       "  1372.62,1486.45 1372.62,47.2441 \n",
       "  \"/>\n",
       "<polyline clip-path=\"url(#clip502)\" style=\"stroke:#000000; stroke-width:2; stroke-opacity:0.1; fill:none\" points=\"\n",
       "  1984.44,1486.45 1984.44,47.2441 \n",
       "  \"/>\n",
       "<polyline clip-path=\"url(#clip502)\" style=\"stroke:#000000; stroke-width:2; stroke-opacity:0.1; fill:none\" points=\"\n",
       "  147.756,1368.13 2352.76,1368.13 \n",
       "  \"/>\n",
       "<polyline clip-path=\"url(#clip502)\" style=\"stroke:#000000; stroke-width:2; stroke-opacity:0.1; fill:none\" points=\"\n",
       "  147.756,941.412 2352.76,941.412 \n",
       "  \"/>\n",
       "<polyline clip-path=\"url(#clip502)\" style=\"stroke:#000000; stroke-width:2; stroke-opacity:0.1; fill:none\" points=\"\n",
       "  147.756,514.694 2352.76,514.694 \n",
       "  \"/>\n",
       "<polyline clip-path=\"url(#clip502)\" style=\"stroke:#000000; stroke-width:2; stroke-opacity:0.1; fill:none\" points=\"\n",
       "  147.756,87.9763 2352.76,87.9763 \n",
       "  \"/>\n",
       "<polyline clip-path=\"url(#clip500)\" style=\"stroke:#000000; stroke-width:4; stroke-opacity:1; fill:none\" points=\"\n",
       "  147.756,1486.45 2352.76,1486.45 \n",
       "  \"/>\n",
       "<polyline clip-path=\"url(#clip500)\" style=\"stroke:#000000; stroke-width:4; stroke-opacity:1; fill:none\" points=\"\n",
       "  147.756,1486.45 147.756,47.2441 \n",
       "  \"/>\n",
       "<polyline clip-path=\"url(#clip500)\" style=\"stroke:#000000; stroke-width:4; stroke-opacity:1; fill:none\" points=\"\n",
       "  148.979,1486.45 148.979,1469.18 \n",
       "  \"/>\n",
       "<polyline clip-path=\"url(#clip500)\" style=\"stroke:#000000; stroke-width:4; stroke-opacity:1; fill:none\" points=\"\n",
       "  760.8,1486.45 760.8,1469.18 \n",
       "  \"/>\n",
       "<polyline clip-path=\"url(#clip500)\" style=\"stroke:#000000; stroke-width:4; stroke-opacity:1; fill:none\" points=\"\n",
       "  1372.62,1486.45 1372.62,1469.18 \n",
       "  \"/>\n",
       "<polyline clip-path=\"url(#clip500)\" style=\"stroke:#000000; stroke-width:4; stroke-opacity:1; fill:none\" points=\"\n",
       "  1984.44,1486.45 1984.44,1469.18 \n",
       "  \"/>\n",
       "<polyline clip-path=\"url(#clip500)\" style=\"stroke:#000000; stroke-width:4; stroke-opacity:1; fill:none\" points=\"\n",
       "  147.756,1368.13 174.216,1368.13 \n",
       "  \"/>\n",
       "<polyline clip-path=\"url(#clip500)\" style=\"stroke:#000000; stroke-width:4; stroke-opacity:1; fill:none\" points=\"\n",
       "  147.756,941.412 174.216,941.412 \n",
       "  \"/>\n",
       "<polyline clip-path=\"url(#clip500)\" style=\"stroke:#000000; stroke-width:4; stroke-opacity:1; fill:none\" points=\"\n",
       "  147.756,514.694 174.216,514.694 \n",
       "  \"/>\n",
       "<polyline clip-path=\"url(#clip500)\" style=\"stroke:#000000; stroke-width:4; stroke-opacity:1; fill:none\" points=\"\n",
       "  147.756,87.9763 174.216,87.9763 \n",
       "  \"/>\n",
       "<path clip-path=\"url(#clip500)\" d=\"M 0 0 M148.979 1508.44 Q145.368 1508.44 143.54 1512 Q141.734 1515.55 141.734 1522.67 Q141.734 1529.78 143.54 1533.35 Q145.368 1536.89 148.979 1536.89 Q152.614 1536.89 154.419 1533.35 Q156.248 1529.78 156.248 1522.67 Q156.248 1515.55 154.419 1512 Q152.614 1508.44 148.979 1508.44 M148.979 1504.73 Q154.789 1504.73 157.845 1509.34 Q160.924 1513.92 160.924 1522.67 Q160.924 1531.4 157.845 1536.01 Q154.789 1540.59 148.979 1540.59 Q143.169 1540.59 140.09 1536.01 Q137.035 1531.4 137.035 1522.67 Q137.035 1513.92 140.09 1509.34 Q143.169 1504.73 148.979 1504.73 Z\" fill=\"#000000\" fill-rule=\"evenodd\" fill-opacity=\"1\" /><path clip-path=\"url(#clip500)\" d=\"M 0 0 M724.168 1535.98 L731.807 1535.98 L731.807 1509.62 L723.497 1511.29 L723.497 1507.03 L731.76 1505.36 L736.436 1505.36 L736.436 1535.98 L744.075 1535.98 L744.075 1539.92 L724.168 1539.92 L724.168 1535.98 Z\" fill=\"#000000\" fill-rule=\"evenodd\" fill-opacity=\"1\" /><path clip-path=\"url(#clip500)\" d=\"M 0 0 M759.145 1508.44 Q755.533 1508.44 753.705 1512 Q751.899 1515.55 751.899 1522.67 Q751.899 1529.78 753.705 1533.35 Q755.533 1536.89 759.145 1536.89 Q762.779 1536.89 764.584 1533.35 Q766.413 1529.78 766.413 1522.67 Q766.413 1515.55 764.584 1512 Q762.779 1508.44 759.145 1508.44 M759.145 1504.73 Q764.955 1504.73 768.01 1509.34 Q771.089 1513.92 771.089 1522.67 Q771.089 1531.4 768.01 1536.01 Q764.955 1540.59 759.145 1540.59 Q753.334 1540.59 750.256 1536.01 Q747.2 1531.4 747.2 1522.67 Q747.2 1513.92 750.256 1509.34 Q753.334 1504.73 759.145 1504.73 Z\" fill=\"#000000\" fill-rule=\"evenodd\" fill-opacity=\"1\" /><path clip-path=\"url(#clip500)\" d=\"M 0 0 M786.158 1508.44 Q782.547 1508.44 780.718 1512 Q778.913 1515.55 778.913 1522.67 Q778.913 1529.78 780.718 1533.35 Q782.547 1536.89 786.158 1536.89 Q789.792 1536.89 791.598 1533.35 Q793.427 1529.78 793.427 1522.67 Q793.427 1515.55 791.598 1512 Q789.792 1508.44 786.158 1508.44 M786.158 1504.73 Q791.968 1504.73 795.024 1509.34 Q798.103 1513.92 798.103 1522.67 Q798.103 1531.4 795.024 1536.01 Q791.968 1540.59 786.158 1540.59 Q780.348 1540.59 777.269 1536.01 Q774.214 1531.4 774.214 1522.67 Q774.214 1513.92 777.269 1509.34 Q780.348 1504.73 786.158 1504.73 Z\" fill=\"#000000\" fill-rule=\"evenodd\" fill-opacity=\"1\" /><path clip-path=\"url(#clip500)\" d=\"M 0 0 M1340.26 1535.98 L1356.58 1535.98 L1356.58 1539.92 L1334.63 1539.92 L1334.63 1535.98 Q1337.3 1533.23 1341.88 1528.6 Q1346.49 1523.95 1347.67 1522.61 Q1349.91 1520.08 1350.79 1518.35 Q1351.69 1516.59 1351.69 1514.9 Q1351.69 1512.14 1349.75 1510.41 Q1347.83 1508.67 1344.73 1508.67 Q1342.53 1508.67 1340.07 1509.43 Q1337.64 1510.2 1334.87 1511.75 L1334.87 1507.03 Q1337.69 1505.89 1340.14 1505.31 Q1342.6 1504.73 1344.63 1504.73 Q1350 1504.73 1353.2 1507.42 Q1356.39 1510.11 1356.39 1514.6 Q1356.39 1516.73 1355.58 1518.65 Q1354.8 1520.54 1352.69 1523.14 Q1352.11 1523.81 1349.01 1527.03 Q1345.91 1530.22 1340.26 1535.98 Z\" fill=\"#000000\" fill-rule=\"evenodd\" fill-opacity=\"1\" /><path clip-path=\"url(#clip500)\" d=\"M 0 0 M1371.65 1508.44 Q1368.04 1508.44 1366.21 1512 Q1364.4 1515.55 1364.4 1522.67 Q1364.4 1529.78 1366.21 1533.35 Q1368.04 1536.89 1371.65 1536.89 Q1375.28 1536.89 1377.09 1533.35 Q1378.92 1529.78 1378.92 1522.67 Q1378.92 1515.55 1377.09 1512 Q1375.28 1508.44 1371.65 1508.44 M1371.65 1504.73 Q1377.46 1504.73 1380.51 1509.34 Q1383.59 1513.92 1383.59 1522.67 Q1383.59 1531.4 1380.51 1536.01 Q1377.46 1540.59 1371.65 1540.59 Q1365.84 1540.59 1362.76 1536.01 Q1359.7 1531.4 1359.7 1522.67 Q1359.7 1513.92 1362.76 1509.34 Q1365.84 1504.73 1371.65 1504.73 Z\" fill=\"#000000\" fill-rule=\"evenodd\" fill-opacity=\"1\" /><path clip-path=\"url(#clip500)\" d=\"M 0 0 M1398.66 1508.44 Q1395.05 1508.44 1393.22 1512 Q1391.42 1515.55 1391.42 1522.67 Q1391.42 1529.78 1393.22 1533.35 Q1395.05 1536.89 1398.66 1536.89 Q1402.3 1536.89 1404.1 1533.35 Q1405.93 1529.78 1405.93 1522.67 Q1405.93 1515.55 1404.1 1512 Q1402.3 1508.44 1398.66 1508.44 M1398.66 1504.73 Q1404.47 1504.73 1407.53 1509.34 Q1410.61 1513.92 1410.61 1522.67 Q1410.61 1531.4 1407.53 1536.01 Q1404.47 1540.59 1398.66 1540.59 Q1392.85 1540.59 1389.77 1536.01 Q1386.72 1531.4 1386.72 1522.67 Q1386.72 1513.92 1389.77 1509.34 Q1392.85 1504.73 1398.66 1504.73 Z\" fill=\"#000000\" fill-rule=\"evenodd\" fill-opacity=\"1\" /><path clip-path=\"url(#clip500)\" d=\"M 0 0 M1961.67 1521.29 Q1965.03 1522 1966.91 1524.27 Q1968.8 1526.54 1968.8 1529.87 Q1968.8 1534.99 1965.29 1537.79 Q1961.77 1540.59 1955.29 1540.59 Q1953.11 1540.59 1950.79 1540.15 Q1948.5 1539.73 1946.05 1538.88 L1946.05 1534.36 Q1947.99 1535.5 1950.31 1536.08 Q1952.62 1536.66 1955.15 1536.66 Q1959.54 1536.66 1961.84 1534.92 Q1964.15 1533.18 1964.15 1529.87 Q1964.15 1526.82 1962 1525.11 Q1959.87 1523.37 1956.05 1523.37 L1952.02 1523.37 L1952.02 1519.53 L1956.23 1519.53 Q1959.68 1519.53 1961.51 1518.16 Q1963.34 1516.77 1963.34 1514.18 Q1963.34 1511.52 1961.44 1510.11 Q1959.57 1508.67 1956.05 1508.67 Q1954.13 1508.67 1951.93 1509.09 Q1949.73 1509.5 1947.09 1510.38 L1947.09 1506.22 Q1949.75 1505.48 1952.07 1505.11 Q1954.41 1504.73 1956.47 1504.73 Q1961.79 1504.73 1964.89 1507.17 Q1967.99 1509.57 1967.99 1513.69 Q1967.99 1516.56 1966.35 1518.55 Q1964.71 1520.52 1961.67 1521.29 Z\" fill=\"#000000\" fill-rule=\"evenodd\" fill-opacity=\"1\" /><path clip-path=\"url(#clip500)\" d=\"M 0 0 M1983.87 1508.44 Q1980.26 1508.44 1978.43 1512 Q1976.63 1515.55 1976.63 1522.67 Q1976.63 1529.78 1978.43 1533.35 Q1980.26 1536.89 1983.87 1536.89 Q1987.51 1536.89 1989.31 1533.35 Q1991.14 1529.78 1991.14 1522.67 Q1991.14 1515.55 1989.31 1512 Q1987.51 1508.44 1983.87 1508.44 M1983.87 1504.73 Q1989.68 1504.73 1992.74 1509.34 Q1995.82 1513.92 1995.82 1522.67 Q1995.82 1531.4 1992.74 1536.01 Q1989.68 1540.59 1983.87 1540.59 Q1978.06 1540.59 1974.98 1536.01 Q1971.93 1531.4 1971.93 1522.67 Q1971.93 1513.92 1974.98 1509.34 Q1978.06 1504.73 1983.87 1504.73 Z\" fill=\"#000000\" fill-rule=\"evenodd\" fill-opacity=\"1\" /><path clip-path=\"url(#clip500)\" d=\"M 0 0 M2010.89 1508.44 Q2007.28 1508.44 2005.45 1512 Q2003.64 1515.55 2003.64 1522.67 Q2003.64 1529.78 2005.45 1533.35 Q2007.28 1536.89 2010.89 1536.89 Q2014.52 1536.89 2016.33 1533.35 Q2018.16 1529.78 2018.16 1522.67 Q2018.16 1515.55 2016.33 1512 Q2014.52 1508.44 2010.89 1508.44 M2010.89 1504.73 Q2016.7 1504.73 2019.75 1509.34 Q2022.83 1513.92 2022.83 1522.67 Q2022.83 1531.4 2019.75 1536.01 Q2016.7 1540.59 2010.89 1540.59 Q2005.08 1540.59 2002 1536.01 Q1998.94 1531.4 1998.94 1522.67 Q1998.94 1513.92 2002 1509.34 Q2005.08 1504.73 2010.89 1504.73 Z\" fill=\"#000000\" fill-rule=\"evenodd\" fill-opacity=\"1\" /><path clip-path=\"url(#clip500)\" d=\"M 0 0 M75.7467 1353.93 Q72.1356 1353.93 70.3069 1357.49 Q68.5014 1361.04 68.5014 1368.17 Q68.5014 1375.27 70.3069 1378.84 Q72.1356 1382.38 75.7467 1382.38 Q79.3809 1382.38 81.1865 1378.84 Q83.0152 1375.27 83.0152 1368.17 Q83.0152 1361.04 81.1865 1357.49 Q79.3809 1353.93 75.7467 1353.93 M75.7467 1350.23 Q81.5568 1350.23 84.6124 1354.83 Q87.6911 1359.42 87.6911 1368.17 Q87.6911 1376.89 84.6124 1381.5 Q81.5568 1386.08 75.7467 1386.08 Q69.9365 1386.08 66.8578 1381.5 Q63.8023 1376.89 63.8023 1368.17 Q63.8023 1359.42 66.8578 1354.83 Q69.9365 1350.23 75.7467 1350.23 Z\" fill=\"#000000\" fill-rule=\"evenodd\" fill-opacity=\"1\" /><path clip-path=\"url(#clip500)\" d=\"M 0 0 M92.7605 1379.53 L97.6447 1379.53 L97.6447 1385.41 L92.7605 1385.41 L92.7605 1379.53 Z\" fill=\"#000000\" fill-rule=\"evenodd\" fill-opacity=\"1\" /><path clip-path=\"url(#clip500)\" d=\"M 0 0 M101.534 1350.85 L123.756 1350.85 L123.756 1352.84 L111.209 1385.41 L106.325 1385.41 L118.131 1354.79 L101.534 1354.79 L101.534 1350.85 Z\" fill=\"#000000\" fill-rule=\"evenodd\" fill-opacity=\"1\" /><path clip-path=\"url(#clip500)\" d=\"M 0 0 M74.9365 927.211 Q71.3254 927.211 69.4967 930.776 Q67.6912 934.318 67.6912 941.447 Q67.6912 948.554 69.4967 952.118 Q71.3254 955.66 74.9365 955.66 Q78.5707 955.66 80.3763 952.118 Q82.205 948.554 82.205 941.447 Q82.205 934.318 80.3763 930.776 Q78.5707 927.211 74.9365 927.211 M74.9365 923.507 Q80.7467 923.507 83.8022 928.114 Q86.8809 932.697 86.8809 941.447 Q86.8809 950.174 83.8022 954.78 Q80.7467 959.364 74.9365 959.364 Q69.1264 959.364 66.0477 954.78 Q62.9921 950.174 62.9921 941.447 Q62.9921 932.697 66.0477 928.114 Q69.1264 923.507 74.9365 923.507 Z\" fill=\"#000000\" fill-rule=\"evenodd\" fill-opacity=\"1\" /><path clip-path=\"url(#clip500)\" d=\"M 0 0 M91.9503 952.813 L96.8345 952.813 L96.8345 958.692 L91.9503 958.692 L91.9503 952.813 Z\" fill=\"#000000\" fill-rule=\"evenodd\" fill-opacity=\"1\" /><path clip-path=\"url(#clip500)\" d=\"M 0 0 M111.904 942.281 Q108.571 942.281 106.649 944.063 Q104.751 945.845 104.751 948.97 Q104.751 952.095 106.649 953.878 Q108.571 955.66 111.904 955.66 Q115.237 955.66 117.159 953.878 Q119.08 952.072 119.08 948.97 Q119.08 945.845 117.159 944.063 Q115.26 942.281 111.904 942.281 M107.228 940.29 Q104.219 939.549 102.529 937.489 Q100.862 935.429 100.862 932.466 Q100.862 928.322 103.802 925.915 Q106.765 923.507 111.904 923.507 Q117.066 923.507 120.006 925.915 Q122.946 928.322 122.946 932.466 Q122.946 935.429 121.256 937.489 Q119.589 939.549 116.603 940.29 Q119.983 941.077 121.858 943.368 Q123.756 945.66 123.756 948.97 Q123.756 953.993 120.677 956.679 Q117.621 959.364 111.904 959.364 Q106.186 959.364 103.108 956.679 Q100.052 953.993 100.052 948.97 Q100.052 945.66 101.95 943.368 Q103.848 941.077 107.228 940.29 M105.515 932.906 Q105.515 935.591 107.182 937.095 Q108.872 938.6 111.904 938.6 Q114.913 938.6 116.603 937.095 Q118.316 935.591 118.316 932.906 Q118.316 930.22 116.603 928.716 Q114.913 927.211 111.904 927.211 Q108.872 927.211 107.182 928.716 Q105.515 930.22 105.515 932.906 Z\" fill=\"#000000\" fill-rule=\"evenodd\" fill-opacity=\"1\" /><path clip-path=\"url(#clip500)\" d=\"M 0 0 M75.0291 500.493 Q71.418 500.493 69.5893 504.058 Q67.7838 507.6 67.7838 514.729 Q67.7838 521.836 69.5893 525.4 Q71.418 528.942 75.0291 528.942 Q78.6633 528.942 80.4689 525.4 Q82.2976 521.836 82.2976 514.729 Q82.2976 507.6 80.4689 504.058 Q78.6633 500.493 75.0291 500.493 M75.0291 496.789 Q80.8393 496.789 83.8948 501.396 Q86.9735 505.979 86.9735 514.729 Q86.9735 523.456 83.8948 528.062 Q80.8393 532.646 75.0291 532.646 Q69.2189 532.646 66.1403 528.062 Q63.0847 523.456 63.0847 514.729 Q63.0847 505.979 66.1403 501.396 Q69.2189 496.789 75.0291 496.789 Z\" fill=\"#000000\" fill-rule=\"evenodd\" fill-opacity=\"1\" /><path clip-path=\"url(#clip500)\" d=\"M 0 0 M92.0429 526.095 L96.9271 526.095 L96.9271 531.974 L92.0429 531.974 L92.0429 526.095 Z\" fill=\"#000000\" fill-rule=\"evenodd\" fill-opacity=\"1\" /><path clip-path=\"url(#clip500)\" d=\"M 0 0 M102.135 531.257 L102.135 526.998 Q103.895 527.831 105.7 528.271 Q107.506 528.711 109.242 528.711 Q113.871 528.711 116.302 525.609 Q118.756 522.484 119.103 516.141 Q117.76 518.132 115.7 519.197 Q113.64 520.261 111.14 520.261 Q105.955 520.261 102.922 517.136 Q99.9132 513.988 99.9132 508.549 Q99.9132 503.225 103.061 500.007 Q106.209 496.789 111.441 496.789 Q117.436 496.789 120.584 501.396 Q123.756 505.979 123.756 514.729 Q123.756 522.9 119.867 527.785 Q116.001 532.646 109.45 532.646 Q107.691 532.646 105.885 532.298 Q104.08 531.951 102.135 531.257 M111.441 516.604 Q114.589 516.604 116.418 514.451 Q118.27 512.299 118.27 508.549 Q118.27 504.822 116.418 502.669 Q114.589 500.493 111.441 500.493 Q108.293 500.493 106.441 502.669 Q104.612 504.822 104.612 508.549 Q104.612 512.299 106.441 514.451 Q108.293 516.604 111.441 516.604 Z\" fill=\"#000000\" fill-rule=\"evenodd\" fill-opacity=\"1\" /><path clip-path=\"url(#clip500)\" d=\"M 0 0 M66.881 101.321 L74.5198 101.321 L74.5198 74.9555 L66.2097 76.6222 L66.2097 72.3629 L74.4735 70.6963 L79.1494 70.6963 L79.1494 101.321 L86.7883 101.321 L86.7883 105.256 L66.881 105.256 L66.881 101.321 Z\" fill=\"#000000\" fill-rule=\"evenodd\" fill-opacity=\"1\" /><path clip-path=\"url(#clip500)\" d=\"M 0 0 M91.8577 99.3767 L96.7419 99.3767 L96.7419 105.256 L91.8577 105.256 L91.8577 99.3767 Z\" fill=\"#000000\" fill-rule=\"evenodd\" fill-opacity=\"1\" /><path clip-path=\"url(#clip500)\" d=\"M 0 0 M111.811 73.775 Q108.2 73.775 106.372 77.3398 Q104.566 80.8814 104.566 88.011 Q104.566 95.1174 106.372 98.6822 Q108.2 102.224 111.811 102.224 Q115.446 102.224 117.251 98.6822 Q119.08 95.1174 119.08 88.011 Q119.08 80.8814 117.251 77.3398 Q115.446 73.775 111.811 73.775 M111.811 70.0713 Q117.621 70.0713 120.677 74.6777 Q123.756 79.261 123.756 88.011 Q123.756 96.7378 120.677 101.344 Q117.621 105.928 111.811 105.928 Q106.001 105.928 102.922 101.344 Q99.8669 96.7378 99.8669 88.011 Q99.8669 79.261 102.922 74.6777 Q106.001 70.0713 111.811 70.0713 Z\" fill=\"#000000\" fill-rule=\"evenodd\" fill-opacity=\"1\" /><polyline clip-path=\"url(#clip502)\" style=\"stroke:#009af9; stroke-width:4; stroke-opacity:1; fill:none\" points=\"\n",
       "  210.161,87.9763 240.752,87.9763 271.343,87.9763 301.934,87.9763 332.525,87.9763 363.116,87.9763 393.707,87.9763 424.298,87.9763 454.889,87.9763 485.48,87.9763 \n",
       "  516.071,87.9763 546.662,87.9763 577.254,87.9763 607.845,87.9763 638.436,87.9763 669.027,87.9763 699.618,87.9763 730.209,87.9763 760.8,87.9763 791.391,87.9763 \n",
       "  821.982,87.9763 852.573,87.9763 883.164,87.9763 913.755,87.9763 944.346,87.9763 974.937,87.9763 1005.53,87.9763 1036.12,87.9763 1066.71,87.9763 1097.3,87.9763 \n",
       "  1127.89,87.9763 1158.48,87.9763 1189.07,87.9763 1219.66,87.9763 1250.26,87.9763 1280.85,87.9763 1311.44,87.9763 1342.03,87.9763 1372.62,87.9763 1403.21,87.9763 \n",
       "  1433.8,87.9763 1464.39,87.9763 1494.98,87.9763 1525.57,87.9763 1556.17,87.9763 1586.76,87.9763 1617.35,87.9763 1647.94,87.9763 1678.53,87.9763 1709.12,87.9763 \n",
       "  1739.71,87.9763 1770.3,87.9763 1800.89,87.9763 1831.49,87.9763 1862.08,87.9763 1892.67,87.9763 1923.26,87.9763 1953.85,87.9763 1984.44,87.9763 2015.03,87.9763 \n",
       "  2045.62,87.9763 2076.21,87.9763 2106.8,87.9763 2137.4,87.9763 2167.99,87.9763 2198.58,87.9763 2229.17,87.9763 2259.76,87.9763 2290.35,87.9763 \n",
       "  \"/>\n",
       "<polyline clip-path=\"url(#clip502)\" style=\"stroke:#e26f46; stroke-width:4; stroke-opacity:1; fill:none\" points=\"\n",
       "  210.161,1300.24 240.752,1445.72 271.343,960.809 301.934,863.827 332.525,863.827 363.116,1154.77 393.707,1203.26 424.298,1154.77 454.889,1154.77 485.48,1009.3 \n",
       "  516.071,1009.3 546.662,912.318 577.254,766.846 607.845,766.846 638.436,766.846 669.027,718.355 699.618,718.355 730.209,669.865 760.8,669.865 791.391,766.846 \n",
       "  821.982,766.846 852.573,718.355 883.164,718.355 913.755,572.883 944.346,524.393 974.937,524.393 1005.53,524.393 1036.12,524.393 1066.71,427.411 1097.3,427.411 \n",
       "  1127.89,427.411 1158.48,427.411 1189.07,427.411 1219.66,427.411 1250.26,524.393 1280.85,524.393 1311.44,524.393 1342.03,524.393 1372.62,524.393 1403.21,524.393 \n",
       "  1433.8,524.393 1464.39,427.411 1494.98,281.939 1525.57,281.939 1556.17,281.939 1586.76,281.939 1617.35,281.939 1647.94,184.958 1678.53,233.448 1709.12,233.448 \n",
       "  1739.71,233.448 1770.3,233.448 1800.89,233.448 1831.49,233.448 1862.08,233.448 1892.67,233.448 1923.26,233.448 1953.85,233.448 1984.44,233.448 2015.03,233.448 \n",
       "  2045.62,233.448 2076.21,184.958 2106.8,136.467 2137.4,136.467 2167.99,136.467 2198.58,136.467 2229.17,136.467 2259.76,136.467 2290.35,136.467 \n",
       "  \"/>\n",
       "<path clip-path=\"url(#clip500)\" d=\"\n",
       "M1983.24 276.658 L2279.26 276.658 L2279.26 95.2176 L1983.24 95.2176  Z\n",
       "  \" fill=\"#ffffff\" fill-rule=\"evenodd\" fill-opacity=\"1\"/>\n",
       "<polyline clip-path=\"url(#clip500)\" style=\"stroke:#000000; stroke-width:4; stroke-opacity:1; fill:none\" points=\"\n",
       "  1983.24,276.658 2279.26,276.658 2279.26,95.2176 1983.24,95.2176 1983.24,276.658 \n",
       "  \"/>\n",
       "<polyline clip-path=\"url(#clip500)\" style=\"stroke:#009af9; stroke-width:4; stroke-opacity:1; fill:none\" points=\"\n",
       "  2007.74,155.698 2154.74,155.698 \n",
       "  \"/>\n",
       "<path clip-path=\"url(#clip500)\" d=\"M 0 0 M2193.08 175.385 Q2191.27 180.015 2189.56 181.427 Q2187.85 182.839 2184.98 182.839 L2181.58 182.839 L2181.58 179.274 L2184.08 179.274 Q2185.83 179.274 2186.81 178.44 Q2187.78 177.607 2188.96 174.505 L2189.72 172.561 L2179.24 147.052 L2183.75 147.052 L2191.85 167.329 L2199.96 147.052 L2204.47 147.052 L2193.08 175.385 Z\" fill=\"#000000\" fill-rule=\"evenodd\" fill-opacity=\"1\" /><path clip-path=\"url(#clip500)\" d=\"M 0 0 M2210.35 169.042 L2217.99 169.042 L2217.99 142.677 L2209.68 144.343 L2209.68 140.084 L2217.94 138.418 L2222.62 138.418 L2222.62 169.042 L2230.26 169.042 L2230.26 172.978 L2210.35 172.978 L2210.35 169.042 Z\" fill=\"#000000\" fill-rule=\"evenodd\" fill-opacity=\"1\" /><polyline clip-path=\"url(#clip500)\" style=\"stroke:#e26f46; stroke-width:4; stroke-opacity:1; fill:none\" points=\"\n",
       "  2007.74,216.178 2154.74,216.178 \n",
       "  \"/>\n",
       "<path clip-path=\"url(#clip500)\" d=\"M 0 0 M2193.08 235.865 Q2191.27 240.495 2189.56 241.907 Q2187.85 243.319 2184.98 243.319 L2181.58 243.319 L2181.58 239.754 L2184.08 239.754 Q2185.83 239.754 2186.81 238.92 Q2187.78 238.087 2188.96 234.985 L2189.72 233.041 L2179.24 207.532 L2183.75 207.532 L2191.85 227.809 L2199.96 207.532 L2204.47 207.532 L2193.08 235.865 Z\" fill=\"#000000\" fill-rule=\"evenodd\" fill-opacity=\"1\" /><path clip-path=\"url(#clip500)\" d=\"M 0 0 M2213.57 229.522 L2229.89 229.522 L2229.89 233.458 L2207.94 233.458 L2207.94 229.522 Q2210.6 226.768 2215.19 222.138 Q2219.79 217.485 2220.97 216.143 Q2223.22 213.62 2224.1 211.884 Q2225 210.124 2225 208.435 Q2225 205.68 2223.06 203.944 Q2221.14 202.208 2218.03 202.208 Q2215.83 202.208 2213.38 202.972 Q2210.95 203.735 2208.17 205.286 L2208.17 200.564 Q2211 199.43 2213.45 198.851 Q2215.9 198.273 2217.94 198.273 Q2223.31 198.273 2226.51 200.958 Q2229.7 203.643 2229.7 208.134 Q2229.7 210.263 2228.89 212.185 Q2228.1 214.083 2226 216.675 Q2225.42 217.347 2222.32 220.564 Q2219.21 223.759 2213.57 229.522 Z\" fill=\"#000000\" fill-rule=\"evenodd\" fill-opacity=\"1\" /></svg>\n"
      ]
     },
     "execution_count": 36,
     "metadata": {},
     "output_type": "execute_result"
    }
   ],
   "source": [
    "plot(data_schedule, training_losses)\n",
    "plot!(data_schedule, valid_losses)"
   ]
  },
  {
   "cell_type": "markdown",
   "metadata": {},
   "source": [
    "# Final Results"
   ]
  },
  {
   "cell_type": "markdown",
   "metadata": {},
   "source": [
    "Linear SVM"
   ]
  },
  {
   "cell_type": "code",
   "execution_count": 37,
   "metadata": {},
   "outputs": [
    {
     "data": {
      "text/plain": [
       "SVMClassifier(\n",
       "    C = 0.58605114876674,\n",
       "    kernel = \"linear\",\n",
       "    degree = 3,\n",
       "    gamma = \"auto\",\n",
       "    coef0 = 0.0,\n",
       "    shrinking = true,\n",
       "    tol = 0.001,\n",
       "    cache_size = 1000,\n",
       "    max_iter = -1,\n",
       "    decision_function_shape = \"ovr\",\n",
       "    random_state = nothing)\u001b[34m @967\u001b[39m"
      ]
     },
     "execution_count": 37,
     "metadata": {},
     "output_type": "execute_result"
    }
   ],
   "source": [
    "final_svm = SVMClassifier(kernel=\"linear\", C = best_C, cache_size=1000)"
   ]
  },
  {
   "cell_type": "code",
   "execution_count": 38,
   "metadata": {},
   "outputs": [
    {
     "data": {
      "text/plain": [
       "\u001b[34mMachine{SVMClassifier} @069\u001b[39m trained 0 times.\n",
       "  args: \n",
       "    1:\t\u001b[34mSource @479\u001b[39m ⏎ `Table{AbstractArray{Continuous,1}}`\n",
       "    2:\t\u001b[34mSource @590\u001b[39m ⏎ `AbstractArray{Multiclass{3},1}`\n"
      ]
     },
     "execution_count": 38,
     "metadata": {},
     "output_type": "execute_result"
    }
   ],
   "source": [
    "Final_SVM = machine(final_svm, X, y)"
   ]
  },
  {
   "cell_type": "code",
   "execution_count": 39,
   "metadata": {},
   "outputs": [
    {
     "name": "stderr",
     "output_type": "stream",
     "text": [
      "┌ Info: Training \u001b[34mMachine{SVMClassifier} @069\u001b[39m.\n",
      "└ @ MLJBase /home/andrew/.julia/packages/MLJBase/uKzAz/src/machines.jl:319\n"
     ]
    },
    {
     "data": {
      "text/plain": [
       "\u001b[34mMachine{SVMClassifier} @069\u001b[39m trained 1 time.\n",
       "  args: \n",
       "    1:\t\u001b[34mSource @479\u001b[39m ⏎ `Table{AbstractArray{Continuous,1}}`\n",
       "    2:\t\u001b[34mSource @590\u001b[39m ⏎ `AbstractArray{Multiclass{3},1}`\n"
      ]
     },
     "execution_count": 39,
     "metadata": {},
     "output_type": "execute_result"
    }
   ],
   "source": [
    "fit!(Final_SVM, rows=train, verbosity=2)"
   ]
  },
  {
   "cell_type": "code",
   "execution_count": 40,
   "metadata": {},
   "outputs": [],
   "source": [
    "ŷ2 = MLJ.predict(Final_SVM, X[test,:]);"
   ]
  },
  {
   "cell_type": "code",
   "execution_count": 41,
   "metadata": {},
   "outputs": [
    {
     "data": {
      "text/plain": [
       "0.9037433155080214"
      ]
     },
     "execution_count": 41,
     "metadata": {},
     "output_type": "execute_result"
    }
   ],
   "source": [
    "accuracy(ŷ2, y[test])"
   ]
  },
  {
   "cell_type": "code",
   "execution_count": 42,
   "metadata": {},
   "outputs": [
    {
     "name": "stderr",
     "output_type": "stream",
     "text": [
      "┌ Warning: The classes are un-ordered,\n",
      "│ using order: [\"B\", \"L\", \"R\"].\n",
      "│ To suppress this warning, consider coercing to OrderedFactor.\n",
      "└ @ MLJBase /home/andrew/.julia/packages/MLJBase/uKzAz/src/measures/confusion_matrix.jl:87\n"
     ]
    },
    {
     "data": {
      "text/plain": [
       "              ┌─────────────────────────────────────────┐\n",
       "              │              Ground Truth               │\n",
       "┌─────────────┼─────────────┬─────────────┬─────────────┤\n",
       "│  Predicted  │      B      │      L      │      R      │\n",
       "├─────────────┼─────────────┼─────────────┼─────────────┤\n",
       "│      B      │     10      │      7      │      5      │\n",
       "├─────────────┼─────────────┼─────────────┼─────────────┤\n",
       "│      L      │      2      │     68      │      1      │\n",
       "├─────────────┼─────────────┼─────────────┼─────────────┤\n",
       "│      R      │      1      │      2      │     91      │\n",
       "└─────────────┴─────────────┴─────────────┴─────────────┘\n"
      ]
     },
     "execution_count": 42,
     "metadata": {},
     "output_type": "execute_result"
    }
   ],
   "source": [
    "confusion_matrix(ŷ2, y[test])"
   ]
  },
  {
   "cell_type": "markdown",
   "metadata": {},
   "source": [
    "RBF SVM"
   ]
  },
  {
   "cell_type": "code",
   "execution_count": 43,
   "metadata": {},
   "outputs": [
    {
     "data": {
      "text/plain": [
       "SVMClassifier(\n",
       "    C = 8.3405026860002775e9,\n",
       "    kernel = \"rbf\",\n",
       "    degree = 3,\n",
       "    gamma = 0.0027825594022071257,\n",
       "    coef0 = 0.0,\n",
       "    shrinking = true,\n",
       "    tol = 0.001,\n",
       "    cache_size = 1000,\n",
       "    max_iter = -1,\n",
       "    decision_function_shape = \"ovr\",\n",
       "    random_state = nothing)\u001b[34m @667\u001b[39m"
      ]
     },
     "execution_count": 43,
     "metadata": {},
     "output_type": "execute_result"
    }
   ],
   "source": [
    "final_svm_rbf = best_rbf.best_model"
   ]
  },
  {
   "cell_type": "code",
   "execution_count": 44,
   "metadata": {},
   "outputs": [
    {
     "data": {
      "text/plain": [
       "\u001b[34mMachine{SVMClassifier} @476\u001b[39m trained 0 times.\n",
       "  args: \n",
       "    1:\t\u001b[34mSource @085\u001b[39m ⏎ `Table{AbstractArray{Continuous,1}}`\n",
       "    2:\t\u001b[34mSource @359\u001b[39m ⏎ `AbstractArray{Multiclass{3},1}`\n"
      ]
     },
     "execution_count": 44,
     "metadata": {},
     "output_type": "execute_result"
    }
   ],
   "source": [
    "Final_SVM = machine(final_svm, X, y)"
   ]
  },
  {
   "cell_type": "code",
   "execution_count": 45,
   "metadata": {},
   "outputs": [
    {
     "name": "stderr",
     "output_type": "stream",
     "text": [
      "┌ Info: Training \u001b[34mMachine{SVMClassifier} @476\u001b[39m.\n",
      "└ @ MLJBase /home/andrew/.julia/packages/MLJBase/uKzAz/src/machines.jl:319\n"
     ]
    },
    {
     "data": {
      "text/plain": [
       "\u001b[34mMachine{SVMClassifier} @476\u001b[39m trained 1 time.\n",
       "  args: \n",
       "    1:\t\u001b[34mSource @085\u001b[39m ⏎ `Table{AbstractArray{Continuous,1}}`\n",
       "    2:\t\u001b[34mSource @359\u001b[39m ⏎ `AbstractArray{Multiclass{3},1}`\n"
      ]
     },
     "execution_count": 45,
     "metadata": {},
     "output_type": "execute_result"
    }
   ],
   "source": [
    "fit!(Final_SVM, rows=train, verbosity=2)"
   ]
  },
  {
   "cell_type": "code",
   "execution_count": 46,
   "metadata": {},
   "outputs": [],
   "source": [
    "ŷ2 = MLJ.predict(Final_SVM, X[test,:]);"
   ]
  },
  {
   "cell_type": "code",
   "execution_count": 47,
   "metadata": {},
   "outputs": [
    {
     "data": {
      "text/plain": [
       "0.9037433155080214"
      ]
     },
     "execution_count": 47,
     "metadata": {},
     "output_type": "execute_result"
    }
   ],
   "source": [
    "accuracy(ŷ2, y[test])"
   ]
  },
  {
   "cell_type": "code",
   "execution_count": 48,
   "metadata": {},
   "outputs": [
    {
     "name": "stderr",
     "output_type": "stream",
     "text": [
      "┌ Warning: The classes are un-ordered,\n",
      "│ using order: [\"B\", \"L\", \"R\"].\n",
      "│ To suppress this warning, consider coercing to OrderedFactor.\n",
      "└ @ MLJBase /home/andrew/.julia/packages/MLJBase/uKzAz/src/measures/confusion_matrix.jl:87\n"
     ]
    },
    {
     "data": {
      "text/plain": [
       "              ┌─────────────────────────────────────────┐\n",
       "              │              Ground Truth               │\n",
       "┌─────────────┼─────────────┬─────────────┬─────────────┤\n",
       "│  Predicted  │      B      │      L      │      R      │\n",
       "├─────────────┼─────────────┼─────────────┼─────────────┤\n",
       "│      B      │     10      │      7      │      5      │\n",
       "├─────────────┼─────────────┼─────────────┼─────────────┤\n",
       "│      L      │      2      │     68      │      1      │\n",
       "├─────────────┼─────────────┼─────────────┼─────────────┤\n",
       "│      R      │      1      │      2      │     91      │\n",
       "└─────────────┴─────────────┴─────────────┴─────────────┘\n"
      ]
     },
     "execution_count": 48,
     "metadata": {},
     "output_type": "execute_result"
    }
   ],
   "source": [
    "confusion_matrix(ŷ2, y[test])"
   ]
  },
  {
   "cell_type": "code",
   "execution_count": null,
   "metadata": {},
   "outputs": [],
   "source": []
  }
 ],
 "metadata": {
  "kernelspec": {
   "display_name": "Julia 1.5.0",
   "language": "julia",
   "name": "julia-1.5"
  },
  "language_info": {
   "file_extension": ".jl",
   "mimetype": "application/julia",
   "name": "julia",
   "version": "1.5.0"
  }
 },
 "nbformat": 4,
 "nbformat_minor": 4
}
