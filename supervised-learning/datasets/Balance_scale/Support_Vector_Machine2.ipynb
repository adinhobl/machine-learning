{
 "cells": [
  {
   "cell_type": "markdown",
   "metadata": {},
   "source": [
    "# Imports"
   ]
  },
  {
   "cell_type": "code",
   "execution_count": 1,
   "metadata": {},
   "outputs": [],
   "source": [
    "using DataFrames\n",
    "using CSV\n",
    "using MLJ\n",
    "using Plots\n",
    "using StatsBase\n",
    "\n",
    "include(\"../../lib.jl\")\n",
    "\n",
    "ENV[\"LINES\"]=30;"
   ]
  },
  {
   "cell_type": "markdown",
   "metadata": {},
   "source": [
    "# Datasets"
   ]
  },
  {
   "cell_type": "code",
   "execution_count": 2,
   "metadata": {},
   "outputs": [
    {
     "data": {
      "text/html": [
       "<table class=\"data-frame\"><thead><tr><th></th><th>Class_Name</th><th>Left_Weight</th><th>Left_Distance</th><th>Right_Weight</th><th>Right_Distance</th></tr><tr><th></th><th>String</th><th>Int64</th><th>Int64</th><th>Int64</th><th>Int64</th></tr></thead><tbody><p>625 rows × 5 columns</p><tr><th>1</th><td>B</td><td>1</td><td>1</td><td>1</td><td>1</td></tr><tr><th>2</th><td>R</td><td>1</td><td>1</td><td>1</td><td>2</td></tr><tr><th>3</th><td>R</td><td>1</td><td>1</td><td>1</td><td>3</td></tr><tr><th>4</th><td>R</td><td>1</td><td>1</td><td>1</td><td>4</td></tr><tr><th>5</th><td>R</td><td>1</td><td>1</td><td>1</td><td>5</td></tr><tr><th>6</th><td>R</td><td>1</td><td>1</td><td>2</td><td>1</td></tr><tr><th>7</th><td>R</td><td>1</td><td>1</td><td>2</td><td>2</td></tr><tr><th>8</th><td>R</td><td>1</td><td>1</td><td>2</td><td>3</td></tr><tr><th>9</th><td>R</td><td>1</td><td>1</td><td>2</td><td>4</td></tr><tr><th>10</th><td>R</td><td>1</td><td>1</td><td>2</td><td>5</td></tr><tr><th>11</th><td>R</td><td>1</td><td>1</td><td>3</td><td>1</td></tr><tr><th>12</th><td>R</td><td>1</td><td>1</td><td>3</td><td>2</td></tr><tr><th>13</th><td>R</td><td>1</td><td>1</td><td>3</td><td>3</td></tr><tr><th>14</th><td>R</td><td>1</td><td>1</td><td>3</td><td>4</td></tr><tr><th>15</th><td>R</td><td>1</td><td>1</td><td>3</td><td>5</td></tr><tr><th>16</th><td>R</td><td>1</td><td>1</td><td>4</td><td>1</td></tr><tr><th>17</th><td>R</td><td>1</td><td>1</td><td>4</td><td>2</td></tr><tr><th>18</th><td>R</td><td>1</td><td>1</td><td>4</td><td>3</td></tr><tr><th>19</th><td>R</td><td>1</td><td>1</td><td>4</td><td>4</td></tr><tr><th>20</th><td>R</td><td>1</td><td>1</td><td>4</td><td>5</td></tr><tr><th>21</th><td>R</td><td>1</td><td>1</td><td>5</td><td>1</td></tr><tr><th>22</th><td>R</td><td>1</td><td>1</td><td>5</td><td>2</td></tr><tr><th>23</th><td>R</td><td>1</td><td>1</td><td>5</td><td>3</td></tr><tr><th>24</th><td>R</td><td>1</td><td>1</td><td>5</td><td>4</td></tr><tr><th>25</th><td>R</td><td>1</td><td>1</td><td>5</td><td>5</td></tr><tr><th>26</th><td>L</td><td>1</td><td>2</td><td>1</td><td>1</td></tr><tr><th>27</th><td>B</td><td>1</td><td>2</td><td>1</td><td>2</td></tr><tr><th>28</th><td>R</td><td>1</td><td>2</td><td>1</td><td>3</td></tr><tr><th>29</th><td>R</td><td>1</td><td>2</td><td>1</td><td>4</td></tr><tr><th>30</th><td>R</td><td>1</td><td>2</td><td>1</td><td>5</td></tr><tr><th>&vellip;</th><td>&vellip;</td><td>&vellip;</td><td>&vellip;</td><td>&vellip;</td><td>&vellip;</td></tr></tbody></table>"
      ],
      "text/latex": [
       "\\begin{tabular}{r|ccccc}\n",
       "\t& Class\\_Name & Left\\_Weight & Left\\_Distance & Right\\_Weight & Right\\_Distance\\\\\n",
       "\t\\hline\n",
       "\t& String & Int64 & Int64 & Int64 & Int64\\\\\n",
       "\t\\hline\n",
       "\t1 & B & 1 & 1 & 1 & 1 \\\\\n",
       "\t2 & R & 1 & 1 & 1 & 2 \\\\\n",
       "\t3 & R & 1 & 1 & 1 & 3 \\\\\n",
       "\t4 & R & 1 & 1 & 1 & 4 \\\\\n",
       "\t5 & R & 1 & 1 & 1 & 5 \\\\\n",
       "\t6 & R & 1 & 1 & 2 & 1 \\\\\n",
       "\t7 & R & 1 & 1 & 2 & 2 \\\\\n",
       "\t8 & R & 1 & 1 & 2 & 3 \\\\\n",
       "\t9 & R & 1 & 1 & 2 & 4 \\\\\n",
       "\t10 & R & 1 & 1 & 2 & 5 \\\\\n",
       "\t11 & R & 1 & 1 & 3 & 1 \\\\\n",
       "\t12 & R & 1 & 1 & 3 & 2 \\\\\n",
       "\t13 & R & 1 & 1 & 3 & 3 \\\\\n",
       "\t14 & R & 1 & 1 & 3 & 4 \\\\\n",
       "\t15 & R & 1 & 1 & 3 & 5 \\\\\n",
       "\t16 & R & 1 & 1 & 4 & 1 \\\\\n",
       "\t17 & R & 1 & 1 & 4 & 2 \\\\\n",
       "\t18 & R & 1 & 1 & 4 & 3 \\\\\n",
       "\t19 & R & 1 & 1 & 4 & 4 \\\\\n",
       "\t20 & R & 1 & 1 & 4 & 5 \\\\\n",
       "\t21 & R & 1 & 1 & 5 & 1 \\\\\n",
       "\t22 & R & 1 & 1 & 5 & 2 \\\\\n",
       "\t23 & R & 1 & 1 & 5 & 3 \\\\\n",
       "\t24 & R & 1 & 1 & 5 & 4 \\\\\n",
       "\t25 & R & 1 & 1 & 5 & 5 \\\\\n",
       "\t26 & L & 1 & 2 & 1 & 1 \\\\\n",
       "\t27 & B & 1 & 2 & 1 & 2 \\\\\n",
       "\t28 & R & 1 & 2 & 1 & 3 \\\\\n",
       "\t29 & R & 1 & 2 & 1 & 4 \\\\\n",
       "\t30 & R & 1 & 2 & 1 & 5 \\\\\n",
       "\t$\\dots$ & $\\dots$ & $\\dots$ & $\\dots$ & $\\dots$ & $\\dots$ \\\\\n",
       "\\end{tabular}\n"
      ],
      "text/plain": [
       "625×5 DataFrame. Omitted printing of 1 columns\n",
       "│ Row │ Class_Name │ Left_Weight │ Left_Distance │ Right_Weight │\n",
       "│     │ \u001b[90mString\u001b[39m     │ \u001b[90mInt64\u001b[39m       │ \u001b[90mInt64\u001b[39m         │ \u001b[90mInt64\u001b[39m        │\n",
       "├─────┼────────────┼─────────────┼───────────────┼──────────────┤\n",
       "│ 1   │ B          │ 1           │ 1             │ 1            │\n",
       "│ 2   │ R          │ 1           │ 1             │ 1            │\n",
       "│ 3   │ R          │ 1           │ 1             │ 1            │\n",
       "│ 4   │ R          │ 1           │ 1             │ 1            │\n",
       "│ 5   │ R          │ 1           │ 1             │ 1            │\n",
       "│ 6   │ R          │ 1           │ 1             │ 2            │\n",
       "│ 7   │ R          │ 1           │ 1             │ 2            │\n",
       "│ 8   │ R          │ 1           │ 1             │ 2            │\n",
       "│ 9   │ R          │ 1           │ 1             │ 2            │\n",
       "│ 10  │ R          │ 1           │ 1             │ 2            │\n",
       "⋮\n",
       "│ 615 │ L          │ 5           │ 5             │ 3            │\n",
       "│ 616 │ L          │ 5           │ 5             │ 4            │\n",
       "│ 617 │ L          │ 5           │ 5             │ 4            │\n",
       "│ 618 │ L          │ 5           │ 5             │ 4            │\n",
       "│ 619 │ L          │ 5           │ 5             │ 4            │\n",
       "│ 620 │ L          │ 5           │ 5             │ 4            │\n",
       "│ 621 │ L          │ 5           │ 5             │ 5            │\n",
       "│ 622 │ L          │ 5           │ 5             │ 5            │\n",
       "│ 623 │ L          │ 5           │ 5             │ 5            │\n",
       "│ 624 │ L          │ 5           │ 5             │ 5            │\n",
       "│ 625 │ B          │ 5           │ 5             │ 5            │"
      ]
     },
     "execution_count": 2,
     "metadata": {},
     "output_type": "execute_result"
    }
   ],
   "source": [
    "data = CSV.read(\"./data.csv\")"
   ]
  },
  {
   "cell_type": "code",
   "execution_count": 3,
   "metadata": {},
   "outputs": [
    {
     "data": {
      "text/html": [
       "<table class=\"data-frame\"><thead><tr><th></th><th>variable</th><th>mean</th><th>min</th><th>median</th><th>max</th><th>nunique</th><th>nmissing</th><th>eltype</th></tr><tr><th></th><th>Symbol</th><th>Union…</th><th>Any</th><th>Union…</th><th>Any</th><th>Union…</th><th>Nothing</th><th>DataType</th></tr></thead><tbody><p>5 rows × 8 columns</p><tr><th>1</th><td>Class_Name</td><td></td><td>B</td><td></td><td>R</td><td>3</td><td></td><td>String</td></tr><tr><th>2</th><td>Left_Weight</td><td>3.0</td><td>1</td><td>3.0</td><td>5</td><td></td><td></td><td>Int64</td></tr><tr><th>3</th><td>Left_Distance</td><td>3.0</td><td>1</td><td>3.0</td><td>5</td><td></td><td></td><td>Int64</td></tr><tr><th>4</th><td>Right_Weight</td><td>3.0</td><td>1</td><td>3.0</td><td>5</td><td></td><td></td><td>Int64</td></tr><tr><th>5</th><td>Right_Distance</td><td>3.0</td><td>1</td><td>3.0</td><td>5</td><td></td><td></td><td>Int64</td></tr></tbody></table>"
      ],
      "text/latex": [
       "\\begin{tabular}{r|cccccccc}\n",
       "\t& variable & mean & min & median & max & nunique & nmissing & eltype\\\\\n",
       "\t\\hline\n",
       "\t& Symbol & Union… & Any & Union… & Any & Union… & Nothing & DataType\\\\\n",
       "\t\\hline\n",
       "\t1 & Class\\_Name &  & B &  & R & 3 &  & String \\\\\n",
       "\t2 & Left\\_Weight & 3.0 & 1 & 3.0 & 5 &  &  & Int64 \\\\\n",
       "\t3 & Left\\_Distance & 3.0 & 1 & 3.0 & 5 &  &  & Int64 \\\\\n",
       "\t4 & Right\\_Weight & 3.0 & 1 & 3.0 & 5 &  &  & Int64 \\\\\n",
       "\t5 & Right\\_Distance & 3.0 & 1 & 3.0 & 5 &  &  & Int64 \\\\\n",
       "\\end{tabular}\n"
      ],
      "text/plain": [
       "5×8 DataFrame. Omitted printing of 1 columns\n",
       "│ Row │ variable       │ mean   │ min │ median │ max │ nunique │ nmissing │\n",
       "│     │ \u001b[90mSymbol\u001b[39m         │ \u001b[90mUnion…\u001b[39m │ \u001b[90mAny\u001b[39m │ \u001b[90mUnion…\u001b[39m │ \u001b[90mAny\u001b[39m │ \u001b[90mUnion…\u001b[39m  │ \u001b[90mNothing\u001b[39m  │\n",
       "├─────┼────────────────┼────────┼─────┼────────┼─────┼─────────┼──────────┤\n",
       "│ 1   │ Class_Name     │        │ B   │        │ R   │ 3       │          │\n",
       "│ 2   │ Left_Weight    │ 3.0    │ 1   │ 3.0    │ 5   │         │          │\n",
       "│ 3   │ Left_Distance  │ 3.0    │ 1   │ 3.0    │ 5   │         │          │\n",
       "│ 4   │ Right_Weight   │ 3.0    │ 1   │ 3.0    │ 5   │         │          │\n",
       "│ 5   │ Right_Distance │ 3.0    │ 1   │ 3.0    │ 5   │         │          │"
      ]
     },
     "execution_count": 3,
     "metadata": {},
     "output_type": "execute_result"
    }
   ],
   "source": [
    "describe(data)"
   ]
  },
  {
   "cell_type": "markdown",
   "metadata": {},
   "source": [
    "Look at class labels to see if dataset is imbalanced"
   ]
  },
  {
   "cell_type": "code",
   "execution_count": 4,
   "metadata": {},
   "outputs": [
    {
     "data": {
      "text/plain": [
       "Dict{String,Int64} with 3 entries:\n",
       "  \"B\" => 49\n",
       "  \"L\" => 288\n",
       "  \"R\" => 288"
      ]
     },
     "execution_count": 4,
     "metadata": {},
     "output_type": "execute_result"
    }
   ],
   "source": [
    "label_counts = countmap(data[:Class_Name])"
   ]
  },
  {
   "cell_type": "code",
   "execution_count": 5,
   "metadata": {},
   "outputs": [
    {
     "data": {
      "text/plain": [
       "3-element Array{Float64,1}:\n",
       " 0.0784\n",
       " 0.4608\n",
       " 0.4608"
      ]
     },
     "execution_count": 5,
     "metadata": {},
     "output_type": "execute_result"
    }
   ],
   "source": [
    "collect(label_counts[i] / size(data)[1] for i in keys(label_counts))"
   ]
  },
  {
   "cell_type": "markdown",
   "metadata": {},
   "source": [
    "Get data ready for training"
   ]
  },
  {
   "cell_type": "code",
   "execution_count": 6,
   "metadata": {
    "scrolled": true
   },
   "outputs": [
    {
     "data": {
      "text/plain": [
       "┌\u001b[0m────────────────\u001b[0m┬\u001b[0m─────────────────────────────────\u001b[0m┬\u001b[0m───────────────\u001b[0m┐\u001b[0m\n",
       "│\u001b[0m\u001b[22m _.names        \u001b[0m│\u001b[0m\u001b[22m _.types                         \u001b[0m│\u001b[0m\u001b[22m _.scitypes    \u001b[0m│\u001b[0m\n",
       "├\u001b[0m────────────────\u001b[0m┼\u001b[0m─────────────────────────────────\u001b[0m┼\u001b[0m───────────────\u001b[0m┤\u001b[0m\n",
       "│\u001b[0m Class_Name     \u001b[0m│\u001b[0m CategoricalValue{String,UInt32} \u001b[0m│\u001b[0m Multiclass{3} \u001b[0m│\u001b[0m\n",
       "│\u001b[0m Left_Weight    \u001b[0m│\u001b[0m Float64                         \u001b[0m│\u001b[0m Continuous    \u001b[0m│\u001b[0m\n",
       "│\u001b[0m Left_Distance  \u001b[0m│\u001b[0m Float64                         \u001b[0m│\u001b[0m Continuous    \u001b[0m│\u001b[0m\n",
       "│\u001b[0m Right_Weight   \u001b[0m│\u001b[0m Float64                         \u001b[0m│\u001b[0m Continuous    \u001b[0m│\u001b[0m\n",
       "│\u001b[0m Right_Distance \u001b[0m│\u001b[0m Float64                         \u001b[0m│\u001b[0m Continuous    \u001b[0m│\u001b[0m\n",
       "└\u001b[0m────────────────\u001b[0m┴\u001b[0m─────────────────────────────────\u001b[0m┴\u001b[0m───────────────\u001b[0m┘\u001b[0m\n",
       "_.nrows = 625\n"
      ]
     },
     "execution_count": 6,
     "metadata": {},
     "output_type": "execute_result"
    }
   ],
   "source": [
    "coerce!(data, :Class_Name=>Multiclass,\n",
    "              :Left_Weight=>Continuous,\n",
    "              :Right_Weight=>Continuous,\n",
    "              :Left_Distance=>Continuous,\n",
    "              :Right_Distance=>Continuous)\n",
    "schema(data)"
   ]
  },
  {
   "cell_type": "code",
   "execution_count": 7,
   "metadata": {
    "scrolled": false
   },
   "outputs": [
    {
     "data": {
      "text/plain": [
       "(CategoricalValue{String,UInt32}[\"B\", \"R\", \"R\", \"R\", \"R\", \"R\", \"R\", \"R\", \"R\", \"R\"  …  \"L\", \"L\", \"L\", \"L\", \"L\", \"L\", \"L\", \"L\", \"L\", \"B\"], 625×4 DataFrame\n",
       "│ Row │ Left_Weight │ Left_Distance │ Right_Weight │ Right_Distance │\n",
       "│     │ \u001b[90mFloat64\u001b[39m     │ \u001b[90mFloat64\u001b[39m       │ \u001b[90mFloat64\u001b[39m      │ \u001b[90mFloat64\u001b[39m        │\n",
       "├─────┼─────────────┼───────────────┼──────────────┼────────────────┤\n",
       "│ 1   │ 1.0         │ 1.0           │ 1.0          │ 1.0            │\n",
       "│ 2   │ 1.0         │ 1.0           │ 1.0          │ 2.0            │\n",
       "│ 3   │ 1.0         │ 1.0           │ 1.0          │ 3.0            │\n",
       "│ 4   │ 1.0         │ 1.0           │ 1.0          │ 4.0            │\n",
       "│ 5   │ 1.0         │ 1.0           │ 1.0          │ 5.0            │\n",
       "│ 6   │ 1.0         │ 1.0           │ 2.0          │ 1.0            │\n",
       "│ 7   │ 1.0         │ 1.0           │ 2.0          │ 2.0            │\n",
       "│ 8   │ 1.0         │ 1.0           │ 2.0          │ 3.0            │\n",
       "│ 9   │ 1.0         │ 1.0           │ 2.0          │ 4.0            │\n",
       "│ 10  │ 1.0         │ 1.0           │ 2.0          │ 5.0            │\n",
       "⋮\n",
       "│ 615 │ 5.0         │ 5.0           │ 3.0          │ 5.0            │\n",
       "│ 616 │ 5.0         │ 5.0           │ 4.0          │ 1.0            │\n",
       "│ 617 │ 5.0         │ 5.0           │ 4.0          │ 2.0            │\n",
       "│ 618 │ 5.0         │ 5.0           │ 4.0          │ 3.0            │\n",
       "│ 619 │ 5.0         │ 5.0           │ 4.0          │ 4.0            │\n",
       "│ 620 │ 5.0         │ 5.0           │ 4.0          │ 5.0            │\n",
       "│ 621 │ 5.0         │ 5.0           │ 5.0          │ 1.0            │\n",
       "│ 622 │ 5.0         │ 5.0           │ 5.0          │ 2.0            │\n",
       "│ 623 │ 5.0         │ 5.0           │ 5.0          │ 3.0            │\n",
       "│ 624 │ 5.0         │ 5.0           │ 5.0          │ 4.0            │\n",
       "│ 625 │ 5.0         │ 5.0           │ 5.0          │ 5.0            │)"
      ]
     },
     "execution_count": 7,
     "metadata": {},
     "output_type": "execute_result"
    }
   ],
   "source": [
    "y, X = unpack(data, ==(:Class_Name), colname->true)"
   ]
  },
  {
   "cell_type": "markdown",
   "metadata": {},
   "source": [
    "Partition train and test data accoring to class labels"
   ]
  },
  {
   "cell_type": "code",
   "execution_count": 8,
   "metadata": {},
   "outputs": [
    {
     "data": {
      "text/plain": [
       "([466, 234, 200, 327, 30, 75, 307, 267, 383, 247  …  96, 397, 91, 319, 259, 222, 614, 323, 563, 110], [622, 178, 249, 228, 345, 274, 454, 136, 550, 393  …  554, 241, 155, 101, 317, 113, 484, 130, 471, 348])"
      ]
     },
     "execution_count": 8,
     "metadata": {},
     "output_type": "execute_result"
    }
   ],
   "source": [
    "# data to use when trying to fit a single validation set\n",
    "train, test = partition(eachindex(y), 0.7, shuffle=true, rng=145) # gives 70:30 split"
   ]
  },
  {
   "cell_type": "code",
   "execution_count": 9,
   "metadata": {},
   "outputs": [
    {
     "data": {
      "text/plain": [
       "3-element Array{Float64,1}:\n",
       " 0.0821917808219178\n",
       " 0.4817351598173516\n",
       " 0.4360730593607306"
      ]
     },
     "execution_count": 9,
     "metadata": {},
     "output_type": "execute_result"
    }
   ],
   "source": [
    "train_counts = countmap(data[train,:Class_Name])\n",
    "collect(train_counts[i] / size(train)[1] for i in keys(train_counts))"
   ]
  },
  {
   "cell_type": "code",
   "execution_count": 10,
   "metadata": {},
   "outputs": [
    {
     "data": {
      "text/plain": [
       "3-element Array{Float64,1}:\n",
       " 0.06951871657754011\n",
       " 0.4117647058823529\n",
       " 0.5187165775401069"
      ]
     },
     "execution_count": 10,
     "metadata": {},
     "output_type": "execute_result"
    }
   ],
   "source": [
    "test_counts = countmap(data[test,:Class_Name])\n",
    "collect(test_counts[i] / size(test)[1] for i in keys(test_counts))"
   ]
  },
  {
   "cell_type": "markdown",
   "metadata": {},
   "source": [
    "# Five Learning Algorithms\n",
    "\n",
    "* Decision trees with some form of pruning\n",
    "* Neural networks\n",
    "* Boosting\n",
    "* Support Vector Machines\n",
    "* k-nearest neighbors\n",
    "\n",
    "\n",
    "##### Testing\n",
    "* Implement the algorithms\n",
    "* Design two *interesting* classification problems. For the purposes of this assignment, a classification problem is just a set of training examples and a set of test examples."
   ]
  },
  {
   "cell_type": "code",
   "execution_count": 11,
   "metadata": {},
   "outputs": [
    {
     "data": {
      "text/plain": [
       "12-element Array{NamedTuple{(:name, :package_name, :is_supervised, :docstring, :hyperparameter_ranges, :hyperparameter_types, :hyperparameters, :implemented_methods, :is_pure_julia, :is_wrapper, :load_path, :package_license, :package_url, :package_uuid, :prediction_type, :supports_online, :supports_weights, :input_scitype, :target_scitype, :output_scitype),T} where T<:Tuple,1}:\n",
       " (name = EpsilonSVR, package_name = LIBSVM, ... )\n",
       " (name = LinearSVC, package_name = LIBSVM, ... )\n",
       " (name = NuSVC, package_name = LIBSVM, ... )\n",
       " (name = NuSVR, package_name = LIBSVM, ... )\n",
       " (name = OneClassSVM, package_name = LIBSVM, ... )\n",
       " (name = SVC, package_name = LIBSVM, ... )\n",
       " (name = SVMClassifier, package_name = ScikitLearn, ... )\n",
       " (name = SVMLinearClassifier, package_name = ScikitLearn, ... )\n",
       " (name = SVMLinearRegressor, package_name = ScikitLearn, ... )\n",
       " (name = SVMNuClassifier, package_name = ScikitLearn, ... )\n",
       " (name = SVMNuRegressor, package_name = ScikitLearn, ... )\n",
       " (name = SVMRegressor, package_name = ScikitLearn, ... )"
      ]
     },
     "execution_count": 11,
     "metadata": {},
     "output_type": "execute_result"
    }
   ],
   "source": [
    "models(\"SVM\")"
   ]
  },
  {
   "cell_type": "code",
   "execution_count": 12,
   "metadata": {},
   "outputs": [
    {
     "data": {
      "text/plain": [
       "SVMClassifier(\n",
       "    C = 1.0,\n",
       "    kernel = \"rbf\",\n",
       "    degree = 3,\n",
       "    gamma = \"auto\",\n",
       "    coef0 = 0.0,\n",
       "    shrinking = true,\n",
       "    tol = 0.001,\n",
       "    cache_size = 200,\n",
       "    max_iter = -1,\n",
       "    decision_function_shape = \"ovr\",\n",
       "    random_state = nothing)\u001b[34m @878\u001b[39m"
      ]
     },
     "execution_count": 12,
     "metadata": {},
     "output_type": "execute_result"
    }
   ],
   "source": [
    "@load SVMClassifier"
   ]
  },
  {
   "cell_type": "markdown",
   "metadata": {},
   "source": [
    "## Support Vector Machines\n",
    "* This should be done in such a way that you can swap out kernel functions. I'd like to see at least two."
   ]
  },
  {
   "cell_type": "code",
   "execution_count": 17,
   "metadata": {
    "scrolled": true
   },
   "outputs": [
    {
     "name": "stderr",
     "output_type": "stream",
     "text": [
      "┌ Info: Training \u001b[34mMachine{SVMClassifier} @361\u001b[39m.\n",
      "└ @ MLJBase /home/andrew/.julia/packages/MLJBase/uKzAz/src/machines.jl:319\n",
      "\u001b[33mEvaluating over 6 folds: 100%[=========================] Time: 0:00:00\u001b[39m\n"
     ]
    },
    {
     "data": {
      "text/plain": [
       "┌\u001b[0m───────────\u001b[0m┬\u001b[0m───────────────\u001b[0m┬\u001b[0m────────────────────────────────────────────\u001b[0m┐\u001b[0m\n",
       "│\u001b[0m\u001b[22m _.measure \u001b[0m│\u001b[0m\u001b[22m _.measurement \u001b[0m│\u001b[0m\u001b[22m _.per_fold                                 \u001b[0m│\u001b[0m\n",
       "├\u001b[0m───────────\u001b[0m┼\u001b[0m───────────────\u001b[0m┼\u001b[0m────────────────────────────────────────────\u001b[0m┤\u001b[0m\n",
       "│\u001b[0m accuracy  \u001b[0m│\u001b[0m 0.917         \u001b[0m│\u001b[0m [0.848, 0.962, 0.933, 0.923, 0.923, 0.913] \u001b[0m│\u001b[0m\n",
       "└\u001b[0m───────────\u001b[0m┴\u001b[0m───────────────\u001b[0m┴\u001b[0m────────────────────────────────────────────\u001b[0m┘\u001b[0m\n",
       "_.per_observation = [missing]\n",
       "_.fitted_params_per_fold = [ … ]\n",
       "_.report_per_fold = [ … ]\n"
      ]
     },
     "execution_count": 17,
     "metadata": {},
     "output_type": "execute_result"
    }
   ],
   "source": [
    "svm_model = SVMClassifier(kernel=\"linear\")\n",
    "svm_mach = machine(svm_model, X, y)\n",
    "fit!(svm_mach, rows=train, verbosity=2)\n",
    "svm_acc = evaluate!(svm_mach, resampling=CV(shuffle=true), measure=[accuracy], \n",
    "                        verbosity=1)"
   ]
  },
  {
   "cell_type": "code",
   "execution_count": 14,
   "metadata": {},
   "outputs": [
    {
     "name": "stderr",
     "output_type": "stream",
     "text": [
      "┌ Info: Training \u001b[34mMachine{SVMClassifier} @595\u001b[39m.\n",
      "└ @ MLJBase /home/andrew/.julia/packages/MLJBase/uKzAz/src/machines.jl:319\n",
      "\u001b[33mEvaluating over 6 folds: 100%[=========================] Time: 0:00:01\u001b[39m\n"
     ]
    },
    {
     "data": {
      "text/plain": [
       "┌\u001b[0m───────────\u001b[0m┬\u001b[0m───────────────\u001b[0m┬\u001b[0m───────────────────────────────────────────\u001b[0m┐\u001b[0m\n",
       "│\u001b[0m\u001b[22m _.measure \u001b[0m│\u001b[0m\u001b[22m _.measurement \u001b[0m│\u001b[0m\u001b[22m _.per_fold                                \u001b[0m│\u001b[0m\n",
       "├\u001b[0m───────────\u001b[0m┼\u001b[0m───────────────\u001b[0m┼\u001b[0m───────────────────────────────────────────\u001b[0m┤\u001b[0m\n",
       "│\u001b[0m accuracy  \u001b[0m│\u001b[0m 0.422         \u001b[0m│\u001b[0m [0.39, 0.442, 0.413, 0.442, 0.423, 0.423] \u001b[0m│\u001b[0m\n",
       "└\u001b[0m───────────\u001b[0m┴\u001b[0m───────────────\u001b[0m┴\u001b[0m───────────────────────────────────────────\u001b[0m┘\u001b[0m\n",
       "_.per_observation = [missing]\n",
       "_.fitted_params_per_fold = [ … ]\n",
       "_.report_per_fold = [ … ]\n"
      ]
     },
     "execution_count": 14,
     "metadata": {},
     "output_type": "execute_result"
    }
   ],
   "source": [
    "svm_model = SVMClassifier(kernel=\"sigmoid\")\n",
    "svm_mach = machine(svm_model, X, y)\n",
    "fit!(svm_mach, rows=train, verbosity=2)\n",
    "svm_acc = evaluate!(svm_mach, resampling=CV(shuffle=true), measure=[accuracy], \n",
    "                        verbosity=1)"
   ]
  },
  {
   "cell_type": "code",
   "execution_count": 15,
   "metadata": {},
   "outputs": [
    {
     "name": "stderr",
     "output_type": "stream",
     "text": [
      "┌ Info: Training \u001b[34mMachine{SVMClassifier} @744\u001b[39m.\n",
      "└ @ MLJBase /home/andrew/.julia/packages/MLJBase/uKzAz/src/machines.jl:319\n",
      "\u001b[33mEvaluating over 6 folds: 100%[=========================] Time: 0:00:00\u001b[39m\n"
     ]
    },
    {
     "data": {
      "text/plain": [
       "┌\u001b[0m───────────\u001b[0m┬\u001b[0m───────────────\u001b[0m┬\u001b[0m────────────────────────────────────────────\u001b[0m┐\u001b[0m\n",
       "│\u001b[0m\u001b[22m _.measure \u001b[0m│\u001b[0m\u001b[22m _.measurement \u001b[0m│\u001b[0m\u001b[22m _.per_fold                                 \u001b[0m│\u001b[0m\n",
       "├\u001b[0m───────────\u001b[0m┼\u001b[0m───────────────\u001b[0m┼\u001b[0m────────────────────────────────────────────\u001b[0m┤\u001b[0m\n",
       "│\u001b[0m accuracy  \u001b[0m│\u001b[0m 0.896         \u001b[0m│\u001b[0m [0.933, 0.865, 0.885, 0.913, 0.894, 0.885] \u001b[0m│\u001b[0m\n",
       "└\u001b[0m───────────\u001b[0m┴\u001b[0m───────────────\u001b[0m┴\u001b[0m────────────────────────────────────────────\u001b[0m┘\u001b[0m\n",
       "_.per_observation = [missing]\n",
       "_.fitted_params_per_fold = [ … ]\n",
       "_.report_per_fold = [ … ]\n"
      ]
     },
     "execution_count": 15,
     "metadata": {},
     "output_type": "execute_result"
    }
   ],
   "source": [
    "svm_model = SVMClassifier(kernel=\"rbf\")\n",
    "svm_mach = machine(svm_model, X, y)\n",
    "fit!(svm_mach, rows=train, verbosity=2)\n",
    "svm_acc = evaluate!(svm_mach, resampling=CV(shuffle=true), measure=[accuracy], \n",
    "                        verbosity=1)"
   ]
  },
  {
   "cell_type": "markdown",
   "metadata": {},
   "source": [
    "Poly Degree 2 took a long wall clock time"
   ]
  },
  {
   "cell_type": "code",
   "execution_count": 16,
   "metadata": {
    "scrolled": true
   },
   "outputs": [
    {
     "name": "stderr",
     "output_type": "stream",
     "text": [
      "┌ Info: Training \u001b[34mMachine{SVMClassifier} @880\u001b[39m.\n",
      "└ @ MLJBase /home/andrew/.julia/packages/MLJBase/uKzAz/src/machines.jl:319\n",
      "\u001b[33mEvaluating over 6 folds: 100%[=========================] Time: 0:00:00\u001b[39m\n"
     ]
    },
    {
     "data": {
      "text/plain": [
       "┌\u001b[0m───────────\u001b[0m┬\u001b[0m───────────────\u001b[0m┬\u001b[0m──────────────────────────────────────\u001b[0m┐\u001b[0m\n",
       "│\u001b[0m\u001b[22m _.measure \u001b[0m│\u001b[0m\u001b[22m _.measurement \u001b[0m│\u001b[0m\u001b[22m _.per_fold                           \u001b[0m│\u001b[0m\n",
       "├\u001b[0m───────────\u001b[0m┼\u001b[0m───────────────\u001b[0m┼\u001b[0m──────────────────────────────────────\u001b[0m┤\u001b[0m\n",
       "│\u001b[0m accuracy  \u001b[0m│\u001b[0m 0.982         \u001b[0m│\u001b[0m [1.0, 0.99, 0.971, 1.0, 0.99, 0.942] \u001b[0m│\u001b[0m\n",
       "└\u001b[0m───────────\u001b[0m┴\u001b[0m───────────────\u001b[0m┴\u001b[0m──────────────────────────────────────\u001b[0m┘\u001b[0m\n",
       "_.per_observation = [missing]\n",
       "_.fitted_params_per_fold = [ … ]\n",
       "_.report_per_fold = [ … ]\n"
      ]
     },
     "execution_count": 16,
     "metadata": {},
     "output_type": "execute_result"
    }
   ],
   "source": [
    "svm_model = SVMClassifier(kernel=\"poly\", degree=2)\n",
    "svm_mach = machine(svm_model, X, y)\n",
    "fit!(svm_mach, rows=train, verbosity=2)\n",
    "svm_acc = evaluate!(svm_mach, resampling=CV(shuffle=true), measure=[accuracy], \n",
    "                        verbosity=1)"
   ]
  },
  {
   "cell_type": "markdown",
   "metadata": {},
   "source": [
    "Can't use crossentropy because it is a probabilistic concept, and SVM doesn't do probabilities?"
   ]
  },
  {
   "cell_type": "markdown",
   "metadata": {},
   "source": [
    "## GridSearch / RandomSearch"
   ]
  },
  {
   "cell_type": "markdown",
   "metadata": {},
   "source": [
    "Use `linear` and `rbf`: \n",
    "* `linear` which has high bias\n",
    "* `rbf` which has high variance"
   ]
  },
  {
   "cell_type": "markdown",
   "metadata": {},
   "source": [
    "### Second look at `linear`"
   ]
  },
  {
   "cell_type": "code",
   "execution_count": 24,
   "metadata": {},
   "outputs": [
    {
     "data": {
      "text/plain": [
       "\u001b[34mMachine{SVMClassifier} @452\u001b[39m trained 0 times.\n",
       "  args: \n",
       "    1:\t\u001b[34mSource @472\u001b[39m ⏎ `Table{AbstractArray{Continuous,1}}`\n",
       "    2:\t\u001b[34mSource @153\u001b[39m ⏎ `AbstractArray{Multiclass{3},1}`\n"
      ]
     },
     "execution_count": 24,
     "metadata": {},
     "output_type": "execute_result"
    }
   ],
   "source": [
    "svm_linear_model = SVMClassifier(kernel=\"linear\", cache_size=2000)\n",
    "svm_linear_mach = machine(svm_linear_model, X, y)"
   ]
  },
  {
   "cell_type": "code",
   "execution_count": 28,
   "metadata": {
    "scrolled": true
   },
   "outputs": [
    {
     "name": "stderr",
     "output_type": "stream",
     "text": [
      "┌ Info: Training \u001b[34mMachine{DeterministicTunedModel{Grid,…}} @894\u001b[39m.\n",
      "└ @ MLJBase /home/andrew/.julia/packages/MLJBase/uKzAz/src/machines.jl:319\n",
      "┌ Info: Attempting to evaluate 500 models.\n",
      "└ @ MLJTuning /home/andrew/.julia/packages/MLJTuning/Bbgvk/src/tuned_models.jl:494\n",
      "\u001b[33mEvaluating over 500 metamodels: 100%[=========================] Time: 0:00:09\u001b[39m\n"
     ]
    },
    {
     "data": {
      "text/plain": [
       "(parameter_name = \"C\",\n",
       " parameter_scale = :log10,\n",
       " parameter_values = [0.001, 0.0010139394576752917, 0.0010280732238308647, 0.0010424040070215568, 0.0010569345535579883, 0.0010716676480328634, 0.001086606113854597, 0.0011017528137883873, 0.0011171106505048242, 0.0011326825671361539  …  0.8828598841495149, 0.8951664721378303, 0.907644607288536, 0.9202966808760416, 0.9331251175078248, 0.946132375589077, 0.9593209477938244, 0.9726933615426174, 0.9862521794868782, 1.0],\n",
       " measurements = [0.8019230769230768, 0.8019230769230768, 0.8114926739926741, 0.8130799755799757, 0.8162545787545789, 0.8210164835164836, 0.8273656898656899, 0.8273656898656899, 0.828968253968254, 0.8242216117216117  …  0.9167277167277167, 0.9167277167277167, 0.9167277167277167, 0.9167277167277167, 0.9167277167277167, 0.9167277167277167, 0.9167277167277167, 0.9167277167277167, 0.9167277167277167, 0.9167277167277167],)"
      ]
     },
     "execution_count": 28,
     "metadata": {},
     "output_type": "execute_result"
    }
   ],
   "source": [
    "r1 = range(svm_linear_model, :C, lower=10^-3, upper=10^0, scale=:log10)\n",
    "curve = learning_curve(svm_linear_mach, \n",
    "                        range=r1,\n",
    "                        resampling=CV(), \n",
    "                        measure=accuracy, \n",
    "                        acceleration=CPUThreads(),\n",
    "                        resolution=500)"
   ]
  },
  {
   "cell_type": "code",
   "execution_count": 29,
   "metadata": {},
   "outputs": [
    {
     "data": {
      "image/svg+xml": [
       "<?xml version=\"1.0\" encoding=\"utf-8\"?>\n",
       "<svg xmlns=\"http://www.w3.org/2000/svg\" xmlns:xlink=\"http://www.w3.org/1999/xlink\" width=\"600\" height=\"400\" viewBox=\"0 0 2400 1600\">\n",
       "<defs>\n",
       "  <clipPath id=\"clip730\">\n",
       "    <rect x=\"0\" y=\"0\" width=\"2400\" height=\"1600\"/>\n",
       "  </clipPath>\n",
       "</defs>\n",
       "<path clip-path=\"url(#clip730)\" d=\"\n",
       "M0 1600 L2400 1600 L2400 0 L0 0  Z\n",
       "  \" fill=\"#ffffff\" fill-rule=\"evenodd\" fill-opacity=\"1\"/>\n",
       "<defs>\n",
       "  <clipPath id=\"clip731\">\n",
       "    <rect x=\"480\" y=\"0\" width=\"1681\" height=\"1600\"/>\n",
       "  </clipPath>\n",
       "</defs>\n",
       "<path clip-path=\"url(#clip730)\" d=\"\n",
       "M265.051 1410.9 L2352.76 1410.9 L2352.76 123.472 L265.051 123.472  Z\n",
       "  \" fill=\"#ffffff\" fill-rule=\"evenodd\" fill-opacity=\"1\"/>\n",
       "<defs>\n",
       "  <clipPath id=\"clip732\">\n",
       "    <rect x=\"265\" y=\"123\" width=\"2089\" height=\"1288\"/>\n",
       "  </clipPath>\n",
       "</defs>\n",
       "<polyline clip-path=\"url(#clip732)\" style=\"stroke:#000000; stroke-width:2; stroke-opacity:0.1; fill:none\" points=\"\n",
       "  324.137,1410.9 324.137,123.472 \n",
       "  \"/>\n",
       "<polyline clip-path=\"url(#clip732)\" style=\"stroke:#000000; stroke-width:2; stroke-opacity:0.1; fill:none\" points=\"\n",
       "  980.648,1410.9 980.648,123.472 \n",
       "  \"/>\n",
       "<polyline clip-path=\"url(#clip732)\" style=\"stroke:#000000; stroke-width:2; stroke-opacity:0.1; fill:none\" points=\"\n",
       "  1637.16,1410.9 1637.16,123.472 \n",
       "  \"/>\n",
       "<polyline clip-path=\"url(#clip732)\" style=\"stroke:#000000; stroke-width:2; stroke-opacity:0.1; fill:none\" points=\"\n",
       "  2293.67,1410.9 2293.67,123.472 \n",
       "  \"/>\n",
       "<polyline clip-path=\"url(#clip732)\" style=\"stroke:#000000; stroke-width:2; stroke-opacity:0.1; fill:none\" points=\"\n",
       "  265.051,1394.8 2352.76,1394.8 \n",
       "  \"/>\n",
       "<polyline clip-path=\"url(#clip732)\" style=\"stroke:#000000; stroke-width:2; stroke-opacity:0.1; fill:none\" points=\"\n",
       "  265.051,1130.32 2352.76,1130.32 \n",
       "  \"/>\n",
       "<polyline clip-path=\"url(#clip732)\" style=\"stroke:#000000; stroke-width:2; stroke-opacity:0.1; fill:none\" points=\"\n",
       "  265.051,865.84 2352.76,865.84 \n",
       "  \"/>\n",
       "<polyline clip-path=\"url(#clip732)\" style=\"stroke:#000000; stroke-width:2; stroke-opacity:0.1; fill:none\" points=\"\n",
       "  265.051,601.358 2352.76,601.358 \n",
       "  \"/>\n",
       "<polyline clip-path=\"url(#clip732)\" style=\"stroke:#000000; stroke-width:2; stroke-opacity:0.1; fill:none\" points=\"\n",
       "  265.051,336.876 2352.76,336.876 \n",
       "  \"/>\n",
       "<polyline clip-path=\"url(#clip730)\" style=\"stroke:#000000; stroke-width:4; stroke-opacity:1; fill:none\" points=\"\n",
       "  265.051,1410.9 2352.76,1410.9 \n",
       "  \"/>\n",
       "<polyline clip-path=\"url(#clip730)\" style=\"stroke:#000000; stroke-width:4; stroke-opacity:1; fill:none\" points=\"\n",
       "  265.051,1410.9 265.051,123.472 \n",
       "  \"/>\n",
       "<polyline clip-path=\"url(#clip730)\" style=\"stroke:#000000; stroke-width:4; stroke-opacity:1; fill:none\" points=\"\n",
       "  324.137,1410.9 324.137,1395.45 \n",
       "  \"/>\n",
       "<polyline clip-path=\"url(#clip730)\" style=\"stroke:#000000; stroke-width:4; stroke-opacity:1; fill:none\" points=\"\n",
       "  980.648,1410.9 980.648,1395.45 \n",
       "  \"/>\n",
       "<polyline clip-path=\"url(#clip730)\" style=\"stroke:#000000; stroke-width:4; stroke-opacity:1; fill:none\" points=\"\n",
       "  1637.16,1410.9 1637.16,1395.45 \n",
       "  \"/>\n",
       "<polyline clip-path=\"url(#clip730)\" style=\"stroke:#000000; stroke-width:4; stroke-opacity:1; fill:none\" points=\"\n",
       "  2293.67,1410.9 2293.67,1395.45 \n",
       "  \"/>\n",
       "<polyline clip-path=\"url(#clip730)\" style=\"stroke:#000000; stroke-width:4; stroke-opacity:1; fill:none\" points=\"\n",
       "  265.051,1394.8 290.104,1394.8 \n",
       "  \"/>\n",
       "<polyline clip-path=\"url(#clip730)\" style=\"stroke:#000000; stroke-width:4; stroke-opacity:1; fill:none\" points=\"\n",
       "  265.051,1130.32 290.104,1130.32 \n",
       "  \"/>\n",
       "<polyline clip-path=\"url(#clip730)\" style=\"stroke:#000000; stroke-width:4; stroke-opacity:1; fill:none\" points=\"\n",
       "  265.051,865.84 290.104,865.84 \n",
       "  \"/>\n",
       "<polyline clip-path=\"url(#clip730)\" style=\"stroke:#000000; stroke-width:4; stroke-opacity:1; fill:none\" points=\"\n",
       "  265.051,601.358 290.104,601.358 \n",
       "  \"/>\n",
       "<polyline clip-path=\"url(#clip730)\" style=\"stroke:#000000; stroke-width:4; stroke-opacity:1; fill:none\" points=\"\n",
       "  265.051,336.876 290.104,336.876 \n",
       "  \"/>\n",
       "<path clip-path=\"url(#clip730)\" d=\"M 0 0 M278.246 1481.97 L285.884 1481.97 L285.884 1455.6 L277.574 1457.27 L277.574 1453.01 L285.838 1451.34 L290.514 1451.34 L290.514 1481.97 L298.153 1481.97 L298.153 1485.9 L278.246 1485.9 L278.246 1481.97 Z\" fill=\"#000000\" fill-rule=\"evenodd\" fill-opacity=\"1\" /><path clip-path=\"url(#clip730)\" d=\"M 0 0 M313.222 1454.42 Q309.611 1454.42 307.782 1457.99 Q305.977 1461.53 305.977 1468.66 Q305.977 1475.77 307.782 1479.33 Q309.611 1482.87 313.222 1482.87 Q316.856 1482.87 318.662 1479.33 Q320.491 1475.77 320.491 1468.66 Q320.491 1461.53 318.662 1457.99 Q316.856 1454.42 313.222 1454.42 M313.222 1450.72 Q319.032 1450.72 322.088 1455.33 Q325.167 1459.91 325.167 1468.66 Q325.167 1477.39 322.088 1481.99 Q319.032 1486.58 313.222 1486.58 Q307.412 1486.58 304.333 1481.99 Q301.278 1477.39 301.278 1468.66 Q301.278 1459.91 304.333 1455.33 Q307.412 1450.72 313.222 1450.72 Z\" fill=\"#000000\" fill-rule=\"evenodd\" fill-opacity=\"1\" /><path clip-path=\"url(#clip730)\" d=\"M 0 0 M325.167 1444.82 L349.278 1444.82 L349.278 1448.02 L325.167 1448.02 L325.167 1444.82 Z\" fill=\"#000000\" fill-rule=\"evenodd\" fill-opacity=\"1\" /><path clip-path=\"url(#clip730)\" d=\"M 0 0 M364.907 1443.35 Q367.634 1443.94 369.158 1445.78 Q370.7 1447.62 370.7 1450.33 Q370.7 1454.49 367.841 1456.76 Q364.983 1459.04 359.716 1459.04 Q357.948 1459.04 356.068 1458.68 Q354.206 1458.34 352.212 1457.65 L352.212 1453.98 Q353.792 1454.9 355.673 1455.37 Q357.554 1455.84 359.604 1455.84 Q363.177 1455.84 365.039 1454.43 Q366.92 1453.02 366.92 1450.33 Q366.92 1447.85 365.171 1446.46 Q363.44 1445.05 360.337 1445.05 L357.065 1445.05 L357.065 1441.92 L360.488 1441.92 Q363.29 1441.92 364.776 1440.81 Q366.262 1439.69 366.262 1437.58 Q366.262 1435.42 364.719 1434.27 Q363.196 1433.1 360.337 1433.1 Q358.776 1433.1 356.989 1433.44 Q355.203 1433.78 353.058 1434.49 L353.058 1431.11 Q355.221 1430.51 357.102 1430.21 Q359.002 1429.91 360.676 1429.91 Q365.001 1429.91 367.522 1431.88 Q370.042 1433.84 370.042 1437.18 Q370.042 1439.52 368.707 1441.13 Q367.371 1442.73 364.907 1443.35 Z\" fill=\"#000000\" fill-rule=\"evenodd\" fill-opacity=\"1\" /><path clip-path=\"url(#clip730)\" d=\"M 0 0 M935.142 1481.97 L942.781 1481.97 L942.781 1455.6 L934.471 1457.27 L934.471 1453.01 L942.735 1451.34 L947.41 1451.34 L947.41 1481.97 L955.049 1481.97 L955.049 1485.9 L935.142 1485.9 L935.142 1481.97 Z\" fill=\"#000000\" fill-rule=\"evenodd\" fill-opacity=\"1\" /><path clip-path=\"url(#clip730)\" d=\"M 0 0 M970.119 1454.42 Q966.508 1454.42 964.679 1457.99 Q962.873 1461.53 962.873 1468.66 Q962.873 1475.77 964.679 1479.33 Q966.508 1482.87 970.119 1482.87 Q973.753 1482.87 975.558 1479.33 Q977.387 1475.77 977.387 1468.66 Q977.387 1461.53 975.558 1457.99 Q973.753 1454.42 970.119 1454.42 M970.119 1450.72 Q975.929 1450.72 978.984 1455.33 Q982.063 1459.91 982.063 1468.66 Q982.063 1477.39 978.984 1481.99 Q975.929 1486.58 970.119 1486.58 Q964.308 1486.58 961.23 1481.99 Q958.174 1477.39 958.174 1468.66 Q958.174 1459.91 961.23 1455.33 Q964.308 1450.72 970.119 1450.72 Z\" fill=\"#000000\" fill-rule=\"evenodd\" fill-opacity=\"1\" /><path clip-path=\"url(#clip730)\" d=\"M 0 0 M982.063 1444.82 L1006.17 1444.82 L1006.17 1448.02 L982.063 1448.02 L982.063 1444.82 Z\" fill=\"#000000\" fill-rule=\"evenodd\" fill-opacity=\"1\" /><path clip-path=\"url(#clip730)\" d=\"M 0 0 M1013.57 1455.3 L1026.83 1455.3 L1026.83 1458.49 L1009 1458.49 L1009 1455.3 Q1011.16 1453.06 1014.88 1449.3 Q1018.63 1445.52 1019.58 1444.43 Q1021.41 1442.38 1022.12 1440.96 Q1022.86 1439.54 1022.86 1438.16 Q1022.86 1435.92 1021.28 1434.51 Q1019.72 1433.1 1017.2 1433.1 Q1015.41 1433.1 1013.42 1433.72 Q1011.44 1434.34 1009.18 1435.6 L1009.18 1431.77 Q1011.48 1430.85 1013.47 1430.38 Q1015.47 1429.91 1017.12 1429.91 Q1021.48 1429.91 1024.08 1432.09 Q1026.68 1434.27 1026.68 1437.92 Q1026.68 1439.65 1026.02 1441.21 Q1025.38 1442.75 1023.67 1444.86 Q1023.2 1445.4 1020.68 1448.02 Q1018.16 1450.61 1013.57 1455.3 Z\" fill=\"#000000\" fill-rule=\"evenodd\" fill-opacity=\"1\" /><path clip-path=\"url(#clip730)\" d=\"M 0 0 M1591.5 1481.97 L1599.14 1481.97 L1599.14 1455.6 L1590.83 1457.27 L1590.83 1453.01 L1599.09 1451.34 L1603.77 1451.34 L1603.77 1481.97 L1611.41 1481.97 L1611.41 1485.9 L1591.5 1485.9 L1591.5 1481.97 Z\" fill=\"#000000\" fill-rule=\"evenodd\" fill-opacity=\"1\" /><path clip-path=\"url(#clip730)\" d=\"M 0 0 M1626.48 1454.42 Q1622.87 1454.42 1621.04 1457.99 Q1619.23 1461.53 1619.23 1468.66 Q1619.23 1475.77 1621.04 1479.33 Q1622.87 1482.87 1626.48 1482.87 Q1630.11 1482.87 1631.92 1479.33 Q1633.75 1475.77 1633.75 1468.66 Q1633.75 1461.53 1631.92 1457.99 Q1630.11 1454.42 1626.48 1454.42 M1626.48 1450.72 Q1632.29 1450.72 1635.34 1455.33 Q1638.42 1459.91 1638.42 1468.66 Q1638.42 1477.39 1635.34 1481.99 Q1632.29 1486.58 1626.48 1486.58 Q1620.67 1486.58 1617.59 1481.99 Q1614.53 1477.39 1614.53 1468.66 Q1614.53 1459.91 1617.59 1455.33 Q1620.67 1450.72 1626.48 1450.72 Z\" fill=\"#000000\" fill-rule=\"evenodd\" fill-opacity=\"1\" /><path clip-path=\"url(#clip730)\" d=\"M 0 0 M1638.42 1444.82 L1662.54 1444.82 L1662.54 1448.02 L1638.42 1448.02 L1638.42 1444.82 Z\" fill=\"#000000\" fill-rule=\"evenodd\" fill-opacity=\"1\" /><path clip-path=\"url(#clip730)\" d=\"M 0 0 M1667.31 1455.3 L1673.52 1455.3 L1673.52 1433.87 L1666.77 1435.23 L1666.77 1431.77 L1673.48 1430.41 L1677.28 1430.41 L1677.28 1455.3 L1683.49 1455.3 L1683.49 1458.49 L1667.31 1458.49 L1667.31 1455.3 Z\" fill=\"#000000\" fill-rule=\"evenodd\" fill-opacity=\"1\" /><path clip-path=\"url(#clip730)\" d=\"M 0 0 M2260.84 1481.97 L2268.48 1481.97 L2268.48 1455.6 L2260.17 1457.27 L2260.17 1453.01 L2268.43 1451.34 L2273.11 1451.34 L2273.11 1481.97 L2280.75 1481.97 L2280.75 1485.9 L2260.84 1485.9 L2260.84 1481.97 Z\" fill=\"#000000\" fill-rule=\"evenodd\" fill-opacity=\"1\" /><path clip-path=\"url(#clip730)\" d=\"M 0 0 M2295.82 1454.42 Q2292.21 1454.42 2290.38 1457.99 Q2288.57 1461.53 2288.57 1468.66 Q2288.57 1475.77 2290.38 1479.33 Q2292.21 1482.87 2295.82 1482.87 Q2299.45 1482.87 2301.26 1479.33 Q2303.09 1475.77 2303.09 1468.66 Q2303.09 1461.53 2301.26 1457.99 Q2299.45 1454.42 2295.82 1454.42 M2295.82 1450.72 Q2301.63 1450.72 2304.68 1455.33 Q2307.76 1459.91 2307.76 1468.66 Q2307.76 1477.39 2304.68 1481.99 Q2301.63 1486.58 2295.82 1486.58 Q2290.01 1486.58 2286.93 1481.99 Q2283.87 1477.39 2283.87 1468.66 Q2283.87 1459.91 2286.93 1455.33 Q2290.01 1450.72 2295.82 1450.72 Z\" fill=\"#000000\" fill-rule=\"evenodd\" fill-opacity=\"1\" /><path clip-path=\"url(#clip730)\" d=\"M 0 0 M2317.47 1432.91 Q2314.53 1432.91 2313.05 1435.81 Q2311.58 1438.69 2311.58 1444.48 Q2311.58 1450.26 2313.05 1453.15 Q2314.53 1456.03 2317.47 1456.03 Q2320.42 1456.03 2321.89 1453.15 Q2323.37 1450.26 2323.37 1444.48 Q2323.37 1438.69 2321.89 1435.81 Q2320.42 1432.91 2317.47 1432.91 M2317.47 1429.91 Q2322.19 1429.91 2324.67 1433.65 Q2327.17 1437.37 2327.17 1444.48 Q2327.17 1451.57 2324.67 1455.31 Q2322.19 1459.04 2317.47 1459.04 Q2312.75 1459.04 2310.24 1455.31 Q2307.76 1451.57 2307.76 1444.48 Q2307.76 1437.37 2310.24 1433.65 Q2312.75 1429.91 2317.47 1429.91 Z\" fill=\"#000000\" fill-rule=\"evenodd\" fill-opacity=\"1\" /><path clip-path=\"url(#clip730)\" d=\"M 0 0 M138.205 1380.6 Q134.593 1380.6 132.765 1384.17 Q130.959 1387.71 130.959 1394.84 Q130.959 1401.95 132.765 1405.51 Q134.593 1409.05 138.205 1409.05 Q141.839 1409.05 143.644 1405.51 Q145.473 1401.95 145.473 1394.84 Q145.473 1387.71 143.644 1384.17 Q141.839 1380.6 138.205 1380.6 M138.205 1376.9 Q144.015 1376.9 147.07 1381.51 Q150.149 1386.09 150.149 1394.84 Q150.149 1403.57 147.07 1408.17 Q144.015 1412.76 138.205 1412.76 Q132.394 1412.76 129.316 1408.17 Q126.26 1403.57 126.26 1394.84 Q126.26 1386.09 129.316 1381.51 Q132.394 1376.9 138.205 1376.9 Z\" fill=\"#000000\" fill-rule=\"evenodd\" fill-opacity=\"1\" /><path clip-path=\"url(#clip730)\" d=\"M 0 0 M155.218 1406.21 L160.103 1406.21 L160.103 1412.08 L155.218 1412.08 L155.218 1406.21 Z\" fill=\"#000000\" fill-rule=\"evenodd\" fill-opacity=\"1\" /><path clip-path=\"url(#clip730)\" d=\"M 0 0 M175.172 1395.67 Q171.839 1395.67 169.917 1397.46 Q168.019 1399.24 168.019 1402.36 Q168.019 1405.49 169.917 1407.27 Q171.839 1409.05 175.172 1409.05 Q178.505 1409.05 180.427 1407.27 Q182.348 1405.46 182.348 1402.36 Q182.348 1399.24 180.427 1397.46 Q178.528 1395.67 175.172 1395.67 M170.496 1393.68 Q167.487 1392.94 165.797 1390.88 Q164.13 1388.82 164.13 1385.86 Q164.13 1381.71 167.07 1379.31 Q170.033 1376.9 175.172 1376.9 Q180.334 1376.9 183.274 1379.31 Q186.214 1381.71 186.214 1385.86 Q186.214 1388.82 184.524 1390.88 Q182.857 1392.94 179.871 1393.68 Q183.251 1394.47 185.126 1396.76 Q187.024 1399.05 187.024 1402.36 Q187.024 1407.39 183.945 1410.07 Q180.889 1412.76 175.172 1412.76 Q169.454 1412.76 166.376 1410.07 Q163.32 1407.39 163.32 1402.36 Q163.32 1399.05 165.218 1396.76 Q167.116 1394.47 170.496 1393.68 M168.783 1386.3 Q168.783 1388.98 170.45 1390.49 Q172.14 1391.99 175.172 1391.99 Q178.181 1391.99 179.871 1390.49 Q181.584 1388.98 181.584 1386.3 Q181.584 1383.61 179.871 1382.11 Q178.181 1380.6 175.172 1380.6 Q172.14 1380.6 170.45 1382.11 Q168.783 1383.61 168.783 1386.3 Z\" fill=\"#000000\" fill-rule=\"evenodd\" fill-opacity=\"1\" /><path clip-path=\"url(#clip730)\" d=\"M 0 0 M202.093 1380.6 Q198.482 1380.6 196.653 1384.17 Q194.848 1387.71 194.848 1394.84 Q194.848 1401.95 196.653 1405.51 Q198.482 1409.05 202.093 1409.05 Q205.727 1409.05 207.533 1405.51 Q209.362 1401.95 209.362 1394.84 Q209.362 1387.71 207.533 1384.17 Q205.727 1380.6 202.093 1380.6 M202.093 1376.9 Q207.903 1376.9 210.959 1381.51 Q214.037 1386.09 214.037 1394.84 Q214.037 1403.57 210.959 1408.17 Q207.903 1412.76 202.093 1412.76 Q196.283 1412.76 193.204 1408.17 Q190.149 1403.57 190.149 1394.84 Q190.149 1386.09 193.204 1381.51 Q196.283 1376.9 202.093 1376.9 Z\" fill=\"#000000\" fill-rule=\"evenodd\" fill-opacity=\"1\" /><path clip-path=\"url(#clip730)\" d=\"M 0 0 M229.107 1380.6 Q225.496 1380.6 223.667 1384.17 Q221.861 1387.71 221.861 1394.84 Q221.861 1401.95 223.667 1405.51 Q225.496 1409.05 229.107 1409.05 Q232.741 1409.05 234.547 1405.51 Q236.375 1401.95 236.375 1394.84 Q236.375 1387.71 234.547 1384.17 Q232.741 1380.6 229.107 1380.6 M229.107 1376.9 Q234.917 1376.9 237.973 1381.51 Q241.051 1386.09 241.051 1394.84 Q241.051 1403.57 237.973 1408.17 Q234.917 1412.76 229.107 1412.76 Q223.297 1412.76 220.218 1408.17 Q217.162 1403.57 217.162 1394.84 Q217.162 1386.09 220.218 1381.51 Q223.297 1376.9 229.107 1376.9 Z\" fill=\"#000000\" fill-rule=\"evenodd\" fill-opacity=\"1\" /><path clip-path=\"url(#clip730)\" d=\"M 0 0 M140.797 1116.12 Q137.186 1116.12 135.357 1119.69 Q133.552 1123.23 133.552 1130.36 Q133.552 1137.46 135.357 1141.03 Q137.186 1144.57 140.797 1144.57 Q144.431 1144.57 146.237 1141.03 Q148.066 1137.46 148.066 1130.36 Q148.066 1123.23 146.237 1119.69 Q144.431 1116.12 140.797 1116.12 M140.797 1112.42 Q146.607 1112.42 149.663 1117.02 Q152.741 1121.61 152.741 1130.36 Q152.741 1139.08 149.663 1143.69 Q146.607 1148.27 140.797 1148.27 Q134.987 1148.27 131.908 1143.69 Q128.853 1139.08 128.853 1130.36 Q128.853 1121.61 131.908 1117.02 Q134.987 1112.42 140.797 1112.42 Z\" fill=\"#000000\" fill-rule=\"evenodd\" fill-opacity=\"1\" /><path clip-path=\"url(#clip730)\" d=\"M 0 0 M157.811 1141.72 L162.695 1141.72 L162.695 1147.6 L157.811 1147.6 L157.811 1141.72 Z\" fill=\"#000000\" fill-rule=\"evenodd\" fill-opacity=\"1\" /><path clip-path=\"url(#clip730)\" d=\"M 0 0 M177.765 1131.19 Q174.431 1131.19 172.51 1132.97 Q170.612 1134.76 170.612 1137.88 Q170.612 1141.01 172.51 1142.79 Q174.431 1144.57 177.765 1144.57 Q181.098 1144.57 183.019 1142.79 Q184.94 1140.98 184.94 1137.88 Q184.94 1134.76 183.019 1132.97 Q181.121 1131.19 177.765 1131.19 M173.089 1129.2 Q170.079 1128.46 168.39 1126.4 Q166.723 1124.34 166.723 1121.38 Q166.723 1117.23 169.663 1114.83 Q172.626 1112.42 177.765 1112.42 Q182.927 1112.42 185.866 1114.83 Q188.806 1117.23 188.806 1121.38 Q188.806 1124.34 187.116 1126.4 Q185.45 1128.46 182.464 1129.2 Q185.843 1129.99 187.718 1132.28 Q189.616 1134.57 189.616 1137.88 Q189.616 1142.9 186.538 1145.59 Q183.482 1148.27 177.765 1148.27 Q172.047 1148.27 168.968 1145.59 Q165.913 1142.9 165.913 1137.88 Q165.913 1134.57 167.811 1132.28 Q169.709 1129.99 173.089 1129.2 M171.376 1121.82 Q171.376 1124.5 173.042 1126.01 Q174.732 1127.51 177.765 1127.51 Q180.774 1127.51 182.464 1126.01 Q184.177 1124.5 184.177 1121.82 Q184.177 1119.13 182.464 1117.63 Q180.774 1116.12 177.765 1116.12 Q174.732 1116.12 173.042 1117.63 Q171.376 1119.13 171.376 1121.82 Z\" fill=\"#000000\" fill-rule=\"evenodd\" fill-opacity=\"1\" /><path clip-path=\"url(#clip730)\" d=\"M 0 0 M198.713 1143.67 L215.033 1143.67 L215.033 1147.6 L193.089 1147.6 L193.089 1143.67 Q195.751 1140.91 200.334 1136.28 Q204.94 1131.63 206.121 1130.29 Q208.366 1127.76 209.246 1126.03 Q210.149 1124.27 210.149 1122.58 Q210.149 1119.83 208.204 1118.09 Q206.283 1116.35 203.181 1116.35 Q200.982 1116.35 198.528 1117.12 Q196.098 1117.88 193.32 1119.43 L193.32 1114.71 Q196.144 1113.58 198.598 1113 Q201.051 1112.42 203.088 1112.42 Q208.459 1112.42 211.653 1115.1 Q214.848 1117.79 214.848 1122.28 Q214.848 1124.41 214.037 1126.33 Q213.25 1128.23 211.144 1130.82 Q210.565 1131.49 207.463 1134.71 Q204.362 1137.9 198.713 1143.67 Z\" fill=\"#000000\" fill-rule=\"evenodd\" fill-opacity=\"1\" /><path clip-path=\"url(#clip730)\" d=\"M 0 0 M220.149 1113.04 L238.505 1113.04 L238.505 1116.98 L224.431 1116.98 L224.431 1125.45 Q225.449 1125.1 226.468 1124.94 Q227.486 1124.76 228.505 1124.76 Q234.292 1124.76 237.672 1127.93 Q241.051 1131.1 241.051 1136.51 Q241.051 1142.09 237.579 1145.2 Q234.107 1148.27 227.787 1148.27 Q225.611 1148.27 223.343 1147.9 Q221.098 1147.53 218.69 1146.79 L218.69 1142.09 Q220.774 1143.23 222.996 1143.78 Q225.218 1144.34 227.695 1144.34 Q231.699 1144.34 234.037 1142.23 Q236.375 1140.13 236.375 1136.51 Q236.375 1132.9 234.037 1130.8 Q231.699 1128.69 227.695 1128.69 Q225.82 1128.69 223.945 1129.11 Q222.093 1129.52 220.149 1130.4 L220.149 1113.04 Z\" fill=\"#000000\" fill-rule=\"evenodd\" fill-opacity=\"1\" /><path clip-path=\"url(#clip730)\" d=\"M 0 0 M139.2 851.639 Q135.589 851.639 133.76 855.204 Q131.955 858.746 131.955 865.875 Q131.955 872.982 133.76 876.546 Q135.589 880.088 139.2 880.088 Q142.834 880.088 144.64 876.546 Q146.468 872.982 146.468 865.875 Q146.468 858.746 144.64 855.204 Q142.834 851.639 139.2 851.639 M139.2 847.935 Q145.01 847.935 148.066 852.542 Q151.144 857.125 151.144 865.875 Q151.144 874.602 148.066 879.208 Q145.01 883.792 139.2 883.792 Q133.39 883.792 130.311 879.208 Q127.256 874.602 127.256 865.875 Q127.256 857.125 130.311 852.542 Q133.39 847.935 139.2 847.935 Z\" fill=\"#000000\" fill-rule=\"evenodd\" fill-opacity=\"1\" /><path clip-path=\"url(#clip730)\" d=\"M 0 0 M156.214 877.241 L161.098 877.241 L161.098 883.12 L156.214 883.12 L156.214 877.241 Z\" fill=\"#000000\" fill-rule=\"evenodd\" fill-opacity=\"1\" /><path clip-path=\"url(#clip730)\" d=\"M 0 0 M176.167 866.709 Q172.834 866.709 170.913 868.491 Q169.015 870.273 169.015 873.398 Q169.015 876.523 170.913 878.306 Q172.834 880.088 176.167 880.088 Q179.501 880.088 181.422 878.306 Q183.343 876.5 183.343 873.398 Q183.343 870.273 181.422 868.491 Q179.524 866.709 176.167 866.709 M171.491 864.718 Q168.482 863.977 166.792 861.917 Q165.126 859.857 165.126 856.894 Q165.126 852.75 168.065 850.343 Q171.028 847.935 176.167 847.935 Q181.329 847.935 184.269 850.343 Q187.209 852.75 187.209 856.894 Q187.209 859.857 185.519 861.917 Q183.852 863.977 180.866 864.718 Q184.246 865.505 186.121 867.796 Q188.019 870.088 188.019 873.398 Q188.019 878.421 184.94 881.107 Q181.885 883.792 176.167 883.792 Q170.45 883.792 167.371 881.107 Q164.316 878.421 164.316 873.398 Q164.316 870.088 166.214 867.796 Q168.112 865.505 171.491 864.718 M169.778 857.334 Q169.778 860.019 171.445 861.523 Q173.135 863.028 176.167 863.028 Q179.177 863.028 180.866 861.523 Q182.579 860.019 182.579 857.334 Q182.579 854.648 180.866 853.144 Q179.177 851.639 176.167 851.639 Q173.135 851.639 171.445 853.144 Q169.778 854.648 169.778 857.334 Z\" fill=\"#000000\" fill-rule=\"evenodd\" fill-opacity=\"1\" /><path clip-path=\"url(#clip730)\" d=\"M 0 0 M193.135 848.56 L211.491 848.56 L211.491 852.496 L197.417 852.496 L197.417 860.968 Q198.436 860.621 199.454 860.459 Q200.473 860.273 201.491 860.273 Q207.278 860.273 210.658 863.445 Q214.037 866.616 214.037 872.033 Q214.037 877.611 210.565 880.713 Q207.093 883.792 200.774 883.792 Q198.598 883.792 196.329 883.421 Q194.084 883.051 191.676 882.31 L191.676 877.611 Q193.76 878.745 195.982 879.301 Q198.204 879.857 200.681 879.857 Q204.686 879.857 207.024 877.75 Q209.362 875.644 209.362 872.033 Q209.362 868.421 207.024 866.315 Q204.686 864.209 200.681 864.209 Q198.806 864.209 196.931 864.625 Q195.079 865.042 193.135 865.921 L193.135 848.56 Z\" fill=\"#000000\" fill-rule=\"evenodd\" fill-opacity=\"1\" /><path clip-path=\"url(#clip730)\" d=\"M 0 0 M229.107 851.639 Q225.496 851.639 223.667 855.204 Q221.861 858.746 221.861 865.875 Q221.861 872.982 223.667 876.546 Q225.496 880.088 229.107 880.088 Q232.741 880.088 234.547 876.546 Q236.375 872.982 236.375 865.875 Q236.375 858.746 234.547 855.204 Q232.741 851.639 229.107 851.639 M229.107 847.935 Q234.917 847.935 237.973 852.542 Q241.051 857.125 241.051 865.875 Q241.051 874.602 237.973 879.208 Q234.917 883.792 229.107 883.792 Q223.297 883.792 220.218 879.208 Q217.162 874.602 217.162 865.875 Q217.162 857.125 220.218 852.542 Q223.297 847.935 229.107 847.935 Z\" fill=\"#000000\" fill-rule=\"evenodd\" fill-opacity=\"1\" /><path clip-path=\"url(#clip730)\" d=\"M 0 0 M140.103 587.157 Q136.492 587.157 134.663 590.722 Q132.857 594.263 132.857 601.393 Q132.857 608.499 134.663 612.064 Q136.492 615.606 140.103 615.606 Q143.737 615.606 145.542 612.064 Q147.371 608.499 147.371 601.393 Q147.371 594.263 145.542 590.722 Q143.737 587.157 140.103 587.157 M140.103 583.453 Q145.913 583.453 148.968 588.06 Q152.047 592.643 152.047 601.393 Q152.047 610.12 148.968 614.726 Q145.913 619.31 140.103 619.31 Q134.293 619.31 131.214 614.726 Q128.158 610.12 128.158 601.393 Q128.158 592.643 131.214 588.06 Q134.293 583.453 140.103 583.453 Z\" fill=\"#000000\" fill-rule=\"evenodd\" fill-opacity=\"1\" /><path clip-path=\"url(#clip730)\" d=\"M 0 0 M157.116 612.759 L162.001 612.759 L162.001 618.638 L157.116 618.638 L157.116 612.759 Z\" fill=\"#000000\" fill-rule=\"evenodd\" fill-opacity=\"1\" /><path clip-path=\"url(#clip730)\" d=\"M 0 0 M177.07 602.226 Q173.737 602.226 171.815 604.009 Q169.917 605.791 169.917 608.916 Q169.917 612.041 171.815 613.823 Q173.737 615.606 177.07 615.606 Q180.403 615.606 182.325 613.823 Q184.246 612.018 184.246 608.916 Q184.246 605.791 182.325 604.009 Q180.427 602.226 177.07 602.226 M172.394 600.236 Q169.385 599.495 167.695 597.435 Q166.028 595.374 166.028 592.412 Q166.028 588.268 168.968 585.861 Q171.931 583.453 177.07 583.453 Q182.232 583.453 185.172 585.861 Q188.112 588.268 188.112 592.412 Q188.112 595.374 186.422 597.435 Q184.755 599.495 181.769 600.236 Q185.149 601.023 187.024 603.314 Q188.922 605.606 188.922 608.916 Q188.922 613.939 185.843 616.624 Q182.788 619.31 177.07 619.31 Q171.353 619.31 168.274 616.624 Q165.218 613.939 165.218 608.916 Q165.218 605.606 167.116 603.314 Q169.015 601.023 172.394 600.236 M170.681 592.851 Q170.681 595.537 172.348 597.041 Q174.038 598.546 177.07 598.546 Q180.079 598.546 181.769 597.041 Q183.482 595.537 183.482 592.851 Q183.482 590.166 181.769 588.662 Q180.079 587.157 177.07 587.157 Q174.038 587.157 172.348 588.662 Q170.681 590.166 170.681 592.851 Z\" fill=\"#000000\" fill-rule=\"evenodd\" fill-opacity=\"1\" /><path clip-path=\"url(#clip730)\" d=\"M 0 0 M192.811 584.078 L215.033 584.078 L215.033 586.069 L202.487 618.638 L197.602 618.638 L209.408 588.013 L192.811 588.013 L192.811 584.078 Z\" fill=\"#000000\" fill-rule=\"evenodd\" fill-opacity=\"1\" /><path clip-path=\"url(#clip730)\" d=\"M 0 0 M220.149 584.078 L238.505 584.078 L238.505 588.013 L224.431 588.013 L224.431 596.486 Q225.449 596.138 226.468 595.976 Q227.486 595.791 228.505 595.791 Q234.292 595.791 237.672 598.962 Q241.051 602.134 241.051 607.55 Q241.051 613.129 237.579 616.231 Q234.107 619.31 227.787 619.31 Q225.611 619.31 223.343 618.939 Q221.098 618.569 218.69 617.828 L218.69 613.129 Q220.774 614.263 222.996 614.819 Q225.218 615.374 227.695 615.374 Q231.699 615.374 234.037 613.268 Q236.375 611.161 236.375 607.55 Q236.375 603.939 234.037 601.833 Q231.699 599.726 227.695 599.726 Q225.82 599.726 223.945 600.143 Q222.093 600.56 220.149 601.439 L220.149 584.078 Z\" fill=\"#000000\" fill-rule=\"evenodd\" fill-opacity=\"1\" /><path clip-path=\"url(#clip730)\" d=\"M 0 0 M138.297 322.675 Q134.686 322.675 132.857 326.239 Q131.052 329.781 131.052 336.911 Q131.052 344.017 132.857 347.582 Q134.686 351.124 138.297 351.124 Q141.931 351.124 143.737 347.582 Q145.566 344.017 145.566 336.911 Q145.566 329.781 143.737 326.239 Q141.931 322.675 138.297 322.675 M138.297 318.971 Q144.107 318.971 147.163 323.577 Q150.242 328.161 150.242 336.911 Q150.242 345.638 147.163 350.244 Q144.107 354.827 138.297 354.827 Q132.487 354.827 129.408 350.244 Q126.353 345.638 126.353 336.911 Q126.353 328.161 129.408 323.577 Q132.487 318.971 138.297 318.971 Z\" fill=\"#000000\" fill-rule=\"evenodd\" fill-opacity=\"1\" /><path clip-path=\"url(#clip730)\" d=\"M 0 0 M155.311 348.276 L160.195 348.276 L160.195 354.156 L155.311 354.156 L155.311 348.276 Z\" fill=\"#000000\" fill-rule=\"evenodd\" fill-opacity=\"1\" /><path clip-path=\"url(#clip730)\" d=\"M 0 0 M165.403 353.438 L165.403 349.179 Q167.163 350.013 168.968 350.452 Q170.774 350.892 172.51 350.892 Q177.14 350.892 179.57 347.79 Q182.024 344.665 182.371 338.323 Q181.028 340.313 178.968 341.378 Q176.908 342.443 174.408 342.443 Q169.223 342.443 166.19 339.318 Q163.181 336.17 163.181 330.73 Q163.181 325.406 166.329 322.189 Q169.478 318.971 174.709 318.971 Q180.704 318.971 183.852 323.577 Q187.024 328.161 187.024 336.911 Q187.024 345.082 183.135 349.966 Q179.269 354.827 172.718 354.827 Q170.959 354.827 169.153 354.48 Q167.348 354.133 165.403 353.438 M174.709 338.786 Q177.857 338.786 179.686 336.633 Q181.538 334.48 181.538 330.73 Q181.538 327.003 179.686 324.851 Q177.857 322.675 174.709 322.675 Q171.561 322.675 169.709 324.851 Q167.88 327.003 167.88 330.73 Q167.88 334.48 169.709 336.633 Q171.561 338.786 174.709 338.786 Z\" fill=\"#000000\" fill-rule=\"evenodd\" fill-opacity=\"1\" /><path clip-path=\"url(#clip730)\" d=\"M 0 0 M202.093 322.675 Q198.482 322.675 196.653 326.239 Q194.848 329.781 194.848 336.911 Q194.848 344.017 196.653 347.582 Q198.482 351.124 202.093 351.124 Q205.727 351.124 207.533 347.582 Q209.362 344.017 209.362 336.911 Q209.362 329.781 207.533 326.239 Q205.727 322.675 202.093 322.675 M202.093 318.971 Q207.903 318.971 210.959 323.577 Q214.037 328.161 214.037 336.911 Q214.037 345.638 210.959 350.244 Q207.903 354.827 202.093 354.827 Q196.283 354.827 193.204 350.244 Q190.149 345.638 190.149 336.911 Q190.149 328.161 193.204 323.577 Q196.283 318.971 202.093 318.971 Z\" fill=\"#000000\" fill-rule=\"evenodd\" fill-opacity=\"1\" /><path clip-path=\"url(#clip730)\" d=\"M 0 0 M229.107 322.675 Q225.496 322.675 223.667 326.239 Q221.861 329.781 221.861 336.911 Q221.861 344.017 223.667 347.582 Q225.496 351.124 229.107 351.124 Q232.741 351.124 234.547 347.582 Q236.375 344.017 236.375 336.911 Q236.375 329.781 234.547 326.239 Q232.741 322.675 229.107 322.675 M229.107 318.971 Q234.917 318.971 237.973 323.577 Q241.051 328.161 241.051 336.911 Q241.051 345.638 237.973 350.244 Q234.917 354.827 229.107 354.827 Q223.297 354.827 220.218 350.244 Q217.162 345.638 217.162 336.911 Q217.162 328.161 220.218 323.577 Q223.297 318.971 229.107 318.971 Z\" fill=\"#000000\" fill-rule=\"evenodd\" fill-opacity=\"1\" /><path clip-path=\"url(#clip730)\" d=\"M 0 0 M1197.67 12.096 L1205.85 12.096 L1205.85 65.6895 L1235.3 65.6895 L1235.3 72.576 L1197.67 72.576 L1197.67 12.096 Z\" fill=\"#000000\" fill-rule=\"evenodd\" fill-opacity=\"1\" /><path clip-path=\"url(#clip730)\" d=\"M 0 0 M1243.12 27.2059 L1250.57 27.2059 L1250.57 72.576 L1243.12 72.576 L1243.12 27.2059 M1243.12 9.54393 L1250.57 9.54393 L1250.57 18.9825 L1243.12 18.9825 L1243.12 9.54393 Z\" fill=\"#000000\" fill-rule=\"evenodd\" fill-opacity=\"1\" /><path clip-path=\"url(#clip730)\" d=\"M 0 0 M1296.1 45.1919 L1296.1 72.576 L1288.65 72.576 L1288.65 45.4349 Q1288.65 38.994 1286.14 35.7938 Q1283.63 32.5936 1278.6 32.5936 Q1272.57 32.5936 1269.08 36.4419 Q1265.6 40.2903 1265.6 46.9338 L1265.6 72.576 L1258.11 72.576 L1258.11 27.2059 L1265.6 27.2059 L1265.6 34.2544 Q1268.27 30.163 1271.88 28.1376 Q1275.52 26.1121 1280.26 26.1121 Q1288.08 26.1121 1292.09 30.9732 Q1296.1 35.7938 1296.1 45.1919 Z\" fill=\"#000000\" fill-rule=\"evenodd\" fill-opacity=\"1\" /><path clip-path=\"url(#clip730)\" d=\"M 0 0 M1342.73 48.0275 L1342.73 51.6733 L1308.46 51.6733 Q1308.94 59.3701 1313.08 63.421 Q1317.25 67.4314 1324.66 67.4314 Q1328.96 67.4314 1332.97 66.3781 Q1337.02 65.3249 1340.99 63.2184 L1340.99 70.267 Q1336.98 71.9684 1332.76 72.8596 Q1328.55 73.7508 1324.22 73.7508 Q1313.36 73.7508 1307 67.4314 Q1300.68 61.1119 1300.68 50.3365 Q1300.68 39.1965 1306.68 32.6746 Q1312.71 26.1121 1322.92 26.1121 Q1332.07 26.1121 1337.38 32.0264 Q1342.73 37.9003 1342.73 48.0275 M1335.27 45.84 Q1335.19 39.7232 1331.83 36.0774 Q1328.51 32.4315 1323 32.4315 Q1316.76 32.4315 1312.99 35.9558 Q1309.27 39.4801 1308.7 45.8805 L1335.27 45.84 Z\" fill=\"#000000\" fill-rule=\"evenodd\" fill-opacity=\"1\" /><path clip-path=\"url(#clip730)\" d=\"M 0 0 M1371.17 49.7694 Q1362.13 49.7694 1358.65 51.8354 Q1355.16 53.9013 1355.16 58.8839 Q1355.16 62.8538 1357.76 65.2034 Q1360.39 67.5124 1364.89 67.5124 Q1371.08 67.5124 1374.81 63.1374 Q1378.58 58.7219 1378.58 51.4303 L1378.58 49.7694 L1371.17 49.7694 M1386.03 46.6907 L1386.03 72.576 L1378.58 72.576 L1378.58 65.6895 Q1376.03 69.8214 1372.22 71.8063 Q1368.41 73.7508 1362.9 73.7508 Q1355.93 73.7508 1351.8 69.8619 Q1347.71 65.9325 1347.71 59.3701 Q1347.71 51.7138 1352.82 47.825 Q1357.96 43.9361 1368.13 43.9361 L1378.58 43.9361 L1378.58 43.2069 Q1378.58 38.0623 1375.18 35.2672 Q1371.81 32.4315 1365.7 32.4315 Q1361.81 32.4315 1358.12 33.3632 Q1354.44 34.295 1351.03 36.1584 L1351.03 29.2718 Q1355.12 27.692 1358.97 26.9223 Q1362.82 26.1121 1366.47 26.1121 Q1376.31 26.1121 1381.17 31.2163 Q1386.03 36.3204 1386.03 46.6907 Z\" fill=\"#000000\" fill-rule=\"evenodd\" fill-opacity=\"1\" /><path clip-path=\"url(#clip730)\" d=\"M 0 0 M1420.14 34.1734 Q1418.89 33.4443 1417.39 33.1202 Q1415.93 32.7556 1414.15 32.7556 Q1407.83 32.7556 1404.42 36.8875 Q1401.06 40.9789 1401.06 48.6757 L1401.06 72.576 L1393.57 72.576 L1393.57 27.2059 L1401.06 27.2059 L1401.06 34.2544 Q1403.41 30.1225 1407.18 28.1376 Q1410.95 26.1121 1416.33 26.1121 Q1417.1 26.1121 1418.03 26.2337 Q1418.97 26.3147 1420.1 26.5172 L1420.14 34.1734 Z\" fill=\"#000000\" fill-rule=\"evenodd\" fill-opacity=\"1\" /><path clip-path=\"url(#clip730)\" d=\"M 0 0 M1328.06 1518.33 L1328.06 1525.11 Q1324.82 1522.08 1321.13 1520.59 Q1317.47 1519.09 1313.33 1519.09 Q1305.18 1519.09 1300.85 1524.09 Q1296.52 1529.05 1296.52 1538.47 Q1296.52 1547.86 1300.85 1552.86 Q1305.18 1557.82 1313.33 1557.82 Q1317.47 1557.82 1321.13 1556.33 Q1324.82 1554.83 1328.06 1551.81 L1328.06 1558.53 Q1324.69 1560.82 1320.9 1561.96 Q1317.15 1563.11 1312.95 1563.11 Q1302.16 1563.11 1295.95 1556.52 Q1289.74 1549.9 1289.74 1538.47 Q1289.74 1527.01 1295.95 1520.43 Q1302.16 1513.81 1312.95 1513.81 Q1317.21 1513.81 1320.97 1514.95 Q1324.75 1516.07 1328.06 1518.33 Z\" fill=\"#000000\" fill-rule=\"evenodd\" fill-opacity=\"1\" /><path clip-path=\"url(#clip730)\" d=\"M 0 0 M44.1444 1058.8 L50.9239 1058.8 Q47.9002 1062.04 46.4043 1065.74 Q44.9083 1069.4 44.9083 1073.53 Q44.9083 1081.68 49.9054 1086.01 Q54.8707 1090.34 64.2919 1090.34 Q73.6813 1090.34 78.6784 1086.01 Q83.6436 1081.68 83.6436 1073.53 Q83.6436 1069.4 82.1477 1065.74 Q80.6518 1062.04 77.6281 1058.8 L84.3439 1058.8 Q86.6355 1062.17 87.7814 1065.96 Q88.9272 1069.71 88.9272 1073.92 Q88.9272 1084.71 82.3387 1090.91 Q75.7183 1097.12 64.2919 1097.12 Q52.8336 1097.12 46.2451 1090.91 Q39.6248 1084.71 39.6248 1073.92 Q39.6248 1069.65 40.7706 1065.9 Q41.8846 1062.11 44.1444 1058.8 Z\" fill=\"#000000\" fill-rule=\"evenodd\" fill-opacity=\"1\" /><path clip-path=\"url(#clip730)\" d=\"M 0 0 M38.479 1052.65 L38.479 1046.8 L88.0042 1046.8 L88.0042 1052.65 L38.479 1052.65 Z\" fill=\"#000000\" fill-rule=\"evenodd\" fill-opacity=\"1\" /><path clip-path=\"url(#clip730)\" d=\"M 0 0 M70.0847 1024.45 Q70.0847 1031.55 71.7079 1034.29 Q73.3312 1037.03 77.2461 1037.03 Q80.3653 1037.03 82.2114 1034.99 Q84.0256 1032.92 84.0256 1029.39 Q84.0256 1024.52 80.5881 1021.59 Q77.1188 1018.63 71.3897 1018.63 L70.0847 1018.63 L70.0847 1024.45 M67.6657 1012.77 L88.0042 1012.77 L88.0042 1018.63 L82.5933 1018.63 Q85.8398 1020.63 87.3994 1023.63 Q88.9272 1026.62 88.9272 1030.95 Q88.9272 1036.42 85.8716 1039.67 Q82.7843 1042.88 77.6281 1042.88 Q71.6125 1042.88 68.5569 1038.87 Q65.5014 1034.83 65.5014 1026.84 L65.5014 1018.63 L64.9285 1018.63 Q60.8862 1018.63 58.6901 1021.3 Q56.4621 1023.95 56.4621 1028.75 Q56.4621 1031.81 57.1941 1034.7 Q57.9262 1037.6 59.3903 1040.27 L53.9795 1040.27 Q52.7381 1037.06 52.1334 1034.03 Q51.4968 1031.01 51.4968 1028.15 Q51.4968 1020.41 55.5072 1016.59 Q59.5176 1012.77 67.6657 1012.77 Z\" fill=\"#000000\" fill-rule=\"evenodd\" fill-opacity=\"1\" /><path clip-path=\"url(#clip730)\" d=\"M 0 0 M53.4065 983.905 L58.9447 983.905 Q57.6716 986.387 57.035 989.061 Q56.3984 991.735 56.3984 994.599 Q56.3984 998.96 57.7352 1001.16 Q59.072 1003.32 61.7456 1003.32 Q63.7826 1003.32 64.9603 1001.76 Q66.1061 1000.2 67.1565 995.49 L67.6021 993.485 Q68.9389 987.247 71.3897 984.637 Q73.8086 981.995 78.1691 981.995 Q83.1344 981.995 86.0308 985.942 Q88.9272 989.857 88.9272 996.732 Q88.9272 999.596 88.3543 1002.72 Q87.8132 1005.8 86.6992 1009.24 L80.6518 1009.24 Q82.3387 1005.99 83.198 1002.84 Q84.0256 999.692 84.0256 996.604 Q84.0256 992.467 82.6251 990.239 Q81.1929 988.011 78.6147 988.011 Q76.2276 988.011 74.9545 989.634 Q73.6813 991.225 72.5037 996.668 L72.0262 998.705 Q70.8804 1004.15 68.5251 1006.57 Q66.138 1008.99 62.0002 1008.99 Q56.9713 1008.99 54.2341 1005.42 Q51.4968 1001.86 51.4968 995.299 Q51.4968 992.053 51.9743 989.188 Q52.4517 986.324 53.4065 983.905 Z\" fill=\"#000000\" fill-rule=\"evenodd\" fill-opacity=\"1\" /><path clip-path=\"url(#clip730)\" d=\"M 0 0 M53.4065 953.127 L58.9447 953.127 Q57.6716 955.609 57.035 958.283 Q56.3984 960.956 56.3984 963.821 Q56.3984 968.182 57.7352 970.378 Q59.072 972.542 61.7456 972.542 Q63.7826 972.542 64.9603 970.982 Q66.1061 969.423 67.1565 964.712 L67.6021 962.707 Q68.9389 956.469 71.3897 953.859 Q73.8086 951.217 78.1691 951.217 Q83.1344 951.217 86.0308 955.164 Q88.9272 959.079 88.9272 965.954 Q88.9272 968.818 88.3543 971.937 Q87.8132 975.025 86.6992 978.462 L80.6518 978.462 Q82.3387 975.216 83.198 972.065 Q84.0256 968.914 84.0256 965.826 Q84.0256 961.689 82.6251 959.461 Q81.1929 957.233 78.6147 957.233 Q76.2276 957.233 74.9545 958.856 Q73.6813 960.447 72.5037 965.89 L72.0262 967.927 Q70.8804 973.37 68.5251 975.789 Q66.138 978.208 62.0002 978.208 Q56.9713 978.208 54.2341 974.643 Q51.4968 971.078 51.4968 964.521 Q51.4968 961.275 51.9743 958.41 Q52.4517 955.546 53.4065 953.127 Z\" fill=\"#000000\" fill-rule=\"evenodd\" fill-opacity=\"1\" /><path clip-path=\"url(#clip730)\" d=\"M 0 0 M52.3562 945.074 L52.3562 939.218 L88.0042 939.218 L88.0042 945.074 L52.3562 945.074 M38.479 945.074 L38.479 939.218 L45.895 939.218 L45.895 945.074 L38.479 945.074 Z\" fill=\"#000000\" fill-rule=\"evenodd\" fill-opacity=\"1\" /><path clip-path=\"url(#clip730)\" d=\"M 0 0 M38.479 915.028 L43.3487 915.028 L43.3487 920.63 Q43.3487 923.781 44.6219 925.022 Q45.895 926.232 49.2052 926.232 L52.3562 926.232 L52.3562 916.588 L56.9077 916.588 L56.9077 926.232 L88.0042 926.232 L88.0042 932.12 L56.9077 932.12 L56.9077 937.722 L52.3562 937.722 L52.3562 932.12 L49.8736 932.12 Q43.9216 932.12 41.2162 929.351 Q38.479 926.582 38.479 920.566 L38.479 915.028 Z\" fill=\"#000000\" fill-rule=\"evenodd\" fill-opacity=\"1\" /><path clip-path=\"url(#clip730)\" d=\"M 0 0 M52.3562 908.885 L52.3562 903.029 L88.0042 903.029 L88.0042 908.885 L52.3562 908.885 M38.479 908.885 L38.479 903.029 L45.895 903.029 L45.895 908.885 L38.479 908.885 Z\" fill=\"#000000\" fill-rule=\"evenodd\" fill-opacity=\"1\" /><path clip-path=\"url(#clip730)\" d=\"M 0 0 M53.7248 871.232 L59.1993 871.232 Q57.8307 873.714 57.1623 876.229 Q56.4621 878.712 56.4621 881.258 Q56.4621 886.955 60.0905 890.106 Q63.6872 893.257 70.212 893.257 Q76.7369 893.257 80.3653 890.106 Q83.9619 886.955 83.9619 881.258 Q83.9619 878.712 83.2935 876.229 Q82.5933 873.714 81.2247 871.232 L86.6355 871.232 Q87.7814 873.683 88.3543 876.324 Q88.9272 878.934 88.9272 881.894 Q88.9272 889.947 83.8664 894.689 Q78.8057 899.432 70.212 899.432 Q61.491 899.432 56.4939 894.658 Q51.4968 889.852 51.4968 881.512 Q51.4968 878.807 52.0697 876.229 Q52.6108 873.651 53.7248 871.232 Z\" fill=\"#000000\" fill-rule=\"evenodd\" fill-opacity=\"1\" /><path clip-path=\"url(#clip730)\" d=\"M 0 0 M70.0847 848.888 Q70.0847 855.986 71.7079 858.723 Q73.3312 861.46 77.2461 861.46 Q80.3653 861.46 82.2114 859.423 Q84.0256 857.355 84.0256 853.822 Q84.0256 848.952 80.5881 846.024 Q77.1188 843.064 71.3897 843.064 L70.0847 843.064 L70.0847 848.888 M67.6657 837.207 L88.0042 837.207 L88.0042 843.064 L82.5933 843.064 Q85.8398 845.069 87.3994 848.061 Q88.9272 851.053 88.9272 855.381 Q88.9272 860.856 85.8716 864.102 Q82.7843 867.317 77.6281 867.317 Q71.6125 867.317 68.5569 863.307 Q65.5014 859.264 65.5014 851.275 L65.5014 843.064 L64.9285 843.064 Q60.8862 843.064 58.6901 845.737 Q56.4621 848.379 56.4621 853.185 Q56.4621 856.241 57.1941 859.137 Q57.9262 862.033 59.3903 864.707 L53.9795 864.707 Q52.7381 861.492 52.1334 858.469 Q51.4968 855.445 51.4968 852.58 Q51.4968 844.846 55.5072 841.027 Q59.5176 837.207 67.6657 837.207 Z\" fill=\"#000000\" fill-rule=\"evenodd\" fill-opacity=\"1\" /><path clip-path=\"url(#clip730)\" d=\"M 0 0 M42.2347 825.271 L52.3562 825.271 L52.3562 813.208 L56.9077 813.208 L56.9077 825.271 L76.2594 825.271 Q80.6199 825.271 81.8613 824.094 Q83.1026 822.884 83.1026 819.224 L83.1026 813.208 L88.0042 813.208 L88.0042 819.224 Q88.0042 826.004 85.4897 828.582 Q82.9434 831.16 76.2594 831.16 L56.9077 831.16 L56.9077 835.457 L52.3562 835.457 L52.3562 831.16 L42.2347 831.16 L42.2347 825.271 Z\" fill=\"#000000\" fill-rule=\"evenodd\" fill-opacity=\"1\" /><path clip-path=\"url(#clip730)\" d=\"M 0 0 M52.3562 807.066 L52.3562 801.209 L88.0042 801.209 L88.0042 807.066 L52.3562 807.066 M38.479 807.066 L38.479 801.209 L45.895 801.209 L45.895 807.066 L38.479 807.066 Z\" fill=\"#000000\" fill-rule=\"evenodd\" fill-opacity=\"1\" /><path clip-path=\"url(#clip730)\" d=\"M 0 0 M56.4621 781.253 Q56.4621 785.963 60.1542 788.7 Q63.8145 791.438 70.212 791.438 Q76.6095 791.438 80.3017 788.732 Q83.9619 785.995 83.9619 781.253 Q83.9619 776.574 80.2698 773.837 Q76.5777 771.099 70.212 771.099 Q63.8781 771.099 60.186 773.837 Q56.4621 776.574 56.4621 781.253 M51.4968 781.253 Q51.4968 773.614 56.4621 769.253 Q61.4273 764.893 70.212 764.893 Q78.9649 764.893 83.9619 769.253 Q88.9272 773.614 88.9272 781.253 Q88.9272 788.923 83.9619 793.284 Q78.9649 797.612 70.212 797.612 Q61.4273 797.612 56.4621 793.284 Q51.4968 788.923 51.4968 781.253 Z\" fill=\"#000000\" fill-rule=\"evenodd\" fill-opacity=\"1\" /><path clip-path=\"url(#clip730)\" d=\"M 0 0 M66.4881 729.117 L88.0042 729.117 L88.0042 734.974 L66.679 734.974 Q61.6183 734.974 59.1038 736.947 Q56.5894 738.921 56.5894 742.867 Q56.5894 747.61 59.6131 750.347 Q62.6368 753.084 67.8567 753.084 L88.0042 753.084 L88.0042 758.973 L52.3562 758.973 L52.3562 753.084 L57.8944 753.084 Q54.6797 750.984 53.0883 748.151 Q51.4968 745.286 51.4968 741.562 Q51.4968 735.42 55.3163 732.268 Q59.1038 729.117 66.4881 729.117 Z\" fill=\"#000000\" fill-rule=\"evenodd\" fill-opacity=\"1\" /><path clip-path=\"url(#clip730)\" d=\"M 0 0 M46.818 686.117 L70.4666 694.838 L70.4666 677.364 L46.818 686.117 M40.4842 689.746 L40.4842 682.457 L88.0042 664.346 L88.0042 671.03 L75.8138 675.359 L75.8138 696.78 L88.0042 701.108 L88.0042 707.888 L40.4842 689.746 Z\" fill=\"#000000\" fill-rule=\"evenodd\" fill-opacity=\"1\" /><path clip-path=\"url(#clip730)\" d=\"M 0 0 M53.7248 633.696 L59.1993 633.696 Q57.8307 636.178 57.1623 638.693 Q56.4621 641.175 56.4621 643.722 Q56.4621 649.419 60.0905 652.57 Q63.6872 655.721 70.212 655.721 Q76.7369 655.721 80.3653 652.57 Q83.9619 649.419 83.9619 643.722 Q83.9619 641.175 83.2935 638.693 Q82.5933 636.178 81.2247 633.696 L86.6355 633.696 Q87.7814 636.146 88.3543 638.788 Q88.9272 641.398 88.9272 644.358 Q88.9272 652.411 83.8664 657.153 Q78.8057 661.896 70.212 661.896 Q61.491 661.896 56.4939 657.121 Q51.4968 652.315 51.4968 643.976 Q51.4968 641.271 52.0697 638.693 Q52.6108 636.114 53.7248 633.696 Z\" fill=\"#000000\" fill-rule=\"evenodd\" fill-opacity=\"1\" /><path clip-path=\"url(#clip730)\" d=\"M 0 0 M53.7248 601.899 L59.1993 601.899 Q57.8307 604.381 57.1623 606.896 Q56.4621 609.379 56.4621 611.925 Q56.4621 617.622 60.0905 620.773 Q63.6872 623.924 70.212 623.924 Q76.7369 623.924 80.3653 620.773 Q83.9619 617.622 83.9619 611.925 Q83.9619 609.379 83.2935 606.896 Q82.5933 604.381 81.2247 601.899 L86.6355 601.899 Q87.7814 604.35 88.3543 606.991 Q88.9272 609.601 88.9272 612.561 Q88.9272 620.614 83.8664 625.356 Q78.8057 630.099 70.212 630.099 Q61.491 630.099 56.4939 625.325 Q51.4968 620.519 51.4968 612.179 Q51.4968 609.474 52.0697 606.896 Q52.6108 604.318 53.7248 601.899 Z\" fill=\"#000000\" fill-rule=\"evenodd\" fill-opacity=\"1\" /><path clip-path=\"url(#clip730)\" d=\"M 0 0 M73.9359 596.361 L52.3562 596.361 L52.3562 590.504 L73.7131 590.504 Q78.7739 590.504 81.3202 588.531 Q83.8346 586.557 83.8346 582.611 Q83.8346 577.868 80.8109 575.131 Q77.7872 572.362 72.5673 572.362 L52.3562 572.362 L52.3562 566.505 L88.0042 566.505 L88.0042 572.362 L82.5296 572.362 Q85.7762 574.494 87.3676 577.327 Q88.9272 580.128 88.9272 583.852 Q88.9272 589.995 85.1078 593.178 Q81.2883 596.361 73.9359 596.361 M51.4968 581.624 L51.4968 581.624 Z\" fill=\"#000000\" fill-rule=\"evenodd\" fill-opacity=\"1\" /><path clip-path=\"url(#clip730)\" d=\"M 0 0 M57.8307 539.706 Q57.2578 540.693 57.0032 541.87 Q56.7167 543.016 56.7167 544.416 Q56.7167 549.382 59.9632 552.055 Q63.1779 554.697 69.2253 554.697 L88.0042 554.697 L88.0042 560.585 L52.3562 560.585 L52.3562 554.697 L57.8944 554.697 Q54.6479 552.851 53.0883 549.891 Q51.4968 546.931 51.4968 542.698 Q51.4968 542.093 51.5923 541.361 Q51.656 540.629 51.8151 539.738 L57.8307 539.706 Z\" fill=\"#000000\" fill-rule=\"evenodd\" fill-opacity=\"1\" /><path clip-path=\"url(#clip730)\" d=\"M 0 0 M70.0847 517.362 Q70.0847 524.46 71.7079 527.197 Q73.3312 529.934 77.2461 529.934 Q80.3653 529.934 82.2114 527.897 Q84.0256 525.829 84.0256 522.296 Q84.0256 517.426 80.5881 514.498 Q77.1188 511.538 71.3897 511.538 L70.0847 511.538 L70.0847 517.362 M67.6657 505.681 L88.0042 505.681 L88.0042 511.538 L82.5933 511.538 Q85.8398 513.543 87.3994 516.535 Q88.9272 519.527 88.9272 523.855 Q88.9272 529.33 85.8716 532.576 Q82.7843 535.791 77.6281 535.791 Q71.6125 535.791 68.5569 531.781 Q65.5014 527.738 65.5014 519.749 L65.5014 511.538 L64.9285 511.538 Q60.8862 511.538 58.6901 514.211 Q56.4621 516.853 56.4621 521.659 Q56.4621 524.715 57.1941 527.611 Q57.9262 530.507 59.3903 533.181 L53.9795 533.181 Q52.7381 529.966 52.1334 526.943 Q51.4968 523.919 51.4968 521.054 Q51.4968 513.32 55.5072 509.501 Q59.5176 505.681 67.6657 505.681 Z\" fill=\"#000000\" fill-rule=\"evenodd\" fill-opacity=\"1\" /><path clip-path=\"url(#clip730)\" d=\"M 0 0 M53.7248 473.884 L59.1993 473.884 Q57.8307 476.367 57.1623 478.882 Q56.4621 481.364 56.4621 483.91 Q56.4621 489.608 60.0905 492.759 Q63.6872 495.91 70.212 495.91 Q76.7369 495.91 80.3653 492.759 Q83.9619 489.608 83.9619 483.91 Q83.9619 481.364 83.2935 478.882 Q82.5933 476.367 81.2247 473.884 L86.6355 473.884 Q87.7814 476.335 88.3543 478.977 Q88.9272 481.587 88.9272 484.547 Q88.9272 492.6 83.8664 497.342 Q78.8057 502.085 70.212 502.085 Q61.491 502.085 56.4939 497.31 Q51.4968 492.504 51.4968 484.165 Q51.4968 481.46 52.0697 478.882 Q52.6108 476.303 53.7248 473.884 Z\" fill=\"#000000\" fill-rule=\"evenodd\" fill-opacity=\"1\" /><path clip-path=\"url(#clip730)\" d=\"M 0 0 M91.3143 452.909 Q97.68 455.392 99.6216 457.747 Q101.563 460.103 101.563 464.049 L101.563 468.728 L96.6615 468.728 L96.6615 465.291 Q96.6615 462.872 95.5157 461.535 Q94.3699 460.198 90.1048 458.575 L87.4312 457.525 L52.3562 471.943 L52.3562 465.736 L80.238 454.596 L52.3562 443.456 L52.3562 437.25 L91.3143 452.909 Z\" fill=\"#000000\" fill-rule=\"evenodd\" fill-opacity=\"1\" /><polyline clip-path=\"url(#clip732)\" style=\"stroke:#009af9; stroke-width:8; stroke-opacity:1; fill:none\" points=\"\n",
       "  324.137,1374.46 328.084,1374.46 332.031,1273.22 335.978,1256.43 339.925,1222.84 343.872,1172.47 347.819,1105.3 351.766,1105.3 355.713,1088.34 359.66,1138.56 \n",
       "  363.607,1122.25 367.554,1122.25 371.501,1071.87 375.448,1054.92 379.395,1037.96 383.342,1054.92 387.289,1054.92 391.236,1071.87 395.182,1037.96 399.129,1071.87 \n",
       "  403.076,1071.87 407.023,1071.87 410.97,1071.87 414.917,1139.69 418.864,1122.73 422.811,1122.73 426.758,1156.64 430.705,1122.73 434.652,1139.69 438.599,1088.83 \n",
       "  442.546,1071.87 446.493,1054.92 450.44,1004.06 454.387,1004.06 458.334,953.194 462.281,936.24 466.228,919.286 470.175,936.24 474.122,885.378 478.069,885.378 \n",
       "  482.016,851.47 485.963,834.516 489.909,834.516 493.856,834.516 497.803,834.516 501.75,834.677 505.697,834.516 509.644,834.516 513.591,834.516 517.538,800.931 \n",
       "  521.485,800.931 525.432,818.046 529.379,817.723 533.326,834.516 537.273,750.553 541.22,834.516 545.167,834.516 549.114,817.562 553.061,834.516 557.008,851.47 \n",
       "  560.955,800.608 564.902,817.562 568.849,783.654 572.796,817.562 576.743,800.608 580.69,834.516 584.637,783.815 588.583,851.631 592.53,682.414 596.477,682.737 \n",
       "  600.424,768.153 604.371,751.199 608.318,565.19 612.265,616.375 616.212,633.329 620.159,582.467 624.106,616.375 628.053,497.374 632,717.776 635.947,649.96 \n",
       "  639.894,649.96 643.841,616.375 647.788,599.421 651.735,599.421 655.682,616.375 659.629,582.467 663.576,599.421 667.523,582.467 671.47,616.375 675.417,616.052 \n",
       "  679.364,633.329 683.31,650.283 687.257,582.467 691.204,599.421 695.151,616.375 699.098,616.375 703.045,616.375 706.992,616.375 710.939,599.421 714.886,599.421 \n",
       "  718.833,599.421 722.78,599.421 726.727,599.421 730.674,633.329 734.621,616.375 738.568,616.375 742.515,616.375 746.462,616.375 750.409,616.375 754.356,616.375 \n",
       "  758.303,599.421 762.25,616.375 766.197,616.375 770.144,633.329 774.091,633.329 778.038,633.329 781.984,599.421 785.931,599.421 789.878,599.421 793.825,599.421 \n",
       "  797.772,565.513 801.719,582.467 805.666,548.559 809.613,582.467 813.56,599.421 817.507,565.513 821.454,565.513 825.401,582.467 829.348,582.467 833.295,565.513 \n",
       "  837.242,599.421 841.189,616.375 845.136,531.605 849.083,599.421 853.03,599.421 856.977,599.421 860.924,616.375 864.871,582.467 868.818,548.559 872.765,667.237 \n",
       "  876.712,565.513 880.658,650.283 884.605,599.421 888.552,531.605 892.499,616.375 896.446,650.283 900.393,701.145 904.34,633.329 908.287,684.191 912.234,599.421 \n",
       "  916.181,701.145 920.128,599.582 924.075,599.421 928.022,667.237 931.969,548.559 935.916,531.605 939.863,633.813 943.81,684.191 947.757,582.951 951.704,667.398 \n",
       "  955.651,548.559 959.598,565.513 963.545,650.606 967.492,616.375 971.439,549.043 975.385,463.789 979.332,616.375 983.279,514.651 987.226,565.513 991.173,548.72 \n",
       "  995.12,599.744 999.067,650.283 1003.01,599.421 1006.96,565.513 1010.91,650.283 1014.86,684.191 1018.8,633.329 1022.75,667.237 1026.7,599.421 1030.64,565.513 \n",
       "  1034.59,718.099 1038.54,650.283 1042.48,514.651 1046.43,565.513 1050.38,531.605 1054.32,582.467 1058.27,599.421 1062.22,599.421 1066.17,599.421 1070.11,633.329 \n",
       "  1074.06,633.329 1078.01,650.283 1081.95,650.283 1085.9,650.283 1089.85,701.145 1093.79,616.375 1097.74,667.237 1101.69,684.191 1105.64,701.145 1109.58,701.145 \n",
       "  1113.53,701.145 1117.48,616.375 1121.42,718.099 1125.37,667.237 1129.32,684.191 1133.26,701.145 1137.21,718.099 1141.16,718.099 1145.1,735.053 1149.05,718.099 \n",
       "  1153,701.145 1156.95,718.099 1160.89,718.099 1164.84,735.053 1168.79,718.099 1172.73,718.099 1176.68,701.145 1180.63,735.053 1184.57,718.099 1188.52,684.191 \n",
       "  1192.47,718.099 1196.42,735.053 1200.36,718.099 1204.31,701.145 1208.26,701.145 1212.2,667.237 1216.15,667.237 1220.1,667.237 1224.04,684.191 1227.99,701.145 \n",
       "  1231.94,684.191 1235.88,667.237 1239.83,667.237 1243.78,650.283 1247.73,667.237 1251.67,684.191 1255.62,684.191 1259.57,718.099 1263.51,701.145 1267.46,701.145 \n",
       "  1271.41,684.191 1275.35,684.191 1279.3,718.099 1283.25,752.007 1287.2,718.099 1291.14,735.053 1295.09,735.053 1299.04,701.145 1302.98,684.191 1306.93,650.283 \n",
       "  1310.88,718.099 1314.82,718.099 1318.77,701.145 1322.72,718.099 1326.66,701.145 1330.61,684.191 1334.56,718.099 1338.51,718.099 1342.45,650.283 1346.4,667.237 \n",
       "  1350.35,616.375 1354.29,582.467 1358.24,633.329 1362.19,565.513 1366.13,650.283 1370.08,633.329 1374.03,701.145 1377.98,633.329 1381.92,701.145 1385.87,616.375 \n",
       "  1389.82,633.329 1393.76,667.237 1397.71,650.283 1401.66,582.628 1405.6,497.858 1409.55,667.237 1413.5,616.375 1417.44,616.698 1421.39,633.329 1425.34,684.191 \n",
       "  1429.29,481.227 1433.23,616.698 1437.18,514.812 1441.13,650.283 1445.07,565.836 1449.02,718.099 1452.97,684.352 1456.91,548.72 1460.86,582.79 1464.81,515.135 \n",
       "  1468.76,684.191 1472.7,650.767 1476.65,616.375 1480.6,667.237 1484.54,667.237 1488.49,633.329 1492.44,599.421 1496.38,549.043 1500.33,514.812 1504.28,565.674 \n",
       "  1508.23,650.283 1512.17,701.145 1516.12,667.237 1520.07,650.283 1524.01,684.514 1527.96,599.905 1531.91,582.79 1535.85,650.767 1539.8,616.859 1543.75,633.813 \n",
       "  1547.69,531.605 1551.64,616.375 1555.59,582.951 1559.54,532.089 1563.48,582.951 1567.43,565.513 1571.38,667.721 1575.32,464.273 1579.27,616.375 1583.22,599.421 \n",
       "  1587.16,633.329 1591.11,582.467 1595.06,599.905 1599.01,515.135 1602.95,447.158 1606.9,616.698 1610.85,548.559 1614.79,769.445 1618.74,549.043 1622.69,498.181 \n",
       "  1626.63,582.467 1630.58,650.283 1634.53,565.997 1638.47,616.375 1642.42,481.227 1646.37,447.319 1650.32,531.766 1654.26,481.227 1658.21,532.089 1662.16,497.697 \n",
       "  1666.1,667.398 1670.05,515.135 1674,599.744 1677.94,667.237 1681.89,548.559 1685.84,565.674 1689.79,531.605 1693.73,667.237 1697.68,616.375 1701.63,633.49 \n",
       "  1705.57,616.859 1709.52,667.237 1713.47,549.043 1717.41,582.467 1721.36,616.859 1725.31,667.398 1729.25,549.043 1733.2,565.513 1737.15,582.467 1741.1,667.56 \n",
       "  1745.04,532.089 1748.99,616.375 1752.94,701.306 1756.88,667.721 1760.83,684.675 1764.78,684.191 1768.72,481.227 1772.67,701.629 1776.62,582.951 1780.57,650.606 \n",
       "  1784.51,599.905 1788.46,599.744 1792.41,481.227 1796.35,548.559 1800.3,684.191 1804.25,599.582 1808.19,582.951 1812.14,735.053 1816.09,616.536 1820.03,532.089 \n",
       "  1823.98,481.227 1827.93,599.582 1831.88,599.905 1835.82,650.283 1839.77,701.145 1843.72,514.651 1847.66,633.329 1851.61,548.559 1855.56,565.513 1859.5,396.457 \n",
       "  1863.45,582.951 1867.4,497.697 1871.35,413.088 1875.29,481.227 1879.24,480.904 1883.19,549.043 1887.13,497.697 1891.08,396.134 1895.03,379.503 1898.97,463.95 \n",
       "  1902.92,480.743 1906.87,429.881 1910.81,497.697 1914.76,413.411 1918.71,514.651 1922.66,430.365 1926.6,463.95 1930.55,311.687 1934.5,481.227 1938.44,497.697 \n",
       "  1942.39,362.388 1946.34,379.342 1950.28,412.927 1954.23,328.48 1958.18,243.871 1962.13,277.941 1966.07,294.249 1970.02,345.595 1973.97,294.41 1977.91,210.609 \n",
       "  1981.86,362.549 1985.81,278.264 1989.75,244.194 1993.7,345.434 1997.65,193.494 2001.59,261.31 2005.54,227.079 2009.49,244.356 2013.44,260.664 2017.38,210.286 \n",
       "  2021.33,311.203 2025.28,260.664 2029.22,210.286 2033.17,193.494 2037.12,294.249 2041.06,159.909 2045.01,294.249 2048.96,210.286 2052.91,294.249 2056.85,210.286 \n",
       "  2060.8,260.664 2064.75,159.909 2068.69,159.909 2072.64,159.909 2076.59,159.909 2080.53,159.909 2084.48,159.909 2088.43,159.909 2092.37,159.909 2096.32,159.909 \n",
       "  2100.27,159.909 2104.22,159.909 2108.16,159.909 2112.11,159.909 2116.06,159.909 2120,159.909 2123.95,159.909 2127.9,159.909 2131.84,159.909 2135.79,159.909 \n",
       "  2139.74,159.909 2143.69,159.909 2147.63,159.909 2151.58,159.909 2155.53,159.909 2159.47,159.909 2163.42,159.909 2167.37,159.909 2171.31,159.909 2175.26,159.909 \n",
       "  2179.21,159.909 2183.16,159.909 2187.1,159.909 2191.05,159.909 2195,159.909 2198.94,159.909 2202.89,159.909 2206.84,159.909 2210.78,159.909 2214.73,159.909 \n",
       "  2218.68,159.909 2222.62,159.909 2226.57,159.909 2230.52,159.909 2234.47,159.909 2238.41,159.909 2242.36,159.909 2246.31,159.909 2250.25,159.909 2254.2,159.909 \n",
       "  2258.15,159.909 2262.09,159.909 2266.04,159.909 2269.99,159.909 2273.94,159.909 2277.88,159.909 2281.83,159.909 2285.78,159.909 2289.72,159.909 2293.67,159.909 \n",
       "  \n",
       "  \"/>\n",
       "<path clip-path=\"url(#clip730)\" d=\"\n",
       "M1851.87 1367.98 L2283.17 1367.98 L2283.17 1247.02 L1851.87 1247.02  Z\n",
       "  \" fill=\"#ffffff\" fill-rule=\"evenodd\" fill-opacity=\"1\"/>\n",
       "<polyline clip-path=\"url(#clip730)\" style=\"stroke:#000000; stroke-width:4; stroke-opacity:1; fill:none\" points=\"\n",
       "  1851.87,1367.98 2283.17,1367.98 2283.17,1247.02 1851.87,1247.02 1851.87,1367.98 \n",
       "  \"/>\n",
       "<polyline clip-path=\"url(#clip730)\" style=\"stroke:#009af9; stroke-width:4; stroke-opacity:1; fill:none\" points=\"\n",
       "  1875.07,1307.5 2014.25,1307.5 \n",
       "  \"/>\n",
       "<path clip-path=\"url(#clip730)\" d=\"M 0 0 M2050.64 1324.78 L2037.44 1290.22 L2042.33 1290.22 L2053.28 1319.32 L2064.25 1290.22 L2069.11 1290.22 L2055.94 1324.78 L2050.64 1324.78 Z\" fill=\"#000000\" fill-rule=\"evenodd\" fill-opacity=\"1\" /><path clip-path=\"url(#clip730)\" d=\"M 0 0 M2081.68 1311.75 Q2076.52 1311.75 2074.53 1312.93 Q2072.54 1314.11 2072.54 1316.96 Q2072.54 1319.23 2074.02 1320.57 Q2075.52 1321.89 2078.09 1321.89 Q2081.63 1321.89 2083.76 1319.39 Q2085.92 1316.87 2085.92 1312.7 L2085.92 1311.75 L2081.68 1311.75 M2090.18 1309.99 L2090.18 1324.78 L2085.92 1324.78 L2085.92 1320.85 Q2084.46 1323.21 2082.28 1324.34 Q2080.11 1325.45 2076.96 1325.45 Q2072.98 1325.45 2070.62 1323.23 Q2068.28 1320.99 2068.28 1317.24 Q2068.28 1312.86 2071.19 1310.64 Q2074.13 1308.42 2079.94 1308.42 L2085.92 1308.42 L2085.92 1308 Q2085.92 1305.06 2083.97 1303.46 Q2082.05 1301.84 2078.56 1301.84 Q2076.33 1301.84 2074.23 1302.38 Q2072.12 1302.91 2070.18 1303.97 L2070.18 1300.04 Q2072.51 1299.13 2074.71 1298.69 Q2076.91 1298.23 2079 1298.23 Q2084.62 1298.23 2087.4 1301.15 Q2090.18 1304.07 2090.18 1309.99 Z\" fill=\"#000000\" fill-rule=\"evenodd\" fill-opacity=\"1\" /><path clip-path=\"url(#clip730)\" d=\"M 0 0 M2094.64 1288.76 L2098.9 1288.76 L2098.9 1324.78 L2094.64 1324.78 L2094.64 1288.76 Z\" fill=\"#000000\" fill-rule=\"evenodd\" fill-opacity=\"1\" /><path clip-path=\"url(#clip730)\" d=\"M 0 0 M2103.37 1298.86 L2107.63 1298.86 L2107.63 1324.78 L2103.37 1324.78 L2103.37 1298.86 M2103.37 1288.76 L2107.63 1288.76 L2107.63 1294.16 L2103.37 1294.16 L2103.37 1288.76 Z\" fill=\"#000000\" fill-rule=\"evenodd\" fill-opacity=\"1\" /><path clip-path=\"url(#clip730)\" d=\"M 0 0 M2129.16 1302.79 L2129.16 1288.76 L2133.42 1288.76 L2133.42 1324.78 L2129.16 1324.78 L2129.16 1320.89 Q2127.81 1323.21 2125.75 1324.34 Q2123.72 1325.45 2120.85 1325.45 Q2116.15 1325.45 2113.19 1321.7 Q2110.25 1317.95 2110.25 1311.84 Q2110.25 1305.73 2113.19 1301.98 Q2116.15 1298.23 2120.85 1298.23 Q2123.72 1298.23 2125.75 1299.37 Q2127.81 1300.48 2129.16 1302.79 M2114.64 1311.84 Q2114.64 1316.54 2116.56 1319.23 Q2118.51 1321.89 2121.89 1321.89 Q2125.27 1321.89 2127.21 1319.23 Q2129.16 1316.54 2129.16 1311.84 Q2129.16 1307.14 2127.21 1304.48 Q2125.27 1301.8 2121.89 1301.8 Q2118.51 1301.8 2116.56 1304.48 Q2114.64 1307.14 2114.64 1311.84 Z\" fill=\"#000000\" fill-rule=\"evenodd\" fill-opacity=\"1\" /><path clip-path=\"url(#clip730)\" d=\"M 0 0 M2149.67 1311.75 Q2144.5 1311.75 2142.51 1312.93 Q2140.52 1314.11 2140.52 1316.96 Q2140.52 1319.23 2142 1320.57 Q2143.51 1321.89 2146.08 1321.89 Q2149.62 1321.89 2151.75 1319.39 Q2153.9 1316.87 2153.9 1312.7 L2153.9 1311.75 L2149.67 1311.75 M2158.16 1309.99 L2158.16 1324.78 L2153.9 1324.78 L2153.9 1320.85 Q2152.44 1323.21 2150.27 1324.34 Q2148.09 1325.45 2144.94 1325.45 Q2140.96 1325.45 2138.6 1323.23 Q2136.26 1320.99 2136.26 1317.24 Q2136.26 1312.86 2139.18 1310.64 Q2142.12 1308.42 2147.93 1308.42 L2153.9 1308.42 L2153.9 1308 Q2153.9 1305.06 2151.96 1303.46 Q2150.04 1301.84 2146.54 1301.84 Q2144.32 1301.84 2142.21 1302.38 Q2140.11 1302.91 2138.16 1303.97 L2138.16 1300.04 Q2140.5 1299.13 2142.7 1298.69 Q2144.9 1298.23 2146.98 1298.23 Q2152.61 1298.23 2155.38 1301.15 Q2158.16 1304.07 2158.16 1309.99 Z\" fill=\"#000000\" fill-rule=\"evenodd\" fill-opacity=\"1\" /><path clip-path=\"url(#clip730)\" d=\"M 0 0 M2166.84 1291.5 L2166.84 1298.86 L2175.62 1298.86 L2175.62 1302.17 L2166.84 1302.17 L2166.84 1316.24 Q2166.84 1319.41 2167.7 1320.31 Q2168.58 1321.22 2171.24 1321.22 L2175.62 1321.22 L2175.62 1324.78 L2171.24 1324.78 Q2166.31 1324.78 2164.43 1322.95 Q2162.56 1321.1 2162.56 1316.24 L2162.56 1302.17 L2159.43 1302.17 L2159.43 1298.86 L2162.56 1298.86 L2162.56 1291.5 L2166.84 1291.5 Z\" fill=\"#000000\" fill-rule=\"evenodd\" fill-opacity=\"1\" /><path clip-path=\"url(#clip730)\" d=\"M 0 0 M2180.08 1298.86 L2184.34 1298.86 L2184.34 1324.78 L2180.08 1324.78 L2180.08 1298.86 M2180.08 1288.76 L2184.34 1288.76 L2184.34 1294.16 L2180.08 1294.16 L2180.08 1288.76 Z\" fill=\"#000000\" fill-rule=\"evenodd\" fill-opacity=\"1\" /><path clip-path=\"url(#clip730)\" d=\"M 0 0 M2198.86 1301.84 Q2195.43 1301.84 2193.44 1304.53 Q2191.45 1307.19 2191.45 1311.84 Q2191.45 1316.5 2193.42 1319.18 Q2195.41 1321.84 2198.86 1321.84 Q2202.26 1321.84 2204.25 1319.16 Q2206.24 1316.47 2206.24 1311.84 Q2206.24 1307.24 2204.25 1304.55 Q2202.26 1301.84 2198.86 1301.84 M2198.86 1298.23 Q2204.41 1298.23 2207.58 1301.84 Q2210.75 1305.45 2210.75 1311.84 Q2210.75 1318.21 2207.58 1321.84 Q2204.41 1325.45 2198.86 1325.45 Q2193.28 1325.45 2190.11 1321.84 Q2186.96 1318.21 2186.96 1311.84 Q2186.96 1305.45 2190.11 1301.84 Q2193.28 1298.23 2198.86 1298.23 Z\" fill=\"#000000\" fill-rule=\"evenodd\" fill-opacity=\"1\" /><path clip-path=\"url(#clip730)\" d=\"M 0 0 M2236.77 1309.13 L2236.77 1324.78 L2232.51 1324.78 L2232.51 1309.27 Q2232.51 1305.59 2231.08 1303.76 Q2229.64 1301.94 2226.77 1301.94 Q2223.32 1301.94 2221.33 1304.13 Q2219.34 1306.33 2219.34 1310.13 L2219.34 1324.78 L2215.06 1324.78 L2215.06 1298.86 L2219.34 1298.86 L2219.34 1302.88 Q2220.87 1300.55 2222.93 1299.39 Q2225.01 1298.23 2227.72 1298.23 Q2232.19 1298.23 2234.48 1301.01 Q2236.77 1303.76 2236.77 1309.13 Z\" fill=\"#000000\" fill-rule=\"evenodd\" fill-opacity=\"1\" /></svg>\n"
      ]
     },
     "execution_count": 29,
     "metadata": {},
     "output_type": "execute_result"
    }
   ],
   "source": [
    "plot(curve.parameter_values,\n",
    "     curve.measurements,\n",
    "     xscale=curve.parameter_scale,\n",
    "     xlab=curve.parameter_name,\n",
    "     ylab=\"Classification Accuracy\",\n",
    "     label=\"Validation\", lw=2,\n",
    "     title=\"Linear\", \n",
    "     legend=:bottomright)"
   ]
  },
  {
   "cell_type": "code",
   "execution_count": 27,
   "metadata": {},
   "outputs": [],
   "source": [
    "fn = \"Figures/SVM_Linear_MCC\"\n",
    "png(replace(fn,'.' => ','))"
   ]
  },
  {
   "cell_type": "code",
   "execution_count": 32,
   "metadata": {
    "scrolled": true
   },
   "outputs": [
    {
     "name": "stderr",
     "output_type": "stream",
     "text": [
      "┌ Info: Training \u001b[34mMachine{DeterministicTunedModel{Grid,…}} @123\u001b[39m.\n",
      "└ @ MLJBase /home/andrew/.julia/packages/MLJBase/uKzAz/src/machines.jl:319\n",
      "┌ Info: Attempting to evaluate 500 models.\n",
      "└ @ MLJTuning /home/andrew/.julia/packages/MLJTuning/Bbgvk/src/tuned_models.jl:494\n",
      "\u001b[33mEvaluating over 500 metamodels: 100%[=========================] Time: 0:00:08\u001b[39m\n"
     ]
    },
    {
     "data": {
      "text/plain": [
       "(parameter_name = \"C\",\n",
       " parameter_scale = :linear,\n",
       " parameter_values = [0.010000000000000002, 0.010981963927855713, 0.011963927855711425, 0.012945891783567136, 0.013927855711422847, 0.014909819639278558, 0.01589178356713427, 0.01687374749498998, 0.017855711422845692, 0.018837675350701404  …  0.4911623246492986, 0.4921442885771543, 0.49312625250501, 0.49410821643286573, 0.49509018036072144, 0.49607214428857715, 0.49705410821643287, 0.4980360721442886, 0.4990180360721443, 0.5],\n",
       " measurements = [0.8751526251526252, 0.8687728937728939, 0.8735805860805862, 0.8735805860805862, 0.8735805860805862, 0.8607600732600732, 0.8655677655677656, 0.8639652014652014, 0.8655677655677656, 0.8639652014652014  …  0.9167277167277167, 0.9167277167277167, 0.9167277167277167, 0.9167277167277167, 0.9167277167277167, 0.9167277167277167, 0.9167277167277167, 0.9167277167277167, 0.9167277167277167, 0.9167277167277167],)"
      ]
     },
     "execution_count": 32,
     "metadata": {},
     "output_type": "execute_result"
    }
   ],
   "source": [
    "r1 = range(svm_linear_model, :C, lower=10^-2, upper=0.5, scale=:linear)\n",
    "curve = learning_curve(svm_linear_mach, \n",
    "                        range=r1,\n",
    "                        resampling=CV(), \n",
    "                        measure=accuracy, \n",
    "                        acceleration=CPUThreads(),\n",
    "                        resolution=500)"
   ]
  },
  {
   "cell_type": "code",
   "execution_count": 34,
   "metadata": {},
   "outputs": [
    {
     "name": "stderr",
     "output_type": "stream",
     "text": [
      "┌ Warning: scale linear is unsupported with Plots.GRBackend().  Choose from: [:identity, :log10]\n",
      "└ @ Plots /home/andrew/.julia/packages/Plots/M1wcx/src/args.jl:1211\n"
     ]
    },
    {
     "data": {
      "image/svg+xml": [
       "<?xml version=\"1.0\" encoding=\"utf-8\"?>\n",
       "<svg xmlns=\"http://www.w3.org/2000/svg\" xmlns:xlink=\"http://www.w3.org/1999/xlink\" width=\"600\" height=\"400\" viewBox=\"0 0 2400 1600\">\n",
       "<defs>\n",
       "  <clipPath id=\"clip850\">\n",
       "    <rect x=\"0\" y=\"0\" width=\"2400\" height=\"1600\"/>\n",
       "  </clipPath>\n",
       "</defs>\n",
       "<path clip-path=\"url(#clip850)\" d=\"\n",
       "M0 1600 L2400 1600 L2400 0 L0 0  Z\n",
       "  \" fill=\"#ffffff\" fill-rule=\"evenodd\" fill-opacity=\"1\"/>\n",
       "<defs>\n",
       "  <clipPath id=\"clip851\">\n",
       "    <rect x=\"480\" y=\"0\" width=\"1681\" height=\"1600\"/>\n",
       "  </clipPath>\n",
       "</defs>\n",
       "<path clip-path=\"url(#clip850)\" d=\"\n",
       "M238.2 1423.18 L2352.76 1423.18 L2352.76 123.472 L238.2 123.472  Z\n",
       "  \" fill=\"#ffffff\" fill-rule=\"evenodd\" fill-opacity=\"1\"/>\n",
       "<defs>\n",
       "  <clipPath id=\"clip852\">\n",
       "    <rect x=\"238\" y=\"123\" width=\"2116\" height=\"1301\"/>\n",
       "  </clipPath>\n",
       "</defs>\n",
       "<polyline clip-path=\"url(#clip852)\" style=\"stroke:#000000; stroke-width:2; stroke-opacity:0.1; fill:none\" points=\"\n",
       "  257.334,1423.18 257.334,123.472 \n",
       "  \"/>\n",
       "<polyline clip-path=\"url(#clip852)\" style=\"stroke:#000000; stroke-width:2; stroke-opacity:0.1; fill:none\" points=\"\n",
       "  664.449,1423.18 664.449,123.472 \n",
       "  \"/>\n",
       "<polyline clip-path=\"url(#clip852)\" style=\"stroke:#000000; stroke-width:2; stroke-opacity:0.1; fill:none\" points=\"\n",
       "  1071.56,1423.18 1071.56,123.472 \n",
       "  \"/>\n",
       "<polyline clip-path=\"url(#clip852)\" style=\"stroke:#000000; stroke-width:2; stroke-opacity:0.1; fill:none\" points=\"\n",
       "  1478.68,1423.18 1478.68,123.472 \n",
       "  \"/>\n",
       "<polyline clip-path=\"url(#clip852)\" style=\"stroke:#000000; stroke-width:2; stroke-opacity:0.1; fill:none\" points=\"\n",
       "  1885.79,1423.18 1885.79,123.472 \n",
       "  \"/>\n",
       "<polyline clip-path=\"url(#clip852)\" style=\"stroke:#000000; stroke-width:2; stroke-opacity:0.1; fill:none\" points=\"\n",
       "  2292.91,1423.18 2292.91,123.472 \n",
       "  \"/>\n",
       "<polyline clip-path=\"url(#clip852)\" style=\"stroke:#000000; stroke-width:2; stroke-opacity:0.1; fill:none\" points=\"\n",
       "  238.2,1368.45 2352.76,1368.45 \n",
       "  \"/>\n",
       "<polyline clip-path=\"url(#clip852)\" style=\"stroke:#000000; stroke-width:2; stroke-opacity:0.1; fill:none\" points=\"\n",
       "  238.2,1155.47 2352.76,1155.47 \n",
       "  \"/>\n",
       "<polyline clip-path=\"url(#clip852)\" style=\"stroke:#000000; stroke-width:2; stroke-opacity:0.1; fill:none\" points=\"\n",
       "  238.2,942.489 2352.76,942.489 \n",
       "  \"/>\n",
       "<polyline clip-path=\"url(#clip852)\" style=\"stroke:#000000; stroke-width:2; stroke-opacity:0.1; fill:none\" points=\"\n",
       "  238.2,729.507 2352.76,729.507 \n",
       "  \"/>\n",
       "<polyline clip-path=\"url(#clip852)\" style=\"stroke:#000000; stroke-width:2; stroke-opacity:0.1; fill:none\" points=\"\n",
       "  238.2,516.526 2352.76,516.526 \n",
       "  \"/>\n",
       "<polyline clip-path=\"url(#clip852)\" style=\"stroke:#000000; stroke-width:2; stroke-opacity:0.1; fill:none\" points=\"\n",
       "  238.2,303.544 2352.76,303.544 \n",
       "  \"/>\n",
       "<polyline clip-path=\"url(#clip850)\" style=\"stroke:#000000; stroke-width:4; stroke-opacity:1; fill:none\" points=\"\n",
       "  238.2,1423.18 2352.76,1423.18 \n",
       "  \"/>\n",
       "<polyline clip-path=\"url(#clip850)\" style=\"stroke:#000000; stroke-width:4; stroke-opacity:1; fill:none\" points=\"\n",
       "  238.2,1423.18 238.2,123.472 \n",
       "  \"/>\n",
       "<polyline clip-path=\"url(#clip850)\" style=\"stroke:#000000; stroke-width:4; stroke-opacity:1; fill:none\" points=\"\n",
       "  257.334,1423.18 257.334,1407.58 \n",
       "  \"/>\n",
       "<polyline clip-path=\"url(#clip850)\" style=\"stroke:#000000; stroke-width:4; stroke-opacity:1; fill:none\" points=\"\n",
       "  664.449,1423.18 664.449,1407.58 \n",
       "  \"/>\n",
       "<polyline clip-path=\"url(#clip850)\" style=\"stroke:#000000; stroke-width:4; stroke-opacity:1; fill:none\" points=\"\n",
       "  1071.56,1423.18 1071.56,1407.58 \n",
       "  \"/>\n",
       "<polyline clip-path=\"url(#clip850)\" style=\"stroke:#000000; stroke-width:4; stroke-opacity:1; fill:none\" points=\"\n",
       "  1478.68,1423.18 1478.68,1407.58 \n",
       "  \"/>\n",
       "<polyline clip-path=\"url(#clip850)\" style=\"stroke:#000000; stroke-width:4; stroke-opacity:1; fill:none\" points=\"\n",
       "  1885.79,1423.18 1885.79,1407.58 \n",
       "  \"/>\n",
       "<polyline clip-path=\"url(#clip850)\" style=\"stroke:#000000; stroke-width:4; stroke-opacity:1; fill:none\" points=\"\n",
       "  2292.91,1423.18 2292.91,1407.58 \n",
       "  \"/>\n",
       "<polyline clip-path=\"url(#clip850)\" style=\"stroke:#000000; stroke-width:4; stroke-opacity:1; fill:none\" points=\"\n",
       "  238.2,1368.45 263.574,1368.45 \n",
       "  \"/>\n",
       "<polyline clip-path=\"url(#clip850)\" style=\"stroke:#000000; stroke-width:4; stroke-opacity:1; fill:none\" points=\"\n",
       "  238.2,1155.47 263.574,1155.47 \n",
       "  \"/>\n",
       "<polyline clip-path=\"url(#clip850)\" style=\"stroke:#000000; stroke-width:4; stroke-opacity:1; fill:none\" points=\"\n",
       "  238.2,942.489 263.574,942.489 \n",
       "  \"/>\n",
       "<polyline clip-path=\"url(#clip850)\" style=\"stroke:#000000; stroke-width:4; stroke-opacity:1; fill:none\" points=\"\n",
       "  238.2,729.507 263.574,729.507 \n",
       "  \"/>\n",
       "<polyline clip-path=\"url(#clip850)\" style=\"stroke:#000000; stroke-width:4; stroke-opacity:1; fill:none\" points=\"\n",
       "  238.2,516.526 263.574,516.526 \n",
       "  \"/>\n",
       "<polyline clip-path=\"url(#clip850)\" style=\"stroke:#000000; stroke-width:4; stroke-opacity:1; fill:none\" points=\"\n",
       "  238.2,303.544 263.574,303.544 \n",
       "  \"/>\n",
       "<path clip-path=\"url(#clip850)\" d=\"M 0 0 M238.85 1445.17 Q235.239 1445.17 233.41 1448.74 Q231.605 1452.28 231.605 1459.41 Q231.605 1466.51 233.41 1470.08 Q235.239 1473.62 238.85 1473.62 Q242.484 1473.62 244.29 1470.08 Q246.119 1466.51 246.119 1459.41 Q246.119 1452.28 244.29 1448.74 Q242.484 1445.17 238.85 1445.17 M238.85 1441.47 Q244.66 1441.47 247.716 1446.07 Q250.795 1450.66 250.795 1459.41 Q250.795 1468.13 247.716 1472.74 Q244.66 1477.32 238.85 1477.32 Q233.04 1477.32 229.961 1472.74 Q226.906 1468.13 226.906 1459.41 Q226.906 1450.66 229.961 1446.07 Q233.04 1441.47 238.85 1441.47 Z\" fill=\"#000000\" fill-rule=\"evenodd\" fill-opacity=\"1\" /><path clip-path=\"url(#clip850)\" d=\"M 0 0 M255.864 1470.77 L260.748 1470.77 L260.748 1476.65 L255.864 1476.65 L255.864 1470.77 Z\" fill=\"#000000\" fill-rule=\"evenodd\" fill-opacity=\"1\" /><path clip-path=\"url(#clip850)\" d=\"M 0 0 M275.818 1445.17 Q272.207 1445.17 270.378 1448.74 Q268.572 1452.28 268.572 1459.41 Q268.572 1466.51 270.378 1470.08 Q272.207 1473.62 275.818 1473.62 Q279.452 1473.62 281.257 1470.08 Q283.086 1466.51 283.086 1459.41 Q283.086 1452.28 281.257 1448.74 Q279.452 1445.17 275.818 1445.17 M275.818 1441.47 Q281.628 1441.47 284.683 1446.07 Q287.762 1450.66 287.762 1459.41 Q287.762 1468.13 284.683 1472.74 Q281.628 1477.32 275.818 1477.32 Q270.007 1477.32 266.929 1472.74 Q263.873 1468.13 263.873 1459.41 Q263.873 1450.66 266.929 1446.07 Q270.007 1441.47 275.818 1441.47 Z\" fill=\"#000000\" fill-rule=\"evenodd\" fill-opacity=\"1\" /><path clip-path=\"url(#clip850)\" d=\"M 0 0 M646.579 1445.17 Q642.968 1445.17 641.139 1448.74 Q639.334 1452.28 639.334 1459.41 Q639.334 1466.51 641.139 1470.08 Q642.968 1473.62 646.579 1473.62 Q650.213 1473.62 652.019 1470.08 Q653.847 1466.51 653.847 1459.41 Q653.847 1452.28 652.019 1448.74 Q650.213 1445.17 646.579 1445.17 M646.579 1441.47 Q652.389 1441.47 655.445 1446.07 Q658.523 1450.66 658.523 1459.41 Q658.523 1468.13 655.445 1472.74 Q652.389 1477.32 646.579 1477.32 Q640.769 1477.32 637.69 1472.74 Q634.634 1468.13 634.634 1459.41 Q634.634 1450.66 637.69 1446.07 Q640.769 1441.47 646.579 1441.47 Z\" fill=\"#000000\" fill-rule=\"evenodd\" fill-opacity=\"1\" /><path clip-path=\"url(#clip850)\" d=\"M 0 0 M663.593 1470.77 L668.477 1470.77 L668.477 1476.65 L663.593 1476.65 L663.593 1470.77 Z\" fill=\"#000000\" fill-rule=\"evenodd\" fill-opacity=\"1\" /><path clip-path=\"url(#clip850)\" d=\"M 0 0 M674.356 1472.72 L681.995 1472.72 L681.995 1446.35 L673.685 1448.02 L673.685 1443.76 L681.949 1442.09 L686.625 1442.09 L686.625 1472.72 L694.264 1472.72 L694.264 1476.65 L674.356 1476.65 L674.356 1472.72 Z\" fill=\"#000000\" fill-rule=\"evenodd\" fill-opacity=\"1\" /><path clip-path=\"url(#clip850)\" d=\"M 0 0 M1053.88 1445.17 Q1050.27 1445.17 1048.44 1448.74 Q1046.63 1452.28 1046.63 1459.41 Q1046.63 1466.51 1048.44 1470.08 Q1050.27 1473.62 1053.88 1473.62 Q1057.51 1473.62 1059.32 1470.08 Q1061.15 1466.51 1061.15 1459.41 Q1061.15 1452.28 1059.32 1448.74 Q1057.51 1445.17 1053.88 1445.17 M1053.88 1441.47 Q1059.69 1441.47 1062.74 1446.07 Q1065.82 1450.66 1065.82 1459.41 Q1065.82 1468.13 1062.74 1472.74 Q1059.69 1477.32 1053.88 1477.32 Q1048.07 1477.32 1044.99 1472.74 Q1041.93 1468.13 1041.93 1459.41 Q1041.93 1450.66 1044.99 1446.07 Q1048.07 1441.47 1053.88 1441.47 Z\" fill=\"#000000\" fill-rule=\"evenodd\" fill-opacity=\"1\" /><path clip-path=\"url(#clip850)\" d=\"M 0 0 M1070.89 1470.77 L1075.78 1470.77 L1075.78 1476.65 L1070.89 1476.65 L1070.89 1470.77 Z\" fill=\"#000000\" fill-rule=\"evenodd\" fill-opacity=\"1\" /><path clip-path=\"url(#clip850)\" d=\"M 0 0 M1084.87 1472.72 L1101.19 1472.72 L1101.19 1476.65 L1079.25 1476.65 L1079.25 1472.72 Q1081.91 1469.96 1086.49 1465.33 Q1091.1 1460.68 1092.28 1459.34 Q1094.53 1456.81 1095.41 1455.08 Q1096.31 1453.32 1096.31 1451.63 Q1096.31 1448.87 1094.37 1447.14 Q1092.44 1445.4 1089.34 1445.4 Q1087.14 1445.4 1084.69 1446.17 Q1082.26 1446.93 1079.48 1448.48 L1079.48 1443.76 Q1082.31 1442.62 1084.76 1442.05 Q1087.21 1441.47 1089.25 1441.47 Q1094.62 1441.47 1097.81 1444.15 Q1101.01 1446.84 1101.01 1451.33 Q1101.01 1453.46 1100.2 1455.38 Q1099.41 1457.28 1097.3 1459.87 Q1096.73 1460.54 1093.62 1463.76 Q1090.52 1466.95 1084.87 1472.72 Z\" fill=\"#000000\" fill-rule=\"evenodd\" fill-opacity=\"1\" /><path clip-path=\"url(#clip850)\" d=\"M 0 0 M1460.52 1445.17 Q1456.91 1445.17 1455.08 1448.74 Q1453.27 1452.28 1453.27 1459.41 Q1453.27 1466.51 1455.08 1470.08 Q1456.91 1473.62 1460.52 1473.62 Q1464.15 1473.62 1465.96 1470.08 Q1467.79 1466.51 1467.79 1459.41 Q1467.79 1452.28 1465.96 1448.74 Q1464.15 1445.17 1460.52 1445.17 M1460.52 1441.47 Q1466.33 1441.47 1469.39 1446.07 Q1472.46 1450.66 1472.46 1459.41 Q1472.46 1468.13 1469.39 1472.74 Q1466.33 1477.32 1460.52 1477.32 Q1454.71 1477.32 1451.63 1472.74 Q1448.58 1468.13 1448.58 1459.41 Q1448.58 1450.66 1451.63 1446.07 Q1454.71 1441.47 1460.52 1441.47 Z\" fill=\"#000000\" fill-rule=\"evenodd\" fill-opacity=\"1\" /><path clip-path=\"url(#clip850)\" d=\"M 0 0 M1477.53 1470.77 L1482.42 1470.77 L1482.42 1476.65 L1477.53 1476.65 L1477.53 1470.77 Z\" fill=\"#000000\" fill-rule=\"evenodd\" fill-opacity=\"1\" /><path clip-path=\"url(#clip850)\" d=\"M 0 0 M1501.65 1458.02 Q1505.01 1458.74 1506.89 1461 Q1508.78 1463.27 1508.78 1466.61 Q1508.78 1471.72 1505.27 1474.52 Q1501.75 1477.32 1495.27 1477.32 Q1493.09 1477.32 1490.77 1476.88 Q1488.48 1476.47 1486.03 1475.61 L1486.03 1471.1 Q1487.97 1472.23 1490.29 1472.81 Q1492.6 1473.39 1495.13 1473.39 Q1499.52 1473.39 1501.82 1471.65 Q1504.13 1469.92 1504.13 1466.61 Q1504.13 1463.55 1501.98 1461.84 Q1499.85 1460.1 1496.03 1460.1 L1492 1460.1 L1492 1456.26 L1496.21 1456.26 Q1499.66 1456.26 1501.49 1454.89 Q1503.32 1453.5 1503.32 1450.91 Q1503.32 1448.25 1501.42 1446.84 Q1499.55 1445.4 1496.03 1445.4 Q1494.11 1445.4 1491.91 1445.82 Q1489.71 1446.24 1487.07 1447.11 L1487.07 1442.95 Q1489.73 1442.21 1492.05 1441.84 Q1494.39 1441.47 1496.45 1441.47 Q1501.77 1441.47 1504.87 1443.9 Q1507.97 1446.3 1507.97 1450.43 Q1507.97 1453.3 1506.33 1455.29 Q1504.69 1457.25 1501.65 1458.02 Z\" fill=\"#000000\" fill-rule=\"evenodd\" fill-opacity=\"1\" /><path clip-path=\"url(#clip850)\" d=\"M 0 0 M1867.07 1445.17 Q1863.46 1445.17 1861.63 1448.74 Q1859.82 1452.28 1859.82 1459.41 Q1859.82 1466.51 1861.63 1470.08 Q1863.46 1473.62 1867.07 1473.62 Q1870.7 1473.62 1872.51 1470.08 Q1874.34 1466.51 1874.34 1459.41 Q1874.34 1452.28 1872.51 1448.74 Q1870.7 1445.17 1867.07 1445.17 M1867.07 1441.47 Q1872.88 1441.47 1875.93 1446.07 Q1879.01 1450.66 1879.01 1459.41 Q1879.01 1468.13 1875.93 1472.74 Q1872.88 1477.32 1867.07 1477.32 Q1861.26 1477.32 1858.18 1472.74 Q1855.12 1468.13 1855.12 1459.41 Q1855.12 1450.66 1858.18 1446.07 Q1861.26 1441.47 1867.07 1441.47 Z\" fill=\"#000000\" fill-rule=\"evenodd\" fill-opacity=\"1\" /><path clip-path=\"url(#clip850)\" d=\"M 0 0 M1884.08 1470.77 L1888.97 1470.77 L1888.97 1476.65 L1884.08 1476.65 L1884.08 1470.77 Z\" fill=\"#000000\" fill-rule=\"evenodd\" fill-opacity=\"1\" /><path clip-path=\"url(#clip850)\" d=\"M 0 0 M1906.88 1446.17 L1895.08 1464.61 L1906.88 1464.61 L1906.88 1446.17 M1905.66 1442.09 L1911.54 1442.09 L1911.54 1464.61 L1916.47 1464.61 L1916.47 1468.5 L1911.54 1468.5 L1911.54 1476.65 L1906.88 1476.65 L1906.88 1468.5 L1891.28 1468.5 L1891.28 1463.99 L1905.66 1442.09 Z\" fill=\"#000000\" fill-rule=\"evenodd\" fill-opacity=\"1\" /><path clip-path=\"url(#clip850)\" d=\"M 0 0 M2274.92 1445.17 Q2271.31 1445.17 2269.48 1448.74 Q2267.68 1452.28 2267.68 1459.41 Q2267.68 1466.51 2269.48 1470.08 Q2271.31 1473.62 2274.92 1473.62 Q2278.56 1473.62 2280.36 1470.08 Q2282.19 1466.51 2282.19 1459.41 Q2282.19 1452.28 2280.36 1448.74 Q2278.56 1445.17 2274.92 1445.17 M2274.92 1441.47 Q2280.73 1441.47 2283.79 1446.07 Q2286.87 1450.66 2286.87 1459.41 Q2286.87 1468.13 2283.79 1472.74 Q2280.73 1477.32 2274.92 1477.32 Q2269.11 1477.32 2266.04 1472.74 Q2262.98 1468.13 2262.98 1459.41 Q2262.98 1450.66 2266.04 1446.07 Q2269.11 1441.47 2274.92 1441.47 Z\" fill=\"#000000\" fill-rule=\"evenodd\" fill-opacity=\"1\" /><path clip-path=\"url(#clip850)\" d=\"M 0 0 M2291.94 1470.77 L2296.82 1470.77 L2296.82 1476.65 L2291.94 1476.65 L2291.94 1470.77 Z\" fill=\"#000000\" fill-rule=\"evenodd\" fill-opacity=\"1\" /><path clip-path=\"url(#clip850)\" d=\"M 0 0 M2301.94 1442.09 L2320.29 1442.09 L2320.29 1446.03 L2306.22 1446.03 L2306.22 1454.5 Q2307.24 1454.15 2308.26 1453.99 Q2309.28 1453.8 2310.29 1453.8 Q2316.08 1453.8 2319.46 1456.98 Q2322.84 1460.15 2322.84 1465.56 Q2322.84 1471.14 2319.37 1474.24 Q2315.9 1477.32 2309.58 1477.32 Q2307.4 1477.32 2305.13 1476.95 Q2302.89 1476.58 2300.48 1475.84 L2300.48 1471.14 Q2302.56 1472.28 2304.78 1472.83 Q2307.01 1473.39 2309.48 1473.39 Q2313.49 1473.39 2315.83 1471.28 Q2318.16 1469.18 2318.16 1465.56 Q2318.16 1461.95 2315.83 1459.85 Q2313.49 1457.74 2309.48 1457.74 Q2307.61 1457.74 2305.73 1458.16 Q2303.88 1458.57 2301.94 1459.45 L2301.94 1442.09 Z\" fill=\"#000000\" fill-rule=\"evenodd\" fill-opacity=\"1\" /><path clip-path=\"url(#clip850)\" d=\"M 0 0 M138.205 1354.25 Q134.593 1354.25 132.765 1357.82 Q130.959 1361.36 130.959 1368.49 Q130.959 1375.59 132.765 1379.16 Q134.593 1382.7 138.205 1382.7 Q141.839 1382.7 143.644 1379.16 Q145.473 1375.59 145.473 1368.49 Q145.473 1361.36 143.644 1357.82 Q141.839 1354.25 138.205 1354.25 M138.205 1350.55 Q144.015 1350.55 147.07 1355.15 Q150.149 1359.74 150.149 1368.49 Q150.149 1377.21 147.07 1381.82 Q144.015 1386.4 138.205 1386.4 Q132.394 1386.4 129.316 1381.82 Q126.26 1377.21 126.26 1368.49 Q126.26 1359.74 129.316 1355.15 Q132.394 1350.55 138.205 1350.55 Z\" fill=\"#000000\" fill-rule=\"evenodd\" fill-opacity=\"1\" /><path clip-path=\"url(#clip850)\" d=\"M 0 0 M155.218 1379.85 L160.103 1379.85 L160.103 1385.73 L155.218 1385.73 L155.218 1379.85 Z\" fill=\"#000000\" fill-rule=\"evenodd\" fill-opacity=\"1\" /><path clip-path=\"url(#clip850)\" d=\"M 0 0 M175.172 1369.32 Q171.839 1369.32 169.917 1371.1 Q168.019 1372.89 168.019 1376.01 Q168.019 1379.13 169.917 1380.92 Q171.839 1382.7 175.172 1382.7 Q178.505 1382.7 180.427 1380.92 Q182.348 1379.11 182.348 1376.01 Q182.348 1372.89 180.427 1371.1 Q178.528 1369.32 175.172 1369.32 M170.496 1367.33 Q167.487 1366.59 165.797 1364.53 Q164.13 1362.47 164.13 1359.51 Q164.13 1355.36 167.07 1352.95 Q170.033 1350.55 175.172 1350.55 Q180.334 1350.55 183.274 1352.95 Q186.214 1355.36 186.214 1359.51 Q186.214 1362.47 184.524 1364.53 Q182.857 1366.59 179.871 1367.33 Q183.251 1368.12 185.126 1370.41 Q187.024 1372.7 187.024 1376.01 Q187.024 1381.03 183.945 1383.72 Q180.889 1386.4 175.172 1386.4 Q169.454 1386.4 166.376 1383.72 Q163.32 1381.03 163.32 1376.01 Q163.32 1372.7 165.218 1370.41 Q167.116 1368.12 170.496 1367.33 M168.783 1359.95 Q168.783 1362.63 170.45 1364.14 Q172.14 1365.64 175.172 1365.64 Q178.181 1365.64 179.871 1364.14 Q181.584 1362.63 181.584 1359.95 Q181.584 1357.26 179.871 1355.76 Q178.181 1354.25 175.172 1354.25 Q172.14 1354.25 170.45 1355.76 Q168.783 1357.26 168.783 1359.95 Z\" fill=\"#000000\" fill-rule=\"evenodd\" fill-opacity=\"1\" /><path clip-path=\"url(#clip850)\" d=\"M 0 0 M202.672 1366.59 Q199.524 1366.59 197.672 1368.74 Q195.843 1370.89 195.843 1374.64 Q195.843 1378.37 197.672 1380.55 Q199.524 1382.7 202.672 1382.7 Q205.82 1382.7 207.649 1380.55 Q209.5 1378.37 209.5 1374.64 Q209.5 1370.89 207.649 1368.74 Q205.82 1366.59 202.672 1366.59 M211.954 1351.94 L211.954 1356.2 Q210.195 1355.36 208.389 1354.92 Q206.607 1354.48 204.848 1354.48 Q200.218 1354.48 197.764 1357.61 Q195.334 1360.73 194.987 1367.05 Q196.352 1365.04 198.413 1363.97 Q200.473 1362.89 202.95 1362.89 Q208.158 1362.89 211.167 1366.06 Q214.2 1369.2 214.2 1374.64 Q214.2 1379.97 211.051 1383.19 Q207.903 1386.4 202.672 1386.4 Q196.676 1386.4 193.505 1381.82 Q190.334 1377.21 190.334 1368.49 Q190.334 1360.29 194.223 1355.43 Q198.112 1350.55 204.663 1350.55 Q206.422 1350.55 208.204 1350.89 Q210.01 1351.24 211.954 1351.94 Z\" fill=\"#000000\" fill-rule=\"evenodd\" fill-opacity=\"1\" /><path clip-path=\"url(#clip850)\" d=\"M 0 0 M139.269 1141.27 Q135.658 1141.27 133.83 1144.83 Q132.024 1148.38 132.024 1155.51 Q132.024 1162.61 133.83 1166.18 Q135.658 1169.72 139.269 1169.72 Q142.904 1169.72 144.709 1166.18 Q146.538 1162.61 146.538 1155.51 Q146.538 1148.38 144.709 1144.83 Q142.904 1141.27 139.269 1141.27 M139.269 1137.57 Q145.08 1137.57 148.135 1142.17 Q151.214 1146.76 151.214 1155.51 Q151.214 1164.23 148.135 1168.84 Q145.08 1173.42 139.269 1173.42 Q133.459 1173.42 130.381 1168.84 Q127.325 1164.23 127.325 1155.51 Q127.325 1146.76 130.381 1142.17 Q133.459 1137.57 139.269 1137.57 Z\" fill=\"#000000\" fill-rule=\"evenodd\" fill-opacity=\"1\" /><path clip-path=\"url(#clip850)\" d=\"M 0 0 M156.283 1166.87 L161.167 1166.87 L161.167 1172.75 L156.283 1172.75 L156.283 1166.87 Z\" fill=\"#000000\" fill-rule=\"evenodd\" fill-opacity=\"1\" /><path clip-path=\"url(#clip850)\" d=\"M 0 0 M176.237 1156.34 Q172.903 1156.34 170.982 1158.12 Q169.084 1159.9 169.084 1163.03 Q169.084 1166.15 170.982 1167.94 Q172.903 1169.72 176.237 1169.72 Q179.57 1169.72 181.491 1167.94 Q183.413 1166.13 183.413 1163.03 Q183.413 1159.9 181.491 1158.12 Q179.593 1156.34 176.237 1156.34 M171.561 1154.35 Q168.552 1153.61 166.862 1151.55 Q165.195 1149.49 165.195 1146.52 Q165.195 1142.38 168.135 1139.97 Q171.098 1137.57 176.237 1137.57 Q181.399 1137.57 184.339 1139.97 Q187.278 1142.38 187.278 1146.52 Q187.278 1149.49 185.589 1151.55 Q183.922 1153.61 180.936 1154.35 Q184.315 1155.13 186.19 1157.43 Q188.089 1159.72 188.089 1163.03 Q188.089 1168.05 185.01 1170.74 Q181.954 1173.42 176.237 1173.42 Q170.519 1173.42 167.44 1170.74 Q164.385 1168.05 164.385 1163.03 Q164.385 1159.72 166.283 1157.43 Q168.181 1155.13 171.561 1154.35 M169.848 1146.96 Q169.848 1149.65 171.515 1151.15 Q173.204 1152.66 176.237 1152.66 Q179.246 1152.66 180.936 1151.15 Q182.649 1149.65 182.649 1146.96 Q182.649 1144.28 180.936 1142.77 Q179.246 1141.27 176.237 1141.27 Q173.204 1141.27 171.515 1142.77 Q169.848 1144.28 169.848 1146.96 Z\" fill=\"#000000\" fill-rule=\"evenodd\" fill-opacity=\"1\" /><path clip-path=\"url(#clip850)\" d=\"M 0 0 M191.977 1138.19 L214.2 1138.19 L214.2 1140.18 L201.653 1172.75 L196.769 1172.75 L208.575 1142.13 L191.977 1142.13 L191.977 1138.19 Z\" fill=\"#000000\" fill-rule=\"evenodd\" fill-opacity=\"1\" /><path clip-path=\"url(#clip850)\" d=\"M 0 0 M138.459 928.288 Q134.848 928.288 133.019 931.852 Q131.214 935.394 131.214 942.524 Q131.214 949.63 133.019 953.195 Q134.848 956.737 138.459 956.737 Q142.093 956.737 143.899 953.195 Q145.728 949.63 145.728 942.524 Q145.728 935.394 143.899 931.852 Q142.093 928.288 138.459 928.288 M138.459 924.584 Q144.269 924.584 147.325 929.19 Q150.404 933.774 150.404 942.524 Q150.404 951.251 147.325 955.857 Q144.269 960.44 138.459 960.44 Q132.649 960.44 129.57 955.857 Q126.515 951.251 126.515 942.524 Q126.515 933.774 129.57 929.19 Q132.649 924.584 138.459 924.584 Z\" fill=\"#000000\" fill-rule=\"evenodd\" fill-opacity=\"1\" /><path clip-path=\"url(#clip850)\" d=\"M 0 0 M155.473 953.889 L160.357 953.889 L160.357 959.769 L155.473 959.769 L155.473 953.889 Z\" fill=\"#000000\" fill-rule=\"evenodd\" fill-opacity=\"1\" /><path clip-path=\"url(#clip850)\" d=\"M 0 0 M175.427 943.357 Q172.093 943.357 170.172 945.139 Q168.274 946.922 168.274 950.047 Q168.274 953.172 170.172 954.954 Q172.093 956.737 175.427 956.737 Q178.76 956.737 180.681 954.954 Q182.602 953.149 182.602 950.047 Q182.602 946.922 180.681 945.139 Q178.783 943.357 175.427 943.357 M170.751 941.366 Q167.741 940.626 166.052 938.565 Q164.385 936.505 164.385 933.542 Q164.385 929.399 167.325 926.991 Q170.288 924.584 175.427 924.584 Q180.589 924.584 183.528 926.991 Q186.468 929.399 186.468 933.542 Q186.468 936.505 184.778 938.565 Q183.112 940.626 180.126 941.366 Q183.505 942.153 185.38 944.445 Q187.278 946.737 187.278 950.047 Q187.278 955.07 184.2 957.755 Q181.144 960.44 175.427 960.44 Q169.709 960.44 166.63 957.755 Q163.575 955.07 163.575 950.047 Q163.575 946.737 165.473 944.445 Q167.371 942.153 170.751 941.366 M169.038 933.982 Q169.038 936.667 170.704 938.172 Q172.394 939.677 175.427 939.677 Q178.436 939.677 180.126 938.172 Q181.839 936.667 181.839 933.982 Q181.839 931.297 180.126 929.792 Q178.436 928.288 175.427 928.288 Q172.394 928.288 170.704 929.792 Q169.038 931.297 169.038 933.982 Z\" fill=\"#000000\" fill-rule=\"evenodd\" fill-opacity=\"1\" /><path clip-path=\"url(#clip850)\" d=\"M 0 0 M202.348 943.357 Q199.014 943.357 197.093 945.139 Q195.195 946.922 195.195 950.047 Q195.195 953.172 197.093 954.954 Q199.014 956.737 202.348 956.737 Q205.681 956.737 207.602 954.954 Q209.524 953.149 209.524 950.047 Q209.524 946.922 207.602 945.139 Q205.704 943.357 202.348 943.357 M197.672 941.366 Q194.663 940.626 192.973 938.565 Q191.306 936.505 191.306 933.542 Q191.306 929.399 194.246 926.991 Q197.209 924.584 202.348 924.584 Q207.51 924.584 210.45 926.991 Q213.389 929.399 213.389 933.542 Q213.389 936.505 211.7 938.565 Q210.033 940.626 207.047 941.366 Q210.426 942.153 212.301 944.445 Q214.2 946.737 214.2 950.047 Q214.2 955.07 211.121 957.755 Q208.065 960.44 202.348 960.44 Q196.63 960.44 193.551 957.755 Q190.496 955.07 190.496 950.047 Q190.496 946.737 192.394 944.445 Q194.292 942.153 197.672 941.366 M195.959 933.982 Q195.959 936.667 197.626 938.172 Q199.315 939.677 202.348 939.677 Q205.357 939.677 207.047 938.172 Q208.76 936.667 208.76 933.982 Q208.76 931.297 207.047 929.792 Q205.357 928.288 202.348 928.288 Q199.315 928.288 197.626 929.792 Q195.959 931.297 195.959 933.982 Z\" fill=\"#000000\" fill-rule=\"evenodd\" fill-opacity=\"1\" /><path clip-path=\"url(#clip850)\" d=\"M 0 0 M138.552 715.306 Q134.941 715.306 133.112 718.871 Q131.306 722.413 131.306 729.542 Q131.306 736.649 133.112 740.213 Q134.941 743.755 138.552 743.755 Q142.186 743.755 143.992 740.213 Q145.82 736.649 145.82 729.542 Q145.82 722.413 143.992 718.871 Q142.186 715.306 138.552 715.306 M138.552 711.602 Q144.362 711.602 147.417 716.209 Q150.496 720.792 150.496 729.542 Q150.496 738.269 147.417 742.875 Q144.362 747.459 138.552 747.459 Q132.742 747.459 129.663 742.875 Q126.607 738.269 126.607 729.542 Q126.607 720.792 129.663 716.209 Q132.742 711.602 138.552 711.602 Z\" fill=\"#000000\" fill-rule=\"evenodd\" fill-opacity=\"1\" /><path clip-path=\"url(#clip850)\" d=\"M 0 0 M155.566 740.908 L160.45 740.908 L160.45 746.787 L155.566 746.787 L155.566 740.908 Z\" fill=\"#000000\" fill-rule=\"evenodd\" fill-opacity=\"1\" /><path clip-path=\"url(#clip850)\" d=\"M 0 0 M175.519 730.375 Q172.186 730.375 170.265 732.158 Q168.366 733.94 168.366 737.065 Q168.366 740.19 170.265 741.973 Q172.186 743.755 175.519 743.755 Q178.852 743.755 180.774 741.973 Q182.695 740.167 182.695 737.065 Q182.695 733.94 180.774 732.158 Q178.876 730.375 175.519 730.375 M170.843 728.385 Q167.834 727.644 166.144 725.584 Q164.478 723.524 164.478 720.561 Q164.478 716.417 167.417 714.01 Q170.38 711.602 175.519 711.602 Q180.681 711.602 183.621 714.01 Q186.561 716.417 186.561 720.561 Q186.561 723.524 184.871 725.584 Q183.204 727.644 180.218 728.385 Q183.598 729.172 185.473 731.463 Q187.371 733.755 187.371 737.065 Q187.371 742.088 184.292 744.774 Q181.237 747.459 175.519 747.459 Q169.802 747.459 166.723 744.774 Q163.667 742.088 163.667 737.065 Q163.667 733.755 165.566 731.463 Q167.464 729.172 170.843 728.385 M169.13 721.001 Q169.13 723.686 170.797 725.19 Q172.487 726.695 175.519 726.695 Q178.528 726.695 180.218 725.19 Q181.931 723.686 181.931 721.001 Q181.931 718.315 180.218 716.811 Q178.528 715.306 175.519 715.306 Q172.487 715.306 170.797 716.811 Q169.13 718.315 169.13 721.001 Z\" fill=\"#000000\" fill-rule=\"evenodd\" fill-opacity=\"1\" /><path clip-path=\"url(#clip850)\" d=\"M 0 0 M192.579 746.07 L192.579 741.811 Q194.338 742.644 196.144 743.084 Q197.95 743.524 199.686 743.524 Q204.315 743.524 206.746 740.422 Q209.2 737.297 209.547 730.954 Q208.204 732.945 206.144 734.01 Q204.084 735.075 201.584 735.075 Q196.399 735.075 193.366 731.95 Q190.357 728.801 190.357 723.362 Q190.357 718.038 193.505 714.82 Q196.653 711.602 201.885 711.602 Q207.88 711.602 211.028 716.209 Q214.2 720.792 214.2 729.542 Q214.2 737.713 210.311 742.598 Q206.445 747.459 199.894 747.459 Q198.135 747.459 196.329 747.112 Q194.524 746.764 192.579 746.07 M201.885 731.417 Q205.033 731.417 206.862 729.264 Q208.713 727.112 208.713 723.362 Q208.713 719.635 206.862 717.482 Q205.033 715.306 201.885 715.306 Q198.737 715.306 196.885 717.482 Q195.056 719.635 195.056 723.362 Q195.056 727.112 196.885 729.264 Q198.737 731.417 201.885 731.417 Z\" fill=\"#000000\" fill-rule=\"evenodd\" fill-opacity=\"1\" /><path clip-path=\"url(#clip850)\" d=\"M 0 0 M138.459 502.325 Q134.848 502.325 133.019 505.889 Q131.214 509.431 131.214 516.561 Q131.214 523.667 133.019 527.232 Q134.848 530.773 138.459 530.773 Q142.093 530.773 143.899 527.232 Q145.728 523.667 145.728 516.561 Q145.728 509.431 143.899 505.889 Q142.093 502.325 138.459 502.325 M138.459 498.621 Q144.269 498.621 147.325 503.227 Q150.404 507.811 150.404 516.561 Q150.404 525.287 147.325 529.894 Q144.269 534.477 138.459 534.477 Q132.649 534.477 129.57 529.894 Q126.515 525.287 126.515 516.561 Q126.515 507.811 129.57 503.227 Q132.649 498.621 138.459 498.621 Z\" fill=\"#000000\" fill-rule=\"evenodd\" fill-opacity=\"1\" /><path clip-path=\"url(#clip850)\" d=\"M 0 0 M155.473 527.926 L160.357 527.926 L160.357 533.806 L155.473 533.806 L155.473 527.926 Z\" fill=\"#000000\" fill-rule=\"evenodd\" fill-opacity=\"1\" /><path clip-path=\"url(#clip850)\" d=\"M 0 0 M165.566 533.088 L165.566 528.829 Q167.325 529.662 169.13 530.102 Q170.936 530.542 172.672 530.542 Q177.302 530.542 179.732 527.44 Q182.186 524.315 182.533 517.973 Q181.19 519.963 179.13 521.028 Q177.07 522.093 174.57 522.093 Q169.385 522.093 166.353 518.968 Q163.343 515.82 163.343 510.38 Q163.343 505.056 166.491 501.838 Q169.64 498.621 174.871 498.621 Q180.866 498.621 184.014 503.227 Q187.186 507.811 187.186 516.561 Q187.186 524.732 183.297 529.616 Q179.431 534.477 172.88 534.477 Q171.121 534.477 169.315 534.13 Q167.51 533.783 165.566 533.088 M174.871 518.436 Q178.019 518.436 179.848 516.283 Q181.7 514.13 181.7 510.38 Q181.7 506.653 179.848 504.5 Q178.019 502.325 174.871 502.325 Q171.723 502.325 169.871 504.5 Q168.042 506.653 168.042 510.38 Q168.042 514.13 169.871 516.283 Q171.723 518.436 174.871 518.436 Z\" fill=\"#000000\" fill-rule=\"evenodd\" fill-opacity=\"1\" /><path clip-path=\"url(#clip850)\" d=\"M 0 0 M202.255 502.325 Q198.644 502.325 196.815 505.889 Q195.01 509.431 195.01 516.561 Q195.01 523.667 196.815 527.232 Q198.644 530.773 202.255 530.773 Q205.889 530.773 207.695 527.232 Q209.524 523.667 209.524 516.561 Q209.524 509.431 207.695 505.889 Q205.889 502.325 202.255 502.325 M202.255 498.621 Q208.065 498.621 211.121 503.227 Q214.2 507.811 214.2 516.561 Q214.2 525.287 211.121 529.894 Q208.065 534.477 202.255 534.477 Q196.445 534.477 193.366 529.894 Q190.311 525.287 190.311 516.561 Q190.311 507.811 193.366 503.227 Q196.445 498.621 202.255 498.621 Z\" fill=\"#000000\" fill-rule=\"evenodd\" fill-opacity=\"1\" /><path clip-path=\"url(#clip850)\" d=\"M 0 0 M139.686 289.343 Q136.075 289.343 134.246 292.908 Q132.441 296.449 132.441 303.579 Q132.441 310.685 134.246 314.25 Q136.075 317.792 139.686 317.792 Q143.32 317.792 145.126 314.25 Q146.954 310.685 146.954 303.579 Q146.954 296.449 145.126 292.908 Q143.32 289.343 139.686 289.343 M139.686 285.639 Q145.496 285.639 148.552 290.246 Q151.63 294.829 151.63 303.579 Q151.63 312.306 148.552 316.912 Q145.496 321.496 139.686 321.496 Q133.876 321.496 130.797 316.912 Q127.742 312.306 127.742 303.579 Q127.742 294.829 130.797 290.246 Q133.876 285.639 139.686 285.639 Z\" fill=\"#000000\" fill-rule=\"evenodd\" fill-opacity=\"1\" /><path clip-path=\"url(#clip850)\" d=\"M 0 0 M156.7 314.945 L161.584 314.945 L161.584 320.824 L156.7 320.824 L156.7 314.945 Z\" fill=\"#000000\" fill-rule=\"evenodd\" fill-opacity=\"1\" /><path clip-path=\"url(#clip850)\" d=\"M 0 0 M166.792 320.107 L166.792 315.847 Q168.552 316.681 170.357 317.121 Q172.163 317.56 173.899 317.56 Q178.528 317.56 180.959 314.459 Q183.413 311.334 183.76 304.991 Q182.417 306.982 180.357 308.047 Q178.297 309.111 175.797 309.111 Q170.612 309.111 167.579 305.986 Q164.57 302.838 164.57 297.398 Q164.57 292.074 167.718 288.857 Q170.866 285.639 176.098 285.639 Q182.093 285.639 185.241 290.246 Q188.413 294.829 188.413 303.579 Q188.413 311.75 184.524 316.634 Q180.658 321.496 174.107 321.496 Q172.348 321.496 170.542 321.148 Q168.737 320.801 166.792 320.107 M176.098 305.454 Q179.246 305.454 181.075 303.301 Q182.927 301.148 182.927 297.398 Q182.927 293.672 181.075 291.519 Q179.246 289.343 176.098 289.343 Q172.95 289.343 171.098 291.519 Q169.269 293.672 169.269 297.398 Q169.269 301.148 171.098 303.301 Q172.95 305.454 176.098 305.454 Z\" fill=\"#000000\" fill-rule=\"evenodd\" fill-opacity=\"1\" /><path clip-path=\"url(#clip850)\" d=\"M 0 0 M194.292 316.889 L201.931 316.889 L201.931 290.524 L193.621 292.19 L193.621 287.931 L201.885 286.264 L206.561 286.264 L206.561 316.889 L214.2 316.889 L214.2 320.824 L194.292 320.824 L194.292 316.889 Z\" fill=\"#000000\" fill-rule=\"evenodd\" fill-opacity=\"1\" /><path clip-path=\"url(#clip850)\" d=\"M 0 0 M1184.24 12.096 L1192.42 12.096 L1192.42 65.6895 L1221.87 65.6895 L1221.87 72.576 L1184.24 72.576 L1184.24 12.096 Z\" fill=\"#000000\" fill-rule=\"evenodd\" fill-opacity=\"1\" /><path clip-path=\"url(#clip850)\" d=\"M 0 0 M1229.69 27.2059 L1237.14 27.2059 L1237.14 72.576 L1229.69 72.576 L1229.69 27.2059 M1229.69 9.54393 L1237.14 9.54393 L1237.14 18.9825 L1229.69 18.9825 L1229.69 9.54393 Z\" fill=\"#000000\" fill-rule=\"evenodd\" fill-opacity=\"1\" /><path clip-path=\"url(#clip850)\" d=\"M 0 0 M1282.68 45.1919 L1282.68 72.576 L1275.22 72.576 L1275.22 45.4349 Q1275.22 38.994 1272.71 35.7938 Q1270.2 32.5936 1265.18 32.5936 Q1259.14 32.5936 1255.66 36.4419 Q1252.17 40.2903 1252.17 46.9338 L1252.17 72.576 L1244.68 72.576 L1244.68 27.2059 L1252.17 27.2059 L1252.17 34.2544 Q1254.85 30.163 1258.45 28.1376 Q1262.1 26.1121 1266.84 26.1121 Q1274.66 26.1121 1278.67 30.9732 Q1282.68 35.7938 1282.68 45.1919 Z\" fill=\"#000000\" fill-rule=\"evenodd\" fill-opacity=\"1\" /><path clip-path=\"url(#clip850)\" d=\"M 0 0 M1329.3 48.0275 L1329.3 51.6733 L1295.03 51.6733 Q1295.52 59.3701 1299.65 63.421 Q1303.82 67.4314 1311.24 67.4314 Q1315.53 67.4314 1319.54 66.3781 Q1323.59 65.3249 1327.56 63.2184 L1327.56 70.267 Q1323.55 71.9684 1319.34 72.8596 Q1315.12 73.7508 1310.79 73.7508 Q1299.93 73.7508 1293.57 67.4314 Q1287.25 61.1119 1287.25 50.3365 Q1287.25 39.1965 1293.25 32.6746 Q1299.29 26.1121 1309.49 26.1121 Q1318.65 26.1121 1323.96 32.0264 Q1329.3 37.9003 1329.3 48.0275 M1321.85 45.84 Q1321.77 39.7232 1318.41 36.0774 Q1315.08 32.4315 1309.57 32.4315 Q1303.34 32.4315 1299.57 35.9558 Q1295.84 39.4801 1295.28 45.8805 L1321.85 45.84 Z\" fill=\"#000000\" fill-rule=\"evenodd\" fill-opacity=\"1\" /><path clip-path=\"url(#clip850)\" d=\"M 0 0 M1357.74 49.7694 Q1348.71 49.7694 1345.22 51.8354 Q1341.74 53.9013 1341.74 58.8839 Q1341.74 62.8538 1344.33 65.2034 Q1346.96 67.5124 1351.46 67.5124 Q1357.66 67.5124 1361.39 63.1374 Q1365.15 58.7219 1365.15 51.4303 L1365.15 49.7694 L1357.74 49.7694 M1372.61 46.6907 L1372.61 72.576 L1365.15 72.576 L1365.15 65.6895 Q1362.6 69.8214 1358.79 71.8063 Q1354.99 73.7508 1349.48 73.7508 Q1342.51 73.7508 1338.38 69.8619 Q1334.29 65.9325 1334.29 59.3701 Q1334.29 51.7138 1339.39 47.825 Q1344.53 43.9361 1354.7 43.9361 L1365.15 43.9361 L1365.15 43.2069 Q1365.15 38.0623 1361.75 35.2672 Q1358.39 32.4315 1352.27 32.4315 Q1348.38 32.4315 1344.7 33.3632 Q1341.01 34.295 1337.61 36.1584 L1337.61 29.2718 Q1341.7 27.692 1345.55 26.9223 Q1349.4 26.1121 1353.04 26.1121 Q1362.88 26.1121 1367.75 31.2163 Q1372.61 36.3204 1372.61 46.6907 Z\" fill=\"#000000\" fill-rule=\"evenodd\" fill-opacity=\"1\" /><path clip-path=\"url(#clip850)\" d=\"M 0 0 M1406.72 34.1734 Q1405.46 33.4443 1403.96 33.1202 Q1402.5 32.7556 1400.72 32.7556 Q1394.4 32.7556 1391 36.8875 Q1387.64 40.9789 1387.64 48.6757 L1387.64 72.576 L1380.14 72.576 L1380.14 27.2059 L1387.64 27.2059 L1387.64 34.2544 Q1389.99 30.1225 1393.75 28.1376 Q1397.52 26.1121 1402.91 26.1121 Q1403.68 26.1121 1404.61 26.2337 Q1405.54 26.3147 1406.68 26.5172 L1406.72 34.1734 Z\" fill=\"#000000\" fill-rule=\"evenodd\" fill-opacity=\"1\" /><path clip-path=\"url(#clip850)\" d=\"M 0 0 M1314.64 1512.18 L1314.64 1518.96 Q1311.39 1515.94 1307.7 1514.44 Q1304.04 1512.95 1299.9 1512.95 Q1291.75 1512.95 1287.43 1517.95 Q1283.1 1522.91 1283.1 1532.33 Q1283.1 1541.72 1287.43 1546.72 Q1291.75 1551.68 1299.9 1551.68 Q1304.04 1551.68 1307.7 1550.19 Q1311.39 1548.69 1314.64 1545.67 L1314.64 1552.38 Q1311.26 1554.68 1307.48 1555.82 Q1303.72 1556.97 1299.52 1556.97 Q1288.73 1556.97 1282.52 1550.38 Q1276.32 1543.76 1276.32 1532.33 Q1276.32 1520.87 1282.52 1514.28 Q1288.73 1507.66 1299.52 1507.66 Q1303.78 1507.66 1307.54 1508.81 Q1311.33 1509.92 1314.64 1512.18 Z\" fill=\"#000000\" fill-rule=\"evenodd\" fill-opacity=\"1\" /><path clip-path=\"url(#clip850)\" d=\"M 0 0 M44.1444 1064.94 L50.9239 1064.94 Q47.9002 1068.19 46.4043 1071.88 Q44.9083 1075.54 44.9083 1079.68 Q44.9083 1087.82 49.9054 1092.15 Q54.8707 1096.48 64.2919 1096.48 Q73.6813 1096.48 78.6784 1092.15 Q83.6436 1087.82 83.6436 1079.68 Q83.6436 1075.54 82.1477 1071.88 Q80.6518 1068.19 77.6281 1064.94 L84.3439 1064.94 Q86.6355 1068.31 87.7814 1072.1 Q88.9272 1075.86 88.9272 1080.06 Q88.9272 1090.85 82.3387 1097.05 Q75.7183 1103.26 64.2919 1103.26 Q52.8336 1103.26 46.2451 1097.05 Q39.6248 1090.85 39.6248 1080.06 Q39.6248 1075.79 40.7706 1072.04 Q41.8846 1068.25 44.1444 1064.94 Z\" fill=\"#000000\" fill-rule=\"evenodd\" fill-opacity=\"1\" /><path clip-path=\"url(#clip850)\" d=\"M 0 0 M38.479 1058.8 L38.479 1052.94 L88.0042 1052.94 L88.0042 1058.8 L38.479 1058.8 Z\" fill=\"#000000\" fill-rule=\"evenodd\" fill-opacity=\"1\" /><path clip-path=\"url(#clip850)\" d=\"M 0 0 M70.0847 1030.6 Q70.0847 1037.69 71.7079 1040.43 Q73.3312 1043.17 77.2461 1043.17 Q80.3653 1043.17 82.2114 1041.13 Q84.0256 1039.06 84.0256 1035.53 Q84.0256 1030.66 80.5881 1027.73 Q77.1188 1024.77 71.3897 1024.77 L70.0847 1024.77 L70.0847 1030.6 M67.6657 1018.91 L88.0042 1018.91 L88.0042 1024.77 L82.5933 1024.77 Q85.8398 1026.78 87.3994 1029.77 Q88.9272 1032.76 88.9272 1037.09 Q88.9272 1042.56 85.8716 1045.81 Q82.7843 1049.02 77.6281 1049.02 Q71.6125 1049.02 68.5569 1045.01 Q65.5014 1040.97 65.5014 1032.98 L65.5014 1024.77 L64.9285 1024.77 Q60.8862 1024.77 58.6901 1027.44 Q56.4621 1030.09 56.4621 1034.89 Q56.4621 1037.95 57.1941 1040.84 Q57.9262 1043.74 59.3903 1046.41 L53.9795 1046.41 Q52.7381 1043.2 52.1334 1040.18 Q51.4968 1037.15 51.4968 1034.29 Q51.4968 1026.55 55.5072 1022.73 Q59.5176 1018.91 67.6657 1018.91 Z\" fill=\"#000000\" fill-rule=\"evenodd\" fill-opacity=\"1\" /><path clip-path=\"url(#clip850)\" d=\"M 0 0 M53.4065 990.046 L58.9447 990.046 Q57.6716 992.529 57.035 995.203 Q56.3984 997.876 56.3984 1000.74 Q56.3984 1005.1 57.7352 1007.3 Q59.072 1009.46 61.7456 1009.46 Q63.7826 1009.46 64.9603 1007.9 Q66.1061 1006.34 67.1565 1001.63 L67.6021 999.627 Q68.9389 993.388 71.3897 990.779 Q73.8086 988.137 78.1691 988.137 Q83.1344 988.137 86.0308 992.083 Q88.9272 995.998 88.9272 1002.87 Q88.9272 1005.74 88.3543 1008.86 Q87.8132 1011.94 86.6992 1015.38 L80.6518 1015.38 Q82.3387 1012.14 83.198 1008.98 Q84.0256 1005.83 84.0256 1002.75 Q84.0256 998.608 82.6251 996.38 Q81.1929 994.152 78.6147 994.152 Q76.2276 994.152 74.9545 995.776 Q73.6813 997.367 72.5037 1002.81 L72.0262 1004.85 Q70.8804 1010.29 68.5251 1012.71 Q66.138 1015.13 62.0002 1015.13 Q56.9713 1015.13 54.2341 1011.56 Q51.4968 1008 51.4968 1001.44 Q51.4968 998.195 51.9743 995.33 Q52.4517 992.465 53.4065 990.046 Z\" fill=\"#000000\" fill-rule=\"evenodd\" fill-opacity=\"1\" /><path clip-path=\"url(#clip850)\" d=\"M 0 0 M53.4065 959.268 L58.9447 959.268 Q57.6716 961.751 57.035 964.424 Q56.3984 967.098 56.3984 969.963 Q56.3984 974.323 57.7352 976.519 Q59.072 978.684 61.7456 978.684 Q63.7826 978.684 64.9603 977.124 Q66.1061 975.564 67.1565 970.854 L67.6021 968.849 Q68.9389 962.61 71.3897 960 Q73.8086 957.359 78.1691 957.359 Q83.1344 957.359 86.0308 961.305 Q88.9272 965.22 88.9272 972.095 Q88.9272 974.96 88.3543 978.079 Q87.8132 981.166 86.6992 984.604 L80.6518 984.604 Q82.3387 981.357 83.198 978.206 Q84.0256 975.055 84.0256 971.968 Q84.0256 967.83 82.6251 965.602 Q81.1929 963.374 78.6147 963.374 Q76.2276 963.374 74.9545 964.997 Q73.6813 966.589 72.5037 972.032 L72.0262 974.069 Q70.8804 979.511 68.5251 981.93 Q66.138 984.349 62.0002 984.349 Q56.9713 984.349 54.2341 980.784 Q51.4968 977.22 51.4968 970.663 Q51.4968 967.416 51.9743 964.552 Q52.4517 961.687 53.4065 959.268 Z\" fill=\"#000000\" fill-rule=\"evenodd\" fill-opacity=\"1\" /><path clip-path=\"url(#clip850)\" d=\"M 0 0 M52.3562 951.216 L52.3562 945.359 L88.0042 945.359 L88.0042 951.216 L52.3562 951.216 M38.479 951.216 L38.479 945.359 L45.895 945.359 L45.895 951.216 L38.479 951.216 Z\" fill=\"#000000\" fill-rule=\"evenodd\" fill-opacity=\"1\" /><path clip-path=\"url(#clip850)\" d=\"M 0 0 M38.479 921.17 L43.3487 921.17 L43.3487 926.771 Q43.3487 929.922 44.6219 931.164 Q45.895 932.373 49.2052 932.373 L52.3562 932.373 L52.3562 922.729 L56.9077 922.729 L56.9077 932.373 L88.0042 932.373 L88.0042 938.261 L56.9077 938.261 L56.9077 943.863 L52.3562 943.863 L52.3562 938.261 L49.8736 938.261 Q43.9216 938.261 41.2162 935.492 Q38.479 932.723 38.479 926.708 L38.479 921.17 Z\" fill=\"#000000\" fill-rule=\"evenodd\" fill-opacity=\"1\" /><path clip-path=\"url(#clip850)\" d=\"M 0 0 M52.3562 915.027 L52.3562 909.17 L88.0042 909.17 L88.0042 915.027 L52.3562 915.027 M38.479 915.027 L38.479 909.17 L45.895 909.17 L45.895 915.027 L38.479 915.027 Z\" fill=\"#000000\" fill-rule=\"evenodd\" fill-opacity=\"1\" /><path clip-path=\"url(#clip850)\" d=\"M 0 0 M53.7248 877.373 L59.1993 877.373 Q57.8307 879.856 57.1623 882.371 Q56.4621 884.853 56.4621 887.399 Q56.4621 893.097 60.0905 896.248 Q63.6872 899.399 70.212 899.399 Q76.7369 899.399 80.3653 896.248 Q83.9619 893.097 83.9619 887.399 Q83.9619 884.853 83.2935 882.371 Q82.5933 879.856 81.2247 877.373 L86.6355 877.373 Q87.7814 879.824 88.3543 882.466 Q88.9272 885.076 88.9272 888.036 Q88.9272 896.089 83.8664 900.831 Q78.8057 905.574 70.212 905.574 Q61.491 905.574 56.4939 900.799 Q51.4968 895.993 51.4968 887.654 Q51.4968 884.949 52.0697 882.371 Q52.6108 879.792 53.7248 877.373 Z\" fill=\"#000000\" fill-rule=\"evenodd\" fill-opacity=\"1\" /><path clip-path=\"url(#clip850)\" d=\"M 0 0 M70.0847 855.03 Q70.0847 862.128 71.7079 864.865 Q73.3312 867.602 77.2461 867.602 Q80.3653 867.602 82.2114 865.565 Q84.0256 863.496 84.0256 859.963 Q84.0256 855.093 80.5881 852.165 Q77.1188 849.205 71.3897 849.205 L70.0847 849.205 L70.0847 855.03 M67.6657 843.349 L88.0042 843.349 L88.0042 849.205 L82.5933 849.205 Q85.8398 851.21 87.3994 854.202 Q88.9272 857.194 88.9272 861.523 Q88.9272 866.997 85.8716 870.244 Q82.7843 873.459 77.6281 873.459 Q71.6125 873.459 68.5569 869.448 Q65.5014 865.406 65.5014 857.417 L65.5014 849.205 L64.9285 849.205 Q60.8862 849.205 58.6901 851.879 Q56.4621 854.521 56.4621 859.327 Q56.4621 862.382 57.1941 865.279 Q57.9262 868.175 59.3903 870.849 L53.9795 870.849 Q52.7381 867.634 52.1334 864.61 Q51.4968 861.587 51.4968 858.722 Q51.4968 850.988 55.5072 847.168 Q59.5176 843.349 67.6657 843.349 Z\" fill=\"#000000\" fill-rule=\"evenodd\" fill-opacity=\"1\" /><path clip-path=\"url(#clip850)\" d=\"M 0 0 M42.2347 831.413 L52.3562 831.413 L52.3562 819.35 L56.9077 819.35 L56.9077 831.413 L76.2594 831.413 Q80.6199 831.413 81.8613 830.235 Q83.1026 829.026 83.1026 825.366 L83.1026 819.35 L88.0042 819.35 L88.0042 825.366 Q88.0042 832.145 85.4897 834.723 Q82.9434 837.301 76.2594 837.301 L56.9077 837.301 L56.9077 841.598 L52.3562 841.598 L52.3562 837.301 L42.2347 837.301 L42.2347 831.413 Z\" fill=\"#000000\" fill-rule=\"evenodd\" fill-opacity=\"1\" /><path clip-path=\"url(#clip850)\" d=\"M 0 0 M52.3562 813.207 L52.3562 807.351 L88.0042 807.351 L88.0042 813.207 L52.3562 813.207 M38.479 813.207 L38.479 807.351 L45.895 807.351 L45.895 813.207 L38.479 813.207 Z\" fill=\"#000000\" fill-rule=\"evenodd\" fill-opacity=\"1\" /><path clip-path=\"url(#clip850)\" d=\"M 0 0 M56.4621 787.394 Q56.4621 792.105 60.1542 794.842 Q63.8145 797.579 70.212 797.579 Q76.6095 797.579 80.3017 794.874 Q83.9619 792.137 83.9619 787.394 Q83.9619 782.715 80.2698 779.978 Q76.5777 777.241 70.212 777.241 Q63.8781 777.241 60.186 779.978 Q56.4621 782.715 56.4621 787.394 M51.4968 787.394 Q51.4968 779.755 56.4621 775.395 Q61.4273 771.034 70.212 771.034 Q78.9649 771.034 83.9619 775.395 Q88.9272 779.755 88.9272 787.394 Q88.9272 795.065 83.9619 799.425 Q78.9649 803.754 70.212 803.754 Q61.4273 803.754 56.4621 799.425 Q51.4968 795.065 51.4968 787.394 Z\" fill=\"#000000\" fill-rule=\"evenodd\" fill-opacity=\"1\" /><path clip-path=\"url(#clip850)\" d=\"M 0 0 M66.4881 735.259 L88.0042 735.259 L88.0042 741.116 L66.679 741.116 Q61.6183 741.116 59.1038 743.089 Q56.5894 745.062 56.5894 749.009 Q56.5894 753.751 59.6131 756.489 Q62.6368 759.226 67.8567 759.226 L88.0042 759.226 L88.0042 765.114 L52.3562 765.114 L52.3562 759.226 L57.8944 759.226 Q54.6797 757.125 53.0883 754.293 Q51.4968 751.428 51.4968 747.704 Q51.4968 741.561 55.3163 738.41 Q59.1038 735.259 66.4881 735.259 Z\" fill=\"#000000\" fill-rule=\"evenodd\" fill-opacity=\"1\" /><path clip-path=\"url(#clip850)\" d=\"M 0 0 M46.818 692.259 L70.4666 700.98 L70.4666 683.506 L46.818 692.259 M40.4842 695.887 L40.4842 688.598 L88.0042 670.488 L88.0042 677.172 L75.8138 681.501 L75.8138 702.921 L88.0042 707.25 L88.0042 714.029 L40.4842 695.887 Z\" fill=\"#000000\" fill-rule=\"evenodd\" fill-opacity=\"1\" /><path clip-path=\"url(#clip850)\" d=\"M 0 0 M53.7248 639.837 L59.1993 639.837 Q57.8307 642.32 57.1623 644.834 Q56.4621 647.317 56.4621 649.863 Q56.4621 655.56 60.0905 658.711 Q63.6872 661.862 70.212 661.862 Q76.7369 661.862 80.3653 658.711 Q83.9619 655.56 83.9619 649.863 Q83.9619 647.317 83.2935 644.834 Q82.5933 642.32 81.2247 639.837 L86.6355 639.837 Q87.7814 642.288 88.3543 644.93 Q88.9272 647.54 88.9272 650.5 Q88.9272 658.552 83.8664 663.295 Q78.8057 668.037 70.212 668.037 Q61.491 668.037 56.4939 663.263 Q51.4968 658.457 51.4968 650.118 Q51.4968 647.412 52.0697 644.834 Q52.6108 642.256 53.7248 639.837 Z\" fill=\"#000000\" fill-rule=\"evenodd\" fill-opacity=\"1\" /><path clip-path=\"url(#clip850)\" d=\"M 0 0 M53.7248 608.04 L59.1993 608.04 Q57.8307 610.523 57.1623 613.037 Q56.4621 615.52 56.4621 618.066 Q56.4621 623.764 60.0905 626.915 Q63.6872 630.066 70.212 630.066 Q76.7369 630.066 80.3653 626.915 Q83.9619 623.764 83.9619 618.066 Q83.9619 615.52 83.2935 613.037 Q82.5933 610.523 81.2247 608.04 L86.6355 608.04 Q87.7814 610.491 88.3543 613.133 Q88.9272 615.743 88.9272 618.703 Q88.9272 626.756 83.8664 631.498 Q78.8057 636.24 70.212 636.24 Q61.491 636.24 56.4939 631.466 Q51.4968 626.66 51.4968 618.321 Q51.4968 615.616 52.0697 613.037 Q52.6108 610.459 53.7248 608.04 Z\" fill=\"#000000\" fill-rule=\"evenodd\" fill-opacity=\"1\" /><path clip-path=\"url(#clip850)\" d=\"M 0 0 M73.9359 602.502 L52.3562 602.502 L52.3562 596.646 L73.7131 596.646 Q78.7739 596.646 81.3202 594.672 Q83.8346 592.699 83.8346 588.752 Q83.8346 584.01 80.8109 581.273 Q77.7872 578.504 72.5673 578.504 L52.3562 578.504 L52.3562 572.647 L88.0042 572.647 L88.0042 578.504 L82.5296 578.504 Q85.7762 580.636 87.3676 583.469 Q88.9272 586.27 88.9272 589.994 Q88.9272 596.137 85.1078 599.319 Q81.2883 602.502 73.9359 602.502 M51.4968 587.766 L51.4968 587.766 Z\" fill=\"#000000\" fill-rule=\"evenodd\" fill-opacity=\"1\" /><path clip-path=\"url(#clip850)\" d=\"M 0 0 M57.8307 545.847 Q57.2578 546.834 57.0032 548.012 Q56.7167 549.158 56.7167 550.558 Q56.7167 555.523 59.9632 558.197 Q63.1779 560.839 69.2253 560.839 L88.0042 560.839 L88.0042 566.727 L52.3562 566.727 L52.3562 560.839 L57.8944 560.839 Q54.6479 558.993 53.0883 556.033 Q51.4968 553.073 51.4968 548.839 Q51.4968 548.235 51.5923 547.503 Q51.656 546.77 51.8151 545.879 L57.8307 545.847 Z\" fill=\"#000000\" fill-rule=\"evenodd\" fill-opacity=\"1\" /><path clip-path=\"url(#clip850)\" d=\"M 0 0 M70.0847 523.504 Q70.0847 530.602 71.7079 533.339 Q73.3312 536.076 77.2461 536.076 Q80.3653 536.076 82.2114 534.039 Q84.0256 531.97 84.0256 528.437 Q84.0256 523.567 80.5881 520.639 Q77.1188 517.679 71.3897 517.679 L70.0847 517.679 L70.0847 523.504 M67.6657 511.823 L88.0042 511.823 L88.0042 517.679 L82.5933 517.679 Q85.8398 519.684 87.3994 522.676 Q88.9272 525.668 88.9272 529.997 Q88.9272 535.471 85.8716 538.718 Q82.7843 541.933 77.6281 541.933 Q71.6125 541.933 68.5569 537.922 Q65.5014 533.88 65.5014 525.891 L65.5014 517.679 L64.9285 517.679 Q60.8862 517.679 58.6901 520.353 Q56.4621 522.995 56.4621 527.801 Q56.4621 530.856 57.1941 533.753 Q57.9262 536.649 59.3903 539.323 L53.9795 539.323 Q52.7381 536.108 52.1334 533.084 Q51.4968 530.061 51.4968 527.196 Q51.4968 519.462 55.5072 515.642 Q59.5176 511.823 67.6657 511.823 Z\" fill=\"#000000\" fill-rule=\"evenodd\" fill-opacity=\"1\" /><path clip-path=\"url(#clip850)\" d=\"M 0 0 M53.7248 480.026 L59.1993 480.026 Q57.8307 482.509 57.1623 485.023 Q56.4621 487.506 56.4621 490.052 Q56.4621 495.749 60.0905 498.9 Q63.6872 502.051 70.212 502.051 Q76.7369 502.051 80.3653 498.9 Q83.9619 495.749 83.9619 490.052 Q83.9619 487.506 83.2935 485.023 Q82.5933 482.509 81.2247 480.026 L86.6355 480.026 Q87.7814 482.477 88.3543 485.119 Q88.9272 487.729 88.9272 490.689 Q88.9272 498.741 83.8664 503.484 Q78.8057 508.226 70.212 508.226 Q61.491 508.226 56.4939 503.452 Q51.4968 498.646 51.4968 490.307 Q51.4968 487.601 52.0697 485.023 Q52.6108 482.445 53.7248 480.026 Z\" fill=\"#000000\" fill-rule=\"evenodd\" fill-opacity=\"1\" /><path clip-path=\"url(#clip850)\" d=\"M 0 0 M91.3143 459.051 Q97.68 461.534 99.6216 463.889 Q101.563 466.244 101.563 470.191 L101.563 474.87 L96.6615 474.87 L96.6615 471.432 Q96.6615 469.013 95.5157 467.677 Q94.3699 466.34 90.1048 464.717 L87.4312 463.666 L52.3562 478.085 L52.3562 471.878 L80.238 460.738 L52.3562 449.598 L52.3562 443.391 L91.3143 459.051 Z\" fill=\"#000000\" fill-rule=\"evenodd\" fill-opacity=\"1\" /><polyline clip-path=\"url(#clip852)\" style=\"stroke:#009af9; stroke-width:8; stroke-opacity:1; fill:none\" points=\"\n",
       "  298.045,1045.73 302.043,1181.61 306.041,1079.21 310.039,1079.21 314.036,1079.21 318.034,1352.26 322.032,1249.87 326.03,1284 330.027,1249.87 334.025,1284 \n",
       "  338.023,1284 342.02,1249.87 346.018,1284 350.016,1181.61 354.014,1147.47 358.011,1181.61 362.009,1215.74 366.007,1284 370.004,1249.87 374.002,1215.74 \n",
       "  378,1284 381.998,1215.74 385.995,1215.74 389.993,1284 393.991,1318.13 397.989,1284 401.986,1215.74 405.984,1215.74 409.982,1318.13 413.979,1215.74 \n",
       "  417.977,1079.21 421.975,1045.08 425.973,1249.87 429.97,976.816 433.968,1045.08 437.966,841.264 441.964,1113.34 445.961,1352.26 449.959,1011.27 453.957,1147.8 \n",
       "  457.954,1045.08 461.952,1181.61 465.95,1113.67 469.948,1046.05 473.945,942.684 477.943,1046.05 481.941,1113.99 485.938,1046.05 489.936,977.791 493.934,908.552 \n",
       "  497.932,1114.32 501.929,1046.05 505.927,1113.34 509.925,909.203 513.923,1079.21 517.92,1113.34 521.918,909.528 525.916,1045.73 529.913,1181.93 533.911,1011.6 \n",
       "  537.909,1079.21 541.907,840.289 545.904,773.001 549.902,1045.73 553.9,1046.05 557.898,1113.34 561.895,1148.12 565.893,840.614 569.891,977.141 573.888,1386.4 \n",
       "  577.886,840.289 581.884,977.791 585.882,1113.34 589.879,1010.95 593.877,976.816 597.875,1079.21 601.873,1249.87 605.87,943.659 609.868,1045.08 613.866,977.791 \n",
       "  617.863,1045.73 621.861,976.816 625.859,943.334 629.857,1215.74 633.854,1216.71 637.852,943.659 641.85,875.396 645.847,943.659 649.845,1079.21 653.843,1079.21 \n",
       "  657.841,1010.95 661.838,977.466 665.836,1011.6 669.834,1079.21 673.832,942.684 677.829,1113.99 681.827,1079.86 685.825,1045.08 689.822,1148.45 693.82,875.071 \n",
       "  697.818,1113.34 701.816,807.133 705.813,1215.74 709.811,1079.86 713.809,1010.95 717.807,1080.19 721.804,1010.95 725.802,1148.12 729.8,1249.87 733.797,908.552 \n",
       "  737.795,976.816 741.793,908.552 745.791,840.614 749.788,1079.21 753.786,943.659 757.784,1045.08 761.781,1011.92 765.779,1181.61 769.777,1147.47 773.775,1045.08 \n",
       "  777.772,1181.93 781.77,1010.95 785.768,909.528 789.766,1147.47 793.763,943.334 797.761,1080.19 801.759,875.396 805.756,976.816 809.754,942.684 813.752,977.791 \n",
       "  817.75,976.816 821.747,909.528 825.745,1045.73 829.743,1147.47 833.741,977.466 837.738,1181.61 841.736,840.289 845.734,1011.92 849.731,1216.71 853.729,1114.32 \n",
       "  857.727,1079.21 861.725,942.684 865.722,942.684 869.72,1079.21 873.718,1011.6 877.715,773.001 881.713,1113.67 885.711,977.791 889.709,875.396 893.706,1079.21 \n",
       "  897.704,1011.6 901.702,976.816 905.7,1113.99 909.697,943.334 913.695,943.334 917.693,1181.61 921.69,977.791 925.688,1147.47 929.686,1011.92 933.684,909.203 \n",
       "  937.681,1113.34 941.679,1011.92 945.677,1147.47 949.675,1080.19 953.672,1080.19 957.67,909.528 961.668,1215.74 965.665,1113.67 969.663,1011.92 973.661,1148.45 \n",
       "  977.659,1080.19 981.656,1045.73 985.654,1011.92 989.652,908.552 993.65,1113.99 997.647,1011.92 1001.64,1113.34 1005.64,1010.95 1009.64,976.816 1013.64,1045.08 \n",
       "  1017.64,943.009 1021.63,1079.21 1025.63,1215.74 1029.63,1011.6 1033.63,1045.08 1037.62,1046.05 1041.62,1181.93 1045.62,1045.4 1049.62,1181.61 1053.62,1113.67 \n",
       "  1057.61,1045.08 1061.61,1181.61 1065.61,1215.74 1069.61,942.684 1073.6,1249.87 1077.6,1250.84 1081.6,977.791 1085.6,1114.32 1089.59,1045.4 1093.59,1011.92 \n",
       "  1097.59,840.289 1101.59,875.396 1105.59,943.334 1109.58,1113.34 1113.58,1011.92 1117.58,704.738 1121.58,1045.08 1125.57,1181.93 1129.57,1011.27 1133.57,1010.95 \n",
       "  1137.57,807.133 1141.57,943.659 1145.56,1010.95 1149.56,943.334 1153.56,738.869 1157.56,704.087 1161.55,806.157 1165.55,773.001 1169.55,840.289 1173.55,909.528 \n",
       "  1177.54,602.018 1181.54,875.071 1185.54,976.816 1189.54,840.939 1193.54,738.869 1197.53,943.659 1201.53,772.676 1205.53,874.421 1209.53,841.264 1213.52,806.482 \n",
       "  1217.52,738.869 1221.52,840.289 1225.52,465.816 1229.52,875.396 1233.51,841.264 1237.51,772.026 1241.51,840.939 1245.51,806.808 1249.5,737.894 1253.5,670.606 \n",
       "  1257.5,942.684 1261.5,635.499 1265.49,806.157 1269.49,875.396 1273.49,806.157 1277.49,670.606 1281.49,703.762 1285.48,908.552 1289.48,738.544 1293.48,534.079 \n",
       "  1297.48,567.236 1301.47,737.894 1305.47,602.343 1309.47,635.824 1313.47,738.869 1317.47,636.474 1321.46,1045.08 1325.46,807.133 1329.46,533.429 1333.46,942.684 \n",
       "  1337.45,601.367 1341.45,772.026 1345.45,738.544 1349.45,840.614 1353.44,807.133 1357.44,703.762 1361.44,431.359 1365.44,703.762 1369.44,738.544 1373.43,874.421 \n",
       "  1377.43,772.026 1381.43,772.351 1385.43,533.754 1389.42,772.026 1393.42,703.762 1397.42,908.552 1401.42,704.413 1405.42,329.289 1409.41,635.499 1413.41,465.491 \n",
       "  1417.41,568.211 1421.41,703.762 1425.4,772.026 1429.4,635.499 1433.4,738.544 1437.4,601.367 1441.39,670.606 1445.39,772.676 1449.39,738.544 1453.39,670.606 \n",
       "  1457.39,670.606 1461.38,534.079 1465.38,704.738 1469.38,364.396 1473.38,635.499 1477.37,602.343 1481.37,399.178 1485.37,601.367 1489.37,669.956 1493.37,397.553 \n",
       "  1497.36,465.816 1501.36,567.886 1505.36,636.799 1509.36,704.738 1513.35,397.878 1517.35,261.676 1521.35,500.598 1525.35,567.561 1529.34,397.553 1533.34,261.676 \n",
       "  1537.34,533.104 1541.34,431.034 1545.34,500.598 1549.33,262.326 1553.33,296.458 1557.33,329.289 1561.33,500.273 1565.32,567.561 1569.32,397.228 1573.32,227.87 \n",
       "  1577.32,498.972 1581.32,568.211 1585.31,261.676 1589.31,228.52 1593.31,329.614 1597.31,160.256 1601.3,363.746 1605.3,534.079 1609.3,430.709 1613.3,465.491 \n",
       "  1617.29,431.359 1621.29,398.528 1625.29,194.063 1629.29,466.791 1633.29,363.096 1637.28,635.499 1641.28,296.133 1645.28,533.429 1649.28,364.396 1653.27,396.903 \n",
       "  1657.27,635.824 1661.27,330.59 1665.27,261.676 1669.26,194.388 1673.26,194.388 1677.26,296.458 1681.26,567.236 1685.26,228.52 1689.25,295.483 1693.25,534.079 \n",
       "  1697.25,329.614 1701.25,261.676 1705.24,363.096 1709.24,567.236 1713.24,160.256 1717.24,567.236 1721.24,364.071 1725.23,295.808 1729.23,432.334 1733.23,228.52 \n",
       "  1737.23,160.256 1741.22,464.841 1745.22,261.676 1749.22,363.746 1753.22,567.236 1757.21,295.483 1761.21,396.903 1765.21,430.709 1769.21,430.709 1773.21,296.783 \n",
       "  1777.2,160.256 1781.2,227.87 1785.2,567.236 1789.2,194.388 1793.19,499.297 1797.19,228.195 1801.19,533.104 1805.19,534.404 1809.19,329.289 1813.18,363.096 \n",
       "  1817.18,364.396 1821.18,329.289 1825.18,261.676 1829.17,396.903 1833.17,430.709 1837.17,194.063 1841.17,363.746 1845.16,464.841 1849.16,227.87 1853.16,329.289 \n",
       "  1857.16,194.388 1861.16,396.903 1865.15,466.466 1869.15,465.166 1873.15,227.87 1877.15,262.001 1881.14,635.824 1885.14,227.87 1889.14,227.87 1893.14,227.87 \n",
       "  1897.14,160.256 1901.13,396.903 1905.13,261.676 1909.13,160.256 1913.13,160.256 1917.12,160.256 1921.12,396.903 1925.12,160.256 1929.12,261.676 1933.11,261.676 \n",
       "  1937.11,160.256 1941.11,194.063 1945.11,194.063 1949.11,396.903 1953.1,160.256 1957.1,227.87 1961.1,227.87 1965.1,160.256 1969.09,160.256 1973.09,160.256 \n",
       "  1977.09,160.256 1981.09,227.87 1985.09,430.709 1989.08,160.256 1993.08,160.256 1997.08,430.709 2001.08,160.256 2005.07,160.256 2009.07,227.87 2013.07,160.256 \n",
       "  2017.07,227.87 2021.06,295.483 2025.06,329.289 2029.06,295.483 2033.06,363.096 2037.06,329.289 2041.05,329.289 2045.05,160.256 2049.05,430.709 2053.05,329.289 \n",
       "  2057.04,363.096 2061.04,160.256 2065.04,295.483 2069.04,160.256 2073.04,160.256 2077.03,160.256 2081.03,160.256 2085.03,160.256 2089.03,160.256 2093.02,160.256 \n",
       "  2097.02,160.256 2101.02,160.256 2105.02,160.256 2109.01,160.256 2113.01,160.256 2117.01,160.256 2121.01,160.256 2125.01,160.256 2129,160.256 2133,160.256 \n",
       "  2137,160.256 2141,160.256 2144.99,160.256 2148.99,160.256 2152.99,160.256 2156.99,160.256 2160.99,160.256 2164.98,160.256 2168.98,160.256 2172.98,160.256 \n",
       "  2176.98,160.256 2180.97,160.256 2184.97,160.256 2188.97,160.256 2192.97,160.256 2196.96,160.256 2200.96,160.256 2204.96,160.256 2208.96,160.256 2212.96,160.256 \n",
       "  2216.95,160.256 2220.95,160.256 2224.95,160.256 2228.95,160.256 2232.94,160.256 2236.94,160.256 2240.94,160.256 2244.94,160.256 2248.93,160.256 2252.93,160.256 \n",
       "  2256.93,160.256 2260.93,160.256 2264.93,160.256 2268.92,160.256 2272.92,160.256 2276.92,160.256 2280.92,160.256 2284.91,160.256 2288.91,160.256 2292.91,160.256 \n",
       "  \n",
       "  \"/>\n",
       "<path clip-path=\"url(#clip850)\" d=\"\n",
       "M1847.99 1379.86 L2282.27 1379.86 L2282.27 1258.9 L1847.99 1258.9  Z\n",
       "  \" fill=\"#ffffff\" fill-rule=\"evenodd\" fill-opacity=\"1\"/>\n",
       "<polyline clip-path=\"url(#clip850)\" style=\"stroke:#000000; stroke-width:4; stroke-opacity:1; fill:none\" points=\"\n",
       "  1847.99,1379.86 2282.27,1379.86 2282.27,1258.9 1847.99,1258.9 1847.99,1379.86 \n",
       "  \"/>\n",
       "<polyline clip-path=\"url(#clip850)\" style=\"stroke:#009af9; stroke-width:4; stroke-opacity:1; fill:none\" points=\"\n",
       "  1871.49,1319.38 2012.46,1319.38 \n",
       "  \"/>\n",
       "<path clip-path=\"url(#clip850)\" d=\"M 0 0 M2049.15 1336.66 L2035.95 1302.1 L2040.84 1302.1 L2051.79 1331.19 L2062.76 1302.1 L2067.62 1302.1 L2054.45 1336.66 L2049.15 1336.66 Z\" fill=\"#000000\" fill-rule=\"evenodd\" fill-opacity=\"1\" /><path clip-path=\"url(#clip850)\" d=\"M 0 0 M2080.19 1323.62 Q2075.03 1323.62 2073.04 1324.8 Q2071.05 1325.99 2071.05 1328.83 Q2071.05 1331.1 2072.53 1332.44 Q2074.03 1333.76 2076.6 1333.76 Q2080.14 1333.76 2082.27 1331.26 Q2084.42 1328.74 2084.42 1324.57 L2084.42 1323.62 L2080.19 1323.62 M2088.68 1321.86 L2088.68 1336.66 L2084.42 1336.66 L2084.42 1332.72 Q2082.97 1335.08 2080.79 1336.22 Q2078.61 1337.33 2075.47 1337.33 Q2071.49 1337.33 2069.12 1335.11 Q2066.79 1332.86 2066.79 1329.11 Q2066.79 1324.74 2069.7 1322.51 Q2072.64 1320.29 2078.45 1320.29 L2084.42 1320.29 L2084.42 1319.87 Q2084.42 1316.93 2082.48 1315.34 Q2080.56 1313.72 2077.06 1313.72 Q2074.84 1313.72 2072.74 1314.25 Q2070.63 1314.78 2068.68 1315.85 L2068.68 1311.91 Q2071.02 1311.01 2073.22 1310.57 Q2075.42 1310.11 2077.5 1310.11 Q2083.13 1310.11 2085.91 1313.02 Q2088.68 1315.94 2088.68 1321.86 Z\" fill=\"#000000\" fill-rule=\"evenodd\" fill-opacity=\"1\" /><path clip-path=\"url(#clip850)\" d=\"M 0 0 M2093.15 1300.64 L2097.41 1300.64 L2097.41 1336.66 L2093.15 1336.66 L2093.15 1300.64 Z\" fill=\"#000000\" fill-rule=\"evenodd\" fill-opacity=\"1\" /><path clip-path=\"url(#clip850)\" d=\"M 0 0 M2101.88 1310.73 L2106.14 1310.73 L2106.14 1336.66 L2101.88 1336.66 L2101.88 1310.73 M2101.88 1300.64 L2106.14 1300.64 L2106.14 1306.03 L2101.88 1306.03 L2101.88 1300.64 Z\" fill=\"#000000\" fill-rule=\"evenodd\" fill-opacity=\"1\" /><path clip-path=\"url(#clip850)\" d=\"M 0 0 M2127.67 1314.67 L2127.67 1300.64 L2131.92 1300.64 L2131.92 1336.66 L2127.67 1336.66 L2127.67 1332.77 Q2126.32 1335.08 2124.26 1336.22 Q2122.23 1337.33 2119.36 1337.33 Q2114.66 1337.33 2111.69 1333.58 Q2108.75 1329.83 2108.75 1323.72 Q2108.75 1317.61 2111.69 1313.86 Q2114.66 1310.11 2119.36 1310.11 Q2122.23 1310.11 2124.26 1311.24 Q2126.32 1312.35 2127.67 1314.67 M2113.15 1323.72 Q2113.15 1328.42 2115.07 1331.1 Q2117.02 1333.76 2120.4 1333.76 Q2123.78 1333.76 2125.72 1331.1 Q2127.67 1328.42 2127.67 1323.72 Q2127.67 1319.02 2125.72 1316.36 Q2123.78 1313.67 2120.4 1313.67 Q2117.02 1313.67 2115.07 1316.36 Q2113.15 1319.02 2113.15 1323.72 Z\" fill=\"#000000\" fill-rule=\"evenodd\" fill-opacity=\"1\" /><path clip-path=\"url(#clip850)\" d=\"M 0 0 M2148.17 1323.62 Q2143.01 1323.62 2141.02 1324.8 Q2139.03 1325.99 2139.03 1328.83 Q2139.03 1331.1 2140.51 1332.44 Q2142.02 1333.76 2144.59 1333.76 Q2148.13 1333.76 2150.26 1331.26 Q2152.41 1328.74 2152.41 1324.57 L2152.41 1323.62 L2148.17 1323.62 M2156.67 1321.86 L2156.67 1336.66 L2152.41 1336.66 L2152.41 1332.72 Q2150.95 1335.08 2148.78 1336.22 Q2146.6 1337.33 2143.45 1337.33 Q2139.47 1337.33 2137.11 1335.11 Q2134.77 1332.86 2134.77 1329.11 Q2134.77 1324.74 2137.69 1322.51 Q2140.63 1320.29 2146.44 1320.29 L2152.41 1320.29 L2152.41 1319.87 Q2152.41 1316.93 2150.47 1315.34 Q2148.54 1313.72 2145.05 1313.72 Q2142.83 1313.72 2140.72 1314.25 Q2138.61 1314.78 2136.67 1315.85 L2136.67 1311.91 Q2139.01 1311.01 2141.21 1310.57 Q2143.41 1310.11 2145.49 1310.11 Q2151.11 1310.11 2153.89 1313.02 Q2156.67 1315.94 2156.67 1321.86 Z\" fill=\"#000000\" fill-rule=\"evenodd\" fill-opacity=\"1\" /><path clip-path=\"url(#clip850)\" d=\"M 0 0 M2165.35 1303.37 L2165.35 1310.73 L2174.12 1310.73 L2174.12 1314.04 L2165.35 1314.04 L2165.35 1328.11 Q2165.35 1331.29 2166.21 1332.19 Q2167.09 1333.09 2169.75 1333.09 L2174.12 1333.09 L2174.12 1336.66 L2169.75 1336.66 Q2164.82 1336.66 2162.94 1334.83 Q2161.07 1332.98 2161.07 1328.11 L2161.07 1314.04 L2157.94 1314.04 L2157.94 1310.73 L2161.07 1310.73 L2161.07 1303.37 L2165.35 1303.37 Z\" fill=\"#000000\" fill-rule=\"evenodd\" fill-opacity=\"1\" /><path clip-path=\"url(#clip850)\" d=\"M 0 0 M2178.59 1310.73 L2182.85 1310.73 L2182.85 1336.66 L2178.59 1336.66 L2178.59 1310.73 M2178.59 1300.64 L2182.85 1300.64 L2182.85 1306.03 L2178.59 1306.03 L2178.59 1300.64 Z\" fill=\"#000000\" fill-rule=\"evenodd\" fill-opacity=\"1\" /><path clip-path=\"url(#clip850)\" d=\"M 0 0 M2197.36 1313.72 Q2193.94 1313.72 2191.95 1316.4 Q2189.96 1319.06 2189.96 1323.72 Q2189.96 1328.37 2191.92 1331.05 Q2193.92 1333.72 2197.36 1333.72 Q2200.77 1333.72 2202.76 1331.03 Q2204.75 1328.35 2204.75 1323.72 Q2204.75 1319.11 2202.76 1316.42 Q2200.77 1313.72 2197.36 1313.72 M2197.36 1310.11 Q2202.92 1310.11 2206.09 1313.72 Q2209.26 1317.33 2209.26 1323.72 Q2209.26 1330.08 2206.09 1333.72 Q2202.92 1337.33 2197.36 1337.33 Q2191.79 1337.33 2188.61 1333.72 Q2185.47 1330.08 2185.47 1323.72 Q2185.47 1317.33 2188.61 1313.72 Q2191.79 1310.11 2197.36 1310.11 Z\" fill=\"#000000\" fill-rule=\"evenodd\" fill-opacity=\"1\" /><path clip-path=\"url(#clip850)\" d=\"M 0 0 M2235.28 1321.01 L2235.28 1336.66 L2231.02 1336.66 L2231.02 1321.15 Q2231.02 1317.47 2229.59 1315.64 Q2228.15 1313.81 2225.28 1313.81 Q2221.83 1313.81 2219.84 1316.01 Q2217.85 1318.21 2217.85 1322 L2217.85 1336.66 L2213.57 1336.66 L2213.57 1310.73 L2217.85 1310.73 L2217.85 1314.76 Q2219.38 1312.42 2221.44 1311.26 Q2223.52 1310.11 2226.23 1310.11 Q2230.7 1310.11 2232.99 1312.88 Q2235.28 1315.64 2235.28 1321.01 Z\" fill=\"#000000\" fill-rule=\"evenodd\" fill-opacity=\"1\" /></svg>\n"
      ]
     },
     "execution_count": 34,
     "metadata": {},
     "output_type": "execute_result"
    }
   ],
   "source": [
    "plot(curve.parameter_values,\n",
    "     curve.measurements,\n",
    "     xscale=curve.parameter_scale,\n",
    "     xlab=curve.parameter_name,\n",
    "     ylab=\"Classification Accuracy\",\n",
    "     label=\"Validation\", lw=2,\n",
    "     title=\"Linear\", legend=:bottomright)"
   ]
  },
  {
   "cell_type": "code",
   "execution_count": 35,
   "metadata": {},
   "outputs": [
    {
     "data": {
      "text/plain": [
       "0.91673"
      ]
     },
     "execution_count": 35,
     "metadata": {},
     "output_type": "execute_result"
    }
   ],
   "source": [
    "a = round(maximum(curve.measurements), digits=5)"
   ]
  },
  {
   "cell_type": "code",
   "execution_count": 36,
   "metadata": {},
   "outputs": [
    {
     "data": {
      "text/plain": [
       "0.32913827655310623"
      ]
     },
     "execution_count": 36,
     "metadata": {},
     "output_type": "execute_result"
    }
   ],
   "source": [
    "best_C = curve.parameter_values[argmax(curve.measurements)]"
   ]
  },
  {
   "cell_type": "markdown",
   "metadata": {},
   "source": [
    "##### More fitting"
   ]
  },
  {
   "cell_type": "code",
   "execution_count": 38,
   "metadata": {
    "scrolled": true
   },
   "outputs": [
    {
     "name": "stderr",
     "output_type": "stream",
     "text": [
      "┌ Info: Training \u001b[34mMachine{SVMClassifier} @057\u001b[39m.\n",
      "└ @ MLJBase /home/andrew/.julia/packages/MLJBase/uKzAz/src/machines.jl:319\n",
      "\u001b[33mEvaluating over 6 folds: 100%[=========================] Time: 0:00:00\u001b[39m\n"
     ]
    },
    {
     "data": {
      "text/plain": [
       "┌\u001b[0m───────────\u001b[0m┬\u001b[0m───────────────\u001b[0m┬\u001b[0m────────────────────────────────────────────\u001b[0m┐\u001b[0m\n",
       "│\u001b[0m\u001b[22m _.measure \u001b[0m│\u001b[0m\u001b[22m _.measurement \u001b[0m│\u001b[0m\u001b[22m _.per_fold                                 \u001b[0m│\u001b[0m\n",
       "├\u001b[0m───────────\u001b[0m┼\u001b[0m───────────────\u001b[0m┼\u001b[0m────────────────────────────────────────────\u001b[0m┤\u001b[0m\n",
       "│\u001b[0m accuracy  \u001b[0m│\u001b[0m 0.917         \u001b[0m│\u001b[0m [0.943, 0.885, 0.913, 0.923, 0.933, 0.904] \u001b[0m│\u001b[0m\n",
       "└\u001b[0m───────────\u001b[0m┴\u001b[0m───────────────\u001b[0m┴\u001b[0m────────────────────────────────────────────\u001b[0m┘\u001b[0m\n",
       "_.per_observation = [missing]\n",
       "_.fitted_params_per_fold = [ … ]\n",
       "_.report_per_fold = [ … ]\n"
      ]
     },
     "execution_count": 38,
     "metadata": {},
     "output_type": "execute_result"
    }
   ],
   "source": [
    "best_linear_model = SVMClassifier(kernel=\"linear\", C = 0.41)\n",
    "svm_mach = machine(best_linear_model, X, y)\n",
    "lf = fit!(svm_mach, rows=train, verbosity=2)\n",
    "svm_acc = evaluate!(svm_mach, resampling=CV(shuffle=true), measure=[accuracy], \n",
    "                        verbosity=1)"
   ]
  },
  {
   "cell_type": "markdown",
   "metadata": {},
   "source": [
    "##### Learning Curves"
   ]
  },
  {
   "cell_type": "code",
   "execution_count": 39,
   "metadata": {
    "scrolled": true
   },
   "outputs": [
    {
     "name": "stdout",
     "output_type": "stream",
     "text": [
      "(d, train_metric, valid_metric) = (10, 1.0, 0.7045454545454546)\n",
      "(d, train_metric, valid_metric) = (15, 0.8666666666666667, 0.7159090909090908)\n",
      "(d, train_metric, valid_metric) = (20, 0.9, 0.8068181818181819)\n",
      "(d, train_metric, valid_metric) = (25, 0.88, 0.7840909090909091)\n",
      "(d, train_metric, valid_metric) = (30, 0.9, 0.7840909090909091)\n",
      "(d, train_metric, valid_metric) = (35, 0.8571428571428572, 0.8295454545454546)\n",
      "(d, train_metric, valid_metric) = (40, 0.9, 0.8295454545454546)\n",
      "(d, train_metric, valid_metric) = (45, 0.8666666666666667, 0.8181818181818181)\n",
      "(d, train_metric, valid_metric) = (50, 0.86, 0.7954545454545454)\n",
      "(d, train_metric, valid_metric) = (55, 0.9090909090909091, 0.8409090909090909)\n",
      "(d, train_metric, valid_metric) = (60, 0.9166666666666666, 0.8409090909090909)\n",
      "(d, train_metric, valid_metric) = (65, 0.9230769230769231, 0.8295454545454546)\n",
      "(d, train_metric, valid_metric) = (70, 0.9142857142857143, 0.8295454545454546)\n",
      "(d, train_metric, valid_metric) = (75, 0.92, 0.8409090909090909)\n",
      "(d, train_metric, valid_metric) = (80, 0.925, 0.8295454545454546)\n",
      "(d, train_metric, valid_metric) = (85, 0.9294117647058824, 0.8522727272727273)\n",
      "(d, train_metric, valid_metric) = (90, 0.9111111111111111, 0.8295454545454546)\n",
      "(d, train_metric, valid_metric) = (95, 0.9157894736842105, 0.8409090909090909)\n",
      "(d, train_metric, valid_metric) = (100, 0.92, 0.8409090909090909)\n",
      "(d, train_metric, valid_metric) = (105, 0.9142857142857143, 0.8068181818181819)\n",
      "(d, train_metric, valid_metric) = (110, 0.9, 0.8522727272727273)\n",
      "(d, train_metric, valid_metric) = (115, 0.9478260869565217, 0.8522727272727273)\n",
      "(d, train_metric, valid_metric) = (120, 0.925, 0.8636363636363636)\n",
      "(d, train_metric, valid_metric) = (125, 0.92, 0.8636363636363636)\n",
      "(d, train_metric, valid_metric) = (130, 0.9, 0.8636363636363636)\n",
      "(d, train_metric, valid_metric) = (135, 0.9259259259259259, 0.8522727272727273)\n",
      "(d, train_metric, valid_metric) = (140, 0.9214285714285715, 0.8636363636363636)\n",
      "(d, train_metric, valid_metric) = (145, 0.9172413793103449, 0.8409090909090909)\n",
      "(d, train_metric, valid_metric) = (150, 0.9333333333333333, 0.8409090909090909)\n",
      "(d, train_metric, valid_metric) = (155, 0.9290322580645162, 0.8409090909090909)\n",
      "(d, train_metric, valid_metric) = (160, 0.90625, 0.8522727272727273)\n",
      "(d, train_metric, valid_metric) = (165, 0.9272727272727272, 0.8295454545454546)\n",
      "(d, train_metric, valid_metric) = (170, 0.9117647058823529, 0.8522727272727273)\n",
      "(d, train_metric, valid_metric) = (175, 0.9028571428571428, 0.8522727272727273)\n",
      "(d, train_metric, valid_metric) = (180, 0.8944444444444445, 0.8409090909090909)\n",
      "(d, train_metric, valid_metric) = (185, 0.9081081081081082, 0.8522727272727273)\n",
      "(d, train_metric, valid_metric) = (190, 0.8947368421052632, 0.8522727272727273)\n",
      "(d, train_metric, valid_metric) = (195, 0.9025641025641026, 0.8409090909090909)\n",
      "(d, train_metric, valid_metric) = (200, 0.915, 0.8522727272727273)\n",
      "(d, train_metric, valid_metric) = (205, 0.9073170731707317, 0.8181818181818181)\n",
      "(d, train_metric, valid_metric) = (210, 0.9047619047619048, 0.8409090909090909)\n",
      "(d, train_metric, valid_metric) = (215, 0.8883720930232558, 0.8522727272727273)\n",
      "(d, train_metric, valid_metric) = (220, 0.8909090909090909, 0.8522727272727273)\n",
      "(d, train_metric, valid_metric) = (225, 0.88, 0.8522727272727273)\n",
      "(d, train_metric, valid_metric) = (230, 0.8913043478260869, 0.8522727272727273)\n",
      "(d, train_metric, valid_metric) = (235, 0.8893617021276596, 0.8522727272727273)\n",
      "(d, train_metric, valid_metric) = (240, 0.9, 0.8295454545454546)\n",
      "(d, train_metric, valid_metric) = (245, 0.889795918367347, 0.8522727272727273)\n",
      "(d, train_metric, valid_metric) = (250, 0.896, 0.8409090909090909)\n",
      "(d, train_metric, valid_metric) = (255, 0.8901960784313725, 0.8409090909090909)\n",
      "(d, train_metric, valid_metric) = (260, 0.9038461538461539, 0.8295454545454546)\n",
      "(d, train_metric, valid_metric) = (265, 0.8981132075471698, 0.8522727272727273)\n",
      "(d, train_metric, valid_metric) = (270, 0.9037037037037037, 0.8295454545454546)\n",
      "(d, train_metric, valid_metric) = (275, 0.8945454545454545, 0.8522727272727273)\n",
      "(d, train_metric, valid_metric) = (280, 0.8964285714285715, 0.8295454545454546)\n",
      "(d, train_metric, valid_metric) = (285, 0.9052631578947369, 0.8522727272727273)\n",
      "(d, train_metric, valid_metric) = (290, 0.896551724137931, 0.8522727272727273)\n",
      "(d, train_metric, valid_metric) = (295, 0.8847457627118644, 0.875)\n",
      "(d, train_metric, valid_metric) = (300, 0.8866666666666667, 0.8522727272727273)\n",
      "(d, train_metric, valid_metric) = (305, 0.8852459016393442, 0.8636363636363636)\n",
      "(d, train_metric, valid_metric) = (310, 0.9225806451612903, 0.9204545454545454)\n",
      "(d, train_metric, valid_metric) = (315, 0.9238095238095239, 0.9204545454545454)\n",
      "(d, train_metric, valid_metric) = (320, 0.89375, 0.8977272727272727)\n",
      "(d, train_metric, valid_metric) = (325, 0.8861538461538462, 0.8409090909090909)\n",
      "(d, train_metric, valid_metric) = (330, 0.9121212121212121, 0.8977272727272727)\n",
      "(d, train_metric, valid_metric) = (335, 0.9014925373134328, 0.875)\n",
      "(d, train_metric, valid_metric) = (340, 0.9029411764705882, 0.8522727272727273)\n",
      "(d, train_metric, valid_metric) = (345, 0.8956521739130435, 0.875)\n",
      "(d, train_metric, valid_metric) = (350, 0.9028571428571428, 0.8863636363636364)\n"
     ]
    },
    {
     "data": {
      "text/plain": [
       "(10:5:350, Any[1.0, 0.8666666666666667, 0.9, 0.88, 0.9, 0.8571428571428572, 0.9, 0.8666666666666667, 0.86, 0.9090909090909091  …  0.8852459016393442, 0.9225806451612903, 0.9238095238095239, 0.89375, 0.8861538461538462, 0.9121212121212121, 0.9014925373134328, 0.9029411764705882, 0.8956521739130435, 0.9028571428571428], Any[0.7045454545454546, 0.7159090909090908, 0.8068181818181819, 0.7840909090909091, 0.7840909090909091, 0.8295454545454546, 0.8295454545454546, 0.8181818181818181, 0.7954545454545454, 0.8409090909090909  …  0.8636363636363636, 0.9204545454545454, 0.9204545454545454, 0.8977272727272727, 0.8409090909090909, 0.8977272727272727, 0.875, 0.8522727272727273, 0.875, 0.8863636363636364])"
      ]
     },
     "execution_count": 39,
     "metadata": {},
     "output_type": "execute_result"
    }
   ],
   "source": [
    "data_schedule, training_losses, valid_losses = learn_curve(best_linear_model, X[train,:], y[train])"
   ]
  },
  {
   "cell_type": "code",
   "execution_count": 41,
   "metadata": {
    "scrolled": false
   },
   "outputs": [
    {
     "data": {
      "image/svg+xml": [
       "<?xml version=\"1.0\" encoding=\"utf-8\"?>\n",
       "<svg xmlns=\"http://www.w3.org/2000/svg\" xmlns:xlink=\"http://www.w3.org/1999/xlink\" width=\"600\" height=\"400\" viewBox=\"0 0 2400 1600\">\n",
       "<defs>\n",
       "  <clipPath id=\"clip930\">\n",
       "    <rect x=\"0\" y=\"0\" width=\"2400\" height=\"1600\"/>\n",
       "  </clipPath>\n",
       "</defs>\n",
       "<path clip-path=\"url(#clip930)\" d=\"\n",
       "M0 1600 L2400 1600 L2400 0 L0 0  Z\n",
       "  \" fill=\"#ffffff\" fill-rule=\"evenodd\" fill-opacity=\"1\"/>\n",
       "<defs>\n",
       "  <clipPath id=\"clip931\">\n",
       "    <rect x=\"480\" y=\"0\" width=\"1681\" height=\"1600\"/>\n",
       "  </clipPath>\n",
       "</defs>\n",
       "<path clip-path=\"url(#clip930)\" d=\"\n",
       "M211.024 1423.18 L2352.76 1423.18 L2352.76 123.472 L211.024 123.472  Z\n",
       "  \" fill=\"#ffffff\" fill-rule=\"evenodd\" fill-opacity=\"1\"/>\n",
       "<defs>\n",
       "  <clipPath id=\"clip932\">\n",
       "    <rect x=\"211\" y=\"123\" width=\"2143\" height=\"1301\"/>\n",
       "  </clipPath>\n",
       "</defs>\n",
       "<polyline clip-path=\"url(#clip932)\" style=\"stroke:#000000; stroke-width:2; stroke-opacity:0.1; fill:none\" points=\"\n",
       "  212.212,1423.18 212.212,123.472 \n",
       "  \"/>\n",
       "<polyline clip-path=\"url(#clip932)\" style=\"stroke:#000000; stroke-width:2; stroke-opacity:0.1; fill:none\" points=\"\n",
       "  806.478,1423.18 806.478,123.472 \n",
       "  \"/>\n",
       "<polyline clip-path=\"url(#clip932)\" style=\"stroke:#000000; stroke-width:2; stroke-opacity:0.1; fill:none\" points=\"\n",
       "  1400.74,1423.18 1400.74,123.472 \n",
       "  \"/>\n",
       "<polyline clip-path=\"url(#clip932)\" style=\"stroke:#000000; stroke-width:2; stroke-opacity:0.1; fill:none\" points=\"\n",
       "  1995.01,1423.18 1995.01,123.472 \n",
       "  \"/>\n",
       "<polyline clip-path=\"url(#clip932)\" style=\"stroke:#000000; stroke-width:2; stroke-opacity:0.1; fill:none\" points=\"\n",
       "  211.024,1405.26 2352.76,1405.26 \n",
       "  \"/>\n",
       "<polyline clip-path=\"url(#clip932)\" style=\"stroke:#000000; stroke-width:2; stroke-opacity:0.1; fill:none\" points=\"\n",
       "  211.024,990.258 2352.76,990.258 \n",
       "  \"/>\n",
       "<polyline clip-path=\"url(#clip932)\" style=\"stroke:#000000; stroke-width:2; stroke-opacity:0.1; fill:none\" points=\"\n",
       "  211.024,575.257 2352.76,575.257 \n",
       "  \"/>\n",
       "<polyline clip-path=\"url(#clip932)\" style=\"stroke:#000000; stroke-width:2; stroke-opacity:0.1; fill:none\" points=\"\n",
       "  211.024,160.256 2352.76,160.256 \n",
       "  \"/>\n",
       "<polyline clip-path=\"url(#clip930)\" style=\"stroke:#000000; stroke-width:4; stroke-opacity:1; fill:none\" points=\"\n",
       "  211.024,1423.18 2352.76,1423.18 \n",
       "  \"/>\n",
       "<polyline clip-path=\"url(#clip930)\" style=\"stroke:#000000; stroke-width:4; stroke-opacity:1; fill:none\" points=\"\n",
       "  211.024,1423.18 211.024,123.472 \n",
       "  \"/>\n",
       "<polyline clip-path=\"url(#clip930)\" style=\"stroke:#000000; stroke-width:4; stroke-opacity:1; fill:none\" points=\"\n",
       "  212.212,1423.18 212.212,1407.58 \n",
       "  \"/>\n",
       "<polyline clip-path=\"url(#clip930)\" style=\"stroke:#000000; stroke-width:4; stroke-opacity:1; fill:none\" points=\"\n",
       "  806.478,1423.18 806.478,1407.58 \n",
       "  \"/>\n",
       "<polyline clip-path=\"url(#clip930)\" style=\"stroke:#000000; stroke-width:4; stroke-opacity:1; fill:none\" points=\"\n",
       "  1400.74,1423.18 1400.74,1407.58 \n",
       "  \"/>\n",
       "<polyline clip-path=\"url(#clip930)\" style=\"stroke:#000000; stroke-width:4; stroke-opacity:1; fill:none\" points=\"\n",
       "  1995.01,1423.18 1995.01,1407.58 \n",
       "  \"/>\n",
       "<polyline clip-path=\"url(#clip930)\" style=\"stroke:#000000; stroke-width:4; stroke-opacity:1; fill:none\" points=\"\n",
       "  211.024,1405.26 236.725,1405.26 \n",
       "  \"/>\n",
       "<polyline clip-path=\"url(#clip930)\" style=\"stroke:#000000; stroke-width:4; stroke-opacity:1; fill:none\" points=\"\n",
       "  211.024,990.258 236.725,990.258 \n",
       "  \"/>\n",
       "<polyline clip-path=\"url(#clip930)\" style=\"stroke:#000000; stroke-width:4; stroke-opacity:1; fill:none\" points=\"\n",
       "  211.024,575.257 236.725,575.257 \n",
       "  \"/>\n",
       "<polyline clip-path=\"url(#clip930)\" style=\"stroke:#000000; stroke-width:4; stroke-opacity:1; fill:none\" points=\"\n",
       "  211.024,160.256 236.725,160.256 \n",
       "  \"/>\n",
       "<path clip-path=\"url(#clip930)\" d=\"M 0 0 M212.212 1445.17 Q208.601 1445.17 206.772 1448.74 Q204.967 1452.28 204.967 1459.41 Q204.967 1466.51 206.772 1470.08 Q208.601 1473.62 212.212 1473.62 Q215.846 1473.62 217.652 1470.08 Q219.481 1466.51 219.481 1459.41 Q219.481 1452.28 217.652 1448.74 Q215.846 1445.17 212.212 1445.17 M212.212 1441.47 Q218.022 1441.47 221.078 1446.07 Q224.157 1450.66 224.157 1459.41 Q224.157 1468.13 221.078 1472.74 Q218.022 1477.32 212.212 1477.32 Q206.402 1477.32 203.323 1472.74 Q200.268 1468.13 200.268 1459.41 Q200.268 1450.66 203.323 1446.07 Q206.402 1441.47 212.212 1441.47 Z\" fill=\"#000000\" fill-rule=\"evenodd\" fill-opacity=\"1\" /><path clip-path=\"url(#clip930)\" d=\"M 0 0 M769.846 1472.72 L777.485 1472.72 L777.485 1446.35 L769.175 1448.02 L769.175 1443.76 L777.438 1442.09 L782.114 1442.09 L782.114 1472.72 L789.753 1472.72 L789.753 1476.65 L769.846 1476.65 L769.846 1472.72 Z\" fill=\"#000000\" fill-rule=\"evenodd\" fill-opacity=\"1\" /><path clip-path=\"url(#clip930)\" d=\"M 0 0 M804.822 1445.17 Q801.211 1445.17 799.383 1448.74 Q797.577 1452.28 797.577 1459.41 Q797.577 1466.51 799.383 1470.08 Q801.211 1473.62 804.822 1473.62 Q808.457 1473.62 810.262 1470.08 Q812.091 1466.51 812.091 1459.41 Q812.091 1452.28 810.262 1448.74 Q808.457 1445.17 804.822 1445.17 M804.822 1441.47 Q810.633 1441.47 813.688 1446.07 Q816.767 1450.66 816.767 1459.41 Q816.767 1468.13 813.688 1472.74 Q810.633 1477.32 804.822 1477.32 Q799.012 1477.32 795.934 1472.74 Q792.878 1468.13 792.878 1459.41 Q792.878 1450.66 795.934 1446.07 Q799.012 1441.47 804.822 1441.47 Z\" fill=\"#000000\" fill-rule=\"evenodd\" fill-opacity=\"1\" /><path clip-path=\"url(#clip930)\" d=\"M 0 0 M831.836 1445.17 Q828.225 1445.17 826.396 1448.74 Q824.591 1452.28 824.591 1459.41 Q824.591 1466.51 826.396 1470.08 Q828.225 1473.62 831.836 1473.62 Q835.47 1473.62 837.276 1470.08 Q839.105 1466.51 839.105 1459.41 Q839.105 1452.28 837.276 1448.74 Q835.47 1445.17 831.836 1445.17 M831.836 1441.47 Q837.646 1441.47 840.702 1446.07 Q843.781 1450.66 843.781 1459.41 Q843.781 1468.13 840.702 1472.74 Q837.646 1477.32 831.836 1477.32 Q826.026 1477.32 822.947 1472.74 Q819.892 1468.13 819.892 1459.41 Q819.892 1450.66 822.947 1446.07 Q826.026 1441.47 831.836 1441.47 Z\" fill=\"#000000\" fill-rule=\"evenodd\" fill-opacity=\"1\" /><path clip-path=\"url(#clip930)\" d=\"M 0 0 M1368.38 1472.72 L1384.7 1472.72 L1384.7 1476.65 L1362.76 1476.65 L1362.76 1472.72 Q1365.42 1469.96 1370 1465.33 Q1374.61 1460.68 1375.79 1459.34 Q1378.03 1456.81 1378.91 1455.08 Q1379.82 1453.32 1379.82 1451.63 Q1379.82 1448.87 1377.87 1447.14 Q1375.95 1445.4 1372.85 1445.4 Q1370.65 1445.4 1368.2 1446.17 Q1365.77 1446.93 1362.99 1448.48 L1362.99 1443.76 Q1365.81 1442.62 1368.27 1442.05 Q1370.72 1441.47 1372.76 1441.47 Q1378.13 1441.47 1381.32 1444.15 Q1384.52 1446.84 1384.52 1451.33 Q1384.52 1453.46 1383.71 1455.38 Q1382.92 1457.28 1380.81 1459.87 Q1380.23 1460.54 1377.13 1463.76 Q1374.03 1466.95 1368.38 1472.72 Z\" fill=\"#000000\" fill-rule=\"evenodd\" fill-opacity=\"1\" /><path clip-path=\"url(#clip930)\" d=\"M 0 0 M1399.77 1445.17 Q1396.16 1445.17 1394.33 1448.74 Q1392.53 1452.28 1392.53 1459.41 Q1392.53 1466.51 1394.33 1470.08 Q1396.16 1473.62 1399.77 1473.62 Q1403.4 1473.62 1405.21 1470.08 Q1407.04 1466.51 1407.04 1459.41 Q1407.04 1452.28 1405.21 1448.74 Q1403.4 1445.17 1399.77 1445.17 M1399.77 1441.47 Q1405.58 1441.47 1408.64 1446.07 Q1411.72 1450.66 1411.72 1459.41 Q1411.72 1468.13 1408.64 1472.74 Q1405.58 1477.32 1399.77 1477.32 Q1393.96 1477.32 1390.88 1472.74 Q1387.83 1468.13 1387.83 1459.41 Q1387.83 1450.66 1390.88 1446.07 Q1393.96 1441.47 1399.77 1441.47 Z\" fill=\"#000000\" fill-rule=\"evenodd\" fill-opacity=\"1\" /><path clip-path=\"url(#clip930)\" d=\"M 0 0 M1426.78 1445.17 Q1423.17 1445.17 1421.34 1448.74 Q1419.54 1452.28 1419.54 1459.41 Q1419.54 1466.51 1421.34 1470.08 Q1423.17 1473.62 1426.78 1473.62 Q1430.42 1473.62 1432.22 1470.08 Q1434.05 1466.51 1434.05 1459.41 Q1434.05 1452.28 1432.22 1448.74 Q1430.42 1445.17 1426.78 1445.17 M1426.78 1441.47 Q1432.59 1441.47 1435.65 1446.07 Q1438.73 1450.66 1438.73 1459.41 Q1438.73 1468.13 1435.65 1472.74 Q1432.59 1477.32 1426.78 1477.32 Q1420.97 1477.32 1417.9 1472.74 Q1414.84 1468.13 1414.84 1459.41 Q1414.84 1450.66 1417.9 1446.07 Q1420.97 1441.47 1426.78 1441.47 Z\" fill=\"#000000\" fill-rule=\"evenodd\" fill-opacity=\"1\" /><path clip-path=\"url(#clip930)\" d=\"M 0 0 M1972.24 1458.02 Q1975.6 1458.74 1977.47 1461 Q1979.37 1463.27 1979.37 1466.61 Q1979.37 1471.72 1975.85 1474.52 Q1972.33 1477.32 1965.85 1477.32 Q1963.68 1477.32 1961.36 1476.88 Q1959.07 1476.47 1956.62 1475.61 L1956.62 1471.1 Q1958.56 1472.23 1960.88 1472.81 Q1963.19 1473.39 1965.71 1473.39 Q1970.11 1473.39 1972.4 1471.65 Q1974.72 1469.92 1974.72 1466.61 Q1974.72 1463.55 1972.57 1461.84 Q1970.44 1460.1 1966.62 1460.1 L1962.59 1460.1 L1962.59 1456.26 L1966.8 1456.26 Q1970.25 1456.26 1972.08 1454.89 Q1973.91 1453.5 1973.91 1450.91 Q1973.91 1448.25 1972.01 1446.84 Q1970.14 1445.4 1966.62 1445.4 Q1964.7 1445.4 1962.5 1445.82 Q1960.3 1446.24 1957.66 1447.11 L1957.66 1442.95 Q1960.32 1442.21 1962.64 1441.84 Q1964.97 1441.47 1967.03 1441.47 Q1972.36 1441.47 1975.46 1443.9 Q1978.56 1446.3 1978.56 1450.43 Q1978.56 1453.3 1976.92 1455.29 Q1975.27 1457.25 1972.24 1458.02 Z\" fill=\"#000000\" fill-rule=\"evenodd\" fill-opacity=\"1\" /><path clip-path=\"url(#clip930)\" d=\"M 0 0 M1994.44 1445.17 Q1990.83 1445.17 1989 1448.74 Q1987.2 1452.28 1987.2 1459.41 Q1987.2 1466.51 1989 1470.08 Q1990.83 1473.62 1994.44 1473.62 Q1998.08 1473.62 1999.88 1470.08 Q2001.71 1466.51 2001.71 1459.41 Q2001.71 1452.28 1999.88 1448.74 Q1998.08 1445.17 1994.44 1445.17 M1994.44 1441.47 Q2000.25 1441.47 2003.31 1446.07 Q2006.39 1450.66 2006.39 1459.41 Q2006.39 1468.13 2003.31 1472.74 Q2000.25 1477.32 1994.44 1477.32 Q1988.63 1477.32 1985.55 1472.74 Q1982.5 1468.13 1982.5 1459.41 Q1982.5 1450.66 1985.55 1446.07 Q1988.63 1441.47 1994.44 1441.47 Z\" fill=\"#000000\" fill-rule=\"evenodd\" fill-opacity=\"1\" /><path clip-path=\"url(#clip930)\" d=\"M 0 0 M2021.45 1445.17 Q2017.84 1445.17 2016.02 1448.74 Q2014.21 1452.28 2014.21 1459.41 Q2014.21 1466.51 2016.02 1470.08 Q2017.84 1473.62 2021.45 1473.62 Q2025.09 1473.62 2026.89 1470.08 Q2028.72 1466.51 2028.72 1459.41 Q2028.72 1452.28 2026.89 1448.74 Q2025.09 1445.17 2021.45 1445.17 M2021.45 1441.47 Q2027.26 1441.47 2030.32 1446.07 Q2033.4 1450.66 2033.4 1459.41 Q2033.4 1468.13 2030.32 1472.74 Q2027.26 1477.32 2021.45 1477.32 Q2015.64 1477.32 2012.57 1472.74 Q2009.51 1468.13 2009.51 1459.41 Q2009.51 1450.66 2012.57 1446.07 Q2015.64 1441.47 2021.45 1441.47 Z\" fill=\"#000000\" fill-rule=\"evenodd\" fill-opacity=\"1\" /><path clip-path=\"url(#clip930)\" d=\"M 0 0 M139.015 1391.06 Q135.404 1391.06 133.575 1394.62 Q131.769 1398.16 131.769 1405.29 Q131.769 1412.4 133.575 1415.97 Q135.404 1419.51 139.015 1419.51 Q142.649 1419.51 144.455 1415.97 Q146.283 1412.4 146.283 1405.29 Q146.283 1398.16 144.455 1394.62 Q142.649 1391.06 139.015 1391.06 M139.015 1387.35 Q144.825 1387.35 147.88 1391.96 Q150.959 1396.54 150.959 1405.29 Q150.959 1414.02 147.88 1418.63 Q144.825 1423.21 139.015 1423.21 Q133.205 1423.21 130.126 1418.63 Q127.07 1414.02 127.07 1405.29 Q127.07 1396.54 130.126 1391.96 Q133.205 1387.35 139.015 1387.35 Z\" fill=\"#000000\" fill-rule=\"evenodd\" fill-opacity=\"1\" /><path clip-path=\"url(#clip930)\" d=\"M 0 0 M156.029 1416.66 L160.913 1416.66 L160.913 1422.54 L156.029 1422.54 L156.029 1416.66 Z\" fill=\"#000000\" fill-rule=\"evenodd\" fill-opacity=\"1\" /><path clip-path=\"url(#clip930)\" d=\"M 0 0 M164.802 1387.98 L187.024 1387.98 L187.024 1389.97 L174.477 1422.54 L169.593 1422.54 L181.399 1391.91 L164.802 1391.91 L164.802 1387.98 Z\" fill=\"#000000\" fill-rule=\"evenodd\" fill-opacity=\"1\" /><path clip-path=\"url(#clip930)\" d=\"M 0 0 M138.205 976.057 Q134.593 976.057 132.765 979.622 Q130.959 983.163 130.959 990.293 Q130.959 997.399 132.765 1000.96 Q134.593 1004.51 138.205 1004.51 Q141.839 1004.51 143.644 1000.96 Q145.473 997.399 145.473 990.293 Q145.473 983.163 143.644 979.622 Q141.839 976.057 138.205 976.057 M138.205 972.353 Q144.015 972.353 147.07 976.96 Q150.149 981.543 150.149 990.293 Q150.149 999.02 147.07 1003.63 Q144.015 1008.21 138.205 1008.21 Q132.394 1008.21 129.316 1003.63 Q126.26 999.02 126.26 990.293 Q126.26 981.543 129.316 976.96 Q132.394 972.353 138.205 972.353 Z\" fill=\"#000000\" fill-rule=\"evenodd\" fill-opacity=\"1\" /><path clip-path=\"url(#clip930)\" d=\"M 0 0 M155.218 1001.66 L160.103 1001.66 L160.103 1007.54 L155.218 1007.54 L155.218 1001.66 Z\" fill=\"#000000\" fill-rule=\"evenodd\" fill-opacity=\"1\" /><path clip-path=\"url(#clip930)\" d=\"M 0 0 M175.172 991.126 Q171.839 991.126 169.917 992.909 Q168.019 994.691 168.019 997.816 Q168.019 1000.94 169.917 1002.72 Q171.839 1004.51 175.172 1004.51 Q178.505 1004.51 180.427 1002.72 Q182.348 1000.92 182.348 997.816 Q182.348 994.691 180.427 992.909 Q178.528 991.126 175.172 991.126 M170.496 989.136 Q167.487 988.395 165.797 986.335 Q164.13 984.275 164.13 981.312 Q164.13 977.168 167.07 974.761 Q170.033 972.353 175.172 972.353 Q180.334 972.353 183.274 974.761 Q186.214 977.168 186.214 981.312 Q186.214 984.275 184.524 986.335 Q182.857 988.395 179.871 989.136 Q183.251 989.923 185.126 992.214 Q187.024 994.506 187.024 997.816 Q187.024 1002.84 183.945 1005.52 Q180.889 1008.21 175.172 1008.21 Q169.454 1008.21 166.376 1005.52 Q163.32 1002.84 163.32 997.816 Q163.32 994.506 165.218 992.214 Q167.116 989.923 170.496 989.136 M168.783 981.751 Q168.783 984.437 170.45 985.941 Q172.14 987.446 175.172 987.446 Q178.181 987.446 179.871 985.941 Q181.584 984.437 181.584 981.751 Q181.584 979.066 179.871 977.562 Q178.181 976.057 175.172 976.057 Q172.14 976.057 170.45 977.562 Q168.783 979.066 168.783 981.751 Z\" fill=\"#000000\" fill-rule=\"evenodd\" fill-opacity=\"1\" /><path clip-path=\"url(#clip930)\" d=\"M 0 0 M138.297 561.056 Q134.686 561.056 132.857 564.621 Q131.052 568.162 131.052 575.292 Q131.052 582.398 132.857 585.963 Q134.686 589.505 138.297 589.505 Q141.931 589.505 143.737 585.963 Q145.566 582.398 145.566 575.292 Q145.566 568.162 143.737 564.621 Q141.931 561.056 138.297 561.056 M138.297 557.352 Q144.107 557.352 147.163 561.959 Q150.242 566.542 150.242 575.292 Q150.242 584.019 147.163 588.625 Q144.107 593.209 138.297 593.209 Q132.487 593.209 129.408 588.625 Q126.353 584.019 126.353 575.292 Q126.353 566.542 129.408 561.959 Q132.487 557.352 138.297 557.352 Z\" fill=\"#000000\" fill-rule=\"evenodd\" fill-opacity=\"1\" /><path clip-path=\"url(#clip930)\" d=\"M 0 0 M155.311 586.658 L160.195 586.658 L160.195 592.537 L155.311 592.537 L155.311 586.658 Z\" fill=\"#000000\" fill-rule=\"evenodd\" fill-opacity=\"1\" /><path clip-path=\"url(#clip930)\" d=\"M 0 0 M165.403 591.82 L165.403 587.56 Q167.163 588.394 168.968 588.834 Q170.774 589.273 172.51 589.273 Q177.14 589.273 179.57 586.172 Q182.024 583.047 182.371 576.704 Q181.028 578.695 178.968 579.76 Q176.908 580.824 174.408 580.824 Q169.223 580.824 166.19 577.699 Q163.181 574.551 163.181 569.112 Q163.181 563.787 166.329 560.57 Q169.478 557.352 174.709 557.352 Q180.704 557.352 183.852 561.959 Q187.024 566.542 187.024 575.292 Q187.024 583.463 183.135 588.348 Q179.269 593.209 172.718 593.209 Q170.959 593.209 169.153 592.861 Q167.348 592.514 165.403 591.82 M174.709 577.167 Q177.857 577.167 179.686 575.014 Q181.538 572.861 181.538 569.112 Q181.538 565.385 179.686 563.232 Q177.857 561.056 174.709 561.056 Q171.561 561.056 169.709 563.232 Q167.88 565.385 167.88 569.112 Q167.88 572.861 169.709 575.014 Q171.561 577.167 174.709 577.167 Z\" fill=\"#000000\" fill-rule=\"evenodd\" fill-opacity=\"1\" /><path clip-path=\"url(#clip930)\" d=\"M 0 0 M130.149 173.601 L137.788 173.601 L137.788 147.236 L129.478 148.902 L129.478 144.643 L137.742 142.976 L142.417 142.976 L142.417 173.601 L150.056 173.601 L150.056 177.536 L130.149 177.536 L130.149 173.601 Z\" fill=\"#000000\" fill-rule=\"evenodd\" fill-opacity=\"1\" /><path clip-path=\"url(#clip930)\" d=\"M 0 0 M155.126 171.657 L160.01 171.657 L160.01 177.536 L155.126 177.536 L155.126 171.657 Z\" fill=\"#000000\" fill-rule=\"evenodd\" fill-opacity=\"1\" /><path clip-path=\"url(#clip930)\" d=\"M 0 0 M175.079 146.055 Q171.468 146.055 169.64 149.62 Q167.834 153.161 167.834 160.291 Q167.834 167.397 169.64 170.962 Q171.468 174.504 175.079 174.504 Q178.714 174.504 180.519 170.962 Q182.348 167.397 182.348 160.291 Q182.348 153.161 180.519 149.62 Q178.714 146.055 175.079 146.055 M175.079 142.351 Q180.889 142.351 183.945 146.958 Q187.024 151.541 187.024 160.291 Q187.024 169.018 183.945 173.624 Q180.889 178.208 175.079 178.208 Q169.269 178.208 166.19 173.624 Q163.135 169.018 163.135 160.291 Q163.135 151.541 166.19 146.958 Q169.269 142.351 175.079 142.351 Z\" fill=\"#000000\" fill-rule=\"evenodd\" fill-opacity=\"1\" /><path clip-path=\"url(#clip930)\" d=\"M 0 0 M969.565 12.096 L977.748 12.096 L977.748 65.6895 L1007.2 65.6895 L1007.2 72.576 L969.565 72.576 L969.565 12.096 Z\" fill=\"#000000\" fill-rule=\"evenodd\" fill-opacity=\"1\" /><path clip-path=\"url(#clip930)\" d=\"M 0 0 M1015.02 27.2059 L1022.47 27.2059 L1022.47 72.576 L1015.02 72.576 L1015.02 27.2059 M1015.02 9.54393 L1022.47 9.54393 L1022.47 18.9825 L1015.02 18.9825 L1015.02 9.54393 Z\" fill=\"#000000\" fill-rule=\"evenodd\" fill-opacity=\"1\" /><path clip-path=\"url(#clip930)\" d=\"M 0 0 M1068 45.1919 L1068 72.576 L1060.55 72.576 L1060.55 45.4349 Q1060.55 38.994 1058.04 35.7938 Q1055.53 32.5936 1050.5 32.5936 Q1044.47 32.5936 1040.98 36.4419 Q1037.5 40.2903 1037.5 46.9338 L1037.5 72.576 L1030 72.576 L1030 27.2059 L1037.5 27.2059 L1037.5 34.2544 Q1040.17 30.163 1043.78 28.1376 Q1047.42 26.1121 1052.16 26.1121 Q1059.98 26.1121 1063.99 30.9732 Q1068 35.7938 1068 45.1919 Z\" fill=\"#000000\" fill-rule=\"evenodd\" fill-opacity=\"1\" /><path clip-path=\"url(#clip930)\" d=\"M 0 0 M1114.63 48.0275 L1114.63 51.6733 L1080.36 51.6733 Q1080.84 59.3701 1084.98 63.421 Q1089.15 67.4314 1096.56 67.4314 Q1100.85 67.4314 1104.87 66.3781 Q1108.92 65.3249 1112.89 63.2184 L1112.89 70.267 Q1108.88 71.9684 1104.66 72.8596 Q1100.45 73.7508 1096.12 73.7508 Q1085.26 73.7508 1078.9 67.4314 Q1072.58 61.1119 1072.58 50.3365 Q1072.58 39.1965 1078.57 32.6746 Q1084.61 26.1121 1094.82 26.1121 Q1103.97 26.1121 1109.28 32.0264 Q1114.63 37.9003 1114.63 48.0275 M1107.17 45.84 Q1107.09 39.7232 1103.73 36.0774 Q1100.41 32.4315 1094.9 32.4315 Q1088.66 32.4315 1084.89 35.9558 Q1081.17 39.4801 1080.6 45.8805 L1107.17 45.84 Z\" fill=\"#000000\" fill-rule=\"evenodd\" fill-opacity=\"1\" /><path clip-path=\"url(#clip930)\" d=\"M 0 0 M1143.07 49.7694 Q1134.03 49.7694 1130.55 51.8354 Q1127.06 53.9013 1127.06 58.8839 Q1127.06 62.8538 1129.66 65.2034 Q1132.29 67.5124 1136.79 67.5124 Q1142.98 67.5124 1146.71 63.1374 Q1150.48 58.7219 1150.48 51.4303 L1150.48 49.7694 L1143.07 49.7694 M1157.93 46.6907 L1157.93 72.576 L1150.48 72.576 L1150.48 65.6895 Q1147.93 69.8214 1144.12 71.8063 Q1140.31 73.7508 1134.8 73.7508 Q1127.83 73.7508 1123.7 69.8619 Q1119.61 65.9325 1119.61 59.3701 Q1119.61 51.7138 1124.71 47.825 Q1129.86 43.9361 1140.03 43.9361 L1150.48 43.9361 L1150.48 43.2069 Q1150.48 38.0623 1147.08 35.2672 Q1143.71 32.4315 1137.6 32.4315 Q1133.71 32.4315 1130.02 33.3632 Q1126.34 34.295 1122.93 36.1584 L1122.93 29.2718 Q1127.02 27.692 1130.87 26.9223 Q1134.72 26.1121 1138.37 26.1121 Q1148.21 26.1121 1153.07 31.2163 Q1157.93 36.3204 1157.93 46.6907 Z\" fill=\"#000000\" fill-rule=\"evenodd\" fill-opacity=\"1\" /><path clip-path=\"url(#clip930)\" d=\"M 0 0 M1192.04 34.1734 Q1190.78 33.4443 1189.29 33.1202 Q1187.83 32.7556 1186.05 32.7556 Q1179.73 32.7556 1176.32 36.8875 Q1172.96 40.9789 1172.96 48.6757 L1172.96 72.576 L1165.47 72.576 L1165.47 27.2059 L1172.96 27.2059 L1172.96 34.2544 Q1175.31 30.1225 1179.08 28.1376 Q1182.85 26.1121 1188.23 26.1121 Q1189 26.1121 1189.93 26.2337 Q1190.87 26.3147 1192 26.5172 L1192.04 34.1734 Z\" fill=\"#000000\" fill-rule=\"evenodd\" fill-opacity=\"1\" /><path clip-path=\"url(#clip930)\" d=\"M 0 0 M1244.14 9.62495 Q1238.71 18.942 1236.07 28.0566 Q1233.44 37.1711 1233.44 46.5287 Q1233.44 55.8863 1236.07 65.0818 Q1238.75 74.2369 1244.14 83.5134 L1237.65 83.5134 Q1231.58 73.9938 1228.54 64.7983 Q1225.54 55.6027 1225.54 46.5287 Q1225.54 37.4952 1228.54 28.3401 Q1231.54 19.1851 1237.65 9.62495 L1244.14 9.62495 Z\" fill=\"#000000\" fill-rule=\"evenodd\" fill-opacity=\"1\" /><path clip-path=\"url(#clip930)\" d=\"M 0 0 M1297.57 16.7545 L1297.57 25.383 Q1293.43 21.5346 1288.74 19.6307 Q1284.08 17.7268 1278.81 17.7268 Q1268.44 17.7268 1262.93 24.0867 Q1257.42 30.4061 1257.42 42.3968 Q1257.42 54.3469 1262.93 60.7069 Q1268.44 67.0263 1278.81 67.0263 Q1284.08 67.0263 1288.74 65.1223 Q1293.43 63.2184 1297.57 59.3701 L1297.57 67.9175 Q1293.27 70.8341 1288.45 72.2924 Q1283.67 73.7508 1278.33 73.7508 Q1264.59 73.7508 1256.69 65.3654 Q1248.79 56.9395 1248.79 42.3968 Q1248.79 27.8135 1256.69 19.4281 Q1264.59 11.0023 1278.33 11.0023 Q1283.75 11.0023 1288.53 12.4606 Q1293.35 13.8784 1297.57 16.7545 Z\" fill=\"#000000\" fill-rule=\"evenodd\" fill-opacity=\"1\" /><path clip-path=\"url(#clip930)\" d=\"M 0 0 M1332.73 34.9026 L1384.66 34.9026 L1384.66 41.7081 L1332.73 41.7081 L1332.73 34.9026 M1332.73 51.4303 L1384.66 51.4303 L1384.66 58.3168 L1332.73 58.3168 L1332.73 51.4303 Z\" fill=\"#000000\" fill-rule=\"evenodd\" fill-opacity=\"1\" /><path clip-path=\"url(#clip930)\" d=\"M 0 0 M1437.4 17.4837 Q1431.08 17.4837 1427.88 23.7221 Q1424.72 29.92 1424.72 42.3968 Q1424.72 54.833 1427.88 61.0714 Q1431.08 67.2693 1437.4 67.2693 Q1443.76 67.2693 1446.92 61.0714 Q1450.12 54.833 1450.12 42.3968 Q1450.12 29.92 1446.92 23.7221 Q1443.76 17.4837 1437.4 17.4837 M1437.4 11.0023 Q1447.57 11.0023 1452.92 19.0636 Q1458.31 27.0843 1458.31 42.3968 Q1458.31 57.6687 1452.92 65.73 Q1447.57 73.7508 1437.4 73.7508 Q1427.24 73.7508 1421.85 65.73 Q1416.5 57.6687 1416.5 42.3968 Q1416.5 27.0843 1421.85 19.0636 Q1427.24 11.0023 1437.4 11.0023 Z\" fill=\"#000000\" fill-rule=\"evenodd\" fill-opacity=\"1\" /><path clip-path=\"url(#clip930)\" d=\"M 0 0 M1467.18 62.2867 L1475.73 62.2867 L1475.73 72.576 L1467.18 72.576 L1467.18 62.2867 Z\" fill=\"#000000\" fill-rule=\"evenodd\" fill-opacity=\"1\" /><path clip-path=\"url(#clip930)\" d=\"M 0 0 M1507.08 19.2256 L1486.42 51.5113 L1507.08 51.5113 L1507.08 19.2256 M1504.93 12.096 L1515.22 12.096 L1515.22 51.5113 L1523.85 51.5113 L1523.85 58.3168 L1515.22 58.3168 L1515.22 72.576 L1507.08 72.576 L1507.08 58.3168 L1479.78 58.3168 L1479.78 50.4176 L1504.93 12.096 Z\" fill=\"#000000\" fill-rule=\"evenodd\" fill-opacity=\"1\" /><path clip-path=\"url(#clip930)\" d=\"M 0 0 M1534.14 65.6895 L1547.51 65.6895 L1547.51 19.5497 L1532.96 22.4663 L1532.96 15.0127 L1547.43 12.096 L1555.61 12.096 L1555.61 65.6895 L1568.98 65.6895 L1568.98 72.576 L1534.14 72.576 L1534.14 65.6895 Z\" fill=\"#000000\" fill-rule=\"evenodd\" fill-opacity=\"1\" /><path clip-path=\"url(#clip930)\" d=\"M 0 0 M1575.62 9.62495 L1582.1 9.62495 Q1588.18 19.1851 1591.18 28.3401 Q1594.21 37.4952 1594.21 46.5287 Q1594.21 55.6027 1591.18 64.7983 Q1588.18 73.9938 1582.1 83.5134 L1575.62 83.5134 Q1581.01 74.2369 1583.64 65.0818 Q1586.32 55.8863 1586.32 46.5287 Q1586.32 37.1711 1583.64 28.0566 Q1581.01 18.942 1575.62 9.62495 Z\" fill=\"#000000\" fill-rule=\"evenodd\" fill-opacity=\"1\" /><path clip-path=\"url(#clip930)\" d=\"M 0 0 M1041.85 1508.52 L1082.05 1508.52 L1082.05 1513.93 L1065.19 1513.93 L1065.19 1556.04 L1058.72 1556.04 L1058.72 1513.93 L1041.85 1513.93 L1041.85 1508.52 Z\" fill=\"#000000\" fill-rule=\"evenodd\" fill-opacity=\"1\" /><path clip-path=\"url(#clip930)\" d=\"M 0 0 M1099.27 1525.87 Q1098.29 1525.3 1097.11 1525.04 Q1095.96 1524.76 1094.56 1524.76 Q1089.6 1524.76 1086.92 1528 Q1084.28 1531.22 1084.28 1537.27 L1084.28 1556.04 L1078.39 1556.04 L1078.39 1520.4 L1084.28 1520.4 L1084.28 1525.93 Q1086.13 1522.69 1089.09 1521.13 Q1092.05 1519.54 1096.28 1519.54 Q1096.89 1519.54 1097.62 1519.63 Q1098.35 1519.7 1099.24 1519.85 L1099.27 1525.87 Z\" fill=\"#000000\" fill-rule=\"evenodd\" fill-opacity=\"1\" /><path clip-path=\"url(#clip930)\" d=\"M 0 0 M1121.62 1538.12 Q1114.52 1538.12 1111.78 1539.75 Q1109.04 1541.37 1109.04 1545.29 Q1109.04 1548.4 1111.08 1550.25 Q1113.15 1552.07 1116.68 1552.07 Q1121.55 1552.07 1124.48 1548.63 Q1127.44 1545.16 1127.44 1539.43 L1127.44 1538.12 L1121.62 1538.12 M1133.3 1535.71 L1133.3 1556.04 L1127.44 1556.04 L1127.44 1550.63 Q1125.44 1553.88 1122.44 1555.44 Q1119.45 1556.97 1115.12 1556.97 Q1109.65 1556.97 1106.4 1553.91 Q1103.19 1550.82 1103.19 1545.67 Q1103.19 1539.65 1107.2 1536.6 Q1111.24 1533.54 1119.23 1533.54 L1127.44 1533.54 L1127.44 1532.97 Q1127.44 1528.93 1124.77 1526.73 Q1122.13 1524.5 1117.32 1524.5 Q1114.26 1524.5 1111.37 1525.23 Q1108.47 1525.97 1105.8 1527.43 L1105.8 1522.02 Q1109.01 1520.78 1112.04 1520.17 Q1115.06 1519.54 1117.93 1519.54 Q1125.66 1519.54 1129.48 1523.55 Q1133.3 1527.56 1133.3 1535.71 Z\" fill=\"#000000\" fill-rule=\"evenodd\" fill-opacity=\"1\" /><path clip-path=\"url(#clip930)\" d=\"M 0 0 M1139.44 1520.4 L1145.3 1520.4 L1145.3 1556.04 L1139.44 1556.04 L1139.44 1520.4 M1139.44 1506.52 L1145.3 1506.52 L1145.3 1513.93 L1139.44 1513.93 L1139.44 1506.52 Z\" fill=\"#000000\" fill-rule=\"evenodd\" fill-opacity=\"1\" /><path clip-path=\"url(#clip930)\" d=\"M 0 0 M1181.07 1534.53 L1181.07 1556.04 L1175.22 1556.04 L1175.22 1534.72 Q1175.22 1529.66 1173.24 1527.14 Q1171.27 1524.63 1167.32 1524.63 Q1162.58 1524.63 1159.84 1527.65 Q1157.11 1530.68 1157.11 1535.9 L1157.11 1556.04 L1151.22 1556.04 L1151.22 1520.4 L1157.11 1520.4 L1157.11 1525.93 Q1159.21 1522.72 1162.04 1521.13 Q1164.9 1519.54 1168.63 1519.54 Q1174.77 1519.54 1177.92 1523.36 Q1181.07 1527.14 1181.07 1534.53 Z\" fill=\"#000000\" fill-rule=\"evenodd\" fill-opacity=\"1\" /><path clip-path=\"url(#clip930)\" d=\"M 0 0 M1187.22 1520.4 L1193.07 1520.4 L1193.07 1556.04 L1187.22 1556.04 L1187.22 1520.4 M1187.22 1506.52 L1193.07 1506.52 L1193.07 1513.93 L1187.22 1513.93 L1187.22 1506.52 Z\" fill=\"#000000\" fill-rule=\"evenodd\" fill-opacity=\"1\" /><path clip-path=\"url(#clip930)\" d=\"M 0 0 M1228.85 1534.53 L1228.85 1556.04 L1222.99 1556.04 L1222.99 1534.72 Q1222.99 1529.66 1221.02 1527.14 Q1219.04 1524.63 1215.1 1524.63 Q1210.36 1524.63 1207.62 1527.65 Q1204.88 1530.68 1204.88 1535.9 L1204.88 1556.04 L1198.99 1556.04 L1198.99 1520.4 L1204.88 1520.4 L1204.88 1525.93 Q1206.98 1522.72 1209.81 1521.13 Q1212.68 1519.54 1216.4 1519.54 Q1222.55 1519.54 1225.7 1523.36 Q1228.85 1527.14 1228.85 1534.53 Z\" fill=\"#000000\" fill-rule=\"evenodd\" fill-opacity=\"1\" /><path clip-path=\"url(#clip930)\" d=\"M 0 0 M1258.45 1537.81 Q1258.45 1531.44 1255.81 1527.94 Q1253.2 1524.44 1248.45 1524.44 Q1243.74 1524.44 1241.1 1527.94 Q1238.49 1531.44 1238.49 1537.81 Q1238.49 1544.14 1241.1 1547.64 Q1243.74 1551.14 1248.45 1551.14 Q1253.2 1551.14 1255.81 1547.64 Q1258.45 1544.14 1258.45 1537.81 M1264.3 1551.62 Q1264.3 1560.72 1260.26 1565.15 Q1256.22 1569.6 1247.88 1569.6 Q1244.79 1569.6 1242.06 1569.13 Q1239.32 1568.68 1236.74 1567.72 L1236.74 1562.03 Q1239.32 1563.43 1241.83 1564.1 Q1244.35 1564.76 1246.96 1564.76 Q1252.72 1564.76 1255.58 1561.74 Q1258.45 1558.75 1258.45 1552.67 L1258.45 1549.77 Q1256.63 1552.92 1253.8 1554.48 Q1250.97 1556.04 1247.02 1556.04 Q1240.46 1556.04 1236.45 1551.05 Q1232.44 1546.05 1232.44 1537.81 Q1232.44 1529.53 1236.45 1524.53 Q1240.46 1519.54 1247.02 1519.54 Q1250.97 1519.54 1253.8 1521.1 Q1256.63 1522.66 1258.45 1525.81 L1258.45 1520.4 L1264.3 1520.4 L1264.3 1551.62 Z\" fill=\"#000000\" fill-rule=\"evenodd\" fill-opacity=\"1\" /><path clip-path=\"url(#clip930)\" d=\"M 0 0 M1319.91 1510.08 L1319.91 1516.35 Q1316.25 1514.6 1313 1513.74 Q1309.76 1512.88 1306.73 1512.88 Q1301.48 1512.88 1298.62 1514.92 Q1295.78 1516.96 1295.78 1520.71 Q1295.78 1523.87 1297.66 1525.49 Q1299.57 1527.08 1304.85 1528.07 L1308.74 1528.86 Q1315.93 1530.23 1319.34 1533.7 Q1322.77 1537.14 1322.77 1542.93 Q1322.77 1549.84 1318.13 1553.4 Q1313.51 1556.97 1304.57 1556.97 Q1301.19 1556.97 1297.37 1556.2 Q1293.59 1555.44 1289.51 1553.94 L1289.51 1547.32 Q1293.43 1549.52 1297.18 1550.63 Q1300.94 1551.75 1304.57 1551.75 Q1310.07 1551.75 1313.07 1549.58 Q1316.06 1547.42 1316.06 1543.41 Q1316.06 1539.91 1313.89 1537.93 Q1311.76 1535.96 1306.86 1534.97 L1302.94 1534.21 Q1295.75 1532.78 1292.54 1529.72 Q1289.32 1526.67 1289.32 1521.22 Q1289.32 1514.92 1293.75 1511.29 Q1298.2 1507.66 1306 1507.66 Q1309.34 1507.66 1312.81 1508.27 Q1316.28 1508.87 1319.91 1510.08 Z\" fill=\"#000000\" fill-rule=\"evenodd\" fill-opacity=\"1\" /><path clip-path=\"url(#clip930)\" d=\"M 0 0 M1359.41 1536.76 L1359.41 1539.62 L1332.48 1539.62 Q1332.86 1545.67 1336.11 1548.85 Q1339.39 1552 1345.21 1552 Q1348.59 1552 1351.74 1551.17 Q1354.92 1550.35 1358.04 1548.69 L1358.04 1554.23 Q1354.89 1555.57 1351.58 1556.27 Q1348.27 1556.97 1344.86 1556.97 Q1336.33 1556.97 1331.34 1552 Q1326.37 1547.04 1326.37 1538.57 Q1326.37 1529.82 1331.08 1524.69 Q1335.82 1519.54 1343.84 1519.54 Q1351.04 1519.54 1355.21 1524.18 Q1359.41 1528.8 1359.41 1536.76 M1353.55 1535.04 Q1353.49 1530.23 1350.85 1527.37 Q1348.24 1524.5 1343.91 1524.5 Q1339.01 1524.5 1336.05 1527.27 Q1333.12 1530.04 1332.67 1535.07 L1353.55 1535.04 Z\" fill=\"#000000\" fill-rule=\"evenodd\" fill-opacity=\"1\" /><path clip-path=\"url(#clip930)\" d=\"M 0 0 M1371.34 1510.27 L1371.34 1520.4 L1383.41 1520.4 L1383.41 1524.95 L1371.34 1524.95 L1371.34 1544.3 Q1371.34 1548.66 1372.52 1549.9 Q1373.73 1551.14 1377.39 1551.14 L1383.41 1551.14 L1383.41 1556.04 L1377.39 1556.04 Q1370.61 1556.04 1368.03 1553.53 Q1365.46 1550.98 1365.46 1544.3 L1365.46 1524.95 L1361.16 1524.95 L1361.16 1520.4 L1365.46 1520.4 L1365.46 1510.27 L1371.34 1510.27 Z\" fill=\"#000000\" fill-rule=\"evenodd\" fill-opacity=\"1\" /><path clip-path=\"url(#clip930)\" d=\"M 0 0 M1439.01 1510.08 L1439.01 1516.35 Q1435.35 1514.6 1432.1 1513.74 Q1428.86 1512.88 1425.83 1512.88 Q1420.58 1512.88 1417.72 1514.92 Q1414.89 1516.96 1414.89 1520.71 Q1414.89 1523.87 1416.76 1525.49 Q1418.67 1527.08 1423.96 1528.07 L1427.84 1528.86 Q1435.03 1530.23 1438.44 1533.7 Q1441.88 1537.14 1441.88 1542.93 Q1441.88 1549.84 1437.23 1553.4 Q1432.61 1556.97 1423.67 1556.97 Q1420.3 1556.97 1416.48 1556.2 Q1412.69 1555.44 1408.62 1553.94 L1408.62 1547.32 Q1412.53 1549.52 1416.29 1550.63 Q1420.04 1551.75 1423.67 1551.75 Q1429.18 1551.75 1432.17 1549.58 Q1435.16 1547.42 1435.16 1543.41 Q1435.16 1539.91 1433 1537.93 Q1430.86 1535.96 1425.96 1534.97 L1422.05 1534.21 Q1414.85 1532.78 1411.64 1529.72 Q1408.42 1526.67 1408.42 1521.22 Q1408.42 1514.92 1412.85 1511.29 Q1417.3 1507.66 1425.1 1507.66 Q1428.44 1507.66 1431.91 1508.27 Q1435.38 1508.87 1439.01 1510.08 Z\" fill=\"#000000\" fill-rule=\"evenodd\" fill-opacity=\"1\" /><path clip-path=\"url(#clip930)\" d=\"M 0 0 M1448.02 1520.4 L1453.88 1520.4 L1453.88 1556.04 L1448.02 1556.04 L1448.02 1520.4 M1448.02 1506.52 L1453.88 1506.52 L1453.88 1513.93 L1448.02 1513.93 L1448.02 1506.52 Z\" fill=\"#000000\" fill-rule=\"evenodd\" fill-opacity=\"1\" /><path clip-path=\"url(#clip930)\" d=\"M 0 0 M1457.47 1520.4 L1485.29 1520.4 L1485.29 1525.74 L1463.26 1551.37 L1485.29 1551.37 L1485.29 1556.04 L1456.68 1556.04 L1456.68 1550.7 L1478.7 1525.07 L1457.47 1525.07 L1457.47 1520.4 Z\" fill=\"#000000\" fill-rule=\"evenodd\" fill-opacity=\"1\" /><path clip-path=\"url(#clip930)\" d=\"M 0 0 M1521.92 1536.76 L1521.92 1539.62 L1495 1539.62 Q1495.38 1545.67 1498.63 1548.85 Q1501.9 1552 1507.73 1552 Q1511.1 1552 1514.25 1551.17 Q1517.44 1550.35 1520.56 1548.69 L1520.56 1554.23 Q1517.41 1555.57 1514.09 1556.27 Q1510.78 1556.97 1507.38 1556.97 Q1498.85 1556.97 1493.85 1552 Q1488.89 1547.04 1488.89 1538.57 Q1488.89 1529.82 1493.6 1524.69 Q1498.34 1519.54 1506.36 1519.54 Q1513.55 1519.54 1517.72 1524.18 Q1521.92 1528.8 1521.92 1536.76 M1516.07 1535.04 Q1516 1530.23 1513.36 1527.37 Q1510.75 1524.5 1506.42 1524.5 Q1501.52 1524.5 1498.56 1527.27 Q1495.63 1530.04 1495.19 1535.07 L1516.07 1535.04 Z\" fill=\"#000000\" fill-rule=\"evenodd\" fill-opacity=\"1\" /><path clip-path=\"url(#clip930)\" d=\"M 0 0 M44.1444 1064.94 L50.9239 1064.94 Q47.9002 1068.19 46.4043 1071.88 Q44.9083 1075.54 44.9083 1079.68 Q44.9083 1087.82 49.9054 1092.15 Q54.8707 1096.48 64.2919 1096.48 Q73.6813 1096.48 78.6784 1092.15 Q83.6436 1087.82 83.6436 1079.68 Q83.6436 1075.54 82.1477 1071.88 Q80.6518 1068.19 77.6281 1064.94 L84.3439 1064.94 Q86.6355 1068.31 87.7814 1072.1 Q88.9272 1075.86 88.9272 1080.06 Q88.9272 1090.85 82.3387 1097.05 Q75.7183 1103.26 64.2919 1103.26 Q52.8336 1103.26 46.2451 1097.05 Q39.6248 1090.85 39.6248 1080.06 Q39.6248 1075.79 40.7706 1072.04 Q41.8846 1068.25 44.1444 1064.94 Z\" fill=\"#000000\" fill-rule=\"evenodd\" fill-opacity=\"1\" /><path clip-path=\"url(#clip930)\" d=\"M 0 0 M38.479 1058.8 L38.479 1052.94 L88.0042 1052.94 L88.0042 1058.8 L38.479 1058.8 Z\" fill=\"#000000\" fill-rule=\"evenodd\" fill-opacity=\"1\" /><path clip-path=\"url(#clip930)\" d=\"M 0 0 M70.0847 1030.6 Q70.0847 1037.69 71.7079 1040.43 Q73.3312 1043.17 77.2461 1043.17 Q80.3653 1043.17 82.2114 1041.13 Q84.0256 1039.06 84.0256 1035.53 Q84.0256 1030.66 80.5881 1027.73 Q77.1188 1024.77 71.3897 1024.77 L70.0847 1024.77 L70.0847 1030.6 M67.6657 1018.91 L88.0042 1018.91 L88.0042 1024.77 L82.5933 1024.77 Q85.8398 1026.78 87.3994 1029.77 Q88.9272 1032.76 88.9272 1037.09 Q88.9272 1042.56 85.8716 1045.81 Q82.7843 1049.02 77.6281 1049.02 Q71.6125 1049.02 68.5569 1045.01 Q65.5014 1040.97 65.5014 1032.98 L65.5014 1024.77 L64.9285 1024.77 Q60.8862 1024.77 58.6901 1027.44 Q56.4621 1030.09 56.4621 1034.89 Q56.4621 1037.95 57.1941 1040.84 Q57.9262 1043.74 59.3903 1046.41 L53.9795 1046.41 Q52.7381 1043.2 52.1334 1040.18 Q51.4968 1037.15 51.4968 1034.29 Q51.4968 1026.55 55.5072 1022.73 Q59.5176 1018.91 67.6657 1018.91 Z\" fill=\"#000000\" fill-rule=\"evenodd\" fill-opacity=\"1\" /><path clip-path=\"url(#clip930)\" d=\"M 0 0 M53.4065 990.046 L58.9447 990.046 Q57.6716 992.529 57.035 995.203 Q56.3984 997.876 56.3984 1000.74 Q56.3984 1005.1 57.7352 1007.3 Q59.072 1009.46 61.7456 1009.46 Q63.7826 1009.46 64.9603 1007.9 Q66.1061 1006.34 67.1565 1001.63 L67.6021 999.627 Q68.9389 993.388 71.3897 990.779 Q73.8086 988.137 78.1691 988.137 Q83.1344 988.137 86.0308 992.083 Q88.9272 995.998 88.9272 1002.87 Q88.9272 1005.74 88.3543 1008.86 Q87.8132 1011.94 86.6992 1015.38 L80.6518 1015.38 Q82.3387 1012.14 83.198 1008.98 Q84.0256 1005.83 84.0256 1002.75 Q84.0256 998.608 82.6251 996.38 Q81.1929 994.152 78.6147 994.152 Q76.2276 994.152 74.9545 995.776 Q73.6813 997.367 72.5037 1002.81 L72.0262 1004.85 Q70.8804 1010.29 68.5251 1012.71 Q66.138 1015.13 62.0002 1015.13 Q56.9713 1015.13 54.2341 1011.56 Q51.4968 1008 51.4968 1001.44 Q51.4968 998.195 51.9743 995.33 Q52.4517 992.465 53.4065 990.046 Z\" fill=\"#000000\" fill-rule=\"evenodd\" fill-opacity=\"1\" /><path clip-path=\"url(#clip930)\" d=\"M 0 0 M53.4065 959.268 L58.9447 959.268 Q57.6716 961.751 57.035 964.424 Q56.3984 967.098 56.3984 969.963 Q56.3984 974.323 57.7352 976.519 Q59.072 978.684 61.7456 978.684 Q63.7826 978.684 64.9603 977.124 Q66.1061 975.564 67.1565 970.854 L67.6021 968.849 Q68.9389 962.61 71.3897 960 Q73.8086 957.359 78.1691 957.359 Q83.1344 957.359 86.0308 961.305 Q88.9272 965.22 88.9272 972.095 Q88.9272 974.96 88.3543 978.079 Q87.8132 981.166 86.6992 984.604 L80.6518 984.604 Q82.3387 981.357 83.198 978.206 Q84.0256 975.055 84.0256 971.968 Q84.0256 967.83 82.6251 965.602 Q81.1929 963.374 78.6147 963.374 Q76.2276 963.374 74.9545 964.997 Q73.6813 966.589 72.5037 972.032 L72.0262 974.069 Q70.8804 979.511 68.5251 981.93 Q66.138 984.349 62.0002 984.349 Q56.9713 984.349 54.2341 980.784 Q51.4968 977.22 51.4968 970.663 Q51.4968 967.416 51.9743 964.552 Q52.4517 961.687 53.4065 959.268 Z\" fill=\"#000000\" fill-rule=\"evenodd\" fill-opacity=\"1\" /><path clip-path=\"url(#clip930)\" d=\"M 0 0 M52.3562 951.216 L52.3562 945.359 L88.0042 945.359 L88.0042 951.216 L52.3562 951.216 M38.479 951.216 L38.479 945.359 L45.895 945.359 L45.895 951.216 L38.479 951.216 Z\" fill=\"#000000\" fill-rule=\"evenodd\" fill-opacity=\"1\" /><path clip-path=\"url(#clip930)\" d=\"M 0 0 M38.479 921.17 L43.3487 921.17 L43.3487 926.771 Q43.3487 929.922 44.6219 931.164 Q45.895 932.373 49.2052 932.373 L52.3562 932.373 L52.3562 922.729 L56.9077 922.729 L56.9077 932.373 L88.0042 932.373 L88.0042 938.261 L56.9077 938.261 L56.9077 943.863 L52.3562 943.863 L52.3562 938.261 L49.8736 938.261 Q43.9216 938.261 41.2162 935.492 Q38.479 932.723 38.479 926.708 L38.479 921.17 Z\" fill=\"#000000\" fill-rule=\"evenodd\" fill-opacity=\"1\" /><path clip-path=\"url(#clip930)\" d=\"M 0 0 M52.3562 915.027 L52.3562 909.17 L88.0042 909.17 L88.0042 915.027 L52.3562 915.027 M38.479 915.027 L38.479 909.17 L45.895 909.17 L45.895 915.027 L38.479 915.027 Z\" fill=\"#000000\" fill-rule=\"evenodd\" fill-opacity=\"1\" /><path clip-path=\"url(#clip930)\" d=\"M 0 0 M53.7248 877.373 L59.1993 877.373 Q57.8307 879.856 57.1623 882.371 Q56.4621 884.853 56.4621 887.399 Q56.4621 893.097 60.0905 896.248 Q63.6872 899.399 70.212 899.399 Q76.7369 899.399 80.3653 896.248 Q83.9619 893.097 83.9619 887.399 Q83.9619 884.853 83.2935 882.371 Q82.5933 879.856 81.2247 877.373 L86.6355 877.373 Q87.7814 879.824 88.3543 882.466 Q88.9272 885.076 88.9272 888.036 Q88.9272 896.089 83.8664 900.831 Q78.8057 905.574 70.212 905.574 Q61.491 905.574 56.4939 900.799 Q51.4968 895.993 51.4968 887.654 Q51.4968 884.949 52.0697 882.371 Q52.6108 879.792 53.7248 877.373 Z\" fill=\"#000000\" fill-rule=\"evenodd\" fill-opacity=\"1\" /><path clip-path=\"url(#clip930)\" d=\"M 0 0 M70.0847 855.03 Q70.0847 862.128 71.7079 864.865 Q73.3312 867.602 77.2461 867.602 Q80.3653 867.602 82.2114 865.565 Q84.0256 863.496 84.0256 859.963 Q84.0256 855.093 80.5881 852.165 Q77.1188 849.205 71.3897 849.205 L70.0847 849.205 L70.0847 855.03 M67.6657 843.349 L88.0042 843.349 L88.0042 849.205 L82.5933 849.205 Q85.8398 851.21 87.3994 854.202 Q88.9272 857.194 88.9272 861.523 Q88.9272 866.997 85.8716 870.244 Q82.7843 873.459 77.6281 873.459 Q71.6125 873.459 68.5569 869.448 Q65.5014 865.406 65.5014 857.417 L65.5014 849.205 L64.9285 849.205 Q60.8862 849.205 58.6901 851.879 Q56.4621 854.521 56.4621 859.327 Q56.4621 862.382 57.1941 865.279 Q57.9262 868.175 59.3903 870.849 L53.9795 870.849 Q52.7381 867.634 52.1334 864.61 Q51.4968 861.587 51.4968 858.722 Q51.4968 850.988 55.5072 847.168 Q59.5176 843.349 67.6657 843.349 Z\" fill=\"#000000\" fill-rule=\"evenodd\" fill-opacity=\"1\" /><path clip-path=\"url(#clip930)\" d=\"M 0 0 M42.2347 831.413 L52.3562 831.413 L52.3562 819.35 L56.9077 819.35 L56.9077 831.413 L76.2594 831.413 Q80.6199 831.413 81.8613 830.235 Q83.1026 829.026 83.1026 825.366 L83.1026 819.35 L88.0042 819.35 L88.0042 825.366 Q88.0042 832.145 85.4897 834.723 Q82.9434 837.301 76.2594 837.301 L56.9077 837.301 L56.9077 841.598 L52.3562 841.598 L52.3562 837.301 L42.2347 837.301 L42.2347 831.413 Z\" fill=\"#000000\" fill-rule=\"evenodd\" fill-opacity=\"1\" /><path clip-path=\"url(#clip930)\" d=\"M 0 0 M52.3562 813.207 L52.3562 807.351 L88.0042 807.351 L88.0042 813.207 L52.3562 813.207 M38.479 813.207 L38.479 807.351 L45.895 807.351 L45.895 813.207 L38.479 813.207 Z\" fill=\"#000000\" fill-rule=\"evenodd\" fill-opacity=\"1\" /><path clip-path=\"url(#clip930)\" d=\"M 0 0 M56.4621 787.394 Q56.4621 792.105 60.1542 794.842 Q63.8145 797.579 70.212 797.579 Q76.6095 797.579 80.3017 794.874 Q83.9619 792.137 83.9619 787.394 Q83.9619 782.715 80.2698 779.978 Q76.5777 777.241 70.212 777.241 Q63.8781 777.241 60.186 779.978 Q56.4621 782.715 56.4621 787.394 M51.4968 787.394 Q51.4968 779.755 56.4621 775.395 Q61.4273 771.034 70.212 771.034 Q78.9649 771.034 83.9619 775.395 Q88.9272 779.755 88.9272 787.394 Q88.9272 795.065 83.9619 799.425 Q78.9649 803.754 70.212 803.754 Q61.4273 803.754 56.4621 799.425 Q51.4968 795.065 51.4968 787.394 Z\" fill=\"#000000\" fill-rule=\"evenodd\" fill-opacity=\"1\" /><path clip-path=\"url(#clip930)\" d=\"M 0 0 M66.4881 735.259 L88.0042 735.259 L88.0042 741.116 L66.679 741.116 Q61.6183 741.116 59.1038 743.089 Q56.5894 745.062 56.5894 749.009 Q56.5894 753.751 59.6131 756.489 Q62.6368 759.226 67.8567 759.226 L88.0042 759.226 L88.0042 765.114 L52.3562 765.114 L52.3562 759.226 L57.8944 759.226 Q54.6797 757.125 53.0883 754.293 Q51.4968 751.428 51.4968 747.704 Q51.4968 741.561 55.3163 738.41 Q59.1038 735.259 66.4881 735.259 Z\" fill=\"#000000\" fill-rule=\"evenodd\" fill-opacity=\"1\" /><path clip-path=\"url(#clip930)\" d=\"M 0 0 M46.818 692.259 L70.4666 700.98 L70.4666 683.506 L46.818 692.259 M40.4842 695.887 L40.4842 688.598 L88.0042 670.488 L88.0042 677.172 L75.8138 681.501 L75.8138 702.921 L88.0042 707.25 L88.0042 714.029 L40.4842 695.887 Z\" fill=\"#000000\" fill-rule=\"evenodd\" fill-opacity=\"1\" /><path clip-path=\"url(#clip930)\" d=\"M 0 0 M53.7248 639.837 L59.1993 639.837 Q57.8307 642.32 57.1623 644.834 Q56.4621 647.317 56.4621 649.863 Q56.4621 655.56 60.0905 658.711 Q63.6872 661.862 70.212 661.862 Q76.7369 661.862 80.3653 658.711 Q83.9619 655.56 83.9619 649.863 Q83.9619 647.317 83.2935 644.834 Q82.5933 642.32 81.2247 639.837 L86.6355 639.837 Q87.7814 642.288 88.3543 644.93 Q88.9272 647.54 88.9272 650.5 Q88.9272 658.552 83.8664 663.295 Q78.8057 668.037 70.212 668.037 Q61.491 668.037 56.4939 663.263 Q51.4968 658.457 51.4968 650.118 Q51.4968 647.412 52.0697 644.834 Q52.6108 642.256 53.7248 639.837 Z\" fill=\"#000000\" fill-rule=\"evenodd\" fill-opacity=\"1\" /><path clip-path=\"url(#clip930)\" d=\"M 0 0 M53.7248 608.04 L59.1993 608.04 Q57.8307 610.523 57.1623 613.037 Q56.4621 615.52 56.4621 618.066 Q56.4621 623.764 60.0905 626.915 Q63.6872 630.066 70.212 630.066 Q76.7369 630.066 80.3653 626.915 Q83.9619 623.764 83.9619 618.066 Q83.9619 615.52 83.2935 613.037 Q82.5933 610.523 81.2247 608.04 L86.6355 608.04 Q87.7814 610.491 88.3543 613.133 Q88.9272 615.743 88.9272 618.703 Q88.9272 626.756 83.8664 631.498 Q78.8057 636.24 70.212 636.24 Q61.491 636.24 56.4939 631.466 Q51.4968 626.66 51.4968 618.321 Q51.4968 615.616 52.0697 613.037 Q52.6108 610.459 53.7248 608.04 Z\" fill=\"#000000\" fill-rule=\"evenodd\" fill-opacity=\"1\" /><path clip-path=\"url(#clip930)\" d=\"M 0 0 M73.9359 602.502 L52.3562 602.502 L52.3562 596.646 L73.7131 596.646 Q78.7739 596.646 81.3202 594.672 Q83.8346 592.699 83.8346 588.752 Q83.8346 584.01 80.8109 581.273 Q77.7872 578.504 72.5673 578.504 L52.3562 578.504 L52.3562 572.647 L88.0042 572.647 L88.0042 578.504 L82.5296 578.504 Q85.7762 580.636 87.3676 583.469 Q88.9272 586.27 88.9272 589.994 Q88.9272 596.137 85.1078 599.319 Q81.2883 602.502 73.9359 602.502 M51.4968 587.766 L51.4968 587.766 Z\" fill=\"#000000\" fill-rule=\"evenodd\" fill-opacity=\"1\" /><path clip-path=\"url(#clip930)\" d=\"M 0 0 M57.8307 545.847 Q57.2578 546.834 57.0032 548.012 Q56.7167 549.158 56.7167 550.558 Q56.7167 555.523 59.9632 558.197 Q63.1779 560.839 69.2253 560.839 L88.0042 560.839 L88.0042 566.727 L52.3562 566.727 L52.3562 560.839 L57.8944 560.839 Q54.6479 558.993 53.0883 556.033 Q51.4968 553.073 51.4968 548.839 Q51.4968 548.235 51.5923 547.503 Q51.656 546.77 51.8151 545.879 L57.8307 545.847 Z\" fill=\"#000000\" fill-rule=\"evenodd\" fill-opacity=\"1\" /><path clip-path=\"url(#clip930)\" d=\"M 0 0 M70.0847 523.504 Q70.0847 530.602 71.7079 533.339 Q73.3312 536.076 77.2461 536.076 Q80.3653 536.076 82.2114 534.039 Q84.0256 531.97 84.0256 528.437 Q84.0256 523.567 80.5881 520.639 Q77.1188 517.679 71.3897 517.679 L70.0847 517.679 L70.0847 523.504 M67.6657 511.823 L88.0042 511.823 L88.0042 517.679 L82.5933 517.679 Q85.8398 519.684 87.3994 522.676 Q88.9272 525.668 88.9272 529.997 Q88.9272 535.471 85.8716 538.718 Q82.7843 541.933 77.6281 541.933 Q71.6125 541.933 68.5569 537.922 Q65.5014 533.88 65.5014 525.891 L65.5014 517.679 L64.9285 517.679 Q60.8862 517.679 58.6901 520.353 Q56.4621 522.995 56.4621 527.801 Q56.4621 530.856 57.1941 533.753 Q57.9262 536.649 59.3903 539.323 L53.9795 539.323 Q52.7381 536.108 52.1334 533.084 Q51.4968 530.061 51.4968 527.196 Q51.4968 519.462 55.5072 515.642 Q59.5176 511.823 67.6657 511.823 Z\" fill=\"#000000\" fill-rule=\"evenodd\" fill-opacity=\"1\" /><path clip-path=\"url(#clip930)\" d=\"M 0 0 M53.7248 480.026 L59.1993 480.026 Q57.8307 482.509 57.1623 485.023 Q56.4621 487.506 56.4621 490.052 Q56.4621 495.749 60.0905 498.9 Q63.6872 502.051 70.212 502.051 Q76.7369 502.051 80.3653 498.9 Q83.9619 495.749 83.9619 490.052 Q83.9619 487.506 83.2935 485.023 Q82.5933 482.509 81.2247 480.026 L86.6355 480.026 Q87.7814 482.477 88.3543 485.119 Q88.9272 487.729 88.9272 490.689 Q88.9272 498.741 83.8664 503.484 Q78.8057 508.226 70.212 508.226 Q61.491 508.226 56.4939 503.452 Q51.4968 498.646 51.4968 490.307 Q51.4968 487.601 52.0697 485.023 Q52.6108 482.445 53.7248 480.026 Z\" fill=\"#000000\" fill-rule=\"evenodd\" fill-opacity=\"1\" /><path clip-path=\"url(#clip930)\" d=\"M 0 0 M91.3143 459.051 Q97.68 461.534 99.6216 463.889 Q101.563 466.244 101.563 470.191 L101.563 474.87 L96.6615 474.87 L96.6615 471.432 Q96.6615 469.013 95.5157 467.677 Q94.3699 466.34 90.1048 464.717 L87.4312 463.666 L52.3562 478.085 L52.3562 471.878 L80.238 460.738 L52.3562 449.598 L52.3562 443.391 L91.3143 459.051 Z\" fill=\"#000000\" fill-rule=\"evenodd\" fill-opacity=\"1\" /><polyline clip-path=\"url(#clip932)\" style=\"stroke:#009af9; stroke-width:4; stroke-opacity:1; fill:none\" points=\"\n",
       "  271.639,160.256 301.352,713.591 331.065,575.257 360.779,658.258 390.492,575.257 420.205,753.115 449.918,575.257 479.632,713.591 509.345,741.258 539.058,537.53 \n",
       "  568.771,506.09 598.485,479.488 628.198,515.971 657.911,492.257 687.625,471.507 717.338,453.198 747.051,529.146 776.764,509.731 806.478,492.257 836.191,515.971 \n",
       "  865.904,575.257 895.617,376.779 925.331,471.507 955.044,492.257 984.757,575.257 1014.47,467.664 1044.18,486.329 1073.9,503.705 1103.61,436.924 1133.32,454.773 \n",
       "  1163.04,549.32 1192.75,462.075 1222.46,526.434 1252.18,563.4 1281.89,598.313 1311.6,541.609 1341.32,597.099 1371.03,564.616 1400.74,513.007 1430.46,544.891 \n",
       "  1460.17,555.495 1489.88,623.513 1519.6,612.985 1549.31,658.258 1579.02,611.344 1608.74,619.406 1638.45,575.257 1668.16,617.604 1697.88,591.857 1727.59,615.944 \n",
       "  1757.3,559.296 1787.02,583.088 1816.73,559.887 1846.44,597.894 1876.16,590.079 1905.87,553.415 1935.58,589.568 1965.29,638.563 1995.01,630.591 2024.72,636.487 \n",
       "  2054.43,481.547 2084.15,476.448 2113.86,601.195 2143.57,632.719 2173.29,524.954 2203,569.063 2232.71,563.051 2262.43,593.301 2292.14,563.4 \n",
       "  \"/>\n",
       "<polyline clip-path=\"url(#clip932)\" style=\"stroke:#e26f46; stroke-width:4; stroke-opacity:1; fill:none\" points=\"\n",
       "  271.639,1386.4 301.352,1339.24 331.065,961.963 360.779,1056.28 390.492,1056.28 420.205,867.644 449.918,867.644 479.632,914.804 509.345,1009.12 539.058,820.485 \n",
       "  568.771,820.485 598.485,867.644 628.198,867.644 657.911,820.485 687.625,867.644 717.338,773.326 747.051,867.644 776.764,820.485 806.478,820.485 836.191,961.963 \n",
       "  865.904,773.326 895.617,773.326 925.331,726.167 955.044,726.167 984.757,726.167 1014.47,773.326 1044.18,726.167 1073.9,820.485 1103.61,820.485 1133.32,820.485 \n",
       "  1163.04,773.326 1192.75,867.644 1222.46,773.326 1252.18,773.326 1281.89,820.485 1311.6,773.326 1341.32,773.326 1371.03,820.485 1400.74,773.326 1430.46,914.804 \n",
       "  1460.17,820.485 1489.88,773.326 1519.6,773.326 1549.31,773.326 1579.02,773.326 1608.74,773.326 1638.45,867.644 1668.16,773.326 1697.88,820.485 1727.59,820.485 \n",
       "  1757.3,867.644 1787.02,773.326 1816.73,867.644 1846.44,773.326 1876.16,867.644 1905.87,773.326 1935.58,773.326 1965.29,679.008 1995.01,773.326 2024.72,726.167 \n",
       "  2054.43,490.371 2084.15,490.371 2113.86,584.689 2143.57,820.485 2173.29,584.689 2203,679.008 2232.71,773.326 2262.43,679.008 2292.14,631.848 \n",
       "  \"/>\n",
       "<path clip-path=\"url(#clip930)\" d=\"\n",
       "M1844.07 1379.86 L2281.36 1379.86 L2281.36 1198.42 L1844.07 1198.42  Z\n",
       "  \" fill=\"#ffffff\" fill-rule=\"evenodd\" fill-opacity=\"1\"/>\n",
       "<polyline clip-path=\"url(#clip930)\" style=\"stroke:#000000; stroke-width:4; stroke-opacity:1; fill:none\" points=\"\n",
       "  1844.07,1379.86 2281.36,1379.86 2281.36,1198.42 1844.07,1198.42 1844.07,1379.86 \n",
       "  \"/>\n",
       "<polyline clip-path=\"url(#clip930)\" style=\"stroke:#009af9; stroke-width:4; stroke-opacity:1; fill:none\" points=\"\n",
       "  1867.86,1258.9 2010.65,1258.9 \n",
       "  \"/>\n",
       "<path clip-path=\"url(#clip930)\" d=\"M 0 0 M2034.44 1241.62 L2063.68 1241.62 L2063.68 1245.55 L2051.41 1245.55 L2051.41 1276.18 L2046.71 1276.18 L2046.71 1245.55 L2034.44 1245.55 L2034.44 1241.62 Z\" fill=\"#000000\" fill-rule=\"evenodd\" fill-opacity=\"1\" /><path clip-path=\"url(#clip930)\" d=\"M 0 0 M2076.2 1254.23 Q2075.48 1253.82 2074.63 1253.63 Q2073.79 1253.42 2072.78 1253.42 Q2069.17 1253.42 2067.22 1255.78 Q2065.3 1258.12 2065.3 1262.52 L2065.3 1276.18 L2061.02 1276.18 L2061.02 1250.25 L2065.3 1250.25 L2065.3 1254.28 Q2066.64 1251.92 2068.79 1250.78 Q2070.95 1249.63 2074.03 1249.63 Q2074.47 1249.63 2075 1249.69 Q2075.53 1249.74 2076.18 1249.86 L2076.2 1254.23 Z\" fill=\"#000000\" fill-rule=\"evenodd\" fill-opacity=\"1\" /><path clip-path=\"url(#clip930)\" d=\"M 0 0 M2092.45 1263.14 Q2087.29 1263.14 2085.3 1264.32 Q2083.31 1265.51 2083.31 1268.35 Q2083.31 1270.62 2084.79 1271.96 Q2086.29 1273.28 2088.86 1273.28 Q2092.41 1273.28 2094.54 1270.78 Q2096.69 1268.26 2096.69 1264.09 L2096.69 1263.14 L2092.45 1263.14 M2100.95 1261.38 L2100.95 1276.18 L2096.69 1276.18 L2096.69 1272.24 Q2095.23 1274.6 2093.05 1275.74 Q2090.88 1276.85 2087.73 1276.85 Q2083.75 1276.85 2081.39 1274.63 Q2079.05 1272.38 2079.05 1268.63 Q2079.05 1264.26 2081.97 1262.03 Q2084.91 1259.81 2090.72 1259.81 L2096.69 1259.81 L2096.69 1259.39 Q2096.69 1256.45 2094.74 1254.86 Q2092.82 1253.24 2089.33 1253.24 Q2087.1 1253.24 2085 1253.77 Q2082.89 1254.3 2080.95 1255.37 L2080.95 1251.43 Q2083.29 1250.53 2085.48 1250.09 Q2087.68 1249.63 2089.77 1249.63 Q2095.39 1249.63 2098.17 1252.54 Q2100.95 1255.46 2100.95 1261.38 Z\" fill=\"#000000\" fill-rule=\"evenodd\" fill-opacity=\"1\" /><path clip-path=\"url(#clip930)\" d=\"M 0 0 M2105.41 1250.25 L2109.67 1250.25 L2109.67 1276.18 L2105.41 1276.18 L2105.41 1250.25 M2105.41 1240.16 L2109.67 1240.16 L2109.67 1245.55 L2105.41 1245.55 L2105.41 1240.16 Z\" fill=\"#000000\" fill-rule=\"evenodd\" fill-opacity=\"1\" /><path clip-path=\"url(#clip930)\" d=\"M 0 0 M2135.69 1260.53 L2135.69 1276.18 L2131.43 1276.18 L2131.43 1260.67 Q2131.43 1256.99 2130 1255.16 Q2128.56 1253.33 2125.69 1253.33 Q2122.24 1253.33 2120.25 1255.53 Q2118.26 1257.73 2118.26 1261.52 L2118.26 1276.18 L2113.98 1276.18 L2113.98 1250.25 L2118.26 1250.25 L2118.26 1254.28 Q2119.79 1251.94 2121.85 1250.78 Q2123.93 1249.63 2126.64 1249.63 Q2131.11 1249.63 2133.4 1252.4 Q2135.69 1255.16 2135.69 1260.53 Z\" fill=\"#000000\" fill-rule=\"evenodd\" fill-opacity=\"1\" /><path clip-path=\"url(#clip930)\" d=\"M 0 0 M2140.16 1250.25 L2144.42 1250.25 L2144.42 1276.18 L2140.16 1276.18 L2140.16 1250.25 M2140.16 1240.16 L2144.42 1240.16 L2144.42 1245.55 L2140.16 1245.55 L2140.16 1240.16 Z\" fill=\"#000000\" fill-rule=\"evenodd\" fill-opacity=\"1\" /><path clip-path=\"url(#clip930)\" d=\"M 0 0 M2170.44 1260.53 L2170.44 1276.18 L2166.18 1276.18 L2166.18 1260.67 Q2166.18 1256.99 2164.74 1255.16 Q2163.31 1253.33 2160.44 1253.33 Q2156.99 1253.33 2155 1255.53 Q2153.01 1257.73 2153.01 1261.52 L2153.01 1276.18 L2148.72 1276.18 L2148.72 1250.25 L2153.01 1250.25 L2153.01 1254.28 Q2154.54 1251.94 2156.6 1250.78 Q2158.68 1249.63 2161.39 1249.63 Q2165.85 1249.63 2168.15 1252.4 Q2170.44 1255.16 2170.44 1260.53 Z\" fill=\"#000000\" fill-rule=\"evenodd\" fill-opacity=\"1\" /><path clip-path=\"url(#clip930)\" d=\"M 0 0 M2191.97 1262.91 Q2191.97 1258.28 2190.04 1255.74 Q2188.15 1253.19 2184.7 1253.19 Q2181.27 1253.19 2179.35 1255.74 Q2177.45 1258.28 2177.45 1262.91 Q2177.45 1267.52 2179.35 1270.07 Q2181.27 1272.61 2184.7 1272.61 Q2188.15 1272.61 2190.04 1270.07 Q2191.97 1267.52 2191.97 1262.91 M2196.22 1272.96 Q2196.22 1279.58 2193.28 1282.8 Q2190.35 1286.04 2184.28 1286.04 Q2182.03 1286.04 2180.04 1285.69 Q2178.05 1285.37 2176.18 1284.67 L2176.18 1280.53 Q2178.05 1281.55 2179.88 1282.03 Q2181.71 1282.52 2183.61 1282.52 Q2187.8 1282.52 2189.88 1280.32 Q2191.97 1278.14 2191.97 1273.72 L2191.97 1271.62 Q2190.65 1273.91 2188.59 1275.04 Q2186.53 1276.18 2183.66 1276.18 Q2178.89 1276.18 2175.97 1272.54 Q2173.05 1268.91 2173.05 1262.91 Q2173.05 1256.89 2175.97 1253.26 Q2178.89 1249.63 2183.66 1249.63 Q2186.53 1249.63 2188.59 1250.76 Q2190.65 1251.89 2191.97 1254.19 L2191.97 1250.25 L2196.22 1250.25 L2196.22 1272.96 Z\" fill=\"#000000\" fill-rule=\"evenodd\" fill-opacity=\"1\" /><polyline clip-path=\"url(#clip930)\" style=\"stroke:#e26f46; stroke-width:4; stroke-opacity:1; fill:none\" points=\"\n",
       "  1867.86,1319.38 2010.65,1319.38 \n",
       "  \"/>\n",
       "<path clip-path=\"url(#clip930)\" d=\"M 0 0 M2047.64 1336.66 L2034.44 1302.1 L2039.33 1302.1 L2050.28 1331.19 L2061.25 1302.1 L2066.11 1302.1 L2052.94 1336.66 L2047.64 1336.66 Z\" fill=\"#000000\" fill-rule=\"evenodd\" fill-opacity=\"1\" /><path clip-path=\"url(#clip930)\" d=\"M 0 0 M2078.68 1323.62 Q2073.52 1323.62 2071.53 1324.8 Q2069.54 1325.99 2069.54 1328.83 Q2069.54 1331.1 2071.02 1332.44 Q2072.52 1333.76 2075.09 1333.76 Q2078.63 1333.76 2080.76 1331.26 Q2082.92 1328.74 2082.92 1324.57 L2082.92 1323.62 L2078.68 1323.62 M2087.17 1321.86 L2087.17 1336.66 L2082.92 1336.66 L2082.92 1332.72 Q2081.46 1335.08 2079.28 1336.22 Q2077.1 1337.33 2073.96 1337.33 Q2069.98 1337.33 2067.61 1335.11 Q2065.28 1332.86 2065.28 1329.11 Q2065.28 1324.74 2068.19 1322.51 Q2071.13 1320.29 2076.94 1320.29 L2082.92 1320.29 L2082.92 1319.87 Q2082.92 1316.93 2080.97 1315.34 Q2079.05 1313.72 2075.55 1313.72 Q2073.33 1313.72 2071.23 1314.25 Q2069.12 1314.78 2067.17 1315.85 L2067.17 1311.91 Q2069.51 1311.01 2071.71 1310.57 Q2073.91 1310.11 2075.99 1310.11 Q2081.62 1310.11 2084.4 1313.02 Q2087.17 1315.94 2087.17 1321.86 Z\" fill=\"#000000\" fill-rule=\"evenodd\" fill-opacity=\"1\" /><path clip-path=\"url(#clip930)\" d=\"M 0 0 M2091.64 1300.64 L2095.9 1300.64 L2095.9 1336.66 L2091.64 1336.66 L2091.64 1300.64 Z\" fill=\"#000000\" fill-rule=\"evenodd\" fill-opacity=\"1\" /><path clip-path=\"url(#clip930)\" d=\"M 0 0 M2100.37 1310.73 L2104.63 1310.73 L2104.63 1336.66 L2100.37 1336.66 L2100.37 1310.73 M2100.37 1300.64 L2104.63 1300.64 L2104.63 1306.03 L2100.37 1306.03 L2100.37 1300.64 Z\" fill=\"#000000\" fill-rule=\"evenodd\" fill-opacity=\"1\" /><path clip-path=\"url(#clip930)\" d=\"M 0 0 M2126.16 1314.67 L2126.16 1300.64 L2130.41 1300.64 L2130.41 1336.66 L2126.16 1336.66 L2126.16 1332.77 Q2124.81 1335.08 2122.75 1336.22 Q2120.72 1337.33 2117.85 1337.33 Q2113.15 1337.33 2110.18 1333.58 Q2107.24 1329.83 2107.24 1323.72 Q2107.24 1317.61 2110.18 1313.86 Q2113.15 1310.11 2117.85 1310.11 Q2120.72 1310.11 2122.75 1311.24 Q2124.81 1312.35 2126.16 1314.67 M2111.64 1323.72 Q2111.64 1328.42 2113.56 1331.1 Q2115.51 1333.76 2118.89 1333.76 Q2122.27 1333.76 2124.21 1331.1 Q2126.16 1328.42 2126.16 1323.72 Q2126.16 1319.02 2124.21 1316.36 Q2122.27 1313.67 2118.89 1313.67 Q2115.51 1313.67 2113.56 1316.36 Q2111.64 1319.02 2111.64 1323.72 Z\" fill=\"#000000\" fill-rule=\"evenodd\" fill-opacity=\"1\" /><path clip-path=\"url(#clip930)\" d=\"M 0 0 M2146.66 1323.62 Q2141.5 1323.62 2139.51 1324.8 Q2137.52 1325.99 2137.52 1328.83 Q2137.52 1331.1 2139 1332.44 Q2140.51 1333.76 2143.08 1333.76 Q2146.62 1333.76 2148.75 1331.26 Q2150.9 1328.74 2150.9 1324.57 L2150.9 1323.62 L2146.66 1323.62 M2155.16 1321.86 L2155.16 1336.66 L2150.9 1336.66 L2150.9 1332.72 Q2149.44 1335.08 2147.27 1336.22 Q2145.09 1337.33 2141.94 1337.33 Q2137.96 1337.33 2135.6 1335.11 Q2133.26 1332.86 2133.26 1329.11 Q2133.26 1324.74 2136.18 1322.51 Q2139.12 1320.29 2144.93 1320.29 L2150.9 1320.29 L2150.9 1319.87 Q2150.9 1316.93 2148.96 1315.34 Q2147.04 1313.72 2143.54 1313.72 Q2141.32 1313.72 2139.21 1314.25 Q2137.1 1314.78 2135.16 1315.85 L2135.16 1311.91 Q2137.5 1311.01 2139.7 1310.57 Q2141.9 1310.11 2143.98 1310.11 Q2149.6 1310.11 2152.38 1313.02 Q2155.16 1315.94 2155.16 1321.86 Z\" fill=\"#000000\" fill-rule=\"evenodd\" fill-opacity=\"1\" /><path clip-path=\"url(#clip930)\" d=\"M 0 0 M2163.84 1303.37 L2163.84 1310.73 L2172.61 1310.73 L2172.61 1314.04 L2163.84 1314.04 L2163.84 1328.11 Q2163.84 1331.29 2164.7 1332.19 Q2165.58 1333.09 2168.24 1333.09 L2172.61 1333.09 L2172.61 1336.66 L2168.24 1336.66 Q2163.31 1336.66 2161.43 1334.83 Q2159.56 1332.98 2159.56 1328.11 L2159.56 1314.04 L2156.43 1314.04 L2156.43 1310.73 L2159.56 1310.73 L2159.56 1303.37 L2163.84 1303.37 Z\" fill=\"#000000\" fill-rule=\"evenodd\" fill-opacity=\"1\" /><path clip-path=\"url(#clip930)\" d=\"M 0 0 M2177.08 1310.73 L2181.34 1310.73 L2181.34 1336.66 L2177.08 1336.66 L2177.08 1310.73 M2177.08 1300.64 L2181.34 1300.64 L2181.34 1306.03 L2177.08 1306.03 L2177.08 1300.64 Z\" fill=\"#000000\" fill-rule=\"evenodd\" fill-opacity=\"1\" /><path clip-path=\"url(#clip930)\" d=\"M 0 0 M2195.85 1313.72 Q2192.43 1313.72 2190.44 1316.4 Q2188.45 1319.06 2188.45 1323.72 Q2188.45 1328.37 2190.41 1331.05 Q2192.41 1333.72 2195.85 1333.72 Q2199.26 1333.72 2201.25 1331.03 Q2203.24 1328.35 2203.24 1323.72 Q2203.24 1319.11 2201.25 1316.42 Q2199.26 1313.72 2195.85 1313.72 M2195.85 1310.11 Q2201.41 1310.11 2204.58 1313.72 Q2207.75 1317.33 2207.75 1323.72 Q2207.75 1330.08 2204.58 1333.72 Q2201.41 1337.33 2195.85 1337.33 Q2190.28 1337.33 2187.1 1333.72 Q2183.96 1330.08 2183.96 1323.72 Q2183.96 1317.33 2187.1 1313.72 Q2190.28 1310.11 2195.85 1310.11 Z\" fill=\"#000000\" fill-rule=\"evenodd\" fill-opacity=\"1\" /><path clip-path=\"url(#clip930)\" d=\"M 0 0 M2233.77 1321.01 L2233.77 1336.66 L2229.51 1336.66 L2229.51 1321.15 Q2229.51 1317.47 2228.08 1315.64 Q2226.64 1313.81 2223.77 1313.81 Q2220.32 1313.81 2218.33 1316.01 Q2216.34 1318.21 2216.34 1322 L2216.34 1336.66 L2212.06 1336.66 L2212.06 1310.73 L2216.34 1310.73 L2216.34 1314.76 Q2217.87 1312.42 2219.93 1311.26 Q2222.01 1310.11 2224.72 1310.11 Q2229.19 1310.11 2231.48 1312.88 Q2233.77 1315.64 2233.77 1321.01 Z\" fill=\"#000000\" fill-rule=\"evenodd\" fill-opacity=\"1\" /></svg>\n"
      ]
     },
     "execution_count": 41,
     "metadata": {},
     "output_type": "execute_result"
    }
   ],
   "source": [
    "plot(data_schedule, training_losses, label=\"Training\", legend=:bottomright)\n",
    "plot!(data_schedule, valid_losses, label=\"Validation\")\n",
    "ylabel!(\"Classification Accuracy\")\n",
    "xlabel!(\"Training Set Size\")\n",
    "title!(\"Linear (C = $(round(best_linear_model.C,digits=5)))\")"
   ]
  },
  {
   "cell_type": "code",
   "execution_count": 42,
   "metadata": {},
   "outputs": [],
   "source": [
    "fn = \"Figures/SVM_Linear_LC\"\n",
    "png(replace(fn,'.' => ','))"
   ]
  },
  {
   "cell_type": "markdown",
   "metadata": {},
   "source": [
    "#### Final Results"
   ]
  },
  {
   "cell_type": "markdown",
   "metadata": {},
   "source": [
    "Linear SVM"
   ]
  },
  {
   "cell_type": "code",
   "execution_count": 43,
   "metadata": {},
   "outputs": [
    {
     "data": {
      "text/plain": [
       "\u001b[34mMachine{SVMClassifier} @519\u001b[39m trained 0 times.\n",
       "  args: \n",
       "    1:\t\u001b[34mSource @891\u001b[39m ⏎ `Table{AbstractArray{Continuous,1}}`\n",
       "    2:\t\u001b[34mSource @497\u001b[39m ⏎ `AbstractArray{Multiclass{3},1}`\n"
      ]
     },
     "execution_count": 43,
     "metadata": {},
     "output_type": "execute_result"
    }
   ],
   "source": [
    "Final_SVM = machine(best_linear_model, X, y)"
   ]
  },
  {
   "cell_type": "code",
   "execution_count": 44,
   "metadata": {},
   "outputs": [
    {
     "name": "stderr",
     "output_type": "stream",
     "text": [
      "┌ Info: Training \u001b[34mMachine{SVMClassifier} @519\u001b[39m.\n",
      "└ @ MLJBase /home/andrew/.julia/packages/MLJBase/uKzAz/src/machines.jl:319\n"
     ]
    },
    {
     "data": {
      "text/plain": [
       "\u001b[34mMachine{SVMClassifier} @519\u001b[39m trained 1 time.\n",
       "  args: \n",
       "    1:\t\u001b[34mSource @891\u001b[39m ⏎ `Table{AbstractArray{Continuous,1}}`\n",
       "    2:\t\u001b[34mSource @497\u001b[39m ⏎ `AbstractArray{Multiclass{3},1}`\n"
      ]
     },
     "execution_count": 44,
     "metadata": {},
     "output_type": "execute_result"
    }
   ],
   "source": [
    "fit!(Final_SVM, rows=train, verbosity=2)"
   ]
  },
  {
   "cell_type": "code",
   "execution_count": 45,
   "metadata": {},
   "outputs": [],
   "source": [
    "ŷ = MLJ.predict(Final_SVM, X[test,:]);"
   ]
  },
  {
   "cell_type": "code",
   "execution_count": 46,
   "metadata": {},
   "outputs": [
    {
     "data": {
      "text/plain": [
       "0.9037433155080214"
      ]
     },
     "execution_count": 46,
     "metadata": {},
     "output_type": "execute_result"
    }
   ],
   "source": [
    "accuracy(ŷ, y[test])"
   ]
  },
  {
   "cell_type": "code",
   "execution_count": 47,
   "metadata": {
    "scrolled": false
   },
   "outputs": [
    {
     "name": "stderr",
     "output_type": "stream",
     "text": [
      "┌ Warning: The classes are un-ordered,\n",
      "│ using order: [\"B\", \"L\", \"R\"].\n",
      "│ To suppress this warning, consider coercing to OrderedFactor.\n",
      "└ @ MLJBase /home/andrew/.julia/packages/MLJBase/uKzAz/src/measures/confusion_matrix.jl:87\n"
     ]
    },
    {
     "data": {
      "text/plain": [
       "              ┌─────────────────────────────────────────┐\n",
       "              │              Ground Truth               │\n",
       "┌─────────────┼─────────────┬─────────────┬─────────────┤\n",
       "│  Predicted  │      B      │      L      │      R      │\n",
       "├─────────────┼─────────────┼─────────────┼─────────────┤\n",
       "│      B      │     10      │      7      │      5      │\n",
       "├─────────────┼─────────────┼─────────────┼─────────────┤\n",
       "│      L      │      2      │     68      │      1      │\n",
       "├─────────────┼─────────────┼─────────────┼─────────────┤\n",
       "│      R      │      1      │      2      │     91      │\n",
       "└─────────────┴─────────────┴─────────────┴─────────────┘\n"
      ]
     },
     "execution_count": 47,
     "metadata": {},
     "output_type": "execute_result"
    }
   ],
   "source": [
    "c1 = confusion_matrix(ŷ, y[test])"
   ]
  },
  {
   "cell_type": "code",
   "execution_count": null,
   "metadata": {},
   "outputs": [],
   "source": [
    "19/(19+198)"
   ]
  },
  {
   "cell_type": "code",
   "execution_count": null,
   "metadata": {},
   "outputs": [],
   "source": [
    "19/(19+81)"
   ]
  },
  {
   "cell_type": "markdown",
   "metadata": {},
   "source": [
    "### Second look at `rbf`"
   ]
  },
  {
   "cell_type": "code",
   "execution_count": 49,
   "metadata": {},
   "outputs": [
    {
     "data": {
      "text/plain": [
       "MLJBase.NumericRange(Float64, :gamma, ... )"
      ]
     },
     "execution_count": 49,
     "metadata": {},
     "output_type": "execute_result"
    }
   ],
   "source": [
    "r1 = range(Float64, :C, lower=10^-1, upper=10^4, scale=:log10)\n",
    "r2 = range(Float64, :gamma, lower=5*10^-5, upper=10^-1, scale=:log10)"
   ]
  },
  {
   "cell_type": "code",
   "execution_count": 50,
   "metadata": {
    "scrolled": true
   },
   "outputs": [
    {
     "data": {
      "text/plain": [
       "DeterministicTunedModel(\n",
       "    model = SVMClassifier(\n",
       "            C = 1.0,\n",
       "            kernel = \"rbf\",\n",
       "            degree = 3,\n",
       "            gamma = \"auto\",\n",
       "            coef0 = 0.0,\n",
       "            shrinking = true,\n",
       "            tol = 0.001,\n",
       "            cache_size = 2000,\n",
       "            max_iter = -1,\n",
       "            decision_function_shape = \"ovr\",\n",
       "            random_state = nothing),\n",
       "    tuning = Grid(\n",
       "            goal = 500,\n",
       "            resolution = 10,\n",
       "            shuffle = true,\n",
       "            rng = Random._GLOBAL_RNG()),\n",
       "    resampling = CV(\n",
       "            nfolds = 6,\n",
       "            shuffle = false,\n",
       "            rng = Random._GLOBAL_RNG()),\n",
       "    measure = accuracy(),\n",
       "    weights = nothing,\n",
       "    operation = MLJModelInterface.predict,\n",
       "    range = MLJBase.NumericRange{Float64,MLJBase.Bounded,Symbol}[\u001b[34mNumericRange{Float64,…} @503\u001b[39m, \u001b[34mNumericRange{Float64,…} @033\u001b[39m],\n",
       "    train_best = true,\n",
       "    repeats = 1,\n",
       "    n = nothing,\n",
       "    acceleration = CPUThreads{Int64}(1),\n",
       "    acceleration_resampling = CPU1{Nothing}(nothing),\n",
       "    check_measure = true)\u001b[34m @809\u001b[39m"
      ]
     },
     "execution_count": 50,
     "metadata": {},
     "output_type": "execute_result"
    }
   ],
   "source": [
    "svm_rbf_model = SVMClassifier(kernel=\"rbf\", cache_size=2000)\n",
    "self_tuning_svm_model = TunedModel(model=svm_rbf_model,\n",
    "                                    tuning=Grid(goal=500),\n",
    "                                    resampling=CV(), \n",
    "                                    measure=accuracy,\n",
    "                                    acceleration=CPUThreads(),\n",
    "                                    range=[r1,r2])"
   ]
  },
  {
   "cell_type": "code",
   "execution_count": 51,
   "metadata": {},
   "outputs": [
    {
     "data": {
      "text/plain": [
       "\u001b[34mMachine{DeterministicTunedModel{Grid,…}} @298\u001b[39m trained 0 times.\n",
       "  args: \n",
       "    1:\t\u001b[34mSource @998\u001b[39m ⏎ `Table{AbstractArray{Continuous,1}}`\n",
       "    2:\t\u001b[34mSource @277\u001b[39m ⏎ `AbstractArray{Multiclass{3},1}`\n"
      ]
     },
     "execution_count": 51,
     "metadata": {},
     "output_type": "execute_result"
    }
   ],
   "source": [
    "self_tuning_svm_mach = machine(self_tuning_svm_model, X, y)"
   ]
  },
  {
   "cell_type": "code",
   "execution_count": 52,
   "metadata": {
    "scrolled": true
   },
   "outputs": [
    {
     "name": "stderr",
     "output_type": "stream",
     "text": [
      "┌ Info: Training \u001b[34mMachine{DeterministicTunedModel{Grid,…}} @298\u001b[39m.\n",
      "└ @ MLJBase /home/andrew/.julia/packages/MLJBase/uKzAz/src/machines.jl:319\n",
      "┌ Info: Attempting to evaluate 484 models.\n",
      "└ @ MLJTuning /home/andrew/.julia/packages/MLJTuning/Bbgvk/src/tuned_models.jl:494\n",
      "\u001b[33mEvaluating over 484 metamodels: 100%[=========================] Time: 0:00:13\u001b[39m\n"
     ]
    },
    {
     "data": {
      "text/plain": [
       "\u001b[34mMachine{DeterministicTunedModel{Grid,…}} @298\u001b[39m trained 1 time.\n",
       "  args: \n",
       "    1:\t\u001b[34mSource @998\u001b[39m ⏎ `Table{AbstractArray{Continuous,1}}`\n",
       "    2:\t\u001b[34mSource @277\u001b[39m ⏎ `AbstractArray{Multiclass{3},1}`\n"
      ]
     },
     "execution_count": 52,
     "metadata": {},
     "output_type": "execute_result"
    }
   ],
   "source": [
    "z = fit!(self_tuning_svm_mach, rows=train)"
   ]
  },
  {
   "cell_type": "code",
   "execution_count": 53,
   "metadata": {},
   "outputs": [
    {
     "data": {
      "image/svg+xml": [
       "<?xml version=\"1.0\" encoding=\"utf-8\"?>\n",
       "<svg xmlns=\"http://www.w3.org/2000/svg\" xmlns:xlink=\"http://www.w3.org/1999/xlink\" width=\"600\" height=\"400\" viewBox=\"0 0 2400 1600\">\n",
       "<defs>\n",
       "  <clipPath id=\"clip980\">\n",
       "    <rect x=\"0\" y=\"0\" width=\"2400\" height=\"1600\"/>\n",
       "  </clipPath>\n",
       "</defs>\n",
       "<path clip-path=\"url(#clip980)\" d=\"\n",
       "M0 1600 L2400 1600 L2400 0 L0 0  Z\n",
       "  \" fill=\"#ffffff\" fill-rule=\"evenodd\" fill-opacity=\"1\"/>\n",
       "<defs>\n",
       "  <clipPath id=\"clip981\">\n",
       "    <rect x=\"480\" y=\"0\" width=\"1681\" height=\"1600\"/>\n",
       "  </clipPath>\n",
       "</defs>\n",
       "<path clip-path=\"url(#clip980)\" d=\"\n",
       "M244.308 1410.9 L2112.76 1410.9 L2112.76 123.472 L244.308 123.472  Z\n",
       "  \" fill=\"#ffffff\" fill-rule=\"evenodd\" fill-opacity=\"1\"/>\n",
       "<defs>\n",
       "  <clipPath id=\"clip982\">\n",
       "    <rect x=\"244\" y=\"123\" width=\"1869\" height=\"1288\"/>\n",
       "  </clipPath>\n",
       "</defs>\n",
       "<polyline clip-path=\"url(#clip982)\" style=\"stroke:#000000; stroke-width:2; stroke-opacity:0.1; fill:none\" points=\"\n",
       "  297.188,1410.9 297.188,123.472 \n",
       "  \"/>\n",
       "<polyline clip-path=\"url(#clip982)\" style=\"stroke:#000000; stroke-width:2; stroke-opacity:0.1; fill:none\" points=\"\n",
       "  649.726,1410.9 649.726,123.472 \n",
       "  \"/>\n",
       "<polyline clip-path=\"url(#clip982)\" style=\"stroke:#000000; stroke-width:2; stroke-opacity:0.1; fill:none\" points=\"\n",
       "  1002.26,1410.9 1002.26,123.472 \n",
       "  \"/>\n",
       "<polyline clip-path=\"url(#clip982)\" style=\"stroke:#000000; stroke-width:2; stroke-opacity:0.1; fill:none\" points=\"\n",
       "  1354.8,1410.9 1354.8,123.472 \n",
       "  \"/>\n",
       "<polyline clip-path=\"url(#clip982)\" style=\"stroke:#000000; stroke-width:2; stroke-opacity:0.1; fill:none\" points=\"\n",
       "  1707.34,1410.9 1707.34,123.472 \n",
       "  \"/>\n",
       "<polyline clip-path=\"url(#clip982)\" style=\"stroke:#000000; stroke-width:2; stroke-opacity:0.1; fill:none\" points=\"\n",
       "  2059.88,1410.9 2059.88,123.472 \n",
       "  \"/>\n",
       "<polyline clip-path=\"url(#clip982)\" style=\"stroke:#000000; stroke-width:2; stroke-opacity:0.1; fill:none\" points=\"\n",
       "  244.308,1263.7 2112.76,1263.7 \n",
       "  \"/>\n",
       "<polyline clip-path=\"url(#clip982)\" style=\"stroke:#000000; stroke-width:2; stroke-opacity:0.1; fill:none\" points=\"\n",
       "  244.308,895.771 2112.76,895.771 \n",
       "  \"/>\n",
       "<polyline clip-path=\"url(#clip982)\" style=\"stroke:#000000; stroke-width:2; stroke-opacity:0.1; fill:none\" points=\"\n",
       "  244.308,527.84 2112.76,527.84 \n",
       "  \"/>\n",
       "<polyline clip-path=\"url(#clip982)\" style=\"stroke:#000000; stroke-width:2; stroke-opacity:0.1; fill:none\" points=\"\n",
       "  244.308,159.909 2112.76,159.909 \n",
       "  \"/>\n",
       "<polyline clip-path=\"url(#clip980)\" style=\"stroke:#000000; stroke-width:4; stroke-opacity:1; fill:none\" points=\"\n",
       "  244.308,1410.9 2112.76,1410.9 \n",
       "  \"/>\n",
       "<polyline clip-path=\"url(#clip980)\" style=\"stroke:#000000; stroke-width:4; stroke-opacity:1; fill:none\" points=\"\n",
       "  244.308,1410.9 244.308,123.472 \n",
       "  \"/>\n",
       "<polyline clip-path=\"url(#clip980)\" style=\"stroke:#000000; stroke-width:4; stroke-opacity:1; fill:none\" points=\"\n",
       "  297.188,1410.9 297.188,1395.45 \n",
       "  \"/>\n",
       "<polyline clip-path=\"url(#clip980)\" style=\"stroke:#000000; stroke-width:4; stroke-opacity:1; fill:none\" points=\"\n",
       "  649.726,1410.9 649.726,1395.45 \n",
       "  \"/>\n",
       "<polyline clip-path=\"url(#clip980)\" style=\"stroke:#000000; stroke-width:4; stroke-opacity:1; fill:none\" points=\"\n",
       "  1002.26,1410.9 1002.26,1395.45 \n",
       "  \"/>\n",
       "<polyline clip-path=\"url(#clip980)\" style=\"stroke:#000000; stroke-width:4; stroke-opacity:1; fill:none\" points=\"\n",
       "  1354.8,1410.9 1354.8,1395.45 \n",
       "  \"/>\n",
       "<polyline clip-path=\"url(#clip980)\" style=\"stroke:#000000; stroke-width:4; stroke-opacity:1; fill:none\" points=\"\n",
       "  1707.34,1410.9 1707.34,1395.45 \n",
       "  \"/>\n",
       "<polyline clip-path=\"url(#clip980)\" style=\"stroke:#000000; stroke-width:4; stroke-opacity:1; fill:none\" points=\"\n",
       "  2059.88,1410.9 2059.88,1395.45 \n",
       "  \"/>\n",
       "<polyline clip-path=\"url(#clip980)\" style=\"stroke:#000000; stroke-width:4; stroke-opacity:1; fill:none\" points=\"\n",
       "  244.308,1263.7 266.729,1263.7 \n",
       "  \"/>\n",
       "<polyline clip-path=\"url(#clip980)\" style=\"stroke:#000000; stroke-width:4; stroke-opacity:1; fill:none\" points=\"\n",
       "  244.308,895.771 266.729,895.771 \n",
       "  \"/>\n",
       "<polyline clip-path=\"url(#clip980)\" style=\"stroke:#000000; stroke-width:4; stroke-opacity:1; fill:none\" points=\"\n",
       "  244.308,527.84 266.729,527.84 \n",
       "  \"/>\n",
       "<polyline clip-path=\"url(#clip980)\" style=\"stroke:#000000; stroke-width:4; stroke-opacity:1; fill:none\" points=\"\n",
       "  244.308,159.909 266.729,159.909 \n",
       "  \"/>\n",
       "<path clip-path=\"url(#clip980)\" d=\"M 0 0 M251.532 1481.97 L259.171 1481.97 L259.171 1455.6 L250.86 1457.27 L250.86 1453.01 L259.124 1451.34 L263.8 1451.34 L263.8 1481.97 L271.439 1481.97 L271.439 1485.9 L251.532 1485.9 L251.532 1481.97 Z\" fill=\"#000000\" fill-rule=\"evenodd\" fill-opacity=\"1\" /><path clip-path=\"url(#clip980)\" d=\"M 0 0 M286.508 1454.42 Q282.897 1454.42 281.069 1457.99 Q279.263 1461.53 279.263 1468.66 Q279.263 1475.77 281.069 1479.33 Q282.897 1482.87 286.508 1482.87 Q290.143 1482.87 291.948 1479.33 Q293.777 1475.77 293.777 1468.66 Q293.777 1461.53 291.948 1457.99 Q290.143 1454.42 286.508 1454.42 M286.508 1450.72 Q292.319 1450.72 295.374 1455.33 Q298.453 1459.91 298.453 1468.66 Q298.453 1477.39 295.374 1481.99 Q292.319 1486.58 286.508 1486.58 Q280.698 1486.58 277.62 1481.99 Q274.564 1477.39 274.564 1468.66 Q274.564 1459.91 277.62 1455.33 Q280.698 1450.72 286.508 1450.72 Z\" fill=\"#000000\" fill-rule=\"evenodd\" fill-opacity=\"1\" /><path clip-path=\"url(#clip980)\" d=\"M 0 0 M298.453 1444.82 L322.564 1444.82 L322.564 1448.02 L298.453 1448.02 L298.453 1444.82 Z\" fill=\"#000000\" fill-rule=\"evenodd\" fill-opacity=\"1\" /><path clip-path=\"url(#clip980)\" d=\"M 0 0 M327.341 1455.3 L333.548 1455.3 L333.548 1433.87 L326.796 1435.23 L326.796 1431.77 L333.51 1430.41 L337.31 1430.41 L337.31 1455.3 L343.516 1455.3 L343.516 1458.49 L327.341 1458.49 L327.341 1455.3 Z\" fill=\"#000000\" fill-rule=\"evenodd\" fill-opacity=\"1\" /><path clip-path=\"url(#clip980)\" d=\"M 0 0 M616.896 1481.97 L624.535 1481.97 L624.535 1455.6 L616.225 1457.27 L616.225 1453.01 L624.489 1451.34 L629.164 1451.34 L629.164 1481.97 L636.803 1481.97 L636.803 1485.9 L616.896 1485.9 L616.896 1481.97 Z\" fill=\"#000000\" fill-rule=\"evenodd\" fill-opacity=\"1\" /><path clip-path=\"url(#clip980)\" d=\"M 0 0 M651.873 1454.42 Q648.262 1454.42 646.433 1457.99 Q644.627 1461.53 644.627 1468.66 Q644.627 1475.77 646.433 1479.33 Q648.262 1482.87 651.873 1482.87 Q655.507 1482.87 657.312 1479.33 Q659.141 1475.77 659.141 1468.66 Q659.141 1461.53 657.312 1457.99 Q655.507 1454.42 651.873 1454.42 M651.873 1450.72 Q657.683 1450.72 660.738 1455.33 Q663.817 1459.91 663.817 1468.66 Q663.817 1477.39 660.738 1481.99 Q657.683 1486.58 651.873 1486.58 Q646.063 1486.58 642.984 1481.99 Q639.928 1477.39 639.928 1468.66 Q639.928 1459.91 642.984 1455.33 Q646.063 1450.72 651.873 1450.72 Z\" fill=\"#000000\" fill-rule=\"evenodd\" fill-opacity=\"1\" /><path clip-path=\"url(#clip980)\" d=\"M 0 0 M673.522 1432.91 Q670.588 1432.91 669.102 1435.81 Q667.635 1438.69 667.635 1444.48 Q667.635 1450.26 669.102 1453.15 Q670.588 1456.03 673.522 1456.03 Q676.475 1456.03 677.942 1453.15 Q679.428 1450.26 679.428 1444.48 Q679.428 1438.69 677.942 1435.81 Q676.475 1432.91 673.522 1432.91 M673.522 1429.91 Q678.243 1429.91 680.725 1433.65 Q683.227 1437.37 683.227 1444.48 Q683.227 1451.57 680.725 1455.31 Q678.243 1459.04 673.522 1459.04 Q668.801 1459.04 666.3 1455.31 Q663.817 1451.57 663.817 1444.48 Q663.817 1437.37 666.3 1433.65 Q668.801 1429.91 673.522 1429.91 Z\" fill=\"#000000\" fill-rule=\"evenodd\" fill-opacity=\"1\" /><path clip-path=\"url(#clip980)\" d=\"M 0 0 M970.778 1481.97 L978.417 1481.97 L978.417 1455.6 L970.107 1457.27 L970.107 1453.01 L978.371 1451.34 L983.047 1451.34 L983.047 1481.97 L990.685 1481.97 L990.685 1485.9 L970.778 1485.9 L970.778 1481.97 Z\" fill=\"#000000\" fill-rule=\"evenodd\" fill-opacity=\"1\" /><path clip-path=\"url(#clip980)\" d=\"M 0 0 M1005.75 1454.42 Q1002.14 1454.42 1000.32 1457.99 Q998.509 1461.53 998.509 1468.66 Q998.509 1475.77 1000.32 1479.33 Q1002.14 1482.87 1005.75 1482.87 Q1009.39 1482.87 1011.19 1479.33 Q1013.02 1475.77 1013.02 1468.66 Q1013.02 1461.53 1011.19 1457.99 Q1009.39 1454.42 1005.75 1454.42 M1005.75 1450.72 Q1011.56 1450.72 1014.62 1455.33 Q1017.7 1459.91 1017.7 1468.66 Q1017.7 1477.39 1014.62 1481.99 Q1011.56 1486.58 1005.75 1486.58 Q999.945 1486.58 996.866 1481.99 Q993.81 1477.39 993.81 1468.66 Q993.81 1459.91 996.866 1455.33 Q999.945 1450.72 1005.75 1450.72 Z\" fill=\"#000000\" fill-rule=\"evenodd\" fill-opacity=\"1\" /><path clip-path=\"url(#clip980)\" d=\"M 0 0 M1018.24 1455.3 L1024.45 1455.3 L1024.45 1433.87 L1017.7 1435.23 L1017.7 1431.77 L1024.41 1430.41 L1028.21 1430.41 L1028.21 1455.3 L1034.42 1455.3 L1034.42 1458.49 L1018.24 1458.49 L1018.24 1455.3 Z\" fill=\"#000000\" fill-rule=\"evenodd\" fill-opacity=\"1\" /><path clip-path=\"url(#clip980)\" d=\"M 0 0 M1322.76 1481.97 L1330.4 1481.97 L1330.4 1455.6 L1322.09 1457.27 L1322.09 1453.01 L1330.35 1451.34 L1335.03 1451.34 L1335.03 1481.97 L1342.67 1481.97 L1342.67 1485.9 L1322.76 1485.9 L1322.76 1481.97 Z\" fill=\"#000000\" fill-rule=\"evenodd\" fill-opacity=\"1\" /><path clip-path=\"url(#clip980)\" d=\"M 0 0 M1357.74 1454.42 Q1354.13 1454.42 1352.3 1457.99 Q1350.49 1461.53 1350.49 1468.66 Q1350.49 1475.77 1352.3 1479.33 Q1354.13 1482.87 1357.74 1482.87 Q1361.37 1482.87 1363.18 1479.33 Q1365.01 1475.77 1365.01 1468.66 Q1365.01 1461.53 1363.18 1457.99 Q1361.37 1454.42 1357.74 1454.42 M1357.74 1450.72 Q1363.55 1450.72 1366.6 1455.33 Q1369.68 1459.91 1369.68 1468.66 Q1369.68 1477.39 1366.6 1481.99 Q1363.55 1486.58 1357.74 1486.58 Q1351.93 1486.58 1348.85 1481.99 Q1345.79 1477.39 1345.79 1468.66 Q1345.79 1459.91 1348.85 1455.33 Q1351.93 1450.72 1357.74 1450.72 Z\" fill=\"#000000\" fill-rule=\"evenodd\" fill-opacity=\"1\" /><path clip-path=\"url(#clip980)\" d=\"M 0 0 M1374.25 1455.3 L1387.51 1455.3 L1387.51 1458.49 L1369.68 1458.49 L1369.68 1455.3 Q1371.84 1453.06 1375.57 1449.3 Q1379.31 1445.52 1380.27 1444.43 Q1382.09 1442.38 1382.81 1440.96 Q1383.54 1439.54 1383.54 1438.16 Q1383.54 1435.92 1381.96 1434.51 Q1380.4 1433.1 1377.88 1433.1 Q1376.1 1433.1 1374.1 1433.72 Q1372.13 1434.34 1369.87 1435.6 L1369.87 1431.77 Q1372.16 1430.85 1374.16 1430.38 Q1376.15 1429.91 1377.81 1429.91 Q1382.17 1429.91 1384.77 1432.09 Q1387.36 1434.27 1387.36 1437.92 Q1387.36 1439.65 1386.7 1441.21 Q1386.06 1442.75 1384.35 1444.86 Q1383.88 1445.4 1381.36 1448.02 Q1378.84 1450.61 1374.25 1455.3 Z\" fill=\"#000000\" fill-rule=\"evenodd\" fill-opacity=\"1\" /><path clip-path=\"url(#clip980)\" d=\"M 0 0 M1674.97 1481.97 L1682.61 1481.97 L1682.61 1455.6 L1674.3 1457.27 L1674.3 1453.01 L1682.56 1451.34 L1687.24 1451.34 L1687.24 1481.97 L1694.88 1481.97 L1694.88 1485.9 L1674.97 1485.9 L1674.97 1481.97 Z\" fill=\"#000000\" fill-rule=\"evenodd\" fill-opacity=\"1\" /><path clip-path=\"url(#clip980)\" d=\"M 0 0 M1709.95 1454.42 Q1706.33 1454.42 1704.51 1457.99 Q1702.7 1461.53 1702.7 1468.66 Q1702.7 1475.77 1704.51 1479.33 Q1706.33 1482.87 1709.95 1482.87 Q1713.58 1482.87 1715.39 1479.33 Q1717.21 1475.77 1717.21 1468.66 Q1717.21 1461.53 1715.39 1457.99 Q1713.58 1454.42 1709.95 1454.42 M1709.95 1450.72 Q1715.76 1450.72 1718.81 1455.33 Q1721.89 1459.91 1721.89 1468.66 Q1721.89 1477.39 1718.81 1481.99 Q1715.76 1486.58 1709.95 1486.58 Q1704.14 1486.58 1701.06 1481.99 Q1698 1477.39 1698 1468.66 Q1698 1459.91 1701.06 1455.33 Q1704.14 1450.72 1709.95 1450.72 Z\" fill=\"#000000\" fill-rule=\"evenodd\" fill-opacity=\"1\" /><path clip-path=\"url(#clip980)\" d=\"M 0 0 M1734.59 1443.35 Q1737.31 1443.94 1738.84 1445.78 Q1740.38 1447.62 1740.38 1450.33 Q1740.38 1454.49 1737.52 1456.76 Q1734.66 1459.04 1729.39 1459.04 Q1727.63 1459.04 1725.75 1458.68 Q1723.88 1458.34 1721.89 1457.65 L1721.89 1453.98 Q1723.47 1454.9 1725.35 1455.37 Q1727.23 1455.84 1729.28 1455.84 Q1732.85 1455.84 1734.72 1454.43 Q1736.6 1453.02 1736.6 1450.33 Q1736.6 1447.85 1734.85 1446.46 Q1733.12 1445.05 1730.02 1445.05 L1726.74 1445.05 L1726.74 1441.92 L1730.17 1441.92 Q1732.97 1441.92 1734.45 1440.81 Q1735.94 1439.69 1735.94 1437.58 Q1735.94 1435.42 1734.4 1434.27 Q1732.87 1433.1 1730.02 1433.1 Q1728.45 1433.1 1726.67 1433.44 Q1724.88 1433.78 1722.74 1434.49 L1722.74 1431.11 Q1724.9 1430.51 1726.78 1430.21 Q1728.68 1429.91 1730.35 1429.91 Q1734.68 1429.91 1737.2 1431.88 Q1739.72 1433.84 1739.72 1437.18 Q1739.72 1439.52 1738.38 1441.13 Q1737.05 1442.73 1734.59 1443.35 Z\" fill=\"#000000\" fill-rule=\"evenodd\" fill-opacity=\"1\" /><path clip-path=\"url(#clip980)\" d=\"M 0 0 M2026.52 1481.97 L2034.16 1481.97 L2034.16 1455.6 L2025.85 1457.27 L2025.85 1453.01 L2034.11 1451.34 L2038.79 1451.34 L2038.79 1481.97 L2046.43 1481.97 L2046.43 1485.9 L2026.52 1485.9 L2026.52 1481.97 Z\" fill=\"#000000\" fill-rule=\"evenodd\" fill-opacity=\"1\" /><path clip-path=\"url(#clip980)\" d=\"M 0 0 M2061.5 1454.42 Q2057.88 1454.42 2056.06 1457.99 Q2054.25 1461.53 2054.25 1468.66 Q2054.25 1475.77 2056.06 1479.33 Q2057.88 1482.87 2061.5 1482.87 Q2065.13 1482.87 2066.94 1479.33 Q2068.76 1475.77 2068.76 1468.66 Q2068.76 1461.53 2066.94 1457.99 Q2065.13 1454.42 2061.5 1454.42 M2061.5 1450.72 Q2067.31 1450.72 2070.36 1455.33 Q2073.44 1459.91 2073.44 1468.66 Q2073.44 1477.39 2070.36 1481.99 Q2067.31 1486.58 2061.5 1486.58 Q2055.69 1486.58 2052.61 1481.99 Q2049.55 1477.39 2049.55 1468.66 Q2049.55 1459.91 2052.61 1455.33 Q2055.69 1450.72 2061.5 1450.72 Z\" fill=\"#000000\" fill-rule=\"evenodd\" fill-opacity=\"1\" /><path clip-path=\"url(#clip980)\" d=\"M 0 0 M2086.12 1433.72 L2076.52 1448.71 L2086.12 1448.71 L2086.12 1433.72 M2085.12 1430.41 L2089.9 1430.41 L2089.9 1448.71 L2093.9 1448.71 L2093.9 1451.87 L2089.9 1451.87 L2089.9 1458.49 L2086.12 1458.49 L2086.12 1451.87 L2073.44 1451.87 L2073.44 1448.21 L2085.12 1430.41 Z\" fill=\"#000000\" fill-rule=\"evenodd\" fill-opacity=\"1\" /><path clip-path=\"url(#clip980)\" d=\"M 0 0 M126.931 1283.49 L134.57 1283.49 L134.57 1257.13 L126.26 1258.8 L126.26 1254.54 L134.524 1252.87 L139.2 1252.87 L139.2 1283.49 L146.839 1283.49 L146.839 1287.43 L126.931 1287.43 L126.931 1283.49 Z\" fill=\"#000000\" fill-rule=\"evenodd\" fill-opacity=\"1\" /><path clip-path=\"url(#clip980)\" d=\"M 0 0 M161.908 1255.95 Q158.297 1255.95 156.468 1259.51 Q154.663 1263.05 154.663 1270.18 Q154.663 1277.29 156.468 1280.86 Q158.297 1284.4 161.908 1284.4 Q165.542 1284.4 167.348 1280.86 Q169.177 1277.29 169.177 1270.18 Q169.177 1263.05 167.348 1259.51 Q165.542 1255.95 161.908 1255.95 M161.908 1252.24 Q167.718 1252.24 170.774 1256.85 Q173.852 1261.43 173.852 1270.18 Q173.852 1278.91 170.774 1283.52 Q167.718 1288.1 161.908 1288.1 Q156.098 1288.1 153.019 1283.52 Q149.964 1278.91 149.964 1270.18 Q149.964 1261.43 153.019 1256.85 Q156.098 1252.24 161.908 1252.24 Z\" fill=\"#000000\" fill-rule=\"evenodd\" fill-opacity=\"1\" /><path clip-path=\"url(#clip980)\" d=\"M 0 0 M173.852 1246.35 L197.964 1246.35 L197.964 1249.54 L173.852 1249.54 L173.852 1246.35 Z\" fill=\"#000000\" fill-rule=\"evenodd\" fill-opacity=\"1\" /><path clip-path=\"url(#clip980)\" d=\"M 0 0 M212.521 1235.25 L202.929 1250.24 L212.521 1250.24 L212.521 1235.25 M211.524 1231.94 L216.302 1231.94 L216.302 1250.24 L220.308 1250.24 L220.308 1253.4 L216.302 1253.4 L216.302 1260.02 L212.521 1260.02 L212.521 1253.4 L199.845 1253.4 L199.845 1249.73 L211.524 1231.94 Z\" fill=\"#000000\" fill-rule=\"evenodd\" fill-opacity=\"1\" /><path clip-path=\"url(#clip980)\" d=\"M 0 0 M127.853 915.563 L135.492 915.563 L135.492 889.198 L127.182 890.864 L127.182 886.605 L135.446 884.938 L140.121 884.938 L140.121 915.563 L147.76 915.563 L147.76 919.498 L127.853 919.498 L127.853 915.563 Z\" fill=\"#000000\" fill-rule=\"evenodd\" fill-opacity=\"1\" /><path clip-path=\"url(#clip980)\" d=\"M 0 0 M162.83 888.017 Q159.219 888.017 157.39 891.582 Q155.584 895.123 155.584 902.253 Q155.584 909.36 157.39 912.924 Q159.219 916.466 162.83 916.466 Q166.464 916.466 168.269 912.924 Q170.098 909.36 170.098 902.253 Q170.098 895.123 168.269 891.582 Q166.464 888.017 162.83 888.017 M162.83 884.313 Q168.64 884.313 171.695 888.92 Q174.774 893.503 174.774 902.253 Q174.774 910.98 171.695 915.586 Q168.64 920.17 162.83 920.17 Q157.02 920.17 153.941 915.586 Q150.885 910.98 150.885 902.253 Q150.885 893.503 153.941 888.92 Q157.02 884.313 162.83 884.313 Z\" fill=\"#000000\" fill-rule=\"evenodd\" fill-opacity=\"1\" /><path clip-path=\"url(#clip980)\" d=\"M 0 0 M174.774 878.415 L198.886 878.415 L198.886 881.612 L174.774 881.612 L174.774 878.415 Z\" fill=\"#000000\" fill-rule=\"evenodd\" fill-opacity=\"1\" /><path clip-path=\"url(#clip980)\" d=\"M 0 0 M214.515 876.948 Q217.242 877.531 218.765 879.374 Q220.308 881.217 220.308 883.925 Q220.308 888.082 217.449 890.358 Q214.59 892.633 209.324 892.633 Q207.556 892.633 205.675 892.276 Q203.813 891.938 201.82 891.242 L201.82 887.574 Q203.4 888.496 205.28 888.966 Q207.161 889.436 209.211 889.436 Q212.785 889.436 214.647 888.025 Q216.527 886.615 216.527 883.925 Q216.527 881.443 214.778 880.051 Q213.048 878.64 209.945 878.64 L206.672 878.64 L206.672 875.518 L210.095 875.518 Q212.897 875.518 214.383 874.409 Q215.869 873.28 215.869 871.174 Q215.869 869.011 214.327 867.864 Q212.803 866.697 209.945 866.697 Q208.384 866.697 206.597 867.036 Q204.81 867.375 202.666 868.089 L202.666 864.704 Q204.829 864.102 206.71 863.801 Q208.609 863.5 210.283 863.5 Q214.609 863.5 217.129 865.475 Q219.649 867.431 219.649 870.779 Q219.649 873.111 218.314 874.728 Q216.979 876.327 214.515 876.948 Z\" fill=\"#000000\" fill-rule=\"evenodd\" fill-opacity=\"1\" /><path clip-path=\"url(#clip980)\" d=\"M 0 0 M128.624 547.632 L136.263 547.632 L136.263 521.267 L127.953 522.933 L127.953 518.674 L136.217 517.007 L140.893 517.007 L140.893 547.632 L148.531 547.632 L148.531 551.567 L128.624 551.567 L128.624 547.632 Z\" fill=\"#000000\" fill-rule=\"evenodd\" fill-opacity=\"1\" /><path clip-path=\"url(#clip980)\" d=\"M 0 0 M163.601 520.086 Q159.99 520.086 158.161 523.651 Q156.355 527.192 156.355 534.322 Q156.355 541.428 158.161 544.993 Q159.99 548.535 163.601 548.535 Q167.235 548.535 169.041 544.993 Q170.869 541.428 170.869 534.322 Q170.869 527.192 169.041 523.651 Q167.235 520.086 163.601 520.086 M163.601 516.382 Q169.411 516.382 172.467 520.989 Q175.545 525.572 175.545 534.322 Q175.545 543.049 172.467 547.655 Q169.411 552.239 163.601 552.239 Q157.791 552.239 154.712 547.655 Q151.656 543.049 151.656 534.322 Q151.656 525.572 154.712 520.989 Q157.791 516.382 163.601 516.382 Z\" fill=\"#000000\" fill-rule=\"evenodd\" fill-opacity=\"1\" /><path clip-path=\"url(#clip980)\" d=\"M 0 0 M175.545 510.484 L199.657 510.484 L199.657 513.681 L175.545 513.681 L175.545 510.484 Z\" fill=\"#000000\" fill-rule=\"evenodd\" fill-opacity=\"1\" /><path clip-path=\"url(#clip980)\" d=\"M 0 0 M207.048 520.96 L220.308 520.96 L220.308 524.157 L202.478 524.157 L202.478 520.96 Q204.641 518.721 208.365 514.96 Q212.107 511.18 213.067 510.089 Q214.891 508.039 215.606 506.628 Q216.339 505.199 216.339 503.826 Q216.339 501.588 214.759 500.177 Q213.198 498.766 210.678 498.766 Q208.891 498.766 206.898 499.387 Q204.923 500.008 202.666 501.268 L202.666 497.431 Q204.961 496.509 206.954 496.039 Q208.948 495.569 210.603 495.569 Q214.966 495.569 217.562 497.751 Q220.157 499.933 220.157 503.581 Q220.157 505.312 219.499 506.873 Q218.859 508.415 217.148 510.521 Q216.678 511.067 214.158 513.681 Q211.637 516.276 207.048 520.96 Z\" fill=\"#000000\" fill-rule=\"evenodd\" fill-opacity=\"1\" /><path clip-path=\"url(#clip980)\" d=\"M 0 0 M128.323 179.701 L135.962 179.701 L135.962 153.336 L127.652 155.002 L127.652 150.743 L135.916 149.076 L140.592 149.076 L140.592 179.701 L148.231 179.701 L148.231 183.636 L128.323 183.636 L128.323 179.701 Z\" fill=\"#000000\" fill-rule=\"evenodd\" fill-opacity=\"1\" /><path clip-path=\"url(#clip980)\" d=\"M 0 0 M163.3 152.155 Q159.689 152.155 157.86 155.72 Q156.055 159.261 156.055 166.391 Q156.055 173.497 157.86 177.062 Q159.689 180.604 163.3 180.604 Q166.934 180.604 168.74 177.062 Q170.568 173.497 170.568 166.391 Q170.568 159.261 168.74 155.72 Q166.934 152.155 163.3 152.155 M163.3 148.451 Q169.11 148.451 172.166 153.058 Q175.244 157.641 175.244 166.391 Q175.244 175.118 172.166 179.724 Q169.11 184.308 163.3 184.308 Q157.49 184.308 154.411 179.724 Q151.356 175.118 151.356 166.391 Q151.356 157.641 154.411 153.058 Q157.49 148.451 163.3 148.451 Z\" fill=\"#000000\" fill-rule=\"evenodd\" fill-opacity=\"1\" /><path clip-path=\"url(#clip980)\" d=\"M 0 0 M175.244 142.553 L199.356 142.553 L199.356 145.75 L175.244 145.75 L175.244 142.553 Z\" fill=\"#000000\" fill-rule=\"evenodd\" fill-opacity=\"1\" /><path clip-path=\"url(#clip980)\" d=\"M 0 0 M204.133 153.029 L210.34 153.029 L210.34 131.606 L203.588 132.961 L203.588 129.5 L210.302 128.146 L214.101 128.146 L214.101 153.029 L220.308 153.029 L220.308 156.226 L204.133 156.226 L204.133 153.029 Z\" fill=\"#000000\" fill-rule=\"evenodd\" fill-opacity=\"1\" /><path clip-path=\"url(#clip980)\" d=\"M 0 0 M1004.14 44.2197 Q1006.77 45.1109 1009.24 48.0275 Q1011.76 50.9442 1014.27 56.0483 L1022.57 72.576 L1013.78 72.576 L1006.04 57.061 Q1003.05 50.9847 1000.21 48.9997 Q997.416 47.0148 992.555 47.0148 L983.643 47.0148 L983.643 72.576 L975.46 72.576 L975.46 12.096 L993.932 12.096 Q1004.3 12.096 1009.41 16.4305 Q1014.51 20.7649 1014.51 29.5149 Q1014.51 35.2267 1011.84 38.994 Q1009.2 42.7613 1004.14 44.2197 M983.643 18.8205 L983.643 40.2903 L993.932 40.2903 Q999.846 40.2903 1002.84 37.5762 Q1005.88 34.8216 1005.88 29.5149 Q1005.88 24.2082 1002.84 21.5346 Q999.846 18.8205 993.932 18.8205 L983.643 18.8205 Z\" fill=\"#000000\" fill-rule=\"evenodd\" fill-opacity=\"1\" /><path clip-path=\"url(#clip980)\" d=\"M 0 0 M1038.9 43.6931 L1038.9 65.8515 L1052.02 65.8515 Q1058.63 65.8515 1061.78 63.1374 Q1064.98 60.3828 1064.98 54.752 Q1064.98 49.0808 1061.78 46.4072 Q1058.63 43.6931 1052.02 43.6931 L1038.9 43.6931 M1038.9 18.8205 L1038.9 37.0496 L1051.01 37.0496 Q1057 37.0496 1059.92 34.8216 Q1062.88 32.5531 1062.88 27.935 Q1062.88 23.3575 1059.92 21.089 Q1057 18.8205 1051.01 18.8205 L1038.9 18.8205 M1030.71 12.096 L1051.62 12.096 Q1060.97 12.096 1066.04 15.9849 Q1071.1 19.8737 1071.1 27.0438 Q1071.1 32.5936 1068.51 35.8748 Q1065.92 39.156 1060.89 39.9662 Q1066.93 41.2625 1070.25 45.3944 Q1073.61 49.4858 1073.61 55.6432 Q1073.61 63.745 1068.1 68.1605 Q1062.59 72.576 1052.43 72.576 L1030.71 72.576 L1030.71 12.096 Z\" fill=\"#000000\" fill-rule=\"evenodd\" fill-opacity=\"1\" /><path clip-path=\"url(#clip980)\" d=\"M 0 0 M1081.76 12.096 L1116.51 12.096 L1116.51 18.9825 L1089.94 18.9825 L1089.94 36.8065 L1113.92 36.8065 L1113.92 43.6931 L1089.94 43.6931 L1089.94 72.576 L1081.76 72.576 L1081.76 12.096 Z\" fill=\"#000000\" fill-rule=\"evenodd\" fill-opacity=\"1\" /><path clip-path=\"url(#clip980)\" d=\"M 0 0 M1151.03 12.096 L1159.21 12.096 L1159.21 37.6572 L1186.35 12.096 L1196.88 12.096 L1166.87 40.2903 L1199.03 72.576 L1188.25 72.576 L1159.21 43.45 L1159.21 72.576 L1151.03 72.576 L1151.03 12.096 Z\" fill=\"#000000\" fill-rule=\"evenodd\" fill-opacity=\"1\" /><path clip-path=\"url(#clip980)\" d=\"M 0 0 M1241.52 48.0275 L1241.52 51.6733 L1207.25 51.6733 Q1207.74 59.3701 1211.87 63.421 Q1216.04 67.4314 1223.46 67.4314 Q1227.75 67.4314 1231.76 66.3781 Q1235.81 65.3249 1239.78 63.2184 L1239.78 70.267 Q1235.77 71.9684 1231.56 72.8596 Q1227.35 73.7508 1223.01 73.7508 Q1212.15 73.7508 1205.79 67.4314 Q1199.47 61.1119 1199.47 50.3365 Q1199.47 39.1965 1205.47 32.6746 Q1211.51 26.1121 1221.71 26.1121 Q1230.87 26.1121 1236.18 32.0264 Q1241.52 37.9003 1241.52 48.0275 M1234.07 45.84 Q1233.99 39.7232 1230.63 36.0774 Q1227.3 32.4315 1221.8 32.4315 Q1215.56 32.4315 1211.79 35.9558 Q1208.06 39.4801 1207.5 45.8805 L1234.07 45.84 Z\" fill=\"#000000\" fill-rule=\"evenodd\" fill-opacity=\"1\" /><path clip-path=\"url(#clip980)\" d=\"M 0 0 M1275.63 34.1734 Q1274.38 33.4443 1272.88 33.1202 Q1271.42 32.7556 1269.64 32.7556 Q1263.32 32.7556 1259.91 36.8875 Q1256.55 40.9789 1256.55 48.6757 L1256.55 72.576 L1249.06 72.576 L1249.06 27.2059 L1256.55 27.2059 L1256.55 34.2544 Q1258.9 30.1225 1262.67 28.1376 Q1266.44 26.1121 1271.82 26.1121 Q1272.59 26.1121 1273.53 26.2337 Q1274.46 26.3147 1275.59 26.5172 L1275.63 34.1734 Z\" fill=\"#000000\" fill-rule=\"evenodd\" fill-opacity=\"1\" /><path clip-path=\"url(#clip980)\" d=\"M 0 0 M1319.71 45.1919 L1319.71 72.576 L1312.25 72.576 L1312.25 45.4349 Q1312.25 38.994 1309.74 35.7938 Q1307.23 32.5936 1302.21 32.5936 Q1296.17 32.5936 1292.69 36.4419 Q1289.2 40.2903 1289.2 46.9338 L1289.2 72.576 L1281.71 72.576 L1281.71 27.2059 L1289.2 27.2059 L1289.2 34.2544 Q1291.88 30.163 1295.48 28.1376 Q1299.13 26.1121 1303.87 26.1121 Q1311.69 26.1121 1315.7 30.9732 Q1319.71 35.7938 1319.71 45.1919 Z\" fill=\"#000000\" fill-rule=\"evenodd\" fill-opacity=\"1\" /><path clip-path=\"url(#clip980)\" d=\"M 0 0 M1366.33 48.0275 L1366.33 51.6733 L1332.06 51.6733 Q1332.55 59.3701 1336.68 63.421 Q1340.85 67.4314 1348.26 67.4314 Q1352.56 67.4314 1356.57 66.3781 Q1360.62 65.3249 1364.59 63.2184 L1364.59 70.267 Q1360.58 71.9684 1356.37 72.8596 Q1352.15 73.7508 1347.82 73.7508 Q1336.96 73.7508 1330.6 67.4314 Q1324.28 61.1119 1324.28 50.3365 Q1324.28 39.1965 1330.28 32.6746 Q1336.31 26.1121 1346.52 26.1121 Q1355.68 26.1121 1360.98 32.0264 Q1366.33 37.9003 1366.33 48.0275 M1358.88 45.84 Q1358.8 39.7232 1355.43 36.0774 Q1352.11 32.4315 1346.6 32.4315 Q1340.37 32.4315 1336.6 35.9558 Q1332.87 39.4801 1332.3 45.8805 L1358.88 45.84 Z\" fill=\"#000000\" fill-rule=\"evenodd\" fill-opacity=\"1\" /><path clip-path=\"url(#clip980)\" d=\"M 0 0 M1374.15 9.54393 L1381.6 9.54393 L1381.6 72.576 L1374.15 72.576 L1374.15 9.54393 Z\" fill=\"#000000\" fill-rule=\"evenodd\" fill-opacity=\"1\" /><path clip-path=\"url(#clip980)\" d=\"M 0 0 M1197.69 1518.33 L1197.69 1525.11 Q1194.45 1522.08 1190.75 1520.59 Q1187.09 1519.09 1182.96 1519.09 Q1174.81 1519.09 1170.48 1524.09 Q1166.15 1529.05 1166.15 1538.47 Q1166.15 1547.86 1170.48 1552.86 Q1174.81 1557.82 1182.96 1557.82 Q1187.09 1557.82 1190.75 1556.33 Q1194.45 1554.83 1197.69 1551.81 L1197.69 1558.53 Q1194.32 1560.82 1190.53 1561.96 Q1186.78 1563.11 1182.57 1563.11 Q1171.78 1563.11 1165.58 1556.52 Q1159.37 1549.9 1159.37 1538.47 Q1159.37 1527.01 1165.58 1520.43 Q1171.78 1513.81 1182.57 1513.81 Q1186.84 1513.81 1190.59 1514.95 Q1194.38 1516.07 1197.69 1518.33 Z\" fill=\"#000000\" fill-rule=\"evenodd\" fill-opacity=\"1\" /><path clip-path=\"url(#clip980)\" d=\"M 0 0 M69.7664 849.095 Q63.4007 849.095 59.8996 851.737 Q56.3984 854.347 56.3984 859.089 Q56.3984 863.8 59.8996 866.442 Q63.4007 869.052 69.7664 869.052 Q76.1003 869.052 79.6014 866.442 Q83.1026 863.8 83.1026 859.089 Q83.1026 854.347 79.6014 851.737 Q76.1003 849.095 69.7664 849.095 M83.58 843.239 Q92.683 843.239 97.1071 847.281 Q101.563 851.323 101.563 859.662 Q101.563 862.75 101.086 865.487 Q100.64 868.224 99.6852 870.802 L93.9879 870.802 Q95.3884 868.224 96.0568 865.71 Q96.7252 863.195 96.7252 860.585 Q96.7252 854.824 93.7015 851.96 Q90.7096 849.095 84.6303 849.095 L81.7339 849.095 Q84.885 850.909 86.4446 853.742 Q88.0042 856.575 88.0042 860.522 Q88.0042 867.078 83.0071 871.089 Q78.01 875.099 69.7664 875.099 Q61.491 875.099 56.4939 871.089 Q51.4968 867.078 51.4968 860.522 Q51.4968 856.575 53.0564 853.742 Q54.616 850.909 57.7671 849.095 L52.3562 849.095 L52.3562 843.239 L83.58 843.239 Z\" fill=\"#000000\" fill-rule=\"evenodd\" fill-opacity=\"1\" /><path clip-path=\"url(#clip980)\" d=\"M 0 0 M70.0847 820.895 Q70.0847 827.993 71.7079 830.73 Q73.3312 833.467 77.2461 833.467 Q80.3653 833.467 82.2114 831.43 Q84.0256 829.361 84.0256 825.828 Q84.0256 820.959 80.5881 818.03 Q77.1188 815.07 71.3897 815.07 L70.0847 815.07 L70.0847 820.895 M67.6657 809.214 L88.0042 809.214 L88.0042 815.07 L82.5933 815.07 Q85.8398 817.076 87.3994 820.067 Q88.9272 823.059 88.9272 827.388 Q88.9272 832.863 85.8716 836.109 Q82.7843 839.324 77.6281 839.324 Q71.6125 839.324 68.5569 835.313 Q65.5014 831.271 65.5014 823.282 L65.5014 815.07 L64.9285 815.07 Q60.8862 815.07 58.6901 817.744 Q56.4621 820.386 56.4621 825.192 Q56.4621 828.247 57.1941 831.144 Q57.9262 834.04 59.3903 836.714 L53.9795 836.714 Q52.7381 833.499 52.1334 830.475 Q51.4968 827.452 51.4968 824.587 Q51.4968 816.853 55.5072 813.033 Q59.5176 809.214 67.6657 809.214 Z\" fill=\"#000000\" fill-rule=\"evenodd\" fill-opacity=\"1\" /><path clip-path=\"url(#clip980)\" d=\"M 0 0 M59.1993 775.317 Q55.2526 773.12 53.3747 770.065 Q51.4968 767.009 51.4968 762.872 Q51.4968 757.302 55.4117 754.278 Q59.2948 751.254 66.4881 751.254 L88.0042 751.254 L88.0042 757.142 L66.679 757.142 Q61.5546 757.142 59.072 758.957 Q56.5894 760.771 56.5894 764.495 Q56.5894 769.046 59.6131 771.688 Q62.6368 774.33 67.8567 774.33 L88.0042 774.33 L88.0042 780.218 L66.679 780.218 Q61.5228 780.218 59.072 782.032 Q56.5894 783.847 56.5894 787.634 Q56.5894 792.122 59.6449 794.764 Q62.6686 797.406 67.8567 797.406 L88.0042 797.406 L88.0042 803.294 L52.3562 803.294 L52.3562 797.406 L57.8944 797.406 Q54.616 795.4 53.0564 792.599 Q51.4968 789.799 51.4968 785.947 Q51.4968 782.064 53.4702 779.359 Q55.4436 776.622 59.1993 775.317 Z\" fill=\"#000000\" fill-rule=\"evenodd\" fill-opacity=\"1\" /><path clip-path=\"url(#clip980)\" d=\"M 0 0 M59.1993 717.357 Q55.2526 715.161 53.3747 712.105 Q51.4968 709.05 51.4968 704.912 Q51.4968 699.342 55.4117 696.318 Q59.2948 693.294 66.4881 693.294 L88.0042 693.294 L88.0042 699.183 L66.679 699.183 Q61.5546 699.183 59.072 700.997 Q56.5894 702.811 56.5894 706.535 Q56.5894 711.087 59.6131 713.728 Q62.6368 716.37 67.8567 716.37 L88.0042 716.37 L88.0042 722.258 L66.679 722.258 Q61.5228 722.258 59.072 724.073 Q56.5894 725.887 56.5894 729.674 Q56.5894 734.162 59.6449 736.804 Q62.6686 739.446 67.8567 739.446 L88.0042 739.446 L88.0042 745.334 L52.3562 745.334 L52.3562 739.446 L57.8944 739.446 Q54.616 737.441 53.0564 734.64 Q51.4968 731.839 51.4968 727.988 Q51.4968 724.104 53.4702 721.399 Q55.4436 718.662 59.1993 717.357 Z\" fill=\"#000000\" fill-rule=\"evenodd\" fill-opacity=\"1\" /><path clip-path=\"url(#clip980)\" d=\"M 0 0 M70.0847 670.951 Q70.0847 678.049 71.7079 680.786 Q73.3312 683.523 77.2461 683.523 Q80.3653 683.523 82.2114 681.486 Q84.0256 679.417 84.0256 675.884 Q84.0256 671.014 80.5881 668.086 Q77.1188 665.126 71.3897 665.126 L70.0847 665.126 L70.0847 670.951 M67.6657 659.27 L88.0042 659.27 L88.0042 665.126 L82.5933 665.126 Q85.8398 667.131 87.3994 670.123 Q88.9272 673.115 88.9272 677.444 Q88.9272 682.918 85.8716 686.165 Q82.7843 689.38 77.6281 689.38 Q71.6125 689.38 68.5569 685.369 Q65.5014 681.327 65.5014 673.338 L65.5014 665.126 L64.9285 665.126 Q60.8862 665.126 58.6901 667.8 Q56.4621 670.442 56.4621 675.248 Q56.4621 678.303 57.1941 681.2 Q57.9262 684.096 59.3903 686.77 L53.9795 686.77 Q52.7381 683.555 52.1334 680.531 Q51.4968 677.507 51.4968 674.643 Q51.4968 666.909 55.5072 663.089 Q59.5176 659.27 67.6657 659.27 Z\" fill=\"#000000\" fill-rule=\"evenodd\" fill-opacity=\"1\" /><circle clip-path=\"url(#clip982)\" cx=\"968.688\" cy=\"506.923\" r=\"52\" fill=\"#fbb015\" fill-rule=\"evenodd\" fill-opacity=\"1\" stroke=\"#000000\" stroke-opacity=\"1\" stroke-width=\"3.2\"/>\n",
       "<circle clip-path=\"url(#clip982)\" cx=\"1388.38\" cy=\"969.61\" r=\"52\" fill=\"#fbb317\" fill-rule=\"evenodd\" fill-opacity=\"1\" stroke=\"#000000\" stroke-opacity=\"1\" stroke-width=\"3.2\"/>\n",
       "<circle clip-path=\"url(#clip982)\" cx=\"1640.19\" cy=\"449.088\" r=\"60\" fill=\"#f8fc9c\" fill-rule=\"evenodd\" fill-opacity=\"1\" stroke=\"#000000\" stroke-opacity=\"1\" stroke-width=\"3.2\"/>\n",
       "<circle clip-path=\"url(#clip982)\" cx=\"800.813\" cy=\"159.909\" r=\"53\" fill=\"#fbb91e\" fill-rule=\"evenodd\" fill-opacity=\"1\" stroke=\"#000000\" stroke-opacity=\"1\" stroke-width=\"3.2\"/>\n",
       "<circle clip-path=\"url(#clip982)\" cx=\"1556.25\" cy=\"1374.46\" r=\"49\" fill=\"#fa9606\" fill-rule=\"evenodd\" fill-opacity=\"1\" stroke=\"#000000\" stroke-opacity=\"1\" stroke-width=\"3.2\"/>\n",
       "<circle clip-path=\"url(#clip982)\" cx=\"1052.63\" cy=\"449.088\" r=\"55\" fill=\"#f8cb34\" fill-rule=\"evenodd\" fill-opacity=\"1\" stroke=\"#000000\" stroke-opacity=\"1\" stroke-width=\"3.2\"/>\n",
       "<circle clip-path=\"url(#clip982)\" cx=\"716.876\" cy=\"1200.95\" r=\"3\" fill=\"#000004\" fill-rule=\"evenodd\" fill-opacity=\"1\" stroke=\"#000000\" stroke-opacity=\"1\" stroke-width=\"3.2\"/>\n",
       "<circle clip-path=\"url(#clip982)\" cx=\"465.063\" cy=\"564.759\" r=\"49\" fill=\"#fa9406\" fill-rule=\"evenodd\" fill-opacity=\"1\" stroke=\"#000000\" stroke-opacity=\"1\" stroke-width=\"3.2\"/>\n",
       "<circle clip-path=\"url(#clip982)\" cx=\"1892\" cy=\"853.938\" r=\"58\" fill=\"#f1ea69\" fill-rule=\"evenodd\" fill-opacity=\"1\" stroke=\"#000000\" stroke-opacity=\"1\" stroke-width=\"3.2\"/>\n",
       "<circle clip-path=\"url(#clip982)\" cx=\"1304.44\" cy=\"217.744\" r=\"58\" fill=\"#f1ec6d\" fill-rule=\"evenodd\" fill-opacity=\"1\" stroke=\"#000000\" stroke-opacity=\"1\" stroke-width=\"3.2\"/>\n",
       "<circle clip-path=\"url(#clip982)\" cx=\"1808.06\" cy=\"680.431\" r=\"60\" fill=\"#f5f993\" fill-rule=\"evenodd\" fill-opacity=\"1\" stroke=\"#000000\" stroke-opacity=\"1\" stroke-width=\"3.2\"/>\n",
       "<circle clip-path=\"url(#clip982)\" cx=\"1640.19\" cy=\"391.252\" r=\"59\" fill=\"#f2f485\" fill-rule=\"evenodd\" fill-opacity=\"1\" stroke=\"#000000\" stroke-opacity=\"1\" stroke-width=\"3.2\"/>\n",
       "<circle clip-path=\"url(#clip982)\" cx=\"1472.31\" cy=\"796.102\" r=\"54\" fill=\"#f9c42c\" fill-rule=\"evenodd\" fill-opacity=\"1\" stroke=\"#000000\" stroke-opacity=\"1\" stroke-width=\"3.2\"/>\n",
       "<circle clip-path=\"url(#clip982)\" cx=\"884.751\" cy=\"911.774\" r=\"48\" fill=\"#f98e08\" fill-rule=\"evenodd\" fill-opacity=\"1\" stroke=\"#000000\" stroke-opacity=\"1\" stroke-width=\"3.2\"/>\n",
       "<circle clip-path=\"url(#clip982)\" cx=\"1220.5\" cy=\"449.088\" r=\"58\" fill=\"#f1e864\" fill-rule=\"evenodd\" fill-opacity=\"1\" stroke=\"#000000\" stroke-opacity=\"1\" stroke-width=\"3.2\"/>\n",
       "<circle clip-path=\"url(#clip982)\" cx=\"1556.25\" cy=\"391.252\" r=\"60\" fill=\"#f5f993\" fill-rule=\"evenodd\" fill-opacity=\"1\" stroke=\"#000000\" stroke-opacity=\"1\" stroke-width=\"3.2\"/>\n",
       "<circle clip-path=\"url(#clip982)\" cx=\"968.688\" cy=\"217.744\" r=\"57\" fill=\"#f3df54\" fill-rule=\"evenodd\" fill-opacity=\"1\" stroke=\"#000000\" stroke-opacity=\"1\" stroke-width=\"3.2\"/>\n",
       "<circle clip-path=\"url(#clip982)\" cx=\"1472.31\" cy=\"275.58\" r=\"59\" fill=\"#f2f380\" fill-rule=\"evenodd\" fill-opacity=\"1\" stroke=\"#000000\" stroke-opacity=\"1\" stroke-width=\"3.2\"/>\n",
       "<circle clip-path=\"url(#clip982)\" cx=\"297.188\" cy=\"1027.45\" r=\"3\" fill=\"#000003\" fill-rule=\"evenodd\" fill-opacity=\"1\" stroke=\"#000000\" stroke-opacity=\"1\" stroke-width=\"3.2\"/>\n",
       "<circle clip-path=\"url(#clip982)\" cx=\"1388.38\" cy=\"1316.62\" r=\"51\" fill=\"#fbac10\" fill-rule=\"evenodd\" fill-opacity=\"1\" stroke=\"#000000\" stroke-opacity=\"1\" stroke-width=\"3.2\"/>\n",
       "<circle clip-path=\"url(#clip982)\" cx=\"297.188\" cy=\"738.266\" r=\"5\" fill=\"#02010d\" fill-rule=\"evenodd\" fill-opacity=\"1\" stroke=\"#000000\" stroke-opacity=\"1\" stroke-width=\"3.2\"/>\n",
       "<circle clip-path=\"url(#clip982)\" cx=\"1975.94\" cy=\"911.774\" r=\"57\" fill=\"#f3e158\" fill-rule=\"evenodd\" fill-opacity=\"1\" stroke=\"#000000\" stroke-opacity=\"1\" stroke-width=\"3.2\"/>\n",
       "<circle clip-path=\"url(#clip982)\" cx=\"1975.94\" cy=\"391.252\" r=\"59\" fill=\"#f2f485\" fill-rule=\"evenodd\" fill-opacity=\"1\" stroke=\"#000000\" stroke-opacity=\"1\" stroke-width=\"3.2\"/>\n",
       "<circle clip-path=\"url(#clip982)\" cx=\"968.688\" cy=\"564.759\" r=\"52\" fill=\"#fbb519\" fill-rule=\"evenodd\" fill-opacity=\"1\" stroke=\"#000000\" stroke-opacity=\"1\" stroke-width=\"3.2\"/>\n",
       "<circle clip-path=\"url(#clip982)\" cx=\"297.188\" cy=\"449.088\" r=\"48\" fill=\"#f98e08\" fill-rule=\"evenodd\" fill-opacity=\"1\" stroke=\"#000000\" stroke-opacity=\"1\" stroke-width=\"3.2\"/>\n",
       "<circle clip-path=\"url(#clip982)\" cx=\"1136.56\" cy=\"1258.79\" r=\"48\" fill=\"#f98e08\" fill-rule=\"evenodd\" fill-opacity=\"1\" stroke=\"#000000\" stroke-opacity=\"1\" stroke-width=\"3.2\"/>\n",
       "<circle clip-path=\"url(#clip982)\" cx=\"1556.25\" cy=\"1258.79\" r=\"52\" fill=\"#fbb317\" fill-rule=\"evenodd\" fill-opacity=\"1\" stroke=\"#000000\" stroke-opacity=\"1\" stroke-width=\"3.2\"/>\n",
       "<circle clip-path=\"url(#clip982)\" cx=\"297.188\" cy=\"680.431\" r=\"22\" fill=\"#63146e\" fill-rule=\"evenodd\" fill-opacity=\"1\" stroke=\"#000000\" stroke-opacity=\"1\" stroke-width=\"3.2\"/>\n",
       "<circle clip-path=\"url(#clip982)\" cx=\"1220.5\" cy=\"853.938\" r=\"52\" fill=\"#fbb317\" fill-rule=\"evenodd\" fill-opacity=\"1\" stroke=\"#000000\" stroke-opacity=\"1\" stroke-width=\"3.2\"/>\n",
       "<circle clip-path=\"url(#clip982)\" cx=\"884.751\" cy=\"1143.12\" r=\"48\" fill=\"#f98e08\" fill-rule=\"evenodd\" fill-opacity=\"1\" stroke=\"#000000\" stroke-opacity=\"1\" stroke-width=\"3.2\"/>\n",
       "<circle clip-path=\"url(#clip982)\" cx=\"1136.56\" cy=\"853.938\" r=\"51\" fill=\"#fbaa0e\" fill-rule=\"evenodd\" fill-opacity=\"1\" stroke=\"#000000\" stroke-opacity=\"1\" stroke-width=\"3.2\"/>\n",
       "<circle clip-path=\"url(#clip982)\" cx=\"1892\" cy=\"159.909\" r=\"58\" fill=\"#f1ec6d\" fill-rule=\"evenodd\" fill-opacity=\"1\" stroke=\"#000000\" stroke-opacity=\"1\" stroke-width=\"3.2\"/>\n",
       "<circle clip-path=\"url(#clip982)\" cx=\"884.751\" cy=\"1316.62\" r=\"14\" fill=\"#32095e\" fill-rule=\"evenodd\" fill-opacity=\"1\" stroke=\"#000000\" stroke-opacity=\"1\" stroke-width=\"3.2\"/>\n",
       "<circle clip-path=\"url(#clip982)\" cx=\"1136.56\" cy=\"159.909\" r=\"57\" fill=\"#f3df54\" fill-rule=\"evenodd\" fill-opacity=\"1\" stroke=\"#000000\" stroke-opacity=\"1\" stroke-width=\"3.2\"/>\n",
       "<circle clip-path=\"url(#clip982)\" cx=\"632.938\" cy=\"217.744\" r=\"52\" fill=\"#fbb519\" fill-rule=\"evenodd\" fill-opacity=\"1\" stroke=\"#000000\" stroke-opacity=\"1\" stroke-width=\"3.2\"/>\n",
       "<circle clip-path=\"url(#clip982)\" cx=\"1472.31\" cy=\"680.431\" r=\"56\" fill=\"#f5d645\" fill-rule=\"evenodd\" fill-opacity=\"1\" stroke=\"#000000\" stroke-opacity=\"1\" stroke-width=\"3.2\"/>\n",
       "<circle clip-path=\"url(#clip982)\" cx=\"1808.06\" cy=\"853.938\" r=\"56\" fill=\"#f5d948\" fill-rule=\"evenodd\" fill-opacity=\"1\" stroke=\"#000000\" stroke-opacity=\"1\" stroke-width=\"3.2\"/>\n",
       "<circle clip-path=\"url(#clip982)\" cx=\"1892\" cy=\"1374.46\" r=\"53\" fill=\"#fabe23\" fill-rule=\"evenodd\" fill-opacity=\"1\" stroke=\"#000000\" stroke-opacity=\"1\" stroke-width=\"3.2\"/>\n",
       "<circle clip-path=\"url(#clip982)\" cx=\"1808.06\" cy=\"391.252\" r=\"59\" fill=\"#f2f485\" fill-rule=\"evenodd\" fill-opacity=\"1\" stroke=\"#000000\" stroke-opacity=\"1\" stroke-width=\"3.2\"/>\n",
       "<circle clip-path=\"url(#clip982)\" cx=\"1220.5\" cy=\"275.58\" r=\"59\" fill=\"#f1f17c\" fill-rule=\"evenodd\" fill-opacity=\"1\" stroke=\"#000000\" stroke-opacity=\"1\" stroke-width=\"3.2\"/>\n",
       "<circle clip-path=\"url(#clip982)\" cx=\"716.876\" cy=\"1085.28\" r=\"39\" fill=\"#d84c3d\" fill-rule=\"evenodd\" fill-opacity=\"1\" stroke=\"#000000\" stroke-opacity=\"1\" stroke-width=\"3.2\"/>\n",
       "<circle clip-path=\"url(#clip982)\" cx=\"1472.31\" cy=\"1027.45\" r=\"51\" fill=\"#fbac10\" fill-rule=\"evenodd\" fill-opacity=\"1\" stroke=\"#000000\" stroke-opacity=\"1\" stroke-width=\"3.2\"/>\n",
       "<circle clip-path=\"url(#clip982)\" cx=\"1975.94\" cy=\"680.431\" r=\"60\" fill=\"#fafda0\" fill-rule=\"evenodd\" fill-opacity=\"1\" stroke=\"#000000\" stroke-opacity=\"1\" stroke-width=\"3.2\"/>\n",
       "<circle clip-path=\"url(#clip982)\" cx=\"549.001\" cy=\"217.744\" r=\"52\" fill=\"#fbb317\" fill-rule=\"evenodd\" fill-opacity=\"1\" stroke=\"#000000\" stroke-opacity=\"1\" stroke-width=\"3.2\"/>\n",
       "<circle clip-path=\"url(#clip982)\" cx=\"1136.56\" cy=\"680.431\" r=\"52\" fill=\"#fbb015\" fill-rule=\"evenodd\" fill-opacity=\"1\" stroke=\"#000000\" stroke-opacity=\"1\" stroke-width=\"3.2\"/>\n",
       "<circle clip-path=\"url(#clip982)\" cx=\"1892\" cy=\"911.774\" r=\"55\" fill=\"#f7d23e\" fill-rule=\"evenodd\" fill-opacity=\"1\" stroke=\"#000000\" stroke-opacity=\"1\" stroke-width=\"3.2\"/>\n",
       "<circle clip-path=\"url(#clip982)\" cx=\"1052.63\" cy=\"796.102\" r=\"50\" fill=\"#fb9d06\" fill-rule=\"evenodd\" fill-opacity=\"1\" stroke=\"#000000\" stroke-opacity=\"1\" stroke-width=\"3.2\"/>\n",
       "<circle clip-path=\"url(#clip982)\" cx=\"1724.13\" cy=\"506.923\" r=\"60\" fill=\"#f8fc9c\" fill-rule=\"evenodd\" fill-opacity=\"1\" stroke=\"#000000\" stroke-opacity=\"1\" stroke-width=\"3.2\"/>\n",
       "<circle clip-path=\"url(#clip982)\" cx=\"381.126\" cy=\"275.58\" r=\"51\" fill=\"#fbac10\" fill-rule=\"evenodd\" fill-opacity=\"1\" stroke=\"#000000\" stroke-opacity=\"1\" stroke-width=\"3.2\"/>\n",
       "<circle clip-path=\"url(#clip982)\" cx=\"2059.88\" cy=\"159.909\" r=\"58\" fill=\"#f1ec6d\" fill-rule=\"evenodd\" fill-opacity=\"1\" stroke=\"#000000\" stroke-opacity=\"1\" stroke-width=\"3.2\"/>\n",
       "<circle clip-path=\"url(#clip982)\" cx=\"716.876\" cy=\"853.938\" r=\"48\" fill=\"#f99007\" fill-rule=\"evenodd\" fill-opacity=\"1\" stroke=\"#000000\" stroke-opacity=\"1\" stroke-width=\"3.2\"/>\n",
       "<circle clip-path=\"url(#clip982)\" cx=\"1556.25\" cy=\"217.744\" r=\"58\" fill=\"#f1ee72\" fill-rule=\"evenodd\" fill-opacity=\"1\" stroke=\"#000000\" stroke-opacity=\"1\" stroke-width=\"3.2\"/>\n",
       "<circle clip-path=\"url(#clip982)\" cx=\"1724.13\" cy=\"1374.46\" r=\"52\" fill=\"#fbb317\" fill-rule=\"evenodd\" fill-opacity=\"1\" stroke=\"#000000\" stroke-opacity=\"1\" stroke-width=\"3.2\"/>\n",
       "<circle clip-path=\"url(#clip982)\" cx=\"968.688\" cy=\"159.909\" r=\"57\" fill=\"#f2e35c\" fill-rule=\"evenodd\" fill-opacity=\"1\" stroke=\"#000000\" stroke-opacity=\"1\" stroke-width=\"3.2\"/>\n",
       "<circle clip-path=\"url(#clip982)\" cx=\"884.751\" cy=\"680.431\" r=\"50\" fill=\"#fb9b06\" fill-rule=\"evenodd\" fill-opacity=\"1\" stroke=\"#000000\" stroke-opacity=\"1\" stroke-width=\"3.2\"/>\n",
       "<circle clip-path=\"url(#clip982)\" cx=\"1472.31\" cy=\"853.938\" r=\"54\" fill=\"#fac229\" fill-rule=\"evenodd\" fill-opacity=\"1\" stroke=\"#000000\" stroke-opacity=\"1\" stroke-width=\"3.2\"/>\n",
       "<circle clip-path=\"url(#clip982)\" cx=\"381.126\" cy=\"796.102\" r=\"10\" fill=\"#190b3f\" fill-rule=\"evenodd\" fill-opacity=\"1\" stroke=\"#000000\" stroke-opacity=\"1\" stroke-width=\"3.2\"/>\n",
       "<circle clip-path=\"url(#clip982)\" cx=\"381.126\" cy=\"333.416\" r=\"51\" fill=\"#fba50b\" fill-rule=\"evenodd\" fill-opacity=\"1\" stroke=\"#000000\" stroke-opacity=\"1\" stroke-width=\"3.2\"/>\n",
       "<circle clip-path=\"url(#clip982)\" cx=\"968.688\" cy=\"1200.95\" r=\"48\" fill=\"#f98e08\" fill-rule=\"evenodd\" fill-opacity=\"1\" stroke=\"#000000\" stroke-opacity=\"1\" stroke-width=\"3.2\"/>\n",
       "<circle clip-path=\"url(#clip982)\" cx=\"1388.38\" cy=\"911.774\" r=\"51\" fill=\"#fbac10\" fill-rule=\"evenodd\" fill-opacity=\"1\" stroke=\"#000000\" stroke-opacity=\"1\" stroke-width=\"3.2\"/>\n",
       "<circle clip-path=\"url(#clip982)\" cx=\"884.751\" cy=\"1085.28\" r=\"48\" fill=\"#f99007\" fill-rule=\"evenodd\" fill-opacity=\"1\" stroke=\"#000000\" stroke-opacity=\"1\" stroke-width=\"3.2\"/>\n",
       "<circle clip-path=\"url(#clip982)\" cx=\"2059.88\" cy=\"853.938\" r=\"59\" fill=\"#f2f380\" fill-rule=\"evenodd\" fill-opacity=\"1\" stroke=\"#000000\" stroke-opacity=\"1\" stroke-width=\"3.2\"/>\n",
       "<circle clip-path=\"url(#clip982)\" cx=\"1220.5\" cy=\"333.416\" r=\"59\" fill=\"#f1f17c\" fill-rule=\"evenodd\" fill-opacity=\"1\" stroke=\"#000000\" stroke-opacity=\"1\" stroke-width=\"3.2\"/>\n",
       "<circle clip-path=\"url(#clip982)\" cx=\"1304.44\" cy=\"1200.95\" r=\"50\" fill=\"#fb9b06\" fill-rule=\"evenodd\" fill-opacity=\"1\" stroke=\"#000000\" stroke-opacity=\"1\" stroke-width=\"3.2\"/>\n",
       "<circle clip-path=\"url(#clip982)\" cx=\"1304.44\" cy=\"1316.62\" r=\"50\" fill=\"#fba108\" fill-rule=\"evenodd\" fill-opacity=\"1\" stroke=\"#000000\" stroke-opacity=\"1\" stroke-width=\"3.2\"/>\n",
       "<circle clip-path=\"url(#clip982)\" cx=\"800.813\" cy=\"275.58\" r=\"53\" fill=\"#fbb91e\" fill-rule=\"evenodd\" fill-opacity=\"1\" stroke=\"#000000\" stroke-opacity=\"1\" stroke-width=\"3.2\"/>\n",
       "<circle clip-path=\"url(#clip982)\" cx=\"884.751\" cy=\"275.58\" r=\"54\" fill=\"#fac026\" fill-rule=\"evenodd\" fill-opacity=\"1\" stroke=\"#000000\" stroke-opacity=\"1\" stroke-width=\"3.2\"/>\n",
       "<circle clip-path=\"url(#clip982)\" cx=\"968.688\" cy=\"1027.45\" r=\"49\" fill=\"#fa9207\" fill-rule=\"evenodd\" fill-opacity=\"1\" stroke=\"#000000\" stroke-opacity=\"1\" stroke-width=\"3.2\"/>\n",
       "<circle clip-path=\"url(#clip982)\" cx=\"1136.56\" cy=\"1316.62\" r=\"49\" fill=\"#fa9207\" fill-rule=\"evenodd\" fill-opacity=\"1\" stroke=\"#000000\" stroke-opacity=\"1\" stroke-width=\"3.2\"/>\n",
       "<circle clip-path=\"url(#clip982)\" cx=\"968.688\" cy=\"1258.79\" r=\"49\" fill=\"#fa9406\" fill-rule=\"evenodd\" fill-opacity=\"1\" stroke=\"#000000\" stroke-opacity=\"1\" stroke-width=\"3.2\"/>\n",
       "<circle clip-path=\"url(#clip982)\" cx=\"297.188\" cy=\"564.759\" r=\"49\" fill=\"#fa9406\" fill-rule=\"evenodd\" fill-opacity=\"1\" stroke=\"#000000\" stroke-opacity=\"1\" stroke-width=\"3.2\"/>\n",
       "<circle clip-path=\"url(#clip982)\" cx=\"1220.5\" cy=\"1143.12\" r=\"51\" fill=\"#fba80c\" fill-rule=\"evenodd\" fill-opacity=\"1\" stroke=\"#000000\" stroke-opacity=\"1\" stroke-width=\"3.2\"/>\n",
       "<circle clip-path=\"url(#clip982)\" cx=\"1975.94\" cy=\"1374.46\" r=\"54\" fill=\"#f9c42c\" fill-rule=\"evenodd\" fill-opacity=\"1\" stroke=\"#000000\" stroke-opacity=\"1\" stroke-width=\"3.2\"/>\n",
       "<circle clip-path=\"url(#clip982)\" cx=\"1808.06\" cy=\"796.102\" r=\"58\" fill=\"#f1e864\" fill-rule=\"evenodd\" fill-opacity=\"1\" stroke=\"#000000\" stroke-opacity=\"1\" stroke-width=\"3.2\"/>\n",
       "<circle clip-path=\"url(#clip982)\" cx=\"632.938\" cy=\"796.102\" r=\"48\" fill=\"#f8880c\" fill-rule=\"evenodd\" fill-opacity=\"1\" stroke=\"#000000\" stroke-opacity=\"1\" stroke-width=\"3.2\"/>\n",
       "<circle clip-path=\"url(#clip982)\" cx=\"632.938\" cy=\"1374.46\" r=\"3\" fill=\"#000003\" fill-rule=\"evenodd\" fill-opacity=\"1\" stroke=\"#000000\" stroke-opacity=\"1\" stroke-width=\"3.2\"/>\n",
       "<circle clip-path=\"url(#clip982)\" cx=\"1304.44\" cy=\"1085.28\" r=\"49\" fill=\"#fa9606\" fill-rule=\"evenodd\" fill-opacity=\"1\" stroke=\"#000000\" stroke-opacity=\"1\" stroke-width=\"3.2\"/>\n",
       "<circle clip-path=\"url(#clip982)\" cx=\"1220.5\" cy=\"159.909\" r=\"58\" fill=\"#f1e864\" fill-rule=\"evenodd\" fill-opacity=\"1\" stroke=\"#000000\" stroke-opacity=\"1\" stroke-width=\"3.2\"/>\n",
       "<circle clip-path=\"url(#clip982)\" cx=\"800.813\" cy=\"680.431\" r=\"51\" fill=\"#fba309\" fill-rule=\"evenodd\" fill-opacity=\"1\" stroke=\"#000000\" stroke-opacity=\"1\" stroke-width=\"3.2\"/>\n",
       "<circle clip-path=\"url(#clip982)\" cx=\"716.876\" cy=\"1143.12\" r=\"14\" fill=\"#32095e\" fill-rule=\"evenodd\" fill-opacity=\"1\" stroke=\"#000000\" stroke-opacity=\"1\" stroke-width=\"3.2\"/>\n",
       "<circle clip-path=\"url(#clip982)\" cx=\"1136.56\" cy=\"1085.28\" r=\"51\" fill=\"#fbac10\" fill-rule=\"evenodd\" fill-opacity=\"1\" stroke=\"#000000\" stroke-opacity=\"1\" stroke-width=\"3.2\"/>\n",
       "<circle clip-path=\"url(#clip982)\" cx=\"1808.06\" cy=\"159.909\" r=\"58\" fill=\"#f1ec6d\" fill-rule=\"evenodd\" fill-opacity=\"1\" stroke=\"#000000\" stroke-opacity=\"1\" stroke-width=\"3.2\"/>\n",
       "<circle clip-path=\"url(#clip982)\" cx=\"1052.63\" cy=\"333.416\" r=\"57\" fill=\"#f3df54\" fill-rule=\"evenodd\" fill-opacity=\"1\" stroke=\"#000000\" stroke-opacity=\"1\" stroke-width=\"3.2\"/>\n",
       "<circle clip-path=\"url(#clip982)\" cx=\"1472.31\" cy=\"1258.79\" r=\"49\" fill=\"#fa9406\" fill-rule=\"evenodd\" fill-opacity=\"1\" stroke=\"#000000\" stroke-opacity=\"1\" stroke-width=\"3.2\"/>\n",
       "<circle clip-path=\"url(#clip982)\" cx=\"716.876\" cy=\"506.923\" r=\"50\" fill=\"#fb9f07\" fill-rule=\"evenodd\" fill-opacity=\"1\" stroke=\"#000000\" stroke-opacity=\"1\" stroke-width=\"3.2\"/>\n",
       "<circle clip-path=\"url(#clip982)\" cx=\"549.001\" cy=\"969.61\" r=\"14\" fill=\"#30095c\" fill-rule=\"evenodd\" fill-opacity=\"1\" stroke=\"#000000\" stroke-opacity=\"1\" stroke-width=\"3.2\"/>\n",
       "<circle clip-path=\"url(#clip982)\" cx=\"1556.25\" cy=\"969.61\" r=\"54\" fill=\"#fac229\" fill-rule=\"evenodd\" fill-opacity=\"1\" stroke=\"#000000\" stroke-opacity=\"1\" stroke-width=\"3.2\"/>\n",
       "<circle clip-path=\"url(#clip982)\" cx=\"1975.94\" cy=\"853.938\" r=\"58\" fill=\"#f1ef77\" fill-rule=\"evenodd\" fill-opacity=\"1\" stroke=\"#000000\" stroke-opacity=\"1\" stroke-width=\"3.2\"/>\n",
       "<circle clip-path=\"url(#clip982)\" cx=\"1975.94\" cy=\"564.759\" r=\"60\" fill=\"#fafda0\" fill-rule=\"evenodd\" fill-opacity=\"1\" stroke=\"#000000\" stroke-opacity=\"1\" stroke-width=\"3.2\"/>\n",
       "<circle clip-path=\"url(#clip982)\" cx=\"1472.31\" cy=\"1316.62\" r=\"48\" fill=\"#f99007\" fill-rule=\"evenodd\" fill-opacity=\"1\" stroke=\"#000000\" stroke-opacity=\"1\" stroke-width=\"3.2\"/>\n",
       "<circle clip-path=\"url(#clip982)\" cx=\"1640.19\" cy=\"275.58\" r=\"59\" fill=\"#f3f68a\" fill-rule=\"evenodd\" fill-opacity=\"1\" stroke=\"#000000\" stroke-opacity=\"1\" stroke-width=\"3.2\"/>\n",
       "<circle clip-path=\"url(#clip982)\" cx=\"2059.88\" cy=\"1258.79\" r=\"54\" fill=\"#f9c42c\" fill-rule=\"evenodd\" fill-opacity=\"1\" stroke=\"#000000\" stroke-opacity=\"1\" stroke-width=\"3.2\"/>\n",
       "<circle clip-path=\"url(#clip982)\" cx=\"1808.06\" cy=\"1316.62\" r=\"52\" fill=\"#fbae12\" fill-rule=\"evenodd\" fill-opacity=\"1\" stroke=\"#000000\" stroke-opacity=\"1\" stroke-width=\"3.2\"/>\n",
       "<circle clip-path=\"url(#clip982)\" cx=\"549.001\" cy=\"622.595\" r=\"48\" fill=\"#f99007\" fill-rule=\"evenodd\" fill-opacity=\"1\" stroke=\"#000000\" stroke-opacity=\"1\" stroke-width=\"3.2\"/>\n",
       "<circle clip-path=\"url(#clip982)\" cx=\"1220.5\" cy=\"622.595\" r=\"56\" fill=\"#f6d441\" fill-rule=\"evenodd\" fill-opacity=\"1\" stroke=\"#000000\" stroke-opacity=\"1\" stroke-width=\"3.2\"/>\n",
       "<circle clip-path=\"url(#clip982)\" cx=\"1724.13\" cy=\"275.58\" r=\"59\" fill=\"#f3f68a\" fill-rule=\"evenodd\" fill-opacity=\"1\" stroke=\"#000000\" stroke-opacity=\"1\" stroke-width=\"3.2\"/>\n",
       "<circle clip-path=\"url(#clip982)\" cx=\"549.001\" cy=\"911.774\" r=\"38\" fill=\"#d14643\" fill-rule=\"evenodd\" fill-opacity=\"1\" stroke=\"#000000\" stroke-opacity=\"1\" stroke-width=\"3.2\"/>\n",
       "<circle clip-path=\"url(#clip982)\" cx=\"1892\" cy=\"969.61\" r=\"54\" fill=\"#f9c72f\" fill-rule=\"evenodd\" fill-opacity=\"1\" stroke=\"#000000\" stroke-opacity=\"1\" stroke-width=\"3.2\"/>\n",
       "<circle clip-path=\"url(#clip982)\" cx=\"1808.06\" cy=\"564.759\" r=\"60\" fill=\"#fafda0\" fill-rule=\"evenodd\" fill-opacity=\"1\" stroke=\"#000000\" stroke-opacity=\"1\" stroke-width=\"3.2\"/>\n",
       "<circle clip-path=\"url(#clip982)\" cx=\"716.876\" cy=\"449.088\" r=\"51\" fill=\"#fba80c\" fill-rule=\"evenodd\" fill-opacity=\"1\" stroke=\"#000000\" stroke-opacity=\"1\" stroke-width=\"3.2\"/>\n",
       "<circle clip-path=\"url(#clip982)\" cx=\"884.751\" cy=\"1200.95\" r=\"49\" fill=\"#fa9406\" fill-rule=\"evenodd\" fill-opacity=\"1\" stroke=\"#000000\" stroke-opacity=\"1\" stroke-width=\"3.2\"/>\n",
       "<circle clip-path=\"url(#clip982)\" cx=\"465.063\" cy=\"1085.28\" r=\"3\" fill=\"#000003\" fill-rule=\"evenodd\" fill-opacity=\"1\" stroke=\"#000000\" stroke-opacity=\"1\" stroke-width=\"3.2\"/>\n",
       "<circle clip-path=\"url(#clip982)\" cx=\"632.938\" cy=\"1258.79\" r=\"3\" fill=\"#000003\" fill-rule=\"evenodd\" fill-opacity=\"1\" stroke=\"#000000\" stroke-opacity=\"1\" stroke-width=\"3.2\"/>\n",
       "<circle clip-path=\"url(#clip982)\" cx=\"297.188\" cy=\"391.252\" r=\"49\" fill=\"#fa9207\" fill-rule=\"evenodd\" fill-opacity=\"1\" stroke=\"#000000\" stroke-opacity=\"1\" stroke-width=\"3.2\"/>\n",
       "<circle clip-path=\"url(#clip982)\" cx=\"1808.06\" cy=\"449.088\" r=\"60\" fill=\"#f5f993\" fill-rule=\"evenodd\" fill-opacity=\"1\" stroke=\"#000000\" stroke-opacity=\"1\" stroke-width=\"3.2\"/>\n",
       "<circle clip-path=\"url(#clip982)\" cx=\"381.126\" cy=\"1374.46\" r=\"3\" fill=\"#000003\" fill-rule=\"evenodd\" fill-opacity=\"1\" stroke=\"#000000\" stroke-opacity=\"1\" stroke-width=\"3.2\"/>\n",
       "<circle clip-path=\"url(#clip982)\" cx=\"1975.94\" cy=\"333.416\" r=\"59\" fill=\"#f2f380\" fill-rule=\"evenodd\" fill-opacity=\"1\" stroke=\"#000000\" stroke-opacity=\"1\" stroke-width=\"3.2\"/>\n",
       "<circle clip-path=\"url(#clip982)\" cx=\"1052.63\" cy=\"911.774\" r=\"49\" fill=\"#fa9207\" fill-rule=\"evenodd\" fill-opacity=\"1\" stroke=\"#000000\" stroke-opacity=\"1\" stroke-width=\"3.2\"/>\n",
       "<circle clip-path=\"url(#clip982)\" cx=\"549.001\" cy=\"738.266\" r=\"49\" fill=\"#fa9207\" fill-rule=\"evenodd\" fill-opacity=\"1\" stroke=\"#000000\" stroke-opacity=\"1\" stroke-width=\"3.2\"/>\n",
       "<circle clip-path=\"url(#clip982)\" cx=\"632.938\" cy=\"391.252\" r=\"51\" fill=\"#fba309\" fill-rule=\"evenodd\" fill-opacity=\"1\" stroke=\"#000000\" stroke-opacity=\"1\" stroke-width=\"3.2\"/>\n",
       "<circle clip-path=\"url(#clip982)\" cx=\"1304.44\" cy=\"391.252\" r=\"59\" fill=\"#f1f17c\" fill-rule=\"evenodd\" fill-opacity=\"1\" stroke=\"#000000\" stroke-opacity=\"1\" stroke-width=\"3.2\"/>\n",
       "<circle clip-path=\"url(#clip982)\" cx=\"884.751\" cy=\"1258.79\" r=\"41\" fill=\"#e05535\" fill-rule=\"evenodd\" fill-opacity=\"1\" stroke=\"#000000\" stroke-opacity=\"1\" stroke-width=\"3.2\"/>\n",
       "<circle clip-path=\"url(#clip982)\" cx=\"716.876\" cy=\"159.909\" r=\"53\" fill=\"#fbb91e\" fill-rule=\"evenodd\" fill-opacity=\"1\" stroke=\"#000000\" stroke-opacity=\"1\" stroke-width=\"3.2\"/>\n",
       "<circle clip-path=\"url(#clip982)\" cx=\"1975.94\" cy=\"796.102\" r=\"59\" fill=\"#f3f68a\" fill-rule=\"evenodd\" fill-opacity=\"1\" stroke=\"#000000\" stroke-opacity=\"1\" stroke-width=\"3.2\"/>\n",
       "<circle clip-path=\"url(#clip982)\" cx=\"465.063\" cy=\"680.431\" r=\"48\" fill=\"#f98c09\" fill-rule=\"evenodd\" fill-opacity=\"1\" stroke=\"#000000\" stroke-opacity=\"1\" stroke-width=\"3.2\"/>\n",
       "<circle clip-path=\"url(#clip982)\" cx=\"297.188\" cy=\"1085.28\" r=\"3\" fill=\"#000003\" fill-rule=\"evenodd\" fill-opacity=\"1\" stroke=\"#000000\" stroke-opacity=\"1\" stroke-width=\"3.2\"/>\n",
       "<circle clip-path=\"url(#clip982)\" cx=\"1640.19\" cy=\"680.431\" r=\"58\" fill=\"#f1ea69\" fill-rule=\"evenodd\" fill-opacity=\"1\" stroke=\"#000000\" stroke-opacity=\"1\" stroke-width=\"3.2\"/>\n",
       "<circle clip-path=\"url(#clip982)\" cx=\"884.751\" cy=\"969.61\" r=\"48\" fill=\"#f99007\" fill-rule=\"evenodd\" fill-opacity=\"1\" stroke=\"#000000\" stroke-opacity=\"1\" stroke-width=\"3.2\"/>\n",
       "<circle clip-path=\"url(#clip982)\" cx=\"968.688\" cy=\"1143.12\" r=\"48\" fill=\"#f88a0b\" fill-rule=\"evenodd\" fill-opacity=\"1\" stroke=\"#000000\" stroke-opacity=\"1\" stroke-width=\"3.2\"/>\n",
       "<circle clip-path=\"url(#clip982)\" cx=\"884.751\" cy=\"391.252\" r=\"53\" fill=\"#fbb71c\" fill-rule=\"evenodd\" fill-opacity=\"1\" stroke=\"#000000\" stroke-opacity=\"1\" stroke-width=\"3.2\"/>\n",
       "<circle clip-path=\"url(#clip982)\" cx=\"1975.94\" cy=\"1200.95\" r=\"54\" fill=\"#f9c42c\" fill-rule=\"evenodd\" fill-opacity=\"1\" stroke=\"#000000\" stroke-opacity=\"1\" stroke-width=\"3.2\"/>\n",
       "<circle clip-path=\"url(#clip982)\" cx=\"716.876\" cy=\"217.744\" r=\"53\" fill=\"#fbb71c\" fill-rule=\"evenodd\" fill-opacity=\"1\" stroke=\"#000000\" stroke-opacity=\"1\" stroke-width=\"3.2\"/>\n",
       "<circle clip-path=\"url(#clip982)\" cx=\"632.938\" cy=\"564.759\" r=\"52\" fill=\"#fbb519\" fill-rule=\"evenodd\" fill-opacity=\"1\" stroke=\"#000000\" stroke-opacity=\"1\" stroke-width=\"3.2\"/>\n",
       "<circle clip-path=\"url(#clip982)\" cx=\"1388.38\" cy=\"1200.95\" r=\"49\" fill=\"#fa9606\" fill-rule=\"evenodd\" fill-opacity=\"1\" stroke=\"#000000\" stroke-opacity=\"1\" stroke-width=\"3.2\"/>\n",
       "<circle clip-path=\"url(#clip982)\" cx=\"1556.25\" cy=\"1316.62\" r=\"49\" fill=\"#fb9806\" fill-rule=\"evenodd\" fill-opacity=\"1\" stroke=\"#000000\" stroke-opacity=\"1\" stroke-width=\"3.2\"/>\n",
       "<circle clip-path=\"url(#clip982)\" cx=\"1388.38\" cy=\"1143.12\" r=\"50\" fill=\"#fb9d06\" fill-rule=\"evenodd\" fill-opacity=\"1\" stroke=\"#000000\" stroke-opacity=\"1\" stroke-width=\"3.2\"/>\n",
       "<circle clip-path=\"url(#clip982)\" cx=\"297.188\" cy=\"969.61\" r=\"3\" fill=\"#000003\" fill-rule=\"evenodd\" fill-opacity=\"1\" stroke=\"#000000\" stroke-opacity=\"1\" stroke-width=\"3.2\"/>\n",
       "<circle clip-path=\"url(#clip982)\" cx=\"716.876\" cy=\"333.416\" r=\"53\" fill=\"#fbb71c\" fill-rule=\"evenodd\" fill-opacity=\"1\" stroke=\"#000000\" stroke-opacity=\"1\" stroke-width=\"3.2\"/>\n",
       "<circle clip-path=\"url(#clip982)\" cx=\"1892\" cy=\"1200.95\" r=\"54\" fill=\"#f9c42c\" fill-rule=\"evenodd\" fill-opacity=\"1\" stroke=\"#000000\" stroke-opacity=\"1\" stroke-width=\"3.2\"/>\n",
       "<circle clip-path=\"url(#clip982)\" cx=\"1724.13\" cy=\"564.759\" r=\"60\" fill=\"#f7fa97\" fill-rule=\"evenodd\" fill-opacity=\"1\" stroke=\"#000000\" stroke-opacity=\"1\" stroke-width=\"3.2\"/>\n",
       "<circle clip-path=\"url(#clip982)\" cx=\"716.876\" cy=\"1258.79\" r=\"3\" fill=\"#000003\" fill-rule=\"evenodd\" fill-opacity=\"1\" stroke=\"#000000\" stroke-opacity=\"1\" stroke-width=\"3.2\"/>\n",
       "<circle clip-path=\"url(#clip982)\" cx=\"1640.19\" cy=\"1316.62\" r=\"52\" fill=\"#fbb317\" fill-rule=\"evenodd\" fill-opacity=\"1\" stroke=\"#000000\" stroke-opacity=\"1\" stroke-width=\"3.2\"/>\n",
       "<circle clip-path=\"url(#clip982)\" cx=\"884.751\" cy=\"217.744\" r=\"55\" fill=\"#f7d03b\" fill-rule=\"evenodd\" fill-opacity=\"1\" stroke=\"#000000\" stroke-opacity=\"1\" stroke-width=\"3.2\"/>\n",
       "<circle clip-path=\"url(#clip982)\" cx=\"1388.38\" cy=\"564.759\" r=\"58\" fill=\"#f1ea69\" fill-rule=\"evenodd\" fill-opacity=\"1\" stroke=\"#000000\" stroke-opacity=\"1\" stroke-width=\"3.2\"/>\n",
       "<circle clip-path=\"url(#clip982)\" cx=\"1472.31\" cy=\"391.252\" r=\"59\" fill=\"#f3f68a\" fill-rule=\"evenodd\" fill-opacity=\"1\" stroke=\"#000000\" stroke-opacity=\"1\" stroke-width=\"3.2\"/>\n",
       "<circle clip-path=\"url(#clip982)\" cx=\"381.126\" cy=\"1143.12\" r=\"3\" fill=\"#000003\" fill-rule=\"evenodd\" fill-opacity=\"1\" stroke=\"#000000\" stroke-opacity=\"1\" stroke-width=\"3.2\"/>\n",
       "<circle clip-path=\"url(#clip982)\" cx=\"1892\" cy=\"217.744\" r=\"58\" fill=\"#f1ee72\" fill-rule=\"evenodd\" fill-opacity=\"1\" stroke=\"#000000\" stroke-opacity=\"1\" stroke-width=\"3.2\"/>\n",
       "<circle clip-path=\"url(#clip982)\" cx=\"884.751\" cy=\"449.088\" r=\"52\" fill=\"#fbb317\" fill-rule=\"evenodd\" fill-opacity=\"1\" stroke=\"#000000\" stroke-opacity=\"1\" stroke-width=\"3.2\"/>\n",
       "<circle clip-path=\"url(#clip982)\" cx=\"1136.56\" cy=\"911.774\" r=\"49\" fill=\"#fb9806\" fill-rule=\"evenodd\" fill-opacity=\"1\" stroke=\"#000000\" stroke-opacity=\"1\" stroke-width=\"3.2\"/>\n",
       "<circle clip-path=\"url(#clip982)\" cx=\"549.001\" cy=\"1027.45\" r=\"3\" fill=\"#000004\" fill-rule=\"evenodd\" fill-opacity=\"1\" stroke=\"#000000\" stroke-opacity=\"1\" stroke-width=\"3.2\"/>\n",
       "<circle clip-path=\"url(#clip982)\" cx=\"1892\" cy=\"449.088\" r=\"60\" fill=\"#f5f993\" fill-rule=\"evenodd\" fill-opacity=\"1\" stroke=\"#000000\" stroke-opacity=\"1\" stroke-width=\"3.2\"/>\n",
       "<circle clip-path=\"url(#clip982)\" cx=\"549.001\" cy=\"796.102\" r=\"48\" fill=\"#f88a0b\" fill-rule=\"evenodd\" fill-opacity=\"1\" stroke=\"#000000\" stroke-opacity=\"1\" stroke-width=\"3.2\"/>\n",
       "<circle clip-path=\"url(#clip982)\" cx=\"1640.19\" cy=\"796.102\" r=\"55\" fill=\"#f7d03b\" fill-rule=\"evenodd\" fill-opacity=\"1\" stroke=\"#000000\" stroke-opacity=\"1\" stroke-width=\"3.2\"/>\n",
       "<circle clip-path=\"url(#clip982)\" cx=\"968.688\" cy=\"796.102\" r=\"49\" fill=\"#fa9406\" fill-rule=\"evenodd\" fill-opacity=\"1\" stroke=\"#000000\" stroke-opacity=\"1\" stroke-width=\"3.2\"/>\n",
       "<circle clip-path=\"url(#clip982)\" cx=\"800.813\" cy=\"506.923\" r=\"51\" fill=\"#fbaa0e\" fill-rule=\"evenodd\" fill-opacity=\"1\" stroke=\"#000000\" stroke-opacity=\"1\" stroke-width=\"3.2\"/>\n",
       "<circle clip-path=\"url(#clip982)\" cx=\"1724.13\" cy=\"1143.12\" r=\"54\" fill=\"#f9c42c\" fill-rule=\"evenodd\" fill-opacity=\"1\" stroke=\"#000000\" stroke-opacity=\"1\" stroke-width=\"3.2\"/>\n",
       "<circle clip-path=\"url(#clip982)\" cx=\"968.688\" cy=\"969.61\" r=\"50\" fill=\"#fb9f07\" fill-rule=\"evenodd\" fill-opacity=\"1\" stroke=\"#000000\" stroke-opacity=\"1\" stroke-width=\"3.2\"/>\n",
       "<circle clip-path=\"url(#clip982)\" cx=\"632.938\" cy=\"1200.95\" r=\"3\" fill=\"#000003\" fill-rule=\"evenodd\" fill-opacity=\"1\" stroke=\"#000000\" stroke-opacity=\"1\" stroke-width=\"3.2\"/>\n",
       "<circle clip-path=\"url(#clip982)\" cx=\"884.751\" cy=\"506.923\" r=\"52\" fill=\"#fbb317\" fill-rule=\"evenodd\" fill-opacity=\"1\" stroke=\"#000000\" stroke-opacity=\"1\" stroke-width=\"3.2\"/>\n",
       "<circle clip-path=\"url(#clip982)\" cx=\"1808.06\" cy=\"738.266\" r=\"59\" fill=\"#f1f17c\" fill-rule=\"evenodd\" fill-opacity=\"1\" stroke=\"#000000\" stroke-opacity=\"1\" stroke-width=\"3.2\"/>\n",
       "<circle clip-path=\"url(#clip982)\" cx=\"465.063\" cy=\"391.252\" r=\"51\" fill=\"#fbac10\" fill-rule=\"evenodd\" fill-opacity=\"1\" stroke=\"#000000\" stroke-opacity=\"1\" stroke-width=\"3.2\"/>\n",
       "<circle clip-path=\"url(#clip982)\" cx=\"465.063\" cy=\"1143.12\" r=\"3\" fill=\"#000003\" fill-rule=\"evenodd\" fill-opacity=\"1\" stroke=\"#000000\" stroke-opacity=\"1\" stroke-width=\"3.2\"/>\n",
       "<circle clip-path=\"url(#clip982)\" cx=\"632.938\" cy=\"1085.28\" r=\"6\" fill=\"#050417\" fill-rule=\"evenodd\" fill-opacity=\"1\" stroke=\"#000000\" stroke-opacity=\"1\" stroke-width=\"3.2\"/>\n",
       "<circle clip-path=\"url(#clip982)\" cx=\"1052.63\" cy=\"1200.95\" r=\"49\" fill=\"#fa9406\" fill-rule=\"evenodd\" fill-opacity=\"1\" stroke=\"#000000\" stroke-opacity=\"1\" stroke-width=\"3.2\"/>\n",
       "<circle clip-path=\"url(#clip982)\" cx=\"1220.5\" cy=\"564.759\" r=\"56\" fill=\"#f6d441\" fill-rule=\"evenodd\" fill-opacity=\"1\" stroke=\"#000000\" stroke-opacity=\"1\" stroke-width=\"3.2\"/>\n",
       "<circle clip-path=\"url(#clip982)\" cx=\"1892\" cy=\"680.431\" r=\"60\" fill=\"#f7fa97\" fill-rule=\"evenodd\" fill-opacity=\"1\" stroke=\"#000000\" stroke-opacity=\"1\" stroke-width=\"3.2\"/>\n",
       "<circle clip-path=\"url(#clip982)\" cx=\"800.813\" cy=\"969.61\" r=\"48\" fill=\"#f8880c\" fill-rule=\"evenodd\" fill-opacity=\"1\" stroke=\"#000000\" stroke-opacity=\"1\" stroke-width=\"3.2\"/>\n",
       "<circle clip-path=\"url(#clip982)\" cx=\"549.001\" cy=\"1085.28\" r=\"3\" fill=\"#000003\" fill-rule=\"evenodd\" fill-opacity=\"1\" stroke=\"#000000\" stroke-opacity=\"1\" stroke-width=\"3.2\"/>\n",
       "<circle clip-path=\"url(#clip982)\" cx=\"2059.88\" cy=\"680.431\" r=\"61\" fill=\"#fcfea4\" fill-rule=\"evenodd\" fill-opacity=\"1\" stroke=\"#000000\" stroke-opacity=\"1\" stroke-width=\"3.2\"/>\n",
       "<circle clip-path=\"url(#clip982)\" cx=\"800.813\" cy=\"449.088\" r=\"52\" fill=\"#fbb317\" fill-rule=\"evenodd\" fill-opacity=\"1\" stroke=\"#000000\" stroke-opacity=\"1\" stroke-width=\"3.2\"/>\n",
       "<circle clip-path=\"url(#clip982)\" cx=\"549.001\" cy=\"333.416\" r=\"51\" fill=\"#fba80c\" fill-rule=\"evenodd\" fill-opacity=\"1\" stroke=\"#000000\" stroke-opacity=\"1\" stroke-width=\"3.2\"/>\n",
       "<circle clip-path=\"url(#clip982)\" cx=\"1724.13\" cy=\"969.61\" r=\"54\" fill=\"#f9c42c\" fill-rule=\"evenodd\" fill-opacity=\"1\" stroke=\"#000000\" stroke-opacity=\"1\" stroke-width=\"3.2\"/>\n",
       "<circle clip-path=\"url(#clip982)\" cx=\"632.938\" cy=\"159.909\" r=\"53\" fill=\"#fbb71c\" fill-rule=\"evenodd\" fill-opacity=\"1\" stroke=\"#000000\" stroke-opacity=\"1\" stroke-width=\"3.2\"/>\n",
       "<circle clip-path=\"url(#clip982)\" cx=\"1220.5\" cy=\"506.923\" r=\"56\" fill=\"#f4dd50\" fill-rule=\"evenodd\" fill-opacity=\"1\" stroke=\"#000000\" stroke-opacity=\"1\" stroke-width=\"3.2\"/>\n",
       "<circle clip-path=\"url(#clip982)\" cx=\"1724.13\" cy=\"1258.79\" r=\"51\" fill=\"#fbaa0e\" fill-rule=\"evenodd\" fill-opacity=\"1\" stroke=\"#000000\" stroke-opacity=\"1\" stroke-width=\"3.2\"/>\n",
       "<circle clip-path=\"url(#clip982)\" cx=\"1556.25\" cy=\"333.416\" r=\"59\" fill=\"#f2f485\" fill-rule=\"evenodd\" fill-opacity=\"1\" stroke=\"#000000\" stroke-opacity=\"1\" stroke-width=\"3.2\"/>\n",
       "<circle clip-path=\"url(#clip982)\" cx=\"1052.63\" cy=\"1085.28\" r=\"48\" fill=\"#f99007\" fill-rule=\"evenodd\" fill-opacity=\"1\" stroke=\"#000000\" stroke-opacity=\"1\" stroke-width=\"3.2\"/>\n",
       "<circle clip-path=\"url(#clip982)\" cx=\"1136.56\" cy=\"1200.95\" r=\"49\" fill=\"#fa9207\" fill-rule=\"evenodd\" fill-opacity=\"1\" stroke=\"#000000\" stroke-opacity=\"1\" stroke-width=\"3.2\"/>\n",
       "<circle clip-path=\"url(#clip982)\" cx=\"465.063\" cy=\"333.416\" r=\"52\" fill=\"#fbb519\" fill-rule=\"evenodd\" fill-opacity=\"1\" stroke=\"#000000\" stroke-opacity=\"1\" stroke-width=\"3.2\"/>\n",
       "<circle clip-path=\"url(#clip982)\" cx=\"2059.88\" cy=\"1143.12\" r=\"54\" fill=\"#f9c42c\" fill-rule=\"evenodd\" fill-opacity=\"1\" stroke=\"#000000\" stroke-opacity=\"1\" stroke-width=\"3.2\"/>\n",
       "<circle clip-path=\"url(#clip982)\" cx=\"381.126\" cy=\"1258.79\" r=\"3\" fill=\"#000003\" fill-rule=\"evenodd\" fill-opacity=\"1\" stroke=\"#000000\" stroke-opacity=\"1\" stroke-width=\"3.2\"/>\n",
       "<circle clip-path=\"url(#clip982)\" cx=\"381.126\" cy=\"969.61\" r=\"3\" fill=\"#000003\" fill-rule=\"evenodd\" fill-opacity=\"1\" stroke=\"#000000\" stroke-opacity=\"1\" stroke-width=\"3.2\"/>\n",
       "<circle clip-path=\"url(#clip982)\" cx=\"1136.56\" cy=\"391.252\" r=\"57\" fill=\"#f3e158\" fill-rule=\"evenodd\" fill-opacity=\"1\" stroke=\"#000000\" stroke-opacity=\"1\" stroke-width=\"3.2\"/>\n",
       "<circle clip-path=\"url(#clip982)\" cx=\"1975.94\" cy=\"159.909\" r=\"58\" fill=\"#f1ec6d\" fill-rule=\"evenodd\" fill-opacity=\"1\" stroke=\"#000000\" stroke-opacity=\"1\" stroke-width=\"3.2\"/>\n",
       "<circle clip-path=\"url(#clip982)\" cx=\"2059.88\" cy=\"796.102\" r=\"60\" fill=\"#f7fa97\" fill-rule=\"evenodd\" fill-opacity=\"1\" stroke=\"#000000\" stroke-opacity=\"1\" stroke-width=\"3.2\"/>\n",
       "<circle clip-path=\"url(#clip982)\" cx=\"1388.38\" cy=\"622.595\" r=\"56\" fill=\"#f5d948\" fill-rule=\"evenodd\" fill-opacity=\"1\" stroke=\"#000000\" stroke-opacity=\"1\" stroke-width=\"3.2\"/>\n",
       "<circle clip-path=\"url(#clip982)\" cx=\"1975.94\" cy=\"738.266\" r=\"60\" fill=\"#f8fc9c\" fill-rule=\"evenodd\" fill-opacity=\"1\" stroke=\"#000000\" stroke-opacity=\"1\" stroke-width=\"3.2\"/>\n",
       "<circle clip-path=\"url(#clip982)\" cx=\"2059.88\" cy=\"391.252\" r=\"59\" fill=\"#f2f485\" fill-rule=\"evenodd\" fill-opacity=\"1\" stroke=\"#000000\" stroke-opacity=\"1\" stroke-width=\"3.2\"/>\n",
       "<circle clip-path=\"url(#clip982)\" cx=\"1640.19\" cy=\"1258.79\" r=\"52\" fill=\"#fbb519\" fill-rule=\"evenodd\" fill-opacity=\"1\" stroke=\"#000000\" stroke-opacity=\"1\" stroke-width=\"3.2\"/>\n",
       "<circle clip-path=\"url(#clip982)\" cx=\"381.126\" cy=\"1027.45\" r=\"3\" fill=\"#000003\" fill-rule=\"evenodd\" fill-opacity=\"1\" stroke=\"#000000\" stroke-opacity=\"1\" stroke-width=\"3.2\"/>\n",
       "<circle clip-path=\"url(#clip982)\" cx=\"1640.19\" cy=\"564.759\" r=\"60\" fill=\"#f8fc9c\" fill-rule=\"evenodd\" fill-opacity=\"1\" stroke=\"#000000\" stroke-opacity=\"1\" stroke-width=\"3.2\"/>\n",
       "<circle clip-path=\"url(#clip982)\" cx=\"1556.25\" cy=\"506.923\" r=\"60\" fill=\"#f7fa97\" fill-rule=\"evenodd\" fill-opacity=\"1\" stroke=\"#000000\" stroke-opacity=\"1\" stroke-width=\"3.2\"/>\n",
       "<circle clip-path=\"url(#clip982)\" cx=\"1388.38\" cy=\"1374.46\" r=\"51\" fill=\"#fbaa0e\" fill-rule=\"evenodd\" fill-opacity=\"1\" stroke=\"#000000\" stroke-opacity=\"1\" stroke-width=\"3.2\"/>\n",
       "<circle clip-path=\"url(#clip982)\" cx=\"1220.5\" cy=\"1374.46\" r=\"49\" fill=\"#fa9606\" fill-rule=\"evenodd\" fill-opacity=\"1\" stroke=\"#000000\" stroke-opacity=\"1\" stroke-width=\"3.2\"/>\n",
       "<circle clip-path=\"url(#clip982)\" cx=\"1052.63\" cy=\"1374.46\" r=\"49\" fill=\"#fa9406\" fill-rule=\"evenodd\" fill-opacity=\"1\" stroke=\"#000000\" stroke-opacity=\"1\" stroke-width=\"3.2\"/>\n",
       "<circle clip-path=\"url(#clip982)\" cx=\"1220.5\" cy=\"969.61\" r=\"50\" fill=\"#fb9b06\" fill-rule=\"evenodd\" fill-opacity=\"1\" stroke=\"#000000\" stroke-opacity=\"1\" stroke-width=\"3.2\"/>\n",
       "<circle clip-path=\"url(#clip982)\" cx=\"1304.44\" cy=\"333.416\" r=\"60\" fill=\"#f4f78e\" fill-rule=\"evenodd\" fill-opacity=\"1\" stroke=\"#000000\" stroke-opacity=\"1\" stroke-width=\"3.2\"/>\n",
       "<circle clip-path=\"url(#clip982)\" cx=\"1724.13\" cy=\"796.102\" r=\"56\" fill=\"#f4dd50\" fill-rule=\"evenodd\" fill-opacity=\"1\" stroke=\"#000000\" stroke-opacity=\"1\" stroke-width=\"3.2\"/>\n",
       "<circle clip-path=\"url(#clip982)\" cx=\"465.063\" cy=\"159.909\" r=\"52\" fill=\"#fbb015\" fill-rule=\"evenodd\" fill-opacity=\"1\" stroke=\"#000000\" stroke-opacity=\"1\" stroke-width=\"3.2\"/>\n",
       "<circle clip-path=\"url(#clip982)\" cx=\"884.751\" cy=\"796.102\" r=\"51\" fill=\"#fbaa0e\" fill-rule=\"evenodd\" fill-opacity=\"1\" stroke=\"#000000\" stroke-opacity=\"1\" stroke-width=\"3.2\"/>\n",
       "<circle clip-path=\"url(#clip982)\" cx=\"1304.44\" cy=\"449.088\" r=\"57\" fill=\"#f2e660\" fill-rule=\"evenodd\" fill-opacity=\"1\" stroke=\"#000000\" stroke-opacity=\"1\" stroke-width=\"3.2\"/>\n",
       "<circle clip-path=\"url(#clip982)\" cx=\"465.063\" cy=\"449.088\" r=\"49\" fill=\"#fa9606\" fill-rule=\"evenodd\" fill-opacity=\"1\" stroke=\"#000000\" stroke-opacity=\"1\" stroke-width=\"3.2\"/>\n",
       "<circle clip-path=\"url(#clip982)\" cx=\"968.688\" cy=\"275.58\" r=\"56\" fill=\"#f6d441\" fill-rule=\"evenodd\" fill-opacity=\"1\" stroke=\"#000000\" stroke-opacity=\"1\" stroke-width=\"3.2\"/>\n",
       "<circle clip-path=\"url(#clip982)\" cx=\"1640.19\" cy=\"159.909\" r=\"58\" fill=\"#f1ec6d\" fill-rule=\"evenodd\" fill-opacity=\"1\" stroke=\"#000000\" stroke-opacity=\"1\" stroke-width=\"3.2\"/>\n",
       "<circle clip-path=\"url(#clip982)\" cx=\"800.813\" cy=\"1200.95\" r=\"27\" fill=\"#84206b\" fill-rule=\"evenodd\" fill-opacity=\"1\" stroke=\"#000000\" stroke-opacity=\"1\" stroke-width=\"3.2\"/>\n",
       "<circle clip-path=\"url(#clip982)\" cx=\"800.813\" cy=\"1374.46\" r=\"3\" fill=\"#000003\" fill-rule=\"evenodd\" fill-opacity=\"1\" stroke=\"#000000\" stroke-opacity=\"1\" stroke-width=\"3.2\"/>\n",
       "<circle clip-path=\"url(#clip982)\" cx=\"1892\" cy=\"622.595\" r=\"60\" fill=\"#fafda0\" fill-rule=\"evenodd\" fill-opacity=\"1\" stroke=\"#000000\" stroke-opacity=\"1\" stroke-width=\"3.2\"/>\n",
       "<circle clip-path=\"url(#clip982)\" cx=\"1892\" cy=\"1258.79\" r=\"54\" fill=\"#f9c42c\" fill-rule=\"evenodd\" fill-opacity=\"1\" stroke=\"#000000\" stroke-opacity=\"1\" stroke-width=\"3.2\"/>\n",
       "<circle clip-path=\"url(#clip982)\" cx=\"1724.13\" cy=\"1085.28\" r=\"54\" fill=\"#f9c42c\" fill-rule=\"evenodd\" fill-opacity=\"1\" stroke=\"#000000\" stroke-opacity=\"1\" stroke-width=\"3.2\"/>\n",
       "<circle clip-path=\"url(#clip982)\" cx=\"465.063\" cy=\"969.61\" r=\"3\" fill=\"#000003\" fill-rule=\"evenodd\" fill-opacity=\"1\" stroke=\"#000000\" stroke-opacity=\"1\" stroke-width=\"3.2\"/>\n",
       "<circle clip-path=\"url(#clip982)\" cx=\"1136.56\" cy=\"622.595\" r=\"51\" fill=\"#fbac10\" fill-rule=\"evenodd\" fill-opacity=\"1\" stroke=\"#000000\" stroke-opacity=\"1\" stroke-width=\"3.2\"/>\n",
       "<circle clip-path=\"url(#clip982)\" cx=\"381.126\" cy=\"1316.62\" r=\"3\" fill=\"#000003\" fill-rule=\"evenodd\" fill-opacity=\"1\" stroke=\"#000000\" stroke-opacity=\"1\" stroke-width=\"3.2\"/>\n",
       "<circle clip-path=\"url(#clip982)\" cx=\"1892\" cy=\"1143.12\" r=\"54\" fill=\"#f9c42c\" fill-rule=\"evenodd\" fill-opacity=\"1\" stroke=\"#000000\" stroke-opacity=\"1\" stroke-width=\"3.2\"/>\n",
       "<circle clip-path=\"url(#clip982)\" cx=\"1052.63\" cy=\"217.744\" r=\"58\" fill=\"#f1ee72\" fill-rule=\"evenodd\" fill-opacity=\"1\" stroke=\"#000000\" stroke-opacity=\"1\" stroke-width=\"3.2\"/>\n",
       "<circle clip-path=\"url(#clip982)\" cx=\"968.688\" cy=\"738.266\" r=\"50\" fill=\"#fb9d06\" fill-rule=\"evenodd\" fill-opacity=\"1\" stroke=\"#000000\" stroke-opacity=\"1\" stroke-width=\"3.2\"/>\n",
       "<circle clip-path=\"url(#clip982)\" cx=\"1220.5\" cy=\"1316.62\" r=\"48\" fill=\"#f99007\" fill-rule=\"evenodd\" fill-opacity=\"1\" stroke=\"#000000\" stroke-opacity=\"1\" stroke-width=\"3.2\"/>\n",
       "<circle clip-path=\"url(#clip982)\" cx=\"297.188\" cy=\"275.58\" r=\"50\" fill=\"#fba108\" fill-rule=\"evenodd\" fill-opacity=\"1\" stroke=\"#000000\" stroke-opacity=\"1\" stroke-width=\"3.2\"/>\n",
       "<circle clip-path=\"url(#clip982)\" cx=\"1136.56\" cy=\"449.088\" r=\"57\" fill=\"#f3e158\" fill-rule=\"evenodd\" fill-opacity=\"1\" stroke=\"#000000\" stroke-opacity=\"1\" stroke-width=\"3.2\"/>\n",
       "<circle clip-path=\"url(#clip982)\" cx=\"2059.88\" cy=\"1085.28\" r=\"54\" fill=\"#f9c42c\" fill-rule=\"evenodd\" fill-opacity=\"1\" stroke=\"#000000\" stroke-opacity=\"1\" stroke-width=\"3.2\"/>\n",
       "<circle clip-path=\"url(#clip982)\" cx=\"716.876\" cy=\"275.58\" r=\"52\" fill=\"#fbb519\" fill-rule=\"evenodd\" fill-opacity=\"1\" stroke=\"#000000\" stroke-opacity=\"1\" stroke-width=\"3.2\"/>\n",
       "<circle clip-path=\"url(#clip982)\" cx=\"1892\" cy=\"1316.62\" r=\"54\" fill=\"#f9c42c\" fill-rule=\"evenodd\" fill-opacity=\"1\" stroke=\"#000000\" stroke-opacity=\"1\" stroke-width=\"3.2\"/>\n",
       "<circle clip-path=\"url(#clip982)\" cx=\"716.876\" cy=\"969.61\" r=\"48\" fill=\"#f98c09\" fill-rule=\"evenodd\" fill-opacity=\"1\" stroke=\"#000000\" stroke-opacity=\"1\" stroke-width=\"3.2\"/>\n",
       "<circle clip-path=\"url(#clip982)\" cx=\"1388.38\" cy=\"449.088\" r=\"59\" fill=\"#f3f68a\" fill-rule=\"evenodd\" fill-opacity=\"1\" stroke=\"#000000\" stroke-opacity=\"1\" stroke-width=\"3.2\"/>\n",
       "<circle clip-path=\"url(#clip982)\" cx=\"549.001\" cy=\"506.923\" r=\"51\" fill=\"#fba80c\" fill-rule=\"evenodd\" fill-opacity=\"1\" stroke=\"#000000\" stroke-opacity=\"1\" stroke-width=\"3.2\"/>\n",
       "<circle clip-path=\"url(#clip982)\" cx=\"1472.31\" cy=\"738.266\" r=\"54\" fill=\"#f9c72f\" fill-rule=\"evenodd\" fill-opacity=\"1\" stroke=\"#000000\" stroke-opacity=\"1\" stroke-width=\"3.2\"/>\n",
       "<circle clip-path=\"url(#clip982)\" cx=\"1808.06\" cy=\"333.416\" r=\"59\" fill=\"#f2f380\" fill-rule=\"evenodd\" fill-opacity=\"1\" stroke=\"#000000\" stroke-opacity=\"1\" stroke-width=\"3.2\"/>\n",
       "<circle clip-path=\"url(#clip982)\" cx=\"1892\" cy=\"506.923\" r=\"60\" fill=\"#f8fc9c\" fill-rule=\"evenodd\" fill-opacity=\"1\" stroke=\"#000000\" stroke-opacity=\"1\" stroke-width=\"3.2\"/>\n",
       "<circle clip-path=\"url(#clip982)\" cx=\"1892\" cy=\"275.58\" r=\"59\" fill=\"#f3f68a\" fill-rule=\"evenodd\" fill-opacity=\"1\" stroke=\"#000000\" stroke-opacity=\"1\" stroke-width=\"3.2\"/>\n",
       "<circle clip-path=\"url(#clip982)\" cx=\"297.188\" cy=\"1258.79\" r=\"3\" fill=\"#000003\" fill-rule=\"evenodd\" fill-opacity=\"1\" stroke=\"#000000\" stroke-opacity=\"1\" stroke-width=\"3.2\"/>\n",
       "<circle clip-path=\"url(#clip982)\" cx=\"968.688\" cy=\"1374.46\" r=\"29\" fill=\"#932567\" fill-rule=\"evenodd\" fill-opacity=\"1\" stroke=\"#000000\" stroke-opacity=\"1\" stroke-width=\"3.2\"/>\n",
       "<circle clip-path=\"url(#clip982)\" cx=\"716.876\" cy=\"1374.46\" r=\"3\" fill=\"#000003\" fill-rule=\"evenodd\" fill-opacity=\"1\" stroke=\"#000000\" stroke-opacity=\"1\" stroke-width=\"3.2\"/>\n",
       "<circle clip-path=\"url(#clip982)\" cx=\"632.938\" cy=\"738.266\" r=\"48\" fill=\"#f99007\" fill-rule=\"evenodd\" fill-opacity=\"1\" stroke=\"#000000\" stroke-opacity=\"1\" stroke-width=\"3.2\"/>\n",
       "<circle clip-path=\"url(#clip982)\" cx=\"968.688\" cy=\"333.416\" r=\"55\" fill=\"#f8cd38\" fill-rule=\"evenodd\" fill-opacity=\"1\" stroke=\"#000000\" stroke-opacity=\"1\" stroke-width=\"3.2\"/>\n",
       "<circle clip-path=\"url(#clip982)\" cx=\"1640.19\" cy=\"1027.45\" r=\"54\" fill=\"#f9c42c\" fill-rule=\"evenodd\" fill-opacity=\"1\" stroke=\"#000000\" stroke-opacity=\"1\" stroke-width=\"3.2\"/>\n",
       "<circle clip-path=\"url(#clip982)\" cx=\"1304.44\" cy=\"911.774\" r=\"52\" fill=\"#fbb317\" fill-rule=\"evenodd\" fill-opacity=\"1\" stroke=\"#000000\" stroke-opacity=\"1\" stroke-width=\"3.2\"/>\n",
       "<circle clip-path=\"url(#clip982)\" cx=\"1052.63\" cy=\"969.61\" r=\"51\" fill=\"#fba80c\" fill-rule=\"evenodd\" fill-opacity=\"1\" stroke=\"#000000\" stroke-opacity=\"1\" stroke-width=\"3.2\"/>\n",
       "<circle clip-path=\"url(#clip982)\" cx=\"1724.13\" cy=\"1200.95\" r=\"53\" fill=\"#fbb71c\" fill-rule=\"evenodd\" fill-opacity=\"1\" stroke=\"#000000\" stroke-opacity=\"1\" stroke-width=\"3.2\"/>\n",
       "<circle clip-path=\"url(#clip982)\" cx=\"1892\" cy=\"1027.45\" r=\"54\" fill=\"#f9c42c\" fill-rule=\"evenodd\" fill-opacity=\"1\" stroke=\"#000000\" stroke-opacity=\"1\" stroke-width=\"3.2\"/>\n",
       "<circle clip-path=\"url(#clip982)\" cx=\"1556.25\" cy=\"680.431\" r=\"57\" fill=\"#f2e660\" fill-rule=\"evenodd\" fill-opacity=\"1\" stroke=\"#000000\" stroke-opacity=\"1\" stroke-width=\"3.2\"/>\n",
       "<circle clip-path=\"url(#clip982)\" cx=\"381.126\" cy=\"1200.95\" r=\"3\" fill=\"#000003\" fill-rule=\"evenodd\" fill-opacity=\"1\" stroke=\"#000000\" stroke-opacity=\"1\" stroke-width=\"3.2\"/>\n",
       "<circle clip-path=\"url(#clip982)\" cx=\"2059.88\" cy=\"738.266\" r=\"60\" fill=\"#fafda0\" fill-rule=\"evenodd\" fill-opacity=\"1\" stroke=\"#000000\" stroke-opacity=\"1\" stroke-width=\"3.2\"/>\n",
       "<circle clip-path=\"url(#clip982)\" cx=\"1052.63\" cy=\"506.923\" r=\"52\" fill=\"#fbb317\" fill-rule=\"evenodd\" fill-opacity=\"1\" stroke=\"#000000\" stroke-opacity=\"1\" stroke-width=\"3.2\"/>\n",
       "<circle clip-path=\"url(#clip982)\" cx=\"2059.88\" cy=\"1316.62\" r=\"54\" fill=\"#f9c42c\" fill-rule=\"evenodd\" fill-opacity=\"1\" stroke=\"#000000\" stroke-opacity=\"1\" stroke-width=\"3.2\"/>\n",
       "<circle clip-path=\"url(#clip982)\" cx=\"884.751\" cy=\"564.759\" r=\"52\" fill=\"#fbb317\" fill-rule=\"evenodd\" fill-opacity=\"1\" stroke=\"#000000\" stroke-opacity=\"1\" stroke-width=\"3.2\"/>\n",
       "<circle clip-path=\"url(#clip982)\" cx=\"1472.31\" cy=\"564.759\" r=\"58\" fill=\"#f1ee72\" fill-rule=\"evenodd\" fill-opacity=\"1\" stroke=\"#000000\" stroke-opacity=\"1\" stroke-width=\"3.2\"/>\n",
       "<circle clip-path=\"url(#clip982)\" cx=\"381.126\" cy=\"449.088\" r=\"49\" fill=\"#fb9806\" fill-rule=\"evenodd\" fill-opacity=\"1\" stroke=\"#000000\" stroke-opacity=\"1\" stroke-width=\"3.2\"/>\n",
       "<circle clip-path=\"url(#clip982)\" cx=\"1304.44\" cy=\"1027.45\" r=\"51\" fill=\"#fbac10\" fill-rule=\"evenodd\" fill-opacity=\"1\" stroke=\"#000000\" stroke-opacity=\"1\" stroke-width=\"3.2\"/>\n",
       "<circle clip-path=\"url(#clip982)\" cx=\"381.126\" cy=\"391.252\" r=\"49\" fill=\"#fa9207\" fill-rule=\"evenodd\" fill-opacity=\"1\" stroke=\"#000000\" stroke-opacity=\"1\" stroke-width=\"3.2\"/>\n",
       "<circle clip-path=\"url(#clip982)\" cx=\"297.188\" cy=\"1143.12\" r=\"3\" fill=\"#000003\" fill-rule=\"evenodd\" fill-opacity=\"1\" stroke=\"#000000\" stroke-opacity=\"1\" stroke-width=\"3.2\"/>\n",
       "<circle clip-path=\"url(#clip982)\" cx=\"1975.94\" cy=\"622.595\" r=\"61\" fill=\"#fcfea4\" fill-rule=\"evenodd\" fill-opacity=\"1\" stroke=\"#000000\" stroke-opacity=\"1\" stroke-width=\"3.2\"/>\n",
       "<circle clip-path=\"url(#clip982)\" cx=\"1220.5\" cy=\"680.431\" r=\"53\" fill=\"#fbb71c\" fill-rule=\"evenodd\" fill-opacity=\"1\" stroke=\"#000000\" stroke-opacity=\"1\" stroke-width=\"3.2\"/>\n",
       "<circle clip-path=\"url(#clip982)\" cx=\"1220.5\" cy=\"796.102\" r=\"52\" fill=\"#fbb317\" fill-rule=\"evenodd\" fill-opacity=\"1\" stroke=\"#000000\" stroke-opacity=\"1\" stroke-width=\"3.2\"/>\n",
       "<circle clip-path=\"url(#clip982)\" cx=\"1304.44\" cy=\"796.102\" r=\"51\" fill=\"#fbac10\" fill-rule=\"evenodd\" fill-opacity=\"1\" stroke=\"#000000\" stroke-opacity=\"1\" stroke-width=\"3.2\"/>\n",
       "<circle clip-path=\"url(#clip982)\" cx=\"465.063\" cy=\"217.744\" r=\"52\" fill=\"#fbb317\" fill-rule=\"evenodd\" fill-opacity=\"1\" stroke=\"#000000\" stroke-opacity=\"1\" stroke-width=\"3.2\"/>\n",
       "<circle clip-path=\"url(#clip982)\" cx=\"800.813\" cy=\"738.266\" r=\"52\" fill=\"#fbb015\" fill-rule=\"evenodd\" fill-opacity=\"1\" stroke=\"#000000\" stroke-opacity=\"1\" stroke-width=\"3.2\"/>\n",
       "<circle clip-path=\"url(#clip982)\" cx=\"297.188\" cy=\"1374.46\" r=\"3\" fill=\"#000003\" fill-rule=\"evenodd\" fill-opacity=\"1\" stroke=\"#000000\" stroke-opacity=\"1\" stroke-width=\"3.2\"/>\n",
       "<circle clip-path=\"url(#clip982)\" cx=\"381.126\" cy=\"506.923\" r=\"48\" fill=\"#f98e08\" fill-rule=\"evenodd\" fill-opacity=\"1\" stroke=\"#000000\" stroke-opacity=\"1\" stroke-width=\"3.2\"/>\n",
       "<circle clip-path=\"url(#clip982)\" cx=\"2059.88\" cy=\"969.61\" r=\"57\" fill=\"#f3df54\" fill-rule=\"evenodd\" fill-opacity=\"1\" stroke=\"#000000\" stroke-opacity=\"1\" stroke-width=\"3.2\"/>\n",
       "<circle clip-path=\"url(#clip982)\" cx=\"1052.63\" cy=\"622.595\" r=\"52\" fill=\"#fbb317\" fill-rule=\"evenodd\" fill-opacity=\"1\" stroke=\"#000000\" stroke-opacity=\"1\" stroke-width=\"3.2\"/>\n",
       "<circle clip-path=\"url(#clip982)\" cx=\"1220.5\" cy=\"911.774\" r=\"52\" fill=\"#fbb015\" fill-rule=\"evenodd\" fill-opacity=\"1\" stroke=\"#000000\" stroke-opacity=\"1\" stroke-width=\"3.2\"/>\n",
       "<circle clip-path=\"url(#clip982)\" cx=\"800.813\" cy=\"1316.62\" r=\"3\" fill=\"#000003\" fill-rule=\"evenodd\" fill-opacity=\"1\" stroke=\"#000000\" stroke-opacity=\"1\" stroke-width=\"3.2\"/>\n",
       "<circle clip-path=\"url(#clip982)\" cx=\"632.938\" cy=\"1316.62\" r=\"3\" fill=\"#000003\" fill-rule=\"evenodd\" fill-opacity=\"1\" stroke=\"#000000\" stroke-opacity=\"1\" stroke-width=\"3.2\"/>\n",
       "<circle clip-path=\"url(#clip982)\" cx=\"465.063\" cy=\"1316.62\" r=\"3\" fill=\"#000003\" fill-rule=\"evenodd\" fill-opacity=\"1\" stroke=\"#000000\" stroke-opacity=\"1\" stroke-width=\"3.2\"/>\n",
       "<circle clip-path=\"url(#clip982)\" cx=\"716.876\" cy=\"1316.62\" r=\"3\" fill=\"#000003\" fill-rule=\"evenodd\" fill-opacity=\"1\" stroke=\"#000000\" stroke-opacity=\"1\" stroke-width=\"3.2\"/>\n",
       "<circle clip-path=\"url(#clip982)\" cx=\"1472.31\" cy=\"1200.95\" r=\"51\" fill=\"#fbaa0e\" fill-rule=\"evenodd\" fill-opacity=\"1\" stroke=\"#000000\" stroke-opacity=\"1\" stroke-width=\"3.2\"/>\n",
       "<circle clip-path=\"url(#clip982)\" cx=\"549.001\" cy=\"449.088\" r=\"52\" fill=\"#fbb317\" fill-rule=\"evenodd\" fill-opacity=\"1\" stroke=\"#000000\" stroke-opacity=\"1\" stroke-width=\"3.2\"/>\n",
       "<circle clip-path=\"url(#clip982)\" cx=\"1388.38\" cy=\"1258.79\" r=\"49\" fill=\"#fa9207\" fill-rule=\"evenodd\" fill-opacity=\"1\" stroke=\"#000000\" stroke-opacity=\"1\" stroke-width=\"3.2\"/>\n",
       "<circle clip-path=\"url(#clip982)\" cx=\"1052.63\" cy=\"1258.79\" r=\"48\" fill=\"#f98e08\" fill-rule=\"evenodd\" fill-opacity=\"1\" stroke=\"#000000\" stroke-opacity=\"1\" stroke-width=\"3.2\"/>\n",
       "<circle clip-path=\"url(#clip982)\" cx=\"1640.19\" cy=\"1374.46\" r=\"52\" fill=\"#fbae12\" fill-rule=\"evenodd\" fill-opacity=\"1\" stroke=\"#000000\" stroke-opacity=\"1\" stroke-width=\"3.2\"/>\n",
       "<circle clip-path=\"url(#clip982)\" cx=\"1892\" cy=\"1085.28\" r=\"54\" fill=\"#f9c42c\" fill-rule=\"evenodd\" fill-opacity=\"1\" stroke=\"#000000\" stroke-opacity=\"1\" stroke-width=\"3.2\"/>\n",
       "<circle clip-path=\"url(#clip982)\" cx=\"1724.13\" cy=\"333.416\" r=\"59\" fill=\"#f2f380\" fill-rule=\"evenodd\" fill-opacity=\"1\" stroke=\"#000000\" stroke-opacity=\"1\" stroke-width=\"3.2\"/>\n",
       "<circle clip-path=\"url(#clip982)\" cx=\"1136.56\" cy=\"275.58\" r=\"58\" fill=\"#f1ee72\" fill-rule=\"evenodd\" fill-opacity=\"1\" stroke=\"#000000\" stroke-opacity=\"1\" stroke-width=\"3.2\"/>\n",
       "<circle clip-path=\"url(#clip982)\" cx=\"968.688\" cy=\"449.088\" r=\"51\" fill=\"#fbaa0e\" fill-rule=\"evenodd\" fill-opacity=\"1\" stroke=\"#000000\" stroke-opacity=\"1\" stroke-width=\"3.2\"/>\n",
       "<circle clip-path=\"url(#clip982)\" cx=\"1556.25\" cy=\"1143.12\" r=\"52\" fill=\"#fbb317\" fill-rule=\"evenodd\" fill-opacity=\"1\" stroke=\"#000000\" stroke-opacity=\"1\" stroke-width=\"3.2\"/>\n",
       "<circle clip-path=\"url(#clip982)\" cx=\"632.938\" cy=\"1143.12\" r=\"3\" fill=\"#000003\" fill-rule=\"evenodd\" fill-opacity=\"1\" stroke=\"#000000\" stroke-opacity=\"1\" stroke-width=\"3.2\"/>\n",
       "<circle clip-path=\"url(#clip982)\" cx=\"1388.38\" cy=\"1085.28\" r=\"52\" fill=\"#fbb317\" fill-rule=\"evenodd\" fill-opacity=\"1\" stroke=\"#000000\" stroke-opacity=\"1\" stroke-width=\"3.2\"/>\n",
       "<circle clip-path=\"url(#clip982)\" cx=\"549.001\" cy=\"680.431\" r=\"49\" fill=\"#fa9406\" fill-rule=\"evenodd\" fill-opacity=\"1\" stroke=\"#000000\" stroke-opacity=\"1\" stroke-width=\"3.2\"/>\n",
       "<circle clip-path=\"url(#clip982)\" cx=\"884.751\" cy=\"333.416\" r=\"51\" fill=\"#fbaa0e\" fill-rule=\"evenodd\" fill-opacity=\"1\" stroke=\"#000000\" stroke-opacity=\"1\" stroke-width=\"3.2\"/>\n",
       "<circle clip-path=\"url(#clip982)\" cx=\"1220.5\" cy=\"1085.28\" r=\"49\" fill=\"#fa9207\" fill-rule=\"evenodd\" fill-opacity=\"1\" stroke=\"#000000\" stroke-opacity=\"1\" stroke-width=\"3.2\"/>\n",
       "<circle clip-path=\"url(#clip982)\" cx=\"2059.88\" cy=\"506.923\" r=\"60\" fill=\"#f8fc9c\" fill-rule=\"evenodd\" fill-opacity=\"1\" stroke=\"#000000\" stroke-opacity=\"1\" stroke-width=\"3.2\"/>\n",
       "<circle clip-path=\"url(#clip982)\" cx=\"2059.88\" cy=\"564.759\" r=\"60\" fill=\"#fafda0\" fill-rule=\"evenodd\" fill-opacity=\"1\" stroke=\"#000000\" stroke-opacity=\"1\" stroke-width=\"3.2\"/>\n",
       "<circle clip-path=\"url(#clip982)\" cx=\"1892\" cy=\"564.759\" r=\"61\" fill=\"#fcfea4\" fill-rule=\"evenodd\" fill-opacity=\"1\" stroke=\"#000000\" stroke-opacity=\"1\" stroke-width=\"3.2\"/>\n",
       "<circle clip-path=\"url(#clip982)\" cx=\"1556.25\" cy=\"853.938\" r=\"54\" fill=\"#f9c42c\" fill-rule=\"evenodd\" fill-opacity=\"1\" stroke=\"#000000\" stroke-opacity=\"1\" stroke-width=\"3.2\"/>\n",
       "<circle clip-path=\"url(#clip982)\" cx=\"1975.94\" cy=\"1258.79\" r=\"54\" fill=\"#f9c42c\" fill-rule=\"evenodd\" fill-opacity=\"1\" stroke=\"#000000\" stroke-opacity=\"1\" stroke-width=\"3.2\"/>\n",
       "<circle clip-path=\"url(#clip982)\" cx=\"1472.31\" cy=\"1085.28\" r=\"52\" fill=\"#fbb317\" fill-rule=\"evenodd\" fill-opacity=\"1\" stroke=\"#000000\" stroke-opacity=\"1\" stroke-width=\"3.2\"/>\n",
       "<circle clip-path=\"url(#clip982)\" cx=\"800.813\" cy=\"622.595\" r=\"49\" fill=\"#fb9806\" fill-rule=\"evenodd\" fill-opacity=\"1\" stroke=\"#000000\" stroke-opacity=\"1\" stroke-width=\"3.2\"/>\n",
       "<circle clip-path=\"url(#clip982)\" cx=\"465.063\" cy=\"796.102\" r=\"47\" fill=\"#f68012\" fill-rule=\"evenodd\" fill-opacity=\"1\" stroke=\"#000000\" stroke-opacity=\"1\" stroke-width=\"3.2\"/>\n",
       "<circle clip-path=\"url(#clip982)\" cx=\"465.063\" cy=\"1374.46\" r=\"3\" fill=\"#000003\" fill-rule=\"evenodd\" fill-opacity=\"1\" stroke=\"#000000\" stroke-opacity=\"1\" stroke-width=\"3.2\"/>\n",
       "<circle clip-path=\"url(#clip982)\" cx=\"1136.56\" cy=\"1143.12\" r=\"51\" fill=\"#fba309\" fill-rule=\"evenodd\" fill-opacity=\"1\" stroke=\"#000000\" stroke-opacity=\"1\" stroke-width=\"3.2\"/>\n",
       "<circle clip-path=\"url(#clip982)\" cx=\"549.001\" cy=\"1316.62\" r=\"3\" fill=\"#000003\" fill-rule=\"evenodd\" fill-opacity=\"1\" stroke=\"#000000\" stroke-opacity=\"1\" stroke-width=\"3.2\"/>\n",
       "<circle clip-path=\"url(#clip982)\" cx=\"1220.5\" cy=\"391.252\" r=\"57\" fill=\"#f2e35c\" fill-rule=\"evenodd\" fill-opacity=\"1\" stroke=\"#000000\" stroke-opacity=\"1\" stroke-width=\"3.2\"/>\n",
       "<circle clip-path=\"url(#clip982)\" cx=\"1724.13\" cy=\"853.938\" r=\"55\" fill=\"#f8cb34\" fill-rule=\"evenodd\" fill-opacity=\"1\" stroke=\"#000000\" stroke-opacity=\"1\" stroke-width=\"3.2\"/>\n",
       "<circle clip-path=\"url(#clip982)\" cx=\"1975.94\" cy=\"969.61\" r=\"55\" fill=\"#f7d03b\" fill-rule=\"evenodd\" fill-opacity=\"1\" stroke=\"#000000\" stroke-opacity=\"1\" stroke-width=\"3.2\"/>\n",
       "<circle clip-path=\"url(#clip982)\" cx=\"632.938\" cy=\"506.923\" r=\"51\" fill=\"#fbaa0e\" fill-rule=\"evenodd\" fill-opacity=\"1\" stroke=\"#000000\" stroke-opacity=\"1\" stroke-width=\"3.2\"/>\n",
       "<circle clip-path=\"url(#clip982)\" cx=\"1808.06\" cy=\"1143.12\" r=\"54\" fill=\"#f9c42c\" fill-rule=\"evenodd\" fill-opacity=\"1\" stroke=\"#000000\" stroke-opacity=\"1\" stroke-width=\"3.2\"/>\n",
       "<circle clip-path=\"url(#clip982)\" cx=\"1640.19\" cy=\"911.774\" r=\"54\" fill=\"#f9c42c\" fill-rule=\"evenodd\" fill-opacity=\"1\" stroke=\"#000000\" stroke-opacity=\"1\" stroke-width=\"3.2\"/>\n",
       "<circle clip-path=\"url(#clip982)\" cx=\"1808.06\" cy=\"911.774\" r=\"54\" fill=\"#f9c72f\" fill-rule=\"evenodd\" fill-opacity=\"1\" stroke=\"#000000\" stroke-opacity=\"1\" stroke-width=\"3.2\"/>\n",
       "<circle clip-path=\"url(#clip982)\" cx=\"1052.63\" cy=\"564.759\" r=\"52\" fill=\"#fbb015\" fill-rule=\"evenodd\" fill-opacity=\"1\" stroke=\"#000000\" stroke-opacity=\"1\" stroke-width=\"3.2\"/>\n",
       "<circle clip-path=\"url(#clip982)\" cx=\"884.751\" cy=\"738.266\" r=\"49\" fill=\"#fa9606\" fill-rule=\"evenodd\" fill-opacity=\"1\" stroke=\"#000000\" stroke-opacity=\"1\" stroke-width=\"3.2\"/>\n",
       "<circle clip-path=\"url(#clip982)\" cx=\"1304.44\" cy=\"564.759\" r=\"56\" fill=\"#f4dd50\" fill-rule=\"evenodd\" fill-opacity=\"1\" stroke=\"#000000\" stroke-opacity=\"1\" stroke-width=\"3.2\"/>\n",
       "<circle clip-path=\"url(#clip982)\" cx=\"800.813\" cy=\"911.774\" r=\"48\" fill=\"#f98e08\" fill-rule=\"evenodd\" fill-opacity=\"1\" stroke=\"#000000\" stroke-opacity=\"1\" stroke-width=\"3.2\"/>\n",
       "<circle clip-path=\"url(#clip982)\" cx=\"1975.94\" cy=\"449.088\" r=\"60\" fill=\"#f5f993\" fill-rule=\"evenodd\" fill-opacity=\"1\" stroke=\"#000000\" stroke-opacity=\"1\" stroke-width=\"3.2\"/>\n",
       "<circle clip-path=\"url(#clip982)\" cx=\"1556.25\" cy=\"449.088\" r=\"59\" fill=\"#f3f68a\" fill-rule=\"evenodd\" fill-opacity=\"1\" stroke=\"#000000\" stroke-opacity=\"1\" stroke-width=\"3.2\"/>\n",
       "<circle clip-path=\"url(#clip982)\" cx=\"1640.19\" cy=\"969.61\" r=\"54\" fill=\"#f9c42c\" fill-rule=\"evenodd\" fill-opacity=\"1\" stroke=\"#000000\" stroke-opacity=\"1\" stroke-width=\"3.2\"/>\n",
       "<circle clip-path=\"url(#clip982)\" cx=\"1640.19\" cy=\"853.938\" r=\"54\" fill=\"#f9c42c\" fill-rule=\"evenodd\" fill-opacity=\"1\" stroke=\"#000000\" stroke-opacity=\"1\" stroke-width=\"3.2\"/>\n",
       "<circle clip-path=\"url(#clip982)\" cx=\"632.938\" cy=\"622.595\" r=\"50\" fill=\"#fb9d06\" fill-rule=\"evenodd\" fill-opacity=\"1\" stroke=\"#000000\" stroke-opacity=\"1\" stroke-width=\"3.2\"/>\n",
       "<circle clip-path=\"url(#clip982)\" cx=\"716.876\" cy=\"680.431\" r=\"52\" fill=\"#fbb015\" fill-rule=\"evenodd\" fill-opacity=\"1\" stroke=\"#000000\" stroke-opacity=\"1\" stroke-width=\"3.2\"/>\n",
       "<circle clip-path=\"url(#clip982)\" cx=\"381.126\" cy=\"738.266\" r=\"36\" fill=\"#c33c4e\" fill-rule=\"evenodd\" fill-opacity=\"1\" stroke=\"#000000\" stroke-opacity=\"1\" stroke-width=\"3.2\"/>\n",
       "<circle clip-path=\"url(#clip982)\" cx=\"1220.5\" cy=\"217.744\" r=\"58\" fill=\"#f1ea69\" fill-rule=\"evenodd\" fill-opacity=\"1\" stroke=\"#000000\" stroke-opacity=\"1\" stroke-width=\"3.2\"/>\n",
       "<circle clip-path=\"url(#clip982)\" cx=\"549.001\" cy=\"159.909\" r=\"52\" fill=\"#fbb317\" fill-rule=\"evenodd\" fill-opacity=\"1\" stroke=\"#000000\" stroke-opacity=\"1\" stroke-width=\"3.2\"/>\n",
       "<circle clip-path=\"url(#clip982)\" cx=\"1388.38\" cy=\"506.923\" r=\"58\" fill=\"#f1ee72\" fill-rule=\"evenodd\" fill-opacity=\"1\" stroke=\"#000000\" stroke-opacity=\"1\" stroke-width=\"3.2\"/>\n",
       "<circle clip-path=\"url(#clip982)\" cx=\"549.001\" cy=\"275.58\" r=\"51\" fill=\"#fbac10\" fill-rule=\"evenodd\" fill-opacity=\"1\" stroke=\"#000000\" stroke-opacity=\"1\" stroke-width=\"3.2\"/>\n",
       "<circle clip-path=\"url(#clip982)\" cx=\"1388.38\" cy=\"738.266\" r=\"54\" fill=\"#fac229\" fill-rule=\"evenodd\" fill-opacity=\"1\" stroke=\"#000000\" stroke-opacity=\"1\" stroke-width=\"3.2\"/>\n",
       "<circle clip-path=\"url(#clip982)\" cx=\"1136.56\" cy=\"333.416\" r=\"57\" fill=\"#f2e660\" fill-rule=\"evenodd\" fill-opacity=\"1\" stroke=\"#000000\" stroke-opacity=\"1\" stroke-width=\"3.2\"/>\n",
       "<circle clip-path=\"url(#clip982)\" cx=\"297.188\" cy=\"911.774\" r=\"3\" fill=\"#000003\" fill-rule=\"evenodd\" fill-opacity=\"1\" stroke=\"#000000\" stroke-opacity=\"1\" stroke-width=\"3.2\"/>\n",
       "<circle clip-path=\"url(#clip982)\" cx=\"1052.63\" cy=\"1143.12\" r=\"48\" fill=\"#f99007\" fill-rule=\"evenodd\" fill-opacity=\"1\" stroke=\"#000000\" stroke-opacity=\"1\" stroke-width=\"3.2\"/>\n",
       "<circle clip-path=\"url(#clip982)\" cx=\"1052.63\" cy=\"275.58\" r=\"57\" fill=\"#f2e35c\" fill-rule=\"evenodd\" fill-opacity=\"1\" stroke=\"#000000\" stroke-opacity=\"1\" stroke-width=\"3.2\"/>\n",
       "<circle clip-path=\"url(#clip982)\" cx=\"716.876\" cy=\"564.759\" r=\"50\" fill=\"#fb9f07\" fill-rule=\"evenodd\" fill-opacity=\"1\" stroke=\"#000000\" stroke-opacity=\"1\" stroke-width=\"3.2\"/>\n",
       "<circle clip-path=\"url(#clip982)\" cx=\"2059.88\" cy=\"1200.95\" r=\"54\" fill=\"#f9c42c\" fill-rule=\"evenodd\" fill-opacity=\"1\" stroke=\"#000000\" stroke-opacity=\"1\" stroke-width=\"3.2\"/>\n",
       "<circle clip-path=\"url(#clip982)\" cx=\"549.001\" cy=\"853.938\" r=\"48\" fill=\"#f98e08\" fill-rule=\"evenodd\" fill-opacity=\"1\" stroke=\"#000000\" stroke-opacity=\"1\" stroke-width=\"3.2\"/>\n",
       "<circle clip-path=\"url(#clip982)\" cx=\"465.063\" cy=\"622.595\" r=\"48\" fill=\"#f98c09\" fill-rule=\"evenodd\" fill-opacity=\"1\" stroke=\"#000000\" stroke-opacity=\"1\" stroke-width=\"3.2\"/>\n",
       "<circle clip-path=\"url(#clip982)\" cx=\"632.938\" cy=\"911.774\" r=\"49\" fill=\"#fa9406\" fill-rule=\"evenodd\" fill-opacity=\"1\" stroke=\"#000000\" stroke-opacity=\"1\" stroke-width=\"3.2\"/>\n",
       "<circle clip-path=\"url(#clip982)\" cx=\"800.813\" cy=\"1027.45\" r=\"48\" fill=\"#f98c09\" fill-rule=\"evenodd\" fill-opacity=\"1\" stroke=\"#000000\" stroke-opacity=\"1\" stroke-width=\"3.2\"/>\n",
       "<circle clip-path=\"url(#clip982)\" cx=\"549.001\" cy=\"1200.95\" r=\"3\" fill=\"#000003\" fill-rule=\"evenodd\" fill-opacity=\"1\" stroke=\"#000000\" stroke-opacity=\"1\" stroke-width=\"3.2\"/>\n",
       "<circle clip-path=\"url(#clip982)\" cx=\"800.813\" cy=\"796.102\" r=\"51\" fill=\"#fba309\" fill-rule=\"evenodd\" fill-opacity=\"1\" stroke=\"#000000\" stroke-opacity=\"1\" stroke-width=\"3.2\"/>\n",
       "<circle clip-path=\"url(#clip982)\" cx=\"1724.13\" cy=\"391.252\" r=\"59\" fill=\"#f2f485\" fill-rule=\"evenodd\" fill-opacity=\"1\" stroke=\"#000000\" stroke-opacity=\"1\" stroke-width=\"3.2\"/>\n",
       "<circle clip-path=\"url(#clip982)\" cx=\"381.126\" cy=\"1085.28\" r=\"3\" fill=\"#000003\" fill-rule=\"evenodd\" fill-opacity=\"1\" stroke=\"#000000\" stroke-opacity=\"1\" stroke-width=\"3.2\"/>\n",
       "<circle clip-path=\"url(#clip982)\" cx=\"1304.44\" cy=\"738.266\" r=\"54\" fill=\"#f9c42c\" fill-rule=\"evenodd\" fill-opacity=\"1\" stroke=\"#000000\" stroke-opacity=\"1\" stroke-width=\"3.2\"/>\n",
       "<circle clip-path=\"url(#clip982)\" cx=\"1388.38\" cy=\"796.102\" r=\"54\" fill=\"#fac229\" fill-rule=\"evenodd\" fill-opacity=\"1\" stroke=\"#000000\" stroke-opacity=\"1\" stroke-width=\"3.2\"/>\n",
       "<circle clip-path=\"url(#clip982)\" cx=\"1640.19\" cy=\"622.595\" r=\"59\" fill=\"#f3f68a\" fill-rule=\"evenodd\" fill-opacity=\"1\" stroke=\"#000000\" stroke-opacity=\"1\" stroke-width=\"3.2\"/>\n",
       "<circle clip-path=\"url(#clip982)\" cx=\"1975.94\" cy=\"506.923\" r=\"60\" fill=\"#f8fc9c\" fill-rule=\"evenodd\" fill-opacity=\"1\" stroke=\"#000000\" stroke-opacity=\"1\" stroke-width=\"3.2\"/>\n",
       "<circle clip-path=\"url(#clip982)\" cx=\"1304.44\" cy=\"159.909\" r=\"58\" fill=\"#f1ec6d\" fill-rule=\"evenodd\" fill-opacity=\"1\" stroke=\"#000000\" stroke-opacity=\"1\" stroke-width=\"3.2\"/>\n",
       "<circle clip-path=\"url(#clip982)\" cx=\"297.188\" cy=\"506.923\" r=\"48\" fill=\"#f98e08\" fill-rule=\"evenodd\" fill-opacity=\"1\" stroke=\"#000000\" stroke-opacity=\"1\" stroke-width=\"3.2\"/>\n",
       "<circle clip-path=\"url(#clip982)\" cx=\"297.188\" cy=\"1316.62\" r=\"3\" fill=\"#000003\" fill-rule=\"evenodd\" fill-opacity=\"1\" stroke=\"#000000\" stroke-opacity=\"1\" stroke-width=\"3.2\"/>\n",
       "<circle clip-path=\"url(#clip982)\" cx=\"1556.25\" cy=\"1085.28\" r=\"51\" fill=\"#fbac10\" fill-rule=\"evenodd\" fill-opacity=\"1\" stroke=\"#000000\" stroke-opacity=\"1\" stroke-width=\"3.2\"/>\n",
       "<circle clip-path=\"url(#clip982)\" cx=\"1724.13\" cy=\"217.744\" r=\"58\" fill=\"#f1ee72\" fill-rule=\"evenodd\" fill-opacity=\"1\" stroke=\"#000000\" stroke-opacity=\"1\" stroke-width=\"3.2\"/>\n",
       "<circle clip-path=\"url(#clip982)\" cx=\"800.813\" cy=\"1258.79\" r=\"6\" fill=\"#060419\" fill-rule=\"evenodd\" fill-opacity=\"1\" stroke=\"#000000\" stroke-opacity=\"1\" stroke-width=\"3.2\"/>\n",
       "<circle clip-path=\"url(#clip982)\" cx=\"1388.38\" cy=\"1027.45\" r=\"52\" fill=\"#fbb317\" fill-rule=\"evenodd\" fill-opacity=\"1\" stroke=\"#000000\" stroke-opacity=\"1\" stroke-width=\"3.2\"/>\n",
       "<circle clip-path=\"url(#clip982)\" cx=\"1388.38\" cy=\"333.416\" r=\"59\" fill=\"#f3f68a\" fill-rule=\"evenodd\" fill-opacity=\"1\" stroke=\"#000000\" stroke-opacity=\"1\" stroke-width=\"3.2\"/>\n",
       "<circle clip-path=\"url(#clip982)\" cx=\"1975.94\" cy=\"275.58\" r=\"59\" fill=\"#f3f68a\" fill-rule=\"evenodd\" fill-opacity=\"1\" stroke=\"#000000\" stroke-opacity=\"1\" stroke-width=\"3.2\"/>\n",
       "<circle clip-path=\"url(#clip982)\" cx=\"1472.31\" cy=\"1374.46\" r=\"49\" fill=\"#fb9806\" fill-rule=\"evenodd\" fill-opacity=\"1\" stroke=\"#000000\" stroke-opacity=\"1\" stroke-width=\"3.2\"/>\n",
       "<circle clip-path=\"url(#clip982)\" cx=\"1052.63\" cy=\"1027.45\" r=\"52\" fill=\"#fbb015\" fill-rule=\"evenodd\" fill-opacity=\"1\" stroke=\"#000000\" stroke-opacity=\"1\" stroke-width=\"3.2\"/>\n",
       "<circle clip-path=\"url(#clip982)\" cx=\"1724.13\" cy=\"159.909\" r=\"58\" fill=\"#f1ec6d\" fill-rule=\"evenodd\" fill-opacity=\"1\" stroke=\"#000000\" stroke-opacity=\"1\" stroke-width=\"3.2\"/>\n",
       "<circle clip-path=\"url(#clip982)\" cx=\"381.126\" cy=\"853.938\" r=\"3\" fill=\"#000004\" fill-rule=\"evenodd\" fill-opacity=\"1\" stroke=\"#000000\" stroke-opacity=\"1\" stroke-width=\"3.2\"/>\n",
       "<circle clip-path=\"url(#clip982)\" cx=\"1556.25\" cy=\"1200.95\" r=\"52\" fill=\"#fbb519\" fill-rule=\"evenodd\" fill-opacity=\"1\" stroke=\"#000000\" stroke-opacity=\"1\" stroke-width=\"3.2\"/>\n",
       "<circle clip-path=\"url(#clip982)\" cx=\"800.813\" cy=\"1085.28\" r=\"49\" fill=\"#fa9207\" fill-rule=\"evenodd\" fill-opacity=\"1\" stroke=\"#000000\" stroke-opacity=\"1\" stroke-width=\"3.2\"/>\n",
       "<circle clip-path=\"url(#clip982)\" cx=\"381.126\" cy=\"564.759\" r=\"48\" fill=\"#f99007\" fill-rule=\"evenodd\" fill-opacity=\"1\" stroke=\"#000000\" stroke-opacity=\"1\" stroke-width=\"3.2\"/>\n",
       "<circle clip-path=\"url(#clip982)\" cx=\"2059.88\" cy=\"1374.46\" r=\"54\" fill=\"#f9c42c\" fill-rule=\"evenodd\" fill-opacity=\"1\" stroke=\"#000000\" stroke-opacity=\"1\" stroke-width=\"3.2\"/>\n",
       "<circle clip-path=\"url(#clip982)\" cx=\"716.876\" cy=\"622.595\" r=\"52\" fill=\"#fbae12\" fill-rule=\"evenodd\" fill-opacity=\"1\" stroke=\"#000000\" stroke-opacity=\"1\" stroke-width=\"3.2\"/>\n",
       "<circle clip-path=\"url(#clip982)\" cx=\"968.688\" cy=\"391.252\" r=\"54\" fill=\"#fac026\" fill-rule=\"evenodd\" fill-opacity=\"1\" stroke=\"#000000\" stroke-opacity=\"1\" stroke-width=\"3.2\"/>\n",
       "<circle clip-path=\"url(#clip982)\" cx=\"1304.44\" cy=\"1143.12\" r=\"49\" fill=\"#fa9207\" fill-rule=\"evenodd\" fill-opacity=\"1\" stroke=\"#000000\" stroke-opacity=\"1\" stroke-width=\"3.2\"/>\n",
       "<circle clip-path=\"url(#clip982)\" cx=\"549.001\" cy=\"1374.46\" r=\"3\" fill=\"#000003\" fill-rule=\"evenodd\" fill-opacity=\"1\" stroke=\"#000000\" stroke-opacity=\"1\" stroke-width=\"3.2\"/>\n",
       "<circle clip-path=\"url(#clip982)\" cx=\"1808.06\" cy=\"217.744\" r=\"58\" fill=\"#f1ee72\" fill-rule=\"evenodd\" fill-opacity=\"1\" stroke=\"#000000\" stroke-opacity=\"1\" stroke-width=\"3.2\"/>\n",
       "<circle clip-path=\"url(#clip982)\" cx=\"800.813\" cy=\"217.744\" r=\"52\" fill=\"#fbb519\" fill-rule=\"evenodd\" fill-opacity=\"1\" stroke=\"#000000\" stroke-opacity=\"1\" stroke-width=\"3.2\"/>\n",
       "<circle clip-path=\"url(#clip982)\" cx=\"632.938\" cy=\"1027.45\" r=\"26\" fill=\"#801f6b\" fill-rule=\"evenodd\" fill-opacity=\"1\" stroke=\"#000000\" stroke-opacity=\"1\" stroke-width=\"3.2\"/>\n",
       "<circle clip-path=\"url(#clip982)\" cx=\"1136.56\" cy=\"217.744\" r=\"59\" fill=\"#f1f17c\" fill-rule=\"evenodd\" fill-opacity=\"1\" stroke=\"#000000\" stroke-opacity=\"1\" stroke-width=\"3.2\"/>\n",
       "<circle clip-path=\"url(#clip982)\" cx=\"968.688\" cy=\"911.774\" r=\"52\" fill=\"#fbae12\" fill-rule=\"evenodd\" fill-opacity=\"1\" stroke=\"#000000\" stroke-opacity=\"1\" stroke-width=\"3.2\"/>\n",
       "<circle clip-path=\"url(#clip982)\" cx=\"800.813\" cy=\"564.759\" r=\"50\" fill=\"#fb9f07\" fill-rule=\"evenodd\" fill-opacity=\"1\" stroke=\"#000000\" stroke-opacity=\"1\" stroke-width=\"3.2\"/>\n",
       "<circle clip-path=\"url(#clip982)\" cx=\"1052.63\" cy=\"1316.62\" r=\"47\" fill=\"#f7860e\" fill-rule=\"evenodd\" fill-opacity=\"1\" stroke=\"#000000\" stroke-opacity=\"1\" stroke-width=\"3.2\"/>\n",
       "<circle clip-path=\"url(#clip982)\" cx=\"1556.25\" cy=\"911.774\" r=\"54\" fill=\"#f9c42c\" fill-rule=\"evenodd\" fill-opacity=\"1\" stroke=\"#000000\" stroke-opacity=\"1\" stroke-width=\"3.2\"/>\n",
       "<circle clip-path=\"url(#clip982)\" cx=\"1220.5\" cy=\"1027.45\" r=\"49\" fill=\"#fa9606\" fill-rule=\"evenodd\" fill-opacity=\"1\" stroke=\"#000000\" stroke-opacity=\"1\" stroke-width=\"3.2\"/>\n",
       "<circle clip-path=\"url(#clip982)\" cx=\"716.876\" cy=\"911.774\" r=\"48\" fill=\"#f99007\" fill-rule=\"evenodd\" fill-opacity=\"1\" stroke=\"#000000\" stroke-opacity=\"1\" stroke-width=\"3.2\"/>\n",
       "<circle clip-path=\"url(#clip982)\" cx=\"1472.31\" cy=\"506.923\" r=\"60\" fill=\"#f4f78e\" fill-rule=\"evenodd\" fill-opacity=\"1\" stroke=\"#000000\" stroke-opacity=\"1\" stroke-width=\"3.2\"/>\n",
       "<circle clip-path=\"url(#clip982)\" cx=\"1136.56\" cy=\"1027.45\" r=\"49\" fill=\"#fb9806\" fill-rule=\"evenodd\" fill-opacity=\"1\" stroke=\"#000000\" stroke-opacity=\"1\" stroke-width=\"3.2\"/>\n",
       "<circle clip-path=\"url(#clip982)\" cx=\"465.063\" cy=\"1200.95\" r=\"3\" fill=\"#000003\" fill-rule=\"evenodd\" fill-opacity=\"1\" stroke=\"#000000\" stroke-opacity=\"1\" stroke-width=\"3.2\"/>\n",
       "<circle clip-path=\"url(#clip982)\" cx=\"1304.44\" cy=\"853.938\" r=\"51\" fill=\"#fbac10\" fill-rule=\"evenodd\" fill-opacity=\"1\" stroke=\"#000000\" stroke-opacity=\"1\" stroke-width=\"3.2\"/>\n",
       "<circle clip-path=\"url(#clip982)\" cx=\"1472.31\" cy=\"911.774\" r=\"54\" fill=\"#f8c931\" fill-rule=\"evenodd\" fill-opacity=\"1\" stroke=\"#000000\" stroke-opacity=\"1\" stroke-width=\"3.2\"/>\n",
       "<circle clip-path=\"url(#clip982)\" cx=\"1640.19\" cy=\"506.923\" r=\"60\" fill=\"#f5f993\" fill-rule=\"evenodd\" fill-opacity=\"1\" stroke=\"#000000\" stroke-opacity=\"1\" stroke-width=\"3.2\"/>\n",
       "<circle clip-path=\"url(#clip982)\" cx=\"381.126\" cy=\"217.744\" r=\"52\" fill=\"#fbb015\" fill-rule=\"evenodd\" fill-opacity=\"1\" stroke=\"#000000\" stroke-opacity=\"1\" stroke-width=\"3.2\"/>\n",
       "<circle clip-path=\"url(#clip982)\" cx=\"297.188\" cy=\"796.102\" r=\"3\" fill=\"#000003\" fill-rule=\"evenodd\" fill-opacity=\"1\" stroke=\"#000000\" stroke-opacity=\"1\" stroke-width=\"3.2\"/>\n",
       "<circle clip-path=\"url(#clip982)\" cx=\"1975.94\" cy=\"1143.12\" r=\"54\" fill=\"#f9c42c\" fill-rule=\"evenodd\" fill-opacity=\"1\" stroke=\"#000000\" stroke-opacity=\"1\" stroke-width=\"3.2\"/>\n",
       "<circle clip-path=\"url(#clip982)\" cx=\"1975.94\" cy=\"1027.45\" r=\"54\" fill=\"#f9c42c\" fill-rule=\"evenodd\" fill-opacity=\"1\" stroke=\"#000000\" stroke-opacity=\"1\" stroke-width=\"3.2\"/>\n",
       "<circle clip-path=\"url(#clip982)\" cx=\"465.063\" cy=\"911.774\" r=\"6\" fill=\"#040314\" fill-rule=\"evenodd\" fill-opacity=\"1\" stroke=\"#000000\" stroke-opacity=\"1\" stroke-width=\"3.2\"/>\n",
       "<circle clip-path=\"url(#clip982)\" cx=\"297.188\" cy=\"622.595\" r=\"44\" fill=\"#ef6d21\" fill-rule=\"evenodd\" fill-opacity=\"1\" stroke=\"#000000\" stroke-opacity=\"1\" stroke-width=\"3.2\"/>\n",
       "<circle clip-path=\"url(#clip982)\" cx=\"632.938\" cy=\"969.61\" r=\"46\" fill=\"#f57c15\" fill-rule=\"evenodd\" fill-opacity=\"1\" stroke=\"#000000\" stroke-opacity=\"1\" stroke-width=\"3.2\"/>\n",
       "<circle clip-path=\"url(#clip982)\" cx=\"1388.38\" cy=\"275.58\" r=\"58\" fill=\"#f1ef77\" fill-rule=\"evenodd\" fill-opacity=\"1\" stroke=\"#000000\" stroke-opacity=\"1\" stroke-width=\"3.2\"/>\n",
       "<circle clip-path=\"url(#clip982)\" cx=\"297.188\" cy=\"1200.95\" r=\"3\" fill=\"#000003\" fill-rule=\"evenodd\" fill-opacity=\"1\" stroke=\"#000000\" stroke-opacity=\"1\" stroke-width=\"3.2\"/>\n",
       "<circle clip-path=\"url(#clip982)\" cx=\"1472.31\" cy=\"159.909\" r=\"58\" fill=\"#f1ec6d\" fill-rule=\"evenodd\" fill-opacity=\"1\" stroke=\"#000000\" stroke-opacity=\"1\" stroke-width=\"3.2\"/>\n",
       "<circle clip-path=\"url(#clip982)\" cx=\"800.813\" cy=\"333.416\" r=\"53\" fill=\"#fbb71c\" fill-rule=\"evenodd\" fill-opacity=\"1\" stroke=\"#000000\" stroke-opacity=\"1\" stroke-width=\"3.2\"/>\n",
       "<circle clip-path=\"url(#clip982)\" cx=\"2059.88\" cy=\"449.088\" r=\"60\" fill=\"#f5f993\" fill-rule=\"evenodd\" fill-opacity=\"1\" stroke=\"#000000\" stroke-opacity=\"1\" stroke-width=\"3.2\"/>\n",
       "<circle clip-path=\"url(#clip982)\" cx=\"716.876\" cy=\"738.266\" r=\"48\" fill=\"#f99007\" fill-rule=\"evenodd\" fill-opacity=\"1\" stroke=\"#000000\" stroke-opacity=\"1\" stroke-width=\"3.2\"/>\n",
       "<circle clip-path=\"url(#clip982)\" cx=\"632.938\" cy=\"333.416\" r=\"52\" fill=\"#fbb015\" fill-rule=\"evenodd\" fill-opacity=\"1\" stroke=\"#000000\" stroke-opacity=\"1\" stroke-width=\"3.2\"/>\n",
       "<circle clip-path=\"url(#clip982)\" cx=\"1220.5\" cy=\"738.266\" r=\"52\" fill=\"#fbae12\" fill-rule=\"evenodd\" fill-opacity=\"1\" stroke=\"#000000\" stroke-opacity=\"1\" stroke-width=\"3.2\"/>\n",
       "<circle clip-path=\"url(#clip982)\" cx=\"1808.06\" cy=\"1085.28\" r=\"54\" fill=\"#f9c42c\" fill-rule=\"evenodd\" fill-opacity=\"1\" stroke=\"#000000\" stroke-opacity=\"1\" stroke-width=\"3.2\"/>\n",
       "<circle clip-path=\"url(#clip982)\" cx=\"968.688\" cy=\"853.938\" r=\"49\" fill=\"#fb9806\" fill-rule=\"evenodd\" fill-opacity=\"1\" stroke=\"#000000\" stroke-opacity=\"1\" stroke-width=\"3.2\"/>\n",
       "<circle clip-path=\"url(#clip982)\" cx=\"1388.38\" cy=\"680.431\" r=\"54\" fill=\"#f8c931\" fill-rule=\"evenodd\" fill-opacity=\"1\" stroke=\"#000000\" stroke-opacity=\"1\" stroke-width=\"3.2\"/>\n",
       "<circle clip-path=\"url(#clip982)\" cx=\"1136.56\" cy=\"796.102\" r=\"52\" fill=\"#fbb317\" fill-rule=\"evenodd\" fill-opacity=\"1\" stroke=\"#000000\" stroke-opacity=\"1\" stroke-width=\"3.2\"/>\n",
       "<circle clip-path=\"url(#clip982)\" cx=\"1892\" cy=\"391.252\" r=\"59\" fill=\"#f2f485\" fill-rule=\"evenodd\" fill-opacity=\"1\" stroke=\"#000000\" stroke-opacity=\"1\" stroke-width=\"3.2\"/>\n",
       "<circle clip-path=\"url(#clip982)\" cx=\"800.813\" cy=\"853.938\" r=\"49\" fill=\"#fa9207\" fill-rule=\"evenodd\" fill-opacity=\"1\" stroke=\"#000000\" stroke-opacity=\"1\" stroke-width=\"3.2\"/>\n",
       "<circle clip-path=\"url(#clip982)\" cx=\"1136.56\" cy=\"969.61\" r=\"49\" fill=\"#fa9207\" fill-rule=\"evenodd\" fill-opacity=\"1\" stroke=\"#000000\" stroke-opacity=\"1\" stroke-width=\"3.2\"/>\n",
       "<circle clip-path=\"url(#clip982)\" cx=\"465.063\" cy=\"1258.79\" r=\"3\" fill=\"#000003\" fill-rule=\"evenodd\" fill-opacity=\"1\" stroke=\"#000000\" stroke-opacity=\"1\" stroke-width=\"3.2\"/>\n",
       "<circle clip-path=\"url(#clip982)\" cx=\"716.876\" cy=\"1027.45\" r=\"49\" fill=\"#fa9207\" fill-rule=\"evenodd\" fill-opacity=\"1\" stroke=\"#000000\" stroke-opacity=\"1\" stroke-width=\"3.2\"/>\n",
       "<circle clip-path=\"url(#clip982)\" cx=\"800.813\" cy=\"1143.12\" r=\"46\" fill=\"#f37818\" fill-rule=\"evenodd\" fill-opacity=\"1\" stroke=\"#000000\" stroke-opacity=\"1\" stroke-width=\"3.2\"/>\n",
       "<circle clip-path=\"url(#clip982)\" cx=\"968.688\" cy=\"622.595\" r=\"52\" fill=\"#fbb317\" fill-rule=\"evenodd\" fill-opacity=\"1\" stroke=\"#000000\" stroke-opacity=\"1\" stroke-width=\"3.2\"/>\n",
       "<circle clip-path=\"url(#clip982)\" cx=\"632.938\" cy=\"853.938\" r=\"48\" fill=\"#f98c09\" fill-rule=\"evenodd\" fill-opacity=\"1\" stroke=\"#000000\" stroke-opacity=\"1\" stroke-width=\"3.2\"/>\n",
       "<circle clip-path=\"url(#clip982)\" cx=\"1304.44\" cy=\"680.431\" r=\"54\" fill=\"#f9c72f\" fill-rule=\"evenodd\" fill-opacity=\"1\" stroke=\"#000000\" stroke-opacity=\"1\" stroke-width=\"3.2\"/>\n",
       "<circle clip-path=\"url(#clip982)\" cx=\"2059.88\" cy=\"622.595\" r=\"61\" fill=\"#fcfea4\" fill-rule=\"evenodd\" fill-opacity=\"1\" stroke=\"#000000\" stroke-opacity=\"1\" stroke-width=\"3.2\"/>\n",
       "<circle clip-path=\"url(#clip982)\" cx=\"297.188\" cy=\"159.909\" r=\"51\" fill=\"#fba50b\" fill-rule=\"evenodd\" fill-opacity=\"1\" stroke=\"#000000\" stroke-opacity=\"1\" stroke-width=\"3.2\"/>\n",
       "<circle clip-path=\"url(#clip982)\" cx=\"297.188\" cy=\"333.416\" r=\"50\" fill=\"#fb9d06\" fill-rule=\"evenodd\" fill-opacity=\"1\" stroke=\"#000000\" stroke-opacity=\"1\" stroke-width=\"3.2\"/>\n",
       "<circle clip-path=\"url(#clip982)\" cx=\"1388.38\" cy=\"391.252\" r=\"59\" fill=\"#f2f485\" fill-rule=\"evenodd\" fill-opacity=\"1\" stroke=\"#000000\" stroke-opacity=\"1\" stroke-width=\"3.2\"/>\n",
       "<circle clip-path=\"url(#clip982)\" cx=\"465.063\" cy=\"506.923\" r=\"48\" fill=\"#f99007\" fill-rule=\"evenodd\" fill-opacity=\"1\" stroke=\"#000000\" stroke-opacity=\"1\" stroke-width=\"3.2\"/>\n",
       "<circle clip-path=\"url(#clip982)\" cx=\"716.876\" cy=\"796.102\" r=\"48\" fill=\"#f99007\" fill-rule=\"evenodd\" fill-opacity=\"1\" stroke=\"#000000\" stroke-opacity=\"1\" stroke-width=\"3.2\"/>\n",
       "<circle clip-path=\"url(#clip982)\" cx=\"1304.44\" cy=\"969.61\" r=\"52\" fill=\"#fbb317\" fill-rule=\"evenodd\" fill-opacity=\"1\" stroke=\"#000000\" stroke-opacity=\"1\" stroke-width=\"3.2\"/>\n",
       "<circle clip-path=\"url(#clip982)\" cx=\"549.001\" cy=\"1258.79\" r=\"3\" fill=\"#000003\" fill-rule=\"evenodd\" fill-opacity=\"1\" stroke=\"#000000\" stroke-opacity=\"1\" stroke-width=\"3.2\"/>\n",
       "<circle clip-path=\"url(#clip982)\" cx=\"1808.06\" cy=\"1258.79\" r=\"54\" fill=\"#fac026\" fill-rule=\"evenodd\" fill-opacity=\"1\" stroke=\"#000000\" stroke-opacity=\"1\" stroke-width=\"3.2\"/>\n",
       "<circle clip-path=\"url(#clip982)\" cx=\"465.063\" cy=\"275.58\" r=\"52\" fill=\"#fbb317\" fill-rule=\"evenodd\" fill-opacity=\"1\" stroke=\"#000000\" stroke-opacity=\"1\" stroke-width=\"3.2\"/>\n",
       "<circle clip-path=\"url(#clip982)\" cx=\"1808.06\" cy=\"969.61\" r=\"54\" fill=\"#f9c42c\" fill-rule=\"evenodd\" fill-opacity=\"1\" stroke=\"#000000\" stroke-opacity=\"1\" stroke-width=\"3.2\"/>\n",
       "<circle clip-path=\"url(#clip982)\" cx=\"1975.94\" cy=\"1316.62\" r=\"54\" fill=\"#f9c42c\" fill-rule=\"evenodd\" fill-opacity=\"1\" stroke=\"#000000\" stroke-opacity=\"1\" stroke-width=\"3.2\"/>\n",
       "<circle clip-path=\"url(#clip982)\" cx=\"1724.13\" cy=\"622.595\" r=\"60\" fill=\"#f8fc9c\" fill-rule=\"evenodd\" fill-opacity=\"1\" stroke=\"#000000\" stroke-opacity=\"1\" stroke-width=\"3.2\"/>\n",
       "<circle clip-path=\"url(#clip982)\" cx=\"1220.5\" cy=\"1200.95\" r=\"52\" fill=\"#fbb317\" fill-rule=\"evenodd\" fill-opacity=\"1\" stroke=\"#000000\" stroke-opacity=\"1\" stroke-width=\"3.2\"/>\n",
       "<circle clip-path=\"url(#clip982)\" cx=\"2059.88\" cy=\"911.774\" r=\"58\" fill=\"#f1ee72\" fill-rule=\"evenodd\" fill-opacity=\"1\" stroke=\"#000000\" stroke-opacity=\"1\" stroke-width=\"3.2\"/>\n",
       "<circle clip-path=\"url(#clip982)\" cx=\"1640.19\" cy=\"1200.95\" r=\"51\" fill=\"#fbaa0e\" fill-rule=\"evenodd\" fill-opacity=\"1\" stroke=\"#000000\" stroke-opacity=\"1\" stroke-width=\"3.2\"/>\n",
       "<circle clip-path=\"url(#clip982)\" cx=\"1472.31\" cy=\"333.416\" r=\"59\" fill=\"#f3f68a\" fill-rule=\"evenodd\" fill-opacity=\"1\" stroke=\"#000000\" stroke-opacity=\"1\" stroke-width=\"3.2\"/>\n",
       "<circle clip-path=\"url(#clip982)\" cx=\"1556.25\" cy=\"1027.45\" r=\"53\" fill=\"#fbb91e\" fill-rule=\"evenodd\" fill-opacity=\"1\" stroke=\"#000000\" stroke-opacity=\"1\" stroke-width=\"3.2\"/>\n",
       "<circle clip-path=\"url(#clip982)\" cx=\"1724.13\" cy=\"911.774\" r=\"54\" fill=\"#f9c42c\" fill-rule=\"evenodd\" fill-opacity=\"1\" stroke=\"#000000\" stroke-opacity=\"1\" stroke-width=\"3.2\"/>\n",
       "<circle clip-path=\"url(#clip982)\" cx=\"549.001\" cy=\"564.759\" r=\"49\" fill=\"#fa9207\" fill-rule=\"evenodd\" fill-opacity=\"1\" stroke=\"#000000\" stroke-opacity=\"1\" stroke-width=\"3.2\"/>\n",
       "<circle clip-path=\"url(#clip982)\" cx=\"2059.88\" cy=\"333.416\" r=\"59\" fill=\"#f2f380\" fill-rule=\"evenodd\" fill-opacity=\"1\" stroke=\"#000000\" stroke-opacity=\"1\" stroke-width=\"3.2\"/>\n",
       "<circle clip-path=\"url(#clip982)\" cx=\"884.751\" cy=\"1027.45\" r=\"48\" fill=\"#f98e08\" fill-rule=\"evenodd\" fill-opacity=\"1\" stroke=\"#000000\" stroke-opacity=\"1\" stroke-width=\"3.2\"/>\n",
       "<circle clip-path=\"url(#clip982)\" cx=\"716.876\" cy=\"391.252\" r=\"52\" fill=\"#fbb015\" fill-rule=\"evenodd\" fill-opacity=\"1\" stroke=\"#000000\" stroke-opacity=\"1\" stroke-width=\"3.2\"/>\n",
       "<circle clip-path=\"url(#clip982)\" cx=\"968.688\" cy=\"1085.28\" r=\"48\" fill=\"#f98e08\" fill-rule=\"evenodd\" fill-opacity=\"1\" stroke=\"#000000\" stroke-opacity=\"1\" stroke-width=\"3.2\"/>\n",
       "<circle clip-path=\"url(#clip982)\" cx=\"549.001\" cy=\"391.252\" r=\"51\" fill=\"#fbac10\" fill-rule=\"evenodd\" fill-opacity=\"1\" stroke=\"#000000\" stroke-opacity=\"1\" stroke-width=\"3.2\"/>\n",
       "<circle clip-path=\"url(#clip982)\" cx=\"1304.44\" cy=\"275.58\" r=\"59\" fill=\"#f2f380\" fill-rule=\"evenodd\" fill-opacity=\"1\" stroke=\"#000000\" stroke-opacity=\"1\" stroke-width=\"3.2\"/>\n",
       "<circle clip-path=\"url(#clip982)\" cx=\"1136.56\" cy=\"506.923\" r=\"56\" fill=\"#f4db4c\" fill-rule=\"evenodd\" fill-opacity=\"1\" stroke=\"#000000\" stroke-opacity=\"1\" stroke-width=\"3.2\"/>\n",
       "<circle clip-path=\"url(#clip982)\" cx=\"381.126\" cy=\"911.774\" r=\"3\" fill=\"#000003\" fill-rule=\"evenodd\" fill-opacity=\"1\" stroke=\"#000000\" stroke-opacity=\"1\" stroke-width=\"3.2\"/>\n",
       "<circle clip-path=\"url(#clip982)\" cx=\"1892\" cy=\"738.266\" r=\"59\" fill=\"#f3f68a\" fill-rule=\"evenodd\" fill-opacity=\"1\" stroke=\"#000000\" stroke-opacity=\"1\" stroke-width=\"3.2\"/>\n",
       "<circle clip-path=\"url(#clip982)\" cx=\"1556.25\" cy=\"738.266\" r=\"55\" fill=\"#f7d23e\" fill-rule=\"evenodd\" fill-opacity=\"1\" stroke=\"#000000\" stroke-opacity=\"1\" stroke-width=\"3.2\"/>\n",
       "<circle clip-path=\"url(#clip982)\" cx=\"1808.06\" cy=\"506.923\" r=\"60\" fill=\"#f8fc9c\" fill-rule=\"evenodd\" fill-opacity=\"1\" stroke=\"#000000\" stroke-opacity=\"1\" stroke-width=\"3.2\"/>\n",
       "<circle clip-path=\"url(#clip982)\" cx=\"1808.06\" cy=\"275.58\" r=\"59\" fill=\"#f3f68a\" fill-rule=\"evenodd\" fill-opacity=\"1\" stroke=\"#000000\" stroke-opacity=\"1\" stroke-width=\"3.2\"/>\n",
       "<circle clip-path=\"url(#clip982)\" cx=\"1304.44\" cy=\"622.595\" r=\"55\" fill=\"#f7d03b\" fill-rule=\"evenodd\" fill-opacity=\"1\" stroke=\"#000000\" stroke-opacity=\"1\" stroke-width=\"3.2\"/>\n",
       "<circle clip-path=\"url(#clip982)\" cx=\"1892\" cy=\"796.102\" r=\"58\" fill=\"#f1ef77\" fill-rule=\"evenodd\" fill-opacity=\"1\" stroke=\"#000000\" stroke-opacity=\"1\" stroke-width=\"3.2\"/>\n",
       "<circle clip-path=\"url(#clip982)\" cx=\"884.751\" cy=\"159.909\" r=\"55\" fill=\"#f8cb34\" fill-rule=\"evenodd\" fill-opacity=\"1\" stroke=\"#000000\" stroke-opacity=\"1\" stroke-width=\"3.2\"/>\n",
       "<circle clip-path=\"url(#clip982)\" cx=\"1472.31\" cy=\"217.744\" r=\"58\" fill=\"#f1ee72\" fill-rule=\"evenodd\" fill-opacity=\"1\" stroke=\"#000000\" stroke-opacity=\"1\" stroke-width=\"3.2\"/>\n",
       "<circle clip-path=\"url(#clip982)\" cx=\"1472.31\" cy=\"449.088\" r=\"60\" fill=\"#f4f78e\" fill-rule=\"evenodd\" fill-opacity=\"1\" stroke=\"#000000\" stroke-opacity=\"1\" stroke-width=\"3.2\"/>\n",
       "<circle clip-path=\"url(#clip982)\" cx=\"1304.44\" cy=\"1374.46\" r=\"49\" fill=\"#fa9207\" fill-rule=\"evenodd\" fill-opacity=\"1\" stroke=\"#000000\" stroke-opacity=\"1\" stroke-width=\"3.2\"/>\n",
       "<circle clip-path=\"url(#clip982)\" cx=\"800.813\" cy=\"391.252\" r=\"52\" fill=\"#fbb317\" fill-rule=\"evenodd\" fill-opacity=\"1\" stroke=\"#000000\" stroke-opacity=\"1\" stroke-width=\"3.2\"/>\n",
       "<circle clip-path=\"url(#clip982)\" cx=\"968.688\" cy=\"680.431\" r=\"51\" fill=\"#fbaa0e\" fill-rule=\"evenodd\" fill-opacity=\"1\" stroke=\"#000000\" stroke-opacity=\"1\" stroke-width=\"3.2\"/>\n",
       "<circle clip-path=\"url(#clip982)\" cx=\"632.938\" cy=\"449.088\" r=\"51\" fill=\"#fba50b\" fill-rule=\"evenodd\" fill-opacity=\"1\" stroke=\"#000000\" stroke-opacity=\"1\" stroke-width=\"3.2\"/>\n",
       "<circle clip-path=\"url(#clip982)\" cx=\"1052.63\" cy=\"853.938\" r=\"49\" fill=\"#fa9606\" fill-rule=\"evenodd\" fill-opacity=\"1\" stroke=\"#000000\" stroke-opacity=\"1\" stroke-width=\"3.2\"/>\n",
       "<circle clip-path=\"url(#clip982)\" cx=\"1640.19\" cy=\"738.266\" r=\"56\" fill=\"#f4dd50\" fill-rule=\"evenodd\" fill-opacity=\"1\" stroke=\"#000000\" stroke-opacity=\"1\" stroke-width=\"3.2\"/>\n",
       "<circle clip-path=\"url(#clip982)\" cx=\"1472.31\" cy=\"969.61\" r=\"51\" fill=\"#fbac10\" fill-rule=\"evenodd\" fill-opacity=\"1\" stroke=\"#000000\" stroke-opacity=\"1\" stroke-width=\"3.2\"/>\n",
       "<circle clip-path=\"url(#clip982)\" cx=\"1724.13\" cy=\"449.088\" r=\"60\" fill=\"#f5f993\" fill-rule=\"evenodd\" fill-opacity=\"1\" stroke=\"#000000\" stroke-opacity=\"1\" stroke-width=\"3.2\"/>\n",
       "<circle clip-path=\"url(#clip982)\" cx=\"1052.63\" cy=\"159.909\" r=\"58\" fill=\"#f1e864\" fill-rule=\"evenodd\" fill-opacity=\"1\" stroke=\"#000000\" stroke-opacity=\"1\" stroke-width=\"3.2\"/>\n",
       "<circle clip-path=\"url(#clip982)\" cx=\"465.063\" cy=\"853.938\" r=\"24\" fill=\"#741a6d\" fill-rule=\"evenodd\" fill-opacity=\"1\" stroke=\"#000000\" stroke-opacity=\"1\" stroke-width=\"3.2\"/>\n",
       "<circle clip-path=\"url(#clip982)\" cx=\"1556.25\" cy=\"622.595\" r=\"58\" fill=\"#f1ea69\" fill-rule=\"evenodd\" fill-opacity=\"1\" stroke=\"#000000\" stroke-opacity=\"1\" stroke-width=\"3.2\"/>\n",
       "<circle clip-path=\"url(#clip982)\" cx=\"1975.94\" cy=\"1085.28\" r=\"54\" fill=\"#f9c42c\" fill-rule=\"evenodd\" fill-opacity=\"1\" stroke=\"#000000\" stroke-opacity=\"1\" stroke-width=\"3.2\"/>\n",
       "<circle clip-path=\"url(#clip982)\" cx=\"1556.25\" cy=\"564.759\" r=\"60\" fill=\"#f4f78e\" fill-rule=\"evenodd\" fill-opacity=\"1\" stroke=\"#000000\" stroke-opacity=\"1\" stroke-width=\"3.2\"/>\n",
       "<circle clip-path=\"url(#clip982)\" cx=\"1304.44\" cy=\"1258.79\" r=\"52\" fill=\"#fbb015\" fill-rule=\"evenodd\" fill-opacity=\"1\" stroke=\"#000000\" stroke-opacity=\"1\" stroke-width=\"3.2\"/>\n",
       "<circle clip-path=\"url(#clip982)\" cx=\"549.001\" cy=\"1143.12\" r=\"3\" fill=\"#000003\" fill-rule=\"evenodd\" fill-opacity=\"1\" stroke=\"#000000\" stroke-opacity=\"1\" stroke-width=\"3.2\"/>\n",
       "<circle clip-path=\"url(#clip982)\" cx=\"1052.63\" cy=\"680.431\" r=\"52\" fill=\"#fbb317\" fill-rule=\"evenodd\" fill-opacity=\"1\" stroke=\"#000000\" stroke-opacity=\"1\" stroke-width=\"3.2\"/>\n",
       "<circle clip-path=\"url(#clip982)\" cx=\"1220.5\" cy=\"1258.79\" r=\"48\" fill=\"#f98e08\" fill-rule=\"evenodd\" fill-opacity=\"1\" stroke=\"#000000\" stroke-opacity=\"1\" stroke-width=\"3.2\"/>\n",
       "<circle clip-path=\"url(#clip982)\" cx=\"2059.88\" cy=\"275.58\" r=\"59\" fill=\"#f3f68a\" fill-rule=\"evenodd\" fill-opacity=\"1\" stroke=\"#000000\" stroke-opacity=\"1\" stroke-width=\"3.2\"/>\n",
       "<circle clip-path=\"url(#clip982)\" cx=\"968.688\" cy=\"1316.62\" r=\"46\" fill=\"#f37818\" fill-rule=\"evenodd\" fill-opacity=\"1\" stroke=\"#000000\" stroke-opacity=\"1\" stroke-width=\"3.2\"/>\n",
       "<circle clip-path=\"url(#clip982)\" cx=\"1136.56\" cy=\"1374.46\" r=\"48\" fill=\"#f98e08\" fill-rule=\"evenodd\" fill-opacity=\"1\" stroke=\"#000000\" stroke-opacity=\"1\" stroke-width=\"3.2\"/>\n",
       "<circle clip-path=\"url(#clip982)\" cx=\"1724.13\" cy=\"680.431\" r=\"59\" fill=\"#f1f17c\" fill-rule=\"evenodd\" fill-opacity=\"1\" stroke=\"#000000\" stroke-opacity=\"1\" stroke-width=\"3.2\"/>\n",
       "<circle clip-path=\"url(#clip982)\" cx=\"1136.56\" cy=\"738.266\" r=\"52\" fill=\"#fbb317\" fill-rule=\"evenodd\" fill-opacity=\"1\" stroke=\"#000000\" stroke-opacity=\"1\" stroke-width=\"3.2\"/>\n",
       "<circle clip-path=\"url(#clip982)\" cx=\"1388.38\" cy=\"217.744\" r=\"58\" fill=\"#f1ee72\" fill-rule=\"evenodd\" fill-opacity=\"1\" stroke=\"#000000\" stroke-opacity=\"1\" stroke-width=\"3.2\"/>\n",
       "<circle clip-path=\"url(#clip982)\" cx=\"632.938\" cy=\"275.58\" r=\"52\" fill=\"#fbb519\" fill-rule=\"evenodd\" fill-opacity=\"1\" stroke=\"#000000\" stroke-opacity=\"1\" stroke-width=\"3.2\"/>\n",
       "<circle clip-path=\"url(#clip982)\" cx=\"1388.38\" cy=\"159.909\" r=\"58\" fill=\"#f1ec6d\" fill-rule=\"evenodd\" fill-opacity=\"1\" stroke=\"#000000\" stroke-opacity=\"1\" stroke-width=\"3.2\"/>\n",
       "<circle clip-path=\"url(#clip982)\" cx=\"381.126\" cy=\"622.595\" r=\"48\" fill=\"#f98c09\" fill-rule=\"evenodd\" fill-opacity=\"1\" stroke=\"#000000\" stroke-opacity=\"1\" stroke-width=\"3.2\"/>\n",
       "<circle clip-path=\"url(#clip982)\" cx=\"1472.31\" cy=\"622.595\" r=\"58\" fill=\"#f1e864\" fill-rule=\"evenodd\" fill-opacity=\"1\" stroke=\"#000000\" stroke-opacity=\"1\" stroke-width=\"3.2\"/>\n",
       "<circle clip-path=\"url(#clip982)\" cx=\"465.063\" cy=\"738.266\" r=\"49\" fill=\"#fa9406\" fill-rule=\"evenodd\" fill-opacity=\"1\" stroke=\"#000000\" stroke-opacity=\"1\" stroke-width=\"3.2\"/>\n",
       "<circle clip-path=\"url(#clip982)\" cx=\"1808.06\" cy=\"1027.45\" r=\"54\" fill=\"#f9c42c\" fill-rule=\"evenodd\" fill-opacity=\"1\" stroke=\"#000000\" stroke-opacity=\"1\" stroke-width=\"3.2\"/>\n",
       "<circle clip-path=\"url(#clip982)\" cx=\"1640.19\" cy=\"333.416\" r=\"59\" fill=\"#f2f380\" fill-rule=\"evenodd\" fill-opacity=\"1\" stroke=\"#000000\" stroke-opacity=\"1\" stroke-width=\"3.2\"/>\n",
       "<circle clip-path=\"url(#clip982)\" cx=\"1975.94\" cy=\"217.744\" r=\"58\" fill=\"#f1ee72\" fill-rule=\"evenodd\" fill-opacity=\"1\" stroke=\"#000000\" stroke-opacity=\"1\" stroke-width=\"3.2\"/>\n",
       "<circle clip-path=\"url(#clip982)\" cx=\"1556.25\" cy=\"275.58\" r=\"59\" fill=\"#f3f68a\" fill-rule=\"evenodd\" fill-opacity=\"1\" stroke=\"#000000\" stroke-opacity=\"1\" stroke-width=\"3.2\"/>\n",
       "<circle clip-path=\"url(#clip982)\" cx=\"381.126\" cy=\"159.909\" r=\"52\" fill=\"#fbae12\" fill-rule=\"evenodd\" fill-opacity=\"1\" stroke=\"#000000\" stroke-opacity=\"1\" stroke-width=\"3.2\"/>\n",
       "<circle clip-path=\"url(#clip982)\" cx=\"1808.06\" cy=\"622.595\" r=\"60\" fill=\"#f7fa97\" fill-rule=\"evenodd\" fill-opacity=\"1\" stroke=\"#000000\" stroke-opacity=\"1\" stroke-width=\"3.2\"/>\n",
       "<circle clip-path=\"url(#clip982)\" cx=\"1052.63\" cy=\"391.252\" r=\"57\" fill=\"#f3df54\" fill-rule=\"evenodd\" fill-opacity=\"1\" stroke=\"#000000\" stroke-opacity=\"1\" stroke-width=\"3.2\"/>\n",
       "<circle clip-path=\"url(#clip982)\" cx=\"1724.13\" cy=\"738.266\" r=\"58\" fill=\"#f1e864\" fill-rule=\"evenodd\" fill-opacity=\"1\" stroke=\"#000000\" stroke-opacity=\"1\" stroke-width=\"3.2\"/>\n",
       "<circle clip-path=\"url(#clip982)\" cx=\"1640.19\" cy=\"1143.12\" r=\"51\" fill=\"#fbac10\" fill-rule=\"evenodd\" fill-opacity=\"1\" stroke=\"#000000\" stroke-opacity=\"1\" stroke-width=\"3.2\"/>\n",
       "<circle clip-path=\"url(#clip982)\" cx=\"1304.44\" cy=\"506.923\" r=\"58\" fill=\"#f1ec6d\" fill-rule=\"evenodd\" fill-opacity=\"1\" stroke=\"#000000\" stroke-opacity=\"1\" stroke-width=\"3.2\"/>\n",
       "<circle clip-path=\"url(#clip982)\" cx=\"1388.38\" cy=\"853.938\" r=\"52\" fill=\"#fbb519\" fill-rule=\"evenodd\" fill-opacity=\"1\" stroke=\"#000000\" stroke-opacity=\"1\" stroke-width=\"3.2\"/>\n",
       "<circle clip-path=\"url(#clip982)\" cx=\"297.188\" cy=\"217.744\" r=\"51\" fill=\"#fba50b\" fill-rule=\"evenodd\" fill-opacity=\"1\" stroke=\"#000000\" stroke-opacity=\"1\" stroke-width=\"3.2\"/>\n",
       "<circle clip-path=\"url(#clip982)\" cx=\"884.751\" cy=\"1374.46\" r=\"3\" fill=\"#000004\" fill-rule=\"evenodd\" fill-opacity=\"1\" stroke=\"#000000\" stroke-opacity=\"1\" stroke-width=\"3.2\"/>\n",
       "<circle clip-path=\"url(#clip982)\" cx=\"884.751\" cy=\"622.595\" r=\"50\" fill=\"#fba108\" fill-rule=\"evenodd\" fill-opacity=\"1\" stroke=\"#000000\" stroke-opacity=\"1\" stroke-width=\"3.2\"/>\n",
       "<circle clip-path=\"url(#clip982)\" cx=\"2059.88\" cy=\"1027.45\" r=\"55\" fill=\"#f8cb34\" fill-rule=\"evenodd\" fill-opacity=\"1\" stroke=\"#000000\" stroke-opacity=\"1\" stroke-width=\"3.2\"/>\n",
       "<circle clip-path=\"url(#clip982)\" cx=\"1556.25\" cy=\"796.102\" r=\"54\" fill=\"#f9c72f\" fill-rule=\"evenodd\" fill-opacity=\"1\" stroke=\"#000000\" stroke-opacity=\"1\" stroke-width=\"3.2\"/>\n",
       "<circle clip-path=\"url(#clip982)\" cx=\"1640.19\" cy=\"217.744\" r=\"58\" fill=\"#f1ee72\" fill-rule=\"evenodd\" fill-opacity=\"1\" stroke=\"#000000\" stroke-opacity=\"1\" stroke-width=\"3.2\"/>\n",
       "<circle clip-path=\"url(#clip982)\" cx=\"1724.13\" cy=\"1027.45\" r=\"54\" fill=\"#f9c42c\" fill-rule=\"evenodd\" fill-opacity=\"1\" stroke=\"#000000\" stroke-opacity=\"1\" stroke-width=\"3.2\"/>\n",
       "<circle clip-path=\"url(#clip982)\" cx=\"1892\" cy=\"333.416\" r=\"59\" fill=\"#f2f380\" fill-rule=\"evenodd\" fill-opacity=\"1\" stroke=\"#000000\" stroke-opacity=\"1\" stroke-width=\"3.2\"/>\n",
       "<circle clip-path=\"url(#clip982)\" cx=\"632.938\" cy=\"680.431\" r=\"49\" fill=\"#fa9207\" fill-rule=\"evenodd\" fill-opacity=\"1\" stroke=\"#000000\" stroke-opacity=\"1\" stroke-width=\"3.2\"/>\n",
       "<circle clip-path=\"url(#clip982)\" cx=\"1472.31\" cy=\"1143.12\" r=\"52\" fill=\"#fbb015\" fill-rule=\"evenodd\" fill-opacity=\"1\" stroke=\"#000000\" stroke-opacity=\"1\" stroke-width=\"3.2\"/>\n",
       "<circle clip-path=\"url(#clip982)\" cx=\"1052.63\" cy=\"738.266\" r=\"52\" fill=\"#fbb015\" fill-rule=\"evenodd\" fill-opacity=\"1\" stroke=\"#000000\" stroke-opacity=\"1\" stroke-width=\"3.2\"/>\n",
       "<circle clip-path=\"url(#clip982)\" cx=\"1808.06\" cy=\"1200.95\" r=\"54\" fill=\"#f9c42c\" fill-rule=\"evenodd\" fill-opacity=\"1\" stroke=\"#000000\" stroke-opacity=\"1\" stroke-width=\"3.2\"/>\n",
       "<circle clip-path=\"url(#clip982)\" cx=\"1724.13\" cy=\"1316.62\" r=\"52\" fill=\"#fbb519\" fill-rule=\"evenodd\" fill-opacity=\"1\" stroke=\"#000000\" stroke-opacity=\"1\" stroke-width=\"3.2\"/>\n",
       "<circle clip-path=\"url(#clip982)\" cx=\"1808.06\" cy=\"1374.46\" r=\"51\" fill=\"#fbac10\" fill-rule=\"evenodd\" fill-opacity=\"1\" stroke=\"#000000\" stroke-opacity=\"1\" stroke-width=\"3.2\"/>\n",
       "<circle clip-path=\"url(#clip982)\" cx=\"884.751\" cy=\"853.938\" r=\"52\" fill=\"#fbb317\" fill-rule=\"evenodd\" fill-opacity=\"1\" stroke=\"#000000\" stroke-opacity=\"1\" stroke-width=\"3.2\"/>\n",
       "<circle clip-path=\"url(#clip982)\" cx=\"1136.56\" cy=\"564.759\" r=\"54\" fill=\"#f9c72f\" fill-rule=\"evenodd\" fill-opacity=\"1\" stroke=\"#000000\" stroke-opacity=\"1\" stroke-width=\"3.2\"/>\n",
       "<circle clip-path=\"url(#clip982)\" cx=\"297.188\" cy=\"853.938\" r=\"3\" fill=\"#000003\" fill-rule=\"evenodd\" fill-opacity=\"1\" stroke=\"#000000\" stroke-opacity=\"1\" stroke-width=\"3.2\"/>\n",
       "<circle clip-path=\"url(#clip982)\" cx=\"2059.88\" cy=\"217.744\" r=\"58\" fill=\"#f1ee72\" fill-rule=\"evenodd\" fill-opacity=\"1\" stroke=\"#000000\" stroke-opacity=\"1\" stroke-width=\"3.2\"/>\n",
       "<circle clip-path=\"url(#clip982)\" cx=\"1640.19\" cy=\"1085.28\" r=\"53\" fill=\"#fabe23\" fill-rule=\"evenodd\" fill-opacity=\"1\" stroke=\"#000000\" stroke-opacity=\"1\" stroke-width=\"3.2\"/>\n",
       "<circle clip-path=\"url(#clip982)\" cx=\"381.126\" cy=\"680.431\" r=\"47\" fill=\"#f7840f\" fill-rule=\"evenodd\" fill-opacity=\"1\" stroke=\"#000000\" stroke-opacity=\"1\" stroke-width=\"3.2\"/>\n",
       "<circle clip-path=\"url(#clip982)\" cx=\"1556.25\" cy=\"159.909\" r=\"58\" fill=\"#f1ec6d\" fill-rule=\"evenodd\" fill-opacity=\"1\" stroke=\"#000000\" stroke-opacity=\"1\" stroke-width=\"3.2\"/>\n",
       "<circle clip-path=\"url(#clip982)\" cx=\"465.063\" cy=\"1027.45\" r=\"3\" fill=\"#000003\" fill-rule=\"evenodd\" fill-opacity=\"1\" stroke=\"#000000\" stroke-opacity=\"1\" stroke-width=\"3.2\"/>\n",
       "<defs>\n",
       "  <clipPath id=\"clip983\">\n",
       "    <rect x=\"2160\" y=\"123\" width=\"73\" height=\"1288\"/>\n",
       "  </clipPath>\n",
       "</defs>\n",
       "<g clip-path=\"url(#clip983)\">\n",
       "<image width=\"72\" height=\"1287\" xlink:href=\"data:image/png;base64,\n",
       "iVBORw0KGgoAAAANSUhEUgAAAEgAAAUHCAYAAAD52yRZAAALNElEQVR4nO3dwa3kRhAFQY5Q/lsh\n",
       "L6XtlgWqPJKHCAsGiQeit4d/9vfv+fs+/K+/3v4AXydQECgIFAQKc+6/b3+GT7OgIFAQKAgU5t4/\n",
       "b3+GT7OgIFAQKAgUnKSDBQWBgkBBoDDXQ3plQUGgIFAQKMw9HtIbCwoCBYGCQMFJOlhQECgIFAQK\n",
       "HtLBgoJAQaAgUHDdESwoCBQECgKFeZykVxYUBAoCBYGC645gQUGgIFAQKMzjumNlQUGgIFAQKMxz\n",
       "/nn7M3yaBQWBgkBBoOBOOlhQECgIFAQKrjuCBQWBgkBBoOAhHSwoCBQECgIF1x3BgoJAQaAgUJif\n",
       "k/TKgoJAQaAgUJjn+D3pjQUFgYJAQaDgJB0sKAgUBAoCBSfpYEFBoCBQECh4uyNYUBAoCBQECvNz\n",
       "kl5ZUBAoCBQECl7BCxYUBAoCBYGCk3SwoCBQECgIFHxxGCwoCBQECgIFJ+lgQUGgIFAQKDhJBwsK\n",
       "AgWBgkDBSTpYUBAoCBQECvOc8/Zn+DQLCgIFgYJAwUk6WFAQKAgUBArupIMFBYGCQEGg4CEdLCgI\n",
       "FAQKAoX5uZNeWVAQKAgUBApO0sGCgkBBoCBQ8HZHsKAgUBAoCBRcdwQLCgIFgYJAQaDgPihYUBAo\n",
       "CBQECu6DggUFgYJAQaDgIR0sKAgUBAoCBX+SGSwoCBQECgIFJ+lgQUGgIFAQKHhIBwsKAgWBgkDB\n",
       "QzpYUBAoCBQECh7SwYKCQEGgIFCY53pIbywoCBQECgIFJ+lgQUGgIFAQKHhIBwsKAgWBgkDBQzpY\n",
       "UBAoCBQECvOc+/Zn+DQLCgIFgYJAwUk6WFAQKAgUBApO0sGCgkBBoCBQcJIOFhQECgIFgYKTdLCg\n",
       "IFAQKAgU5nGQXllQECgIFAQK81wn6Y0FBYGCQEGg4CQdLCgIFAQKAgUP6WBBQaAgUBAojN9X2llQ\n",
       "ECgIFAQKTtLBgoJAQaAgUPCQDhYUBAoCBYHCPOf39mf4NAsKAgWBgkBh7vWQ3lhQECgIFAQKrjuC\n",
       "BQWBgkBBoOC6I1hQECgIFAQKc49GG3WCQEGgIFBwkg4WFAQKAgWBwjy+OFxZUBAoCBQECnOdpFcW\n",
       "FAQKAgWBwjzupFfqBIGCQEGg4CQdLCgIFAQKAgV30sGCgkBBoCBQ8ApeUCcIFAQKAgWv4AULCgIF\n",
       "gYJAQaDg0j5YUBAoCBQECnOvRht1gkBBoCBQcB8ULCgIFAQKAgXXHcGCgkBBoCBQmMd1x0qdIFAQ\n",
       "KAgUnKSDBQWBgkBBoOAhHSwoCBQECgIFf5IZLCgIFAQKAgV/khnUCQIFgYJAwf/UGywoCBQECgIF\n",
       "d9LBgoJAQaAgUPCD20GdIFAQKAgUXHcECwoCBYGCQMF1R7CgIFAQKAgUnKSDBQWBgkBBoOAVvKBO\n",
       "ECgIFAQKTtLBgoJAQaAgUHAnHSwoCBQECgIFJ+lgQUGgIFAQKPjR/2BBQaAgUBAo+O+zgjpBoCBQ\n",
       "ECi47ggWFAQKAgWBgi8OgwUFgYJAQaDgJB0sKAgUBAoChTke0isLCgIFgYJAwV8cBnWCQEGgIFBw\n",
       "3REsKAgUBAoCBQ/pYEFBoCBQECh4uyNYUBAoCBQECk7SwYKCQEGgIFDwkA4WFAQKAgWBgj8LD+oE\n",
       "gYJAQaAwx530yoKCQEGgIFBw3REsKAgUBAoCBQ/pYEFBoCBQECh4SAcLCgIFgYJAQaDgx02CBQWB\n",
       "gkBBoOCfGsGCgkBBoCBQ8JAOFhQECgIFgYIXyYM6QaAgUBAoeJE8WFAQKAgUBAquO4IFBYGCQEGg\n",
       "4CEdLCgIFAQKAgWv4AULCgIFgYJAwUk6WFAQKAgUBApzHw/pjQUFgYJAQaDguiNYUBAoCBQECq47\n",
       "ggUFgYJAQaDgJB0sKAgUBAoCBSfpYEFBoCBQECg4SQcLCgIFgYJAwUk6WFAQKAgUBAoe0sGCgkBB\n",
       "oCBQmOM96ZUFBYGCQEGg4CQdLCgIFAQKAgVfHAYLCgIFgYJAYe59+yN8mwUFgYJAQaDgJB0sKAgU\n",
       "BAoCBT+wFCwoCBQECgIFJ+lgQUGgIFAQKHi7I1hQECgIFAQK3pMOFhQECgIFgYK3O4IFBYGCQEGg\n",
       "4E46WFAQKAgUBArupIMFBYGCQEGg4E46WFAQKAgUBAquO4IFBYGCQEGg4IvDYEFBoCBQECi47ggW\n",
       "FAQKAgWBgi8OgwUFgYJAQaAw5+1P8HEWFAQKAgWBgpN0sKAgUBAoCBS83REsKAgUBAoCBYGC+6Bg\n",
       "QUGgIFAQKLgPChYUBAoCBYGCk3SwoCBQECgIFJykgwUFgYJAQaDgm9VgQUGgIFAQKIw/m99ZUBAo\n",
       "CBQECk7SwYKCQEGgIFDwxWGwoCBQECgIFHxxGCwoCBQECgIFJ+lgQUGgIFAQKDhJBwsKAgWBgkBh\n",
       "jtc7VhYUBAoCBYGC645gQUGgIFAQKLjuCBYUBAoCBYGCk3SwoCBQECgIFPxPvcGCgkBBoCBQ8D/1\n",
       "BgsKAgWBgkDB2x3BgoJAQaAgUPADS8GCgkBBoCBQ8ANLwYKCQEGgIFDwxWGwoCBQECgIFLyCFywo\n",
       "CBQECgIFf8wSLCgIFAQKAgUn6WBBQaAgUBAoeAUvWFAQKAgUBApewQsWFAQKAgWBgpN0sKAgUBAo\n",
       "CBS8ghcsKAgUBAoCBb/dESwoCBQECgIF1x3BgoJAQaAgUPDFYbCgIFAQKAgUnKSDBQWBgkBBoOAk\n",
       "HSwoCBQECgIFJ+lgQUGgIFAQKHhIBwsKAgWBgkDBdUewoCBQECgIFAQK/qkRLCgIFAQKAgX/1AgW\n",
       "FAQKAgWBgpN0sKAgUBAoCBT8uEmwoCBQECgIFPyvCMGCgkBBoCBQcN0RLCgIFAQKAoW5j6f0xoKC\n",
       "QEGgIFBwkg4WFAQKAgWBgi8OgwUFgYJAQaDgi8NgQUGgIFAQKLjuCBYUBAoCBYGCLw6DBQWBgkBB\n",
       "oOAkHSwoCBQECgIFv90RLCgIFAQKAoU5Xu9YWVAQKAgUBAre7ggWFAQKAgWBwlwn6ZUFBYGCQEGg\n",
       "4CQdLCgIFAQKAgV30sGCgkBBoCBQ8HZHsKAgUBAoCBTm+GOWlQUFgYJAQaDguiNYUBAoCBQECv4s\n",
       "PFhQECgIFAQK3u4IFhQECgIFgYI76WBBQaAgUBAouO4IFhQECgIFgcKcx4XHxoKCQEGgIFBw3REs\n",
       "KAgUBAoCBQ/pYEFBoCBQECi4kw4WFAQKAgWBgjvpYEFBoCBQECjM+TlJbywoCBQECgIFJ+lgQUGg\n",
       "IFAQKMz1kF5ZUBAoCBQECk7SwYKCQEGgIFCY8/OQ3lhQECgIFAQKTtLBgoJAQaAgUBAouLQPFhQE\n",
       "CgIFgYJ/agQLCgIFgYJAwUM6WFAQKAgUBAq+WQ0WFAQKAgWBwtznz9uf4dMsKAgUBAoCBdcdwYKC\n",
       "QEGgIFDwdkewoCBQECgIFOZc1x0bCwoCBYGCQMFJOlhQECgIFAQKc3xxuLKgIFAQKAgUnKSDBQWB\n",
       "gkBBoOAkHSwoCBQECgKFuddJemNBQaAgUBAouO4IFhQECgIFgYJX8IIFBYGCQEGg4CQdLCgIFAQK\n",
       "AoW5TtIrCwoCBYGCQMFJOlhQECgIFAQKc7zdsbKgIFAQKAgU/FRpsKAgUBAoCBS8Jx0sKAgUBAoC\n",
       "BXfSwYKCQEGgIFBwkg4WFAQKAgWBgod0sKAgUBAoCBR8cRgsKAgUBAoCBSfpYEFBoCBQECjM44vD\n",
       "lQUFgYJAQaDgJB0sKAgUBAoCBa/gBQsKAgWBgkBhHifplQUFgYJAQaDg7Y5gQUGgIFAQKPjiMFhQ\n",
       "ECgIFAQKrjuCBQWBgkBBoDD3uW9/hk+zoCBQECgIFFx3BAsKAgWBgkBhHifplQUFgYJAQaDwH/Bf\n",
       "7R1mdRMXAAAAAElFTkSuQmCC\n",
       "\" transform=\"translate(2161, 123)\"/>\n",
       "</g>\n",
       "<path clip-path=\"url(#clip980)\" d=\"M 0 0 M2280.7 1346.88 Q2277.09 1346.88 2275.26 1350.45 Q2273.45 1353.99 2273.45 1361.12 Q2273.45 1368.22 2275.26 1371.79 Q2277.09 1375.33 2280.7 1375.33 Q2284.33 1375.33 2286.14 1371.79 Q2287.97 1368.22 2287.97 1361.12 Q2287.97 1353.99 2286.14 1350.45 Q2284.33 1346.88 2280.7 1346.88 M2280.7 1343.18 Q2286.51 1343.18 2289.57 1347.78 Q2292.64 1352.37 2292.64 1361.12 Q2292.64 1369.84 2289.57 1374.45 Q2286.51 1379.03 2280.7 1379.03 Q2274.89 1379.03 2271.81 1374.45 Q2268.76 1369.84 2268.76 1361.12 Q2268.76 1352.37 2271.81 1347.78 Q2274.89 1343.18 2280.7 1343.18 Z\" fill=\"#000000\" fill-rule=\"evenodd\" fill-opacity=\"1\" /><path clip-path=\"url(#clip980)\" d=\"M 0 0 M2297.71 1372.48 L2302.6 1372.48 L2302.6 1378.36 L2297.71 1378.36 L2297.71 1372.48 Z\" fill=\"#000000\" fill-rule=\"evenodd\" fill-opacity=\"1\" /><path clip-path=\"url(#clip980)\" d=\"M 0 0 M2307.71 1343.8 L2326.07 1343.8 L2326.07 1347.74 L2312 1347.74 L2312 1356.21 Q2313.01 1355.86 2314.03 1355.7 Q2315.05 1355.52 2316.07 1355.52 Q2321.86 1355.52 2325.24 1358.69 Q2328.62 1361.86 2328.62 1367.27 Q2328.62 1372.85 2325.14 1375.95 Q2321.67 1379.03 2315.35 1379.03 Q2313.18 1379.03 2310.91 1378.66 Q2308.66 1378.29 2306.26 1377.55 L2306.26 1372.85 Q2308.34 1373.99 2310.56 1374.54 Q2312.78 1375.1 2315.26 1375.1 Q2319.26 1375.1 2321.6 1372.99 Q2323.94 1370.89 2323.94 1367.27 Q2323.94 1363.66 2321.6 1361.56 Q2319.26 1359.45 2315.26 1359.45 Q2313.39 1359.45 2311.51 1359.87 Q2309.66 1360.28 2307.71 1361.16 L2307.71 1343.8 Z\" fill=\"#000000\" fill-rule=\"evenodd\" fill-opacity=\"1\" /><path clip-path=\"url(#clip980)\" d=\"M 0 0 M2280.7 1094.01 Q2277.09 1094.01 2275.26 1097.58 Q2273.45 1101.12 2273.45 1108.25 Q2273.45 1115.36 2275.26 1118.92 Q2277.09 1122.46 2280.7 1122.46 Q2284.33 1122.46 2286.14 1118.92 Q2287.97 1115.36 2287.97 1108.25 Q2287.97 1101.12 2286.14 1097.58 Q2284.33 1094.01 2280.7 1094.01 M2280.7 1090.31 Q2286.51 1090.31 2289.57 1094.92 Q2292.64 1099.5 2292.64 1108.25 Q2292.64 1116.98 2289.57 1121.58 Q2286.51 1126.17 2280.7 1126.17 Q2274.89 1126.17 2271.81 1121.58 Q2268.76 1116.98 2268.76 1108.25 Q2268.76 1099.5 2271.81 1094.92 Q2274.89 1090.31 2280.7 1090.31 Z\" fill=\"#000000\" fill-rule=\"evenodd\" fill-opacity=\"1\" /><path clip-path=\"url(#clip980)\" d=\"M 0 0 M2297.71 1119.62 L2302.6 1119.62 L2302.6 1125.5 L2297.71 1125.5 L2297.71 1119.62 Z\" fill=\"#000000\" fill-rule=\"evenodd\" fill-opacity=\"1\" /><path clip-path=\"url(#clip980)\" d=\"M 0 0 M2318.25 1106.35 Q2315.1 1106.35 2313.25 1108.51 Q2311.42 1110.66 2311.42 1114.41 Q2311.42 1118.13 2313.25 1120.31 Q2315.1 1122.46 2318.25 1122.46 Q2321.39 1122.46 2323.22 1120.31 Q2325.08 1118.13 2325.08 1114.41 Q2325.08 1110.66 2323.22 1108.51 Q2321.39 1106.35 2318.25 1106.35 M2327.53 1091.7 L2327.53 1095.96 Q2325.77 1095.13 2323.96 1094.69 Q2322.18 1094.25 2320.42 1094.25 Q2315.79 1094.25 2313.34 1097.37 Q2310.91 1100.5 2310.56 1106.82 Q2311.93 1104.8 2313.99 1103.74 Q2316.05 1102.65 2318.52 1102.65 Q2323.73 1102.65 2326.74 1105.82 Q2329.77 1108.97 2329.77 1114.41 Q2329.77 1119.73 2326.63 1122.95 Q2323.48 1126.17 2318.25 1126.17 Q2312.25 1126.17 2309.08 1121.58 Q2305.91 1116.98 2305.91 1108.25 Q2305.91 1100.06 2309.8 1095.2 Q2313.69 1090.31 2320.24 1090.31 Q2322 1090.31 2323.78 1090.66 Q2325.58 1091.01 2327.53 1091.7 Z\" fill=\"#000000\" fill-rule=\"evenodd\" fill-opacity=\"1\" /><path clip-path=\"url(#clip980)\" d=\"M 0 0 M2280.7 841.148 Q2277.09 841.148 2275.26 844.713 Q2273.45 848.255 2273.45 855.384 Q2273.45 862.491 2275.26 866.055 Q2277.09 869.597 2280.7 869.597 Q2284.33 869.597 2286.14 866.055 Q2287.97 862.491 2287.97 855.384 Q2287.97 848.255 2286.14 844.713 Q2284.33 841.148 2280.7 841.148 M2280.7 837.445 Q2286.51 837.445 2289.57 842.051 Q2292.64 846.634 2292.64 855.384 Q2292.64 864.111 2289.57 868.718 Q2286.51 873.301 2280.7 873.301 Q2274.89 873.301 2271.81 868.718 Q2268.76 864.111 2268.76 855.384 Q2268.76 846.634 2271.81 842.051 Q2274.89 837.445 2280.7 837.445 Z\" fill=\"#000000\" fill-rule=\"evenodd\" fill-opacity=\"1\" /><path clip-path=\"url(#clip980)\" d=\"M 0 0 M2297.71 866.75 L2302.6 866.75 L2302.6 872.63 L2297.71 872.63 L2297.71 866.75 Z\" fill=\"#000000\" fill-rule=\"evenodd\" fill-opacity=\"1\" /><path clip-path=\"url(#clip980)\" d=\"M 0 0 M2306.49 838.07 L2328.71 838.07 L2328.71 840.06 L2316.16 872.63 L2311.28 872.63 L2323.08 842.005 L2306.49 842.005 L2306.49 838.07 Z\" fill=\"#000000\" fill-rule=\"evenodd\" fill-opacity=\"1\" /><path clip-path=\"url(#clip980)\" d=\"M 0 0 M2280.7 588.282 Q2277.09 588.282 2275.26 591.847 Q2273.45 595.388 2273.45 602.518 Q2273.45 609.624 2275.26 613.189 Q2277.09 616.731 2280.7 616.731 Q2284.33 616.731 2286.14 613.189 Q2287.97 609.624 2287.97 602.518 Q2287.97 595.388 2286.14 591.847 Q2284.33 588.282 2280.7 588.282 M2280.7 584.578 Q2286.51 584.578 2289.57 589.185 Q2292.64 593.768 2292.64 602.518 Q2292.64 611.245 2289.57 615.851 Q2286.51 620.434 2280.7 620.434 Q2274.89 620.434 2271.81 615.851 Q2268.76 611.245 2268.76 602.518 Q2268.76 593.768 2271.81 589.185 Q2274.89 584.578 2280.7 584.578 Z\" fill=\"#000000\" fill-rule=\"evenodd\" fill-opacity=\"1\" /><path clip-path=\"url(#clip980)\" d=\"M 0 0 M2297.71 613.884 L2302.6 613.884 L2302.6 619.763 L2297.71 619.763 L2297.71 613.884 Z\" fill=\"#000000\" fill-rule=\"evenodd\" fill-opacity=\"1\" /><path clip-path=\"url(#clip980)\" d=\"M 0 0 M2317.67 603.351 Q2314.33 603.351 2312.41 605.134 Q2310.51 606.916 2310.51 610.041 Q2310.51 613.166 2312.41 614.948 Q2314.33 616.731 2317.67 616.731 Q2321 616.731 2322.92 614.948 Q2324.84 613.143 2324.84 610.041 Q2324.84 606.916 2322.92 605.134 Q2321.02 603.351 2317.67 603.351 M2312.99 601.361 Q2309.98 600.62 2308.29 598.56 Q2306.63 596.499 2306.63 593.536 Q2306.63 589.393 2309.57 586.986 Q2312.53 584.578 2317.67 584.578 Q2322.83 584.578 2325.77 586.986 Q2328.71 589.393 2328.71 593.536 Q2328.71 596.499 2327.02 598.56 Q2325.35 600.62 2322.37 601.361 Q2325.75 602.148 2327.62 604.439 Q2329.52 606.731 2329.52 610.041 Q2329.52 615.064 2326.44 617.749 Q2323.39 620.434 2317.67 620.434 Q2311.95 620.434 2308.87 617.749 Q2305.82 615.064 2305.82 610.041 Q2305.82 606.731 2307.71 604.439 Q2309.61 602.148 2312.99 601.361 M2311.28 593.976 Q2311.28 596.661 2312.95 598.166 Q2314.64 599.671 2317.67 599.671 Q2320.68 599.671 2322.37 598.166 Q2324.08 596.661 2324.08 593.976 Q2324.08 591.291 2322.37 589.786 Q2320.68 588.282 2317.67 588.282 Q2314.64 588.282 2312.95 589.786 Q2311.28 591.291 2311.28 593.976 Z\" fill=\"#000000\" fill-rule=\"evenodd\" fill-opacity=\"1\" /><path clip-path=\"url(#clip980)\" d=\"M 0 0 M2280.7 335.416 Q2277.09 335.416 2275.26 338.98 Q2273.45 342.522 2273.45 349.652 Q2273.45 356.758 2275.26 360.323 Q2277.09 363.864 2280.7 363.864 Q2284.33 363.864 2286.14 360.323 Q2287.97 356.758 2287.97 349.652 Q2287.97 342.522 2286.14 338.98 Q2284.33 335.416 2280.7 335.416 M2280.7 331.712 Q2286.51 331.712 2289.57 336.318 Q2292.64 340.902 2292.64 349.652 Q2292.64 358.378 2289.57 362.985 Q2286.51 367.568 2280.7 367.568 Q2274.89 367.568 2271.81 362.985 Q2268.76 358.378 2268.76 349.652 Q2268.76 340.902 2271.81 336.318 Q2274.89 331.712 2280.7 331.712 Z\" fill=\"#000000\" fill-rule=\"evenodd\" fill-opacity=\"1\" /><path clip-path=\"url(#clip980)\" d=\"M 0 0 M2297.71 361.017 L2302.6 361.017 L2302.6 366.897 L2297.71 366.897 L2297.71 361.017 Z\" fill=\"#000000\" fill-rule=\"evenodd\" fill-opacity=\"1\" /><path clip-path=\"url(#clip980)\" d=\"M 0 0 M2307.81 366.179 L2307.81 361.92 Q2309.57 362.753 2311.37 363.193 Q2313.18 363.633 2314.91 363.633 Q2319.54 363.633 2321.97 360.531 Q2324.43 357.406 2324.77 351.064 Q2323.43 353.054 2321.37 354.119 Q2319.31 355.184 2316.81 355.184 Q2311.63 355.184 2308.59 352.059 Q2305.58 348.911 2305.58 343.471 Q2305.58 338.147 2308.73 334.929 Q2311.88 331.712 2317.11 331.712 Q2323.11 331.712 2326.26 336.318 Q2329.43 340.902 2329.43 349.652 Q2329.43 357.823 2325.54 362.707 Q2321.67 367.568 2315.12 367.568 Q2313.36 367.568 2311.56 367.221 Q2309.75 366.874 2307.81 366.179 M2317.11 351.527 Q2320.26 351.527 2322.09 349.374 Q2323.94 347.221 2323.94 343.471 Q2323.94 339.744 2322.09 337.591 Q2320.26 335.416 2317.11 335.416 Q2313.96 335.416 2312.11 337.591 Q2310.28 339.744 2310.28 343.471 Q2310.28 347.221 2312.11 349.374 Q2313.96 351.527 2317.11 351.527 Z\" fill=\"#000000\" fill-rule=\"evenodd\" fill-opacity=\"1\" /><polyline clip-path=\"url(#clip980)\" style=\"stroke:#000000; stroke-width:4; stroke-opacity:1; fill:none\" points=\"\n",
       "  2232.76,1410.9 2232.76,1364.71 2256.76,1364.71 2232.76,1364.71 2232.76,1111.84 2256.76,1111.84 2232.76,1111.84 2232.76,858.978 2256.76,858.978 2232.76,858.978 \n",
       "  2232.76,606.112 2256.76,606.112 2232.76,606.112 2232.76,353.246 2256.76,353.246 2232.76,353.246 2232.76,123.472 \n",
       "  \"/>\n",
       "</svg>\n"
      ]
     },
     "execution_count": 53,
     "metadata": {},
     "output_type": "execute_result"
    }
   ],
   "source": [
    "plot(self_tuning_svm_mach, title=\"RBF Kernel\")"
   ]
  },
  {
   "cell_type": "code",
   "execution_count": 54,
   "metadata": {},
   "outputs": [
    {
     "data": {
      "text/plain": [
       "SVMClassifier(\n",
       "    C = 10000.0,\n",
       "    kernel = \"rbf\",\n",
       "    degree = 3,\n",
       "    gamma = 0.0038483348970335036,\n",
       "    coef0 = 0.0,\n",
       "    shrinking = true,\n",
       "    tol = 0.001,\n",
       "    cache_size = 2000,\n",
       "    max_iter = -1,\n",
       "    decision_function_shape = \"ovr\",\n",
       "    random_state = nothing)\u001b[34m @867\u001b[39m"
      ]
     },
     "execution_count": 54,
     "metadata": {},
     "output_type": "execute_result"
    }
   ],
   "source": [
    "fitted_params(self_tuning_svm_mach).best_model"
   ]
  },
  {
   "cell_type": "code",
   "execution_count": 105,
   "metadata": {},
   "outputs": [
    {
     "data": {
      "text/plain": [
       "MLJBase.NumericRange(Float64, :gamma, ... )"
      ]
     },
     "execution_count": 105,
     "metadata": {},
     "output_type": "execute_result"
    }
   ],
   "source": [
    "r1 = range(Float64, :C, lower=5*10^3, upper=10^6, scale=:log10)\n",
    "r2 = range(Float64, :gamma, lower=10^-4, upper=5*10^-2, scale=:log10)"
   ]
  },
  {
   "cell_type": "code",
   "execution_count": 106,
   "metadata": {
    "scrolled": true
   },
   "outputs": [
    {
     "data": {
      "text/plain": [
       "DeterministicTunedModel(\n",
       "    model = SVMClassifier(\n",
       "            C = 1.0,\n",
       "            kernel = \"rbf\",\n",
       "            degree = 3,\n",
       "            gamma = \"auto\",\n",
       "            coef0 = 0.0,\n",
       "            shrinking = true,\n",
       "            tol = 0.001,\n",
       "            cache_size = 1000,\n",
       "            max_iter = -1,\n",
       "            decision_function_shape = \"ovr\",\n",
       "            random_state = nothing),\n",
       "    tuning = Grid(\n",
       "            goal = 500,\n",
       "            resolution = 10,\n",
       "            shuffle = true,\n",
       "            rng = Random._GLOBAL_RNG()),\n",
       "    resampling = CV(\n",
       "            nfolds = 5,\n",
       "            shuffle = false,\n",
       "            rng = Random._GLOBAL_RNG()),\n",
       "    measure = accuracy(),\n",
       "    weights = nothing,\n",
       "    operation = MLJModelInterface.predict,\n",
       "    range = MLJBase.NumericRange{Float64,MLJBase.Bounded,Symbol}[\u001b[34mNumericRange{Float64,…} @784\u001b[39m, \u001b[34mNumericRange{Float64,…} @327\u001b[39m],\n",
       "    train_best = true,\n",
       "    repeats = 1,\n",
       "    n = nothing,\n",
       "    acceleration = CPUThreads{Int64}(1),\n",
       "    acceleration_resampling = CPU1{Nothing}(nothing),\n",
       "    check_measure = true)\u001b[34m @740\u001b[39m"
      ]
     },
     "execution_count": 106,
     "metadata": {},
     "output_type": "execute_result"
    }
   ],
   "source": [
    "svm_rbf_model = SVMClassifier(kernel=\"rbf\", cache_size=1000)\n",
    "self_tuning_svm_model = TunedModel(model=svm_rbf_model,\n",
    "                                    tuning=Grid(goal=500),\n",
    "                                    resampling=CV(nfolds=5), \n",
    "                                    measure=accuracy,\n",
    "                                    acceleration=CPUThreads(),\n",
    "                                    range=[r1,r2])"
   ]
  },
  {
   "cell_type": "code",
   "execution_count": 107,
   "metadata": {},
   "outputs": [
    {
     "data": {
      "text/plain": [
       "\u001b[34mMachine{DeterministicTunedModel{Grid,…}} @866\u001b[39m trained 0 times.\n",
       "  args: \n",
       "    1:\t\u001b[34mSource @925\u001b[39m ⏎ `Table{AbstractArray{Continuous,1}}`\n",
       "    2:\t\u001b[34mSource @523\u001b[39m ⏎ `AbstractArray{Multiclass{3},1}`\n"
      ]
     },
     "execution_count": 107,
     "metadata": {},
     "output_type": "execute_result"
    }
   ],
   "source": [
    "self_tuning_svm_mach = machine(self_tuning_svm_model, X, y)"
   ]
  },
  {
   "cell_type": "code",
   "execution_count": 108,
   "metadata": {
    "scrolled": true
   },
   "outputs": [
    {
     "name": "stderr",
     "output_type": "stream",
     "text": [
      "┌ Info: Training \u001b[34mMachine{DeterministicTunedModel{Grid,…}} @866\u001b[39m.\n",
      "└ @ MLJBase /home/andrew/.julia/packages/MLJBase/uKzAz/src/machines.jl:319\n",
      "┌ Info: Attempting to evaluate 484 models.\n",
      "└ @ MLJTuning /home/andrew/.julia/packages/MLJTuning/Bbgvk/src/tuned_models.jl:494\n",
      "\u001b[33mEvaluating over 484 metamodels: 100%[=========================] Time: 0:00:53\u001b[39m\n"
     ]
    },
    {
     "data": {
      "text/plain": [
       "\u001b[34mMachine{DeterministicTunedModel{Grid,…}} @866\u001b[39m trained 1 time.\n",
       "  args: \n",
       "    1:\t\u001b[34mSource @925\u001b[39m ⏎ `Table{AbstractArray{Continuous,1}}`\n",
       "    2:\t\u001b[34mSource @523\u001b[39m ⏎ `AbstractArray{Multiclass{3},1}`\n"
      ]
     },
     "execution_count": 108,
     "metadata": {},
     "output_type": "execute_result"
    }
   ],
   "source": [
    "z = fit!(self_tuning_svm_mach, rows=train)"
   ]
  },
  {
   "cell_type": "code",
   "execution_count": 109,
   "metadata": {},
   "outputs": [
    {
     "data": {
      "image/svg+xml": [
       "<?xml version=\"1.0\" encoding=\"utf-8\"?>\n",
       "<svg xmlns=\"http://www.w3.org/2000/svg\" xmlns:xlink=\"http://www.w3.org/1999/xlink\" width=\"600\" height=\"400\" viewBox=\"0 0 2400 1600\">\n",
       "<defs>\n",
       "  <clipPath id=\"clip350\">\n",
       "    <rect x=\"0\" y=\"0\" width=\"2400\" height=\"1600\"/>\n",
       "  </clipPath>\n",
       "</defs>\n",
       "<path clip-path=\"url(#clip350)\" d=\"\n",
       "M0 1600 L2400 1600 L2400 0 L0 0  Z\n",
       "  \" fill=\"#ffffff\" fill-rule=\"evenodd\" fill-opacity=\"1\"/>\n",
       "<defs>\n",
       "  <clipPath id=\"clip351\">\n",
       "    <rect x=\"480\" y=\"0\" width=\"1681\" height=\"1600\"/>\n",
       "  </clipPath>\n",
       "</defs>\n",
       "<path clip-path=\"url(#clip350)\" d=\"\n",
       "M274.344 1410.9 L2112.76 1410.9 L2112.76 47.2441 L274.344 47.2441  Z\n",
       "  \" fill=\"#ffffff\" fill-rule=\"evenodd\" fill-opacity=\"1\"/>\n",
       "<defs>\n",
       "  <clipPath id=\"clip352\">\n",
       "    <rect x=\"274\" y=\"47\" width=\"1839\" height=\"1365\"/>\n",
       "  </clipPath>\n",
       "</defs>\n",
       "<polyline clip-path=\"url(#clip352)\" style=\"stroke:#000000; stroke-width:2; stroke-opacity:0.1; fill:none\" points=\"\n",
       "  553.269,1410.9 553.269,47.2441 \n",
       "  \"/>\n",
       "<polyline clip-path=\"url(#clip352)\" style=\"stroke:#000000; stroke-width:2; stroke-opacity:0.1; fill:none\" points=\"\n",
       "  930.133,1410.9 930.133,47.2441 \n",
       "  \"/>\n",
       "<polyline clip-path=\"url(#clip352)\" style=\"stroke:#000000; stroke-width:2; stroke-opacity:0.1; fill:none\" points=\"\n",
       "  1307,1410.9 1307,47.2441 \n",
       "  \"/>\n",
       "<polyline clip-path=\"url(#clip352)\" style=\"stroke:#000000; stroke-width:2; stroke-opacity:0.1; fill:none\" points=\"\n",
       "  1683.86,1410.9 1683.86,47.2441 \n",
       "  \"/>\n",
       "<polyline clip-path=\"url(#clip352)\" style=\"stroke:#000000; stroke-width:2; stroke-opacity:0.1; fill:none\" points=\"\n",
       "  2060.73,1410.9 2060.73,47.2441 \n",
       "  \"/>\n",
       "<polyline clip-path=\"url(#clip352)\" style=\"stroke:#000000; stroke-width:2; stroke-opacity:0.1; fill:none\" points=\"\n",
       "  274.344,1372.3 2112.76,1372.3 \n",
       "  \"/>\n",
       "<polyline clip-path=\"url(#clip352)\" style=\"stroke:#000000; stroke-width:2; stroke-opacity:0.1; fill:none\" points=\"\n",
       "  274.344,1133.98 2112.76,1133.98 \n",
       "  \"/>\n",
       "<polyline clip-path=\"url(#clip352)\" style=\"stroke:#000000; stroke-width:2; stroke-opacity:0.1; fill:none\" points=\"\n",
       "  274.344,895.652 2112.76,895.652 \n",
       "  \"/>\n",
       "<polyline clip-path=\"url(#clip352)\" style=\"stroke:#000000; stroke-width:2; stroke-opacity:0.1; fill:none\" points=\"\n",
       "  274.344,657.327 2112.76,657.327 \n",
       "  \"/>\n",
       "<polyline clip-path=\"url(#clip352)\" style=\"stroke:#000000; stroke-width:2; stroke-opacity:0.1; fill:none\" points=\"\n",
       "  274.344,419.002 2112.76,419.002 \n",
       "  \"/>\n",
       "<polyline clip-path=\"url(#clip352)\" style=\"stroke:#000000; stroke-width:2; stroke-opacity:0.1; fill:none\" points=\"\n",
       "  274.344,180.677 2112.76,180.677 \n",
       "  \"/>\n",
       "<polyline clip-path=\"url(#clip350)\" style=\"stroke:#000000; stroke-width:4; stroke-opacity:1; fill:none\" points=\"\n",
       "  274.344,1410.9 2112.76,1410.9 \n",
       "  \"/>\n",
       "<polyline clip-path=\"url(#clip350)\" style=\"stroke:#000000; stroke-width:4; stroke-opacity:1; fill:none\" points=\"\n",
       "  274.344,1410.9 274.344,47.2441 \n",
       "  \"/>\n",
       "<polyline clip-path=\"url(#clip350)\" style=\"stroke:#000000; stroke-width:4; stroke-opacity:1; fill:none\" points=\"\n",
       "  553.269,1410.9 553.269,1394.53 \n",
       "  \"/>\n",
       "<polyline clip-path=\"url(#clip350)\" style=\"stroke:#000000; stroke-width:4; stroke-opacity:1; fill:none\" points=\"\n",
       "  930.133,1410.9 930.133,1394.53 \n",
       "  \"/>\n",
       "<polyline clip-path=\"url(#clip350)\" style=\"stroke:#000000; stroke-width:4; stroke-opacity:1; fill:none\" points=\"\n",
       "  1307,1410.9 1307,1394.53 \n",
       "  \"/>\n",
       "<polyline clip-path=\"url(#clip350)\" style=\"stroke:#000000; stroke-width:4; stroke-opacity:1; fill:none\" points=\"\n",
       "  1683.86,1410.9 1683.86,1394.53 \n",
       "  \"/>\n",
       "<polyline clip-path=\"url(#clip350)\" style=\"stroke:#000000; stroke-width:4; stroke-opacity:1; fill:none\" points=\"\n",
       "  2060.73,1410.9 2060.73,1394.53 \n",
       "  \"/>\n",
       "<polyline clip-path=\"url(#clip350)\" style=\"stroke:#000000; stroke-width:4; stroke-opacity:1; fill:none\" points=\"\n",
       "  274.344,1372.3 296.405,1372.3 \n",
       "  \"/>\n",
       "<polyline clip-path=\"url(#clip350)\" style=\"stroke:#000000; stroke-width:4; stroke-opacity:1; fill:none\" points=\"\n",
       "  274.344,1133.98 296.405,1133.98 \n",
       "  \"/>\n",
       "<polyline clip-path=\"url(#clip350)\" style=\"stroke:#000000; stroke-width:4; stroke-opacity:1; fill:none\" points=\"\n",
       "  274.344,895.652 296.405,895.652 \n",
       "  \"/>\n",
       "<polyline clip-path=\"url(#clip350)\" style=\"stroke:#000000; stroke-width:4; stroke-opacity:1; fill:none\" points=\"\n",
       "  274.344,657.327 296.405,657.327 \n",
       "  \"/>\n",
       "<polyline clip-path=\"url(#clip350)\" style=\"stroke:#000000; stroke-width:4; stroke-opacity:1; fill:none\" points=\"\n",
       "  274.344,419.002 296.405,419.002 \n",
       "  \"/>\n",
       "<polyline clip-path=\"url(#clip350)\" style=\"stroke:#000000; stroke-width:4; stroke-opacity:1; fill:none\" points=\"\n",
       "  274.344,180.677 296.405,180.677 \n",
       "  \"/>\n",
       "<path clip-path=\"url(#clip350)\" d=\"M 0 0 M504.895 1481.97 L512.534 1481.97 L512.534 1455.6 L504.223 1457.27 L504.223 1453.01 L512.487 1451.34 L517.163 1451.34 L517.163 1481.97 L524.802 1481.97 L524.802 1485.9 L504.895 1485.9 L504.895 1481.97 Z\" fill=\"#000000\" fill-rule=\"evenodd\" fill-opacity=\"1\" /><path clip-path=\"url(#clip350)\" d=\"M 0 0 M539.871 1454.42 Q536.26 1454.42 534.432 1457.99 Q532.626 1461.53 532.626 1468.66 Q532.626 1475.77 534.432 1479.33 Q536.26 1482.87 539.871 1482.87 Q543.506 1482.87 545.311 1479.33 Q547.14 1475.77 547.14 1468.66 Q547.14 1461.53 545.311 1457.99 Q543.506 1454.42 539.871 1454.42 M539.871 1450.72 Q545.682 1450.72 548.737 1455.33 Q551.816 1459.91 551.816 1468.66 Q551.816 1477.39 548.737 1481.99 Q545.682 1486.58 539.871 1486.58 Q534.061 1486.58 530.983 1481.99 Q527.927 1477.39 527.927 1468.66 Q527.927 1459.91 530.983 1455.33 Q534.061 1450.72 539.871 1450.72 Z\" fill=\"#000000\" fill-rule=\"evenodd\" fill-opacity=\"1\" /><path clip-path=\"url(#clip350)\" d=\"M 0 0 M564.492 1433.72 L554.9 1448.71 L564.492 1448.71 L564.492 1433.72 M563.495 1430.41 L568.273 1430.41 L568.273 1448.71 L572.279 1448.71 L572.279 1451.87 L568.273 1451.87 L568.273 1458.49 L564.492 1458.49 L564.492 1451.87 L551.816 1451.87 L551.816 1448.21 L563.495 1430.41 Z\" fill=\"#000000\" fill-rule=\"evenodd\" fill-opacity=\"1\" /><path clip-path=\"url(#clip350)\" d=\"M 0 0 M576.398 1453.72 L580.366 1453.72 L580.366 1458.49 L576.398 1458.49 L576.398 1453.72 Z\" fill=\"#000000\" fill-rule=\"evenodd\" fill-opacity=\"1\" /><path clip-path=\"url(#clip350)\" d=\"M 0 0 M592.61 1432.91 Q589.676 1432.91 588.19 1435.81 Q586.723 1438.69 586.723 1444.48 Q586.723 1450.26 588.19 1453.15 Q589.676 1456.03 592.61 1456.03 Q595.563 1456.03 597.03 1453.15 Q598.515 1450.26 598.515 1444.48 Q598.515 1438.69 597.03 1435.81 Q595.563 1432.91 592.61 1432.91 M592.61 1429.91 Q597.331 1429.91 599.813 1433.65 Q602.315 1437.37 602.315 1444.48 Q602.315 1451.57 599.813 1455.31 Q597.331 1459.04 592.61 1459.04 Q587.889 1459.04 585.388 1455.31 Q582.905 1451.57 582.905 1444.48 Q582.905 1437.37 585.388 1433.65 Q587.889 1429.91 592.61 1429.91 Z\" fill=\"#000000\" fill-rule=\"evenodd\" fill-opacity=\"1\" /><path clip-path=\"url(#clip350)\" d=\"M 0 0 M882.163 1481.97 L889.802 1481.97 L889.802 1455.6 L881.492 1457.27 L881.492 1453.01 L889.756 1451.34 L894.432 1451.34 L894.432 1481.97 L902.07 1481.97 L902.07 1485.9 L882.163 1485.9 L882.163 1481.97 Z\" fill=\"#000000\" fill-rule=\"evenodd\" fill-opacity=\"1\" /><path clip-path=\"url(#clip350)\" d=\"M 0 0 M917.14 1454.42 Q913.529 1454.42 911.7 1457.99 Q909.894 1461.53 909.894 1468.66 Q909.894 1475.77 911.7 1479.33 Q913.529 1482.87 917.14 1482.87 Q920.774 1482.87 922.58 1479.33 Q924.408 1475.77 924.408 1468.66 Q924.408 1461.53 922.58 1457.99 Q920.774 1454.42 917.14 1454.42 M917.14 1450.72 Q922.95 1450.72 926.006 1455.33 Q929.084 1459.91 929.084 1468.66 Q929.084 1477.39 926.006 1481.99 Q922.95 1486.58 917.14 1486.58 Q911.33 1486.58 908.251 1481.99 Q905.195 1477.39 905.195 1468.66 Q905.195 1459.91 908.251 1455.33 Q911.33 1450.72 917.14 1450.72 Z\" fill=\"#000000\" fill-rule=\"evenodd\" fill-opacity=\"1\" /><path clip-path=\"url(#clip350)\" d=\"M 0 0 M941.761 1433.72 L932.169 1448.71 L941.761 1448.71 L941.761 1433.72 M940.764 1430.41 L945.541 1430.41 L945.541 1448.71 L949.547 1448.71 L949.547 1451.87 L945.541 1451.87 L945.541 1458.49 L941.761 1458.49 L941.761 1451.87 L929.084 1451.87 L929.084 1448.21 L940.764 1430.41 Z\" fill=\"#000000\" fill-rule=\"evenodd\" fill-opacity=\"1\" /><path clip-path=\"url(#clip350)\" d=\"M 0 0 M953.666 1453.72 L957.634 1453.72 L957.634 1458.49 L953.666 1458.49 L953.666 1453.72 Z\" fill=\"#000000\" fill-rule=\"evenodd\" fill-opacity=\"1\" /><path clip-path=\"url(#clip350)\" d=\"M 0 0 M961.791 1430.41 L976.705 1430.41 L976.705 1433.61 L965.27 1433.61 L965.27 1440.49 Q966.098 1440.21 966.925 1440.08 Q967.753 1439.93 968.581 1439.93 Q973.282 1439.93 976.028 1442.51 Q978.774 1445.08 978.774 1449.48 Q978.774 1454.02 975.953 1456.54 Q973.132 1459.04 967.997 1459.04 Q966.23 1459.04 964.386 1458.74 Q962.562 1458.44 960.606 1457.84 L960.606 1454.02 Q962.299 1454.94 964.104 1455.39 Q965.91 1455.84 967.922 1455.84 Q971.176 1455.84 973.076 1454.13 Q974.975 1452.42 974.975 1449.48 Q974.975 1446.55 973.076 1444.84 Q971.176 1443.13 967.922 1443.13 Q966.399 1443.13 964.875 1443.47 Q963.371 1443.8 961.791 1444.52 L961.791 1430.41 Z\" fill=\"#000000\" fill-rule=\"evenodd\" fill-opacity=\"1\" /><path clip-path=\"url(#clip350)\" d=\"M 0 0 M1259.77 1481.97 L1267.41 1481.97 L1267.41 1455.6 L1259.1 1457.27 L1259.1 1453.01 L1267.36 1451.34 L1272.04 1451.34 L1272.04 1481.97 L1279.68 1481.97 L1279.68 1485.9 L1259.77 1485.9 L1259.77 1481.97 Z\" fill=\"#000000\" fill-rule=\"evenodd\" fill-opacity=\"1\" /><path clip-path=\"url(#clip350)\" d=\"M 0 0 M1294.75 1454.42 Q1291.14 1454.42 1289.31 1457.99 Q1287.5 1461.53 1287.5 1468.66 Q1287.5 1475.77 1289.31 1479.33 Q1291.14 1482.87 1294.75 1482.87 Q1298.38 1482.87 1300.19 1479.33 Q1302.02 1475.77 1302.02 1468.66 Q1302.02 1461.53 1300.19 1457.99 Q1298.38 1454.42 1294.75 1454.42 M1294.75 1450.72 Q1300.56 1450.72 1303.61 1455.33 Q1306.69 1459.91 1306.69 1468.66 Q1306.69 1477.39 1303.61 1481.99 Q1300.56 1486.58 1294.75 1486.58 Q1288.94 1486.58 1285.86 1481.99 Q1282.8 1477.39 1282.8 1468.66 Q1282.8 1459.91 1285.86 1455.33 Q1288.94 1450.72 1294.75 1450.72 Z\" fill=\"#000000\" fill-rule=\"evenodd\" fill-opacity=\"1\" /><path clip-path=\"url(#clip350)\" d=\"M 0 0 M1307.88 1430.41 L1322.79 1430.41 L1322.79 1433.61 L1311.36 1433.61 L1311.36 1440.49 Q1312.18 1440.21 1313.01 1440.08 Q1313.84 1439.93 1314.67 1439.93 Q1319.37 1439.93 1322.11 1442.51 Q1324.86 1445.08 1324.86 1449.48 Q1324.86 1454.02 1322.04 1456.54 Q1319.22 1459.04 1314.08 1459.04 Q1312.31 1459.04 1310.47 1458.74 Q1308.65 1458.44 1306.69 1457.84 L1306.69 1454.02 Q1308.38 1454.94 1310.19 1455.39 Q1311.99 1455.84 1314.01 1455.84 Q1317.26 1455.84 1319.16 1454.13 Q1321.06 1452.42 1321.06 1449.48 Q1321.06 1446.55 1319.16 1444.84 Q1317.26 1443.13 1314.01 1443.13 Q1312.48 1443.13 1310.96 1443.47 Q1309.46 1443.8 1307.88 1444.52 L1307.88 1430.41 Z\" fill=\"#000000\" fill-rule=\"evenodd\" fill-opacity=\"1\" /><path clip-path=\"url(#clip350)\" d=\"M 0 0 M1328.98 1453.72 L1332.95 1453.72 L1332.95 1458.49 L1328.98 1458.49 L1328.98 1453.72 Z\" fill=\"#000000\" fill-rule=\"evenodd\" fill-opacity=\"1\" /><path clip-path=\"url(#clip350)\" d=\"M 0 0 M1345.19 1432.91 Q1342.26 1432.91 1340.77 1435.81 Q1339.3 1438.69 1339.3 1444.48 Q1339.3 1450.26 1340.77 1453.15 Q1342.26 1456.03 1345.19 1456.03 Q1348.14 1456.03 1349.61 1453.15 Q1351.1 1450.26 1351.1 1444.48 Q1351.1 1438.69 1349.61 1435.81 Q1348.14 1432.91 1345.19 1432.91 M1345.19 1429.91 Q1349.91 1429.91 1352.39 1433.65 Q1354.9 1437.37 1354.9 1444.48 Q1354.9 1451.57 1352.39 1455.31 Q1349.91 1459.04 1345.19 1459.04 Q1340.47 1459.04 1337.97 1455.31 Q1335.49 1451.57 1335.49 1444.48 Q1335.49 1437.37 1337.97 1433.65 Q1340.47 1429.91 1345.19 1429.91 Z\" fill=\"#000000\" fill-rule=\"evenodd\" fill-opacity=\"1\" /><path clip-path=\"url(#clip350)\" d=\"M 0 0 M1637.04 1481.97 L1644.68 1481.97 L1644.68 1455.6 L1636.37 1457.27 L1636.37 1453.01 L1644.63 1451.34 L1649.31 1451.34 L1649.31 1481.97 L1656.95 1481.97 L1656.95 1485.9 L1637.04 1485.9 L1637.04 1481.97 Z\" fill=\"#000000\" fill-rule=\"evenodd\" fill-opacity=\"1\" /><path clip-path=\"url(#clip350)\" d=\"M 0 0 M1672.02 1454.42 Q1668.4 1454.42 1666.58 1457.99 Q1664.77 1461.53 1664.77 1468.66 Q1664.77 1475.77 1666.58 1479.33 Q1668.4 1482.87 1672.02 1482.87 Q1675.65 1482.87 1677.46 1479.33 Q1679.28 1475.77 1679.28 1468.66 Q1679.28 1461.53 1677.46 1457.99 Q1675.65 1454.42 1672.02 1454.42 M1672.02 1450.72 Q1677.83 1450.72 1680.88 1455.33 Q1683.96 1459.91 1683.96 1468.66 Q1683.96 1477.39 1680.88 1481.99 Q1677.83 1486.58 1672.02 1486.58 Q1666.21 1486.58 1663.13 1481.99 Q1660.07 1477.39 1660.07 1468.66 Q1660.07 1459.91 1663.13 1455.33 Q1666.21 1450.72 1672.02 1450.72 Z\" fill=\"#000000\" fill-rule=\"evenodd\" fill-opacity=\"1\" /><path clip-path=\"url(#clip350)\" d=\"M 0 0 M1685.14 1430.41 L1700.06 1430.41 L1700.06 1433.61 L1688.62 1433.61 L1688.62 1440.49 Q1689.45 1440.21 1690.28 1440.08 Q1691.11 1439.93 1691.93 1439.93 Q1696.64 1439.93 1699.38 1442.51 Q1702.13 1445.08 1702.13 1449.48 Q1702.13 1454.02 1699.31 1456.54 Q1696.49 1459.04 1691.35 1459.04 Q1689.58 1459.04 1687.74 1458.74 Q1685.92 1458.44 1683.96 1457.84 L1683.96 1454.02 Q1685.65 1454.94 1687.46 1455.39 Q1689.26 1455.84 1691.28 1455.84 Q1694.53 1455.84 1696.43 1454.13 Q1698.33 1452.42 1698.33 1449.48 Q1698.33 1446.55 1696.43 1444.84 Q1694.53 1443.13 1691.28 1443.13 Q1689.75 1443.13 1688.23 1443.47 Q1686.72 1443.8 1685.14 1444.52 L1685.14 1430.41 Z\" fill=\"#000000\" fill-rule=\"evenodd\" fill-opacity=\"1\" /><path clip-path=\"url(#clip350)\" d=\"M 0 0 M1706.25 1453.72 L1710.22 1453.72 L1710.22 1458.49 L1706.25 1458.49 L1706.25 1453.72 Z\" fill=\"#000000\" fill-rule=\"evenodd\" fill-opacity=\"1\" /><path clip-path=\"url(#clip350)\" d=\"M 0 0 M1714.37 1430.41 L1729.29 1430.41 L1729.29 1433.61 L1717.85 1433.61 L1717.85 1440.49 Q1718.68 1440.21 1719.51 1440.08 Q1720.33 1439.93 1721.16 1439.93 Q1725.86 1439.93 1728.61 1442.51 Q1731.36 1445.08 1731.36 1449.48 Q1731.36 1454.02 1728.53 1456.54 Q1725.71 1459.04 1720.58 1459.04 Q1718.81 1459.04 1716.97 1458.74 Q1715.14 1458.44 1713.19 1457.84 L1713.19 1454.02 Q1714.88 1454.94 1716.69 1455.39 Q1718.49 1455.84 1720.5 1455.84 Q1723.76 1455.84 1725.66 1454.13 Q1727.56 1452.42 1727.56 1449.48 Q1727.56 1446.55 1725.66 1444.84 Q1723.76 1443.13 1720.5 1443.13 Q1718.98 1443.13 1717.46 1443.47 Q1715.95 1443.8 1714.37 1444.52 L1714.37 1430.41 Z\" fill=\"#000000\" fill-rule=\"evenodd\" fill-opacity=\"1\" /><path clip-path=\"url(#clip350)\" d=\"M 0 0 M2012.89 1481.97 L2020.53 1481.97 L2020.53 1455.6 L2012.22 1457.27 L2012.22 1453.01 L2020.48 1451.34 L2025.16 1451.34 L2025.16 1481.97 L2032.79 1481.97 L2032.79 1485.9 L2012.89 1485.9 L2012.89 1481.97 Z\" fill=\"#000000\" fill-rule=\"evenodd\" fill-opacity=\"1\" /><path clip-path=\"url(#clip350)\" d=\"M 0 0 M2047.86 1454.42 Q2044.25 1454.42 2042.42 1457.99 Q2040.62 1461.53 2040.62 1468.66 Q2040.62 1475.77 2042.42 1479.33 Q2044.25 1482.87 2047.86 1482.87 Q2051.5 1482.87 2053.3 1479.33 Q2055.13 1475.77 2055.13 1468.66 Q2055.13 1461.53 2053.3 1457.99 Q2051.5 1454.42 2047.86 1454.42 M2047.86 1450.72 Q2053.67 1450.72 2056.73 1455.33 Q2059.81 1459.91 2059.81 1468.66 Q2059.81 1477.39 2056.73 1481.99 Q2053.67 1486.58 2047.86 1486.58 Q2042.05 1486.58 2038.97 1481.99 Q2035.92 1477.39 2035.92 1468.66 Q2035.92 1459.91 2038.97 1455.33 Q2042.05 1450.72 2047.86 1450.72 Z\" fill=\"#000000\" fill-rule=\"evenodd\" fill-opacity=\"1\" /><path clip-path=\"url(#clip350)\" d=\"M 0 0 M2069.83 1442.94 Q2067.27 1442.94 2065.77 1444.69 Q2064.28 1446.44 2064.28 1449.48 Q2064.28 1452.51 2065.77 1454.28 Q2067.27 1456.03 2069.83 1456.03 Q2072.39 1456.03 2073.88 1454.28 Q2075.38 1452.51 2075.38 1449.48 Q2075.38 1446.44 2073.88 1444.69 Q2072.39 1442.94 2069.83 1442.94 M2077.37 1431.03 L2077.37 1434.49 Q2075.95 1433.82 2074.48 1433.46 Q2073.03 1433.1 2071.6 1433.1 Q2067.84 1433.1 2065.85 1435.64 Q2063.87 1438.18 2063.59 1443.32 Q2064.7 1441.68 2066.37 1440.81 Q2068.05 1439.93 2070.06 1439.93 Q2074.29 1439.93 2076.74 1442.51 Q2079.2 1445.06 2079.2 1449.48 Q2079.2 1453.81 2076.64 1456.42 Q2074.08 1459.04 2069.83 1459.04 Q2064.96 1459.04 2062.38 1455.31 Q2059.81 1451.57 2059.81 1444.48 Q2059.81 1437.82 2062.97 1433.87 Q2066.13 1429.91 2071.45 1429.91 Q2072.88 1429.91 2074.33 1430.19 Q2075.79 1430.47 2077.37 1431.03 Z\" fill=\"#000000\" fill-rule=\"evenodd\" fill-opacity=\"1\" /><path clip-path=\"url(#clip350)\" d=\"M 0 0 M2083.32 1453.72 L2087.29 1453.72 L2087.29 1458.49 L2083.32 1458.49 L2083.32 1453.72 Z\" fill=\"#000000\" fill-rule=\"evenodd\" fill-opacity=\"1\" /><path clip-path=\"url(#clip350)\" d=\"M 0 0 M2099.53 1432.91 Q2096.6 1432.91 2095.11 1435.81 Q2093.64 1438.69 2093.64 1444.48 Q2093.64 1450.26 2095.11 1453.15 Q2096.6 1456.03 2099.53 1456.03 Q2102.48 1456.03 2103.95 1453.15 Q2105.44 1450.26 2105.44 1444.48 Q2105.44 1438.69 2103.95 1435.81 Q2102.48 1432.91 2099.53 1432.91 M2099.53 1429.91 Q2104.25 1429.91 2106.73 1433.65 Q2109.23 1437.37 2109.23 1444.48 Q2109.23 1451.57 2106.73 1455.31 Q2104.25 1459.04 2099.53 1459.04 Q2094.81 1459.04 2092.31 1455.31 Q2089.83 1451.57 2089.83 1444.48 Q2089.83 1437.37 2092.31 1433.65 Q2094.81 1429.91 2099.53 1429.91 Z\" fill=\"#000000\" fill-rule=\"evenodd\" fill-opacity=\"1\" /><path clip-path=\"url(#clip350)\" d=\"M 0 0 M126.931 1392.1 L134.57 1392.1 L134.57 1365.73 L126.26 1367.4 L126.26 1363.14 L134.524 1361.47 L139.2 1361.47 L139.2 1392.1 L146.839 1392.1 L146.839 1396.03 L126.931 1396.03 L126.931 1392.1 Z\" fill=\"#000000\" fill-rule=\"evenodd\" fill-opacity=\"1\" /><path clip-path=\"url(#clip350)\" d=\"M 0 0 M161.908 1364.55 Q158.297 1364.55 156.468 1368.11 Q154.663 1371.66 154.663 1378.79 Q154.663 1385.89 156.468 1389.46 Q158.297 1393 161.908 1393 Q165.542 1393 167.348 1389.46 Q169.177 1385.89 169.177 1378.79 Q169.177 1371.66 167.348 1368.11 Q165.542 1364.55 161.908 1364.55 M161.908 1360.85 Q167.718 1360.85 170.774 1365.45 Q173.852 1370.04 173.852 1378.79 Q173.852 1387.51 170.774 1392.12 Q167.718 1396.7 161.908 1396.7 Q156.098 1396.7 153.019 1392.12 Q149.964 1387.51 149.964 1378.79 Q149.964 1370.04 153.019 1365.45 Q156.098 1360.85 161.908 1360.85 Z\" fill=\"#000000\" fill-rule=\"evenodd\" fill-opacity=\"1\" /><path clip-path=\"url(#clip350)\" d=\"M 0 0 M173.852 1354.95 L197.964 1354.95 L197.964 1358.14 L173.852 1358.14 L173.852 1354.95 Z\" fill=\"#000000\" fill-rule=\"evenodd\" fill-opacity=\"1\" /><path clip-path=\"url(#clip350)\" d=\"M 0 0 M212.521 1343.85 L202.929 1358.84 L212.521 1358.84 L212.521 1343.85 M211.524 1340.54 L216.302 1340.54 L216.302 1358.84 L220.308 1358.84 L220.308 1362 L216.302 1362 L216.302 1368.62 L212.521 1368.62 L212.521 1362 L199.845 1362 L199.845 1358.33 L211.524 1340.54 Z\" fill=\"#000000\" fill-rule=\"evenodd\" fill-opacity=\"1\" /><path clip-path=\"url(#clip350)\" d=\"M 0 0 M224.427 1363.84 L228.395 1363.84 L228.395 1368.62 L224.427 1368.62 L224.427 1363.84 Z\" fill=\"#000000\" fill-rule=\"evenodd\" fill-opacity=\"1\" /><path clip-path=\"url(#clip350)\" d=\"M 0 0 M240.639 1343.04 Q237.705 1343.04 236.219 1345.94 Q234.752 1348.82 234.752 1354.61 Q234.752 1360.38 236.219 1363.28 Q237.705 1366.16 240.639 1366.16 Q243.592 1366.16 245.059 1363.28 Q246.545 1360.38 246.545 1354.61 Q246.545 1348.82 245.059 1345.94 Q243.592 1343.04 240.639 1343.04 M240.639 1340.03 Q245.36 1340.03 247.842 1343.77 Q250.344 1347.5 250.344 1354.61 Q250.344 1361.7 247.842 1365.44 Q245.36 1369.17 240.639 1369.17 Q235.918 1369.17 233.417 1365.44 Q230.934 1361.7 230.934 1354.61 Q230.934 1347.5 233.417 1343.77 Q235.918 1340.03 240.639 1340.03 Z\" fill=\"#000000\" fill-rule=\"evenodd\" fill-opacity=\"1\" /><path clip-path=\"url(#clip350)\" d=\"M 0 0 M128.662 1153.77 L136.301 1153.77 L136.301 1127.4 L127.99 1129.07 L127.99 1124.81 L136.254 1123.15 L140.93 1123.15 L140.93 1153.77 L148.569 1153.77 L148.569 1157.71 L128.662 1157.71 L128.662 1153.77 Z\" fill=\"#000000\" fill-rule=\"evenodd\" fill-opacity=\"1\" /><path clip-path=\"url(#clip350)\" d=\"M 0 0 M163.638 1126.22 Q160.027 1126.22 158.199 1129.79 Q156.393 1133.33 156.393 1140.46 Q156.393 1147.57 158.199 1151.13 Q160.027 1154.67 163.638 1154.67 Q167.273 1154.67 169.078 1151.13 Q170.907 1147.57 170.907 1140.46 Q170.907 1133.33 169.078 1129.79 Q167.273 1126.22 163.638 1126.22 M163.638 1122.52 Q169.449 1122.52 172.504 1127.13 Q175.583 1131.71 175.583 1140.46 Q175.583 1149.19 172.504 1153.79 Q169.449 1158.38 163.638 1158.38 Q157.828 1158.38 154.75 1153.79 Q151.694 1149.19 151.694 1140.46 Q151.694 1131.71 154.75 1127.13 Q157.828 1122.52 163.638 1122.52 Z\" fill=\"#000000\" fill-rule=\"evenodd\" fill-opacity=\"1\" /><path clip-path=\"url(#clip350)\" d=\"M 0 0 M175.583 1116.62 L199.694 1116.62 L199.694 1119.82 L175.583 1119.82 L175.583 1116.62 Z\" fill=\"#000000\" fill-rule=\"evenodd\" fill-opacity=\"1\" /><path clip-path=\"url(#clip350)\" d=\"M 0 0 M215.324 1115.15 Q218.051 1115.74 219.574 1117.58 Q221.116 1119.42 221.116 1122.13 Q221.116 1126.29 218.258 1128.56 Q215.399 1130.84 210.133 1130.84 Q208.365 1130.84 206.484 1130.48 Q204.622 1130.14 202.628 1129.45 L202.628 1125.78 Q204.208 1126.7 206.089 1127.17 Q207.97 1127.64 210.02 1127.64 Q213.593 1127.64 215.455 1126.23 Q217.336 1124.82 217.336 1122.13 Q217.336 1119.65 215.587 1118.26 Q213.857 1116.85 210.753 1116.85 L207.481 1116.85 L207.481 1113.73 L210.904 1113.73 Q213.706 1113.73 215.192 1112.62 Q216.678 1111.49 216.678 1109.38 Q216.678 1107.22 215.136 1106.07 Q213.612 1104.9 210.753 1104.9 Q209.192 1104.9 207.406 1105.24 Q205.619 1105.58 203.475 1106.3 L203.475 1102.91 Q205.638 1102.31 207.518 1102.01 Q209.418 1101.71 211.092 1101.71 Q215.418 1101.71 217.938 1103.68 Q220.458 1105.64 220.458 1108.99 Q220.458 1111.32 219.123 1112.94 Q217.787 1114.53 215.324 1115.15 Z\" fill=\"#000000\" fill-rule=\"evenodd\" fill-opacity=\"1\" /><path clip-path=\"url(#clip350)\" d=\"M 0 0 M225.235 1125.52 L229.204 1125.52 L229.204 1130.29 L225.235 1130.29 L225.235 1125.52 Z\" fill=\"#000000\" fill-rule=\"evenodd\" fill-opacity=\"1\" /><path clip-path=\"url(#clip350)\" d=\"M 0 0 M233.36 1102.21 L248.275 1102.21 L248.275 1105.41 L236.84 1105.41 L236.84 1112.3 Q237.667 1112.01 238.495 1111.88 Q239.322 1111.73 240.15 1111.73 Q244.852 1111.73 247.598 1114.31 Q250.344 1116.88 250.344 1121.29 Q250.344 1125.82 247.523 1128.34 Q244.701 1130.84 239.567 1130.84 Q237.799 1130.84 235.956 1130.54 Q234.131 1130.24 232.175 1129.64 L232.175 1125.82 Q233.868 1126.74 235.674 1127.19 Q237.479 1127.64 239.492 1127.64 Q242.745 1127.64 244.645 1125.93 Q246.545 1124.22 246.545 1121.29 Q246.545 1118.35 244.645 1116.64 Q242.745 1114.93 239.492 1114.93 Q237.968 1114.93 236.445 1115.27 Q234.94 1115.61 233.36 1116.32 L233.36 1102.21 Z\" fill=\"#000000\" fill-rule=\"evenodd\" fill-opacity=\"1\" /><path clip-path=\"url(#clip350)\" d=\"M 0 0 M127.853 915.445 L135.492 915.445 L135.492 889.079 L127.182 890.746 L127.182 886.487 L135.446 884.82 L140.121 884.82 L140.121 915.445 L147.76 915.445 L147.76 919.38 L127.853 919.38 L127.853 915.445 Z\" fill=\"#000000\" fill-rule=\"evenodd\" fill-opacity=\"1\" /><path clip-path=\"url(#clip350)\" d=\"M 0 0 M162.83 887.899 Q159.219 887.899 157.39 891.464 Q155.584 895.005 155.584 902.135 Q155.584 909.241 157.39 912.806 Q159.219 916.348 162.83 916.348 Q166.464 916.348 168.269 912.806 Q170.098 909.241 170.098 902.135 Q170.098 895.005 168.269 891.464 Q166.464 887.899 162.83 887.899 M162.83 884.195 Q168.64 884.195 171.695 888.802 Q174.774 893.385 174.774 902.135 Q174.774 910.862 171.695 915.468 Q168.64 920.051 162.83 920.051 Q157.02 920.051 153.941 915.468 Q150.885 910.862 150.885 902.135 Q150.885 893.385 153.941 888.802 Q157.02 884.195 162.83 884.195 Z\" fill=\"#000000\" fill-rule=\"evenodd\" fill-opacity=\"1\" /><path clip-path=\"url(#clip350)\" d=\"M 0 0 M174.774 878.296 L198.886 878.296 L198.886 881.494 L174.774 881.494 L174.774 878.296 Z\" fill=\"#000000\" fill-rule=\"evenodd\" fill-opacity=\"1\" /><path clip-path=\"url(#clip350)\" d=\"M 0 0 M214.515 876.829 Q217.242 877.412 218.765 879.256 Q220.308 881.099 220.308 883.807 Q220.308 887.964 217.449 890.239 Q214.59 892.515 209.324 892.515 Q207.556 892.515 205.675 892.158 Q203.813 891.819 201.82 891.123 L201.82 887.456 Q203.4 888.377 205.28 888.848 Q207.161 889.318 209.211 889.318 Q212.785 889.318 214.647 887.907 Q216.527 886.497 216.527 883.807 Q216.527 881.324 214.778 879.933 Q213.048 878.522 209.945 878.522 L206.672 878.522 L206.672 875.4 L210.095 875.4 Q212.897 875.4 214.383 874.29 Q215.869 873.162 215.869 871.055 Q215.869 868.893 214.327 867.745 Q212.803 866.579 209.945 866.579 Q208.384 866.579 206.597 866.918 Q204.81 867.256 202.666 867.971 L202.666 864.586 Q204.829 863.984 206.71 863.683 Q208.609 863.382 210.283 863.382 Q214.609 863.382 217.129 865.357 Q219.649 867.313 219.649 870.66 Q219.649 872.993 218.314 874.61 Q216.979 876.209 214.515 876.829 Z\" fill=\"#000000\" fill-rule=\"evenodd\" fill-opacity=\"1\" /><path clip-path=\"url(#clip350)\" d=\"M 0 0 M224.427 887.193 L228.395 887.193 L228.395 891.97 L224.427 891.97 L224.427 887.193 Z\" fill=\"#000000\" fill-rule=\"evenodd\" fill-opacity=\"1\" /><path clip-path=\"url(#clip350)\" d=\"M 0 0 M240.639 866.391 Q237.705 866.391 236.219 869.288 Q234.752 872.165 234.752 877.958 Q234.752 883.732 236.219 886.628 Q237.705 889.506 240.639 889.506 Q243.592 889.506 245.059 886.628 Q246.545 883.732 246.545 877.958 Q246.545 872.165 245.059 869.288 Q243.592 866.391 240.639 866.391 M240.639 863.382 Q245.36 863.382 247.842 867.125 Q250.344 870.849 250.344 877.958 Q250.344 885.048 247.842 888.791 Q245.36 892.515 240.639 892.515 Q235.918 892.515 233.417 888.791 Q230.934 885.048 230.934 877.958 Q230.934 870.849 233.417 867.125 Q235.918 863.382 240.639 863.382 Z\" fill=\"#000000\" fill-rule=\"evenodd\" fill-opacity=\"1\" /><path clip-path=\"url(#clip350)\" d=\"M 0 0 M129.433 677.12 L137.072 677.12 L137.072 650.754 L128.762 652.421 L128.762 648.162 L137.025 646.495 L141.701 646.495 L141.701 677.12 L149.34 677.12 L149.34 681.055 L129.433 681.055 L129.433 677.12 Z\" fill=\"#000000\" fill-rule=\"evenodd\" fill-opacity=\"1\" /><path clip-path=\"url(#clip350)\" d=\"M 0 0 M164.41 649.574 Q160.798 649.574 158.97 653.138 Q157.164 656.68 157.164 663.81 Q157.164 670.916 158.97 674.481 Q160.798 678.023 164.41 678.023 Q168.044 678.023 169.849 674.481 Q171.678 670.916 171.678 663.81 Q171.678 656.68 169.849 653.138 Q168.044 649.574 164.41 649.574 M164.41 645.87 Q170.22 645.87 173.275 650.476 Q176.354 655.06 176.354 663.81 Q176.354 672.536 173.275 677.143 Q170.22 681.726 164.41 681.726 Q158.599 681.726 155.521 677.143 Q152.465 672.536 152.465 663.81 Q152.465 655.06 155.521 650.476 Q158.599 645.87 164.41 645.87 Z\" fill=\"#000000\" fill-rule=\"evenodd\" fill-opacity=\"1\" /><path clip-path=\"url(#clip350)\" d=\"M 0 0 M176.354 639.971 L200.465 639.971 L200.465 643.169 L176.354 643.169 L176.354 639.971 Z\" fill=\"#000000\" fill-rule=\"evenodd\" fill-opacity=\"1\" /><path clip-path=\"url(#clip350)\" d=\"M 0 0 M207.857 650.447 L221.116 650.447 L221.116 653.645 L203.287 653.645 L203.287 650.447 Q205.45 648.209 209.173 644.448 Q212.916 640.667 213.875 639.576 Q215.7 637.526 216.414 636.116 Q217.148 634.686 217.148 633.313 Q217.148 631.075 215.568 629.665 Q214.007 628.254 211.487 628.254 Q209.7 628.254 207.706 628.875 Q205.732 629.495 203.475 630.756 L203.475 626.919 Q205.769 625.997 207.763 625.527 Q209.757 625.057 211.412 625.057 Q215.775 625.057 218.37 627.238 Q220.966 629.42 220.966 633.069 Q220.966 634.799 220.308 636.36 Q219.668 637.902 217.957 640.009 Q217.487 640.554 214.966 643.169 Q212.446 645.764 207.857 650.447 Z\" fill=\"#000000\" fill-rule=\"evenodd\" fill-opacity=\"1\" /><path clip-path=\"url(#clip350)\" d=\"M 0 0 M225.235 648.867 L229.204 648.867 L229.204 653.645 L225.235 653.645 L225.235 648.867 Z\" fill=\"#000000\" fill-rule=\"evenodd\" fill-opacity=\"1\" /><path clip-path=\"url(#clip350)\" d=\"M 0 0 M233.36 625.565 L248.275 625.565 L248.275 628.762 L236.84 628.762 L236.84 635.646 Q237.667 635.363 238.495 635.232 Q239.322 635.081 240.15 635.081 Q244.852 635.081 247.598 637.658 Q250.344 640.235 250.344 644.636 Q250.344 649.168 247.523 651.689 Q244.701 654.19 239.567 654.19 Q237.799 654.19 235.956 653.889 Q234.131 653.588 232.175 652.986 L232.175 649.168 Q233.868 650.09 235.674 650.541 Q237.479 650.993 239.492 650.993 Q242.745 650.993 244.645 649.281 Q246.545 647.57 246.545 644.636 Q246.545 641.702 244.645 639.99 Q242.745 638.279 239.492 638.279 Q237.968 638.279 236.445 638.617 Q234.94 638.956 233.36 639.67 L233.36 625.565 Z\" fill=\"#000000\" fill-rule=\"evenodd\" fill-opacity=\"1\" /><path clip-path=\"url(#clip350)\" d=\"M 0 0 M128.624 438.795 L136.263 438.795 L136.263 412.429 L127.953 414.096 L127.953 409.837 L136.217 408.17 L140.893 408.17 L140.893 438.795 L148.531 438.795 L148.531 442.73 L128.624 442.73 L128.624 438.795 Z\" fill=\"#000000\" fill-rule=\"evenodd\" fill-opacity=\"1\" /><path clip-path=\"url(#clip350)\" d=\"M 0 0 M163.601 411.249 Q159.99 411.249 158.161 414.813 Q156.355 418.355 156.355 425.485 Q156.355 432.591 158.161 436.156 Q159.99 439.697 163.601 439.697 Q167.235 439.697 169.041 436.156 Q170.869 432.591 170.869 425.485 Q170.869 418.355 169.041 414.813 Q167.235 411.249 163.601 411.249 M163.601 407.545 Q169.411 407.545 172.467 412.151 Q175.545 416.735 175.545 425.485 Q175.545 434.211 172.467 438.818 Q169.411 443.401 163.601 443.401 Q157.791 443.401 154.712 438.818 Q151.656 434.211 151.656 425.485 Q151.656 416.735 154.712 412.151 Q157.791 407.545 163.601 407.545 Z\" fill=\"#000000\" fill-rule=\"evenodd\" fill-opacity=\"1\" /><path clip-path=\"url(#clip350)\" d=\"M 0 0 M175.545 401.646 L199.657 401.646 L199.657 404.844 L175.545 404.844 L175.545 401.646 Z\" fill=\"#000000\" fill-rule=\"evenodd\" fill-opacity=\"1\" /><path clip-path=\"url(#clip350)\" d=\"M 0 0 M207.048 412.122 L220.308 412.122 L220.308 415.319 L202.478 415.319 L202.478 412.122 Q204.641 409.884 208.365 406.122 Q212.107 402.342 213.067 401.251 Q214.891 399.201 215.606 397.791 Q216.339 396.361 216.339 394.988 Q216.339 392.75 214.759 391.34 Q213.198 389.929 210.678 389.929 Q208.891 389.929 206.898 390.55 Q204.923 391.17 202.666 392.43 L202.666 388.594 Q204.961 387.672 206.954 387.202 Q208.948 386.732 210.603 386.732 Q214.966 386.732 217.562 388.913 Q220.157 391.095 220.157 394.744 Q220.157 396.474 219.499 398.035 Q218.859 399.577 217.148 401.684 Q216.678 402.229 214.158 404.844 Q211.637 407.439 207.048 412.122 Z\" fill=\"#000000\" fill-rule=\"evenodd\" fill-opacity=\"1\" /><path clip-path=\"url(#clip350)\" d=\"M 0 0 M224.427 410.542 L228.395 410.542 L228.395 415.319 L224.427 415.319 L224.427 410.542 Z\" fill=\"#000000\" fill-rule=\"evenodd\" fill-opacity=\"1\" /><path clip-path=\"url(#clip350)\" d=\"M 0 0 M240.639 389.741 Q237.705 389.741 236.219 392.637 Q234.752 395.515 234.752 401.308 Q234.752 407.082 236.219 409.978 Q237.705 412.856 240.639 412.856 Q243.592 412.856 245.059 409.978 Q246.545 407.082 246.545 401.308 Q246.545 395.515 245.059 392.637 Q243.592 389.741 240.639 389.741 M240.639 386.732 Q245.36 386.732 247.842 390.474 Q250.344 394.198 250.344 401.308 Q250.344 408.398 247.842 412.141 Q245.36 415.865 240.639 415.865 Q235.918 415.865 233.417 412.141 Q230.934 408.398 230.934 401.308 Q230.934 394.198 233.417 390.474 Q235.918 386.732 240.639 386.732 Z\" fill=\"#000000\" fill-rule=\"evenodd\" fill-opacity=\"1\" /><path clip-path=\"url(#clip350)\" d=\"M 0 0 M129.132 200.47 L136.771 200.47 L136.771 174.104 L128.461 175.771 L128.461 171.511 L136.725 169.845 L141.4 169.845 L141.4 200.47 L149.039 200.47 L149.039 204.405 L129.132 204.405 L129.132 200.47 Z\" fill=\"#000000\" fill-rule=\"evenodd\" fill-opacity=\"1\" /><path clip-path=\"url(#clip350)\" d=\"M 0 0 M164.109 172.923 Q160.498 172.923 158.669 176.488 Q156.863 180.03 156.863 187.159 Q156.863 194.266 158.669 197.831 Q160.498 201.372 164.109 201.372 Q167.743 201.372 169.548 197.831 Q171.377 194.266 171.377 187.159 Q171.377 180.03 169.548 176.488 Q167.743 172.923 164.109 172.923 M164.109 169.22 Q169.919 169.22 172.974 173.826 Q176.053 178.41 176.053 187.159 Q176.053 195.886 172.974 200.493 Q169.919 205.076 164.109 205.076 Q158.298 205.076 155.22 200.493 Q152.164 195.886 152.164 187.159 Q152.164 178.41 155.22 173.826 Q158.298 169.22 164.109 169.22 Z\" fill=\"#000000\" fill-rule=\"evenodd\" fill-opacity=\"1\" /><path clip-path=\"url(#clip350)\" d=\"M 0 0 M176.053 163.321 L200.165 163.321 L200.165 166.518 L176.053 166.518 L176.053 163.321 Z\" fill=\"#000000\" fill-rule=\"evenodd\" fill-opacity=\"1\" /><path clip-path=\"url(#clip350)\" d=\"M 0 0 M204.942 173.797 L211.148 173.797 L211.148 152.375 L204.396 153.729 L204.396 150.268 L211.111 148.914 L214.91 148.914 L214.91 173.797 L221.116 173.797 L221.116 176.994 L204.942 176.994 L204.942 173.797 Z\" fill=\"#000000\" fill-rule=\"evenodd\" fill-opacity=\"1\" /><path clip-path=\"url(#clip350)\" d=\"M 0 0 M225.235 172.217 L229.204 172.217 L229.204 176.994 L225.235 176.994 L225.235 172.217 Z\" fill=\"#000000\" fill-rule=\"evenodd\" fill-opacity=\"1\" /><path clip-path=\"url(#clip350)\" d=\"M 0 0 M233.36 148.914 L248.275 148.914 L248.275 152.112 L236.84 152.112 L236.84 158.995 Q237.667 158.713 238.495 158.582 Q239.322 158.431 240.15 158.431 Q244.852 158.431 247.598 161.008 Q250.344 163.584 250.344 167.985 Q250.344 172.518 247.523 175.038 Q244.701 177.54 239.567 177.54 Q237.799 177.54 235.956 177.239 Q234.131 176.938 232.175 176.336 L232.175 172.518 Q233.868 173.44 235.674 173.891 Q237.479 174.342 239.492 174.342 Q242.745 174.342 244.645 172.631 Q246.545 170.919 246.545 167.985 Q246.545 165.051 244.645 163.34 Q242.745 161.628 239.492 161.628 Q237.968 161.628 236.445 161.967 Q234.94 162.305 233.36 163.02 L233.36 148.914 Z\" fill=\"#000000\" fill-rule=\"evenodd\" fill-opacity=\"1\" /><path clip-path=\"url(#clip350)\" d=\"M 0 0 M1212.71 1518.33 L1212.71 1525.11 Q1209.46 1522.08 1205.77 1520.59 Q1202.11 1519.09 1197.97 1519.09 Q1189.83 1519.09 1185.5 1524.09 Q1181.17 1529.05 1181.17 1538.47 Q1181.17 1547.86 1185.5 1552.86 Q1189.83 1557.82 1197.97 1557.82 Q1202.11 1557.82 1205.77 1556.33 Q1209.46 1554.83 1212.71 1551.81 L1212.71 1558.53 Q1209.34 1560.82 1205.55 1561.96 Q1201.79 1563.11 1197.59 1563.11 Q1186.8 1563.11 1180.6 1556.52 Q1174.39 1549.9 1174.39 1538.47 Q1174.39 1527.01 1180.6 1520.43 Q1186.8 1513.81 1197.59 1513.81 Q1201.86 1513.81 1205.61 1514.95 Q1209.4 1516.07 1212.71 1518.33 Z\" fill=\"#000000\" fill-rule=\"evenodd\" fill-opacity=\"1\" /><path clip-path=\"url(#clip350)\" d=\"M 0 0 M69.7664 810.981 Q63.4007 810.981 59.8996 813.623 Q56.3984 816.233 56.3984 820.975 Q56.3984 825.686 59.8996 828.328 Q63.4007 830.938 69.7664 830.938 Q76.1003 830.938 79.6014 828.328 Q83.1026 825.686 83.1026 820.975 Q83.1026 816.233 79.6014 813.623 Q76.1003 810.981 69.7664 810.981 M83.58 805.125 Q92.683 805.125 97.1071 809.167 Q101.563 813.209 101.563 821.548 Q101.563 824.636 101.086 827.373 Q100.64 830.11 99.6852 832.688 L93.9879 832.688 Q95.3884 830.11 96.0568 827.596 Q96.7252 825.081 96.7252 822.471 Q96.7252 816.71 93.7015 813.846 Q90.7096 810.981 84.6303 810.981 L81.7339 810.981 Q84.885 812.795 86.4446 815.628 Q88.0042 818.461 88.0042 822.408 Q88.0042 828.964 83.0071 832.975 Q78.01 836.985 69.7664 836.985 Q61.491 836.985 56.4939 832.975 Q51.4968 828.964 51.4968 822.408 Q51.4968 818.461 53.0564 815.628 Q54.616 812.795 57.7671 810.981 L52.3562 810.981 L52.3562 805.125 L83.58 805.125 Z\" fill=\"#000000\" fill-rule=\"evenodd\" fill-opacity=\"1\" /><path clip-path=\"url(#clip350)\" d=\"M 0 0 M70.0847 782.781 Q70.0847 789.879 71.7079 792.616 Q73.3312 795.353 77.2461 795.353 Q80.3653 795.353 82.2114 793.316 Q84.0256 791.247 84.0256 787.714 Q84.0256 782.845 80.5881 779.916 Q77.1188 776.956 71.3897 776.956 L70.0847 776.956 L70.0847 782.781 M67.6657 771.1 L88.0042 771.1 L88.0042 776.956 L82.5933 776.956 Q85.8398 778.962 87.3994 781.953 Q88.9272 784.945 88.9272 789.274 Q88.9272 794.749 85.8716 797.995 Q82.7843 801.21 77.6281 801.21 Q71.6125 801.21 68.5569 797.199 Q65.5014 793.157 65.5014 785.168 L65.5014 776.956 L64.9285 776.956 Q60.8862 776.956 58.6901 779.63 Q56.4621 782.272 56.4621 787.078 Q56.4621 790.133 57.1941 793.03 Q57.9262 795.926 59.3903 798.6 L53.9795 798.6 Q52.7381 795.385 52.1334 792.361 Q51.4968 789.338 51.4968 786.473 Q51.4968 778.739 55.5072 774.919 Q59.5176 771.1 67.6657 771.1 Z\" fill=\"#000000\" fill-rule=\"evenodd\" fill-opacity=\"1\" /><path clip-path=\"url(#clip350)\" d=\"M 0 0 M59.1993 737.203 Q55.2526 735.006 53.3747 731.951 Q51.4968 728.895 51.4968 724.758 Q51.4968 719.188 55.4117 716.164 Q59.2948 713.14 66.4881 713.14 L88.0042 713.14 L88.0042 719.028 L66.679 719.028 Q61.5546 719.028 59.072 720.843 Q56.5894 722.657 56.5894 726.381 Q56.5894 730.932 59.6131 733.574 Q62.6368 736.216 67.8567 736.216 L88.0042 736.216 L88.0042 742.104 L66.679 742.104 Q61.5228 742.104 59.072 743.918 Q56.5894 745.733 56.5894 749.52 Q56.5894 754.008 59.6449 756.65 Q62.6686 759.292 67.8567 759.292 L88.0042 759.292 L88.0042 765.18 L52.3562 765.18 L52.3562 759.292 L57.8944 759.292 Q54.616 757.286 53.0564 754.485 Q51.4968 751.685 51.4968 747.833 Q51.4968 743.95 53.4702 741.245 Q55.4436 738.508 59.1993 737.203 Z\" fill=\"#000000\" fill-rule=\"evenodd\" fill-opacity=\"1\" /><path clip-path=\"url(#clip350)\" d=\"M 0 0 M59.1993 679.243 Q55.2526 677.047 53.3747 673.991 Q51.4968 670.936 51.4968 666.798 Q51.4968 661.228 55.4117 658.204 Q59.2948 655.18 66.4881 655.18 L88.0042 655.18 L88.0042 661.069 L66.679 661.069 Q61.5546 661.069 59.072 662.883 Q56.5894 664.697 56.5894 668.421 Q56.5894 672.973 59.6131 675.614 Q62.6368 678.256 67.8567 678.256 L88.0042 678.256 L88.0042 684.144 L66.679 684.144 Q61.5228 684.144 59.072 685.959 Q56.5894 687.773 56.5894 691.56 Q56.5894 696.048 59.6449 698.69 Q62.6686 701.332 67.8567 701.332 L88.0042 701.332 L88.0042 707.22 L52.3562 707.22 L52.3562 701.332 L57.8944 701.332 Q54.616 699.327 53.0564 696.526 Q51.4968 693.725 51.4968 689.874 Q51.4968 685.99 53.4702 683.285 Q55.4436 680.548 59.1993 679.243 Z\" fill=\"#000000\" fill-rule=\"evenodd\" fill-opacity=\"1\" /><path clip-path=\"url(#clip350)\" d=\"M 0 0 M70.0847 632.837 Q70.0847 639.935 71.7079 642.672 Q73.3312 645.409 77.2461 645.409 Q80.3653 645.409 82.2114 643.372 Q84.0256 641.303 84.0256 637.77 Q84.0256 632.9 80.5881 629.972 Q77.1188 627.012 71.3897 627.012 L70.0847 627.012 L70.0847 632.837 M67.6657 621.156 L88.0042 621.156 L88.0042 627.012 L82.5933 627.012 Q85.8398 629.017 87.3994 632.009 Q88.9272 635.001 88.9272 639.33 Q88.9272 644.804 85.8716 648.051 Q82.7843 651.266 77.6281 651.266 Q71.6125 651.266 68.5569 647.255 Q65.5014 643.213 65.5014 635.224 L65.5014 627.012 L64.9285 627.012 Q60.8862 627.012 58.6901 629.686 Q56.4621 632.328 56.4621 637.134 Q56.4621 640.189 57.1941 643.086 Q57.9262 645.982 59.3903 648.656 L53.9795 648.656 Q52.7381 645.441 52.1334 642.417 Q51.4968 639.393 51.4968 636.529 Q51.4968 628.795 55.5072 624.975 Q59.5176 621.156 67.6657 621.156 Z\" fill=\"#000000\" fill-rule=\"evenodd\" fill-opacity=\"1\" /><circle clip-path=\"url(#clip352)\" cx=\"1152.26\" cy=\"1372.3\" r=\"3\" fill=\"#000003\" fill-rule=\"evenodd\" fill-opacity=\"1\" stroke=\"#000000\" stroke-opacity=\"1\" stroke-width=\"3.2\"/>\n",
       "<circle clip-path=\"url(#clip352)\" cx=\"656.727\" cy=\"1066\" r=\"14\" fill=\"#3a0963\" fill-rule=\"evenodd\" fill-opacity=\"1\" stroke=\"#000000\" stroke-opacity=\"1\" stroke-width=\"3.2\"/>\n",
       "<circle clip-path=\"url(#clip352)\" cx=\"1482.61\" cy=\"269.619\" r=\"49\" fill=\"#fb9e06\" fill-rule=\"evenodd\" fill-opacity=\"1\" stroke=\"#000000\" stroke-opacity=\"1\" stroke-width=\"3.2\"/>\n",
       "<circle clip-path=\"url(#clip352)\" cx=\"1812.96\" cy=\"1249.78\" r=\"42\" fill=\"#ed6825\" fill-rule=\"evenodd\" fill-opacity=\"1\" stroke=\"#000000\" stroke-opacity=\"1\" stroke-width=\"3.2\"/>\n",
       "<circle clip-path=\"url(#clip352)\" cx=\"1234.84\" cy=\"330.879\" r=\"52\" fill=\"#fabc21\" fill-rule=\"evenodd\" fill-opacity=\"1\" stroke=\"#000000\" stroke-opacity=\"1\" stroke-width=\"3.2\"/>\n",
       "<circle clip-path=\"url(#clip352)\" cx=\"491.551\" cy=\"1311.04\" r=\"5\" fill=\"#030211\" fill-rule=\"evenodd\" fill-opacity=\"1\" stroke=\"#000000\" stroke-opacity=\"1\" stroke-width=\"3.2\"/>\n",
       "<circle clip-path=\"url(#clip352)\" cx=\"1152.26\" cy=\"453.399\" r=\"56\" fill=\"#f5da4b\" fill-rule=\"evenodd\" fill-opacity=\"1\" stroke=\"#000000\" stroke-opacity=\"1\" stroke-width=\"3.2\"/>\n",
       "<circle clip-path=\"url(#clip352)\" cx=\"574.139\" cy=\"759.7\" r=\"49\" fill=\"#fb9e07\" fill-rule=\"evenodd\" fill-opacity=\"1\" stroke=\"#000000\" stroke-opacity=\"1\" stroke-width=\"3.2\"/>\n",
       "<circle clip-path=\"url(#clip352)\" cx=\"1565.2\" cy=\"392.139\" r=\"56\" fill=\"#f5da4b\" fill-rule=\"evenodd\" fill-opacity=\"1\" stroke=\"#000000\" stroke-opacity=\"1\" stroke-width=\"3.2\"/>\n",
       "<circle clip-path=\"url(#clip352)\" cx=\"656.727\" cy=\"1249.78\" r=\"5\" fill=\"#030211\" fill-rule=\"evenodd\" fill-opacity=\"1\" stroke=\"#000000\" stroke-opacity=\"1\" stroke-width=\"3.2\"/>\n",
       "<circle clip-path=\"url(#clip352)\" cx=\"326.374\" cy=\"269.619\" r=\"49\" fill=\"#fb9e06\" fill-rule=\"evenodd\" fill-opacity=\"1\" stroke=\"#000000\" stroke-opacity=\"1\" stroke-width=\"3.2\"/>\n",
       "<circle clip-path=\"url(#clip352)\" cx=\"1895.55\" cy=\"1249.78\" r=\"42\" fill=\"#ed6825\" fill-rule=\"evenodd\" fill-opacity=\"1\" stroke=\"#000000\" stroke-opacity=\"1\" stroke-width=\"3.2\"/>\n",
       "<circle clip-path=\"url(#clip352)\" cx=\"574.139\" cy=\"1004.74\" r=\"16\" fill=\"#470a69\" fill-rule=\"evenodd\" fill-opacity=\"1\" stroke=\"#000000\" stroke-opacity=\"1\" stroke-width=\"3.2\"/>\n",
       "<circle clip-path=\"url(#clip352)\" cx=\"491.551\" cy=\"698.44\" r=\"54\" fill=\"#f8cb34\" fill-rule=\"evenodd\" fill-opacity=\"1\" stroke=\"#000000\" stroke-opacity=\"1\" stroke-width=\"3.2\"/>\n",
       "<circle clip-path=\"url(#clip352)\" cx=\"1978.14\" cy=\"1311.04\" r=\"40\" fill=\"#e65d2e\" fill-rule=\"evenodd\" fill-opacity=\"1\" stroke=\"#000000\" stroke-opacity=\"1\" stroke-width=\"3.2\"/>\n",
       "<circle clip-path=\"url(#clip352)\" cx=\"987.079\" cy=\"208.358\" r=\"43\" fill=\"#f2751b\" fill-rule=\"evenodd\" fill-opacity=\"1\" stroke=\"#000000\" stroke-opacity=\"1\" stroke-width=\"3.2\"/>\n",
       "<circle clip-path=\"url(#clip352)\" cx=\"1317.43\" cy=\"1127.26\" r=\"37\" fill=\"#d54940\" fill-rule=\"evenodd\" fill-opacity=\"1\" stroke=\"#000000\" stroke-opacity=\"1\" stroke-width=\"3.2\"/>\n",
       "<circle clip-path=\"url(#clip352)\" cx=\"1812.96\" cy=\"1127.26\" r=\"50\" fill=\"#fbad11\" fill-rule=\"evenodd\" fill-opacity=\"1\" stroke=\"#000000\" stroke-opacity=\"1\" stroke-width=\"3.2\"/>\n",
       "<circle clip-path=\"url(#clip352)\" cx=\"2060.73\" cy=\"698.44\" r=\"59\" fill=\"#f2f586\" fill-rule=\"evenodd\" fill-opacity=\"1\" stroke=\"#000000\" stroke-opacity=\"1\" stroke-width=\"3.2\"/>\n",
       "<circle clip-path=\"url(#clip352)\" cx=\"1565.2\" cy=\"147.098\" r=\"40\" fill=\"#e65d2e\" fill-rule=\"evenodd\" fill-opacity=\"1\" stroke=\"#000000\" stroke-opacity=\"1\" stroke-width=\"3.2\"/>\n",
       "<circle clip-path=\"url(#clip352)\" cx=\"1482.61\" cy=\"637.18\" r=\"59\" fill=\"#f2f586\" fill-rule=\"evenodd\" fill-opacity=\"1\" stroke=\"#000000\" stroke-opacity=\"1\" stroke-width=\"3.2\"/>\n",
       "<circle clip-path=\"url(#clip352)\" cx=\"739.315\" cy=\"147.098\" r=\"40\" fill=\"#e65d2e\" fill-rule=\"evenodd\" fill-opacity=\"1\" stroke=\"#000000\" stroke-opacity=\"1\" stroke-width=\"3.2\"/>\n",
       "<circle clip-path=\"url(#clip352)\" cx=\"1400.02\" cy=\"882.221\" r=\"59\" fill=\"#f2f586\" fill-rule=\"evenodd\" fill-opacity=\"1\" stroke=\"#000000\" stroke-opacity=\"1\" stroke-width=\"3.2\"/>\n",
       "<circle clip-path=\"url(#clip352)\" cx=\"574.139\" cy=\"514.66\" r=\"57\" fill=\"#f1e966\" fill-rule=\"evenodd\" fill-opacity=\"1\" stroke=\"#000000\" stroke-opacity=\"1\" stroke-width=\"3.2\"/>\n",
       "<circle clip-path=\"url(#clip352)\" cx=\"1978.14\" cy=\"1004.74\" r=\"59\" fill=\"#f2f586\" fill-rule=\"evenodd\" fill-opacity=\"1\" stroke=\"#000000\" stroke-opacity=\"1\" stroke-width=\"3.2\"/>\n",
       "<circle clip-path=\"url(#clip352)\" cx=\"904.491\" cy=\"1188.52\" r=\"3\" fill=\"#000003\" fill-rule=\"evenodd\" fill-opacity=\"1\" stroke=\"#000000\" stroke-opacity=\"1\" stroke-width=\"3.2\"/>\n",
       "<circle clip-path=\"url(#clip352)\" cx=\"2060.73\" cy=\"514.66\" r=\"57\" fill=\"#f1e966\" fill-rule=\"evenodd\" fill-opacity=\"1\" stroke=\"#000000\" stroke-opacity=\"1\" stroke-width=\"3.2\"/>\n",
       "<circle clip-path=\"url(#clip352)\" cx=\"1069.67\" cy=\"698.44\" r=\"59\" fill=\"#f2f586\" fill-rule=\"evenodd\" fill-opacity=\"1\" stroke=\"#000000\" stroke-opacity=\"1\" stroke-width=\"3.2\"/>\n",
       "<circle clip-path=\"url(#clip352)\" cx=\"1234.84\" cy=\"1311.04\" r=\"3\" fill=\"#000003\" fill-rule=\"evenodd\" fill-opacity=\"1\" stroke=\"#000000\" stroke-opacity=\"1\" stroke-width=\"3.2\"/>\n",
       "<circle clip-path=\"url(#clip352)\" cx=\"1647.78\" cy=\"1188.52\" r=\"42\" fill=\"#ed6825\" fill-rule=\"evenodd\" fill-opacity=\"1\" stroke=\"#000000\" stroke-opacity=\"1\" stroke-width=\"3.2\"/>\n",
       "<circle clip-path=\"url(#clip352)\" cx=\"326.374\" cy=\"637.18\" r=\"54\" fill=\"#f8cb34\" fill-rule=\"evenodd\" fill-opacity=\"1\" stroke=\"#000000\" stroke-opacity=\"1\" stroke-width=\"3.2\"/>\n",
       "<circle clip-path=\"url(#clip352)\" cx=\"574.139\" cy=\"330.879\" r=\"52\" fill=\"#fabc21\" fill-rule=\"evenodd\" fill-opacity=\"1\" stroke=\"#000000\" stroke-opacity=\"1\" stroke-width=\"3.2\"/>\n",
       "<circle clip-path=\"url(#clip352)\" cx=\"739.315\" cy=\"1372.3\" r=\"5\" fill=\"#030211\" fill-rule=\"evenodd\" fill-opacity=\"1\" stroke=\"#000000\" stroke-opacity=\"1\" stroke-width=\"3.2\"/>\n",
       "<circle clip-path=\"url(#clip352)\" cx=\"1647.78\" cy=\"392.139\" r=\"56\" fill=\"#f5da4b\" fill-rule=\"evenodd\" fill-opacity=\"1\" stroke=\"#000000\" stroke-opacity=\"1\" stroke-width=\"3.2\"/>\n",
       "<circle clip-path=\"url(#clip352)\" cx=\"1069.67\" cy=\"85.838\" r=\"43\" fill=\"#f2741b\" fill-rule=\"evenodd\" fill-opacity=\"1\" stroke=\"#000000\" stroke-opacity=\"1\" stroke-width=\"3.2\"/>\n",
       "<circle clip-path=\"url(#clip352)\" cx=\"1730.37\" cy=\"147.098\" r=\"40\" fill=\"#e65d2e\" fill-rule=\"evenodd\" fill-opacity=\"1\" stroke=\"#000000\" stroke-opacity=\"1\" stroke-width=\"3.2\"/>\n",
       "<circle clip-path=\"url(#clip352)\" cx=\"1400.02\" cy=\"208.358\" r=\"43\" fill=\"#f2751b\" fill-rule=\"evenodd\" fill-opacity=\"1\" stroke=\"#000000\" stroke-opacity=\"1\" stroke-width=\"3.2\"/>\n",
       "<circle clip-path=\"url(#clip352)\" cx=\"574.139\" cy=\"637.18\" r=\"57\" fill=\"#f1e966\" fill-rule=\"evenodd\" fill-opacity=\"1\" stroke=\"#000000\" stroke-opacity=\"1\" stroke-width=\"3.2\"/>\n",
       "<circle clip-path=\"url(#clip352)\" cx=\"1400.02\" cy=\"514.66\" r=\"57\" fill=\"#f1e966\" fill-rule=\"evenodd\" fill-opacity=\"1\" stroke=\"#000000\" stroke-opacity=\"1\" stroke-width=\"3.2\"/>\n",
       "<circle clip-path=\"url(#clip352)\" cx=\"1895.55\" cy=\"1127.26\" r=\"56\" fill=\"#f5da4b\" fill-rule=\"evenodd\" fill-opacity=\"1\" stroke=\"#000000\" stroke-opacity=\"1\" stroke-width=\"3.2\"/>\n",
       "<circle clip-path=\"url(#clip352)\" cx=\"491.551\" cy=\"392.139\" r=\"56\" fill=\"#f5da4b\" fill-rule=\"evenodd\" fill-opacity=\"1\" stroke=\"#000000\" stroke-opacity=\"1\" stroke-width=\"3.2\"/>\n",
       "<circle clip-path=\"url(#clip352)\" cx=\"1400.02\" cy=\"1004.74\" r=\"54\" fill=\"#f8cb34\" fill-rule=\"evenodd\" fill-opacity=\"1\" stroke=\"#000000\" stroke-opacity=\"1\" stroke-width=\"3.2\"/>\n",
       "<circle clip-path=\"url(#clip352)\" cx=\"821.903\" cy=\"759.7\" r=\"54\" fill=\"#f8cb34\" fill-rule=\"evenodd\" fill-opacity=\"1\" stroke=\"#000000\" stroke-opacity=\"1\" stroke-width=\"3.2\"/>\n",
       "<circle clip-path=\"url(#clip352)\" cx=\"1482.61\" cy=\"1066\" r=\"49\" fill=\"#fb9e07\" fill-rule=\"evenodd\" fill-opacity=\"1\" stroke=\"#000000\" stroke-opacity=\"1\" stroke-width=\"3.2\"/>\n",
       "<circle clip-path=\"url(#clip352)\" cx=\"2060.73\" cy=\"208.358\" r=\"43\" fill=\"#f2751b\" fill-rule=\"evenodd\" fill-opacity=\"1\" stroke=\"#000000\" stroke-opacity=\"1\" stroke-width=\"3.2\"/>\n",
       "<circle clip-path=\"url(#clip352)\" cx=\"1152.26\" cy=\"147.098\" r=\"40\" fill=\"#e65d2e\" fill-rule=\"evenodd\" fill-opacity=\"1\" stroke=\"#000000\" stroke-opacity=\"1\" stroke-width=\"3.2\"/>\n",
       "<circle clip-path=\"url(#clip352)\" cx=\"1565.2\" cy=\"208.358\" r=\"43\" fill=\"#f2751b\" fill-rule=\"evenodd\" fill-opacity=\"1\" stroke=\"#000000\" stroke-opacity=\"1\" stroke-width=\"3.2\"/>\n",
       "<circle clip-path=\"url(#clip352)\" cx=\"408.962\" cy=\"882.221\" r=\"33\" fill=\"#c03950\" fill-rule=\"evenodd\" fill-opacity=\"1\" stroke=\"#000000\" stroke-opacity=\"1\" stroke-width=\"3.2\"/>\n",
       "<circle clip-path=\"url(#clip352)\" cx=\"656.727\" cy=\"1127.26\" r=\"3\" fill=\"#000003\" fill-rule=\"evenodd\" fill-opacity=\"1\" stroke=\"#000000\" stroke-opacity=\"1\" stroke-width=\"3.2\"/>\n",
       "<circle clip-path=\"url(#clip352)\" cx=\"1730.37\" cy=\"1372.3\" r=\"17\" fill=\"#530e6d\" fill-rule=\"evenodd\" fill-opacity=\"1\" stroke=\"#000000\" stroke-opacity=\"1\" stroke-width=\"3.2\"/>\n",
       "<circle clip-path=\"url(#clip352)\" cx=\"1317.43\" cy=\"1004.74\" r=\"50\" fill=\"#fbad12\" fill-rule=\"evenodd\" fill-opacity=\"1\" stroke=\"#000000\" stroke-opacity=\"1\" stroke-width=\"3.2\"/>\n",
       "<circle clip-path=\"url(#clip352)\" cx=\"574.139\" cy=\"1066\" r=\"5\" fill=\"#030211\" fill-rule=\"evenodd\" fill-opacity=\"1\" stroke=\"#000000\" stroke-opacity=\"1\" stroke-width=\"3.2\"/>\n",
       "<circle clip-path=\"url(#clip352)\" cx=\"491.551\" cy=\"1127.26\" r=\"3\" fill=\"#000003\" fill-rule=\"evenodd\" fill-opacity=\"1\" stroke=\"#000000\" stroke-opacity=\"1\" stroke-width=\"3.2\"/>\n",
       "<circle clip-path=\"url(#clip352)\" cx=\"821.903\" cy=\"698.44\" r=\"59\" fill=\"#f2f586\" fill-rule=\"evenodd\" fill-opacity=\"1\" stroke=\"#000000\" stroke-opacity=\"1\" stroke-width=\"3.2\"/>\n",
       "<circle clip-path=\"url(#clip352)\" cx=\"1730.37\" cy=\"637.18\" r=\"59\" fill=\"#f2f586\" fill-rule=\"evenodd\" fill-opacity=\"1\" stroke=\"#000000\" stroke-opacity=\"1\" stroke-width=\"3.2\"/>\n",
       "<circle clip-path=\"url(#clip352)\" cx=\"987.079\" cy=\"330.879\" r=\"52\" fill=\"#fabc21\" fill-rule=\"evenodd\" fill-opacity=\"1\" stroke=\"#000000\" stroke-opacity=\"1\" stroke-width=\"3.2\"/>\n",
       "<circle clip-path=\"url(#clip352)\" cx=\"1565.2\" cy=\"514.66\" r=\"57\" fill=\"#f1e966\" fill-rule=\"evenodd\" fill-opacity=\"1\" stroke=\"#000000\" stroke-opacity=\"1\" stroke-width=\"3.2\"/>\n",
       "<circle clip-path=\"url(#clip352)\" cx=\"1565.2\" cy=\"1372.3\" r=\"7\" fill=\"#0a0622\" fill-rule=\"evenodd\" fill-opacity=\"1\" stroke=\"#000000\" stroke-opacity=\"1\" stroke-width=\"3.2\"/>\n",
       "<circle clip-path=\"url(#clip352)\" cx=\"326.374\" cy=\"1188.52\" r=\"5\" fill=\"#030211\" fill-rule=\"evenodd\" fill-opacity=\"1\" stroke=\"#000000\" stroke-opacity=\"1\" stroke-width=\"3.2\"/>\n",
       "<circle clip-path=\"url(#clip352)\" cx=\"1317.43\" cy=\"1372.3\" r=\"3\" fill=\"#000003\" fill-rule=\"evenodd\" fill-opacity=\"1\" stroke=\"#000000\" stroke-opacity=\"1\" stroke-width=\"3.2\"/>\n",
       "<circle clip-path=\"url(#clip352)\" cx=\"739.315\" cy=\"637.18\" r=\"59\" fill=\"#f2f586\" fill-rule=\"evenodd\" fill-opacity=\"1\" stroke=\"#000000\" stroke-opacity=\"1\" stroke-width=\"3.2\"/>\n",
       "<circle clip-path=\"url(#clip352)\" cx=\"1895.55\" cy=\"208.358\" r=\"43\" fill=\"#f2751b\" fill-rule=\"evenodd\" fill-opacity=\"1\" stroke=\"#000000\" stroke-opacity=\"1\" stroke-width=\"3.2\"/>\n",
       "<circle clip-path=\"url(#clip352)\" cx=\"1647.78\" cy=\"759.7\" r=\"59\" fill=\"#f2f586\" fill-rule=\"evenodd\" fill-opacity=\"1\" stroke=\"#000000\" stroke-opacity=\"1\" stroke-width=\"3.2\"/>\n",
       "<circle clip-path=\"url(#clip352)\" cx=\"1400.02\" cy=\"820.961\" r=\"61\" fill=\"#fcfea4\" fill-rule=\"evenodd\" fill-opacity=\"1\" stroke=\"#000000\" stroke-opacity=\"1\" stroke-width=\"3.2\"/>\n",
       "<circle clip-path=\"url(#clip352)\" cx=\"739.315\" cy=\"453.399\" r=\"56\" fill=\"#f5da4b\" fill-rule=\"evenodd\" fill-opacity=\"1\" stroke=\"#000000\" stroke-opacity=\"1\" stroke-width=\"3.2\"/>\n",
       "<circle clip-path=\"url(#clip352)\" cx=\"491.551\" cy=\"820.961\" r=\"43\" fill=\"#f2751b\" fill-rule=\"evenodd\" fill-opacity=\"1\" stroke=\"#000000\" stroke-opacity=\"1\" stroke-width=\"3.2\"/>\n",
       "<circle clip-path=\"url(#clip352)\" cx=\"1812.96\" cy=\"698.44\" r=\"59\" fill=\"#f2f586\" fill-rule=\"evenodd\" fill-opacity=\"1\" stroke=\"#000000\" stroke-opacity=\"1\" stroke-width=\"3.2\"/>\n",
       "<circle clip-path=\"url(#clip352)\" cx=\"987.079\" cy=\"1372.3\" r=\"5\" fill=\"#030211\" fill-rule=\"evenodd\" fill-opacity=\"1\" stroke=\"#000000\" stroke-opacity=\"1\" stroke-width=\"3.2\"/>\n",
       "<circle clip-path=\"url(#clip352)\" cx=\"1647.78\" cy=\"1372.3\" r=\"14\" fill=\"#3a0963\" fill-rule=\"evenodd\" fill-opacity=\"1\" stroke=\"#000000\" stroke-opacity=\"1\" stroke-width=\"3.2\"/>\n",
       "<circle clip-path=\"url(#clip352)\" cx=\"1400.02\" cy=\"392.139\" r=\"56\" fill=\"#f5da4b\" fill-rule=\"evenodd\" fill-opacity=\"1\" stroke=\"#000000\" stroke-opacity=\"1\" stroke-width=\"3.2\"/>\n",
       "<circle clip-path=\"url(#clip352)\" cx=\"408.962\" cy=\"514.66\" r=\"57\" fill=\"#f1e966\" fill-rule=\"evenodd\" fill-opacity=\"1\" stroke=\"#000000\" stroke-opacity=\"1\" stroke-width=\"3.2\"/>\n",
       "<circle clip-path=\"url(#clip352)\" cx=\"1565.2\" cy=\"1004.74\" r=\"56\" fill=\"#f5da4b\" fill-rule=\"evenodd\" fill-opacity=\"1\" stroke=\"#000000\" stroke-opacity=\"1\" stroke-width=\"3.2\"/>\n",
       "<circle clip-path=\"url(#clip352)\" cx=\"1812.96\" cy=\"1066\" r=\"56\" fill=\"#f5da4b\" fill-rule=\"evenodd\" fill-opacity=\"1\" stroke=\"#000000\" stroke-opacity=\"1\" stroke-width=\"3.2\"/>\n",
       "<circle clip-path=\"url(#clip352)\" cx=\"1812.96\" cy=\"514.66\" r=\"57\" fill=\"#f1e966\" fill-rule=\"evenodd\" fill-opacity=\"1\" stroke=\"#000000\" stroke-opacity=\"1\" stroke-width=\"3.2\"/>\n",
       "<circle clip-path=\"url(#clip352)\" cx=\"1152.26\" cy=\"1127.26\" r=\"31\" fill=\"#b53358\" fill-rule=\"evenodd\" fill-opacity=\"1\" stroke=\"#000000\" stroke-opacity=\"1\" stroke-width=\"3.2\"/>\n",
       "<circle clip-path=\"url(#clip352)\" cx=\"821.903\" cy=\"1372.3\" r=\"5\" fill=\"#030211\" fill-rule=\"evenodd\" fill-opacity=\"1\" stroke=\"#000000\" stroke-opacity=\"1\" stroke-width=\"3.2\"/>\n",
       "<circle clip-path=\"url(#clip352)\" cx=\"574.139\" cy=\"85.838\" r=\"43\" fill=\"#f2741b\" fill-rule=\"evenodd\" fill-opacity=\"1\" stroke=\"#000000\" stroke-opacity=\"1\" stroke-width=\"3.2\"/>\n",
       "<circle clip-path=\"url(#clip352)\" cx=\"1565.2\" cy=\"1188.52\" r=\"42\" fill=\"#ed6825\" fill-rule=\"evenodd\" fill-opacity=\"1\" stroke=\"#000000\" stroke-opacity=\"1\" stroke-width=\"3.2\"/>\n",
       "<circle clip-path=\"url(#clip352)\" cx=\"1565.2\" cy=\"269.619\" r=\"49\" fill=\"#fb9e06\" fill-rule=\"evenodd\" fill-opacity=\"1\" stroke=\"#000000\" stroke-opacity=\"1\" stroke-width=\"3.2\"/>\n",
       "<circle clip-path=\"url(#clip352)\" cx=\"739.315\" cy=\"1127.26\" r=\"3\" fill=\"#000003\" fill-rule=\"evenodd\" fill-opacity=\"1\" stroke=\"#000000\" stroke-opacity=\"1\" stroke-width=\"3.2\"/>\n",
       "<circle clip-path=\"url(#clip352)\" cx=\"491.551\" cy=\"1372.3\" r=\"5\" fill=\"#030211\" fill-rule=\"evenodd\" fill-opacity=\"1\" stroke=\"#000000\" stroke-opacity=\"1\" stroke-width=\"3.2\"/>\n",
       "<circle clip-path=\"url(#clip352)\" cx=\"739.315\" cy=\"269.619\" r=\"49\" fill=\"#fb9e06\" fill-rule=\"evenodd\" fill-opacity=\"1\" stroke=\"#000000\" stroke-opacity=\"1\" stroke-width=\"3.2\"/>\n",
       "<circle clip-path=\"url(#clip352)\" cx=\"1812.96\" cy=\"1372.3\" r=\"26\" fill=\"#912467\" fill-rule=\"evenodd\" fill-opacity=\"1\" stroke=\"#000000\" stroke-opacity=\"1\" stroke-width=\"3.2\"/>\n",
       "<circle clip-path=\"url(#clip352)\" cx=\"1317.43\" cy=\"637.18\" r=\"59\" fill=\"#f2f586\" fill-rule=\"evenodd\" fill-opacity=\"1\" stroke=\"#000000\" stroke-opacity=\"1\" stroke-width=\"3.2\"/>\n",
       "<circle clip-path=\"url(#clip352)\" cx=\"1234.84\" cy=\"1188.52\" r=\"28\" fill=\"#9d2963\" fill-rule=\"evenodd\" fill-opacity=\"1\" stroke=\"#000000\" stroke-opacity=\"1\" stroke-width=\"3.2\"/>\n",
       "<circle clip-path=\"url(#clip352)\" cx=\"1069.67\" cy=\"514.66\" r=\"57\" fill=\"#f1e966\" fill-rule=\"evenodd\" fill-opacity=\"1\" stroke=\"#000000\" stroke-opacity=\"1\" stroke-width=\"3.2\"/>\n",
       "<circle clip-path=\"url(#clip352)\" cx=\"1978.14\" cy=\"759.7\" r=\"59\" fill=\"#f2f586\" fill-rule=\"evenodd\" fill-opacity=\"1\" stroke=\"#000000\" stroke-opacity=\"1\" stroke-width=\"3.2\"/>\n",
       "<circle clip-path=\"url(#clip352)\" cx=\"1978.14\" cy=\"269.619\" r=\"49\" fill=\"#fb9e06\" fill-rule=\"evenodd\" fill-opacity=\"1\" stroke=\"#000000\" stroke-opacity=\"1\" stroke-width=\"3.2\"/>\n",
       "<circle clip-path=\"url(#clip352)\" cx=\"491.551\" cy=\"1004.74\" r=\"14\" fill=\"#3a0963\" fill-rule=\"evenodd\" fill-opacity=\"1\" stroke=\"#000000\" stroke-opacity=\"1\" stroke-width=\"3.2\"/>\n",
       "<circle clip-path=\"url(#clip352)\" cx=\"987.079\" cy=\"637.18\" r=\"59\" fill=\"#f2f586\" fill-rule=\"evenodd\" fill-opacity=\"1\" stroke=\"#000000\" stroke-opacity=\"1\" stroke-width=\"3.2\"/>\n",
       "<circle clip-path=\"url(#clip352)\" cx=\"739.315\" cy=\"820.961\" r=\"49\" fill=\"#fb9e07\" fill-rule=\"evenodd\" fill-opacity=\"1\" stroke=\"#000000\" stroke-opacity=\"1\" stroke-width=\"3.2\"/>\n",
       "<circle clip-path=\"url(#clip352)\" cx=\"1565.2\" cy=\"330.879\" r=\"52\" fill=\"#fabc21\" fill-rule=\"evenodd\" fill-opacity=\"1\" stroke=\"#000000\" stroke-opacity=\"1\" stroke-width=\"3.2\"/>\n",
       "<circle clip-path=\"url(#clip352)\" cx=\"1069.67\" cy=\"575.92\" r=\"59\" fill=\"#f2f586\" fill-rule=\"evenodd\" fill-opacity=\"1\" stroke=\"#000000\" stroke-opacity=\"1\" stroke-width=\"3.2\"/>\n",
       "<circle clip-path=\"url(#clip352)\" cx=\"2060.73\" cy=\"330.879\" r=\"52\" fill=\"#fabc21\" fill-rule=\"evenodd\" fill-opacity=\"1\" stroke=\"#000000\" stroke-opacity=\"1\" stroke-width=\"3.2\"/>\n",
       "<circle clip-path=\"url(#clip352)\" cx=\"1730.37\" cy=\"759.7\" r=\"59\" fill=\"#f2f586\" fill-rule=\"evenodd\" fill-opacity=\"1\" stroke=\"#000000\" stroke-opacity=\"1\" stroke-width=\"3.2\"/>\n",
       "<circle clip-path=\"url(#clip352)\" cx=\"1152.26\" cy=\"1066\" r=\"38\" fill=\"#de5237\" fill-rule=\"evenodd\" fill-opacity=\"1\" stroke=\"#000000\" stroke-opacity=\"1\" stroke-width=\"3.2\"/>\n",
       "<circle clip-path=\"url(#clip352)\" cx=\"1978.14\" cy=\"514.66\" r=\"57\" fill=\"#f1e966\" fill-rule=\"evenodd\" fill-opacity=\"1\" stroke=\"#000000\" stroke-opacity=\"1\" stroke-width=\"3.2\"/>\n",
       "<circle clip-path=\"url(#clip352)\" cx=\"1482.61\" cy=\"820.961\" r=\"59\" fill=\"#f2f586\" fill-rule=\"evenodd\" fill-opacity=\"1\" stroke=\"#000000\" stroke-opacity=\"1\" stroke-width=\"3.2\"/>\n",
       "<circle clip-path=\"url(#clip352)\" cx=\"408.962\" cy=\"85.838\" r=\"43\" fill=\"#f2741b\" fill-rule=\"evenodd\" fill-opacity=\"1\" stroke=\"#000000\" stroke-opacity=\"1\" stroke-width=\"3.2\"/>\n",
       "<circle clip-path=\"url(#clip352)\" cx=\"1482.61\" cy=\"1311.04\" r=\"14\" fill=\"#3a0963\" fill-rule=\"evenodd\" fill-opacity=\"1\" stroke=\"#000000\" stroke-opacity=\"1\" stroke-width=\"3.2\"/>\n",
       "<circle clip-path=\"url(#clip352)\" cx=\"1400.02\" cy=\"1127.26\" r=\"40\" fill=\"#e65d2e\" fill-rule=\"evenodd\" fill-opacity=\"1\" stroke=\"#000000\" stroke-opacity=\"1\" stroke-width=\"3.2\"/>\n",
       "<circle clip-path=\"url(#clip352)\" cx=\"821.903\" cy=\"514.66\" r=\"57\" fill=\"#f1e966\" fill-rule=\"evenodd\" fill-opacity=\"1\" stroke=\"#000000\" stroke-opacity=\"1\" stroke-width=\"3.2\"/>\n",
       "<circle clip-path=\"url(#clip352)\" cx=\"1565.2\" cy=\"882.221\" r=\"59\" fill=\"#f2f586\" fill-rule=\"evenodd\" fill-opacity=\"1\" stroke=\"#000000\" stroke-opacity=\"1\" stroke-width=\"3.2\"/>\n",
       "<circle clip-path=\"url(#clip352)\" cx=\"1895.55\" cy=\"1311.04\" r=\"38\" fill=\"#de5237\" fill-rule=\"evenodd\" fill-opacity=\"1\" stroke=\"#000000\" stroke-opacity=\"1\" stroke-width=\"3.2\"/>\n",
       "<circle clip-path=\"url(#clip352)\" cx=\"1730.37\" cy=\"453.399\" r=\"56\" fill=\"#f5da4b\" fill-rule=\"evenodd\" fill-opacity=\"1\" stroke=\"#000000\" stroke-opacity=\"1\" stroke-width=\"3.2\"/>\n",
       "<circle clip-path=\"url(#clip352)\" cx=\"656.727\" cy=\"330.879\" r=\"52\" fill=\"#fabc21\" fill-rule=\"evenodd\" fill-opacity=\"1\" stroke=\"#000000\" stroke-opacity=\"1\" stroke-width=\"3.2\"/>\n",
       "<circle clip-path=\"url(#clip352)\" cx=\"1317.43\" cy=\"147.098\" r=\"40\" fill=\"#e65d2e\" fill-rule=\"evenodd\" fill-opacity=\"1\" stroke=\"#000000\" stroke-opacity=\"1\" stroke-width=\"3.2\"/>\n",
       "<circle clip-path=\"url(#clip352)\" cx=\"1152.26\" cy=\"208.358\" r=\"43\" fill=\"#f2751b\" fill-rule=\"evenodd\" fill-opacity=\"1\" stroke=\"#000000\" stroke-opacity=\"1\" stroke-width=\"3.2\"/>\n",
       "<circle clip-path=\"url(#clip352)\" cx=\"739.315\" cy=\"1004.74\" r=\"30\" fill=\"#a92e5e\" fill-rule=\"evenodd\" fill-opacity=\"1\" stroke=\"#000000\" stroke-opacity=\"1\" stroke-width=\"3.2\"/>\n",
       "<circle clip-path=\"url(#clip352)\" cx=\"987.079\" cy=\"453.399\" r=\"56\" fill=\"#f5da4b\" fill-rule=\"evenodd\" fill-opacity=\"1\" stroke=\"#000000\" stroke-opacity=\"1\" stroke-width=\"3.2\"/>\n",
       "<circle clip-path=\"url(#clip352)\" cx=\"987.079\" cy=\"1127.26\" r=\"19\" fill=\"#60136e\" fill-rule=\"evenodd\" fill-opacity=\"1\" stroke=\"#000000\" stroke-opacity=\"1\" stroke-width=\"3.2\"/>\n",
       "<circle clip-path=\"url(#clip352)\" cx=\"904.491\" cy=\"514.66\" r=\"57\" fill=\"#f1e966\" fill-rule=\"evenodd\" fill-opacity=\"1\" stroke=\"#000000\" stroke-opacity=\"1\" stroke-width=\"3.2\"/>\n",
       "<circle clip-path=\"url(#clip352)\" cx=\"1647.78\" cy=\"882.221\" r=\"57\" fill=\"#f1e866\" fill-rule=\"evenodd\" fill-opacity=\"1\" stroke=\"#000000\" stroke-opacity=\"1\" stroke-width=\"3.2\"/>\n",
       "<circle clip-path=\"url(#clip352)\" cx=\"1978.14\" cy=\"575.92\" r=\"59\" fill=\"#f2f586\" fill-rule=\"evenodd\" fill-opacity=\"1\" stroke=\"#000000\" stroke-opacity=\"1\" stroke-width=\"3.2\"/>\n",
       "<circle clip-path=\"url(#clip352)\" cx=\"1234.84\" cy=\"1372.3\" r=\"3\" fill=\"#000003\" fill-rule=\"evenodd\" fill-opacity=\"1\" stroke=\"#000000\" stroke-opacity=\"1\" stroke-width=\"3.2\"/>\n",
       "<circle clip-path=\"url(#clip352)\" cx=\"821.903\" cy=\"637.18\" r=\"61\" fill=\"#fcfea4\" fill-rule=\"evenodd\" fill-opacity=\"1\" stroke=\"#000000\" stroke-opacity=\"1\" stroke-width=\"3.2\"/>\n",
       "<circle clip-path=\"url(#clip352)\" cx=\"1400.02\" cy=\"759.7\" r=\"59\" fill=\"#f2f586\" fill-rule=\"evenodd\" fill-opacity=\"1\" stroke=\"#000000\" stroke-opacity=\"1\" stroke-width=\"3.2\"/>\n",
       "<circle clip-path=\"url(#clip352)\" cx=\"1234.84\" cy=\"85.838\" r=\"43\" fill=\"#f2741b\" fill-rule=\"evenodd\" fill-opacity=\"1\" stroke=\"#000000\" stroke-opacity=\"1\" stroke-width=\"3.2\"/>\n",
       "<circle clip-path=\"url(#clip352)\" cx=\"1152.26\" cy=\"85.838\" r=\"43\" fill=\"#f2741b\" fill-rule=\"evenodd\" fill-opacity=\"1\" stroke=\"#000000\" stroke-opacity=\"1\" stroke-width=\"3.2\"/>\n",
       "<circle clip-path=\"url(#clip352)\" cx=\"491.551\" cy=\"1249.78\" r=\"5\" fill=\"#030211\" fill-rule=\"evenodd\" fill-opacity=\"1\" stroke=\"#000000\" stroke-opacity=\"1\" stroke-width=\"3.2\"/>\n",
       "<circle clip-path=\"url(#clip352)\" cx=\"1482.61\" cy=\"1127.26\" r=\"42\" fill=\"#ed6825\" fill-rule=\"evenodd\" fill-opacity=\"1\" stroke=\"#000000\" stroke-opacity=\"1\" stroke-width=\"3.2\"/>\n",
       "<circle clip-path=\"url(#clip352)\" cx=\"1482.61\" cy=\"759.7\" r=\"59\" fill=\"#f2f586\" fill-rule=\"evenodd\" fill-opacity=\"1\" stroke=\"#000000\" stroke-opacity=\"1\" stroke-width=\"3.2\"/>\n",
       "<circle clip-path=\"url(#clip352)\" cx=\"656.727\" cy=\"1372.3\" r=\"5\" fill=\"#030211\" fill-rule=\"evenodd\" fill-opacity=\"1\" stroke=\"#000000\" stroke-opacity=\"1\" stroke-width=\"3.2\"/>\n",
       "<circle clip-path=\"url(#clip352)\" cx=\"408.962\" cy=\"575.92\" r=\"57\" fill=\"#f1e966\" fill-rule=\"evenodd\" fill-opacity=\"1\" stroke=\"#000000\" stroke-opacity=\"1\" stroke-width=\"3.2\"/>\n",
       "<circle clip-path=\"url(#clip352)\" cx=\"1730.37\" cy=\"1311.04\" r=\"33\" fill=\"#c03950\" fill-rule=\"evenodd\" fill-opacity=\"1\" stroke=\"#000000\" stroke-opacity=\"1\" stroke-width=\"3.2\"/>\n",
       "<circle clip-path=\"url(#clip352)\" cx=\"656.727\" cy=\"637.18\" r=\"59\" fill=\"#f2f586\" fill-rule=\"evenodd\" fill-opacity=\"1\" stroke=\"#000000\" stroke-opacity=\"1\" stroke-width=\"3.2\"/>\n",
       "<circle clip-path=\"url(#clip352)\" cx=\"1730.37\" cy=\"208.358\" r=\"43\" fill=\"#f2751b\" fill-rule=\"evenodd\" fill-opacity=\"1\" stroke=\"#000000\" stroke-opacity=\"1\" stroke-width=\"3.2\"/>\n",
       "<circle clip-path=\"url(#clip352)\" cx=\"1730.37\" cy=\"85.838\" r=\"43\" fill=\"#f2741b\" fill-rule=\"evenodd\" fill-opacity=\"1\" stroke=\"#000000\" stroke-opacity=\"1\" stroke-width=\"3.2\"/>\n",
       "<circle clip-path=\"url(#clip352)\" cx=\"1812.96\" cy=\"269.619\" r=\"49\" fill=\"#fb9e06\" fill-rule=\"evenodd\" fill-opacity=\"1\" stroke=\"#000000\" stroke-opacity=\"1\" stroke-width=\"3.2\"/>\n",
       "<circle clip-path=\"url(#clip352)\" cx=\"1565.2\" cy=\"575.92\" r=\"59\" fill=\"#f2f586\" fill-rule=\"evenodd\" fill-opacity=\"1\" stroke=\"#000000\" stroke-opacity=\"1\" stroke-width=\"3.2\"/>\n",
       "<circle clip-path=\"url(#clip352)\" cx=\"1069.67\" cy=\"453.399\" r=\"56\" fill=\"#f5da4b\" fill-rule=\"evenodd\" fill-opacity=\"1\" stroke=\"#000000\" stroke-opacity=\"1\" stroke-width=\"3.2\"/>\n",
       "<circle clip-path=\"url(#clip352)\" cx=\"904.491\" cy=\"637.18\" r=\"59\" fill=\"#f2f586\" fill-rule=\"evenodd\" fill-opacity=\"1\" stroke=\"#000000\" stroke-opacity=\"1\" stroke-width=\"3.2\"/>\n",
       "<circle clip-path=\"url(#clip352)\" cx=\"1565.2\" cy=\"1311.04\" r=\"19\" fill=\"#60136e\" fill-rule=\"evenodd\" fill-opacity=\"1\" stroke=\"#000000\" stroke-opacity=\"1\" stroke-width=\"3.2\"/>\n",
       "<circle clip-path=\"url(#clip352)\" cx=\"1069.67\" cy=\"1311.04\" r=\"3\" fill=\"#000003\" fill-rule=\"evenodd\" fill-opacity=\"1\" stroke=\"#000000\" stroke-opacity=\"1\" stroke-width=\"3.2\"/>\n",
       "<circle clip-path=\"url(#clip352)\" cx=\"656.727\" cy=\"759.7\" r=\"50\" fill=\"#fbad11\" fill-rule=\"evenodd\" fill-opacity=\"1\" stroke=\"#000000\" stroke-opacity=\"1\" stroke-width=\"3.2\"/>\n",
       "<circle clip-path=\"url(#clip352)\" cx=\"904.491\" cy=\"1004.74\" r=\"38\" fill=\"#de5237\" fill-rule=\"evenodd\" fill-opacity=\"1\" stroke=\"#000000\" stroke-opacity=\"1\" stroke-width=\"3.2\"/>\n",
       "<circle clip-path=\"url(#clip352)\" cx=\"1317.43\" cy=\"330.879\" r=\"52\" fill=\"#fabc21\" fill-rule=\"evenodd\" fill-opacity=\"1\" stroke=\"#000000\" stroke-opacity=\"1\" stroke-width=\"3.2\"/>\n",
       "<circle clip-path=\"url(#clip352)\" cx=\"1482.61\" cy=\"1249.78\" r=\"30\" fill=\"#a92e5e\" fill-rule=\"evenodd\" fill-opacity=\"1\" stroke=\"#000000\" stroke-opacity=\"1\" stroke-width=\"3.2\"/>\n",
       "<circle clip-path=\"url(#clip352)\" cx=\"491.551\" cy=\"453.399\" r=\"56\" fill=\"#f5da4b\" fill-rule=\"evenodd\" fill-opacity=\"1\" stroke=\"#000000\" stroke-opacity=\"1\" stroke-width=\"3.2\"/>\n",
       "<circle clip-path=\"url(#clip352)\" cx=\"408.962\" cy=\"759.7\" r=\"44\" fill=\"#f2751b\" fill-rule=\"evenodd\" fill-opacity=\"1\" stroke=\"#000000\" stroke-opacity=\"1\" stroke-width=\"3.2\"/>\n",
       "<circle clip-path=\"url(#clip352)\" cx=\"1895.55\" cy=\"698.44\" r=\"59\" fill=\"#f2f586\" fill-rule=\"evenodd\" fill-opacity=\"1\" stroke=\"#000000\" stroke-opacity=\"1\" stroke-width=\"3.2\"/>\n",
       "<circle clip-path=\"url(#clip352)\" cx=\"904.491\" cy=\"882.221\" r=\"49\" fill=\"#fb9e07\" fill-rule=\"evenodd\" fill-opacity=\"1\" stroke=\"#000000\" stroke-opacity=\"1\" stroke-width=\"3.2\"/>\n",
       "<circle clip-path=\"url(#clip352)\" cx=\"1482.61\" cy=\"698.44\" r=\"59\" fill=\"#f2f586\" fill-rule=\"evenodd\" fill-opacity=\"1\" stroke=\"#000000\" stroke-opacity=\"1\" stroke-width=\"3.2\"/>\n",
       "<circle clip-path=\"url(#clip352)\" cx=\"821.903\" cy=\"1066\" r=\"26\" fill=\"#912467\" fill-rule=\"evenodd\" fill-opacity=\"1\" stroke=\"#000000\" stroke-opacity=\"1\" stroke-width=\"3.2\"/>\n",
       "<circle clip-path=\"url(#clip352)\" cx=\"739.315\" cy=\"698.44\" r=\"57\" fill=\"#f1e966\" fill-rule=\"evenodd\" fill-opacity=\"1\" stroke=\"#000000\" stroke-opacity=\"1\" stroke-width=\"3.2\"/>\n",
       "<circle clip-path=\"url(#clip352)\" cx=\"1895.55\" cy=\"1066\" r=\"59\" fill=\"#f2f586\" fill-rule=\"evenodd\" fill-opacity=\"1\" stroke=\"#000000\" stroke-opacity=\"1\" stroke-width=\"3.2\"/>\n",
       "<circle clip-path=\"url(#clip352)\" cx=\"1647.78\" cy=\"85.838\" r=\"43\" fill=\"#f2741b\" fill-rule=\"evenodd\" fill-opacity=\"1\" stroke=\"#000000\" stroke-opacity=\"1\" stroke-width=\"3.2\"/>\n",
       "<circle clip-path=\"url(#clip352)\" cx=\"656.727\" cy=\"85.838\" r=\"43\" fill=\"#f2741b\" fill-rule=\"evenodd\" fill-opacity=\"1\" stroke=\"#000000\" stroke-opacity=\"1\" stroke-width=\"3.2\"/>\n",
       "<circle clip-path=\"url(#clip352)\" cx=\"821.903\" cy=\"1004.74\" r=\"33\" fill=\"#c03950\" fill-rule=\"evenodd\" fill-opacity=\"1\" stroke=\"#000000\" stroke-opacity=\"1\" stroke-width=\"3.2\"/>\n",
       "<circle clip-path=\"url(#clip352)\" cx=\"1317.43\" cy=\"820.961\" r=\"59\" fill=\"#f2f586\" fill-rule=\"evenodd\" fill-opacity=\"1\" stroke=\"#000000\" stroke-opacity=\"1\" stroke-width=\"3.2\"/>\n",
       "<circle clip-path=\"url(#clip352)\" cx=\"1730.37\" cy=\"575.92\" r=\"59\" fill=\"#f2f586\" fill-rule=\"evenodd\" fill-opacity=\"1\" stroke=\"#000000\" stroke-opacity=\"1\" stroke-width=\"3.2\"/>\n",
       "<circle clip-path=\"url(#clip352)\" cx=\"326.374\" cy=\"85.838\" r=\"43\" fill=\"#f2741b\" fill-rule=\"evenodd\" fill-opacity=\"1\" stroke=\"#000000\" stroke-opacity=\"1\" stroke-width=\"3.2\"/>\n",
       "<circle clip-path=\"url(#clip352)\" cx=\"1978.14\" cy=\"1249.78\" r=\"43\" fill=\"#f2751b\" fill-rule=\"evenodd\" fill-opacity=\"1\" stroke=\"#000000\" stroke-opacity=\"1\" stroke-width=\"3.2\"/>\n",
       "<circle clip-path=\"url(#clip352)\" cx=\"1730.37\" cy=\"943.481\" r=\"59\" fill=\"#f2f586\" fill-rule=\"evenodd\" fill-opacity=\"1\" stroke=\"#000000\" stroke-opacity=\"1\" stroke-width=\"3.2\"/>\n",
       "<circle clip-path=\"url(#clip352)\" cx=\"739.315\" cy=\"882.221\" r=\"44\" fill=\"#f2751b\" fill-rule=\"evenodd\" fill-opacity=\"1\" stroke=\"#000000\" stroke-opacity=\"1\" stroke-width=\"3.2\"/>\n",
       "<circle clip-path=\"url(#clip352)\" cx=\"656.727\" cy=\"1311.04\" r=\"5\" fill=\"#030211\" fill-rule=\"evenodd\" fill-opacity=\"1\" stroke=\"#000000\" stroke-opacity=\"1\" stroke-width=\"3.2\"/>\n",
       "<circle clip-path=\"url(#clip352)\" cx=\"1978.14\" cy=\"820.961\" r=\"59\" fill=\"#f2f586\" fill-rule=\"evenodd\" fill-opacity=\"1\" stroke=\"#000000\" stroke-opacity=\"1\" stroke-width=\"3.2\"/>\n",
       "<circle clip-path=\"url(#clip352)\" cx=\"904.491\" cy=\"208.358\" r=\"43\" fill=\"#f2751b\" fill-rule=\"evenodd\" fill-opacity=\"1\" stroke=\"#000000\" stroke-opacity=\"1\" stroke-width=\"3.2\"/>\n",
       "<circle clip-path=\"url(#clip352)\" cx=\"1812.96\" cy=\"882.221\" r=\"57\" fill=\"#f1e866\" fill-rule=\"evenodd\" fill-opacity=\"1\" stroke=\"#000000\" stroke-opacity=\"1\" stroke-width=\"3.2\"/>\n",
       "<circle clip-path=\"url(#clip352)\" cx=\"1895.55\" cy=\"147.098\" r=\"40\" fill=\"#e65d2e\" fill-rule=\"evenodd\" fill-opacity=\"1\" stroke=\"#000000\" stroke-opacity=\"1\" stroke-width=\"3.2\"/>\n",
       "<circle clip-path=\"url(#clip352)\" cx=\"904.491\" cy=\"1311.04\" r=\"3\" fill=\"#000003\" fill-rule=\"evenodd\" fill-opacity=\"1\" stroke=\"#000000\" stroke-opacity=\"1\" stroke-width=\"3.2\"/>\n",
       "<circle clip-path=\"url(#clip352)\" cx=\"1895.55\" cy=\"269.619\" r=\"49\" fill=\"#fb9e06\" fill-rule=\"evenodd\" fill-opacity=\"1\" stroke=\"#000000\" stroke-opacity=\"1\" stroke-width=\"3.2\"/>\n",
       "<circle clip-path=\"url(#clip352)\" cx=\"1069.67\" cy=\"208.358\" r=\"43\" fill=\"#f2751b\" fill-rule=\"evenodd\" fill-opacity=\"1\" stroke=\"#000000\" stroke-opacity=\"1\" stroke-width=\"3.2\"/>\n",
       "<circle clip-path=\"url(#clip352)\" cx=\"1069.67\" cy=\"1372.3\" r=\"3\" fill=\"#000003\" fill-rule=\"evenodd\" fill-opacity=\"1\" stroke=\"#000000\" stroke-opacity=\"1\" stroke-width=\"3.2\"/>\n",
       "<circle clip-path=\"url(#clip352)\" cx=\"1812.96\" cy=\"637.18\" r=\"59\" fill=\"#f2f586\" fill-rule=\"evenodd\" fill-opacity=\"1\" stroke=\"#000000\" stroke-opacity=\"1\" stroke-width=\"3.2\"/>\n",
       "<circle clip-path=\"url(#clip352)\" cx=\"1647.78\" cy=\"208.358\" r=\"43\" fill=\"#f2751b\" fill-rule=\"evenodd\" fill-opacity=\"1\" stroke=\"#000000\" stroke-opacity=\"1\" stroke-width=\"3.2\"/>\n",
       "<circle clip-path=\"url(#clip352)\" cx=\"1152.26\" cy=\"1004.74\" r=\"45\" fill=\"#f68210\" fill-rule=\"evenodd\" fill-opacity=\"1\" stroke=\"#000000\" stroke-opacity=\"1\" stroke-width=\"3.2\"/>\n",
       "<circle clip-path=\"url(#clip352)\" cx=\"491.551\" cy=\"85.838\" r=\"43\" fill=\"#f2741b\" fill-rule=\"evenodd\" fill-opacity=\"1\" stroke=\"#000000\" stroke-opacity=\"1\" stroke-width=\"3.2\"/>\n",
       "<circle clip-path=\"url(#clip352)\" cx=\"326.374\" cy=\"392.139\" r=\"56\" fill=\"#f5da4b\" fill-rule=\"evenodd\" fill-opacity=\"1\" stroke=\"#000000\" stroke-opacity=\"1\" stroke-width=\"3.2\"/>\n",
       "<circle clip-path=\"url(#clip352)\" cx=\"1234.84\" cy=\"943.481\" r=\"52\" fill=\"#fabc21\" fill-rule=\"evenodd\" fill-opacity=\"1\" stroke=\"#000000\" stroke-opacity=\"1\" stroke-width=\"3.2\"/>\n",
       "<circle clip-path=\"url(#clip352)\" cx=\"656.727\" cy=\"514.66\" r=\"57\" fill=\"#f1e966\" fill-rule=\"evenodd\" fill-opacity=\"1\" stroke=\"#000000\" stroke-opacity=\"1\" stroke-width=\"3.2\"/>\n",
       "<circle clip-path=\"url(#clip352)\" cx=\"1152.26\" cy=\"514.66\" r=\"57\" fill=\"#f1e966\" fill-rule=\"evenodd\" fill-opacity=\"1\" stroke=\"#000000\" stroke-opacity=\"1\" stroke-width=\"3.2\"/>\n",
       "<circle clip-path=\"url(#clip352)\" cx=\"656.727\" cy=\"392.139\" r=\"56\" fill=\"#f5da4b\" fill-rule=\"evenodd\" fill-opacity=\"1\" stroke=\"#000000\" stroke-opacity=\"1\" stroke-width=\"3.2\"/>\n",
       "<circle clip-path=\"url(#clip352)\" cx=\"2060.73\" cy=\"1249.78\" r=\"45\" fill=\"#f68210\" fill-rule=\"evenodd\" fill-opacity=\"1\" stroke=\"#000000\" stroke-opacity=\"1\" stroke-width=\"3.2\"/>\n",
       "<circle clip-path=\"url(#clip352)\" cx=\"739.315\" cy=\"1311.04\" r=\"5\" fill=\"#030211\" fill-rule=\"evenodd\" fill-opacity=\"1\" stroke=\"#000000\" stroke-opacity=\"1\" stroke-width=\"3.2\"/>\n",
       "<circle clip-path=\"url(#clip352)\" cx=\"1482.61\" cy=\"392.139\" r=\"56\" fill=\"#f5da4b\" fill-rule=\"evenodd\" fill-opacity=\"1\" stroke=\"#000000\" stroke-opacity=\"1\" stroke-width=\"3.2\"/>\n",
       "<circle clip-path=\"url(#clip352)\" cx=\"821.903\" cy=\"882.221\" r=\"44\" fill=\"#f2751b\" fill-rule=\"evenodd\" fill-opacity=\"1\" stroke=\"#000000\" stroke-opacity=\"1\" stroke-width=\"3.2\"/>\n",
       "<circle clip-path=\"url(#clip352)\" cx=\"739.315\" cy=\"1188.52\" r=\"3\" fill=\"#000003\" fill-rule=\"evenodd\" fill-opacity=\"1\" stroke=\"#000000\" stroke-opacity=\"1\" stroke-width=\"3.2\"/>\n",
       "<circle clip-path=\"url(#clip352)\" cx=\"1895.55\" cy=\"514.66\" r=\"57\" fill=\"#f1e966\" fill-rule=\"evenodd\" fill-opacity=\"1\" stroke=\"#000000\" stroke-opacity=\"1\" stroke-width=\"3.2\"/>\n",
       "<circle clip-path=\"url(#clip352)\" cx=\"491.551\" cy=\"1188.52\" r=\"3\" fill=\"#000003\" fill-rule=\"evenodd\" fill-opacity=\"1\" stroke=\"#000000\" stroke-opacity=\"1\" stroke-width=\"3.2\"/>\n",
       "<circle clip-path=\"url(#clip352)\" cx=\"987.079\" cy=\"1004.74\" r=\"40\" fill=\"#e65d2e\" fill-rule=\"evenodd\" fill-opacity=\"1\" stroke=\"#000000\" stroke-opacity=\"1\" stroke-width=\"3.2\"/>\n",
       "<circle clip-path=\"url(#clip352)\" cx=\"821.903\" cy=\"392.139\" r=\"56\" fill=\"#f5da4b\" fill-rule=\"evenodd\" fill-opacity=\"1\" stroke=\"#000000\" stroke-opacity=\"1\" stroke-width=\"3.2\"/>\n",
       "<circle clip-path=\"url(#clip352)\" cx=\"491.551\" cy=\"269.619\" r=\"49\" fill=\"#fb9e06\" fill-rule=\"evenodd\" fill-opacity=\"1\" stroke=\"#000000\" stroke-opacity=\"1\" stroke-width=\"3.2\"/>\n",
       "<circle clip-path=\"url(#clip352)\" cx=\"1234.84\" cy=\"575.92\" r=\"59\" fill=\"#f2f586\" fill-rule=\"evenodd\" fill-opacity=\"1\" stroke=\"#000000\" stroke-opacity=\"1\" stroke-width=\"3.2\"/>\n",
       "<circle clip-path=\"url(#clip352)\" cx=\"1565.2\" cy=\"943.481\" r=\"59\" fill=\"#f2f586\" fill-rule=\"evenodd\" fill-opacity=\"1\" stroke=\"#000000\" stroke-opacity=\"1\" stroke-width=\"3.2\"/>\n",
       "<circle clip-path=\"url(#clip352)\" cx=\"656.727\" cy=\"882.221\" r=\"43\" fill=\"#f2751b\" fill-rule=\"evenodd\" fill-opacity=\"1\" stroke=\"#000000\" stroke-opacity=\"1\" stroke-width=\"3.2\"/>\n",
       "<circle clip-path=\"url(#clip352)\" cx=\"1812.96\" cy=\"943.481\" r=\"59\" fill=\"#f2f586\" fill-rule=\"evenodd\" fill-opacity=\"1\" stroke=\"#000000\" stroke-opacity=\"1\" stroke-width=\"3.2\"/>\n",
       "<circle clip-path=\"url(#clip352)\" cx=\"574.139\" cy=\"1188.52\" r=\"3\" fill=\"#000003\" fill-rule=\"evenodd\" fill-opacity=\"1\" stroke=\"#000000\" stroke-opacity=\"1\" stroke-width=\"3.2\"/>\n",
       "<circle clip-path=\"url(#clip352)\" cx=\"326.374\" cy=\"1311.04\" r=\"5\" fill=\"#030211\" fill-rule=\"evenodd\" fill-opacity=\"1\" stroke=\"#000000\" stroke-opacity=\"1\" stroke-width=\"3.2\"/>\n",
       "<circle clip-path=\"url(#clip352)\" cx=\"904.491\" cy=\"269.619\" r=\"49\" fill=\"#fb9e06\" fill-rule=\"evenodd\" fill-opacity=\"1\" stroke=\"#000000\" stroke-opacity=\"1\" stroke-width=\"3.2\"/>\n",
       "<circle clip-path=\"url(#clip352)\" cx=\"987.079\" cy=\"882.221\" r=\"52\" fill=\"#fabc21\" fill-rule=\"evenodd\" fill-opacity=\"1\" stroke=\"#000000\" stroke-opacity=\"1\" stroke-width=\"3.2\"/>\n",
       "<circle clip-path=\"url(#clip352)\" cx=\"326.374\" cy=\"1372.3\" r=\"5\" fill=\"#030211\" fill-rule=\"evenodd\" fill-opacity=\"1\" stroke=\"#000000\" stroke-opacity=\"1\" stroke-width=\"3.2\"/>\n",
       "<circle clip-path=\"url(#clip352)\" cx=\"1482.61\" cy=\"85.838\" r=\"43\" fill=\"#f2741b\" fill-rule=\"evenodd\" fill-opacity=\"1\" stroke=\"#000000\" stroke-opacity=\"1\" stroke-width=\"3.2\"/>\n",
       "<circle clip-path=\"url(#clip352)\" cx=\"1317.43\" cy=\"882.221\" r=\"59\" fill=\"#f2f586\" fill-rule=\"evenodd\" fill-opacity=\"1\" stroke=\"#000000\" stroke-opacity=\"1\" stroke-width=\"3.2\"/>\n",
       "<circle clip-path=\"url(#clip352)\" cx=\"1730.37\" cy=\"514.66\" r=\"57\" fill=\"#f1e966\" fill-rule=\"evenodd\" fill-opacity=\"1\" stroke=\"#000000\" stroke-opacity=\"1\" stroke-width=\"3.2\"/>\n",
       "<circle clip-path=\"url(#clip352)\" cx=\"326.374\" cy=\"759.7\" r=\"42\" fill=\"#ed6825\" fill-rule=\"evenodd\" fill-opacity=\"1\" stroke=\"#000000\" stroke-opacity=\"1\" stroke-width=\"3.2\"/>\n",
       "<circle clip-path=\"url(#clip352)\" cx=\"491.551\" cy=\"943.481\" r=\"28\" fill=\"#9d2963\" fill-rule=\"evenodd\" fill-opacity=\"1\" stroke=\"#000000\" stroke-opacity=\"1\" stroke-width=\"3.2\"/>\n",
       "<circle clip-path=\"url(#clip352)\" cx=\"408.962\" cy=\"269.619\" r=\"49\" fill=\"#fb9e06\" fill-rule=\"evenodd\" fill-opacity=\"1\" stroke=\"#000000\" stroke-opacity=\"1\" stroke-width=\"3.2\"/>\n",
       "<circle clip-path=\"url(#clip352)\" cx=\"2060.73\" cy=\"1127.26\" r=\"57\" fill=\"#f1e966\" fill-rule=\"evenodd\" fill-opacity=\"1\" stroke=\"#000000\" stroke-opacity=\"1\" stroke-width=\"3.2\"/>\n",
       "<circle clip-path=\"url(#clip352)\" cx=\"1482.61\" cy=\"1188.52\" r=\"38\" fill=\"#de5237\" fill-rule=\"evenodd\" fill-opacity=\"1\" stroke=\"#000000\" stroke-opacity=\"1\" stroke-width=\"3.2\"/>\n",
       "<circle clip-path=\"url(#clip352)\" cx=\"408.962\" cy=\"1066\" r=\"3\" fill=\"#000003\" fill-rule=\"evenodd\" fill-opacity=\"1\" stroke=\"#000000\" stroke-opacity=\"1\" stroke-width=\"3.2\"/>\n",
       "<circle clip-path=\"url(#clip352)\" cx=\"1978.14\" cy=\"943.481\" r=\"57\" fill=\"#f1e866\" fill-rule=\"evenodd\" fill-opacity=\"1\" stroke=\"#000000\" stroke-opacity=\"1\" stroke-width=\"3.2\"/>\n",
       "<circle clip-path=\"url(#clip352)\" cx=\"1565.2\" cy=\"637.18\" r=\"59\" fill=\"#f2f586\" fill-rule=\"evenodd\" fill-opacity=\"1\" stroke=\"#000000\" stroke-opacity=\"1\" stroke-width=\"3.2\"/>\n",
       "<circle clip-path=\"url(#clip352)\" cx=\"1317.43\" cy=\"1311.04\" r=\"3\" fill=\"#000003\" fill-rule=\"evenodd\" fill-opacity=\"1\" stroke=\"#000000\" stroke-opacity=\"1\" stroke-width=\"3.2\"/>\n",
       "<circle clip-path=\"url(#clip352)\" cx=\"739.315\" cy=\"392.139\" r=\"56\" fill=\"#f5da4b\" fill-rule=\"evenodd\" fill-opacity=\"1\" stroke=\"#000000\" stroke-opacity=\"1\" stroke-width=\"3.2\"/>\n",
       "<circle clip-path=\"url(#clip352)\" cx=\"1730.37\" cy=\"269.619\" r=\"49\" fill=\"#fb9e06\" fill-rule=\"evenodd\" fill-opacity=\"1\" stroke=\"#000000\" stroke-opacity=\"1\" stroke-width=\"3.2\"/>\n",
       "<circle clip-path=\"url(#clip352)\" cx=\"987.079\" cy=\"147.098\" r=\"40\" fill=\"#e65d2e\" fill-rule=\"evenodd\" fill-opacity=\"1\" stroke=\"#000000\" stroke-opacity=\"1\" stroke-width=\"3.2\"/>\n",
       "<circle clip-path=\"url(#clip352)\" cx=\"821.903\" cy=\"85.838\" r=\"43\" fill=\"#f2741b\" fill-rule=\"evenodd\" fill-opacity=\"1\" stroke=\"#000000\" stroke-opacity=\"1\" stroke-width=\"3.2\"/>\n",
       "<circle clip-path=\"url(#clip352)\" cx=\"656.727\" cy=\"453.399\" r=\"56\" fill=\"#f5da4b\" fill-rule=\"evenodd\" fill-opacity=\"1\" stroke=\"#000000\" stroke-opacity=\"1\" stroke-width=\"3.2\"/>\n",
       "<circle clip-path=\"url(#clip352)\" cx=\"1152.26\" cy=\"330.879\" r=\"52\" fill=\"#fabc21\" fill-rule=\"evenodd\" fill-opacity=\"1\" stroke=\"#000000\" stroke-opacity=\"1\" stroke-width=\"3.2\"/>\n",
       "<circle clip-path=\"url(#clip352)\" cx=\"821.903\" cy=\"1188.52\" r=\"3\" fill=\"#000003\" fill-rule=\"evenodd\" fill-opacity=\"1\" stroke=\"#000000\" stroke-opacity=\"1\" stroke-width=\"3.2\"/>\n",
       "<circle clip-path=\"url(#clip352)\" cx=\"574.139\" cy=\"943.481\" r=\"30\" fill=\"#a92e5e\" fill-rule=\"evenodd\" fill-opacity=\"1\" stroke=\"#000000\" stroke-opacity=\"1\" stroke-width=\"3.2\"/>\n",
       "<circle clip-path=\"url(#clip352)\" cx=\"326.374\" cy=\"208.358\" r=\"43\" fill=\"#f2751b\" fill-rule=\"evenodd\" fill-opacity=\"1\" stroke=\"#000000\" stroke-opacity=\"1\" stroke-width=\"3.2\"/>\n",
       "<circle clip-path=\"url(#clip352)\" cx=\"821.903\" cy=\"330.879\" r=\"52\" fill=\"#fabc21\" fill-rule=\"evenodd\" fill-opacity=\"1\" stroke=\"#000000\" stroke-opacity=\"1\" stroke-width=\"3.2\"/>\n",
       "<circle clip-path=\"url(#clip352)\" cx=\"2060.73\" cy=\"759.7\" r=\"59\" fill=\"#f2f586\" fill-rule=\"evenodd\" fill-opacity=\"1\" stroke=\"#000000\" stroke-opacity=\"1\" stroke-width=\"3.2\"/>\n",
       "<circle clip-path=\"url(#clip352)\" cx=\"904.491\" cy=\"943.481\" r=\"42\" fill=\"#ed6825\" fill-rule=\"evenodd\" fill-opacity=\"1\" stroke=\"#000000\" stroke-opacity=\"1\" stroke-width=\"3.2\"/>\n",
       "<circle clip-path=\"url(#clip352)\" cx=\"1400.02\" cy=\"1066\" r=\"45\" fill=\"#f68210\" fill-rule=\"evenodd\" fill-opacity=\"1\" stroke=\"#000000\" stroke-opacity=\"1\" stroke-width=\"3.2\"/>\n",
       "<circle clip-path=\"url(#clip352)\" cx=\"1978.14\" cy=\"392.139\" r=\"56\" fill=\"#f5da4b\" fill-rule=\"evenodd\" fill-opacity=\"1\" stroke=\"#000000\" stroke-opacity=\"1\" stroke-width=\"3.2\"/>\n",
       "<circle clip-path=\"url(#clip352)\" cx=\"1978.14\" cy=\"637.18\" r=\"59\" fill=\"#f2f586\" fill-rule=\"evenodd\" fill-opacity=\"1\" stroke=\"#000000\" stroke-opacity=\"1\" stroke-width=\"3.2\"/>\n",
       "<circle clip-path=\"url(#clip352)\" cx=\"656.727\" cy=\"208.358\" r=\"43\" fill=\"#f2751b\" fill-rule=\"evenodd\" fill-opacity=\"1\" stroke=\"#000000\" stroke-opacity=\"1\" stroke-width=\"3.2\"/>\n",
       "<circle clip-path=\"url(#clip352)\" cx=\"1317.43\" cy=\"575.92\" r=\"59\" fill=\"#f2f586\" fill-rule=\"evenodd\" fill-opacity=\"1\" stroke=\"#000000\" stroke-opacity=\"1\" stroke-width=\"3.2\"/>\n",
       "<circle clip-path=\"url(#clip352)\" cx=\"656.727\" cy=\"1188.52\" r=\"3\" fill=\"#000003\" fill-rule=\"evenodd\" fill-opacity=\"1\" stroke=\"#000000\" stroke-opacity=\"1\" stroke-width=\"3.2\"/>\n",
       "<circle clip-path=\"url(#clip352)\" cx=\"408.962\" cy=\"943.481\" r=\"17\" fill=\"#530e6d\" fill-rule=\"evenodd\" fill-opacity=\"1\" stroke=\"#000000\" stroke-opacity=\"1\" stroke-width=\"3.2\"/>\n",
       "<circle clip-path=\"url(#clip352)\" cx=\"1317.43\" cy=\"392.139\" r=\"56\" fill=\"#f5da4b\" fill-rule=\"evenodd\" fill-opacity=\"1\" stroke=\"#000000\" stroke-opacity=\"1\" stroke-width=\"3.2\"/>\n",
       "<circle clip-path=\"url(#clip352)\" cx=\"987.079\" cy=\"1188.52\" r=\"10\" fill=\"#1f0c47\" fill-rule=\"evenodd\" fill-opacity=\"1\" stroke=\"#000000\" stroke-opacity=\"1\" stroke-width=\"3.2\"/>\n",
       "<circle clip-path=\"url(#clip352)\" cx=\"326.374\" cy=\"330.879\" r=\"52\" fill=\"#fabc21\" fill-rule=\"evenodd\" fill-opacity=\"1\" stroke=\"#000000\" stroke-opacity=\"1\" stroke-width=\"3.2\"/>\n",
       "<circle clip-path=\"url(#clip352)\" cx=\"1482.61\" cy=\"575.92\" r=\"59\" fill=\"#f2f586\" fill-rule=\"evenodd\" fill-opacity=\"1\" stroke=\"#000000\" stroke-opacity=\"1\" stroke-width=\"3.2\"/>\n",
       "<circle clip-path=\"url(#clip352)\" cx=\"821.903\" cy=\"943.481\" r=\"40\" fill=\"#e65d2e\" fill-rule=\"evenodd\" fill-opacity=\"1\" stroke=\"#000000\" stroke-opacity=\"1\" stroke-width=\"3.2\"/>\n",
       "<circle clip-path=\"url(#clip352)\" cx=\"987.079\" cy=\"85.838\" r=\"43\" fill=\"#f2741b\" fill-rule=\"evenodd\" fill-opacity=\"1\" stroke=\"#000000\" stroke-opacity=\"1\" stroke-width=\"3.2\"/>\n",
       "<circle clip-path=\"url(#clip352)\" cx=\"1812.96\" cy=\"392.139\" r=\"56\" fill=\"#f5da4b\" fill-rule=\"evenodd\" fill-opacity=\"1\" stroke=\"#000000\" stroke-opacity=\"1\" stroke-width=\"3.2\"/>\n",
       "<circle clip-path=\"url(#clip352)\" cx=\"1978.14\" cy=\"147.098\" r=\"40\" fill=\"#e65d2e\" fill-rule=\"evenodd\" fill-opacity=\"1\" stroke=\"#000000\" stroke-opacity=\"1\" stroke-width=\"3.2\"/>\n",
       "<circle clip-path=\"url(#clip352)\" cx=\"2060.73\" cy=\"453.399\" r=\"56\" fill=\"#f5da4b\" fill-rule=\"evenodd\" fill-opacity=\"1\" stroke=\"#000000\" stroke-opacity=\"1\" stroke-width=\"3.2\"/>\n",
       "<circle clip-path=\"url(#clip352)\" cx=\"1647.78\" cy=\"698.44\" r=\"59\" fill=\"#f2f586\" fill-rule=\"evenodd\" fill-opacity=\"1\" stroke=\"#000000\" stroke-opacity=\"1\" stroke-width=\"3.2\"/>\n",
       "<circle clip-path=\"url(#clip352)\" cx=\"574.139\" cy=\"882.221\" r=\"37\" fill=\"#d54940\" fill-rule=\"evenodd\" fill-opacity=\"1\" stroke=\"#000000\" stroke-opacity=\"1\" stroke-width=\"3.2\"/>\n",
       "<circle clip-path=\"url(#clip352)\" cx=\"1565.2\" cy=\"1249.78\" r=\"33\" fill=\"#c03950\" fill-rule=\"evenodd\" fill-opacity=\"1\" stroke=\"#000000\" stroke-opacity=\"1\" stroke-width=\"3.2\"/>\n",
       "<circle clip-path=\"url(#clip352)\" cx=\"491.551\" cy=\"637.18\" r=\"57\" fill=\"#f1e966\" fill-rule=\"evenodd\" fill-opacity=\"1\" stroke=\"#000000\" stroke-opacity=\"1\" stroke-width=\"3.2\"/>\n",
       "<circle clip-path=\"url(#clip352)\" cx=\"1069.67\" cy=\"1066\" r=\"38\" fill=\"#de5237\" fill-rule=\"evenodd\" fill-opacity=\"1\" stroke=\"#000000\" stroke-opacity=\"1\" stroke-width=\"3.2\"/>\n",
       "<circle clip-path=\"url(#clip352)\" cx=\"2060.73\" cy=\"1372.3\" r=\"37\" fill=\"#d54940\" fill-rule=\"evenodd\" fill-opacity=\"1\" stroke=\"#000000\" stroke-opacity=\"1\" stroke-width=\"3.2\"/>\n",
       "<circle clip-path=\"url(#clip352)\" cx=\"1647.78\" cy=\"1127.26\" r=\"44\" fill=\"#f2751b\" fill-rule=\"evenodd\" fill-opacity=\"1\" stroke=\"#000000\" stroke-opacity=\"1\" stroke-width=\"3.2\"/>\n",
       "<circle clip-path=\"url(#clip352)\" cx=\"1895.55\" cy=\"759.7\" r=\"59\" fill=\"#f2f586\" fill-rule=\"evenodd\" fill-opacity=\"1\" stroke=\"#000000\" stroke-opacity=\"1\" stroke-width=\"3.2\"/>\n",
       "<circle clip-path=\"url(#clip352)\" cx=\"1482.61\" cy=\"147.098\" r=\"40\" fill=\"#e65d2e\" fill-rule=\"evenodd\" fill-opacity=\"1\" stroke=\"#000000\" stroke-opacity=\"1\" stroke-width=\"3.2\"/>\n",
       "<circle clip-path=\"url(#clip352)\" cx=\"987.079\" cy=\"269.619\" r=\"49\" fill=\"#fb9e06\" fill-rule=\"evenodd\" fill-opacity=\"1\" stroke=\"#000000\" stroke-opacity=\"1\" stroke-width=\"3.2\"/>\n",
       "<circle clip-path=\"url(#clip352)\" cx=\"1565.2\" cy=\"759.7\" r=\"59\" fill=\"#f2f586\" fill-rule=\"evenodd\" fill-opacity=\"1\" stroke=\"#000000\" stroke-opacity=\"1\" stroke-width=\"3.2\"/>\n",
       "<circle clip-path=\"url(#clip352)\" cx=\"656.727\" cy=\"575.92\" r=\"59\" fill=\"#f2f586\" fill-rule=\"evenodd\" fill-opacity=\"1\" stroke=\"#000000\" stroke-opacity=\"1\" stroke-width=\"3.2\"/>\n",
       "<circle clip-path=\"url(#clip352)\" cx=\"2060.73\" cy=\"575.92\" r=\"59\" fill=\"#f2f586\" fill-rule=\"evenodd\" fill-opacity=\"1\" stroke=\"#000000\" stroke-opacity=\"1\" stroke-width=\"3.2\"/>\n",
       "<circle clip-path=\"url(#clip352)\" cx=\"1069.67\" cy=\"882.221\" r=\"54\" fill=\"#f8cb34\" fill-rule=\"evenodd\" fill-opacity=\"1\" stroke=\"#000000\" stroke-opacity=\"1\" stroke-width=\"3.2\"/>\n",
       "<circle clip-path=\"url(#clip352)\" cx=\"821.903\" cy=\"453.399\" r=\"56\" fill=\"#f5da4b\" fill-rule=\"evenodd\" fill-opacity=\"1\" stroke=\"#000000\" stroke-opacity=\"1\" stroke-width=\"3.2\"/>\n",
       "<circle clip-path=\"url(#clip352)\" cx=\"821.903\" cy=\"208.358\" r=\"43\" fill=\"#f2751b\" fill-rule=\"evenodd\" fill-opacity=\"1\" stroke=\"#000000\" stroke-opacity=\"1\" stroke-width=\"3.2\"/>\n",
       "<circle clip-path=\"url(#clip352)\" cx=\"1647.78\" cy=\"1066\" r=\"57\" fill=\"#f1e966\" fill-rule=\"evenodd\" fill-opacity=\"1\" stroke=\"#000000\" stroke-opacity=\"1\" stroke-width=\"3.2\"/>\n",
       "<circle clip-path=\"url(#clip352)\" cx=\"1895.55\" cy=\"943.481\" r=\"57\" fill=\"#f1e866\" fill-rule=\"evenodd\" fill-opacity=\"1\" stroke=\"#000000\" stroke-opacity=\"1\" stroke-width=\"3.2\"/>\n",
       "<circle clip-path=\"url(#clip352)\" cx=\"821.903\" cy=\"1127.26\" r=\"12\" fill=\"#2c0a58\" fill-rule=\"evenodd\" fill-opacity=\"1\" stroke=\"#000000\" stroke-opacity=\"1\" stroke-width=\"3.2\"/>\n",
       "<circle clip-path=\"url(#clip352)\" cx=\"1152.26\" cy=\"575.92\" r=\"59\" fill=\"#f2f586\" fill-rule=\"evenodd\" fill-opacity=\"1\" stroke=\"#000000\" stroke-opacity=\"1\" stroke-width=\"3.2\"/>\n",
       "<circle clip-path=\"url(#clip352)\" cx=\"1152.26\" cy=\"698.44\" r=\"59\" fill=\"#f2f586\" fill-rule=\"evenodd\" fill-opacity=\"1\" stroke=\"#000000\" stroke-opacity=\"1\" stroke-width=\"3.2\"/>\n",
       "<circle clip-path=\"url(#clip352)\" cx=\"408.962\" cy=\"1249.78\" r=\"5\" fill=\"#030211\" fill-rule=\"evenodd\" fill-opacity=\"1\" stroke=\"#000000\" stroke-opacity=\"1\" stroke-width=\"3.2\"/>\n",
       "<circle clip-path=\"url(#clip352)\" cx=\"987.079\" cy=\"820.961\" r=\"54\" fill=\"#f8cb34\" fill-rule=\"evenodd\" fill-opacity=\"1\" stroke=\"#000000\" stroke-opacity=\"1\" stroke-width=\"3.2\"/>\n",
       "<circle clip-path=\"url(#clip352)\" cx=\"1482.61\" cy=\"1372.3\" r=\"3\" fill=\"#000003\" fill-rule=\"evenodd\" fill-opacity=\"1\" stroke=\"#000000\" stroke-opacity=\"1\" stroke-width=\"3.2\"/>\n",
       "<circle clip-path=\"url(#clip352)\" cx=\"1647.78\" cy=\"637.18\" r=\"59\" fill=\"#f2f586\" fill-rule=\"evenodd\" fill-opacity=\"1\" stroke=\"#000000\" stroke-opacity=\"1\" stroke-width=\"3.2\"/>\n",
       "<circle clip-path=\"url(#clip352)\" cx=\"1895.55\" cy=\"1188.52\" r=\"50\" fill=\"#fbad11\" fill-rule=\"evenodd\" fill-opacity=\"1\" stroke=\"#000000\" stroke-opacity=\"1\" stroke-width=\"3.2\"/>\n",
       "<circle clip-path=\"url(#clip352)\" cx=\"1895.55\" cy=\"637.18\" r=\"59\" fill=\"#f2f586\" fill-rule=\"evenodd\" fill-opacity=\"1\" stroke=\"#000000\" stroke-opacity=\"1\" stroke-width=\"3.2\"/>\n",
       "<circle clip-path=\"url(#clip352)\" cx=\"2060.73\" cy=\"637.18\" r=\"59\" fill=\"#f2f586\" fill-rule=\"evenodd\" fill-opacity=\"1\" stroke=\"#000000\" stroke-opacity=\"1\" stroke-width=\"3.2\"/>\n",
       "<circle clip-path=\"url(#clip352)\" cx=\"987.079\" cy=\"698.44\" r=\"61\" fill=\"#fcfea4\" fill-rule=\"evenodd\" fill-opacity=\"1\" stroke=\"#000000\" stroke-opacity=\"1\" stroke-width=\"3.2\"/>\n",
       "<circle clip-path=\"url(#clip352)\" cx=\"491.551\" cy=\"759.7\" r=\"45\" fill=\"#f68210\" fill-rule=\"evenodd\" fill-opacity=\"1\" stroke=\"#000000\" stroke-opacity=\"1\" stroke-width=\"3.2\"/>\n",
       "<circle clip-path=\"url(#clip352)\" cx=\"574.139\" cy=\"392.139\" r=\"56\" fill=\"#f5da4b\" fill-rule=\"evenodd\" fill-opacity=\"1\" stroke=\"#000000\" stroke-opacity=\"1\" stroke-width=\"3.2\"/>\n",
       "<circle clip-path=\"url(#clip352)\" cx=\"1317.43\" cy=\"1249.78\" r=\"16\" fill=\"#470a69\" fill-rule=\"evenodd\" fill-opacity=\"1\" stroke=\"#000000\" stroke-opacity=\"1\" stroke-width=\"3.2\"/>\n",
       "<circle clip-path=\"url(#clip352)\" cx=\"1069.67\" cy=\"943.481\" r=\"44\" fill=\"#f2751b\" fill-rule=\"evenodd\" fill-opacity=\"1\" stroke=\"#000000\" stroke-opacity=\"1\" stroke-width=\"3.2\"/>\n",
       "<circle clip-path=\"url(#clip352)\" cx=\"987.079\" cy=\"1066\" r=\"33\" fill=\"#c03950\" fill-rule=\"evenodd\" fill-opacity=\"1\" stroke=\"#000000\" stroke-opacity=\"1\" stroke-width=\"3.2\"/>\n",
       "<circle clip-path=\"url(#clip352)\" cx=\"987.079\" cy=\"514.66\" r=\"57\" fill=\"#f1e966\" fill-rule=\"evenodd\" fill-opacity=\"1\" stroke=\"#000000\" stroke-opacity=\"1\" stroke-width=\"3.2\"/>\n",
       "<circle clip-path=\"url(#clip352)\" cx=\"1812.96\" cy=\"575.92\" r=\"59\" fill=\"#f2f586\" fill-rule=\"evenodd\" fill-opacity=\"1\" stroke=\"#000000\" stroke-opacity=\"1\" stroke-width=\"3.2\"/>\n",
       "<circle clip-path=\"url(#clip352)\" cx=\"1400.02\" cy=\"330.879\" r=\"52\" fill=\"#fabc21\" fill-rule=\"evenodd\" fill-opacity=\"1\" stroke=\"#000000\" stroke-opacity=\"1\" stroke-width=\"3.2\"/>\n",
       "<circle clip-path=\"url(#clip352)\" cx=\"326.374\" cy=\"575.92\" r=\"57\" fill=\"#f1e966\" fill-rule=\"evenodd\" fill-opacity=\"1\" stroke=\"#000000\" stroke-opacity=\"1\" stroke-width=\"3.2\"/>\n",
       "<circle clip-path=\"url(#clip352)\" cx=\"904.491\" cy=\"147.098\" r=\"40\" fill=\"#e65d2e\" fill-rule=\"evenodd\" fill-opacity=\"1\" stroke=\"#000000\" stroke-opacity=\"1\" stroke-width=\"3.2\"/>\n",
       "<circle clip-path=\"url(#clip352)\" cx=\"2060.73\" cy=\"882.221\" r=\"57\" fill=\"#f1e866\" fill-rule=\"evenodd\" fill-opacity=\"1\" stroke=\"#000000\" stroke-opacity=\"1\" stroke-width=\"3.2\"/>\n",
       "<circle clip-path=\"url(#clip352)\" cx=\"904.491\" cy=\"392.139\" r=\"56\" fill=\"#f5da4b\" fill-rule=\"evenodd\" fill-opacity=\"1\" stroke=\"#000000\" stroke-opacity=\"1\" stroke-width=\"3.2\"/>\n",
       "<circle clip-path=\"url(#clip352)\" cx=\"2060.73\" cy=\"1004.74\" r=\"57\" fill=\"#f1e866\" fill-rule=\"evenodd\" fill-opacity=\"1\" stroke=\"#000000\" stroke-opacity=\"1\" stroke-width=\"3.2\"/>\n",
       "<circle clip-path=\"url(#clip352)\" cx=\"821.903\" cy=\"1249.78\" r=\"3\" fill=\"#000003\" fill-rule=\"evenodd\" fill-opacity=\"1\" stroke=\"#000000\" stroke-opacity=\"1\" stroke-width=\"3.2\"/>\n",
       "<circle clip-path=\"url(#clip352)\" cx=\"739.315\" cy=\"943.481\" r=\"38\" fill=\"#de5237\" fill-rule=\"evenodd\" fill-opacity=\"1\" stroke=\"#000000\" stroke-opacity=\"1\" stroke-width=\"3.2\"/>\n",
       "<circle clip-path=\"url(#clip352)\" cx=\"574.139\" cy=\"1372.3\" r=\"5\" fill=\"#030211\" fill-rule=\"evenodd\" fill-opacity=\"1\" stroke=\"#000000\" stroke-opacity=\"1\" stroke-width=\"3.2\"/>\n",
       "<circle clip-path=\"url(#clip352)\" cx=\"1152.26\" cy=\"820.961\" r=\"59\" fill=\"#f2f586\" fill-rule=\"evenodd\" fill-opacity=\"1\" stroke=\"#000000\" stroke-opacity=\"1\" stroke-width=\"3.2\"/>\n",
       "<circle clip-path=\"url(#clip352)\" cx=\"2060.73\" cy=\"943.481\" r=\"57\" fill=\"#f1e866\" fill-rule=\"evenodd\" fill-opacity=\"1\" stroke=\"#000000\" stroke-opacity=\"1\" stroke-width=\"3.2\"/>\n",
       "<circle clip-path=\"url(#clip352)\" cx=\"904.491\" cy=\"759.7\" r=\"57\" fill=\"#f1e966\" fill-rule=\"evenodd\" fill-opacity=\"1\" stroke=\"#000000\" stroke-opacity=\"1\" stroke-width=\"3.2\"/>\n",
       "<circle clip-path=\"url(#clip352)\" cx=\"1812.96\" cy=\"820.961\" r=\"59\" fill=\"#f2f586\" fill-rule=\"evenodd\" fill-opacity=\"1\" stroke=\"#000000\" stroke-opacity=\"1\" stroke-width=\"3.2\"/>\n",
       "<circle clip-path=\"url(#clip352)\" cx=\"739.315\" cy=\"575.92\" r=\"59\" fill=\"#f2f586\" fill-rule=\"evenodd\" fill-opacity=\"1\" stroke=\"#000000\" stroke-opacity=\"1\" stroke-width=\"3.2\"/>\n",
       "<circle clip-path=\"url(#clip352)\" cx=\"574.139\" cy=\"698.44\" r=\"52\" fill=\"#fabc21\" fill-rule=\"evenodd\" fill-opacity=\"1\" stroke=\"#000000\" stroke-opacity=\"1\" stroke-width=\"3.2\"/>\n",
       "<circle clip-path=\"url(#clip352)\" cx=\"1234.84\" cy=\"453.399\" r=\"56\" fill=\"#f5da4b\" fill-rule=\"evenodd\" fill-opacity=\"1\" stroke=\"#000000\" stroke-opacity=\"1\" stroke-width=\"3.2\"/>\n",
       "<circle clip-path=\"url(#clip352)\" cx=\"1069.67\" cy=\"392.139\" r=\"56\" fill=\"#f5da4b\" fill-rule=\"evenodd\" fill-opacity=\"1\" stroke=\"#000000\" stroke-opacity=\"1\" stroke-width=\"3.2\"/>\n",
       "<circle clip-path=\"url(#clip352)\" cx=\"987.079\" cy=\"943.481\" r=\"44\" fill=\"#f2751b\" fill-rule=\"evenodd\" fill-opacity=\"1\" stroke=\"#000000\" stroke-opacity=\"1\" stroke-width=\"3.2\"/>\n",
       "<circle clip-path=\"url(#clip352)\" cx=\"904.491\" cy=\"575.92\" r=\"59\" fill=\"#f2f586\" fill-rule=\"evenodd\" fill-opacity=\"1\" stroke=\"#000000\" stroke-opacity=\"1\" stroke-width=\"3.2\"/>\n",
       "<circle clip-path=\"url(#clip352)\" cx=\"1730.37\" cy=\"698.44\" r=\"59\" fill=\"#f2f586\" fill-rule=\"evenodd\" fill-opacity=\"1\" stroke=\"#000000\" stroke-opacity=\"1\" stroke-width=\"3.2\"/>\n",
       "<circle clip-path=\"url(#clip352)\" cx=\"1400.02\" cy=\"85.838\" r=\"43\" fill=\"#f2741b\" fill-rule=\"evenodd\" fill-opacity=\"1\" stroke=\"#000000\" stroke-opacity=\"1\" stroke-width=\"3.2\"/>\n",
       "<circle clip-path=\"url(#clip352)\" cx=\"1152.26\" cy=\"637.18\" r=\"59\" fill=\"#f2f586\" fill-rule=\"evenodd\" fill-opacity=\"1\" stroke=\"#000000\" stroke-opacity=\"1\" stroke-width=\"3.2\"/>\n",
       "<circle clip-path=\"url(#clip352)\" cx=\"1482.61\" cy=\"882.221\" r=\"59\" fill=\"#f2f586\" fill-rule=\"evenodd\" fill-opacity=\"1\" stroke=\"#000000\" stroke-opacity=\"1\" stroke-width=\"3.2\"/>\n",
       "<circle clip-path=\"url(#clip352)\" cx=\"1730.37\" cy=\"330.879\" r=\"52\" fill=\"#fabc21\" fill-rule=\"evenodd\" fill-opacity=\"1\" stroke=\"#000000\" stroke-opacity=\"1\" stroke-width=\"3.2\"/>\n",
       "<circle clip-path=\"url(#clip352)\" cx=\"1152.26\" cy=\"882.221\" r=\"54\" fill=\"#f8cb34\" fill-rule=\"evenodd\" fill-opacity=\"1\" stroke=\"#000000\" stroke-opacity=\"1\" stroke-width=\"3.2\"/>\n",
       "<circle clip-path=\"url(#clip352)\" cx=\"408.962\" cy=\"1188.52\" r=\"5\" fill=\"#030211\" fill-rule=\"evenodd\" fill-opacity=\"1\" stroke=\"#000000\" stroke-opacity=\"1\" stroke-width=\"3.2\"/>\n",
       "<circle clip-path=\"url(#clip352)\" cx=\"1647.78\" cy=\"330.879\" r=\"52\" fill=\"#fabc21\" fill-rule=\"evenodd\" fill-opacity=\"1\" stroke=\"#000000\" stroke-opacity=\"1\" stroke-width=\"3.2\"/>\n",
       "<circle clip-path=\"url(#clip352)\" cx=\"1152.26\" cy=\"759.7\" r=\"59\" fill=\"#f2f586\" fill-rule=\"evenodd\" fill-opacity=\"1\" stroke=\"#000000\" stroke-opacity=\"1\" stroke-width=\"3.2\"/>\n",
       "<circle clip-path=\"url(#clip352)\" cx=\"739.315\" cy=\"85.838\" r=\"43\" fill=\"#f2741b\" fill-rule=\"evenodd\" fill-opacity=\"1\" stroke=\"#000000\" stroke-opacity=\"1\" stroke-width=\"3.2\"/>\n",
       "<circle clip-path=\"url(#clip352)\" cx=\"1400.02\" cy=\"575.92\" r=\"59\" fill=\"#f2f586\" fill-rule=\"evenodd\" fill-opacity=\"1\" stroke=\"#000000\" stroke-opacity=\"1\" stroke-width=\"3.2\"/>\n",
       "<circle clip-path=\"url(#clip352)\" cx=\"1069.67\" cy=\"1004.74\" r=\"42\" fill=\"#ed6825\" fill-rule=\"evenodd\" fill-opacity=\"1\" stroke=\"#000000\" stroke-opacity=\"1\" stroke-width=\"3.2\"/>\n",
       "<circle clip-path=\"url(#clip352)\" cx=\"904.491\" cy=\"820.961\" r=\"54\" fill=\"#f8cb34\" fill-rule=\"evenodd\" fill-opacity=\"1\" stroke=\"#000000\" stroke-opacity=\"1\" stroke-width=\"3.2\"/>\n",
       "<circle clip-path=\"url(#clip352)\" cx=\"1069.67\" cy=\"637.18\" r=\"59\" fill=\"#f2f586\" fill-rule=\"evenodd\" fill-opacity=\"1\" stroke=\"#000000\" stroke-opacity=\"1\" stroke-width=\"3.2\"/>\n",
       "<circle clip-path=\"url(#clip352)\" cx=\"1895.55\" cy=\"453.399\" r=\"56\" fill=\"#f5da4b\" fill-rule=\"evenodd\" fill-opacity=\"1\" stroke=\"#000000\" stroke-opacity=\"1\" stroke-width=\"3.2\"/>\n",
       "<circle clip-path=\"url(#clip352)\" cx=\"1317.43\" cy=\"453.399\" r=\"56\" fill=\"#f5da4b\" fill-rule=\"evenodd\" fill-opacity=\"1\" stroke=\"#000000\" stroke-opacity=\"1\" stroke-width=\"3.2\"/>\n",
       "<circle clip-path=\"url(#clip352)\" cx=\"739.315\" cy=\"330.879\" r=\"52\" fill=\"#fabc21\" fill-rule=\"evenodd\" fill-opacity=\"1\" stroke=\"#000000\" stroke-opacity=\"1\" stroke-width=\"3.2\"/>\n",
       "<circle clip-path=\"url(#clip352)\" cx=\"1978.14\" cy=\"1188.52\" r=\"56\" fill=\"#f5da4b\" fill-rule=\"evenodd\" fill-opacity=\"1\" stroke=\"#000000\" stroke-opacity=\"1\" stroke-width=\"3.2\"/>\n",
       "<circle clip-path=\"url(#clip352)\" cx=\"1978.14\" cy=\"882.221\" r=\"57\" fill=\"#f1e866\" fill-rule=\"evenodd\" fill-opacity=\"1\" stroke=\"#000000\" stroke-opacity=\"1\" stroke-width=\"3.2\"/>\n",
       "<circle clip-path=\"url(#clip352)\" cx=\"1978.14\" cy=\"1372.3\" r=\"37\" fill=\"#d54940\" fill-rule=\"evenodd\" fill-opacity=\"1\" stroke=\"#000000\" stroke-opacity=\"1\" stroke-width=\"3.2\"/>\n",
       "<circle clip-path=\"url(#clip352)\" cx=\"1647.78\" cy=\"943.481\" r=\"59\" fill=\"#f2f586\" fill-rule=\"evenodd\" fill-opacity=\"1\" stroke=\"#000000\" stroke-opacity=\"1\" stroke-width=\"3.2\"/>\n",
       "<circle clip-path=\"url(#clip352)\" cx=\"1730.37\" cy=\"820.961\" r=\"59\" fill=\"#f2f586\" fill-rule=\"evenodd\" fill-opacity=\"1\" stroke=\"#000000\" stroke-opacity=\"1\" stroke-width=\"3.2\"/>\n",
       "<circle clip-path=\"url(#clip352)\" cx=\"1647.78\" cy=\"575.92\" r=\"59\" fill=\"#f2f586\" fill-rule=\"evenodd\" fill-opacity=\"1\" stroke=\"#000000\" stroke-opacity=\"1\" stroke-width=\"3.2\"/>\n",
       "<circle clip-path=\"url(#clip352)\" cx=\"408.962\" cy=\"392.139\" r=\"56\" fill=\"#f5da4b\" fill-rule=\"evenodd\" fill-opacity=\"1\" stroke=\"#000000\" stroke-opacity=\"1\" stroke-width=\"3.2\"/>\n",
       "<circle clip-path=\"url(#clip352)\" cx=\"821.903\" cy=\"147.098\" r=\"40\" fill=\"#e65d2e\" fill-rule=\"evenodd\" fill-opacity=\"1\" stroke=\"#000000\" stroke-opacity=\"1\" stroke-width=\"3.2\"/>\n",
       "<circle clip-path=\"url(#clip352)\" cx=\"1400.02\" cy=\"453.399\" r=\"56\" fill=\"#f5da4b\" fill-rule=\"evenodd\" fill-opacity=\"1\" stroke=\"#000000\" stroke-opacity=\"1\" stroke-width=\"3.2\"/>\n",
       "<circle clip-path=\"url(#clip352)\" cx=\"1234.84\" cy=\"1127.26\" r=\"37\" fill=\"#d54940\" fill-rule=\"evenodd\" fill-opacity=\"1\" stroke=\"#000000\" stroke-opacity=\"1\" stroke-width=\"3.2\"/>\n",
       "<circle clip-path=\"url(#clip352)\" cx=\"1234.84\" cy=\"1066\" r=\"42\" fill=\"#ed6825\" fill-rule=\"evenodd\" fill-opacity=\"1\" stroke=\"#000000\" stroke-opacity=\"1\" stroke-width=\"3.2\"/>\n",
       "<circle clip-path=\"url(#clip352)\" cx=\"1317.43\" cy=\"759.7\" r=\"59\" fill=\"#f2f586\" fill-rule=\"evenodd\" fill-opacity=\"1\" stroke=\"#000000\" stroke-opacity=\"1\" stroke-width=\"3.2\"/>\n",
       "<circle clip-path=\"url(#clip352)\" cx=\"1647.78\" cy=\"453.399\" r=\"56\" fill=\"#f5da4b\" fill-rule=\"evenodd\" fill-opacity=\"1\" stroke=\"#000000\" stroke-opacity=\"1\" stroke-width=\"3.2\"/>\n",
       "<circle clip-path=\"url(#clip352)\" cx=\"408.962\" cy=\"1372.3\" r=\"5\" fill=\"#030211\" fill-rule=\"evenodd\" fill-opacity=\"1\" stroke=\"#000000\" stroke-opacity=\"1\" stroke-width=\"3.2\"/>\n",
       "<circle clip-path=\"url(#clip352)\" cx=\"739.315\" cy=\"1249.78\" r=\"3\" fill=\"#000003\" fill-rule=\"evenodd\" fill-opacity=\"1\" stroke=\"#000000\" stroke-opacity=\"1\" stroke-width=\"3.2\"/>\n",
       "<circle clip-path=\"url(#clip352)\" cx=\"408.962\" cy=\"1127.26\" r=\"3\" fill=\"#000003\" fill-rule=\"evenodd\" fill-opacity=\"1\" stroke=\"#000000\" stroke-opacity=\"1\" stroke-width=\"3.2\"/>\n",
       "<circle clip-path=\"url(#clip352)\" cx=\"987.079\" cy=\"759.7\" r=\"59\" fill=\"#f2f586\" fill-rule=\"evenodd\" fill-opacity=\"1\" stroke=\"#000000\" stroke-opacity=\"1\" stroke-width=\"3.2\"/>\n",
       "<circle clip-path=\"url(#clip352)\" cx=\"1812.96\" cy=\"759.7\" r=\"59\" fill=\"#f2f586\" fill-rule=\"evenodd\" fill-opacity=\"1\" stroke=\"#000000\" stroke-opacity=\"1\" stroke-width=\"3.2\"/>\n",
       "<circle clip-path=\"url(#clip352)\" cx=\"1317.43\" cy=\"208.358\" r=\"43\" fill=\"#f2751b\" fill-rule=\"evenodd\" fill-opacity=\"1\" stroke=\"#000000\" stroke-opacity=\"1\" stroke-width=\"3.2\"/>\n",
       "<circle clip-path=\"url(#clip352)\" cx=\"326.374\" cy=\"882.221\" r=\"28\" fill=\"#9d2963\" fill-rule=\"evenodd\" fill-opacity=\"1\" stroke=\"#000000\" stroke-opacity=\"1\" stroke-width=\"3.2\"/>\n",
       "<circle clip-path=\"url(#clip352)\" cx=\"408.962\" cy=\"698.44\" r=\"52\" fill=\"#fabc21\" fill-rule=\"evenodd\" fill-opacity=\"1\" stroke=\"#000000\" stroke-opacity=\"1\" stroke-width=\"3.2\"/>\n",
       "<circle clip-path=\"url(#clip352)\" cx=\"574.139\" cy=\"1311.04\" r=\"5\" fill=\"#030211\" fill-rule=\"evenodd\" fill-opacity=\"1\" stroke=\"#000000\" stroke-opacity=\"1\" stroke-width=\"3.2\"/>\n",
       "<circle clip-path=\"url(#clip352)\" cx=\"1812.96\" cy=\"208.358\" r=\"43\" fill=\"#f2751b\" fill-rule=\"evenodd\" fill-opacity=\"1\" stroke=\"#000000\" stroke-opacity=\"1\" stroke-width=\"3.2\"/>\n",
       "<circle clip-path=\"url(#clip352)\" cx=\"1152.26\" cy=\"392.139\" r=\"56\" fill=\"#f5da4b\" fill-rule=\"evenodd\" fill-opacity=\"1\" stroke=\"#000000\" stroke-opacity=\"1\" stroke-width=\"3.2\"/>\n",
       "<circle clip-path=\"url(#clip352)\" cx=\"1978.14\" cy=\"208.358\" r=\"43\" fill=\"#f2751b\" fill-rule=\"evenodd\" fill-opacity=\"1\" stroke=\"#000000\" stroke-opacity=\"1\" stroke-width=\"3.2\"/>\n",
       "<circle clip-path=\"url(#clip352)\" cx=\"2060.73\" cy=\"269.619\" r=\"49\" fill=\"#fb9e06\" fill-rule=\"evenodd\" fill-opacity=\"1\" stroke=\"#000000\" stroke-opacity=\"1\" stroke-width=\"3.2\"/>\n",
       "<circle clip-path=\"url(#clip352)\" cx=\"739.315\" cy=\"759.7\" r=\"54\" fill=\"#f8cb34\" fill-rule=\"evenodd\" fill-opacity=\"1\" stroke=\"#000000\" stroke-opacity=\"1\" stroke-width=\"3.2\"/>\n",
       "<circle clip-path=\"url(#clip352)\" cx=\"904.491\" cy=\"85.838\" r=\"43\" fill=\"#f2741b\" fill-rule=\"evenodd\" fill-opacity=\"1\" stroke=\"#000000\" stroke-opacity=\"1\" stroke-width=\"3.2\"/>\n",
       "<circle clip-path=\"url(#clip352)\" cx=\"987.079\" cy=\"575.92\" r=\"59\" fill=\"#f2f586\" fill-rule=\"evenodd\" fill-opacity=\"1\" stroke=\"#000000\" stroke-opacity=\"1\" stroke-width=\"3.2\"/>\n",
       "<circle clip-path=\"url(#clip352)\" cx=\"491.551\" cy=\"882.221\" r=\"38\" fill=\"#de5237\" fill-rule=\"evenodd\" fill-opacity=\"1\" stroke=\"#000000\" stroke-opacity=\"1\" stroke-width=\"3.2\"/>\n",
       "<circle clip-path=\"url(#clip352)\" cx=\"1565.2\" cy=\"820.961\" r=\"59\" fill=\"#f2f586\" fill-rule=\"evenodd\" fill-opacity=\"1\" stroke=\"#000000\" stroke-opacity=\"1\" stroke-width=\"3.2\"/>\n",
       "<circle clip-path=\"url(#clip352)\" cx=\"1647.78\" cy=\"1004.74\" r=\"57\" fill=\"#f1e966\" fill-rule=\"evenodd\" fill-opacity=\"1\" stroke=\"#000000\" stroke-opacity=\"1\" stroke-width=\"3.2\"/>\n",
       "<circle clip-path=\"url(#clip352)\" cx=\"1152.26\" cy=\"269.619\" r=\"49\" fill=\"#fb9e06\" fill-rule=\"evenodd\" fill-opacity=\"1\" stroke=\"#000000\" stroke-opacity=\"1\" stroke-width=\"3.2\"/>\n",
       "<circle clip-path=\"url(#clip352)\" cx=\"1978.14\" cy=\"1066\" r=\"59\" fill=\"#f2f586\" fill-rule=\"evenodd\" fill-opacity=\"1\" stroke=\"#000000\" stroke-opacity=\"1\" stroke-width=\"3.2\"/>\n",
       "<circle clip-path=\"url(#clip352)\" cx=\"1730.37\" cy=\"1004.74\" r=\"59\" fill=\"#f2f586\" fill-rule=\"evenodd\" fill-opacity=\"1\" stroke=\"#000000\" stroke-opacity=\"1\" stroke-width=\"3.2\"/>\n",
       "<circle clip-path=\"url(#clip352)\" cx=\"1978.14\" cy=\"1127.26\" r=\"57\" fill=\"#f1e966\" fill-rule=\"evenodd\" fill-opacity=\"1\" stroke=\"#000000\" stroke-opacity=\"1\" stroke-width=\"3.2\"/>\n",
       "<circle clip-path=\"url(#clip352)\" cx=\"1069.67\" cy=\"269.619\" r=\"49\" fill=\"#fb9e06\" fill-rule=\"evenodd\" fill-opacity=\"1\" stroke=\"#000000\" stroke-opacity=\"1\" stroke-width=\"3.2\"/>\n",
       "<circle clip-path=\"url(#clip352)\" cx=\"1895.55\" cy=\"575.92\" r=\"59\" fill=\"#f2f586\" fill-rule=\"evenodd\" fill-opacity=\"1\" stroke=\"#000000\" stroke-opacity=\"1\" stroke-width=\"3.2\"/>\n",
       "<circle clip-path=\"url(#clip352)\" cx=\"1647.78\" cy=\"147.098\" r=\"40\" fill=\"#e65d2e\" fill-rule=\"evenodd\" fill-opacity=\"1\" stroke=\"#000000\" stroke-opacity=\"1\" stroke-width=\"3.2\"/>\n",
       "<circle clip-path=\"url(#clip352)\" cx=\"1400.02\" cy=\"698.44\" r=\"59\" fill=\"#f2f586\" fill-rule=\"evenodd\" fill-opacity=\"1\" stroke=\"#000000\" stroke-opacity=\"1\" stroke-width=\"3.2\"/>\n",
       "<circle clip-path=\"url(#clip352)\" cx=\"1234.84\" cy=\"759.7\" r=\"61\" fill=\"#fcfea4\" fill-rule=\"evenodd\" fill-opacity=\"1\" stroke=\"#000000\" stroke-opacity=\"1\" stroke-width=\"3.2\"/>\n",
       "<circle clip-path=\"url(#clip352)\" cx=\"1234.84\" cy=\"820.961\" r=\"59\" fill=\"#f2f586\" fill-rule=\"evenodd\" fill-opacity=\"1\" stroke=\"#000000\" stroke-opacity=\"1\" stroke-width=\"3.2\"/>\n",
       "<circle clip-path=\"url(#clip352)\" cx=\"326.374\" cy=\"1066\" r=\"3\" fill=\"#000003\" fill-rule=\"evenodd\" fill-opacity=\"1\" stroke=\"#000000\" stroke-opacity=\"1\" stroke-width=\"3.2\"/>\n",
       "<circle clip-path=\"url(#clip352)\" cx=\"1978.14\" cy=\"698.44\" r=\"59\" fill=\"#f2f586\" fill-rule=\"evenodd\" fill-opacity=\"1\" stroke=\"#000000\" stroke-opacity=\"1\" stroke-width=\"3.2\"/>\n",
       "<circle clip-path=\"url(#clip352)\" cx=\"1812.96\" cy=\"330.879\" r=\"52\" fill=\"#fabc21\" fill-rule=\"evenodd\" fill-opacity=\"1\" stroke=\"#000000\" stroke-opacity=\"1\" stroke-width=\"3.2\"/>\n",
       "<circle clip-path=\"url(#clip352)\" cx=\"1069.67\" cy=\"1249.78\" r=\"3\" fill=\"#000003\" fill-rule=\"evenodd\" fill-opacity=\"1\" stroke=\"#000000\" stroke-opacity=\"1\" stroke-width=\"3.2\"/>\n",
       "<circle clip-path=\"url(#clip352)\" cx=\"408.962\" cy=\"820.961\" r=\"40\" fill=\"#e65d2e\" fill-rule=\"evenodd\" fill-opacity=\"1\" stroke=\"#000000\" stroke-opacity=\"1\" stroke-width=\"3.2\"/>\n",
       "<circle clip-path=\"url(#clip352)\" cx=\"1234.84\" cy=\"698.44\" r=\"59\" fill=\"#f2f586\" fill-rule=\"evenodd\" fill-opacity=\"1\" stroke=\"#000000\" stroke-opacity=\"1\" stroke-width=\"3.2\"/>\n",
       "<circle clip-path=\"url(#clip352)\" cx=\"1400.02\" cy=\"1372.3\" r=\"3\" fill=\"#000003\" fill-rule=\"evenodd\" fill-opacity=\"1\" stroke=\"#000000\" stroke-opacity=\"1\" stroke-width=\"3.2\"/>\n",
       "<circle clip-path=\"url(#clip352)\" cx=\"1895.55\" cy=\"1372.3\" r=\"31\" fill=\"#b53358\" fill-rule=\"evenodd\" fill-opacity=\"1\" stroke=\"#000000\" stroke-opacity=\"1\" stroke-width=\"3.2\"/>\n",
       "<circle clip-path=\"url(#clip352)\" cx=\"1482.61\" cy=\"514.66\" r=\"57\" fill=\"#f1e966\" fill-rule=\"evenodd\" fill-opacity=\"1\" stroke=\"#000000\" stroke-opacity=\"1\" stroke-width=\"3.2\"/>\n",
       "<circle clip-path=\"url(#clip352)\" cx=\"987.079\" cy=\"392.139\" r=\"56\" fill=\"#f5da4b\" fill-rule=\"evenodd\" fill-opacity=\"1\" stroke=\"#000000\" stroke-opacity=\"1\" stroke-width=\"3.2\"/>\n",
       "<circle clip-path=\"url(#clip352)\" cx=\"491.551\" cy=\"1066\" r=\"3\" fill=\"#000003\" fill-rule=\"evenodd\" fill-opacity=\"1\" stroke=\"#000000\" stroke-opacity=\"1\" stroke-width=\"3.2\"/>\n",
       "<circle clip-path=\"url(#clip352)\" cx=\"1647.78\" cy=\"820.961\" r=\"59\" fill=\"#f2f586\" fill-rule=\"evenodd\" fill-opacity=\"1\" stroke=\"#000000\" stroke-opacity=\"1\" stroke-width=\"3.2\"/>\n",
       "<circle clip-path=\"url(#clip352)\" cx=\"739.315\" cy=\"1066\" r=\"14\" fill=\"#3a0963\" fill-rule=\"evenodd\" fill-opacity=\"1\" stroke=\"#000000\" stroke-opacity=\"1\" stroke-width=\"3.2\"/>\n",
       "<circle clip-path=\"url(#clip352)\" cx=\"574.139\" cy=\"269.619\" r=\"49\" fill=\"#fb9e06\" fill-rule=\"evenodd\" fill-opacity=\"1\" stroke=\"#000000\" stroke-opacity=\"1\" stroke-width=\"3.2\"/>\n",
       "<circle clip-path=\"url(#clip352)\" cx=\"821.903\" cy=\"575.92\" r=\"59\" fill=\"#f2f586\" fill-rule=\"evenodd\" fill-opacity=\"1\" stroke=\"#000000\" stroke-opacity=\"1\" stroke-width=\"3.2\"/>\n",
       "<circle clip-path=\"url(#clip352)\" cx=\"739.315\" cy=\"514.66\" r=\"57\" fill=\"#f1e966\" fill-rule=\"evenodd\" fill-opacity=\"1\" stroke=\"#000000\" stroke-opacity=\"1\" stroke-width=\"3.2\"/>\n",
       "<circle clip-path=\"url(#clip352)\" cx=\"1812.96\" cy=\"453.399\" r=\"56\" fill=\"#f5da4b\" fill-rule=\"evenodd\" fill-opacity=\"1\" stroke=\"#000000\" stroke-opacity=\"1\" stroke-width=\"3.2\"/>\n",
       "<circle clip-path=\"url(#clip352)\" cx=\"1647.78\" cy=\"1249.78\" r=\"37\" fill=\"#d54940\" fill-rule=\"evenodd\" fill-opacity=\"1\" stroke=\"#000000\" stroke-opacity=\"1\" stroke-width=\"3.2\"/>\n",
       "<circle clip-path=\"url(#clip352)\" cx=\"1647.78\" cy=\"1311.04\" r=\"28\" fill=\"#9d2963\" fill-rule=\"evenodd\" fill-opacity=\"1\" stroke=\"#000000\" stroke-opacity=\"1\" stroke-width=\"3.2\"/>\n",
       "<circle clip-path=\"url(#clip352)\" cx=\"1400.02\" cy=\"1249.78\" r=\"30\" fill=\"#a92e5e\" fill-rule=\"evenodd\" fill-opacity=\"1\" stroke=\"#000000\" stroke-opacity=\"1\" stroke-width=\"3.2\"/>\n",
       "<circle clip-path=\"url(#clip352)\" cx=\"1647.78\" cy=\"514.66\" r=\"57\" fill=\"#f1e966\" fill-rule=\"evenodd\" fill-opacity=\"1\" stroke=\"#000000\" stroke-opacity=\"1\" stroke-width=\"3.2\"/>\n",
       "<circle clip-path=\"url(#clip352)\" cx=\"2060.73\" cy=\"820.961\" r=\"59\" fill=\"#f2f586\" fill-rule=\"evenodd\" fill-opacity=\"1\" stroke=\"#000000\" stroke-opacity=\"1\" stroke-width=\"3.2\"/>\n",
       "<circle clip-path=\"url(#clip352)\" cx=\"656.727\" cy=\"147.098\" r=\"40\" fill=\"#e65d2e\" fill-rule=\"evenodd\" fill-opacity=\"1\" stroke=\"#000000\" stroke-opacity=\"1\" stroke-width=\"3.2\"/>\n",
       "<circle clip-path=\"url(#clip352)\" cx=\"1317.43\" cy=\"1066\" r=\"44\" fill=\"#f2751b\" fill-rule=\"evenodd\" fill-opacity=\"1\" stroke=\"#000000\" stroke-opacity=\"1\" stroke-width=\"3.2\"/>\n",
       "<circle clip-path=\"url(#clip352)\" cx=\"408.962\" cy=\"147.098\" r=\"40\" fill=\"#e65d2e\" fill-rule=\"evenodd\" fill-opacity=\"1\" stroke=\"#000000\" stroke-opacity=\"1\" stroke-width=\"3.2\"/>\n",
       "<circle clip-path=\"url(#clip352)\" cx=\"1234.84\" cy=\"1004.74\" r=\"45\" fill=\"#f68210\" fill-rule=\"evenodd\" fill-opacity=\"1\" stroke=\"#000000\" stroke-opacity=\"1\" stroke-width=\"3.2\"/>\n",
       "<circle clip-path=\"url(#clip352)\" cx=\"1152.26\" cy=\"1311.04\" r=\"3\" fill=\"#000003\" fill-rule=\"evenodd\" fill-opacity=\"1\" stroke=\"#000000\" stroke-opacity=\"1\" stroke-width=\"3.2\"/>\n",
       "<circle clip-path=\"url(#clip352)\" cx=\"2060.73\" cy=\"1066\" r=\"59\" fill=\"#f2f586\" fill-rule=\"evenodd\" fill-opacity=\"1\" stroke=\"#000000\" stroke-opacity=\"1\" stroke-width=\"3.2\"/>\n",
       "<circle clip-path=\"url(#clip352)\" cx=\"1234.84\" cy=\"882.221\" r=\"57\" fill=\"#f1e966\" fill-rule=\"evenodd\" fill-opacity=\"1\" stroke=\"#000000\" stroke-opacity=\"1\" stroke-width=\"3.2\"/>\n",
       "<circle clip-path=\"url(#clip352)\" cx=\"1978.14\" cy=\"330.879\" r=\"52\" fill=\"#fabc21\" fill-rule=\"evenodd\" fill-opacity=\"1\" stroke=\"#000000\" stroke-opacity=\"1\" stroke-width=\"3.2\"/>\n",
       "<circle clip-path=\"url(#clip352)\" cx=\"1812.96\" cy=\"1311.04\" r=\"35\" fill=\"#cb4149\" fill-rule=\"evenodd\" fill-opacity=\"1\" stroke=\"#000000\" stroke-opacity=\"1\" stroke-width=\"3.2\"/>\n",
       "<circle clip-path=\"url(#clip352)\" cx=\"1812.96\" cy=\"85.838\" r=\"43\" fill=\"#f2741b\" fill-rule=\"evenodd\" fill-opacity=\"1\" stroke=\"#000000\" stroke-opacity=\"1\" stroke-width=\"3.2\"/>\n",
       "<circle clip-path=\"url(#clip352)\" cx=\"1482.61\" cy=\"208.358\" r=\"43\" fill=\"#f2751b\" fill-rule=\"evenodd\" fill-opacity=\"1\" stroke=\"#000000\" stroke-opacity=\"1\" stroke-width=\"3.2\"/>\n",
       "<circle clip-path=\"url(#clip352)\" cx=\"574.139\" cy=\"453.399\" r=\"56\" fill=\"#f5da4b\" fill-rule=\"evenodd\" fill-opacity=\"1\" stroke=\"#000000\" stroke-opacity=\"1\" stroke-width=\"3.2\"/>\n",
       "<circle clip-path=\"url(#clip352)\" cx=\"491.551\" cy=\"208.358\" r=\"43\" fill=\"#f2751b\" fill-rule=\"evenodd\" fill-opacity=\"1\" stroke=\"#000000\" stroke-opacity=\"1\" stroke-width=\"3.2\"/>\n",
       "<circle clip-path=\"url(#clip352)\" cx=\"656.727\" cy=\"820.961\" r=\"44\" fill=\"#f2751b\" fill-rule=\"evenodd\" fill-opacity=\"1\" stroke=\"#000000\" stroke-opacity=\"1\" stroke-width=\"3.2\"/>\n",
       "<circle clip-path=\"url(#clip352)\" cx=\"408.962\" cy=\"453.399\" r=\"56\" fill=\"#f5da4b\" fill-rule=\"evenodd\" fill-opacity=\"1\" stroke=\"#000000\" stroke-opacity=\"1\" stroke-width=\"3.2\"/>\n",
       "<circle clip-path=\"url(#clip352)\" cx=\"1069.67\" cy=\"759.7\" r=\"59\" fill=\"#f2f586\" fill-rule=\"evenodd\" fill-opacity=\"1\" stroke=\"#000000\" stroke-opacity=\"1\" stroke-width=\"3.2\"/>\n",
       "<circle clip-path=\"url(#clip352)\" cx=\"1812.96\" cy=\"147.098\" r=\"40\" fill=\"#e65d2e\" fill-rule=\"evenodd\" fill-opacity=\"1\" stroke=\"#000000\" stroke-opacity=\"1\" stroke-width=\"3.2\"/>\n",
       "<circle clip-path=\"url(#clip352)\" cx=\"574.139\" cy=\"575.92\" r=\"57\" fill=\"#f1e966\" fill-rule=\"evenodd\" fill-opacity=\"1\" stroke=\"#000000\" stroke-opacity=\"1\" stroke-width=\"3.2\"/>\n",
       "<circle clip-path=\"url(#clip352)\" cx=\"904.491\" cy=\"1372.3\" r=\"5\" fill=\"#030211\" fill-rule=\"evenodd\" fill-opacity=\"1\" stroke=\"#000000\" stroke-opacity=\"1\" stroke-width=\"3.2\"/>\n",
       "<circle clip-path=\"url(#clip352)\" cx=\"1400.02\" cy=\"147.098\" r=\"40\" fill=\"#e65d2e\" fill-rule=\"evenodd\" fill-opacity=\"1\" stroke=\"#000000\" stroke-opacity=\"1\" stroke-width=\"3.2\"/>\n",
       "<circle clip-path=\"url(#clip352)\" cx=\"1730.37\" cy=\"1249.78\" r=\"40\" fill=\"#e65d2e\" fill-rule=\"evenodd\" fill-opacity=\"1\" stroke=\"#000000\" stroke-opacity=\"1\" stroke-width=\"3.2\"/>\n",
       "<circle clip-path=\"url(#clip352)\" cx=\"656.727\" cy=\"698.44\" r=\"56\" fill=\"#f5da4b\" fill-rule=\"evenodd\" fill-opacity=\"1\" stroke=\"#000000\" stroke-opacity=\"1\" stroke-width=\"3.2\"/>\n",
       "<circle clip-path=\"url(#clip352)\" cx=\"1565.2\" cy=\"453.399\" r=\"56\" fill=\"#f5da4b\" fill-rule=\"evenodd\" fill-opacity=\"1\" stroke=\"#000000\" stroke-opacity=\"1\" stroke-width=\"3.2\"/>\n",
       "<circle clip-path=\"url(#clip352)\" cx=\"2060.73\" cy=\"1311.04\" r=\"43\" fill=\"#f2751b\" fill-rule=\"evenodd\" fill-opacity=\"1\" stroke=\"#000000\" stroke-opacity=\"1\" stroke-width=\"3.2\"/>\n",
       "<circle clip-path=\"url(#clip352)\" cx=\"326.374\" cy=\"820.961\" r=\"38\" fill=\"#de5237\" fill-rule=\"evenodd\" fill-opacity=\"1\" stroke=\"#000000\" stroke-opacity=\"1\" stroke-width=\"3.2\"/>\n",
       "<circle clip-path=\"url(#clip352)\" cx=\"408.962\" cy=\"208.358\" r=\"43\" fill=\"#f2751b\" fill-rule=\"evenodd\" fill-opacity=\"1\" stroke=\"#000000\" stroke-opacity=\"1\" stroke-width=\"3.2\"/>\n",
       "<circle clip-path=\"url(#clip352)\" cx=\"1234.84\" cy=\"208.358\" r=\"43\" fill=\"#f2751b\" fill-rule=\"evenodd\" fill-opacity=\"1\" stroke=\"#000000\" stroke-opacity=\"1\" stroke-width=\"3.2\"/>\n",
       "<circle clip-path=\"url(#clip352)\" cx=\"2060.73\" cy=\"85.838\" r=\"43\" fill=\"#f2741b\" fill-rule=\"evenodd\" fill-opacity=\"1\" stroke=\"#000000\" stroke-opacity=\"1\" stroke-width=\"3.2\"/>\n",
       "<circle clip-path=\"url(#clip352)\" cx=\"408.962\" cy=\"1311.04\" r=\"5\" fill=\"#030211\" fill-rule=\"evenodd\" fill-opacity=\"1\" stroke=\"#000000\" stroke-opacity=\"1\" stroke-width=\"3.2\"/>\n",
       "<circle clip-path=\"url(#clip352)\" cx=\"574.139\" cy=\"1249.78\" r=\"5\" fill=\"#030211\" fill-rule=\"evenodd\" fill-opacity=\"1\" stroke=\"#000000\" stroke-opacity=\"1\" stroke-width=\"3.2\"/>\n",
       "<circle clip-path=\"url(#clip352)\" cx=\"574.139\" cy=\"208.358\" r=\"43\" fill=\"#f2751b\" fill-rule=\"evenodd\" fill-opacity=\"1\" stroke=\"#000000\" stroke-opacity=\"1\" stroke-width=\"3.2\"/>\n",
       "<circle clip-path=\"url(#clip352)\" cx=\"1647.78\" cy=\"269.619\" r=\"49\" fill=\"#fb9e06\" fill-rule=\"evenodd\" fill-opacity=\"1\" stroke=\"#000000\" stroke-opacity=\"1\" stroke-width=\"3.2\"/>\n",
       "<circle clip-path=\"url(#clip352)\" cx=\"1812.96\" cy=\"1004.74\" r=\"59\" fill=\"#f2f586\" fill-rule=\"evenodd\" fill-opacity=\"1\" stroke=\"#000000\" stroke-opacity=\"1\" stroke-width=\"3.2\"/>\n",
       "<circle clip-path=\"url(#clip352)\" cx=\"1234.84\" cy=\"1249.78\" r=\"14\" fill=\"#3a0963\" fill-rule=\"evenodd\" fill-opacity=\"1\" stroke=\"#000000\" stroke-opacity=\"1\" stroke-width=\"3.2\"/>\n",
       "<circle clip-path=\"url(#clip352)\" cx=\"1482.61\" cy=\"330.879\" r=\"52\" fill=\"#fabc21\" fill-rule=\"evenodd\" fill-opacity=\"1\" stroke=\"#000000\" stroke-opacity=\"1\" stroke-width=\"3.2\"/>\n",
       "<circle clip-path=\"url(#clip352)\" cx=\"904.491\" cy=\"1127.26\" r=\"14\" fill=\"#3a0963\" fill-rule=\"evenodd\" fill-opacity=\"1\" stroke=\"#000000\" stroke-opacity=\"1\" stroke-width=\"3.2\"/>\n",
       "<circle clip-path=\"url(#clip352)\" cx=\"1895.55\" cy=\"330.879\" r=\"52\" fill=\"#fabc21\" fill-rule=\"evenodd\" fill-opacity=\"1\" stroke=\"#000000\" stroke-opacity=\"1\" stroke-width=\"3.2\"/>\n",
       "<circle clip-path=\"url(#clip352)\" cx=\"1565.2\" cy=\"85.838\" r=\"43\" fill=\"#f2741b\" fill-rule=\"evenodd\" fill-opacity=\"1\" stroke=\"#000000\" stroke-opacity=\"1\" stroke-width=\"3.2\"/>\n",
       "<circle clip-path=\"url(#clip352)\" cx=\"326.374\" cy=\"1127.26\" r=\"3\" fill=\"#000003\" fill-rule=\"evenodd\" fill-opacity=\"1\" stroke=\"#000000\" stroke-opacity=\"1\" stroke-width=\"3.2\"/>\n",
       "<circle clip-path=\"url(#clip352)\" cx=\"408.962\" cy=\"330.879\" r=\"52\" fill=\"#fabc21\" fill-rule=\"evenodd\" fill-opacity=\"1\" stroke=\"#000000\" stroke-opacity=\"1\" stroke-width=\"3.2\"/>\n",
       "<circle clip-path=\"url(#clip352)\" cx=\"326.374\" cy=\"514.66\" r=\"57\" fill=\"#f1e966\" fill-rule=\"evenodd\" fill-opacity=\"1\" stroke=\"#000000\" stroke-opacity=\"1\" stroke-width=\"3.2\"/>\n",
       "<circle clip-path=\"url(#clip352)\" cx=\"1482.61\" cy=\"453.399\" r=\"56\" fill=\"#f5da4b\" fill-rule=\"evenodd\" fill-opacity=\"1\" stroke=\"#000000\" stroke-opacity=\"1\" stroke-width=\"3.2\"/>\n",
       "<circle clip-path=\"url(#clip352)\" cx=\"1400.02\" cy=\"1188.52\" r=\"33\" fill=\"#c03950\" fill-rule=\"evenodd\" fill-opacity=\"1\" stroke=\"#000000\" stroke-opacity=\"1\" stroke-width=\"3.2\"/>\n",
       "<circle clip-path=\"url(#clip352)\" cx=\"491.551\" cy=\"147.098\" r=\"40\" fill=\"#e65d2e\" fill-rule=\"evenodd\" fill-opacity=\"1\" stroke=\"#000000\" stroke-opacity=\"1\" stroke-width=\"3.2\"/>\n",
       "<circle clip-path=\"url(#clip352)\" cx=\"1978.14\" cy=\"453.399\" r=\"56\" fill=\"#f5da4b\" fill-rule=\"evenodd\" fill-opacity=\"1\" stroke=\"#000000\" stroke-opacity=\"1\" stroke-width=\"3.2\"/>\n",
       "<circle clip-path=\"url(#clip352)\" cx=\"1978.14\" cy=\"85.838\" r=\"43\" fill=\"#f2741b\" fill-rule=\"evenodd\" fill-opacity=\"1\" stroke=\"#000000\" stroke-opacity=\"1\" stroke-width=\"3.2\"/>\n",
       "<circle clip-path=\"url(#clip352)\" cx=\"326.374\" cy=\"453.399\" r=\"56\" fill=\"#f5da4b\" fill-rule=\"evenodd\" fill-opacity=\"1\" stroke=\"#000000\" stroke-opacity=\"1\" stroke-width=\"3.2\"/>\n",
       "<circle clip-path=\"url(#clip352)\" cx=\"1730.37\" cy=\"1188.52\" r=\"42\" fill=\"#ed6825\" fill-rule=\"evenodd\" fill-opacity=\"1\" stroke=\"#000000\" stroke-opacity=\"1\" stroke-width=\"3.2\"/>\n",
       "<circle clip-path=\"url(#clip352)\" cx=\"1482.61\" cy=\"943.481\" r=\"57\" fill=\"#f1e966\" fill-rule=\"evenodd\" fill-opacity=\"1\" stroke=\"#000000\" stroke-opacity=\"1\" stroke-width=\"3.2\"/>\n",
       "<circle clip-path=\"url(#clip352)\" cx=\"1317.43\" cy=\"85.838\" r=\"43\" fill=\"#f2741b\" fill-rule=\"evenodd\" fill-opacity=\"1\" stroke=\"#000000\" stroke-opacity=\"1\" stroke-width=\"3.2\"/>\n",
       "<circle clip-path=\"url(#clip352)\" cx=\"1317.43\" cy=\"698.44\" r=\"59\" fill=\"#f2f586\" fill-rule=\"evenodd\" fill-opacity=\"1\" stroke=\"#000000\" stroke-opacity=\"1\" stroke-width=\"3.2\"/>\n",
       "<circle clip-path=\"url(#clip352)\" cx=\"987.079\" cy=\"1311.04\" r=\"3\" fill=\"#000003\" fill-rule=\"evenodd\" fill-opacity=\"1\" stroke=\"#000000\" stroke-opacity=\"1\" stroke-width=\"3.2\"/>\n",
       "<circle clip-path=\"url(#clip352)\" cx=\"1234.84\" cy=\"392.139\" r=\"56\" fill=\"#f5da4b\" fill-rule=\"evenodd\" fill-opacity=\"1\" stroke=\"#000000\" stroke-opacity=\"1\" stroke-width=\"3.2\"/>\n",
       "<circle clip-path=\"url(#clip352)\" cx=\"1069.67\" cy=\"1188.52\" r=\"14\" fill=\"#3a0963\" fill-rule=\"evenodd\" fill-opacity=\"1\" stroke=\"#000000\" stroke-opacity=\"1\" stroke-width=\"3.2\"/>\n",
       "<circle clip-path=\"url(#clip352)\" cx=\"904.491\" cy=\"1066\" r=\"28\" fill=\"#9d2963\" fill-rule=\"evenodd\" fill-opacity=\"1\" stroke=\"#000000\" stroke-opacity=\"1\" stroke-width=\"3.2\"/>\n",
       "<circle clip-path=\"url(#clip352)\" cx=\"408.962\" cy=\"637.18\" r=\"52\" fill=\"#fabc21\" fill-rule=\"evenodd\" fill-opacity=\"1\" stroke=\"#000000\" stroke-opacity=\"1\" stroke-width=\"3.2\"/>\n",
       "<circle clip-path=\"url(#clip352)\" cx=\"739.315\" cy=\"208.358\" r=\"43\" fill=\"#f2751b\" fill-rule=\"evenodd\" fill-opacity=\"1\" stroke=\"#000000\" stroke-opacity=\"1\" stroke-width=\"3.2\"/>\n",
       "<circle clip-path=\"url(#clip352)\" cx=\"2060.73\" cy=\"147.098\" r=\"40\" fill=\"#e65d2e\" fill-rule=\"evenodd\" fill-opacity=\"1\" stroke=\"#000000\" stroke-opacity=\"1\" stroke-width=\"3.2\"/>\n",
       "<circle clip-path=\"url(#clip352)\" cx=\"904.491\" cy=\"330.879\" r=\"52\" fill=\"#fabc21\" fill-rule=\"evenodd\" fill-opacity=\"1\" stroke=\"#000000\" stroke-opacity=\"1\" stroke-width=\"3.2\"/>\n",
       "<circle clip-path=\"url(#clip352)\" cx=\"2060.73\" cy=\"1188.52\" r=\"56\" fill=\"#f5da4b\" fill-rule=\"evenodd\" fill-opacity=\"1\" stroke=\"#000000\" stroke-opacity=\"1\" stroke-width=\"3.2\"/>\n",
       "<circle clip-path=\"url(#clip352)\" cx=\"1400.02\" cy=\"269.619\" r=\"49\" fill=\"#fb9e06\" fill-rule=\"evenodd\" fill-opacity=\"1\" stroke=\"#000000\" stroke-opacity=\"1\" stroke-width=\"3.2\"/>\n",
       "<circle clip-path=\"url(#clip352)\" cx=\"656.727\" cy=\"943.481\" r=\"35\" fill=\"#cb4149\" fill-rule=\"evenodd\" fill-opacity=\"1\" stroke=\"#000000\" stroke-opacity=\"1\" stroke-width=\"3.2\"/>\n",
       "<circle clip-path=\"url(#clip352)\" cx=\"904.491\" cy=\"453.399\" r=\"56\" fill=\"#f5da4b\" fill-rule=\"evenodd\" fill-opacity=\"1\" stroke=\"#000000\" stroke-opacity=\"1\" stroke-width=\"3.2\"/>\n",
       "<circle clip-path=\"url(#clip352)\" cx=\"1152.26\" cy=\"943.481\" r=\"50\" fill=\"#fbad11\" fill-rule=\"evenodd\" fill-opacity=\"1\" stroke=\"#000000\" stroke-opacity=\"1\" stroke-width=\"3.2\"/>\n",
       "<circle clip-path=\"url(#clip352)\" cx=\"574.139\" cy=\"820.961\" r=\"44\" fill=\"#f2751b\" fill-rule=\"evenodd\" fill-opacity=\"1\" stroke=\"#000000\" stroke-opacity=\"1\" stroke-width=\"3.2\"/>\n",
       "<circle clip-path=\"url(#clip352)\" cx=\"1234.84\" cy=\"147.098\" r=\"40\" fill=\"#e65d2e\" fill-rule=\"evenodd\" fill-opacity=\"1\" stroke=\"#000000\" stroke-opacity=\"1\" stroke-width=\"3.2\"/>\n",
       "<circle clip-path=\"url(#clip352)\" cx=\"1730.37\" cy=\"1066\" r=\"56\" fill=\"#f5da4b\" fill-rule=\"evenodd\" fill-opacity=\"1\" stroke=\"#000000\" stroke-opacity=\"1\" stroke-width=\"3.2\"/>\n",
       "<circle clip-path=\"url(#clip352)\" cx=\"1730.37\" cy=\"1127.26\" r=\"47\" fill=\"#f99007\" fill-rule=\"evenodd\" fill-opacity=\"1\" stroke=\"#000000\" stroke-opacity=\"1\" stroke-width=\"3.2\"/>\n",
       "<circle clip-path=\"url(#clip352)\" cx=\"656.727\" cy=\"1004.74\" r=\"28\" fill=\"#9d2963\" fill-rule=\"evenodd\" fill-opacity=\"1\" stroke=\"#000000\" stroke-opacity=\"1\" stroke-width=\"3.2\"/>\n",
       "<circle clip-path=\"url(#clip352)\" cx=\"491.551\" cy=\"514.66\" r=\"57\" fill=\"#f1e966\" fill-rule=\"evenodd\" fill-opacity=\"1\" stroke=\"#000000\" stroke-opacity=\"1\" stroke-width=\"3.2\"/>\n",
       "<circle clip-path=\"url(#clip352)\" cx=\"491.551\" cy=\"575.92\" r=\"59\" fill=\"#f2f586\" fill-rule=\"evenodd\" fill-opacity=\"1\" stroke=\"#000000\" stroke-opacity=\"1\" stroke-width=\"3.2\"/>\n",
       "<circle clip-path=\"url(#clip352)\" cx=\"1812.96\" cy=\"1188.52\" r=\"45\" fill=\"#f68210\" fill-rule=\"evenodd\" fill-opacity=\"1\" stroke=\"#000000\" stroke-opacity=\"1\" stroke-width=\"3.2\"/>\n",
       "<circle clip-path=\"url(#clip352)\" cx=\"821.903\" cy=\"269.619\" r=\"49\" fill=\"#fb9e06\" fill-rule=\"evenodd\" fill-opacity=\"1\" stroke=\"#000000\" stroke-opacity=\"1\" stroke-width=\"3.2\"/>\n",
       "<circle clip-path=\"url(#clip352)\" cx=\"1069.67\" cy=\"330.879\" r=\"52\" fill=\"#fabc21\" fill-rule=\"evenodd\" fill-opacity=\"1\" stroke=\"#000000\" stroke-opacity=\"1\" stroke-width=\"3.2\"/>\n",
       "<circle clip-path=\"url(#clip352)\" cx=\"326.374\" cy=\"1249.78\" r=\"5\" fill=\"#030211\" fill-rule=\"evenodd\" fill-opacity=\"1\" stroke=\"#000000\" stroke-opacity=\"1\" stroke-width=\"3.2\"/>\n",
       "<circle clip-path=\"url(#clip352)\" cx=\"1895.55\" cy=\"392.139\" r=\"56\" fill=\"#f5da4b\" fill-rule=\"evenodd\" fill-opacity=\"1\" stroke=\"#000000\" stroke-opacity=\"1\" stroke-width=\"3.2\"/>\n",
       "<circle clip-path=\"url(#clip352)\" cx=\"1400.02\" cy=\"637.18\" r=\"59\" fill=\"#f2f586\" fill-rule=\"evenodd\" fill-opacity=\"1\" stroke=\"#000000\" stroke-opacity=\"1\" stroke-width=\"3.2\"/>\n",
       "<circle clip-path=\"url(#clip352)\" cx=\"1317.43\" cy=\"514.66\" r=\"57\" fill=\"#f1e966\" fill-rule=\"evenodd\" fill-opacity=\"1\" stroke=\"#000000\" stroke-opacity=\"1\" stroke-width=\"3.2\"/>\n",
       "<circle clip-path=\"url(#clip352)\" cx=\"1565.2\" cy=\"1066\" r=\"54\" fill=\"#f8cb34\" fill-rule=\"evenodd\" fill-opacity=\"1\" stroke=\"#000000\" stroke-opacity=\"1\" stroke-width=\"3.2\"/>\n",
       "<circle clip-path=\"url(#clip352)\" cx=\"1482.61\" cy=\"1004.74\" r=\"56\" fill=\"#f5da4b\" fill-rule=\"evenodd\" fill-opacity=\"1\" stroke=\"#000000\" stroke-opacity=\"1\" stroke-width=\"3.2\"/>\n",
       "<circle clip-path=\"url(#clip352)\" cx=\"987.079\" cy=\"1249.78\" r=\"3\" fill=\"#000003\" fill-rule=\"evenodd\" fill-opacity=\"1\" stroke=\"#000000\" stroke-opacity=\"1\" stroke-width=\"3.2\"/>\n",
       "<circle clip-path=\"url(#clip352)\" cx=\"1895.55\" cy=\"820.961\" r=\"59\" fill=\"#f2f586\" fill-rule=\"evenodd\" fill-opacity=\"1\" stroke=\"#000000\" stroke-opacity=\"1\" stroke-width=\"3.2\"/>\n",
       "<circle clip-path=\"url(#clip352)\" cx=\"491.551\" cy=\"330.879\" r=\"52\" fill=\"#fabc21\" fill-rule=\"evenodd\" fill-opacity=\"1\" stroke=\"#000000\" stroke-opacity=\"1\" stroke-width=\"3.2\"/>\n",
       "<circle clip-path=\"url(#clip352)\" cx=\"1565.2\" cy=\"1127.26\" r=\"42\" fill=\"#ed6825\" fill-rule=\"evenodd\" fill-opacity=\"1\" stroke=\"#000000\" stroke-opacity=\"1\" stroke-width=\"3.2\"/>\n",
       "<circle clip-path=\"url(#clip352)\" cx=\"1317.43\" cy=\"943.481\" r=\"54\" fill=\"#f8cb34\" fill-rule=\"evenodd\" fill-opacity=\"1\" stroke=\"#000000\" stroke-opacity=\"1\" stroke-width=\"3.2\"/>\n",
       "<circle clip-path=\"url(#clip352)\" cx=\"1895.55\" cy=\"1004.74\" r=\"59\" fill=\"#f2f586\" fill-rule=\"evenodd\" fill-opacity=\"1\" stroke=\"#000000\" stroke-opacity=\"1\" stroke-width=\"3.2\"/>\n",
       "<circle clip-path=\"url(#clip352)\" cx=\"326.374\" cy=\"943.481\" r=\"14\" fill=\"#3a0963\" fill-rule=\"evenodd\" fill-opacity=\"1\" stroke=\"#000000\" stroke-opacity=\"1\" stroke-width=\"3.2\"/>\n",
       "<circle clip-path=\"url(#clip352)\" cx=\"574.139\" cy=\"1127.26\" r=\"3\" fill=\"#000003\" fill-rule=\"evenodd\" fill-opacity=\"1\" stroke=\"#000000\" stroke-opacity=\"1\" stroke-width=\"3.2\"/>\n",
       "<circle clip-path=\"url(#clip352)\" cx=\"574.139\" cy=\"147.098\" r=\"40\" fill=\"#e65d2e\" fill-rule=\"evenodd\" fill-opacity=\"1\" stroke=\"#000000\" stroke-opacity=\"1\" stroke-width=\"3.2\"/>\n",
       "<circle clip-path=\"url(#clip352)\" cx=\"1317.43\" cy=\"1188.52\" r=\"30\" fill=\"#a92e5e\" fill-rule=\"evenodd\" fill-opacity=\"1\" stroke=\"#000000\" stroke-opacity=\"1\" stroke-width=\"3.2\"/>\n",
       "<circle clip-path=\"url(#clip352)\" cx=\"1234.84\" cy=\"514.66\" r=\"57\" fill=\"#f1e966\" fill-rule=\"evenodd\" fill-opacity=\"1\" stroke=\"#000000\" stroke-opacity=\"1\" stroke-width=\"3.2\"/>\n",
       "<circle clip-path=\"url(#clip352)\" cx=\"1069.67\" cy=\"1127.26\" r=\"28\" fill=\"#9d2963\" fill-rule=\"evenodd\" fill-opacity=\"1\" stroke=\"#000000\" stroke-opacity=\"1\" stroke-width=\"3.2\"/>\n",
       "<circle clip-path=\"url(#clip352)\" cx=\"1152.26\" cy=\"1188.52\" r=\"17\" fill=\"#530e6d\" fill-rule=\"evenodd\" fill-opacity=\"1\" stroke=\"#000000\" stroke-opacity=\"1\" stroke-width=\"3.2\"/>\n",
       "<circle clip-path=\"url(#clip352)\" cx=\"1730.37\" cy=\"882.221\" r=\"57\" fill=\"#f1e866\" fill-rule=\"evenodd\" fill-opacity=\"1\" stroke=\"#000000\" stroke-opacity=\"1\" stroke-width=\"3.2\"/>\n",
       "<circle clip-path=\"url(#clip352)\" cx=\"1234.84\" cy=\"637.18\" r=\"59\" fill=\"#f2f586\" fill-rule=\"evenodd\" fill-opacity=\"1\" stroke=\"#000000\" stroke-opacity=\"1\" stroke-width=\"3.2\"/>\n",
       "<circle clip-path=\"url(#clip352)\" cx=\"1400.02\" cy=\"943.481\" r=\"54\" fill=\"#f8cb34\" fill-rule=\"evenodd\" fill-opacity=\"1\" stroke=\"#000000\" stroke-opacity=\"1\" stroke-width=\"3.2\"/>\n",
       "<circle clip-path=\"url(#clip352)\" cx=\"1317.43\" cy=\"269.619\" r=\"49\" fill=\"#fb9e06\" fill-rule=\"evenodd\" fill-opacity=\"1\" stroke=\"#000000\" stroke-opacity=\"1\" stroke-width=\"3.2\"/>\n",
       "<circle clip-path=\"url(#clip352)\" cx=\"408.962\" cy=\"1004.74\" r=\"7\" fill=\"#0a0622\" fill-rule=\"evenodd\" fill-opacity=\"1\" stroke=\"#000000\" stroke-opacity=\"1\" stroke-width=\"3.2\"/>\n",
       "<circle clip-path=\"url(#clip352)\" cx=\"656.727\" cy=\"269.619\" r=\"49\" fill=\"#fb9e06\" fill-rule=\"evenodd\" fill-opacity=\"1\" stroke=\"#000000\" stroke-opacity=\"1\" stroke-width=\"3.2\"/>\n",
       "<circle clip-path=\"url(#clip352)\" cx=\"326.374\" cy=\"698.44\" r=\"49\" fill=\"#fb9e07\" fill-rule=\"evenodd\" fill-opacity=\"1\" stroke=\"#000000\" stroke-opacity=\"1\" stroke-width=\"3.2\"/>\n",
       "<circle clip-path=\"url(#clip352)\" cx=\"1730.37\" cy=\"392.139\" r=\"56\" fill=\"#f5da4b\" fill-rule=\"evenodd\" fill-opacity=\"1\" stroke=\"#000000\" stroke-opacity=\"1\" stroke-width=\"3.2\"/>\n",
       "<circle clip-path=\"url(#clip352)\" cx=\"1234.84\" cy=\"269.619\" r=\"49\" fill=\"#fb9e06\" fill-rule=\"evenodd\" fill-opacity=\"1\" stroke=\"#000000\" stroke-opacity=\"1\" stroke-width=\"3.2\"/>\n",
       "<circle clip-path=\"url(#clip352)\" cx=\"821.903\" cy=\"1311.04\" r=\"5\" fill=\"#030211\" fill-rule=\"evenodd\" fill-opacity=\"1\" stroke=\"#000000\" stroke-opacity=\"1\" stroke-width=\"3.2\"/>\n",
       "<circle clip-path=\"url(#clip352)\" cx=\"326.374\" cy=\"1004.74\" r=\"3\" fill=\"#000003\" fill-rule=\"evenodd\" fill-opacity=\"1\" stroke=\"#000000\" stroke-opacity=\"1\" stroke-width=\"3.2\"/>\n",
       "<circle clip-path=\"url(#clip352)\" cx=\"1895.55\" cy=\"882.221\" r=\"57\" fill=\"#f1e866\" fill-rule=\"evenodd\" fill-opacity=\"1\" stroke=\"#000000\" stroke-opacity=\"1\" stroke-width=\"3.2\"/>\n",
       "<circle clip-path=\"url(#clip352)\" cx=\"2060.73\" cy=\"392.139\" r=\"56\" fill=\"#f5da4b\" fill-rule=\"evenodd\" fill-opacity=\"1\" stroke=\"#000000\" stroke-opacity=\"1\" stroke-width=\"3.2\"/>\n",
       "<circle clip-path=\"url(#clip352)\" cx=\"904.491\" cy=\"698.44\" r=\"59\" fill=\"#f2f586\" fill-rule=\"evenodd\" fill-opacity=\"1\" stroke=\"#000000\" stroke-opacity=\"1\" stroke-width=\"3.2\"/>\n",
       "<circle clip-path=\"url(#clip352)\" cx=\"1069.67\" cy=\"820.961\" r=\"57\" fill=\"#f1e966\" fill-rule=\"evenodd\" fill-opacity=\"1\" stroke=\"#000000\" stroke-opacity=\"1\" stroke-width=\"3.2\"/>\n",
       "<circle clip-path=\"url(#clip352)\" cx=\"821.903\" cy=\"820.961\" r=\"52\" fill=\"#fabc21\" fill-rule=\"evenodd\" fill-opacity=\"1\" stroke=\"#000000\" stroke-opacity=\"1\" stroke-width=\"3.2\"/>\n",
       "<circle clip-path=\"url(#clip352)\" cx=\"1565.2\" cy=\"698.44\" r=\"59\" fill=\"#f2f586\" fill-rule=\"evenodd\" fill-opacity=\"1\" stroke=\"#000000\" stroke-opacity=\"1\" stroke-width=\"3.2\"/>\n",
       "<circle clip-path=\"url(#clip352)\" cx=\"1400.02\" cy=\"1311.04\" r=\"12\" fill=\"#2c0a58\" fill-rule=\"evenodd\" fill-opacity=\"1\" stroke=\"#000000\" stroke-opacity=\"1\" stroke-width=\"3.2\"/>\n",
       "<circle clip-path=\"url(#clip352)\" cx=\"1152.26\" cy=\"1249.78\" r=\"5\" fill=\"#030211\" fill-rule=\"evenodd\" fill-opacity=\"1\" stroke=\"#000000\" stroke-opacity=\"1\" stroke-width=\"3.2\"/>\n",
       "<circle clip-path=\"url(#clip352)\" cx=\"904.491\" cy=\"1249.78\" r=\"3\" fill=\"#000003\" fill-rule=\"evenodd\" fill-opacity=\"1\" stroke=\"#000000\" stroke-opacity=\"1\" stroke-width=\"3.2\"/>\n",
       "<circle clip-path=\"url(#clip352)\" cx=\"326.374\" cy=\"147.098\" r=\"40\" fill=\"#e65d2e\" fill-rule=\"evenodd\" fill-opacity=\"1\" stroke=\"#000000\" stroke-opacity=\"1\" stroke-width=\"3.2\"/>\n",
       "<circle clip-path=\"url(#clip352)\" cx=\"1895.55\" cy=\"85.838\" r=\"43\" fill=\"#f2741b\" fill-rule=\"evenodd\" fill-opacity=\"1\" stroke=\"#000000\" stroke-opacity=\"1\" stroke-width=\"3.2\"/>\n",
       "<circle clip-path=\"url(#clip352)\" cx=\"1069.67\" cy=\"147.098\" r=\"40\" fill=\"#e65d2e\" fill-rule=\"evenodd\" fill-opacity=\"1\" stroke=\"#000000\" stroke-opacity=\"1\" stroke-width=\"3.2\"/>\n",
       "<defs>\n",
       "  <clipPath id=\"clip353\">\n",
       "    <rect x=\"2160\" y=\"47\" width=\"73\" height=\"1365\"/>\n",
       "  </clipPath>\n",
       "</defs>\n",
       "<g clip-path=\"url(#clip353)\">\n",
       "<image width=\"72\" height=\"1364\" xlink:href=\"data:image/png;base64,\n",
       "iVBORw0KGgoAAAANSUhEUgAAAEgAAAVUCAYAAABzwV4AAAAL0klEQVR4nO3dwY3sRhAFQY5Q/lsh\n",
       "L6XfLQtUeSQPERYsEg+zZJM7+/v3/H0f/tdfb/8AXydQECgIFAQKc+6/b/8Mn2ZBQaAgUBAozL1/\n",
       "3v4ZPs2CgkBBoCBQcCUdLCgIFAQKAgWBwly/xVYWFAQKAgWBwtzjQ3pjQUGgIFAQKLiSDhYUBAoC\n",
       "BYGCQMFvsWBBQaAgUBAoOA8KFhQECgIFgcI8rqRXFhQECgIFgYJAwXlQsKAgUBAoCBTmcR60sqAg\n",
       "UBAoCBTmOf+8/TN8mgUFgYJAQaAgUPBUI1hQECgIFAQKzoOCBQWBgkBBoOBDOlhQECgIFAQKAgXn\n",
       "QcGCgkBBoCBQmJ9bjZUFBYGCQEGgMM/xpf8bCwoCBYGCQEGg4FYjWFAQKAgUBApuNYIFBYGCQEGg\n",
       "4P2gYEFBoCBQECgIFObnVmNlQUGgIFAQKHiJM1hQECgIFAQKrqSDBQWBgkBBoCBQ8Og5WFAQKAgU\n",
       "BApuNYIFBYGCQEGg4Eo6WFAQKAgUBAoCBbcawYKCQEGgIFCY55y3f4ZPs6AgUBAoCBRcSQcLCgIF\n",
       "gYJAQaDgqUawoCBQECgIFHxIBwsKAgWBgkBhfg7tVxYUBAoCBYGCQMGtRrCgIFAQKAgUvB8ULCgI\n",
       "FAQKAgXnQcGCgkBBoCBQECg4DwoWFAQKAgWBgvOgYEFBoCBQECj4kA4WFAQKAgWBgkDBXz0HCwoC\n",
       "BYGCQMGtRrCgIFAQKAgUfEgHCwoCBYGCQEGg4LdYsKAgUBAoCBR8SAcLCgIFgYJAYZ7rQ3pjQUGg\n",
       "IFAQKAgU3GoECwoCBYGCQMGHdLCgIFAQKAgUfEgHCwoCBYGCQEGgMM+5b/8Mn2ZBQaAgUBAouNUI\n",
       "FhQECgIFgYIr6WBBQaAgUBAoCBTcagQLCgIFgYJAwa1GsKAgUBAoCBTmcSG9sqAgUBAoCBQECvNc\n",
       "txobCwoCBYGCQMGtRrCgIFAQKAgUfEgHCwoCBYGCQEGgML4Eb2dBQaAgUBAouNUIFhQECgIFgYIP\n",
       "6WBBQaAgUBAoCBTmOb+3f4ZPs6AgUBAoCBTmXh/SGwsKAgWBgkDBeVCwoCBQECgIFBx3BAsKAgWB\n",
       "gkBBoDD3aLRRJwgUBAoCBbcawYKCQEGgIFCYx5PVlQUFgYJAQaAgUJjrVmNlQUGgIFAQKMzj0H6l\n",
       "ThAoCBQECq6kgwUFgYJAQaAgUPBUI1hQECgIFAQKXuIM6gSBgkBBoOAlzmBBQaAgUBAoCBQ81QgW\n",
       "FAQKAgWBwtyr0UadIFAQKAgUnAcFCwoCBYGCQEGg4DwoWFAQKAgUBArzOA9aqRMECgIFgYIr6WBB\n",
       "QaAgUBAoCBT8FgsWFAQKAgWBgj/qDRYUBAoCBYGCP+oN6gSBgkBBoCBQ8P/mgwUFgYJAQaDg0D5Y\n",
       "UBAoCBQECr70P6gTBAoCBYGCQMF5ULCgIFAQKAgUnAcFCwoCBYGCQMGVdLCgIFAQKAgUBArecg3q\n",
       "BIGCQEGg4FYjWFAQKAgUBAoO7YMFBYGCQEGgIFBwqxEsKAgUBAoCBf+6JlhQECgIFAQK/glkUCcI\n",
       "FAQKAgWBgvOgYEFBoCBQECh49BwsKAgUBAoCBVfSwYKCQEGgIFAQKMzxW2xlQUGgIFAQKPij3qBO\n",
       "ECgIFAQKzoOCBQWBgkBBoCBQ8FssWFAQKAgUBAreDwoWFAQKAgWBgivpYEFBoCBQECgIFPwWCxYU\n",
       "BAoCBYGCr6YI6gSBgkBBoDDHof3KgoJAQaAgUBAoOA8KFhQECgIFgYIP6WBBQaAgUBAo+JAOFhQE\n",
       "CgIFgYJAwfcHBQsKAgWBgkDBrUawoCBQECgIFHxIBwsKAgWBgkBBoOBPEYI6QaAgUBAo+FOEYEFB\n",
       "oCBQECg4DwoWFAQKAgWBgkDBb7FgQUGgIFAQKHiJM1hQECgIFAQKrqSDBQWBgkBBoCBQmPv4Lbax\n",
       "oCBQECgIFJwHBQsKAgWBgkDBeVCwoCBQECgIFAQKbjWCBQWBgkBBoOBWI1hQECgIFAQKrqSDBQWB\n",
       "gkBBoCBQcKsRLCgIFAQKAgUf0sGCgkBBoCBQmONN+5UFBYGCQEGg4Eo6WFAQKAgUBAoCBY+egwUF\n",
       "gYJAQaAw9779I3ybBQWBgkBBoOBKOlhQECgIFAQKAgVf8hYsKAgUBAoCBbcawYKCQEGgIFDwflCw\n",
       "oCBQECgIFAQK/hQhWFAQKAgUBAreDwoWFAQKAgWBgkP7YEFBoCBQECgIFDzVCBYUBAoCBYGCQ/tg\n",
       "QUGgIFAQKDgPChYUBAoCBYGCQMGj52BBQaAgUBAoOA8KFhQECgIFgYInq8GCgkBBoCBQECjMefsn\n",
       "+DgLCgIFgYJAwa1GsKAgUBAoCBS8HxQsKAgUBAoCBYGC86BgQUGgIFAQKDgPChYUBAoCBYGCK+lg\n",
       "QUGgIFAQKAgU3GoECwoCBYGCQMGj52BBQaAgUBAojC9e2FlQECgIFAQKAgW3GsGCgkBBoCBQ8Og5\n",
       "WFAQKAgUBAqerAYLCgIFgYJAQaDgViNYUBAoCBQECm41ggUFgYJAQaAwxwtCKwsKAgWBgkBBoOA8\n",
       "KFhQECgIFAQKzoOCBQWBgkBBoOBKOlhQECgIFAQKAgX/bz5YUBAoCBQECv7ffLCgIFAQKAgUvB8U\n",
       "LCgIFAQKAgWBgm/BCxYUBAoCBYGCL3kLFhQECgIFgYInq8GCgkBBoCBQECh4yzVYUBAoCBQECv5e\n",
       "LFhQECgIFAQKrqSDBQWBgkBBoCBQ8JZrsKAgUBAoCBS8xBksKAgUBAoCBVfSwYKCQEGgIFAQKHjL\n",
       "NVhQECgIFAQKvj8oWFAQKAgUBArOg4IFBYGCQEGgIFDw6DlYUBAoCBQECm41ggUFgYJAQaDgSjpY\n",
       "UBAoCBQECgIFtxrBgoJAQaAgUPAhHSwoCBQECgIF50HBgoJAQaAgUBAouNUIFhQECgIFgYJbjWBB\n",
       "QaAgUBAouJIOFhQECgIFgYJAwfcHBQsKAgWBgkDBv64JFhQECgIFgYLzoGBBQaAgUBAoCBTmPn6N\n",
       "bSwoCBQECgIFtxrBgoJAQaAgUPBkNVhQECgIFAQKnqwGCwoCBYGCQEGg4DwoWFAQKAgUBAqerAYL\n",
       "CgIFgYJAwZV0sKAgUBAoCBQECr4/KFhQECgIFAQKc7wgtLKgIFAQKAgUvB8ULCgIFAQKAgWBwly3\n",
       "GisLCgIFgYJAwa1GsKAgUBAoCBQc2gcLCgIFgYJAQaDg/aBgQUGgIFAQKMzx92IrCwoCBYGCQMF5\n",
       "ULCgIFAQKAgUBAq+miJYUBAoCBQECt4PChYUBAoCBYGCQ/tgQUGgIFAQKAgUnAcFCwoCBYGCQGHO\n",
       "40RoY0FBoCBQECg4DwoWFAQKAgWBgkDBb7FgQUGgIFAQKDi0DxYUBAoCBYGCQ/tgQUGgIFAQKAgU\n",
       "5vzcamwsKAgUBAoCBbcawYKCQEGgIFCY60N6ZUFBoCBQECgIFNxqBAsKAgWBgkBhzs+H9MaCgkBB\n",
       "oCBQcCUdLCgIFAQKAgWBgqcawYKCQEGgIFBwqxEsKAgUBAoCBR/SwYKCQEGgIFAQKHj0HCwoCBQE\n",
       "CgKFuc+ft3+GT7OgIFAQKAgUnAcFCwoCBYGCQEGg4P2gYEFBoCBQECjMuc6DNhYUBAoCBYGCK+lg\n",
       "QUGgIFAQKAgU5nj0vLKgIFAQKAgU3GoECwoCBYGCQMGVdLCgIFAQKAgUBApzr1uNjQUFgYJAQaDg\n",
       "PChYUBAoCBQECl7iDBYUBAoCBYGCQMGtRrCgIFAQKAgU5rrVWFlQECgIFAQKrqSDBQWBgkBBoCBQ\n",
       "mOP9oJUFBYGCQEGg4PukgwUFgYJAQaDgTftgQUGgIFAQKAgUPNUIFhQECgIFgYJbjWBBQaAgUBAo\n",
       "+JAOFhQECgIFgYJAwaPnYEFBoCBQECi41QgWFAQKAgWBwjyerK4sKAgUBAoCBYGCW41gQUGgIFAQ\n",
       "KHiJM1hQECgIFAQK87iSXllQECgIFAQKAgXvBwULCgIFgYJAwaPnYEFBoCBQECg4DwoWFAQKAgWB\n",
       "gkBh7nPf/hk+zYKCQEGgIFBwHhQsKAgUBAoChXlcSa8sKAgUBAoChf8AJ8ztt7m0cDkAAAAASUVO\n",
       "RK5CYII=\n",
       "\" transform=\"translate(2161, 47)\"/>\n",
       "</g>\n",
       "<path clip-path=\"url(#clip350)\" d=\"M 0 0 M2280.7 1214.15 Q2277.09 1214.15 2275.26 1217.71 Q2273.45 1221.25 2273.45 1228.38 Q2273.45 1235.49 2275.26 1239.05 Q2277.09 1242.6 2280.7 1242.6 Q2284.33 1242.6 2286.14 1239.05 Q2287.97 1235.49 2287.97 1228.38 Q2287.97 1221.25 2286.14 1217.71 Q2284.33 1214.15 2280.7 1214.15 M2280.7 1210.44 Q2286.51 1210.44 2289.57 1215.05 Q2292.64 1219.63 2292.64 1228.38 Q2292.64 1237.11 2289.57 1241.72 Q2286.51 1246.3 2280.7 1246.3 Q2274.89 1246.3 2271.81 1241.72 Q2268.76 1237.11 2268.76 1228.38 Q2268.76 1219.63 2271.81 1215.05 Q2274.89 1210.44 2280.7 1210.44 Z\" fill=\"#000000\" fill-rule=\"evenodd\" fill-opacity=\"1\" /><path clip-path=\"url(#clip350)\" d=\"M 0 0 M2297.71 1239.75 L2302.6 1239.75 L2302.6 1245.63 L2297.71 1245.63 L2297.71 1239.75 Z\" fill=\"#000000\" fill-rule=\"evenodd\" fill-opacity=\"1\" /><path clip-path=\"url(#clip350)\" d=\"M 0 0 M2307.81 1244.91 L2307.81 1240.65 Q2309.57 1241.48 2311.37 1241.92 Q2313.18 1242.36 2314.91 1242.36 Q2319.54 1242.36 2321.97 1239.26 Q2324.43 1236.14 2324.77 1229.79 Q2323.43 1231.79 2321.37 1232.85 Q2319.31 1233.91 2316.81 1233.91 Q2311.63 1233.91 2308.59 1230.79 Q2305.58 1227.64 2305.58 1222.2 Q2305.58 1216.88 2308.73 1213.66 Q2311.88 1210.44 2317.11 1210.44 Q2323.11 1210.44 2326.26 1215.05 Q2329.43 1219.63 2329.43 1228.38 Q2329.43 1236.55 2325.54 1241.44 Q2321.67 1246.3 2315.12 1246.3 Q2313.36 1246.3 2311.56 1245.95 Q2309.75 1245.6 2307.81 1244.91 M2317.11 1230.26 Q2320.26 1230.26 2322.09 1228.1 Q2323.94 1225.95 2323.94 1222.2 Q2323.94 1218.47 2322.09 1216.32 Q2320.26 1214.15 2317.11 1214.15 Q2313.96 1214.15 2312.11 1216.32 Q2310.28 1218.47 2310.28 1222.2 Q2310.28 1225.95 2312.11 1228.1 Q2313.96 1230.26 2317.11 1230.26 Z\" fill=\"#000000\" fill-rule=\"evenodd\" fill-opacity=\"1\" /><path clip-path=\"url(#clip350)\" d=\"M 0 0 M2348.66 1226.99 Q2352.02 1227.71 2353.89 1229.98 Q2355.79 1232.25 2355.79 1235.58 Q2355.79 1240.7 2352.27 1243.5 Q2348.76 1246.3 2342.27 1246.3 Q2340.1 1246.3 2337.78 1245.86 Q2335.49 1245.44 2333.04 1244.59 L2333.04 1240.07 Q2334.98 1241.21 2337.3 1241.78 Q2339.61 1242.36 2342.14 1242.36 Q2346.53 1242.36 2348.82 1240.63 Q2351.14 1238.89 2351.14 1235.58 Q2351.14 1232.53 2348.99 1230.81 Q2346.86 1229.08 2343.04 1229.08 L2339.01 1229.08 L2339.01 1225.23 L2343.22 1225.23 Q2346.67 1225.23 2348.5 1223.87 Q2350.33 1222.48 2350.33 1219.89 Q2350.33 1217.22 2348.43 1215.81 Q2346.56 1214.38 2343.04 1214.38 Q2341.12 1214.38 2338.92 1214.79 Q2336.72 1215.21 2334.08 1216.09 L2334.08 1211.92 Q2336.74 1211.18 2339.06 1210.81 Q2341.39 1210.44 2343.45 1210.44 Q2348.78 1210.44 2351.88 1212.87 Q2354.98 1215.28 2354.98 1219.4 Q2354.98 1222.27 2353.34 1224.26 Q2351.7 1226.23 2348.66 1226.99 Z\" fill=\"#000000\" fill-rule=\"evenodd\" fill-opacity=\"1\" /><path clip-path=\"url(#clip350)\" d=\"M 0 0 M2280.7 1033.15 Q2277.09 1033.15 2275.26 1036.71 Q2273.45 1040.25 2273.45 1047.38 Q2273.45 1054.49 2275.26 1058.05 Q2277.09 1061.59 2280.7 1061.59 Q2284.33 1061.59 2286.14 1058.05 Q2287.97 1054.49 2287.97 1047.38 Q2287.97 1040.25 2286.14 1036.71 Q2284.33 1033.15 2280.7 1033.15 M2280.7 1029.44 Q2286.51 1029.44 2289.57 1034.05 Q2292.64 1038.63 2292.64 1047.38 Q2292.64 1056.11 2289.57 1060.71 Q2286.51 1065.3 2280.7 1065.3 Q2274.89 1065.3 2271.81 1060.71 Q2268.76 1056.11 2268.76 1047.38 Q2268.76 1038.63 2271.81 1034.05 Q2274.89 1029.44 2280.7 1029.44 Z\" fill=\"#000000\" fill-rule=\"evenodd\" fill-opacity=\"1\" /><path clip-path=\"url(#clip350)\" d=\"M 0 0 M2297.71 1058.75 L2302.6 1058.75 L2302.6 1064.63 L2297.71 1064.63 L2297.71 1058.75 Z\" fill=\"#000000\" fill-rule=\"evenodd\" fill-opacity=\"1\" /><path clip-path=\"url(#clip350)\" d=\"M 0 0 M2307.81 1063.91 L2307.81 1059.65 Q2309.57 1060.48 2311.37 1060.92 Q2313.18 1061.36 2314.91 1061.36 Q2319.54 1061.36 2321.97 1058.26 Q2324.43 1055.14 2324.77 1048.79 Q2323.43 1050.78 2321.37 1051.85 Q2319.31 1052.91 2316.81 1052.91 Q2311.63 1052.91 2308.59 1049.79 Q2305.58 1046.64 2305.58 1041.2 Q2305.58 1035.88 2308.73 1032.66 Q2311.88 1029.44 2317.11 1029.44 Q2323.11 1029.44 2326.26 1034.05 Q2329.43 1038.63 2329.43 1047.38 Q2329.43 1055.55 2325.54 1060.44 Q2321.67 1065.3 2315.12 1065.3 Q2313.36 1065.3 2311.56 1064.95 Q2309.75 1064.6 2307.81 1063.91 M2317.11 1049.26 Q2320.26 1049.26 2322.09 1047.1 Q2323.94 1044.95 2323.94 1041.2 Q2323.94 1037.47 2322.09 1035.32 Q2320.26 1033.15 2317.11 1033.15 Q2313.96 1033.15 2312.11 1035.32 Q2310.28 1037.47 2310.28 1041.2 Q2310.28 1044.95 2312.11 1047.1 Q2313.96 1049.26 2317.11 1049.26 Z\" fill=\"#000000\" fill-rule=\"evenodd\" fill-opacity=\"1\" /><path clip-path=\"url(#clip350)\" d=\"M 0 0 M2347.34 1034.14 L2335.54 1052.59 L2347.34 1052.59 L2347.34 1034.14 M2346.12 1030.07 L2352 1030.07 L2352 1052.59 L2356.93 1052.59 L2356.93 1056.48 L2352 1056.48 L2352 1064.63 L2347.34 1064.63 L2347.34 1056.48 L2331.74 1056.48 L2331.74 1051.96 L2346.12 1030.07 Z\" fill=\"#000000\" fill-rule=\"evenodd\" fill-opacity=\"1\" /><path clip-path=\"url(#clip350)\" d=\"M 0 0 M2280.7 852.145 Q2277.09 852.145 2275.26 855.71 Q2273.45 859.251 2273.45 866.381 Q2273.45 873.487 2275.26 877.052 Q2277.09 880.594 2280.7 880.594 Q2284.33 880.594 2286.14 877.052 Q2287.97 873.487 2287.97 866.381 Q2287.97 859.251 2286.14 855.71 Q2284.33 852.145 2280.7 852.145 M2280.7 848.441 Q2286.51 848.441 2289.57 853.047 Q2292.64 857.631 2292.64 866.381 Q2292.64 875.108 2289.57 879.714 Q2286.51 884.297 2280.7 884.297 Q2274.89 884.297 2271.81 879.714 Q2268.76 875.108 2268.76 866.381 Q2268.76 857.631 2271.81 853.047 Q2274.89 848.441 2280.7 848.441 Z\" fill=\"#000000\" fill-rule=\"evenodd\" fill-opacity=\"1\" /><path clip-path=\"url(#clip350)\" d=\"M 0 0 M2297.71 877.746 L2302.6 877.746 L2302.6 883.626 L2297.71 883.626 L2297.71 877.746 Z\" fill=\"#000000\" fill-rule=\"evenodd\" fill-opacity=\"1\" /><path clip-path=\"url(#clip350)\" d=\"M 0 0 M2307.81 882.908 L2307.81 878.649 Q2309.57 879.483 2311.37 879.922 Q2313.18 880.362 2314.91 880.362 Q2319.54 880.362 2321.97 877.26 Q2324.43 874.135 2324.77 867.793 Q2323.43 869.784 2321.37 870.848 Q2319.31 871.913 2316.81 871.913 Q2311.63 871.913 2308.59 868.788 Q2305.58 865.64 2305.58 860.2 Q2305.58 854.876 2308.73 851.659 Q2311.88 848.441 2317.11 848.441 Q2323.11 848.441 2326.26 853.047 Q2329.43 857.631 2329.43 866.381 Q2329.43 874.552 2325.54 879.436 Q2321.67 884.297 2315.12 884.297 Q2313.36 884.297 2311.56 883.95 Q2309.75 883.603 2307.81 882.908 M2317.11 868.256 Q2320.26 868.256 2322.09 866.103 Q2323.94 863.95 2323.94 860.2 Q2323.94 856.473 2322.09 854.321 Q2320.26 852.145 2317.11 852.145 Q2313.96 852.145 2312.11 854.321 Q2310.28 856.473 2310.28 860.2 Q2310.28 863.95 2312.11 866.103 Q2313.96 868.256 2317.11 868.256 Z\" fill=\"#000000\" fill-rule=\"evenodd\" fill-opacity=\"1\" /><path clip-path=\"url(#clip350)\" d=\"M 0 0 M2334.54 849.066 L2352.9 849.066 L2352.9 853.001 L2338.82 853.001 L2338.82 861.473 Q2339.84 861.126 2340.86 860.964 Q2341.88 860.779 2342.9 860.779 Q2348.69 860.779 2352.07 863.95 Q2355.45 867.121 2355.45 872.538 Q2355.45 878.117 2351.97 881.219 Q2348.5 884.297 2342.18 884.297 Q2340.01 884.297 2337.74 883.927 Q2335.49 883.557 2333.08 882.816 L2333.08 878.117 Q2335.17 879.251 2337.39 879.807 Q2339.61 880.362 2342.09 880.362 Q2346.09 880.362 2348.43 878.256 Q2350.77 876.149 2350.77 872.538 Q2350.77 868.927 2348.43 866.821 Q2346.09 864.714 2342.09 864.714 Q2340.21 864.714 2338.34 865.131 Q2336.49 865.547 2334.54 866.427 L2334.54 849.066 Z\" fill=\"#000000\" fill-rule=\"evenodd\" fill-opacity=\"1\" /><path clip-path=\"url(#clip350)\" d=\"M 0 0 M2280.7 671.144 Q2277.09 671.144 2275.26 674.709 Q2273.45 678.25 2273.45 685.38 Q2273.45 692.486 2275.26 696.051 Q2277.09 699.593 2280.7 699.593 Q2284.33 699.593 2286.14 696.051 Q2287.97 692.486 2287.97 685.38 Q2287.97 678.25 2286.14 674.709 Q2284.33 671.144 2280.7 671.144 M2280.7 667.44 Q2286.51 667.44 2289.57 672.047 Q2292.64 676.63 2292.64 685.38 Q2292.64 694.107 2289.57 698.713 Q2286.51 703.297 2280.7 703.297 Q2274.89 703.297 2271.81 698.713 Q2268.76 694.107 2268.76 685.38 Q2268.76 676.63 2271.81 672.047 Q2274.89 667.44 2280.7 667.44 Z\" fill=\"#000000\" fill-rule=\"evenodd\" fill-opacity=\"1\" /><path clip-path=\"url(#clip350)\" d=\"M 0 0 M2297.71 696.746 L2302.6 696.746 L2302.6 702.625 L2297.71 702.625 L2297.71 696.746 Z\" fill=\"#000000\" fill-rule=\"evenodd\" fill-opacity=\"1\" /><path clip-path=\"url(#clip350)\" d=\"M 0 0 M2307.81 701.908 L2307.81 697.648 Q2309.57 698.482 2311.37 698.922 Q2313.18 699.361 2314.91 699.361 Q2319.54 699.361 2321.97 696.26 Q2324.43 693.135 2324.77 686.792 Q2323.43 688.783 2321.37 689.848 Q2319.31 690.912 2316.81 690.912 Q2311.63 690.912 2308.59 687.787 Q2305.58 684.639 2305.58 679.199 Q2305.58 673.875 2308.73 670.658 Q2311.88 667.44 2317.11 667.44 Q2323.11 667.44 2326.26 672.047 Q2329.43 676.63 2329.43 685.38 Q2329.43 693.551 2325.54 698.435 Q2321.67 703.297 2315.12 703.297 Q2313.36 703.297 2311.56 702.949 Q2309.75 702.602 2307.81 701.908 M2317.11 687.255 Q2320.26 687.255 2322.09 685.102 Q2323.94 682.949 2323.94 679.199 Q2323.94 675.473 2322.09 673.32 Q2320.26 671.144 2317.11 671.144 Q2313.96 671.144 2312.11 673.32 Q2310.28 675.473 2310.28 679.199 Q2310.28 682.949 2312.11 685.102 Q2313.96 687.255 2317.11 687.255 Z\" fill=\"#000000\" fill-rule=\"evenodd\" fill-opacity=\"1\" /><path clip-path=\"url(#clip350)\" d=\"M 0 0 M2345.07 683.482 Q2341.93 683.482 2340.07 685.635 Q2338.25 687.787 2338.25 691.537 Q2338.25 695.264 2340.07 697.44 Q2341.93 699.593 2345.07 699.593 Q2348.22 699.593 2350.05 697.44 Q2351.9 695.264 2351.9 691.537 Q2351.9 687.787 2350.05 685.635 Q2348.22 683.482 2345.07 683.482 M2354.36 668.829 L2354.36 673.088 Q2352.6 672.255 2350.79 671.815 Q2349.01 671.375 2347.25 671.375 Q2342.62 671.375 2340.17 674.5 Q2337.74 677.625 2337.39 683.945 Q2338.76 681.931 2340.82 680.866 Q2342.88 679.778 2345.35 679.778 Q2350.56 679.778 2353.57 682.949 Q2356.6 686.098 2356.6 691.537 Q2356.6 696.861 2353.45 700.079 Q2350.31 703.297 2345.07 703.297 Q2339.08 703.297 2335.91 698.713 Q2332.74 694.107 2332.74 685.38 Q2332.74 677.186 2336.63 672.325 Q2340.51 667.44 2347.07 667.44 Q2348.82 667.44 2350.61 667.787 Q2352.41 668.135 2354.36 668.829 Z\" fill=\"#000000\" fill-rule=\"evenodd\" fill-opacity=\"1\" /><path clip-path=\"url(#clip350)\" d=\"M 0 0 M2280.7 490.143 Q2277.09 490.143 2275.26 493.708 Q2273.45 497.25 2273.45 504.379 Q2273.45 511.486 2275.26 515.05 Q2277.09 518.592 2280.7 518.592 Q2284.33 518.592 2286.14 515.05 Q2287.97 511.486 2287.97 504.379 Q2287.97 497.25 2286.14 493.708 Q2284.33 490.143 2280.7 490.143 M2280.7 486.44 Q2286.51 486.44 2289.57 491.046 Q2292.64 495.629 2292.64 504.379 Q2292.64 513.106 2289.57 517.712 Q2286.51 522.296 2280.7 522.296 Q2274.89 522.296 2271.81 517.712 Q2268.76 513.106 2268.76 504.379 Q2268.76 495.629 2271.81 491.046 Q2274.89 486.44 2280.7 486.44 Z\" fill=\"#000000\" fill-rule=\"evenodd\" fill-opacity=\"1\" /><path clip-path=\"url(#clip350)\" d=\"M 0 0 M2297.71 515.745 L2302.6 515.745 L2302.6 521.625 L2297.71 521.625 L2297.71 515.745 Z\" fill=\"#000000\" fill-rule=\"evenodd\" fill-opacity=\"1\" /><path clip-path=\"url(#clip350)\" d=\"M 0 0 M2307.81 520.907 L2307.81 516.648 Q2309.57 517.481 2311.37 517.921 Q2313.18 518.361 2314.91 518.361 Q2319.54 518.361 2321.97 515.259 Q2324.43 512.134 2324.77 505.791 Q2323.43 507.782 2321.37 508.847 Q2319.31 509.912 2316.81 509.912 Q2311.63 509.912 2308.59 506.787 Q2305.58 503.638 2305.58 498.199 Q2305.58 492.875 2308.73 489.657 Q2311.88 486.44 2317.11 486.44 Q2323.11 486.44 2326.26 491.046 Q2329.43 495.629 2329.43 504.379 Q2329.43 512.55 2325.54 517.435 Q2321.67 522.296 2315.12 522.296 Q2313.36 522.296 2311.56 521.949 Q2309.75 521.601 2307.81 520.907 M2317.11 506.254 Q2320.26 506.254 2322.09 504.101 Q2323.94 501.949 2323.94 498.199 Q2323.94 494.472 2322.09 492.319 Q2320.26 490.143 2317.11 490.143 Q2313.96 490.143 2312.11 492.319 Q2310.28 494.472 2310.28 498.199 Q2310.28 501.949 2312.11 504.101 Q2313.96 506.254 2317.11 506.254 Z\" fill=\"#000000\" fill-rule=\"evenodd\" fill-opacity=\"1\" /><path clip-path=\"url(#clip350)\" d=\"M 0 0 M2333.32 487.065 L2355.54 487.065 L2355.54 489.055 L2342.99 521.625 L2338.11 521.625 L2349.91 491 L2333.32 491 L2333.32 487.065 Z\" fill=\"#000000\" fill-rule=\"evenodd\" fill-opacity=\"1\" /><path clip-path=\"url(#clip350)\" d=\"M 0 0 M2280.7 309.142 Q2277.09 309.142 2275.26 312.707 Q2273.45 316.249 2273.45 323.378 Q2273.45 330.485 2275.26 334.05 Q2277.09 337.591 2280.7 337.591 Q2284.33 337.591 2286.14 334.05 Q2287.97 330.485 2287.97 323.378 Q2287.97 316.249 2286.14 312.707 Q2284.33 309.142 2280.7 309.142 M2280.7 305.439 Q2286.51 305.439 2289.57 310.045 Q2292.64 314.629 2292.64 323.378 Q2292.64 332.105 2289.57 336.712 Q2286.51 341.295 2280.7 341.295 Q2274.89 341.295 2271.81 336.712 Q2268.76 332.105 2268.76 323.378 Q2268.76 314.629 2271.81 310.045 Q2274.89 305.439 2280.7 305.439 Z\" fill=\"#000000\" fill-rule=\"evenodd\" fill-opacity=\"1\" /><path clip-path=\"url(#clip350)\" d=\"M 0 0 M2297.71 334.744 L2302.6 334.744 L2302.6 340.624 L2297.71 340.624 L2297.71 334.744 Z\" fill=\"#000000\" fill-rule=\"evenodd\" fill-opacity=\"1\" /><path clip-path=\"url(#clip350)\" d=\"M 0 0 M2307.81 339.906 L2307.81 335.647 Q2309.57 336.48 2311.37 336.92 Q2313.18 337.36 2314.91 337.36 Q2319.54 337.36 2321.97 334.258 Q2324.43 331.133 2324.77 324.79 Q2323.43 326.781 2321.37 327.846 Q2319.31 328.911 2316.81 328.911 Q2311.63 328.911 2308.59 325.786 Q2305.58 322.638 2305.58 317.198 Q2305.58 311.874 2308.73 308.656 Q2311.88 305.439 2317.11 305.439 Q2323.11 305.439 2326.26 310.045 Q2329.43 314.629 2329.43 323.378 Q2329.43 331.55 2325.54 336.434 Q2321.67 341.295 2315.12 341.295 Q2313.36 341.295 2311.56 340.948 Q2309.75 340.601 2307.81 339.906 M2317.11 325.253 Q2320.26 325.253 2322.09 323.101 Q2323.94 320.948 2323.94 317.198 Q2323.94 313.471 2322.09 311.318 Q2320.26 309.142 2317.11 309.142 Q2313.96 309.142 2312.11 311.318 Q2310.28 313.471 2310.28 317.198 Q2310.28 320.948 2312.11 323.101 Q2313.96 325.253 2317.11 325.253 Z\" fill=\"#000000\" fill-rule=\"evenodd\" fill-opacity=\"1\" /><path clip-path=\"url(#clip350)\" d=\"M 0 0 M2344.5 324.212 Q2341.16 324.212 2339.24 325.994 Q2337.34 327.777 2337.34 330.902 Q2337.34 334.027 2339.24 335.809 Q2341.16 337.591 2344.5 337.591 Q2347.83 337.591 2349.75 335.809 Q2351.67 334.003 2351.67 330.902 Q2351.67 327.777 2349.75 325.994 Q2347.85 324.212 2344.5 324.212 M2339.82 322.221 Q2336.81 321.48 2335.12 319.42 Q2333.45 317.36 2333.45 314.397 Q2333.45 310.254 2336.39 307.846 Q2339.36 305.439 2344.5 305.439 Q2349.66 305.439 2352.6 307.846 Q2355.54 310.254 2355.54 314.397 Q2355.54 317.36 2353.85 319.42 Q2352.18 321.48 2349.2 322.221 Q2352.57 323.008 2354.45 325.3 Q2356.35 327.591 2356.35 330.902 Q2356.35 335.925 2353.27 338.61 Q2350.21 341.295 2344.5 341.295 Q2338.78 341.295 2335.7 338.61 Q2332.64 335.925 2332.64 330.902 Q2332.64 327.591 2334.54 325.3 Q2336.44 323.008 2339.82 322.221 M2338.11 314.837 Q2338.11 317.522 2339.77 319.027 Q2341.46 320.531 2344.5 320.531 Q2347.51 320.531 2349.2 319.027 Q2350.91 317.522 2350.91 314.837 Q2350.91 312.152 2349.2 310.647 Q2347.51 309.142 2344.5 309.142 Q2341.46 309.142 2339.77 310.647 Q2338.11 312.152 2338.11 314.837 Z\" fill=\"#000000\" fill-rule=\"evenodd\" fill-opacity=\"1\" /><path clip-path=\"url(#clip350)\" d=\"M 0 0 M2280.7 128.142 Q2277.09 128.142 2275.26 131.706 Q2273.45 135.248 2273.45 142.378 Q2273.45 149.484 2275.26 153.049 Q2277.09 156.591 2280.7 156.591 Q2284.33 156.591 2286.14 153.049 Q2287.97 149.484 2287.97 142.378 Q2287.97 135.248 2286.14 131.706 Q2284.33 128.142 2280.7 128.142 M2280.7 124.438 Q2286.51 124.438 2289.57 129.044 Q2292.64 133.628 2292.64 142.378 Q2292.64 151.105 2289.57 155.711 Q2286.51 160.294 2280.7 160.294 Q2274.89 160.294 2271.81 155.711 Q2268.76 151.105 2268.76 142.378 Q2268.76 133.628 2271.81 129.044 Q2274.89 124.438 2280.7 124.438 Z\" fill=\"#000000\" fill-rule=\"evenodd\" fill-opacity=\"1\" /><path clip-path=\"url(#clip350)\" d=\"M 0 0 M2297.71 153.743 L2302.6 153.743 L2302.6 159.623 L2297.71 159.623 L2297.71 153.743 Z\" fill=\"#000000\" fill-rule=\"evenodd\" fill-opacity=\"1\" /><path clip-path=\"url(#clip350)\" d=\"M 0 0 M2307.81 158.905 L2307.81 154.646 Q2309.57 155.479 2311.37 155.919 Q2313.18 156.359 2314.91 156.359 Q2319.54 156.359 2321.97 153.257 Q2324.43 150.132 2324.77 143.79 Q2323.43 145.78 2321.37 146.845 Q2319.31 147.91 2316.81 147.91 Q2311.63 147.91 2308.59 144.785 Q2305.58 141.637 2305.58 136.197 Q2305.58 130.873 2308.73 127.656 Q2311.88 124.438 2317.11 124.438 Q2323.11 124.438 2326.26 129.044 Q2329.43 133.628 2329.43 142.378 Q2329.43 150.549 2325.54 155.433 Q2321.67 160.294 2315.12 160.294 Q2313.36 160.294 2311.56 159.947 Q2309.75 159.6 2307.81 158.905 M2317.11 144.253 Q2320.26 144.253 2322.09 142.1 Q2323.94 139.947 2323.94 136.197 Q2323.94 132.47 2322.09 130.318 Q2320.26 128.142 2317.11 128.142 Q2313.96 128.142 2312.11 130.318 Q2310.28 132.47 2310.28 136.197 Q2310.28 139.947 2312.11 142.1 Q2313.96 144.253 2317.11 144.253 Z\" fill=\"#000000\" fill-rule=\"evenodd\" fill-opacity=\"1\" /><path clip-path=\"url(#clip350)\" d=\"M 0 0 M2334.64 158.905 L2334.64 154.646 Q2336.39 155.479 2338.2 155.919 Q2340.01 156.359 2341.74 156.359 Q2346.37 156.359 2348.8 153.257 Q2351.26 150.132 2351.6 143.79 Q2350.26 145.78 2348.2 146.845 Q2346.14 147.91 2343.64 147.91 Q2338.45 147.91 2335.42 144.785 Q2332.41 141.637 2332.41 136.197 Q2332.41 130.873 2335.56 127.656 Q2338.71 124.438 2343.94 124.438 Q2349.94 124.438 2353.08 129.044 Q2356.26 133.628 2356.26 142.378 Q2356.26 150.549 2352.37 155.433 Q2348.5 160.294 2341.95 160.294 Q2340.19 160.294 2338.39 159.947 Q2336.58 159.6 2334.64 158.905 M2343.94 144.253 Q2347.09 144.253 2348.92 142.1 Q2350.77 139.947 2350.77 136.197 Q2350.77 132.47 2348.92 130.318 Q2347.09 128.142 2343.94 128.142 Q2340.79 128.142 2338.94 130.318 Q2337.11 132.47 2337.11 136.197 Q2337.11 139.947 2338.94 142.1 Q2340.79 144.253 2343.94 144.253 Z\" fill=\"#000000\" fill-rule=\"evenodd\" fill-opacity=\"1\" /><polyline clip-path=\"url(#clip350)\" style=\"stroke:#000000; stroke-width:4; stroke-opacity:1; fill:none\" points=\"\n",
       "  2232.76,1410.9 2232.76,1231.98 2256.76,1231.98 2232.76,1231.98 2232.76,1050.98 2256.76,1050.98 2232.76,1050.98 2232.76,869.975 2256.76,869.975 2232.76,869.975 \n",
       "  2232.76,688.974 2256.76,688.974 2232.76,688.974 2232.76,507.973 2256.76,507.973 2232.76,507.973 2232.76,326.973 2256.76,326.973 2232.76,326.973 2232.76,145.972 \n",
       "  2256.76,145.972 2232.76,145.972 2232.76,47.2441 \n",
       "  \"/>\n",
       "</svg>\n"
      ]
     },
     "execution_count": 109,
     "metadata": {},
     "output_type": "execute_result"
    }
   ],
   "source": [
    "plot(self_tuning_svm_mach)"
   ]
  },
  {
   "cell_type": "code",
   "execution_count": 110,
   "metadata": {},
   "outputs": [],
   "source": [
    "fn = \"Figures/SVM_RBF_MCC\"\n",
    "png(replace(fn,'.' => ','))"
   ]
  },
  {
   "cell_type": "code",
   "execution_count": 90,
   "metadata": {},
   "outputs": [
    {
     "data": {
      "text/plain": [
       "(best_model = \u001b[34mSVMClassifier @265\u001b[39m,\n",
       " best_fitted_params = (support = Int32[18, 130, 156, 158, 178, 192, 193, 253, 262, 306  …  400, 31, 57, 82, 199, 234, 279, 297, 331, 428],\n",
       "                       support_vectors = [2.0 2.0 1.0 4.0; 1.0 3.0 3.0 1.0; … ; 5.0 1.0 2.0 3.0; 1.0 4.0 5.0 1.0],\n",
       "                       n_support = Int32[16, 7, 9],\n",
       "                       dual_coef = [0.0 0.0 … -1942.892247078189 -5725.046920399966; 132867.0046857067 84267.79205810651 … -7535.3342842905595 -0.0],\n",
       "                       coef = nothing,\n",
       "                       intercept = [-51.38080343974874, 6.1935019639073, -6.806507599412816],\n",
       "                       fit_status = 0,\n",
       "                       classes = UInt32[0x00000001, 0x00000002, 0x00000003],),)"
      ]
     },
     "execution_count": 90,
     "metadata": {},
     "output_type": "execute_result"
    }
   ],
   "source": [
    "best_rbf = fitted_params(self_tuning_svm_mach)\n",
    "best_rbf"
   ]
  },
  {
   "cell_type": "code",
   "execution_count": 91,
   "metadata": {},
   "outputs": [
    {
     "data": {
      "text/plain": [
       "SVMClassifier(\n",
       "    C = 132867.0046857067,\n",
       "    kernel = \"rbf\",\n",
       "    degree = 3,\n",
       "    gamma = 0.0014345028995850935,\n",
       "    coef0 = 0.0,\n",
       "    shrinking = true,\n",
       "    tol = 0.001,\n",
       "    cache_size = 1000,\n",
       "    max_iter = -1,\n",
       "    decision_function_shape = \"ovr\",\n",
       "    random_state = nothing)\u001b[34m @265\u001b[39m"
      ]
     },
     "execution_count": 91,
     "metadata": {},
     "output_type": "execute_result"
    }
   ],
   "source": [
    "best_rbf.best_model"
   ]
  },
  {
   "cell_type": "code",
   "execution_count": 92,
   "metadata": {},
   "outputs": [
    {
     "data": {
      "text/plain": [
       "0.99545"
      ]
     },
     "execution_count": 92,
     "metadata": {},
     "output_type": "execute_result"
    }
   ],
   "source": [
    "best_loss = round(z.report.best_result.measurement[1],digits=5)"
   ]
  },
  {
   "cell_type": "code",
   "execution_count": null,
   "metadata": {},
   "outputs": [],
   "source": [
    "# fn = \"Figures/LearningCurve_DT_merge_purity_thresh:$(best_mpt)_loss:$(best_loss)\"\n",
    "# png(replace(fn,'.' => ','))"
   ]
  },
  {
   "cell_type": "markdown",
   "metadata": {},
   "source": [
    "##### More fitting"
   ]
  },
  {
   "cell_type": "code",
   "execution_count": 93,
   "metadata": {},
   "outputs": [
    {
     "name": "stderr",
     "output_type": "stream",
     "text": [
      "┌ Info: Training \u001b[34mMachine{SVMClassifier} @850\u001b[39m.\n",
      "└ @ MLJBase /home/andrew/.julia/packages/MLJBase/uKzAz/src/machines.jl:319\n",
      "\u001b[33mEvaluating over 6 folds: 100%[=========================] Time: 0:00:00\u001b[39m\n"
     ]
    },
    {
     "data": {
      "text/plain": [
       "┌\u001b[0m───────────\u001b[0m┬\u001b[0m───────────────\u001b[0m┬\u001b[0m──────────────────────────────────\u001b[0m┐\u001b[0m\n",
       "│\u001b[0m\u001b[22m _.measure \u001b[0m│\u001b[0m\u001b[22m _.measurement \u001b[0m│\u001b[0m\u001b[22m _.per_fold                       \u001b[0m│\u001b[0m\n",
       "├\u001b[0m───────────\u001b[0m┼\u001b[0m───────────────\u001b[0m┼\u001b[0m──────────────────────────────────\u001b[0m┤\u001b[0m\n",
       "│\u001b[0m accuracy  \u001b[0m│\u001b[0m 0.997         \u001b[0m│\u001b[0m [0.99, 0.99, 1.0, 1.0, 1.0, 1.0] \u001b[0m│\u001b[0m\n",
       "└\u001b[0m───────────\u001b[0m┴\u001b[0m───────────────\u001b[0m┴\u001b[0m──────────────────────────────────\u001b[0m┘\u001b[0m\n",
       "_.per_observation = [missing]\n",
       "_.fitted_params_per_fold = [ … ]\n",
       "_.report_per_fold = [ … ]\n"
      ]
     },
     "execution_count": 93,
     "metadata": {},
     "output_type": "execute_result"
    }
   ],
   "source": [
    "best_rbf_model = SVMClassifier(kernel=\"rbf\", C=best_rbf.best_model.C, gamma=best_rbf.best_model.gamma)\n",
    "svm_mach = machine(best_rbf_model, X, y)\n",
    "fit!(svm_mach, rows=train, verbosity=2)\n",
    "svm_acc = evaluate!(svm_mach, resampling=CV(shuffle=true), measure=[accuracy], \n",
    "                        verbosity=1)"
   ]
  },
  {
   "cell_type": "markdown",
   "metadata": {},
   "source": [
    "##### Learning Curves"
   ]
  },
  {
   "cell_type": "code",
   "execution_count": 94,
   "metadata": {
    "scrolled": true
   },
   "outputs": [
    {
     "name": "stdout",
     "output_type": "stream",
     "text": [
      "(d, train_metric, valid_metric) = (10, 1.0, 0.7272727272727273)\n",
      "(d, train_metric, valid_metric) = (15, 1.0, 0.6704545454545454)\n",
      "(d, train_metric, valid_metric) = (20, 1.0, 0.7954545454545454)\n",
      "(d, train_metric, valid_metric) = (25, 1.0, 0.8181818181818181)\n",
      "(d, train_metric, valid_metric) = (30, 1.0, 0.8181818181818181)\n",
      "(d, train_metric, valid_metric) = (35, 1.0, 0.7727272727272727)\n",
      "(d, train_metric, valid_metric) = (40, 1.0, 0.7727272727272727)\n",
      "(d, train_metric, valid_metric) = (45, 1.0, 0.7727272727272727)\n",
      "(d, train_metric, valid_metric) = (50, 1.0, 0.75)\n",
      "(d, train_metric, valid_metric) = (55, 1.0, 0.7840909090909091)\n",
      "(d, train_metric, valid_metric) = (60, 1.0, 0.7840909090909091)\n",
      "(d, train_metric, valid_metric) = (65, 1.0, 0.8068181818181819)\n",
      "(d, train_metric, valid_metric) = (70, 1.0, 0.8295454545454546)\n",
      "(d, train_metric, valid_metric) = (75, 1.0, 0.8295454545454546)\n",
      "(d, train_metric, valid_metric) = (80, 1.0, 0.8295454545454546)\n",
      "(d, train_metric, valid_metric) = (85, 1.0, 0.8522727272727273)\n",
      "(d, train_metric, valid_metric) = (90, 1.0, 0.8522727272727273)\n",
      "(d, train_metric, valid_metric) = (95, 1.0, 0.8409090909090909)\n",
      "(d, train_metric, valid_metric) = (100, 1.0, 0.8409090909090909)\n",
      "(d, train_metric, valid_metric) = (105, 1.0, 0.8295454545454546)\n",
      "(d, train_metric, valid_metric) = (110, 1.0, 0.8295454545454546)\n",
      "(d, train_metric, valid_metric) = (115, 1.0, 0.8181818181818181)\n",
      "(d, train_metric, valid_metric) = (120, 1.0, 0.8409090909090909)\n",
      "(d, train_metric, valid_metric) = (125, 1.0, 0.875)\n",
      "(d, train_metric, valid_metric) = (130, 1.0, 0.8977272727272727)\n",
      "(d, train_metric, valid_metric) = (135, 1.0, 0.8977272727272727)\n",
      "(d, train_metric, valid_metric) = (140, 1.0, 0.8977272727272727)\n",
      "(d, train_metric, valid_metric) = (145, 1.0, 0.8977272727272727)\n",
      "(d, train_metric, valid_metric) = (150, 1.0, 0.9090909090909091)\n",
      "(d, train_metric, valid_metric) = (155, 1.0, 0.9090909090909091)\n",
      "(d, train_metric, valid_metric) = (160, 1.0, 0.9090909090909091)\n",
      "(d, train_metric, valid_metric) = (165, 1.0, 0.9090909090909091)\n",
      "(d, train_metric, valid_metric) = (170, 1.0, 0.9090909090909091)\n",
      "(d, train_metric, valid_metric) = (175, 1.0, 0.9090909090909091)\n",
      "(d, train_metric, valid_metric) = (180, 1.0, 0.8977272727272727)\n",
      "(d, train_metric, valid_metric) = (185, 1.0, 0.8977272727272727)\n",
      "(d, train_metric, valid_metric) = (190, 1.0, 0.8977272727272727)\n",
      "(d, train_metric, valid_metric) = (195, 1.0, 0.8977272727272727)\n",
      "(d, train_metric, valid_metric) = (200, 1.0, 0.8977272727272727)\n",
      "(d, train_metric, valid_metric) = (205, 1.0, 0.8977272727272727)\n",
      "(d, train_metric, valid_metric) = (210, 1.0, 0.8977272727272727)\n",
      "(d, train_metric, valid_metric) = (215, 1.0, 0.9204545454545454)\n",
      "(d, train_metric, valid_metric) = (220, 1.0, 0.9545454545454546)\n",
      "(d, train_metric, valid_metric) = (225, 1.0, 0.9545454545454546)\n",
      "(d, train_metric, valid_metric) = (230, 1.0, 0.9545454545454546)\n",
      "(d, train_metric, valid_metric) = (235, 1.0, 0.9545454545454546)\n",
      "(d, train_metric, valid_metric) = (240, 1.0, 0.9545454545454546)\n",
      "(d, train_metric, valid_metric) = (245, 1.0, 0.9772727272727273)\n",
      "(d, train_metric, valid_metric) = (250, 1.0, 0.9659090909090909)\n",
      "(d, train_metric, valid_metric) = (255, 1.0, 0.9659090909090909)\n",
      "(d, train_metric, valid_metric) = (260, 1.0, 0.9659090909090909)\n",
      "(d, train_metric, valid_metric) = (265, 1.0, 0.9659090909090909)\n",
      "(d, train_metric, valid_metric) = (270, 1.0, 0.9659090909090909)\n",
      "(d, train_metric, valid_metric) = (275, 1.0, 0.9659090909090909)\n",
      "(d, train_metric, valid_metric) = (280, 1.0, 0.9659090909090909)\n",
      "(d, train_metric, valid_metric) = (285, 1.0, 0.9659090909090909)\n",
      "(d, train_metric, valid_metric) = (290, 1.0, 0.9659090909090909)\n",
      "(d, train_metric, valid_metric) = (295, 1.0, 0.9659090909090909)\n",
      "(d, train_metric, valid_metric) = (300, 1.0, 0.9659090909090909)\n",
      "(d, train_metric, valid_metric) = (305, 1.0, 0.9659090909090909)\n",
      "(d, train_metric, valid_metric) = (310, 1.0, 0.9659090909090909)\n",
      "(d, train_metric, valid_metric) = (315, 1.0, 0.9772727272727273)\n",
      "(d, train_metric, valid_metric) = (320, 1.0, 0.9886363636363636)\n",
      "(d, train_metric, valid_metric) = (325, 1.0, 0.9886363636363636)\n",
      "(d, train_metric, valid_metric) = (330, 1.0, 0.9886363636363636)\n",
      "(d, train_metric, valid_metric) = (335, 1.0, 0.9886363636363636)\n",
      "(d, train_metric, valid_metric) = (340, 1.0, 0.9886363636363636)\n",
      "(d, train_metric, valid_metric) = (345, 1.0, 0.9886363636363636)\n",
      "(d, train_metric, valid_metric) = (350, 1.0, 0.9886363636363636)\n"
     ]
    },
    {
     "data": {
      "text/plain": [
       "(10:5:350, Any[1.0, 1.0, 1.0, 1.0, 1.0, 1.0, 1.0, 1.0, 1.0, 1.0  …  1.0, 1.0, 1.0, 1.0, 1.0, 1.0, 1.0, 1.0, 1.0, 1.0], Any[0.7272727272727273, 0.6704545454545454, 0.7954545454545454, 0.8181818181818181, 0.8181818181818181, 0.7727272727272727, 0.7727272727272727, 0.7727272727272727, 0.75, 0.7840909090909091  …  0.9659090909090909, 0.9659090909090909, 0.9772727272727273, 0.9886363636363636, 0.9886363636363636, 0.9886363636363636, 0.9886363636363636, 0.9886363636363636, 0.9886363636363636, 0.9886363636363636])"
      ]
     },
     "execution_count": 94,
     "metadata": {},
     "output_type": "execute_result"
    }
   ],
   "source": [
    "data_schedule, training_losses, valid_losses = learn_curve(best_rbf_model, X[train,:], y[train])"
   ]
  },
  {
   "cell_type": "code",
   "execution_count": 95,
   "metadata": {
    "scrolled": false
   },
   "outputs": [
    {
     "data": {
      "image/svg+xml": [
       "<?xml version=\"1.0\" encoding=\"utf-8\"?>\n",
       "<svg xmlns=\"http://www.w3.org/2000/svg\" xmlns:xlink=\"http://www.w3.org/1999/xlink\" width=\"600\" height=\"400\" viewBox=\"0 0 2400 1600\">\n",
       "<defs>\n",
       "  <clipPath id=\"clip300\">\n",
       "    <rect x=\"0\" y=\"0\" width=\"2400\" height=\"1600\"/>\n",
       "  </clipPath>\n",
       "</defs>\n",
       "<path clip-path=\"url(#clip300)\" d=\"\n",
       "M0 1600 L2400 1600 L2400 0 L0 0  Z\n",
       "  \" fill=\"#ffffff\" fill-rule=\"evenodd\" fill-opacity=\"1\"/>\n",
       "<defs>\n",
       "  <clipPath id=\"clip301\">\n",
       "    <rect x=\"480\" y=\"0\" width=\"1681\" height=\"1600\"/>\n",
       "  </clipPath>\n",
       "</defs>\n",
       "<path clip-path=\"url(#clip300)\" d=\"\n",
       "M211.024 1423.18 L2352.76 1423.18 L2352.76 123.472 L211.024 123.472  Z\n",
       "  \" fill=\"#ffffff\" fill-rule=\"evenodd\" fill-opacity=\"1\"/>\n",
       "<defs>\n",
       "  <clipPath id=\"clip302\">\n",
       "    <rect x=\"211\" y=\"123\" width=\"2143\" height=\"1301\"/>\n",
       "  </clipPath>\n",
       "</defs>\n",
       "<polyline clip-path=\"url(#clip302)\" style=\"stroke:#000000; stroke-width:2; stroke-opacity:0.1; fill:none\" points=\"\n",
       "  212.212,1423.18 212.212,123.472 \n",
       "  \"/>\n",
       "<polyline clip-path=\"url(#clip302)\" style=\"stroke:#000000; stroke-width:2; stroke-opacity:0.1; fill:none\" points=\"\n",
       "  806.478,1423.18 806.478,123.472 \n",
       "  \"/>\n",
       "<polyline clip-path=\"url(#clip302)\" style=\"stroke:#000000; stroke-width:2; stroke-opacity:0.1; fill:none\" points=\"\n",
       "  1400.74,1423.18 1400.74,123.472 \n",
       "  \"/>\n",
       "<polyline clip-path=\"url(#clip302)\" style=\"stroke:#000000; stroke-width:2; stroke-opacity:0.1; fill:none\" points=\"\n",
       "  1995.01,1423.18 1995.01,123.472 \n",
       "  \"/>\n",
       "<polyline clip-path=\"url(#clip302)\" style=\"stroke:#000000; stroke-width:2; stroke-opacity:0.1; fill:none\" points=\"\n",
       "  211.024,1276.47 2352.76,1276.47 \n",
       "  \"/>\n",
       "<polyline clip-path=\"url(#clip302)\" style=\"stroke:#000000; stroke-width:2; stroke-opacity:0.1; fill:none\" points=\"\n",
       "  211.024,904.396 2352.76,904.396 \n",
       "  \"/>\n",
       "<polyline clip-path=\"url(#clip302)\" style=\"stroke:#000000; stroke-width:2; stroke-opacity:0.1; fill:none\" points=\"\n",
       "  211.024,532.326 2352.76,532.326 \n",
       "  \"/>\n",
       "<polyline clip-path=\"url(#clip302)\" style=\"stroke:#000000; stroke-width:2; stroke-opacity:0.1; fill:none\" points=\"\n",
       "  211.024,160.256 2352.76,160.256 \n",
       "  \"/>\n",
       "<polyline clip-path=\"url(#clip300)\" style=\"stroke:#000000; stroke-width:4; stroke-opacity:1; fill:none\" points=\"\n",
       "  211.024,1423.18 2352.76,1423.18 \n",
       "  \"/>\n",
       "<polyline clip-path=\"url(#clip300)\" style=\"stroke:#000000; stroke-width:4; stroke-opacity:1; fill:none\" points=\"\n",
       "  211.024,1423.18 211.024,123.472 \n",
       "  \"/>\n",
       "<polyline clip-path=\"url(#clip300)\" style=\"stroke:#000000; stroke-width:4; stroke-opacity:1; fill:none\" points=\"\n",
       "  212.212,1423.18 212.212,1407.58 \n",
       "  \"/>\n",
       "<polyline clip-path=\"url(#clip300)\" style=\"stroke:#000000; stroke-width:4; stroke-opacity:1; fill:none\" points=\"\n",
       "  806.478,1423.18 806.478,1407.58 \n",
       "  \"/>\n",
       "<polyline clip-path=\"url(#clip300)\" style=\"stroke:#000000; stroke-width:4; stroke-opacity:1; fill:none\" points=\"\n",
       "  1400.74,1423.18 1400.74,1407.58 \n",
       "  \"/>\n",
       "<polyline clip-path=\"url(#clip300)\" style=\"stroke:#000000; stroke-width:4; stroke-opacity:1; fill:none\" points=\"\n",
       "  1995.01,1423.18 1995.01,1407.58 \n",
       "  \"/>\n",
       "<polyline clip-path=\"url(#clip300)\" style=\"stroke:#000000; stroke-width:4; stroke-opacity:1; fill:none\" points=\"\n",
       "  211.024,1276.47 236.725,1276.47 \n",
       "  \"/>\n",
       "<polyline clip-path=\"url(#clip300)\" style=\"stroke:#000000; stroke-width:4; stroke-opacity:1; fill:none\" points=\"\n",
       "  211.024,904.396 236.725,904.396 \n",
       "  \"/>\n",
       "<polyline clip-path=\"url(#clip300)\" style=\"stroke:#000000; stroke-width:4; stroke-opacity:1; fill:none\" points=\"\n",
       "  211.024,532.326 236.725,532.326 \n",
       "  \"/>\n",
       "<polyline clip-path=\"url(#clip300)\" style=\"stroke:#000000; stroke-width:4; stroke-opacity:1; fill:none\" points=\"\n",
       "  211.024,160.256 236.725,160.256 \n",
       "  \"/>\n",
       "<path clip-path=\"url(#clip300)\" d=\"M 0 0 M212.212 1445.17 Q208.601 1445.17 206.772 1448.74 Q204.967 1452.28 204.967 1459.41 Q204.967 1466.51 206.772 1470.08 Q208.601 1473.62 212.212 1473.62 Q215.846 1473.62 217.652 1470.08 Q219.481 1466.51 219.481 1459.41 Q219.481 1452.28 217.652 1448.74 Q215.846 1445.17 212.212 1445.17 M212.212 1441.47 Q218.022 1441.47 221.078 1446.07 Q224.157 1450.66 224.157 1459.41 Q224.157 1468.13 221.078 1472.74 Q218.022 1477.32 212.212 1477.32 Q206.402 1477.32 203.323 1472.74 Q200.268 1468.13 200.268 1459.41 Q200.268 1450.66 203.323 1446.07 Q206.402 1441.47 212.212 1441.47 Z\" fill=\"#000000\" fill-rule=\"evenodd\" fill-opacity=\"1\" /><path clip-path=\"url(#clip300)\" d=\"M 0 0 M769.846 1472.72 L777.485 1472.72 L777.485 1446.35 L769.175 1448.02 L769.175 1443.76 L777.438 1442.09 L782.114 1442.09 L782.114 1472.72 L789.753 1472.72 L789.753 1476.65 L769.846 1476.65 L769.846 1472.72 Z\" fill=\"#000000\" fill-rule=\"evenodd\" fill-opacity=\"1\" /><path clip-path=\"url(#clip300)\" d=\"M 0 0 M804.822 1445.17 Q801.211 1445.17 799.383 1448.74 Q797.577 1452.28 797.577 1459.41 Q797.577 1466.51 799.383 1470.08 Q801.211 1473.62 804.822 1473.62 Q808.457 1473.62 810.262 1470.08 Q812.091 1466.51 812.091 1459.41 Q812.091 1452.28 810.262 1448.74 Q808.457 1445.17 804.822 1445.17 M804.822 1441.47 Q810.633 1441.47 813.688 1446.07 Q816.767 1450.66 816.767 1459.41 Q816.767 1468.13 813.688 1472.74 Q810.633 1477.32 804.822 1477.32 Q799.012 1477.32 795.934 1472.74 Q792.878 1468.13 792.878 1459.41 Q792.878 1450.66 795.934 1446.07 Q799.012 1441.47 804.822 1441.47 Z\" fill=\"#000000\" fill-rule=\"evenodd\" fill-opacity=\"1\" /><path clip-path=\"url(#clip300)\" d=\"M 0 0 M831.836 1445.17 Q828.225 1445.17 826.396 1448.74 Q824.591 1452.28 824.591 1459.41 Q824.591 1466.51 826.396 1470.08 Q828.225 1473.62 831.836 1473.62 Q835.47 1473.62 837.276 1470.08 Q839.105 1466.51 839.105 1459.41 Q839.105 1452.28 837.276 1448.74 Q835.47 1445.17 831.836 1445.17 M831.836 1441.47 Q837.646 1441.47 840.702 1446.07 Q843.781 1450.66 843.781 1459.41 Q843.781 1468.13 840.702 1472.74 Q837.646 1477.32 831.836 1477.32 Q826.026 1477.32 822.947 1472.74 Q819.892 1468.13 819.892 1459.41 Q819.892 1450.66 822.947 1446.07 Q826.026 1441.47 831.836 1441.47 Z\" fill=\"#000000\" fill-rule=\"evenodd\" fill-opacity=\"1\" /><path clip-path=\"url(#clip300)\" d=\"M 0 0 M1368.38 1472.72 L1384.7 1472.72 L1384.7 1476.65 L1362.76 1476.65 L1362.76 1472.72 Q1365.42 1469.96 1370 1465.33 Q1374.61 1460.68 1375.79 1459.34 Q1378.03 1456.81 1378.91 1455.08 Q1379.82 1453.32 1379.82 1451.63 Q1379.82 1448.87 1377.87 1447.14 Q1375.95 1445.4 1372.85 1445.4 Q1370.65 1445.4 1368.2 1446.17 Q1365.77 1446.93 1362.99 1448.48 L1362.99 1443.76 Q1365.81 1442.62 1368.27 1442.05 Q1370.72 1441.47 1372.76 1441.47 Q1378.13 1441.47 1381.32 1444.15 Q1384.52 1446.84 1384.52 1451.33 Q1384.52 1453.46 1383.71 1455.38 Q1382.92 1457.28 1380.81 1459.87 Q1380.23 1460.54 1377.13 1463.76 Q1374.03 1466.95 1368.38 1472.72 Z\" fill=\"#000000\" fill-rule=\"evenodd\" fill-opacity=\"1\" /><path clip-path=\"url(#clip300)\" d=\"M 0 0 M1399.77 1445.17 Q1396.16 1445.17 1394.33 1448.74 Q1392.53 1452.28 1392.53 1459.41 Q1392.53 1466.51 1394.33 1470.08 Q1396.16 1473.62 1399.77 1473.62 Q1403.4 1473.62 1405.21 1470.08 Q1407.04 1466.51 1407.04 1459.41 Q1407.04 1452.28 1405.21 1448.74 Q1403.4 1445.17 1399.77 1445.17 M1399.77 1441.47 Q1405.58 1441.47 1408.64 1446.07 Q1411.72 1450.66 1411.72 1459.41 Q1411.72 1468.13 1408.64 1472.74 Q1405.58 1477.32 1399.77 1477.32 Q1393.96 1477.32 1390.88 1472.74 Q1387.83 1468.13 1387.83 1459.41 Q1387.83 1450.66 1390.88 1446.07 Q1393.96 1441.47 1399.77 1441.47 Z\" fill=\"#000000\" fill-rule=\"evenodd\" fill-opacity=\"1\" /><path clip-path=\"url(#clip300)\" d=\"M 0 0 M1426.78 1445.17 Q1423.17 1445.17 1421.34 1448.74 Q1419.54 1452.28 1419.54 1459.41 Q1419.54 1466.51 1421.34 1470.08 Q1423.17 1473.62 1426.78 1473.62 Q1430.42 1473.62 1432.22 1470.08 Q1434.05 1466.51 1434.05 1459.41 Q1434.05 1452.28 1432.22 1448.74 Q1430.42 1445.17 1426.78 1445.17 M1426.78 1441.47 Q1432.59 1441.47 1435.65 1446.07 Q1438.73 1450.66 1438.73 1459.41 Q1438.73 1468.13 1435.65 1472.74 Q1432.59 1477.32 1426.78 1477.32 Q1420.97 1477.32 1417.9 1472.74 Q1414.84 1468.13 1414.84 1459.41 Q1414.84 1450.66 1417.9 1446.07 Q1420.97 1441.47 1426.78 1441.47 Z\" fill=\"#000000\" fill-rule=\"evenodd\" fill-opacity=\"1\" /><path clip-path=\"url(#clip300)\" d=\"M 0 0 M1972.24 1458.02 Q1975.6 1458.74 1977.47 1461 Q1979.37 1463.27 1979.37 1466.61 Q1979.37 1471.72 1975.85 1474.52 Q1972.33 1477.32 1965.85 1477.32 Q1963.68 1477.32 1961.36 1476.88 Q1959.07 1476.47 1956.62 1475.61 L1956.62 1471.1 Q1958.56 1472.23 1960.88 1472.81 Q1963.19 1473.39 1965.71 1473.39 Q1970.11 1473.39 1972.4 1471.65 Q1974.72 1469.92 1974.72 1466.61 Q1974.72 1463.55 1972.57 1461.84 Q1970.44 1460.1 1966.62 1460.1 L1962.59 1460.1 L1962.59 1456.26 L1966.8 1456.26 Q1970.25 1456.26 1972.08 1454.89 Q1973.91 1453.5 1973.91 1450.91 Q1973.91 1448.25 1972.01 1446.84 Q1970.14 1445.4 1966.62 1445.4 Q1964.7 1445.4 1962.5 1445.82 Q1960.3 1446.24 1957.66 1447.11 L1957.66 1442.95 Q1960.32 1442.21 1962.64 1441.84 Q1964.97 1441.47 1967.03 1441.47 Q1972.36 1441.47 1975.46 1443.9 Q1978.56 1446.3 1978.56 1450.43 Q1978.56 1453.3 1976.92 1455.29 Q1975.27 1457.25 1972.24 1458.02 Z\" fill=\"#000000\" fill-rule=\"evenodd\" fill-opacity=\"1\" /><path clip-path=\"url(#clip300)\" d=\"M 0 0 M1994.44 1445.17 Q1990.83 1445.17 1989 1448.74 Q1987.2 1452.28 1987.2 1459.41 Q1987.2 1466.51 1989 1470.08 Q1990.83 1473.62 1994.44 1473.62 Q1998.08 1473.62 1999.88 1470.08 Q2001.71 1466.51 2001.71 1459.41 Q2001.71 1452.28 1999.88 1448.74 Q1998.08 1445.17 1994.44 1445.17 M1994.44 1441.47 Q2000.25 1441.47 2003.31 1446.07 Q2006.39 1450.66 2006.39 1459.41 Q2006.39 1468.13 2003.31 1472.74 Q2000.25 1477.32 1994.44 1477.32 Q1988.63 1477.32 1985.55 1472.74 Q1982.5 1468.13 1982.5 1459.41 Q1982.5 1450.66 1985.55 1446.07 Q1988.63 1441.47 1994.44 1441.47 Z\" fill=\"#000000\" fill-rule=\"evenodd\" fill-opacity=\"1\" /><path clip-path=\"url(#clip300)\" d=\"M 0 0 M2021.45 1445.17 Q2017.84 1445.17 2016.02 1448.74 Q2014.21 1452.28 2014.21 1459.41 Q2014.21 1466.51 2016.02 1470.08 Q2017.84 1473.62 2021.45 1473.62 Q2025.09 1473.62 2026.89 1470.08 Q2028.72 1466.51 2028.72 1459.41 Q2028.72 1452.28 2026.89 1448.74 Q2025.09 1445.17 2021.45 1445.17 M2021.45 1441.47 Q2027.26 1441.47 2030.32 1446.07 Q2033.4 1450.66 2033.4 1459.41 Q2033.4 1468.13 2030.32 1472.74 Q2027.26 1477.32 2021.45 1477.32 Q2015.64 1477.32 2012.57 1472.74 Q2009.51 1468.13 2009.51 1459.41 Q2009.51 1450.66 2012.57 1446.07 Q2015.64 1441.47 2021.45 1441.47 Z\" fill=\"#000000\" fill-rule=\"evenodd\" fill-opacity=\"1\" /><path clip-path=\"url(#clip300)\" d=\"M 0 0 M139.015 1262.26 Q135.404 1262.26 133.575 1265.83 Q131.769 1269.37 131.769 1276.5 Q131.769 1283.61 133.575 1287.17 Q135.404 1290.71 139.015 1290.71 Q142.649 1290.71 144.455 1287.17 Q146.283 1283.61 146.283 1276.5 Q146.283 1269.37 144.455 1265.83 Q142.649 1262.26 139.015 1262.26 M139.015 1258.56 Q144.825 1258.56 147.88 1263.17 Q150.959 1267.75 150.959 1276.5 Q150.959 1285.23 147.88 1289.83 Q144.825 1294.42 139.015 1294.42 Q133.205 1294.42 130.126 1289.83 Q127.07 1285.23 127.07 1276.5 Q127.07 1267.75 130.126 1263.17 Q133.205 1258.56 139.015 1258.56 Z\" fill=\"#000000\" fill-rule=\"evenodd\" fill-opacity=\"1\" /><path clip-path=\"url(#clip300)\" d=\"M 0 0 M156.029 1287.87 L160.913 1287.87 L160.913 1293.75 L156.029 1293.75 L156.029 1287.87 Z\" fill=\"#000000\" fill-rule=\"evenodd\" fill-opacity=\"1\" /><path clip-path=\"url(#clip300)\" d=\"M 0 0 M164.802 1259.19 L187.024 1259.19 L187.024 1261.18 L174.477 1293.75 L169.593 1293.75 L181.399 1263.12 L164.802 1263.12 L164.802 1259.19 Z\" fill=\"#000000\" fill-rule=\"evenodd\" fill-opacity=\"1\" /><path clip-path=\"url(#clip300)\" d=\"M 0 0 M138.205 890.195 Q134.593 890.195 132.765 893.76 Q130.959 897.301 130.959 904.431 Q130.959 911.537 132.765 915.102 Q134.593 918.644 138.205 918.644 Q141.839 918.644 143.644 915.102 Q145.473 911.537 145.473 904.431 Q145.473 897.301 143.644 893.76 Q141.839 890.195 138.205 890.195 M138.205 886.491 Q144.015 886.491 147.07 891.098 Q150.149 895.681 150.149 904.431 Q150.149 913.158 147.07 917.764 Q144.015 922.347 138.205 922.347 Q132.394 922.347 129.316 917.764 Q126.26 913.158 126.26 904.431 Q126.26 895.681 129.316 891.098 Q132.394 886.491 138.205 886.491 Z\" fill=\"#000000\" fill-rule=\"evenodd\" fill-opacity=\"1\" /><path clip-path=\"url(#clip300)\" d=\"M 0 0 M155.218 915.796 L160.103 915.796 L160.103 921.676 L155.218 921.676 L155.218 915.796 Z\" fill=\"#000000\" fill-rule=\"evenodd\" fill-opacity=\"1\" /><path clip-path=\"url(#clip300)\" d=\"M 0 0 M175.172 905.264 Q171.839 905.264 169.917 907.047 Q168.019 908.829 168.019 911.954 Q168.019 915.079 169.917 916.861 Q171.839 918.644 175.172 918.644 Q178.505 918.644 180.427 916.861 Q182.348 915.056 182.348 911.954 Q182.348 908.829 180.427 907.047 Q178.528 905.264 175.172 905.264 M170.496 903.273 Q167.487 902.533 165.797 900.472 Q164.13 898.412 164.13 895.449 Q164.13 891.306 167.07 888.898 Q170.033 886.491 175.172 886.491 Q180.334 886.491 183.274 888.898 Q186.214 891.306 186.214 895.449 Q186.214 898.412 184.524 900.472 Q182.857 902.533 179.871 903.273 Q183.251 904.06 185.126 906.352 Q187.024 908.644 187.024 911.954 Q187.024 916.977 183.945 919.662 Q180.889 922.347 175.172 922.347 Q169.454 922.347 166.376 919.662 Q163.32 916.977 163.32 911.954 Q163.32 908.644 165.218 906.352 Q167.116 904.06 170.496 903.273 M168.783 895.889 Q168.783 898.574 170.45 900.079 Q172.14 901.584 175.172 901.584 Q178.181 901.584 179.871 900.079 Q181.584 898.574 181.584 895.889 Q181.584 893.204 179.871 891.699 Q178.181 890.195 175.172 890.195 Q172.14 890.195 170.45 891.699 Q168.783 893.204 168.783 895.889 Z\" fill=\"#000000\" fill-rule=\"evenodd\" fill-opacity=\"1\" /><path clip-path=\"url(#clip300)\" d=\"M 0 0 M138.297 518.125 Q134.686 518.125 132.857 521.69 Q131.052 525.231 131.052 532.361 Q131.052 539.467 132.857 543.032 Q134.686 546.574 138.297 546.574 Q141.931 546.574 143.737 543.032 Q145.566 539.467 145.566 532.361 Q145.566 525.231 143.737 521.69 Q141.931 518.125 138.297 518.125 M138.297 514.421 Q144.107 514.421 147.163 519.028 Q150.242 523.611 150.242 532.361 Q150.242 541.088 147.163 545.694 Q144.107 550.277 138.297 550.277 Q132.487 550.277 129.408 545.694 Q126.353 541.088 126.353 532.361 Q126.353 523.611 129.408 519.028 Q132.487 514.421 138.297 514.421 Z\" fill=\"#000000\" fill-rule=\"evenodd\" fill-opacity=\"1\" /><path clip-path=\"url(#clip300)\" d=\"M 0 0 M155.311 543.727 L160.195 543.727 L160.195 549.606 L155.311 549.606 L155.311 543.727 Z\" fill=\"#000000\" fill-rule=\"evenodd\" fill-opacity=\"1\" /><path clip-path=\"url(#clip300)\" d=\"M 0 0 M165.403 548.889 L165.403 544.629 Q167.163 545.463 168.968 545.902 Q170.774 546.342 172.51 546.342 Q177.14 546.342 179.57 543.24 Q182.024 540.115 182.371 533.773 Q181.028 535.764 178.968 536.828 Q176.908 537.893 174.408 537.893 Q169.223 537.893 166.19 534.768 Q163.181 531.62 163.181 526.18 Q163.181 520.856 166.329 517.639 Q169.478 514.421 174.709 514.421 Q180.704 514.421 183.852 519.028 Q187.024 523.611 187.024 532.361 Q187.024 540.532 183.135 545.416 Q179.269 550.277 172.718 550.277 Q170.959 550.277 169.153 549.93 Q167.348 549.583 165.403 548.889 M174.709 534.236 Q177.857 534.236 179.686 532.083 Q181.538 529.93 181.538 526.18 Q181.538 522.454 179.686 520.301 Q177.857 518.125 174.709 518.125 Q171.561 518.125 169.709 520.301 Q167.88 522.454 167.88 526.18 Q167.88 529.93 169.709 532.083 Q171.561 534.236 174.709 534.236 Z\" fill=\"#000000\" fill-rule=\"evenodd\" fill-opacity=\"1\" /><path clip-path=\"url(#clip300)\" d=\"M 0 0 M130.149 173.601 L137.788 173.601 L137.788 147.236 L129.478 148.902 L129.478 144.643 L137.742 142.976 L142.417 142.976 L142.417 173.601 L150.056 173.601 L150.056 177.536 L130.149 177.536 L130.149 173.601 Z\" fill=\"#000000\" fill-rule=\"evenodd\" fill-opacity=\"1\" /><path clip-path=\"url(#clip300)\" d=\"M 0 0 M155.126 171.657 L160.01 171.657 L160.01 177.536 L155.126 177.536 L155.126 171.657 Z\" fill=\"#000000\" fill-rule=\"evenodd\" fill-opacity=\"1\" /><path clip-path=\"url(#clip300)\" d=\"M 0 0 M175.079 146.055 Q171.468 146.055 169.64 149.62 Q167.834 153.161 167.834 160.291 Q167.834 167.397 169.64 170.962 Q171.468 174.504 175.079 174.504 Q178.714 174.504 180.519 170.962 Q182.348 167.397 182.348 160.291 Q182.348 153.161 180.519 149.62 Q178.714 146.055 175.079 146.055 M175.079 142.351 Q180.889 142.351 183.945 146.958 Q187.024 151.541 187.024 160.291 Q187.024 169.018 183.945 173.624 Q180.889 178.208 175.079 178.208 Q169.269 178.208 166.19 173.624 Q163.135 169.018 163.135 160.291 Q163.135 151.541 166.19 146.958 Q169.269 142.351 175.079 142.351 Z\" fill=\"#000000\" fill-rule=\"evenodd\" fill-opacity=\"1\" /><path clip-path=\"url(#clip300)\" d=\"M 0 0 M1107.5 44.2197 Q1110.13 45.1109 1112.6 48.0275 Q1115.11 50.9442 1117.63 56.0483 L1125.93 72.576 L1117.14 72.576 L1109.4 57.061 Q1106.4 50.9847 1103.57 48.9997 Q1100.77 47.0148 1095.91 47.0148 L1087 47.0148 L1087 72.576 L1078.82 72.576 L1078.82 12.096 L1097.29 12.096 Q1107.66 12.096 1112.76 16.4305 Q1117.87 20.7649 1117.87 29.5149 Q1117.87 35.2267 1115.2 38.994 Q1112.56 42.7613 1107.5 44.2197 M1087 18.8205 L1087 40.2903 L1097.29 40.2903 Q1103.2 40.2903 1106.2 37.5762 Q1109.24 34.8216 1109.24 29.5149 Q1109.24 24.2082 1106.2 21.5346 Q1103.2 18.8205 1097.29 18.8205 L1087 18.8205 Z\" fill=\"#000000\" fill-rule=\"evenodd\" fill-opacity=\"1\" /><path clip-path=\"url(#clip300)\" d=\"M 0 0 M1142.26 43.6931 L1142.26 65.8515 L1155.38 65.8515 Q1161.98 65.8515 1165.14 63.1374 Q1168.34 60.3828 1168.34 54.752 Q1168.34 49.0808 1165.14 46.4072 Q1161.98 43.6931 1155.38 43.6931 L1142.26 43.6931 M1142.26 18.8205 L1142.26 37.0496 L1154.37 37.0496 Q1160.36 37.0496 1163.28 34.8216 Q1166.24 32.5531 1166.24 27.935 Q1166.24 23.3575 1163.28 21.089 Q1160.36 18.8205 1154.37 18.8205 L1142.26 18.8205 M1134.07 12.096 L1154.97 12.096 Q1164.33 12.096 1169.4 15.9849 Q1174.46 19.8737 1174.46 27.0438 Q1174.46 32.5936 1171.87 35.8748 Q1169.27 39.156 1164.25 39.9662 Q1170.29 41.2625 1173.61 45.3944 Q1176.97 49.4858 1176.97 55.6432 Q1176.97 63.745 1171.46 68.1605 Q1165.95 72.576 1155.79 72.576 L1134.07 72.576 L1134.07 12.096 Z\" fill=\"#000000\" fill-rule=\"evenodd\" fill-opacity=\"1\" /><path clip-path=\"url(#clip300)\" d=\"M 0 0 M1185.11 12.096 L1219.87 12.096 L1219.87 18.9825 L1193.3 18.9825 L1193.3 36.8065 L1217.28 36.8065 L1217.28 43.6931 L1193.3 43.6931 L1193.3 72.576 L1185.11 72.576 L1185.11 12.096 Z\" fill=\"#000000\" fill-rule=\"evenodd\" fill-opacity=\"1\" /><path clip-path=\"url(#clip300)\" d=\"M 0 0 M1254.38 12.096 L1262.57 12.096 L1262.57 37.6572 L1289.71 12.096 L1300.24 12.096 L1270.22 40.2903 L1302.39 72.576 L1291.61 72.576 L1262.57 43.45 L1262.57 72.576 L1254.38 72.576 L1254.38 12.096 Z\" fill=\"#000000\" fill-rule=\"evenodd\" fill-opacity=\"1\" /><path clip-path=\"url(#clip300)\" d=\"M 0 0 M1344.88 48.0275 L1344.88 51.6733 L1310.61 51.6733 Q1311.1 59.3701 1315.23 63.421 Q1319.4 67.4314 1326.81 67.4314 Q1331.11 67.4314 1335.12 66.3781 Q1339.17 65.3249 1343.14 63.2184 L1343.14 70.267 Q1339.13 71.9684 1334.92 72.8596 Q1330.7 73.7508 1326.37 73.7508 Q1315.51 73.7508 1309.15 67.4314 Q1302.83 61.1119 1302.83 50.3365 Q1302.83 39.1965 1308.83 32.6746 Q1314.86 26.1121 1325.07 26.1121 Q1334.23 26.1121 1339.53 32.0264 Q1344.88 37.9003 1344.88 48.0275 M1337.43 45.84 Q1337.35 39.7232 1333.98 36.0774 Q1330.66 32.4315 1325.15 32.4315 Q1318.92 32.4315 1315.15 35.9558 Q1311.42 39.4801 1310.85 45.8805 L1337.43 45.84 Z\" fill=\"#000000\" fill-rule=\"evenodd\" fill-opacity=\"1\" /><path clip-path=\"url(#clip300)\" d=\"M 0 0 M1378.99 34.1734 Q1377.73 33.4443 1376.24 33.1202 Q1374.78 32.7556 1372.99 32.7556 Q1366.68 32.7556 1363.27 36.8875 Q1359.91 40.9789 1359.91 48.6757 L1359.91 72.576 L1352.42 72.576 L1352.42 27.2059 L1359.91 27.2059 L1359.91 34.2544 Q1362.26 30.1225 1366.03 28.1376 Q1369.79 26.1121 1375.18 26.1121 Q1375.95 26.1121 1376.88 26.2337 Q1377.82 26.3147 1378.95 26.5172 L1378.99 34.1734 Z\" fill=\"#000000\" fill-rule=\"evenodd\" fill-opacity=\"1\" /><path clip-path=\"url(#clip300)\" d=\"M 0 0 M1423.06 45.1919 L1423.06 72.576 L1415.61 72.576 L1415.61 45.4349 Q1415.61 38.994 1413.1 35.7938 Q1410.59 32.5936 1405.56 32.5936 Q1399.53 32.5936 1396.04 36.4419 Q1392.56 40.2903 1392.56 46.9338 L1392.56 72.576 L1385.07 72.576 L1385.07 27.2059 L1392.56 27.2059 L1392.56 34.2544 Q1395.23 30.163 1398.84 28.1376 Q1402.49 26.1121 1407.22 26.1121 Q1415.04 26.1121 1419.05 30.9732 Q1423.06 35.7938 1423.06 45.1919 Z\" fill=\"#000000\" fill-rule=\"evenodd\" fill-opacity=\"1\" /><path clip-path=\"url(#clip300)\" d=\"M 0 0 M1469.69 48.0275 L1469.69 51.6733 L1435.42 51.6733 Q1435.91 59.3701 1440.04 63.421 Q1444.21 67.4314 1451.62 67.4314 Q1455.92 67.4314 1459.93 66.3781 Q1463.98 65.3249 1467.95 63.2184 L1467.95 70.267 Q1463.94 71.9684 1459.72 72.8596 Q1455.51 73.7508 1451.18 73.7508 Q1440.32 73.7508 1433.96 67.4314 Q1427.64 61.1119 1427.64 50.3365 Q1427.64 39.1965 1433.64 32.6746 Q1439.67 26.1121 1449.88 26.1121 Q1459.04 26.1121 1464.34 32.0264 Q1469.69 37.9003 1469.69 48.0275 M1462.24 45.84 Q1462.16 39.7232 1458.79 36.0774 Q1455.47 32.4315 1449.96 32.4315 Q1443.72 32.4315 1439.96 35.9558 Q1436.23 39.4801 1435.66 45.8805 L1462.24 45.84 Z\" fill=\"#000000\" fill-rule=\"evenodd\" fill-opacity=\"1\" /><path clip-path=\"url(#clip300)\" d=\"M 0 0 M1477.51 9.54393 L1484.96 9.54393 L1484.96 72.576 L1477.51 72.576 L1477.51 9.54393 Z\" fill=\"#000000\" fill-rule=\"evenodd\" fill-opacity=\"1\" /><path clip-path=\"url(#clip300)\" d=\"M 0 0 M1041.85 1508.52 L1082.05 1508.52 L1082.05 1513.93 L1065.19 1513.93 L1065.19 1556.04 L1058.72 1556.04 L1058.72 1513.93 L1041.85 1513.93 L1041.85 1508.52 Z\" fill=\"#000000\" fill-rule=\"evenodd\" fill-opacity=\"1\" /><path clip-path=\"url(#clip300)\" d=\"M 0 0 M1099.27 1525.87 Q1098.29 1525.3 1097.11 1525.04 Q1095.96 1524.76 1094.56 1524.76 Q1089.6 1524.76 1086.92 1528 Q1084.28 1531.22 1084.28 1537.27 L1084.28 1556.04 L1078.39 1556.04 L1078.39 1520.4 L1084.28 1520.4 L1084.28 1525.93 Q1086.13 1522.69 1089.09 1521.13 Q1092.05 1519.54 1096.28 1519.54 Q1096.89 1519.54 1097.62 1519.63 Q1098.35 1519.7 1099.24 1519.85 L1099.27 1525.87 Z\" fill=\"#000000\" fill-rule=\"evenodd\" fill-opacity=\"1\" /><path clip-path=\"url(#clip300)\" d=\"M 0 0 M1121.62 1538.12 Q1114.52 1538.12 1111.78 1539.75 Q1109.04 1541.37 1109.04 1545.29 Q1109.04 1548.4 1111.08 1550.25 Q1113.15 1552.07 1116.68 1552.07 Q1121.55 1552.07 1124.48 1548.63 Q1127.44 1545.16 1127.44 1539.43 L1127.44 1538.12 L1121.62 1538.12 M1133.3 1535.71 L1133.3 1556.04 L1127.44 1556.04 L1127.44 1550.63 Q1125.44 1553.88 1122.44 1555.44 Q1119.45 1556.97 1115.12 1556.97 Q1109.65 1556.97 1106.4 1553.91 Q1103.19 1550.82 1103.19 1545.67 Q1103.19 1539.65 1107.2 1536.6 Q1111.24 1533.54 1119.23 1533.54 L1127.44 1533.54 L1127.44 1532.97 Q1127.44 1528.93 1124.77 1526.73 Q1122.13 1524.5 1117.32 1524.5 Q1114.26 1524.5 1111.37 1525.23 Q1108.47 1525.97 1105.8 1527.43 L1105.8 1522.02 Q1109.01 1520.78 1112.04 1520.17 Q1115.06 1519.54 1117.93 1519.54 Q1125.66 1519.54 1129.48 1523.55 Q1133.3 1527.56 1133.3 1535.71 Z\" fill=\"#000000\" fill-rule=\"evenodd\" fill-opacity=\"1\" /><path clip-path=\"url(#clip300)\" d=\"M 0 0 M1139.44 1520.4 L1145.3 1520.4 L1145.3 1556.04 L1139.44 1556.04 L1139.44 1520.4 M1139.44 1506.52 L1145.3 1506.52 L1145.3 1513.93 L1139.44 1513.93 L1139.44 1506.52 Z\" fill=\"#000000\" fill-rule=\"evenodd\" fill-opacity=\"1\" /><path clip-path=\"url(#clip300)\" d=\"M 0 0 M1181.07 1534.53 L1181.07 1556.04 L1175.22 1556.04 L1175.22 1534.72 Q1175.22 1529.66 1173.24 1527.14 Q1171.27 1524.63 1167.32 1524.63 Q1162.58 1524.63 1159.84 1527.65 Q1157.11 1530.68 1157.11 1535.9 L1157.11 1556.04 L1151.22 1556.04 L1151.22 1520.4 L1157.11 1520.4 L1157.11 1525.93 Q1159.21 1522.72 1162.04 1521.13 Q1164.9 1519.54 1168.63 1519.54 Q1174.77 1519.54 1177.92 1523.36 Q1181.07 1527.14 1181.07 1534.53 Z\" fill=\"#000000\" fill-rule=\"evenodd\" fill-opacity=\"1\" /><path clip-path=\"url(#clip300)\" d=\"M 0 0 M1187.22 1520.4 L1193.07 1520.4 L1193.07 1556.04 L1187.22 1556.04 L1187.22 1520.4 M1187.22 1506.52 L1193.07 1506.52 L1193.07 1513.93 L1187.22 1513.93 L1187.22 1506.52 Z\" fill=\"#000000\" fill-rule=\"evenodd\" fill-opacity=\"1\" /><path clip-path=\"url(#clip300)\" d=\"M 0 0 M1228.85 1534.53 L1228.85 1556.04 L1222.99 1556.04 L1222.99 1534.72 Q1222.99 1529.66 1221.02 1527.14 Q1219.04 1524.63 1215.1 1524.63 Q1210.36 1524.63 1207.62 1527.65 Q1204.88 1530.68 1204.88 1535.9 L1204.88 1556.04 L1198.99 1556.04 L1198.99 1520.4 L1204.88 1520.4 L1204.88 1525.93 Q1206.98 1522.72 1209.81 1521.13 Q1212.68 1519.54 1216.4 1519.54 Q1222.55 1519.54 1225.7 1523.36 Q1228.85 1527.14 1228.85 1534.53 Z\" fill=\"#000000\" fill-rule=\"evenodd\" fill-opacity=\"1\" /><path clip-path=\"url(#clip300)\" d=\"M 0 0 M1258.45 1537.81 Q1258.45 1531.44 1255.81 1527.94 Q1253.2 1524.44 1248.45 1524.44 Q1243.74 1524.44 1241.1 1527.94 Q1238.49 1531.44 1238.49 1537.81 Q1238.49 1544.14 1241.1 1547.64 Q1243.74 1551.14 1248.45 1551.14 Q1253.2 1551.14 1255.81 1547.64 Q1258.45 1544.14 1258.45 1537.81 M1264.3 1551.62 Q1264.3 1560.72 1260.26 1565.15 Q1256.22 1569.6 1247.88 1569.6 Q1244.79 1569.6 1242.06 1569.13 Q1239.32 1568.68 1236.74 1567.72 L1236.74 1562.03 Q1239.32 1563.43 1241.83 1564.1 Q1244.35 1564.76 1246.96 1564.76 Q1252.72 1564.76 1255.58 1561.74 Q1258.45 1558.75 1258.45 1552.67 L1258.45 1549.77 Q1256.63 1552.92 1253.8 1554.48 Q1250.97 1556.04 1247.02 1556.04 Q1240.46 1556.04 1236.45 1551.05 Q1232.44 1546.05 1232.44 1537.81 Q1232.44 1529.53 1236.45 1524.53 Q1240.46 1519.54 1247.02 1519.54 Q1250.97 1519.54 1253.8 1521.1 Q1256.63 1522.66 1258.45 1525.81 L1258.45 1520.4 L1264.3 1520.4 L1264.3 1551.62 Z\" fill=\"#000000\" fill-rule=\"evenodd\" fill-opacity=\"1\" /><path clip-path=\"url(#clip300)\" d=\"M 0 0 M1319.91 1510.08 L1319.91 1516.35 Q1316.25 1514.6 1313 1513.74 Q1309.76 1512.88 1306.73 1512.88 Q1301.48 1512.88 1298.62 1514.92 Q1295.78 1516.96 1295.78 1520.71 Q1295.78 1523.87 1297.66 1525.49 Q1299.57 1527.08 1304.85 1528.07 L1308.74 1528.86 Q1315.93 1530.23 1319.34 1533.7 Q1322.77 1537.14 1322.77 1542.93 Q1322.77 1549.84 1318.13 1553.4 Q1313.51 1556.97 1304.57 1556.97 Q1301.19 1556.97 1297.37 1556.2 Q1293.59 1555.44 1289.51 1553.94 L1289.51 1547.32 Q1293.43 1549.52 1297.18 1550.63 Q1300.94 1551.75 1304.57 1551.75 Q1310.07 1551.75 1313.07 1549.58 Q1316.06 1547.42 1316.06 1543.41 Q1316.06 1539.91 1313.89 1537.93 Q1311.76 1535.96 1306.86 1534.97 L1302.94 1534.21 Q1295.75 1532.78 1292.54 1529.72 Q1289.32 1526.67 1289.32 1521.22 Q1289.32 1514.92 1293.75 1511.29 Q1298.2 1507.66 1306 1507.66 Q1309.34 1507.66 1312.81 1508.27 Q1316.28 1508.87 1319.91 1510.08 Z\" fill=\"#000000\" fill-rule=\"evenodd\" fill-opacity=\"1\" /><path clip-path=\"url(#clip300)\" d=\"M 0 0 M1359.41 1536.76 L1359.41 1539.62 L1332.48 1539.62 Q1332.86 1545.67 1336.11 1548.85 Q1339.39 1552 1345.21 1552 Q1348.59 1552 1351.74 1551.17 Q1354.92 1550.35 1358.04 1548.69 L1358.04 1554.23 Q1354.89 1555.57 1351.58 1556.27 Q1348.27 1556.97 1344.86 1556.97 Q1336.33 1556.97 1331.34 1552 Q1326.37 1547.04 1326.37 1538.57 Q1326.37 1529.82 1331.08 1524.69 Q1335.82 1519.54 1343.84 1519.54 Q1351.04 1519.54 1355.21 1524.18 Q1359.41 1528.8 1359.41 1536.76 M1353.55 1535.04 Q1353.49 1530.23 1350.85 1527.37 Q1348.24 1524.5 1343.91 1524.5 Q1339.01 1524.5 1336.05 1527.27 Q1333.12 1530.04 1332.67 1535.07 L1353.55 1535.04 Z\" fill=\"#000000\" fill-rule=\"evenodd\" fill-opacity=\"1\" /><path clip-path=\"url(#clip300)\" d=\"M 0 0 M1371.34 1510.27 L1371.34 1520.4 L1383.41 1520.4 L1383.41 1524.95 L1371.34 1524.95 L1371.34 1544.3 Q1371.34 1548.66 1372.52 1549.9 Q1373.73 1551.14 1377.39 1551.14 L1383.41 1551.14 L1383.41 1556.04 L1377.39 1556.04 Q1370.61 1556.04 1368.03 1553.53 Q1365.46 1550.98 1365.46 1544.3 L1365.46 1524.95 L1361.16 1524.95 L1361.16 1520.4 L1365.46 1520.4 L1365.46 1510.27 L1371.34 1510.27 Z\" fill=\"#000000\" fill-rule=\"evenodd\" fill-opacity=\"1\" /><path clip-path=\"url(#clip300)\" d=\"M 0 0 M1439.01 1510.08 L1439.01 1516.35 Q1435.35 1514.6 1432.1 1513.74 Q1428.86 1512.88 1425.83 1512.88 Q1420.58 1512.88 1417.72 1514.92 Q1414.89 1516.96 1414.89 1520.71 Q1414.89 1523.87 1416.76 1525.49 Q1418.67 1527.08 1423.96 1528.07 L1427.84 1528.86 Q1435.03 1530.23 1438.44 1533.7 Q1441.88 1537.14 1441.88 1542.93 Q1441.88 1549.84 1437.23 1553.4 Q1432.61 1556.97 1423.67 1556.97 Q1420.3 1556.97 1416.48 1556.2 Q1412.69 1555.44 1408.62 1553.94 L1408.62 1547.32 Q1412.53 1549.52 1416.29 1550.63 Q1420.04 1551.75 1423.67 1551.75 Q1429.18 1551.75 1432.17 1549.58 Q1435.16 1547.42 1435.16 1543.41 Q1435.16 1539.91 1433 1537.93 Q1430.86 1535.96 1425.96 1534.97 L1422.05 1534.21 Q1414.85 1532.78 1411.64 1529.72 Q1408.42 1526.67 1408.42 1521.22 Q1408.42 1514.92 1412.85 1511.29 Q1417.3 1507.66 1425.1 1507.66 Q1428.44 1507.66 1431.91 1508.27 Q1435.38 1508.87 1439.01 1510.08 Z\" fill=\"#000000\" fill-rule=\"evenodd\" fill-opacity=\"1\" /><path clip-path=\"url(#clip300)\" d=\"M 0 0 M1448.02 1520.4 L1453.88 1520.4 L1453.88 1556.04 L1448.02 1556.04 L1448.02 1520.4 M1448.02 1506.52 L1453.88 1506.52 L1453.88 1513.93 L1448.02 1513.93 L1448.02 1506.52 Z\" fill=\"#000000\" fill-rule=\"evenodd\" fill-opacity=\"1\" /><path clip-path=\"url(#clip300)\" d=\"M 0 0 M1457.47 1520.4 L1485.29 1520.4 L1485.29 1525.74 L1463.26 1551.37 L1485.29 1551.37 L1485.29 1556.04 L1456.68 1556.04 L1456.68 1550.7 L1478.7 1525.07 L1457.47 1525.07 L1457.47 1520.4 Z\" fill=\"#000000\" fill-rule=\"evenodd\" fill-opacity=\"1\" /><path clip-path=\"url(#clip300)\" d=\"M 0 0 M1521.92 1536.76 L1521.92 1539.62 L1495 1539.62 Q1495.38 1545.67 1498.63 1548.85 Q1501.9 1552 1507.73 1552 Q1511.1 1552 1514.25 1551.17 Q1517.44 1550.35 1520.56 1548.69 L1520.56 1554.23 Q1517.41 1555.57 1514.09 1556.27 Q1510.78 1556.97 1507.38 1556.97 Q1498.85 1556.97 1493.85 1552 Q1488.89 1547.04 1488.89 1538.57 Q1488.89 1529.82 1493.6 1524.69 Q1498.34 1519.54 1506.36 1519.54 Q1513.55 1519.54 1517.72 1524.18 Q1521.92 1528.8 1521.92 1536.76 M1516.07 1535.04 Q1516 1530.23 1513.36 1527.37 Q1510.75 1524.5 1506.42 1524.5 Q1501.52 1524.5 1498.56 1527.27 Q1495.63 1530.04 1495.19 1535.07 L1516.07 1535.04 Z\" fill=\"#000000\" fill-rule=\"evenodd\" fill-opacity=\"1\" /><path clip-path=\"url(#clip300)\" d=\"M 0 0 M44.1444 1064.94 L50.9239 1064.94 Q47.9002 1068.19 46.4043 1071.88 Q44.9083 1075.54 44.9083 1079.68 Q44.9083 1087.82 49.9054 1092.15 Q54.8707 1096.48 64.2919 1096.48 Q73.6813 1096.48 78.6784 1092.15 Q83.6436 1087.82 83.6436 1079.68 Q83.6436 1075.54 82.1477 1071.88 Q80.6518 1068.19 77.6281 1064.94 L84.3439 1064.94 Q86.6355 1068.31 87.7814 1072.1 Q88.9272 1075.86 88.9272 1080.06 Q88.9272 1090.85 82.3387 1097.05 Q75.7183 1103.26 64.2919 1103.26 Q52.8336 1103.26 46.2451 1097.05 Q39.6248 1090.85 39.6248 1080.06 Q39.6248 1075.79 40.7706 1072.04 Q41.8846 1068.25 44.1444 1064.94 Z\" fill=\"#000000\" fill-rule=\"evenodd\" fill-opacity=\"1\" /><path clip-path=\"url(#clip300)\" d=\"M 0 0 M38.479 1058.8 L38.479 1052.94 L88.0042 1052.94 L88.0042 1058.8 L38.479 1058.8 Z\" fill=\"#000000\" fill-rule=\"evenodd\" fill-opacity=\"1\" /><path clip-path=\"url(#clip300)\" d=\"M 0 0 M70.0847 1030.6 Q70.0847 1037.69 71.7079 1040.43 Q73.3312 1043.17 77.2461 1043.17 Q80.3653 1043.17 82.2114 1041.13 Q84.0256 1039.06 84.0256 1035.53 Q84.0256 1030.66 80.5881 1027.73 Q77.1188 1024.77 71.3897 1024.77 L70.0847 1024.77 L70.0847 1030.6 M67.6657 1018.91 L88.0042 1018.91 L88.0042 1024.77 L82.5933 1024.77 Q85.8398 1026.78 87.3994 1029.77 Q88.9272 1032.76 88.9272 1037.09 Q88.9272 1042.56 85.8716 1045.81 Q82.7843 1049.02 77.6281 1049.02 Q71.6125 1049.02 68.5569 1045.01 Q65.5014 1040.97 65.5014 1032.98 L65.5014 1024.77 L64.9285 1024.77 Q60.8862 1024.77 58.6901 1027.44 Q56.4621 1030.09 56.4621 1034.89 Q56.4621 1037.95 57.1941 1040.84 Q57.9262 1043.74 59.3903 1046.41 L53.9795 1046.41 Q52.7381 1043.2 52.1334 1040.18 Q51.4968 1037.15 51.4968 1034.29 Q51.4968 1026.55 55.5072 1022.73 Q59.5176 1018.91 67.6657 1018.91 Z\" fill=\"#000000\" fill-rule=\"evenodd\" fill-opacity=\"1\" /><path clip-path=\"url(#clip300)\" d=\"M 0 0 M53.4065 990.046 L58.9447 990.046 Q57.6716 992.529 57.035 995.203 Q56.3984 997.876 56.3984 1000.74 Q56.3984 1005.1 57.7352 1007.3 Q59.072 1009.46 61.7456 1009.46 Q63.7826 1009.46 64.9603 1007.9 Q66.1061 1006.34 67.1565 1001.63 L67.6021 999.627 Q68.9389 993.388 71.3897 990.779 Q73.8086 988.137 78.1691 988.137 Q83.1344 988.137 86.0308 992.083 Q88.9272 995.998 88.9272 1002.87 Q88.9272 1005.74 88.3543 1008.86 Q87.8132 1011.94 86.6992 1015.38 L80.6518 1015.38 Q82.3387 1012.14 83.198 1008.98 Q84.0256 1005.83 84.0256 1002.75 Q84.0256 998.608 82.6251 996.38 Q81.1929 994.152 78.6147 994.152 Q76.2276 994.152 74.9545 995.776 Q73.6813 997.367 72.5037 1002.81 L72.0262 1004.85 Q70.8804 1010.29 68.5251 1012.71 Q66.138 1015.13 62.0002 1015.13 Q56.9713 1015.13 54.2341 1011.56 Q51.4968 1008 51.4968 1001.44 Q51.4968 998.195 51.9743 995.33 Q52.4517 992.465 53.4065 990.046 Z\" fill=\"#000000\" fill-rule=\"evenodd\" fill-opacity=\"1\" /><path clip-path=\"url(#clip300)\" d=\"M 0 0 M53.4065 959.268 L58.9447 959.268 Q57.6716 961.751 57.035 964.424 Q56.3984 967.098 56.3984 969.963 Q56.3984 974.323 57.7352 976.519 Q59.072 978.684 61.7456 978.684 Q63.7826 978.684 64.9603 977.124 Q66.1061 975.564 67.1565 970.854 L67.6021 968.849 Q68.9389 962.61 71.3897 960 Q73.8086 957.359 78.1691 957.359 Q83.1344 957.359 86.0308 961.305 Q88.9272 965.22 88.9272 972.095 Q88.9272 974.96 88.3543 978.079 Q87.8132 981.166 86.6992 984.604 L80.6518 984.604 Q82.3387 981.357 83.198 978.206 Q84.0256 975.055 84.0256 971.968 Q84.0256 967.83 82.6251 965.602 Q81.1929 963.374 78.6147 963.374 Q76.2276 963.374 74.9545 964.997 Q73.6813 966.589 72.5037 972.032 L72.0262 974.069 Q70.8804 979.511 68.5251 981.93 Q66.138 984.349 62.0002 984.349 Q56.9713 984.349 54.2341 980.784 Q51.4968 977.22 51.4968 970.663 Q51.4968 967.416 51.9743 964.552 Q52.4517 961.687 53.4065 959.268 Z\" fill=\"#000000\" fill-rule=\"evenodd\" fill-opacity=\"1\" /><path clip-path=\"url(#clip300)\" d=\"M 0 0 M52.3562 951.216 L52.3562 945.359 L88.0042 945.359 L88.0042 951.216 L52.3562 951.216 M38.479 951.216 L38.479 945.359 L45.895 945.359 L45.895 951.216 L38.479 951.216 Z\" fill=\"#000000\" fill-rule=\"evenodd\" fill-opacity=\"1\" /><path clip-path=\"url(#clip300)\" d=\"M 0 0 M38.479 921.17 L43.3487 921.17 L43.3487 926.771 Q43.3487 929.922 44.6219 931.164 Q45.895 932.373 49.2052 932.373 L52.3562 932.373 L52.3562 922.729 L56.9077 922.729 L56.9077 932.373 L88.0042 932.373 L88.0042 938.261 L56.9077 938.261 L56.9077 943.863 L52.3562 943.863 L52.3562 938.261 L49.8736 938.261 Q43.9216 938.261 41.2162 935.492 Q38.479 932.723 38.479 926.708 L38.479 921.17 Z\" fill=\"#000000\" fill-rule=\"evenodd\" fill-opacity=\"1\" /><path clip-path=\"url(#clip300)\" d=\"M 0 0 M52.3562 915.027 L52.3562 909.17 L88.0042 909.17 L88.0042 915.027 L52.3562 915.027 M38.479 915.027 L38.479 909.17 L45.895 909.17 L45.895 915.027 L38.479 915.027 Z\" fill=\"#000000\" fill-rule=\"evenodd\" fill-opacity=\"1\" /><path clip-path=\"url(#clip300)\" d=\"M 0 0 M53.7248 877.373 L59.1993 877.373 Q57.8307 879.856 57.1623 882.371 Q56.4621 884.853 56.4621 887.399 Q56.4621 893.097 60.0905 896.248 Q63.6872 899.399 70.212 899.399 Q76.7369 899.399 80.3653 896.248 Q83.9619 893.097 83.9619 887.399 Q83.9619 884.853 83.2935 882.371 Q82.5933 879.856 81.2247 877.373 L86.6355 877.373 Q87.7814 879.824 88.3543 882.466 Q88.9272 885.076 88.9272 888.036 Q88.9272 896.089 83.8664 900.831 Q78.8057 905.574 70.212 905.574 Q61.491 905.574 56.4939 900.799 Q51.4968 895.993 51.4968 887.654 Q51.4968 884.949 52.0697 882.371 Q52.6108 879.792 53.7248 877.373 Z\" fill=\"#000000\" fill-rule=\"evenodd\" fill-opacity=\"1\" /><path clip-path=\"url(#clip300)\" d=\"M 0 0 M70.0847 855.03 Q70.0847 862.128 71.7079 864.865 Q73.3312 867.602 77.2461 867.602 Q80.3653 867.602 82.2114 865.565 Q84.0256 863.496 84.0256 859.963 Q84.0256 855.093 80.5881 852.165 Q77.1188 849.205 71.3897 849.205 L70.0847 849.205 L70.0847 855.03 M67.6657 843.349 L88.0042 843.349 L88.0042 849.205 L82.5933 849.205 Q85.8398 851.21 87.3994 854.202 Q88.9272 857.194 88.9272 861.523 Q88.9272 866.997 85.8716 870.244 Q82.7843 873.459 77.6281 873.459 Q71.6125 873.459 68.5569 869.448 Q65.5014 865.406 65.5014 857.417 L65.5014 849.205 L64.9285 849.205 Q60.8862 849.205 58.6901 851.879 Q56.4621 854.521 56.4621 859.327 Q56.4621 862.382 57.1941 865.279 Q57.9262 868.175 59.3903 870.849 L53.9795 870.849 Q52.7381 867.634 52.1334 864.61 Q51.4968 861.587 51.4968 858.722 Q51.4968 850.988 55.5072 847.168 Q59.5176 843.349 67.6657 843.349 Z\" fill=\"#000000\" fill-rule=\"evenodd\" fill-opacity=\"1\" /><path clip-path=\"url(#clip300)\" d=\"M 0 0 M42.2347 831.413 L52.3562 831.413 L52.3562 819.35 L56.9077 819.35 L56.9077 831.413 L76.2594 831.413 Q80.6199 831.413 81.8613 830.235 Q83.1026 829.026 83.1026 825.366 L83.1026 819.35 L88.0042 819.35 L88.0042 825.366 Q88.0042 832.145 85.4897 834.723 Q82.9434 837.301 76.2594 837.301 L56.9077 837.301 L56.9077 841.598 L52.3562 841.598 L52.3562 837.301 L42.2347 837.301 L42.2347 831.413 Z\" fill=\"#000000\" fill-rule=\"evenodd\" fill-opacity=\"1\" /><path clip-path=\"url(#clip300)\" d=\"M 0 0 M52.3562 813.207 L52.3562 807.351 L88.0042 807.351 L88.0042 813.207 L52.3562 813.207 M38.479 813.207 L38.479 807.351 L45.895 807.351 L45.895 813.207 L38.479 813.207 Z\" fill=\"#000000\" fill-rule=\"evenodd\" fill-opacity=\"1\" /><path clip-path=\"url(#clip300)\" d=\"M 0 0 M56.4621 787.394 Q56.4621 792.105 60.1542 794.842 Q63.8145 797.579 70.212 797.579 Q76.6095 797.579 80.3017 794.874 Q83.9619 792.137 83.9619 787.394 Q83.9619 782.715 80.2698 779.978 Q76.5777 777.241 70.212 777.241 Q63.8781 777.241 60.186 779.978 Q56.4621 782.715 56.4621 787.394 M51.4968 787.394 Q51.4968 779.755 56.4621 775.395 Q61.4273 771.034 70.212 771.034 Q78.9649 771.034 83.9619 775.395 Q88.9272 779.755 88.9272 787.394 Q88.9272 795.065 83.9619 799.425 Q78.9649 803.754 70.212 803.754 Q61.4273 803.754 56.4621 799.425 Q51.4968 795.065 51.4968 787.394 Z\" fill=\"#000000\" fill-rule=\"evenodd\" fill-opacity=\"1\" /><path clip-path=\"url(#clip300)\" d=\"M 0 0 M66.4881 735.259 L88.0042 735.259 L88.0042 741.116 L66.679 741.116 Q61.6183 741.116 59.1038 743.089 Q56.5894 745.062 56.5894 749.009 Q56.5894 753.751 59.6131 756.489 Q62.6368 759.226 67.8567 759.226 L88.0042 759.226 L88.0042 765.114 L52.3562 765.114 L52.3562 759.226 L57.8944 759.226 Q54.6797 757.125 53.0883 754.293 Q51.4968 751.428 51.4968 747.704 Q51.4968 741.561 55.3163 738.41 Q59.1038 735.259 66.4881 735.259 Z\" fill=\"#000000\" fill-rule=\"evenodd\" fill-opacity=\"1\" /><path clip-path=\"url(#clip300)\" d=\"M 0 0 M46.818 692.259 L70.4666 700.98 L70.4666 683.506 L46.818 692.259 M40.4842 695.887 L40.4842 688.598 L88.0042 670.488 L88.0042 677.172 L75.8138 681.501 L75.8138 702.921 L88.0042 707.25 L88.0042 714.029 L40.4842 695.887 Z\" fill=\"#000000\" fill-rule=\"evenodd\" fill-opacity=\"1\" /><path clip-path=\"url(#clip300)\" d=\"M 0 0 M53.7248 639.837 L59.1993 639.837 Q57.8307 642.32 57.1623 644.834 Q56.4621 647.317 56.4621 649.863 Q56.4621 655.56 60.0905 658.711 Q63.6872 661.862 70.212 661.862 Q76.7369 661.862 80.3653 658.711 Q83.9619 655.56 83.9619 649.863 Q83.9619 647.317 83.2935 644.834 Q82.5933 642.32 81.2247 639.837 L86.6355 639.837 Q87.7814 642.288 88.3543 644.93 Q88.9272 647.54 88.9272 650.5 Q88.9272 658.552 83.8664 663.295 Q78.8057 668.037 70.212 668.037 Q61.491 668.037 56.4939 663.263 Q51.4968 658.457 51.4968 650.118 Q51.4968 647.412 52.0697 644.834 Q52.6108 642.256 53.7248 639.837 Z\" fill=\"#000000\" fill-rule=\"evenodd\" fill-opacity=\"1\" /><path clip-path=\"url(#clip300)\" d=\"M 0 0 M53.7248 608.04 L59.1993 608.04 Q57.8307 610.523 57.1623 613.037 Q56.4621 615.52 56.4621 618.066 Q56.4621 623.764 60.0905 626.915 Q63.6872 630.066 70.212 630.066 Q76.7369 630.066 80.3653 626.915 Q83.9619 623.764 83.9619 618.066 Q83.9619 615.52 83.2935 613.037 Q82.5933 610.523 81.2247 608.04 L86.6355 608.04 Q87.7814 610.491 88.3543 613.133 Q88.9272 615.743 88.9272 618.703 Q88.9272 626.756 83.8664 631.498 Q78.8057 636.24 70.212 636.24 Q61.491 636.24 56.4939 631.466 Q51.4968 626.66 51.4968 618.321 Q51.4968 615.616 52.0697 613.037 Q52.6108 610.459 53.7248 608.04 Z\" fill=\"#000000\" fill-rule=\"evenodd\" fill-opacity=\"1\" /><path clip-path=\"url(#clip300)\" d=\"M 0 0 M73.9359 602.502 L52.3562 602.502 L52.3562 596.646 L73.7131 596.646 Q78.7739 596.646 81.3202 594.672 Q83.8346 592.699 83.8346 588.752 Q83.8346 584.01 80.8109 581.273 Q77.7872 578.504 72.5673 578.504 L52.3562 578.504 L52.3562 572.647 L88.0042 572.647 L88.0042 578.504 L82.5296 578.504 Q85.7762 580.636 87.3676 583.469 Q88.9272 586.27 88.9272 589.994 Q88.9272 596.137 85.1078 599.319 Q81.2883 602.502 73.9359 602.502 M51.4968 587.766 L51.4968 587.766 Z\" fill=\"#000000\" fill-rule=\"evenodd\" fill-opacity=\"1\" /><path clip-path=\"url(#clip300)\" d=\"M 0 0 M57.8307 545.847 Q57.2578 546.834 57.0032 548.012 Q56.7167 549.158 56.7167 550.558 Q56.7167 555.523 59.9632 558.197 Q63.1779 560.839 69.2253 560.839 L88.0042 560.839 L88.0042 566.727 L52.3562 566.727 L52.3562 560.839 L57.8944 560.839 Q54.6479 558.993 53.0883 556.033 Q51.4968 553.073 51.4968 548.839 Q51.4968 548.235 51.5923 547.503 Q51.656 546.77 51.8151 545.879 L57.8307 545.847 Z\" fill=\"#000000\" fill-rule=\"evenodd\" fill-opacity=\"1\" /><path clip-path=\"url(#clip300)\" d=\"M 0 0 M70.0847 523.504 Q70.0847 530.602 71.7079 533.339 Q73.3312 536.076 77.2461 536.076 Q80.3653 536.076 82.2114 534.039 Q84.0256 531.97 84.0256 528.437 Q84.0256 523.567 80.5881 520.639 Q77.1188 517.679 71.3897 517.679 L70.0847 517.679 L70.0847 523.504 M67.6657 511.823 L88.0042 511.823 L88.0042 517.679 L82.5933 517.679 Q85.8398 519.684 87.3994 522.676 Q88.9272 525.668 88.9272 529.997 Q88.9272 535.471 85.8716 538.718 Q82.7843 541.933 77.6281 541.933 Q71.6125 541.933 68.5569 537.922 Q65.5014 533.88 65.5014 525.891 L65.5014 517.679 L64.9285 517.679 Q60.8862 517.679 58.6901 520.353 Q56.4621 522.995 56.4621 527.801 Q56.4621 530.856 57.1941 533.753 Q57.9262 536.649 59.3903 539.323 L53.9795 539.323 Q52.7381 536.108 52.1334 533.084 Q51.4968 530.061 51.4968 527.196 Q51.4968 519.462 55.5072 515.642 Q59.5176 511.823 67.6657 511.823 Z\" fill=\"#000000\" fill-rule=\"evenodd\" fill-opacity=\"1\" /><path clip-path=\"url(#clip300)\" d=\"M 0 0 M53.7248 480.026 L59.1993 480.026 Q57.8307 482.509 57.1623 485.023 Q56.4621 487.506 56.4621 490.052 Q56.4621 495.749 60.0905 498.9 Q63.6872 502.051 70.212 502.051 Q76.7369 502.051 80.3653 498.9 Q83.9619 495.749 83.9619 490.052 Q83.9619 487.506 83.2935 485.023 Q82.5933 482.509 81.2247 480.026 L86.6355 480.026 Q87.7814 482.477 88.3543 485.119 Q88.9272 487.729 88.9272 490.689 Q88.9272 498.741 83.8664 503.484 Q78.8057 508.226 70.212 508.226 Q61.491 508.226 56.4939 503.452 Q51.4968 498.646 51.4968 490.307 Q51.4968 487.601 52.0697 485.023 Q52.6108 482.445 53.7248 480.026 Z\" fill=\"#000000\" fill-rule=\"evenodd\" fill-opacity=\"1\" /><path clip-path=\"url(#clip300)\" d=\"M 0 0 M91.3143 459.051 Q97.68 461.534 99.6216 463.889 Q101.563 466.244 101.563 470.191 L101.563 474.87 L96.6615 474.87 L96.6615 471.432 Q96.6615 469.013 95.5157 467.677 Q94.3699 466.34 90.1048 464.717 L87.4312 463.666 L52.3562 478.085 L52.3562 471.878 L80.238 460.738 L52.3562 449.598 L52.3562 443.391 L91.3143 459.051 Z\" fill=\"#000000\" fill-rule=\"evenodd\" fill-opacity=\"1\" /><polyline clip-path=\"url(#clip302)\" style=\"stroke:#009af9; stroke-width:4; stroke-opacity:1; fill:none\" points=\"\n",
       "  271.639,160.256 301.352,160.256 331.065,160.256 360.779,160.256 390.492,160.256 420.205,160.256 449.918,160.256 479.632,160.256 509.345,160.256 539.058,160.256 \n",
       "  568.771,160.256 598.485,160.256 628.198,160.256 657.911,160.256 687.625,160.256 717.338,160.256 747.051,160.256 776.764,160.256 806.478,160.256 836.191,160.256 \n",
       "  865.904,160.256 895.617,160.256 925.331,160.256 955.044,160.256 984.757,160.256 1014.47,160.256 1044.18,160.256 1073.9,160.256 1103.61,160.256 1133.32,160.256 \n",
       "  1163.04,160.256 1192.75,160.256 1222.46,160.256 1252.18,160.256 1281.89,160.256 1311.6,160.256 1341.32,160.256 1371.03,160.256 1400.74,160.256 1430.46,160.256 \n",
       "  1460.17,160.256 1489.88,160.256 1519.6,160.256 1549.31,160.256 1579.02,160.256 1608.74,160.256 1638.45,160.256 1668.16,160.256 1697.88,160.256 1727.59,160.256 \n",
       "  1757.3,160.256 1787.02,160.256 1816.73,160.256 1846.44,160.256 1876.16,160.256 1905.87,160.256 1935.58,160.256 1965.29,160.256 1995.01,160.256 2024.72,160.256 \n",
       "  2054.43,160.256 2084.15,160.256 2113.86,160.256 2143.57,160.256 2173.29,160.256 2203,160.256 2232.71,160.256 2262.43,160.256 2292.14,160.256 \n",
       "  \"/>\n",
       "<polyline clip-path=\"url(#clip302)\" style=\"stroke:#e26f46; stroke-width:4; stroke-opacity:1; fill:none\" points=\"\n",
       "  271.639,1174.99 301.352,1386.4 331.065,921.308 360.779,836.747 390.492,836.747 420.205,1005.87 449.918,1005.87 479.632,1005.87 509.345,1090.43 539.058,963.589 \n",
       "  568.771,963.589 598.485,879.028 628.198,794.466 657.911,794.466 687.625,794.466 717.338,709.905 747.051,709.905 776.764,752.186 806.478,752.186 836.191,794.466 \n",
       "  865.904,794.466 895.617,836.747 925.331,752.186 955.044,625.344 984.757,540.782 1014.47,540.782 1044.18,540.782 1073.9,540.782 1103.61,498.502 1133.32,498.502 \n",
       "  1163.04,498.502 1192.75,498.502 1222.46,498.502 1252.18,498.502 1281.89,540.782 1311.6,540.782 1341.32,540.782 1371.03,540.782 1400.74,540.782 1430.46,540.782 \n",
       "  1460.17,540.782 1489.88,456.221 1519.6,329.379 1549.31,329.379 1579.02,329.379 1608.74,329.379 1638.45,329.379 1668.16,244.818 1697.88,287.098 1727.59,287.098 \n",
       "  1757.3,287.098 1787.02,287.098 1816.73,287.098 1846.44,287.098 1876.16,287.098 1905.87,287.098 1935.58,287.098 1965.29,287.098 1995.01,287.098 2024.72,287.098 \n",
       "  2054.43,287.098 2084.15,244.818 2113.86,202.537 2143.57,202.537 2173.29,202.537 2203,202.537 2232.71,202.537 2262.43,202.537 2292.14,202.537 \n",
       "  \"/>\n",
       "<path clip-path=\"url(#clip300)\" d=\"\n",
       "M1844.07 1379.86 L2281.36 1379.86 L2281.36 1198.42 L1844.07 1198.42  Z\n",
       "  \" fill=\"#ffffff\" fill-rule=\"evenodd\" fill-opacity=\"1\"/>\n",
       "<polyline clip-path=\"url(#clip300)\" style=\"stroke:#000000; stroke-width:4; stroke-opacity:1; fill:none\" points=\"\n",
       "  1844.07,1379.86 2281.36,1379.86 2281.36,1198.42 1844.07,1198.42 1844.07,1379.86 \n",
       "  \"/>\n",
       "<polyline clip-path=\"url(#clip300)\" style=\"stroke:#009af9; stroke-width:4; stroke-opacity:1; fill:none\" points=\"\n",
       "  1867.86,1258.9 2010.65,1258.9 \n",
       "  \"/>\n",
       "<path clip-path=\"url(#clip300)\" d=\"M 0 0 M2034.44 1241.62 L2063.68 1241.62 L2063.68 1245.55 L2051.41 1245.55 L2051.41 1276.18 L2046.71 1276.18 L2046.71 1245.55 L2034.44 1245.55 L2034.44 1241.62 Z\" fill=\"#000000\" fill-rule=\"evenodd\" fill-opacity=\"1\" /><path clip-path=\"url(#clip300)\" d=\"M 0 0 M2076.2 1254.23 Q2075.48 1253.82 2074.63 1253.63 Q2073.79 1253.42 2072.78 1253.42 Q2069.17 1253.42 2067.22 1255.78 Q2065.3 1258.12 2065.3 1262.52 L2065.3 1276.18 L2061.02 1276.18 L2061.02 1250.25 L2065.3 1250.25 L2065.3 1254.28 Q2066.64 1251.92 2068.79 1250.78 Q2070.95 1249.63 2074.03 1249.63 Q2074.47 1249.63 2075 1249.69 Q2075.53 1249.74 2076.18 1249.86 L2076.2 1254.23 Z\" fill=\"#000000\" fill-rule=\"evenodd\" fill-opacity=\"1\" /><path clip-path=\"url(#clip300)\" d=\"M 0 0 M2092.45 1263.14 Q2087.29 1263.14 2085.3 1264.32 Q2083.31 1265.51 2083.31 1268.35 Q2083.31 1270.62 2084.79 1271.96 Q2086.29 1273.28 2088.86 1273.28 Q2092.41 1273.28 2094.54 1270.78 Q2096.69 1268.26 2096.69 1264.09 L2096.69 1263.14 L2092.45 1263.14 M2100.95 1261.38 L2100.95 1276.18 L2096.69 1276.18 L2096.69 1272.24 Q2095.23 1274.6 2093.05 1275.74 Q2090.88 1276.85 2087.73 1276.85 Q2083.75 1276.85 2081.39 1274.63 Q2079.05 1272.38 2079.05 1268.63 Q2079.05 1264.26 2081.97 1262.03 Q2084.91 1259.81 2090.72 1259.81 L2096.69 1259.81 L2096.69 1259.39 Q2096.69 1256.45 2094.74 1254.86 Q2092.82 1253.24 2089.33 1253.24 Q2087.1 1253.24 2085 1253.77 Q2082.89 1254.3 2080.95 1255.37 L2080.95 1251.43 Q2083.29 1250.53 2085.48 1250.09 Q2087.68 1249.63 2089.77 1249.63 Q2095.39 1249.63 2098.17 1252.54 Q2100.95 1255.46 2100.95 1261.38 Z\" fill=\"#000000\" fill-rule=\"evenodd\" fill-opacity=\"1\" /><path clip-path=\"url(#clip300)\" d=\"M 0 0 M2105.41 1250.25 L2109.67 1250.25 L2109.67 1276.18 L2105.41 1276.18 L2105.41 1250.25 M2105.41 1240.16 L2109.67 1240.16 L2109.67 1245.55 L2105.41 1245.55 L2105.41 1240.16 Z\" fill=\"#000000\" fill-rule=\"evenodd\" fill-opacity=\"1\" /><path clip-path=\"url(#clip300)\" d=\"M 0 0 M2135.69 1260.53 L2135.69 1276.18 L2131.43 1276.18 L2131.43 1260.67 Q2131.43 1256.99 2130 1255.16 Q2128.56 1253.33 2125.69 1253.33 Q2122.24 1253.33 2120.25 1255.53 Q2118.26 1257.73 2118.26 1261.52 L2118.26 1276.18 L2113.98 1276.18 L2113.98 1250.25 L2118.26 1250.25 L2118.26 1254.28 Q2119.79 1251.94 2121.85 1250.78 Q2123.93 1249.63 2126.64 1249.63 Q2131.11 1249.63 2133.4 1252.4 Q2135.69 1255.16 2135.69 1260.53 Z\" fill=\"#000000\" fill-rule=\"evenodd\" fill-opacity=\"1\" /><path clip-path=\"url(#clip300)\" d=\"M 0 0 M2140.16 1250.25 L2144.42 1250.25 L2144.42 1276.18 L2140.16 1276.18 L2140.16 1250.25 M2140.16 1240.16 L2144.42 1240.16 L2144.42 1245.55 L2140.16 1245.55 L2140.16 1240.16 Z\" fill=\"#000000\" fill-rule=\"evenodd\" fill-opacity=\"1\" /><path clip-path=\"url(#clip300)\" d=\"M 0 0 M2170.44 1260.53 L2170.44 1276.18 L2166.18 1276.18 L2166.18 1260.67 Q2166.18 1256.99 2164.74 1255.16 Q2163.31 1253.33 2160.44 1253.33 Q2156.99 1253.33 2155 1255.53 Q2153.01 1257.73 2153.01 1261.52 L2153.01 1276.18 L2148.72 1276.18 L2148.72 1250.25 L2153.01 1250.25 L2153.01 1254.28 Q2154.54 1251.94 2156.6 1250.78 Q2158.68 1249.63 2161.39 1249.63 Q2165.85 1249.63 2168.15 1252.4 Q2170.44 1255.16 2170.44 1260.53 Z\" fill=\"#000000\" fill-rule=\"evenodd\" fill-opacity=\"1\" /><path clip-path=\"url(#clip300)\" d=\"M 0 0 M2191.97 1262.91 Q2191.97 1258.28 2190.04 1255.74 Q2188.15 1253.19 2184.7 1253.19 Q2181.27 1253.19 2179.35 1255.74 Q2177.45 1258.28 2177.45 1262.91 Q2177.45 1267.52 2179.35 1270.07 Q2181.27 1272.61 2184.7 1272.61 Q2188.15 1272.61 2190.04 1270.07 Q2191.97 1267.52 2191.97 1262.91 M2196.22 1272.96 Q2196.22 1279.58 2193.28 1282.8 Q2190.35 1286.04 2184.28 1286.04 Q2182.03 1286.04 2180.04 1285.69 Q2178.05 1285.37 2176.18 1284.67 L2176.18 1280.53 Q2178.05 1281.55 2179.88 1282.03 Q2181.71 1282.52 2183.61 1282.52 Q2187.8 1282.52 2189.88 1280.32 Q2191.97 1278.14 2191.97 1273.72 L2191.97 1271.62 Q2190.65 1273.91 2188.59 1275.04 Q2186.53 1276.18 2183.66 1276.18 Q2178.89 1276.18 2175.97 1272.54 Q2173.05 1268.91 2173.05 1262.91 Q2173.05 1256.89 2175.97 1253.26 Q2178.89 1249.63 2183.66 1249.63 Q2186.53 1249.63 2188.59 1250.76 Q2190.65 1251.89 2191.97 1254.19 L2191.97 1250.25 L2196.22 1250.25 L2196.22 1272.96 Z\" fill=\"#000000\" fill-rule=\"evenodd\" fill-opacity=\"1\" /><polyline clip-path=\"url(#clip300)\" style=\"stroke:#e26f46; stroke-width:4; stroke-opacity:1; fill:none\" points=\"\n",
       "  1867.86,1319.38 2010.65,1319.38 \n",
       "  \"/>\n",
       "<path clip-path=\"url(#clip300)\" d=\"M 0 0 M2047.64 1336.66 L2034.44 1302.1 L2039.33 1302.1 L2050.28 1331.19 L2061.25 1302.1 L2066.11 1302.1 L2052.94 1336.66 L2047.64 1336.66 Z\" fill=\"#000000\" fill-rule=\"evenodd\" fill-opacity=\"1\" /><path clip-path=\"url(#clip300)\" d=\"M 0 0 M2078.68 1323.62 Q2073.52 1323.62 2071.53 1324.8 Q2069.54 1325.99 2069.54 1328.83 Q2069.54 1331.1 2071.02 1332.44 Q2072.52 1333.76 2075.09 1333.76 Q2078.63 1333.76 2080.76 1331.26 Q2082.92 1328.74 2082.92 1324.57 L2082.92 1323.62 L2078.68 1323.62 M2087.17 1321.86 L2087.17 1336.66 L2082.92 1336.66 L2082.92 1332.72 Q2081.46 1335.08 2079.28 1336.22 Q2077.1 1337.33 2073.96 1337.33 Q2069.98 1337.33 2067.61 1335.11 Q2065.28 1332.86 2065.28 1329.11 Q2065.28 1324.74 2068.19 1322.51 Q2071.13 1320.29 2076.94 1320.29 L2082.92 1320.29 L2082.92 1319.87 Q2082.92 1316.93 2080.97 1315.34 Q2079.05 1313.72 2075.55 1313.72 Q2073.33 1313.72 2071.23 1314.25 Q2069.12 1314.78 2067.17 1315.85 L2067.17 1311.91 Q2069.51 1311.01 2071.71 1310.57 Q2073.91 1310.11 2075.99 1310.11 Q2081.62 1310.11 2084.4 1313.02 Q2087.17 1315.94 2087.17 1321.86 Z\" fill=\"#000000\" fill-rule=\"evenodd\" fill-opacity=\"1\" /><path clip-path=\"url(#clip300)\" d=\"M 0 0 M2091.64 1300.64 L2095.9 1300.64 L2095.9 1336.66 L2091.64 1336.66 L2091.64 1300.64 Z\" fill=\"#000000\" fill-rule=\"evenodd\" fill-opacity=\"1\" /><path clip-path=\"url(#clip300)\" d=\"M 0 0 M2100.37 1310.73 L2104.63 1310.73 L2104.63 1336.66 L2100.37 1336.66 L2100.37 1310.73 M2100.37 1300.64 L2104.63 1300.64 L2104.63 1306.03 L2100.37 1306.03 L2100.37 1300.64 Z\" fill=\"#000000\" fill-rule=\"evenodd\" fill-opacity=\"1\" /><path clip-path=\"url(#clip300)\" d=\"M 0 0 M2126.16 1314.67 L2126.16 1300.64 L2130.41 1300.64 L2130.41 1336.66 L2126.16 1336.66 L2126.16 1332.77 Q2124.81 1335.08 2122.75 1336.22 Q2120.72 1337.33 2117.85 1337.33 Q2113.15 1337.33 2110.18 1333.58 Q2107.24 1329.83 2107.24 1323.72 Q2107.24 1317.61 2110.18 1313.86 Q2113.15 1310.11 2117.85 1310.11 Q2120.72 1310.11 2122.75 1311.24 Q2124.81 1312.35 2126.16 1314.67 M2111.64 1323.72 Q2111.64 1328.42 2113.56 1331.1 Q2115.51 1333.76 2118.89 1333.76 Q2122.27 1333.76 2124.21 1331.1 Q2126.16 1328.42 2126.16 1323.72 Q2126.16 1319.02 2124.21 1316.36 Q2122.27 1313.67 2118.89 1313.67 Q2115.51 1313.67 2113.56 1316.36 Q2111.64 1319.02 2111.64 1323.72 Z\" fill=\"#000000\" fill-rule=\"evenodd\" fill-opacity=\"1\" /><path clip-path=\"url(#clip300)\" d=\"M 0 0 M2146.66 1323.62 Q2141.5 1323.62 2139.51 1324.8 Q2137.52 1325.99 2137.52 1328.83 Q2137.52 1331.1 2139 1332.44 Q2140.51 1333.76 2143.08 1333.76 Q2146.62 1333.76 2148.75 1331.26 Q2150.9 1328.74 2150.9 1324.57 L2150.9 1323.62 L2146.66 1323.62 M2155.16 1321.86 L2155.16 1336.66 L2150.9 1336.66 L2150.9 1332.72 Q2149.44 1335.08 2147.27 1336.22 Q2145.09 1337.33 2141.94 1337.33 Q2137.96 1337.33 2135.6 1335.11 Q2133.26 1332.86 2133.26 1329.11 Q2133.26 1324.74 2136.18 1322.51 Q2139.12 1320.29 2144.93 1320.29 L2150.9 1320.29 L2150.9 1319.87 Q2150.9 1316.93 2148.96 1315.34 Q2147.04 1313.72 2143.54 1313.72 Q2141.32 1313.72 2139.21 1314.25 Q2137.1 1314.78 2135.16 1315.85 L2135.16 1311.91 Q2137.5 1311.01 2139.7 1310.57 Q2141.9 1310.11 2143.98 1310.11 Q2149.6 1310.11 2152.38 1313.02 Q2155.16 1315.94 2155.16 1321.86 Z\" fill=\"#000000\" fill-rule=\"evenodd\" fill-opacity=\"1\" /><path clip-path=\"url(#clip300)\" d=\"M 0 0 M2163.84 1303.37 L2163.84 1310.73 L2172.61 1310.73 L2172.61 1314.04 L2163.84 1314.04 L2163.84 1328.11 Q2163.84 1331.29 2164.7 1332.19 Q2165.58 1333.09 2168.24 1333.09 L2172.61 1333.09 L2172.61 1336.66 L2168.24 1336.66 Q2163.31 1336.66 2161.43 1334.83 Q2159.56 1332.98 2159.56 1328.11 L2159.56 1314.04 L2156.43 1314.04 L2156.43 1310.73 L2159.56 1310.73 L2159.56 1303.37 L2163.84 1303.37 Z\" fill=\"#000000\" fill-rule=\"evenodd\" fill-opacity=\"1\" /><path clip-path=\"url(#clip300)\" d=\"M 0 0 M2177.08 1310.73 L2181.34 1310.73 L2181.34 1336.66 L2177.08 1336.66 L2177.08 1310.73 M2177.08 1300.64 L2181.34 1300.64 L2181.34 1306.03 L2177.08 1306.03 L2177.08 1300.64 Z\" fill=\"#000000\" fill-rule=\"evenodd\" fill-opacity=\"1\" /><path clip-path=\"url(#clip300)\" d=\"M 0 0 M2195.85 1313.72 Q2192.43 1313.72 2190.44 1316.4 Q2188.45 1319.06 2188.45 1323.72 Q2188.45 1328.37 2190.41 1331.05 Q2192.41 1333.72 2195.85 1333.72 Q2199.26 1333.72 2201.25 1331.03 Q2203.24 1328.35 2203.24 1323.72 Q2203.24 1319.11 2201.25 1316.42 Q2199.26 1313.72 2195.85 1313.72 M2195.85 1310.11 Q2201.41 1310.11 2204.58 1313.72 Q2207.75 1317.33 2207.75 1323.72 Q2207.75 1330.08 2204.58 1333.72 Q2201.41 1337.33 2195.85 1337.33 Q2190.28 1337.33 2187.1 1333.72 Q2183.96 1330.08 2183.96 1323.72 Q2183.96 1317.33 2187.1 1313.72 Q2190.28 1310.11 2195.85 1310.11 Z\" fill=\"#000000\" fill-rule=\"evenodd\" fill-opacity=\"1\" /><path clip-path=\"url(#clip300)\" d=\"M 0 0 M2233.77 1321.01 L2233.77 1336.66 L2229.51 1336.66 L2229.51 1321.15 Q2229.51 1317.47 2228.08 1315.64 Q2226.64 1313.81 2223.77 1313.81 Q2220.32 1313.81 2218.33 1316.01 Q2216.34 1318.21 2216.34 1322 L2216.34 1336.66 L2212.06 1336.66 L2212.06 1310.73 L2216.34 1310.73 L2216.34 1314.76 Q2217.87 1312.42 2219.93 1311.26 Q2222.01 1310.11 2224.72 1310.11 Q2229.19 1310.11 2231.48 1312.88 Q2233.77 1315.64 2233.77 1321.01 Z\" fill=\"#000000\" fill-rule=\"evenodd\" fill-opacity=\"1\" /></svg>\n"
      ]
     },
     "execution_count": 95,
     "metadata": {},
     "output_type": "execute_result"
    }
   ],
   "source": [
    "plot(data_schedule, training_losses, label=\"Training\", legend=:bottomright)\n",
    "plot!(data_schedule, valid_losses, label=\"Validation\")\n",
    "ylabel!(\"Classification Accuracy\")\n",
    "xlabel!(\"Training Set Size\")\n",
    "title!(\"RBF Kernel\")"
   ]
  },
  {
   "cell_type": "code",
   "execution_count": 104,
   "metadata": {},
   "outputs": [],
   "source": [
    "fn = \"Figures/SVM_RBF_LC\"\n",
    "png(replace(fn,'.' => ','))"
   ]
  },
  {
   "cell_type": "markdown",
   "metadata": {},
   "source": [
    "#### Final Results"
   ]
  },
  {
   "cell_type": "markdown",
   "metadata": {},
   "source": [
    "RBF SVM"
   ]
  },
  {
   "cell_type": "code",
   "execution_count": 96,
   "metadata": {},
   "outputs": [
    {
     "data": {
      "text/plain": [
       "SVMClassifier(\n",
       "    C = 132867.0046857067,\n",
       "    kernel = \"rbf\",\n",
       "    degree = 3,\n",
       "    gamma = 0.0014345028995850935,\n",
       "    coef0 = 0.0,\n",
       "    shrinking = true,\n",
       "    tol = 0.001,\n",
       "    cache_size = 1000,\n",
       "    max_iter = -1,\n",
       "    decision_function_shape = \"ovr\",\n",
       "    random_state = nothing)\u001b[34m @265\u001b[39m"
      ]
     },
     "execution_count": 96,
     "metadata": {},
     "output_type": "execute_result"
    }
   ],
   "source": [
    "final_svm_rbf = best_rbf.best_model"
   ]
  },
  {
   "cell_type": "code",
   "execution_count": 97,
   "metadata": {},
   "outputs": [
    {
     "data": {
      "text/plain": [
       "\u001b[34mMachine{SVMClassifier} @668\u001b[39m trained 0 times.\n",
       "  args: \n",
       "    1:\t\u001b[34mSource @260\u001b[39m ⏎ `Table{AbstractArray{Continuous,1}}`\n",
       "    2:\t\u001b[34mSource @849\u001b[39m ⏎ `AbstractArray{Multiclass{3},1}`\n"
      ]
     },
     "execution_count": 97,
     "metadata": {},
     "output_type": "execute_result"
    }
   ],
   "source": [
    "Final_SVM = machine(final_svm_rbf, X, y)"
   ]
  },
  {
   "cell_type": "code",
   "execution_count": 98,
   "metadata": {},
   "outputs": [
    {
     "name": "stderr",
     "output_type": "stream",
     "text": [
      "┌ Info: Training \u001b[34mMachine{SVMClassifier} @668\u001b[39m.\n",
      "└ @ MLJBase /home/andrew/.julia/packages/MLJBase/uKzAz/src/machines.jl:319\n"
     ]
    },
    {
     "data": {
      "text/plain": [
       "\u001b[34mMachine{SVMClassifier} @668\u001b[39m trained 1 time.\n",
       "  args: \n",
       "    1:\t\u001b[34mSource @260\u001b[39m ⏎ `Table{AbstractArray{Continuous,1}}`\n",
       "    2:\t\u001b[34mSource @849\u001b[39m ⏎ `AbstractArray{Multiclass{3},1}`\n"
      ]
     },
     "execution_count": 98,
     "metadata": {},
     "output_type": "execute_result"
    }
   ],
   "source": [
    "fit!(Final_SVM, rows=train, verbosity=2)"
   ]
  },
  {
   "cell_type": "code",
   "execution_count": 99,
   "metadata": {},
   "outputs": [],
   "source": [
    "ŷ2 = MLJ.predict(Final_SVM, X[test,:]);"
   ]
  },
  {
   "cell_type": "code",
   "execution_count": 100,
   "metadata": {},
   "outputs": [
    {
     "data": {
      "text/plain": [
       "0.9893048128342246"
      ]
     },
     "execution_count": 100,
     "metadata": {},
     "output_type": "execute_result"
    }
   ],
   "source": [
    "accuracy(ŷ2, y[test])"
   ]
  },
  {
   "cell_type": "code",
   "execution_count": 101,
   "metadata": {},
   "outputs": [
    {
     "name": "stderr",
     "output_type": "stream",
     "text": [
      "┌ Warning: The classes are un-ordered,\n",
      "│ using order: [\"B\", \"L\", \"R\"].\n",
      "│ To suppress this warning, consider coercing to OrderedFactor.\n",
      "└ @ MLJBase /home/andrew/.julia/packages/MLJBase/uKzAz/src/measures/confusion_matrix.jl:87\n"
     ]
    },
    {
     "data": {
      "text/plain": [
       "              ┌─────────────────────────────────────────┐\n",
       "              │              Ground Truth               │\n",
       "┌─────────────┼─────────────┬─────────────┬─────────────┤\n",
       "│  Predicted  │      B      │      L      │      R      │\n",
       "├─────────────┼─────────────┼─────────────┼─────────────┤\n",
       "│      B      │     11      │      0      │      0      │\n",
       "├─────────────┼─────────────┼─────────────┼─────────────┤\n",
       "│      L      │      2      │     77      │      0      │\n",
       "├─────────────┼─────────────┼─────────────┼─────────────┤\n",
       "│      R      │      0      │      0      │     97      │\n",
       "└─────────────┴─────────────┴─────────────┴─────────────┘\n"
      ]
     },
     "execution_count": 101,
     "metadata": {},
     "output_type": "execute_result"
    }
   ],
   "source": [
    "c2 = confusion_matrix(ŷ2, y[test])"
   ]
  },
  {
   "cell_type": "code",
   "execution_count": 103,
   "metadata": {},
   "outputs": [
    {
     "data": {
      "text/plain": [
       "0.15384615384615385"
      ]
     },
     "execution_count": 103,
     "metadata": {},
     "output_type": "execute_result"
    }
   ],
   "source": [
    "2/(2+11)"
   ]
  },
  {
   "cell_type": "code",
   "execution_count": null,
   "metadata": {},
   "outputs": [],
   "source": []
  }
 ],
 "metadata": {
  "kernelspec": {
   "display_name": "Julia 1.5.0",
   "language": "julia",
   "name": "julia-1.5"
  },
  "language_info": {
   "file_extension": ".jl",
   "mimetype": "application/julia",
   "name": "julia",
   "version": "1.5.0"
  }
 },
 "nbformat": 4,
 "nbformat_minor": 4
}
