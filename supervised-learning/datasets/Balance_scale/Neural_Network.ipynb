{
 "cells": [
  {
   "cell_type": "markdown",
   "metadata": {},
   "source": [
    "# Imports"
   ]
  },
  {
   "cell_type": "code",
   "execution_count": 1,
   "metadata": {},
   "outputs": [],
   "source": [
    "using DataFrames\n",
    "using CSV\n",
    "using MLJ\n",
    "using Flux\n",
    "using Plots\n",
    "using StatsBase\n",
    "using MLJ: confusion_matrix\n",
    "\n",
    "include(\"../../lib.jl\")\n",
    "\n",
    "ENV[\"LINES\"]=50;"
   ]
  },
  {
   "cell_type": "markdown",
   "metadata": {},
   "source": [
    "# Datasets"
   ]
  },
  {
   "cell_type": "code",
   "execution_count": 2,
   "metadata": {},
   "outputs": [
    {
     "data": {
      "text/html": [
       "<table class=\"data-frame\"><thead><tr><th></th><th>Class_Name</th><th>Left_Weight</th><th>Left_Distance</th><th>Right_Weight</th><th>Right_Distance</th></tr><tr><th></th><th>String</th><th>Int64</th><th>Int64</th><th>Int64</th><th>Int64</th></tr></thead><tbody><p>625 rows × 5 columns</p><tr><th>1</th><td>B</td><td>1</td><td>1</td><td>1</td><td>1</td></tr><tr><th>2</th><td>R</td><td>1</td><td>1</td><td>1</td><td>2</td></tr><tr><th>3</th><td>R</td><td>1</td><td>1</td><td>1</td><td>3</td></tr><tr><th>4</th><td>R</td><td>1</td><td>1</td><td>1</td><td>4</td></tr><tr><th>5</th><td>R</td><td>1</td><td>1</td><td>1</td><td>5</td></tr><tr><th>6</th><td>R</td><td>1</td><td>1</td><td>2</td><td>1</td></tr><tr><th>7</th><td>R</td><td>1</td><td>1</td><td>2</td><td>2</td></tr><tr><th>8</th><td>R</td><td>1</td><td>1</td><td>2</td><td>3</td></tr><tr><th>9</th><td>R</td><td>1</td><td>1</td><td>2</td><td>4</td></tr><tr><th>10</th><td>R</td><td>1</td><td>1</td><td>2</td><td>5</td></tr><tr><th>11</th><td>R</td><td>1</td><td>1</td><td>3</td><td>1</td></tr><tr><th>12</th><td>R</td><td>1</td><td>1</td><td>3</td><td>2</td></tr><tr><th>13</th><td>R</td><td>1</td><td>1</td><td>3</td><td>3</td></tr><tr><th>14</th><td>R</td><td>1</td><td>1</td><td>3</td><td>4</td></tr><tr><th>15</th><td>R</td><td>1</td><td>1</td><td>3</td><td>5</td></tr><tr><th>16</th><td>R</td><td>1</td><td>1</td><td>4</td><td>1</td></tr><tr><th>17</th><td>R</td><td>1</td><td>1</td><td>4</td><td>2</td></tr><tr><th>18</th><td>R</td><td>1</td><td>1</td><td>4</td><td>3</td></tr><tr><th>19</th><td>R</td><td>1</td><td>1</td><td>4</td><td>4</td></tr><tr><th>20</th><td>R</td><td>1</td><td>1</td><td>4</td><td>5</td></tr><tr><th>21</th><td>R</td><td>1</td><td>1</td><td>5</td><td>1</td></tr><tr><th>22</th><td>R</td><td>1</td><td>1</td><td>5</td><td>2</td></tr><tr><th>23</th><td>R</td><td>1</td><td>1</td><td>5</td><td>3</td></tr><tr><th>24</th><td>R</td><td>1</td><td>1</td><td>5</td><td>4</td></tr><tr><th>25</th><td>R</td><td>1</td><td>1</td><td>5</td><td>5</td></tr><tr><th>26</th><td>L</td><td>1</td><td>2</td><td>1</td><td>1</td></tr><tr><th>27</th><td>B</td><td>1</td><td>2</td><td>1</td><td>2</td></tr><tr><th>28</th><td>R</td><td>1</td><td>2</td><td>1</td><td>3</td></tr><tr><th>29</th><td>R</td><td>1</td><td>2</td><td>1</td><td>4</td></tr><tr><th>30</th><td>R</td><td>1</td><td>2</td><td>1</td><td>5</td></tr><tr><th>31</th><td>B</td><td>1</td><td>2</td><td>2</td><td>1</td></tr><tr><th>32</th><td>R</td><td>1</td><td>2</td><td>2</td><td>2</td></tr><tr><th>33</th><td>R</td><td>1</td><td>2</td><td>2</td><td>3</td></tr><tr><th>34</th><td>R</td><td>1</td><td>2</td><td>2</td><td>4</td></tr><tr><th>35</th><td>R</td><td>1</td><td>2</td><td>2</td><td>5</td></tr><tr><th>36</th><td>R</td><td>1</td><td>2</td><td>3</td><td>1</td></tr><tr><th>37</th><td>R</td><td>1</td><td>2</td><td>3</td><td>2</td></tr><tr><th>38</th><td>R</td><td>1</td><td>2</td><td>3</td><td>3</td></tr><tr><th>39</th><td>R</td><td>1</td><td>2</td><td>3</td><td>4</td></tr><tr><th>40</th><td>R</td><td>1</td><td>2</td><td>3</td><td>5</td></tr><tr><th>41</th><td>R</td><td>1</td><td>2</td><td>4</td><td>1</td></tr><tr><th>42</th><td>R</td><td>1</td><td>2</td><td>4</td><td>2</td></tr><tr><th>43</th><td>R</td><td>1</td><td>2</td><td>4</td><td>3</td></tr><tr><th>44</th><td>R</td><td>1</td><td>2</td><td>4</td><td>4</td></tr><tr><th>45</th><td>R</td><td>1</td><td>2</td><td>4</td><td>5</td></tr><tr><th>46</th><td>R</td><td>1</td><td>2</td><td>5</td><td>1</td></tr><tr><th>47</th><td>R</td><td>1</td><td>2</td><td>5</td><td>2</td></tr><tr><th>48</th><td>R</td><td>1</td><td>2</td><td>5</td><td>3</td></tr><tr><th>49</th><td>R</td><td>1</td><td>2</td><td>5</td><td>4</td></tr><tr><th>50</th><td>R</td><td>1</td><td>2</td><td>5</td><td>5</td></tr><tr><th>&vellip;</th><td>&vellip;</td><td>&vellip;</td><td>&vellip;</td><td>&vellip;</td><td>&vellip;</td></tr></tbody></table>"
      ],
      "text/latex": [
       "\\begin{tabular}{r|ccccc}\n",
       "\t& Class\\_Name & Left\\_Weight & Left\\_Distance & Right\\_Weight & Right\\_Distance\\\\\n",
       "\t\\hline\n",
       "\t& String & Int64 & Int64 & Int64 & Int64\\\\\n",
       "\t\\hline\n",
       "\t1 & B & 1 & 1 & 1 & 1 \\\\\n",
       "\t2 & R & 1 & 1 & 1 & 2 \\\\\n",
       "\t3 & R & 1 & 1 & 1 & 3 \\\\\n",
       "\t4 & R & 1 & 1 & 1 & 4 \\\\\n",
       "\t5 & R & 1 & 1 & 1 & 5 \\\\\n",
       "\t6 & R & 1 & 1 & 2 & 1 \\\\\n",
       "\t7 & R & 1 & 1 & 2 & 2 \\\\\n",
       "\t8 & R & 1 & 1 & 2 & 3 \\\\\n",
       "\t9 & R & 1 & 1 & 2 & 4 \\\\\n",
       "\t10 & R & 1 & 1 & 2 & 5 \\\\\n",
       "\t11 & R & 1 & 1 & 3 & 1 \\\\\n",
       "\t12 & R & 1 & 1 & 3 & 2 \\\\\n",
       "\t13 & R & 1 & 1 & 3 & 3 \\\\\n",
       "\t14 & R & 1 & 1 & 3 & 4 \\\\\n",
       "\t15 & R & 1 & 1 & 3 & 5 \\\\\n",
       "\t16 & R & 1 & 1 & 4 & 1 \\\\\n",
       "\t17 & R & 1 & 1 & 4 & 2 \\\\\n",
       "\t18 & R & 1 & 1 & 4 & 3 \\\\\n",
       "\t19 & R & 1 & 1 & 4 & 4 \\\\\n",
       "\t20 & R & 1 & 1 & 4 & 5 \\\\\n",
       "\t21 & R & 1 & 1 & 5 & 1 \\\\\n",
       "\t22 & R & 1 & 1 & 5 & 2 \\\\\n",
       "\t23 & R & 1 & 1 & 5 & 3 \\\\\n",
       "\t24 & R & 1 & 1 & 5 & 4 \\\\\n",
       "\t25 & R & 1 & 1 & 5 & 5 \\\\\n",
       "\t26 & L & 1 & 2 & 1 & 1 \\\\\n",
       "\t27 & B & 1 & 2 & 1 & 2 \\\\\n",
       "\t28 & R & 1 & 2 & 1 & 3 \\\\\n",
       "\t29 & R & 1 & 2 & 1 & 4 \\\\\n",
       "\t30 & R & 1 & 2 & 1 & 5 \\\\\n",
       "\t31 & B & 1 & 2 & 2 & 1 \\\\\n",
       "\t32 & R & 1 & 2 & 2 & 2 \\\\\n",
       "\t33 & R & 1 & 2 & 2 & 3 \\\\\n",
       "\t34 & R & 1 & 2 & 2 & 4 \\\\\n",
       "\t35 & R & 1 & 2 & 2 & 5 \\\\\n",
       "\t36 & R & 1 & 2 & 3 & 1 \\\\\n",
       "\t37 & R & 1 & 2 & 3 & 2 \\\\\n",
       "\t38 & R & 1 & 2 & 3 & 3 \\\\\n",
       "\t39 & R & 1 & 2 & 3 & 4 \\\\\n",
       "\t40 & R & 1 & 2 & 3 & 5 \\\\\n",
       "\t41 & R & 1 & 2 & 4 & 1 \\\\\n",
       "\t42 & R & 1 & 2 & 4 & 2 \\\\\n",
       "\t43 & R & 1 & 2 & 4 & 3 \\\\\n",
       "\t44 & R & 1 & 2 & 4 & 4 \\\\\n",
       "\t45 & R & 1 & 2 & 4 & 5 \\\\\n",
       "\t46 & R & 1 & 2 & 5 & 1 \\\\\n",
       "\t47 & R & 1 & 2 & 5 & 2 \\\\\n",
       "\t48 & R & 1 & 2 & 5 & 3 \\\\\n",
       "\t49 & R & 1 & 2 & 5 & 4 \\\\\n",
       "\t50 & R & 1 & 2 & 5 & 5 \\\\\n",
       "\t$\\dots$ & $\\dots$ & $\\dots$ & $\\dots$ & $\\dots$ & $\\dots$ \\\\\n",
       "\\end{tabular}\n"
      ],
      "text/plain": [
       "625×5 DataFrame. Omitted printing of 1 columns\n",
       "│ Row │ Class_Name │ Left_Weight │ Left_Distance │ Right_Weight │\n",
       "│     │ \u001b[90mString\u001b[39m     │ \u001b[90mInt64\u001b[39m       │ \u001b[90mInt64\u001b[39m         │ \u001b[90mInt64\u001b[39m        │\n",
       "├─────┼────────────┼─────────────┼───────────────┼──────────────┤\n",
       "│ 1   │ B          │ 1           │ 1             │ 1            │\n",
       "│ 2   │ R          │ 1           │ 1             │ 1            │\n",
       "│ 3   │ R          │ 1           │ 1             │ 1            │\n",
       "│ 4   │ R          │ 1           │ 1             │ 1            │\n",
       "│ 5   │ R          │ 1           │ 1             │ 1            │\n",
       "│ 6   │ R          │ 1           │ 1             │ 2            │\n",
       "│ 7   │ R          │ 1           │ 1             │ 2            │\n",
       "│ 8   │ R          │ 1           │ 1             │ 2            │\n",
       "│ 9   │ R          │ 1           │ 1             │ 2            │\n",
       "│ 10  │ R          │ 1           │ 1             │ 2            │\n",
       "│ 11  │ R          │ 1           │ 1             │ 3            │\n",
       "│ 12  │ R          │ 1           │ 1             │ 3            │\n",
       "│ 13  │ R          │ 1           │ 1             │ 3            │\n",
       "│ 14  │ R          │ 1           │ 1             │ 3            │\n",
       "│ 15  │ R          │ 1           │ 1             │ 3            │\n",
       "│ 16  │ R          │ 1           │ 1             │ 4            │\n",
       "│ 17  │ R          │ 1           │ 1             │ 4            │\n",
       "│ 18  │ R          │ 1           │ 1             │ 4            │\n",
       "│ 19  │ R          │ 1           │ 1             │ 4            │\n",
       "│ 20  │ R          │ 1           │ 1             │ 4            │\n",
       "⋮\n",
       "│ 605 │ L          │ 5           │ 5             │ 1            │\n",
       "│ 606 │ L          │ 5           │ 5             │ 2            │\n",
       "│ 607 │ L          │ 5           │ 5             │ 2            │\n",
       "│ 608 │ L          │ 5           │ 5             │ 2            │\n",
       "│ 609 │ L          │ 5           │ 5             │ 2            │\n",
       "│ 610 │ L          │ 5           │ 5             │ 2            │\n",
       "│ 611 │ L          │ 5           │ 5             │ 3            │\n",
       "│ 612 │ L          │ 5           │ 5             │ 3            │\n",
       "│ 613 │ L          │ 5           │ 5             │ 3            │\n",
       "│ 614 │ L          │ 5           │ 5             │ 3            │\n",
       "│ 615 │ L          │ 5           │ 5             │ 3            │\n",
       "│ 616 │ L          │ 5           │ 5             │ 4            │\n",
       "│ 617 │ L          │ 5           │ 5             │ 4            │\n",
       "│ 618 │ L          │ 5           │ 5             │ 4            │\n",
       "│ 619 │ L          │ 5           │ 5             │ 4            │\n",
       "│ 620 │ L          │ 5           │ 5             │ 4            │\n",
       "│ 621 │ L          │ 5           │ 5             │ 5            │\n",
       "│ 622 │ L          │ 5           │ 5             │ 5            │\n",
       "│ 623 │ L          │ 5           │ 5             │ 5            │\n",
       "│ 624 │ L          │ 5           │ 5             │ 5            │\n",
       "│ 625 │ B          │ 5           │ 5             │ 5            │"
      ]
     },
     "execution_count": 2,
     "metadata": {},
     "output_type": "execute_result"
    }
   ],
   "source": [
    "data = CSV.read(\"data.csv\")"
   ]
  },
  {
   "cell_type": "code",
   "execution_count": 3,
   "metadata": {},
   "outputs": [
    {
     "data": {
      "text/html": [
       "<table class=\"data-frame\"><thead><tr><th></th><th>variable</th><th>mean</th><th>min</th><th>median</th><th>max</th><th>nunique</th><th>nmissing</th><th>eltype</th></tr><tr><th></th><th>Symbol</th><th>Union…</th><th>Any</th><th>Union…</th><th>Any</th><th>Union…</th><th>Nothing</th><th>DataType</th></tr></thead><tbody><p>5 rows × 8 columns</p><tr><th>1</th><td>Class_Name</td><td></td><td>B</td><td></td><td>R</td><td>3</td><td></td><td>String</td></tr><tr><th>2</th><td>Left_Weight</td><td>3.0</td><td>1</td><td>3.0</td><td>5</td><td></td><td></td><td>Int64</td></tr><tr><th>3</th><td>Left_Distance</td><td>3.0</td><td>1</td><td>3.0</td><td>5</td><td></td><td></td><td>Int64</td></tr><tr><th>4</th><td>Right_Weight</td><td>3.0</td><td>1</td><td>3.0</td><td>5</td><td></td><td></td><td>Int64</td></tr><tr><th>5</th><td>Right_Distance</td><td>3.0</td><td>1</td><td>3.0</td><td>5</td><td></td><td></td><td>Int64</td></tr></tbody></table>"
      ],
      "text/latex": [
       "\\begin{tabular}{r|cccccccc}\n",
       "\t& variable & mean & min & median & max & nunique & nmissing & eltype\\\\\n",
       "\t\\hline\n",
       "\t& Symbol & Union… & Any & Union… & Any & Union… & Nothing & DataType\\\\\n",
       "\t\\hline\n",
       "\t1 & Class\\_Name &  & B &  & R & 3 &  & String \\\\\n",
       "\t2 & Left\\_Weight & 3.0 & 1 & 3.0 & 5 &  &  & Int64 \\\\\n",
       "\t3 & Left\\_Distance & 3.0 & 1 & 3.0 & 5 &  &  & Int64 \\\\\n",
       "\t4 & Right\\_Weight & 3.0 & 1 & 3.0 & 5 &  &  & Int64 \\\\\n",
       "\t5 & Right\\_Distance & 3.0 & 1 & 3.0 & 5 &  &  & Int64 \\\\\n",
       "\\end{tabular}\n"
      ],
      "text/plain": [
       "5×8 DataFrame. Omitted printing of 1 columns\n",
       "│ Row │ variable       │ mean   │ min │ median │ max │ nunique │ nmissing │\n",
       "│     │ \u001b[90mSymbol\u001b[39m         │ \u001b[90mUnion…\u001b[39m │ \u001b[90mAny\u001b[39m │ \u001b[90mUnion…\u001b[39m │ \u001b[90mAny\u001b[39m │ \u001b[90mUnion…\u001b[39m  │ \u001b[90mNothing\u001b[39m  │\n",
       "├─────┼────────────────┼────────┼─────┼────────┼─────┼─────────┼──────────┤\n",
       "│ 1   │ Class_Name     │        │ B   │        │ R   │ 3       │          │\n",
       "│ 2   │ Left_Weight    │ 3.0    │ 1   │ 3.0    │ 5   │         │          │\n",
       "│ 3   │ Left_Distance  │ 3.0    │ 1   │ 3.0    │ 5   │         │          │\n",
       "│ 4   │ Right_Weight   │ 3.0    │ 1   │ 3.0    │ 5   │         │          │\n",
       "│ 5   │ Right_Distance │ 3.0    │ 1   │ 3.0    │ 5   │         │          │"
      ]
     },
     "execution_count": 3,
     "metadata": {},
     "output_type": "execute_result"
    }
   ],
   "source": [
    "describe(data)"
   ]
  },
  {
   "cell_type": "markdown",
   "metadata": {},
   "source": [
    "Look at class labels to see if dataset is imbalanced"
   ]
  },
  {
   "cell_type": "code",
   "execution_count": 4,
   "metadata": {},
   "outputs": [
    {
     "data": {
      "text/plain": [
       "Dict{String,Int64} with 3 entries:\n",
       "  \"B\" => 49\n",
       "  \"L\" => 288\n",
       "  \"R\" => 288"
      ]
     },
     "execution_count": 4,
     "metadata": {},
     "output_type": "execute_result"
    }
   ],
   "source": [
    "label_counts = countmap(data[:Class_Name])"
   ]
  },
  {
   "cell_type": "code",
   "execution_count": 5,
   "metadata": {},
   "outputs": [
    {
     "data": {
      "text/plain": [
       "3-element Array{Float64,1}:\n",
       " 0.0784\n",
       " 0.4608\n",
       " 0.4608"
      ]
     },
     "execution_count": 5,
     "metadata": {},
     "output_type": "execute_result"
    }
   ],
   "source": [
    "collect(label_counts[i] / size(data)[1] for i in keys(label_counts))"
   ]
  },
  {
   "cell_type": "markdown",
   "metadata": {},
   "source": [
    "Get data ready for training"
   ]
  },
  {
   "cell_type": "code",
   "execution_count": 6,
   "metadata": {},
   "outputs": [
    {
     "data": {
      "text/plain": [
       "┌\u001b[0m────────────────\u001b[0m┬\u001b[0m─────────────────────────────────\u001b[0m┬\u001b[0m───────────────\u001b[0m┐\u001b[0m\n",
       "│\u001b[0m\u001b[22m _.names        \u001b[0m│\u001b[0m\u001b[22m _.types                         \u001b[0m│\u001b[0m\u001b[22m _.scitypes    \u001b[0m│\u001b[0m\n",
       "├\u001b[0m────────────────\u001b[0m┼\u001b[0m─────────────────────────────────\u001b[0m┼\u001b[0m───────────────\u001b[0m┤\u001b[0m\n",
       "│\u001b[0m Class_Name     \u001b[0m│\u001b[0m CategoricalValue{String,UInt32} \u001b[0m│\u001b[0m Multiclass{3} \u001b[0m│\u001b[0m\n",
       "│\u001b[0m Left_Weight    \u001b[0m│\u001b[0m Float64                         \u001b[0m│\u001b[0m Continuous    \u001b[0m│\u001b[0m\n",
       "│\u001b[0m Left_Distance  \u001b[0m│\u001b[0m Float64                         \u001b[0m│\u001b[0m Continuous    \u001b[0m│\u001b[0m\n",
       "│\u001b[0m Right_Weight   \u001b[0m│\u001b[0m Float64                         \u001b[0m│\u001b[0m Continuous    \u001b[0m│\u001b[0m\n",
       "│\u001b[0m Right_Distance \u001b[0m│\u001b[0m Float64                         \u001b[0m│\u001b[0m Continuous    \u001b[0m│\u001b[0m\n",
       "└\u001b[0m────────────────\u001b[0m┴\u001b[0m─────────────────────────────────\u001b[0m┴\u001b[0m───────────────\u001b[0m┘\u001b[0m\n",
       "_.nrows = 625\n"
      ]
     },
     "execution_count": 6,
     "metadata": {},
     "output_type": "execute_result"
    }
   ],
   "source": [
    "coerce!(data, :Class_Name=>Multiclass,\n",
    "              :Left_Weight=>Continuous,\n",
    "              :Right_Weight=>Continuous,\n",
    "              :Left_Distance=>Continuous,\n",
    "              :Right_Distance=>Continuous)\n",
    "schema(data)"
   ]
  },
  {
   "cell_type": "code",
   "execution_count": 7,
   "metadata": {
    "scrolled": false
   },
   "outputs": [
    {
     "data": {
      "text/plain": [
       "(CategoricalValue{String,UInt32}[\"B\", \"R\", \"R\", \"R\", \"R\", \"R\", \"R\", \"R\", \"R\", \"R\"  …  \"L\", \"L\", \"L\", \"L\", \"L\", \"L\", \"L\", \"L\", \"L\", \"B\"], 625×4 DataFrame\n",
       "│ Row │ Left_Weight │ Left_Distance │ Right_Weight │ Right_Distance │\n",
       "│     │ \u001b[90mFloat64\u001b[39m     │ \u001b[90mFloat64\u001b[39m       │ \u001b[90mFloat64\u001b[39m      │ \u001b[90mFloat64\u001b[39m        │\n",
       "├─────┼─────────────┼───────────────┼──────────────┼────────────────┤\n",
       "│ 1   │ 1.0         │ 1.0           │ 1.0          │ 1.0            │\n",
       "│ 2   │ 1.0         │ 1.0           │ 1.0          │ 2.0            │\n",
       "│ 3   │ 1.0         │ 1.0           │ 1.0          │ 3.0            │\n",
       "│ 4   │ 1.0         │ 1.0           │ 1.0          │ 4.0            │\n",
       "│ 5   │ 1.0         │ 1.0           │ 1.0          │ 5.0            │\n",
       "│ 6   │ 1.0         │ 1.0           │ 2.0          │ 1.0            │\n",
       "│ 7   │ 1.0         │ 1.0           │ 2.0          │ 2.0            │\n",
       "│ 8   │ 1.0         │ 1.0           │ 2.0          │ 3.0            │\n",
       "│ 9   │ 1.0         │ 1.0           │ 2.0          │ 4.0            │\n",
       "│ 10  │ 1.0         │ 1.0           │ 2.0          │ 5.0            │\n",
       "│ 11  │ 1.0         │ 1.0           │ 3.0          │ 1.0            │\n",
       "│ 12  │ 1.0         │ 1.0           │ 3.0          │ 2.0            │\n",
       "│ 13  │ 1.0         │ 1.0           │ 3.0          │ 3.0            │\n",
       "│ 14  │ 1.0         │ 1.0           │ 3.0          │ 4.0            │\n",
       "│ 15  │ 1.0         │ 1.0           │ 3.0          │ 5.0            │\n",
       "│ 16  │ 1.0         │ 1.0           │ 4.0          │ 1.0            │\n",
       "│ 17  │ 1.0         │ 1.0           │ 4.0          │ 2.0            │\n",
       "│ 18  │ 1.0         │ 1.0           │ 4.0          │ 3.0            │\n",
       "│ 19  │ 1.0         │ 1.0           │ 4.0          │ 4.0            │\n",
       "│ 20  │ 1.0         │ 1.0           │ 4.0          │ 5.0            │\n",
       "⋮\n",
       "│ 605 │ 5.0         │ 5.0           │ 1.0          │ 5.0            │\n",
       "│ 606 │ 5.0         │ 5.0           │ 2.0          │ 1.0            │\n",
       "│ 607 │ 5.0         │ 5.0           │ 2.0          │ 2.0            │\n",
       "│ 608 │ 5.0         │ 5.0           │ 2.0          │ 3.0            │\n",
       "│ 609 │ 5.0         │ 5.0           │ 2.0          │ 4.0            │\n",
       "│ 610 │ 5.0         │ 5.0           │ 2.0          │ 5.0            │\n",
       "│ 611 │ 5.0         │ 5.0           │ 3.0          │ 1.0            │\n",
       "│ 612 │ 5.0         │ 5.0           │ 3.0          │ 2.0            │\n",
       "│ 613 │ 5.0         │ 5.0           │ 3.0          │ 3.0            │\n",
       "│ 614 │ 5.0         │ 5.0           │ 3.0          │ 4.0            │\n",
       "│ 615 │ 5.0         │ 5.0           │ 3.0          │ 5.0            │\n",
       "│ 616 │ 5.0         │ 5.0           │ 4.0          │ 1.0            │\n",
       "│ 617 │ 5.0         │ 5.0           │ 4.0          │ 2.0            │\n",
       "│ 618 │ 5.0         │ 5.0           │ 4.0          │ 3.0            │\n",
       "│ 619 │ 5.0         │ 5.0           │ 4.0          │ 4.0            │\n",
       "│ 620 │ 5.0         │ 5.0           │ 4.0          │ 5.0            │\n",
       "│ 621 │ 5.0         │ 5.0           │ 5.0          │ 1.0            │\n",
       "│ 622 │ 5.0         │ 5.0           │ 5.0          │ 2.0            │\n",
       "│ 623 │ 5.0         │ 5.0           │ 5.0          │ 3.0            │\n",
       "│ 624 │ 5.0         │ 5.0           │ 5.0          │ 4.0            │\n",
       "│ 625 │ 5.0         │ 5.0           │ 5.0          │ 5.0            │)"
      ]
     },
     "execution_count": 7,
     "metadata": {},
     "output_type": "execute_result"
    }
   ],
   "source": [
    "y, X = unpack(data, ==(:Class_Name), colname->true)"
   ]
  },
  {
   "cell_type": "markdown",
   "metadata": {},
   "source": [
    "Partition train and test data accoring to class labels"
   ]
  },
  {
   "cell_type": "code",
   "execution_count": 8,
   "metadata": {},
   "outputs": [
    {
     "data": {
      "text/plain": [
       "([595, 102, 55, 568, 425, 389, 146, 63, 372, 250  …  195, 500, 571, 533, 112, 396, 297, 106, 303, 261], [444, 144, 546, 43, 19, 173, 365, 423, 27, 218  …  293, 614, 90, 471, 13, 134, 296, 79, 395, 415])"
      ]
     },
     "execution_count": 8,
     "metadata": {},
     "output_type": "execute_result"
    }
   ],
   "source": [
    "# data to use when trying to fit a single validation set\n",
    "train, test = partition(eachindex(y), 0.7, shuffle=true, rng=123, stratify=values(data[:Class_Name])) # gives 70:30 split"
   ]
  },
  {
   "cell_type": "code",
   "execution_count": 9,
   "metadata": {
    "scrolled": false
   },
   "outputs": [
    {
     "data": {
      "text/plain": [
       "3-element Array{Float64,1}:\n",
       " 0.0776255707762557\n",
       " 0.4611872146118721\n",
       " 0.4611872146118721"
      ]
     },
     "execution_count": 9,
     "metadata": {},
     "output_type": "execute_result"
    }
   ],
   "source": [
    "train_counts = countmap(data[train,:Class_Name])\n",
    "collect(train_counts[i] / size(train)[1] for i in keys(train_counts))"
   ]
  },
  {
   "cell_type": "code",
   "execution_count": 10,
   "metadata": {
    "scrolled": false
   },
   "outputs": [
    {
     "data": {
      "text/plain": [
       "3-element Array{Float64,1}:\n",
       " 0.08021390374331551\n",
       " 0.45989304812834225\n",
       " 0.45989304812834225"
      ]
     },
     "execution_count": 10,
     "metadata": {},
     "output_type": "execute_result"
    }
   ],
   "source": [
    "test_counts = countmap(data[test,:Class_Name])\n",
    "collect(test_counts[i] / size(test)[1] for i in keys(test_counts))"
   ]
  },
  {
   "cell_type": "markdown",
   "metadata": {},
   "source": [
    "# Five Learning Algorithms\n",
    "\n",
    "* Decision trees with some form of pruning\n",
    "* Neural networks\n",
    "* Boosting\n",
    "* Support Vector Machines\n",
    "* k-nearest neighbors\n",
    "\n",
    "\n",
    "##### Testing\n",
    "* Implement the algorithms\n",
    "* Design two *interesting* classification problems. For the purposes of this assignment, a classification problem is just a set of training examples and a set of test examples."
   ]
  },
  {
   "cell_type": "code",
   "execution_count": 11,
   "metadata": {
    "scrolled": true
   },
   "outputs": [
    {
     "data": {
      "text/plain": [
       "42-element Array{NamedTuple{(:name, :package_name, :is_supervised, :docstring, :hyperparameter_ranges, :hyperparameter_types, :hyperparameters, :implemented_methods, :is_pure_julia, :is_wrapper, :load_path, :package_license, :package_url, :package_uuid, :prediction_type, :supports_online, :supports_weights, :input_scitype, :target_scitype, :output_scitype),T} where T<:Tuple,1}:\n",
       " (name = AdaBoostClassifier, package_name = ScikitLearn, ... )\n",
       " (name = AdaBoostStumpClassifier, package_name = DecisionTree, ... )\n",
       " (name = BaggingClassifier, package_name = ScikitLearn, ... )\n",
       " (name = BayesianLDA, package_name = MultivariateStats, ... )\n",
       " (name = BayesianLDA, package_name = ScikitLearn, ... )\n",
       " (name = BayesianQDA, package_name = ScikitLearn, ... )\n",
       " (name = BayesianSubspaceLDA, package_name = MultivariateStats, ... )\n",
       " (name = ConstantClassifier, package_name = MLJModels, ... )\n",
       " (name = DecisionTreeClassifier, package_name = DecisionTree, ... )\n",
       " (name = DeterministicConstantClassifier, package_name = MLJModels, ... )\n",
       " (name = DummyClassifier, package_name = ScikitLearn, ... )\n",
       " (name = EvoTreeClassifier, package_name = EvoTrees, ... )\n",
       " (name = ExtraTreesClassifier, package_name = ScikitLearn, ... )\n",
       " (name = GaussianNBClassifier, package_name = NaiveBayes, ... )\n",
       " (name = GaussianNBClassifier, package_name = ScikitLearn, ... )\n",
       " (name = GaussianProcessClassifier, package_name = ScikitLearn, ... )\n",
       " (name = GradientBoostingClassifier, package_name = ScikitLearn, ... )\n",
       " (name = KNNClassifier, package_name = NearestNeighbors, ... )\n",
       " (name = KNeighborsClassifier, package_name = ScikitLearn, ... )\n",
       " (name = LDA, package_name = MultivariateStats, ... )\n",
       " (name = LGBMClassifier, package_name = LightGBM, ... )\n",
       " (name = LinearSVC, package_name = LIBSVM, ... )\n",
       " (name = LogisticCVClassifier, package_name = ScikitLearn, ... )\n",
       " (name = LogisticClassifier, package_name = MLJLinearModels, ... )\n",
       " (name = LogisticClassifier, package_name = ScikitLearn, ... )\n",
       " (name = MultinomialClassifier, package_name = MLJLinearModels, ... )\n",
       " (name = NeuralNetworkClassifier, package_name = MLJFlux, ... )\n",
       " (name = NuSVC, package_name = LIBSVM, ... )\n",
       " (name = PassiveAggressiveClassifier, package_name = ScikitLearn, ... )\n",
       " (name = PerceptronClassifier, package_name = ScikitLearn, ... )\n",
       " (name = ProbabilisticSGDClassifier, package_name = ScikitLearn, ... )\n",
       " (name = RandomForestClassifier, package_name = DecisionTree, ... )\n",
       " (name = RandomForestClassifier, package_name = ScikitLearn, ... )\n",
       " (name = RidgeCVClassifier, package_name = ScikitLearn, ... )\n",
       " (name = RidgeClassifier, package_name = ScikitLearn, ... )\n",
       " (name = SGDClassifier, package_name = ScikitLearn, ... )\n",
       " (name = SVC, package_name = LIBSVM, ... )\n",
       " (name = SVMClassifier, package_name = ScikitLearn, ... )\n",
       " (name = SVMLinearClassifier, package_name = ScikitLearn, ... )\n",
       " (name = SVMNuClassifier, package_name = ScikitLearn, ... )\n",
       " (name = SubspaceLDA, package_name = MultivariateStats, ... )\n",
       " (name = XGBoostClassifier, package_name = XGBoost, ... )"
      ]
     },
     "execution_count": 11,
     "metadata": {},
     "output_type": "execute_result"
    }
   ],
   "source": [
    "models(matching(X,y))"
   ]
  },
  {
   "cell_type": "code",
   "execution_count": 12,
   "metadata": {},
   "outputs": [
    {
     "name": "stdout",
     "output_type": "stream",
     "text": [
      "import MLJFlux "
     ]
    },
    {
     "name": "stderr",
     "output_type": "stream",
     "text": [
      "┌ Info: Loading into module \"Main\": \n",
      "└ @ MLJModels /home/andrew/.julia/packages/MLJModels/mUBFt/src/loading.jl:70\n"
     ]
    },
    {
     "name": "stdout",
     "output_type": "stream",
     "text": [
      "✔\n",
      "import MLJFlux ✔\n"
     ]
    },
    {
     "data": {
      "text/plain": [
       "NeuralNetworkClassifier(\n",
       "    builder = Short(\n",
       "            n_hidden = 0,\n",
       "            dropout = 0.5,\n",
       "            σ = NNlib.σ),\n",
       "    finaliser = NNlib.softmax,\n",
       "    optimiser = ADAM(0.001, (0.9, 0.999), IdDict{Any,Any}()),\n",
       "    loss = Flux.crossentropy,\n",
       "    epochs = 10,\n",
       "    batch_size = 1,\n",
       "    lambda = 0.0,\n",
       "    alpha = 0.0,\n",
       "    optimiser_changes_trigger_retraining = false)\u001b[34m @171\u001b[39m"
      ]
     },
     "execution_count": 12,
     "metadata": {},
     "output_type": "execute_result"
    }
   ],
   "source": [
    "@load NeuralNetworkClassifier verbosity=2"
   ]
  },
  {
   "cell_type": "markdown",
   "metadata": {},
   "source": [
    "## Neural networks\n",
    "* Use favorite kind of network and training algorithm. \n",
    "* You may use networks of nodes with as many layers as you like and any activation function you see fit.\n",
    "\n",
    "1. https://github.com/alan-turing-institute/MLJFlux.jl/blob/master/examples/boston.ipynb\n",
    "1. https://github.com/alan-turing-institute/MLJFlux.jl\n",
    "1. https://alan-turing-institute.github.io/MLJ.jl/dev/transformers/"
   ]
  },
  {
   "cell_type": "code",
   "execution_count": 13,
   "metadata": {},
   "outputs": [],
   "source": [
    "# Define a custom network\n",
    "mutable struct CustomNN <:MLJFlux.Builder\n",
    "    n1 ::Int\n",
    "#     n2 ::Int\n",
    "end"
   ]
  },
  {
   "cell_type": "code",
   "execution_count": 14,
   "metadata": {},
   "outputs": [],
   "source": [
    "function MLJFlux.build(nn::CustomNN, n_in, n_out)\n",
    "    return Chain(\n",
    "        Flux.Dense(n_in, nn.n1, σ),\n",
    "#         Flux.Dense(nn.n1, nn.n2, σ),\n",
    "        Flux.Dense(nn.n1, n_out, σ),\n",
    "    )\n",
    "end"
   ]
  },
  {
   "cell_type": "code",
   "execution_count": 15,
   "metadata": {},
   "outputs": [
    {
     "data": {
      "text/plain": [
       "34"
      ]
     },
     "execution_count": 15,
     "metadata": {},
     "output_type": "execute_result"
    }
   ],
   "source": [
    "layer1 = 34\n",
    "# layer2 = 5"
   ]
  },
  {
   "cell_type": "markdown",
   "metadata": {},
   "source": [
    "### No-preprocessing"
   ]
  },
  {
   "cell_type": "code",
   "execution_count": 17,
   "metadata": {},
   "outputs": [
    {
     "data": {
      "text/plain": [
       "NeuralNetworkClassifier(\n",
       "    builder = CustomNN(\n",
       "            n1 = 34),\n",
       "    finaliser = NNlib.softmax,\n",
       "    optimiser = ADAM(0.001, (0.9, 0.999), IdDict{Any,Any}()),\n",
       "    loss = Flux.crossentropy,\n",
       "    epochs = 10,\n",
       "    batch_size = 1,\n",
       "    lambda = 0.0,\n",
       "    alpha = 0.0,\n",
       "    optimiser_changes_trigger_retraining = false)\u001b[34m @574\u001b[39m"
      ]
     },
     "execution_count": 17,
     "metadata": {},
     "output_type": "execute_result"
    }
   ],
   "source": [
    "nn = NeuralNetworkClassifier(builder=CustomNN(layer1))"
   ]
  },
  {
   "cell_type": "code",
   "execution_count": 18,
   "metadata": {},
   "outputs": [
    {
     "data": {
      "text/plain": [
       "\u001b[34mMachine{NeuralNetworkClassifier{CustomNN,…}} @668\u001b[39m trained 0 times.\n",
       "  args: \n",
       "    1:\t\u001b[34mSource @521\u001b[39m ⏎ `Table{AbstractArray{Continuous,1}}`\n",
       "    2:\t\u001b[34mSource @955\u001b[39m ⏎ `AbstractArray{Multiclass{3},1}`\n"
      ]
     },
     "execution_count": 18,
     "metadata": {},
     "output_type": "execute_result"
    }
   ],
   "source": [
    "Net = machine(nn, X, y)"
   ]
  },
  {
   "cell_type": "code",
   "execution_count": 19,
   "metadata": {},
   "outputs": [
    {
     "data": {
      "text/plain": [
       "0.01"
      ]
     },
     "execution_count": 19,
     "metadata": {},
     "output_type": "execute_result"
    }
   ],
   "source": [
    "nn.optimiser.eta = 0.001\n",
    "nn.epochs = 60\n",
    "nn.batch_size = 16\n",
    "nn.lambda = 0.01"
   ]
  },
  {
   "cell_type": "code",
   "execution_count": 20,
   "metadata": {
    "scrolled": true
   },
   "outputs": [
    {
     "name": "stderr",
     "output_type": "stream",
     "text": [
      "┌ Info: Training \u001b[34mMachine{NeuralNetworkClassifier{CustomNN,…}} @668\u001b[39m.\n",
      "└ @ MLJBase /home/andrew/.julia/packages/MLJBase/uKzAz/src/machines.jl:319\n",
      "┌ Info: Loss is 0.9947\n",
      "└ @ MLJFlux /home/andrew/.julia/packages/MLJFlux/rYILg/src/core.jl:95\n",
      "┌ Info: Loss is 0.9713\n",
      "└ @ MLJFlux /home/andrew/.julia/packages/MLJFlux/rYILg/src/core.jl:95\n",
      "┌ Info: Loss is 0.9598\n",
      "└ @ MLJFlux /home/andrew/.julia/packages/MLJFlux/rYILg/src/core.jl:95\n",
      "┌ Info: Loss is 0.9535\n",
      "└ @ MLJFlux /home/andrew/.julia/packages/MLJFlux/rYILg/src/core.jl:95\n",
      "┌ Info: Loss is 0.9496\n",
      "└ @ MLJFlux /home/andrew/.julia/packages/MLJFlux/rYILg/src/core.jl:95\n",
      "┌ Info: Loss is 0.9468\n",
      "└ @ MLJFlux /home/andrew/.julia/packages/MLJFlux/rYILg/src/core.jl:95\n",
      "┌ Info: Loss is 0.9445\n",
      "└ @ MLJFlux /home/andrew/.julia/packages/MLJFlux/rYILg/src/core.jl:95\n",
      "┌ Info: Loss is 0.9423\n",
      "└ @ MLJFlux /home/andrew/.julia/packages/MLJFlux/rYILg/src/core.jl:95\n",
      "┌ Info: Loss is 0.9396\n",
      "└ @ MLJFlux /home/andrew/.julia/packages/MLJFlux/rYILg/src/core.jl:95\n",
      "┌ Info: Loss is 0.9354\n",
      "└ @ MLJFlux /home/andrew/.julia/packages/MLJFlux/rYILg/src/core.jl:95\n",
      "┌ Info: Loss is 0.9287\n",
      "└ @ MLJFlux /home/andrew/.julia/packages/MLJFlux/rYILg/src/core.jl:95\n",
      "┌ Info: Loss is 0.9191\n",
      "└ @ MLJFlux /home/andrew/.julia/packages/MLJFlux/rYILg/src/core.jl:95\n",
      "┌ Info: Loss is 0.9071\n",
      "└ @ MLJFlux /home/andrew/.julia/packages/MLJFlux/rYILg/src/core.jl:95\n",
      "┌ Info: Loss is 0.8923\n",
      "└ @ MLJFlux /home/andrew/.julia/packages/MLJFlux/rYILg/src/core.jl:95\n",
      "┌ Info: Loss is 0.8747\n",
      "└ @ MLJFlux /home/andrew/.julia/packages/MLJFlux/rYILg/src/core.jl:95\n",
      "┌ Info: Loss is 0.8561\n",
      "└ @ MLJFlux /home/andrew/.julia/packages/MLJFlux/rYILg/src/core.jl:95\n",
      "┌ Info: Loss is 0.8381\n",
      "└ @ MLJFlux /home/andrew/.julia/packages/MLJFlux/rYILg/src/core.jl:95\n",
      "┌ Info: Loss is 0.8215\n",
      "└ @ MLJFlux /home/andrew/.julia/packages/MLJFlux/rYILg/src/core.jl:95\n",
      "┌ Info: Loss is 0.8066\n",
      "└ @ MLJFlux /home/andrew/.julia/packages/MLJFlux/rYILg/src/core.jl:95\n",
      "┌ Info: Loss is 0.7934\n",
      "└ @ MLJFlux /home/andrew/.julia/packages/MLJFlux/rYILg/src/core.jl:95\n",
      "┌ Info: Loss is 0.7819\n",
      "└ @ MLJFlux /home/andrew/.julia/packages/MLJFlux/rYILg/src/core.jl:95\n",
      "┌ Info: Loss is 0.7719\n",
      "└ @ MLJFlux /home/andrew/.julia/packages/MLJFlux/rYILg/src/core.jl:95\n",
      "┌ Info: Loss is 0.7633\n",
      "└ @ MLJFlux /home/andrew/.julia/packages/MLJFlux/rYILg/src/core.jl:95\n",
      "┌ Info: Loss is 0.7557\n",
      "└ @ MLJFlux /home/andrew/.julia/packages/MLJFlux/rYILg/src/core.jl:95\n",
      "┌ Info: Loss is 0.7491\n",
      "└ @ MLJFlux /home/andrew/.julia/packages/MLJFlux/rYILg/src/core.jl:95\n",
      "┌ Info: Loss is 0.7433\n",
      "└ @ MLJFlux /home/andrew/.julia/packages/MLJFlux/rYILg/src/core.jl:95\n",
      "┌ Info: Loss is 0.7382\n",
      "└ @ MLJFlux /home/andrew/.julia/packages/MLJFlux/rYILg/src/core.jl:95\n",
      "┌ Info: Loss is 0.7336\n",
      "└ @ MLJFlux /home/andrew/.julia/packages/MLJFlux/rYILg/src/core.jl:95\n",
      "┌ Info: Loss is 0.7295\n",
      "└ @ MLJFlux /home/andrew/.julia/packages/MLJFlux/rYILg/src/core.jl:95\n",
      "┌ Info: Loss is 0.7258\n",
      "└ @ MLJFlux /home/andrew/.julia/packages/MLJFlux/rYILg/src/core.jl:95\n",
      "┌ Info: Loss is 0.7224\n",
      "└ @ MLJFlux /home/andrew/.julia/packages/MLJFlux/rYILg/src/core.jl:95\n",
      "┌ Info: Loss is 0.7194\n",
      "└ @ MLJFlux /home/andrew/.julia/packages/MLJFlux/rYILg/src/core.jl:95\n",
      "┌ Info: Loss is 0.7166\n",
      "└ @ MLJFlux /home/andrew/.julia/packages/MLJFlux/rYILg/src/core.jl:95\n",
      "┌ Info: Loss is 0.7141\n",
      "└ @ MLJFlux /home/andrew/.julia/packages/MLJFlux/rYILg/src/core.jl:95\n",
      "┌ Info: Loss is 0.7117\n",
      "└ @ MLJFlux /home/andrew/.julia/packages/MLJFlux/rYILg/src/core.jl:95\n",
      "┌ Info: Loss is 0.7095\n",
      "└ @ MLJFlux /home/andrew/.julia/packages/MLJFlux/rYILg/src/core.jl:95\n",
      "┌ Info: Loss is 0.7075\n",
      "└ @ MLJFlux /home/andrew/.julia/packages/MLJFlux/rYILg/src/core.jl:95\n",
      "┌ Info: Loss is 0.7057\n",
      "└ @ MLJFlux /home/andrew/.julia/packages/MLJFlux/rYILg/src/core.jl:95\n",
      "┌ Info: Loss is 0.7039\n",
      "└ @ MLJFlux /home/andrew/.julia/packages/MLJFlux/rYILg/src/core.jl:95\n",
      "┌ Info: Loss is 0.7023\n",
      "└ @ MLJFlux /home/andrew/.julia/packages/MLJFlux/rYILg/src/core.jl:95\n",
      "┌ Info: Loss is 0.7008\n",
      "└ @ MLJFlux /home/andrew/.julia/packages/MLJFlux/rYILg/src/core.jl:95\n",
      "┌ Info: Loss is 0.6994\n",
      "└ @ MLJFlux /home/andrew/.julia/packages/MLJFlux/rYILg/src/core.jl:95\n",
      "┌ Info: Loss is 0.698\n",
      "└ @ MLJFlux /home/andrew/.julia/packages/MLJFlux/rYILg/src/core.jl:95\n",
      "┌ Info: Loss is 0.6968\n",
      "└ @ MLJFlux /home/andrew/.julia/packages/MLJFlux/rYILg/src/core.jl:95\n",
      "┌ Info: Loss is 0.6956\n",
      "└ @ MLJFlux /home/andrew/.julia/packages/MLJFlux/rYILg/src/core.jl:95\n",
      "┌ Info: Loss is 0.6944\n",
      "└ @ MLJFlux /home/andrew/.julia/packages/MLJFlux/rYILg/src/core.jl:95\n",
      "┌ Info: Loss is 0.6934\n",
      "└ @ MLJFlux /home/andrew/.julia/packages/MLJFlux/rYILg/src/core.jl:95\n",
      "┌ Info: Loss is 0.6923\n",
      "└ @ MLJFlux /home/andrew/.julia/packages/MLJFlux/rYILg/src/core.jl:95\n",
      "┌ Info: Loss is 0.6914\n",
      "└ @ MLJFlux /home/andrew/.julia/packages/MLJFlux/rYILg/src/core.jl:95\n",
      "┌ Info: Loss is 0.6904\n",
      "└ @ MLJFlux /home/andrew/.julia/packages/MLJFlux/rYILg/src/core.jl:95\n",
      "┌ Info: Loss is 0.6896\n",
      "└ @ MLJFlux /home/andrew/.julia/packages/MLJFlux/rYILg/src/core.jl:95\n",
      "┌ Info: Loss is 0.6887\n",
      "└ @ MLJFlux /home/andrew/.julia/packages/MLJFlux/rYILg/src/core.jl:95\n",
      "┌ Info: Loss is 0.6879\n",
      "└ @ MLJFlux /home/andrew/.julia/packages/MLJFlux/rYILg/src/core.jl:95\n",
      "┌ Info: Loss is 0.6872\n",
      "└ @ MLJFlux /home/andrew/.julia/packages/MLJFlux/rYILg/src/core.jl:95\n",
      "┌ Info: Loss is 0.6864\n",
      "└ @ MLJFlux /home/andrew/.julia/packages/MLJFlux/rYILg/src/core.jl:95\n",
      "┌ Info: Loss is 0.6857\n",
      "└ @ MLJFlux /home/andrew/.julia/packages/MLJFlux/rYILg/src/core.jl:95\n",
      "┌ Info: Loss is 0.685\n",
      "└ @ MLJFlux /home/andrew/.julia/packages/MLJFlux/rYILg/src/core.jl:95\n",
      "┌ Info: Loss is 0.6844\n",
      "└ @ MLJFlux /home/andrew/.julia/packages/MLJFlux/rYILg/src/core.jl:95\n",
      "┌ Info: Loss is 0.6837\n",
      "└ @ MLJFlux /home/andrew/.julia/packages/MLJFlux/rYILg/src/core.jl:95\n",
      "┌ Info: Loss is 0.6831\n",
      "└ @ MLJFlux /home/andrew/.julia/packages/MLJFlux/rYILg/src/core.jl:95\n"
     ]
    },
    {
     "data": {
      "text/plain": [
       "\u001b[34mMachine{NeuralNetworkClassifier{CustomNN,…}} @668\u001b[39m trained 1 time.\n",
       "  args: \n",
       "    1:\t\u001b[34mSource @521\u001b[39m ⏎ `Table{AbstractArray{Continuous,1}}`\n",
       "    2:\t\u001b[34mSource @955\u001b[39m ⏎ `AbstractArray{Multiclass{3},1}`\n"
      ]
     },
     "execution_count": 20,
     "metadata": {},
     "output_type": "execute_result"
    }
   ],
   "source": [
    "fit!(Net, rows=train, verbosity=2)"
   ]
  },
  {
   "cell_type": "code",
   "execution_count": 21,
   "metadata": {},
   "outputs": [
    {
     "data": {
      "text/plain": [
       "100"
      ]
     },
     "execution_count": 21,
     "metadata": {},
     "output_type": "execute_result"
    }
   ],
   "source": [
    "nn.optimiser.eta = nn.optimiser.eta / 3\n",
    "nn.epochs = nn.epochs + 40"
   ]
  },
  {
   "cell_type": "code",
   "execution_count": 22,
   "metadata": {
    "scrolled": true
   },
   "outputs": [
    {
     "name": "stderr",
     "output_type": "stream",
     "text": [
      "┌ Info: Updating \u001b[34mMachine{NeuralNetworkClassifier{CustomNN,…}} @668\u001b[39m.\n",
      "└ @ MLJBase /home/andrew/.julia/packages/MLJBase/uKzAz/src/machines.jl:320\n",
      "┌ Info: Loss is 0.6829\n",
      "└ @ MLJFlux /home/andrew/.julia/packages/MLJFlux/rYILg/src/core.jl:95\n",
      "┌ Info: Loss is 0.6826\n",
      "└ @ MLJFlux /home/andrew/.julia/packages/MLJFlux/rYILg/src/core.jl:95\n",
      "┌ Info: Loss is 0.6823\n",
      "└ @ MLJFlux /home/andrew/.julia/packages/MLJFlux/rYILg/src/core.jl:95\n",
      "┌ Info: Loss is 0.6821\n",
      "└ @ MLJFlux /home/andrew/.julia/packages/MLJFlux/rYILg/src/core.jl:95\n",
      "┌ Info: Loss is 0.6818\n",
      "└ @ MLJFlux /home/andrew/.julia/packages/MLJFlux/rYILg/src/core.jl:95\n",
      "┌ Info: Loss is 0.6816\n",
      "└ @ MLJFlux /home/andrew/.julia/packages/MLJFlux/rYILg/src/core.jl:95\n",
      "┌ Info: Loss is 0.6814\n",
      "└ @ MLJFlux /home/andrew/.julia/packages/MLJFlux/rYILg/src/core.jl:95\n",
      "┌ Info: Loss is 0.6812\n",
      "└ @ MLJFlux /home/andrew/.julia/packages/MLJFlux/rYILg/src/core.jl:95\n",
      "┌ Info: Loss is 0.6809\n",
      "└ @ MLJFlux /home/andrew/.julia/packages/MLJFlux/rYILg/src/core.jl:95\n",
      "┌ Info: Loss is 0.6807\n",
      "└ @ MLJFlux /home/andrew/.julia/packages/MLJFlux/rYILg/src/core.jl:95\n",
      "┌ Info: Loss is 0.6805\n",
      "└ @ MLJFlux /home/andrew/.julia/packages/MLJFlux/rYILg/src/core.jl:95\n",
      "┌ Info: Loss is 0.6803\n",
      "└ @ MLJFlux /home/andrew/.julia/packages/MLJFlux/rYILg/src/core.jl:95\n",
      "┌ Info: Loss is 0.6801\n",
      "└ @ MLJFlux /home/andrew/.julia/packages/MLJFlux/rYILg/src/core.jl:95\n",
      "┌ Info: Loss is 0.6799\n",
      "└ @ MLJFlux /home/andrew/.julia/packages/MLJFlux/rYILg/src/core.jl:95\n",
      "┌ Info: Loss is 0.6797\n",
      "└ @ MLJFlux /home/andrew/.julia/packages/MLJFlux/rYILg/src/core.jl:95\n",
      "┌ Info: Loss is 0.6795\n",
      "└ @ MLJFlux /home/andrew/.julia/packages/MLJFlux/rYILg/src/core.jl:95\n",
      "┌ Info: Loss is 0.6793\n",
      "└ @ MLJFlux /home/andrew/.julia/packages/MLJFlux/rYILg/src/core.jl:95\n",
      "┌ Info: Loss is 0.6791\n",
      "└ @ MLJFlux /home/andrew/.julia/packages/MLJFlux/rYILg/src/core.jl:95\n",
      "┌ Info: Loss is 0.679\n",
      "└ @ MLJFlux /home/andrew/.julia/packages/MLJFlux/rYILg/src/core.jl:95\n",
      "┌ Info: Loss is 0.6788\n",
      "└ @ MLJFlux /home/andrew/.julia/packages/MLJFlux/rYILg/src/core.jl:95\n",
      "┌ Info: Loss is 0.6786\n",
      "└ @ MLJFlux /home/andrew/.julia/packages/MLJFlux/rYILg/src/core.jl:95\n",
      "┌ Info: Loss is 0.6784\n",
      "└ @ MLJFlux /home/andrew/.julia/packages/MLJFlux/rYILg/src/core.jl:95\n",
      "┌ Info: Loss is 0.6782\n",
      "└ @ MLJFlux /home/andrew/.julia/packages/MLJFlux/rYILg/src/core.jl:95\n",
      "┌ Info: Loss is 0.6781\n",
      "└ @ MLJFlux /home/andrew/.julia/packages/MLJFlux/rYILg/src/core.jl:95\n",
      "┌ Info: Loss is 0.6779\n",
      "└ @ MLJFlux /home/andrew/.julia/packages/MLJFlux/rYILg/src/core.jl:95\n",
      "┌ Info: Loss is 0.6777\n",
      "└ @ MLJFlux /home/andrew/.julia/packages/MLJFlux/rYILg/src/core.jl:95\n",
      "┌ Info: Loss is 0.6776\n",
      "└ @ MLJFlux /home/andrew/.julia/packages/MLJFlux/rYILg/src/core.jl:95\n",
      "┌ Info: Loss is 0.6774\n",
      "└ @ MLJFlux /home/andrew/.julia/packages/MLJFlux/rYILg/src/core.jl:95\n",
      "┌ Info: Loss is 0.6772\n",
      "└ @ MLJFlux /home/andrew/.julia/packages/MLJFlux/rYILg/src/core.jl:95\n",
      "┌ Info: Loss is 0.6771\n",
      "└ @ MLJFlux /home/andrew/.julia/packages/MLJFlux/rYILg/src/core.jl:95\n",
      "┌ Info: Loss is 0.6769\n",
      "└ @ MLJFlux /home/andrew/.julia/packages/MLJFlux/rYILg/src/core.jl:95\n",
      "┌ Info: Loss is 0.6768\n",
      "└ @ MLJFlux /home/andrew/.julia/packages/MLJFlux/rYILg/src/core.jl:95\n",
      "┌ Info: Loss is 0.6766\n",
      "└ @ MLJFlux /home/andrew/.julia/packages/MLJFlux/rYILg/src/core.jl:95\n",
      "┌ Info: Loss is 0.6764\n",
      "└ @ MLJFlux /home/andrew/.julia/packages/MLJFlux/rYILg/src/core.jl:95\n",
      "┌ Info: Loss is 0.6763\n",
      "└ @ MLJFlux /home/andrew/.julia/packages/MLJFlux/rYILg/src/core.jl:95\n",
      "┌ Info: Loss is 0.6761\n",
      "└ @ MLJFlux /home/andrew/.julia/packages/MLJFlux/rYILg/src/core.jl:95\n",
      "┌ Info: Loss is 0.676\n",
      "└ @ MLJFlux /home/andrew/.julia/packages/MLJFlux/rYILg/src/core.jl:95\n",
      "┌ Info: Loss is 0.6758\n",
      "└ @ MLJFlux /home/andrew/.julia/packages/MLJFlux/rYILg/src/core.jl:95\n",
      "┌ Info: Loss is 0.6757\n",
      "└ @ MLJFlux /home/andrew/.julia/packages/MLJFlux/rYILg/src/core.jl:95\n",
      "┌ Info: Loss is 0.6756\n",
      "└ @ MLJFlux /home/andrew/.julia/packages/MLJFlux/rYILg/src/core.jl:95\n"
     ]
    },
    {
     "data": {
      "text/plain": [
       "\u001b[34mMachine{NeuralNetworkClassifier{CustomNN,…}} @668\u001b[39m trained 2 times.\n",
       "  args: \n",
       "    1:\t\u001b[34mSource @521\u001b[39m ⏎ `Table{AbstractArray{Continuous,1}}`\n",
       "    2:\t\u001b[34mSource @955\u001b[39m ⏎ `AbstractArray{Multiclass{3},1}`\n"
      ]
     },
     "execution_count": 22,
     "metadata": {},
     "output_type": "execute_result"
    }
   ],
   "source": [
    "fit!(Net, rows=train, verbosity=2)"
   ]
  },
  {
   "cell_type": "code",
   "execution_count": 28,
   "metadata": {},
   "outputs": [
    {
     "name": "stderr",
     "output_type": "stream",
     "text": [
      "\u001b[33mEvaluating over 6 folds: 100%[=========================] Time: 0:00:02\u001b[39m\n"
     ]
    },
    {
     "data": {
      "text/plain": [
       "┌\u001b[0m───────────────\u001b[0m┬\u001b[0m───────────────\u001b[0m┬\u001b[0m──────────────────────────────────────────────────\u001b[0m┐\u001b[0m\n",
       "│\u001b[0m\u001b[22m _.measure     \u001b[0m│\u001b[0m\u001b[22m _.measurement \u001b[0m│\u001b[0m\u001b[22m _.per_fold                                       \u001b[0m│\u001b[0m\n",
       "├\u001b[0m───────────────\u001b[0m┼\u001b[0m───────────────\u001b[0m┼\u001b[0m──────────────────────────────────────────────────\u001b[0m┤\u001b[0m\n",
       "│\u001b[0m cross_entropy \u001b[0m│\u001b[0m 0.702         \u001b[0m│\u001b[0m Float32[0.694, 0.681, 0.713, 0.723, 0.689, 0.71] \u001b[0m│\u001b[0m\n",
       "│\u001b[0m acc           \u001b[0m│\u001b[0m 0.864         \u001b[0m│\u001b[0m [0.886, 0.885, 0.837, 0.846, 0.875, 0.856]       \u001b[0m│\u001b[0m\n",
       "└\u001b[0m───────────────\u001b[0m┴\u001b[0m───────────────\u001b[0m┴\u001b[0m──────────────────────────────────────────────────\u001b[0m┘\u001b[0m\n",
       "_.per_observation = [[[0.593, 0.561, ..., 1.46], [0.565, 0.585, ..., 0.584], [0.677, 0.67, ..., 0.578], [0.562, 1.03, ..., 0.558], [0.564, 0.554, ..., 0.688], [0.566, 0.587, ..., 0.563]], missing]\n",
       "_.fitted_params_per_fold = [ … ]\n",
       "_.report_per_fold = [ … ]\n"
      ]
     },
     "execution_count": 28,
     "metadata": {},
     "output_type": "execute_result"
    }
   ],
   "source": [
    "nn_acc = evaluate!(Net, resampling=CV(shuffle=true), measure=[cross_entropy, acc], verbosity=1)"
   ]
  },
  {
   "cell_type": "code",
   "execution_count": 29,
   "metadata": {},
   "outputs": [
    {
     "data": {
      "text/plain": [
       "(chain = Chain(Chain(Dense(4, 34, σ), Dense(34, 3, σ)), softmax),)"
      ]
     },
     "execution_count": 29,
     "metadata": {},
     "output_type": "execute_result"
    }
   ],
   "source": [
    "fitted_params(Net)"
   ]
  },
  {
   "cell_type": "code",
   "execution_count": 30,
   "metadata": {
    "scrolled": true
   },
   "outputs": [
    {
     "data": {
      "text/plain": [
       "(training_losses = Any[1.0489224f0, 1.0270202f0, 1.0095178f0, 0.9956713f0, 0.9846867f0, 0.97588027f0, 0.9687133f0, 0.9627767f0, 0.95776117f0, 0.95343286f0  …  0.70278883f0, 0.7019947f0, 0.70122075f0, 0.70046645f0, 0.6997309f0, 0.6990136f0, 0.6983137f0, 0.6976309f0, 0.696964f0, 0.6963131f0],)"
      ]
     },
     "execution_count": 30,
     "metadata": {},
     "output_type": "execute_result"
    }
   ],
   "source": [
    "report(Net)"
   ]
  },
  {
   "cell_type": "markdown",
   "metadata": {},
   "source": [
    "### With Preprocessing"
   ]
  },
  {
   "cell_type": "code",
   "execution_count": 31,
   "metadata": {},
   "outputs": [
    {
     "data": {
      "text/plain": [
       "NeuralNetworkClassifier(\n",
       "    builder = CustomNN(\n",
       "            n1 = 34),\n",
       "    finaliser = NNlib.softmax,\n",
       "    optimiser = ADAM(0.001, (0.9, 0.999), IdDict{Any,Any}()),\n",
       "    loss = Flux.crossentropy,\n",
       "    epochs = 10,\n",
       "    batch_size = 1,\n",
       "    lambda = 0.0,\n",
       "    alpha = 0.0,\n",
       "    optimiser_changes_trigger_retraining = false)\u001b[34m @489\u001b[39m"
      ]
     },
     "execution_count": 31,
     "metadata": {},
     "output_type": "execute_result"
    }
   ],
   "source": [
    "nn2 = NeuralNetworkClassifier(builder=CustomNN(layer1))"
   ]
  },
  {
   "cell_type": "code",
   "execution_count": 32,
   "metadata": {},
   "outputs": [
    {
     "data": {
      "text/plain": [
       "0.0021544346900318843"
      ]
     },
     "execution_count": 32,
     "metadata": {},
     "output_type": "execute_result"
    }
   ],
   "source": [
    "nn2.optimiser.eta = 0.00032\n",
    "nn2.batch_size = 16\n",
    "nn2.lambda = 0.0021544346900318843"
   ]
  },
  {
   "cell_type": "markdown",
   "metadata": {},
   "source": [
    "Standardizing Inputs makes a huge difference.\n",
    "Before, I could only barely break below 0.4 training loss, but by standardizing inputs, I can easily get near 0.3."
   ]
  },
  {
   "cell_type": "code",
   "execution_count": 33,
   "metadata": {},
   "outputs": [
    {
     "name": "stderr",
     "output_type": "stream",
     "text": [
      "┌ Info: Training \u001b[34mMachine{Standardizer} @374\u001b[39m.\n",
      "└ @ MLJBase /home/andrew/.julia/packages/MLJBase/uKzAz/src/machines.jl:319\n"
     ]
    }
   ],
   "source": [
    "standardizer = Standardizer()\n",
    "stand = machine(standardizer, X[train,:]) #only want to standardize on training distribution\n",
    "fit!(stand)\n",
    "X_stand = MLJ.transform(stand, X);"
   ]
  },
  {
   "cell_type": "code",
   "execution_count": 34,
   "metadata": {},
   "outputs": [
    {
     "data": {
      "text/plain": [
       "\u001b[34mMachine{NeuralNetworkClassifier{CustomNN,…}} @905\u001b[39m trained 0 times.\n",
       "  args: \n",
       "    1:\t\u001b[34mSource @126\u001b[39m ⏎ `Table{AbstractArray{Continuous,1}}`\n",
       "    2:\t\u001b[34mSource @510\u001b[39m ⏎ `AbstractArray{Multiclass{3},1}`\n"
      ]
     },
     "execution_count": 34,
     "metadata": {},
     "output_type": "execute_result"
    }
   ],
   "source": [
    "Net2 = machine(nn2, X_stand, y)"
   ]
  },
  {
   "cell_type": "markdown",
   "metadata": {},
   "source": [
    "### Learning Curve"
   ]
  },
  {
   "cell_type": "code",
   "execution_count": 42,
   "metadata": {},
   "outputs": [],
   "source": [
    "max_epochs = 2000;"
   ]
  },
  {
   "cell_type": "code",
   "execution_count": 43,
   "metadata": {},
   "outputs": [],
   "source": [
    "nn2.epochs = max_epochs;"
   ]
  },
  {
   "cell_type": "code",
   "execution_count": 44,
   "metadata": {},
   "outputs": [
    {
     "name": "stderr",
     "output_type": "stream",
     "text": [
      "┌ Info: Training \u001b[34mMachine{NeuralNetworkClassifier{CustomNN,…}} @905\u001b[39m.\n",
      "└ @ MLJBase /home/andrew/.julia/packages/MLJBase/uKzAz/src/machines.jl:319\n",
      "\u001b[33mOptimising neural net:100%[=========================] Time: 0:00:07\u001b[39m\n"
     ]
    },
    {
     "data": {
      "text/plain": [
       "\u001b[34mMachine{NeuralNetworkClassifier{CustomNN,…}} @905\u001b[39m trained 2 times.\n",
       "  args: \n",
       "    1:\t\u001b[34mSource @126\u001b[39m ⏎ `Table{AbstractArray{Continuous,1}}`\n",
       "    2:\t\u001b[34mSource @510\u001b[39m ⏎ `AbstractArray{Multiclass{3},1}`\n"
      ]
     },
     "execution_count": 44,
     "metadata": {},
     "output_type": "execute_result"
    }
   ],
   "source": [
    "fit!(Net2, rows=train, verbosity=1, force=true)"
   ]
  },
  {
   "cell_type": "code",
   "execution_count": 45,
   "metadata": {
    "scrolled": true
   },
   "outputs": [
    {
     "name": "stderr",
     "output_type": "stream",
     "text": [
      "┌ Info: Training \u001b[34mMachine{ProbabilisticTunedModel{Grid,…}} @398\u001b[39m.\n",
      "└ @ MLJBase /home/andrew/.julia/packages/MLJBase/uKzAz/src/machines.jl:319\n",
      "┌ Info: Attempting to evaluate 401 models.\n",
      "└ @ MLJTuning /home/andrew/.julia/packages/MLJTuning/Bbgvk/src/tuned_models.jl:494\n",
      "\u001b[33mEvaluating over 401 metamodels: 100%[=========================] Time: 0:00:07\u001b[39m\n"
     ]
    },
    {
     "data": {
      "text/plain": [
       "(parameter_name = \"epochs\",\n",
       " parameter_scale = :none,\n",
       " parameter_values = [0, 5, 10, 15, 20, 25, 30, 35, 40, 45  …  1955, 1960, 1965, 1970, 1975, 1980, 1985, 1990, 1995, 2000],\n",
       " measurements = [1.0289121866226196, 1.0148004293441772, 1.0120105743408203, 1.0106853246688843, 1.0061944723129272, 0.9976232051849365, 0.9854570031166077, 0.9704335927963257, 0.9532008171081543, 0.9343756437301636  …  0.641137421131134, 0.6410965323448181, 0.6410556435585022, 0.641014575958252, 0.6409735083580017, 0.6409323215484619, 0.6408909559249878, 0.6408495306968689, 0.6408080458641052, 0.6407663822174072],)"
      ]
     },
     "execution_count": 45,
     "metadata": {},
     "output_type": "execute_result"
    }
   ],
   "source": [
    "vals = collect(0:5:max_epochs)\n",
    "r = range(nn2, :epochs, values=vals)\n",
    "# r = range(nn2, :epochs, lower=0, upper=max_epochs)\n",
    "curve = learning_curve(Net2, \n",
    "                        range=r, \n",
    "                        resampling=Holdout(fraction_train=0.7), \n",
    "#                         resampling=CV(nfolds=4), \n",
    "                        measure=cross_entropy, \n",
    "                        acceleration=CPUThreads())"
   ]
  },
  {
   "cell_type": "code",
   "execution_count": 46,
   "metadata": {},
   "outputs": [
    {
     "data": {
      "image/svg+xml": [
       "<?xml version=\"1.0\" encoding=\"utf-8\"?>\n",
       "<svg xmlns=\"http://www.w3.org/2000/svg\" xmlns:xlink=\"http://www.w3.org/1999/xlink\" width=\"600\" height=\"400\" viewBox=\"0 0 2400 1600\">\n",
       "<defs>\n",
       "  <clipPath id=\"clip520\">\n",
       "    <rect x=\"0\" y=\"0\" width=\"2400\" height=\"1600\"/>\n",
       "  </clipPath>\n",
       "</defs>\n",
       "<path clip-path=\"url(#clip520)\" d=\"\n",
       "M0 1600 L2400 1600 L2400 0 L0 0  Z\n",
       "  \" fill=\"#ffffff\" fill-rule=\"evenodd\" fill-opacity=\"1\"/>\n",
       "<defs>\n",
       "  <clipPath id=\"clip521\">\n",
       "    <rect x=\"480\" y=\"0\" width=\"1681\" height=\"1600\"/>\n",
       "  </clipPath>\n",
       "</defs>\n",
       "<path clip-path=\"url(#clip520)\" d=\"\n",
       "M211.024 1423.18 L2352.76 1423.18 L2352.76 47.2441 L211.024 47.2441  Z\n",
       "  \" fill=\"#ffffff\" fill-rule=\"evenodd\" fill-opacity=\"1\"/>\n",
       "<defs>\n",
       "  <clipPath id=\"clip522\">\n",
       "    <rect x=\"211\" y=\"47\" width=\"2143\" height=\"1377\"/>\n",
       "  </clipPath>\n",
       "</defs>\n",
       "<polyline clip-path=\"url(#clip522)\" style=\"stroke:#000000; stroke-width:2; stroke-opacity:0.1; fill:none\" points=\"\n",
       "  271.639,1423.18 271.639,47.2441 \n",
       "  \"/>\n",
       "<polyline clip-path=\"url(#clip522)\" style=\"stroke:#000000; stroke-width:2; stroke-opacity:0.1; fill:none\" points=\"\n",
       "  776.764,1423.18 776.764,47.2441 \n",
       "  \"/>\n",
       "<polyline clip-path=\"url(#clip522)\" style=\"stroke:#000000; stroke-width:2; stroke-opacity:0.1; fill:none\" points=\"\n",
       "  1281.89,1423.18 1281.89,47.2441 \n",
       "  \"/>\n",
       "<polyline clip-path=\"url(#clip522)\" style=\"stroke:#000000; stroke-width:2; stroke-opacity:0.1; fill:none\" points=\"\n",
       "  1787.02,1423.18 1787.02,47.2441 \n",
       "  \"/>\n",
       "<polyline clip-path=\"url(#clip522)\" style=\"stroke:#000000; stroke-width:2; stroke-opacity:0.1; fill:none\" points=\"\n",
       "  2292.14,1423.18 2292.14,47.2441 \n",
       "  \"/>\n",
       "<polyline clip-path=\"url(#clip522)\" style=\"stroke:#000000; stroke-width:2; stroke-opacity:0.1; fill:none\" points=\"\n",
       "  211.024,1209.02 2352.76,1209.02 \n",
       "  \"/>\n",
       "<polyline clip-path=\"url(#clip522)\" style=\"stroke:#000000; stroke-width:2; stroke-opacity:0.1; fill:none\" points=\"\n",
       "  211.024,913.199 2352.76,913.199 \n",
       "  \"/>\n",
       "<polyline clip-path=\"url(#clip522)\" style=\"stroke:#000000; stroke-width:2; stroke-opacity:0.1; fill:none\" points=\"\n",
       "  211.024,617.383 2352.76,617.383 \n",
       "  \"/>\n",
       "<polyline clip-path=\"url(#clip522)\" style=\"stroke:#000000; stroke-width:2; stroke-opacity:0.1; fill:none\" points=\"\n",
       "  211.024,321.567 2352.76,321.567 \n",
       "  \"/>\n",
       "<polyline clip-path=\"url(#clip520)\" style=\"stroke:#000000; stroke-width:4; stroke-opacity:1; fill:none\" points=\"\n",
       "  211.024,1423.18 2352.76,1423.18 \n",
       "  \"/>\n",
       "<polyline clip-path=\"url(#clip520)\" style=\"stroke:#000000; stroke-width:4; stroke-opacity:1; fill:none\" points=\"\n",
       "  211.024,1423.18 211.024,47.2441 \n",
       "  \"/>\n",
       "<polyline clip-path=\"url(#clip520)\" style=\"stroke:#000000; stroke-width:4; stroke-opacity:1; fill:none\" points=\"\n",
       "  271.639,1423.18 271.639,1406.67 \n",
       "  \"/>\n",
       "<polyline clip-path=\"url(#clip520)\" style=\"stroke:#000000; stroke-width:4; stroke-opacity:1; fill:none\" points=\"\n",
       "  776.764,1423.18 776.764,1406.67 \n",
       "  \"/>\n",
       "<polyline clip-path=\"url(#clip520)\" style=\"stroke:#000000; stroke-width:4; stroke-opacity:1; fill:none\" points=\"\n",
       "  1281.89,1423.18 1281.89,1406.67 \n",
       "  \"/>\n",
       "<polyline clip-path=\"url(#clip520)\" style=\"stroke:#000000; stroke-width:4; stroke-opacity:1; fill:none\" points=\"\n",
       "  1787.02,1423.18 1787.02,1406.67 \n",
       "  \"/>\n",
       "<polyline clip-path=\"url(#clip520)\" style=\"stroke:#000000; stroke-width:4; stroke-opacity:1; fill:none\" points=\"\n",
       "  2292.14,1423.18 2292.14,1406.67 \n",
       "  \"/>\n",
       "<polyline clip-path=\"url(#clip520)\" style=\"stroke:#000000; stroke-width:4; stroke-opacity:1; fill:none\" points=\"\n",
       "  211.024,1209.02 236.725,1209.02 \n",
       "  \"/>\n",
       "<polyline clip-path=\"url(#clip520)\" style=\"stroke:#000000; stroke-width:4; stroke-opacity:1; fill:none\" points=\"\n",
       "  211.024,913.199 236.725,913.199 \n",
       "  \"/>\n",
       "<polyline clip-path=\"url(#clip520)\" style=\"stroke:#000000; stroke-width:4; stroke-opacity:1; fill:none\" points=\"\n",
       "  211.024,617.383 236.725,617.383 \n",
       "  \"/>\n",
       "<polyline clip-path=\"url(#clip520)\" style=\"stroke:#000000; stroke-width:4; stroke-opacity:1; fill:none\" points=\"\n",
       "  211.024,321.567 236.725,321.567 \n",
       "  \"/>\n",
       "<path clip-path=\"url(#clip520)\" d=\"M 0 0 M271.639 1445.17 Q268.028 1445.17 266.199 1448.74 Q264.393 1452.28 264.393 1459.41 Q264.393 1466.51 266.199 1470.08 Q268.028 1473.62 271.639 1473.62 Q275.273 1473.62 277.079 1470.08 Q278.907 1466.51 278.907 1459.41 Q278.907 1452.28 277.079 1448.74 Q275.273 1445.17 271.639 1445.17 M271.639 1441.47 Q277.449 1441.47 280.504 1446.07 Q283.583 1450.66 283.583 1459.41 Q283.583 1468.13 280.504 1472.74 Q277.449 1477.32 271.639 1477.32 Q265.829 1477.32 262.75 1472.74 Q259.694 1468.13 259.694 1459.41 Q259.694 1450.66 262.75 1446.07 Q265.829 1441.47 271.639 1441.47 Z\" fill=\"#000000\" fill-rule=\"evenodd\" fill-opacity=\"1\" /><path clip-path=\"url(#clip520)\" d=\"M 0 0 M740.028 1442.09 L758.385 1442.09 L758.385 1446.03 L744.311 1446.03 L744.311 1454.5 Q745.329 1454.15 746.348 1453.99 Q747.366 1453.8 748.385 1453.8 Q754.172 1453.8 757.551 1456.98 Q760.931 1460.15 760.931 1465.56 Q760.931 1471.14 757.459 1474.24 Q753.987 1477.32 747.667 1477.32 Q745.491 1477.32 743.223 1476.95 Q740.977 1476.58 738.57 1475.84 L738.57 1471.14 Q740.653 1472.28 742.876 1472.83 Q745.098 1473.39 747.575 1473.39 Q751.579 1473.39 753.917 1471.28 Q756.255 1469.18 756.255 1465.56 Q756.255 1461.95 753.917 1459.85 Q751.579 1457.74 747.575 1457.74 Q745.7 1457.74 743.825 1458.16 Q741.973 1458.57 740.028 1459.45 L740.028 1442.09 Z\" fill=\"#000000\" fill-rule=\"evenodd\" fill-opacity=\"1\" /><path clip-path=\"url(#clip520)\" d=\"M 0 0 M776 1445.17 Q772.389 1445.17 770.561 1448.74 Q768.755 1452.28 768.755 1459.41 Q768.755 1466.51 770.561 1470.08 Q772.389 1473.62 776 1473.62 Q779.635 1473.62 781.44 1470.08 Q783.269 1466.51 783.269 1459.41 Q783.269 1452.28 781.44 1448.74 Q779.635 1445.17 776 1445.17 M776 1441.47 Q781.811 1441.47 784.866 1446.07 Q787.945 1450.66 787.945 1459.41 Q787.945 1468.13 784.866 1472.74 Q781.811 1477.32 776 1477.32 Q770.19 1477.32 767.112 1472.74 Q764.056 1468.13 764.056 1459.41 Q764.056 1450.66 767.112 1446.07 Q770.19 1441.47 776 1441.47 Z\" fill=\"#000000\" fill-rule=\"evenodd\" fill-opacity=\"1\" /><path clip-path=\"url(#clip520)\" d=\"M 0 0 M803.014 1445.17 Q799.403 1445.17 797.574 1448.74 Q795.769 1452.28 795.769 1459.41 Q795.769 1466.51 797.574 1470.08 Q799.403 1473.62 803.014 1473.62 Q806.648 1473.62 808.454 1470.08 Q810.283 1466.51 810.283 1459.41 Q810.283 1452.28 808.454 1448.74 Q806.648 1445.17 803.014 1445.17 M803.014 1441.47 Q808.824 1441.47 811.88 1446.07 Q814.959 1450.66 814.959 1459.41 Q814.959 1468.13 811.88 1472.74 Q808.824 1477.32 803.014 1477.32 Q797.204 1477.32 794.125 1472.74 Q791.07 1468.13 791.07 1459.41 Q791.07 1450.66 794.125 1446.07 Q797.204 1441.47 803.014 1441.47 Z\" fill=\"#000000\" fill-rule=\"evenodd\" fill-opacity=\"1\" /><path clip-path=\"url(#clip520)\" d=\"M 0 0 M1231.75 1472.72 L1239.39 1472.72 L1239.39 1446.35 L1231.08 1448.02 L1231.08 1443.76 L1239.34 1442.09 L1244.02 1442.09 L1244.02 1472.72 L1251.66 1472.72 L1251.66 1476.65 L1231.75 1476.65 L1231.75 1472.72 Z\" fill=\"#000000\" fill-rule=\"evenodd\" fill-opacity=\"1\" /><path clip-path=\"url(#clip520)\" d=\"M 0 0 M1266.73 1445.17 Q1263.12 1445.17 1261.29 1448.74 Q1259.48 1452.28 1259.48 1459.41 Q1259.48 1466.51 1261.29 1470.08 Q1263.12 1473.62 1266.73 1473.62 Q1270.36 1473.62 1272.17 1470.08 Q1274 1466.51 1274 1459.41 Q1274 1452.28 1272.17 1448.74 Q1270.36 1445.17 1266.73 1445.17 M1266.73 1441.47 Q1272.54 1441.47 1275.59 1446.07 Q1278.67 1450.66 1278.67 1459.41 Q1278.67 1468.13 1275.59 1472.74 Q1272.54 1477.32 1266.73 1477.32 Q1260.92 1477.32 1257.84 1472.74 Q1254.78 1468.13 1254.78 1459.41 Q1254.78 1450.66 1257.84 1446.07 Q1260.92 1441.47 1266.73 1441.47 Z\" fill=\"#000000\" fill-rule=\"evenodd\" fill-opacity=\"1\" /><path clip-path=\"url(#clip520)\" d=\"M 0 0 M1293.74 1445.17 Q1290.13 1445.17 1288.3 1448.74 Q1286.5 1452.28 1286.5 1459.41 Q1286.5 1466.51 1288.3 1470.08 Q1290.13 1473.62 1293.74 1473.62 Q1297.38 1473.62 1299.18 1470.08 Q1301.01 1466.51 1301.01 1459.41 Q1301.01 1452.28 1299.18 1448.74 Q1297.38 1445.17 1293.74 1445.17 M1293.74 1441.47 Q1299.55 1441.47 1302.61 1446.07 Q1305.69 1450.66 1305.69 1459.41 Q1305.69 1468.13 1302.61 1472.74 Q1299.55 1477.32 1293.74 1477.32 Q1287.93 1477.32 1284.85 1472.74 Q1281.8 1468.13 1281.8 1459.41 Q1281.8 1450.66 1284.85 1446.07 Q1287.93 1441.47 1293.74 1441.47 Z\" fill=\"#000000\" fill-rule=\"evenodd\" fill-opacity=\"1\" /><path clip-path=\"url(#clip520)\" d=\"M 0 0 M1320.76 1445.17 Q1317.14 1445.17 1315.32 1448.74 Q1313.51 1452.28 1313.51 1459.41 Q1313.51 1466.51 1315.32 1470.08 Q1317.14 1473.62 1320.76 1473.62 Q1324.39 1473.62 1326.2 1470.08 Q1328.02 1466.51 1328.02 1459.41 Q1328.02 1452.28 1326.2 1448.74 Q1324.39 1445.17 1320.76 1445.17 M1320.76 1441.47 Q1326.57 1441.47 1329.62 1446.07 Q1332.7 1450.66 1332.7 1459.41 Q1332.7 1468.13 1329.62 1472.74 Q1326.57 1477.32 1320.76 1477.32 Q1314.95 1477.32 1311.87 1472.74 Q1308.81 1468.13 1308.81 1459.41 Q1308.81 1450.66 1311.87 1446.07 Q1314.95 1441.47 1320.76 1441.47 Z\" fill=\"#000000\" fill-rule=\"evenodd\" fill-opacity=\"1\" /><path clip-path=\"url(#clip520)\" d=\"M 0 0 M1737.37 1472.72 L1745.01 1472.72 L1745.01 1446.35 L1736.7 1448.02 L1736.7 1443.76 L1744.97 1442.09 L1749.64 1442.09 L1749.64 1472.72 L1757.28 1472.72 L1757.28 1476.65 L1737.37 1476.65 L1737.37 1472.72 Z\" fill=\"#000000\" fill-rule=\"evenodd\" fill-opacity=\"1\" /><path clip-path=\"url(#clip520)\" d=\"M 0 0 M1762.4 1442.09 L1780.75 1442.09 L1780.75 1446.03 L1766.68 1446.03 L1766.68 1454.5 Q1767.7 1454.15 1768.72 1453.99 Q1769.74 1453.8 1770.75 1453.8 Q1776.54 1453.8 1779.92 1456.98 Q1783.3 1460.15 1783.3 1465.56 Q1783.3 1471.14 1779.83 1474.24 Q1776.36 1477.32 1770.04 1477.32 Q1767.86 1477.32 1765.59 1476.95 Q1763.35 1476.58 1760.94 1475.84 L1760.94 1471.14 Q1763.02 1472.28 1765.24 1472.83 Q1767.47 1473.39 1769.94 1473.39 Q1773.95 1473.39 1776.29 1471.28 Q1778.62 1469.18 1778.62 1465.56 Q1778.62 1461.95 1776.29 1459.85 Q1773.95 1457.74 1769.94 1457.74 Q1768.07 1457.74 1766.19 1458.16 Q1764.34 1458.57 1762.4 1459.45 L1762.4 1442.09 Z\" fill=\"#000000\" fill-rule=\"evenodd\" fill-opacity=\"1\" /><path clip-path=\"url(#clip520)\" d=\"M 0 0 M1798.37 1445.17 Q1794.76 1445.17 1792.93 1448.74 Q1791.12 1452.28 1791.12 1459.41 Q1791.12 1466.51 1792.93 1470.08 Q1794.76 1473.62 1798.37 1473.62 Q1802 1473.62 1803.81 1470.08 Q1805.64 1466.51 1805.64 1459.41 Q1805.64 1452.28 1803.81 1448.74 Q1802 1445.17 1798.37 1445.17 M1798.37 1441.47 Q1804.18 1441.47 1807.24 1446.07 Q1810.31 1450.66 1810.31 1459.41 Q1810.31 1468.13 1807.24 1472.74 Q1804.18 1477.32 1798.37 1477.32 Q1792.56 1477.32 1789.48 1472.74 Q1786.43 1468.13 1786.43 1459.41 Q1786.43 1450.66 1789.48 1446.07 Q1792.56 1441.47 1798.37 1441.47 Z\" fill=\"#000000\" fill-rule=\"evenodd\" fill-opacity=\"1\" /><path clip-path=\"url(#clip520)\" d=\"M 0 0 M1825.38 1445.17 Q1821.77 1445.17 1819.94 1448.74 Q1818.14 1452.28 1818.14 1459.41 Q1818.14 1466.51 1819.94 1470.08 Q1821.77 1473.62 1825.38 1473.62 Q1829.02 1473.62 1830.82 1470.08 Q1832.65 1466.51 1832.65 1459.41 Q1832.65 1452.28 1830.82 1448.74 Q1829.02 1445.17 1825.38 1445.17 M1825.38 1441.47 Q1831.19 1441.47 1834.25 1446.07 Q1837.33 1450.66 1837.33 1459.41 Q1837.33 1468.13 1834.25 1472.74 Q1831.19 1477.32 1825.38 1477.32 Q1819.57 1477.32 1816.49 1472.74 Q1813.44 1468.13 1813.44 1459.41 Q1813.44 1450.66 1816.49 1446.07 Q1819.57 1441.47 1825.38 1441.47 Z\" fill=\"#000000\" fill-rule=\"evenodd\" fill-opacity=\"1\" /><path clip-path=\"url(#clip520)\" d=\"M 0 0 M2246.27 1472.72 L2262.59 1472.72 L2262.59 1476.65 L2240.65 1476.65 L2240.65 1472.72 Q2243.31 1469.96 2247.89 1465.33 Q2252.5 1460.68 2253.68 1459.34 Q2255.93 1456.81 2256.81 1455.08 Q2257.71 1453.32 2257.71 1451.63 Q2257.71 1448.87 2255.76 1447.14 Q2253.84 1445.4 2250.74 1445.4 Q2248.54 1445.4 2246.09 1446.17 Q2243.66 1446.93 2240.88 1448.48 L2240.88 1443.76 Q2243.7 1442.62 2246.16 1442.05 Q2248.61 1441.47 2250.65 1441.47 Q2256.02 1441.47 2259.21 1444.15 Q2262.41 1446.84 2262.41 1451.33 Q2262.41 1453.46 2261.6 1455.38 Q2260.81 1457.28 2258.7 1459.87 Q2258.12 1460.54 2255.02 1463.76 Q2251.92 1466.95 2246.27 1472.72 Z\" fill=\"#000000\" fill-rule=\"evenodd\" fill-opacity=\"1\" /><path clip-path=\"url(#clip520)\" d=\"M 0 0 M2277.66 1445.17 Q2274.05 1445.17 2272.22 1448.74 Q2270.42 1452.28 2270.42 1459.41 Q2270.42 1466.51 2272.22 1470.08 Q2274.05 1473.62 2277.66 1473.62 Q2281.3 1473.62 2283.1 1470.08 Q2284.93 1466.51 2284.93 1459.41 Q2284.93 1452.28 2283.1 1448.74 Q2281.3 1445.17 2277.66 1445.17 M2277.66 1441.47 Q2283.47 1441.47 2286.53 1446.07 Q2289.61 1450.66 2289.61 1459.41 Q2289.61 1468.13 2286.53 1472.74 Q2283.47 1477.32 2277.66 1477.32 Q2271.85 1477.32 2268.77 1472.74 Q2265.72 1468.13 2265.72 1459.41 Q2265.72 1450.66 2268.77 1446.07 Q2271.85 1441.47 2277.66 1441.47 Z\" fill=\"#000000\" fill-rule=\"evenodd\" fill-opacity=\"1\" /><path clip-path=\"url(#clip520)\" d=\"M 0 0 M2304.68 1445.17 Q2301.06 1445.17 2299.24 1448.74 Q2297.43 1452.28 2297.43 1459.41 Q2297.43 1466.51 2299.24 1470.08 Q2301.06 1473.62 2304.68 1473.62 Q2308.31 1473.62 2310.12 1470.08 Q2311.94 1466.51 2311.94 1459.41 Q2311.94 1452.28 2310.12 1448.74 Q2308.31 1445.17 2304.68 1445.17 M2304.68 1441.47 Q2310.49 1441.47 2313.54 1446.07 Q2316.62 1450.66 2316.62 1459.41 Q2316.62 1468.13 2313.54 1472.74 Q2310.49 1477.32 2304.68 1477.32 Q2298.87 1477.32 2295.79 1472.74 Q2292.73 1468.13 2292.73 1459.41 Q2292.73 1450.66 2295.79 1446.07 Q2298.87 1441.47 2304.68 1441.47 Z\" fill=\"#000000\" fill-rule=\"evenodd\" fill-opacity=\"1\" /><path clip-path=\"url(#clip520)\" d=\"M 0 0 M2331.69 1445.17 Q2328.08 1445.17 2326.25 1448.74 Q2324.44 1452.28 2324.44 1459.41 Q2324.44 1466.51 2326.25 1470.08 Q2328.08 1473.62 2331.69 1473.62 Q2335.32 1473.62 2337.13 1470.08 Q2338.96 1466.51 2338.96 1459.41 Q2338.96 1452.28 2337.13 1448.74 Q2335.32 1445.17 2331.69 1445.17 M2331.69 1441.47 Q2337.5 1441.47 2340.55 1446.07 Q2343.63 1450.66 2343.63 1459.41 Q2343.63 1468.13 2340.55 1472.74 Q2337.5 1477.32 2331.69 1477.32 Q2325.88 1477.32 2322.8 1472.74 Q2319.74 1468.13 2319.74 1459.41 Q2319.74 1450.66 2322.8 1446.07 Q2325.88 1441.47 2331.69 1441.47 Z\" fill=\"#000000\" fill-rule=\"evenodd\" fill-opacity=\"1\" /><path clip-path=\"url(#clip520)\" d=\"M 0 0 M139.015 1194.81 Q135.404 1194.81 133.575 1198.38 Q131.769 1201.92 131.769 1209.05 Q131.769 1216.16 133.575 1219.72 Q135.404 1223.26 139.015 1223.26 Q142.649 1223.26 144.455 1219.72 Q146.283 1216.16 146.283 1209.05 Q146.283 1201.92 144.455 1198.38 Q142.649 1194.81 139.015 1194.81 M139.015 1191.11 Q144.825 1191.11 147.88 1195.72 Q150.959 1200.3 150.959 1209.05 Q150.959 1217.78 147.88 1222.38 Q144.825 1226.97 139.015 1226.97 Q133.205 1226.97 130.126 1222.38 Q127.07 1217.78 127.07 1209.05 Q127.07 1200.3 130.126 1195.72 Q133.205 1191.11 139.015 1191.11 Z\" fill=\"#000000\" fill-rule=\"evenodd\" fill-opacity=\"1\" /><path clip-path=\"url(#clip520)\" d=\"M 0 0 M156.029 1220.42 L160.913 1220.42 L160.913 1226.3 L156.029 1226.3 L156.029 1220.42 Z\" fill=\"#000000\" fill-rule=\"evenodd\" fill-opacity=\"1\" /><path clip-path=\"url(#clip520)\" d=\"M 0 0 M164.802 1191.74 L187.024 1191.74 L187.024 1193.73 L174.477 1226.3 L169.593 1226.3 L181.399 1195.67 L164.802 1195.67 L164.802 1191.74 Z\" fill=\"#000000\" fill-rule=\"evenodd\" fill-opacity=\"1\" /><path clip-path=\"url(#clip520)\" d=\"M 0 0 M138.205 898.998 Q134.593 898.998 132.765 902.563 Q130.959 906.104 130.959 913.234 Q130.959 920.34 132.765 923.905 Q134.593 927.447 138.205 927.447 Q141.839 927.447 143.644 923.905 Q145.473 920.34 145.473 913.234 Q145.473 906.104 143.644 902.563 Q141.839 898.998 138.205 898.998 M138.205 895.294 Q144.015 895.294 147.07 899.901 Q150.149 904.484 150.149 913.234 Q150.149 921.961 147.07 926.567 Q144.015 931.151 138.205 931.151 Q132.394 931.151 129.316 926.567 Q126.26 921.961 126.26 913.234 Q126.26 904.484 129.316 899.901 Q132.394 895.294 138.205 895.294 Z\" fill=\"#000000\" fill-rule=\"evenodd\" fill-opacity=\"1\" /><path clip-path=\"url(#clip520)\" d=\"M 0 0 M155.218 924.6 L160.103 924.6 L160.103 930.479 L155.218 930.479 L155.218 924.6 Z\" fill=\"#000000\" fill-rule=\"evenodd\" fill-opacity=\"1\" /><path clip-path=\"url(#clip520)\" d=\"M 0 0 M175.172 914.067 Q171.839 914.067 169.917 915.85 Q168.019 917.632 168.019 920.757 Q168.019 923.882 169.917 925.664 Q171.839 927.447 175.172 927.447 Q178.505 927.447 180.427 925.664 Q182.348 923.859 182.348 920.757 Q182.348 917.632 180.427 915.85 Q178.528 914.067 175.172 914.067 M170.496 912.077 Q167.487 911.336 165.797 909.276 Q164.13 907.215 164.13 904.253 Q164.13 900.109 167.07 897.702 Q170.033 895.294 175.172 895.294 Q180.334 895.294 183.274 897.702 Q186.214 900.109 186.214 904.253 Q186.214 907.215 184.524 909.276 Q182.857 911.336 179.871 912.077 Q183.251 912.864 185.126 915.155 Q187.024 917.447 187.024 920.757 Q187.024 925.78 183.945 928.465 Q180.889 931.151 175.172 931.151 Q169.454 931.151 166.376 928.465 Q163.32 925.78 163.32 920.757 Q163.32 917.447 165.218 915.155 Q167.116 912.864 170.496 912.077 M168.783 904.692 Q168.783 907.377 170.45 908.882 Q172.14 910.387 175.172 910.387 Q178.181 910.387 179.871 908.882 Q181.584 907.377 181.584 904.692 Q181.584 902.007 179.871 900.503 Q178.181 898.998 175.172 898.998 Q172.14 898.998 170.45 900.503 Q168.783 902.007 168.783 904.692 Z\" fill=\"#000000\" fill-rule=\"evenodd\" fill-opacity=\"1\" /><path clip-path=\"url(#clip520)\" d=\"M 0 0 M138.297 603.182 Q134.686 603.182 132.857 606.746 Q131.052 610.288 131.052 617.418 Q131.052 624.524 132.857 628.089 Q134.686 631.63 138.297 631.63 Q141.931 631.63 143.737 628.089 Q145.566 624.524 145.566 617.418 Q145.566 610.288 143.737 606.746 Q141.931 603.182 138.297 603.182 M138.297 599.478 Q144.107 599.478 147.163 604.084 Q150.242 608.668 150.242 617.418 Q150.242 626.144 147.163 630.751 Q144.107 635.334 138.297 635.334 Q132.487 635.334 129.408 630.751 Q126.353 626.144 126.353 617.418 Q126.353 608.668 129.408 604.084 Q132.487 599.478 138.297 599.478 Z\" fill=\"#000000\" fill-rule=\"evenodd\" fill-opacity=\"1\" /><path clip-path=\"url(#clip520)\" d=\"M 0 0 M155.311 628.783 L160.195 628.783 L160.195 634.663 L155.311 634.663 L155.311 628.783 Z\" fill=\"#000000\" fill-rule=\"evenodd\" fill-opacity=\"1\" /><path clip-path=\"url(#clip520)\" d=\"M 0 0 M165.403 633.945 L165.403 629.686 Q167.163 630.519 168.968 630.959 Q170.774 631.399 172.51 631.399 Q177.14 631.399 179.57 628.297 Q182.024 625.172 182.371 618.83 Q181.028 620.82 178.968 621.885 Q176.908 622.95 174.408 622.95 Q169.223 622.95 166.19 619.825 Q163.181 616.677 163.181 611.237 Q163.181 605.913 166.329 602.695 Q169.478 599.478 174.709 599.478 Q180.704 599.478 183.852 604.084 Q187.024 608.668 187.024 617.418 Q187.024 625.589 183.135 630.473 Q179.269 635.334 172.718 635.334 Q170.959 635.334 169.153 634.987 Q167.348 634.64 165.403 633.945 M174.709 619.293 Q177.857 619.293 179.686 617.14 Q181.538 614.987 181.538 611.237 Q181.538 607.51 179.686 605.357 Q177.857 603.182 174.709 603.182 Q171.561 603.182 169.709 605.357 Q167.88 607.51 167.88 611.237 Q167.88 614.987 169.709 617.14 Q171.561 619.293 174.709 619.293 Z\" fill=\"#000000\" fill-rule=\"evenodd\" fill-opacity=\"1\" /><path clip-path=\"url(#clip520)\" d=\"M 0 0 M130.149 334.911 L137.788 334.911 L137.788 308.546 L129.478 310.212 L129.478 305.953 L137.742 304.287 L142.417 304.287 L142.417 334.911 L150.056 334.911 L150.056 338.847 L130.149 338.847 L130.149 334.911 Z\" fill=\"#000000\" fill-rule=\"evenodd\" fill-opacity=\"1\" /><path clip-path=\"url(#clip520)\" d=\"M 0 0 M155.126 332.967 L160.01 332.967 L160.01 338.847 L155.126 338.847 L155.126 332.967 Z\" fill=\"#000000\" fill-rule=\"evenodd\" fill-opacity=\"1\" /><path clip-path=\"url(#clip520)\" d=\"M 0 0 M175.079 307.365 Q171.468 307.365 169.64 310.93 Q167.834 314.472 167.834 321.601 Q167.834 328.708 169.64 332.273 Q171.468 335.814 175.079 335.814 Q178.714 335.814 180.519 332.273 Q182.348 328.708 182.348 321.601 Q182.348 314.472 180.519 310.93 Q178.714 307.365 175.079 307.365 M175.079 303.662 Q180.889 303.662 183.945 308.268 Q187.024 312.851 187.024 321.601 Q187.024 330.328 183.945 334.935 Q180.889 339.518 175.079 339.518 Q169.269 339.518 166.19 334.935 Q163.135 330.328 163.135 321.601 Q163.135 312.851 166.19 308.268 Q169.269 303.662 175.079 303.662 Z\" fill=\"#000000\" fill-rule=\"evenodd\" fill-opacity=\"1\" /><path clip-path=\"url(#clip520)\" d=\"M 0 0 M1212.17 1536.76 L1212.17 1539.62 L1185.24 1539.62 Q1185.62 1545.67 1188.87 1548.85 Q1192.15 1552 1197.97 1552 Q1201.35 1552 1204.5 1551.17 Q1207.68 1550.35 1210.8 1548.69 L1210.8 1554.23 Q1207.65 1555.57 1204.34 1556.27 Q1201.03 1556.97 1197.62 1556.97 Q1189.09 1556.97 1184.1 1552 Q1179.13 1547.04 1179.13 1538.57 Q1179.13 1529.82 1183.84 1524.69 Q1188.58 1519.54 1196.61 1519.54 Q1203.8 1519.54 1207.97 1524.18 Q1212.17 1528.8 1212.17 1536.76 M1206.31 1535.04 Q1206.25 1530.23 1203.61 1527.37 Q1201 1524.5 1196.67 1524.5 Q1191.77 1524.5 1188.81 1527.27 Q1185.88 1530.04 1185.43 1535.07 L1206.31 1535.04 Z\" fill=\"#000000\" fill-rule=\"evenodd\" fill-opacity=\"1\" /><path clip-path=\"url(#clip520)\" d=\"M 0 0 M1223.98 1550.7 L1223.98 1569.6 L1218.09 1569.6 L1218.09 1520.4 L1223.98 1520.4 L1223.98 1525.81 Q1225.82 1522.62 1228.62 1521.1 Q1231.46 1519.54 1235.37 1519.54 Q1241.87 1519.54 1245.91 1524.69 Q1249.98 1529.85 1249.98 1538.25 Q1249.98 1546.65 1245.91 1551.81 Q1241.87 1556.97 1235.37 1556.97 Q1231.46 1556.97 1228.62 1555.44 Q1225.82 1553.88 1223.98 1550.7 M1243.9 1538.25 Q1243.9 1531.79 1241.23 1528.13 Q1238.59 1524.44 1233.94 1524.44 Q1229.29 1524.44 1226.62 1528.13 Q1223.98 1531.79 1223.98 1538.25 Q1223.98 1544.71 1226.62 1548.4 Q1229.29 1552.07 1233.94 1552.07 Q1238.59 1552.07 1241.23 1548.4 Q1243.9 1544.71 1243.9 1538.25 Z\" fill=\"#000000\" fill-rule=\"evenodd\" fill-opacity=\"1\" /><path clip-path=\"url(#clip520)\" d=\"M 0 0 M1269.94 1524.5 Q1265.23 1524.5 1262.49 1528.19 Q1259.75 1531.85 1259.75 1538.25 Q1259.75 1544.65 1262.46 1548.34 Q1265.2 1552 1269.94 1552 Q1274.62 1552 1277.35 1548.31 Q1280.09 1544.62 1280.09 1538.25 Q1280.09 1531.92 1277.35 1528.23 Q1274.62 1524.5 1269.94 1524.5 M1269.94 1519.54 Q1277.58 1519.54 1281.94 1524.5 Q1286.3 1529.47 1286.3 1538.25 Q1286.3 1547 1281.94 1552 Q1277.58 1556.97 1269.94 1556.97 Q1262.27 1556.97 1257.91 1552 Q1253.58 1547 1253.58 1538.25 Q1253.58 1529.47 1257.91 1524.5 Q1262.27 1519.54 1269.94 1519.54 Z\" fill=\"#000000\" fill-rule=\"evenodd\" fill-opacity=\"1\" /><path clip-path=\"url(#clip520)\" d=\"M 0 0 M1318.09 1521.76 L1318.09 1527.24 Q1315.61 1525.87 1313.1 1525.2 Q1310.62 1524.5 1308.07 1524.5 Q1302.37 1524.5 1299.22 1528.13 Q1296.07 1531.73 1296.07 1538.25 Q1296.07 1544.78 1299.22 1548.4 Q1302.37 1552 1308.07 1552 Q1310.62 1552 1313.1 1551.33 Q1315.61 1550.63 1318.09 1549.26 L1318.09 1554.68 Q1315.64 1555.82 1313 1556.39 Q1310.39 1556.97 1307.43 1556.97 Q1299.38 1556.97 1294.64 1551.91 Q1289.89 1546.85 1289.89 1538.25 Q1289.89 1529.53 1294.67 1524.53 Q1299.48 1519.54 1307.81 1519.54 Q1310.52 1519.54 1313.1 1520.11 Q1315.68 1520.65 1318.09 1521.76 Z\" fill=\"#000000\" fill-rule=\"evenodd\" fill-opacity=\"1\" /><path clip-path=\"url(#clip520)\" d=\"M 0 0 M1353.87 1534.53 L1353.87 1556.04 L1348.01 1556.04 L1348.01 1534.72 Q1348.01 1529.66 1346.04 1527.14 Q1344.07 1524.63 1340.12 1524.63 Q1335.38 1524.63 1332.64 1527.65 Q1329.9 1530.68 1329.9 1535.9 L1329.9 1556.04 L1324.01 1556.04 L1324.01 1506.52 L1329.9 1506.52 L1329.9 1525.93 Q1332 1522.72 1334.84 1521.13 Q1337.7 1519.54 1341.43 1519.54 Q1347.57 1519.54 1350.72 1523.36 Q1353.87 1527.14 1353.87 1534.53 Z\" fill=\"#000000\" fill-rule=\"evenodd\" fill-opacity=\"1\" /><path clip-path=\"url(#clip520)\" d=\"M 0 0 M1382.74 1521.45 L1382.74 1526.98 Q1380.26 1525.71 1377.58 1525.07 Q1374.91 1524.44 1372.04 1524.44 Q1367.68 1524.44 1365.49 1525.77 Q1363.32 1527.11 1363.32 1529.79 Q1363.32 1531.82 1364.88 1533 Q1366.44 1534.15 1371.15 1535.2 L1373.16 1535.64 Q1379.4 1536.98 1382.01 1539.43 Q1384.65 1541.85 1384.65 1546.21 Q1384.65 1551.17 1380.7 1554.07 Q1376.79 1556.97 1369.91 1556.97 Q1367.05 1556.97 1363.93 1556.39 Q1360.84 1555.85 1357.4 1554.74 L1357.4 1548.69 Q1360.65 1550.38 1363.8 1551.24 Q1366.95 1552.07 1370.04 1552.07 Q1374.18 1552.07 1376.4 1550.66 Q1378.63 1549.23 1378.63 1546.65 Q1378.63 1544.27 1377.01 1542.99 Q1375.42 1541.72 1369.98 1540.54 L1367.94 1540.07 Q1362.5 1538.92 1360.08 1536.56 Q1357.66 1534.18 1357.66 1530.04 Q1357.66 1525.01 1361.22 1522.27 Q1364.79 1519.54 1371.34 1519.54 Q1374.59 1519.54 1377.45 1520.01 Q1380.32 1520.49 1382.74 1521.45 Z\" fill=\"#000000\" fill-rule=\"evenodd\" fill-opacity=\"1\" /><path clip-path=\"url(#clip520)\" d=\"M 0 0 M44.1444 904.492 L50.9239 904.492 Q47.9002 907.739 46.4043 911.431 Q44.9083 915.091 44.9083 919.229 Q44.9083 927.377 49.9054 931.705 Q54.8707 936.034 64.2919 936.034 Q73.6813 936.034 78.6784 931.705 Q83.6436 927.377 83.6436 919.229 Q83.6436 915.091 82.1477 911.431 Q80.6518 907.739 77.6281 904.492 L84.3439 904.492 Q86.6355 907.866 87.7814 911.653 Q88.9272 915.409 88.9272 919.611 Q88.9272 930.4 82.3387 936.607 Q75.7183 942.814 64.2919 942.814 Q52.8336 942.814 46.2451 936.607 Q39.6248 930.4 39.6248 919.611 Q39.6248 915.346 40.7706 911.59 Q41.8846 907.802 44.1444 904.492 Z\" fill=\"#000000\" fill-rule=\"evenodd\" fill-opacity=\"1\" /><path clip-path=\"url(#clip520)\" d=\"M 0 0 M57.8307 877.692 Q57.2578 878.679 57.0032 879.857 Q56.7167 881.003 56.7167 882.403 Q56.7167 887.368 59.9632 890.042 Q63.1779 892.684 69.2253 892.684 L88.0042 892.684 L88.0042 898.572 L52.3562 898.572 L52.3562 892.684 L57.8944 892.684 Q54.6479 890.838 53.0883 887.878 Q51.4968 884.917 51.4968 880.684 Q51.4968 880.08 51.5923 879.347 Q51.656 878.615 51.8151 877.724 L57.8307 877.692 Z\" fill=\"#000000\" fill-rule=\"evenodd\" fill-opacity=\"1\" /><path clip-path=\"url(#clip520)\" d=\"M 0 0 M56.4621 859.168 Q56.4621 863.879 60.1542 866.616 Q63.8145 869.353 70.212 869.353 Q76.6095 869.353 80.3017 866.648 Q83.9619 863.911 83.9619 859.168 Q83.9619 854.489 80.2698 851.752 Q76.5777 849.015 70.212 849.015 Q63.8781 849.015 60.186 851.752 Q56.4621 854.489 56.4621 859.168 M51.4968 859.168 Q51.4968 851.529 56.4621 847.169 Q61.4273 842.808 70.212 842.808 Q78.9649 842.808 83.9619 847.169 Q88.9272 851.529 88.9272 859.168 Q88.9272 866.839 83.9619 871.199 Q78.9649 875.528 70.212 875.528 Q61.4273 875.528 56.4621 871.199 Q51.4968 866.839 51.4968 859.168 Z\" fill=\"#000000\" fill-rule=\"evenodd\" fill-opacity=\"1\" /><path clip-path=\"url(#clip520)\" d=\"M 0 0 M53.4065 813.94 L58.9447 813.94 Q57.6716 816.422 57.035 819.096 Q56.3984 821.77 56.3984 824.634 Q56.3984 828.995 57.7352 831.191 Q59.072 833.355 61.7456 833.355 Q63.7826 833.355 64.9603 831.796 Q66.1061 830.236 67.1565 825.525 L67.6021 823.52 Q68.9389 817.282 71.3897 814.672 Q73.8086 812.03 78.1691 812.03 Q83.1344 812.03 86.0308 815.977 Q88.9272 819.892 88.9272 826.767 Q88.9272 829.631 88.3543 832.751 Q87.8132 835.838 86.6992 839.275 L80.6518 839.275 Q82.3387 836.029 83.198 832.878 Q84.0256 829.727 84.0256 826.639 Q84.0256 822.502 82.6251 820.274 Q81.1929 818.046 78.6147 818.046 Q76.2276 818.046 74.9545 819.669 Q73.6813 821.26 72.5037 826.703 L72.0262 828.74 Q70.8804 834.183 68.5251 836.602 Q66.138 839.021 62.0002 839.021 Q56.9713 839.021 54.2341 835.456 Q51.4968 831.891 51.4968 825.334 Q51.4968 822.088 51.9743 819.223 Q52.4517 816.359 53.4065 813.94 Z\" fill=\"#000000\" fill-rule=\"evenodd\" fill-opacity=\"1\" /><path clip-path=\"url(#clip520)\" d=\"M 0 0 M53.4065 783.162 L58.9447 783.162 Q57.6716 785.644 57.035 788.318 Q56.3984 790.991 56.3984 793.856 Q56.3984 798.217 57.7352 800.413 Q59.072 802.577 61.7456 802.577 Q63.7826 802.577 64.9603 801.017 Q66.1061 799.458 67.1565 794.747 L67.6021 792.742 Q68.9389 786.504 71.3897 783.894 Q73.8086 781.252 78.1691 781.252 Q83.1344 781.252 86.0308 785.199 Q88.9272 789.114 88.9272 795.989 Q88.9272 798.853 88.3543 801.972 Q87.8132 805.06 86.6992 808.497 L80.6518 808.497 Q82.3387 805.251 83.198 802.1 Q84.0256 798.949 84.0256 795.861 Q84.0256 791.724 82.6251 789.496 Q81.1929 787.268 78.6147 787.268 Q76.2276 787.268 74.9545 788.891 Q73.6813 790.482 72.5037 795.925 L72.0262 797.962 Q70.8804 803.405 68.5251 805.824 Q66.138 808.243 62.0002 808.243 Q56.9713 808.243 54.2341 804.678 Q51.4968 801.113 51.4968 794.556 Q51.4968 791.31 51.9743 788.445 Q52.4517 785.581 53.4065 783.162 Z\" fill=\"#000000\" fill-rule=\"evenodd\" fill-opacity=\"1\" /><path clip-path=\"url(#clip520)\" d=\"M 0 0 M40.4842 754.134 L40.4842 724.088 L45.895 724.088 L45.895 747.705 L59.9632 747.705 L59.9632 725.075 L65.3741 725.075 L65.3741 747.705 L82.5933 747.705 L82.5933 723.515 L88.0042 723.515 L88.0042 754.134 L40.4842 754.134 Z\" fill=\"#000000\" fill-rule=\"evenodd\" fill-opacity=\"1\" /><path clip-path=\"url(#clip520)\" d=\"M 0 0 M66.4881 687.74 L88.0042 687.74 L88.0042 693.596 L66.679 693.596 Q61.6183 693.596 59.1038 695.57 Q56.5894 697.543 56.5894 701.49 Q56.5894 706.232 59.6131 708.969 Q62.6368 711.707 67.8567 711.707 L88.0042 711.707 L88.0042 717.595 L52.3562 717.595 L52.3562 711.707 L57.8944 711.707 Q54.6797 709.606 53.0883 706.773 Q51.4968 703.909 51.4968 700.185 Q51.4968 694.042 55.3163 690.891 Q59.1038 687.74 66.4881 687.74 Z\" fill=\"#000000\" fill-rule=\"evenodd\" fill-opacity=\"1\" /><path clip-path=\"url(#clip520)\" d=\"M 0 0 M42.2347 675.804 L52.3562 675.804 L52.3562 663.741 L56.9077 663.741 L56.9077 675.804 L76.2594 675.804 Q80.6199 675.804 81.8613 674.626 Q83.1026 673.417 83.1026 669.757 L83.1026 663.741 L88.0042 663.741 L88.0042 669.757 Q88.0042 676.536 85.4897 679.114 Q82.9434 681.692 76.2594 681.692 L56.9077 681.692 L56.9077 685.989 L52.3562 685.989 L52.3562 681.692 L42.2347 681.692 L42.2347 675.804 Z\" fill=\"#000000\" fill-rule=\"evenodd\" fill-opacity=\"1\" /><path clip-path=\"url(#clip520)\" d=\"M 0 0 M57.8307 636.941 Q57.2578 637.928 57.0032 639.106 Q56.7167 640.252 56.7167 641.652 Q56.7167 646.617 59.9632 649.291 Q63.1779 651.933 69.2253 651.933 L88.0042 651.933 L88.0042 657.821 L52.3562 657.821 L52.3562 651.933 L57.8944 651.933 Q54.6479 650.087 53.0883 647.127 Q51.4968 644.166 51.4968 639.933 Q51.4968 639.329 51.5923 638.596 Q51.656 637.864 51.8151 636.973 L57.8307 636.941 Z\" fill=\"#000000\" fill-rule=\"evenodd\" fill-opacity=\"1\" /><path clip-path=\"url(#clip520)\" d=\"M 0 0 M56.4621 618.417 Q56.4621 623.128 60.1542 625.865 Q63.8145 628.602 70.212 628.602 Q76.6095 628.602 80.3017 625.897 Q83.9619 623.16 83.9619 618.417 Q83.9619 613.738 80.2698 611.001 Q76.5777 608.264 70.212 608.264 Q63.8781 608.264 60.186 611.001 Q56.4621 613.738 56.4621 618.417 M51.4968 618.417 Q51.4968 610.778 56.4621 606.418 Q61.4273 602.057 70.212 602.057 Q78.9649 602.057 83.9619 606.418 Q88.9272 610.778 88.9272 618.417 Q88.9272 626.088 83.9619 630.448 Q78.9649 634.777 70.212 634.777 Q61.4273 634.777 56.4621 630.448 Q51.4968 626.088 51.4968 618.417 Z\" fill=\"#000000\" fill-rule=\"evenodd\" fill-opacity=\"1\" /><path clip-path=\"url(#clip520)\" d=\"M 0 0 M82.657 590.249 L101.563 590.249 L101.563 596.137 L52.3562 596.137 L52.3562 590.249 L57.7671 590.249 Q54.5842 588.403 53.0564 585.602 Q51.4968 582.769 51.4968 578.854 Q51.4968 572.361 56.6531 568.319 Q61.8093 564.245 70.212 564.245 Q78.6147 564.245 83.771 568.319 Q88.9272 572.361 88.9272 578.854 Q88.9272 582.769 87.3994 585.602 Q85.8398 588.403 82.657 590.249 M70.212 570.324 Q63.7508 570.324 60.0905 572.998 Q56.3984 575.64 56.3984 580.287 Q56.3984 584.934 60.0905 587.607 Q63.7508 590.249 70.212 590.249 Q76.6732 590.249 80.3653 587.607 Q84.0256 584.934 84.0256 580.287 Q84.0256 575.64 80.3653 572.998 Q76.6732 570.324 70.212 570.324 Z\" fill=\"#000000\" fill-rule=\"evenodd\" fill-opacity=\"1\" /><path clip-path=\"url(#clip520)\" d=\"M 0 0 M91.3143 543.27 Q97.68 545.753 99.6216 548.108 Q101.563 550.463 101.563 554.41 L101.563 559.089 L96.6615 559.089 L96.6615 555.651 Q96.6615 553.232 95.5157 551.896 Q94.3699 550.559 90.1048 548.935 L87.4312 547.885 L52.3562 562.303 L52.3562 556.097 L80.238 544.957 L52.3562 533.817 L52.3562 527.61 L91.3143 543.27 Z\" fill=\"#000000\" fill-rule=\"evenodd\" fill-opacity=\"1\" /><polyline clip-path=\"url(#clip522)\" style=\"stroke:#009af9; stroke-width:8; stroke-opacity:1; fill:none\" points=\"\n",
       "  271.639,236.04 276.69,277.784 281.741,286.037 286.793,289.958 291.844,303.242 296.895,328.597 301.946,364.587 306.998,409.029 312.049,460.006 317.1,515.694 \n",
       "  322.151,574.095 327.203,633.064 332.254,690.627 337.305,745.306 342.356,796.264 347.408,843.215 352.459,886.243 357.51,925.621 362.561,961.693 367.613,994.794 \n",
       "  372.664,1025.22 377.715,1053.23 382.766,1079.02 387.818,1102.76 392.869,1124.57 397.92,1144.56 402.971,1162.82 408.023,1179.44 413.074,1194.5 418.125,1208.07 \n",
       "  423.176,1220.24 428.228,1231.09 433.279,1240.72 438.33,1249.21 443.381,1256.68 448.433,1263.22 453.484,1268.92 458.535,1273.88 463.586,1278.2 468.638,1281.95 \n",
       "  473.689,1285.22 478.74,1288.07 483.791,1290.57 488.843,1292.77 493.894,1294.72 498.945,1296.47 503.997,1298.04 509.048,1299.47 514.099,1300.78 519.15,1301.99 \n",
       "  524.202,1303.13 529.253,1304.2 534.304,1305.22 539.355,1306.19 544.407,1307.12 549.458,1308.02 554.509,1308.9 559.56,1309.75 564.612,1310.58 569.663,1311.39 \n",
       "  574.714,1312.18 579.765,1312.96 584.817,1313.72 589.868,1314.47 594.919,1315.2 599.97,1315.92 605.022,1316.63 610.073,1317.32 615.124,1318 620.175,1318.67 \n",
       "  625.227,1319.32 630.278,1319.96 635.329,1320.59 640.38,1321.2 645.432,1321.8 650.483,1322.39 655.534,1322.97 660.585,1323.53 665.637,1324.09 670.688,1324.63 \n",
       "  675.739,1325.15 680.79,1325.67 685.842,1326.18 690.893,1326.67 695.944,1327.16 700.995,1327.63 706.047,1328.09 711.098,1328.54 716.149,1328.98 721.2,1329.42 \n",
       "  726.252,1329.84 731.303,1330.25 736.354,1330.65 741.406,1331.05 746.457,1331.43 751.508,1331.81 756.559,1332.18 761.611,1332.53 766.662,1332.88 771.713,1333.23 \n",
       "  776.764,1333.56 781.816,1333.89 786.867,1334.21 791.918,1334.52 796.969,1334.82 802.021,1335.12 807.072,1335.41 812.123,1335.69 817.174,1335.97 822.226,1336.24 \n",
       "  827.277,1336.51 832.328,1336.77 837.379,1337.02 842.431,1337.27 847.482,1337.51 852.533,1337.74 857.584,1337.98 862.636,1338.2 867.687,1338.42 872.738,1338.64 \n",
       "  877.789,1338.85 882.841,1339.06 887.892,1339.26 892.943,1339.46 897.994,1339.66 903.046,1339.85 908.097,1340.04 913.148,1340.23 918.199,1340.41 923.251,1340.59 \n",
       "  928.302,1340.76 933.353,1340.94 938.404,1341.11 943.456,1341.28 948.507,1341.44 953.558,1341.61 958.609,1341.77 963.661,1341.93 968.712,1342.09 973.763,1342.25 \n",
       "  978.815,1342.41 983.866,1342.56 988.917,1342.72 993.968,1342.87 999.02,1343.03 1004.07,1343.18 1009.12,1343.33 1014.17,1343.49 1019.22,1343.64 1024.28,1343.79 \n",
       "  1029.33,1343.95 1034.38,1344.1 1039.43,1344.25 1044.48,1344.41 1049.53,1344.56 1054.58,1344.72 1059.63,1344.88 1064.69,1345.03 1069.74,1345.19 1074.79,1345.35 \n",
       "  1079.84,1345.51 1084.89,1345.68 1089.94,1345.84 1094.99,1346.01 1100.04,1346.17 1105.1,1346.34 1110.15,1346.51 1115.2,1346.68 1120.25,1346.86 1125.3,1347.03 \n",
       "  1130.35,1347.21 1135.4,1347.39 1140.45,1347.56 1145.51,1347.75 1150.56,1347.93 1155.61,1348.11 1160.66,1348.3 1165.71,1348.48 1170.76,1348.67 1175.81,1348.86 \n",
       "  1180.86,1349.05 1185.92,1349.24 1190.97,1349.43 1196.02,1349.63 1201.07,1349.82 1206.12,1350.02 1211.17,1350.21 1216.22,1350.41 1221.27,1350.61 1226.33,1350.81 \n",
       "  1231.38,1351.01 1236.43,1351.21 1241.48,1351.41 1246.53,1351.61 1251.58,1351.81 1256.63,1352.02 1261.68,1352.22 1266.74,1352.42 1271.79,1352.63 1276.84,1352.83 \n",
       "  1281.89,1353.04 1286.94,1353.24 1291.99,1353.45 1297.04,1353.65 1302.09,1353.86 1307.15,1354.06 1312.2,1354.27 1317.25,1354.48 1322.3,1354.68 1327.35,1354.89 \n",
       "  1332.4,1355.1 1337.45,1355.3 1342.5,1355.51 1347.56,1355.71 1352.61,1355.92 1357.66,1356.13 1362.71,1356.33 1367.76,1356.54 1372.81,1356.74 1377.86,1356.95 \n",
       "  1382.91,1357.15 1387.97,1357.36 1393.02,1357.57 1398.07,1357.77 1403.12,1357.98 1408.17,1358.18 1413.22,1358.38 1418.27,1358.59 1423.32,1358.79 1428.38,1359 \n",
       "  1433.43,1359.2 1438.48,1359.41 1443.53,1359.61 1448.58,1359.81 1453.63,1360.02 1458.68,1360.22 1463.73,1360.42 1468.79,1360.62 1473.84,1360.83 1478.89,1361.03 \n",
       "  1483.94,1361.23 1488.99,1361.43 1494.04,1361.63 1499.09,1361.83 1504.15,1362.03 1509.2,1362.23 1514.25,1362.43 1519.3,1362.63 1524.35,1362.83 1529.4,1363.03 \n",
       "  1534.45,1363.22 1539.5,1363.42 1544.56,1363.62 1549.61,1363.81 1554.66,1364.01 1559.71,1364.21 1564.76,1364.4 1569.81,1364.6 1574.86,1364.79 1579.91,1364.98 \n",
       "  1584.97,1365.17 1590.02,1365.36 1595.07,1365.54 1600.12,1365.73 1605.17,1365.91 1610.22,1366.1 1615.27,1366.28 1620.32,1366.46 1625.38,1366.64 1630.43,1366.83 \n",
       "  1635.48,1367.01 1640.53,1367.18 1645.58,1367.36 1650.63,1367.54 1655.68,1367.72 1660.73,1367.89 1665.79,1368.07 1670.84,1368.24 1675.89,1368.42 1680.94,1368.59 \n",
       "  1685.99,1368.75 1691.04,1368.92 1696.09,1369.08 1701.14,1369.24 1706.2,1369.4 1711.25,1369.56 1716.3,1369.72 1721.35,1369.88 1726.4,1370.03 1731.45,1370.19 \n",
       "  1736.5,1370.35 1741.55,1370.5 1746.61,1370.66 1751.66,1370.82 1756.71,1370.98 1761.76,1371.13 1766.81,1371.29 1771.86,1371.44 1776.91,1371.59 1781.96,1371.74 \n",
       "  1787.02,1371.9 1792.07,1372.04 1797.12,1372.19 1802.17,1372.34 1807.22,1372.49 1812.27,1372.63 1817.32,1372.77 1822.37,1372.92 1827.43,1373.06 1832.48,1373.2 \n",
       "  1837.53,1373.34 1842.58,1373.47 1847.63,1373.61 1852.68,1373.74 1857.73,1373.88 1862.78,1374.01 1867.84,1374.15 1872.89,1374.28 1877.94,1374.41 1882.99,1374.54 \n",
       "  1888.04,1374.66 1893.09,1374.79 1898.14,1374.92 1903.19,1375.05 1908.25,1375.18 1913.3,1375.3 1918.35,1375.43 1923.4,1375.56 1928.45,1375.68 1933.5,1375.8 \n",
       "  1938.55,1375.93 1943.6,1376.05 1948.66,1376.18 1953.71,1376.31 1958.76,1376.43 1963.81,1376.55 1968.86,1376.68 1973.91,1376.8 1978.96,1376.92 1984.01,1377.04 \n",
       "  1989.07,1377.16 1994.12,1377.29 1999.17,1377.41 2004.22,1377.52 2009.27,1377.64 2014.32,1377.76 2019.37,1377.88 2024.42,1378 2029.48,1378.12 2034.53,1378.23 \n",
       "  2039.58,1378.35 2044.63,1378.47 2049.68,1378.58 2054.73,1378.7 2059.78,1378.82 2064.83,1378.93 2069.89,1379.05 2074.94,1379.16 2079.99,1379.28 2085.04,1379.39 \n",
       "  2090.09,1379.51 2095.14,1379.62 2100.19,1379.74 2105.24,1379.85 2110.3,1379.97 2115.35,1380.09 2120.4,1380.2 2125.45,1380.32 2130.5,1380.43 2135.55,1380.55 \n",
       "  2140.6,1380.66 2145.65,1380.78 2150.71,1380.9 2155.76,1381.01 2160.81,1381.13 2165.86,1381.24 2170.91,1381.36 2175.96,1381.48 2181.01,1381.6 2186.06,1381.71 \n",
       "  2191.12,1381.83 2196.17,1381.95 2201.22,1382.07 2206.27,1382.18 2211.32,1382.3 2216.37,1382.42 2221.42,1382.54 2226.47,1382.66 2231.53,1382.78 2236.58,1382.9 \n",
       "  2241.63,1383.02 2246.68,1383.14 2251.73,1383.26 2256.78,1383.38 2261.83,1383.5 2266.88,1383.63 2271.94,1383.75 2276.99,1383.87 2282.04,1383.99 2287.09,1384.12 \n",
       "  2292.14,1384.24 \n",
       "  \"/>\n",
       "<polyline clip-path=\"url(#clip522)\" style=\"stroke:#e26f46; stroke-width:8; stroke-opacity:1; fill:none\" points=\"\n",
       "  272.649,86.1857 273.659,134.367 274.67,179.67 275.68,222.112 276.69,261.584 277.7,297.95 278.711,331.126 279.721,361.133 280.731,388.111 281.741,412.304 \n",
       "  282.752,434.018 283.762,453.591 284.772,471.362 285.782,487.651 286.793,502.748 287.803,516.911 288.813,530.362 289.823,543.296 290.834,555.874 291.844,568.237 \n",
       "  292.854,580.499 293.864,592.755 294.875,605.078 295.885,617.523 296.895,630.125 297.905,642.904 298.916,655.861 299.926,668.984 300.936,682.249 301.946,695.623 \n",
       "  302.957,709.065 303.967,722.532 304.977,735.979 305.987,749.362 306.998,762.641 308.008,775.779 309.018,788.743 310.028,801.506 311.039,814.044 312.049,826.339 \n",
       "  313.059,838.374 314.069,850.139 315.08,861.625 316.09,872.826 317.1,883.738 318.11,894.36 319.121,904.693 320.131,914.736 321.141,924.493 322.151,933.968 \n",
       "  323.162,943.165 324.172,952.09 325.182,960.749 326.192,969.148 327.203,977.292 328.213,985.19 329.223,992.846 330.233,1000.27 331.244,1007.47 332.254,1014.45 \n",
       "  333.264,1021.21 334.274,1027.77 335.285,1034.14 336.295,1040.31 337.305,1046.29 338.315,1052.1 339.326,1057.73 340.336,1063.2 341.346,1068.51 342.356,1073.66 \n",
       "  343.367,1078.66 344.377,1083.52 345.387,1088.23 346.397,1092.82 347.408,1097.27 348.418,1101.6 349.428,1105.81 350.438,1109.9 351.449,1113.88 352.459,1117.75 \n",
       "  353.469,1121.52 354.479,1125.18 355.49,1128.75 356.5,1132.23 357.51,1135.61 358.52,1138.91 359.531,1142.12 360.541,1145.25 361.551,1148.3 362.561,1151.27 \n",
       "  363.572,1154.18 364.582,1157 365.592,1159.77 366.602,1162.46 367.613,1165.09 368.623,1167.65 369.633,1170.16 370.643,1172.61 371.654,1175 372.664,1177.33 \n",
       "  373.674,1179.62 374.684,1181.85 375.695,1184.03 376.705,1186.16 377.715,1188.24 378.725,1190.28 379.736,1192.28 380.746,1194.23 381.756,1196.14 382.766,1198.02 \n",
       "  383.777,1199.85 384.787,1201.64 385.797,1203.4 386.807,1205.12 387.818,1206.8 388.828,1208.46 389.838,1210.08 390.848,1211.66 391.859,1213.22 392.869,1214.75 \n",
       "  393.879,1216.24 394.889,1217.71 395.9,1219.15 396.91,1220.57 397.92,1221.95 398.93,1223.31 399.941,1224.65 400.951,1225.96 401.961,1227.25 402.971,1228.52 \n",
       "  403.982,1229.76 404.992,1230.98 406.002,1232.18 407.012,1233.36 408.023,1234.52 409.033,1235.66 410.043,1236.78 411.053,1237.88 412.064,1238.96 413.074,1240.03 \n",
       "  414.084,1241.08 415.094,1242.11 416.105,1243.12 417.115,1244.12 418.125,1245.1 419.135,1246.07 420.146,1247.02 421.156,1247.96 422.166,1248.88 423.176,1249.79 \n",
       "  424.187,1250.69 425.197,1251.57 426.207,1252.44 427.217,1253.29 428.228,1254.14 429.238,1254.97 430.248,1255.79 431.258,1256.59 432.269,1257.39 433.279,1258.18 \n",
       "  434.289,1258.95 435.299,1259.71 436.31,1260.47 437.32,1261.21 438.33,1261.94 439.34,1262.66 440.351,1263.38 441.361,1264.08 442.371,1264.77 443.381,1265.46 \n",
       "  444.392,1266.14 445.402,1266.81 446.412,1267.46 447.422,1268.12 448.433,1268.76 449.443,1269.39 450.453,1270.02 451.463,1270.64 452.474,1271.25 453.484,1271.86 \n",
       "  454.494,1272.46 455.504,1273.05 456.515,1273.63 457.525,1274.21 458.535,1274.78 459.545,1275.34 460.556,1275.9 461.566,1276.45 462.576,1276.99 463.586,1277.53 \n",
       "  464.597,1278.06 465.607,1278.59 466.617,1279.11 467.627,1279.63 468.638,1280.14 469.648,1280.64 470.658,1281.14 471.668,1281.63 472.679,1282.12 473.689,1282.6 \n",
       "  474.699,1283.08 475.709,1283.56 476.72,1284.03 477.73,1284.49 478.74,1284.95 479.75,1285.4 480.761,1285.85 481.771,1286.3 482.781,1286.74 483.791,1287.18 \n",
       "  484.802,1287.61 485.812,1288.04 486.822,1288.47 487.833,1288.89 488.843,1289.3 489.853,1289.72 490.863,1290.13 491.874,1290.53 492.884,1290.93 493.894,1291.33 \n",
       "  494.904,1291.73 495.915,1292.12 496.925,1292.5 497.935,1292.89 498.945,1293.27 499.956,1293.65 500.966,1294.02 501.976,1294.39 502.986,1294.76 503.997,1295.12 \n",
       "  505.007,1295.48 506.017,1295.84 507.027,1296.2 508.038,1296.55 509.048,1296.9 510.058,1297.25 511.068,1297.59 512.079,1297.93 513.089,1298.27 514.099,1298.61 \n",
       "  515.109,1298.94 516.12,1299.27 517.13,1299.6 518.14,1299.92 519.15,1300.25 520.161,1300.57 521.171,1300.88 522.181,1301.2 523.191,1301.51 524.202,1301.82 \n",
       "  525.212,1302.13 526.222,1302.44 527.232,1302.74 528.243,1303.04 529.253,1303.34 530.263,1303.64 531.273,1303.93 532.284,1304.23 533.294,1304.52 534.304,1304.81 \n",
       "  535.314,1305.09 536.325,1305.38 537.335,1305.66 538.345,1305.94 539.355,1306.22 540.366,1306.49 541.376,1306.77 542.386,1307.04 543.396,1307.31 544.407,1307.58 \n",
       "  545.417,1307.85 546.427,1308.12 547.437,1308.38 548.448,1308.64 549.458,1308.9 550.468,1309.16 551.478,1309.42 552.489,1309.67 553.499,1309.93 554.509,1310.18 \n",
       "  555.519,1310.43 556.53,1310.68 557.54,1310.92 558.55,1311.17 559.56,1311.41 560.571,1311.66 561.581,1311.9 562.591,1312.14 563.601,1312.37 564.612,1312.61 \n",
       "  565.622,1312.85 566.632,1313.08 567.642,1313.31 568.653,1313.54 569.663,1313.77 570.673,1314 571.683,1314.23 572.694,1314.45 573.704,1314.68 574.714,1314.9 \n",
       "  575.724,1315.12 576.735,1315.34 577.745,1315.56 578.755,1315.78 579.765,1315.99 580.776,1316.21 581.786,1316.42 582.796,1316.63 583.806,1316.84 584.817,1317.05 \n",
       "  585.827,1317.26 586.837,1317.47 587.847,1317.68 588.858,1317.88 589.868,1318.09 590.878,1318.29 591.888,1318.49 592.899,1318.69 593.909,1318.89 594.919,1319.09 \n",
       "  595.929,1319.29 596.94,1319.48 597.95,1319.68 598.96,1319.87 599.97,1320.07 600.981,1320.26 601.991,1320.45 603.001,1320.64 604.011,1320.83 605.022,1321.02 \n",
       "  606.032,1321.21 607.042,1321.39 608.052,1321.58 609.063,1321.76 610.073,1321.94 611.083,1322.13 612.093,1322.31 613.104,1322.49 614.114,1322.67 615.124,1322.85 \n",
       "  616.134,1323.02 617.145,1323.2 618.155,1323.38 619.165,1323.55 620.175,1323.73 621.186,1323.9 622.196,1324.07 623.206,1324.24 624.216,1324.41 625.227,1324.58 \n",
       "  626.237,1324.75 627.247,1324.92 628.257,1325.09 629.268,1325.25 630.278,1325.42 631.288,1325.59 632.298,1325.75 633.309,1325.91 634.319,1326.07 635.329,1326.24 \n",
       "  636.339,1326.4 637.35,1326.56 638.36,1326.72 639.37,1326.87 640.38,1327.03 641.391,1327.19 642.401,1327.35 643.411,1327.5 644.421,1327.66 645.432,1327.81 \n",
       "  646.442,1327.96 647.452,1328.12 648.462,1328.27 649.473,1328.42 650.483,1328.57 651.493,1328.72 652.503,1328.87 653.514,1329.02 654.524,1329.16 655.534,1329.31 \n",
       "  656.544,1329.46 657.555,1329.6 658.565,1329.75 659.575,1329.89 660.585,1330.03 661.596,1330.18 662.606,1330.32 663.616,1330.46 664.626,1330.6 665.637,1330.74 \n",
       "  666.647,1330.88 667.657,1331.02 668.667,1331.16 669.678,1331.3 670.688,1331.43 671.698,1331.57 672.708,1331.71 673.719,1331.84 674.729,1331.98 675.739,1332.11 \n",
       "  676.749,1332.24 677.76,1332.38 678.77,1332.51 679.78,1332.64 680.79,1332.77 681.801,1332.9 682.811,1333.03 683.821,1333.16 684.831,1333.29 685.842,1333.42 \n",
       "  686.852,1333.55 687.862,1333.67 688.872,1333.8 689.883,1333.93 690.893,1334.05 691.903,1334.18 692.913,1334.3 693.924,1334.42 694.934,1334.55 695.944,1334.67 \n",
       "  696.954,1334.79 697.965,1334.91 698.975,1335.04 699.985,1335.16 700.995,1335.28 702.006,1335.4 703.016,1335.52 704.026,1335.63 705.036,1335.75 706.047,1335.87 \n",
       "  707.057,1335.99 708.067,1336.1 709.077,1336.22 710.088,1336.34 711.098,1336.45 712.108,1336.56 713.118,1336.68 714.129,1336.79 715.139,1336.91 716.149,1337.02 \n",
       "  717.159,1337.13 718.17,1337.24 719.18,1337.35 720.19,1337.46 721.2,1337.57 722.211,1337.68 723.221,1337.79 724.231,1337.9 725.241,1338.01 726.252,1338.12 \n",
       "  727.262,1338.23 728.272,1338.33 729.282,1338.44 730.293,1338.55 731.303,1338.65 732.313,1338.76 733.324,1338.86 734.334,1338.97 735.344,1339.07 736.354,1339.17 \n",
       "  737.365,1339.28 738.375,1339.38 739.385,1339.48 740.395,1339.59 741.406,1339.69 742.416,1339.79 743.426,1339.89 744.436,1339.99 745.447,1340.09 746.457,1340.19 \n",
       "  747.467,1340.29 748.477,1340.39 749.488,1340.48 750.498,1340.58 751.508,1340.68 752.518,1340.78 753.529,1340.87 754.539,1340.97 755.549,1341.07 756.559,1341.16 \n",
       "  757.57,1341.26 758.58,1341.35 759.59,1341.45 760.6,1341.54 761.611,1341.63 762.621,1341.73 763.631,1341.82 764.641,1341.91 765.652,1342.01 766.662,1342.1 \n",
       "  767.672,1342.19 768.682,1342.28 769.693,1342.37 770.703,1342.46 771.713,1342.55 772.723,1342.64 773.734,1342.73 774.744,1342.82 775.754,1342.91 776.764,1343 \n",
       "  777.775,1343.08 778.785,1343.17 779.795,1343.26 780.805,1343.35 781.816,1343.43 782.826,1343.52 783.836,1343.61 784.846,1343.69 785.857,1343.78 786.867,1343.86 \n",
       "  787.877,1343.95 788.887,1344.03 789.898,1344.11 790.908,1344.2 791.918,1344.28 792.928,1344.37 793.939,1344.45 794.949,1344.53 795.959,1344.61 796.969,1344.69 \n",
       "  797.98,1344.78 798.99,1344.86 800,1344.94 801.01,1345.02 802.021,1345.1 803.031,1345.18 804.041,1345.26 805.051,1345.34 806.062,1345.42 807.072,1345.5 \n",
       "  808.082,1345.58 809.092,1345.65 810.103,1345.73 811.113,1345.81 812.123,1345.89 813.133,1345.96 814.144,1346.04 815.154,1346.12 816.164,1346.19 817.174,1346.27 \n",
       "  818.185,1346.35 819.195,1346.42 820.205,1346.5 821.215,1346.57 822.226,1346.65 823.236,1346.72 824.246,1346.8 825.256,1346.87 826.267,1346.94 827.277,1347.02 \n",
       "  828.287,1347.09 829.297,1347.16 830.308,1347.24 831.318,1347.31 832.328,1347.38 833.338,1347.45 834.349,1347.52 835.359,1347.6 836.369,1347.67 837.379,1347.74 \n",
       "  838.39,1347.81 839.4,1347.88 840.41,1347.95 841.42,1348.02 842.431,1348.09 843.441,1348.16 844.451,1348.23 845.461,1348.3 846.472,1348.37 847.482,1348.43 \n",
       "  848.492,1348.5 849.502,1348.57 850.513,1348.64 851.523,1348.71 852.533,1348.77 853.543,1348.84 854.554,1348.91 855.564,1348.98 856.574,1349.04 857.584,1349.11 \n",
       "  858.595,1349.17 859.605,1349.24 860.615,1349.31 861.625,1349.37 862.636,1349.44 863.646,1349.5 864.656,1349.57 865.666,1349.63 866.677,1349.7 867.687,1349.76 \n",
       "  868.697,1349.82 869.707,1349.89 870.718,1349.95 871.728,1350.01 872.738,1350.08 873.748,1350.14 874.759,1350.2 875.769,1350.27 876.779,1350.33 877.789,1350.39 \n",
       "  878.8,1350.45 879.81,1350.51 880.82,1350.58 881.83,1350.64 882.841,1350.7 883.851,1350.76 884.861,1350.82 885.871,1350.88 886.882,1350.94 887.892,1351 \n",
       "  888.902,1351.06 889.912,1351.12 890.923,1351.18 891.933,1351.24 892.943,1351.3 893.953,1351.36 894.964,1351.42 895.974,1351.48 896.984,1351.53 897.994,1351.59 \n",
       "  899.005,1351.65 900.015,1351.71 901.025,1351.77 902.035,1351.82 903.046,1351.88 904.056,1351.94 905.066,1352 906.076,1352.05 907.087,1352.11 908.097,1352.17 \n",
       "  909.107,1352.22 910.117,1352.28 911.128,1352.33 912.138,1352.39 913.148,1352.45 914.158,1352.5 915.169,1352.56 916.179,1352.61 917.189,1352.67 918.199,1352.72 \n",
       "  919.21,1352.78 920.22,1352.83 921.23,1352.88 922.24,1352.94 923.251,1352.99 924.261,1353.05 925.271,1353.1 926.281,1353.15 927.292,1353.21 928.302,1353.26 \n",
       "  929.312,1353.31 930.322,1353.37 931.333,1353.42 932.343,1353.47 933.353,1353.52 934.363,1353.58 935.374,1353.63 936.384,1353.68 937.394,1353.73 938.404,1353.78 \n",
       "  939.415,1353.83 940.425,1353.89 941.435,1353.94 942.445,1353.99 943.456,1354.04 944.466,1354.09 945.476,1354.14 946.486,1354.19 947.497,1354.24 948.507,1354.29 \n",
       "  949.517,1354.34 950.527,1354.39 951.538,1354.44 952.548,1354.49 953.558,1354.54 954.568,1354.59 955.579,1354.64 956.589,1354.68 957.599,1354.73 958.609,1354.78 \n",
       "  959.62,1354.83 960.63,1354.88 961.64,1354.93 962.65,1354.97 963.661,1355.02 964.671,1355.07 965.681,1355.12 966.691,1355.16 967.702,1355.21 968.712,1355.26 \n",
       "  969.722,1355.31 970.732,1355.35 971.743,1355.4 972.753,1355.45 973.763,1355.49 974.773,1355.54 975.784,1355.58 976.794,1355.63 977.804,1355.68 978.815,1355.72 \n",
       "  979.825,1355.77 980.835,1355.81 981.845,1355.86 982.856,1355.9 983.866,1355.95 984.876,1355.99 985.886,1356.04 986.897,1356.08 987.907,1356.13 988.917,1356.17 \n",
       "  989.927,1356.21 990.938,1356.26 991.948,1356.3 992.958,1356.35 993.968,1356.39 994.979,1356.43 995.989,1356.48 996.999,1356.52 998.009,1356.56 999.02,1356.61 \n",
       "  1000.03,1356.65 1001.04,1356.69 1002.05,1356.73 1003.06,1356.78 1004.07,1356.82 1005.08,1356.86 1006.09,1356.9 1007.1,1356.95 1008.11,1356.99 1009.12,1357.03 \n",
       "  1010.13,1357.07 1011.14,1357.11 1012.15,1357.15 1013.16,1357.2 1014.17,1357.24 1015.18,1357.28 1016.19,1357.32 1017.2,1357.36 1018.21,1357.4 1019.22,1357.44 \n",
       "  1020.23,1357.48 1021.25,1357.52 1022.26,1357.56 1023.27,1357.6 1024.28,1357.64 1025.29,1357.68 1026.3,1357.72 1027.31,1357.76 1028.32,1357.8 1029.33,1357.84 \n",
       "  1030.34,1357.88 1031.35,1357.92 1032.36,1357.96 1033.37,1358 1034.38,1358.04 1035.39,1358.07 1036.4,1358.11 1037.41,1358.15 1038.42,1358.19 1039.43,1358.23 \n",
       "  1040.44,1358.27 1041.45,1358.3 1042.46,1358.34 1043.47,1358.38 1044.48,1358.42 1045.49,1358.46 1046.5,1358.49 1047.51,1358.53 1048.52,1358.57 1049.53,1358.6 \n",
       "  1050.54,1358.64 1051.55,1358.68 1052.56,1358.72 1053.57,1358.75 1054.58,1358.79 1055.59,1358.83 1056.6,1358.86 1057.61,1358.9 1058.62,1358.94 1059.63,1358.97 \n",
       "  1060.64,1359.01 1061.66,1359.04 1062.67,1359.08 1063.68,1359.12 1064.69,1359.15 1065.7,1359.19 1066.71,1359.22 1067.72,1359.26 1068.73,1359.29 1069.74,1359.33 \n",
       "  1070.75,1359.36 1071.76,1359.4 1072.77,1359.43 1073.78,1359.47 1074.79,1359.5 1075.8,1359.54 1076.81,1359.57 1077.82,1359.61 1078.83,1359.64 1079.84,1359.67 \n",
       "  1080.85,1359.71 1081.86,1359.74 1082.87,1359.78 1083.88,1359.81 1084.89,1359.84 1085.9,1359.88 1086.91,1359.91 1087.92,1359.94 1088.93,1359.98 1089.94,1360.01 \n",
       "  1090.95,1360.04 1091.96,1360.08 1092.97,1360.11 1093.98,1360.14 1094.99,1360.18 1096,1360.21 1097.01,1360.24 1098.02,1360.27 1099.03,1360.31 1100.04,1360.34 \n",
       "  1101.05,1360.37 1102.07,1360.4 1103.08,1360.44 1104.09,1360.47 1105.1,1360.5 1106.11,1360.53 1107.12,1360.56 1108.13,1360.59 1109.14,1360.63 1110.15,1360.66 \n",
       "  1111.16,1360.69 1112.17,1360.72 1113.18,1360.75 1114.19,1360.78 1115.2,1360.81 1116.21,1360.85 1117.22,1360.88 1118.23,1360.91 1119.24,1360.94 1120.25,1360.97 \n",
       "  1121.26,1361 1122.27,1361.03 1123.28,1361.06 1124.29,1361.09 1125.3,1361.12 1126.31,1361.15 1127.32,1361.18 1128.33,1361.21 1129.34,1361.24 1130.35,1361.27 \n",
       "  1131.36,1361.3 1132.37,1361.33 1133.38,1361.36 1134.39,1361.39 1135.4,1361.42 1136.41,1361.45 1137.42,1361.48 1138.43,1361.51 1139.44,1361.54 1140.45,1361.57 \n",
       "  1141.46,1361.59 1142.48,1361.62 1143.49,1361.65 1144.5,1361.68 1145.51,1361.71 1146.52,1361.74 1147.53,1361.77 1148.54,1361.79 1149.55,1361.82 1150.56,1361.85 \n",
       "  1151.57,1361.88 1152.58,1361.91 1153.59,1361.94 1154.6,1361.96 1155.61,1361.99 1156.62,1362.02 1157.63,1362.05 1158.64,1362.08 1159.65,1362.1 1160.66,1362.13 \n",
       "  1161.67,1362.16 1162.68,1362.19 1163.69,1362.21 1164.7,1362.24 1165.71,1362.27 1166.72,1362.3 1167.73,1362.32 1168.74,1362.35 1169.75,1362.38 1170.76,1362.4 \n",
       "  1171.77,1362.43 1172.78,1362.46 1173.79,1362.48 1174.8,1362.51 1175.81,1362.54 1176.82,1362.56 1177.83,1362.59 1178.84,1362.62 1179.85,1362.64 1180.86,1362.67 \n",
       "  1181.87,1362.69 1182.89,1362.72 1183.9,1362.75 1184.91,1362.77 1185.92,1362.8 1186.93,1362.82 1187.94,1362.85 1188.95,1362.88 1189.96,1362.9 1190.97,1362.93 \n",
       "  1191.98,1362.95 1192.99,1362.98 1194,1363 1195.01,1363.03 1196.02,1363.05 1197.03,1363.08 1198.04,1363.1 1199.05,1363.13 1200.06,1363.15 1201.07,1363.18 \n",
       "  1202.08,1363.2 1203.09,1363.23 1204.1,1363.25 1205.11,1363.28 1206.12,1363.3 1207.13,1363.33 1208.14,1363.35 1209.15,1363.38 1210.16,1363.4 1211.17,1363.42 \n",
       "  1212.18,1363.45 1213.19,1363.47 1214.2,1363.5 1215.21,1363.52 1216.22,1363.54 1217.23,1363.57 1218.24,1363.59 1219.25,1363.62 1220.26,1363.64 1221.27,1363.66 \n",
       "  1222.29,1363.69 1223.3,1363.71 1224.31,1363.73 1225.32,1363.76 1226.33,1363.78 1227.34,1363.8 1228.35,1363.83 1229.36,1363.85 1230.37,1363.87 1231.38,1363.9 \n",
       "  1232.39,1363.92 1233.4,1363.94 1234.41,1363.97 1235.42,1363.99 1236.43,1364.01 1237.44,1364.03 1238.45,1364.06 1239.46,1364.08 1240.47,1364.1 1241.48,1364.12 \n",
       "  1242.49,1364.15 1243.5,1364.17 1244.51,1364.19 1245.52,1364.21 1246.53,1364.24 1247.54,1364.26 1248.55,1364.28 1249.56,1364.3 1250.57,1364.32 1251.58,1364.35 \n",
       "  1252.59,1364.37 1253.6,1364.39 1254.61,1364.41 1255.62,1364.43 1256.63,1364.46 1257.64,1364.48 1258.65,1364.5 1259.66,1364.52 1260.67,1364.54 1261.68,1364.56 \n",
       "  1262.7,1364.59 1263.71,1364.61 1264.72,1364.63 1265.73,1364.65 1266.74,1364.67 1267.75,1364.69 1268.76,1364.71 1269.77,1364.73 1270.78,1364.75 1271.79,1364.78 \n",
       "  1272.8,1364.8 1273.81,1364.82 1274.82,1364.84 1275.83,1364.86 1276.84,1364.88 1277.85,1364.9 1278.86,1364.92 1279.87,1364.94 1280.88,1364.96 1281.89,1364.98 \n",
       "  1282.9,1365 1283.91,1365.02 1284.92,1365.04 1285.93,1365.06 1286.94,1365.08 1287.95,1365.1 1288.96,1365.12 1289.97,1365.14 1290.98,1365.16 1291.99,1365.18 \n",
       "  1293,1365.2 1294.01,1365.22 1295.02,1365.24 1296.03,1365.26 1297.04,1365.28 1298.05,1365.3 1299.06,1365.32 1300.07,1365.34 1301.08,1365.36 1302.09,1365.38 \n",
       "  1303.11,1365.4 1304.12,1365.42 1305.13,1365.44 1306.14,1365.46 1307.15,1365.48 1308.16,1365.5 1309.17,1365.52 1310.18,1365.54 1311.19,1365.55 1312.2,1365.57 \n",
       "  1313.21,1365.59 1314.22,1365.61 1315.23,1365.63 1316.24,1365.65 1317.25,1365.67 1318.26,1365.69 1319.27,1365.71 1320.28,1365.72 1321.29,1365.74 1322.3,1365.76 \n",
       "  1323.31,1365.78 1324.32,1365.8 1325.33,1365.82 1326.34,1365.84 1327.35,1365.85 1328.36,1365.87 1329.37,1365.89 1330.38,1365.91 1331.39,1365.93 1332.4,1365.95 \n",
       "  1333.41,1365.96 1334.42,1365.98 1335.43,1366 1336.44,1366.02 1337.45,1366.04 1338.46,1366.05 1339.47,1366.07 1340.48,1366.09 1341.49,1366.11 1342.5,1366.13 \n",
       "  1343.52,1366.14 1344.53,1366.16 1345.54,1366.18 1346.55,1366.2 1347.56,1366.21 1348.57,1366.23 1349.58,1366.25 1350.59,1366.27 1351.6,1366.28 1352.61,1366.3 \n",
       "  1353.62,1366.32 1354.63,1366.34 1355.64,1366.35 1356.65,1366.37 1357.66,1366.39 1358.67,1366.4 1359.68,1366.42 1360.69,1366.44 1361.7,1366.46 1362.71,1366.47 \n",
       "  1363.72,1366.49 1364.73,1366.51 1365.74,1366.52 1366.75,1366.54 1367.76,1366.56 1368.77,1366.57 1369.78,1366.59 1370.79,1366.61 1371.8,1366.62 1372.81,1366.64 \n",
       "  1373.82,1366.66 1374.83,1366.67 1375.84,1366.69 1376.85,1366.71 1377.86,1366.72 1378.87,1366.74 1379.88,1366.76 1380.89,1366.77 1381.9,1366.79 1382.91,1366.8 \n",
       "  1383.93,1366.82 1384.94,1366.84 1385.95,1366.85 1386.96,1366.87 1387.97,1366.88 1388.98,1366.9 1389.99,1366.92 1391,1366.93 1392.01,1366.95 1393.02,1366.96 \n",
       "  1394.03,1366.98 1395.04,1367 1396.05,1367.01 1397.06,1367.03 1398.07,1367.04 1399.08,1367.06 1400.09,1367.07 1401.1,1367.09 1402.11,1367.11 1403.12,1367.12 \n",
       "  1404.13,1367.14 1405.14,1367.15 1406.15,1367.17 1407.16,1367.18 1408.17,1367.2 1409.18,1367.21 1410.19,1367.23 1411.2,1367.24 1412.21,1367.26 1413.22,1367.28 \n",
       "  1414.23,1367.29 1415.24,1367.31 1416.25,1367.32 1417.26,1367.34 1418.27,1367.35 1419.28,1367.37 1420.29,1367.38 1421.3,1367.4 1422.31,1367.41 1423.32,1367.43 \n",
       "  1424.34,1367.44 1425.35,1367.46 1426.36,1367.47 1427.37,1367.48 1428.38,1367.5 1429.39,1367.51 1430.4,1367.53 1431.41,1367.54 1432.42,1367.56 1433.43,1367.57 \n",
       "  1434.44,1367.59 1435.45,1367.6 1436.46,1367.62 1437.47,1367.63 1438.48,1367.64 1439.49,1367.66 1440.5,1367.67 1441.51,1367.69 1442.52,1367.7 1443.53,1367.72 \n",
       "  1444.54,1367.73 1445.55,1367.75 1446.56,1367.76 1447.57,1367.77 1448.58,1367.79 1449.59,1367.8 1450.6,1367.82 1451.61,1367.83 1452.62,1367.84 1453.63,1367.86 \n",
       "  1454.64,1367.87 1455.65,1367.89 1456.66,1367.9 1457.67,1367.91 1458.68,1367.93 1459.69,1367.94 1460.7,1367.96 1461.71,1367.97 1462.72,1367.98 1463.73,1368 \n",
       "  1464.75,1368.01 1465.76,1368.02 1466.77,1368.04 1467.78,1368.05 1468.79,1368.06 1469.8,1368.08 1470.81,1368.09 1471.82,1368.11 1472.83,1368.12 1473.84,1368.13 \n",
       "  1474.85,1368.15 1475.86,1368.16 1476.87,1368.17 1477.88,1368.19 1478.89,1368.2 1479.9,1368.21 1480.91,1368.23 1481.92,1368.24 1482.93,1368.25 1483.94,1368.27 \n",
       "  1484.95,1368.28 1485.96,1368.29 1486.97,1368.31 1487.98,1368.32 1488.99,1368.33 1490,1368.34 1491.01,1368.36 1492.02,1368.37 1493.03,1368.38 1494.04,1368.4 \n",
       "  1495.05,1368.41 1496.06,1368.42 1497.07,1368.44 1498.08,1368.45 1499.09,1368.46 1500.1,1368.47 1501.11,1368.49 1502.12,1368.5 1503.13,1368.51 1504.15,1368.53 \n",
       "  1505.16,1368.54 1506.17,1368.55 1507.18,1368.56 1508.19,1368.58 1509.2,1368.59 1510.21,1368.6 1511.22,1368.61 1512.23,1368.63 1513.24,1368.64 1514.25,1368.65 \n",
       "  1515.26,1368.66 1516.27,1368.68 1517.28,1368.69 1518.29,1368.7 1519.3,1368.71 1520.31,1368.73 1521.32,1368.74 1522.33,1368.75 1523.34,1368.76 1524.35,1368.78 \n",
       "  1525.36,1368.79 1526.37,1368.8 1527.38,1368.81 1528.39,1368.83 1529.4,1368.84 1530.41,1368.85 1531.42,1368.86 1532.43,1368.87 1533.44,1368.89 1534.45,1368.9 \n",
       "  1535.46,1368.91 1536.47,1368.92 1537.48,1368.94 1538.49,1368.95 1539.5,1368.96 1540.51,1368.97 1541.52,1368.98 1542.53,1369 1543.54,1369.01 1544.56,1369.02 \n",
       "  1545.57,1369.03 1546.58,1369.04 1547.59,1369.06 1548.6,1369.07 1549.61,1369.08 1550.62,1369.09 1551.63,1369.1 1552.64,1369.12 1553.65,1369.13 1554.66,1369.14 \n",
       "  1555.67,1369.15 1556.68,1369.16 1557.69,1369.18 1558.7,1369.19 1559.71,1369.2 1560.72,1369.21 1561.73,1369.22 1562.74,1369.24 1563.75,1369.25 1564.76,1369.26 \n",
       "  1565.77,1369.27 1566.78,1369.28 1567.79,1369.29 1568.8,1369.31 1569.81,1369.32 1570.82,1369.33 1571.83,1369.34 1572.84,1369.35 1573.85,1369.37 1574.86,1369.38 \n",
       "  1575.87,1369.39 1576.88,1369.4 1577.89,1369.41 1578.9,1369.42 1579.91,1369.44 1580.92,1369.45 1581.93,1369.46 1582.94,1369.47 1583.95,1369.48 1584.97,1369.5 \n",
       "  1585.98,1369.51 1586.99,1369.52 1588,1369.53 1589.01,1369.54 1590.02,1369.55 1591.03,1369.57 1592.04,1369.58 1593.05,1369.59 1594.06,1369.6 1595.07,1369.61 \n",
       "  1596.08,1369.63 1597.09,1369.64 1598.1,1369.65 1599.11,1369.66 1600.12,1369.67 1601.13,1369.69 1602.14,1369.7 1603.15,1369.71 1604.16,1369.72 1605.17,1369.73 \n",
       "  1606.18,1369.75 1607.19,1369.76 1608.2,1369.77 1609.21,1369.78 1610.22,1369.79 1611.23,1369.81 1612.24,1369.82 1613.25,1369.83 1614.26,1369.84 1615.27,1369.85 \n",
       "  1616.28,1369.87 1617.29,1369.88 1618.3,1369.89 1619.31,1369.9 1620.32,1369.92 1621.33,1369.93 1622.34,1369.94 1623.35,1369.95 1624.36,1369.97 1625.38,1369.98 \n",
       "  1626.39,1369.99 1627.4,1370 1628.41,1370.02 1629.42,1370.03 1630.43,1370.04 1631.44,1370.06 1632.45,1370.07 1633.46,1370.08 1634.47,1370.1 1635.48,1370.11 \n",
       "  1636.49,1370.12 1637.5,1370.13 1638.51,1370.15 1639.52,1370.16 1640.53,1370.18 1641.54,1370.19 1642.55,1370.2 1643.56,1370.22 1644.57,1370.23 1645.58,1370.24 \n",
       "  1646.59,1370.26 1647.6,1370.27 1648.61,1370.29 1649.62,1370.3 1650.63,1370.32 1651.64,1370.33 1652.65,1370.35 1653.66,1370.36 1654.67,1370.38 1655.68,1370.39 \n",
       "  1656.69,1370.41 1657.7,1370.42 1658.71,1370.44 1659.72,1370.45 1660.73,1370.47 1661.74,1370.48 1662.75,1370.5 1663.76,1370.52 1664.77,1370.53 1665.79,1370.55 \n",
       "  1666.8,1370.57 1667.81,1370.58 1668.82,1370.6 1669.83,1370.62 1670.84,1370.64 1671.85,1370.65 1672.86,1370.67 1673.87,1370.69 1674.88,1370.71 1675.89,1370.73 \n",
       "  1676.9,1370.75 1677.91,1370.76 1678.92,1370.78 1679.93,1370.8 1680.94,1370.82 1681.95,1370.84 1682.96,1370.86 1683.97,1370.88 1684.98,1370.9 1685.99,1370.93 \n",
       "  1687,1370.95 1688.01,1370.97 1689.02,1370.99 1690.03,1371.01 1691.04,1371.04 1692.05,1371.06 1693.06,1371.08 1694.07,1371.1 1695.08,1371.13 1696.09,1371.15 \n",
       "  1697.1,1371.18 1698.11,1371.2 1699.12,1371.22 1700.13,1371.25 1701.14,1371.27 1702.15,1371.3 1703.16,1371.32 1704.17,1371.35 1705.18,1371.38 1706.2,1371.4 \n",
       "  1707.21,1371.43 1708.22,1371.46 1709.23,1371.48 1710.24,1371.51 1711.25,1371.54 1712.26,1371.56 1713.27,1371.59 1714.28,1371.62 1715.29,1371.65 1716.3,1371.67 \n",
       "  1717.31,1371.7 1718.32,1371.73 1719.33,1371.76 1720.34,1371.79 1721.35,1371.81 1722.36,1371.84 1723.37,1371.87 1724.38,1371.9 1725.39,1371.93 1726.4,1371.95 \n",
       "  1727.41,1371.98 1728.42,1372.01 1729.43,1372.04 1730.44,1372.07 1731.45,1372.1 1732.46,1372.12 1733.47,1372.15 1734.48,1372.18 1735.49,1372.21 1736.5,1372.23 \n",
       "  1737.51,1372.26 1738.52,1372.29 1739.53,1372.32 1740.54,1372.34 1741.55,1372.37 1742.56,1372.4 1743.57,1372.43 1744.58,1372.45 1745.6,1372.48 1746.61,1372.51 \n",
       "  1747.62,1372.53 1748.63,1372.56 1749.64,1372.59 1750.65,1372.61 1751.66,1372.64 1752.67,1372.67 1753.68,1372.69 1754.69,1372.72 1755.7,1372.74 1756.71,1372.77 \n",
       "  1757.72,1372.79 1758.73,1372.82 1759.74,1372.84 1760.75,1372.87 1761.76,1372.9 1762.77,1372.92 1763.78,1372.94 1764.79,1372.97 1765.8,1372.99 1766.81,1373.02 \n",
       "  1767.82,1373.04 1768.83,1373.07 1769.84,1373.09 1770.85,1373.12 1771.86,1373.14 1772.87,1373.17 1773.88,1373.19 1774.89,1373.21 1775.9,1373.24 1776.91,1373.26 \n",
       "  1777.92,1373.28 1778.93,1373.31 1779.94,1373.33 1780.95,1373.36 1781.96,1373.38 1782.97,1373.4 1783.98,1373.43 1784.99,1373.45 1786.01,1373.47 1787.02,1373.49 \n",
       "  1788.03,1373.52 1789.04,1373.54 1790.05,1373.56 1791.06,1373.59 1792.07,1373.61 1793.08,1373.63 1794.09,1373.65 1795.1,1373.68 1796.11,1373.7 1797.12,1373.72 \n",
       "  1798.13,1373.74 1799.14,1373.76 1800.15,1373.79 1801.16,1373.81 1802.17,1373.83 1803.18,1373.85 1804.19,1373.87 1805.2,1373.9 1806.21,1373.92 1807.22,1373.94 \n",
       "  1808.23,1373.96 1809.24,1373.98 1810.25,1374 1811.26,1374.02 1812.27,1374.05 1813.28,1374.07 1814.29,1374.09 1815.3,1374.11 1816.31,1374.13 1817.32,1374.15 \n",
       "  1818.33,1374.17 1819.34,1374.19 1820.35,1374.21 1821.36,1374.23 1822.37,1374.25 1823.38,1374.27 1824.39,1374.3 1825.4,1374.32 1826.42,1374.34 1827.43,1374.36 \n",
       "  1828.44,1374.38 1829.45,1374.4 1830.46,1374.42 1831.47,1374.44 1832.48,1374.46 1833.49,1374.48 1834.5,1374.5 1835.51,1374.52 1836.52,1374.54 1837.53,1374.56 \n",
       "  1838.54,1374.58 1839.55,1374.6 1840.56,1374.61 1841.57,1374.63 1842.58,1374.65 1843.59,1374.67 1844.6,1374.69 1845.61,1374.71 1846.62,1374.73 1847.63,1374.75 \n",
       "  1848.64,1374.77 1849.65,1374.79 1850.66,1374.81 1851.67,1374.83 1852.68,1374.85 1853.69,1374.87 1854.7,1374.88 1855.71,1374.9 1856.72,1374.92 1857.73,1374.94 \n",
       "  1858.74,1374.96 1859.75,1374.98 1860.76,1375 1861.77,1375.01 1862.78,1375.03 1863.79,1375.05 1864.8,1375.07 1865.81,1375.09 1866.83,1375.11 1867.84,1375.13 \n",
       "  1868.85,1375.14 1869.86,1375.16 1870.87,1375.18 1871.88,1375.2 1872.89,1375.22 1873.9,1375.23 1874.91,1375.25 1875.92,1375.27 1876.93,1375.29 1877.94,1375.31 \n",
       "  1878.95,1375.33 1879.96,1375.34 1880.97,1375.36 1881.98,1375.38 1882.99,1375.4 1884,1375.41 1885.01,1375.43 1886.02,1375.45 1887.03,1375.47 1888.04,1375.48 \n",
       "  1889.05,1375.5 1890.06,1375.52 1891.07,1375.54 1892.08,1375.55 1893.09,1375.57 1894.1,1375.59 1895.11,1375.61 1896.12,1375.62 1897.13,1375.64 1898.14,1375.66 \n",
       "  1899.15,1375.68 1900.16,1375.69 1901.17,1375.71 1902.18,1375.73 1903.19,1375.74 1904.2,1375.76 1905.21,1375.78 1906.22,1375.8 1907.24,1375.81 1908.25,1375.83 \n",
       "  1909.26,1375.85 1910.27,1375.86 1911.28,1375.88 1912.29,1375.9 1913.3,1375.91 1914.31,1375.93 1915.32,1375.95 1916.33,1375.96 1917.34,1375.98 1918.35,1376 \n",
       "  1919.36,1376.01 1920.37,1376.03 1921.38,1376.05 1922.39,1376.06 1923.4,1376.08 1924.41,1376.1 1925.42,1376.11 1926.43,1376.13 1927.44,1376.15 1928.45,1376.16 \n",
       "  1929.46,1376.18 1930.47,1376.2 1931.48,1376.21 1932.49,1376.23 1933.5,1376.24 1934.51,1376.26 1935.52,1376.28 1936.53,1376.29 1937.54,1376.31 1938.55,1376.33 \n",
       "  1939.56,1376.34 1940.57,1376.36 1941.58,1376.37 1942.59,1376.39 1943.6,1376.41 1944.61,1376.42 1945.62,1376.44 1946.63,1376.46 1947.65,1376.47 1948.66,1376.49 \n",
       "  1949.67,1376.5 1950.68,1376.52 1951.69,1376.54 1952.7,1376.55 1953.71,1376.57 1954.72,1376.58 1955.73,1376.6 1956.74,1376.61 1957.75,1376.63 1958.76,1376.65 \n",
       "  1959.77,1376.66 1960.78,1376.68 1961.79,1376.69 1962.8,1376.71 1963.81,1376.73 1964.82,1376.74 1965.83,1376.76 1966.84,1376.77 1967.85,1376.79 1968.86,1376.8 \n",
       "  1969.87,1376.82 1970.88,1376.84 1971.89,1376.85 1972.9,1376.87 1973.91,1376.88 1974.92,1376.9 1975.93,1376.91 1976.94,1376.93 1977.95,1376.95 1978.96,1376.96 \n",
       "  1979.97,1376.98 1980.98,1376.99 1981.99,1377.01 1983,1377.02 1984.01,1377.04 1985.02,1377.05 1986.03,1377.07 1987.05,1377.09 1988.06,1377.1 1989.07,1377.12 \n",
       "  1990.08,1377.13 1991.09,1377.15 1992.1,1377.16 1993.11,1377.18 1994.12,1377.19 1995.13,1377.21 1996.14,1377.23 1997.15,1377.24 1998.16,1377.26 1999.17,1377.27 \n",
       "  2000.18,1377.29 2001.19,1377.3 2002.2,1377.32 2003.21,1377.33 2004.22,1377.35 2005.23,1377.36 2006.24,1377.38 2007.25,1377.39 2008.26,1377.41 2009.27,1377.43 \n",
       "  2010.28,1377.44 2011.29,1377.46 2012.3,1377.47 2013.31,1377.49 2014.32,1377.5 2015.33,1377.52 2016.34,1377.53 2017.35,1377.55 2018.36,1377.56 2019.37,1377.58 \n",
       "  2020.38,1377.59 2021.39,1377.61 2022.4,1377.62 2023.41,1377.64 2024.42,1377.65 2025.43,1377.67 2026.44,1377.68 2027.46,1377.7 2028.47,1377.72 2029.48,1377.73 \n",
       "  2030.49,1377.75 2031.5,1377.76 2032.51,1377.78 2033.52,1377.79 2034.53,1377.81 2035.54,1377.82 2036.55,1377.84 2037.56,1377.85 2038.57,1377.87 2039.58,1377.88 \n",
       "  2040.59,1377.9 2041.6,1377.91 2042.61,1377.93 2043.62,1377.94 2044.63,1377.96 2045.64,1377.97 2046.65,1377.99 2047.66,1378 2048.67,1378.02 2049.68,1378.03 \n",
       "  2050.69,1378.05 2051.7,1378.07 2052.71,1378.08 2053.72,1378.1 2054.73,1378.11 2055.74,1378.13 2056.75,1378.14 2057.76,1378.16 2058.77,1378.17 2059.78,1378.19 \n",
       "  2060.79,1378.2 2061.8,1378.22 2062.81,1378.23 2063.82,1378.25 2064.83,1378.26 2065.84,1378.28 2066.85,1378.29 2067.87,1378.31 2068.88,1378.32 2069.89,1378.34 \n",
       "  2070.9,1378.35 2071.91,1378.37 2072.92,1378.38 2073.93,1378.4 2074.94,1378.41 2075.95,1378.43 2076.96,1378.44 2077.97,1378.46 2078.98,1378.47 2079.99,1378.49 \n",
       "  2081,1378.5 2082.01,1378.52 2083.02,1378.53 2084.03,1378.55 2085.04,1378.56 2086.05,1378.58 2087.06,1378.6 2088.07,1378.61 2089.08,1378.63 2090.09,1378.64 \n",
       "  2091.1,1378.66 2092.11,1378.67 2093.12,1378.69 2094.13,1378.7 2095.14,1378.72 2096.15,1378.73 2097.16,1378.75 2098.17,1378.76 2099.18,1378.78 2100.19,1378.79 \n",
       "  2101.2,1378.81 2102.21,1378.82 2103.22,1378.84 2104.23,1378.85 2105.24,1378.87 2106.25,1378.88 2107.26,1378.9 2108.28,1378.91 2109.29,1378.93 2110.3,1378.94 \n",
       "  2111.31,1378.96 2112.32,1378.97 2113.33,1378.99 2114.34,1379 2115.35,1379.02 2116.36,1379.04 2117.37,1379.05 2118.38,1379.07 2119.39,1379.08 2120.4,1379.1 \n",
       "  2121.41,1379.11 2122.42,1379.13 2123.43,1379.14 2124.44,1379.16 2125.45,1379.17 2126.46,1379.19 2127.47,1379.2 2128.48,1379.22 2129.49,1379.23 2130.5,1379.25 \n",
       "  2131.51,1379.26 2132.52,1379.28 2133.53,1379.29 2134.54,1379.31 2135.55,1379.32 2136.56,1379.34 2137.57,1379.35 2138.58,1379.37 2139.59,1379.39 2140.6,1379.4 \n",
       "  2141.61,1379.42 2142.62,1379.43 2143.63,1379.45 2144.64,1379.46 2145.65,1379.48 2146.66,1379.49 2147.67,1379.51 2148.69,1379.52 2149.7,1379.54 2150.71,1379.55 \n",
       "  2151.72,1379.57 2152.73,1379.58 2153.74,1379.6 2154.75,1379.61 2155.76,1379.63 2156.77,1379.65 2157.78,1379.66 2158.79,1379.68 2159.8,1379.69 2160.81,1379.71 \n",
       "  2161.82,1379.72 2162.83,1379.74 2163.84,1379.75 2164.85,1379.77 2165.86,1379.78 2166.87,1379.8 2167.88,1379.81 2168.89,1379.83 2169.9,1379.85 2170.91,1379.86 \n",
       "  2171.92,1379.88 2172.93,1379.89 2173.94,1379.91 2174.95,1379.92 2175.96,1379.94 2176.97,1379.95 2177.98,1379.97 2178.99,1379.98 2180,1380 2181.01,1380.01 \n",
       "  2182.02,1380.03 2183.03,1380.05 2184.04,1380.06 2185.05,1380.08 2186.06,1380.09 2187.07,1380.11 2188.08,1380.12 2189.1,1380.14 2190.11,1380.15 2191.12,1380.17 \n",
       "  2192.13,1380.18 2193.14,1380.2 2194.15,1380.22 2195.16,1380.23 2196.17,1380.25 2197.18,1380.26 2198.19,1380.28 2199.2,1380.29 2200.21,1380.31 2201.22,1380.32 \n",
       "  2202.23,1380.34 2203.24,1380.36 2204.25,1380.37 2205.26,1380.39 2206.27,1380.4 2207.28,1380.42 2208.29,1380.43 2209.3,1380.45 2210.31,1380.46 2211.32,1380.48 \n",
       "  2212.33,1380.5 2213.34,1380.51 2214.35,1380.53 2215.36,1380.54 2216.37,1380.56 2217.38,1380.57 2218.39,1380.59 2219.4,1380.6 2220.41,1380.62 2221.42,1380.64 \n",
       "  2222.43,1380.65 2223.44,1380.67 2224.45,1380.68 2225.46,1380.7 2226.47,1380.71 2227.48,1380.73 2228.5,1380.74 2229.51,1380.76 2230.52,1380.78 2231.53,1380.79 \n",
       "  2232.54,1380.81 2233.55,1380.82 2234.56,1380.84 2235.57,1380.85 2236.58,1380.87 2237.59,1380.89 2238.6,1380.9 2239.61,1380.92 2240.62,1380.93 2241.63,1380.95 \n",
       "  2242.64,1380.96 2243.65,1380.98 2244.66,1381 2245.67,1381.01 2246.68,1381.03 2247.69,1381.04 2248.7,1381.06 2249.71,1381.07 2250.72,1381.09 2251.73,1381.11 \n",
       "  2252.74,1381.12 2253.75,1381.14 2254.76,1381.15 2255.77,1381.17 2256.78,1381.18 2257.79,1381.2 2258.8,1381.22 2259.81,1381.23 2260.82,1381.25 2261.83,1381.26 \n",
       "  2262.84,1381.28 2263.85,1381.29 2264.86,1381.31 2265.87,1381.33 2266.88,1381.34 2267.89,1381.36 2268.91,1381.37 2269.92,1381.39 2270.93,1381.41 2271.94,1381.42 \n",
       "  2272.95,1381.44 2273.96,1381.45 2274.97,1381.47 2275.98,1381.48 2276.99,1381.5 2278,1381.52 2279.01,1381.53 2280.02,1381.55 2281.03,1381.56 2282.04,1381.58 \n",
       "  2283.05,1381.6 2284.06,1381.61 2285.07,1381.63 2286.08,1381.64 2287.09,1381.66 2288.1,1381.68 2289.11,1381.69 2290.12,1381.71 2291.13,1381.72 2292.14,1381.74 \n",
       "  \n",
       "  \"/>\n",
       "<path clip-path=\"url(#clip520)\" d=\"\n",
       "M1844.07 274.549 L2281.36 274.549 L2281.36 93.1086 L1844.07 93.1086  Z\n",
       "  \" fill=\"#ffffff\" fill-rule=\"evenodd\" fill-opacity=\"1\"/>\n",
       "<polyline clip-path=\"url(#clip520)\" style=\"stroke:#000000; stroke-width:4; stroke-opacity:1; fill:none\" points=\"\n",
       "  1844.07,274.549 2281.36,274.549 2281.36,93.1086 1844.07,93.1086 1844.07,274.549 \n",
       "  \"/>\n",
       "<polyline clip-path=\"url(#clip520)\" style=\"stroke:#009af9; stroke-width:4; stroke-opacity:1; fill:none\" points=\"\n",
       "  1867.86,153.589 2010.65,153.589 \n",
       "  \"/>\n",
       "<path clip-path=\"url(#clip520)\" d=\"M 0 0 M2047.64 170.869 L2034.44 136.309 L2039.33 136.309 L2050.28 165.406 L2061.25 136.309 L2066.11 136.309 L2052.94 170.869 L2047.64 170.869 Z\" fill=\"#000000\" fill-rule=\"evenodd\" fill-opacity=\"1\" /><path clip-path=\"url(#clip520)\" d=\"M 0 0 M2078.68 157.836 Q2073.52 157.836 2071.53 159.017 Q2069.54 160.197 2069.54 163.045 Q2069.54 165.313 2071.02 166.656 Q2072.52 167.975 2075.09 167.975 Q2078.63 167.975 2080.76 165.475 Q2082.92 162.952 2082.92 158.785 L2082.92 157.836 L2078.68 157.836 M2087.17 156.077 L2087.17 170.869 L2082.92 170.869 L2082.92 166.933 Q2081.46 169.295 2079.28 170.429 Q2077.1 171.54 2073.96 171.54 Q2069.98 171.54 2067.61 169.318 Q2065.28 167.072 2065.28 163.322 Q2065.28 158.947 2068.19 156.725 Q2071.13 154.503 2076.94 154.503 L2082.92 154.503 L2082.92 154.086 Q2082.92 151.147 2080.97 149.549 Q2079.05 147.929 2075.55 147.929 Q2073.33 147.929 2071.23 148.461 Q2069.12 148.994 2067.17 150.059 L2067.17 146.123 Q2069.51 145.221 2071.71 144.781 Q2073.91 144.318 2075.99 144.318 Q2081.62 144.318 2084.4 147.234 Q2087.17 150.151 2087.17 156.077 Z\" fill=\"#000000\" fill-rule=\"evenodd\" fill-opacity=\"1\" /><path clip-path=\"url(#clip520)\" d=\"M 0 0 M2091.64 134.85 L2095.9 134.85 L2095.9 170.869 L2091.64 170.869 L2091.64 134.85 Z\" fill=\"#000000\" fill-rule=\"evenodd\" fill-opacity=\"1\" /><path clip-path=\"url(#clip520)\" d=\"M 0 0 M2100.37 144.943 L2104.63 144.943 L2104.63 170.869 L2100.37 170.869 L2100.37 144.943 M2100.37 134.85 L2104.63 134.85 L2104.63 140.244 L2100.37 140.244 L2100.37 134.85 Z\" fill=\"#000000\" fill-rule=\"evenodd\" fill-opacity=\"1\" /><path clip-path=\"url(#clip520)\" d=\"M 0 0 M2126.16 148.878 L2126.16 134.85 L2130.41 134.85 L2130.41 170.869 L2126.16 170.869 L2126.16 166.98 Q2124.81 169.295 2122.75 170.429 Q2120.72 171.54 2117.85 171.54 Q2113.15 171.54 2110.18 167.79 Q2107.24 164.04 2107.24 157.929 Q2107.24 151.818 2110.18 148.068 Q2113.15 144.318 2117.85 144.318 Q2120.72 144.318 2122.75 145.452 Q2124.81 146.563 2126.16 148.878 M2111.64 157.929 Q2111.64 162.628 2113.56 165.313 Q2115.51 167.975 2118.89 167.975 Q2122.27 167.975 2124.21 165.313 Q2126.16 162.628 2126.16 157.929 Q2126.16 153.23 2124.21 150.568 Q2122.27 147.883 2118.89 147.883 Q2115.51 147.883 2113.56 150.568 Q2111.64 153.23 2111.64 157.929 Z\" fill=\"#000000\" fill-rule=\"evenodd\" fill-opacity=\"1\" /><path clip-path=\"url(#clip520)\" d=\"M 0 0 M2146.66 157.836 Q2141.5 157.836 2139.51 159.017 Q2137.52 160.197 2137.52 163.045 Q2137.52 165.313 2139 166.656 Q2140.51 167.975 2143.08 167.975 Q2146.62 167.975 2148.75 165.475 Q2150.9 162.952 2150.9 158.785 L2150.9 157.836 L2146.66 157.836 M2155.16 156.077 L2155.16 170.869 L2150.9 170.869 L2150.9 166.933 Q2149.44 169.295 2147.27 170.429 Q2145.09 171.54 2141.94 171.54 Q2137.96 171.54 2135.6 169.318 Q2133.26 167.072 2133.26 163.322 Q2133.26 158.947 2136.18 156.725 Q2139.12 154.503 2144.93 154.503 L2150.9 154.503 L2150.9 154.086 Q2150.9 151.147 2148.96 149.549 Q2147.04 147.929 2143.54 147.929 Q2141.32 147.929 2139.21 148.461 Q2137.1 148.994 2135.16 150.059 L2135.16 146.123 Q2137.5 145.221 2139.7 144.781 Q2141.9 144.318 2143.98 144.318 Q2149.6 144.318 2152.38 147.234 Q2155.16 150.151 2155.16 156.077 Z\" fill=\"#000000\" fill-rule=\"evenodd\" fill-opacity=\"1\" /><path clip-path=\"url(#clip520)\" d=\"M 0 0 M2163.84 137.582 L2163.84 144.943 L2172.61 144.943 L2172.61 148.253 L2163.84 148.253 L2163.84 162.327 Q2163.84 165.498 2164.7 166.401 Q2165.58 167.304 2168.24 167.304 L2172.61 167.304 L2172.61 170.869 L2168.24 170.869 Q2163.31 170.869 2161.43 169.04 Q2159.56 167.188 2159.56 162.327 L2159.56 148.253 L2156.43 148.253 L2156.43 144.943 L2159.56 144.943 L2159.56 137.582 L2163.84 137.582 Z\" fill=\"#000000\" fill-rule=\"evenodd\" fill-opacity=\"1\" /><path clip-path=\"url(#clip520)\" d=\"M 0 0 M2177.08 144.943 L2181.34 144.943 L2181.34 170.869 L2177.08 170.869 L2177.08 144.943 M2177.08 134.85 L2181.34 134.85 L2181.34 140.244 L2177.08 140.244 L2177.08 134.85 Z\" fill=\"#000000\" fill-rule=\"evenodd\" fill-opacity=\"1\" /><path clip-path=\"url(#clip520)\" d=\"M 0 0 M2195.85 147.929 Q2192.43 147.929 2190.44 150.614 Q2188.45 153.276 2188.45 157.929 Q2188.45 162.582 2190.41 165.267 Q2192.41 167.929 2195.85 167.929 Q2199.26 167.929 2201.25 165.244 Q2203.24 162.558 2203.24 157.929 Q2203.24 153.322 2201.25 150.637 Q2199.26 147.929 2195.85 147.929 M2195.85 144.318 Q2201.41 144.318 2204.58 147.929 Q2207.75 151.54 2207.75 157.929 Q2207.75 164.295 2204.58 167.929 Q2201.41 171.54 2195.85 171.54 Q2190.28 171.54 2187.1 167.929 Q2183.96 164.295 2183.96 157.929 Q2183.96 151.54 2187.1 147.929 Q2190.28 144.318 2195.85 144.318 Z\" fill=\"#000000\" fill-rule=\"evenodd\" fill-opacity=\"1\" /><path clip-path=\"url(#clip520)\" d=\"M 0 0 M2233.77 155.221 L2233.77 170.869 L2229.51 170.869 L2229.51 155.359 Q2229.51 151.679 2228.08 149.85 Q2226.64 148.022 2223.77 148.022 Q2220.32 148.022 2218.33 150.221 Q2216.34 152.42 2216.34 156.216 L2216.34 170.869 L2212.06 170.869 L2212.06 144.943 L2216.34 144.943 L2216.34 148.971 Q2217.87 146.633 2219.93 145.475 Q2222.01 144.318 2224.72 144.318 Q2229.19 144.318 2231.48 147.096 Q2233.77 149.85 2233.77 155.221 Z\" fill=\"#000000\" fill-rule=\"evenodd\" fill-opacity=\"1\" /><polyline clip-path=\"url(#clip520)\" style=\"stroke:#e26f46; stroke-width:4; stroke-opacity:1; fill:none\" points=\"\n",
       "  1867.86,214.069 2010.65,214.069 \n",
       "  \"/>\n",
       "<path clip-path=\"url(#clip520)\" d=\"M 0 0 M2034.44 196.789 L2063.68 196.789 L2063.68 200.724 L2051.41 200.724 L2051.41 231.349 L2046.71 231.349 L2046.71 200.724 L2034.44 200.724 L2034.44 196.789 Z\" fill=\"#000000\" fill-rule=\"evenodd\" fill-opacity=\"1\" /><path clip-path=\"url(#clip520)\" d=\"M 0 0 M2076.2 209.404 Q2075.48 208.988 2074.63 208.802 Q2073.79 208.594 2072.78 208.594 Q2069.17 208.594 2067.22 210.955 Q2065.3 213.293 2065.3 217.691 L2065.3 231.349 L2061.02 231.349 L2061.02 205.423 L2065.3 205.423 L2065.3 209.451 Q2066.64 207.089 2068.79 205.955 Q2070.95 204.798 2074.03 204.798 Q2074.47 204.798 2075 204.867 Q2075.53 204.914 2076.18 205.029 L2076.2 209.404 Z\" fill=\"#000000\" fill-rule=\"evenodd\" fill-opacity=\"1\" /><path clip-path=\"url(#clip520)\" d=\"M 0 0 M2092.45 218.316 Q2087.29 218.316 2085.3 219.497 Q2083.31 220.677 2083.31 223.525 Q2083.31 225.793 2084.79 227.136 Q2086.29 228.455 2088.86 228.455 Q2092.41 228.455 2094.54 225.955 Q2096.69 223.432 2096.69 219.265 L2096.69 218.316 L2092.45 218.316 M2100.95 216.557 L2100.95 231.349 L2096.69 231.349 L2096.69 227.413 Q2095.23 229.775 2093.05 230.909 Q2090.88 232.02 2087.73 232.02 Q2083.75 232.02 2081.39 229.798 Q2079.05 227.552 2079.05 223.802 Q2079.05 219.427 2081.97 217.205 Q2084.91 214.983 2090.72 214.983 L2096.69 214.983 L2096.69 214.566 Q2096.69 211.627 2094.74 210.029 Q2092.82 208.409 2089.33 208.409 Q2087.1 208.409 2085 208.941 Q2082.89 209.474 2080.95 210.539 L2080.95 206.603 Q2083.29 205.701 2085.48 205.261 Q2087.68 204.798 2089.77 204.798 Q2095.39 204.798 2098.17 207.714 Q2100.95 210.631 2100.95 216.557 Z\" fill=\"#000000\" fill-rule=\"evenodd\" fill-opacity=\"1\" /><path clip-path=\"url(#clip520)\" d=\"M 0 0 M2105.41 205.423 L2109.67 205.423 L2109.67 231.349 L2105.41 231.349 L2105.41 205.423 M2105.41 195.33 L2109.67 195.33 L2109.67 200.724 L2105.41 200.724 L2105.41 195.33 Z\" fill=\"#000000\" fill-rule=\"evenodd\" fill-opacity=\"1\" /><path clip-path=\"url(#clip520)\" d=\"M 0 0 M2135.69 215.701 L2135.69 231.349 L2131.43 231.349 L2131.43 215.839 Q2131.43 212.159 2130 210.33 Q2128.56 208.502 2125.69 208.502 Q2122.24 208.502 2120.25 210.701 Q2118.26 212.9 2118.26 216.696 L2118.26 231.349 L2113.98 231.349 L2113.98 205.423 L2118.26 205.423 L2118.26 209.451 Q2119.79 207.113 2121.85 205.955 Q2123.93 204.798 2126.64 204.798 Q2131.11 204.798 2133.4 207.576 Q2135.69 210.33 2135.69 215.701 Z\" fill=\"#000000\" fill-rule=\"evenodd\" fill-opacity=\"1\" /><path clip-path=\"url(#clip520)\" d=\"M 0 0 M2140.16 205.423 L2144.42 205.423 L2144.42 231.349 L2140.16 231.349 L2140.16 205.423 M2140.16 195.33 L2144.42 195.33 L2144.42 200.724 L2140.16 200.724 L2140.16 195.33 Z\" fill=\"#000000\" fill-rule=\"evenodd\" fill-opacity=\"1\" /><path clip-path=\"url(#clip520)\" d=\"M 0 0 M2170.44 215.701 L2170.44 231.349 L2166.18 231.349 L2166.18 215.839 Q2166.18 212.159 2164.74 210.33 Q2163.31 208.502 2160.44 208.502 Q2156.99 208.502 2155 210.701 Q2153.01 212.9 2153.01 216.696 L2153.01 231.349 L2148.72 231.349 L2148.72 205.423 L2153.01 205.423 L2153.01 209.451 Q2154.54 207.113 2156.6 205.955 Q2158.68 204.798 2161.39 204.798 Q2165.85 204.798 2168.15 207.576 Q2170.44 210.33 2170.44 215.701 Z\" fill=\"#000000\" fill-rule=\"evenodd\" fill-opacity=\"1\" /><path clip-path=\"url(#clip520)\" d=\"M 0 0 M2191.97 218.085 Q2191.97 213.455 2190.04 210.909 Q2188.15 208.363 2184.7 208.363 Q2181.27 208.363 2179.35 210.909 Q2177.45 213.455 2177.45 218.085 Q2177.45 222.691 2179.35 225.238 Q2181.27 227.784 2184.7 227.784 Q2188.15 227.784 2190.04 225.238 Q2191.97 222.691 2191.97 218.085 M2196.22 228.131 Q2196.22 234.751 2193.28 237.969 Q2190.35 241.21 2184.28 241.21 Q2182.03 241.21 2180.04 240.862 Q2178.05 240.538 2176.18 239.844 L2176.18 235.7 Q2178.05 236.719 2179.88 237.205 Q2181.71 237.691 2183.61 237.691 Q2187.8 237.691 2189.88 235.492 Q2191.97 233.316 2191.97 228.895 L2191.97 226.788 Q2190.65 229.08 2188.59 230.214 Q2186.53 231.349 2183.66 231.349 Q2178.89 231.349 2175.97 227.714 Q2173.05 224.08 2173.05 218.085 Q2173.05 212.066 2175.97 208.432 Q2178.89 204.798 2183.66 204.798 Q2186.53 204.798 2188.59 205.932 Q2190.65 207.066 2191.97 209.358 L2191.97 205.423 L2196.22 205.423 L2196.22 228.131 Z\" fill=\"#000000\" fill-rule=\"evenodd\" fill-opacity=\"1\" /></svg>\n"
      ]
     },
     "execution_count": 46,
     "metadata": {},
     "output_type": "execute_result"
    }
   ],
   "source": [
    "plot(curve.parameter_values,\n",
    "     curve.measurements,\n",
    "     xlab=curve.parameter_name,\n",
    "     ylab=\"Cross Entropy\",\n",
    "     label=\"Validation\", lw=2)\n",
    "plot!(Net2.report.training_losses, label=\"Training\", lw=2)"
   ]
  },
  {
   "cell_type": "code",
   "execution_count": 47,
   "metadata": {},
   "outputs": [
    {
     "data": {
      "text/plain": [
       "(0.00032, 0.64077)"
      ]
     },
     "execution_count": 47,
     "metadata": {},
     "output_type": "execute_result"
    }
   ],
   "source": [
    "a = round(nn2.optimiser.eta, digits=5)\n",
    "b = round(minimum(curve.measurements), digits=5)\n",
    "a,b"
   ]
  },
  {
   "cell_type": "code",
   "execution_count": 38,
   "metadata": {},
   "outputs": [],
   "source": [
    "fn = \"Figures/LearningCurve_NN_hidden:$(layer1)_epochs:$(nn2.epochs)_lr:$(a)_loss:$(b)_labmda:$(nn2.lambda)\"\n",
    "png(replace(fn,'.' => ','))"
   ]
  },
  {
   "cell_type": "code",
   "execution_count": null,
   "metadata": {},
   "outputs": [],
   "source": []
  },
  {
   "cell_type": "markdown",
   "metadata": {},
   "source": [
    "### GridSearch for Hidden Layer Size"
   ]
  },
  {
   "cell_type": "code",
   "execution_count": 57,
   "metadata": {},
   "outputs": [
    {
     "data": {
      "text/plain": [
       "MLJBase.NumericRange(Int64, :(builder.n1), ... )"
      ]
     },
     "execution_count": 57,
     "metadata": {},
     "output_type": "execute_result"
    }
   ],
   "source": [
    "param1 = :epochs\n",
    "param2 = :(builder.n1)\n",
    "\n",
    "r1 = range(nn2, param1, lower=10, upper=3000, scale=:log10)\n",
    "r2 = range(nn2, param2, lower=1, upper=100, scale=:linear)"
   ]
  },
  {
   "cell_type": "code",
   "execution_count": 62,
   "metadata": {
    "scrolled": true
   },
   "outputs": [
    {
     "data": {
      "text/plain": [
       "ProbabilisticTunedModel(\n",
       "    model = NeuralNetworkClassifier(\n",
       "            builder = \u001b[34mCustomNN @951\u001b[39m,\n",
       "            finaliser = NNlib.softmax,\n",
       "            optimiser = ADAM(0.00032, (0.9, 0.999), IdDict{Any,Any}()),\n",
       "            loss = Flux.crossentropy,\n",
       "            epochs = 2000,\n",
       "            batch_size = 16,\n",
       "            lambda = 0.0021544346900318843,\n",
       "            alpha = 0.0,\n",
       "            optimiser_changes_trigger_retraining = false),\n",
       "    tuning = Grid(\n",
       "            goal = 64,\n",
       "            resolution = 10,\n",
       "            shuffle = true,\n",
       "            rng = Random._GLOBAL_RNG()),\n",
       "    resampling = Holdout(\n",
       "            fraction_train = 0.7,\n",
       "            shuffle = false,\n",
       "            rng = Random._GLOBAL_RNG()),\n",
       "    measure = cross_entropy(\n",
       "            eps = 2.220446049250313e-16),\n",
       "    weights = nothing,\n",
       "    operation = MLJModelInterface.predict,\n",
       "    range = MLJBase.NumericRange{Int64,MLJBase.Bounded,Symbol}[\u001b[34mNumericRange{Int64,…} @450\u001b[39m, \u001b[34mNumericRange{Int64,…} @524\u001b[39m],\n",
       "    train_best = true,\n",
       "    repeats = 1,\n",
       "    n = nothing,\n",
       "    acceleration = CPUThreads{Int64}(1),\n",
       "    acceleration_resampling = CPU1{Nothing}(nothing),\n",
       "    check_measure = true)\u001b[34m @905\u001b[39m"
      ]
     },
     "execution_count": 62,
     "metadata": {},
     "output_type": "execute_result"
    }
   ],
   "source": [
    "self_tuning_nn_model = TunedModel(model=nn2,\n",
    "                                    tuning=Grid(goal=64),\n",
    "                                    resampling=Holdout(fraction_train=0.7), \n",
    "                                    measure=cross_entropy,\n",
    "                                    acceleration=CPUThreads(),\n",
    "                                    range=[r1, r2])"
   ]
  },
  {
   "cell_type": "code",
   "execution_count": 63,
   "metadata": {},
   "outputs": [
    {
     "data": {
      "text/plain": [
       "\u001b[34mMachine{ProbabilisticTunedModel{Grid,…}} @423\u001b[39m trained 0 times.\n",
       "  args: \n",
       "    1:\t\u001b[34mSource @193\u001b[39m ⏎ `Table{AbstractArray{Continuous,1}}`\n",
       "    2:\t\u001b[34mSource @657\u001b[39m ⏎ `AbstractArray{Multiclass{3},1}`\n"
      ]
     },
     "execution_count": 63,
     "metadata": {},
     "output_type": "execute_result"
    }
   ],
   "source": [
    "self_tuning_nn = machine(self_tuning_nn_model, X_stand, y)"
   ]
  },
  {
   "cell_type": "code",
   "execution_count": 64,
   "metadata": {},
   "outputs": [
    {
     "name": "stderr",
     "output_type": "stream",
     "text": [
      "┌ Info: Training \u001b[34mMachine{ProbabilisticTunedModel{Grid,…}} @423\u001b[39m.\n",
      "└ @ MLJBase /home/andrew/.julia/packages/MLJBase/uKzAz/src/machines.jl:319\n",
      "┌ Info: Attempting to evaluate 64 models.\n",
      "└ @ MLJTuning /home/andrew/.julia/packages/MLJTuning/Bbgvk/src/tuned_models.jl:494\n",
      "\u001b[33mEvaluating over 64 metamodels: 100%[=========================] Time: 0:01:52\u001b[39m\n"
     ]
    },
    {
     "data": {
      "text/plain": [
       "\u001b[34mMachine{ProbabilisticTunedModel{Grid,…}} @423\u001b[39m trained 1 time.\n",
       "  args: \n",
       "    1:\t\u001b[34mSource @193\u001b[39m ⏎ `Table{AbstractArray{Continuous,1}}`\n",
       "    2:\t\u001b[34mSource @657\u001b[39m ⏎ `AbstractArray{Multiclass{3},1}`\n"
      ]
     },
     "execution_count": 64,
     "metadata": {},
     "output_type": "execute_result"
    }
   ],
   "source": [
    "z = fit!(self_tuning_nn, rows=train)"
   ]
  },
  {
   "cell_type": "code",
   "execution_count": 65,
   "metadata": {
    "scrolled": false
   },
   "outputs": [
    {
     "data": {
      "image/svg+xml": [
       "<?xml version=\"1.0\" encoding=\"utf-8\"?>\n",
       "<svg xmlns=\"http://www.w3.org/2000/svg\" xmlns:xlink=\"http://www.w3.org/1999/xlink\" width=\"600\" height=\"400\" viewBox=\"0 0 2400 1600\">\n",
       "<defs>\n",
       "  <clipPath id=\"clip640\">\n",
       "    <rect x=\"0\" y=\"0\" width=\"2400\" height=\"1600\"/>\n",
       "  </clipPath>\n",
       "</defs>\n",
       "<path clip-path=\"url(#clip640)\" d=\"\n",
       "M0 1600 L2400 1600 L2400 0 L0 0  Z\n",
       "  \" fill=\"#ffffff\" fill-rule=\"evenodd\" fill-opacity=\"1\"/>\n",
       "<defs>\n",
       "  <clipPath id=\"clip641\">\n",
       "    <rect x=\"480\" y=\"0\" width=\"1681\" height=\"1600\"/>\n",
       "  </clipPath>\n",
       "</defs>\n",
       "<path clip-path=\"url(#clip640)\" d=\"\n",
       "M224.866 1410.9 L2112.76 1410.9 L2112.76 47.2441 L224.866 47.2441  Z\n",
       "  \" fill=\"#ffffff\" fill-rule=\"evenodd\" fill-opacity=\"1\"/>\n",
       "<defs>\n",
       "  <clipPath id=\"clip642\">\n",
       "    <rect x=\"224\" y=\"47\" width=\"1889\" height=\"1365\"/>\n",
       "  </clipPath>\n",
       "</defs>\n",
       "<polyline clip-path=\"url(#clip642)\" style=\"stroke:#000000; stroke-width:2; stroke-opacity:0.1; fill:none\" points=\"\n",
       "  278.297,1410.9 278.297,47.2441 \n",
       "  \"/>\n",
       "<polyline clip-path=\"url(#clip642)\" style=\"stroke:#000000; stroke-width:2; stroke-opacity:0.1; fill:none\" points=\"\n",
       "  637.793,1410.9 637.793,47.2441 \n",
       "  \"/>\n",
       "<polyline clip-path=\"url(#clip642)\" style=\"stroke:#000000; stroke-width:2; stroke-opacity:0.1; fill:none\" points=\"\n",
       "  997.288,1410.9 997.288,47.2441 \n",
       "  \"/>\n",
       "<polyline clip-path=\"url(#clip642)\" style=\"stroke:#000000; stroke-width:2; stroke-opacity:0.1; fill:none\" points=\"\n",
       "  1356.78,1410.9 1356.78,47.2441 \n",
       "  \"/>\n",
       "<polyline clip-path=\"url(#clip642)\" style=\"stroke:#000000; stroke-width:2; stroke-opacity:0.1; fill:none\" points=\"\n",
       "  1716.28,1410.9 1716.28,47.2441 \n",
       "  \"/>\n",
       "<polyline clip-path=\"url(#clip642)\" style=\"stroke:#000000; stroke-width:2; stroke-opacity:0.1; fill:none\" points=\"\n",
       "  2075.77,1410.9 2075.77,47.2441 \n",
       "  \"/>\n",
       "<polyline clip-path=\"url(#clip642)\" style=\"stroke:#000000; stroke-width:2; stroke-opacity:0.1; fill:none\" points=\"\n",
       "  224.866,1385.3 2112.76,1385.3 \n",
       "  \"/>\n",
       "<polyline clip-path=\"url(#clip642)\" style=\"stroke:#000000; stroke-width:2; stroke-opacity:0.1; fill:none\" points=\"\n",
       "  224.866,1060.43 2112.76,1060.43 \n",
       "  \"/>\n",
       "<polyline clip-path=\"url(#clip642)\" style=\"stroke:#000000; stroke-width:2; stroke-opacity:0.1; fill:none\" points=\"\n",
       "  224.866,735.568 2112.76,735.568 \n",
       "  \"/>\n",
       "<polyline clip-path=\"url(#clip642)\" style=\"stroke:#000000; stroke-width:2; stroke-opacity:0.1; fill:none\" points=\"\n",
       "  224.866,410.703 2112.76,410.703 \n",
       "  \"/>\n",
       "<polyline clip-path=\"url(#clip642)\" style=\"stroke:#000000; stroke-width:2; stroke-opacity:0.1; fill:none\" points=\"\n",
       "  224.866,85.838 2112.76,85.838 \n",
       "  \"/>\n",
       "<polyline clip-path=\"url(#clip640)\" style=\"stroke:#000000; stroke-width:4; stroke-opacity:1; fill:none\" points=\"\n",
       "  224.866,1410.9 2112.76,1410.9 \n",
       "  \"/>\n",
       "<polyline clip-path=\"url(#clip640)\" style=\"stroke:#000000; stroke-width:4; stroke-opacity:1; fill:none\" points=\"\n",
       "  224.866,1410.9 224.866,47.2441 \n",
       "  \"/>\n",
       "<polyline clip-path=\"url(#clip640)\" style=\"stroke:#000000; stroke-width:4; stroke-opacity:1; fill:none\" points=\"\n",
       "  278.297,1410.9 278.297,1394.53 \n",
       "  \"/>\n",
       "<polyline clip-path=\"url(#clip640)\" style=\"stroke:#000000; stroke-width:4; stroke-opacity:1; fill:none\" points=\"\n",
       "  637.793,1410.9 637.793,1394.53 \n",
       "  \"/>\n",
       "<polyline clip-path=\"url(#clip640)\" style=\"stroke:#000000; stroke-width:4; stroke-opacity:1; fill:none\" points=\"\n",
       "  997.288,1410.9 997.288,1394.53 \n",
       "  \"/>\n",
       "<polyline clip-path=\"url(#clip640)\" style=\"stroke:#000000; stroke-width:4; stroke-opacity:1; fill:none\" points=\"\n",
       "  1356.78,1410.9 1356.78,1394.53 \n",
       "  \"/>\n",
       "<polyline clip-path=\"url(#clip640)\" style=\"stroke:#000000; stroke-width:4; stroke-opacity:1; fill:none\" points=\"\n",
       "  1716.28,1410.9 1716.28,1394.53 \n",
       "  \"/>\n",
       "<polyline clip-path=\"url(#clip640)\" style=\"stroke:#000000; stroke-width:4; stroke-opacity:1; fill:none\" points=\"\n",
       "  2075.77,1410.9 2075.77,1394.53 \n",
       "  \"/>\n",
       "<polyline clip-path=\"url(#clip640)\" style=\"stroke:#000000; stroke-width:4; stroke-opacity:1; fill:none\" points=\"\n",
       "  224.866,1385.3 247.521,1385.3 \n",
       "  \"/>\n",
       "<polyline clip-path=\"url(#clip640)\" style=\"stroke:#000000; stroke-width:4; stroke-opacity:1; fill:none\" points=\"\n",
       "  224.866,1060.43 247.521,1060.43 \n",
       "  \"/>\n",
       "<polyline clip-path=\"url(#clip640)\" style=\"stroke:#000000; stroke-width:4; stroke-opacity:1; fill:none\" points=\"\n",
       "  224.866,735.568 247.521,735.568 \n",
       "  \"/>\n",
       "<polyline clip-path=\"url(#clip640)\" style=\"stroke:#000000; stroke-width:4; stroke-opacity:1; fill:none\" points=\"\n",
       "  224.866,410.703 247.521,410.703 \n",
       "  \"/>\n",
       "<polyline clip-path=\"url(#clip640)\" style=\"stroke:#000000; stroke-width:4; stroke-opacity:1; fill:none\" points=\"\n",
       "  224.866,85.838 247.521,85.838 \n",
       "  \"/>\n",
       "<path clip-path=\"url(#clip640)\" d=\"M 0 0 M231.794 1481.97 L239.433 1481.97 L239.433 1455.6 L231.123 1457.27 L231.123 1453.01 L239.387 1451.34 L244.063 1451.34 L244.063 1481.97 L251.701 1481.97 L251.701 1485.9 L231.794 1485.9 L231.794 1481.97 Z\" fill=\"#000000\" fill-rule=\"evenodd\" fill-opacity=\"1\" /><path clip-path=\"url(#clip640)\" d=\"M 0 0 M266.771 1454.42 Q263.16 1454.42 261.331 1457.99 Q259.525 1461.53 259.525 1468.66 Q259.525 1475.77 261.331 1479.33 Q263.16 1482.87 266.771 1482.87 Q270.405 1482.87 272.211 1479.33 Q274.039 1475.77 274.039 1468.66 Q274.039 1461.53 272.211 1457.99 Q270.405 1454.42 266.771 1454.42 M266.771 1450.72 Q272.581 1450.72 275.637 1455.33 Q278.715 1459.91 278.715 1468.66 Q278.715 1477.39 275.637 1481.99 Q272.581 1486.58 266.771 1486.58 Q260.961 1486.58 257.882 1481.99 Q254.826 1477.39 254.826 1468.66 Q254.826 1459.91 257.882 1455.33 Q260.961 1450.72 266.771 1450.72 Z\" fill=\"#000000\" fill-rule=\"evenodd\" fill-opacity=\"1\" /><path clip-path=\"url(#clip640)\" d=\"M 0 0 M279.261 1455.3 L285.467 1455.3 L285.467 1433.87 L278.715 1435.23 L278.715 1431.77 L285.43 1430.41 L289.229 1430.41 L289.229 1455.3 L295.435 1455.3 L295.435 1458.49 L279.261 1458.49 L279.261 1455.3 Z\" fill=\"#000000\" fill-rule=\"evenodd\" fill-opacity=\"1\" /><path clip-path=\"url(#clip640)\" d=\"M 0 0 M299.554 1453.72 L303.523 1453.72 L303.523 1458.49 L299.554 1458.49 L299.554 1453.72 Z\" fill=\"#000000\" fill-rule=\"evenodd\" fill-opacity=\"1\" /><path clip-path=\"url(#clip640)\" d=\"M 0 0 M315.766 1432.91 Q312.832 1432.91 311.347 1435.81 Q309.88 1438.69 309.88 1444.48 Q309.88 1450.26 311.347 1453.15 Q312.832 1456.03 315.766 1456.03 Q318.719 1456.03 320.186 1453.15 Q321.672 1450.26 321.672 1444.48 Q321.672 1438.69 320.186 1435.81 Q318.719 1432.91 315.766 1432.91 M315.766 1429.91 Q320.487 1429.91 322.97 1433.65 Q325.471 1437.37 325.471 1444.48 Q325.471 1451.57 322.97 1455.31 Q320.487 1459.04 315.766 1459.04 Q311.046 1459.04 308.544 1455.31 Q306.062 1451.57 306.062 1444.48 Q306.062 1437.37 308.544 1433.65 Q311.046 1429.91 315.766 1429.91 Z\" fill=\"#000000\" fill-rule=\"evenodd\" fill-opacity=\"1\" /><path clip-path=\"url(#clip640)\" d=\"M 0 0 M591.694 1481.97 L599.333 1481.97 L599.333 1455.6 L591.023 1457.27 L591.023 1453.01 L599.287 1451.34 L603.962 1451.34 L603.962 1481.97 L611.601 1481.97 L611.601 1485.9 L591.694 1485.9 L591.694 1481.97 Z\" fill=\"#000000\" fill-rule=\"evenodd\" fill-opacity=\"1\" /><path clip-path=\"url(#clip640)\" d=\"M 0 0 M626.671 1454.42 Q623.06 1454.42 621.231 1457.99 Q619.425 1461.53 619.425 1468.66 Q619.425 1475.77 621.231 1479.33 Q623.06 1482.87 626.671 1482.87 Q630.305 1482.87 632.11 1479.33 Q633.939 1475.77 633.939 1468.66 Q633.939 1461.53 632.11 1457.99 Q630.305 1454.42 626.671 1454.42 M626.671 1450.72 Q632.481 1450.72 635.536 1455.33 Q638.615 1459.91 638.615 1468.66 Q638.615 1477.39 635.536 1481.99 Q632.481 1486.58 626.671 1486.58 Q620.861 1486.58 617.782 1481.99 Q614.726 1477.39 614.726 1468.66 Q614.726 1459.91 617.782 1455.33 Q620.861 1450.72 626.671 1450.72 Z\" fill=\"#000000\" fill-rule=\"evenodd\" fill-opacity=\"1\" /><path clip-path=\"url(#clip640)\" d=\"M 0 0 M639.161 1455.3 L645.367 1455.3 L645.367 1433.87 L638.615 1435.23 L638.615 1431.77 L645.329 1430.41 L649.129 1430.41 L649.129 1455.3 L655.335 1455.3 L655.335 1458.49 L639.161 1458.49 L639.161 1455.3 Z\" fill=\"#000000\" fill-rule=\"evenodd\" fill-opacity=\"1\" /><path clip-path=\"url(#clip640)\" d=\"M 0 0 M659.454 1453.72 L663.423 1453.72 L663.423 1458.49 L659.454 1458.49 L659.454 1453.72 Z\" fill=\"#000000\" fill-rule=\"evenodd\" fill-opacity=\"1\" /><path clip-path=\"url(#clip640)\" d=\"M 0 0 M667.579 1430.41 L682.494 1430.41 L682.494 1433.61 L671.058 1433.61 L671.058 1440.49 Q671.886 1440.21 672.714 1440.08 Q673.541 1439.93 674.369 1439.93 Q679.071 1439.93 681.817 1442.51 Q684.562 1445.08 684.562 1449.48 Q684.562 1454.02 681.741 1456.54 Q678.92 1459.04 673.786 1459.04 Q672.018 1459.04 670.175 1458.74 Q668.35 1458.44 666.394 1457.84 L666.394 1454.02 Q668.087 1454.94 669.892 1455.39 Q671.698 1455.84 673.71 1455.84 Q676.964 1455.84 678.864 1454.13 Q680.763 1452.42 680.763 1449.48 Q680.763 1446.55 678.864 1444.84 Q676.964 1443.13 673.71 1443.13 Q672.187 1443.13 670.664 1443.47 Q669.159 1443.8 667.579 1444.52 L667.579 1430.41 Z\" fill=\"#000000\" fill-rule=\"evenodd\" fill-opacity=\"1\" /><path clip-path=\"url(#clip640)\" d=\"M 0 0 M950.23 1481.97 L957.869 1481.97 L957.869 1455.6 L949.559 1457.27 L949.559 1453.01 L957.823 1451.34 L962.499 1451.34 L962.499 1481.97 L970.138 1481.97 L970.138 1485.9 L950.23 1485.9 L950.23 1481.97 Z\" fill=\"#000000\" fill-rule=\"evenodd\" fill-opacity=\"1\" /><path clip-path=\"url(#clip640)\" d=\"M 0 0 M985.207 1454.42 Q981.596 1454.42 979.767 1457.99 Q977.962 1461.53 977.962 1468.66 Q977.962 1475.77 979.767 1479.33 Q981.596 1482.87 985.207 1482.87 Q988.841 1482.87 990.647 1479.33 Q992.475 1475.77 992.475 1468.66 Q992.475 1461.53 990.647 1457.99 Q988.841 1454.42 985.207 1454.42 M985.207 1450.72 Q991.017 1450.72 994.073 1455.33 Q997.151 1459.91 997.151 1468.66 Q997.151 1477.39 994.073 1481.99 Q991.017 1486.58 985.207 1486.58 Q979.397 1486.58 976.318 1481.99 Q973.263 1477.39 973.263 1468.66 Q973.263 1459.91 976.318 1455.33 Q979.397 1450.72 985.207 1450.72 Z\" fill=\"#000000\" fill-rule=\"evenodd\" fill-opacity=\"1\" /><path clip-path=\"url(#clip640)\" d=\"M 0 0 M1001.72 1455.3 L1014.98 1455.3 L1014.98 1458.49 L997.151 1458.49 L997.151 1455.3 Q999.314 1453.06 1003.04 1449.3 Q1006.78 1445.52 1007.74 1444.43 Q1009.56 1442.38 1010.28 1440.96 Q1011.01 1439.54 1011.01 1438.16 Q1011.01 1435.92 1009.43 1434.51 Q1007.87 1433.1 1005.35 1433.1 Q1003.56 1433.1 1001.57 1433.72 Q999.596 1434.34 997.339 1435.6 L997.339 1431.77 Q999.634 1430.85 1001.63 1430.38 Q1003.62 1429.91 1005.28 1429.91 Q1009.64 1429.91 1012.24 1432.09 Q1014.83 1434.27 1014.83 1437.92 Q1014.83 1439.65 1014.17 1441.21 Q1013.53 1442.75 1011.82 1444.86 Q1011.35 1445.4 1008.83 1448.02 Q1006.31 1450.61 1001.72 1455.3 Z\" fill=\"#000000\" fill-rule=\"evenodd\" fill-opacity=\"1\" /><path clip-path=\"url(#clip640)\" d=\"M 0 0 M1019.1 1453.72 L1023.07 1453.72 L1023.07 1458.49 L1019.1 1458.49 L1019.1 1453.72 Z\" fill=\"#000000\" fill-rule=\"evenodd\" fill-opacity=\"1\" /><path clip-path=\"url(#clip640)\" d=\"M 0 0 M1035.31 1432.91 Q1032.38 1432.91 1030.89 1435.81 Q1029.43 1438.69 1029.43 1444.48 Q1029.43 1450.26 1030.89 1453.15 Q1032.38 1456.03 1035.31 1456.03 Q1038.27 1456.03 1039.73 1453.15 Q1041.22 1450.26 1041.22 1444.48 Q1041.22 1438.69 1039.73 1435.81 Q1038.27 1432.91 1035.31 1432.91 M1035.31 1429.91 Q1040.03 1429.91 1042.52 1433.65 Q1045.02 1437.37 1045.02 1444.48 Q1045.02 1451.57 1042.52 1455.31 Q1040.03 1459.04 1035.31 1459.04 Q1030.59 1459.04 1028.09 1455.31 Q1025.61 1451.57 1025.61 1444.48 Q1025.61 1437.37 1028.09 1433.65 Q1030.59 1429.91 1035.31 1429.91 Z\" fill=\"#000000\" fill-rule=\"evenodd\" fill-opacity=\"1\" /><path clip-path=\"url(#clip640)\" d=\"M 0 0 M1310.13 1481.97 L1317.77 1481.97 L1317.77 1455.6 L1309.46 1457.27 L1309.46 1453.01 L1317.72 1451.34 L1322.4 1451.34 L1322.4 1481.97 L1330.04 1481.97 L1330.04 1485.9 L1310.13 1485.9 L1310.13 1481.97 Z\" fill=\"#000000\" fill-rule=\"evenodd\" fill-opacity=\"1\" /><path clip-path=\"url(#clip640)\" d=\"M 0 0 M1345.11 1454.42 Q1341.5 1454.42 1339.67 1457.99 Q1337.86 1461.53 1337.86 1468.66 Q1337.86 1475.77 1339.67 1479.33 Q1341.5 1482.87 1345.11 1482.87 Q1348.74 1482.87 1350.55 1479.33 Q1352.38 1475.77 1352.38 1468.66 Q1352.38 1461.53 1350.55 1457.99 Q1348.74 1454.42 1345.11 1454.42 M1345.11 1450.72 Q1350.92 1450.72 1353.97 1455.33 Q1357.05 1459.91 1357.05 1468.66 Q1357.05 1477.39 1353.97 1481.99 Q1350.92 1486.58 1345.11 1486.58 Q1339.3 1486.58 1336.22 1481.99 Q1333.16 1477.39 1333.16 1468.66 Q1333.16 1459.91 1336.22 1455.33 Q1339.3 1450.72 1345.11 1450.72 Z\" fill=\"#000000\" fill-rule=\"evenodd\" fill-opacity=\"1\" /><path clip-path=\"url(#clip640)\" d=\"M 0 0 M1361.62 1455.3 L1374.88 1455.3 L1374.88 1458.49 L1357.05 1458.49 L1357.05 1455.3 Q1359.21 1453.06 1362.94 1449.3 Q1366.68 1445.52 1367.64 1444.43 Q1369.46 1442.38 1370.18 1440.96 Q1370.91 1439.54 1370.91 1438.16 Q1370.91 1435.92 1369.33 1434.51 Q1367.77 1433.1 1365.25 1433.1 Q1363.46 1433.1 1361.47 1433.72 Q1359.5 1434.34 1357.24 1435.6 L1357.24 1431.77 Q1359.53 1430.85 1361.53 1430.38 Q1363.52 1429.91 1365.18 1429.91 Q1369.54 1429.91 1372.14 1432.09 Q1374.73 1434.27 1374.73 1437.92 Q1374.73 1439.65 1374.07 1441.21 Q1373.43 1442.75 1371.72 1444.86 Q1371.25 1445.4 1368.73 1448.02 Q1366.21 1450.61 1361.62 1455.3 Z\" fill=\"#000000\" fill-rule=\"evenodd\" fill-opacity=\"1\" /><path clip-path=\"url(#clip640)\" d=\"M 0 0 M1379 1453.72 L1382.97 1453.72 L1382.97 1458.49 L1379 1458.49 L1379 1453.72 Z\" fill=\"#000000\" fill-rule=\"evenodd\" fill-opacity=\"1\" /><path clip-path=\"url(#clip640)\" d=\"M 0 0 M1387.12 1430.41 L1402.04 1430.41 L1402.04 1433.61 L1390.6 1433.61 L1390.6 1440.49 Q1391.43 1440.21 1392.26 1440.08 Q1393.09 1439.93 1393.91 1439.93 Q1398.62 1439.93 1401.36 1442.51 Q1404.11 1445.08 1404.11 1449.48 Q1404.11 1454.02 1401.29 1456.54 Q1398.47 1459.04 1393.33 1459.04 Q1391.56 1459.04 1389.72 1458.74 Q1387.9 1458.44 1385.94 1457.84 L1385.94 1454.02 Q1387.63 1454.94 1389.44 1455.39 Q1391.24 1455.84 1393.26 1455.84 Q1396.51 1455.84 1398.41 1454.13 Q1400.31 1452.42 1400.31 1449.48 Q1400.31 1446.55 1398.41 1444.84 Q1396.51 1443.13 1393.26 1443.13 Q1391.73 1443.13 1390.21 1443.47 Q1388.7 1443.8 1387.12 1444.52 L1387.12 1430.41 Z\" fill=\"#000000\" fill-rule=\"evenodd\" fill-opacity=\"1\" /><path clip-path=\"url(#clip640)\" d=\"M 0 0 M1668.89 1481.97 L1676.53 1481.97 L1676.53 1455.6 L1668.22 1457.27 L1668.22 1453.01 L1676.48 1451.34 L1681.16 1451.34 L1681.16 1481.97 L1688.8 1481.97 L1688.8 1485.9 L1668.89 1485.9 L1668.89 1481.97 Z\" fill=\"#000000\" fill-rule=\"evenodd\" fill-opacity=\"1\" /><path clip-path=\"url(#clip640)\" d=\"M 0 0 M1703.87 1454.42 Q1700.26 1454.42 1698.43 1457.99 Q1696.62 1461.53 1696.62 1468.66 Q1696.62 1475.77 1698.43 1479.33 Q1700.26 1482.87 1703.87 1482.87 Q1707.5 1482.87 1709.31 1479.33 Q1711.14 1475.77 1711.14 1468.66 Q1711.14 1461.53 1709.31 1457.99 Q1707.5 1454.42 1703.87 1454.42 M1703.87 1450.72 Q1709.68 1450.72 1712.73 1455.33 Q1715.81 1459.91 1715.81 1468.66 Q1715.81 1477.39 1712.73 1481.99 Q1709.68 1486.58 1703.87 1486.58 Q1698.06 1486.58 1694.98 1481.99 Q1691.92 1477.39 1691.92 1468.66 Q1691.92 1459.91 1694.98 1455.33 Q1698.06 1450.72 1703.87 1450.72 Z\" fill=\"#000000\" fill-rule=\"evenodd\" fill-opacity=\"1\" /><path clip-path=\"url(#clip640)\" d=\"M 0 0 M1728.51 1443.35 Q1731.24 1443.94 1732.76 1445.78 Q1734.3 1447.62 1734.3 1450.33 Q1734.3 1454.49 1731.44 1456.76 Q1728.58 1459.04 1723.32 1459.04 Q1721.55 1459.04 1719.67 1458.68 Q1717.81 1458.34 1715.81 1457.65 L1715.81 1453.98 Q1717.39 1454.9 1719.27 1455.37 Q1721.15 1455.84 1723.2 1455.84 Q1726.78 1455.84 1728.64 1454.43 Q1730.52 1453.02 1730.52 1450.33 Q1730.52 1447.85 1728.77 1446.46 Q1727.04 1445.05 1723.94 1445.05 L1720.67 1445.05 L1720.67 1441.92 L1724.09 1441.92 Q1726.89 1441.92 1728.38 1440.81 Q1729.86 1439.69 1729.86 1437.58 Q1729.86 1435.42 1728.32 1434.27 Q1726.8 1433.1 1723.94 1433.1 Q1722.38 1433.1 1720.59 1433.44 Q1718.8 1433.78 1716.66 1434.49 L1716.66 1431.11 Q1718.82 1430.51 1720.7 1430.21 Q1722.6 1429.91 1724.28 1429.91 Q1728.6 1429.91 1731.12 1431.88 Q1733.64 1433.84 1733.64 1437.18 Q1733.64 1439.52 1732.31 1441.13 Q1730.97 1442.73 1728.51 1443.35 Z\" fill=\"#000000\" fill-rule=\"evenodd\" fill-opacity=\"1\" /><path clip-path=\"url(#clip640)\" d=\"M 0 0 M1738.42 1453.72 L1742.39 1453.72 L1742.39 1458.49 L1738.42 1458.49 L1738.42 1453.72 Z\" fill=\"#000000\" fill-rule=\"evenodd\" fill-opacity=\"1\" /><path clip-path=\"url(#clip640)\" d=\"M 0 0 M1754.63 1432.91 Q1751.7 1432.91 1750.21 1435.81 Q1748.75 1438.69 1748.75 1444.48 Q1748.75 1450.26 1750.21 1453.15 Q1751.7 1456.03 1754.63 1456.03 Q1757.59 1456.03 1759.05 1453.15 Q1760.54 1450.26 1760.54 1444.48 Q1760.54 1438.69 1759.05 1435.81 Q1757.59 1432.91 1754.63 1432.91 M1754.63 1429.91 Q1759.35 1429.91 1761.84 1433.65 Q1764.34 1437.37 1764.34 1444.48 Q1764.34 1451.57 1761.84 1455.31 Q1759.35 1459.04 1754.63 1459.04 Q1749.91 1459.04 1747.41 1455.31 Q1744.93 1451.57 1744.93 1444.48 Q1744.93 1437.37 1747.41 1433.65 Q1749.91 1429.91 1754.63 1429.91 Z\" fill=\"#000000\" fill-rule=\"evenodd\" fill-opacity=\"1\" /><path clip-path=\"url(#clip640)\" d=\"M 0 0 M2028.79 1481.97 L2036.43 1481.97 L2036.43 1455.6 L2028.12 1457.27 L2028.12 1453.01 L2036.38 1451.34 L2041.06 1451.34 L2041.06 1481.97 L2048.7 1481.97 L2048.7 1485.9 L2028.79 1485.9 L2028.79 1481.97 Z\" fill=\"#000000\" fill-rule=\"evenodd\" fill-opacity=\"1\" /><path clip-path=\"url(#clip640)\" d=\"M 0 0 M2063.77 1454.42 Q2060.16 1454.42 2058.33 1457.99 Q2056.52 1461.53 2056.52 1468.66 Q2056.52 1475.77 2058.33 1479.33 Q2060.16 1482.87 2063.77 1482.87 Q2067.4 1482.87 2069.21 1479.33 Q2071.04 1475.77 2071.04 1468.66 Q2071.04 1461.53 2069.21 1457.99 Q2067.4 1454.42 2063.77 1454.42 M2063.77 1450.72 Q2069.58 1450.72 2072.63 1455.33 Q2075.71 1459.91 2075.71 1468.66 Q2075.71 1477.39 2072.63 1481.99 Q2069.58 1486.58 2063.77 1486.58 Q2057.96 1486.58 2054.88 1481.99 Q2051.82 1477.39 2051.82 1468.66 Q2051.82 1459.91 2054.88 1455.33 Q2057.96 1450.72 2063.77 1450.72 Z\" fill=\"#000000\" fill-rule=\"evenodd\" fill-opacity=\"1\" /><path clip-path=\"url(#clip640)\" d=\"M 0 0 M2088.41 1443.35 Q2091.14 1443.94 2092.66 1445.78 Q2094.2 1447.62 2094.2 1450.33 Q2094.2 1454.49 2091.34 1456.76 Q2088.48 1459.04 2083.22 1459.04 Q2081.45 1459.04 2079.57 1458.68 Q2077.71 1458.34 2075.71 1457.65 L2075.71 1453.98 Q2077.29 1454.9 2079.17 1455.37 Q2081.05 1455.84 2083.1 1455.84 Q2086.68 1455.84 2088.54 1454.43 Q2090.42 1453.02 2090.42 1450.33 Q2090.42 1447.85 2088.67 1446.46 Q2086.94 1445.05 2083.84 1445.05 L2080.57 1445.05 L2080.57 1441.92 L2083.99 1441.92 Q2086.79 1441.92 2088.28 1440.81 Q2089.76 1439.69 2089.76 1437.58 Q2089.76 1435.42 2088.22 1434.27 Q2086.7 1433.1 2083.84 1433.1 Q2082.28 1433.1 2080.49 1433.44 Q2078.7 1433.78 2076.56 1434.49 L2076.56 1431.11 Q2078.72 1430.51 2080.6 1430.21 Q2082.5 1429.91 2084.18 1429.91 Q2088.5 1429.91 2091.02 1431.88 Q2093.54 1433.84 2093.54 1437.18 Q2093.54 1439.52 2092.21 1441.13 Q2090.87 1442.73 2088.41 1443.35 Z\" fill=\"#000000\" fill-rule=\"evenodd\" fill-opacity=\"1\" /><path clip-path=\"url(#clip640)\" d=\"M 0 0 M2098.32 1453.72 L2102.29 1453.72 L2102.29 1458.49 L2098.32 1458.49 L2098.32 1453.72 Z\" fill=\"#000000\" fill-rule=\"evenodd\" fill-opacity=\"1\" /><path clip-path=\"url(#clip640)\" d=\"M 0 0 M2106.45 1430.41 L2121.36 1430.41 L2121.36 1433.61 L2109.92 1433.61 L2109.92 1440.49 Q2110.75 1440.21 2111.58 1440.08 Q2112.41 1439.93 2113.23 1439.93 Q2117.94 1439.93 2120.68 1442.51 Q2123.43 1445.08 2123.43 1449.48 Q2123.43 1454.02 2120.61 1456.54 Q2117.79 1459.04 2112.65 1459.04 Q2110.88 1459.04 2109.04 1458.74 Q2107.22 1458.44 2105.26 1457.84 L2105.26 1454.02 Q2106.95 1454.94 2108.76 1455.39 Q2110.56 1455.84 2112.58 1455.84 Q2115.83 1455.84 2117.73 1454.13 Q2119.63 1452.42 2119.63 1449.48 Q2119.63 1446.55 2117.73 1444.84 Q2115.83 1443.13 2112.58 1443.13 Q2111.05 1443.13 2109.53 1443.47 Q2108.02 1443.8 2106.45 1444.52 L2106.45 1430.41 Z\" fill=\"#000000\" fill-rule=\"evenodd\" fill-opacity=\"1\" /><path clip-path=\"url(#clip640)\" d=\"M 0 0 M188.922 1371.1 Q185.311 1371.1 183.482 1374.66 Q181.677 1378.2 181.677 1385.33 Q181.677 1392.44 183.482 1396 Q185.311 1399.54 188.922 1399.54 Q192.556 1399.54 194.362 1396 Q196.19 1392.44 196.19 1385.33 Q196.19 1378.2 194.362 1374.66 Q192.556 1371.1 188.922 1371.1 M188.922 1367.39 Q194.732 1367.39 197.788 1372 Q200.866 1376.58 200.866 1385.33 Q200.866 1394.06 197.788 1398.67 Q194.732 1403.25 188.922 1403.25 Q183.112 1403.25 180.033 1398.67 Q176.977 1394.06 176.977 1385.33 Q176.977 1376.58 180.033 1372 Q183.112 1367.39 188.922 1367.39 Z\" fill=\"#000000\" fill-rule=\"evenodd\" fill-opacity=\"1\" /><path clip-path=\"url(#clip640)\" d=\"M 0 0 M158.529 1073.78 L174.848 1073.78 L174.848 1077.71 L152.904 1077.71 L152.904 1073.78 Q155.566 1071.02 160.149 1066.39 Q164.755 1061.74 165.936 1060.4 Q168.181 1057.87 169.061 1056.14 Q169.964 1054.38 169.964 1052.69 Q169.964 1049.93 168.019 1048.2 Q166.098 1046.46 162.996 1046.46 Q160.797 1046.46 158.343 1047.23 Q155.913 1047.99 153.135 1049.54 L153.135 1044.82 Q155.959 1043.68 158.413 1043.11 Q160.866 1042.53 162.903 1042.53 Q168.274 1042.53 171.468 1045.21 Q174.663 1047.9 174.663 1052.39 Q174.663 1054.52 173.852 1056.44 Q173.065 1058.34 170.959 1060.93 Q170.38 1061.6 167.278 1064.82 Q164.177 1068.01 158.529 1073.78 Z\" fill=\"#000000\" fill-rule=\"evenodd\" fill-opacity=\"1\" /><path clip-path=\"url(#clip640)\" d=\"M 0 0 M179.964 1043.15 L198.32 1043.15 L198.32 1047.09 L184.246 1047.09 L184.246 1055.56 Q185.264 1055.21 186.283 1055.05 Q187.301 1054.87 188.32 1054.87 Q194.107 1054.87 197.487 1058.04 Q200.866 1061.21 200.866 1066.62 Q200.866 1072.2 197.394 1075.31 Q193.922 1078.38 187.602 1078.38 Q185.427 1078.38 183.158 1078.01 Q180.913 1077.64 178.505 1076.9 L178.505 1072.2 Q180.589 1073.34 182.811 1073.89 Q185.033 1074.45 187.51 1074.45 Q191.514 1074.45 193.852 1072.34 Q196.19 1070.24 196.19 1066.62 Q196.19 1063.01 193.852 1060.91 Q191.514 1058.8 187.51 1058.8 Q185.635 1058.8 183.76 1059.22 Q181.908 1059.63 179.964 1060.51 L179.964 1043.15 Z\" fill=\"#000000\" fill-rule=\"evenodd\" fill-opacity=\"1\" /><path clip-path=\"url(#clip640)\" d=\"M 0 0 M152.95 718.288 L171.306 718.288 L171.306 722.223 L157.232 722.223 L157.232 730.695 Q158.251 730.348 159.269 730.186 Q160.288 730.001 161.306 730.001 Q167.093 730.001 170.473 733.172 Q173.852 736.343 173.852 741.76 Q173.852 747.338 170.38 750.44 Q166.908 753.519 160.589 753.519 Q158.413 753.519 156.144 753.149 Q153.899 752.778 151.492 752.037 L151.492 747.338 Q153.575 748.473 155.797 749.028 Q158.019 749.584 160.496 749.584 Q164.501 749.584 166.839 747.477 Q169.177 745.371 169.177 741.76 Q169.177 738.149 166.839 736.042 Q164.501 733.936 160.496 733.936 Q158.621 733.936 156.746 734.352 Q154.894 734.769 152.95 735.649 L152.95 718.288 Z\" fill=\"#000000\" fill-rule=\"evenodd\" fill-opacity=\"1\" /><path clip-path=\"url(#clip640)\" d=\"M 0 0 M188.922 721.366 Q185.311 721.366 183.482 724.931 Q181.677 728.473 181.677 735.602 Q181.677 742.709 183.482 746.274 Q185.311 749.815 188.922 749.815 Q192.556 749.815 194.362 746.274 Q196.19 742.709 196.19 735.602 Q196.19 728.473 194.362 724.931 Q192.556 721.366 188.922 721.366 M188.922 717.663 Q194.732 717.663 197.788 722.269 Q200.866 726.852 200.866 735.602 Q200.866 744.329 197.788 748.936 Q194.732 753.519 188.922 753.519 Q183.112 753.519 180.033 748.936 Q176.977 744.329 176.977 735.602 Q176.977 726.852 180.033 722.269 Q183.112 717.663 188.922 717.663 Z\" fill=\"#000000\" fill-rule=\"evenodd\" fill-opacity=\"1\" /><path clip-path=\"url(#clip640)\" d=\"M 0 0 M152.626 393.423 L174.848 393.423 L174.848 395.414 L162.302 427.983 L157.417 427.983 L169.223 397.358 L152.626 397.358 L152.626 393.423 Z\" fill=\"#000000\" fill-rule=\"evenodd\" fill-opacity=\"1\" /><path clip-path=\"url(#clip640)\" d=\"M 0 0 M179.964 393.423 L198.32 393.423 L198.32 397.358 L184.246 397.358 L184.246 405.83 Q185.264 405.483 186.283 405.321 Q187.301 405.136 188.32 405.136 Q194.107 405.136 197.487 408.307 Q200.866 411.478 200.866 416.895 Q200.866 422.474 197.394 425.575 Q193.922 428.654 187.602 428.654 Q185.427 428.654 183.158 428.284 Q180.913 427.913 178.505 427.173 L178.505 422.474 Q180.589 423.608 182.811 424.163 Q185.033 424.719 187.51 424.719 Q191.514 424.719 193.852 422.613 Q196.19 420.506 196.19 416.895 Q196.19 413.284 193.852 411.177 Q191.514 409.071 187.51 409.071 Q185.635 409.071 183.76 409.488 Q181.908 409.904 179.964 410.784 L179.964 393.423 Z\" fill=\"#000000\" fill-rule=\"evenodd\" fill-opacity=\"1\" /><path clip-path=\"url(#clip640)\" d=\"M 0 0 M126.931 99.1829 L134.57 99.1829 L134.57 72.8173 L126.26 74.4839 L126.26 70.2247 L134.524 68.558 L139.2 68.558 L139.2 99.1829 L146.839 99.1829 L146.839 103.118 L126.931 103.118 L126.931 99.1829 Z\" fill=\"#000000\" fill-rule=\"evenodd\" fill-opacity=\"1\" /><path clip-path=\"url(#clip640)\" d=\"M 0 0 M161.908 71.6367 Q158.297 71.6367 156.468 75.2015 Q154.663 78.7432 154.663 85.8728 Q154.663 92.9792 156.468 96.544 Q158.297 100.086 161.908 100.086 Q165.542 100.086 167.348 96.544 Q169.177 92.9792 169.177 85.8728 Q169.177 78.7432 167.348 75.2015 Q165.542 71.6367 161.908 71.6367 M161.908 67.933 Q167.718 67.933 170.774 72.5395 Q173.852 77.1228 173.852 85.8728 Q173.852 94.5996 170.774 99.206 Q167.718 103.789 161.908 103.789 Q156.098 103.789 153.019 99.206 Q149.964 94.5996 149.964 85.8728 Q149.964 77.1228 153.019 72.5395 Q156.098 67.933 161.908 67.933 Z\" fill=\"#000000\" fill-rule=\"evenodd\" fill-opacity=\"1\" /><path clip-path=\"url(#clip640)\" d=\"M 0 0 M188.922 71.6367 Q185.311 71.6367 183.482 75.2015 Q181.677 78.7432 181.677 85.8728 Q181.677 92.9792 183.482 96.544 Q185.311 100.086 188.922 100.086 Q192.556 100.086 194.362 96.544 Q196.19 92.9792 196.19 85.8728 Q196.19 78.7432 194.362 75.2015 Q192.556 71.6367 188.922 71.6367 M188.922 67.933 Q194.732 67.933 197.788 72.5395 Q200.866 77.1228 200.866 85.8728 Q200.866 94.5996 197.788 99.206 Q194.732 103.789 188.922 103.789 Q183.112 103.789 180.033 99.206 Q176.977 94.5996 176.977 85.8728 Q176.977 77.1228 180.033 72.5395 Q183.112 67.933 188.922 67.933 Z\" fill=\"#000000\" fill-rule=\"evenodd\" fill-opacity=\"1\" /><path clip-path=\"url(#clip640)\" d=\"M 0 0 M1099.09 1542.9 L1099.09 1545.76 L1072.16 1545.76 Q1072.55 1551.81 1075.79 1554.99 Q1079.07 1558.14 1084.9 1558.14 Q1088.27 1558.14 1091.42 1557.32 Q1094.6 1556.49 1097.72 1554.83 L1097.72 1560.37 Q1094.57 1561.71 1091.26 1562.41 Q1087.95 1563.11 1084.55 1563.11 Q1076.01 1563.11 1071.02 1558.14 Q1066.05 1553.18 1066.05 1544.71 Q1066.05 1535.96 1070.76 1530.83 Q1075.51 1525.68 1083.53 1525.68 Q1090.72 1525.68 1094.89 1530.33 Q1099.09 1534.94 1099.09 1542.9 M1093.23 1541.18 Q1093.17 1536.37 1090.53 1533.51 Q1087.92 1530.64 1083.59 1530.64 Q1078.69 1530.64 1075.73 1533.41 Q1072.8 1536.18 1072.35 1541.21 L1093.23 1541.18 Z\" fill=\"#000000\" fill-rule=\"evenodd\" fill-opacity=\"1\" /><path clip-path=\"url(#clip640)\" d=\"M 0 0 M1110.9 1556.84 L1110.9 1575.74 L1105.01 1575.74 L1105.01 1526.54 L1110.9 1526.54 L1110.9 1531.95 Q1112.75 1528.77 1115.55 1527.24 Q1118.38 1525.68 1122.29 1525.68 Q1128.79 1525.68 1132.83 1530.83 Q1136.9 1535.99 1136.9 1544.39 Q1136.9 1552.8 1132.83 1557.95 Q1128.79 1563.11 1122.29 1563.11 Q1118.38 1563.11 1115.55 1561.58 Q1112.75 1560.02 1110.9 1556.84 M1130.82 1544.39 Q1130.82 1537.93 1128.15 1534.27 Q1125.51 1530.58 1120.86 1530.58 Q1116.21 1530.58 1113.54 1534.27 Q1110.9 1537.93 1110.9 1544.39 Q1110.9 1550.85 1113.54 1554.55 Q1116.21 1558.21 1120.86 1558.21 Q1125.51 1558.21 1128.15 1554.55 Q1130.82 1550.85 1130.82 1544.39 Z\" fill=\"#000000\" fill-rule=\"evenodd\" fill-opacity=\"1\" /><path clip-path=\"url(#clip640)\" d=\"M 0 0 M1156.86 1530.64 Q1152.15 1530.64 1149.41 1534.34 Q1146.67 1538 1146.67 1544.39 Q1146.67 1550.79 1149.38 1554.48 Q1152.12 1558.14 1156.86 1558.14 Q1161.54 1558.14 1164.28 1554.45 Q1167.01 1550.76 1167.01 1544.39 Q1167.01 1538.06 1164.28 1534.37 Q1161.54 1530.64 1156.86 1530.64 M1156.86 1525.68 Q1164.5 1525.68 1168.86 1530.64 Q1173.22 1535.61 1173.22 1544.39 Q1173.22 1553.15 1168.86 1558.14 Q1164.5 1563.11 1156.86 1563.11 Q1149.19 1563.11 1144.83 1558.14 Q1140.5 1553.15 1140.5 1544.39 Q1140.5 1535.61 1144.83 1530.64 Q1149.19 1525.68 1156.86 1525.68 Z\" fill=\"#000000\" fill-rule=\"evenodd\" fill-opacity=\"1\" /><path clip-path=\"url(#clip640)\" d=\"M 0 0 M1205.02 1527.91 L1205.02 1533.38 Q1202.53 1532.01 1200.02 1531.34 Q1197.54 1530.64 1194.99 1530.64 Q1189.29 1530.64 1186.14 1534.27 Q1182.99 1537.87 1182.99 1544.39 Q1182.99 1550.92 1186.14 1554.55 Q1189.29 1558.14 1194.99 1558.14 Q1197.54 1558.14 1200.02 1557.47 Q1202.53 1556.77 1205.02 1555.41 L1205.02 1560.82 Q1202.57 1561.96 1199.92 1562.54 Q1197.31 1563.11 1194.35 1563.11 Q1186.3 1563.11 1181.56 1558.05 Q1176.82 1552.99 1176.82 1544.39 Q1176.82 1535.67 1181.59 1530.68 Q1186.4 1525.68 1194.74 1525.68 Q1197.44 1525.68 1200.02 1526.25 Q1202.6 1526.79 1205.02 1527.91 Z\" fill=\"#000000\" fill-rule=\"evenodd\" fill-opacity=\"1\" /><path clip-path=\"url(#clip640)\" d=\"M 0 0 M1240.79 1540.67 L1240.79 1562.19 L1234.93 1562.19 L1234.93 1540.86 Q1234.93 1535.8 1232.96 1533.29 Q1230.99 1530.77 1227.04 1530.77 Q1222.3 1530.77 1219.56 1533.79 Q1216.82 1536.82 1216.82 1542.04 L1216.82 1562.19 L1210.94 1562.19 L1210.94 1512.66 L1216.82 1512.66 L1216.82 1532.08 Q1218.93 1528.86 1221.76 1527.27 Q1224.62 1525.68 1228.35 1525.68 Q1234.49 1525.68 1237.64 1529.5 Q1240.79 1533.29 1240.79 1540.67 Z\" fill=\"#000000\" fill-rule=\"evenodd\" fill-opacity=\"1\" /><path clip-path=\"url(#clip640)\" d=\"M 0 0 M1269.66 1527.59 L1269.66 1533.13 Q1267.18 1531.85 1264.5 1531.22 Q1261.83 1530.58 1258.97 1530.58 Q1254.6 1530.58 1252.41 1531.92 Q1250.24 1533.25 1250.24 1535.93 Q1250.24 1537.96 1251.8 1539.14 Q1253.36 1540.29 1258.07 1541.34 L1260.08 1541.78 Q1266.32 1543.12 1268.93 1545.57 Q1271.57 1547.99 1271.57 1552.35 Q1271.57 1557.32 1267.62 1560.21 Q1263.71 1563.11 1256.83 1563.11 Q1253.97 1563.11 1250.85 1562.54 Q1247.76 1561.99 1244.32 1560.88 L1244.32 1554.83 Q1247.57 1556.52 1250.72 1557.38 Q1253.87 1558.21 1256.96 1558.21 Q1261.1 1558.21 1263.33 1556.81 Q1265.55 1555.37 1265.55 1552.8 Q1265.55 1550.41 1263.93 1549.14 Q1262.34 1547.86 1256.9 1546.68 L1254.86 1546.21 Q1249.42 1545.06 1247 1542.71 Q1244.58 1540.32 1244.58 1536.18 Q1244.58 1531.15 1248.14 1528.42 Q1251.71 1525.68 1258.27 1525.68 Q1261.51 1525.68 1264.38 1526.16 Q1267.24 1526.63 1269.66 1527.59 Z\" fill=\"#000000\" fill-rule=\"evenodd\" fill-opacity=\"1\" /><path clip-path=\"url(#clip640)\" d=\"M 0 0 M70.212 837.813 Q63.7508 837.813 60.0905 840.486 Q56.3984 843.128 56.3984 847.775 Q56.3984 852.422 60.0905 855.095 Q63.7508 857.737 70.212 857.737 Q76.6732 857.737 80.3653 855.095 Q84.0256 852.422 84.0256 847.775 Q84.0256 843.128 80.3653 840.486 Q76.6732 837.813 70.212 837.813 M57.7671 857.737 Q54.5842 855.891 53.0564 853.09 Q51.4968 850.258 51.4968 846.343 Q51.4968 839.85 56.6531 835.807 Q61.8093 831.733 70.212 831.733 Q78.6147 831.733 83.771 835.807 Q88.9272 839.85 88.9272 846.343 Q88.9272 850.258 87.3994 853.09 Q85.8398 855.891 82.657 857.737 L88.0042 857.737 L88.0042 863.625 L38.479 863.625 L38.479 857.737 L57.7671 857.737 Z\" fill=\"#000000\" fill-rule=\"evenodd\" fill-opacity=\"1\" /><path clip-path=\"url(#clip640)\" d=\"M 0 0 M73.9359 826.195 L52.3562 826.195 L52.3562 820.339 L73.7131 820.339 Q78.7739 820.339 81.3202 818.365 Q83.8346 816.392 83.8346 812.445 Q83.8346 807.703 80.8109 804.966 Q77.7872 802.196 72.5673 802.196 L52.3562 802.196 L52.3562 796.34 L88.0042 796.34 L88.0042 802.196 L82.5296 802.196 Q85.7762 804.329 87.3676 807.162 Q88.9272 809.963 88.9272 813.687 Q88.9272 819.829 85.1078 823.012 Q81.2883 826.195 73.9359 826.195 M51.4968 811.459 L51.4968 811.459 Z\" fill=\"#000000\" fill-rule=\"evenodd\" fill-opacity=\"1\" /><path clip-path=\"url(#clip640)\" d=\"M 0 0 M52.3562 790.197 L52.3562 784.341 L88.0042 784.341 L88.0042 790.197 L52.3562 790.197 M38.479 790.197 L38.479 784.341 L45.895 784.341 L45.895 790.197 L38.479 790.197 Z\" fill=\"#000000\" fill-rule=\"evenodd\" fill-opacity=\"1\" /><path clip-path=\"url(#clip640)\" d=\"M 0 0 M38.479 778.198 L38.479 772.341 L88.0042 772.341 L88.0042 778.198 L38.479 778.198 Z\" fill=\"#000000\" fill-rule=\"evenodd\" fill-opacity=\"1\" /><path clip-path=\"url(#clip640)\" d=\"M 0 0 M57.7671 742.741 L38.479 742.741 L38.479 736.884 L88.0042 736.884 L88.0042 742.741 L82.657 742.741 Q85.8398 744.587 87.3994 747.42 Q88.9272 750.22 88.9272 754.167 Q88.9272 760.628 83.771 764.702 Q78.6147 768.745 70.212 768.745 Q61.8093 768.745 56.6531 764.702 Q51.4968 760.628 51.4968 754.167 Q51.4968 750.22 53.0564 747.42 Q54.5842 744.587 57.7671 742.741 M70.212 762.697 Q76.6732 762.697 80.3653 760.055 Q84.0256 757.382 84.0256 752.735 Q84.0256 748.088 80.3653 745.414 Q76.6732 742.741 70.212 742.741 Q63.7508 742.741 60.0905 745.414 Q56.3984 748.088 56.3984 752.735 Q56.3984 757.382 60.0905 760.055 Q63.7508 762.697 70.212 762.697 Z\" fill=\"#000000\" fill-rule=\"evenodd\" fill-opacity=\"1\" /><path clip-path=\"url(#clip640)\" d=\"M 0 0 M68.7161 700.25 L71.5806 700.25 L71.5806 727.177 Q77.6281 726.795 80.8109 723.548 Q83.9619 720.27 83.9619 714.445 Q83.9619 711.071 83.1344 707.92 Q82.3069 704.737 80.6518 701.618 L86.1899 701.618 Q87.5267 704.769 88.227 708.079 Q88.9272 711.39 88.9272 714.795 Q88.9272 723.325 83.9619 728.322 Q78.9967 733.288 70.5303 733.288 Q61.7774 733.288 56.6531 728.577 Q51.4968 723.835 51.4968 715.814 Q51.4968 708.621 56.1438 704.451 Q60.7589 700.25 68.7161 700.25 M66.9973 706.106 Q62.1912 706.17 59.3266 708.812 Q56.4621 711.421 56.4621 715.75 Q56.4621 720.652 59.2312 723.612 Q62.0002 726.54 67.0292 726.986 L66.9973 706.106 Z\" fill=\"#000000\" fill-rule=\"evenodd\" fill-opacity=\"1\" /><path clip-path=\"url(#clip640)\" d=\"M 0 0 M57.8307 673.45 Q57.2578 674.437 57.0032 675.614 Q56.7167 676.76 56.7167 678.161 Q56.7167 683.126 59.9632 685.799 Q63.1779 688.441 69.2253 688.441 L88.0042 688.441 L88.0042 694.33 L52.3562 694.33 L52.3562 688.441 L57.8944 688.441 Q54.6479 686.595 53.0883 683.635 Q51.4968 680.675 51.4968 676.442 Q51.4968 675.837 51.5923 675.105 Q51.656 674.373 51.8151 673.482 L57.8307 673.45 Z\" fill=\"#000000\" fill-rule=\"evenodd\" fill-opacity=\"1\" /><path clip-path=\"url(#clip640)\" d=\"M 0 0 M79.9197 672.463 L79.9197 665.748 L88.0042 665.748 L88.0042 672.463 L79.9197 672.463 Z\" fill=\"#000000\" fill-rule=\"evenodd\" fill-opacity=\"1\" /><path clip-path=\"url(#clip640)\" d=\"M 0 0 M66.4881 629.972 L88.0042 629.972 L88.0042 635.829 L66.679 635.829 Q61.6183 635.829 59.1038 637.802 Q56.5894 639.775 56.5894 643.722 Q56.5894 648.465 59.6131 651.202 Q62.6368 653.939 67.8567 653.939 L88.0042 653.939 L88.0042 659.827 L52.3562 659.827 L52.3562 653.939 L57.8944 653.939 Q54.6797 651.838 53.0883 649.006 Q51.4968 646.141 51.4968 642.417 Q51.4968 636.274 55.3163 633.123 Q59.1038 629.972 66.4881 629.972 Z\" fill=\"#000000\" fill-rule=\"evenodd\" fill-opacity=\"1\" /><path clip-path=\"url(#clip640)\" d=\"M 0 0 M82.5933 621.888 L82.5933 611.384 L46.3406 611.384 L48.6323 622.811 L42.7758 622.811 L40.4842 611.448 L40.4842 605.019 L82.5933 605.019 L82.5933 594.515 L88.0042 594.515 L88.0042 621.888 L82.5933 621.888 Z\" fill=\"#000000\" fill-rule=\"evenodd\" fill-opacity=\"1\" /><circle clip-path=\"url(#clip642)\" cx=\"2059.33\" cy=\"449.687\" r=\"3\" fill=\"#000004\" fill-rule=\"evenodd\" fill-opacity=\"1\" stroke=\"#000000\" stroke-opacity=\"1\" stroke-width=\"3.2\"/>\n",
       "<circle clip-path=\"url(#clip642)\" cx=\"1804.86\" cy=\"826.53\" r=\"4\" fill=\"#01010b\" fill-rule=\"evenodd\" fill-opacity=\"1\" stroke=\"#000000\" stroke-opacity=\"1\" stroke-width=\"3.2\"/>\n",
       "<circle clip-path=\"url(#clip642)\" cx=\"1040.93\" cy=\"1372.3\" r=\"52\" fill=\"#fbb91e\" fill-rule=\"evenodd\" fill-opacity=\"1\" stroke=\"#000000\" stroke-opacity=\"1\" stroke-width=\"3.2\"/>\n",
       "<circle clip-path=\"url(#clip642)\" cx=\"2059.33\" cy=\"85.838\" r=\"3\" fill=\"#000003\" fill-rule=\"evenodd\" fill-opacity=\"1\" stroke=\"#000000\" stroke-opacity=\"1\" stroke-width=\"3.2\"/>\n",
       "<circle clip-path=\"url(#clip642)\" cx=\"1040.93\" cy=\"449.687\" r=\"11\" fill=\"#220b4c\" fill-rule=\"evenodd\" fill-opacity=\"1\" stroke=\"#000000\" stroke-opacity=\"1\" stroke-width=\"3.2\"/>\n",
       "<circle clip-path=\"url(#clip642)\" cx=\"1550.46\" cy=\"826.53\" r=\"5\" fill=\"#030212\" fill-rule=\"evenodd\" fill-opacity=\"1\" stroke=\"#000000\" stroke-opacity=\"1\" stroke-width=\"3.2\"/>\n",
       "<circle clip-path=\"url(#clip642)\" cx=\"278.297\" cy=\"1190.38\" r=\"56\" fill=\"#f5d848\" fill-rule=\"evenodd\" fill-opacity=\"1\" stroke=\"#000000\" stroke-opacity=\"1\" stroke-width=\"3.2\"/>\n",
       "<circle clip-path=\"url(#clip642)\" cx=\"1295.65\" cy=\"1008.45\" r=\"8\" fill=\"#0e082a\" fill-rule=\"evenodd\" fill-opacity=\"1\" stroke=\"#000000\" stroke-opacity=\"1\" stroke-width=\"3.2\"/>\n",
       "<circle clip-path=\"url(#clip642)\" cx=\"1550.46\" cy=\"85.838\" r=\"5\" fill=\"#02020f\" fill-rule=\"evenodd\" fill-opacity=\"1\" stroke=\"#000000\" stroke-opacity=\"1\" stroke-width=\"3.2\"/>\n",
       "<circle clip-path=\"url(#clip642)\" cx=\"1295.65\" cy=\"85.838\" r=\"6\" fill=\"#07051d\" fill-rule=\"evenodd\" fill-opacity=\"1\" stroke=\"#000000\" stroke-opacity=\"1\" stroke-width=\"3.2\"/>\n",
       "<circle clip-path=\"url(#clip642)\" cx=\"1550.46\" cy=\"267.762\" r=\"5\" fill=\"#02020f\" fill-rule=\"evenodd\" fill-opacity=\"1\" stroke=\"#000000\" stroke-opacity=\"1\" stroke-width=\"3.2\"/>\n",
       "<circle clip-path=\"url(#clip642)\" cx=\"1040.93\" cy=\"1008.45\" r=\"15\" fill=\"#3e0965\" fill-rule=\"evenodd\" fill-opacity=\"1\" stroke=\"#000000\" stroke-opacity=\"1\" stroke-width=\"3.2\"/>\n",
       "<circle clip-path=\"url(#clip642)\" cx=\"1550.46\" cy=\"1008.45\" r=\"5\" fill=\"#040314\" fill-rule=\"evenodd\" fill-opacity=\"1\" stroke=\"#000000\" stroke-opacity=\"1\" stroke-width=\"3.2\"/>\n",
       "<circle clip-path=\"url(#clip642)\" cx=\"787.034\" cy=\"267.762\" r=\"21\" fill=\"#63146e\" fill-rule=\"evenodd\" fill-opacity=\"1\" stroke=\"#000000\" stroke-opacity=\"1\" stroke-width=\"3.2\"/>\n",
       "<circle clip-path=\"url(#clip642)\" cx=\"1804.86\" cy=\"267.762\" r=\"4\" fill=\"#010109\" fill-rule=\"evenodd\" fill-opacity=\"1\" stroke=\"#000000\" stroke-opacity=\"1\" stroke-width=\"3.2\"/>\n",
       "<circle clip-path=\"url(#clip642)\" cx=\"278.297\" cy=\"85.838\" r=\"46\" fill=\"#f68012\" fill-rule=\"evenodd\" fill-opacity=\"1\" stroke=\"#000000\" stroke-opacity=\"1\" stroke-width=\"3.2\"/>\n",
       "<circle clip-path=\"url(#clip642)\" cx=\"1804.86\" cy=\"85.838\" r=\"4\" fill=\"#010109\" fill-rule=\"evenodd\" fill-opacity=\"1\" stroke=\"#000000\" stroke-opacity=\"1\" stroke-width=\"3.2\"/>\n",
       "<circle clip-path=\"url(#clip642)\" cx=\"1804.86\" cy=\"1372.3\" r=\"10\" fill=\"#170b3c\" fill-rule=\"evenodd\" fill-opacity=\"1\" stroke=\"#000000\" stroke-opacity=\"1\" stroke-width=\"3.2\"/>\n",
       "<circle clip-path=\"url(#clip642)\" cx=\"1295.65\" cy=\"1372.3\" r=\"41\" fill=\"#e35832\" fill-rule=\"evenodd\" fill-opacity=\"1\" stroke=\"#000000\" stroke-opacity=\"1\" stroke-width=\"3.2\"/>\n",
       "<circle clip-path=\"url(#clip642)\" cx=\"1550.46\" cy=\"631.611\" r=\"5\" fill=\"#030211\" fill-rule=\"evenodd\" fill-opacity=\"1\" stroke=\"#000000\" stroke-opacity=\"1\" stroke-width=\"3.2\"/>\n",
       "<circle clip-path=\"url(#clip642)\" cx=\"2059.33\" cy=\"826.53\" r=\"3\" fill=\"#000004\" fill-rule=\"evenodd\" fill-opacity=\"1\" stroke=\"#000000\" stroke-opacity=\"1\" stroke-width=\"3.2\"/>\n",
       "<circle clip-path=\"url(#clip642)\" cx=\"2059.33\" cy=\"1008.45\" r=\"3\" fill=\"#000004\" fill-rule=\"evenodd\" fill-opacity=\"1\" stroke=\"#000000\" stroke-opacity=\"1\" stroke-width=\"3.2\"/>\n",
       "<circle clip-path=\"url(#clip642)\" cx=\"278.297\" cy=\"631.611\" r=\"44\" fill=\"#ef6f20\" fill-rule=\"evenodd\" fill-opacity=\"1\" stroke=\"#000000\" stroke-opacity=\"1\" stroke-width=\"3.2\"/>\n",
       "<circle clip-path=\"url(#clip642)\" cx=\"1295.65\" cy=\"826.53\" r=\"7\" fill=\"#0b0726\" fill-rule=\"evenodd\" fill-opacity=\"1\" stroke=\"#000000\" stroke-opacity=\"1\" stroke-width=\"3.2\"/>\n",
       "<circle clip-path=\"url(#clip642)\" cx=\"1295.65\" cy=\"449.687\" r=\"7\" fill=\"#090620\" fill-rule=\"evenodd\" fill-opacity=\"1\" stroke=\"#000000\" stroke-opacity=\"1\" stroke-width=\"3.2\"/>\n",
       "<circle clip-path=\"url(#clip642)\" cx=\"278.297\" cy=\"267.762\" r=\"44\" fill=\"#ef6d21\" fill-rule=\"evenodd\" fill-opacity=\"1\" stroke=\"#000000\" stroke-opacity=\"1\" stroke-width=\"3.2\"/>\n",
       "<circle clip-path=\"url(#clip642)\" cx=\"1804.86\" cy=\"449.687\" r=\"4\" fill=\"#01010a\" fill-rule=\"evenodd\" fill-opacity=\"1\" stroke=\"#000000\" stroke-opacity=\"1\" stroke-width=\"3.2\"/>\n",
       "<circle clip-path=\"url(#clip642)\" cx=\"1295.65\" cy=\"267.762\" r=\"7\" fill=\"#08051f\" fill-rule=\"evenodd\" fill-opacity=\"1\" stroke=\"#000000\" stroke-opacity=\"1\" stroke-width=\"3.2\"/>\n",
       "<circle clip-path=\"url(#clip642)\" cx=\"1804.86\" cy=\"631.611\" r=\"4\" fill=\"#01010b\" fill-rule=\"evenodd\" fill-opacity=\"1\" stroke=\"#000000\" stroke-opacity=\"1\" stroke-width=\"3.2\"/>\n",
       "<circle clip-path=\"url(#clip642)\" cx=\"1040.93\" cy=\"631.611\" r=\"12\" fill=\"#290b54\" fill-rule=\"evenodd\" fill-opacity=\"1\" stroke=\"#000000\" stroke-opacity=\"1\" stroke-width=\"3.2\"/>\n",
       "<circle clip-path=\"url(#clip642)\" cx=\"1040.93\" cy=\"826.53\" r=\"14\" fill=\"#350960\" fill-rule=\"evenodd\" fill-opacity=\"1\" stroke=\"#000000\" stroke-opacity=\"1\" stroke-width=\"3.2\"/>\n",
       "<circle clip-path=\"url(#clip642)\" cx=\"538.376\" cy=\"1008.45\" r=\"43\" fill=\"#ec6725\" fill-rule=\"evenodd\" fill-opacity=\"1\" stroke=\"#000000\" stroke-opacity=\"1\" stroke-width=\"3.2\"/>\n",
       "<circle clip-path=\"url(#clip642)\" cx=\"787.034\" cy=\"1190.38\" r=\"35\" fill=\"#c13a50\" fill-rule=\"evenodd\" fill-opacity=\"1\" stroke=\"#000000\" stroke-opacity=\"1\" stroke-width=\"3.2\"/>\n",
       "<circle clip-path=\"url(#clip642)\" cx=\"1295.65\" cy=\"631.611\" r=\"7\" fill=\"#090622\" fill-rule=\"evenodd\" fill-opacity=\"1\" stroke=\"#000000\" stroke-opacity=\"1\" stroke-width=\"3.2\"/>\n",
       "<circle clip-path=\"url(#clip642)\" cx=\"538.376\" cy=\"1190.38\" r=\"59\" fill=\"#f1f079\" fill-rule=\"evenodd\" fill-opacity=\"1\" stroke=\"#000000\" stroke-opacity=\"1\" stroke-width=\"3.2\"/>\n",
       "<circle clip-path=\"url(#clip642)\" cx=\"1550.46\" cy=\"449.687\" r=\"5\" fill=\"#030210\" fill-rule=\"evenodd\" fill-opacity=\"1\" stroke=\"#000000\" stroke-opacity=\"1\" stroke-width=\"3.2\"/>\n",
       "<circle clip-path=\"url(#clip642)\" cx=\"787.034\" cy=\"631.611\" r=\"24\" fill=\"#7b1d6c\" fill-rule=\"evenodd\" fill-opacity=\"1\" stroke=\"#000000\" stroke-opacity=\"1\" stroke-width=\"3.2\"/>\n",
       "<circle clip-path=\"url(#clip642)\" cx=\"787.034\" cy=\"449.687\" r=\"23\" fill=\"#731a6d\" fill-rule=\"evenodd\" fill-opacity=\"1\" stroke=\"#000000\" stroke-opacity=\"1\" stroke-width=\"3.2\"/>\n",
       "<circle clip-path=\"url(#clip642)\" cx=\"1295.65\" cy=\"1190.38\" r=\"10\" fill=\"#1a0b40\" fill-rule=\"evenodd\" fill-opacity=\"1\" stroke=\"#000000\" stroke-opacity=\"1\" stroke-width=\"3.2\"/>\n",
       "<circle clip-path=\"url(#clip642)\" cx=\"1550.46\" cy=\"1190.38\" r=\"6\" fill=\"#050419\" fill-rule=\"evenodd\" fill-opacity=\"1\" stroke=\"#000000\" stroke-opacity=\"1\" stroke-width=\"3.2\"/>\n",
       "<circle clip-path=\"url(#clip642)\" cx=\"787.034\" cy=\"826.53\" r=\"33\" fill=\"#b43358\" fill-rule=\"evenodd\" fill-opacity=\"1\" stroke=\"#000000\" stroke-opacity=\"1\" stroke-width=\"3.2\"/>\n",
       "<circle clip-path=\"url(#clip642)\" cx=\"278.297\" cy=\"1008.45\" r=\"57\" fill=\"#f3df53\" fill-rule=\"evenodd\" fill-opacity=\"1\" stroke=\"#000000\" stroke-opacity=\"1\" stroke-width=\"3.2\"/>\n",
       "<circle clip-path=\"url(#clip642)\" cx=\"2059.33\" cy=\"1190.38\" r=\"4\" fill=\"#010109\" fill-rule=\"evenodd\" fill-opacity=\"1\" stroke=\"#000000\" stroke-opacity=\"1\" stroke-width=\"3.2\"/>\n",
       "<circle clip-path=\"url(#clip642)\" cx=\"278.297\" cy=\"826.53\" r=\"50\" fill=\"#fba409\" fill-rule=\"evenodd\" fill-opacity=\"1\" stroke=\"#000000\" stroke-opacity=\"1\" stroke-width=\"3.2\"/>\n",
       "<circle clip-path=\"url(#clip642)\" cx=\"538.376\" cy=\"267.762\" r=\"36\" fill=\"#c83e4b\" fill-rule=\"evenodd\" fill-opacity=\"1\" stroke=\"#000000\" stroke-opacity=\"1\" stroke-width=\"3.2\"/>\n",
       "<circle clip-path=\"url(#clip642)\" cx=\"1804.86\" cy=\"1008.45\" r=\"4\" fill=\"#02010c\" fill-rule=\"evenodd\" fill-opacity=\"1\" stroke=\"#000000\" stroke-opacity=\"1\" stroke-width=\"3.2\"/>\n",
       "<circle clip-path=\"url(#clip642)\" cx=\"538.376\" cy=\"826.53\" r=\"41\" fill=\"#e25733\" fill-rule=\"evenodd\" fill-opacity=\"1\" stroke=\"#000000\" stroke-opacity=\"1\" stroke-width=\"3.2\"/>\n",
       "<circle clip-path=\"url(#clip642)\" cx=\"278.297\" cy=\"449.687\" r=\"46\" fill=\"#f68012\" fill-rule=\"evenodd\" fill-opacity=\"1\" stroke=\"#000000\" stroke-opacity=\"1\" stroke-width=\"3.2\"/>\n",
       "<circle clip-path=\"url(#clip642)\" cx=\"1040.93\" cy=\"267.762\" r=\"10\" fill=\"#1c0c42\" fill-rule=\"evenodd\" fill-opacity=\"1\" stroke=\"#000000\" stroke-opacity=\"1\" stroke-width=\"3.2\"/>\n",
       "<circle clip-path=\"url(#clip642)\" cx=\"538.376\" cy=\"85.838\" r=\"36\" fill=\"#cc4148\" fill-rule=\"evenodd\" fill-opacity=\"1\" stroke=\"#000000\" stroke-opacity=\"1\" stroke-width=\"3.2\"/>\n",
       "<circle clip-path=\"url(#clip642)\" cx=\"1550.46\" cy=\"1372.3\" r=\"24\" fill=\"#7b1d6c\" fill-rule=\"evenodd\" fill-opacity=\"1\" stroke=\"#000000\" stroke-opacity=\"1\" stroke-width=\"3.2\"/>\n",
       "<circle clip-path=\"url(#clip642)\" cx=\"787.034\" cy=\"1372.3\" r=\"61\" fill=\"#fcfea4\" fill-rule=\"evenodd\" fill-opacity=\"1\" stroke=\"#000000\" stroke-opacity=\"1\" stroke-width=\"3.2\"/>\n",
       "<circle clip-path=\"url(#clip642)\" cx=\"2059.33\" cy=\"1372.3\" r=\"6\" fill=\"#06041a\" fill-rule=\"evenodd\" fill-opacity=\"1\" stroke=\"#000000\" stroke-opacity=\"1\" stroke-width=\"3.2\"/>\n",
       "<circle clip-path=\"url(#clip642)\" cx=\"787.034\" cy=\"1008.45\" r=\"31\" fill=\"#a52c60\" fill-rule=\"evenodd\" fill-opacity=\"1\" stroke=\"#000000\" stroke-opacity=\"1\" stroke-width=\"3.2\"/>\n",
       "<circle clip-path=\"url(#clip642)\" cx=\"1804.86\" cy=\"1190.38\" r=\"5\" fill=\"#02020e\" fill-rule=\"evenodd\" fill-opacity=\"1\" stroke=\"#000000\" stroke-opacity=\"1\" stroke-width=\"3.2\"/>\n",
       "<circle clip-path=\"url(#clip642)\" cx=\"538.376\" cy=\"1372.3\" r=\"56\" fill=\"#f6d543\" fill-rule=\"evenodd\" fill-opacity=\"1\" stroke=\"#000000\" stroke-opacity=\"1\" stroke-width=\"3.2\"/>\n",
       "<circle clip-path=\"url(#clip642)\" cx=\"538.376\" cy=\"449.687\" r=\"38\" fill=\"#d24643\" fill-rule=\"evenodd\" fill-opacity=\"1\" stroke=\"#000000\" stroke-opacity=\"1\" stroke-width=\"3.2\"/>\n",
       "<circle clip-path=\"url(#clip642)\" cx=\"538.376\" cy=\"631.611\" r=\"41\" fill=\"#e45a30\" fill-rule=\"evenodd\" fill-opacity=\"1\" stroke=\"#000000\" stroke-opacity=\"1\" stroke-width=\"3.2\"/>\n",
       "<circle clip-path=\"url(#clip642)\" cx=\"1040.93\" cy=\"1190.38\" r=\"23\" fill=\"#741a6d\" fill-rule=\"evenodd\" fill-opacity=\"1\" stroke=\"#000000\" stroke-opacity=\"1\" stroke-width=\"3.2\"/>\n",
       "<circle clip-path=\"url(#clip642)\" cx=\"787.034\" cy=\"85.838\" r=\"21\" fill=\"#64146e\" fill-rule=\"evenodd\" fill-opacity=\"1\" stroke=\"#000000\" stroke-opacity=\"1\" stroke-width=\"3.2\"/>\n",
       "<circle clip-path=\"url(#clip642)\" cx=\"1040.93\" cy=\"85.838\" r=\"10\" fill=\"#160b39\" fill-rule=\"evenodd\" fill-opacity=\"1\" stroke=\"#000000\" stroke-opacity=\"1\" stroke-width=\"3.2\"/>\n",
       "<circle clip-path=\"url(#clip642)\" cx=\"278.297\" cy=\"1372.3\" r=\"60\" fill=\"#f5f993\" fill-rule=\"evenodd\" fill-opacity=\"1\" stroke=\"#000000\" stroke-opacity=\"1\" stroke-width=\"3.2\"/>\n",
       "<circle clip-path=\"url(#clip642)\" cx=\"2059.33\" cy=\"631.611\" r=\"3\" fill=\"#000004\" fill-rule=\"evenodd\" fill-opacity=\"1\" stroke=\"#000000\" stroke-opacity=\"1\" stroke-width=\"3.2\"/>\n",
       "<circle clip-path=\"url(#clip642)\" cx=\"2059.33\" cy=\"267.762\" r=\"3\" fill=\"#000003\" fill-rule=\"evenodd\" fill-opacity=\"1\" stroke=\"#000000\" stroke-opacity=\"1\" stroke-width=\"3.2\"/>\n",
       "<defs>\n",
       "  <clipPath id=\"clip643\">\n",
       "    <rect x=\"2160\" y=\"47\" width=\"73\" height=\"1365\"/>\n",
       "  </clipPath>\n",
       "</defs>\n",
       "<g clip-path=\"url(#clip643)\">\n",
       "<image width=\"72\" height=\"1364\" xlink:href=\"data:image/png;base64,\n",
       "iVBORw0KGgoAAAANSUhEUgAAAEgAAAVUCAYAAABzwV4AAAAL0klEQVR4nO3dwY3sRhAFQY5Q/lsh\n",
       "L6XfLQtUeSQPERYsEg+zZJM7+/v3/H0f/tdfb/8AXydQECgIFAQKc+6/b/8Mn2ZBQaAgUBAozL1/\n",
       "3v4ZPs2CgkBBoCBQcCUdLCgIFAQKAgWBwly/xVYWFAQKAgWBwtzjQ3pjQUGgIFAQKLiSDhYUBAoC\n",
       "BYGCQMFvsWBBQaAgUBAoOA8KFhQECgIFgcI8rqRXFhQECgIFgYJAwXlQsKAgUBAoCBTmcR60sqAg\n",
       "UBAoCBTmOf+8/TN8mgUFgYJAQaAgUPBUI1hQECgIFAQKzoOCBQWBgkBBoOBDOlhQECgIFAQKAgXn\n",
       "QcGCgkBBoCBQmJ9bjZUFBYGCQEGgMM/xpf8bCwoCBYGCQEGg4FYjWFAQKAgUBApuNYIFBYGCQEGg\n",
       "4P2gYEFBoCBQECgIFObnVmNlQUGgIFAQKHiJM1hQECgIFAQKrqSDBQWBgkBBoCBQ8Og5WFAQKAgU\n",
       "BApuNYIFBYGCQEGg4Eo6WFAQKAgUBAoCBbcawYKCQEGgIFCY55y3f4ZPs6AgUBAoCBRcSQcLCgIF\n",
       "gYJAQaDgqUawoCBQECgIFHxIBwsKAgWBgkBhfg7tVxYUBAoCBYGCQMGtRrCgIFAQKAgUvB8ULCgI\n",
       "FAQKAgXnQcGCgkBBoCBQECg4DwoWFAQKAgWBgvOgYEFBoCBQECj4kA4WFAQKAgWBgkDBXz0HCwoC\n",
       "BYGCQMGtRrCgIFAQKAgUfEgHCwoCBYGCQEGg4LdYsKAgUBAoCBR8SAcLCgIFgYJAYZ7rQ3pjQUGg\n",
       "IFAQKAgU3GoECwoCBYGCQMGHdLCgIFAQKAgUfEgHCwoCBYGCQEGgMM+5b/8Mn2ZBQaAgUBAouNUI\n",
       "FhQECgIFgYIr6WBBQaAgUBAoCBTcagQLCgIFgYJAwa1GsKAgUBAoCBTmcSG9sqAgUBAoCBQECvNc\n",
       "txobCwoCBYGCQMGtRrCgIFAQKAgUfEgHCwoCBYGCQEGgML4Eb2dBQaAgUBAouNUIFhQECgIFgYIP\n",
       "6WBBQaAgUBAoCBTmOb+3f4ZPs6AgUBAoCBTmXh/SGwsKAgWBgkDBeVCwoCBQECgIFBx3BAsKAgWB\n",
       "gkBBoDD3aLRRJwgUBAoCBbcawYKCQEGgIFCYx5PVlQUFgYJAQaAgUJjrVmNlQUGgIFAQKMzj0H6l\n",
       "ThAoCBQECq6kgwUFgYJAQaAgUPBUI1hQECgIFAQKXuIM6gSBgkBBoOAlzmBBQaAgUBAoCBQ81QgW\n",
       "FAQKAgWBwtyr0UadIFAQKAgUnAcFCwoCBYGCQEGg4DwoWFAQKAgUBArzOA9aqRMECgIFgYIr6WBB\n",
       "QaAgUBAoCBT8FgsWFAQKAgWBgj/qDRYUBAoCBYGCP+oN6gSBgkBBoCBQ8P/mgwUFgYJAQaDg0D5Y\n",
       "UBAoCBQECr70P6gTBAoCBYGCQMF5ULCgIFAQKAgUnAcFCwoCBYGCQMGVdLCgIFAQKAgUBArecg3q\n",
       "BIGCQEGg4FYjWFAQKAgUBAoO7YMFBYGCQEGgIFBwqxEsKAgUBAoCBf+6JlhQECgIFAQK/glkUCcI\n",
       "FAQKAgWBgvOgYEFBoCBQECh49BwsKAgUBAoCBVfSwYKCQEGgIFAQKMzxW2xlQUGgIFAQKPij3qBO\n",
       "ECgIFAQKzoOCBQWBgkBBoCBQ8FssWFAQKAgUBAreDwoWFAQKAgWBgivpYEFBoCBQECgIFPwWCxYU\n",
       "BAoCBYGCr6YI6gSBgkBBoDDHof3KgoJAQaAgUBAoOA8KFhQECgIFgYIP6WBBQaAgUBAo+JAOFhQE\n",
       "CgIFgYJAwfcHBQsKAgWBgkDBrUawoCBQECgIFHxIBwsKAgWBgkBBoOBPEYI6QaAgUBAo+FOEYEFB\n",
       "oCBQECg4DwoWFAQKAgWBgkDBb7FgQUGgIFAQKHiJM1hQECgIFAQKrqSDBQWBgkBBoCBQmPv4Lbax\n",
       "oCBQECgIFJwHBQsKAgWBgkDBeVCwoCBQECgIFAQKbjWCBQWBgkBBoOBWI1hQECgIFAQKrqSDBQWB\n",
       "gkBBoCBQcKsRLCgIFAQKAgUf0sGCgkBBoCBQmONN+5UFBYGCQEGg4Eo6WFAQKAgUBAoCBY+egwUF\n",
       "gYJAQaAw9779I3ybBQWBgkBBoOBKOlhQECgIFAQKAgVf8hYsKAgUBAoCBbcawYKCQEGgIFDwflCw\n",
       "oCBQECgIFAQK/hQhWFAQKAgUBAreDwoWFAQKAgWBgkP7YEFBoCBQECgIFDzVCBYUBAoCBYGCQ/tg\n",
       "QUGgIFAQKDgPChYUBAoCBYGCQMGj52BBQaAgUBAoOA8KFhQECgIFgYInq8GCgkBBoCBQECjMefsn\n",
       "+DgLCgIFgYJAwa1GsKAgUBAoCBS8HxQsKAgUBAoCBYGC86BgQUGgIFAQKDgPChYUBAoCBYGCK+lg\n",
       "QUGgIFAQKAgU3GoECwoCBYGCQMGj52BBQaAgUBAojC9e2FlQECgIFAQKAgW3GsGCgkBBoCBQ8Og5\n",
       "WFAQKAgUBAqerAYLCgIFgYJAQaDgViNYUBAoCBQECm41ggUFgYJAQaAwxwtCKwsKAgWBgkBBoOA8\n",
       "KFhQECgIFAQKzoOCBQWBgkBBoOBKOlhQECgIFAQKAgX/bz5YUBAoCBQECv7ffLCgIFAQKAgUvB8U\n",
       "LCgIFAQKAgWBgm/BCxYUBAoCBYGCL3kLFhQECgIFgYInq8GCgkBBoCBQECh4yzVYUBAoCBQECv5e\n",
       "LFhQECgIFAQKrqSDBQWBgkBBoCBQ8JZrsKAgUBAoCBS8xBksKAgUBAoCBVfSwYKCQEGgIFAQKHjL\n",
       "NVhQECgIFAQKvj8oWFAQKAgUBArOg4IFBYGCQEGgIFDw6DlYUBAoCBQECm41ggUFgYJAQaDgSjpY\n",
       "UBAoCBQECgIFtxrBgoJAQaAgUPAhHSwoCBQECgIF50HBgoJAQaAgUBAouNUIFhQECgIFgYJbjWBB\n",
       "QaAgUBAouJIOFhQECgIFgYJAwfcHBQsKAgWBgkDBv64JFhQECgIFgYLzoGBBQaAgUBAoCBTmPn6N\n",
       "bSwoCBQECgIFtxrBgoJAQaAgUPBkNVhQECgIFAQKnqwGCwoCBYGCQEGg4DwoWFAQKAgUBAqerAYL\n",
       "CgIFgYJAwZV0sKAgUBAoCBQECr4/KFhQECgIFAQKc7wgtLKgIFAQKAgUvB8ULCgIFAQKAgWBwly3\n",
       "GisLCgIFgYJAwa1GsKAgUBAoCBQc2gcLCgIFgYJAQaDg/aBgQUGgIFAQKMzx92IrCwoCBYGCQMF5\n",
       "ULCgIFAQKAgUBAq+miJYUBAoCBQECt4PChYUBAoCBYGCQ/tgQUGgIFAQKAgUnAcFCwoCBYGCQGHO\n",
       "40RoY0FBoCBQECg4DwoWFAQKAgWBgkDBb7FgQUGgIFAQKDi0DxYUBAoCBYGCQ/tgQUGgIFAQKAgU\n",
       "5vzcamwsKAgUBAoCBbcawYKCQEGgIFCY60N6ZUFBoCBQECgIFNxqBAsKAgWBgkBhzs+H9MaCgkBB\n",
       "oCBQcCUdLCgIFAQKAgWBgqcawYKCQEGgIFBwqxEsKAgUBAoCBR/SwYKCQEGgIFAQKHj0HCwoCBQE\n",
       "CgKFuc+ft3+GT7OgIFAQKAgUnAcFCwoCBYGCQEGg4P2gYEFBoCBQECjMuc6DNhYUBAoCBYGCK+lg\n",
       "QUGgIFAQKAgU5nj0vLKgIFAQKAgU3GoECwoCBYGCQMGVdLCgIFAQKAgUBApzr1uNjQUFgYJAQaDg\n",
       "PChYUBAoCBQECl7iDBYUBAoCBYGCQMGtRrCgIFAQKAgU5rrVWFlQECgIFAQKrqSDBQWBgkBBoCBQ\n",
       "mOP9oJUFBYGCQEGg4PukgwUFgYJAQaDgTftgQUGgIFAQKAgUPNUIFhQECgIFgYJbjWBBQaAgUBAo\n",
       "+JAOFhQECgIFgYJAwaPnYEFBoCBQECi41QgWFAQKAgWBwjyerK4sKAgUBAoCBYGCW41gQUGgIFAQ\n",
       "KHiJM1hQECgIFAQK87iSXllQECgIFAQKAgXvBwULCgIFgYJAwaPnYEFBoCBQECg4DwoWFAQKAgWB\n",
       "gkBh7nPf/hk+zYKCQEGgIFBwHhQsKAgUBAoChXlcSa8sKAgUBAoChf8AJ8ztt7m0cDkAAAAASUVO\n",
       "RK5CYII=\n",
       "\" transform=\"translate(2161, 47)\"/>\n",
       "</g>\n",
       "<path clip-path=\"url(#clip640)\" d=\"M 0 0 M2280.7 1246.86 Q2277.09 1246.86 2275.26 1250.42 Q2273.45 1253.96 2273.45 1261.09 Q2273.45 1268.2 2275.26 1271.77 Q2277.09 1275.31 2280.7 1275.31 Q2284.33 1275.31 2286.14 1271.77 Q2287.97 1268.2 2287.97 1261.09 Q2287.97 1253.96 2286.14 1250.42 Q2284.33 1246.86 2280.7 1246.86 M2280.7 1243.15 Q2286.51 1243.15 2289.57 1247.76 Q2292.64 1252.34 2292.64 1261.09 Q2292.64 1269.82 2289.57 1274.43 Q2286.51 1279.01 2280.7 1279.01 Q2274.89 1279.01 2271.81 1274.43 Q2268.76 1269.82 2268.76 1261.09 Q2268.76 1252.34 2271.81 1247.76 Q2274.89 1243.15 2280.7 1243.15 Z\" fill=\"#000000\" fill-rule=\"evenodd\" fill-opacity=\"1\" /><path clip-path=\"url(#clip640)\" d=\"M 0 0 M2297.71 1272.46 L2302.6 1272.46 L2302.6 1278.34 L2297.71 1278.34 L2297.71 1272.46 Z\" fill=\"#000000\" fill-rule=\"evenodd\" fill-opacity=\"1\" /><path clip-path=\"url(#clip640)\" d=\"M 0 0 M2306.49 1243.78 L2328.71 1243.78 L2328.71 1245.77 L2316.16 1278.34 L2311.28 1278.34 L2323.08 1247.71 L2306.49 1247.71 L2306.49 1243.78 Z\" fill=\"#000000\" fill-rule=\"evenodd\" fill-opacity=\"1\" /><path clip-path=\"url(#clip640)\" d=\"M 0 0 M2343.78 1246.86 Q2340.17 1246.86 2338.34 1250.42 Q2336.53 1253.96 2336.53 1261.09 Q2336.53 1268.2 2338.34 1271.77 Q2340.17 1275.31 2343.78 1275.31 Q2347.41 1275.31 2349.22 1271.77 Q2351.05 1268.2 2351.05 1261.09 Q2351.05 1253.96 2349.22 1250.42 Q2347.41 1246.86 2343.78 1246.86 M2343.78 1243.15 Q2349.59 1243.15 2352.64 1247.76 Q2355.72 1252.34 2355.72 1261.09 Q2355.72 1269.82 2352.64 1274.43 Q2349.59 1279.01 2343.78 1279.01 Q2337.97 1279.01 2334.89 1274.43 Q2331.83 1269.82 2331.83 1261.09 Q2331.83 1252.34 2334.89 1247.76 Q2337.97 1243.15 2343.78 1243.15 Z\" fill=\"#000000\" fill-rule=\"evenodd\" fill-opacity=\"1\" /><path clip-path=\"url(#clip640)\" d=\"M 0 0 M2280.7 1089.78 Q2277.09 1089.78 2275.26 1093.34 Q2273.45 1096.89 2273.45 1104.02 Q2273.45 1111.12 2275.26 1114.69 Q2277.09 1118.23 2280.7 1118.23 Q2284.33 1118.23 2286.14 1114.69 Q2287.97 1111.12 2287.97 1104.02 Q2287.97 1096.89 2286.14 1093.34 Q2284.33 1089.78 2280.7 1089.78 M2280.7 1086.08 Q2286.51 1086.08 2289.57 1090.68 Q2292.64 1095.27 2292.64 1104.02 Q2292.64 1112.74 2289.57 1117.35 Q2286.51 1121.93 2280.7 1121.93 Q2274.89 1121.93 2271.81 1117.35 Q2268.76 1112.74 2268.76 1104.02 Q2268.76 1095.27 2271.81 1090.68 Q2274.89 1086.08 2280.7 1086.08 Z\" fill=\"#000000\" fill-rule=\"evenodd\" fill-opacity=\"1\" /><path clip-path=\"url(#clip640)\" d=\"M 0 0 M2297.71 1115.38 L2302.6 1115.38 L2302.6 1121.26 L2297.71 1121.26 L2297.71 1115.38 Z\" fill=\"#000000\" fill-rule=\"evenodd\" fill-opacity=\"1\" /><path clip-path=\"url(#clip640)\" d=\"M 0 0 M2306.49 1086.7 L2328.71 1086.7 L2328.71 1088.69 L2316.16 1121.26 L2311.28 1121.26 L2323.08 1090.64 L2306.49 1090.64 L2306.49 1086.7 Z\" fill=\"#000000\" fill-rule=\"evenodd\" fill-opacity=\"1\" /><path clip-path=\"url(#clip640)\" d=\"M 0 0 M2333.83 1086.7 L2352.18 1086.7 L2352.18 1090.64 L2338.11 1090.64 L2338.11 1099.11 Q2339.13 1098.76 2340.14 1098.6 Q2341.16 1098.41 2342.18 1098.41 Q2347.97 1098.41 2351.35 1101.59 Q2354.73 1104.76 2354.73 1110.17 Q2354.73 1115.75 2351.26 1118.85 Q2347.78 1121.93 2341.46 1121.93 Q2339.29 1121.93 2337.02 1121.56 Q2334.77 1121.19 2332.37 1120.45 L2332.37 1115.75 Q2334.45 1116.89 2336.67 1117.44 Q2338.89 1118 2341.37 1118 Q2345.38 1118 2347.71 1115.89 Q2350.05 1113.78 2350.05 1110.17 Q2350.05 1106.56 2347.71 1104.46 Q2345.38 1102.35 2341.37 1102.35 Q2339.5 1102.35 2337.62 1102.77 Q2335.77 1103.18 2333.83 1104.06 L2333.83 1086.7 Z\" fill=\"#000000\" fill-rule=\"evenodd\" fill-opacity=\"1\" /><path clip-path=\"url(#clip640)\" d=\"M 0 0 M2280.7 932.702 Q2277.09 932.702 2275.26 936.267 Q2273.45 939.809 2273.45 946.938 Q2273.45 954.045 2275.26 957.61 Q2277.09 961.151 2280.7 961.151 Q2284.33 961.151 2286.14 957.61 Q2287.97 954.045 2287.97 946.938 Q2287.97 939.809 2286.14 936.267 Q2284.33 932.702 2280.7 932.702 M2280.7 928.999 Q2286.51 928.999 2289.57 933.605 Q2292.64 938.188 2292.64 946.938 Q2292.64 955.665 2289.57 960.272 Q2286.51 964.855 2280.7 964.855 Q2274.89 964.855 2271.81 960.272 Q2268.76 955.665 2268.76 946.938 Q2268.76 938.188 2271.81 933.605 Q2274.89 928.999 2280.7 928.999 Z\" fill=\"#000000\" fill-rule=\"evenodd\" fill-opacity=\"1\" /><path clip-path=\"url(#clip640)\" d=\"M 0 0 M2297.71 958.304 L2302.6 958.304 L2302.6 964.184 L2297.71 964.184 L2297.71 958.304 Z\" fill=\"#000000\" fill-rule=\"evenodd\" fill-opacity=\"1\" /><path clip-path=\"url(#clip640)\" d=\"M 0 0 M2317.67 947.772 Q2314.33 947.772 2312.41 949.554 Q2310.51 951.337 2310.51 954.462 Q2310.51 957.587 2312.41 959.369 Q2314.33 961.151 2317.67 961.151 Q2321 961.151 2322.92 959.369 Q2324.84 957.563 2324.84 954.462 Q2324.84 951.337 2322.92 949.554 Q2321.02 947.772 2317.67 947.772 M2312.99 945.781 Q2309.98 945.04 2308.29 942.98 Q2306.63 940.92 2306.63 937.957 Q2306.63 933.813 2309.57 931.406 Q2312.53 928.999 2317.67 928.999 Q2322.83 928.999 2325.77 931.406 Q2328.71 933.813 2328.71 937.957 Q2328.71 940.92 2327.02 942.98 Q2325.35 945.04 2322.37 945.781 Q2325.75 946.568 2327.62 948.86 Q2329.52 951.151 2329.52 954.462 Q2329.52 959.485 2326.44 962.17 Q2323.39 964.855 2317.67 964.855 Q2311.95 964.855 2308.87 962.17 Q2305.82 959.485 2305.82 954.462 Q2305.82 951.151 2307.71 948.86 Q2309.61 946.568 2312.99 945.781 M2311.28 938.397 Q2311.28 941.082 2312.95 942.587 Q2314.64 944.091 2317.67 944.091 Q2320.68 944.091 2322.37 942.587 Q2324.08 941.082 2324.08 938.397 Q2324.08 935.712 2322.37 934.207 Q2320.68 932.702 2317.67 932.702 Q2314.64 932.702 2312.95 934.207 Q2311.28 935.712 2311.28 938.397 Z\" fill=\"#000000\" fill-rule=\"evenodd\" fill-opacity=\"1\" /><path clip-path=\"url(#clip640)\" d=\"M 0 0 M2344.59 932.702 Q2340.98 932.702 2339.15 936.267 Q2337.34 939.809 2337.34 946.938 Q2337.34 954.045 2339.15 957.61 Q2340.98 961.151 2344.59 961.151 Q2348.22 961.151 2350.03 957.61 Q2351.86 954.045 2351.86 946.938 Q2351.86 939.809 2350.03 936.267 Q2348.22 932.702 2344.59 932.702 M2344.59 928.999 Q2350.4 928.999 2353.45 933.605 Q2356.53 938.188 2356.53 946.938 Q2356.53 955.665 2353.45 960.272 Q2350.4 964.855 2344.59 964.855 Q2338.78 964.855 2335.7 960.272 Q2332.64 955.665 2332.64 946.938 Q2332.64 938.188 2335.7 933.605 Q2338.78 928.999 2344.59 928.999 Z\" fill=\"#000000\" fill-rule=\"evenodd\" fill-opacity=\"1\" /><path clip-path=\"url(#clip640)\" d=\"M 0 0 M2280.7 775.625 Q2277.09 775.625 2275.26 779.189 Q2273.45 782.731 2273.45 789.861 Q2273.45 796.967 2275.26 800.532 Q2277.09 804.073 2280.7 804.073 Q2284.33 804.073 2286.14 800.532 Q2287.97 796.967 2287.97 789.861 Q2287.97 782.731 2286.14 779.189 Q2284.33 775.625 2280.7 775.625 M2280.7 771.921 Q2286.51 771.921 2289.57 776.527 Q2292.64 781.111 2292.64 789.861 Q2292.64 798.587 2289.57 803.194 Q2286.51 807.777 2280.7 807.777 Q2274.89 807.777 2271.81 803.194 Q2268.76 798.587 2268.76 789.861 Q2268.76 781.111 2271.81 776.527 Q2274.89 771.921 2280.7 771.921 Z\" fill=\"#000000\" fill-rule=\"evenodd\" fill-opacity=\"1\" /><path clip-path=\"url(#clip640)\" d=\"M 0 0 M2297.71 801.226 L2302.6 801.226 L2302.6 807.106 L2297.71 807.106 L2297.71 801.226 Z\" fill=\"#000000\" fill-rule=\"evenodd\" fill-opacity=\"1\" /><path clip-path=\"url(#clip640)\" d=\"M 0 0 M2317.67 790.694 Q2314.33 790.694 2312.41 792.476 Q2310.51 794.259 2310.51 797.384 Q2310.51 800.509 2312.41 802.291 Q2314.33 804.073 2317.67 804.073 Q2321 804.073 2322.92 802.291 Q2324.84 800.486 2324.84 797.384 Q2324.84 794.259 2322.92 792.476 Q2321.02 790.694 2317.67 790.694 M2312.99 788.703 Q2309.98 787.962 2308.29 785.902 Q2306.63 783.842 2306.63 780.879 Q2306.63 776.736 2309.57 774.328 Q2312.53 771.921 2317.67 771.921 Q2322.83 771.921 2325.77 774.328 Q2328.71 776.736 2328.71 780.879 Q2328.71 783.842 2327.02 785.902 Q2325.35 787.962 2322.37 788.703 Q2325.75 789.49 2327.62 791.782 Q2329.52 794.074 2329.52 797.384 Q2329.52 802.407 2326.44 805.092 Q2323.39 807.777 2317.67 807.777 Q2311.95 807.777 2308.87 805.092 Q2305.82 802.407 2305.82 797.384 Q2305.82 794.074 2307.71 791.782 Q2309.61 789.49 2312.99 788.703 M2311.28 781.319 Q2311.28 784.004 2312.95 785.509 Q2314.64 787.013 2317.67 787.013 Q2320.68 787.013 2322.37 785.509 Q2324.08 784.004 2324.08 781.319 Q2324.08 778.634 2322.37 777.129 Q2320.68 775.625 2317.67 775.625 Q2314.64 775.625 2312.95 777.129 Q2311.28 778.634 2311.28 781.319 Z\" fill=\"#000000\" fill-rule=\"evenodd\" fill-opacity=\"1\" /><path clip-path=\"url(#clip640)\" d=\"M 0 0 M2334.64 772.546 L2352.99 772.546 L2352.99 776.481 L2338.92 776.481 L2338.92 784.953 Q2339.94 784.606 2340.95 784.444 Q2341.97 784.259 2342.99 784.259 Q2348.78 784.259 2352.16 787.43 Q2355.54 790.601 2355.54 796.018 Q2355.54 801.597 2352.07 804.698 Q2348.59 807.777 2342.27 807.777 Q2340.1 807.777 2337.83 807.407 Q2335.58 807.036 2333.18 806.296 L2333.18 801.597 Q2335.26 802.731 2337.48 803.286 Q2339.7 803.842 2342.18 803.842 Q2346.19 803.842 2348.52 801.736 Q2350.86 799.629 2350.86 796.018 Q2350.86 792.407 2348.52 790.3 Q2346.19 788.194 2342.18 788.194 Q2340.31 788.194 2338.43 788.611 Q2336.58 789.027 2334.64 789.907 L2334.64 772.546 Z\" fill=\"#000000\" fill-rule=\"evenodd\" fill-opacity=\"1\" /><path clip-path=\"url(#clip640)\" d=\"M 0 0 M2280.7 618.547 Q2277.09 618.547 2275.26 622.112 Q2273.45 625.653 2273.45 632.783 Q2273.45 639.889 2275.26 643.454 Q2277.09 646.996 2280.7 646.996 Q2284.33 646.996 2286.14 643.454 Q2287.97 639.889 2287.97 632.783 Q2287.97 625.653 2286.14 622.112 Q2284.33 618.547 2280.7 618.547 M2280.7 614.843 Q2286.51 614.843 2289.57 619.45 Q2292.64 624.033 2292.64 632.783 Q2292.64 641.51 2289.57 646.116 Q2286.51 650.699 2280.7 650.699 Q2274.89 650.699 2271.81 646.116 Q2268.76 641.51 2268.76 632.783 Q2268.76 624.033 2271.81 619.45 Q2274.89 614.843 2280.7 614.843 Z\" fill=\"#000000\" fill-rule=\"evenodd\" fill-opacity=\"1\" /><path clip-path=\"url(#clip640)\" d=\"M 0 0 M2297.71 644.148 L2302.6 644.148 L2302.6 650.028 L2297.71 650.028 L2297.71 644.148 Z\" fill=\"#000000\" fill-rule=\"evenodd\" fill-opacity=\"1\" /><path clip-path=\"url(#clip640)\" d=\"M 0 0 M2307.81 649.31 L2307.81 645.051 Q2309.57 645.885 2311.37 646.324 Q2313.18 646.764 2314.91 646.764 Q2319.54 646.764 2321.97 643.662 Q2324.43 640.537 2324.77 634.195 Q2323.43 636.186 2321.37 637.25 Q2319.31 638.315 2316.81 638.315 Q2311.63 638.315 2308.59 635.19 Q2305.58 632.042 2305.58 626.602 Q2305.58 621.278 2308.73 618.061 Q2311.88 614.843 2317.11 614.843 Q2323.11 614.843 2326.26 619.45 Q2329.43 624.033 2329.43 632.783 Q2329.43 640.954 2325.54 645.838 Q2321.67 650.699 2315.12 650.699 Q2313.36 650.699 2311.56 650.352 Q2309.75 650.005 2307.81 649.31 M2317.11 634.658 Q2320.26 634.658 2322.09 632.505 Q2323.94 630.352 2323.94 626.602 Q2323.94 622.875 2322.09 620.723 Q2320.26 618.547 2317.11 618.547 Q2313.96 618.547 2312.11 620.723 Q2310.28 622.875 2310.28 626.602 Q2310.28 630.352 2312.11 632.505 Q2313.96 634.658 2317.11 634.658 Z\" fill=\"#000000\" fill-rule=\"evenodd\" fill-opacity=\"1\" /><path clip-path=\"url(#clip640)\" d=\"M 0 0 M2344.5 618.547 Q2340.89 618.547 2339.06 622.112 Q2337.25 625.653 2337.25 632.783 Q2337.25 639.889 2339.06 643.454 Q2340.89 646.996 2344.5 646.996 Q2348.13 646.996 2349.94 643.454 Q2351.76 639.889 2351.76 632.783 Q2351.76 625.653 2349.94 622.112 Q2348.13 618.547 2344.5 618.547 M2344.5 614.843 Q2350.31 614.843 2353.36 619.45 Q2356.44 624.033 2356.44 632.783 Q2356.44 641.51 2353.36 646.116 Q2350.31 650.699 2344.5 650.699 Q2338.69 650.699 2335.61 646.116 Q2332.55 641.51 2332.55 632.783 Q2332.55 624.033 2335.61 619.45 Q2338.69 614.843 2344.5 614.843 Z\" fill=\"#000000\" fill-rule=\"evenodd\" fill-opacity=\"1\" /><path clip-path=\"url(#clip640)\" d=\"M 0 0 M2280.7 461.469 Q2277.09 461.469 2275.26 465.034 Q2273.45 468.575 2273.45 475.705 Q2273.45 482.811 2275.26 486.376 Q2277.09 489.918 2280.7 489.918 Q2284.33 489.918 2286.14 486.376 Q2287.97 482.811 2287.97 475.705 Q2287.97 468.575 2286.14 465.034 Q2284.33 461.469 2280.7 461.469 M2280.7 457.765 Q2286.51 457.765 2289.57 462.372 Q2292.64 466.955 2292.64 475.705 Q2292.64 484.432 2289.57 489.038 Q2286.51 493.622 2280.7 493.622 Q2274.89 493.622 2271.81 489.038 Q2268.76 484.432 2268.76 475.705 Q2268.76 466.955 2271.81 462.372 Q2274.89 457.765 2280.7 457.765 Z\" fill=\"#000000\" fill-rule=\"evenodd\" fill-opacity=\"1\" /><path clip-path=\"url(#clip640)\" d=\"M 0 0 M2297.71 487.071 L2302.6 487.071 L2302.6 492.95 L2297.71 492.95 L2297.71 487.071 Z\" fill=\"#000000\" fill-rule=\"evenodd\" fill-opacity=\"1\" /><path clip-path=\"url(#clip640)\" d=\"M 0 0 M2307.81 492.233 L2307.81 487.973 Q2309.57 488.807 2311.37 489.247 Q2313.18 489.686 2314.91 489.686 Q2319.54 489.686 2321.97 486.585 Q2324.43 483.46 2324.77 477.117 Q2323.43 479.108 2321.37 480.173 Q2319.31 481.237 2316.81 481.237 Q2311.63 481.237 2308.59 478.112 Q2305.58 474.964 2305.58 469.524 Q2305.58 464.2 2308.73 460.983 Q2311.88 457.765 2317.11 457.765 Q2323.11 457.765 2326.26 462.372 Q2329.43 466.955 2329.43 475.705 Q2329.43 483.876 2325.54 488.76 Q2321.67 493.622 2315.12 493.622 Q2313.36 493.622 2311.56 493.274 Q2309.75 492.927 2307.81 492.233 M2317.11 477.58 Q2320.26 477.58 2322.09 475.427 Q2323.94 473.274 2323.94 469.524 Q2323.94 465.798 2322.09 463.645 Q2320.26 461.469 2317.11 461.469 Q2313.96 461.469 2312.11 463.645 Q2310.28 465.798 2310.28 469.524 Q2310.28 473.274 2312.11 475.427 Q2313.96 477.58 2317.11 477.58 Z\" fill=\"#000000\" fill-rule=\"evenodd\" fill-opacity=\"1\" /><path clip-path=\"url(#clip640)\" d=\"M 0 0 M2334.54 458.39 L2352.9 458.39 L2352.9 462.325 L2338.82 462.325 L2338.82 470.798 Q2339.84 470.45 2340.86 470.288 Q2341.88 470.103 2342.9 470.103 Q2348.69 470.103 2352.07 473.274 Q2355.45 476.446 2355.45 481.862 Q2355.45 487.441 2351.97 490.543 Q2348.5 493.622 2342.18 493.622 Q2340.01 493.622 2337.74 493.251 Q2335.49 492.881 2333.08 492.14 L2333.08 487.441 Q2335.17 488.575 2337.39 489.131 Q2339.61 489.686 2342.09 489.686 Q2346.09 489.686 2348.43 487.58 Q2350.77 485.473 2350.77 481.862 Q2350.77 478.251 2348.43 476.145 Q2346.09 474.038 2342.09 474.038 Q2340.21 474.038 2338.34 474.455 Q2336.49 474.872 2334.54 475.751 L2334.54 458.39 Z\" fill=\"#000000\" fill-rule=\"evenodd\" fill-opacity=\"1\" /><path clip-path=\"url(#clip640)\" d=\"M 0 0 M2269.43 331.937 L2277.07 331.937 L2277.07 305.572 L2268.76 307.238 L2268.76 302.979 L2277.02 301.312 L2281.7 301.312 L2281.7 331.937 L2289.33 331.937 L2289.33 335.872 L2269.43 335.872 L2269.43 331.937 Z\" fill=\"#000000\" fill-rule=\"evenodd\" fill-opacity=\"1\" /><path clip-path=\"url(#clip640)\" d=\"M 0 0 M2294.4 329.993 L2299.29 329.993 L2299.29 335.872 L2294.4 335.872 L2294.4 329.993 Z\" fill=\"#000000\" fill-rule=\"evenodd\" fill-opacity=\"1\" /><path clip-path=\"url(#clip640)\" d=\"M 0 0 M2314.36 304.391 Q2310.75 304.391 2308.92 307.956 Q2307.11 311.498 2307.11 318.627 Q2307.11 325.734 2308.92 329.298 Q2310.75 332.84 2314.36 332.84 Q2317.99 332.84 2319.8 329.298 Q2321.63 325.734 2321.63 318.627 Q2321.63 311.498 2319.8 307.956 Q2317.99 304.391 2314.36 304.391 M2314.36 300.687 Q2320.17 300.687 2323.22 305.294 Q2326.3 309.877 2326.3 318.627 Q2326.3 327.354 2323.22 331.96 Q2320.17 336.544 2314.36 336.544 Q2308.55 336.544 2305.47 331.96 Q2302.41 327.354 2302.41 318.627 Q2302.41 309.877 2305.47 305.294 Q2308.55 300.687 2314.36 300.687 Z\" fill=\"#000000\" fill-rule=\"evenodd\" fill-opacity=\"1\" /><path clip-path=\"url(#clip640)\" d=\"M 0 0 M2341.37 304.391 Q2337.76 304.391 2335.93 307.956 Q2334.13 311.498 2334.13 318.627 Q2334.13 325.734 2335.93 329.298 Q2337.76 332.84 2341.37 332.84 Q2345.01 332.84 2346.81 329.298 Q2348.64 325.734 2348.64 318.627 Q2348.64 311.498 2346.81 307.956 Q2345.01 304.391 2341.37 304.391 M2341.37 300.687 Q2347.18 300.687 2350.24 305.294 Q2353.32 309.877 2353.32 318.627 Q2353.32 327.354 2350.24 331.96 Q2347.18 336.544 2341.37 336.544 Q2335.56 336.544 2332.48 331.96 Q2329.43 327.354 2329.43 318.627 Q2329.43 309.877 2332.48 305.294 Q2335.56 300.687 2341.37 300.687 Z\" fill=\"#000000\" fill-rule=\"evenodd\" fill-opacity=\"1\" /><path clip-path=\"url(#clip640)\" d=\"M 0 0 M2269.43 174.859 L2277.07 174.859 L2277.07 148.494 L2268.76 150.16 L2268.76 145.901 L2277.02 144.235 L2281.7 144.235 L2281.7 174.859 L2289.33 174.859 L2289.33 178.795 L2269.43 178.795 L2269.43 174.859 Z\" fill=\"#000000\" fill-rule=\"evenodd\" fill-opacity=\"1\" /><path clip-path=\"url(#clip640)\" d=\"M 0 0 M2294.4 172.915 L2299.29 172.915 L2299.29 178.795 L2294.4 178.795 L2294.4 172.915 Z\" fill=\"#000000\" fill-rule=\"evenodd\" fill-opacity=\"1\" /><path clip-path=\"url(#clip640)\" d=\"M 0 0 M2314.36 147.313 Q2310.75 147.313 2308.92 150.878 Q2307.11 154.42 2307.11 161.549 Q2307.11 168.656 2308.92 172.221 Q2310.75 175.762 2314.36 175.762 Q2317.99 175.762 2319.8 172.221 Q2321.63 168.656 2321.63 161.549 Q2321.63 154.42 2319.8 150.878 Q2317.99 147.313 2314.36 147.313 M2314.36 143.61 Q2320.17 143.61 2323.22 148.216 Q2326.3 152.799 2326.3 161.549 Q2326.3 170.276 2323.22 174.883 Q2320.17 179.466 2314.36 179.466 Q2308.55 179.466 2305.47 174.883 Q2302.41 170.276 2302.41 161.549 Q2302.41 152.799 2305.47 148.216 Q2308.55 143.61 2314.36 143.61 Z\" fill=\"#000000\" fill-rule=\"evenodd\" fill-opacity=\"1\" /><path clip-path=\"url(#clip640)\" d=\"M 0 0 M2331.42 144.235 L2349.77 144.235 L2349.77 148.17 L2335.7 148.17 L2335.7 156.642 Q2336.72 156.295 2337.74 156.133 Q2338.76 155.947 2339.77 155.947 Q2345.56 155.947 2348.94 159.119 Q2352.32 162.29 2352.32 167.707 Q2352.32 173.285 2348.85 176.387 Q2345.38 179.466 2339.06 179.466 Q2336.88 179.466 2334.61 179.096 Q2332.37 178.725 2329.96 177.984 L2329.96 173.285 Q2332.04 174.42 2334.26 174.975 Q2336.49 175.531 2338.96 175.531 Q2342.97 175.531 2345.31 173.424 Q2347.64 171.318 2347.64 167.707 Q2347.64 164.096 2345.31 161.989 Q2342.97 159.883 2338.96 159.883 Q2337.09 159.883 2335.21 160.299 Q2333.36 160.716 2331.42 161.596 L2331.42 144.235 Z\" fill=\"#000000\" fill-rule=\"evenodd\" fill-opacity=\"1\" /><polyline clip-path=\"url(#clip640)\" style=\"stroke:#000000; stroke-width:4; stroke-opacity:1; fill:none\" points=\"\n",
       "  2232.76,1410.9 2232.76,1264.69 2256.76,1264.69 2232.76,1264.69 2232.76,1107.61 2256.76,1107.61 2232.76,1107.61 2232.76,950.532 2256.76,950.532 2232.76,950.532 \n",
       "  2232.76,793.455 2256.76,793.455 2232.76,793.455 2232.76,636.377 2256.76,636.377 2232.76,636.377 2232.76,479.299 2256.76,479.299 2232.76,479.299 2232.76,322.221 \n",
       "  2256.76,322.221 2232.76,322.221 2232.76,165.143 2256.76,165.143 2232.76,165.143 2232.76,47.2441 \n",
       "  \"/>\n",
       "</svg>\n"
      ]
     },
     "execution_count": 65,
     "metadata": {},
     "output_type": "execute_result"
    }
   ],
   "source": [
    "plot(self_tuning_nn)"
   ]
  },
  {
   "cell_type": "code",
   "execution_count": 66,
   "metadata": {},
   "outputs": [
    {
     "data": {
      "text/plain": [
       "(best_model = \u001b[34mNeuralNetworkClassifier{CustomNN,…} @051\u001b[39m,\n",
       " best_fitted_params = (chain = Chain(Chain(Dense(4, 100, σ), Dense(100, 3, σ)), softmax),),)"
      ]
     },
     "execution_count": 66,
     "metadata": {},
     "output_type": "execute_result"
    }
   ],
   "source": [
    "best = fitted_params(self_tuning_nn)\n",
    "best"
   ]
  },
  {
   "cell_type": "code",
   "execution_count": 67,
   "metadata": {},
   "outputs": [
    {
     "data": {
      "text/plain": [
       "NeuralNetworkClassifier(\n",
       "    builder = CustomNN(\n",
       "            n1 = 100),\n",
       "    finaliser = NNlib.softmax,\n",
       "    optimiser = ADAM(0.00032, (0.9, 0.999), IdDict{Any,Any}()),\n",
       "    loss = Flux.crossentropy,\n",
       "    epochs = 3000,\n",
       "    batch_size = 16,\n",
       "    lambda = 0.0021544346900318843,\n",
       "    alpha = 0.0,\n",
       "    optimiser_changes_trigger_retraining = false)\u001b[34m @051\u001b[39m"
      ]
     },
     "execution_count": 67,
     "metadata": {},
     "output_type": "execute_result"
    }
   ],
   "source": [
    "best.best_model"
   ]
  },
  {
   "cell_type": "code",
   "execution_count": 68,
   "metadata": {
    "scrolled": true
   },
   "outputs": [
    {
     "data": {
      "text/plain": [
       "0.65345985f0"
      ]
     },
     "execution_count": 68,
     "metadata": {},
     "output_type": "execute_result"
    }
   ],
   "source": [
    "best_loss = z.report.best_result.measurement[1]"
   ]
  },
  {
   "cell_type": "code",
   "execution_count": 97,
   "metadata": {},
   "outputs": [
    {
     "data": {
      "text/plain": [
       "34"
      ]
     },
     "execution_count": 97,
     "metadata": {},
     "output_type": "execute_result"
    }
   ],
   "source": [
    "best_n1 = best.best_model.builder.n1"
   ]
  },
  {
   "cell_type": "code",
   "execution_count": 48,
   "metadata": {},
   "outputs": [],
   "source": [
    "fn = \"Figures/Grid_NN_$(param1):$(a)_x_$(param2):$(b)_bestloss:$(best_loss)_lr:$c\"\n",
    "png(replace(fn,'.' => ','))"
   ]
  },
  {
   "cell_type": "markdown",
   "metadata": {},
   "source": [
    "### GridSearch for Learning Rate"
   ]
  },
  {
   "cell_type": "code",
   "execution_count": 70,
   "metadata": {},
   "outputs": [
    {
     "data": {
      "text/plain": [
       "MLJBase.NumericRange(Float64, :(optimiser.eta), ... )"
      ]
     },
     "execution_count": 70,
     "metadata": {},
     "output_type": "execute_result"
    }
   ],
   "source": [
    "param1 = :epochs\n",
    "param2 = :(optimiser.eta)\n",
    "\n",
    "r1 = range(nn2, param1, lower=10, upper=1000, scale=:linear)\n",
    "r2 = range(nn2, param2, lower=0.00001, upper=0.01, scale=:log10)"
   ]
  },
  {
   "cell_type": "code",
   "execution_count": 71,
   "metadata": {
    "scrolled": true
   },
   "outputs": [
    {
     "data": {
      "text/plain": [
       "ProbabilisticTunedModel(\n",
       "    model = NeuralNetworkClassifier(\n",
       "            builder = \u001b[34mCustomNN @951\u001b[39m,\n",
       "            finaliser = NNlib.softmax,\n",
       "            optimiser = ADAM(0.00032, (0.9, 0.999), IdDict{Any,Any}()),\n",
       "            loss = Flux.crossentropy,\n",
       "            epochs = 2000,\n",
       "            batch_size = 16,\n",
       "            lambda = 0.0021544346900318843,\n",
       "            alpha = 0.0,\n",
       "            optimiser_changes_trigger_retraining = false),\n",
       "    tuning = Grid(\n",
       "            goal = 50,\n",
       "            resolution = 10,\n",
       "            shuffle = true,\n",
       "            rng = Random._GLOBAL_RNG()),\n",
       "    resampling = Holdout(\n",
       "            fraction_train = 0.7,\n",
       "            shuffle = false,\n",
       "            rng = Random._GLOBAL_RNG()),\n",
       "    measure = cross_entropy(\n",
       "            eps = 2.220446049250313e-16),\n",
       "    weights = nothing,\n",
       "    operation = MLJModelInterface.predict,\n",
       "    range = MLJBase.NumericRange{T,MLJBase.Bounded,Symbol} where T[\u001b[34mNumericRange{Int64,…} @873\u001b[39m, \u001b[34mNumericRange{Float64,…} @713\u001b[39m],\n",
       "    train_best = true,\n",
       "    repeats = 1,\n",
       "    n = nothing,\n",
       "    acceleration = CPUThreads{Int64}(1),\n",
       "    acceleration_resampling = CPU1{Nothing}(nothing),\n",
       "    check_measure = true)\u001b[34m @897\u001b[39m"
      ]
     },
     "execution_count": 71,
     "metadata": {},
     "output_type": "execute_result"
    }
   ],
   "source": [
    "self_tuning_nn_model = TunedModel(model=nn2,\n",
    "                                    tuning=Grid(goal=50),\n",
    "                                    resampling=Holdout(fraction_train=0.7), \n",
    "                                    measure=cross_entropy,\n",
    "                                    acceleration=CPUThreads(),\n",
    "                                    range=[r1, r2])"
   ]
  },
  {
   "cell_type": "code",
   "execution_count": 72,
   "metadata": {},
   "outputs": [
    {
     "data": {
      "text/plain": [
       "\u001b[34mMachine{ProbabilisticTunedModel{Grid,…}} @586\u001b[39m trained 0 times.\n",
       "  args: \n",
       "    1:\t\u001b[34mSource @246\u001b[39m ⏎ `Table{AbstractArray{Continuous,1}}`\n",
       "    2:\t\u001b[34mSource @836\u001b[39m ⏎ `AbstractArray{Multiclass{3},1}`\n"
      ]
     },
     "execution_count": 72,
     "metadata": {},
     "output_type": "execute_result"
    }
   ],
   "source": [
    "self_tuning_nn = machine(self_tuning_nn_model, X_stand, y)"
   ]
  },
  {
   "cell_type": "code",
   "execution_count": 73,
   "metadata": {},
   "outputs": [
    {
     "name": "stderr",
     "output_type": "stream",
     "text": [
      "┌ Info: Training \u001b[34mMachine{ProbabilisticTunedModel{Grid,…}} @586\u001b[39m.\n",
      "└ @ MLJBase /home/andrew/.julia/packages/MLJBase/uKzAz/src/machines.jl:319\n",
      "┌ Info: Attempting to evaluate 49 models.\n",
      "└ @ MLJTuning /home/andrew/.julia/packages/MLJTuning/Bbgvk/src/tuned_models.jl:494\n",
      "\u001b[33mEvaluating over 49 metamodels: 100%[=========================] Time: 0:00:40\u001b[39m\n"
     ]
    },
    {
     "data": {
      "text/plain": [
       "\u001b[34mMachine{ProbabilisticTunedModel{Grid,…}} @586\u001b[39m trained 1 time.\n",
       "  args: \n",
       "    1:\t\u001b[34mSource @246\u001b[39m ⏎ `Table{AbstractArray{Continuous,1}}`\n",
       "    2:\t\u001b[34mSource @836\u001b[39m ⏎ `AbstractArray{Multiclass{3},1}`\n"
      ]
     },
     "execution_count": 73,
     "metadata": {},
     "output_type": "execute_result"
    }
   ],
   "source": [
    "z = fit!(self_tuning_nn, rows=train)"
   ]
  },
  {
   "cell_type": "code",
   "execution_count": 74,
   "metadata": {
    "scrolled": false
   },
   "outputs": [
    {
     "data": {
      "image/svg+xml": [
       "<?xml version=\"1.0\" encoding=\"utf-8\"?>\n",
       "<svg xmlns=\"http://www.w3.org/2000/svg\" xmlns:xlink=\"http://www.w3.org/1999/xlink\" width=\"600\" height=\"400\" viewBox=\"0 0 2400 1600\">\n",
       "<defs>\n",
       "  <clipPath id=\"clip680\">\n",
       "    <rect x=\"0\" y=\"0\" width=\"2400\" height=\"1600\"/>\n",
       "  </clipPath>\n",
       "</defs>\n",
       "<path clip-path=\"url(#clip680)\" d=\"\n",
       "M0 1600 L2400 1600 L2400 0 L0 0  Z\n",
       "  \" fill=\"#ffffff\" fill-rule=\"evenodd\" fill-opacity=\"1\"/>\n",
       "<defs>\n",
       "  <clipPath id=\"clip681\">\n",
       "    <rect x=\"480\" y=\"0\" width=\"1681\" height=\"1600\"/>\n",
       "  </clipPath>\n",
       "</defs>\n",
       "<path clip-path=\"url(#clip680)\" d=\"\n",
       "M244.308 1423.18 L2112.76 1423.18 L2112.76 47.2441 L244.308 47.2441  Z\n",
       "  \" fill=\"#ffffff\" fill-rule=\"evenodd\" fill-opacity=\"1\"/>\n",
       "<defs>\n",
       "  <clipPath id=\"clip682\">\n",
       "    <rect x=\"244\" y=\"47\" width=\"1869\" height=\"1377\"/>\n",
       "  </clipPath>\n",
       "</defs>\n",
       "<polyline clip-path=\"url(#clip682)\" style=\"stroke:#000000; stroke-width:2; stroke-opacity:0.1; fill:none\" points=\"\n",
       "  279.383,1423.18 279.383,47.2441 \n",
       "  \"/>\n",
       "<polyline clip-path=\"url(#clip682)\" style=\"stroke:#000000; stroke-width:2; stroke-opacity:0.1; fill:none\" points=\"\n",
       "  724.506,1423.18 724.506,47.2441 \n",
       "  \"/>\n",
       "<polyline clip-path=\"url(#clip682)\" style=\"stroke:#000000; stroke-width:2; stroke-opacity:0.1; fill:none\" points=\"\n",
       "  1169.63,1423.18 1169.63,47.2441 \n",
       "  \"/>\n",
       "<polyline clip-path=\"url(#clip682)\" style=\"stroke:#000000; stroke-width:2; stroke-opacity:0.1; fill:none\" points=\"\n",
       "  1614.75,1423.18 1614.75,47.2441 \n",
       "  \"/>\n",
       "<polyline clip-path=\"url(#clip682)\" style=\"stroke:#000000; stroke-width:2; stroke-opacity:0.1; fill:none\" points=\"\n",
       "  2059.88,1423.18 2059.88,47.2441 \n",
       "  \"/>\n",
       "<polyline clip-path=\"url(#clip682)\" style=\"stroke:#000000; stroke-width:2; stroke-opacity:0.1; fill:none\" points=\"\n",
       "  244.308,1384.24 2112.76,1384.24 \n",
       "  \"/>\n",
       "<polyline clip-path=\"url(#clip682)\" style=\"stroke:#000000; stroke-width:2; stroke-opacity:0.1; fill:none\" points=\"\n",
       "  244.308,951.554 2112.76,951.554 \n",
       "  \"/>\n",
       "<polyline clip-path=\"url(#clip682)\" style=\"stroke:#000000; stroke-width:2; stroke-opacity:0.1; fill:none\" points=\"\n",
       "  244.308,518.87 2112.76,518.87 \n",
       "  \"/>\n",
       "<polyline clip-path=\"url(#clip682)\" style=\"stroke:#000000; stroke-width:2; stroke-opacity:0.1; fill:none\" points=\"\n",
       "  244.308,86.1857 2112.76,86.1857 \n",
       "  \"/>\n",
       "<polyline clip-path=\"url(#clip680)\" style=\"stroke:#000000; stroke-width:4; stroke-opacity:1; fill:none\" points=\"\n",
       "  244.308,1423.18 2112.76,1423.18 \n",
       "  \"/>\n",
       "<polyline clip-path=\"url(#clip680)\" style=\"stroke:#000000; stroke-width:4; stroke-opacity:1; fill:none\" points=\"\n",
       "  244.308,1423.18 244.308,47.2441 \n",
       "  \"/>\n",
       "<polyline clip-path=\"url(#clip680)\" style=\"stroke:#000000; stroke-width:4; stroke-opacity:1; fill:none\" points=\"\n",
       "  279.383,1423.18 279.383,1406.67 \n",
       "  \"/>\n",
       "<polyline clip-path=\"url(#clip680)\" style=\"stroke:#000000; stroke-width:4; stroke-opacity:1; fill:none\" points=\"\n",
       "  724.506,1423.18 724.506,1406.67 \n",
       "  \"/>\n",
       "<polyline clip-path=\"url(#clip680)\" style=\"stroke:#000000; stroke-width:4; stroke-opacity:1; fill:none\" points=\"\n",
       "  1169.63,1423.18 1169.63,1406.67 \n",
       "  \"/>\n",
       "<polyline clip-path=\"url(#clip680)\" style=\"stroke:#000000; stroke-width:4; stroke-opacity:1; fill:none\" points=\"\n",
       "  1614.75,1423.18 1614.75,1406.67 \n",
       "  \"/>\n",
       "<polyline clip-path=\"url(#clip680)\" style=\"stroke:#000000; stroke-width:4; stroke-opacity:1; fill:none\" points=\"\n",
       "  2059.88,1423.18 2059.88,1406.67 \n",
       "  \"/>\n",
       "<polyline clip-path=\"url(#clip680)\" style=\"stroke:#000000; stroke-width:4; stroke-opacity:1; fill:none\" points=\"\n",
       "  244.308,1384.24 266.729,1384.24 \n",
       "  \"/>\n",
       "<polyline clip-path=\"url(#clip680)\" style=\"stroke:#000000; stroke-width:4; stroke-opacity:1; fill:none\" points=\"\n",
       "  244.308,951.554 266.729,951.554 \n",
       "  \"/>\n",
       "<polyline clip-path=\"url(#clip680)\" style=\"stroke:#000000; stroke-width:4; stroke-opacity:1; fill:none\" points=\"\n",
       "  244.308,518.87 266.729,518.87 \n",
       "  \"/>\n",
       "<polyline clip-path=\"url(#clip680)\" style=\"stroke:#000000; stroke-width:4; stroke-opacity:1; fill:none\" points=\"\n",
       "  244.308,86.1857 266.729,86.1857 \n",
       "  \"/>\n",
       "<path clip-path=\"url(#clip680)\" d=\"M 0 0 M279.383 1445.17 Q275.772 1445.17 273.944 1448.74 Q272.138 1452.28 272.138 1459.41 Q272.138 1466.51 273.944 1470.08 Q275.772 1473.62 279.383 1473.62 Q283.018 1473.62 284.823 1470.08 Q286.652 1466.51 286.652 1459.41 Q286.652 1452.28 284.823 1448.74 Q283.018 1445.17 279.383 1445.17 M279.383 1441.47 Q285.194 1441.47 288.249 1446.07 Q291.328 1450.66 291.328 1459.41 Q291.328 1468.13 288.249 1472.74 Q285.194 1477.32 279.383 1477.32 Q273.573 1477.32 270.495 1472.74 Q267.439 1468.13 267.439 1459.41 Q267.439 1450.66 270.495 1446.07 Q273.573 1441.47 279.383 1441.47 Z\" fill=\"#000000\" fill-rule=\"evenodd\" fill-opacity=\"1\" /><path clip-path=\"url(#clip680)\" d=\"M 0 0 M692.643 1472.72 L708.962 1472.72 L708.962 1476.65 L687.018 1476.65 L687.018 1472.72 Q689.68 1469.96 694.263 1465.33 Q698.87 1460.68 700.05 1459.34 Q702.296 1456.81 703.175 1455.08 Q704.078 1453.32 704.078 1451.63 Q704.078 1448.87 702.134 1447.14 Q700.213 1445.4 697.111 1445.4 Q694.912 1445.4 692.458 1446.17 Q690.027 1446.93 687.25 1448.48 L687.25 1443.76 Q690.074 1442.62 692.527 1442.05 Q694.981 1441.47 697.018 1441.47 Q702.388 1441.47 705.583 1444.15 Q708.777 1446.84 708.777 1451.33 Q708.777 1453.46 707.967 1455.38 Q707.18 1457.28 705.074 1459.87 Q704.495 1460.54 701.393 1463.76 Q698.291 1466.95 692.643 1472.72 Z\" fill=\"#000000\" fill-rule=\"evenodd\" fill-opacity=\"1\" /><path clip-path=\"url(#clip680)\" d=\"M 0 0 M714.078 1442.09 L732.435 1442.09 L732.435 1446.03 L718.361 1446.03 L718.361 1454.5 Q719.379 1454.15 720.398 1453.99 Q721.416 1453.8 722.435 1453.8 Q728.222 1453.8 731.601 1456.98 Q734.981 1460.15 734.981 1465.56 Q734.981 1471.14 731.509 1474.24 Q728.036 1477.32 721.717 1477.32 Q719.541 1477.32 717.273 1476.95 Q715.027 1476.58 712.62 1475.84 L712.62 1471.14 Q714.703 1472.28 716.925 1472.83 Q719.148 1473.39 721.624 1473.39 Q725.629 1473.39 727.967 1471.28 Q730.305 1469.18 730.305 1465.56 Q730.305 1461.95 727.967 1459.85 Q725.629 1457.74 721.624 1457.74 Q719.749 1457.74 717.874 1458.16 Q716.023 1458.57 714.078 1459.45 L714.078 1442.09 Z\" fill=\"#000000\" fill-rule=\"evenodd\" fill-opacity=\"1\" /><path clip-path=\"url(#clip680)\" d=\"M 0 0 M750.05 1445.17 Q746.439 1445.17 744.61 1448.74 Q742.805 1452.28 742.805 1459.41 Q742.805 1466.51 744.61 1470.08 Q746.439 1473.62 750.05 1473.62 Q753.684 1473.62 755.49 1470.08 Q757.319 1466.51 757.319 1459.41 Q757.319 1452.28 755.49 1448.74 Q753.684 1445.17 750.05 1445.17 M750.05 1441.47 Q755.86 1441.47 758.916 1446.07 Q761.995 1450.66 761.995 1459.41 Q761.995 1468.13 758.916 1472.74 Q755.86 1477.32 750.05 1477.32 Q744.24 1477.32 741.161 1472.74 Q738.106 1468.13 738.106 1459.41 Q738.106 1450.66 741.161 1446.07 Q744.24 1441.47 750.05 1441.47 Z\" fill=\"#000000\" fill-rule=\"evenodd\" fill-opacity=\"1\" /><path clip-path=\"url(#clip680)\" d=\"M 0 0 M1132.89 1442.09 L1151.25 1442.09 L1151.25 1446.03 L1137.18 1446.03 L1137.18 1454.5 Q1138.19 1454.15 1139.21 1453.99 Q1140.23 1453.8 1141.25 1453.8 Q1147.04 1453.8 1150.42 1456.98 Q1153.8 1460.15 1153.8 1465.56 Q1153.8 1471.14 1150.32 1474.24 Q1146.85 1477.32 1140.53 1477.32 Q1138.36 1477.32 1136.09 1476.95 Q1133.84 1476.58 1131.44 1475.84 L1131.44 1471.14 Q1133.52 1472.28 1135.74 1472.83 Q1137.96 1473.39 1140.44 1473.39 Q1144.44 1473.39 1146.78 1471.28 Q1149.12 1469.18 1149.12 1465.56 Q1149.12 1461.95 1146.78 1459.85 Q1144.44 1457.74 1140.44 1457.74 Q1138.56 1457.74 1136.69 1458.16 Q1134.84 1458.57 1132.89 1459.45 L1132.89 1442.09 Z\" fill=\"#000000\" fill-rule=\"evenodd\" fill-opacity=\"1\" /><path clip-path=\"url(#clip680)\" d=\"M 0 0 M1168.87 1445.17 Q1165.25 1445.17 1163.43 1448.74 Q1161.62 1452.28 1161.62 1459.41 Q1161.62 1466.51 1163.43 1470.08 Q1165.25 1473.62 1168.87 1473.62 Q1172.5 1473.62 1174.31 1470.08 Q1176.13 1466.51 1176.13 1459.41 Q1176.13 1452.28 1174.31 1448.74 Q1172.5 1445.17 1168.87 1445.17 M1168.87 1441.47 Q1174.68 1441.47 1177.73 1446.07 Q1180.81 1450.66 1180.81 1459.41 Q1180.81 1468.13 1177.73 1472.74 Q1174.68 1477.32 1168.87 1477.32 Q1163.06 1477.32 1159.98 1472.74 Q1156.92 1468.13 1156.92 1459.41 Q1156.92 1450.66 1159.98 1446.07 Q1163.06 1441.47 1168.87 1441.47 Z\" fill=\"#000000\" fill-rule=\"evenodd\" fill-opacity=\"1\" /><path clip-path=\"url(#clip680)\" d=\"M 0 0 M1195.88 1445.17 Q1192.27 1445.17 1190.44 1448.74 Q1188.63 1452.28 1188.63 1459.41 Q1188.63 1466.51 1190.44 1470.08 Q1192.27 1473.62 1195.88 1473.62 Q1199.51 1473.62 1201.32 1470.08 Q1203.15 1466.51 1203.15 1459.41 Q1203.15 1452.28 1201.32 1448.74 Q1199.51 1445.17 1195.88 1445.17 M1195.88 1441.47 Q1201.69 1441.47 1204.74 1446.07 Q1207.82 1450.66 1207.82 1459.41 Q1207.82 1468.13 1204.74 1472.74 Q1201.69 1477.32 1195.88 1477.32 Q1190.07 1477.32 1186.99 1472.74 Q1183.93 1468.13 1183.93 1459.41 Q1183.93 1450.66 1186.99 1446.07 Q1190.07 1441.47 1195.88 1441.47 Z\" fill=\"#000000\" fill-rule=\"evenodd\" fill-opacity=\"1\" /><path clip-path=\"url(#clip680)\" d=\"M 0 0 M1577.13 1442.09 L1599.35 1442.09 L1599.35 1444.08 L1586.8 1476.65 L1581.92 1476.65 L1593.72 1446.03 L1577.13 1446.03 L1577.13 1442.09 Z\" fill=\"#000000\" fill-rule=\"evenodd\" fill-opacity=\"1\" /><path clip-path=\"url(#clip680)\" d=\"M 0 0 M1604.46 1442.09 L1622.82 1442.09 L1622.82 1446.03 L1608.75 1446.03 L1608.75 1454.5 Q1609.76 1454.15 1610.78 1453.99 Q1611.8 1453.8 1612.82 1453.8 Q1618.61 1453.8 1621.99 1456.98 Q1625.37 1460.15 1625.37 1465.56 Q1625.37 1471.14 1621.89 1474.24 Q1618.42 1477.32 1612.1 1477.32 Q1609.93 1477.32 1607.66 1476.95 Q1605.41 1476.58 1603 1475.84 L1603 1471.14 Q1605.09 1472.28 1607.31 1472.83 Q1609.53 1473.39 1612.01 1473.39 Q1616.01 1473.39 1618.35 1471.28 Q1620.69 1469.18 1620.69 1465.56 Q1620.69 1461.95 1618.35 1459.85 Q1616.01 1457.74 1612.01 1457.74 Q1610.13 1457.74 1608.26 1458.16 Q1606.41 1458.57 1604.46 1459.45 L1604.46 1442.09 Z\" fill=\"#000000\" fill-rule=\"evenodd\" fill-opacity=\"1\" /><path clip-path=\"url(#clip680)\" d=\"M 0 0 M1640.44 1445.17 Q1636.82 1445.17 1635 1448.74 Q1633.19 1452.28 1633.19 1459.41 Q1633.19 1466.51 1635 1470.08 Q1636.82 1473.62 1640.44 1473.62 Q1644.07 1473.62 1645.87 1470.08 Q1647.7 1466.51 1647.7 1459.41 Q1647.7 1452.28 1645.87 1448.74 Q1644.07 1445.17 1640.44 1445.17 M1640.44 1441.47 Q1646.25 1441.47 1649.3 1446.07 Q1652.38 1450.66 1652.38 1459.41 Q1652.38 1468.13 1649.3 1472.74 Q1646.25 1477.32 1640.44 1477.32 Q1634.62 1477.32 1631.55 1472.74 Q1628.49 1468.13 1628.49 1459.41 Q1628.49 1450.66 1631.55 1446.07 Q1634.62 1441.47 1640.44 1441.47 Z\" fill=\"#000000\" fill-rule=\"evenodd\" fill-opacity=\"1\" /><path clip-path=\"url(#clip680)\" d=\"M 0 0 M2009.74 1472.72 L2017.38 1472.72 L2017.38 1446.35 L2009.07 1448.02 L2009.07 1443.76 L2017.33 1442.09 L2022.01 1442.09 L2022.01 1472.72 L2029.64 1472.72 L2029.64 1476.65 L2009.74 1476.65 L2009.74 1472.72 Z\" fill=\"#000000\" fill-rule=\"evenodd\" fill-opacity=\"1\" /><path clip-path=\"url(#clip680)\" d=\"M 0 0 M2044.71 1445.17 Q2041.1 1445.17 2039.27 1448.74 Q2037.47 1452.28 2037.47 1459.41 Q2037.47 1466.51 2039.27 1470.08 Q2041.1 1473.62 2044.71 1473.62 Q2048.35 1473.62 2050.15 1470.08 Q2051.98 1466.51 2051.98 1459.41 Q2051.98 1452.28 2050.15 1448.74 Q2048.35 1445.17 2044.71 1445.17 M2044.71 1441.47 Q2050.52 1441.47 2053.58 1446.07 Q2056.66 1450.66 2056.66 1459.41 Q2056.66 1468.13 2053.58 1472.74 Q2050.52 1477.32 2044.71 1477.32 Q2038.9 1477.32 2035.82 1472.74 Q2032.77 1468.13 2032.77 1459.41 Q2032.77 1450.66 2035.82 1446.07 Q2038.9 1441.47 2044.71 1441.47 Z\" fill=\"#000000\" fill-rule=\"evenodd\" fill-opacity=\"1\" /><path clip-path=\"url(#clip680)\" d=\"M 0 0 M2071.73 1445.17 Q2068.12 1445.17 2066.29 1448.74 Q2064.48 1452.28 2064.48 1459.41 Q2064.48 1466.51 2066.29 1470.08 Q2068.12 1473.62 2071.73 1473.62 Q2075.36 1473.62 2077.17 1470.08 Q2079 1466.51 2079 1459.41 Q2079 1452.28 2077.17 1448.74 Q2075.36 1445.17 2071.73 1445.17 M2071.73 1441.47 Q2077.54 1441.47 2080.59 1446.07 Q2083.67 1450.66 2083.67 1459.41 Q2083.67 1468.13 2080.59 1472.74 Q2077.54 1477.32 2071.73 1477.32 Q2065.92 1477.32 2062.84 1472.74 Q2059.78 1468.13 2059.78 1459.41 Q2059.78 1450.66 2062.84 1446.07 Q2065.92 1441.47 2071.73 1441.47 Z\" fill=\"#000000\" fill-rule=\"evenodd\" fill-opacity=\"1\" /><path clip-path=\"url(#clip680)\" d=\"M 0 0 M2098.74 1445.17 Q2095.13 1445.17 2093.3 1448.74 Q2091.5 1452.28 2091.5 1459.41 Q2091.5 1466.51 2093.3 1470.08 Q2095.13 1473.62 2098.74 1473.62 Q2102.38 1473.62 2104.18 1470.08 Q2106.01 1466.51 2106.01 1459.41 Q2106.01 1452.28 2104.18 1448.74 Q2102.38 1445.17 2098.74 1445.17 M2098.74 1441.47 Q2104.55 1441.47 2107.61 1446.07 Q2110.69 1450.66 2110.69 1459.41 Q2110.69 1468.13 2107.61 1472.74 Q2104.55 1477.32 2098.74 1477.32 Q2092.93 1477.32 2089.85 1472.74 Q2086.8 1468.13 2086.8 1459.41 Q2086.8 1450.66 2089.85 1446.07 Q2092.93 1441.47 2098.74 1441.47 Z\" fill=\"#000000\" fill-rule=\"evenodd\" fill-opacity=\"1\" /><path clip-path=\"url(#clip680)\" d=\"M 0 0 M128.135 1404.03 L135.774 1404.03 L135.774 1377.67 L127.464 1379.33 L127.464 1375.07 L135.728 1373.41 L140.404 1373.41 L140.404 1404.03 L148.042 1404.03 L148.042 1407.97 L128.135 1407.97 L128.135 1404.03 Z\" fill=\"#000000\" fill-rule=\"evenodd\" fill-opacity=\"1\" /><path clip-path=\"url(#clip680)\" d=\"M 0 0 M163.112 1376.48 Q159.501 1376.48 157.672 1380.05 Q155.866 1383.59 155.866 1390.72 Q155.866 1397.83 157.672 1401.39 Q159.501 1404.93 163.112 1404.93 Q166.746 1404.93 168.552 1401.39 Q170.38 1397.83 170.38 1390.72 Q170.38 1383.59 168.552 1380.05 Q166.746 1376.48 163.112 1376.48 M163.112 1372.78 Q168.922 1372.78 171.978 1377.39 Q175.056 1381.97 175.056 1390.72 Q175.056 1399.45 171.978 1404.05 Q168.922 1408.64 163.112 1408.64 Q157.302 1408.64 154.223 1404.05 Q151.167 1399.45 151.167 1390.72 Q151.167 1381.97 154.223 1377.39 Q157.302 1372.78 163.112 1372.78 Z\" fill=\"#000000\" fill-rule=\"evenodd\" fill-opacity=\"1\" /><path clip-path=\"url(#clip680)\" d=\"M 0 0 M175.056 1366.88 L199.168 1366.88 L199.168 1370.08 L175.056 1370.08 L175.056 1366.88 Z\" fill=\"#000000\" fill-rule=\"evenodd\" fill-opacity=\"1\" /><path clip-path=\"url(#clip680)\" d=\"M 0 0 M203.324 1352.48 L218.239 1352.48 L218.239 1355.67 L206.804 1355.67 L206.804 1362.56 Q207.631 1362.27 208.459 1362.14 Q209.286 1361.99 210.114 1361.99 Q214.816 1361.99 217.562 1364.57 Q220.308 1367.15 220.308 1371.55 Q220.308 1376.08 217.487 1378.6 Q214.665 1381.1 209.531 1381.1 Q207.763 1381.1 205.92 1380.8 Q204.095 1380.5 202.139 1379.9 L202.139 1376.08 Q203.832 1377 205.638 1377.45 Q207.443 1377.9 209.456 1377.9 Q212.709 1377.9 214.609 1376.19 Q216.509 1374.48 216.509 1371.55 Q216.509 1368.61 214.609 1366.9 Q212.709 1365.19 209.456 1365.19 Q207.932 1365.19 206.409 1365.53 Q204.904 1365.87 203.324 1366.58 L203.324 1352.48 Z\" fill=\"#000000\" fill-rule=\"evenodd\" fill-opacity=\"1\" /><path clip-path=\"url(#clip680)\" d=\"M 0 0 M126.931 971.347 L134.57 971.347 L134.57 944.981 L126.26 946.648 L126.26 942.388 L134.524 940.722 L139.2 940.722 L139.2 971.347 L146.839 971.347 L146.839 975.282 L126.931 975.282 L126.931 971.347 Z\" fill=\"#000000\" fill-rule=\"evenodd\" fill-opacity=\"1\" /><path clip-path=\"url(#clip680)\" d=\"M 0 0 M161.908 943.8 Q158.297 943.8 156.468 947.365 Q154.663 950.907 154.663 958.036 Q154.663 965.143 156.468 968.708 Q158.297 972.249 161.908 972.249 Q165.542 972.249 167.348 968.708 Q169.177 965.143 169.177 958.036 Q169.177 950.907 167.348 947.365 Q165.542 943.8 161.908 943.8 M161.908 940.097 Q167.718 940.097 170.774 944.703 Q173.852 949.286 173.852 958.036 Q173.852 966.763 170.774 971.37 Q167.718 975.953 161.908 975.953 Q156.098 975.953 153.019 971.37 Q149.964 966.763 149.964 958.036 Q149.964 949.286 153.019 944.703 Q156.098 940.097 161.908 940.097 Z\" fill=\"#000000\" fill-rule=\"evenodd\" fill-opacity=\"1\" /><path clip-path=\"url(#clip680)\" d=\"M 0 0 M173.852 934.198 L197.964 934.198 L197.964 937.395 L173.852 937.395 L173.852 934.198 Z\" fill=\"#000000\" fill-rule=\"evenodd\" fill-opacity=\"1\" /><path clip-path=\"url(#clip680)\" d=\"M 0 0 M212.521 923.101 L202.929 938.091 L212.521 938.091 L212.521 923.101 M211.524 919.791 L216.302 919.791 L216.302 938.091 L220.308 938.091 L220.308 941.251 L216.302 941.251 L216.302 947.871 L212.521 947.871 L212.521 941.251 L199.845 941.251 L199.845 937.583 L211.524 919.791 Z\" fill=\"#000000\" fill-rule=\"evenodd\" fill-opacity=\"1\" /><path clip-path=\"url(#clip680)\" d=\"M 0 0 M127.853 538.662 L135.492 538.662 L135.492 512.297 L127.182 513.963 L127.182 509.704 L135.446 508.037 L140.121 508.037 L140.121 538.662 L147.76 538.662 L147.76 542.597 L127.853 542.597 L127.853 538.662 Z\" fill=\"#000000\" fill-rule=\"evenodd\" fill-opacity=\"1\" /><path clip-path=\"url(#clip680)\" d=\"M 0 0 M162.83 511.116 Q159.219 511.116 157.39 514.681 Q155.584 518.223 155.584 525.352 Q155.584 532.459 157.39 536.023 Q159.219 539.565 162.83 539.565 Q166.464 539.565 168.269 536.023 Q170.098 532.459 170.098 525.352 Q170.098 518.223 168.269 514.681 Q166.464 511.116 162.83 511.116 M162.83 507.412 Q168.64 507.412 171.695 512.019 Q174.774 516.602 174.774 525.352 Q174.774 534.079 171.695 538.685 Q168.64 543.269 162.83 543.269 Q157.02 543.269 153.941 538.685 Q150.885 534.079 150.885 525.352 Q150.885 516.602 153.941 512.019 Q157.02 507.412 162.83 507.412 Z\" fill=\"#000000\" fill-rule=\"evenodd\" fill-opacity=\"1\" /><path clip-path=\"url(#clip680)\" d=\"M 0 0 M174.774 501.514 L198.886 501.514 L198.886 504.711 L174.774 504.711 L174.774 501.514 Z\" fill=\"#000000\" fill-rule=\"evenodd\" fill-opacity=\"1\" /><path clip-path=\"url(#clip680)\" d=\"M 0 0 M214.515 500.047 Q217.242 500.63 218.765 502.473 Q220.308 504.316 220.308 507.024 Q220.308 511.181 217.449 513.457 Q214.59 515.732 209.324 515.732 Q207.556 515.732 205.675 515.375 Q203.813 515.037 201.82 514.341 L201.82 510.673 Q203.4 511.595 205.28 512.065 Q207.161 512.535 209.211 512.535 Q212.785 512.535 214.647 511.125 Q216.527 509.714 216.527 507.024 Q216.527 504.542 214.778 503.15 Q213.048 501.74 209.945 501.74 L206.672 501.74 L206.672 498.617 L210.095 498.617 Q212.897 498.617 214.383 497.508 Q215.869 496.379 215.869 494.273 Q215.869 492.11 214.327 490.963 Q212.803 489.797 209.945 489.797 Q208.384 489.797 206.597 490.135 Q204.81 490.474 202.666 491.188 L202.666 487.803 Q204.829 487.201 206.71 486.9 Q208.609 486.599 210.283 486.599 Q214.609 486.599 217.129 488.574 Q219.649 490.53 219.649 493.878 Q219.649 496.21 218.314 497.827 Q216.979 499.426 214.515 500.047 Z\" fill=\"#000000\" fill-rule=\"evenodd\" fill-opacity=\"1\" /><path clip-path=\"url(#clip680)\" d=\"M 0 0 M128.624 105.978 L136.263 105.978 L136.263 79.6125 L127.953 81.2792 L127.953 77.0199 L136.217 75.3533 L140.893 75.3533 L140.893 105.978 L148.531 105.978 L148.531 109.913 L128.624 109.913 L128.624 105.978 Z\" fill=\"#000000\" fill-rule=\"evenodd\" fill-opacity=\"1\" /><path clip-path=\"url(#clip680)\" d=\"M 0 0 M163.601 78.432 Q159.99 78.432 158.161 81.9968 Q156.355 85.5384 156.355 92.668 Q156.355 99.7744 158.161 103.339 Q159.99 106.881 163.601 106.881 Q167.235 106.881 169.041 103.339 Q170.869 99.7744 170.869 92.668 Q170.869 85.5384 169.041 81.9968 Q167.235 78.432 163.601 78.432 M163.601 74.7283 Q169.411 74.7283 172.467 79.3347 Q175.545 83.918 175.545 92.668 Q175.545 101.395 172.467 106.001 Q169.411 110.585 163.601 110.585 Q157.791 110.585 154.712 106.001 Q151.656 101.395 151.656 92.668 Q151.656 83.918 154.712 79.3347 Q157.791 74.7283 163.601 74.7283 Z\" fill=\"#000000\" fill-rule=\"evenodd\" fill-opacity=\"1\" /><path clip-path=\"url(#clip680)\" d=\"M 0 0 M175.545 68.8296 L199.657 68.8296 L199.657 72.0269 L175.545 72.0269 L175.545 68.8296 Z\" fill=\"#000000\" fill-rule=\"evenodd\" fill-opacity=\"1\" /><path clip-path=\"url(#clip680)\" d=\"M 0 0 M207.048 79.3056 L220.308 79.3056 L220.308 82.5029 L202.478 82.5029 L202.478 79.3056 Q204.641 77.0674 208.365 73.3059 Q212.107 69.5255 213.067 68.4347 Q214.891 66.3846 215.606 64.974 Q216.339 63.5446 216.339 62.1717 Q216.339 59.9335 214.759 58.523 Q213.198 57.1124 210.678 57.1124 Q208.891 57.1124 206.898 57.733 Q204.923 58.3537 202.666 59.6138 L202.666 55.777 Q204.961 54.8555 206.954 54.3853 Q208.948 53.9151 210.603 53.9151 Q214.966 53.9151 217.562 56.0968 Q220.157 58.2785 220.157 61.9272 Q220.157 63.6575 219.499 65.2185 Q218.859 66.7608 217.148 68.8672 Q216.678 69.4127 214.158 72.0269 Q211.637 74.6224 207.048 79.3056 Z\" fill=\"#000000\" fill-rule=\"evenodd\" fill-opacity=\"1\" /><path clip-path=\"url(#clip680)\" d=\"M 0 0 M1108.81 1536.76 L1108.81 1539.62 L1081.88 1539.62 Q1082.27 1545.67 1085.51 1548.85 Q1088.79 1552 1094.62 1552 Q1097.99 1552 1101.14 1551.17 Q1104.32 1550.35 1107.44 1548.69 L1107.44 1554.23 Q1104.29 1555.57 1100.98 1556.27 Q1097.67 1556.97 1094.27 1556.97 Q1085.74 1556.97 1080.74 1552 Q1075.77 1547.04 1075.77 1538.57 Q1075.77 1529.82 1080.48 1524.69 Q1085.23 1519.54 1093.25 1519.54 Q1100.44 1519.54 1104.61 1524.18 Q1108.81 1528.8 1108.81 1536.76 M1102.95 1535.04 Q1102.89 1530.23 1100.25 1527.37 Q1097.64 1524.5 1093.31 1524.5 Q1088.41 1524.5 1085.45 1527.27 Q1082.52 1530.04 1082.08 1535.07 L1102.95 1535.04 Z\" fill=\"#000000\" fill-rule=\"evenodd\" fill-opacity=\"1\" /><path clip-path=\"url(#clip680)\" d=\"M 0 0 M1120.62 1550.7 L1120.62 1569.6 L1114.73 1569.6 L1114.73 1520.4 L1120.62 1520.4 L1120.62 1525.81 Q1122.47 1522.62 1125.27 1521.1 Q1128.1 1519.54 1132.01 1519.54 Q1138.51 1519.54 1142.55 1524.69 Q1146.62 1529.85 1146.62 1538.25 Q1146.62 1546.65 1142.55 1551.81 Q1138.51 1556.97 1132.01 1556.97 Q1128.1 1556.97 1125.27 1555.44 Q1122.47 1553.88 1120.62 1550.7 M1140.54 1538.25 Q1140.54 1531.79 1137.87 1528.13 Q1135.23 1524.44 1130.58 1524.44 Q1125.94 1524.44 1123.26 1528.13 Q1120.62 1531.79 1120.62 1538.25 Q1120.62 1544.71 1123.26 1548.4 Q1125.94 1552.07 1130.58 1552.07 Q1135.23 1552.07 1137.87 1548.4 Q1140.54 1544.71 1140.54 1538.25 Z\" fill=\"#000000\" fill-rule=\"evenodd\" fill-opacity=\"1\" /><path clip-path=\"url(#clip680)\" d=\"M 0 0 M1166.58 1524.5 Q1161.87 1524.5 1159.13 1528.19 Q1156.4 1531.85 1156.4 1538.25 Q1156.4 1544.65 1159.1 1548.34 Q1161.84 1552 1166.58 1552 Q1171.26 1552 1174 1548.31 Q1176.73 1544.62 1176.73 1538.25 Q1176.73 1531.92 1174 1528.23 Q1171.26 1524.5 1166.58 1524.5 M1166.58 1519.54 Q1174.22 1519.54 1178.58 1524.5 Q1182.94 1529.47 1182.94 1538.25 Q1182.94 1547 1178.58 1552 Q1174.22 1556.97 1166.58 1556.97 Q1158.91 1556.97 1154.55 1552 Q1150.22 1547 1150.22 1538.25 Q1150.22 1529.47 1154.55 1524.5 Q1158.91 1519.54 1166.58 1519.54 Z\" fill=\"#000000\" fill-rule=\"evenodd\" fill-opacity=\"1\" /><path clip-path=\"url(#clip680)\" d=\"M 0 0 M1214.74 1521.76 L1214.74 1527.24 Q1212.25 1525.87 1209.74 1525.2 Q1207.26 1524.5 1204.71 1524.5 Q1199.01 1524.5 1195.86 1528.13 Q1192.71 1531.73 1192.71 1538.25 Q1192.71 1544.78 1195.86 1548.4 Q1199.01 1552 1204.71 1552 Q1207.26 1552 1209.74 1551.33 Q1212.25 1550.63 1214.74 1549.26 L1214.74 1554.68 Q1212.29 1555.82 1209.64 1556.39 Q1207.03 1556.97 1204.07 1556.97 Q1196.02 1556.97 1191.28 1551.91 Q1186.54 1546.85 1186.54 1538.25 Q1186.54 1529.53 1191.31 1524.53 Q1196.12 1519.54 1204.46 1519.54 Q1207.16 1519.54 1209.74 1520.11 Q1212.32 1520.65 1214.74 1521.76 Z\" fill=\"#000000\" fill-rule=\"evenodd\" fill-opacity=\"1\" /><path clip-path=\"url(#clip680)\" d=\"M 0 0 M1250.51 1534.53 L1250.51 1556.04 L1244.66 1556.04 L1244.66 1534.72 Q1244.66 1529.66 1242.68 1527.14 Q1240.71 1524.63 1236.76 1524.63 Q1232.02 1524.63 1229.28 1527.65 Q1226.55 1530.68 1226.55 1535.9 L1226.55 1556.04 L1220.66 1556.04 L1220.66 1506.52 L1226.55 1506.52 L1226.55 1525.93 Q1228.65 1522.72 1231.48 1521.13 Q1234.34 1519.54 1238.07 1519.54 Q1244.21 1519.54 1247.36 1523.36 Q1250.51 1527.14 1250.51 1534.53 Z\" fill=\"#000000\" fill-rule=\"evenodd\" fill-opacity=\"1\" /><path clip-path=\"url(#clip680)\" d=\"M 0 0 M1279.38 1521.45 L1279.38 1526.98 Q1276.9 1525.71 1274.22 1525.07 Q1271.55 1524.44 1268.69 1524.44 Q1264.33 1524.44 1262.13 1525.77 Q1259.97 1527.11 1259.97 1529.79 Q1259.97 1531.82 1261.52 1533 Q1263.08 1534.15 1267.79 1535.2 L1269.8 1535.64 Q1276.04 1536.98 1278.65 1539.43 Q1281.29 1541.85 1281.29 1546.21 Q1281.29 1551.17 1277.34 1554.07 Q1273.43 1556.97 1266.55 1556.97 Q1263.69 1556.97 1260.57 1556.39 Q1257.48 1555.85 1254.04 1554.74 L1254.04 1548.69 Q1257.29 1550.38 1260.44 1551.24 Q1263.59 1552.07 1266.68 1552.07 Q1270.82 1552.07 1273.05 1550.66 Q1275.27 1549.23 1275.27 1546.65 Q1275.27 1544.27 1273.65 1542.99 Q1272.06 1541.72 1266.62 1540.54 L1264.58 1540.07 Q1259.14 1538.92 1256.72 1536.56 Q1254.3 1534.18 1254.3 1530.04 Q1254.3 1525.01 1257.86 1522.27 Q1261.43 1519.54 1267.99 1519.54 Q1271.23 1519.54 1274.1 1520.01 Q1276.96 1520.49 1279.38 1521.45 Z\" fill=\"#000000\" fill-rule=\"evenodd\" fill-opacity=\"1\" /><path clip-path=\"url(#clip680)\" d=\"M 0 0 M56.4621 905.383 Q56.4621 910.094 60.1542 912.831 Q63.8145 915.568 70.212 915.568 Q76.6095 915.568 80.3017 912.863 Q83.9619 910.126 83.9619 905.383 Q83.9619 900.704 80.2698 897.967 Q76.5777 895.23 70.212 895.23 Q63.8781 895.23 60.186 897.967 Q56.4621 900.704 56.4621 905.383 M51.4968 905.383 Q51.4968 897.744 56.4621 893.384 Q61.4273 889.023 70.212 889.023 Q78.9649 889.023 83.9619 893.384 Q88.9272 897.744 88.9272 905.383 Q88.9272 913.054 83.9619 917.414 Q78.9649 921.743 70.212 921.743 Q61.4273 921.743 56.4621 917.414 Q51.4968 913.054 51.4968 905.383 Z\" fill=\"#000000\" fill-rule=\"evenodd\" fill-opacity=\"1\" /><path clip-path=\"url(#clip680)\" d=\"M 0 0 M82.657 877.215 L101.563 877.215 L101.563 883.103 L52.3562 883.103 L52.3562 877.215 L57.7671 877.215 Q54.5842 875.369 53.0564 872.568 Q51.4968 869.735 51.4968 865.82 Q51.4968 859.327 56.6531 855.285 Q61.8093 851.211 70.212 851.211 Q78.6147 851.211 83.771 855.285 Q88.9272 859.327 88.9272 865.82 Q88.9272 869.735 87.3994 872.568 Q85.8398 875.369 82.657 877.215 M70.212 857.29 Q63.7508 857.29 60.0905 859.964 Q56.3984 862.606 56.3984 867.253 Q56.3984 871.9 60.0905 874.573 Q63.7508 877.215 70.212 877.215 Q76.6732 877.215 80.3653 874.573 Q84.0256 871.9 84.0256 867.253 Q84.0256 862.606 80.3653 859.964 Q76.6732 857.29 70.212 857.29 Z\" fill=\"#000000\" fill-rule=\"evenodd\" fill-opacity=\"1\" /><path clip-path=\"url(#clip680)\" d=\"M 0 0 M42.2347 839.275 L52.3562 839.275 L52.3562 827.212 L56.9077 827.212 L56.9077 839.275 L76.2594 839.275 Q80.6199 839.275 81.8613 838.098 Q83.1026 836.888 83.1026 833.228 L83.1026 827.212 L88.0042 827.212 L88.0042 833.228 Q88.0042 840.007 85.4897 842.586 Q82.9434 845.164 76.2594 845.164 L56.9077 845.164 L56.9077 849.46 L52.3562 849.46 L52.3562 845.164 L42.2347 845.164 L42.2347 839.275 Z\" fill=\"#000000\" fill-rule=\"evenodd\" fill-opacity=\"1\" /><path clip-path=\"url(#clip680)\" d=\"M 0 0 M52.3562 821.069 L52.3562 815.213 L88.0042 815.213 L88.0042 821.069 L52.3562 821.069 M38.479 821.069 L38.479 815.213 L45.895 815.213 L45.895 821.069 L38.479 821.069 Z\" fill=\"#000000\" fill-rule=\"evenodd\" fill-opacity=\"1\" /><path clip-path=\"url(#clip680)\" d=\"M 0 0 M59.1993 781.316 Q55.2526 779.119 53.3747 776.064 Q51.4968 773.008 51.4968 768.871 Q51.4968 763.301 55.4117 760.277 Q59.2948 757.253 66.4881 757.253 L88.0042 757.253 L88.0042 763.142 L66.679 763.142 Q61.5546 763.142 59.072 764.956 Q56.5894 766.77 56.5894 770.494 Q56.5894 775.045 59.6131 777.687 Q62.6368 780.329 67.8567 780.329 L88.0042 780.329 L88.0042 786.217 L66.679 786.217 Q61.5228 786.217 59.072 788.031 Q56.5894 789.846 56.5894 793.633 Q56.5894 798.121 59.6449 800.763 Q62.6686 803.405 67.8567 803.405 L88.0042 803.405 L88.0042 809.293 L52.3562 809.293 L52.3562 803.405 L57.8944 803.405 Q54.616 801.399 53.0564 798.598 Q51.4968 795.798 51.4968 791.946 Q51.4968 788.063 53.4702 785.358 Q55.4436 782.621 59.1993 781.316 Z\" fill=\"#000000\" fill-rule=\"evenodd\" fill-opacity=\"1\" /><path clip-path=\"url(#clip680)\" d=\"M 0 0 M52.3562 751.11 L52.3562 745.254 L88.0042 745.254 L88.0042 751.11 L52.3562 751.11 M38.479 751.11 L38.479 745.254 L45.895 745.254 L45.895 751.11 L38.479 751.11 Z\" fill=\"#000000\" fill-rule=\"evenodd\" fill-opacity=\"1\" /><path clip-path=\"url(#clip680)\" d=\"M 0 0 M53.4065 716.385 L58.9447 716.385 Q57.6716 718.868 57.035 721.542 Q56.3984 724.215 56.3984 727.08 Q56.3984 731.44 57.7352 733.636 Q59.072 735.801 61.7456 735.801 Q63.7826 735.801 64.9603 734.241 Q66.1061 732.682 67.1565 727.971 L67.6021 725.966 Q68.9389 719.727 71.3897 717.117 Q73.8086 714.476 78.1691 714.476 Q83.1344 714.476 86.0308 718.422 Q88.9272 722.337 88.9272 729.212 Q88.9272 732.077 88.3543 735.196 Q87.8132 738.283 86.6992 741.721 L80.6518 741.721 Q82.3387 738.474 83.198 735.323 Q84.0256 732.172 84.0256 729.085 Q84.0256 724.947 82.6251 722.719 Q81.1929 720.491 78.6147 720.491 Q76.2276 720.491 74.9545 722.115 Q73.6813 723.706 72.5037 729.149 L72.0262 731.186 Q70.8804 736.628 68.5251 739.047 Q66.138 741.466 62.0002 741.466 Q56.9713 741.466 54.2341 737.901 Q51.4968 734.337 51.4968 727.78 Q51.4968 724.533 51.9743 721.669 Q52.4517 718.804 53.4065 716.385 Z\" fill=\"#000000\" fill-rule=\"evenodd\" fill-opacity=\"1\" /><path clip-path=\"url(#clip680)\" d=\"M 0 0 M68.7161 677.841 L71.5806 677.841 L71.5806 704.768 Q77.6281 704.386 80.8109 701.14 Q83.9619 697.861 83.9619 692.037 Q83.9619 688.663 83.1344 685.512 Q82.3069 682.329 80.6518 679.21 L86.1899 679.21 Q87.5267 682.361 88.227 685.671 Q88.9272 688.981 88.9272 692.387 Q88.9272 700.917 83.9619 705.914 Q78.9967 710.879 70.5303 710.879 Q61.7774 710.879 56.6531 706.168 Q51.4968 701.426 51.4968 693.405 Q51.4968 686.212 56.1438 682.042 Q60.7589 677.841 68.7161 677.841 M66.9973 683.697 Q62.1912 683.761 59.3266 686.403 Q56.4621 689.013 56.4621 693.342 Q56.4621 698.243 59.2312 701.203 Q62.0002 704.131 67.0292 704.577 L66.9973 683.697 Z\" fill=\"#000000\" fill-rule=\"evenodd\" fill-opacity=\"1\" /><path clip-path=\"url(#clip680)\" d=\"M 0 0 M57.8307 651.041 Q57.2578 652.028 57.0032 653.206 Q56.7167 654.352 56.7167 655.752 Q56.7167 660.717 59.9632 663.391 Q63.1779 666.033 69.2253 666.033 L88.0042 666.033 L88.0042 671.921 L52.3562 671.921 L52.3562 666.033 L57.8944 666.033 Q54.6479 664.187 53.0883 661.227 Q51.4968 658.266 51.4968 654.033 Q51.4968 653.429 51.5923 652.696 Q51.656 651.964 51.8151 651.073 L57.8307 651.041 Z\" fill=\"#000000\" fill-rule=\"evenodd\" fill-opacity=\"1\" /><path clip-path=\"url(#clip680)\" d=\"M 0 0 M79.9197 650.055 L79.9197 643.339 L88.0042 643.339 L88.0042 650.055 L79.9197 650.055 Z\" fill=\"#000000\" fill-rule=\"evenodd\" fill-opacity=\"1\" /><path clip-path=\"url(#clip680)\" d=\"M 0 0 M68.7161 606.704 L71.5806 606.704 L71.5806 633.631 Q77.6281 633.249 80.8109 630.003 Q83.9619 626.724 83.9619 620.9 Q83.9619 617.526 83.1344 614.375 Q82.3069 611.192 80.6518 608.073 L86.1899 608.073 Q87.5267 611.224 88.227 614.534 Q88.9272 617.844 88.9272 621.25 Q88.9272 629.78 83.9619 634.777 Q78.9967 639.742 70.5303 639.742 Q61.7774 639.742 56.6531 635.032 Q51.4968 630.289 51.4968 622.268 Q51.4968 615.075 56.1438 610.906 Q60.7589 606.704 68.7161 606.704 M66.9973 612.561 Q62.1912 612.624 59.3266 615.266 Q56.4621 617.876 56.4621 622.205 Q56.4621 627.106 59.2312 630.066 Q62.0002 632.995 67.0292 633.44 L66.9973 612.561 Z\" fill=\"#000000\" fill-rule=\"evenodd\" fill-opacity=\"1\" /><path clip-path=\"url(#clip680)\" d=\"M 0 0 M42.2347 594.769 L52.3562 594.769 L52.3562 582.706 L56.9077 582.706 L56.9077 594.769 L76.2594 594.769 Q80.6199 594.769 81.8613 593.591 Q83.1026 592.381 83.1026 588.721 L83.1026 582.706 L88.0042 582.706 L88.0042 588.721 Q88.0042 595.501 85.4897 598.079 Q82.9434 600.657 76.2594 600.657 L56.9077 600.657 L56.9077 604.954 L52.3562 604.954 L52.3562 600.657 L42.2347 600.657 L42.2347 594.769 Z\" fill=\"#000000\" fill-rule=\"evenodd\" fill-opacity=\"1\" /><path clip-path=\"url(#clip680)\" d=\"M 0 0 M70.0847 560.362 Q70.0847 567.46 71.7079 570.197 Q73.3312 572.934 77.2461 572.934 Q80.3653 572.934 82.2114 570.897 Q84.0256 568.828 84.0256 565.295 Q84.0256 560.426 80.5881 557.497 Q77.1188 554.537 71.3897 554.537 L70.0847 554.537 L70.0847 560.362 M67.6657 548.681 L88.0042 548.681 L88.0042 554.537 L82.5933 554.537 Q85.8398 556.542 87.3994 559.534 Q88.9272 562.526 88.9272 566.855 Q88.9272 572.329 85.8716 575.576 Q82.7843 578.791 77.6281 578.791 Q71.6125 578.791 68.5569 574.78 Q65.5014 570.738 65.5014 562.749 L65.5014 554.537 L64.9285 554.537 Q60.8862 554.537 58.6901 557.211 Q56.4621 559.853 56.4621 564.659 Q56.4621 567.714 57.1941 570.611 Q57.9262 573.507 59.3903 576.181 L53.9795 576.181 Q52.7381 572.966 52.1334 569.942 Q51.4968 566.919 51.4968 564.054 Q51.4968 556.32 55.5072 552.5 Q59.5176 548.681 67.6657 548.681 Z\" fill=\"#000000\" fill-rule=\"evenodd\" fill-opacity=\"1\" /><circle clip-path=\"url(#clip682)\" cx=\"1472.31\" cy=\"86.1857\" r=\"6\" fill=\"#050419\" fill-rule=\"evenodd\" fill-opacity=\"1\" stroke=\"#000000\" stroke-opacity=\"1\" stroke-width=\"3.2\"/>\n",
       "<circle clip-path=\"url(#clip682)\" cx=\"590.969\" cy=\"518.87\" r=\"9\" fill=\"#130a34\" fill-rule=\"evenodd\" fill-opacity=\"1\" stroke=\"#000000\" stroke-opacity=\"1\" stroke-width=\"3.2\"/>\n",
       "<circle clip-path=\"url(#clip682)\" cx=\"1472.31\" cy=\"735.212\" r=\"8\" fill=\"#0e082a\" fill-rule=\"evenodd\" fill-opacity=\"1\" stroke=\"#000000\" stroke-opacity=\"1\" stroke-width=\"3.2\"/>\n",
       "<circle clip-path=\"url(#clip682)\" cx=\"590.969\" cy=\"735.212\" r=\"13\" fill=\"#300a5c\" fill-rule=\"evenodd\" fill-opacity=\"1\" stroke=\"#000000\" stroke-opacity=\"1\" stroke-width=\"3.2\"/>\n",
       "<circle clip-path=\"url(#clip682)\" cx=\"1766.09\" cy=\"1384.24\" r=\"12\" fill=\"#280b54\" fill-rule=\"evenodd\" fill-opacity=\"1\" stroke=\"#000000\" stroke-opacity=\"1\" stroke-width=\"3.2\"/>\n",
       "<circle clip-path=\"url(#clip682)\" cx=\"1472.31\" cy=\"1167.9\" r=\"25\" fill=\"#7c1d6c\" fill-rule=\"evenodd\" fill-opacity=\"1\" stroke=\"#000000\" stroke-opacity=\"1\" stroke-width=\"3.2\"/>\n",
       "<circle clip-path=\"url(#clip682)\" cx=\"2059.88\" cy=\"86.1857\" r=\"6\" fill=\"#06041a\" fill-rule=\"evenodd\" fill-opacity=\"1\" stroke=\"#000000\" stroke-opacity=\"1\" stroke-width=\"3.2\"/>\n",
       "<circle clip-path=\"url(#clip682)\" cx=\"1178.53\" cy=\"735.212\" r=\"9\" fill=\"#130a33\" fill-rule=\"evenodd\" fill-opacity=\"1\" stroke=\"#000000\" stroke-opacity=\"1\" stroke-width=\"3.2\"/>\n",
       "<circle clip-path=\"url(#clip682)\" cx=\"2059.88\" cy=\"1167.9\" r=\"9\" fill=\"#110a31\" fill-rule=\"evenodd\" fill-opacity=\"1\" stroke=\"#000000\" stroke-opacity=\"1\" stroke-width=\"3.2\"/>\n",
       "<circle clip-path=\"url(#clip682)\" cx=\"884.751\" cy=\"1167.9\" r=\"45\" fill=\"#f2741c\" fill-rule=\"evenodd\" fill-opacity=\"1\" stroke=\"#000000\" stroke-opacity=\"1\" stroke-width=\"3.2\"/>\n",
       "<circle clip-path=\"url(#clip682)\" cx=\"297.188\" cy=\"86.1857\" r=\"11\" fill=\"#1c0c44\" fill-rule=\"evenodd\" fill-opacity=\"1\" stroke=\"#000000\" stroke-opacity=\"1\" stroke-width=\"3.2\"/>\n",
       "<circle clip-path=\"url(#clip682)\" cx=\"1766.09\" cy=\"951.554\" r=\"9\" fill=\"#110a30\" fill-rule=\"evenodd\" fill-opacity=\"1\" stroke=\"#000000\" stroke-opacity=\"1\" stroke-width=\"3.2\"/>\n",
       "<circle clip-path=\"url(#clip682)\" cx=\"2059.88\" cy=\"302.528\" r=\"7\" fill=\"#0a0723\" fill-rule=\"evenodd\" fill-opacity=\"1\" stroke=\"#000000\" stroke-opacity=\"1\" stroke-width=\"3.2\"/>\n",
       "<circle clip-path=\"url(#clip682)\" cx=\"590.969\" cy=\"86.1857\" r=\"7\" fill=\"#08051e\" fill-rule=\"evenodd\" fill-opacity=\"1\" stroke=\"#000000\" stroke-opacity=\"1\" stroke-width=\"3.2\"/>\n",
       "<circle clip-path=\"url(#clip682)\" cx=\"297.188\" cy=\"735.212\" r=\"50\" fill=\"#fb9e07\" fill-rule=\"evenodd\" fill-opacity=\"1\" stroke=\"#000000\" stroke-opacity=\"1\" stroke-width=\"3.2\"/>\n",
       "<circle clip-path=\"url(#clip682)\" cx=\"1178.53\" cy=\"86.1857\" r=\"6\" fill=\"#06041a\" fill-rule=\"evenodd\" fill-opacity=\"1\" stroke=\"#000000\" stroke-opacity=\"1\" stroke-width=\"3.2\"/>\n",
       "<circle clip-path=\"url(#clip682)\" cx=\"297.188\" cy=\"302.528\" r=\"21\" fill=\"#61136e\" fill-rule=\"evenodd\" fill-opacity=\"1\" stroke=\"#000000\" stroke-opacity=\"1\" stroke-width=\"3.2\"/>\n",
       "<circle clip-path=\"url(#clip682)\" cx=\"2059.88\" cy=\"951.554\" r=\"9\" fill=\"#140a35\" fill-rule=\"evenodd\" fill-opacity=\"1\" stroke=\"#000000\" stroke-opacity=\"1\" stroke-width=\"3.2\"/>\n",
       "<circle clip-path=\"url(#clip682)\" cx=\"1472.31\" cy=\"302.528\" r=\"6\" fill=\"#07051d\" fill-rule=\"evenodd\" fill-opacity=\"1\" stroke=\"#000000\" stroke-opacity=\"1\" stroke-width=\"3.2\"/>\n",
       "<circle clip-path=\"url(#clip682)\" cx=\"1178.53\" cy=\"1167.9\" r=\"33\" fill=\"#b63457\" fill-rule=\"evenodd\" fill-opacity=\"1\" stroke=\"#000000\" stroke-opacity=\"1\" stroke-width=\"3.2\"/>\n",
       "<circle clip-path=\"url(#clip682)\" cx=\"884.751\" cy=\"518.87\" r=\"8\" fill=\"#0e082a\" fill-rule=\"evenodd\" fill-opacity=\"1\" stroke=\"#000000\" stroke-opacity=\"1\" stroke-width=\"3.2\"/>\n",
       "<circle clip-path=\"url(#clip682)\" cx=\"1766.09\" cy=\"735.212\" r=\"8\" fill=\"#0c0726\" fill-rule=\"evenodd\" fill-opacity=\"1\" stroke=\"#000000\" stroke-opacity=\"1\" stroke-width=\"3.2\"/>\n",
       "<circle clip-path=\"url(#clip682)\" cx=\"2059.88\" cy=\"518.87\" r=\"7\" fill=\"#0a0723\" fill-rule=\"evenodd\" fill-opacity=\"1\" stroke=\"#000000\" stroke-opacity=\"1\" stroke-width=\"3.2\"/>\n",
       "<circle clip-path=\"url(#clip682)\" cx=\"884.751\" cy=\"951.554\" r=\"19\" fill=\"#540e6d\" fill-rule=\"evenodd\" fill-opacity=\"1\" stroke=\"#000000\" stroke-opacity=\"1\" stroke-width=\"3.2\"/>\n",
       "<circle clip-path=\"url(#clip682)\" cx=\"1178.53\" cy=\"302.528\" r=\"8\" fill=\"#0c0726\" fill-rule=\"evenodd\" fill-opacity=\"1\" stroke=\"#000000\" stroke-opacity=\"1\" stroke-width=\"3.2\"/>\n",
       "<circle clip-path=\"url(#clip682)\" cx=\"590.969\" cy=\"1384.24\" r=\"61\" fill=\"#fcfea4\" fill-rule=\"evenodd\" fill-opacity=\"1\" stroke=\"#000000\" stroke-opacity=\"1\" stroke-width=\"3.2\"/>\n",
       "<circle clip-path=\"url(#clip682)\" cx=\"1178.53\" cy=\"1384.24\" r=\"49\" fill=\"#fb9c06\" fill-rule=\"evenodd\" fill-opacity=\"1\" stroke=\"#000000\" stroke-opacity=\"1\" stroke-width=\"3.2\"/>\n",
       "<circle clip-path=\"url(#clip682)\" cx=\"1766.09\" cy=\"1167.9\" r=\"35\" fill=\"#c13a50\" fill-rule=\"evenodd\" fill-opacity=\"1\" stroke=\"#000000\" stroke-opacity=\"1\" stroke-width=\"3.2\"/>\n",
       "<circle clip-path=\"url(#clip682)\" cx=\"1766.09\" cy=\"302.528\" r=\"35\" fill=\"#c13a50\" fill-rule=\"evenodd\" fill-opacity=\"1\" stroke=\"#000000\" stroke-opacity=\"1\" stroke-width=\"3.2\"/>\n",
       "<circle clip-path=\"url(#clip682)\" cx=\"1766.09\" cy=\"518.87\" r=\"35\" fill=\"#c13a50\" fill-rule=\"evenodd\" fill-opacity=\"1\" stroke=\"#000000\" stroke-opacity=\"1\" stroke-width=\"3.2\"/>\n",
       "<circle clip-path=\"url(#clip682)\" cx=\"590.969\" cy=\"951.554\" r=\"32\" fill=\"#ad305c\" fill-rule=\"evenodd\" fill-opacity=\"1\" stroke=\"#000000\" stroke-opacity=\"1\" stroke-width=\"3.2\"/>\n",
       "<circle clip-path=\"url(#clip682)\" cx=\"884.751\" cy=\"302.528\" r=\"8\" fill=\"#0c0827\" fill-rule=\"evenodd\" fill-opacity=\"1\" stroke=\"#000000\" stroke-opacity=\"1\" stroke-width=\"3.2\"/>\n",
       "<circle clip-path=\"url(#clip682)\" cx=\"1178.53\" cy=\"518.87\" r=\"7\" fill=\"#0a0724\" fill-rule=\"evenodd\" fill-opacity=\"1\" stroke=\"#000000\" stroke-opacity=\"1\" stroke-width=\"3.2\"/>\n",
       "<circle clip-path=\"url(#clip682)\" cx=\"297.188\" cy=\"1167.9\" r=\"57\" fill=\"#f2e662\" fill-rule=\"evenodd\" fill-opacity=\"1\" stroke=\"#000000\" stroke-opacity=\"1\" stroke-width=\"3.2\"/>\n",
       "<circle clip-path=\"url(#clip682)\" cx=\"884.751\" cy=\"1384.24\" r=\"48\" fill=\"#fa9206\" fill-rule=\"evenodd\" fill-opacity=\"1\" stroke=\"#000000\" stroke-opacity=\"1\" stroke-width=\"3.2\"/>\n",
       "<circle clip-path=\"url(#clip682)\" cx=\"297.188\" cy=\"518.87\" r=\"43\" fill=\"#eb6627\" fill-rule=\"evenodd\" fill-opacity=\"1\" stroke=\"#000000\" stroke-opacity=\"1\" stroke-width=\"3.2\"/>\n",
       "<circle clip-path=\"url(#clip682)\" cx=\"1472.31\" cy=\"951.554\" r=\"11\" fill=\"#1d0c45\" fill-rule=\"evenodd\" fill-opacity=\"1\" stroke=\"#000000\" stroke-opacity=\"1\" stroke-width=\"3.2\"/>\n",
       "<circle clip-path=\"url(#clip682)\" cx=\"2059.88\" cy=\"1384.24\" r=\"11\" fill=\"#1c0c44\" fill-rule=\"evenodd\" fill-opacity=\"1\" stroke=\"#000000\" stroke-opacity=\"1\" stroke-width=\"3.2\"/>\n",
       "<circle clip-path=\"url(#clip682)\" cx=\"297.188\" cy=\"1384.24\" r=\"56\" fill=\"#f4db4c\" fill-rule=\"evenodd\" fill-opacity=\"1\" stroke=\"#000000\" stroke-opacity=\"1\" stroke-width=\"3.2\"/>\n",
       "<circle clip-path=\"url(#clip682)\" cx=\"1766.09\" cy=\"86.1857\" r=\"3\" fill=\"#000003\" fill-rule=\"evenodd\" fill-opacity=\"1\" stroke=\"#000000\" stroke-opacity=\"1\" stroke-width=\"3.2\"/>\n",
       "<circle clip-path=\"url(#clip682)\" cx=\"1472.31\" cy=\"518.87\" r=\"7\" fill=\"#0a0724\" fill-rule=\"evenodd\" fill-opacity=\"1\" stroke=\"#000000\" stroke-opacity=\"1\" stroke-width=\"3.2\"/>\n",
       "<circle clip-path=\"url(#clip682)\" cx=\"884.751\" cy=\"735.212\" r=\"10\" fill=\"#180b3d\" fill-rule=\"evenodd\" fill-opacity=\"1\" stroke=\"#000000\" stroke-opacity=\"1\" stroke-width=\"3.2\"/>\n",
       "<circle clip-path=\"url(#clip682)\" cx=\"2059.88\" cy=\"735.212\" r=\"8\" fill=\"#0e082a\" fill-rule=\"evenodd\" fill-opacity=\"1\" stroke=\"#000000\" stroke-opacity=\"1\" stroke-width=\"3.2\"/>\n",
       "<circle clip-path=\"url(#clip682)\" cx=\"884.751\" cy=\"86.1857\" r=\"6\" fill=\"#050418\" fill-rule=\"evenodd\" fill-opacity=\"1\" stroke=\"#000000\" stroke-opacity=\"1\" stroke-width=\"3.2\"/>\n",
       "<circle clip-path=\"url(#clip682)\" cx=\"1178.53\" cy=\"951.554\" r=\"6\" fill=\"#050418\" fill-rule=\"evenodd\" fill-opacity=\"1\" stroke=\"#000000\" stroke-opacity=\"1\" stroke-width=\"3.2\"/>\n",
       "<circle clip-path=\"url(#clip682)\" cx=\"590.969\" cy=\"302.528\" r=\"8\" fill=\"#0d0828\" fill-rule=\"evenodd\" fill-opacity=\"1\" stroke=\"#000000\" stroke-opacity=\"1\" stroke-width=\"3.2\"/>\n",
       "<circle clip-path=\"url(#clip682)\" cx=\"1472.31\" cy=\"1384.24\" r=\"8\" fill=\"#0c0828\" fill-rule=\"evenodd\" fill-opacity=\"1\" stroke=\"#000000\" stroke-opacity=\"1\" stroke-width=\"3.2\"/>\n",
       "<circle clip-path=\"url(#clip682)\" cx=\"590.969\" cy=\"1167.9\" r=\"44\" fill=\"#f0701e\" fill-rule=\"evenodd\" fill-opacity=\"1\" stroke=\"#000000\" stroke-opacity=\"1\" stroke-width=\"3.2\"/>\n",
       "<circle clip-path=\"url(#clip682)\" cx=\"297.188\" cy=\"951.554\" r=\"54\" fill=\"#f8c831\" fill-rule=\"evenodd\" fill-opacity=\"1\" stroke=\"#000000\" stroke-opacity=\"1\" stroke-width=\"3.2\"/>\n",
       "<defs>\n",
       "  <clipPath id=\"clip683\">\n",
       "    <rect x=\"2160\" y=\"47\" width=\"73\" height=\"1377\"/>\n",
       "  </clipPath>\n",
       "</defs>\n",
       "<g clip-path=\"url(#clip683)\">\n",
       "<image width=\"72\" height=\"1376\" xlink:href=\"data:image/png;base64,\n",
       "iVBORw0KGgoAAAANSUhEUgAAAEgAAAVgCAYAAADsKhu7AAAL6UlEQVR4nO3dwZEjNxBFQVBR/lsh\n",
       "L6UFZIHqHclDpgUTL35wCXTP7Off+/c7/K+/vv0D/DqBgkBBoCBQmPv+/fbP8NMsKAgUBAoChXnv\n",
       "z7d/hp9mQUGgIFAQKAgUHDWCBQWBgkBBoDDPh/TKgoJAQaAgUJh3fUhvLCgIFAQKAgWBgqNGsKAg\n",
       "UBAoCBR8SAcLCgIFgYJAwX1QsKAgUBAoCBQECnMcNVYWFAQKAgWBgvugYEFBoCBQECgIFOa4MFtZ\n",
       "UBAoCBQECnPuP9/+GX6aBQWBgkBBoODSPlhQECgIFAQKAgX3QcGCgkBBoCBQ8CEdLCgIFAQKAgX3\n",
       "QcGCgkBBoCBQECjMx1FjZUFBoCBQECjMuf5XhI0FBYGCQEGgIFBw1AgWFAQKAgWBgqNGsKAgUBAo\n",
       "CBS8HxQsKAgUBAoCBYHCfBw1VhYUBAoCBYGCt1yDBQWBgkBBoOCbdLCgIFAQKAgUBAoePQcLCgIF\n",
       "gYJAwVEjWFAQKAgUBAoCBUeNYEFBoCBQECg4agQLCgIFgYJAYc693/4ZfpoFBYGCQEGgIFBw1AgW\n",
       "FAQKAgWBgkv7YEFBoCBQECj4kA4WFAQKAgWBgkBhPp5qrCwoCBQECgIFR41gQUGgIFAQKAgUvEAV\n",
       "LCgIFAQKAgX3QcGCgkBBoCBQcB8ULCgIFAQKAgWBgvugYEFBoCBQECj4kA4WFAQKAgWBgl/qDRYU\n",
       "BAoCBYGCQMFRI1hQECgIFAQKPqSDBQWBgkBBoCBQ8K9YsKAgUBAoCBR8SAcLCgIFgYJAYc7zIb2x\n",
       "oCBQECgIFAQKjhrBgoJAQaAgUPAhHSwoCBQECgIFH9LBgoJAQaAgUBAozLnv2z/DT7OgIFAQKAgU\n",
       "HDWCBQWBgkBBoCBQcNQIFhQECgIFgYKjRrCgIFAQKAgUfJMOFhQECgIFgYJAYY6TxsqCgkBBoCBQ\n",
       "mPMcNTYWFAQKAgWBgm/SwYKCQEGgIFAQKPhXLFhQECgIFAQK44/g7SwoCBQECgIFgYKjRrCgIFAQ\n",
       "KAgUfEgHCwoCBYGCQGHO/Xz7Z/hpFhQECgIFgYJAYd7zr9jGgoJAQaAgUHAfFCwoCBQECgIF90HB\n",
       "goJAQaAgUBAozLsabdQJAgWBgkDBUSNYUBAoCBQECgKFOR49rywoCBQECgKFeY4aKwsKAgWBgkBh\n",
       "jkv7lTpBoCBQECgIFBw1ggUFgYJAQaDg0j5YUBAoCBQECl7iDOoEgYJAQaAgUPCWa7CgIFAQKAgU\n",
       "XNoHCwoCBYGCQEGgMO9ptFEnCBQECgIF90HBgoJAQaAgUHAfFCwoCBQECgIFgcIc90ErdYJAQaAg\n",
       "UHDUCBYUBAoCBYGCD+lgQUGgIFAQKAgU/NZzsKAgUBAoCBT81nNQJwgUBAoCBYHCPEeNlQUFgYJA\n",
       "QaDgqUawoCBQECgIFPyvCEGdIFAQKAgUBArug4IFBYGCQEGg4D4oWFAQKAgUBAq+SQcLCgIFgYJA\n",
       "QaDgLdegThAoCBQECo4awYKCQEGgIFAQKHiqESwoCBQECgIFR41gQUGgIFAQKPiva4IFBYGCQEGg\n",
       "IFDwv2QGdYJAQaAgUHAfFCwoCBQECgIFT1aDBQWBgkBBoCBQcNQIFhQECgIFgcJcH9IrCwoCBYGC\n",
       "QEGg4LeegzpBoCBQECi4DwoWFAQKAgWBgg/pYEFBoCBQECgIFLxAFSwoCBQECgIFR41gQUGgIFAQ\n",
       "KPiQDhYUBAoCBYGCQMGfpgjqBIGCQEGgMNel/cqCgkBBoCBQECi4MAsWFAQKAgWBgg/pYEFBoCBQ\n",
       "ECj4kA4WFAQKAgWBgkDBH1gKFhQECgIFgYKjRrCgIFAQKAgUfEgHCwoCBYGCQEGg4FcRgjpBoCBQ\n",
       "ECj4VYRgQUGgIFAQKAgUXJgFCwoCBYGCQMGHdLCgIFAQKAgUvMQZLCgIFAQKAgWBgqNGsKAgUBAo\n",
       "CBTmHR/SGwsKAgWBgkDBfVCwoCBQECgIFAQK7oOCBQWBgkBBoOCoESwoCBQECgIFgYKjRrCgIFAQ\n",
       "KAgUHDWCBQWBgkBBoOCbdLCgIFAQKAgUBAr+FQsWFAQKAgWBwly/irCyoCBQECgIFHyTDhYUBAoC\n",
       "BYGCQMGj52BBQaAgUBAozHvf/hF+mwUFgYJAQaAgUHDUCBYUBAoCBYGCv4IXLCgIFAQKAgXfpIMF\n",
       "BYGCQEGgIFDwAlWwoCBQECgIFPwqQrCgIFAQKAgUvB8ULCgIFAQKAgWBgqcawYKCQEGgIFBwaR8s\n",
       "KAgUBAoCBYGCpxrBgoJAQaAgUHAfFCwoCBQECgIFj56DBQWBgkBBoCBQcB8ULCgIFAQKAgWPnoMF\n",
       "BYGCQEGgMPfbP8GPs6AgUBAoCBQECo4awYKCQEGgIFDwflCwoCBQECgIFAQKLsyCBQWBgkBBoOA+\n",
       "KFhQECgIFAQKvkkHCwoCBYGCQEGg4KgRLCgIFAQKAgWPnoMFBYGCQEGgMP4yxc6CgkBBoCBQECg4\n",
       "agQLCgIFgYJAwaPnYEFBoCBQECgIFDx6DhYUBAoCBYGCo0awoCBQECgIFHyTDhYUBAoCBYGCQGGu\n",
       "N6hWFhQECgIFgYL7oGBBQaAgUBAouA8KFhQECgIFgYJAwVEjWFAQKAgUBArzXNqvLCgIFAQKAgWB\n",
       "wtzjwmxjQUGgIFAQKHg/KFhQECgIFAQK/gpesKAgUBAoCBQECv4KXrCgIFAQKAgUPHoOFhQECgIF\n",
       "gYKXOIMFBYGCQEGgIFDwC3XBgoJAQaAgUHDUCBYUBAoCBYGCQMFbrsGCgkBBoCBQ8JZrsKAgUBAo\n",
       "CBR8kw4WFAQKAgWBgkDBW67BgoJAQaAgUPD3g4IFBYGCQEGg4D4oWFAQKAgUBAoCBY+egwUFgYJA\n",
       "QaDgqBEsKAgUBAoCBYGCo0awoCBQECgIFBw1ggUFgYJAQaDgQzpYUBAoCBQECgIF90HBgoJAQaAg\n",
       "UHDUCBYUBAoCBYGCb9LBgoJAQaAgUBAoOGoECwoCBYGCQMHfDwoWFAQKAgWBgkDB/+0TLCgIFAQK\n",
       "AgX3QcGCgkBBoCBQmHd8Sm8sKAgUBAoCBYGCo0awoCBQECgIFDx6DhYUBAoCBYGCJ6vBgoJAQaAg\n",
       "UBAouA8KFhQECgIFgYJHz8GCgkBBoCBQECg4agQLCgIFgYJAwR9YChYUBAoCBYHCXC8IrSwoCBQE\n",
       "CgIFgYIXqIIFBYGCQEGgMM9RY2VBQaAgUBAo+CYdLCgIFAQKAgWBgqcawYKCQEGgIFDwflCwoCBQ\n",
       "ECgIFAQKc/1C3cqCgkBBoCBQcB8ULCgIFAQKAgV/miJYUBAoCBQECgIFL1AFCwoCBYGCQMGlfbCg\n",
       "IFAQKAgU3AcFCwoCBYGCQEGgMPe4EdpYUBAoCBQECu6DggUFgYJAQaAgUPCvWLCgIFAQKAgUPNUI\n",
       "FhQECgIFgYJL+2BBQaAgUBAoCBTmfhw1NhYUBAoCBYGCo0awoCBQECgIFOb5kF5ZUBAoCBQECgIF\n",
       "R41gQUGgIFAQKMz9+JDeWFAQKAgUBAoCBUeNYEFBoCBQECh4qhEsKAgUBAoCBd+kgwUFgYJAQaAg\n",
       "UPCvWLCgIFAQKAgUPHoOFhQECgIFgcK88+fbP8NPs6AgUBAoCBQECu6DggUFgYJAQaDg/aBgQUGg\n",
       "IFAQKAgU5j4XZhsLCgIFgYJAwVEjWFAQKAgUBApzPXpeWVAQKAgUBAoCBUeNYEFBoCBQECg4agQL\n",
       "CgIFgYJAYd7zTXpjQUGgIFAQKAgU3AcFCwoCBYGCQMFLnMGCgkBBoCBQECg4agQLCgIFgYJAYZ6j\n",
       "xsqCgkBBoCBQ8E06WFAQKAgUBAoChbleoFpZUBAoCBQECv7gdrCgIFAQKAgU/CpCsKAgUBAoCBQE\n",
       "Cp5qBAsKAgWBgkDBUSNYUBAoCBQECgIF/4oFCwoCBYGCQMGj52BBQaAgUBAo+CYdLCgIFAQKAgWB\n",
       "whyPnlcWFAQKAgWBgqNGsKAgUBAoCBS8xBksKAgUBAoCBYHCHEeNlQUFgYJAQaDg/aBgQUGgIFAQ\n",
       "KAgUPHoOFhQECgIFgYL7oGBBQaAgUBAozDvv2z/DT7OgIFAQKAgUBArug4IFBYGCQEGgMMdRY2VB\n",
       "QaAgUBAo/AdhU+3PqlcPeQAAAABJRU5ErkJggg==\n",
       "\" transform=\"translate(2161, 47)\"/>\n",
       "</g>\n",
       "<path clip-path=\"url(#clip680)\" d=\"M 0 0 M2280.7 1346.94 Q2277.09 1346.94 2275.26 1350.5 Q2273.45 1354.05 2273.45 1361.18 Q2273.45 1368.28 2275.26 1371.85 Q2277.09 1375.39 2280.7 1375.39 Q2284.33 1375.39 2286.14 1371.85 Q2287.97 1368.28 2287.97 1361.18 Q2287.97 1354.05 2286.14 1350.5 Q2284.33 1346.94 2280.7 1346.94 M2280.7 1343.24 Q2286.51 1343.24 2289.57 1347.84 Q2292.64 1352.43 2292.64 1361.18 Q2292.64 1369.9 2289.57 1374.51 Q2286.51 1379.09 2280.7 1379.09 Q2274.89 1379.09 2271.81 1374.51 Q2268.76 1369.9 2268.76 1361.18 Q2268.76 1352.43 2271.81 1347.84 Q2274.89 1343.24 2280.7 1343.24 Z\" fill=\"#000000\" fill-rule=\"evenodd\" fill-opacity=\"1\" /><path clip-path=\"url(#clip680)\" d=\"M 0 0 M2297.71 1372.54 L2302.6 1372.54 L2302.6 1378.42 L2297.71 1378.42 L2297.71 1372.54 Z\" fill=\"#000000\" fill-rule=\"evenodd\" fill-opacity=\"1\" /><path clip-path=\"url(#clip680)\" d=\"M 0 0 M2318.25 1359.28 Q2315.1 1359.28 2313.25 1361.43 Q2311.42 1363.58 2311.42 1367.33 Q2311.42 1371.06 2313.25 1373.24 Q2315.1 1375.39 2318.25 1375.39 Q2321.39 1375.39 2323.22 1373.24 Q2325.08 1371.06 2325.08 1367.33 Q2325.08 1363.58 2323.22 1361.43 Q2321.39 1359.28 2318.25 1359.28 M2327.53 1344.62 L2327.53 1348.88 Q2325.77 1348.05 2323.96 1347.61 Q2322.18 1347.17 2320.42 1347.17 Q2315.79 1347.17 2313.34 1350.3 Q2310.91 1353.42 2310.56 1359.74 Q2311.93 1357.73 2313.99 1356.66 Q2316.05 1355.57 2318.52 1355.57 Q2323.73 1355.57 2326.74 1358.75 Q2329.77 1361.89 2329.77 1367.33 Q2329.77 1372.66 2326.63 1375.87 Q2323.48 1379.09 2318.25 1379.09 Q2312.25 1379.09 2309.08 1374.51 Q2305.91 1369.9 2305.91 1361.18 Q2305.91 1352.98 2309.8 1348.12 Q2313.69 1343.24 2320.24 1343.24 Q2322 1343.24 2323.78 1343.58 Q2325.58 1343.93 2327.53 1344.62 Z\" fill=\"#000000\" fill-rule=\"evenodd\" fill-opacity=\"1\" /><path clip-path=\"url(#clip680)\" d=\"M 0 0 M2334.89 1343.86 L2353.25 1343.86 L2353.25 1347.8 L2339.17 1347.8 L2339.17 1356.27 Q2340.19 1355.92 2341.21 1355.76 Q2342.23 1355.57 2343.25 1355.57 Q2349.03 1355.57 2352.41 1358.75 Q2355.79 1361.92 2355.79 1367.33 Q2355.79 1372.91 2352.32 1376.01 Q2348.85 1379.09 2342.53 1379.09 Q2340.35 1379.09 2338.08 1378.72 Q2335.84 1378.35 2333.43 1377.61 L2333.43 1372.91 Q2335.51 1374.05 2337.74 1374.6 Q2339.96 1375.16 2342.44 1375.16 Q2346.44 1375.16 2348.78 1373.05 Q2351.12 1370.94 2351.12 1367.33 Q2351.12 1363.72 2348.78 1361.62 Q2346.44 1359.51 2342.44 1359.51 Q2340.56 1359.51 2338.69 1359.93 Q2336.83 1360.34 2334.89 1361.22 L2334.89 1343.86 Z\" fill=\"#000000\" fill-rule=\"evenodd\" fill-opacity=\"1\" /><path clip-path=\"url(#clip680)\" d=\"M 0 0 M2280.7 1192.45 Q2277.09 1192.45 2275.26 1196.02 Q2273.45 1199.56 2273.45 1206.69 Q2273.45 1213.79 2275.26 1217.36 Q2277.09 1220.9 2280.7 1220.9 Q2284.33 1220.9 2286.14 1217.36 Q2287.97 1213.79 2287.97 1206.69 Q2287.97 1199.56 2286.14 1196.02 Q2284.33 1192.45 2280.7 1192.45 M2280.7 1188.75 Q2286.51 1188.75 2289.57 1193.35 Q2292.64 1197.94 2292.64 1206.69 Q2292.64 1215.41 2289.57 1220.02 Q2286.51 1224.6 2280.7 1224.6 Q2274.89 1224.6 2271.81 1220.02 Q2268.76 1215.41 2268.76 1206.69 Q2268.76 1197.94 2271.81 1193.35 Q2274.89 1188.75 2280.7 1188.75 Z\" fill=\"#000000\" fill-rule=\"evenodd\" fill-opacity=\"1\" /><path clip-path=\"url(#clip680)\" d=\"M 0 0 M2297.71 1218.05 L2302.6 1218.05 L2302.6 1223.93 L2297.71 1223.93 L2297.71 1218.05 Z\" fill=\"#000000\" fill-rule=\"evenodd\" fill-opacity=\"1\" /><path clip-path=\"url(#clip680)\" d=\"M 0 0 M2306.49 1189.37 L2328.71 1189.37 L2328.71 1191.36 L2316.16 1223.93 L2311.28 1223.93 L2323.08 1193.31 L2306.49 1193.31 L2306.49 1189.37 Z\" fill=\"#000000\" fill-rule=\"evenodd\" fill-opacity=\"1\" /><path clip-path=\"url(#clip680)\" d=\"M 0 0 M2343.78 1192.45 Q2340.17 1192.45 2338.34 1196.02 Q2336.53 1199.56 2336.53 1206.69 Q2336.53 1213.79 2338.34 1217.36 Q2340.17 1220.9 2343.78 1220.9 Q2347.41 1220.9 2349.22 1217.36 Q2351.05 1213.79 2351.05 1206.69 Q2351.05 1199.56 2349.22 1196.02 Q2347.41 1192.45 2343.78 1192.45 M2343.78 1188.75 Q2349.59 1188.75 2352.64 1193.35 Q2355.72 1197.94 2355.72 1206.69 Q2355.72 1215.41 2352.64 1220.02 Q2349.59 1224.6 2343.78 1224.6 Q2337.97 1224.6 2334.89 1220.02 Q2331.83 1215.41 2331.83 1206.69 Q2331.83 1197.94 2334.89 1193.35 Q2337.97 1188.75 2343.78 1188.75 Z\" fill=\"#000000\" fill-rule=\"evenodd\" fill-opacity=\"1\" /><path clip-path=\"url(#clip680)\" d=\"M 0 0 M2280.7 1037.96 Q2277.09 1037.96 2275.26 1041.53 Q2273.45 1045.07 2273.45 1052.2 Q2273.45 1059.3 2275.26 1062.87 Q2277.09 1066.41 2280.7 1066.41 Q2284.33 1066.41 2286.14 1062.87 Q2287.97 1059.3 2287.97 1052.2 Q2287.97 1045.07 2286.14 1041.53 Q2284.33 1037.96 2280.7 1037.96 M2280.7 1034.26 Q2286.51 1034.26 2289.57 1038.86 Q2292.64 1043.45 2292.64 1052.2 Q2292.64 1060.92 2289.57 1065.53 Q2286.51 1070.11 2280.7 1070.11 Q2274.89 1070.11 2271.81 1065.53 Q2268.76 1060.92 2268.76 1052.2 Q2268.76 1043.45 2271.81 1038.86 Q2274.89 1034.26 2280.7 1034.26 Z\" fill=\"#000000\" fill-rule=\"evenodd\" fill-opacity=\"1\" /><path clip-path=\"url(#clip680)\" d=\"M 0 0 M2297.71 1063.56 L2302.6 1063.56 L2302.6 1069.44 L2297.71 1069.44 L2297.71 1063.56 Z\" fill=\"#000000\" fill-rule=\"evenodd\" fill-opacity=\"1\" /><path clip-path=\"url(#clip680)\" d=\"M 0 0 M2306.49 1034.88 L2328.71 1034.88 L2328.71 1036.87 L2316.16 1069.44 L2311.28 1069.44 L2323.08 1038.82 L2306.49 1038.82 L2306.49 1034.88 Z\" fill=\"#000000\" fill-rule=\"evenodd\" fill-opacity=\"1\" /><path clip-path=\"url(#clip680)\" d=\"M 0 0 M2333.83 1034.88 L2352.18 1034.88 L2352.18 1038.82 L2338.11 1038.82 L2338.11 1047.29 Q2339.13 1046.94 2340.14 1046.78 Q2341.16 1046.6 2342.18 1046.6 Q2347.97 1046.6 2351.35 1049.77 Q2354.73 1052.94 2354.73 1058.36 Q2354.73 1063.93 2351.26 1067.04 Q2347.78 1070.11 2341.46 1070.11 Q2339.29 1070.11 2337.02 1069.74 Q2334.77 1069.37 2332.37 1068.63 L2332.37 1063.93 Q2334.45 1065.07 2336.67 1065.62 Q2338.89 1066.18 2341.37 1066.18 Q2345.38 1066.18 2347.71 1064.07 Q2350.05 1061.97 2350.05 1058.36 Q2350.05 1054.74 2347.71 1052.64 Q2345.38 1050.53 2341.37 1050.53 Q2339.5 1050.53 2337.62 1050.95 Q2335.77 1051.36 2333.83 1052.24 L2333.83 1034.88 Z\" fill=\"#000000\" fill-rule=\"evenodd\" fill-opacity=\"1\" /><path clip-path=\"url(#clip680)\" d=\"M 0 0 M2280.7 883.473 Q2277.09 883.473 2275.26 887.037 Q2273.45 890.579 2273.45 897.709 Q2273.45 904.815 2275.26 908.38 Q2277.09 911.921 2280.7 911.921 Q2284.33 911.921 2286.14 908.38 Q2287.97 904.815 2287.97 897.709 Q2287.97 890.579 2286.14 887.037 Q2284.33 883.473 2280.7 883.473 M2280.7 879.769 Q2286.51 879.769 2289.57 884.375 Q2292.64 888.959 2292.64 897.709 Q2292.64 906.435 2289.57 911.042 Q2286.51 915.625 2280.7 915.625 Q2274.89 915.625 2271.81 911.042 Q2268.76 906.435 2268.76 897.709 Q2268.76 888.959 2271.81 884.375 Q2274.89 879.769 2280.7 879.769 Z\" fill=\"#000000\" fill-rule=\"evenodd\" fill-opacity=\"1\" /><path clip-path=\"url(#clip680)\" d=\"M 0 0 M2297.71 909.074 L2302.6 909.074 L2302.6 914.954 L2297.71 914.954 L2297.71 909.074 Z\" fill=\"#000000\" fill-rule=\"evenodd\" fill-opacity=\"1\" /><path clip-path=\"url(#clip680)\" d=\"M 0 0 M2317.67 898.542 Q2314.33 898.542 2312.41 900.324 Q2310.51 902.107 2310.51 905.232 Q2310.51 908.357 2312.41 910.139 Q2314.33 911.921 2317.67 911.921 Q2321 911.921 2322.92 910.139 Q2324.84 908.333 2324.84 905.232 Q2324.84 902.107 2322.92 900.324 Q2321.02 898.542 2317.67 898.542 M2312.99 896.551 Q2309.98 895.81 2308.29 893.75 Q2306.63 891.69 2306.63 888.727 Q2306.63 884.584 2309.57 882.176 Q2312.53 879.769 2317.67 879.769 Q2322.83 879.769 2325.77 882.176 Q2328.71 884.584 2328.71 888.727 Q2328.71 891.69 2327.02 893.75 Q2325.35 895.81 2322.37 896.551 Q2325.75 897.338 2327.62 899.63 Q2329.52 901.921 2329.52 905.232 Q2329.52 910.255 2326.44 912.94 Q2323.39 915.625 2317.67 915.625 Q2311.95 915.625 2308.87 912.94 Q2305.82 910.255 2305.82 905.232 Q2305.82 901.921 2307.71 899.63 Q2309.61 897.338 2312.99 896.551 M2311.28 889.167 Q2311.28 891.852 2312.95 893.357 Q2314.64 894.861 2317.67 894.861 Q2320.68 894.861 2322.37 893.357 Q2324.08 891.852 2324.08 889.167 Q2324.08 886.482 2322.37 884.977 Q2320.68 883.473 2317.67 883.473 Q2314.64 883.473 2312.95 884.977 Q2311.28 886.482 2311.28 889.167 Z\" fill=\"#000000\" fill-rule=\"evenodd\" fill-opacity=\"1\" /><path clip-path=\"url(#clip680)\" d=\"M 0 0 M2344.59 883.473 Q2340.98 883.473 2339.15 887.037 Q2337.34 890.579 2337.34 897.709 Q2337.34 904.815 2339.15 908.38 Q2340.98 911.921 2344.59 911.921 Q2348.22 911.921 2350.03 908.38 Q2351.86 904.815 2351.86 897.709 Q2351.86 890.579 2350.03 887.037 Q2348.22 883.473 2344.59 883.473 M2344.59 879.769 Q2350.4 879.769 2353.45 884.375 Q2356.53 888.959 2356.53 897.709 Q2356.53 906.435 2353.45 911.042 Q2350.4 915.625 2344.59 915.625 Q2338.78 915.625 2335.7 911.042 Q2332.64 906.435 2332.64 897.709 Q2332.64 888.959 2335.7 884.375 Q2338.78 879.769 2344.59 879.769 Z\" fill=\"#000000\" fill-rule=\"evenodd\" fill-opacity=\"1\" /><path clip-path=\"url(#clip680)\" d=\"M 0 0 M2280.7 728.983 Q2277.09 728.983 2275.26 732.548 Q2273.45 736.09 2273.45 743.219 Q2273.45 750.326 2275.26 753.891 Q2277.09 757.432 2280.7 757.432 Q2284.33 757.432 2286.14 753.891 Q2287.97 750.326 2287.97 743.219 Q2287.97 736.09 2286.14 732.548 Q2284.33 728.983 2280.7 728.983 M2280.7 725.28 Q2286.51 725.28 2289.57 729.886 Q2292.64 734.47 2292.64 743.219 Q2292.64 751.946 2289.57 756.553 Q2286.51 761.136 2280.7 761.136 Q2274.89 761.136 2271.81 756.553 Q2268.76 751.946 2268.76 743.219 Q2268.76 734.47 2271.81 729.886 Q2274.89 725.28 2280.7 725.28 Z\" fill=\"#000000\" fill-rule=\"evenodd\" fill-opacity=\"1\" /><path clip-path=\"url(#clip680)\" d=\"M 0 0 M2297.71 754.585 L2302.6 754.585 L2302.6 760.465 L2297.71 760.465 L2297.71 754.585 Z\" fill=\"#000000\" fill-rule=\"evenodd\" fill-opacity=\"1\" /><path clip-path=\"url(#clip680)\" d=\"M 0 0 M2317.67 744.053 Q2314.33 744.053 2312.41 745.835 Q2310.51 747.618 2310.51 750.743 Q2310.51 753.868 2312.41 755.65 Q2314.33 757.432 2317.67 757.432 Q2321 757.432 2322.92 755.65 Q2324.84 753.844 2324.84 750.743 Q2324.84 747.618 2322.92 745.835 Q2321.02 744.053 2317.67 744.053 M2312.99 742.062 Q2309.98 741.321 2308.29 739.261 Q2306.63 737.201 2306.63 734.238 Q2306.63 730.095 2309.57 727.687 Q2312.53 725.28 2317.67 725.28 Q2322.83 725.28 2325.77 727.687 Q2328.71 730.095 2328.71 734.238 Q2328.71 737.201 2327.02 739.261 Q2325.35 741.321 2322.37 742.062 Q2325.75 742.849 2327.62 745.141 Q2329.52 747.432 2329.52 750.743 Q2329.52 755.766 2326.44 758.451 Q2323.39 761.136 2317.67 761.136 Q2311.95 761.136 2308.87 758.451 Q2305.82 755.766 2305.82 750.743 Q2305.82 747.432 2307.71 745.141 Q2309.61 742.849 2312.99 742.062 M2311.28 734.678 Q2311.28 737.363 2312.95 738.868 Q2314.64 740.372 2317.67 740.372 Q2320.68 740.372 2322.37 738.868 Q2324.08 737.363 2324.08 734.678 Q2324.08 731.993 2322.37 730.488 Q2320.68 728.983 2317.67 728.983 Q2314.64 728.983 2312.95 730.488 Q2311.28 731.993 2311.28 734.678 Z\" fill=\"#000000\" fill-rule=\"evenodd\" fill-opacity=\"1\" /><path clip-path=\"url(#clip680)\" d=\"M 0 0 M2334.64 725.905 L2352.99 725.905 L2352.99 729.84 L2338.92 729.84 L2338.92 738.312 Q2339.94 737.965 2340.95 737.803 Q2341.97 737.618 2342.99 737.618 Q2348.78 737.618 2352.16 740.789 Q2355.54 743.96 2355.54 749.377 Q2355.54 754.956 2352.07 758.057 Q2348.59 761.136 2342.27 761.136 Q2340.1 761.136 2337.83 760.766 Q2335.58 760.395 2333.18 759.655 L2333.18 754.956 Q2335.26 756.09 2337.48 756.645 Q2339.7 757.201 2342.18 757.201 Q2346.19 757.201 2348.52 755.094 Q2350.86 752.988 2350.86 749.377 Q2350.86 745.766 2348.52 743.659 Q2346.19 741.553 2342.18 741.553 Q2340.31 741.553 2338.43 741.969 Q2336.58 742.386 2334.64 743.266 L2334.64 725.905 Z\" fill=\"#000000\" fill-rule=\"evenodd\" fill-opacity=\"1\" /><path clip-path=\"url(#clip680)\" d=\"M 0 0 M2280.7 574.494 Q2277.09 574.494 2275.26 578.059 Q2273.45 581.601 2273.45 588.73 Q2273.45 595.837 2275.26 599.402 Q2277.09 602.943 2280.7 602.943 Q2284.33 602.943 2286.14 599.402 Q2287.97 595.837 2287.97 588.73 Q2287.97 581.601 2286.14 578.059 Q2284.33 574.494 2280.7 574.494 M2280.7 570.791 Q2286.51 570.791 2289.57 575.397 Q2292.64 579.98 2292.64 588.73 Q2292.64 597.457 2289.57 602.064 Q2286.51 606.647 2280.7 606.647 Q2274.89 606.647 2271.81 602.064 Q2268.76 597.457 2268.76 588.73 Q2268.76 579.98 2271.81 575.397 Q2274.89 570.791 2280.7 570.791 Z\" fill=\"#000000\" fill-rule=\"evenodd\" fill-opacity=\"1\" /><path clip-path=\"url(#clip680)\" d=\"M 0 0 M2297.71 600.096 L2302.6 600.096 L2302.6 605.976 L2297.71 605.976 L2297.71 600.096 Z\" fill=\"#000000\" fill-rule=\"evenodd\" fill-opacity=\"1\" /><path clip-path=\"url(#clip680)\" d=\"M 0 0 M2307.81 605.258 L2307.81 600.999 Q2309.57 601.832 2311.37 602.272 Q2313.18 602.712 2314.91 602.712 Q2319.54 602.712 2321.97 599.61 Q2324.43 596.485 2324.77 590.142 Q2323.43 592.133 2321.37 593.198 Q2319.31 594.263 2316.81 594.263 Q2311.63 594.263 2308.59 591.138 Q2305.58 587.99 2305.58 582.55 Q2305.58 577.226 2308.73 574.008 Q2311.88 570.791 2317.11 570.791 Q2323.11 570.791 2326.26 575.397 Q2329.43 579.98 2329.43 588.73 Q2329.43 596.902 2325.54 601.786 Q2321.67 606.647 2315.12 606.647 Q2313.36 606.647 2311.56 606.3 Q2309.75 605.953 2307.81 605.258 M2317.11 590.605 Q2320.26 590.605 2322.09 588.453 Q2323.94 586.3 2323.94 582.55 Q2323.94 578.823 2322.09 576.67 Q2320.26 574.494 2317.11 574.494 Q2313.96 574.494 2312.11 576.67 Q2310.28 578.823 2310.28 582.55 Q2310.28 586.3 2312.11 588.453 Q2313.96 590.605 2317.11 590.605 Z\" fill=\"#000000\" fill-rule=\"evenodd\" fill-opacity=\"1\" /><path clip-path=\"url(#clip680)\" d=\"M 0 0 M2344.5 574.494 Q2340.89 574.494 2339.06 578.059 Q2337.25 581.601 2337.25 588.73 Q2337.25 595.837 2339.06 599.402 Q2340.89 602.943 2344.5 602.943 Q2348.13 602.943 2349.94 599.402 Q2351.76 595.837 2351.76 588.73 Q2351.76 581.601 2349.94 578.059 Q2348.13 574.494 2344.5 574.494 M2344.5 570.791 Q2350.31 570.791 2353.36 575.397 Q2356.44 579.98 2356.44 588.73 Q2356.44 597.457 2353.36 602.064 Q2350.31 606.647 2344.5 606.647 Q2338.69 606.647 2335.61 602.064 Q2332.55 597.457 2332.55 588.73 Q2332.55 579.98 2335.61 575.397 Q2338.69 570.791 2344.5 570.791 Z\" fill=\"#000000\" fill-rule=\"evenodd\" fill-opacity=\"1\" /><path clip-path=\"url(#clip680)\" d=\"M 0 0 M2280.7 420.005 Q2277.09 420.005 2275.26 423.57 Q2273.45 427.112 2273.45 434.241 Q2273.45 441.348 2275.26 444.913 Q2277.09 448.454 2280.7 448.454 Q2284.33 448.454 2286.14 444.913 Q2287.97 441.348 2287.97 434.241 Q2287.97 427.112 2286.14 423.57 Q2284.33 420.005 2280.7 420.005 M2280.7 416.302 Q2286.51 416.302 2289.57 420.908 Q2292.64 425.491 2292.64 434.241 Q2292.64 442.968 2289.57 447.575 Q2286.51 452.158 2280.7 452.158 Q2274.89 452.158 2271.81 447.575 Q2268.76 442.968 2268.76 434.241 Q2268.76 425.491 2271.81 420.908 Q2274.89 416.302 2280.7 416.302 Z\" fill=\"#000000\" fill-rule=\"evenodd\" fill-opacity=\"1\" /><path clip-path=\"url(#clip680)\" d=\"M 0 0 M2297.71 445.607 L2302.6 445.607 L2302.6 451.487 L2297.71 451.487 L2297.71 445.607 Z\" fill=\"#000000\" fill-rule=\"evenodd\" fill-opacity=\"1\" /><path clip-path=\"url(#clip680)\" d=\"M 0 0 M2307.81 450.769 L2307.81 446.51 Q2309.57 447.343 2311.37 447.783 Q2313.18 448.223 2314.91 448.223 Q2319.54 448.223 2321.97 445.121 Q2324.43 441.996 2324.77 435.653 Q2323.43 437.644 2321.37 438.709 Q2319.31 439.774 2316.81 439.774 Q2311.63 439.774 2308.59 436.649 Q2305.58 433.501 2305.58 428.061 Q2305.58 422.737 2308.73 419.519 Q2311.88 416.302 2317.11 416.302 Q2323.11 416.302 2326.26 420.908 Q2329.43 425.491 2329.43 434.241 Q2329.43 442.413 2325.54 447.297 Q2321.67 452.158 2315.12 452.158 Q2313.36 452.158 2311.56 451.811 Q2309.75 451.463 2307.81 450.769 M2317.11 436.116 Q2320.26 436.116 2322.09 433.964 Q2323.94 431.811 2323.94 428.061 Q2323.94 424.334 2322.09 422.181 Q2320.26 420.005 2317.11 420.005 Q2313.96 420.005 2312.11 422.181 Q2310.28 424.334 2310.28 428.061 Q2310.28 431.811 2312.11 433.964 Q2313.96 436.116 2317.11 436.116 Z\" fill=\"#000000\" fill-rule=\"evenodd\" fill-opacity=\"1\" /><path clip-path=\"url(#clip680)\" d=\"M 0 0 M2334.54 416.927 L2352.9 416.927 L2352.9 420.862 L2338.82 420.862 L2338.82 429.334 Q2339.84 428.987 2340.86 428.825 Q2341.88 428.639 2342.9 428.639 Q2348.69 428.639 2352.07 431.811 Q2355.45 434.982 2355.45 440.399 Q2355.45 445.977 2351.97 449.079 Q2348.5 452.158 2342.18 452.158 Q2340.01 452.158 2337.74 451.787 Q2335.49 451.417 2333.08 450.676 L2333.08 445.977 Q2335.17 447.112 2337.39 447.667 Q2339.61 448.223 2342.09 448.223 Q2346.09 448.223 2348.43 446.116 Q2350.77 444.01 2350.77 440.399 Q2350.77 436.788 2348.43 434.681 Q2346.09 432.575 2342.09 432.575 Q2340.21 432.575 2338.34 432.991 Q2336.49 433.408 2334.54 434.288 L2334.54 416.927 Z\" fill=\"#000000\" fill-rule=\"evenodd\" fill-opacity=\"1\" /><path clip-path=\"url(#clip680)\" d=\"M 0 0 M2269.43 293.062 L2277.07 293.062 L2277.07 266.697 L2268.76 268.363 L2268.76 264.104 L2277.02 262.437 L2281.7 262.437 L2281.7 293.062 L2289.33 293.062 L2289.33 296.997 L2269.43 296.997 L2269.43 293.062 Z\" fill=\"#000000\" fill-rule=\"evenodd\" fill-opacity=\"1\" /><path clip-path=\"url(#clip680)\" d=\"M 0 0 M2294.4 291.118 L2299.29 291.118 L2299.29 296.997 L2294.4 296.997 L2294.4 291.118 Z\" fill=\"#000000\" fill-rule=\"evenodd\" fill-opacity=\"1\" /><path clip-path=\"url(#clip680)\" d=\"M 0 0 M2314.36 265.516 Q2310.75 265.516 2308.92 269.081 Q2307.11 272.623 2307.11 279.752 Q2307.11 286.859 2308.92 290.423 Q2310.75 293.965 2314.36 293.965 Q2317.99 293.965 2319.8 290.423 Q2321.63 286.859 2321.63 279.752 Q2321.63 272.623 2319.8 269.081 Q2317.99 265.516 2314.36 265.516 M2314.36 261.812 Q2320.17 261.812 2323.22 266.419 Q2326.3 271.002 2326.3 279.752 Q2326.3 288.479 2323.22 293.085 Q2320.17 297.669 2314.36 297.669 Q2308.55 297.669 2305.47 293.085 Q2302.41 288.479 2302.41 279.752 Q2302.41 271.002 2305.47 266.419 Q2308.55 261.812 2314.36 261.812 Z\" fill=\"#000000\" fill-rule=\"evenodd\" fill-opacity=\"1\" /><path clip-path=\"url(#clip680)\" d=\"M 0 0 M2341.37 265.516 Q2337.76 265.516 2335.93 269.081 Q2334.13 272.623 2334.13 279.752 Q2334.13 286.859 2335.93 290.423 Q2337.76 293.965 2341.37 293.965 Q2345.01 293.965 2346.81 290.423 Q2348.64 286.859 2348.64 279.752 Q2348.64 272.623 2346.81 269.081 Q2345.01 265.516 2341.37 265.516 M2341.37 261.812 Q2347.18 261.812 2350.24 266.419 Q2353.32 271.002 2353.32 279.752 Q2353.32 288.479 2350.24 293.085 Q2347.18 297.669 2341.37 297.669 Q2335.56 297.669 2332.48 293.085 Q2329.43 288.479 2329.43 279.752 Q2329.43 271.002 2332.48 266.419 Q2335.56 261.812 2341.37 261.812 Z\" fill=\"#000000\" fill-rule=\"evenodd\" fill-opacity=\"1\" /><path clip-path=\"url(#clip680)\" d=\"M 0 0 M2269.43 138.573 L2277.07 138.573 L2277.07 112.208 L2268.76 113.874 L2268.76 109.615 L2277.02 107.948 L2281.7 107.948 L2281.7 138.573 L2289.33 138.573 L2289.33 142.508 L2269.43 142.508 L2269.43 138.573 Z\" fill=\"#000000\" fill-rule=\"evenodd\" fill-opacity=\"1\" /><path clip-path=\"url(#clip680)\" d=\"M 0 0 M2294.4 136.629 L2299.29 136.629 L2299.29 142.508 L2294.4 142.508 L2294.4 136.629 Z\" fill=\"#000000\" fill-rule=\"evenodd\" fill-opacity=\"1\" /><path clip-path=\"url(#clip680)\" d=\"M 0 0 M2314.36 111.027 Q2310.75 111.027 2308.92 114.592 Q2307.11 118.134 2307.11 125.263 Q2307.11 132.37 2308.92 135.934 Q2310.75 139.476 2314.36 139.476 Q2317.99 139.476 2319.8 135.934 Q2321.63 132.37 2321.63 125.263 Q2321.63 118.134 2319.8 114.592 Q2317.99 111.027 2314.36 111.027 M2314.36 107.323 Q2320.17 107.323 2323.22 111.93 Q2326.3 116.513 2326.3 125.263 Q2326.3 133.99 2323.22 138.596 Q2320.17 143.18 2314.36 143.18 Q2308.55 143.18 2305.47 138.596 Q2302.41 133.99 2302.41 125.263 Q2302.41 116.513 2305.47 111.93 Q2308.55 107.323 2314.36 107.323 Z\" fill=\"#000000\" fill-rule=\"evenodd\" fill-opacity=\"1\" /><path clip-path=\"url(#clip680)\" d=\"M 0 0 M2331.42 107.948 L2349.77 107.948 L2349.77 111.884 L2335.7 111.884 L2335.7 120.356 Q2336.72 120.009 2337.74 119.846 Q2338.76 119.661 2339.77 119.661 Q2345.56 119.661 2348.94 122.833 Q2352.32 126.004 2352.32 131.42 Q2352.32 136.999 2348.85 140.101 Q2345.38 143.18 2339.06 143.18 Q2336.88 143.18 2334.61 142.809 Q2332.37 142.439 2329.96 141.698 L2329.96 136.999 Q2332.04 138.133 2334.26 138.689 Q2336.49 139.245 2338.96 139.245 Q2342.97 139.245 2345.31 137.138 Q2347.64 135.032 2347.64 131.42 Q2347.64 127.809 2345.31 125.703 Q2342.97 123.596 2338.96 123.596 Q2337.09 123.596 2335.21 124.013 Q2333.36 124.43 2331.42 125.309 L2331.42 107.948 Z\" fill=\"#000000\" fill-rule=\"evenodd\" fill-opacity=\"1\" /><polyline clip-path=\"url(#clip680)\" style=\"stroke:#000000; stroke-width:4; stroke-opacity:1; fill:none\" points=\"\n",
       "  2232.76,1423.18 2232.76,1364.77 2256.76,1364.77 2232.76,1364.77 2232.76,1210.28 2256.76,1210.28 2232.76,1210.28 2232.76,1055.79 2256.76,1055.79 2232.76,1055.79 \n",
       "  2232.76,901.303 2256.76,901.303 2232.76,901.303 2232.76,746.814 2256.76,746.814 2232.76,746.814 2232.76,592.324 2256.76,592.324 2232.76,592.324 2232.76,437.835 \n",
       "  2256.76,437.835 2232.76,437.835 2232.76,283.346 2256.76,283.346 2232.76,283.346 2232.76,128.857 2256.76,128.857 2232.76,128.857 2232.76,47.2441 \n",
       "  \"/>\n",
       "</svg>\n"
      ]
     },
     "execution_count": 74,
     "metadata": {},
     "output_type": "execute_result"
    }
   ],
   "source": [
    "plot(self_tuning_nn)"
   ]
  },
  {
   "cell_type": "code",
   "execution_count": 75,
   "metadata": {},
   "outputs": [
    {
     "data": {
      "text/plain": [
       "(best_model = \u001b[34mNeuralNetworkClassifier{CustomNN,…} @428\u001b[39m,\n",
       " best_fitted_params = (chain = Chain(Chain(Dense(4, 34, σ), Dense(34, 3, σ)), softmax),),)"
      ]
     },
     "execution_count": 75,
     "metadata": {},
     "output_type": "execute_result"
    }
   ],
   "source": [
    "best = fitted_params(self_tuning_nn)\n",
    "best"
   ]
  },
  {
   "cell_type": "code",
   "execution_count": 76,
   "metadata": {},
   "outputs": [
    {
     "data": {
      "text/plain": [
       "NeuralNetworkClassifier(\n",
       "    builder = CustomNN(\n",
       "            n1 = 34),\n",
       "    finaliser = NNlib.softmax,\n",
       "    optimiser = ADAM(0.01, (0.9, 0.999), IdDict{Any,Any}()),\n",
       "    loss = Flux.crossentropy,\n",
       "    epochs = 835,\n",
       "    batch_size = 16,\n",
       "    lambda = 0.0021544346900318843,\n",
       "    alpha = 0.0,\n",
       "    optimiser_changes_trigger_retraining = false)\u001b[34m @428\u001b[39m"
      ]
     },
     "execution_count": 76,
     "metadata": {},
     "output_type": "execute_result"
    }
   ],
   "source": [
    "best.best_model"
   ]
  },
  {
   "cell_type": "code",
   "execution_count": 77,
   "metadata": {
    "scrolled": true
   },
   "outputs": [
    {
     "data": {
      "text/plain": [
       "0.63109577f0"
      ]
     },
     "execution_count": 77,
     "metadata": {},
     "output_type": "execute_result"
    }
   ],
   "source": [
    "best_loss = z.report.best_result.measurement[1]"
   ]
  },
  {
   "cell_type": "code",
   "execution_count": 111,
   "metadata": {},
   "outputs": [
    {
     "data": {
      "text/plain": [
       "0.00032"
      ]
     },
     "execution_count": 111,
     "metadata": {},
     "output_type": "execute_result"
    }
   ],
   "source": [
    "best_eta = round(best.best_model.optimiser.eta, digits=5)"
   ]
  },
  {
   "cell_type": "code",
   "execution_count": 130,
   "metadata": {},
   "outputs": [],
   "source": [
    "fn = \"Figures/Grid_NN_$(param1):$(a)_x_$(param2):$(c)_bestloss:$(best_loss)_hidden:$b\"\n",
    "png(replace(fn,'.' => ','))"
   ]
  },
  {
   "cell_type": "code",
   "execution_count": null,
   "metadata": {},
   "outputs": [],
   "source": []
  },
  {
   "cell_type": "markdown",
   "metadata": {},
   "source": [
    "### GridSearch for Regularization"
   ]
  },
  {
   "cell_type": "code",
   "execution_count": 100,
   "metadata": {},
   "outputs": [
    {
     "data": {
      "text/plain": [
       "MLJBase.NumericRange(Float64, :lambda, ... )"
      ]
     },
     "execution_count": 100,
     "metadata": {},
     "output_type": "execute_result"
    }
   ],
   "source": [
    "param1 = :epochs\n",
    "param2 = :lambda\n",
    "\n",
    "r1 = range(nn2, param1, lower=100, upper=2000, scale=:linear)\n",
    "r2 = range(nn2, param2, lower=0.0001, upper=10, scale=:log10)"
   ]
  },
  {
   "cell_type": "code",
   "execution_count": 101,
   "metadata": {
    "scrolled": true
   },
   "outputs": [
    {
     "data": {
      "text/plain": [
       "ProbabilisticTunedModel(\n",
       "    model = NeuralNetworkClassifier(\n",
       "            builder = \u001b[34mCustomNN @951\u001b[39m,\n",
       "            finaliser = NNlib.softmax,\n",
       "            optimiser = ADAM(0.00032, (0.9, 0.999), IdDict{Any,Any}()),\n",
       "            loss = Flux.crossentropy,\n",
       "            epochs = 2000,\n",
       "            batch_size = 16,\n",
       "            lambda = 0.0021544346900318843,\n",
       "            alpha = 0.0,\n",
       "            optimiser_changes_trigger_retraining = false),\n",
       "    tuning = Grid(\n",
       "            goal = 50,\n",
       "            resolution = 10,\n",
       "            shuffle = true,\n",
       "            rng = Random._GLOBAL_RNG()),\n",
       "    resampling = Holdout(\n",
       "            fraction_train = 0.7,\n",
       "            shuffle = false,\n",
       "            rng = Random._GLOBAL_RNG()),\n",
       "    measure = cross_entropy(\n",
       "            eps = 2.220446049250313e-16),\n",
       "    weights = nothing,\n",
       "    operation = MLJModelInterface.predict,\n",
       "    range = MLJBase.NumericRange{T,MLJBase.Bounded,Symbol} where T[\u001b[34mNumericRange{Int64,…} @889\u001b[39m, \u001b[34mNumericRange{Float64,…} @990\u001b[39m],\n",
       "    train_best = true,\n",
       "    repeats = 1,\n",
       "    n = nothing,\n",
       "    acceleration = CPUThreads{Int64}(1),\n",
       "    acceleration_resampling = CPU1{Nothing}(nothing),\n",
       "    check_measure = true)\u001b[34m @074\u001b[39m"
      ]
     },
     "execution_count": 101,
     "metadata": {},
     "output_type": "execute_result"
    }
   ],
   "source": [
    "self_tuning_nn_model = TunedModel(model=nn2,\n",
    "                                    tuning=Grid(goal=50),\n",
    "                                    resampling=Holdout(fraction_train=0.7), \n",
    "                                    measure=cross_entropy,\n",
    "                                    acceleration=CPUThreads(),\n",
    "                                    range=[r1, r2])"
   ]
  },
  {
   "cell_type": "code",
   "execution_count": 102,
   "metadata": {},
   "outputs": [
    {
     "data": {
      "text/plain": [
       "\u001b[34mMachine{ProbabilisticTunedModel{Grid,…}} @182\u001b[39m trained 0 times.\n",
       "  args: \n",
       "    1:\t\u001b[34mSource @806\u001b[39m ⏎ `Table{AbstractArray{Continuous,1}}`\n",
       "    2:\t\u001b[34mSource @908\u001b[39m ⏎ `AbstractArray{Multiclass{3},1}`\n"
      ]
     },
     "execution_count": 102,
     "metadata": {},
     "output_type": "execute_result"
    }
   ],
   "source": [
    "self_tuning_nn = machine(self_tuning_nn_model, X_stand, y)"
   ]
  },
  {
   "cell_type": "code",
   "execution_count": 103,
   "metadata": {},
   "outputs": [
    {
     "name": "stderr",
     "output_type": "stream",
     "text": [
      "┌ Info: Training \u001b[34mMachine{ProbabilisticTunedModel{Grid,…}} @182\u001b[39m.\n",
      "└ @ MLJBase /home/andrew/.julia/packages/MLJBase/uKzAz/src/machines.jl:319\n",
      "┌ Info: Attempting to evaluate 49 models.\n",
      "└ @ MLJTuning /home/andrew/.julia/packages/MLJTuning/Bbgvk/src/tuned_models.jl:494\n",
      "\u001b[33mEvaluating over 49 metamodels: 100%[=========================] Time: 0:02:05\u001b[39m\n"
     ]
    },
    {
     "data": {
      "text/plain": [
       "\u001b[34mMachine{ProbabilisticTunedModel{Grid,…}} @182\u001b[39m trained 1 time.\n",
       "  args: \n",
       "    1:\t\u001b[34mSource @806\u001b[39m ⏎ `Table{AbstractArray{Continuous,1}}`\n",
       "    2:\t\u001b[34mSource @908\u001b[39m ⏎ `AbstractArray{Multiclass{3},1}`\n"
      ]
     },
     "execution_count": 103,
     "metadata": {},
     "output_type": "execute_result"
    }
   ],
   "source": [
    "z = fit!(self_tuning_nn, rows=train)"
   ]
  },
  {
   "cell_type": "code",
   "execution_count": 104,
   "metadata": {
    "scrolled": false
   },
   "outputs": [
    {
     "data": {
      "image/svg+xml": [
       "<?xml version=\"1.0\" encoding=\"utf-8\"?>\n",
       "<svg xmlns=\"http://www.w3.org/2000/svg\" xmlns:xlink=\"http://www.w3.org/1999/xlink\" width=\"600\" height=\"400\" viewBox=\"0 0 2400 1600\">\n",
       "<defs>\n",
       "  <clipPath id=\"clip800\">\n",
       "    <rect x=\"0\" y=\"0\" width=\"2400\" height=\"1600\"/>\n",
       "  </clipPath>\n",
       "</defs>\n",
       "<path clip-path=\"url(#clip800)\" d=\"\n",
       "M0 1600 L2400 1600 L2400 0 L0 0  Z\n",
       "  \" fill=\"#ffffff\" fill-rule=\"evenodd\" fill-opacity=\"1\"/>\n",
       "<defs>\n",
       "  <clipPath id=\"clip801\">\n",
       "    <rect x=\"480\" y=\"0\" width=\"1681\" height=\"1600\"/>\n",
       "  </clipPath>\n",
       "</defs>\n",
       "<path clip-path=\"url(#clip800)\" d=\"\n",
       "M244.308 1423.18 L2112.76 1423.18 L2112.76 47.2441 L244.308 47.2441  Z\n",
       "  \" fill=\"#ffffff\" fill-rule=\"evenodd\" fill-opacity=\"1\"/>\n",
       "<defs>\n",
       "  <clipPath id=\"clip802\">\n",
       "    <rect x=\"244\" y=\"47\" width=\"1869\" height=\"1377\"/>\n",
       "  </clipPath>\n",
       "</defs>\n",
       "<polyline clip-path=\"url(#clip802)\" style=\"stroke:#000000; stroke-width:2; stroke-opacity:0.1; fill:none\" points=\"\n",
       "  668.28,1423.18 668.28,47.2441 \n",
       "  \"/>\n",
       "<polyline clip-path=\"url(#clip802)\" style=\"stroke:#000000; stroke-width:2; stroke-opacity:0.1; fill:none\" points=\"\n",
       "  1132.15,1423.18 1132.15,47.2441 \n",
       "  \"/>\n",
       "<polyline clip-path=\"url(#clip802)\" style=\"stroke:#000000; stroke-width:2; stroke-opacity:0.1; fill:none\" points=\"\n",
       "  1596.01,1423.18 1596.01,47.2441 \n",
       "  \"/>\n",
       "<polyline clip-path=\"url(#clip802)\" style=\"stroke:#000000; stroke-width:2; stroke-opacity:0.1; fill:none\" points=\"\n",
       "  2059.88,1423.18 2059.88,47.2441 \n",
       "  \"/>\n",
       "<polyline clip-path=\"url(#clip802)\" style=\"stroke:#000000; stroke-width:2; stroke-opacity:0.1; fill:none\" points=\"\n",
       "  244.308,1384.24 2112.76,1384.24 \n",
       "  \"/>\n",
       "<polyline clip-path=\"url(#clip802)\" style=\"stroke:#000000; stroke-width:2; stroke-opacity:0.1; fill:none\" points=\"\n",
       "  244.308,1124.63 2112.76,1124.63 \n",
       "  \"/>\n",
       "<polyline clip-path=\"url(#clip802)\" style=\"stroke:#000000; stroke-width:2; stroke-opacity:0.1; fill:none\" points=\"\n",
       "  244.308,865.017 2112.76,865.017 \n",
       "  \"/>\n",
       "<polyline clip-path=\"url(#clip802)\" style=\"stroke:#000000; stroke-width:2; stroke-opacity:0.1; fill:none\" points=\"\n",
       "  244.308,605.407 2112.76,605.407 \n",
       "  \"/>\n",
       "<polyline clip-path=\"url(#clip802)\" style=\"stroke:#000000; stroke-width:2; stroke-opacity:0.1; fill:none\" points=\"\n",
       "  244.308,345.796 2112.76,345.796 \n",
       "  \"/>\n",
       "<polyline clip-path=\"url(#clip802)\" style=\"stroke:#000000; stroke-width:2; stroke-opacity:0.1; fill:none\" points=\"\n",
       "  244.308,86.1857 2112.76,86.1857 \n",
       "  \"/>\n",
       "<polyline clip-path=\"url(#clip800)\" style=\"stroke:#000000; stroke-width:4; stroke-opacity:1; fill:none\" points=\"\n",
       "  244.308,1423.18 2112.76,1423.18 \n",
       "  \"/>\n",
       "<polyline clip-path=\"url(#clip800)\" style=\"stroke:#000000; stroke-width:4; stroke-opacity:1; fill:none\" points=\"\n",
       "  244.308,1423.18 244.308,47.2441 \n",
       "  \"/>\n",
       "<polyline clip-path=\"url(#clip800)\" style=\"stroke:#000000; stroke-width:4; stroke-opacity:1; fill:none\" points=\"\n",
       "  668.28,1423.18 668.28,1406.67 \n",
       "  \"/>\n",
       "<polyline clip-path=\"url(#clip800)\" style=\"stroke:#000000; stroke-width:4; stroke-opacity:1; fill:none\" points=\"\n",
       "  1132.15,1423.18 1132.15,1406.67 \n",
       "  \"/>\n",
       "<polyline clip-path=\"url(#clip800)\" style=\"stroke:#000000; stroke-width:4; stroke-opacity:1; fill:none\" points=\"\n",
       "  1596.01,1423.18 1596.01,1406.67 \n",
       "  \"/>\n",
       "<polyline clip-path=\"url(#clip800)\" style=\"stroke:#000000; stroke-width:4; stroke-opacity:1; fill:none\" points=\"\n",
       "  2059.88,1423.18 2059.88,1406.67 \n",
       "  \"/>\n",
       "<polyline clip-path=\"url(#clip800)\" style=\"stroke:#000000; stroke-width:4; stroke-opacity:1; fill:none\" points=\"\n",
       "  244.308,1384.24 266.729,1384.24 \n",
       "  \"/>\n",
       "<polyline clip-path=\"url(#clip800)\" style=\"stroke:#000000; stroke-width:4; stroke-opacity:1; fill:none\" points=\"\n",
       "  244.308,1124.63 266.729,1124.63 \n",
       "  \"/>\n",
       "<polyline clip-path=\"url(#clip800)\" style=\"stroke:#000000; stroke-width:4; stroke-opacity:1; fill:none\" points=\"\n",
       "  244.308,865.017 266.729,865.017 \n",
       "  \"/>\n",
       "<polyline clip-path=\"url(#clip800)\" style=\"stroke:#000000; stroke-width:4; stroke-opacity:1; fill:none\" points=\"\n",
       "  244.308,605.407 266.729,605.407 \n",
       "  \"/>\n",
       "<polyline clip-path=\"url(#clip800)\" style=\"stroke:#000000; stroke-width:4; stroke-opacity:1; fill:none\" points=\"\n",
       "  244.308,345.796 266.729,345.796 \n",
       "  \"/>\n",
       "<polyline clip-path=\"url(#clip800)\" style=\"stroke:#000000; stroke-width:4; stroke-opacity:1; fill:none\" points=\"\n",
       "  244.308,86.1857 266.729,86.1857 \n",
       "  \"/>\n",
       "<path clip-path=\"url(#clip800)\" d=\"M 0 0 M631.544 1442.09 L649.901 1442.09 L649.901 1446.03 L635.827 1446.03 L635.827 1454.5 Q636.845 1454.15 637.864 1453.99 Q638.882 1453.8 639.901 1453.8 Q645.688 1453.8 649.067 1456.98 Q652.447 1460.15 652.447 1465.56 Q652.447 1471.14 648.975 1474.24 Q645.503 1477.32 639.183 1477.32 Q637.007 1477.32 634.739 1476.95 Q632.493 1476.58 630.086 1475.84 L630.086 1471.14 Q632.169 1472.28 634.392 1472.83 Q636.614 1473.39 639.091 1473.39 Q643.095 1473.39 645.433 1471.28 Q647.771 1469.18 647.771 1465.56 Q647.771 1461.95 645.433 1459.85 Q643.095 1457.74 639.091 1457.74 Q637.216 1457.74 635.341 1458.16 Q633.489 1458.57 631.544 1459.45 L631.544 1442.09 Z\" fill=\"#000000\" fill-rule=\"evenodd\" fill-opacity=\"1\" /><path clip-path=\"url(#clip800)\" d=\"M 0 0 M667.516 1445.17 Q663.905 1445.17 662.077 1448.74 Q660.271 1452.28 660.271 1459.41 Q660.271 1466.51 662.077 1470.08 Q663.905 1473.62 667.516 1473.62 Q671.151 1473.62 672.956 1470.08 Q674.785 1466.51 674.785 1459.41 Q674.785 1452.28 672.956 1448.74 Q671.151 1445.17 667.516 1445.17 M667.516 1441.47 Q673.327 1441.47 676.382 1446.07 Q679.461 1450.66 679.461 1459.41 Q679.461 1468.13 676.382 1472.74 Q673.327 1477.32 667.516 1477.32 Q661.706 1477.32 658.628 1472.74 Q655.572 1468.13 655.572 1459.41 Q655.572 1450.66 658.628 1446.07 Q661.706 1441.47 667.516 1441.47 Z\" fill=\"#000000\" fill-rule=\"evenodd\" fill-opacity=\"1\" /><path clip-path=\"url(#clip800)\" d=\"M 0 0 M694.53 1445.17 Q690.919 1445.17 689.09 1448.74 Q687.285 1452.28 687.285 1459.41 Q687.285 1466.51 689.09 1470.08 Q690.919 1473.62 694.53 1473.62 Q698.164 1473.62 699.97 1470.08 Q701.799 1466.51 701.799 1459.41 Q701.799 1452.28 699.97 1448.74 Q698.164 1445.17 694.53 1445.17 M694.53 1441.47 Q700.34 1441.47 703.396 1446.07 Q706.475 1450.66 706.475 1459.41 Q706.475 1468.13 703.396 1472.74 Q700.34 1477.32 694.53 1477.32 Q688.72 1477.32 685.641 1472.74 Q682.586 1468.13 682.586 1459.41 Q682.586 1450.66 685.641 1446.07 Q688.72 1441.47 694.53 1441.47 Z\" fill=\"#000000\" fill-rule=\"evenodd\" fill-opacity=\"1\" /><path clip-path=\"url(#clip800)\" d=\"M 0 0 M1082.01 1472.72 L1089.65 1472.72 L1089.65 1446.35 L1081.34 1448.02 L1081.34 1443.76 L1089.6 1442.09 L1094.28 1442.09 L1094.28 1472.72 L1101.91 1472.72 L1101.91 1476.65 L1082.01 1476.65 L1082.01 1472.72 Z\" fill=\"#000000\" fill-rule=\"evenodd\" fill-opacity=\"1\" /><path clip-path=\"url(#clip800)\" d=\"M 0 0 M1116.98 1445.17 Q1113.37 1445.17 1111.54 1448.74 Q1109.74 1452.28 1109.74 1459.41 Q1109.74 1466.51 1111.54 1470.08 Q1113.37 1473.62 1116.98 1473.62 Q1120.62 1473.62 1122.42 1470.08 Q1124.25 1466.51 1124.25 1459.41 Q1124.25 1452.28 1122.42 1448.74 Q1120.62 1445.17 1116.98 1445.17 M1116.98 1441.47 Q1122.79 1441.47 1125.85 1446.07 Q1128.93 1450.66 1128.93 1459.41 Q1128.93 1468.13 1125.85 1472.74 Q1122.79 1477.32 1116.98 1477.32 Q1111.17 1477.32 1108.09 1472.74 Q1105.04 1468.13 1105.04 1459.41 Q1105.04 1450.66 1108.09 1446.07 Q1111.17 1441.47 1116.98 1441.47 Z\" fill=\"#000000\" fill-rule=\"evenodd\" fill-opacity=\"1\" /><path clip-path=\"url(#clip800)\" d=\"M 0 0 M1144 1445.17 Q1140.39 1445.17 1138.56 1448.74 Q1136.75 1452.28 1136.75 1459.41 Q1136.75 1466.51 1138.56 1470.08 Q1140.39 1473.62 1144 1473.62 Q1147.63 1473.62 1149.44 1470.08 Q1151.27 1466.51 1151.27 1459.41 Q1151.27 1452.28 1149.44 1448.74 Q1147.63 1445.17 1144 1445.17 M1144 1441.47 Q1149.81 1441.47 1152.86 1446.07 Q1155.94 1450.66 1155.94 1459.41 Q1155.94 1468.13 1152.86 1472.74 Q1149.81 1477.32 1144 1477.32 Q1138.19 1477.32 1135.11 1472.74 Q1132.05 1468.13 1132.05 1459.41 Q1132.05 1450.66 1135.11 1446.07 Q1138.19 1441.47 1144 1441.47 Z\" fill=\"#000000\" fill-rule=\"evenodd\" fill-opacity=\"1\" /><path clip-path=\"url(#clip800)\" d=\"M 0 0 M1171.01 1445.17 Q1167.4 1445.17 1165.57 1448.74 Q1163.77 1452.28 1163.77 1459.41 Q1163.77 1466.51 1165.57 1470.08 Q1167.4 1473.62 1171.01 1473.62 Q1174.65 1473.62 1176.45 1470.08 Q1178.28 1466.51 1178.28 1459.41 Q1178.28 1452.28 1176.45 1448.74 Q1174.65 1445.17 1171.01 1445.17 M1171.01 1441.47 Q1176.82 1441.47 1179.88 1446.07 Q1182.96 1450.66 1182.96 1459.41 Q1182.96 1468.13 1179.88 1472.74 Q1176.82 1477.32 1171.01 1477.32 Q1165.2 1477.32 1162.12 1472.74 Q1159.07 1468.13 1159.07 1459.41 Q1159.07 1450.66 1162.12 1446.07 Q1165.2 1441.47 1171.01 1441.47 Z\" fill=\"#000000\" fill-rule=\"evenodd\" fill-opacity=\"1\" /><path clip-path=\"url(#clip800)\" d=\"M 0 0 M1546.37 1472.72 L1554.01 1472.72 L1554.01 1446.35 L1545.7 1448.02 L1545.7 1443.76 L1553.96 1442.09 L1558.64 1442.09 L1558.64 1472.72 L1566.28 1472.72 L1566.28 1476.65 L1546.37 1476.65 L1546.37 1472.72 Z\" fill=\"#000000\" fill-rule=\"evenodd\" fill-opacity=\"1\" /><path clip-path=\"url(#clip800)\" d=\"M 0 0 M1571.39 1442.09 L1589.75 1442.09 L1589.75 1446.03 L1575.67 1446.03 L1575.67 1454.5 Q1576.69 1454.15 1577.71 1453.99 Q1578.73 1453.8 1579.75 1453.8 Q1585.54 1453.8 1588.92 1456.98 Q1592.3 1460.15 1592.3 1465.56 Q1592.3 1471.14 1588.82 1474.24 Q1585.35 1477.32 1579.03 1477.32 Q1576.86 1477.32 1574.59 1476.95 Q1572.34 1476.58 1569.93 1475.84 L1569.93 1471.14 Q1572.02 1472.28 1574.24 1472.83 Q1576.46 1473.39 1578.94 1473.39 Q1582.94 1473.39 1585.28 1471.28 Q1587.62 1469.18 1587.62 1465.56 Q1587.62 1461.95 1585.28 1459.85 Q1582.94 1457.74 1578.94 1457.74 Q1577.06 1457.74 1575.19 1458.16 Q1573.34 1458.57 1571.39 1459.45 L1571.39 1442.09 Z\" fill=\"#000000\" fill-rule=\"evenodd\" fill-opacity=\"1\" /><path clip-path=\"url(#clip800)\" d=\"M 0 0 M1607.36 1445.17 Q1603.75 1445.17 1601.92 1448.74 Q1600.12 1452.28 1600.12 1459.41 Q1600.12 1466.51 1601.92 1470.08 Q1603.75 1473.62 1607.36 1473.62 Q1611 1473.62 1612.8 1470.08 Q1614.63 1466.51 1614.63 1459.41 Q1614.63 1452.28 1612.8 1448.74 Q1611 1445.17 1607.36 1445.17 M1607.36 1441.47 Q1613.17 1441.47 1616.23 1446.07 Q1619.31 1450.66 1619.31 1459.41 Q1619.31 1468.13 1616.23 1472.74 Q1613.17 1477.32 1607.36 1477.32 Q1601.55 1477.32 1598.48 1472.74 Q1595.42 1468.13 1595.42 1459.41 Q1595.42 1450.66 1598.48 1446.07 Q1601.55 1441.47 1607.36 1441.47 Z\" fill=\"#000000\" fill-rule=\"evenodd\" fill-opacity=\"1\" /><path clip-path=\"url(#clip800)\" d=\"M 0 0 M1634.38 1445.17 Q1630.77 1445.17 1628.94 1448.74 Q1627.13 1452.28 1627.13 1459.41 Q1627.13 1466.51 1628.94 1470.08 Q1630.77 1473.62 1634.38 1473.62 Q1638.01 1473.62 1639.82 1470.08 Q1641.65 1466.51 1641.65 1459.41 Q1641.65 1452.28 1639.82 1448.74 Q1638.01 1445.17 1634.38 1445.17 M1634.38 1441.47 Q1640.19 1441.47 1643.24 1446.07 Q1646.32 1450.66 1646.32 1459.41 Q1646.32 1468.13 1643.24 1472.74 Q1640.19 1477.32 1634.38 1477.32 Q1628.57 1477.32 1625.49 1472.74 Q1622.43 1468.13 1622.43 1459.41 Q1622.43 1450.66 1625.49 1446.07 Q1628.57 1441.47 1634.38 1441.47 Z\" fill=\"#000000\" fill-rule=\"evenodd\" fill-opacity=\"1\" /><path clip-path=\"url(#clip800)\" d=\"M 0 0 M2014.01 1472.72 L2030.33 1472.72 L2030.33 1476.65 L2008.38 1476.65 L2008.38 1472.72 Q2011.04 1469.96 2015.63 1465.33 Q2020.23 1460.68 2021.41 1459.34 Q2023.66 1456.81 2024.54 1455.08 Q2025.44 1453.32 2025.44 1451.63 Q2025.44 1448.87 2023.5 1447.14 Q2021.58 1445.4 2018.48 1445.4 Q2016.28 1445.4 2013.82 1446.17 Q2011.39 1446.93 2008.61 1448.48 L2008.61 1443.76 Q2011.44 1442.62 2013.89 1442.05 Q2016.35 1441.47 2018.38 1441.47 Q2023.75 1441.47 2026.95 1444.15 Q2030.14 1446.84 2030.14 1451.33 Q2030.14 1453.46 2029.33 1455.38 Q2028.54 1457.28 2026.44 1459.87 Q2025.86 1460.54 2022.76 1463.76 Q2019.66 1466.95 2014.01 1472.72 Z\" fill=\"#000000\" fill-rule=\"evenodd\" fill-opacity=\"1\" /><path clip-path=\"url(#clip800)\" d=\"M 0 0 M2045.4 1445.17 Q2041.79 1445.17 2039.96 1448.74 Q2038.15 1452.28 2038.15 1459.41 Q2038.15 1466.51 2039.96 1470.08 Q2041.79 1473.62 2045.4 1473.62 Q2049.03 1473.62 2050.84 1470.08 Q2052.66 1466.51 2052.66 1459.41 Q2052.66 1452.28 2050.84 1448.74 Q2049.03 1445.17 2045.4 1445.17 M2045.4 1441.47 Q2051.21 1441.47 2054.26 1446.07 Q2057.34 1450.66 2057.34 1459.41 Q2057.34 1468.13 2054.26 1472.74 Q2051.21 1477.32 2045.4 1477.32 Q2039.59 1477.32 2036.51 1472.74 Q2033.45 1468.13 2033.45 1459.41 Q2033.45 1450.66 2036.51 1446.07 Q2039.59 1441.47 2045.4 1441.47 Z\" fill=\"#000000\" fill-rule=\"evenodd\" fill-opacity=\"1\" /><path clip-path=\"url(#clip800)\" d=\"M 0 0 M2072.41 1445.17 Q2068.8 1445.17 2066.97 1448.74 Q2065.16 1452.28 2065.16 1459.41 Q2065.16 1466.51 2066.97 1470.08 Q2068.8 1473.62 2072.41 1473.62 Q2076.04 1473.62 2077.85 1470.08 Q2079.68 1466.51 2079.68 1459.41 Q2079.68 1452.28 2077.85 1448.74 Q2076.04 1445.17 2072.41 1445.17 M2072.41 1441.47 Q2078.22 1441.47 2081.28 1446.07 Q2084.35 1450.66 2084.35 1459.41 Q2084.35 1468.13 2081.28 1472.74 Q2078.22 1477.32 2072.41 1477.32 Q2066.6 1477.32 2063.52 1472.74 Q2060.47 1468.13 2060.47 1459.41 Q2060.47 1450.66 2063.52 1446.07 Q2066.6 1441.47 2072.41 1441.47 Z\" fill=\"#000000\" fill-rule=\"evenodd\" fill-opacity=\"1\" /><path clip-path=\"url(#clip800)\" d=\"M 0 0 M2099.42 1445.17 Q2095.81 1445.17 2093.98 1448.74 Q2092.18 1452.28 2092.18 1459.41 Q2092.18 1466.51 2093.98 1470.08 Q2095.81 1473.62 2099.42 1473.62 Q2103.06 1473.62 2104.86 1470.08 Q2106.69 1466.51 2106.69 1459.41 Q2106.69 1452.28 2104.86 1448.74 Q2103.06 1445.17 2099.42 1445.17 M2099.42 1441.47 Q2105.23 1441.47 2108.29 1446.07 Q2111.37 1450.66 2111.37 1459.41 Q2111.37 1468.13 2108.29 1472.74 Q2105.23 1477.32 2099.42 1477.32 Q2093.61 1477.32 2090.53 1472.74 Q2087.48 1468.13 2087.48 1459.41 Q2087.48 1450.66 2090.53 1446.07 Q2093.61 1441.47 2099.42 1441.47 Z\" fill=\"#000000\" fill-rule=\"evenodd\" fill-opacity=\"1\" /><path clip-path=\"url(#clip800)\" d=\"M 0 0 M126.931 1404.03 L134.57 1404.03 L134.57 1377.67 L126.26 1379.33 L126.26 1375.07 L134.524 1373.41 L139.2 1373.41 L139.2 1404.03 L146.839 1404.03 L146.839 1407.97 L126.931 1407.97 L126.931 1404.03 Z\" fill=\"#000000\" fill-rule=\"evenodd\" fill-opacity=\"1\" /><path clip-path=\"url(#clip800)\" d=\"M 0 0 M161.908 1376.48 Q158.297 1376.48 156.468 1380.05 Q154.663 1383.59 154.663 1390.72 Q154.663 1397.83 156.468 1401.39 Q158.297 1404.93 161.908 1404.93 Q165.542 1404.93 167.348 1401.39 Q169.177 1397.83 169.177 1390.72 Q169.177 1383.59 167.348 1380.05 Q165.542 1376.48 161.908 1376.48 M161.908 1372.78 Q167.718 1372.78 170.774 1377.39 Q173.852 1381.97 173.852 1390.72 Q173.852 1399.45 170.774 1404.05 Q167.718 1408.64 161.908 1408.64 Q156.098 1408.64 153.019 1404.05 Q149.964 1399.45 149.964 1390.72 Q149.964 1381.97 153.019 1377.39 Q156.098 1372.78 161.908 1372.78 Z\" fill=\"#000000\" fill-rule=\"evenodd\" fill-opacity=\"1\" /><path clip-path=\"url(#clip800)\" d=\"M 0 0 M173.852 1366.88 L197.964 1366.88 L197.964 1370.08 L173.852 1370.08 L173.852 1366.88 Z\" fill=\"#000000\" fill-rule=\"evenodd\" fill-opacity=\"1\" /><path clip-path=\"url(#clip800)\" d=\"M 0 0 M212.521 1355.79 L202.929 1370.78 L212.521 1370.78 L212.521 1355.79 M211.524 1352.48 L216.302 1352.48 L216.302 1370.78 L220.308 1370.78 L220.308 1373.94 L216.302 1373.94 L216.302 1380.56 L212.521 1380.56 L212.521 1373.94 L199.845 1373.94 L199.845 1370.27 L211.524 1352.48 Z\" fill=\"#000000\" fill-rule=\"evenodd\" fill-opacity=\"1\" /><path clip-path=\"url(#clip800)\" d=\"M 0 0 M127.853 1144.42 L135.492 1144.42 L135.492 1118.05 L127.182 1119.72 L127.182 1115.46 L135.446 1113.8 L140.121 1113.8 L140.121 1144.42 L147.76 1144.42 L147.76 1148.36 L127.853 1148.36 L127.853 1144.42 Z\" fill=\"#000000\" fill-rule=\"evenodd\" fill-opacity=\"1\" /><path clip-path=\"url(#clip800)\" d=\"M 0 0 M162.83 1116.87 Q159.219 1116.87 157.39 1120.44 Q155.584 1123.98 155.584 1131.11 Q155.584 1138.22 157.39 1141.78 Q159.219 1145.32 162.83 1145.32 Q166.464 1145.32 168.269 1141.78 Q170.098 1138.22 170.098 1131.11 Q170.098 1123.98 168.269 1120.44 Q166.464 1116.87 162.83 1116.87 M162.83 1113.17 Q168.64 1113.17 171.695 1117.78 Q174.774 1122.36 174.774 1131.11 Q174.774 1139.84 171.695 1144.44 Q168.64 1149.03 162.83 1149.03 Q157.02 1149.03 153.941 1144.44 Q150.885 1139.84 150.885 1131.11 Q150.885 1122.36 153.941 1117.78 Q157.02 1113.17 162.83 1113.17 Z\" fill=\"#000000\" fill-rule=\"evenodd\" fill-opacity=\"1\" /><path clip-path=\"url(#clip800)\" d=\"M 0 0 M174.774 1107.27 L198.886 1107.27 L198.886 1110.47 L174.774 1110.47 L174.774 1107.27 Z\" fill=\"#000000\" fill-rule=\"evenodd\" fill-opacity=\"1\" /><path clip-path=\"url(#clip800)\" d=\"M 0 0 M214.515 1105.8 Q217.242 1106.39 218.765 1108.23 Q220.308 1110.07 220.308 1112.78 Q220.308 1116.94 217.449 1119.21 Q214.59 1121.49 209.324 1121.49 Q207.556 1121.49 205.675 1121.13 Q203.813 1120.79 201.82 1120.1 L201.82 1116.43 Q203.4 1117.35 205.28 1117.82 Q207.161 1118.29 209.211 1118.29 Q212.785 1118.29 214.647 1116.88 Q216.527 1115.47 216.527 1112.78 Q216.527 1110.3 214.778 1108.91 Q213.048 1107.5 209.945 1107.5 L206.672 1107.5 L206.672 1104.38 L210.095 1104.38 Q212.897 1104.38 214.383 1103.27 Q215.869 1102.14 215.869 1100.03 Q215.869 1097.87 214.327 1096.72 Q212.803 1095.55 209.945 1095.55 Q208.384 1095.55 206.597 1095.89 Q204.81 1096.23 202.666 1096.95 L202.666 1093.56 Q204.829 1092.96 206.71 1092.66 Q208.609 1092.36 210.283 1092.36 Q214.609 1092.36 217.129 1094.33 Q219.649 1096.29 219.649 1099.64 Q219.649 1101.97 218.314 1103.59 Q216.979 1105.18 214.515 1105.8 Z\" fill=\"#000000\" fill-rule=\"evenodd\" fill-opacity=\"1\" /><path clip-path=\"url(#clip800)\" d=\"M 0 0 M128.624 884.81 L136.263 884.81 L136.263 858.444 L127.953 860.111 L127.953 855.851 L136.217 854.185 L140.893 854.185 L140.893 884.81 L148.531 884.81 L148.531 888.745 L128.624 888.745 L128.624 884.81 Z\" fill=\"#000000\" fill-rule=\"evenodd\" fill-opacity=\"1\" /><path clip-path=\"url(#clip800)\" d=\"M 0 0 M163.601 857.264 Q159.99 857.264 158.161 860.828 Q156.355 864.37 156.355 871.5 Q156.355 878.606 158.161 882.171 Q159.99 885.712 163.601 885.712 Q167.235 885.712 169.041 882.171 Q170.869 878.606 170.869 871.5 Q170.869 864.37 169.041 860.828 Q167.235 857.264 163.601 857.264 M163.601 853.56 Q169.411 853.56 172.467 858.166 Q175.545 862.75 175.545 871.5 Q175.545 880.226 172.467 884.833 Q169.411 889.416 163.601 889.416 Q157.791 889.416 154.712 884.833 Q151.656 880.226 151.656 871.5 Q151.656 862.75 154.712 858.166 Q157.791 853.56 163.601 853.56 Z\" fill=\"#000000\" fill-rule=\"evenodd\" fill-opacity=\"1\" /><path clip-path=\"url(#clip800)\" d=\"M 0 0 M175.545 847.661 L199.657 847.661 L199.657 850.859 L175.545 850.859 L175.545 847.661 Z\" fill=\"#000000\" fill-rule=\"evenodd\" fill-opacity=\"1\" /><path clip-path=\"url(#clip800)\" d=\"M 0 0 M207.048 858.137 L220.308 858.137 L220.308 861.334 L202.478 861.334 L202.478 858.137 Q204.641 855.899 208.365 852.137 Q212.107 848.357 213.067 847.266 Q214.891 845.216 215.606 843.806 Q216.339 842.376 216.339 841.003 Q216.339 838.765 214.759 837.355 Q213.198 835.944 210.678 835.944 Q208.891 835.944 206.898 836.565 Q204.923 837.185 202.666 838.445 L202.666 834.609 Q204.961 833.687 206.954 833.217 Q208.948 832.747 210.603 832.747 Q214.966 832.747 217.562 834.928 Q220.157 837.11 220.157 840.759 Q220.157 842.489 219.499 844.05 Q218.859 845.592 217.148 847.699 Q216.678 848.244 214.158 850.859 Q211.637 853.454 207.048 858.137 Z\" fill=\"#000000\" fill-rule=\"evenodd\" fill-opacity=\"1\" /><path clip-path=\"url(#clip800)\" d=\"M 0 0 M128.323 625.199 L135.962 625.199 L135.962 598.834 L127.652 600.5 L127.652 596.241 L135.916 594.574 L140.592 594.574 L140.592 625.199 L148.231 625.199 L148.231 629.134 L128.323 629.134 L128.323 625.199 Z\" fill=\"#000000\" fill-rule=\"evenodd\" fill-opacity=\"1\" /><path clip-path=\"url(#clip800)\" d=\"M 0 0 M163.3 597.653 Q159.689 597.653 157.86 601.218 Q156.055 604.759 156.055 611.889 Q156.055 618.995 157.86 622.56 Q159.689 626.102 163.3 626.102 Q166.934 626.102 168.74 622.56 Q170.568 618.995 170.568 611.889 Q170.568 604.759 168.74 601.218 Q166.934 597.653 163.3 597.653 M163.3 593.949 Q169.11 593.949 172.166 598.556 Q175.244 603.139 175.244 611.889 Q175.244 620.616 172.166 625.222 Q169.11 629.806 163.3 629.806 Q157.49 629.806 154.411 625.222 Q151.356 620.616 151.356 611.889 Q151.356 603.139 154.411 598.556 Q157.49 593.949 163.3 593.949 Z\" fill=\"#000000\" fill-rule=\"evenodd\" fill-opacity=\"1\" /><path clip-path=\"url(#clip800)\" d=\"M 0 0 M175.244 588.051 L199.356 588.051 L199.356 591.248 L175.244 591.248 L175.244 588.051 Z\" fill=\"#000000\" fill-rule=\"evenodd\" fill-opacity=\"1\" /><path clip-path=\"url(#clip800)\" d=\"M 0 0 M204.133 598.527 L210.34 598.527 L210.34 577.105 L203.588 578.459 L203.588 574.998 L210.302 573.644 L214.101 573.644 L214.101 598.527 L220.308 598.527 L220.308 601.724 L204.133 601.724 L204.133 598.527 Z\" fill=\"#000000\" fill-rule=\"evenodd\" fill-opacity=\"1\" /><path clip-path=\"url(#clip800)\" d=\"M 0 0 M153.977 365.589 L161.616 365.589 L161.616 339.223 L153.306 340.89 L153.306 336.63 L161.57 334.964 L166.245 334.964 L166.245 365.589 L173.884 365.589 L173.884 369.524 L153.977 369.524 L153.977 365.589 Z\" fill=\"#000000\" fill-rule=\"evenodd\" fill-opacity=\"1\" /><path clip-path=\"url(#clip800)\" d=\"M 0 0 M188.954 338.042 Q185.343 338.042 183.514 341.607 Q181.708 345.149 181.708 352.279 Q181.708 359.385 183.514 362.95 Q185.343 366.491 188.954 366.491 Q192.588 366.491 194.393 362.95 Q196.222 359.385 196.222 352.279 Q196.222 345.149 194.393 341.607 Q192.588 338.042 188.954 338.042 M188.954 334.339 Q194.764 334.339 197.819 338.945 Q200.898 343.529 200.898 352.279 Q200.898 361.005 197.819 365.612 Q194.764 370.195 188.954 370.195 Q183.144 370.195 180.065 365.612 Q177.009 361.005 177.009 352.279 Q177.009 343.529 180.065 338.945 Q183.144 334.339 188.954 334.339 Z\" fill=\"#000000\" fill-rule=\"evenodd\" fill-opacity=\"1\" /><path clip-path=\"url(#clip800)\" d=\"M 0 0 M210.603 316.535 Q207.669 316.535 206.183 319.431 Q204.716 322.309 204.716 328.102 Q204.716 333.876 206.183 336.772 Q207.669 339.65 210.603 339.65 Q213.556 339.65 215.023 336.772 Q216.509 333.876 216.509 328.102 Q216.509 322.309 215.023 319.431 Q213.556 316.535 210.603 316.535 M210.603 313.526 Q215.324 313.526 217.806 317.268 Q220.308 320.992 220.308 328.102 Q220.308 335.192 217.806 338.935 Q215.324 342.659 210.603 342.659 Q205.882 342.659 203.381 338.935 Q200.898 335.192 200.898 328.102 Q200.898 320.992 203.381 317.268 Q205.882 313.526 210.603 313.526 Z\" fill=\"#000000\" fill-rule=\"evenodd\" fill-opacity=\"1\" /><path clip-path=\"url(#clip800)\" d=\"M 0 0 M156.667 105.978 L164.305 105.978 L164.305 79.6125 L155.995 81.2792 L155.995 77.0199 L164.259 75.3533 L168.935 75.3533 L168.935 105.978 L176.574 105.978 L176.574 109.913 L156.667 109.913 L156.667 105.978 Z\" fill=\"#000000\" fill-rule=\"evenodd\" fill-opacity=\"1\" /><path clip-path=\"url(#clip800)\" d=\"M 0 0 M191.643 78.432 Q188.032 78.432 186.203 81.9968 Q184.398 85.5384 184.398 92.668 Q184.398 99.7744 186.203 103.339 Q188.032 106.881 191.643 106.881 Q195.277 106.881 197.083 103.339 Q198.912 99.7744 198.912 92.668 Q198.912 85.5384 197.083 81.9968 Q195.277 78.432 191.643 78.432 M191.643 74.7283 Q197.453 74.7283 200.509 79.3347 Q203.588 83.918 203.588 92.668 Q203.588 101.395 200.509 106.001 Q197.453 110.585 191.643 110.585 Q185.833 110.585 182.754 106.001 Q179.699 101.395 179.699 92.668 Q179.699 83.918 182.754 79.3347 Q185.833 74.7283 191.643 74.7283 Z\" fill=\"#000000\" fill-rule=\"evenodd\" fill-opacity=\"1\" /><path clip-path=\"url(#clip800)\" d=\"M 0 0 M204.133 79.3056 L210.34 79.3056 L210.34 57.8835 L203.588 59.2377 L203.588 55.777 L210.302 54.4229 L214.101 54.4229 L214.101 79.3056 L220.308 79.3056 L220.308 82.5029 L204.133 82.5029 L204.133 79.3056 Z\" fill=\"#000000\" fill-rule=\"evenodd\" fill-opacity=\"1\" /><path clip-path=\"url(#clip800)\" d=\"M 0 0 M1108.81 1536.76 L1108.81 1539.62 L1081.88 1539.62 Q1082.27 1545.67 1085.51 1548.85 Q1088.79 1552 1094.62 1552 Q1097.99 1552 1101.14 1551.17 Q1104.32 1550.35 1107.44 1548.69 L1107.44 1554.23 Q1104.29 1555.57 1100.98 1556.27 Q1097.67 1556.97 1094.27 1556.97 Q1085.74 1556.97 1080.74 1552 Q1075.77 1547.04 1075.77 1538.57 Q1075.77 1529.82 1080.48 1524.69 Q1085.23 1519.54 1093.25 1519.54 Q1100.44 1519.54 1104.61 1524.18 Q1108.81 1528.8 1108.81 1536.76 M1102.95 1535.04 Q1102.89 1530.23 1100.25 1527.37 Q1097.64 1524.5 1093.31 1524.5 Q1088.41 1524.5 1085.45 1527.27 Q1082.52 1530.04 1082.08 1535.07 L1102.95 1535.04 Z\" fill=\"#000000\" fill-rule=\"evenodd\" fill-opacity=\"1\" /><path clip-path=\"url(#clip800)\" d=\"M 0 0 M1120.62 1550.7 L1120.62 1569.6 L1114.73 1569.6 L1114.73 1520.4 L1120.62 1520.4 L1120.62 1525.81 Q1122.47 1522.62 1125.27 1521.1 Q1128.1 1519.54 1132.01 1519.54 Q1138.51 1519.54 1142.55 1524.69 Q1146.62 1529.85 1146.62 1538.25 Q1146.62 1546.65 1142.55 1551.81 Q1138.51 1556.97 1132.01 1556.97 Q1128.1 1556.97 1125.27 1555.44 Q1122.47 1553.88 1120.62 1550.7 M1140.54 1538.25 Q1140.54 1531.79 1137.87 1528.13 Q1135.23 1524.44 1130.58 1524.44 Q1125.94 1524.44 1123.26 1528.13 Q1120.62 1531.79 1120.62 1538.25 Q1120.62 1544.71 1123.26 1548.4 Q1125.94 1552.07 1130.58 1552.07 Q1135.23 1552.07 1137.87 1548.4 Q1140.54 1544.71 1140.54 1538.25 Z\" fill=\"#000000\" fill-rule=\"evenodd\" fill-opacity=\"1\" /><path clip-path=\"url(#clip800)\" d=\"M 0 0 M1166.58 1524.5 Q1161.87 1524.5 1159.13 1528.19 Q1156.4 1531.85 1156.4 1538.25 Q1156.4 1544.65 1159.1 1548.34 Q1161.84 1552 1166.58 1552 Q1171.26 1552 1174 1548.31 Q1176.73 1544.62 1176.73 1538.25 Q1176.73 1531.92 1174 1528.23 Q1171.26 1524.5 1166.58 1524.5 M1166.58 1519.54 Q1174.22 1519.54 1178.58 1524.5 Q1182.94 1529.47 1182.94 1538.25 Q1182.94 1547 1178.58 1552 Q1174.22 1556.97 1166.58 1556.97 Q1158.91 1556.97 1154.55 1552 Q1150.22 1547 1150.22 1538.25 Q1150.22 1529.47 1154.55 1524.5 Q1158.91 1519.54 1166.58 1519.54 Z\" fill=\"#000000\" fill-rule=\"evenodd\" fill-opacity=\"1\" /><path clip-path=\"url(#clip800)\" d=\"M 0 0 M1214.74 1521.76 L1214.74 1527.24 Q1212.25 1525.87 1209.74 1525.2 Q1207.26 1524.5 1204.71 1524.5 Q1199.01 1524.5 1195.86 1528.13 Q1192.71 1531.73 1192.71 1538.25 Q1192.71 1544.78 1195.86 1548.4 Q1199.01 1552 1204.71 1552 Q1207.26 1552 1209.74 1551.33 Q1212.25 1550.63 1214.74 1549.26 L1214.74 1554.68 Q1212.29 1555.82 1209.64 1556.39 Q1207.03 1556.97 1204.07 1556.97 Q1196.02 1556.97 1191.28 1551.91 Q1186.54 1546.85 1186.54 1538.25 Q1186.54 1529.53 1191.31 1524.53 Q1196.12 1519.54 1204.46 1519.54 Q1207.16 1519.54 1209.74 1520.11 Q1212.32 1520.65 1214.74 1521.76 Z\" fill=\"#000000\" fill-rule=\"evenodd\" fill-opacity=\"1\" /><path clip-path=\"url(#clip800)\" d=\"M 0 0 M1250.51 1534.53 L1250.51 1556.04 L1244.66 1556.04 L1244.66 1534.72 Q1244.66 1529.66 1242.68 1527.14 Q1240.71 1524.63 1236.76 1524.63 Q1232.02 1524.63 1229.28 1527.65 Q1226.55 1530.68 1226.55 1535.9 L1226.55 1556.04 L1220.66 1556.04 L1220.66 1506.52 L1226.55 1506.52 L1226.55 1525.93 Q1228.65 1522.72 1231.48 1521.13 Q1234.34 1519.54 1238.07 1519.54 Q1244.21 1519.54 1247.36 1523.36 Q1250.51 1527.14 1250.51 1534.53 Z\" fill=\"#000000\" fill-rule=\"evenodd\" fill-opacity=\"1\" /><path clip-path=\"url(#clip800)\" d=\"M 0 0 M1279.38 1521.45 L1279.38 1526.98 Q1276.9 1525.71 1274.22 1525.07 Q1271.55 1524.44 1268.69 1524.44 Q1264.33 1524.44 1262.13 1525.77 Q1259.97 1527.11 1259.97 1529.79 Q1259.97 1531.82 1261.52 1533 Q1263.08 1534.15 1267.79 1535.2 L1269.8 1535.64 Q1276.04 1536.98 1278.65 1539.43 Q1281.29 1541.85 1281.29 1546.21 Q1281.29 1551.17 1277.34 1554.07 Q1273.43 1556.97 1266.55 1556.97 Q1263.69 1556.97 1260.57 1556.39 Q1257.48 1555.85 1254.04 1554.74 L1254.04 1548.69 Q1257.29 1550.38 1260.44 1551.24 Q1263.59 1552.07 1266.68 1552.07 Q1270.82 1552.07 1273.05 1550.66 Q1275.27 1549.23 1275.27 1546.65 Q1275.27 1544.27 1273.65 1542.99 Q1272.06 1541.72 1266.62 1540.54 L1264.58 1540.07 Q1259.14 1538.92 1256.72 1536.56 Q1254.3 1534.18 1254.3 1530.04 Q1254.3 1525.01 1257.86 1522.27 Q1261.43 1519.54 1267.99 1519.54 Q1271.23 1519.54 1274.1 1520.01 Q1276.96 1520.49 1279.38 1521.45 Z\" fill=\"#000000\" fill-rule=\"evenodd\" fill-opacity=\"1\" /><path clip-path=\"url(#clip800)\" d=\"M 0 0 M38.479 837.779 L38.479 831.923 L88.0042 831.923 L88.0042 837.779 L38.479 837.779 Z\" fill=\"#000000\" fill-rule=\"evenodd\" fill-opacity=\"1\" /><path clip-path=\"url(#clip800)\" d=\"M 0 0 M70.0847 809.579 Q70.0847 816.677 71.7079 819.414 Q73.3312 822.152 77.2461 822.152 Q80.3653 822.152 82.2114 820.115 Q84.0256 818.046 84.0256 814.513 Q84.0256 809.643 80.5881 806.715 Q77.1188 803.755 71.3897 803.755 L70.0847 803.755 L70.0847 809.579 M67.6657 797.898 L88.0042 797.898 L88.0042 803.755 L82.5933 803.755 Q85.8398 805.76 87.3994 808.752 Q88.9272 811.744 88.9272 816.072 Q88.9272 821.547 85.8716 824.793 Q82.7843 828.008 77.6281 828.008 Q71.6125 828.008 68.5569 823.998 Q65.5014 819.955 65.5014 811.966 L65.5014 803.755 L64.9285 803.755 Q60.8862 803.755 58.6901 806.428 Q56.4621 809.07 56.4621 813.876 Q56.4621 816.932 57.1941 819.828 Q57.9262 822.725 59.3903 825.398 L53.9795 825.398 Q52.7381 822.183 52.1334 819.16 Q51.4968 816.136 51.4968 813.271 Q51.4968 805.537 55.5072 801.718 Q59.5176 797.898 67.6657 797.898 Z\" fill=\"#000000\" fill-rule=\"evenodd\" fill-opacity=\"1\" /><path clip-path=\"url(#clip800)\" d=\"M 0 0 M59.1993 764.001 Q55.2526 761.805 53.3747 758.749 Q51.4968 755.694 51.4968 751.556 Q51.4968 745.986 55.4117 742.962 Q59.2948 739.939 66.4881 739.939 L88.0042 739.939 L88.0042 745.827 L66.679 745.827 Q61.5546 745.827 59.072 747.641 Q56.5894 749.455 56.5894 753.179 Q56.5894 757.731 59.6131 760.372 Q62.6368 763.014 67.8567 763.014 L88.0042 763.014 L88.0042 768.902 L66.679 768.902 Q61.5228 768.902 59.072 770.717 Q56.5894 772.531 56.5894 776.319 Q56.5894 780.806 59.6449 783.448 Q62.6686 786.09 67.8567 786.09 L88.0042 786.09 L88.0042 791.978 L52.3562 791.978 L52.3562 786.09 L57.8944 786.09 Q54.616 784.085 53.0564 781.284 Q51.4968 778.483 51.4968 774.632 Q51.4968 770.749 53.4702 768.043 Q55.4436 765.306 59.1993 764.001 Z\" fill=\"#000000\" fill-rule=\"evenodd\" fill-opacity=\"1\" /><path clip-path=\"url(#clip800)\" d=\"M 0 0 M70.212 708.205 Q63.7508 708.205 60.0905 710.879 Q56.3984 713.521 56.3984 718.168 Q56.3984 722.815 60.0905 725.488 Q63.7508 728.13 70.212 728.13 Q76.6732 728.13 80.3653 725.488 Q84.0256 722.815 84.0256 718.168 Q84.0256 713.521 80.3653 710.879 Q76.6732 708.205 70.212 708.205 M57.7671 728.13 Q54.5842 726.284 53.0564 723.483 Q51.4968 720.65 51.4968 716.736 Q51.4968 710.242 56.6531 706.2 Q61.8093 702.126 70.212 702.126 Q78.6147 702.126 83.771 706.2 Q88.9272 710.242 88.9272 716.736 Q88.9272 720.65 87.3994 723.483 Q85.8398 726.284 82.657 728.13 L88.0042 728.13 L88.0042 734.018 L38.479 734.018 L38.479 728.13 L57.7671 728.13 Z\" fill=\"#000000\" fill-rule=\"evenodd\" fill-opacity=\"1\" /><path clip-path=\"url(#clip800)\" d=\"M 0 0 M57.7671 672.526 L38.479 672.526 L38.479 666.669 L88.0042 666.669 L88.0042 672.526 L82.657 672.526 Q85.8398 674.372 87.3994 677.204 Q88.9272 680.005 88.9272 683.952 Q88.9272 690.413 83.771 694.487 Q78.6147 698.53 70.212 698.53 Q61.8093 698.53 56.6531 694.487 Q51.4968 690.413 51.4968 683.952 Q51.4968 680.005 53.0564 677.204 Q54.5842 674.372 57.7671 672.526 M70.212 692.482 Q76.6732 692.482 80.3653 689.84 Q84.0256 687.167 84.0256 682.52 Q84.0256 677.873 80.3653 675.199 Q76.6732 672.526 70.212 672.526 Q63.7508 672.526 60.0905 675.199 Q56.3984 677.873 56.3984 682.52 Q56.3984 687.167 60.0905 689.84 Q63.7508 692.482 70.212 692.482 Z\" fill=\"#000000\" fill-rule=\"evenodd\" fill-opacity=\"1\" /><path clip-path=\"url(#clip800)\" d=\"M 0 0 M70.0847 644.326 Q70.0847 651.423 71.7079 654.161 Q73.3312 656.898 77.2461 656.898 Q80.3653 656.898 82.2114 654.861 Q84.0256 652.792 84.0256 649.259 Q84.0256 644.389 80.5881 641.461 Q77.1188 638.501 71.3897 638.501 L70.0847 638.501 L70.0847 644.326 M67.6657 632.645 L88.0042 632.645 L88.0042 638.501 L82.5933 638.501 Q85.8398 640.506 87.3994 643.498 Q88.9272 646.49 88.9272 650.819 Q88.9272 656.293 85.8716 659.54 Q82.7843 662.754 77.6281 662.754 Q71.6125 662.754 68.5569 658.744 Q65.5014 654.702 65.5014 646.713 L65.5014 638.501 L64.9285 638.501 Q60.8862 638.501 58.6901 641.175 Q56.4621 643.816 56.4621 648.622 Q56.4621 651.678 57.1941 654.574 Q57.9262 657.471 59.3903 660.144 L53.9795 660.144 Q52.7381 656.93 52.1334 653.906 Q51.4968 650.882 51.4968 648.018 Q51.4968 640.283 55.5072 636.464 Q59.5176 632.645 67.6657 632.645 Z\" fill=\"#000000\" fill-rule=\"evenodd\" fill-opacity=\"1\" /><circle clip-path=\"url(#clip802)\" cx=\"591.279\" cy=\"735.212\" r=\"13\" fill=\"#2f0a5b\" fill-rule=\"evenodd\" fill-opacity=\"1\" stroke=\"#000000\" stroke-opacity=\"1\" stroke-width=\"3.2\"/>\n",
       "<circle clip-path=\"url(#clip802)\" cx=\"2059.88\" cy=\"951.554\" r=\"3\" fill=\"#000003\" fill-rule=\"evenodd\" fill-opacity=\"1\" stroke=\"#000000\" stroke-opacity=\"1\" stroke-width=\"3.2\"/>\n",
       "<circle clip-path=\"url(#clip802)\" cx=\"1178.53\" cy=\"1167.9\" r=\"6\" fill=\"#08051e\" fill-rule=\"evenodd\" fill-opacity=\"1\" stroke=\"#000000\" stroke-opacity=\"1\" stroke-width=\"3.2\"/>\n",
       "<circle clip-path=\"url(#clip802)\" cx=\"1178.53\" cy=\"951.554\" r=\"6\" fill=\"#07051d\" fill-rule=\"evenodd\" fill-opacity=\"1\" stroke=\"#000000\" stroke-opacity=\"1\" stroke-width=\"3.2\"/>\n",
       "<circle clip-path=\"url(#clip802)\" cx=\"1472.62\" cy=\"1384.24\" r=\"5\" fill=\"#030313\" fill-rule=\"evenodd\" fill-opacity=\"1\" stroke=\"#000000\" stroke-opacity=\"1\" stroke-width=\"3.2\"/>\n",
       "<circle clip-path=\"url(#clip802)\" cx=\"297.188\" cy=\"735.212\" r=\"57\" fill=\"#f2e763\" fill-rule=\"evenodd\" fill-opacity=\"1\" stroke=\"#000000\" stroke-opacity=\"1\" stroke-width=\"3.2\"/>\n",
       "<circle clip-path=\"url(#clip802)\" cx=\"1178.53\" cy=\"86.1857\" r=\"6\" fill=\"#08051e\" fill-rule=\"evenodd\" fill-opacity=\"1\" stroke=\"#000000\" stroke-opacity=\"1\" stroke-width=\"3.2\"/>\n",
       "<circle clip-path=\"url(#clip802)\" cx=\"297.188\" cy=\"518.87\" r=\"58\" fill=\"#f1ed70\" fill-rule=\"evenodd\" fill-opacity=\"1\" stroke=\"#000000\" stroke-opacity=\"1\" stroke-width=\"3.2\"/>\n",
       "<circle clip-path=\"url(#clip802)\" cx=\"297.188\" cy=\"302.528\" r=\"61\" fill=\"#fcfea4\" fill-rule=\"evenodd\" fill-opacity=\"1\" stroke=\"#000000\" stroke-opacity=\"1\" stroke-width=\"3.2\"/>\n",
       "<circle clip-path=\"url(#clip802)\" cx=\"591.279\" cy=\"302.528\" r=\"12\" fill=\"#2c0a57\" fill-rule=\"evenodd\" fill-opacity=\"1\" stroke=\"#000000\" stroke-opacity=\"1\" stroke-width=\"3.2\"/>\n",
       "<circle clip-path=\"url(#clip802)\" cx=\"1178.53\" cy=\"518.87\" r=\"6\" fill=\"#08061f\" fill-rule=\"evenodd\" fill-opacity=\"1\" stroke=\"#000000\" stroke-opacity=\"1\" stroke-width=\"3.2\"/>\n",
       "<circle clip-path=\"url(#clip802)\" cx=\"1765.78\" cy=\"735.212\" r=\"4\" fill=\"#01010b\" fill-rule=\"evenodd\" fill-opacity=\"1\" stroke=\"#000000\" stroke-opacity=\"1\" stroke-width=\"3.2\"/>\n",
       "<circle clip-path=\"url(#clip802)\" cx=\"297.188\" cy=\"951.554\" r=\"51\" fill=\"#fbaf14\" fill-rule=\"evenodd\" fill-opacity=\"1\" stroke=\"#000000\" stroke-opacity=\"1\" stroke-width=\"3.2\"/>\n",
       "<circle clip-path=\"url(#clip802)\" cx=\"1765.78\" cy=\"951.554\" r=\"5\" fill=\"#02010e\" fill-rule=\"evenodd\" fill-opacity=\"1\" stroke=\"#000000\" stroke-opacity=\"1\" stroke-width=\"3.2\"/>\n",
       "<circle clip-path=\"url(#clip802)\" cx=\"2059.88\" cy=\"1384.24\" r=\"4\" fill=\"#010108\" fill-rule=\"evenodd\" fill-opacity=\"1\" stroke=\"#000000\" stroke-opacity=\"1\" stroke-width=\"3.2\"/>\n",
       "<circle clip-path=\"url(#clip802)\" cx=\"1765.78\" cy=\"518.87\" r=\"4\" fill=\"#02010d\" fill-rule=\"evenodd\" fill-opacity=\"1\" stroke=\"#000000\" stroke-opacity=\"1\" stroke-width=\"3.2\"/>\n",
       "<circle clip-path=\"url(#clip802)\" cx=\"1765.78\" cy=\"1167.9\" r=\"5\" fill=\"#02020f\" fill-rule=\"evenodd\" fill-opacity=\"1\" stroke=\"#000000\" stroke-opacity=\"1\" stroke-width=\"3.2\"/>\n",
       "<circle clip-path=\"url(#clip802)\" cx=\"2059.88\" cy=\"518.87\" r=\"3\" fill=\"#000004\" fill-rule=\"evenodd\" fill-opacity=\"1\" stroke=\"#000000\" stroke-opacity=\"1\" stroke-width=\"3.2\"/>\n",
       "<circle clip-path=\"url(#clip802)\" cx=\"297.188\" cy=\"1384.24\" r=\"54\" fill=\"#f8ca32\" fill-rule=\"evenodd\" fill-opacity=\"1\" stroke=\"#000000\" stroke-opacity=\"1\" stroke-width=\"3.2\"/>\n",
       "<circle clip-path=\"url(#clip802)\" cx=\"884.441\" cy=\"518.87\" r=\"8\" fill=\"#0f092d\" fill-rule=\"evenodd\" fill-opacity=\"1\" stroke=\"#000000\" stroke-opacity=\"1\" stroke-width=\"3.2\"/>\n",
       "<circle clip-path=\"url(#clip802)\" cx=\"1178.53\" cy=\"302.528\" r=\"6\" fill=\"#08051e\" fill-rule=\"evenodd\" fill-opacity=\"1\" stroke=\"#000000\" stroke-opacity=\"1\" stroke-width=\"3.2\"/>\n",
       "<circle clip-path=\"url(#clip802)\" cx=\"2059.88\" cy=\"86.1857\" r=\"4\" fill=\"#010008\" fill-rule=\"evenodd\" fill-opacity=\"1\" stroke=\"#000000\" stroke-opacity=\"1\" stroke-width=\"3.2\"/>\n",
       "<circle clip-path=\"url(#clip802)\" cx=\"884.441\" cy=\"302.528\" r=\"8\" fill=\"#0f092c\" fill-rule=\"evenodd\" fill-opacity=\"1\" stroke=\"#000000\" stroke-opacity=\"1\" stroke-width=\"3.2\"/>\n",
       "<circle clip-path=\"url(#clip802)\" cx=\"1472.62\" cy=\"1167.9\" r=\"5\" fill=\"#040315\" fill-rule=\"evenodd\" fill-opacity=\"1\" stroke=\"#000000\" stroke-opacity=\"1\" stroke-width=\"3.2\"/>\n",
       "<circle clip-path=\"url(#clip802)\" cx=\"1472.62\" cy=\"951.554\" r=\"5\" fill=\"#040315\" fill-rule=\"evenodd\" fill-opacity=\"1\" stroke=\"#000000\" stroke-opacity=\"1\" stroke-width=\"3.2\"/>\n",
       "<circle clip-path=\"url(#clip802)\" cx=\"1765.78\" cy=\"86.1857\" r=\"4\" fill=\"#02010c\" fill-rule=\"evenodd\" fill-opacity=\"1\" stroke=\"#000000\" stroke-opacity=\"1\" stroke-width=\"3.2\"/>\n",
       "<circle clip-path=\"url(#clip802)\" cx=\"884.441\" cy=\"735.212\" r=\"8\" fill=\"#10092e\" fill-rule=\"evenodd\" fill-opacity=\"1\" stroke=\"#000000\" stroke-opacity=\"1\" stroke-width=\"3.2\"/>\n",
       "<circle clip-path=\"url(#clip802)\" cx=\"884.441\" cy=\"1167.9\" r=\"8\" fill=\"#0f092d\" fill-rule=\"evenodd\" fill-opacity=\"1\" stroke=\"#000000\" stroke-opacity=\"1\" stroke-width=\"3.2\"/>\n",
       "<circle clip-path=\"url(#clip802)\" cx=\"297.188\" cy=\"86.1857\" r=\"50\" fill=\"#fba80d\" fill-rule=\"evenodd\" fill-opacity=\"1\" stroke=\"#000000\" stroke-opacity=\"1\" stroke-width=\"3.2\"/>\n",
       "<circle clip-path=\"url(#clip802)\" cx=\"1178.53\" cy=\"735.212\" r=\"6\" fill=\"#08051e\" fill-rule=\"evenodd\" fill-opacity=\"1\" stroke=\"#000000\" stroke-opacity=\"1\" stroke-width=\"3.2\"/>\n",
       "<circle clip-path=\"url(#clip802)\" cx=\"884.441\" cy=\"1384.24\" r=\"8\" fill=\"#0f092d\" fill-rule=\"evenodd\" fill-opacity=\"1\" stroke=\"#000000\" stroke-opacity=\"1\" stroke-width=\"3.2\"/>\n",
       "<circle clip-path=\"url(#clip802)\" cx=\"884.441\" cy=\"951.554\" r=\"8\" fill=\"#110930\" fill-rule=\"evenodd\" fill-opacity=\"1\" stroke=\"#000000\" stroke-opacity=\"1\" stroke-width=\"3.2\"/>\n",
       "<circle clip-path=\"url(#clip802)\" cx=\"884.441\" cy=\"86.1857\" r=\"8\" fill=\"#0f092d\" fill-rule=\"evenodd\" fill-opacity=\"1\" stroke=\"#000000\" stroke-opacity=\"1\" stroke-width=\"3.2\"/>\n",
       "<circle clip-path=\"url(#clip802)\" cx=\"591.279\" cy=\"1167.9\" r=\"13\" fill=\"#2f0a5b\" fill-rule=\"evenodd\" fill-opacity=\"1\" stroke=\"#000000\" stroke-opacity=\"1\" stroke-width=\"3.2\"/>\n",
       "<circle clip-path=\"url(#clip802)\" cx=\"2059.88\" cy=\"1167.9\" r=\"4\" fill=\"#000006\" fill-rule=\"evenodd\" fill-opacity=\"1\" stroke=\"#000000\" stroke-opacity=\"1\" stroke-width=\"3.2\"/>\n",
       "<circle clip-path=\"url(#clip802)\" cx=\"1765.78\" cy=\"1384.24\" r=\"5\" fill=\"#02020e\" fill-rule=\"evenodd\" fill-opacity=\"1\" stroke=\"#000000\" stroke-opacity=\"1\" stroke-width=\"3.2\"/>\n",
       "<circle clip-path=\"url(#clip802)\" cx=\"591.279\" cy=\"518.87\" r=\"12\" fill=\"#2e0a59\" fill-rule=\"evenodd\" fill-opacity=\"1\" stroke=\"#000000\" stroke-opacity=\"1\" stroke-width=\"3.2\"/>\n",
       "<circle clip-path=\"url(#clip802)\" cx=\"2059.88\" cy=\"735.212\" r=\"4\" fill=\"#02010d\" fill-rule=\"evenodd\" fill-opacity=\"1\" stroke=\"#000000\" stroke-opacity=\"1\" stroke-width=\"3.2\"/>\n",
       "<circle clip-path=\"url(#clip802)\" cx=\"591.279\" cy=\"1384.24\" r=\"13\" fill=\"#300a5b\" fill-rule=\"evenodd\" fill-opacity=\"1\" stroke=\"#000000\" stroke-opacity=\"1\" stroke-width=\"3.2\"/>\n",
       "<circle clip-path=\"url(#clip802)\" cx=\"1472.62\" cy=\"518.87\" r=\"5\" fill=\"#040315\" fill-rule=\"evenodd\" fill-opacity=\"1\" stroke=\"#000000\" stroke-opacity=\"1\" stroke-width=\"3.2\"/>\n",
       "<circle clip-path=\"url(#clip802)\" cx=\"1765.78\" cy=\"302.528\" r=\"5\" fill=\"#030210\" fill-rule=\"evenodd\" fill-opacity=\"1\" stroke=\"#000000\" stroke-opacity=\"1\" stroke-width=\"3.2\"/>\n",
       "<circle clip-path=\"url(#clip802)\" cx=\"1472.62\" cy=\"302.528\" r=\"5\" fill=\"#040313\" fill-rule=\"evenodd\" fill-opacity=\"1\" stroke=\"#000000\" stroke-opacity=\"1\" stroke-width=\"3.2\"/>\n",
       "<circle clip-path=\"url(#clip802)\" cx=\"1472.62\" cy=\"735.212\" r=\"5\" fill=\"#040315\" fill-rule=\"evenodd\" fill-opacity=\"1\" stroke=\"#000000\" stroke-opacity=\"1\" stroke-width=\"3.2\"/>\n",
       "<circle clip-path=\"url(#clip802)\" cx=\"2059.88\" cy=\"302.528\" r=\"4\" fill=\"#000006\" fill-rule=\"evenodd\" fill-opacity=\"1\" stroke=\"#000000\" stroke-opacity=\"1\" stroke-width=\"3.2\"/>\n",
       "<circle clip-path=\"url(#clip802)\" cx=\"591.279\" cy=\"86.1857\" r=\"13\" fill=\"#31095c\" fill-rule=\"evenodd\" fill-opacity=\"1\" stroke=\"#000000\" stroke-opacity=\"1\" stroke-width=\"3.2\"/>\n",
       "<circle clip-path=\"url(#clip802)\" cx=\"1472.62\" cy=\"86.1857\" r=\"5\" fill=\"#040314\" fill-rule=\"evenodd\" fill-opacity=\"1\" stroke=\"#000000\" stroke-opacity=\"1\" stroke-width=\"3.2\"/>\n",
       "<circle clip-path=\"url(#clip802)\" cx=\"297.188\" cy=\"1167.9\" r=\"52\" fill=\"#fbb71c\" fill-rule=\"evenodd\" fill-opacity=\"1\" stroke=\"#000000\" stroke-opacity=\"1\" stroke-width=\"3.2\"/>\n",
       "<circle clip-path=\"url(#clip802)\" cx=\"591.279\" cy=\"951.554\" r=\"13\" fill=\"#2f0a5b\" fill-rule=\"evenodd\" fill-opacity=\"1\" stroke=\"#000000\" stroke-opacity=\"1\" stroke-width=\"3.2\"/>\n",
       "<circle clip-path=\"url(#clip802)\" cx=\"1178.53\" cy=\"1384.24\" r=\"6\" fill=\"#08051f\" fill-rule=\"evenodd\" fill-opacity=\"1\" stroke=\"#000000\" stroke-opacity=\"1\" stroke-width=\"3.2\"/>\n",
       "<defs>\n",
       "  <clipPath id=\"clip803\">\n",
       "    <rect x=\"2160\" y=\"47\" width=\"73\" height=\"1377\"/>\n",
       "  </clipPath>\n",
       "</defs>\n",
       "<g clip-path=\"url(#clip803)\">\n",
       "<image width=\"72\" height=\"1376\" xlink:href=\"data:image/png;base64,\n",
       "iVBORw0KGgoAAAANSUhEUgAAAEgAAAVgCAYAAADsKhu7AAAL6UlEQVR4nO3dwZEjNxBFQVBR/lsh\n",
       "L6UFZIHqHclDpgUTL35wCXTP7Off+/c7/K+/vv0D/DqBgkBBoCBQmPv+/fbP8NMsKAgUBAoChXnv\n",
       "z7d/hp9mQUGgIFAQKAgUHDWCBQWBgkBBoDDPh/TKgoJAQaAgUJh3fUhvLCgIFAQKAgWBgqNGsKAg\n",
       "UBAoCBR8SAcLCgIFgYJAwX1QsKAgUBAoCBQECnMcNVYWFAQKAgWBgvugYEFBoCBQECgIFOa4MFtZ\n",
       "UBAoCBQECnPuP9/+GX6aBQWBgkBBoODSPlhQECgIFAQKAgX3QcGCgkBBoCBQ8CEdLCgIFAQKAgX3\n",
       "QcGCgkBBoCBQECjMx1FjZUFBoCBQECjMuf5XhI0FBYGCQEGgIFBw1AgWFAQKAgWBgqNGsKAgUBAo\n",
       "CBS8HxQsKAgUBAoCBYHCfBw1VhYUBAoCBYGCt1yDBQWBgkBBoOCbdLCgIFAQKAgUBAoePQcLCgIF\n",
       "gYJAwVEjWFAQKAgUBAoCBUeNYEFBoCBQECg4agQLCgIFgYJAYc693/4ZfpoFBYGCQEGgIFBw1AgW\n",
       "FAQKAgWBgkv7YEFBoCBQECj4kA4WFAQKAgWBgkBhPp5qrCwoCBQECgIFR41gQUGgIFAQKAgUvEAV\n",
       "LCgIFAQKAgX3QcGCgkBBoCBQcB8ULCgIFAQKAgWBgvugYEFBoCBQECj4kA4WFAQKAgWBgl/qDRYU\n",
       "BAoCBYGCQMFRI1hQECgIFAQKPqSDBQWBgkBBoCBQ8K9YsKAgUBAoCBR8SAcLCgIFgYJAYc7zIb2x\n",
       "oCBQECgIFAQKjhrBgoJAQaAgUPAhHSwoCBQECgIFH9LBgoJAQaAgUBAozLnv2z/DT7OgIFAQKAgU\n",
       "HDWCBQWBgkBBoCBQcNQIFhQECgIFgYKjRrCgIFAQKAgUfJMOFhQECgIFgYJAYY6TxsqCgkBBoCBQ\n",
       "mPMcNTYWFAQKAgWBgm/SwYKCQEGgIFAQKPhXLFhQECgIFAQK44/g7SwoCBQECgIFgYKjRrCgIFAQ\n",
       "KAgUfEgHCwoCBYGCQGHO/Xz7Z/hpFhQECgIFgYJAYd7zr9jGgoJAQaAgUHAfFCwoCBQECgIF90HB\n",
       "goJAQaAgUBAozLsabdQJAgWBgkDBUSNYUBAoCBQECgKFOR49rywoCBQECgKFeY4aKwsKAgWBgkBh\n",
       "jkv7lTpBoCBQECgIFBw1ggUFgYJAQaDg0j5YUBAoCBQECl7iDOoEgYJAQaAgUPCWa7CgIFAQKAgU\n",
       "XNoHCwoCBYGCQEGgMO9ptFEnCBQECgIF90HBgoJAQaAgUHAfFCwoCBQECgIFgcIc90ErdYJAQaAg\n",
       "UHDUCBYUBAoCBYGCD+lgQUGgIFAQKAgU/NZzsKAgUBAoCBT81nNQJwgUBAoCBYHCPEeNlQUFgYJA\n",
       "QaDgqUawoCBQECgIFPyvCEGdIFAQKAgUBArug4IFBYGCQEGg4D4oWFAQKAgUBAq+SQcLCgIFgYJA\n",
       "QaDgLdegThAoCBQECo4awYKCQEGgIFAQKHiqESwoCBQECgIFR41gQUGgIFAQKPiva4IFBYGCQEGg\n",
       "IFDwv2QGdYJAQaAgUHAfFCwoCBQECgIFT1aDBQWBgkBBoCBQcNQIFhQECgIFgcJcH9IrCwoCBYGC\n",
       "QEGg4LeegzpBoCBQECi4DwoWFAQKAgWBgg/pYEFBoCBQECgIFLxAFSwoCBQECgIFR41gQUGgIFAQ\n",
       "KPiQDhYUBAoCBYGCQMGfpgjqBIGCQEGgMNel/cqCgkBBoCBQECi4MAsWFAQKAgWBgg/pYEFBoCBQ\n",
       "ECj4kA4WFAQKAgWBgkDBH1gKFhQECgIFgYKjRrCgIFAQKAgUfEgHCwoCBYGCQEGg4FcRgjpBoCBQ\n",
       "ECj4VYRgQUGgIFAQKAgUXJgFCwoCBYGCQMGHdLCgIFAQKAgUvMQZLCgIFAQKAgWBgqNGsKAgUBAo\n",
       "CBTmHR/SGwsKAgWBgkDBfVCwoCBQECgIFAQK7oOCBQWBgkBBoOCoESwoCBQECgIFgYKjRrCgIFAQ\n",
       "KAgUHDWCBQWBgkBBoOCbdLCgIFAQKAgUBAr+FQsWFAQKAgWBwly/irCyoCBQECgIFHyTDhYUBAoC\n",
       "BYGCQMGj52BBQaAgUBAozHvf/hF+mwUFgYJAQaAgUHDUCBYUBAoCBYGCv4IXLCgIFAQKAgXfpIMF\n",
       "BYGCQEGgIFDwAlWwoCBQECgIFPwqQrCgIFAQKAgUvB8ULCgIFAQKAgWBgqcawYKCQEGgIFBwaR8s\n",
       "KAgUBAoCBYGCpxrBgoJAQaAgUHAfFCwoCBQECgIFj56DBQWBgkBBoCBQcB8ULCgIFAQKAgWPnoMF\n",
       "BYGCQEGgMPfbP8GPs6AgUBAoCBQECo4awYKCQEGgIFDwflCwoCBQECgIFAQKLsyCBQWBgkBBoOA+\n",
       "KFhQECgIFAQKvkkHCwoCBYGCQEGg4KgRLCgIFAQKAgWPnoMFBYGCQEGgMP4yxc6CgkBBoCBQECg4\n",
       "agQLCgIFgYJAwaPnYEFBoCBQECgIFDx6DhYUBAoCBYGCo0awoCBQECgIFHyTDhYUBAoCBYGCQGGu\n",
       "N6hWFhQECgIFgYL7oGBBQaAgUBAouA8KFhQECgIFgYJAwVEjWFAQKAgUBArzXNqvLCgIFAQKAgWB\n",
       "wtzjwmxjQUGgIFAQKHg/KFhQECgIFAQK/gpesKAgUBAoCBQECv4KXrCgIFAQKAgUPHoOFhQECgIF\n",
       "gYKXOIMFBYGCQEGgIFDwC3XBgoJAQaAgUHDUCBYUBAoCBYGCQMFbrsGCgkBBoCBQ8JZrsKAgUBAo\n",
       "CBR8kw4WFAQKAgWBgkDBW67BgoJAQaAgUPD3g4IFBYGCQEGg4D4oWFAQKAgUBAoCBY+egwUFgYJA\n",
       "QaDgqBEsKAgUBAoCBYGCo0awoCBQECgIFBw1ggUFgYJAQaDgQzpYUBAoCBQECgIF90HBgoJAQaAg\n",
       "UHDUCBYUBAoCBYGCb9LBgoJAQaAgUBAoOGoECwoCBYGCQMHfDwoWFAQKAgWBgkDB/+0TLCgIFAQK\n",
       "AgX3QcGCgkBBoCBQmHd8Sm8sKAgUBAoCBYGCo0awoCBQECgIFDx6DhYUBAoCBYGCJ6vBgoJAQaAg\n",
       "UBAouA8KFhQECgIFgYJHz8GCgkBBoCBQECg4agQLCgIFgYJAwR9YChYUBAoCBYHCXC8IrSwoCBQE\n",
       "CgIFgYIXqIIFBYGCQEGgMM9RY2VBQaAgUBAo+CYdLCgIFAQKAgWBgqcawYKCQEGgIFDwflCwoCBQ\n",
       "ECgIFAQKc/1C3cqCgkBBoCBQcB8ULCgIFAQKAgV/miJYUBAoCBQECgIFL1AFCwoCBYGCQMGlfbCg\n",
       "IFAQKAgU3AcFCwoCBYGCQEGgMPe4EdpYUBAoCBQECu6DggUFgYJAQaAgUPCvWLCgIFAQKAgUPNUI\n",
       "FhQECgIFgYJL+2BBQaAgUBAoCBTmfhw1NhYUBAoCBYGCo0awoCBQECgIFOb5kF5ZUBAoCBQECgIF\n",
       "R41gQUGgIFAQKMz9+JDeWFAQKAgUBAoCBUeNYEFBoCBQECh4qhEsKAgUBAoCBd+kgwUFgYJAQaAg\n",
       "UPCvWLCgIFAQKAgUPHoOFhQECgIFgcK88+fbP8NPs6AgUBAoCBQECu6DggUFgYJAQaDg/aBgQUGg\n",
       "IFAQKAgU5j4XZhsLCgIFgYJAwVEjWFAQKAgUBApzPXpeWVAQKAgUBAoCBUeNYEFBoCBQECg4agQL\n",
       "CgIFgYJAYd7zTXpjQUGgIFAQKAgU3AcFCwoCBYGCQMFLnMGCgkBBoCBQECg4agQLCgIFgYJAYZ6j\n",
       "xsqCgkBBoCBQ8E06WFAQKAgUBAoChbleoFpZUBAoCBQECv7gdrCgIFAQKAgU/CpCsKAgUBAoCBQE\n",
       "Cp5qBAsKAgWBgkDBUSNYUBAoCBQECgIF/4oFCwoCBYGCQMGj52BBQaAgUBAo+CYdLCgIFAQKAgWB\n",
       "whyPnlcWFAQKAgWBgqNGsKAgUBAoCBS8xBksKAgUBAoCBYHCHEeNlQUFgYJAQaDg/aBgQUGgIFAQ\n",
       "KAgUPHoOFhQECgIFgYL7oGBBQaAgUBAozDvv2z/DT7OgIFAQKAgUBArug4IFBYGCQEGgMMdRY2VB\n",
       "QaAgUBAo/AdhU+3PqlcPeQAAAABJRU5ErkJggg==\n",
       "\" transform=\"translate(2161, 47)\"/>\n",
       "</g>\n",
       "<path clip-path=\"url(#clip800)\" d=\"M 0 0 M2280.7 1381.23 Q2277.09 1381.23 2275.26 1384.8 Q2273.45 1388.34 2273.45 1395.47 Q2273.45 1402.57 2275.26 1406.14 Q2277.09 1409.68 2280.7 1409.68 Q2284.33 1409.68 2286.14 1406.14 Q2287.97 1402.57 2287.97 1395.47 Q2287.97 1388.34 2286.14 1384.8 Q2284.33 1381.23 2280.7 1381.23 M2280.7 1377.53 Q2286.51 1377.53 2289.57 1382.13 Q2292.64 1386.72 2292.64 1395.47 Q2292.64 1404.19 2289.57 1408.8 Q2286.51 1413.38 2280.7 1413.38 Q2274.89 1413.38 2271.81 1408.8 Q2268.76 1404.19 2268.76 1395.47 Q2268.76 1386.72 2271.81 1382.13 Q2274.89 1377.53 2280.7 1377.53 Z\" fill=\"#000000\" fill-rule=\"evenodd\" fill-opacity=\"1\" /><path clip-path=\"url(#clip800)\" d=\"M 0 0 M2297.71 1406.83 L2302.6 1406.83 L2302.6 1412.71 L2297.71 1412.71 L2297.71 1406.83 Z\" fill=\"#000000\" fill-rule=\"evenodd\" fill-opacity=\"1\" /><path clip-path=\"url(#clip800)\" d=\"M 0 0 M2318.25 1393.57 Q2315.1 1393.57 2313.25 1395.72 Q2311.42 1397.87 2311.42 1401.62 Q2311.42 1405.35 2313.25 1407.53 Q2315.1 1409.68 2318.25 1409.68 Q2321.39 1409.68 2323.22 1407.53 Q2325.08 1405.35 2325.08 1401.62 Q2325.08 1397.87 2323.22 1395.72 Q2321.39 1393.57 2318.25 1393.57 M2327.53 1378.92 L2327.53 1383.18 Q2325.77 1382.34 2323.96 1381.9 Q2322.18 1381.46 2320.42 1381.46 Q2315.79 1381.46 2313.34 1384.59 Q2310.91 1387.71 2310.56 1394.03 Q2311.93 1392.02 2313.99 1390.95 Q2316.05 1389.87 2318.52 1389.87 Q2323.73 1389.87 2326.74 1393.04 Q2329.77 1396.18 2329.77 1401.62 Q2329.77 1406.95 2326.63 1410.17 Q2323.48 1413.38 2318.25 1413.38 Q2312.25 1413.38 2309.08 1408.8 Q2305.91 1404.19 2305.91 1395.47 Q2305.91 1387.27 2309.8 1382.41 Q2313.69 1377.53 2320.24 1377.53 Q2322 1377.53 2323.78 1377.87 Q2325.58 1378.22 2327.53 1378.92 Z\" fill=\"#000000\" fill-rule=\"evenodd\" fill-opacity=\"1\" /><path clip-path=\"url(#clip800)\" d=\"M 0 0 M2345.42 1393.57 Q2342.27 1393.57 2340.42 1395.72 Q2338.59 1397.87 2338.59 1401.62 Q2338.59 1405.35 2340.42 1407.53 Q2342.27 1409.68 2345.42 1409.68 Q2348.57 1409.68 2350.4 1407.53 Q2352.25 1405.35 2352.25 1401.62 Q2352.25 1397.87 2350.4 1395.72 Q2348.57 1393.57 2345.42 1393.57 M2354.7 1378.92 L2354.7 1383.18 Q2352.95 1382.34 2351.14 1381.9 Q2349.36 1381.46 2347.6 1381.46 Q2342.97 1381.46 2340.51 1384.59 Q2338.08 1387.71 2337.74 1394.03 Q2339.1 1392.02 2341.16 1390.95 Q2343.22 1389.87 2345.7 1389.87 Q2350.91 1389.87 2353.92 1393.04 Q2356.95 1396.18 2356.95 1401.62 Q2356.95 1406.95 2353.8 1410.17 Q2350.65 1413.38 2345.42 1413.38 Q2339.43 1413.38 2336.26 1408.8 Q2333.08 1404.19 2333.08 1395.47 Q2333.08 1387.27 2336.97 1382.41 Q2340.86 1377.53 2347.41 1377.53 Q2349.17 1377.53 2350.95 1377.87 Q2352.76 1378.22 2354.7 1378.92 Z\" fill=\"#000000\" fill-rule=\"evenodd\" fill-opacity=\"1\" /><path clip-path=\"url(#clip800)\" d=\"M 0 0 M2280.7 1236.23 Q2277.09 1236.23 2275.26 1239.8 Q2273.45 1243.34 2273.45 1250.47 Q2273.45 1257.57 2275.26 1261.14 Q2277.09 1264.68 2280.7 1264.68 Q2284.33 1264.68 2286.14 1261.14 Q2287.97 1257.57 2287.97 1250.47 Q2287.97 1243.34 2286.14 1239.8 Q2284.33 1236.23 2280.7 1236.23 M2280.7 1232.53 Q2286.51 1232.53 2289.57 1237.13 Q2292.64 1241.72 2292.64 1250.47 Q2292.64 1259.19 2289.57 1263.8 Q2286.51 1268.38 2280.7 1268.38 Q2274.89 1268.38 2271.81 1263.8 Q2268.76 1259.19 2268.76 1250.47 Q2268.76 1241.72 2271.81 1237.13 Q2274.89 1232.53 2280.7 1232.53 Z\" fill=\"#000000\" fill-rule=\"evenodd\" fill-opacity=\"1\" /><path clip-path=\"url(#clip800)\" d=\"M 0 0 M2297.71 1261.83 L2302.6 1261.83 L2302.6 1267.71 L2297.71 1267.71 L2297.71 1261.83 Z\" fill=\"#000000\" fill-rule=\"evenodd\" fill-opacity=\"1\" /><path clip-path=\"url(#clip800)\" d=\"M 0 0 M2318.25 1248.57 Q2315.1 1248.57 2313.25 1250.72 Q2311.42 1252.88 2311.42 1256.63 Q2311.42 1260.35 2313.25 1262.53 Q2315.1 1264.68 2318.25 1264.68 Q2321.39 1264.68 2323.22 1262.53 Q2325.08 1260.35 2325.08 1256.63 Q2325.08 1252.88 2323.22 1250.72 Q2321.39 1248.57 2318.25 1248.57 M2327.53 1233.92 L2327.53 1238.18 Q2325.77 1237.34 2323.96 1236.9 Q2322.18 1236.46 2320.42 1236.46 Q2315.79 1236.46 2313.34 1239.59 Q2310.91 1242.71 2310.56 1249.03 Q2311.93 1247.02 2313.99 1245.95 Q2316.05 1244.87 2318.52 1244.87 Q2323.73 1244.87 2326.74 1248.04 Q2329.77 1251.19 2329.77 1256.63 Q2329.77 1261.95 2326.63 1265.17 Q2323.48 1268.38 2318.25 1268.38 Q2312.25 1268.38 2309.08 1263.8 Q2305.91 1259.19 2305.91 1250.47 Q2305.91 1242.27 2309.8 1237.41 Q2313.69 1232.53 2320.24 1232.53 Q2322 1232.53 2323.78 1232.88 Q2325.58 1233.22 2327.53 1233.92 Z\" fill=\"#000000\" fill-rule=\"evenodd\" fill-opacity=\"1\" /><path clip-path=\"url(#clip800)\" d=\"M 0 0 M2333.66 1233.15 L2355.89 1233.15 L2355.89 1235.14 L2343.34 1267.71 L2338.45 1267.71 L2350.26 1237.09 L2333.66 1237.09 L2333.66 1233.15 Z\" fill=\"#000000\" fill-rule=\"evenodd\" fill-opacity=\"1\" /><path clip-path=\"url(#clip800)\" d=\"M 0 0 M2280.7 1091.23 Q2277.09 1091.23 2275.26 1094.8 Q2273.45 1098.34 2273.45 1105.47 Q2273.45 1112.57 2275.26 1116.14 Q2277.09 1119.68 2280.7 1119.68 Q2284.33 1119.68 2286.14 1116.14 Q2287.97 1112.57 2287.97 1105.47 Q2287.97 1098.34 2286.14 1094.8 Q2284.33 1091.23 2280.7 1091.23 M2280.7 1087.53 Q2286.51 1087.53 2289.57 1092.14 Q2292.64 1096.72 2292.64 1105.47 Q2292.64 1114.2 2289.57 1118.8 Q2286.51 1123.38 2280.7 1123.38 Q2274.89 1123.38 2271.81 1118.8 Q2268.76 1114.2 2268.76 1105.47 Q2268.76 1096.72 2271.81 1092.14 Q2274.89 1087.53 2280.7 1087.53 Z\" fill=\"#000000\" fill-rule=\"evenodd\" fill-opacity=\"1\" /><path clip-path=\"url(#clip800)\" d=\"M 0 0 M2297.71 1116.83 L2302.6 1116.83 L2302.6 1122.71 L2297.71 1122.71 L2297.71 1116.83 Z\" fill=\"#000000\" fill-rule=\"evenodd\" fill-opacity=\"1\" /><path clip-path=\"url(#clip800)\" d=\"M 0 0 M2318.25 1103.57 Q2315.1 1103.57 2313.25 1105.72 Q2311.42 1107.88 2311.42 1111.63 Q2311.42 1115.35 2313.25 1117.53 Q2315.1 1119.68 2318.25 1119.68 Q2321.39 1119.68 2323.22 1117.53 Q2325.08 1115.35 2325.08 1111.63 Q2325.08 1107.88 2323.22 1105.72 Q2321.39 1103.57 2318.25 1103.57 M2327.53 1088.92 L2327.53 1093.18 Q2325.77 1092.34 2323.96 1091.9 Q2322.18 1091.46 2320.42 1091.46 Q2315.79 1091.46 2313.34 1094.59 Q2310.91 1097.71 2310.56 1104.03 Q2311.93 1102.02 2313.99 1100.95 Q2316.05 1099.87 2318.52 1099.87 Q2323.73 1099.87 2326.74 1103.04 Q2329.77 1106.19 2329.77 1111.63 Q2329.77 1116.95 2326.63 1120.17 Q2323.48 1123.38 2318.25 1123.38 Q2312.25 1123.38 2309.08 1118.8 Q2305.91 1114.2 2305.91 1105.47 Q2305.91 1097.27 2309.8 1092.41 Q2313.69 1087.53 2320.24 1087.53 Q2322 1087.53 2323.78 1087.88 Q2325.58 1088.22 2327.53 1088.92 Z\" fill=\"#000000\" fill-rule=\"evenodd\" fill-opacity=\"1\" /><path clip-path=\"url(#clip800)\" d=\"M 0 0 M2344.84 1106.3 Q2341.51 1106.3 2339.59 1108.08 Q2337.69 1109.87 2337.69 1112.99 Q2337.69 1116.12 2339.59 1117.9 Q2341.51 1119.68 2344.84 1119.68 Q2348.18 1119.68 2350.1 1117.9 Q2352.02 1116.09 2352.02 1112.99 Q2352.02 1109.87 2350.1 1108.08 Q2348.2 1106.3 2344.84 1106.3 M2340.17 1104.31 Q2337.16 1103.57 2335.47 1101.51 Q2333.8 1099.45 2333.8 1096.49 Q2333.8 1092.34 2336.74 1089.94 Q2339.7 1087.53 2344.84 1087.53 Q2350.01 1087.53 2352.95 1089.94 Q2355.89 1092.34 2355.89 1096.49 Q2355.89 1099.45 2354.2 1101.51 Q2352.53 1103.57 2349.54 1104.31 Q2352.92 1105.1 2354.8 1107.39 Q2356.7 1109.68 2356.7 1112.99 Q2356.7 1118.01 2353.62 1120.7 Q2350.56 1123.38 2344.84 1123.38 Q2339.13 1123.38 2336.05 1120.7 Q2332.99 1118.01 2332.99 1112.99 Q2332.99 1109.68 2334.89 1107.39 Q2336.79 1105.1 2340.17 1104.31 M2338.45 1096.93 Q2338.45 1099.61 2340.12 1101.12 Q2341.81 1102.62 2344.84 1102.62 Q2347.85 1102.62 2349.54 1101.12 Q2351.26 1099.61 2351.26 1096.93 Q2351.26 1094.24 2349.54 1092.74 Q2347.85 1091.23 2344.84 1091.23 Q2341.81 1091.23 2340.12 1092.74 Q2338.45 1094.24 2338.45 1096.93 Z\" fill=\"#000000\" fill-rule=\"evenodd\" fill-opacity=\"1\" /><path clip-path=\"url(#clip800)\" d=\"M 0 0 M2280.7 946.233 Q2277.09 946.233 2275.26 949.798 Q2273.45 953.339 2273.45 960.469 Q2273.45 967.575 2275.26 971.14 Q2277.09 974.682 2280.7 974.682 Q2284.33 974.682 2286.14 971.14 Q2287.97 967.575 2287.97 960.469 Q2287.97 953.339 2286.14 949.798 Q2284.33 946.233 2280.7 946.233 M2280.7 942.529 Q2286.51 942.529 2289.57 947.136 Q2292.64 951.719 2292.64 960.469 Q2292.64 969.196 2289.57 973.802 Q2286.51 978.385 2280.7 978.385 Q2274.89 978.385 2271.81 973.802 Q2268.76 969.196 2268.76 960.469 Q2268.76 951.719 2271.81 947.136 Q2274.89 942.529 2280.7 942.529 Z\" fill=\"#000000\" fill-rule=\"evenodd\" fill-opacity=\"1\" /><path clip-path=\"url(#clip800)\" d=\"M 0 0 M2297.71 971.835 L2302.6 971.835 L2302.6 977.714 L2297.71 977.714 L2297.71 971.835 Z\" fill=\"#000000\" fill-rule=\"evenodd\" fill-opacity=\"1\" /><path clip-path=\"url(#clip800)\" d=\"M 0 0 M2318.25 958.571 Q2315.1 958.571 2313.25 960.724 Q2311.42 962.876 2311.42 966.626 Q2311.42 970.353 2313.25 972.529 Q2315.1 974.682 2318.25 974.682 Q2321.39 974.682 2323.22 972.529 Q2325.08 970.353 2325.08 966.626 Q2325.08 962.876 2323.22 960.724 Q2321.39 958.571 2318.25 958.571 M2327.53 943.918 L2327.53 948.177 Q2325.77 947.344 2323.96 946.904 Q2322.18 946.464 2320.42 946.464 Q2315.79 946.464 2313.34 949.589 Q2310.91 952.714 2310.56 959.034 Q2311.93 957.02 2313.99 955.955 Q2316.05 954.867 2318.52 954.867 Q2323.73 954.867 2326.74 958.038 Q2329.77 961.186 2329.77 966.626 Q2329.77 971.95 2326.63 975.168 Q2323.48 978.385 2318.25 978.385 Q2312.25 978.385 2309.08 973.802 Q2305.91 969.196 2305.91 960.469 Q2305.91 952.274 2309.8 947.413 Q2313.69 942.529 2320.24 942.529 Q2322 942.529 2323.78 942.876 Q2325.58 943.224 2327.53 943.918 Z\" fill=\"#000000\" fill-rule=\"evenodd\" fill-opacity=\"1\" /><path clip-path=\"url(#clip800)\" d=\"M 0 0 M2334.98 976.997 L2334.98 972.737 Q2336.74 973.571 2338.55 974.01 Q2340.35 974.45 2342.09 974.45 Q2346.72 974.45 2349.15 971.348 Q2351.6 968.223 2351.95 961.881 Q2350.61 963.872 2348.55 964.936 Q2346.49 966.001 2343.99 966.001 Q2338.8 966.001 2335.77 962.876 Q2332.76 959.728 2332.76 954.288 Q2332.76 948.964 2335.91 945.747 Q2339.06 942.529 2344.29 942.529 Q2350.28 942.529 2353.43 947.136 Q2356.6 951.719 2356.6 960.469 Q2356.6 968.64 2352.71 973.524 Q2348.85 978.385 2342.3 978.385 Q2340.54 978.385 2338.73 978.038 Q2336.93 977.691 2334.98 976.997 M2344.29 962.344 Q2347.44 962.344 2349.26 960.191 Q2351.12 958.038 2351.12 954.288 Q2351.12 950.562 2349.26 948.409 Q2347.44 946.233 2344.29 946.233 Q2341.14 946.233 2339.29 948.409 Q2337.46 950.562 2337.46 954.288 Q2337.46 958.038 2339.29 960.191 Q2341.14 962.344 2344.29 962.344 Z\" fill=\"#000000\" fill-rule=\"evenodd\" fill-opacity=\"1\" /><path clip-path=\"url(#clip800)\" d=\"M 0 0 M2280.7 801.233 Q2277.09 801.233 2275.26 804.798 Q2273.45 808.34 2273.45 815.469 Q2273.45 822.576 2275.26 826.141 Q2277.09 829.682 2280.7 829.682 Q2284.33 829.682 2286.14 826.141 Q2287.97 822.576 2287.97 815.469 Q2287.97 808.34 2286.14 804.798 Q2284.33 801.233 2280.7 801.233 M2280.7 797.53 Q2286.51 797.53 2289.57 802.136 Q2292.64 806.72 2292.64 815.469 Q2292.64 824.196 2289.57 828.803 Q2286.51 833.386 2280.7 833.386 Q2274.89 833.386 2271.81 828.803 Q2268.76 824.196 2268.76 815.469 Q2268.76 806.72 2271.81 802.136 Q2274.89 797.53 2280.7 797.53 Z\" fill=\"#000000\" fill-rule=\"evenodd\" fill-opacity=\"1\" /><path clip-path=\"url(#clip800)\" d=\"M 0 0 M2297.71 826.835 L2302.6 826.835 L2302.6 832.715 L2297.71 832.715 L2297.71 826.835 Z\" fill=\"#000000\" fill-rule=\"evenodd\" fill-opacity=\"1\" /><path clip-path=\"url(#clip800)\" d=\"M 0 0 M2306.49 798.155 L2328.71 798.155 L2328.71 800.145 L2316.16 832.715 L2311.28 832.715 L2323.08 802.09 L2306.49 802.09 L2306.49 798.155 Z\" fill=\"#000000\" fill-rule=\"evenodd\" fill-opacity=\"1\" /><path clip-path=\"url(#clip800)\" d=\"M 0 0 M2343.78 801.233 Q2340.17 801.233 2338.34 804.798 Q2336.53 808.34 2336.53 815.469 Q2336.53 822.576 2338.34 826.141 Q2340.17 829.682 2343.78 829.682 Q2347.41 829.682 2349.22 826.141 Q2351.05 822.576 2351.05 815.469 Q2351.05 808.34 2349.22 804.798 Q2347.41 801.233 2343.78 801.233 M2343.78 797.53 Q2349.59 797.53 2352.64 802.136 Q2355.72 806.72 2355.72 815.469 Q2355.72 824.196 2352.64 828.803 Q2349.59 833.386 2343.78 833.386 Q2337.97 833.386 2334.89 828.803 Q2331.83 824.196 2331.83 815.469 Q2331.83 806.72 2334.89 802.136 Q2337.97 797.53 2343.78 797.53 Z\" fill=\"#000000\" fill-rule=\"evenodd\" fill-opacity=\"1\" /><path clip-path=\"url(#clip800)\" d=\"M 0 0 M2280.7 656.234 Q2277.09 656.234 2275.26 659.799 Q2273.45 663.34 2273.45 670.47 Q2273.45 677.576 2275.26 681.141 Q2277.09 684.683 2280.7 684.683 Q2284.33 684.683 2286.14 681.141 Q2287.97 677.576 2287.97 670.47 Q2287.97 663.34 2286.14 659.799 Q2284.33 656.234 2280.7 656.234 M2280.7 652.53 Q2286.51 652.53 2289.57 657.137 Q2292.64 661.72 2292.64 670.47 Q2292.64 679.197 2289.57 683.803 Q2286.51 688.387 2280.7 688.387 Q2274.89 688.387 2271.81 683.803 Q2268.76 679.197 2268.76 670.47 Q2268.76 661.72 2271.81 657.137 Q2274.89 652.53 2280.7 652.53 Z\" fill=\"#000000\" fill-rule=\"evenodd\" fill-opacity=\"1\" /><path clip-path=\"url(#clip800)\" d=\"M 0 0 M2297.71 681.836 L2302.6 681.836 L2302.6 687.715 L2297.71 687.715 L2297.71 681.836 Z\" fill=\"#000000\" fill-rule=\"evenodd\" fill-opacity=\"1\" /><path clip-path=\"url(#clip800)\" d=\"M 0 0 M2306.49 653.155 L2328.71 653.155 L2328.71 655.146 L2316.16 687.715 L2311.28 687.715 L2323.08 657.09 L2306.49 657.09 L2306.49 653.155 Z\" fill=\"#000000\" fill-rule=\"evenodd\" fill-opacity=\"1\" /><path clip-path=\"url(#clip800)\" d=\"M 0 0 M2334.59 683.78 L2342.23 683.78 L2342.23 657.415 L2333.92 659.081 L2333.92 654.822 L2342.18 653.155 L2346.86 653.155 L2346.86 683.78 L2354.5 683.78 L2354.5 687.715 L2334.59 687.715 L2334.59 683.78 Z\" fill=\"#000000\" fill-rule=\"evenodd\" fill-opacity=\"1\" /><path clip-path=\"url(#clip800)\" d=\"M 0 0 M2280.7 511.235 Q2277.09 511.235 2275.26 514.799 Q2273.45 518.341 2273.45 525.471 Q2273.45 532.577 2275.26 536.142 Q2277.09 539.684 2280.7 539.684 Q2284.33 539.684 2286.14 536.142 Q2287.97 532.577 2287.97 525.471 Q2287.97 518.341 2286.14 514.799 Q2284.33 511.235 2280.7 511.235 M2280.7 507.531 Q2286.51 507.531 2289.57 512.137 Q2292.64 516.721 2292.64 525.471 Q2292.64 534.197 2289.57 538.804 Q2286.51 543.387 2280.7 543.387 Q2274.89 543.387 2271.81 538.804 Q2268.76 534.197 2268.76 525.471 Q2268.76 516.721 2271.81 512.137 Q2274.89 507.531 2280.7 507.531 Z\" fill=\"#000000\" fill-rule=\"evenodd\" fill-opacity=\"1\" /><path clip-path=\"url(#clip800)\" d=\"M 0 0 M2297.71 536.836 L2302.6 536.836 L2302.6 542.716 L2297.71 542.716 L2297.71 536.836 Z\" fill=\"#000000\" fill-rule=\"evenodd\" fill-opacity=\"1\" /><path clip-path=\"url(#clip800)\" d=\"M 0 0 M2306.49 508.156 L2328.71 508.156 L2328.71 510.147 L2316.16 542.716 L2311.28 542.716 L2323.08 512.091 L2306.49 512.091 L2306.49 508.156 Z\" fill=\"#000000\" fill-rule=\"evenodd\" fill-opacity=\"1\" /><path clip-path=\"url(#clip800)\" d=\"M 0 0 M2337.81 538.781 L2354.13 538.781 L2354.13 542.716 L2332.18 542.716 L2332.18 538.781 Q2334.84 536.026 2339.43 531.397 Q2344.03 526.744 2345.21 525.401 Q2347.46 522.878 2348.34 521.142 Q2349.24 519.383 2349.24 517.693 Q2349.24 514.938 2347.3 513.202 Q2345.38 511.466 2342.27 511.466 Q2340.07 511.466 2337.62 512.23 Q2335.19 512.994 2332.41 514.545 L2332.41 509.823 Q2335.24 508.688 2337.69 508.11 Q2340.14 507.531 2342.18 507.531 Q2347.55 507.531 2350.75 510.216 Q2353.94 512.901 2353.94 517.392 Q2353.94 519.522 2353.13 521.443 Q2352.34 523.341 2350.24 525.934 Q2349.66 526.605 2346.56 529.822 Q2343.45 533.017 2337.81 538.781 Z\" fill=\"#000000\" fill-rule=\"evenodd\" fill-opacity=\"1\" /><path clip-path=\"url(#clip800)\" d=\"M 0 0 M2280.7 366.235 Q2277.09 366.235 2275.26 369.8 Q2273.45 373.342 2273.45 380.471 Q2273.45 387.578 2275.26 391.142 Q2277.09 394.684 2280.7 394.684 Q2284.33 394.684 2286.14 391.142 Q2287.97 387.578 2287.97 380.471 Q2287.97 373.342 2286.14 369.8 Q2284.33 366.235 2280.7 366.235 M2280.7 362.531 Q2286.51 362.531 2289.57 367.138 Q2292.64 371.721 2292.64 380.471 Q2292.64 389.198 2289.57 393.804 Q2286.51 398.388 2280.7 398.388 Q2274.89 398.388 2271.81 393.804 Q2268.76 389.198 2268.76 380.471 Q2268.76 371.721 2271.81 367.138 Q2274.89 362.531 2280.7 362.531 Z\" fill=\"#000000\" fill-rule=\"evenodd\" fill-opacity=\"1\" /><path clip-path=\"url(#clip800)\" d=\"M 0 0 M2297.71 391.837 L2302.6 391.837 L2302.6 397.716 L2297.71 397.716 L2297.71 391.837 Z\" fill=\"#000000\" fill-rule=\"evenodd\" fill-opacity=\"1\" /><path clip-path=\"url(#clip800)\" d=\"M 0 0 M2306.49 363.156 L2328.71 363.156 L2328.71 365.147 L2316.16 397.716 L2311.28 397.716 L2323.08 367.092 L2306.49 367.092 L2306.49 363.156 Z\" fill=\"#000000\" fill-rule=\"evenodd\" fill-opacity=\"1\" /><path clip-path=\"url(#clip800)\" d=\"M 0 0 M2347.95 379.082 Q2351.3 379.8 2353.18 382.068 Q2355.07 384.337 2355.07 387.67 Q2355.07 392.786 2351.56 395.587 Q2348.04 398.388 2341.56 398.388 Q2339.38 398.388 2337.07 397.948 Q2334.77 397.531 2332.32 396.675 L2332.32 392.161 Q2334.26 393.295 2336.58 393.874 Q2338.89 394.453 2341.42 394.453 Q2345.82 394.453 2348.11 392.717 Q2350.42 390.98 2350.42 387.67 Q2350.42 384.615 2348.27 382.902 Q2346.14 381.166 2342.32 381.166 L2338.29 381.166 L2338.29 377.323 L2342.51 377.323 Q2345.95 377.323 2347.78 375.957 Q2349.61 374.568 2349.61 371.976 Q2349.61 369.314 2347.71 367.902 Q2345.84 366.467 2342.32 366.467 Q2340.4 366.467 2338.2 366.883 Q2336 367.3 2333.36 368.18 L2333.36 364.013 Q2336.02 363.272 2338.34 362.902 Q2340.68 362.531 2342.74 362.531 Q2348.06 362.531 2351.16 364.962 Q2354.26 367.369 2354.26 371.49 Q2354.26 374.36 2352.62 376.351 Q2350.98 378.318 2347.95 379.082 Z\" fill=\"#000000\" fill-rule=\"evenodd\" fill-opacity=\"1\" /><path clip-path=\"url(#clip800)\" d=\"M 0 0 M2280.7 221.236 Q2277.09 221.236 2275.26 224.801 Q2273.45 228.342 2273.45 235.472 Q2273.45 242.578 2275.26 246.143 Q2277.09 249.685 2280.7 249.685 Q2284.33 249.685 2286.14 246.143 Q2287.97 242.578 2287.97 235.472 Q2287.97 228.342 2286.14 224.801 Q2284.33 221.236 2280.7 221.236 M2280.7 217.532 Q2286.51 217.532 2289.57 222.139 Q2292.64 226.722 2292.64 235.472 Q2292.64 244.199 2289.57 248.805 Q2286.51 253.388 2280.7 253.388 Q2274.89 253.388 2271.81 248.805 Q2268.76 244.199 2268.76 235.472 Q2268.76 226.722 2271.81 222.139 Q2274.89 217.532 2280.7 217.532 Z\" fill=\"#000000\" fill-rule=\"evenodd\" fill-opacity=\"1\" /><path clip-path=\"url(#clip800)\" d=\"M 0 0 M2297.71 246.837 L2302.6 246.837 L2302.6 252.717 L2297.71 252.717 L2297.71 246.837 Z\" fill=\"#000000\" fill-rule=\"evenodd\" fill-opacity=\"1\" /><path clip-path=\"url(#clip800)\" d=\"M 0 0 M2306.49 218.157 L2328.71 218.157 L2328.71 220.148 L2316.16 252.717 L2311.28 252.717 L2323.08 222.092 L2306.49 222.092 L2306.49 218.157 Z\" fill=\"#000000\" fill-rule=\"evenodd\" fill-opacity=\"1\" /><path clip-path=\"url(#clip800)\" d=\"M 0 0 M2346.63 222.231 L2334.82 240.68 L2346.63 240.68 L2346.63 222.231 M2345.4 218.157 L2351.28 218.157 L2351.28 240.68 L2356.21 240.68 L2356.21 244.569 L2351.28 244.569 L2351.28 252.717 L2346.63 252.717 L2346.63 244.569 L2331.02 244.569 L2331.02 240.055 L2345.4 218.157 Z\" fill=\"#000000\" fill-rule=\"evenodd\" fill-opacity=\"1\" /><path clip-path=\"url(#clip800)\" d=\"M 0 0 M2280.7 76.2363 Q2277.09 76.2363 2275.26 79.8011 Q2273.45 83.3428 2273.45 90.4724 Q2273.45 97.5788 2275.26 101.144 Q2277.09 104.685 2280.7 104.685 Q2284.33 104.685 2286.14 101.144 Q2287.97 97.5788 2287.97 90.4724 Q2287.97 83.3428 2286.14 79.8011 Q2284.33 76.2363 2280.7 76.2363 M2280.7 72.5327 Q2286.51 72.5327 2289.57 77.1391 Q2292.64 81.7224 2292.64 90.4724 Q2292.64 99.1992 2289.57 103.806 Q2286.51 108.389 2280.7 108.389 Q2274.89 108.389 2271.81 103.806 Q2268.76 99.1992 2268.76 90.4724 Q2268.76 81.7224 2271.81 77.1391 Q2274.89 72.5327 2280.7 72.5327 Z\" fill=\"#000000\" fill-rule=\"evenodd\" fill-opacity=\"1\" /><path clip-path=\"url(#clip800)\" d=\"M 0 0 M2297.71 101.838 L2302.6 101.838 L2302.6 107.718 L2297.71 107.718 L2297.71 101.838 Z\" fill=\"#000000\" fill-rule=\"evenodd\" fill-opacity=\"1\" /><path clip-path=\"url(#clip800)\" d=\"M 0 0 M2306.49 73.1577 L2328.71 73.1577 L2328.71 75.1484 L2316.16 107.718 L2311.28 107.718 L2323.08 77.0928 L2306.49 77.0928 L2306.49 73.1577 Z\" fill=\"#000000\" fill-rule=\"evenodd\" fill-opacity=\"1\" /><path clip-path=\"url(#clip800)\" d=\"M 0 0 M2333.83 73.1577 L2352.18 73.1577 L2352.18 77.0928 L2338.11 77.0928 L2338.11 85.565 Q2339.13 85.2178 2340.14 85.0557 Q2341.16 84.8706 2342.18 84.8706 Q2347.97 84.8706 2351.35 88.0418 Q2354.73 91.2131 2354.73 96.6298 Q2354.73 102.208 2351.26 105.31 Q2347.78 108.389 2341.46 108.389 Q2339.29 108.389 2337.02 108.019 Q2334.77 107.648 2332.37 106.907 L2332.37 102.208 Q2334.45 103.343 2336.67 103.898 Q2338.89 104.454 2341.37 104.454 Q2345.38 104.454 2347.71 102.347 Q2350.05 100.241 2350.05 96.6298 Q2350.05 93.0187 2347.71 90.9122 Q2345.38 88.8057 2341.37 88.8057 Q2339.5 88.8057 2337.62 89.2224 Q2335.77 89.639 2333.83 90.5187 L2333.83 73.1577 Z\" fill=\"#000000\" fill-rule=\"evenodd\" fill-opacity=\"1\" /><polyline clip-path=\"url(#clip800)\" style=\"stroke:#000000; stroke-width:4; stroke-opacity:1; fill:none\" points=\"\n",
       "  2232.76,1423.18 2232.76,1399.06 2256.76,1399.06 2232.76,1399.06 2232.76,1254.06 2256.76,1254.06 2232.76,1254.06 2232.76,1109.06 2256.76,1109.06 2232.76,1109.06 \n",
       "  2232.76,964.063 2256.76,964.063 2232.76,964.063 2232.76,819.064 2256.76,819.064 2232.76,819.064 2232.76,674.064 2256.76,674.064 2232.76,674.064 2232.76,529.065 \n",
       "  2256.76,529.065 2232.76,529.065 2232.76,384.065 2256.76,384.065 2232.76,384.065 2232.76,239.066 2256.76,239.066 2232.76,239.066 2232.76,94.0665 2256.76,94.0665 \n",
       "  2232.76,94.0665 2232.76,47.2441 \n",
       "  \"/>\n",
       "</svg>\n"
      ]
     },
     "execution_count": 104,
     "metadata": {},
     "output_type": "execute_result"
    }
   ],
   "source": [
    "plot(self_tuning_nn)"
   ]
  },
  {
   "cell_type": "code",
   "execution_count": 105,
   "metadata": {},
   "outputs": [
    {
     "data": {
      "text/plain": [
       "(best_model = \u001b[34mNeuralNetworkClassifier{CustomNN,…} @206\u001b[39m,\n",
       " best_fitted_params = (chain = Chain(Chain(Dense(4, 34, σ), Dense(34, 3, σ)), softmax),),)"
      ]
     },
     "execution_count": 105,
     "metadata": {},
     "output_type": "execute_result"
    }
   ],
   "source": [
    "best = fitted_params(self_tuning_nn)\n",
    "best"
   ]
  },
  {
   "cell_type": "code",
   "execution_count": 106,
   "metadata": {},
   "outputs": [
    {
     "data": {
      "text/plain": [
       "NeuralNetworkClassifier(\n",
       "    builder = CustomNN(\n",
       "            n1 = 34),\n",
       "    finaliser = NNlib.softmax,\n",
       "    optimiser = ADAM(0.00032, (0.9, 0.999), IdDict{Any,Any}()),\n",
       "    loss = Flux.crossentropy,\n",
       "    epochs = 2000,\n",
       "    batch_size = 16,\n",
       "    lambda = 0.004641588833612777,\n",
       "    alpha = 0.0,\n",
       "    optimiser_changes_trigger_retraining = false)\u001b[34m @206\u001b[39m"
      ]
     },
     "execution_count": 106,
     "metadata": {},
     "output_type": "execute_result"
    }
   ],
   "source": [
    "best.best_model"
   ]
  },
  {
   "cell_type": "code",
   "execution_count": 107,
   "metadata": {
    "scrolled": true
   },
   "outputs": [
    {
     "data": {
      "text/plain": [
       "0.65833664f0"
      ]
     },
     "execution_count": 107,
     "metadata": {},
     "output_type": "execute_result"
    }
   ],
   "source": [
    "best_loss = z.report.best_result.measurement[1]"
   ]
  },
  {
   "cell_type": "code",
   "execution_count": 108,
   "metadata": {},
   "outputs": [
    {
     "data": {
      "text/plain": [
       "0.004641588833612777"
      ]
     },
     "execution_count": 108,
     "metadata": {},
     "output_type": "execute_result"
    }
   ],
   "source": [
    "best_lambda = best.best_model.lambda"
   ]
  },
  {
   "cell_type": "code",
   "execution_count": 68,
   "metadata": {},
   "outputs": [],
   "source": [
    "fn = \"Figures/Grid_NN_$(param1):$(a)_x_$(param2):$(c)_bestloss:$(best_loss)_hidden:$b\"\n",
    "png(replace(fn,'.' => ','))"
   ]
  },
  {
   "cell_type": "markdown",
   "metadata": {},
   "source": [
    "### Learning Curve"
   ]
  },
  {
   "cell_type": "code",
   "execution_count": 122,
   "metadata": {},
   "outputs": [],
   "source": [
    "lc_model = NeuralNetworkClassifier(builder=CustomNN(best_n1),\n",
    "                                        lambda = best_lambda,\n",
    "                                        epochs = 3000)\n",
    "lc_model.optimiser.eta = best_eta;"
   ]
  },
  {
   "cell_type": "code",
   "execution_count": 123,
   "metadata": {
    "scrolled": true
   },
   "outputs": [
    {
     "name": "stdout",
     "output_type": "stream",
     "text": [
      "(d, train_metric, valid_metric) = (10, 1.0, 0.5909090909090909)\n",
      "(d, train_metric, valid_metric) = (15, 1.0, 0.6477272727272727)\n",
      "(d, train_metric, valid_metric) = (20, 0.95, 0.8295454545454546)\n",
      "(d, train_metric, valid_metric) = (25, 0.92, 0.8636363636363636)\n",
      "(d, train_metric, valid_metric) = (30, 0.9, 0.875)\n",
      "(d, train_metric, valid_metric) = (35, 0.8857142857142857, 0.875)\n",
      "(d, train_metric, valid_metric) = (40, 0.875, 0.8863636363636364)\n",
      "(d, train_metric, valid_metric) = (45, 0.8666666666666667, 0.8863636363636364)\n",
      "(d, train_metric, valid_metric) = (50, 0.88, 0.8863636363636364)\n",
      "(d, train_metric, valid_metric) = (55, 0.8909090909090909, 0.875)\n",
      "(d, train_metric, valid_metric) = (60, 0.8833333333333333, 0.9090909090909091)\n",
      "(d, train_metric, valid_metric) = (65, 0.8461538461538461, 0.8863636363636364)\n",
      "(d, train_metric, valid_metric) = (70, 0.8571428571428571, 0.875)\n",
      "(d, train_metric, valid_metric) = (75, 0.8533333333333334, 0.9090909090909091)\n",
      "(d, train_metric, valid_metric) = (80, 0.8625, 0.8863636363636364)\n",
      "(d, train_metric, valid_metric) = (85, 0.8588235294117647, 0.9318181818181818)\n",
      "(d, train_metric, valid_metric) = (90, 0.8555555555555555, 0.9204545454545454)\n",
      "(d, train_metric, valid_metric) = (95, 0.8736842105263158, 0.9318181818181818)\n",
      "(d, train_metric, valid_metric) = (100, 0.88, 0.9431818181818182)\n",
      "(d, train_metric, valid_metric) = (105, 0.8857142857142857, 0.9431818181818182)\n",
      "(d, train_metric, valid_metric) = (110, 0.8909090909090909, 0.9318181818181818)\n",
      "(d, train_metric, valid_metric) = (115, 0.8956521739130435, 0.9318181818181818)\n",
      "(d, train_metric, valid_metric) = (120, 0.8916666666666667, 0.9318181818181818)\n",
      "(d, train_metric, valid_metric) = (125, 0.896, 0.9318181818181818)\n",
      "(d, train_metric, valid_metric) = (130, 0.9, 0.9431818181818182)\n",
      "(d, train_metric, valid_metric) = (135, 0.9037037037037037, 0.9318181818181818)\n",
      "(d, train_metric, valid_metric) = (140, 0.9, 0.9204545454545454)\n",
      "(d, train_metric, valid_metric) = (145, 0.896551724137931, 0.9318181818181818)\n",
      "(d, train_metric, valid_metric) = (150, 0.9, 0.9318181818181818)\n",
      "(d, train_metric, valid_metric) = (155, 0.9032258064516129, 0.9318181818181818)\n",
      "(d, train_metric, valid_metric) = (160, 0.9, 0.9318181818181818)\n",
      "(d, train_metric, valid_metric) = (165, 0.9030303030303031, 0.9318181818181818)\n",
      "(d, train_metric, valid_metric) = (170, 0.9058823529411765, 0.9431818181818182)\n",
      "(d, train_metric, valid_metric) = (175, 0.9085714285714286, 0.9318181818181818)\n",
      "(d, train_metric, valid_metric) = (180, 0.9055555555555556, 0.9318181818181818)\n",
      "(d, train_metric, valid_metric) = (185, 0.9081081081081082, 0.9318181818181818)\n",
      "(d, train_metric, valid_metric) = (190, 0.9105263157894737, 0.9318181818181818)\n",
      "(d, train_metric, valid_metric) = (195, 0.9128205128205128, 0.9318181818181818)\n",
      "(d, train_metric, valid_metric) = (200, 0.91, 0.9318181818181818)\n",
      "(d, train_metric, valid_metric) = (205, 0.9073170731707317, 0.9318181818181818)\n",
      "(d, train_metric, valid_metric) = (210, 0.9095238095238095, 0.9431818181818182)\n",
      "(d, train_metric, valid_metric) = (215, 0.9069767441860465, 0.9431818181818182)\n",
      "(d, train_metric, valid_metric) = (220, 0.9090909090909091, 0.9431818181818182)\n",
      "(d, train_metric, valid_metric) = (225, 0.9066666666666666, 0.9431818181818182)\n",
      "(d, train_metric, valid_metric) = (230, 0.908695652173913, 0.9545454545454546)\n",
      "(d, train_metric, valid_metric) = (235, 0.9106382978723404, 0.9431818181818182)\n",
      "(d, train_metric, valid_metric) = (240, 0.9125, 0.9545454545454546)\n",
      "(d, train_metric, valid_metric) = (245, 0.9061224489795918, 0.9545454545454546)\n",
      "(d, train_metric, valid_metric) = (250, 0.908, 0.9431818181818182)\n",
      "(d, train_metric, valid_metric) = (255, 0.9019607843137255, 0.9318181818181818)\n",
      "(d, train_metric, valid_metric) = (260, 0.9076923076923077, 0.9318181818181818)\n",
      "(d, train_metric, valid_metric) = (265, 0.9018867924528302, 0.9318181818181818)\n",
      "(d, train_metric, valid_metric) = (270, 0.9, 0.9318181818181818)\n",
      "(d, train_metric, valid_metric) = (275, 0.9054545454545454, 0.9318181818181818)\n",
      "(d, train_metric, valid_metric) = (280, 0.9142857142857143, 0.9431818181818182)\n",
      "(d, train_metric, valid_metric) = (285, 0.9052631578947369, 0.9318181818181818)\n",
      "(d, train_metric, valid_metric) = (290, 0.906896551724138, 0.9318181818181818)\n",
      "(d, train_metric, valid_metric) = (295, 0.9050847457627119, 0.9318181818181818)\n",
      "(d, train_metric, valid_metric) = (300, 0.9066666666666666, 0.9431818181818182)\n",
      "(d, train_metric, valid_metric) = (305, 0.9049180327868852, 0.9318181818181818)\n",
      "(d, train_metric, valid_metric) = (310, 0.9064516129032258, 0.9318181818181818)\n",
      "(d, train_metric, valid_metric) = (315, 0.9079365079365079, 0.9318181818181818)\n",
      "(d, train_metric, valid_metric) = (320, 0.909375, 0.9318181818181818)\n",
      "(d, train_metric, valid_metric) = (325, 0.9076923076923077, 0.9318181818181818)\n",
      "(d, train_metric, valid_metric) = (330, 0.9090909090909091, 0.9318181818181818)\n",
      "(d, train_metric, valid_metric) = (335, 0.9104477611940298, 0.9318181818181818)\n",
      "(d, train_metric, valid_metric) = (340, 0.9117647058823529, 0.9431818181818182)\n",
      "(d, train_metric, valid_metric) = (345, 0.9101449275362319, 0.9318181818181818)\n",
      "(d, train_metric, valid_metric) = (350, 0.9114285714285715, 0.9318181818181818)\n"
     ]
    },
    {
     "data": {
      "text/plain": [
       "(10:5:350, Any[1.0, 1.0, 0.95, 0.92, 0.9, 0.8857142857142857, 0.875, 0.8666666666666667, 0.88, 0.8909090909090909  …  0.9049180327868852, 0.9064516129032258, 0.9079365079365079, 0.909375, 0.9076923076923077, 0.9090909090909091, 0.9104477611940298, 0.9117647058823529, 0.9101449275362319, 0.9114285714285715], Any[0.5909090909090909, 0.6477272727272727, 0.8295454545454546, 0.8636363636363636, 0.875, 0.875, 0.8863636363636364, 0.8863636363636364, 0.8863636363636364, 0.875  …  0.9318181818181818, 0.9318181818181818, 0.9318181818181818, 0.9318181818181818, 0.9318181818181818, 0.9318181818181818, 0.9318181818181818, 0.9431818181818182, 0.9318181818181818, 0.9318181818181818])"
      ]
     },
     "execution_count": 123,
     "metadata": {},
     "output_type": "execute_result"
    }
   ],
   "source": [
    "data_schedule, training_losses, valid_losses = learn_curve(lc_model, X[train,:], y[train], acc)"
   ]
  },
  {
   "cell_type": "code",
   "execution_count": 124,
   "metadata": {},
   "outputs": [
    {
     "data": {
      "image/svg+xml": [
       "<?xml version=\"1.0\" encoding=\"utf-8\"?>\n",
       "<svg xmlns=\"http://www.w3.org/2000/svg\" xmlns:xlink=\"http://www.w3.org/1999/xlink\" width=\"600\" height=\"400\" viewBox=\"0 0 2400 1600\">\n",
       "<defs>\n",
       "  <clipPath id=\"clip960\">\n",
       "    <rect x=\"0\" y=\"0\" width=\"2400\" height=\"1600\"/>\n",
       "  </clipPath>\n",
       "</defs>\n",
       "<path clip-path=\"url(#clip960)\" d=\"\n",
       "M0 1600 L2400 1600 L2400 0 L0 0  Z\n",
       "  \" fill=\"#ffffff\" fill-rule=\"evenodd\" fill-opacity=\"1\"/>\n",
       "<defs>\n",
       "  <clipPath id=\"clip961\">\n",
       "    <rect x=\"480\" y=\"0\" width=\"1681\" height=\"1600\"/>\n",
       "  </clipPath>\n",
       "</defs>\n",
       "<path clip-path=\"url(#clip960)\" d=\"\n",
       "M148.01 1486.45 L2352.76 1486.45 L2352.76 47.2441 L148.01 47.2441  Z\n",
       "  \" fill=\"#ffffff\" fill-rule=\"evenodd\" fill-opacity=\"1\"/>\n",
       "<defs>\n",
       "  <clipPath id=\"clip962\">\n",
       "    <rect x=\"148\" y=\"47\" width=\"2206\" height=\"1440\"/>\n",
       "  </clipPath>\n",
       "</defs>\n",
       "<polyline clip-path=\"url(#clip962)\" style=\"stroke:#000000; stroke-width:2; stroke-opacity:0.1; fill:none\" points=\"\n",
       "  149.234,1486.45 149.234,47.2441 \n",
       "  \"/>\n",
       "<polyline clip-path=\"url(#clip962)\" style=\"stroke:#000000; stroke-width:2; stroke-opacity:0.1; fill:none\" points=\"\n",
       "  760.983,1486.45 760.983,47.2441 \n",
       "  \"/>\n",
       "<polyline clip-path=\"url(#clip962)\" style=\"stroke:#000000; stroke-width:2; stroke-opacity:0.1; fill:none\" points=\"\n",
       "  1372.73,1486.45 1372.73,47.2441 \n",
       "  \"/>\n",
       "<polyline clip-path=\"url(#clip962)\" style=\"stroke:#000000; stroke-width:2; stroke-opacity:0.1; fill:none\" points=\"\n",
       "  1984.48,1486.45 1984.48,47.2441 \n",
       "  \"/>\n",
       "<polyline clip-path=\"url(#clip962)\" style=\"stroke:#000000; stroke-width:2; stroke-opacity:0.1; fill:none\" points=\"\n",
       "  148.01,1415.54 2352.76,1415.54 \n",
       "  \"/>\n",
       "<polyline clip-path=\"url(#clip962)\" style=\"stroke:#000000; stroke-width:2; stroke-opacity:0.1; fill:none\" points=\"\n",
       "  148.01,1083.65 2352.76,1083.65 \n",
       "  \"/>\n",
       "<polyline clip-path=\"url(#clip962)\" style=\"stroke:#000000; stroke-width:2; stroke-opacity:0.1; fill:none\" points=\"\n",
       "  148.01,751.76 2352.76,751.76 \n",
       "  \"/>\n",
       "<polyline clip-path=\"url(#clip962)\" style=\"stroke:#000000; stroke-width:2; stroke-opacity:0.1; fill:none\" points=\"\n",
       "  148.01,419.868 2352.76,419.868 \n",
       "  \"/>\n",
       "<polyline clip-path=\"url(#clip962)\" style=\"stroke:#000000; stroke-width:2; stroke-opacity:0.1; fill:none\" points=\"\n",
       "  148.01,87.9763 2352.76,87.9763 \n",
       "  \"/>\n",
       "<polyline clip-path=\"url(#clip960)\" style=\"stroke:#000000; stroke-width:4; stroke-opacity:1; fill:none\" points=\"\n",
       "  148.01,1486.45 2352.76,1486.45 \n",
       "  \"/>\n",
       "<polyline clip-path=\"url(#clip960)\" style=\"stroke:#000000; stroke-width:4; stroke-opacity:1; fill:none\" points=\"\n",
       "  148.01,1486.45 148.01,47.2441 \n",
       "  \"/>\n",
       "<polyline clip-path=\"url(#clip960)\" style=\"stroke:#000000; stroke-width:4; stroke-opacity:1; fill:none\" points=\"\n",
       "  149.234,1486.45 149.234,1469.18 \n",
       "  \"/>\n",
       "<polyline clip-path=\"url(#clip960)\" style=\"stroke:#000000; stroke-width:4; stroke-opacity:1; fill:none\" points=\"\n",
       "  760.983,1486.45 760.983,1469.18 \n",
       "  \"/>\n",
       "<polyline clip-path=\"url(#clip960)\" style=\"stroke:#000000; stroke-width:4; stroke-opacity:1; fill:none\" points=\"\n",
       "  1372.73,1486.45 1372.73,1469.18 \n",
       "  \"/>\n",
       "<polyline clip-path=\"url(#clip960)\" style=\"stroke:#000000; stroke-width:4; stroke-opacity:1; fill:none\" points=\"\n",
       "  1984.48,1486.45 1984.48,1469.18 \n",
       "  \"/>\n",
       "<polyline clip-path=\"url(#clip960)\" style=\"stroke:#000000; stroke-width:4; stroke-opacity:1; fill:none\" points=\"\n",
       "  148.01,1415.54 174.467,1415.54 \n",
       "  \"/>\n",
       "<polyline clip-path=\"url(#clip960)\" style=\"stroke:#000000; stroke-width:4; stroke-opacity:1; fill:none\" points=\"\n",
       "  148.01,1083.65 174.467,1083.65 \n",
       "  \"/>\n",
       "<polyline clip-path=\"url(#clip960)\" style=\"stroke:#000000; stroke-width:4; stroke-opacity:1; fill:none\" points=\"\n",
       "  148.01,751.76 174.467,751.76 \n",
       "  \"/>\n",
       "<polyline clip-path=\"url(#clip960)\" style=\"stroke:#000000; stroke-width:4; stroke-opacity:1; fill:none\" points=\"\n",
       "  148.01,419.868 174.467,419.868 \n",
       "  \"/>\n",
       "<polyline clip-path=\"url(#clip960)\" style=\"stroke:#000000; stroke-width:4; stroke-opacity:1; fill:none\" points=\"\n",
       "  148.01,87.9763 174.467,87.9763 \n",
       "  \"/>\n",
       "<path clip-path=\"url(#clip960)\" d=\"M 0 0 M149.234 1508.44 Q145.623 1508.44 143.794 1512 Q141.988 1515.55 141.988 1522.67 Q141.988 1529.78 143.794 1533.35 Q145.623 1536.89 149.234 1536.89 Q152.868 1536.89 154.674 1533.35 Q156.502 1529.78 156.502 1522.67 Q156.502 1515.55 154.674 1512 Q152.868 1508.44 149.234 1508.44 M149.234 1504.73 Q155.044 1504.73 158.1 1509.34 Q161.178 1513.92 161.178 1522.67 Q161.178 1531.4 158.1 1536.01 Q155.044 1540.59 149.234 1540.59 Q143.424 1540.59 140.345 1536.01 Q137.289 1531.4 137.289 1522.67 Q137.289 1513.92 140.345 1509.34 Q143.424 1504.73 149.234 1504.73 Z\" fill=\"#000000\" fill-rule=\"evenodd\" fill-opacity=\"1\" /><path clip-path=\"url(#clip960)\" d=\"M 0 0 M724.352 1535.98 L731.991 1535.98 L731.991 1509.62 L723.68 1511.29 L723.68 1507.03 L731.944 1505.36 L736.62 1505.36 L736.62 1535.98 L744.259 1535.98 L744.259 1539.92 L724.352 1539.92 L724.352 1535.98 Z\" fill=\"#000000\" fill-rule=\"evenodd\" fill-opacity=\"1\" /><path clip-path=\"url(#clip960)\" d=\"M 0 0 M759.328 1508.44 Q755.717 1508.44 753.889 1512 Q752.083 1515.55 752.083 1522.67 Q752.083 1529.78 753.889 1533.35 Q755.717 1536.89 759.328 1536.89 Q762.963 1536.89 764.768 1533.35 Q766.597 1529.78 766.597 1522.67 Q766.597 1515.55 764.768 1512 Q762.963 1508.44 759.328 1508.44 M759.328 1504.73 Q765.138 1504.73 768.194 1509.34 Q771.273 1513.92 771.273 1522.67 Q771.273 1531.4 768.194 1536.01 Q765.138 1540.59 759.328 1540.59 Q753.518 1540.59 750.439 1536.01 Q747.384 1531.4 747.384 1522.67 Q747.384 1513.92 750.439 1509.34 Q753.518 1504.73 759.328 1504.73 Z\" fill=\"#000000\" fill-rule=\"evenodd\" fill-opacity=\"1\" /><path clip-path=\"url(#clip960)\" d=\"M 0 0 M786.342 1508.44 Q782.731 1508.44 780.902 1512 Q779.097 1515.55 779.097 1522.67 Q779.097 1529.78 780.902 1533.35 Q782.731 1536.89 786.342 1536.89 Q789.976 1536.89 791.782 1533.35 Q793.611 1529.78 793.611 1522.67 Q793.611 1515.55 791.782 1512 Q789.976 1508.44 786.342 1508.44 M786.342 1504.73 Q792.152 1504.73 795.208 1509.34 Q798.286 1513.92 798.286 1522.67 Q798.286 1531.4 795.208 1536.01 Q792.152 1540.59 786.342 1540.59 Q780.532 1540.59 777.453 1536.01 Q774.398 1531.4 774.398 1522.67 Q774.398 1513.92 777.453 1509.34 Q780.532 1504.73 786.342 1504.73 Z\" fill=\"#000000\" fill-rule=\"evenodd\" fill-opacity=\"1\" /><path clip-path=\"url(#clip960)\" d=\"M 0 0 M1340.37 1535.98 L1356.69 1535.98 L1356.69 1539.92 L1334.75 1539.92 L1334.75 1535.98 Q1337.41 1533.23 1341.99 1528.6 Q1346.6 1523.95 1347.78 1522.61 Q1350.02 1520.08 1350.9 1518.35 Q1351.81 1516.59 1351.81 1514.9 Q1351.81 1512.14 1349.86 1510.41 Q1347.94 1508.67 1344.84 1508.67 Q1342.64 1508.67 1340.19 1509.43 Q1337.76 1510.2 1334.98 1511.75 L1334.98 1507.03 Q1337.8 1505.89 1340.26 1505.31 Q1342.71 1504.73 1344.75 1504.73 Q1350.12 1504.73 1353.31 1507.42 Q1356.51 1510.11 1356.51 1514.6 Q1356.51 1516.73 1355.7 1518.65 Q1354.91 1520.54 1352.8 1523.14 Q1352.22 1523.81 1349.12 1527.03 Q1346.02 1530.22 1340.37 1535.98 Z\" fill=\"#000000\" fill-rule=\"evenodd\" fill-opacity=\"1\" /><path clip-path=\"url(#clip960)\" d=\"M 0 0 M1371.76 1508.44 Q1368.15 1508.44 1366.32 1512 Q1364.52 1515.55 1364.52 1522.67 Q1364.52 1529.78 1366.32 1533.35 Q1368.15 1536.89 1371.76 1536.89 Q1375.4 1536.89 1377.2 1533.35 Q1379.03 1529.78 1379.03 1522.67 Q1379.03 1515.55 1377.2 1512 Q1375.4 1508.44 1371.76 1508.44 M1371.76 1504.73 Q1377.57 1504.73 1380.63 1509.34 Q1383.71 1513.92 1383.71 1522.67 Q1383.71 1531.4 1380.63 1536.01 Q1377.57 1540.59 1371.76 1540.59 Q1365.95 1540.59 1362.87 1536.01 Q1359.82 1531.4 1359.82 1522.67 Q1359.82 1513.92 1362.87 1509.34 Q1365.95 1504.73 1371.76 1504.73 Z\" fill=\"#000000\" fill-rule=\"evenodd\" fill-opacity=\"1\" /><path clip-path=\"url(#clip960)\" d=\"M 0 0 M1398.77 1508.44 Q1395.16 1508.44 1393.33 1512 Q1391.53 1515.55 1391.53 1522.67 Q1391.53 1529.78 1393.33 1533.35 Q1395.16 1536.89 1398.77 1536.89 Q1402.41 1536.89 1404.21 1533.35 Q1406.04 1529.78 1406.04 1522.67 Q1406.04 1515.55 1404.21 1512 Q1402.41 1508.44 1398.77 1508.44 M1398.77 1504.73 Q1404.58 1504.73 1407.64 1509.34 Q1410.72 1513.92 1410.72 1522.67 Q1410.72 1531.4 1407.64 1536.01 Q1404.58 1540.59 1398.77 1540.59 Q1392.96 1540.59 1389.89 1536.01 Q1386.83 1531.4 1386.83 1522.67 Q1386.83 1513.92 1389.89 1509.34 Q1392.96 1504.73 1398.77 1504.73 Z\" fill=\"#000000\" fill-rule=\"evenodd\" fill-opacity=\"1\" /><path clip-path=\"url(#clip960)\" d=\"M 0 0 M1961.72 1521.29 Q1965.07 1522 1966.95 1524.27 Q1968.85 1526.54 1968.85 1529.87 Q1968.85 1534.99 1965.33 1537.79 Q1961.81 1540.59 1955.33 1540.59 Q1953.15 1540.59 1950.84 1540.15 Q1948.55 1539.73 1946.09 1538.88 L1946.09 1534.36 Q1948.04 1535.5 1950.35 1536.08 Q1952.67 1536.66 1955.19 1536.66 Q1959.59 1536.66 1961.88 1534.92 Q1964.19 1533.18 1964.19 1529.87 Q1964.19 1526.82 1962.04 1525.11 Q1959.91 1523.37 1956.09 1523.37 L1952.06 1523.37 L1952.06 1519.53 L1956.28 1519.53 Q1959.73 1519.53 1961.55 1518.16 Q1963.38 1516.77 1963.38 1514.18 Q1963.38 1511.52 1961.49 1510.11 Q1959.61 1508.67 1956.09 1508.67 Q1954.17 1508.67 1951.97 1509.09 Q1949.77 1509.5 1947.13 1510.38 L1947.13 1506.22 Q1949.8 1505.48 1952.11 1505.11 Q1954.45 1504.73 1956.51 1504.73 Q1961.83 1504.73 1964.93 1507.17 Q1968.04 1509.57 1968.04 1513.69 Q1968.04 1516.56 1966.39 1518.55 Q1964.75 1520.52 1961.72 1521.29 Z\" fill=\"#000000\" fill-rule=\"evenodd\" fill-opacity=\"1\" /><path clip-path=\"url(#clip960)\" d=\"M 0 0 M1983.92 1508.44 Q1980.3 1508.44 1978.48 1512 Q1976.67 1515.55 1976.67 1522.67 Q1976.67 1529.78 1978.48 1533.35 Q1980.3 1536.89 1983.92 1536.89 Q1987.55 1536.89 1989.36 1533.35 Q1991.18 1529.78 1991.18 1522.67 Q1991.18 1515.55 1989.36 1512 Q1987.55 1508.44 1983.92 1508.44 M1983.92 1504.73 Q1989.73 1504.73 1992.78 1509.34 Q1995.86 1513.92 1995.86 1522.67 Q1995.86 1531.4 1992.78 1536.01 Q1989.73 1540.59 1983.92 1540.59 Q1978.11 1540.59 1975.03 1536.01 Q1971.97 1531.4 1971.97 1522.67 Q1971.97 1513.92 1975.03 1509.34 Q1978.11 1504.73 1983.92 1504.73 Z\" fill=\"#000000\" fill-rule=\"evenodd\" fill-opacity=\"1\" /><path clip-path=\"url(#clip960)\" d=\"M 0 0 M2010.93 1508.44 Q2007.32 1508.44 2005.49 1512 Q2003.68 1515.55 2003.68 1522.67 Q2003.68 1529.78 2005.49 1533.35 Q2007.32 1536.89 2010.93 1536.89 Q2014.56 1536.89 2016.37 1533.35 Q2018.2 1529.78 2018.2 1522.67 Q2018.2 1515.55 2016.37 1512 Q2014.56 1508.44 2010.93 1508.44 M2010.93 1504.73 Q2016.74 1504.73 2019.79 1509.34 Q2022.87 1513.92 2022.87 1522.67 Q2022.87 1531.4 2019.79 1536.01 Q2016.74 1540.59 2010.93 1540.59 Q2005.12 1540.59 2002.04 1536.01 Q1998.98 1531.4 1998.98 1522.67 Q1998.98 1513.92 2002.04 1509.34 Q2005.12 1504.73 2010.93 1504.73 Z\" fill=\"#000000\" fill-rule=\"evenodd\" fill-opacity=\"1\" /><path clip-path=\"url(#clip960)\" d=\"M 0 0 M74.9365 1401.34 Q71.3254 1401.34 69.4967 1404.91 Q67.6912 1408.45 67.6912 1415.58 Q67.6912 1422.68 69.4967 1426.25 Q71.3254 1429.79 74.9365 1429.79 Q78.5707 1429.79 80.3763 1426.25 Q82.205 1422.68 82.205 1415.58 Q82.205 1408.45 80.3763 1404.91 Q78.5707 1401.34 74.9365 1401.34 M74.9365 1397.64 Q80.7467 1397.64 83.8022 1402.25 Q86.8809 1406.83 86.8809 1415.58 Q86.8809 1424.31 83.8022 1428.91 Q80.7467 1433.49 74.9365 1433.49 Q69.1264 1433.49 66.0477 1428.91 Q62.9921 1424.31 62.9921 1415.58 Q62.9921 1406.83 66.0477 1402.25 Q69.1264 1397.64 74.9365 1397.64 Z\" fill=\"#000000\" fill-rule=\"evenodd\" fill-opacity=\"1\" /><path clip-path=\"url(#clip960)\" d=\"M 0 0 M91.9503 1426.94 L96.8345 1426.94 L96.8345 1432.82 L91.9503 1432.82 L91.9503 1426.94 Z\" fill=\"#000000\" fill-rule=\"evenodd\" fill-opacity=\"1\" /><path clip-path=\"url(#clip960)\" d=\"M 0 0 M112.483 1413.68 Q109.334 1413.68 107.483 1415.83 Q105.654 1417.99 105.654 1421.74 Q105.654 1425.46 107.483 1427.64 Q109.334 1429.79 112.483 1429.79 Q115.631 1429.79 117.459 1427.64 Q119.311 1425.46 119.311 1421.74 Q119.311 1417.99 117.459 1415.83 Q115.631 1413.68 112.483 1413.68 M121.765 1399.03 L121.765 1403.29 Q120.006 1402.45 118.2 1402.01 Q116.418 1401.57 114.659 1401.57 Q110.029 1401.57 107.575 1404.7 Q105.145 1407.82 104.797 1414.14 Q106.163 1412.13 108.223 1411.06 Q110.284 1409.98 112.76 1409.98 Q117.969 1409.98 120.978 1413.15 Q124.01 1416.3 124.01 1421.74 Q124.01 1427.06 120.862 1430.28 Q117.714 1433.49 112.483 1433.49 Q106.487 1433.49 103.316 1428.91 Q100.145 1424.31 100.145 1415.58 Q100.145 1407.38 104.034 1402.52 Q107.922 1397.64 114.473 1397.64 Q116.233 1397.64 118.015 1397.99 Q119.821 1398.33 121.765 1399.03 Z\" fill=\"#000000\" fill-rule=\"evenodd\" fill-opacity=\"1\" /><path clip-path=\"url(#clip960)\" d=\"M 0 0 M76.0013 1069.45 Q72.3902 1069.45 70.5615 1073.02 Q68.756 1076.56 68.756 1083.69 Q68.756 1090.79 70.5615 1094.36 Q72.3902 1097.9 76.0013 1097.9 Q79.6356 1097.9 81.4411 1094.36 Q83.2698 1090.79 83.2698 1083.69 Q83.2698 1076.56 81.4411 1073.02 Q79.6356 1069.45 76.0013 1069.45 M76.0013 1065.75 Q81.8115 1065.75 84.867 1070.35 Q87.9457 1074.94 87.9457 1083.69 Q87.9457 1092.41 84.867 1097.02 Q81.8115 1101.6 76.0013 1101.6 Q70.1912 1101.6 67.1125 1097.02 Q64.0569 1092.41 64.0569 1083.69 Q64.0569 1074.94 67.1125 1070.35 Q70.1912 1065.75 76.0013 1065.75 Z\" fill=\"#000000\" fill-rule=\"evenodd\" fill-opacity=\"1\" /><path clip-path=\"url(#clip960)\" d=\"M 0 0 M93.0151 1095.05 L97.8993 1095.05 L97.8993 1100.93 L93.0151 1100.93 L93.0151 1095.05 Z\" fill=\"#000000\" fill-rule=\"evenodd\" fill-opacity=\"1\" /><path clip-path=\"url(#clip960)\" d=\"M 0 0 M101.788 1066.37 L124.01 1066.37 L124.01 1068.36 L111.464 1100.93 L106.58 1100.93 L118.385 1070.31 L101.788 1070.31 L101.788 1066.37 Z\" fill=\"#000000\" fill-rule=\"evenodd\" fill-opacity=\"1\" /><path clip-path=\"url(#clip960)\" d=\"M 0 0 M75.1911 737.559 Q71.58 737.559 69.7513 741.123 Q67.9458 744.665 67.9458 751.795 Q67.9458 758.901 69.7513 762.466 Q71.58 766.008 75.1911 766.008 Q78.8254 766.008 80.6309 762.466 Q82.4596 758.901 82.4596 751.795 Q82.4596 744.665 80.6309 741.123 Q78.8254 737.559 75.1911 737.559 M75.1911 733.855 Q81.0013 733.855 84.0568 738.461 Q87.1355 743.045 87.1355 751.795 Q87.1355 760.522 84.0568 765.128 Q81.0013 769.711 75.1911 769.711 Q69.381 769.711 66.3023 765.128 Q63.2468 760.522 63.2468 751.795 Q63.2468 743.045 66.3023 738.461 Q69.381 733.855 75.1911 733.855 Z\" fill=\"#000000\" fill-rule=\"evenodd\" fill-opacity=\"1\" /><path clip-path=\"url(#clip960)\" d=\"M 0 0 M92.2049 763.16 L97.0892 763.16 L97.0892 769.04 L92.2049 769.04 L92.2049 763.16 Z\" fill=\"#000000\" fill-rule=\"evenodd\" fill-opacity=\"1\" /><path clip-path=\"url(#clip960)\" d=\"M 0 0 M112.159 752.628 Q108.825 752.628 106.904 754.41 Q105.006 756.193 105.006 759.318 Q105.006 762.443 106.904 764.225 Q108.825 766.008 112.159 766.008 Q115.492 766.008 117.413 764.225 Q119.334 762.42 119.334 759.318 Q119.334 756.193 117.413 754.41 Q115.515 752.628 112.159 752.628 M107.483 750.637 Q104.473 749.897 102.784 747.836 Q101.117 745.776 101.117 742.813 Q101.117 738.67 104.057 736.262 Q107.02 733.855 112.159 733.855 Q117.321 733.855 120.26 736.262 Q123.2 738.67 123.2 742.813 Q123.2 745.776 121.51 747.836 Q119.844 749.897 116.858 750.637 Q120.237 751.424 122.112 753.716 Q124.01 756.008 124.01 759.318 Q124.01 764.341 120.932 767.026 Q117.876 769.711 112.159 769.711 Q106.441 769.711 103.362 767.026 Q100.307 764.341 100.307 759.318 Q100.307 756.008 102.205 753.716 Q104.103 751.424 107.483 750.637 M105.77 743.253 Q105.77 745.938 107.436 747.443 Q109.126 748.948 112.159 748.948 Q115.168 748.948 116.858 747.443 Q118.571 745.938 118.571 743.253 Q118.571 740.568 116.858 739.063 Q115.168 737.559 112.159 737.559 Q109.126 737.559 107.436 739.063 Q105.77 740.568 105.77 743.253 Z\" fill=\"#000000\" fill-rule=\"evenodd\" fill-opacity=\"1\" /><path clip-path=\"url(#clip960)\" d=\"M 0 0 M75.2837 405.667 Q71.6726 405.667 69.8439 409.232 Q68.0384 412.773 68.0384 419.903 Q68.0384 427.009 69.8439 430.574 Q71.6726 434.116 75.2837 434.116 Q78.918 434.116 80.7235 430.574 Q82.5522 427.009 82.5522 419.903 Q82.5522 412.773 80.7235 409.232 Q78.918 405.667 75.2837 405.667 M75.2837 401.963 Q81.0939 401.963 84.1494 406.57 Q87.2281 411.153 87.2281 419.903 Q87.2281 428.63 84.1494 433.236 Q81.0939 437.819 75.2837 437.819 Q69.4736 437.819 66.3949 433.236 Q63.3393 428.63 63.3393 419.903 Q63.3393 411.153 66.3949 406.57 Q69.4736 401.963 75.2837 401.963 Z\" fill=\"#000000\" fill-rule=\"evenodd\" fill-opacity=\"1\" /><path clip-path=\"url(#clip960)\" d=\"M 0 0 M92.2975 431.269 L97.1818 431.269 L97.1818 437.148 L92.2975 437.148 L92.2975 431.269 Z\" fill=\"#000000\" fill-rule=\"evenodd\" fill-opacity=\"1\" /><path clip-path=\"url(#clip960)\" d=\"M 0 0 M102.39 436.431 L102.39 432.171 Q104.149 433.005 105.955 433.444 Q107.76 433.884 109.497 433.884 Q114.126 433.884 116.557 430.782 Q119.01 427.657 119.358 421.315 Q118.015 423.306 115.955 424.37 Q113.895 425.435 111.395 425.435 Q106.209 425.435 103.177 422.31 Q100.168 419.162 100.168 413.722 Q100.168 408.398 103.316 405.181 Q106.464 401.963 111.696 401.963 Q117.691 401.963 120.839 406.57 Q124.01 411.153 124.01 419.903 Q124.01 428.074 120.121 432.958 Q116.256 437.819 109.705 437.819 Q107.946 437.819 106.14 437.472 Q104.334 437.125 102.39 436.431 M111.696 421.778 Q114.844 421.778 116.672 419.625 Q118.524 417.472 118.524 413.722 Q118.524 409.996 116.672 407.843 Q114.844 405.667 111.696 405.667 Q108.547 405.667 106.696 407.843 Q104.867 409.996 104.867 413.722 Q104.867 417.472 106.696 419.625 Q108.547 421.778 111.696 421.778 Z\" fill=\"#000000\" fill-rule=\"evenodd\" fill-opacity=\"1\" /><path clip-path=\"url(#clip960)\" d=\"M 0 0 M67.1356 101.321 L74.7745 101.321 L74.7745 74.9555 L66.4643 76.6222 L66.4643 72.3629 L74.7282 70.6963 L79.4041 70.6963 L79.4041 101.321 L87.0429 101.321 L87.0429 105.256 L67.1356 105.256 L67.1356 101.321 Z\" fill=\"#000000\" fill-rule=\"evenodd\" fill-opacity=\"1\" /><path clip-path=\"url(#clip960)\" d=\"M 0 0 M92.1123 99.3767 L96.9966 99.3767 L96.9966 105.256 L92.1123 105.256 L92.1123 99.3767 Z\" fill=\"#000000\" fill-rule=\"evenodd\" fill-opacity=\"1\" /><path clip-path=\"url(#clip960)\" d=\"M 0 0 M112.066 73.775 Q108.455 73.775 106.626 77.3398 Q104.821 80.8814 104.821 88.011 Q104.821 95.1174 106.626 98.6822 Q108.455 102.224 112.066 102.224 Q115.7 102.224 117.506 98.6822 Q119.334 95.1174 119.334 88.011 Q119.334 80.8814 117.506 77.3398 Q115.7 73.775 112.066 73.775 M112.066 70.0713 Q117.876 70.0713 120.932 74.6777 Q124.01 79.261 124.01 88.011 Q124.01 96.7378 120.932 101.344 Q117.876 105.928 112.066 105.928 Q106.256 105.928 103.177 101.344 Q100.122 96.7378 100.122 88.011 Q100.122 79.261 103.177 74.6777 Q106.256 70.0713 112.066 70.0713 Z\" fill=\"#000000\" fill-rule=\"evenodd\" fill-opacity=\"1\" /><polyline clip-path=\"url(#clip962)\" style=\"stroke:#009af9; stroke-width:4; stroke-opacity:1; fill:none\" points=\"\n",
       "  210.409,87.9763 240.996,87.9763 271.584,253.922 302.171,353.49 332.759,419.868 363.346,467.281 393.934,502.841 424.521,530.499 455.109,486.247 485.696,450.04 \n",
       "  516.284,475.183 546.871,598.579 577.459,562.108 608.046,574.751 638.634,544.328 669.221,556.529 699.808,567.376 730.396,507.208 760.983,486.247 791.571,467.281 \n",
       "  822.158,450.04 852.746,434.298 883.333,447.526 913.921,433.144 944.508,419.868 975.096,407.576 1005.68,419.868 1036.27,431.313 1066.86,419.868 1097.45,409.162 \n",
       "  1128.03,419.868 1158.62,409.811 1189.21,400.345 1219.8,391.42 1250.38,401.43 1280.97,392.958 1311.56,384.932 1342.15,377.318 1372.73,386.679 1403.32,395.583 \n",
       "  1433.91,388.259 1464.5,396.713 1495.08,389.696 1525.67,397.742 1556.26,391.008 1586.85,384.56 1617.43,378.382 1648.02,399.548 1678.61,393.317 1709.2,413.36 \n",
       "  1739.78,394.338 1770.37,413.606 1800.96,419.868 1831.55,401.765 1862.13,372.455 1892.72,402.4 1923.31,396.979 1953.9,402.992 1984.48,397.742 2015.07,403.546 \n",
       "  2045.66,398.456 2076.25,393.528 2106.83,388.753 2137.42,394.338 2168.01,389.696 2198.6,385.193 2229.18,380.822 2259.77,386.198 2290.36,381.938 \n",
       "  \"/>\n",
       "<polyline clip-path=\"url(#clip962)\" style=\"stroke:#e26f46; stroke-width:4; stroke-opacity:1; fill:none\" points=\"\n",
       "  210.409,1445.72 240.996,1257.14 271.584,653.701 302.171,540.556 332.759,502.841 363.346,502.841 393.934,465.126 424.521,465.126 455.109,465.126 485.696,502.841 \n",
       "  516.284,389.696 546.871,465.126 577.459,502.841 608.046,389.696 638.634,465.126 669.221,314.266 699.808,351.981 730.396,314.266 760.983,276.551 791.571,276.551 \n",
       "  822.158,314.266 852.746,314.266 883.333,314.266 913.921,314.266 944.508,276.551 975.096,314.266 1005.68,351.981 1036.27,314.266 1066.86,314.266 1097.45,314.266 \n",
       "  1128.03,314.266 1158.62,314.266 1189.21,276.551 1219.8,314.266 1250.38,314.266 1280.97,314.266 1311.56,314.266 1342.15,314.266 1372.73,314.266 1403.32,314.266 \n",
       "  1433.91,276.551 1464.5,276.551 1495.08,276.551 1525.67,276.551 1556.26,238.836 1586.85,276.551 1617.43,238.836 1648.02,238.836 1678.61,276.551 1709.2,314.266 \n",
       "  1739.78,314.266 1770.37,314.266 1800.96,314.266 1831.55,314.266 1862.13,276.551 1892.72,314.266 1923.31,314.266 1953.9,314.266 1984.48,276.551 2015.07,314.266 \n",
       "  2045.66,314.266 2076.25,314.266 2106.83,314.266 2137.42,314.266 2168.01,314.266 2198.6,314.266 2229.18,276.551 2259.77,314.266 2290.36,314.266 \n",
       "  \"/>\n",
       "<path clip-path=\"url(#clip960)\" d=\"\n",
       "M1983.27 276.658 L2279.26 276.658 L2279.26 95.2176 L1983.27 95.2176  Z\n",
       "  \" fill=\"#ffffff\" fill-rule=\"evenodd\" fill-opacity=\"1\"/>\n",
       "<polyline clip-path=\"url(#clip960)\" style=\"stroke:#000000; stroke-width:4; stroke-opacity:1; fill:none\" points=\"\n",
       "  1983.27,276.658 2279.26,276.658 2279.26,95.2176 1983.27,95.2176 1983.27,276.658 \n",
       "  \"/>\n",
       "<polyline clip-path=\"url(#clip960)\" style=\"stroke:#009af9; stroke-width:4; stroke-opacity:1; fill:none\" points=\"\n",
       "  2007.77,155.698 2154.75,155.698 \n",
       "  \"/>\n",
       "<path clip-path=\"url(#clip960)\" d=\"M 0 0 M2193.09 175.385 Q2191.29 180.015 2189.58 181.427 Q2187.86 182.839 2184.99 182.839 L2181.59 182.839 L2181.59 179.274 L2184.09 179.274 Q2185.85 179.274 2186.82 178.44 Q2187.79 177.607 2188.97 174.505 L2189.74 172.561 L2179.25 147.052 L2183.77 147.052 L2191.87 167.329 L2199.97 147.052 L2204.48 147.052 L2193.09 175.385 Z\" fill=\"#000000\" fill-rule=\"evenodd\" fill-opacity=\"1\" /><path clip-path=\"url(#clip960)\" d=\"M 0 0 M2210.36 169.042 L2218 169.042 L2218 142.677 L2209.69 144.343 L2209.69 140.084 L2217.96 138.418 L2222.63 138.418 L2222.63 169.042 L2230.27 169.042 L2230.27 172.978 L2210.36 172.978 L2210.36 169.042 Z\" fill=\"#000000\" fill-rule=\"evenodd\" fill-opacity=\"1\" /><polyline clip-path=\"url(#clip960)\" style=\"stroke:#e26f46; stroke-width:4; stroke-opacity:1; fill:none\" points=\"\n",
       "  2007.77,216.178 2154.75,216.178 \n",
       "  \"/>\n",
       "<path clip-path=\"url(#clip960)\" d=\"M 0 0 M2193.09 235.865 Q2191.29 240.495 2189.58 241.907 Q2187.86 243.319 2184.99 243.319 L2181.59 243.319 L2181.59 239.754 L2184.09 239.754 Q2185.85 239.754 2186.82 238.92 Q2187.79 238.087 2188.97 234.985 L2189.74 233.041 L2179.25 207.532 L2183.77 207.532 L2191.87 227.809 L2199.97 207.532 L2204.48 207.532 L2193.09 235.865 Z\" fill=\"#000000\" fill-rule=\"evenodd\" fill-opacity=\"1\" /><path clip-path=\"url(#clip960)\" d=\"M 0 0 M2213.58 229.522 L2229.9 229.522 L2229.9 233.458 L2207.96 233.458 L2207.96 229.522 Q2210.62 226.768 2215.2 222.138 Q2219.81 217.485 2220.99 216.143 Q2223.23 213.62 2224.11 211.884 Q2225.02 210.124 2225.02 208.435 Q2225.02 205.68 2223.07 203.944 Q2221.15 202.208 2218.05 202.208 Q2215.85 202.208 2213.4 202.972 Q2210.96 203.735 2208.19 205.286 L2208.19 200.564 Q2211.01 199.43 2213.46 198.851 Q2215.92 198.273 2217.96 198.273 Q2223.33 198.273 2226.52 200.958 Q2229.71 203.643 2229.71 208.134 Q2229.71 210.263 2228.9 212.185 Q2228.12 214.083 2226.01 216.675 Q2225.43 217.347 2222.33 220.564 Q2219.23 223.759 2213.58 229.522 Z\" fill=\"#000000\" fill-rule=\"evenodd\" fill-opacity=\"1\" /></svg>\n"
      ]
     },
     "execution_count": 124,
     "metadata": {},
     "output_type": "execute_result"
    }
   ],
   "source": [
    "plot(data_schedule, training_losses)\n",
    "plot!(data_schedule, valid_losses)"
   ]
  },
  {
   "cell_type": "code",
   "execution_count": 126,
   "metadata": {},
   "outputs": [],
   "source": [
    "png(\"learning_curve_nn_3000epochs_balance\")"
   ]
  },
  {
   "cell_type": "markdown",
   "metadata": {},
   "source": [
    "# Final Results"
   ]
  },
  {
   "cell_type": "code",
   "execution_count": 140,
   "metadata": {
    "scrolled": true
   },
   "outputs": [
    {
     "data": {
      "text/plain": [
       "NeuralNetworkClassifier(\n",
       "    builder = CustomNN(\n",
       "            n1 = 34),\n",
       "    finaliser = NNlib.softmax,\n",
       "    optimiser = ADAM(0.001, (0.9, 0.999), IdDict{Any,Any}()),\n",
       "    loss = Flux.crossentropy,\n",
       "    epochs = 10,\n",
       "    batch_size = 1,\n",
       "    lambda = 0.0,\n",
       "    alpha = 0.0,\n",
       "    optimiser_changes_trigger_retraining = false)\u001b[34m @789\u001b[39m"
      ]
     },
     "execution_count": 140,
     "metadata": {},
     "output_type": "execute_result"
    }
   ],
   "source": [
    "final_model = NeuralNetworkClassifier(builder=CustomNN(best_n1),\n",
    "                                        lambda = best_lambda,\n",
    "                                        epochs = 3000,\n",
    "                                        optimiser.eta = best_eta)"
   ]
  },
  {
   "cell_type": "markdown",
   "metadata": {},
   "source": [
    "### Test Performance"
   ]
  },
  {
   "cell_type": "code",
   "execution_count": 70,
   "metadata": {},
   "outputs": [
    {
     "data": {
      "text/plain": [
       "1000"
      ]
     },
     "execution_count": 70,
     "metadata": {},
     "output_type": "execute_result"
    }
   ],
   "source": [
    "final_model.optimiser.eta = 0.00032\n",
    "final_model.batch_size = 16\n",
    "final_model.lambda = 0.0021544346900318843\n",
    "final_model.epochs = 1000"
   ]
  },
  {
   "cell_type": "code",
   "execution_count": 71,
   "metadata": {},
   "outputs": [
    {
     "data": {
      "text/plain": [
       "\u001b[34mMachine{NeuralNetworkClassifier{CustomNN,…}} @036\u001b[39m trained 0 times.\n",
       "  args: \n",
       "    1:\t\u001b[34mSource @592\u001b[39m ⏎ `Table{AbstractArray{Continuous,1}}`\n",
       "    2:\t\u001b[34mSource @319\u001b[39m ⏎ `AbstractArray{Multiclass{2},1}`\n"
      ]
     },
     "execution_count": 71,
     "metadata": {},
     "output_type": "execute_result"
    }
   ],
   "source": [
    "Final_Net = machine(final_model, X_stand, y)"
   ]
  },
  {
   "cell_type": "code",
   "execution_count": 72,
   "metadata": {
    "scrolled": false
   },
   "outputs": [
    {
     "name": "stderr",
     "output_type": "stream",
     "text": [
      "┌ Info: Training \u001b[34mMachine{NeuralNetworkClassifier{CustomNN,…}} @036\u001b[39m.\n",
      "└ @ MLJBase /home/andrew/.julia/packages/MLJBase/uKzAz/src/machines.jl:319\n",
      "\u001b[33mOptimising neural net:100%[=========================] Time: 0:00:04\u001b[39m\n"
     ]
    },
    {
     "data": {
      "text/plain": [
       "\u001b[34mMachine{NeuralNetworkClassifier{CustomNN,…}} @036\u001b[39m trained 1 time.\n",
       "  args: \n",
       "    1:\t\u001b[34mSource @592\u001b[39m ⏎ `Table{AbstractArray{Continuous,1}}`\n",
       "    2:\t\u001b[34mSource @319\u001b[39m ⏎ `AbstractArray{Multiclass{2},1}`\n"
      ]
     },
     "execution_count": 72,
     "metadata": {},
     "output_type": "execute_result"
    }
   ],
   "source": [
    "fit!(Final_Net, rows=train, force=true, verbosity=1)"
   ]
  },
  {
   "cell_type": "code",
   "execution_count": 73,
   "metadata": {
    "scrolled": true
   },
   "outputs": [
    {
     "name": "stderr",
     "output_type": "stream",
     "text": [
      "┌ Info: Training \u001b[34mMachine{ProbabilisticTunedModel{Grid,…}} @863\u001b[39m.\n",
      "└ @ MLJBase /home/andrew/.julia/packages/MLJBase/uKzAz/src/machines.jl:319\n",
      "┌ Info: Attempting to evaluate 201 models.\n",
      "└ @ MLJTuning /home/andrew/.julia/packages/MLJTuning/Bbgvk/src/tuned_models.jl:494\n",
      "\u001b[33mEvaluating over 201 metamodels: 100%[=========================] Time: 0:00:04\u001b[39m\n"
     ]
    },
    {
     "data": {
      "text/plain": [
       "(parameter_name = \"epochs\",\n",
       " parameter_scale = :none,\n",
       " parameter_values = [0, 5, 10, 15, 20, 25, 30, 35, 40, 45  …  955, 960, 965, 970, 975, 980, 985, 990, 995, 1000],\n",
       " measurements = [0.7132737636566162, 0.5794021487236023, 0.49399223923683167, 0.44282054901123047, 0.41152235865592957, 0.39161020517349243, 0.3784363865852356, 0.3694179356098175, 0.3630272150039673, 0.35831645131111145  …  0.33712613582611084, 0.33711642026901245, 0.33710598945617676, 0.3370960056781769, 0.33708617091178894, 0.3370766043663025, 0.337067574262619, 0.33705905079841614, 0.3370507061481476, 0.3370422124862671],)"
      ]
     },
     "execution_count": 73,
     "metadata": {},
     "output_type": "execute_result"
    }
   ],
   "source": [
    "vals = collect(0:5:max_epochs)\n",
    "r = range(final_model, :epochs, values=vals)\n",
    "# r = range(nn2, :epochs, lower=0, upper=max_epochs)\n",
    "curve = learning_curve(Final_Net, \n",
    "                        range=r, \n",
    "                        resampling=Holdout(fraction_train=0.7), \n",
    "#                         resampling=CV(nfolds=4), \n",
    "                        measure=cross_entropy, \n",
    "                        acceleration=CPUThreads())"
   ]
  },
  {
   "cell_type": "code",
   "execution_count": 74,
   "metadata": {},
   "outputs": [
    {
     "data": {
      "image/svg+xml": [
       "<?xml version=\"1.0\" encoding=\"utf-8\"?>\n",
       "<svg xmlns=\"http://www.w3.org/2000/svg\" xmlns:xlink=\"http://www.w3.org/1999/xlink\" width=\"600\" height=\"400\" viewBox=\"0 0 2400 1600\">\n",
       "<defs>\n",
       "  <clipPath id=\"clip340\">\n",
       "    <rect x=\"0\" y=\"0\" width=\"2400\" height=\"1600\"/>\n",
       "  </clipPath>\n",
       "</defs>\n",
       "<path clip-path=\"url(#clip340)\" d=\"\n",
       "M0 1600 L2400 1600 L2400 0 L0 0  Z\n",
       "  \" fill=\"#ffffff\" fill-rule=\"evenodd\" fill-opacity=\"1\"/>\n",
       "<defs>\n",
       "  <clipPath id=\"clip341\">\n",
       "    <rect x=\"480\" y=\"0\" width=\"1681\" height=\"1600\"/>\n",
       "  </clipPath>\n",
       "</defs>\n",
       "<path clip-path=\"url(#clip340)\" d=\"\n",
       "M211.602 1423.18 L2352.76 1423.18 L2352.76 47.2441 L211.602 47.2441  Z\n",
       "  \" fill=\"#ffffff\" fill-rule=\"evenodd\" fill-opacity=\"1\"/>\n",
       "<defs>\n",
       "  <clipPath id=\"clip342\">\n",
       "    <rect x=\"211\" y=\"47\" width=\"2142\" height=\"1377\"/>\n",
       "  </clipPath>\n",
       "</defs>\n",
       "<polyline clip-path=\"url(#clip342)\" style=\"stroke:#000000; stroke-width:2; stroke-opacity:0.1; fill:none\" points=\"\n",
       "  272.201,1423.18 272.201,47.2441 \n",
       "  \"/>\n",
       "<polyline clip-path=\"url(#clip342)\" style=\"stroke:#000000; stroke-width:2; stroke-opacity:0.1; fill:none\" points=\"\n",
       "  777.19,1423.18 777.19,47.2441 \n",
       "  \"/>\n",
       "<polyline clip-path=\"url(#clip342)\" style=\"stroke:#000000; stroke-width:2; stroke-opacity:0.1; fill:none\" points=\"\n",
       "  1282.18,1423.18 1282.18,47.2441 \n",
       "  \"/>\n",
       "<polyline clip-path=\"url(#clip342)\" style=\"stroke:#000000; stroke-width:2; stroke-opacity:0.1; fill:none\" points=\"\n",
       "  1787.17,1423.18 1787.17,47.2441 \n",
       "  \"/>\n",
       "<polyline clip-path=\"url(#clip342)\" style=\"stroke:#000000; stroke-width:2; stroke-opacity:0.1; fill:none\" points=\"\n",
       "  2292.16,1423.18 2292.16,47.2441 \n",
       "  \"/>\n",
       "<polyline clip-path=\"url(#clip342)\" style=\"stroke:#000000; stroke-width:2; stroke-opacity:0.1; fill:none\" points=\"\n",
       "  211.602,1122.63 2352.76,1122.63 \n",
       "  \"/>\n",
       "<polyline clip-path=\"url(#clip342)\" style=\"stroke:#000000; stroke-width:2; stroke-opacity:0.1; fill:none\" points=\"\n",
       "  211.602,791.789 2352.76,791.789 \n",
       "  \"/>\n",
       "<polyline clip-path=\"url(#clip342)\" style=\"stroke:#000000; stroke-width:2; stroke-opacity:0.1; fill:none\" points=\"\n",
       "  211.602,460.945 2352.76,460.945 \n",
       "  \"/>\n",
       "<polyline clip-path=\"url(#clip342)\" style=\"stroke:#000000; stroke-width:2; stroke-opacity:0.1; fill:none\" points=\"\n",
       "  211.602,130.101 2352.76,130.101 \n",
       "  \"/>\n",
       "<polyline clip-path=\"url(#clip340)\" style=\"stroke:#000000; stroke-width:4; stroke-opacity:1; fill:none\" points=\"\n",
       "  211.602,1423.18 2352.76,1423.18 \n",
       "  \"/>\n",
       "<polyline clip-path=\"url(#clip340)\" style=\"stroke:#000000; stroke-width:4; stroke-opacity:1; fill:none\" points=\"\n",
       "  211.602,1423.18 211.602,47.2441 \n",
       "  \"/>\n",
       "<polyline clip-path=\"url(#clip340)\" style=\"stroke:#000000; stroke-width:4; stroke-opacity:1; fill:none\" points=\"\n",
       "  272.201,1423.18 272.201,1406.67 \n",
       "  \"/>\n",
       "<polyline clip-path=\"url(#clip340)\" style=\"stroke:#000000; stroke-width:4; stroke-opacity:1; fill:none\" points=\"\n",
       "  777.19,1423.18 777.19,1406.67 \n",
       "  \"/>\n",
       "<polyline clip-path=\"url(#clip340)\" style=\"stroke:#000000; stroke-width:4; stroke-opacity:1; fill:none\" points=\"\n",
       "  1282.18,1423.18 1282.18,1406.67 \n",
       "  \"/>\n",
       "<polyline clip-path=\"url(#clip340)\" style=\"stroke:#000000; stroke-width:4; stroke-opacity:1; fill:none\" points=\"\n",
       "  1787.17,1423.18 1787.17,1406.67 \n",
       "  \"/>\n",
       "<polyline clip-path=\"url(#clip340)\" style=\"stroke:#000000; stroke-width:4; stroke-opacity:1; fill:none\" points=\"\n",
       "  2292.16,1423.18 2292.16,1406.67 \n",
       "  \"/>\n",
       "<polyline clip-path=\"url(#clip340)\" style=\"stroke:#000000; stroke-width:4; stroke-opacity:1; fill:none\" points=\"\n",
       "  211.602,1122.63 237.296,1122.63 \n",
       "  \"/>\n",
       "<polyline clip-path=\"url(#clip340)\" style=\"stroke:#000000; stroke-width:4; stroke-opacity:1; fill:none\" points=\"\n",
       "  211.602,791.789 237.296,791.789 \n",
       "  \"/>\n",
       "<polyline clip-path=\"url(#clip340)\" style=\"stroke:#000000; stroke-width:4; stroke-opacity:1; fill:none\" points=\"\n",
       "  211.602,460.945 237.296,460.945 \n",
       "  \"/>\n",
       "<polyline clip-path=\"url(#clip340)\" style=\"stroke:#000000; stroke-width:4; stroke-opacity:1; fill:none\" points=\"\n",
       "  211.602,130.101 237.296,130.101 \n",
       "  \"/>\n",
       "<path clip-path=\"url(#clip340)\" d=\"M 0 0 M272.201 1445.17 Q268.59 1445.17 266.761 1448.74 Q264.956 1452.28 264.956 1459.41 Q264.956 1466.51 266.761 1470.08 Q268.59 1473.62 272.201 1473.62 Q275.835 1473.62 277.641 1470.08 Q279.47 1466.51 279.47 1459.41 Q279.47 1452.28 277.641 1448.74 Q275.835 1445.17 272.201 1445.17 M272.201 1441.47 Q278.011 1441.47 281.067 1446.07 Q284.145 1450.66 284.145 1459.41 Q284.145 1468.13 281.067 1472.74 Q278.011 1477.32 272.201 1477.32 Q266.391 1477.32 263.312 1472.74 Q260.257 1468.13 260.257 1459.41 Q260.257 1450.66 263.312 1446.07 Q266.391 1441.47 272.201 1441.47 Z\" fill=\"#000000\" fill-rule=\"evenodd\" fill-opacity=\"1\" /><path clip-path=\"url(#clip340)\" d=\"M 0 0 M745.327 1472.72 L761.646 1472.72 L761.646 1476.65 L739.702 1476.65 L739.702 1472.72 Q742.364 1469.96 746.947 1465.33 Q751.554 1460.68 752.734 1459.34 Q754.98 1456.81 755.859 1455.08 Q756.762 1453.32 756.762 1451.63 Q756.762 1448.87 754.818 1447.14 Q752.896 1445.4 749.794 1445.4 Q747.595 1445.4 745.142 1446.17 Q742.711 1446.93 739.933 1448.48 L739.933 1443.76 Q742.757 1442.62 745.211 1442.05 Q747.665 1441.47 749.702 1441.47 Q755.072 1441.47 758.267 1444.15 Q761.461 1446.84 761.461 1451.33 Q761.461 1453.46 760.651 1455.38 Q759.864 1457.28 757.757 1459.87 Q757.179 1460.54 754.077 1463.76 Q750.975 1466.95 745.327 1472.72 Z\" fill=\"#000000\" fill-rule=\"evenodd\" fill-opacity=\"1\" /><path clip-path=\"url(#clip340)\" d=\"M 0 0 M766.762 1442.09 L785.118 1442.09 L785.118 1446.03 L771.044 1446.03 L771.044 1454.5 Q772.063 1454.15 773.081 1453.99 Q774.1 1453.8 775.118 1453.8 Q780.905 1453.8 784.285 1456.98 Q787.665 1460.15 787.665 1465.56 Q787.665 1471.14 784.192 1474.24 Q780.72 1477.32 774.401 1477.32 Q772.225 1477.32 769.956 1476.95 Q767.711 1476.58 765.304 1475.84 L765.304 1471.14 Q767.387 1472.28 769.609 1472.83 Q771.831 1473.39 774.308 1473.39 Q778.313 1473.39 780.651 1471.28 Q782.989 1469.18 782.989 1465.56 Q782.989 1461.95 780.651 1459.85 Q778.313 1457.74 774.308 1457.74 Q772.433 1457.74 770.558 1458.16 Q768.706 1458.57 766.762 1459.45 L766.762 1442.09 Z\" fill=\"#000000\" fill-rule=\"evenodd\" fill-opacity=\"1\" /><path clip-path=\"url(#clip340)\" d=\"M 0 0 M802.734 1445.17 Q799.123 1445.17 797.294 1448.74 Q795.489 1452.28 795.489 1459.41 Q795.489 1466.51 797.294 1470.08 Q799.123 1473.62 802.734 1473.62 Q806.368 1473.62 808.174 1470.08 Q810.002 1466.51 810.002 1459.41 Q810.002 1452.28 808.174 1448.74 Q806.368 1445.17 802.734 1445.17 M802.734 1441.47 Q808.544 1441.47 811.6 1446.07 Q814.678 1450.66 814.678 1459.41 Q814.678 1468.13 811.6 1472.74 Q808.544 1477.32 802.734 1477.32 Q796.924 1477.32 793.845 1472.74 Q790.79 1468.13 790.79 1459.41 Q790.79 1450.66 793.845 1446.07 Q796.924 1441.47 802.734 1441.47 Z\" fill=\"#000000\" fill-rule=\"evenodd\" fill-opacity=\"1\" /><path clip-path=\"url(#clip340)\" d=\"M 0 0 M1245.44 1442.09 L1263.8 1442.09 L1263.8 1446.03 L1249.73 1446.03 L1249.73 1454.5 Q1250.74 1454.15 1251.76 1453.99 Q1252.78 1453.8 1253.8 1453.8 Q1259.59 1453.8 1262.97 1456.98 Q1266.35 1460.15 1266.35 1465.56 Q1266.35 1471.14 1262.87 1474.24 Q1259.4 1477.32 1253.08 1477.32 Q1250.91 1477.32 1248.64 1476.95 Q1246.39 1476.58 1243.98 1475.84 L1243.98 1471.14 Q1246.07 1472.28 1248.29 1472.83 Q1250.51 1473.39 1252.99 1473.39 Q1256.99 1473.39 1259.33 1471.28 Q1261.67 1469.18 1261.67 1465.56 Q1261.67 1461.95 1259.33 1459.85 Q1256.99 1457.74 1252.99 1457.74 Q1251.11 1457.74 1249.24 1458.16 Q1247.39 1458.57 1245.44 1459.45 L1245.44 1442.09 Z\" fill=\"#000000\" fill-rule=\"evenodd\" fill-opacity=\"1\" /><path clip-path=\"url(#clip340)\" d=\"M 0 0 M1281.42 1445.17 Q1277.8 1445.17 1275.98 1448.74 Q1274.17 1452.28 1274.17 1459.41 Q1274.17 1466.51 1275.98 1470.08 Q1277.8 1473.62 1281.42 1473.62 Q1285.05 1473.62 1286.86 1470.08 Q1288.68 1466.51 1288.68 1459.41 Q1288.68 1452.28 1286.86 1448.74 Q1285.05 1445.17 1281.42 1445.17 M1281.42 1441.47 Q1287.23 1441.47 1290.28 1446.07 Q1293.36 1450.66 1293.36 1459.41 Q1293.36 1468.13 1290.28 1472.74 Q1287.23 1477.32 1281.42 1477.32 Q1275.61 1477.32 1272.53 1472.74 Q1269.47 1468.13 1269.47 1459.41 Q1269.47 1450.66 1272.53 1446.07 Q1275.61 1441.47 1281.42 1441.47 Z\" fill=\"#000000\" fill-rule=\"evenodd\" fill-opacity=\"1\" /><path clip-path=\"url(#clip340)\" d=\"M 0 0 M1308.43 1445.17 Q1304.82 1445.17 1302.99 1448.74 Q1301.18 1452.28 1301.18 1459.41 Q1301.18 1466.51 1302.99 1470.08 Q1304.82 1473.62 1308.43 1473.62 Q1312.06 1473.62 1313.87 1470.08 Q1315.7 1466.51 1315.7 1459.41 Q1315.7 1452.28 1313.87 1448.74 Q1312.06 1445.17 1308.43 1445.17 M1308.43 1441.47 Q1314.24 1441.47 1317.29 1446.07 Q1320.37 1450.66 1320.37 1459.41 Q1320.37 1468.13 1317.29 1472.74 Q1314.24 1477.32 1308.43 1477.32 Q1302.62 1477.32 1299.54 1472.74 Q1296.48 1468.13 1296.48 1459.41 Q1296.48 1450.66 1299.54 1446.07 Q1302.62 1441.47 1308.43 1441.47 Z\" fill=\"#000000\" fill-rule=\"evenodd\" fill-opacity=\"1\" /><path clip-path=\"url(#clip340)\" d=\"M 0 0 M1749.54 1442.09 L1771.76 1442.09 L1771.76 1444.08 L1759.22 1476.65 L1754.33 1476.65 L1766.14 1446.03 L1749.54 1446.03 L1749.54 1442.09 Z\" fill=\"#000000\" fill-rule=\"evenodd\" fill-opacity=\"1\" /><path clip-path=\"url(#clip340)\" d=\"M 0 0 M1776.88 1442.09 L1795.24 1442.09 L1795.24 1446.03 L1781.16 1446.03 L1781.16 1454.5 Q1782.18 1454.15 1783.2 1453.99 Q1784.22 1453.8 1785.24 1453.8 Q1791.02 1453.8 1794.4 1456.98 Q1797.78 1460.15 1797.78 1465.56 Q1797.78 1471.14 1794.31 1474.24 Q1790.84 1477.32 1784.52 1477.32 Q1782.34 1477.32 1780.07 1476.95 Q1777.83 1476.58 1775.42 1475.84 L1775.42 1471.14 Q1777.5 1472.28 1779.73 1472.83 Q1781.95 1473.39 1784.43 1473.39 Q1788.43 1473.39 1790.77 1471.28 Q1793.11 1469.18 1793.11 1465.56 Q1793.11 1461.95 1790.77 1459.85 Q1788.43 1457.74 1784.43 1457.74 Q1782.55 1457.74 1780.68 1458.16 Q1778.82 1458.57 1776.88 1459.45 L1776.88 1442.09 Z\" fill=\"#000000\" fill-rule=\"evenodd\" fill-opacity=\"1\" /><path clip-path=\"url(#clip340)\" d=\"M 0 0 M1812.85 1445.17 Q1809.24 1445.17 1807.41 1448.74 Q1805.61 1452.28 1805.61 1459.41 Q1805.61 1466.51 1807.41 1470.08 Q1809.24 1473.62 1812.85 1473.62 Q1816.49 1473.62 1818.29 1470.08 Q1820.12 1466.51 1820.12 1459.41 Q1820.12 1452.28 1818.29 1448.74 Q1816.49 1445.17 1812.85 1445.17 M1812.85 1441.47 Q1818.66 1441.47 1821.72 1446.07 Q1824.8 1450.66 1824.8 1459.41 Q1824.8 1468.13 1821.72 1472.74 Q1818.66 1477.32 1812.85 1477.32 Q1807.04 1477.32 1803.96 1472.74 Q1800.91 1468.13 1800.91 1459.41 Q1800.91 1450.66 1803.96 1446.07 Q1807.04 1441.47 1812.85 1441.47 Z\" fill=\"#000000\" fill-rule=\"evenodd\" fill-opacity=\"1\" /><path clip-path=\"url(#clip340)\" d=\"M 0 0 M2242.02 1472.72 L2249.66 1472.72 L2249.66 1446.35 L2241.35 1448.02 L2241.35 1443.76 L2249.61 1442.09 L2254.29 1442.09 L2254.29 1472.72 L2261.93 1472.72 L2261.93 1476.65 L2242.02 1476.65 L2242.02 1472.72 Z\" fill=\"#000000\" fill-rule=\"evenodd\" fill-opacity=\"1\" /><path clip-path=\"url(#clip340)\" d=\"M 0 0 M2277 1445.17 Q2273.38 1445.17 2271.56 1448.74 Q2269.75 1452.28 2269.75 1459.41 Q2269.75 1466.51 2271.56 1470.08 Q2273.38 1473.62 2277 1473.62 Q2280.63 1473.62 2282.44 1470.08 Q2284.26 1466.51 2284.26 1459.41 Q2284.26 1452.28 2282.44 1448.74 Q2280.63 1445.17 2277 1445.17 M2277 1441.47 Q2282.81 1441.47 2285.86 1446.07 Q2288.94 1450.66 2288.94 1459.41 Q2288.94 1468.13 2285.86 1472.74 Q2282.81 1477.32 2277 1477.32 Q2271.19 1477.32 2268.11 1472.74 Q2265.05 1468.13 2265.05 1459.41 Q2265.05 1450.66 2268.11 1446.07 Q2271.19 1441.47 2277 1441.47 Z\" fill=\"#000000\" fill-rule=\"evenodd\" fill-opacity=\"1\" /><path clip-path=\"url(#clip340)\" d=\"M 0 0 M2304.01 1445.17 Q2300.4 1445.17 2298.57 1448.74 Q2296.76 1452.28 2296.76 1459.41 Q2296.76 1466.51 2298.57 1470.08 Q2300.4 1473.62 2304.01 1473.62 Q2307.64 1473.62 2309.45 1470.08 Q2311.28 1466.51 2311.28 1459.41 Q2311.28 1452.28 2309.45 1448.74 Q2307.64 1445.17 2304.01 1445.17 M2304.01 1441.47 Q2309.82 1441.47 2312.87 1446.07 Q2315.95 1450.66 2315.95 1459.41 Q2315.95 1468.13 2312.87 1472.74 Q2309.82 1477.32 2304.01 1477.32 Q2298.2 1477.32 2295.12 1472.74 Q2292.06 1468.13 2292.06 1459.41 Q2292.06 1450.66 2295.12 1446.07 Q2298.2 1441.47 2304.01 1441.47 Z\" fill=\"#000000\" fill-rule=\"evenodd\" fill-opacity=\"1\" /><path clip-path=\"url(#clip340)\" d=\"M 0 0 M2331.02 1445.17 Q2327.41 1445.17 2325.58 1448.74 Q2323.78 1452.28 2323.78 1459.41 Q2323.78 1466.51 2325.58 1470.08 Q2327.41 1473.62 2331.02 1473.62 Q2334.66 1473.62 2336.46 1470.08 Q2338.29 1466.51 2338.29 1459.41 Q2338.29 1452.28 2336.46 1448.74 Q2334.66 1445.17 2331.02 1445.17 M2331.02 1441.47 Q2336.83 1441.47 2339.89 1446.07 Q2342.97 1450.66 2342.97 1459.41 Q2342.97 1468.13 2339.89 1472.74 Q2336.83 1477.32 2331.02 1477.32 Q2325.21 1477.32 2322.13 1472.74 Q2319.08 1468.13 2319.08 1459.41 Q2319.08 1450.66 2322.13 1446.07 Q2325.21 1441.47 2331.02 1441.47 Z\" fill=\"#000000\" fill-rule=\"evenodd\" fill-opacity=\"1\" /><path clip-path=\"url(#clip340)\" d=\"M 0 0 M138.205 1108.43 Q134.593 1108.43 132.765 1112 Q130.959 1115.54 130.959 1122.67 Q130.959 1129.77 132.765 1133.34 Q134.593 1136.88 138.205 1136.88 Q141.839 1136.88 143.644 1133.34 Q145.473 1129.77 145.473 1122.67 Q145.473 1115.54 143.644 1112 Q141.839 1108.43 138.205 1108.43 M138.205 1104.73 Q144.015 1104.73 147.07 1109.34 Q150.149 1113.92 150.149 1122.67 Q150.149 1131.4 147.07 1136 Q144.015 1140.58 138.205 1140.58 Q132.394 1140.58 129.316 1136 Q126.26 1131.4 126.26 1122.67 Q126.26 1113.92 129.316 1109.34 Q132.394 1104.73 138.205 1104.73 Z\" fill=\"#000000\" fill-rule=\"evenodd\" fill-opacity=\"1\" /><path clip-path=\"url(#clip340)\" d=\"M 0 0 M155.218 1134.03 L160.103 1134.03 L160.103 1139.91 L155.218 1139.91 L155.218 1134.03 Z\" fill=\"#000000\" fill-rule=\"evenodd\" fill-opacity=\"1\" /><path clip-path=\"url(#clip340)\" d=\"M 0 0 M178.019 1109.43 L166.214 1127.88 L178.019 1127.88 L178.019 1109.43 M176.792 1105.35 L182.672 1105.35 L182.672 1127.88 L187.602 1127.88 L187.602 1131.77 L182.672 1131.77 L182.672 1139.91 L178.019 1139.91 L178.019 1131.77 L162.417 1131.77 L162.417 1127.25 L176.792 1105.35 Z\" fill=\"#000000\" fill-rule=\"evenodd\" fill-opacity=\"1\" /><path clip-path=\"url(#clip340)\" d=\"M 0 0 M139.686 777.588 Q136.075 777.588 134.246 781.153 Q132.441 784.695 132.441 791.824 Q132.441 798.931 134.246 802.495 Q136.075 806.037 139.686 806.037 Q143.32 806.037 145.126 802.495 Q146.954 798.931 146.954 791.824 Q146.954 784.695 145.126 781.153 Q143.32 777.588 139.686 777.588 M139.686 773.884 Q145.496 773.884 148.552 778.491 Q151.63 783.074 151.63 791.824 Q151.63 800.551 148.552 805.157 Q145.496 809.741 139.686 809.741 Q133.876 809.741 130.797 805.157 Q127.742 800.551 127.742 791.824 Q127.742 783.074 130.797 778.491 Q133.876 773.884 139.686 773.884 Z\" fill=\"#000000\" fill-rule=\"evenodd\" fill-opacity=\"1\" /><path clip-path=\"url(#clip340)\" d=\"M 0 0 M156.7 803.19 L161.584 803.19 L161.584 809.069 L156.7 809.069 L156.7 803.19 Z\" fill=\"#000000\" fill-rule=\"evenodd\" fill-opacity=\"1\" /><path clip-path=\"url(#clip340)\" d=\"M 0 0 M166.7 774.509 L185.056 774.509 L185.056 778.445 L170.982 778.445 L170.982 786.917 Q172.001 786.57 173.019 786.408 Q174.038 786.222 175.056 786.222 Q180.843 786.222 184.223 789.394 Q187.602 792.565 187.602 797.982 Q187.602 803.56 184.13 806.662 Q180.658 809.741 174.339 809.741 Q172.163 809.741 169.894 809.37 Q167.649 809 165.241 808.259 L165.241 803.56 Q167.325 804.694 169.547 805.25 Q171.769 805.806 174.246 805.806 Q178.251 805.806 180.589 803.699 Q182.927 801.593 182.927 797.982 Q182.927 794.37 180.589 792.264 Q178.251 790.158 174.246 790.158 Q172.371 790.158 170.496 790.574 Q168.644 790.991 166.7 791.87 L166.7 774.509 Z\" fill=\"#000000\" fill-rule=\"evenodd\" fill-opacity=\"1\" /><path clip-path=\"url(#clip340)\" d=\"M 0 0 M138.529 446.744 Q134.918 446.744 133.089 450.309 Q131.283 453.85 131.283 460.98 Q131.283 468.086 133.089 471.651 Q134.918 475.193 138.529 475.193 Q142.163 475.193 143.968 471.651 Q145.797 468.086 145.797 460.98 Q145.797 453.85 143.968 450.309 Q142.163 446.744 138.529 446.744 M138.529 443.04 Q144.339 443.04 147.394 447.647 Q150.473 452.23 150.473 460.98 Q150.473 469.707 147.394 474.313 Q144.339 478.897 138.529 478.897 Q132.718 478.897 129.64 474.313 Q126.584 469.707 126.584 460.98 Q126.584 452.23 129.64 447.647 Q132.718 443.04 138.529 443.04 Z\" fill=\"#000000\" fill-rule=\"evenodd\" fill-opacity=\"1\" /><path clip-path=\"url(#clip340)\" d=\"M 0 0 M155.542 472.346 L160.427 472.346 L160.427 478.225 L155.542 478.225 L155.542 472.346 Z\" fill=\"#000000\" fill-rule=\"evenodd\" fill-opacity=\"1\" /><path clip-path=\"url(#clip340)\" d=\"M 0 0 M176.075 459.082 Q172.927 459.082 171.075 461.235 Q169.246 463.387 169.246 467.137 Q169.246 470.864 171.075 473.04 Q172.927 475.193 176.075 475.193 Q179.223 475.193 181.052 473.04 Q182.903 470.864 182.903 467.137 Q182.903 463.387 181.052 461.235 Q179.223 459.082 176.075 459.082 M185.357 444.429 L185.357 448.688 Q183.598 447.855 181.792 447.415 Q180.01 446.975 178.251 446.975 Q173.621 446.975 171.167 450.1 Q168.737 453.225 168.39 459.545 Q169.755 457.531 171.815 456.466 Q173.876 455.378 176.352 455.378 Q181.561 455.378 184.57 458.549 Q187.602 461.698 187.602 467.137 Q187.602 472.461 184.454 475.679 Q181.306 478.897 176.075 478.897 Q170.079 478.897 166.908 474.313 Q163.737 469.707 163.737 460.98 Q163.737 452.786 167.626 447.925 Q171.515 443.04 178.065 443.04 Q179.825 443.04 181.607 443.388 Q183.413 443.735 185.357 444.429 Z\" fill=\"#000000\" fill-rule=\"evenodd\" fill-opacity=\"1\" /><path clip-path=\"url(#clip340)\" d=\"M 0 0 M139.593 115.9 Q135.982 115.9 134.154 119.465 Q132.348 123.006 132.348 130.136 Q132.348 137.242 134.154 140.807 Q135.982 144.349 139.593 144.349 Q143.228 144.349 145.033 140.807 Q146.862 137.242 146.862 130.136 Q146.862 123.006 145.033 119.465 Q143.228 115.9 139.593 115.9 M139.593 112.196 Q145.404 112.196 148.459 116.803 Q151.538 121.386 151.538 130.136 Q151.538 138.863 148.459 143.469 Q145.404 148.052 139.593 148.052 Q133.783 148.052 130.705 143.469 Q127.649 138.863 127.649 130.136 Q127.649 121.386 130.705 116.803 Q133.783 112.196 139.593 112.196 Z\" fill=\"#000000\" fill-rule=\"evenodd\" fill-opacity=\"1\" /><path clip-path=\"url(#clip340)\" d=\"M 0 0 M156.607 141.502 L161.491 141.502 L161.491 147.381 L156.607 147.381 L156.607 141.502 Z\" fill=\"#000000\" fill-rule=\"evenodd\" fill-opacity=\"1\" /><path clip-path=\"url(#clip340)\" d=\"M 0 0 M165.38 112.821 L187.602 112.821 L187.602 114.812 L175.056 147.381 L170.172 147.381 L181.977 116.756 L165.38 116.756 L165.38 112.821 Z\" fill=\"#000000\" fill-rule=\"evenodd\" fill-opacity=\"1\" /><path clip-path=\"url(#clip340)\" d=\"M 0 0 M1212.46 1536.76 L1212.46 1539.62 L1185.53 1539.62 Q1185.91 1545.67 1189.16 1548.85 Q1192.44 1552 1198.26 1552 Q1201.64 1552 1204.79 1551.17 Q1207.97 1550.35 1211.09 1548.69 L1211.09 1554.23 Q1207.94 1555.57 1204.63 1556.27 Q1201.32 1556.97 1197.91 1556.97 Q1189.38 1556.97 1184.39 1552 Q1179.42 1547.04 1179.42 1538.57 Q1179.42 1529.82 1184.13 1524.69 Q1188.87 1519.54 1196.89 1519.54 Q1204.09 1519.54 1208.26 1524.18 Q1212.46 1528.8 1212.46 1536.76 M1206.6 1535.04 Q1206.54 1530.23 1203.9 1527.37 Q1201.29 1524.5 1196.96 1524.5 Q1192.06 1524.5 1189.1 1527.27 Q1186.17 1530.04 1185.72 1535.07 L1206.6 1535.04 Z\" fill=\"#000000\" fill-rule=\"evenodd\" fill-opacity=\"1\" /><path clip-path=\"url(#clip340)\" d=\"M 0 0 M1224.27 1550.7 L1224.27 1569.6 L1218.38 1569.6 L1218.38 1520.4 L1224.27 1520.4 L1224.27 1525.81 Q1226.11 1522.62 1228.91 1521.1 Q1231.75 1519.54 1235.66 1519.54 Q1242.15 1519.54 1246.2 1524.69 Q1250.27 1529.85 1250.27 1538.25 Q1250.27 1546.65 1246.2 1551.81 Q1242.15 1556.97 1235.66 1556.97 Q1231.75 1556.97 1228.91 1555.44 Q1226.11 1553.88 1224.27 1550.7 M1244.19 1538.25 Q1244.19 1531.79 1241.52 1528.13 Q1238.88 1524.44 1234.23 1524.44 Q1229.58 1524.44 1226.91 1528.13 Q1224.27 1531.79 1224.27 1538.25 Q1224.27 1544.71 1226.91 1548.4 Q1229.58 1552.07 1234.23 1552.07 Q1238.88 1552.07 1241.52 1548.4 Q1244.19 1544.71 1244.19 1538.25 Z\" fill=\"#000000\" fill-rule=\"evenodd\" fill-opacity=\"1\" /><path clip-path=\"url(#clip340)\" d=\"M 0 0 M1270.23 1524.5 Q1265.52 1524.5 1262.78 1528.19 Q1260.04 1531.85 1260.04 1538.25 Q1260.04 1544.65 1262.75 1548.34 Q1265.49 1552 1270.23 1552 Q1274.91 1552 1277.64 1548.31 Q1280.38 1544.62 1280.38 1538.25 Q1280.38 1531.92 1277.64 1528.23 Q1274.91 1524.5 1270.23 1524.5 M1270.23 1519.54 Q1277.87 1519.54 1282.23 1524.5 Q1286.59 1529.47 1286.59 1538.25 Q1286.59 1547 1282.23 1552 Q1277.87 1556.97 1270.23 1556.97 Q1262.56 1556.97 1258.2 1552 Q1253.87 1547 1253.87 1538.25 Q1253.87 1529.47 1258.2 1524.5 Q1262.56 1519.54 1270.23 1519.54 Z\" fill=\"#000000\" fill-rule=\"evenodd\" fill-opacity=\"1\" /><path clip-path=\"url(#clip340)\" d=\"M 0 0 M1318.38 1521.76 L1318.38 1527.24 Q1315.9 1525.87 1313.39 1525.2 Q1310.9 1524.5 1308.36 1524.5 Q1302.66 1524.5 1299.51 1528.13 Q1296.36 1531.73 1296.36 1538.25 Q1296.36 1544.78 1299.51 1548.4 Q1302.66 1552 1308.36 1552 Q1310.9 1552 1313.39 1551.33 Q1315.9 1550.63 1318.38 1549.26 L1318.38 1554.68 Q1315.93 1555.82 1313.29 1556.39 Q1310.68 1556.97 1307.72 1556.97 Q1299.67 1556.97 1294.93 1551.91 Q1290.18 1546.85 1290.18 1538.25 Q1290.18 1529.53 1294.96 1524.53 Q1299.76 1519.54 1308.1 1519.54 Q1310.81 1519.54 1313.39 1520.11 Q1315.97 1520.65 1318.38 1521.76 Z\" fill=\"#000000\" fill-rule=\"evenodd\" fill-opacity=\"1\" /><path clip-path=\"url(#clip340)\" d=\"M 0 0 M1354.16 1534.53 L1354.16 1556.04 L1348.3 1556.04 L1348.3 1534.72 Q1348.3 1529.66 1346.33 1527.14 Q1344.36 1524.63 1340.41 1524.63 Q1335.67 1524.63 1332.93 1527.65 Q1330.19 1530.68 1330.19 1535.9 L1330.19 1556.04 L1324.3 1556.04 L1324.3 1506.52 L1330.19 1506.52 L1330.19 1525.93 Q1332.29 1522.72 1335.13 1521.13 Q1337.99 1519.54 1341.71 1519.54 Q1347.86 1519.54 1351.01 1523.36 Q1354.16 1527.14 1354.16 1534.53 Z\" fill=\"#000000\" fill-rule=\"evenodd\" fill-opacity=\"1\" /><path clip-path=\"url(#clip340)\" d=\"M 0 0 M1383.03 1521.45 L1383.03 1526.98 Q1380.55 1525.71 1377.87 1525.07 Q1375.2 1524.44 1372.33 1524.44 Q1367.97 1524.44 1365.78 1525.77 Q1363.61 1527.11 1363.61 1529.79 Q1363.61 1531.82 1365.17 1533 Q1366.73 1534.15 1371.44 1535.2 L1373.45 1535.64 Q1379.69 1536.98 1382.3 1539.43 Q1384.94 1541.85 1384.94 1546.21 Q1384.94 1551.17 1380.99 1554.07 Q1377.08 1556.97 1370.2 1556.97 Q1367.34 1556.97 1364.22 1556.39 Q1361.13 1555.85 1357.69 1554.74 L1357.69 1548.69 Q1360.94 1550.38 1364.09 1551.24 Q1367.24 1552.07 1370.33 1552.07 Q1374.47 1552.07 1376.69 1550.66 Q1378.92 1549.23 1378.92 1546.65 Q1378.92 1544.27 1377.3 1542.99 Q1375.71 1541.72 1370.26 1540.54 L1368.23 1540.07 Q1362.78 1538.92 1360.37 1536.56 Q1357.95 1534.18 1357.95 1530.04 Q1357.95 1525.01 1361.51 1522.27 Q1365.08 1519.54 1371.63 1519.54 Q1374.88 1519.54 1377.74 1520.01 Q1380.61 1520.49 1383.03 1521.45 Z\" fill=\"#000000\" fill-rule=\"evenodd\" fill-opacity=\"1\" /><path clip-path=\"url(#clip340)\" d=\"M 0 0 M44.1444 904.492 L50.9239 904.492 Q47.9002 907.739 46.4043 911.431 Q44.9083 915.091 44.9083 919.229 Q44.9083 927.377 49.9054 931.705 Q54.8707 936.034 64.2919 936.034 Q73.6813 936.034 78.6784 931.705 Q83.6436 927.377 83.6436 919.229 Q83.6436 915.091 82.1477 911.431 Q80.6518 907.739 77.6281 904.492 L84.3439 904.492 Q86.6355 907.866 87.7814 911.653 Q88.9272 915.409 88.9272 919.611 Q88.9272 930.4 82.3387 936.607 Q75.7183 942.814 64.2919 942.814 Q52.8336 942.814 46.2451 936.607 Q39.6248 930.4 39.6248 919.611 Q39.6248 915.346 40.7706 911.59 Q41.8846 907.802 44.1444 904.492 Z\" fill=\"#000000\" fill-rule=\"evenodd\" fill-opacity=\"1\" /><path clip-path=\"url(#clip340)\" d=\"M 0 0 M57.8307 877.692 Q57.2578 878.679 57.0032 879.857 Q56.7167 881.003 56.7167 882.403 Q56.7167 887.368 59.9632 890.042 Q63.1779 892.684 69.2253 892.684 L88.0042 892.684 L88.0042 898.572 L52.3562 898.572 L52.3562 892.684 L57.8944 892.684 Q54.6479 890.838 53.0883 887.878 Q51.4968 884.917 51.4968 880.684 Q51.4968 880.08 51.5923 879.347 Q51.656 878.615 51.8151 877.724 L57.8307 877.692 Z\" fill=\"#000000\" fill-rule=\"evenodd\" fill-opacity=\"1\" /><path clip-path=\"url(#clip340)\" d=\"M 0 0 M56.4621 859.168 Q56.4621 863.879 60.1542 866.616 Q63.8145 869.353 70.212 869.353 Q76.6095 869.353 80.3017 866.648 Q83.9619 863.911 83.9619 859.168 Q83.9619 854.489 80.2698 851.752 Q76.5777 849.015 70.212 849.015 Q63.8781 849.015 60.186 851.752 Q56.4621 854.489 56.4621 859.168 M51.4968 859.168 Q51.4968 851.529 56.4621 847.169 Q61.4273 842.808 70.212 842.808 Q78.9649 842.808 83.9619 847.169 Q88.9272 851.529 88.9272 859.168 Q88.9272 866.839 83.9619 871.199 Q78.9649 875.528 70.212 875.528 Q61.4273 875.528 56.4621 871.199 Q51.4968 866.839 51.4968 859.168 Z\" fill=\"#000000\" fill-rule=\"evenodd\" fill-opacity=\"1\" /><path clip-path=\"url(#clip340)\" d=\"M 0 0 M53.4065 813.94 L58.9447 813.94 Q57.6716 816.422 57.035 819.096 Q56.3984 821.77 56.3984 824.634 Q56.3984 828.995 57.7352 831.191 Q59.072 833.355 61.7456 833.355 Q63.7826 833.355 64.9603 831.796 Q66.1061 830.236 67.1565 825.525 L67.6021 823.52 Q68.9389 817.282 71.3897 814.672 Q73.8086 812.03 78.1691 812.03 Q83.1344 812.03 86.0308 815.977 Q88.9272 819.892 88.9272 826.767 Q88.9272 829.631 88.3543 832.751 Q87.8132 835.838 86.6992 839.275 L80.6518 839.275 Q82.3387 836.029 83.198 832.878 Q84.0256 829.727 84.0256 826.639 Q84.0256 822.502 82.6251 820.274 Q81.1929 818.046 78.6147 818.046 Q76.2276 818.046 74.9545 819.669 Q73.6813 821.26 72.5037 826.703 L72.0262 828.74 Q70.8804 834.183 68.5251 836.602 Q66.138 839.021 62.0002 839.021 Q56.9713 839.021 54.2341 835.456 Q51.4968 831.891 51.4968 825.334 Q51.4968 822.088 51.9743 819.223 Q52.4517 816.359 53.4065 813.94 Z\" fill=\"#000000\" fill-rule=\"evenodd\" fill-opacity=\"1\" /><path clip-path=\"url(#clip340)\" d=\"M 0 0 M53.4065 783.162 L58.9447 783.162 Q57.6716 785.644 57.035 788.318 Q56.3984 790.991 56.3984 793.856 Q56.3984 798.217 57.7352 800.413 Q59.072 802.577 61.7456 802.577 Q63.7826 802.577 64.9603 801.017 Q66.1061 799.458 67.1565 794.747 L67.6021 792.742 Q68.9389 786.504 71.3897 783.894 Q73.8086 781.252 78.1691 781.252 Q83.1344 781.252 86.0308 785.199 Q88.9272 789.114 88.9272 795.989 Q88.9272 798.853 88.3543 801.972 Q87.8132 805.06 86.6992 808.497 L80.6518 808.497 Q82.3387 805.251 83.198 802.1 Q84.0256 798.949 84.0256 795.861 Q84.0256 791.724 82.6251 789.496 Q81.1929 787.268 78.6147 787.268 Q76.2276 787.268 74.9545 788.891 Q73.6813 790.482 72.5037 795.925 L72.0262 797.962 Q70.8804 803.405 68.5251 805.824 Q66.138 808.243 62.0002 808.243 Q56.9713 808.243 54.2341 804.678 Q51.4968 801.113 51.4968 794.556 Q51.4968 791.31 51.9743 788.445 Q52.4517 785.581 53.4065 783.162 Z\" fill=\"#000000\" fill-rule=\"evenodd\" fill-opacity=\"1\" /><path clip-path=\"url(#clip340)\" d=\"M 0 0 M40.4842 754.134 L40.4842 724.088 L45.895 724.088 L45.895 747.705 L59.9632 747.705 L59.9632 725.075 L65.3741 725.075 L65.3741 747.705 L82.5933 747.705 L82.5933 723.515 L88.0042 723.515 L88.0042 754.134 L40.4842 754.134 Z\" fill=\"#000000\" fill-rule=\"evenodd\" fill-opacity=\"1\" /><path clip-path=\"url(#clip340)\" d=\"M 0 0 M66.4881 687.74 L88.0042 687.74 L88.0042 693.596 L66.679 693.596 Q61.6183 693.596 59.1038 695.57 Q56.5894 697.543 56.5894 701.49 Q56.5894 706.232 59.6131 708.969 Q62.6368 711.707 67.8567 711.707 L88.0042 711.707 L88.0042 717.595 L52.3562 717.595 L52.3562 711.707 L57.8944 711.707 Q54.6797 709.606 53.0883 706.773 Q51.4968 703.909 51.4968 700.185 Q51.4968 694.042 55.3163 690.891 Q59.1038 687.74 66.4881 687.74 Z\" fill=\"#000000\" fill-rule=\"evenodd\" fill-opacity=\"1\" /><path clip-path=\"url(#clip340)\" d=\"M 0 0 M42.2347 675.804 L52.3562 675.804 L52.3562 663.741 L56.9077 663.741 L56.9077 675.804 L76.2594 675.804 Q80.6199 675.804 81.8613 674.626 Q83.1026 673.417 83.1026 669.757 L83.1026 663.741 L88.0042 663.741 L88.0042 669.757 Q88.0042 676.536 85.4897 679.114 Q82.9434 681.692 76.2594 681.692 L56.9077 681.692 L56.9077 685.989 L52.3562 685.989 L52.3562 681.692 L42.2347 681.692 L42.2347 675.804 Z\" fill=\"#000000\" fill-rule=\"evenodd\" fill-opacity=\"1\" /><path clip-path=\"url(#clip340)\" d=\"M 0 0 M57.8307 636.941 Q57.2578 637.928 57.0032 639.106 Q56.7167 640.252 56.7167 641.652 Q56.7167 646.617 59.9632 649.291 Q63.1779 651.933 69.2253 651.933 L88.0042 651.933 L88.0042 657.821 L52.3562 657.821 L52.3562 651.933 L57.8944 651.933 Q54.6479 650.087 53.0883 647.127 Q51.4968 644.166 51.4968 639.933 Q51.4968 639.329 51.5923 638.596 Q51.656 637.864 51.8151 636.973 L57.8307 636.941 Z\" fill=\"#000000\" fill-rule=\"evenodd\" fill-opacity=\"1\" /><path clip-path=\"url(#clip340)\" d=\"M 0 0 M56.4621 618.417 Q56.4621 623.128 60.1542 625.865 Q63.8145 628.602 70.212 628.602 Q76.6095 628.602 80.3017 625.897 Q83.9619 623.16 83.9619 618.417 Q83.9619 613.738 80.2698 611.001 Q76.5777 608.264 70.212 608.264 Q63.8781 608.264 60.186 611.001 Q56.4621 613.738 56.4621 618.417 M51.4968 618.417 Q51.4968 610.778 56.4621 606.418 Q61.4273 602.057 70.212 602.057 Q78.9649 602.057 83.9619 606.418 Q88.9272 610.778 88.9272 618.417 Q88.9272 626.088 83.9619 630.448 Q78.9649 634.777 70.212 634.777 Q61.4273 634.777 56.4621 630.448 Q51.4968 626.088 51.4968 618.417 Z\" fill=\"#000000\" fill-rule=\"evenodd\" fill-opacity=\"1\" /><path clip-path=\"url(#clip340)\" d=\"M 0 0 M82.657 590.249 L101.563 590.249 L101.563 596.137 L52.3562 596.137 L52.3562 590.249 L57.7671 590.249 Q54.5842 588.403 53.0564 585.602 Q51.4968 582.769 51.4968 578.854 Q51.4968 572.361 56.6531 568.319 Q61.8093 564.245 70.212 564.245 Q78.6147 564.245 83.771 568.319 Q88.9272 572.361 88.9272 578.854 Q88.9272 582.769 87.3994 585.602 Q85.8398 588.403 82.657 590.249 M70.212 570.324 Q63.7508 570.324 60.0905 572.998 Q56.3984 575.64 56.3984 580.287 Q56.3984 584.934 60.0905 587.607 Q63.7508 590.249 70.212 590.249 Q76.6732 590.249 80.3653 587.607 Q84.0256 584.934 84.0256 580.287 Q84.0256 575.64 80.3653 572.998 Q76.6732 570.324 70.212 570.324 Z\" fill=\"#000000\" fill-rule=\"evenodd\" fill-opacity=\"1\" /><path clip-path=\"url(#clip340)\" d=\"M 0 0 M91.3143 543.27 Q97.68 545.753 99.6216 548.108 Q101.563 550.463 101.563 554.41 L101.563 559.089 L96.6615 559.089 L96.6615 555.651 Q96.6615 553.232 95.5157 551.896 Q94.3699 550.559 90.1048 548.935 L87.4312 547.885 L52.3562 562.303 L52.3562 556.097 L80.238 544.957 L52.3562 533.817 L52.3562 527.61 L91.3143 543.27 Z\" fill=\"#000000\" fill-rule=\"evenodd\" fill-opacity=\"1\" /><polyline clip-path=\"url(#clip342)\" style=\"stroke:#009af9; stroke-width:8; stroke-opacity:1; fill:none\" points=\"\n",
       "  272.201,86.1857 282.301,529.092 292.401,811.666 302.5,980.964 312.6,1084.51 322.7,1150.39 332.8,1193.98 342.9,1223.81 352.999,1244.96 363.099,1260.54 \n",
       "  373.199,1272.49 383.299,1281.99 393.398,1289.75 403.498,1296.25 413.598,1301.81 423.698,1306.63 433.798,1310.88 443.897,1314.68 453.997,1318.13 464.097,1321.28 \n",
       "  474.197,1324.19 484.296,1326.89 494.396,1329.41 504.496,1331.77 514.596,1333.96 524.696,1336 534.795,1337.89 544.895,1339.63 554.995,1341.21 565.095,1342.66 \n",
       "  575.195,1343.97 585.294,1345.15 595.394,1346.22 605.494,1347.17 615.594,1348.02 625.693,1348.78 635.793,1349.46 645.893,1350.07 655.993,1350.61 666.093,1351.1 \n",
       "  676.192,1351.54 686.292,1351.93 696.392,1352.29 706.492,1352.61 716.591,1352.89 726.691,1353.15 736.791,1353.38 746.891,1353.59 756.991,1353.77 767.09,1353.92 \n",
       "  777.19,1354.05 787.29,1354.16 797.39,1354.25 807.489,1354.32 817.589,1354.36 827.689,1354.38 837.789,1354.38 847.889,1354.36 857.988,1354.32 868.088,1354.26 \n",
       "  878.188,1354.18 888.288,1354.08 898.388,1353.95 908.487,1353.81 918.587,1353.66 928.687,1353.48 938.787,1353.28 948.886,1353.07 958.986,1352.84 969.086,1352.59 \n",
       "  979.186,1352.33 989.286,1352.05 999.385,1351.76 1009.49,1351.45 1019.58,1351.13 1029.68,1350.79 1039.78,1350.44 1049.88,1350.08 1059.98,1349.71 1070.08,1349.33 \n",
       "  1080.18,1348.94 1090.28,1348.54 1100.38,1348.13 1110.48,1347.72 1120.58,1347.29 1130.68,1346.87 1140.78,1346.43 1150.88,1345.99 1160.98,1345.55 1171.08,1345.11 \n",
       "  1181.18,1344.66 1191.28,1344.21 1201.38,1343.76 1211.48,1343.31 1221.58,1342.86 1231.68,1342.41 1241.78,1341.96 1251.88,1341.52 1261.98,1341.07 1272.08,1340.63 \n",
       "  1282.18,1340.2 1292.28,1339.77 1302.38,1339.34 1312.48,1338.92 1322.58,1338.5 1332.68,1338.09 1342.78,1337.69 1352.88,1337.3 1362.98,1336.91 1373.08,1336.53 \n",
       "  1383.18,1336.16 1393.28,1335.79 1403.38,1335.44 1413.48,1335.1 1423.58,1334.76 1433.68,1334.44 1443.78,1334.12 1453.88,1333.82 1463.98,1333.52 1474.07,1333.24 \n",
       "  1484.17,1332.97 1494.27,1332.71 1504.37,1332.46 1514.47,1332.22 1524.57,1331.99 1534.67,1331.77 1544.77,1331.57 1554.87,1331.37 1564.97,1331.19 1575.07,1331.01 \n",
       "  1585.17,1330.85 1595.27,1330.69 1605.37,1330.55 1615.47,1330.41 1625.57,1330.29 1635.67,1330.17 1645.77,1330.07 1655.87,1329.97 1665.97,1329.88 1676.07,1329.8 \n",
       "  1686.17,1329.72 1696.27,1329.66 1706.37,1329.6 1716.47,1329.54 1726.57,1329.5 1736.67,1329.46 1746.77,1329.43 1756.87,1329.4 1766.97,1329.38 1777.07,1329.36 \n",
       "  1787.17,1329.35 1797.27,1329.34 1807.37,1329.34 1817.47,1329.34 1827.57,1329.35 1837.67,1329.36 1847.77,1329.37 1857.87,1329.39 1867.97,1329.41 1878.07,1329.44 \n",
       "  1888.17,1329.46 1898.27,1329.49 1908.37,1329.52 1918.47,1329.55 1928.57,1329.59 1938.66,1329.62 1948.76,1329.66 1958.86,1329.7 1968.96,1329.74 1979.06,1329.78 \n",
       "  1989.16,1329.82 1999.26,1329.86 2009.36,1329.9 2019.46,1329.95 2029.56,1329.99 2039.66,1330.03 2049.76,1330.08 2059.86,1330.12 2069.96,1330.16 2080.06,1330.2 \n",
       "  2090.16,1330.24 2100.26,1330.28 2110.36,1330.32 2120.46,1330.36 2130.56,1330.4 2140.66,1330.44 2150.76,1330.48 2160.86,1330.51 2170.96,1330.55 2181.06,1330.58 \n",
       "  2191.16,1330.62 2201.26,1330.65 2211.36,1330.68 2221.46,1330.71 2231.56,1330.75 2241.66,1330.78 2251.76,1330.81 2261.86,1330.84 2271.96,1330.87 2282.06,1330.9 \n",
       "  2292.16,1330.93 \n",
       "  \"/>\n",
       "<polyline clip-path=\"url(#clip342)\" style=\"stroke:#e26f46; stroke-width:8; stroke-opacity:1; fill:none\" points=\"\n",
       "  274.221,300.134 276.241,370.035 278.261,435.268 280.281,496.551 282.301,554.734 284.321,610.38 286.341,663.482 288.361,713.536 290.381,759.914 292.401,802.224 \n",
       "  294.421,840.414 296.441,874.704 298.461,905.453 300.48,933.067 302.5,957.942 304.52,980.436 306.54,1000.86 308.56,1019.49 310.58,1036.56 312.6,1052.24 \n",
       "  314.62,1066.71 316.64,1080.11 318.66,1092.55 320.68,1104.13 322.7,1114.93 324.72,1125.04 326.74,1134.51 328.76,1143.4 330.78,1151.75 332.8,1159.61 \n",
       "  334.82,1167.02 336.84,1174.01 338.86,1180.61 340.88,1186.85 342.9,1192.75 344.92,1198.34 346.939,1203.64 348.959,1208.67 350.979,1213.44 352.999,1217.98 \n",
       "  355.019,1222.29 357.039,1226.4 359.059,1230.3 361.079,1234.03 363.099,1237.59 365.119,1240.98 367.139,1244.22 369.159,1247.32 371.179,1250.28 373.199,1253.12 \n",
       "  375.219,1255.84 377.239,1258.45 379.259,1260.95 381.279,1263.35 383.299,1265.66 385.319,1267.87 387.339,1270.01 389.359,1272.06 391.379,1274.04 393.398,1275.94 \n",
       "  395.418,1277.78 397.438,1279.55 399.458,1281.26 401.478,1282.91 403.498,1284.51 405.518,1286.05 407.538,1287.54 409.558,1288.99 411.578,1290.39 413.598,1291.74 \n",
       "  415.618,1293.06 417.638,1294.33 419.658,1295.57 421.678,1296.77 423.698,1297.93 425.718,1299.06 427.738,1300.16 429.758,1301.23 431.778,1302.27 433.798,1303.28 \n",
       "  435.818,1304.27 437.838,1305.23 439.857,1306.16 441.877,1307.07 443.897,1307.96 445.917,1308.83 447.937,1309.67 449.957,1310.5 451.977,1311.3 453.997,1312.09 \n",
       "  456.017,1312.86 458.037,1313.61 460.057,1314.34 462.077,1315.06 464.097,1315.76 466.117,1316.45 468.137,1317.12 470.157,1317.78 472.177,1318.42 474.197,1319.05 \n",
       "  476.217,1319.67 478.237,1320.27 480.257,1320.87 482.277,1321.45 484.296,1322.02 486.316,1322.58 488.336,1323.13 490.356,1323.67 492.376,1324.2 494.396,1324.72 \n",
       "  496.416,1325.23 498.436,1325.73 500.456,1326.22 502.476,1326.7 504.496,1327.18 506.516,1327.65 508.536,1328.11 510.556,1328.56 512.576,1329 514.596,1329.44 \n",
       "  516.616,1329.87 518.636,1330.29 520.656,1330.71 522.676,1331.11 524.696,1331.52 526.716,1331.91 528.736,1332.3 530.755,1332.69 532.775,1333.07 534.795,1333.44 \n",
       "  536.815,1333.81 538.835,1334.17 540.855,1334.53 542.875,1334.88 544.895,1335.22 546.915,1335.57 548.935,1335.9 550.955,1336.24 552.975,1336.56 554.995,1336.89 \n",
       "  557.015,1337.2 559.035,1337.52 561.055,1337.83 563.075,1338.14 565.095,1338.44 567.115,1338.74 569.135,1339.03 571.155,1339.32 573.175,1339.61 575.195,1339.89 \n",
       "  577.214,1340.17 579.234,1340.45 581.254,1340.72 583.274,1340.99 585.294,1341.26 587.314,1341.52 589.334,1341.78 591.354,1342.04 593.374,1342.29 595.394,1342.54 \n",
       "  597.414,1342.79 599.434,1343.03 601.454,1343.28 603.474,1343.52 605.494,1343.75 607.514,1343.99 609.534,1344.22 611.554,1344.45 613.574,1344.68 615.594,1344.9 \n",
       "  617.614,1345.13 619.634,1345.35 621.654,1345.56 623.673,1345.78 625.693,1345.99 627.713,1346.2 629.733,1346.41 631.753,1346.62 633.773,1346.83 635.793,1347.03 \n",
       "  637.813,1347.23 639.833,1347.43 641.853,1347.63 643.873,1347.82 645.893,1348.02 647.913,1348.21 649.933,1348.4 651.953,1348.59 653.973,1348.78 655.993,1348.96 \n",
       "  658.013,1349.15 660.033,1349.33 662.053,1349.51 664.073,1349.69 666.093,1349.87 668.113,1350.04 670.132,1350.22 672.152,1350.39 674.172,1350.56 676.192,1350.73 \n",
       "  678.212,1350.9 680.232,1351.07 682.252,1351.24 684.272,1351.4 686.292,1351.57 688.312,1351.73 690.332,1351.89 692.352,1352.05 694.372,1352.21 696.392,1352.37 \n",
       "  698.412,1352.53 700.432,1352.68 702.452,1352.84 704.472,1352.99 706.492,1353.14 708.512,1353.29 710.532,1353.44 712.552,1353.59 714.571,1353.74 716.591,1353.89 \n",
       "  718.611,1354.04 720.631,1354.18 722.651,1354.32 724.671,1354.47 726.691,1354.61 728.711,1354.75 730.731,1354.89 732.751,1355.03 734.771,1355.17 736.791,1355.31 \n",
       "  738.811,1355.45 740.831,1355.58 742.851,1355.72 744.871,1355.85 746.891,1355.99 748.911,1356.12 750.931,1356.25 752.951,1356.38 754.971,1356.51 756.991,1356.64 \n",
       "  759.011,1356.77 761.03,1356.9 763.05,1357.03 765.07,1357.16 767.09,1357.28 769.11,1357.41 771.13,1357.53 773.15,1357.66 775.17,1357.78 777.19,1357.9 \n",
       "  779.21,1358.02 781.23,1358.14 783.25,1358.26 785.27,1358.38 787.29,1358.5 789.31,1358.62 791.33,1358.74 793.35,1358.86 795.37,1358.97 797.39,1359.09 \n",
       "  799.41,1359.2 801.43,1359.32 803.45,1359.43 805.47,1359.54 807.489,1359.66 809.509,1359.77 811.529,1359.88 813.549,1359.99 815.569,1360.1 817.589,1360.21 \n",
       "  819.609,1360.32 821.629,1360.43 823.649,1360.54 825.669,1360.64 827.689,1360.75 829.709,1360.86 831.729,1360.96 833.749,1361.07 835.769,1361.17 837.789,1361.27 \n",
       "  839.809,1361.38 841.829,1361.48 843.849,1361.58 845.869,1361.69 847.889,1361.79 849.909,1361.89 851.929,1361.99 853.948,1362.09 855.968,1362.19 857.988,1362.29 \n",
       "  860.008,1362.38 862.028,1362.48 864.048,1362.58 866.068,1362.68 868.088,1362.77 870.108,1362.87 872.128,1362.96 874.148,1363.06 876.168,1363.15 878.188,1363.25 \n",
       "  880.208,1363.34 882.228,1363.44 884.248,1363.53 886.268,1363.62 888.288,1363.71 890.308,1363.8 892.328,1363.89 894.348,1363.99 896.368,1364.08 898.388,1364.17 \n",
       "  900.407,1364.25 902.427,1364.34 904.447,1364.43 906.467,1364.52 908.487,1364.61 910.507,1364.7 912.527,1364.78 914.547,1364.87 916.567,1364.96 918.587,1365.04 \n",
       "  920.607,1365.13 922.627,1365.21 924.647,1365.3 926.667,1365.38 928.687,1365.46 930.707,1365.55 932.727,1365.63 934.747,1365.71 936.767,1365.8 938.787,1365.88 \n",
       "  940.807,1365.96 942.827,1366.04 944.846,1366.12 946.866,1366.2 948.886,1366.28 950.906,1366.36 952.926,1366.44 954.946,1366.52 956.966,1366.6 958.986,1366.68 \n",
       "  961.006,1366.76 963.026,1366.83 965.046,1366.91 967.066,1366.99 969.086,1367.07 971.106,1367.14 973.126,1367.22 975.146,1367.29 977.166,1367.37 979.186,1367.44 \n",
       "  981.206,1367.52 983.226,1367.59 985.246,1367.67 987.266,1367.74 989.286,1367.82 991.305,1367.89 993.325,1367.96 995.345,1368.04 997.365,1368.11 999.385,1368.18 \n",
       "  1001.41,1368.25 1003.43,1368.32 1005.45,1368.4 1007.47,1368.47 1009.49,1368.54 1011.51,1368.61 1013.52,1368.68 1015.54,1368.75 1017.56,1368.82 1019.58,1368.89 \n",
       "  1021.6,1368.95 1023.62,1369.02 1025.64,1369.09 1027.66,1369.16 1029.68,1369.23 1031.7,1369.3 1033.72,1369.36 1035.74,1369.43 1037.76,1369.5 1039.78,1369.56 \n",
       "  1041.8,1369.63 1043.82,1369.7 1045.84,1369.76 1047.86,1369.83 1049.88,1369.89 1051.9,1369.96 1053.92,1370.02 1055.94,1370.09 1057.96,1370.15 1059.98,1370.21 \n",
       "  1062,1370.28 1064.02,1370.34 1066.04,1370.4 1068.06,1370.47 1070.08,1370.53 1072.1,1370.59 1074.12,1370.65 1076.14,1370.72 1078.16,1370.78 1080.18,1370.84 \n",
       "  1082.2,1370.9 1084.22,1370.96 1086.24,1371.02 1088.26,1371.08 1090.28,1371.14 1092.3,1371.2 1094.32,1371.26 1096.34,1371.32 1098.36,1371.38 1100.38,1371.44 \n",
       "  1102.4,1371.5 1104.42,1371.56 1106.44,1371.62 1108.46,1371.67 1110.48,1371.73 1112.5,1371.79 1114.52,1371.85 1116.54,1371.9 1118.56,1371.96 1120.58,1372.02 \n",
       "  1122.6,1372.07 1124.62,1372.13 1126.64,1372.19 1128.66,1372.24 1130.68,1372.3 1132.7,1372.35 1134.72,1372.41 1136.74,1372.46 1138.76,1372.52 1140.78,1372.57 \n",
       "  1142.8,1372.63 1144.82,1372.68 1146.84,1372.74 1148.86,1372.79 1150.88,1372.84 1152.9,1372.9 1154.92,1372.95 1156.94,1373 1158.96,1373.06 1160.98,1373.11 \n",
       "  1163,1373.16 1165.02,1373.21 1167.04,1373.26 1169.06,1373.32 1171.08,1373.37 1173.1,1373.42 1175.12,1373.47 1177.14,1373.52 1179.16,1373.57 1181.18,1373.62 \n",
       "  1183.2,1373.67 1185.22,1373.72 1187.24,1373.77 1189.26,1373.82 1191.28,1373.87 1193.3,1373.92 1195.32,1373.97 1197.34,1374.02 1199.36,1374.07 1201.38,1374.12 \n",
       "  1203.4,1374.16 1205.42,1374.21 1207.44,1374.26 1209.46,1374.31 1211.48,1374.36 1213.5,1374.4 1215.52,1374.45 1217.54,1374.5 1219.56,1374.54 1221.58,1374.59 \n",
       "  1223.6,1374.64 1225.62,1374.68 1227.64,1374.73 1229.66,1374.78 1231.68,1374.82 1233.7,1374.87 1235.72,1374.91 1237.74,1374.96 1239.76,1375 1241.78,1375.05 \n",
       "  1243.8,1375.09 1245.82,1375.14 1247.84,1375.18 1249.86,1375.23 1251.88,1375.27 1253.9,1375.31 1255.92,1375.36 1257.94,1375.4 1259.96,1375.45 1261.98,1375.49 \n",
       "  1264,1375.53 1266.02,1375.57 1268.04,1375.62 1270.06,1375.66 1272.08,1375.7 1274.1,1375.74 1276.12,1375.79 1278.14,1375.83 1280.16,1375.87 1282.18,1375.91 \n",
       "  1284.2,1375.95 1286.22,1375.99 1288.24,1376.03 1290.26,1376.08 1292.28,1376.12 1294.3,1376.16 1296.32,1376.2 1298.34,1376.24 1300.36,1376.28 1302.38,1376.32 \n",
       "  1304.4,1376.36 1306.42,1376.4 1308.44,1376.44 1310.46,1376.48 1312.48,1376.51 1314.5,1376.55 1316.52,1376.59 1318.54,1376.63 1320.56,1376.67 1322.58,1376.71 \n",
       "  1324.6,1376.75 1326.62,1376.78 1328.64,1376.82 1330.66,1376.86 1332.68,1376.9 1334.7,1376.93 1336.72,1376.97 1338.74,1377.01 1340.76,1377.05 1342.78,1377.08 \n",
       "  1344.8,1377.12 1346.82,1377.16 1348.84,1377.19 1350.86,1377.23 1352.88,1377.26 1354.9,1377.3 1356.92,1377.34 1358.94,1377.37 1360.96,1377.41 1362.98,1377.44 \n",
       "  1365,1377.48 1367.02,1377.51 1369.04,1377.55 1371.06,1377.58 1373.08,1377.62 1375.1,1377.65 1377.12,1377.69 1379.14,1377.72 1381.16,1377.75 1383.18,1377.79 \n",
       "  1385.2,1377.82 1387.22,1377.86 1389.24,1377.89 1391.26,1377.92 1393.28,1377.96 1395.3,1377.99 1397.32,1378.02 1399.34,1378.06 1401.36,1378.09 1403.38,1378.12 \n",
       "  1405.4,1378.15 1407.42,1378.19 1409.44,1378.22 1411.46,1378.25 1413.48,1378.28 1415.5,1378.31 1417.52,1378.34 1419.54,1378.38 1421.56,1378.41 1423.58,1378.44 \n",
       "  1425.6,1378.47 1427.62,1378.5 1429.64,1378.53 1431.66,1378.56 1433.68,1378.59 1435.7,1378.62 1437.72,1378.65 1439.74,1378.68 1441.76,1378.71 1443.78,1378.74 \n",
       "  1445.8,1378.77 1447.82,1378.8 1449.84,1378.83 1451.86,1378.86 1453.88,1378.89 1455.9,1378.92 1457.92,1378.95 1459.94,1378.98 1461.96,1379.01 1463.98,1379.04 \n",
       "  1466,1379.07 1468.02,1379.09 1470.04,1379.12 1472.06,1379.15 1474.07,1379.18 1476.09,1379.21 1478.11,1379.23 1480.13,1379.26 1482.15,1379.29 1484.17,1379.32 \n",
       "  1486.19,1379.35 1488.21,1379.37 1490.23,1379.4 1492.25,1379.43 1494.27,1379.45 1496.29,1379.48 1498.31,1379.51 1500.33,1379.53 1502.35,1379.56 1504.37,1379.59 \n",
       "  1506.39,1379.61 1508.41,1379.64 1510.43,1379.66 1512.45,1379.69 1514.47,1379.72 1516.49,1379.74 1518.51,1379.77 1520.53,1379.79 1522.55,1379.82 1524.57,1379.84 \n",
       "  1526.59,1379.87 1528.61,1379.89 1530.63,1379.92 1532.65,1379.94 1534.67,1379.97 1536.69,1379.99 1538.71,1380.02 1540.73,1380.04 1542.75,1380.07 1544.77,1380.09 \n",
       "  1546.79,1380.11 1548.81,1380.14 1550.83,1380.16 1552.85,1380.19 1554.87,1380.21 1556.89,1380.23 1558.91,1380.26 1560.93,1380.28 1562.95,1380.3 1564.97,1380.33 \n",
       "  1566.99,1380.35 1569.01,1380.37 1571.03,1380.39 1573.05,1380.42 1575.07,1380.44 1577.09,1380.46 1579.11,1380.48 1581.13,1380.51 1583.15,1380.53 1585.17,1380.55 \n",
       "  1587.19,1380.57 1589.21,1380.6 1591.23,1380.62 1593.25,1380.64 1595.27,1380.66 1597.29,1380.68 1599.31,1380.7 1601.33,1380.72 1603.35,1380.75 1605.37,1380.77 \n",
       "  1607.39,1380.79 1609.41,1380.81 1611.43,1380.83 1613.45,1380.85 1615.47,1380.87 1617.49,1380.89 1619.51,1380.91 1621.53,1380.93 1623.55,1380.95 1625.57,1380.97 \n",
       "  1627.59,1380.99 1629.61,1381.01 1631.63,1381.03 1633.65,1381.05 1635.67,1381.07 1637.69,1381.09 1639.71,1381.11 1641.73,1381.13 1643.75,1381.15 1645.77,1381.17 \n",
       "  1647.79,1381.19 1649.81,1381.21 1651.83,1381.23 1653.85,1381.25 1655.87,1381.26 1657.89,1381.28 1659.91,1381.3 1661.93,1381.32 1663.95,1381.34 1665.97,1381.36 \n",
       "  1667.99,1381.38 1670.01,1381.39 1672.03,1381.41 1674.05,1381.43 1676.07,1381.45 1678.09,1381.47 1680.11,1381.48 1682.13,1381.5 1684.15,1381.52 1686.17,1381.54 \n",
       "  1688.19,1381.55 1690.21,1381.57 1692.23,1381.59 1694.25,1381.61 1696.27,1381.62 1698.29,1381.64 1700.31,1381.66 1702.33,1381.67 1704.35,1381.69 1706.37,1381.71 \n",
       "  1708.39,1381.72 1710.41,1381.74 1712.43,1381.76 1714.45,1381.77 1716.47,1381.79 1718.49,1381.81 1720.51,1381.82 1722.53,1381.84 1724.55,1381.86 1726.57,1381.87 \n",
       "  1728.59,1381.89 1730.61,1381.9 1732.63,1381.92 1734.65,1381.93 1736.67,1381.95 1738.69,1381.97 1740.71,1381.98 1742.73,1382 1744.75,1382.01 1746.77,1382.03 \n",
       "  1748.79,1382.04 1750.81,1382.06 1752.83,1382.07 1754.85,1382.09 1756.87,1382.1 1758.89,1382.12 1760.91,1382.13 1762.93,1382.15 1764.95,1382.16 1766.97,1382.17 \n",
       "  1768.99,1382.19 1771.01,1382.2 1773.03,1382.22 1775.05,1382.23 1777.07,1382.25 1779.09,1382.26 1781.11,1382.27 1783.13,1382.29 1785.15,1382.3 1787.17,1382.32 \n",
       "  1789.19,1382.33 1791.21,1382.34 1793.23,1382.36 1795.25,1382.37 1797.27,1382.38 1799.29,1382.4 1801.31,1382.41 1803.33,1382.42 1805.35,1382.44 1807.37,1382.45 \n",
       "  1809.39,1382.46 1811.41,1382.48 1813.43,1382.49 1815.45,1382.5 1817.47,1382.51 1819.49,1382.53 1821.51,1382.54 1823.53,1382.55 1825.55,1382.57 1827.57,1382.58 \n",
       "  1829.59,1382.59 1831.61,1382.6 1833.63,1382.61 1835.65,1382.63 1837.67,1382.64 1839.69,1382.65 1841.71,1382.66 1843.73,1382.68 1845.75,1382.69 1847.77,1382.7 \n",
       "  1849.79,1382.71 1851.81,1382.72 1853.83,1382.73 1855.85,1382.75 1857.87,1382.76 1859.89,1382.77 1861.91,1382.78 1863.93,1382.79 1865.95,1382.8 1867.97,1382.81 \n",
       "  1869.99,1382.83 1872.01,1382.84 1874.03,1382.85 1876.05,1382.86 1878.07,1382.87 1880.09,1382.88 1882.11,1382.89 1884.13,1382.9 1886.15,1382.91 1888.17,1382.93 \n",
       "  1890.19,1382.94 1892.21,1382.95 1894.23,1382.96 1896.25,1382.97 1898.27,1382.98 1900.29,1382.99 1902.31,1383 1904.33,1383.01 1906.35,1383.02 1908.37,1383.03 \n",
       "  1910.39,1383.04 1912.41,1383.05 1914.43,1383.06 1916.45,1383.07 1918.47,1383.08 1920.49,1383.09 1922.51,1383.1 1924.53,1383.11 1926.55,1383.12 1928.57,1383.13 \n",
       "  1930.59,1383.14 1932.61,1383.15 1934.62,1383.16 1936.64,1383.17 1938.66,1383.18 1940.68,1383.19 1942.7,1383.19 1944.72,1383.2 1946.74,1383.21 1948.76,1383.22 \n",
       "  1950.78,1383.23 1952.8,1383.24 1954.82,1383.25 1956.84,1383.26 1958.86,1383.27 1960.88,1383.28 1962.9,1383.29 1964.92,1383.29 1966.94,1383.3 1968.96,1383.31 \n",
       "  1970.98,1383.32 1973,1383.33 1975.02,1383.34 1977.04,1383.35 1979.06,1383.35 1981.08,1383.36 1983.1,1383.37 1985.12,1383.38 1987.14,1383.39 1989.16,1383.4 \n",
       "  1991.18,1383.4 1993.2,1383.41 1995.22,1383.42 1997.24,1383.43 1999.26,1383.44 2001.28,1383.45 2003.3,1383.45 2005.32,1383.46 2007.34,1383.47 2009.36,1383.48 \n",
       "  2011.38,1383.48 2013.4,1383.49 2015.42,1383.5 2017.44,1383.51 2019.46,1383.52 2021.48,1383.52 2023.5,1383.53 2025.52,1383.54 2027.54,1383.55 2029.56,1383.55 \n",
       "  2031.58,1383.56 2033.6,1383.57 2035.62,1383.58 2037.64,1383.58 2039.66,1383.59 2041.68,1383.6 2043.7,1383.6 2045.72,1383.61 2047.74,1383.62 2049.76,1383.63 \n",
       "  2051.78,1383.63 2053.8,1383.64 2055.82,1383.65 2057.84,1383.65 2059.86,1383.66 2061.88,1383.67 2063.9,1383.67 2065.92,1383.68 2067.94,1383.69 2069.96,1383.69 \n",
       "  2071.98,1383.7 2074,1383.71 2076.02,1383.71 2078.04,1383.72 2080.06,1383.73 2082.08,1383.73 2084.1,1383.74 2086.12,1383.75 2088.14,1383.75 2090.16,1383.76 \n",
       "  2092.18,1383.76 2094.2,1383.77 2096.22,1383.78 2098.24,1383.78 2100.26,1383.79 2102.28,1383.8 2104.3,1383.8 2106.32,1383.81 2108.34,1383.81 2110.36,1383.82 \n",
       "  2112.38,1383.83 2114.4,1383.83 2116.42,1383.84 2118.44,1383.84 2120.46,1383.85 2122.48,1383.85 2124.5,1383.86 2126.52,1383.87 2128.54,1383.87 2130.56,1383.88 \n",
       "  2132.58,1383.88 2134.6,1383.89 2136.62,1383.89 2138.64,1383.9 2140.66,1383.9 2142.68,1383.91 2144.7,1383.92 2146.72,1383.92 2148.74,1383.93 2150.76,1383.93 \n",
       "  2152.78,1383.94 2154.8,1383.94 2156.82,1383.95 2158.84,1383.95 2160.86,1383.96 2162.88,1383.96 2164.9,1383.97 2166.92,1383.97 2168.94,1383.98 2170.96,1383.98 \n",
       "  2172.98,1383.99 2175,1383.99 2177.02,1384 2179.04,1384 2181.06,1384.01 2183.08,1384.01 2185.1,1384.02 2187.12,1384.02 2189.14,1384.03 2191.16,1384.03 \n",
       "  2193.18,1384.04 2195.2,1384.04 2197.22,1384.05 2199.24,1384.05 2201.26,1384.06 2203.28,1384.06 2205.3,1384.07 2207.32,1384.07 2209.34,1384.07 2211.36,1384.08 \n",
       "  2213.38,1384.08 2215.4,1384.09 2217.42,1384.09 2219.44,1384.1 2221.46,1384.1 2223.48,1384.1 2225.5,1384.11 2227.52,1384.11 2229.54,1384.12 2231.56,1384.12 \n",
       "  2233.58,1384.13 2235.6,1384.13 2237.62,1384.13 2239.64,1384.14 2241.66,1384.14 2243.68,1384.15 2245.7,1384.15 2247.72,1384.16 2249.74,1384.16 2251.76,1384.16 \n",
       "  2253.78,1384.17 2255.8,1384.17 2257.82,1384.18 2259.84,1384.18 2261.86,1384.18 2263.88,1384.19 2265.9,1384.19 2267.92,1384.19 2269.94,1384.2 2271.96,1384.2 \n",
       "  2273.98,1384.21 2276,1384.21 2278.02,1384.21 2280.04,1384.22 2282.06,1384.22 2284.08,1384.22 2286.1,1384.23 2288.12,1384.23 2290.14,1384.23 2292.16,1384.24 \n",
       "  \n",
       "  \"/>\n",
       "<path clip-path=\"url(#clip340)\" d=\"\n",
       "M1844.15 274.549 L2281.38 274.549 L2281.38 93.1086 L1844.15 93.1086  Z\n",
       "  \" fill=\"#ffffff\" fill-rule=\"evenodd\" fill-opacity=\"1\"/>\n",
       "<polyline clip-path=\"url(#clip340)\" style=\"stroke:#000000; stroke-width:4; stroke-opacity:1; fill:none\" points=\"\n",
       "  1844.15,274.549 2281.38,274.549 2281.38,93.1086 1844.15,93.1086 1844.15,274.549 \n",
       "  \"/>\n",
       "<polyline clip-path=\"url(#clip340)\" style=\"stroke:#009af9; stroke-width:4; stroke-opacity:1; fill:none\" points=\"\n",
       "  1867.94,153.589 2010.68,153.589 \n",
       "  \"/>\n",
       "<path clip-path=\"url(#clip340)\" d=\"M 0 0 M2047.67 170.869 L2034.48 136.309 L2039.36 136.309 L2050.31 165.406 L2061.28 136.309 L2066.14 136.309 L2052.97 170.869 L2047.67 170.869 Z\" fill=\"#000000\" fill-rule=\"evenodd\" fill-opacity=\"1\" /><path clip-path=\"url(#clip340)\" d=\"M 0 0 M2078.71 157.836 Q2073.55 157.836 2071.56 159.017 Q2069.57 160.197 2069.57 163.045 Q2069.57 165.313 2071.05 166.656 Q2072.55 167.975 2075.12 167.975 Q2078.66 167.975 2080.79 165.475 Q2082.95 162.952 2082.95 158.785 L2082.95 157.836 L2078.71 157.836 M2087.21 156.077 L2087.21 170.869 L2082.95 170.869 L2082.95 166.933 Q2081.49 169.295 2079.31 170.429 Q2077.14 171.54 2073.99 171.54 Q2070.01 171.54 2067.65 169.318 Q2065.31 167.072 2065.31 163.322 Q2065.31 158.947 2068.23 156.725 Q2071.16 154.503 2076.98 154.503 L2082.95 154.503 L2082.95 154.086 Q2082.95 151.147 2081 149.549 Q2079.08 147.929 2075.59 147.929 Q2073.36 147.929 2071.26 148.461 Q2069.15 148.994 2067.21 150.059 L2067.21 146.123 Q2069.54 145.221 2071.74 144.781 Q2073.94 144.318 2076.03 144.318 Q2081.65 144.318 2084.43 147.234 Q2087.21 150.151 2087.21 156.077 Z\" fill=\"#000000\" fill-rule=\"evenodd\" fill-opacity=\"1\" /><path clip-path=\"url(#clip340)\" d=\"M 0 0 M2091.67 134.85 L2095.93 134.85 L2095.93 170.869 L2091.67 170.869 L2091.67 134.85 Z\" fill=\"#000000\" fill-rule=\"evenodd\" fill-opacity=\"1\" /><path clip-path=\"url(#clip340)\" d=\"M 0 0 M2100.4 144.943 L2104.66 144.943 L2104.66 170.869 L2100.4 170.869 L2100.4 144.943 M2100.4 134.85 L2104.66 134.85 L2104.66 140.244 L2100.4 140.244 L2100.4 134.85 Z\" fill=\"#000000\" fill-rule=\"evenodd\" fill-opacity=\"1\" /><path clip-path=\"url(#clip340)\" d=\"M 0 0 M2126.19 148.878 L2126.19 134.85 L2130.45 134.85 L2130.45 170.869 L2126.19 170.869 L2126.19 166.98 Q2124.85 169.295 2122.79 170.429 Q2120.75 171.54 2117.88 171.54 Q2113.18 171.54 2110.22 167.79 Q2107.28 164.04 2107.28 157.929 Q2107.28 151.818 2110.22 148.068 Q2113.18 144.318 2117.88 144.318 Q2120.75 144.318 2122.79 145.452 Q2124.85 146.563 2126.19 148.878 M2111.67 157.929 Q2111.67 162.628 2113.6 165.313 Q2115.54 167.975 2118.92 167.975 Q2122.3 167.975 2124.24 165.313 Q2126.19 162.628 2126.19 157.929 Q2126.19 153.23 2124.24 150.568 Q2122.3 147.883 2118.92 147.883 Q2115.54 147.883 2113.6 150.568 Q2111.67 153.23 2111.67 157.929 Z\" fill=\"#000000\" fill-rule=\"evenodd\" fill-opacity=\"1\" /><path clip-path=\"url(#clip340)\" d=\"M 0 0 M2146.7 157.836 Q2141.53 157.836 2139.54 159.017 Q2137.55 160.197 2137.55 163.045 Q2137.55 165.313 2139.03 166.656 Q2140.54 167.975 2143.11 167.975 Q2146.65 167.975 2148.78 165.475 Q2150.93 162.952 2150.93 158.785 L2150.93 157.836 L2146.7 157.836 M2155.19 156.077 L2155.19 170.869 L2150.93 170.869 L2150.93 166.933 Q2149.47 169.295 2147.3 170.429 Q2145.12 171.54 2141.97 171.54 Q2137.99 171.54 2135.63 169.318 Q2133.29 167.072 2133.29 163.322 Q2133.29 158.947 2136.21 156.725 Q2139.15 154.503 2144.96 154.503 L2150.93 154.503 L2150.93 154.086 Q2150.93 151.147 2148.99 149.549 Q2147.07 147.929 2143.57 147.929 Q2141.35 147.929 2139.24 148.461 Q2137.14 148.994 2135.19 150.059 L2135.19 146.123 Q2137.53 145.221 2139.73 144.781 Q2141.93 144.318 2144.01 144.318 Q2149.64 144.318 2152.41 147.234 Q2155.19 150.151 2155.19 156.077 Z\" fill=\"#000000\" fill-rule=\"evenodd\" fill-opacity=\"1\" /><path clip-path=\"url(#clip340)\" d=\"M 0 0 M2163.87 137.582 L2163.87 144.943 L2172.65 144.943 L2172.65 148.253 L2163.87 148.253 L2163.87 162.327 Q2163.87 165.498 2164.73 166.401 Q2165.61 167.304 2168.27 167.304 L2172.65 167.304 L2172.65 170.869 L2168.27 170.869 Q2163.34 170.869 2161.47 169.04 Q2159.59 167.188 2159.59 162.327 L2159.59 148.253 L2156.47 148.253 L2156.47 144.943 L2159.59 144.943 L2159.59 137.582 L2163.87 137.582 Z\" fill=\"#000000\" fill-rule=\"evenodd\" fill-opacity=\"1\" /><path clip-path=\"url(#clip340)\" d=\"M 0 0 M2177.11 144.943 L2181.37 144.943 L2181.37 170.869 L2177.11 170.869 L2177.11 144.943 M2177.11 134.85 L2181.37 134.85 L2181.37 140.244 L2177.11 140.244 L2177.11 134.85 Z\" fill=\"#000000\" fill-rule=\"evenodd\" fill-opacity=\"1\" /><path clip-path=\"url(#clip340)\" d=\"M 0 0 M2195.89 147.929 Q2192.46 147.929 2190.47 150.614 Q2188.48 153.276 2188.48 157.929 Q2188.48 162.582 2190.45 165.267 Q2192.44 167.929 2195.89 167.929 Q2199.29 167.929 2201.28 165.244 Q2203.27 162.558 2203.27 157.929 Q2203.27 153.322 2201.28 150.637 Q2199.29 147.929 2195.89 147.929 M2195.89 144.318 Q2201.44 144.318 2204.61 147.929 Q2207.78 151.54 2207.78 157.929 Q2207.78 164.295 2204.61 167.929 Q2201.44 171.54 2195.89 171.54 Q2190.31 171.54 2187.14 167.929 Q2183.99 164.295 2183.99 157.929 Q2183.99 151.54 2187.14 147.929 Q2190.31 144.318 2195.89 144.318 Z\" fill=\"#000000\" fill-rule=\"evenodd\" fill-opacity=\"1\" /><path clip-path=\"url(#clip340)\" d=\"M 0 0 M2233.8 155.221 L2233.8 170.869 L2229.54 170.869 L2229.54 155.359 Q2229.54 151.679 2228.11 149.85 Q2226.67 148.022 2223.8 148.022 Q2220.35 148.022 2218.36 150.221 Q2216.37 152.42 2216.37 156.216 L2216.37 170.869 L2212.09 170.869 L2212.09 144.943 L2216.37 144.943 L2216.37 148.971 Q2217.9 146.633 2219.96 145.475 Q2222.04 144.318 2224.75 144.318 Q2229.22 144.318 2231.51 147.096 Q2233.8 149.85 2233.8 155.221 Z\" fill=\"#000000\" fill-rule=\"evenodd\" fill-opacity=\"1\" /><polyline clip-path=\"url(#clip340)\" style=\"stroke:#e26f46; stroke-width:4; stroke-opacity:1; fill:none\" points=\"\n",
       "  1867.94,214.069 2010.68,214.069 \n",
       "  \"/>\n",
       "<path clip-path=\"url(#clip340)\" d=\"M 0 0 M2034.48 196.789 L2063.71 196.789 L2063.71 200.724 L2051.44 200.724 L2051.44 231.349 L2046.74 231.349 L2046.74 200.724 L2034.48 200.724 L2034.48 196.789 Z\" fill=\"#000000\" fill-rule=\"evenodd\" fill-opacity=\"1\" /><path clip-path=\"url(#clip340)\" d=\"M 0 0 M2076.23 209.404 Q2075.52 208.988 2074.66 208.802 Q2073.83 208.594 2072.81 208.594 Q2069.2 208.594 2067.25 210.955 Q2065.33 213.293 2065.33 217.691 L2065.33 231.349 L2061.05 231.349 L2061.05 205.423 L2065.33 205.423 L2065.33 209.451 Q2066.67 207.089 2068.83 205.955 Q2070.98 204.798 2074.06 204.798 Q2074.5 204.798 2075.03 204.867 Q2075.56 204.914 2076.21 205.029 L2076.23 209.404 Z\" fill=\"#000000\" fill-rule=\"evenodd\" fill-opacity=\"1\" /><path clip-path=\"url(#clip340)\" d=\"M 0 0 M2092.48 218.316 Q2087.32 218.316 2085.33 219.497 Q2083.34 220.677 2083.34 223.525 Q2083.34 225.793 2084.82 227.136 Q2086.33 228.455 2088.9 228.455 Q2092.44 228.455 2094.57 225.955 Q2096.72 223.432 2096.72 219.265 L2096.72 218.316 L2092.48 218.316 M2100.98 216.557 L2100.98 231.349 L2096.72 231.349 L2096.72 227.413 Q2095.26 229.775 2093.09 230.909 Q2090.91 232.02 2087.76 232.02 Q2083.78 232.02 2081.42 229.798 Q2079.08 227.552 2079.08 223.802 Q2079.08 219.427 2082 217.205 Q2084.94 214.983 2090.75 214.983 L2096.72 214.983 L2096.72 214.566 Q2096.72 211.627 2094.78 210.029 Q2092.85 208.409 2089.36 208.409 Q2087.14 208.409 2085.03 208.941 Q2082.92 209.474 2080.98 210.539 L2080.98 206.603 Q2083.32 205.701 2085.52 205.261 Q2087.72 204.798 2089.8 204.798 Q2095.42 204.798 2098.2 207.714 Q2100.98 210.631 2100.98 216.557 Z\" fill=\"#000000\" fill-rule=\"evenodd\" fill-opacity=\"1\" /><path clip-path=\"url(#clip340)\" d=\"M 0 0 M2105.45 205.423 L2109.71 205.423 L2109.71 231.349 L2105.45 231.349 L2105.45 205.423 M2105.45 195.33 L2109.71 195.33 L2109.71 200.724 L2105.45 200.724 L2105.45 195.33 Z\" fill=\"#000000\" fill-rule=\"evenodd\" fill-opacity=\"1\" /><path clip-path=\"url(#clip340)\" d=\"M 0 0 M2135.72 215.701 L2135.72 231.349 L2131.47 231.349 L2131.47 215.839 Q2131.47 212.159 2130.03 210.33 Q2128.6 208.502 2125.72 208.502 Q2122.28 208.502 2120.29 210.701 Q2118.29 212.9 2118.29 216.696 L2118.29 231.349 L2114.01 231.349 L2114.01 205.423 L2118.29 205.423 L2118.29 209.451 Q2119.82 207.113 2121.88 205.955 Q2123.97 204.798 2126.67 204.798 Q2131.14 204.798 2133.43 207.576 Q2135.72 210.33 2135.72 215.701 Z\" fill=\"#000000\" fill-rule=\"evenodd\" fill-opacity=\"1\" /><path clip-path=\"url(#clip340)\" d=\"M 0 0 M2140.19 205.423 L2144.45 205.423 L2144.45 231.349 L2140.19 231.349 L2140.19 205.423 M2140.19 195.33 L2144.45 195.33 L2144.45 200.724 L2140.19 200.724 L2140.19 195.33 Z\" fill=\"#000000\" fill-rule=\"evenodd\" fill-opacity=\"1\" /><path clip-path=\"url(#clip340)\" d=\"M 0 0 M2170.47 215.701 L2170.47 231.349 L2166.21 231.349 L2166.21 215.839 Q2166.21 212.159 2164.78 210.33 Q2163.34 208.502 2160.47 208.502 Q2157.02 208.502 2155.03 210.701 Q2153.04 212.9 2153.04 216.696 L2153.04 231.349 L2148.76 231.349 L2148.76 205.423 L2153.04 205.423 L2153.04 209.451 Q2154.57 207.113 2156.63 205.955 Q2158.71 204.798 2161.42 204.798 Q2165.89 204.798 2168.18 207.576 Q2170.47 210.33 2170.47 215.701 Z\" fill=\"#000000\" fill-rule=\"evenodd\" fill-opacity=\"1\" /><path clip-path=\"url(#clip340)\" d=\"M 0 0 M2192 218.085 Q2192 213.455 2190.08 210.909 Q2188.18 208.363 2184.73 208.363 Q2181.3 208.363 2179.38 210.909 Q2177.48 213.455 2177.48 218.085 Q2177.48 222.691 2179.38 225.238 Q2181.3 227.784 2184.73 227.784 Q2188.18 227.784 2190.08 225.238 Q2192 222.691 2192 218.085 M2196.26 228.131 Q2196.26 234.751 2193.32 237.969 Q2190.38 241.21 2184.31 241.21 Q2182.07 241.21 2180.08 240.862 Q2178.09 240.538 2176.21 239.844 L2176.21 235.7 Q2178.09 236.719 2179.91 237.205 Q2181.74 237.691 2183.64 237.691 Q2187.83 237.691 2189.91 235.492 Q2192 233.316 2192 228.895 L2192 226.788 Q2190.68 229.08 2188.62 230.214 Q2186.56 231.349 2183.69 231.349 Q2178.92 231.349 2176 227.714 Q2173.09 224.08 2173.09 218.085 Q2173.09 212.066 2176 208.432 Q2178.92 204.798 2183.69 204.798 Q2186.56 204.798 2188.62 205.932 Q2190.68 207.066 2192 209.358 L2192 205.423 L2196.26 205.423 L2196.26 228.131 Z\" fill=\"#000000\" fill-rule=\"evenodd\" fill-opacity=\"1\" /></svg>\n"
      ]
     },
     "execution_count": 74,
     "metadata": {},
     "output_type": "execute_result"
    }
   ],
   "source": [
    "plot(curve.parameter_values,\n",
    "     curve.measurements,\n",
    "     xlab=curve.parameter_name,\n",
    "     ylab=\"Cross Entropy\",\n",
    "     label=\"Validation\", lw=2)\n",
    "plot!(Final_Net.report.training_losses, label=\"Training\", lw=2)"
   ]
  },
  {
   "cell_type": "code",
   "execution_count": 75,
   "metadata": {},
   "outputs": [
    {
     "name": "stderr",
     "output_type": "stream",
     "text": [
      "\u001b[33mEvaluating over 6 folds: 100%[=========================] Time: 0:00:33\u001b[39m\n"
     ]
    },
    {
     "data": {
      "text/plain": [
       "┌\u001b[0m───────────────\u001b[0m┬\u001b[0m───────────────\u001b[0m┬\u001b[0m──────────────────────────────────────────────────\u001b[0m┐\u001b[0m\n",
       "│\u001b[0m\u001b[22m _.measure     \u001b[0m│\u001b[0m\u001b[22m _.measurement \u001b[0m│\u001b[0m\u001b[22m _.per_fold                                       \u001b[0m│\u001b[0m\n",
       "├\u001b[0m───────────────\u001b[0m┼\u001b[0m───────────────\u001b[0m┼\u001b[0m──────────────────────────────────────────────────\u001b[0m┤\u001b[0m\n",
       "│\u001b[0m cross_entropy \u001b[0m│\u001b[0m 0.342         \u001b[0m│\u001b[0m Float32[0.365, 0.326, 0.33, 0.324, 0.356, 0.353] \u001b[0m│\u001b[0m\n",
       "│\u001b[0m acc           \u001b[0m│\u001b[0m 0.967         \u001b[0m│\u001b[0m [0.937, 0.989, 0.979, 0.989, 0.947, 0.957]       \u001b[0m│\u001b[0m\n",
       "└\u001b[0m───────────────\u001b[0m┴\u001b[0m───────────────\u001b[0m┴\u001b[0m──────────────────────────────────────────────────\u001b[0m┘\u001b[0m\n",
       "_.per_observation = [[[0.313, 0.313, ..., 0.313], [0.313, 0.313, ..., 0.313], [0.313, 0.313, ..., 0.313], [0.313, 0.313, ..., 0.313], [0.313, 0.313, ..., 1.31], [0.313, 0.313, ..., 0.313]], missing]\n",
       "_.fitted_params_per_fold = [ … ]\n",
       "_.report_per_fold = [ … ]\n"
      ]
     },
     "execution_count": 75,
     "metadata": {},
     "output_type": "execute_result"
    }
   ],
   "source": [
    "nn_acc = evaluate!(Final_Net, resampling=CV(shuffle=true), measure=[cross_entropy, acc], verbosity=1)"
   ]
  },
  {
   "cell_type": "code",
   "execution_count": 76,
   "metadata": {
    "scrolled": true
   },
   "outputs": [
    {
     "name": "stderr",
     "output_type": "stream",
     "text": [
      "┌ Warning: The classes are un-ordered,\n",
      "│ using: negative='B' and positive='M'.\n",
      "│ To suppress this warning, consider coercing to OrderedFactor.\n",
      "└ @ MLJBase /home/andrew/.julia/packages/MLJBase/uKzAz/src/measures/confusion_matrix.jl:83\n",
      "┌ Warning: The classes are un-ordered,\n",
      "│ using: negative='B' and positive='M'.\n",
      "│ To suppress this warning, consider coercing to OrderedFactor.\n",
      "└ @ MLJBase /home/andrew/.julia/packages/MLJBase/uKzAz/src/measures/confusion_matrix.jl:83\n",
      "┌ Warning: The classes are un-ordered,\n",
      "│ using: negative='B' and positive='M'.\n",
      "│ To suppress this warning, consider coercing to OrderedFactor.\n",
      "└ @ MLJBase /home/andrew/.julia/packages/MLJBase/uKzAz/src/measures/confusion_matrix.jl:83\n",
      "┌ Warning: The classes are un-ordered,\n",
      "│ using: negative='B' and positive='M'.\n",
      "│ To suppress this warning, consider coercing to OrderedFactor.\n",
      "└ @ MLJBase /home/andrew/.julia/packages/MLJBase/uKzAz/src/measures/confusion_matrix.jl:83\n",
      "\u001b[33mEvaluating over 6 folds:  17%[====>                    ]  ETA: 0:00:30\u001b[39m┌ Warning: The classes are un-ordered,\n",
      "│ using: negative='B' and positive='M'.\n",
      "│ To suppress this warning, consider coercing to OrderedFactor.\n",
      "└ @ MLJBase /home/andrew/.julia/packages/MLJBase/uKzAz/src/measures/confusion_matrix.jl:83\n",
      "┌ Warning: The classes are un-ordered,\n",
      "│ using: negative='B' and positive='M'.\n",
      "│ To suppress this warning, consider coercing to OrderedFactor.\n",
      "└ @ MLJBase /home/andrew/.julia/packages/MLJBase/uKzAz/src/measures/confusion_matrix.jl:83\n",
      "┌ Warning: The classes are un-ordered,\n",
      "│ using: negative='B' and positive='M'.\n",
      "│ To suppress this warning, consider coercing to OrderedFactor.\n",
      "└ @ MLJBase /home/andrew/.julia/packages/MLJBase/uKzAz/src/measures/confusion_matrix.jl:83\n",
      "┌ Warning: The classes are un-ordered,\n",
      "│ using: negative='B' and positive='M'.\n",
      "│ To suppress this warning, consider coercing to OrderedFactor.\n",
      "└ @ MLJBase /home/andrew/.julia/packages/MLJBase/uKzAz/src/measures/confusion_matrix.jl:83\n",
      "\u001b[33mEvaluating over 6 folds:  33%[========>                ]  ETA: 0:00:23\u001b[39m┌ Warning: The classes are un-ordered,\n",
      "│ using: negative='B' and positive='M'.\n",
      "│ To suppress this warning, consider coercing to OrderedFactor.\n",
      "└ @ MLJBase /home/andrew/.julia/packages/MLJBase/uKzAz/src/measures/confusion_matrix.jl:83\n",
      "┌ Warning: The classes are un-ordered,\n",
      "│ using: negative='B' and positive='M'.\n",
      "│ To suppress this warning, consider coercing to OrderedFactor.\n",
      "└ @ MLJBase /home/andrew/.julia/packages/MLJBase/uKzAz/src/measures/confusion_matrix.jl:83\n",
      "┌ Warning: The classes are un-ordered,\n",
      "│ using: negative='B' and positive='M'.\n",
      "│ To suppress this warning, consider coercing to OrderedFactor.\n",
      "└ @ MLJBase /home/andrew/.julia/packages/MLJBase/uKzAz/src/measures/confusion_matrix.jl:83\n",
      "┌ Warning: The classes are un-ordered,\n",
      "│ using: negative='B' and positive='M'.\n",
      "│ To suppress this warning, consider coercing to OrderedFactor.\n",
      "└ @ MLJBase /home/andrew/.julia/packages/MLJBase/uKzAz/src/measures/confusion_matrix.jl:83\n",
      "\u001b[33mEvaluating over 6 folds:  50%[============>            ]  ETA: 0:00:17\u001b[39m┌ Warning: The classes are un-ordered,\n",
      "│ using: negative='B' and positive='M'.\n",
      "│ To suppress this warning, consider coercing to OrderedFactor.\n",
      "└ @ MLJBase /home/andrew/.julia/packages/MLJBase/uKzAz/src/measures/confusion_matrix.jl:83\n",
      "┌ Warning: The classes are un-ordered,\n",
      "│ using: negative='B' and positive='M'.\n",
      "│ To suppress this warning, consider coercing to OrderedFactor.\n",
      "└ @ MLJBase /home/andrew/.julia/packages/MLJBase/uKzAz/src/measures/confusion_matrix.jl:83\n",
      "┌ Warning: The classes are un-ordered,\n",
      "│ using: negative='B' and positive='M'.\n",
      "│ To suppress this warning, consider coercing to OrderedFactor.\n",
      "└ @ MLJBase /home/andrew/.julia/packages/MLJBase/uKzAz/src/measures/confusion_matrix.jl:83\n",
      "┌ Warning: The classes are un-ordered,\n",
      "│ using: negative='B' and positive='M'.\n",
      "│ To suppress this warning, consider coercing to OrderedFactor.\n",
      "└ @ MLJBase /home/andrew/.julia/packages/MLJBase/uKzAz/src/measures/confusion_matrix.jl:83\n",
      "\u001b[33mEvaluating over 6 folds:  67%[================>        ]  ETA: 0:00:11\u001b[39m┌ Warning: The classes are un-ordered,\n",
      "│ using: negative='B' and positive='M'.\n",
      "│ To suppress this warning, consider coercing to OrderedFactor.\n",
      "└ @ MLJBase /home/andrew/.julia/packages/MLJBase/uKzAz/src/measures/confusion_matrix.jl:83\n",
      "┌ Warning: The classes are un-ordered,\n",
      "│ using: negative='B' and positive='M'.\n",
      "│ To suppress this warning, consider coercing to OrderedFactor.\n",
      "└ @ MLJBase /home/andrew/.julia/packages/MLJBase/uKzAz/src/measures/confusion_matrix.jl:83\n",
      "┌ Warning: The classes are un-ordered,\n",
      "│ using: negative='B' and positive='M'.\n",
      "│ To suppress this warning, consider coercing to OrderedFactor.\n",
      "└ @ MLJBase /home/andrew/.julia/packages/MLJBase/uKzAz/src/measures/confusion_matrix.jl:83\n",
      "┌ Warning: The classes are un-ordered,\n",
      "│ using: negative='B' and positive='M'.\n",
      "│ To suppress this warning, consider coercing to OrderedFactor.\n",
      "└ @ MLJBase /home/andrew/.julia/packages/MLJBase/uKzAz/src/measures/confusion_matrix.jl:83\n",
      "\u001b[33mEvaluating over 6 folds:  83%[====================>    ]  ETA: 0:00:06\u001b[39m┌ Warning: The classes are un-ordered,\n",
      "│ using: negative='B' and positive='M'.\n",
      "│ To suppress this warning, consider coercing to OrderedFactor.\n",
      "└ @ MLJBase /home/andrew/.julia/packages/MLJBase/uKzAz/src/measures/confusion_matrix.jl:83\n",
      "┌ Warning: The classes are un-ordered,\n",
      "│ using: negative='B' and positive='M'.\n",
      "│ To suppress this warning, consider coercing to OrderedFactor.\n",
      "└ @ MLJBase /home/andrew/.julia/packages/MLJBase/uKzAz/src/measures/confusion_matrix.jl:83\n",
      "┌ Warning: The classes are un-ordered,\n",
      "│ using: negative='B' and positive='M'.\n",
      "│ To suppress this warning, consider coercing to OrderedFactor.\n",
      "└ @ MLJBase /home/andrew/.julia/packages/MLJBase/uKzAz/src/measures/confusion_matrix.jl:83\n",
      "┌ Warning: The classes are un-ordered,\n",
      "│ using: negative='B' and positive='M'.\n",
      "│ To suppress this warning, consider coercing to OrderedFactor.\n",
      "└ @ MLJBase /home/andrew/.julia/packages/MLJBase/uKzAz/src/measures/confusion_matrix.jl:83\n",
      "\u001b[33mEvaluating over 6 folds: 100%[=========================] Time: 0:00:33\u001b[39m\n"
     ]
    },
    {
     "data": {
      "text/plain": [
       "┌\u001b[0m─────────────────────\u001b[0m┬\u001b[0m───────────────\u001b[0m┬\u001b[0m──────────────────────────────────────────────────\u001b[0m┐\u001b[0m\n",
       "│\u001b[0m\u001b[22m _.measure           \u001b[0m│\u001b[0m\u001b[22m _.measurement \u001b[0m│\u001b[0m\u001b[22m _.per_fold                                       \u001b[0m│\u001b[0m\n",
       "├\u001b[0m─────────────────────\u001b[0m┼\u001b[0m───────────────\u001b[0m┼\u001b[0m──────────────────────────────────────────────────\u001b[0m┤\u001b[0m\n",
       "│\u001b[0m true_negative_rate  \u001b[0m│\u001b[0m 0.985         \u001b[0m│\u001b[0m [1.0, 0.966, 0.967, 1.0, 0.98, 1.0]              \u001b[0m│\u001b[0m\n",
       "│\u001b[0m true_positive_rate  \u001b[0m│\u001b[0m 0.947         \u001b[0m│\u001b[0m [0.962, 0.919, 0.912, 0.941, 0.978, 0.971]       \u001b[0m│\u001b[0m\n",
       "│\u001b[0m false_negative_rate \u001b[0m│\u001b[0m 0.0528        \u001b[0m│\u001b[0m [0.0385, 0.0811, 0.0882, 0.0588, 0.0217, 0.0286] \u001b[0m│\u001b[0m\n",
       "│\u001b[0m false_positive_rate \u001b[0m│\u001b[0m 0.0146        \u001b[0m│\u001b[0m [0.0, 0.0345, 0.0328, 0.0, 0.0204, 0.0]          \u001b[0m│\u001b[0m\n",
       "└\u001b[0m─────────────────────\u001b[0m┴\u001b[0m───────────────\u001b[0m┴\u001b[0m──────────────────────────────────────────────────\u001b[0m┘\u001b[0m\n",
       "_.per_observation = [missing, missing, missing, missing]\n",
       "_.fitted_params_per_fold = [ … ]\n",
       "_.report_per_fold = [ … ]\n"
      ]
     },
     "execution_count": 76,
     "metadata": {},
     "output_type": "execute_result"
    }
   ],
   "source": [
    "nn_acc = evaluate!(Final_Net, resampling=CV(shuffle=true), measure=[tnr,tpr,fnr,fpr], verbosity=1, operation=predict_mode)"
   ]
  },
  {
   "cell_type": "code",
   "execution_count": 77,
   "metadata": {},
   "outputs": [],
   "source": [
    "ŷ = MLJ.predict(Final_Net, X_stand[test,:]);"
   ]
  },
  {
   "cell_type": "code",
   "execution_count": 78,
   "metadata": {},
   "outputs": [
    {
     "data": {
      "text/plain": [
       "0.3249617f0"
      ]
     },
     "execution_count": 78,
     "metadata": {},
     "output_type": "execute_result"
    }
   ],
   "source": [
    "cross_entropy(ŷ, y[test]) |> mean"
   ]
  },
  {
   "cell_type": "code",
   "execution_count": 79,
   "metadata": {},
   "outputs": [
    {
     "data": {
      "text/plain": [
       "0.9883040935672515"
      ]
     },
     "execution_count": 79,
     "metadata": {},
     "output_type": "execute_result"
    }
   ],
   "source": [
    "acc(ŷ, y[test])"
   ]
  },
  {
   "cell_type": "code",
   "execution_count": 80,
   "metadata": {},
   "outputs": [
    {
     "name": "stderr",
     "output_type": "stream",
     "text": [
      "┌ Warning: The classes are un-ordered,\n",
      "│ using: negative='B' and positive='M'.\n",
      "│ To suppress this warning, consider coercing to OrderedFactor.\n",
      "└ @ MLJBase /home/andrew/.julia/packages/MLJBase/uKzAz/src/measures/confusion_matrix.jl:83\n"
     ]
    },
    {
     "data": {
      "text/plain": [
       "              ┌───────────────────────────┐\n",
       "              │       Ground Truth        │\n",
       "┌─────────────┼─────────────┬─────────────┤\n",
       "│  Predicted  │      B      │      M      │\n",
       "├─────────────┼─────────────┼─────────────┤\n",
       "│      B      │     107     │      2      │\n",
       "├─────────────┼─────────────┼─────────────┤\n",
       "│      M      │      0      │     62      │\n",
       "└─────────────┴─────────────┴─────────────┘\n"
      ]
     },
     "execution_count": 80,
     "metadata": {},
     "output_type": "execute_result"
    }
   ],
   "source": [
    "confusion_matrix(mode.(ŷ), y[test])"
   ]
  },
  {
   "cell_type": "code",
   "execution_count": 81,
   "metadata": {},
   "outputs": [
    {
     "data": {
      "text/plain": [
       "(chain = Chain(Chain(Dense(30, 34, σ), Dense(34, 2, σ)), softmax),)"
      ]
     },
     "execution_count": 81,
     "metadata": {},
     "output_type": "execute_result"
    }
   ],
   "source": [
    "fitted_params(Final_Net)"
   ]
  },
  {
   "cell_type": "code",
   "execution_count": 82,
   "metadata": {
    "scrolled": true
   },
   "outputs": [
    {
     "data": {
      "text/plain": [
       "(training_losses = Any[0.66932636f0, 0.6344296f0, 0.60356635f0, 0.576627f0, 0.55337256f0, 0.5333697f0, 0.5161165f0, 0.5011453f0, 0.48806328f0, 0.4765533f0  …  0.32163554f0, 0.32163522f0, 0.32163486f0, 0.3216345f0, 0.32163426f0, 0.3216339f0, 0.32163364f0, 0.3216333f0, 0.321633f0, 0.32163274f0],)"
      ]
     },
     "execution_count": 82,
     "metadata": {},
     "output_type": "execute_result"
    }
   ],
   "source": [
    "report(Final_Net)"
   ]
  },
  {
   "cell_type": "code",
   "execution_count": null,
   "metadata": {},
   "outputs": [],
   "source": []
  },
  {
   "cell_type": "code",
   "execution_count": null,
   "metadata": {},
   "outputs": [],
   "source": []
  },
  {
   "cell_type": "code",
   "execution_count": null,
   "metadata": {},
   "outputs": [],
   "source": []
  },
  {
   "cell_type": "markdown",
   "metadata": {},
   "source": [
    "A lot slower than Holdout"
   ]
  },
  {
   "cell_type": "code",
   "execution_count": 83,
   "metadata": {},
   "outputs": [],
   "source": [
    "# self_tuning_nn_model = TunedModel(model=nn2,\n",
    "#                                     tuning=Grid(goal=50),\n",
    "#                                     resampling=CV(), \n",
    "#                                     measure=cross_entropy,\n",
    "#                                     acceleration=CPUThreads(),\n",
    "#                                     range=[r_its, r_lr])\n",
    "\n",
    "# self_tuning_nn = machine(self_tuning_nn_model, X_stand, y)"
   ]
  },
  {
   "cell_type": "code",
   "execution_count": 84,
   "metadata": {},
   "outputs": [],
   "source": [
    "# fit!(self_tuning_nn)"
   ]
  },
  {
   "cell_type": "code",
   "execution_count": 85,
   "metadata": {},
   "outputs": [],
   "source": [
    "# plot(self_tuning_nn)"
   ]
  }
 ],
 "metadata": {
  "kernelspec": {
   "display_name": "Julia 1.5.0",
   "language": "julia",
   "name": "julia-1.5"
  },
  "language_info": {
   "file_extension": ".jl",
   "mimetype": "application/julia",
   "name": "julia",
   "version": "1.5.0"
  }
 },
 "nbformat": 4,
 "nbformat_minor": 4
}
