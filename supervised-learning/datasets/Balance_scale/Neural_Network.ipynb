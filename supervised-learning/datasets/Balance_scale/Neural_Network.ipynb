{
 "cells": [
  {
   "cell_type": "markdown",
   "metadata": {},
   "source": [
    "# Imports"
   ]
  },
  {
   "cell_type": "code",
   "execution_count": 236,
   "metadata": {},
   "outputs": [],
   "source": [
    "using DataFrames\n",
    "using CSV\n",
    "using MLJ\n",
    "using Flux\n",
    "using Plots\n",
    "using StatsBase\n",
    "using MLJ: confusion_matrix\n",
    "\n",
    "include(\"../../lib.jl\")\n",
    "\n",
    "ENV[\"LINES\"]=50;"
   ]
  },
  {
   "cell_type": "code",
   "execution_count": 237,
   "metadata": {},
   "outputs": [
    {
     "ename": "LoadError",
     "evalue": "IOError: mkdir: file already exists (EEXIST)",
     "output_type": "error",
     "traceback": [
      "IOError: mkdir: file already exists (EEXIST)",
      "",
      "Stacktrace:",
      " [1] uv_error at ./libuv.jl:97 [inlined]",
      " [2] mkdir(::String; mode::UInt16) at ./file.jl:177",
      " [3] mkdir(::String) at ./file.jl:170",
      " [4] top-level scope at In[237]:1",
      " [5] include_string(::Function, ::Module, ::String, ::String) at ./loading.jl:1091"
     ]
    }
   ],
   "source": [
    "mkdir(\"./Figures\")"
   ]
  },
  {
   "cell_type": "markdown",
   "metadata": {},
   "source": [
    "# Datasets"
   ]
  },
  {
   "cell_type": "code",
   "execution_count": 238,
   "metadata": {},
   "outputs": [
    {
     "data": {
      "text/html": [
       "<table class=\"data-frame\"><thead><tr><th></th><th>Class_Name</th><th>Left_Weight</th><th>Left_Distance</th><th>Right_Weight</th><th>Right_Distance</th></tr><tr><th></th><th>String</th><th>Int64</th><th>Int64</th><th>Int64</th><th>Int64</th></tr></thead><tbody><p>625 rows × 5 columns</p><tr><th>1</th><td>B</td><td>1</td><td>1</td><td>1</td><td>1</td></tr><tr><th>2</th><td>R</td><td>1</td><td>1</td><td>1</td><td>2</td></tr><tr><th>3</th><td>R</td><td>1</td><td>1</td><td>1</td><td>3</td></tr><tr><th>4</th><td>R</td><td>1</td><td>1</td><td>1</td><td>4</td></tr><tr><th>5</th><td>R</td><td>1</td><td>1</td><td>1</td><td>5</td></tr><tr><th>6</th><td>R</td><td>1</td><td>1</td><td>2</td><td>1</td></tr><tr><th>7</th><td>R</td><td>1</td><td>1</td><td>2</td><td>2</td></tr><tr><th>8</th><td>R</td><td>1</td><td>1</td><td>2</td><td>3</td></tr><tr><th>9</th><td>R</td><td>1</td><td>1</td><td>2</td><td>4</td></tr><tr><th>10</th><td>R</td><td>1</td><td>1</td><td>2</td><td>5</td></tr><tr><th>11</th><td>R</td><td>1</td><td>1</td><td>3</td><td>1</td></tr><tr><th>12</th><td>R</td><td>1</td><td>1</td><td>3</td><td>2</td></tr><tr><th>13</th><td>R</td><td>1</td><td>1</td><td>3</td><td>3</td></tr><tr><th>14</th><td>R</td><td>1</td><td>1</td><td>3</td><td>4</td></tr><tr><th>15</th><td>R</td><td>1</td><td>1</td><td>3</td><td>5</td></tr><tr><th>16</th><td>R</td><td>1</td><td>1</td><td>4</td><td>1</td></tr><tr><th>17</th><td>R</td><td>1</td><td>1</td><td>4</td><td>2</td></tr><tr><th>18</th><td>R</td><td>1</td><td>1</td><td>4</td><td>3</td></tr><tr><th>19</th><td>R</td><td>1</td><td>1</td><td>4</td><td>4</td></tr><tr><th>20</th><td>R</td><td>1</td><td>1</td><td>4</td><td>5</td></tr><tr><th>21</th><td>R</td><td>1</td><td>1</td><td>5</td><td>1</td></tr><tr><th>22</th><td>R</td><td>1</td><td>1</td><td>5</td><td>2</td></tr><tr><th>23</th><td>R</td><td>1</td><td>1</td><td>5</td><td>3</td></tr><tr><th>24</th><td>R</td><td>1</td><td>1</td><td>5</td><td>4</td></tr><tr><th>25</th><td>R</td><td>1</td><td>1</td><td>5</td><td>5</td></tr><tr><th>26</th><td>L</td><td>1</td><td>2</td><td>1</td><td>1</td></tr><tr><th>27</th><td>B</td><td>1</td><td>2</td><td>1</td><td>2</td></tr><tr><th>28</th><td>R</td><td>1</td><td>2</td><td>1</td><td>3</td></tr><tr><th>29</th><td>R</td><td>1</td><td>2</td><td>1</td><td>4</td></tr><tr><th>30</th><td>R</td><td>1</td><td>2</td><td>1</td><td>5</td></tr><tr><th>31</th><td>B</td><td>1</td><td>2</td><td>2</td><td>1</td></tr><tr><th>32</th><td>R</td><td>1</td><td>2</td><td>2</td><td>2</td></tr><tr><th>33</th><td>R</td><td>1</td><td>2</td><td>2</td><td>3</td></tr><tr><th>34</th><td>R</td><td>1</td><td>2</td><td>2</td><td>4</td></tr><tr><th>35</th><td>R</td><td>1</td><td>2</td><td>2</td><td>5</td></tr><tr><th>36</th><td>R</td><td>1</td><td>2</td><td>3</td><td>1</td></tr><tr><th>37</th><td>R</td><td>1</td><td>2</td><td>3</td><td>2</td></tr><tr><th>38</th><td>R</td><td>1</td><td>2</td><td>3</td><td>3</td></tr><tr><th>39</th><td>R</td><td>1</td><td>2</td><td>3</td><td>4</td></tr><tr><th>40</th><td>R</td><td>1</td><td>2</td><td>3</td><td>5</td></tr><tr><th>41</th><td>R</td><td>1</td><td>2</td><td>4</td><td>1</td></tr><tr><th>42</th><td>R</td><td>1</td><td>2</td><td>4</td><td>2</td></tr><tr><th>43</th><td>R</td><td>1</td><td>2</td><td>4</td><td>3</td></tr><tr><th>44</th><td>R</td><td>1</td><td>2</td><td>4</td><td>4</td></tr><tr><th>45</th><td>R</td><td>1</td><td>2</td><td>4</td><td>5</td></tr><tr><th>46</th><td>R</td><td>1</td><td>2</td><td>5</td><td>1</td></tr><tr><th>47</th><td>R</td><td>1</td><td>2</td><td>5</td><td>2</td></tr><tr><th>48</th><td>R</td><td>1</td><td>2</td><td>5</td><td>3</td></tr><tr><th>49</th><td>R</td><td>1</td><td>2</td><td>5</td><td>4</td></tr><tr><th>50</th><td>R</td><td>1</td><td>2</td><td>5</td><td>5</td></tr><tr><th>&vellip;</th><td>&vellip;</td><td>&vellip;</td><td>&vellip;</td><td>&vellip;</td><td>&vellip;</td></tr></tbody></table>"
      ],
      "text/latex": [
       "\\begin{tabular}{r|ccccc}\n",
       "\t& Class\\_Name & Left\\_Weight & Left\\_Distance & Right\\_Weight & Right\\_Distance\\\\\n",
       "\t\\hline\n",
       "\t& String & Int64 & Int64 & Int64 & Int64\\\\\n",
       "\t\\hline\n",
       "\t1 & B & 1 & 1 & 1 & 1 \\\\\n",
       "\t2 & R & 1 & 1 & 1 & 2 \\\\\n",
       "\t3 & R & 1 & 1 & 1 & 3 \\\\\n",
       "\t4 & R & 1 & 1 & 1 & 4 \\\\\n",
       "\t5 & R & 1 & 1 & 1 & 5 \\\\\n",
       "\t6 & R & 1 & 1 & 2 & 1 \\\\\n",
       "\t7 & R & 1 & 1 & 2 & 2 \\\\\n",
       "\t8 & R & 1 & 1 & 2 & 3 \\\\\n",
       "\t9 & R & 1 & 1 & 2 & 4 \\\\\n",
       "\t10 & R & 1 & 1 & 2 & 5 \\\\\n",
       "\t11 & R & 1 & 1 & 3 & 1 \\\\\n",
       "\t12 & R & 1 & 1 & 3 & 2 \\\\\n",
       "\t13 & R & 1 & 1 & 3 & 3 \\\\\n",
       "\t14 & R & 1 & 1 & 3 & 4 \\\\\n",
       "\t15 & R & 1 & 1 & 3 & 5 \\\\\n",
       "\t16 & R & 1 & 1 & 4 & 1 \\\\\n",
       "\t17 & R & 1 & 1 & 4 & 2 \\\\\n",
       "\t18 & R & 1 & 1 & 4 & 3 \\\\\n",
       "\t19 & R & 1 & 1 & 4 & 4 \\\\\n",
       "\t20 & R & 1 & 1 & 4 & 5 \\\\\n",
       "\t21 & R & 1 & 1 & 5 & 1 \\\\\n",
       "\t22 & R & 1 & 1 & 5 & 2 \\\\\n",
       "\t23 & R & 1 & 1 & 5 & 3 \\\\\n",
       "\t24 & R & 1 & 1 & 5 & 4 \\\\\n",
       "\t25 & R & 1 & 1 & 5 & 5 \\\\\n",
       "\t26 & L & 1 & 2 & 1 & 1 \\\\\n",
       "\t27 & B & 1 & 2 & 1 & 2 \\\\\n",
       "\t28 & R & 1 & 2 & 1 & 3 \\\\\n",
       "\t29 & R & 1 & 2 & 1 & 4 \\\\\n",
       "\t30 & R & 1 & 2 & 1 & 5 \\\\\n",
       "\t31 & B & 1 & 2 & 2 & 1 \\\\\n",
       "\t32 & R & 1 & 2 & 2 & 2 \\\\\n",
       "\t33 & R & 1 & 2 & 2 & 3 \\\\\n",
       "\t34 & R & 1 & 2 & 2 & 4 \\\\\n",
       "\t35 & R & 1 & 2 & 2 & 5 \\\\\n",
       "\t36 & R & 1 & 2 & 3 & 1 \\\\\n",
       "\t37 & R & 1 & 2 & 3 & 2 \\\\\n",
       "\t38 & R & 1 & 2 & 3 & 3 \\\\\n",
       "\t39 & R & 1 & 2 & 3 & 4 \\\\\n",
       "\t40 & R & 1 & 2 & 3 & 5 \\\\\n",
       "\t41 & R & 1 & 2 & 4 & 1 \\\\\n",
       "\t42 & R & 1 & 2 & 4 & 2 \\\\\n",
       "\t43 & R & 1 & 2 & 4 & 3 \\\\\n",
       "\t44 & R & 1 & 2 & 4 & 4 \\\\\n",
       "\t45 & R & 1 & 2 & 4 & 5 \\\\\n",
       "\t46 & R & 1 & 2 & 5 & 1 \\\\\n",
       "\t47 & R & 1 & 2 & 5 & 2 \\\\\n",
       "\t48 & R & 1 & 2 & 5 & 3 \\\\\n",
       "\t49 & R & 1 & 2 & 5 & 4 \\\\\n",
       "\t50 & R & 1 & 2 & 5 & 5 \\\\\n",
       "\t$\\dots$ & $\\dots$ & $\\dots$ & $\\dots$ & $\\dots$ & $\\dots$ \\\\\n",
       "\\end{tabular}\n"
      ],
      "text/plain": [
       "625×5 DataFrame. Omitted printing of 1 columns\n",
       "│ Row │ Class_Name │ Left_Weight │ Left_Distance │ Right_Weight │\n",
       "│     │ \u001b[90mString\u001b[39m     │ \u001b[90mInt64\u001b[39m       │ \u001b[90mInt64\u001b[39m         │ \u001b[90mInt64\u001b[39m        │\n",
       "├─────┼────────────┼─────────────┼───────────────┼──────────────┤\n",
       "│ 1   │ B          │ 1           │ 1             │ 1            │\n",
       "│ 2   │ R          │ 1           │ 1             │ 1            │\n",
       "│ 3   │ R          │ 1           │ 1             │ 1            │\n",
       "│ 4   │ R          │ 1           │ 1             │ 1            │\n",
       "│ 5   │ R          │ 1           │ 1             │ 1            │\n",
       "│ 6   │ R          │ 1           │ 1             │ 2            │\n",
       "│ 7   │ R          │ 1           │ 1             │ 2            │\n",
       "│ 8   │ R          │ 1           │ 1             │ 2            │\n",
       "│ 9   │ R          │ 1           │ 1             │ 2            │\n",
       "│ 10  │ R          │ 1           │ 1             │ 2            │\n",
       "│ 11  │ R          │ 1           │ 1             │ 3            │\n",
       "│ 12  │ R          │ 1           │ 1             │ 3            │\n",
       "│ 13  │ R          │ 1           │ 1             │ 3            │\n",
       "│ 14  │ R          │ 1           │ 1             │ 3            │\n",
       "│ 15  │ R          │ 1           │ 1             │ 3            │\n",
       "│ 16  │ R          │ 1           │ 1             │ 4            │\n",
       "│ 17  │ R          │ 1           │ 1             │ 4            │\n",
       "│ 18  │ R          │ 1           │ 1             │ 4            │\n",
       "│ 19  │ R          │ 1           │ 1             │ 4            │\n",
       "│ 20  │ R          │ 1           │ 1             │ 4            │\n",
       "⋮\n",
       "│ 605 │ L          │ 5           │ 5             │ 1            │\n",
       "│ 606 │ L          │ 5           │ 5             │ 2            │\n",
       "│ 607 │ L          │ 5           │ 5             │ 2            │\n",
       "│ 608 │ L          │ 5           │ 5             │ 2            │\n",
       "│ 609 │ L          │ 5           │ 5             │ 2            │\n",
       "│ 610 │ L          │ 5           │ 5             │ 2            │\n",
       "│ 611 │ L          │ 5           │ 5             │ 3            │\n",
       "│ 612 │ L          │ 5           │ 5             │ 3            │\n",
       "│ 613 │ L          │ 5           │ 5             │ 3            │\n",
       "│ 614 │ L          │ 5           │ 5             │ 3            │\n",
       "│ 615 │ L          │ 5           │ 5             │ 3            │\n",
       "│ 616 │ L          │ 5           │ 5             │ 4            │\n",
       "│ 617 │ L          │ 5           │ 5             │ 4            │\n",
       "│ 618 │ L          │ 5           │ 5             │ 4            │\n",
       "│ 619 │ L          │ 5           │ 5             │ 4            │\n",
       "│ 620 │ L          │ 5           │ 5             │ 4            │\n",
       "│ 621 │ L          │ 5           │ 5             │ 5            │\n",
       "│ 622 │ L          │ 5           │ 5             │ 5            │\n",
       "│ 623 │ L          │ 5           │ 5             │ 5            │\n",
       "│ 624 │ L          │ 5           │ 5             │ 5            │\n",
       "│ 625 │ B          │ 5           │ 5             │ 5            │"
      ]
     },
     "execution_count": 238,
     "metadata": {},
     "output_type": "execute_result"
    }
   ],
   "source": [
    "data = CSV.read(\"data.csv\")"
   ]
  },
  {
   "cell_type": "code",
   "execution_count": 239,
   "metadata": {},
   "outputs": [
    {
     "data": {
      "text/html": [
       "<table class=\"data-frame\"><thead><tr><th></th><th>variable</th><th>mean</th><th>min</th><th>median</th><th>max</th><th>nunique</th><th>nmissing</th><th>eltype</th></tr><tr><th></th><th>Symbol</th><th>Union…</th><th>Any</th><th>Union…</th><th>Any</th><th>Union…</th><th>Nothing</th><th>DataType</th></tr></thead><tbody><p>5 rows × 8 columns</p><tr><th>1</th><td>Class_Name</td><td></td><td>B</td><td></td><td>R</td><td>3</td><td></td><td>String</td></tr><tr><th>2</th><td>Left_Weight</td><td>3.0</td><td>1</td><td>3.0</td><td>5</td><td></td><td></td><td>Int64</td></tr><tr><th>3</th><td>Left_Distance</td><td>3.0</td><td>1</td><td>3.0</td><td>5</td><td></td><td></td><td>Int64</td></tr><tr><th>4</th><td>Right_Weight</td><td>3.0</td><td>1</td><td>3.0</td><td>5</td><td></td><td></td><td>Int64</td></tr><tr><th>5</th><td>Right_Distance</td><td>3.0</td><td>1</td><td>3.0</td><td>5</td><td></td><td></td><td>Int64</td></tr></tbody></table>"
      ],
      "text/latex": [
       "\\begin{tabular}{r|cccccccc}\n",
       "\t& variable & mean & min & median & max & nunique & nmissing & eltype\\\\\n",
       "\t\\hline\n",
       "\t& Symbol & Union… & Any & Union… & Any & Union… & Nothing & DataType\\\\\n",
       "\t\\hline\n",
       "\t1 & Class\\_Name &  & B &  & R & 3 &  & String \\\\\n",
       "\t2 & Left\\_Weight & 3.0 & 1 & 3.0 & 5 &  &  & Int64 \\\\\n",
       "\t3 & Left\\_Distance & 3.0 & 1 & 3.0 & 5 &  &  & Int64 \\\\\n",
       "\t4 & Right\\_Weight & 3.0 & 1 & 3.0 & 5 &  &  & Int64 \\\\\n",
       "\t5 & Right\\_Distance & 3.0 & 1 & 3.0 & 5 &  &  & Int64 \\\\\n",
       "\\end{tabular}\n"
      ],
      "text/plain": [
       "5×8 DataFrame. Omitted printing of 1 columns\n",
       "│ Row │ variable       │ mean   │ min │ median │ max │ nunique │ nmissing │\n",
       "│     │ \u001b[90mSymbol\u001b[39m         │ \u001b[90mUnion…\u001b[39m │ \u001b[90mAny\u001b[39m │ \u001b[90mUnion…\u001b[39m │ \u001b[90mAny\u001b[39m │ \u001b[90mUnion…\u001b[39m  │ \u001b[90mNothing\u001b[39m  │\n",
       "├─────┼────────────────┼────────┼─────┼────────┼─────┼─────────┼──────────┤\n",
       "│ 1   │ Class_Name     │        │ B   │        │ R   │ 3       │          │\n",
       "│ 2   │ Left_Weight    │ 3.0    │ 1   │ 3.0    │ 5   │         │          │\n",
       "│ 3   │ Left_Distance  │ 3.0    │ 1   │ 3.0    │ 5   │         │          │\n",
       "│ 4   │ Right_Weight   │ 3.0    │ 1   │ 3.0    │ 5   │         │          │\n",
       "│ 5   │ Right_Distance │ 3.0    │ 1   │ 3.0    │ 5   │         │          │"
      ]
     },
     "execution_count": 239,
     "metadata": {},
     "output_type": "execute_result"
    }
   ],
   "source": [
    "describe(data)"
   ]
  },
  {
   "cell_type": "markdown",
   "metadata": {},
   "source": [
    "Look at class labels to see if dataset is imbalanced"
   ]
  },
  {
   "cell_type": "code",
   "execution_count": 240,
   "metadata": {},
   "outputs": [
    {
     "data": {
      "text/plain": [
       "Dict{String,Int64} with 3 entries:\n",
       "  \"B\" => 49\n",
       "  \"L\" => 288\n",
       "  \"R\" => 288"
      ]
     },
     "execution_count": 240,
     "metadata": {},
     "output_type": "execute_result"
    }
   ],
   "source": [
    "label_counts = countmap(data[:Class_Name])"
   ]
  },
  {
   "cell_type": "code",
   "execution_count": 241,
   "metadata": {},
   "outputs": [
    {
     "data": {
      "text/plain": [
       "3-element Array{Float64,1}:\n",
       " 0.0784\n",
       " 0.4608\n",
       " 0.4608"
      ]
     },
     "execution_count": 241,
     "metadata": {},
     "output_type": "execute_result"
    }
   ],
   "source": [
    "collect(label_counts[i] / size(data)[1] for i in keys(label_counts))"
   ]
  },
  {
   "cell_type": "markdown",
   "metadata": {},
   "source": [
    "Get data ready for training"
   ]
  },
  {
   "cell_type": "code",
   "execution_count": 242,
   "metadata": {},
   "outputs": [
    {
     "data": {
      "text/plain": [
       "┌\u001b[0m────────────────\u001b[0m┬\u001b[0m─────────────────────────────────\u001b[0m┬\u001b[0m───────────────\u001b[0m┐\u001b[0m\n",
       "│\u001b[0m\u001b[22m _.names        \u001b[0m│\u001b[0m\u001b[22m _.types                         \u001b[0m│\u001b[0m\u001b[22m _.scitypes    \u001b[0m│\u001b[0m\n",
       "├\u001b[0m────────────────\u001b[0m┼\u001b[0m─────────────────────────────────\u001b[0m┼\u001b[0m───────────────\u001b[0m┤\u001b[0m\n",
       "│\u001b[0m Class_Name     \u001b[0m│\u001b[0m CategoricalValue{String,UInt32} \u001b[0m│\u001b[0m Multiclass{3} \u001b[0m│\u001b[0m\n",
       "│\u001b[0m Left_Weight    \u001b[0m│\u001b[0m Float64                         \u001b[0m│\u001b[0m Continuous    \u001b[0m│\u001b[0m\n",
       "│\u001b[0m Left_Distance  \u001b[0m│\u001b[0m Float64                         \u001b[0m│\u001b[0m Continuous    \u001b[0m│\u001b[0m\n",
       "│\u001b[0m Right_Weight   \u001b[0m│\u001b[0m Float64                         \u001b[0m│\u001b[0m Continuous    \u001b[0m│\u001b[0m\n",
       "│\u001b[0m Right_Distance \u001b[0m│\u001b[0m Float64                         \u001b[0m│\u001b[0m Continuous    \u001b[0m│\u001b[0m\n",
       "└\u001b[0m────────────────\u001b[0m┴\u001b[0m─────────────────────────────────\u001b[0m┴\u001b[0m───────────────\u001b[0m┘\u001b[0m\n",
       "_.nrows = 625\n"
      ]
     },
     "execution_count": 242,
     "metadata": {},
     "output_type": "execute_result"
    }
   ],
   "source": [
    "coerce!(data, :Class_Name=>Multiclass,\n",
    "              :Left_Weight=>Continuous,\n",
    "              :Right_Weight=>Continuous,\n",
    "              :Left_Distance=>Continuous,\n",
    "              :Right_Distance=>Continuous)\n",
    "schema(data)"
   ]
  },
  {
   "cell_type": "code",
   "execution_count": 243,
   "metadata": {
    "scrolled": false
   },
   "outputs": [
    {
     "data": {
      "text/plain": [
       "(CategoricalValue{String,UInt32}[\"B\", \"R\", \"R\", \"R\", \"R\", \"R\", \"R\", \"R\", \"R\", \"R\"  …  \"L\", \"L\", \"L\", \"L\", \"L\", \"L\", \"L\", \"L\", \"L\", \"B\"], 625×4 DataFrame\n",
       "│ Row │ Left_Weight │ Left_Distance │ Right_Weight │ Right_Distance │\n",
       "│     │ \u001b[90mFloat64\u001b[39m     │ \u001b[90mFloat64\u001b[39m       │ \u001b[90mFloat64\u001b[39m      │ \u001b[90mFloat64\u001b[39m        │\n",
       "├─────┼─────────────┼───────────────┼──────────────┼────────────────┤\n",
       "│ 1   │ 1.0         │ 1.0           │ 1.0          │ 1.0            │\n",
       "│ 2   │ 1.0         │ 1.0           │ 1.0          │ 2.0            │\n",
       "│ 3   │ 1.0         │ 1.0           │ 1.0          │ 3.0            │\n",
       "│ 4   │ 1.0         │ 1.0           │ 1.0          │ 4.0            │\n",
       "│ 5   │ 1.0         │ 1.0           │ 1.0          │ 5.0            │\n",
       "│ 6   │ 1.0         │ 1.0           │ 2.0          │ 1.0            │\n",
       "│ 7   │ 1.0         │ 1.0           │ 2.0          │ 2.0            │\n",
       "│ 8   │ 1.0         │ 1.0           │ 2.0          │ 3.0            │\n",
       "│ 9   │ 1.0         │ 1.0           │ 2.0          │ 4.0            │\n",
       "│ 10  │ 1.0         │ 1.0           │ 2.0          │ 5.0            │\n",
       "│ 11  │ 1.0         │ 1.0           │ 3.0          │ 1.0            │\n",
       "│ 12  │ 1.0         │ 1.0           │ 3.0          │ 2.0            │\n",
       "│ 13  │ 1.0         │ 1.0           │ 3.0          │ 3.0            │\n",
       "│ 14  │ 1.0         │ 1.0           │ 3.0          │ 4.0            │\n",
       "│ 15  │ 1.0         │ 1.0           │ 3.0          │ 5.0            │\n",
       "│ 16  │ 1.0         │ 1.0           │ 4.0          │ 1.0            │\n",
       "│ 17  │ 1.0         │ 1.0           │ 4.0          │ 2.0            │\n",
       "│ 18  │ 1.0         │ 1.0           │ 4.0          │ 3.0            │\n",
       "│ 19  │ 1.0         │ 1.0           │ 4.0          │ 4.0            │\n",
       "│ 20  │ 1.0         │ 1.0           │ 4.0          │ 5.0            │\n",
       "⋮\n",
       "│ 605 │ 5.0         │ 5.0           │ 1.0          │ 5.0            │\n",
       "│ 606 │ 5.0         │ 5.0           │ 2.0          │ 1.0            │\n",
       "│ 607 │ 5.0         │ 5.0           │ 2.0          │ 2.0            │\n",
       "│ 608 │ 5.0         │ 5.0           │ 2.0          │ 3.0            │\n",
       "│ 609 │ 5.0         │ 5.0           │ 2.0          │ 4.0            │\n",
       "│ 610 │ 5.0         │ 5.0           │ 2.0          │ 5.0            │\n",
       "│ 611 │ 5.0         │ 5.0           │ 3.0          │ 1.0            │\n",
       "│ 612 │ 5.0         │ 5.0           │ 3.0          │ 2.0            │\n",
       "│ 613 │ 5.0         │ 5.0           │ 3.0          │ 3.0            │\n",
       "│ 614 │ 5.0         │ 5.0           │ 3.0          │ 4.0            │\n",
       "│ 615 │ 5.0         │ 5.0           │ 3.0          │ 5.0            │\n",
       "│ 616 │ 5.0         │ 5.0           │ 4.0          │ 1.0            │\n",
       "│ 617 │ 5.0         │ 5.0           │ 4.0          │ 2.0            │\n",
       "│ 618 │ 5.0         │ 5.0           │ 4.0          │ 3.0            │\n",
       "│ 619 │ 5.0         │ 5.0           │ 4.0          │ 4.0            │\n",
       "│ 620 │ 5.0         │ 5.0           │ 4.0          │ 5.0            │\n",
       "│ 621 │ 5.0         │ 5.0           │ 5.0          │ 1.0            │\n",
       "│ 622 │ 5.0         │ 5.0           │ 5.0          │ 2.0            │\n",
       "│ 623 │ 5.0         │ 5.0           │ 5.0          │ 3.0            │\n",
       "│ 624 │ 5.0         │ 5.0           │ 5.0          │ 4.0            │\n",
       "│ 625 │ 5.0         │ 5.0           │ 5.0          │ 5.0            │)"
      ]
     },
     "execution_count": 243,
     "metadata": {},
     "output_type": "execute_result"
    }
   ],
   "source": [
    "y, X = unpack(data, ==(:Class_Name), colname->true)"
   ]
  },
  {
   "cell_type": "markdown",
   "metadata": {},
   "source": [
    "Partition train and test data accoring to class labels"
   ]
  },
  {
   "cell_type": "code",
   "execution_count": 244,
   "metadata": {},
   "outputs": [
    {
     "data": {
      "text/plain": [
       "([595, 102, 55, 568, 425, 389, 146, 63, 372, 250  …  195, 500, 571, 533, 112, 396, 297, 106, 303, 261], [444, 144, 546, 43, 19, 173, 365, 423, 27, 218  …  293, 614, 90, 471, 13, 134, 296, 79, 395, 415])"
      ]
     },
     "execution_count": 244,
     "metadata": {},
     "output_type": "execute_result"
    }
   ],
   "source": [
    "# data to use when trying to fit a single validation set\n",
    "train, test = partition(eachindex(y), 0.7, shuffle=true, rng=123, stratify=values(data[:Class_Name])) # gives 70:30 split"
   ]
  },
  {
   "cell_type": "code",
   "execution_count": 245,
   "metadata": {
    "scrolled": false
   },
   "outputs": [
    {
     "data": {
      "text/plain": [
       "3-element Array{Float64,1}:\n",
       " 0.0776255707762557\n",
       " 0.4611872146118721\n",
       " 0.4611872146118721"
      ]
     },
     "execution_count": 245,
     "metadata": {},
     "output_type": "execute_result"
    }
   ],
   "source": [
    "train_counts = countmap(data[train,:Class_Name])\n",
    "collect(train_counts[i] / size(train)[1] for i in keys(train_counts))"
   ]
  },
  {
   "cell_type": "code",
   "execution_count": 246,
   "metadata": {
    "scrolled": false
   },
   "outputs": [
    {
     "data": {
      "text/plain": [
       "3-element Array{Float64,1}:\n",
       " 0.08021390374331551\n",
       " 0.45989304812834225\n",
       " 0.45989304812834225"
      ]
     },
     "execution_count": 246,
     "metadata": {},
     "output_type": "execute_result"
    }
   ],
   "source": [
    "test_counts = countmap(data[test,:Class_Name])\n",
    "collect(test_counts[i] / size(test)[1] for i in keys(test_counts))"
   ]
  },
  {
   "cell_type": "markdown",
   "metadata": {},
   "source": [
    "# Five Learning Algorithms\n",
    "\n",
    "* Decision trees with some form of pruning\n",
    "* Neural networks\n",
    "* Boosting\n",
    "* Support Vector Machines\n",
    "* k-nearest neighbors\n",
    "\n",
    "\n",
    "##### Testing\n",
    "* Implement the algorithms\n",
    "* Design two *interesting* classification problems. For the purposes of this assignment, a classification problem is just a set of training examples and a set of test examples."
   ]
  },
  {
   "cell_type": "code",
   "execution_count": 247,
   "metadata": {
    "scrolled": true
   },
   "outputs": [
    {
     "data": {
      "text/plain": [
       "42-element Array{NamedTuple{(:name, :package_name, :is_supervised, :docstring, :hyperparameter_ranges, :hyperparameter_types, :hyperparameters, :implemented_methods, :is_pure_julia, :is_wrapper, :load_path, :package_license, :package_url, :package_uuid, :prediction_type, :supports_online, :supports_weights, :input_scitype, :target_scitype, :output_scitype),T} where T<:Tuple,1}:\n",
       " (name = AdaBoostClassifier, package_name = ScikitLearn, ... )\n",
       " (name = AdaBoostStumpClassifier, package_name = DecisionTree, ... )\n",
       " (name = BaggingClassifier, package_name = ScikitLearn, ... )\n",
       " (name = BayesianLDA, package_name = MultivariateStats, ... )\n",
       " (name = BayesianLDA, package_name = ScikitLearn, ... )\n",
       " (name = BayesianQDA, package_name = ScikitLearn, ... )\n",
       " (name = BayesianSubspaceLDA, package_name = MultivariateStats, ... )\n",
       " (name = ConstantClassifier, package_name = MLJModels, ... )\n",
       " (name = DecisionTreeClassifier, package_name = DecisionTree, ... )\n",
       " (name = DeterministicConstantClassifier, package_name = MLJModels, ... )\n",
       " (name = DummyClassifier, package_name = ScikitLearn, ... )\n",
       " (name = EvoTreeClassifier, package_name = EvoTrees, ... )\n",
       " (name = ExtraTreesClassifier, package_name = ScikitLearn, ... )\n",
       " (name = GaussianNBClassifier, package_name = NaiveBayes, ... )\n",
       " (name = GaussianNBClassifier, package_name = ScikitLearn, ... )\n",
       " (name = GaussianProcessClassifier, package_name = ScikitLearn, ... )\n",
       " (name = GradientBoostingClassifier, package_name = ScikitLearn, ... )\n",
       " (name = KNNClassifier, package_name = NearestNeighbors, ... )\n",
       " (name = KNeighborsClassifier, package_name = ScikitLearn, ... )\n",
       " (name = LDA, package_name = MultivariateStats, ... )\n",
       " (name = LGBMClassifier, package_name = LightGBM, ... )\n",
       " (name = LinearSVC, package_name = LIBSVM, ... )\n",
       " (name = LogisticCVClassifier, package_name = ScikitLearn, ... )\n",
       " (name = LogisticClassifier, package_name = MLJLinearModels, ... )\n",
       " (name = LogisticClassifier, package_name = ScikitLearn, ... )\n",
       " (name = MultinomialClassifier, package_name = MLJLinearModels, ... )\n",
       " (name = NeuralNetworkClassifier, package_name = MLJFlux, ... )\n",
       " (name = NuSVC, package_name = LIBSVM, ... )\n",
       " (name = PassiveAggressiveClassifier, package_name = ScikitLearn, ... )\n",
       " (name = PerceptronClassifier, package_name = ScikitLearn, ... )\n",
       " (name = ProbabilisticSGDClassifier, package_name = ScikitLearn, ... )\n",
       " (name = RandomForestClassifier, package_name = DecisionTree, ... )\n",
       " (name = RandomForestClassifier, package_name = ScikitLearn, ... )\n",
       " (name = RidgeCVClassifier, package_name = ScikitLearn, ... )\n",
       " (name = RidgeClassifier, package_name = ScikitLearn, ... )\n",
       " (name = SGDClassifier, package_name = ScikitLearn, ... )\n",
       " (name = SVC, package_name = LIBSVM, ... )\n",
       " (name = SVMClassifier, package_name = ScikitLearn, ... )\n",
       " (name = SVMLinearClassifier, package_name = ScikitLearn, ... )\n",
       " (name = SVMNuClassifier, package_name = ScikitLearn, ... )\n",
       " (name = SubspaceLDA, package_name = MultivariateStats, ... )\n",
       " (name = XGBoostClassifier, package_name = XGBoost, ... )"
      ]
     },
     "execution_count": 247,
     "metadata": {},
     "output_type": "execute_result"
    }
   ],
   "source": [
    "models(matching(X,y))"
   ]
  },
  {
   "cell_type": "code",
   "execution_count": 248,
   "metadata": {},
   "outputs": [
    {
     "name": "stderr",
     "output_type": "stream",
     "text": [
      "┌ Info: Model code for NeuralNetworkClassifier already loaded\n",
      "└ @ MLJModels /home/andrew/.julia/packages/MLJModels/mUBFt/src/loading.jl:54\n"
     ]
    },
    {
     "data": {
      "text/plain": [
       "NeuralNetworkClassifier(\n",
       "    builder = Short(\n",
       "            n_hidden = 0,\n",
       "            dropout = 0.5,\n",
       "            σ = NNlib.σ),\n",
       "    finaliser = NNlib.softmax,\n",
       "    optimiser = ADAM(0.001, (0.9, 0.999), IdDict{Any,Any}()),\n",
       "    loss = Flux.crossentropy,\n",
       "    epochs = 10,\n",
       "    batch_size = 1,\n",
       "    lambda = 0.0,\n",
       "    alpha = 0.0,\n",
       "    optimiser_changes_trigger_retraining = false)\u001b[34m @001\u001b[39m"
      ]
     },
     "execution_count": 248,
     "metadata": {},
     "output_type": "execute_result"
    }
   ],
   "source": [
    "@load NeuralNetworkClassifier verbosity=2"
   ]
  },
  {
   "cell_type": "markdown",
   "metadata": {},
   "source": [
    "## Neural networks\n",
    "* Use favorite kind of network and training algorithm. \n",
    "* You may use networks of nodes with as many layers as you like and any activation function you see fit.\n",
    "\n",
    "1. https://github.com/alan-turing-institute/MLJFlux.jl/blob/master/examples/boston.ipynb\n",
    "1. https://github.com/alan-turing-institute/MLJFlux.jl\n",
    "1. https://alan-turing-institute.github.io/MLJ.jl/dev/transformers/"
   ]
  },
  {
   "cell_type": "code",
   "execution_count": 249,
   "metadata": {},
   "outputs": [],
   "source": [
    "# Define a custom network\n",
    "mutable struct CustomNN <:MLJFlux.Builder\n",
    "    n1 ::Int\n",
    "    n2 ::Int\n",
    "end"
   ]
  },
  {
   "cell_type": "code",
   "execution_count": 250,
   "metadata": {},
   "outputs": [],
   "source": [
    "function MLJFlux.build(nn::CustomNN, n_in, n_out)\n",
    "    return Chain(\n",
    "        Flux.Dense(n_in, nn.n1, σ),\n",
    "        Flux.Dense(nn.n1, nn.n2, σ),\n",
    "        Flux.Dense(nn.n2, n_out, σ),\n",
    "    )\n",
    "end"
   ]
  },
  {
   "cell_type": "code",
   "execution_count": 269,
   "metadata": {},
   "outputs": [
    {
     "data": {
      "text/plain": [
       "40"
      ]
     },
     "execution_count": 269,
     "metadata": {},
     "output_type": "execute_result"
    }
   ],
   "source": [
    "layer1 = 80\n",
    "layer2 = 40"
   ]
  },
  {
   "cell_type": "markdown",
   "metadata": {},
   "source": [
    "### No-preprocessing"
   ]
  },
  {
   "cell_type": "code",
   "execution_count": 270,
   "metadata": {},
   "outputs": [
    {
     "data": {
      "text/plain": [
       "NeuralNetworkClassifier(\n",
       "    builder = CustomNN(\n",
       "            n1 = 80,\n",
       "            n2 = 40),\n",
       "    finaliser = NNlib.softmax,\n",
       "    optimiser = ADAM(0.001, (0.9, 0.999), IdDict{Any,Any}()),\n",
       "    loss = Flux.crossentropy,\n",
       "    epochs = 10,\n",
       "    batch_size = 1,\n",
       "    lambda = 0.0,\n",
       "    alpha = 0.0,\n",
       "    optimiser_changes_trigger_retraining = false)\u001b[34m @145\u001b[39m"
      ]
     },
     "execution_count": 270,
     "metadata": {},
     "output_type": "execute_result"
    }
   ],
   "source": [
    "nn = NeuralNetworkClassifier(builder=CustomNN(layer1,layer2))"
   ]
  },
  {
   "cell_type": "code",
   "execution_count": 271,
   "metadata": {},
   "outputs": [
    {
     "data": {
      "text/plain": [
       "\u001b[34mMachine{NeuralNetworkClassifier{CustomNN,…}} @141\u001b[39m trained 0 times.\n",
       "  args: \n",
       "    1:\t\u001b[34mSource @636\u001b[39m ⏎ `Table{AbstractArray{Continuous,1}}`\n",
       "    2:\t\u001b[34mSource @419\u001b[39m ⏎ `AbstractArray{Multiclass{3},1}`\n"
      ]
     },
     "execution_count": 271,
     "metadata": {},
     "output_type": "execute_result"
    }
   ],
   "source": [
    "Net = machine(nn, X, y)"
   ]
  },
  {
   "cell_type": "code",
   "execution_count": 272,
   "metadata": {},
   "outputs": [
    {
     "data": {
      "text/plain": [
       "0.01"
      ]
     },
     "execution_count": 272,
     "metadata": {},
     "output_type": "execute_result"
    }
   ],
   "source": [
    "nn.optimiser.eta = 0.001\n",
    "nn.epochs = 60\n",
    "nn.batch_size = batch_sz\n",
    "nn.lambda = 0.01"
   ]
  },
  {
   "cell_type": "code",
   "execution_count": 273,
   "metadata": {
    "scrolled": true
   },
   "outputs": [
    {
     "name": "stderr",
     "output_type": "stream",
     "text": [
      "┌ Info: Training \u001b[34mMachine{NeuralNetworkClassifier{CustomNN,…}} @141\u001b[39m.\n",
      "└ @ MLJBase /home/andrew/.julia/packages/MLJBase/uKzAz/src/machines.jl:319\n",
      "┌ Info: Loss is 0.9709\n",
      "└ @ MLJFlux /home/andrew/.julia/packages/MLJFlux/rYILg/src/core.jl:95\n",
      "┌ Info: Loss is 0.9517\n",
      "└ @ MLJFlux /home/andrew/.julia/packages/MLJFlux/rYILg/src/core.jl:95\n",
      "┌ Info: Loss is 0.9446\n",
      "└ @ MLJFlux /home/andrew/.julia/packages/MLJFlux/rYILg/src/core.jl:95\n",
      "┌ Info: Loss is 0.9383\n",
      "└ @ MLJFlux /home/andrew/.julia/packages/MLJFlux/rYILg/src/core.jl:95\n",
      "┌ Info: Loss is 0.9259\n",
      "└ @ MLJFlux /home/andrew/.julia/packages/MLJFlux/rYILg/src/core.jl:95\n",
      "┌ Info: Loss is 0.8903\n",
      "└ @ MLJFlux /home/andrew/.julia/packages/MLJFlux/rYILg/src/core.jl:95\n",
      "┌ Info: Loss is 0.8364\n",
      "└ @ MLJFlux /home/andrew/.julia/packages/MLJFlux/rYILg/src/core.jl:95\n",
      "┌ Info: Loss is 0.7849\n",
      "└ @ MLJFlux /home/andrew/.julia/packages/MLJFlux/rYILg/src/core.jl:95\n",
      "┌ Info: Loss is 0.7507\n",
      "└ @ MLJFlux /home/andrew/.julia/packages/MLJFlux/rYILg/src/core.jl:95\n",
      "┌ Info: Loss is 0.7295\n",
      "└ @ MLJFlux /home/andrew/.julia/packages/MLJFlux/rYILg/src/core.jl:95\n",
      "┌ Info: Loss is 0.7154\n",
      "└ @ MLJFlux /home/andrew/.julia/packages/MLJFlux/rYILg/src/core.jl:95\n",
      "┌ Info: Loss is 0.7054\n",
      "└ @ MLJFlux /home/andrew/.julia/packages/MLJFlux/rYILg/src/core.jl:95\n",
      "┌ Info: Loss is 0.698\n",
      "└ @ MLJFlux /home/andrew/.julia/packages/MLJFlux/rYILg/src/core.jl:95\n",
      "┌ Info: Loss is 0.6923\n",
      "└ @ MLJFlux /home/andrew/.julia/packages/MLJFlux/rYILg/src/core.jl:95\n",
      "┌ Info: Loss is 0.6877\n",
      "└ @ MLJFlux /home/andrew/.julia/packages/MLJFlux/rYILg/src/core.jl:95\n",
      "┌ Info: Loss is 0.684\n",
      "└ @ MLJFlux /home/andrew/.julia/packages/MLJFlux/rYILg/src/core.jl:95\n",
      "┌ Info: Loss is 0.6809\n",
      "└ @ MLJFlux /home/andrew/.julia/packages/MLJFlux/rYILg/src/core.jl:95\n",
      "┌ Info: Loss is 0.6783\n",
      "└ @ MLJFlux /home/andrew/.julia/packages/MLJFlux/rYILg/src/core.jl:95\n",
      "┌ Info: Loss is 0.6761\n",
      "└ @ MLJFlux /home/andrew/.julia/packages/MLJFlux/rYILg/src/core.jl:95\n",
      "┌ Info: Loss is 0.6741\n",
      "└ @ MLJFlux /home/andrew/.julia/packages/MLJFlux/rYILg/src/core.jl:95\n",
      "┌ Info: Loss is 0.6724\n",
      "└ @ MLJFlux /home/andrew/.julia/packages/MLJFlux/rYILg/src/core.jl:95\n",
      "┌ Info: Loss is 0.6708\n",
      "└ @ MLJFlux /home/andrew/.julia/packages/MLJFlux/rYILg/src/core.jl:95\n",
      "┌ Info: Loss is 0.6694\n",
      "└ @ MLJFlux /home/andrew/.julia/packages/MLJFlux/rYILg/src/core.jl:95\n",
      "┌ Info: Loss is 0.6681\n",
      "└ @ MLJFlux /home/andrew/.julia/packages/MLJFlux/rYILg/src/core.jl:95\n",
      "┌ Info: Loss is 0.6669\n",
      "└ @ MLJFlux /home/andrew/.julia/packages/MLJFlux/rYILg/src/core.jl:95\n",
      "┌ Info: Loss is 0.6658\n",
      "└ @ MLJFlux /home/andrew/.julia/packages/MLJFlux/rYILg/src/core.jl:95\n",
      "┌ Info: Loss is 0.6648\n",
      "└ @ MLJFlux /home/andrew/.julia/packages/MLJFlux/rYILg/src/core.jl:95\n",
      "┌ Info: Loss is 0.6638\n",
      "└ @ MLJFlux /home/andrew/.julia/packages/MLJFlux/rYILg/src/core.jl:95\n",
      "┌ Info: Loss is 0.663\n",
      "└ @ MLJFlux /home/andrew/.julia/packages/MLJFlux/rYILg/src/core.jl:95\n",
      "┌ Info: Loss is 0.6621\n",
      "└ @ MLJFlux /home/andrew/.julia/packages/MLJFlux/rYILg/src/core.jl:95\n",
      "┌ Info: Loss is 0.6614\n",
      "└ @ MLJFlux /home/andrew/.julia/packages/MLJFlux/rYILg/src/core.jl:95\n",
      "┌ Info: Loss is 0.6606\n",
      "└ @ MLJFlux /home/andrew/.julia/packages/MLJFlux/rYILg/src/core.jl:95\n",
      "┌ Info: Loss is 0.6599\n",
      "└ @ MLJFlux /home/andrew/.julia/packages/MLJFlux/rYILg/src/core.jl:95\n",
      "┌ Info: Loss is 0.6593\n",
      "└ @ MLJFlux /home/andrew/.julia/packages/MLJFlux/rYILg/src/core.jl:95\n",
      "┌ Info: Loss is 0.6587\n",
      "└ @ MLJFlux /home/andrew/.julia/packages/MLJFlux/rYILg/src/core.jl:95\n",
      "┌ Info: Loss is 0.6581\n",
      "└ @ MLJFlux /home/andrew/.julia/packages/MLJFlux/rYILg/src/core.jl:95\n",
      "┌ Info: Loss is 0.6575\n",
      "└ @ MLJFlux /home/andrew/.julia/packages/MLJFlux/rYILg/src/core.jl:95\n",
      "┌ Info: Loss is 0.657\n",
      "└ @ MLJFlux /home/andrew/.julia/packages/MLJFlux/rYILg/src/core.jl:95\n",
      "┌ Info: Loss is 0.6565\n",
      "└ @ MLJFlux /home/andrew/.julia/packages/MLJFlux/rYILg/src/core.jl:95\n",
      "┌ Info: Loss is 0.656\n",
      "└ @ MLJFlux /home/andrew/.julia/packages/MLJFlux/rYILg/src/core.jl:95\n",
      "┌ Info: Loss is 0.6556\n",
      "└ @ MLJFlux /home/andrew/.julia/packages/MLJFlux/rYILg/src/core.jl:95\n",
      "┌ Info: Loss is 0.6551\n",
      "└ @ MLJFlux /home/andrew/.julia/packages/MLJFlux/rYILg/src/core.jl:95\n",
      "┌ Info: Loss is 0.6547\n",
      "└ @ MLJFlux /home/andrew/.julia/packages/MLJFlux/rYILg/src/core.jl:95\n",
      "┌ Info: Loss is 0.6543\n",
      "└ @ MLJFlux /home/andrew/.julia/packages/MLJFlux/rYILg/src/core.jl:95\n",
      "┌ Info: Loss is 0.6539\n",
      "└ @ MLJFlux /home/andrew/.julia/packages/MLJFlux/rYILg/src/core.jl:95\n",
      "┌ Info: Loss is 0.6536\n",
      "└ @ MLJFlux /home/andrew/.julia/packages/MLJFlux/rYILg/src/core.jl:95\n",
      "┌ Info: Loss is 0.6532\n",
      "└ @ MLJFlux /home/andrew/.julia/packages/MLJFlux/rYILg/src/core.jl:95\n",
      "┌ Info: Loss is 0.6529\n",
      "└ @ MLJFlux /home/andrew/.julia/packages/MLJFlux/rYILg/src/core.jl:95\n",
      "┌ Info: Loss is 0.6525\n",
      "└ @ MLJFlux /home/andrew/.julia/packages/MLJFlux/rYILg/src/core.jl:95\n",
      "┌ Info: Loss is 0.6522\n",
      "└ @ MLJFlux /home/andrew/.julia/packages/MLJFlux/rYILg/src/core.jl:95\n",
      "┌ Info: Loss is 0.6519\n",
      "└ @ MLJFlux /home/andrew/.julia/packages/MLJFlux/rYILg/src/core.jl:95\n",
      "┌ Info: Loss is 0.6516\n",
      "└ @ MLJFlux /home/andrew/.julia/packages/MLJFlux/rYILg/src/core.jl:95\n",
      "┌ Info: Loss is 0.6513\n",
      "└ @ MLJFlux /home/andrew/.julia/packages/MLJFlux/rYILg/src/core.jl:95\n",
      "┌ Info: Loss is 0.6511\n",
      "└ @ MLJFlux /home/andrew/.julia/packages/MLJFlux/rYILg/src/core.jl:95\n",
      "┌ Info: Loss is 0.6508\n",
      "└ @ MLJFlux /home/andrew/.julia/packages/MLJFlux/rYILg/src/core.jl:95\n",
      "┌ Info: Loss is 0.6505\n",
      "└ @ MLJFlux /home/andrew/.julia/packages/MLJFlux/rYILg/src/core.jl:95\n",
      "┌ Info: Loss is 0.6503\n",
      "└ @ MLJFlux /home/andrew/.julia/packages/MLJFlux/rYILg/src/core.jl:95\n",
      "┌ Info: Loss is 0.6501\n",
      "└ @ MLJFlux /home/andrew/.julia/packages/MLJFlux/rYILg/src/core.jl:95\n",
      "┌ Info: Loss is 0.6498\n",
      "└ @ MLJFlux /home/andrew/.julia/packages/MLJFlux/rYILg/src/core.jl:95\n",
      "┌ Info: Loss is 0.6496\n",
      "└ @ MLJFlux /home/andrew/.julia/packages/MLJFlux/rYILg/src/core.jl:95\n"
     ]
    },
    {
     "data": {
      "text/plain": [
       "\u001b[34mMachine{NeuralNetworkClassifier{CustomNN,…}} @141\u001b[39m trained 1 time.\n",
       "  args: \n",
       "    1:\t\u001b[34mSource @636\u001b[39m ⏎ `Table{AbstractArray{Continuous,1}}`\n",
       "    2:\t\u001b[34mSource @419\u001b[39m ⏎ `AbstractArray{Multiclass{3},1}`\n"
      ]
     },
     "execution_count": 273,
     "metadata": {},
     "output_type": "execute_result"
    }
   ],
   "source": [
    "fit!(Net, rows=train, verbosity=2)"
   ]
  },
  {
   "cell_type": "code",
   "execution_count": 274,
   "metadata": {},
   "outputs": [
    {
     "data": {
      "text/plain": [
       "100"
      ]
     },
     "execution_count": 274,
     "metadata": {},
     "output_type": "execute_result"
    }
   ],
   "source": [
    "nn.optimiser.eta = nn.optimiser.eta / 3\n",
    "nn.epochs = nn.epochs + 40"
   ]
  },
  {
   "cell_type": "code",
   "execution_count": 275,
   "metadata": {
    "scrolled": true
   },
   "outputs": [
    {
     "name": "stderr",
     "output_type": "stream",
     "text": [
      "┌ Info: Updating \u001b[34mMachine{NeuralNetworkClassifier{CustomNN,…}} @141\u001b[39m.\n",
      "└ @ MLJBase /home/andrew/.julia/packages/MLJBase/uKzAz/src/machines.jl:320\n",
      "┌ Info: Loss is 0.6489\n",
      "└ @ MLJFlux /home/andrew/.julia/packages/MLJFlux/rYILg/src/core.jl:95\n",
      "┌ Info: Loss is 0.6488\n",
      "└ @ MLJFlux /home/andrew/.julia/packages/MLJFlux/rYILg/src/core.jl:95\n",
      "┌ Info: Loss is 0.6487\n",
      "└ @ MLJFlux /home/andrew/.julia/packages/MLJFlux/rYILg/src/core.jl:95\n",
      "┌ Info: Loss is 0.6486\n",
      "└ @ MLJFlux /home/andrew/.julia/packages/MLJFlux/rYILg/src/core.jl:95\n",
      "┌ Info: Loss is 0.6485\n",
      "└ @ MLJFlux /home/andrew/.julia/packages/MLJFlux/rYILg/src/core.jl:95\n",
      "┌ Info: Loss is 0.6484\n",
      "└ @ MLJFlux /home/andrew/.julia/packages/MLJFlux/rYILg/src/core.jl:95\n",
      "┌ Info: Loss is 0.6483\n",
      "└ @ MLJFlux /home/andrew/.julia/packages/MLJFlux/rYILg/src/core.jl:95\n",
      "┌ Info: Loss is 0.6482\n",
      "└ @ MLJFlux /home/andrew/.julia/packages/MLJFlux/rYILg/src/core.jl:95\n",
      "┌ Info: Loss is 0.6482\n",
      "└ @ MLJFlux /home/andrew/.julia/packages/MLJFlux/rYILg/src/core.jl:95\n",
      "┌ Info: Loss is 0.6481\n",
      "└ @ MLJFlux /home/andrew/.julia/packages/MLJFlux/rYILg/src/core.jl:95\n",
      "┌ Info: Loss is 0.648\n",
      "└ @ MLJFlux /home/andrew/.julia/packages/MLJFlux/rYILg/src/core.jl:95\n",
      "┌ Info: Loss is 0.6479\n",
      "└ @ MLJFlux /home/andrew/.julia/packages/MLJFlux/rYILg/src/core.jl:95\n",
      "┌ Info: Loss is 0.6478\n",
      "└ @ MLJFlux /home/andrew/.julia/packages/MLJFlux/rYILg/src/core.jl:95\n",
      "┌ Info: Loss is 0.6477\n",
      "└ @ MLJFlux /home/andrew/.julia/packages/MLJFlux/rYILg/src/core.jl:95\n",
      "┌ Info: Loss is 0.6476\n",
      "└ @ MLJFlux /home/andrew/.julia/packages/MLJFlux/rYILg/src/core.jl:95\n",
      "┌ Info: Loss is 0.6475\n",
      "└ @ MLJFlux /home/andrew/.julia/packages/MLJFlux/rYILg/src/core.jl:95\n",
      "┌ Info: Loss is 0.6475\n",
      "└ @ MLJFlux /home/andrew/.julia/packages/MLJFlux/rYILg/src/core.jl:95\n",
      "┌ Info: Loss is 0.6474\n",
      "└ @ MLJFlux /home/andrew/.julia/packages/MLJFlux/rYILg/src/core.jl:95\n",
      "┌ Info: Loss is 0.6473\n",
      "└ @ MLJFlux /home/andrew/.julia/packages/MLJFlux/rYILg/src/core.jl:95\n",
      "┌ Info: Loss is 0.6472\n",
      "└ @ MLJFlux /home/andrew/.julia/packages/MLJFlux/rYILg/src/core.jl:95\n",
      "┌ Info: Loss is 0.6471\n",
      "└ @ MLJFlux /home/andrew/.julia/packages/MLJFlux/rYILg/src/core.jl:95\n",
      "┌ Info: Loss is 0.6471\n",
      "└ @ MLJFlux /home/andrew/.julia/packages/MLJFlux/rYILg/src/core.jl:95\n",
      "┌ Info: Loss is 0.647\n",
      "└ @ MLJFlux /home/andrew/.julia/packages/MLJFlux/rYILg/src/core.jl:95\n",
      "┌ Info: Loss is 0.6469\n",
      "└ @ MLJFlux /home/andrew/.julia/packages/MLJFlux/rYILg/src/core.jl:95\n",
      "┌ Info: Loss is 0.6468\n",
      "└ @ MLJFlux /home/andrew/.julia/packages/MLJFlux/rYILg/src/core.jl:95\n",
      "┌ Info: Loss is 0.6468\n",
      "└ @ MLJFlux /home/andrew/.julia/packages/MLJFlux/rYILg/src/core.jl:95\n",
      "┌ Info: Loss is 0.6467\n",
      "└ @ MLJFlux /home/andrew/.julia/packages/MLJFlux/rYILg/src/core.jl:95\n",
      "┌ Info: Loss is 0.6466\n",
      "└ @ MLJFlux /home/andrew/.julia/packages/MLJFlux/rYILg/src/core.jl:95\n",
      "┌ Info: Loss is 0.6465\n",
      "└ @ MLJFlux /home/andrew/.julia/packages/MLJFlux/rYILg/src/core.jl:95\n",
      "┌ Info: Loss is 0.6465\n",
      "└ @ MLJFlux /home/andrew/.julia/packages/MLJFlux/rYILg/src/core.jl:95\n",
      "┌ Info: Loss is 0.6464\n",
      "└ @ MLJFlux /home/andrew/.julia/packages/MLJFlux/rYILg/src/core.jl:95\n",
      "┌ Info: Loss is 0.6463\n",
      "└ @ MLJFlux /home/andrew/.julia/packages/MLJFlux/rYILg/src/core.jl:95\n",
      "┌ Info: Loss is 0.6463\n",
      "└ @ MLJFlux /home/andrew/.julia/packages/MLJFlux/rYILg/src/core.jl:95\n",
      "┌ Info: Loss is 0.6462\n",
      "└ @ MLJFlux /home/andrew/.julia/packages/MLJFlux/rYILg/src/core.jl:95\n",
      "┌ Info: Loss is 0.6461\n",
      "└ @ MLJFlux /home/andrew/.julia/packages/MLJFlux/rYILg/src/core.jl:95\n",
      "┌ Info: Loss is 0.646\n",
      "└ @ MLJFlux /home/andrew/.julia/packages/MLJFlux/rYILg/src/core.jl:95\n",
      "┌ Info: Loss is 0.646\n",
      "└ @ MLJFlux /home/andrew/.julia/packages/MLJFlux/rYILg/src/core.jl:95\n",
      "┌ Info: Loss is 0.6459\n",
      "└ @ MLJFlux /home/andrew/.julia/packages/MLJFlux/rYILg/src/core.jl:95\n",
      "┌ Info: Loss is 0.6458\n",
      "└ @ MLJFlux /home/andrew/.julia/packages/MLJFlux/rYILg/src/core.jl:95\n",
      "┌ Info: Loss is 0.6458\n",
      "└ @ MLJFlux /home/andrew/.julia/packages/MLJFlux/rYILg/src/core.jl:95\n"
     ]
    },
    {
     "data": {
      "text/plain": [
       "\u001b[34mMachine{NeuralNetworkClassifier{CustomNN,…}} @141\u001b[39m trained 2 times.\n",
       "  args: \n",
       "    1:\t\u001b[34mSource @636\u001b[39m ⏎ `Table{AbstractArray{Continuous,1}}`\n",
       "    2:\t\u001b[34mSource @419\u001b[39m ⏎ `AbstractArray{Multiclass{3},1}`\n"
      ]
     },
     "execution_count": 275,
     "metadata": {},
     "output_type": "execute_result"
    }
   ],
   "source": [
    "fit!(Net, rows=train, verbosity=2)"
   ]
  },
  {
   "cell_type": "code",
   "execution_count": 276,
   "metadata": {},
   "outputs": [
    {
     "name": "stderr",
     "output_type": "stream",
     "text": [
      "\u001b[33mEvaluating over 6 folds: 100%[=========================] Time: 0:00:08\u001b[39m\n"
     ]
    },
    {
     "data": {
      "text/plain": [
       "┌\u001b[0m───────────────\u001b[0m┬\u001b[0m───────────────\u001b[0m┬\u001b[0m──────────────────────────────────────────────────\u001b[0m┐\u001b[0m\n",
       "│\u001b[0m\u001b[22m _.measure     \u001b[0m│\u001b[0m\u001b[22m _.measurement \u001b[0m│\u001b[0m\u001b[22m _.per_fold                                       \u001b[0m│\u001b[0m\n",
       "├\u001b[0m───────────────\u001b[0m┼\u001b[0m───────────────\u001b[0m┼\u001b[0m──────────────────────────────────────────────────\u001b[0m┤\u001b[0m\n",
       "│\u001b[0m cross_entropy \u001b[0m│\u001b[0m 0.655         \u001b[0m│\u001b[0m Float32[0.679, 0.65, 0.654, 0.632, 0.651, 0.664] \u001b[0m│\u001b[0m\n",
       "│\u001b[0m acc           \u001b[0m│\u001b[0m 0.87          \u001b[0m│\u001b[0m [0.829, 0.875, 0.875, 0.904, 0.875, 0.865]       \u001b[0m│\u001b[0m\n",
       "└\u001b[0m───────────────\u001b[0m┴\u001b[0m───────────────\u001b[0m┴\u001b[0m──────────────────────────────────────────────────\u001b[0m┘\u001b[0m\n",
       "_.per_observation = [[[0.566, 0.553, ..., 1.07], [0.552, 0.562, ..., 0.566], [0.565, 0.565, ..., 0.553], [0.553, 0.568, ..., 0.552], [0.552, 0.552, ..., 0.552], [1.22, 1.05, ..., 0.552]], missing]\n",
       "_.fitted_params_per_fold = [ … ]\n",
       "_.report_per_fold = [ … ]\n"
      ]
     },
     "execution_count": 276,
     "metadata": {},
     "output_type": "execute_result"
    }
   ],
   "source": [
    "nn_acc = evaluate!(Net, resampling=CV(shuffle=true), measure=[cross_entropy, acc], verbosity=1)"
   ]
  },
  {
   "cell_type": "code",
   "execution_count": 277,
   "metadata": {},
   "outputs": [
    {
     "data": {
      "text/plain": [
       "(chain = Chain(Chain(Dense(4, 80, σ), Dense(80, 40, σ), Dense(40, 3, σ)), softmax),)"
      ]
     },
     "execution_count": 277,
     "metadata": {},
     "output_type": "execute_result"
    }
   ],
   "source": [
    "fitted_params(Net)"
   ]
  },
  {
   "cell_type": "code",
   "execution_count": 278,
   "metadata": {
    "scrolled": true
   },
   "outputs": [
    {
     "data": {
      "text/plain": [
       "(training_losses = Any[1.0249277f0, 0.98181164f0, 0.96669346f0, 0.95909536f0, 0.95440304f0, 0.951113f0, 0.94856215f0, 0.94636834f0, 0.9442208f0, 0.9417271f0  …  0.6521286f0, 0.65193486f0, 0.65174496f0, 0.6515593f0, 0.65137744f0, 0.6511994f0, 0.6510249f0, 0.65085423f0, 0.6506868f0, 0.6505228f0],)"
      ]
     },
     "execution_count": 278,
     "metadata": {},
     "output_type": "execute_result"
    }
   ],
   "source": [
    "report(Net)"
   ]
  },
  {
   "cell_type": "markdown",
   "metadata": {},
   "source": [
    "### With Preprocessing"
   ]
  },
  {
   "cell_type": "markdown",
   "metadata": {},
   "source": [
    "Standardizing Inputs makes a huge difference.\n",
    "Before, I could only barely break below 0.4 training loss, but by standardizing inputs, I can easily get near 0.3."
   ]
  },
  {
   "cell_type": "code",
   "execution_count": 279,
   "metadata": {},
   "outputs": [
    {
     "name": "stderr",
     "output_type": "stream",
     "text": [
      "┌ Info: Training \u001b[34mMachine{Standardizer} @850\u001b[39m.\n",
      "└ @ MLJBase /home/andrew/.julia/packages/MLJBase/uKzAz/src/machines.jl:319\n"
     ]
    }
   ],
   "source": [
    "standardizer = Standardizer()\n",
    "stand = machine(standardizer, X[train,:]) #only want to standardize on training distribution\n",
    "fit!(stand)\n",
    "X_stand = MLJ.transform(stand, X);"
   ]
  },
  {
   "cell_type": "code",
   "execution_count": 280,
   "metadata": {},
   "outputs": [
    {
     "data": {
      "text/plain": [
       "\u001b[34mMachine{NeuralNetworkClassifier{CustomNN,…}} @809\u001b[39m trained 0 times.\n",
       "  args: \n",
       "    1:\t\u001b[34mSource @785\u001b[39m ⏎ `Table{AbstractArray{Continuous,1}}`\n",
       "    2:\t\u001b[34mSource @409\u001b[39m ⏎ `AbstractArray{Multiclass{3},1}`\n"
      ]
     },
     "execution_count": 280,
     "metadata": {},
     "output_type": "execute_result"
    }
   ],
   "source": [
    "Net = machine(nn, X_stand, y)"
   ]
  },
  {
   "cell_type": "markdown",
   "metadata": {},
   "source": [
    "### Learning Curve"
   ]
  },
  {
   "cell_type": "code",
   "execution_count": 362,
   "metadata": {},
   "outputs": [],
   "source": [
    "max_epochs = 3000;\n",
    "batch_sz = 16;"
   ]
  },
  {
   "cell_type": "code",
   "execution_count": 282,
   "metadata": {},
   "outputs": [
    {
     "name": "stderr",
     "output_type": "stream",
     "text": [
      "┌ Info: Training \u001b[34mMachine{NeuralNetworkClassifier{CustomNN,…}} @809\u001b[39m.\n",
      "└ @ MLJBase /home/andrew/.julia/packages/MLJBase/uKzAz/src/machines.jl:319\n",
      "\u001b[33mOptimising neural net:100%[=========================] Time: 0:00:37\u001b[39m\n"
     ]
    },
    {
     "data": {
      "text/plain": [
       "\u001b[34mMachine{NeuralNetworkClassifier{CustomNN,…}} @809\u001b[39m trained 1 time.\n",
       "  args: \n",
       "    1:\t\u001b[34mSource @785\u001b[39m ⏎ `Table{AbstractArray{Continuous,1}}`\n",
       "    2:\t\u001b[34mSource @409\u001b[39m ⏎ `AbstractArray{Multiclass{3},1}`\n"
      ]
     },
     "execution_count": 282,
     "metadata": {},
     "output_type": "execute_result"
    }
   ],
   "source": [
    "Net.model.epochs = max_epochs\n",
    "fit!(Net, rows=train, verbosity=1, force=true)"
   ]
  },
  {
   "cell_type": "code",
   "execution_count": 283,
   "metadata": {},
   "outputs": [
    {
     "name": "stderr",
     "output_type": "stream",
     "text": [
      "\u001b[33mEvaluating over 6 folds: 100%[=========================] Time: 0:04:12\u001b[39m\n"
     ]
    },
    {
     "data": {
      "text/plain": [
       "┌\u001b[0m───────────────\u001b[0m┬\u001b[0m───────────────\u001b[0m┬\u001b[0m───────────────────────────────────────────────────\u001b[0m┐\u001b[0m\n",
       "│\u001b[0m\u001b[22m _.measure     \u001b[0m│\u001b[0m\u001b[22m _.measurement \u001b[0m│\u001b[0m\u001b[22m _.per_fold                                        \u001b[0m│\u001b[0m\n",
       "├\u001b[0m───────────────\u001b[0m┼\u001b[0m───────────────\u001b[0m┼\u001b[0m───────────────────────────────────────────────────\u001b[0m┤\u001b[0m\n",
       "│\u001b[0m cross_entropy \u001b[0m│\u001b[0m 0.607         \u001b[0m│\u001b[0m Float32[0.626, 0.594, 0.567, 0.591, 0.613, 0.651] \u001b[0m│\u001b[0m\n",
       "│\u001b[0m acc           \u001b[0m│\u001b[0m 0.926         \u001b[0m│\u001b[0m [0.905, 0.942, 0.981, 0.971, 0.904, 0.856]        \u001b[0m│\u001b[0m\n",
       "└\u001b[0m───────────────\u001b[0m┴\u001b[0m───────────────\u001b[0m┴\u001b[0m───────────────────────────────────────────────────\u001b[0m┘\u001b[0m\n",
       "_.per_observation = [[[0.551, 0.551, ..., 0.551], [0.551, 0.551, ..., 0.551], [0.551, 0.551, ..., 0.551], [0.551, 0.551, ..., 0.551], [0.551, 0.551, ..., 0.551], [0.551, 0.551, ..., 0.551]], missing]\n",
       "_.fitted_params_per_fold = [ … ]\n",
       "_.report_per_fold = [ … ]\n"
      ]
     },
     "execution_count": 283,
     "metadata": {},
     "output_type": "execute_result"
    }
   ],
   "source": [
    "nn_acc = evaluate!(Net, resampling=CV(shuffle=true), measure=[cross_entropy, acc], verbosity=1)"
   ]
  },
  {
   "cell_type": "code",
   "execution_count": 284,
   "metadata": {
    "scrolled": true
   },
   "outputs": [
    {
     "name": "stderr",
     "output_type": "stream",
     "text": [
      "┌ Info: Training \u001b[34mMachine{ProbabilisticTunedModel{Grid,…}} @719\u001b[39m.\n",
      "└ @ MLJBase /home/andrew/.julia/packages/MLJBase/uKzAz/src/machines.jl:319\n",
      "┌ Info: Attempting to evaluate 601 models.\n",
      "└ @ MLJTuning /home/andrew/.julia/packages/MLJTuning/Bbgvk/src/tuned_models.jl:494\n",
      "\u001b[33mEvaluating over 601 metamodels: 100%[=========================] Time: 0:00:38\u001b[39m\n"
     ]
    },
    {
     "data": {
      "text/plain": [
       "(parameter_name = \"epochs\",\n",
       " parameter_scale = :none,\n",
       " parameter_values = [0, 5, 10, 15, 20, 25, 30, 35, 40, 45  …  2955, 2960, 2965, 2970, 2975, 2980, 2985, 2990, 2995, 3000],\n",
       " measurements = [1.00450599193573, 0.989870548248291, 1.0081056356430054, 1.0107394456863403, 0.9982366561889648, 0.9703707098960876, 0.9136096239089966, 0.8079394698143005, 0.7565376162528992, 0.7232847809791565  …  0.6293286681175232, 0.6292964816093445, 0.629264235496521, 0.6292318105697632, 0.6291990876197815, 0.6291666030883789, 0.6291338205337524, 0.6291009783744812, 0.6290678977966309, 0.6290348768234253],)"
      ]
     },
     "execution_count": 284,
     "metadata": {},
     "output_type": "execute_result"
    }
   ],
   "source": [
    "vals = collect(0:5:max_epochs)\n",
    "r = range(nn, :epochs, values=vals)\n",
    "# r = range(nn, :epochs, lower=0, upper=max_epochs)\n",
    "curve = learning_curve(Net, \n",
    "                        range=r, \n",
    "                        resampling=Holdout(fraction_train=0.7), \n",
    "#                         resampling=CV(nfolds=4), \n",
    "                        measure=cross_entropy, \n",
    "                        acceleration=CPUThreads())"
   ]
  },
  {
   "cell_type": "code",
   "execution_count": 285,
   "metadata": {},
   "outputs": [
    {
     "data": {
      "image/svg+xml": [
       "<?xml version=\"1.0\" encoding=\"utf-8\"?>\n",
       "<svg xmlns=\"http://www.w3.org/2000/svg\" xmlns:xlink=\"http://www.w3.org/1999/xlink\" width=\"600\" height=\"400\" viewBox=\"0 0 2400 1600\">\n",
       "<defs>\n",
       "  <clipPath id=\"clip900\">\n",
       "    <rect x=\"0\" y=\"0\" width=\"2400\" height=\"1600\"/>\n",
       "  </clipPath>\n",
       "</defs>\n",
       "<path clip-path=\"url(#clip900)\" d=\"\n",
       "M0 1600 L2400 1600 L2400 0 L0 0  Z\n",
       "  \" fill=\"#ffffff\" fill-rule=\"evenodd\" fill-opacity=\"1\"/>\n",
       "<defs>\n",
       "  <clipPath id=\"clip901\">\n",
       "    <rect x=\"480\" y=\"0\" width=\"1681\" height=\"1600\"/>\n",
       "  </clipPath>\n",
       "</defs>\n",
       "<path clip-path=\"url(#clip900)\" d=\"\n",
       "M211.024 1423.18 L2352.76 1423.18 L2352.76 47.2441 L211.024 47.2441  Z\n",
       "  \" fill=\"#ffffff\" fill-rule=\"evenodd\" fill-opacity=\"1\"/>\n",
       "<defs>\n",
       "  <clipPath id=\"clip902\">\n",
       "    <rect x=\"211\" y=\"47\" width=\"2143\" height=\"1377\"/>\n",
       "  </clipPath>\n",
       "</defs>\n",
       "<polyline clip-path=\"url(#clip902)\" style=\"stroke:#000000; stroke-width:2; stroke-opacity:0.1; fill:none\" points=\"\n",
       "  271.639,1423.18 271.639,47.2441 \n",
       "  \"/>\n",
       "<polyline clip-path=\"url(#clip902)\" style=\"stroke:#000000; stroke-width:2; stroke-opacity:0.1; fill:none\" points=\"\n",
       "  945.139,1423.18 945.139,47.2441 \n",
       "  \"/>\n",
       "<polyline clip-path=\"url(#clip902)\" style=\"stroke:#000000; stroke-width:2; stroke-opacity:0.1; fill:none\" points=\"\n",
       "  1618.64,1423.18 1618.64,47.2441 \n",
       "  \"/>\n",
       "<polyline clip-path=\"url(#clip902)\" style=\"stroke:#000000; stroke-width:2; stroke-opacity:0.1; fill:none\" points=\"\n",
       "  2292.14,1423.18 2292.14,47.2441 \n",
       "  \"/>\n",
       "<polyline clip-path=\"url(#clip902)\" style=\"stroke:#000000; stroke-width:2; stroke-opacity:0.1; fill:none\" points=\"\n",
       "  211.024,1136.18 2352.76,1136.18 \n",
       "  \"/>\n",
       "<polyline clip-path=\"url(#clip902)\" style=\"stroke:#000000; stroke-width:2; stroke-opacity:0.1; fill:none\" points=\"\n",
       "  211.024,822.499 2352.76,822.499 \n",
       "  \"/>\n",
       "<polyline clip-path=\"url(#clip902)\" style=\"stroke:#000000; stroke-width:2; stroke-opacity:0.1; fill:none\" points=\"\n",
       "  211.024,508.815 2352.76,508.815 \n",
       "  \"/>\n",
       "<polyline clip-path=\"url(#clip902)\" style=\"stroke:#000000; stroke-width:2; stroke-opacity:0.1; fill:none\" points=\"\n",
       "  211.024,195.131 2352.76,195.131 \n",
       "  \"/>\n",
       "<polyline clip-path=\"url(#clip900)\" style=\"stroke:#000000; stroke-width:4; stroke-opacity:1; fill:none\" points=\"\n",
       "  211.024,1423.18 2352.76,1423.18 \n",
       "  \"/>\n",
       "<polyline clip-path=\"url(#clip900)\" style=\"stroke:#000000; stroke-width:4; stroke-opacity:1; fill:none\" points=\"\n",
       "  211.024,1423.18 211.024,47.2441 \n",
       "  \"/>\n",
       "<polyline clip-path=\"url(#clip900)\" style=\"stroke:#000000; stroke-width:4; stroke-opacity:1; fill:none\" points=\"\n",
       "  271.639,1423.18 271.639,1406.67 \n",
       "  \"/>\n",
       "<polyline clip-path=\"url(#clip900)\" style=\"stroke:#000000; stroke-width:4; stroke-opacity:1; fill:none\" points=\"\n",
       "  945.139,1423.18 945.139,1406.67 \n",
       "  \"/>\n",
       "<polyline clip-path=\"url(#clip900)\" style=\"stroke:#000000; stroke-width:4; stroke-opacity:1; fill:none\" points=\"\n",
       "  1618.64,1423.18 1618.64,1406.67 \n",
       "  \"/>\n",
       "<polyline clip-path=\"url(#clip900)\" style=\"stroke:#000000; stroke-width:4; stroke-opacity:1; fill:none\" points=\"\n",
       "  2292.14,1423.18 2292.14,1406.67 \n",
       "  \"/>\n",
       "<polyline clip-path=\"url(#clip900)\" style=\"stroke:#000000; stroke-width:4; stroke-opacity:1; fill:none\" points=\"\n",
       "  211.024,1136.18 236.725,1136.18 \n",
       "  \"/>\n",
       "<polyline clip-path=\"url(#clip900)\" style=\"stroke:#000000; stroke-width:4; stroke-opacity:1; fill:none\" points=\"\n",
       "  211.024,822.499 236.725,822.499 \n",
       "  \"/>\n",
       "<polyline clip-path=\"url(#clip900)\" style=\"stroke:#000000; stroke-width:4; stroke-opacity:1; fill:none\" points=\"\n",
       "  211.024,508.815 236.725,508.815 \n",
       "  \"/>\n",
       "<polyline clip-path=\"url(#clip900)\" style=\"stroke:#000000; stroke-width:4; stroke-opacity:1; fill:none\" points=\"\n",
       "  211.024,195.131 236.725,195.131 \n",
       "  \"/>\n",
       "<path clip-path=\"url(#clip900)\" d=\"M 0 0 M271.639 1445.17 Q268.028 1445.17 266.199 1448.74 Q264.393 1452.28 264.393 1459.41 Q264.393 1466.51 266.199 1470.08 Q268.028 1473.62 271.639 1473.62 Q275.273 1473.62 277.079 1470.08 Q278.907 1466.51 278.907 1459.41 Q278.907 1452.28 277.079 1448.74 Q275.273 1445.17 271.639 1445.17 M271.639 1441.47 Q277.449 1441.47 280.504 1446.07 Q283.583 1450.66 283.583 1459.41 Q283.583 1468.13 280.504 1472.74 Q277.449 1477.32 271.639 1477.32 Q265.829 1477.32 262.75 1472.74 Q259.694 1468.13 259.694 1459.41 Q259.694 1450.66 262.75 1446.07 Q265.829 1441.47 271.639 1441.47 Z\" fill=\"#000000\" fill-rule=\"evenodd\" fill-opacity=\"1\" /><path clip-path=\"url(#clip900)\" d=\"M 0 0 M895.001 1472.72 L902.64 1472.72 L902.64 1446.35 L894.33 1448.02 L894.33 1443.76 L902.593 1442.09 L907.269 1442.09 L907.269 1472.72 L914.908 1472.72 L914.908 1476.65 L895.001 1476.65 L895.001 1472.72 Z\" fill=\"#000000\" fill-rule=\"evenodd\" fill-opacity=\"1\" /><path clip-path=\"url(#clip900)\" d=\"M 0 0 M929.978 1445.17 Q926.366 1445.17 924.538 1448.74 Q922.732 1452.28 922.732 1459.41 Q922.732 1466.51 924.538 1470.08 Q926.366 1473.62 929.978 1473.62 Q933.612 1473.62 935.417 1470.08 Q937.246 1466.51 937.246 1459.41 Q937.246 1452.28 935.417 1448.74 Q933.612 1445.17 929.978 1445.17 M929.978 1441.47 Q935.788 1441.47 938.843 1446.07 Q941.922 1450.66 941.922 1459.41 Q941.922 1468.13 938.843 1472.74 Q935.788 1477.32 929.978 1477.32 Q924.167 1477.32 921.089 1472.74 Q918.033 1468.13 918.033 1459.41 Q918.033 1450.66 921.089 1446.07 Q924.167 1441.47 929.978 1441.47 Z\" fill=\"#000000\" fill-rule=\"evenodd\" fill-opacity=\"1\" /><path clip-path=\"url(#clip900)\" d=\"M 0 0 M956.991 1445.17 Q953.38 1445.17 951.551 1448.74 Q949.746 1452.28 949.746 1459.41 Q949.746 1466.51 951.551 1470.08 Q953.38 1473.62 956.991 1473.62 Q960.625 1473.62 962.431 1470.08 Q964.26 1466.51 964.26 1459.41 Q964.26 1452.28 962.431 1448.74 Q960.625 1445.17 956.991 1445.17 M956.991 1441.47 Q962.801 1441.47 965.857 1446.07 Q968.936 1450.66 968.936 1459.41 Q968.936 1468.13 965.857 1472.74 Q962.801 1477.32 956.991 1477.32 Q951.181 1477.32 948.102 1472.74 Q945.047 1468.13 945.047 1459.41 Q945.047 1450.66 948.102 1446.07 Q951.181 1441.47 956.991 1441.47 Z\" fill=\"#000000\" fill-rule=\"evenodd\" fill-opacity=\"1\" /><path clip-path=\"url(#clip900)\" d=\"M 0 0 M984.005 1445.17 Q980.394 1445.17 978.565 1448.74 Q976.76 1452.28 976.76 1459.41 Q976.76 1466.51 978.565 1470.08 Q980.394 1473.62 984.005 1473.62 Q987.639 1473.62 989.445 1470.08 Q991.273 1466.51 991.273 1459.41 Q991.273 1452.28 989.445 1448.74 Q987.639 1445.17 984.005 1445.17 M984.005 1441.47 Q989.815 1441.47 992.871 1446.07 Q995.949 1450.66 995.949 1459.41 Q995.949 1468.13 992.871 1472.74 Q989.815 1477.32 984.005 1477.32 Q978.195 1477.32 975.116 1472.74 Q972.061 1468.13 972.061 1459.41 Q972.061 1450.66 975.116 1446.07 Q978.195 1441.47 984.005 1441.47 Z\" fill=\"#000000\" fill-rule=\"evenodd\" fill-opacity=\"1\" /><path clip-path=\"url(#clip900)\" d=\"M 0 0 M1572.77 1472.72 L1589.09 1472.72 L1589.09 1476.65 L1567.15 1476.65 L1567.15 1472.72 Q1569.81 1469.96 1574.39 1465.33 Q1579 1460.68 1580.18 1459.34 Q1582.43 1456.81 1583.3 1455.08 Q1584.21 1453.32 1584.21 1451.63 Q1584.21 1448.87 1582.26 1447.14 Q1580.34 1445.4 1577.24 1445.4 Q1575.04 1445.4 1572.59 1446.17 Q1570.16 1446.93 1567.38 1448.48 L1567.38 1443.76 Q1570.2 1442.62 1572.66 1442.05 Q1575.11 1441.47 1577.15 1441.47 Q1582.52 1441.47 1585.71 1444.15 Q1588.91 1446.84 1588.91 1451.33 Q1588.91 1453.46 1588.1 1455.38 Q1587.31 1457.28 1585.2 1459.87 Q1584.62 1460.54 1581.52 1463.76 Q1578.42 1466.95 1572.77 1472.72 Z\" fill=\"#000000\" fill-rule=\"evenodd\" fill-opacity=\"1\" /><path clip-path=\"url(#clip900)\" d=\"M 0 0 M1604.16 1445.17 Q1600.55 1445.17 1598.72 1448.74 Q1596.92 1452.28 1596.92 1459.41 Q1596.92 1466.51 1598.72 1470.08 Q1600.55 1473.62 1604.16 1473.62 Q1607.8 1473.62 1609.6 1470.08 Q1611.43 1466.51 1611.43 1459.41 Q1611.43 1452.28 1609.6 1448.74 Q1607.8 1445.17 1604.16 1445.17 M1604.16 1441.47 Q1609.97 1441.47 1613.03 1446.07 Q1616.11 1450.66 1616.11 1459.41 Q1616.11 1468.13 1613.03 1472.74 Q1609.97 1477.32 1604.16 1477.32 Q1598.35 1477.32 1595.27 1472.74 Q1592.22 1468.13 1592.22 1459.41 Q1592.22 1450.66 1595.27 1446.07 Q1598.35 1441.47 1604.16 1441.47 Z\" fill=\"#000000\" fill-rule=\"evenodd\" fill-opacity=\"1\" /><path clip-path=\"url(#clip900)\" d=\"M 0 0 M1631.17 1445.17 Q1627.56 1445.17 1625.74 1448.74 Q1623.93 1452.28 1623.93 1459.41 Q1623.93 1466.51 1625.74 1470.08 Q1627.56 1473.62 1631.17 1473.62 Q1634.81 1473.62 1636.61 1470.08 Q1638.44 1466.51 1638.44 1459.41 Q1638.44 1452.28 1636.61 1448.74 Q1634.81 1445.17 1631.17 1445.17 M1631.17 1441.47 Q1636.98 1441.47 1640.04 1446.07 Q1643.12 1450.66 1643.12 1459.41 Q1643.12 1468.13 1640.04 1472.74 Q1636.98 1477.32 1631.17 1477.32 Q1625.36 1477.32 1622.29 1472.74 Q1619.23 1468.13 1619.23 1459.41 Q1619.23 1450.66 1622.29 1446.07 Q1625.36 1441.47 1631.17 1441.47 Z\" fill=\"#000000\" fill-rule=\"evenodd\" fill-opacity=\"1\" /><path clip-path=\"url(#clip900)\" d=\"M 0 0 M1658.19 1445.17 Q1654.58 1445.17 1652.75 1448.74 Q1650.94 1452.28 1650.94 1459.41 Q1650.94 1466.51 1652.75 1470.08 Q1654.58 1473.62 1658.19 1473.62 Q1661.82 1473.62 1663.63 1470.08 Q1665.46 1466.51 1665.46 1459.41 Q1665.46 1452.28 1663.63 1448.74 Q1661.82 1445.17 1658.19 1445.17 M1658.19 1441.47 Q1664 1441.47 1667.05 1446.07 Q1670.13 1450.66 1670.13 1459.41 Q1670.13 1468.13 1667.05 1472.74 Q1664 1477.32 1658.19 1477.32 Q1652.38 1477.32 1649.3 1472.74 Q1646.24 1468.13 1646.24 1459.41 Q1646.24 1450.66 1649.3 1446.07 Q1652.38 1441.47 1658.19 1441.47 Z\" fill=\"#000000\" fill-rule=\"evenodd\" fill-opacity=\"1\" /><path clip-path=\"url(#clip900)\" d=\"M 0 0 M2255.87 1458.02 Q2259.22 1458.74 2261.1 1461 Q2263 1463.27 2263 1466.61 Q2263 1471.72 2259.48 1474.52 Q2255.96 1477.32 2249.48 1477.32 Q2247.3 1477.32 2244.99 1476.88 Q2242.7 1476.47 2240.24 1475.61 L2240.24 1471.1 Q2242.19 1472.23 2244.5 1472.81 Q2246.82 1473.39 2249.34 1473.39 Q2253.74 1473.39 2256.03 1471.65 Q2258.34 1469.92 2258.34 1466.61 Q2258.34 1463.55 2256.19 1461.84 Q2254.06 1460.1 2250.24 1460.1 L2246.22 1460.1 L2246.22 1456.26 L2250.43 1456.26 Q2253.88 1456.26 2255.71 1454.89 Q2257.53 1453.5 2257.53 1450.91 Q2257.53 1448.25 2255.64 1446.84 Q2253.76 1445.4 2250.24 1445.4 Q2248.32 1445.4 2246.12 1445.82 Q2243.92 1446.24 2241.28 1447.11 L2241.28 1442.95 Q2243.95 1442.21 2246.26 1441.84 Q2248.6 1441.47 2250.66 1441.47 Q2255.98 1441.47 2259.09 1443.9 Q2262.19 1446.3 2262.19 1450.43 Q2262.19 1453.3 2260.54 1455.29 Q2258.9 1457.25 2255.87 1458.02 Z\" fill=\"#000000\" fill-rule=\"evenodd\" fill-opacity=\"1\" /><path clip-path=\"url(#clip900)\" d=\"M 0 0 M2278.07 1445.17 Q2274.46 1445.17 2272.63 1448.74 Q2270.82 1452.28 2270.82 1459.41 Q2270.82 1466.51 2272.63 1470.08 Q2274.46 1473.62 2278.07 1473.62 Q2281.7 1473.62 2283.51 1470.08 Q2285.34 1466.51 2285.34 1459.41 Q2285.34 1452.28 2283.51 1448.74 Q2281.7 1445.17 2278.07 1445.17 M2278.07 1441.47 Q2283.88 1441.47 2286.93 1446.07 Q2290.01 1450.66 2290.01 1459.41 Q2290.01 1468.13 2286.93 1472.74 Q2283.88 1477.32 2278.07 1477.32 Q2272.26 1477.32 2269.18 1472.74 Q2266.12 1468.13 2266.12 1459.41 Q2266.12 1450.66 2269.18 1446.07 Q2272.26 1441.47 2278.07 1441.47 Z\" fill=\"#000000\" fill-rule=\"evenodd\" fill-opacity=\"1\" /><path clip-path=\"url(#clip900)\" d=\"M 0 0 M2305.08 1445.17 Q2301.47 1445.17 2299.64 1448.74 Q2297.84 1452.28 2297.84 1459.41 Q2297.84 1466.51 2299.64 1470.08 Q2301.47 1473.62 2305.08 1473.62 Q2308.71 1473.62 2310.52 1470.08 Q2312.35 1466.51 2312.35 1459.41 Q2312.35 1452.28 2310.52 1448.74 Q2308.71 1445.17 2305.08 1445.17 M2305.08 1441.47 Q2310.89 1441.47 2313.95 1446.07 Q2317.02 1450.66 2317.02 1459.41 Q2317.02 1468.13 2313.95 1472.74 Q2310.89 1477.32 2305.08 1477.32 Q2299.27 1477.32 2296.19 1472.74 Q2293.14 1468.13 2293.14 1459.41 Q2293.14 1450.66 2296.19 1446.07 Q2299.27 1441.47 2305.08 1441.47 Z\" fill=\"#000000\" fill-rule=\"evenodd\" fill-opacity=\"1\" /><path clip-path=\"url(#clip900)\" d=\"M 0 0 M2332.09 1445.17 Q2328.48 1445.17 2326.65 1448.74 Q2324.85 1452.28 2324.85 1459.41 Q2324.85 1466.51 2326.65 1470.08 Q2328.48 1473.62 2332.09 1473.62 Q2335.73 1473.62 2337.53 1470.08 Q2339.36 1466.51 2339.36 1459.41 Q2339.36 1452.28 2337.53 1448.74 Q2335.73 1445.17 2332.09 1445.17 M2332.09 1441.47 Q2337.9 1441.47 2340.96 1446.07 Q2344.04 1450.66 2344.04 1459.41 Q2344.04 1468.13 2340.96 1472.74 Q2337.9 1477.32 2332.09 1477.32 Q2326.28 1477.32 2323.21 1472.74 Q2320.15 1468.13 2320.15 1459.41 Q2320.15 1450.66 2323.21 1446.07 Q2326.28 1441.47 2332.09 1441.47 Z\" fill=\"#000000\" fill-rule=\"evenodd\" fill-opacity=\"1\" /><path clip-path=\"url(#clip900)\" d=\"M 0 0 M139.015 1121.98 Q135.404 1121.98 133.575 1125.55 Q131.769 1129.09 131.769 1136.22 Q131.769 1143.32 133.575 1146.89 Q135.404 1150.43 139.015 1150.43 Q142.649 1150.43 144.455 1146.89 Q146.283 1143.32 146.283 1136.22 Q146.283 1129.09 144.455 1125.55 Q142.649 1121.98 139.015 1121.98 M139.015 1118.28 Q144.825 1118.28 147.88 1122.89 Q150.959 1127.47 150.959 1136.22 Q150.959 1144.95 147.88 1149.55 Q144.825 1154.14 139.015 1154.14 Q133.205 1154.14 130.126 1149.55 Q127.07 1144.95 127.07 1136.22 Q127.07 1127.47 130.126 1122.89 Q133.205 1118.28 139.015 1118.28 Z\" fill=\"#000000\" fill-rule=\"evenodd\" fill-opacity=\"1\" /><path clip-path=\"url(#clip900)\" d=\"M 0 0 M156.029 1147.58 L160.913 1147.58 L160.913 1153.46 L156.029 1153.46 L156.029 1147.58 Z\" fill=\"#000000\" fill-rule=\"evenodd\" fill-opacity=\"1\" /><path clip-path=\"url(#clip900)\" d=\"M 0 0 M164.802 1118.9 L187.024 1118.9 L187.024 1120.89 L174.477 1153.46 L169.593 1153.46 L181.399 1122.84 L164.802 1122.84 L164.802 1118.9 Z\" fill=\"#000000\" fill-rule=\"evenodd\" fill-opacity=\"1\" /><path clip-path=\"url(#clip900)\" d=\"M 0 0 M138.205 808.298 Q134.593 808.298 132.765 811.863 Q130.959 815.405 130.959 822.534 Q130.959 829.641 132.765 833.205 Q134.593 836.747 138.205 836.747 Q141.839 836.747 143.644 833.205 Q145.473 829.641 145.473 822.534 Q145.473 815.405 143.644 811.863 Q141.839 808.298 138.205 808.298 M138.205 804.594 Q144.015 804.594 147.07 809.201 Q150.149 813.784 150.149 822.534 Q150.149 831.261 147.07 835.867 Q144.015 840.451 138.205 840.451 Q132.394 840.451 129.316 835.867 Q126.26 831.261 126.26 822.534 Q126.26 813.784 129.316 809.201 Q132.394 804.594 138.205 804.594 Z\" fill=\"#000000\" fill-rule=\"evenodd\" fill-opacity=\"1\" /><path clip-path=\"url(#clip900)\" d=\"M 0 0 M155.218 833.9 L160.103 833.9 L160.103 839.779 L155.218 839.779 L155.218 833.9 Z\" fill=\"#000000\" fill-rule=\"evenodd\" fill-opacity=\"1\" /><path clip-path=\"url(#clip900)\" d=\"M 0 0 M175.172 823.368 Q171.839 823.368 169.917 825.15 Q168.019 826.932 168.019 830.057 Q168.019 833.182 169.917 834.965 Q171.839 836.747 175.172 836.747 Q178.505 836.747 180.427 834.965 Q182.348 833.159 182.348 830.057 Q182.348 826.932 180.427 825.15 Q178.528 823.368 175.172 823.368 M170.496 821.377 Q167.487 820.636 165.797 818.576 Q164.13 816.516 164.13 813.553 Q164.13 809.409 167.07 807.002 Q170.033 804.594 175.172 804.594 Q180.334 804.594 183.274 807.002 Q186.214 809.409 186.214 813.553 Q186.214 816.516 184.524 818.576 Q182.857 820.636 179.871 821.377 Q183.251 822.164 185.126 824.456 Q187.024 826.747 187.024 830.057 Q187.024 835.08 183.945 837.766 Q180.889 840.451 175.172 840.451 Q169.454 840.451 166.376 837.766 Q163.32 835.08 163.32 830.057 Q163.32 826.747 165.218 824.456 Q167.116 822.164 170.496 821.377 M168.783 813.993 Q168.783 816.678 170.45 818.182 Q172.14 819.687 175.172 819.687 Q178.181 819.687 179.871 818.182 Q181.584 816.678 181.584 813.993 Q181.584 811.307 179.871 809.803 Q178.181 808.298 175.172 808.298 Q172.14 808.298 170.45 809.803 Q168.783 811.307 168.783 813.993 Z\" fill=\"#000000\" fill-rule=\"evenodd\" fill-opacity=\"1\" /><path clip-path=\"url(#clip900)\" d=\"M 0 0 M138.297 494.614 Q134.686 494.614 132.857 498.179 Q131.052 501.72 131.052 508.85 Q131.052 515.956 132.857 519.521 Q134.686 523.063 138.297 523.063 Q141.931 523.063 143.737 519.521 Q145.566 515.956 145.566 508.85 Q145.566 501.72 143.737 498.179 Q141.931 494.614 138.297 494.614 M138.297 490.91 Q144.107 490.91 147.163 495.517 Q150.242 500.1 150.242 508.85 Q150.242 517.577 147.163 522.183 Q144.107 526.767 138.297 526.767 Q132.487 526.767 129.408 522.183 Q126.353 517.577 126.353 508.85 Q126.353 500.1 129.408 495.517 Q132.487 490.91 138.297 490.91 Z\" fill=\"#000000\" fill-rule=\"evenodd\" fill-opacity=\"1\" /><path clip-path=\"url(#clip900)\" d=\"M 0 0 M155.311 520.216 L160.195 520.216 L160.195 526.095 L155.311 526.095 L155.311 520.216 Z\" fill=\"#000000\" fill-rule=\"evenodd\" fill-opacity=\"1\" /><path clip-path=\"url(#clip900)\" d=\"M 0 0 M165.403 525.378 L165.403 521.118 Q167.163 521.952 168.968 522.392 Q170.774 522.831 172.51 522.831 Q177.14 522.831 179.57 519.73 Q182.024 516.605 182.371 510.262 Q181.028 512.253 178.968 513.318 Q176.908 514.382 174.408 514.382 Q169.223 514.382 166.19 511.257 Q163.181 508.109 163.181 502.669 Q163.181 497.345 166.329 494.128 Q169.478 490.91 174.709 490.91 Q180.704 490.91 183.852 495.517 Q187.024 500.1 187.024 508.85 Q187.024 517.021 183.135 521.905 Q179.269 526.767 172.718 526.767 Q170.959 526.767 169.153 526.419 Q167.348 526.072 165.403 525.378 M174.709 510.725 Q177.857 510.725 179.686 508.572 Q181.538 506.419 181.538 502.669 Q181.538 498.943 179.686 496.79 Q177.857 494.614 174.709 494.614 Q171.561 494.614 169.709 496.79 Q167.88 498.943 167.88 502.669 Q167.88 506.419 169.709 508.572 Q171.561 510.725 174.709 510.725 Z\" fill=\"#000000\" fill-rule=\"evenodd\" fill-opacity=\"1\" /><path clip-path=\"url(#clip900)\" d=\"M 0 0 M130.149 208.476 L137.788 208.476 L137.788 182.11 L129.478 183.777 L129.478 179.518 L137.742 177.851 L142.417 177.851 L142.417 208.476 L150.056 208.476 L150.056 212.411 L130.149 212.411 L130.149 208.476 Z\" fill=\"#000000\" fill-rule=\"evenodd\" fill-opacity=\"1\" /><path clip-path=\"url(#clip900)\" d=\"M 0 0 M155.126 206.531 L160.01 206.531 L160.01 212.411 L155.126 212.411 L155.126 206.531 Z\" fill=\"#000000\" fill-rule=\"evenodd\" fill-opacity=\"1\" /><path clip-path=\"url(#clip900)\" d=\"M 0 0 M175.079 180.93 Q171.468 180.93 169.64 184.495 Q167.834 188.036 167.834 195.166 Q167.834 202.272 169.64 205.837 Q171.468 209.379 175.079 209.379 Q178.714 209.379 180.519 205.837 Q182.348 202.272 182.348 195.166 Q182.348 188.036 180.519 184.495 Q178.714 180.93 175.079 180.93 M175.079 177.226 Q180.889 177.226 183.945 181.833 Q187.024 186.416 187.024 195.166 Q187.024 203.893 183.945 208.499 Q180.889 213.082 175.079 213.082 Q169.269 213.082 166.19 208.499 Q163.135 203.893 163.135 195.166 Q163.135 186.416 166.19 181.833 Q169.269 177.226 175.079 177.226 Z\" fill=\"#000000\" fill-rule=\"evenodd\" fill-opacity=\"1\" /><path clip-path=\"url(#clip900)\" d=\"M 0 0 M1212.17 1536.76 L1212.17 1539.62 L1185.24 1539.62 Q1185.62 1545.67 1188.87 1548.85 Q1192.15 1552 1197.97 1552 Q1201.35 1552 1204.5 1551.17 Q1207.68 1550.35 1210.8 1548.69 L1210.8 1554.23 Q1207.65 1555.57 1204.34 1556.27 Q1201.03 1556.97 1197.62 1556.97 Q1189.09 1556.97 1184.1 1552 Q1179.13 1547.04 1179.13 1538.57 Q1179.13 1529.82 1183.84 1524.69 Q1188.58 1519.54 1196.61 1519.54 Q1203.8 1519.54 1207.97 1524.18 Q1212.17 1528.8 1212.17 1536.76 M1206.31 1535.04 Q1206.25 1530.23 1203.61 1527.37 Q1201 1524.5 1196.67 1524.5 Q1191.77 1524.5 1188.81 1527.27 Q1185.88 1530.04 1185.43 1535.07 L1206.31 1535.04 Z\" fill=\"#000000\" fill-rule=\"evenodd\" fill-opacity=\"1\" /><path clip-path=\"url(#clip900)\" d=\"M 0 0 M1223.98 1550.7 L1223.98 1569.6 L1218.09 1569.6 L1218.09 1520.4 L1223.98 1520.4 L1223.98 1525.81 Q1225.82 1522.62 1228.62 1521.1 Q1231.46 1519.54 1235.37 1519.54 Q1241.87 1519.54 1245.91 1524.69 Q1249.98 1529.85 1249.98 1538.25 Q1249.98 1546.65 1245.91 1551.81 Q1241.87 1556.97 1235.37 1556.97 Q1231.46 1556.97 1228.62 1555.44 Q1225.82 1553.88 1223.98 1550.7 M1243.9 1538.25 Q1243.9 1531.79 1241.23 1528.13 Q1238.59 1524.44 1233.94 1524.44 Q1229.29 1524.44 1226.62 1528.13 Q1223.98 1531.79 1223.98 1538.25 Q1223.98 1544.71 1226.62 1548.4 Q1229.29 1552.07 1233.94 1552.07 Q1238.59 1552.07 1241.23 1548.4 Q1243.9 1544.71 1243.9 1538.25 Z\" fill=\"#000000\" fill-rule=\"evenodd\" fill-opacity=\"1\" /><path clip-path=\"url(#clip900)\" d=\"M 0 0 M1269.94 1524.5 Q1265.23 1524.5 1262.49 1528.19 Q1259.75 1531.85 1259.75 1538.25 Q1259.75 1544.65 1262.46 1548.34 Q1265.2 1552 1269.94 1552 Q1274.62 1552 1277.35 1548.31 Q1280.09 1544.62 1280.09 1538.25 Q1280.09 1531.92 1277.35 1528.23 Q1274.62 1524.5 1269.94 1524.5 M1269.94 1519.54 Q1277.58 1519.54 1281.94 1524.5 Q1286.3 1529.47 1286.3 1538.25 Q1286.3 1547 1281.94 1552 Q1277.58 1556.97 1269.94 1556.97 Q1262.27 1556.97 1257.91 1552 Q1253.58 1547 1253.58 1538.25 Q1253.58 1529.47 1257.91 1524.5 Q1262.27 1519.54 1269.94 1519.54 Z\" fill=\"#000000\" fill-rule=\"evenodd\" fill-opacity=\"1\" /><path clip-path=\"url(#clip900)\" d=\"M 0 0 M1318.09 1521.76 L1318.09 1527.24 Q1315.61 1525.87 1313.1 1525.2 Q1310.62 1524.5 1308.07 1524.5 Q1302.37 1524.5 1299.22 1528.13 Q1296.07 1531.73 1296.07 1538.25 Q1296.07 1544.78 1299.22 1548.4 Q1302.37 1552 1308.07 1552 Q1310.62 1552 1313.1 1551.33 Q1315.61 1550.63 1318.09 1549.26 L1318.09 1554.68 Q1315.64 1555.82 1313 1556.39 Q1310.39 1556.97 1307.43 1556.97 Q1299.38 1556.97 1294.64 1551.91 Q1289.89 1546.85 1289.89 1538.25 Q1289.89 1529.53 1294.67 1524.53 Q1299.48 1519.54 1307.81 1519.54 Q1310.52 1519.54 1313.1 1520.11 Q1315.68 1520.65 1318.09 1521.76 Z\" fill=\"#000000\" fill-rule=\"evenodd\" fill-opacity=\"1\" /><path clip-path=\"url(#clip900)\" d=\"M 0 0 M1353.87 1534.53 L1353.87 1556.04 L1348.01 1556.04 L1348.01 1534.72 Q1348.01 1529.66 1346.04 1527.14 Q1344.07 1524.63 1340.12 1524.63 Q1335.38 1524.63 1332.64 1527.65 Q1329.9 1530.68 1329.9 1535.9 L1329.9 1556.04 L1324.01 1556.04 L1324.01 1506.52 L1329.9 1506.52 L1329.9 1525.93 Q1332 1522.72 1334.84 1521.13 Q1337.7 1519.54 1341.43 1519.54 Q1347.57 1519.54 1350.72 1523.36 Q1353.87 1527.14 1353.87 1534.53 Z\" fill=\"#000000\" fill-rule=\"evenodd\" fill-opacity=\"1\" /><path clip-path=\"url(#clip900)\" d=\"M 0 0 M1382.74 1521.45 L1382.74 1526.98 Q1380.26 1525.71 1377.58 1525.07 Q1374.91 1524.44 1372.04 1524.44 Q1367.68 1524.44 1365.49 1525.77 Q1363.32 1527.11 1363.32 1529.79 Q1363.32 1531.82 1364.88 1533 Q1366.44 1534.15 1371.15 1535.2 L1373.16 1535.64 Q1379.4 1536.98 1382.01 1539.43 Q1384.65 1541.85 1384.65 1546.21 Q1384.65 1551.17 1380.7 1554.07 Q1376.79 1556.97 1369.91 1556.97 Q1367.05 1556.97 1363.93 1556.39 Q1360.84 1555.85 1357.4 1554.74 L1357.4 1548.69 Q1360.65 1550.38 1363.8 1551.24 Q1366.95 1552.07 1370.04 1552.07 Q1374.18 1552.07 1376.4 1550.66 Q1378.63 1549.23 1378.63 1546.65 Q1378.63 1544.27 1377.01 1542.99 Q1375.42 1541.72 1369.98 1540.54 L1367.94 1540.07 Q1362.5 1538.92 1360.08 1536.56 Q1357.66 1534.18 1357.66 1530.04 Q1357.66 1525.01 1361.22 1522.27 Q1364.79 1519.54 1371.34 1519.54 Q1374.59 1519.54 1377.45 1520.01 Q1380.32 1520.49 1382.74 1521.45 Z\" fill=\"#000000\" fill-rule=\"evenodd\" fill-opacity=\"1\" /><path clip-path=\"url(#clip900)\" d=\"M 0 0 M44.1444 904.492 L50.9239 904.492 Q47.9002 907.739 46.4043 911.431 Q44.9083 915.091 44.9083 919.229 Q44.9083 927.377 49.9054 931.705 Q54.8707 936.034 64.2919 936.034 Q73.6813 936.034 78.6784 931.705 Q83.6436 927.377 83.6436 919.229 Q83.6436 915.091 82.1477 911.431 Q80.6518 907.739 77.6281 904.492 L84.3439 904.492 Q86.6355 907.866 87.7814 911.653 Q88.9272 915.409 88.9272 919.611 Q88.9272 930.4 82.3387 936.607 Q75.7183 942.814 64.2919 942.814 Q52.8336 942.814 46.2451 936.607 Q39.6248 930.4 39.6248 919.611 Q39.6248 915.346 40.7706 911.59 Q41.8846 907.802 44.1444 904.492 Z\" fill=\"#000000\" fill-rule=\"evenodd\" fill-opacity=\"1\" /><path clip-path=\"url(#clip900)\" d=\"M 0 0 M57.8307 877.692 Q57.2578 878.679 57.0032 879.857 Q56.7167 881.003 56.7167 882.403 Q56.7167 887.368 59.9632 890.042 Q63.1779 892.684 69.2253 892.684 L88.0042 892.684 L88.0042 898.572 L52.3562 898.572 L52.3562 892.684 L57.8944 892.684 Q54.6479 890.838 53.0883 887.878 Q51.4968 884.917 51.4968 880.684 Q51.4968 880.08 51.5923 879.347 Q51.656 878.615 51.8151 877.724 L57.8307 877.692 Z\" fill=\"#000000\" fill-rule=\"evenodd\" fill-opacity=\"1\" /><path clip-path=\"url(#clip900)\" d=\"M 0 0 M56.4621 859.168 Q56.4621 863.879 60.1542 866.616 Q63.8145 869.353 70.212 869.353 Q76.6095 869.353 80.3017 866.648 Q83.9619 863.911 83.9619 859.168 Q83.9619 854.489 80.2698 851.752 Q76.5777 849.015 70.212 849.015 Q63.8781 849.015 60.186 851.752 Q56.4621 854.489 56.4621 859.168 M51.4968 859.168 Q51.4968 851.529 56.4621 847.169 Q61.4273 842.808 70.212 842.808 Q78.9649 842.808 83.9619 847.169 Q88.9272 851.529 88.9272 859.168 Q88.9272 866.839 83.9619 871.199 Q78.9649 875.528 70.212 875.528 Q61.4273 875.528 56.4621 871.199 Q51.4968 866.839 51.4968 859.168 Z\" fill=\"#000000\" fill-rule=\"evenodd\" fill-opacity=\"1\" /><path clip-path=\"url(#clip900)\" d=\"M 0 0 M53.4065 813.94 L58.9447 813.94 Q57.6716 816.422 57.035 819.096 Q56.3984 821.77 56.3984 824.634 Q56.3984 828.995 57.7352 831.191 Q59.072 833.355 61.7456 833.355 Q63.7826 833.355 64.9603 831.796 Q66.1061 830.236 67.1565 825.525 L67.6021 823.52 Q68.9389 817.282 71.3897 814.672 Q73.8086 812.03 78.1691 812.03 Q83.1344 812.03 86.0308 815.977 Q88.9272 819.892 88.9272 826.767 Q88.9272 829.631 88.3543 832.751 Q87.8132 835.838 86.6992 839.275 L80.6518 839.275 Q82.3387 836.029 83.198 832.878 Q84.0256 829.727 84.0256 826.639 Q84.0256 822.502 82.6251 820.274 Q81.1929 818.046 78.6147 818.046 Q76.2276 818.046 74.9545 819.669 Q73.6813 821.26 72.5037 826.703 L72.0262 828.74 Q70.8804 834.183 68.5251 836.602 Q66.138 839.021 62.0002 839.021 Q56.9713 839.021 54.2341 835.456 Q51.4968 831.891 51.4968 825.334 Q51.4968 822.088 51.9743 819.223 Q52.4517 816.359 53.4065 813.94 Z\" fill=\"#000000\" fill-rule=\"evenodd\" fill-opacity=\"1\" /><path clip-path=\"url(#clip900)\" d=\"M 0 0 M53.4065 783.162 L58.9447 783.162 Q57.6716 785.644 57.035 788.318 Q56.3984 790.991 56.3984 793.856 Q56.3984 798.217 57.7352 800.413 Q59.072 802.577 61.7456 802.577 Q63.7826 802.577 64.9603 801.017 Q66.1061 799.458 67.1565 794.747 L67.6021 792.742 Q68.9389 786.504 71.3897 783.894 Q73.8086 781.252 78.1691 781.252 Q83.1344 781.252 86.0308 785.199 Q88.9272 789.114 88.9272 795.989 Q88.9272 798.853 88.3543 801.972 Q87.8132 805.06 86.6992 808.497 L80.6518 808.497 Q82.3387 805.251 83.198 802.1 Q84.0256 798.949 84.0256 795.861 Q84.0256 791.724 82.6251 789.496 Q81.1929 787.268 78.6147 787.268 Q76.2276 787.268 74.9545 788.891 Q73.6813 790.482 72.5037 795.925 L72.0262 797.962 Q70.8804 803.405 68.5251 805.824 Q66.138 808.243 62.0002 808.243 Q56.9713 808.243 54.2341 804.678 Q51.4968 801.113 51.4968 794.556 Q51.4968 791.31 51.9743 788.445 Q52.4517 785.581 53.4065 783.162 Z\" fill=\"#000000\" fill-rule=\"evenodd\" fill-opacity=\"1\" /><path clip-path=\"url(#clip900)\" d=\"M 0 0 M40.4842 754.134 L40.4842 724.088 L45.895 724.088 L45.895 747.705 L59.9632 747.705 L59.9632 725.075 L65.3741 725.075 L65.3741 747.705 L82.5933 747.705 L82.5933 723.515 L88.0042 723.515 L88.0042 754.134 L40.4842 754.134 Z\" fill=\"#000000\" fill-rule=\"evenodd\" fill-opacity=\"1\" /><path clip-path=\"url(#clip900)\" d=\"M 0 0 M66.4881 687.74 L88.0042 687.74 L88.0042 693.596 L66.679 693.596 Q61.6183 693.596 59.1038 695.57 Q56.5894 697.543 56.5894 701.49 Q56.5894 706.232 59.6131 708.969 Q62.6368 711.707 67.8567 711.707 L88.0042 711.707 L88.0042 717.595 L52.3562 717.595 L52.3562 711.707 L57.8944 711.707 Q54.6797 709.606 53.0883 706.773 Q51.4968 703.909 51.4968 700.185 Q51.4968 694.042 55.3163 690.891 Q59.1038 687.74 66.4881 687.74 Z\" fill=\"#000000\" fill-rule=\"evenodd\" fill-opacity=\"1\" /><path clip-path=\"url(#clip900)\" d=\"M 0 0 M42.2347 675.804 L52.3562 675.804 L52.3562 663.741 L56.9077 663.741 L56.9077 675.804 L76.2594 675.804 Q80.6199 675.804 81.8613 674.626 Q83.1026 673.417 83.1026 669.757 L83.1026 663.741 L88.0042 663.741 L88.0042 669.757 Q88.0042 676.536 85.4897 679.114 Q82.9434 681.692 76.2594 681.692 L56.9077 681.692 L56.9077 685.989 L52.3562 685.989 L52.3562 681.692 L42.2347 681.692 L42.2347 675.804 Z\" fill=\"#000000\" fill-rule=\"evenodd\" fill-opacity=\"1\" /><path clip-path=\"url(#clip900)\" d=\"M 0 0 M57.8307 636.941 Q57.2578 637.928 57.0032 639.106 Q56.7167 640.252 56.7167 641.652 Q56.7167 646.617 59.9632 649.291 Q63.1779 651.933 69.2253 651.933 L88.0042 651.933 L88.0042 657.821 L52.3562 657.821 L52.3562 651.933 L57.8944 651.933 Q54.6479 650.087 53.0883 647.127 Q51.4968 644.166 51.4968 639.933 Q51.4968 639.329 51.5923 638.596 Q51.656 637.864 51.8151 636.973 L57.8307 636.941 Z\" fill=\"#000000\" fill-rule=\"evenodd\" fill-opacity=\"1\" /><path clip-path=\"url(#clip900)\" d=\"M 0 0 M56.4621 618.417 Q56.4621 623.128 60.1542 625.865 Q63.8145 628.602 70.212 628.602 Q76.6095 628.602 80.3017 625.897 Q83.9619 623.16 83.9619 618.417 Q83.9619 613.738 80.2698 611.001 Q76.5777 608.264 70.212 608.264 Q63.8781 608.264 60.186 611.001 Q56.4621 613.738 56.4621 618.417 M51.4968 618.417 Q51.4968 610.778 56.4621 606.418 Q61.4273 602.057 70.212 602.057 Q78.9649 602.057 83.9619 606.418 Q88.9272 610.778 88.9272 618.417 Q88.9272 626.088 83.9619 630.448 Q78.9649 634.777 70.212 634.777 Q61.4273 634.777 56.4621 630.448 Q51.4968 626.088 51.4968 618.417 Z\" fill=\"#000000\" fill-rule=\"evenodd\" fill-opacity=\"1\" /><path clip-path=\"url(#clip900)\" d=\"M 0 0 M82.657 590.249 L101.563 590.249 L101.563 596.137 L52.3562 596.137 L52.3562 590.249 L57.7671 590.249 Q54.5842 588.403 53.0564 585.602 Q51.4968 582.769 51.4968 578.854 Q51.4968 572.361 56.6531 568.319 Q61.8093 564.245 70.212 564.245 Q78.6147 564.245 83.771 568.319 Q88.9272 572.361 88.9272 578.854 Q88.9272 582.769 87.3994 585.602 Q85.8398 588.403 82.657 590.249 M70.212 570.324 Q63.7508 570.324 60.0905 572.998 Q56.3984 575.64 56.3984 580.287 Q56.3984 584.934 60.0905 587.607 Q63.7508 590.249 70.212 590.249 Q76.6732 590.249 80.3653 587.607 Q84.0256 584.934 84.0256 580.287 Q84.0256 575.64 80.3653 572.998 Q76.6732 570.324 70.212 570.324 Z\" fill=\"#000000\" fill-rule=\"evenodd\" fill-opacity=\"1\" /><path clip-path=\"url(#clip900)\" d=\"M 0 0 M91.3143 543.27 Q97.68 545.753 99.6216 548.108 Q101.563 550.463 101.563 554.41 L101.563 559.089 L96.6615 559.089 L96.6615 555.651 Q96.6615 553.232 95.5157 551.896 Q94.3699 550.559 90.1048 548.935 L87.4312 547.885 L52.3562 562.303 L52.3562 556.097 L80.238 544.957 L52.3562 533.817 L52.3562 527.61 L91.3143 543.27 Z\" fill=\"#000000\" fill-rule=\"evenodd\" fill-opacity=\"1\" /><polyline clip-path=\"url(#clip902)\" style=\"stroke:#009af9; stroke-width:8; stroke-opacity:1; fill:none\" points=\"\n",
       "  271.639,180.996 275.006,226.906 278.374,169.705 281.741,161.443 285.109,200.662 288.476,288.073 291.844,466.124 295.211,797.595 298.579,958.834 301.946,1063.14 \n",
       "  305.314,1135.31 308.681,1184.93 312.049,1217.54 315.416,1237.92 318.784,1250.25 322.151,1257.7 325.519,1262.56 328.886,1266.21 332.254,1269.41 335.621,1272.5 \n",
       "  338.989,1275.57 342.356,1278.63 345.724,1281.62 349.091,1284.5 352.459,1287.26 355.826,1289.86 359.194,1292.31 362.561,1294.6 365.929,1296.73 369.296,1298.71 \n",
       "  372.664,1300.55 376.031,1302.26 379.399,1303.84 382.766,1305.31 386.134,1306.66 389.501,1307.92 392.869,1309.15 396.236,1310.38 399.604,1311.53 402.971,1312.69 \n",
       "  406.339,1313.73 409.706,1314.71 413.074,1315.58 416.441,1316.48 419.809,1317.25 423.176,1317.92 426.544,1318.49 429.911,1319.04 433.279,1319.5 436.646,1319.87 \n",
       "  440.014,1320.18 443.381,1320.43 446.749,1320.61 450.116,1320.75 453.484,1320.84 456.851,1320.88 460.219,1320.86 463.586,1320.8 466.954,1320.64 470.321,1320.42 \n",
       "  473.689,1320.07 477.056,1319.66 480.424,1319.14 483.791,1318.49 487.159,1317.73 490.527,1316.85 493.894,1315.88 497.262,1314.81 500.629,1313.66 503.997,1312.45 \n",
       "  507.364,1311.22 510.732,1310 514.099,1308.83 517.467,1307.75 520.834,1306.78 524.202,1305.94 527.569,1305.22 530.937,1304.63 534.304,1304.16 537.672,1303.79 \n",
       "  541.039,1303.51 544.407,1303.33 547.774,1303.24 551.142,1303.23 554.509,1303.28 557.877,1303.39 561.244,1303.52 564.612,1303.7 567.979,1303.81 571.347,1303.89 \n",
       "  574.714,1303.9 578.082,1303.82 581.449,1303.86 584.817,1303.93 588.184,1304.07 591.552,1304.3 594.919,1304.58 598.287,1304.97 601.654,1305.46 605.022,1306.03 \n",
       "  608.389,1306.65 611.757,1307.28 615.124,1307.91 618.492,1308.52 621.859,1309.11 625.227,1309.69 628.594,1310.25 631.962,1310.79 635.329,1311.32 638.697,1311.83 \n",
       "  642.064,1312.33 645.432,1312.82 648.799,1313.29 652.167,1313.75 655.534,1314.2 658.902,1314.64 662.269,1315.07 665.637,1315.49 669.004,1315.9 672.372,1316.3 \n",
       "  675.739,1316.7 679.107,1317.09 682.474,1317.47 685.842,1317.84 689.209,1318.21 692.577,1318.58 695.944,1318.93 699.312,1319.29 702.679,1319.63 706.047,1319.98 \n",
       "  709.414,1320.31 712.782,1320.64 716.149,1320.96 719.517,1321.27 722.884,1321.58 726.252,1321.89 729.619,1322.19 732.987,1322.48 736.354,1322.77 739.722,1323.05 \n",
       "  743.089,1323.32 746.457,1323.58 749.824,1323.82 753.192,1324.05 756.559,1324.27 759.927,1324.49 763.294,1324.69 766.662,1324.88 770.029,1325.03 773.397,1325.18 \n",
       "  776.764,1325.32 780.132,1325.45 783.499,1325.6 786.867,1325.74 790.234,1325.9 793.602,1326.06 796.969,1326.26 800.337,1326.47 803.704,1326.72 807.072,1326.96 \n",
       "  810.439,1327.21 813.807,1327.48 817.174,1327.76 820.542,1328.04 823.909,1328.33 827.277,1328.61 830.644,1328.9 834.012,1329.2 837.379,1329.5 840.747,1329.8 \n",
       "  844.114,1330.11 847.482,1330.42 850.849,1330.74 854.217,1331.07 857.584,1331.41 860.952,1331.75 864.319,1332.11 867.687,1332.47 871.054,1332.83 874.422,1333.21 \n",
       "  877.789,1333.58 881.157,1333.96 884.524,1334.35 887.892,1334.75 891.259,1335.15 894.627,1335.55 897.994,1335.97 901.362,1336.38 904.729,1336.81 908.097,1337.23 \n",
       "  911.464,1337.66 914.832,1338.1 918.199,1338.55 921.567,1339 924.934,1339.46 928.302,1339.92 931.669,1340.39 935.037,1340.86 938.404,1341.33 941.772,1341.78 \n",
       "  945.139,1342.23 948.507,1342.67 951.874,1343.12 955.242,1343.55 958.609,1343.98 961.977,1344.4 965.344,1344.81 968.712,1345.18 972.079,1345.57 975.447,1345.92 \n",
       "  978.815,1346.19 982.182,1346.49 985.55,1346.75 988.917,1346.95 992.285,1347.1 995.652,1347.21 999.02,1347.28 1002.39,1347.35 1005.75,1347.31 1009.12,1347.19 \n",
       "  1012.49,1347.02 1015.86,1346.77 1019.22,1346.43 1022.59,1346.02 1025.96,1345.65 1029.33,1345.46 1032.69,1345.51 1036.06,1345.71 1039.43,1345.96 1042.8,1346.2 \n",
       "  1046.16,1346.37 1049.53,1346.44 1052.9,1346.39 1056.27,1346.14 1059.63,1345.65 1063,1344.83 1066.37,1343.64 1069.74,1342.66 1073.1,1342.43 1076.47,1342.61 \n",
       "  1079.84,1342.9 1083.21,1343.26 1086.57,1343.71 1089.94,1344.21 1093.31,1344.73 1096.68,1345.23 1100.04,1345.69 1103.41,1346.11 1106.78,1346.49 1110.15,1346.83 \n",
       "  1113.51,1347.13 1116.88,1347.4 1120.25,1347.64 1123.62,1347.85 1126.98,1348.04 1130.35,1348.2 1133.72,1348.34 1137.09,1348.46 1140.45,1348.56 1143.82,1348.65 \n",
       "  1147.19,1348.72 1150.56,1348.78 1153.92,1348.82 1157.29,1348.85 1160.66,1348.87 1164.03,1348.88 1167.39,1348.89 1170.76,1348.89 1174.13,1348.9 1177.5,1348.91 \n",
       "  1180.86,1348.93 1184.23,1348.96 1187.6,1348.98 1190.97,1349.02 1194.33,1349.05 1197.7,1349.09 1201.07,1349.13 1204.44,1349.17 1207.8,1349.21 1211.17,1349.25 \n",
       "  1214.54,1349.29 1217.91,1349.32 1221.27,1349.36 1224.64,1349.39 1228.01,1349.42 1231.38,1349.44 1234.74,1349.46 1238.11,1349.48 1241.48,1349.49 1244.85,1349.49 \n",
       "  1248.21,1349.5 1251.58,1349.49 1254.95,1349.49 1258.32,1349.47 1261.68,1349.45 1265.05,1349.43 1268.42,1349.4 1271.79,1349.37 1275.15,1349.33 1278.52,1349.28 \n",
       "  1281.89,1349.22 1285.26,1349.16 1288.62,1349.09 1291.99,1349.02 1295.36,1348.94 1298.73,1348.85 1302.09,1348.76 1305.46,1348.66 1308.83,1348.56 1312.2,1348.45 \n",
       "  1315.56,1348.34 1318.93,1348.23 1322.3,1348.11 1325.67,1347.99 1329.03,1347.88 1332.4,1347.76 1335.77,1347.65 1339.14,1347.54 1342.5,1347.43 1345.87,1347.33 \n",
       "  1349.24,1347.22 1352.61,1347.09 1355.97,1346.82 1359.34,1345.85 1362.71,1340.4 1366.08,1337.6 1369.44,1338.88 1372.81,1340.14 1376.18,1341.14 1379.55,1341.93 \n",
       "  1382.91,1342.57 1386.28,1343.09 1389.65,1343.52 1393.02,1343.87 1396.38,1344.12 1399.75,1344.18 1403.12,1343.9 1406.49,1343 1409.85,1341.4 1413.22,1340.16 \n",
       "  1416.59,1340.41 1419.96,1341.64 1423.32,1343.23 1426.69,1344.91 1430.06,1346.58 1433.43,1348.17 1436.79,1349.57 1440.16,1350.57 1443.53,1350.53 1446.9,1349.62 \n",
       "  1450.26,1350.89 1453.63,1352.65 1457,1354.27 1460.37,1355.66 1463.73,1356.77 1467.1,1357.63 1470.47,1358.26 1473.84,1358.69 1477.21,1358.94 1480.57,1359.03 \n",
       "  1483.94,1359 1487.31,1358.84 1490.68,1358.59 1494.04,1358.25 1497.41,1357.83 1500.78,1357.34 1504.15,1356.79 1507.51,1356.18 1510.88,1355.5 1514.25,1354.77 \n",
       "  1517.62,1353.96 1520.98,1353.06 1524.35,1352.04 1527.72,1350.86 1531.09,1349.39 1534.45,1347.41 1537.82,1344.36 1541.19,1339.53 1544.56,1344.13 1547.92,1349.05 \n",
       "  1551.29,1350.26 1554.66,1352.31 1558.03,1354.63 1561.39,1356.79 1564.76,1358.83 1568.13,1360.79 1571.5,1362.66 1574.86,1364.45 1578.23,1366.16 1581.6,1367.74 \n",
       "  1584.97,1369.17 1588.33,1370.5 1591.7,1371.72 1595.07,1372.85 1598.44,1373.91 1601.8,1374.91 1605.17,1375.86 1608.54,1376.77 1611.91,1377.7 1615.27,1378.73 \n",
       "  1618.64,1379.96 1622.01,1381.59 1625.38,1383.57 1628.74,1384.24 1632.11,1382.91 1635.48,1381.06 1638.85,1378.73 1642.21,1376.77 1645.58,1375.8 1648.95,1375.25 \n",
       "  1652.32,1375.02 1655.68,1375.04 1659.05,1375.17 1662.42,1375.36 1665.79,1375.58 1669.15,1375.8 1672.52,1376 1675.89,1376.19 1679.26,1376.35 1682.62,1376.5 \n",
       "  1685.99,1376.62 1689.36,1376.71 1692.73,1376.78 1696.09,1376.83 1699.46,1376.87 1702.83,1376.88 1706.2,1376.87 1709.56,1376.84 1712.93,1376.78 1716.3,1376.71 \n",
       "  1719.67,1376.62 1723.03,1376.51 1726.4,1376.39 1729.77,1376.26 1733.14,1376.1 1736.5,1375.93 1739.87,1375.76 1743.24,1375.57 1746.61,1375.38 1749.97,1375.18 \n",
       "  1753.34,1374.97 1756.71,1374.76 1760.08,1374.54 1763.44,1374.32 1766.81,1374.09 1770.18,1373.86 1773.55,1373.63 1776.91,1373.39 1780.28,1373.15 1783.65,1372.92 \n",
       "  1787.02,1372.68 1790.38,1372.45 1793.75,1372.21 1797.12,1371.98 1800.49,1371.74 1803.85,1371.49 1807.22,1371.25 1810.59,1371.01 1813.96,1370.76 1817.32,1370.52 \n",
       "  1820.69,1370.27 1824.06,1370.03 1827.43,1369.78 1830.79,1369.54 1834.16,1369.3 1837.53,1369.06 1840.9,1368.83 1844.26,1368.59 1847.63,1368.35 1851,1368.12 \n",
       "  1854.37,1367.88 1857.73,1367.65 1861.1,1367.41 1864.47,1367.18 1867.84,1366.94 1871.2,1366.7 1874.57,1366.46 1877.94,1366.21 1881.31,1365.96 1884.67,1365.72 \n",
       "  1888.04,1365.48 1891.41,1365.23 1894.78,1364.99 1898.14,1364.75 1901.51,1364.52 1904.88,1364.28 1908.25,1364.05 1911.61,1363.81 1914.98,1363.58 1918.35,1363.35 \n",
       "  1921.72,1363.12 1925.08,1362.89 1928.45,1362.66 1931.82,1362.44 1935.19,1362.22 1938.55,1362 1941.92,1361.79 1945.29,1361.58 1948.66,1361.37 1952.02,1361.17 \n",
       "  1955.39,1360.97 1958.76,1360.78 1962.13,1360.59 1965.49,1360.4 1968.86,1360.22 1972.23,1360.04 1975.6,1359.87 1978.96,1359.7 1982.33,1359.53 1985.7,1359.36 \n",
       "  1989.07,1359.2 1992.43,1359.04 1995.8,1358.89 1999.17,1358.74 2002.54,1358.59 2005.9,1358.44 2009.27,1358.29 2012.64,1358.15 2016.01,1358 2019.37,1357.86 \n",
       "  2022.74,1357.71 2026.11,1357.56 2029.48,1357.42 2032.84,1357.27 2036.21,1357.12 2039.58,1356.98 2042.95,1356.85 2046.31,1356.72 2049.68,1356.6 2053.05,1356.48 \n",
       "  2056.42,1356.37 2059.78,1356.26 2063.15,1356.16 2066.52,1356.06 2069.89,1355.97 2073.25,1355.88 2076.62,1355.8 2079.99,1355.72 2083.36,1355.64 2086.72,1355.57 \n",
       "  2090.09,1355.5 2093.46,1355.45 2096.83,1355.39 2100.19,1355.34 2103.56,1355.28 2106.93,1355.22 2110.3,1354.99 2113.66,1354.91 2117.03,1354.91 2120.4,1354.91 \n",
       "  2123.77,1354.92 2127.13,1354.93 2130.5,1354.93 2133.87,1354.94 2137.24,1354.93 2140.6,1354.93 2143.97,1354.94 2147.34,1354.97 2150.71,1355.02 2154.07,1355.06 \n",
       "  2157.44,1355.12 2160.81,1355.18 2164.18,1355.24 2167.54,1355.31 2170.91,1355.38 2174.28,1355.46 2177.65,1355.54 2181.01,1355.62 2184.38,1355.71 2187.75,1355.79 \n",
       "  2191.12,1355.87 2194.48,1355.96 2197.85,1356.05 2201.22,1356.14 2204.59,1356.23 2207.95,1356.32 2211.32,1356.41 2214.69,1356.5 2218.06,1356.59 2221.42,1356.69 \n",
       "  2224.79,1356.78 2228.16,1356.88 2231.53,1356.98 2234.89,1357.07 2238.26,1357.17 2241.63,1357.27 2245,1357.37 2248.36,1357.47 2251.73,1357.57 2255.1,1357.67 \n",
       "  2258.47,1357.77 2261.83,1357.87 2265.2,1357.97 2268.57,1358.07 2271.94,1358.17 2275.3,1358.27 2278.67,1358.38 2282.04,1358.48 2285.41,1358.58 2288.77,1358.69 \n",
       "  2292.14,1358.79 \n",
       "  \"/>\n",
       "<polyline clip-path=\"url(#clip902)\" style=\"stroke:#e26f46; stroke-width:8; stroke-opacity:1; fill:none\" points=\"\n",
       "  272.312,86.1857 272.986,219.359 273.659,274.423 274.333,307.283 275.006,332.313 275.68,355.479 276.353,380.541 277.027,410.576 277.7,448.109 278.374,494.653 \n",
       "  279.047,550.222 279.721,613.101 280.394,679.992 281.068,746.35 281.741,808.301 282.415,863.736 283.088,912.008 283.762,953.422 284.435,988.73 285.109,1018.8 \n",
       "  285.782,1044.46 286.456,1066.43 287.129,1085.33 287.803,1101.7 288.476,1115.96 289.15,1128.47 289.823,1139.49 290.497,1149.29 291.17,1158.03 291.844,1165.89 \n",
       "  292.517,1172.99 293.191,1179.44 293.864,1185.33 294.538,1190.74 295.211,1195.73 295.885,1200.35 296.558,1204.65 297.232,1208.66 297.905,1212.42 298.579,1215.95 \n",
       "  299.252,1219.28 299.926,1222.43 300.599,1225.42 301.273,1228.25 301.946,1230.95 302.62,1233.53 303.293,1235.99 303.967,1238.34 304.64,1240.6 305.314,1242.77 \n",
       "  305.987,1244.85 306.661,1246.86 307.334,1248.79 308.008,1250.65 308.681,1252.44 309.355,1254.17 310.028,1255.84 310.702,1257.46 311.375,1259.02 312.049,1260.53 \n",
       "  312.722,1262 313.396,1263.41 314.069,1264.79 314.743,1266.12 315.416,1267.41 316.09,1268.66 316.763,1269.87 317.437,1271.05 318.11,1272.19 318.784,1273.3 \n",
       "  319.457,1274.38 320.131,1275.43 320.804,1276.45 321.478,1277.44 322.151,1278.4 322.825,1279.34 323.498,1280.25 324.172,1281.14 324.845,1282.01 325.519,1282.85 \n",
       "  326.192,1283.66 326.866,1284.46 327.539,1285.24 328.213,1286 328.886,1286.74 329.56,1287.46 330.233,1288.16 330.907,1288.84 331.58,1289.51 332.254,1290.16 \n",
       "  332.927,1290.8 333.601,1291.42 334.274,1292.02 334.948,1292.61 335.621,1293.19 336.295,1293.75 336.968,1294.29 337.642,1294.82 338.315,1295.34 338.989,1295.84 \n",
       "  339.662,1296.34 340.336,1296.81 341.009,1297.28 341.683,1297.74 342.356,1298.18 343.03,1298.62 343.703,1299.04 344.377,1299.45 345.05,1299.86 345.724,1300.25 \n",
       "  346.397,1300.63 347.071,1301.01 347.744,1301.37 348.418,1301.73 349.091,1302.08 349.765,1302.42 350.438,1302.75 351.112,1303.07 351.785,1303.38 352.459,1303.69 \n",
       "  353.132,1303.99 353.806,1304.28 354.479,1304.56 355.153,1304.84 355.826,1305.11 356.5,1305.37 357.173,1305.63 357.847,1305.88 358.52,1306.12 359.194,1306.36 \n",
       "  359.867,1306.59 360.541,1306.82 361.214,1307.04 361.888,1307.26 362.561,1307.47 363.235,1307.67 363.908,1307.87 364.582,1308.07 365.255,1308.26 365.929,1308.44 \n",
       "  366.602,1308.62 367.276,1308.8 367.949,1308.97 368.623,1309.14 369.296,1309.3 369.97,1309.46 370.643,1309.62 371.317,1309.77 371.99,1309.92 372.664,1310.06 \n",
       "  373.337,1310.21 374.011,1310.34 374.684,1310.48 375.358,1310.61 376.031,1310.74 376.705,1310.86 377.378,1310.99 378.052,1311.1 378.725,1311.22 379.399,1311.33 \n",
       "  380.072,1311.44 380.746,1311.55 381.419,1311.66 382.093,1311.76 382.766,1311.86 383.44,1311.96 384.113,1312.05 384.787,1312.15 385.46,1312.24 386.134,1312.33 \n",
       "  386.807,1312.41 387.481,1312.5 388.154,1312.58 388.828,1312.66 389.501,1312.74 390.175,1312.81 390.848,1312.89 391.522,1312.96 392.195,1313.03 392.869,1313.1 \n",
       "  393.542,1313.17 394.216,1313.23 394.889,1313.3 395.563,1313.36 396.236,1313.42 396.91,1313.48 397.583,1313.54 398.257,1313.59 398.93,1313.65 399.604,1313.7 \n",
       "  400.277,1313.75 400.951,1313.81 401.624,1313.86 402.298,1313.9 402.971,1313.95 403.645,1314 404.318,1314.04 404.992,1314.09 405.665,1314.13 406.339,1314.17 \n",
       "  407.012,1314.21 407.686,1314.25 408.359,1314.29 409.033,1314.33 409.706,1314.37 410.38,1314.4 411.053,1314.44 411.727,1314.47 412.4,1314.5 413.074,1314.54 \n",
       "  413.747,1314.57 414.421,1314.6 415.094,1314.63 415.768,1314.66 416.441,1314.69 417.115,1314.72 417.788,1314.74 418.462,1314.77 419.135,1314.8 419.809,1314.82 \n",
       "  420.482,1314.84 421.156,1314.87 421.829,1314.89 422.503,1314.91 423.176,1314.94 423.85,1314.96 424.523,1314.98 425.197,1315 425.87,1315.02 426.544,1315.04 \n",
       "  427.217,1315.06 427.891,1315.08 428.564,1315.1 429.238,1315.11 429.911,1315.13 430.585,1315.15 431.258,1315.17 431.932,1315.18 432.605,1315.2 433.279,1315.21 \n",
       "  433.952,1315.23 434.626,1315.24 435.299,1315.26 435.973,1315.27 436.646,1315.28 437.32,1315.3 437.993,1315.31 438.667,1315.32 439.34,1315.33 440.014,1315.35 \n",
       "  440.687,1315.36 441.361,1315.37 442.034,1315.38 442.708,1315.39 443.381,1315.4 444.055,1315.41 444.728,1315.42 445.402,1315.43 446.075,1315.44 446.749,1315.45 \n",
       "  447.422,1315.46 448.096,1315.47 448.769,1315.47 449.443,1315.48 450.116,1315.49 450.79,1315.5 451.463,1315.5 452.137,1315.51 452.81,1315.52 453.484,1315.53 \n",
       "  454.157,1315.53 454.831,1315.54 455.504,1315.55 456.178,1315.55 456.851,1315.56 457.525,1315.56 458.198,1315.57 458.872,1315.57 459.545,1315.58 460.219,1315.59 \n",
       "  460.892,1315.59 461.566,1315.6 462.239,1315.6 462.913,1315.6 463.586,1315.61 464.26,1315.61 464.933,1315.62 465.607,1315.62 466.28,1315.63 466.954,1315.63 \n",
       "  467.627,1315.63 468.301,1315.64 468.974,1315.64 469.648,1315.65 470.321,1315.65 470.995,1315.65 471.668,1315.66 472.342,1315.66 473.015,1315.66 473.689,1315.67 \n",
       "  474.362,1315.67 475.036,1315.67 475.709,1315.68 476.383,1315.68 477.056,1315.68 477.73,1315.68 478.403,1315.69 479.077,1315.69 479.75,1315.69 480.424,1315.69 \n",
       "  481.097,1315.7 481.771,1315.7 482.444,1315.7 483.118,1315.7 483.791,1315.7 484.465,1315.71 485.139,1315.71 485.812,1315.71 486.486,1315.71 487.159,1315.71 \n",
       "  487.833,1315.72 488.506,1315.72 489.18,1315.72 489.853,1315.72 490.527,1315.72 491.2,1315.72 491.874,1315.73 492.547,1315.73 493.221,1315.73 493.894,1315.73 \n",
       "  494.568,1315.73 495.241,1315.73 495.915,1315.73 496.588,1315.74 497.262,1315.74 497.935,1315.74 498.609,1315.74 499.282,1315.74 499.956,1315.74 500.629,1315.74 \n",
       "  501.303,1315.74 501.976,1315.74 502.65,1315.74 503.323,1315.75 503.997,1315.75 504.67,1315.75 505.344,1315.75 506.017,1315.75 506.691,1315.75 507.364,1315.75 \n",
       "  508.038,1315.75 508.711,1315.75 509.385,1315.75 510.058,1315.75 510.732,1315.75 511.405,1315.75 512.079,1315.76 512.752,1315.76 513.426,1315.76 514.099,1315.76 \n",
       "  514.773,1315.76 515.446,1315.76 516.12,1315.76 516.793,1315.76 517.467,1315.76 518.14,1315.76 518.814,1315.76 519.487,1315.76 520.161,1315.76 520.834,1315.76 \n",
       "  521.508,1315.76 522.181,1315.76 522.855,1315.76 523.528,1315.76 524.202,1315.77 524.875,1315.77 525.549,1315.77 526.222,1315.77 526.896,1315.77 527.569,1315.77 \n",
       "  528.243,1315.77 528.916,1315.77 529.59,1315.77 530.263,1315.77 530.937,1315.77 531.61,1315.77 532.284,1315.77 532.957,1315.77 533.631,1315.77 534.304,1315.77 \n",
       "  534.978,1315.77 535.651,1315.77 536.325,1315.77 536.998,1315.77 537.672,1315.77 538.345,1315.77 539.019,1315.77 539.692,1315.77 540.366,1315.77 541.039,1315.77 \n",
       "  541.713,1315.77 542.386,1315.77 543.06,1315.77 543.733,1315.77 544.407,1315.77 545.08,1315.77 545.754,1315.77 546.427,1315.77 547.101,1315.77 547.774,1315.77 \n",
       "  548.448,1315.77 549.121,1315.77 549.795,1315.77 550.468,1315.77 551.142,1315.77 551.815,1315.77 552.489,1315.77 553.162,1315.77 553.836,1315.77 554.509,1315.77 \n",
       "  555.183,1315.77 555.856,1315.78 556.53,1315.78 557.203,1315.78 557.877,1315.78 558.55,1315.78 559.224,1315.78 559.897,1315.78 560.571,1315.78 561.244,1315.78 \n",
       "  561.918,1315.78 562.591,1315.78 563.265,1315.78 563.938,1315.78 564.612,1315.78 565.285,1315.78 565.959,1315.78 566.632,1315.78 567.306,1315.78 567.979,1315.78 \n",
       "  568.653,1315.78 569.326,1315.78 570,1315.78 570.673,1315.78 571.347,1315.78 572.02,1315.78 572.694,1315.78 573.367,1315.78 574.041,1315.78 574.714,1315.78 \n",
       "  575.388,1315.78 576.061,1315.78 576.735,1315.78 577.408,1315.78 578.082,1315.78 578.755,1315.78 579.429,1315.78 580.102,1315.78 580.776,1315.78 581.449,1315.78 \n",
       "  582.123,1315.78 582.796,1315.78 583.47,1315.78 584.143,1315.78 584.817,1315.78 585.49,1315.78 586.164,1315.78 586.837,1315.78 587.511,1315.78 588.184,1315.78 \n",
       "  588.858,1315.78 589.531,1315.78 590.205,1315.78 590.878,1315.78 591.552,1315.78 592.225,1315.78 592.899,1315.78 593.572,1315.78 594.246,1315.78 594.919,1315.78 \n",
       "  595.593,1315.78 596.266,1315.78 596.94,1315.78 597.613,1315.78 598.287,1315.78 598.96,1315.78 599.634,1315.78 600.307,1315.78 600.981,1315.78 601.654,1315.78 \n",
       "  602.328,1315.78 603.001,1315.78 603.675,1315.78 604.348,1315.78 605.022,1315.78 605.695,1315.78 606.369,1315.78 607.042,1315.78 607.716,1315.78 608.389,1315.78 \n",
       "  609.063,1315.78 609.736,1315.78 610.41,1315.78 611.083,1315.78 611.757,1315.78 612.43,1315.78 613.104,1315.78 613.777,1315.78 614.451,1315.78 615.124,1315.78 \n",
       "  615.798,1315.78 616.471,1315.78 617.145,1315.78 617.818,1315.78 618.492,1315.78 619.165,1315.78 619.839,1315.78 620.512,1315.78 621.186,1315.78 621.859,1315.78 \n",
       "  622.533,1315.78 623.206,1315.78 623.88,1315.78 624.553,1315.78 625.227,1315.78 625.9,1315.78 626.574,1315.78 627.247,1315.78 627.921,1315.78 628.594,1315.78 \n",
       "  629.268,1315.78 629.941,1315.78 630.615,1315.78 631.288,1315.78 631.962,1315.78 632.635,1315.78 633.309,1315.78 633.982,1315.78 634.656,1315.78 635.329,1315.78 \n",
       "  636.003,1315.78 636.676,1315.78 637.35,1315.78 638.023,1315.78 638.697,1315.78 639.37,1315.78 640.044,1315.78 640.717,1315.78 641.391,1315.78 642.064,1315.78 \n",
       "  642.738,1315.78 643.411,1315.78 644.085,1315.78 644.758,1315.78 645.432,1315.78 646.105,1315.78 646.779,1315.78 647.452,1315.78 648.126,1315.78 648.799,1315.78 \n",
       "  649.473,1315.78 650.146,1315.78 650.82,1315.78 651.493,1315.78 652.167,1315.78 652.84,1315.78 653.514,1315.78 654.187,1315.78 654.861,1315.78 655.534,1315.78 \n",
       "  656.208,1315.78 656.881,1315.78 657.555,1315.78 658.228,1315.78 658.902,1315.78 659.575,1315.78 660.249,1315.78 660.922,1315.78 661.596,1315.78 662.269,1315.78 \n",
       "  662.943,1315.78 663.616,1315.78 664.29,1315.78 664.963,1315.78 665.637,1315.78 666.31,1315.78 666.984,1315.78 667.657,1315.78 668.331,1315.78 669.004,1315.78 \n",
       "  669.678,1315.78 670.351,1315.78 671.025,1315.78 671.698,1315.78 672.372,1315.78 673.045,1315.78 673.719,1315.78 674.392,1315.78 675.066,1315.78 675.739,1315.78 \n",
       "  676.413,1315.78 677.086,1315.78 677.76,1315.78 678.433,1315.78 679.107,1315.78 679.78,1315.78 680.454,1315.78 681.127,1315.78 681.801,1315.78 682.474,1315.78 \n",
       "  683.148,1315.78 683.821,1315.78 684.495,1315.78 685.168,1315.78 685.842,1315.78 686.515,1315.78 687.189,1315.78 687.862,1315.78 688.536,1315.78 689.209,1315.78 \n",
       "  689.883,1315.78 690.556,1315.78 691.23,1315.78 691.903,1315.78 692.577,1315.78 693.25,1315.78 693.924,1315.78 694.597,1315.78 695.271,1315.78 695.944,1315.78 \n",
       "  696.618,1315.78 697.291,1315.78 697.965,1315.78 698.638,1315.78 699.312,1315.78 699.985,1315.78 700.659,1315.78 701.332,1315.78 702.006,1315.78 702.679,1315.78 \n",
       "  703.353,1315.78 704.026,1315.78 704.7,1315.78 705.373,1315.78 706.047,1315.78 706.72,1315.78 707.394,1315.78 708.067,1315.78 708.741,1315.78 709.414,1315.78 \n",
       "  710.088,1315.78 710.761,1315.78 711.435,1315.78 712.108,1315.78 712.782,1315.78 713.455,1315.78 714.129,1315.78 714.802,1315.78 715.476,1315.78 716.149,1315.78 \n",
       "  716.823,1315.78 717.496,1315.78 718.17,1315.78 718.843,1315.78 719.517,1315.78 720.19,1315.78 720.864,1315.78 721.537,1315.78 722.211,1315.78 722.884,1315.78 \n",
       "  723.558,1315.78 724.231,1315.78 724.905,1315.78 725.578,1315.78 726.252,1315.78 726.925,1315.78 727.599,1315.78 728.272,1315.78 728.946,1315.78 729.619,1315.78 \n",
       "  730.293,1315.78 730.966,1315.78 731.64,1315.78 732.313,1315.78 732.987,1315.78 733.66,1315.78 734.334,1315.78 735.007,1315.78 735.681,1315.78 736.354,1315.78 \n",
       "  737.028,1315.78 737.701,1315.78 738.375,1315.78 739.048,1315.78 739.722,1315.78 740.395,1315.78 741.069,1315.78 741.742,1315.78 742.416,1315.78 743.089,1315.78 \n",
       "  743.763,1315.78 744.436,1315.78 745.11,1315.78 745.783,1315.78 746.457,1315.78 747.13,1315.78 747.804,1315.78 748.477,1315.78 749.151,1315.78 749.824,1315.78 \n",
       "  750.498,1315.78 751.171,1315.78 751.845,1315.78 752.518,1315.78 753.192,1315.78 753.865,1315.78 754.539,1315.78 755.212,1315.78 755.886,1315.78 756.559,1315.78 \n",
       "  757.233,1315.78 757.906,1315.78 758.58,1315.78 759.253,1315.78 759.927,1315.78 760.6,1315.78 761.274,1315.78 761.947,1315.78 762.621,1315.78 763.294,1315.78 \n",
       "  763.968,1315.78 764.641,1315.78 765.315,1315.78 765.988,1315.78 766.662,1315.78 767.335,1315.78 768.009,1315.78 768.682,1315.78 769.356,1315.78 770.029,1315.78 \n",
       "  770.703,1315.78 771.376,1315.78 772.05,1315.78 772.723,1315.78 773.397,1315.78 774.07,1315.78 774.744,1315.78 775.417,1315.78 776.091,1315.78 776.764,1315.78 \n",
       "  777.438,1315.78 778.111,1315.78 778.785,1315.78 779.458,1315.78 780.132,1315.78 780.805,1315.78 781.479,1315.78 782.152,1315.78 782.826,1315.78 783.499,1315.78 \n",
       "  784.173,1315.78 784.846,1315.78 785.52,1315.78 786.193,1315.78 786.867,1315.78 787.54,1315.78 788.214,1315.78 788.887,1315.78 789.561,1315.78 790.234,1315.78 \n",
       "  790.908,1315.78 791.581,1315.78 792.255,1315.78 792.928,1315.78 793.602,1315.78 794.275,1315.78 794.949,1315.78 795.622,1315.78 796.296,1315.78 796.969,1315.78 \n",
       "  797.643,1315.78 798.316,1315.78 798.99,1315.78 799.663,1315.78 800.337,1315.78 801.01,1315.78 801.684,1315.78 802.357,1315.78 803.031,1315.78 803.704,1315.78 \n",
       "  804.378,1315.78 805.051,1315.78 805.725,1315.78 806.398,1315.78 807.072,1315.78 807.745,1315.78 808.419,1315.78 809.092,1315.78 809.766,1315.78 810.439,1315.78 \n",
       "  811.113,1315.78 811.786,1315.78 812.46,1315.78 813.133,1315.78 813.807,1315.78 814.48,1315.78 815.154,1315.78 815.827,1315.78 816.501,1315.78 817.174,1315.78 \n",
       "  817.848,1315.78 818.521,1315.78 819.195,1315.78 819.868,1315.78 820.542,1315.78 821.215,1315.78 821.889,1315.78 822.562,1315.78 823.236,1315.78 823.909,1315.78 \n",
       "  824.583,1315.78 825.256,1315.78 825.93,1315.78 826.603,1315.78 827.277,1315.78 827.95,1315.78 828.624,1315.78 829.297,1315.78 829.971,1315.78 830.644,1315.78 \n",
       "  831.318,1315.78 831.991,1315.78 832.665,1315.78 833.338,1315.78 834.012,1315.78 834.685,1315.78 835.359,1315.78 836.032,1315.78 836.706,1315.78 837.379,1315.78 \n",
       "  838.053,1315.78 838.726,1315.78 839.4,1315.78 840.073,1315.78 840.747,1315.78 841.42,1315.78 842.094,1315.78 842.767,1315.78 843.441,1315.78 844.114,1315.78 \n",
       "  844.788,1315.78 845.461,1315.78 846.135,1315.78 846.808,1315.78 847.482,1315.78 848.155,1315.78 848.829,1315.78 849.502,1315.78 850.176,1315.78 850.849,1315.78 \n",
       "  851.523,1315.78 852.196,1315.78 852.87,1315.78 853.543,1315.78 854.217,1315.78 854.89,1315.78 855.564,1315.78 856.237,1315.78 856.911,1315.78 857.584,1315.78 \n",
       "  858.258,1315.78 858.931,1315.78 859.605,1315.78 860.278,1315.78 860.952,1315.78 861.625,1315.78 862.299,1315.78 862.972,1315.78 863.646,1315.78 864.319,1315.78 \n",
       "  864.993,1315.78 865.666,1315.78 866.34,1315.78 867.013,1315.78 867.687,1315.78 868.36,1315.78 869.034,1315.78 869.707,1315.78 870.381,1315.78 871.054,1315.78 \n",
       "  871.728,1315.78 872.401,1315.78 873.075,1315.78 873.748,1315.78 874.422,1315.78 875.095,1315.78 875.769,1315.78 876.442,1315.78 877.116,1315.78 877.789,1315.78 \n",
       "  878.463,1315.78 879.136,1315.78 879.81,1315.78 880.483,1315.78 881.157,1315.78 881.83,1315.78 882.504,1315.78 883.177,1315.78 883.851,1315.78 884.524,1315.78 \n",
       "  885.198,1315.78 885.871,1315.78 886.545,1315.78 887.218,1315.78 887.892,1315.78 888.565,1315.78 889.239,1315.78 889.912,1315.78 890.586,1315.78 891.259,1315.78 \n",
       "  891.933,1315.78 892.606,1315.78 893.28,1315.78 893.953,1315.78 894.627,1315.78 895.3,1315.78 895.974,1315.78 896.647,1315.78 897.321,1315.78 897.994,1315.78 \n",
       "  898.668,1315.78 899.341,1315.78 900.015,1315.78 900.688,1315.78 901.362,1315.78 902.035,1315.78 902.709,1315.78 903.382,1315.78 904.056,1315.78 904.729,1315.78 \n",
       "  905.403,1315.78 906.076,1315.78 906.75,1315.78 907.423,1315.78 908.097,1315.78 908.77,1315.78 909.444,1315.78 910.117,1315.78 910.791,1315.78 911.464,1315.78 \n",
       "  912.138,1315.78 912.811,1315.78 913.485,1315.78 914.158,1315.78 914.832,1315.78 915.505,1315.78 916.179,1315.78 916.852,1315.78 917.526,1315.78 918.199,1315.78 \n",
       "  918.873,1315.78 919.546,1315.78 920.22,1315.78 920.893,1315.78 921.567,1315.78 922.24,1315.78 922.914,1315.78 923.587,1315.78 924.261,1315.78 924.934,1315.78 \n",
       "  925.608,1315.78 926.281,1315.78 926.955,1315.78 927.628,1315.78 928.302,1315.78 928.975,1315.78 929.649,1315.78 930.322,1315.78 930.996,1315.78 931.669,1315.78 \n",
       "  932.343,1315.78 933.016,1315.78 933.69,1315.78 934.363,1315.78 935.037,1315.78 935.71,1315.78 936.384,1315.78 937.057,1315.78 937.731,1315.78 938.404,1315.78 \n",
       "  939.078,1315.78 939.751,1315.78 940.425,1315.78 941.098,1315.78 941.772,1315.78 942.445,1315.78 943.119,1315.78 943.792,1315.78 944.466,1315.78 945.139,1315.78 \n",
       "  945.813,1315.78 946.486,1315.78 947.16,1315.78 947.833,1315.78 948.507,1315.78 949.18,1315.78 949.854,1315.78 950.527,1315.78 951.201,1315.78 951.874,1315.78 \n",
       "  952.548,1315.78 953.221,1315.78 953.895,1315.78 954.568,1315.78 955.242,1315.78 955.915,1315.78 956.589,1315.78 957.262,1315.78 957.936,1315.78 958.609,1315.78 \n",
       "  959.283,1315.78 959.956,1315.78 960.63,1315.78 961.303,1315.78 961.977,1315.78 962.65,1315.78 963.324,1315.78 963.997,1315.78 964.671,1315.78 965.344,1315.78 \n",
       "  966.018,1315.78 966.691,1315.78 967.365,1315.78 968.038,1315.78 968.712,1315.78 969.385,1315.78 970.059,1315.78 970.732,1315.78 971.406,1315.78 972.079,1315.78 \n",
       "  972.753,1315.78 973.426,1315.78 974.1,1315.78 974.773,1315.78 975.447,1315.78 976.121,1315.78 976.794,1315.78 977.468,1315.78 978.141,1315.78 978.815,1315.78 \n",
       "  979.488,1315.78 980.162,1315.78 980.835,1315.78 981.509,1315.78 982.182,1315.78 982.856,1315.78 983.529,1315.78 984.203,1315.78 984.876,1315.78 985.55,1315.78 \n",
       "  986.223,1315.78 986.897,1315.78 987.57,1315.78 988.244,1315.78 988.917,1315.78 989.591,1315.78 990.264,1315.78 990.938,1315.78 991.611,1315.78 992.285,1315.78 \n",
       "  992.958,1315.78 993.632,1315.78 994.305,1315.78 994.979,1315.78 995.652,1315.78 996.326,1315.78 996.999,1315.78 997.673,1315.78 998.346,1315.78 999.02,1315.78 \n",
       "  999.693,1315.78 1000.37,1315.78 1001.04,1315.78 1001.71,1315.78 1002.39,1315.78 1003.06,1315.78 1003.73,1315.78 1004.41,1315.78 1005.08,1315.78 1005.75,1315.78 \n",
       "  1006.43,1315.78 1007.1,1315.78 1007.78,1315.78 1008.45,1315.78 1009.12,1315.78 1009.8,1315.78 1010.47,1315.78 1011.14,1315.78 1011.82,1315.78 1012.49,1315.78 \n",
       "  1013.16,1315.78 1013.84,1315.78 1014.51,1315.78 1015.18,1315.78 1015.86,1315.78 1016.53,1315.78 1017.2,1315.78 1017.88,1315.78 1018.55,1315.78 1019.22,1315.78 \n",
       "  1019.9,1315.78 1020.57,1315.78 1021.25,1315.78 1021.92,1315.78 1022.59,1315.78 1023.27,1315.78 1023.94,1315.78 1024.61,1315.78 1025.29,1315.78 1025.96,1315.78 \n",
       "  1026.63,1315.78 1027.31,1315.78 1027.98,1315.78 1028.65,1315.78 1029.33,1315.78 1030,1315.78 1030.67,1315.78 1031.35,1315.78 1032.02,1315.78 1032.69,1315.78 \n",
       "  1033.37,1315.78 1034.04,1315.78 1034.72,1315.78 1035.39,1315.78 1036.06,1315.78 1036.74,1315.78 1037.41,1315.78 1038.08,1315.78 1038.76,1315.78 1039.43,1315.78 \n",
       "  1040.1,1315.78 1040.78,1315.78 1041.45,1315.78 1042.12,1315.78 1042.8,1315.78 1043.47,1315.78 1044.14,1315.78 1044.82,1315.78 1045.49,1315.78 1046.16,1315.78 \n",
       "  1046.84,1315.78 1047.51,1315.78 1048.19,1315.78 1048.86,1315.78 1049.53,1315.78 1050.21,1315.78 1050.88,1315.78 1051.55,1315.78 1052.23,1315.78 1052.9,1315.78 \n",
       "  1053.57,1315.78 1054.25,1315.78 1054.92,1315.78 1055.59,1315.78 1056.27,1315.78 1056.94,1315.78 1057.61,1315.78 1058.29,1315.78 1058.96,1315.78 1059.63,1315.78 \n",
       "  1060.31,1315.78 1060.98,1315.78 1061.66,1315.78 1062.33,1315.78 1063,1315.78 1063.68,1315.78 1064.35,1315.78 1065.02,1315.78 1065.7,1315.78 1066.37,1315.78 \n",
       "  1067.04,1315.78 1067.72,1315.78 1068.39,1315.78 1069.06,1315.78 1069.74,1315.78 1070.41,1315.78 1071.08,1315.78 1071.76,1315.78 1072.43,1315.78 1073.1,1315.78 \n",
       "  1073.78,1315.78 1074.45,1315.78 1075.13,1315.78 1075.8,1315.78 1076.47,1315.78 1077.15,1315.78 1077.82,1315.78 1078.49,1315.78 1079.17,1315.78 1079.84,1315.78 \n",
       "  1080.51,1315.78 1081.19,1315.78 1081.86,1315.78 1082.53,1315.78 1083.21,1315.78 1083.88,1315.78 1084.55,1315.78 1085.23,1315.78 1085.9,1315.78 1086.57,1315.78 \n",
       "  1087.25,1315.78 1087.92,1315.78 1088.6,1315.78 1089.27,1315.78 1089.94,1315.78 1090.62,1315.78 1091.29,1315.78 1091.96,1315.78 1092.64,1315.78 1093.31,1315.78 \n",
       "  1093.98,1315.78 1094.66,1315.78 1095.33,1315.78 1096,1315.78 1096.68,1315.78 1097.35,1315.78 1098.02,1315.78 1098.7,1315.78 1099.37,1315.78 1100.04,1315.78 \n",
       "  1100.72,1315.78 1101.39,1315.78 1102.07,1315.78 1102.74,1315.78 1103.41,1315.78 1104.09,1315.78 1104.76,1315.78 1105.43,1315.78 1106.11,1315.78 1106.78,1315.78 \n",
       "  1107.45,1315.78 1108.13,1315.78 1108.8,1315.78 1109.47,1315.78 1110.15,1315.78 1110.82,1315.78 1111.49,1315.78 1112.17,1315.78 1112.84,1315.78 1113.51,1315.78 \n",
       "  1114.19,1315.78 1114.86,1315.78 1115.54,1315.78 1116.21,1315.78 1116.88,1315.78 1117.56,1315.78 1118.23,1315.78 1118.9,1315.78 1119.58,1315.78 1120.25,1315.78 \n",
       "  1120.92,1315.78 1121.6,1315.78 1122.27,1315.78 1122.94,1315.78 1123.62,1315.78 1124.29,1315.78 1124.96,1315.78 1125.64,1315.78 1126.31,1315.78 1126.98,1315.78 \n",
       "  1127.66,1315.78 1128.33,1315.78 1129.01,1315.78 1129.68,1315.78 1130.35,1315.78 1131.03,1315.78 1131.7,1315.78 1132.37,1315.78 1133.05,1315.78 1133.72,1315.78 \n",
       "  1134.39,1315.78 1135.07,1315.78 1135.74,1315.78 1136.41,1315.78 1137.09,1315.78 1137.76,1315.78 1138.43,1315.78 1139.11,1315.78 1139.78,1315.78 1140.45,1315.78 \n",
       "  1141.13,1315.78 1141.8,1315.78 1142.48,1315.78 1143.15,1315.78 1143.82,1315.78 1144.5,1315.78 1145.17,1315.78 1145.84,1315.78 1146.52,1315.78 1147.19,1315.78 \n",
       "  1147.86,1315.78 1148.54,1315.78 1149.21,1315.78 1149.88,1315.78 1150.56,1315.78 1151.23,1315.78 1151.9,1315.78 1152.58,1315.78 1153.25,1315.78 1153.92,1315.78 \n",
       "  1154.6,1315.78 1155.27,1315.78 1155.95,1315.78 1156.62,1315.78 1157.29,1315.78 1157.97,1315.78 1158.64,1315.78 1159.31,1315.78 1159.99,1315.78 1160.66,1315.78 \n",
       "  1161.33,1315.78 1162.01,1315.78 1162.68,1315.78 1163.35,1315.78 1164.03,1315.78 1164.7,1315.78 1165.37,1315.78 1166.05,1315.78 1166.72,1315.78 1167.39,1315.78 \n",
       "  1168.07,1315.78 1168.74,1315.78 1169.42,1315.78 1170.09,1315.78 1170.76,1315.78 1171.44,1315.78 1172.11,1315.78 1172.78,1315.78 1173.46,1315.78 1174.13,1315.78 \n",
       "  1174.8,1315.78 1175.48,1315.78 1176.15,1315.78 1176.82,1315.78 1177.5,1315.78 1178.17,1315.78 1178.84,1315.78 1179.52,1315.78 1180.19,1315.78 1180.86,1315.78 \n",
       "  1181.54,1315.78 1182.21,1315.78 1182.89,1315.78 1183.56,1315.78 1184.23,1315.78 1184.91,1315.78 1185.58,1315.78 1186.25,1315.78 1186.93,1315.78 1187.6,1315.78 \n",
       "  1188.27,1315.78 1188.95,1315.78 1189.62,1315.78 1190.29,1315.78 1190.97,1315.78 1191.64,1315.78 1192.31,1315.78 1192.99,1315.78 1193.66,1315.78 1194.33,1315.78 \n",
       "  1195.01,1315.78 1195.68,1315.78 1196.36,1315.78 1197.03,1315.78 1197.7,1315.78 1198.38,1315.78 1199.05,1315.78 1199.72,1315.78 1200.4,1315.78 1201.07,1315.78 \n",
       "  1201.74,1315.78 1202.42,1315.78 1203.09,1315.78 1203.76,1315.78 1204.44,1315.78 1205.11,1315.78 1205.78,1315.78 1206.46,1315.78 1207.13,1315.78 1207.8,1315.78 \n",
       "  1208.48,1315.78 1209.15,1315.78 1209.83,1315.78 1210.5,1315.78 1211.17,1315.78 1211.85,1315.78 1212.52,1315.78 1213.19,1315.78 1213.87,1315.78 1214.54,1315.78 \n",
       "  1215.21,1315.78 1215.89,1315.78 1216.56,1315.78 1217.23,1315.78 1217.91,1315.78 1218.58,1315.78 1219.25,1315.78 1219.93,1315.78 1220.6,1315.78 1221.27,1315.78 \n",
       "  1221.95,1315.78 1222.62,1315.78 1223.3,1315.78 1223.97,1315.78 1224.64,1315.78 1225.32,1315.78 1225.99,1315.78 1226.66,1315.78 1227.34,1315.78 1228.01,1315.78 \n",
       "  1228.68,1315.78 1229.36,1315.78 1230.03,1315.78 1230.7,1315.78 1231.38,1315.78 1232.05,1315.78 1232.72,1315.78 1233.4,1315.78 1234.07,1315.78 1234.74,1315.78 \n",
       "  1235.42,1315.78 1236.09,1315.78 1236.77,1315.78 1237.44,1315.78 1238.11,1315.78 1238.79,1315.78 1239.46,1315.78 1240.13,1315.78 1240.81,1315.78 1241.48,1315.78 \n",
       "  1242.15,1315.78 1242.83,1315.78 1243.5,1315.78 1244.17,1315.78 1244.85,1315.78 1245.52,1315.78 1246.19,1315.78 1246.87,1315.78 1247.54,1315.78 1248.21,1315.78 \n",
       "  1248.89,1315.78 1249.56,1315.78 1250.24,1315.78 1250.91,1315.78 1251.58,1315.78 1252.26,1315.78 1252.93,1315.78 1253.6,1315.78 1254.28,1315.78 1254.95,1315.78 \n",
       "  1255.62,1315.78 1256.3,1315.78 1256.97,1315.78 1257.64,1315.78 1258.32,1315.78 1258.99,1315.78 1259.66,1315.78 1260.34,1315.78 1261.01,1315.78 1261.68,1315.78 \n",
       "  1262.36,1315.78 1263.03,1315.78 1263.71,1315.78 1264.38,1315.78 1265.05,1315.78 1265.73,1315.78 1266.4,1315.78 1267.07,1315.78 1267.75,1315.78 1268.42,1315.78 \n",
       "  1269.09,1315.78 1269.77,1315.78 1270.44,1315.78 1271.11,1315.78 1271.79,1315.78 1272.46,1315.78 1273.13,1315.78 1273.81,1315.78 1274.48,1315.78 1275.15,1315.78 \n",
       "  1275.83,1315.78 1276.5,1315.78 1277.18,1315.78 1277.85,1315.78 1278.52,1315.78 1279.2,1315.78 1279.87,1315.78 1280.54,1315.78 1281.22,1315.78 1281.89,1315.78 \n",
       "  1282.56,1315.78 1283.24,1315.78 1283.91,1315.78 1284.58,1315.78 1285.26,1315.78 1285.93,1315.78 1286.6,1315.78 1287.28,1315.78 1287.95,1315.78 1288.62,1315.78 \n",
       "  1289.3,1315.78 1289.97,1315.78 1290.65,1315.78 1291.32,1315.78 1291.99,1315.78 1292.67,1315.78 1293.34,1315.78 1294.01,1315.78 1294.69,1315.78 1295.36,1315.78 \n",
       "  1296.03,1315.78 1296.71,1315.78 1297.38,1315.78 1298.05,1315.78 1298.73,1315.78 1299.4,1315.78 1300.07,1315.78 1300.75,1315.78 1301.42,1315.78 1302.09,1315.78 \n",
       "  1302.77,1315.78 1303.44,1315.78 1304.12,1315.78 1304.79,1315.78 1305.46,1315.78 1306.14,1315.78 1306.81,1315.78 1307.48,1315.78 1308.16,1315.78 1308.83,1315.78 \n",
       "  1309.5,1315.78 1310.18,1315.78 1310.85,1315.78 1311.52,1315.78 1312.2,1315.78 1312.87,1315.78 1313.54,1315.78 1314.22,1315.78 1314.89,1315.78 1315.56,1315.78 \n",
       "  1316.24,1315.78 1316.91,1315.78 1317.59,1315.78 1318.26,1315.78 1318.93,1315.78 1319.61,1315.78 1320.28,1315.78 1320.95,1315.78 1321.63,1315.78 1322.3,1315.78 \n",
       "  1322.97,1315.78 1323.65,1315.78 1324.32,1315.78 1324.99,1315.78 1325.67,1315.78 1326.34,1315.78 1327.01,1315.78 1327.69,1315.78 1328.36,1315.78 1329.03,1315.78 \n",
       "  1329.71,1315.78 1330.38,1315.78 1331.06,1315.78 1331.73,1315.78 1332.4,1315.78 1333.08,1315.78 1333.75,1315.78 1334.42,1315.78 1335.1,1315.78 1335.77,1315.78 \n",
       "  1336.44,1315.78 1337.12,1315.78 1337.79,1315.78 1338.46,1315.78 1339.14,1315.78 1339.81,1315.78 1340.48,1315.78 1341.16,1315.78 1341.83,1315.78 1342.5,1315.78 \n",
       "  1343.18,1315.78 1343.85,1315.78 1344.53,1315.78 1345.2,1315.78 1345.87,1315.78 1346.55,1315.78 1347.22,1315.78 1347.89,1315.78 1348.57,1315.78 1349.24,1315.78 \n",
       "  1349.91,1315.78 1350.59,1315.78 1351.26,1315.78 1351.93,1315.78 1352.61,1315.78 1353.28,1315.78 1353.95,1315.78 1354.63,1315.78 1355.3,1315.78 1355.97,1315.78 \n",
       "  1356.65,1315.78 1357.32,1315.78 1358,1315.78 1358.67,1315.78 1359.34,1315.78 1360.02,1315.78 1360.69,1315.78 1361.36,1315.78 1362.04,1315.78 1362.71,1315.78 \n",
       "  1363.38,1315.78 1364.06,1315.78 1364.73,1315.78 1365.4,1315.78 1366.08,1315.78 1366.75,1315.78 1367.42,1315.78 1368.1,1315.78 1368.77,1315.78 1369.44,1315.78 \n",
       "  1370.12,1315.78 1370.79,1315.78 1371.47,1315.78 1372.14,1315.78 1372.81,1315.78 1373.49,1315.78 1374.16,1315.78 1374.83,1315.78 1375.51,1315.78 1376.18,1315.78 \n",
       "  1376.85,1315.78 1377.53,1315.78 1378.2,1315.78 1378.87,1315.78 1379.55,1315.78 1380.22,1315.78 1380.89,1315.78 1381.57,1315.78 1382.24,1315.78 1382.91,1315.78 \n",
       "  1383.59,1315.78 1384.26,1315.78 1384.94,1315.78 1385.61,1315.78 1386.28,1315.78 1386.96,1315.78 1387.63,1315.78 1388.3,1315.78 1388.98,1315.78 1389.65,1315.78 \n",
       "  1390.32,1315.78 1391,1315.78 1391.67,1315.78 1392.34,1315.78 1393.02,1315.78 1393.69,1315.78 1394.36,1315.78 1395.04,1315.78 1395.71,1315.78 1396.38,1315.78 \n",
       "  1397.06,1315.78 1397.73,1315.78 1398.41,1315.78 1399.08,1315.78 1399.75,1315.78 1400.43,1315.78 1401.1,1315.78 1401.77,1315.78 1402.45,1315.78 1403.12,1315.78 \n",
       "  1403.79,1315.78 1404.47,1315.78 1405.14,1315.78 1405.81,1315.78 1406.49,1315.78 1407.16,1315.78 1407.83,1315.78 1408.51,1315.78 1409.18,1315.78 1409.85,1315.78 \n",
       "  1410.53,1315.78 1411.2,1315.78 1411.88,1315.78 1412.55,1315.78 1413.22,1315.78 1413.9,1315.78 1414.57,1315.78 1415.24,1315.78 1415.92,1315.78 1416.59,1315.78 \n",
       "  1417.26,1315.78 1417.94,1315.78 1418.61,1315.78 1419.28,1315.78 1419.96,1315.78 1420.63,1315.78 1421.3,1315.78 1421.98,1315.78 1422.65,1315.78 1423.32,1315.78 \n",
       "  1424,1315.78 1424.67,1315.78 1425.35,1315.78 1426.02,1315.78 1426.69,1315.78 1427.37,1315.78 1428.04,1315.78 1428.71,1315.78 1429.39,1315.78 1430.06,1315.78 \n",
       "  1430.73,1315.78 1431.41,1315.78 1432.08,1315.78 1432.75,1315.78 1433.43,1315.78 1434.1,1315.78 1434.77,1315.78 1435.45,1315.78 1436.12,1315.78 1436.79,1315.78 \n",
       "  1437.47,1315.78 1438.14,1315.78 1438.82,1315.78 1439.49,1315.78 1440.16,1315.78 1440.84,1315.78 1441.51,1315.78 1442.18,1315.78 1442.86,1315.78 1443.53,1315.78 \n",
       "  1444.2,1315.78 1444.88,1315.78 1445.55,1315.78 1446.22,1315.78 1446.9,1315.78 1447.57,1315.78 1448.24,1315.78 1448.92,1315.78 1449.59,1315.78 1450.26,1315.78 \n",
       "  1450.94,1315.78 1451.61,1315.78 1452.29,1315.78 1452.96,1315.78 1453.63,1315.78 1454.31,1315.78 1454.98,1315.78 1455.65,1315.78 1456.33,1315.78 1457,1315.78 \n",
       "  1457.67,1315.78 1458.35,1315.78 1459.02,1315.78 1459.69,1315.78 1460.37,1315.78 1461.04,1315.78 1461.71,1315.78 1462.39,1315.78 1463.06,1315.78 1463.73,1315.78 \n",
       "  1464.41,1315.78 1465.08,1315.78 1465.76,1315.78 1466.43,1315.78 1467.1,1315.78 1467.78,1315.78 1468.45,1315.78 1469.12,1315.78 1469.8,1315.78 1470.47,1315.78 \n",
       "  1471.14,1315.78 1471.82,1315.78 1472.49,1315.78 1473.16,1315.78 1473.84,1315.78 1474.51,1315.78 1475.18,1315.78 1475.86,1315.78 1476.53,1315.78 1477.21,1315.78 \n",
       "  1477.88,1315.78 1478.55,1315.78 1479.23,1315.78 1479.9,1315.78 1480.57,1315.78 1481.25,1315.78 1481.92,1315.78 1482.59,1315.78 1483.27,1315.78 1483.94,1315.78 \n",
       "  1484.61,1315.78 1485.29,1315.78 1485.96,1315.78 1486.63,1315.78 1487.31,1315.78 1487.98,1315.78 1488.65,1315.78 1489.33,1315.78 1490,1315.78 1490.68,1315.78 \n",
       "  1491.35,1315.78 1492.02,1315.78 1492.7,1315.78 1493.37,1315.78 1494.04,1315.78 1494.72,1315.78 1495.39,1315.78 1496.06,1315.78 1496.74,1315.78 1497.41,1315.78 \n",
       "  1498.08,1315.78 1498.76,1315.78 1499.43,1315.78 1500.1,1315.78 1500.78,1315.78 1501.45,1315.78 1502.12,1315.78 1502.8,1315.78 1503.47,1315.78 1504.15,1315.78 \n",
       "  1504.82,1315.78 1505.49,1315.78 1506.17,1315.78 1506.84,1315.78 1507.51,1315.78 1508.19,1315.78 1508.86,1315.78 1509.53,1315.78 1510.21,1315.78 1510.88,1315.78 \n",
       "  1511.55,1315.78 1512.23,1315.78 1512.9,1315.78 1513.57,1315.78 1514.25,1315.78 1514.92,1315.78 1515.59,1315.78 1516.27,1315.78 1516.94,1315.78 1517.62,1315.78 \n",
       "  1518.29,1315.78 1518.96,1315.78 1519.64,1315.78 1520.31,1315.78 1520.98,1315.78 1521.66,1315.78 1522.33,1315.78 1523,1315.78 1523.68,1315.78 1524.35,1315.78 \n",
       "  1525.02,1315.78 1525.7,1315.78 1526.37,1315.78 1527.04,1315.78 1527.72,1315.78 1528.39,1315.78 1529.06,1315.78 1529.74,1315.78 1530.41,1315.78 1531.09,1315.78 \n",
       "  1531.76,1315.78 1532.43,1315.78 1533.11,1315.78 1533.78,1315.78 1534.45,1315.78 1535.13,1315.78 1535.8,1315.78 1536.47,1315.78 1537.15,1315.78 1537.82,1315.78 \n",
       "  1538.49,1315.78 1539.17,1315.78 1539.84,1315.78 1540.51,1315.78 1541.19,1315.78 1541.86,1315.78 1542.53,1315.78 1543.21,1315.78 1543.88,1315.78 1544.56,1315.78 \n",
       "  1545.23,1315.78 1545.9,1315.78 1546.58,1315.78 1547.25,1315.78 1547.92,1315.78 1548.6,1315.78 1549.27,1315.78 1549.94,1315.78 1550.62,1315.78 1551.29,1315.78 \n",
       "  1551.96,1315.78 1552.64,1315.78 1553.31,1315.78 1553.98,1315.78 1554.66,1315.78 1555.33,1315.78 1556,1315.78 1556.68,1315.78 1557.35,1315.78 1558.03,1315.78 \n",
       "  1558.7,1315.78 1559.37,1315.78 1560.05,1315.78 1560.72,1315.78 1561.39,1315.78 1562.07,1315.78 1562.74,1315.78 1563.41,1315.78 1564.09,1315.78 1564.76,1315.78 \n",
       "  1565.43,1315.78 1566.11,1315.78 1566.78,1315.78 1567.45,1315.78 1568.13,1315.78 1568.8,1315.78 1569.47,1315.78 1570.15,1315.78 1570.82,1315.78 1571.5,1315.78 \n",
       "  1572.17,1315.78 1572.84,1315.78 1573.52,1315.78 1574.19,1315.78 1574.86,1315.78 1575.54,1315.78 1576.21,1315.78 1576.88,1315.78 1577.56,1315.78 1578.23,1315.78 \n",
       "  1578.9,1315.78 1579.58,1315.78 1580.25,1315.78 1580.92,1315.78 1581.6,1315.78 1582.27,1315.78 1582.94,1315.78 1583.62,1315.78 1584.29,1315.78 1584.97,1315.78 \n",
       "  1585.64,1315.78 1586.31,1315.78 1586.99,1315.78 1587.66,1315.78 1588.33,1315.78 1589.01,1315.78 1589.68,1315.78 1590.35,1315.78 1591.03,1315.78 1591.7,1315.78 \n",
       "  1592.37,1315.78 1593.05,1315.78 1593.72,1315.78 1594.39,1315.78 1595.07,1315.78 1595.74,1315.78 1596.41,1315.78 1597.09,1315.78 1597.76,1315.78 1598.44,1315.78 \n",
       "  1599.11,1315.78 1599.78,1315.78 1600.46,1315.78 1601.13,1315.78 1601.8,1315.78 1602.48,1315.78 1603.15,1315.78 1603.82,1315.78 1604.5,1315.78 1605.17,1315.78 \n",
       "  1605.84,1315.78 1606.52,1315.78 1607.19,1315.78 1607.86,1315.78 1608.54,1315.78 1609.21,1315.78 1609.88,1315.78 1610.56,1315.78 1611.23,1315.78 1611.91,1315.78 \n",
       "  1612.58,1315.78 1613.25,1315.78 1613.93,1315.78 1614.6,1315.78 1615.27,1315.78 1615.95,1315.78 1616.62,1315.78 1617.29,1315.78 1617.97,1315.78 1618.64,1315.78 \n",
       "  1619.31,1315.78 1619.99,1315.78 1620.66,1315.78 1621.33,1315.78 1622.01,1315.78 1622.68,1315.78 1623.35,1315.78 1624.03,1315.78 1624.7,1315.78 1625.38,1315.78 \n",
       "  1626.05,1315.78 1626.72,1315.78 1627.4,1315.78 1628.07,1315.78 1628.74,1315.78 1629.42,1315.78 1630.09,1315.78 1630.76,1315.78 1631.44,1315.78 1632.11,1315.78 \n",
       "  1632.78,1315.78 1633.46,1315.78 1634.13,1315.78 1634.8,1315.78 1635.48,1315.78 1636.15,1315.78 1636.82,1315.78 1637.5,1315.78 1638.17,1315.78 1638.85,1315.78 \n",
       "  1639.52,1315.78 1640.19,1315.78 1640.87,1315.78 1641.54,1315.78 1642.21,1315.78 1642.89,1315.78 1643.56,1315.78 1644.23,1315.78 1644.91,1315.78 1645.58,1315.78 \n",
       "  1646.25,1315.78 1646.93,1315.78 1647.6,1315.78 1648.27,1315.78 1648.95,1315.78 1649.62,1315.78 1650.29,1315.78 1650.97,1315.78 1651.64,1315.78 1652.32,1315.78 \n",
       "  1652.99,1315.78 1653.66,1315.78 1654.34,1315.78 1655.01,1315.78 1655.68,1315.78 1656.36,1315.78 1657.03,1315.78 1657.7,1315.78 1658.38,1315.78 1659.05,1315.78 \n",
       "  1659.72,1315.78 1660.4,1315.78 1661.07,1315.78 1661.74,1315.78 1662.42,1315.78 1663.09,1315.78 1663.76,1315.78 1664.44,1315.78 1665.11,1315.78 1665.79,1315.78 \n",
       "  1666.46,1315.78 1667.13,1315.78 1667.81,1315.78 1668.48,1315.78 1669.15,1315.78 1669.83,1315.78 1670.5,1315.78 1671.17,1315.78 1671.85,1315.78 1672.52,1315.78 \n",
       "  1673.19,1315.78 1673.87,1315.78 1674.54,1315.78 1675.21,1315.78 1675.89,1315.78 1676.56,1315.78 1677.23,1315.78 1677.91,1315.78 1678.58,1315.78 1679.26,1315.78 \n",
       "  1679.93,1315.78 1680.6,1315.78 1681.28,1315.78 1681.95,1315.78 1682.62,1315.78 1683.3,1315.78 1683.97,1315.78 1684.64,1315.78 1685.32,1315.78 1685.99,1315.78 \n",
       "  1686.66,1315.78 1687.34,1315.78 1688.01,1315.78 1688.68,1315.78 1689.36,1315.78 1690.03,1315.78 1690.7,1315.78 1691.38,1315.78 1692.05,1315.78 1692.73,1315.78 \n",
       "  1693.4,1315.78 1694.07,1315.78 1694.75,1315.78 1695.42,1315.78 1696.09,1315.78 1696.77,1315.78 1697.44,1315.78 1698.11,1315.78 1698.79,1315.78 1699.46,1315.78 \n",
       "  1700.13,1315.78 1700.81,1315.78 1701.48,1315.78 1702.15,1315.78 1702.83,1315.78 1703.5,1315.78 1704.17,1315.78 1704.85,1315.78 1705.52,1315.78 1706.2,1315.78 \n",
       "  1706.87,1315.78 1707.54,1315.78 1708.22,1315.78 1708.89,1315.78 1709.56,1315.78 1710.24,1315.78 1710.91,1315.78 1711.58,1315.78 1712.26,1315.78 1712.93,1315.78 \n",
       "  1713.6,1315.78 1714.28,1315.78 1714.95,1315.78 1715.62,1315.78 1716.3,1315.78 1716.97,1315.78 1717.64,1315.78 1718.32,1315.78 1718.99,1315.78 1719.67,1315.78 \n",
       "  1720.34,1315.78 1721.01,1315.78 1721.69,1315.78 1722.36,1315.78 1723.03,1315.78 1723.71,1315.78 1724.38,1315.78 1725.05,1315.78 1725.73,1315.78 1726.4,1315.78 \n",
       "  1727.07,1315.78 1727.75,1315.78 1728.42,1315.78 1729.09,1315.78 1729.77,1315.78 1730.44,1315.78 1731.11,1315.78 1731.79,1315.78 1732.46,1315.78 1733.14,1315.78 \n",
       "  1733.81,1315.78 1734.48,1315.78 1735.16,1315.78 1735.83,1315.78 1736.5,1315.78 1737.18,1315.78 1737.85,1315.78 1738.52,1315.78 1739.2,1315.78 1739.87,1315.78 \n",
       "  1740.54,1315.78 1741.22,1315.78 1741.89,1315.78 1742.56,1315.78 1743.24,1315.78 1743.91,1315.78 1744.58,1315.78 1745.26,1315.78 1745.93,1315.78 1746.61,1315.78 \n",
       "  1747.28,1315.78 1747.95,1315.78 1748.63,1315.78 1749.3,1315.78 1749.97,1315.78 1750.65,1315.78 1751.32,1315.78 1751.99,1315.78 1752.67,1315.78 1753.34,1315.78 \n",
       "  1754.01,1315.78 1754.69,1315.78 1755.36,1315.78 1756.03,1315.78 1756.71,1315.78 1757.38,1315.78 1758.05,1315.78 1758.73,1315.78 1759.4,1315.78 1760.08,1315.78 \n",
       "  1760.75,1315.78 1761.42,1315.78 1762.1,1315.78 1762.77,1315.78 1763.44,1315.78 1764.12,1315.78 1764.79,1315.78 1765.46,1315.78 1766.14,1315.78 1766.81,1315.78 \n",
       "  1767.48,1315.78 1768.16,1315.78 1768.83,1315.78 1769.5,1315.78 1770.18,1315.78 1770.85,1315.78 1771.52,1315.78 1772.2,1315.78 1772.87,1315.78 1773.55,1315.78 \n",
       "  1774.22,1315.78 1774.89,1315.78 1775.57,1315.78 1776.24,1315.78 1776.91,1315.78 1777.59,1315.78 1778.26,1315.78 1778.93,1315.78 1779.61,1315.78 1780.28,1315.78 \n",
       "  1780.95,1315.78 1781.63,1315.78 1782.3,1315.78 1782.97,1315.78 1783.65,1315.78 1784.32,1315.78 1784.99,1315.78 1785.67,1315.78 1786.34,1315.78 1787.02,1315.78 \n",
       "  1787.69,1315.78 1788.36,1315.78 1789.04,1315.78 1789.71,1315.78 1790.38,1315.78 1791.06,1315.78 1791.73,1315.78 1792.4,1315.78 1793.08,1315.78 1793.75,1315.78 \n",
       "  1794.42,1315.78 1795.1,1315.78 1795.77,1315.78 1796.44,1315.78 1797.12,1315.78 1797.79,1315.78 1798.46,1315.78 1799.14,1315.78 1799.81,1315.78 1800.49,1315.78 \n",
       "  1801.16,1315.78 1801.83,1315.78 1802.51,1315.78 1803.18,1315.78 1803.85,1315.78 1804.53,1315.78 1805.2,1315.78 1805.87,1315.78 1806.55,1315.78 1807.22,1315.78 \n",
       "  1807.89,1315.78 1808.57,1315.78 1809.24,1315.78 1809.91,1315.78 1810.59,1315.78 1811.26,1315.78 1811.93,1315.78 1812.61,1315.78 1813.28,1315.78 1813.96,1315.78 \n",
       "  1814.63,1315.78 1815.3,1315.78 1815.98,1315.78 1816.65,1315.78 1817.32,1315.78 1818,1315.78 1818.67,1315.78 1819.34,1315.78 1820.02,1315.78 1820.69,1315.78 \n",
       "  1821.36,1315.78 1822.04,1315.78 1822.71,1315.78 1823.38,1315.78 1824.06,1315.78 1824.73,1315.78 1825.4,1315.78 1826.08,1315.78 1826.75,1315.78 1827.43,1315.78 \n",
       "  1828.1,1315.78 1828.77,1315.78 1829.45,1315.78 1830.12,1315.78 1830.79,1315.78 1831.47,1315.78 1832.14,1315.78 1832.81,1315.78 1833.49,1315.78 1834.16,1315.78 \n",
       "  1834.83,1315.78 1835.51,1315.78 1836.18,1315.78 1836.85,1315.78 1837.53,1315.78 1838.2,1315.78 1838.87,1315.78 1839.55,1315.78 1840.22,1315.78 1840.9,1315.78 \n",
       "  1841.57,1315.78 1842.24,1315.78 1842.92,1315.78 1843.59,1315.78 1844.26,1315.78 1844.94,1315.78 1845.61,1315.78 1846.28,1315.78 1846.96,1315.78 1847.63,1315.78 \n",
       "  1848.3,1315.78 1848.98,1315.78 1849.65,1315.78 1850.32,1315.78 1851,1315.78 1851.67,1315.78 1852.34,1315.78 1853.02,1315.78 1853.69,1315.78 1854.37,1315.78 \n",
       "  1855.04,1315.78 1855.71,1315.78 1856.39,1315.78 1857.06,1315.78 1857.73,1315.78 1858.41,1315.78 1859.08,1315.78 1859.75,1315.78 1860.43,1315.78 1861.1,1315.78 \n",
       "  1861.77,1315.78 1862.45,1315.78 1863.12,1315.78 1863.79,1315.78 1864.47,1315.78 1865.14,1315.78 1865.81,1315.78 1866.49,1315.78 1867.16,1315.78 1867.84,1315.78 \n",
       "  1868.51,1315.78 1869.18,1315.78 1869.86,1315.78 1870.53,1315.78 1871.2,1315.78 1871.88,1315.78 1872.55,1315.78 1873.22,1315.78 1873.9,1315.78 1874.57,1315.78 \n",
       "  1875.24,1315.78 1875.92,1315.78 1876.59,1315.78 1877.26,1315.78 1877.94,1315.78 1878.61,1315.78 1879.28,1315.78 1879.96,1315.78 1880.63,1315.78 1881.31,1315.78 \n",
       "  1881.98,1315.78 1882.65,1315.78 1883.33,1315.78 1884,1315.78 1884.67,1315.78 1885.35,1315.78 1886.02,1315.78 1886.69,1315.78 1887.37,1315.78 1888.04,1315.78 \n",
       "  1888.71,1315.78 1889.39,1315.78 1890.06,1315.78 1890.73,1315.78 1891.41,1315.78 1892.08,1315.78 1892.75,1315.78 1893.43,1315.78 1894.1,1315.78 1894.78,1315.78 \n",
       "  1895.45,1315.78 1896.12,1315.78 1896.8,1315.78 1897.47,1315.78 1898.14,1315.78 1898.82,1315.78 1899.49,1315.78 1900.16,1315.78 1900.84,1315.78 1901.51,1315.78 \n",
       "  1902.18,1315.78 1902.86,1315.78 1903.53,1315.78 1904.2,1315.78 1904.88,1315.78 1905.55,1315.78 1906.22,1315.78 1906.9,1315.78 1907.57,1315.78 1908.25,1315.78 \n",
       "  1908.92,1315.78 1909.59,1315.78 1910.27,1315.78 1910.94,1315.78 1911.61,1315.78 1912.29,1315.78 1912.96,1315.78 1913.63,1315.78 1914.31,1315.78 1914.98,1315.78 \n",
       "  1915.65,1315.78 1916.33,1315.78 1917,1315.78 1917.67,1315.78 1918.35,1315.78 1919.02,1315.78 1919.69,1315.78 1920.37,1315.78 1921.04,1315.78 1921.72,1315.78 \n",
       "  1922.39,1315.78 1923.06,1315.78 1923.74,1315.78 1924.41,1315.78 1925.08,1315.78 1925.76,1315.78 1926.43,1315.78 1927.1,1315.78 1927.78,1315.78 1928.45,1315.78 \n",
       "  1929.12,1315.78 1929.8,1315.78 1930.47,1315.78 1931.14,1315.78 1931.82,1315.78 1932.49,1315.78 1933.16,1315.78 1933.84,1315.78 1934.51,1315.78 1935.19,1315.78 \n",
       "  1935.86,1315.78 1936.53,1315.78 1937.21,1315.78 1937.88,1315.78 1938.55,1315.78 1939.23,1315.78 1939.9,1315.78 1940.57,1315.78 1941.25,1315.78 1941.92,1315.78 \n",
       "  1942.59,1315.78 1943.27,1315.78 1943.94,1315.78 1944.61,1315.78 1945.29,1315.78 1945.96,1315.78 1946.63,1315.78 1947.31,1315.78 1947.98,1315.78 1948.66,1315.78 \n",
       "  1949.33,1315.78 1950,1315.78 1950.68,1315.78 1951.35,1315.78 1952.02,1315.78 1952.7,1315.78 1953.37,1315.78 1954.04,1315.78 1954.72,1315.78 1955.39,1315.78 \n",
       "  1956.06,1315.78 1956.74,1315.78 1957.41,1315.78 1958.08,1315.78 1958.76,1315.78 1959.43,1315.78 1960.11,1315.78 1960.78,1315.78 1961.45,1315.78 1962.13,1315.78 \n",
       "  1962.8,1315.78 1963.47,1315.78 1964.15,1315.78 1964.82,1315.78 1965.49,1315.78 1966.17,1315.78 1966.84,1315.78 1967.51,1315.78 1968.19,1315.78 1968.86,1315.78 \n",
       "  1969.53,1315.78 1970.21,1315.78 1970.88,1315.78 1971.55,1315.78 1972.23,1315.78 1972.9,1315.78 1973.58,1315.78 1974.25,1315.78 1974.92,1315.78 1975.6,1315.78 \n",
       "  1976.27,1315.78 1976.94,1315.78 1977.62,1315.78 1978.29,1315.78 1978.96,1315.78 1979.64,1315.78 1980.31,1315.78 1980.98,1315.78 1981.66,1315.78 1982.33,1315.78 \n",
       "  1983,1315.78 1983.68,1315.78 1984.35,1315.78 1985.02,1315.78 1985.7,1315.78 1986.37,1315.78 1987.05,1315.78 1987.72,1315.78 1988.39,1315.78 1989.07,1315.78 \n",
       "  1989.74,1315.78 1990.41,1315.78 1991.09,1315.78 1991.76,1315.78 1992.43,1315.78 1993.11,1315.78 1993.78,1315.78 1994.45,1315.78 1995.13,1315.78 1995.8,1315.78 \n",
       "  1996.47,1315.78 1997.15,1315.78 1997.82,1315.78 1998.49,1315.78 1999.17,1315.78 1999.84,1315.78 2000.52,1315.78 2001.19,1315.78 2001.86,1315.78 2002.54,1315.78 \n",
       "  2003.21,1315.78 2003.88,1315.78 2004.56,1315.78 2005.23,1315.78 2005.9,1315.78 2006.58,1315.78 2007.25,1315.78 2007.92,1315.78 2008.6,1315.78 2009.27,1315.78 \n",
       "  2009.94,1315.78 2010.62,1315.78 2011.29,1315.78 2011.96,1315.78 2012.64,1315.78 2013.31,1315.78 2013.99,1315.78 2014.66,1315.78 2015.33,1315.78 2016.01,1315.78 \n",
       "  2016.68,1315.78 2017.35,1315.78 2018.03,1315.78 2018.7,1315.78 2019.37,1315.78 2020.05,1315.78 2020.72,1315.78 2021.39,1315.78 2022.07,1315.78 2022.74,1315.78 \n",
       "  2023.41,1315.78 2024.09,1315.78 2024.76,1315.78 2025.43,1315.78 2026.11,1315.78 2026.78,1315.78 2027.46,1315.78 2028.13,1315.78 2028.8,1315.78 2029.48,1315.78 \n",
       "  2030.15,1315.78 2030.82,1315.78 2031.5,1315.78 2032.17,1315.78 2032.84,1315.78 2033.52,1315.78 2034.19,1315.78 2034.86,1315.78 2035.54,1315.78 2036.21,1315.78 \n",
       "  2036.88,1315.78 2037.56,1315.78 2038.23,1315.78 2038.9,1315.78 2039.58,1315.78 2040.25,1315.78 2040.93,1315.78 2041.6,1315.78 2042.27,1315.78 2042.95,1315.78 \n",
       "  2043.62,1315.78 2044.29,1315.78 2044.97,1315.78 2045.64,1315.78 2046.31,1315.78 2046.99,1315.78 2047.66,1315.78 2048.33,1315.78 2049.01,1315.78 2049.68,1315.78 \n",
       "  2050.35,1315.78 2051.03,1315.78 2051.7,1315.78 2052.37,1315.78 2053.05,1315.78 2053.72,1315.78 2054.4,1315.78 2055.07,1315.78 2055.74,1315.78 2056.42,1315.78 \n",
       "  2057.09,1315.78 2057.76,1315.78 2058.44,1315.78 2059.11,1315.78 2059.78,1315.78 2060.46,1315.78 2061.13,1315.78 2061.8,1315.78 2062.48,1315.78 2063.15,1315.78 \n",
       "  2063.82,1315.78 2064.5,1315.78 2065.17,1315.78 2065.84,1315.78 2066.52,1315.78 2067.19,1315.78 2067.87,1315.78 2068.54,1315.78 2069.21,1315.78 2069.89,1315.78 \n",
       "  2070.56,1315.78 2071.23,1315.78 2071.91,1315.78 2072.58,1315.78 2073.25,1315.78 2073.93,1315.78 2074.6,1315.78 2075.27,1315.78 2075.95,1315.78 2076.62,1315.78 \n",
       "  2077.29,1315.78 2077.97,1315.78 2078.64,1315.78 2079.31,1315.78 2079.99,1315.78 2080.66,1315.78 2081.34,1315.78 2082.01,1315.78 2082.68,1315.78 2083.36,1315.78 \n",
       "  2084.03,1315.78 2084.7,1315.78 2085.38,1315.78 2086.05,1315.78 2086.72,1315.78 2087.4,1315.78 2088.07,1315.78 2088.74,1315.78 2089.42,1315.78 2090.09,1315.78 \n",
       "  2090.76,1315.78 2091.44,1315.78 2092.11,1315.78 2092.78,1315.78 2093.46,1315.78 2094.13,1315.78 2094.81,1315.78 2095.48,1315.78 2096.15,1315.78 2096.83,1315.78 \n",
       "  2097.5,1315.78 2098.17,1315.78 2098.85,1315.78 2099.52,1315.78 2100.19,1315.78 2100.87,1315.78 2101.54,1315.78 2102.21,1315.78 2102.89,1315.78 2103.56,1315.78 \n",
       "  2104.23,1315.78 2104.91,1315.78 2105.58,1315.78 2106.25,1315.78 2106.93,1315.78 2107.6,1315.78 2108.28,1315.78 2108.95,1315.78 2109.62,1315.78 2110.3,1315.78 \n",
       "  2110.97,1315.78 2111.64,1315.78 2112.32,1315.78 2112.99,1315.78 2113.66,1315.78 2114.34,1315.78 2115.01,1315.78 2115.68,1315.78 2116.36,1315.78 2117.03,1315.78 \n",
       "  2117.7,1315.78 2118.38,1315.78 2119.05,1315.78 2119.72,1315.78 2120.4,1315.78 2121.07,1315.78 2121.75,1315.78 2122.42,1315.78 2123.09,1315.78 2123.77,1315.78 \n",
       "  2124.44,1315.78 2125.11,1315.78 2125.79,1315.78 2126.46,1315.78 2127.13,1315.78 2127.81,1315.78 2128.48,1315.78 2129.15,1315.78 2129.83,1315.78 2130.5,1315.78 \n",
       "  2131.17,1315.78 2131.85,1315.78 2132.52,1315.78 2133.19,1315.78 2133.87,1315.78 2134.54,1315.78 2135.22,1315.78 2135.89,1315.78 2136.56,1315.78 2137.24,1315.78 \n",
       "  2137.91,1315.78 2138.58,1315.78 2139.26,1315.78 2139.93,1315.78 2140.6,1315.78 2141.28,1315.78 2141.95,1315.78 2142.62,1315.78 2143.3,1315.78 2143.97,1315.78 \n",
       "  2144.64,1315.78 2145.32,1315.78 2145.99,1315.78 2146.66,1315.78 2147.34,1315.78 2148.01,1315.78 2148.69,1315.78 2149.36,1315.78 2150.03,1315.78 2150.71,1315.78 \n",
       "  2151.38,1315.78 2152.05,1315.78 2152.73,1315.78 2153.4,1315.78 2154.07,1315.78 2154.75,1315.78 2155.42,1315.78 2156.09,1315.78 2156.77,1315.78 2157.44,1315.78 \n",
       "  2158.11,1315.78 2158.79,1315.78 2159.46,1315.78 2160.13,1315.78 2160.81,1315.78 2161.48,1315.78 2162.16,1315.78 2162.83,1315.78 2163.5,1315.78 2164.18,1315.78 \n",
       "  2164.85,1315.78 2165.52,1315.78 2166.2,1315.78 2166.87,1315.78 2167.54,1315.78 2168.22,1315.78 2168.89,1315.78 2169.56,1315.78 2170.24,1315.78 2170.91,1315.78 \n",
       "  2171.58,1315.78 2172.26,1315.78 2172.93,1315.78 2173.6,1315.78 2174.28,1315.78 2174.95,1315.78 2175.63,1315.78 2176.3,1315.78 2176.97,1315.78 2177.65,1315.78 \n",
       "  2178.32,1315.78 2178.99,1315.78 2179.67,1315.78 2180.34,1315.78 2181.01,1315.78 2181.69,1315.78 2182.36,1315.78 2183.03,1315.78 2183.71,1315.78 2184.38,1315.78 \n",
       "  2185.05,1315.78 2185.73,1315.78 2186.4,1315.78 2187.07,1315.78 2187.75,1315.78 2188.42,1315.78 2189.1,1315.78 2189.77,1315.78 2190.44,1315.78 2191.12,1315.78 \n",
       "  2191.79,1315.78 2192.46,1315.78 2193.14,1315.78 2193.81,1315.78 2194.48,1315.78 2195.16,1315.78 2195.83,1315.78 2196.5,1315.78 2197.18,1315.78 2197.85,1315.78 \n",
       "  2198.52,1315.78 2199.2,1315.78 2199.87,1315.78 2200.54,1315.78 2201.22,1315.78 2201.89,1315.78 2202.57,1315.78 2203.24,1315.78 2203.91,1315.78 2204.59,1315.78 \n",
       "  2205.26,1315.78 2205.93,1315.78 2206.61,1315.78 2207.28,1315.78 2207.95,1315.78 2208.63,1315.78 2209.3,1315.78 2209.97,1315.78 2210.65,1315.78 2211.32,1315.78 \n",
       "  2211.99,1315.78 2212.67,1315.78 2213.34,1315.78 2214.01,1315.78 2214.69,1315.78 2215.36,1315.78 2216.04,1315.78 2216.71,1315.78 2217.38,1315.78 2218.06,1315.78 \n",
       "  2218.73,1315.78 2219.4,1315.78 2220.08,1315.78 2220.75,1315.78 2221.42,1315.78 2222.1,1315.78 2222.77,1315.78 2223.44,1315.78 2224.12,1315.78 2224.79,1315.78 \n",
       "  2225.46,1315.78 2226.14,1315.78 2226.81,1315.78 2227.48,1315.78 2228.16,1315.78 2228.83,1315.78 2229.51,1315.78 2230.18,1315.78 2230.85,1315.78 2231.53,1315.78 \n",
       "  2232.2,1315.78 2232.87,1315.78 2233.55,1315.78 2234.22,1315.78 2234.89,1315.78 2235.57,1315.78 2236.24,1315.78 2236.91,1315.78 2237.59,1315.78 2238.26,1315.78 \n",
       "  2238.93,1315.78 2239.61,1315.78 2240.28,1315.78 2240.95,1315.78 2241.63,1315.78 2242.3,1315.78 2242.98,1315.78 2243.65,1315.78 2244.32,1315.78 2245,1315.78 \n",
       "  2245.67,1315.78 2246.34,1315.78 2247.02,1315.78 2247.69,1315.78 2248.36,1315.78 2249.04,1315.78 2249.71,1315.78 2250.38,1315.78 2251.06,1315.78 2251.73,1315.78 \n",
       "  2252.4,1315.78 2253.08,1315.78 2253.75,1315.78 2254.42,1315.78 2255.1,1315.78 2255.77,1315.78 2256.45,1315.78 2257.12,1315.78 2257.79,1315.78 2258.47,1315.78 \n",
       "  2259.14,1315.78 2259.81,1315.78 2260.49,1315.78 2261.16,1315.78 2261.83,1315.78 2262.51,1315.78 2263.18,1315.78 2263.85,1315.78 2264.53,1315.78 2265.2,1315.78 \n",
       "  2265.87,1315.78 2266.55,1315.78 2267.22,1315.78 2267.89,1315.78 2268.57,1315.78 2269.24,1315.78 2269.92,1315.78 2270.59,1315.78 2271.26,1315.78 2271.94,1315.78 \n",
       "  2272.61,1315.78 2273.28,1315.78 2273.96,1315.78 2274.63,1315.78 2275.3,1315.78 2275.98,1315.78 2276.65,1315.78 2277.32,1315.78 2278,1315.78 2278.67,1315.78 \n",
       "  2279.34,1315.78 2280.02,1315.78 2280.69,1315.78 2281.36,1315.78 2282.04,1315.78 2282.71,1315.78 2283.39,1315.78 2284.06,1315.78 2284.73,1315.78 2285.41,1315.78 \n",
       "  2286.08,1315.78 2286.75,1315.78 2287.43,1315.78 2288.1,1315.78 2288.77,1315.78 2289.45,1315.78 2290.12,1315.78 2290.79,1315.78 2291.47,1315.78 2292.14,1315.78 \n",
       "  \n",
       "  \"/>\n",
       "<path clip-path=\"url(#clip900)\" d=\"\n",
       "M1844.07 274.549 L2281.36 274.549 L2281.36 93.1086 L1844.07 93.1086  Z\n",
       "  \" fill=\"#ffffff\" fill-rule=\"evenodd\" fill-opacity=\"1\"/>\n",
       "<polyline clip-path=\"url(#clip900)\" style=\"stroke:#000000; stroke-width:4; stroke-opacity:1; fill:none\" points=\"\n",
       "  1844.07,274.549 2281.36,274.549 2281.36,93.1086 1844.07,93.1086 1844.07,274.549 \n",
       "  \"/>\n",
       "<polyline clip-path=\"url(#clip900)\" style=\"stroke:#009af9; stroke-width:4; stroke-opacity:1; fill:none\" points=\"\n",
       "  1867.86,153.589 2010.65,153.589 \n",
       "  \"/>\n",
       "<path clip-path=\"url(#clip900)\" d=\"M 0 0 M2047.64 170.869 L2034.44 136.309 L2039.33 136.309 L2050.28 165.406 L2061.25 136.309 L2066.11 136.309 L2052.94 170.869 L2047.64 170.869 Z\" fill=\"#000000\" fill-rule=\"evenodd\" fill-opacity=\"1\" /><path clip-path=\"url(#clip900)\" d=\"M 0 0 M2078.68 157.836 Q2073.52 157.836 2071.53 159.017 Q2069.54 160.197 2069.54 163.045 Q2069.54 165.313 2071.02 166.656 Q2072.52 167.975 2075.09 167.975 Q2078.63 167.975 2080.76 165.475 Q2082.92 162.952 2082.92 158.785 L2082.92 157.836 L2078.68 157.836 M2087.17 156.077 L2087.17 170.869 L2082.92 170.869 L2082.92 166.933 Q2081.46 169.295 2079.28 170.429 Q2077.1 171.54 2073.96 171.54 Q2069.98 171.54 2067.61 169.318 Q2065.28 167.072 2065.28 163.322 Q2065.28 158.947 2068.19 156.725 Q2071.13 154.503 2076.94 154.503 L2082.92 154.503 L2082.92 154.086 Q2082.92 151.147 2080.97 149.549 Q2079.05 147.929 2075.55 147.929 Q2073.33 147.929 2071.23 148.461 Q2069.12 148.994 2067.17 150.059 L2067.17 146.123 Q2069.51 145.221 2071.71 144.781 Q2073.91 144.318 2075.99 144.318 Q2081.62 144.318 2084.4 147.234 Q2087.17 150.151 2087.17 156.077 Z\" fill=\"#000000\" fill-rule=\"evenodd\" fill-opacity=\"1\" /><path clip-path=\"url(#clip900)\" d=\"M 0 0 M2091.64 134.85 L2095.9 134.85 L2095.9 170.869 L2091.64 170.869 L2091.64 134.85 Z\" fill=\"#000000\" fill-rule=\"evenodd\" fill-opacity=\"1\" /><path clip-path=\"url(#clip900)\" d=\"M 0 0 M2100.37 144.943 L2104.63 144.943 L2104.63 170.869 L2100.37 170.869 L2100.37 144.943 M2100.37 134.85 L2104.63 134.85 L2104.63 140.244 L2100.37 140.244 L2100.37 134.85 Z\" fill=\"#000000\" fill-rule=\"evenodd\" fill-opacity=\"1\" /><path clip-path=\"url(#clip900)\" d=\"M 0 0 M2126.16 148.878 L2126.16 134.85 L2130.41 134.85 L2130.41 170.869 L2126.16 170.869 L2126.16 166.98 Q2124.81 169.295 2122.75 170.429 Q2120.72 171.54 2117.85 171.54 Q2113.15 171.54 2110.18 167.79 Q2107.24 164.04 2107.24 157.929 Q2107.24 151.818 2110.18 148.068 Q2113.15 144.318 2117.85 144.318 Q2120.72 144.318 2122.75 145.452 Q2124.81 146.563 2126.16 148.878 M2111.64 157.929 Q2111.64 162.628 2113.56 165.313 Q2115.51 167.975 2118.89 167.975 Q2122.27 167.975 2124.21 165.313 Q2126.16 162.628 2126.16 157.929 Q2126.16 153.23 2124.21 150.568 Q2122.27 147.883 2118.89 147.883 Q2115.51 147.883 2113.56 150.568 Q2111.64 153.23 2111.64 157.929 Z\" fill=\"#000000\" fill-rule=\"evenodd\" fill-opacity=\"1\" /><path clip-path=\"url(#clip900)\" d=\"M 0 0 M2146.66 157.836 Q2141.5 157.836 2139.51 159.017 Q2137.52 160.197 2137.52 163.045 Q2137.52 165.313 2139 166.656 Q2140.51 167.975 2143.08 167.975 Q2146.62 167.975 2148.75 165.475 Q2150.9 162.952 2150.9 158.785 L2150.9 157.836 L2146.66 157.836 M2155.16 156.077 L2155.16 170.869 L2150.9 170.869 L2150.9 166.933 Q2149.44 169.295 2147.27 170.429 Q2145.09 171.54 2141.94 171.54 Q2137.96 171.54 2135.6 169.318 Q2133.26 167.072 2133.26 163.322 Q2133.26 158.947 2136.18 156.725 Q2139.12 154.503 2144.93 154.503 L2150.9 154.503 L2150.9 154.086 Q2150.9 151.147 2148.96 149.549 Q2147.04 147.929 2143.54 147.929 Q2141.32 147.929 2139.21 148.461 Q2137.1 148.994 2135.16 150.059 L2135.16 146.123 Q2137.5 145.221 2139.7 144.781 Q2141.9 144.318 2143.98 144.318 Q2149.6 144.318 2152.38 147.234 Q2155.16 150.151 2155.16 156.077 Z\" fill=\"#000000\" fill-rule=\"evenodd\" fill-opacity=\"1\" /><path clip-path=\"url(#clip900)\" d=\"M 0 0 M2163.84 137.582 L2163.84 144.943 L2172.61 144.943 L2172.61 148.253 L2163.84 148.253 L2163.84 162.327 Q2163.84 165.498 2164.7 166.401 Q2165.58 167.304 2168.24 167.304 L2172.61 167.304 L2172.61 170.869 L2168.24 170.869 Q2163.31 170.869 2161.43 169.04 Q2159.56 167.188 2159.56 162.327 L2159.56 148.253 L2156.43 148.253 L2156.43 144.943 L2159.56 144.943 L2159.56 137.582 L2163.84 137.582 Z\" fill=\"#000000\" fill-rule=\"evenodd\" fill-opacity=\"1\" /><path clip-path=\"url(#clip900)\" d=\"M 0 0 M2177.08 144.943 L2181.34 144.943 L2181.34 170.869 L2177.08 170.869 L2177.08 144.943 M2177.08 134.85 L2181.34 134.85 L2181.34 140.244 L2177.08 140.244 L2177.08 134.85 Z\" fill=\"#000000\" fill-rule=\"evenodd\" fill-opacity=\"1\" /><path clip-path=\"url(#clip900)\" d=\"M 0 0 M2195.85 147.929 Q2192.43 147.929 2190.44 150.614 Q2188.45 153.276 2188.45 157.929 Q2188.45 162.582 2190.41 165.267 Q2192.41 167.929 2195.85 167.929 Q2199.26 167.929 2201.25 165.244 Q2203.24 162.558 2203.24 157.929 Q2203.24 153.322 2201.25 150.637 Q2199.26 147.929 2195.85 147.929 M2195.85 144.318 Q2201.41 144.318 2204.58 147.929 Q2207.75 151.54 2207.75 157.929 Q2207.75 164.295 2204.58 167.929 Q2201.41 171.54 2195.85 171.54 Q2190.28 171.54 2187.1 167.929 Q2183.96 164.295 2183.96 157.929 Q2183.96 151.54 2187.1 147.929 Q2190.28 144.318 2195.85 144.318 Z\" fill=\"#000000\" fill-rule=\"evenodd\" fill-opacity=\"1\" /><path clip-path=\"url(#clip900)\" d=\"M 0 0 M2233.77 155.221 L2233.77 170.869 L2229.51 170.869 L2229.51 155.359 Q2229.51 151.679 2228.08 149.85 Q2226.64 148.022 2223.77 148.022 Q2220.32 148.022 2218.33 150.221 Q2216.34 152.42 2216.34 156.216 L2216.34 170.869 L2212.06 170.869 L2212.06 144.943 L2216.34 144.943 L2216.34 148.971 Q2217.87 146.633 2219.93 145.475 Q2222.01 144.318 2224.72 144.318 Q2229.19 144.318 2231.48 147.096 Q2233.77 149.85 2233.77 155.221 Z\" fill=\"#000000\" fill-rule=\"evenodd\" fill-opacity=\"1\" /><polyline clip-path=\"url(#clip900)\" style=\"stroke:#e26f46; stroke-width:4; stroke-opacity:1; fill:none\" points=\"\n",
       "  1867.86,214.069 2010.65,214.069 \n",
       "  \"/>\n",
       "<path clip-path=\"url(#clip900)\" d=\"M 0 0 M2034.44 196.789 L2063.68 196.789 L2063.68 200.724 L2051.41 200.724 L2051.41 231.349 L2046.71 231.349 L2046.71 200.724 L2034.44 200.724 L2034.44 196.789 Z\" fill=\"#000000\" fill-rule=\"evenodd\" fill-opacity=\"1\" /><path clip-path=\"url(#clip900)\" d=\"M 0 0 M2076.2 209.404 Q2075.48 208.988 2074.63 208.802 Q2073.79 208.594 2072.78 208.594 Q2069.17 208.594 2067.22 210.955 Q2065.3 213.293 2065.3 217.691 L2065.3 231.349 L2061.02 231.349 L2061.02 205.423 L2065.3 205.423 L2065.3 209.451 Q2066.64 207.089 2068.79 205.955 Q2070.95 204.798 2074.03 204.798 Q2074.47 204.798 2075 204.867 Q2075.53 204.914 2076.18 205.029 L2076.2 209.404 Z\" fill=\"#000000\" fill-rule=\"evenodd\" fill-opacity=\"1\" /><path clip-path=\"url(#clip900)\" d=\"M 0 0 M2092.45 218.316 Q2087.29 218.316 2085.3 219.497 Q2083.31 220.677 2083.31 223.525 Q2083.31 225.793 2084.79 227.136 Q2086.29 228.455 2088.86 228.455 Q2092.41 228.455 2094.54 225.955 Q2096.69 223.432 2096.69 219.265 L2096.69 218.316 L2092.45 218.316 M2100.95 216.557 L2100.95 231.349 L2096.69 231.349 L2096.69 227.413 Q2095.23 229.775 2093.05 230.909 Q2090.88 232.02 2087.73 232.02 Q2083.75 232.02 2081.39 229.798 Q2079.05 227.552 2079.05 223.802 Q2079.05 219.427 2081.97 217.205 Q2084.91 214.983 2090.72 214.983 L2096.69 214.983 L2096.69 214.566 Q2096.69 211.627 2094.74 210.029 Q2092.82 208.409 2089.33 208.409 Q2087.1 208.409 2085 208.941 Q2082.89 209.474 2080.95 210.539 L2080.95 206.603 Q2083.29 205.701 2085.48 205.261 Q2087.68 204.798 2089.77 204.798 Q2095.39 204.798 2098.17 207.714 Q2100.95 210.631 2100.95 216.557 Z\" fill=\"#000000\" fill-rule=\"evenodd\" fill-opacity=\"1\" /><path clip-path=\"url(#clip900)\" d=\"M 0 0 M2105.41 205.423 L2109.67 205.423 L2109.67 231.349 L2105.41 231.349 L2105.41 205.423 M2105.41 195.33 L2109.67 195.33 L2109.67 200.724 L2105.41 200.724 L2105.41 195.33 Z\" fill=\"#000000\" fill-rule=\"evenodd\" fill-opacity=\"1\" /><path clip-path=\"url(#clip900)\" d=\"M 0 0 M2135.69 215.701 L2135.69 231.349 L2131.43 231.349 L2131.43 215.839 Q2131.43 212.159 2130 210.33 Q2128.56 208.502 2125.69 208.502 Q2122.24 208.502 2120.25 210.701 Q2118.26 212.9 2118.26 216.696 L2118.26 231.349 L2113.98 231.349 L2113.98 205.423 L2118.26 205.423 L2118.26 209.451 Q2119.79 207.113 2121.85 205.955 Q2123.93 204.798 2126.64 204.798 Q2131.11 204.798 2133.4 207.576 Q2135.69 210.33 2135.69 215.701 Z\" fill=\"#000000\" fill-rule=\"evenodd\" fill-opacity=\"1\" /><path clip-path=\"url(#clip900)\" d=\"M 0 0 M2140.16 205.423 L2144.42 205.423 L2144.42 231.349 L2140.16 231.349 L2140.16 205.423 M2140.16 195.33 L2144.42 195.33 L2144.42 200.724 L2140.16 200.724 L2140.16 195.33 Z\" fill=\"#000000\" fill-rule=\"evenodd\" fill-opacity=\"1\" /><path clip-path=\"url(#clip900)\" d=\"M 0 0 M2170.44 215.701 L2170.44 231.349 L2166.18 231.349 L2166.18 215.839 Q2166.18 212.159 2164.74 210.33 Q2163.31 208.502 2160.44 208.502 Q2156.99 208.502 2155 210.701 Q2153.01 212.9 2153.01 216.696 L2153.01 231.349 L2148.72 231.349 L2148.72 205.423 L2153.01 205.423 L2153.01 209.451 Q2154.54 207.113 2156.6 205.955 Q2158.68 204.798 2161.39 204.798 Q2165.85 204.798 2168.15 207.576 Q2170.44 210.33 2170.44 215.701 Z\" fill=\"#000000\" fill-rule=\"evenodd\" fill-opacity=\"1\" /><path clip-path=\"url(#clip900)\" d=\"M 0 0 M2191.97 218.085 Q2191.97 213.455 2190.04 210.909 Q2188.15 208.363 2184.7 208.363 Q2181.27 208.363 2179.35 210.909 Q2177.45 213.455 2177.45 218.085 Q2177.45 222.691 2179.35 225.238 Q2181.27 227.784 2184.7 227.784 Q2188.15 227.784 2190.04 225.238 Q2191.97 222.691 2191.97 218.085 M2196.22 228.131 Q2196.22 234.751 2193.28 237.969 Q2190.35 241.21 2184.28 241.21 Q2182.03 241.21 2180.04 240.862 Q2178.05 240.538 2176.18 239.844 L2176.18 235.7 Q2178.05 236.719 2179.88 237.205 Q2181.71 237.691 2183.61 237.691 Q2187.8 237.691 2189.88 235.492 Q2191.97 233.316 2191.97 228.895 L2191.97 226.788 Q2190.65 229.08 2188.59 230.214 Q2186.53 231.349 2183.66 231.349 Q2178.89 231.349 2175.97 227.714 Q2173.05 224.08 2173.05 218.085 Q2173.05 212.066 2175.97 208.432 Q2178.89 204.798 2183.66 204.798 Q2186.53 204.798 2188.59 205.932 Q2190.65 207.066 2191.97 209.358 L2191.97 205.423 L2196.22 205.423 L2196.22 228.131 Z\" fill=\"#000000\" fill-rule=\"evenodd\" fill-opacity=\"1\" /></svg>\n"
      ]
     },
     "execution_count": 285,
     "metadata": {},
     "output_type": "execute_result"
    }
   ],
   "source": [
    "plot(curve.parameter_values,\n",
    "     curve.measurements,\n",
    "     xlab=curve.parameter_name,\n",
    "     ylab=\"Cross Entropy\",\n",
    "     label=\"Validation\", lw=2)\n",
    "plot!(Net.report.training_losses, label=\"Training\", lw=2)"
   ]
  },
  {
   "cell_type": "code",
   "execution_count": 286,
   "metadata": {},
   "outputs": [
    {
     "data": {
      "text/plain": [
       "(0.00033, 0.62092, 2015)"
      ]
     },
     "execution_count": 286,
     "metadata": {},
     "output_type": "execute_result"
    }
   ],
   "source": [
    "a = round(nn.optimiser.eta, digits=5)\n",
    "b = round(minimum(curve.measurements), digits=5)\n",
    "best_epochs = curve.parameter_values[argmin(curve.measurements)]\n",
    "a,b, best_epochs"
   ]
  },
  {
   "cell_type": "code",
   "execution_count": 287,
   "metadata": {},
   "outputs": [],
   "source": [
    "fn = \"Figures/LearningCurve_NN_hidden:$(layer1)x$(layer2)_epochs:$(nn.epochs)_lr:$(a)_loss:$(b)_labmda:$(nn.lambda)\"\n",
    "png(replace(fn,'.' => ','))"
   ]
  },
  {
   "cell_type": "markdown",
   "metadata": {},
   "source": [
    "### GridSearch for Hidden Layer Size 1"
   ]
  },
  {
   "cell_type": "code",
   "execution_count": 288,
   "metadata": {},
   "outputs": [
    {
     "data": {
      "text/plain": [
       "\u001b[34mMachine{NeuralNetworkClassifier{CustomNN,…}} @310\u001b[39m trained 0 times.\n",
       "  args: \n",
       "    1:\t\u001b[34mSource @671\u001b[39m ⏎ `Table{AbstractArray{Continuous,1}}`\n",
       "    2:\t\u001b[34mSource @462\u001b[39m ⏎ `AbstractArray{Multiclass{3},1}`\n"
      ]
     },
     "execution_count": 288,
     "metadata": {},
     "output_type": "execute_result"
    }
   ],
   "source": [
    "Net = machine(nn, X_stand, y)"
   ]
  },
  {
   "cell_type": "code",
   "execution_count": 289,
   "metadata": {},
   "outputs": [
    {
     "data": {
      "text/plain": [
       "MLJBase.NumericRange(Int64, :(builder.n1), ... )"
      ]
     },
     "execution_count": 289,
     "metadata": {},
     "output_type": "execute_result"
    }
   ],
   "source": [
    "param1 = :epochs\n",
    "param2 = :(builder.n1)\n",
    "# param2 = :(builder.n2)\n",
    "\n",
    "r1 = range(nn, param1, lower=10, upper=1000, scale=:log10)\n",
    "# r1 = range(nn, param1, lower=1, upper=100, scale=:linear)\n",
    "r2 = range(nn, param2, lower=1, upper=100, scale=:linear)"
   ]
  },
  {
   "cell_type": "code",
   "execution_count": 290,
   "metadata": {
    "scrolled": true
   },
   "outputs": [
    {
     "data": {
      "text/plain": [
       "ProbabilisticTunedModel(\n",
       "    model = NeuralNetworkClassifier(\n",
       "            builder = \u001b[34mCustomNN @625\u001b[39m,\n",
       "            finaliser = NNlib.softmax,\n",
       "            optimiser = ADAM(0.0003333333333333333, (0.9, 0.999), IdDict{Any,Any}()),\n",
       "            loss = Flux.crossentropy,\n",
       "            epochs = 3000,\n",
       "            batch_size = 8,\n",
       "            lambda = 0.01,\n",
       "            alpha = 0.0,\n",
       "            optimiser_changes_trigger_retraining = false),\n",
       "    tuning = Grid(\n",
       "            goal = 64,\n",
       "            resolution = 10,\n",
       "            shuffle = true,\n",
       "            rng = Random._GLOBAL_RNG()),\n",
       "    resampling = Holdout(\n",
       "            fraction_train = 0.7,\n",
       "            shuffle = false,\n",
       "            rng = Random._GLOBAL_RNG()),\n",
       "    measure = cross_entropy(\n",
       "            eps = 2.220446049250313e-16),\n",
       "    weights = nothing,\n",
       "    operation = MLJModelInterface.predict,\n",
       "    range = MLJBase.NumericRange{Int64,MLJBase.Bounded,Symbol}[\u001b[34mNumericRange{Int64,…} @640\u001b[39m, \u001b[34mNumericRange{Int64,…} @223\u001b[39m],\n",
       "    train_best = true,\n",
       "    repeats = 1,\n",
       "    n = nothing,\n",
       "    acceleration = CPUThreads{Int64}(1),\n",
       "    acceleration_resampling = CPU1{Nothing}(nothing),\n",
       "    check_measure = true)\u001b[34m @402\u001b[39m"
      ]
     },
     "execution_count": 290,
     "metadata": {},
     "output_type": "execute_result"
    }
   ],
   "source": [
    "self_tuning_nn_model = TunedModel(model=nn,\n",
    "                                    tuning=Grid(goal=64),\n",
    "                                    resampling=Holdout(fraction_train=0.7), \n",
    "                                    measure=cross_entropy,\n",
    "                                    acceleration=CPUThreads(),\n",
    "                                    range=[r1, r2])"
   ]
  },
  {
   "cell_type": "code",
   "execution_count": 291,
   "metadata": {},
   "outputs": [
    {
     "data": {
      "text/plain": [
       "\u001b[34mMachine{ProbabilisticTunedModel{Grid,…}} @282\u001b[39m trained 0 times.\n",
       "  args: \n",
       "    1:\t\u001b[34mSource @802\u001b[39m ⏎ `Table{AbstractArray{Continuous,1}}`\n",
       "    2:\t\u001b[34mSource @492\u001b[39m ⏎ `AbstractArray{Multiclass{3},1}`\n"
      ]
     },
     "execution_count": 291,
     "metadata": {},
     "output_type": "execute_result"
    }
   ],
   "source": [
    "self_tuning_nn = machine(self_tuning_nn_model, X_stand, y)"
   ]
  },
  {
   "cell_type": "code",
   "execution_count": 292,
   "metadata": {},
   "outputs": [
    {
     "name": "stderr",
     "output_type": "stream",
     "text": [
      "┌ Info: Training \u001b[34mMachine{ProbabilisticTunedModel{Grid,…}} @282\u001b[39m.\n",
      "└ @ MLJBase /home/andrew/.julia/packages/MLJBase/uKzAz/src/machines.jl:319\n",
      "┌ Info: Attempting to evaluate 64 models.\n",
      "└ @ MLJTuning /home/andrew/.julia/packages/MLJTuning/Bbgvk/src/tuned_models.jl:494\n",
      "\u001b[33mEvaluating over 64 metamodels: 100%[=========================] Time: 0:01:48\u001b[39m\n"
     ]
    },
    {
     "data": {
      "text/plain": [
       "\u001b[34mMachine{ProbabilisticTunedModel{Grid,…}} @282\u001b[39m trained 1 time.\n",
       "  args: \n",
       "    1:\t\u001b[34mSource @802\u001b[39m ⏎ `Table{AbstractArray{Continuous,1}}`\n",
       "    2:\t\u001b[34mSource @492\u001b[39m ⏎ `AbstractArray{Multiclass{3},1}`\n"
      ]
     },
     "execution_count": 292,
     "metadata": {},
     "output_type": "execute_result"
    }
   ],
   "source": [
    "z = fit!(self_tuning_nn, rows=train)"
   ]
  },
  {
   "cell_type": "code",
   "execution_count": 293,
   "metadata": {
    "scrolled": false
   },
   "outputs": [
    {
     "data": {
      "image/svg+xml": [
       "<?xml version=\"1.0\" encoding=\"utf-8\"?>\n",
       "<svg xmlns=\"http://www.w3.org/2000/svg\" xmlns:xlink=\"http://www.w3.org/1999/xlink\" width=\"600\" height=\"400\" viewBox=\"0 0 2400 1600\">\n",
       "<defs>\n",
       "  <clipPath id=\"clip950\">\n",
       "    <rect x=\"0\" y=\"0\" width=\"2400\" height=\"1600\"/>\n",
       "  </clipPath>\n",
       "</defs>\n",
       "<path clip-path=\"url(#clip950)\" d=\"\n",
       "M0 1600 L2400 1600 L2400 0 L0 0  Z\n",
       "  \" fill=\"#ffffff\" fill-rule=\"evenodd\" fill-opacity=\"1\"/>\n",
       "<defs>\n",
       "  <clipPath id=\"clip951\">\n",
       "    <rect x=\"480\" y=\"0\" width=\"1681\" height=\"1600\"/>\n",
       "  </clipPath>\n",
       "</defs>\n",
       "<path clip-path=\"url(#clip950)\" d=\"\n",
       "M224.866 1410.9 L2112.76 1410.9 L2112.76 47.2441 L224.866 47.2441  Z\n",
       "  \" fill=\"#ffffff\" fill-rule=\"evenodd\" fill-opacity=\"1\"/>\n",
       "<defs>\n",
       "  <clipPath id=\"clip952\">\n",
       "    <rect x=\"224\" y=\"47\" width=\"1889\" height=\"1365\"/>\n",
       "  </clipPath>\n",
       "</defs>\n",
       "<polyline clip-path=\"url(#clip952)\" style=\"stroke:#000000; stroke-width:2; stroke-opacity:0.1; fill:none\" points=\"\n",
       "  278.297,1410.9 278.297,47.2441 \n",
       "  \"/>\n",
       "<polyline clip-path=\"url(#clip952)\" style=\"stroke:#000000; stroke-width:2; stroke-opacity:0.1; fill:none\" points=\"\n",
       "  723.554,1410.9 723.554,47.2441 \n",
       "  \"/>\n",
       "<polyline clip-path=\"url(#clip952)\" style=\"stroke:#000000; stroke-width:2; stroke-opacity:0.1; fill:none\" points=\"\n",
       "  1168.81,1410.9 1168.81,47.2441 \n",
       "  \"/>\n",
       "<polyline clip-path=\"url(#clip952)\" style=\"stroke:#000000; stroke-width:2; stroke-opacity:0.1; fill:none\" points=\"\n",
       "  1614.07,1410.9 1614.07,47.2441 \n",
       "  \"/>\n",
       "<polyline clip-path=\"url(#clip952)\" style=\"stroke:#000000; stroke-width:2; stroke-opacity:0.1; fill:none\" points=\"\n",
       "  2059.33,1410.9 2059.33,47.2441 \n",
       "  \"/>\n",
       "<polyline clip-path=\"url(#clip952)\" style=\"stroke:#000000; stroke-width:2; stroke-opacity:0.1; fill:none\" points=\"\n",
       "  224.866,1385.3 2112.76,1385.3 \n",
       "  \"/>\n",
       "<polyline clip-path=\"url(#clip952)\" style=\"stroke:#000000; stroke-width:2; stroke-opacity:0.1; fill:none\" points=\"\n",
       "  224.866,1060.43 2112.76,1060.43 \n",
       "  \"/>\n",
       "<polyline clip-path=\"url(#clip952)\" style=\"stroke:#000000; stroke-width:2; stroke-opacity:0.1; fill:none\" points=\"\n",
       "  224.866,735.568 2112.76,735.568 \n",
       "  \"/>\n",
       "<polyline clip-path=\"url(#clip952)\" style=\"stroke:#000000; stroke-width:2; stroke-opacity:0.1; fill:none\" points=\"\n",
       "  224.866,410.703 2112.76,410.703 \n",
       "  \"/>\n",
       "<polyline clip-path=\"url(#clip952)\" style=\"stroke:#000000; stroke-width:2; stroke-opacity:0.1; fill:none\" points=\"\n",
       "  224.866,85.838 2112.76,85.838 \n",
       "  \"/>\n",
       "<polyline clip-path=\"url(#clip950)\" style=\"stroke:#000000; stroke-width:4; stroke-opacity:1; fill:none\" points=\"\n",
       "  224.866,1410.9 2112.76,1410.9 \n",
       "  \"/>\n",
       "<polyline clip-path=\"url(#clip950)\" style=\"stroke:#000000; stroke-width:4; stroke-opacity:1; fill:none\" points=\"\n",
       "  224.866,1410.9 224.866,47.2441 \n",
       "  \"/>\n",
       "<polyline clip-path=\"url(#clip950)\" style=\"stroke:#000000; stroke-width:4; stroke-opacity:1; fill:none\" points=\"\n",
       "  278.297,1410.9 278.297,1394.53 \n",
       "  \"/>\n",
       "<polyline clip-path=\"url(#clip950)\" style=\"stroke:#000000; stroke-width:4; stroke-opacity:1; fill:none\" points=\"\n",
       "  723.554,1410.9 723.554,1394.53 \n",
       "  \"/>\n",
       "<polyline clip-path=\"url(#clip950)\" style=\"stroke:#000000; stroke-width:4; stroke-opacity:1; fill:none\" points=\"\n",
       "  1168.81,1410.9 1168.81,1394.53 \n",
       "  \"/>\n",
       "<polyline clip-path=\"url(#clip950)\" style=\"stroke:#000000; stroke-width:4; stroke-opacity:1; fill:none\" points=\"\n",
       "  1614.07,1410.9 1614.07,1394.53 \n",
       "  \"/>\n",
       "<polyline clip-path=\"url(#clip950)\" style=\"stroke:#000000; stroke-width:4; stroke-opacity:1; fill:none\" points=\"\n",
       "  2059.33,1410.9 2059.33,1394.53 \n",
       "  \"/>\n",
       "<polyline clip-path=\"url(#clip950)\" style=\"stroke:#000000; stroke-width:4; stroke-opacity:1; fill:none\" points=\"\n",
       "  224.866,1385.3 247.521,1385.3 \n",
       "  \"/>\n",
       "<polyline clip-path=\"url(#clip950)\" style=\"stroke:#000000; stroke-width:4; stroke-opacity:1; fill:none\" points=\"\n",
       "  224.866,1060.43 247.521,1060.43 \n",
       "  \"/>\n",
       "<polyline clip-path=\"url(#clip950)\" style=\"stroke:#000000; stroke-width:4; stroke-opacity:1; fill:none\" points=\"\n",
       "  224.866,735.568 247.521,735.568 \n",
       "  \"/>\n",
       "<polyline clip-path=\"url(#clip950)\" style=\"stroke:#000000; stroke-width:4; stroke-opacity:1; fill:none\" points=\"\n",
       "  224.866,410.703 247.521,410.703 \n",
       "  \"/>\n",
       "<polyline clip-path=\"url(#clip950)\" style=\"stroke:#000000; stroke-width:4; stroke-opacity:1; fill:none\" points=\"\n",
       "  224.866,85.838 247.521,85.838 \n",
       "  \"/>\n",
       "<path clip-path=\"url(#clip950)\" d=\"M 0 0 M231.794 1481.97 L239.433 1481.97 L239.433 1455.6 L231.123 1457.27 L231.123 1453.01 L239.387 1451.34 L244.063 1451.34 L244.063 1481.97 L251.701 1481.97 L251.701 1485.9 L231.794 1485.9 L231.794 1481.97 Z\" fill=\"#000000\" fill-rule=\"evenodd\" fill-opacity=\"1\" /><path clip-path=\"url(#clip950)\" d=\"M 0 0 M266.771 1454.42 Q263.16 1454.42 261.331 1457.99 Q259.525 1461.53 259.525 1468.66 Q259.525 1475.77 261.331 1479.33 Q263.16 1482.87 266.771 1482.87 Q270.405 1482.87 272.211 1479.33 Q274.039 1475.77 274.039 1468.66 Q274.039 1461.53 272.211 1457.99 Q270.405 1454.42 266.771 1454.42 M266.771 1450.72 Q272.581 1450.72 275.637 1455.33 Q278.715 1459.91 278.715 1468.66 Q278.715 1477.39 275.637 1481.99 Q272.581 1486.58 266.771 1486.58 Q260.961 1486.58 257.882 1481.99 Q254.826 1477.39 254.826 1468.66 Q254.826 1459.91 257.882 1455.33 Q260.961 1450.72 266.771 1450.72 Z\" fill=\"#000000\" fill-rule=\"evenodd\" fill-opacity=\"1\" /><path clip-path=\"url(#clip950)\" d=\"M 0 0 M279.261 1455.3 L285.467 1455.3 L285.467 1433.87 L278.715 1435.23 L278.715 1431.77 L285.43 1430.41 L289.229 1430.41 L289.229 1455.3 L295.435 1455.3 L295.435 1458.49 L279.261 1458.49 L279.261 1455.3 Z\" fill=\"#000000\" fill-rule=\"evenodd\" fill-opacity=\"1\" /><path clip-path=\"url(#clip950)\" d=\"M 0 0 M299.554 1453.72 L303.523 1453.72 L303.523 1458.49 L299.554 1458.49 L299.554 1453.72 Z\" fill=\"#000000\" fill-rule=\"evenodd\" fill-opacity=\"1\" /><path clip-path=\"url(#clip950)\" d=\"M 0 0 M315.766 1432.91 Q312.832 1432.91 311.347 1435.81 Q309.88 1438.69 309.88 1444.48 Q309.88 1450.26 311.347 1453.15 Q312.832 1456.03 315.766 1456.03 Q318.719 1456.03 320.186 1453.15 Q321.672 1450.26 321.672 1444.48 Q321.672 1438.69 320.186 1435.81 Q318.719 1432.91 315.766 1432.91 M315.766 1429.91 Q320.487 1429.91 322.97 1433.65 Q325.471 1437.37 325.471 1444.48 Q325.471 1451.57 322.97 1455.31 Q320.487 1459.04 315.766 1459.04 Q311.046 1459.04 308.544 1455.31 Q306.062 1451.57 306.062 1444.48 Q306.062 1437.37 308.544 1433.65 Q311.046 1429.91 315.766 1429.91 Z\" fill=\"#000000\" fill-rule=\"evenodd\" fill-opacity=\"1\" /><path clip-path=\"url(#clip950)\" d=\"M 0 0 M677.456 1481.97 L685.094 1481.97 L685.094 1455.6 L676.784 1457.27 L676.784 1453.01 L685.048 1451.34 L689.724 1451.34 L689.724 1481.97 L697.363 1481.97 L697.363 1485.9 L677.456 1485.9 L677.456 1481.97 Z\" fill=\"#000000\" fill-rule=\"evenodd\" fill-opacity=\"1\" /><path clip-path=\"url(#clip950)\" d=\"M 0 0 M712.432 1454.42 Q708.821 1454.42 706.992 1457.99 Q705.187 1461.53 705.187 1468.66 Q705.187 1475.77 706.992 1479.33 Q708.821 1482.87 712.432 1482.87 Q716.066 1482.87 717.872 1479.33 Q719.701 1475.77 719.701 1468.66 Q719.701 1461.53 717.872 1457.99 Q716.066 1454.42 712.432 1454.42 M712.432 1450.72 Q718.242 1450.72 721.298 1455.33 Q724.377 1459.91 724.377 1468.66 Q724.377 1477.39 721.298 1481.99 Q718.242 1486.58 712.432 1486.58 Q706.622 1486.58 703.543 1481.99 Q700.488 1477.39 700.488 1468.66 Q700.488 1459.91 703.543 1455.33 Q706.622 1450.72 712.432 1450.72 Z\" fill=\"#000000\" fill-rule=\"evenodd\" fill-opacity=\"1\" /><path clip-path=\"url(#clip950)\" d=\"M 0 0 M724.922 1455.3 L731.129 1455.3 L731.129 1433.87 L724.377 1435.23 L724.377 1431.77 L731.091 1430.41 L734.89 1430.41 L734.89 1455.3 L741.097 1455.3 L741.097 1458.49 L724.922 1458.49 L724.922 1455.3 Z\" fill=\"#000000\" fill-rule=\"evenodd\" fill-opacity=\"1\" /><path clip-path=\"url(#clip950)\" d=\"M 0 0 M745.216 1453.72 L749.184 1453.72 L749.184 1458.49 L745.216 1458.49 L745.216 1453.72 Z\" fill=\"#000000\" fill-rule=\"evenodd\" fill-opacity=\"1\" /><path clip-path=\"url(#clip950)\" d=\"M 0 0 M753.341 1430.41 L768.255 1430.41 L768.255 1433.61 L756.82 1433.61 L756.82 1440.49 Q757.647 1440.21 758.475 1440.08 Q759.303 1439.93 760.13 1439.93 Q764.832 1439.93 767.578 1442.51 Q770.324 1445.08 770.324 1449.48 Q770.324 1454.02 767.503 1456.54 Q764.682 1459.04 759.547 1459.04 Q757.779 1459.04 755.936 1458.74 Q754.112 1458.44 752.156 1457.84 L752.156 1454.02 Q753.848 1454.94 755.654 1455.39 Q757.459 1455.84 759.472 1455.84 Q762.726 1455.84 764.625 1454.13 Q766.525 1452.42 766.525 1449.48 Q766.525 1446.55 764.625 1444.84 Q762.726 1443.13 759.472 1443.13 Q757.948 1443.13 756.425 1443.47 Q754.92 1443.8 753.341 1444.52 L753.341 1430.41 Z\" fill=\"#000000\" fill-rule=\"evenodd\" fill-opacity=\"1\" /><path clip-path=\"url(#clip950)\" d=\"M 0 0 M1121.75 1481.97 L1129.39 1481.97 L1129.39 1455.6 L1121.08 1457.27 L1121.08 1453.01 L1129.35 1451.34 L1134.02 1451.34 L1134.02 1481.97 L1141.66 1481.97 L1141.66 1485.9 L1121.75 1485.9 L1121.75 1481.97 Z\" fill=\"#000000\" fill-rule=\"evenodd\" fill-opacity=\"1\" /><path clip-path=\"url(#clip950)\" d=\"M 0 0 M1156.73 1454.42 Q1153.12 1454.42 1151.29 1457.99 Q1149.48 1461.53 1149.48 1468.66 Q1149.48 1475.77 1151.29 1479.33 Q1153.12 1482.87 1156.73 1482.87 Q1160.36 1482.87 1162.17 1479.33 Q1164 1475.77 1164 1468.66 Q1164 1461.53 1162.17 1457.99 Q1160.36 1454.42 1156.73 1454.42 M1156.73 1450.72 Q1162.54 1450.72 1165.6 1455.33 Q1168.67 1459.91 1168.67 1468.66 Q1168.67 1477.39 1165.6 1481.99 Q1162.54 1486.58 1156.73 1486.58 Q1150.92 1486.58 1147.84 1481.99 Q1144.79 1477.39 1144.79 1468.66 Q1144.79 1459.91 1147.84 1455.33 Q1150.92 1450.72 1156.73 1450.72 Z\" fill=\"#000000\" fill-rule=\"evenodd\" fill-opacity=\"1\" /><path clip-path=\"url(#clip950)\" d=\"M 0 0 M1173.24 1455.3 L1186.5 1455.3 L1186.5 1458.49 L1168.67 1458.49 L1168.67 1455.3 Q1170.84 1453.06 1174.56 1449.3 Q1178.3 1445.52 1179.26 1444.43 Q1181.09 1442.38 1181.8 1440.96 Q1182.54 1439.54 1182.54 1438.16 Q1182.54 1435.92 1180.96 1434.51 Q1179.39 1433.1 1176.87 1433.1 Q1175.09 1433.1 1173.09 1433.72 Q1171.12 1434.34 1168.86 1435.6 L1168.86 1431.77 Q1171.16 1430.85 1173.15 1430.38 Q1175.14 1429.91 1176.8 1429.91 Q1181.16 1429.91 1183.76 1432.09 Q1186.35 1434.27 1186.35 1437.92 Q1186.35 1439.65 1185.7 1441.21 Q1185.06 1442.75 1183.34 1444.86 Q1182.87 1445.4 1180.35 1448.02 Q1177.83 1450.61 1173.24 1455.3 Z\" fill=\"#000000\" fill-rule=\"evenodd\" fill-opacity=\"1\" /><path clip-path=\"url(#clip950)\" d=\"M 0 0 M1190.62 1453.72 L1194.59 1453.72 L1194.59 1458.49 L1190.62 1458.49 L1190.62 1453.72 Z\" fill=\"#000000\" fill-rule=\"evenodd\" fill-opacity=\"1\" /><path clip-path=\"url(#clip950)\" d=\"M 0 0 M1206.84 1432.91 Q1203.9 1432.91 1202.42 1435.81 Q1200.95 1438.69 1200.95 1444.48 Q1200.95 1450.26 1202.42 1453.15 Q1203.9 1456.03 1206.84 1456.03 Q1209.79 1456.03 1211.26 1453.15 Q1212.74 1450.26 1212.74 1444.48 Q1212.74 1438.69 1211.26 1435.81 Q1209.79 1432.91 1206.84 1432.91 M1206.84 1429.91 Q1211.56 1429.91 1214.04 1433.65 Q1216.54 1437.37 1216.54 1444.48 Q1216.54 1451.57 1214.04 1455.31 Q1211.56 1459.04 1206.84 1459.04 Q1202.11 1459.04 1199.61 1455.31 Q1197.13 1451.57 1197.13 1444.48 Q1197.13 1437.37 1199.61 1433.65 Q1202.11 1429.91 1206.84 1429.91 Z\" fill=\"#000000\" fill-rule=\"evenodd\" fill-opacity=\"1\" /><path clip-path=\"url(#clip950)\" d=\"M 0 0 M1567.41 1481.97 L1575.05 1481.97 L1575.05 1455.6 L1566.74 1457.27 L1566.74 1453.01 L1575.01 1451.34 L1579.68 1451.34 L1579.68 1481.97 L1587.32 1481.97 L1587.32 1485.9 L1567.41 1485.9 L1567.41 1481.97 Z\" fill=\"#000000\" fill-rule=\"evenodd\" fill-opacity=\"1\" /><path clip-path=\"url(#clip950)\" d=\"M 0 0 M1602.39 1454.42 Q1598.78 1454.42 1596.95 1457.99 Q1595.15 1461.53 1595.15 1468.66 Q1595.15 1475.77 1596.95 1479.33 Q1598.78 1482.87 1602.39 1482.87 Q1606.03 1482.87 1607.83 1479.33 Q1609.66 1475.77 1609.66 1468.66 Q1609.66 1461.53 1607.83 1457.99 Q1606.03 1454.42 1602.39 1454.42 M1602.39 1450.72 Q1608.2 1450.72 1611.26 1455.33 Q1614.34 1459.91 1614.34 1468.66 Q1614.34 1477.39 1611.26 1481.99 Q1608.2 1486.58 1602.39 1486.58 Q1596.58 1486.58 1593.5 1481.99 Q1590.45 1477.39 1590.45 1468.66 Q1590.45 1459.91 1593.5 1455.33 Q1596.58 1450.72 1602.39 1450.72 Z\" fill=\"#000000\" fill-rule=\"evenodd\" fill-opacity=\"1\" /><path clip-path=\"url(#clip950)\" d=\"M 0 0 M1618.91 1455.3 L1632.17 1455.3 L1632.17 1458.49 L1614.34 1458.49 L1614.34 1455.3 Q1616.5 1453.06 1620.22 1449.3 Q1623.97 1445.52 1624.92 1444.43 Q1626.75 1442.38 1627.46 1440.96 Q1628.2 1439.54 1628.2 1438.16 Q1628.2 1435.92 1626.62 1434.51 Q1625.06 1433.1 1622.54 1433.1 Q1620.75 1433.1 1618.76 1433.72 Q1616.78 1434.34 1614.52 1435.6 L1614.52 1431.77 Q1616.82 1430.85 1618.81 1430.38 Q1620.81 1429.91 1622.46 1429.91 Q1626.82 1429.91 1629.42 1432.09 Q1632.02 1434.27 1632.02 1437.92 Q1632.02 1439.65 1631.36 1441.21 Q1630.72 1442.75 1629.01 1444.86 Q1628.54 1445.4 1626.02 1448.02 Q1623.5 1450.61 1618.91 1455.3 Z\" fill=\"#000000\" fill-rule=\"evenodd\" fill-opacity=\"1\" /><path clip-path=\"url(#clip950)\" d=\"M 0 0 M1636.28 1453.72 L1640.25 1453.72 L1640.25 1458.49 L1636.28 1458.49 L1636.28 1453.72 Z\" fill=\"#000000\" fill-rule=\"evenodd\" fill-opacity=\"1\" /><path clip-path=\"url(#clip950)\" d=\"M 0 0 M1644.41 1430.41 L1659.32 1430.41 L1659.32 1433.61 L1647.89 1433.61 L1647.89 1440.49 Q1648.72 1440.21 1649.54 1440.08 Q1650.37 1439.93 1651.2 1439.93 Q1655.9 1439.93 1658.65 1442.51 Q1661.39 1445.08 1661.39 1449.48 Q1661.39 1454.02 1658.57 1456.54 Q1655.75 1459.04 1650.62 1459.04 Q1648.85 1459.04 1647 1458.74 Q1645.18 1458.44 1643.22 1457.84 L1643.22 1454.02 Q1644.92 1454.94 1646.72 1455.39 Q1648.53 1455.84 1650.54 1455.84 Q1653.79 1455.84 1655.69 1454.13 Q1657.59 1452.42 1657.59 1449.48 Q1657.59 1446.55 1655.69 1444.84 Q1653.79 1443.13 1650.54 1443.13 Q1649.02 1443.13 1647.49 1443.47 Q1645.99 1443.8 1644.41 1444.52 L1644.41 1430.41 Z\" fill=\"#000000\" fill-rule=\"evenodd\" fill-opacity=\"1\" /><path clip-path=\"url(#clip950)\" d=\"M 0 0 M2011.94 1481.97 L2019.58 1481.97 L2019.58 1455.6 L2011.27 1457.27 L2011.27 1453.01 L2019.53 1451.34 L2024.21 1451.34 L2024.21 1481.97 L2031.85 1481.97 L2031.85 1485.9 L2011.94 1485.9 L2011.94 1481.97 Z\" fill=\"#000000\" fill-rule=\"evenodd\" fill-opacity=\"1\" /><path clip-path=\"url(#clip950)\" d=\"M 0 0 M2046.91 1454.42 Q2043.3 1454.42 2041.48 1457.99 Q2039.67 1461.53 2039.67 1468.66 Q2039.67 1475.77 2041.48 1479.33 Q2043.3 1482.87 2046.91 1482.87 Q2050.55 1482.87 2052.35 1479.33 Q2054.18 1475.77 2054.18 1468.66 Q2054.18 1461.53 2052.35 1457.99 Q2050.55 1454.42 2046.91 1454.42 M2046.91 1450.72 Q2052.72 1450.72 2055.78 1455.33 Q2058.86 1459.91 2058.86 1468.66 Q2058.86 1477.39 2055.78 1481.99 Q2052.72 1486.58 2046.91 1486.58 Q2041.1 1486.58 2038.03 1481.99 Q2034.97 1477.39 2034.97 1468.66 Q2034.97 1459.91 2038.03 1455.33 Q2041.1 1450.72 2046.91 1450.72 Z\" fill=\"#000000\" fill-rule=\"evenodd\" fill-opacity=\"1\" /><path clip-path=\"url(#clip950)\" d=\"M 0 0 M2071.55 1443.35 Q2074.28 1443.94 2075.81 1445.78 Q2077.35 1447.62 2077.35 1450.33 Q2077.35 1454.49 2074.49 1456.76 Q2071.63 1459.04 2066.36 1459.04 Q2064.6 1459.04 2062.71 1458.68 Q2060.85 1458.34 2058.86 1457.65 L2058.86 1453.98 Q2060.44 1454.9 2062.32 1455.37 Q2064.2 1455.84 2066.25 1455.84 Q2069.82 1455.84 2071.69 1454.43 Q2073.57 1453.02 2073.57 1450.33 Q2073.57 1447.85 2071.82 1446.46 Q2070.09 1445.05 2066.98 1445.05 L2063.71 1445.05 L2063.71 1441.92 L2067.13 1441.92 Q2069.94 1441.92 2071.42 1440.81 Q2072.91 1439.69 2072.91 1437.58 Q2072.91 1435.42 2071.37 1434.27 Q2069.84 1433.1 2066.98 1433.1 Q2065.42 1433.1 2063.64 1433.44 Q2061.85 1433.78 2059.71 1434.49 L2059.71 1431.11 Q2061.87 1430.51 2063.75 1430.21 Q2065.65 1429.91 2067.32 1429.91 Q2071.65 1429.91 2074.17 1431.88 Q2076.69 1433.84 2076.69 1437.18 Q2076.69 1439.52 2075.35 1441.13 Q2074.02 1442.73 2071.55 1443.35 Z\" fill=\"#000000\" fill-rule=\"evenodd\" fill-opacity=\"1\" /><path clip-path=\"url(#clip950)\" d=\"M 0 0 M2081.47 1453.72 L2085.43 1453.72 L2085.43 1458.49 L2081.47 1458.49 L2081.47 1453.72 Z\" fill=\"#000000\" fill-rule=\"evenodd\" fill-opacity=\"1\" /><path clip-path=\"url(#clip950)\" d=\"M 0 0 M2097.68 1432.91 Q2094.74 1432.91 2093.26 1435.81 Q2091.79 1438.69 2091.79 1444.48 Q2091.79 1450.26 2093.26 1453.15 Q2094.74 1456.03 2097.68 1456.03 Q2100.63 1456.03 2102.1 1453.15 Q2103.58 1450.26 2103.58 1444.48 Q2103.58 1438.69 2102.1 1435.81 Q2100.63 1432.91 2097.68 1432.91 M2097.68 1429.91 Q2102.4 1429.91 2104.88 1433.65 Q2107.38 1437.37 2107.38 1444.48 Q2107.38 1451.57 2104.88 1455.31 Q2102.4 1459.04 2097.68 1459.04 Q2092.96 1459.04 2090.46 1455.31 Q2087.97 1451.57 2087.97 1444.48 Q2087.97 1437.37 2090.46 1433.65 Q2092.96 1429.91 2097.68 1429.91 Z\" fill=\"#000000\" fill-rule=\"evenodd\" fill-opacity=\"1\" /><path clip-path=\"url(#clip950)\" d=\"M 0 0 M188.922 1371.1 Q185.311 1371.1 183.482 1374.66 Q181.677 1378.2 181.677 1385.33 Q181.677 1392.44 183.482 1396 Q185.311 1399.54 188.922 1399.54 Q192.556 1399.54 194.362 1396 Q196.19 1392.44 196.19 1385.33 Q196.19 1378.2 194.362 1374.66 Q192.556 1371.1 188.922 1371.1 M188.922 1367.39 Q194.732 1367.39 197.788 1372 Q200.866 1376.58 200.866 1385.33 Q200.866 1394.06 197.788 1398.67 Q194.732 1403.25 188.922 1403.25 Q183.112 1403.25 180.033 1398.67 Q176.977 1394.06 176.977 1385.33 Q176.977 1376.58 180.033 1372 Q183.112 1367.39 188.922 1367.39 Z\" fill=\"#000000\" fill-rule=\"evenodd\" fill-opacity=\"1\" /><path clip-path=\"url(#clip950)\" d=\"M 0 0 M158.529 1073.78 L174.848 1073.78 L174.848 1077.71 L152.904 1077.71 L152.904 1073.78 Q155.566 1071.02 160.149 1066.39 Q164.755 1061.74 165.936 1060.4 Q168.181 1057.87 169.061 1056.14 Q169.964 1054.38 169.964 1052.69 Q169.964 1049.93 168.019 1048.2 Q166.098 1046.46 162.996 1046.46 Q160.797 1046.46 158.343 1047.23 Q155.913 1047.99 153.135 1049.54 L153.135 1044.82 Q155.959 1043.68 158.413 1043.11 Q160.866 1042.53 162.903 1042.53 Q168.274 1042.53 171.468 1045.21 Q174.663 1047.9 174.663 1052.39 Q174.663 1054.52 173.852 1056.44 Q173.065 1058.34 170.959 1060.93 Q170.38 1061.6 167.278 1064.82 Q164.177 1068.01 158.529 1073.78 Z\" fill=\"#000000\" fill-rule=\"evenodd\" fill-opacity=\"1\" /><path clip-path=\"url(#clip950)\" d=\"M 0 0 M179.964 1043.15 L198.32 1043.15 L198.32 1047.09 L184.246 1047.09 L184.246 1055.56 Q185.264 1055.21 186.283 1055.05 Q187.301 1054.87 188.32 1054.87 Q194.107 1054.87 197.487 1058.04 Q200.866 1061.21 200.866 1066.62 Q200.866 1072.2 197.394 1075.31 Q193.922 1078.38 187.602 1078.38 Q185.427 1078.38 183.158 1078.01 Q180.913 1077.64 178.505 1076.9 L178.505 1072.2 Q180.589 1073.34 182.811 1073.89 Q185.033 1074.45 187.51 1074.45 Q191.514 1074.45 193.852 1072.34 Q196.19 1070.24 196.19 1066.62 Q196.19 1063.01 193.852 1060.91 Q191.514 1058.8 187.51 1058.8 Q185.635 1058.8 183.76 1059.22 Q181.908 1059.63 179.964 1060.51 L179.964 1043.15 Z\" fill=\"#000000\" fill-rule=\"evenodd\" fill-opacity=\"1\" /><path clip-path=\"url(#clip950)\" d=\"M 0 0 M152.95 718.288 L171.306 718.288 L171.306 722.223 L157.232 722.223 L157.232 730.695 Q158.251 730.348 159.269 730.186 Q160.288 730.001 161.306 730.001 Q167.093 730.001 170.473 733.172 Q173.852 736.343 173.852 741.76 Q173.852 747.338 170.38 750.44 Q166.908 753.519 160.589 753.519 Q158.413 753.519 156.144 753.149 Q153.899 752.778 151.492 752.037 L151.492 747.338 Q153.575 748.473 155.797 749.028 Q158.019 749.584 160.496 749.584 Q164.501 749.584 166.839 747.477 Q169.177 745.371 169.177 741.76 Q169.177 738.149 166.839 736.042 Q164.501 733.936 160.496 733.936 Q158.621 733.936 156.746 734.352 Q154.894 734.769 152.95 735.649 L152.95 718.288 Z\" fill=\"#000000\" fill-rule=\"evenodd\" fill-opacity=\"1\" /><path clip-path=\"url(#clip950)\" d=\"M 0 0 M188.922 721.366 Q185.311 721.366 183.482 724.931 Q181.677 728.473 181.677 735.602 Q181.677 742.709 183.482 746.274 Q185.311 749.815 188.922 749.815 Q192.556 749.815 194.362 746.274 Q196.19 742.709 196.19 735.602 Q196.19 728.473 194.362 724.931 Q192.556 721.366 188.922 721.366 M188.922 717.663 Q194.732 717.663 197.788 722.269 Q200.866 726.852 200.866 735.602 Q200.866 744.329 197.788 748.936 Q194.732 753.519 188.922 753.519 Q183.112 753.519 180.033 748.936 Q176.977 744.329 176.977 735.602 Q176.977 726.852 180.033 722.269 Q183.112 717.663 188.922 717.663 Z\" fill=\"#000000\" fill-rule=\"evenodd\" fill-opacity=\"1\" /><path clip-path=\"url(#clip950)\" d=\"M 0 0 M152.626 393.423 L174.848 393.423 L174.848 395.414 L162.302 427.983 L157.417 427.983 L169.223 397.358 L152.626 397.358 L152.626 393.423 Z\" fill=\"#000000\" fill-rule=\"evenodd\" fill-opacity=\"1\" /><path clip-path=\"url(#clip950)\" d=\"M 0 0 M179.964 393.423 L198.32 393.423 L198.32 397.358 L184.246 397.358 L184.246 405.83 Q185.264 405.483 186.283 405.321 Q187.301 405.136 188.32 405.136 Q194.107 405.136 197.487 408.307 Q200.866 411.478 200.866 416.895 Q200.866 422.474 197.394 425.575 Q193.922 428.654 187.602 428.654 Q185.427 428.654 183.158 428.284 Q180.913 427.913 178.505 427.173 L178.505 422.474 Q180.589 423.608 182.811 424.163 Q185.033 424.719 187.51 424.719 Q191.514 424.719 193.852 422.613 Q196.19 420.506 196.19 416.895 Q196.19 413.284 193.852 411.177 Q191.514 409.071 187.51 409.071 Q185.635 409.071 183.76 409.488 Q181.908 409.904 179.964 410.784 L179.964 393.423 Z\" fill=\"#000000\" fill-rule=\"evenodd\" fill-opacity=\"1\" /><path clip-path=\"url(#clip950)\" d=\"M 0 0 M126.931 99.1829 L134.57 99.1829 L134.57 72.8173 L126.26 74.4839 L126.26 70.2247 L134.524 68.558 L139.2 68.558 L139.2 99.1829 L146.839 99.1829 L146.839 103.118 L126.931 103.118 L126.931 99.1829 Z\" fill=\"#000000\" fill-rule=\"evenodd\" fill-opacity=\"1\" /><path clip-path=\"url(#clip950)\" d=\"M 0 0 M161.908 71.6367 Q158.297 71.6367 156.468 75.2015 Q154.663 78.7432 154.663 85.8728 Q154.663 92.9792 156.468 96.544 Q158.297 100.086 161.908 100.086 Q165.542 100.086 167.348 96.544 Q169.177 92.9792 169.177 85.8728 Q169.177 78.7432 167.348 75.2015 Q165.542 71.6367 161.908 71.6367 M161.908 67.933 Q167.718 67.933 170.774 72.5395 Q173.852 77.1228 173.852 85.8728 Q173.852 94.5996 170.774 99.206 Q167.718 103.789 161.908 103.789 Q156.098 103.789 153.019 99.206 Q149.964 94.5996 149.964 85.8728 Q149.964 77.1228 153.019 72.5395 Q156.098 67.933 161.908 67.933 Z\" fill=\"#000000\" fill-rule=\"evenodd\" fill-opacity=\"1\" /><path clip-path=\"url(#clip950)\" d=\"M 0 0 M188.922 71.6367 Q185.311 71.6367 183.482 75.2015 Q181.677 78.7432 181.677 85.8728 Q181.677 92.9792 183.482 96.544 Q185.311 100.086 188.922 100.086 Q192.556 100.086 194.362 96.544 Q196.19 92.9792 196.19 85.8728 Q196.19 78.7432 194.362 75.2015 Q192.556 71.6367 188.922 71.6367 M188.922 67.933 Q194.732 67.933 197.788 72.5395 Q200.866 77.1228 200.866 85.8728 Q200.866 94.5996 197.788 99.206 Q194.732 103.789 188.922 103.789 Q183.112 103.789 180.033 99.206 Q176.977 94.5996 176.977 85.8728 Q176.977 77.1228 180.033 72.5395 Q183.112 67.933 188.922 67.933 Z\" fill=\"#000000\" fill-rule=\"evenodd\" fill-opacity=\"1\" /><path clip-path=\"url(#clip950)\" d=\"M 0 0 M1099.09 1542.9 L1099.09 1545.76 L1072.16 1545.76 Q1072.55 1551.81 1075.79 1554.99 Q1079.07 1558.14 1084.9 1558.14 Q1088.27 1558.14 1091.42 1557.32 Q1094.6 1556.49 1097.72 1554.83 L1097.72 1560.37 Q1094.57 1561.71 1091.26 1562.41 Q1087.95 1563.11 1084.55 1563.11 Q1076.01 1563.11 1071.02 1558.14 Q1066.05 1553.18 1066.05 1544.71 Q1066.05 1535.96 1070.76 1530.83 Q1075.51 1525.68 1083.53 1525.68 Q1090.72 1525.68 1094.89 1530.33 Q1099.09 1534.94 1099.09 1542.9 M1093.23 1541.18 Q1093.17 1536.37 1090.53 1533.51 Q1087.92 1530.64 1083.59 1530.64 Q1078.69 1530.64 1075.73 1533.41 Q1072.8 1536.18 1072.35 1541.21 L1093.23 1541.18 Z\" fill=\"#000000\" fill-rule=\"evenodd\" fill-opacity=\"1\" /><path clip-path=\"url(#clip950)\" d=\"M 0 0 M1110.9 1556.84 L1110.9 1575.74 L1105.01 1575.74 L1105.01 1526.54 L1110.9 1526.54 L1110.9 1531.95 Q1112.75 1528.77 1115.55 1527.24 Q1118.38 1525.68 1122.29 1525.68 Q1128.79 1525.68 1132.83 1530.83 Q1136.9 1535.99 1136.9 1544.39 Q1136.9 1552.8 1132.83 1557.95 Q1128.79 1563.11 1122.29 1563.11 Q1118.38 1563.11 1115.55 1561.58 Q1112.75 1560.02 1110.9 1556.84 M1130.82 1544.39 Q1130.82 1537.93 1128.15 1534.27 Q1125.51 1530.58 1120.86 1530.58 Q1116.21 1530.58 1113.54 1534.27 Q1110.9 1537.93 1110.9 1544.39 Q1110.9 1550.85 1113.54 1554.55 Q1116.21 1558.21 1120.86 1558.21 Q1125.51 1558.21 1128.15 1554.55 Q1130.82 1550.85 1130.82 1544.39 Z\" fill=\"#000000\" fill-rule=\"evenodd\" fill-opacity=\"1\" /><path clip-path=\"url(#clip950)\" d=\"M 0 0 M1156.86 1530.64 Q1152.15 1530.64 1149.41 1534.34 Q1146.67 1538 1146.67 1544.39 Q1146.67 1550.79 1149.38 1554.48 Q1152.12 1558.14 1156.86 1558.14 Q1161.54 1558.14 1164.28 1554.45 Q1167.01 1550.76 1167.01 1544.39 Q1167.01 1538.06 1164.28 1534.37 Q1161.54 1530.64 1156.86 1530.64 M1156.86 1525.68 Q1164.5 1525.68 1168.86 1530.64 Q1173.22 1535.61 1173.22 1544.39 Q1173.22 1553.15 1168.86 1558.14 Q1164.5 1563.11 1156.86 1563.11 Q1149.19 1563.11 1144.83 1558.14 Q1140.5 1553.15 1140.5 1544.39 Q1140.5 1535.61 1144.83 1530.64 Q1149.19 1525.68 1156.86 1525.68 Z\" fill=\"#000000\" fill-rule=\"evenodd\" fill-opacity=\"1\" /><path clip-path=\"url(#clip950)\" d=\"M 0 0 M1205.02 1527.91 L1205.02 1533.38 Q1202.53 1532.01 1200.02 1531.34 Q1197.54 1530.64 1194.99 1530.64 Q1189.29 1530.64 1186.14 1534.27 Q1182.99 1537.87 1182.99 1544.39 Q1182.99 1550.92 1186.14 1554.55 Q1189.29 1558.14 1194.99 1558.14 Q1197.54 1558.14 1200.02 1557.47 Q1202.53 1556.77 1205.02 1555.41 L1205.02 1560.82 Q1202.57 1561.96 1199.92 1562.54 Q1197.31 1563.11 1194.35 1563.11 Q1186.3 1563.11 1181.56 1558.05 Q1176.82 1552.99 1176.82 1544.39 Q1176.82 1535.67 1181.59 1530.68 Q1186.4 1525.68 1194.74 1525.68 Q1197.44 1525.68 1200.02 1526.25 Q1202.6 1526.79 1205.02 1527.91 Z\" fill=\"#000000\" fill-rule=\"evenodd\" fill-opacity=\"1\" /><path clip-path=\"url(#clip950)\" d=\"M 0 0 M1240.79 1540.67 L1240.79 1562.19 L1234.93 1562.19 L1234.93 1540.86 Q1234.93 1535.8 1232.96 1533.29 Q1230.99 1530.77 1227.04 1530.77 Q1222.3 1530.77 1219.56 1533.79 Q1216.82 1536.82 1216.82 1542.04 L1216.82 1562.19 L1210.94 1562.19 L1210.94 1512.66 L1216.82 1512.66 L1216.82 1532.08 Q1218.93 1528.86 1221.76 1527.27 Q1224.62 1525.68 1228.35 1525.68 Q1234.49 1525.68 1237.64 1529.5 Q1240.79 1533.29 1240.79 1540.67 Z\" fill=\"#000000\" fill-rule=\"evenodd\" fill-opacity=\"1\" /><path clip-path=\"url(#clip950)\" d=\"M 0 0 M1269.66 1527.59 L1269.66 1533.13 Q1267.18 1531.85 1264.5 1531.22 Q1261.83 1530.58 1258.97 1530.58 Q1254.6 1530.58 1252.41 1531.92 Q1250.24 1533.25 1250.24 1535.93 Q1250.24 1537.96 1251.8 1539.14 Q1253.36 1540.29 1258.07 1541.34 L1260.08 1541.78 Q1266.32 1543.12 1268.93 1545.57 Q1271.57 1547.99 1271.57 1552.35 Q1271.57 1557.32 1267.62 1560.21 Q1263.71 1563.11 1256.83 1563.11 Q1253.97 1563.11 1250.85 1562.54 Q1247.76 1561.99 1244.32 1560.88 L1244.32 1554.83 Q1247.57 1556.52 1250.72 1557.38 Q1253.87 1558.21 1256.96 1558.21 Q1261.1 1558.21 1263.33 1556.81 Q1265.55 1555.37 1265.55 1552.8 Q1265.55 1550.41 1263.93 1549.14 Q1262.34 1547.86 1256.9 1546.68 L1254.86 1546.21 Q1249.42 1545.06 1247 1542.71 Q1244.58 1540.32 1244.58 1536.18 Q1244.58 1531.15 1248.14 1528.42 Q1251.71 1525.68 1258.27 1525.68 Q1261.51 1525.68 1264.38 1526.16 Q1267.24 1526.63 1269.66 1527.59 Z\" fill=\"#000000\" fill-rule=\"evenodd\" fill-opacity=\"1\" /><path clip-path=\"url(#clip950)\" d=\"M 0 0 M70.212 837.813 Q63.7508 837.813 60.0905 840.486 Q56.3984 843.128 56.3984 847.775 Q56.3984 852.422 60.0905 855.095 Q63.7508 857.737 70.212 857.737 Q76.6732 857.737 80.3653 855.095 Q84.0256 852.422 84.0256 847.775 Q84.0256 843.128 80.3653 840.486 Q76.6732 837.813 70.212 837.813 M57.7671 857.737 Q54.5842 855.891 53.0564 853.09 Q51.4968 850.258 51.4968 846.343 Q51.4968 839.85 56.6531 835.807 Q61.8093 831.733 70.212 831.733 Q78.6147 831.733 83.771 835.807 Q88.9272 839.85 88.9272 846.343 Q88.9272 850.258 87.3994 853.09 Q85.8398 855.891 82.657 857.737 L88.0042 857.737 L88.0042 863.625 L38.479 863.625 L38.479 857.737 L57.7671 857.737 Z\" fill=\"#000000\" fill-rule=\"evenodd\" fill-opacity=\"1\" /><path clip-path=\"url(#clip950)\" d=\"M 0 0 M73.9359 826.195 L52.3562 826.195 L52.3562 820.339 L73.7131 820.339 Q78.7739 820.339 81.3202 818.365 Q83.8346 816.392 83.8346 812.445 Q83.8346 807.703 80.8109 804.966 Q77.7872 802.196 72.5673 802.196 L52.3562 802.196 L52.3562 796.34 L88.0042 796.34 L88.0042 802.196 L82.5296 802.196 Q85.7762 804.329 87.3676 807.162 Q88.9272 809.963 88.9272 813.687 Q88.9272 819.829 85.1078 823.012 Q81.2883 826.195 73.9359 826.195 M51.4968 811.459 L51.4968 811.459 Z\" fill=\"#000000\" fill-rule=\"evenodd\" fill-opacity=\"1\" /><path clip-path=\"url(#clip950)\" d=\"M 0 0 M52.3562 790.197 L52.3562 784.341 L88.0042 784.341 L88.0042 790.197 L52.3562 790.197 M38.479 790.197 L38.479 784.341 L45.895 784.341 L45.895 790.197 L38.479 790.197 Z\" fill=\"#000000\" fill-rule=\"evenodd\" fill-opacity=\"1\" /><path clip-path=\"url(#clip950)\" d=\"M 0 0 M38.479 778.198 L38.479 772.341 L88.0042 772.341 L88.0042 778.198 L38.479 778.198 Z\" fill=\"#000000\" fill-rule=\"evenodd\" fill-opacity=\"1\" /><path clip-path=\"url(#clip950)\" d=\"M 0 0 M57.7671 742.741 L38.479 742.741 L38.479 736.884 L88.0042 736.884 L88.0042 742.741 L82.657 742.741 Q85.8398 744.587 87.3994 747.42 Q88.9272 750.22 88.9272 754.167 Q88.9272 760.628 83.771 764.702 Q78.6147 768.745 70.212 768.745 Q61.8093 768.745 56.6531 764.702 Q51.4968 760.628 51.4968 754.167 Q51.4968 750.22 53.0564 747.42 Q54.5842 744.587 57.7671 742.741 M70.212 762.697 Q76.6732 762.697 80.3653 760.055 Q84.0256 757.382 84.0256 752.735 Q84.0256 748.088 80.3653 745.414 Q76.6732 742.741 70.212 742.741 Q63.7508 742.741 60.0905 745.414 Q56.3984 748.088 56.3984 752.735 Q56.3984 757.382 60.0905 760.055 Q63.7508 762.697 70.212 762.697 Z\" fill=\"#000000\" fill-rule=\"evenodd\" fill-opacity=\"1\" /><path clip-path=\"url(#clip950)\" d=\"M 0 0 M68.7161 700.25 L71.5806 700.25 L71.5806 727.177 Q77.6281 726.795 80.8109 723.548 Q83.9619 720.27 83.9619 714.445 Q83.9619 711.071 83.1344 707.92 Q82.3069 704.737 80.6518 701.618 L86.1899 701.618 Q87.5267 704.769 88.227 708.079 Q88.9272 711.39 88.9272 714.795 Q88.9272 723.325 83.9619 728.322 Q78.9967 733.288 70.5303 733.288 Q61.7774 733.288 56.6531 728.577 Q51.4968 723.835 51.4968 715.814 Q51.4968 708.621 56.1438 704.451 Q60.7589 700.25 68.7161 700.25 M66.9973 706.106 Q62.1912 706.17 59.3266 708.812 Q56.4621 711.421 56.4621 715.75 Q56.4621 720.652 59.2312 723.612 Q62.0002 726.54 67.0292 726.986 L66.9973 706.106 Z\" fill=\"#000000\" fill-rule=\"evenodd\" fill-opacity=\"1\" /><path clip-path=\"url(#clip950)\" d=\"M 0 0 M57.8307 673.45 Q57.2578 674.437 57.0032 675.614 Q56.7167 676.76 56.7167 678.161 Q56.7167 683.126 59.9632 685.799 Q63.1779 688.441 69.2253 688.441 L88.0042 688.441 L88.0042 694.33 L52.3562 694.33 L52.3562 688.441 L57.8944 688.441 Q54.6479 686.595 53.0883 683.635 Q51.4968 680.675 51.4968 676.442 Q51.4968 675.837 51.5923 675.105 Q51.656 674.373 51.8151 673.482 L57.8307 673.45 Z\" fill=\"#000000\" fill-rule=\"evenodd\" fill-opacity=\"1\" /><path clip-path=\"url(#clip950)\" d=\"M 0 0 M79.9197 672.463 L79.9197 665.748 L88.0042 665.748 L88.0042 672.463 L79.9197 672.463 Z\" fill=\"#000000\" fill-rule=\"evenodd\" fill-opacity=\"1\" /><path clip-path=\"url(#clip950)\" d=\"M 0 0 M66.4881 629.972 L88.0042 629.972 L88.0042 635.829 L66.679 635.829 Q61.6183 635.829 59.1038 637.802 Q56.5894 639.775 56.5894 643.722 Q56.5894 648.465 59.6131 651.202 Q62.6368 653.939 67.8567 653.939 L88.0042 653.939 L88.0042 659.827 L52.3562 659.827 L52.3562 653.939 L57.8944 653.939 Q54.6797 651.838 53.0883 649.006 Q51.4968 646.141 51.4968 642.417 Q51.4968 636.274 55.3163 633.123 Q59.1038 629.972 66.4881 629.972 Z\" fill=\"#000000\" fill-rule=\"evenodd\" fill-opacity=\"1\" /><path clip-path=\"url(#clip950)\" d=\"M 0 0 M82.5933 621.888 L82.5933 611.384 L46.3406 611.384 L48.6323 622.811 L42.7758 622.811 L40.4842 611.448 L40.4842 605.019 L82.5933 605.019 L82.5933 594.515 L88.0042 594.515 L88.0042 621.888 L82.5933 621.888 Z\" fill=\"#000000\" fill-rule=\"evenodd\" fill-opacity=\"1\" /><circle clip-path=\"url(#clip952)\" cx=\"784.289\" cy=\"85.838\" r=\"13\" fill=\"#30095c\" fill-rule=\"evenodd\" fill-opacity=\"1\" stroke=\"#000000\" stroke-opacity=\"1\" stroke-width=\"3.2\"/>\n",
       "<circle clip-path=\"url(#clip952)\" cx=\"1296.17\" cy=\"1190.38\" r=\"7\" fill=\"#0b0724\" fill-rule=\"evenodd\" fill-opacity=\"1\" stroke=\"#000000\" stroke-opacity=\"1\" stroke-width=\"3.2\"/>\n",
       "<circle clip-path=\"url(#clip952)\" cx=\"278.297\" cy=\"1008.45\" r=\"56\" fill=\"#f5d746\" fill-rule=\"evenodd\" fill-opacity=\"1\" stroke=\"#000000\" stroke-opacity=\"1\" stroke-width=\"3.2\"/>\n",
       "<circle clip-path=\"url(#clip952)\" cx=\"278.297\" cy=\"267.762\" r=\"55\" fill=\"#f7ce39\" fill-rule=\"evenodd\" fill-opacity=\"1\" stroke=\"#000000\" stroke-opacity=\"1\" stroke-width=\"3.2\"/>\n",
       "<circle clip-path=\"url(#clip952)\" cx=\"1804.93\" cy=\"267.762\" r=\"4\" fill=\"#02010c\" fill-rule=\"evenodd\" fill-opacity=\"1\" stroke=\"#000000\" stroke-opacity=\"1\" stroke-width=\"3.2\"/>\n",
       "<circle clip-path=\"url(#clip952)\" cx=\"1804.93\" cy=\"631.611\" r=\"5\" fill=\"#02020f\" fill-rule=\"evenodd\" fill-opacity=\"1\" stroke=\"#000000\" stroke-opacity=\"1\" stroke-width=\"3.2\"/>\n",
       "<circle clip-path=\"url(#clip952)\" cx=\"1296.17\" cy=\"1008.45\" r=\"7\" fill=\"#080620\" fill-rule=\"evenodd\" fill-opacity=\"1\" stroke=\"#000000\" stroke-opacity=\"1\" stroke-width=\"3.2\"/>\n",
       "<circle clip-path=\"url(#clip952)\" cx=\"1041.76\" cy=\"631.611\" r=\"9\" fill=\"#130a33\" fill-rule=\"evenodd\" fill-opacity=\"1\" stroke=\"#000000\" stroke-opacity=\"1\" stroke-width=\"3.2\"/>\n",
       "<circle clip-path=\"url(#clip952)\" cx=\"1296.17\" cy=\"631.611\" r=\"6\" fill=\"#06041a\" fill-rule=\"evenodd\" fill-opacity=\"1\" stroke=\"#000000\" stroke-opacity=\"1\" stroke-width=\"3.2\"/>\n",
       "<circle clip-path=\"url(#clip952)\" cx=\"2059.33\" cy=\"85.838\" r=\"3\" fill=\"#000003\" fill-rule=\"evenodd\" fill-opacity=\"1\" stroke=\"#000000\" stroke-opacity=\"1\" stroke-width=\"3.2\"/>\n",
       "<circle clip-path=\"url(#clip952)\" cx=\"1804.93\" cy=\"1372.3\" r=\"6\" fill=\"#040316\" fill-rule=\"evenodd\" fill-opacity=\"1\" stroke=\"#000000\" stroke-opacity=\"1\" stroke-width=\"3.2\"/>\n",
       "<circle clip-path=\"url(#clip952)\" cx=\"278.297\" cy=\"826.53\" r=\"54\" fill=\"#f9c42b\" fill-rule=\"evenodd\" fill-opacity=\"1\" stroke=\"#000000\" stroke-opacity=\"1\" stroke-width=\"3.2\"/>\n",
       "<circle clip-path=\"url(#clip952)\" cx=\"526.531\" cy=\"631.611\" r=\"51\" fill=\"#fbb115\" fill-rule=\"evenodd\" fill-opacity=\"1\" stroke=\"#000000\" stroke-opacity=\"1\" stroke-width=\"3.2\"/>\n",
       "<circle clip-path=\"url(#clip952)\" cx=\"2059.33\" cy=\"826.53\" r=\"3\" fill=\"#000004\" fill-rule=\"evenodd\" fill-opacity=\"1\" stroke=\"#000000\" stroke-opacity=\"1\" stroke-width=\"3.2\"/>\n",
       "<circle clip-path=\"url(#clip952)\" cx=\"278.297\" cy=\"85.838\" r=\"54\" fill=\"#f9c72f\" fill-rule=\"evenodd\" fill-opacity=\"1\" stroke=\"#000000\" stroke-opacity=\"1\" stroke-width=\"3.2\"/>\n",
       "<circle clip-path=\"url(#clip952)\" cx=\"1296.17\" cy=\"449.687\" r=\"6\" fill=\"#06051b\" fill-rule=\"evenodd\" fill-opacity=\"1\" stroke=\"#000000\" stroke-opacity=\"1\" stroke-width=\"3.2\"/>\n",
       "<circle clip-path=\"url(#clip952)\" cx=\"2059.33\" cy=\"1190.38\" r=\"4\" fill=\"#01010b\" fill-rule=\"evenodd\" fill-opacity=\"1\" stroke=\"#000000\" stroke-opacity=\"1\" stroke-width=\"3.2\"/>\n",
       "<circle clip-path=\"url(#clip952)\" cx=\"278.297\" cy=\"631.611\" r=\"56\" fill=\"#f4de52\" fill-rule=\"evenodd\" fill-opacity=\"1\" stroke=\"#000000\" stroke-opacity=\"1\" stroke-width=\"3.2\"/>\n",
       "<circle clip-path=\"url(#clip952)\" cx=\"1550.07\" cy=\"1190.38\" r=\"5\" fill=\"#040314\" fill-rule=\"evenodd\" fill-opacity=\"1\" stroke=\"#000000\" stroke-opacity=\"1\" stroke-width=\"3.2\"/>\n",
       "<circle clip-path=\"url(#clip952)\" cx=\"784.289\" cy=\"1008.45\" r=\"23\" fill=\"#71196d\" fill-rule=\"evenodd\" fill-opacity=\"1\" stroke=\"#000000\" stroke-opacity=\"1\" stroke-width=\"3.2\"/>\n",
       "<circle clip-path=\"url(#clip952)\" cx=\"1550.07\" cy=\"1372.3\" r=\"9\" fill=\"#140b36\" fill-rule=\"evenodd\" fill-opacity=\"1\" stroke=\"#000000\" stroke-opacity=\"1\" stroke-width=\"3.2\"/>\n",
       "<circle clip-path=\"url(#clip952)\" cx=\"784.289\" cy=\"1372.3\" r=\"53\" fill=\"#f9c32a\" fill-rule=\"evenodd\" fill-opacity=\"1\" stroke=\"#000000\" stroke-opacity=\"1\" stroke-width=\"3.2\"/>\n",
       "<circle clip-path=\"url(#clip952)\" cx=\"526.531\" cy=\"1190.38\" r=\"54\" fill=\"#f8c932\" fill-rule=\"evenodd\" fill-opacity=\"1\" stroke=\"#000000\" stroke-opacity=\"1\" stroke-width=\"3.2\"/>\n",
       "<circle clip-path=\"url(#clip952)\" cx=\"1804.93\" cy=\"1190.38\" r=\"5\" fill=\"#030212\" fill-rule=\"evenodd\" fill-opacity=\"1\" stroke=\"#000000\" stroke-opacity=\"1\" stroke-width=\"3.2\"/>\n",
       "<circle clip-path=\"url(#clip952)\" cx=\"1804.93\" cy=\"1008.45\" r=\"5\" fill=\"#030212\" fill-rule=\"evenodd\" fill-opacity=\"1\" stroke=\"#000000\" stroke-opacity=\"1\" stroke-width=\"3.2\"/>\n",
       "<circle clip-path=\"url(#clip952)\" cx=\"1296.17\" cy=\"85.838\" r=\"6\" fill=\"#060419\" fill-rule=\"evenodd\" fill-opacity=\"1\" stroke=\"#000000\" stroke-opacity=\"1\" stroke-width=\"3.2\"/>\n",
       "<circle clip-path=\"url(#clip952)\" cx=\"784.289\" cy=\"631.611\" r=\"19\" fill=\"#5b116d\" fill-rule=\"evenodd\" fill-opacity=\"1\" stroke=\"#000000\" stroke-opacity=\"1\" stroke-width=\"3.2\"/>\n",
       "<circle clip-path=\"url(#clip952)\" cx=\"1804.93\" cy=\"449.687\" r=\"5\" fill=\"#02010d\" fill-rule=\"evenodd\" fill-opacity=\"1\" stroke=\"#000000\" stroke-opacity=\"1\" stroke-width=\"3.2\"/>\n",
       "<circle clip-path=\"url(#clip952)\" cx=\"1550.07\" cy=\"631.611\" r=\"5\" fill=\"#030313\" fill-rule=\"evenodd\" fill-opacity=\"1\" stroke=\"#000000\" stroke-opacity=\"1\" stroke-width=\"3.2\"/>\n",
       "<circle clip-path=\"url(#clip952)\" cx=\"526.531\" cy=\"449.687\" r=\"41\" fill=\"#e75e2d\" fill-rule=\"evenodd\" fill-opacity=\"1\" stroke=\"#000000\" stroke-opacity=\"1\" stroke-width=\"3.2\"/>\n",
       "<circle clip-path=\"url(#clip952)\" cx=\"1041.76\" cy=\"1190.38\" r=\"11\" fill=\"#1e0c45\" fill-rule=\"evenodd\" fill-opacity=\"1\" stroke=\"#000000\" stroke-opacity=\"1\" stroke-width=\"3.2\"/>\n",
       "<circle clip-path=\"url(#clip952)\" cx=\"2059.33\" cy=\"1372.3\" r=\"5\" fill=\"#02020e\" fill-rule=\"evenodd\" fill-opacity=\"1\" stroke=\"#000000\" stroke-opacity=\"1\" stroke-width=\"3.2\"/>\n",
       "<circle clip-path=\"url(#clip952)\" cx=\"2059.33\" cy=\"449.687\" r=\"3\" fill=\"#000003\" fill-rule=\"evenodd\" fill-opacity=\"1\" stroke=\"#000000\" stroke-opacity=\"1\" stroke-width=\"3.2\"/>\n",
       "<circle clip-path=\"url(#clip952)\" cx=\"1041.76\" cy=\"826.53\" r=\"9\" fill=\"#140a35\" fill-rule=\"evenodd\" fill-opacity=\"1\" stroke=\"#000000\" stroke-opacity=\"1\" stroke-width=\"3.2\"/>\n",
       "<circle clip-path=\"url(#clip952)\" cx=\"1041.76\" cy=\"449.687\" r=\"9\" fill=\"#110a31\" fill-rule=\"evenodd\" fill-opacity=\"1\" stroke=\"#000000\" stroke-opacity=\"1\" stroke-width=\"3.2\"/>\n",
       "<circle clip-path=\"url(#clip952)\" cx=\"1296.17\" cy=\"1372.3\" r=\"17\" fill=\"#4e0c6b\" fill-rule=\"evenodd\" fill-opacity=\"1\" stroke=\"#000000\" stroke-opacity=\"1\" stroke-width=\"3.2\"/>\n",
       "<circle clip-path=\"url(#clip952)\" cx=\"1041.76\" cy=\"85.838\" r=\"8\" fill=\"#10092f\" fill-rule=\"evenodd\" fill-opacity=\"1\" stroke=\"#000000\" stroke-opacity=\"1\" stroke-width=\"3.2\"/>\n",
       "<circle clip-path=\"url(#clip952)\" cx=\"1041.76\" cy=\"1372.3\" r=\"53\" fill=\"#f9c32a\" fill-rule=\"evenodd\" fill-opacity=\"1\" stroke=\"#000000\" stroke-opacity=\"1\" stroke-width=\"3.2\"/>\n",
       "<circle clip-path=\"url(#clip952)\" cx=\"278.297\" cy=\"449.687\" r=\"54\" fill=\"#f8cc35\" fill-rule=\"evenodd\" fill-opacity=\"1\" stroke=\"#000000\" stroke-opacity=\"1\" stroke-width=\"3.2\"/>\n",
       "<circle clip-path=\"url(#clip952)\" cx=\"1041.76\" cy=\"267.762\" r=\"8\" fill=\"#0f092d\" fill-rule=\"evenodd\" fill-opacity=\"1\" stroke=\"#000000\" stroke-opacity=\"1\" stroke-width=\"3.2\"/>\n",
       "<circle clip-path=\"url(#clip952)\" cx=\"784.289\" cy=\"1190.38\" r=\"38\" fill=\"#d74b3e\" fill-rule=\"evenodd\" fill-opacity=\"1\" stroke=\"#000000\" stroke-opacity=\"1\" stroke-width=\"3.2\"/>\n",
       "<circle clip-path=\"url(#clip952)\" cx=\"1804.93\" cy=\"85.838\" r=\"4\" fill=\"#02010c\" fill-rule=\"evenodd\" fill-opacity=\"1\" stroke=\"#000000\" stroke-opacity=\"1\" stroke-width=\"3.2\"/>\n",
       "<circle clip-path=\"url(#clip952)\" cx=\"278.297\" cy=\"1190.38\" r=\"58\" fill=\"#f1ee72\" fill-rule=\"evenodd\" fill-opacity=\"1\" stroke=\"#000000\" stroke-opacity=\"1\" stroke-width=\"3.2\"/>\n",
       "<circle clip-path=\"url(#clip952)\" cx=\"278.297\" cy=\"1372.3\" r=\"61\" fill=\"#fcfea4\" fill-rule=\"evenodd\" fill-opacity=\"1\" stroke=\"#000000\" stroke-opacity=\"1\" stroke-width=\"3.2\"/>\n",
       "<circle clip-path=\"url(#clip952)\" cx=\"526.531\" cy=\"826.53\" r=\"50\" fill=\"#fba70c\" fill-rule=\"evenodd\" fill-opacity=\"1\" stroke=\"#000000\" stroke-opacity=\"1\" stroke-width=\"3.2\"/>\n",
       "<circle clip-path=\"url(#clip952)\" cx=\"1804.93\" cy=\"826.53\" r=\"5\" fill=\"#030210\" fill-rule=\"evenodd\" fill-opacity=\"1\" stroke=\"#000000\" stroke-opacity=\"1\" stroke-width=\"3.2\"/>\n",
       "<circle clip-path=\"url(#clip952)\" cx=\"2059.33\" cy=\"267.762\" r=\"3\" fill=\"#000004\" fill-rule=\"evenodd\" fill-opacity=\"1\" stroke=\"#000000\" stroke-opacity=\"1\" stroke-width=\"3.2\"/>\n",
       "<circle clip-path=\"url(#clip952)\" cx=\"1550.07\" cy=\"1008.45\" r=\"5\" fill=\"#030313\" fill-rule=\"evenodd\" fill-opacity=\"1\" stroke=\"#000000\" stroke-opacity=\"1\" stroke-width=\"3.2\"/>\n",
       "<circle clip-path=\"url(#clip952)\" cx=\"1550.07\" cy=\"449.687\" r=\"5\" fill=\"#030313\" fill-rule=\"evenodd\" fill-opacity=\"1\" stroke=\"#000000\" stroke-opacity=\"1\" stroke-width=\"3.2\"/>\n",
       "<circle clip-path=\"url(#clip952)\" cx=\"526.531\" cy=\"85.838\" r=\"43\" fill=\"#ee6b22\" fill-rule=\"evenodd\" fill-opacity=\"1\" stroke=\"#000000\" stroke-opacity=\"1\" stroke-width=\"3.2\"/>\n",
       "<circle clip-path=\"url(#clip952)\" cx=\"784.289\" cy=\"267.762\" r=\"15\" fill=\"#3a0963\" fill-rule=\"evenodd\" fill-opacity=\"1\" stroke=\"#000000\" stroke-opacity=\"1\" stroke-width=\"3.2\"/>\n",
       "<circle clip-path=\"url(#clip952)\" cx=\"526.531\" cy=\"1372.3\" r=\"55\" fill=\"#f7d23e\" fill-rule=\"evenodd\" fill-opacity=\"1\" stroke=\"#000000\" stroke-opacity=\"1\" stroke-width=\"3.2\"/>\n",
       "<circle clip-path=\"url(#clip952)\" cx=\"526.531\" cy=\"267.762\" r=\"45\" fill=\"#f37719\" fill-rule=\"evenodd\" fill-opacity=\"1\" stroke=\"#000000\" stroke-opacity=\"1\" stroke-width=\"3.2\"/>\n",
       "<circle clip-path=\"url(#clip952)\" cx=\"2059.33\" cy=\"631.611\" r=\"3\" fill=\"#000004\" fill-rule=\"evenodd\" fill-opacity=\"1\" stroke=\"#000000\" stroke-opacity=\"1\" stroke-width=\"3.2\"/>\n",
       "<circle clip-path=\"url(#clip952)\" cx=\"526.531\" cy=\"1008.45\" r=\"54\" fill=\"#f8cc36\" fill-rule=\"evenodd\" fill-opacity=\"1\" stroke=\"#000000\" stroke-opacity=\"1\" stroke-width=\"3.2\"/>\n",
       "<circle clip-path=\"url(#clip952)\" cx=\"2059.33\" cy=\"1008.45\" r=\"4\" fill=\"#000006\" fill-rule=\"evenodd\" fill-opacity=\"1\" stroke=\"#000000\" stroke-opacity=\"1\" stroke-width=\"3.2\"/>\n",
       "<circle clip-path=\"url(#clip952)\" cx=\"784.289\" cy=\"449.687\" r=\"16\" fill=\"#430a68\" fill-rule=\"evenodd\" fill-opacity=\"1\" stroke=\"#000000\" stroke-opacity=\"1\" stroke-width=\"3.2\"/>\n",
       "<circle clip-path=\"url(#clip952)\" cx=\"1550.07\" cy=\"267.762\" r=\"5\" fill=\"#030313\" fill-rule=\"evenodd\" fill-opacity=\"1\" stroke=\"#000000\" stroke-opacity=\"1\" stroke-width=\"3.2\"/>\n",
       "<circle clip-path=\"url(#clip952)\" cx=\"1296.17\" cy=\"267.762\" r=\"6\" fill=\"#06041a\" fill-rule=\"evenodd\" fill-opacity=\"1\" stroke=\"#000000\" stroke-opacity=\"1\" stroke-width=\"3.2\"/>\n",
       "<circle clip-path=\"url(#clip952)\" cx=\"1550.07\" cy=\"85.838\" r=\"5\" fill=\"#030211\" fill-rule=\"evenodd\" fill-opacity=\"1\" stroke=\"#000000\" stroke-opacity=\"1\" stroke-width=\"3.2\"/>\n",
       "<circle clip-path=\"url(#clip952)\" cx=\"1041.76\" cy=\"1008.45\" r=\"10\" fill=\"#1b0c42\" fill-rule=\"evenodd\" fill-opacity=\"1\" stroke=\"#000000\" stroke-opacity=\"1\" stroke-width=\"3.2\"/>\n",
       "<circle clip-path=\"url(#clip952)\" cx=\"784.289\" cy=\"826.53\" r=\"19\" fill=\"#58106d\" fill-rule=\"evenodd\" fill-opacity=\"1\" stroke=\"#000000\" stroke-opacity=\"1\" stroke-width=\"3.2\"/>\n",
       "<circle clip-path=\"url(#clip952)\" cx=\"1550.07\" cy=\"826.53\" r=\"5\" fill=\"#030212\" fill-rule=\"evenodd\" fill-opacity=\"1\" stroke=\"#000000\" stroke-opacity=\"1\" stroke-width=\"3.2\"/>\n",
       "<circle clip-path=\"url(#clip952)\" cx=\"1296.17\" cy=\"826.53\" r=\"6\" fill=\"#07051d\" fill-rule=\"evenodd\" fill-opacity=\"1\" stroke=\"#000000\" stroke-opacity=\"1\" stroke-width=\"3.2\"/>\n",
       "<defs>\n",
       "  <clipPath id=\"clip953\">\n",
       "    <rect x=\"2160\" y=\"47\" width=\"73\" height=\"1365\"/>\n",
       "  </clipPath>\n",
       "</defs>\n",
       "<g clip-path=\"url(#clip953)\">\n",
       "<image width=\"72\" height=\"1364\" xlink:href=\"data:image/png;base64,\n",
       "iVBORw0KGgoAAAANSUhEUgAAAEgAAAVUCAYAAABzwV4AAAAL0klEQVR4nO3dwY3sRhAFQY5Q/lsh\n",
       "L6XfLQtUeSQPERYsEg+zZJM7+/v3/H0f/tdfb/8AXydQECgIFAQKc+6/b/8Mn2ZBQaAgUBAozL1/\n",
       "3v4ZPs2CgkBBoCBQcCUdLCgIFAQKAgWBwly/xVYWFAQKAgWBwtzjQ3pjQUGgIFAQKLiSDhYUBAoC\n",
       "BYGCQMFvsWBBQaAgUBAoOA8KFhQECgIFgcI8rqRXFhQECgIFgYJAwXlQsKAgUBAoCBTmcR60sqAg\n",
       "UBAoCBTmOf+8/TN8mgUFgYJAQaAgUPBUI1hQECgIFAQKzoOCBQWBgkBBoOBDOlhQECgIFAQKAgXn\n",
       "QcGCgkBBoCBQmJ9bjZUFBYGCQEGgMM/xpf8bCwoCBYGCQEGg4FYjWFAQKAgUBApuNYIFBYGCQEGg\n",
       "4P2gYEFBoCBQECgIFObnVmNlQUGgIFAQKHiJM1hQECgIFAQKrqSDBQWBgkBBoCBQ8Og5WFAQKAgU\n",
       "BApuNYIFBYGCQEGg4Eo6WFAQKAgUBAoCBbcawYKCQEGgIFCY55y3f4ZPs6AgUBAoCBRcSQcLCgIF\n",
       "gYJAQaDgqUawoCBQECgIFHxIBwsKAgWBgkBhfg7tVxYUBAoCBYGCQMGtRrCgIFAQKAgUvB8ULCgI\n",
       "FAQKAgXnQcGCgkBBoCBQECg4DwoWFAQKAgWBgvOgYEFBoCBQECj4kA4WFAQKAgWBgkDBXz0HCwoC\n",
       "BYGCQMGtRrCgIFAQKAgUfEgHCwoCBYGCQEGg4LdYsKAgUBAoCBR8SAcLCgIFgYJAYZ7rQ3pjQUGg\n",
       "IFAQKAgU3GoECwoCBYGCQMGHdLCgIFAQKAgUfEgHCwoCBYGCQEGgMM+5b/8Mn2ZBQaAgUBAouNUI\n",
       "FhQECgIFgYIr6WBBQaAgUBAoCBTcagQLCgIFgYJAwa1GsKAgUBAoCBTmcSG9sqAgUBAoCBQECvNc\n",
       "txobCwoCBYGCQMGtRrCgIFAQKAgUfEgHCwoCBYGCQEGgML4Eb2dBQaAgUBAouNUIFhQECgIFgYIP\n",
       "6WBBQaAgUBAoCBTmOb+3f4ZPs6AgUBAoCBTmXh/SGwsKAgWBgkDBeVCwoCBQECgIFBx3BAsKAgWB\n",
       "gkBBoDD3aLRRJwgUBAoCBbcawYKCQEGgIFCYx5PVlQUFgYJAQaAgUJjrVmNlQUGgIFAQKMzj0H6l\n",
       "ThAoCBQECq6kgwUFgYJAQaAgUPBUI1hQECgIFAQKXuIM6gSBgkBBoOAlzmBBQaAgUBAoCBQ81QgW\n",
       "FAQKAgWBwtyr0UadIFAQKAgUnAcFCwoCBYGCQEGg4DwoWFAQKAgUBArzOA9aqRMECgIFgYIr6WBB\n",
       "QaAgUBAoCBT8FgsWFAQKAgWBgj/qDRYUBAoCBYGCP+oN6gSBgkBBoCBQ8P/mgwUFgYJAQaDg0D5Y\n",
       "UBAoCBQECr70P6gTBAoCBYGCQMF5ULCgIFAQKAgUnAcFCwoCBYGCQMGVdLCgIFAQKAgUBArecg3q\n",
       "BIGCQEGg4FYjWFAQKAgUBAoO7YMFBYGCQEGgIFBwqxEsKAgUBAoCBf+6JlhQECgIFAQK/glkUCcI\n",
       "FAQKAgWBgvOgYEFBoCBQECh49BwsKAgUBAoCBVfSwYKCQEGgIFAQKMzxW2xlQUGgIFAQKPij3qBO\n",
       "ECgIFAQKzoOCBQWBgkBBoCBQ8FssWFAQKAgUBAreDwoWFAQKAgWBgivpYEFBoCBQECgIFPwWCxYU\n",
       "BAoCBYGCr6YI6gSBgkBBoDDHof3KgoJAQaAgUBAoOA8KFhQECgIFgYIP6WBBQaAgUBAo+JAOFhQE\n",
       "CgIFgYJAwfcHBQsKAgWBgkDBrUawoCBQECgIFHxIBwsKAgWBgkBBoOBPEYI6QaAgUBAo+FOEYEFB\n",
       "oCBQECg4DwoWFAQKAgWBgkDBb7FgQUGgIFAQKHiJM1hQECgIFAQKrqSDBQWBgkBBoCBQmPv4Lbax\n",
       "oCBQECgIFJwHBQsKAgWBgkDBeVCwoCBQECgIFAQKbjWCBQWBgkBBoOBWI1hQECgIFAQKrqSDBQWB\n",
       "gkBBoCBQcKsRLCgIFAQKAgUf0sGCgkBBoCBQmONN+5UFBYGCQEGg4Eo6WFAQKAgUBAoCBY+egwUF\n",
       "gYJAQaAw9779I3ybBQWBgkBBoOBKOlhQECgIFAQKAgVf8hYsKAgUBAoCBbcawYKCQEGgIFDwflCw\n",
       "oCBQECgIFAQK/hQhWFAQKAgUBAreDwoWFAQKAgWBgkP7YEFBoCBQECgIFDzVCBYUBAoCBYGCQ/tg\n",
       "QUGgIFAQKDgPChYUBAoCBYGCQMGj52BBQaAgUBAoOA8KFhQECgIFgYInq8GCgkBBoCBQECjMefsn\n",
       "+DgLCgIFgYJAwa1GsKAgUBAoCBS8HxQsKAgUBAoCBYGC86BgQUGgIFAQKDgPChYUBAoCBYGCK+lg\n",
       "QUGgIFAQKAgU3GoECwoCBYGCQMGj52BBQaAgUBAojC9e2FlQECgIFAQKAgW3GsGCgkBBoCBQ8Og5\n",
       "WFAQKAgUBAqerAYLCgIFgYJAQaDgViNYUBAoCBQECm41ggUFgYJAQaAwxwtCKwsKAgWBgkBBoOA8\n",
       "KFhQECgIFAQKzoOCBQWBgkBBoOBKOlhQECgIFAQKAgX/bz5YUBAoCBQECv7ffLCgIFAQKAgUvB8U\n",
       "LCgIFAQKAgWBgm/BCxYUBAoCBYGCL3kLFhQECgIFgYInq8GCgkBBoCBQECh4yzVYUBAoCBQECv5e\n",
       "LFhQECgIFAQKrqSDBQWBgkBBoCBQ8JZrsKAgUBAoCBS8xBksKAgUBAoCBVfSwYKCQEGgIFAQKHjL\n",
       "NVhQECgIFAQKvj8oWFAQKAgUBArOg4IFBYGCQEGgIFDw6DlYUBAoCBQECm41ggUFgYJAQaDgSjpY\n",
       "UBAoCBQECgIFtxrBgoJAQaAgUPAhHSwoCBQECgIF50HBgoJAQaAgUBAouNUIFhQECgIFgYJbjWBB\n",
       "QaAgUBAouJIOFhQECgIFgYJAwfcHBQsKAgWBgkDBv64JFhQECgIFgYLzoGBBQaAgUBAoCBTmPn6N\n",
       "bSwoCBQECgIFtxrBgoJAQaAgUPBkNVhQECgIFAQKnqwGCwoCBYGCQEGg4DwoWFAQKAgUBAqerAYL\n",
       "CgIFgYJAwZV0sKAgUBAoCBQECr4/KFhQECgIFAQKc7wgtLKgIFAQKAgUvB8ULCgIFAQKAgWBwly3\n",
       "GisLCgIFgYJAwa1GsKAgUBAoCBQc2gcLCgIFgYJAQaDg/aBgQUGgIFAQKMzx92IrCwoCBYGCQMF5\n",
       "ULCgIFAQKAgUBAq+miJYUBAoCBQECt4PChYUBAoCBYGCQ/tgQUGgIFAQKAgUnAcFCwoCBYGCQGHO\n",
       "40RoY0FBoCBQECg4DwoWFAQKAgWBgkDBb7FgQUGgIFAQKDi0DxYUBAoCBYGCQ/tgQUGgIFAQKAgU\n",
       "5vzcamwsKAgUBAoCBbcawYKCQEGgIFCY60N6ZUFBoCBQECgIFNxqBAsKAgWBgkBhzs+H9MaCgkBB\n",
       "oCBQcCUdLCgIFAQKAgWBgqcawYKCQEGgIFBwqxEsKAgUBAoCBR/SwYKCQEGgIFAQKHj0HCwoCBQE\n",
       "CgKFuc+ft3+GT7OgIFAQKAgUnAcFCwoCBYGCQEGg4P2gYEFBoCBQECjMuc6DNhYUBAoCBYGCK+lg\n",
       "QUGgIFAQKAgU5nj0vLKgIFAQKAgU3GoECwoCBYGCQMGVdLCgIFAQKAgUBApzr1uNjQUFgYJAQaDg\n",
       "PChYUBAoCBQECl7iDBYUBAoCBYGCQMGtRrCgIFAQKAgU5rrVWFlQECgIFAQKrqSDBQWBgkBBoCBQ\n",
       "mOP9oJUFBYGCQEGg4PukgwUFgYJAQaDgTftgQUGgIFAQKAgUPNUIFhQECgIFgYJbjWBBQaAgUBAo\n",
       "+JAOFhQECgIFgYJAwaPnYEFBoCBQECi41QgWFAQKAgWBwjyerK4sKAgUBAoCBYGCW41gQUGgIFAQ\n",
       "KHiJM1hQECgIFAQK87iSXllQECgIFAQKAgXvBwULCgIFgYJAwaPnYEFBoCBQECg4DwoWFAQKAgWB\n",
       "gkBh7nPf/hk+zYKCQEGgIFBwHhQsKAgUBAoChXlcSa8sKAgUBAoChf8AJ8ztt7m0cDkAAAAASUVO\n",
       "RK5CYII=\n",
       "\" transform=\"translate(2161, 47)\"/>\n",
       "</g>\n",
       "<path clip-path=\"url(#clip950)\" d=\"M 0 0 M2280.7 1197.49 Q2277.09 1197.49 2275.26 1201.05 Q2273.45 1204.59 2273.45 1211.72 Q2273.45 1218.83 2275.26 1222.39 Q2277.09 1225.94 2280.7 1225.94 Q2284.33 1225.94 2286.14 1222.39 Q2287.97 1218.83 2287.97 1211.72 Q2287.97 1204.59 2286.14 1201.05 Q2284.33 1197.49 2280.7 1197.49 M2280.7 1193.78 Q2286.51 1193.78 2289.57 1198.39 Q2292.64 1202.97 2292.64 1211.72 Q2292.64 1220.45 2289.57 1225.06 Q2286.51 1229.64 2280.7 1229.64 Q2274.89 1229.64 2271.81 1225.06 Q2268.76 1220.45 2268.76 1211.72 Q2268.76 1202.97 2271.81 1198.39 Q2274.89 1193.78 2280.7 1193.78 Z\" fill=\"#000000\" fill-rule=\"evenodd\" fill-opacity=\"1\" /><path clip-path=\"url(#clip950)\" d=\"M 0 0 M2297.71 1223.09 L2302.6 1223.09 L2302.6 1228.97 L2297.71 1228.97 L2297.71 1223.09 Z\" fill=\"#000000\" fill-rule=\"evenodd\" fill-opacity=\"1\" /><path clip-path=\"url(#clip950)\" d=\"M 0 0 M2306.49 1194.41 L2328.71 1194.41 L2328.71 1196.4 L2316.16 1228.97 L2311.28 1228.97 L2323.08 1198.34 L2306.49 1198.34 L2306.49 1194.41 Z\" fill=\"#000000\" fill-rule=\"evenodd\" fill-opacity=\"1\" /><path clip-path=\"url(#clip950)\" d=\"M 0 0 M2343.78 1197.49 Q2340.17 1197.49 2338.34 1201.05 Q2336.53 1204.59 2336.53 1211.72 Q2336.53 1218.83 2338.34 1222.39 Q2340.17 1225.94 2343.78 1225.94 Q2347.41 1225.94 2349.22 1222.39 Q2351.05 1218.83 2351.05 1211.72 Q2351.05 1204.59 2349.22 1201.05 Q2347.41 1197.49 2343.78 1197.49 M2343.78 1193.78 Q2349.59 1193.78 2352.64 1198.39 Q2355.72 1202.97 2355.72 1211.72 Q2355.72 1220.45 2352.64 1225.06 Q2349.59 1229.64 2343.78 1229.64 Q2337.97 1229.64 2334.89 1225.06 Q2331.83 1220.45 2331.83 1211.72 Q2331.83 1202.97 2334.89 1198.39 Q2337.97 1193.78 2343.78 1193.78 Z\" fill=\"#000000\" fill-rule=\"evenodd\" fill-opacity=\"1\" /><path clip-path=\"url(#clip950)\" d=\"M 0 0 M2280.7 989.236 Q2277.09 989.236 2275.26 992.801 Q2273.45 996.342 2273.45 1003.47 Q2273.45 1010.58 2275.26 1014.14 Q2277.09 1017.68 2280.7 1017.68 Q2284.33 1017.68 2286.14 1014.14 Q2287.97 1010.58 2287.97 1003.47 Q2287.97 996.342 2286.14 992.801 Q2284.33 989.236 2280.7 989.236 M2280.7 985.532 Q2286.51 985.532 2289.57 990.139 Q2292.64 994.722 2292.64 1003.47 Q2292.64 1012.2 2289.57 1016.81 Q2286.51 1021.39 2280.7 1021.39 Q2274.89 1021.39 2271.81 1016.81 Q2268.76 1012.2 2268.76 1003.47 Q2268.76 994.722 2271.81 990.139 Q2274.89 985.532 2280.7 985.532 Z\" fill=\"#000000\" fill-rule=\"evenodd\" fill-opacity=\"1\" /><path clip-path=\"url(#clip950)\" d=\"M 0 0 M2297.71 1014.84 L2302.6 1014.84 L2302.6 1020.72 L2297.71 1020.72 L2297.71 1014.84 Z\" fill=\"#000000\" fill-rule=\"evenodd\" fill-opacity=\"1\" /><path clip-path=\"url(#clip950)\" d=\"M 0 0 M2306.49 986.157 L2328.71 986.157 L2328.71 988.148 L2316.16 1020.72 L2311.28 1020.72 L2323.08 990.092 L2306.49 990.092 L2306.49 986.157 Z\" fill=\"#000000\" fill-rule=\"evenodd\" fill-opacity=\"1\" /><path clip-path=\"url(#clip950)\" d=\"M 0 0 M2333.83 986.157 L2352.18 986.157 L2352.18 990.092 L2338.11 990.092 L2338.11 998.564 Q2339.13 998.217 2340.14 998.055 Q2341.16 997.87 2342.18 997.87 Q2347.97 997.87 2351.35 1001.04 Q2354.73 1004.21 2354.73 1009.63 Q2354.73 1015.21 2351.26 1018.31 Q2347.78 1021.39 2341.46 1021.39 Q2339.29 1021.39 2337.02 1021.02 Q2334.77 1020.65 2332.37 1019.91 L2332.37 1015.21 Q2334.45 1016.34 2336.67 1016.9 Q2338.89 1017.45 2341.37 1017.45 Q2345.38 1017.45 2347.71 1015.35 Q2350.05 1013.24 2350.05 1009.63 Q2350.05 1006.02 2347.71 1003.91 Q2345.38 1001.81 2341.37 1001.81 Q2339.5 1001.81 2337.62 1002.22 Q2335.77 1002.64 2333.83 1003.52 L2333.83 986.157 Z\" fill=\"#000000\" fill-rule=\"evenodd\" fill-opacity=\"1\" /><path clip-path=\"url(#clip950)\" d=\"M 0 0 M2280.7 780.984 Q2277.09 780.984 2275.26 784.549 Q2273.45 788.09 2273.45 795.22 Q2273.45 802.326 2275.26 805.891 Q2277.09 809.433 2280.7 809.433 Q2284.33 809.433 2286.14 805.891 Q2287.97 802.326 2287.97 795.22 Q2287.97 788.09 2286.14 784.549 Q2284.33 780.984 2280.7 780.984 M2280.7 777.28 Q2286.51 777.28 2289.57 781.887 Q2292.64 786.47 2292.64 795.22 Q2292.64 803.947 2289.57 808.553 Q2286.51 813.136 2280.7 813.136 Q2274.89 813.136 2271.81 808.553 Q2268.76 803.947 2268.76 795.22 Q2268.76 786.47 2271.81 781.887 Q2274.89 777.28 2280.7 777.28 Z\" fill=\"#000000\" fill-rule=\"evenodd\" fill-opacity=\"1\" /><path clip-path=\"url(#clip950)\" d=\"M 0 0 M2297.71 806.586 L2302.6 806.586 L2302.6 812.465 L2297.71 812.465 L2297.71 806.586 Z\" fill=\"#000000\" fill-rule=\"evenodd\" fill-opacity=\"1\" /><path clip-path=\"url(#clip950)\" d=\"M 0 0 M2317.67 796.053 Q2314.33 796.053 2312.41 797.836 Q2310.51 799.618 2310.51 802.743 Q2310.51 805.868 2312.41 807.65 Q2314.33 809.433 2317.67 809.433 Q2321 809.433 2322.92 807.65 Q2324.84 805.845 2324.84 802.743 Q2324.84 799.618 2322.92 797.836 Q2321.02 796.053 2317.67 796.053 M2312.99 794.063 Q2309.98 793.322 2308.29 791.262 Q2306.63 789.201 2306.63 786.238 Q2306.63 782.095 2309.57 779.688 Q2312.53 777.28 2317.67 777.28 Q2322.83 777.28 2325.77 779.688 Q2328.71 782.095 2328.71 786.238 Q2328.71 789.201 2327.02 791.262 Q2325.35 793.322 2322.37 794.063 Q2325.75 794.85 2327.62 797.141 Q2329.52 799.433 2329.52 802.743 Q2329.52 807.766 2326.44 810.451 Q2323.39 813.136 2317.67 813.136 Q2311.95 813.136 2308.87 810.451 Q2305.82 807.766 2305.82 802.743 Q2305.82 799.433 2307.71 797.141 Q2309.61 794.85 2312.99 794.063 M2311.28 786.678 Q2311.28 789.363 2312.95 790.868 Q2314.64 792.373 2317.67 792.373 Q2320.68 792.373 2322.37 790.868 Q2324.08 789.363 2324.08 786.678 Q2324.08 783.993 2322.37 782.488 Q2320.68 780.984 2317.67 780.984 Q2314.64 780.984 2312.95 782.488 Q2311.28 783.993 2311.28 786.678 Z\" fill=\"#000000\" fill-rule=\"evenodd\" fill-opacity=\"1\" /><path clip-path=\"url(#clip950)\" d=\"M 0 0 M2344.59 780.984 Q2340.98 780.984 2339.15 784.549 Q2337.34 788.09 2337.34 795.22 Q2337.34 802.326 2339.15 805.891 Q2340.98 809.433 2344.59 809.433 Q2348.22 809.433 2350.03 805.891 Q2351.86 802.326 2351.86 795.22 Q2351.86 788.09 2350.03 784.549 Q2348.22 780.984 2344.59 780.984 M2344.59 777.28 Q2350.4 777.28 2353.45 781.887 Q2356.53 786.47 2356.53 795.22 Q2356.53 803.947 2353.45 808.553 Q2350.4 813.136 2344.59 813.136 Q2338.78 813.136 2335.7 808.553 Q2332.64 803.947 2332.64 795.22 Q2332.64 786.47 2335.7 781.887 Q2338.78 777.28 2344.59 777.28 Z\" fill=\"#000000\" fill-rule=\"evenodd\" fill-opacity=\"1\" /><path clip-path=\"url(#clip950)\" d=\"M 0 0 M2280.7 572.732 Q2277.09 572.732 2275.26 576.297 Q2273.45 579.838 2273.45 586.968 Q2273.45 594.074 2275.26 597.639 Q2277.09 601.181 2280.7 601.181 Q2284.33 601.181 2286.14 597.639 Q2287.97 594.074 2287.97 586.968 Q2287.97 579.838 2286.14 576.297 Q2284.33 572.732 2280.7 572.732 M2280.7 569.028 Q2286.51 569.028 2289.57 573.635 Q2292.64 578.218 2292.64 586.968 Q2292.64 595.695 2289.57 600.301 Q2286.51 604.885 2280.7 604.885 Q2274.89 604.885 2271.81 600.301 Q2268.76 595.695 2268.76 586.968 Q2268.76 578.218 2271.81 573.635 Q2274.89 569.028 2280.7 569.028 Z\" fill=\"#000000\" fill-rule=\"evenodd\" fill-opacity=\"1\" /><path clip-path=\"url(#clip950)\" d=\"M 0 0 M2297.71 598.334 L2302.6 598.334 L2302.6 604.213 L2297.71 604.213 L2297.71 598.334 Z\" fill=\"#000000\" fill-rule=\"evenodd\" fill-opacity=\"1\" /><path clip-path=\"url(#clip950)\" d=\"M 0 0 M2317.67 587.801 Q2314.33 587.801 2312.41 589.584 Q2310.51 591.366 2310.51 594.491 Q2310.51 597.616 2312.41 599.398 Q2314.33 601.181 2317.67 601.181 Q2321 601.181 2322.92 599.398 Q2324.84 597.593 2324.84 594.491 Q2324.84 591.366 2322.92 589.584 Q2321.02 587.801 2317.67 587.801 M2312.99 585.811 Q2309.98 585.07 2308.29 583.01 Q2306.63 580.95 2306.63 577.987 Q2306.63 573.843 2309.57 571.436 Q2312.53 569.028 2317.67 569.028 Q2322.83 569.028 2325.77 571.436 Q2328.71 573.843 2328.71 577.987 Q2328.71 580.95 2327.02 583.01 Q2325.35 585.07 2322.37 585.811 Q2325.75 586.598 2327.62 588.889 Q2329.52 591.181 2329.52 594.491 Q2329.52 599.514 2326.44 602.199 Q2323.39 604.885 2317.67 604.885 Q2311.95 604.885 2308.87 602.199 Q2305.82 599.514 2305.82 594.491 Q2305.82 591.181 2307.71 588.889 Q2309.61 586.598 2312.99 585.811 M2311.28 578.426 Q2311.28 581.112 2312.95 582.616 Q2314.64 584.121 2317.67 584.121 Q2320.68 584.121 2322.37 582.616 Q2324.08 581.112 2324.08 578.426 Q2324.08 575.741 2322.37 574.237 Q2320.68 572.732 2317.67 572.732 Q2314.64 572.732 2312.95 574.237 Q2311.28 575.741 2311.28 578.426 Z\" fill=\"#000000\" fill-rule=\"evenodd\" fill-opacity=\"1\" /><path clip-path=\"url(#clip950)\" d=\"M 0 0 M2334.64 569.653 L2352.99 569.653 L2352.99 573.588 L2338.92 573.588 L2338.92 582.061 Q2339.94 581.713 2340.95 581.551 Q2341.97 581.366 2342.99 581.366 Q2348.78 581.366 2352.16 584.537 Q2355.54 587.709 2355.54 593.125 Q2355.54 598.704 2352.07 601.806 Q2348.59 604.885 2342.27 604.885 Q2340.1 604.885 2337.83 604.514 Q2335.58 604.144 2333.18 603.403 L2333.18 598.704 Q2335.26 599.838 2337.48 600.394 Q2339.7 600.949 2342.18 600.949 Q2346.19 600.949 2348.52 598.843 Q2350.86 596.736 2350.86 593.125 Q2350.86 589.514 2348.52 587.408 Q2346.19 585.301 2342.18 585.301 Q2340.31 585.301 2338.43 585.718 Q2336.58 586.135 2334.64 587.014 L2334.64 569.653 Z\" fill=\"#000000\" fill-rule=\"evenodd\" fill-opacity=\"1\" /><path clip-path=\"url(#clip950)\" d=\"M 0 0 M2280.7 364.48 Q2277.09 364.48 2275.26 368.045 Q2273.45 371.586 2273.45 378.716 Q2273.45 385.823 2275.26 389.387 Q2277.09 392.929 2280.7 392.929 Q2284.33 392.929 2286.14 389.387 Q2287.97 385.823 2287.97 378.716 Q2287.97 371.586 2286.14 368.045 Q2284.33 364.48 2280.7 364.48 M2280.7 360.776 Q2286.51 360.776 2289.57 365.383 Q2292.64 369.966 2292.64 378.716 Q2292.64 387.443 2289.57 392.049 Q2286.51 396.633 2280.7 396.633 Q2274.89 396.633 2271.81 392.049 Q2268.76 387.443 2268.76 378.716 Q2268.76 369.966 2271.81 365.383 Q2274.89 360.776 2280.7 360.776 Z\" fill=\"#000000\" fill-rule=\"evenodd\" fill-opacity=\"1\" /><path clip-path=\"url(#clip950)\" d=\"M 0 0 M2297.71 390.082 L2302.6 390.082 L2302.6 395.961 L2297.71 395.961 L2297.71 390.082 Z\" fill=\"#000000\" fill-rule=\"evenodd\" fill-opacity=\"1\" /><path clip-path=\"url(#clip950)\" d=\"M 0 0 M2307.81 395.244 L2307.81 390.985 Q2309.57 391.818 2311.37 392.258 Q2313.18 392.697 2314.91 392.697 Q2319.54 392.697 2321.97 389.596 Q2324.43 386.471 2324.77 380.128 Q2323.43 382.119 2321.37 383.184 Q2319.31 384.248 2316.81 384.248 Q2311.63 384.248 2308.59 381.123 Q2305.58 377.975 2305.58 372.536 Q2305.58 367.212 2308.73 363.994 Q2311.88 360.776 2317.11 360.776 Q2323.11 360.776 2326.26 365.383 Q2329.43 369.966 2329.43 378.716 Q2329.43 386.887 2325.54 391.772 Q2321.67 396.633 2315.12 396.633 Q2313.36 396.633 2311.56 396.285 Q2309.75 395.938 2307.81 395.244 M2317.11 380.591 Q2320.26 380.591 2322.09 378.438 Q2323.94 376.286 2323.94 372.536 Q2323.94 368.809 2322.09 366.656 Q2320.26 364.48 2317.11 364.48 Q2313.96 364.48 2312.11 366.656 Q2310.28 368.809 2310.28 372.536 Q2310.28 376.286 2312.11 378.438 Q2313.96 380.591 2317.11 380.591 Z\" fill=\"#000000\" fill-rule=\"evenodd\" fill-opacity=\"1\" /><path clip-path=\"url(#clip950)\" d=\"M 0 0 M2344.5 364.48 Q2340.89 364.48 2339.06 368.045 Q2337.25 371.586 2337.25 378.716 Q2337.25 385.823 2339.06 389.387 Q2340.89 392.929 2344.5 392.929 Q2348.13 392.929 2349.94 389.387 Q2351.76 385.823 2351.76 378.716 Q2351.76 371.586 2349.94 368.045 Q2348.13 364.48 2344.5 364.48 M2344.5 360.776 Q2350.31 360.776 2353.36 365.383 Q2356.44 369.966 2356.44 378.716 Q2356.44 387.443 2353.36 392.049 Q2350.31 396.633 2344.5 396.633 Q2338.69 396.633 2335.61 392.049 Q2332.55 387.443 2332.55 378.716 Q2332.55 369.966 2335.61 365.383 Q2338.69 360.776 2344.5 360.776 Z\" fill=\"#000000\" fill-rule=\"evenodd\" fill-opacity=\"1\" /><path clip-path=\"url(#clip950)\" d=\"M 0 0 M2280.7 156.228 Q2277.09 156.228 2275.26 159.793 Q2273.45 163.335 2273.45 170.464 Q2273.45 177.571 2275.26 181.135 Q2277.09 184.677 2280.7 184.677 Q2284.33 184.677 2286.14 181.135 Q2287.97 177.571 2287.97 170.464 Q2287.97 163.335 2286.14 159.793 Q2284.33 156.228 2280.7 156.228 M2280.7 152.524 Q2286.51 152.524 2289.57 157.131 Q2292.64 161.714 2292.64 170.464 Q2292.64 179.191 2289.57 183.797 Q2286.51 188.381 2280.7 188.381 Q2274.89 188.381 2271.81 183.797 Q2268.76 179.191 2268.76 170.464 Q2268.76 161.714 2271.81 157.131 Q2274.89 152.524 2280.7 152.524 Z\" fill=\"#000000\" fill-rule=\"evenodd\" fill-opacity=\"1\" /><path clip-path=\"url(#clip950)\" d=\"M 0 0 M2297.71 181.83 L2302.6 181.83 L2302.6 187.709 L2297.71 187.709 L2297.71 181.83 Z\" fill=\"#000000\" fill-rule=\"evenodd\" fill-opacity=\"1\" /><path clip-path=\"url(#clip950)\" d=\"M 0 0 M2307.81 186.992 L2307.81 182.733 Q2309.57 183.566 2311.37 184.006 Q2313.18 184.446 2314.91 184.446 Q2319.54 184.446 2321.97 181.344 Q2324.43 178.219 2324.77 171.876 Q2323.43 173.867 2321.37 174.932 Q2319.31 175.997 2316.81 175.997 Q2311.63 175.997 2308.59 172.872 Q2305.58 169.723 2305.58 164.284 Q2305.58 158.96 2308.73 155.742 Q2311.88 152.524 2317.11 152.524 Q2323.11 152.524 2326.26 157.131 Q2329.43 161.714 2329.43 170.464 Q2329.43 178.635 2325.54 183.52 Q2321.67 188.381 2315.12 188.381 Q2313.36 188.381 2311.56 188.034 Q2309.75 187.686 2307.81 186.992 M2317.11 172.339 Q2320.26 172.339 2322.09 170.186 Q2323.94 168.034 2323.94 164.284 Q2323.94 160.557 2322.09 158.404 Q2320.26 156.228 2317.11 156.228 Q2313.96 156.228 2312.11 158.404 Q2310.28 160.557 2310.28 164.284 Q2310.28 168.034 2312.11 170.186 Q2313.96 172.339 2317.11 172.339 Z\" fill=\"#000000\" fill-rule=\"evenodd\" fill-opacity=\"1\" /><path clip-path=\"url(#clip950)\" d=\"M 0 0 M2334.54 153.149 L2352.9 153.149 L2352.9 157.085 L2338.82 157.085 L2338.82 165.557 Q2339.84 165.21 2340.86 165.048 Q2341.88 164.862 2342.9 164.862 Q2348.69 164.862 2352.07 168.034 Q2355.45 171.205 2355.45 176.622 Q2355.45 182.2 2351.97 185.302 Q2348.5 188.381 2342.18 188.381 Q2340.01 188.381 2337.74 188.01 Q2335.49 187.64 2333.08 186.899 L2333.08 182.2 Q2335.17 183.334 2337.39 183.89 Q2339.61 184.446 2342.09 184.446 Q2346.09 184.446 2348.43 182.339 Q2350.77 180.233 2350.77 176.622 Q2350.77 173.01 2348.43 170.904 Q2346.09 168.797 2342.09 168.797 Q2340.21 168.797 2338.34 169.214 Q2336.49 169.631 2334.54 170.51 L2334.54 153.149 Z\" fill=\"#000000\" fill-rule=\"evenodd\" fill-opacity=\"1\" /><polyline clip-path=\"url(#clip950)\" style=\"stroke:#000000; stroke-width:4; stroke-opacity:1; fill:none\" points=\"\n",
       "  2232.76,1410.9 2232.76,1215.32 2256.76,1215.32 2232.76,1215.32 2232.76,1007.07 2256.76,1007.07 2232.76,1007.07 2232.76,798.814 2256.76,798.814 2232.76,798.814 \n",
       "  2232.76,590.562 2256.76,590.562 2232.76,590.562 2232.76,382.31 2256.76,382.31 2232.76,382.31 2232.76,174.058 2256.76,174.058 2232.76,174.058 2232.76,47.2441 \n",
       "  \n",
       "  \"/>\n",
       "</svg>\n"
      ]
     },
     "execution_count": 293,
     "metadata": {},
     "output_type": "execute_result"
    }
   ],
   "source": [
    "plot(self_tuning_nn)"
   ]
  },
  {
   "cell_type": "code",
   "execution_count": 294,
   "metadata": {},
   "outputs": [
    {
     "data": {
      "text/plain": [
       "(best_model = \u001b[34mNeuralNetworkClassifier{CustomNN,…} @691\u001b[39m,\n",
       " best_fitted_params = (chain = Chain(Chain(Dense(4, 72, σ), Dense(72, 40, σ), Dense(40, 3, σ)), softmax),),)"
      ]
     },
     "execution_count": 294,
     "metadata": {},
     "output_type": "execute_result"
    }
   ],
   "source": [
    "best = fitted_params(self_tuning_nn)\n",
    "best"
   ]
  },
  {
   "cell_type": "code",
   "execution_count": 295,
   "metadata": {},
   "outputs": [
    {
     "data": {
      "text/plain": [
       "NeuralNetworkClassifier(\n",
       "    builder = CustomNN(\n",
       "            n1 = 72,\n",
       "            n2 = 40),\n",
       "    finaliser = NNlib.softmax,\n",
       "    optimiser = ADAM(0.0003333333333333333, (0.9, 0.999), IdDict{Any,Any}()),\n",
       "    loss = Flux.crossentropy,\n",
       "    epochs = 1000,\n",
       "    batch_size = 8,\n",
       "    lambda = 0.01,\n",
       "    alpha = 0.0,\n",
       "    optimiser_changes_trigger_retraining = false)\u001b[34m @691\u001b[39m"
      ]
     },
     "execution_count": 295,
     "metadata": {},
     "output_type": "execute_result"
    }
   ],
   "source": [
    "best.best_model"
   ]
  },
  {
   "cell_type": "code",
   "execution_count": 296,
   "metadata": {
    "scrolled": true
   },
   "outputs": [
    {
     "data": {
      "text/plain": [
       "0.65304273f0"
      ]
     },
     "execution_count": 296,
     "metadata": {},
     "output_type": "execute_result"
    }
   ],
   "source": [
    "best_loss = z.report.best_result.measurement[1]"
   ]
  },
  {
   "cell_type": "code",
   "execution_count": 297,
   "metadata": {},
   "outputs": [
    {
     "data": {
      "text/plain": [
       "72"
      ]
     },
     "execution_count": 297,
     "metadata": {},
     "output_type": "execute_result"
    }
   ],
   "source": [
    "best_n1 = best.best_model.builder.n1"
   ]
  },
  {
   "cell_type": "code",
   "execution_count": 298,
   "metadata": {},
   "outputs": [],
   "source": [
    "fn = \"Figures/Grid_NN_$(param1):$(best.best_model.epochs)_x_$(param2):$(best_n1)_bestloss:$(best_loss)\"\n",
    "f = replace(fn,'.' => ',')\n",
    "png(f)"
   ]
  },
  {
   "cell_type": "markdown",
   "metadata": {},
   "source": [
    "### GridSearch for Hidden Layer Size 2"
   ]
  },
  {
   "cell_type": "code",
   "execution_count": 299,
   "metadata": {
    "scrolled": false
   },
   "outputs": [
    {
     "data": {
      "text/plain": [
       "NeuralNetworkClassifier(\n",
       "    builder = CustomNN(\n",
       "            n1 = 72,\n",
       "            n2 = 40),\n",
       "    finaliser = NNlib.softmax,\n",
       "    optimiser = ADAM(0.001, (0.9, 0.999), IdDict{Any,Any}()),\n",
       "    loss = Flux.crossentropy,\n",
       "    epochs = 10,\n",
       "    batch_size = 1,\n",
       "    lambda = 0.0,\n",
       "    alpha = 0.0,\n",
       "    optimiser_changes_trigger_retraining = false)\u001b[34m @460\u001b[39m"
      ]
     },
     "execution_count": 299,
     "metadata": {},
     "output_type": "execute_result"
    }
   ],
   "source": [
    "nn = NeuralNetworkClassifier(builder=CustomNN(best_n1,layer2))"
   ]
  },
  {
   "cell_type": "code",
   "execution_count": 300,
   "metadata": {},
   "outputs": [
    {
     "data": {
      "text/plain": [
       "0.01"
      ]
     },
     "execution_count": 300,
     "metadata": {},
     "output_type": "execute_result"
    }
   ],
   "source": [
    "nn.optimiser.eta = 0.001\n",
    "nn.epochs = 60\n",
    "nn.batch_size = batch_sz\n",
    "nn.lambda = 0.01"
   ]
  },
  {
   "cell_type": "code",
   "execution_count": 301,
   "metadata": {},
   "outputs": [
    {
     "data": {
      "text/plain": [
       "\u001b[34mMachine{NeuralNetworkClassifier{CustomNN,…}} @846\u001b[39m trained 0 times.\n",
       "  args: \n",
       "    1:\t\u001b[34mSource @485\u001b[39m ⏎ `Table{AbstractArray{Continuous,1}}`\n",
       "    2:\t\u001b[34mSource @727\u001b[39m ⏎ `AbstractArray{Multiclass{3},1}`\n"
      ]
     },
     "execution_count": 301,
     "metadata": {},
     "output_type": "execute_result"
    }
   ],
   "source": [
    "Net = machine(nn, X_stand, y)"
   ]
  },
  {
   "cell_type": "code",
   "execution_count": 302,
   "metadata": {},
   "outputs": [
    {
     "data": {
      "text/plain": [
       "MLJBase.NumericRange(Int64, :(builder.n2), ... )"
      ]
     },
     "execution_count": 302,
     "metadata": {},
     "output_type": "execute_result"
    }
   ],
   "source": [
    "param1 = :epochs\n",
    "# param1 = :(builder.n1)\n",
    "param2 = :(builder.n2)\n",
    "\n",
    "r1 = range(nn, param1, lower=10, upper=3000, scale=:log10)\n",
    "# r1 = range(nn, param1, lower=1, upper=100, scale=:linear)\n",
    "r2 = range(nn, param2, lower=1, upper=100, scale=:linear)"
   ]
  },
  {
   "cell_type": "code",
   "execution_count": 303,
   "metadata": {
    "scrolled": true
   },
   "outputs": [
    {
     "data": {
      "text/plain": [
       "ProbabilisticTunedModel(\n",
       "    model = NeuralNetworkClassifier(\n",
       "            builder = \u001b[34mCustomNN @590\u001b[39m,\n",
       "            finaliser = NNlib.softmax,\n",
       "            optimiser = ADAM(0.001, (0.9, 0.999), IdDict{Any,Any}()),\n",
       "            loss = Flux.crossentropy,\n",
       "            epochs = 60,\n",
       "            batch_size = 8,\n",
       "            lambda = 0.01,\n",
       "            alpha = 0.0,\n",
       "            optimiser_changes_trigger_retraining = false),\n",
       "    tuning = Grid(\n",
       "            goal = 64,\n",
       "            resolution = 10,\n",
       "            shuffle = true,\n",
       "            rng = Random._GLOBAL_RNG()),\n",
       "    resampling = Holdout(\n",
       "            fraction_train = 0.7,\n",
       "            shuffle = false,\n",
       "            rng = Random._GLOBAL_RNG()),\n",
       "    measure = cross_entropy(\n",
       "            eps = 2.220446049250313e-16),\n",
       "    weights = nothing,\n",
       "    operation = MLJModelInterface.predict,\n",
       "    range = MLJBase.NumericRange{Int64,MLJBase.Bounded,Symbol}[\u001b[34mNumericRange{Int64,…} @450\u001b[39m, \u001b[34mNumericRange{Int64,…} @186\u001b[39m],\n",
       "    train_best = true,\n",
       "    repeats = 1,\n",
       "    n = nothing,\n",
       "    acceleration = CPUThreads{Int64}(1),\n",
       "    acceleration_resampling = CPU1{Nothing}(nothing),\n",
       "    check_measure = true)\u001b[34m @235\u001b[39m"
      ]
     },
     "execution_count": 303,
     "metadata": {},
     "output_type": "execute_result"
    }
   ],
   "source": [
    "self_tuning_nn_model = TunedModel(model=nn,\n",
    "                                    tuning=Grid(goal=64),\n",
    "                                    resampling=Holdout(fraction_train=0.7), \n",
    "                                    measure=cross_entropy,\n",
    "                                    acceleration=CPUThreads(),\n",
    "                                    range=[r1, r2])"
   ]
  },
  {
   "cell_type": "code",
   "execution_count": 304,
   "metadata": {},
   "outputs": [
    {
     "data": {
      "text/plain": [
       "\u001b[34mMachine{ProbabilisticTunedModel{Grid,…}} @229\u001b[39m trained 0 times.\n",
       "  args: \n",
       "    1:\t\u001b[34mSource @029\u001b[39m ⏎ `Table{AbstractArray{Continuous,1}}`\n",
       "    2:\t\u001b[34mSource @233\u001b[39m ⏎ `AbstractArray{Multiclass{3},1}`\n"
      ]
     },
     "execution_count": 304,
     "metadata": {},
     "output_type": "execute_result"
    }
   ],
   "source": [
    "self_tuning_nn = machine(self_tuning_nn_model, X_stand, y)"
   ]
  },
  {
   "cell_type": "code",
   "execution_count": 305,
   "metadata": {},
   "outputs": [
    {
     "name": "stderr",
     "output_type": "stream",
     "text": [
      "┌ Info: Training \u001b[34mMachine{ProbabilisticTunedModel{Grid,…}} @229\u001b[39m.\n",
      "└ @ MLJBase /home/andrew/.julia/packages/MLJBase/uKzAz/src/machines.jl:319\n",
      "┌ Info: Attempting to evaluate 64 models.\n",
      "└ @ MLJTuning /home/andrew/.julia/packages/MLJTuning/Bbgvk/src/tuned_models.jl:494\n",
      "\u001b[33mEvaluating over 64 metamodels: 100%[=========================] Time: 0:05:57\u001b[39m\n"
     ]
    },
    {
     "data": {
      "text/plain": [
       "\u001b[34mMachine{ProbabilisticTunedModel{Grid,…}} @229\u001b[39m trained 1 time.\n",
       "  args: \n",
       "    1:\t\u001b[34mSource @029\u001b[39m ⏎ `Table{AbstractArray{Continuous,1}}`\n",
       "    2:\t\u001b[34mSource @233\u001b[39m ⏎ `AbstractArray{Multiclass{3},1}`\n"
      ]
     },
     "execution_count": 305,
     "metadata": {},
     "output_type": "execute_result"
    }
   ],
   "source": [
    "z = fit!(self_tuning_nn, rows=train)"
   ]
  },
  {
   "cell_type": "code",
   "execution_count": 306,
   "metadata": {
    "scrolled": false
   },
   "outputs": [
    {
     "data": {
      "image/svg+xml": [
       "<?xml version=\"1.0\" encoding=\"utf-8\"?>\n",
       "<svg xmlns=\"http://www.w3.org/2000/svg\" xmlns:xlink=\"http://www.w3.org/1999/xlink\" width=\"600\" height=\"400\" viewBox=\"0 0 2400 1600\">\n",
       "<defs>\n",
       "  <clipPath id=\"clip000\">\n",
       "    <rect x=\"0\" y=\"0\" width=\"2400\" height=\"1600\"/>\n",
       "  </clipPath>\n",
       "</defs>\n",
       "<path clip-path=\"url(#clip000)\" d=\"\n",
       "M0 1600 L2400 1600 L2400 0 L0 0  Z\n",
       "  \" fill=\"#ffffff\" fill-rule=\"evenodd\" fill-opacity=\"1\"/>\n",
       "<defs>\n",
       "  <clipPath id=\"clip001\">\n",
       "    <rect x=\"480\" y=\"0\" width=\"1681\" height=\"1600\"/>\n",
       "  </clipPath>\n",
       "</defs>\n",
       "<path clip-path=\"url(#clip000)\" d=\"\n",
       "M224.866 1410.9 L2112.76 1410.9 L2112.76 47.2441 L224.866 47.2441  Z\n",
       "  \" fill=\"#ffffff\" fill-rule=\"evenodd\" fill-opacity=\"1\"/>\n",
       "<defs>\n",
       "  <clipPath id=\"clip002\">\n",
       "    <rect x=\"224\" y=\"47\" width=\"1889\" height=\"1365\"/>\n",
       "  </clipPath>\n",
       "</defs>\n",
       "<polyline clip-path=\"url(#clip002)\" style=\"stroke:#000000; stroke-width:2; stroke-opacity:0.1; fill:none\" points=\"\n",
       "  278.297,1410.9 278.297,47.2441 \n",
       "  \"/>\n",
       "<polyline clip-path=\"url(#clip002)\" style=\"stroke:#000000; stroke-width:2; stroke-opacity:0.1; fill:none\" points=\"\n",
       "  637.793,1410.9 637.793,47.2441 \n",
       "  \"/>\n",
       "<polyline clip-path=\"url(#clip002)\" style=\"stroke:#000000; stroke-width:2; stroke-opacity:0.1; fill:none\" points=\"\n",
       "  997.288,1410.9 997.288,47.2441 \n",
       "  \"/>\n",
       "<polyline clip-path=\"url(#clip002)\" style=\"stroke:#000000; stroke-width:2; stroke-opacity:0.1; fill:none\" points=\"\n",
       "  1356.78,1410.9 1356.78,47.2441 \n",
       "  \"/>\n",
       "<polyline clip-path=\"url(#clip002)\" style=\"stroke:#000000; stroke-width:2; stroke-opacity:0.1; fill:none\" points=\"\n",
       "  1716.28,1410.9 1716.28,47.2441 \n",
       "  \"/>\n",
       "<polyline clip-path=\"url(#clip002)\" style=\"stroke:#000000; stroke-width:2; stroke-opacity:0.1; fill:none\" points=\"\n",
       "  2075.77,1410.9 2075.77,47.2441 \n",
       "  \"/>\n",
       "<polyline clip-path=\"url(#clip002)\" style=\"stroke:#000000; stroke-width:2; stroke-opacity:0.1; fill:none\" points=\"\n",
       "  224.866,1385.3 2112.76,1385.3 \n",
       "  \"/>\n",
       "<polyline clip-path=\"url(#clip002)\" style=\"stroke:#000000; stroke-width:2; stroke-opacity:0.1; fill:none\" points=\"\n",
       "  224.866,1060.43 2112.76,1060.43 \n",
       "  \"/>\n",
       "<polyline clip-path=\"url(#clip002)\" style=\"stroke:#000000; stroke-width:2; stroke-opacity:0.1; fill:none\" points=\"\n",
       "  224.866,735.568 2112.76,735.568 \n",
       "  \"/>\n",
       "<polyline clip-path=\"url(#clip002)\" style=\"stroke:#000000; stroke-width:2; stroke-opacity:0.1; fill:none\" points=\"\n",
       "  224.866,410.703 2112.76,410.703 \n",
       "  \"/>\n",
       "<polyline clip-path=\"url(#clip002)\" style=\"stroke:#000000; stroke-width:2; stroke-opacity:0.1; fill:none\" points=\"\n",
       "  224.866,85.838 2112.76,85.838 \n",
       "  \"/>\n",
       "<polyline clip-path=\"url(#clip000)\" style=\"stroke:#000000; stroke-width:4; stroke-opacity:1; fill:none\" points=\"\n",
       "  224.866,1410.9 2112.76,1410.9 \n",
       "  \"/>\n",
       "<polyline clip-path=\"url(#clip000)\" style=\"stroke:#000000; stroke-width:4; stroke-opacity:1; fill:none\" points=\"\n",
       "  224.866,1410.9 224.866,47.2441 \n",
       "  \"/>\n",
       "<polyline clip-path=\"url(#clip000)\" style=\"stroke:#000000; stroke-width:4; stroke-opacity:1; fill:none\" points=\"\n",
       "  278.297,1410.9 278.297,1394.53 \n",
       "  \"/>\n",
       "<polyline clip-path=\"url(#clip000)\" style=\"stroke:#000000; stroke-width:4; stroke-opacity:1; fill:none\" points=\"\n",
       "  637.793,1410.9 637.793,1394.53 \n",
       "  \"/>\n",
       "<polyline clip-path=\"url(#clip000)\" style=\"stroke:#000000; stroke-width:4; stroke-opacity:1; fill:none\" points=\"\n",
       "  997.288,1410.9 997.288,1394.53 \n",
       "  \"/>\n",
       "<polyline clip-path=\"url(#clip000)\" style=\"stroke:#000000; stroke-width:4; stroke-opacity:1; fill:none\" points=\"\n",
       "  1356.78,1410.9 1356.78,1394.53 \n",
       "  \"/>\n",
       "<polyline clip-path=\"url(#clip000)\" style=\"stroke:#000000; stroke-width:4; stroke-opacity:1; fill:none\" points=\"\n",
       "  1716.28,1410.9 1716.28,1394.53 \n",
       "  \"/>\n",
       "<polyline clip-path=\"url(#clip000)\" style=\"stroke:#000000; stroke-width:4; stroke-opacity:1; fill:none\" points=\"\n",
       "  2075.77,1410.9 2075.77,1394.53 \n",
       "  \"/>\n",
       "<polyline clip-path=\"url(#clip000)\" style=\"stroke:#000000; stroke-width:4; stroke-opacity:1; fill:none\" points=\"\n",
       "  224.866,1385.3 247.521,1385.3 \n",
       "  \"/>\n",
       "<polyline clip-path=\"url(#clip000)\" style=\"stroke:#000000; stroke-width:4; stroke-opacity:1; fill:none\" points=\"\n",
       "  224.866,1060.43 247.521,1060.43 \n",
       "  \"/>\n",
       "<polyline clip-path=\"url(#clip000)\" style=\"stroke:#000000; stroke-width:4; stroke-opacity:1; fill:none\" points=\"\n",
       "  224.866,735.568 247.521,735.568 \n",
       "  \"/>\n",
       "<polyline clip-path=\"url(#clip000)\" style=\"stroke:#000000; stroke-width:4; stroke-opacity:1; fill:none\" points=\"\n",
       "  224.866,410.703 247.521,410.703 \n",
       "  \"/>\n",
       "<polyline clip-path=\"url(#clip000)\" style=\"stroke:#000000; stroke-width:4; stroke-opacity:1; fill:none\" points=\"\n",
       "  224.866,85.838 247.521,85.838 \n",
       "  \"/>\n",
       "<path clip-path=\"url(#clip000)\" d=\"M 0 0 M231.794 1481.97 L239.433 1481.97 L239.433 1455.6 L231.123 1457.27 L231.123 1453.01 L239.387 1451.34 L244.063 1451.34 L244.063 1481.97 L251.701 1481.97 L251.701 1485.9 L231.794 1485.9 L231.794 1481.97 Z\" fill=\"#000000\" fill-rule=\"evenodd\" fill-opacity=\"1\" /><path clip-path=\"url(#clip000)\" d=\"M 0 0 M266.771 1454.42 Q263.16 1454.42 261.331 1457.99 Q259.525 1461.53 259.525 1468.66 Q259.525 1475.77 261.331 1479.33 Q263.16 1482.87 266.771 1482.87 Q270.405 1482.87 272.211 1479.33 Q274.039 1475.77 274.039 1468.66 Q274.039 1461.53 272.211 1457.99 Q270.405 1454.42 266.771 1454.42 M266.771 1450.72 Q272.581 1450.72 275.637 1455.33 Q278.715 1459.91 278.715 1468.66 Q278.715 1477.39 275.637 1481.99 Q272.581 1486.58 266.771 1486.58 Q260.961 1486.58 257.882 1481.99 Q254.826 1477.39 254.826 1468.66 Q254.826 1459.91 257.882 1455.33 Q260.961 1450.72 266.771 1450.72 Z\" fill=\"#000000\" fill-rule=\"evenodd\" fill-opacity=\"1\" /><path clip-path=\"url(#clip000)\" d=\"M 0 0 M279.261 1455.3 L285.467 1455.3 L285.467 1433.87 L278.715 1435.23 L278.715 1431.77 L285.43 1430.41 L289.229 1430.41 L289.229 1455.3 L295.435 1455.3 L295.435 1458.49 L279.261 1458.49 L279.261 1455.3 Z\" fill=\"#000000\" fill-rule=\"evenodd\" fill-opacity=\"1\" /><path clip-path=\"url(#clip000)\" d=\"M 0 0 M299.554 1453.72 L303.523 1453.72 L303.523 1458.49 L299.554 1458.49 L299.554 1453.72 Z\" fill=\"#000000\" fill-rule=\"evenodd\" fill-opacity=\"1\" /><path clip-path=\"url(#clip000)\" d=\"M 0 0 M315.766 1432.91 Q312.832 1432.91 311.347 1435.81 Q309.88 1438.69 309.88 1444.48 Q309.88 1450.26 311.347 1453.15 Q312.832 1456.03 315.766 1456.03 Q318.719 1456.03 320.186 1453.15 Q321.672 1450.26 321.672 1444.48 Q321.672 1438.69 320.186 1435.81 Q318.719 1432.91 315.766 1432.91 M315.766 1429.91 Q320.487 1429.91 322.97 1433.65 Q325.471 1437.37 325.471 1444.48 Q325.471 1451.57 322.97 1455.31 Q320.487 1459.04 315.766 1459.04 Q311.046 1459.04 308.544 1455.31 Q306.062 1451.57 306.062 1444.48 Q306.062 1437.37 308.544 1433.65 Q311.046 1429.91 315.766 1429.91 Z\" fill=\"#000000\" fill-rule=\"evenodd\" fill-opacity=\"1\" /><path clip-path=\"url(#clip000)\" d=\"M 0 0 M591.694 1481.97 L599.333 1481.97 L599.333 1455.6 L591.023 1457.27 L591.023 1453.01 L599.287 1451.34 L603.962 1451.34 L603.962 1481.97 L611.601 1481.97 L611.601 1485.9 L591.694 1485.9 L591.694 1481.97 Z\" fill=\"#000000\" fill-rule=\"evenodd\" fill-opacity=\"1\" /><path clip-path=\"url(#clip000)\" d=\"M 0 0 M626.671 1454.42 Q623.06 1454.42 621.231 1457.99 Q619.425 1461.53 619.425 1468.66 Q619.425 1475.77 621.231 1479.33 Q623.06 1482.87 626.671 1482.87 Q630.305 1482.87 632.11 1479.33 Q633.939 1475.77 633.939 1468.66 Q633.939 1461.53 632.11 1457.99 Q630.305 1454.42 626.671 1454.42 M626.671 1450.72 Q632.481 1450.72 635.536 1455.33 Q638.615 1459.91 638.615 1468.66 Q638.615 1477.39 635.536 1481.99 Q632.481 1486.58 626.671 1486.58 Q620.861 1486.58 617.782 1481.99 Q614.726 1477.39 614.726 1468.66 Q614.726 1459.91 617.782 1455.33 Q620.861 1450.72 626.671 1450.72 Z\" fill=\"#000000\" fill-rule=\"evenodd\" fill-opacity=\"1\" /><path clip-path=\"url(#clip000)\" d=\"M 0 0 M639.161 1455.3 L645.367 1455.3 L645.367 1433.87 L638.615 1435.23 L638.615 1431.77 L645.329 1430.41 L649.129 1430.41 L649.129 1455.3 L655.335 1455.3 L655.335 1458.49 L639.161 1458.49 L639.161 1455.3 Z\" fill=\"#000000\" fill-rule=\"evenodd\" fill-opacity=\"1\" /><path clip-path=\"url(#clip000)\" d=\"M 0 0 M659.454 1453.72 L663.423 1453.72 L663.423 1458.49 L659.454 1458.49 L659.454 1453.72 Z\" fill=\"#000000\" fill-rule=\"evenodd\" fill-opacity=\"1\" /><path clip-path=\"url(#clip000)\" d=\"M 0 0 M667.579 1430.41 L682.494 1430.41 L682.494 1433.61 L671.058 1433.61 L671.058 1440.49 Q671.886 1440.21 672.714 1440.08 Q673.541 1439.93 674.369 1439.93 Q679.071 1439.93 681.817 1442.51 Q684.562 1445.08 684.562 1449.48 Q684.562 1454.02 681.741 1456.54 Q678.92 1459.04 673.786 1459.04 Q672.018 1459.04 670.175 1458.74 Q668.35 1458.44 666.394 1457.84 L666.394 1454.02 Q668.087 1454.94 669.892 1455.39 Q671.698 1455.84 673.71 1455.84 Q676.964 1455.84 678.864 1454.13 Q680.763 1452.42 680.763 1449.48 Q680.763 1446.55 678.864 1444.84 Q676.964 1443.13 673.71 1443.13 Q672.187 1443.13 670.664 1443.47 Q669.159 1443.8 667.579 1444.52 L667.579 1430.41 Z\" fill=\"#000000\" fill-rule=\"evenodd\" fill-opacity=\"1\" /><path clip-path=\"url(#clip000)\" d=\"M 0 0 M950.23 1481.97 L957.869 1481.97 L957.869 1455.6 L949.559 1457.27 L949.559 1453.01 L957.823 1451.34 L962.499 1451.34 L962.499 1481.97 L970.138 1481.97 L970.138 1485.9 L950.23 1485.9 L950.23 1481.97 Z\" fill=\"#000000\" fill-rule=\"evenodd\" fill-opacity=\"1\" /><path clip-path=\"url(#clip000)\" d=\"M 0 0 M985.207 1454.42 Q981.596 1454.42 979.767 1457.99 Q977.962 1461.53 977.962 1468.66 Q977.962 1475.77 979.767 1479.33 Q981.596 1482.87 985.207 1482.87 Q988.841 1482.87 990.647 1479.33 Q992.475 1475.77 992.475 1468.66 Q992.475 1461.53 990.647 1457.99 Q988.841 1454.42 985.207 1454.42 M985.207 1450.72 Q991.017 1450.72 994.073 1455.33 Q997.151 1459.91 997.151 1468.66 Q997.151 1477.39 994.073 1481.99 Q991.017 1486.58 985.207 1486.58 Q979.397 1486.58 976.318 1481.99 Q973.263 1477.39 973.263 1468.66 Q973.263 1459.91 976.318 1455.33 Q979.397 1450.72 985.207 1450.72 Z\" fill=\"#000000\" fill-rule=\"evenodd\" fill-opacity=\"1\" /><path clip-path=\"url(#clip000)\" d=\"M 0 0 M1001.72 1455.3 L1014.98 1455.3 L1014.98 1458.49 L997.151 1458.49 L997.151 1455.3 Q999.314 1453.06 1003.04 1449.3 Q1006.78 1445.52 1007.74 1444.43 Q1009.56 1442.38 1010.28 1440.96 Q1011.01 1439.54 1011.01 1438.16 Q1011.01 1435.92 1009.43 1434.51 Q1007.87 1433.1 1005.35 1433.1 Q1003.56 1433.1 1001.57 1433.72 Q999.596 1434.34 997.339 1435.6 L997.339 1431.77 Q999.634 1430.85 1001.63 1430.38 Q1003.62 1429.91 1005.28 1429.91 Q1009.64 1429.91 1012.24 1432.09 Q1014.83 1434.27 1014.83 1437.92 Q1014.83 1439.65 1014.17 1441.21 Q1013.53 1442.75 1011.82 1444.86 Q1011.35 1445.4 1008.83 1448.02 Q1006.31 1450.61 1001.72 1455.3 Z\" fill=\"#000000\" fill-rule=\"evenodd\" fill-opacity=\"1\" /><path clip-path=\"url(#clip000)\" d=\"M 0 0 M1019.1 1453.72 L1023.07 1453.72 L1023.07 1458.49 L1019.1 1458.49 L1019.1 1453.72 Z\" fill=\"#000000\" fill-rule=\"evenodd\" fill-opacity=\"1\" /><path clip-path=\"url(#clip000)\" d=\"M 0 0 M1035.31 1432.91 Q1032.38 1432.91 1030.89 1435.81 Q1029.43 1438.69 1029.43 1444.48 Q1029.43 1450.26 1030.89 1453.15 Q1032.38 1456.03 1035.31 1456.03 Q1038.27 1456.03 1039.73 1453.15 Q1041.22 1450.26 1041.22 1444.48 Q1041.22 1438.69 1039.73 1435.81 Q1038.27 1432.91 1035.31 1432.91 M1035.31 1429.91 Q1040.03 1429.91 1042.52 1433.65 Q1045.02 1437.37 1045.02 1444.48 Q1045.02 1451.57 1042.52 1455.31 Q1040.03 1459.04 1035.31 1459.04 Q1030.59 1459.04 1028.09 1455.31 Q1025.61 1451.57 1025.61 1444.48 Q1025.61 1437.37 1028.09 1433.65 Q1030.59 1429.91 1035.31 1429.91 Z\" fill=\"#000000\" fill-rule=\"evenodd\" fill-opacity=\"1\" /><path clip-path=\"url(#clip000)\" d=\"M 0 0 M1310.13 1481.97 L1317.77 1481.97 L1317.77 1455.6 L1309.46 1457.27 L1309.46 1453.01 L1317.72 1451.34 L1322.4 1451.34 L1322.4 1481.97 L1330.04 1481.97 L1330.04 1485.9 L1310.13 1485.9 L1310.13 1481.97 Z\" fill=\"#000000\" fill-rule=\"evenodd\" fill-opacity=\"1\" /><path clip-path=\"url(#clip000)\" d=\"M 0 0 M1345.11 1454.42 Q1341.5 1454.42 1339.67 1457.99 Q1337.86 1461.53 1337.86 1468.66 Q1337.86 1475.77 1339.67 1479.33 Q1341.5 1482.87 1345.11 1482.87 Q1348.74 1482.87 1350.55 1479.33 Q1352.38 1475.77 1352.38 1468.66 Q1352.38 1461.53 1350.55 1457.99 Q1348.74 1454.42 1345.11 1454.42 M1345.11 1450.72 Q1350.92 1450.72 1353.97 1455.33 Q1357.05 1459.91 1357.05 1468.66 Q1357.05 1477.39 1353.97 1481.99 Q1350.92 1486.58 1345.11 1486.58 Q1339.3 1486.58 1336.22 1481.99 Q1333.16 1477.39 1333.16 1468.66 Q1333.16 1459.91 1336.22 1455.33 Q1339.3 1450.72 1345.11 1450.72 Z\" fill=\"#000000\" fill-rule=\"evenodd\" fill-opacity=\"1\" /><path clip-path=\"url(#clip000)\" d=\"M 0 0 M1361.62 1455.3 L1374.88 1455.3 L1374.88 1458.49 L1357.05 1458.49 L1357.05 1455.3 Q1359.21 1453.06 1362.94 1449.3 Q1366.68 1445.52 1367.64 1444.43 Q1369.46 1442.38 1370.18 1440.96 Q1370.91 1439.54 1370.91 1438.16 Q1370.91 1435.92 1369.33 1434.51 Q1367.77 1433.1 1365.25 1433.1 Q1363.46 1433.1 1361.47 1433.72 Q1359.5 1434.34 1357.24 1435.6 L1357.24 1431.77 Q1359.53 1430.85 1361.53 1430.38 Q1363.52 1429.91 1365.18 1429.91 Q1369.54 1429.91 1372.14 1432.09 Q1374.73 1434.27 1374.73 1437.92 Q1374.73 1439.65 1374.07 1441.21 Q1373.43 1442.75 1371.72 1444.86 Q1371.25 1445.4 1368.73 1448.02 Q1366.21 1450.61 1361.62 1455.3 Z\" fill=\"#000000\" fill-rule=\"evenodd\" fill-opacity=\"1\" /><path clip-path=\"url(#clip000)\" d=\"M 0 0 M1379 1453.72 L1382.97 1453.72 L1382.97 1458.49 L1379 1458.49 L1379 1453.72 Z\" fill=\"#000000\" fill-rule=\"evenodd\" fill-opacity=\"1\" /><path clip-path=\"url(#clip000)\" d=\"M 0 0 M1387.12 1430.41 L1402.04 1430.41 L1402.04 1433.61 L1390.6 1433.61 L1390.6 1440.49 Q1391.43 1440.21 1392.26 1440.08 Q1393.09 1439.93 1393.91 1439.93 Q1398.62 1439.93 1401.36 1442.51 Q1404.11 1445.08 1404.11 1449.48 Q1404.11 1454.02 1401.29 1456.54 Q1398.47 1459.04 1393.33 1459.04 Q1391.56 1459.04 1389.72 1458.74 Q1387.9 1458.44 1385.94 1457.84 L1385.94 1454.02 Q1387.63 1454.94 1389.44 1455.39 Q1391.24 1455.84 1393.26 1455.84 Q1396.51 1455.84 1398.41 1454.13 Q1400.31 1452.42 1400.31 1449.48 Q1400.31 1446.55 1398.41 1444.84 Q1396.51 1443.13 1393.26 1443.13 Q1391.73 1443.13 1390.21 1443.47 Q1388.7 1443.8 1387.12 1444.52 L1387.12 1430.41 Z\" fill=\"#000000\" fill-rule=\"evenodd\" fill-opacity=\"1\" /><path clip-path=\"url(#clip000)\" d=\"M 0 0 M1668.89 1481.97 L1676.53 1481.97 L1676.53 1455.6 L1668.22 1457.27 L1668.22 1453.01 L1676.48 1451.34 L1681.16 1451.34 L1681.16 1481.97 L1688.8 1481.97 L1688.8 1485.9 L1668.89 1485.9 L1668.89 1481.97 Z\" fill=\"#000000\" fill-rule=\"evenodd\" fill-opacity=\"1\" /><path clip-path=\"url(#clip000)\" d=\"M 0 0 M1703.87 1454.42 Q1700.26 1454.42 1698.43 1457.99 Q1696.62 1461.53 1696.62 1468.66 Q1696.62 1475.77 1698.43 1479.33 Q1700.26 1482.87 1703.87 1482.87 Q1707.5 1482.87 1709.31 1479.33 Q1711.14 1475.77 1711.14 1468.66 Q1711.14 1461.53 1709.31 1457.99 Q1707.5 1454.42 1703.87 1454.42 M1703.87 1450.72 Q1709.68 1450.72 1712.73 1455.33 Q1715.81 1459.91 1715.81 1468.66 Q1715.81 1477.39 1712.73 1481.99 Q1709.68 1486.58 1703.87 1486.58 Q1698.06 1486.58 1694.98 1481.99 Q1691.92 1477.39 1691.92 1468.66 Q1691.92 1459.91 1694.98 1455.33 Q1698.06 1450.72 1703.87 1450.72 Z\" fill=\"#000000\" fill-rule=\"evenodd\" fill-opacity=\"1\" /><path clip-path=\"url(#clip000)\" d=\"M 0 0 M1728.51 1443.35 Q1731.24 1443.94 1732.76 1445.78 Q1734.3 1447.62 1734.3 1450.33 Q1734.3 1454.49 1731.44 1456.76 Q1728.58 1459.04 1723.32 1459.04 Q1721.55 1459.04 1719.67 1458.68 Q1717.81 1458.34 1715.81 1457.65 L1715.81 1453.98 Q1717.39 1454.9 1719.27 1455.37 Q1721.15 1455.84 1723.2 1455.84 Q1726.78 1455.84 1728.64 1454.43 Q1730.52 1453.02 1730.52 1450.33 Q1730.52 1447.85 1728.77 1446.46 Q1727.04 1445.05 1723.94 1445.05 L1720.67 1445.05 L1720.67 1441.92 L1724.09 1441.92 Q1726.89 1441.92 1728.38 1440.81 Q1729.86 1439.69 1729.86 1437.58 Q1729.86 1435.42 1728.32 1434.27 Q1726.8 1433.1 1723.94 1433.1 Q1722.38 1433.1 1720.59 1433.44 Q1718.8 1433.78 1716.66 1434.49 L1716.66 1431.11 Q1718.82 1430.51 1720.7 1430.21 Q1722.6 1429.91 1724.28 1429.91 Q1728.6 1429.91 1731.12 1431.88 Q1733.64 1433.84 1733.64 1437.18 Q1733.64 1439.52 1732.31 1441.13 Q1730.97 1442.73 1728.51 1443.35 Z\" fill=\"#000000\" fill-rule=\"evenodd\" fill-opacity=\"1\" /><path clip-path=\"url(#clip000)\" d=\"M 0 0 M1738.42 1453.72 L1742.39 1453.72 L1742.39 1458.49 L1738.42 1458.49 L1738.42 1453.72 Z\" fill=\"#000000\" fill-rule=\"evenodd\" fill-opacity=\"1\" /><path clip-path=\"url(#clip000)\" d=\"M 0 0 M1754.63 1432.91 Q1751.7 1432.91 1750.21 1435.81 Q1748.75 1438.69 1748.75 1444.48 Q1748.75 1450.26 1750.21 1453.15 Q1751.7 1456.03 1754.63 1456.03 Q1757.59 1456.03 1759.05 1453.15 Q1760.54 1450.26 1760.54 1444.48 Q1760.54 1438.69 1759.05 1435.81 Q1757.59 1432.91 1754.63 1432.91 M1754.63 1429.91 Q1759.35 1429.91 1761.84 1433.65 Q1764.34 1437.37 1764.34 1444.48 Q1764.34 1451.57 1761.84 1455.31 Q1759.35 1459.04 1754.63 1459.04 Q1749.91 1459.04 1747.41 1455.31 Q1744.93 1451.57 1744.93 1444.48 Q1744.93 1437.37 1747.41 1433.65 Q1749.91 1429.91 1754.63 1429.91 Z\" fill=\"#000000\" fill-rule=\"evenodd\" fill-opacity=\"1\" /><path clip-path=\"url(#clip000)\" d=\"M 0 0 M2028.79 1481.97 L2036.43 1481.97 L2036.43 1455.6 L2028.12 1457.27 L2028.12 1453.01 L2036.38 1451.34 L2041.06 1451.34 L2041.06 1481.97 L2048.7 1481.97 L2048.7 1485.9 L2028.79 1485.9 L2028.79 1481.97 Z\" fill=\"#000000\" fill-rule=\"evenodd\" fill-opacity=\"1\" /><path clip-path=\"url(#clip000)\" d=\"M 0 0 M2063.77 1454.42 Q2060.16 1454.42 2058.33 1457.99 Q2056.52 1461.53 2056.52 1468.66 Q2056.52 1475.77 2058.33 1479.33 Q2060.16 1482.87 2063.77 1482.87 Q2067.4 1482.87 2069.21 1479.33 Q2071.04 1475.77 2071.04 1468.66 Q2071.04 1461.53 2069.21 1457.99 Q2067.4 1454.42 2063.77 1454.42 M2063.77 1450.72 Q2069.58 1450.72 2072.63 1455.33 Q2075.71 1459.91 2075.71 1468.66 Q2075.71 1477.39 2072.63 1481.99 Q2069.58 1486.58 2063.77 1486.58 Q2057.96 1486.58 2054.88 1481.99 Q2051.82 1477.39 2051.82 1468.66 Q2051.82 1459.91 2054.88 1455.33 Q2057.96 1450.72 2063.77 1450.72 Z\" fill=\"#000000\" fill-rule=\"evenodd\" fill-opacity=\"1\" /><path clip-path=\"url(#clip000)\" d=\"M 0 0 M2088.41 1443.35 Q2091.14 1443.94 2092.66 1445.78 Q2094.2 1447.62 2094.2 1450.33 Q2094.2 1454.49 2091.34 1456.76 Q2088.48 1459.04 2083.22 1459.04 Q2081.45 1459.04 2079.57 1458.68 Q2077.71 1458.34 2075.71 1457.65 L2075.71 1453.98 Q2077.29 1454.9 2079.17 1455.37 Q2081.05 1455.84 2083.1 1455.84 Q2086.68 1455.84 2088.54 1454.43 Q2090.42 1453.02 2090.42 1450.33 Q2090.42 1447.85 2088.67 1446.46 Q2086.94 1445.05 2083.84 1445.05 L2080.57 1445.05 L2080.57 1441.92 L2083.99 1441.92 Q2086.79 1441.92 2088.28 1440.81 Q2089.76 1439.69 2089.76 1437.58 Q2089.76 1435.42 2088.22 1434.27 Q2086.7 1433.1 2083.84 1433.1 Q2082.28 1433.1 2080.49 1433.44 Q2078.7 1433.78 2076.56 1434.49 L2076.56 1431.11 Q2078.72 1430.51 2080.6 1430.21 Q2082.5 1429.91 2084.18 1429.91 Q2088.5 1429.91 2091.02 1431.88 Q2093.54 1433.84 2093.54 1437.18 Q2093.54 1439.52 2092.21 1441.13 Q2090.87 1442.73 2088.41 1443.35 Z\" fill=\"#000000\" fill-rule=\"evenodd\" fill-opacity=\"1\" /><path clip-path=\"url(#clip000)\" d=\"M 0 0 M2098.32 1453.72 L2102.29 1453.72 L2102.29 1458.49 L2098.32 1458.49 L2098.32 1453.72 Z\" fill=\"#000000\" fill-rule=\"evenodd\" fill-opacity=\"1\" /><path clip-path=\"url(#clip000)\" d=\"M 0 0 M2106.45 1430.41 L2121.36 1430.41 L2121.36 1433.61 L2109.92 1433.61 L2109.92 1440.49 Q2110.75 1440.21 2111.58 1440.08 Q2112.41 1439.93 2113.23 1439.93 Q2117.94 1439.93 2120.68 1442.51 Q2123.43 1445.08 2123.43 1449.48 Q2123.43 1454.02 2120.61 1456.54 Q2117.79 1459.04 2112.65 1459.04 Q2110.88 1459.04 2109.04 1458.74 Q2107.22 1458.44 2105.26 1457.84 L2105.26 1454.02 Q2106.95 1454.94 2108.76 1455.39 Q2110.56 1455.84 2112.58 1455.84 Q2115.83 1455.84 2117.73 1454.13 Q2119.63 1452.42 2119.63 1449.48 Q2119.63 1446.55 2117.73 1444.84 Q2115.83 1443.13 2112.58 1443.13 Q2111.05 1443.13 2109.53 1443.47 Q2108.02 1443.8 2106.45 1444.52 L2106.45 1430.41 Z\" fill=\"#000000\" fill-rule=\"evenodd\" fill-opacity=\"1\" /><path clip-path=\"url(#clip000)\" d=\"M 0 0 M188.922 1371.1 Q185.311 1371.1 183.482 1374.66 Q181.677 1378.2 181.677 1385.33 Q181.677 1392.44 183.482 1396 Q185.311 1399.54 188.922 1399.54 Q192.556 1399.54 194.362 1396 Q196.19 1392.44 196.19 1385.33 Q196.19 1378.2 194.362 1374.66 Q192.556 1371.1 188.922 1371.1 M188.922 1367.39 Q194.732 1367.39 197.788 1372 Q200.866 1376.58 200.866 1385.33 Q200.866 1394.06 197.788 1398.67 Q194.732 1403.25 188.922 1403.25 Q183.112 1403.25 180.033 1398.67 Q176.977 1394.06 176.977 1385.33 Q176.977 1376.58 180.033 1372 Q183.112 1367.39 188.922 1367.39 Z\" fill=\"#000000\" fill-rule=\"evenodd\" fill-opacity=\"1\" /><path clip-path=\"url(#clip000)\" d=\"M 0 0 M158.529 1073.78 L174.848 1073.78 L174.848 1077.71 L152.904 1077.71 L152.904 1073.78 Q155.566 1071.02 160.149 1066.39 Q164.755 1061.74 165.936 1060.4 Q168.181 1057.87 169.061 1056.14 Q169.964 1054.38 169.964 1052.69 Q169.964 1049.93 168.019 1048.2 Q166.098 1046.46 162.996 1046.46 Q160.797 1046.46 158.343 1047.23 Q155.913 1047.99 153.135 1049.54 L153.135 1044.82 Q155.959 1043.68 158.413 1043.11 Q160.866 1042.53 162.903 1042.53 Q168.274 1042.53 171.468 1045.21 Q174.663 1047.9 174.663 1052.39 Q174.663 1054.52 173.852 1056.44 Q173.065 1058.34 170.959 1060.93 Q170.38 1061.6 167.278 1064.82 Q164.177 1068.01 158.529 1073.78 Z\" fill=\"#000000\" fill-rule=\"evenodd\" fill-opacity=\"1\" /><path clip-path=\"url(#clip000)\" d=\"M 0 0 M179.964 1043.15 L198.32 1043.15 L198.32 1047.09 L184.246 1047.09 L184.246 1055.56 Q185.264 1055.21 186.283 1055.05 Q187.301 1054.87 188.32 1054.87 Q194.107 1054.87 197.487 1058.04 Q200.866 1061.21 200.866 1066.62 Q200.866 1072.2 197.394 1075.31 Q193.922 1078.38 187.602 1078.38 Q185.427 1078.38 183.158 1078.01 Q180.913 1077.64 178.505 1076.9 L178.505 1072.2 Q180.589 1073.34 182.811 1073.89 Q185.033 1074.45 187.51 1074.45 Q191.514 1074.45 193.852 1072.34 Q196.19 1070.24 196.19 1066.62 Q196.19 1063.01 193.852 1060.91 Q191.514 1058.8 187.51 1058.8 Q185.635 1058.8 183.76 1059.22 Q181.908 1059.63 179.964 1060.51 L179.964 1043.15 Z\" fill=\"#000000\" fill-rule=\"evenodd\" fill-opacity=\"1\" /><path clip-path=\"url(#clip000)\" d=\"M 0 0 M152.95 718.288 L171.306 718.288 L171.306 722.223 L157.232 722.223 L157.232 730.695 Q158.251 730.348 159.269 730.186 Q160.288 730.001 161.306 730.001 Q167.093 730.001 170.473 733.172 Q173.852 736.343 173.852 741.76 Q173.852 747.338 170.38 750.44 Q166.908 753.519 160.589 753.519 Q158.413 753.519 156.144 753.149 Q153.899 752.778 151.492 752.037 L151.492 747.338 Q153.575 748.473 155.797 749.028 Q158.019 749.584 160.496 749.584 Q164.501 749.584 166.839 747.477 Q169.177 745.371 169.177 741.76 Q169.177 738.149 166.839 736.042 Q164.501 733.936 160.496 733.936 Q158.621 733.936 156.746 734.352 Q154.894 734.769 152.95 735.649 L152.95 718.288 Z\" fill=\"#000000\" fill-rule=\"evenodd\" fill-opacity=\"1\" /><path clip-path=\"url(#clip000)\" d=\"M 0 0 M188.922 721.366 Q185.311 721.366 183.482 724.931 Q181.677 728.473 181.677 735.602 Q181.677 742.709 183.482 746.274 Q185.311 749.815 188.922 749.815 Q192.556 749.815 194.362 746.274 Q196.19 742.709 196.19 735.602 Q196.19 728.473 194.362 724.931 Q192.556 721.366 188.922 721.366 M188.922 717.663 Q194.732 717.663 197.788 722.269 Q200.866 726.852 200.866 735.602 Q200.866 744.329 197.788 748.936 Q194.732 753.519 188.922 753.519 Q183.112 753.519 180.033 748.936 Q176.977 744.329 176.977 735.602 Q176.977 726.852 180.033 722.269 Q183.112 717.663 188.922 717.663 Z\" fill=\"#000000\" fill-rule=\"evenodd\" fill-opacity=\"1\" /><path clip-path=\"url(#clip000)\" d=\"M 0 0 M152.626 393.423 L174.848 393.423 L174.848 395.414 L162.302 427.983 L157.417 427.983 L169.223 397.358 L152.626 397.358 L152.626 393.423 Z\" fill=\"#000000\" fill-rule=\"evenodd\" fill-opacity=\"1\" /><path clip-path=\"url(#clip000)\" d=\"M 0 0 M179.964 393.423 L198.32 393.423 L198.32 397.358 L184.246 397.358 L184.246 405.83 Q185.264 405.483 186.283 405.321 Q187.301 405.136 188.32 405.136 Q194.107 405.136 197.487 408.307 Q200.866 411.478 200.866 416.895 Q200.866 422.474 197.394 425.575 Q193.922 428.654 187.602 428.654 Q185.427 428.654 183.158 428.284 Q180.913 427.913 178.505 427.173 L178.505 422.474 Q180.589 423.608 182.811 424.163 Q185.033 424.719 187.51 424.719 Q191.514 424.719 193.852 422.613 Q196.19 420.506 196.19 416.895 Q196.19 413.284 193.852 411.177 Q191.514 409.071 187.51 409.071 Q185.635 409.071 183.76 409.488 Q181.908 409.904 179.964 410.784 L179.964 393.423 Z\" fill=\"#000000\" fill-rule=\"evenodd\" fill-opacity=\"1\" /><path clip-path=\"url(#clip000)\" d=\"M 0 0 M126.931 99.1829 L134.57 99.1829 L134.57 72.8173 L126.26 74.4839 L126.26 70.2247 L134.524 68.558 L139.2 68.558 L139.2 99.1829 L146.839 99.1829 L146.839 103.118 L126.931 103.118 L126.931 99.1829 Z\" fill=\"#000000\" fill-rule=\"evenodd\" fill-opacity=\"1\" /><path clip-path=\"url(#clip000)\" d=\"M 0 0 M161.908 71.6367 Q158.297 71.6367 156.468 75.2015 Q154.663 78.7432 154.663 85.8728 Q154.663 92.9792 156.468 96.544 Q158.297 100.086 161.908 100.086 Q165.542 100.086 167.348 96.544 Q169.177 92.9792 169.177 85.8728 Q169.177 78.7432 167.348 75.2015 Q165.542 71.6367 161.908 71.6367 M161.908 67.933 Q167.718 67.933 170.774 72.5395 Q173.852 77.1228 173.852 85.8728 Q173.852 94.5996 170.774 99.206 Q167.718 103.789 161.908 103.789 Q156.098 103.789 153.019 99.206 Q149.964 94.5996 149.964 85.8728 Q149.964 77.1228 153.019 72.5395 Q156.098 67.933 161.908 67.933 Z\" fill=\"#000000\" fill-rule=\"evenodd\" fill-opacity=\"1\" /><path clip-path=\"url(#clip000)\" d=\"M 0 0 M188.922 71.6367 Q185.311 71.6367 183.482 75.2015 Q181.677 78.7432 181.677 85.8728 Q181.677 92.9792 183.482 96.544 Q185.311 100.086 188.922 100.086 Q192.556 100.086 194.362 96.544 Q196.19 92.9792 196.19 85.8728 Q196.19 78.7432 194.362 75.2015 Q192.556 71.6367 188.922 71.6367 M188.922 67.933 Q194.732 67.933 197.788 72.5395 Q200.866 77.1228 200.866 85.8728 Q200.866 94.5996 197.788 99.206 Q194.732 103.789 188.922 103.789 Q183.112 103.789 180.033 99.206 Q176.977 94.5996 176.977 85.8728 Q176.977 77.1228 180.033 72.5395 Q183.112 67.933 188.922 67.933 Z\" fill=\"#000000\" fill-rule=\"evenodd\" fill-opacity=\"1\" /><path clip-path=\"url(#clip000)\" d=\"M 0 0 M1099.09 1542.9 L1099.09 1545.76 L1072.16 1545.76 Q1072.55 1551.81 1075.79 1554.99 Q1079.07 1558.14 1084.9 1558.14 Q1088.27 1558.14 1091.42 1557.32 Q1094.6 1556.49 1097.72 1554.83 L1097.72 1560.37 Q1094.57 1561.71 1091.26 1562.41 Q1087.95 1563.11 1084.55 1563.11 Q1076.01 1563.11 1071.02 1558.14 Q1066.05 1553.18 1066.05 1544.71 Q1066.05 1535.96 1070.76 1530.83 Q1075.51 1525.68 1083.53 1525.68 Q1090.72 1525.68 1094.89 1530.33 Q1099.09 1534.94 1099.09 1542.9 M1093.23 1541.18 Q1093.17 1536.37 1090.53 1533.51 Q1087.92 1530.64 1083.59 1530.64 Q1078.69 1530.64 1075.73 1533.41 Q1072.8 1536.18 1072.35 1541.21 L1093.23 1541.18 Z\" fill=\"#000000\" fill-rule=\"evenodd\" fill-opacity=\"1\" /><path clip-path=\"url(#clip000)\" d=\"M 0 0 M1110.9 1556.84 L1110.9 1575.74 L1105.01 1575.74 L1105.01 1526.54 L1110.9 1526.54 L1110.9 1531.95 Q1112.75 1528.77 1115.55 1527.24 Q1118.38 1525.68 1122.29 1525.68 Q1128.79 1525.68 1132.83 1530.83 Q1136.9 1535.99 1136.9 1544.39 Q1136.9 1552.8 1132.83 1557.95 Q1128.79 1563.11 1122.29 1563.11 Q1118.38 1563.11 1115.55 1561.58 Q1112.75 1560.02 1110.9 1556.84 M1130.82 1544.39 Q1130.82 1537.93 1128.15 1534.27 Q1125.51 1530.58 1120.86 1530.58 Q1116.21 1530.58 1113.54 1534.27 Q1110.9 1537.93 1110.9 1544.39 Q1110.9 1550.85 1113.54 1554.55 Q1116.21 1558.21 1120.86 1558.21 Q1125.51 1558.21 1128.15 1554.55 Q1130.82 1550.85 1130.82 1544.39 Z\" fill=\"#000000\" fill-rule=\"evenodd\" fill-opacity=\"1\" /><path clip-path=\"url(#clip000)\" d=\"M 0 0 M1156.86 1530.64 Q1152.15 1530.64 1149.41 1534.34 Q1146.67 1538 1146.67 1544.39 Q1146.67 1550.79 1149.38 1554.48 Q1152.12 1558.14 1156.86 1558.14 Q1161.54 1558.14 1164.28 1554.45 Q1167.01 1550.76 1167.01 1544.39 Q1167.01 1538.06 1164.28 1534.37 Q1161.54 1530.64 1156.86 1530.64 M1156.86 1525.68 Q1164.5 1525.68 1168.86 1530.64 Q1173.22 1535.61 1173.22 1544.39 Q1173.22 1553.15 1168.86 1558.14 Q1164.5 1563.11 1156.86 1563.11 Q1149.19 1563.11 1144.83 1558.14 Q1140.5 1553.15 1140.5 1544.39 Q1140.5 1535.61 1144.83 1530.64 Q1149.19 1525.68 1156.86 1525.68 Z\" fill=\"#000000\" fill-rule=\"evenodd\" fill-opacity=\"1\" /><path clip-path=\"url(#clip000)\" d=\"M 0 0 M1205.02 1527.91 L1205.02 1533.38 Q1202.53 1532.01 1200.02 1531.34 Q1197.54 1530.64 1194.99 1530.64 Q1189.29 1530.64 1186.14 1534.27 Q1182.99 1537.87 1182.99 1544.39 Q1182.99 1550.92 1186.14 1554.55 Q1189.29 1558.14 1194.99 1558.14 Q1197.54 1558.14 1200.02 1557.47 Q1202.53 1556.77 1205.02 1555.41 L1205.02 1560.82 Q1202.57 1561.96 1199.92 1562.54 Q1197.31 1563.11 1194.35 1563.11 Q1186.3 1563.11 1181.56 1558.05 Q1176.82 1552.99 1176.82 1544.39 Q1176.82 1535.67 1181.59 1530.68 Q1186.4 1525.68 1194.74 1525.68 Q1197.44 1525.68 1200.02 1526.25 Q1202.6 1526.79 1205.02 1527.91 Z\" fill=\"#000000\" fill-rule=\"evenodd\" fill-opacity=\"1\" /><path clip-path=\"url(#clip000)\" d=\"M 0 0 M1240.79 1540.67 L1240.79 1562.19 L1234.93 1562.19 L1234.93 1540.86 Q1234.93 1535.8 1232.96 1533.29 Q1230.99 1530.77 1227.04 1530.77 Q1222.3 1530.77 1219.56 1533.79 Q1216.82 1536.82 1216.82 1542.04 L1216.82 1562.19 L1210.94 1562.19 L1210.94 1512.66 L1216.82 1512.66 L1216.82 1532.08 Q1218.93 1528.86 1221.76 1527.27 Q1224.62 1525.68 1228.35 1525.68 Q1234.49 1525.68 1237.64 1529.5 Q1240.79 1533.29 1240.79 1540.67 Z\" fill=\"#000000\" fill-rule=\"evenodd\" fill-opacity=\"1\" /><path clip-path=\"url(#clip000)\" d=\"M 0 0 M1269.66 1527.59 L1269.66 1533.13 Q1267.18 1531.85 1264.5 1531.22 Q1261.83 1530.58 1258.97 1530.58 Q1254.6 1530.58 1252.41 1531.92 Q1250.24 1533.25 1250.24 1535.93 Q1250.24 1537.96 1251.8 1539.14 Q1253.36 1540.29 1258.07 1541.34 L1260.08 1541.78 Q1266.32 1543.12 1268.93 1545.57 Q1271.57 1547.99 1271.57 1552.35 Q1271.57 1557.32 1267.62 1560.21 Q1263.71 1563.11 1256.83 1563.11 Q1253.97 1563.11 1250.85 1562.54 Q1247.76 1561.99 1244.32 1560.88 L1244.32 1554.83 Q1247.57 1556.52 1250.72 1557.38 Q1253.87 1558.21 1256.96 1558.21 Q1261.1 1558.21 1263.33 1556.81 Q1265.55 1555.37 1265.55 1552.8 Q1265.55 1550.41 1263.93 1549.14 Q1262.34 1547.86 1256.9 1546.68 L1254.86 1546.21 Q1249.42 1545.06 1247 1542.71 Q1244.58 1540.32 1244.58 1536.18 Q1244.58 1531.15 1248.14 1528.42 Q1251.71 1525.68 1258.27 1525.68 Q1261.51 1525.68 1264.38 1526.16 Q1267.24 1526.63 1269.66 1527.59 Z\" fill=\"#000000\" fill-rule=\"evenodd\" fill-opacity=\"1\" /><path clip-path=\"url(#clip000)\" d=\"M 0 0 M70.212 837.558 Q63.7508 837.558 60.0905 840.232 Q56.3984 842.873 56.3984 847.52 Q56.3984 852.167 60.0905 854.841 Q63.7508 857.483 70.212 857.483 Q76.6732 857.483 80.3653 854.841 Q84.0256 852.167 84.0256 847.52 Q84.0256 842.873 80.3653 840.232 Q76.6732 837.558 70.212 837.558 M57.7671 857.483 Q54.5842 855.637 53.0564 852.836 Q51.4968 850.003 51.4968 846.088 Q51.4968 839.595 56.6531 835.553 Q61.8093 831.479 70.212 831.479 Q78.6147 831.479 83.771 835.553 Q88.9272 839.595 88.9272 846.088 Q88.9272 850.003 87.3994 852.836 Q85.8398 855.637 82.657 857.483 L88.0042 857.483 L88.0042 863.371 L38.479 863.371 L38.479 857.483 L57.7671 857.483 Z\" fill=\"#000000\" fill-rule=\"evenodd\" fill-opacity=\"1\" /><path clip-path=\"url(#clip000)\" d=\"M 0 0 M73.9359 825.941 L52.3562 825.941 L52.3562 820.084 L73.7131 820.084 Q78.7739 820.084 81.3202 818.111 Q83.8346 816.137 83.8346 812.191 Q83.8346 807.448 80.8109 804.711 Q77.7872 801.942 72.5673 801.942 L52.3562 801.942 L52.3562 796.085 L88.0042 796.085 L88.0042 801.942 L82.5296 801.942 Q85.7762 804.074 87.3676 806.907 Q88.9272 809.708 88.9272 813.432 Q88.9272 819.575 85.1078 822.758 Q81.2883 825.941 73.9359 825.941 M51.4968 811.204 L51.4968 811.204 Z\" fill=\"#000000\" fill-rule=\"evenodd\" fill-opacity=\"1\" /><path clip-path=\"url(#clip000)\" d=\"M 0 0 M52.3562 789.942 L52.3562 784.086 L88.0042 784.086 L88.0042 789.942 L52.3562 789.942 M38.479 789.942 L38.479 784.086 L45.895 784.086 L45.895 789.942 L38.479 789.942 Z\" fill=\"#000000\" fill-rule=\"evenodd\" fill-opacity=\"1\" /><path clip-path=\"url(#clip000)\" d=\"M 0 0 M38.479 777.943 L38.479 772.087 L88.0042 772.087 L88.0042 777.943 L38.479 777.943 Z\" fill=\"#000000\" fill-rule=\"evenodd\" fill-opacity=\"1\" /><path clip-path=\"url(#clip000)\" d=\"M 0 0 M57.7671 742.486 L38.479 742.486 L38.479 736.63 L88.0042 736.63 L88.0042 742.486 L82.657 742.486 Q85.8398 744.332 87.3994 747.165 Q88.9272 749.966 88.9272 753.913 Q88.9272 760.374 83.771 764.448 Q78.6147 768.49 70.212 768.49 Q61.8093 768.49 56.6531 764.448 Q51.4968 760.374 51.4968 753.913 Q51.4968 749.966 53.0564 747.165 Q54.5842 744.332 57.7671 742.486 M70.212 762.443 Q76.6732 762.443 80.3653 759.801 Q84.0256 757.127 84.0256 752.48 Q84.0256 747.833 80.3653 745.16 Q76.6732 742.486 70.212 742.486 Q63.7508 742.486 60.0905 745.16 Q56.3984 747.833 56.3984 752.48 Q56.3984 757.127 60.0905 759.801 Q63.7508 762.443 70.212 762.443 Z\" fill=\"#000000\" fill-rule=\"evenodd\" fill-opacity=\"1\" /><path clip-path=\"url(#clip000)\" d=\"M 0 0 M68.7161 699.995 L71.5806 699.995 L71.5806 726.922 Q77.6281 726.54 80.8109 723.293 Q83.9619 720.015 83.9619 714.191 Q83.9619 710.817 83.1344 707.666 Q82.3069 704.483 80.6518 701.364 L86.1899 701.364 Q87.5267 704.515 88.227 707.825 Q88.9272 711.135 88.9272 714.541 Q88.9272 723.071 83.9619 728.068 Q78.9967 733.033 70.5303 733.033 Q61.7774 733.033 56.6531 728.322 Q51.4968 723.58 51.4968 715.559 Q51.4968 708.366 56.1438 704.196 Q60.7589 699.995 68.7161 699.995 M66.9973 705.851 Q62.1912 705.915 59.3266 708.557 Q56.4621 711.167 56.4621 715.495 Q56.4621 720.397 59.2312 723.357 Q62.0002 726.285 67.0292 726.731 L66.9973 705.851 Z\" fill=\"#000000\" fill-rule=\"evenodd\" fill-opacity=\"1\" /><path clip-path=\"url(#clip000)\" d=\"M 0 0 M57.8307 673.195 Q57.2578 674.182 57.0032 675.36 Q56.7167 676.506 56.7167 677.906 Q56.7167 682.871 59.9632 685.545 Q63.1779 688.187 69.2253 688.187 L88.0042 688.187 L88.0042 694.075 L52.3562 694.075 L52.3562 688.187 L57.8944 688.187 Q54.6479 686.341 53.0883 683.381 Q51.4968 680.42 51.4968 676.187 Q51.4968 675.583 51.5923 674.85 Q51.656 674.118 51.8151 673.227 L57.8307 673.195 Z\" fill=\"#000000\" fill-rule=\"evenodd\" fill-opacity=\"1\" /><path clip-path=\"url(#clip000)\" d=\"M 0 0 M79.9197 672.209 L79.9197 665.493 L88.0042 665.493 L88.0042 672.209 L79.9197 672.209 Z\" fill=\"#000000\" fill-rule=\"evenodd\" fill-opacity=\"1\" /><path clip-path=\"url(#clip000)\" d=\"M 0 0 M66.4881 629.718 L88.0042 629.718 L88.0042 635.574 L66.679 635.574 Q61.6183 635.574 59.1038 637.547 Q56.5894 639.521 56.5894 643.468 Q56.5894 648.21 59.6131 650.947 Q62.6368 653.684 67.8567 653.684 L88.0042 653.684 L88.0042 659.573 L52.3562 659.573 L52.3562 653.684 L57.8944 653.684 Q54.6797 651.584 53.0883 648.751 Q51.4968 645.886 51.4968 642.163 Q51.4968 636.02 55.3163 632.869 Q59.1038 629.718 66.4881 629.718 Z\" fill=\"#000000\" fill-rule=\"evenodd\" fill-opacity=\"1\" /><path clip-path=\"url(#clip000)\" d=\"M 0 0 M82.5933 617.209 L82.5933 594.77 L88.0042 594.77 L88.0042 624.943 L82.5933 624.943 Q78.8057 621.283 72.44 614.981 Q66.0425 608.647 64.1964 607.024 Q60.7271 603.936 58.34 602.727 Q55.921 601.486 53.5975 601.486 Q49.8099 601.486 47.4228 604.159 Q45.0356 606.801 45.0356 611.066 Q45.0356 614.09 46.086 617.464 Q47.1363 620.806 49.2688 624.625 L42.7758 624.625 Q41.2162 620.742 40.4205 617.368 Q39.6248 613.994 39.6248 611.193 Q39.6248 603.809 43.3169 599.417 Q47.009 595.025 53.1837 595.025 Q56.112 595.025 58.7537 596.138 Q61.3637 597.221 64.9285 600.117 Q65.8515 600.913 70.2757 605.178 Q74.668 609.443 82.5933 617.209 Z\" fill=\"#000000\" fill-rule=\"evenodd\" fill-opacity=\"1\" /><circle clip-path=\"url(#clip002)\" cx=\"538.376\" cy=\"85.838\" r=\"8\" fill=\"#10092e\" fill-rule=\"evenodd\" fill-opacity=\"1\" stroke=\"#000000\" stroke-opacity=\"1\" stroke-width=\"3.2\"/>\n",
       "<circle clip-path=\"url(#clip002)\" cx=\"1040.93\" cy=\"267.762\" r=\"6\" fill=\"#060419\" fill-rule=\"evenodd\" fill-opacity=\"1\" stroke=\"#000000\" stroke-opacity=\"1\" stroke-width=\"3.2\"/>\n",
       "<circle clip-path=\"url(#clip002)\" cx=\"787.034\" cy=\"85.838\" r=\"7\" fill=\"#08051e\" fill-rule=\"evenodd\" fill-opacity=\"1\" stroke=\"#000000\" stroke-opacity=\"1\" stroke-width=\"3.2\"/>\n",
       "<circle clip-path=\"url(#clip002)\" cx=\"538.376\" cy=\"267.762\" r=\"8\" fill=\"#110a30\" fill-rule=\"evenodd\" fill-opacity=\"1\" stroke=\"#000000\" stroke-opacity=\"1\" stroke-width=\"3.2\"/>\n",
       "<circle clip-path=\"url(#clip002)\" cx=\"787.034\" cy=\"826.53\" r=\"7\" fill=\"#0a0623\" fill-rule=\"evenodd\" fill-opacity=\"1\" stroke=\"#000000\" stroke-opacity=\"1\" stroke-width=\"3.2\"/>\n",
       "<circle clip-path=\"url(#clip002)\" cx=\"1804.86\" cy=\"267.762\" r=\"3\" fill=\"#000003\" fill-rule=\"evenodd\" fill-opacity=\"1\" stroke=\"#000000\" stroke-opacity=\"1\" stroke-width=\"3.2\"/>\n",
       "<circle clip-path=\"url(#clip002)\" cx=\"1040.93\" cy=\"631.611\" r=\"6\" fill=\"#06051b\" fill-rule=\"evenodd\" fill-opacity=\"1\" stroke=\"#000000\" stroke-opacity=\"1\" stroke-width=\"3.2\"/>\n",
       "<circle clip-path=\"url(#clip002)\" cx=\"1550.46\" cy=\"85.838\" r=\"3\" fill=\"#000004\" fill-rule=\"evenodd\" fill-opacity=\"1\" stroke=\"#000000\" stroke-opacity=\"1\" stroke-width=\"3.2\"/>\n",
       "<circle clip-path=\"url(#clip002)\" cx=\"1550.46\" cy=\"631.611\" r=\"3\" fill=\"#000005\" fill-rule=\"evenodd\" fill-opacity=\"1\" stroke=\"#000000\" stroke-opacity=\"1\" stroke-width=\"3.2\"/>\n",
       "<circle clip-path=\"url(#clip002)\" cx=\"2059.33\" cy=\"85.838\" r=\"3\" fill=\"#000003\" fill-rule=\"evenodd\" fill-opacity=\"1\" stroke=\"#000000\" stroke-opacity=\"1\" stroke-width=\"3.2\"/>\n",
       "<circle clip-path=\"url(#clip002)\" cx=\"1804.86\" cy=\"1008.45\" r=\"3\" fill=\"#000003\" fill-rule=\"evenodd\" fill-opacity=\"1\" stroke=\"#000000\" stroke-opacity=\"1\" stroke-width=\"3.2\"/>\n",
       "<circle clip-path=\"url(#clip002)\" cx=\"787.034\" cy=\"1372.3\" r=\"61\" fill=\"#fcfea4\" fill-rule=\"evenodd\" fill-opacity=\"1\" stroke=\"#000000\" stroke-opacity=\"1\" stroke-width=\"3.2\"/>\n",
       "<circle clip-path=\"url(#clip002)\" cx=\"278.297\" cy=\"267.762\" r=\"15\" fill=\"#3e0966\" fill-rule=\"evenodd\" fill-opacity=\"1\" stroke=\"#000000\" stroke-opacity=\"1\" stroke-width=\"3.2\"/>\n",
       "<circle clip-path=\"url(#clip002)\" cx=\"278.297\" cy=\"449.687\" r=\"18\" fill=\"#4f0d6c\" fill-rule=\"evenodd\" fill-opacity=\"1\" stroke=\"#000000\" stroke-opacity=\"1\" stroke-width=\"3.2\"/>\n",
       "<circle clip-path=\"url(#clip002)\" cx=\"538.376\" cy=\"1008.45\" r=\"10\" fill=\"#1c0c43\" fill-rule=\"evenodd\" fill-opacity=\"1\" stroke=\"#000000\" stroke-opacity=\"1\" stroke-width=\"3.2\"/>\n",
       "<circle clip-path=\"url(#clip002)\" cx=\"2059.33\" cy=\"449.687\" r=\"3\" fill=\"#000004\" fill-rule=\"evenodd\" fill-opacity=\"1\" stroke=\"#000000\" stroke-opacity=\"1\" stroke-width=\"3.2\"/>\n",
       "<circle clip-path=\"url(#clip002)\" cx=\"538.376\" cy=\"826.53\" r=\"9\" fill=\"#160b39\" fill-rule=\"evenodd\" fill-opacity=\"1\" stroke=\"#000000\" stroke-opacity=\"1\" stroke-width=\"3.2\"/>\n",
       "<circle clip-path=\"url(#clip002)\" cx=\"2059.33\" cy=\"267.762\" r=\"3\" fill=\"#000003\" fill-rule=\"evenodd\" fill-opacity=\"1\" stroke=\"#000000\" stroke-opacity=\"1\" stroke-width=\"3.2\"/>\n",
       "<circle clip-path=\"url(#clip002)\" cx=\"278.297\" cy=\"631.611\" r=\"18\" fill=\"#540e6d\" fill-rule=\"evenodd\" fill-opacity=\"1\" stroke=\"#000000\" stroke-opacity=\"1\" stroke-width=\"3.2\"/>\n",
       "<circle clip-path=\"url(#clip002)\" cx=\"1040.93\" cy=\"85.838\" r=\"6\" fill=\"#06041a\" fill-rule=\"evenodd\" fill-opacity=\"1\" stroke=\"#000000\" stroke-opacity=\"1\" stroke-width=\"3.2\"/>\n",
       "<circle clip-path=\"url(#clip002)\" cx=\"1804.86\" cy=\"449.687\" r=\"3\" fill=\"#000003\" fill-rule=\"evenodd\" fill-opacity=\"1\" stroke=\"#000000\" stroke-opacity=\"1\" stroke-width=\"3.2\"/>\n",
       "<circle clip-path=\"url(#clip002)\" cx=\"1295.65\" cy=\"85.838\" r=\"5\" fill=\"#030211\" fill-rule=\"evenodd\" fill-opacity=\"1\" stroke=\"#000000\" stroke-opacity=\"1\" stroke-width=\"3.2\"/>\n",
       "<circle clip-path=\"url(#clip002)\" cx=\"538.376\" cy=\"449.687\" r=\"9\" fill=\"#130a35\" fill-rule=\"evenodd\" fill-opacity=\"1\" stroke=\"#000000\" stroke-opacity=\"1\" stroke-width=\"3.2\"/>\n",
       "<circle clip-path=\"url(#clip002)\" cx=\"1804.86\" cy=\"631.611\" r=\"4\" fill=\"#000006\" fill-rule=\"evenodd\" fill-opacity=\"1\" stroke=\"#000000\" stroke-opacity=\"1\" stroke-width=\"3.2\"/>\n",
       "<circle clip-path=\"url(#clip002)\" cx=\"787.034\" cy=\"267.762\" r=\"7\" fill=\"#08051f\" fill-rule=\"evenodd\" fill-opacity=\"1\" stroke=\"#000000\" stroke-opacity=\"1\" stroke-width=\"3.2\"/>\n",
       "<circle clip-path=\"url(#clip002)\" cx=\"1040.93\" cy=\"1008.45\" r=\"6\" fill=\"#07051d\" fill-rule=\"evenodd\" fill-opacity=\"1\" stroke=\"#000000\" stroke-opacity=\"1\" stroke-width=\"3.2\"/>\n",
       "<circle clip-path=\"url(#clip002)\" cx=\"787.034\" cy=\"449.687\" r=\"7\" fill=\"#080620\" fill-rule=\"evenodd\" fill-opacity=\"1\" stroke=\"#000000\" stroke-opacity=\"1\" stroke-width=\"3.2\"/>\n",
       "<circle clip-path=\"url(#clip002)\" cx=\"278.297\" cy=\"1190.38\" r=\"44\" fill=\"#f06f1f\" fill-rule=\"evenodd\" fill-opacity=\"1\" stroke=\"#000000\" stroke-opacity=\"1\" stroke-width=\"3.2\"/>\n",
       "<circle clip-path=\"url(#clip002)\" cx=\"278.297\" cy=\"1372.3\" r=\"58\" fill=\"#f1eb6c\" fill-rule=\"evenodd\" fill-opacity=\"1\" stroke=\"#000000\" stroke-opacity=\"1\" stroke-width=\"3.2\"/>\n",
       "<circle clip-path=\"url(#clip002)\" cx=\"1550.46\" cy=\"826.53\" r=\"3\" fill=\"#000005\" fill-rule=\"evenodd\" fill-opacity=\"1\" stroke=\"#000000\" stroke-opacity=\"1\" stroke-width=\"3.2\"/>\n",
       "<circle clip-path=\"url(#clip002)\" cx=\"1295.65\" cy=\"267.762\" r=\"5\" fill=\"#020210\" fill-rule=\"evenodd\" fill-opacity=\"1\" stroke=\"#000000\" stroke-opacity=\"1\" stroke-width=\"3.2\"/>\n",
       "<circle clip-path=\"url(#clip002)\" cx=\"1295.65\" cy=\"1372.3\" r=\"10\" fill=\"#1a0b40\" fill-rule=\"evenodd\" fill-opacity=\"1\" stroke=\"#000000\" stroke-opacity=\"1\" stroke-width=\"3.2\"/>\n",
       "<circle clip-path=\"url(#clip002)\" cx=\"2059.33\" cy=\"1008.45\" r=\"3\" fill=\"#000004\" fill-rule=\"evenodd\" fill-opacity=\"1\" stroke=\"#000000\" stroke-opacity=\"1\" stroke-width=\"3.2\"/>\n",
       "<circle clip-path=\"url(#clip002)\" cx=\"2059.33\" cy=\"826.53\" r=\"3\" fill=\"#000003\" fill-rule=\"evenodd\" fill-opacity=\"1\" stroke=\"#000000\" stroke-opacity=\"1\" stroke-width=\"3.2\"/>\n",
       "<circle clip-path=\"url(#clip002)\" cx=\"278.297\" cy=\"826.53\" r=\"29\" fill=\"#9c2963\" fill-rule=\"evenodd\" fill-opacity=\"1\" stroke=\"#000000\" stroke-opacity=\"1\" stroke-width=\"3.2\"/>\n",
       "<circle clip-path=\"url(#clip002)\" cx=\"538.376\" cy=\"1190.38\" r=\"13\" fill=\"#2b0a56\" fill-rule=\"evenodd\" fill-opacity=\"1\" stroke=\"#000000\" stroke-opacity=\"1\" stroke-width=\"3.2\"/>\n",
       "<circle clip-path=\"url(#clip002)\" cx=\"2059.33\" cy=\"1372.3\" r=\"3\" fill=\"#000003\" fill-rule=\"evenodd\" fill-opacity=\"1\" stroke=\"#000000\" stroke-opacity=\"1\" stroke-width=\"3.2\"/>\n",
       "<circle clip-path=\"url(#clip002)\" cx=\"1804.86\" cy=\"1190.38\" r=\"4\" fill=\"#010007\" fill-rule=\"evenodd\" fill-opacity=\"1\" stroke=\"#000000\" stroke-opacity=\"1\" stroke-width=\"3.2\"/>\n",
       "<circle clip-path=\"url(#clip002)\" cx=\"787.034\" cy=\"1190.38\" r=\"8\" fill=\"#10092e\" fill-rule=\"evenodd\" fill-opacity=\"1\" stroke=\"#000000\" stroke-opacity=\"1\" stroke-width=\"3.2\"/>\n",
       "<circle clip-path=\"url(#clip002)\" cx=\"1295.65\" cy=\"1008.45\" r=\"5\" fill=\"#030212\" fill-rule=\"evenodd\" fill-opacity=\"1\" stroke=\"#000000\" stroke-opacity=\"1\" stroke-width=\"3.2\"/>\n",
       "<circle clip-path=\"url(#clip002)\" cx=\"787.034\" cy=\"1008.45\" r=\"7\" fill=\"#0b0726\" fill-rule=\"evenodd\" fill-opacity=\"1\" stroke=\"#000000\" stroke-opacity=\"1\" stroke-width=\"3.2\"/>\n",
       "<circle clip-path=\"url(#clip002)\" cx=\"1550.46\" cy=\"449.687\" r=\"3\" fill=\"#000004\" fill-rule=\"evenodd\" fill-opacity=\"1\" stroke=\"#000000\" stroke-opacity=\"1\" stroke-width=\"3.2\"/>\n",
       "<circle clip-path=\"url(#clip002)\" cx=\"278.297\" cy=\"1008.45\" r=\"30\" fill=\"#a22b61\" fill-rule=\"evenodd\" fill-opacity=\"1\" stroke=\"#000000\" stroke-opacity=\"1\" stroke-width=\"3.2\"/>\n",
       "<circle clip-path=\"url(#clip002)\" cx=\"1550.46\" cy=\"267.762\" r=\"3\" fill=\"#000005\" fill-rule=\"evenodd\" fill-opacity=\"1\" stroke=\"#000000\" stroke-opacity=\"1\" stroke-width=\"3.2\"/>\n",
       "<circle clip-path=\"url(#clip002)\" cx=\"1040.93\" cy=\"1372.3\" r=\"20\" fill=\"#5e126e\" fill-rule=\"evenodd\" fill-opacity=\"1\" stroke=\"#000000\" stroke-opacity=\"1\" stroke-width=\"3.2\"/>\n",
       "<circle clip-path=\"url(#clip002)\" cx=\"1295.65\" cy=\"826.53\" r=\"5\" fill=\"#030210\" fill-rule=\"evenodd\" fill-opacity=\"1\" stroke=\"#000000\" stroke-opacity=\"1\" stroke-width=\"3.2\"/>\n",
       "<circle clip-path=\"url(#clip002)\" cx=\"1550.46\" cy=\"1008.45\" r=\"4\" fill=\"#000007\" fill-rule=\"evenodd\" fill-opacity=\"1\" stroke=\"#000000\" stroke-opacity=\"1\" stroke-width=\"3.2\"/>\n",
       "<circle clip-path=\"url(#clip002)\" cx=\"1550.46\" cy=\"1372.3\" r=\"10\" fill=\"#170b3b\" fill-rule=\"evenodd\" fill-opacity=\"1\" stroke=\"#000000\" stroke-opacity=\"1\" stroke-width=\"3.2\"/>\n",
       "<circle clip-path=\"url(#clip002)\" cx=\"1295.65\" cy=\"631.611\" r=\"5\" fill=\"#030212\" fill-rule=\"evenodd\" fill-opacity=\"1\" stroke=\"#000000\" stroke-opacity=\"1\" stroke-width=\"3.2\"/>\n",
       "<circle clip-path=\"url(#clip002)\" cx=\"538.376\" cy=\"1372.3\" r=\"60\" fill=\"#f8fc9c\" fill-rule=\"evenodd\" fill-opacity=\"1\" stroke=\"#000000\" stroke-opacity=\"1\" stroke-width=\"3.2\"/>\n",
       "<circle clip-path=\"url(#clip002)\" cx=\"1295.65\" cy=\"1190.38\" r=\"5\" fill=\"#030313\" fill-rule=\"evenodd\" fill-opacity=\"1\" stroke=\"#000000\" stroke-opacity=\"1\" stroke-width=\"3.2\"/>\n",
       "<circle clip-path=\"url(#clip002)\" cx=\"538.376\" cy=\"631.611\" r=\"9\" fill=\"#140a35\" fill-rule=\"evenodd\" fill-opacity=\"1\" stroke=\"#000000\" stroke-opacity=\"1\" stroke-width=\"3.2\"/>\n",
       "<circle clip-path=\"url(#clip002)\" cx=\"278.297\" cy=\"85.838\" r=\"15\" fill=\"#3a0963\" fill-rule=\"evenodd\" fill-opacity=\"1\" stroke=\"#000000\" stroke-opacity=\"1\" stroke-width=\"3.2\"/>\n",
       "<circle clip-path=\"url(#clip002)\" cx=\"1804.86\" cy=\"1372.3\" r=\"4\" fill=\"#010109\" fill-rule=\"evenodd\" fill-opacity=\"1\" stroke=\"#000000\" stroke-opacity=\"1\" stroke-width=\"3.2\"/>\n",
       "<circle clip-path=\"url(#clip002)\" cx=\"2059.33\" cy=\"1190.38\" r=\"4\" fill=\"#010008\" fill-rule=\"evenodd\" fill-opacity=\"1\" stroke=\"#000000\" stroke-opacity=\"1\" stroke-width=\"3.2\"/>\n",
       "<circle clip-path=\"url(#clip002)\" cx=\"1295.65\" cy=\"449.687\" r=\"5\" fill=\"#030211\" fill-rule=\"evenodd\" fill-opacity=\"1\" stroke=\"#000000\" stroke-opacity=\"1\" stroke-width=\"3.2\"/>\n",
       "<circle clip-path=\"url(#clip002)\" cx=\"2059.33\" cy=\"631.611\" r=\"3\" fill=\"#000003\" fill-rule=\"evenodd\" fill-opacity=\"1\" stroke=\"#000000\" stroke-opacity=\"1\" stroke-width=\"3.2\"/>\n",
       "<circle clip-path=\"url(#clip002)\" cx=\"1040.93\" cy=\"1190.38\" r=\"7\" fill=\"#090621\" fill-rule=\"evenodd\" fill-opacity=\"1\" stroke=\"#000000\" stroke-opacity=\"1\" stroke-width=\"3.2\"/>\n",
       "<circle clip-path=\"url(#clip002)\" cx=\"787.034\" cy=\"631.611\" r=\"7\" fill=\"#090621\" fill-rule=\"evenodd\" fill-opacity=\"1\" stroke=\"#000000\" stroke-opacity=\"1\" stroke-width=\"3.2\"/>\n",
       "<circle clip-path=\"url(#clip002)\" cx=\"1550.46\" cy=\"1190.38\" r=\"4\" fill=\"#000006\" fill-rule=\"evenodd\" fill-opacity=\"1\" stroke=\"#000000\" stroke-opacity=\"1\" stroke-width=\"3.2\"/>\n",
       "<circle clip-path=\"url(#clip002)\" cx=\"1040.93\" cy=\"449.687\" r=\"6\" fill=\"#050316\" fill-rule=\"evenodd\" fill-opacity=\"1\" stroke=\"#000000\" stroke-opacity=\"1\" stroke-width=\"3.2\"/>\n",
       "<circle clip-path=\"url(#clip002)\" cx=\"1040.93\" cy=\"826.53\" r=\"6\" fill=\"#06051b\" fill-rule=\"evenodd\" fill-opacity=\"1\" stroke=\"#000000\" stroke-opacity=\"1\" stroke-width=\"3.2\"/>\n",
       "<circle clip-path=\"url(#clip002)\" cx=\"1804.86\" cy=\"85.838\" r=\"3\" fill=\"#000003\" fill-rule=\"evenodd\" fill-opacity=\"1\" stroke=\"#000000\" stroke-opacity=\"1\" stroke-width=\"3.2\"/>\n",
       "<circle clip-path=\"url(#clip002)\" cx=\"1804.86\" cy=\"826.53\" r=\"3\" fill=\"#000003\" fill-rule=\"evenodd\" fill-opacity=\"1\" stroke=\"#000000\" stroke-opacity=\"1\" stroke-width=\"3.2\"/>\n",
       "<defs>\n",
       "  <clipPath id=\"clip003\">\n",
       "    <rect x=\"2160\" y=\"47\" width=\"73\" height=\"1365\"/>\n",
       "  </clipPath>\n",
       "</defs>\n",
       "<g clip-path=\"url(#clip003)\">\n",
       "<image width=\"72\" height=\"1364\" xlink:href=\"data:image/png;base64,\n",
       "iVBORw0KGgoAAAANSUhEUgAAAEgAAAVUCAYAAABzwV4AAAAL0klEQVR4nO3dwY3sRhAFQY5Q/lsh\n",
       "L6XfLQtUeSQPERYsEg+zZJM7+/v3/H0f/tdfb/8AXydQECgIFAQKc+6/b/8Mn2ZBQaAgUBAozL1/\n",
       "3v4ZPs2CgkBBoCBQcCUdLCgIFAQKAgWBwly/xVYWFAQKAgWBwtzjQ3pjQUGgIFAQKLiSDhYUBAoC\n",
       "BYGCQMFvsWBBQaAgUBAoOA8KFhQECgIFgcI8rqRXFhQECgIFgYJAwXlQsKAgUBAoCBTmcR60sqAg\n",
       "UBAoCBTmOf+8/TN8mgUFgYJAQaAgUPBUI1hQECgIFAQKzoOCBQWBgkBBoOBDOlhQECgIFAQKAgXn\n",
       "QcGCgkBBoCBQmJ9bjZUFBYGCQEGgMM/xpf8bCwoCBYGCQEGg4FYjWFAQKAgUBApuNYIFBYGCQEGg\n",
       "4P2gYEFBoCBQECgIFObnVmNlQUGgIFAQKHiJM1hQECgIFAQKrqSDBQWBgkBBoCBQ8Og5WFAQKAgU\n",
       "BApuNYIFBYGCQEGg4Eo6WFAQKAgUBAoCBbcawYKCQEGgIFCY55y3f4ZPs6AgUBAoCBRcSQcLCgIF\n",
       "gYJAQaDgqUawoCBQECgIFHxIBwsKAgWBgkBhfg7tVxYUBAoCBYGCQMGtRrCgIFAQKAgUvB8ULCgI\n",
       "FAQKAgXnQcGCgkBBoCBQECg4DwoWFAQKAgWBgvOgYEFBoCBQECj4kA4WFAQKAgWBgkDBXz0HCwoC\n",
       "BYGCQMGtRrCgIFAQKAgUfEgHCwoCBYGCQEGg4LdYsKAgUBAoCBR8SAcLCgIFgYJAYZ7rQ3pjQUGg\n",
       "IFAQKAgU3GoECwoCBYGCQMGHdLCgIFAQKAgUfEgHCwoCBYGCQEGgMM+5b/8Mn2ZBQaAgUBAouNUI\n",
       "FhQECgIFgYIr6WBBQaAgUBAoCBTcagQLCgIFgYJAwa1GsKAgUBAoCBTmcSG9sqAgUBAoCBQECvNc\n",
       "txobCwoCBYGCQMGtRrCgIFAQKAgUfEgHCwoCBYGCQEGgML4Eb2dBQaAgUBAouNUIFhQECgIFgYIP\n",
       "6WBBQaAgUBAoCBTmOb+3f4ZPs6AgUBAoCBTmXh/SGwsKAgWBgkDBeVCwoCBQECgIFBx3BAsKAgWB\n",
       "gkBBoDD3aLRRJwgUBAoCBbcawYKCQEGgIFCYx5PVlQUFgYJAQaAgUJjrVmNlQUGgIFAQKMzj0H6l\n",
       "ThAoCBQECq6kgwUFgYJAQaAgUPBUI1hQECgIFAQKXuIM6gSBgkBBoOAlzmBBQaAgUBAoCBQ81QgW\n",
       "FAQKAgWBwtyr0UadIFAQKAgUnAcFCwoCBYGCQEGg4DwoWFAQKAgUBArzOA9aqRMECgIFgYIr6WBB\n",
       "QaAgUBAoCBT8FgsWFAQKAgWBgj/qDRYUBAoCBYGCP+oN6gSBgkBBoCBQ8P/mgwUFgYJAQaDg0D5Y\n",
       "UBAoCBQECr70P6gTBAoCBYGCQMF5ULCgIFAQKAgUnAcFCwoCBYGCQMGVdLCgIFAQKAgUBArecg3q\n",
       "BIGCQEGg4FYjWFAQKAgUBAoO7YMFBYGCQEGgIFBwqxEsKAgUBAoCBf+6JlhQECgIFAQK/glkUCcI\n",
       "FAQKAgWBgvOgYEFBoCBQECh49BwsKAgUBAoCBVfSwYKCQEGgIFAQKMzxW2xlQUGgIFAQKPij3qBO\n",
       "ECgIFAQKzoOCBQWBgkBBoCBQ8FssWFAQKAgUBAreDwoWFAQKAgWBgivpYEFBoCBQECgIFPwWCxYU\n",
       "BAoCBYGCr6YI6gSBgkBBoDDHof3KgoJAQaAgUBAoOA8KFhQECgIFgYIP6WBBQaAgUBAo+JAOFhQE\n",
       "CgIFgYJAwfcHBQsKAgWBgkDBrUawoCBQECgIFHxIBwsKAgWBgkBBoOBPEYI6QaAgUBAo+FOEYEFB\n",
       "oCBQECg4DwoWFAQKAgWBgkDBb7FgQUGgIFAQKHiJM1hQECgIFAQKrqSDBQWBgkBBoCBQmPv4Lbax\n",
       "oCBQECgIFJwHBQsKAgWBgkDBeVCwoCBQECgIFAQKbjWCBQWBgkBBoOBWI1hQECgIFAQKrqSDBQWB\n",
       "gkBBoCBQcKsRLCgIFAQKAgUf0sGCgkBBoCBQmONN+5UFBYGCQEGg4Eo6WFAQKAgUBAoCBY+egwUF\n",
       "gYJAQaAw9779I3ybBQWBgkBBoOBKOlhQECgIFAQKAgVf8hYsKAgUBAoCBbcawYKCQEGgIFDwflCw\n",
       "oCBQECgIFAQK/hQhWFAQKAgUBAreDwoWFAQKAgWBgkP7YEFBoCBQECgIFDzVCBYUBAoCBYGCQ/tg\n",
       "QUGgIFAQKDgPChYUBAoCBYGCQMGj52BBQaAgUBAoOA8KFhQECgIFgYInq8GCgkBBoCBQECjMefsn\n",
       "+DgLCgIFgYJAwa1GsKAgUBAoCBS8HxQsKAgUBAoCBYGC86BgQUGgIFAQKDgPChYUBAoCBYGCK+lg\n",
       "QUGgIFAQKAgU3GoECwoCBYGCQMGj52BBQaAgUBAojC9e2FlQECgIFAQKAgW3GsGCgkBBoCBQ8Og5\n",
       "WFAQKAgUBAqerAYLCgIFgYJAQaDgViNYUBAoCBQECm41ggUFgYJAQaAwxwtCKwsKAgWBgkBBoOA8\n",
       "KFhQECgIFAQKzoOCBQWBgkBBoOBKOlhQECgIFAQKAgX/bz5YUBAoCBQECv7ffLCgIFAQKAgUvB8U\n",
       "LCgIFAQKAgWBgm/BCxYUBAoCBYGCL3kLFhQECgIFgYInq8GCgkBBoCBQECh4yzVYUBAoCBQECv5e\n",
       "LFhQECgIFAQKrqSDBQWBgkBBoCBQ8JZrsKAgUBAoCBS8xBksKAgUBAoCBVfSwYKCQEGgIFAQKHjL\n",
       "NVhQECgIFAQKvj8oWFAQKAgUBArOg4IFBYGCQEGgIFDw6DlYUBAoCBQECm41ggUFgYJAQaDgSjpY\n",
       "UBAoCBQECgIFtxrBgoJAQaAgUPAhHSwoCBQECgIF50HBgoJAQaAgUBAouNUIFhQECgIFgYJbjWBB\n",
       "QaAgUBAouJIOFhQECgIFgYJAwfcHBQsKAgWBgkDBv64JFhQECgIFgYLzoGBBQaAgUBAoCBTmPn6N\n",
       "bSwoCBQECgIFtxrBgoJAQaAgUPBkNVhQECgIFAQKnqwGCwoCBYGCQEGg4DwoWFAQKAgUBAqerAYL\n",
       "CgIFgYJAwZV0sKAgUBAoCBQECr4/KFhQECgIFAQKc7wgtLKgIFAQKAgUvB8ULCgIFAQKAgWBwly3\n",
       "GisLCgIFgYJAwa1GsKAgUBAoCBQc2gcLCgIFgYJAQaDg/aBgQUGgIFAQKMzx92IrCwoCBYGCQMF5\n",
       "ULCgIFAQKAgUBAq+miJYUBAoCBQECt4PChYUBAoCBYGCQ/tgQUGgIFAQKAgUnAcFCwoCBYGCQGHO\n",
       "40RoY0FBoCBQECg4DwoWFAQKAgWBgkDBb7FgQUGgIFAQKDi0DxYUBAoCBYGCQ/tgQUGgIFAQKAgU\n",
       "5vzcamwsKAgUBAoCBbcawYKCQEGgIFCY60N6ZUFBoCBQECgIFNxqBAsKAgWBgkBhzs+H9MaCgkBB\n",
       "oCBQcCUdLCgIFAQKAgWBgqcawYKCQEGgIFBwqxEsKAgUBAoCBR/SwYKCQEGgIFAQKHj0HCwoCBQE\n",
       "CgKFuc+ft3+GT7OgIFAQKAgUnAcFCwoCBYGCQEGg4P2gYEFBoCBQECjMuc6DNhYUBAoCBYGCK+lg\n",
       "QUGgIFAQKAgU5nj0vLKgIFAQKAgU3GoECwoCBYGCQMGVdLCgIFAQKAgUBApzr1uNjQUFgYJAQaDg\n",
       "PChYUBAoCBQECl7iDBYUBAoCBYGCQMGtRrCgIFAQKAgU5rrVWFlQECgIFAQKrqSDBQWBgkBBoCBQ\n",
       "mOP9oJUFBYGCQEGg4PukgwUFgYJAQaDgTftgQUGgIFAQKAgUPNUIFhQECgIFgYJbjWBBQaAgUBAo\n",
       "+JAOFhQECgIFgYJAwaPnYEFBoCBQECi41QgWFAQKAgWBwjyerK4sKAgUBAoCBYGCW41gQUGgIFAQ\n",
       "KHiJM1hQECgIFAQK87iSXllQECgIFAQKAgXvBwULCgIFgYJAwaPnYEFBoCBQECg4DwoWFAQKAgWB\n",
       "gkBh7nPf/hk+zYKCQEGgIFBwHhQsKAgUBAoChXlcSa8sKAgUBAoChf8AJ8ztt7m0cDkAAAAASUVO\n",
       "RK5CYII=\n",
       "\" transform=\"translate(2161, 47)\"/>\n",
       "</g>\n",
       "<path clip-path=\"url(#clip000)\" d=\"M 0 0 M2280.7 1379.6 Q2277.09 1379.6 2275.26 1383.17 Q2273.45 1386.71 2273.45 1393.84 Q2273.45 1400.94 2275.26 1404.51 Q2277.09 1408.05 2280.7 1408.05 Q2284.33 1408.05 2286.14 1404.51 Q2287.97 1400.94 2287.97 1393.84 Q2287.97 1386.71 2286.14 1383.17 Q2284.33 1379.6 2280.7 1379.6 M2280.7 1375.9 Q2286.51 1375.9 2289.57 1380.5 Q2292.64 1385.09 2292.64 1393.84 Q2292.64 1402.56 2289.57 1407.17 Q2286.51 1411.75 2280.7 1411.75 Q2274.89 1411.75 2271.81 1407.17 Q2268.76 1402.56 2268.76 1393.84 Q2268.76 1385.09 2271.81 1380.5 Q2274.89 1375.9 2280.7 1375.9 Z\" fill=\"#000000\" fill-rule=\"evenodd\" fill-opacity=\"1\" /><path clip-path=\"url(#clip000)\" d=\"M 0 0 M2297.71 1405.2 L2302.6 1405.2 L2302.6 1411.08 L2297.71 1411.08 L2297.71 1405.2 Z\" fill=\"#000000\" fill-rule=\"evenodd\" fill-opacity=\"1\" /><path clip-path=\"url(#clip000)\" d=\"M 0 0 M2318.25 1391.94 Q2315.1 1391.94 2313.25 1394.09 Q2311.42 1396.25 2311.42 1400 Q2311.42 1403.72 2313.25 1405.9 Q2315.1 1408.05 2318.25 1408.05 Q2321.39 1408.05 2323.22 1405.9 Q2325.08 1403.72 2325.08 1400 Q2325.08 1396.25 2323.22 1394.09 Q2321.39 1391.94 2318.25 1391.94 M2327.53 1377.29 L2327.53 1381.55 Q2325.77 1380.71 2323.96 1380.27 Q2322.18 1379.83 2320.42 1379.83 Q2315.79 1379.83 2313.34 1382.96 Q2310.91 1386.08 2310.56 1392.4 Q2311.93 1390.39 2313.99 1389.32 Q2316.05 1388.24 2318.52 1388.24 Q2323.73 1388.24 2326.74 1391.41 Q2329.77 1394.56 2329.77 1400 Q2329.77 1405.32 2326.63 1408.54 Q2323.48 1411.75 2318.25 1411.75 Q2312.25 1411.75 2309.08 1407.17 Q2305.91 1402.56 2305.91 1393.84 Q2305.91 1385.64 2309.8 1380.78 Q2313.69 1375.9 2320.24 1375.9 Q2322 1375.9 2323.78 1376.25 Q2325.58 1376.59 2327.53 1377.29 Z\" fill=\"#000000\" fill-rule=\"evenodd\" fill-opacity=\"1\" /><path clip-path=\"url(#clip000)\" d=\"M 0 0 M2334.89 1376.52 L2353.25 1376.52 L2353.25 1380.46 L2339.17 1380.46 L2339.17 1388.93 Q2340.19 1388.58 2341.21 1388.42 Q2342.23 1388.24 2343.25 1388.24 Q2349.03 1388.24 2352.41 1391.41 Q2355.79 1394.58 2355.79 1400 Q2355.79 1405.57 2352.32 1408.68 Q2348.85 1411.75 2342.53 1411.75 Q2340.35 1411.75 2338.08 1411.38 Q2335.84 1411.01 2333.43 1410.27 L2333.43 1405.57 Q2335.51 1406.71 2337.74 1407.26 Q2339.96 1407.82 2342.44 1407.82 Q2346.44 1407.82 2348.78 1405.71 Q2351.12 1403.61 2351.12 1400 Q2351.12 1396.38 2348.78 1394.28 Q2346.44 1392.17 2342.44 1392.17 Q2340.56 1392.17 2338.69 1392.59 Q2336.83 1393 2334.89 1393.88 L2334.89 1376.52 Z\" fill=\"#000000\" fill-rule=\"evenodd\" fill-opacity=\"1\" /><path clip-path=\"url(#clip000)\" d=\"M 0 0 M2280.7 1183.94 Q2277.09 1183.94 2275.26 1187.51 Q2273.45 1191.05 2273.45 1198.18 Q2273.45 1205.28 2275.26 1208.85 Q2277.09 1212.39 2280.7 1212.39 Q2284.33 1212.39 2286.14 1208.85 Q2287.97 1205.28 2287.97 1198.18 Q2287.97 1191.05 2286.14 1187.51 Q2284.33 1183.94 2280.7 1183.94 M2280.7 1180.24 Q2286.51 1180.24 2289.57 1184.84 Q2292.64 1189.43 2292.64 1198.18 Q2292.64 1206.9 2289.57 1211.51 Q2286.51 1216.09 2280.7 1216.09 Q2274.89 1216.09 2271.81 1211.51 Q2268.76 1206.9 2268.76 1198.18 Q2268.76 1189.43 2271.81 1184.84 Q2274.89 1180.24 2280.7 1180.24 Z\" fill=\"#000000\" fill-rule=\"evenodd\" fill-opacity=\"1\" /><path clip-path=\"url(#clip000)\" d=\"M 0 0 M2297.71 1209.54 L2302.6 1209.54 L2302.6 1215.42 L2297.71 1215.42 L2297.71 1209.54 Z\" fill=\"#000000\" fill-rule=\"evenodd\" fill-opacity=\"1\" /><path clip-path=\"url(#clip000)\" d=\"M 0 0 M2306.49 1180.86 L2328.71 1180.86 L2328.71 1182.85 L2316.16 1215.42 L2311.28 1215.42 L2323.08 1184.8 L2306.49 1184.8 L2306.49 1180.86 Z\" fill=\"#000000\" fill-rule=\"evenodd\" fill-opacity=\"1\" /><path clip-path=\"url(#clip000)\" d=\"M 0 0 M2343.78 1183.94 Q2340.17 1183.94 2338.34 1187.51 Q2336.53 1191.05 2336.53 1198.18 Q2336.53 1205.28 2338.34 1208.85 Q2340.17 1212.39 2343.78 1212.39 Q2347.41 1212.39 2349.22 1208.85 Q2351.05 1205.28 2351.05 1198.18 Q2351.05 1191.05 2349.22 1187.51 Q2347.41 1183.94 2343.78 1183.94 M2343.78 1180.24 Q2349.59 1180.24 2352.64 1184.84 Q2355.72 1189.43 2355.72 1198.18 Q2355.72 1206.9 2352.64 1211.51 Q2349.59 1216.09 2343.78 1216.09 Q2337.97 1216.09 2334.89 1211.51 Q2331.83 1206.9 2331.83 1198.18 Q2331.83 1189.43 2334.89 1184.84 Q2337.97 1180.24 2343.78 1180.24 Z\" fill=\"#000000\" fill-rule=\"evenodd\" fill-opacity=\"1\" /><path clip-path=\"url(#clip000)\" d=\"M 0 0 M2280.7 988.282 Q2277.09 988.282 2275.26 991.846 Q2273.45 995.388 2273.45 1002.52 Q2273.45 1009.62 2275.26 1013.19 Q2277.09 1016.73 2280.7 1016.73 Q2284.33 1016.73 2286.14 1013.19 Q2287.97 1009.62 2287.97 1002.52 Q2287.97 995.388 2286.14 991.846 Q2284.33 988.282 2280.7 988.282 M2280.7 984.578 Q2286.51 984.578 2289.57 989.184 Q2292.64 993.768 2292.64 1002.52 Q2292.64 1011.24 2289.57 1015.85 Q2286.51 1020.43 2280.7 1020.43 Q2274.89 1020.43 2271.81 1015.85 Q2268.76 1011.24 2268.76 1002.52 Q2268.76 993.768 2271.81 989.184 Q2274.89 984.578 2280.7 984.578 Z\" fill=\"#000000\" fill-rule=\"evenodd\" fill-opacity=\"1\" /><path clip-path=\"url(#clip000)\" d=\"M 0 0 M2297.71 1013.88 L2302.6 1013.88 L2302.6 1019.76 L2297.71 1019.76 L2297.71 1013.88 Z\" fill=\"#000000\" fill-rule=\"evenodd\" fill-opacity=\"1\" /><path clip-path=\"url(#clip000)\" d=\"M 0 0 M2306.49 985.203 L2328.71 985.203 L2328.71 987.194 L2316.16 1019.76 L2311.28 1019.76 L2323.08 989.138 L2306.49 989.138 L2306.49 985.203 Z\" fill=\"#000000\" fill-rule=\"evenodd\" fill-opacity=\"1\" /><path clip-path=\"url(#clip000)\" d=\"M 0 0 M2333.83 985.203 L2352.18 985.203 L2352.18 989.138 L2338.11 989.138 L2338.11 997.61 Q2339.13 997.263 2340.14 997.101 Q2341.16 996.916 2342.18 996.916 Q2347.97 996.916 2351.35 1000.09 Q2354.73 1003.26 2354.73 1008.67 Q2354.73 1014.25 2351.26 1017.36 Q2347.78 1020.43 2341.46 1020.43 Q2339.29 1020.43 2337.02 1020.06 Q2334.77 1019.69 2332.37 1018.95 L2332.37 1014.25 Q2334.45 1015.39 2336.67 1015.94 Q2338.89 1016.5 2341.37 1016.5 Q2345.38 1016.5 2347.71 1014.39 Q2350.05 1012.29 2350.05 1008.67 Q2350.05 1005.06 2347.71 1002.96 Q2345.38 1000.85 2341.37 1000.85 Q2339.5 1000.85 2337.62 1001.27 Q2335.77 1001.68 2333.83 1002.56 L2333.83 985.203 Z\" fill=\"#000000\" fill-rule=\"evenodd\" fill-opacity=\"1\" /><path clip-path=\"url(#clip000)\" d=\"M 0 0 M2280.7 792.621 Q2277.09 792.621 2275.26 796.186 Q2273.45 799.728 2273.45 806.857 Q2273.45 813.964 2275.26 817.529 Q2277.09 821.07 2280.7 821.07 Q2284.33 821.07 2286.14 817.529 Q2287.97 813.964 2287.97 806.857 Q2287.97 799.728 2286.14 796.186 Q2284.33 792.621 2280.7 792.621 M2280.7 788.918 Q2286.51 788.918 2289.57 793.524 Q2292.64 798.107 2292.64 806.857 Q2292.64 815.584 2289.57 820.191 Q2286.51 824.774 2280.7 824.774 Q2274.89 824.774 2271.81 820.191 Q2268.76 815.584 2268.76 806.857 Q2268.76 798.107 2271.81 793.524 Q2274.89 788.918 2280.7 788.918 Z\" fill=\"#000000\" fill-rule=\"evenodd\" fill-opacity=\"1\" /><path clip-path=\"url(#clip000)\" d=\"M 0 0 M2297.71 818.223 L2302.6 818.223 L2302.6 824.103 L2297.71 824.103 L2297.71 818.223 Z\" fill=\"#000000\" fill-rule=\"evenodd\" fill-opacity=\"1\" /><path clip-path=\"url(#clip000)\" d=\"M 0 0 M2317.67 807.691 Q2314.33 807.691 2312.41 809.473 Q2310.51 811.255 2310.51 814.38 Q2310.51 817.505 2312.41 819.288 Q2314.33 821.07 2317.67 821.07 Q2321 821.07 2322.92 819.288 Q2324.84 817.482 2324.84 814.38 Q2324.84 811.255 2322.92 809.473 Q2321.02 807.691 2317.67 807.691 M2312.99 805.7 Q2309.98 804.959 2308.29 802.899 Q2306.63 800.839 2306.63 797.876 Q2306.63 793.732 2309.57 791.325 Q2312.53 788.918 2317.67 788.918 Q2322.83 788.918 2325.77 791.325 Q2328.71 793.732 2328.71 797.876 Q2328.71 800.839 2327.02 802.899 Q2325.35 804.959 2322.37 805.7 Q2325.75 806.487 2327.62 808.779 Q2329.52 811.07 2329.52 814.38 Q2329.52 819.404 2326.44 822.089 Q2323.39 824.774 2317.67 824.774 Q2311.95 824.774 2308.87 822.089 Q2305.82 819.404 2305.82 814.38 Q2305.82 811.07 2307.71 808.779 Q2309.61 806.487 2312.99 805.7 M2311.28 798.316 Q2311.28 801.001 2312.95 802.506 Q2314.64 804.01 2317.67 804.01 Q2320.68 804.01 2322.37 802.506 Q2324.08 801.001 2324.08 798.316 Q2324.08 795.631 2322.37 794.126 Q2320.68 792.621 2317.67 792.621 Q2314.64 792.621 2312.95 794.126 Q2311.28 795.631 2311.28 798.316 Z\" fill=\"#000000\" fill-rule=\"evenodd\" fill-opacity=\"1\" /><path clip-path=\"url(#clip000)\" d=\"M 0 0 M2344.59 792.621 Q2340.98 792.621 2339.15 796.186 Q2337.34 799.728 2337.34 806.857 Q2337.34 813.964 2339.15 817.529 Q2340.98 821.07 2344.59 821.07 Q2348.22 821.07 2350.03 817.529 Q2351.86 813.964 2351.86 806.857 Q2351.86 799.728 2350.03 796.186 Q2348.22 792.621 2344.59 792.621 M2344.59 788.918 Q2350.4 788.918 2353.45 793.524 Q2356.53 798.107 2356.53 806.857 Q2356.53 815.584 2353.45 820.191 Q2350.4 824.774 2344.59 824.774 Q2338.78 824.774 2335.7 820.191 Q2332.64 815.584 2332.64 806.857 Q2332.64 798.107 2335.7 793.524 Q2338.78 788.918 2344.59 788.918 Z\" fill=\"#000000\" fill-rule=\"evenodd\" fill-opacity=\"1\" /><path clip-path=\"url(#clip000)\" d=\"M 0 0 M2280.7 596.961 Q2277.09 596.961 2275.26 600.526 Q2273.45 604.067 2273.45 611.197 Q2273.45 618.304 2275.26 621.868 Q2277.09 625.41 2280.7 625.41 Q2284.33 625.41 2286.14 621.868 Q2287.97 618.304 2287.97 611.197 Q2287.97 604.067 2286.14 600.526 Q2284.33 596.961 2280.7 596.961 M2280.7 593.257 Q2286.51 593.257 2289.57 597.864 Q2292.64 602.447 2292.64 611.197 Q2292.64 619.924 2289.57 624.53 Q2286.51 629.114 2280.7 629.114 Q2274.89 629.114 2271.81 624.53 Q2268.76 619.924 2268.76 611.197 Q2268.76 602.447 2271.81 597.864 Q2274.89 593.257 2280.7 593.257 Z\" fill=\"#000000\" fill-rule=\"evenodd\" fill-opacity=\"1\" /><path clip-path=\"url(#clip000)\" d=\"M 0 0 M2297.71 622.563 L2302.6 622.563 L2302.6 628.442 L2297.71 628.442 L2297.71 622.563 Z\" fill=\"#000000\" fill-rule=\"evenodd\" fill-opacity=\"1\" /><path clip-path=\"url(#clip000)\" d=\"M 0 0 M2317.67 612.03 Q2314.33 612.03 2312.41 613.813 Q2310.51 615.595 2310.51 618.72 Q2310.51 621.845 2312.41 623.628 Q2314.33 625.41 2317.67 625.41 Q2321 625.41 2322.92 623.628 Q2324.84 621.822 2324.84 618.72 Q2324.84 615.595 2322.92 613.813 Q2321.02 612.03 2317.67 612.03 M2312.99 610.04 Q2309.98 609.299 2308.29 607.239 Q2306.63 605.179 2306.63 602.216 Q2306.63 598.072 2309.57 595.665 Q2312.53 593.257 2317.67 593.257 Q2322.83 593.257 2325.77 595.665 Q2328.71 598.072 2328.71 602.216 Q2328.71 605.179 2327.02 607.239 Q2325.35 609.299 2322.37 610.04 Q2325.75 610.827 2327.62 613.118 Q2329.52 615.41 2329.52 618.72 Q2329.52 623.743 2326.44 626.428 Q2323.39 629.114 2317.67 629.114 Q2311.95 629.114 2308.87 626.428 Q2305.82 623.743 2305.82 618.72 Q2305.82 615.41 2307.71 613.118 Q2309.61 610.827 2312.99 610.04 M2311.28 602.655 Q2311.28 605.341 2312.95 606.845 Q2314.64 608.35 2317.67 608.35 Q2320.68 608.35 2322.37 606.845 Q2324.08 605.341 2324.08 602.655 Q2324.08 599.97 2322.37 598.466 Q2320.68 596.961 2317.67 596.961 Q2314.64 596.961 2312.95 598.466 Q2311.28 599.97 2311.28 602.655 Z\" fill=\"#000000\" fill-rule=\"evenodd\" fill-opacity=\"1\" /><path clip-path=\"url(#clip000)\" d=\"M 0 0 M2334.64 593.882 L2352.99 593.882 L2352.99 597.818 L2338.92 597.818 L2338.92 606.29 Q2339.94 605.942 2340.95 605.78 Q2341.97 605.595 2342.99 605.595 Q2348.78 605.595 2352.16 608.767 Q2355.54 611.938 2355.54 617.354 Q2355.54 622.933 2352.07 626.035 Q2348.59 629.114 2342.27 629.114 Q2340.1 629.114 2337.83 628.743 Q2335.58 628.373 2333.18 627.632 L2333.18 622.933 Q2335.26 624.067 2337.48 624.623 Q2339.7 625.178 2342.18 625.178 Q2346.19 625.178 2348.52 623.072 Q2350.86 620.966 2350.86 617.354 Q2350.86 613.743 2348.52 611.637 Q2346.19 609.53 2342.18 609.53 Q2340.31 609.53 2338.43 609.947 Q2336.58 610.364 2334.64 611.243 L2334.64 593.882 Z\" fill=\"#000000\" fill-rule=\"evenodd\" fill-opacity=\"1\" /><path clip-path=\"url(#clip000)\" d=\"M 0 0 M2280.7 401.301 Q2277.09 401.301 2275.26 404.866 Q2273.45 408.407 2273.45 415.537 Q2273.45 422.643 2275.26 426.208 Q2277.09 429.75 2280.7 429.75 Q2284.33 429.75 2286.14 426.208 Q2287.97 422.643 2287.97 415.537 Q2287.97 408.407 2286.14 404.866 Q2284.33 401.301 2280.7 401.301 M2280.7 397.597 Q2286.51 397.597 2289.57 402.204 Q2292.64 406.787 2292.64 415.537 Q2292.64 424.264 2289.57 428.87 Q2286.51 433.453 2280.7 433.453 Q2274.89 433.453 2271.81 428.87 Q2268.76 424.264 2268.76 415.537 Q2268.76 406.787 2271.81 402.204 Q2274.89 397.597 2280.7 397.597 Z\" fill=\"#000000\" fill-rule=\"evenodd\" fill-opacity=\"1\" /><path clip-path=\"url(#clip000)\" d=\"M 0 0 M2297.71 426.902 L2302.6 426.902 L2302.6 432.782 L2297.71 432.782 L2297.71 426.902 Z\" fill=\"#000000\" fill-rule=\"evenodd\" fill-opacity=\"1\" /><path clip-path=\"url(#clip000)\" d=\"M 0 0 M2307.81 432.064 L2307.81 427.805 Q2309.57 428.639 2311.37 429.078 Q2313.18 429.518 2314.91 429.518 Q2319.54 429.518 2321.97 426.416 Q2324.43 423.291 2324.77 416.949 Q2323.43 418.94 2321.37 420.004 Q2319.31 421.069 2316.81 421.069 Q2311.63 421.069 2308.59 417.944 Q2305.58 414.796 2305.58 409.356 Q2305.58 404.032 2308.73 400.815 Q2311.88 397.597 2317.11 397.597 Q2323.11 397.597 2326.26 402.204 Q2329.43 406.787 2329.43 415.537 Q2329.43 423.708 2325.54 428.592 Q2321.67 433.453 2315.12 433.453 Q2313.36 433.453 2311.56 433.106 Q2309.75 432.759 2307.81 432.064 M2317.11 417.412 Q2320.26 417.412 2322.09 415.259 Q2323.94 413.106 2323.94 409.356 Q2323.94 405.629 2322.09 403.477 Q2320.26 401.301 2317.11 401.301 Q2313.96 401.301 2312.11 403.477 Q2310.28 405.629 2310.28 409.356 Q2310.28 413.106 2312.11 415.259 Q2313.96 417.412 2317.11 417.412 Z\" fill=\"#000000\" fill-rule=\"evenodd\" fill-opacity=\"1\" /><path clip-path=\"url(#clip000)\" d=\"M 0 0 M2344.5 401.301 Q2340.89 401.301 2339.06 404.866 Q2337.25 408.407 2337.25 415.537 Q2337.25 422.643 2339.06 426.208 Q2340.89 429.75 2344.5 429.75 Q2348.13 429.75 2349.94 426.208 Q2351.76 422.643 2351.76 415.537 Q2351.76 408.407 2349.94 404.866 Q2348.13 401.301 2344.5 401.301 M2344.5 397.597 Q2350.31 397.597 2353.36 402.204 Q2356.44 406.787 2356.44 415.537 Q2356.44 424.264 2353.36 428.87 Q2350.31 433.453 2344.5 433.453 Q2338.69 433.453 2335.61 428.87 Q2332.55 424.264 2332.55 415.537 Q2332.55 406.787 2335.61 402.204 Q2338.69 397.597 2344.5 397.597 Z\" fill=\"#000000\" fill-rule=\"evenodd\" fill-opacity=\"1\" /><path clip-path=\"url(#clip000)\" d=\"M 0 0 M2280.7 205.64 Q2277.09 205.64 2275.26 209.205 Q2273.45 212.747 2273.45 219.877 Q2273.45 226.983 2275.26 230.548 Q2277.09 234.089 2280.7 234.089 Q2284.33 234.089 2286.14 230.548 Q2287.97 226.983 2287.97 219.877 Q2287.97 212.747 2286.14 209.205 Q2284.33 205.64 2280.7 205.64 M2280.7 201.937 Q2286.51 201.937 2289.57 206.543 Q2292.64 211.127 2292.64 219.877 Q2292.64 228.603 2289.57 233.21 Q2286.51 237.793 2280.7 237.793 Q2274.89 237.793 2271.81 233.21 Q2268.76 228.603 2268.76 219.877 Q2268.76 211.127 2271.81 206.543 Q2274.89 201.937 2280.7 201.937 Z\" fill=\"#000000\" fill-rule=\"evenodd\" fill-opacity=\"1\" /><path clip-path=\"url(#clip000)\" d=\"M 0 0 M2297.71 231.242 L2302.6 231.242 L2302.6 237.122 L2297.71 237.122 L2297.71 231.242 Z\" fill=\"#000000\" fill-rule=\"evenodd\" fill-opacity=\"1\" /><path clip-path=\"url(#clip000)\" d=\"M 0 0 M2307.81 236.404 L2307.81 232.145 Q2309.57 232.978 2311.37 233.418 Q2313.18 233.858 2314.91 233.858 Q2319.54 233.858 2321.97 230.756 Q2324.43 227.631 2324.77 221.289 Q2323.43 223.279 2321.37 224.344 Q2319.31 225.409 2316.81 225.409 Q2311.63 225.409 2308.59 222.284 Q2305.58 219.136 2305.58 213.696 Q2305.58 208.372 2308.73 205.154 Q2311.88 201.937 2317.11 201.937 Q2323.11 201.937 2326.26 206.543 Q2329.43 211.127 2329.43 219.877 Q2329.43 228.048 2325.54 232.932 Q2321.67 237.793 2315.12 237.793 Q2313.36 237.793 2311.56 237.446 Q2309.75 237.099 2307.81 236.404 M2317.11 221.752 Q2320.26 221.752 2322.09 219.599 Q2323.94 217.446 2323.94 213.696 Q2323.94 209.969 2322.09 207.816 Q2320.26 205.64 2317.11 205.64 Q2313.96 205.64 2312.11 207.816 Q2310.28 209.969 2310.28 213.696 Q2310.28 217.446 2312.11 219.599 Q2313.96 221.752 2317.11 221.752 Z\" fill=\"#000000\" fill-rule=\"evenodd\" fill-opacity=\"1\" /><path clip-path=\"url(#clip000)\" d=\"M 0 0 M2334.54 202.562 L2352.9 202.562 L2352.9 206.497 L2338.82 206.497 L2338.82 214.969 Q2339.84 214.622 2340.86 214.46 Q2341.88 214.275 2342.9 214.275 Q2348.69 214.275 2352.07 217.446 Q2355.45 220.617 2355.45 226.034 Q2355.45 231.613 2351.97 234.714 Q2348.5 237.793 2342.18 237.793 Q2340.01 237.793 2337.74 237.423 Q2335.49 237.052 2333.08 236.312 L2333.08 231.613 Q2335.17 232.747 2337.39 233.302 Q2339.61 233.858 2342.09 233.858 Q2346.09 233.858 2348.43 231.751 Q2350.77 229.645 2350.77 226.034 Q2350.77 222.423 2348.43 220.316 Q2346.09 218.21 2342.09 218.21 Q2340.21 218.21 2338.34 218.627 Q2336.49 219.043 2334.54 219.923 L2334.54 202.562 Z\" fill=\"#000000\" fill-rule=\"evenodd\" fill-opacity=\"1\" /><polyline clip-path=\"url(#clip000)\" style=\"stroke:#000000; stroke-width:4; stroke-opacity:1; fill:none\" points=\"\n",
       "  2232.76,1410.9 2232.76,1397.43 2256.76,1397.43 2232.76,1397.43 2232.76,1201.77 2256.76,1201.77 2232.76,1201.77 2232.76,1006.11 2256.76,1006.11 2232.76,1006.11 \n",
       "  2232.76,810.451 2256.76,810.451 2232.76,810.451 2232.76,614.791 2256.76,614.791 2232.76,614.791 2232.76,419.131 2256.76,419.131 2232.76,419.131 2232.76,223.471 \n",
       "  2256.76,223.471 2232.76,223.471 2232.76,47.2441 \n",
       "  \"/>\n",
       "</svg>\n"
      ]
     },
     "execution_count": 306,
     "metadata": {},
     "output_type": "execute_result"
    }
   ],
   "source": [
    "plot(self_tuning_nn)"
   ]
  },
  {
   "cell_type": "code",
   "execution_count": 307,
   "metadata": {},
   "outputs": [
    {
     "data": {
      "text/plain": [
       "(best_model = \u001b[34mNeuralNetworkClassifier{CustomNN,…} @267\u001b[39m,\n",
       " best_fitted_params = (chain = Chain(Chain(Dense(4, 72, σ), Dense(72, 29, σ), Dense(29, 3, σ)), softmax),),)"
      ]
     },
     "execution_count": 307,
     "metadata": {},
     "output_type": "execute_result"
    }
   ],
   "source": [
    "best = fitted_params(self_tuning_nn)\n",
    "best"
   ]
  },
  {
   "cell_type": "code",
   "execution_count": 308,
   "metadata": {},
   "outputs": [
    {
     "data": {
      "text/plain": [
       "NeuralNetworkClassifier(\n",
       "    builder = CustomNN(\n",
       "            n1 = 72,\n",
       "            n2 = 29),\n",
       "    finaliser = NNlib.softmax,\n",
       "    optimiser = ADAM(0.001, (0.9, 0.999), IdDict{Any,Any}()),\n",
       "    loss = Flux.crossentropy,\n",
       "    epochs = 1328,\n",
       "    batch_size = 8,\n",
       "    lambda = 0.01,\n",
       "    alpha = 0.0,\n",
       "    optimiser_changes_trigger_retraining = false)\u001b[34m @267\u001b[39m"
      ]
     },
     "execution_count": 308,
     "metadata": {},
     "output_type": "execute_result"
    }
   ],
   "source": [
    "best.best_model"
   ]
  },
  {
   "cell_type": "code",
   "execution_count": 309,
   "metadata": {
    "scrolled": true
   },
   "outputs": [
    {
     "data": {
      "text/plain": [
       "0.64655924f0"
      ]
     },
     "execution_count": 309,
     "metadata": {},
     "output_type": "execute_result"
    }
   ],
   "source": [
    "best_loss = z.report.best_result.measurement[1]"
   ]
  },
  {
   "cell_type": "code",
   "execution_count": 310,
   "metadata": {},
   "outputs": [
    {
     "data": {
      "text/plain": [
       "29"
      ]
     },
     "execution_count": 310,
     "metadata": {},
     "output_type": "execute_result"
    }
   ],
   "source": [
    "best_n2 = best.best_model.builder.n2"
   ]
  },
  {
   "cell_type": "code",
   "execution_count": 311,
   "metadata": {},
   "outputs": [],
   "source": [
    "fn = \"Figures/Grid_NN_$(param1):$(best.best_model.epochs)_x_$(param2):$(best_n2)_bestloss:$(best_loss)\"\n",
    "png(replace(fn,'.' => ','))"
   ]
  },
  {
   "cell_type": "markdown",
   "metadata": {},
   "source": [
    "### GridSearch for Learning Rate"
   ]
  },
  {
   "cell_type": "code",
   "execution_count": 312,
   "metadata": {
    "scrolled": true
   },
   "outputs": [
    {
     "data": {
      "text/plain": [
       "NeuralNetworkClassifier(\n",
       "    builder = CustomNN(\n",
       "            n1 = 72,\n",
       "            n2 = 29),\n",
       "    finaliser = NNlib.softmax,\n",
       "    optimiser = ADAM(0.001, (0.9, 0.999), IdDict{Any,Any}()),\n",
       "    loss = Flux.crossentropy,\n",
       "    epochs = 10,\n",
       "    batch_size = 1,\n",
       "    lambda = 0.0,\n",
       "    alpha = 0.0,\n",
       "    optimiser_changes_trigger_retraining = false)\u001b[34m @864\u001b[39m"
      ]
     },
     "execution_count": 312,
     "metadata": {},
     "output_type": "execute_result"
    }
   ],
   "source": [
    "nn = NeuralNetworkClassifier(builder=CustomNN(best_n1,best_n2))"
   ]
  },
  {
   "cell_type": "code",
   "execution_count": 313,
   "metadata": {},
   "outputs": [
    {
     "data": {
      "text/plain": [
       "0.01"
      ]
     },
     "execution_count": 313,
     "metadata": {},
     "output_type": "execute_result"
    }
   ],
   "source": [
    "nn.optimiser.eta = 0.001\n",
    "nn.epochs = 60\n",
    "nn.batch_size = batch_sz\n",
    "nn.lambda = 0.01"
   ]
  },
  {
   "cell_type": "code",
   "execution_count": 314,
   "metadata": {},
   "outputs": [
    {
     "data": {
      "text/plain": [
       "\u001b[34mMachine{NeuralNetworkClassifier{CustomNN,…}} @302\u001b[39m trained 0 times.\n",
       "  args: \n",
       "    1:\t\u001b[34mSource @636\u001b[39m ⏎ `Table{AbstractArray{Continuous,1}}`\n",
       "    2:\t\u001b[34mSource @368\u001b[39m ⏎ `AbstractArray{Multiclass{3},1}`\n"
      ]
     },
     "execution_count": 314,
     "metadata": {},
     "output_type": "execute_result"
    }
   ],
   "source": [
    "Net = machine(nn, X_stand, y)"
   ]
  },
  {
   "cell_type": "code",
   "execution_count": 315,
   "metadata": {},
   "outputs": [
    {
     "name": "stderr",
     "output_type": "stream",
     "text": [
      "┌ Info: Training \u001b[34mMachine{NeuralNetworkClassifier{CustomNN,…}} @302\u001b[39m.\n",
      "└ @ MLJBase /home/andrew/.julia/packages/MLJBase/uKzAz/src/machines.jl:319\n",
      "\u001b[33mOptimising neural net:100%[=========================] Time: 0:00:00\u001b[39m\n"
     ]
    },
    {
     "data": {
      "text/plain": [
       "\u001b[34mMachine{NeuralNetworkClassifier{CustomNN,…}} @302\u001b[39m trained 1 time.\n",
       "  args: \n",
       "    1:\t\u001b[34mSource @636\u001b[39m ⏎ `Table{AbstractArray{Continuous,1}}`\n",
       "    2:\t\u001b[34mSource @368\u001b[39m ⏎ `AbstractArray{Multiclass{3},1}`\n"
      ]
     },
     "execution_count": 315,
     "metadata": {},
     "output_type": "execute_result"
    }
   ],
   "source": [
    "fit!(Net, rows=train, verbosity=1, force=true)"
   ]
  },
  {
   "cell_type": "code",
   "execution_count": 316,
   "metadata": {},
   "outputs": [
    {
     "data": {
      "text/plain": [
       "MLJBase.NumericRange(Float64, :(optimiser.eta), ... )"
      ]
     },
     "execution_count": 316,
     "metadata": {},
     "output_type": "execute_result"
    }
   ],
   "source": [
    "param1 = :epochs\n",
    "param2 = :(optimiser.eta)\n",
    "\n",
    "r1 = range(nn, param1, lower=10, upper=1000, scale=:linear)\n",
    "r2 = range(nn, param2, lower=0.0001, upper=0.1, scale=:log10)"
   ]
  },
  {
   "cell_type": "code",
   "execution_count": 317,
   "metadata": {
    "scrolled": true
   },
   "outputs": [
    {
     "data": {
      "text/plain": [
       "ProbabilisticTunedModel(\n",
       "    model = NeuralNetworkClassifier(\n",
       "            builder = \u001b[34mCustomNN @386\u001b[39m,\n",
       "            finaliser = NNlib.softmax,\n",
       "            optimiser = ADAM(0.001, (0.9, 0.999), IdDict{Any,Any}()),\n",
       "            loss = Flux.crossentropy,\n",
       "            epochs = 60,\n",
       "            batch_size = 8,\n",
       "            lambda = 0.01,\n",
       "            alpha = 0.0,\n",
       "            optimiser_changes_trigger_retraining = false),\n",
       "    tuning = Grid(\n",
       "            goal = 50,\n",
       "            resolution = 10,\n",
       "            shuffle = true,\n",
       "            rng = Random._GLOBAL_RNG()),\n",
       "    resampling = Holdout(\n",
       "            fraction_train = 0.7,\n",
       "            shuffle = false,\n",
       "            rng = Random._GLOBAL_RNG()),\n",
       "    measure = cross_entropy(\n",
       "            eps = 2.220446049250313e-16),\n",
       "    weights = nothing,\n",
       "    operation = MLJModelInterface.predict,\n",
       "    range = MLJBase.NumericRange{T,MLJBase.Bounded,Symbol} where T[\u001b[34mNumericRange{Int64,…} @873\u001b[39m, \u001b[34mNumericRange{Float64,…} @647\u001b[39m],\n",
       "    train_best = true,\n",
       "    repeats = 1,\n",
       "    n = nothing,\n",
       "    acceleration = CPUThreads{Int64}(1),\n",
       "    acceleration_resampling = CPU1{Nothing}(nothing),\n",
       "    check_measure = true)\u001b[34m @708\u001b[39m"
      ]
     },
     "execution_count": 317,
     "metadata": {},
     "output_type": "execute_result"
    }
   ],
   "source": [
    "self_tuning_nn_model = TunedModel(model=nn,\n",
    "                                    tuning=Grid(goal=50),\n",
    "                                    resampling=Holdout(fraction_train=0.7), \n",
    "                                    measure=cross_entropy,\n",
    "                                    acceleration=CPUThreads(),\n",
    "                                    range=[r1, r2])"
   ]
  },
  {
   "cell_type": "code",
   "execution_count": 318,
   "metadata": {},
   "outputs": [
    {
     "data": {
      "text/plain": [
       "\u001b[34mMachine{ProbabilisticTunedModel{Grid,…}} @471\u001b[39m trained 0 times.\n",
       "  args: \n",
       "    1:\t\u001b[34mSource @551\u001b[39m ⏎ `Table{AbstractArray{Continuous,1}}`\n",
       "    2:\t\u001b[34mSource @997\u001b[39m ⏎ `AbstractArray{Multiclass{3},1}`\n"
      ]
     },
     "execution_count": 318,
     "metadata": {},
     "output_type": "execute_result"
    }
   ],
   "source": [
    "self_tuning_nn = machine(self_tuning_nn_model, X_stand, y)"
   ]
  },
  {
   "cell_type": "code",
   "execution_count": 319,
   "metadata": {},
   "outputs": [
    {
     "name": "stderr",
     "output_type": "stream",
     "text": [
      "┌ Info: Training \u001b[34mMachine{ProbabilisticTunedModel{Grid,…}} @471\u001b[39m.\n",
      "└ @ MLJBase /home/andrew/.julia/packages/MLJBase/uKzAz/src/machines.jl:319\n",
      "┌ Info: Attempting to evaluate 49 models.\n",
      "└ @ MLJTuning /home/andrew/.julia/packages/MLJTuning/Bbgvk/src/tuned_models.jl:494\n",
      "\u001b[33mEvaluating over 49 metamodels: 100%[=========================] Time: 0:02:13\u001b[39m\n"
     ]
    },
    {
     "data": {
      "text/plain": [
       "\u001b[34mMachine{ProbabilisticTunedModel{Grid,…}} @471\u001b[39m trained 1 time.\n",
       "  args: \n",
       "    1:\t\u001b[34mSource @551\u001b[39m ⏎ `Table{AbstractArray{Continuous,1}}`\n",
       "    2:\t\u001b[34mSource @997\u001b[39m ⏎ `AbstractArray{Multiclass{3},1}`\n"
      ]
     },
     "execution_count": 319,
     "metadata": {},
     "output_type": "execute_result"
    }
   ],
   "source": [
    "z = fit!(self_tuning_nn, rows=train)"
   ]
  },
  {
   "cell_type": "code",
   "execution_count": 320,
   "metadata": {
    "scrolled": false
   },
   "outputs": [
    {
     "data": {
      "image/svg+xml": [
       "<?xml version=\"1.0\" encoding=\"utf-8\"?>\n",
       "<svg xmlns=\"http://www.w3.org/2000/svg\" xmlns:xlink=\"http://www.w3.org/1999/xlink\" width=\"600\" height=\"400\" viewBox=\"0 0 2400 1600\">\n",
       "<defs>\n",
       "  <clipPath id=\"clip050\">\n",
       "    <rect x=\"0\" y=\"0\" width=\"2400\" height=\"1600\"/>\n",
       "  </clipPath>\n",
       "</defs>\n",
       "<path clip-path=\"url(#clip050)\" d=\"\n",
       "M0 1600 L2400 1600 L2400 0 L0 0  Z\n",
       "  \" fill=\"#ffffff\" fill-rule=\"evenodd\" fill-opacity=\"1\"/>\n",
       "<defs>\n",
       "  <clipPath id=\"clip051\">\n",
       "    <rect x=\"480\" y=\"0\" width=\"1681\" height=\"1600\"/>\n",
       "  </clipPath>\n",
       "</defs>\n",
       "<path clip-path=\"url(#clip050)\" d=\"\n",
       "M244.308 1423.18 L2112.76 1423.18 L2112.76 47.2441 L244.308 47.2441  Z\n",
       "  \" fill=\"#ffffff\" fill-rule=\"evenodd\" fill-opacity=\"1\"/>\n",
       "<defs>\n",
       "  <clipPath id=\"clip052\">\n",
       "    <rect x=\"244\" y=\"47\" width=\"1869\" height=\"1377\"/>\n",
       "  </clipPath>\n",
       "</defs>\n",
       "<polyline clip-path=\"url(#clip052)\" style=\"stroke:#000000; stroke-width:2; stroke-opacity:0.1; fill:none\" points=\"\n",
       "  279.383,1423.18 279.383,47.2441 \n",
       "  \"/>\n",
       "<polyline clip-path=\"url(#clip052)\" style=\"stroke:#000000; stroke-width:2; stroke-opacity:0.1; fill:none\" points=\"\n",
       "  724.506,1423.18 724.506,47.2441 \n",
       "  \"/>\n",
       "<polyline clip-path=\"url(#clip052)\" style=\"stroke:#000000; stroke-width:2; stroke-opacity:0.1; fill:none\" points=\"\n",
       "  1169.63,1423.18 1169.63,47.2441 \n",
       "  \"/>\n",
       "<polyline clip-path=\"url(#clip052)\" style=\"stroke:#000000; stroke-width:2; stroke-opacity:0.1; fill:none\" points=\"\n",
       "  1614.75,1423.18 1614.75,47.2441 \n",
       "  \"/>\n",
       "<polyline clip-path=\"url(#clip052)\" style=\"stroke:#000000; stroke-width:2; stroke-opacity:0.1; fill:none\" points=\"\n",
       "  2059.88,1423.18 2059.88,47.2441 \n",
       "  \"/>\n",
       "<polyline clip-path=\"url(#clip052)\" style=\"stroke:#000000; stroke-width:2; stroke-opacity:0.1; fill:none\" points=\"\n",
       "  244.308,1384.24 2112.76,1384.24 \n",
       "  \"/>\n",
       "<polyline clip-path=\"url(#clip052)\" style=\"stroke:#000000; stroke-width:2; stroke-opacity:0.1; fill:none\" points=\"\n",
       "  244.308,951.554 2112.76,951.554 \n",
       "  \"/>\n",
       "<polyline clip-path=\"url(#clip052)\" style=\"stroke:#000000; stroke-width:2; stroke-opacity:0.1; fill:none\" points=\"\n",
       "  244.308,518.87 2112.76,518.87 \n",
       "  \"/>\n",
       "<polyline clip-path=\"url(#clip052)\" style=\"stroke:#000000; stroke-width:2; stroke-opacity:0.1; fill:none\" points=\"\n",
       "  244.308,86.1857 2112.76,86.1857 \n",
       "  \"/>\n",
       "<polyline clip-path=\"url(#clip050)\" style=\"stroke:#000000; stroke-width:4; stroke-opacity:1; fill:none\" points=\"\n",
       "  244.308,1423.18 2112.76,1423.18 \n",
       "  \"/>\n",
       "<polyline clip-path=\"url(#clip050)\" style=\"stroke:#000000; stroke-width:4; stroke-opacity:1; fill:none\" points=\"\n",
       "  244.308,1423.18 244.308,47.2441 \n",
       "  \"/>\n",
       "<polyline clip-path=\"url(#clip050)\" style=\"stroke:#000000; stroke-width:4; stroke-opacity:1; fill:none\" points=\"\n",
       "  279.383,1423.18 279.383,1406.67 \n",
       "  \"/>\n",
       "<polyline clip-path=\"url(#clip050)\" style=\"stroke:#000000; stroke-width:4; stroke-opacity:1; fill:none\" points=\"\n",
       "  724.506,1423.18 724.506,1406.67 \n",
       "  \"/>\n",
       "<polyline clip-path=\"url(#clip050)\" style=\"stroke:#000000; stroke-width:4; stroke-opacity:1; fill:none\" points=\"\n",
       "  1169.63,1423.18 1169.63,1406.67 \n",
       "  \"/>\n",
       "<polyline clip-path=\"url(#clip050)\" style=\"stroke:#000000; stroke-width:4; stroke-opacity:1; fill:none\" points=\"\n",
       "  1614.75,1423.18 1614.75,1406.67 \n",
       "  \"/>\n",
       "<polyline clip-path=\"url(#clip050)\" style=\"stroke:#000000; stroke-width:4; stroke-opacity:1; fill:none\" points=\"\n",
       "  2059.88,1423.18 2059.88,1406.67 \n",
       "  \"/>\n",
       "<polyline clip-path=\"url(#clip050)\" style=\"stroke:#000000; stroke-width:4; stroke-opacity:1; fill:none\" points=\"\n",
       "  244.308,1384.24 266.729,1384.24 \n",
       "  \"/>\n",
       "<polyline clip-path=\"url(#clip050)\" style=\"stroke:#000000; stroke-width:4; stroke-opacity:1; fill:none\" points=\"\n",
       "  244.308,951.554 266.729,951.554 \n",
       "  \"/>\n",
       "<polyline clip-path=\"url(#clip050)\" style=\"stroke:#000000; stroke-width:4; stroke-opacity:1; fill:none\" points=\"\n",
       "  244.308,518.87 266.729,518.87 \n",
       "  \"/>\n",
       "<polyline clip-path=\"url(#clip050)\" style=\"stroke:#000000; stroke-width:4; stroke-opacity:1; fill:none\" points=\"\n",
       "  244.308,86.1857 266.729,86.1857 \n",
       "  \"/>\n",
       "<path clip-path=\"url(#clip050)\" d=\"M 0 0 M279.383 1445.17 Q275.772 1445.17 273.944 1448.74 Q272.138 1452.28 272.138 1459.41 Q272.138 1466.51 273.944 1470.08 Q275.772 1473.62 279.383 1473.62 Q283.018 1473.62 284.823 1470.08 Q286.652 1466.51 286.652 1459.41 Q286.652 1452.28 284.823 1448.74 Q283.018 1445.17 279.383 1445.17 M279.383 1441.47 Q285.194 1441.47 288.249 1446.07 Q291.328 1450.66 291.328 1459.41 Q291.328 1468.13 288.249 1472.74 Q285.194 1477.32 279.383 1477.32 Q273.573 1477.32 270.495 1472.74 Q267.439 1468.13 267.439 1459.41 Q267.439 1450.66 270.495 1446.07 Q273.573 1441.47 279.383 1441.47 Z\" fill=\"#000000\" fill-rule=\"evenodd\" fill-opacity=\"1\" /><path clip-path=\"url(#clip050)\" d=\"M 0 0 M692.643 1472.72 L708.962 1472.72 L708.962 1476.65 L687.018 1476.65 L687.018 1472.72 Q689.68 1469.96 694.263 1465.33 Q698.87 1460.68 700.05 1459.34 Q702.296 1456.81 703.175 1455.08 Q704.078 1453.32 704.078 1451.63 Q704.078 1448.87 702.134 1447.14 Q700.213 1445.4 697.111 1445.4 Q694.912 1445.4 692.458 1446.17 Q690.027 1446.93 687.25 1448.48 L687.25 1443.76 Q690.074 1442.62 692.527 1442.05 Q694.981 1441.47 697.018 1441.47 Q702.388 1441.47 705.583 1444.15 Q708.777 1446.84 708.777 1451.33 Q708.777 1453.46 707.967 1455.38 Q707.18 1457.28 705.074 1459.87 Q704.495 1460.54 701.393 1463.76 Q698.291 1466.95 692.643 1472.72 Z\" fill=\"#000000\" fill-rule=\"evenodd\" fill-opacity=\"1\" /><path clip-path=\"url(#clip050)\" d=\"M 0 0 M714.078 1442.09 L732.435 1442.09 L732.435 1446.03 L718.361 1446.03 L718.361 1454.5 Q719.379 1454.15 720.398 1453.99 Q721.416 1453.8 722.435 1453.8 Q728.222 1453.8 731.601 1456.98 Q734.981 1460.15 734.981 1465.56 Q734.981 1471.14 731.509 1474.24 Q728.036 1477.32 721.717 1477.32 Q719.541 1477.32 717.273 1476.95 Q715.027 1476.58 712.62 1475.84 L712.62 1471.14 Q714.703 1472.28 716.925 1472.83 Q719.148 1473.39 721.624 1473.39 Q725.629 1473.39 727.967 1471.28 Q730.305 1469.18 730.305 1465.56 Q730.305 1461.95 727.967 1459.85 Q725.629 1457.74 721.624 1457.74 Q719.749 1457.74 717.874 1458.16 Q716.023 1458.57 714.078 1459.45 L714.078 1442.09 Z\" fill=\"#000000\" fill-rule=\"evenodd\" fill-opacity=\"1\" /><path clip-path=\"url(#clip050)\" d=\"M 0 0 M750.05 1445.17 Q746.439 1445.17 744.61 1448.74 Q742.805 1452.28 742.805 1459.41 Q742.805 1466.51 744.61 1470.08 Q746.439 1473.62 750.05 1473.62 Q753.684 1473.62 755.49 1470.08 Q757.319 1466.51 757.319 1459.41 Q757.319 1452.28 755.49 1448.74 Q753.684 1445.17 750.05 1445.17 M750.05 1441.47 Q755.86 1441.47 758.916 1446.07 Q761.995 1450.66 761.995 1459.41 Q761.995 1468.13 758.916 1472.74 Q755.86 1477.32 750.05 1477.32 Q744.24 1477.32 741.161 1472.74 Q738.106 1468.13 738.106 1459.41 Q738.106 1450.66 741.161 1446.07 Q744.24 1441.47 750.05 1441.47 Z\" fill=\"#000000\" fill-rule=\"evenodd\" fill-opacity=\"1\" /><path clip-path=\"url(#clip050)\" d=\"M 0 0 M1132.89 1442.09 L1151.25 1442.09 L1151.25 1446.03 L1137.18 1446.03 L1137.18 1454.5 Q1138.19 1454.15 1139.21 1453.99 Q1140.23 1453.8 1141.25 1453.8 Q1147.04 1453.8 1150.42 1456.98 Q1153.8 1460.15 1153.8 1465.56 Q1153.8 1471.14 1150.32 1474.24 Q1146.85 1477.32 1140.53 1477.32 Q1138.36 1477.32 1136.09 1476.95 Q1133.84 1476.58 1131.44 1475.84 L1131.44 1471.14 Q1133.52 1472.28 1135.74 1472.83 Q1137.96 1473.39 1140.44 1473.39 Q1144.44 1473.39 1146.78 1471.28 Q1149.12 1469.18 1149.12 1465.56 Q1149.12 1461.95 1146.78 1459.85 Q1144.44 1457.74 1140.44 1457.74 Q1138.56 1457.74 1136.69 1458.16 Q1134.84 1458.57 1132.89 1459.45 L1132.89 1442.09 Z\" fill=\"#000000\" fill-rule=\"evenodd\" fill-opacity=\"1\" /><path clip-path=\"url(#clip050)\" d=\"M 0 0 M1168.87 1445.17 Q1165.25 1445.17 1163.43 1448.74 Q1161.62 1452.28 1161.62 1459.41 Q1161.62 1466.51 1163.43 1470.08 Q1165.25 1473.62 1168.87 1473.62 Q1172.5 1473.62 1174.31 1470.08 Q1176.13 1466.51 1176.13 1459.41 Q1176.13 1452.28 1174.31 1448.74 Q1172.5 1445.17 1168.87 1445.17 M1168.87 1441.47 Q1174.68 1441.47 1177.73 1446.07 Q1180.81 1450.66 1180.81 1459.41 Q1180.81 1468.13 1177.73 1472.74 Q1174.68 1477.32 1168.87 1477.32 Q1163.06 1477.32 1159.98 1472.74 Q1156.92 1468.13 1156.92 1459.41 Q1156.92 1450.66 1159.98 1446.07 Q1163.06 1441.47 1168.87 1441.47 Z\" fill=\"#000000\" fill-rule=\"evenodd\" fill-opacity=\"1\" /><path clip-path=\"url(#clip050)\" d=\"M 0 0 M1195.88 1445.17 Q1192.27 1445.17 1190.44 1448.74 Q1188.63 1452.28 1188.63 1459.41 Q1188.63 1466.51 1190.44 1470.08 Q1192.27 1473.62 1195.88 1473.62 Q1199.51 1473.62 1201.32 1470.08 Q1203.15 1466.51 1203.15 1459.41 Q1203.15 1452.28 1201.32 1448.74 Q1199.51 1445.17 1195.88 1445.17 M1195.88 1441.47 Q1201.69 1441.47 1204.74 1446.07 Q1207.82 1450.66 1207.82 1459.41 Q1207.82 1468.13 1204.74 1472.74 Q1201.69 1477.32 1195.88 1477.32 Q1190.07 1477.32 1186.99 1472.74 Q1183.93 1468.13 1183.93 1459.41 Q1183.93 1450.66 1186.99 1446.07 Q1190.07 1441.47 1195.88 1441.47 Z\" fill=\"#000000\" fill-rule=\"evenodd\" fill-opacity=\"1\" /><path clip-path=\"url(#clip050)\" d=\"M 0 0 M1577.13 1442.09 L1599.35 1442.09 L1599.35 1444.08 L1586.8 1476.65 L1581.92 1476.65 L1593.72 1446.03 L1577.13 1446.03 L1577.13 1442.09 Z\" fill=\"#000000\" fill-rule=\"evenodd\" fill-opacity=\"1\" /><path clip-path=\"url(#clip050)\" d=\"M 0 0 M1604.46 1442.09 L1622.82 1442.09 L1622.82 1446.03 L1608.75 1446.03 L1608.75 1454.5 Q1609.76 1454.15 1610.78 1453.99 Q1611.8 1453.8 1612.82 1453.8 Q1618.61 1453.8 1621.99 1456.98 Q1625.37 1460.15 1625.37 1465.56 Q1625.37 1471.14 1621.89 1474.24 Q1618.42 1477.32 1612.1 1477.32 Q1609.93 1477.32 1607.66 1476.95 Q1605.41 1476.58 1603 1475.84 L1603 1471.14 Q1605.09 1472.28 1607.31 1472.83 Q1609.53 1473.39 1612.01 1473.39 Q1616.01 1473.39 1618.35 1471.28 Q1620.69 1469.18 1620.69 1465.56 Q1620.69 1461.95 1618.35 1459.85 Q1616.01 1457.74 1612.01 1457.74 Q1610.13 1457.74 1608.26 1458.16 Q1606.41 1458.57 1604.46 1459.45 L1604.46 1442.09 Z\" fill=\"#000000\" fill-rule=\"evenodd\" fill-opacity=\"1\" /><path clip-path=\"url(#clip050)\" d=\"M 0 0 M1640.44 1445.17 Q1636.82 1445.17 1635 1448.74 Q1633.19 1452.28 1633.19 1459.41 Q1633.19 1466.51 1635 1470.08 Q1636.82 1473.62 1640.44 1473.62 Q1644.07 1473.62 1645.87 1470.08 Q1647.7 1466.51 1647.7 1459.41 Q1647.7 1452.28 1645.87 1448.74 Q1644.07 1445.17 1640.44 1445.17 M1640.44 1441.47 Q1646.25 1441.47 1649.3 1446.07 Q1652.38 1450.66 1652.38 1459.41 Q1652.38 1468.13 1649.3 1472.74 Q1646.25 1477.32 1640.44 1477.32 Q1634.62 1477.32 1631.55 1472.74 Q1628.49 1468.13 1628.49 1459.41 Q1628.49 1450.66 1631.55 1446.07 Q1634.62 1441.47 1640.44 1441.47 Z\" fill=\"#000000\" fill-rule=\"evenodd\" fill-opacity=\"1\" /><path clip-path=\"url(#clip050)\" d=\"M 0 0 M2009.74 1472.72 L2017.38 1472.72 L2017.38 1446.35 L2009.07 1448.02 L2009.07 1443.76 L2017.33 1442.09 L2022.01 1442.09 L2022.01 1472.72 L2029.64 1472.72 L2029.64 1476.65 L2009.74 1476.65 L2009.74 1472.72 Z\" fill=\"#000000\" fill-rule=\"evenodd\" fill-opacity=\"1\" /><path clip-path=\"url(#clip050)\" d=\"M 0 0 M2044.71 1445.17 Q2041.1 1445.17 2039.27 1448.74 Q2037.47 1452.28 2037.47 1459.41 Q2037.47 1466.51 2039.27 1470.08 Q2041.1 1473.62 2044.71 1473.62 Q2048.35 1473.62 2050.15 1470.08 Q2051.98 1466.51 2051.98 1459.41 Q2051.98 1452.28 2050.15 1448.74 Q2048.35 1445.17 2044.71 1445.17 M2044.71 1441.47 Q2050.52 1441.47 2053.58 1446.07 Q2056.66 1450.66 2056.66 1459.41 Q2056.66 1468.13 2053.58 1472.74 Q2050.52 1477.32 2044.71 1477.32 Q2038.9 1477.32 2035.82 1472.74 Q2032.77 1468.13 2032.77 1459.41 Q2032.77 1450.66 2035.82 1446.07 Q2038.9 1441.47 2044.71 1441.47 Z\" fill=\"#000000\" fill-rule=\"evenodd\" fill-opacity=\"1\" /><path clip-path=\"url(#clip050)\" d=\"M 0 0 M2071.73 1445.17 Q2068.12 1445.17 2066.29 1448.74 Q2064.48 1452.28 2064.48 1459.41 Q2064.48 1466.51 2066.29 1470.08 Q2068.12 1473.62 2071.73 1473.62 Q2075.36 1473.62 2077.17 1470.08 Q2079 1466.51 2079 1459.41 Q2079 1452.28 2077.17 1448.74 Q2075.36 1445.17 2071.73 1445.17 M2071.73 1441.47 Q2077.54 1441.47 2080.59 1446.07 Q2083.67 1450.66 2083.67 1459.41 Q2083.67 1468.13 2080.59 1472.74 Q2077.54 1477.32 2071.73 1477.32 Q2065.92 1477.32 2062.84 1472.74 Q2059.78 1468.13 2059.78 1459.41 Q2059.78 1450.66 2062.84 1446.07 Q2065.92 1441.47 2071.73 1441.47 Z\" fill=\"#000000\" fill-rule=\"evenodd\" fill-opacity=\"1\" /><path clip-path=\"url(#clip050)\" d=\"M 0 0 M2098.74 1445.17 Q2095.13 1445.17 2093.3 1448.74 Q2091.5 1452.28 2091.5 1459.41 Q2091.5 1466.51 2093.3 1470.08 Q2095.13 1473.62 2098.74 1473.62 Q2102.38 1473.62 2104.18 1470.08 Q2106.01 1466.51 2106.01 1459.41 Q2106.01 1452.28 2104.18 1448.74 Q2102.38 1445.17 2098.74 1445.17 M2098.74 1441.47 Q2104.55 1441.47 2107.61 1446.07 Q2110.69 1450.66 2110.69 1459.41 Q2110.69 1468.13 2107.61 1472.74 Q2104.55 1477.32 2098.74 1477.32 Q2092.93 1477.32 2089.85 1472.74 Q2086.8 1468.13 2086.8 1459.41 Q2086.8 1450.66 2089.85 1446.07 Q2092.93 1441.47 2098.74 1441.47 Z\" fill=\"#000000\" fill-rule=\"evenodd\" fill-opacity=\"1\" /><path clip-path=\"url(#clip050)\" d=\"M 0 0 M126.931 1404.03 L134.57 1404.03 L134.57 1377.67 L126.26 1379.33 L126.26 1375.07 L134.524 1373.41 L139.2 1373.41 L139.2 1404.03 L146.839 1404.03 L146.839 1407.97 L126.931 1407.97 L126.931 1404.03 Z\" fill=\"#000000\" fill-rule=\"evenodd\" fill-opacity=\"1\" /><path clip-path=\"url(#clip050)\" d=\"M 0 0 M161.908 1376.48 Q158.297 1376.48 156.468 1380.05 Q154.663 1383.59 154.663 1390.72 Q154.663 1397.83 156.468 1401.39 Q158.297 1404.93 161.908 1404.93 Q165.542 1404.93 167.348 1401.39 Q169.177 1397.83 169.177 1390.72 Q169.177 1383.59 167.348 1380.05 Q165.542 1376.48 161.908 1376.48 M161.908 1372.78 Q167.718 1372.78 170.774 1377.39 Q173.852 1381.97 173.852 1390.72 Q173.852 1399.45 170.774 1404.05 Q167.718 1408.64 161.908 1408.64 Q156.098 1408.64 153.019 1404.05 Q149.964 1399.45 149.964 1390.72 Q149.964 1381.97 153.019 1377.39 Q156.098 1372.78 161.908 1372.78 Z\" fill=\"#000000\" fill-rule=\"evenodd\" fill-opacity=\"1\" /><path clip-path=\"url(#clip050)\" d=\"M 0 0 M173.852 1366.88 L197.964 1366.88 L197.964 1370.08 L173.852 1370.08 L173.852 1366.88 Z\" fill=\"#000000\" fill-rule=\"evenodd\" fill-opacity=\"1\" /><path clip-path=\"url(#clip050)\" d=\"M 0 0 M212.521 1355.79 L202.929 1370.78 L212.521 1370.78 L212.521 1355.79 M211.524 1352.48 L216.302 1352.48 L216.302 1370.78 L220.308 1370.78 L220.308 1373.94 L216.302 1373.94 L216.302 1380.56 L212.521 1380.56 L212.521 1373.94 L199.845 1373.94 L199.845 1370.27 L211.524 1352.48 Z\" fill=\"#000000\" fill-rule=\"evenodd\" fill-opacity=\"1\" /><path clip-path=\"url(#clip050)\" d=\"M 0 0 M127.853 971.347 L135.492 971.347 L135.492 944.981 L127.182 946.648 L127.182 942.388 L135.446 940.722 L140.121 940.722 L140.121 971.347 L147.76 971.347 L147.76 975.282 L127.853 975.282 L127.853 971.347 Z\" fill=\"#000000\" fill-rule=\"evenodd\" fill-opacity=\"1\" /><path clip-path=\"url(#clip050)\" d=\"M 0 0 M162.83 943.8 Q159.219 943.8 157.39 947.365 Q155.584 950.907 155.584 958.036 Q155.584 965.143 157.39 968.708 Q159.219 972.249 162.83 972.249 Q166.464 972.249 168.269 968.708 Q170.098 965.143 170.098 958.036 Q170.098 950.907 168.269 947.365 Q166.464 943.8 162.83 943.8 M162.83 940.097 Q168.64 940.097 171.695 944.703 Q174.774 949.286 174.774 958.036 Q174.774 966.763 171.695 971.37 Q168.64 975.953 162.83 975.953 Q157.02 975.953 153.941 971.37 Q150.885 966.763 150.885 958.036 Q150.885 949.286 153.941 944.703 Q157.02 940.097 162.83 940.097 Z\" fill=\"#000000\" fill-rule=\"evenodd\" fill-opacity=\"1\" /><path clip-path=\"url(#clip050)\" d=\"M 0 0 M174.774 934.198 L198.886 934.198 L198.886 937.395 L174.774 937.395 L174.774 934.198 Z\" fill=\"#000000\" fill-rule=\"evenodd\" fill-opacity=\"1\" /><path clip-path=\"url(#clip050)\" d=\"M 0 0 M214.515 932.731 Q217.242 933.314 218.765 935.157 Q220.308 937 220.308 939.709 Q220.308 943.865 217.449 946.141 Q214.59 948.417 209.324 948.417 Q207.556 948.417 205.675 948.059 Q203.813 947.721 201.82 947.025 L201.82 943.357 Q203.4 944.279 205.28 944.749 Q207.161 945.219 209.211 945.219 Q212.785 945.219 214.647 943.809 Q216.527 942.398 216.527 939.709 Q216.527 937.226 214.778 935.834 Q213.048 934.424 209.945 934.424 L206.672 934.424 L206.672 931.302 L210.095 931.302 Q212.897 931.302 214.383 930.192 Q215.869 929.063 215.869 926.957 Q215.869 924.794 214.327 923.647 Q212.803 922.481 209.945 922.481 Q208.384 922.481 206.597 922.819 Q204.81 923.158 202.666 923.873 L202.666 920.487 Q204.829 919.885 206.71 919.584 Q208.609 919.283 210.283 919.283 Q214.609 919.283 217.129 921.258 Q219.649 923.214 219.649 926.562 Q219.649 928.894 218.314 930.512 Q216.979 932.11 214.515 932.731 Z\" fill=\"#000000\" fill-rule=\"evenodd\" fill-opacity=\"1\" /><path clip-path=\"url(#clip050)\" d=\"M 0 0 M128.624 538.662 L136.263 538.662 L136.263 512.297 L127.953 513.963 L127.953 509.704 L136.217 508.037 L140.893 508.037 L140.893 538.662 L148.531 538.662 L148.531 542.597 L128.624 542.597 L128.624 538.662 Z\" fill=\"#000000\" fill-rule=\"evenodd\" fill-opacity=\"1\" /><path clip-path=\"url(#clip050)\" d=\"M 0 0 M163.601 511.116 Q159.99 511.116 158.161 514.681 Q156.355 518.223 156.355 525.352 Q156.355 532.459 158.161 536.023 Q159.99 539.565 163.601 539.565 Q167.235 539.565 169.041 536.023 Q170.869 532.459 170.869 525.352 Q170.869 518.223 169.041 514.681 Q167.235 511.116 163.601 511.116 M163.601 507.412 Q169.411 507.412 172.467 512.019 Q175.545 516.602 175.545 525.352 Q175.545 534.079 172.467 538.685 Q169.411 543.269 163.601 543.269 Q157.791 543.269 154.712 538.685 Q151.656 534.079 151.656 525.352 Q151.656 516.602 154.712 512.019 Q157.791 507.412 163.601 507.412 Z\" fill=\"#000000\" fill-rule=\"evenodd\" fill-opacity=\"1\" /><path clip-path=\"url(#clip050)\" d=\"M 0 0 M175.545 501.514 L199.657 501.514 L199.657 504.711 L175.545 504.711 L175.545 501.514 Z\" fill=\"#000000\" fill-rule=\"evenodd\" fill-opacity=\"1\" /><path clip-path=\"url(#clip050)\" d=\"M 0 0 M207.048 511.99 L220.308 511.99 L220.308 515.187 L202.478 515.187 L202.478 511.99 Q204.641 509.752 208.365 505.99 Q212.107 502.21 213.067 501.119 Q214.891 499.069 215.606 497.658 Q216.339 496.229 216.339 494.856 Q216.339 492.618 214.759 491.207 Q213.198 489.797 210.678 489.797 Q208.891 489.797 206.898 490.417 Q204.923 491.038 202.666 492.298 L202.666 488.461 Q204.961 487.54 206.954 487.069 Q208.948 486.599 210.603 486.599 Q214.966 486.599 217.562 488.781 Q220.157 490.963 220.157 494.611 Q220.157 496.342 219.499 497.903 Q218.859 499.445 217.148 501.551 Q216.678 502.097 214.158 504.711 Q211.637 507.307 207.048 511.99 Z\" fill=\"#000000\" fill-rule=\"evenodd\" fill-opacity=\"1\" /><path clip-path=\"url(#clip050)\" d=\"M 0 0 M128.323 105.978 L135.962 105.978 L135.962 79.6125 L127.652 81.2792 L127.652 77.0199 L135.916 75.3533 L140.592 75.3533 L140.592 105.978 L148.231 105.978 L148.231 109.913 L128.323 109.913 L128.323 105.978 Z\" fill=\"#000000\" fill-rule=\"evenodd\" fill-opacity=\"1\" /><path clip-path=\"url(#clip050)\" d=\"M 0 0 M163.3 78.432 Q159.689 78.432 157.86 81.9968 Q156.055 85.5384 156.055 92.668 Q156.055 99.7744 157.86 103.339 Q159.689 106.881 163.3 106.881 Q166.934 106.881 168.74 103.339 Q170.568 99.7744 170.568 92.668 Q170.568 85.5384 168.74 81.9968 Q166.934 78.432 163.3 78.432 M163.3 74.7283 Q169.11 74.7283 172.166 79.3347 Q175.244 83.918 175.244 92.668 Q175.244 101.395 172.166 106.001 Q169.11 110.585 163.3 110.585 Q157.49 110.585 154.411 106.001 Q151.356 101.395 151.356 92.668 Q151.356 83.918 154.411 79.3347 Q157.49 74.7283 163.3 74.7283 Z\" fill=\"#000000\" fill-rule=\"evenodd\" fill-opacity=\"1\" /><path clip-path=\"url(#clip050)\" d=\"M 0 0 M175.244 68.8296 L199.356 68.8296 L199.356 72.0269 L175.244 72.0269 L175.244 68.8296 Z\" fill=\"#000000\" fill-rule=\"evenodd\" fill-opacity=\"1\" /><path clip-path=\"url(#clip050)\" d=\"M 0 0 M204.133 79.3056 L210.34 79.3056 L210.34 57.8835 L203.588 59.2377 L203.588 55.777 L210.302 54.4229 L214.101 54.4229 L214.101 79.3056 L220.308 79.3056 L220.308 82.5029 L204.133 82.5029 L204.133 79.3056 Z\" fill=\"#000000\" fill-rule=\"evenodd\" fill-opacity=\"1\" /><path clip-path=\"url(#clip050)\" d=\"M 0 0 M1108.81 1536.76 L1108.81 1539.62 L1081.88 1539.62 Q1082.27 1545.67 1085.51 1548.85 Q1088.79 1552 1094.62 1552 Q1097.99 1552 1101.14 1551.17 Q1104.32 1550.35 1107.44 1548.69 L1107.44 1554.23 Q1104.29 1555.57 1100.98 1556.27 Q1097.67 1556.97 1094.27 1556.97 Q1085.74 1556.97 1080.74 1552 Q1075.77 1547.04 1075.77 1538.57 Q1075.77 1529.82 1080.48 1524.69 Q1085.23 1519.54 1093.25 1519.54 Q1100.44 1519.54 1104.61 1524.18 Q1108.81 1528.8 1108.81 1536.76 M1102.95 1535.04 Q1102.89 1530.23 1100.25 1527.37 Q1097.64 1524.5 1093.31 1524.5 Q1088.41 1524.5 1085.45 1527.27 Q1082.52 1530.04 1082.08 1535.07 L1102.95 1535.04 Z\" fill=\"#000000\" fill-rule=\"evenodd\" fill-opacity=\"1\" /><path clip-path=\"url(#clip050)\" d=\"M 0 0 M1120.62 1550.7 L1120.62 1569.6 L1114.73 1569.6 L1114.73 1520.4 L1120.62 1520.4 L1120.62 1525.81 Q1122.47 1522.62 1125.27 1521.1 Q1128.1 1519.54 1132.01 1519.54 Q1138.51 1519.54 1142.55 1524.69 Q1146.62 1529.85 1146.62 1538.25 Q1146.62 1546.65 1142.55 1551.81 Q1138.51 1556.97 1132.01 1556.97 Q1128.1 1556.97 1125.27 1555.44 Q1122.47 1553.88 1120.62 1550.7 M1140.54 1538.25 Q1140.54 1531.79 1137.87 1528.13 Q1135.23 1524.44 1130.58 1524.44 Q1125.94 1524.44 1123.26 1528.13 Q1120.62 1531.79 1120.62 1538.25 Q1120.62 1544.71 1123.26 1548.4 Q1125.94 1552.07 1130.58 1552.07 Q1135.23 1552.07 1137.87 1548.4 Q1140.54 1544.71 1140.54 1538.25 Z\" fill=\"#000000\" fill-rule=\"evenodd\" fill-opacity=\"1\" /><path clip-path=\"url(#clip050)\" d=\"M 0 0 M1166.58 1524.5 Q1161.87 1524.5 1159.13 1528.19 Q1156.4 1531.85 1156.4 1538.25 Q1156.4 1544.65 1159.1 1548.34 Q1161.84 1552 1166.58 1552 Q1171.26 1552 1174 1548.31 Q1176.73 1544.62 1176.73 1538.25 Q1176.73 1531.92 1174 1528.23 Q1171.26 1524.5 1166.58 1524.5 M1166.58 1519.54 Q1174.22 1519.54 1178.58 1524.5 Q1182.94 1529.47 1182.94 1538.25 Q1182.94 1547 1178.58 1552 Q1174.22 1556.97 1166.58 1556.97 Q1158.91 1556.97 1154.55 1552 Q1150.22 1547 1150.22 1538.25 Q1150.22 1529.47 1154.55 1524.5 Q1158.91 1519.54 1166.58 1519.54 Z\" fill=\"#000000\" fill-rule=\"evenodd\" fill-opacity=\"1\" /><path clip-path=\"url(#clip050)\" d=\"M 0 0 M1214.74 1521.76 L1214.74 1527.24 Q1212.25 1525.87 1209.74 1525.2 Q1207.26 1524.5 1204.71 1524.5 Q1199.01 1524.5 1195.86 1528.13 Q1192.71 1531.73 1192.71 1538.25 Q1192.71 1544.78 1195.86 1548.4 Q1199.01 1552 1204.71 1552 Q1207.26 1552 1209.74 1551.33 Q1212.25 1550.63 1214.74 1549.26 L1214.74 1554.68 Q1212.29 1555.82 1209.64 1556.39 Q1207.03 1556.97 1204.07 1556.97 Q1196.02 1556.97 1191.28 1551.91 Q1186.54 1546.85 1186.54 1538.25 Q1186.54 1529.53 1191.31 1524.53 Q1196.12 1519.54 1204.46 1519.54 Q1207.16 1519.54 1209.74 1520.11 Q1212.32 1520.65 1214.74 1521.76 Z\" fill=\"#000000\" fill-rule=\"evenodd\" fill-opacity=\"1\" /><path clip-path=\"url(#clip050)\" d=\"M 0 0 M1250.51 1534.53 L1250.51 1556.04 L1244.66 1556.04 L1244.66 1534.72 Q1244.66 1529.66 1242.68 1527.14 Q1240.71 1524.63 1236.76 1524.63 Q1232.02 1524.63 1229.28 1527.65 Q1226.55 1530.68 1226.55 1535.9 L1226.55 1556.04 L1220.66 1556.04 L1220.66 1506.52 L1226.55 1506.52 L1226.55 1525.93 Q1228.65 1522.72 1231.48 1521.13 Q1234.34 1519.54 1238.07 1519.54 Q1244.21 1519.54 1247.36 1523.36 Q1250.51 1527.14 1250.51 1534.53 Z\" fill=\"#000000\" fill-rule=\"evenodd\" fill-opacity=\"1\" /><path clip-path=\"url(#clip050)\" d=\"M 0 0 M1279.38 1521.45 L1279.38 1526.98 Q1276.9 1525.71 1274.22 1525.07 Q1271.55 1524.44 1268.69 1524.44 Q1264.33 1524.44 1262.13 1525.77 Q1259.97 1527.11 1259.97 1529.79 Q1259.97 1531.82 1261.52 1533 Q1263.08 1534.15 1267.79 1535.2 L1269.8 1535.64 Q1276.04 1536.98 1278.65 1539.43 Q1281.29 1541.85 1281.29 1546.21 Q1281.29 1551.17 1277.34 1554.07 Q1273.43 1556.97 1266.55 1556.97 Q1263.69 1556.97 1260.57 1556.39 Q1257.48 1555.85 1254.04 1554.74 L1254.04 1548.69 Q1257.29 1550.38 1260.44 1551.24 Q1263.59 1552.07 1266.68 1552.07 Q1270.82 1552.07 1273.05 1550.66 Q1275.27 1549.23 1275.27 1546.65 Q1275.27 1544.27 1273.65 1542.99 Q1272.06 1541.72 1266.62 1540.54 L1264.58 1540.07 Q1259.14 1538.92 1256.72 1536.56 Q1254.3 1534.18 1254.3 1530.04 Q1254.3 1525.01 1257.86 1522.27 Q1261.43 1519.54 1267.99 1519.54 Q1271.23 1519.54 1274.1 1520.01 Q1276.96 1520.49 1279.38 1521.45 Z\" fill=\"#000000\" fill-rule=\"evenodd\" fill-opacity=\"1\" /><path clip-path=\"url(#clip050)\" d=\"M 0 0 M56.4621 905.383 Q56.4621 910.094 60.1542 912.831 Q63.8145 915.568 70.212 915.568 Q76.6095 915.568 80.3017 912.863 Q83.9619 910.126 83.9619 905.383 Q83.9619 900.704 80.2698 897.967 Q76.5777 895.23 70.212 895.23 Q63.8781 895.23 60.186 897.967 Q56.4621 900.704 56.4621 905.383 M51.4968 905.383 Q51.4968 897.744 56.4621 893.384 Q61.4273 889.023 70.212 889.023 Q78.9649 889.023 83.9619 893.384 Q88.9272 897.744 88.9272 905.383 Q88.9272 913.054 83.9619 917.414 Q78.9649 921.743 70.212 921.743 Q61.4273 921.743 56.4621 917.414 Q51.4968 913.054 51.4968 905.383 Z\" fill=\"#000000\" fill-rule=\"evenodd\" fill-opacity=\"1\" /><path clip-path=\"url(#clip050)\" d=\"M 0 0 M82.657 877.215 L101.563 877.215 L101.563 883.103 L52.3562 883.103 L52.3562 877.215 L57.7671 877.215 Q54.5842 875.369 53.0564 872.568 Q51.4968 869.735 51.4968 865.82 Q51.4968 859.327 56.6531 855.285 Q61.8093 851.211 70.212 851.211 Q78.6147 851.211 83.771 855.285 Q88.9272 859.327 88.9272 865.82 Q88.9272 869.735 87.3994 872.568 Q85.8398 875.369 82.657 877.215 M70.212 857.29 Q63.7508 857.29 60.0905 859.964 Q56.3984 862.606 56.3984 867.253 Q56.3984 871.9 60.0905 874.573 Q63.7508 877.215 70.212 877.215 Q76.6732 877.215 80.3653 874.573 Q84.0256 871.9 84.0256 867.253 Q84.0256 862.606 80.3653 859.964 Q76.6732 857.29 70.212 857.29 Z\" fill=\"#000000\" fill-rule=\"evenodd\" fill-opacity=\"1\" /><path clip-path=\"url(#clip050)\" d=\"M 0 0 M42.2347 839.275 L52.3562 839.275 L52.3562 827.212 L56.9077 827.212 L56.9077 839.275 L76.2594 839.275 Q80.6199 839.275 81.8613 838.098 Q83.1026 836.888 83.1026 833.228 L83.1026 827.212 L88.0042 827.212 L88.0042 833.228 Q88.0042 840.007 85.4897 842.586 Q82.9434 845.164 76.2594 845.164 L56.9077 845.164 L56.9077 849.46 L52.3562 849.46 L52.3562 845.164 L42.2347 845.164 L42.2347 839.275 Z\" fill=\"#000000\" fill-rule=\"evenodd\" fill-opacity=\"1\" /><path clip-path=\"url(#clip050)\" d=\"M 0 0 M52.3562 821.069 L52.3562 815.213 L88.0042 815.213 L88.0042 821.069 L52.3562 821.069 M38.479 821.069 L38.479 815.213 L45.895 815.213 L45.895 821.069 L38.479 821.069 Z\" fill=\"#000000\" fill-rule=\"evenodd\" fill-opacity=\"1\" /><path clip-path=\"url(#clip050)\" d=\"M 0 0 M59.1993 781.316 Q55.2526 779.119 53.3747 776.064 Q51.4968 773.008 51.4968 768.871 Q51.4968 763.301 55.4117 760.277 Q59.2948 757.253 66.4881 757.253 L88.0042 757.253 L88.0042 763.142 L66.679 763.142 Q61.5546 763.142 59.072 764.956 Q56.5894 766.77 56.5894 770.494 Q56.5894 775.045 59.6131 777.687 Q62.6368 780.329 67.8567 780.329 L88.0042 780.329 L88.0042 786.217 L66.679 786.217 Q61.5228 786.217 59.072 788.031 Q56.5894 789.846 56.5894 793.633 Q56.5894 798.121 59.6449 800.763 Q62.6686 803.405 67.8567 803.405 L88.0042 803.405 L88.0042 809.293 L52.3562 809.293 L52.3562 803.405 L57.8944 803.405 Q54.616 801.399 53.0564 798.598 Q51.4968 795.798 51.4968 791.946 Q51.4968 788.063 53.4702 785.358 Q55.4436 782.621 59.1993 781.316 Z\" fill=\"#000000\" fill-rule=\"evenodd\" fill-opacity=\"1\" /><path clip-path=\"url(#clip050)\" d=\"M 0 0 M52.3562 751.11 L52.3562 745.254 L88.0042 745.254 L88.0042 751.11 L52.3562 751.11 M38.479 751.11 L38.479 745.254 L45.895 745.254 L45.895 751.11 L38.479 751.11 Z\" fill=\"#000000\" fill-rule=\"evenodd\" fill-opacity=\"1\" /><path clip-path=\"url(#clip050)\" d=\"M 0 0 M53.4065 716.385 L58.9447 716.385 Q57.6716 718.868 57.035 721.542 Q56.3984 724.215 56.3984 727.08 Q56.3984 731.44 57.7352 733.636 Q59.072 735.801 61.7456 735.801 Q63.7826 735.801 64.9603 734.241 Q66.1061 732.682 67.1565 727.971 L67.6021 725.966 Q68.9389 719.727 71.3897 717.117 Q73.8086 714.476 78.1691 714.476 Q83.1344 714.476 86.0308 718.422 Q88.9272 722.337 88.9272 729.212 Q88.9272 732.077 88.3543 735.196 Q87.8132 738.283 86.6992 741.721 L80.6518 741.721 Q82.3387 738.474 83.198 735.323 Q84.0256 732.172 84.0256 729.085 Q84.0256 724.947 82.6251 722.719 Q81.1929 720.491 78.6147 720.491 Q76.2276 720.491 74.9545 722.115 Q73.6813 723.706 72.5037 729.149 L72.0262 731.186 Q70.8804 736.628 68.5251 739.047 Q66.138 741.466 62.0002 741.466 Q56.9713 741.466 54.2341 737.901 Q51.4968 734.337 51.4968 727.78 Q51.4968 724.533 51.9743 721.669 Q52.4517 718.804 53.4065 716.385 Z\" fill=\"#000000\" fill-rule=\"evenodd\" fill-opacity=\"1\" /><path clip-path=\"url(#clip050)\" d=\"M 0 0 M68.7161 677.841 L71.5806 677.841 L71.5806 704.768 Q77.6281 704.386 80.8109 701.14 Q83.9619 697.861 83.9619 692.037 Q83.9619 688.663 83.1344 685.512 Q82.3069 682.329 80.6518 679.21 L86.1899 679.21 Q87.5267 682.361 88.227 685.671 Q88.9272 688.981 88.9272 692.387 Q88.9272 700.917 83.9619 705.914 Q78.9967 710.879 70.5303 710.879 Q61.7774 710.879 56.6531 706.168 Q51.4968 701.426 51.4968 693.405 Q51.4968 686.212 56.1438 682.042 Q60.7589 677.841 68.7161 677.841 M66.9973 683.697 Q62.1912 683.761 59.3266 686.403 Q56.4621 689.013 56.4621 693.342 Q56.4621 698.243 59.2312 701.203 Q62.0002 704.131 67.0292 704.577 L66.9973 683.697 Z\" fill=\"#000000\" fill-rule=\"evenodd\" fill-opacity=\"1\" /><path clip-path=\"url(#clip050)\" d=\"M 0 0 M57.8307 651.041 Q57.2578 652.028 57.0032 653.206 Q56.7167 654.352 56.7167 655.752 Q56.7167 660.717 59.9632 663.391 Q63.1779 666.033 69.2253 666.033 L88.0042 666.033 L88.0042 671.921 L52.3562 671.921 L52.3562 666.033 L57.8944 666.033 Q54.6479 664.187 53.0883 661.227 Q51.4968 658.266 51.4968 654.033 Q51.4968 653.429 51.5923 652.696 Q51.656 651.964 51.8151 651.073 L57.8307 651.041 Z\" fill=\"#000000\" fill-rule=\"evenodd\" fill-opacity=\"1\" /><path clip-path=\"url(#clip050)\" d=\"M 0 0 M79.9197 650.055 L79.9197 643.339 L88.0042 643.339 L88.0042 650.055 L79.9197 650.055 Z\" fill=\"#000000\" fill-rule=\"evenodd\" fill-opacity=\"1\" /><path clip-path=\"url(#clip050)\" d=\"M 0 0 M68.7161 606.704 L71.5806 606.704 L71.5806 633.631 Q77.6281 633.249 80.8109 630.003 Q83.9619 626.724 83.9619 620.9 Q83.9619 617.526 83.1344 614.375 Q82.3069 611.192 80.6518 608.073 L86.1899 608.073 Q87.5267 611.224 88.227 614.534 Q88.9272 617.844 88.9272 621.25 Q88.9272 629.78 83.9619 634.777 Q78.9967 639.742 70.5303 639.742 Q61.7774 639.742 56.6531 635.032 Q51.4968 630.289 51.4968 622.268 Q51.4968 615.075 56.1438 610.906 Q60.7589 606.704 68.7161 606.704 M66.9973 612.561 Q62.1912 612.624 59.3266 615.266 Q56.4621 617.876 56.4621 622.205 Q56.4621 627.106 59.2312 630.066 Q62.0002 632.995 67.0292 633.44 L66.9973 612.561 Z\" fill=\"#000000\" fill-rule=\"evenodd\" fill-opacity=\"1\" /><path clip-path=\"url(#clip050)\" d=\"M 0 0 M42.2347 594.769 L52.3562 594.769 L52.3562 582.706 L56.9077 582.706 L56.9077 594.769 L76.2594 594.769 Q80.6199 594.769 81.8613 593.591 Q83.1026 592.381 83.1026 588.721 L83.1026 582.706 L88.0042 582.706 L88.0042 588.721 Q88.0042 595.501 85.4897 598.079 Q82.9434 600.657 76.2594 600.657 L56.9077 600.657 L56.9077 604.954 L52.3562 604.954 L52.3562 600.657 L42.2347 600.657 L42.2347 594.769 Z\" fill=\"#000000\" fill-rule=\"evenodd\" fill-opacity=\"1\" /><path clip-path=\"url(#clip050)\" d=\"M 0 0 M70.0847 560.362 Q70.0847 567.46 71.7079 570.197 Q73.3312 572.934 77.2461 572.934 Q80.3653 572.934 82.2114 570.897 Q84.0256 568.828 84.0256 565.295 Q84.0256 560.426 80.5881 557.497 Q77.1188 554.537 71.3897 554.537 L70.0847 554.537 L70.0847 560.362 M67.6657 548.681 L88.0042 548.681 L88.0042 554.537 L82.5933 554.537 Q85.8398 556.542 87.3994 559.534 Q88.9272 562.526 88.9272 566.855 Q88.9272 572.329 85.8716 575.576 Q82.7843 578.791 77.6281 578.791 Q71.6125 578.791 68.5569 574.78 Q65.5014 570.738 65.5014 562.749 L65.5014 554.537 L64.9285 554.537 Q60.8862 554.537 58.6901 557.211 Q56.4621 559.853 56.4621 564.659 Q56.4621 567.714 57.1941 570.611 Q57.9262 573.507 59.3903 576.181 L53.9795 576.181 Q52.7381 572.966 52.1334 569.942 Q51.4968 566.919 51.4968 564.054 Q51.4968 556.32 55.5072 552.5 Q59.5176 548.681 67.6657 548.681 Z\" fill=\"#000000\" fill-rule=\"evenodd\" fill-opacity=\"1\" /><circle clip-path=\"url(#clip052)\" cx=\"2059.88\" cy=\"518.87\" r=\"10\" fill=\"#1c0c44\" fill-rule=\"evenodd\" fill-opacity=\"1\" stroke=\"#000000\" stroke-opacity=\"1\" stroke-width=\"3.2\"/>\n",
       "<circle clip-path=\"url(#clip052)\" cx=\"1766.09\" cy=\"518.87\" r=\"8\" fill=\"#0e092b\" fill-rule=\"evenodd\" fill-opacity=\"1\" stroke=\"#000000\" stroke-opacity=\"1\" stroke-width=\"3.2\"/>\n",
       "<circle clip-path=\"url(#clip052)\" cx=\"884.751\" cy=\"735.212\" r=\"11\" fill=\"#220b4b\" fill-rule=\"evenodd\" fill-opacity=\"1\" stroke=\"#000000\" stroke-opacity=\"1\" stroke-width=\"3.2\"/>\n",
       "<circle clip-path=\"url(#clip052)\" cx=\"1472.31\" cy=\"1167.9\" r=\"11\" fill=\"#210b4b\" fill-rule=\"evenodd\" fill-opacity=\"1\" stroke=\"#000000\" stroke-opacity=\"1\" stroke-width=\"3.2\"/>\n",
       "<circle clip-path=\"url(#clip052)\" cx=\"1472.31\" cy=\"86.1857\" r=\"11\" fill=\"#210b4b\" fill-rule=\"evenodd\" fill-opacity=\"1\" stroke=\"#000000\" stroke-opacity=\"1\" stroke-width=\"3.2\"/>\n",
       "<circle clip-path=\"url(#clip052)\" cx=\"884.751\" cy=\"1384.24\" r=\"16\" fill=\"#400966\" fill-rule=\"evenodd\" fill-opacity=\"1\" stroke=\"#000000\" stroke-opacity=\"1\" stroke-width=\"3.2\"/>\n",
       "<circle clip-path=\"url(#clip052)\" cx=\"297.188\" cy=\"302.528\" r=\"13\" fill=\"#2d0a59\" fill-rule=\"evenodd\" fill-opacity=\"1\" stroke=\"#000000\" stroke-opacity=\"1\" stroke-width=\"3.2\"/>\n",
       "<circle clip-path=\"url(#clip052)\" cx=\"884.751\" cy=\"302.528\" r=\"3\" fill=\"#000003\" fill-rule=\"evenodd\" fill-opacity=\"1\" stroke=\"#000000\" stroke-opacity=\"1\" stroke-width=\"3.2\"/>\n",
       "<circle clip-path=\"url(#clip052)\" cx=\"1766.09\" cy=\"86.1857\" r=\"9\" fill=\"#150b37\" fill-rule=\"evenodd\" fill-opacity=\"1\" stroke=\"#000000\" stroke-opacity=\"1\" stroke-width=\"3.2\"/>\n",
       "<circle clip-path=\"url(#clip052)\" cx=\"590.969\" cy=\"1167.9\" r=\"14\" fill=\"#370961\" fill-rule=\"evenodd\" fill-opacity=\"1\" stroke=\"#000000\" stroke-opacity=\"1\" stroke-width=\"3.2\"/>\n",
       "<circle clip-path=\"url(#clip052)\" cx=\"884.751\" cy=\"518.87\" r=\"13\" fill=\"#2c0a58\" fill-rule=\"evenodd\" fill-opacity=\"1\" stroke=\"#000000\" stroke-opacity=\"1\" stroke-width=\"3.2\"/>\n",
       "<circle clip-path=\"url(#clip052)\" cx=\"1178.53\" cy=\"86.1857\" r=\"14\" fill=\"#32095e\" fill-rule=\"evenodd\" fill-opacity=\"1\" stroke=\"#000000\" stroke-opacity=\"1\" stroke-width=\"3.2\"/>\n",
       "<circle clip-path=\"url(#clip052)\" cx=\"1178.53\" cy=\"302.528\" r=\"14\" fill=\"#32095e\" fill-rule=\"evenodd\" fill-opacity=\"1\" stroke=\"#000000\" stroke-opacity=\"1\" stroke-width=\"3.2\"/>\n",
       "<circle clip-path=\"url(#clip052)\" cx=\"297.188\" cy=\"735.212\" r=\"16\" fill=\"#460a69\" fill-rule=\"evenodd\" fill-opacity=\"1\" stroke=\"#000000\" stroke-opacity=\"1\" stroke-width=\"3.2\"/>\n",
       "<circle clip-path=\"url(#clip052)\" cx=\"1178.53\" cy=\"951.554\" r=\"11\" fill=\"#220b4c\" fill-rule=\"evenodd\" fill-opacity=\"1\" stroke=\"#000000\" stroke-opacity=\"1\" stroke-width=\"3.2\"/>\n",
       "<circle clip-path=\"url(#clip052)\" cx=\"590.969\" cy=\"518.87\" r=\"8\" fill=\"#10092e\" fill-rule=\"evenodd\" fill-opacity=\"1\" stroke=\"#000000\" stroke-opacity=\"1\" stroke-width=\"3.2\"/>\n",
       "<circle clip-path=\"url(#clip052)\" cx=\"297.188\" cy=\"951.554\" r=\"37\" fill=\"#d34742\" fill-rule=\"evenodd\" fill-opacity=\"1\" stroke=\"#000000\" stroke-opacity=\"1\" stroke-width=\"3.2\"/>\n",
       "<circle clip-path=\"url(#clip052)\" cx=\"590.969\" cy=\"951.554\" r=\"13\" fill=\"#2e0a5a\" fill-rule=\"evenodd\" fill-opacity=\"1\" stroke=\"#000000\" stroke-opacity=\"1\" stroke-width=\"3.2\"/>\n",
       "<circle clip-path=\"url(#clip052)\" cx=\"1472.31\" cy=\"735.212\" r=\"10\" fill=\"#1d0c44\" fill-rule=\"evenodd\" fill-opacity=\"1\" stroke=\"#000000\" stroke-opacity=\"1\" stroke-width=\"3.2\"/>\n",
       "<circle clip-path=\"url(#clip052)\" cx=\"1178.53\" cy=\"1167.9\" r=\"13\" fill=\"#2e0a59\" fill-rule=\"evenodd\" fill-opacity=\"1\" stroke=\"#000000\" stroke-opacity=\"1\" stroke-width=\"3.2\"/>\n",
       "<circle clip-path=\"url(#clip052)\" cx=\"297.188\" cy=\"86.1857\" r=\"56\" fill=\"#f3df53\" fill-rule=\"evenodd\" fill-opacity=\"1\" stroke=\"#000000\" stroke-opacity=\"1\" stroke-width=\"3.2\"/>\n",
       "<circle clip-path=\"url(#clip052)\" cx=\"1178.53\" cy=\"1384.24\" r=\"56\" fill=\"#f3df53\" fill-rule=\"evenodd\" fill-opacity=\"1\" stroke=\"#000000\" stroke-opacity=\"1\" stroke-width=\"3.2\"/>\n",
       "<circle clip-path=\"url(#clip052)\" cx=\"590.969\" cy=\"86.1857\" r=\"56\" fill=\"#f3df53\" fill-rule=\"evenodd\" fill-opacity=\"1\" stroke=\"#000000\" stroke-opacity=\"1\" stroke-width=\"3.2\"/>\n",
       "<circle clip-path=\"url(#clip052)\" cx=\"2059.88\" cy=\"1384.24\" r=\"56\" fill=\"#f3df53\" fill-rule=\"evenodd\" fill-opacity=\"1\" stroke=\"#000000\" stroke-opacity=\"1\" stroke-width=\"3.2\"/>\n",
       "<circle clip-path=\"url(#clip052)\" cx=\"297.188\" cy=\"1384.24\" r=\"61\" fill=\"#fcfea4\" fill-rule=\"evenodd\" fill-opacity=\"1\" stroke=\"#000000\" stroke-opacity=\"1\" stroke-width=\"3.2\"/>\n",
       "<circle clip-path=\"url(#clip052)\" cx=\"1766.09\" cy=\"1167.9\" r=\"12\" fill=\"#290b55\" fill-rule=\"evenodd\" fill-opacity=\"1\" stroke=\"#000000\" stroke-opacity=\"1\" stroke-width=\"3.2\"/>\n",
       "<circle clip-path=\"url(#clip052)\" cx=\"590.969\" cy=\"1384.24\" r=\"20\" fill=\"#5e126e\" fill-rule=\"evenodd\" fill-opacity=\"1\" stroke=\"#000000\" stroke-opacity=\"1\" stroke-width=\"3.2\"/>\n",
       "<circle clip-path=\"url(#clip052)\" cx=\"2059.88\" cy=\"86.1857\" r=\"18\" fill=\"#510e6c\" fill-rule=\"evenodd\" fill-opacity=\"1\" stroke=\"#000000\" stroke-opacity=\"1\" stroke-width=\"3.2\"/>\n",
       "<circle clip-path=\"url(#clip052)\" cx=\"590.969\" cy=\"735.212\" r=\"11\" fill=\"#220b4c\" fill-rule=\"evenodd\" fill-opacity=\"1\" stroke=\"#000000\" stroke-opacity=\"1\" stroke-width=\"3.2\"/>\n",
       "<circle clip-path=\"url(#clip052)\" cx=\"2059.88\" cy=\"302.528\" r=\"11\" fill=\"#210c4a\" fill-rule=\"evenodd\" fill-opacity=\"1\" stroke=\"#000000\" stroke-opacity=\"1\" stroke-width=\"3.2\"/>\n",
       "<circle clip-path=\"url(#clip052)\" cx=\"884.751\" cy=\"86.1857\" r=\"16\" fill=\"#420967\" fill-rule=\"evenodd\" fill-opacity=\"1\" stroke=\"#000000\" stroke-opacity=\"1\" stroke-width=\"3.2\"/>\n",
       "<circle clip-path=\"url(#clip052)\" cx=\"1178.53\" cy=\"518.87\" r=\"11\" fill=\"#1d0c44\" fill-rule=\"evenodd\" fill-opacity=\"1\" stroke=\"#000000\" stroke-opacity=\"1\" stroke-width=\"3.2\"/>\n",
       "<circle clip-path=\"url(#clip052)\" cx=\"297.188\" cy=\"1167.9\" r=\"60\" fill=\"#f5f994\" fill-rule=\"evenodd\" fill-opacity=\"1\" stroke=\"#000000\" stroke-opacity=\"1\" stroke-width=\"3.2\"/>\n",
       "<circle clip-path=\"url(#clip052)\" cx=\"297.188\" cy=\"518.87\" r=\"60\" fill=\"#f5f994\" fill-rule=\"evenodd\" fill-opacity=\"1\" stroke=\"#000000\" stroke-opacity=\"1\" stroke-width=\"3.2\"/>\n",
       "<circle clip-path=\"url(#clip052)\" cx=\"1766.09\" cy=\"302.528\" r=\"7\" fill=\"#090622\" fill-rule=\"evenodd\" fill-opacity=\"1\" stroke=\"#000000\" stroke-opacity=\"1\" stroke-width=\"3.2\"/>\n",
       "<circle clip-path=\"url(#clip052)\" cx=\"884.751\" cy=\"951.554\" r=\"12\" fill=\"#290b54\" fill-rule=\"evenodd\" fill-opacity=\"1\" stroke=\"#000000\" stroke-opacity=\"1\" stroke-width=\"3.2\"/>\n",
       "<circle clip-path=\"url(#clip052)\" cx=\"590.969\" cy=\"302.528\" r=\"6\" fill=\"#07051d\" fill-rule=\"evenodd\" fill-opacity=\"1\" stroke=\"#000000\" stroke-opacity=\"1\" stroke-width=\"3.2\"/>\n",
       "<circle clip-path=\"url(#clip052)\" cx=\"1472.31\" cy=\"951.554\" r=\"6\" fill=\"#040316\" fill-rule=\"evenodd\" fill-opacity=\"1\" stroke=\"#000000\" stroke-opacity=\"1\" stroke-width=\"3.2\"/>\n",
       "<circle clip-path=\"url(#clip052)\" cx=\"1178.53\" cy=\"735.212\" r=\"10\" fill=\"#1d0c44\" fill-rule=\"evenodd\" fill-opacity=\"1\" stroke=\"#000000\" stroke-opacity=\"1\" stroke-width=\"3.2\"/>\n",
       "<circle clip-path=\"url(#clip052)\" cx=\"1766.09\" cy=\"951.554\" r=\"10\" fill=\"#1c0c44\" fill-rule=\"evenodd\" fill-opacity=\"1\" stroke=\"#000000\" stroke-opacity=\"1\" stroke-width=\"3.2\"/>\n",
       "<circle clip-path=\"url(#clip052)\" cx=\"2059.88\" cy=\"1167.9\" r=\"10\" fill=\"#190b3e\" fill-rule=\"evenodd\" fill-opacity=\"1\" stroke=\"#000000\" stroke-opacity=\"1\" stroke-width=\"3.2\"/>\n",
       "<circle clip-path=\"url(#clip052)\" cx=\"1472.31\" cy=\"302.528\" r=\"9\" fill=\"#140b36\" fill-rule=\"evenodd\" fill-opacity=\"1\" stroke=\"#000000\" stroke-opacity=\"1\" stroke-width=\"3.2\"/>\n",
       "<circle clip-path=\"url(#clip052)\" cx=\"1766.09\" cy=\"735.212\" r=\"11\" fill=\"#230b4c\" fill-rule=\"evenodd\" fill-opacity=\"1\" stroke=\"#000000\" stroke-opacity=\"1\" stroke-width=\"3.2\"/>\n",
       "<circle clip-path=\"url(#clip052)\" cx=\"2059.88\" cy=\"735.212\" r=\"11\" fill=\"#200c49\" fill-rule=\"evenodd\" fill-opacity=\"1\" stroke=\"#000000\" stroke-opacity=\"1\" stroke-width=\"3.2\"/>\n",
       "<circle clip-path=\"url(#clip052)\" cx=\"1472.31\" cy=\"1384.24\" r=\"14\" fill=\"#34095f\" fill-rule=\"evenodd\" fill-opacity=\"1\" stroke=\"#000000\" stroke-opacity=\"1\" stroke-width=\"3.2\"/>\n",
       "<circle clip-path=\"url(#clip052)\" cx=\"1766.09\" cy=\"1384.24\" r=\"14\" fill=\"#32095e\" fill-rule=\"evenodd\" fill-opacity=\"1\" stroke=\"#000000\" stroke-opacity=\"1\" stroke-width=\"3.2\"/>\n",
       "<circle clip-path=\"url(#clip052)\" cx=\"1472.31\" cy=\"518.87\" r=\"10\" fill=\"#1c0c44\" fill-rule=\"evenodd\" fill-opacity=\"1\" stroke=\"#000000\" stroke-opacity=\"1\" stroke-width=\"3.2\"/>\n",
       "<circle clip-path=\"url(#clip052)\" cx=\"884.751\" cy=\"1167.9\" r=\"14\" fill=\"#32095e\" fill-rule=\"evenodd\" fill-opacity=\"1\" stroke=\"#000000\" stroke-opacity=\"1\" stroke-width=\"3.2\"/>\n",
       "<circle clip-path=\"url(#clip052)\" cx=\"2059.88\" cy=\"951.554\" r=\"11\" fill=\"#1e0c46\" fill-rule=\"evenodd\" fill-opacity=\"1\" stroke=\"#000000\" stroke-opacity=\"1\" stroke-width=\"3.2\"/>\n",
       "<defs>\n",
       "  <clipPath id=\"clip053\">\n",
       "    <rect x=\"2160\" y=\"47\" width=\"73\" height=\"1377\"/>\n",
       "  </clipPath>\n",
       "</defs>\n",
       "<g clip-path=\"url(#clip053)\">\n",
       "<image width=\"72\" height=\"1376\" xlink:href=\"data:image/png;base64,\n",
       "iVBORw0KGgoAAAANSUhEUgAAAEgAAAVgCAYAAADsKhu7AAAL6UlEQVR4nO3dwZEjNxBFQVBR/lsh\n",
       "L6UFZIHqHclDpgUTL35wCXTP7Off+/c7/K+/vv0D/DqBgkBBoCBQmPv+/fbP8NMsKAgUBAoChXnv\n",
       "z7d/hp9mQUGgIFAQKAgUHDWCBQWBgkBBoDDPh/TKgoJAQaAgUJh3fUhvLCgIFAQKAgWBgqNGsKAg\n",
       "UBAoCBR8SAcLCgIFgYJAwX1QsKAgUBAoCBQECnMcNVYWFAQKAgWBgvugYEFBoCBQECgIFOa4MFtZ\n",
       "UBAoCBQECnPuP9/+GX6aBQWBgkBBoODSPlhQECgIFAQKAgX3QcGCgkBBoCBQ8CEdLCgIFAQKAgX3\n",
       "QcGCgkBBoCBQECjMx1FjZUFBoCBQECjMuf5XhI0FBYGCQEGgIFBw1AgWFAQKAgWBgqNGsKAgUBAo\n",
       "CBS8HxQsKAgUBAoCBYHCfBw1VhYUBAoCBYGCt1yDBQWBgkBBoOCbdLCgIFAQKAgUBAoePQcLCgIF\n",
       "gYJAwVEjWFAQKAgUBAoCBUeNYEFBoCBQECg4agQLCgIFgYJAYc693/4ZfpoFBYGCQEGgIFBw1AgW\n",
       "FAQKAgWBgkv7YEFBoCBQECj4kA4WFAQKAgWBgkBhPp5qrCwoCBQECgIFR41gQUGgIFAQKAgUvEAV\n",
       "LCgIFAQKAgX3QcGCgkBBoCBQcB8ULCgIFAQKAgWBgvugYEFBoCBQECj4kA4WFAQKAgWBgl/qDRYU\n",
       "BAoCBYGCQMFRI1hQECgIFAQKPqSDBQWBgkBBoCBQ8K9YsKAgUBAoCBR8SAcLCgIFgYJAYc7zIb2x\n",
       "oCBQECgIFAQKjhrBgoJAQaAgUPAhHSwoCBQECgIFH9LBgoJAQaAgUBAozLnv2z/DT7OgIFAQKAgU\n",
       "HDWCBQWBgkBBoCBQcNQIFhQECgIFgYKjRrCgIFAQKAgUfJMOFhQECgIFgYJAYY6TxsqCgkBBoCBQ\n",
       "mPMcNTYWFAQKAgWBgm/SwYKCQEGgIFAQKPhXLFhQECgIFAQK44/g7SwoCBQECgIFgYKjRrCgIFAQ\n",
       "KAgUfEgHCwoCBYGCQGHO/Xz7Z/hpFhQECgIFgYJAYd7zr9jGgoJAQaAgUHAfFCwoCBQECgIF90HB\n",
       "goJAQaAgUBAozLsabdQJAgWBgkDBUSNYUBAoCBQECgKFOR49rywoCBQECgKFeY4aKwsKAgWBgkBh\n",
       "jkv7lTpBoCBQECgIFBw1ggUFgYJAQaDg0j5YUBAoCBQECl7iDOoEgYJAQaAgUPCWa7CgIFAQKAgU\n",
       "XNoHCwoCBYGCQEGgMO9ptFEnCBQECgIF90HBgoJAQaAgUHAfFCwoCBQECgIFgcIc90ErdYJAQaAg\n",
       "UHDUCBYUBAoCBYGCD+lgQUGgIFAQKAgU/NZzsKAgUBAoCBT81nNQJwgUBAoCBYHCPEeNlQUFgYJA\n",
       "QaDgqUawoCBQECgIFPyvCEGdIFAQKAgUBArug4IFBYGCQEGg4D4oWFAQKAgUBAq+SQcLCgIFgYJA\n",
       "QaDgLdegThAoCBQECo4awYKCQEGgIFAQKHiqESwoCBQECgIFR41gQUGgIFAQKPiva4IFBYGCQEGg\n",
       "IFDwv2QGdYJAQaAgUHAfFCwoCBQECgIFT1aDBQWBgkBBoCBQcNQIFhQECgIFgcJcH9IrCwoCBYGC\n",
       "QEGg4LeegzpBoCBQECi4DwoWFAQKAgWBgg/pYEFBoCBQECgIFLxAFSwoCBQECgIFR41gQUGgIFAQ\n",
       "KPiQDhYUBAoCBYGCQMGfpgjqBIGCQEGgMNel/cqCgkBBoCBQECi4MAsWFAQKAgWBgg/pYEFBoCBQ\n",
       "ECj4kA4WFAQKAgWBgkDBH1gKFhQECgIFgYKjRrCgIFAQKAgUfEgHCwoCBYGCQEGg4FcRgjpBoCBQ\n",
       "ECj4VYRgQUGgIFAQKAgUXJgFCwoCBYGCQMGHdLCgIFAQKAgUvMQZLCgIFAQKAgWBgqNGsKAgUBAo\n",
       "CBTmHR/SGwsKAgWBgkDBfVCwoCBQECgIFAQK7oOCBQWBgkBBoOCoESwoCBQECgIFgYKjRrCgIFAQ\n",
       "KAgUHDWCBQWBgkBBoOCbdLCgIFAQKAgUBAr+FQsWFAQKAgWBwly/irCyoCBQECgIFHyTDhYUBAoC\n",
       "BYGCQMGj52BBQaAgUBAozHvf/hF+mwUFgYJAQaAgUHDUCBYUBAoCBYGCv4IXLCgIFAQKAgXfpIMF\n",
       "BYGCQEGgIFDwAlWwoCBQECgIFPwqQrCgIFAQKAgUvB8ULCgIFAQKAgWBgqcawYKCQEGgIFBwaR8s\n",
       "KAgUBAoCBYGCpxrBgoJAQaAgUHAfFCwoCBQECgIFj56DBQWBgkBBoCBQcB8ULCgIFAQKAgWPnoMF\n",
       "BYGCQEGgMPfbP8GPs6AgUBAoCBQECo4awYKCQEGgIFDwflCwoCBQECgIFAQKLsyCBQWBgkBBoOA+\n",
       "KFhQECgIFAQKvkkHCwoCBYGCQEGg4KgRLCgIFAQKAgWPnoMFBYGCQEGgMP4yxc6CgkBBoCBQECg4\n",
       "agQLCgIFgYJAwaPnYEFBoCBQECgIFDx6DhYUBAoCBYGCo0awoCBQECgIFHyTDhYUBAoCBYGCQGGu\n",
       "N6hWFhQECgIFgYL7oGBBQaAgUBAouA8KFhQECgIFgYJAwVEjWFAQKAgUBArzXNqvLCgIFAQKAgWB\n",
       "wtzjwmxjQUGgIFAQKHg/KFhQECgIFAQK/gpesKAgUBAoCBQECv4KXrCgIFAQKAgUPHoOFhQECgIF\n",
       "gYKXOIMFBYGCQEGgIFDwC3XBgoJAQaAgUHDUCBYUBAoCBYGCQMFbrsGCgkBBoCBQ8JZrsKAgUBAo\n",
       "CBR8kw4WFAQKAgWBgkDBW67BgoJAQaAgUPD3g4IFBYGCQEGg4D4oWFAQKAgUBAoCBY+egwUFgYJA\n",
       "QaDgqBEsKAgUBAoCBYGCo0awoCBQECgIFBw1ggUFgYJAQaDgQzpYUBAoCBQECgIF90HBgoJAQaAg\n",
       "UHDUCBYUBAoCBYGCb9LBgoJAQaAgUBAoOGoECwoCBYGCQMHfDwoWFAQKAgWBgkDB/+0TLCgIFAQK\n",
       "AgX3QcGCgkBBoCBQmHd8Sm8sKAgUBAoCBYGCo0awoCBQECgIFDx6DhYUBAoCBYGCJ6vBgoJAQaAg\n",
       "UBAouA8KFhQECgIFgYJHz8GCgkBBoCBQECg4agQLCgIFgYJAwR9YChYUBAoCBYHCXC8IrSwoCBQE\n",
       "CgIFgYIXqIIFBYGCQEGgMM9RY2VBQaAgUBAo+CYdLCgIFAQKAgWBgqcawYKCQEGgIFDwflCwoCBQ\n",
       "ECgIFAQKc/1C3cqCgkBBoCBQcB8ULCgIFAQKAgV/miJYUBAoCBQECgIFL1AFCwoCBYGCQMGlfbCg\n",
       "IFAQKAgU3AcFCwoCBYGCQEGgMPe4EdpYUBAoCBQECu6DggUFgYJAQaAgUPCvWLCgIFAQKAgUPNUI\n",
       "FhQECgIFgYJL+2BBQaAgUBAoCBTmfhw1NhYUBAoCBYGCo0awoCBQECgIFOb5kF5ZUBAoCBQECgIF\n",
       "R41gQUGgIFAQKMz9+JDeWFAQKAgUBAoCBUeNYEFBoCBQECh4qhEsKAgUBAoCBd+kgwUFgYJAQaAg\n",
       "UPCvWLCgIFAQKAgUPHoOFhQECgIFgcK88+fbP8NPs6AgUBAoCBQECu6DggUFgYJAQaDg/aBgQUGg\n",
       "IFAQKAgU5j4XZhsLCgIFgYJAwVEjWFAQKAgUBApzPXpeWVAQKAgUBAoCBUeNYEFBoCBQECg4agQL\n",
       "CgIFgYJAYd7zTXpjQUGgIFAQKAgU3AcFCwoCBYGCQMFLnMGCgkBBoCBQECg4agQLCgIFgYJAYZ6j\n",
       "xsqCgkBBoCBQ8E06WFAQKAgUBAoChbleoFpZUBAoCBQECv7gdrCgIFAQKAgU/CpCsKAgUBAoCBQE\n",
       "Cp5qBAsKAgWBgkDBUSNYUBAoCBQECgIF/4oFCwoCBYGCQMGj52BBQaAgUBAo+CYdLCgIFAQKAgWB\n",
       "whyPnlcWFAQKAgWBgqNGsKAgUBAoCBS8xBksKAgUBAoCBYHCHEeNlQUFgYJAQaDg/aBgQUGgIFAQ\n",
       "KAgUPHoOFhQECgIFgYL7oGBBQaAgUBAozDvv2z/DT7OgIFAQKAgUBArug4IFBYGCQEGgMMdRY2VB\n",
       "QaAgUBAo/AdhU+3PqlcPeQAAAABJRU5ErkJggg==\n",
       "\" transform=\"translate(2161, 47)\"/>\n",
       "</g>\n",
       "<path clip-path=\"url(#clip050)\" d=\"M 0 0 M2280.7 1232.71 Q2277.09 1232.71 2275.26 1236.28 Q2273.45 1239.82 2273.45 1246.95 Q2273.45 1254.06 2275.26 1257.62 Q2277.09 1261.16 2280.7 1261.16 Q2284.33 1261.16 2286.14 1257.62 Q2287.97 1254.06 2287.97 1246.95 Q2287.97 1239.82 2286.14 1236.28 Q2284.33 1232.71 2280.7 1232.71 M2280.7 1229.01 Q2286.51 1229.01 2289.57 1233.62 Q2292.64 1238.2 2292.64 1246.95 Q2292.64 1255.68 2289.57 1260.28 Q2286.51 1264.87 2280.7 1264.87 Q2274.89 1264.87 2271.81 1260.28 Q2268.76 1255.68 2268.76 1246.95 Q2268.76 1238.2 2271.81 1233.62 Q2274.89 1229.01 2280.7 1229.01 Z\" fill=\"#000000\" fill-rule=\"evenodd\" fill-opacity=\"1\" /><path clip-path=\"url(#clip050)\" d=\"M 0 0 M2297.71 1258.31 L2302.6 1258.31 L2302.6 1264.19 L2297.71 1264.19 L2297.71 1258.31 Z\" fill=\"#000000\" fill-rule=\"evenodd\" fill-opacity=\"1\" /><path clip-path=\"url(#clip050)\" d=\"M 0 0 M2318.25 1245.05 Q2315.1 1245.05 2313.25 1247.2 Q2311.42 1249.36 2311.42 1253.11 Q2311.42 1256.83 2313.25 1259.01 Q2315.1 1261.16 2318.25 1261.16 Q2321.39 1261.16 2323.22 1259.01 Q2325.08 1256.83 2325.08 1253.11 Q2325.08 1249.36 2323.22 1247.2 Q2321.39 1245.05 2318.25 1245.05 M2327.53 1230.4 L2327.53 1234.66 Q2325.77 1233.82 2323.96 1233.38 Q2322.18 1232.94 2320.42 1232.94 Q2315.79 1232.94 2313.34 1236.07 Q2310.91 1239.19 2310.56 1245.51 Q2311.93 1243.5 2313.99 1242.44 Q2316.05 1241.35 2318.52 1241.35 Q2323.73 1241.35 2326.74 1244.52 Q2329.77 1247.67 2329.77 1253.11 Q2329.77 1258.43 2326.63 1261.65 Q2323.48 1264.87 2318.25 1264.87 Q2312.25 1264.87 2309.08 1260.28 Q2305.91 1255.68 2305.91 1246.95 Q2305.91 1238.75 2309.8 1233.89 Q2313.69 1229.01 2320.24 1229.01 Q2322 1229.01 2323.78 1229.36 Q2325.58 1229.7 2327.53 1230.4 Z\" fill=\"#000000\" fill-rule=\"evenodd\" fill-opacity=\"1\" /><path clip-path=\"url(#clip050)\" d=\"M 0 0 M2334.89 1229.63 L2353.25 1229.63 L2353.25 1233.57 L2339.17 1233.57 L2339.17 1242.04 Q2340.19 1241.69 2341.21 1241.53 Q2342.23 1241.35 2343.25 1241.35 Q2349.03 1241.35 2352.41 1244.52 Q2355.79 1247.69 2355.79 1253.11 Q2355.79 1258.69 2352.32 1261.79 Q2348.85 1264.87 2342.53 1264.87 Q2340.35 1264.87 2338.08 1264.5 Q2335.84 1264.12 2333.43 1263.38 L2333.43 1258.69 Q2335.51 1259.82 2337.74 1260.37 Q2339.96 1260.93 2342.44 1260.93 Q2346.44 1260.93 2348.78 1258.82 Q2351.12 1256.72 2351.12 1253.11 Q2351.12 1249.5 2348.78 1247.39 Q2346.44 1245.28 2342.44 1245.28 Q2340.56 1245.28 2338.69 1245.7 Q2336.83 1246.12 2334.89 1247 L2334.89 1229.63 Z\" fill=\"#000000\" fill-rule=\"evenodd\" fill-opacity=\"1\" /><path clip-path=\"url(#clip050)\" d=\"M 0 0 M2280.7 1032.92 Q2277.09 1032.92 2275.26 1036.49 Q2273.45 1040.03 2273.45 1047.16 Q2273.45 1054.27 2275.26 1057.83 Q2277.09 1061.37 2280.7 1061.37 Q2284.33 1061.37 2286.14 1057.83 Q2287.97 1054.27 2287.97 1047.16 Q2287.97 1040.03 2286.14 1036.49 Q2284.33 1032.92 2280.7 1032.92 M2280.7 1029.22 Q2286.51 1029.22 2289.57 1033.83 Q2292.64 1038.41 2292.64 1047.16 Q2292.64 1055.89 2289.57 1060.49 Q2286.51 1065.08 2280.7 1065.08 Q2274.89 1065.08 2271.81 1060.49 Q2268.76 1055.89 2268.76 1047.16 Q2268.76 1038.41 2271.81 1033.83 Q2274.89 1029.22 2280.7 1029.22 Z\" fill=\"#000000\" fill-rule=\"evenodd\" fill-opacity=\"1\" /><path clip-path=\"url(#clip050)\" d=\"M 0 0 M2297.71 1058.53 L2302.6 1058.53 L2302.6 1064.41 L2297.71 1064.41 L2297.71 1058.53 Z\" fill=\"#000000\" fill-rule=\"evenodd\" fill-opacity=\"1\" /><path clip-path=\"url(#clip050)\" d=\"M 0 0 M2306.49 1029.85 L2328.71 1029.85 L2328.71 1031.84 L2316.16 1064.41 L2311.28 1064.41 L2323.08 1033.78 L2306.49 1033.78 L2306.49 1029.85 Z\" fill=\"#000000\" fill-rule=\"evenodd\" fill-opacity=\"1\" /><path clip-path=\"url(#clip050)\" d=\"M 0 0 M2343.78 1032.92 Q2340.17 1032.92 2338.34 1036.49 Q2336.53 1040.03 2336.53 1047.16 Q2336.53 1054.27 2338.34 1057.83 Q2340.17 1061.37 2343.78 1061.37 Q2347.41 1061.37 2349.22 1057.83 Q2351.05 1054.27 2351.05 1047.16 Q2351.05 1040.03 2349.22 1036.49 Q2347.41 1032.92 2343.78 1032.92 M2343.78 1029.22 Q2349.59 1029.22 2352.64 1033.83 Q2355.72 1038.41 2355.72 1047.16 Q2355.72 1055.89 2352.64 1060.49 Q2349.59 1065.08 2343.78 1065.08 Q2337.97 1065.08 2334.89 1060.49 Q2331.83 1055.89 2331.83 1047.16 Q2331.83 1038.41 2334.89 1033.83 Q2337.97 1029.22 2343.78 1029.22 Z\" fill=\"#000000\" fill-rule=\"evenodd\" fill-opacity=\"1\" /><path clip-path=\"url(#clip050)\" d=\"M 0 0 M2280.7 833.136 Q2277.09 833.136 2275.26 836.7 Q2273.45 840.242 2273.45 847.372 Q2273.45 854.478 2275.26 858.043 Q2277.09 861.584 2280.7 861.584 Q2284.33 861.584 2286.14 858.043 Q2287.97 854.478 2287.97 847.372 Q2287.97 840.242 2286.14 836.7 Q2284.33 833.136 2280.7 833.136 M2280.7 829.432 Q2286.51 829.432 2289.57 834.038 Q2292.64 838.622 2292.64 847.372 Q2292.64 856.098 2289.57 860.705 Q2286.51 865.288 2280.7 865.288 Q2274.89 865.288 2271.81 860.705 Q2268.76 856.098 2268.76 847.372 Q2268.76 838.622 2271.81 834.038 Q2274.89 829.432 2280.7 829.432 Z\" fill=\"#000000\" fill-rule=\"evenodd\" fill-opacity=\"1\" /><path clip-path=\"url(#clip050)\" d=\"M 0 0 M2297.71 858.737 L2302.6 858.737 L2302.6 864.617 L2297.71 864.617 L2297.71 858.737 Z\" fill=\"#000000\" fill-rule=\"evenodd\" fill-opacity=\"1\" /><path clip-path=\"url(#clip050)\" d=\"M 0 0 M2306.49 830.057 L2328.71 830.057 L2328.71 832.048 L2316.16 864.617 L2311.28 864.617 L2323.08 833.992 L2306.49 833.992 L2306.49 830.057 Z\" fill=\"#000000\" fill-rule=\"evenodd\" fill-opacity=\"1\" /><path clip-path=\"url(#clip050)\" d=\"M 0 0 M2333.83 830.057 L2352.18 830.057 L2352.18 833.992 L2338.11 833.992 L2338.11 842.464 Q2339.13 842.117 2340.14 841.955 Q2341.16 841.77 2342.18 841.77 Q2347.97 841.77 2351.35 844.941 Q2354.73 848.112 2354.73 853.529 Q2354.73 859.108 2351.26 862.209 Q2347.78 865.288 2341.46 865.288 Q2339.29 865.288 2337.02 864.918 Q2334.77 864.547 2332.37 863.807 L2332.37 859.108 Q2334.45 860.242 2336.67 860.797 Q2338.89 861.353 2341.37 861.353 Q2345.38 861.353 2347.71 859.247 Q2350.05 857.14 2350.05 853.529 Q2350.05 849.918 2347.71 847.811 Q2345.38 845.705 2341.37 845.705 Q2339.5 845.705 2337.62 846.122 Q2335.77 846.538 2333.83 847.418 L2333.83 830.057 Z\" fill=\"#000000\" fill-rule=\"evenodd\" fill-opacity=\"1\" /><path clip-path=\"url(#clip050)\" d=\"M 0 0 M2280.7 633.347 Q2277.09 633.347 2275.26 636.912 Q2273.45 640.453 2273.45 647.583 Q2273.45 654.689 2275.26 658.254 Q2277.09 661.796 2280.7 661.796 Q2284.33 661.796 2286.14 658.254 Q2287.97 654.689 2287.97 647.583 Q2287.97 640.453 2286.14 636.912 Q2284.33 633.347 2280.7 633.347 M2280.7 629.643 Q2286.51 629.643 2289.57 634.25 Q2292.64 638.833 2292.64 647.583 Q2292.64 656.31 2289.57 660.916 Q2286.51 665.499 2280.7 665.499 Q2274.89 665.499 2271.81 660.916 Q2268.76 656.31 2268.76 647.583 Q2268.76 638.833 2271.81 634.25 Q2274.89 629.643 2280.7 629.643 Z\" fill=\"#000000\" fill-rule=\"evenodd\" fill-opacity=\"1\" /><path clip-path=\"url(#clip050)\" d=\"M 0 0 M2297.71 658.949 L2302.6 658.949 L2302.6 664.828 L2297.71 664.828 L2297.71 658.949 Z\" fill=\"#000000\" fill-rule=\"evenodd\" fill-opacity=\"1\" /><path clip-path=\"url(#clip050)\" d=\"M 0 0 M2317.67 648.416 Q2314.33 648.416 2312.41 650.199 Q2310.51 651.981 2310.51 655.106 Q2310.51 658.231 2312.41 660.013 Q2314.33 661.796 2317.67 661.796 Q2321 661.796 2322.92 660.013 Q2324.84 658.208 2324.84 655.106 Q2324.84 651.981 2322.92 650.199 Q2321.02 648.416 2317.67 648.416 M2312.99 646.425 Q2309.98 645.685 2308.29 643.625 Q2306.63 641.564 2306.63 638.601 Q2306.63 634.458 2309.57 632.051 Q2312.53 629.643 2317.67 629.643 Q2322.83 629.643 2325.77 632.051 Q2328.71 634.458 2328.71 638.601 Q2328.71 641.564 2327.02 643.625 Q2325.35 645.685 2322.37 646.425 Q2325.75 647.212 2327.62 649.504 Q2329.52 651.796 2329.52 655.106 Q2329.52 660.129 2326.44 662.814 Q2323.39 665.499 2317.67 665.499 Q2311.95 665.499 2308.87 662.814 Q2305.82 660.129 2305.82 655.106 Q2305.82 651.796 2307.71 649.504 Q2309.61 647.212 2312.99 646.425 M2311.28 639.041 Q2311.28 641.726 2312.95 643.231 Q2314.64 644.736 2317.67 644.736 Q2320.68 644.736 2322.37 643.231 Q2324.08 641.726 2324.08 639.041 Q2324.08 636.356 2322.37 634.851 Q2320.68 633.347 2317.67 633.347 Q2314.64 633.347 2312.95 634.851 Q2311.28 636.356 2311.28 639.041 Z\" fill=\"#000000\" fill-rule=\"evenodd\" fill-opacity=\"1\" /><path clip-path=\"url(#clip050)\" d=\"M 0 0 M2344.59 633.347 Q2340.98 633.347 2339.15 636.912 Q2337.34 640.453 2337.34 647.583 Q2337.34 654.689 2339.15 658.254 Q2340.98 661.796 2344.59 661.796 Q2348.22 661.796 2350.03 658.254 Q2351.86 654.689 2351.86 647.583 Q2351.86 640.453 2350.03 636.912 Q2348.22 633.347 2344.59 633.347 M2344.59 629.643 Q2350.4 629.643 2353.45 634.25 Q2356.53 638.833 2356.53 647.583 Q2356.53 656.31 2353.45 660.916 Q2350.4 665.499 2344.59 665.499 Q2338.78 665.499 2335.7 660.916 Q2332.64 656.31 2332.64 647.583 Q2332.64 638.833 2335.7 634.25 Q2338.78 629.643 2344.59 629.643 Z\" fill=\"#000000\" fill-rule=\"evenodd\" fill-opacity=\"1\" /><path clip-path=\"url(#clip050)\" d=\"M 0 0 M2280.7 433.558 Q2277.09 433.558 2275.26 437.123 Q2273.45 440.664 2273.45 447.794 Q2273.45 454.901 2275.26 458.465 Q2277.09 462.007 2280.7 462.007 Q2284.33 462.007 2286.14 458.465 Q2287.97 454.901 2287.97 447.794 Q2287.97 440.664 2286.14 437.123 Q2284.33 433.558 2280.7 433.558 M2280.7 429.854 Q2286.51 429.854 2289.57 434.461 Q2292.64 439.044 2292.64 447.794 Q2292.64 456.521 2289.57 461.127 Q2286.51 465.711 2280.7 465.711 Q2274.89 465.711 2271.81 461.127 Q2268.76 456.521 2268.76 447.794 Q2268.76 439.044 2271.81 434.461 Q2274.89 429.854 2280.7 429.854 Z\" fill=\"#000000\" fill-rule=\"evenodd\" fill-opacity=\"1\" /><path clip-path=\"url(#clip050)\" d=\"M 0 0 M2297.71 459.16 L2302.6 459.16 L2302.6 465.039 L2297.71 465.039 L2297.71 459.16 Z\" fill=\"#000000\" fill-rule=\"evenodd\" fill-opacity=\"1\" /><path clip-path=\"url(#clip050)\" d=\"M 0 0 M2317.67 448.627 Q2314.33 448.627 2312.41 450.41 Q2310.51 452.192 2310.51 455.317 Q2310.51 458.442 2312.41 460.225 Q2314.33 462.007 2317.67 462.007 Q2321 462.007 2322.92 460.225 Q2324.84 458.419 2324.84 455.317 Q2324.84 452.192 2322.92 450.41 Q2321.02 448.627 2317.67 448.627 M2312.99 446.637 Q2309.98 445.896 2308.29 443.836 Q2306.63 441.776 2306.63 438.813 Q2306.63 434.669 2309.57 432.262 Q2312.53 429.854 2317.67 429.854 Q2322.83 429.854 2325.77 432.262 Q2328.71 434.669 2328.71 438.813 Q2328.71 441.776 2327.02 443.836 Q2325.35 445.896 2322.37 446.637 Q2325.75 447.424 2327.62 449.715 Q2329.52 452.007 2329.52 455.317 Q2329.52 460.34 2326.44 463.025 Q2323.39 465.711 2317.67 465.711 Q2311.95 465.711 2308.87 463.025 Q2305.82 460.34 2305.82 455.317 Q2305.82 452.007 2307.71 449.715 Q2309.61 447.424 2312.99 446.637 M2311.28 439.252 Q2311.28 441.938 2312.95 443.442 Q2314.64 444.947 2317.67 444.947 Q2320.68 444.947 2322.37 443.442 Q2324.08 441.938 2324.08 439.252 Q2324.08 436.567 2322.37 435.063 Q2320.68 433.558 2317.67 433.558 Q2314.64 433.558 2312.95 435.063 Q2311.28 436.567 2311.28 439.252 Z\" fill=\"#000000\" fill-rule=\"evenodd\" fill-opacity=\"1\" /><path clip-path=\"url(#clip050)\" d=\"M 0 0 M2334.64 430.479 L2352.99 430.479 L2352.99 434.415 L2338.92 434.415 L2338.92 442.887 Q2339.94 442.539 2340.95 442.377 Q2341.97 442.192 2342.99 442.192 Q2348.78 442.192 2352.16 445.364 Q2355.54 448.535 2355.54 453.951 Q2355.54 459.53 2352.07 462.632 Q2348.59 465.711 2342.27 465.711 Q2340.1 465.711 2337.83 465.34 Q2335.58 464.97 2333.18 464.229 L2333.18 459.53 Q2335.26 460.664 2337.48 461.22 Q2339.7 461.775 2342.18 461.775 Q2346.19 461.775 2348.52 459.669 Q2350.86 457.563 2350.86 453.951 Q2350.86 450.34 2348.52 448.234 Q2346.19 446.127 2342.18 446.127 Q2340.31 446.127 2338.43 446.544 Q2336.58 446.961 2334.64 447.84 L2334.64 430.479 Z\" fill=\"#000000\" fill-rule=\"evenodd\" fill-opacity=\"1\" /><path clip-path=\"url(#clip050)\" d=\"M 0 0 M2280.7 233.769 Q2277.09 233.769 2275.26 237.334 Q2273.45 240.876 2273.45 248.005 Q2273.45 255.112 2275.26 258.677 Q2277.09 262.218 2280.7 262.218 Q2284.33 262.218 2286.14 258.677 Q2287.97 255.112 2287.97 248.005 Q2287.97 240.876 2286.14 237.334 Q2284.33 233.769 2280.7 233.769 M2280.7 230.066 Q2286.51 230.066 2289.57 234.672 Q2292.64 239.255 2292.64 248.005 Q2292.64 256.732 2289.57 261.339 Q2286.51 265.922 2280.7 265.922 Q2274.89 265.922 2271.81 261.339 Q2268.76 256.732 2268.76 248.005 Q2268.76 239.255 2271.81 234.672 Q2274.89 230.066 2280.7 230.066 Z\" fill=\"#000000\" fill-rule=\"evenodd\" fill-opacity=\"1\" /><path clip-path=\"url(#clip050)\" d=\"M 0 0 M2297.71 259.371 L2302.6 259.371 L2302.6 265.251 L2297.71 265.251 L2297.71 259.371 Z\" fill=\"#000000\" fill-rule=\"evenodd\" fill-opacity=\"1\" /><path clip-path=\"url(#clip050)\" d=\"M 0 0 M2307.81 264.533 L2307.81 260.274 Q2309.57 261.107 2311.37 261.547 Q2313.18 261.987 2314.91 261.987 Q2319.54 261.987 2321.97 258.885 Q2324.43 255.76 2324.77 249.417 Q2323.43 251.408 2321.37 252.473 Q2319.31 253.538 2316.81 253.538 Q2311.63 253.538 2308.59 250.413 Q2305.58 247.265 2305.58 241.825 Q2305.58 236.501 2308.73 233.283 Q2311.88 230.066 2317.11 230.066 Q2323.11 230.066 2326.26 234.672 Q2329.43 239.255 2329.43 248.005 Q2329.43 256.177 2325.54 261.061 Q2321.67 265.922 2315.12 265.922 Q2313.36 265.922 2311.56 265.575 Q2309.75 265.227 2307.81 264.533 M2317.11 249.88 Q2320.26 249.88 2322.09 247.728 Q2323.94 245.575 2323.94 241.825 Q2323.94 238.098 2322.09 235.945 Q2320.26 233.769 2317.11 233.769 Q2313.96 233.769 2312.11 235.945 Q2310.28 238.098 2310.28 241.825 Q2310.28 245.575 2312.11 247.728 Q2313.96 249.88 2317.11 249.88 Z\" fill=\"#000000\" fill-rule=\"evenodd\" fill-opacity=\"1\" /><path clip-path=\"url(#clip050)\" d=\"M 0 0 M2344.5 233.769 Q2340.89 233.769 2339.06 237.334 Q2337.25 240.876 2337.25 248.005 Q2337.25 255.112 2339.06 258.677 Q2340.89 262.218 2344.5 262.218 Q2348.13 262.218 2349.94 258.677 Q2351.76 255.112 2351.76 248.005 Q2351.76 240.876 2349.94 237.334 Q2348.13 233.769 2344.5 233.769 M2344.5 230.066 Q2350.31 230.066 2353.36 234.672 Q2356.44 239.255 2356.44 248.005 Q2356.44 256.732 2353.36 261.339 Q2350.31 265.922 2344.5 265.922 Q2338.69 265.922 2335.61 261.339 Q2332.55 256.732 2332.55 248.005 Q2332.55 239.255 2335.61 234.672 Q2338.69 230.066 2344.5 230.066 Z\" fill=\"#000000\" fill-rule=\"evenodd\" fill-opacity=\"1\" /><path clip-path=\"url(#clip050)\" d=\"M 0 0 M2280.7 33.9805 Q2277.09 33.9805 2275.26 37.5453 Q2273.45 41.087 2273.45 48.2166 Q2273.45 55.323 2275.26 58.8878 Q2277.09 62.4295 2280.7 62.4295 Q2284.33 62.4295 2286.14 58.8878 Q2287.97 55.323 2287.97 48.2166 Q2287.97 41.087 2286.14 37.5453 Q2284.33 33.9805 2280.7 33.9805 M2280.7 30.2769 Q2286.51 30.2769 2289.57 34.8833 Q2292.64 39.4666 2292.64 48.2166 Q2292.64 56.9434 2289.57 61.5498 Q2286.51 66.1331 2280.7 66.1331 Q2274.89 66.1331 2271.81 61.5498 Q2268.76 56.9434 2268.76 48.2166 Q2268.76 39.4666 2271.81 34.8833 Q2274.89 30.2769 2280.7 30.2769 Z\" fill=\"#000000\" fill-rule=\"evenodd\" fill-opacity=\"1\" /><path clip-path=\"url(#clip050)\" d=\"M 0 0 M2297.71 59.5823 L2302.6 59.5823 L2302.6 65.4619 L2297.71 65.4619 L2297.71 59.5823 Z\" fill=\"#000000\" fill-rule=\"evenodd\" fill-opacity=\"1\" /><path clip-path=\"url(#clip050)\" d=\"M 0 0 M2307.81 64.7443 L2307.81 60.485 Q2309.57 61.3184 2311.37 61.7582 Q2313.18 62.198 2314.91 62.198 Q2319.54 62.198 2321.97 59.0961 Q2324.43 55.9712 2324.77 49.6286 Q2323.43 51.6193 2321.37 52.6841 Q2319.31 53.749 2316.81 53.749 Q2311.63 53.749 2308.59 50.624 Q2305.58 47.4758 2305.58 42.0361 Q2305.58 36.712 2308.73 33.4944 Q2311.88 30.2769 2317.11 30.2769 Q2323.11 30.2769 2326.26 34.8833 Q2329.43 39.4666 2329.43 48.2166 Q2329.43 56.3878 2325.54 61.2721 Q2321.67 66.1331 2315.12 66.1331 Q2313.36 66.1331 2311.56 65.7859 Q2309.75 65.4387 2307.81 64.7443 M2317.11 50.0916 Q2320.26 50.0916 2322.09 47.9388 Q2323.94 45.786 2323.94 42.0361 Q2323.94 38.3092 2322.09 36.1565 Q2320.26 33.9805 2317.11 33.9805 Q2313.96 33.9805 2312.11 36.1565 Q2310.28 38.3092 2310.28 42.0361 Q2310.28 45.786 2312.11 47.9388 Q2313.96 50.0916 2317.11 50.0916 Z\" fill=\"#000000\" fill-rule=\"evenodd\" fill-opacity=\"1\" /><path clip-path=\"url(#clip050)\" d=\"M 0 0 M2334.54 30.9019 L2352.9 30.9019 L2352.9 34.837 L2338.82 34.837 L2338.82 43.3092 Q2339.84 42.962 2340.86 42.7999 Q2341.88 42.6148 2342.9 42.6148 Q2348.69 42.6148 2352.07 45.786 Q2355.45 48.9573 2355.45 54.374 Q2355.45 59.9526 2351.97 63.0545 Q2348.5 66.1331 2342.18 66.1331 Q2340.01 66.1331 2337.74 65.7628 Q2335.49 65.3924 2333.08 64.6517 L2333.08 59.9526 Q2335.17 61.0869 2337.39 61.6424 Q2339.61 62.198 2342.09 62.198 Q2346.09 62.198 2348.43 60.0915 Q2350.77 57.985 2350.77 54.374 Q2350.77 50.7629 2348.43 48.6564 Q2346.09 46.5499 2342.09 46.5499 Q2340.21 46.5499 2338.34 46.9666 Q2336.49 47.3832 2334.54 48.2629 L2334.54 30.9019 Z\" fill=\"#000000\" fill-rule=\"evenodd\" fill-opacity=\"1\" /><polyline clip-path=\"url(#clip050)\" style=\"stroke:#000000; stroke-width:4; stroke-opacity:1; fill:none\" points=\"\n",
       "  2232.76,1423.18 2232.76,1250.54 2256.76,1250.54 2232.76,1250.54 2232.76,1050.75 2256.76,1050.75 2232.76,1050.75 2232.76,850.966 2256.76,850.966 2232.76,850.966 \n",
       "  2232.76,651.177 2256.76,651.177 2232.76,651.177 2232.76,451.388 2256.76,451.388 2232.76,451.388 2232.76,251.599 2256.76,251.599 2232.76,251.599 2232.76,51.8107 \n",
       "  2256.76,51.8107 2232.76,51.8107 2232.76,47.2441 \n",
       "  \"/>\n",
       "</svg>\n"
      ]
     },
     "execution_count": 320,
     "metadata": {},
     "output_type": "execute_result"
    }
   ],
   "source": [
    "plot(self_tuning_nn)"
   ]
  },
  {
   "cell_type": "code",
   "execution_count": 321,
   "metadata": {},
   "outputs": [
    {
     "data": {
      "text/plain": [
       "(best_model = \u001b[34mNeuralNetworkClassifier{CustomNN,…} @850\u001b[39m,\n",
       " best_fitted_params = (chain = Chain(Chain(Dense(4, 72, σ), Dense(72, 29, σ), Dense(29, 3, σ)), softmax),),)"
      ]
     },
     "execution_count": 321,
     "metadata": {},
     "output_type": "execute_result"
    }
   ],
   "source": [
    "best = fitted_params(self_tuning_nn)\n",
    "best"
   ]
  },
  {
   "cell_type": "code",
   "execution_count": 322,
   "metadata": {},
   "outputs": [
    {
     "data": {
      "text/plain": [
       "NeuralNetworkClassifier(\n",
       "    builder = CustomNN(\n",
       "            n1 = 72,\n",
       "            n2 = 29),\n",
       "    finaliser = NNlib.softmax,\n",
       "    optimiser = ADAM(0.03162277660168379, (0.9, 0.999), IdDict{Any,Any}()),\n",
       "    loss = Flux.crossentropy,\n",
       "    epochs = 340,\n",
       "    batch_size = 8,\n",
       "    lambda = 0.01,\n",
       "    alpha = 0.0,\n",
       "    optimiser_changes_trigger_retraining = false)\u001b[34m @850\u001b[39m"
      ]
     },
     "execution_count": 322,
     "metadata": {},
     "output_type": "execute_result"
    }
   ],
   "source": [
    "best.best_model"
   ]
  },
  {
   "cell_type": "code",
   "execution_count": 323,
   "metadata": {
    "scrolled": true
   },
   "outputs": [
    {
     "data": {
      "text/plain": [
       "0.6067952f0"
      ]
     },
     "execution_count": 323,
     "metadata": {},
     "output_type": "execute_result"
    }
   ],
   "source": [
    "best_loss = z.report.best_result.measurement[1]"
   ]
  },
  {
   "cell_type": "code",
   "execution_count": 324,
   "metadata": {},
   "outputs": [
    {
     "data": {
      "text/plain": [
       "0.03162"
      ]
     },
     "execution_count": 324,
     "metadata": {},
     "output_type": "execute_result"
    }
   ],
   "source": [
    "best_eta = round(best.best_model.optimiser.eta, digits=5)"
   ]
  },
  {
   "cell_type": "code",
   "execution_count": 325,
   "metadata": {},
   "outputs": [],
   "source": [
    "fn = \"Figures/Grid_NN_$(param1):$(best.best_model.epochs)_x_$(param2):$(best_eta)_bestloss:$(best_loss)_hidden:$b\"\n",
    "png(replace(fn,'.' => ','))"
   ]
  },
  {
   "cell_type": "markdown",
   "metadata": {},
   "source": [
    "### GridSearch for Regularization"
   ]
  },
  {
   "cell_type": "code",
   "execution_count": 326,
   "metadata": {
    "scrolled": true
   },
   "outputs": [
    {
     "data": {
      "text/plain": [
       "NeuralNetworkClassifier(\n",
       "    builder = CustomNN(\n",
       "            n1 = 72,\n",
       "            n2 = 29),\n",
       "    finaliser = NNlib.softmax,\n",
       "    optimiser = ADAM(0.001, (0.9, 0.999), IdDict{Any,Any}()),\n",
       "    loss = Flux.crossentropy,\n",
       "    epochs = 10,\n",
       "    batch_size = 1,\n",
       "    lambda = 0.0,\n",
       "    alpha = 0.0,\n",
       "    optimiser_changes_trigger_retraining = false)\u001b[34m @792\u001b[39m"
      ]
     },
     "execution_count": 326,
     "metadata": {},
     "output_type": "execute_result"
    }
   ],
   "source": [
    "nn = NeuralNetworkClassifier(builder=CustomNN(best_n1,best_n2))"
   ]
  },
  {
   "cell_type": "code",
   "execution_count": 327,
   "metadata": {},
   "outputs": [
    {
     "data": {
      "text/plain": [
       "0.01"
      ]
     },
     "execution_count": 327,
     "metadata": {},
     "output_type": "execute_result"
    }
   ],
   "source": [
    "nn.optimiser.eta = best_eta\n",
    "nn.epochs = 60\n",
    "nn.batch_size = batch_sz\n",
    "nn.lambda = 0.01"
   ]
  },
  {
   "cell_type": "code",
   "execution_count": 328,
   "metadata": {},
   "outputs": [
    {
     "data": {
      "text/plain": [
       "\u001b[34mMachine{NeuralNetworkClassifier{CustomNN,…}} @895\u001b[39m trained 0 times.\n",
       "  args: \n",
       "    1:\t\u001b[34mSource @686\u001b[39m ⏎ `Table{AbstractArray{Continuous,1}}`\n",
       "    2:\t\u001b[34mSource @699\u001b[39m ⏎ `AbstractArray{Multiclass{3},1}`\n"
      ]
     },
     "execution_count": 328,
     "metadata": {},
     "output_type": "execute_result"
    }
   ],
   "source": [
    "Net = machine(nn, X_stand, y)"
   ]
  },
  {
   "cell_type": "code",
   "execution_count": 329,
   "metadata": {},
   "outputs": [
    {
     "data": {
      "text/plain": [
       "MLJBase.NumericRange(Float64, :lambda, ... )"
      ]
     },
     "execution_count": 329,
     "metadata": {},
     "output_type": "execute_result"
    }
   ],
   "source": [
    "param1 = :epochs\n",
    "param2 = :lambda\n",
    "\n",
    "r1 = range(nn, param1, lower=100, upper=2000, scale=:linear)\n",
    "r2 = range(nn, param2, lower=0.0001, upper=10, scale=:log10)"
   ]
  },
  {
   "cell_type": "code",
   "execution_count": 330,
   "metadata": {
    "scrolled": true
   },
   "outputs": [
    {
     "data": {
      "text/plain": [
       "ProbabilisticTunedModel(\n",
       "    model = NeuralNetworkClassifier(\n",
       "            builder = \u001b[34mCustomNN @074\u001b[39m,\n",
       "            finaliser = NNlib.softmax,\n",
       "            optimiser = ADAM(0.03162, (0.9, 0.999), IdDict{Any,Any}()),\n",
       "            loss = Flux.crossentropy,\n",
       "            epochs = 60,\n",
       "            batch_size = 8,\n",
       "            lambda = 0.01,\n",
       "            alpha = 0.0,\n",
       "            optimiser_changes_trigger_retraining = false),\n",
       "    tuning = Grid(\n",
       "            goal = 50,\n",
       "            resolution = 10,\n",
       "            shuffle = true,\n",
       "            rng = Random._GLOBAL_RNG()),\n",
       "    resampling = Holdout(\n",
       "            fraction_train = 0.7,\n",
       "            shuffle = false,\n",
       "            rng = Random._GLOBAL_RNG()),\n",
       "    measure = cross_entropy(\n",
       "            eps = 2.220446049250313e-16),\n",
       "    weights = nothing,\n",
       "    operation = MLJModelInterface.predict,\n",
       "    range = MLJBase.NumericRange{T,MLJBase.Bounded,Symbol} where T[\u001b[34mNumericRange{Int64,…} @889\u001b[39m, \u001b[34mNumericRange{Float64,…} @990\u001b[39m],\n",
       "    train_best = true,\n",
       "    repeats = 1,\n",
       "    n = nothing,\n",
       "    acceleration = CPUThreads{Int64}(1),\n",
       "    acceleration_resampling = CPU1{Nothing}(nothing),\n",
       "    check_measure = true)\u001b[34m @601\u001b[39m"
      ]
     },
     "execution_count": 330,
     "metadata": {},
     "output_type": "execute_result"
    }
   ],
   "source": [
    "self_tuning_nn_model = TunedModel(model=nn,\n",
    "                                    tuning=Grid(goal=50),\n",
    "                                    resampling=Holdout(fraction_train=0.7), \n",
    "                                    measure=cross_entropy,\n",
    "                                    acceleration=CPUThreads(),\n",
    "                                    range=[r1, r2])"
   ]
  },
  {
   "cell_type": "code",
   "execution_count": 331,
   "metadata": {},
   "outputs": [
    {
     "data": {
      "text/plain": [
       "\u001b[34mMachine{ProbabilisticTunedModel{Grid,…}} @003\u001b[39m trained 0 times.\n",
       "  args: \n",
       "    1:\t\u001b[34mSource @797\u001b[39m ⏎ `Table{AbstractArray{Continuous,1}}`\n",
       "    2:\t\u001b[34mSource @294\u001b[39m ⏎ `AbstractArray{Multiclass{3},1}`\n"
      ]
     },
     "execution_count": 331,
     "metadata": {},
     "output_type": "execute_result"
    }
   ],
   "source": [
    "self_tuning_nn = machine(self_tuning_nn_model, X_stand, y)"
   ]
  },
  {
   "cell_type": "code",
   "execution_count": 338,
   "metadata": {},
   "outputs": [
    {
     "name": "stderr",
     "output_type": "stream",
     "text": [
      "┌ Info: Training \u001b[34mMachine{ProbabilisticTunedModel{Grid,…}} @003\u001b[39m.\n",
      "└ @ MLJBase /home/andrew/.julia/packages/MLJBase/uKzAz/src/machines.jl:319\n",
      "┌ Info: Attempting to evaluate 49 models.\n",
      "└ @ MLJTuning /home/andrew/.julia/packages/MLJTuning/Bbgvk/src/tuned_models.jl:494\n",
      "\u001b[33mEvaluating over 49 metamodels: 100%[=========================] Time: 0:06:47\u001b[39m\n"
     ]
    },
    {
     "data": {
      "text/plain": [
       "\u001b[34mMachine{ProbabilisticTunedModel{Grid,…}} @003\u001b[39m trained 1 time.\n",
       "  args: \n",
       "    1:\t\u001b[34mSource @797\u001b[39m ⏎ `Table{AbstractArray{Continuous,1}}`\n",
       "    2:\t\u001b[34mSource @294\u001b[39m ⏎ `AbstractArray{Multiclass{3},1}`\n"
      ]
     },
     "execution_count": 338,
     "metadata": {},
     "output_type": "execute_result"
    }
   ],
   "source": [
    "z = fit!(self_tuning_nn, rows=train)"
   ]
  },
  {
   "cell_type": "code",
   "execution_count": 339,
   "metadata": {
    "scrolled": false
   },
   "outputs": [
    {
     "data": {
      "image/svg+xml": [
       "<?xml version=\"1.0\" encoding=\"utf-8\"?>\n",
       "<svg xmlns=\"http://www.w3.org/2000/svg\" xmlns:xlink=\"http://www.w3.org/1999/xlink\" width=\"600\" height=\"400\" viewBox=\"0 0 2400 1600\">\n",
       "<defs>\n",
       "  <clipPath id=\"clip100\">\n",
       "    <rect x=\"0\" y=\"0\" width=\"2400\" height=\"1600\"/>\n",
       "  </clipPath>\n",
       "</defs>\n",
       "<path clip-path=\"url(#clip100)\" d=\"\n",
       "M0 1600 L2400 1600 L2400 0 L0 0  Z\n",
       "  \" fill=\"#ffffff\" fill-rule=\"evenodd\" fill-opacity=\"1\"/>\n",
       "<defs>\n",
       "  <clipPath id=\"clip101\">\n",
       "    <rect x=\"480\" y=\"0\" width=\"1681\" height=\"1600\"/>\n",
       "  </clipPath>\n",
       "</defs>\n",
       "<path clip-path=\"url(#clip100)\" d=\"\n",
       "M244.308 1423.18 L2112.76 1423.18 L2112.76 47.2441 L244.308 47.2441  Z\n",
       "  \" fill=\"#ffffff\" fill-rule=\"evenodd\" fill-opacity=\"1\"/>\n",
       "<defs>\n",
       "  <clipPath id=\"clip102\">\n",
       "    <rect x=\"244\" y=\"47\" width=\"1869\" height=\"1377\"/>\n",
       "  </clipPath>\n",
       "</defs>\n",
       "<polyline clip-path=\"url(#clip102)\" style=\"stroke:#000000; stroke-width:2; stroke-opacity:0.1; fill:none\" points=\"\n",
       "  668.28,1423.18 668.28,47.2441 \n",
       "  \"/>\n",
       "<polyline clip-path=\"url(#clip102)\" style=\"stroke:#000000; stroke-width:2; stroke-opacity:0.1; fill:none\" points=\"\n",
       "  1132.15,1423.18 1132.15,47.2441 \n",
       "  \"/>\n",
       "<polyline clip-path=\"url(#clip102)\" style=\"stroke:#000000; stroke-width:2; stroke-opacity:0.1; fill:none\" points=\"\n",
       "  1596.01,1423.18 1596.01,47.2441 \n",
       "  \"/>\n",
       "<polyline clip-path=\"url(#clip102)\" style=\"stroke:#000000; stroke-width:2; stroke-opacity:0.1; fill:none\" points=\"\n",
       "  2059.88,1423.18 2059.88,47.2441 \n",
       "  \"/>\n",
       "<polyline clip-path=\"url(#clip102)\" style=\"stroke:#000000; stroke-width:2; stroke-opacity:0.1; fill:none\" points=\"\n",
       "  244.308,1384.24 2112.76,1384.24 \n",
       "  \"/>\n",
       "<polyline clip-path=\"url(#clip102)\" style=\"stroke:#000000; stroke-width:2; stroke-opacity:0.1; fill:none\" points=\"\n",
       "  244.308,1124.63 2112.76,1124.63 \n",
       "  \"/>\n",
       "<polyline clip-path=\"url(#clip102)\" style=\"stroke:#000000; stroke-width:2; stroke-opacity:0.1; fill:none\" points=\"\n",
       "  244.308,865.017 2112.76,865.017 \n",
       "  \"/>\n",
       "<polyline clip-path=\"url(#clip102)\" style=\"stroke:#000000; stroke-width:2; stroke-opacity:0.1; fill:none\" points=\"\n",
       "  244.308,605.407 2112.76,605.407 \n",
       "  \"/>\n",
       "<polyline clip-path=\"url(#clip102)\" style=\"stroke:#000000; stroke-width:2; stroke-opacity:0.1; fill:none\" points=\"\n",
       "  244.308,345.796 2112.76,345.796 \n",
       "  \"/>\n",
       "<polyline clip-path=\"url(#clip102)\" style=\"stroke:#000000; stroke-width:2; stroke-opacity:0.1; fill:none\" points=\"\n",
       "  244.308,86.1857 2112.76,86.1857 \n",
       "  \"/>\n",
       "<polyline clip-path=\"url(#clip100)\" style=\"stroke:#000000; stroke-width:4; stroke-opacity:1; fill:none\" points=\"\n",
       "  244.308,1423.18 2112.76,1423.18 \n",
       "  \"/>\n",
       "<polyline clip-path=\"url(#clip100)\" style=\"stroke:#000000; stroke-width:4; stroke-opacity:1; fill:none\" points=\"\n",
       "  244.308,1423.18 244.308,47.2441 \n",
       "  \"/>\n",
       "<polyline clip-path=\"url(#clip100)\" style=\"stroke:#000000; stroke-width:4; stroke-opacity:1; fill:none\" points=\"\n",
       "  668.28,1423.18 668.28,1406.67 \n",
       "  \"/>\n",
       "<polyline clip-path=\"url(#clip100)\" style=\"stroke:#000000; stroke-width:4; stroke-opacity:1; fill:none\" points=\"\n",
       "  1132.15,1423.18 1132.15,1406.67 \n",
       "  \"/>\n",
       "<polyline clip-path=\"url(#clip100)\" style=\"stroke:#000000; stroke-width:4; stroke-opacity:1; fill:none\" points=\"\n",
       "  1596.01,1423.18 1596.01,1406.67 \n",
       "  \"/>\n",
       "<polyline clip-path=\"url(#clip100)\" style=\"stroke:#000000; stroke-width:4; stroke-opacity:1; fill:none\" points=\"\n",
       "  2059.88,1423.18 2059.88,1406.67 \n",
       "  \"/>\n",
       "<polyline clip-path=\"url(#clip100)\" style=\"stroke:#000000; stroke-width:4; stroke-opacity:1; fill:none\" points=\"\n",
       "  244.308,1384.24 266.729,1384.24 \n",
       "  \"/>\n",
       "<polyline clip-path=\"url(#clip100)\" style=\"stroke:#000000; stroke-width:4; stroke-opacity:1; fill:none\" points=\"\n",
       "  244.308,1124.63 266.729,1124.63 \n",
       "  \"/>\n",
       "<polyline clip-path=\"url(#clip100)\" style=\"stroke:#000000; stroke-width:4; stroke-opacity:1; fill:none\" points=\"\n",
       "  244.308,865.017 266.729,865.017 \n",
       "  \"/>\n",
       "<polyline clip-path=\"url(#clip100)\" style=\"stroke:#000000; stroke-width:4; stroke-opacity:1; fill:none\" points=\"\n",
       "  244.308,605.407 266.729,605.407 \n",
       "  \"/>\n",
       "<polyline clip-path=\"url(#clip100)\" style=\"stroke:#000000; stroke-width:4; stroke-opacity:1; fill:none\" points=\"\n",
       "  244.308,345.796 266.729,345.796 \n",
       "  \"/>\n",
       "<polyline clip-path=\"url(#clip100)\" style=\"stroke:#000000; stroke-width:4; stroke-opacity:1; fill:none\" points=\"\n",
       "  244.308,86.1857 266.729,86.1857 \n",
       "  \"/>\n",
       "<path clip-path=\"url(#clip100)\" d=\"M 0 0 M631.544 1442.09 L649.901 1442.09 L649.901 1446.03 L635.827 1446.03 L635.827 1454.5 Q636.845 1454.15 637.864 1453.99 Q638.882 1453.8 639.901 1453.8 Q645.688 1453.8 649.067 1456.98 Q652.447 1460.15 652.447 1465.56 Q652.447 1471.14 648.975 1474.24 Q645.503 1477.32 639.183 1477.32 Q637.007 1477.32 634.739 1476.95 Q632.493 1476.58 630.086 1475.84 L630.086 1471.14 Q632.169 1472.28 634.392 1472.83 Q636.614 1473.39 639.091 1473.39 Q643.095 1473.39 645.433 1471.28 Q647.771 1469.18 647.771 1465.56 Q647.771 1461.95 645.433 1459.85 Q643.095 1457.74 639.091 1457.74 Q637.216 1457.74 635.341 1458.16 Q633.489 1458.57 631.544 1459.45 L631.544 1442.09 Z\" fill=\"#000000\" fill-rule=\"evenodd\" fill-opacity=\"1\" /><path clip-path=\"url(#clip100)\" d=\"M 0 0 M667.516 1445.17 Q663.905 1445.17 662.077 1448.74 Q660.271 1452.28 660.271 1459.41 Q660.271 1466.51 662.077 1470.08 Q663.905 1473.62 667.516 1473.62 Q671.151 1473.62 672.956 1470.08 Q674.785 1466.51 674.785 1459.41 Q674.785 1452.28 672.956 1448.74 Q671.151 1445.17 667.516 1445.17 M667.516 1441.47 Q673.327 1441.47 676.382 1446.07 Q679.461 1450.66 679.461 1459.41 Q679.461 1468.13 676.382 1472.74 Q673.327 1477.32 667.516 1477.32 Q661.706 1477.32 658.628 1472.74 Q655.572 1468.13 655.572 1459.41 Q655.572 1450.66 658.628 1446.07 Q661.706 1441.47 667.516 1441.47 Z\" fill=\"#000000\" fill-rule=\"evenodd\" fill-opacity=\"1\" /><path clip-path=\"url(#clip100)\" d=\"M 0 0 M694.53 1445.17 Q690.919 1445.17 689.09 1448.74 Q687.285 1452.28 687.285 1459.41 Q687.285 1466.51 689.09 1470.08 Q690.919 1473.62 694.53 1473.62 Q698.164 1473.62 699.97 1470.08 Q701.799 1466.51 701.799 1459.41 Q701.799 1452.28 699.97 1448.74 Q698.164 1445.17 694.53 1445.17 M694.53 1441.47 Q700.34 1441.47 703.396 1446.07 Q706.475 1450.66 706.475 1459.41 Q706.475 1468.13 703.396 1472.74 Q700.34 1477.32 694.53 1477.32 Q688.72 1477.32 685.641 1472.74 Q682.586 1468.13 682.586 1459.41 Q682.586 1450.66 685.641 1446.07 Q688.72 1441.47 694.53 1441.47 Z\" fill=\"#000000\" fill-rule=\"evenodd\" fill-opacity=\"1\" /><path clip-path=\"url(#clip100)\" d=\"M 0 0 M1082.01 1472.72 L1089.65 1472.72 L1089.65 1446.35 L1081.34 1448.02 L1081.34 1443.76 L1089.6 1442.09 L1094.28 1442.09 L1094.28 1472.72 L1101.91 1472.72 L1101.91 1476.65 L1082.01 1476.65 L1082.01 1472.72 Z\" fill=\"#000000\" fill-rule=\"evenodd\" fill-opacity=\"1\" /><path clip-path=\"url(#clip100)\" d=\"M 0 0 M1116.98 1445.17 Q1113.37 1445.17 1111.54 1448.74 Q1109.74 1452.28 1109.74 1459.41 Q1109.74 1466.51 1111.54 1470.08 Q1113.37 1473.62 1116.98 1473.62 Q1120.62 1473.62 1122.42 1470.08 Q1124.25 1466.51 1124.25 1459.41 Q1124.25 1452.28 1122.42 1448.74 Q1120.62 1445.17 1116.98 1445.17 M1116.98 1441.47 Q1122.79 1441.47 1125.85 1446.07 Q1128.93 1450.66 1128.93 1459.41 Q1128.93 1468.13 1125.85 1472.74 Q1122.79 1477.32 1116.98 1477.32 Q1111.17 1477.32 1108.09 1472.74 Q1105.04 1468.13 1105.04 1459.41 Q1105.04 1450.66 1108.09 1446.07 Q1111.17 1441.47 1116.98 1441.47 Z\" fill=\"#000000\" fill-rule=\"evenodd\" fill-opacity=\"1\" /><path clip-path=\"url(#clip100)\" d=\"M 0 0 M1144 1445.17 Q1140.39 1445.17 1138.56 1448.74 Q1136.75 1452.28 1136.75 1459.41 Q1136.75 1466.51 1138.56 1470.08 Q1140.39 1473.62 1144 1473.62 Q1147.63 1473.62 1149.44 1470.08 Q1151.27 1466.51 1151.27 1459.41 Q1151.27 1452.28 1149.44 1448.74 Q1147.63 1445.17 1144 1445.17 M1144 1441.47 Q1149.81 1441.47 1152.86 1446.07 Q1155.94 1450.66 1155.94 1459.41 Q1155.94 1468.13 1152.86 1472.74 Q1149.81 1477.32 1144 1477.32 Q1138.19 1477.32 1135.11 1472.74 Q1132.05 1468.13 1132.05 1459.41 Q1132.05 1450.66 1135.11 1446.07 Q1138.19 1441.47 1144 1441.47 Z\" fill=\"#000000\" fill-rule=\"evenodd\" fill-opacity=\"1\" /><path clip-path=\"url(#clip100)\" d=\"M 0 0 M1171.01 1445.17 Q1167.4 1445.17 1165.57 1448.74 Q1163.77 1452.28 1163.77 1459.41 Q1163.77 1466.51 1165.57 1470.08 Q1167.4 1473.62 1171.01 1473.62 Q1174.65 1473.62 1176.45 1470.08 Q1178.28 1466.51 1178.28 1459.41 Q1178.28 1452.28 1176.45 1448.74 Q1174.65 1445.17 1171.01 1445.17 M1171.01 1441.47 Q1176.82 1441.47 1179.88 1446.07 Q1182.96 1450.66 1182.96 1459.41 Q1182.96 1468.13 1179.88 1472.74 Q1176.82 1477.32 1171.01 1477.32 Q1165.2 1477.32 1162.12 1472.74 Q1159.07 1468.13 1159.07 1459.41 Q1159.07 1450.66 1162.12 1446.07 Q1165.2 1441.47 1171.01 1441.47 Z\" fill=\"#000000\" fill-rule=\"evenodd\" fill-opacity=\"1\" /><path clip-path=\"url(#clip100)\" d=\"M 0 0 M1546.37 1472.72 L1554.01 1472.72 L1554.01 1446.35 L1545.7 1448.02 L1545.7 1443.76 L1553.96 1442.09 L1558.64 1442.09 L1558.64 1472.72 L1566.28 1472.72 L1566.28 1476.65 L1546.37 1476.65 L1546.37 1472.72 Z\" fill=\"#000000\" fill-rule=\"evenodd\" fill-opacity=\"1\" /><path clip-path=\"url(#clip100)\" d=\"M 0 0 M1571.39 1442.09 L1589.75 1442.09 L1589.75 1446.03 L1575.67 1446.03 L1575.67 1454.5 Q1576.69 1454.15 1577.71 1453.99 Q1578.73 1453.8 1579.75 1453.8 Q1585.54 1453.8 1588.92 1456.98 Q1592.3 1460.15 1592.3 1465.56 Q1592.3 1471.14 1588.82 1474.24 Q1585.35 1477.32 1579.03 1477.32 Q1576.86 1477.32 1574.59 1476.95 Q1572.34 1476.58 1569.93 1475.84 L1569.93 1471.14 Q1572.02 1472.28 1574.24 1472.83 Q1576.46 1473.39 1578.94 1473.39 Q1582.94 1473.39 1585.28 1471.28 Q1587.62 1469.18 1587.62 1465.56 Q1587.62 1461.95 1585.28 1459.85 Q1582.94 1457.74 1578.94 1457.74 Q1577.06 1457.74 1575.19 1458.16 Q1573.34 1458.57 1571.39 1459.45 L1571.39 1442.09 Z\" fill=\"#000000\" fill-rule=\"evenodd\" fill-opacity=\"1\" /><path clip-path=\"url(#clip100)\" d=\"M 0 0 M1607.36 1445.17 Q1603.75 1445.17 1601.92 1448.74 Q1600.12 1452.28 1600.12 1459.41 Q1600.12 1466.51 1601.92 1470.08 Q1603.75 1473.62 1607.36 1473.62 Q1611 1473.62 1612.8 1470.08 Q1614.63 1466.51 1614.63 1459.41 Q1614.63 1452.28 1612.8 1448.74 Q1611 1445.17 1607.36 1445.17 M1607.36 1441.47 Q1613.17 1441.47 1616.23 1446.07 Q1619.31 1450.66 1619.31 1459.41 Q1619.31 1468.13 1616.23 1472.74 Q1613.17 1477.32 1607.36 1477.32 Q1601.55 1477.32 1598.48 1472.74 Q1595.42 1468.13 1595.42 1459.41 Q1595.42 1450.66 1598.48 1446.07 Q1601.55 1441.47 1607.36 1441.47 Z\" fill=\"#000000\" fill-rule=\"evenodd\" fill-opacity=\"1\" /><path clip-path=\"url(#clip100)\" d=\"M 0 0 M1634.38 1445.17 Q1630.77 1445.17 1628.94 1448.74 Q1627.13 1452.28 1627.13 1459.41 Q1627.13 1466.51 1628.94 1470.08 Q1630.77 1473.62 1634.38 1473.62 Q1638.01 1473.62 1639.82 1470.08 Q1641.65 1466.51 1641.65 1459.41 Q1641.65 1452.28 1639.82 1448.74 Q1638.01 1445.17 1634.38 1445.17 M1634.38 1441.47 Q1640.19 1441.47 1643.24 1446.07 Q1646.32 1450.66 1646.32 1459.41 Q1646.32 1468.13 1643.24 1472.74 Q1640.19 1477.32 1634.38 1477.32 Q1628.57 1477.32 1625.49 1472.74 Q1622.43 1468.13 1622.43 1459.41 Q1622.43 1450.66 1625.49 1446.07 Q1628.57 1441.47 1634.38 1441.47 Z\" fill=\"#000000\" fill-rule=\"evenodd\" fill-opacity=\"1\" /><path clip-path=\"url(#clip100)\" d=\"M 0 0 M2014.01 1472.72 L2030.33 1472.72 L2030.33 1476.65 L2008.38 1476.65 L2008.38 1472.72 Q2011.04 1469.96 2015.63 1465.33 Q2020.23 1460.68 2021.41 1459.34 Q2023.66 1456.81 2024.54 1455.08 Q2025.44 1453.32 2025.44 1451.63 Q2025.44 1448.87 2023.5 1447.14 Q2021.58 1445.4 2018.48 1445.4 Q2016.28 1445.4 2013.82 1446.17 Q2011.39 1446.93 2008.61 1448.48 L2008.61 1443.76 Q2011.44 1442.62 2013.89 1442.05 Q2016.35 1441.47 2018.38 1441.47 Q2023.75 1441.47 2026.95 1444.15 Q2030.14 1446.84 2030.14 1451.33 Q2030.14 1453.46 2029.33 1455.38 Q2028.54 1457.28 2026.44 1459.87 Q2025.86 1460.54 2022.76 1463.76 Q2019.66 1466.95 2014.01 1472.72 Z\" fill=\"#000000\" fill-rule=\"evenodd\" fill-opacity=\"1\" /><path clip-path=\"url(#clip100)\" d=\"M 0 0 M2045.4 1445.17 Q2041.79 1445.17 2039.96 1448.74 Q2038.15 1452.28 2038.15 1459.41 Q2038.15 1466.51 2039.96 1470.08 Q2041.79 1473.62 2045.4 1473.62 Q2049.03 1473.62 2050.84 1470.08 Q2052.66 1466.51 2052.66 1459.41 Q2052.66 1452.28 2050.84 1448.74 Q2049.03 1445.17 2045.4 1445.17 M2045.4 1441.47 Q2051.21 1441.47 2054.26 1446.07 Q2057.34 1450.66 2057.34 1459.41 Q2057.34 1468.13 2054.26 1472.74 Q2051.21 1477.32 2045.4 1477.32 Q2039.59 1477.32 2036.51 1472.74 Q2033.45 1468.13 2033.45 1459.41 Q2033.45 1450.66 2036.51 1446.07 Q2039.59 1441.47 2045.4 1441.47 Z\" fill=\"#000000\" fill-rule=\"evenodd\" fill-opacity=\"1\" /><path clip-path=\"url(#clip100)\" d=\"M 0 0 M2072.41 1445.17 Q2068.8 1445.17 2066.97 1448.74 Q2065.16 1452.28 2065.16 1459.41 Q2065.16 1466.51 2066.97 1470.08 Q2068.8 1473.62 2072.41 1473.62 Q2076.04 1473.62 2077.85 1470.08 Q2079.68 1466.51 2079.68 1459.41 Q2079.68 1452.28 2077.85 1448.74 Q2076.04 1445.17 2072.41 1445.17 M2072.41 1441.47 Q2078.22 1441.47 2081.28 1446.07 Q2084.35 1450.66 2084.35 1459.41 Q2084.35 1468.13 2081.28 1472.74 Q2078.22 1477.32 2072.41 1477.32 Q2066.6 1477.32 2063.52 1472.74 Q2060.47 1468.13 2060.47 1459.41 Q2060.47 1450.66 2063.52 1446.07 Q2066.6 1441.47 2072.41 1441.47 Z\" fill=\"#000000\" fill-rule=\"evenodd\" fill-opacity=\"1\" /><path clip-path=\"url(#clip100)\" d=\"M 0 0 M2099.42 1445.17 Q2095.81 1445.17 2093.98 1448.74 Q2092.18 1452.28 2092.18 1459.41 Q2092.18 1466.51 2093.98 1470.08 Q2095.81 1473.62 2099.42 1473.62 Q2103.06 1473.62 2104.86 1470.08 Q2106.69 1466.51 2106.69 1459.41 Q2106.69 1452.28 2104.86 1448.74 Q2103.06 1445.17 2099.42 1445.17 M2099.42 1441.47 Q2105.23 1441.47 2108.29 1446.07 Q2111.37 1450.66 2111.37 1459.41 Q2111.37 1468.13 2108.29 1472.74 Q2105.23 1477.32 2099.42 1477.32 Q2093.61 1477.32 2090.53 1472.74 Q2087.48 1468.13 2087.48 1459.41 Q2087.48 1450.66 2090.53 1446.07 Q2093.61 1441.47 2099.42 1441.47 Z\" fill=\"#000000\" fill-rule=\"evenodd\" fill-opacity=\"1\" /><path clip-path=\"url(#clip100)\" d=\"M 0 0 M126.931 1404.03 L134.57 1404.03 L134.57 1377.67 L126.26 1379.33 L126.26 1375.07 L134.524 1373.41 L139.2 1373.41 L139.2 1404.03 L146.839 1404.03 L146.839 1407.97 L126.931 1407.97 L126.931 1404.03 Z\" fill=\"#000000\" fill-rule=\"evenodd\" fill-opacity=\"1\" /><path clip-path=\"url(#clip100)\" d=\"M 0 0 M161.908 1376.48 Q158.297 1376.48 156.468 1380.05 Q154.663 1383.59 154.663 1390.72 Q154.663 1397.83 156.468 1401.39 Q158.297 1404.93 161.908 1404.93 Q165.542 1404.93 167.348 1401.39 Q169.177 1397.83 169.177 1390.72 Q169.177 1383.59 167.348 1380.05 Q165.542 1376.48 161.908 1376.48 M161.908 1372.78 Q167.718 1372.78 170.774 1377.39 Q173.852 1381.97 173.852 1390.72 Q173.852 1399.45 170.774 1404.05 Q167.718 1408.64 161.908 1408.64 Q156.098 1408.64 153.019 1404.05 Q149.964 1399.45 149.964 1390.72 Q149.964 1381.97 153.019 1377.39 Q156.098 1372.78 161.908 1372.78 Z\" fill=\"#000000\" fill-rule=\"evenodd\" fill-opacity=\"1\" /><path clip-path=\"url(#clip100)\" d=\"M 0 0 M173.852 1366.88 L197.964 1366.88 L197.964 1370.08 L173.852 1370.08 L173.852 1366.88 Z\" fill=\"#000000\" fill-rule=\"evenodd\" fill-opacity=\"1\" /><path clip-path=\"url(#clip100)\" d=\"M 0 0 M212.521 1355.79 L202.929 1370.78 L212.521 1370.78 L212.521 1355.79 M211.524 1352.48 L216.302 1352.48 L216.302 1370.78 L220.308 1370.78 L220.308 1373.94 L216.302 1373.94 L216.302 1380.56 L212.521 1380.56 L212.521 1373.94 L199.845 1373.94 L199.845 1370.27 L211.524 1352.48 Z\" fill=\"#000000\" fill-rule=\"evenodd\" fill-opacity=\"1\" /><path clip-path=\"url(#clip100)\" d=\"M 0 0 M127.853 1144.42 L135.492 1144.42 L135.492 1118.05 L127.182 1119.72 L127.182 1115.46 L135.446 1113.8 L140.121 1113.8 L140.121 1144.42 L147.76 1144.42 L147.76 1148.36 L127.853 1148.36 L127.853 1144.42 Z\" fill=\"#000000\" fill-rule=\"evenodd\" fill-opacity=\"1\" /><path clip-path=\"url(#clip100)\" d=\"M 0 0 M162.83 1116.87 Q159.219 1116.87 157.39 1120.44 Q155.584 1123.98 155.584 1131.11 Q155.584 1138.22 157.39 1141.78 Q159.219 1145.32 162.83 1145.32 Q166.464 1145.32 168.269 1141.78 Q170.098 1138.22 170.098 1131.11 Q170.098 1123.98 168.269 1120.44 Q166.464 1116.87 162.83 1116.87 M162.83 1113.17 Q168.64 1113.17 171.695 1117.78 Q174.774 1122.36 174.774 1131.11 Q174.774 1139.84 171.695 1144.44 Q168.64 1149.03 162.83 1149.03 Q157.02 1149.03 153.941 1144.44 Q150.885 1139.84 150.885 1131.11 Q150.885 1122.36 153.941 1117.78 Q157.02 1113.17 162.83 1113.17 Z\" fill=\"#000000\" fill-rule=\"evenodd\" fill-opacity=\"1\" /><path clip-path=\"url(#clip100)\" d=\"M 0 0 M174.774 1107.27 L198.886 1107.27 L198.886 1110.47 L174.774 1110.47 L174.774 1107.27 Z\" fill=\"#000000\" fill-rule=\"evenodd\" fill-opacity=\"1\" /><path clip-path=\"url(#clip100)\" d=\"M 0 0 M214.515 1105.8 Q217.242 1106.39 218.765 1108.23 Q220.308 1110.07 220.308 1112.78 Q220.308 1116.94 217.449 1119.21 Q214.59 1121.49 209.324 1121.49 Q207.556 1121.49 205.675 1121.13 Q203.813 1120.79 201.82 1120.1 L201.82 1116.43 Q203.4 1117.35 205.28 1117.82 Q207.161 1118.29 209.211 1118.29 Q212.785 1118.29 214.647 1116.88 Q216.527 1115.47 216.527 1112.78 Q216.527 1110.3 214.778 1108.91 Q213.048 1107.5 209.945 1107.5 L206.672 1107.5 L206.672 1104.38 L210.095 1104.38 Q212.897 1104.38 214.383 1103.27 Q215.869 1102.14 215.869 1100.03 Q215.869 1097.87 214.327 1096.72 Q212.803 1095.55 209.945 1095.55 Q208.384 1095.55 206.597 1095.89 Q204.81 1096.23 202.666 1096.95 L202.666 1093.56 Q204.829 1092.96 206.71 1092.66 Q208.609 1092.36 210.283 1092.36 Q214.609 1092.36 217.129 1094.33 Q219.649 1096.29 219.649 1099.64 Q219.649 1101.97 218.314 1103.59 Q216.979 1105.18 214.515 1105.8 Z\" fill=\"#000000\" fill-rule=\"evenodd\" fill-opacity=\"1\" /><path clip-path=\"url(#clip100)\" d=\"M 0 0 M128.624 884.81 L136.263 884.81 L136.263 858.444 L127.953 860.111 L127.953 855.851 L136.217 854.185 L140.893 854.185 L140.893 884.81 L148.531 884.81 L148.531 888.745 L128.624 888.745 L128.624 884.81 Z\" fill=\"#000000\" fill-rule=\"evenodd\" fill-opacity=\"1\" /><path clip-path=\"url(#clip100)\" d=\"M 0 0 M163.601 857.264 Q159.99 857.264 158.161 860.828 Q156.355 864.37 156.355 871.5 Q156.355 878.606 158.161 882.171 Q159.99 885.712 163.601 885.712 Q167.235 885.712 169.041 882.171 Q170.869 878.606 170.869 871.5 Q170.869 864.37 169.041 860.828 Q167.235 857.264 163.601 857.264 M163.601 853.56 Q169.411 853.56 172.467 858.166 Q175.545 862.75 175.545 871.5 Q175.545 880.226 172.467 884.833 Q169.411 889.416 163.601 889.416 Q157.791 889.416 154.712 884.833 Q151.656 880.226 151.656 871.5 Q151.656 862.75 154.712 858.166 Q157.791 853.56 163.601 853.56 Z\" fill=\"#000000\" fill-rule=\"evenodd\" fill-opacity=\"1\" /><path clip-path=\"url(#clip100)\" d=\"M 0 0 M175.545 847.661 L199.657 847.661 L199.657 850.859 L175.545 850.859 L175.545 847.661 Z\" fill=\"#000000\" fill-rule=\"evenodd\" fill-opacity=\"1\" /><path clip-path=\"url(#clip100)\" d=\"M 0 0 M207.048 858.137 L220.308 858.137 L220.308 861.334 L202.478 861.334 L202.478 858.137 Q204.641 855.899 208.365 852.137 Q212.107 848.357 213.067 847.266 Q214.891 845.216 215.606 843.806 Q216.339 842.376 216.339 841.003 Q216.339 838.765 214.759 837.355 Q213.198 835.944 210.678 835.944 Q208.891 835.944 206.898 836.565 Q204.923 837.185 202.666 838.445 L202.666 834.609 Q204.961 833.687 206.954 833.217 Q208.948 832.747 210.603 832.747 Q214.966 832.747 217.562 834.928 Q220.157 837.11 220.157 840.759 Q220.157 842.489 219.499 844.05 Q218.859 845.592 217.148 847.699 Q216.678 848.244 214.158 850.859 Q211.637 853.454 207.048 858.137 Z\" fill=\"#000000\" fill-rule=\"evenodd\" fill-opacity=\"1\" /><path clip-path=\"url(#clip100)\" d=\"M 0 0 M128.323 625.199 L135.962 625.199 L135.962 598.834 L127.652 600.5 L127.652 596.241 L135.916 594.574 L140.592 594.574 L140.592 625.199 L148.231 625.199 L148.231 629.134 L128.323 629.134 L128.323 625.199 Z\" fill=\"#000000\" fill-rule=\"evenodd\" fill-opacity=\"1\" /><path clip-path=\"url(#clip100)\" d=\"M 0 0 M163.3 597.653 Q159.689 597.653 157.86 601.218 Q156.055 604.759 156.055 611.889 Q156.055 618.995 157.86 622.56 Q159.689 626.102 163.3 626.102 Q166.934 626.102 168.74 622.56 Q170.568 618.995 170.568 611.889 Q170.568 604.759 168.74 601.218 Q166.934 597.653 163.3 597.653 M163.3 593.949 Q169.11 593.949 172.166 598.556 Q175.244 603.139 175.244 611.889 Q175.244 620.616 172.166 625.222 Q169.11 629.806 163.3 629.806 Q157.49 629.806 154.411 625.222 Q151.356 620.616 151.356 611.889 Q151.356 603.139 154.411 598.556 Q157.49 593.949 163.3 593.949 Z\" fill=\"#000000\" fill-rule=\"evenodd\" fill-opacity=\"1\" /><path clip-path=\"url(#clip100)\" d=\"M 0 0 M175.244 588.051 L199.356 588.051 L199.356 591.248 L175.244 591.248 L175.244 588.051 Z\" fill=\"#000000\" fill-rule=\"evenodd\" fill-opacity=\"1\" /><path clip-path=\"url(#clip100)\" d=\"M 0 0 M204.133 598.527 L210.34 598.527 L210.34 577.105 L203.588 578.459 L203.588 574.998 L210.302 573.644 L214.101 573.644 L214.101 598.527 L220.308 598.527 L220.308 601.724 L204.133 601.724 L204.133 598.527 Z\" fill=\"#000000\" fill-rule=\"evenodd\" fill-opacity=\"1\" /><path clip-path=\"url(#clip100)\" d=\"M 0 0 M153.977 365.589 L161.616 365.589 L161.616 339.223 L153.306 340.89 L153.306 336.63 L161.57 334.964 L166.245 334.964 L166.245 365.589 L173.884 365.589 L173.884 369.524 L153.977 369.524 L153.977 365.589 Z\" fill=\"#000000\" fill-rule=\"evenodd\" fill-opacity=\"1\" /><path clip-path=\"url(#clip100)\" d=\"M 0 0 M188.954 338.042 Q185.343 338.042 183.514 341.607 Q181.708 345.149 181.708 352.279 Q181.708 359.385 183.514 362.95 Q185.343 366.491 188.954 366.491 Q192.588 366.491 194.393 362.95 Q196.222 359.385 196.222 352.279 Q196.222 345.149 194.393 341.607 Q192.588 338.042 188.954 338.042 M188.954 334.339 Q194.764 334.339 197.819 338.945 Q200.898 343.529 200.898 352.279 Q200.898 361.005 197.819 365.612 Q194.764 370.195 188.954 370.195 Q183.144 370.195 180.065 365.612 Q177.009 361.005 177.009 352.279 Q177.009 343.529 180.065 338.945 Q183.144 334.339 188.954 334.339 Z\" fill=\"#000000\" fill-rule=\"evenodd\" fill-opacity=\"1\" /><path clip-path=\"url(#clip100)\" d=\"M 0 0 M210.603 316.535 Q207.669 316.535 206.183 319.431 Q204.716 322.309 204.716 328.102 Q204.716 333.876 206.183 336.772 Q207.669 339.65 210.603 339.65 Q213.556 339.65 215.023 336.772 Q216.509 333.876 216.509 328.102 Q216.509 322.309 215.023 319.431 Q213.556 316.535 210.603 316.535 M210.603 313.526 Q215.324 313.526 217.806 317.268 Q220.308 320.992 220.308 328.102 Q220.308 335.192 217.806 338.935 Q215.324 342.659 210.603 342.659 Q205.882 342.659 203.381 338.935 Q200.898 335.192 200.898 328.102 Q200.898 320.992 203.381 317.268 Q205.882 313.526 210.603 313.526 Z\" fill=\"#000000\" fill-rule=\"evenodd\" fill-opacity=\"1\" /><path clip-path=\"url(#clip100)\" d=\"M 0 0 M156.667 105.978 L164.305 105.978 L164.305 79.6125 L155.995 81.2792 L155.995 77.0199 L164.259 75.3533 L168.935 75.3533 L168.935 105.978 L176.574 105.978 L176.574 109.913 L156.667 109.913 L156.667 105.978 Z\" fill=\"#000000\" fill-rule=\"evenodd\" fill-opacity=\"1\" /><path clip-path=\"url(#clip100)\" d=\"M 0 0 M191.643 78.432 Q188.032 78.432 186.203 81.9968 Q184.398 85.5384 184.398 92.668 Q184.398 99.7744 186.203 103.339 Q188.032 106.881 191.643 106.881 Q195.277 106.881 197.083 103.339 Q198.912 99.7744 198.912 92.668 Q198.912 85.5384 197.083 81.9968 Q195.277 78.432 191.643 78.432 M191.643 74.7283 Q197.453 74.7283 200.509 79.3347 Q203.588 83.918 203.588 92.668 Q203.588 101.395 200.509 106.001 Q197.453 110.585 191.643 110.585 Q185.833 110.585 182.754 106.001 Q179.699 101.395 179.699 92.668 Q179.699 83.918 182.754 79.3347 Q185.833 74.7283 191.643 74.7283 Z\" fill=\"#000000\" fill-rule=\"evenodd\" fill-opacity=\"1\" /><path clip-path=\"url(#clip100)\" d=\"M 0 0 M204.133 79.3056 L210.34 79.3056 L210.34 57.8835 L203.588 59.2377 L203.588 55.777 L210.302 54.4229 L214.101 54.4229 L214.101 79.3056 L220.308 79.3056 L220.308 82.5029 L204.133 82.5029 L204.133 79.3056 Z\" fill=\"#000000\" fill-rule=\"evenodd\" fill-opacity=\"1\" /><path clip-path=\"url(#clip100)\" d=\"M 0 0 M1108.81 1536.76 L1108.81 1539.62 L1081.88 1539.62 Q1082.27 1545.67 1085.51 1548.85 Q1088.79 1552 1094.62 1552 Q1097.99 1552 1101.14 1551.17 Q1104.32 1550.35 1107.44 1548.69 L1107.44 1554.23 Q1104.29 1555.57 1100.98 1556.27 Q1097.67 1556.97 1094.27 1556.97 Q1085.74 1556.97 1080.74 1552 Q1075.77 1547.04 1075.77 1538.57 Q1075.77 1529.82 1080.48 1524.69 Q1085.23 1519.54 1093.25 1519.54 Q1100.44 1519.54 1104.61 1524.18 Q1108.81 1528.8 1108.81 1536.76 M1102.95 1535.04 Q1102.89 1530.23 1100.25 1527.37 Q1097.64 1524.5 1093.31 1524.5 Q1088.41 1524.5 1085.45 1527.27 Q1082.52 1530.04 1082.08 1535.07 L1102.95 1535.04 Z\" fill=\"#000000\" fill-rule=\"evenodd\" fill-opacity=\"1\" /><path clip-path=\"url(#clip100)\" d=\"M 0 0 M1120.62 1550.7 L1120.62 1569.6 L1114.73 1569.6 L1114.73 1520.4 L1120.62 1520.4 L1120.62 1525.81 Q1122.47 1522.62 1125.27 1521.1 Q1128.1 1519.54 1132.01 1519.54 Q1138.51 1519.54 1142.55 1524.69 Q1146.62 1529.85 1146.62 1538.25 Q1146.62 1546.65 1142.55 1551.81 Q1138.51 1556.97 1132.01 1556.97 Q1128.1 1556.97 1125.27 1555.44 Q1122.47 1553.88 1120.62 1550.7 M1140.54 1538.25 Q1140.54 1531.79 1137.87 1528.13 Q1135.23 1524.44 1130.58 1524.44 Q1125.94 1524.44 1123.26 1528.13 Q1120.62 1531.79 1120.62 1538.25 Q1120.62 1544.71 1123.26 1548.4 Q1125.94 1552.07 1130.58 1552.07 Q1135.23 1552.07 1137.87 1548.4 Q1140.54 1544.71 1140.54 1538.25 Z\" fill=\"#000000\" fill-rule=\"evenodd\" fill-opacity=\"1\" /><path clip-path=\"url(#clip100)\" d=\"M 0 0 M1166.58 1524.5 Q1161.87 1524.5 1159.13 1528.19 Q1156.4 1531.85 1156.4 1538.25 Q1156.4 1544.65 1159.1 1548.34 Q1161.84 1552 1166.58 1552 Q1171.26 1552 1174 1548.31 Q1176.73 1544.62 1176.73 1538.25 Q1176.73 1531.92 1174 1528.23 Q1171.26 1524.5 1166.58 1524.5 M1166.58 1519.54 Q1174.22 1519.54 1178.58 1524.5 Q1182.94 1529.47 1182.94 1538.25 Q1182.94 1547 1178.58 1552 Q1174.22 1556.97 1166.58 1556.97 Q1158.91 1556.97 1154.55 1552 Q1150.22 1547 1150.22 1538.25 Q1150.22 1529.47 1154.55 1524.5 Q1158.91 1519.54 1166.58 1519.54 Z\" fill=\"#000000\" fill-rule=\"evenodd\" fill-opacity=\"1\" /><path clip-path=\"url(#clip100)\" d=\"M 0 0 M1214.74 1521.76 L1214.74 1527.24 Q1212.25 1525.87 1209.74 1525.2 Q1207.26 1524.5 1204.71 1524.5 Q1199.01 1524.5 1195.86 1528.13 Q1192.71 1531.73 1192.71 1538.25 Q1192.71 1544.78 1195.86 1548.4 Q1199.01 1552 1204.71 1552 Q1207.26 1552 1209.74 1551.33 Q1212.25 1550.63 1214.74 1549.26 L1214.74 1554.68 Q1212.29 1555.82 1209.64 1556.39 Q1207.03 1556.97 1204.07 1556.97 Q1196.02 1556.97 1191.28 1551.91 Q1186.54 1546.85 1186.54 1538.25 Q1186.54 1529.53 1191.31 1524.53 Q1196.12 1519.54 1204.46 1519.54 Q1207.16 1519.54 1209.74 1520.11 Q1212.32 1520.65 1214.74 1521.76 Z\" fill=\"#000000\" fill-rule=\"evenodd\" fill-opacity=\"1\" /><path clip-path=\"url(#clip100)\" d=\"M 0 0 M1250.51 1534.53 L1250.51 1556.04 L1244.66 1556.04 L1244.66 1534.72 Q1244.66 1529.66 1242.68 1527.14 Q1240.71 1524.63 1236.76 1524.63 Q1232.02 1524.63 1229.28 1527.65 Q1226.55 1530.68 1226.55 1535.9 L1226.55 1556.04 L1220.66 1556.04 L1220.66 1506.52 L1226.55 1506.52 L1226.55 1525.93 Q1228.65 1522.72 1231.48 1521.13 Q1234.34 1519.54 1238.07 1519.54 Q1244.21 1519.54 1247.36 1523.36 Q1250.51 1527.14 1250.51 1534.53 Z\" fill=\"#000000\" fill-rule=\"evenodd\" fill-opacity=\"1\" /><path clip-path=\"url(#clip100)\" d=\"M 0 0 M1279.38 1521.45 L1279.38 1526.98 Q1276.9 1525.71 1274.22 1525.07 Q1271.55 1524.44 1268.69 1524.44 Q1264.33 1524.44 1262.13 1525.77 Q1259.97 1527.11 1259.97 1529.79 Q1259.97 1531.82 1261.52 1533 Q1263.08 1534.15 1267.79 1535.2 L1269.8 1535.64 Q1276.04 1536.98 1278.65 1539.43 Q1281.29 1541.85 1281.29 1546.21 Q1281.29 1551.17 1277.34 1554.07 Q1273.43 1556.97 1266.55 1556.97 Q1263.69 1556.97 1260.57 1556.39 Q1257.48 1555.85 1254.04 1554.74 L1254.04 1548.69 Q1257.29 1550.38 1260.44 1551.24 Q1263.59 1552.07 1266.68 1552.07 Q1270.82 1552.07 1273.05 1550.66 Q1275.27 1549.23 1275.27 1546.65 Q1275.27 1544.27 1273.65 1542.99 Q1272.06 1541.72 1266.62 1540.54 L1264.58 1540.07 Q1259.14 1538.92 1256.72 1536.56 Q1254.3 1534.18 1254.3 1530.04 Q1254.3 1525.01 1257.86 1522.27 Q1261.43 1519.54 1267.99 1519.54 Q1271.23 1519.54 1274.1 1520.01 Q1276.96 1520.49 1279.38 1521.45 Z\" fill=\"#000000\" fill-rule=\"evenodd\" fill-opacity=\"1\" /><path clip-path=\"url(#clip100)\" d=\"M 0 0 M38.479 837.779 L38.479 831.923 L88.0042 831.923 L88.0042 837.779 L38.479 837.779 Z\" fill=\"#000000\" fill-rule=\"evenodd\" fill-opacity=\"1\" /><path clip-path=\"url(#clip100)\" d=\"M 0 0 M70.0847 809.579 Q70.0847 816.677 71.7079 819.414 Q73.3312 822.152 77.2461 822.152 Q80.3653 822.152 82.2114 820.115 Q84.0256 818.046 84.0256 814.513 Q84.0256 809.643 80.5881 806.715 Q77.1188 803.755 71.3897 803.755 L70.0847 803.755 L70.0847 809.579 M67.6657 797.898 L88.0042 797.898 L88.0042 803.755 L82.5933 803.755 Q85.8398 805.76 87.3994 808.752 Q88.9272 811.744 88.9272 816.072 Q88.9272 821.547 85.8716 824.793 Q82.7843 828.008 77.6281 828.008 Q71.6125 828.008 68.5569 823.998 Q65.5014 819.955 65.5014 811.966 L65.5014 803.755 L64.9285 803.755 Q60.8862 803.755 58.6901 806.428 Q56.4621 809.07 56.4621 813.876 Q56.4621 816.932 57.1941 819.828 Q57.9262 822.725 59.3903 825.398 L53.9795 825.398 Q52.7381 822.183 52.1334 819.16 Q51.4968 816.136 51.4968 813.271 Q51.4968 805.537 55.5072 801.718 Q59.5176 797.898 67.6657 797.898 Z\" fill=\"#000000\" fill-rule=\"evenodd\" fill-opacity=\"1\" /><path clip-path=\"url(#clip100)\" d=\"M 0 0 M59.1993 764.001 Q55.2526 761.805 53.3747 758.749 Q51.4968 755.694 51.4968 751.556 Q51.4968 745.986 55.4117 742.962 Q59.2948 739.939 66.4881 739.939 L88.0042 739.939 L88.0042 745.827 L66.679 745.827 Q61.5546 745.827 59.072 747.641 Q56.5894 749.455 56.5894 753.179 Q56.5894 757.731 59.6131 760.372 Q62.6368 763.014 67.8567 763.014 L88.0042 763.014 L88.0042 768.902 L66.679 768.902 Q61.5228 768.902 59.072 770.717 Q56.5894 772.531 56.5894 776.319 Q56.5894 780.806 59.6449 783.448 Q62.6686 786.09 67.8567 786.09 L88.0042 786.09 L88.0042 791.978 L52.3562 791.978 L52.3562 786.09 L57.8944 786.09 Q54.616 784.085 53.0564 781.284 Q51.4968 778.483 51.4968 774.632 Q51.4968 770.749 53.4702 768.043 Q55.4436 765.306 59.1993 764.001 Z\" fill=\"#000000\" fill-rule=\"evenodd\" fill-opacity=\"1\" /><path clip-path=\"url(#clip100)\" d=\"M 0 0 M70.212 708.205 Q63.7508 708.205 60.0905 710.879 Q56.3984 713.521 56.3984 718.168 Q56.3984 722.815 60.0905 725.488 Q63.7508 728.13 70.212 728.13 Q76.6732 728.13 80.3653 725.488 Q84.0256 722.815 84.0256 718.168 Q84.0256 713.521 80.3653 710.879 Q76.6732 708.205 70.212 708.205 M57.7671 728.13 Q54.5842 726.284 53.0564 723.483 Q51.4968 720.65 51.4968 716.736 Q51.4968 710.242 56.6531 706.2 Q61.8093 702.126 70.212 702.126 Q78.6147 702.126 83.771 706.2 Q88.9272 710.242 88.9272 716.736 Q88.9272 720.65 87.3994 723.483 Q85.8398 726.284 82.657 728.13 L88.0042 728.13 L88.0042 734.018 L38.479 734.018 L38.479 728.13 L57.7671 728.13 Z\" fill=\"#000000\" fill-rule=\"evenodd\" fill-opacity=\"1\" /><path clip-path=\"url(#clip100)\" d=\"M 0 0 M57.7671 672.526 L38.479 672.526 L38.479 666.669 L88.0042 666.669 L88.0042 672.526 L82.657 672.526 Q85.8398 674.372 87.3994 677.204 Q88.9272 680.005 88.9272 683.952 Q88.9272 690.413 83.771 694.487 Q78.6147 698.53 70.212 698.53 Q61.8093 698.53 56.6531 694.487 Q51.4968 690.413 51.4968 683.952 Q51.4968 680.005 53.0564 677.204 Q54.5842 674.372 57.7671 672.526 M70.212 692.482 Q76.6732 692.482 80.3653 689.84 Q84.0256 687.167 84.0256 682.52 Q84.0256 677.873 80.3653 675.199 Q76.6732 672.526 70.212 672.526 Q63.7508 672.526 60.0905 675.199 Q56.3984 677.873 56.3984 682.52 Q56.3984 687.167 60.0905 689.84 Q63.7508 692.482 70.212 692.482 Z\" fill=\"#000000\" fill-rule=\"evenodd\" fill-opacity=\"1\" /><path clip-path=\"url(#clip100)\" d=\"M 0 0 M70.0847 644.326 Q70.0847 651.423 71.7079 654.161 Q73.3312 656.898 77.2461 656.898 Q80.3653 656.898 82.2114 654.861 Q84.0256 652.792 84.0256 649.259 Q84.0256 644.389 80.5881 641.461 Q77.1188 638.501 71.3897 638.501 L70.0847 638.501 L70.0847 644.326 M67.6657 632.645 L88.0042 632.645 L88.0042 638.501 L82.5933 638.501 Q85.8398 640.506 87.3994 643.498 Q88.9272 646.49 88.9272 650.819 Q88.9272 656.293 85.8716 659.54 Q82.7843 662.754 77.6281 662.754 Q71.6125 662.754 68.5569 658.744 Q65.5014 654.702 65.5014 646.713 L65.5014 638.501 L64.9285 638.501 Q60.8862 638.501 58.6901 641.175 Q56.4621 643.816 56.4621 648.622 Q56.4621 651.678 57.1941 654.574 Q57.9262 657.471 59.3903 660.144 L53.9795 660.144 Q52.7381 656.93 52.1334 653.906 Q51.4968 650.882 51.4968 648.018 Q51.4968 640.283 55.5072 636.464 Q59.5176 632.645 67.6657 632.645 Z\" fill=\"#000000\" fill-rule=\"evenodd\" fill-opacity=\"1\" /><circle clip-path=\"url(#clip102)\" cx=\"1765.78\" cy=\"735.212\" r=\"22\" fill=\"#731a6d\" fill-rule=\"evenodd\" fill-opacity=\"1\" stroke=\"#000000\" stroke-opacity=\"1\" stroke-width=\"3.2\"/>\n",
       "<circle clip-path=\"url(#clip102)\" cx=\"591.279\" cy=\"1167.9\" r=\"16\" fill=\"#4a0b6a\" fill-rule=\"evenodd\" fill-opacity=\"1\" stroke=\"#000000\" stroke-opacity=\"1\" stroke-width=\"3.2\"/>\n",
       "<circle clip-path=\"url(#clip102)\" cx=\"1178.53\" cy=\"735.212\" r=\"12\" fill=\"#2b0a56\" fill-rule=\"evenodd\" fill-opacity=\"1\" stroke=\"#000000\" stroke-opacity=\"1\" stroke-width=\"3.2\"/>\n",
       "<circle clip-path=\"url(#clip102)\" cx=\"591.279\" cy=\"1384.24\" r=\"20\" fill=\"#67166e\" fill-rule=\"evenodd\" fill-opacity=\"1\" stroke=\"#000000\" stroke-opacity=\"1\" stroke-width=\"3.2\"/>\n",
       "<circle clip-path=\"url(#clip102)\" cx=\"1765.78\" cy=\"302.528\" r=\"50\" fill=\"#fba50a\" fill-rule=\"evenodd\" fill-opacity=\"1\" stroke=\"#000000\" stroke-opacity=\"1\" stroke-width=\"3.2\"/>\n",
       "<circle clip-path=\"url(#clip102)\" cx=\"2059.88\" cy=\"1167.9\" r=\"19\" fill=\"#5a116d\" fill-rule=\"evenodd\" fill-opacity=\"1\" stroke=\"#000000\" stroke-opacity=\"1\" stroke-width=\"3.2\"/>\n",
       "<circle clip-path=\"url(#clip102)\" cx=\"1472.62\" cy=\"951.554\" r=\"18\" fill=\"#550f6d\" fill-rule=\"evenodd\" fill-opacity=\"1\" stroke=\"#000000\" stroke-opacity=\"1\" stroke-width=\"3.2\"/>\n",
       "<circle clip-path=\"url(#clip102)\" cx=\"297.188\" cy=\"302.528\" r=\"30\" fill=\"#ac2f5c\" fill-rule=\"evenodd\" fill-opacity=\"1\" stroke=\"#000000\" stroke-opacity=\"1\" stroke-width=\"3.2\"/>\n",
       "<circle clip-path=\"url(#clip102)\" cx=\"1472.62\" cy=\"1167.9\" r=\"21\" fill=\"#6b176e\" fill-rule=\"evenodd\" fill-opacity=\"1\" stroke=\"#000000\" stroke-opacity=\"1\" stroke-width=\"3.2\"/>\n",
       "<circle clip-path=\"url(#clip102)\" cx=\"1765.78\" cy=\"1167.9\" r=\"21\" fill=\"#69166e\" fill-rule=\"evenodd\" fill-opacity=\"1\" stroke=\"#000000\" stroke-opacity=\"1\" stroke-width=\"3.2\"/>\n",
       "<circle clip-path=\"url(#clip102)\" cx=\"591.279\" cy=\"735.212\" r=\"12\" fill=\"#2d0a58\" fill-rule=\"evenodd\" fill-opacity=\"1\" stroke=\"#000000\" stroke-opacity=\"1\" stroke-width=\"3.2\"/>\n",
       "<circle clip-path=\"url(#clip102)\" cx=\"591.279\" cy=\"86.1857\" r=\"61\" fill=\"#fcfea4\" fill-rule=\"evenodd\" fill-opacity=\"1\" stroke=\"#000000\" stroke-opacity=\"1\" stroke-width=\"3.2\"/>\n",
       "<circle clip-path=\"url(#clip102)\" cx=\"2059.88\" cy=\"302.528\" r=\"10\" fill=\"#1e0c46\" fill-rule=\"evenodd\" fill-opacity=\"1\" stroke=\"#000000\" stroke-opacity=\"1\" stroke-width=\"3.2\"/>\n",
       "<circle clip-path=\"url(#clip102)\" cx=\"884.441\" cy=\"1384.24\" r=\"9\" fill=\"#140a36\" fill-rule=\"evenodd\" fill-opacity=\"1\" stroke=\"#000000\" stroke-opacity=\"1\" stroke-width=\"3.2\"/>\n",
       "<circle clip-path=\"url(#clip102)\" cx=\"1178.53\" cy=\"302.528\" r=\"27\" fill=\"#912567\" fill-rule=\"evenodd\" fill-opacity=\"1\" stroke=\"#000000\" stroke-opacity=\"1\" stroke-width=\"3.2\"/>\n",
       "<circle clip-path=\"url(#clip102)\" cx=\"1178.53\" cy=\"1167.9\" r=\"21\" fill=\"#6b176e\" fill-rule=\"evenodd\" fill-opacity=\"1\" stroke=\"#000000\" stroke-opacity=\"1\" stroke-width=\"3.2\"/>\n",
       "<circle clip-path=\"url(#clip102)\" cx=\"1472.62\" cy=\"735.212\" r=\"11\" fill=\"#230b4d\" fill-rule=\"evenodd\" fill-opacity=\"1\" stroke=\"#000000\" stroke-opacity=\"1\" stroke-width=\"3.2\"/>\n",
       "<circle clip-path=\"url(#clip102)\" cx=\"297.188\" cy=\"735.212\" r=\"33\" fill=\"#bc3753\" fill-rule=\"evenodd\" fill-opacity=\"1\" stroke=\"#000000\" stroke-opacity=\"1\" stroke-width=\"3.2\"/>\n",
       "<circle clip-path=\"url(#clip102)\" cx=\"297.188\" cy=\"1384.24\" r=\"28\" fill=\"#9b2864\" fill-rule=\"evenodd\" fill-opacity=\"1\" stroke=\"#000000\" stroke-opacity=\"1\" stroke-width=\"3.2\"/>\n",
       "<circle clip-path=\"url(#clip102)\" cx=\"591.279\" cy=\"302.528\" r=\"22\" fill=\"#71196d\" fill-rule=\"evenodd\" fill-opacity=\"1\" stroke=\"#000000\" stroke-opacity=\"1\" stroke-width=\"3.2\"/>\n",
       "<circle clip-path=\"url(#clip102)\" cx=\"884.441\" cy=\"735.212\" r=\"19\" fill=\"#5f136e\" fill-rule=\"evenodd\" fill-opacity=\"1\" stroke=\"#000000\" stroke-opacity=\"1\" stroke-width=\"3.2\"/>\n",
       "<circle clip-path=\"url(#clip102)\" cx=\"2059.88\" cy=\"1384.24\" r=\"14\" fill=\"#390963\" fill-rule=\"evenodd\" fill-opacity=\"1\" stroke=\"#000000\" stroke-opacity=\"1\" stroke-width=\"3.2\"/>\n",
       "<circle clip-path=\"url(#clip102)\" cx=\"884.441\" cy=\"951.554\" r=\"24\" fill=\"#7f1e6c\" fill-rule=\"evenodd\" fill-opacity=\"1\" stroke=\"#000000\" stroke-opacity=\"1\" stroke-width=\"3.2\"/>\n",
       "<circle clip-path=\"url(#clip102)\" cx=\"1472.62\" cy=\"302.528\" r=\"12\" fill=\"#280b53\" fill-rule=\"evenodd\" fill-opacity=\"1\" stroke=\"#000000\" stroke-opacity=\"1\" stroke-width=\"3.2\"/>\n",
       "<circle clip-path=\"url(#clip102)\" cx=\"297.188\" cy=\"951.554\" r=\"14\" fill=\"#3b0964\" fill-rule=\"evenodd\" fill-opacity=\"1\" stroke=\"#000000\" stroke-opacity=\"1\" stroke-width=\"3.2\"/>\n",
       "<circle clip-path=\"url(#clip102)\" cx=\"2059.88\" cy=\"518.87\" r=\"10\" fill=\"#1d0c44\" fill-rule=\"evenodd\" fill-opacity=\"1\" stroke=\"#000000\" stroke-opacity=\"1\" stroke-width=\"3.2\"/>\n",
       "<circle clip-path=\"url(#clip102)\" cx=\"1472.62\" cy=\"1384.24\" r=\"19\" fill=\"#5c116e\" fill-rule=\"evenodd\" fill-opacity=\"1\" stroke=\"#000000\" stroke-opacity=\"1\" stroke-width=\"3.2\"/>\n",
       "<circle clip-path=\"url(#clip102)\" cx=\"591.279\" cy=\"518.87\" r=\"14\" fill=\"#3a0963\" fill-rule=\"evenodd\" fill-opacity=\"1\" stroke=\"#000000\" stroke-opacity=\"1\" stroke-width=\"3.2\"/>\n",
       "<circle clip-path=\"url(#clip102)\" cx=\"1178.53\" cy=\"951.554\" r=\"28\" fill=\"#9d2963\" fill-rule=\"evenodd\" fill-opacity=\"1\" stroke=\"#000000\" stroke-opacity=\"1\" stroke-width=\"3.2\"/>\n",
       "<circle clip-path=\"url(#clip102)\" cx=\"884.441\" cy=\"518.87\" r=\"22\" fill=\"#721a6d\" fill-rule=\"evenodd\" fill-opacity=\"1\" stroke=\"#000000\" stroke-opacity=\"1\" stroke-width=\"3.2\"/>\n",
       "<circle clip-path=\"url(#clip102)\" cx=\"1765.78\" cy=\"951.554\" r=\"17\" fill=\"#4c0c6b\" fill-rule=\"evenodd\" fill-opacity=\"1\" stroke=\"#000000\" stroke-opacity=\"1\" stroke-width=\"3.2\"/>\n",
       "<circle clip-path=\"url(#clip102)\" cx=\"1765.78\" cy=\"518.87\" r=\"25\" fill=\"#83206b\" fill-rule=\"evenodd\" fill-opacity=\"1\" stroke=\"#000000\" stroke-opacity=\"1\" stroke-width=\"3.2\"/>\n",
       "<circle clip-path=\"url(#clip102)\" cx=\"2059.88\" cy=\"951.554\" r=\"18\" fill=\"#570f6d\" fill-rule=\"evenodd\" fill-opacity=\"1\" stroke=\"#000000\" stroke-opacity=\"1\" stroke-width=\"3.2\"/>\n",
       "<circle clip-path=\"url(#clip102)\" cx=\"2059.88\" cy=\"86.1857\" r=\"18\" fill=\"#540f6d\" fill-rule=\"evenodd\" fill-opacity=\"1\" stroke=\"#000000\" stroke-opacity=\"1\" stroke-width=\"3.2\"/>\n",
       "<circle clip-path=\"url(#clip102)\" cx=\"884.441\" cy=\"1167.9\" r=\"23\" fill=\"#7a1c6c\" fill-rule=\"evenodd\" fill-opacity=\"1\" stroke=\"#000000\" stroke-opacity=\"1\" stroke-width=\"3.2\"/>\n",
       "<circle clip-path=\"url(#clip102)\" cx=\"1178.53\" cy=\"1384.24\" r=\"7\" fill=\"#0a0724\" fill-rule=\"evenodd\" fill-opacity=\"1\" stroke=\"#000000\" stroke-opacity=\"1\" stroke-width=\"3.2\"/>\n",
       "<circle clip-path=\"url(#clip102)\" cx=\"297.188\" cy=\"1167.9\" r=\"9\" fill=\"#140a35\" fill-rule=\"evenodd\" fill-opacity=\"1\" stroke=\"#000000\" stroke-opacity=\"1\" stroke-width=\"3.2\"/>\n",
       "<circle clip-path=\"url(#clip102)\" cx=\"297.188\" cy=\"86.1857\" r=\"9\" fill=\"#150b37\" fill-rule=\"evenodd\" fill-opacity=\"1\" stroke=\"#000000\" stroke-opacity=\"1\" stroke-width=\"3.2\"/>\n",
       "<circle clip-path=\"url(#clip102)\" cx=\"1765.78\" cy=\"86.1857\" r=\"3\" fill=\"#000003\" fill-rule=\"evenodd\" fill-opacity=\"1\" stroke=\"#000000\" stroke-opacity=\"1\" stroke-width=\"3.2\"/>\n",
       "<circle clip-path=\"url(#clip102)\" cx=\"1472.62\" cy=\"518.87\" r=\"27\" fill=\"#972765\" fill-rule=\"evenodd\" fill-opacity=\"1\" stroke=\"#000000\" stroke-opacity=\"1\" stroke-width=\"3.2\"/>\n",
       "<circle clip-path=\"url(#clip102)\" cx=\"297.188\" cy=\"518.87\" r=\"39\" fill=\"#df5436\" fill-rule=\"evenodd\" fill-opacity=\"1\" stroke=\"#000000\" stroke-opacity=\"1\" stroke-width=\"3.2\"/>\n",
       "<circle clip-path=\"url(#clip102)\" cx=\"1178.53\" cy=\"86.1857\" r=\"15\" fill=\"#440a68\" fill-rule=\"evenodd\" fill-opacity=\"1\" stroke=\"#000000\" stroke-opacity=\"1\" stroke-width=\"3.2\"/>\n",
       "<circle clip-path=\"url(#clip102)\" cx=\"884.441\" cy=\"302.528\" r=\"17\" fill=\"#520e6c\" fill-rule=\"evenodd\" fill-opacity=\"1\" stroke=\"#000000\" stroke-opacity=\"1\" stroke-width=\"3.2\"/>\n",
       "<circle clip-path=\"url(#clip102)\" cx=\"591.279\" cy=\"951.554\" r=\"5\" fill=\"#040316\" fill-rule=\"evenodd\" fill-opacity=\"1\" stroke=\"#000000\" stroke-opacity=\"1\" stroke-width=\"3.2\"/>\n",
       "<circle clip-path=\"url(#clip102)\" cx=\"2059.88\" cy=\"735.212\" r=\"19\" fill=\"#5d126e\" fill-rule=\"evenodd\" fill-opacity=\"1\" stroke=\"#000000\" stroke-opacity=\"1\" stroke-width=\"3.2\"/>\n",
       "<circle clip-path=\"url(#clip102)\" cx=\"1178.53\" cy=\"518.87\" r=\"13\" fill=\"#350960\" fill-rule=\"evenodd\" fill-opacity=\"1\" stroke=\"#000000\" stroke-opacity=\"1\" stroke-width=\"3.2\"/>\n",
       "<circle clip-path=\"url(#clip102)\" cx=\"884.441\" cy=\"86.1857\" r=\"17\" fill=\"#4d0c6b\" fill-rule=\"evenodd\" fill-opacity=\"1\" stroke=\"#000000\" stroke-opacity=\"1\" stroke-width=\"3.2\"/>\n",
       "<circle clip-path=\"url(#clip102)\" cx=\"1765.78\" cy=\"1384.24\" r=\"14\" fill=\"#3a0963\" fill-rule=\"evenodd\" fill-opacity=\"1\" stroke=\"#000000\" stroke-opacity=\"1\" stroke-width=\"3.2\"/>\n",
       "<circle clip-path=\"url(#clip102)\" cx=\"1472.62\" cy=\"86.1857\" r=\"17\" fill=\"#4c0c6b\" fill-rule=\"evenodd\" fill-opacity=\"1\" stroke=\"#000000\" stroke-opacity=\"1\" stroke-width=\"3.2\"/>\n",
       "<defs>\n",
       "  <clipPath id=\"clip103\">\n",
       "    <rect x=\"2160\" y=\"47\" width=\"73\" height=\"1377\"/>\n",
       "  </clipPath>\n",
       "</defs>\n",
       "<g clip-path=\"url(#clip103)\">\n",
       "<image width=\"72\" height=\"1376\" xlink:href=\"data:image/png;base64,\n",
       "iVBORw0KGgoAAAANSUhEUgAAAEgAAAVgCAYAAADsKhu7AAAL6UlEQVR4nO3dwZEjNxBFQVBR/lsh\n",
       "L6UFZIHqHclDpgUTL35wCXTP7Off+/c7/K+/vv0D/DqBgkBBoCBQmPv+/fbP8NMsKAgUBAoChXnv\n",
       "z7d/hp9mQUGgIFAQKAgUHDWCBQWBgkBBoDDPh/TKgoJAQaAgUJh3fUhvLCgIFAQKAgWBgqNGsKAg\n",
       "UBAoCBR8SAcLCgIFgYJAwX1QsKAgUBAoCBQECnMcNVYWFAQKAgWBgvugYEFBoCBQECgIFOa4MFtZ\n",
       "UBAoCBQECnPuP9/+GX6aBQWBgkBBoODSPlhQECgIFAQKAgX3QcGCgkBBoCBQ8CEdLCgIFAQKAgX3\n",
       "QcGCgkBBoCBQECjMx1FjZUFBoCBQECjMuf5XhI0FBYGCQEGgIFBw1AgWFAQKAgWBgqNGsKAgUBAo\n",
       "CBS8HxQsKAgUBAoCBYHCfBw1VhYUBAoCBYGCt1yDBQWBgkBBoOCbdLCgIFAQKAgUBAoePQcLCgIF\n",
       "gYJAwVEjWFAQKAgUBAoCBUeNYEFBoCBQECg4agQLCgIFgYJAYc693/4ZfpoFBYGCQEGgIFBw1AgW\n",
       "FAQKAgWBgkv7YEFBoCBQECj4kA4WFAQKAgWBgkBhPp5qrCwoCBQECgIFR41gQUGgIFAQKAgUvEAV\n",
       "LCgIFAQKAgX3QcGCgkBBoCBQcB8ULCgIFAQKAgWBgvugYEFBoCBQECj4kA4WFAQKAgWBgl/qDRYU\n",
       "BAoCBYGCQMFRI1hQECgIFAQKPqSDBQWBgkBBoCBQ8K9YsKAgUBAoCBR8SAcLCgIFgYJAYc7zIb2x\n",
       "oCBQECgIFAQKjhrBgoJAQaAgUPAhHSwoCBQECgIFH9LBgoJAQaAgUBAozLnv2z/DT7OgIFAQKAgU\n",
       "HDWCBQWBgkBBoCBQcNQIFhQECgIFgYKjRrCgIFAQKAgUfJMOFhQECgIFgYJAYY6TxsqCgkBBoCBQ\n",
       "mPMcNTYWFAQKAgWBgm/SwYKCQEGgIFAQKPhXLFhQECgIFAQK44/g7SwoCBQECgIFgYKjRrCgIFAQ\n",
       "KAgUfEgHCwoCBYGCQGHO/Xz7Z/hpFhQECgIFgYJAYd7zr9jGgoJAQaAgUHAfFCwoCBQECgIF90HB\n",
       "goJAQaAgUBAozLsabdQJAgWBgkDBUSNYUBAoCBQECgKFOR49rywoCBQECgKFeY4aKwsKAgWBgkBh\n",
       "jkv7lTpBoCBQECgIFBw1ggUFgYJAQaDg0j5YUBAoCBQECl7iDOoEgYJAQaAgUPCWa7CgIFAQKAgU\n",
       "XNoHCwoCBYGCQEGgMO9ptFEnCBQECgIF90HBgoJAQaAgUHAfFCwoCBQECgIFgcIc90ErdYJAQaAg\n",
       "UHDUCBYUBAoCBYGCD+lgQUGgIFAQKAgU/NZzsKAgUBAoCBT81nNQJwgUBAoCBYHCPEeNlQUFgYJA\n",
       "QaDgqUawoCBQECgIFPyvCEGdIFAQKAgUBArug4IFBYGCQEGg4D4oWFAQKAgUBAq+SQcLCgIFgYJA\n",
       "QaDgLdegThAoCBQECo4awYKCQEGgIFAQKHiqESwoCBQECgIFR41gQUGgIFAQKPiva4IFBYGCQEGg\n",
       "IFDwv2QGdYJAQaAgUHAfFCwoCBQECgIFT1aDBQWBgkBBoCBQcNQIFhQECgIFgcJcH9IrCwoCBYGC\n",
       "QEGg4LeegzpBoCBQECi4DwoWFAQKAgWBgg/pYEFBoCBQECgIFLxAFSwoCBQECgIFR41gQUGgIFAQ\n",
       "KPiQDhYUBAoCBYGCQMGfpgjqBIGCQEGgMNel/cqCgkBBoCBQECi4MAsWFAQKAgWBgg/pYEFBoCBQ\n",
       "ECj4kA4WFAQKAgWBgkDBH1gKFhQECgIFgYKjRrCgIFAQKAgUfEgHCwoCBYGCQEGg4FcRgjpBoCBQ\n",
       "ECj4VYRgQUGgIFAQKAgUXJgFCwoCBYGCQMGHdLCgIFAQKAgUvMQZLCgIFAQKAgWBgqNGsKAgUBAo\n",
       "CBTmHR/SGwsKAgWBgkDBfVCwoCBQECgIFAQK7oOCBQWBgkBBoOCoESwoCBQECgIFgYKjRrCgIFAQ\n",
       "KAgUHDWCBQWBgkBBoOCbdLCgIFAQKAgUBAr+FQsWFAQKAgWBwly/irCyoCBQECgIFHyTDhYUBAoC\n",
       "BYGCQMGj52BBQaAgUBAozHvf/hF+mwUFgYJAQaAgUHDUCBYUBAoCBYGCv4IXLCgIFAQKAgXfpIMF\n",
       "BYGCQEGgIFDwAlWwoCBQECgIFPwqQrCgIFAQKAgUvB8ULCgIFAQKAgWBgqcawYKCQEGgIFBwaR8s\n",
       "KAgUBAoCBYGCpxrBgoJAQaAgUHAfFCwoCBQECgIFj56DBQWBgkBBoCBQcB8ULCgIFAQKAgWPnoMF\n",
       "BYGCQEGgMPfbP8GPs6AgUBAoCBQECo4awYKCQEGgIFDwflCwoCBQECgIFAQKLsyCBQWBgkBBoOA+\n",
       "KFhQECgIFAQKvkkHCwoCBYGCQEGg4KgRLCgIFAQKAgWPnoMFBYGCQEGgMP4yxc6CgkBBoCBQECg4\n",
       "agQLCgIFgYJAwaPnYEFBoCBQECgIFDx6DhYUBAoCBYGCo0awoCBQECgIFHyTDhYUBAoCBYGCQGGu\n",
       "N6hWFhQECgIFgYL7oGBBQaAgUBAouA8KFhQECgIFgYJAwVEjWFAQKAgUBArzXNqvLCgIFAQKAgWB\n",
       "wtzjwmxjQUGgIFAQKHg/KFhQECgIFAQK/gpesKAgUBAoCBQECv4KXrCgIFAQKAgUPHoOFhQECgIF\n",
       "gYKXOIMFBYGCQEGgIFDwC3XBgoJAQaAgUHDUCBYUBAoCBYGCQMFbrsGCgkBBoCBQ8JZrsKAgUBAo\n",
       "CBR8kw4WFAQKAgWBgkDBW67BgoJAQaAgUPD3g4IFBYGCQEGg4D4oWFAQKAgUBAoCBY+egwUFgYJA\n",
       "QaDgqBEsKAgUBAoCBYGCo0awoCBQECgIFBw1ggUFgYJAQaDgQzpYUBAoCBQECgIF90HBgoJAQaAg\n",
       "UHDUCBYUBAoCBYGCb9LBgoJAQaAgUBAoOGoECwoCBYGCQMHfDwoWFAQKAgWBgkDB/+0TLCgIFAQK\n",
       "AgX3QcGCgkBBoCBQmHd8Sm8sKAgUBAoCBYGCo0awoCBQECgIFDx6DhYUBAoCBYGCJ6vBgoJAQaAg\n",
       "UBAouA8KFhQECgIFgYJHz8GCgkBBoCBQECg4agQLCgIFgYJAwR9YChYUBAoCBYHCXC8IrSwoCBQE\n",
       "CgIFgYIXqIIFBYGCQEGgMM9RY2VBQaAgUBAo+CYdLCgIFAQKAgWBgqcawYKCQEGgIFDwflCwoCBQ\n",
       "ECgIFAQKc/1C3cqCgkBBoCBQcB8ULCgIFAQKAgV/miJYUBAoCBQECgIFL1AFCwoCBYGCQMGlfbCg\n",
       "IFAQKAgU3AcFCwoCBYGCQEGgMPe4EdpYUBAoCBQECu6DggUFgYJAQaAgUPCvWLCgIFAQKAgUPNUI\n",
       "FhQECgIFgYJL+2BBQaAgUBAoCBTmfhw1NhYUBAoCBYGCo0awoCBQECgIFOb5kF5ZUBAoCBQECgIF\n",
       "R41gQUGgIFAQKMz9+JDeWFAQKAgUBAoCBUeNYEFBoCBQECh4qhEsKAgUBAoCBd+kgwUFgYJAQaAg\n",
       "UPCvWLCgIFAQKAgUPHoOFhQECgIFgcK88+fbP8NPs6AgUBAoCBQECu6DggUFgYJAQaDg/aBgQUGg\n",
       "IFAQKAgU5j4XZhsLCgIFgYJAwVEjWFAQKAgUBApzPXpeWVAQKAgUBAoCBUeNYEFBoCBQECg4agQL\n",
       "CgIFgYJAYd7zTXpjQUGgIFAQKAgU3AcFCwoCBYGCQMFLnMGCgkBBoCBQECg4agQLCgIFgYJAYZ6j\n",
       "xsqCgkBBoCBQ8E06WFAQKAgUBAoChbleoFpZUBAoCBQECv7gdrCgIFAQKAgU/CpCsKAgUBAoCBQE\n",
       "Cp5qBAsKAgWBgkDBUSNYUBAoCBQECgIF/4oFCwoCBYGCQMGj52BBQaAgUBAo+CYdLCgIFAQKAgWB\n",
       "whyPnlcWFAQKAgWBgqNGsKAgUBAoCBS8xBksKAgUBAoCBYHCHEeNlQUFgYJAQaDg/aBgQUGgIFAQ\n",
       "KAgUPHoOFhQECgIFgYL7oGBBQaAgUBAozDvv2z/DT7OgIFAQKAgUBArug4IFBYGCQEGgMMdRY2VB\n",
       "QaAgUBAo/AdhU+3PqlcPeQAAAABJRU5ErkJggg==\n",
       "\" transform=\"translate(2161, 47)\"/>\n",
       "</g>\n",
       "<path clip-path=\"url(#clip100)\" d=\"M 0 0 M2280.7 1383.2 Q2277.09 1383.2 2275.26 1386.77 Q2273.45 1390.31 2273.45 1397.44 Q2273.45 1404.55 2275.26 1408.11 Q2277.09 1411.65 2280.7 1411.65 Q2284.33 1411.65 2286.14 1408.11 Q2287.97 1404.55 2287.97 1397.44 Q2287.97 1390.31 2286.14 1386.77 Q2284.33 1383.2 2280.7 1383.2 M2280.7 1379.5 Q2286.51 1379.5 2289.57 1384.11 Q2292.64 1388.69 2292.64 1397.44 Q2292.64 1406.17 2289.57 1410.77 Q2286.51 1415.36 2280.7 1415.36 Q2274.89 1415.36 2271.81 1410.77 Q2268.76 1406.17 2268.76 1397.44 Q2268.76 1388.69 2271.81 1384.11 Q2274.89 1379.5 2280.7 1379.5 Z\" fill=\"#000000\" fill-rule=\"evenodd\" fill-opacity=\"1\" /><path clip-path=\"url(#clip100)\" d=\"M 0 0 M2297.71 1408.8 L2302.6 1408.8 L2302.6 1414.68 L2297.71 1414.68 L2297.71 1408.8 Z\" fill=\"#000000\" fill-rule=\"evenodd\" fill-opacity=\"1\" /><path clip-path=\"url(#clip100)\" d=\"M 0 0 M2318.25 1395.54 Q2315.1 1395.54 2313.25 1397.69 Q2311.42 1399.85 2311.42 1403.6 Q2311.42 1407.32 2313.25 1409.5 Q2315.1 1411.65 2318.25 1411.65 Q2321.39 1411.65 2323.22 1409.5 Q2325.08 1407.32 2325.08 1403.6 Q2325.08 1399.85 2323.22 1397.69 Q2321.39 1395.54 2318.25 1395.54 M2327.53 1380.89 L2327.53 1385.15 Q2325.77 1384.31 2323.96 1383.87 Q2322.18 1383.43 2320.42 1383.43 Q2315.79 1383.43 2313.34 1386.56 Q2310.91 1389.68 2310.56 1396 Q2311.93 1393.99 2313.99 1392.93 Q2316.05 1391.84 2318.52 1391.84 Q2323.73 1391.84 2326.74 1395.01 Q2329.77 1398.16 2329.77 1403.6 Q2329.77 1408.92 2326.63 1412.14 Q2323.48 1415.36 2318.25 1415.36 Q2312.25 1415.36 2309.08 1410.77 Q2305.91 1406.17 2305.91 1397.44 Q2305.91 1389.24 2309.8 1384.38 Q2313.69 1379.5 2320.24 1379.5 Q2322 1379.5 2323.78 1379.85 Q2325.58 1380.19 2327.53 1380.89 Z\" fill=\"#000000\" fill-rule=\"evenodd\" fill-opacity=\"1\" /><path clip-path=\"url(#clip100)\" d=\"M 0 0 M2344.84 1383.2 Q2341.23 1383.2 2339.4 1386.77 Q2337.6 1390.31 2337.6 1397.44 Q2337.6 1404.55 2339.4 1408.11 Q2341.23 1411.65 2344.84 1411.65 Q2348.48 1411.65 2350.28 1408.11 Q2352.11 1404.55 2352.11 1397.44 Q2352.11 1390.31 2350.28 1386.77 Q2348.48 1383.2 2344.84 1383.2 M2344.84 1379.5 Q2350.65 1379.5 2353.71 1384.11 Q2356.79 1388.69 2356.79 1397.44 Q2356.79 1406.17 2353.71 1410.77 Q2350.65 1415.36 2344.84 1415.36 Q2339.03 1415.36 2335.95 1410.77 Q2332.9 1406.17 2332.9 1397.44 Q2332.9 1388.69 2335.95 1384.11 Q2339.03 1379.5 2344.84 1379.5 Z\" fill=\"#000000\" fill-rule=\"evenodd\" fill-opacity=\"1\" /><path clip-path=\"url(#clip100)\" d=\"M 0 0 M2371.86 1383.2 Q2368.25 1383.2 2366.42 1386.77 Q2364.61 1390.31 2364.61 1397.44 Q2364.61 1404.55 2366.42 1408.11 Q2368.25 1411.65 2371.86 1411.65 Q2375.49 1411.65 2377.3 1408.11 Q2379.13 1404.55 2379.13 1397.44 Q2379.13 1390.31 2377.3 1386.77 Q2375.49 1383.2 2371.86 1383.2 M2371.86 1379.5 Q2377.67 1379.5 2380.72 1384.11 Q2383.8 1388.69 2383.8 1397.44 Q2383.8 1406.17 2380.72 1410.77 Q2377.67 1415.36 2371.86 1415.36 Q2366.05 1415.36 2362.97 1410.77 Q2359.91 1406.17 2359.91 1397.44 Q2359.91 1388.69 2362.97 1384.11 Q2366.05 1379.5 2371.86 1379.5 Z\" fill=\"#000000\" fill-rule=\"evenodd\" fill-opacity=\"1\" /><path clip-path=\"url(#clip100)\" d=\"M 0 0 M2280.7 1099.71 Q2277.09 1099.71 2275.26 1103.27 Q2273.45 1106.81 2273.45 1113.94 Q2273.45 1121.05 2275.26 1124.61 Q2277.09 1128.16 2280.7 1128.16 Q2284.33 1128.16 2286.14 1124.61 Q2287.97 1121.05 2287.97 1113.94 Q2287.97 1106.81 2286.14 1103.27 Q2284.33 1099.71 2280.7 1099.71 M2280.7 1096 Q2286.51 1096 2289.57 1100.61 Q2292.64 1105.19 2292.64 1113.94 Q2292.64 1122.67 2289.57 1127.28 Q2286.51 1131.86 2280.7 1131.86 Q2274.89 1131.86 2271.81 1127.28 Q2268.76 1122.67 2268.76 1113.94 Q2268.76 1105.19 2271.81 1100.61 Q2274.89 1096 2280.7 1096 Z\" fill=\"#000000\" fill-rule=\"evenodd\" fill-opacity=\"1\" /><path clip-path=\"url(#clip100)\" d=\"M 0 0 M2297.71 1125.31 L2302.6 1125.31 L2302.6 1131.19 L2297.71 1131.19 L2297.71 1125.31 Z\" fill=\"#000000\" fill-rule=\"evenodd\" fill-opacity=\"1\" /><path clip-path=\"url(#clip100)\" d=\"M 0 0 M2318.25 1112.05 Q2315.1 1112.05 2313.25 1114.2 Q2311.42 1116.35 2311.42 1120.1 Q2311.42 1123.83 2313.25 1126 Q2315.1 1128.16 2318.25 1128.16 Q2321.39 1128.16 2323.22 1126 Q2325.08 1123.83 2325.08 1120.1 Q2325.08 1116.35 2323.22 1114.2 Q2321.39 1112.05 2318.25 1112.05 M2327.53 1097.39 L2327.53 1101.65 Q2325.77 1100.82 2323.96 1100.38 Q2322.18 1099.94 2320.42 1099.94 Q2315.79 1099.94 2313.34 1103.06 Q2310.91 1106.19 2310.56 1112.51 Q2311.93 1110.49 2313.99 1109.43 Q2316.05 1108.34 2318.52 1108.34 Q2323.73 1108.34 2326.74 1111.51 Q2329.77 1114.66 2329.77 1120.1 Q2329.77 1125.43 2326.63 1128.64 Q2323.48 1131.86 2318.25 1131.86 Q2312.25 1131.86 2309.08 1127.28 Q2305.91 1122.67 2305.91 1113.94 Q2305.91 1105.75 2309.8 1100.89 Q2313.69 1096 2320.24 1096 Q2322 1096 2323.78 1096.35 Q2325.58 1096.7 2327.53 1097.39 Z\" fill=\"#000000\" fill-rule=\"evenodd\" fill-opacity=\"1\" /><path clip-path=\"url(#clip100)\" d=\"M 0 0 M2338.87 1127.25 L2355.19 1127.25 L2355.19 1131.19 L2333.25 1131.19 L2333.25 1127.25 Q2335.91 1124.5 2340.49 1119.87 Q2345.1 1115.22 2346.28 1113.87 Q2348.52 1111.35 2349.4 1109.61 Q2350.31 1107.86 2350.31 1106.17 Q2350.31 1103.41 2348.36 1101.68 Q2346.44 1099.94 2343.34 1099.94 Q2341.14 1099.94 2338.69 1100.7 Q2336.26 1101.47 2333.48 1103.02 L2333.48 1098.3 Q2336.3 1097.16 2338.76 1096.58 Q2341.21 1096 2343.25 1096 Q2348.62 1096 2351.81 1098.69 Q2355.01 1101.37 2355.01 1105.86 Q2355.01 1107.99 2354.2 1109.92 Q2353.41 1111.81 2351.3 1114.41 Q2350.72 1115.08 2347.62 1118.3 Q2344.52 1121.49 2338.87 1127.25 Z\" fill=\"#000000\" fill-rule=\"evenodd\" fill-opacity=\"1\" /><path clip-path=\"url(#clip100)\" d=\"M 0 0 M2360.31 1096.63 L2378.66 1096.63 L2378.66 1100.56 L2364.59 1100.56 L2364.59 1109.04 Q2365.61 1108.69 2366.63 1108.53 Q2367.64 1108.34 2368.66 1108.34 Q2374.45 1108.34 2377.83 1111.51 Q2381.21 1114.68 2381.21 1120.1 Q2381.21 1125.68 2377.74 1128.78 Q2374.26 1131.86 2367.95 1131.86 Q2365.77 1131.86 2363.5 1131.49 Q2361.26 1131.12 2358.85 1130.38 L2358.85 1125.68 Q2360.93 1126.81 2363.15 1127.37 Q2365.38 1127.93 2367.85 1127.93 Q2371.86 1127.93 2374.2 1125.82 Q2376.53 1123.71 2376.53 1120.1 Q2376.53 1116.49 2374.2 1114.38 Q2371.86 1112.28 2367.85 1112.28 Q2365.98 1112.28 2364.1 1112.69 Q2362.25 1113.11 2360.31 1113.99 L2360.31 1096.63 Z\" fill=\"#000000\" fill-rule=\"evenodd\" fill-opacity=\"1\" /><path clip-path=\"url(#clip100)\" d=\"M 0 0 M2280.7 816.212 Q2277.09 816.212 2275.26 819.777 Q2273.45 823.318 2273.45 830.448 Q2273.45 837.554 2275.26 841.119 Q2277.09 844.661 2280.7 844.661 Q2284.33 844.661 2286.14 841.119 Q2287.97 837.554 2287.97 830.448 Q2287.97 823.318 2286.14 819.777 Q2284.33 816.212 2280.7 816.212 M2280.7 812.508 Q2286.51 812.508 2289.57 817.115 Q2292.64 821.698 2292.64 830.448 Q2292.64 839.175 2289.57 843.781 Q2286.51 848.365 2280.7 848.365 Q2274.89 848.365 2271.81 843.781 Q2268.76 839.175 2268.76 830.448 Q2268.76 821.698 2271.81 817.115 Q2274.89 812.508 2280.7 812.508 Z\" fill=\"#000000\" fill-rule=\"evenodd\" fill-opacity=\"1\" /><path clip-path=\"url(#clip100)\" d=\"M 0 0 M2297.71 841.814 L2302.6 841.814 L2302.6 847.693 L2297.71 847.693 L2297.71 841.814 Z\" fill=\"#000000\" fill-rule=\"evenodd\" fill-opacity=\"1\" /><path clip-path=\"url(#clip100)\" d=\"M 0 0 M2318.25 828.55 Q2315.1 828.55 2313.25 830.703 Q2311.42 832.855 2311.42 836.605 Q2311.42 840.332 2313.25 842.508 Q2315.1 844.661 2318.25 844.661 Q2321.39 844.661 2323.22 842.508 Q2325.08 840.332 2325.08 836.605 Q2325.08 832.855 2323.22 830.703 Q2321.39 828.55 2318.25 828.55 M2327.53 813.897 L2327.53 818.156 Q2325.77 817.323 2323.96 816.883 Q2322.18 816.443 2320.42 816.443 Q2315.79 816.443 2313.34 819.568 Q2310.91 822.693 2310.56 829.013 Q2311.93 826.999 2313.99 825.934 Q2316.05 824.846 2318.52 824.846 Q2323.73 824.846 2326.74 828.017 Q2329.77 831.166 2329.77 836.605 Q2329.77 841.929 2326.63 845.147 Q2323.48 848.365 2318.25 848.365 Q2312.25 848.365 2309.08 843.781 Q2305.91 839.175 2305.91 830.448 Q2305.91 822.254 2309.8 817.392 Q2313.69 812.508 2320.24 812.508 Q2322 812.508 2323.78 812.855 Q2325.58 813.203 2327.53 813.897 Z\" fill=\"#000000\" fill-rule=\"evenodd\" fill-opacity=\"1\" /><path clip-path=\"url(#clip100)\" d=\"M 0 0 M2334.89 813.133 L2353.25 813.133 L2353.25 817.068 L2339.17 817.068 L2339.17 825.541 Q2340.19 825.193 2341.21 825.031 Q2342.23 824.846 2343.25 824.846 Q2349.03 824.846 2352.41 828.017 Q2355.79 831.189 2355.79 836.605 Q2355.79 842.184 2352.32 845.286 Q2348.85 848.365 2342.53 848.365 Q2340.35 848.365 2338.08 847.994 Q2335.84 847.624 2333.43 846.883 L2333.43 842.184 Q2335.51 843.318 2337.74 843.874 Q2339.96 844.429 2342.44 844.429 Q2346.44 844.429 2348.78 842.323 Q2351.12 840.216 2351.12 836.605 Q2351.12 832.994 2348.78 830.888 Q2346.44 828.781 2342.44 828.781 Q2340.56 828.781 2338.69 829.198 Q2336.83 829.615 2334.89 830.494 L2334.89 813.133 Z\" fill=\"#000000\" fill-rule=\"evenodd\" fill-opacity=\"1\" /><path clip-path=\"url(#clip100)\" d=\"M 0 0 M2370.86 816.212 Q2367.25 816.212 2365.42 819.777 Q2363.62 823.318 2363.62 830.448 Q2363.62 837.554 2365.42 841.119 Q2367.25 844.661 2370.86 844.661 Q2374.5 844.661 2376.3 841.119 Q2378.13 837.554 2378.13 830.448 Q2378.13 823.318 2376.3 819.777 Q2374.5 816.212 2370.86 816.212 M2370.86 812.508 Q2376.67 812.508 2379.73 817.115 Q2382.81 821.698 2382.81 830.448 Q2382.81 839.175 2379.73 843.781 Q2376.67 848.365 2370.86 848.365 Q2365.05 848.365 2361.97 843.781 Q2358.92 839.175 2358.92 830.448 Q2358.92 821.698 2361.97 817.115 Q2365.05 812.508 2370.86 812.508 Z\" fill=\"#000000\" fill-rule=\"evenodd\" fill-opacity=\"1\" /><path clip-path=\"url(#clip100)\" d=\"M 0 0 M2280.7 532.716 Q2277.09 532.716 2275.26 536.281 Q2273.45 539.823 2273.45 546.952 Q2273.45 554.059 2275.26 557.624 Q2277.09 561.165 2280.7 561.165 Q2284.33 561.165 2286.14 557.624 Q2287.97 554.059 2287.97 546.952 Q2287.97 539.823 2286.14 536.281 Q2284.33 532.716 2280.7 532.716 M2280.7 529.013 Q2286.51 529.013 2289.57 533.619 Q2292.64 538.202 2292.64 546.952 Q2292.64 555.679 2289.57 560.286 Q2286.51 564.869 2280.7 564.869 Q2274.89 564.869 2271.81 560.286 Q2268.76 555.679 2268.76 546.952 Q2268.76 538.202 2271.81 533.619 Q2274.89 529.013 2280.7 529.013 Z\" fill=\"#000000\" fill-rule=\"evenodd\" fill-opacity=\"1\" /><path clip-path=\"url(#clip100)\" d=\"M 0 0 M2297.71 558.318 L2302.6 558.318 L2302.6 564.198 L2297.71 564.198 L2297.71 558.318 Z\" fill=\"#000000\" fill-rule=\"evenodd\" fill-opacity=\"1\" /><path clip-path=\"url(#clip100)\" d=\"M 0 0 M2318.25 545.054 Q2315.1 545.054 2313.25 547.207 Q2311.42 549.36 2311.42 553.11 Q2311.42 556.837 2313.25 559.012 Q2315.1 561.165 2318.25 561.165 Q2321.39 561.165 2323.22 559.012 Q2325.08 556.837 2325.08 553.11 Q2325.08 549.36 2323.22 547.207 Q2321.39 545.054 2318.25 545.054 M2327.53 530.401 L2327.53 534.661 Q2325.77 533.827 2323.96 533.388 Q2322.18 532.948 2320.42 532.948 Q2315.79 532.948 2313.34 536.073 Q2310.91 539.198 2310.56 545.517 Q2311.93 543.503 2313.99 542.438 Q2316.05 541.35 2318.52 541.35 Q2323.73 541.35 2326.74 544.522 Q2329.77 547.67 2329.77 553.11 Q2329.77 558.434 2326.63 561.651 Q2323.48 564.869 2318.25 564.869 Q2312.25 564.869 2309.08 560.286 Q2305.91 555.679 2305.91 546.952 Q2305.91 538.758 2309.8 533.897 Q2313.69 529.013 2320.24 529.013 Q2322 529.013 2323.78 529.36 Q2325.58 529.707 2327.53 530.401 Z\" fill=\"#000000\" fill-rule=\"evenodd\" fill-opacity=\"1\" /><path clip-path=\"url(#clip100)\" d=\"M 0 0 M2333.66 529.638 L2355.89 529.638 L2355.89 531.628 L2343.34 564.198 L2338.45 564.198 L2350.26 533.573 L2333.66 533.573 L2333.66 529.638 Z\" fill=\"#000000\" fill-rule=\"evenodd\" fill-opacity=\"1\" /><path clip-path=\"url(#clip100)\" d=\"M 0 0 M2361 529.638 L2379.36 529.638 L2379.36 533.573 L2365.28 533.573 L2365.28 542.045 Q2366.3 541.698 2367.32 541.536 Q2368.34 541.35 2369.36 541.35 Q2375.14 541.35 2378.52 544.522 Q2381.9 547.693 2381.9 553.11 Q2381.9 558.688 2378.43 561.79 Q2374.96 564.869 2368.64 564.869 Q2366.46 564.869 2364.2 564.499 Q2361.95 564.128 2359.54 563.387 L2359.54 558.688 Q2361.63 559.823 2363.85 560.378 Q2366.07 560.934 2368.55 560.934 Q2372.55 560.934 2374.89 558.827 Q2377.23 556.721 2377.23 553.11 Q2377.23 549.499 2374.89 547.392 Q2372.55 545.286 2368.55 545.286 Q2366.67 545.286 2364.8 545.702 Q2362.95 546.119 2361 546.999 L2361 529.638 Z\" fill=\"#000000\" fill-rule=\"evenodd\" fill-opacity=\"1\" /><path clip-path=\"url(#clip100)\" d=\"M 0 0 M2280.7 249.221 Q2277.09 249.221 2275.26 252.785 Q2273.45 256.327 2273.45 263.457 Q2273.45 270.563 2275.26 274.128 Q2277.09 277.67 2280.7 277.67 Q2284.33 277.67 2286.14 274.128 Q2287.97 270.563 2287.97 263.457 Q2287.97 256.327 2286.14 252.785 Q2284.33 249.221 2280.7 249.221 M2280.7 245.517 Q2286.51 245.517 2289.57 250.123 Q2292.64 254.707 2292.64 263.457 Q2292.64 272.183 2289.57 276.79 Q2286.51 281.373 2280.7 281.373 Q2274.89 281.373 2271.81 276.79 Q2268.76 272.183 2268.76 263.457 Q2268.76 254.707 2271.81 250.123 Q2274.89 245.517 2280.7 245.517 Z\" fill=\"#000000\" fill-rule=\"evenodd\" fill-opacity=\"1\" /><path clip-path=\"url(#clip100)\" d=\"M 0 0 M2297.71 274.822 L2302.6 274.822 L2302.6 280.702 L2297.71 280.702 L2297.71 274.822 Z\" fill=\"#000000\" fill-rule=\"evenodd\" fill-opacity=\"1\" /><path clip-path=\"url(#clip100)\" d=\"M 0 0 M2306.49 246.142 L2328.71 246.142 L2328.71 248.133 L2316.16 280.702 L2311.28 280.702 L2323.08 250.077 L2306.49 250.077 L2306.49 246.142 Z\" fill=\"#000000\" fill-rule=\"evenodd\" fill-opacity=\"1\" /><path clip-path=\"url(#clip100)\" d=\"M 0 0 M2343.78 249.221 Q2340.17 249.221 2338.34 252.785 Q2336.53 256.327 2336.53 263.457 Q2336.53 270.563 2338.34 274.128 Q2340.17 277.67 2343.78 277.67 Q2347.41 277.67 2349.22 274.128 Q2351.05 270.563 2351.05 263.457 Q2351.05 256.327 2349.22 252.785 Q2347.41 249.221 2343.78 249.221 M2343.78 245.517 Q2349.59 245.517 2352.64 250.123 Q2355.72 254.707 2355.72 263.457 Q2355.72 272.183 2352.64 276.79 Q2349.59 281.373 2343.78 281.373 Q2337.97 281.373 2334.89 276.79 Q2331.83 272.183 2331.83 263.457 Q2331.83 254.707 2334.89 250.123 Q2337.97 245.517 2343.78 245.517 Z\" fill=\"#000000\" fill-rule=\"evenodd\" fill-opacity=\"1\" /><path clip-path=\"url(#clip100)\" d=\"M 0 0 M2370.79 249.221 Q2367.18 249.221 2365.35 252.785 Q2363.55 256.327 2363.55 263.457 Q2363.55 270.563 2365.35 274.128 Q2367.18 277.67 2370.79 277.67 Q2374.43 277.67 2376.23 274.128 Q2378.06 270.563 2378.06 263.457 Q2378.06 256.327 2376.23 252.785 Q2374.43 249.221 2370.79 249.221 M2370.79 245.517 Q2376.6 245.517 2379.66 250.123 Q2382.74 254.707 2382.74 263.457 Q2382.74 272.183 2379.66 276.79 Q2376.6 281.373 2370.79 281.373 Q2364.98 281.373 2361.9 276.79 Q2358.85 272.183 2358.85 263.457 Q2358.85 254.707 2361.9 250.123 Q2364.98 245.517 2370.79 245.517 Z\" fill=\"#000000\" fill-rule=\"evenodd\" fill-opacity=\"1\" /><polyline clip-path=\"url(#clip100)\" style=\"stroke:#000000; stroke-width:4; stroke-opacity:1; fill:none\" points=\"\n",
       "  2232.76,1423.18 2232.76,1401.03 2256.76,1401.03 2232.76,1401.03 2232.76,1117.54 2256.76,1117.54 2232.76,1117.54 2232.76,834.042 2256.76,834.042 2232.76,834.042 \n",
       "  2232.76,550.546 2256.76,550.546 2232.76,550.546 2232.76,267.051 2256.76,267.051 2232.76,267.051 2232.76,47.2441 \n",
       "  \"/>\n",
       "</svg>\n"
      ]
     },
     "execution_count": 339,
     "metadata": {},
     "output_type": "execute_result"
    }
   ],
   "source": [
    "plot(self_tuning_nn)"
   ]
  },
  {
   "cell_type": "code",
   "execution_count": 340,
   "metadata": {},
   "outputs": [
    {
     "data": {
      "text/plain": [
       "(best_model = \u001b[34mNeuralNetworkClassifier{CustomNN,…} @874\u001b[39m,\n",
       " best_fitted_params = (chain = Chain(Chain(Dense(4, 72, σ), Dense(72, 29, σ), Dense(29, 3, σ)), softmax),),)"
      ]
     },
     "execution_count": 340,
     "metadata": {},
     "output_type": "execute_result"
    }
   ],
   "source": [
    "best = fitted_params(self_tuning_nn)\n",
    "best"
   ]
  },
  {
   "cell_type": "code",
   "execution_count": 341,
   "metadata": {},
   "outputs": [
    {
     "data": {
      "text/plain": [
       "NeuralNetworkClassifier(\n",
       "    builder = CustomNN(\n",
       "            n1 = 72,\n",
       "            n2 = 29),\n",
       "    finaliser = NNlib.softmax,\n",
       "    optimiser = ADAM(0.03162, (0.9, 0.999), IdDict{Any,Any}()),\n",
       "    loss = Flux.crossentropy,\n",
       "    epochs = 1683,\n",
       "    batch_size = 8,\n",
       "    lambda = 10.0,\n",
       "    alpha = 0.0,\n",
       "    optimiser_changes_trigger_retraining = false)\u001b[34m @874\u001b[39m"
      ]
     },
     "execution_count": 341,
     "metadata": {},
     "output_type": "execute_result"
    }
   ],
   "source": [
    "best.best_model"
   ]
  },
  {
   "cell_type": "code",
   "execution_count": 342,
   "metadata": {
    "scrolled": true
   },
   "outputs": [
    {
     "data": {
      "text/plain": [
       "0.598047f0"
      ]
     },
     "execution_count": 342,
     "metadata": {},
     "output_type": "execute_result"
    }
   ],
   "source": [
    "best_loss = z.report.best_result.measurement[1]"
   ]
  },
  {
   "cell_type": "code",
   "execution_count": 343,
   "metadata": {},
   "outputs": [
    {
     "data": {
      "text/plain": [
       "10.0"
      ]
     },
     "execution_count": 343,
     "metadata": {},
     "output_type": "execute_result"
    }
   ],
   "source": [
    "best_lambda = best.best_model.lambda"
   ]
  },
  {
   "cell_type": "code",
   "execution_count": 344,
   "metadata": {},
   "outputs": [],
   "source": [
    "fn = \"Figures/Grid_NN_$(param1):$(best.best_model.epochs)_x_$(param2):$(best_lambda)_bestloss:$(best_loss)\"\n",
    "png(replace(fn,'.' => ','))"
   ]
  },
  {
   "cell_type": "markdown",
   "metadata": {},
   "source": [
    "### Learning Curve"
   ]
  },
  {
   "cell_type": "code",
   "execution_count": 359,
   "metadata": {},
   "outputs": [
    {
     "data": {
      "text/plain": [
       "NeuralNetworkClassifier(\n",
       "    builder = CustomNN(\n",
       "            n1 = 72,\n",
       "            n2 = 29),\n",
       "    finaliser = NNlib.softmax,\n",
       "    optimiser = ADAM(0.03162, (0.9, 0.999), IdDict{Any,Any}()),\n",
       "    loss = Flux.crossentropy,\n",
       "    epochs = 3000,\n",
       "    batch_size = 32,\n",
       "    lambda = 10.0,\n",
       "    alpha = 0.0,\n",
       "    optimiser_changes_trigger_retraining = false)\u001b[34m @370\u001b[39m"
      ]
     },
     "execution_count": 359,
     "metadata": {},
     "output_type": "execute_result"
    }
   ],
   "source": [
    "lc_model = NeuralNetworkClassifier(builder=CustomNN(best_n1,best_n2))\n",
    "lc_model.optimiser.eta = best_eta;\n",
    "lc_model.lambda = best_lambda\n",
    "lc_model.epochs = 3000\n",
    "lc_model.batch_size = batch_sz\n",
    "lc_model"
   ]
  },
  {
   "cell_type": "code",
   "execution_count": 360,
   "metadata": {},
   "outputs": [],
   "source": [
    "# lc_model = NeuralNetworkClassifier(builder=CustomNN(80,80))\n",
    "# lc_model.optimiser.eta = 0.001;\n",
    "# lc_model.lambda = best_lambda\n",
    "# lc_model.epochs = 3000\n",
    "# lc_model.batch_size = 8"
   ]
  },
  {
   "cell_type": "code",
   "execution_count": 361,
   "metadata": {
    "scrolled": true
   },
   "outputs": [
    {
     "name": "stdout",
     "output_type": "stream",
     "text": [
      "(d, train_metric, valid_metric) = (10, 0.7, 0.42045454545454547)\n",
      "(d, train_metric, valid_metric) = (15, 0.9333333333333333, 0.8522727272727273)\n",
      "(d, train_metric, valid_metric) = (20, 0.95, 0.8295454545454546)\n",
      "(d, train_metric, valid_metric) = (25, 1.0, 0.8522727272727273)\n",
      "(d, train_metric, valid_metric) = (30, 1.0, 0.875)\n",
      "(d, train_metric, valid_metric) = (35, 0.8857142857142857, 0.875)\n",
      "(d, train_metric, valid_metric) = (40, 1.0, 0.8863636363636364)\n",
      "(d, train_metric, valid_metric) = (45, 0.8666666666666667, 0.9090909090909091)\n",
      "(d, train_metric, valid_metric) = (50, 1.0, 0.8863636363636364)\n",
      "(d, train_metric, valid_metric) = (55, 1.0, 0.8863636363636364)\n",
      "(d, train_metric, valid_metric) = (60, 1.0, 0.875)\n",
      "(d, train_metric, valid_metric) = (65, 0.4153846153846154, 0.42045454545454547)\n",
      "(d, train_metric, valid_metric) = (70, 0.8714285714285714, 0.9318181818181818)\n",
      "(d, train_metric, valid_metric) = (75, 0.8666666666666667, 0.9318181818181818)\n",
      "(d, train_metric, valid_metric) = (80, 0.9875, 0.8863636363636364)\n",
      "(d, train_metric, valid_metric) = (85, 0.8588235294117647, 0.9204545454545454)\n",
      "(d, train_metric, valid_metric) = (90, 0.8666666666666667, 0.9318181818181818)\n",
      "(d, train_metric, valid_metric) = (95, 0.8736842105263158, 0.9318181818181818)\n",
      "(d, train_metric, valid_metric) = (100, 0.88, 0.9318181818181818)\n",
      "(d, train_metric, valid_metric) = (105, 1.0, 0.9318181818181818)\n",
      "(d, train_metric, valid_metric) = (110, 0.8909090909090909, 0.9431818181818182)\n",
      "(d, train_metric, valid_metric) = (115, 0.8956521739130435, 0.9431818181818182)\n",
      "(d, train_metric, valid_metric) = (120, 1.0, 0.9090909090909091)\n",
      "(d, train_metric, valid_metric) = (125, 0.896, 0.9431818181818182)\n",
      "(d, train_metric, valid_metric) = (130, 0.9076923076923077, 0.9318181818181818)\n",
      "(d, train_metric, valid_metric) = (135, 0.9037037037037037, 0.9431818181818182)\n",
      "(d, train_metric, valid_metric) = (140, 0.9, 0.9431818181818182)\n",
      "(d, train_metric, valid_metric) = (145, 0.903448275862069, 0.9431818181818182)\n",
      "(d, train_metric, valid_metric) = (150, 0.9133333333333333, 0.9318181818181818)\n",
      "(d, train_metric, valid_metric) = (155, 0.9096774193548387, 0.9431818181818182)\n",
      "(d, train_metric, valid_metric) = (160, 0.90625, 0.9431818181818182)\n",
      "(d, train_metric, valid_metric) = (165, 0.9515151515151515, 0.9431818181818182)\n",
      "(d, train_metric, valid_metric) = (170, 0.9352941176470588, 0.9431818181818182)\n",
      "(d, train_metric, valid_metric) = (175, 0.9428571428571428, 0.9431818181818182)\n",
      "(d, train_metric, valid_metric) = (180, 1.0, 0.9545454545454546)\n",
      "(d, train_metric, valid_metric) = (185, 1.0, 0.9431818181818182)\n",
      "(d, train_metric, valid_metric) = (190, 0.9631578947368421, 0.9431818181818182)\n",
      "(d, train_metric, valid_metric) = (195, 0.9948717948717949, 0.9545454545454546)\n",
      "(d, train_metric, valid_metric) = (200, 0.985, 0.9431818181818182)\n",
      "(d, train_metric, valid_metric) = (205, 1.0, 0.9659090909090909)\n",
      "(d, train_metric, valid_metric) = (210, 1.0, 0.9431818181818182)\n",
      "(d, train_metric, valid_metric) = (215, 0.9953488372093023, 0.9545454545454546)\n",
      "(d, train_metric, valid_metric) = (220, 1.0, 0.9545454545454546)\n",
      "(d, train_metric, valid_metric) = (225, 0.9777777777777777, 0.9318181818181818)\n",
      "(d, train_metric, valid_metric) = (230, 1.0, 0.9545454545454546)\n",
      "(d, train_metric, valid_metric) = (235, 0.4808510638297872, 0.42045454545454547)\n",
      "(d, train_metric, valid_metric) = (240, 1.0, 0.9545454545454546)\n",
      "(d, train_metric, valid_metric) = (245, 1.0, 0.9545454545454546)\n",
      "(d, train_metric, valid_metric) = (250, 1.0, 0.9431818181818182)\n",
      "(d, train_metric, valid_metric) = (255, 1.0, 0.9431818181818182)\n",
      "(d, train_metric, valid_metric) = (260, 0.4346153846153846, 0.5340909090909091)\n",
      "(d, train_metric, valid_metric) = (265, 0.9056603773584906, 0.9318181818181818)\n",
      "(d, train_metric, valid_metric) = (270, 0.674074074074074, 0.6931818181818182)\n",
      "(d, train_metric, valid_metric) = (275, 0.9018181818181819, 0.9318181818181818)\n",
      "(d, train_metric, valid_metric) = (280, 0.9214285714285714, 0.9431818181818182)\n",
      "(d, train_metric, valid_metric) = (285, 0.9473684210526315, 0.9431818181818182)\n",
      "(d, train_metric, valid_metric) = (290, 0.9, 0.9318181818181818)\n",
      "(d, train_metric, valid_metric) = (295, 0.9084745762711864, 0.9431818181818182)\n",
      "(d, train_metric, valid_metric) = (300, 0.91, 0.9545454545454546)\n",
      "(d, train_metric, valid_metric) = (305, 0.9967213114754099, 0.9659090909090909)\n",
      "(d, train_metric, valid_metric) = (310, 1.0, 0.9545454545454546)\n",
      "(d, train_metric, valid_metric) = (315, 1.0, 0.9545454545454546)\n",
      "(d, train_metric, valid_metric) = (320, 0.9125, 0.9431818181818182)\n",
      "(d, train_metric, valid_metric) = (325, 0.9107692307692308, 0.9431818181818182)\n",
      "(d, train_metric, valid_metric) = (330, 0.9121212121212121, 0.9545454545454546)\n",
      "(d, train_metric, valid_metric) = (335, 0.9134328358208955, 0.9545454545454546)\n",
      "(d, train_metric, valid_metric) = (340, 0.9970588235294118, 0.9545454545454546)\n",
      "(d, train_metric, valid_metric) = (345, 0.9884057971014493, 0.9090909090909091)\n",
      "(d, train_metric, valid_metric) = (350, 0.9171428571428571, 0.9318181818181818)\n"
     ]
    },
    {
     "data": {
      "text/plain": [
       "(10:5:350, Any[0.7, 0.9333333333333333, 0.95, 1.0, 1.0, 0.8857142857142857, 1.0, 0.8666666666666667, 1.0, 1.0  …  0.9967213114754099, 1.0, 1.0, 0.9125, 0.9107692307692308, 0.9121212121212121, 0.9134328358208955, 0.9970588235294118, 0.9884057971014493, 0.9171428571428571], Any[0.42045454545454547, 0.8522727272727273, 0.8295454545454546, 0.8522727272727273, 0.875, 0.875, 0.8863636363636364, 0.9090909090909091, 0.8863636363636364, 0.8863636363636364  …  0.9659090909090909, 0.9545454545454546, 0.9545454545454546, 0.9431818181818182, 0.9431818181818182, 0.9545454545454546, 0.9545454545454546, 0.9545454545454546, 0.9090909090909091, 0.9318181818181818])"
      ]
     },
     "execution_count": 361,
     "metadata": {},
     "output_type": "execute_result"
    }
   ],
   "source": [
    "data_schedule, training_losses, valid_losses = learn_curve(lc_model, X[train,:], y[train], acc)"
   ]
  },
  {
   "cell_type": "code",
   "execution_count": 363,
   "metadata": {},
   "outputs": [
    {
     "data": {
      "image/svg+xml": [
       "<?xml version=\"1.0\" encoding=\"utf-8\"?>\n",
       "<svg xmlns=\"http://www.w3.org/2000/svg\" xmlns:xlink=\"http://www.w3.org/1999/xlink\" width=\"600\" height=\"400\" viewBox=\"0 0 2400 1600\">\n",
       "<defs>\n",
       "  <clipPath id=\"clip270\">\n",
       "    <rect x=\"0\" y=\"0\" width=\"2400\" height=\"1600\"/>\n",
       "  </clipPath>\n",
       "</defs>\n",
       "<path clip-path=\"url(#clip270)\" d=\"\n",
       "M0 1600 L2400 1600 L2400 0 L0 0  Z\n",
       "  \" fill=\"#ffffff\" fill-rule=\"evenodd\" fill-opacity=\"1\"/>\n",
       "<defs>\n",
       "  <clipPath id=\"clip271\">\n",
       "    <rect x=\"480\" y=\"0\" width=\"1681\" height=\"1600\"/>\n",
       "  </clipPath>\n",
       "</defs>\n",
       "<path clip-path=\"url(#clip270)\" d=\"\n",
       "M148.334 1486.45 L2352.76 1486.45 L2352.76 47.2441 L148.334 47.2441  Z\n",
       "  \" fill=\"#ffffff\" fill-rule=\"evenodd\" fill-opacity=\"1\"/>\n",
       "<defs>\n",
       "  <clipPath id=\"clip272\">\n",
       "    <rect x=\"148\" y=\"47\" width=\"2205\" height=\"1440\"/>\n",
       "  </clipPath>\n",
       "</defs>\n",
       "<polyline clip-path=\"url(#clip272)\" style=\"stroke:#000000; stroke-width:2; stroke-opacity:0.1; fill:none\" points=\"\n",
       "  149.558,1486.45 149.558,47.2441 \n",
       "  \"/>\n",
       "<polyline clip-path=\"url(#clip272)\" style=\"stroke:#000000; stroke-width:2; stroke-opacity:0.1; fill:none\" points=\"\n",
       "  761.217,1486.45 761.217,47.2441 \n",
       "  \"/>\n",
       "<polyline clip-path=\"url(#clip272)\" style=\"stroke:#000000; stroke-width:2; stroke-opacity:0.1; fill:none\" points=\"\n",
       "  1372.88,1486.45 1372.88,47.2441 \n",
       "  \"/>\n",
       "<polyline clip-path=\"url(#clip272)\" style=\"stroke:#000000; stroke-width:2; stroke-opacity:0.1; fill:none\" points=\"\n",
       "  1984.54,1486.45 1984.54,47.2441 \n",
       "  \"/>\n",
       "<polyline clip-path=\"url(#clip272)\" style=\"stroke:#000000; stroke-width:2; stroke-opacity:0.1; fill:none\" points=\"\n",
       "  148.334,1481.45 2352.76,1481.45 \n",
       "  \"/>\n",
       "<polyline clip-path=\"url(#clip272)\" style=\"stroke:#000000; stroke-width:2; stroke-opacity:0.1; fill:none\" points=\"\n",
       "  148.334,1249.2 2352.76,1249.2 \n",
       "  \"/>\n",
       "<polyline clip-path=\"url(#clip272)\" style=\"stroke:#000000; stroke-width:2; stroke-opacity:0.1; fill:none\" points=\"\n",
       "  148.334,1016.96 2352.76,1016.96 \n",
       "  \"/>\n",
       "<polyline clip-path=\"url(#clip272)\" style=\"stroke:#000000; stroke-width:2; stroke-opacity:0.1; fill:none\" points=\"\n",
       "  148.334,784.711 2352.76,784.711 \n",
       "  \"/>\n",
       "<polyline clip-path=\"url(#clip272)\" style=\"stroke:#000000; stroke-width:2; stroke-opacity:0.1; fill:none\" points=\"\n",
       "  148.334,552.466 2352.76,552.466 \n",
       "  \"/>\n",
       "<polyline clip-path=\"url(#clip272)\" style=\"stroke:#000000; stroke-width:2; stroke-opacity:0.1; fill:none\" points=\"\n",
       "  148.334,320.221 2352.76,320.221 \n",
       "  \"/>\n",
       "<polyline clip-path=\"url(#clip272)\" style=\"stroke:#000000; stroke-width:2; stroke-opacity:0.1; fill:none\" points=\"\n",
       "  148.334,87.9763 2352.76,87.9763 \n",
       "  \"/>\n",
       "<polyline clip-path=\"url(#clip270)\" style=\"stroke:#000000; stroke-width:4; stroke-opacity:1; fill:none\" points=\"\n",
       "  148.334,1486.45 2352.76,1486.45 \n",
       "  \"/>\n",
       "<polyline clip-path=\"url(#clip270)\" style=\"stroke:#000000; stroke-width:4; stroke-opacity:1; fill:none\" points=\"\n",
       "  148.334,1486.45 148.334,47.2441 \n",
       "  \"/>\n",
       "<polyline clip-path=\"url(#clip270)\" style=\"stroke:#000000; stroke-width:4; stroke-opacity:1; fill:none\" points=\"\n",
       "  149.558,1486.45 149.558,1469.18 \n",
       "  \"/>\n",
       "<polyline clip-path=\"url(#clip270)\" style=\"stroke:#000000; stroke-width:4; stroke-opacity:1; fill:none\" points=\"\n",
       "  761.217,1486.45 761.217,1469.18 \n",
       "  \"/>\n",
       "<polyline clip-path=\"url(#clip270)\" style=\"stroke:#000000; stroke-width:4; stroke-opacity:1; fill:none\" points=\"\n",
       "  1372.88,1486.45 1372.88,1469.18 \n",
       "  \"/>\n",
       "<polyline clip-path=\"url(#clip270)\" style=\"stroke:#000000; stroke-width:4; stroke-opacity:1; fill:none\" points=\"\n",
       "  1984.54,1486.45 1984.54,1469.18 \n",
       "  \"/>\n",
       "<polyline clip-path=\"url(#clip270)\" style=\"stroke:#000000; stroke-width:4; stroke-opacity:1; fill:none\" points=\"\n",
       "  148.334,1481.45 174.787,1481.45 \n",
       "  \"/>\n",
       "<polyline clip-path=\"url(#clip270)\" style=\"stroke:#000000; stroke-width:4; stroke-opacity:1; fill:none\" points=\"\n",
       "  148.334,1249.2 174.787,1249.2 \n",
       "  \"/>\n",
       "<polyline clip-path=\"url(#clip270)\" style=\"stroke:#000000; stroke-width:4; stroke-opacity:1; fill:none\" points=\"\n",
       "  148.334,1016.96 174.787,1016.96 \n",
       "  \"/>\n",
       "<polyline clip-path=\"url(#clip270)\" style=\"stroke:#000000; stroke-width:4; stroke-opacity:1; fill:none\" points=\"\n",
       "  148.334,784.711 174.787,784.711 \n",
       "  \"/>\n",
       "<polyline clip-path=\"url(#clip270)\" style=\"stroke:#000000; stroke-width:4; stroke-opacity:1; fill:none\" points=\"\n",
       "  148.334,552.466 174.787,552.466 \n",
       "  \"/>\n",
       "<polyline clip-path=\"url(#clip270)\" style=\"stroke:#000000; stroke-width:4; stroke-opacity:1; fill:none\" points=\"\n",
       "  148.334,320.221 174.787,320.221 \n",
       "  \"/>\n",
       "<polyline clip-path=\"url(#clip270)\" style=\"stroke:#000000; stroke-width:4; stroke-opacity:1; fill:none\" points=\"\n",
       "  148.334,87.9763 174.787,87.9763 \n",
       "  \"/>\n",
       "<path clip-path=\"url(#clip270)\" d=\"M 0 0 M149.558 1508.44 Q145.947 1508.44 144.118 1512 Q142.312 1515.55 142.312 1522.67 Q142.312 1529.78 144.118 1533.35 Q145.947 1536.89 149.558 1536.89 Q153.192 1536.89 154.997 1533.35 Q156.826 1529.78 156.826 1522.67 Q156.826 1515.55 154.997 1512 Q153.192 1508.44 149.558 1508.44 M149.558 1504.73 Q155.368 1504.73 158.423 1509.34 Q161.502 1513.92 161.502 1522.67 Q161.502 1531.4 158.423 1536.01 Q155.368 1540.59 149.558 1540.59 Q143.748 1540.59 140.669 1536.01 Q137.613 1531.4 137.613 1522.67 Q137.613 1513.92 140.669 1509.34 Q143.748 1504.73 149.558 1504.73 Z\" fill=\"#000000\" fill-rule=\"evenodd\" fill-opacity=\"1\" /><path clip-path=\"url(#clip270)\" d=\"M 0 0 M724.586 1535.98 L732.224 1535.98 L732.224 1509.62 L723.914 1511.29 L723.914 1507.03 L732.178 1505.36 L736.854 1505.36 L736.854 1535.98 L744.493 1535.98 L744.493 1539.92 L724.586 1539.92 L724.586 1535.98 Z\" fill=\"#000000\" fill-rule=\"evenodd\" fill-opacity=\"1\" /><path clip-path=\"url(#clip270)\" d=\"M 0 0 M759.562 1508.44 Q755.951 1508.44 754.123 1512 Q752.317 1515.55 752.317 1522.67 Q752.317 1529.78 754.123 1533.35 Q755.951 1536.89 759.562 1536.89 Q763.197 1536.89 765.002 1533.35 Q766.831 1529.78 766.831 1522.67 Q766.831 1515.55 765.002 1512 Q763.197 1508.44 759.562 1508.44 M759.562 1504.73 Q765.372 1504.73 768.428 1509.34 Q771.507 1513.92 771.507 1522.67 Q771.507 1531.4 768.428 1536.01 Q765.372 1540.59 759.562 1540.59 Q753.752 1540.59 750.673 1536.01 Q747.618 1531.4 747.618 1522.67 Q747.618 1513.92 750.673 1509.34 Q753.752 1504.73 759.562 1504.73 Z\" fill=\"#000000\" fill-rule=\"evenodd\" fill-opacity=\"1\" /><path clip-path=\"url(#clip270)\" d=\"M 0 0 M786.576 1508.44 Q782.965 1508.44 781.136 1512 Q779.331 1515.55 779.331 1522.67 Q779.331 1529.78 781.136 1533.35 Q782.965 1536.89 786.576 1536.89 Q790.21 1536.89 792.016 1533.35 Q793.845 1529.78 793.845 1522.67 Q793.845 1515.55 792.016 1512 Q790.21 1508.44 786.576 1508.44 M786.576 1504.73 Q792.386 1504.73 795.442 1509.34 Q798.52 1513.92 798.52 1522.67 Q798.52 1531.4 795.442 1536.01 Q792.386 1540.59 786.576 1540.59 Q780.766 1540.59 777.687 1536.01 Q774.632 1531.4 774.632 1522.67 Q774.632 1513.92 777.687 1509.34 Q780.766 1504.73 786.576 1504.73 Z\" fill=\"#000000\" fill-rule=\"evenodd\" fill-opacity=\"1\" /><path clip-path=\"url(#clip270)\" d=\"M 0 0 M1340.52 1535.98 L1356.84 1535.98 L1356.84 1539.92 L1334.89 1539.92 L1334.89 1535.98 Q1337.55 1533.23 1342.14 1528.6 Q1346.74 1523.95 1347.92 1522.61 Q1350.17 1520.08 1351.05 1518.35 Q1351.95 1516.59 1351.95 1514.9 Q1351.95 1512.14 1350.01 1510.41 Q1348.09 1508.67 1344.98 1508.67 Q1342.78 1508.67 1340.33 1509.43 Q1337.9 1510.2 1335.12 1511.75 L1335.12 1507.03 Q1337.95 1505.89 1340.4 1505.31 Q1342.85 1504.73 1344.89 1504.73 Q1350.26 1504.73 1353.46 1507.42 Q1356.65 1510.11 1356.65 1514.6 Q1356.65 1516.73 1355.84 1518.65 Q1355.05 1520.54 1352.95 1523.14 Q1352.37 1523.81 1349.27 1527.03 Q1346.16 1530.22 1340.52 1535.98 Z\" fill=\"#000000\" fill-rule=\"evenodd\" fill-opacity=\"1\" /><path clip-path=\"url(#clip270)\" d=\"M 0 0 M1371.9 1508.44 Q1368.29 1508.44 1366.47 1512 Q1364.66 1515.55 1364.66 1522.67 Q1364.66 1529.78 1366.47 1533.35 Q1368.29 1536.89 1371.9 1536.89 Q1375.54 1536.89 1377.34 1533.35 Q1379.17 1529.78 1379.17 1522.67 Q1379.17 1515.55 1377.34 1512 Q1375.54 1508.44 1371.9 1508.44 M1371.9 1504.73 Q1377.72 1504.73 1380.77 1509.34 Q1383.85 1513.92 1383.85 1522.67 Q1383.85 1531.4 1380.77 1536.01 Q1377.72 1540.59 1371.9 1540.59 Q1366.09 1540.59 1363.02 1536.01 Q1359.96 1531.4 1359.96 1522.67 Q1359.96 1513.92 1363.02 1509.34 Q1366.09 1504.73 1371.9 1504.73 Z\" fill=\"#000000\" fill-rule=\"evenodd\" fill-opacity=\"1\" /><path clip-path=\"url(#clip270)\" d=\"M 0 0 M1398.92 1508.44 Q1395.31 1508.44 1393.48 1512 Q1391.67 1515.55 1391.67 1522.67 Q1391.67 1529.78 1393.48 1533.35 Q1395.31 1536.89 1398.92 1536.89 Q1402.55 1536.89 1404.36 1533.35 Q1406.19 1529.78 1406.19 1522.67 Q1406.19 1515.55 1404.36 1512 Q1402.55 1508.44 1398.92 1508.44 M1398.92 1504.73 Q1404.73 1504.73 1407.78 1509.34 Q1410.86 1513.92 1410.86 1522.67 Q1410.86 1531.4 1407.78 1536.01 Q1404.73 1540.59 1398.92 1540.59 Q1393.11 1540.59 1390.03 1536.01 Q1386.97 1531.4 1386.97 1522.67 Q1386.97 1513.92 1390.03 1509.34 Q1393.11 1504.73 1398.92 1504.73 Z\" fill=\"#000000\" fill-rule=\"evenodd\" fill-opacity=\"1\" /><path clip-path=\"url(#clip270)\" d=\"M 0 0 M1961.77 1521.29 Q1965.13 1522 1967 1524.27 Q1968.9 1526.54 1968.9 1529.87 Q1968.9 1534.99 1965.38 1537.79 Q1961.86 1540.59 1955.38 1540.59 Q1953.21 1540.59 1950.89 1540.15 Q1948.6 1539.73 1946.15 1538.88 L1946.15 1534.36 Q1948.09 1535.5 1950.41 1536.08 Q1952.72 1536.66 1955.24 1536.66 Q1959.64 1536.66 1961.93 1534.92 Q1964.25 1533.18 1964.25 1529.87 Q1964.25 1526.82 1962.09 1525.11 Q1959.97 1523.37 1956.15 1523.37 L1952.12 1523.37 L1952.12 1519.53 L1956.33 1519.53 Q1959.78 1519.53 1961.61 1518.16 Q1963.44 1516.77 1963.44 1514.18 Q1963.44 1511.52 1961.54 1510.11 Q1959.66 1508.67 1956.15 1508.67 Q1954.22 1508.67 1952.03 1509.09 Q1949.83 1509.5 1947.19 1510.38 L1947.19 1506.22 Q1949.85 1505.48 1952.16 1505.11 Q1954.5 1504.73 1956.56 1504.73 Q1961.89 1504.73 1964.99 1507.17 Q1968.09 1509.57 1968.09 1513.69 Q1968.09 1516.56 1966.45 1518.55 Q1964.8 1520.52 1961.77 1521.29 Z\" fill=\"#000000\" fill-rule=\"evenodd\" fill-opacity=\"1\" /><path clip-path=\"url(#clip270)\" d=\"M 0 0 M1983.97 1508.44 Q1980.36 1508.44 1978.53 1512 Q1976.72 1515.55 1976.72 1522.67 Q1976.72 1529.78 1978.53 1533.35 Q1980.36 1536.89 1983.97 1536.89 Q1987.6 1536.89 1989.41 1533.35 Q1991.24 1529.78 1991.24 1522.67 Q1991.24 1515.55 1989.41 1512 Q1987.6 1508.44 1983.97 1508.44 M1983.97 1504.73 Q1989.78 1504.73 1992.84 1509.34 Q1995.91 1513.92 1995.91 1522.67 Q1995.91 1531.4 1992.84 1536.01 Q1989.78 1540.59 1983.97 1540.59 Q1978.16 1540.59 1975.08 1536.01 Q1972.03 1531.4 1972.03 1522.67 Q1972.03 1513.92 1975.08 1509.34 Q1978.16 1504.73 1983.97 1504.73 Z\" fill=\"#000000\" fill-rule=\"evenodd\" fill-opacity=\"1\" /><path clip-path=\"url(#clip270)\" d=\"M 0 0 M2010.98 1508.44 Q2007.37 1508.44 2005.54 1512 Q2003.74 1515.55 2003.74 1522.67 Q2003.74 1529.78 2005.54 1533.35 Q2007.37 1536.89 2010.98 1536.89 Q2014.62 1536.89 2016.42 1533.35 Q2018.25 1529.78 2018.25 1522.67 Q2018.25 1515.55 2016.42 1512 Q2014.62 1508.44 2010.98 1508.44 M2010.98 1504.73 Q2016.79 1504.73 2019.85 1509.34 Q2022.93 1513.92 2022.93 1522.67 Q2022.93 1531.4 2019.85 1536.01 Q2016.79 1540.59 2010.98 1540.59 Q2005.17 1540.59 2002.09 1536.01 Q1999.04 1531.4 1999.04 1522.67 Q1999.04 1513.92 2002.09 1509.34 Q2005.17 1504.73 2010.98 1504.73 Z\" fill=\"#000000\" fill-rule=\"evenodd\" fill-opacity=\"1\" /><path clip-path=\"url(#clip270)\" d=\"M 0 0 M74.9365 1467.24 Q71.3254 1467.24 69.4967 1470.81 Q67.6912 1474.35 67.6912 1481.48 Q67.6912 1488.59 69.4967 1492.15 Q71.3254 1495.69 74.9365 1495.69 Q78.5707 1495.69 80.3763 1492.15 Q82.205 1488.59 82.205 1481.48 Q82.205 1474.35 80.3763 1470.81 Q78.5707 1467.24 74.9365 1467.24 M74.9365 1463.54 Q80.7467 1463.54 83.8022 1468.15 Q86.8809 1472.73 86.8809 1481.48 Q86.8809 1490.21 83.8022 1494.81 Q80.7467 1499.4 74.9365 1499.4 Q69.1264 1499.4 66.0477 1494.81 Q62.9921 1490.21 62.9921 1481.48 Q62.9921 1472.73 66.0477 1468.15 Q69.1264 1463.54 74.9365 1463.54 Z\" fill=\"#000000\" fill-rule=\"evenodd\" fill-opacity=\"1\" /><path clip-path=\"url(#clip270)\" d=\"M 0 0 M91.9503 1492.85 L96.8345 1492.85 L96.8345 1498.73 L91.9503 1498.73 L91.9503 1492.85 Z\" fill=\"#000000\" fill-rule=\"evenodd\" fill-opacity=\"1\" /><path clip-path=\"url(#clip270)\" d=\"M 0 0 M114.751 1468.24 L102.946 1486.69 L114.751 1486.69 L114.751 1468.24 M113.524 1464.17 L119.404 1464.17 L119.404 1486.69 L124.334 1486.69 L124.334 1490.58 L119.404 1490.58 L119.404 1498.73 L114.751 1498.73 L114.751 1490.58 L99.1493 1490.58 L99.1493 1486.06 L113.524 1464.17 Z\" fill=\"#000000\" fill-rule=\"evenodd\" fill-opacity=\"1\" /><path clip-path=\"url(#clip270)\" d=\"M 0 0 M76.418 1235 Q72.8069 1235 70.9782 1238.56 Q69.1726 1242.11 69.1726 1249.24 Q69.1726 1256.34 70.9782 1259.91 Q72.8069 1263.45 76.418 1263.45 Q80.0522 1263.45 81.8578 1259.91 Q83.6865 1256.34 83.6865 1249.24 Q83.6865 1242.11 81.8578 1238.56 Q80.0522 1235 76.418 1235 M76.418 1231.3 Q82.2281 1231.3 85.2837 1235.9 Q88.3624 1240.49 88.3624 1249.24 Q88.3624 1257.96 85.2837 1262.57 Q82.2281 1267.15 76.418 1267.15 Q70.6078 1267.15 67.5291 1262.57 Q64.4736 1257.96 64.4736 1249.24 Q64.4736 1240.49 67.5291 1235.9 Q70.6078 1231.3 76.418 1231.3 Z\" fill=\"#000000\" fill-rule=\"evenodd\" fill-opacity=\"1\" /><path clip-path=\"url(#clip270)\" d=\"M 0 0 M93.4318 1260.6 L98.316 1260.6 L98.316 1266.48 L93.4318 1266.48 L93.4318 1260.6 Z\" fill=\"#000000\" fill-rule=\"evenodd\" fill-opacity=\"1\" /><path clip-path=\"url(#clip270)\" d=\"M 0 0 M103.432 1231.92 L121.788 1231.92 L121.788 1235.86 L107.714 1235.86 L107.714 1244.33 Q108.733 1243.98 109.751 1243.82 Q110.77 1243.63 111.788 1243.63 Q117.575 1243.63 120.955 1246.8 Q124.334 1249.98 124.334 1255.39 Q124.334 1260.97 120.862 1264.07 Q117.39 1267.15 111.071 1267.15 Q108.895 1267.15 106.626 1266.78 Q104.381 1266.41 101.973 1265.67 L101.973 1260.97 Q104.057 1262.11 106.279 1262.66 Q108.501 1263.22 110.978 1263.22 Q114.983 1263.22 117.321 1261.11 Q119.658 1259 119.658 1255.39 Q119.658 1251.78 117.321 1249.68 Q114.983 1247.57 110.978 1247.57 Q109.103 1247.57 107.228 1247.99 Q105.376 1248.4 103.432 1249.28 L103.432 1231.92 Z\" fill=\"#000000\" fill-rule=\"evenodd\" fill-opacity=\"1\" /><path clip-path=\"url(#clip270)\" d=\"M 0 0 M75.2606 1002.75 Q71.6495 1002.75 69.8208 1006.32 Q68.0152 1009.86 68.0152 1016.99 Q68.0152 1024.1 69.8208 1027.66 Q71.6495 1031.2 75.2606 1031.2 Q78.8948 1031.2 80.7004 1027.66 Q82.5291 1024.1 82.5291 1016.99 Q82.5291 1009.86 80.7004 1006.32 Q78.8948 1002.75 75.2606 1002.75 M75.2606 999.051 Q81.0707 999.051 84.1263 1003.66 Q87.205 1008.24 87.205 1016.99 Q87.205 1025.72 84.1263 1030.32 Q81.0707 1034.91 75.2606 1034.91 Q69.4504 1034.91 66.3717 1030.32 Q63.3162 1025.72 63.3162 1016.99 Q63.3162 1008.24 66.3717 1003.66 Q69.4504 999.051 75.2606 999.051 Z\" fill=\"#000000\" fill-rule=\"evenodd\" fill-opacity=\"1\" /><path clip-path=\"url(#clip270)\" d=\"M 0 0 M92.2744 1028.36 L97.1586 1028.36 L97.1586 1034.24 L92.2744 1034.24 L92.2744 1028.36 Z\" fill=\"#000000\" fill-rule=\"evenodd\" fill-opacity=\"1\" /><path clip-path=\"url(#clip270)\" d=\"M 0 0 M112.807 1015.09 Q109.659 1015.09 107.807 1017.25 Q105.978 1019.4 105.978 1023.15 Q105.978 1026.87 107.807 1029.05 Q109.659 1031.2 112.807 1031.2 Q115.955 1031.2 117.783 1029.05 Q119.635 1026.87 119.635 1023.15 Q119.635 1019.4 117.783 1017.25 Q115.955 1015.09 112.807 1015.09 M122.089 1000.44 L122.089 1004.7 Q120.33 1003.87 118.524 1003.43 Q116.742 1002.99 114.983 1002.99 Q110.353 1002.99 107.899 1006.11 Q105.469 1009.24 105.122 1015.56 Q106.487 1013.54 108.547 1012.48 Q110.608 1011.39 113.084 1011.39 Q118.293 1011.39 121.302 1014.56 Q124.334 1017.71 124.334 1023.15 Q124.334 1028.47 121.186 1031.69 Q118.038 1034.91 112.807 1034.91 Q106.811 1034.91 103.64 1030.32 Q100.469 1025.72 100.469 1016.99 Q100.469 1008.8 104.358 1003.94 Q108.247 999.051 114.797 999.051 Q116.557 999.051 118.339 999.398 Q120.145 999.745 122.089 1000.44 Z\" fill=\"#000000\" fill-rule=\"evenodd\" fill-opacity=\"1\" /><path clip-path=\"url(#clip270)\" d=\"M 0 0 M76.3254 770.51 Q72.7143 770.51 70.8856 774.074 Q69.0801 777.616 69.0801 784.746 Q69.0801 791.852 70.8856 795.417 Q72.7143 798.959 76.3254 798.959 Q79.9596 798.959 81.7652 795.417 Q83.5939 791.852 83.5939 784.746 Q83.5939 777.616 81.7652 774.074 Q79.9596 770.51 76.3254 770.51 M76.3254 766.806 Q82.1355 766.806 85.1911 771.412 Q88.2698 775.996 88.2698 784.746 Q88.2698 793.473 85.1911 798.079 Q82.1355 802.662 76.3254 802.662 Q70.5152 802.662 67.4365 798.079 Q64.381 793.473 64.381 784.746 Q64.381 775.996 67.4365 771.412 Q70.5152 766.806 76.3254 766.806 Z\" fill=\"#000000\" fill-rule=\"evenodd\" fill-opacity=\"1\" /><path clip-path=\"url(#clip270)\" d=\"M 0 0 M93.3392 796.111 L98.2234 796.111 L98.2234 801.991 L93.3392 801.991 L93.3392 796.111 Z\" fill=\"#000000\" fill-rule=\"evenodd\" fill-opacity=\"1\" /><path clip-path=\"url(#clip270)\" d=\"M 0 0 M102.112 767.431 L124.334 767.431 L124.334 769.422 L111.788 801.991 L106.904 801.991 L118.709 771.366 L102.112 771.366 L102.112 767.431 Z\" fill=\"#000000\" fill-rule=\"evenodd\" fill-opacity=\"1\" /><path clip-path=\"url(#clip270)\" d=\"M 0 0 M75.5152 538.265 Q71.9041 538.265 70.0754 541.83 Q68.2699 545.371 68.2699 552.501 Q68.2699 559.607 70.0754 563.172 Q71.9041 566.714 75.5152 566.714 Q79.1494 566.714 80.955 563.172 Q82.7837 559.607 82.7837 552.501 Q82.7837 545.371 80.955 541.83 Q79.1494 538.265 75.5152 538.265 M75.5152 534.561 Q81.3254 534.561 84.3809 539.168 Q87.4596 543.751 87.4596 552.501 Q87.4596 561.228 84.3809 565.834 Q81.3254 570.417 75.5152 570.417 Q69.7051 570.417 66.6264 565.834 Q63.5708 561.228 63.5708 552.501 Q63.5708 543.751 66.6264 539.168 Q69.7051 534.561 75.5152 534.561 Z\" fill=\"#000000\" fill-rule=\"evenodd\" fill-opacity=\"1\" /><path clip-path=\"url(#clip270)\" d=\"M 0 0 M92.529 563.866 L97.4132 563.866 L97.4132 569.746 L92.529 569.746 L92.529 563.866 Z\" fill=\"#000000\" fill-rule=\"evenodd\" fill-opacity=\"1\" /><path clip-path=\"url(#clip270)\" d=\"M 0 0 M112.483 553.334 Q109.149 553.334 107.228 555.117 Q105.33 556.899 105.33 560.024 Q105.33 563.149 107.228 564.931 Q109.149 566.714 112.483 566.714 Q115.816 566.714 117.737 564.931 Q119.658 563.126 119.658 560.024 Q119.658 556.899 117.737 555.117 Q115.839 553.334 112.483 553.334 M107.807 551.343 Q104.797 550.603 103.108 548.542 Q101.441 546.482 101.441 543.519 Q101.441 539.376 104.381 536.968 Q107.344 534.561 112.483 534.561 Q117.645 534.561 120.584 536.968 Q123.524 539.376 123.524 543.519 Q123.524 546.482 121.834 548.542 Q120.168 550.603 117.182 551.343 Q120.561 552.13 122.436 554.422 Q124.334 556.714 124.334 560.024 Q124.334 565.047 121.256 567.732 Q118.2 570.417 112.483 570.417 Q106.765 570.417 103.686 567.732 Q100.631 565.047 100.631 560.024 Q100.631 556.714 102.529 554.422 Q104.427 552.13 107.807 551.343 M106.094 543.959 Q106.094 546.644 107.76 548.149 Q109.45 549.654 112.483 549.654 Q115.492 549.654 117.182 548.149 Q118.895 546.644 118.895 543.959 Q118.895 541.274 117.182 539.769 Q115.492 538.265 112.483 538.265 Q109.45 538.265 107.76 539.769 Q106.094 541.274 106.094 543.959 Z\" fill=\"#000000\" fill-rule=\"evenodd\" fill-opacity=\"1\" /><path clip-path=\"url(#clip270)\" d=\"M 0 0 M75.6078 306.02 Q71.9967 306.02 70.168 309.585 Q68.3625 313.126 68.3625 320.256 Q68.3625 327.362 70.168 330.927 Q71.9967 334.469 75.6078 334.469 Q79.242 334.469 81.0476 330.927 Q82.8763 327.362 82.8763 320.256 Q82.8763 313.126 81.0476 309.585 Q79.242 306.02 75.6078 306.02 M75.6078 302.316 Q81.418 302.316 84.4735 306.923 Q87.5522 311.506 87.5522 320.256 Q87.5522 328.983 84.4735 333.589 Q81.418 338.172 75.6078 338.172 Q69.7976 338.172 66.719 333.589 Q63.6634 328.983 63.6634 320.256 Q63.6634 311.506 66.719 306.923 Q69.7976 302.316 75.6078 302.316 Z\" fill=\"#000000\" fill-rule=\"evenodd\" fill-opacity=\"1\" /><path clip-path=\"url(#clip270)\" d=\"M 0 0 M92.6216 331.622 L97.5058 331.622 L97.5058 337.501 L92.6216 337.501 L92.6216 331.622 Z\" fill=\"#000000\" fill-rule=\"evenodd\" fill-opacity=\"1\" /><path clip-path=\"url(#clip270)\" d=\"M 0 0 M102.714 336.784 L102.714 332.524 Q104.473 333.358 106.279 333.797 Q108.084 334.237 109.821 334.237 Q114.45 334.237 116.881 331.135 Q119.334 328.01 119.682 321.668 Q118.339 323.659 116.279 324.723 Q114.219 325.788 111.719 325.788 Q106.534 325.788 103.501 322.663 Q100.492 319.515 100.492 314.075 Q100.492 308.751 103.64 305.534 Q106.788 302.316 112.02 302.316 Q118.015 302.316 121.163 306.923 Q124.334 311.506 124.334 320.256 Q124.334 328.427 120.446 333.311 Q116.58 338.172 110.029 338.172 Q108.27 338.172 106.464 337.825 Q104.659 337.478 102.714 336.784 M112.02 322.131 Q115.168 322.131 116.996 319.978 Q118.848 317.825 118.848 314.075 Q118.848 310.349 116.996 308.196 Q115.168 306.02 112.02 306.02 Q108.872 306.02 107.02 308.196 Q105.191 310.349 105.191 314.075 Q105.191 317.825 107.02 319.978 Q108.872 322.131 112.02 322.131 Z\" fill=\"#000000\" fill-rule=\"evenodd\" fill-opacity=\"1\" /><path clip-path=\"url(#clip270)\" d=\"M 0 0 M67.4597 101.321 L75.0985 101.321 L75.0985 74.9555 L66.7884 76.6222 L66.7884 72.3629 L75.0522 70.6963 L79.7281 70.6963 L79.7281 101.321 L87.367 101.321 L87.367 105.256 L67.4597 105.256 L67.4597 101.321 Z\" fill=\"#000000\" fill-rule=\"evenodd\" fill-opacity=\"1\" /><path clip-path=\"url(#clip270)\" d=\"M 0 0 M92.4364 99.3767 L97.3206 99.3767 L97.3206 105.256 L92.4364 105.256 L92.4364 99.3767 Z\" fill=\"#000000\" fill-rule=\"evenodd\" fill-opacity=\"1\" /><path clip-path=\"url(#clip270)\" d=\"M 0 0 M112.39 73.775 Q108.779 73.775 106.95 77.3398 Q105.145 80.8814 105.145 88.011 Q105.145 95.1174 106.95 98.6822 Q108.779 102.224 112.39 102.224 Q116.024 102.224 117.83 98.6822 Q119.658 95.1174 119.658 88.011 Q119.658 80.8814 117.83 77.3398 Q116.024 73.775 112.39 73.775 M112.39 70.0713 Q118.2 70.0713 121.256 74.6777 Q124.334 79.261 124.334 88.011 Q124.334 96.7378 121.256 101.344 Q118.2 105.928 112.39 105.928 Q106.58 105.928 103.501 101.344 Q100.446 96.7378 100.446 88.011 Q100.446 79.261 103.501 74.6777 Q106.58 70.0713 112.39 70.0713 Z\" fill=\"#000000\" fill-rule=\"evenodd\" fill-opacity=\"1\" /><polyline clip-path=\"url(#clip272)\" style=\"stroke:#009af9; stroke-width:4; stroke-opacity:1; fill:none\" points=\"\n",
       "  210.724,784.711 241.307,242.806 271.89,204.099 302.473,87.9763 333.056,87.9763 363.639,353.399 394.222,87.9763 424.805,397.636 455.388,87.9763 485.971,87.9763 \n",
       "  516.554,87.9763 547.137,1445.72 577.719,386.577 608.302,397.636 638.885,117.007 669.468,415.851 700.051,397.636 730.634,381.338 761.217,366.67 791.8,87.9763 \n",
       "  822.383,341.334 852.966,330.319 883.549,87.9763 914.132,329.511 944.715,302.356 975.298,311.62 1005.88,320.221 1036.46,312.213 1067.05,289.255 1097.63,297.746 \n",
       "  1128.21,305.706 1158.8,200.58 1189.38,238.252 1219.96,220.688 1250.55,87.9763 1281.13,87.9763 1311.71,173.54 1342.29,99.8863 1372.88,122.813 1403.46,87.9763 \n",
       "  1434.04,87.9763 1464.63,98.7784 1495.21,87.9763 1525.79,139.586 1556.37,87.9763 1586.96,1293.67 1617.54,87.9763 1648.12,87.9763 1678.71,87.9763 1709.29,87.9763 \n",
       "  1739.87,1401.05 1770.46,307.075 1801.04,844.923 1831.62,315.999 1862.2,270.454 1892.79,210.21 1923.37,320.221 1953.95,300.539 1984.54,296.997 2015.12,95.5909 \n",
       "  2045.7,87.9763 2076.29,87.9763 2106.87,291.191 2137.45,295.21 2168.03,292.07 2198.62,289.024 2229.2,94.807 2259.78,114.903 2290.37,280.408 \n",
       "  \"/>\n",
       "<polyline clip-path=\"url(#clip272)\" style=\"stroke:#e26f46; stroke-width:4; stroke-opacity:1; fill:none\" points=\"\n",
       "  210.724,1433.94 241.307,431.065 271.89,483.848 302.473,431.065 333.056,378.282 363.639,378.282 394.222,351.891 424.805,299.108 455.388,351.891 485.971,351.891 \n",
       "  516.554,378.282 547.137,1433.94 577.719,246.325 608.302,246.325 638.885,351.891 669.468,272.717 700.051,246.325 730.634,246.325 761.217,246.325 791.8,246.325 \n",
       "  822.383,219.934 852.966,219.934 883.549,299.108 914.132,219.934 944.715,246.325 975.298,219.934 1005.88,219.934 1036.46,219.934 1067.05,246.325 1097.63,219.934 \n",
       "  1128.21,219.934 1158.8,219.934 1189.38,219.934 1219.96,219.934 1250.55,193.542 1281.13,219.934 1311.71,219.934 1342.29,193.542 1372.88,219.934 1403.46,167.151 \n",
       "  1434.04,219.934 1464.63,193.542 1495.21,193.542 1525.79,246.325 1556.37,193.542 1586.96,1433.94 1617.54,193.542 1648.12,193.542 1678.71,219.934 1709.29,219.934 \n",
       "  1739.87,1170.03 1770.46,246.325 1801.04,800.546 1831.62,246.325 1862.2,219.934 1892.79,219.934 1923.37,246.325 1953.95,219.934 1984.54,193.542 2015.12,167.151 \n",
       "  2045.7,193.542 2076.29,193.542 2106.87,219.934 2137.45,219.934 2168.03,193.542 2198.62,193.542 2229.2,193.542 2259.78,299.108 2290.37,246.325 \n",
       "  \"/>\n",
       "<path clip-path=\"url(#clip270)\" d=\"\n",
       "M1983.32 276.658 L2279.28 276.658 L2279.28 95.2176 L1983.32 95.2176  Z\n",
       "  \" fill=\"#ffffff\" fill-rule=\"evenodd\" fill-opacity=\"1\"/>\n",
       "<polyline clip-path=\"url(#clip270)\" style=\"stroke:#000000; stroke-width:4; stroke-opacity:1; fill:none\" points=\"\n",
       "  1983.32,276.658 2279.28,276.658 2279.28,95.2176 1983.32,95.2176 1983.32,276.658 \n",
       "  \"/>\n",
       "<polyline clip-path=\"url(#clip270)\" style=\"stroke:#009af9; stroke-width:4; stroke-opacity:1; fill:none\" points=\"\n",
       "  2007.81,155.698 2154.78,155.698 \n",
       "  \"/>\n",
       "<path clip-path=\"url(#clip270)\" d=\"M 0 0 M2193.11 175.385 Q2191.31 180.015 2189.59 181.427 Q2187.88 182.839 2185.01 182.839 L2181.61 182.839 L2181.61 179.274 L2184.11 179.274 Q2185.87 179.274 2186.84 178.44 Q2187.81 177.607 2188.99 174.505 L2189.76 172.561 L2179.27 147.052 L2183.78 147.052 L2191.89 167.329 L2199.99 147.052 L2204.5 147.052 L2193.11 175.385 Z\" fill=\"#000000\" fill-rule=\"evenodd\" fill-opacity=\"1\" /><path clip-path=\"url(#clip270)\" d=\"M 0 0 M2210.38 169.042 L2218.02 169.042 L2218.02 142.677 L2209.71 144.343 L2209.71 140.084 L2217.97 138.418 L2222.65 138.418 L2222.65 169.042 L2230.29 169.042 L2230.29 172.978 L2210.38 172.978 L2210.38 169.042 Z\" fill=\"#000000\" fill-rule=\"evenodd\" fill-opacity=\"1\" /><polyline clip-path=\"url(#clip270)\" style=\"stroke:#e26f46; stroke-width:4; stroke-opacity:1; fill:none\" points=\"\n",
       "  2007.81,216.178 2154.78,216.178 \n",
       "  \"/>\n",
       "<path clip-path=\"url(#clip270)\" d=\"M 0 0 M2193.11 235.865 Q2191.31 240.495 2189.59 241.907 Q2187.88 243.319 2185.01 243.319 L2181.61 243.319 L2181.61 239.754 L2184.11 239.754 Q2185.87 239.754 2186.84 238.92 Q2187.81 238.087 2188.99 234.985 L2189.76 233.041 L2179.27 207.532 L2183.78 207.532 L2191.89 227.809 L2199.99 207.532 L2204.5 207.532 L2193.11 235.865 Z\" fill=\"#000000\" fill-rule=\"evenodd\" fill-opacity=\"1\" /><path clip-path=\"url(#clip270)\" d=\"M 0 0 M2213.6 229.522 L2229.92 229.522 L2229.92 233.458 L2207.97 233.458 L2207.97 229.522 Q2210.64 226.768 2215.22 222.138 Q2219.83 217.485 2221.01 216.143 Q2223.25 213.62 2224.13 211.884 Q2225.03 210.124 2225.03 208.435 Q2225.03 205.68 2223.09 203.944 Q2221.17 202.208 2218.07 202.208 Q2215.87 202.208 2213.41 202.972 Q2210.98 203.735 2208.2 205.286 L2208.2 200.564 Q2211.03 199.43 2213.48 198.851 Q2215.94 198.273 2217.97 198.273 Q2223.34 198.273 2226.54 200.958 Q2229.73 203.643 2229.73 208.134 Q2229.73 210.263 2228.92 212.185 Q2228.14 214.083 2226.03 216.675 Q2225.45 217.347 2222.35 220.564 Q2219.25 223.759 2213.6 229.522 Z\" fill=\"#000000\" fill-rule=\"evenodd\" fill-opacity=\"1\" /></svg>\n"
      ]
     },
     "execution_count": 363,
     "metadata": {},
     "output_type": "execute_result"
    }
   ],
   "source": [
    "plot(data_schedule, training_losses)\n",
    "plot!(data_schedule, valid_losses)"
   ]
  },
  {
   "cell_type": "code",
   "execution_count": 130,
   "metadata": {},
   "outputs": [],
   "source": [
    "png(\"learning_curve_nn_3000epochs_balance\")"
   ]
  },
  {
   "cell_type": "markdown",
   "metadata": {},
   "source": [
    "# Final Results"
   ]
  },
  {
   "cell_type": "code",
   "execution_count": 364,
   "metadata": {
    "scrolled": true
   },
   "outputs": [
    {
     "data": {
      "text/plain": [
       "NeuralNetworkClassifier(\n",
       "    builder = CustomNN(\n",
       "            n1 = 72,\n",
       "            n2 = 29),\n",
       "    finaliser = NNlib.softmax,\n",
       "    optimiser = ADAM(0.001, (0.9, 0.999), IdDict{Any,Any}()),\n",
       "    loss = Flux.crossentropy,\n",
       "    epochs = 10,\n",
       "    batch_size = 1,\n",
       "    lambda = 0.0,\n",
       "    alpha = 0.0,\n",
       "    optimiser_changes_trigger_retraining = false)\u001b[34m @602\u001b[39m"
      ]
     },
     "execution_count": 364,
     "metadata": {},
     "output_type": "execute_result"
    }
   ],
   "source": [
    "final_model = NeuralNetworkClassifier(builder=CustomNN(best_n1,best_n2))"
   ]
  },
  {
   "cell_type": "code",
   "execution_count": 365,
   "metadata": {},
   "outputs": [
    {
     "data": {
      "text/plain": [
       "3000"
      ]
     },
     "execution_count": 365,
     "metadata": {},
     "output_type": "execute_result"
    }
   ],
   "source": [
    "final_model.optimiser.eta = lc_model.optimiser.eta = best_eta;\n",
    "final_model.batch_size = batch_sz\n",
    "final_model.lambda = best_lambda\n",
    "final_model.epochs = 3000"
   ]
  },
  {
   "cell_type": "code",
   "execution_count": 230,
   "metadata": {},
   "outputs": [
    {
     "data": {
      "text/plain": [
       "8"
      ]
     },
     "execution_count": 230,
     "metadata": {},
     "output_type": "execute_result"
    }
   ],
   "source": [
    "final_model = NeuralNetworkClassifier(builder=CustomNN(80,80))\n",
    "final_model.optimiser.eta = 0.01;\n",
    "final_model.lambda = 0.1\n",
    "final_model.epochs = 3000\n",
    "final_model.batch_size = batch_sz"
   ]
  },
  {
   "cell_type": "markdown",
   "metadata": {},
   "source": [
    "### Test Performance"
   ]
  },
  {
   "cell_type": "code",
   "execution_count": 366,
   "metadata": {},
   "outputs": [
    {
     "data": {
      "text/plain": [
       "\u001b[34mMachine{NeuralNetworkClassifier{CustomNN,…}} @899\u001b[39m trained 0 times.\n",
       "  args: \n",
       "    1:\t\u001b[34mSource @425\u001b[39m ⏎ `Table{AbstractArray{Continuous,1}}`\n",
       "    2:\t\u001b[34mSource @638\u001b[39m ⏎ `AbstractArray{Multiclass{3},1}`\n"
      ]
     },
     "execution_count": 366,
     "metadata": {},
     "output_type": "execute_result"
    }
   ],
   "source": [
    "Final_Net = machine(final_model, X_stand, y)"
   ]
  },
  {
   "cell_type": "code",
   "execution_count": 367,
   "metadata": {
    "scrolled": false
   },
   "outputs": [
    {
     "name": "stderr",
     "output_type": "stream",
     "text": [
      "┌ Info: Training \u001b[34mMachine{NeuralNetworkClassifier{CustomNN,…}} @899\u001b[39m.\n",
      "└ @ MLJBase /home/andrew/.julia/packages/MLJBase/uKzAz/src/machines.jl:319\n",
      "\u001b[33mOptimising neural net:100%[=========================] Time: 0:00:25\u001b[39m\n"
     ]
    },
    {
     "data": {
      "text/plain": [
       "\u001b[34mMachine{NeuralNetworkClassifier{CustomNN,…}} @899\u001b[39m trained 1 time.\n",
       "  args: \n",
       "    1:\t\u001b[34mSource @425\u001b[39m ⏎ `Table{AbstractArray{Continuous,1}}`\n",
       "    2:\t\u001b[34mSource @638\u001b[39m ⏎ `AbstractArray{Multiclass{3},1}`\n"
      ]
     },
     "execution_count": 367,
     "metadata": {},
     "output_type": "execute_result"
    }
   ],
   "source": [
    "fit!(Final_Net, rows=train, force=true, verbosity=1)"
   ]
  },
  {
   "cell_type": "code",
   "execution_count": 368,
   "metadata": {
    "scrolled": true
   },
   "outputs": [
    {
     "name": "stderr",
     "output_type": "stream",
     "text": [
      "┌ Info: Training \u001b[34mMachine{ProbabilisticTunedModel{Grid,…}} @440\u001b[39m.\n",
      "└ @ MLJBase /home/andrew/.julia/packages/MLJBase/uKzAz/src/machines.jl:319\n",
      "┌ Info: Attempting to evaluate 601 models.\n",
      "└ @ MLJTuning /home/andrew/.julia/packages/MLJTuning/Bbgvk/src/tuned_models.jl:494\n",
      "\u001b[33mEvaluating over 601 metamodels: 100%[=========================] Time: 0:00:28\u001b[39m\n"
     ]
    },
    {
     "data": {
      "text/plain": [
       "(parameter_name = \"epochs\",\n",
       " parameter_scale = :none,\n",
       " parameter_values = [0, 5, 10, 15, 20, 25, 30, 35, 40, 45  …  2955, 2960, 2965, 2970, 2975, 2980, 2985, 2990, 2995, 3000],\n",
       " measurements = [1.232387900352478, 0.9365378022193909, 0.6386847496032715, 0.6596091985702515, 0.6698125600814819, 0.6687132716178894, 0.6248385906219482, 0.6093200445175171, 0.6142428517341614, 0.6194220781326294  …  0.6145215034484863, 0.614519476890564, 0.6145173907279968, 0.6145153641700745, 0.6145133376121521, 0.6145113110542297, 0.6145092844963074, 0.614507257938385, 0.6145052313804626, 0.6145032048225403],)"
      ]
     },
     "execution_count": 368,
     "metadata": {},
     "output_type": "execute_result"
    }
   ],
   "source": [
    "vals = collect(0:5:max_epochs)\n",
    "r = range(final_model, :epochs, values=vals)\n",
    "# r = range(nn, :epochs, lower=0, upper=max_epochs)\n",
    "curve = learning_curve(Final_Net, \n",
    "                        range=r, \n",
    "                        resampling=Holdout(fraction_train=0.7), \n",
    "#                         resampling=CV(nfolds=4), \n",
    "                        measure=cross_entropy, \n",
    "                        acceleration=CPUThreads())"
   ]
  },
  {
   "cell_type": "code",
   "execution_count": 369,
   "metadata": {},
   "outputs": [
    {
     "data": {
      "image/svg+xml": [
       "<?xml version=\"1.0\" encoding=\"utf-8\"?>\n",
       "<svg xmlns=\"http://www.w3.org/2000/svg\" xmlns:xlink=\"http://www.w3.org/1999/xlink\" width=\"600\" height=\"400\" viewBox=\"0 0 2400 1600\">\n",
       "<defs>\n",
       "  <clipPath id=\"clip310\">\n",
       "    <rect x=\"0\" y=\"0\" width=\"2400\" height=\"1600\"/>\n",
       "  </clipPath>\n",
       "</defs>\n",
       "<path clip-path=\"url(#clip310)\" d=\"\n",
       "M0 1600 L2400 1600 L2400 0 L0 0  Z\n",
       "  \" fill=\"#ffffff\" fill-rule=\"evenodd\" fill-opacity=\"1\"/>\n",
       "<defs>\n",
       "  <clipPath id=\"clip311\">\n",
       "    <rect x=\"480\" y=\"0\" width=\"1681\" height=\"1600\"/>\n",
       "  </clipPath>\n",
       "</defs>\n",
       "<path clip-path=\"url(#clip310)\" d=\"\n",
       "M211.278 1423.18 L2352.76 1423.18 L2352.76 47.2441 L211.278 47.2441  Z\n",
       "  \" fill=\"#ffffff\" fill-rule=\"evenodd\" fill-opacity=\"1\"/>\n",
       "<defs>\n",
       "  <clipPath id=\"clip312\">\n",
       "    <rect x=\"211\" y=\"47\" width=\"2142\" height=\"1377\"/>\n",
       "  </clipPath>\n",
       "</defs>\n",
       "<polyline clip-path=\"url(#clip312)\" style=\"stroke:#000000; stroke-width:2; stroke-opacity:0.1; fill:none\" points=\"\n",
       "  271.886,1423.18 271.886,47.2441 \n",
       "  \"/>\n",
       "<polyline clip-path=\"url(#clip312)\" style=\"stroke:#000000; stroke-width:2; stroke-opacity:0.1; fill:none\" points=\"\n",
       "  945.307,1423.18 945.307,47.2441 \n",
       "  \"/>\n",
       "<polyline clip-path=\"url(#clip312)\" style=\"stroke:#000000; stroke-width:2; stroke-opacity:0.1; fill:none\" points=\"\n",
       "  1618.73,1423.18 1618.73,47.2441 \n",
       "  \"/>\n",
       "<polyline clip-path=\"url(#clip312)\" style=\"stroke:#000000; stroke-width:2; stroke-opacity:0.1; fill:none\" points=\"\n",
       "  2292.15,1423.18 2292.15,47.2441 \n",
       "  \"/>\n",
       "<polyline clip-path=\"url(#clip312)\" style=\"stroke:#000000; stroke-width:2; stroke-opacity:0.1; fill:none\" points=\"\n",
       "  211.278,1298.2 2352.76,1298.2 \n",
       "  \"/>\n",
       "<polyline clip-path=\"url(#clip312)\" style=\"stroke:#000000; stroke-width:2; stroke-opacity:0.1; fill:none\" points=\"\n",
       "  211.278,1106.54 2352.76,1106.54 \n",
       "  \"/>\n",
       "<polyline clip-path=\"url(#clip312)\" style=\"stroke:#000000; stroke-width:2; stroke-opacity:0.1; fill:none\" points=\"\n",
       "  211.278,914.887 2352.76,914.887 \n",
       "  \"/>\n",
       "<polyline clip-path=\"url(#clip312)\" style=\"stroke:#000000; stroke-width:2; stroke-opacity:0.1; fill:none\" points=\"\n",
       "  211.278,723.23 2352.76,723.23 \n",
       "  \"/>\n",
       "<polyline clip-path=\"url(#clip312)\" style=\"stroke:#000000; stroke-width:2; stroke-opacity:0.1; fill:none\" points=\"\n",
       "  211.278,531.573 2352.76,531.573 \n",
       "  \"/>\n",
       "<polyline clip-path=\"url(#clip312)\" style=\"stroke:#000000; stroke-width:2; stroke-opacity:0.1; fill:none\" points=\"\n",
       "  211.278,339.916 2352.76,339.916 \n",
       "  \"/>\n",
       "<polyline clip-path=\"url(#clip312)\" style=\"stroke:#000000; stroke-width:2; stroke-opacity:0.1; fill:none\" points=\"\n",
       "  211.278,148.259 2352.76,148.259 \n",
       "  \"/>\n",
       "<polyline clip-path=\"url(#clip310)\" style=\"stroke:#000000; stroke-width:4; stroke-opacity:1; fill:none\" points=\"\n",
       "  211.278,1423.18 2352.76,1423.18 \n",
       "  \"/>\n",
       "<polyline clip-path=\"url(#clip310)\" style=\"stroke:#000000; stroke-width:4; stroke-opacity:1; fill:none\" points=\"\n",
       "  211.278,1423.18 211.278,47.2441 \n",
       "  \"/>\n",
       "<polyline clip-path=\"url(#clip310)\" style=\"stroke:#000000; stroke-width:4; stroke-opacity:1; fill:none\" points=\"\n",
       "  271.886,1423.18 271.886,1406.67 \n",
       "  \"/>\n",
       "<polyline clip-path=\"url(#clip310)\" style=\"stroke:#000000; stroke-width:4; stroke-opacity:1; fill:none\" points=\"\n",
       "  945.307,1423.18 945.307,1406.67 \n",
       "  \"/>\n",
       "<polyline clip-path=\"url(#clip310)\" style=\"stroke:#000000; stroke-width:4; stroke-opacity:1; fill:none\" points=\"\n",
       "  1618.73,1423.18 1618.73,1406.67 \n",
       "  \"/>\n",
       "<polyline clip-path=\"url(#clip310)\" style=\"stroke:#000000; stroke-width:4; stroke-opacity:1; fill:none\" points=\"\n",
       "  2292.15,1423.18 2292.15,1406.67 \n",
       "  \"/>\n",
       "<polyline clip-path=\"url(#clip310)\" style=\"stroke:#000000; stroke-width:4; stroke-opacity:1; fill:none\" points=\"\n",
       "  211.278,1298.2 236.976,1298.2 \n",
       "  \"/>\n",
       "<polyline clip-path=\"url(#clip310)\" style=\"stroke:#000000; stroke-width:4; stroke-opacity:1; fill:none\" points=\"\n",
       "  211.278,1106.54 236.976,1106.54 \n",
       "  \"/>\n",
       "<polyline clip-path=\"url(#clip310)\" style=\"stroke:#000000; stroke-width:4; stroke-opacity:1; fill:none\" points=\"\n",
       "  211.278,914.887 236.976,914.887 \n",
       "  \"/>\n",
       "<polyline clip-path=\"url(#clip310)\" style=\"stroke:#000000; stroke-width:4; stroke-opacity:1; fill:none\" points=\"\n",
       "  211.278,723.23 236.976,723.23 \n",
       "  \"/>\n",
       "<polyline clip-path=\"url(#clip310)\" style=\"stroke:#000000; stroke-width:4; stroke-opacity:1; fill:none\" points=\"\n",
       "  211.278,531.573 236.976,531.573 \n",
       "  \"/>\n",
       "<polyline clip-path=\"url(#clip310)\" style=\"stroke:#000000; stroke-width:4; stroke-opacity:1; fill:none\" points=\"\n",
       "  211.278,339.916 236.976,339.916 \n",
       "  \"/>\n",
       "<polyline clip-path=\"url(#clip310)\" style=\"stroke:#000000; stroke-width:4; stroke-opacity:1; fill:none\" points=\"\n",
       "  211.278,148.259 236.976,148.259 \n",
       "  \"/>\n",
       "<path clip-path=\"url(#clip310)\" d=\"M 0 0 M271.886 1445.17 Q268.275 1445.17 266.446 1448.74 Q264.641 1452.28 264.641 1459.41 Q264.641 1466.51 266.446 1470.08 Q268.275 1473.62 271.886 1473.62 Q275.52 1473.62 277.326 1470.08 Q279.155 1466.51 279.155 1459.41 Q279.155 1452.28 277.326 1448.74 Q275.52 1445.17 271.886 1445.17 M271.886 1441.47 Q277.696 1441.47 280.752 1446.07 Q283.831 1450.66 283.831 1459.41 Q283.831 1468.13 280.752 1472.74 Q277.696 1477.32 271.886 1477.32 Q266.076 1477.32 262.997 1472.74 Q259.942 1468.13 259.942 1459.41 Q259.942 1450.66 262.997 1446.07 Q266.076 1441.47 271.886 1441.47 Z\" fill=\"#000000\" fill-rule=\"evenodd\" fill-opacity=\"1\" /><path clip-path=\"url(#clip310)\" d=\"M 0 0 M895.168 1472.72 L902.807 1472.72 L902.807 1446.35 L894.497 1448.02 L894.497 1443.76 L902.761 1442.09 L907.437 1442.09 L907.437 1472.72 L915.076 1472.72 L915.076 1476.65 L895.168 1476.65 L895.168 1472.72 Z\" fill=\"#000000\" fill-rule=\"evenodd\" fill-opacity=\"1\" /><path clip-path=\"url(#clip310)\" d=\"M 0 0 M930.145 1445.17 Q926.534 1445.17 924.705 1448.74 Q922.9 1452.28 922.9 1459.41 Q922.9 1466.51 924.705 1470.08 Q926.534 1473.62 930.145 1473.62 Q933.779 1473.62 935.585 1470.08 Q937.413 1466.51 937.413 1459.41 Q937.413 1452.28 935.585 1448.74 Q933.779 1445.17 930.145 1445.17 M930.145 1441.47 Q935.955 1441.47 939.011 1446.07 Q942.089 1450.66 942.089 1459.41 Q942.089 1468.13 939.011 1472.74 Q935.955 1477.32 930.145 1477.32 Q924.335 1477.32 921.256 1472.74 Q918.2 1468.13 918.2 1459.41 Q918.2 1450.66 921.256 1446.07 Q924.335 1441.47 930.145 1441.47 Z\" fill=\"#000000\" fill-rule=\"evenodd\" fill-opacity=\"1\" /><path clip-path=\"url(#clip310)\" d=\"M 0 0 M957.159 1445.17 Q953.548 1445.17 951.719 1448.74 Q949.913 1452.28 949.913 1459.41 Q949.913 1466.51 951.719 1470.08 Q953.548 1473.62 957.159 1473.62 Q960.793 1473.62 962.598 1470.08 Q964.427 1466.51 964.427 1459.41 Q964.427 1452.28 962.598 1448.74 Q960.793 1445.17 957.159 1445.17 M957.159 1441.47 Q962.969 1441.47 966.024 1446.07 Q969.103 1450.66 969.103 1459.41 Q969.103 1468.13 966.024 1472.74 Q962.969 1477.32 957.159 1477.32 Q951.348 1477.32 948.27 1472.74 Q945.214 1468.13 945.214 1459.41 Q945.214 1450.66 948.27 1446.07 Q951.348 1441.47 957.159 1441.47 Z\" fill=\"#000000\" fill-rule=\"evenodd\" fill-opacity=\"1\" /><path clip-path=\"url(#clip310)\" d=\"M 0 0 M984.172 1445.17 Q980.561 1445.17 978.733 1448.74 Q976.927 1452.28 976.927 1459.41 Q976.927 1466.51 978.733 1470.08 Q980.561 1473.62 984.172 1473.62 Q987.807 1473.62 989.612 1470.08 Q991.441 1466.51 991.441 1459.41 Q991.441 1452.28 989.612 1448.74 Q987.807 1445.17 984.172 1445.17 M984.172 1441.47 Q989.983 1441.47 993.038 1446.07 Q996.117 1450.66 996.117 1459.41 Q996.117 1468.13 993.038 1472.74 Q989.983 1477.32 984.172 1477.32 Q978.362 1477.32 975.284 1472.74 Q972.228 1468.13 972.228 1459.41 Q972.228 1450.66 975.284 1446.07 Q978.362 1441.47 984.172 1441.47 Z\" fill=\"#000000\" fill-rule=\"evenodd\" fill-opacity=\"1\" /><path clip-path=\"url(#clip310)\" d=\"M 0 0 M1572.86 1472.72 L1589.18 1472.72 L1589.18 1476.65 L1567.23 1476.65 L1567.23 1472.72 Q1569.9 1469.96 1574.48 1465.33 Q1579.09 1460.68 1580.27 1459.34 Q1582.51 1456.81 1583.39 1455.08 Q1584.29 1453.32 1584.29 1451.63 Q1584.29 1448.87 1582.35 1447.14 Q1580.43 1445.4 1577.33 1445.4 Q1575.13 1445.4 1572.67 1446.17 Q1570.24 1446.93 1567.47 1448.48 L1567.47 1443.76 Q1570.29 1442.62 1572.74 1442.05 Q1575.2 1441.47 1577.23 1441.47 Q1582.6 1441.47 1585.8 1444.15 Q1588.99 1446.84 1588.99 1451.33 Q1588.99 1453.46 1588.18 1455.38 Q1587.4 1457.28 1585.29 1459.87 Q1584.71 1460.54 1581.61 1463.76 Q1578.51 1466.95 1572.86 1472.72 Z\" fill=\"#000000\" fill-rule=\"evenodd\" fill-opacity=\"1\" /><path clip-path=\"url(#clip310)\" d=\"M 0 0 M1604.25 1445.17 Q1600.64 1445.17 1598.81 1448.74 Q1597 1452.28 1597 1459.41 Q1597 1466.51 1598.81 1470.08 Q1600.64 1473.62 1604.25 1473.62 Q1607.88 1473.62 1609.69 1470.08 Q1611.52 1466.51 1611.52 1459.41 Q1611.52 1452.28 1609.69 1448.74 Q1607.88 1445.17 1604.25 1445.17 M1604.25 1441.47 Q1610.06 1441.47 1613.11 1446.07 Q1616.19 1450.66 1616.19 1459.41 Q1616.19 1468.13 1613.11 1472.74 Q1610.06 1477.32 1604.25 1477.32 Q1598.44 1477.32 1595.36 1472.74 Q1592.3 1468.13 1592.3 1459.41 Q1592.3 1450.66 1595.36 1446.07 Q1598.44 1441.47 1604.25 1441.47 Z\" fill=\"#000000\" fill-rule=\"evenodd\" fill-opacity=\"1\" /><path clip-path=\"url(#clip310)\" d=\"M 0 0 M1631.26 1445.17 Q1627.65 1445.17 1625.82 1448.74 Q1624.02 1452.28 1624.02 1459.41 Q1624.02 1466.51 1625.82 1470.08 Q1627.65 1473.62 1631.26 1473.62 Q1634.9 1473.62 1636.7 1470.08 Q1638.53 1466.51 1638.53 1459.41 Q1638.53 1452.28 1636.7 1448.74 Q1634.9 1445.17 1631.26 1445.17 M1631.26 1441.47 Q1637.07 1441.47 1640.13 1446.07 Q1643.21 1450.66 1643.21 1459.41 Q1643.21 1468.13 1640.13 1472.74 Q1637.07 1477.32 1631.26 1477.32 Q1625.45 1477.32 1622.37 1472.74 Q1619.32 1468.13 1619.32 1459.41 Q1619.32 1450.66 1622.37 1446.07 Q1625.45 1441.47 1631.26 1441.47 Z\" fill=\"#000000\" fill-rule=\"evenodd\" fill-opacity=\"1\" /><path clip-path=\"url(#clip310)\" d=\"M 0 0 M1658.28 1445.17 Q1654.66 1445.17 1652.84 1448.74 Q1651.03 1452.28 1651.03 1459.41 Q1651.03 1466.51 1652.84 1470.08 Q1654.66 1473.62 1658.28 1473.62 Q1661.91 1473.62 1663.72 1470.08 Q1665.54 1466.51 1665.54 1459.41 Q1665.54 1452.28 1663.72 1448.74 Q1661.91 1445.17 1658.28 1445.17 M1658.28 1441.47 Q1664.09 1441.47 1667.14 1446.07 Q1670.22 1450.66 1670.22 1459.41 Q1670.22 1468.13 1667.14 1472.74 Q1664.09 1477.32 1658.28 1477.32 Q1652.47 1477.32 1649.39 1472.74 Q1646.33 1468.13 1646.33 1459.41 Q1646.33 1450.66 1649.39 1446.07 Q1652.47 1441.47 1658.28 1441.47 Z\" fill=\"#000000\" fill-rule=\"evenodd\" fill-opacity=\"1\" /><path clip-path=\"url(#clip310)\" d=\"M 0 0 M2255.88 1458.02 Q2259.23 1458.74 2261.11 1461 Q2263 1463.27 2263 1466.61 Q2263 1471.72 2259.49 1474.52 Q2255.97 1477.32 2249.49 1477.32 Q2247.31 1477.32 2245 1476.88 Q2242.7 1476.47 2240.25 1475.61 L2240.25 1471.1 Q2242.19 1472.23 2244.51 1472.81 Q2246.82 1473.39 2249.35 1473.39 Q2253.75 1473.39 2256.04 1471.65 Q2258.35 1469.92 2258.35 1466.61 Q2258.35 1463.55 2256.2 1461.84 Q2254.07 1460.1 2250.25 1460.1 L2246.22 1460.1 L2246.22 1456.26 L2250.44 1456.26 Q2253.88 1456.26 2255.71 1454.89 Q2257.54 1453.5 2257.54 1450.91 Q2257.54 1448.25 2255.64 1446.84 Q2253.77 1445.4 2250.25 1445.4 Q2248.33 1445.4 2246.13 1445.82 Q2243.93 1446.24 2241.29 1447.11 L2241.29 1442.95 Q2243.95 1442.21 2246.27 1441.84 Q2248.61 1441.47 2250.67 1441.47 Q2255.99 1441.47 2259.09 1443.9 Q2262.19 1446.3 2262.19 1450.43 Q2262.19 1453.3 2260.55 1455.29 Q2258.91 1457.25 2255.88 1458.02 Z\" fill=\"#000000\" fill-rule=\"evenodd\" fill-opacity=\"1\" /><path clip-path=\"url(#clip310)\" d=\"M 0 0 M2278.07 1445.17 Q2274.46 1445.17 2272.63 1448.74 Q2270.83 1452.28 2270.83 1459.41 Q2270.83 1466.51 2272.63 1470.08 Q2274.46 1473.62 2278.07 1473.62 Q2281.71 1473.62 2283.51 1470.08 Q2285.34 1466.51 2285.34 1459.41 Q2285.34 1452.28 2283.51 1448.74 Q2281.71 1445.17 2278.07 1445.17 M2278.07 1441.47 Q2283.88 1441.47 2286.94 1446.07 Q2290.02 1450.66 2290.02 1459.41 Q2290.02 1468.13 2286.94 1472.74 Q2283.88 1477.32 2278.07 1477.32 Q2272.26 1477.32 2269.19 1472.74 Q2266.13 1468.13 2266.13 1459.41 Q2266.13 1450.66 2269.19 1446.07 Q2272.26 1441.47 2278.07 1441.47 Z\" fill=\"#000000\" fill-rule=\"evenodd\" fill-opacity=\"1\" /><path clip-path=\"url(#clip310)\" d=\"M 0 0 M2305.09 1445.17 Q2301.48 1445.17 2299.65 1448.74 Q2297.84 1452.28 2297.84 1459.41 Q2297.84 1466.51 2299.65 1470.08 Q2301.48 1473.62 2305.09 1473.62 Q2308.72 1473.62 2310.53 1470.08 Q2312.36 1466.51 2312.36 1459.41 Q2312.36 1452.28 2310.53 1448.74 Q2308.72 1445.17 2305.09 1445.17 M2305.09 1441.47 Q2310.9 1441.47 2313.95 1446.07 Q2317.03 1450.66 2317.03 1459.41 Q2317.03 1468.13 2313.95 1472.74 Q2310.9 1477.32 2305.09 1477.32 Q2299.28 1477.32 2296.2 1472.74 Q2293.14 1468.13 2293.14 1459.41 Q2293.14 1450.66 2296.2 1446.07 Q2299.28 1441.47 2305.09 1441.47 Z\" fill=\"#000000\" fill-rule=\"evenodd\" fill-opacity=\"1\" /><path clip-path=\"url(#clip310)\" d=\"M 0 0 M2332.1 1445.17 Q2328.49 1445.17 2326.66 1448.74 Q2324.86 1452.28 2324.86 1459.41 Q2324.86 1466.51 2326.66 1470.08 Q2328.49 1473.62 2332.1 1473.62 Q2335.74 1473.62 2337.54 1470.08 Q2339.37 1466.51 2339.37 1459.41 Q2339.37 1452.28 2337.54 1448.74 Q2335.74 1445.17 2332.1 1445.17 M2332.1 1441.47 Q2337.91 1441.47 2340.97 1446.07 Q2344.05 1450.66 2344.05 1459.41 Q2344.05 1468.13 2340.97 1472.74 Q2337.91 1477.32 2332.1 1477.32 Q2326.29 1477.32 2323.21 1472.74 Q2320.16 1468.13 2320.16 1459.41 Q2320.16 1450.66 2323.21 1446.07 Q2326.29 1441.47 2332.1 1441.47 Z\" fill=\"#000000\" fill-rule=\"evenodd\" fill-opacity=\"1\" /><path clip-path=\"url(#clip310)\" d=\"M 0 0 M138.205 1284 Q134.593 1284 132.765 1287.56 Q130.959 1291.11 130.959 1298.24 Q130.959 1305.34 132.765 1308.91 Q134.593 1312.45 138.205 1312.45 Q141.839 1312.45 143.644 1308.91 Q145.473 1305.34 145.473 1298.24 Q145.473 1291.11 143.644 1287.56 Q141.839 1284 138.205 1284 M138.205 1280.3 Q144.015 1280.3 147.07 1284.9 Q150.149 1289.49 150.149 1298.24 Q150.149 1306.96 147.07 1311.57 Q144.015 1316.15 138.205 1316.15 Q132.394 1316.15 129.316 1311.57 Q126.26 1306.96 126.26 1298.24 Q126.26 1289.49 129.316 1284.9 Q132.394 1280.3 138.205 1280.3 Z\" fill=\"#000000\" fill-rule=\"evenodd\" fill-opacity=\"1\" /><path clip-path=\"url(#clip310)\" d=\"M 0 0 M155.218 1309.6 L160.103 1309.6 L160.103 1315.48 L155.218 1315.48 L155.218 1309.6 Z\" fill=\"#000000\" fill-rule=\"evenodd\" fill-opacity=\"1\" /><path clip-path=\"url(#clip310)\" d=\"M 0 0 M175.751 1296.34 Q172.603 1296.34 170.751 1298.49 Q168.922 1300.64 168.922 1304.39 Q168.922 1308.12 170.751 1310.3 Q172.603 1312.45 175.751 1312.45 Q178.899 1312.45 180.727 1310.3 Q182.579 1308.12 182.579 1304.39 Q182.579 1300.64 180.727 1298.49 Q178.899 1296.34 175.751 1296.34 M185.033 1281.69 L185.033 1285.94 Q183.274 1285.11 181.468 1284.67 Q179.686 1284.23 177.927 1284.23 Q173.297 1284.23 170.843 1287.36 Q168.413 1290.48 168.065 1296.8 Q169.431 1294.79 171.491 1293.72 Q173.552 1292.63 176.028 1292.63 Q181.237 1292.63 184.246 1295.81 Q187.278 1298.95 187.278 1304.39 Q187.278 1309.72 184.13 1312.94 Q180.982 1316.15 175.751 1316.15 Q169.755 1316.15 166.584 1311.57 Q163.413 1306.96 163.413 1298.24 Q163.413 1290.04 167.302 1285.18 Q171.19 1280.3 177.741 1280.3 Q179.501 1280.3 181.283 1280.64 Q183.089 1280.99 185.033 1281.69 Z\" fill=\"#000000\" fill-rule=\"evenodd\" fill-opacity=\"1\" /><path clip-path=\"url(#clip310)\" d=\"M 0 0 M139.269 1092.34 Q135.658 1092.34 133.83 1095.91 Q132.024 1099.45 132.024 1106.58 Q132.024 1113.69 133.83 1117.25 Q135.658 1120.79 139.269 1120.79 Q142.904 1120.79 144.709 1117.25 Q146.538 1113.69 146.538 1106.58 Q146.538 1099.45 144.709 1095.91 Q142.904 1092.34 139.269 1092.34 M139.269 1088.64 Q145.08 1088.64 148.135 1093.25 Q151.214 1097.83 151.214 1106.58 Q151.214 1115.31 148.135 1119.91 Q145.08 1124.5 139.269 1124.5 Q133.459 1124.5 130.381 1119.91 Q127.325 1115.31 127.325 1106.58 Q127.325 1097.83 130.381 1093.25 Q133.459 1088.64 139.269 1088.64 Z\" fill=\"#000000\" fill-rule=\"evenodd\" fill-opacity=\"1\" /><path clip-path=\"url(#clip310)\" d=\"M 0 0 M156.283 1117.94 L161.167 1117.94 L161.167 1123.82 L156.283 1123.82 L156.283 1117.94 Z\" fill=\"#000000\" fill-rule=\"evenodd\" fill-opacity=\"1\" /><path clip-path=\"url(#clip310)\" d=\"M 0 0 M165.056 1089.26 L187.278 1089.26 L187.278 1091.26 L174.732 1123.82 L169.848 1123.82 L181.653 1093.2 L165.056 1093.2 L165.056 1089.26 Z\" fill=\"#000000\" fill-rule=\"evenodd\" fill-opacity=\"1\" /><path clip-path=\"url(#clip310)\" d=\"M 0 0 M138.459 900.686 Q134.848 900.686 133.019 904.251 Q131.214 907.792 131.214 914.922 Q131.214 922.029 133.019 925.593 Q134.848 929.135 138.459 929.135 Q142.093 929.135 143.899 925.593 Q145.728 922.029 145.728 914.922 Q145.728 907.792 143.899 904.251 Q142.093 900.686 138.459 900.686 M138.459 896.982 Q144.269 896.982 147.325 901.589 Q150.404 906.172 150.404 914.922 Q150.404 923.649 147.325 928.255 Q144.269 932.839 138.459 932.839 Q132.649 932.839 129.57 928.255 Q126.515 923.649 126.515 914.922 Q126.515 906.172 129.57 901.589 Q132.649 896.982 138.459 896.982 Z\" fill=\"#000000\" fill-rule=\"evenodd\" fill-opacity=\"1\" /><path clip-path=\"url(#clip310)\" d=\"M 0 0 M155.473 926.288 L160.357 926.288 L160.357 932.167 L155.473 932.167 L155.473 926.288 Z\" fill=\"#000000\" fill-rule=\"evenodd\" fill-opacity=\"1\" /><path clip-path=\"url(#clip310)\" d=\"M 0 0 M175.427 915.755 Q172.093 915.755 170.172 917.538 Q168.274 919.32 168.274 922.445 Q168.274 925.57 170.172 927.353 Q172.093 929.135 175.427 929.135 Q178.76 929.135 180.681 927.353 Q182.602 925.547 182.602 922.445 Q182.602 919.32 180.681 917.538 Q178.783 915.755 175.427 915.755 M170.751 913.765 Q167.741 913.024 166.052 910.964 Q164.385 908.904 164.385 905.941 Q164.385 901.797 167.325 899.39 Q170.288 896.982 175.427 896.982 Q180.589 896.982 183.528 899.39 Q186.468 901.797 186.468 905.941 Q186.468 908.904 184.778 910.964 Q183.112 913.024 180.126 913.765 Q183.505 914.552 185.38 916.843 Q187.278 919.135 187.278 922.445 Q187.278 927.468 184.2 930.153 Q181.144 932.839 175.427 932.839 Q169.709 932.839 166.63 930.153 Q163.575 927.468 163.575 922.445 Q163.575 919.135 165.473 916.843 Q167.371 914.552 170.751 913.765 M169.038 906.38 Q169.038 909.066 170.704 910.57 Q172.394 912.075 175.427 912.075 Q178.436 912.075 180.126 910.57 Q181.839 909.066 181.839 906.38 Q181.839 903.695 180.126 902.191 Q178.436 900.686 175.427 900.686 Q172.394 900.686 170.704 902.191 Q169.038 903.695 169.038 906.38 Z\" fill=\"#000000\" fill-rule=\"evenodd\" fill-opacity=\"1\" /><path clip-path=\"url(#clip310)\" d=\"M 0 0 M138.552 709.029 Q134.941 709.029 133.112 712.594 Q131.306 716.135 131.306 723.265 Q131.306 730.372 133.112 733.936 Q134.941 737.478 138.552 737.478 Q142.186 737.478 143.992 733.936 Q145.82 730.372 145.82 723.265 Q145.82 716.135 143.992 712.594 Q142.186 709.029 138.552 709.029 M138.552 705.325 Q144.362 705.325 147.417 709.932 Q150.496 714.515 150.496 723.265 Q150.496 731.992 147.417 736.598 Q144.362 741.182 138.552 741.182 Q132.742 741.182 129.663 736.598 Q126.607 731.992 126.607 723.265 Q126.607 714.515 129.663 709.932 Q132.742 705.325 138.552 705.325 Z\" fill=\"#000000\" fill-rule=\"evenodd\" fill-opacity=\"1\" /><path clip-path=\"url(#clip310)\" d=\"M 0 0 M155.566 734.631 L160.45 734.631 L160.45 740.51 L155.566 740.51 L155.566 734.631 Z\" fill=\"#000000\" fill-rule=\"evenodd\" fill-opacity=\"1\" /><path clip-path=\"url(#clip310)\" d=\"M 0 0 M165.658 739.793 L165.658 735.534 Q167.417 736.367 169.223 736.807 Q171.028 737.246 172.765 737.246 Q177.394 737.246 179.825 734.145 Q182.278 731.02 182.626 724.677 Q181.283 726.668 179.223 727.733 Q177.163 728.797 174.663 728.797 Q169.478 728.797 166.445 725.672 Q163.436 722.524 163.436 717.085 Q163.436 711.76 166.584 708.543 Q169.732 705.325 174.964 705.325 Q180.959 705.325 184.107 709.932 Q187.278 714.515 187.278 723.265 Q187.278 731.436 183.389 736.321 Q179.524 741.182 172.973 741.182 Q171.214 741.182 169.408 740.834 Q167.603 740.487 165.658 739.793 M174.964 725.14 Q178.112 725.14 179.94 722.987 Q181.792 720.835 181.792 717.085 Q181.792 713.358 179.94 711.205 Q178.112 709.029 174.964 709.029 Q171.815 709.029 169.964 711.205 Q168.135 713.358 168.135 717.085 Q168.135 720.835 169.964 722.987 Q171.815 725.14 174.964 725.14 Z\" fill=\"#000000\" fill-rule=\"evenodd\" fill-opacity=\"1\" /><path clip-path=\"url(#clip310)\" d=\"M 0 0 M130.404 544.918 L138.043 544.918 L138.043 518.553 L129.732 520.219 L129.732 515.96 L137.996 514.293 L142.672 514.293 L142.672 544.918 L150.311 544.918 L150.311 548.853 L130.404 548.853 L130.404 544.918 Z\" fill=\"#000000\" fill-rule=\"evenodd\" fill-opacity=\"1\" /><path clip-path=\"url(#clip310)\" d=\"M 0 0 M155.38 542.974 L160.265 542.974 L160.265 548.853 L155.38 548.853 L155.38 542.974 Z\" fill=\"#000000\" fill-rule=\"evenodd\" fill-opacity=\"1\" /><path clip-path=\"url(#clip310)\" d=\"M 0 0 M175.334 517.372 Q171.723 517.372 169.894 520.937 Q168.089 524.478 168.089 531.608 Q168.089 538.715 169.894 542.279 Q171.723 545.821 175.334 545.821 Q178.968 545.821 180.774 542.279 Q182.602 538.715 182.602 531.608 Q182.602 524.478 180.774 520.937 Q178.968 517.372 175.334 517.372 M175.334 513.668 Q181.144 513.668 184.2 518.275 Q187.278 522.858 187.278 531.608 Q187.278 540.335 184.2 544.941 Q181.144 549.525 175.334 549.525 Q169.524 549.525 166.445 544.941 Q163.39 540.335 163.39 531.608 Q163.39 522.858 166.445 518.275 Q169.524 513.668 175.334 513.668 Z\" fill=\"#000000\" fill-rule=\"evenodd\" fill-opacity=\"1\" /><path clip-path=\"url(#clip310)\" d=\"M 0 0 M131.63 353.261 L139.269 353.261 L139.269 326.896 L130.959 328.562 L130.959 324.303 L139.223 322.636 L143.899 322.636 L143.899 353.261 L151.538 353.261 L151.538 357.196 L131.63 357.196 L131.63 353.261 Z\" fill=\"#000000\" fill-rule=\"evenodd\" fill-opacity=\"1\" /><path clip-path=\"url(#clip310)\" d=\"M 0 0 M156.607 351.317 L161.491 351.317 L161.491 357.196 L156.607 357.196 L156.607 351.317 Z\" fill=\"#000000\" fill-rule=\"evenodd\" fill-opacity=\"1\" /><path clip-path=\"url(#clip310)\" d=\"M 0 0 M167.371 353.261 L175.01 353.261 L175.01 326.896 L166.7 328.562 L166.7 324.303 L174.964 322.636 L179.64 322.636 L179.64 353.261 L187.278 353.261 L187.278 357.196 L167.371 357.196 L167.371 353.261 Z\" fill=\"#000000\" fill-rule=\"evenodd\" fill-opacity=\"1\" /><path clip-path=\"url(#clip310)\" d=\"M 0 0 M132.001 161.604 L139.64 161.604 L139.64 135.239 L131.33 136.905 L131.33 132.646 L139.593 130.979 L144.269 130.979 L144.269 161.604 L151.908 161.604 L151.908 165.539 L132.001 165.539 L132.001 161.604 Z\" fill=\"#000000\" fill-rule=\"evenodd\" fill-opacity=\"1\" /><path clip-path=\"url(#clip310)\" d=\"M 0 0 M156.978 159.66 L161.862 159.66 L161.862 165.539 L156.978 165.539 L156.978 159.66 Z\" fill=\"#000000\" fill-rule=\"evenodd\" fill-opacity=\"1\" /><path clip-path=\"url(#clip310)\" d=\"M 0 0 M170.959 161.604 L187.278 161.604 L187.278 165.539 L165.334 165.539 L165.334 161.604 Q167.996 158.85 172.579 154.22 Q177.186 149.567 178.366 148.225 Q180.612 145.701 181.491 143.965 Q182.394 142.206 182.394 140.516 Q182.394 137.762 180.45 136.026 Q178.528 134.29 175.427 134.29 Q173.227 134.29 170.774 135.053 Q168.343 135.817 165.566 137.368 L165.566 132.646 Q168.39 131.512 170.843 130.933 Q173.297 130.354 175.334 130.354 Q180.704 130.354 183.899 133.04 Q187.093 135.725 187.093 140.215 Q187.093 142.345 186.283 144.266 Q185.496 146.164 183.389 148.757 Q182.811 149.428 179.709 152.646 Q176.607 155.84 170.959 161.604 Z\" fill=\"#000000\" fill-rule=\"evenodd\" fill-opacity=\"1\" /><path clip-path=\"url(#clip310)\" d=\"M 0 0 M1212.3 1536.76 L1212.3 1539.62 L1185.37 1539.62 Q1185.75 1545.67 1189 1548.85 Q1192.28 1552 1198.1 1552 Q1201.48 1552 1204.63 1551.17 Q1207.81 1550.35 1210.93 1548.69 L1210.93 1554.23 Q1207.78 1555.57 1204.47 1556.27 Q1201.16 1556.97 1197.75 1556.97 Q1189.22 1556.97 1184.22 1552 Q1179.26 1547.04 1179.26 1538.57 Q1179.26 1529.82 1183.97 1524.69 Q1188.71 1519.54 1196.73 1519.54 Q1203.93 1519.54 1208.1 1524.18 Q1212.3 1528.8 1212.3 1536.76 M1206.44 1535.04 Q1206.38 1530.23 1203.73 1527.37 Q1201.12 1524.5 1196.8 1524.5 Q1191.89 1524.5 1188.93 1527.27 Q1186.01 1530.04 1185.56 1535.07 L1206.44 1535.04 Z\" fill=\"#000000\" fill-rule=\"evenodd\" fill-opacity=\"1\" /><path clip-path=\"url(#clip310)\" d=\"M 0 0 M1224.11 1550.7 L1224.11 1569.6 L1218.22 1569.6 L1218.22 1520.4 L1224.11 1520.4 L1224.11 1525.81 Q1225.95 1522.62 1228.75 1521.1 Q1231.58 1519.54 1235.5 1519.54 Q1241.99 1519.54 1246.03 1524.69 Q1250.11 1529.85 1250.11 1538.25 Q1250.11 1546.65 1246.03 1551.81 Q1241.99 1556.97 1235.5 1556.97 Q1231.58 1556.97 1228.75 1555.44 Q1225.95 1553.88 1224.11 1550.7 M1244.03 1538.25 Q1244.03 1531.79 1241.36 1528.13 Q1238.71 1524.44 1234.07 1524.44 Q1229.42 1524.44 1226.75 1528.13 Q1224.11 1531.79 1224.11 1538.25 Q1224.11 1544.71 1226.75 1548.4 Q1229.42 1552.07 1234.07 1552.07 Q1238.71 1552.07 1241.36 1548.4 Q1244.03 1544.71 1244.03 1538.25 Z\" fill=\"#000000\" fill-rule=\"evenodd\" fill-opacity=\"1\" /><path clip-path=\"url(#clip310)\" d=\"M 0 0 M1270.07 1524.5 Q1265.35 1524.5 1262.62 1528.19 Q1259.88 1531.85 1259.88 1538.25 Q1259.88 1544.65 1262.59 1548.34 Q1265.32 1552 1270.07 1552 Q1274.74 1552 1277.48 1548.31 Q1280.22 1544.62 1280.22 1538.25 Q1280.22 1531.92 1277.48 1528.23 Q1274.74 1524.5 1270.07 1524.5 M1270.07 1519.54 Q1277.7 1519.54 1282.06 1524.5 Q1286.43 1529.47 1286.43 1538.25 Q1286.43 1547 1282.06 1552 Q1277.7 1556.97 1270.07 1556.97 Q1262.39 1556.97 1258.03 1552 Q1253.71 1547 1253.71 1538.25 Q1253.71 1529.47 1258.03 1524.5 Q1262.39 1519.54 1270.07 1519.54 Z\" fill=\"#000000\" fill-rule=\"evenodd\" fill-opacity=\"1\" /><path clip-path=\"url(#clip310)\" d=\"M 0 0 M1318.22 1521.76 L1318.22 1527.24 Q1315.74 1525.87 1313.23 1525.2 Q1310.74 1524.5 1308.2 1524.5 Q1302.5 1524.5 1299.35 1528.13 Q1296.2 1531.73 1296.2 1538.25 Q1296.2 1544.78 1299.35 1548.4 Q1302.5 1552 1308.2 1552 Q1310.74 1552 1313.23 1551.33 Q1315.74 1550.63 1318.22 1549.26 L1318.22 1554.68 Q1315.77 1555.82 1313.13 1556.39 Q1310.52 1556.97 1307.56 1556.97 Q1299.51 1556.97 1294.76 1551.91 Q1290.02 1546.85 1290.02 1538.25 Q1290.02 1529.53 1294.8 1524.53 Q1299.6 1519.54 1307.94 1519.54 Q1310.65 1519.54 1313.23 1520.11 Q1315.8 1520.65 1318.22 1521.76 Z\" fill=\"#000000\" fill-rule=\"evenodd\" fill-opacity=\"1\" /><path clip-path=\"url(#clip310)\" d=\"M 0 0 M1354 1534.53 L1354 1556.04 L1348.14 1556.04 L1348.14 1534.72 Q1348.14 1529.66 1346.17 1527.14 Q1344.19 1524.63 1340.25 1524.63 Q1335.5 1524.63 1332.77 1527.65 Q1330.03 1530.68 1330.03 1535.9 L1330.03 1556.04 L1324.14 1556.04 L1324.14 1506.52 L1330.03 1506.52 L1330.03 1525.93 Q1332.13 1522.72 1334.96 1521.13 Q1337.83 1519.54 1341.55 1519.54 Q1347.7 1519.54 1350.85 1523.36 Q1354 1527.14 1354 1534.53 Z\" fill=\"#000000\" fill-rule=\"evenodd\" fill-opacity=\"1\" /><path clip-path=\"url(#clip310)\" d=\"M 0 0 M1382.87 1521.45 L1382.87 1526.98 Q1380.38 1525.71 1377.71 1525.07 Q1375.04 1524.44 1372.17 1524.44 Q1367.81 1524.44 1365.61 1525.77 Q1363.45 1527.11 1363.45 1529.79 Q1363.45 1531.82 1365.01 1533 Q1366.57 1534.15 1371.28 1535.2 L1373.29 1535.64 Q1379.52 1536.98 1382.13 1539.43 Q1384.78 1541.85 1384.78 1546.21 Q1384.78 1551.17 1380.83 1554.07 Q1376.91 1556.97 1370.04 1556.97 Q1367.17 1556.97 1364.06 1556.39 Q1360.97 1555.85 1357.53 1554.74 L1357.53 1548.69 Q1360.78 1550.38 1363.93 1551.24 Q1367.08 1552.07 1370.17 1552.07 Q1374.3 1552.07 1376.53 1550.66 Q1378.76 1549.23 1378.76 1546.65 Q1378.76 1544.27 1377.14 1542.99 Q1375.55 1541.72 1370.1 1540.54 L1368.07 1540.07 Q1362.62 1538.92 1360.2 1536.56 Q1357.78 1534.18 1357.78 1530.04 Q1357.78 1525.01 1361.35 1522.27 Q1364.91 1519.54 1371.47 1519.54 Q1374.72 1519.54 1377.58 1520.01 Q1380.45 1520.49 1382.87 1521.45 Z\" fill=\"#000000\" fill-rule=\"evenodd\" fill-opacity=\"1\" /><path clip-path=\"url(#clip310)\" d=\"M 0 0 M44.1444 904.492 L50.9239 904.492 Q47.9002 907.739 46.4043 911.431 Q44.9083 915.091 44.9083 919.229 Q44.9083 927.377 49.9054 931.705 Q54.8707 936.034 64.2919 936.034 Q73.6813 936.034 78.6784 931.705 Q83.6436 927.377 83.6436 919.229 Q83.6436 915.091 82.1477 911.431 Q80.6518 907.739 77.6281 904.492 L84.3439 904.492 Q86.6355 907.866 87.7814 911.653 Q88.9272 915.409 88.9272 919.611 Q88.9272 930.4 82.3387 936.607 Q75.7183 942.814 64.2919 942.814 Q52.8336 942.814 46.2451 936.607 Q39.6248 930.4 39.6248 919.611 Q39.6248 915.346 40.7706 911.59 Q41.8846 907.802 44.1444 904.492 Z\" fill=\"#000000\" fill-rule=\"evenodd\" fill-opacity=\"1\" /><path clip-path=\"url(#clip310)\" d=\"M 0 0 M57.8307 877.692 Q57.2578 878.679 57.0032 879.857 Q56.7167 881.003 56.7167 882.403 Q56.7167 887.368 59.9632 890.042 Q63.1779 892.684 69.2253 892.684 L88.0042 892.684 L88.0042 898.572 L52.3562 898.572 L52.3562 892.684 L57.8944 892.684 Q54.6479 890.838 53.0883 887.878 Q51.4968 884.917 51.4968 880.684 Q51.4968 880.08 51.5923 879.347 Q51.656 878.615 51.8151 877.724 L57.8307 877.692 Z\" fill=\"#000000\" fill-rule=\"evenodd\" fill-opacity=\"1\" /><path clip-path=\"url(#clip310)\" d=\"M 0 0 M56.4621 859.168 Q56.4621 863.879 60.1542 866.616 Q63.8145 869.353 70.212 869.353 Q76.6095 869.353 80.3017 866.648 Q83.9619 863.911 83.9619 859.168 Q83.9619 854.489 80.2698 851.752 Q76.5777 849.015 70.212 849.015 Q63.8781 849.015 60.186 851.752 Q56.4621 854.489 56.4621 859.168 M51.4968 859.168 Q51.4968 851.529 56.4621 847.169 Q61.4273 842.808 70.212 842.808 Q78.9649 842.808 83.9619 847.169 Q88.9272 851.529 88.9272 859.168 Q88.9272 866.839 83.9619 871.199 Q78.9649 875.528 70.212 875.528 Q61.4273 875.528 56.4621 871.199 Q51.4968 866.839 51.4968 859.168 Z\" fill=\"#000000\" fill-rule=\"evenodd\" fill-opacity=\"1\" /><path clip-path=\"url(#clip310)\" d=\"M 0 0 M53.4065 813.94 L58.9447 813.94 Q57.6716 816.422 57.035 819.096 Q56.3984 821.77 56.3984 824.634 Q56.3984 828.995 57.7352 831.191 Q59.072 833.355 61.7456 833.355 Q63.7826 833.355 64.9603 831.796 Q66.1061 830.236 67.1565 825.525 L67.6021 823.52 Q68.9389 817.282 71.3897 814.672 Q73.8086 812.03 78.1691 812.03 Q83.1344 812.03 86.0308 815.977 Q88.9272 819.892 88.9272 826.767 Q88.9272 829.631 88.3543 832.751 Q87.8132 835.838 86.6992 839.275 L80.6518 839.275 Q82.3387 836.029 83.198 832.878 Q84.0256 829.727 84.0256 826.639 Q84.0256 822.502 82.6251 820.274 Q81.1929 818.046 78.6147 818.046 Q76.2276 818.046 74.9545 819.669 Q73.6813 821.26 72.5037 826.703 L72.0262 828.74 Q70.8804 834.183 68.5251 836.602 Q66.138 839.021 62.0002 839.021 Q56.9713 839.021 54.2341 835.456 Q51.4968 831.891 51.4968 825.334 Q51.4968 822.088 51.9743 819.223 Q52.4517 816.359 53.4065 813.94 Z\" fill=\"#000000\" fill-rule=\"evenodd\" fill-opacity=\"1\" /><path clip-path=\"url(#clip310)\" d=\"M 0 0 M53.4065 783.162 L58.9447 783.162 Q57.6716 785.644 57.035 788.318 Q56.3984 790.991 56.3984 793.856 Q56.3984 798.217 57.7352 800.413 Q59.072 802.577 61.7456 802.577 Q63.7826 802.577 64.9603 801.017 Q66.1061 799.458 67.1565 794.747 L67.6021 792.742 Q68.9389 786.504 71.3897 783.894 Q73.8086 781.252 78.1691 781.252 Q83.1344 781.252 86.0308 785.199 Q88.9272 789.114 88.9272 795.989 Q88.9272 798.853 88.3543 801.972 Q87.8132 805.06 86.6992 808.497 L80.6518 808.497 Q82.3387 805.251 83.198 802.1 Q84.0256 798.949 84.0256 795.861 Q84.0256 791.724 82.6251 789.496 Q81.1929 787.268 78.6147 787.268 Q76.2276 787.268 74.9545 788.891 Q73.6813 790.482 72.5037 795.925 L72.0262 797.962 Q70.8804 803.405 68.5251 805.824 Q66.138 808.243 62.0002 808.243 Q56.9713 808.243 54.2341 804.678 Q51.4968 801.113 51.4968 794.556 Q51.4968 791.31 51.9743 788.445 Q52.4517 785.581 53.4065 783.162 Z\" fill=\"#000000\" fill-rule=\"evenodd\" fill-opacity=\"1\" /><path clip-path=\"url(#clip310)\" d=\"M 0 0 M40.4842 754.134 L40.4842 724.088 L45.895 724.088 L45.895 747.705 L59.9632 747.705 L59.9632 725.075 L65.3741 725.075 L65.3741 747.705 L82.5933 747.705 L82.5933 723.515 L88.0042 723.515 L88.0042 754.134 L40.4842 754.134 Z\" fill=\"#000000\" fill-rule=\"evenodd\" fill-opacity=\"1\" /><path clip-path=\"url(#clip310)\" d=\"M 0 0 M66.4881 687.74 L88.0042 687.74 L88.0042 693.596 L66.679 693.596 Q61.6183 693.596 59.1038 695.57 Q56.5894 697.543 56.5894 701.49 Q56.5894 706.232 59.6131 708.969 Q62.6368 711.707 67.8567 711.707 L88.0042 711.707 L88.0042 717.595 L52.3562 717.595 L52.3562 711.707 L57.8944 711.707 Q54.6797 709.606 53.0883 706.773 Q51.4968 703.909 51.4968 700.185 Q51.4968 694.042 55.3163 690.891 Q59.1038 687.74 66.4881 687.74 Z\" fill=\"#000000\" fill-rule=\"evenodd\" fill-opacity=\"1\" /><path clip-path=\"url(#clip310)\" d=\"M 0 0 M42.2347 675.804 L52.3562 675.804 L52.3562 663.741 L56.9077 663.741 L56.9077 675.804 L76.2594 675.804 Q80.6199 675.804 81.8613 674.626 Q83.1026 673.417 83.1026 669.757 L83.1026 663.741 L88.0042 663.741 L88.0042 669.757 Q88.0042 676.536 85.4897 679.114 Q82.9434 681.692 76.2594 681.692 L56.9077 681.692 L56.9077 685.989 L52.3562 685.989 L52.3562 681.692 L42.2347 681.692 L42.2347 675.804 Z\" fill=\"#000000\" fill-rule=\"evenodd\" fill-opacity=\"1\" /><path clip-path=\"url(#clip310)\" d=\"M 0 0 M57.8307 636.941 Q57.2578 637.928 57.0032 639.106 Q56.7167 640.252 56.7167 641.652 Q56.7167 646.617 59.9632 649.291 Q63.1779 651.933 69.2253 651.933 L88.0042 651.933 L88.0042 657.821 L52.3562 657.821 L52.3562 651.933 L57.8944 651.933 Q54.6479 650.087 53.0883 647.127 Q51.4968 644.166 51.4968 639.933 Q51.4968 639.329 51.5923 638.596 Q51.656 637.864 51.8151 636.973 L57.8307 636.941 Z\" fill=\"#000000\" fill-rule=\"evenodd\" fill-opacity=\"1\" /><path clip-path=\"url(#clip310)\" d=\"M 0 0 M56.4621 618.417 Q56.4621 623.128 60.1542 625.865 Q63.8145 628.602 70.212 628.602 Q76.6095 628.602 80.3017 625.897 Q83.9619 623.16 83.9619 618.417 Q83.9619 613.738 80.2698 611.001 Q76.5777 608.264 70.212 608.264 Q63.8781 608.264 60.186 611.001 Q56.4621 613.738 56.4621 618.417 M51.4968 618.417 Q51.4968 610.778 56.4621 606.418 Q61.4273 602.057 70.212 602.057 Q78.9649 602.057 83.9619 606.418 Q88.9272 610.778 88.9272 618.417 Q88.9272 626.088 83.9619 630.448 Q78.9649 634.777 70.212 634.777 Q61.4273 634.777 56.4621 630.448 Q51.4968 626.088 51.4968 618.417 Z\" fill=\"#000000\" fill-rule=\"evenodd\" fill-opacity=\"1\" /><path clip-path=\"url(#clip310)\" d=\"M 0 0 M82.657 590.249 L101.563 590.249 L101.563 596.137 L52.3562 596.137 L52.3562 590.249 L57.7671 590.249 Q54.5842 588.403 53.0564 585.602 Q51.4968 582.769 51.4968 578.854 Q51.4968 572.361 56.6531 568.319 Q61.8093 564.245 70.212 564.245 Q78.6147 564.245 83.771 568.319 Q88.9272 572.361 88.9272 578.854 Q88.9272 582.769 87.3994 585.602 Q85.8398 588.403 82.657 590.249 M70.212 570.324 Q63.7508 570.324 60.0905 572.998 Q56.3984 575.64 56.3984 580.287 Q56.3984 584.934 60.0905 587.607 Q63.7508 590.249 70.212 590.249 Q76.6732 590.249 80.3653 587.607 Q84.0256 584.934 84.0256 580.287 Q84.0256 575.64 80.3653 572.998 Q76.6732 570.324 70.212 570.324 Z\" fill=\"#000000\" fill-rule=\"evenodd\" fill-opacity=\"1\" /><path clip-path=\"url(#clip310)\" d=\"M 0 0 M91.3143 543.27 Q97.68 545.753 99.6216 548.108 Q101.563 550.463 101.563 554.41 L101.563 559.089 L96.6615 559.089 L96.6615 555.651 Q96.6615 553.232 95.5157 551.896 Q94.3699 550.559 90.1048 548.935 L87.4312 547.885 L52.3562 562.303 L52.3562 556.097 L80.238 544.957 L52.3562 533.817 L52.3562 527.61 L91.3143 543.27 Z\" fill=\"#000000\" fill-rule=\"evenodd\" fill-opacity=\"1\" /><polyline clip-path=\"url(#clip312)\" style=\"stroke:#009af9; stroke-width:8; stroke-opacity:1; fill:none\" points=\"\n",
       "  271.886,86.1857 275.253,653.203 278.62,1224.06 281.988,1183.96 285.355,1164.4 288.722,1166.51 292.089,1250.6 295.456,1280.34 298.823,1270.9 302.19,1260.98 \n",
       "  305.557,1276.29 308.924,1236.37 312.291,1309.88 315.659,1292.68 319.026,1261.01 322.393,1283.83 325.76,1237.3 329.127,1154.21 332.494,1300.08 335.861,1298.24 \n",
       "  339.228,1298.58 342.595,1260.75 345.962,1290.98 349.33,1271.15 352.697,1290.79 356.064,1301.04 359.431,1295.99 362.798,1249.95 366.165,1275.88 369.532,1301.41 \n",
       "  372.899,1248.07 376.266,1324.82 379.634,1334.96 383.001,1304.56 386.368,1288.66 389.735,1295.27 393.102,1298.76 396.469,1290.09 399.836,1272.11 403.203,1293.05 \n",
       "  406.57,1307.54 409.937,1301.54 413.305,1327.86 416.672,1277.97 420.039,1318.31 423.406,1311.33 426.773,1309.12 430.14,1259.34 433.507,1316.32 436.874,1311.33 \n",
       "  440.241,1319.61 443.608,1236.88 446.976,1314.87 450.343,1261.58 453.71,1305.61 457.077,1299.22 460.444,1326.7 463.811,1305.35 467.178,1314.86 470.545,1316.02 \n",
       "  473.912,1279.05 477.279,1306.06 480.647,1302.3 484.014,1291.34 487.381,1286.51 490.748,1261 494.115,1302.19 497.482,1266.18 500.849,1298.51 504.216,1295.01 \n",
       "  507.583,1296.84 510.951,1297.7 514.318,1324.48 517.685,1286.94 521.052,1327.48 524.419,1323.99 527.786,1285.49 531.153,1310.58 534.52,1273.47 537.887,1263.51 \n",
       "  541.254,1297.34 544.622,1184.16 547.989,1329.69 551.356,1338.93 554.723,1319.3 558.09,1268.35 561.457,1272.82 564.824,1303.55 568.191,1240.53 571.558,1317.7 \n",
       "  574.925,1294.29 578.293,1311.53 581.66,1298.46 585.027,1297.63 588.394,1345.4 591.761,1252.15 595.128,1296.38 598.495,1336.49 601.862,1331.63 605.229,1256.98 \n",
       "  608.597,1310.07 611.964,1269.55 615.331,1298.97 618.698,1294.28 622.065,1276.76 625.432,1299.92 628.799,1275.62 632.166,1339.74 635.533,1281.1 638.9,1280.54 \n",
       "  642.268,1292.42 645.635,1271.91 649.002,1272.63 652.369,1269.39 655.736,1218.87 659.103,1274.66 662.47,1283.31 665.837,1208.75 669.204,1278.75 672.571,1270.05 \n",
       "  675.939,1269.22 679.306,1252.99 682.673,1277.21 686.04,1288.72 689.407,1275.38 692.774,1229.17 696.141,1267.37 699.508,1257.71 702.875,1281.29 706.243,1279.65 \n",
       "  709.61,1187.76 712.977,1255.54 716.344,1218.19 719.711,1276.6 723.078,1277.85 726.445,1288.22 729.812,1289.69 733.179,1262.58 736.546,1253.32 739.914,1262.48 \n",
       "  743.281,1228.51 746.648,1252.04 750.015,1272.28 753.382,1233.53 756.749,1255.4 760.116,1246.43 763.483,1281.13 766.85,1224.76 770.217,1250.95 773.585,1234.06 \n",
       "  776.952,1266.32 780.319,1237.67 783.686,1277.33 787.053,1218.74 790.42,1219.32 793.787,1228.85 797.154,1258.29 800.521,1280.6 803.888,1266.85 807.256,1279.01 \n",
       "  810.623,1296.12 813.99,1271.35 817.357,1280.06 820.724,1271.1 824.091,1271.04 827.458,1270.87 830.825,1270.69 834.192,1270.5 837.56,1270.33 840.927,1270.16 \n",
       "  844.294,1270.02 847.661,1269.88 851.028,1269.76 854.395,1269.65 857.762,1269.55 861.129,1269.46 864.496,1269.38 867.863,1269.31 871.231,1269.25 874.598,1269.19 \n",
       "  877.965,1269.14 881.332,1269.09 884.699,1269.05 888.066,1269.01 891.433,1268.97 894.8,1268.94 898.167,1268.92 901.534,1268.89 904.902,1268.87 908.269,1268.85 \n",
       "  911.636,1268.83 915.003,1268.81 918.37,1268.8 921.737,1268.79 925.104,1268.78 928.471,1268.76 931.838,1268.76 935.206,1268.75 938.573,1268.74 941.94,1268.74 \n",
       "  945.307,1268.73 948.674,1268.73 952.041,1268.72 955.408,1268.72 958.775,1268.72 962.142,1268.71 965.509,1268.71 968.877,1268.71 972.244,1268.71 975.611,1268.71 \n",
       "  978.978,1268.71 982.345,1268.71 985.712,1268.71 989.079,1268.71 992.446,1268.71 995.813,1268.72 999.18,1268.72 1002.55,1268.72 1005.91,1268.72 1009.28,1268.72 \n",
       "  1012.65,1268.73 1016.02,1268.73 1019.38,1268.73 1022.75,1268.73 1026.12,1268.74 1029.48,1268.74 1032.85,1268.74 1036.22,1268.75 1039.59,1268.75 1042.95,1268.75 \n",
       "  1046.32,1268.76 1049.69,1268.76 1053.05,1268.76 1056.42,1268.77 1059.79,1268.77 1063.16,1268.77 1066.52,1268.78 1069.89,1268.78 1073.26,1268.79 1076.62,1268.79 \n",
       "  1079.99,1268.79 1083.36,1268.8 1086.73,1268.8 1090.09,1268.81 1093.46,1268.81 1096.83,1268.81 1100.19,1268.82 1103.56,1268.82 1106.93,1268.83 1110.29,1268.83 \n",
       "  1113.66,1268.84 1117.03,1268.84 1120.4,1268.84 1123.76,1268.85 1127.13,1268.85 1130.5,1268.86 1133.86,1268.86 1137.23,1268.86 1140.6,1268.87 1143.97,1268.87 \n",
       "  1147.33,1268.88 1150.7,1268.88 1154.07,1268.89 1157.43,1268.89 1160.8,1268.89 1164.17,1268.9 1167.54,1268.9 1170.9,1268.91 1174.27,1268.91 1177.64,1268.92 \n",
       "  1181,1268.92 1184.37,1268.92 1187.74,1268.93 1191.11,1268.93 1194.47,1268.94 1197.84,1268.94 1201.21,1268.95 1204.57,1268.95 1207.94,1268.95 1211.31,1268.96 \n",
       "  1214.68,1268.96 1218.04,1268.97 1221.41,1268.97 1224.78,1268.97 1228.14,1268.98 1231.51,1268.98 1234.88,1268.99 1238.24,1268.99 1241.61,1269 1244.98,1269 \n",
       "  1248.35,1269 1251.71,1269.01 1255.08,1269.01 1258.45,1269.02 1261.81,1269.02 1265.18,1269.02 1268.55,1269.03 1271.92,1269.03 1275.28,1269.04 1278.65,1269.04 \n",
       "  1282.02,1269.05 1285.38,1269.05 1288.75,1269.05 1292.12,1269.06 1295.49,1269.06 1298.85,1269.07 1302.22,1269.07 1305.59,1269.07 1308.95,1269.08 1312.32,1269.08 \n",
       "  1315.69,1269.09 1319.06,1269.09 1322.42,1269.1 1325.79,1269.1 1329.16,1269.1 1332.52,1269.11 1335.89,1269.11 1339.26,1269.12 1342.62,1269.12 1345.99,1269.12 \n",
       "  1349.36,1269.13 1352.73,1269.13 1356.09,1269.14 1359.46,1269.14 1362.83,1269.14 1366.19,1269.15 1369.56,1269.15 1372.93,1269.16 1376.3,1269.16 1379.66,1269.16 \n",
       "  1383.03,1269.17 1386.4,1269.17 1389.76,1269.18 1393.13,1269.18 1396.5,1269.18 1399.87,1269.19 1403.23,1269.19 1406.6,1269.2 1409.97,1269.2 1413.33,1269.2 \n",
       "  1416.7,1269.21 1420.07,1269.21 1423.44,1269.22 1426.8,1269.22 1430.17,1269.22 1433.54,1269.23 1436.9,1269.23 1440.27,1269.24 1443.64,1269.24 1447.01,1269.24 \n",
       "  1450.37,1269.25 1453.74,1269.25 1457.11,1269.26 1460.47,1269.26 1463.84,1269.26 1467.21,1269.27 1470.57,1269.27 1473.94,1269.28 1477.31,1269.28 1480.68,1269.29 \n",
       "  1484.04,1269.29 1487.41,1269.29 1490.78,1269.3 1494.14,1269.3 1497.51,1269.31 1500.88,1269.31 1504.25,1269.31 1507.61,1269.32 1510.98,1269.32 1514.35,1269.32 \n",
       "  1517.71,1269.33 1521.08,1269.33 1524.45,1269.34 1527.82,1269.34 1531.18,1269.34 1534.55,1269.35 1537.92,1269.35 1541.28,1269.36 1544.65,1269.36 1548.02,1269.36 \n",
       "  1551.39,1269.37 1554.75,1269.37 1558.12,1269.38 1561.49,1269.38 1564.85,1269.38 1568.22,1269.39 1571.59,1269.39 1574.96,1269.39 1578.32,1269.4 1581.69,1269.4 \n",
       "  1585.06,1269.41 1588.42,1269.41 1591.79,1269.41 1595.16,1269.42 1598.52,1269.42 1601.89,1269.42 1605.26,1269.43 1608.63,1269.43 1611.99,1269.44 1615.36,1269.44 \n",
       "  1618.73,1269.44 1622.09,1269.45 1625.46,1269.45 1628.83,1269.45 1632.2,1269.46 1635.56,1269.46 1638.93,1269.47 1642.3,1269.47 1645.66,1269.47 1649.03,1269.48 \n",
       "  1652.4,1269.48 1655.77,1269.48 1659.13,1269.49 1662.5,1269.49 1665.87,1269.49 1669.23,1269.5 1672.6,1269.5 1675.97,1269.51 1679.34,1269.51 1682.7,1269.51 \n",
       "  1686.07,1269.52 1689.44,1269.52 1692.8,1269.52 1696.17,1269.53 1699.54,1269.53 1702.91,1269.53 1706.27,1269.54 1709.64,1269.54 1713.01,1269.54 1716.37,1269.55 \n",
       "  1719.74,1269.55 1723.11,1269.55 1726.47,1269.56 1729.84,1269.56 1733.21,1269.56 1736.58,1269.57 1739.94,1269.57 1743.31,1269.58 1746.68,1269.58 1750.04,1269.58 \n",
       "  1753.41,1269.59 1756.78,1269.59 1760.15,1269.59 1763.51,1269.6 1766.88,1269.6 1770.25,1269.6 1773.61,1269.61 1776.98,1269.61 1780.35,1269.61 1783.72,1269.61 \n",
       "  1787.08,1269.62 1790.45,1269.62 1793.82,1269.62 1797.18,1269.63 1800.55,1269.63 1803.92,1269.63 1807.29,1269.64 1810.65,1269.64 1814.02,1269.64 1817.39,1269.65 \n",
       "  1820.75,1269.65 1824.12,1269.65 1827.49,1269.66 1830.85,1269.66 1834.22,1269.66 1837.59,1269.67 1840.96,1269.67 1844.32,1269.67 1847.69,1269.68 1851.06,1269.68 \n",
       "  1854.42,1269.68 1857.79,1269.69 1861.16,1269.69 1864.53,1269.69 1867.89,1269.7 1871.26,1269.7 1874.63,1269.7 1877.99,1269.71 1881.36,1269.71 1884.73,1269.71 \n",
       "  1888.1,1269.72 1891.46,1269.72 1894.83,1269.72 1898.2,1269.73 1901.56,1269.73 1904.93,1269.73 1908.3,1269.74 1911.67,1269.74 1915.03,1269.74 1918.4,1269.75 \n",
       "  1921.77,1269.75 1925.13,1269.75 1928.5,1269.76 1931.87,1269.76 1935.24,1269.76 1938.6,1269.77 1941.97,1269.77 1945.34,1269.77 1948.7,1269.78 1952.07,1269.78 \n",
       "  1955.44,1269.78 1958.8,1269.78 1962.17,1269.79 1965.54,1269.79 1968.91,1269.79 1972.27,1269.8 1975.64,1269.8 1979.01,1269.8 1982.37,1269.81 1985.74,1269.81 \n",
       "  1989.11,1269.81 1992.48,1269.82 1995.84,1269.82 1999.21,1269.82 2002.58,1269.83 2005.94,1269.83 2009.31,1269.83 2012.68,1269.84 2016.05,1269.84 2019.41,1269.84 \n",
       "  2022.78,1269.85 2026.15,1269.85 2029.51,1269.85 2032.88,1269.85 2036.25,1269.86 2039.62,1269.86 2042.98,1269.86 2046.35,1269.87 2049.72,1269.87 2053.08,1269.87 \n",
       "  2056.45,1269.88 2059.82,1269.88 2063.19,1269.88 2066.55,1269.89 2069.92,1269.89 2073.29,1269.89 2076.65,1269.9 2080.02,1269.9 2083.39,1269.9 2086.75,1269.91 \n",
       "  2090.12,1269.91 2093.49,1269.91 2096.86,1269.91 2100.22,1269.92 2103.59,1269.92 2106.96,1269.92 2110.32,1269.93 2113.69,1269.93 2117.06,1269.93 2120.43,1269.94 \n",
       "  2123.79,1269.94 2127.16,1269.94 2130.53,1269.94 2133.89,1269.95 2137.26,1269.95 2140.63,1269.95 2144,1269.96 2147.36,1269.96 2150.73,1269.96 2154.1,1269.97 \n",
       "  2157.46,1269.97 2160.83,1269.97 2164.2,1269.97 2167.57,1269.98 2170.93,1269.98 2174.3,1269.98 2177.67,1269.99 2181.03,1269.99 2184.4,1270.28 2187.77,1270.28 \n",
       "  2191.13,1270.29 2194.5,1270.29 2197.87,1270.3 2201.24,1270.3 2204.6,1270.3 2207.97,1270.31 2211.34,1270.31 2214.7,1270.32 2218.07,1270.32 2221.44,1270.32 \n",
       "  2224.81,1270.33 2228.17,1270.33 2231.54,1270.33 2234.91,1270.34 2238.27,1270.34 2241.64,1270.35 2245.01,1270.35 2248.38,1270.35 2251.74,1270.36 2255.11,1270.36 \n",
       "  2258.48,1270.37 2261.84,1270.37 2265.21,1270.37 2268.58,1270.38 2271.95,1270.38 2275.31,1270.39 2278.68,1270.39 2282.05,1270.39 2285.41,1270.4 2288.78,1270.4 \n",
       "  2292.15,1270.4 \n",
       "  \"/>\n",
       "<polyline clip-path=\"url(#clip312)\" style=\"stroke:#e26f46; stroke-width:8; stroke-opacity:1; fill:none\" points=\"\n",
       "  272.56,685.746 273.233,868.166 273.906,900.142 274.58,1128.55 275.253,1148.54 275.927,1146.14 276.6,1190.62 277.274,1202.86 277.947,1202.9 278.62,1204.6 \n",
       "  279.294,1204.74 279.967,1205.17 280.641,1208.51 281.314,1166.28 281.988,1197.92 282.661,1182.82 283.334,1195.95 284.008,1205.8 284.681,1205.92 285.355,1205.95 \n",
       "  286.028,1205.97 286.701,1206 287.375,1206.02 288.048,1206.03 288.722,1206.05 289.395,1206.07 290.069,1206.08 290.742,1206.09 291.415,1206.11 292.089,1206.12 \n",
       "  292.762,1206.14 293.436,1206.15 294.109,1206.16 294.783,1206.17 295.456,1206.18 296.129,1206.18 296.803,1206.19 297.476,1206.2 298.15,1206.2 298.823,1206.21 \n",
       "  299.496,1206.21 300.17,1206.22 300.843,1206.22 301.517,1206.23 302.19,1206.23 302.864,1206.24 303.537,1206.24 304.21,1206.25 304.884,1206.25 305.557,1206.25 \n",
       "  306.231,1206.26 306.904,1206.26 307.577,1206.26 308.251,1206.27 308.924,1206.27 309.598,1206.27 310.271,1206.27 310.945,1206.28 311.618,1206.28 312.291,1206.28 \n",
       "  312.965,1206.28 313.638,1206.29 314.312,1206.29 314.985,1206.29 315.659,1206.29 316.332,1206.29 317.005,1206.3 317.679,1206.3 318.352,1206.3 319.026,1206.3 \n",
       "  319.699,1206.3 320.372,1206.31 321.046,1206.31 321.719,1206.31 322.393,1206.31 323.066,1206.31 323.74,1206.31 324.413,1206.32 325.086,1206.32 325.76,1206.32 \n",
       "  326.433,1206.33 327.107,1206.5 327.78,1165.19 328.454,1156.74 329.127,1176.84 329.8,1158.58 330.474,1148.35 331.147,1153.5 331.821,1209.12 332.494,1207.07 \n",
       "  333.167,1206.31 333.841,1206.36 334.514,1206.46 335.188,1206.86 335.861,1213.59 336.535,1214.71 337.208,1213.59 337.881,1213.47 338.555,1211.32 339.228,1214.9 \n",
       "  339.902,1206.78 340.575,1202.78 341.249,1203 341.922,1205.65 342.595,1209.66 343.269,1171.47 343.942,1201.96 344.616,1130.11 345.289,1211.63 345.962,1213.95 \n",
       "  346.636,1193.17 347.309,1205.76 347.983,1213.18 348.656,1215.46 349.33,1216.85 350.003,1217.62 350.676,1216.58 351.35,1218.6 352.023,1239.15 352.697,1247.96 \n",
       "  353.37,1258.16 354.044,1252.22 354.717,1235.6 355.39,1255.84 356.064,1272.63 356.737,1272.74 357.411,1207.23 358.084,1271.25 358.757,1272.52 359.431,1224.25 \n",
       "  360.104,1262.7 360.778,1285.56 361.451,1286.65 362.125,1296.4 362.798,1304.28 363.471,1299.58 364.145,1301.75 364.818,1283.54 365.492,1301.53 366.165,1304.96 \n",
       "  366.839,1269.32 367.512,1288.58 368.185,1316.04 368.859,1324.26 369.532,1316.54 370.206,1338.72 370.879,1344.18 371.552,1340.77 372.226,1345.15 372.899,1345.22 \n",
       "  373.573,1333.5 374.246,1346.17 374.92,1342.19 375.593,1346.79 376.266,1340.88 376.94,1333.37 377.613,1301.86 378.287,1339.17 378.96,1352.59 379.634,1352.61 \n",
       "  380.307,1349.12 380.98,1349.81 381.654,1351.93 382.327,1355.69 383.001,1357.9 383.674,1359.95 384.347,1343.64 385.021,1345.43 385.694,1341.79 386.368,1334.41 \n",
       "  387.041,1359.97 387.715,1370.35 388.388,1361.71 389.061,1370.95 389.735,1364.68 390.408,1358.7 391.082,1363.92 391.755,1362.6 392.428,1361.7 393.102,1343.32 \n",
       "  393.775,1364.16 394.449,1367.58 395.122,1361.38 395.796,1373.4 396.469,1367.24 397.142,1369.95 397.816,1360.41 398.489,1364.18 399.163,1365.27 399.836,1373.07 \n",
       "  400.51,1374.04 401.183,1374.1 401.856,1374.12 402.53,1374.15 403.203,1374.23 403.877,1375.03 404.55,1374.57 405.223,1377.86 405.897,1379.96 406.57,1379.77 \n",
       "  407.244,1379.13 407.917,1380 408.591,1379.15 409.264,1379.95 409.937,1380.06 410.611,1380.12 411.284,1380.15 411.958,1380.17 412.631,1380.18 413.305,1380.19 \n",
       "  413.978,1380.21 414.651,1380.22 415.325,1380.22 415.998,1380.23 416.672,1380.24 417.345,1380.25 418.018,1380.26 418.692,1380.26 419.365,1380.27 420.039,1380.28 \n",
       "  420.712,1380.29 421.386,1380.31 422.059,1380.33 422.732,1380.39 423.406,1380.79 424.079,1380.14 424.753,1369.27 425.426,1329.9 426.1,1360.8 426.773,1374.72 \n",
       "  427.446,1376.23 428.12,1305.38 428.793,1295.72 429.467,1256.79 430.14,1338.14 430.813,1320.49 431.487,1356.99 432.16,1359.58 432.834,1356.43 433.507,1349.42 \n",
       "  434.181,1360.36 434.854,1371.51 435.527,1377.69 436.201,1378.03 436.874,1375.52 437.548,1377.16 438.221,1378.33 438.895,1378.37 439.568,1378.39 440.241,1378.41 \n",
       "  440.915,1378.42 441.588,1378.43 442.262,1378.45 442.935,1378.53 443.608,1379.96 444.282,1380.21 444.955,1378.74 445.629,1380.22 446.302,1380.25 446.976,1378.39 \n",
       "  447.649,1378.41 448.322,1378.45 448.996,1378.57 449.669,1380.1 450.343,1380.26 451.016,1379.43 451.69,1380.27 452.363,1380.28 453.036,1380.28 453.71,1380.28 \n",
       "  454.383,1380.29 455.057,1380.29 455.73,1380.29 456.403,1380.29 457.077,1380.3 457.75,1380.3 458.424,1380.3 459.097,1380.31 459.771,1380.31 460.444,1380.31 \n",
       "  461.117,1380.31 461.791,1380.31 462.464,1380.32 463.138,1380.32 463.811,1380.32 464.485,1380.33 465.158,1380.33 465.831,1380.33 466.505,1380.33 467.178,1380.33 \n",
       "  467.852,1380.33 468.525,1380.33 469.198,1380.33 469.872,1380.33 470.545,1380.34 471.219,1380.34 471.892,1380.34 472.566,1380.34 473.239,1380.34 473.912,1380.34 \n",
       "  474.586,1380.34 475.259,1380.34 475.933,1380.34 476.606,1380.34 477.279,1380.34 477.953,1380.34 478.626,1380.34 479.3,1380.34 479.973,1380.35 480.647,1380.35 \n",
       "  481.32,1380.37 481.993,1380.97 482.667,1380.29 483.34,1379.24 484.014,1376.21 484.687,1372.54 485.361,1308.15 486.034,1305.09 486.707,1350.59 487.381,1348.02 \n",
       "  488.054,1340.58 488.728,1338.35 489.401,1334.06 490.074,1376.5 490.748,1373.19 491.421,1374.08 492.095,1374.1 492.768,1374.11 493.442,1374.13 494.115,1374.28 \n",
       "  494.788,1374.19 495.462,1373.79 496.135,1374.08 496.809,1374.11 497.482,1374.13 498.156,1374.13 498.829,1374.14 499.502,1374.15 500.176,1374.16 500.849,1374.17 \n",
       "  501.523,1374.2 502.196,1374.5 502.869,1373.47 503.543,1373.75 504.216,1345.01 504.89,1347.8 505.563,1371.08 506.237,1368.03 506.91,1373.93 507.583,1370.86 \n",
       "  508.257,1370.8 508.93,1376.4 509.604,1380.87 510.277,1380.23 510.951,1380.4 511.624,1380.1 512.297,1382.02 512.971,1377.95 513.644,1377.83 514.318,1350.61 \n",
       "  514.991,1374.08 515.664,1383.51 516.338,1382.06 517.011,1380.2 517.685,1378.61 518.358,1380.11 519.032,1380.16 519.705,1380.35 520.378,1380.37 521.052,1380.22 \n",
       "  521.725,1380.34 522.399,1380.43 523.072,1382.19 523.746,1380.89 524.419,1380.12 525.092,1384.14 525.766,1384.17 526.439,1384.18 527.113,1384.18 527.786,1384.18 \n",
       "  528.459,1384.19 529.133,1384.19 529.806,1384.19 530.48,1384.19 531.153,1384.2 531.827,1384.2 532.5,1384.2 533.173,1384.2 533.847,1384.2 534.52,1384.2 \n",
       "  535.194,1384.2 535.867,1384.2 536.541,1384.2 537.214,1384.2 537.887,1384.2 538.561,1384.21 539.234,1384.21 539.908,1384.21 540.581,1384.21 541.254,1384.21 \n",
       "  541.928,1384.21 542.601,1384.21 543.275,1384.21 543.948,1384.21 544.622,1384.21 545.295,1384.21 545.968,1384.21 546.642,1384.21 547.315,1384.21 547.989,1384.21 \n",
       "  548.662,1384.21 549.335,1384.21 550.009,1384.21 550.682,1384.21 551.356,1384.21 552.029,1384.21 552.703,1384.21 553.376,1384.22 554.049,1384.22 554.723,1384.22 \n",
       "  555.396,1384.22 556.07,1384.22 556.743,1384.22 557.417,1384.22 558.09,1384.22 558.763,1384.22 559.437,1384.22 560.11,1384.22 560.784,1384.22 561.457,1384.22 \n",
       "  562.13,1384.22 562.804,1384.22 563.477,1384.22 564.151,1384.22 564.824,1384.22 565.498,1384.22 566.171,1384.22 566.844,1384.22 567.518,1384.22 568.191,1384.22 \n",
       "  568.865,1384.22 569.538,1384.22 570.212,1384.22 570.885,1384.22 571.558,1384.22 572.232,1384.22 572.905,1384.22 573.579,1384.22 574.252,1384.22 574.925,1384.22 \n",
       "  575.599,1384.22 576.272,1384.22 576.946,1384.22 577.619,1384.22 578.293,1384.22 578.966,1384.22 579.639,1384.22 580.313,1384.22 580.986,1384.22 581.66,1384.22 \n",
       "  582.333,1384.23 583.007,1384.23 583.68,1384.23 584.353,1384.23 585.027,1384.23 585.7,1384.23 586.374,1384.23 587.047,1384.23 587.72,1384.23 588.394,1384.23 \n",
       "  589.067,1384.23 589.741,1384.23 590.414,1384.23 591.088,1384.23 591.761,1384.23 592.434,1384.23 593.108,1384.23 593.781,1384.23 594.455,1384.23 595.128,1384.23 \n",
       "  595.802,1384.23 596.475,1384.23 597.148,1384.23 597.822,1384.23 598.495,1384.23 599.169,1384.23 599.842,1384.23 600.515,1384.23 601.189,1384.23 601.862,1384.23 \n",
       "  602.536,1384.23 603.209,1384.23 603.883,1384.23 604.556,1384.23 605.229,1384.23 605.903,1384.23 606.576,1384.23 607.25,1384.23 607.923,1384.23 608.597,1384.23 \n",
       "  609.27,1384.23 609.943,1384.23 610.617,1384.23 611.29,1384.23 611.964,1384.23 612.637,1384.23 613.31,1384.23 613.984,1384.23 614.657,1384.23 615.331,1384.23 \n",
       "  616.004,1384.23 616.678,1384.23 617.351,1384.23 618.024,1384.23 618.698,1384.23 619.371,1384.23 620.045,1384.23 620.718,1384.23 621.392,1384.23 622.065,1384.23 \n",
       "  622.738,1384.23 623.412,1384.23 624.085,1384.23 624.759,1384.23 625.432,1384.23 626.105,1384.23 626.779,1384.23 627.452,1384.23 628.126,1384.23 628.799,1384.23 \n",
       "  629.473,1384.23 630.146,1384.23 630.819,1384.23 631.493,1384.23 632.166,1384.23 632.84,1384.23 633.513,1384.23 634.186,1384.23 634.86,1384.23 635.533,1384.23 \n",
       "  636.207,1384.23 636.88,1384.23 637.554,1384.23 638.227,1384.23 638.9,1384.23 639.574,1384.23 640.247,1384.23 640.921,1384.23 641.594,1384.23 642.268,1384.23 \n",
       "  642.941,1384.23 643.614,1384.23 644.288,1384.23 644.961,1384.23 645.635,1384.23 646.308,1384.23 646.981,1384.23 647.655,1384.23 648.328,1384.23 649.002,1384.23 \n",
       "  649.675,1384.23 650.349,1384.23 651.022,1384.23 651.695,1384.23 652.369,1384.23 653.042,1384.23 653.716,1384.23 654.389,1384.23 655.063,1384.23 655.736,1384.23 \n",
       "  656.409,1384.23 657.083,1384.23 657.756,1384.23 658.43,1384.23 659.103,1384.23 659.776,1384.23 660.45,1384.23 661.123,1384.23 661.797,1384.23 662.47,1384.24 \n",
       "  663.144,1384.24 663.817,1384.24 664.49,1384.24 665.164,1384.24 665.837,1384.24 666.511,1384.24 667.184,1384.24 667.858,1384.24 668.531,1384.24 669.204,1384.24 \n",
       "  669.878,1384.24 670.551,1384.24 671.225,1384.24 671.898,1384.24 672.571,1384.24 673.245,1384.24 673.918,1384.24 674.592,1384.24 675.265,1384.24 675.939,1384.24 \n",
       "  676.612,1384.24 677.285,1384.24 677.959,1384.24 678.632,1384.24 679.306,1384.24 679.979,1384.24 680.653,1384.24 681.326,1384.24 681.999,1384.24 682.673,1384.24 \n",
       "  683.346,1384.24 684.02,1384.24 684.693,1384.24 685.366,1384.24 686.04,1384.24 686.713,1384.24 687.387,1384.24 688.06,1384.24 688.734,1384.24 689.407,1384.24 \n",
       "  690.08,1384.24 690.754,1384.24 691.427,1384.24 692.101,1384.24 692.774,1384.24 693.448,1384.24 694.121,1384.24 694.794,1384.24 695.468,1384.24 696.141,1384.24 \n",
       "  696.815,1384.24 697.488,1384.24 698.161,1384.24 698.835,1384.24 699.508,1384.24 700.182,1384.24 700.855,1384.24 701.529,1384.24 702.202,1384.24 702.875,1384.24 \n",
       "  703.549,1384.24 704.222,1384.24 704.896,1384.24 705.569,1384.24 706.243,1384.24 706.916,1384.24 707.589,1384.24 708.263,1384.24 708.936,1384.24 709.61,1384.24 \n",
       "  710.283,1384.24 710.956,1384.24 711.63,1384.24 712.303,1384.24 712.977,1384.24 713.65,1384.24 714.324,1384.24 714.997,1384.24 715.67,1384.24 716.344,1384.24 \n",
       "  717.017,1384.24 717.691,1384.24 718.364,1384.24 719.037,1384.24 719.711,1384.24 720.384,1384.24 721.058,1384.24 721.731,1384.24 722.405,1384.24 723.078,1384.24 \n",
       "  723.751,1384.24 724.425,1384.24 725.098,1384.24 725.772,1384.24 726.445,1384.24 727.119,1384.24 727.792,1384.24 728.465,1384.24 729.139,1384.24 729.812,1384.24 \n",
       "  730.486,1384.24 731.159,1384.24 731.832,1384.24 732.506,1384.24 733.179,1384.24 733.853,1384.24 734.526,1384.24 735.2,1384.24 735.873,1384.24 736.546,1384.24 \n",
       "  737.22,1384.24 737.893,1384.24 738.567,1384.24 739.24,1384.24 739.914,1384.24 740.587,1384.24 741.26,1384.24 741.934,1384.24 742.607,1384.24 743.281,1384.24 \n",
       "  743.954,1384.24 744.627,1384.24 745.301,1384.24 745.974,1384.24 746.648,1384.24 747.321,1384.24 747.995,1384.24 748.668,1384.24 749.341,1384.24 750.015,1384.24 \n",
       "  750.688,1384.24 751.362,1384.24 752.035,1384.24 752.709,1384.24 753.382,1384.24 754.055,1384.24 754.729,1384.24 755.402,1384.24 756.076,1384.24 756.749,1384.24 \n",
       "  757.422,1384.24 758.096,1384.24 758.769,1384.24 759.443,1384.24 760.116,1384.24 760.79,1384.24 761.463,1384.24 762.136,1384.24 762.81,1384.24 763.483,1384.24 \n",
       "  764.157,1384.24 764.83,1384.24 765.504,1384.24 766.177,1384.24 766.85,1384.24 767.524,1384.24 768.197,1384.24 768.871,1384.24 769.544,1384.24 770.217,1384.24 \n",
       "  770.891,1384.24 771.564,1384.24 772.238,1384.24 772.911,1384.24 773.585,1384.24 774.258,1384.24 774.931,1384.24 775.605,1384.24 776.278,1384.24 776.952,1384.24 \n",
       "  777.625,1384.24 778.299,1384.24 778.972,1384.24 779.645,1384.24 780.319,1384.24 780.992,1384.24 781.666,1384.24 782.339,1384.24 783.012,1384.24 783.686,1384.24 \n",
       "  784.359,1384.24 785.033,1384.24 785.706,1384.24 786.38,1384.24 787.053,1384.24 787.726,1384.24 788.4,1384.24 789.073,1384.24 789.747,1384.24 790.42,1384.24 \n",
       "  791.093,1384.24 791.767,1384.24 792.44,1384.24 793.114,1384.24 793.787,1384.24 794.461,1384.24 795.134,1384.24 795.807,1384.24 796.481,1384.24 797.154,1384.24 \n",
       "  797.828,1384.24 798.501,1384.24 799.175,1384.24 799.848,1384.24 800.521,1384.24 801.195,1384.24 801.868,1384.24 802.542,1384.24 803.215,1384.24 803.888,1384.24 \n",
       "  804.562,1384.24 805.235,1384.24 805.909,1384.24 806.582,1384.24 807.256,1384.24 807.929,1384.24 808.602,1384.24 809.276,1384.24 809.949,1384.24 810.623,1384.24 \n",
       "  811.296,1384.24 811.97,1384.24 812.643,1384.24 813.316,1384.24 813.99,1384.24 814.663,1384.24 815.337,1384.24 816.01,1384.24 816.683,1384.24 817.357,1384.24 \n",
       "  818.03,1384.24 818.704,1384.24 819.377,1384.24 820.051,1384.24 820.724,1384.24 821.397,1384.24 822.071,1384.24 822.744,1384.24 823.418,1384.24 824.091,1384.24 \n",
       "  824.765,1384.24 825.438,1384.24 826.111,1384.24 826.785,1384.24 827.458,1384.24 828.132,1384.24 828.805,1384.24 829.478,1384.24 830.152,1384.24 830.825,1384.24 \n",
       "  831.499,1384.24 832.172,1384.24 832.846,1384.24 833.519,1384.24 834.192,1384.24 834.866,1384.24 835.539,1384.24 836.213,1384.24 836.886,1384.24 837.56,1384.24 \n",
       "  838.233,1384.24 838.906,1384.24 839.58,1384.24 840.253,1384.24 840.927,1384.24 841.6,1384.24 842.273,1384.24 842.947,1384.24 843.62,1384.24 844.294,1384.24 \n",
       "  844.967,1384.24 845.641,1384.24 846.314,1384.24 846.987,1384.24 847.661,1384.24 848.334,1384.24 849.008,1384.24 849.681,1384.24 850.355,1384.24 851.028,1384.24 \n",
       "  851.701,1384.24 852.375,1384.24 853.048,1384.24 853.722,1384.24 854.395,1384.24 855.068,1384.24 855.742,1384.24 856.415,1384.24 857.089,1384.24 857.762,1384.24 \n",
       "  858.436,1384.24 859.109,1384.24 859.782,1384.24 860.456,1384.24 861.129,1384.24 861.803,1384.24 862.476,1384.24 863.15,1384.24 863.823,1384.24 864.496,1384.24 \n",
       "  865.17,1384.24 865.843,1384.24 866.517,1384.24 867.19,1384.24 867.863,1384.24 868.537,1384.24 869.21,1384.24 869.884,1384.24 870.557,1384.24 871.231,1384.24 \n",
       "  871.904,1384.24 872.577,1384.24 873.251,1384.24 873.924,1384.24 874.598,1384.24 875.271,1384.24 875.944,1384.24 876.618,1384.24 877.291,1384.24 877.965,1384.24 \n",
       "  878.638,1384.24 879.312,1384.24 879.985,1384.24 880.658,1384.24 881.332,1384.24 882.005,1384.24 882.679,1384.24 883.352,1384.24 884.026,1384.24 884.699,1384.24 \n",
       "  885.372,1384.24 886.046,1384.24 886.719,1384.24 887.393,1384.24 888.066,1384.24 888.739,1384.24 889.413,1384.24 890.086,1384.24 890.76,1384.24 891.433,1384.24 \n",
       "  892.107,1384.24 892.78,1384.24 893.453,1384.24 894.127,1384.24 894.8,1384.24 895.474,1384.24 896.147,1384.24 896.821,1384.24 897.494,1384.24 898.167,1384.24 \n",
       "  898.841,1384.24 899.514,1384.24 900.188,1384.24 900.861,1384.24 901.534,1384.24 902.208,1384.24 902.881,1384.24 903.555,1384.24 904.228,1384.24 904.902,1384.24 \n",
       "  905.575,1384.24 906.248,1384.24 906.922,1384.24 907.595,1384.24 908.269,1384.24 908.942,1384.24 909.616,1384.24 910.289,1384.24 910.962,1384.24 911.636,1384.24 \n",
       "  912.309,1384.24 912.983,1384.24 913.656,1384.24 914.329,1384.24 915.003,1384.24 915.676,1384.24 916.35,1384.24 917.023,1384.24 917.697,1384.24 918.37,1384.24 \n",
       "  919.043,1384.24 919.717,1384.24 920.39,1384.24 921.064,1384.24 921.737,1384.24 922.411,1384.24 923.084,1384.24 923.757,1384.24 924.431,1384.24 925.104,1384.24 \n",
       "  925.778,1384.24 926.451,1384.24 927.124,1384.24 927.798,1384.24 928.471,1384.24 929.145,1384.24 929.818,1384.24 930.492,1384.24 931.165,1384.24 931.838,1384.24 \n",
       "  932.512,1384.24 933.185,1384.24 933.859,1384.24 934.532,1384.24 935.206,1384.24 935.879,1384.24 936.552,1384.24 937.226,1384.24 937.899,1384.24 938.573,1384.24 \n",
       "  939.246,1384.24 939.919,1384.24 940.593,1384.24 941.266,1384.24 941.94,1384.24 942.613,1384.24 943.287,1384.24 943.96,1384.24 944.633,1384.24 945.307,1384.24 \n",
       "  945.98,1384.24 946.654,1384.24 947.327,1384.24 948.001,1384.24 948.674,1384.24 949.347,1384.24 950.021,1384.24 950.694,1384.24 951.368,1384.24 952.041,1384.24 \n",
       "  952.714,1384.24 953.388,1384.24 954.061,1384.24 954.735,1384.24 955.408,1384.24 956.082,1384.24 956.755,1384.24 957.428,1384.24 958.102,1384.24 958.775,1384.24 \n",
       "  959.449,1384.24 960.122,1384.24 960.795,1384.24 961.469,1384.24 962.142,1384.24 962.816,1384.24 963.489,1384.24 964.163,1384.24 964.836,1384.24 965.509,1384.24 \n",
       "  966.183,1384.24 966.856,1384.24 967.53,1384.24 968.203,1384.24 968.877,1384.24 969.55,1384.24 970.223,1384.24 970.897,1384.24 971.57,1384.24 972.244,1384.24 \n",
       "  972.917,1384.24 973.59,1384.24 974.264,1384.24 974.937,1384.24 975.611,1384.24 976.284,1384.24 976.958,1384.24 977.631,1384.24 978.304,1384.24 978.978,1384.24 \n",
       "  979.651,1384.24 980.325,1384.24 980.998,1384.24 981.672,1384.24 982.345,1384.24 983.018,1384.24 983.692,1384.24 984.365,1384.24 985.039,1384.24 985.712,1384.24 \n",
       "  986.385,1384.24 987.059,1384.24 987.732,1384.24 988.406,1384.24 989.079,1384.24 989.753,1384.24 990.426,1384.24 991.099,1384.24 991.773,1384.24 992.446,1384.24 \n",
       "  993.12,1384.24 993.793,1384.24 994.467,1384.24 995.14,1384.24 995.813,1384.24 996.487,1384.24 997.16,1384.24 997.834,1384.24 998.507,1384.24 999.18,1384.24 \n",
       "  999.854,1384.24 1000.53,1384.24 1001.2,1384.24 1001.87,1384.24 1002.55,1384.24 1003.22,1384.24 1003.89,1384.24 1004.57,1384.24 1005.24,1384.24 1005.91,1384.24 \n",
       "  1006.59,1384.24 1007.26,1384.24 1007.93,1384.24 1008.61,1384.24 1009.28,1384.24 1009.96,1384.24 1010.63,1384.24 1011.3,1384.24 1011.98,1384.24 1012.65,1384.24 \n",
       "  1013.32,1384.24 1014,1384.24 1014.67,1384.24 1015.34,1384.24 1016.02,1384.24 1016.69,1384.24 1017.36,1384.24 1018.04,1384.24 1018.71,1384.24 1019.38,1384.24 \n",
       "  1020.06,1384.24 1020.73,1384.24 1021.4,1384.24 1022.08,1384.24 1022.75,1384.24 1023.42,1384.24 1024.1,1384.24 1024.77,1384.24 1025.44,1384.24 1026.12,1384.24 \n",
       "  1026.79,1384.24 1027.46,1384.24 1028.14,1384.24 1028.81,1384.24 1029.48,1384.24 1030.16,1384.24 1030.83,1384.24 1031.5,1384.24 1032.18,1384.24 1032.85,1384.24 \n",
       "  1033.52,1384.24 1034.2,1384.24 1034.87,1384.24 1035.55,1384.24 1036.22,1384.24 1036.89,1384.24 1037.57,1384.24 1038.24,1384.24 1038.91,1384.24 1039.59,1384.24 \n",
       "  1040.26,1384.24 1040.93,1384.24 1041.61,1384.24 1042.28,1384.24 1042.95,1384.24 1043.63,1384.24 1044.3,1384.24 1044.97,1384.24 1045.65,1384.24 1046.32,1384.24 \n",
       "  1046.99,1384.24 1047.67,1384.24 1048.34,1384.24 1049.01,1384.24 1049.69,1384.24 1050.36,1384.24 1051.03,1384.24 1051.71,1384.24 1052.38,1384.24 1053.05,1384.24 \n",
       "  1053.73,1384.24 1054.4,1384.24 1055.07,1384.24 1055.75,1384.24 1056.42,1384.24 1057.09,1384.24 1057.77,1384.24 1058.44,1384.24 1059.11,1384.24 1059.79,1384.24 \n",
       "  1060.46,1384.24 1061.14,1384.24 1061.81,1384.24 1062.48,1384.24 1063.16,1384.24 1063.83,1384.24 1064.5,1384.24 1065.18,1384.24 1065.85,1384.24 1066.52,1384.24 \n",
       "  1067.2,1384.24 1067.87,1384.24 1068.54,1384.24 1069.22,1384.24 1069.89,1384.24 1070.56,1384.24 1071.24,1384.24 1071.91,1384.24 1072.58,1384.24 1073.26,1384.24 \n",
       "  1073.93,1384.24 1074.6,1384.24 1075.28,1384.24 1075.95,1384.24 1076.62,1384.24 1077.3,1384.24 1077.97,1384.24 1078.64,1384.24 1079.32,1384.24 1079.99,1384.24 \n",
       "  1080.66,1384.24 1081.34,1384.24 1082.01,1384.24 1082.68,1384.24 1083.36,1384.24 1084.03,1384.24 1084.7,1384.24 1085.38,1384.24 1086.05,1384.24 1086.73,1384.24 \n",
       "  1087.4,1384.24 1088.07,1384.24 1088.75,1384.24 1089.42,1384.24 1090.09,1384.24 1090.77,1384.24 1091.44,1384.24 1092.11,1384.24 1092.79,1384.24 1093.46,1384.24 \n",
       "  1094.13,1384.24 1094.81,1384.24 1095.48,1384.24 1096.15,1384.24 1096.83,1384.24 1097.5,1384.24 1098.17,1384.24 1098.85,1384.24 1099.52,1384.24 1100.19,1384.24 \n",
       "  1100.87,1384.24 1101.54,1384.24 1102.21,1384.24 1102.89,1384.24 1103.56,1384.24 1104.23,1384.24 1104.91,1384.24 1105.58,1384.24 1106.25,1384.24 1106.93,1384.24 \n",
       "  1107.6,1384.24 1108.27,1384.24 1108.95,1384.24 1109.62,1384.24 1110.29,1384.24 1110.97,1384.24 1111.64,1384.24 1112.32,1384.24 1112.99,1384.24 1113.66,1384.24 \n",
       "  1114.34,1384.24 1115.01,1384.24 1115.68,1384.24 1116.36,1384.24 1117.03,1384.24 1117.7,1384.24 1118.38,1384.24 1119.05,1384.24 1119.72,1384.24 1120.4,1384.24 \n",
       "  1121.07,1384.24 1121.74,1384.24 1122.42,1384.24 1123.09,1384.24 1123.76,1384.24 1124.44,1384.24 1125.11,1384.24 1125.78,1384.24 1126.46,1384.24 1127.13,1384.24 \n",
       "  1127.8,1384.24 1128.48,1384.24 1129.15,1384.24 1129.82,1384.24 1130.5,1384.24 1131.17,1384.24 1131.84,1384.24 1132.52,1384.24 1133.19,1384.24 1133.86,1384.24 \n",
       "  1134.54,1384.24 1135.21,1384.24 1135.88,1384.24 1136.56,1384.24 1137.23,1384.24 1137.91,1384.24 1138.58,1384.24 1139.25,1384.24 1139.93,1384.24 1140.6,1384.24 \n",
       "  1141.27,1384.24 1141.95,1384.24 1142.62,1384.24 1143.29,1384.24 1143.97,1384.24 1144.64,1384.24 1145.31,1384.24 1145.99,1384.24 1146.66,1384.24 1147.33,1384.24 \n",
       "  1148.01,1384.24 1148.68,1384.24 1149.35,1384.24 1150.03,1384.24 1150.7,1384.24 1151.37,1384.24 1152.05,1384.24 1152.72,1384.24 1153.39,1384.24 1154.07,1384.24 \n",
       "  1154.74,1384.24 1155.41,1384.24 1156.09,1384.24 1156.76,1384.24 1157.43,1384.24 1158.11,1384.24 1158.78,1384.24 1159.45,1384.24 1160.13,1384.24 1160.8,1384.24 \n",
       "  1161.47,1384.24 1162.15,1384.24 1162.82,1384.24 1163.5,1384.24 1164.17,1384.24 1164.84,1384.24 1165.52,1384.24 1166.19,1384.24 1166.86,1384.24 1167.54,1384.24 \n",
       "  1168.21,1384.24 1168.88,1384.24 1169.56,1384.24 1170.23,1384.24 1170.9,1384.24 1171.58,1384.24 1172.25,1384.24 1172.92,1384.24 1173.6,1384.24 1174.27,1384.24 \n",
       "  1174.94,1384.24 1175.62,1384.24 1176.29,1384.24 1176.96,1384.24 1177.64,1384.24 1178.31,1384.24 1178.98,1384.24 1179.66,1384.24 1180.33,1384.24 1181,1384.24 \n",
       "  1181.68,1384.24 1182.35,1384.24 1183.02,1384.24 1183.7,1384.24 1184.37,1384.24 1185.04,1384.24 1185.72,1384.24 1186.39,1384.24 1187.06,1384.24 1187.74,1384.24 \n",
       "  1188.41,1384.24 1189.09,1384.24 1189.76,1384.24 1190.43,1384.24 1191.11,1384.24 1191.78,1384.24 1192.45,1384.24 1193.13,1384.24 1193.8,1384.24 1194.47,1384.24 \n",
       "  1195.15,1384.24 1195.82,1384.24 1196.49,1384.24 1197.17,1384.24 1197.84,1384.24 1198.51,1384.24 1199.19,1384.24 1199.86,1384.24 1200.53,1384.24 1201.21,1384.24 \n",
       "  1201.88,1384.24 1202.55,1384.24 1203.23,1384.24 1203.9,1384.24 1204.57,1384.24 1205.25,1384.24 1205.92,1384.24 1206.59,1384.24 1207.27,1384.24 1207.94,1384.24 \n",
       "  1208.61,1384.24 1209.29,1384.24 1209.96,1384.24 1210.63,1384.24 1211.31,1384.24 1211.98,1384.24 1212.65,1384.24 1213.33,1384.24 1214,1384.24 1214.68,1384.24 \n",
       "  1215.35,1384.24 1216.02,1384.24 1216.7,1384.24 1217.37,1384.24 1218.04,1384.24 1218.72,1384.24 1219.39,1384.24 1220.06,1384.24 1220.74,1384.24 1221.41,1384.24 \n",
       "  1222.08,1384.24 1222.76,1384.24 1223.43,1384.24 1224.1,1384.24 1224.78,1384.24 1225.45,1384.24 1226.12,1384.24 1226.8,1384.24 1227.47,1384.24 1228.14,1384.24 \n",
       "  1228.82,1384.24 1229.49,1384.24 1230.16,1384.24 1230.84,1384.24 1231.51,1384.24 1232.18,1384.24 1232.86,1384.24 1233.53,1384.24 1234.2,1384.24 1234.88,1384.24 \n",
       "  1235.55,1384.24 1236.22,1384.24 1236.9,1384.24 1237.57,1384.24 1238.24,1384.24 1238.92,1384.24 1239.59,1384.24 1240.27,1384.24 1240.94,1384.24 1241.61,1384.24 \n",
       "  1242.29,1384.24 1242.96,1384.24 1243.63,1384.24 1244.31,1384.24 1244.98,1384.24 1245.65,1384.24 1246.33,1384.24 1247,1384.24 1247.67,1384.24 1248.35,1384.24 \n",
       "  1249.02,1384.24 1249.69,1384.24 1250.37,1384.24 1251.04,1384.24 1251.71,1384.24 1252.39,1384.24 1253.06,1384.24 1253.73,1384.24 1254.41,1384.24 1255.08,1384.24 \n",
       "  1255.75,1384.24 1256.43,1384.24 1257.1,1384.24 1257.77,1384.24 1258.45,1384.24 1259.12,1384.24 1259.79,1384.24 1260.47,1384.24 1261.14,1384.24 1261.81,1384.24 \n",
       "  1262.49,1384.24 1263.16,1384.24 1263.83,1384.24 1264.51,1384.24 1265.18,1384.24 1265.86,1384.24 1266.53,1384.24 1267.2,1384.24 1267.88,1384.24 1268.55,1384.24 \n",
       "  1269.22,1384.24 1269.9,1384.24 1270.57,1384.24 1271.24,1384.24 1271.92,1384.24 1272.59,1384.24 1273.26,1384.24 1273.94,1384.24 1274.61,1384.24 1275.28,1384.24 \n",
       "  1275.96,1384.24 1276.63,1384.24 1277.3,1384.24 1277.98,1384.24 1278.65,1384.24 1279.32,1384.24 1280,1384.24 1280.67,1384.24 1281.34,1384.24 1282.02,1384.24 \n",
       "  1282.69,1384.24 1283.36,1384.24 1284.04,1384.24 1284.71,1384.24 1285.38,1384.24 1286.06,1384.24 1286.73,1384.24 1287.4,1384.24 1288.08,1384.24 1288.75,1384.24 \n",
       "  1289.42,1384.24 1290.1,1384.24 1290.77,1384.24 1291.45,1384.24 1292.12,1384.24 1292.79,1384.24 1293.47,1384.24 1294.14,1384.24 1294.81,1384.24 1295.49,1384.24 \n",
       "  1296.16,1384.24 1296.83,1384.24 1297.51,1384.24 1298.18,1384.24 1298.85,1384.24 1299.53,1384.24 1300.2,1384.24 1300.87,1384.24 1301.55,1384.24 1302.22,1384.24 \n",
       "  1302.89,1384.24 1303.57,1384.24 1304.24,1384.24 1304.91,1384.24 1305.59,1384.24 1306.26,1384.24 1306.93,1384.24 1307.61,1384.24 1308.28,1384.24 1308.95,1384.24 \n",
       "  1309.63,1384.24 1310.3,1384.24 1310.97,1384.24 1311.65,1384.24 1312.32,1384.24 1312.99,1384.24 1313.67,1384.24 1314.34,1384.24 1315.01,1384.24 1315.69,1384.24 \n",
       "  1316.36,1384.24 1317.03,1384.24 1317.71,1384.24 1318.38,1384.24 1319.06,1384.24 1319.73,1384.24 1320.4,1384.24 1321.08,1384.24 1321.75,1384.24 1322.42,1384.24 \n",
       "  1323.1,1384.24 1323.77,1384.24 1324.44,1384.24 1325.12,1384.24 1325.79,1384.24 1326.46,1384.24 1327.14,1384.24 1327.81,1384.24 1328.48,1384.24 1329.16,1384.24 \n",
       "  1329.83,1384.24 1330.5,1384.24 1331.18,1384.24 1331.85,1384.24 1332.52,1384.24 1333.2,1384.24 1333.87,1384.24 1334.54,1384.24 1335.22,1384.24 1335.89,1384.24 \n",
       "  1336.56,1384.24 1337.24,1384.24 1337.91,1384.24 1338.58,1384.24 1339.26,1384.24 1339.93,1384.24 1340.6,1384.24 1341.28,1384.24 1341.95,1384.24 1342.62,1384.24 \n",
       "  1343.3,1384.24 1343.97,1384.24 1344.65,1384.24 1345.32,1384.24 1345.99,1384.24 1346.67,1384.24 1347.34,1384.24 1348.01,1384.24 1348.69,1384.24 1349.36,1384.24 \n",
       "  1350.03,1384.24 1350.71,1384.24 1351.38,1384.24 1352.05,1384.24 1352.73,1384.24 1353.4,1384.24 1354.07,1384.24 1354.75,1384.24 1355.42,1384.24 1356.09,1384.24 \n",
       "  1356.77,1384.24 1357.44,1384.24 1358.11,1384.24 1358.79,1384.24 1359.46,1384.24 1360.13,1384.24 1360.81,1384.24 1361.48,1384.24 1362.15,1384.24 1362.83,1384.24 \n",
       "  1363.5,1384.24 1364.17,1384.24 1364.85,1384.24 1365.52,1384.24 1366.19,1384.24 1366.87,1384.24 1367.54,1384.24 1368.21,1384.24 1368.89,1384.24 1369.56,1384.24 \n",
       "  1370.24,1384.24 1370.91,1384.24 1371.58,1384.24 1372.26,1384.24 1372.93,1384.24 1373.6,1384.24 1374.28,1384.24 1374.95,1384.24 1375.62,1384.24 1376.3,1384.24 \n",
       "  1376.97,1384.24 1377.64,1384.24 1378.32,1384.24 1378.99,1384.24 1379.66,1384.24 1380.34,1384.24 1381.01,1384.24 1381.68,1384.24 1382.36,1384.24 1383.03,1384.24 \n",
       "  1383.7,1384.24 1384.38,1384.24 1385.05,1384.24 1385.72,1384.24 1386.4,1384.24 1387.07,1384.24 1387.74,1384.24 1388.42,1384.24 1389.09,1384.24 1389.76,1384.24 \n",
       "  1390.44,1384.24 1391.11,1384.24 1391.78,1384.24 1392.46,1384.24 1393.13,1384.24 1393.8,1384.24 1394.48,1384.24 1395.15,1384.24 1395.83,1384.24 1396.5,1384.24 \n",
       "  1397.17,1384.24 1397.85,1384.24 1398.52,1384.24 1399.19,1384.24 1399.87,1384.24 1400.54,1384.24 1401.21,1384.24 1401.89,1384.24 1402.56,1384.24 1403.23,1384.24 \n",
       "  1403.91,1384.24 1404.58,1384.24 1405.25,1384.24 1405.93,1384.24 1406.6,1384.24 1407.27,1384.24 1407.95,1384.24 1408.62,1384.24 1409.29,1384.24 1409.97,1384.24 \n",
       "  1410.64,1384.24 1411.31,1384.24 1411.99,1384.24 1412.66,1384.24 1413.33,1384.24 1414.01,1384.24 1414.68,1384.24 1415.35,1384.24 1416.03,1384.24 1416.7,1384.24 \n",
       "  1417.37,1384.24 1418.05,1384.24 1418.72,1384.24 1419.39,1384.24 1420.07,1384.24 1420.74,1384.24 1421.42,1384.24 1422.09,1384.24 1422.76,1384.24 1423.44,1384.24 \n",
       "  1424.11,1384.24 1424.78,1384.24 1425.46,1384.24 1426.13,1384.24 1426.8,1384.24 1427.48,1384.24 1428.15,1384.24 1428.82,1384.24 1429.5,1384.24 1430.17,1384.24 \n",
       "  1430.84,1384.24 1431.52,1384.24 1432.19,1384.24 1432.86,1384.24 1433.54,1384.24 1434.21,1384.24 1434.88,1384.24 1435.56,1384.24 1436.23,1384.24 1436.9,1384.24 \n",
       "  1437.58,1384.24 1438.25,1384.24 1438.92,1384.24 1439.6,1384.24 1440.27,1384.24 1440.94,1384.24 1441.62,1384.24 1442.29,1384.24 1442.96,1384.24 1443.64,1384.24 \n",
       "  1444.31,1384.24 1444.98,1384.24 1445.66,1384.24 1446.33,1384.24 1447.01,1384.24 1447.68,1384.24 1448.35,1384.24 1449.03,1384.24 1449.7,1384.24 1450.37,1384.24 \n",
       "  1451.05,1384.24 1451.72,1384.24 1452.39,1384.24 1453.07,1384.24 1453.74,1384.24 1454.41,1384.24 1455.09,1384.24 1455.76,1384.24 1456.43,1384.24 1457.11,1384.24 \n",
       "  1457.78,1384.24 1458.45,1384.24 1459.13,1384.24 1459.8,1384.24 1460.47,1384.24 1461.15,1384.24 1461.82,1384.24 1462.49,1384.24 1463.17,1384.24 1463.84,1384.24 \n",
       "  1464.51,1384.24 1465.19,1384.24 1465.86,1384.24 1466.53,1384.24 1467.21,1384.24 1467.88,1384.24 1468.55,1384.24 1469.23,1384.24 1469.9,1384.24 1470.57,1384.24 \n",
       "  1471.25,1384.24 1471.92,1384.24 1472.6,1384.24 1473.27,1384.24 1473.94,1384.24 1474.62,1384.24 1475.29,1384.24 1475.96,1384.24 1476.64,1384.24 1477.31,1384.24 \n",
       "  1477.98,1384.24 1478.66,1384.24 1479.33,1384.24 1480,1384.24 1480.68,1384.24 1481.35,1384.24 1482.02,1384.24 1482.7,1384.24 1483.37,1384.24 1484.04,1384.24 \n",
       "  1484.72,1384.24 1485.39,1384.24 1486.06,1384.24 1486.74,1384.24 1487.41,1384.24 1488.08,1384.24 1488.76,1384.24 1489.43,1384.24 1490.1,1384.24 1490.78,1384.24 \n",
       "  1491.45,1384.24 1492.12,1384.24 1492.8,1384.24 1493.47,1384.24 1494.14,1384.24 1494.82,1384.24 1495.49,1384.24 1496.16,1384.24 1496.84,1384.24 1497.51,1384.24 \n",
       "  1498.19,1384.24 1498.86,1384.24 1499.53,1384.24 1500.21,1384.24 1500.88,1384.24 1501.55,1384.24 1502.23,1384.24 1502.9,1384.24 1503.57,1384.24 1504.25,1384.24 \n",
       "  1504.92,1384.24 1505.59,1384.24 1506.27,1384.24 1506.94,1384.24 1507.61,1384.24 1508.29,1384.24 1508.96,1384.24 1509.63,1384.24 1510.31,1384.24 1510.98,1384.24 \n",
       "  1511.65,1384.24 1512.33,1384.24 1513,1384.24 1513.67,1384.24 1514.35,1384.24 1515.02,1384.24 1515.69,1384.24 1516.37,1384.24 1517.04,1384.24 1517.71,1384.24 \n",
       "  1518.39,1384.24 1519.06,1384.24 1519.73,1384.24 1520.41,1384.24 1521.08,1384.24 1521.75,1384.24 1522.43,1384.24 1523.1,1384.24 1523.78,1384.24 1524.45,1384.24 \n",
       "  1525.12,1384.24 1525.8,1384.24 1526.47,1384.24 1527.14,1384.24 1527.82,1384.24 1528.49,1384.24 1529.16,1384.24 1529.84,1384.24 1530.51,1384.24 1531.18,1384.24 \n",
       "  1531.86,1384.24 1532.53,1384.24 1533.2,1384.24 1533.88,1384.24 1534.55,1384.24 1535.22,1384.24 1535.9,1384.24 1536.57,1384.24 1537.24,1384.24 1537.92,1384.24 \n",
       "  1538.59,1384.24 1539.26,1384.24 1539.94,1384.24 1540.61,1384.24 1541.28,1384.24 1541.96,1384.24 1542.63,1384.24 1543.3,1384.24 1543.98,1384.24 1544.65,1384.24 \n",
       "  1545.32,1384.24 1546,1384.24 1546.67,1384.24 1547.34,1384.24 1548.02,1384.24 1548.69,1384.24 1549.37,1384.24 1550.04,1384.24 1550.71,1384.24 1551.39,1384.24 \n",
       "  1552.06,1384.24 1552.73,1384.24 1553.41,1384.24 1554.08,1384.24 1554.75,1384.24 1555.43,1384.24 1556.1,1384.24 1556.77,1384.24 1557.45,1384.24 1558.12,1384.24 \n",
       "  1558.79,1384.24 1559.47,1384.24 1560.14,1384.24 1560.81,1384.24 1561.49,1384.24 1562.16,1384.24 1562.83,1384.24 1563.51,1384.24 1564.18,1384.24 1564.85,1384.24 \n",
       "  1565.53,1384.24 1566.2,1384.24 1566.87,1384.24 1567.55,1384.24 1568.22,1384.24 1568.89,1384.24 1569.57,1384.24 1570.24,1384.24 1570.91,1384.24 1571.59,1384.24 \n",
       "  1572.26,1384.24 1572.93,1384.24 1573.61,1384.24 1574.28,1384.24 1574.96,1384.24 1575.63,1384.24 1576.3,1384.24 1576.98,1384.24 1577.65,1384.24 1578.32,1384.24 \n",
       "  1579,1384.24 1579.67,1384.24 1580.34,1384.24 1581.02,1384.24 1581.69,1384.24 1582.36,1384.24 1583.04,1384.24 1583.71,1384.24 1584.38,1384.24 1585.06,1384.24 \n",
       "  1585.73,1384.24 1586.4,1384.24 1587.08,1384.24 1587.75,1384.24 1588.42,1384.24 1589.1,1384.24 1589.77,1384.24 1590.44,1384.24 1591.12,1384.24 1591.79,1384.24 \n",
       "  1592.46,1384.24 1593.14,1384.24 1593.81,1384.24 1594.48,1384.24 1595.16,1384.24 1595.83,1384.24 1596.5,1384.24 1597.18,1384.24 1597.85,1384.24 1598.52,1384.24 \n",
       "  1599.2,1384.24 1599.87,1384.24 1600.55,1384.24 1601.22,1384.24 1601.89,1384.24 1602.57,1384.24 1603.24,1384.24 1603.91,1384.24 1604.59,1384.24 1605.26,1384.24 \n",
       "  1605.93,1384.24 1606.61,1384.24 1607.28,1384.24 1607.95,1384.24 1608.63,1384.24 1609.3,1384.24 1609.97,1384.24 1610.65,1384.24 1611.32,1384.24 1611.99,1384.24 \n",
       "  1612.67,1384.24 1613.34,1384.24 1614.01,1384.24 1614.69,1384.24 1615.36,1384.24 1616.03,1384.24 1616.71,1384.24 1617.38,1384.24 1618.05,1384.24 1618.73,1384.24 \n",
       "  1619.4,1384.24 1620.07,1384.24 1620.75,1384.24 1621.42,1384.24 1622.09,1384.24 1622.77,1384.24 1623.44,1384.24 1624.11,1384.24 1624.79,1384.24 1625.46,1384.24 \n",
       "  1626.14,1384.24 1626.81,1384.24 1627.48,1384.24 1628.16,1384.24 1628.83,1384.24 1629.5,1384.24 1630.18,1384.24 1630.85,1384.24 1631.52,1384.24 1632.2,1384.24 \n",
       "  1632.87,1384.24 1633.54,1384.24 1634.22,1384.24 1634.89,1384.24 1635.56,1384.24 1636.24,1384.24 1636.91,1384.24 1637.58,1384.24 1638.26,1384.24 1638.93,1384.24 \n",
       "  1639.6,1384.24 1640.28,1384.24 1640.95,1384.24 1641.62,1384.24 1642.3,1384.24 1642.97,1384.24 1643.64,1384.24 1644.32,1384.24 1644.99,1384.24 1645.66,1384.24 \n",
       "  1646.34,1384.24 1647.01,1384.24 1647.68,1384.24 1648.36,1384.24 1649.03,1384.24 1649.7,1384.24 1650.38,1384.24 1651.05,1384.24 1651.73,1384.24 1652.4,1384.24 \n",
       "  1653.07,1384.24 1653.75,1384.24 1654.42,1384.24 1655.09,1384.24 1655.77,1384.24 1656.44,1384.24 1657.11,1384.24 1657.79,1384.24 1658.46,1384.24 1659.13,1384.24 \n",
       "  1659.81,1384.24 1660.48,1384.24 1661.15,1384.24 1661.83,1384.24 1662.5,1384.24 1663.17,1384.24 1663.85,1384.24 1664.52,1384.24 1665.19,1384.24 1665.87,1384.24 \n",
       "  1666.54,1384.24 1667.21,1384.24 1667.89,1384.24 1668.56,1384.24 1669.23,1384.24 1669.91,1384.24 1670.58,1384.24 1671.25,1384.24 1671.93,1384.24 1672.6,1384.24 \n",
       "  1673.27,1384.24 1673.95,1384.24 1674.62,1384.24 1675.29,1384.24 1675.97,1384.24 1676.64,1384.24 1677.32,1384.24 1677.99,1384.24 1678.66,1384.24 1679.34,1384.24 \n",
       "  1680.01,1384.24 1680.68,1384.24 1681.36,1384.24 1682.03,1384.24 1682.7,1384.24 1683.38,1384.24 1684.05,1384.24 1684.72,1384.24 1685.4,1384.24 1686.07,1384.24 \n",
       "  1686.74,1384.24 1687.42,1384.24 1688.09,1384.24 1688.76,1384.24 1689.44,1384.24 1690.11,1384.24 1690.78,1384.24 1691.46,1384.24 1692.13,1384.24 1692.8,1384.24 \n",
       "  1693.48,1384.24 1694.15,1384.24 1694.82,1384.24 1695.5,1384.24 1696.17,1384.24 1696.84,1384.24 1697.52,1384.24 1698.19,1384.24 1698.86,1384.24 1699.54,1384.24 \n",
       "  1700.21,1384.24 1700.88,1384.24 1701.56,1384.24 1702.23,1384.24 1702.91,1384.24 1703.58,1384.24 1704.25,1384.24 1704.93,1384.24 1705.6,1384.24 1706.27,1384.24 \n",
       "  1706.95,1384.24 1707.62,1384.24 1708.29,1384.24 1708.97,1384.24 1709.64,1384.24 1710.31,1384.24 1710.99,1384.24 1711.66,1384.24 1712.33,1384.24 1713.01,1384.24 \n",
       "  1713.68,1384.24 1714.35,1384.24 1715.03,1384.24 1715.7,1384.24 1716.37,1384.24 1717.05,1384.24 1717.72,1384.24 1718.39,1384.24 1719.07,1384.24 1719.74,1384.24 \n",
       "  1720.41,1384.24 1721.09,1384.24 1721.76,1384.24 1722.43,1384.24 1723.11,1384.24 1723.78,1384.24 1724.45,1384.24 1725.13,1384.24 1725.8,1384.24 1726.47,1384.24 \n",
       "  1727.15,1384.24 1727.82,1384.24 1728.49,1384.24 1729.17,1384.24 1729.84,1384.24 1730.52,1384.24 1731.19,1384.24 1731.86,1384.24 1732.54,1384.24 1733.21,1384.24 \n",
       "  1733.88,1384.24 1734.56,1384.24 1735.23,1384.24 1735.9,1384.24 1736.58,1384.24 1737.25,1384.24 1737.92,1384.24 1738.6,1384.24 1739.27,1384.24 1739.94,1384.24 \n",
       "  1740.62,1384.24 1741.29,1384.24 1741.96,1384.24 1742.64,1384.24 1743.31,1384.24 1743.98,1384.24 1744.66,1384.24 1745.33,1384.24 1746,1384.24 1746.68,1384.24 \n",
       "  1747.35,1384.24 1748.02,1384.24 1748.7,1384.24 1749.37,1384.24 1750.04,1384.24 1750.72,1384.24 1751.39,1384.24 1752.06,1384.24 1752.74,1384.24 1753.41,1384.24 \n",
       "  1754.08,1384.24 1754.76,1384.24 1755.43,1384.24 1756.11,1384.24 1756.78,1384.24 1757.45,1384.24 1758.13,1384.24 1758.8,1384.24 1759.47,1384.24 1760.15,1384.24 \n",
       "  1760.82,1384.24 1761.49,1384.24 1762.17,1384.24 1762.84,1384.24 1763.51,1384.24 1764.19,1384.24 1764.86,1384.24 1765.53,1384.24 1766.21,1384.24 1766.88,1384.24 \n",
       "  1767.55,1384.24 1768.23,1384.24 1768.9,1384.24 1769.57,1384.24 1770.25,1384.24 1770.92,1384.24 1771.59,1384.24 1772.27,1384.24 1772.94,1384.24 1773.61,1384.24 \n",
       "  1774.29,1384.24 1774.96,1384.24 1775.63,1384.24 1776.31,1384.24 1776.98,1384.24 1777.65,1384.24 1778.33,1384.24 1779,1384.24 1779.67,1384.24 1780.35,1384.24 \n",
       "  1781.02,1384.24 1781.7,1384.24 1782.37,1384.24 1783.04,1384.24 1783.72,1384.24 1784.39,1384.24 1785.06,1384.24 1785.74,1384.24 1786.41,1384.24 1787.08,1384.24 \n",
       "  1787.76,1384.24 1788.43,1384.24 1789.1,1384.24 1789.78,1384.24 1790.45,1384.24 1791.12,1384.24 1791.8,1384.24 1792.47,1384.24 1793.14,1384.24 1793.82,1384.24 \n",
       "  1794.49,1384.24 1795.16,1384.24 1795.84,1384.24 1796.51,1384.24 1797.18,1384.24 1797.86,1384.24 1798.53,1384.24 1799.2,1384.24 1799.88,1384.24 1800.55,1384.24 \n",
       "  1801.22,1384.24 1801.9,1384.24 1802.57,1384.24 1803.24,1384.24 1803.92,1384.24 1804.59,1384.24 1805.26,1384.24 1805.94,1384.24 1806.61,1384.24 1807.29,1384.24 \n",
       "  1807.96,1384.24 1808.63,1384.24 1809.31,1384.24 1809.98,1384.24 1810.65,1384.24 1811.33,1384.24 1812,1384.24 1812.67,1384.24 1813.35,1384.24 1814.02,1384.24 \n",
       "  1814.69,1384.24 1815.37,1384.24 1816.04,1384.24 1816.71,1384.24 1817.39,1384.24 1818.06,1384.24 1818.73,1384.24 1819.41,1384.24 1820.08,1384.24 1820.75,1384.24 \n",
       "  1821.43,1384.24 1822.1,1384.24 1822.77,1384.24 1823.45,1384.24 1824.12,1384.24 1824.79,1384.24 1825.47,1384.24 1826.14,1384.24 1826.81,1384.24 1827.49,1384.24 \n",
       "  1828.16,1384.24 1828.83,1384.24 1829.51,1384.24 1830.18,1384.24 1830.85,1384.24 1831.53,1384.24 1832.2,1384.24 1832.88,1384.24 1833.55,1384.24 1834.22,1384.24 \n",
       "  1834.9,1384.24 1835.57,1384.24 1836.24,1384.24 1836.92,1384.24 1837.59,1384.24 1838.26,1384.24 1838.94,1384.24 1839.61,1384.24 1840.28,1384.24 1840.96,1384.24 \n",
       "  1841.63,1384.24 1842.3,1384.24 1842.98,1384.24 1843.65,1384.24 1844.32,1384.24 1845,1384.24 1845.67,1384.24 1846.34,1384.24 1847.02,1384.24 1847.69,1384.24 \n",
       "  1848.36,1384.24 1849.04,1384.24 1849.71,1384.24 1850.38,1384.24 1851.06,1384.24 1851.73,1384.24 1852.4,1384.24 1853.08,1384.24 1853.75,1384.24 1854.42,1384.24 \n",
       "  1855.1,1384.24 1855.77,1384.24 1856.44,1384.24 1857.12,1384.24 1857.79,1384.24 1858.47,1384.24 1859.14,1384.24 1859.81,1384.24 1860.49,1384.24 1861.16,1384.24 \n",
       "  1861.83,1384.24 1862.51,1384.24 1863.18,1384.24 1863.85,1384.24 1864.53,1384.24 1865.2,1384.24 1865.87,1384.24 1866.55,1384.24 1867.22,1384.24 1867.89,1384.24 \n",
       "  1868.57,1384.24 1869.24,1384.24 1869.91,1384.24 1870.59,1384.24 1871.26,1384.24 1871.93,1384.24 1872.61,1384.24 1873.28,1384.24 1873.95,1384.24 1874.63,1384.24 \n",
       "  1875.3,1384.24 1875.97,1384.24 1876.65,1384.24 1877.32,1384.24 1877.99,1384.24 1878.67,1384.24 1879.34,1384.24 1880.01,1384.24 1880.69,1384.24 1881.36,1384.24 \n",
       "  1882.03,1384.24 1882.71,1384.24 1883.38,1384.24 1884.06,1384.24 1884.73,1384.24 1885.4,1384.24 1886.08,1384.24 1886.75,1384.24 1887.42,1384.24 1888.1,1384.24 \n",
       "  1888.77,1384.24 1889.44,1384.24 1890.12,1384.24 1890.79,1384.24 1891.46,1384.24 1892.14,1384.24 1892.81,1384.24 1893.48,1384.24 1894.16,1384.24 1894.83,1384.24 \n",
       "  1895.5,1384.24 1896.18,1384.24 1896.85,1384.24 1897.52,1384.24 1898.2,1384.24 1898.87,1384.24 1899.54,1384.24 1900.22,1384.24 1900.89,1384.24 1901.56,1384.24 \n",
       "  1902.24,1384.24 1902.91,1384.24 1903.58,1384.24 1904.26,1384.24 1904.93,1384.24 1905.6,1384.24 1906.28,1384.24 1906.95,1384.24 1907.62,1384.24 1908.3,1384.24 \n",
       "  1908.97,1384.24 1909.65,1384.24 1910.32,1384.24 1910.99,1384.24 1911.67,1384.24 1912.34,1384.24 1913.01,1384.24 1913.69,1384.24 1914.36,1384.24 1915.03,1384.24 \n",
       "  1915.71,1384.24 1916.38,1384.24 1917.05,1384.24 1917.73,1384.24 1918.4,1384.24 1919.07,1384.24 1919.75,1384.24 1920.42,1384.24 1921.09,1384.24 1921.77,1384.24 \n",
       "  1922.44,1384.24 1923.11,1384.24 1923.79,1384.24 1924.46,1384.24 1925.13,1384.24 1925.81,1384.24 1926.48,1384.24 1927.15,1384.24 1927.83,1384.24 1928.5,1384.24 \n",
       "  1929.17,1384.24 1929.85,1384.24 1930.52,1384.24 1931.19,1384.24 1931.87,1384.24 1932.54,1384.24 1933.21,1384.24 1933.89,1384.24 1934.56,1384.24 1935.24,1384.24 \n",
       "  1935.91,1384.24 1936.58,1384.24 1937.26,1384.24 1937.93,1384.24 1938.6,1384.24 1939.28,1384.24 1939.95,1384.24 1940.62,1384.24 1941.3,1384.24 1941.97,1384.24 \n",
       "  1942.64,1384.24 1943.32,1384.24 1943.99,1384.24 1944.66,1384.24 1945.34,1384.24 1946.01,1384.24 1946.68,1384.24 1947.36,1384.24 1948.03,1384.24 1948.7,1384.24 \n",
       "  1949.38,1384.24 1950.05,1384.24 1950.72,1384.24 1951.4,1384.24 1952.07,1384.24 1952.74,1384.24 1953.42,1384.24 1954.09,1384.24 1954.76,1384.24 1955.44,1384.24 \n",
       "  1956.11,1384.24 1956.78,1384.24 1957.46,1384.24 1958.13,1384.24 1958.8,1384.24 1959.48,1384.24 1960.15,1384.24 1960.83,1384.24 1961.5,1384.24 1962.17,1384.24 \n",
       "  1962.85,1384.24 1963.52,1384.24 1964.19,1384.24 1964.87,1384.24 1965.54,1384.24 1966.21,1384.24 1966.89,1384.24 1967.56,1384.24 1968.23,1384.24 1968.91,1384.24 \n",
       "  1969.58,1384.24 1970.25,1384.24 1970.93,1384.24 1971.6,1384.24 1972.27,1384.24 1972.95,1384.24 1973.62,1384.24 1974.29,1384.24 1974.97,1384.24 1975.64,1384.24 \n",
       "  1976.31,1384.24 1976.99,1384.24 1977.66,1384.24 1978.33,1384.24 1979.01,1384.24 1979.68,1384.24 1980.35,1384.24 1981.03,1384.24 1981.7,1384.24 1982.37,1384.24 \n",
       "  1983.05,1384.24 1983.72,1384.24 1984.39,1384.24 1985.07,1384.24 1985.74,1384.24 1986.42,1384.24 1987.09,1384.24 1987.76,1384.24 1988.44,1384.24 1989.11,1384.24 \n",
       "  1989.78,1384.24 1990.46,1384.24 1991.13,1384.24 1991.8,1384.24 1992.48,1384.24 1993.15,1384.24 1993.82,1384.24 1994.5,1384.24 1995.17,1384.24 1995.84,1384.24 \n",
       "  1996.52,1384.24 1997.19,1384.24 1997.86,1384.24 1998.54,1384.24 1999.21,1384.24 1999.88,1384.24 2000.56,1384.24 2001.23,1384.24 2001.9,1384.24 2002.58,1384.24 \n",
       "  2003.25,1384.24 2003.92,1384.24 2004.6,1384.24 2005.27,1384.24 2005.94,1384.24 2006.62,1384.24 2007.29,1384.24 2007.96,1384.24 2008.64,1384.24 2009.31,1384.24 \n",
       "  2009.98,1384.24 2010.66,1384.24 2011.33,1384.24 2012.01,1384.24 2012.68,1384.24 2013.35,1384.24 2014.03,1384.24 2014.7,1384.24 2015.37,1384.24 2016.05,1384.24 \n",
       "  2016.72,1384.24 2017.39,1384.24 2018.07,1384.24 2018.74,1384.24 2019.41,1384.24 2020.09,1384.24 2020.76,1384.24 2021.43,1384.24 2022.11,1384.24 2022.78,1384.24 \n",
       "  2023.45,1384.24 2024.13,1384.24 2024.8,1384.24 2025.47,1384.24 2026.15,1384.24 2026.82,1384.24 2027.49,1384.24 2028.17,1384.24 2028.84,1384.24 2029.51,1384.24 \n",
       "  2030.19,1384.24 2030.86,1384.24 2031.53,1384.24 2032.21,1384.24 2032.88,1384.24 2033.55,1384.24 2034.23,1384.24 2034.9,1384.24 2035.57,1384.24 2036.25,1384.24 \n",
       "  2036.92,1384.24 2037.6,1384.24 2038.27,1384.24 2038.94,1384.24 2039.62,1384.24 2040.29,1384.24 2040.96,1384.24 2041.64,1384.24 2042.31,1384.24 2042.98,1384.24 \n",
       "  2043.66,1384.24 2044.33,1384.24 2045,1384.24 2045.68,1384.24 2046.35,1384.24 2047.02,1384.24 2047.7,1384.24 2048.37,1384.24 2049.04,1384.24 2049.72,1384.24 \n",
       "  2050.39,1384.24 2051.06,1384.24 2051.74,1384.24 2052.41,1384.24 2053.08,1384.24 2053.76,1384.24 2054.43,1384.24 2055.1,1384.24 2055.78,1384.24 2056.45,1384.24 \n",
       "  2057.12,1384.24 2057.8,1384.24 2058.47,1384.24 2059.14,1384.24 2059.82,1384.24 2060.49,1384.24 2061.16,1384.24 2061.84,1384.24 2062.51,1384.24 2063.19,1384.24 \n",
       "  2063.86,1384.24 2064.53,1384.24 2065.21,1384.24 2065.88,1384.24 2066.55,1384.24 2067.23,1384.24 2067.9,1384.24 2068.57,1384.24 2069.25,1384.24 2069.92,1384.24 \n",
       "  2070.59,1384.24 2071.27,1384.24 2071.94,1384.24 2072.61,1384.24 2073.29,1384.24 2073.96,1384.24 2074.63,1384.24 2075.31,1384.24 2075.98,1384.24 2076.65,1384.24 \n",
       "  2077.33,1384.24 2078,1384.24 2078.67,1384.24 2079.35,1384.24 2080.02,1384.24 2080.69,1384.24 2081.37,1384.24 2082.04,1384.24 2082.71,1384.24 2083.39,1384.24 \n",
       "  2084.06,1384.24 2084.73,1384.24 2085.41,1384.24 2086.08,1384.24 2086.75,1384.24 2087.43,1384.24 2088.1,1384.24 2088.78,1384.24 2089.45,1384.24 2090.12,1384.24 \n",
       "  2090.8,1384.24 2091.47,1384.24 2092.14,1384.24 2092.82,1384.24 2093.49,1384.24 2094.16,1384.24 2094.84,1384.24 2095.51,1384.24 2096.18,1384.24 2096.86,1384.24 \n",
       "  2097.53,1384.24 2098.2,1384.24 2098.88,1384.24 2099.55,1384.24 2100.22,1384.24 2100.9,1384.24 2101.57,1384.24 2102.24,1384.24 2102.92,1384.24 2103.59,1384.24 \n",
       "  2104.26,1384.24 2104.94,1384.24 2105.61,1384.24 2106.28,1384.24 2106.96,1384.24 2107.63,1384.24 2108.3,1384.24 2108.98,1384.24 2109.65,1384.24 2110.32,1384.24 \n",
       "  2111,1384.24 2111.67,1384.24 2112.34,1384.24 2113.02,1384.24 2113.69,1384.24 2114.37,1384.24 2115.04,1384.24 2115.71,1384.24 2116.39,1384.24 2117.06,1384.24 \n",
       "  2117.73,1384.24 2118.41,1384.24 2119.08,1384.24 2119.75,1384.24 2120.43,1384.24 2121.1,1384.24 2121.77,1384.24 2122.45,1384.24 2123.12,1384.24 2123.79,1384.24 \n",
       "  2124.47,1384.24 2125.14,1384.24 2125.81,1384.24 2126.49,1384.24 2127.16,1384.24 2127.83,1384.24 2128.51,1384.24 2129.18,1384.24 2129.85,1384.24 2130.53,1384.24 \n",
       "  2131.2,1384.24 2131.87,1384.24 2132.55,1384.24 2133.22,1384.24 2133.89,1384.24 2134.57,1384.24 2135.24,1384.24 2135.91,1384.24 2136.59,1384.24 2137.26,1384.24 \n",
       "  2137.93,1384.24 2138.61,1384.24 2139.28,1384.24 2139.95,1384.24 2140.63,1384.24 2141.3,1384.24 2141.98,1384.24 2142.65,1384.24 2143.32,1384.24 2144,1384.24 \n",
       "  2144.67,1384.24 2145.34,1384.24 2146.02,1384.24 2146.69,1384.24 2147.36,1384.24 2148.04,1384.24 2148.71,1384.24 2149.38,1384.24 2150.06,1384.24 2150.73,1384.24 \n",
       "  2151.4,1384.24 2152.08,1384.24 2152.75,1384.24 2153.42,1384.24 2154.1,1384.24 2154.77,1384.24 2155.44,1384.24 2156.12,1384.24 2156.79,1384.24 2157.46,1384.24 \n",
       "  2158.14,1384.24 2158.81,1384.24 2159.48,1384.24 2160.16,1384.24 2160.83,1384.24 2161.5,1384.24 2162.18,1384.24 2162.85,1384.24 2163.52,1384.24 2164.2,1384.24 \n",
       "  2164.87,1384.24 2165.54,1384.24 2166.22,1384.24 2166.89,1384.24 2167.57,1384.24 2168.24,1384.24 2168.91,1384.24 2169.59,1384.24 2170.26,1384.24 2170.93,1384.24 \n",
       "  2171.61,1384.24 2172.28,1384.24 2172.95,1384.24 2173.63,1384.24 2174.3,1384.24 2174.97,1384.24 2175.65,1384.24 2176.32,1384.24 2176.99,1384.24 2177.67,1384.24 \n",
       "  2178.34,1384.24 2179.01,1384.24 2179.69,1384.24 2180.36,1384.24 2181.03,1384.24 2181.71,1384.24 2182.38,1384.24 2183.05,1384.24 2183.73,1384.24 2184.4,1384.24 \n",
       "  2185.07,1384.24 2185.75,1384.24 2186.42,1384.24 2187.09,1384.24 2187.77,1384.24 2188.44,1384.24 2189.11,1384.24 2189.79,1384.24 2190.46,1384.24 2191.13,1384.24 \n",
       "  2191.81,1384.24 2192.48,1384.24 2193.16,1384.24 2193.83,1384.24 2194.5,1384.24 2195.18,1384.24 2195.85,1384.24 2196.52,1384.24 2197.2,1384.24 2197.87,1384.24 \n",
       "  2198.54,1384.24 2199.22,1384.24 2199.89,1384.24 2200.56,1384.24 2201.24,1384.24 2201.91,1384.24 2202.58,1384.24 2203.26,1384.24 2203.93,1384.24 2204.6,1384.24 \n",
       "  2205.28,1384.24 2205.95,1384.24 2206.62,1384.24 2207.3,1384.24 2207.97,1384.24 2208.64,1384.24 2209.32,1384.24 2209.99,1384.24 2210.66,1384.24 2211.34,1384.24 \n",
       "  2212.01,1384.24 2212.68,1384.24 2213.36,1384.24 2214.03,1384.24 2214.7,1384.24 2215.38,1384.24 2216.05,1384.24 2216.72,1384.24 2217.4,1384.24 2218.07,1384.24 \n",
       "  2218.75,1384.24 2219.42,1384.24 2220.09,1384.24 2220.77,1384.24 2221.44,1384.24 2222.11,1384.24 2222.79,1384.24 2223.46,1384.24 2224.13,1384.24 2224.81,1384.24 \n",
       "  2225.48,1384.24 2226.15,1384.24 2226.83,1384.24 2227.5,1384.24 2228.17,1384.24 2228.85,1384.24 2229.52,1384.24 2230.19,1384.24 2230.87,1384.24 2231.54,1384.24 \n",
       "  2232.21,1384.24 2232.89,1384.24 2233.56,1384.24 2234.23,1384.24 2234.91,1384.24 2235.58,1384.24 2236.25,1384.24 2236.93,1384.24 2237.6,1384.24 2238.27,1384.24 \n",
       "  2238.95,1384.24 2239.62,1384.24 2240.29,1384.24 2240.97,1384.24 2241.64,1384.24 2242.31,1384.24 2242.99,1384.24 2243.66,1384.24 2244.34,1384.24 2245.01,1384.24 \n",
       "  2245.68,1384.24 2246.36,1384.24 2247.03,1384.24 2247.7,1384.24 2248.38,1384.24 2249.05,1384.24 2249.72,1384.24 2250.4,1384.24 2251.07,1384.24 2251.74,1384.24 \n",
       "  2252.42,1384.24 2253.09,1384.24 2253.76,1384.24 2254.44,1384.24 2255.11,1384.24 2255.78,1384.24 2256.46,1384.24 2257.13,1384.24 2257.8,1384.24 2258.48,1384.24 \n",
       "  2259.15,1384.24 2259.82,1384.24 2260.5,1384.24 2261.17,1384.24 2261.84,1384.24 2262.52,1384.24 2263.19,1384.24 2263.86,1384.24 2264.54,1384.24 2265.21,1384.24 \n",
       "  2265.88,1384.24 2266.56,1384.24 2267.23,1384.24 2267.9,1384.24 2268.58,1384.24 2269.25,1384.24 2269.93,1384.24 2270.6,1384.24 2271.27,1384.24 2271.95,1384.24 \n",
       "  2272.62,1384.24 2273.29,1384.24 2273.97,1384.24 2274.64,1384.24 2275.31,1384.24 2275.99,1384.24 2276.66,1384.24 2277.33,1384.24 2278.01,1384.24 2278.68,1384.24 \n",
       "  2279.35,1384.24 2280.03,1384.24 2280.7,1384.24 2281.37,1384.24 2282.05,1384.24 2282.72,1384.24 2283.39,1384.24 2284.07,1384.24 2284.74,1384.24 2285.41,1384.24 \n",
       "  2286.09,1384.24 2286.76,1384.24 2287.43,1384.24 2288.11,1384.24 2288.78,1384.24 2289.45,1384.24 2290.13,1384.24 2290.8,1384.24 2291.47,1384.24 2292.15,1384.24 \n",
       "  \n",
       "  \"/>\n",
       "<path clip-path=\"url(#clip310)\" d=\"\n",
       "M1844.1 274.549 L2281.37 274.549 L2281.37 93.1086 L1844.1 93.1086  Z\n",
       "  \" fill=\"#ffffff\" fill-rule=\"evenodd\" fill-opacity=\"1\"/>\n",
       "<polyline clip-path=\"url(#clip310)\" style=\"stroke:#000000; stroke-width:4; stroke-opacity:1; fill:none\" points=\"\n",
       "  1844.1,274.549 2281.37,274.549 2281.37,93.1086 1844.1,93.1086 1844.1,274.549 \n",
       "  \"/>\n",
       "<polyline clip-path=\"url(#clip310)\" style=\"stroke:#009af9; stroke-width:4; stroke-opacity:1; fill:none\" points=\"\n",
       "  1867.9,153.589 2010.66,153.589 \n",
       "  \"/>\n",
       "<path clip-path=\"url(#clip310)\" d=\"M 0 0 M2047.65 170.869 L2034.46 136.309 L2039.34 136.309 L2050.29 165.406 L2061.26 136.309 L2066.12 136.309 L2052.95 170.869 L2047.65 170.869 Z\" fill=\"#000000\" fill-rule=\"evenodd\" fill-opacity=\"1\" /><path clip-path=\"url(#clip310)\" d=\"M 0 0 M2078.69 157.836 Q2073.53 157.836 2071.54 159.017 Q2069.55 160.197 2069.55 163.045 Q2069.55 165.313 2071.03 166.656 Q2072.54 167.975 2075.11 167.975 Q2078.65 167.975 2080.78 165.475 Q2082.93 162.952 2082.93 158.785 L2082.93 157.836 L2078.69 157.836 M2087.19 156.077 L2087.19 170.869 L2082.93 170.869 L2082.93 166.933 Q2081.47 169.295 2079.3 170.429 Q2077.12 171.54 2073.97 171.54 Q2069.99 171.54 2067.63 169.318 Q2065.29 167.072 2065.29 163.322 Q2065.29 158.947 2068.21 156.725 Q2071.15 154.503 2076.96 154.503 L2082.93 154.503 L2082.93 154.086 Q2082.93 151.147 2080.98 149.549 Q2079.06 147.929 2075.57 147.929 Q2073.35 147.929 2071.24 148.461 Q2069.13 148.994 2067.19 150.059 L2067.19 146.123 Q2069.53 145.221 2071.73 144.781 Q2073.92 144.318 2076.01 144.318 Q2081.63 144.318 2084.41 147.234 Q2087.19 150.151 2087.19 156.077 Z\" fill=\"#000000\" fill-rule=\"evenodd\" fill-opacity=\"1\" /><path clip-path=\"url(#clip310)\" d=\"M 0 0 M2091.66 134.85 L2095.92 134.85 L2095.92 170.869 L2091.66 170.869 L2091.66 134.85 Z\" fill=\"#000000\" fill-rule=\"evenodd\" fill-opacity=\"1\" /><path clip-path=\"url(#clip310)\" d=\"M 0 0 M2100.38 144.943 L2104.64 144.943 L2104.64 170.869 L2100.38 170.869 L2100.38 144.943 M2100.38 134.85 L2104.64 134.85 L2104.64 140.244 L2100.38 140.244 L2100.38 134.85 Z\" fill=\"#000000\" fill-rule=\"evenodd\" fill-opacity=\"1\" /><path clip-path=\"url(#clip310)\" d=\"M 0 0 M2126.17 148.878 L2126.17 134.85 L2130.43 134.85 L2130.43 170.869 L2126.17 170.869 L2126.17 166.98 Q2124.83 169.295 2122.77 170.429 Q2120.73 171.54 2117.86 171.54 Q2113.16 171.54 2110.2 167.79 Q2107.26 164.04 2107.26 157.929 Q2107.26 151.818 2110.2 148.068 Q2113.16 144.318 2117.86 144.318 Q2120.73 144.318 2122.77 145.452 Q2124.83 146.563 2126.17 148.878 M2111.66 157.929 Q2111.66 162.628 2113.58 165.313 Q2115.52 167.975 2118.9 167.975 Q2122.28 167.975 2124.23 165.313 Q2126.17 162.628 2126.17 157.929 Q2126.17 153.23 2124.23 150.568 Q2122.28 147.883 2118.9 147.883 Q2115.52 147.883 2113.58 150.568 Q2111.66 153.23 2111.66 157.929 Z\" fill=\"#000000\" fill-rule=\"evenodd\" fill-opacity=\"1\" /><path clip-path=\"url(#clip310)\" d=\"M 0 0 M2146.68 157.836 Q2141.52 157.836 2139.53 159.017 Q2137.54 160.197 2137.54 163.045 Q2137.54 165.313 2139.02 166.656 Q2140.52 167.975 2143.09 167.975 Q2146.63 167.975 2148.76 165.475 Q2150.92 162.952 2150.92 158.785 L2150.92 157.836 L2146.68 157.836 M2155.17 156.077 L2155.17 170.869 L2150.92 170.869 L2150.92 166.933 Q2149.46 169.295 2147.28 170.429 Q2145.1 171.54 2141.96 171.54 Q2137.98 171.54 2135.61 169.318 Q2133.28 167.072 2133.28 163.322 Q2133.28 158.947 2136.19 156.725 Q2139.13 154.503 2144.94 154.503 L2150.92 154.503 L2150.92 154.086 Q2150.92 151.147 2148.97 149.549 Q2147.05 147.929 2143.55 147.929 Q2141.33 147.929 2139.23 148.461 Q2137.12 148.994 2135.17 150.059 L2135.17 146.123 Q2137.51 145.221 2139.71 144.781 Q2141.91 144.318 2143.99 144.318 Q2149.62 144.318 2152.4 147.234 Q2155.17 150.151 2155.17 156.077 Z\" fill=\"#000000\" fill-rule=\"evenodd\" fill-opacity=\"1\" /><path clip-path=\"url(#clip310)\" d=\"M 0 0 M2163.85 137.582 L2163.85 144.943 L2172.63 144.943 L2172.63 148.253 L2163.85 148.253 L2163.85 162.327 Q2163.85 165.498 2164.71 166.401 Q2165.59 167.304 2168.25 167.304 L2172.63 167.304 L2172.63 170.869 L2168.25 170.869 Q2163.32 170.869 2161.45 169.04 Q2159.57 167.188 2159.57 162.327 L2159.57 148.253 L2156.45 148.253 L2156.45 144.943 L2159.57 144.943 L2159.57 137.582 L2163.85 137.582 Z\" fill=\"#000000\" fill-rule=\"evenodd\" fill-opacity=\"1\" /><path clip-path=\"url(#clip310)\" d=\"M 0 0 M2177.1 144.943 L2181.35 144.943 L2181.35 170.869 L2177.1 170.869 L2177.1 144.943 M2177.1 134.85 L2181.35 134.85 L2181.35 140.244 L2177.1 140.244 L2177.1 134.85 Z\" fill=\"#000000\" fill-rule=\"evenodd\" fill-opacity=\"1\" /><path clip-path=\"url(#clip310)\" d=\"M 0 0 M2195.87 147.929 Q2192.44 147.929 2190.45 150.614 Q2188.46 153.276 2188.46 157.929 Q2188.46 162.582 2190.43 165.267 Q2192.42 167.929 2195.87 167.929 Q2199.27 167.929 2201.26 165.244 Q2203.25 162.558 2203.25 157.929 Q2203.25 153.322 2201.26 150.637 Q2199.27 147.929 2195.87 147.929 M2195.87 144.318 Q2201.42 144.318 2204.6 147.929 Q2207.77 151.54 2207.77 157.929 Q2207.77 164.295 2204.6 167.929 Q2201.42 171.54 2195.87 171.54 Q2190.29 171.54 2187.12 167.929 Q2183.97 164.295 2183.97 157.929 Q2183.97 151.54 2187.12 147.929 Q2190.29 144.318 2195.87 144.318 Z\" fill=\"#000000\" fill-rule=\"evenodd\" fill-opacity=\"1\" /><path clip-path=\"url(#clip310)\" d=\"M 0 0 M2233.78 155.221 L2233.78 170.869 L2229.53 170.869 L2229.53 155.359 Q2229.53 151.679 2228.09 149.85 Q2226.66 148.022 2223.78 148.022 Q2220.34 148.022 2218.35 150.221 Q2216.35 152.42 2216.35 156.216 L2216.35 170.869 L2212.07 170.869 L2212.07 144.943 L2216.35 144.943 L2216.35 148.971 Q2217.88 146.633 2219.94 145.475 Q2222.03 144.318 2224.73 144.318 Q2229.2 144.318 2231.49 147.096 Q2233.78 149.85 2233.78 155.221 Z\" fill=\"#000000\" fill-rule=\"evenodd\" fill-opacity=\"1\" /><polyline clip-path=\"url(#clip310)\" style=\"stroke:#e26f46; stroke-width:4; stroke-opacity:1; fill:none\" points=\"\n",
       "  1867.9,214.069 2010.66,214.069 \n",
       "  \"/>\n",
       "<path clip-path=\"url(#clip310)\" d=\"M 0 0 M2034.46 196.789 L2063.69 196.789 L2063.69 200.724 L2051.42 200.724 L2051.42 231.349 L2046.73 231.349 L2046.73 200.724 L2034.46 200.724 L2034.46 196.789 Z\" fill=\"#000000\" fill-rule=\"evenodd\" fill-opacity=\"1\" /><path clip-path=\"url(#clip310)\" d=\"M 0 0 M2076.22 209.404 Q2075.5 208.988 2074.64 208.802 Q2073.81 208.594 2072.79 208.594 Q2069.18 208.594 2067.23 210.955 Q2065.31 213.293 2065.31 217.691 L2065.31 231.349 L2061.03 231.349 L2061.03 205.423 L2065.31 205.423 L2065.31 209.451 Q2066.66 207.089 2068.81 205.955 Q2070.96 204.798 2074.04 204.798 Q2074.48 204.798 2075.01 204.867 Q2075.55 204.914 2076.19 205.029 L2076.22 209.404 Z\" fill=\"#000000\" fill-rule=\"evenodd\" fill-opacity=\"1\" /><path clip-path=\"url(#clip310)\" d=\"M 0 0 M2092.47 218.316 Q2087.3 218.316 2085.31 219.497 Q2083.32 220.677 2083.32 223.525 Q2083.32 225.793 2084.8 227.136 Q2086.31 228.455 2088.88 228.455 Q2092.42 228.455 2094.55 225.955 Q2096.7 223.432 2096.7 219.265 L2096.7 218.316 L2092.47 218.316 M2100.96 216.557 L2100.96 231.349 L2096.7 231.349 L2096.7 227.413 Q2095.24 229.775 2093.07 230.909 Q2090.89 232.02 2087.74 232.02 Q2083.76 232.02 2081.4 229.798 Q2079.06 227.552 2079.06 223.802 Q2079.06 219.427 2081.98 217.205 Q2084.92 214.983 2090.73 214.983 L2096.7 214.983 L2096.7 214.566 Q2096.7 211.627 2094.76 210.029 Q2092.84 208.409 2089.34 208.409 Q2087.12 208.409 2085.01 208.941 Q2082.91 209.474 2080.96 210.539 L2080.96 206.603 Q2083.3 205.701 2085.5 205.261 Q2087.7 204.798 2089.78 204.798 Q2095.41 204.798 2098.18 207.714 Q2100.96 210.631 2100.96 216.557 Z\" fill=\"#000000\" fill-rule=\"evenodd\" fill-opacity=\"1\" /><path clip-path=\"url(#clip310)\" d=\"M 0 0 M2105.43 205.423 L2109.69 205.423 L2109.69 231.349 L2105.43 231.349 L2105.43 205.423 M2105.43 195.33 L2109.69 195.33 L2109.69 200.724 L2105.43 200.724 L2105.43 195.33 Z\" fill=\"#000000\" fill-rule=\"evenodd\" fill-opacity=\"1\" /><path clip-path=\"url(#clip310)\" d=\"M 0 0 M2135.71 215.701 L2135.71 231.349 L2131.45 231.349 L2131.45 215.839 Q2131.45 212.159 2130.01 210.33 Q2128.58 208.502 2125.71 208.502 Q2122.26 208.502 2120.27 210.701 Q2118.28 212.9 2118.28 216.696 L2118.28 231.349 L2113.99 231.349 L2113.99 205.423 L2118.28 205.423 L2118.28 209.451 Q2119.8 207.113 2121.86 205.955 Q2123.95 204.798 2126.66 204.798 Q2131.12 204.798 2133.42 207.576 Q2135.71 210.33 2135.71 215.701 Z\" fill=\"#000000\" fill-rule=\"evenodd\" fill-opacity=\"1\" /><path clip-path=\"url(#clip310)\" d=\"M 0 0 M2140.17 205.423 L2144.43 205.423 L2144.43 231.349 L2140.17 231.349 L2140.17 205.423 M2140.17 195.33 L2144.43 195.33 L2144.43 200.724 L2140.17 200.724 L2140.17 195.33 Z\" fill=\"#000000\" fill-rule=\"evenodd\" fill-opacity=\"1\" /><path clip-path=\"url(#clip310)\" d=\"M 0 0 M2170.45 215.701 L2170.45 231.349 L2166.19 231.349 L2166.19 215.839 Q2166.19 212.159 2164.76 210.33 Q2163.32 208.502 2160.45 208.502 Q2157 208.502 2155.01 210.701 Q2153.02 212.9 2153.02 216.696 L2153.02 231.349 L2148.74 231.349 L2148.74 205.423 L2153.02 205.423 L2153.02 209.451 Q2154.55 207.113 2156.61 205.955 Q2158.69 204.798 2161.4 204.798 Q2165.87 204.798 2168.16 207.576 Q2170.45 210.33 2170.45 215.701 Z\" fill=\"#000000\" fill-rule=\"evenodd\" fill-opacity=\"1\" /><path clip-path=\"url(#clip310)\" d=\"M 0 0 M2191.98 218.085 Q2191.98 213.455 2190.06 210.909 Q2188.16 208.363 2184.71 208.363 Q2181.29 208.363 2179.36 210.909 Q2177.47 213.455 2177.47 218.085 Q2177.47 222.691 2179.36 225.238 Q2181.29 227.784 2184.71 227.784 Q2188.16 227.784 2190.06 225.238 Q2191.98 222.691 2191.98 218.085 M2196.24 228.131 Q2196.24 234.751 2193.3 237.969 Q2190.36 241.21 2184.29 241.21 Q2182.05 241.21 2180.06 240.862 Q2178.07 240.538 2176.19 239.844 L2176.19 235.7 Q2178.07 236.719 2179.9 237.205 Q2181.73 237.691 2183.62 237.691 Q2187.81 237.691 2189.9 235.492 Q2191.98 233.316 2191.98 228.895 L2191.98 226.788 Q2190.66 229.08 2188.6 230.214 Q2186.54 231.349 2183.67 231.349 Q2178.9 231.349 2175.98 227.714 Q2173.07 224.08 2173.07 218.085 Q2173.07 212.066 2175.98 208.432 Q2178.9 204.798 2183.67 204.798 Q2186.54 204.798 2188.6 205.932 Q2190.66 207.066 2191.98 209.358 L2191.98 205.423 L2196.24 205.423 L2196.24 228.131 Z\" fill=\"#000000\" fill-rule=\"evenodd\" fill-opacity=\"1\" /></svg>\n"
      ]
     },
     "execution_count": 369,
     "metadata": {},
     "output_type": "execute_result"
    }
   ],
   "source": [
    "plot(curve.parameter_values,\n",
    "     curve.measurements,\n",
    "     xlab=curve.parameter_name,\n",
    "     ylab=\"Cross Entropy\",\n",
    "     label=\"Validation\", lw=2)\n",
    "plot!(Final_Net.report.training_losses, label=\"Training\", lw=2)"
   ]
  },
  {
   "cell_type": "code",
   "execution_count": null,
   "metadata": {},
   "outputs": [
    {
     "name": "stderr",
     "output_type": "stream",
     "text": [
      "\u001b[33mEvaluating over 6 folds:  67%[================>        ]  ETA: 0:00:56\u001b[39m"
     ]
    }
   ],
   "source": [
    "nn_acc = evaluate!(Final_Net, resampling=CV(shuffle=true), measure=[cross_entropy, acc], verbosity=1)"
   ]
  },
  {
   "cell_type": "code",
   "execution_count": 215,
   "metadata": {},
   "outputs": [],
   "source": [
    "ŷ = MLJ.predict(Final_Net, X_stand[test,:]);"
   ]
  },
  {
   "cell_type": "code",
   "execution_count": 216,
   "metadata": {},
   "outputs": [
    {
     "data": {
      "text/plain": [
       "0.59533566f0"
      ]
     },
     "execution_count": 216,
     "metadata": {},
     "output_type": "execute_result"
    }
   ],
   "source": [
    "cross_entropy(ŷ, y[test]) |> mean"
   ]
  },
  {
   "cell_type": "code",
   "execution_count": 143,
   "metadata": {},
   "outputs": [
    {
     "data": {
      "text/plain": [
       "0.9893048128342246"
      ]
     },
     "execution_count": 143,
     "metadata": {},
     "output_type": "execute_result"
    }
   ],
   "source": [
    "acc(ŷ, y[test])"
   ]
  },
  {
   "cell_type": "code",
   "execution_count": 144,
   "metadata": {},
   "outputs": [
    {
     "name": "stderr",
     "output_type": "stream",
     "text": [
      "┌ Warning: The classes are un-ordered,\n",
      "│ using order: [\"B\", \"L\", \"R\"].\n",
      "│ To suppress this warning, consider coercing to OrderedFactor.\n",
      "└ @ MLJBase /home/andrew/.julia/packages/MLJBase/uKzAz/src/measures/confusion_matrix.jl:87\n"
     ]
    },
    {
     "data": {
      "text/plain": [
       "              ┌─────────────────────────────────────────┐\n",
       "              │              Ground Truth               │\n",
       "┌─────────────┼─────────────┬─────────────┬─────────────┤\n",
       "│  Predicted  │      B      │      L      │      R      │\n",
       "├─────────────┼─────────────┼─────────────┼─────────────┤\n",
       "│      B      │     15      │      2      │      0      │\n",
       "├─────────────┼─────────────┼─────────────┼─────────────┤\n",
       "│      L      │      0      │     84      │      0      │\n",
       "├─────────────┼─────────────┼─────────────┼─────────────┤\n",
       "│      R      │      0      │      0      │     86      │\n",
       "└─────────────┴─────────────┴─────────────┴─────────────┘\n"
      ]
     },
     "execution_count": 144,
     "metadata": {},
     "output_type": "execute_result"
    }
   ],
   "source": [
    "confusion_matrix(mode.(ŷ), y[test])"
   ]
  },
  {
   "cell_type": "code",
   "execution_count": 145,
   "metadata": {},
   "outputs": [
    {
     "data": {
      "text/plain": [
       "(chain = Chain(Chain(Dense(4, 86, σ), Dense(86, 5, σ), Dense(5, 3, σ)), softmax),)"
      ]
     },
     "execution_count": 145,
     "metadata": {},
     "output_type": "execute_result"
    }
   ],
   "source": [
    "fitted_params(Final_Net)"
   ]
  },
  {
   "cell_type": "code",
   "execution_count": 146,
   "metadata": {
    "scrolled": true
   },
   "outputs": [
    {
     "data": {
      "text/plain": [
       "(training_losses = Any[0.93861085f0, 0.85701746f0, 0.742968f0, 0.7048983f0, 0.6880919f0, 0.6754444f0, 0.6683963f0, 0.66306496f0, 0.6590002f0, 0.6558289f0  …  0.5949696f0, 0.5949696f0, 0.5949696f0, 0.5949696f0, 0.5949696f0, 0.5949696f0, 0.5949696f0, 0.5949696f0, 0.5949696f0, 0.5949696f0],)"
      ]
     },
     "execution_count": 146,
     "metadata": {},
     "output_type": "execute_result"
    }
   ],
   "source": [
    "report(Final_Net)"
   ]
  },
  {
   "cell_type": "code",
   "execution_count": null,
   "metadata": {},
   "outputs": [],
   "source": []
  },
  {
   "cell_type": "code",
   "execution_count": null,
   "metadata": {},
   "outputs": [],
   "source": []
  },
  {
   "cell_type": "code",
   "execution_count": null,
   "metadata": {},
   "outputs": [],
   "source": []
  },
  {
   "cell_type": "markdown",
   "metadata": {},
   "source": [
    "A lot slower than Holdout"
   ]
  },
  {
   "cell_type": "code",
   "execution_count": null,
   "metadata": {},
   "outputs": [],
   "source": [
    "# self_tuning_nn_model = TunedModel(model=nn,\n",
    "#                                     tuning=Grid(goal=50),\n",
    "#                                     resampling=CV(), \n",
    "#                                     measure=cross_entropy,\n",
    "#                                     acceleration=CPUThreads(),\n",
    "#                                     range=[r_its, r_lr])\n",
    "\n",
    "# self_tuning_nn = machine(self_tuning_nn_model, X_stand, y)"
   ]
  },
  {
   "cell_type": "code",
   "execution_count": null,
   "metadata": {},
   "outputs": [],
   "source": [
    "# fit!(self_tuning_nn)"
   ]
  },
  {
   "cell_type": "code",
   "execution_count": null,
   "metadata": {},
   "outputs": [],
   "source": [
    "# plot(self_tuning_nn)"
   ]
  }
 ],
 "metadata": {
  "kernelspec": {
   "display_name": "Julia 1.5.0",
   "language": "julia",
   "name": "julia-1.5"
  },
  "language_info": {
   "file_extension": ".jl",
   "mimetype": "application/julia",
   "name": "julia",
   "version": "1.5.0"
  }
 },
 "nbformat": 4,
 "nbformat_minor": 4
}
